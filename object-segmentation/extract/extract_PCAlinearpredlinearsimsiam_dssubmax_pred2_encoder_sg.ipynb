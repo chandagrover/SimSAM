{
 "cells": [
  {
   "cell_type": "code",
   "execution_count": 1,
   "metadata": {
    "pycharm": {
     "name": "#%%\n"
    }
   },
   "outputs": [],
   "source": [
    "# from functools import partial\n",
    "from pathlib import Path\n",
    "# from typing import Optional, Tuple\n",
    "# import cv2\n",
    "# import fire\n",
    "import numpy as np\n",
    "import torch\n",
    "import torch.nn.functional as F\n",
    "from accelerate import Accelerator\n",
    "from PIL import Image\n",
    "from scipy.sparse.linalg import eigsh\n",
    "# from sklearn.cluster import KMeans, MiniBatchKMeans\n",
    "from sklearn.decomposition import PCA\n",
    "# from torchvision.utils import draw_bounding_boxes\n",
    "from tqdm import tqdm\n",
    "import extract_utils as utils\n",
    "from torch.utils.data import Dataset, DataLoader\n",
    "from lightly.loss import NegativeCosineSimilarity\n",
    "from lightly.models.modules import SimSiamPredictionHead, SimSiamProjectionHead\n",
    "from torch import nn\n",
    "import torchvision\n",
    "from scipy.ndimage import affine_transform"
   ]
  },
  {
   "cell_type": "markdown",
   "metadata": {
    "pycharm": {
     "name": "#%% md\n"
    }
   },
   "source": [
    "## Extract Eigen Vectors"
   ]
  },
  {
   "cell_type": "code",
   "execution_count": null,
   "outputs": [],
   "source": [
    "images_root=\"/home/phdcs2/Hard_Disk/Datasets/Deep-Spectral-Segmentation/data/object-segmentation/ECSSD/images\"\n",
    "# features_dir=\"/home/phdcs2/Hard_Disk/Datasets/Deep-Spectral-Segmentation/data/object-segmentation/ECSSD_1/features/dino_vits16\"\n",
    "features_dir=\"/home/phdcs2/Hard_Disk/Datasets/Deep-Spectral-Segmentation/data/object-segmentation/ECSSD/features/\"\n",
    "output_dir=\"/home/phdcs2/Hard_Disk/Datasets/Deep-Spectral-Segmentation/data/object-segmentation/ECSSD/eigs_dot1PCA64linearpredlinear_dssubmax_pred2_encoder\""
   ],
   "metadata": {
    "collapsed": false,
    "pycharm": {
     "name": "#%%\n"
    }
   }
  },
  {
   "cell_type": "code",
   "execution_count": null,
   "outputs": [],
   "source": [
    "# images_root=\"/home/phdcs2/Hard_Disk/Datasets/Deep-Spectral-Segmentation/data/VOC2012/images/trainval/JPEGImages\"\n",
    "# # features_dir=\"/home/phdcs2/Hard_Disk/Datasets/Deep-Spectral-Segmentation/data/object-segmentation/ECSSD_1/features/dino_vits16\"\n",
    "# features_dir=\"/home/phdcs2/Hard_Disk/Datasets/Deep-Spectral-Segmentation/data/VOC2012/features/dino_vits16\"\n",
    "# output_dir=\"/home/phdcs2/Hard_Disk/Datasets/Deep-Spectral-Segmentation/data/VOC2012/eigs_test/laplacian\"\n",
    "which_matrix= 'laplacian'\n",
    "which_color_matrix= 'knn'\n",
    "which_features= 'k'\n",
    "normalize=True\n",
    "threshold_at_zero=True\n",
    "lapnorm= True\n",
    "K= 5\n",
    "image_downsample_factor = None\n",
    "image_color_lambda = 0.0\n",
    "multiprocessing = 0\n",
    "batch_size=2\n",
    "epochs=10"
   ],
   "metadata": {
    "collapsed": false,
    "pycharm": {
     "name": "#%%\n"
    }
   }
  },
  {
   "cell_type": "markdown",
   "source": [
    "## Incorporating SimSiam"
   ],
   "metadata": {
    "collapsed": false,
    "pycharm": {
     "name": "#%% md\n"
    }
   }
  },
  {
   "cell_type": "code",
   "execution_count": null,
   "outputs": [],
   "source": [
    "# Define a custom dataset class\n",
    "class Feature_Dataset(Dataset):\n",
    "    def __init__(self, features):\n",
    "        self.features = features\n",
    "\n",
    "    def __getitem__(self, index):\n",
    "        return self.features[index]\n",
    "\n",
    "    def __len__(self):\n",
    "        return len(self.features)"
   ],
   "metadata": {
    "collapsed": false,
    "pycharm": {
     "name": "#%%\n"
    }
   }
  },
  {
   "cell_type": "code",
   "execution_count": null,
   "outputs": [],
   "source": [
    "# class SimSiam(nn.Module):\n",
    "#     def __init__(self):\n",
    "#         super().__init__()\n",
    "#         self.projection_head = SimSiamProjectionHead(feats.shape[1], 128,feats.shape[1])\n",
    "#         self.prediction_head = SimSiamPredictionHead(feats.shape[1], 128, feats.shape[1])\n",
    "#\n",
    "#     def forward(self, x):\n",
    "#         z = self.projection_head(x)\n",
    "#         p = self.prediction_head(z)\n",
    "#         z = z.detach()\n",
    "#         return z, p"
   ],
   "metadata": {
    "collapsed": false,
    "pycharm": {
     "name": "#%%\n"
    }
   }
  },
  {
   "cell_type": "code",
   "execution_count": null,
   "outputs": [],
   "source": [
    "# def normalize_affinity_matrix(affinity_matrix, axis=0):\n",
    "#     if axis == 1:\n",
    "#         # Normalize by row-wise sums\n",
    "#         row_sums = torch.sum(affinity_matrix, dim=1, keepdim=True)\n",
    "#         print(row_sums)\n",
    "#         normalized_matrix = affinity_matrix / row_sums\n",
    "#     elif axis == 0:\n",
    "#         # Normalize by column-wise sums\n",
    "#         col_sums = torch.sum(affinity_matrix, dim=0, keepdim=True)\n",
    "#         normalized_matrix = affinity_matrix / col_sums\n",
    "#     else:\n",
    "#         raise ValueError(\"Invalid axis. Axis must be either 0 or 1.\")\n",
    "\n",
    "#     return normalized_matrix"
   ],
   "metadata": {
    "collapsed": false,
    "pycharm": {
     "name": "#%%\n"
    }
   }
  },
  {
   "cell_type": "code",
   "execution_count": null,
   "outputs": [
    {
     "name": "stdout",
     "output_type": "stream",
     "text": [
      "epoch: 04, loss: -0.99060\n",
      "epoch: 05, loss: -0.99173\n",
      "epoch: 06, loss: -0.99259\n",
      "epoch: 07, loss: -0.99325\n",
      "epoch: 08, loss: -0.99379\n",
      "epoch: 09, loss: -0.99424\n",
      "torch.Size([1024, 384])\n"
     ]
    },
    {
     "name": "stderr",
     "output_type": "stream",
     "text": [
      " 19%|█▉        | 193/999 [1:23:17<9:32:32, 42.62s/it]"
     ]
    },
    {
     "name": "stdout",
     "output_type": "stream",
     "text": [
      "eigenvalues shape torch.Size([5]) eigenvectors shape torch.Size([5, 1024])\n",
      "193 /home/phdcs2/Hard_Disk/Datasets/Deep-Spectral-Segmentation/data/object-segmentation/ECSSD/features/0195_resized.pth\n",
      "dict_keys(['k', 'indices', 'file', 'id', 'model_name', 'patch_size', 'shape'])\n",
      "0195_resized\n",
      "x0_arr <class 'numpy.ndarray'>\n",
      "x1_arr <class 'numpy.ndarray'>\n",
      "Starting Training\n",
      "epoch: 00, loss: -0.99564\n",
      "epoch: 01, loss: -1.00000\n",
      "epoch: 02, loss: -1.00000\n",
      "epoch: 03, loss: -1.00000\n",
      "epoch: 04, loss: -1.00000\n",
      "epoch: 05, loss: -1.00000\n",
      "epoch: 06, loss: -1.00000\n",
      "epoch: 07, loss: -1.00000\n",
      "epoch: 08, loss: -1.00000\n",
      "epoch: 09, loss: -1.00000\n",
      "torch.Size([1024, 384])\n"
     ]
    },
    {
     "name": "stderr",
     "output_type": "stream",
     "text": [
      " 19%|█▉        | 194/999 [1:23:57<9:21:13, 41.83s/it]"
     ]
    },
    {
     "name": "stdout",
     "output_type": "stream",
     "text": [
      "eigenvalues shape torch.Size([5]) eigenvectors shape torch.Size([5, 1024])\n",
      "194 /home/phdcs2/Hard_Disk/Datasets/Deep-Spectral-Segmentation/data/object-segmentation/ECSSD/features/0196_resized.pth\n",
      "dict_keys(['k', 'indices', 'file', 'id', 'model_name', 'patch_size', 'shape'])\n",
      "0196_resized\n",
      "x0_arr <class 'numpy.ndarray'>\n",
      "x1_arr <class 'numpy.ndarray'>\n",
      "Starting Training\n",
      "epoch: 00, loss: -0.99500\n",
      "epoch: 01, loss: -0.99998\n",
      "epoch: 02, loss: -0.99998\n",
      "epoch: 03, loss: -0.99998\n",
      "epoch: 04, loss: -0.99998\n",
      "epoch: 05, loss: -0.99998\n",
      "epoch: 06, loss: -0.99998\n",
      "epoch: 07, loss: -0.99998\n",
      "epoch: 08, loss: -0.99998\n",
      "epoch: 09, loss: -0.99998\n",
      "torch.Size([1024, 384])\n"
     ]
    },
    {
     "name": "stderr",
     "output_type": "stream",
     "text": [
      " 20%|█▉        | 195/999 [1:24:34<9:03:03, 40.53s/it]"
     ]
    },
    {
     "name": "stdout",
     "output_type": "stream",
     "text": [
      "eigenvalues shape torch.Size([5]) eigenvectors shape torch.Size([5, 1024])\n",
      "195 /home/phdcs2/Hard_Disk/Datasets/Deep-Spectral-Segmentation/data/object-segmentation/ECSSD/features/0197_resized.pth\n",
      "dict_keys(['k', 'indices', 'file', 'id', 'model_name', 'patch_size', 'shape'])\n",
      "0197_resized\n",
      "x0_arr <class 'numpy.ndarray'>\n",
      "x1_arr <class 'numpy.ndarray'>\n",
      "Starting Training\n",
      "epoch: 00, loss: -0.99589\n",
      "epoch: 01, loss: -1.00000\n",
      "epoch: 02, loss: -1.00000\n",
      "epoch: 03, loss: -1.00000\n",
      "epoch: 04, loss: -1.00000\n",
      "epoch: 05, loss: -1.00000\n",
      "epoch: 06, loss: -1.00000\n",
      "epoch: 07, loss: -1.00000\n",
      "epoch: 08, loss: -1.00000\n",
      "epoch: 09, loss: -1.00000\n",
      "torch.Size([1024, 384])\n"
     ]
    },
    {
     "name": "stderr",
     "output_type": "stream",
     "text": [
      " 20%|█▉        | 196/999 [1:25:12<8:51:07, 39.69s/it]"
     ]
    },
    {
     "name": "stdout",
     "output_type": "stream",
     "text": [
      "eigenvalues shape torch.Size([5]) eigenvectors shape torch.Size([5, 1024])\n",
      "196 /home/phdcs2/Hard_Disk/Datasets/Deep-Spectral-Segmentation/data/object-segmentation/ECSSD/features/0198_resized.pth\n",
      "dict_keys(['k', 'indices', 'file', 'id', 'model_name', 'patch_size', 'shape'])\n",
      "0198_resized\n",
      "x0_arr <class 'numpy.ndarray'>\n",
      "x1_arr <class 'numpy.ndarray'>\n",
      "Starting Training\n",
      "epoch: 00, loss: -0.94159\n",
      "epoch: 01, loss: -0.98120\n",
      "epoch: 02, loss: -0.98666\n",
      "epoch: 03, loss: -0.98937\n",
      "epoch: 04, loss: -0.99104\n",
      "epoch: 05, loss: -0.99220\n",
      "epoch: 06, loss: -0.99305\n",
      "epoch: 07, loss: -0.99373\n",
      "epoch: 08, loss: -0.99426\n",
      "epoch: 09, loss: -0.99470\n",
      "torch.Size([1024, 384])\n"
     ]
    },
    {
     "name": "stderr",
     "output_type": "stream",
     "text": [
      " 20%|█▉        | 197/999 [1:25:52<8:51:39, 39.77s/it]"
     ]
    },
    {
     "name": "stdout",
     "output_type": "stream",
     "text": [
      "eigenvalues shape torch.Size([5]) eigenvectors shape torch.Size([5, 1024])\n",
      "197 /home/phdcs2/Hard_Disk/Datasets/Deep-Spectral-Segmentation/data/object-segmentation/ECSSD/features/0199_resized.pth\n",
      "dict_keys(['k', 'indices', 'file', 'id', 'model_name', 'patch_size', 'shape'])\n",
      "0199_resized\n",
      "x0_arr <class 'numpy.ndarray'>\n",
      "x1_arr <class 'numpy.ndarray'>\n",
      "Starting Training\n",
      "epoch: 00, loss: -0.94860\n",
      "epoch: 01, loss: -0.98671\n",
      "epoch: 02, loss: -0.99123\n",
      "epoch: 03, loss: -0.99332\n",
      "epoch: 04, loss: -0.99452\n",
      "epoch: 05, loss: -0.99532\n",
      "epoch: 06, loss: -0.99587\n",
      "epoch: 07, loss: -0.99629\n",
      "epoch: 08, loss: -0.99661\n",
      "epoch: 09, loss: -0.99688\n",
      "torch.Size([1024, 384])\n"
     ]
    },
    {
     "name": "stderr",
     "output_type": "stream",
     "text": [
      " 20%|█▉        | 198/999 [1:26:31<8:46:53, 39.47s/it]"
     ]
    },
    {
     "name": "stdout",
     "output_type": "stream",
     "text": [
      "eigenvalues shape torch.Size([5]) eigenvectors shape torch.Size([5, 1024])\n",
      "198 /home/phdcs2/Hard_Disk/Datasets/Deep-Spectral-Segmentation/data/object-segmentation/ECSSD/features/0200_resized.pth\n",
      "dict_keys(['k', 'indices', 'file', 'id', 'model_name', 'patch_size', 'shape'])\n",
      "0200_resized\n",
      "x0_arr <class 'numpy.ndarray'>\n",
      "x1_arr <class 'numpy.ndarray'>\n",
      "Starting Training\n",
      "epoch: 00, loss: -0.94958\n",
      "epoch: 01, loss: -0.98474\n",
      "epoch: 02, loss: -0.98947\n",
      "epoch: 03, loss: -0.99176\n",
      "epoch: 04, loss: -0.99317\n",
      "epoch: 05, loss: -0.99412\n",
      "epoch: 06, loss: -0.99483\n",
      "epoch: 07, loss: -0.99538\n",
      "epoch: 08, loss: -0.99581\n",
      "epoch: 09, loss: -0.99616\n",
      "torch.Size([1024, 384])\n"
     ]
    },
    {
     "name": "stderr",
     "output_type": "stream",
     "text": [
      " 20%|█▉        | 199/999 [1:27:09<8:43:14, 39.24s/it]"
     ]
    },
    {
     "name": "stdout",
     "output_type": "stream",
     "text": [
      "eigenvalues shape torch.Size([5]) eigenvectors shape torch.Size([5, 1024])\n",
      "199 /home/phdcs2/Hard_Disk/Datasets/Deep-Spectral-Segmentation/data/object-segmentation/ECSSD/features/0201_resized.pth\n",
      "dict_keys(['k', 'indices', 'file', 'id', 'model_name', 'patch_size', 'shape'])\n",
      "0201_resized\n",
      "x0_arr <class 'numpy.ndarray'>\n",
      "x1_arr <class 'numpy.ndarray'>\n",
      "Starting Training\n",
      "epoch: 00, loss: -0.95437\n",
      "epoch: 01, loss: -0.98566\n",
      "epoch: 02, loss: -0.98980\n",
      "epoch: 03, loss: -0.99179\n",
      "epoch: 04, loss: -0.99300\n",
      "epoch: 05, loss: -0.99385\n",
      "epoch: 06, loss: -0.99446\n",
      "epoch: 07, loss: -0.99493\n",
      "epoch: 08, loss: -0.99532\n",
      "epoch: 09, loss: -0.99563\n",
      "torch.Size([1024, 384])\n"
     ]
    },
    {
     "name": "stderr",
     "output_type": "stream",
     "text": [
      " 20%|██        | 200/999 [1:27:50<8:47:24, 39.60s/it]"
     ]
    },
    {
     "name": "stdout",
     "output_type": "stream",
     "text": [
      "eigenvalues shape torch.Size([5]) eigenvectors shape torch.Size([5, 1024])\n",
      "200 /home/phdcs2/Hard_Disk/Datasets/Deep-Spectral-Segmentation/data/object-segmentation/ECSSD/features/0202_resized.pth\n",
      "dict_keys(['k', 'indices', 'file', 'id', 'model_name', 'patch_size', 'shape'])\n",
      "0202_resized\n",
      "x0_arr <class 'numpy.ndarray'>\n",
      "x1_arr <class 'numpy.ndarray'>\n",
      "Starting Training\n",
      "epoch: 00, loss: -0.94255\n",
      "epoch: 01, loss: -0.98068\n",
      "epoch: 02, loss: -0.98602\n",
      "epoch: 03, loss: -0.98866\n",
      "epoch: 04, loss: -0.99032\n",
      "epoch: 05, loss: -0.99148\n",
      "epoch: 06, loss: -0.99235\n",
      "epoch: 07, loss: -0.99302\n",
      "epoch: 08, loss: -0.99358\n",
      "epoch: 09, loss: -0.99402\n",
      "torch.Size([1024, 384])\n"
     ]
    },
    {
     "name": "stderr",
     "output_type": "stream",
     "text": [
      " 20%|██        | 201/999 [1:28:27<8:37:48, 38.93s/it]"
     ]
    },
    {
     "name": "stdout",
     "output_type": "stream",
     "text": [
      "eigenvalues shape torch.Size([5]) eigenvectors shape torch.Size([5, 1024])\n",
      "201 /home/phdcs2/Hard_Disk/Datasets/Deep-Spectral-Segmentation/data/object-segmentation/ECSSD/features/0203_resized.pth\n",
      "dict_keys(['k', 'indices', 'file', 'id', 'model_name', 'patch_size', 'shape'])\n",
      "0203_resized\n",
      "x0_arr <class 'numpy.ndarray'>\n",
      "x1_arr <class 'numpy.ndarray'>\n",
      "Starting Training\n",
      "epoch: 00, loss: -0.93882\n",
      "epoch: 01, loss: -0.97927\n",
      "epoch: 02, loss: -0.98499\n",
      "epoch: 03, loss: -0.98782\n",
      "epoch: 04, loss: -0.98961\n",
      "epoch: 05, loss: -0.99083\n",
      "epoch: 06, loss: -0.99176\n",
      "epoch: 07, loss: -0.99249\n",
      "epoch: 08, loss: -0.99307\n",
      "epoch: 09, loss: -0.99356\n",
      "torch.Size([1024, 384])\n"
     ]
    },
    {
     "name": "stderr",
     "output_type": "stream",
     "text": [
      " 20%|██        | 202/999 [1:29:07<8:39:02, 39.07s/it]"
     ]
    },
    {
     "name": "stdout",
     "output_type": "stream",
     "text": [
      "eigenvalues shape torch.Size([5]) eigenvectors shape torch.Size([5, 1024])\n",
      "202 /home/phdcs2/Hard_Disk/Datasets/Deep-Spectral-Segmentation/data/object-segmentation/ECSSD/features/0204_resized.pth\n",
      "dict_keys(['k', 'indices', 'file', 'id', 'model_name', 'patch_size', 'shape'])\n",
      "0204_resized\n",
      "x0_arr <class 'numpy.ndarray'>\n",
      "x1_arr <class 'numpy.ndarray'>\n",
      "Starting Training\n",
      "epoch: 00, loss: -0.99609\n",
      "epoch: 01, loss: -1.00000\n",
      "epoch: 02, loss: -1.00000\n",
      "epoch: 03, loss: -1.00000\n",
      "epoch: 04, loss: -1.00000\n",
      "epoch: 05, loss: -1.00000\n",
      "epoch: 06, loss: -1.00000\n",
      "epoch: 07, loss: -1.00000\n",
      "epoch: 08, loss: -1.00000\n",
      "epoch: 09, loss: -1.00000\n",
      "torch.Size([1024, 384])\n"
     ]
    },
    {
     "name": "stderr",
     "output_type": "stream",
     "text": [
      " 20%|██        | 203/999 [1:29:46<8:40:25, 39.23s/it]"
     ]
    },
    {
     "name": "stdout",
     "output_type": "stream",
     "text": [
      "eigenvalues shape torch.Size([5]) eigenvectors shape torch.Size([5, 1024])\n",
      "203 /home/phdcs2/Hard_Disk/Datasets/Deep-Spectral-Segmentation/data/object-segmentation/ECSSD/features/0205_resized.pth\n",
      "dict_keys(['k', 'indices', 'file', 'id', 'model_name', 'patch_size', 'shape'])\n",
      "0205_resized\n",
      "x0_arr <class 'numpy.ndarray'>\n",
      "x1_arr <class 'numpy.ndarray'>\n",
      "Starting Training\n",
      "epoch: 00, loss: -0.99566\n",
      "epoch: 01, loss: -1.00000\n",
      "epoch: 02, loss: -1.00000\n",
      "epoch: 03, loss: -1.00000\n",
      "epoch: 04, loss: -1.00000\n",
      "epoch: 05, loss: -1.00000\n",
      "epoch: 06, loss: -1.00000\n",
      "epoch: 07, loss: -1.00000\n",
      "epoch: 08, loss: -1.00000\n",
      "epoch: 09, loss: -1.00000\n",
      "torch.Size([1024, 384])\n"
     ]
    },
    {
     "name": "stderr",
     "output_type": "stream",
     "text": [
      " 20%|██        | 204/999 [1:30:25<8:40:01, 39.25s/it]"
     ]
    },
    {
     "name": "stdout",
     "output_type": "stream",
     "text": [
      "eigenvalues shape torch.Size([5]) eigenvectors shape torch.Size([5, 1024])\n",
      "204 /home/phdcs2/Hard_Disk/Datasets/Deep-Spectral-Segmentation/data/object-segmentation/ECSSD/features/0206_resized.pth\n",
      "dict_keys(['k', 'indices', 'file', 'id', 'model_name', 'patch_size', 'shape'])\n",
      "0206_resized\n",
      "x0_arr <class 'numpy.ndarray'>\n",
      "x1_arr <class 'numpy.ndarray'>\n",
      "Starting Training\n",
      "epoch: 00, loss: -0.99591\n",
      "epoch: 01, loss: -1.00000\n",
      "epoch: 02, loss: -1.00000\n",
      "epoch: 03, loss: -1.00000\n",
      "epoch: 04, loss: -1.00000\n",
      "epoch: 05, loss: -1.00000\n",
      "epoch: 06, loss: -1.00000\n",
      "epoch: 07, loss: -1.00000\n",
      "epoch: 08, loss: -1.00000\n",
      "epoch: 09, loss: -1.00000\n",
      "torch.Size([1024, 384])\n"
     ]
    },
    {
     "name": "stderr",
     "output_type": "stream",
     "text": [
      " 21%|██        | 205/999 [1:31:03<8:31:24, 38.64s/it]"
     ]
    },
    {
     "name": "stdout",
     "output_type": "stream",
     "text": [
      "eigenvalues shape torch.Size([5]) eigenvectors shape torch.Size([5, 1024])\n",
      "205 /home/phdcs2/Hard_Disk/Datasets/Deep-Spectral-Segmentation/data/object-segmentation/ECSSD/features/0207_resized.pth\n",
      "dict_keys(['k', 'indices', 'file', 'id', 'model_name', 'patch_size', 'shape'])\n",
      "0207_resized\n",
      "x0_arr <class 'numpy.ndarray'>\n",
      "x1_arr <class 'numpy.ndarray'>\n",
      "Starting Training\n",
      "epoch: 00, loss: -0.95121\n",
      "epoch: 01, loss: -0.98307\n",
      "epoch: 02, loss: -0.98765\n",
      "epoch: 03, loss: -0.98994\n",
      "epoch: 04, loss: -0.99137\n",
      "epoch: 05, loss: -0.99238\n",
      "epoch: 06, loss: -0.99312\n",
      "epoch: 07, loss: -0.99371\n",
      "epoch: 08, loss: -0.99418\n",
      "epoch: 09, loss: -0.99458\n",
      "torch.Size([1024, 384])\n"
     ]
    },
    {
     "name": "stderr",
     "output_type": "stream",
     "text": [
      " 21%|██        | 206/999 [1:31:41<8:29:31, 38.55s/it]"
     ]
    },
    {
     "name": "stdout",
     "output_type": "stream",
     "text": [
      "eigenvalues shape torch.Size([5]) eigenvectors shape torch.Size([5, 1024])\n",
      "206 /home/phdcs2/Hard_Disk/Datasets/Deep-Spectral-Segmentation/data/object-segmentation/ECSSD/features/0208_resized.pth\n",
      "dict_keys(['k', 'indices', 'file', 'id', 'model_name', 'patch_size', 'shape'])\n",
      "0208_resized\n",
      "x0_arr <class 'numpy.ndarray'>\n",
      "x1_arr <class 'numpy.ndarray'>\n",
      "Starting Training\n",
      "epoch: 00, loss: -0.94571\n",
      "epoch: 01, loss: -0.98160\n",
      "epoch: 02, loss: -0.98664\n",
      "epoch: 03, loss: -0.98917\n",
      "epoch: 04, loss: -0.99074\n",
      "epoch: 05, loss: -0.99184\n",
      "epoch: 06, loss: -0.99266\n",
      "epoch: 07, loss: -0.99330\n",
      "epoch: 08, loss: -0.99381\n",
      "epoch: 09, loss: -0.99425\n",
      "torch.Size([1024, 384])\n"
     ]
    },
    {
     "name": "stderr",
     "output_type": "stream",
     "text": [
      " 21%|██        | 207/999 [1:32:20<8:29:25, 38.59s/it]"
     ]
    },
    {
     "name": "stdout",
     "output_type": "stream",
     "text": [
      "eigenvalues shape torch.Size([5]) eigenvectors shape torch.Size([5, 1024])\n",
      "207 /home/phdcs2/Hard_Disk/Datasets/Deep-Spectral-Segmentation/data/object-segmentation/ECSSD/features/0209_resized.pth\n",
      "dict_keys(['k', 'indices', 'file', 'id', 'model_name', 'patch_size', 'shape'])\n",
      "0209_resized\n",
      "x0_arr <class 'numpy.ndarray'>\n",
      "x1_arr <class 'numpy.ndarray'>\n",
      "Starting Training\n",
      "epoch: 00, loss: -0.99601\n",
      "epoch: 01, loss: -1.00000\n",
      "epoch: 02, loss: -1.00000\n",
      "epoch: 03, loss: -1.00000\n",
      "epoch: 04, loss: -1.00000\n",
      "epoch: 05, loss: -1.00000\n",
      "epoch: 06, loss: -1.00000\n",
      "epoch: 07, loss: -1.00000\n",
      "epoch: 08, loss: -1.00000\n",
      "epoch: 09, loss: -1.00000\n",
      "torch.Size([1024, 384])\n"
     ]
    },
    {
     "name": "stderr",
     "output_type": "stream",
     "text": [
      " 21%|██        | 208/999 [1:32:59<8:32:05, 38.84s/it]"
     ]
    },
    {
     "name": "stdout",
     "output_type": "stream",
     "text": [
      "eigenvalues shape torch.Size([5]) eigenvectors shape torch.Size([5, 1024])\n",
      "208 /home/phdcs2/Hard_Disk/Datasets/Deep-Spectral-Segmentation/data/object-segmentation/ECSSD/features/0210_resized.pth\n",
      "dict_keys(['k', 'indices', 'file', 'id', 'model_name', 'patch_size', 'shape'])\n",
      "0210_resized\n",
      "x0_arr <class 'numpy.ndarray'>\n",
      "x1_arr <class 'numpy.ndarray'>\n",
      "Starting Training\n",
      "epoch: 00, loss: -0.99513\n",
      "epoch: 01, loss: -1.00000\n",
      "epoch: 02, loss: -1.00000\n",
      "epoch: 03, loss: -1.00000\n",
      "epoch: 04, loss: -1.00000\n",
      "epoch: 05, loss: -1.00000\n",
      "epoch: 06, loss: -1.00000\n",
      "epoch: 07, loss: -1.00000\n",
      "epoch: 08, loss: -1.00000\n",
      "epoch: 09, loss: -1.00000\n",
      "torch.Size([1024, 384])\n"
     ]
    },
    {
     "name": "stderr",
     "output_type": "stream",
     "text": [
      " 21%|██        | 209/999 [1:33:39<8:36:36, 39.24s/it]"
     ]
    },
    {
     "name": "stdout",
     "output_type": "stream",
     "text": [
      "eigenvalues shape torch.Size([5]) eigenvectors shape torch.Size([5, 1024])\n",
      "209 /home/phdcs2/Hard_Disk/Datasets/Deep-Spectral-Segmentation/data/object-segmentation/ECSSD/features/0211_resized.pth\n",
      "dict_keys(['k', 'indices', 'file', 'id', 'model_name', 'patch_size', 'shape'])\n",
      "0211_resized\n",
      "x0_arr <class 'numpy.ndarray'>\n",
      "x1_arr <class 'numpy.ndarray'>\n",
      "Starting Training\n",
      "epoch: 00, loss: -0.94823\n",
      "epoch: 01, loss: -0.98442\n",
      "epoch: 02, loss: -0.98931\n",
      "epoch: 03, loss: -0.99170\n",
      "epoch: 04, loss: -0.99314\n",
      "epoch: 05, loss: -0.99414\n",
      "epoch: 06, loss: -0.99486\n",
      "epoch: 07, loss: -0.99543\n",
      "epoch: 08, loss: -0.99587\n",
      "epoch: 09, loss: -0.99623\n",
      "torch.Size([1024, 384])\n"
     ]
    },
    {
     "name": "stderr",
     "output_type": "stream",
     "text": [
      " 21%|██        | 210/999 [1:34:21<8:45:01, 39.93s/it]"
     ]
    },
    {
     "name": "stdout",
     "output_type": "stream",
     "text": [
      "eigenvalues shape torch.Size([5]) eigenvectors shape torch.Size([5, 1024])\n",
      "210 /home/phdcs2/Hard_Disk/Datasets/Deep-Spectral-Segmentation/data/object-segmentation/ECSSD/features/0212_resized.pth\n",
      "dict_keys(['k', 'indices', 'file', 'id', 'model_name', 'patch_size', 'shape'])\n",
      "0212_resized\n",
      "x0_arr <class 'numpy.ndarray'>\n",
      "x1_arr <class 'numpy.ndarray'>\n",
      "Starting Training\n",
      "epoch: 00, loss: -0.97137\n",
      "epoch: 01, loss: -0.99013\n",
      "epoch: 02, loss: -0.99290\n",
      "epoch: 03, loss: -0.99430\n",
      "epoch: 04, loss: -0.99517\n",
      "epoch: 05, loss: -0.99577\n",
      "epoch: 06, loss: -0.99622\n",
      "epoch: 07, loss: -0.99657\n",
      "epoch: 08, loss: -0.99685\n",
      "epoch: 09, loss: -0.99708\n",
      "torch.Size([1024, 384])\n"
     ]
    },
    {
     "name": "stderr",
     "output_type": "stream",
     "text": [
      " 21%|██        | 211/999 [1:35:00<8:42:25, 39.78s/it]"
     ]
    },
    {
     "name": "stdout",
     "output_type": "stream",
     "text": [
      "eigenvalues shape torch.Size([5]) eigenvectors shape torch.Size([5, 1024])\n",
      "211 /home/phdcs2/Hard_Disk/Datasets/Deep-Spectral-Segmentation/data/object-segmentation/ECSSD/features/0213_resized.pth\n",
      "dict_keys(['k', 'indices', 'file', 'id', 'model_name', 'patch_size', 'shape'])\n",
      "0213_resized\n",
      "x0_arr <class 'numpy.ndarray'>\n",
      "x1_arr <class 'numpy.ndarray'>\n",
      "Starting Training\n",
      "epoch: 00, loss: -0.94254\n",
      "epoch: 01, loss: -0.98233\n",
      "epoch: 02, loss: -0.98783\n",
      "epoch: 03, loss: -0.99050\n",
      "epoch: 04, loss: -0.99215\n",
      "epoch: 05, loss: -0.99326\n",
      "epoch: 06, loss: -0.99409\n",
      "epoch: 07, loss: -0.99472\n",
      "epoch: 08, loss: -0.99522\n",
      "epoch: 09, loss: -0.99564\n",
      "torch.Size([1024, 384])\n"
     ]
    },
    {
     "name": "stderr",
     "output_type": "stream",
     "text": [
      " 21%|██        | 212/999 [1:35:37<8:31:36, 39.00s/it]"
     ]
    },
    {
     "name": "stdout",
     "output_type": "stream",
     "text": [
      "eigenvalues shape torch.Size([5]) eigenvectors shape torch.Size([5, 1024])\n",
      "212 /home/phdcs2/Hard_Disk/Datasets/Deep-Spectral-Segmentation/data/object-segmentation/ECSSD/features/0214_resized.pth\n",
      "dict_keys(['k', 'indices', 'file', 'id', 'model_name', 'patch_size', 'shape'])\n",
      "0214_resized\n",
      "x0_arr <class 'numpy.ndarray'>\n",
      "x1_arr <class 'numpy.ndarray'>\n",
      "Starting Training\n",
      "epoch: 00, loss: -0.99555\n",
      "epoch: 01, loss: -0.99979\n",
      "epoch: 02, loss: -0.99981\n",
      "epoch: 03, loss: -0.99982\n",
      "epoch: 04, loss: -0.99984\n",
      "epoch: 05, loss: -0.99985\n",
      "epoch: 06, loss: -0.99986\n",
      "epoch: 07, loss: -0.99987\n",
      "epoch: 08, loss: -0.99988\n",
      "epoch: 09, loss: -0.99989\n",
      "torch.Size([1024, 384])\n"
     ]
    },
    {
     "name": "stderr",
     "output_type": "stream",
     "text": [
      " 21%|██▏       | 213/999 [1:36:17<8:31:48, 39.07s/it]"
     ]
    },
    {
     "name": "stdout",
     "output_type": "stream",
     "text": [
      "eigenvalues shape torch.Size([5]) eigenvectors shape torch.Size([5, 1024])\n",
      "213 /home/phdcs2/Hard_Disk/Datasets/Deep-Spectral-Segmentation/data/object-segmentation/ECSSD/features/0215_resized.pth\n",
      "dict_keys(['k', 'indices', 'file', 'id', 'model_name', 'patch_size', 'shape'])\n",
      "0215_resized\n",
      "x0_arr <class 'numpy.ndarray'>\n",
      "x1_arr <class 'numpy.ndarray'>\n",
      "Starting Training\n",
      "epoch: 00, loss: -0.99592\n",
      "epoch: 01, loss: -1.00000\n",
      "epoch: 02, loss: -1.00000\n",
      "epoch: 03, loss: -1.00000\n",
      "epoch: 04, loss: -1.00000\n",
      "epoch: 05, loss: -1.00000\n",
      "epoch: 06, loss: -1.00000\n",
      "epoch: 07, loss: -1.00000\n",
      "epoch: 08, loss: -1.00000\n",
      "epoch: 09, loss: -1.00000\n",
      "torch.Size([1024, 384])\n"
     ]
    },
    {
     "name": "stderr",
     "output_type": "stream",
     "text": [
      " 21%|██▏       | 214/999 [1:36:55<8:28:43, 38.88s/it]"
     ]
    },
    {
     "name": "stdout",
     "output_type": "stream",
     "text": [
      "eigenvalues shape torch.Size([5]) eigenvectors shape torch.Size([5, 1024])\n",
      "214 /home/phdcs2/Hard_Disk/Datasets/Deep-Spectral-Segmentation/data/object-segmentation/ECSSD/features/0216_resized.pth\n",
      "dict_keys(['k', 'indices', 'file', 'id', 'model_name', 'patch_size', 'shape'])\n",
      "0216_resized\n",
      "x0_arr <class 'numpy.ndarray'>\n",
      "x1_arr <class 'numpy.ndarray'>\n",
      "Starting Training\n",
      "epoch: 00, loss: -0.99521\n",
      "epoch: 01, loss: -1.00000\n",
      "epoch: 02, loss: -1.00000\n",
      "epoch: 03, loss: -1.00000\n",
      "epoch: 04, loss: -1.00000\n",
      "epoch: 05, loss: -1.00000\n",
      "epoch: 06, loss: -1.00000\n",
      "epoch: 07, loss: -1.00000\n",
      "epoch: 08, loss: -1.00000\n",
      "epoch: 09, loss: -1.00000\n",
      "torch.Size([1024, 384])\n"
     ]
    },
    {
     "name": "stderr",
     "output_type": "stream",
     "text": [
      " 22%|██▏       | 215/999 [1:37:34<8:27:27, 38.84s/it]"
     ]
    },
    {
     "name": "stdout",
     "output_type": "stream",
     "text": [
      "eigenvalues shape torch.Size([5]) eigenvectors shape torch.Size([5, 1024])\n",
      "215 /home/phdcs2/Hard_Disk/Datasets/Deep-Spectral-Segmentation/data/object-segmentation/ECSSD/features/0217_resized.pth\n",
      "dict_keys(['k', 'indices', 'file', 'id', 'model_name', 'patch_size', 'shape'])\n",
      "0217_resized\n",
      "x0_arr <class 'numpy.ndarray'>\n",
      "x1_arr <class 'numpy.ndarray'>\n",
      "Starting Training\n",
      "epoch: 00, loss: -0.95647\n",
      "epoch: 01, loss: -0.98618\n",
      "epoch: 02, loss: -0.99020\n",
      "epoch: 03, loss: -0.99217\n",
      "epoch: 04, loss: -0.99337\n",
      "epoch: 05, loss: -0.99419\n",
      "epoch: 06, loss: -0.99480\n",
      "epoch: 07, loss: -0.99527\n",
      "epoch: 08, loss: -0.99565\n",
      "epoch: 09, loss: -0.99596\n",
      "torch.Size([1024, 384])\n"
     ]
    },
    {
     "name": "stderr",
     "output_type": "stream",
     "text": [
      " 22%|██▏       | 216/999 [1:38:13<8:26:36, 38.82s/it]"
     ]
    },
    {
     "name": "stdout",
     "output_type": "stream",
     "text": [
      "eigenvalues shape torch.Size([5]) eigenvectors shape torch.Size([5, 1024])\n",
      "216 /home/phdcs2/Hard_Disk/Datasets/Deep-Spectral-Segmentation/data/object-segmentation/ECSSD/features/0218_resized.pth\n",
      "dict_keys(['k', 'indices', 'file', 'id', 'model_name', 'patch_size', 'shape'])\n",
      "0218_resized\n",
      "x0_arr <class 'numpy.ndarray'>\n",
      "x1_arr <class 'numpy.ndarray'>\n",
      "Starting Training\n",
      "epoch: 00, loss: -0.99559\n",
      "epoch: 01, loss: -1.00000\n",
      "epoch: 02, loss: -1.00000\n",
      "epoch: 03, loss: -1.00000\n",
      "epoch: 04, loss: -1.00000\n",
      "epoch: 05, loss: -1.00000\n",
      "epoch: 06, loss: -1.00000\n",
      "epoch: 07, loss: -1.00000\n",
      "epoch: 08, loss: -1.00000\n",
      "epoch: 09, loss: -1.00000\n",
      "torch.Size([1024, 384])\n"
     ]
    },
    {
     "name": "stderr",
     "output_type": "stream",
     "text": [
      " 22%|██▏       | 217/999 [1:38:53<8:33:37, 39.41s/it]"
     ]
    },
    {
     "name": "stdout",
     "output_type": "stream",
     "text": [
      "eigenvalues shape torch.Size([5]) eigenvectors shape torch.Size([5, 1024])\n",
      "217 /home/phdcs2/Hard_Disk/Datasets/Deep-Spectral-Segmentation/data/object-segmentation/ECSSD/features/0219_resized.pth\n",
      "dict_keys(['k', 'indices', 'file', 'id', 'model_name', 'patch_size', 'shape'])\n",
      "0219_resized\n",
      "x0_arr <class 'numpy.ndarray'>\n",
      "x1_arr <class 'numpy.ndarray'>\n",
      "Starting Training\n",
      "epoch: 00, loss: -0.93982\n",
      "epoch: 01, loss: -0.98081\n",
      "epoch: 02, loss: -0.98642\n",
      "epoch: 03, loss: -0.98921\n",
      "epoch: 04, loss: -0.99093\n",
      "epoch: 05, loss: -0.99211\n",
      "epoch: 06, loss: -0.99297\n",
      "epoch: 07, loss: -0.99366\n",
      "epoch: 08, loss: -0.99421\n",
      "epoch: 09, loss: -0.99465\n",
      "torch.Size([1024, 384])\n"
     ]
    },
    {
     "name": "stderr",
     "output_type": "stream",
     "text": [
      " 22%|██▏       | 218/999 [1:39:34<8:35:54, 39.64s/it]"
     ]
    },
    {
     "name": "stdout",
     "output_type": "stream",
     "text": [
      "eigenvalues shape torch.Size([5]) eigenvectors shape torch.Size([5, 1024])\n",
      "218 /home/phdcs2/Hard_Disk/Datasets/Deep-Spectral-Segmentation/data/object-segmentation/ECSSD/features/0220_resized.pth\n",
      "dict_keys(['k', 'indices', 'file', 'id', 'model_name', 'patch_size', 'shape'])\n",
      "0220_resized\n",
      "x0_arr <class 'numpy.ndarray'>\n",
      "x1_arr <class 'numpy.ndarray'>\n",
      "Starting Training\n",
      "epoch: 00, loss: -0.96145\n",
      "epoch: 01, loss: -0.98864\n",
      "epoch: 02, loss: -0.99179\n",
      "epoch: 03, loss: -0.99338\n",
      "epoch: 04, loss: -0.99436\n",
      "epoch: 05, loss: -0.99506\n",
      "epoch: 06, loss: -0.99557\n",
      "epoch: 07, loss: -0.99597\n",
      "epoch: 08, loss: -0.99629\n",
      "epoch: 09, loss: -0.99656\n",
      "torch.Size([1024, 384])\n"
     ]
    },
    {
     "name": "stderr",
     "output_type": "stream",
     "text": [
      " 22%|██▏       | 219/999 [1:40:13<8:33:51, 39.53s/it]"
     ]
    },
    {
     "name": "stdout",
     "output_type": "stream",
     "text": [
      "eigenvalues shape torch.Size([5]) eigenvectors shape torch.Size([5, 1024])\n",
      "219 /home/phdcs2/Hard_Disk/Datasets/Deep-Spectral-Segmentation/data/object-segmentation/ECSSD/features/0221_resized.pth\n",
      "dict_keys(['k', 'indices', 'file', 'id', 'model_name', 'patch_size', 'shape'])\n",
      "0221_resized\n",
      "x0_arr <class 'numpy.ndarray'>\n",
      "x1_arr <class 'numpy.ndarray'>\n",
      "Starting Training\n",
      "epoch: 00, loss: -0.99453\n",
      "epoch: 01, loss: -1.00000\n",
      "epoch: 02, loss: -1.00000\n",
      "epoch: 03, loss: -1.00000\n",
      "epoch: 04, loss: -1.00000\n",
      "epoch: 05, loss: -1.00000\n",
      "epoch: 06, loss: -1.00000\n",
      "epoch: 07, loss: -1.00000\n",
      "epoch: 08, loss: -1.00000\n",
      "epoch: 09, loss: -1.00000\n",
      "torch.Size([1024, 384])\n"
     ]
    },
    {
     "name": "stderr",
     "output_type": "stream",
     "text": [
      " 22%|██▏       | 220/999 [1:40:53<8:37:01, 39.82s/it]"
     ]
    },
    {
     "name": "stdout",
     "output_type": "stream",
     "text": [
      "eigenvalues shape torch.Size([5]) eigenvectors shape torch.Size([5, 1024])\n",
      "220 /home/phdcs2/Hard_Disk/Datasets/Deep-Spectral-Segmentation/data/object-segmentation/ECSSD/features/0222_resized.pth\n",
      "dict_keys(['k', 'indices', 'file', 'id', 'model_name', 'patch_size', 'shape'])\n",
      "0222_resized\n",
      "x0_arr <class 'numpy.ndarray'>\n",
      "x1_arr <class 'numpy.ndarray'>\n",
      "Starting Training\n",
      "epoch: 00, loss: -0.94934\n",
      "epoch: 01, loss: -0.98280\n",
      "epoch: 02, loss: -0.98754\n",
      "epoch: 03, loss: -0.98989\n",
      "epoch: 04, loss: -0.99137\n",
      "epoch: 05, loss: -0.99240\n",
      "epoch: 06, loss: -0.99318\n",
      "epoch: 07, loss: -0.99378\n",
      "epoch: 08, loss: -0.99428\n",
      "epoch: 09, loss: -0.99468\n",
      "torch.Size([1024, 384])\n"
     ]
    },
    {
     "name": "stderr",
     "output_type": "stream",
     "text": [
      " 22%|██▏       | 221/999 [1:41:34<8:38:45, 40.01s/it]"
     ]
    },
    {
     "name": "stdout",
     "output_type": "stream",
     "text": [
      "eigenvalues shape torch.Size([5]) eigenvectors shape torch.Size([5, 1024])\n",
      "221 /home/phdcs2/Hard_Disk/Datasets/Deep-Spectral-Segmentation/data/object-segmentation/ECSSD/features/0223_resized.pth\n",
      "dict_keys(['k', 'indices', 'file', 'id', 'model_name', 'patch_size', 'shape'])\n",
      "0223_resized\n",
      "x0_arr <class 'numpy.ndarray'>\n",
      "x1_arr <class 'numpy.ndarray'>\n",
      "Starting Training\n",
      "epoch: 00, loss: -0.94087\n",
      "epoch: 01, loss: -0.97987\n",
      "epoch: 02, loss: -0.98533\n",
      "epoch: 03, loss: -0.98811\n",
      "epoch: 04, loss: -0.98982\n",
      "epoch: 05, loss: -0.99100\n",
      "epoch: 06, loss: -0.99191\n",
      "epoch: 07, loss: -0.99262\n",
      "epoch: 08, loss: -0.99318\n",
      "epoch: 09, loss: -0.99366\n",
      "torch.Size([1024, 384])\n"
     ]
    },
    {
     "name": "stderr",
     "output_type": "stream",
     "text": [
      " 22%|██▏       | 222/999 [1:42:14<8:39:21, 40.11s/it]"
     ]
    },
    {
     "name": "stdout",
     "output_type": "stream",
     "text": [
      "eigenvalues shape torch.Size([5]) eigenvectors shape torch.Size([5, 1024])\n",
      "222 /home/phdcs2/Hard_Disk/Datasets/Deep-Spectral-Segmentation/data/object-segmentation/ECSSD/features/0224_resized.pth\n",
      "dict_keys(['k', 'indices', 'file', 'id', 'model_name', 'patch_size', 'shape'])\n",
      "0224_resized\n",
      "x0_arr <class 'numpy.ndarray'>\n",
      "x1_arr <class 'numpy.ndarray'>\n",
      "Starting Training\n",
      "epoch: 00, loss: -0.99549\n",
      "epoch: 01, loss: -1.00000\n",
      "epoch: 02, loss: -1.00000\n",
      "epoch: 03, loss: -1.00000\n",
      "epoch: 04, loss: -1.00000\n",
      "epoch: 05, loss: -1.00000\n",
      "epoch: 06, loss: -1.00000\n",
      "epoch: 07, loss: -1.00000\n",
      "epoch: 08, loss: -1.00000\n",
      "epoch: 09, loss: -1.00000\n",
      "torch.Size([1024, 384])\n"
     ]
    },
    {
     "name": "stderr",
     "output_type": "stream",
     "text": [
      " 22%|██▏       | 223/999 [1:43:01<9:06:54, 42.29s/it]"
     ]
    },
    {
     "name": "stdout",
     "output_type": "stream",
     "text": [
      "eigenvalues shape torch.Size([5]) eigenvectors shape torch.Size([5, 1024])\n",
      "223 /home/phdcs2/Hard_Disk/Datasets/Deep-Spectral-Segmentation/data/object-segmentation/ECSSD/features/0225_resized.pth\n",
      "dict_keys(['k', 'indices', 'file', 'id', 'model_name', 'patch_size', 'shape'])\n",
      "0225_resized\n",
      "x0_arr <class 'numpy.ndarray'>\n",
      "x1_arr <class 'numpy.ndarray'>\n",
      "Starting Training\n",
      "epoch: 00, loss: -0.99597\n",
      "epoch: 01, loss: -1.00000\n",
      "epoch: 02, loss: -1.00000\n",
      "epoch: 03, loss: -1.00000\n",
      "epoch: 04, loss: -1.00000\n",
      "epoch: 05, loss: -1.00000\n",
      "epoch: 06, loss: -1.00000\n",
      "epoch: 07, loss: -1.00000\n",
      "epoch: 08, loss: -1.00000\n",
      "epoch: 09, loss: -1.00000\n",
      "torch.Size([1024, 384])\n"
     ]
    },
    {
     "name": "stderr",
     "output_type": "stream",
     "text": [
      " 22%|██▏       | 224/999 [1:43:46<9:14:14, 42.91s/it]"
     ]
    },
    {
     "name": "stdout",
     "output_type": "stream",
     "text": [
      "eigenvalues shape torch.Size([5]) eigenvectors shape torch.Size([5, 1024])\n",
      "224 /home/phdcs2/Hard_Disk/Datasets/Deep-Spectral-Segmentation/data/object-segmentation/ECSSD/features/0226_resized.pth\n",
      "dict_keys(['k', 'indices', 'file', 'id', 'model_name', 'patch_size', 'shape'])\n",
      "0226_resized\n",
      "x0_arr <class 'numpy.ndarray'>\n",
      "x1_arr <class 'numpy.ndarray'>\n",
      "Starting Training\n",
      "epoch: 00, loss: -0.99572\n",
      "epoch: 01, loss: -0.99988\n",
      "epoch: 02, loss: -0.99988\n",
      "epoch: 03, loss: -0.99989\n",
      "epoch: 04, loss: -0.99989\n",
      "epoch: 05, loss: -0.99990\n",
      "epoch: 06, loss: -0.99990\n",
      "epoch: 07, loss: -0.99990\n",
      "epoch: 08, loss: -0.99991\n",
      "epoch: 09, loss: -0.99991\n",
      "torch.Size([1024, 384])\n"
     ]
    },
    {
     "name": "stderr",
     "output_type": "stream",
     "text": [
      " 23%|██▎       | 225/999 [1:44:32<9:27:17, 43.98s/it]"
     ]
    },
    {
     "name": "stdout",
     "output_type": "stream",
     "text": [
      "eigenvalues shape torch.Size([5]) eigenvectors shape torch.Size([5, 1024])\n",
      "225 /home/phdcs2/Hard_Disk/Datasets/Deep-Spectral-Segmentation/data/object-segmentation/ECSSD/features/0227_resized.pth\n",
      "dict_keys(['k', 'indices', 'file', 'id', 'model_name', 'patch_size', 'shape'])\n",
      "0227_resized\n",
      "x0_arr <class 'numpy.ndarray'>\n",
      "x1_arr <class 'numpy.ndarray'>\n",
      "Starting Training\n",
      "epoch: 00, loss: -0.99641\n",
      "epoch: 01, loss: -1.00000\n",
      "epoch: 02, loss: -1.00000\n",
      "epoch: 03, loss: -1.00000\n",
      "epoch: 04, loss: -1.00000\n",
      "epoch: 05, loss: -1.00000\n",
      "epoch: 06, loss: -1.00000\n",
      "epoch: 07, loss: -1.00000\n",
      "epoch: 08, loss: -1.00000\n",
      "epoch: 09, loss: -1.00000\n",
      "torch.Size([1024, 384])\n"
     ]
    },
    {
     "name": "stderr",
     "output_type": "stream",
     "text": [
      " 23%|██▎       | 226/999 [1:45:19<9:36:39, 44.76s/it]"
     ]
    },
    {
     "name": "stdout",
     "output_type": "stream",
     "text": [
      "eigenvalues shape torch.Size([5]) eigenvectors shape torch.Size([5, 1024])\n",
      "226 /home/phdcs2/Hard_Disk/Datasets/Deep-Spectral-Segmentation/data/object-segmentation/ECSSD/features/0228_resized.pth\n",
      "dict_keys(['k', 'indices', 'file', 'id', 'model_name', 'patch_size', 'shape'])\n",
      "0228_resized\n",
      "x0_arr <class 'numpy.ndarray'>\n",
      "x1_arr <class 'numpy.ndarray'>\n",
      "Starting Training\n",
      "epoch: 00, loss: -0.99542\n",
      "epoch: 01, loss: -1.00000\n",
      "epoch: 02, loss: -1.00000\n",
      "epoch: 03, loss: -1.00000\n",
      "epoch: 04, loss: -1.00000\n",
      "epoch: 05, loss: -1.00000\n",
      "epoch: 06, loss: -1.00000\n",
      "epoch: 07, loss: -1.00000\n",
      "epoch: 08, loss: -1.00000\n",
      "epoch: 09, loss: -1.00000\n",
      "torch.Size([1024, 384])\n"
     ]
    },
    {
     "name": "stderr",
     "output_type": "stream",
     "text": [
      " 23%|██▎       | 227/999 [1:46:02<9:29:02, 44.23s/it]"
     ]
    },
    {
     "name": "stdout",
     "output_type": "stream",
     "text": [
      "eigenvalues shape torch.Size([5]) eigenvectors shape torch.Size([5, 1024])\n",
      "227 /home/phdcs2/Hard_Disk/Datasets/Deep-Spectral-Segmentation/data/object-segmentation/ECSSD/features/0229_resized.pth\n",
      "dict_keys(['k', 'indices', 'file', 'id', 'model_name', 'patch_size', 'shape'])\n",
      "0229_resized\n",
      "x0_arr <class 'numpy.ndarray'>\n",
      "x1_arr <class 'numpy.ndarray'>\n",
      "Starting Training\n",
      "epoch: 00, loss: -0.94345\n",
      "epoch: 01, loss: -0.98086\n",
      "epoch: 02, loss: -0.98614\n",
      "epoch: 03, loss: -0.98876\n",
      "epoch: 04, loss: -0.99038\n",
      "epoch: 05, loss: -0.99153\n",
      "epoch: 06, loss: -0.99239\n",
      "epoch: 07, loss: -0.99307\n",
      "epoch: 08, loss: -0.99362\n",
      "epoch: 09, loss: -0.99406\n",
      "torch.Size([1024, 384])\n"
     ]
    },
    {
     "name": "stderr",
     "output_type": "stream",
     "text": [
      " 23%|██▎       | 228/999 [1:46:40<9:04:51, 42.40s/it]"
     ]
    },
    {
     "name": "stdout",
     "output_type": "stream",
     "text": [
      "eigenvalues shape torch.Size([5]) eigenvectors shape torch.Size([5, 1024])\n",
      "228 /home/phdcs2/Hard_Disk/Datasets/Deep-Spectral-Segmentation/data/object-segmentation/ECSSD/features/0230_resized.pth\n",
      "dict_keys(['k', 'indices', 'file', 'id', 'model_name', 'patch_size', 'shape'])\n",
      "0230_resized\n",
      "x0_arr <class 'numpy.ndarray'>\n",
      "x1_arr <class 'numpy.ndarray'>\n",
      "Starting Training\n",
      "epoch: 00, loss: -0.99594\n",
      "epoch: 01, loss: -0.99999\n",
      "epoch: 02, loss: -0.99999\n",
      "epoch: 03, loss: -0.99999\n",
      "epoch: 04, loss: -0.99999\n",
      "epoch: 05, loss: -0.99999\n",
      "epoch: 06, loss: -0.99999\n",
      "epoch: 07, loss: -0.99999\n",
      "epoch: 08, loss: -0.99999\n",
      "epoch: 09, loss: -0.99999\n",
      "torch.Size([1024, 384])\n"
     ]
    },
    {
     "name": "stderr",
     "output_type": "stream",
     "text": [
      " 23%|██▎       | 229/999 [1:47:16<8:37:48, 40.35s/it]"
     ]
    },
    {
     "name": "stdout",
     "output_type": "stream",
     "text": [
      "eigenvalues shape torch.Size([5]) eigenvectors shape torch.Size([5, 1024])\n",
      "229 /home/phdcs2/Hard_Disk/Datasets/Deep-Spectral-Segmentation/data/object-segmentation/ECSSD/features/0231_resized.pth\n",
      "dict_keys(['k', 'indices', 'file', 'id', 'model_name', 'patch_size', 'shape'])\n",
      "0231_resized\n",
      "x0_arr <class 'numpy.ndarray'>\n",
      "x1_arr <class 'numpy.ndarray'>\n",
      "Starting Training\n",
      "epoch: 00, loss: -0.94482\n",
      "epoch: 01, loss: -0.98385\n",
      "epoch: 02, loss: -0.98889\n",
      "epoch: 03, loss: -0.99127\n",
      "epoch: 04, loss: -0.99271\n",
      "epoch: 05, loss: -0.99367\n",
      "epoch: 06, loss: -0.99439\n",
      "epoch: 07, loss: -0.99493\n",
      "epoch: 08, loss: -0.99536\n",
      "epoch: 09, loss: -0.99571\n",
      "torch.Size([1024, 384])\n"
     ]
    },
    {
     "name": "stderr",
     "output_type": "stream",
     "text": [
      " 23%|██▎       | 230/999 [1:47:50<8:16:09, 38.71s/it]"
     ]
    },
    {
     "name": "stdout",
     "output_type": "stream",
     "text": [
      "eigenvalues shape torch.Size([5]) eigenvectors shape torch.Size([5, 1024])\n",
      "230 /home/phdcs2/Hard_Disk/Datasets/Deep-Spectral-Segmentation/data/object-segmentation/ECSSD/features/0232_resized.pth\n",
      "dict_keys(['k', 'indices', 'file', 'id', 'model_name', 'patch_size', 'shape'])\n",
      "0232_resized\n",
      "x0_arr <class 'numpy.ndarray'>\n",
      "x1_arr <class 'numpy.ndarray'>\n",
      "Starting Training\n",
      "epoch: 00, loss: -0.99563\n",
      "epoch: 01, loss: -1.00000\n",
      "epoch: 02, loss: -1.00000\n",
      "epoch: 03, loss: -1.00000\n",
      "epoch: 04, loss: -1.00000\n",
      "epoch: 05, loss: -1.00000\n",
      "epoch: 06, loss: -1.00000\n",
      "epoch: 07, loss: -1.00000\n",
      "epoch: 08, loss: -1.00000\n",
      "epoch: 09, loss: -1.00000\n",
      "torch.Size([1024, 384])\n"
     ]
    },
    {
     "name": "stderr",
     "output_type": "stream",
     "text": [
      " 23%|██▎       | 231/999 [1:48:23<7:52:58, 36.95s/it]"
     ]
    },
    {
     "name": "stdout",
     "output_type": "stream",
     "text": [
      "eigenvalues shape torch.Size([5]) eigenvectors shape torch.Size([5, 1024])\n",
      "231 /home/phdcs2/Hard_Disk/Datasets/Deep-Spectral-Segmentation/data/object-segmentation/ECSSD/features/0233_resized.pth\n",
      "dict_keys(['k', 'indices', 'file', 'id', 'model_name', 'patch_size', 'shape'])\n",
      "0233_resized\n",
      "x0_arr <class 'numpy.ndarray'>\n",
      "x1_arr <class 'numpy.ndarray'>\n",
      "Starting Training\n",
      "epoch: 00, loss: -0.94747\n",
      "epoch: 01, loss: -0.98237\n",
      "epoch: 02, loss: -0.98734\n",
      "epoch: 03, loss: -0.98979\n",
      "epoch: 04, loss: -0.99134\n",
      "epoch: 05, loss: -0.99241\n",
      "epoch: 06, loss: -0.99321\n",
      "epoch: 07, loss: -0.99383\n",
      "epoch: 08, loss: -0.99434\n",
      "epoch: 09, loss: -0.99476\n",
      "torch.Size([1024, 384])\n"
     ]
    },
    {
     "name": "stderr",
     "output_type": "stream",
     "text": [
      " 23%|██▎       | 232/999 [1:48:56<7:35:38, 35.64s/it]"
     ]
    },
    {
     "name": "stdout",
     "output_type": "stream",
     "text": [
      "eigenvalues shape torch.Size([5]) eigenvectors shape torch.Size([5, 1024])\n",
      "232 /home/phdcs2/Hard_Disk/Datasets/Deep-Spectral-Segmentation/data/object-segmentation/ECSSD/features/0234_resized.pth\n",
      "dict_keys(['k', 'indices', 'file', 'id', 'model_name', 'patch_size', 'shape'])\n",
      "0234_resized\n",
      "x0_arr <class 'numpy.ndarray'>\n",
      "x1_arr <class 'numpy.ndarray'>\n",
      "Starting Training\n",
      "epoch: 00, loss: -0.95319\n",
      "epoch: 01, loss: -0.98372\n",
      "epoch: 02, loss: -0.98811\n",
      "epoch: 03, loss: -0.99032\n",
      "epoch: 04, loss: -0.99172\n",
      "epoch: 05, loss: -0.99266\n",
      "epoch: 06, loss: -0.99338\n",
      "epoch: 07, loss: -0.99395\n",
      "epoch: 08, loss: -0.99441\n",
      "epoch: 09, loss: -0.99478\n",
      "torch.Size([1024, 384])\n"
     ]
    },
    {
     "name": "stderr",
     "output_type": "stream",
     "text": [
      " 23%|██▎       | 233/999 [1:49:28<7:22:58, 34.70s/it]"
     ]
    },
    {
     "name": "stdout",
     "output_type": "stream",
     "text": [
      "eigenvalues shape torch.Size([5]) eigenvectors shape torch.Size([5, 1024])\n",
      "233 /home/phdcs2/Hard_Disk/Datasets/Deep-Spectral-Segmentation/data/object-segmentation/ECSSD/features/0235_resized.pth\n",
      "dict_keys(['k', 'indices', 'file', 'id', 'model_name', 'patch_size', 'shape'])\n",
      "0235_resized\n",
      "x0_arr <class 'numpy.ndarray'>\n",
      "x1_arr <class 'numpy.ndarray'>\n",
      "Starting Training\n",
      "epoch: 00, loss: -0.99589\n",
      "epoch: 01, loss: -1.00000\n",
      "epoch: 02, loss: -1.00000\n",
      "epoch: 03, loss: -1.00000\n",
      "epoch: 04, loss: -1.00000\n",
      "epoch: 05, loss: -1.00000\n",
      "epoch: 06, loss: -1.00000\n",
      "epoch: 07, loss: -1.00000\n",
      "epoch: 08, loss: -1.00000\n",
      "epoch: 09, loss: -1.00000\n",
      "torch.Size([1024, 384])\n"
     ]
    },
    {
     "name": "stderr",
     "output_type": "stream",
     "text": [
      " 23%|██▎       | 234/999 [1:50:03<7:20:35, 34.56s/it]"
     ]
    },
    {
     "name": "stdout",
     "output_type": "stream",
     "text": [
      "eigenvalues shape torch.Size([5]) eigenvectors shape torch.Size([5, 1024])\n",
      "234 /home/phdcs2/Hard_Disk/Datasets/Deep-Spectral-Segmentation/data/object-segmentation/ECSSD/features/0236_resized.pth\n",
      "dict_keys(['k', 'indices', 'file', 'id', 'model_name', 'patch_size', 'shape'])\n",
      "0236_resized\n",
      "x0_arr <class 'numpy.ndarray'>\n",
      "x1_arr <class 'numpy.ndarray'>\n",
      "Starting Training\n",
      "epoch: 00, loss: -0.94966\n",
      "epoch: 01, loss: -0.98324\n",
      "epoch: 02, loss: -0.98800\n",
      "epoch: 03, loss: -0.99034\n",
      "epoch: 04, loss: -0.99181\n",
      "epoch: 05, loss: -0.99281\n",
      "epoch: 06, loss: -0.99355\n",
      "epoch: 07, loss: -0.99414\n",
      "epoch: 08, loss: -0.99461\n",
      "epoch: 09, loss: -0.99499\n",
      "torch.Size([1024, 384])\n"
     ]
    },
    {
     "name": "stderr",
     "output_type": "stream",
     "text": [
      " 24%|██▎       | 235/999 [1:50:38<7:22:13, 34.73s/it]"
     ]
    },
    {
     "name": "stdout",
     "output_type": "stream",
     "text": [
      "eigenvalues shape torch.Size([5]) eigenvectors shape torch.Size([5, 1024])\n",
      "235 /home/phdcs2/Hard_Disk/Datasets/Deep-Spectral-Segmentation/data/object-segmentation/ECSSD/features/0237_resized.pth\n",
      "dict_keys(['k', 'indices', 'file', 'id', 'model_name', 'patch_size', 'shape'])\n",
      "0237_resized\n",
      "x0_arr <class 'numpy.ndarray'>\n",
      "x1_arr <class 'numpy.ndarray'>\n",
      "Starting Training\n",
      "epoch: 00, loss: -0.99516\n",
      "epoch: 01, loss: -1.00000\n",
      "epoch: 02, loss: -1.00000\n",
      "epoch: 03, loss: -1.00000\n",
      "epoch: 04, loss: -1.00000\n",
      "epoch: 05, loss: -1.00000\n",
      "epoch: 06, loss: -1.00000\n",
      "epoch: 07, loss: -1.00000\n",
      "epoch: 08, loss: -1.00000\n",
      "epoch: 09, loss: -1.00000\n",
      "torch.Size([1024, 384])\n"
     ]
    },
    {
     "name": "stderr",
     "output_type": "stream",
     "text": [
      " 24%|██▎       | 236/999 [1:51:19<7:46:17, 36.67s/it]"
     ]
    },
    {
     "name": "stdout",
     "output_type": "stream",
     "text": [
      "eigenvalues shape torch.Size([5]) eigenvectors shape torch.Size([5, 1024])\n",
      "236 /home/phdcs2/Hard_Disk/Datasets/Deep-Spectral-Segmentation/data/object-segmentation/ECSSD/features/0238_resized.pth\n",
      "dict_keys(['k', 'indices', 'file', 'id', 'model_name', 'patch_size', 'shape'])\n",
      "0238_resized\n",
      "x0_arr <class 'numpy.ndarray'>\n",
      "x1_arr <class 'numpy.ndarray'>\n",
      "Starting Training\n",
      "epoch: 00, loss: -0.93697\n",
      "epoch: 01, loss: -0.97897\n",
      "epoch: 02, loss: -0.98480\n",
      "epoch: 03, loss: -0.98772\n",
      "epoch: 04, loss: -0.98955\n",
      "epoch: 05, loss: -0.99082\n",
      "epoch: 06, loss: -0.99177\n",
      "epoch: 07, loss: -0.99253\n",
      "epoch: 08, loss: -0.99313\n",
      "epoch: 09, loss: -0.99362\n",
      "torch.Size([1024, 384])\n"
     ]
    },
    {
     "name": "stderr",
     "output_type": "stream",
     "text": [
      " 24%|██▎       | 237/999 [1:51:56<7:46:09, 36.71s/it]"
     ]
    },
    {
     "name": "stdout",
     "output_type": "stream",
     "text": [
      "eigenvalues shape torch.Size([5]) eigenvectors shape torch.Size([5, 1024])\n",
      "237 /home/phdcs2/Hard_Disk/Datasets/Deep-Spectral-Segmentation/data/object-segmentation/ECSSD/features/0239_resized.pth\n",
      "dict_keys(['k', 'indices', 'file', 'id', 'model_name', 'patch_size', 'shape'])\n",
      "0239_resized\n",
      "x0_arr <class 'numpy.ndarray'>\n",
      "x1_arr <class 'numpy.ndarray'>\n",
      "Starting Training\n",
      "epoch: 00, loss: -0.99489\n",
      "epoch: 01, loss: -0.99997\n",
      "epoch: 02, loss: -0.99997\n",
      "epoch: 03, loss: -0.99997\n",
      "epoch: 04, loss: -0.99997\n",
      "epoch: 05, loss: -0.99997\n",
      "epoch: 06, loss: -0.99997\n",
      "epoch: 07, loss: -0.99997\n",
      "epoch: 08, loss: -0.99997\n",
      "epoch: 09, loss: -0.99997\n",
      "torch.Size([1024, 384])\n"
     ]
    },
    {
     "name": "stderr",
     "output_type": "stream",
     "text": [
      " 24%|██▍       | 238/999 [1:52:28<7:27:59, 35.32s/it]"
     ]
    },
    {
     "name": "stdout",
     "output_type": "stream",
     "text": [
      "eigenvalues shape torch.Size([5]) eigenvectors shape torch.Size([5, 1024])\n",
      "238 /home/phdcs2/Hard_Disk/Datasets/Deep-Spectral-Segmentation/data/object-segmentation/ECSSD/features/0240_resized.pth\n",
      "dict_keys(['k', 'indices', 'file', 'id', 'model_name', 'patch_size', 'shape'])\n",
      "0240_resized\n",
      "x0_arr <class 'numpy.ndarray'>\n",
      "x1_arr <class 'numpy.ndarray'>\n",
      "Starting Training\n",
      "epoch: 00, loss: -0.95258\n",
      "epoch: 01, loss: -0.98350\n",
      "epoch: 02, loss: -0.98794\n",
      "epoch: 03, loss: -0.99015\n",
      "epoch: 04, loss: -0.99154\n",
      "epoch: 05, loss: -0.99251\n",
      "epoch: 06, loss: -0.99323\n",
      "epoch: 07, loss: -0.99380\n",
      "epoch: 08, loss: -0.99426\n",
      "epoch: 09, loss: -0.99463\n",
      "torch.Size([1024, 384])\n"
     ]
    },
    {
     "name": "stderr",
     "output_type": "stream",
     "text": [
      " 24%|██▍       | 239/999 [1:52:54<6:51:17, 32.47s/it]"
     ]
    },
    {
     "name": "stdout",
     "output_type": "stream",
     "text": [
      "eigenvalues shape torch.Size([5]) eigenvectors shape torch.Size([5, 1024])\n",
      "239 /home/phdcs2/Hard_Disk/Datasets/Deep-Spectral-Segmentation/data/object-segmentation/ECSSD/features/0241_resized.pth\n",
      "dict_keys(['k', 'indices', 'file', 'id', 'model_name', 'patch_size', 'shape'])\n",
      "0241_resized\n",
      "x0_arr <class 'numpy.ndarray'>\n",
      "x1_arr <class 'numpy.ndarray'>\n",
      "Starting Training\n",
      "epoch: 00, loss: -0.93980\n",
      "epoch: 01, loss: -0.98021\n",
      "epoch: 02, loss: -0.98577\n",
      "epoch: 03, loss: -0.98854\n",
      "epoch: 04, loss: -0.99025\n",
      "epoch: 05, loss: -0.99144\n",
      "epoch: 06, loss: -0.99233\n",
      "epoch: 07, loss: -0.99303\n",
      "epoch: 08, loss: -0.99359\n",
      "epoch: 09, loss: -0.99405\n",
      "torch.Size([1024, 384])\n"
     ]
    },
    {
     "name": "stderr",
     "output_type": "stream",
     "text": [
      " 24%|██▍       | 240/999 [1:53:21<6:30:25, 30.86s/it]"
     ]
    },
    {
     "name": "stdout",
     "output_type": "stream",
     "text": [
      "eigenvalues shape torch.Size([5]) eigenvectors shape torch.Size([5, 1024])\n",
      "240 /home/phdcs2/Hard_Disk/Datasets/Deep-Spectral-Segmentation/data/object-segmentation/ECSSD/features/0242_resized.pth\n",
      "dict_keys(['k', 'indices', 'file', 'id', 'model_name', 'patch_size', 'shape'])\n",
      "0242_resized\n",
      "x0_arr <class 'numpy.ndarray'>\n",
      "x1_arr <class 'numpy.ndarray'>\n",
      "Starting Training\n",
      "epoch: 00, loss: -0.96421\n",
      "epoch: 01, loss: -0.98841\n",
      "epoch: 02, loss: -0.99186\n",
      "epoch: 03, loss: -0.99356\n",
      "epoch: 04, loss: -0.99461\n",
      "epoch: 05, loss: -0.99534\n",
      "epoch: 06, loss: -0.99587\n",
      "epoch: 07, loss: -0.99628\n",
      "epoch: 08, loss: -0.99661\n",
      "epoch: 09, loss: -0.99689\n",
      "torch.Size([1024, 384])\n"
     ]
    },
    {
     "name": "stderr",
     "output_type": "stream",
     "text": [
      " 24%|██▍       | 241/999 [1:53:45<6:06:27, 29.01s/it]"
     ]
    },
    {
     "name": "stdout",
     "output_type": "stream",
     "text": [
      "eigenvalues shape torch.Size([5]) eigenvectors shape torch.Size([5, 1024])\n",
      "241 /home/phdcs2/Hard_Disk/Datasets/Deep-Spectral-Segmentation/data/object-segmentation/ECSSD/features/0243_resized.pth\n",
      "dict_keys(['k', 'indices', 'file', 'id', 'model_name', 'patch_size', 'shape'])\n",
      "0243_resized\n",
      "x0_arr <class 'numpy.ndarray'>\n",
      "x1_arr <class 'numpy.ndarray'>\n",
      "Starting Training\n",
      "epoch: 00, loss: -0.99597\n",
      "epoch: 01, loss: -1.00000\n",
      "epoch: 02, loss: -1.00000\n",
      "epoch: 03, loss: -1.00000\n",
      "epoch: 04, loss: -1.00000\n",
      "epoch: 05, loss: -1.00000\n",
      "epoch: 06, loss: -1.00000\n",
      "epoch: 07, loss: -1.00000\n",
      "epoch: 08, loss: -1.00000\n",
      "epoch: 09, loss: -1.00000\n",
      "torch.Size([1024, 384])\n"
     ]
    },
    {
     "name": "stderr",
     "output_type": "stream",
     "text": [
      " 24%|██▍       | 242/999 [1:54:15<6:07:17, 29.11s/it]"
     ]
    },
    {
     "name": "stdout",
     "output_type": "stream",
     "text": [
      "eigenvalues shape torch.Size([5]) eigenvectors shape torch.Size([5, 1024])\n",
      "242 /home/phdcs2/Hard_Disk/Datasets/Deep-Spectral-Segmentation/data/object-segmentation/ECSSD/features/0244_resized.pth\n",
      "dict_keys(['k', 'indices', 'file', 'id', 'model_name', 'patch_size', 'shape'])\n",
      "0244_resized\n",
      "x0_arr <class 'numpy.ndarray'>\n",
      "x1_arr <class 'numpy.ndarray'>\n",
      "Starting Training\n",
      "epoch: 00, loss: -0.96062\n",
      "epoch: 01, loss: -0.98746\n",
      "epoch: 02, loss: -0.99129\n",
      "epoch: 03, loss: -0.99318\n",
      "epoch: 04, loss: -0.99432\n",
      "epoch: 05, loss: -0.99512\n",
      "epoch: 06, loss: -0.99571\n",
      "epoch: 07, loss: -0.99617\n",
      "epoch: 08, loss: -0.99653\n",
      "epoch: 09, loss: -0.99682\n",
      "torch.Size([1024, 384])\n"
     ]
    },
    {
     "name": "stderr",
     "output_type": "stream",
     "text": [
      " 24%|██▍       | 243/999 [1:54:46<6:15:49, 29.83s/it]"
     ]
    },
    {
     "name": "stdout",
     "output_type": "stream",
     "text": [
      "eigenvalues shape torch.Size([5]) eigenvectors shape torch.Size([5, 1024])\n",
      "243 /home/phdcs2/Hard_Disk/Datasets/Deep-Spectral-Segmentation/data/object-segmentation/ECSSD/features/0245_resized.pth\n",
      "dict_keys(['k', 'indices', 'file', 'id', 'model_name', 'patch_size', 'shape'])\n",
      "0245_resized\n",
      "x0_arr <class 'numpy.ndarray'>\n",
      "x1_arr <class 'numpy.ndarray'>\n",
      "Starting Training\n",
      "epoch: 00, loss: -0.99510\n",
      "epoch: 01, loss: -0.99999\n",
      "epoch: 02, loss: -0.99999\n",
      "epoch: 03, loss: -0.99999\n",
      "epoch: 04, loss: -0.99999\n",
      "epoch: 05, loss: -0.99999\n",
      "epoch: 06, loss: -0.99999\n",
      "epoch: 07, loss: -0.99999\n",
      "epoch: 08, loss: -0.99999\n",
      "epoch: 09, loss: -0.99999\n",
      "torch.Size([1024, 384])\n"
     ]
    },
    {
     "name": "stderr",
     "output_type": "stream",
     "text": [
      " 24%|██▍       | 244/999 [1:55:16<6:16:36, 29.93s/it]"
     ]
    },
    {
     "name": "stdout",
     "output_type": "stream",
     "text": [
      "eigenvalues shape torch.Size([5]) eigenvectors shape torch.Size([5, 1024])\n",
      "244 /home/phdcs2/Hard_Disk/Datasets/Deep-Spectral-Segmentation/data/object-segmentation/ECSSD/features/0246_resized.pth\n",
      "dict_keys(['k', 'indices', 'file', 'id', 'model_name', 'patch_size', 'shape'])\n",
      "0246_resized\n",
      "x0_arr <class 'numpy.ndarray'>\n",
      "x1_arr <class 'numpy.ndarray'>\n",
      "Starting Training\n",
      "epoch: 00, loss: -0.97694\n",
      "epoch: 01, loss: -0.99226\n",
      "epoch: 02, loss: -0.99453\n",
      "epoch: 03, loss: -0.99568\n",
      "epoch: 04, loss: -0.99637\n",
      "epoch: 05, loss: -0.99686\n",
      "epoch: 06, loss: -0.99722\n",
      "epoch: 07, loss: -0.99750\n",
      "epoch: 08, loss: -0.99773\n",
      "epoch: 09, loss: -0.99791\n",
      "torch.Size([1024, 384])\n"
     ]
    },
    {
     "name": "stderr",
     "output_type": "stream",
     "text": [
      " 25%|██▍       | 245/999 [1:55:46<6:14:35, 29.81s/it]"
     ]
    },
    {
     "name": "stdout",
     "output_type": "stream",
     "text": [
      "eigenvalues shape torch.Size([5]) eigenvectors shape torch.Size([5, 1024])\n",
      "245 /home/phdcs2/Hard_Disk/Datasets/Deep-Spectral-Segmentation/data/object-segmentation/ECSSD/features/0247_resized.pth\n",
      "dict_keys(['k', 'indices', 'file', 'id', 'model_name', 'patch_size', 'shape'])\n",
      "0247_resized\n",
      "x0_arr <class 'numpy.ndarray'>\n",
      "x1_arr <class 'numpy.ndarray'>\n",
      "Starting Training\n",
      "epoch: 00, loss: -0.94166\n",
      "epoch: 01, loss: -0.98067\n",
      "epoch: 02, loss: -0.98603\n",
      "epoch: 03, loss: -0.98873\n",
      "epoch: 04, loss: -0.99040\n",
      "epoch: 05, loss: -0.99156\n",
      "epoch: 06, loss: -0.99242\n",
      "epoch: 07, loss: -0.99309\n",
      "epoch: 08, loss: -0.99364\n"
     ]
    },
    {
     "name": "stderr",
     "output_type": "stream",
     "text": [
      " 25%|██▍       | 246/999 [1:56:11<5:55:24, 28.32s/it]"
     ]
    },
    {
     "name": "stdout",
     "output_type": "stream",
     "text": [
      "epoch: 09, loss: -0.99410\n",
      "torch.Size([1024, 384])\n",
      "eigenvalues shape torch.Size([5]) eigenvectors shape torch.Size([5, 1024])\n",
      "246 /home/phdcs2/Hard_Disk/Datasets/Deep-Spectral-Segmentation/data/object-segmentation/ECSSD/features/0248_resized.pth\n",
      "dict_keys(['k', 'indices', 'file', 'id', 'model_name', 'patch_size', 'shape'])\n",
      "0248_resized\n",
      "x0_arr <class 'numpy.ndarray'>\n",
      "x1_arr <class 'numpy.ndarray'>\n",
      "Starting Training\n",
      "epoch: 00, loss: -0.94097\n",
      "epoch: 01, loss: -0.98127\n",
      "epoch: 02, loss: -0.98681\n",
      "epoch: 03, loss: -0.98953\n",
      "epoch: 04, loss: -0.99123\n",
      "epoch: 05, loss: -0.99238\n",
      "epoch: 06, loss: -0.99324\n",
      "epoch: 07, loss: -0.99391\n",
      "epoch: 08, loss: -0.99444\n",
      "epoch: 09, loss: -0.99489\n",
      "torch.Size([1024, 384])\n"
     ]
    },
    {
     "name": "stderr",
     "output_type": "stream",
     "text": [
      " 25%|██▍       | 247/999 [1:56:35<5:40:57, 27.20s/it]"
     ]
    },
    {
     "name": "stdout",
     "output_type": "stream",
     "text": [
      "eigenvalues shape torch.Size([5]) eigenvectors shape torch.Size([5, 1024])\n",
      "247 /home/phdcs2/Hard_Disk/Datasets/Deep-Spectral-Segmentation/data/object-segmentation/ECSSD/features/0249_resized.pth\n",
      "dict_keys(['k', 'indices', 'file', 'id', 'model_name', 'patch_size', 'shape'])\n",
      "0249_resized\n",
      "x0_arr <class 'numpy.ndarray'>\n",
      "x1_arr <class 'numpy.ndarray'>\n",
      "Starting Training\n",
      "epoch: 00, loss: -0.99598\n",
      "epoch: 01, loss: -1.00000\n",
      "epoch: 02, loss: -1.00000\n",
      "epoch: 03, loss: -1.00000\n",
      "epoch: 04, loss: -1.00000\n",
      "epoch: 05, loss: -1.00000\n",
      "epoch: 06, loss: -1.00000\n",
      "epoch: 07, loss: -1.00000\n",
      "epoch: 08, loss: -1.00000\n"
     ]
    },
    {
     "name": "stderr",
     "output_type": "stream",
     "text": [
      " 25%|██▍       | 248/999 [1:57:00<5:29:31, 26.33s/it]"
     ]
    },
    {
     "name": "stdout",
     "output_type": "stream",
     "text": [
      "epoch: 09, loss: -1.00000\n",
      "torch.Size([1024, 384])\n",
      "eigenvalues shape torch.Size([5]) eigenvectors shape torch.Size([5, 1024])\n",
      "248 /home/phdcs2/Hard_Disk/Datasets/Deep-Spectral-Segmentation/data/object-segmentation/ECSSD/features/0250_resized.pth\n",
      "dict_keys(['k', 'indices', 'file', 'id', 'model_name', 'patch_size', 'shape'])\n",
      "0250_resized\n",
      "x0_arr <class 'numpy.ndarray'>\n",
      "x1_arr <class 'numpy.ndarray'>\n",
      "Starting Training\n",
      "epoch: 00, loss: -0.94026\n",
      "epoch: 01, loss: -0.98084\n",
      "epoch: 02, loss: -0.98646\n",
      "epoch: 03, loss: -0.98924\n",
      "epoch: 04, loss: -0.99096\n",
      "epoch: 05, loss: -0.99216\n",
      "epoch: 06, loss: -0.99304\n",
      "epoch: 07, loss: -0.99373\n",
      "epoch: 08, loss: -0.99428\n"
     ]
    },
    {
     "name": "stderr",
     "output_type": "stream",
     "text": [
      " 25%|██▍       | 249/999 [1:57:24<5:22:33, 25.80s/it]"
     ]
    },
    {
     "name": "stdout",
     "output_type": "stream",
     "text": [
      "epoch: 09, loss: -0.99473\n",
      "torch.Size([1024, 384])\n",
      "eigenvalues shape torch.Size([5]) eigenvectors shape torch.Size([5, 1024])\n",
      "249 /home/phdcs2/Hard_Disk/Datasets/Deep-Spectral-Segmentation/data/object-segmentation/ECSSD/features/0251_resized.pth\n",
      "dict_keys(['k', 'indices', 'file', 'id', 'model_name', 'patch_size', 'shape'])\n",
      "0251_resized\n",
      "x0_arr <class 'numpy.ndarray'>\n",
      "x1_arr <class 'numpy.ndarray'>\n",
      "Starting Training\n",
      "epoch: 00, loss: -0.94264\n",
      "epoch: 01, loss: -0.98245\n",
      "epoch: 02, loss: -0.98769\n",
      "epoch: 03, loss: -0.99025\n",
      "epoch: 04, loss: -0.99183\n",
      "epoch: 05, loss: -0.99289\n",
      "epoch: 06, loss: -0.99369\n",
      "epoch: 07, loss: -0.99429\n",
      "epoch: 08, loss: -0.99477\n",
      "epoch: 09, loss: -0.99516\n",
      "torch.Size([1024, 384])\n"
     ]
    },
    {
     "name": "stderr",
     "output_type": "stream",
     "text": [
      " 25%|██▌       | 250/999 [1:57:49<5:17:27, 25.43s/it]"
     ]
    },
    {
     "name": "stdout",
     "output_type": "stream",
     "text": [
      "eigenvalues shape torch.Size([5]) eigenvectors shape torch.Size([5, 1024])\n",
      "250 /home/phdcs2/Hard_Disk/Datasets/Deep-Spectral-Segmentation/data/object-segmentation/ECSSD/features/0252_resized.pth\n",
      "dict_keys(['k', 'indices', 'file', 'id', 'model_name', 'patch_size', 'shape'])\n",
      "0252_resized\n",
      "x0_arr <class 'numpy.ndarray'>\n",
      "x1_arr <class 'numpy.ndarray'>\n",
      "Starting Training\n",
      "epoch: 00, loss: -0.99556\n",
      "epoch: 01, loss: -1.00000\n",
      "epoch: 02, loss: -1.00000\n",
      "epoch: 03, loss: -1.00000\n",
      "epoch: 04, loss: -1.00000\n",
      "epoch: 05, loss: -1.00000\n",
      "epoch: 06, loss: -1.00000\n",
      "epoch: 07, loss: -1.00000\n",
      "epoch: 08, loss: -1.00000\n",
      "epoch: 09, loss: -1.00000\n",
      "torch.Size([1024, 384])\n",
      "eigenvalues shape torch.Size([5]) eigenvectors shape torch.Size([5, 1024])\n"
     ]
    },
    {
     "name": "stderr",
     "output_type": "stream",
     "text": [
      " 25%|██▌       | 251/999 [1:58:13<5:12:35, 25.07s/it]"
     ]
    },
    {
     "name": "stdout",
     "output_type": "stream",
     "text": [
      "251 /home/phdcs2/Hard_Disk/Datasets/Deep-Spectral-Segmentation/data/object-segmentation/ECSSD/features/0253_resized.pth\n",
      "dict_keys(['k', 'indices', 'file', 'id', 'model_name', 'patch_size', 'shape'])\n",
      "0253_resized\n",
      "x0_arr <class 'numpy.ndarray'>\n",
      "x1_arr <class 'numpy.ndarray'>\n",
      "Starting Training\n",
      "epoch: 00, loss: -0.99549\n",
      "epoch: 01, loss: -1.00000\n",
      "epoch: 02, loss: -1.00000\n",
      "epoch: 03, loss: -1.00000\n",
      "epoch: 04, loss: -1.00000\n",
      "epoch: 05, loss: -1.00000\n",
      "epoch: 06, loss: -1.00000\n",
      "epoch: 07, loss: -1.00000\n",
      "epoch: 08, loss: -1.00000\n",
      "epoch: 09, loss: -1.00000\n",
      "torch.Size([1024, 384])\n"
     ]
    },
    {
     "name": "stderr",
     "output_type": "stream",
     "text": [
      " 25%|██▌       | 252/999 [1:58:38<5:10:09, 24.91s/it]"
     ]
    },
    {
     "name": "stdout",
     "output_type": "stream",
     "text": [
      "eigenvalues shape torch.Size([5]) eigenvectors shape torch.Size([5, 1024])\n",
      "252 /home/phdcs2/Hard_Disk/Datasets/Deep-Spectral-Segmentation/data/object-segmentation/ECSSD/features/0254_resized.pth\n",
      "dict_keys(['k', 'indices', 'file', 'id', 'model_name', 'patch_size', 'shape'])\n",
      "0254_resized\n",
      "x0_arr <class 'numpy.ndarray'>\n",
      "x1_arr <class 'numpy.ndarray'>\n",
      "Starting Training\n",
      "epoch: 00, loss: -0.94153\n",
      "epoch: 01, loss: -0.98049\n",
      "epoch: 02, loss: -0.98607\n",
      "epoch: 03, loss: -0.98883\n",
      "epoch: 04, loss: -0.99053\n",
      "epoch: 05, loss: -0.99173\n",
      "epoch: 06, loss: -0.99262\n",
      "epoch: 07, loss: -0.99331\n",
      "epoch: 08, loss: -0.99386\n",
      "epoch: 09, loss: -0.99433\n",
      "torch.Size([1024, 384])\n"
     ]
    },
    {
     "name": "stderr",
     "output_type": "stream",
     "text": [
      " 25%|██▌       | 253/999 [1:59:03<5:09:42, 24.91s/it]"
     ]
    },
    {
     "name": "stdout",
     "output_type": "stream",
     "text": [
      "eigenvalues shape torch.Size([5]) eigenvectors shape torch.Size([5, 1024])\n",
      "253 /home/phdcs2/Hard_Disk/Datasets/Deep-Spectral-Segmentation/data/object-segmentation/ECSSD/features/0255_resized.pth\n",
      "dict_keys(['k', 'indices', 'file', 'id', 'model_name', 'patch_size', 'shape'])\n",
      "0255_resized\n",
      "x0_arr <class 'numpy.ndarray'>\n",
      "x1_arr <class 'numpy.ndarray'>\n",
      "Starting Training\n",
      "epoch: 00, loss: -0.93472\n",
      "epoch: 01, loss: -0.97956\n",
      "epoch: 02, loss: -0.98564\n",
      "epoch: 03, loss: -0.98862\n",
      "epoch: 04, loss: -0.99047\n",
      "epoch: 05, loss: -0.99176\n",
      "epoch: 06, loss: -0.99270\n",
      "epoch: 07, loss: -0.99343\n",
      "epoch: 08, loss: -0.99404\n",
      "epoch: 09, loss: -0.99452\n",
      "torch.Size([1024, 384])\n"
     ]
    },
    {
     "name": "stderr",
     "output_type": "stream",
     "text": [
      " 25%|██▌       | 254/999 [1:59:27<5:09:04, 24.89s/it]"
     ]
    },
    {
     "name": "stdout",
     "output_type": "stream",
     "text": [
      "eigenvalues shape torch.Size([5]) eigenvectors shape torch.Size([5, 1024])\n",
      "254 /home/phdcs2/Hard_Disk/Datasets/Deep-Spectral-Segmentation/data/object-segmentation/ECSSD/features/0256_resized.pth\n",
      "dict_keys(['k', 'indices', 'file', 'id', 'model_name', 'patch_size', 'shape'])\n",
      "0256_resized\n",
      "x0_arr <class 'numpy.ndarray'>\n",
      "x1_arr <class 'numpy.ndarray'>\n",
      "Starting Training\n",
      "epoch: 00, loss: -0.94727\n",
      "epoch: 01, loss: -0.98339\n",
      "epoch: 02, loss: -0.98845\n",
      "epoch: 03, loss: -0.99093\n",
      "epoch: 04, loss: -0.99245\n",
      "epoch: 05, loss: -0.99350\n",
      "epoch: 06, loss: -0.99427\n",
      "epoch: 07, loss: -0.99487\n",
      "epoch: 08, loss: -0.99535\n",
      "epoch: 09, loss: -0.99574\n",
      "torch.Size([1024, 384])\n"
     ]
    },
    {
     "name": "stderr",
     "output_type": "stream",
     "text": [
      " 26%|██▌       | 255/999 [1:59:52<5:07:08, 24.77s/it]"
     ]
    },
    {
     "name": "stdout",
     "output_type": "stream",
     "text": [
      "eigenvalues shape torch.Size([5]) eigenvectors shape torch.Size([5, 1024])\n",
      "255 /home/phdcs2/Hard_Disk/Datasets/Deep-Spectral-Segmentation/data/object-segmentation/ECSSD/features/0257_resized.pth\n",
      "dict_keys(['k', 'indices', 'file', 'id', 'model_name', 'patch_size', 'shape'])\n",
      "0257_resized\n",
      "x0_arr <class 'numpy.ndarray'>\n",
      "x1_arr <class 'numpy.ndarray'>\n",
      "Starting Training\n",
      "epoch: 00, loss: -0.96189\n",
      "epoch: 01, loss: -0.99132\n",
      "epoch: 02, loss: -0.99410\n",
      "epoch: 03, loss: -0.99535\n",
      "epoch: 04, loss: -0.99609\n",
      "epoch: 05, loss: -0.99659\n",
      "epoch: 06, loss: -0.99696\n",
      "epoch: 07, loss: -0.99725\n",
      "epoch: 08, loss: -0.99748\n",
      "epoch: 09, loss: -0.99767\n",
      "torch.Size([1024, 384])\n",
      "eigenvalues shape torch.Size([5]) eigenvectors shape torch.Size([5, 1024])\n"
     ]
    },
    {
     "name": "stderr",
     "output_type": "stream",
     "text": [
      " 26%|██▌       | 256/999 [2:00:16<5:05:59, 24.71s/it]"
     ]
    },
    {
     "name": "stdout",
     "output_type": "stream",
     "text": [
      "256 /home/phdcs2/Hard_Disk/Datasets/Deep-Spectral-Segmentation/data/object-segmentation/ECSSD/features/0258_resized.pth\n",
      "dict_keys(['k', 'indices', 'file', 'id', 'model_name', 'patch_size', 'shape'])\n",
      "0258_resized\n",
      "x0_arr <class 'numpy.ndarray'>\n",
      "x1_arr <class 'numpy.ndarray'>\n",
      "Starting Training\n",
      "epoch: 00, loss: -0.96543\n",
      "epoch: 01, loss: -0.98969\n",
      "epoch: 02, loss: -0.99268\n",
      "epoch: 03, loss: -0.99411\n",
      "epoch: 04, loss: -0.99499\n",
      "epoch: 05, loss: -0.99559\n",
      "epoch: 06, loss: -0.99603\n",
      "epoch: 07, loss: -0.99638\n",
      "epoch: 08, loss: -0.99665\n",
      "epoch: 09, loss: -0.99688\n",
      "torch.Size([1024, 384])\n"
     ]
    },
    {
     "name": "stderr",
     "output_type": "stream",
     "text": [
      " 26%|██▌       | 257/999 [2:00:41<5:05:47, 24.73s/it]"
     ]
    },
    {
     "name": "stdout",
     "output_type": "stream",
     "text": [
      "eigenvalues shape torch.Size([5]) eigenvectors shape torch.Size([5, 1024])\n",
      "257 /home/phdcs2/Hard_Disk/Datasets/Deep-Spectral-Segmentation/data/object-segmentation/ECSSD/features/0259_resized.pth\n",
      "dict_keys(['k', 'indices', 'file', 'id', 'model_name', 'patch_size', 'shape'])\n",
      "0259_resized\n",
      "x0_arr <class 'numpy.ndarray'>\n",
      "x1_arr <class 'numpy.ndarray'>\n",
      "Starting Training\n",
      "epoch: 00, loss: -0.94846\n",
      "epoch: 01, loss: -0.98270\n",
      "epoch: 02, loss: -0.98752\n",
      "epoch: 03, loss: -0.98991\n",
      "epoch: 04, loss: -0.99141\n",
      "epoch: 05, loss: -0.99244\n",
      "epoch: 06, loss: -0.99319\n",
      "epoch: 07, loss: -0.99380\n",
      "epoch: 08, loss: -0.99427\n"
     ]
    },
    {
     "name": "stderr",
     "output_type": "stream",
     "text": [
      " 26%|██▌       | 258/999 [2:01:06<5:05:40, 24.75s/it]"
     ]
    },
    {
     "name": "stdout",
     "output_type": "stream",
     "text": [
      "epoch: 09, loss: -0.99468\n",
      "torch.Size([1024, 384])\n",
      "eigenvalues shape torch.Size([5]) eigenvectors shape torch.Size([5, 1024])\n",
      "258 /home/phdcs2/Hard_Disk/Datasets/Deep-Spectral-Segmentation/data/object-segmentation/ECSSD/features/0260_resized.pth\n",
      "dict_keys(['k', 'indices', 'file', 'id', 'model_name', 'patch_size', 'shape'])\n",
      "0260_resized\n",
      "x0_arr <class 'numpy.ndarray'>\n",
      "x1_arr <class 'numpy.ndarray'>\n",
      "Starting Training\n",
      "epoch: 00, loss: -0.93881\n",
      "epoch: 01, loss: -0.97940\n",
      "epoch: 02, loss: -0.98517\n",
      "epoch: 03, loss: -0.98802\n",
      "epoch: 04, loss: -0.98983\n",
      "epoch: 05, loss: -0.99109\n",
      "epoch: 06, loss: -0.99201\n",
      "epoch: 07, loss: -0.99274\n",
      "epoch: 08, loss: -0.99333\n",
      "epoch: 09, loss: -0.99383\n",
      "torch.Size([1024, 384])\n"
     ]
    },
    {
     "name": "stderr",
     "output_type": "stream",
     "text": [
      " 26%|██▌       | 259/999 [2:01:31<5:06:02, 24.81s/it]"
     ]
    },
    {
     "name": "stdout",
     "output_type": "stream",
     "text": [
      "eigenvalues shape torch.Size([5]) eigenvectors shape torch.Size([5, 1024])\n",
      "259 /home/phdcs2/Hard_Disk/Datasets/Deep-Spectral-Segmentation/data/object-segmentation/ECSSD/features/0261_resized.pth\n",
      "dict_keys(['k', 'indices', 'file', 'id', 'model_name', 'patch_size', 'shape'])\n",
      "0261_resized\n",
      "x0_arr <class 'numpy.ndarray'>\n",
      "x1_arr <class 'numpy.ndarray'>\n",
      "Starting Training\n",
      "epoch: 00, loss: -0.94204\n",
      "epoch: 01, loss: -0.98403\n",
      "epoch: 02, loss: -0.98934\n",
      "epoch: 03, loss: -0.99185\n",
      "epoch: 04, loss: -0.99334\n",
      "epoch: 05, loss: -0.99434\n",
      "epoch: 06, loss: -0.99507\n",
      "epoch: 07, loss: -0.99562\n",
      "epoch: 08, loss: -0.99605\n",
      "epoch: 09, loss: -0.99640\n",
      "torch.Size([1024, 384])\n"
     ]
    },
    {
     "name": "stderr",
     "output_type": "stream",
     "text": [
      " 26%|██▌       | 260/999 [2:02:01<5:26:07, 26.48s/it]"
     ]
    },
    {
     "name": "stdout",
     "output_type": "stream",
     "text": [
      "eigenvalues shape torch.Size([5]) eigenvectors shape torch.Size([5, 1024])\n",
      "260 /home/phdcs2/Hard_Disk/Datasets/Deep-Spectral-Segmentation/data/object-segmentation/ECSSD/features/0262_resized.pth\n",
      "dict_keys(['k', 'indices', 'file', 'id', 'model_name', 'patch_size', 'shape'])\n",
      "0262_resized\n",
      "x0_arr <class 'numpy.ndarray'>\n",
      "x1_arr <class 'numpy.ndarray'>\n",
      "Starting Training\n",
      "epoch: 00, loss: -0.94441\n",
      "epoch: 01, loss: -0.98076\n",
      "epoch: 02, loss: -0.98594\n",
      "epoch: 03, loss: -0.98853\n",
      "epoch: 04, loss: -0.99014\n",
      "epoch: 05, loss: -0.99129\n",
      "epoch: 06, loss: -0.99213\n",
      "epoch: 07, loss: -0.99279\n",
      "epoch: 08, loss: -0.99335\n",
      "epoch: 09, loss: -0.99379\n",
      "torch.Size([1024, 384])\n"
     ]
    },
    {
     "name": "stderr",
     "output_type": "stream",
     "text": [
      " 26%|██▌       | 261/999 [2:02:30<5:34:16, 27.18s/it]"
     ]
    },
    {
     "name": "stdout",
     "output_type": "stream",
     "text": [
      "eigenvalues shape torch.Size([5]) eigenvectors shape torch.Size([5, 1024])\n",
      "261 /home/phdcs2/Hard_Disk/Datasets/Deep-Spectral-Segmentation/data/object-segmentation/ECSSD/features/0263_resized.pth\n",
      "dict_keys(['k', 'indices', 'file', 'id', 'model_name', 'patch_size', 'shape'])\n",
      "0263_resized\n",
      "x0_arr <class 'numpy.ndarray'>\n",
      "x1_arr <class 'numpy.ndarray'>\n",
      "Starting Training\n",
      "epoch: 00, loss: -0.95409\n",
      "epoch: 01, loss: -0.98921\n",
      "epoch: 02, loss: -0.99328\n",
      "epoch: 03, loss: -0.99511\n",
      "epoch: 04, loss: -0.99616\n",
      "epoch: 05, loss: -0.99683\n",
      "epoch: 06, loss: -0.99731\n",
      "epoch: 07, loss: -0.99766\n",
      "epoch: 08, loss: -0.99793\n",
      "epoch: 09, loss: -0.99814\n",
      "torch.Size([1024, 384])\n"
     ]
    },
    {
     "name": "stderr",
     "output_type": "stream",
     "text": [
      " 26%|██▌       | 262/999 [2:02:57<5:32:43, 27.09s/it]"
     ]
    },
    {
     "name": "stdout",
     "output_type": "stream",
     "text": [
      "eigenvalues shape torch.Size([5]) eigenvectors shape torch.Size([5, 1024])\n",
      "262 /home/phdcs2/Hard_Disk/Datasets/Deep-Spectral-Segmentation/data/object-segmentation/ECSSD/features/0264_resized.pth\n",
      "dict_keys(['k', 'indices', 'file', 'id', 'model_name', 'patch_size', 'shape'])\n",
      "0264_resized\n",
      "x0_arr <class 'numpy.ndarray'>\n",
      "x1_arr <class 'numpy.ndarray'>\n",
      "Starting Training\n",
      "epoch: 00, loss: -0.99554\n",
      "epoch: 01, loss: -1.00000\n",
      "epoch: 02, loss: -1.00000\n",
      "epoch: 03, loss: -1.00000\n",
      "epoch: 04, loss: -1.00000\n",
      "epoch: 05, loss: -1.00000\n",
      "epoch: 06, loss: -1.00000\n",
      "epoch: 07, loss: -1.00000\n",
      "epoch: 08, loss: -1.00000\n",
      "epoch: 09, loss: -1.00000\n",
      "torch.Size([1024, 384])\n"
     ]
    },
    {
     "name": "stderr",
     "output_type": "stream",
     "text": [
      " 26%|██▋       | 263/999 [2:03:25<5:34:59, 27.31s/it]"
     ]
    },
    {
     "name": "stdout",
     "output_type": "stream",
     "text": [
      "eigenvalues shape torch.Size([5]) eigenvectors shape torch.Size([5, 1024])\n",
      "263 /home/phdcs2/Hard_Disk/Datasets/Deep-Spectral-Segmentation/data/object-segmentation/ECSSD/features/0265_resized.pth\n",
      "dict_keys(['k', 'indices', 'file', 'id', 'model_name', 'patch_size', 'shape'])\n",
      "0265_resized\n",
      "x0_arr <class 'numpy.ndarray'>\n",
      "x1_arr <class 'numpy.ndarray'>\n",
      "Starting Training\n",
      "epoch: 00, loss: -0.99525\n",
      "epoch: 01, loss: -1.00000\n",
      "epoch: 02, loss: -1.00000\n",
      "epoch: 03, loss: -1.00000\n",
      "epoch: 04, loss: -1.00000\n",
      "epoch: 05, loss: -1.00000\n",
      "epoch: 06, loss: -1.00000\n",
      "epoch: 07, loss: -1.00000\n",
      "epoch: 08, loss: -1.00000\n",
      "epoch: 09, loss: -1.00000\n",
      "torch.Size([1024, 384])\n"
     ]
    },
    {
     "name": "stderr",
     "output_type": "stream",
     "text": [
      " 26%|██▋       | 264/999 [2:03:53<5:39:18, 27.70s/it]"
     ]
    },
    {
     "name": "stdout",
     "output_type": "stream",
     "text": [
      "eigenvalues shape torch.Size([5]) eigenvectors shape torch.Size([5, 1024])\n",
      "264 /home/phdcs2/Hard_Disk/Datasets/Deep-Spectral-Segmentation/data/object-segmentation/ECSSD/features/0266_resized.pth\n",
      "dict_keys(['k', 'indices', 'file', 'id', 'model_name', 'patch_size', 'shape'])\n",
      "0266_resized\n",
      "x0_arr <class 'numpy.ndarray'>\n",
      "x1_arr <class 'numpy.ndarray'>\n",
      "Starting Training\n",
      "epoch: 00, loss: -0.95022\n",
      "epoch: 01, loss: -0.98382\n",
      "epoch: 02, loss: -0.98850\n",
      "epoch: 03, loss: -0.99078\n",
      "epoch: 04, loss: -0.99220\n",
      "epoch: 05, loss: -0.99318\n",
      "epoch: 06, loss: -0.99390\n",
      "epoch: 07, loss: -0.99445\n",
      "epoch: 08, loss: -0.99490\n",
      "epoch: 09, loss: -0.99527\n",
      "torch.Size([1024, 384])\n"
     ]
    },
    {
     "name": "stderr",
     "output_type": "stream",
     "text": [
      " 27%|██▋       | 265/999 [2:04:18<5:25:47, 26.63s/it]"
     ]
    },
    {
     "name": "stdout",
     "output_type": "stream",
     "text": [
      "eigenvalues shape torch.Size([5]) eigenvectors shape torch.Size([5, 1024])\n",
      "265 /home/phdcs2/Hard_Disk/Datasets/Deep-Spectral-Segmentation/data/object-segmentation/ECSSD/features/0267_resized.pth\n",
      "dict_keys(['k', 'indices', 'file', 'id', 'model_name', 'patch_size', 'shape'])\n",
      "0267_resized\n",
      "x0_arr <class 'numpy.ndarray'>\n",
      "x1_arr <class 'numpy.ndarray'>\n",
      "Starting Training\n",
      "epoch: 00, loss: -0.99457\n",
      "epoch: 01, loss: -1.00000\n",
      "epoch: 02, loss: -1.00000\n",
      "epoch: 03, loss: -1.00000\n",
      "epoch: 04, loss: -1.00000\n",
      "epoch: 05, loss: -1.00000\n",
      "epoch: 06, loss: -1.00000\n",
      "epoch: 07, loss: -1.00000\n",
      "epoch: 08, loss: -1.00000\n",
      "epoch: 09, loss: -1.00000\n",
      "torch.Size([1024, 384])\n"
     ]
    },
    {
     "name": "stderr",
     "output_type": "stream",
     "text": [
      " 27%|██▋       | 266/999 [2:04:50<5:47:22, 28.43s/it]"
     ]
    },
    {
     "name": "stdout",
     "output_type": "stream",
     "text": [
      "eigenvalues shape torch.Size([5]) eigenvectors shape torch.Size([5, 1024])\n",
      "266 /home/phdcs2/Hard_Disk/Datasets/Deep-Spectral-Segmentation/data/object-segmentation/ECSSD/features/0268_resized.pth\n",
      "dict_keys(['k', 'indices', 'file', 'id', 'model_name', 'patch_size', 'shape'])\n",
      "0268_resized\n",
      "x0_arr <class 'numpy.ndarray'>\n",
      "x1_arr <class 'numpy.ndarray'>\n",
      "Starting Training\n",
      "epoch: 00, loss: -0.99566\n",
      "epoch: 01, loss: -1.00000\n",
      "epoch: 02, loss: -1.00000\n",
      "epoch: 03, loss: -1.00000\n",
      "epoch: 04, loss: -1.00000\n",
      "epoch: 05, loss: -1.00000\n",
      "epoch: 06, loss: -1.00000\n",
      "epoch: 07, loss: -1.00000\n",
      "epoch: 08, loss: -1.00000\n"
     ]
    },
    {
     "name": "stderr",
     "output_type": "stream",
     "text": [
      " 27%|██▋       | 267/999 [2:05:18<5:45:42, 28.34s/it]"
     ]
    },
    {
     "name": "stdout",
     "output_type": "stream",
     "text": [
      "epoch: 09, loss: -1.00000\n",
      "torch.Size([1024, 384])\n",
      "eigenvalues shape torch.Size([5]) eigenvectors shape torch.Size([5, 1024])\n",
      "267 /home/phdcs2/Hard_Disk/Datasets/Deep-Spectral-Segmentation/data/object-segmentation/ECSSD/features/0269_resized.pth\n",
      "dict_keys(['k', 'indices', 'file', 'id', 'model_name', 'patch_size', 'shape'])\n",
      "0269_resized\n",
      "x0_arr <class 'numpy.ndarray'>\n",
      "x1_arr <class 'numpy.ndarray'>\n",
      "Starting Training\n",
      "epoch: 00, loss: -0.94155\n",
      "epoch: 01, loss: -0.97991\n",
      "epoch: 02, loss: -0.98541\n",
      "epoch: 03, loss: -0.98817\n",
      "epoch: 04, loss: -0.98989\n",
      "epoch: 05, loss: -0.99110\n",
      "epoch: 06, loss: -0.99199\n",
      "epoch: 07, loss: -0.99270\n",
      "epoch: 08, loss: -0.99327\n",
      "epoch: 09, loss: -0.99374\n",
      "torch.Size([1024, 384])\n"
     ]
    },
    {
     "name": "stderr",
     "output_type": "stream",
     "text": [
      " 27%|██▋       | 268/999 [2:05:43<5:30:55, 27.16s/it]"
     ]
    },
    {
     "name": "stdout",
     "output_type": "stream",
     "text": [
      "eigenvalues shape torch.Size([5]) eigenvectors shape torch.Size([5, 1024])\n",
      "268 /home/phdcs2/Hard_Disk/Datasets/Deep-Spectral-Segmentation/data/object-segmentation/ECSSD/features/0270_resized.pth\n",
      "dict_keys(['k', 'indices', 'file', 'id', 'model_name', 'patch_size', 'shape'])\n",
      "0270_resized\n",
      "x0_arr <class 'numpy.ndarray'>\n",
      "x1_arr <class 'numpy.ndarray'>\n",
      "Starting Training\n",
      "epoch: 00, loss: -0.99487\n",
      "epoch: 01, loss: -1.00000\n",
      "epoch: 02, loss: -1.00000\n",
      "epoch: 03, loss: -1.00000\n",
      "epoch: 04, loss: -1.00000\n",
      "epoch: 05, loss: -1.00000\n",
      "epoch: 06, loss: -1.00000\n",
      "epoch: 07, loss: -1.00000\n",
      "epoch: 08, loss: -1.00000\n",
      "epoch: 09, loss: -1.00000\n",
      "torch.Size([1024, 384])\n"
     ]
    },
    {
     "name": "stderr",
     "output_type": "stream",
     "text": [
      " 27%|██▋       | 269/999 [2:06:13<5:40:33, 27.99s/it]"
     ]
    },
    {
     "name": "stdout",
     "output_type": "stream",
     "text": [
      "eigenvalues shape torch.Size([5]) eigenvectors shape torch.Size([5, 1024])\n",
      "269 /home/phdcs2/Hard_Disk/Datasets/Deep-Spectral-Segmentation/data/object-segmentation/ECSSD/features/0271_resized.pth\n",
      "dict_keys(['k', 'indices', 'file', 'id', 'model_name', 'patch_size', 'shape'])\n",
      "0271_resized\n",
      "x0_arr <class 'numpy.ndarray'>\n",
      "x1_arr <class 'numpy.ndarray'>\n",
      "Starting Training\n",
      "epoch: 00, loss: -0.99600\n",
      "epoch: 01, loss: -1.00000\n",
      "epoch: 02, loss: -1.00000\n",
      "epoch: 03, loss: -1.00000\n",
      "epoch: 04, loss: -1.00000\n",
      "epoch: 05, loss: -1.00000\n",
      "epoch: 06, loss: -1.00000\n",
      "epoch: 07, loss: -1.00000\n",
      "epoch: 08, loss: -1.00000\n",
      "epoch: 09, loss: -1.00000\n",
      "torch.Size([1024, 384])\n"
     ]
    },
    {
     "name": "stderr",
     "output_type": "stream",
     "text": [
      " 27%|██▋       | 270/999 [2:06:46<5:58:53, 29.54s/it]"
     ]
    },
    {
     "name": "stdout",
     "output_type": "stream",
     "text": [
      "eigenvalues shape torch.Size([5]) eigenvectors shape torch.Size([5, 1024])\n",
      "270 /home/phdcs2/Hard_Disk/Datasets/Deep-Spectral-Segmentation/data/object-segmentation/ECSSD/features/0272_resized.pth\n",
      "dict_keys(['k', 'indices', 'file', 'id', 'model_name', 'patch_size', 'shape'])\n",
      "0272_resized\n",
      "x0_arr <class 'numpy.ndarray'>\n",
      "x1_arr <class 'numpy.ndarray'>\n",
      "Starting Training\n",
      "epoch: 00, loss: -0.99547\n",
      "epoch: 01, loss: -0.99990\n",
      "epoch: 02, loss: -0.99990\n",
      "epoch: 03, loss: -0.99991\n",
      "epoch: 04, loss: -0.99991\n",
      "epoch: 05, loss: -0.99991\n",
      "epoch: 06, loss: -0.99992\n",
      "epoch: 07, loss: -0.99992\n",
      "epoch: 08, loss: -0.99992\n",
      "epoch: 09, loss: -0.99992\n",
      "torch.Size([1024, 384])\n"
     ]
    },
    {
     "name": "stderr",
     "output_type": "stream",
     "text": [
      " 27%|██▋       | 271/999 [2:07:14<5:54:00, 29.18s/it]"
     ]
    },
    {
     "name": "stdout",
     "output_type": "stream",
     "text": [
      "eigenvalues shape torch.Size([5]) eigenvectors shape torch.Size([5, 1024])\n",
      "271 /home/phdcs2/Hard_Disk/Datasets/Deep-Spectral-Segmentation/data/object-segmentation/ECSSD/features/0273_resized.pth\n",
      "dict_keys(['k', 'indices', 'file', 'id', 'model_name', 'patch_size', 'shape'])\n",
      "0273_resized\n",
      "x0_arr <class 'numpy.ndarray'>\n",
      "x1_arr <class 'numpy.ndarray'>\n",
      "Starting Training\n",
      "epoch: 00, loss: -0.95887\n",
      "epoch: 01, loss: -0.98606\n",
      "epoch: 02, loss: -0.98996\n",
      "epoch: 03, loss: -0.99191\n",
      "epoch: 04, loss: -0.99312\n",
      "epoch: 05, loss: -0.99397\n",
      "epoch: 06, loss: -0.99459\n",
      "epoch: 07, loss: -0.99509\n",
      "epoch: 08, loss: -0.99548\n",
      "epoch: 09, loss: -0.99581\n",
      "torch.Size([1024, 384])\n"
     ]
    },
    {
     "name": "stderr",
     "output_type": "stream",
     "text": [
      " 27%|██▋       | 272/999 [2:07:48<6:09:37, 30.51s/it]"
     ]
    },
    {
     "name": "stdout",
     "output_type": "stream",
     "text": [
      "eigenvalues shape torch.Size([5]) eigenvectors shape torch.Size([5, 1024])\n",
      "272 /home/phdcs2/Hard_Disk/Datasets/Deep-Spectral-Segmentation/data/object-segmentation/ECSSD/features/0274_resized.pth\n",
      "dict_keys(['k', 'indices', 'file', 'id', 'model_name', 'patch_size', 'shape'])\n",
      "0274_resized\n",
      "x0_arr <class 'numpy.ndarray'>\n",
      "x1_arr <class 'numpy.ndarray'>\n",
      "Starting Training\n",
      "epoch: 00, loss: -0.99546\n",
      "epoch: 01, loss: -1.00000\n",
      "epoch: 02, loss: -1.00000\n",
      "epoch: 03, loss: -1.00000\n",
      "epoch: 04, loss: -1.00000\n",
      "epoch: 05, loss: -1.00000\n",
      "epoch: 06, loss: -1.00000\n",
      "epoch: 07, loss: -1.00000\n",
      "epoch: 08, loss: -1.00000\n",
      "epoch: 09, loss: -1.00000\n",
      "torch.Size([1024, 384])\n"
     ]
    },
    {
     "name": "stderr",
     "output_type": "stream",
     "text": [
      " 27%|██▋       | 273/999 [2:08:17<6:04:33, 30.13s/it]"
     ]
    },
    {
     "name": "stdout",
     "output_type": "stream",
     "text": [
      "eigenvalues shape torch.Size([5]) eigenvectors shape torch.Size([5, 1024])\n",
      "273 /home/phdcs2/Hard_Disk/Datasets/Deep-Spectral-Segmentation/data/object-segmentation/ECSSD/features/0275_resized.pth\n",
      "dict_keys(['k', 'indices', 'file', 'id', 'model_name', 'patch_size', 'shape'])\n",
      "0275_resized\n",
      "x0_arr <class 'numpy.ndarray'>\n",
      "x1_arr <class 'numpy.ndarray'>\n",
      "Starting Training\n",
      "epoch: 00, loss: -0.99555\n",
      "epoch: 01, loss: -1.00000\n",
      "epoch: 02, loss: -1.00000\n",
      "epoch: 03, loss: -1.00000\n",
      "epoch: 04, loss: -1.00000\n",
      "epoch: 05, loss: -1.00000\n",
      "epoch: 06, loss: -1.00000\n",
      "epoch: 07, loss: -1.00000\n",
      "epoch: 08, loss: -1.00000\n"
     ]
    },
    {
     "name": "stderr",
     "output_type": "stream",
     "text": [
      " 27%|██▋       | 274/999 [2:08:44<5:52:43, 29.19s/it]"
     ]
    },
    {
     "name": "stdout",
     "output_type": "stream",
     "text": [
      "epoch: 09, loss: -1.00000\n",
      "torch.Size([1024, 384])\n",
      "eigenvalues shape torch.Size([5]) eigenvectors shape torch.Size([5, 1024])\n",
      "274 /home/phdcs2/Hard_Disk/Datasets/Deep-Spectral-Segmentation/data/object-segmentation/ECSSD/features/0276_resized.pth\n",
      "dict_keys(['k', 'indices', 'file', 'id', 'model_name', 'patch_size', 'shape'])\n",
      "0276_resized\n",
      "x0_arr <class 'numpy.ndarray'>\n",
      "x1_arr <class 'numpy.ndarray'>\n",
      "Starting Training\n",
      "epoch: 00, loss: -0.99183\n",
      "epoch: 01, loss: -0.99849\n",
      "epoch: 02, loss: -0.99890\n",
      "epoch: 03, loss: -0.99913\n",
      "epoch: 04, loss: -0.99928\n",
      "epoch: 05, loss: -0.99939\n",
      "epoch: 06, loss: -0.99947\n",
      "epoch: 07, loss: -0.99954\n",
      "epoch: 08, loss: -0.99958\n",
      "epoch: 09, loss: -0.99962\n",
      "torch.Size([1024, 384])\n"
     ]
    },
    {
     "name": "stderr",
     "output_type": "stream",
     "text": [
      " 28%|██▊       | 275/999 [2:09:09<5:37:23, 27.96s/it]"
     ]
    },
    {
     "name": "stdout",
     "output_type": "stream",
     "text": [
      "eigenvalues shape torch.Size([5]) eigenvectors shape torch.Size([5, 1024])\n",
      "275 /home/phdcs2/Hard_Disk/Datasets/Deep-Spectral-Segmentation/data/object-segmentation/ECSSD/features/0277_resized.pth\n",
      "dict_keys(['k', 'indices', 'file', 'id', 'model_name', 'patch_size', 'shape'])\n",
      "0277_resized\n",
      "x0_arr <class 'numpy.ndarray'>\n",
      "x1_arr <class 'numpy.ndarray'>\n",
      "Starting Training\n",
      "epoch: 00, loss: -0.98187\n",
      "epoch: 01, loss: -0.99554\n",
      "epoch: 02, loss: -0.99711\n",
      "epoch: 03, loss: -0.99782\n",
      "epoch: 04, loss: -0.99823\n",
      "epoch: 05, loss: -0.99850\n",
      "epoch: 06, loss: -0.99870\n",
      "epoch: 07, loss: -0.99885\n",
      "epoch: 08, loss: -0.99896\n",
      "epoch: 09, loss: -0.99905\n",
      "torch.Size([1024, 384])\n"
     ]
    },
    {
     "name": "stderr",
     "output_type": "stream",
     "text": [
      " 28%|██▊       | 276/999 [2:09:36<5:31:31, 27.51s/it]"
     ]
    },
    {
     "name": "stdout",
     "output_type": "stream",
     "text": [
      "eigenvalues shape torch.Size([5]) eigenvectors shape torch.Size([5, 1024])\n",
      "276 /home/phdcs2/Hard_Disk/Datasets/Deep-Spectral-Segmentation/data/object-segmentation/ECSSD/features/0278_resized.pth\n",
      "dict_keys(['k', 'indices', 'file', 'id', 'model_name', 'patch_size', 'shape'])\n",
      "0278_resized\n",
      "x0_arr <class 'numpy.ndarray'>\n",
      "x1_arr <class 'numpy.ndarray'>\n",
      "Starting Training\n",
      "epoch: 00, loss: -0.99541\n",
      "epoch: 01, loss: -1.00000\n",
      "epoch: 02, loss: -1.00000\n",
      "epoch: 03, loss: -1.00000\n",
      "epoch: 04, loss: -1.00000\n",
      "epoch: 05, loss: -1.00000\n",
      "epoch: 06, loss: -1.00000\n",
      "epoch: 07, loss: -1.00000\n",
      "epoch: 08, loss: -1.00000\n",
      "epoch: 09, loss: -1.00000\n",
      "torch.Size([1024, 384])\n"
     ]
    },
    {
     "name": "stderr",
     "output_type": "stream",
     "text": [
      " 28%|██▊       | 277/999 [2:10:00<5:21:05, 26.68s/it]"
     ]
    },
    {
     "name": "stdout",
     "output_type": "stream",
     "text": [
      "eigenvalues shape torch.Size([5]) eigenvectors shape torch.Size([5, 1024])\n",
      "277 /home/phdcs2/Hard_Disk/Datasets/Deep-Spectral-Segmentation/data/object-segmentation/ECSSD/features/0279_resized.pth\n",
      "dict_keys(['k', 'indices', 'file', 'id', 'model_name', 'patch_size', 'shape'])\n",
      "0279_resized\n",
      "x0_arr <class 'numpy.ndarray'>\n",
      "x1_arr <class 'numpy.ndarray'>\n",
      "Starting Training\n",
      "epoch: 00, loss: -0.99583\n",
      "epoch: 01, loss: -0.99995\n",
      "epoch: 02, loss: -0.99995\n",
      "epoch: 03, loss: -0.99995\n",
      "epoch: 04, loss: -0.99995\n",
      "epoch: 05, loss: -0.99995\n",
      "epoch: 06, loss: -0.99996\n",
      "epoch: 07, loss: -0.99996\n",
      "epoch: 08, loss: -0.99996\n",
      "epoch: 09, loss: -0.99996\n",
      "torch.Size([1024, 384])\n"
     ]
    },
    {
     "name": "stderr",
     "output_type": "stream",
     "text": [
      " 28%|██▊       | 278/999 [2:10:26<5:17:14, 26.40s/it]"
     ]
    },
    {
     "name": "stdout",
     "output_type": "stream",
     "text": [
      "eigenvalues shape torch.Size([5]) eigenvectors shape torch.Size([5, 1024])\n",
      "278 /home/phdcs2/Hard_Disk/Datasets/Deep-Spectral-Segmentation/data/object-segmentation/ECSSD/features/0280_resized.pth\n",
      "dict_keys(['k', 'indices', 'file', 'id', 'model_name', 'patch_size', 'shape'])\n",
      "0280_resized\n",
      "x0_arr <class 'numpy.ndarray'>\n",
      "x1_arr <class 'numpy.ndarray'>\n",
      "Starting Training\n",
      "epoch: 00, loss: -0.99576\n",
      "epoch: 01, loss: -1.00000\n",
      "epoch: 02, loss: -1.00000\n",
      "epoch: 03, loss: -1.00000\n",
      "epoch: 04, loss: -1.00000\n",
      "epoch: 05, loss: -1.00000\n",
      "epoch: 06, loss: -1.00000\n",
      "epoch: 07, loss: -1.00000\n",
      "epoch: 08, loss: -1.00000\n",
      "epoch: 09, loss: -1.00000\n",
      "torch.Size([1024, 384])\n"
     ]
    },
    {
     "name": "stderr",
     "output_type": "stream",
     "text": [
      " 28%|██▊       | 279/999 [2:10:51<5:12:49, 26.07s/it]"
     ]
    },
    {
     "name": "stdout",
     "output_type": "stream",
     "text": [
      "eigenvalues shape torch.Size([5]) eigenvectors shape torch.Size([5, 1024])\n",
      "279 /home/phdcs2/Hard_Disk/Datasets/Deep-Spectral-Segmentation/data/object-segmentation/ECSSD/features/0281_resized.pth\n",
      "dict_keys(['k', 'indices', 'file', 'id', 'model_name', 'patch_size', 'shape'])\n",
      "0281_resized\n",
      "x0_arr <class 'numpy.ndarray'>\n",
      "x1_arr <class 'numpy.ndarray'>\n",
      "Starting Training\n",
      "epoch: 00, loss: -0.99570\n",
      "epoch: 01, loss: -0.99999\n",
      "epoch: 02, loss: -0.99999\n",
      "epoch: 03, loss: -0.99999\n",
      "epoch: 04, loss: -0.99999\n",
      "epoch: 05, loss: -0.99999\n",
      "epoch: 06, loss: -0.99999\n",
      "epoch: 07, loss: -0.99999\n",
      "epoch: 08, loss: -0.99999\n",
      "epoch: 09, loss: -0.99999\n",
      "torch.Size([1024, 384])\n"
     ]
    },
    {
     "name": "stderr",
     "output_type": "stream",
     "text": [
      " 28%|██▊       | 280/999 [2:11:22<5:29:46, 27.52s/it]"
     ]
    },
    {
     "name": "stdout",
     "output_type": "stream",
     "text": [
      "eigenvalues shape torch.Size([5]) eigenvectors shape torch.Size([5, 1024])\n",
      "280 /home/phdcs2/Hard_Disk/Datasets/Deep-Spectral-Segmentation/data/object-segmentation/ECSSD/features/0282_resized.pth\n",
      "dict_keys(['k', 'indices', 'file', 'id', 'model_name', 'patch_size', 'shape'])\n",
      "0282_resized\n",
      "x0_arr <class 'numpy.ndarray'>\n",
      "x1_arr <class 'numpy.ndarray'>\n",
      "Starting Training\n",
      "epoch: 00, loss: -0.94095\n",
      "epoch: 01, loss: -0.98159\n",
      "epoch: 02, loss: -0.98712\n",
      "epoch: 03, loss: -0.98980\n",
      "epoch: 04, loss: -0.99145\n",
      "epoch: 05, loss: -0.99257\n",
      "epoch: 06, loss: -0.99341\n",
      "epoch: 07, loss: -0.99406\n",
      "epoch: 08, loss: -0.99458\n",
      "epoch: 09, loss: -0.99499\n",
      "torch.Size([1024, 384])\n"
     ]
    },
    {
     "name": "stderr",
     "output_type": "stream",
     "text": [
      " 28%|██▊       | 281/999 [2:11:59<6:01:21, 30.20s/it]"
     ]
    },
    {
     "name": "stdout",
     "output_type": "stream",
     "text": [
      "eigenvalues shape torch.Size([5]) eigenvectors shape torch.Size([5, 1024])\n",
      "281 /home/phdcs2/Hard_Disk/Datasets/Deep-Spectral-Segmentation/data/object-segmentation/ECSSD/features/0283_resized.pth\n",
      "dict_keys(['k', 'indices', 'file', 'id', 'model_name', 'patch_size', 'shape'])\n",
      "0283_resized\n",
      "x0_arr <class 'numpy.ndarray'>\n",
      "x1_arr <class 'numpy.ndarray'>\n",
      "Starting Training\n",
      "epoch: 00, loss: -0.95663\n",
      "epoch: 01, loss: -0.98625\n",
      "epoch: 02, loss: -0.99029\n",
      "epoch: 03, loss: -0.99227\n",
      "epoch: 04, loss: -0.99347\n",
      "epoch: 05, loss: -0.99431\n",
      "epoch: 06, loss: -0.99492\n",
      "epoch: 07, loss: -0.99539\n",
      "epoch: 08, loss: -0.99577\n",
      "epoch: 09, loss: -0.99608\n",
      "torch.Size([1024, 384])\n"
     ]
    },
    {
     "name": "stderr",
     "output_type": "stream",
     "text": [
      " 28%|██▊       | 282/999 [2:12:26<5:49:55, 29.28s/it]"
     ]
    },
    {
     "name": "stdout",
     "output_type": "stream",
     "text": [
      "eigenvalues shape torch.Size([5]) eigenvectors shape torch.Size([5, 1024])\n",
      "282 /home/phdcs2/Hard_Disk/Datasets/Deep-Spectral-Segmentation/data/object-segmentation/ECSSD/features/0284_resized.pth\n",
      "dict_keys(['k', 'indices', 'file', 'id', 'model_name', 'patch_size', 'shape'])\n",
      "0284_resized\n",
      "x0_arr <class 'numpy.ndarray'>\n",
      "x1_arr <class 'numpy.ndarray'>\n",
      "Starting Training\n",
      "epoch: 00, loss: -0.95314\n",
      "epoch: 01, loss: -0.98951\n",
      "epoch: 02, loss: -0.99324\n",
      "epoch: 03, loss: -0.99484\n",
      "epoch: 04, loss: -0.99573\n",
      "epoch: 05, loss: -0.99630\n",
      "epoch: 06, loss: -0.99670\n",
      "epoch: 07, loss: -0.99700\n",
      "epoch: 08, loss: -0.99724\n",
      "epoch: 09, loss: -0.99743\n",
      "torch.Size([1024, 384])\n"
     ]
    },
    {
     "name": "stderr",
     "output_type": "stream",
     "text": [
      " 28%|██▊       | 283/999 [2:12:51<5:34:19, 28.02s/it]"
     ]
    },
    {
     "name": "stdout",
     "output_type": "stream",
     "text": [
      "eigenvalues shape torch.Size([5]) eigenvectors shape torch.Size([5, 1024])\n",
      "283 /home/phdcs2/Hard_Disk/Datasets/Deep-Spectral-Segmentation/data/object-segmentation/ECSSD/features/0285_resized.pth\n",
      "dict_keys(['k', 'indices', 'file', 'id', 'model_name', 'patch_size', 'shape'])\n",
      "0285_resized\n",
      "x0_arr <class 'numpy.ndarray'>\n",
      "x1_arr <class 'numpy.ndarray'>\n",
      "Starting Training\n",
      "epoch: 00, loss: -0.94029\n",
      "epoch: 01, loss: -0.98084\n",
      "epoch: 02, loss: -0.98629\n",
      "epoch: 03, loss: -0.98900\n",
      "epoch: 04, loss: -0.99067\n",
      "epoch: 05, loss: -0.99181\n",
      "epoch: 06, loss: -0.99267\n",
      "epoch: 07, loss: -0.99334\n",
      "epoch: 08, loss: -0.99387\n"
     ]
    },
    {
     "name": "stderr",
     "output_type": "stream",
     "text": [
      " 28%|██▊       | 284/999 [2:13:15<5:20:52, 26.93s/it]"
     ]
    },
    {
     "name": "stdout",
     "output_type": "stream",
     "text": [
      "epoch: 09, loss: -0.99431\n",
      "torch.Size([1024, 384])\n",
      "eigenvalues shape torch.Size([5]) eigenvectors shape torch.Size([5, 1024])\n",
      "284 /home/phdcs2/Hard_Disk/Datasets/Deep-Spectral-Segmentation/data/object-segmentation/ECSSD/features/0286_resized.pth\n",
      "dict_keys(['k', 'indices', 'file', 'id', 'model_name', 'patch_size', 'shape'])\n",
      "0286_resized\n",
      "x0_arr <class 'numpy.ndarray'>\n",
      "x1_arr <class 'numpy.ndarray'>\n",
      "Starting Training\n",
      "epoch: 00, loss: -0.99552\n",
      "epoch: 01, loss: -1.00000\n",
      "epoch: 02, loss: -1.00000\n",
      "epoch: 03, loss: -1.00000\n",
      "epoch: 04, loss: -1.00000\n",
      "epoch: 05, loss: -1.00000\n",
      "epoch: 06, loss: -1.00000\n",
      "epoch: 07, loss: -1.00000\n",
      "epoch: 08, loss: -1.00000\n",
      "epoch: 09, loss: -1.00000\n",
      "torch.Size([1024, 384])\n"
     ]
    },
    {
     "name": "stderr",
     "output_type": "stream",
     "text": [
      " 29%|██▊       | 285/999 [2:13:41<5:15:36, 26.52s/it]"
     ]
    },
    {
     "name": "stdout",
     "output_type": "stream",
     "text": [
      "eigenvalues shape torch.Size([5]) eigenvectors shape torch.Size([5, 1024])\n",
      "285 /home/phdcs2/Hard_Disk/Datasets/Deep-Spectral-Segmentation/data/object-segmentation/ECSSD/features/0287_resized.pth\n",
      "dict_keys(['k', 'indices', 'file', 'id', 'model_name', 'patch_size', 'shape'])\n",
      "0287_resized\n",
      "x0_arr <class 'numpy.ndarray'>\n",
      "x1_arr <class 'numpy.ndarray'>\n",
      "Starting Training\n",
      "epoch: 00, loss: -0.99541\n",
      "epoch: 01, loss: -1.00000\n",
      "epoch: 02, loss: -1.00000\n",
      "epoch: 03, loss: -1.00000\n",
      "epoch: 04, loss: -1.00000\n",
      "epoch: 05, loss: -1.00000\n",
      "epoch: 06, loss: -1.00000\n",
      "epoch: 07, loss: -1.00000\n",
      "epoch: 08, loss: -1.00000\n",
      "epoch: 09, loss: -1.00000\n",
      "torch.Size([1024, 384])\n"
     ]
    },
    {
     "name": "stderr",
     "output_type": "stream",
     "text": [
      " 29%|██▊       | 286/999 [2:14:07<5:13:59, 26.42s/it]"
     ]
    },
    {
     "name": "stdout",
     "output_type": "stream",
     "text": [
      "eigenvalues shape torch.Size([5]) eigenvectors shape torch.Size([5, 1024])\n",
      "286 /home/phdcs2/Hard_Disk/Datasets/Deep-Spectral-Segmentation/data/object-segmentation/ECSSD/features/0288_resized.pth\n",
      "dict_keys(['k', 'indices', 'file', 'id', 'model_name', 'patch_size', 'shape'])\n",
      "0288_resized\n",
      "x0_arr <class 'numpy.ndarray'>\n",
      "x1_arr <class 'numpy.ndarray'>\n",
      "Starting Training\n",
      "epoch: 00, loss: -0.94682\n",
      "epoch: 01, loss: -0.98370\n",
      "epoch: 02, loss: -0.98841\n",
      "epoch: 03, loss: -0.99068\n",
      "epoch: 04, loss: -0.99206\n",
      "epoch: 05, loss: -0.99302\n",
      "epoch: 06, loss: -0.99372\n",
      "epoch: 07, loss: -0.99427\n",
      "epoch: 08, loss: -0.99472\n",
      "epoch: 09, loss: -0.99507\n",
      "torch.Size([1024, 384])\n"
     ]
    },
    {
     "name": "stderr",
     "output_type": "stream",
     "text": [
      " 29%|██▊       | 287/999 [2:14:31<5:03:25, 25.57s/it]"
     ]
    },
    {
     "name": "stdout",
     "output_type": "stream",
     "text": [
      "eigenvalues shape torch.Size([5]) eigenvectors shape torch.Size([5, 1024])\n",
      "287 /home/phdcs2/Hard_Disk/Datasets/Deep-Spectral-Segmentation/data/object-segmentation/ECSSD/features/0289_resized.pth\n",
      "dict_keys(['k', 'indices', 'file', 'id', 'model_name', 'patch_size', 'shape'])\n",
      "0289_resized\n",
      "x0_arr <class 'numpy.ndarray'>\n",
      "x1_arr <class 'numpy.ndarray'>\n",
      "Starting Training\n",
      "epoch: 00, loss: -0.94804\n",
      "epoch: 01, loss: -0.98451\n",
      "epoch: 02, loss: -0.98911\n",
      "epoch: 03, loss: -0.99131\n",
      "epoch: 04, loss: -0.99265\n",
      "epoch: 05, loss: -0.99357\n",
      "epoch: 06, loss: -0.99425\n",
      "epoch: 07, loss: -0.99477\n",
      "epoch: 08, loss: -0.99518\n"
     ]
    },
    {
     "name": "stderr",
     "output_type": "stream",
     "text": [
      " 29%|██▉       | 288/999 [2:14:54<4:55:57, 24.97s/it]"
     ]
    },
    {
     "name": "stdout",
     "output_type": "stream",
     "text": [
      "epoch: 09, loss: -0.99552\n",
      "torch.Size([1024, 384])\n",
      "eigenvalues shape torch.Size([5]) eigenvectors shape torch.Size([5, 1024])\n",
      "288 /home/phdcs2/Hard_Disk/Datasets/Deep-Spectral-Segmentation/data/object-segmentation/ECSSD/features/0290_resized.pth\n",
      "dict_keys(['k', 'indices', 'file', 'id', 'model_name', 'patch_size', 'shape'])\n",
      "0290_resized\n",
      "x0_arr <class 'numpy.ndarray'>\n",
      "x1_arr <class 'numpy.ndarray'>\n",
      "Starting Training\n",
      "epoch: 00, loss: -0.93548\n",
      "epoch: 01, loss: -0.97876\n",
      "epoch: 02, loss: -0.98482\n",
      "epoch: 03, loss: -0.98784\n",
      "epoch: 04, loss: -0.98972\n",
      "epoch: 05, loss: -0.99102\n",
      "epoch: 06, loss: -0.99198\n",
      "epoch: 07, loss: -0.99275\n",
      "epoch: 08, loss: -0.99336\n",
      "epoch: 09, loss: -0.99387\n",
      "torch.Size([1024, 384])\n"
     ]
    },
    {
     "name": "stderr",
     "output_type": "stream",
     "text": [
      " 29%|██▉       | 289/999 [2:15:18<4:50:51, 24.58s/it]"
     ]
    },
    {
     "name": "stdout",
     "output_type": "stream",
     "text": [
      "eigenvalues shape torch.Size([5]) eigenvectors shape torch.Size([5, 1024])\n",
      "289 /home/phdcs2/Hard_Disk/Datasets/Deep-Spectral-Segmentation/data/object-segmentation/ECSSD/features/0291_resized.pth\n",
      "dict_keys(['k', 'indices', 'file', 'id', 'model_name', 'patch_size', 'shape'])\n",
      "0291_resized\n",
      "x0_arr <class 'numpy.ndarray'>\n",
      "x1_arr <class 'numpy.ndarray'>\n",
      "Starting Training\n",
      "epoch: 00, loss: -0.99529\n",
      "epoch: 01, loss: -0.99999\n",
      "epoch: 02, loss: -0.99999\n",
      "epoch: 03, loss: -0.99999\n",
      "epoch: 04, loss: -0.99999\n",
      "epoch: 05, loss: -0.99999\n",
      "epoch: 05, loss: -0.99999\n"
     ]
    }
   ],
   "source": [
    "pca_comp=64\n",
    "pca = PCA(n_components=pca_comp)\n",
    "utils.make_output_dir(output_dir)\n",
    "inputs = list(enumerate(sorted(Path(features_dir).iterdir())))\n",
    "for inp in tqdm(inputs):\n",
    "    index, features_file = inp\n",
    "    print(index, features_file)\n",
    "     # Load\n",
    "    data_dict = torch.load(features_file, map_location='cpu')\n",
    "    print(data_dict.keys())   #['k', 'indices', 'file', 'id', 'model_name', 'patch_size', 'shape']\n",
    "    # print(\"shape=\", data_dict['shape'], \"k shape\", data_dict['k'].shape, \"patch_size=\", data_dict['patch_size'])\n",
    "    image_id = data_dict['file'][:-4]\n",
    "    print(image_id)\n",
    "    # Load\n",
    "    output_file = str(Path(output_dir) / f'{image_id}.pth')\n",
    "    if Path(output_file).is_file():\n",
    "        print(f'Skipping existing file {str(output_file)}')\n",
    "        # break\n",
    "        # return  # skip because already generated\n",
    "\n",
    "    # Load affinity matrix\n",
    "    feats = data_dict[which_features].squeeze().cuda()\n",
    "    # print(\"Without normalizing, Features Shape is\",feats.shape)\n",
    "    if normalize:\n",
    "        feats = F.normalize(feats, p=2, dim=-1)\n",
    "    # print(\"After normalization, Features Shape\",feats.shape)\n",
    "    # print(\"which_matrix=\", which_matrix)\n",
    "    # Eigenvectors of affinity matrix\n",
    "    if which_matrix == 'affinity_torch':\n",
    "        W = feats @ feats.T\n",
    "        # W_feat=contrastive_affinity(feats, feats.T)\n",
    "        # print(\"W shape=\", W.shape)\n",
    "        if threshold_at_zero:\n",
    "            W = (W * (W > 0))\n",
    "            # print(\"W shape=\", W.shape)\n",
    "        eigenvalues, eigenvectors = torch.eig(W, eigenvectors=True)\n",
    "        eigenvalues = eigenvalues.cpu()\n",
    "        eigenvectors = eigenvectors.cpu()\n",
    "        print(\"which matrix=\",which_matrix, \"eigenvalues shape\", eigenvalues.shape, \"eigenvectors shape\", eigenvectors.shape)\n",
    "\n",
    "\n",
    "    # Eigenvectors of affinity matrix with scipy\n",
    "    elif which_matrix == 'affinity_svd':\n",
    "        USV = torch.linalg.svd(feats, full_matrices=False)\n",
    "        eigenvectors = USV[0][:, :K].T.to('cpu', non_blocking=True)\n",
    "        eigenvalues = USV[1][:K].to('cpu', non_blocking=True)\n",
    "        print(\"which matrix=\",which_matrix,\"eigenvalues shape\", eigenvalues.shape, \"eigenvectors shape\", eigenvectors.shape)\n",
    "\n",
    "    # Eigenvectors of affinity matrix with scipy\n",
    "    elif which_matrix == 'affinity':\n",
    "        # print(\"Without normalizing, Features Shape is\",feats.shape)\n",
    "        W = (feats @ feats.T)\n",
    "        # W_feat=contrastive_affinity(feats, feats.T)\n",
    "        # print(\"W shape=\", W.shape)\n",
    "        if threshold_at_zero:\n",
    "            W = (W * (W > 0))\n",
    "        W = W.cpu().numpy()\n",
    "        # print(\"W shape=\", W.shape)\n",
    "        eigenvalues, eigenvectors = eigsh(W, which='LM', k=K)\n",
    "        eigenvectors = torch.flip(torch.from_numpy(eigenvectors), dims=(-1,)).T\n",
    "        print(\"which matrix=\",which_matrix, \"eigenvalues shape\", eigenvalues.shape, \"eigenvectors shape\", eigenvectors.shape)\n",
    "\n",
    "    # Eigenvectors of matting laplacian matrix\n",
    "    elif which_matrix in ['matting_laplacian', 'laplacian']:\n",
    "\n",
    "        # Get sizes\n",
    "        B, C, H, W, P, H_patch, W_patch, H_pad, W_pad = utils.get_image_sizes(data_dict)\n",
    "        if image_downsample_factor is None:\n",
    "            image_downsample_factor = P\n",
    "        H_pad_lr, W_pad_lr = H_pad // image_downsample_factor, W_pad // image_downsample_factor\n",
    "\n",
    "        # Upscale features to match the resolution\n",
    "        if (H_patch, W_patch) != (H_pad_lr, W_pad_lr):\n",
    "            feats = F.interpolate(\n",
    "                feats.T.reshape(1, -1, H_patch, W_patch),\n",
    "                size=(H_pad_lr, W_pad_lr), mode='bilinear', align_corners=False\n",
    "            ).reshape(-1, H_pad_lr * W_pad_lr).T\n",
    "\n",
    "        ### Feature affinities\n",
    "        # print(\"Without normalizing, Features Shape is\",feats.shape)\n",
    "\n",
    "        W_feat_ds = (feats @ feats.T)\n",
    "        # print(\"shape of w_feat_ds\", W_feat_ds.shape)\n",
    "        max_wfeatds=torch.max(W_feat_ds).item()\n",
    "        alpha=3\n",
    "        # print(\"Before Subtraction\")\n",
    "        count_positive = torch.count_nonzero(torch.greater_equal(W_feat_ds, 0.))\n",
    "        # print(\"positive values=\", count_positive)\n",
    "        W_feat_ds_sum = torch.sum(W_feat_ds)\n",
    "        # print(\"w_feat_ds_sum=\", W_feat_ds_sum)\n",
    "        W_feat_ds_mean = torch.mean(W_feat_ds)\n",
    "        # print(\"Mean of W_feat\", W_feat_ds_mean)\n",
    "        W_feat_ds_median = torch.median(W_feat_ds)\n",
    "        # print(\"Median of W_feat\", W_feat_ds_median)\n",
    "        W_feat_ds_std = torch.std(W_feat_ds)\n",
    "        # print(\"Standard Deviation of W_feat\", W_feat_ds_std)\n",
    "        W_feat_ds_max = torch.max(W_feat_ds)\n",
    "        # print(\"Maximum of W_feat\", W_feat_ds_max)\n",
    "        W_feat_ds_min = torch.min(W_feat_ds)\n",
    "        # print(\"Minimum of W_feat\", W_feat_ds_min)\n",
    "        # print(\"Factor value\", (max_wfeatds / alpha))\n",
    "\n",
    "        W_feat_ds = W_feat_ds - (max_wfeatds / alpha)\n",
    "\n",
    "        # print(\"After Subtraction\")\n",
    "        count_positive = torch.count_nonzero(torch.greater_equal(W_feat_ds, 0.))\n",
    "        # print(\"positive values=\", count_positive)\n",
    "        W_feat_ds_sum = torch.sum(W_feat_ds)\n",
    "        # print(\"w_feat_ds_sum=\", W_feat_ds_sum)\n",
    "        W_feat_ds_mean = torch.mean(W_feat_ds)\n",
    "        # print(\"Mean of W_feat\", W_feat_ds_mean)\n",
    "        W_feat_ds_median = torch.median(W_feat_ds)\n",
    "        # print(\"Median of W_feat\", W_feat_ds_median)\n",
    "        W_feat_ds_std = torch.std(W_feat_ds)\n",
    "        # print(\"Standard Deviation of W_feat\", W_feat_ds_std)\n",
    "        W_feat_ds_max = torch.max(W_feat_ds)\n",
    "        # print(\"Maximum of W_feat\", W_feat_ds_max)\n",
    "        W_feat_ds_min = torch.min(W_feat_ds)\n",
    "        # print(\"Minimum of W_feat\", W_feat_ds_min)\n",
    "        proj_layer=nn.Linear(pca_comp,pca_comp).cuda()\n",
    "        pred_layer=nn.Linear(pca_comp,pca_comp).cuda()\n",
    "        x0=feats\n",
    "\n",
    "        x0_arr=x0.cpu()\n",
    "        scale = np.random.uniform(0.8, 1.2)  # Random scaling factor between 0.8 and 1.2\n",
    "        translation = np.random.uniform(-10, 10, size=2)  # Random translation vector between -10 and 10 in both directions\n",
    "        rotation = np.random.uniform(-15, 15)  # Random rotation angle between -15 and 15 degrees\n",
    "        shear = np.random.uniform(-0.2, 0.2, size=2)  # Random shear factor between -0.2 and 0.2 in both directions\n",
    "\n",
    "        # Define the affine matrix\n",
    "        affine_matrix = np.array([[scale * np.cos(rotation), -shear[0] * scale * np.sin(rotation), translation[0]],\n",
    "                                  [shear[1] * scale * np.sin(rotation), scale * np.cos(rotation), translation[1]],\n",
    "                                  [0, 0, 1]])\n",
    "        # print(x0_arr.shape)\n",
    "        x1_arr=affine_transform(x0_arr, affine_matrix)\n",
    "\n",
    "        z0_arr= pca.fit_transform(x0_arr)\n",
    "        z1_arr= pca.fit_transform(x1_arr)\n",
    "        # Define the affine transformation parameters\n",
    "\n",
    "        # z1_arr=affine_transform(z0_arr, affine_matrix)\n",
    "#         z1_arr=pca.fit_transform(z1_arr)\n",
    "        z0 = torch.from_numpy(z0_arr).float()\n",
    "        z1 = torch.from_numpy(z1_arr).float()\n",
    "\n",
    "        # feat_list.append(feats)\n",
    "        feat_dataset_z0 = Feature_Dataset(z0)\n",
    "        if feats.shape[0]%2==0:\n",
    "            features_dataloader_z0 = DataLoader(feat_dataset_z0, batch_size=batch_size, shuffle=True)\n",
    "        else:\n",
    "            features_dataloader_z0 = DataLoader(feat_dataset_z0, batch_size=batch_size, shuffle=True, drop_last=True)\n",
    "\n",
    "        feat_dataset_z1 = Feature_Dataset(z1)\n",
    "        if feats.shape[0]%2==0:\n",
    "            features_dataloader_z1 = DataLoader(feat_dataset_z1, batch_size=batch_size, shuffle=True)\n",
    "        else:\n",
    "            features_dataloader_z1 = DataLoader(feat_dataset_z1, batch_size=batch_size, shuffle=True, drop_last=True)\n",
    "        device = \"cuda\" if torch.cuda.is_available() else \"cpu\"\n",
    "    \n",
    "        criterion = NegativeCosineSimilarity()\n",
    "        proj_optimizer = torch.optim.SGD(proj_layer.parameters(), lr=0.06)\n",
    "        pred_optimizer = torch.optim.SGD(pred_layer.parameters(), lr=0.06)\n",
    "        print(\"Starting Training\")\n",
    "        for epoch in range(epochs):\n",
    "            total_loss = 0\n",
    "            for z0_new,z1_new in zip(features_dataloader_z0,features_dataloader_z1):\n",
    "                z0_new = z0_new.to(device)\n",
    "                z1_new = z1_new.to(device)\n",
    "                z0_new=proj_layer(z0_new)\n",
    "                z1_new=proj_layer(z1_new)\n",
    "    #             print(\"z0_new.shape\", z0_new.shape)\n",
    "    #             print(\"z1_new.shape\", z1_new.shape)\n",
    "                p0=pred_layer(z0_new)\n",
    "                p1=pred_layer(z1_new)\n",
    "    #             print(\"p0.shape\", p0.shape)\n",
    "    #             print(\"p1.shape\", p1.shape)\n",
    "\n",
    "                z0_new=z0_new.detach()\n",
    "                z1_new=z1_new.detach()\n",
    "                loss = 0.5 * (criterion(z0_new, p1) + criterion(z1_new, p0))\n",
    "                total_loss += loss.detach()\n",
    "                loss.backward()\n",
    "                proj_optimizer.step()\n",
    "                pred_optimizer.step()\n",
    "                proj_optimizer.zero_grad()\n",
    "                pred_optimizer.zero_grad()\n",
    "            avg_loss = total_loss / len(features_dataloader_z0)\n",
    "            print(f\"epoch: {epoch:>02}, loss: {avg_loss:.5f}\")\n",
    "        # z0_projected=proj_layer(z0.to(device))\n",
    "        projected_feature=pred_layer(z0.to(device))\n",
    "        print(projected_feature.shape)\n",
    "        W_feat_siam=torch.matmul(projected_feature, projected_feature.t())\n",
    "        # max_wfeatsiam=torch.max(W_feat_siam).item()\n",
    "        # alpha=3\n",
    "        # W_feat_siam = W_feat_siam - (max_wfeatsiam / alpha)\n",
    "        # W_feat_siam=torch.matmul(projected_feature[0], projected_feature[0].t())\n",
    "        W_feat=W_feat_ds + 0.1*W_feat_siam\n",
    "#         W_feat=normalize_affinity_matrix(W_feat_unnorm, axis=1)\n",
    "        # print(\"W_feat.shape=\", W_feat.shape)\n",
    "        # print(\"W_feat.shape=\", W_feat.shape)\n",
    "        # W_feat=contrastive_affinity(feats, feats.T)\n",
    "        if threshold_at_zero:\n",
    "            W_feat = (W_feat * (W_feat > 0))\n",
    "        W_feat = W_feat / W_feat.max()  # NOTE: If features are normalized, this naturally does nothing\n",
    "        # W_feat = W_feat.cpu().numpy()\n",
    "        W_feat = W_feat.detach().cpu().numpy()\n",
    "        # print(\"W_feat shape=\",W_feat.shape)\n",
    "\n",
    "        ### Color affinities\n",
    "        # If we are fusing with color affinites, then load the image and compute\n",
    "        if image_color_lambda > 0:\n",
    "\n",
    "            # Load image\n",
    "            image_file = str(Path(images_root) / f'{image_id}.jpg')\n",
    "            image_lr = Image.open(image_file).resize((W_pad_lr, H_pad_lr), Image.BILINEAR)\n",
    "            image_lr = np.array(image_lr) / 255.\n",
    "\n",
    "            # Color affinities (of type scipy.sparse.csr_matrix)\n",
    "            if which_color_matrix == 'knn':\n",
    "                W_lr = utils.knn_affinity(image_lr / 255)\n",
    "            elif which_color_matrix == 'rw':\n",
    "                W_lr = utils.rw_affinity(image_lr / 255)\n",
    "\n",
    "            # Convert to dense numpy array\n",
    "            W_color = np.array(W_lr.todense().astype(np.float32))\n",
    "            # print(\"W_color shape\", W_color.shape)\n",
    "\n",
    "        else:\n",
    "\n",
    "            # No color affinity\n",
    "            W_color = 0\n",
    "\n",
    "        # Combine\n",
    "        W_comb = W_feat + W_color * image_color_lambda  # combination\n",
    "        D_comb = np.array(utils.get_diagonal(W_comb).todense())  # is dense or sparse faster? not sure, should check\n",
    "        # print(\"W_comb shape= \", W_comb.shape, \"D_comb shape\",  D_comb.shape)\n",
    "        if lapnorm:\n",
    "            try:\n",
    "                eigenvalues, eigenvectors = eigsh(D_comb - W_comb, k=K, sigma=0, which='LM', M=D_comb)\n",
    "            except:\n",
    "                eigenvalues, eigenvectors = eigsh(D_comb - W_comb, k=K, which='SM', M=D_comb)\n",
    "        else:\n",
    "            try:\n",
    "                eigenvalues, eigenvectors = eigsh(D_comb - W_comb, k=K, sigma=0, which='LM')\n",
    "            except:\n",
    "                eigenvalues, eigenvectors = eigsh(D_comb - W_comb, k=K, which='SM')\n",
    "        eigenvalues, eigenvectors = torch.from_numpy(eigenvalues), torch.from_numpy(eigenvectors.T).float()\n",
    "    print(\"eigenvalues shape\", eigenvalues.shape, \"eigenvectors shape\", eigenvectors.shape)\n",
    "    # Sign ambiguity\n",
    "    for k in range(eigenvectors.shape[0]):\n",
    "        if 0.5 < torch.mean((eigenvectors[k] > 0).float()).item() < 1.0:  # reverse segment\n",
    "            eigenvectors[k] = 0 - eigenvectors[k]\n",
    "\n",
    "    # Save dict\n",
    "    output_dict = {'eigenvalues': eigenvalues, 'eigenvectors': eigenvectors}\n",
    "    torch.save(output_dict, output_file)"
   ],
   "metadata": {
    "collapsed": false,
    "pycharm": {
     "name": "#%%\n"
    }
   }
  }
 ],
 "metadata": {
  "kernelspec": {
   "display_name": "Python 3 (ipykernel)",
   "language": "python",
   "name": "python3"
  },
  "language_info": {
   "codemirror_mode": {
    "name": "ipython",
    "version": 3
   },
   "file_extension": ".py",
   "mimetype": "text/x-python",
   "name": "python",
   "nbconvert_exporter": "python",
   "pygments_lexer": "ipython3",
   "version": "3.8.10"
  }
 },
 "nbformat": 4,
 "nbformat_minor": 1
}