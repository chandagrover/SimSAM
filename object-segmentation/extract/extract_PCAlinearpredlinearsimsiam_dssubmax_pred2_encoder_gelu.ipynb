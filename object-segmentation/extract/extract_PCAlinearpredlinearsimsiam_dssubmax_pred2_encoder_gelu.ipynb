{
 "cells": [
  {
   "cell_type": "code",
   "execution_count": 1,
   "metadata": {
    "pycharm": {
     "name": "#%%\n"
    }
   },
   "outputs": [],
   "source": [
    "# from functools import partial\n",
    "from pathlib import Path\n",
    "# from typing import Optional, Tuple\n",
    "# import cv2\n",
    "# import fire\n",
    "import numpy as np\n",
    "import torch\n",
    "import torch.nn.functional as F\n",
    "from accelerate import Accelerator\n",
    "from PIL import Image\n",
    "from scipy.sparse.linalg import eigsh\n",
    "# from sklearn.cluster import KMeans, MiniBatchKMeans\n",
    "from sklearn.decomposition import PCA\n",
    "# from torchvision.utils import draw_bounding_boxes\n",
    "from tqdm import tqdm\n",
    "import extract_utils as utils\n",
    "from torch.utils.data import Dataset, DataLoader\n",
    "from lightly.loss import NegativeCosineSimilarity\n",
    "from lightly.models.modules import SimSiamPredictionHead, SimSiamProjectionHead\n",
    "from torch import nn\n",
    "import torchvision\n",
    "from scipy.ndimage import affine_transform"
   ]
  },
  {
   "cell_type": "markdown",
   "metadata": {
    "pycharm": {
     "name": "#%% md\n"
    }
   },
   "source": [
    "## Extract Eigen Vectors"
   ]
  },
  {
   "cell_type": "code",
   "execution_count": 2,
   "outputs": [],
   "source": [
    "images_root=\"/home/phdcs2/Hard_Disk/Datasets/Deep-Spectral-Segmentation/data/object-segmentation/ECSSD/images\"\n",
    "# features_dir=\"/home/phdcs2/Hard_Disk/Datasets/Deep-Spectral-Segmentation/data/object-segmentation/ECSSD_1/features/dino_vits16\"\n",
    "features_dir=\"/home/phdcs2/Hard_Disk/Datasets/Deep-Spectral-Segmentation/data/object-segmentation/ECSSD/features/\"\n",
    "output_dir=\"/home/phdcs2/Hard_Disk/Datasets/Deep-Spectral-Segmentation/data/object-segmentation/ECSSD/eigs_dot1PCA64linearpredlinear_dssubmax_pred2_encoder_gelu_corr\""
   ],
   "metadata": {
    "collapsed": false,
    "pycharm": {
     "name": "#%%\n"
    }
   }
  },
  {
   "cell_type": "code",
   "execution_count": 3,
   "metadata": {
    "pycharm": {
     "name": "#%%\n"
    }
   },
   "outputs": [],
   "source": [
    "# images_root=\"/home/phdcs2/Hard_Disk/Datasets/Deep-Spectral-Segmentation/data/VOC2012/images/trainval/JPEGImages\"\n",
    "# # features_dir=\"/home/phdcs2/Hard_Disk/Datasets/Deep-Spectral-Segmentation/data/object-segmentation/ECSSD_1/features/dino_vits16\"\n",
    "# features_dir=\"/home/phdcs2/Hard_Disk/Datasets/Deep-Spectral-Segmentation/data/VOC2012/features/dino_vits16\"\n",
    "# output_dir=\"/home/phdcs2/Hard_Disk/Datasets/Deep-Spectral-Segmentation/data/VOC2012/eigs_test/laplacian\"\n",
    "which_matrix= 'laplacian'\n",
    "which_color_matrix= 'knn'\n",
    "which_features= 'k'\n",
    "normalize=True\n",
    "threshold_at_zero=True\n",
    "lapnorm= True\n",
    "K= 5\n",
    "image_downsample_factor = None\n",
    "image_color_lambda = 0.0\n",
    "multiprocessing = 0\n",
    "batch_size=2\n",
    "epochs=10"
   ]
  },
  {
   "cell_type": "markdown",
   "metadata": {
    "pycharm": {
     "name": "#%% md\n"
    }
   },
   "source": [
    "## Incorporating SimSiam"
   ]
  },
  {
   "cell_type": "code",
   "execution_count": 4,
   "metadata": {
    "pycharm": {
     "name": "#%%\n"
    }
   },
   "outputs": [],
   "source": [
    "# Define a custom dataset class\n",
    "class Feature_Dataset(Dataset):\n",
    "    def __init__(self, features):\n",
    "        self.features = features\n",
    "\n",
    "    def __getitem__(self, index):\n",
    "        return self.features[index]\n",
    "\n",
    "    def __len__(self):\n",
    "        return len(self.features)"
   ]
  },
  {
   "cell_type": "code",
   "execution_count": 5,
   "metadata": {
    "pycharm": {
     "name": "#%%\n"
    }
   },
   "outputs": [],
   "source": [
    "# class SimSiam(nn.Module):\n",
    "#     def __init__(self):\n",
    "#         super().__init__()\n",
    "#         self.projection_head = SimSiamProjectionHead(feats.shape[1], 128,feats.shape[1])\n",
    "#         self.prediction_head = SimSiamPredictionHead(feats.shape[1], 128, feats.shape[1])\n",
    "#\n",
    "#     def forward(self, x):\n",
    "#         z = self.projection_head(x)\n",
    "#         p = self.prediction_head(z)\n",
    "#         z = z.detach()\n",
    "#         return z, p"
   ]
  },
  {
   "cell_type": "code",
   "execution_count": 6,
   "metadata": {
    "pycharm": {
     "name": "#%%\n"
    }
   },
   "outputs": [],
   "source": [
    "# def normalize_affinity_matrix(affinity_matrix, axis=0):\n",
    "#     if axis == 1:\n",
    "#         # Normalize by row-wise sums\n",
    "#         row_sums = torch.sum(affinity_matrix, dim=1, keepdim=True)\n",
    "#         print(row_sums)\n",
    "#         normalized_matrix = affinity_matrix / row_sums\n",
    "#     elif axis == 0:\n",
    "#         # Normalize by column-wise sums\n",
    "#         col_sums = torch.sum(affinity_matrix, dim=0, keepdim=True)\n",
    "#         normalized_matrix = affinity_matrix / col_sums\n",
    "#     else:\n",
    "#         raise ValueError(\"Invalid axis. Axis must be either 0 or 1.\")\n",
    "\n",
    "#     return normalized_matrix"
   ]
  },
  {
   "cell_type": "code",
   "execution_count": null,
   "metadata": {
    "pycharm": {
     "name": "#%%\n",
     "is_executing": true
    }
   },
   "outputs": [
    {
     "name": "stderr",
     "output_type": "stream",
     "text": [
      "  0%|          | 0/999 [00:00<?, ?it/s]"
     ]
    },
    {
     "name": "stdout",
     "output_type": "stream",
     "text": [
      "0 /home/phdcs2/Hard_Disk/Datasets/Deep-Spectral-Segmentation/data/object-segmentation/ECSSD/features/0001_resized.pth\n",
      "dict_keys(['k', 'indices', 'file', 'id', 'model_name', 'patch_size', 'shape'])\n",
      "0001_resized\n",
      "Starting Training\n",
      "epoch: 00, loss: -0.82368\n",
      "epoch: 01, loss: -0.86366\n",
      "epoch: 02, loss: -0.87842\n",
      "epoch: 03, loss: -0.88841\n",
      "epoch: 04, loss: -0.89570\n",
      "epoch: 05, loss: -0.90158\n",
      "epoch: 06, loss: -0.90663\n",
      "epoch: 07, loss: -0.91044\n",
      "epoch: 08, loss: -0.91408\n",
      "epoch: 09, loss: -0.91713\n",
      "torch.Size([1024, 64])\n"
     ]
    },
    {
     "name": "stderr",
     "output_type": "stream",
     "text": [
      "  0%|          | 1/999 [00:35<9:49:22, 35.43s/it]"
     ]
    },
    {
     "name": "stdout",
     "output_type": "stream",
     "text": [
      "eigenvalues shape torch.Size([5]) eigenvectors shape torch.Size([5, 1024])\n",
      "1 /home/phdcs2/Hard_Disk/Datasets/Deep-Spectral-Segmentation/data/object-segmentation/ECSSD/features/0002_resized.pth\n",
      "dict_keys(['k', 'indices', 'file', 'id', 'model_name', 'patch_size', 'shape'])\n",
      "0002_resized\n"
     ]
    },
    {
     "name": "stderr",
     "output_type": "stream",
     "text": [
      "/home/phdcs2/Hard_Disk/Projects/T2I/deep-spectral-segmentation/venv/lib/python3.8/site-packages/sklearn/decomposition/_pca.py:642: RuntimeWarning: invalid value encountered in divide\n",
      "  self.explained_variance_ratio_ = self.explained_variance_ / total_var\n"
     ]
    },
    {
     "name": "stdout",
     "output_type": "stream",
     "text": [
      "Starting Training\n",
      "epoch: 00, loss: -0.87827\n",
      "epoch: 01, loss: -0.90509\n",
      "epoch: 02, loss: -0.91340\n",
      "epoch: 03, loss: -0.91877\n",
      "epoch: 04, loss: -0.92289\n",
      "epoch: 05, loss: -0.92613\n",
      "epoch: 06, loss: -0.92881\n",
      "epoch: 07, loss: -0.93106\n",
      "epoch: 08, loss: -0.93311\n",
      "epoch: 09, loss: -0.93486\n",
      "torch.Size([1024, 64])\n"
     ]
    },
    {
     "name": "stderr",
     "output_type": "stream",
     "text": [
      "  0%|          | 2/999 [01:10<9:44:55, 35.20s/it]"
     ]
    },
    {
     "name": "stdout",
     "output_type": "stream",
     "text": [
      "eigenvalues shape torch.Size([5]) eigenvectors shape torch.Size([5, 1024])\n",
      "2 /home/phdcs2/Hard_Disk/Datasets/Deep-Spectral-Segmentation/data/object-segmentation/ECSSD/features/0003_resized.pth\n",
      "dict_keys(['k', 'indices', 'file', 'id', 'model_name', 'patch_size', 'shape'])\n",
      "0003_resized\n"
     ]
    },
    {
     "name": "stderr",
     "output_type": "stream",
     "text": [
      "/home/phdcs2/Hard_Disk/Projects/T2I/deep-spectral-segmentation/venv/lib/python3.8/site-packages/sklearn/decomposition/_pca.py:642: RuntimeWarning: invalid value encountered in divide\n",
      "  self.explained_variance_ratio_ = self.explained_variance_ / total_var\n"
     ]
    },
    {
     "name": "stdout",
     "output_type": "stream",
     "text": [
      "Starting Training\n",
      "epoch: 00, loss: -0.89306\n",
      "epoch: 01, loss: -0.91638\n",
      "epoch: 02, loss: -0.92351\n",
      "epoch: 03, loss: -0.92817\n",
      "epoch: 04, loss: -0.93178\n",
      "epoch: 05, loss: -0.93465\n",
      "epoch: 06, loss: -0.93697\n",
      "epoch: 07, loss: -0.93898\n",
      "epoch: 08, loss: -0.94075\n",
      "epoch: 09, loss: -0.94227\n",
      "torch.Size([1024, 64])\n"
     ]
    },
    {
     "name": "stderr",
     "output_type": "stream",
     "text": [
      "  0%|          | 3/999 [01:47<10:00:30, 36.17s/it]"
     ]
    },
    {
     "name": "stdout",
     "output_type": "stream",
     "text": [
      "eigenvalues shape torch.Size([5]) eigenvectors shape torch.Size([5, 1024])\n",
      "3 /home/phdcs2/Hard_Disk/Datasets/Deep-Spectral-Segmentation/data/object-segmentation/ECSSD/features/0004_resized.pth\n",
      "dict_keys(['k', 'indices', 'file', 'id', 'model_name', 'patch_size', 'shape'])\n",
      "0004_resized\n",
      "Starting Training\n",
      "epoch: 00, loss: -0.85167\n",
      "epoch: 01, loss: -0.88416\n",
      "epoch: 02, loss: -0.89536\n",
      "epoch: 03, loss: -0.90275\n",
      "epoch: 04, loss: -0.90822\n",
      "epoch: 05, loss: -0.91263\n",
      "epoch: 06, loss: -0.91606\n",
      "epoch: 07, loss: -0.91900\n",
      "epoch: 08, loss: -0.92157\n",
      "epoch: 09, loss: -0.92382\n",
      "torch.Size([1024, 64])\n"
     ]
    },
    {
     "name": "stderr",
     "output_type": "stream",
     "text": [
      "  0%|          | 4/999 [02:34<11:06:01, 40.16s/it]"
     ]
    },
    {
     "name": "stdout",
     "output_type": "stream",
     "text": [
      "eigenvalues shape torch.Size([5]) eigenvectors shape torch.Size([5, 1024])\n",
      "4 /home/phdcs2/Hard_Disk/Datasets/Deep-Spectral-Segmentation/data/object-segmentation/ECSSD/features/0005_resized.pth\n",
      "dict_keys(['k', 'indices', 'file', 'id', 'model_name', 'patch_size', 'shape'])\n",
      "0005_resized\n",
      "Starting Training\n",
      "epoch: 00, loss: -0.91385\n",
      "epoch: 01, loss: -0.93385\n",
      "epoch: 02, loss: -0.93978\n",
      "epoch: 03, loss: -0.94378\n",
      "epoch: 04, loss: -0.94666\n",
      "epoch: 05, loss: -0.94888\n",
      "epoch: 06, loss: -0.95073\n",
      "epoch: 07, loss: -0.95230\n",
      "epoch: 08, loss: -0.95366\n",
      "epoch: 09, loss: -0.95485\n",
      "torch.Size([1024, 64])\n"
     ]
    },
    {
     "name": "stderr",
     "output_type": "stream",
     "text": [
      "  1%|          | 5/999 [03:13<10:58:20, 39.74s/it]"
     ]
    },
    {
     "name": "stdout",
     "output_type": "stream",
     "text": [
      "eigenvalues shape torch.Size([5]) eigenvectors shape torch.Size([5, 1024])\n",
      "5 /home/phdcs2/Hard_Disk/Datasets/Deep-Spectral-Segmentation/data/object-segmentation/ECSSD/features/0006_resized.pth\n",
      "dict_keys(['k', 'indices', 'file', 'id', 'model_name', 'patch_size', 'shape'])\n",
      "0006_resized\n"
     ]
    },
    {
     "name": "stderr",
     "output_type": "stream",
     "text": [
      "/home/phdcs2/Hard_Disk/Projects/T2I/deep-spectral-segmentation/venv/lib/python3.8/site-packages/sklearn/decomposition/_pca.py:642: RuntimeWarning: invalid value encountered in divide\n",
      "  self.explained_variance_ratio_ = self.explained_variance_ / total_var\n"
     ]
    },
    {
     "name": "stdout",
     "output_type": "stream",
     "text": [
      "Starting Training\n",
      "epoch: 00, loss: -0.89752\n",
      "epoch: 01, loss: -0.92612\n",
      "epoch: 02, loss: -0.93326\n",
      "epoch: 03, loss: -0.93780\n",
      "epoch: 04, loss: -0.94115\n",
      "epoch: 05, loss: -0.94383\n",
      "epoch: 06, loss: -0.94606\n",
      "epoch: 07, loss: -0.94792\n",
      "epoch: 08, loss: -0.94955\n",
      "epoch: 09, loss: -0.95103\n",
      "torch.Size([1024, 64])\n"
     ]
    },
    {
     "name": "stderr",
     "output_type": "stream",
     "text": [
      "  1%|          | 6/999 [03:57<11:26:22, 41.47s/it]"
     ]
    },
    {
     "name": "stdout",
     "output_type": "stream",
     "text": [
      "eigenvalues shape torch.Size([5]) eigenvectors shape torch.Size([5, 1024])\n",
      "6 /home/phdcs2/Hard_Disk/Datasets/Deep-Spectral-Segmentation/data/object-segmentation/ECSSD/features/0007_resized.pth\n",
      "dict_keys(['k', 'indices', 'file', 'id', 'model_name', 'patch_size', 'shape'])\n",
      "0007_resized\n"
     ]
    },
    {
     "name": "stderr",
     "output_type": "stream",
     "text": [
      "/home/phdcs2/Hard_Disk/Projects/T2I/deep-spectral-segmentation/venv/lib/python3.8/site-packages/sklearn/decomposition/_pca.py:642: RuntimeWarning: invalid value encountered in divide\n",
      "  self.explained_variance_ratio_ = self.explained_variance_ / total_var\n"
     ]
    },
    {
     "name": "stdout",
     "output_type": "stream",
     "text": [
      "Starting Training\n",
      "epoch: 00, loss: -0.89446\n",
      "epoch: 01, loss: -0.91980\n",
      "epoch: 02, loss: -0.92697\n",
      "epoch: 03, loss: -0.93173\n",
      "epoch: 04, loss: -0.93520\n",
      "epoch: 05, loss: -0.93797\n",
      "epoch: 06, loss: -0.94035\n",
      "epoch: 07, loss: -0.94226\n",
      "epoch: 08, loss: -0.94393\n",
      "epoch: 09, loss: -0.94543\n",
      "torch.Size([1024, 64])\n"
     ]
    },
    {
     "name": "stderr",
     "output_type": "stream",
     "text": [
      "  1%|          | 7/999 [04:48<12:14:38, 44.43s/it]"
     ]
    },
    {
     "name": "stdout",
     "output_type": "stream",
     "text": [
      "eigenvalues shape torch.Size([5]) eigenvectors shape torch.Size([5, 1024])\n",
      "7 /home/phdcs2/Hard_Disk/Datasets/Deep-Spectral-Segmentation/data/object-segmentation/ECSSD/features/0008_resized.pth\n",
      "dict_keys(['k', 'indices', 'file', 'id', 'model_name', 'patch_size', 'shape'])\n",
      "0008_resized\n",
      "Starting Training\n",
      "epoch: 00, loss: -0.88263\n",
      "epoch: 01, loss: -0.90644\n",
      "epoch: 02, loss: -0.91431\n",
      "epoch: 03, loss: -0.91930\n",
      "epoch: 04, loss: -0.92319\n",
      "epoch: 05, loss: -0.92631\n",
      "epoch: 06, loss: -0.92886\n",
      "epoch: 07, loss: -0.93098\n",
      "epoch: 08, loss: -0.93286\n",
      "epoch: 09, loss: -0.93450\n",
      "torch.Size([1024, 64])\n"
     ]
    },
    {
     "name": "stderr",
     "output_type": "stream",
     "text": [
      "  1%|          | 8/999 [05:40<12:55:08, 46.93s/it]"
     ]
    },
    {
     "name": "stdout",
     "output_type": "stream",
     "text": [
      "eigenvalues shape torch.Size([5]) eigenvectors shape torch.Size([5, 1024])\n",
      "8 /home/phdcs2/Hard_Disk/Datasets/Deep-Spectral-Segmentation/data/object-segmentation/ECSSD/features/0009_resized.pth\n",
      "dict_keys(['k', 'indices', 'file', 'id', 'model_name', 'patch_size', 'shape'])\n",
      "0009_resized\n",
      "Starting Training\n",
      "epoch: 00, loss: -0.81508\n",
      "epoch: 01, loss: -0.85252\n",
      "epoch: 02, loss: -0.86621\n",
      "epoch: 03, loss: -0.87557\n",
      "epoch: 04, loss: -0.88273\n",
      "epoch: 05, loss: -0.88800\n",
      "epoch: 06, loss: -0.89250\n",
      "epoch: 07, loss: -0.89618\n",
      "epoch: 08, loss: -0.89957\n",
      "epoch: 09, loss: -0.90230\n",
      "torch.Size([1024, 64])\n"
     ]
    },
    {
     "name": "stderr",
     "output_type": "stream",
     "text": [
      "  1%|          | 9/999 [06:30<13:08:50, 47.81s/it]"
     ]
    },
    {
     "name": "stdout",
     "output_type": "stream",
     "text": [
      "eigenvalues shape torch.Size([5]) eigenvectors shape torch.Size([5, 1024])\n",
      "9 /home/phdcs2/Hard_Disk/Datasets/Deep-Spectral-Segmentation/data/object-segmentation/ECSSD/features/0010_resized.pth\n",
      "dict_keys(['k', 'indices', 'file', 'id', 'model_name', 'patch_size', 'shape'])\n",
      "0010_resized\n",
      "Starting Training\n",
      "epoch: 00, loss: -0.74235\n",
      "epoch: 01, loss: -0.80536\n",
      "epoch: 02, loss: -0.82897\n",
      "epoch: 03, loss: -0.84330\n",
      "epoch: 04, loss: -0.85397\n",
      "epoch: 05, loss: -0.86228\n",
      "epoch: 06, loss: -0.86894\n",
      "epoch: 07, loss: -0.87530\n",
      "epoch: 08, loss: -0.88018\n",
      "epoch: 09, loss: -0.88487\n",
      "torch.Size([1024, 64])\n"
     ]
    },
    {
     "name": "stderr",
     "output_type": "stream",
     "text": [
      "  1%|          | 10/999 [07:40<15:01:59, 54.72s/it]"
     ]
    },
    {
     "name": "stdout",
     "output_type": "stream",
     "text": [
      "eigenvalues shape torch.Size([5]) eigenvectors shape torch.Size([5, 1024])\n",
      "10 /home/phdcs2/Hard_Disk/Datasets/Deep-Spectral-Segmentation/data/object-segmentation/ECSSD/features/0011_resized.pth\n",
      "dict_keys(['k', 'indices', 'file', 'id', 'model_name', 'patch_size', 'shape'])\n",
      "0011_resized\n",
      "Starting Training\n",
      "epoch: 00, loss: -0.91574\n",
      "epoch: 01, loss: -0.93620\n",
      "epoch: 02, loss: -0.94110\n",
      "epoch: 03, loss: -0.94441\n",
      "epoch: 04, loss: -0.94690\n",
      "epoch: 05, loss: -0.94883\n",
      "epoch: 06, loss: -0.95040\n",
      "epoch: 07, loss: -0.95175\n",
      "epoch: 08, loss: -0.95291\n",
      "epoch: 09, loss: -0.95398\n",
      "torch.Size([1024, 64])\n"
     ]
    },
    {
     "name": "stderr",
     "output_type": "stream",
     "text": [
      "  1%|          | 11/999 [08:47<16:03:07, 58.49s/it]"
     ]
    },
    {
     "name": "stdout",
     "output_type": "stream",
     "text": [
      "eigenvalues shape torch.Size([5]) eigenvectors shape torch.Size([5, 1024])\n",
      "11 /home/phdcs2/Hard_Disk/Datasets/Deep-Spectral-Segmentation/data/object-segmentation/ECSSD/features/0012_resized.pth\n",
      "dict_keys(['k', 'indices', 'file', 'id', 'model_name', 'patch_size', 'shape'])\n",
      "0012_resized\n"
     ]
    },
    {
     "name": "stderr",
     "output_type": "stream",
     "text": [
      "/home/phdcs2/Hard_Disk/Projects/T2I/deep-spectral-segmentation/venv/lib/python3.8/site-packages/sklearn/decomposition/_pca.py:642: RuntimeWarning: invalid value encountered in divide\n",
      "  self.explained_variance_ratio_ = self.explained_variance_ / total_var\n"
     ]
    },
    {
     "name": "stdout",
     "output_type": "stream",
     "text": [
      "Starting Training\n",
      "epoch: 00, loss: -0.92030\n",
      "epoch: 01, loss: -0.94266\n",
      "epoch: 02, loss: -0.94766\n",
      "epoch: 03, loss: -0.95093\n",
      "epoch: 04, loss: -0.95344\n",
      "epoch: 05, loss: -0.95542\n",
      "epoch: 06, loss: -0.95708\n",
      "epoch: 07, loss: -0.95850\n",
      "epoch: 08, loss: -0.95971\n",
      "epoch: 09, loss: -0.96077\n",
      "torch.Size([1024, 64])\n"
     ]
    },
    {
     "name": "stderr",
     "output_type": "stream",
     "text": [
      "  1%|          | 12/999 [09:51<16:30:18, 60.20s/it]"
     ]
    },
    {
     "name": "stdout",
     "output_type": "stream",
     "text": [
      "eigenvalues shape torch.Size([5]) eigenvectors shape torch.Size([5, 1024])\n",
      "12 /home/phdcs2/Hard_Disk/Datasets/Deep-Spectral-Segmentation/data/object-segmentation/ECSSD/features/0013_resized.pth\n",
      "dict_keys(['k', 'indices', 'file', 'id', 'model_name', 'patch_size', 'shape'])\n",
      "0013_resized\n",
      "Starting Training\n",
      "epoch: 00, loss: -0.75406\n",
      "epoch: 01, loss: -0.80093\n",
      "epoch: 02, loss: -0.81872\n",
      "epoch: 03, loss: -0.83007\n",
      "epoch: 04, loss: -0.83974\n",
      "epoch: 05, loss: -0.84745\n",
      "epoch: 06, loss: -0.85384\n",
      "epoch: 07, loss: -0.85939\n",
      "epoch: 08, loss: -0.86423\n",
      "epoch: 09, loss: -0.86827\n",
      "torch.Size([1024, 64])\n"
     ]
    },
    {
     "name": "stderr",
     "output_type": "stream",
     "text": [
      "  1%|▏         | 13/999 [11:04<17:32:21, 64.04s/it]"
     ]
    },
    {
     "name": "stdout",
     "output_type": "stream",
     "text": [
      "eigenvalues shape torch.Size([5]) eigenvectors shape torch.Size([5, 1024])\n",
      "13 /home/phdcs2/Hard_Disk/Datasets/Deep-Spectral-Segmentation/data/object-segmentation/ECSSD/features/0014_resized.pth\n",
      "dict_keys(['k', 'indices', 'file', 'id', 'model_name', 'patch_size', 'shape'])\n",
      "0014_resized\n",
      "Starting Training\n",
      "epoch: 00, loss: -0.81152\n",
      "epoch: 01, loss: -0.85144\n",
      "epoch: 02, loss: -0.86646\n",
      "epoch: 03, loss: -0.87657\n",
      "epoch: 04, loss: -0.88386\n",
      "epoch: 05, loss: -0.88976\n",
      "epoch: 06, loss: -0.89463\n",
      "epoch: 07, loss: -0.89882\n",
      "epoch: 08, loss: -0.90238\n",
      "epoch: 09, loss: -0.90557\n",
      "torch.Size([1024, 64])\n"
     ]
    },
    {
     "name": "stderr",
     "output_type": "stream",
     "text": [
      "  1%|▏         | 14/999 [12:19<18:26:08, 67.38s/it]"
     ]
    },
    {
     "name": "stdout",
     "output_type": "stream",
     "text": [
      "eigenvalues shape torch.Size([5]) eigenvectors shape torch.Size([5, 1024])\n",
      "14 /home/phdcs2/Hard_Disk/Datasets/Deep-Spectral-Segmentation/data/object-segmentation/ECSSD/features/0015_resized.pth\n",
      "dict_keys(['k', 'indices', 'file', 'id', 'model_name', 'patch_size', 'shape'])\n",
      "0015_resized\n",
      "Starting Training\n",
      "epoch: 00, loss: -0.80941\n",
      "epoch: 01, loss: -0.85385\n",
      "epoch: 02, loss: -0.86960\n",
      "epoch: 03, loss: -0.88043\n",
      "epoch: 04, loss: -0.88837\n",
      "epoch: 05, loss: -0.89485\n",
      "epoch: 06, loss: -0.89964\n",
      "epoch: 07, loss: -0.90427\n",
      "epoch: 08, loss: -0.90819\n",
      "epoch: 09, loss: -0.91146\n",
      "torch.Size([1024, 64])\n"
     ]
    },
    {
     "name": "stderr",
     "output_type": "stream",
     "text": [
      "  2%|▏         | 15/999 [13:34<19:00:18, 69.53s/it]"
     ]
    },
    {
     "name": "stdout",
     "output_type": "stream",
     "text": [
      "eigenvalues shape torch.Size([5]) eigenvectors shape torch.Size([5, 1024])\n",
      "15 /home/phdcs2/Hard_Disk/Datasets/Deep-Spectral-Segmentation/data/object-segmentation/ECSSD/features/0016_resized.pth\n",
      "dict_keys(['k', 'indices', 'file', 'id', 'model_name', 'patch_size', 'shape'])\n",
      "0016_resized\n",
      "Starting Training\n",
      "epoch: 00, loss: -0.80999\n",
      "epoch: 01, loss: -0.85102\n",
      "epoch: 02, loss: -0.86548\n",
      "epoch: 03, loss: -0.87532\n",
      "epoch: 04, loss: -0.88279\n",
      "epoch: 05, loss: -0.88863\n",
      "epoch: 06, loss: -0.89330\n",
      "epoch: 07, loss: -0.89745\n",
      "epoch: 08, loss: -0.90095\n",
      "epoch: 09, loss: -0.90399\n",
      "torch.Size([1024, 64])\n"
     ]
    },
    {
     "name": "stderr",
     "output_type": "stream",
     "text": [
      "  2%|▏         | 16/999 [14:41<18:45:16, 68.68s/it]"
     ]
    },
    {
     "name": "stdout",
     "output_type": "stream",
     "text": [
      "eigenvalues shape torch.Size([5]) eigenvectors shape torch.Size([5, 1024])\n",
      "16 /home/phdcs2/Hard_Disk/Datasets/Deep-Spectral-Segmentation/data/object-segmentation/ECSSD/features/0017_resized.pth\n",
      "dict_keys(['k', 'indices', 'file', 'id', 'model_name', 'patch_size', 'shape'])\n",
      "0017_resized\n"
     ]
    },
    {
     "name": "stderr",
     "output_type": "stream",
     "text": [
      "/home/phdcs2/Hard_Disk/Projects/T2I/deep-spectral-segmentation/venv/lib/python3.8/site-packages/sklearn/decomposition/_pca.py:642: RuntimeWarning: invalid value encountered in divide\n",
      "  self.explained_variance_ratio_ = self.explained_variance_ / total_var\n"
     ]
    },
    {
     "name": "stdout",
     "output_type": "stream",
     "text": [
      "Starting Training\n",
      "epoch: 00, loss: -0.92047\n",
      "epoch: 01, loss: -0.93785\n",
      "epoch: 02, loss: -0.94272\n",
      "epoch: 03, loss: -0.94585\n",
      "epoch: 04, loss: -0.94821\n",
      "epoch: 05, loss: -0.95005\n",
      "epoch: 06, loss: -0.95168\n",
      "epoch: 07, loss: -0.95294\n",
      "epoch: 08, loss: -0.95416\n",
      "epoch: 09, loss: -0.95512\n",
      "torch.Size([1024, 64])\n"
     ]
    },
    {
     "name": "stderr",
     "output_type": "stream",
     "text": [
      "  2%|▏         | 17/999 [15:54<19:07:32, 70.11s/it]"
     ]
    },
    {
     "name": "stdout",
     "output_type": "stream",
     "text": [
      "eigenvalues shape torch.Size([5]) eigenvectors shape torch.Size([5, 1024])\n",
      "17 /home/phdcs2/Hard_Disk/Datasets/Deep-Spectral-Segmentation/data/object-segmentation/ECSSD/features/0018_resized.pth\n",
      "dict_keys(['k', 'indices', 'file', 'id', 'model_name', 'patch_size', 'shape'])\n",
      "0018_resized\n",
      "Starting Training\n",
      "epoch: 00, loss: -0.85876\n",
      "epoch: 01, loss: -0.88862\n",
      "epoch: 02, loss: -0.89758\n",
      "epoch: 03, loss: -0.90302\n",
      "epoch: 04, loss: -0.90724\n",
      "epoch: 05, loss: -0.91049\n",
      "epoch: 06, loss: -0.91333\n",
      "epoch: 07, loss: -0.91574\n",
      "epoch: 08, loss: -0.91781\n",
      "epoch: 09, loss: -0.91964\n",
      "torch.Size([1024, 64])\n"
     ]
    },
    {
     "name": "stderr",
     "output_type": "stream",
     "text": [
      "  2%|▏         | 18/999 [17:14<19:55:42, 73.13s/it]"
     ]
    },
    {
     "name": "stdout",
     "output_type": "stream",
     "text": [
      "eigenvalues shape torch.Size([5]) eigenvectors shape torch.Size([5, 1024])\n",
      "18 /home/phdcs2/Hard_Disk/Datasets/Deep-Spectral-Segmentation/data/object-segmentation/ECSSD/features/0019_resized.pth\n",
      "dict_keys(['k', 'indices', 'file', 'id', 'model_name', 'patch_size', 'shape'])\n",
      "0019_resized\n"
     ]
    },
    {
     "name": "stderr",
     "output_type": "stream",
     "text": [
      "/home/phdcs2/Hard_Disk/Projects/T2I/deep-spectral-segmentation/venv/lib/python3.8/site-packages/sklearn/decomposition/_pca.py:642: RuntimeWarning: invalid value encountered in divide\n",
      "  self.explained_variance_ratio_ = self.explained_variance_ / total_var\n"
     ]
    },
    {
     "name": "stdout",
     "output_type": "stream",
     "text": [
      "Starting Training\n",
      "epoch: 00, loss: -0.88466\n",
      "epoch: 01, loss: -0.90921\n",
      "epoch: 02, loss: -0.91646\n",
      "epoch: 03, loss: -0.92162\n",
      "epoch: 04, loss: -0.92540\n",
      "epoch: 05, loss: -0.92849\n",
      "epoch: 06, loss: -0.93112\n",
      "epoch: 07, loss: -0.93321\n",
      "epoch: 08, loss: -0.93525\n",
      "epoch: 09, loss: -0.93686\n",
      "torch.Size([1024, 64])\n"
     ]
    },
    {
     "name": "stderr",
     "output_type": "stream",
     "text": [
      "  2%|▏         | 19/999 [18:34<20:25:56, 75.06s/it]"
     ]
    },
    {
     "name": "stdout",
     "output_type": "stream",
     "text": [
      "eigenvalues shape torch.Size([5]) eigenvectors shape torch.Size([5, 1024])\n",
      "19 /home/phdcs2/Hard_Disk/Datasets/Deep-Spectral-Segmentation/data/object-segmentation/ECSSD/features/0020_resized.pth\n",
      "dict_keys(['k', 'indices', 'file', 'id', 'model_name', 'patch_size', 'shape'])\n",
      "0020_resized\n",
      "Starting Training\n",
      "epoch: 00, loss: -0.80776\n",
      "epoch: 01, loss: -0.84732\n",
      "epoch: 02, loss: -0.86303\n",
      "epoch: 03, loss: -0.87339\n",
      "epoch: 04, loss: -0.88156\n",
      "epoch: 05, loss: -0.88800\n",
      "epoch: 06, loss: -0.89342\n",
      "epoch: 07, loss: -0.89799\n",
      "epoch: 08, loss: -0.90205\n",
      "epoch: 09, loss: -0.90569\n",
      "torch.Size([1024, 64])\n"
     ]
    },
    {
     "name": "stderr",
     "output_type": "stream",
     "text": [
      "  2%|▏         | 20/999 [19:50<20:31:55, 75.50s/it]"
     ]
    },
    {
     "name": "stdout",
     "output_type": "stream",
     "text": [
      "eigenvalues shape torch.Size([5]) eigenvectors shape torch.Size([5, 1024])\n",
      "20 /home/phdcs2/Hard_Disk/Datasets/Deep-Spectral-Segmentation/data/object-segmentation/ECSSD/features/0021_resized.pth\n",
      "dict_keys(['k', 'indices', 'file', 'id', 'model_name', 'patch_size', 'shape'])\n",
      "0021_resized\n",
      "Starting Training\n",
      "epoch: 00, loss: -0.81485\n",
      "epoch: 01, loss: -0.85482\n",
      "epoch: 02, loss: -0.86858\n",
      "epoch: 03, loss: -0.87663\n",
      "epoch: 04, loss: -0.88268\n",
      "epoch: 05, loss: -0.88729\n",
      "epoch: 06, loss: -0.89099\n",
      "epoch: 07, loss: -0.89410\n",
      "epoch: 08, loss: -0.89711\n",
      "epoch: 09, loss: -0.89951\n",
      "torch.Size([1024, 64])\n"
     ]
    },
    {
     "name": "stderr",
     "output_type": "stream",
     "text": [
      "  2%|▏         | 21/999 [21:04<20:22:24, 74.99s/it]"
     ]
    },
    {
     "name": "stdout",
     "output_type": "stream",
     "text": [
      "eigenvalues shape torch.Size([5]) eigenvectors shape torch.Size([5, 1024])\n",
      "21 /home/phdcs2/Hard_Disk/Datasets/Deep-Spectral-Segmentation/data/object-segmentation/ECSSD/features/0022_resized.pth\n",
      "dict_keys(['k', 'indices', 'file', 'id', 'model_name', 'patch_size', 'shape'])\n",
      "0022_resized\n",
      "Starting Training\n",
      "epoch: 00, loss: -0.83491\n",
      "epoch: 01, loss: -0.87745\n",
      "epoch: 02, loss: -0.89277\n",
      "epoch: 03, loss: -0.90252\n",
      "epoch: 04, loss: -0.90956\n",
      "epoch: 05, loss: -0.91513\n",
      "epoch: 06, loss: -0.91984\n",
      "epoch: 07, loss: -0.92370\n",
      "epoch: 08, loss: -0.92683\n",
      "epoch: 09, loss: -0.92986\n",
      "torch.Size([1024, 64])\n"
     ]
    },
    {
     "name": "stderr",
     "output_type": "stream",
     "text": [
      "  2%|▏         | 22/999 [22:21<20:30:37, 75.58s/it]"
     ]
    },
    {
     "name": "stdout",
     "output_type": "stream",
     "text": [
      "eigenvalues shape torch.Size([5]) eigenvectors shape torch.Size([5, 1024])\n",
      "22 /home/phdcs2/Hard_Disk/Datasets/Deep-Spectral-Segmentation/data/object-segmentation/ECSSD/features/0024_resized.pth\n",
      "dict_keys(['k', 'indices', 'file', 'id', 'model_name', 'patch_size', 'shape'])\n",
      "0024_resized\n",
      "Starting Training\n",
      "epoch: 00, loss: -0.79493\n",
      "epoch: 01, loss: -0.83543\n",
      "epoch: 02, loss: -0.85075\n",
      "epoch: 03, loss: -0.86133\n",
      "epoch: 04, loss: -0.86969\n",
      "epoch: 05, loss: -0.87583\n",
      "epoch: 06, loss: -0.88114\n",
      "epoch: 07, loss: -0.88580\n",
      "epoch: 08, loss: -0.88955\n",
      "epoch: 09, loss: -0.89302\n",
      "torch.Size([1024, 64])\n"
     ]
    },
    {
     "name": "stderr",
     "output_type": "stream",
     "text": [
      "  2%|▏         | 23/999 [23:37<20:31:10, 75.69s/it]"
     ]
    },
    {
     "name": "stdout",
     "output_type": "stream",
     "text": [
      "eigenvalues shape torch.Size([5]) eigenvectors shape torch.Size([5, 1024])\n",
      "23 /home/phdcs2/Hard_Disk/Datasets/Deep-Spectral-Segmentation/data/object-segmentation/ECSSD/features/0025_resized.pth\n",
      "dict_keys(['k', 'indices', 'file', 'id', 'model_name', 'patch_size', 'shape'])\n",
      "0025_resized\n"
     ]
    },
    {
     "name": "stderr",
     "output_type": "stream",
     "text": [
      "/home/phdcs2/Hard_Disk/Projects/T2I/deep-spectral-segmentation/venv/lib/python3.8/site-packages/sklearn/decomposition/_pca.py:642: RuntimeWarning: invalid value encountered in divide\n",
      "  self.explained_variance_ratio_ = self.explained_variance_ / total_var\n"
     ]
    },
    {
     "name": "stdout",
     "output_type": "stream",
     "text": [
      "Starting Training\n",
      "epoch: 00, loss: -0.90833\n",
      "epoch: 01, loss: -0.93108\n",
      "epoch: 02, loss: -0.93792\n",
      "epoch: 03, loss: -0.94243\n",
      "epoch: 04, loss: -0.94578\n",
      "epoch: 05, loss: -0.94840\n",
      "epoch: 06, loss: -0.95055\n",
      "epoch: 07, loss: -0.95236\n",
      "epoch: 08, loss: -0.95393\n",
      "epoch: 09, loss: -0.95530\n",
      "torch.Size([1024, 64])\n"
     ]
    },
    {
     "name": "stderr",
     "output_type": "stream",
     "text": [
      "  2%|▏         | 24/999 [24:49<20:12:47, 74.63s/it]"
     ]
    },
    {
     "name": "stdout",
     "output_type": "stream",
     "text": [
      "eigenvalues shape torch.Size([5]) eigenvectors shape torch.Size([5, 1024])\n",
      "24 /home/phdcs2/Hard_Disk/Datasets/Deep-Spectral-Segmentation/data/object-segmentation/ECSSD/features/0026_resized.pth\n",
      "dict_keys(['k', 'indices', 'file', 'id', 'model_name', 'patch_size', 'shape'])\n",
      "0026_resized\n",
      "Starting Training\n",
      "epoch: 00, loss: -0.79810\n",
      "epoch: 01, loss: -0.83354\n",
      "epoch: 02, loss: -0.84630\n",
      "epoch: 03, loss: -0.85518\n",
      "epoch: 04, loss: -0.86169\n",
      "epoch: 05, loss: -0.86707\n",
      "epoch: 06, loss: -0.87143\n",
      "epoch: 07, loss: -0.87513\n",
      "epoch: 08, loss: -0.87822\n",
      "epoch: 09, loss: -0.88148\n",
      "torch.Size([1024, 64])\n"
     ]
    },
    {
     "name": "stderr",
     "output_type": "stream",
     "text": [
      "  3%|▎         | 25/999 [25:57<19:37:03, 72.51s/it]"
     ]
    },
    {
     "name": "stdout",
     "output_type": "stream",
     "text": [
      "eigenvalues shape torch.Size([5]) eigenvectors shape torch.Size([5, 1024])\n",
      "25 /home/phdcs2/Hard_Disk/Datasets/Deep-Spectral-Segmentation/data/object-segmentation/ECSSD/features/0027_resized.pth\n",
      "dict_keys(['k', 'indices', 'file', 'id', 'model_name', 'patch_size', 'shape'])\n",
      "0027_resized\n",
      "Starting Training\n",
      "epoch: 00, loss: -0.81834\n",
      "epoch: 01, loss: -0.85191\n",
      "epoch: 02, loss: -0.86426\n",
      "epoch: 03, loss: -0.87207\n",
      "epoch: 04, loss: -0.87776\n",
      "epoch: 05, loss: -0.88238\n",
      "epoch: 06, loss: -0.88624\n",
      "epoch: 07, loss: -0.88992\n",
      "epoch: 08, loss: -0.89261\n",
      "epoch: 09, loss: -0.89519\n",
      "torch.Size([1024, 64])\n"
     ]
    },
    {
     "name": "stderr",
     "output_type": "stream",
     "text": [
      "  3%|▎         | 26/999 [27:04<19:11:12, 70.99s/it]"
     ]
    },
    {
     "name": "stdout",
     "output_type": "stream",
     "text": [
      "eigenvalues shape torch.Size([5]) eigenvectors shape torch.Size([5, 1024])\n",
      "26 /home/phdcs2/Hard_Disk/Datasets/Deep-Spectral-Segmentation/data/object-segmentation/ECSSD/features/0028_resized.pth\n",
      "dict_keys(['k', 'indices', 'file', 'id', 'model_name', 'patch_size', 'shape'])\n",
      "0028_resized\n"
     ]
    },
    {
     "name": "stderr",
     "output_type": "stream",
     "text": [
      "/home/phdcs2/Hard_Disk/Projects/T2I/deep-spectral-segmentation/venv/lib/python3.8/site-packages/sklearn/decomposition/_pca.py:642: RuntimeWarning: invalid value encountered in divide\n",
      "  self.explained_variance_ratio_ = self.explained_variance_ / total_var\n"
     ]
    },
    {
     "name": "stdout",
     "output_type": "stream",
     "text": [
      "Starting Training\n",
      "epoch: 00, loss: -0.91845\n",
      "epoch: 01, loss: -0.93618\n",
      "epoch: 02, loss: -0.94102\n",
      "epoch: 03, loss: -0.94427\n",
      "epoch: 04, loss: -0.94677\n",
      "epoch: 05, loss: -0.94872\n",
      "epoch: 06, loss: -0.95040\n",
      "epoch: 07, loss: -0.95183\n",
      "epoch: 08, loss: -0.95308\n",
      "epoch: 09, loss: -0.95416\n",
      "torch.Size([1024, 64])\n"
     ]
    },
    {
     "name": "stderr",
     "output_type": "stream",
     "text": [
      "  3%|▎         | 27/999 [28:09<18:42:26, 69.29s/it]"
     ]
    },
    {
     "name": "stdout",
     "output_type": "stream",
     "text": [
      "eigenvalues shape torch.Size([5]) eigenvectors shape torch.Size([5, 1024])\n",
      "27 /home/phdcs2/Hard_Disk/Datasets/Deep-Spectral-Segmentation/data/object-segmentation/ECSSD/features/0029_resized.pth\n",
      "dict_keys(['k', 'indices', 'file', 'id', 'model_name', 'patch_size', 'shape'])\n",
      "0029_resized\n"
     ]
    },
    {
     "name": "stderr",
     "output_type": "stream",
     "text": [
      "/home/phdcs2/Hard_Disk/Projects/T2I/deep-spectral-segmentation/venv/lib/python3.8/site-packages/sklearn/decomposition/_pca.py:642: RuntimeWarning: invalid value encountered in divide\n",
      "  self.explained_variance_ratio_ = self.explained_variance_ / total_var\n"
     ]
    },
    {
     "name": "stdout",
     "output_type": "stream",
     "text": [
      "Starting Training\n",
      "epoch: 00, loss: -0.87267\n",
      "epoch: 01, loss: -0.89724\n",
      "epoch: 02, loss: -0.90556\n",
      "epoch: 03, loss: -0.91103\n",
      "epoch: 04, loss: -0.91526\n",
      "epoch: 05, loss: -0.91861\n",
      "epoch: 06, loss: -0.92134\n",
      "epoch: 07, loss: -0.92375\n",
      "epoch: 08, loss: -0.92583\n",
      "epoch: 09, loss: -0.92761\n",
      "torch.Size([1024, 64])\n"
     ]
    },
    {
     "name": "stderr",
     "output_type": "stream",
     "text": [
      "  3%|▎         | 28/999 [29:22<18:58:20, 70.34s/it]"
     ]
    },
    {
     "name": "stdout",
     "output_type": "stream",
     "text": [
      "eigenvalues shape torch.Size([5]) eigenvectors shape torch.Size([5, 1024])\n",
      "28 /home/phdcs2/Hard_Disk/Datasets/Deep-Spectral-Segmentation/data/object-segmentation/ECSSD/features/0030_resized.pth\n",
      "dict_keys(['k', 'indices', 'file', 'id', 'model_name', 'patch_size', 'shape'])\n",
      "0030_resized\n"
     ]
    },
    {
     "name": "stderr",
     "output_type": "stream",
     "text": [
      "/home/phdcs2/Hard_Disk/Projects/T2I/deep-spectral-segmentation/venv/lib/python3.8/site-packages/sklearn/decomposition/_pca.py:642: RuntimeWarning: invalid value encountered in divide\n",
      "  self.explained_variance_ratio_ = self.explained_variance_ / total_var\n"
     ]
    },
    {
     "name": "stdout",
     "output_type": "stream",
     "text": [
      "Starting Training\n",
      "epoch: 00, loss: -0.90823\n",
      "epoch: 01, loss: -0.92967\n",
      "epoch: 02, loss: -0.93551\n",
      "epoch: 03, loss: -0.93920\n",
      "epoch: 04, loss: -0.94198\n",
      "epoch: 05, loss: -0.94414\n",
      "epoch: 06, loss: -0.94594\n",
      "epoch: 07, loss: -0.94744\n",
      "epoch: 08, loss: -0.94880\n",
      "epoch: 09, loss: -0.94994\n",
      "torch.Size([1024, 64])\n"
     ]
    },
    {
     "name": "stderr",
     "output_type": "stream",
     "text": [
      "  3%|▎         | 29/999 [30:30<18:46:12, 69.66s/it]"
     ]
    },
    {
     "name": "stdout",
     "output_type": "stream",
     "text": [
      "eigenvalues shape torch.Size([5]) eigenvectors shape torch.Size([5, 1024])\n",
      "29 /home/phdcs2/Hard_Disk/Datasets/Deep-Spectral-Segmentation/data/object-segmentation/ECSSD/features/0031_resized.pth\n",
      "dict_keys(['k', 'indices', 'file', 'id', 'model_name', 'patch_size', 'shape'])\n",
      "0031_resized\n",
      "Starting Training\n",
      "epoch: 00, loss: -0.84122\n",
      "epoch: 01, loss: -0.87791\n",
      "epoch: 02, loss: -0.89092\n",
      "epoch: 03, loss: -0.89946\n",
      "epoch: 04, loss: -0.90558\n",
      "epoch: 05, loss: -0.91057\n",
      "epoch: 06, loss: -0.91468\n",
      "epoch: 07, loss: -0.91805\n",
      "epoch: 08, loss: -0.92110\n",
      "epoch: 09, loss: -0.92361\n",
      "torch.Size([1024, 64])\n"
     ]
    },
    {
     "name": "stderr",
     "output_type": "stream",
     "text": [
      "  3%|▎         | 30/999 [31:42<18:54:55, 70.27s/it]"
     ]
    },
    {
     "name": "stdout",
     "output_type": "stream",
     "text": [
      "eigenvalues shape torch.Size([5]) eigenvectors shape torch.Size([5, 1024])\n",
      "30 /home/phdcs2/Hard_Disk/Datasets/Deep-Spectral-Segmentation/data/object-segmentation/ECSSD/features/0032_resized.pth\n",
      "dict_keys(['k', 'indices', 'file', 'id', 'model_name', 'patch_size', 'shape'])\n",
      "0032_resized\n"
     ]
    },
    {
     "name": "stderr",
     "output_type": "stream",
     "text": [
      "/home/phdcs2/Hard_Disk/Projects/T2I/deep-spectral-segmentation/venv/lib/python3.8/site-packages/sklearn/decomposition/_pca.py:642: RuntimeWarning: invalid value encountered in divide\n",
      "  self.explained_variance_ratio_ = self.explained_variance_ / total_var\n"
     ]
    },
    {
     "name": "stdout",
     "output_type": "stream",
     "text": [
      "Starting Training\n",
      "epoch: 00, loss: -0.91050\n",
      "epoch: 01, loss: -0.93307\n",
      "epoch: 02, loss: -0.93931\n",
      "epoch: 03, loss: -0.94333\n",
      "epoch: 04, loss: -0.94626\n",
      "epoch: 05, loss: -0.94853\n",
      "epoch: 06, loss: -0.95037\n",
      "epoch: 07, loss: -0.95193\n",
      "epoch: 08, loss: -0.95336\n",
      "epoch: 09, loss: -0.95452\n",
      "torch.Size([1024, 64])\n"
     ]
    },
    {
     "name": "stderr",
     "output_type": "stream",
     "text": [
      "  3%|▎         | 31/999 [32:45<18:17:15, 68.01s/it]"
     ]
    },
    {
     "name": "stdout",
     "output_type": "stream",
     "text": [
      "eigenvalues shape torch.Size([5]) eigenvectors shape torch.Size([5, 1024])\n",
      "31 /home/phdcs2/Hard_Disk/Datasets/Deep-Spectral-Segmentation/data/object-segmentation/ECSSD/features/0033_resized.pth\n",
      "dict_keys(['k', 'indices', 'file', 'id', 'model_name', 'patch_size', 'shape'])\n",
      "0033_resized\n",
      "Starting Training\n",
      "epoch: 00, loss: -0.79390\n",
      "epoch: 01, loss: -0.83376\n",
      "epoch: 02, loss: -0.84924\n",
      "epoch: 03, loss: -0.85958\n",
      "epoch: 04, loss: -0.86718\n",
      "epoch: 05, loss: -0.87369\n",
      "epoch: 06, loss: -0.87891\n",
      "epoch: 07, loss: -0.88387\n",
      "epoch: 08, loss: -0.88786\n",
      "epoch: 09, loss: -0.89156\n",
      "torch.Size([1024, 64])\n"
     ]
    },
    {
     "name": "stderr",
     "output_type": "stream",
     "text": [
      "  3%|▎         | 32/999 [33:47<17:47:09, 66.21s/it]"
     ]
    },
    {
     "name": "stdout",
     "output_type": "stream",
     "text": [
      "eigenvalues shape torch.Size([5]) eigenvectors shape torch.Size([5, 1024])\n",
      "32 /home/phdcs2/Hard_Disk/Datasets/Deep-Spectral-Segmentation/data/object-segmentation/ECSSD/features/0034_resized.pth\n",
      "dict_keys(['k', 'indices', 'file', 'id', 'model_name', 'patch_size', 'shape'])\n",
      "0034_resized\n",
      "Starting Training\n",
      "epoch: 00, loss: -0.84831\n",
      "epoch: 01, loss: -0.88508\n",
      "epoch: 02, loss: -0.89780\n",
      "epoch: 03, loss: -0.90619\n",
      "epoch: 04, loss: -0.91260\n",
      "epoch: 05, loss: -0.91741\n",
      "epoch: 06, loss: -0.92145\n",
      "epoch: 07, loss: -0.92478\n",
      "epoch: 08, loss: -0.92766\n",
      "epoch: 09, loss: -0.93018\n",
      "torch.Size([1024, 64])\n"
     ]
    },
    {
     "name": "stderr",
     "output_type": "stream",
     "text": [
      "  3%|▎         | 33/999 [34:49<17:24:58, 64.90s/it]"
     ]
    },
    {
     "name": "stdout",
     "output_type": "stream",
     "text": [
      "eigenvalues shape torch.Size([5]) eigenvectors shape torch.Size([5, 1024])\n",
      "33 /home/phdcs2/Hard_Disk/Datasets/Deep-Spectral-Segmentation/data/object-segmentation/ECSSD/features/0035_resized.pth\n",
      "dict_keys(['k', 'indices', 'file', 'id', 'model_name', 'patch_size', 'shape'])\n",
      "0035_resized\n",
      "Starting Training\n",
      "epoch: 00, loss: -0.80315\n",
      "epoch: 01, loss: -0.84809\n",
      "epoch: 02, loss: -0.86391\n",
      "epoch: 03, loss: -0.87476\n",
      "epoch: 04, loss: -0.88288\n",
      "epoch: 05, loss: -0.88978\n",
      "epoch: 06, loss: -0.89517\n",
      "epoch: 07, loss: -0.89982\n",
      "epoch: 08, loss: -0.90390\n",
      "epoch: 09, loss: -0.90733\n",
      "torch.Size([1024, 64])\n"
     ]
    },
    {
     "name": "stderr",
     "output_type": "stream",
     "text": [
      "  3%|▎         | 34/999 [35:48<16:55:12, 63.12s/it]"
     ]
    },
    {
     "name": "stdout",
     "output_type": "stream",
     "text": [
      "eigenvalues shape torch.Size([5]) eigenvectors shape torch.Size([5, 1024])\n",
      "34 /home/phdcs2/Hard_Disk/Datasets/Deep-Spectral-Segmentation/data/object-segmentation/ECSSD/features/0036_resized.pth\n",
      "dict_keys(['k', 'indices', 'file', 'id', 'model_name', 'patch_size', 'shape'])\n",
      "0036_resized\n",
      "Starting Training\n",
      "epoch: 00, loss: -0.81504\n",
      "epoch: 01, loss: -0.85577\n",
      "epoch: 02, loss: -0.86973\n",
      "epoch: 03, loss: -0.87896\n",
      "epoch: 04, loss: -0.88598\n",
      "epoch: 05, loss: -0.89156\n",
      "epoch: 06, loss: -0.89613\n",
      "epoch: 07, loss: -0.90009\n",
      "epoch: 08, loss: -0.90334\n",
      "epoch: 09, loss: -0.90637\n",
      "torch.Size([1024, 64])\n"
     ]
    },
    {
     "name": "stderr",
     "output_type": "stream",
     "text": [
      "  4%|▎         | 35/999 [36:42<16:10:23, 60.40s/it]"
     ]
    },
    {
     "name": "stdout",
     "output_type": "stream",
     "text": [
      "eigenvalues shape torch.Size([5]) eigenvectors shape torch.Size([5, 1024])\n",
      "35 /home/phdcs2/Hard_Disk/Datasets/Deep-Spectral-Segmentation/data/object-segmentation/ECSSD/features/0037_resized.pth\n",
      "dict_keys(['k', 'indices', 'file', 'id', 'model_name', 'patch_size', 'shape'])\n",
      "0037_resized\n"
     ]
    },
    {
     "name": "stderr",
     "output_type": "stream",
     "text": [
      "/home/phdcs2/Hard_Disk/Projects/T2I/deep-spectral-segmentation/venv/lib/python3.8/site-packages/sklearn/decomposition/_pca.py:642: RuntimeWarning: invalid value encountered in divide\n",
      "  self.explained_variance_ratio_ = self.explained_variance_ / total_var\n"
     ]
    },
    {
     "name": "stdout",
     "output_type": "stream",
     "text": [
      "Starting Training\n",
      "epoch: 00, loss: -0.89282\n",
      "epoch: 01, loss: -0.92027\n",
      "epoch: 02, loss: -0.92787\n",
      "epoch: 03, loss: -0.93291\n",
      "epoch: 04, loss: -0.93662\n",
      "epoch: 05, loss: -0.93956\n",
      "epoch: 06, loss: -0.94200\n",
      "epoch: 07, loss: -0.94404\n",
      "epoch: 08, loss: -0.94579\n",
      "epoch: 09, loss: -0.94733\n",
      "torch.Size([1024, 64])\n"
     ]
    },
    {
     "name": "stderr",
     "output_type": "stream",
     "text": [
      "  4%|▎         | 36/999 [37:46<16:31:16, 61.76s/it]"
     ]
    },
    {
     "name": "stdout",
     "output_type": "stream",
     "text": [
      "eigenvalues shape torch.Size([5]) eigenvectors shape torch.Size([5, 1024])\n",
      "36 /home/phdcs2/Hard_Disk/Datasets/Deep-Spectral-Segmentation/data/object-segmentation/ECSSD/features/0038_resized.pth\n",
      "dict_keys(['k', 'indices', 'file', 'id', 'model_name', 'patch_size', 'shape'])\n",
      "0038_resized\n"
     ]
    },
    {
     "name": "stderr",
     "output_type": "stream",
     "text": [
      "/home/phdcs2/Hard_Disk/Projects/T2I/deep-spectral-segmentation/venv/lib/python3.8/site-packages/sklearn/decomposition/_pca.py:642: RuntimeWarning: invalid value encountered in divide\n",
      "  self.explained_variance_ratio_ = self.explained_variance_ / total_var\n"
     ]
    },
    {
     "name": "stdout",
     "output_type": "stream",
     "text": [
      "Starting Training\n",
      "epoch: 00, loss: -0.89031\n",
      "epoch: 01, loss: -0.91465\n",
      "epoch: 02, loss: -0.92218\n",
      "epoch: 03, loss: -0.92704\n",
      "epoch: 04, loss: -0.93083\n",
      "epoch: 05, loss: -0.93370\n",
      "epoch: 06, loss: -0.93623\n",
      "epoch: 07, loss: -0.93834\n",
      "epoch: 08, loss: -0.94017\n",
      "epoch: 09, loss: -0.94178\n",
      "torch.Size([1024, 64])\n"
     ]
    },
    {
     "name": "stderr",
     "output_type": "stream",
     "text": [
      "  4%|▎         | 37/999 [38:50<16:40:43, 62.42s/it]"
     ]
    },
    {
     "name": "stdout",
     "output_type": "stream",
     "text": [
      "eigenvalues shape torch.Size([5]) eigenvectors shape torch.Size([5, 1024])\n",
      "37 /home/phdcs2/Hard_Disk/Datasets/Deep-Spectral-Segmentation/data/object-segmentation/ECSSD/features/0039_resized.pth\n",
      "dict_keys(['k', 'indices', 'file', 'id', 'model_name', 'patch_size', 'shape'])\n",
      "0039_resized\n"
     ]
    },
    {
     "name": "stderr",
     "output_type": "stream",
     "text": [
      "/home/phdcs2/Hard_Disk/Projects/T2I/deep-spectral-segmentation/venv/lib/python3.8/site-packages/sklearn/decomposition/_pca.py:642: RuntimeWarning: invalid value encountered in divide\n",
      "  self.explained_variance_ratio_ = self.explained_variance_ / total_var\n"
     ]
    },
    {
     "name": "stdout",
     "output_type": "stream",
     "text": [
      "Starting Training\n",
      "epoch: 00, loss: -0.89689\n",
      "epoch: 01, loss: -0.91892\n",
      "epoch: 02, loss: -0.92516\n",
      "epoch: 03, loss: -0.92944\n",
      "epoch: 04, loss: -0.93262\n",
      "epoch: 05, loss: -0.93524\n",
      "epoch: 06, loss: -0.93748\n",
      "epoch: 07, loss: -0.93930\n",
      "epoch: 08, loss: -0.94087\n",
      "epoch: 09, loss: -0.94236\n",
      "torch.Size([1024, 64])\n"
     ]
    },
    {
     "name": "stderr",
     "output_type": "stream",
     "text": [
      "  4%|▍         | 38/999 [40:03<17:29:22, 65.52s/it]"
     ]
    },
    {
     "name": "stdout",
     "output_type": "stream",
     "text": [
      "eigenvalues shape torch.Size([5]) eigenvectors shape torch.Size([5, 1024])\n",
      "38 /home/phdcs2/Hard_Disk/Datasets/Deep-Spectral-Segmentation/data/object-segmentation/ECSSD/features/0040_resized.pth\n",
      "dict_keys(['k', 'indices', 'file', 'id', 'model_name', 'patch_size', 'shape'])\n",
      "0040_resized\n",
      "Starting Training\n",
      "epoch: 00, loss: -0.79530\n",
      "epoch: 01, loss: -0.83741\n",
      "epoch: 02, loss: -0.85192\n",
      "epoch: 03, loss: -0.86136\n",
      "epoch: 04, loss: -0.86890\n",
      "epoch: 05, loss: -0.87488\n",
      "epoch: 06, loss: -0.87946\n",
      "epoch: 07, loss: -0.88411\n",
      "epoch: 08, loss: -0.88743\n",
      "epoch: 09, loss: -0.89056\n",
      "torch.Size([1024, 64])\n"
     ]
    },
    {
     "name": "stderr",
     "output_type": "stream",
     "text": [
      "  4%|▍         | 39/999 [41:14<17:52:53, 67.06s/it]"
     ]
    },
    {
     "name": "stdout",
     "output_type": "stream",
     "text": [
      "eigenvalues shape torch.Size([5]) eigenvectors shape torch.Size([5, 1024])\n",
      "39 /home/phdcs2/Hard_Disk/Datasets/Deep-Spectral-Segmentation/data/object-segmentation/ECSSD/features/0041_resized.pth\n",
      "dict_keys(['k', 'indices', 'file', 'id', 'model_name', 'patch_size', 'shape'])\n",
      "0041_resized\n",
      "Starting Training\n",
      "epoch: 00, loss: -0.84692\n",
      "epoch: 01, loss: -0.88384\n",
      "epoch: 02, loss: -0.89552\n",
      "epoch: 03, loss: -0.90324\n",
      "epoch: 04, loss: -0.90929\n",
      "epoch: 05, loss: -0.91421\n",
      "epoch: 06, loss: -0.91783\n",
      "epoch: 07, loss: -0.92113\n",
      "epoch: 08, loss: -0.92401\n",
      "epoch: 09, loss: -0.92644\n",
      "torch.Size([1024, 64])\n"
     ]
    },
    {
     "name": "stderr",
     "output_type": "stream",
     "text": [
      "  4%|▍         | 40/999 [42:23<18:02:56, 67.75s/it]"
     ]
    },
    {
     "name": "stdout",
     "output_type": "stream",
     "text": [
      "eigenvalues shape torch.Size([5]) eigenvectors shape torch.Size([5, 1024])\n",
      "40 /home/phdcs2/Hard_Disk/Datasets/Deep-Spectral-Segmentation/data/object-segmentation/ECSSD/features/0042_resized.pth\n",
      "dict_keys(['k', 'indices', 'file', 'id', 'model_name', 'patch_size', 'shape'])\n",
      "0042_resized\n"
     ]
    },
    {
     "name": "stderr",
     "output_type": "stream",
     "text": [
      "/home/phdcs2/Hard_Disk/Projects/T2I/deep-spectral-segmentation/venv/lib/python3.8/site-packages/sklearn/decomposition/_pca.py:642: RuntimeWarning: invalid value encountered in divide\n",
      "  self.explained_variance_ratio_ = self.explained_variance_ / total_var\n"
     ]
    },
    {
     "name": "stdout",
     "output_type": "stream",
     "text": [
      "Starting Training\n",
      "epoch: 00, loss: -0.89662\n",
      "epoch: 01, loss: -0.92328\n",
      "epoch: 02, loss: -0.93077\n",
      "epoch: 03, loss: -0.93569\n",
      "epoch: 04, loss: -0.93924\n",
      "epoch: 05, loss: -0.94207\n",
      "epoch: 06, loss: -0.94430\n",
      "epoch: 07, loss: -0.94622\n",
      "epoch: 08, loss: -0.94794\n",
      "epoch: 09, loss: -0.94936\n",
      "torch.Size([1024, 64])\n"
     ]
    },
    {
     "name": "stderr",
     "output_type": "stream",
     "text": [
      "  4%|▍         | 41/999 [43:37<18:29:00, 69.46s/it]"
     ]
    },
    {
     "name": "stdout",
     "output_type": "stream",
     "text": [
      "eigenvalues shape torch.Size([5]) eigenvectors shape torch.Size([5, 1024])\n",
      "41 /home/phdcs2/Hard_Disk/Datasets/Deep-Spectral-Segmentation/data/object-segmentation/ECSSD/features/0043_resized.pth\n",
      "dict_keys(['k', 'indices', 'file', 'id', 'model_name', 'patch_size', 'shape'])\n",
      "0043_resized\n"
     ]
    },
    {
     "name": "stderr",
     "output_type": "stream",
     "text": [
      "/home/phdcs2/Hard_Disk/Projects/T2I/deep-spectral-segmentation/venv/lib/python3.8/site-packages/sklearn/decomposition/_pca.py:642: RuntimeWarning: invalid value encountered in divide\n",
      "  self.explained_variance_ratio_ = self.explained_variance_ / total_var\n"
     ]
    },
    {
     "name": "stdout",
     "output_type": "stream",
     "text": [
      "Starting Training\n",
      "epoch: 00, loss: -0.91094\n",
      "epoch: 01, loss: -0.93221\n",
      "epoch: 02, loss: -0.93777\n",
      "epoch: 03, loss: -0.94148\n",
      "epoch: 04, loss: -0.94420\n",
      "epoch: 05, loss: -0.94639\n",
      "epoch: 06, loss: -0.94815\n",
      "epoch: 07, loss: -0.94972\n",
      "epoch: 08, loss: -0.95107\n",
      "epoch: 09, loss: -0.95222\n",
      "torch.Size([1024, 64])\n"
     ]
    },
    {
     "name": "stderr",
     "output_type": "stream",
     "text": [
      "  4%|▍         | 42/999 [44:51<18:50:27, 70.88s/it]"
     ]
    },
    {
     "name": "stdout",
     "output_type": "stream",
     "text": [
      "eigenvalues shape torch.Size([5]) eigenvectors shape torch.Size([5, 1024])\n",
      "42 /home/phdcs2/Hard_Disk/Datasets/Deep-Spectral-Segmentation/data/object-segmentation/ECSSD/features/0044_resized.pth\n",
      "dict_keys(['k', 'indices', 'file', 'id', 'model_name', 'patch_size', 'shape'])\n",
      "0044_resized\n",
      "Starting Training\n",
      "epoch: 00, loss: -0.83652\n",
      "epoch: 01, loss: -0.87647\n",
      "epoch: 02, loss: -0.88849\n",
      "epoch: 03, loss: -0.89632\n",
      "epoch: 04, loss: -0.90193\n",
      "epoch: 05, loss: -0.90618\n",
      "epoch: 06, loss: -0.90971\n",
      "epoch: 07, loss: -0.91299\n",
      "epoch: 08, loss: -0.91580\n",
      "epoch: 09, loss: -0.91827\n",
      "torch.Size([1024, 64])\n"
     ]
    },
    {
     "name": "stderr",
     "output_type": "stream",
     "text": [
      "  4%|▍         | 43/999 [46:08<19:19:52, 72.80s/it]"
     ]
    },
    {
     "name": "stdout",
     "output_type": "stream",
     "text": [
      "eigenvalues shape torch.Size([5]) eigenvectors shape torch.Size([5, 1024])\n",
      "43 /home/phdcs2/Hard_Disk/Datasets/Deep-Spectral-Segmentation/data/object-segmentation/ECSSD/features/0045_resized.pth\n",
      "dict_keys(['k', 'indices', 'file', 'id', 'model_name', 'patch_size', 'shape'])\n",
      "0045_resized\n",
      "Starting Training\n",
      "epoch: 00, loss: -0.77730\n",
      "epoch: 01, loss: -0.81908\n",
      "epoch: 02, loss: -0.83517\n",
      "epoch: 03, loss: -0.84603\n",
      "epoch: 04, loss: -0.85466\n",
      "epoch: 05, loss: -0.86091\n",
      "epoch: 06, loss: -0.86626\n",
      "epoch: 07, loss: -0.87067\n",
      "epoch: 08, loss: -0.87507\n",
      "epoch: 09, loss: -0.87911\n",
      "torch.Size([1024, 64])\n"
     ]
    },
    {
     "name": "stderr",
     "output_type": "stream",
     "text": [
      "  4%|▍         | 44/999 [47:22<19:24:22, 73.15s/it]"
     ]
    },
    {
     "name": "stdout",
     "output_type": "stream",
     "text": [
      "eigenvalues shape torch.Size([5]) eigenvectors shape torch.Size([5, 1024])\n",
      "44 /home/phdcs2/Hard_Disk/Datasets/Deep-Spectral-Segmentation/data/object-segmentation/ECSSD/features/0046_resized.pth\n",
      "dict_keys(['k', 'indices', 'file', 'id', 'model_name', 'patch_size', 'shape'])\n",
      "0046_resized\n"
     ]
    },
    {
     "name": "stderr",
     "output_type": "stream",
     "text": [
      "/home/phdcs2/Hard_Disk/Projects/T2I/deep-spectral-segmentation/venv/lib/python3.8/site-packages/sklearn/decomposition/_pca.py:642: RuntimeWarning: invalid value encountered in divide\n",
      "  self.explained_variance_ratio_ = self.explained_variance_ / total_var\n"
     ]
    },
    {
     "name": "stdout",
     "output_type": "stream",
     "text": [
      "Starting Training\n",
      "epoch: 00, loss: -0.90886\n",
      "epoch: 01, loss: -0.92971\n",
      "epoch: 02, loss: -0.93506\n",
      "epoch: 03, loss: -0.93858\n",
      "epoch: 04, loss: -0.94126\n",
      "epoch: 05, loss: -0.94335\n",
      "epoch: 06, loss: -0.94511\n",
      "epoch: 07, loss: -0.94659\n",
      "epoch: 08, loss: -0.94791\n",
      "epoch: 09, loss: -0.94909\n",
      "torch.Size([1024, 64])\n"
     ]
    },
    {
     "name": "stderr",
     "output_type": "stream",
     "text": [
      "  5%|▍         | 45/999 [48:37<19:30:26, 73.61s/it]"
     ]
    },
    {
     "name": "stdout",
     "output_type": "stream",
     "text": [
      "eigenvalues shape torch.Size([5]) eigenvectors shape torch.Size([5, 1024])\n",
      "45 /home/phdcs2/Hard_Disk/Datasets/Deep-Spectral-Segmentation/data/object-segmentation/ECSSD/features/0047_resized.pth\n",
      "dict_keys(['k', 'indices', 'file', 'id', 'model_name', 'patch_size', 'shape'])\n",
      "0047_resized\n",
      "Starting Training\n",
      "epoch: 00, loss: -0.83266\n",
      "epoch: 01, loss: -0.86862\n",
      "epoch: 02, loss: -0.88138\n",
      "epoch: 03, loss: -0.88970\n",
      "epoch: 04, loss: -0.89589\n",
      "epoch: 05, loss: -0.90082\n",
      "epoch: 06, loss: -0.90504\n",
      "epoch: 07, loss: -0.90856\n",
      "epoch: 08, loss: -0.91149\n",
      "epoch: 09, loss: -0.91421\n",
      "torch.Size([1024, 64])\n"
     ]
    },
    {
     "name": "stderr",
     "output_type": "stream",
     "text": [
      "  5%|▍         | 46/999 [49:53<19:42:45, 74.47s/it]"
     ]
    },
    {
     "name": "stdout",
     "output_type": "stream",
     "text": [
      "eigenvalues shape torch.Size([5]) eigenvectors shape torch.Size([5, 1024])\n",
      "46 /home/phdcs2/Hard_Disk/Datasets/Deep-Spectral-Segmentation/data/object-segmentation/ECSSD/features/0048_resized.pth\n",
      "dict_keys(['k', 'indices', 'file', 'id', 'model_name', 'patch_size', 'shape'])\n",
      "0048_resized\n",
      "Starting Training\n",
      "epoch: 00, loss: -0.82203\n",
      "epoch: 01, loss: -0.85761\n",
      "epoch: 02, loss: -0.87056\n",
      "epoch: 03, loss: -0.87984\n",
      "epoch: 04, loss: -0.88650\n",
      "epoch: 05, loss: -0.89223\n",
      "epoch: 06, loss: -0.89706\n",
      "epoch: 07, loss: -0.90095\n",
      "epoch: 08, loss: -0.90431\n",
      "epoch: 09, loss: -0.90722\n",
      "torch.Size([1024, 64])\n"
     ]
    },
    {
     "name": "stderr",
     "output_type": "stream",
     "text": [
      "  5%|▍         | 47/999 [51:14<20:10:05, 76.27s/it]"
     ]
    },
    {
     "name": "stdout",
     "output_type": "stream",
     "text": [
      "eigenvalues shape torch.Size([5]) eigenvectors shape torch.Size([5, 1024])\n",
      "47 /home/phdcs2/Hard_Disk/Datasets/Deep-Spectral-Segmentation/data/object-segmentation/ECSSD/features/0049_resized.pth\n",
      "dict_keys(['k', 'indices', 'file', 'id', 'model_name', 'patch_size', 'shape'])\n",
      "0049_resized\n",
      "Starting Training\n",
      "epoch: 00, loss: -0.82103\n",
      "epoch: 01, loss: -0.86589\n",
      "epoch: 02, loss: -0.88091\n",
      "epoch: 03, loss: -0.89017\n",
      "epoch: 04, loss: -0.89739\n",
      "epoch: 05, loss: -0.90274\n",
      "epoch: 06, loss: -0.90728\n",
      "epoch: 07, loss: -0.91098\n",
      "epoch: 08, loss: -0.91415\n",
      "epoch: 09, loss: -0.91710\n",
      "torch.Size([1024, 64])\n"
     ]
    },
    {
     "name": "stderr",
     "output_type": "stream",
     "text": [
      "  5%|▍         | 48/999 [52:32<20:17:26, 76.81s/it]"
     ]
    },
    {
     "name": "stdout",
     "output_type": "stream",
     "text": [
      "eigenvalues shape torch.Size([5]) eigenvectors shape torch.Size([5, 1024])\n",
      "48 /home/phdcs2/Hard_Disk/Datasets/Deep-Spectral-Segmentation/data/object-segmentation/ECSSD/features/0050_resized.pth\n",
      "dict_keys(['k', 'indices', 'file', 'id', 'model_name', 'patch_size', 'shape'])\n",
      "0050_resized\n"
     ]
    },
    {
     "name": "stderr",
     "output_type": "stream",
     "text": [
      "/home/phdcs2/Hard_Disk/Projects/T2I/deep-spectral-segmentation/venv/lib/python3.8/site-packages/sklearn/decomposition/_pca.py:642: RuntimeWarning: invalid value encountered in divide\n",
      "  self.explained_variance_ratio_ = self.explained_variance_ / total_var\n"
     ]
    },
    {
     "name": "stdout",
     "output_type": "stream",
     "text": [
      "Starting Training\n",
      "epoch: 00, loss: -0.91707\n",
      "epoch: 01, loss: -0.93424\n",
      "epoch: 02, loss: -0.93913\n",
      "epoch: 03, loss: -0.94241\n",
      "epoch: 04, loss: -0.94494\n",
      "epoch: 05, loss: -0.94696\n",
      "epoch: 06, loss: -0.94871\n",
      "epoch: 07, loss: -0.95012\n",
      "epoch: 08, loss: -0.95142\n",
      "epoch: 09, loss: -0.95255\n",
      "torch.Size([1024, 64])\n"
     ]
    },
    {
     "name": "stderr",
     "output_type": "stream",
     "text": [
      "  5%|▍         | 49/999 [53:46<20:02:10, 75.93s/it]"
     ]
    },
    {
     "name": "stdout",
     "output_type": "stream",
     "text": [
      "eigenvalues shape torch.Size([5]) eigenvectors shape torch.Size([5, 1024])\n",
      "49 /home/phdcs2/Hard_Disk/Datasets/Deep-Spectral-Segmentation/data/object-segmentation/ECSSD/features/0051_resized.pth\n",
      "dict_keys(['k', 'indices', 'file', 'id', 'model_name', 'patch_size', 'shape'])\n",
      "0051_resized\n"
     ]
    },
    {
     "name": "stderr",
     "output_type": "stream",
     "text": [
      "/home/phdcs2/Hard_Disk/Projects/T2I/deep-spectral-segmentation/venv/lib/python3.8/site-packages/sklearn/decomposition/_pca.py:642: RuntimeWarning: invalid value encountered in divide\n",
      "  self.explained_variance_ratio_ = self.explained_variance_ / total_var\n"
     ]
    },
    {
     "name": "stdout",
     "output_type": "stream",
     "text": [
      "Starting Training\n",
      "epoch: 00, loss: -0.92778\n",
      "epoch: 01, loss: -0.94497\n",
      "epoch: 02, loss: -0.94931\n",
      "epoch: 03, loss: -0.95207\n",
      "epoch: 04, loss: -0.95428\n",
      "epoch: 05, loss: -0.95604\n",
      "epoch: 06, loss: -0.95756\n",
      "epoch: 07, loss: -0.95880\n",
      "epoch: 08, loss: -0.95988\n",
      "epoch: 09, loss: -0.96091\n",
      "torch.Size([1024, 64])\n"
     ]
    },
    {
     "name": "stderr",
     "output_type": "stream",
     "text": [
      "  5%|▌         | 50/999 [55:02<20:03:19, 76.08s/it]"
     ]
    },
    {
     "name": "stdout",
     "output_type": "stream",
     "text": [
      "eigenvalues shape torch.Size([5]) eigenvectors shape torch.Size([5, 1024])\n",
      "50 /home/phdcs2/Hard_Disk/Datasets/Deep-Spectral-Segmentation/data/object-segmentation/ECSSD/features/0052_resized.pth\n",
      "dict_keys(['k', 'indices', 'file', 'id', 'model_name', 'patch_size', 'shape'])\n",
      "0052_resized\n",
      "Starting Training\n",
      "epoch: 00, loss: -0.91451\n",
      "epoch: 01, loss: -0.93810\n",
      "epoch: 02, loss: -0.94455\n",
      "epoch: 03, loss: -0.94864\n",
      "epoch: 04, loss: -0.95169\n",
      "epoch: 05, loss: -0.95407\n",
      "epoch: 06, loss: -0.95607\n",
      "epoch: 07, loss: -0.95761\n",
      "epoch: 08, loss: -0.95904\n",
      "epoch: 09, loss: -0.96027\n",
      "torch.Size([1024, 64])\n"
     ]
    },
    {
     "name": "stderr",
     "output_type": "stream",
     "text": [
      "  5%|▌         | 51/999 [56:17<19:54:35, 75.61s/it]"
     ]
    },
    {
     "name": "stdout",
     "output_type": "stream",
     "text": [
      "eigenvalues shape torch.Size([5]) eigenvectors shape torch.Size([5, 1024])\n",
      "51 /home/phdcs2/Hard_Disk/Datasets/Deep-Spectral-Segmentation/data/object-segmentation/ECSSD/features/0053_resized.pth\n",
      "dict_keys(['k', 'indices', 'file', 'id', 'model_name', 'patch_size', 'shape'])\n",
      "0053_resized\n",
      "Starting Training\n",
      "epoch: 00, loss: -0.81420\n",
      "epoch: 01, loss: -0.86087\n",
      "epoch: 02, loss: -0.87687\n",
      "epoch: 03, loss: -0.88712\n",
      "epoch: 04, loss: -0.89471\n",
      "epoch: 05, loss: -0.90037\n",
      "epoch: 06, loss: -0.90506\n",
      "epoch: 07, loss: -0.90890\n",
      "epoch: 08, loss: -0.91241\n",
      "epoch: 09, loss: -0.91545\n",
      "torch.Size([1024, 64])\n"
     ]
    },
    {
     "name": "stderr",
     "output_type": "stream",
     "text": [
      "  5%|▌         | 52/999 [57:31<19:49:22, 75.36s/it]"
     ]
    },
    {
     "name": "stdout",
     "output_type": "stream",
     "text": [
      "eigenvalues shape torch.Size([5]) eigenvectors shape torch.Size([5, 1024])\n",
      "52 /home/phdcs2/Hard_Disk/Datasets/Deep-Spectral-Segmentation/data/object-segmentation/ECSSD/features/0054_resized.pth\n",
      "dict_keys(['k', 'indices', 'file', 'id', 'model_name', 'patch_size', 'shape'])\n",
      "0054_resized\n",
      "Starting Training\n",
      "epoch: 00, loss: -0.86999\n",
      "epoch: 01, loss: -0.89264\n",
      "epoch: 02, loss: -0.90083\n",
      "epoch: 03, loss: -0.90629\n",
      "epoch: 04, loss: -0.91081\n",
      "epoch: 05, loss: -0.91410\n",
      "epoch: 06, loss: -0.91712\n",
      "epoch: 07, loss: -0.91949\n",
      "epoch: 08, loss: -0.92168\n",
      "epoch: 09, loss: -0.92349\n",
      "torch.Size([1024, 64])\n"
     ]
    },
    {
     "name": "stderr",
     "output_type": "stream",
     "text": [
      "  5%|▌         | 53/999 [58:43<19:28:24, 74.11s/it]"
     ]
    },
    {
     "name": "stdout",
     "output_type": "stream",
     "text": [
      "eigenvalues shape torch.Size([5]) eigenvectors shape torch.Size([5, 1024])\n",
      "53 /home/phdcs2/Hard_Disk/Datasets/Deep-Spectral-Segmentation/data/object-segmentation/ECSSD/features/0055_resized.pth\n",
      "dict_keys(['k', 'indices', 'file', 'id', 'model_name', 'patch_size', 'shape'])\n",
      "0055_resized\n",
      "Starting Training\n",
      "epoch: 00, loss: -0.83401\n",
      "epoch: 01, loss: -0.86418\n",
      "epoch: 02, loss: -0.87612\n",
      "epoch: 03, loss: -0.88440\n",
      "epoch: 04, loss: -0.89074\n",
      "epoch: 05, loss: -0.89568\n",
      "epoch: 06, loss: -0.90002\n",
      "epoch: 07, loss: -0.90355\n",
      "epoch: 08, loss: -0.90691\n",
      "epoch: 09, loss: -0.90933\n",
      "torch.Size([1024, 64])\n"
     ]
    },
    {
     "name": "stderr",
     "output_type": "stream",
     "text": [
      "  5%|▌         | 54/999 [59:55<19:21:27, 73.74s/it]"
     ]
    },
    {
     "name": "stdout",
     "output_type": "stream",
     "text": [
      "eigenvalues shape torch.Size([5]) eigenvectors shape torch.Size([5, 1024])\n",
      "54 /home/phdcs2/Hard_Disk/Datasets/Deep-Spectral-Segmentation/data/object-segmentation/ECSSD/features/0056_resized.pth\n",
      "dict_keys(['k', 'indices', 'file', 'id', 'model_name', 'patch_size', 'shape'])\n",
      "0056_resized\n"
     ]
    },
    {
     "name": "stderr",
     "output_type": "stream",
     "text": [
      "/home/phdcs2/Hard_Disk/Projects/T2I/deep-spectral-segmentation/venv/lib/python3.8/site-packages/sklearn/decomposition/_pca.py:642: RuntimeWarning: invalid value encountered in divide\n",
      "  self.explained_variance_ratio_ = self.explained_variance_ / total_var\n"
     ]
    },
    {
     "name": "stdout",
     "output_type": "stream",
     "text": [
      "Starting Training\n",
      "epoch: 00, loss: -0.88773\n",
      "epoch: 01, loss: -0.91064\n",
      "epoch: 02, loss: -0.91795\n",
      "epoch: 03, loss: -0.92286\n",
      "epoch: 04, loss: -0.92659\n",
      "epoch: 05, loss: -0.92961\n",
      "epoch: 06, loss: -0.93216\n",
      "epoch: 07, loss: -0.93438\n",
      "epoch: 08, loss: -0.93626\n",
      "epoch: 09, loss: -0.93795\n",
      "torch.Size([1024, 64])\n"
     ]
    },
    {
     "name": "stderr",
     "output_type": "stream",
     "text": [
      "  6%|▌         | 55/999 [1:01:00<18:37:07, 71.00s/it]"
     ]
    },
    {
     "name": "stdout",
     "output_type": "stream",
     "text": [
      "eigenvalues shape torch.Size([5]) eigenvectors shape torch.Size([5, 1024])\n",
      "55 /home/phdcs2/Hard_Disk/Datasets/Deep-Spectral-Segmentation/data/object-segmentation/ECSSD/features/0057_resized.pth\n",
      "dict_keys(['k', 'indices', 'file', 'id', 'model_name', 'patch_size', 'shape'])\n",
      "0057_resized\n",
      "Starting Training\n",
      "epoch: 00, loss: -0.85370\n",
      "epoch: 01, loss: -0.88985\n",
      "epoch: 02, loss: -0.90095\n",
      "epoch: 03, loss: -0.90844\n",
      "epoch: 04, loss: -0.91407\n",
      "epoch: 05, loss: -0.91850\n",
      "epoch: 06, loss: -0.92192\n",
      "epoch: 07, loss: -0.92497\n",
      "epoch: 08, loss: -0.92758\n",
      "epoch: 09, loss: -0.93003\n",
      "torch.Size([1024, 64])\n"
     ]
    },
    {
     "name": "stderr",
     "output_type": "stream",
     "text": [
      "  6%|▌         | 56/999 [1:02:14<18:50:17, 71.92s/it]"
     ]
    },
    {
     "name": "stdout",
     "output_type": "stream",
     "text": [
      "eigenvalues shape torch.Size([5]) eigenvectors shape torch.Size([5, 1024])\n",
      "56 /home/phdcs2/Hard_Disk/Datasets/Deep-Spectral-Segmentation/data/object-segmentation/ECSSD/features/0058_resized.pth\n",
      "dict_keys(['k', 'indices', 'file', 'id', 'model_name', 'patch_size', 'shape'])\n",
      "0058_resized\n",
      "Starting Training\n",
      "epoch: 00, loss: -0.84293\n",
      "epoch: 01, loss: -0.87566\n",
      "epoch: 02, loss: -0.88739\n",
      "epoch: 03, loss: -0.89503\n",
      "epoch: 04, loss: -0.90079\n",
      "epoch: 05, loss: -0.90491\n",
      "epoch: 06, loss: -0.90878\n",
      "epoch: 07, loss: -0.91201\n",
      "epoch: 08, loss: -0.91459\n",
      "epoch: 09, loss: -0.91665\n",
      "torch.Size([1024, 64])\n"
     ]
    },
    {
     "name": "stderr",
     "output_type": "stream",
     "text": [
      "  6%|▌         | 57/999 [1:03:31<19:14:01, 73.50s/it]"
     ]
    },
    {
     "name": "stdout",
     "output_type": "stream",
     "text": [
      "eigenvalues shape torch.Size([5]) eigenvectors shape torch.Size([5, 1024])\n",
      "57 /home/phdcs2/Hard_Disk/Datasets/Deep-Spectral-Segmentation/data/object-segmentation/ECSSD/features/0059_resized.pth\n",
      "dict_keys(['k', 'indices', 'file', 'id', 'model_name', 'patch_size', 'shape'])\n",
      "0059_resized\n",
      "Starting Training\n",
      "epoch: 00, loss: -0.88999\n",
      "epoch: 01, loss: -0.91057\n",
      "epoch: 02, loss: -0.91689\n",
      "epoch: 03, loss: -0.92112\n",
      "epoch: 04, loss: -0.92436\n",
      "epoch: 05, loss: -0.92699\n",
      "epoch: 06, loss: -0.92920\n",
      "epoch: 07, loss: -0.93116\n",
      "epoch: 08, loss: -0.93277\n",
      "epoch: 09, loss: -0.93430\n",
      "torch.Size([1024, 64])\n"
     ]
    },
    {
     "name": "stderr",
     "output_type": "stream",
     "text": [
      "  6%|▌         | 58/999 [1:04:43<19:05:19, 73.03s/it]"
     ]
    },
    {
     "name": "stdout",
     "output_type": "stream",
     "text": [
      "eigenvalues shape torch.Size([5]) eigenvectors shape torch.Size([5, 1024])\n",
      "58 /home/phdcs2/Hard_Disk/Datasets/Deep-Spectral-Segmentation/data/object-segmentation/ECSSD/features/0060_resized.pth\n",
      "dict_keys(['k', 'indices', 'file', 'id', 'model_name', 'patch_size', 'shape'])\n",
      "0060_resized\n",
      "Starting Training\n",
      "epoch: 00, loss: -0.82769\n",
      "epoch: 01, loss: -0.86909\n",
      "epoch: 02, loss: -0.88219\n",
      "epoch: 03, loss: -0.89097\n",
      "epoch: 04, loss: -0.89786\n",
      "epoch: 05, loss: -0.90284\n",
      "epoch: 06, loss: -0.90715\n",
      "epoch: 07, loss: -0.91090\n",
      "epoch: 08, loss: -0.91419\n",
      "epoch: 09, loss: -0.91680\n",
      "torch.Size([1024, 64])\n"
     ]
    },
    {
     "name": "stderr",
     "output_type": "stream",
     "text": [
      "  6%|▌         | 59/999 [1:05:52<18:43:40, 71.72s/it]"
     ]
    },
    {
     "name": "stdout",
     "output_type": "stream",
     "text": [
      "eigenvalues shape torch.Size([5]) eigenvectors shape torch.Size([5, 1024])\n",
      "59 /home/phdcs2/Hard_Disk/Datasets/Deep-Spectral-Segmentation/data/object-segmentation/ECSSD/features/0061_resized.pth\n",
      "dict_keys(['k', 'indices', 'file', 'id', 'model_name', 'patch_size', 'shape'])\n",
      "0061_resized\n"
     ]
    },
    {
     "name": "stderr",
     "output_type": "stream",
     "text": [
      "/home/phdcs2/Hard_Disk/Projects/T2I/deep-spectral-segmentation/venv/lib/python3.8/site-packages/sklearn/decomposition/_pca.py:642: RuntimeWarning: invalid value encountered in divide\n",
      "  self.explained_variance_ratio_ = self.explained_variance_ / total_var\n"
     ]
    },
    {
     "name": "stdout",
     "output_type": "stream",
     "text": [
      "Starting Training\n",
      "epoch: 00, loss: -0.90011\n",
      "epoch: 01, loss: -0.92176\n",
      "epoch: 02, loss: -0.92871\n",
      "epoch: 03, loss: -0.93314\n",
      "epoch: 04, loss: -0.93634\n",
      "epoch: 05, loss: -0.93885\n",
      "epoch: 06, loss: -0.94099\n",
      "epoch: 07, loss: -0.94272\n",
      "epoch: 08, loss: -0.94428\n",
      "epoch: 09, loss: -0.94557\n",
      "torch.Size([1024, 64])\n"
     ]
    },
    {
     "name": "stderr",
     "output_type": "stream",
     "text": [
      "  6%|▌         | 60/999 [1:06:57<18:11:55, 69.77s/it]"
     ]
    },
    {
     "name": "stdout",
     "output_type": "stream",
     "text": [
      "eigenvalues shape torch.Size([5]) eigenvectors shape torch.Size([5, 1024])\n",
      "60 /home/phdcs2/Hard_Disk/Datasets/Deep-Spectral-Segmentation/data/object-segmentation/ECSSD/features/0062_resized.pth\n",
      "dict_keys(['k', 'indices', 'file', 'id', 'model_name', 'patch_size', 'shape'])\n",
      "0062_resized\n",
      "Starting Training\n",
      "epoch: 00, loss: -0.79264\n",
      "epoch: 01, loss: -0.83696\n",
      "epoch: 02, loss: -0.85458\n",
      "epoch: 03, loss: -0.86544\n",
      "epoch: 04, loss: -0.87390\n",
      "epoch: 05, loss: -0.88036\n",
      "epoch: 06, loss: -0.88572\n",
      "epoch: 07, loss: -0.89057\n",
      "epoch: 08, loss: -0.89470\n",
      "epoch: 09, loss: -0.89813\n",
      "torch.Size([1024, 64])\n"
     ]
    },
    {
     "name": "stderr",
     "output_type": "stream",
     "text": [
      "  6%|▌         | 61/999 [1:08:11<18:31:44, 71.11s/it]"
     ]
    },
    {
     "name": "stdout",
     "output_type": "stream",
     "text": [
      "eigenvalues shape torch.Size([5]) eigenvectors shape torch.Size([5, 1024])\n",
      "61 /home/phdcs2/Hard_Disk/Datasets/Deep-Spectral-Segmentation/data/object-segmentation/ECSSD/features/0063_resized.pth\n",
      "dict_keys(['k', 'indices', 'file', 'id', 'model_name', 'patch_size', 'shape'])\n",
      "0063_resized\n"
     ]
    },
    {
     "name": "stderr",
     "output_type": "stream",
     "text": [
      "/home/phdcs2/Hard_Disk/Projects/T2I/deep-spectral-segmentation/venv/lib/python3.8/site-packages/sklearn/decomposition/_pca.py:642: RuntimeWarning: invalid value encountered in divide\n",
      "  self.explained_variance_ratio_ = self.explained_variance_ / total_var\n"
     ]
    },
    {
     "name": "stdout",
     "output_type": "stream",
     "text": [
      "Starting Training\n",
      "epoch: 00, loss: -0.91833\n",
      "epoch: 01, loss: -0.93983\n",
      "epoch: 02, loss: -0.94509\n",
      "epoch: 03, loss: -0.94853\n",
      "epoch: 04, loss: -0.95109\n",
      "epoch: 05, loss: -0.95315\n",
      "epoch: 06, loss: -0.95488\n",
      "epoch: 07, loss: -0.95634\n",
      "epoch: 08, loss: -0.95758\n",
      "epoch: 09, loss: -0.95870\n",
      "torch.Size([1024, 64])\n"
     ]
    },
    {
     "name": "stderr",
     "output_type": "stream",
     "text": [
      "  6%|▌         | 62/999 [1:09:26<18:45:08, 72.05s/it]"
     ]
    },
    {
     "name": "stdout",
     "output_type": "stream",
     "text": [
      "eigenvalues shape torch.Size([5]) eigenvectors shape torch.Size([5, 1024])\n",
      "62 /home/phdcs2/Hard_Disk/Datasets/Deep-Spectral-Segmentation/data/object-segmentation/ECSSD/features/0064_resized.pth\n",
      "dict_keys(['k', 'indices', 'file', 'id', 'model_name', 'patch_size', 'shape'])\n",
      "0064_resized\n",
      "Starting Training\n",
      "epoch: 00, loss: -0.75421\n",
      "epoch: 01, loss: -0.80641\n",
      "epoch: 02, loss: -0.82588\n",
      "epoch: 03, loss: -0.83903\n",
      "epoch: 04, loss: -0.84929\n",
      "epoch: 05, loss: -0.85700\n",
      "epoch: 06, loss: -0.86354\n",
      "epoch: 07, loss: -0.86890\n",
      "epoch: 08, loss: -0.87378\n",
      "epoch: 09, loss: -0.87800\n",
      "torch.Size([1024, 64])\n"
     ]
    },
    {
     "name": "stderr",
     "output_type": "stream",
     "text": [
      "  6%|▋         | 63/999 [1:10:37<18:42:56, 71.98s/it]"
     ]
    },
    {
     "name": "stdout",
     "output_type": "stream",
     "text": [
      "eigenvalues shape torch.Size([5]) eigenvectors shape torch.Size([5, 1024])\n",
      "63 /home/phdcs2/Hard_Disk/Datasets/Deep-Spectral-Segmentation/data/object-segmentation/ECSSD/features/0065_resized.pth\n",
      "dict_keys(['k', 'indices', 'file', 'id', 'model_name', 'patch_size', 'shape'])\n",
      "0065_resized\n",
      "Starting Training\n",
      "epoch: 00, loss: -0.89933\n",
      "epoch: 01, loss: -0.92546\n",
      "epoch: 02, loss: -0.93265\n",
      "epoch: 03, loss: -0.93727\n",
      "epoch: 04, loss: -0.94071\n",
      "epoch: 05, loss: -0.94337\n",
      "epoch: 06, loss: -0.94561\n",
      "epoch: 07, loss: -0.94748\n",
      "epoch: 08, loss: -0.94907\n",
      "epoch: 09, loss: -0.95055\n",
      "torch.Size([1024, 64])\n"
     ]
    },
    {
     "name": "stderr",
     "output_type": "stream",
     "text": [
      "  6%|▋         | 64/999 [1:11:51<18:46:58, 72.32s/it]"
     ]
    },
    {
     "name": "stdout",
     "output_type": "stream",
     "text": [
      "eigenvalues shape torch.Size([5]) eigenvectors shape torch.Size([5, 1024])\n",
      "64 /home/phdcs2/Hard_Disk/Datasets/Deep-Spectral-Segmentation/data/object-segmentation/ECSSD/features/0066_resized.pth\n",
      "dict_keys(['k', 'indices', 'file', 'id', 'model_name', 'patch_size', 'shape'])\n",
      "0066_resized\n",
      "Starting Training\n",
      "epoch: 00, loss: -0.81301\n",
      "epoch: 01, loss: -0.85547\n",
      "epoch: 02, loss: -0.87095\n",
      "epoch: 03, loss: -0.88073\n",
      "epoch: 04, loss: -0.88836\n",
      "epoch: 05, loss: -0.89409\n",
      "epoch: 06, loss: -0.89913\n",
      "epoch: 07, loss: -0.90330\n",
      "epoch: 08, loss: -0.90686\n",
      "epoch: 09, loss: -0.90997\n",
      "torch.Size([1024, 64])\n"
     ]
    },
    {
     "name": "stderr",
     "output_type": "stream",
     "text": [
      "  7%|▋         | 65/999 [1:12:59<18:25:55, 71.04s/it]"
     ]
    },
    {
     "name": "stdout",
     "output_type": "stream",
     "text": [
      "eigenvalues shape torch.Size([5]) eigenvectors shape torch.Size([5, 1024])\n",
      "65 /home/phdcs2/Hard_Disk/Datasets/Deep-Spectral-Segmentation/data/object-segmentation/ECSSD/features/0067_resized.pth\n",
      "dict_keys(['k', 'indices', 'file', 'id', 'model_name', 'patch_size', 'shape'])\n",
      "0067_resized\n",
      "Starting Training\n",
      "epoch: 00, loss: -0.89474\n",
      "epoch: 01, loss: -0.91903\n",
      "epoch: 02, loss: -0.92609\n",
      "epoch: 03, loss: -0.93079\n",
      "epoch: 04, loss: -0.93434\n",
      "epoch: 05, loss: -0.93717\n",
      "epoch: 06, loss: -0.93950\n",
      "epoch: 07, loss: -0.94145\n",
      "epoch: 08, loss: -0.94315\n",
      "epoch: 09, loss: -0.94469\n",
      "torch.Size([1024, 64])\n"
     ]
    },
    {
     "name": "stderr",
     "output_type": "stream",
     "text": [
      "  7%|▋         | 66/999 [1:14:12<18:37:28, 71.86s/it]"
     ]
    },
    {
     "name": "stdout",
     "output_type": "stream",
     "text": [
      "eigenvalues shape torch.Size([5]) eigenvectors shape torch.Size([5, 1024])\n",
      "66 /home/phdcs2/Hard_Disk/Datasets/Deep-Spectral-Segmentation/data/object-segmentation/ECSSD/features/0068_resized.pth\n",
      "dict_keys(['k', 'indices', 'file', 'id', 'model_name', 'patch_size', 'shape'])\n",
      "0068_resized\n",
      "Starting Training\n",
      "epoch: 00, loss: -0.81142\n",
      "epoch: 01, loss: -0.85156\n",
      "epoch: 02, loss: -0.86660\n",
      "epoch: 03, loss: -0.87687\n",
      "epoch: 04, loss: -0.88456\n",
      "epoch: 05, loss: -0.89044\n",
      "epoch: 06, loss: -0.89550\n",
      "epoch: 07, loss: -0.89997\n",
      "epoch: 08, loss: -0.90377\n",
      "epoch: 09, loss: -0.90710\n",
      "torch.Size([1024, 64])\n"
     ]
    },
    {
     "name": "stderr",
     "output_type": "stream",
     "text": [
      "  7%|▋         | 67/999 [1:15:26<18:45:41, 72.47s/it]"
     ]
    },
    {
     "name": "stdout",
     "output_type": "stream",
     "text": [
      "eigenvalues shape torch.Size([5]) eigenvectors shape torch.Size([5, 1024])\n",
      "67 /home/phdcs2/Hard_Disk/Datasets/Deep-Spectral-Segmentation/data/object-segmentation/ECSSD/features/0069_resized.pth\n",
      "dict_keys(['k', 'indices', 'file', 'id', 'model_name', 'patch_size', 'shape'])\n",
      "0069_resized\n",
      "Starting Training\n",
      "epoch: 00, loss: -0.92146\n",
      "epoch: 01, loss: -0.94073\n",
      "epoch: 02, loss: -0.94610\n",
      "epoch: 03, loss: -0.94953\n",
      "epoch: 04, loss: -0.95207\n",
      "epoch: 05, loss: -0.95407\n",
      "epoch: 06, loss: -0.95566\n",
      "epoch: 07, loss: -0.95705\n",
      "epoch: 08, loss: -0.95826\n",
      "epoch: 09, loss: -0.95925\n",
      "torch.Size([1024, 64])\n"
     ]
    },
    {
     "name": "stderr",
     "output_type": "stream",
     "text": [
      "  7%|▋         | 68/999 [1:16:43<19:03:19, 73.68s/it]"
     ]
    },
    {
     "name": "stdout",
     "output_type": "stream",
     "text": [
      "eigenvalues shape torch.Size([5]) eigenvectors shape torch.Size([5, 1024])\n",
      "68 /home/phdcs2/Hard_Disk/Datasets/Deep-Spectral-Segmentation/data/object-segmentation/ECSSD/features/0070_resized.pth\n",
      "dict_keys(['k', 'indices', 'file', 'id', 'model_name', 'patch_size', 'shape'])\n",
      "0070_resized\n"
     ]
    },
    {
     "name": "stderr",
     "output_type": "stream",
     "text": [
      "/home/phdcs2/Hard_Disk/Projects/T2I/deep-spectral-segmentation/venv/lib/python3.8/site-packages/sklearn/decomposition/_pca.py:642: RuntimeWarning: invalid value encountered in divide\n",
      "  self.explained_variance_ratio_ = self.explained_variance_ / total_var\n"
     ]
    },
    {
     "name": "stdout",
     "output_type": "stream",
     "text": [
      "Starting Training\n",
      "epoch: 00, loss: -0.88915\n",
      "epoch: 01, loss: -0.91160\n",
      "epoch: 02, loss: -0.91871\n",
      "epoch: 03, loss: -0.92337\n",
      "epoch: 04, loss: -0.92699\n",
      "epoch: 05, loss: -0.92983\n",
      "epoch: 06, loss: -0.93221\n",
      "epoch: 07, loss: -0.93425\n",
      "epoch: 08, loss: -0.93597\n",
      "epoch: 09, loss: -0.93757\n",
      "torch.Size([1024, 64])\n"
     ]
    },
    {
     "name": "stderr",
     "output_type": "stream",
     "text": [
      "  7%|▋         | 69/999 [1:17:58<19:10:54, 74.25s/it]"
     ]
    },
    {
     "name": "stdout",
     "output_type": "stream",
     "text": [
      "eigenvalues shape torch.Size([5]) eigenvectors shape torch.Size([5, 1024])\n",
      "69 /home/phdcs2/Hard_Disk/Datasets/Deep-Spectral-Segmentation/data/object-segmentation/ECSSD/features/0071_resized.pth\n",
      "dict_keys(['k', 'indices', 'file', 'id', 'model_name', 'patch_size', 'shape'])\n",
      "0071_resized\n"
     ]
    },
    {
     "name": "stderr",
     "output_type": "stream",
     "text": [
      "/home/phdcs2/Hard_Disk/Projects/T2I/deep-spectral-segmentation/venv/lib/python3.8/site-packages/sklearn/decomposition/_pca.py:642: RuntimeWarning: invalid value encountered in divide\n",
      "  self.explained_variance_ratio_ = self.explained_variance_ / total_var\n"
     ]
    },
    {
     "name": "stdout",
     "output_type": "stream",
     "text": [
      "Starting Training\n",
      "epoch: 00, loss: -0.89309\n",
      "epoch: 01, loss: -0.91428\n",
      "epoch: 02, loss: -0.92040\n",
      "epoch: 03, loss: -0.92440\n",
      "epoch: 04, loss: -0.92758\n",
      "epoch: 05, loss: -0.93012\n",
      "epoch: 06, loss: -0.93214\n",
      "epoch: 07, loss: -0.93395\n",
      "epoch: 08, loss: -0.93557\n",
      "epoch: 09, loss: -0.93694\n",
      "torch.Size([1024, 64])\n"
     ]
    },
    {
     "name": "stderr",
     "output_type": "stream",
     "text": [
      "  7%|▋         | 70/999 [1:19:11<19:02:08, 73.77s/it]"
     ]
    },
    {
     "name": "stdout",
     "output_type": "stream",
     "text": [
      "eigenvalues shape torch.Size([5]) eigenvectors shape torch.Size([5, 1024])\n",
      "70 /home/phdcs2/Hard_Disk/Datasets/Deep-Spectral-Segmentation/data/object-segmentation/ECSSD/features/0072_resized.pth\n",
      "dict_keys(['k', 'indices', 'file', 'id', 'model_name', 'patch_size', 'shape'])\n",
      "0072_resized\n"
     ]
    },
    {
     "name": "stderr",
     "output_type": "stream",
     "text": [
      "/home/phdcs2/Hard_Disk/Projects/T2I/deep-spectral-segmentation/venv/lib/python3.8/site-packages/sklearn/decomposition/_pca.py:642: RuntimeWarning: invalid value encountered in divide\n",
      "  self.explained_variance_ratio_ = self.explained_variance_ / total_var\n"
     ]
    },
    {
     "name": "stdout",
     "output_type": "stream",
     "text": [
      "Starting Training\n",
      "epoch: 00, loss: -0.88716\n",
      "epoch: 01, loss: -0.91458\n",
      "epoch: 02, loss: -0.92170\n",
      "epoch: 03, loss: -0.92640\n",
      "epoch: 04, loss: -0.92999\n",
      "epoch: 05, loss: -0.93279\n",
      "epoch: 06, loss: -0.93531\n",
      "epoch: 07, loss: -0.93721\n",
      "epoch: 08, loss: -0.93894\n",
      "epoch: 09, loss: -0.94056\n",
      "torch.Size([1024, 64])\n"
     ]
    },
    {
     "name": "stderr",
     "output_type": "stream",
     "text": [
      "  7%|▋         | 71/999 [1:20:18<18:29:40, 71.75s/it]"
     ]
    },
    {
     "name": "stdout",
     "output_type": "stream",
     "text": [
      "eigenvalues shape torch.Size([5]) eigenvectors shape torch.Size([5, 1024])\n",
      "71 /home/phdcs2/Hard_Disk/Datasets/Deep-Spectral-Segmentation/data/object-segmentation/ECSSD/features/0073_resized.pth\n",
      "dict_keys(['k', 'indices', 'file', 'id', 'model_name', 'patch_size', 'shape'])\n",
      "0073_resized\n",
      "Starting Training\n",
      "epoch: 00, loss: -0.84917\n",
      "epoch: 01, loss: -0.88060\n",
      "epoch: 02, loss: -0.89186\n",
      "epoch: 03, loss: -0.89920\n",
      "epoch: 04, loss: -0.90489\n",
      "epoch: 05, loss: -0.90950\n",
      "epoch: 06, loss: -0.91326\n",
      "epoch: 07, loss: -0.91655\n",
      "epoch: 08, loss: -0.91920\n",
      "epoch: 09, loss: -0.92175\n",
      "torch.Size([1024, 64])\n"
     ]
    },
    {
     "name": "stderr",
     "output_type": "stream",
     "text": [
      "  7%|▋         | 72/999 [1:21:34<18:49:45, 73.12s/it]"
     ]
    },
    {
     "name": "stdout",
     "output_type": "stream",
     "text": [
      "eigenvalues shape torch.Size([5]) eigenvectors shape torch.Size([5, 1024])\n",
      "72 /home/phdcs2/Hard_Disk/Datasets/Deep-Spectral-Segmentation/data/object-segmentation/ECSSD/features/0074_resized.pth\n",
      "dict_keys(['k', 'indices', 'file', 'id', 'model_name', 'patch_size', 'shape'])\n",
      "0074_resized\n"
     ]
    },
    {
     "name": "stderr",
     "output_type": "stream",
     "text": [
      "/home/phdcs2/Hard_Disk/Projects/T2I/deep-spectral-segmentation/venv/lib/python3.8/site-packages/sklearn/decomposition/_pca.py:642: RuntimeWarning: invalid value encountered in divide\n",
      "  self.explained_variance_ratio_ = self.explained_variance_ / total_var\n"
     ]
    },
    {
     "name": "stdout",
     "output_type": "stream",
     "text": [
      "Starting Training\n",
      "epoch: 00, loss: -0.87509\n",
      "epoch: 01, loss: -0.90218\n",
      "epoch: 02, loss: -0.91037\n",
      "epoch: 03, loss: -0.91583\n",
      "epoch: 04, loss: -0.91984\n",
      "epoch: 05, loss: -0.92299\n",
      "epoch: 06, loss: -0.92572\n",
      "epoch: 07, loss: -0.92801\n",
      "epoch: 08, loss: -0.92996\n",
      "epoch: 09, loss: -0.93176\n",
      "torch.Size([1024, 64])\n"
     ]
    },
    {
     "name": "stderr",
     "output_type": "stream",
     "text": [
      "  7%|▋         | 73/999 [1:22:46<18:42:10, 72.71s/it]"
     ]
    },
    {
     "name": "stdout",
     "output_type": "stream",
     "text": [
      "eigenvalues shape torch.Size([5]) eigenvectors shape torch.Size([5, 1024])\n",
      "73 /home/phdcs2/Hard_Disk/Datasets/Deep-Spectral-Segmentation/data/object-segmentation/ECSSD/features/0075_resized.pth\n",
      "dict_keys(['k', 'indices', 'file', 'id', 'model_name', 'patch_size', 'shape'])\n",
      "0075_resized\n",
      "Starting Training\n",
      "epoch: 00, loss: -0.82414\n",
      "epoch: 01, loss: -0.85791\n",
      "epoch: 02, loss: -0.87067\n",
      "epoch: 03, loss: -0.87940\n",
      "epoch: 04, loss: -0.88579\n",
      "epoch: 05, loss: -0.89067\n",
      "epoch: 06, loss: -0.89531\n",
      "epoch: 07, loss: -0.89900\n",
      "epoch: 08, loss: -0.90186\n",
      "epoch: 09, loss: -0.90472\n",
      "torch.Size([1024, 64])\n"
     ]
    },
    {
     "name": "stderr",
     "output_type": "stream",
     "text": [
      "  7%|▋         | 74/999 [1:23:57<18:34:24, 72.29s/it]"
     ]
    },
    {
     "name": "stdout",
     "output_type": "stream",
     "text": [
      "eigenvalues shape torch.Size([5]) eigenvectors shape torch.Size([5, 1024])\n",
      "74 /home/phdcs2/Hard_Disk/Datasets/Deep-Spectral-Segmentation/data/object-segmentation/ECSSD/features/0076_resized.pth\n",
      "dict_keys(['k', 'indices', 'file', 'id', 'model_name', 'patch_size', 'shape'])\n",
      "0076_resized\n"
     ]
    },
    {
     "name": "stderr",
     "output_type": "stream",
     "text": [
      "/home/phdcs2/Hard_Disk/Projects/T2I/deep-spectral-segmentation/venv/lib/python3.8/site-packages/sklearn/decomposition/_pca.py:642: RuntimeWarning: invalid value encountered in divide\n",
      "  self.explained_variance_ratio_ = self.explained_variance_ / total_var\n"
     ]
    },
    {
     "name": "stdout",
     "output_type": "stream",
     "text": [
      "Starting Training\n",
      "epoch: 00, loss: -0.89538\n",
      "epoch: 01, loss: -0.92044\n",
      "epoch: 02, loss: -0.92658\n",
      "epoch: 03, loss: -0.93083\n",
      "epoch: 04, loss: -0.93401\n",
      "epoch: 05, loss: -0.93648\n",
      "epoch: 06, loss: -0.93857\n",
      "epoch: 07, loss: -0.94035\n",
      "epoch: 08, loss: -0.94189\n",
      "epoch: 09, loss: -0.94326\n",
      "torch.Size([1024, 64])\n"
     ]
    },
    {
     "name": "stderr",
     "output_type": "stream",
     "text": [
      "  8%|▊         | 75/999 [1:25:12<18:42:08, 72.87s/it]"
     ]
    },
    {
     "name": "stdout",
     "output_type": "stream",
     "text": [
      "eigenvalues shape torch.Size([5]) eigenvectors shape torch.Size([5, 1024])\n",
      "75 /home/phdcs2/Hard_Disk/Datasets/Deep-Spectral-Segmentation/data/object-segmentation/ECSSD/features/0077_resized.pth\n",
      "dict_keys(['k', 'indices', 'file', 'id', 'model_name', 'patch_size', 'shape'])\n",
      "0077_resized\n",
      "Starting Training\n",
      "epoch: 00, loss: -0.79467\n",
      "epoch: 01, loss: -0.84106\n",
      "epoch: 02, loss: -0.85809\n",
      "epoch: 03, loss: -0.86959\n",
      "epoch: 04, loss: -0.87770\n",
      "epoch: 05, loss: -0.88382\n",
      "epoch: 06, loss: -0.88936\n",
      "epoch: 07, loss: -0.89352\n",
      "epoch: 08, loss: -0.89737\n",
      "epoch: 09, loss: -0.90066\n",
      "torch.Size([1024, 64])\n"
     ]
    },
    {
     "name": "stderr",
     "output_type": "stream",
     "text": [
      "  8%|▊         | 76/999 [1:26:29<19:00:24, 74.13s/it]"
     ]
    },
    {
     "name": "stdout",
     "output_type": "stream",
     "text": [
      "eigenvalues shape torch.Size([5]) eigenvectors shape torch.Size([5, 1024])\n",
      "76 /home/phdcs2/Hard_Disk/Datasets/Deep-Spectral-Segmentation/data/object-segmentation/ECSSD/features/0078_resized.pth\n",
      "dict_keys(['k', 'indices', 'file', 'id', 'model_name', 'patch_size', 'shape'])\n",
      "0078_resized\n",
      "Starting Training\n",
      "epoch: 00, loss: -0.80718\n",
      "epoch: 01, loss: -0.84588\n",
      "epoch: 02, loss: -0.86103\n",
      "epoch: 03, loss: -0.87053\n",
      "epoch: 04, loss: -0.87763\n",
      "epoch: 05, loss: -0.88304\n",
      "epoch: 06, loss: -0.88796\n",
      "epoch: 07, loss: -0.89176\n",
      "epoch: 08, loss: -0.89533\n",
      "epoch: 09, loss: -0.89821\n",
      "torch.Size([1024, 64])\n"
     ]
    },
    {
     "name": "stderr",
     "output_type": "stream",
     "text": [
      "  8%|▊         | 77/999 [1:27:39<18:40:23, 72.91s/it]"
     ]
    },
    {
     "name": "stdout",
     "output_type": "stream",
     "text": [
      "eigenvalues shape torch.Size([5]) eigenvectors shape torch.Size([5, 1024])\n",
      "77 /home/phdcs2/Hard_Disk/Datasets/Deep-Spectral-Segmentation/data/object-segmentation/ECSSD/features/0079_resized.pth\n",
      "dict_keys(['k', 'indices', 'file', 'id', 'model_name', 'patch_size', 'shape'])\n",
      "0079_resized\n"
     ]
    },
    {
     "name": "stderr",
     "output_type": "stream",
     "text": [
      "/home/phdcs2/Hard_Disk/Projects/T2I/deep-spectral-segmentation/venv/lib/python3.8/site-packages/sklearn/decomposition/_pca.py:642: RuntimeWarning: invalid value encountered in divide\n",
      "  self.explained_variance_ratio_ = self.explained_variance_ / total_var\n"
     ]
    },
    {
     "name": "stdout",
     "output_type": "stream",
     "text": [
      "Starting Training\n",
      "epoch: 00, loss: -0.90667\n",
      "epoch: 01, loss: -0.92764\n",
      "epoch: 02, loss: -0.93356\n",
      "epoch: 03, loss: -0.93753\n",
      "epoch: 04, loss: -0.94050\n",
      "epoch: 05, loss: -0.94280\n",
      "epoch: 06, loss: -0.94476\n",
      "epoch: 07, loss: -0.94648\n",
      "epoch: 08, loss: -0.94793\n",
      "epoch: 09, loss: -0.94925\n",
      "torch.Size([1024, 64])\n"
     ]
    },
    {
     "name": "stderr",
     "output_type": "stream",
     "text": [
      "  8%|▊         | 78/999 [1:28:44<18:03:36, 70.59s/it]"
     ]
    },
    {
     "name": "stdout",
     "output_type": "stream",
     "text": [
      "eigenvalues shape torch.Size([5]) eigenvectors shape torch.Size([5, 1024])\n",
      "78 /home/phdcs2/Hard_Disk/Datasets/Deep-Spectral-Segmentation/data/object-segmentation/ECSSD/features/0080_resized.pth\n",
      "dict_keys(['k', 'indices', 'file', 'id', 'model_name', 'patch_size', 'shape'])\n",
      "0080_resized\n"
     ]
    },
    {
     "name": "stderr",
     "output_type": "stream",
     "text": [
      "/home/phdcs2/Hard_Disk/Projects/T2I/deep-spectral-segmentation/venv/lib/python3.8/site-packages/sklearn/decomposition/_pca.py:642: RuntimeWarning: invalid value encountered in divide\n",
      "  self.explained_variance_ratio_ = self.explained_variance_ / total_var\n"
     ]
    },
    {
     "name": "stdout",
     "output_type": "stream",
     "text": [
      "Starting Training\n",
      "epoch: 00, loss: -0.92301\n",
      "epoch: 01, loss: -0.94310\n",
      "epoch: 02, loss: -0.94812\n",
      "epoch: 03, loss: -0.95144\n",
      "epoch: 04, loss: -0.95393\n",
      "epoch: 05, loss: -0.95582\n",
      "epoch: 06, loss: -0.95740\n",
      "epoch: 07, loss: -0.95878\n",
      "epoch: 08, loss: -0.95996\n",
      "epoch: 09, loss: -0.96096\n",
      "torch.Size([1024, 64])\n"
     ]
    },
    {
     "name": "stderr",
     "output_type": "stream",
     "text": [
      "  8%|▊         | 79/999 [1:29:48<17:30:43, 68.53s/it]"
     ]
    },
    {
     "name": "stdout",
     "output_type": "stream",
     "text": [
      "eigenvalues shape torch.Size([5]) eigenvectors shape torch.Size([5, 1024])\n",
      "79 /home/phdcs2/Hard_Disk/Datasets/Deep-Spectral-Segmentation/data/object-segmentation/ECSSD/features/0081_resized.pth\n",
      "dict_keys(['k', 'indices', 'file', 'id', 'model_name', 'patch_size', 'shape'])\n",
      "0081_resized\n"
     ]
    },
    {
     "name": "stderr",
     "output_type": "stream",
     "text": [
      "/home/phdcs2/Hard_Disk/Projects/T2I/deep-spectral-segmentation/venv/lib/python3.8/site-packages/sklearn/decomposition/_pca.py:642: RuntimeWarning: invalid value encountered in divide\n",
      "  self.explained_variance_ratio_ = self.explained_variance_ / total_var\n"
     ]
    },
    {
     "name": "stdout",
     "output_type": "stream",
     "text": [
      "Starting Training\n",
      "epoch: 00, loss: -0.89559\n",
      "epoch: 01, loss: -0.92042\n",
      "epoch: 02, loss: -0.92647\n",
      "epoch: 03, loss: -0.93031\n",
      "epoch: 04, loss: -0.93317\n",
      "epoch: 05, loss: -0.93544\n",
      "epoch: 06, loss: -0.93738\n",
      "epoch: 07, loss: -0.93892\n",
      "epoch: 08, loss: -0.94029\n",
      "epoch: 09, loss: -0.94150\n",
      "torch.Size([1024, 64])\n"
     ]
    },
    {
     "name": "stderr",
     "output_type": "stream",
     "text": [
      "  8%|▊         | 80/999 [1:31:00<17:45:55, 69.59s/it]"
     ]
    },
    {
     "name": "stdout",
     "output_type": "stream",
     "text": [
      "eigenvalues shape torch.Size([5]) eigenvectors shape torch.Size([5, 1024])\n",
      "80 /home/phdcs2/Hard_Disk/Datasets/Deep-Spectral-Segmentation/data/object-segmentation/ECSSD/features/0082_resized.pth\n",
      "dict_keys(['k', 'indices', 'file', 'id', 'model_name', 'patch_size', 'shape'])\n",
      "0082_resized\n",
      "Starting Training\n",
      "epoch: 00, loss: -0.88295\n",
      "epoch: 01, loss: -0.91384\n",
      "epoch: 02, loss: -0.92081\n",
      "epoch: 03, loss: -0.92535\n",
      "epoch: 04, loss: -0.92869\n",
      "epoch: 05, loss: -0.93133\n",
      "epoch: 06, loss: -0.93349\n",
      "epoch: 07, loss: -0.93528\n",
      "epoch: 08, loss: -0.93686\n",
      "epoch: 09, loss: -0.93833\n",
      "torch.Size([1024, 64])\n"
     ]
    },
    {
     "name": "stderr",
     "output_type": "stream",
     "text": [
      "  8%|▊         | 81/999 [1:32:11<17:53:46, 70.18s/it]"
     ]
    },
    {
     "name": "stdout",
     "output_type": "stream",
     "text": [
      "eigenvalues shape torch.Size([5]) eigenvectors shape torch.Size([5, 1024])\n",
      "81 /home/phdcs2/Hard_Disk/Datasets/Deep-Spectral-Segmentation/data/object-segmentation/ECSSD/features/0083_resized.pth\n",
      "dict_keys(['k', 'indices', 'file', 'id', 'model_name', 'patch_size', 'shape'])\n",
      "0083_resized\n"
     ]
    },
    {
     "name": "stderr",
     "output_type": "stream",
     "text": [
      "/home/phdcs2/Hard_Disk/Projects/T2I/deep-spectral-segmentation/venv/lib/python3.8/site-packages/sklearn/decomposition/_pca.py:642: RuntimeWarning: invalid value encountered in divide\n",
      "  self.explained_variance_ratio_ = self.explained_variance_ / total_var\n"
     ]
    },
    {
     "name": "stdout",
     "output_type": "stream",
     "text": [
      "Starting Training\n",
      "epoch: 00, loss: -0.89972\n",
      "epoch: 01, loss: -0.92737\n",
      "epoch: 02, loss: -0.93439\n",
      "epoch: 03, loss: -0.93904\n",
      "epoch: 04, loss: -0.94243\n",
      "epoch: 05, loss: -0.94510\n",
      "epoch: 06, loss: -0.94732\n",
      "epoch: 07, loss: -0.94924\n",
      "epoch: 08, loss: -0.95082\n",
      "epoch: 09, loss: -0.95227\n",
      "torch.Size([1024, 64])\n"
     ]
    },
    {
     "name": "stderr",
     "output_type": "stream",
     "text": [
      "  8%|▊         | 82/999 [1:33:23<18:01:02, 70.73s/it]"
     ]
    },
    {
     "name": "stdout",
     "output_type": "stream",
     "text": [
      "eigenvalues shape torch.Size([5]) eigenvectors shape torch.Size([5, 1024])\n",
      "82 /home/phdcs2/Hard_Disk/Datasets/Deep-Spectral-Segmentation/data/object-segmentation/ECSSD/features/0084_resized.pth\n",
      "dict_keys(['k', 'indices', 'file', 'id', 'model_name', 'patch_size', 'shape'])\n",
      "0084_resized\n"
     ]
    },
    {
     "name": "stderr",
     "output_type": "stream",
     "text": [
      "/home/phdcs2/Hard_Disk/Projects/T2I/deep-spectral-segmentation/venv/lib/python3.8/site-packages/sklearn/decomposition/_pca.py:642: RuntimeWarning: invalid value encountered in divide\n",
      "  self.explained_variance_ratio_ = self.explained_variance_ / total_var\n"
     ]
    },
    {
     "name": "stdout",
     "output_type": "stream",
     "text": [
      "Starting Training\n",
      "epoch: 00, loss: -0.92867\n",
      "epoch: 01, loss: -0.94969\n",
      "epoch: 02, loss: -0.95454\n",
      "epoch: 03, loss: -0.95765\n",
      "epoch: 04, loss: -0.95988\n",
      "epoch: 05, loss: -0.96168\n",
      "epoch: 06, loss: -0.96314\n",
      "epoch: 07, loss: -0.96438\n",
      "epoch: 08, loss: -0.96545\n",
      "epoch: 09, loss: -0.96637\n",
      "torch.Size([1024, 64])\n"
     ]
    },
    {
     "name": "stderr",
     "output_type": "stream",
     "text": [
      "  8%|▊         | 83/999 [1:34:32<17:48:25, 69.98s/it]"
     ]
    },
    {
     "name": "stdout",
     "output_type": "stream",
     "text": [
      "eigenvalues shape torch.Size([5]) eigenvectors shape torch.Size([5, 1024])\n",
      "83 /home/phdcs2/Hard_Disk/Datasets/Deep-Spectral-Segmentation/data/object-segmentation/ECSSD/features/0085_resized.pth\n",
      "dict_keys(['k', 'indices', 'file', 'id', 'model_name', 'patch_size', 'shape'])\n",
      "0085_resized\n"
     ]
    },
    {
     "name": "stderr",
     "output_type": "stream",
     "text": [
      "/home/phdcs2/Hard_Disk/Projects/T2I/deep-spectral-segmentation/venv/lib/python3.8/site-packages/sklearn/decomposition/_pca.py:642: RuntimeWarning: invalid value encountered in divide\n",
      "  self.explained_variance_ratio_ = self.explained_variance_ / total_var\n"
     ]
    },
    {
     "name": "stdout",
     "output_type": "stream",
     "text": [
      "Starting Training\n",
      "epoch: 00, loss: -0.90742\n",
      "epoch: 01, loss: -0.92874\n",
      "epoch: 02, loss: -0.93498\n",
      "epoch: 03, loss: -0.93908\n",
      "epoch: 04, loss: -0.94214\n",
      "epoch: 05, loss: -0.94458\n",
      "epoch: 06, loss: -0.94652\n",
      "epoch: 07, loss: -0.94818\n",
      "epoch: 08, loss: -0.94968\n",
      "epoch: 09, loss: -0.95094\n",
      "torch.Size([1024, 64])\n"
     ]
    },
    {
     "name": "stderr",
     "output_type": "stream",
     "text": [
      "  8%|▊         | 84/999 [1:35:36<17:23:21, 68.42s/it]"
     ]
    },
    {
     "name": "stdout",
     "output_type": "stream",
     "text": [
      "eigenvalues shape torch.Size([5]) eigenvectors shape torch.Size([5, 1024])\n",
      "84 /home/phdcs2/Hard_Disk/Datasets/Deep-Spectral-Segmentation/data/object-segmentation/ECSSD/features/0086_resized.pth\n",
      "dict_keys(['k', 'indices', 'file', 'id', 'model_name', 'patch_size', 'shape'])\n",
      "0086_resized\n",
      "Starting Training\n",
      "epoch: 00, loss: -0.88772\n",
      "epoch: 01, loss: -0.91666\n",
      "epoch: 02, loss: -0.92536\n",
      "epoch: 03, loss: -0.93092\n",
      "epoch: 04, loss: -0.93482\n",
      "epoch: 05, loss: -0.93807\n",
      "epoch: 06, loss: -0.94063\n",
      "epoch: 07, loss: -0.94276\n",
      "epoch: 08, loss: -0.94462\n",
      "epoch: 09, loss: -0.94626\n",
      "torch.Size([1024, 64])\n"
     ]
    },
    {
     "name": "stderr",
     "output_type": "stream",
     "text": [
      "  9%|▊         | 85/999 [1:36:42<17:09:27, 67.58s/it]"
     ]
    },
    {
     "name": "stdout",
     "output_type": "stream",
     "text": [
      "eigenvalues shape torch.Size([5]) eigenvectors shape torch.Size([5, 1024])\n",
      "85 /home/phdcs2/Hard_Disk/Datasets/Deep-Spectral-Segmentation/data/object-segmentation/ECSSD/features/0087_resized.pth\n",
      "dict_keys(['k', 'indices', 'file', 'id', 'model_name', 'patch_size', 'shape'])\n",
      "0087_resized\n",
      "Starting Training\n",
      "epoch: 00, loss: -0.82663\n",
      "epoch: 01, loss: -0.86239\n",
      "epoch: 02, loss: -0.87436\n",
      "epoch: 03, loss: -0.88261\n",
      "epoch: 04, loss: -0.88833\n",
      "epoch: 05, loss: -0.89333\n",
      "epoch: 06, loss: -0.89756\n",
      "epoch: 07, loss: -0.90132\n",
      "epoch: 08, loss: -0.90451\n",
      "epoch: 09, loss: -0.90742\n",
      "torch.Size([1024, 64])\n"
     ]
    },
    {
     "name": "stderr",
     "output_type": "stream",
     "text": [
      "  9%|▊         | 86/999 [1:38:00<17:57:59, 70.84s/it]"
     ]
    },
    {
     "name": "stdout",
     "output_type": "stream",
     "text": [
      "eigenvalues shape torch.Size([5]) eigenvectors shape torch.Size([5, 1024])\n",
      "86 /home/phdcs2/Hard_Disk/Datasets/Deep-Spectral-Segmentation/data/object-segmentation/ECSSD/features/0088_resized.pth\n",
      "dict_keys(['k', 'indices', 'file', 'id', 'model_name', 'patch_size', 'shape'])\n",
      "0088_resized\n",
      "Starting Training\n",
      "epoch: 00, loss: -0.83235\n",
      "epoch: 01, loss: -0.86916\n",
      "epoch: 02, loss: -0.88131\n",
      "epoch: 03, loss: -0.88927\n",
      "epoch: 04, loss: -0.89463\n",
      "epoch: 05, loss: -0.89964\n",
      "epoch: 06, loss: -0.90342\n",
      "epoch: 07, loss: -0.90655\n",
      "epoch: 08, loss: -0.90929\n",
      "epoch: 09, loss: -0.91146\n",
      "torch.Size([1024, 64])\n"
     ]
    },
    {
     "name": "stderr",
     "output_type": "stream",
     "text": [
      "  9%|▊         | 87/999 [1:39:12<18:00:39, 71.10s/it]"
     ]
    },
    {
     "name": "stdout",
     "output_type": "stream",
     "text": [
      "eigenvalues shape torch.Size([5]) eigenvectors shape torch.Size([5, 1024])\n",
      "87 /home/phdcs2/Hard_Disk/Datasets/Deep-Spectral-Segmentation/data/object-segmentation/ECSSD/features/0089_resized.pth\n",
      "dict_keys(['k', 'indices', 'file', 'id', 'model_name', 'patch_size', 'shape'])\n",
      "0089_resized\n",
      "Starting Training\n",
      "epoch: 00, loss: -0.79997\n",
      "epoch: 01, loss: -0.83595\n",
      "epoch: 02, loss: -0.85020\n",
      "epoch: 03, loss: -0.86076\n",
      "epoch: 04, loss: -0.86898\n",
      "epoch: 05, loss: -0.87562\n",
      "epoch: 06, loss: -0.88084\n",
      "epoch: 07, loss: -0.88588\n",
      "epoch: 08, loss: -0.88990\n",
      "epoch: 09, loss: -0.89363\n",
      "torch.Size([1024, 64])\n"
     ]
    },
    {
     "name": "stderr",
     "output_type": "stream",
     "text": [
      "  9%|▉         | 88/999 [1:40:27<18:17:07, 72.26s/it]"
     ]
    },
    {
     "name": "stdout",
     "output_type": "stream",
     "text": [
      "eigenvalues shape torch.Size([5]) eigenvectors shape torch.Size([5, 1024])\n",
      "88 /home/phdcs2/Hard_Disk/Datasets/Deep-Spectral-Segmentation/data/object-segmentation/ECSSD/features/0090_resized.pth\n",
      "dict_keys(['k', 'indices', 'file', 'id', 'model_name', 'patch_size', 'shape'])\n",
      "0090_resized\n",
      "Starting Training\n",
      "epoch: 00, loss: -0.80930\n",
      "epoch: 01, loss: -0.84073\n",
      "epoch: 02, loss: -0.85359\n",
      "epoch: 03, loss: -0.86274\n",
      "epoch: 04, loss: -0.87026\n",
      "epoch: 05, loss: -0.87594\n",
      "epoch: 06, loss: -0.88096\n",
      "epoch: 07, loss: -0.88510\n",
      "epoch: 08, loss: -0.88906\n",
      "epoch: 09, loss: -0.89268\n",
      "torch.Size([1024, 64])\n"
     ]
    },
    {
     "name": "stderr",
     "output_type": "stream",
     "text": [
      "  9%|▉         | 89/999 [1:41:43<18:34:00, 73.45s/it]"
     ]
    },
    {
     "name": "stdout",
     "output_type": "stream",
     "text": [
      "eigenvalues shape torch.Size([5]) eigenvectors shape torch.Size([5, 1024])\n",
      "89 /home/phdcs2/Hard_Disk/Datasets/Deep-Spectral-Segmentation/data/object-segmentation/ECSSD/features/0091_resized.pth\n",
      "dict_keys(['k', 'indices', 'file', 'id', 'model_name', 'patch_size', 'shape'])\n",
      "0091_resized\n"
     ]
    },
    {
     "name": "stderr",
     "output_type": "stream",
     "text": [
      "/home/phdcs2/Hard_Disk/Projects/T2I/deep-spectral-segmentation/venv/lib/python3.8/site-packages/sklearn/decomposition/_pca.py:642: RuntimeWarning: invalid value encountered in divide\n",
      "  self.explained_variance_ratio_ = self.explained_variance_ / total_var\n"
     ]
    },
    {
     "name": "stdout",
     "output_type": "stream",
     "text": [
      "Starting Training\n",
      "epoch: 00, loss: -0.89825\n",
      "epoch: 01, loss: -0.92345\n",
      "epoch: 02, loss: -0.93056\n",
      "epoch: 03, loss: -0.93536\n",
      "epoch: 04, loss: -0.93893\n",
      "epoch: 05, loss: -0.94175\n",
      "epoch: 06, loss: -0.94409\n",
      "epoch: 07, loss: -0.94604\n",
      "epoch: 08, loss: -0.94779\n",
      "epoch: 09, loss: -0.94926\n",
      "torch.Size([1024, 64])\n"
     ]
    },
    {
     "name": "stderr",
     "output_type": "stream",
     "text": [
      "  9%|▉         | 90/999 [1:42:54<18:21:22, 72.70s/it]"
     ]
    },
    {
     "name": "stdout",
     "output_type": "stream",
     "text": [
      "eigenvalues shape torch.Size([5]) eigenvectors shape torch.Size([5, 1024])\n",
      "90 /home/phdcs2/Hard_Disk/Datasets/Deep-Spectral-Segmentation/data/object-segmentation/ECSSD/features/0092_resized.pth\n",
      "dict_keys(['k', 'indices', 'file', 'id', 'model_name', 'patch_size', 'shape'])\n",
      "0092_resized\n",
      "Starting Training\n",
      "epoch: 00, loss: -0.89752\n",
      "epoch: 01, loss: -0.92074\n",
      "epoch: 02, loss: -0.92811\n",
      "epoch: 03, loss: -0.93303\n",
      "epoch: 04, loss: -0.93664\n",
      "epoch: 05, loss: -0.93954\n",
      "epoch: 06, loss: -0.94191\n",
      "epoch: 07, loss: -0.94394\n",
      "epoch: 08, loss: -0.94574\n",
      "epoch: 09, loss: -0.94728\n",
      "torch.Size([1024, 64])\n"
     ]
    },
    {
     "name": "stderr",
     "output_type": "stream",
     "text": [
      "  9%|▉         | 91/999 [1:44:02<17:57:05, 71.17s/it]"
     ]
    },
    {
     "name": "stdout",
     "output_type": "stream",
     "text": [
      "eigenvalues shape torch.Size([5]) eigenvectors shape torch.Size([5, 1024])\n",
      "91 /home/phdcs2/Hard_Disk/Datasets/Deep-Spectral-Segmentation/data/object-segmentation/ECSSD/features/0093_resized.pth\n",
      "dict_keys(['k', 'indices', 'file', 'id', 'model_name', 'patch_size', 'shape'])\n",
      "0093_resized\n"
     ]
    },
    {
     "name": "stderr",
     "output_type": "stream",
     "text": [
      "/home/phdcs2/Hard_Disk/Projects/T2I/deep-spectral-segmentation/venv/lib/python3.8/site-packages/sklearn/decomposition/_pca.py:642: RuntimeWarning: invalid value encountered in divide\n",
      "  self.explained_variance_ratio_ = self.explained_variance_ / total_var\n"
     ]
    },
    {
     "name": "stdout",
     "output_type": "stream",
     "text": [
      "Starting Training\n",
      "epoch: 00, loss: -0.89622\n",
      "epoch: 01, loss: -0.91817\n",
      "epoch: 02, loss: -0.92496\n",
      "epoch: 03, loss: -0.92942\n",
      "epoch: 04, loss: -0.93278\n",
      "epoch: 05, loss: -0.93550\n",
      "epoch: 06, loss: -0.93767\n",
      "epoch: 07, loss: -0.93961\n",
      "epoch: 08, loss: -0.94123\n",
      "epoch: 09, loss: -0.94267\n",
      "torch.Size([1024, 64])\n"
     ]
    },
    {
     "name": "stderr",
     "output_type": "stream",
     "text": [
      "  9%|▉         | 92/999 [1:45:09<17:36:25, 69.88s/it]"
     ]
    },
    {
     "name": "stdout",
     "output_type": "stream",
     "text": [
      "eigenvalues shape torch.Size([5]) eigenvectors shape torch.Size([5, 1024])\n",
      "92 /home/phdcs2/Hard_Disk/Datasets/Deep-Spectral-Segmentation/data/object-segmentation/ECSSD/features/0094_resized.pth\n",
      "dict_keys(['k', 'indices', 'file', 'id', 'model_name', 'patch_size', 'shape'])\n",
      "0094_resized\n",
      "Starting Training\n",
      "epoch: 00, loss: -0.89548\n",
      "epoch: 01, loss: -0.92213\n",
      "epoch: 02, loss: -0.92950\n",
      "epoch: 03, loss: -0.93437\n",
      "epoch: 04, loss: -0.93795\n",
      "epoch: 05, loss: -0.94078\n",
      "epoch: 06, loss: -0.94310\n",
      "epoch: 07, loss: -0.94506\n",
      "epoch: 08, loss: -0.94675\n",
      "epoch: 09, loss: -0.94825\n",
      "torch.Size([1024, 64])\n"
     ]
    },
    {
     "name": "stderr",
     "output_type": "stream",
     "text": [
      "  9%|▉         | 93/999 [1:46:10<16:54:19, 67.17s/it]"
     ]
    },
    {
     "name": "stdout",
     "output_type": "stream",
     "text": [
      "eigenvalues shape torch.Size([5]) eigenvectors shape torch.Size([5, 1024])\n",
      "93 /home/phdcs2/Hard_Disk/Datasets/Deep-Spectral-Segmentation/data/object-segmentation/ECSSD/features/0095_resized.pth\n",
      "dict_keys(['k', 'indices', 'file', 'id', 'model_name', 'patch_size', 'shape'])\n",
      "0095_resized\n"
     ]
    },
    {
     "name": "stderr",
     "output_type": "stream",
     "text": [
      "/home/phdcs2/Hard_Disk/Projects/T2I/deep-spectral-segmentation/venv/lib/python3.8/site-packages/sklearn/decomposition/_pca.py:642: RuntimeWarning: invalid value encountered in divide\n",
      "  self.explained_variance_ratio_ = self.explained_variance_ / total_var\n"
     ]
    },
    {
     "name": "stdout",
     "output_type": "stream",
     "text": [
      "Starting Training\n",
      "epoch: 00, loss: -0.87074\n",
      "epoch: 01, loss: -0.89894\n",
      "epoch: 02, loss: -0.90789\n",
      "epoch: 03, loss: -0.91382\n",
      "epoch: 04, loss: -0.91845\n",
      "epoch: 05, loss: -0.92199\n",
      "epoch: 06, loss: -0.92502\n",
      "epoch: 07, loss: -0.92753\n",
      "epoch: 08, loss: -0.92981\n",
      "epoch: 09, loss: -0.93168\n",
      "torch.Size([1024, 64])\n"
     ]
    },
    {
     "name": "stderr",
     "output_type": "stream",
     "text": [
      "  9%|▉         | 94/999 [1:47:06<16:03:26, 63.87s/it]"
     ]
    },
    {
     "name": "stdout",
     "output_type": "stream",
     "text": [
      "eigenvalues shape torch.Size([5]) eigenvectors shape torch.Size([5, 1024])\n",
      "94 /home/phdcs2/Hard_Disk/Datasets/Deep-Spectral-Segmentation/data/object-segmentation/ECSSD/features/0096_resized.pth\n",
      "dict_keys(['k', 'indices', 'file', 'id', 'model_name', 'patch_size', 'shape'])\n",
      "0096_resized\n",
      "Starting Training\n",
      "epoch: 00, loss: -0.89529\n",
      "epoch: 01, loss: -0.91765\n",
      "epoch: 02, loss: -0.92475\n",
      "epoch: 03, loss: -0.92932\n",
      "epoch: 04, loss: -0.93277\n",
      "epoch: 05, loss: -0.93551\n",
      "epoch: 06, loss: -0.93783\n",
      "epoch: 07, loss: -0.93972\n",
      "epoch: 08, loss: -0.94137\n",
      "epoch: 09, loss: -0.94285\n",
      "torch.Size([1024, 64])\n"
     ]
    },
    {
     "name": "stderr",
     "output_type": "stream",
     "text": [
      " 10%|▉         | 95/999 [1:48:00<15:20:23, 61.09s/it]"
     ]
    },
    {
     "name": "stdout",
     "output_type": "stream",
     "text": [
      "eigenvalues shape torch.Size([5]) eigenvectors shape torch.Size([5, 1024])\n",
      "95 /home/phdcs2/Hard_Disk/Datasets/Deep-Spectral-Segmentation/data/object-segmentation/ECSSD/features/0097_resized.pth\n",
      "dict_keys(['k', 'indices', 'file', 'id', 'model_name', 'patch_size', 'shape'])\n",
      "0097_resized\n",
      "Starting Training\n",
      "epoch: 00, loss: -0.89496\n",
      "epoch: 01, loss: -0.91967\n",
      "epoch: 02, loss: -0.92682\n",
      "epoch: 03, loss: -0.93150\n",
      "epoch: 04, loss: -0.93511\n",
      "epoch: 05, loss: -0.93782\n",
      "epoch: 06, loss: -0.94014\n",
      "epoch: 07, loss: -0.94205\n",
      "epoch: 08, loss: -0.94375\n",
      "epoch: 09, loss: -0.94529\n",
      "torch.Size([1024, 64])\n"
     ]
    },
    {
     "name": "stderr",
     "output_type": "stream",
     "text": [
      " 10%|▉         | 96/999 [1:49:12<16:07:17, 64.27s/it]"
     ]
    },
    {
     "name": "stdout",
     "output_type": "stream",
     "text": [
      "eigenvalues shape torch.Size([5]) eigenvectors shape torch.Size([5, 1024])\n",
      "96 /home/phdcs2/Hard_Disk/Datasets/Deep-Spectral-Segmentation/data/object-segmentation/ECSSD/features/0098_resized.pth\n",
      "dict_keys(['k', 'indices', 'file', 'id', 'model_name', 'patch_size', 'shape'])\n",
      "0098_resized\n",
      "Starting Training\n",
      "epoch: 00, loss: -0.82940\n",
      "epoch: 01, loss: -0.86923\n",
      "epoch: 02, loss: -0.88101\n",
      "epoch: 03, loss: -0.88880\n",
      "epoch: 04, loss: -0.89500\n",
      "epoch: 05, loss: -0.89928\n",
      "epoch: 06, loss: -0.90281\n",
      "epoch: 07, loss: -0.90597\n",
      "epoch: 08, loss: -0.90859\n",
      "epoch: 09, loss: -0.91070\n",
      "torch.Size([1024, 64])\n"
     ]
    },
    {
     "name": "stderr",
     "output_type": "stream",
     "text": [
      " 10%|▉         | 97/999 [1:50:22<16:31:15, 65.94s/it]"
     ]
    },
    {
     "name": "stdout",
     "output_type": "stream",
     "text": [
      "eigenvalues shape torch.Size([5]) eigenvectors shape torch.Size([5, 1024])\n",
      "97 /home/phdcs2/Hard_Disk/Datasets/Deep-Spectral-Segmentation/data/object-segmentation/ECSSD/features/0099_resized.pth\n",
      "dict_keys(['k', 'indices', 'file', 'id', 'model_name', 'patch_size', 'shape'])\n",
      "0099_resized\n"
     ]
    },
    {
     "name": "stderr",
     "output_type": "stream",
     "text": [
      "/home/phdcs2/Hard_Disk/Projects/T2I/deep-spectral-segmentation/venv/lib/python3.8/site-packages/sklearn/decomposition/_pca.py:642: RuntimeWarning: invalid value encountered in divide\n",
      "  self.explained_variance_ratio_ = self.explained_variance_ / total_var\n"
     ]
    },
    {
     "name": "stdout",
     "output_type": "stream",
     "text": [
      "Starting Training\n",
      "epoch: 00, loss: -0.86600\n",
      "epoch: 01, loss: -0.89576\n",
      "epoch: 02, loss: -0.90484\n",
      "epoch: 03, loss: -0.91101\n",
      "epoch: 04, loss: -0.91561\n",
      "epoch: 05, loss: -0.91935\n",
      "epoch: 06, loss: -0.92241\n",
      "epoch: 07, loss: -0.92501\n",
      "epoch: 08, loss: -0.92729\n",
      "epoch: 09, loss: -0.92923\n",
      "torch.Size([1024, 64])\n"
     ]
    },
    {
     "name": "stderr",
     "output_type": "stream",
     "text": [
      " 10%|▉         | 98/999 [1:51:37<17:12:24, 68.75s/it]"
     ]
    },
    {
     "name": "stdout",
     "output_type": "stream",
     "text": [
      "eigenvalues shape torch.Size([5]) eigenvectors shape torch.Size([5, 1024])\n",
      "98 /home/phdcs2/Hard_Disk/Datasets/Deep-Spectral-Segmentation/data/object-segmentation/ECSSD/features/0100_resized.pth\n",
      "dict_keys(['k', 'indices', 'file', 'id', 'model_name', 'patch_size', 'shape'])\n",
      "0100_resized\n",
      "Starting Training\n",
      "epoch: 00, loss: -0.81973\n",
      "epoch: 01, loss: -0.86000\n",
      "epoch: 02, loss: -0.87381\n",
      "epoch: 03, loss: -0.88356\n",
      "epoch: 04, loss: -0.89064\n",
      "epoch: 05, loss: -0.89608\n",
      "epoch: 06, loss: -0.90074\n",
      "epoch: 07, loss: -0.90474\n",
      "epoch: 08, loss: -0.90816\n",
      "epoch: 09, loss: -0.91096\n",
      "torch.Size([1024, 64])\n"
     ]
    },
    {
     "name": "stderr",
     "output_type": "stream",
     "text": [
      " 10%|▉         | 99/999 [1:52:47<17:18:02, 69.20s/it]"
     ]
    },
    {
     "name": "stdout",
     "output_type": "stream",
     "text": [
      "eigenvalues shape torch.Size([5]) eigenvectors shape torch.Size([5, 1024])\n",
      "99 /home/phdcs2/Hard_Disk/Datasets/Deep-Spectral-Segmentation/data/object-segmentation/ECSSD/features/0101_resized.pth\n",
      "dict_keys(['k', 'indices', 'file', 'id', 'model_name', 'patch_size', 'shape'])\n",
      "0101_resized\n"
     ]
    },
    {
     "name": "stderr",
     "output_type": "stream",
     "text": [
      "/home/phdcs2/Hard_Disk/Projects/T2I/deep-spectral-segmentation/venv/lib/python3.8/site-packages/sklearn/decomposition/_pca.py:642: RuntimeWarning: invalid value encountered in divide\n",
      "  self.explained_variance_ratio_ = self.explained_variance_ / total_var\n"
     ]
    },
    {
     "name": "stdout",
     "output_type": "stream",
     "text": [
      "Starting Training\n",
      "epoch: 00, loss: -0.89879\n",
      "epoch: 01, loss: -0.91930\n",
      "epoch: 02, loss: -0.92602\n",
      "epoch: 03, loss: -0.93055\n",
      "epoch: 04, loss: -0.93402\n",
      "epoch: 05, loss: -0.93682\n",
      "epoch: 06, loss: -0.93917\n",
      "epoch: 07, loss: -0.94118\n",
      "epoch: 08, loss: -0.94286\n",
      "epoch: 09, loss: -0.94442\n",
      "torch.Size([1024, 64])\n"
     ]
    },
    {
     "name": "stderr",
     "output_type": "stream",
     "text": [
      " 10%|█         | 100/999 [1:54:07<18:04:22, 72.37s/it]"
     ]
    },
    {
     "name": "stdout",
     "output_type": "stream",
     "text": [
      "eigenvalues shape torch.Size([5]) eigenvectors shape torch.Size([5, 1024])\n",
      "100 /home/phdcs2/Hard_Disk/Datasets/Deep-Spectral-Segmentation/data/object-segmentation/ECSSD/features/0102_resized.pth\n",
      "dict_keys(['k', 'indices', 'file', 'id', 'model_name', 'patch_size', 'shape'])\n",
      "0102_resized\n",
      "Starting Training\n",
      "epoch: 00, loss: -0.84053\n",
      "epoch: 01, loss: -0.87416\n",
      "epoch: 02, loss: -0.88655\n",
      "epoch: 03, loss: -0.89484\n",
      "epoch: 04, loss: -0.90138\n",
      "epoch: 05, loss: -0.90643\n",
      "epoch: 06, loss: -0.91058\n",
      "epoch: 07, loss: -0.91420\n",
      "epoch: 08, loss: -0.91731\n",
      "epoch: 09, loss: -0.92006\n",
      "torch.Size([1024, 64])\n"
     ]
    },
    {
     "name": "stderr",
     "output_type": "stream",
     "text": [
      " 10%|█         | 101/999 [1:55:29<18:46:11, 75.25s/it]"
     ]
    },
    {
     "name": "stdout",
     "output_type": "stream",
     "text": [
      "eigenvalues shape torch.Size([5]) eigenvectors shape torch.Size([5, 1024])\n",
      "101 /home/phdcs2/Hard_Disk/Datasets/Deep-Spectral-Segmentation/data/object-segmentation/ECSSD/features/0103_resized.pth\n",
      "dict_keys(['k', 'indices', 'file', 'id', 'model_name', 'patch_size', 'shape'])\n",
      "0103_resized\n",
      "Starting Training\n",
      "epoch: 00, loss: -0.85749\n",
      "epoch: 01, loss: -0.89469\n",
      "epoch: 02, loss: -0.90583\n",
      "epoch: 03, loss: -0.91343\n",
      "epoch: 04, loss: -0.91873\n",
      "epoch: 05, loss: -0.92326\n",
      "epoch: 06, loss: -0.92687\n",
      "epoch: 07, loss: -0.92967\n",
      "epoch: 08, loss: -0.93220\n",
      "epoch: 09, loss: -0.93430\n",
      "torch.Size([1024, 64])\n"
     ]
    },
    {
     "name": "stderr",
     "output_type": "stream",
     "text": [
      " 10%|█         | 102/999 [1:56:50<19:11:21, 77.01s/it]"
     ]
    },
    {
     "name": "stdout",
     "output_type": "stream",
     "text": [
      "eigenvalues shape torch.Size([5]) eigenvectors shape torch.Size([5, 1024])\n",
      "102 /home/phdcs2/Hard_Disk/Datasets/Deep-Spectral-Segmentation/data/object-segmentation/ECSSD/features/0104_resized.pth\n",
      "dict_keys(['k', 'indices', 'file', 'id', 'model_name', 'patch_size', 'shape'])\n",
      "0104_resized\n",
      "Starting Training\n",
      "epoch: 00, loss: -0.79596\n",
      "epoch: 01, loss: -0.82770\n",
      "epoch: 02, loss: -0.83912\n",
      "epoch: 03, loss: -0.84816\n",
      "epoch: 04, loss: -0.85613\n",
      "epoch: 05, loss: -0.86238\n",
      "epoch: 06, loss: -0.86790\n",
      "epoch: 07, loss: -0.87258\n",
      "epoch: 08, loss: -0.87633\n",
      "epoch: 09, loss: -0.88041\n",
      "torch.Size([1024, 64])\n"
     ]
    },
    {
     "name": "stderr",
     "output_type": "stream",
     "text": [
      " 10%|█         | 103/999 [1:58:16<19:49:54, 79.68s/it]"
     ]
    },
    {
     "name": "stdout",
     "output_type": "stream",
     "text": [
      "eigenvalues shape torch.Size([5]) eigenvectors shape torch.Size([5, 1024])\n",
      "103 /home/phdcs2/Hard_Disk/Datasets/Deep-Spectral-Segmentation/data/object-segmentation/ECSSD/features/0105_resized.pth\n",
      "dict_keys(['k', 'indices', 'file', 'id', 'model_name', 'patch_size', 'shape'])\n",
      "0105_resized\n",
      "Starting Training\n",
      "epoch: 00, loss: -0.76455\n",
      "epoch: 01, loss: -0.82101\n",
      "epoch: 02, loss: -0.83937\n",
      "epoch: 03, loss: -0.85150\n",
      "epoch: 04, loss: -0.85990\n",
      "epoch: 05, loss: -0.86715\n",
      "epoch: 06, loss: -0.87300\n",
      "epoch: 07, loss: -0.87792\n",
      "epoch: 08, loss: -0.88207\n",
      "epoch: 09, loss: -0.88525\n",
      "torch.Size([1024, 64])\n"
     ]
    },
    {
     "name": "stderr",
     "output_type": "stream",
     "text": [
      " 10%|█         | 104/999 [1:59:36<19:47:35, 79.62s/it]"
     ]
    },
    {
     "name": "stdout",
     "output_type": "stream",
     "text": [
      "eigenvalues shape torch.Size([5]) eigenvectors shape torch.Size([5, 1024])\n",
      "104 /home/phdcs2/Hard_Disk/Datasets/Deep-Spectral-Segmentation/data/object-segmentation/ECSSD/features/0106_resized.pth\n",
      "dict_keys(['k', 'indices', 'file', 'id', 'model_name', 'patch_size', 'shape'])\n",
      "0106_resized\n",
      "Starting Training\n",
      "epoch: 00, loss: -0.80513\n",
      "epoch: 01, loss: -0.84684\n",
      "epoch: 02, loss: -0.86196\n",
      "epoch: 03, loss: -0.87208\n",
      "epoch: 04, loss: -0.87928\n",
      "epoch: 05, loss: -0.88516\n",
      "epoch: 06, loss: -0.89050\n",
      "epoch: 07, loss: -0.89446\n",
      "epoch: 08, loss: -0.89786\n",
      "epoch: 09, loss: -0.90124\n",
      "torch.Size([1024, 64])\n"
     ]
    },
    {
     "name": "stderr",
     "output_type": "stream",
     "text": [
      " 11%|█         | 105/999 [2:00:50<19:21:39, 77.96s/it]"
     ]
    },
    {
     "name": "stdout",
     "output_type": "stream",
     "text": [
      "eigenvalues shape torch.Size([5]) eigenvectors shape torch.Size([5, 1024])\n",
      "105 /home/phdcs2/Hard_Disk/Datasets/Deep-Spectral-Segmentation/data/object-segmentation/ECSSD/features/0107_resized.pth\n",
      "dict_keys(['k', 'indices', 'file', 'id', 'model_name', 'patch_size', 'shape'])\n",
      "0107_resized\n",
      "Starting Training\n",
      "epoch: 00, loss: -0.81000\n",
      "epoch: 01, loss: -0.85307\n",
      "epoch: 02, loss: -0.86780\n",
      "epoch: 03, loss: -0.87662\n",
      "epoch: 04, loss: -0.88329\n",
      "epoch: 05, loss: -0.88859\n",
      "epoch: 06, loss: -0.89300\n",
      "epoch: 07, loss: -0.89661\n",
      "epoch: 08, loss: -0.89982\n",
      "epoch: 09, loss: -0.90268\n",
      "torch.Size([1024, 64])\n"
     ]
    },
    {
     "name": "stderr",
     "output_type": "stream",
     "text": [
      " 11%|█         | 106/999 [2:02:06<19:10:56, 77.33s/it]"
     ]
    },
    {
     "name": "stdout",
     "output_type": "stream",
     "text": [
      "eigenvalues shape torch.Size([5]) eigenvectors shape torch.Size([5, 1024])\n",
      "106 /home/phdcs2/Hard_Disk/Datasets/Deep-Spectral-Segmentation/data/object-segmentation/ECSSD/features/0108_resized.pth\n",
      "dict_keys(['k', 'indices', 'file', 'id', 'model_name', 'patch_size', 'shape'])\n",
      "0108_resized\n"
     ]
    },
    {
     "name": "stderr",
     "output_type": "stream",
     "text": [
      "/home/phdcs2/Hard_Disk/Projects/T2I/deep-spectral-segmentation/venv/lib/python3.8/site-packages/sklearn/decomposition/_pca.py:642: RuntimeWarning: invalid value encountered in divide\n",
      "  self.explained_variance_ratio_ = self.explained_variance_ / total_var\n"
     ]
    },
    {
     "name": "stdout",
     "output_type": "stream",
     "text": [
      "Starting Training\n",
      "epoch: 00, loss: -0.90303\n",
      "epoch: 01, loss: -0.92518\n",
      "epoch: 02, loss: -0.93145\n",
      "epoch: 03, loss: -0.93576\n",
      "epoch: 04, loss: -0.93888\n",
      "epoch: 05, loss: -0.94142\n",
      "epoch: 06, loss: -0.94348\n",
      "epoch: 07, loss: -0.94533\n",
      "epoch: 08, loss: -0.94690\n",
      "epoch: 09, loss: -0.94832\n",
      "torch.Size([1024, 64])\n"
     ]
    },
    {
     "name": "stderr",
     "output_type": "stream",
     "text": [
      " 11%|█         | 107/999 [2:03:27<19:29:53, 78.69s/it]"
     ]
    },
    {
     "name": "stdout",
     "output_type": "stream",
     "text": [
      "eigenvalues shape torch.Size([5]) eigenvectors shape torch.Size([5, 1024])\n",
      "107 /home/phdcs2/Hard_Disk/Datasets/Deep-Spectral-Segmentation/data/object-segmentation/ECSSD/features/0109_resized.pth\n",
      "dict_keys(['k', 'indices', 'file', 'id', 'model_name', 'patch_size', 'shape'])\n",
      "0109_resized\n",
      "Starting Training\n",
      "epoch: 00, loss: -0.79319\n",
      "epoch: 01, loss: -0.83082\n",
      "epoch: 02, loss: -0.84489\n",
      "epoch: 03, loss: -0.85504\n",
      "epoch: 04, loss: -0.86288\n",
      "epoch: 05, loss: -0.86879\n",
      "epoch: 06, loss: -0.87412\n",
      "epoch: 07, loss: -0.87848\n",
      "epoch: 08, loss: -0.88245\n",
      "epoch: 09, loss: -0.88567\n",
      "torch.Size([1024, 64])\n"
     ]
    },
    {
     "name": "stderr",
     "output_type": "stream",
     "text": [
      " 11%|█         | 108/999 [2:04:44<19:19:23, 78.07s/it]"
     ]
    },
    {
     "name": "stdout",
     "output_type": "stream",
     "text": [
      "eigenvalues shape torch.Size([5]) eigenvectors shape torch.Size([5, 1024])\n",
      "108 /home/phdcs2/Hard_Disk/Datasets/Deep-Spectral-Segmentation/data/object-segmentation/ECSSD/features/0110_resized.pth\n",
      "dict_keys(['k', 'indices', 'file', 'id', 'model_name', 'patch_size', 'shape'])\n",
      "0110_resized\n",
      "Starting Training\n",
      "epoch: 00, loss: -0.83877\n",
      "epoch: 01, loss: -0.87347\n",
      "epoch: 02, loss: -0.88632\n",
      "epoch: 03, loss: -0.89486\n",
      "epoch: 04, loss: -0.90123\n",
      "epoch: 05, loss: -0.90660\n",
      "epoch: 06, loss: -0.91058\n",
      "epoch: 07, loss: -0.91415\n",
      "epoch: 08, loss: -0.91713\n",
      "epoch: 09, loss: -0.91988\n",
      "torch.Size([1024, 64])\n"
     ]
    },
    {
     "name": "stderr",
     "output_type": "stream",
     "text": [
      " 11%|█         | 109/999 [2:06:02<19:15:11, 77.88s/it]"
     ]
    },
    {
     "name": "stdout",
     "output_type": "stream",
     "text": [
      "eigenvalues shape torch.Size([5]) eigenvectors shape torch.Size([5, 1024])\n",
      "109 /home/phdcs2/Hard_Disk/Datasets/Deep-Spectral-Segmentation/data/object-segmentation/ECSSD/features/0111_resized.pth\n",
      "dict_keys(['k', 'indices', 'file', 'id', 'model_name', 'patch_size', 'shape'])\n",
      "0111_resized\n"
     ]
    },
    {
     "name": "stderr",
     "output_type": "stream",
     "text": [
      "/home/phdcs2/Hard_Disk/Projects/T2I/deep-spectral-segmentation/venv/lib/python3.8/site-packages/sklearn/decomposition/_pca.py:642: RuntimeWarning: invalid value encountered in divide\n",
      "  self.explained_variance_ratio_ = self.explained_variance_ / total_var\n"
     ]
    },
    {
     "name": "stdout",
     "output_type": "stream",
     "text": [
      "Starting Training\n",
      "epoch: 00, loss: -0.88609\n",
      "epoch: 01, loss: -0.91231\n",
      "epoch: 02, loss: -0.91944\n",
      "epoch: 03, loss: -0.92425\n",
      "epoch: 04, loss: -0.92806\n",
      "epoch: 05, loss: -0.93108\n",
      "epoch: 06, loss: -0.93362\n",
      "epoch: 07, loss: -0.93576\n",
      "epoch: 08, loss: -0.93765\n",
      "epoch: 09, loss: -0.93932\n",
      "torch.Size([1024, 64])\n"
     ]
    },
    {
     "name": "stderr",
     "output_type": "stream",
     "text": [
      " 11%|█         | 110/999 [2:07:08<18:24:13, 74.53s/it]"
     ]
    },
    {
     "name": "stdout",
     "output_type": "stream",
     "text": [
      "eigenvalues shape torch.Size([5]) eigenvectors shape torch.Size([5, 1024])\n",
      "110 /home/phdcs2/Hard_Disk/Datasets/Deep-Spectral-Segmentation/data/object-segmentation/ECSSD/features/0112_resized.pth\n",
      "dict_keys(['k', 'indices', 'file', 'id', 'model_name', 'patch_size', 'shape'])\n",
      "0112_resized\n",
      "Starting Training\n",
      "epoch: 00, loss: -0.81932\n",
      "epoch: 01, loss: -0.85904\n",
      "epoch: 02, loss: -0.87381\n",
      "epoch: 03, loss: -0.88397\n",
      "epoch: 04, loss: -0.89173\n",
      "epoch: 05, loss: -0.89780\n",
      "epoch: 06, loss: -0.90235\n",
      "epoch: 07, loss: -0.90648\n",
      "epoch: 08, loss: -0.90998\n",
      "epoch: 09, loss: -0.91319\n",
      "torch.Size([1024, 64])\n"
     ]
    },
    {
     "name": "stderr",
     "output_type": "stream",
     "text": [
      " 11%|█         | 111/999 [2:08:26<18:36:50, 75.46s/it]"
     ]
    },
    {
     "name": "stdout",
     "output_type": "stream",
     "text": [
      "eigenvalues shape torch.Size([5]) eigenvectors shape torch.Size([5, 1024])\n",
      "111 /home/phdcs2/Hard_Disk/Datasets/Deep-Spectral-Segmentation/data/object-segmentation/ECSSD/features/0113_resized.pth\n",
      "dict_keys(['k', 'indices', 'file', 'id', 'model_name', 'patch_size', 'shape'])\n",
      "0113_resized\n",
      "Starting Training\n",
      "epoch: 00, loss: -0.89187\n",
      "epoch: 01, loss: -0.91305\n",
      "epoch: 02, loss: -0.92029\n",
      "epoch: 03, loss: -0.92513\n",
      "epoch: 04, loss: -0.92869\n",
      "epoch: 05, loss: -0.93161\n",
      "epoch: 06, loss: -0.93406\n",
      "epoch: 07, loss: -0.93613\n",
      "epoch: 08, loss: -0.93798\n",
      "epoch: 09, loss: -0.93955\n",
      "torch.Size([1024, 64])\n"
     ]
    },
    {
     "name": "stderr",
     "output_type": "stream",
     "text": [
      " 11%|█         | 112/999 [2:09:42<18:39:36, 75.73s/it]"
     ]
    },
    {
     "name": "stdout",
     "output_type": "stream",
     "text": [
      "eigenvalues shape torch.Size([5]) eigenvectors shape torch.Size([5, 1024])\n",
      "112 /home/phdcs2/Hard_Disk/Datasets/Deep-Spectral-Segmentation/data/object-segmentation/ECSSD/features/0114_resized.pth\n",
      "dict_keys(['k', 'indices', 'file', 'id', 'model_name', 'patch_size', 'shape'])\n",
      "0114_resized\n"
     ]
    },
    {
     "name": "stderr",
     "output_type": "stream",
     "text": [
      "/home/phdcs2/Hard_Disk/Projects/T2I/deep-spectral-segmentation/venv/lib/python3.8/site-packages/sklearn/decomposition/_pca.py:642: RuntimeWarning: invalid value encountered in divide\n",
      "  self.explained_variance_ratio_ = self.explained_variance_ / total_var\n"
     ]
    },
    {
     "name": "stdout",
     "output_type": "stream",
     "text": [
      "Starting Training\n",
      "epoch: 00, loss: -0.89124\n",
      "epoch: 01, loss: -0.91680\n",
      "epoch: 02, loss: -0.92379\n",
      "epoch: 03, loss: -0.92837\n",
      "epoch: 04, loss: -0.93177\n",
      "epoch: 05, loss: -0.93452\n",
      "epoch: 06, loss: -0.93664\n",
      "epoch: 07, loss: -0.93852\n",
      "epoch: 08, loss: -0.94015\n",
      "epoch: 09, loss: -0.94158\n",
      "torch.Size([1024, 64])\n"
     ]
    },
    {
     "name": "stderr",
     "output_type": "stream",
     "text": [
      " 11%|█▏        | 113/999 [2:10:57<18:34:04, 75.44s/it]"
     ]
    },
    {
     "name": "stdout",
     "output_type": "stream",
     "text": [
      "eigenvalues shape torch.Size([5]) eigenvectors shape torch.Size([5, 1024])\n",
      "113 /home/phdcs2/Hard_Disk/Datasets/Deep-Spectral-Segmentation/data/object-segmentation/ECSSD/features/0115_resized.pth\n",
      "dict_keys(['k', 'indices', 'file', 'id', 'model_name', 'patch_size', 'shape'])\n",
      "0115_resized\n",
      "Starting Training\n",
      "epoch: 00, loss: -0.87913\n",
      "epoch: 01, loss: -0.90642\n",
      "epoch: 02, loss: -0.91486\n",
      "epoch: 03, loss: -0.92052\n",
      "epoch: 04, loss: -0.92474\n",
      "epoch: 05, loss: -0.92816\n",
      "epoch: 06, loss: -0.93072\n",
      "epoch: 07, loss: -0.93318\n",
      "epoch: 08, loss: -0.93533\n",
      "epoch: 09, loss: -0.93705\n",
      "torch.Size([1024, 64])\n"
     ]
    },
    {
     "name": "stderr",
     "output_type": "stream",
     "text": [
      " 11%|█▏        | 114/999 [2:12:16<18:47:46, 76.46s/it]"
     ]
    },
    {
     "name": "stdout",
     "output_type": "stream",
     "text": [
      "eigenvalues shape torch.Size([5]) eigenvectors shape torch.Size([5, 1024])\n",
      "114 /home/phdcs2/Hard_Disk/Datasets/Deep-Spectral-Segmentation/data/object-segmentation/ECSSD/features/0116_resized.pth\n",
      "dict_keys(['k', 'indices', 'file', 'id', 'model_name', 'patch_size', 'shape'])\n",
      "0116_resized\n",
      "Starting Training\n",
      "epoch: 00, loss: -0.78455\n",
      "epoch: 01, loss: -0.82692\n",
      "epoch: 02, loss: -0.84115\n",
      "epoch: 03, loss: -0.85126\n",
      "epoch: 04, loss: -0.85884\n",
      "epoch: 05, loss: -0.86470\n",
      "epoch: 06, loss: -0.86898\n",
      "epoch: 07, loss: -0.87316\n",
      "epoch: 08, loss: -0.87628\n",
      "epoch: 09, loss: -0.87896\n",
      "torch.Size([1024, 64])\n"
     ]
    },
    {
     "name": "stderr",
     "output_type": "stream",
     "text": [
      " 12%|█▏        | 115/999 [2:13:31<18:39:14, 75.97s/it]"
     ]
    },
    {
     "name": "stdout",
     "output_type": "stream",
     "text": [
      "eigenvalues shape torch.Size([5]) eigenvectors shape torch.Size([5, 1024])\n",
      "115 /home/phdcs2/Hard_Disk/Datasets/Deep-Spectral-Segmentation/data/object-segmentation/ECSSD/features/0117_resized.pth\n",
      "dict_keys(['k', 'indices', 'file', 'id', 'model_name', 'patch_size', 'shape'])\n",
      "0117_resized\n",
      "Starting Training\n",
      "epoch: 00, loss: -0.80269\n",
      "epoch: 01, loss: -0.84106\n",
      "epoch: 02, loss: -0.85494\n",
      "epoch: 03, loss: -0.86442\n",
      "epoch: 04, loss: -0.87149\n",
      "epoch: 05, loss: -0.87728\n",
      "epoch: 06, loss: -0.88222\n",
      "epoch: 07, loss: -0.88590\n",
      "epoch: 08, loss: -0.88955\n",
      "epoch: 09, loss: -0.89288\n",
      "torch.Size([1024, 64])\n"
     ]
    },
    {
     "name": "stderr",
     "output_type": "stream",
     "text": [
      " 12%|█▏        | 116/999 [2:14:38<17:59:04, 73.32s/it]"
     ]
    },
    {
     "name": "stdout",
     "output_type": "stream",
     "text": [
      "eigenvalues shape torch.Size([5]) eigenvectors shape torch.Size([5, 1024])\n",
      "116 /home/phdcs2/Hard_Disk/Datasets/Deep-Spectral-Segmentation/data/object-segmentation/ECSSD/features/0118_resized.pth\n",
      "dict_keys(['k', 'indices', 'file', 'id', 'model_name', 'patch_size', 'shape'])\n",
      "0118_resized\n",
      "Starting Training\n",
      "epoch: 00, loss: -0.90115\n",
      "epoch: 01, loss: -0.92507\n",
      "epoch: 02, loss: -0.93149\n",
      "epoch: 03, loss: -0.93585\n",
      "epoch: 04, loss: -0.93905\n",
      "epoch: 05, loss: -0.94161\n",
      "epoch: 06, loss: -0.94379\n",
      "epoch: 07, loss: -0.94560\n",
      "epoch: 08, loss: -0.94719\n",
      "epoch: 09, loss: -0.94858\n",
      "torch.Size([1024, 64])\n"
     ]
    },
    {
     "name": "stderr",
     "output_type": "stream",
     "text": [
      " 12%|█▏        | 117/999 [2:15:58<18:29:53, 75.50s/it]"
     ]
    },
    {
     "name": "stdout",
     "output_type": "stream",
     "text": [
      "eigenvalues shape torch.Size([5]) eigenvectors shape torch.Size([5, 1024])\n",
      "117 /home/phdcs2/Hard_Disk/Datasets/Deep-Spectral-Segmentation/data/object-segmentation/ECSSD/features/0119_resized.pth\n",
      "dict_keys(['k', 'indices', 'file', 'id', 'model_name', 'patch_size', 'shape'])\n",
      "0119_resized\n",
      "Starting Training\n",
      "epoch: 00, loss: -0.78128\n",
      "epoch: 01, loss: -0.82854\n",
      "epoch: 02, loss: -0.84787\n",
      "epoch: 03, loss: -0.86095\n",
      "epoch: 04, loss: -0.87111\n",
      "epoch: 05, loss: -0.87886\n",
      "epoch: 06, loss: -0.88517\n",
      "epoch: 07, loss: -0.89093\n",
      "epoch: 08, loss: -0.89531\n",
      "epoch: 09, loss: -0.89938\n",
      "torch.Size([1024, 64])\n"
     ]
    },
    {
     "name": "stderr",
     "output_type": "stream",
     "text": [
      " 12%|█▏        | 118/999 [2:17:10<18:13:30, 74.47s/it]"
     ]
    },
    {
     "name": "stdout",
     "output_type": "stream",
     "text": [
      "eigenvalues shape torch.Size([5]) eigenvectors shape torch.Size([5, 1024])\n",
      "118 /home/phdcs2/Hard_Disk/Datasets/Deep-Spectral-Segmentation/data/object-segmentation/ECSSD/features/0120_resized.pth\n",
      "dict_keys(['k', 'indices', 'file', 'id', 'model_name', 'patch_size', 'shape'])\n",
      "0120_resized\n",
      "Starting Training\n",
      "epoch: 00, loss: -0.79717\n",
      "epoch: 01, loss: -0.84340\n",
      "epoch: 02, loss: -0.85859\n",
      "epoch: 03, loss: -0.86920\n",
      "epoch: 04, loss: -0.87722\n",
      "epoch: 05, loss: -0.88321\n",
      "epoch: 06, loss: -0.88859\n",
      "epoch: 07, loss: -0.89286\n",
      "epoch: 08, loss: -0.89663\n",
      "epoch: 09, loss: -0.89997\n",
      "torch.Size([1024, 64])\n"
     ]
    },
    {
     "name": "stderr",
     "output_type": "stream",
     "text": [
      " 12%|█▏        | 119/999 [2:18:24<18:08:38, 74.23s/it]"
     ]
    },
    {
     "name": "stdout",
     "output_type": "stream",
     "text": [
      "eigenvalues shape torch.Size([5]) eigenvectors shape torch.Size([5, 1024])\n",
      "119 /home/phdcs2/Hard_Disk/Datasets/Deep-Spectral-Segmentation/data/object-segmentation/ECSSD/features/0121_resized.pth\n",
      "dict_keys(['k', 'indices', 'file', 'id', 'model_name', 'patch_size', 'shape'])\n",
      "0121_resized\n",
      "Starting Training\n",
      "epoch: 00, loss: -0.81243\n",
      "epoch: 01, loss: -0.85492\n",
      "epoch: 02, loss: -0.87067\n",
      "epoch: 03, loss: -0.88108\n",
      "epoch: 04, loss: -0.88839\n",
      "epoch: 05, loss: -0.89439\n",
      "epoch: 06, loss: -0.89959\n",
      "epoch: 07, loss: -0.90397\n",
      "epoch: 08, loss: -0.90809\n",
      "epoch: 09, loss: -0.91146\n",
      "torch.Size([1024, 64])\n"
     ]
    },
    {
     "name": "stderr",
     "output_type": "stream",
     "text": [
      " 12%|█▏        | 120/999 [2:19:36<17:56:59, 73.51s/it]"
     ]
    },
    {
     "name": "stdout",
     "output_type": "stream",
     "text": [
      "eigenvalues shape torch.Size([5]) eigenvectors shape torch.Size([5, 1024])\n",
      "120 /home/phdcs2/Hard_Disk/Datasets/Deep-Spectral-Segmentation/data/object-segmentation/ECSSD/features/0122_resized.pth\n",
      "dict_keys(['k', 'indices', 'file', 'id', 'model_name', 'patch_size', 'shape'])\n",
      "0122_resized\n"
     ]
    },
    {
     "name": "stderr",
     "output_type": "stream",
     "text": [
      "/home/phdcs2/Hard_Disk/Projects/T2I/deep-spectral-segmentation/venv/lib/python3.8/site-packages/sklearn/decomposition/_pca.py:642: RuntimeWarning: invalid value encountered in divide\n",
      "  self.explained_variance_ratio_ = self.explained_variance_ / total_var\n"
     ]
    },
    {
     "name": "stdout",
     "output_type": "stream",
     "text": [
      "Starting Training\n",
      "epoch: 00, loss: -0.87462\n",
      "epoch: 01, loss: -0.90519\n",
      "epoch: 02, loss: -0.91409\n",
      "epoch: 03, loss: -0.91988\n",
      "epoch: 04, loss: -0.92414\n",
      "epoch: 05, loss: -0.92765\n",
      "epoch: 06, loss: -0.93041\n",
      "epoch: 07, loss: -0.93282\n",
      "epoch: 08, loss: -0.93488\n",
      "epoch: 09, loss: -0.93671\n",
      "torch.Size([1024, 64])\n"
     ]
    },
    {
     "name": "stderr",
     "output_type": "stream",
     "text": [
      " 12%|█▏        | 121/999 [2:20:46<17:42:06, 72.58s/it]"
     ]
    },
    {
     "name": "stdout",
     "output_type": "stream",
     "text": [
      "eigenvalues shape torch.Size([5]) eigenvectors shape torch.Size([5, 1024])\n",
      "121 /home/phdcs2/Hard_Disk/Datasets/Deep-Spectral-Segmentation/data/object-segmentation/ECSSD/features/0123_resized.pth\n",
      "dict_keys(['k', 'indices', 'file', 'id', 'model_name', 'patch_size', 'shape'])\n",
      "0123_resized\n",
      "Starting Training\n",
      "epoch: 00, loss: -0.89704\n",
      "epoch: 01, loss: -0.92325\n",
      "epoch: 02, loss: -0.93063\n",
      "epoch: 03, loss: -0.93551\n",
      "epoch: 04, loss: -0.93906\n",
      "epoch: 05, loss: -0.94187\n",
      "epoch: 06, loss: -0.94419\n",
      "epoch: 07, loss: -0.94615\n",
      "epoch: 08, loss: -0.94775\n",
      "epoch: 09, loss: -0.94927\n",
      "torch.Size([1024, 64])\n"
     ]
    },
    {
     "name": "stderr",
     "output_type": "stream",
     "text": [
      " 12%|█▏        | 122/999 [2:21:46<16:45:10, 68.77s/it]"
     ]
    },
    {
     "name": "stdout",
     "output_type": "stream",
     "text": [
      "eigenvalues shape torch.Size([5]) eigenvectors shape torch.Size([5, 1024])\n",
      "122 /home/phdcs2/Hard_Disk/Datasets/Deep-Spectral-Segmentation/data/object-segmentation/ECSSD/features/0124_resized.pth\n",
      "dict_keys(['k', 'indices', 'file', 'id', 'model_name', 'patch_size', 'shape'])\n",
      "0124_resized\n"
     ]
    },
    {
     "name": "stderr",
     "output_type": "stream",
     "text": [
      "/home/phdcs2/Hard_Disk/Projects/T2I/deep-spectral-segmentation/venv/lib/python3.8/site-packages/sklearn/decomposition/_pca.py:642: RuntimeWarning: invalid value encountered in divide\n",
      "  self.explained_variance_ratio_ = self.explained_variance_ / total_var\n"
     ]
    },
    {
     "name": "stdout",
     "output_type": "stream",
     "text": [
      "Starting Training\n",
      "epoch: 00, loss: -0.89742\n",
      "epoch: 01, loss: -0.91694\n",
      "epoch: 02, loss: -0.92252\n",
      "epoch: 03, loss: -0.92628\n",
      "epoch: 04, loss: -0.92902\n",
      "epoch: 05, loss: -0.93141\n",
      "epoch: 06, loss: -0.93320\n",
      "epoch: 07, loss: -0.93487\n",
      "epoch: 08, loss: -0.93629\n",
      "epoch: 09, loss: -0.93761\n",
      "torch.Size([1024, 64])\n"
     ]
    },
    {
     "name": "stderr",
     "output_type": "stream",
     "text": [
      " 12%|█▏        | 123/999 [2:22:53<16:35:39, 68.20s/it]"
     ]
    },
    {
     "name": "stdout",
     "output_type": "stream",
     "text": [
      "eigenvalues shape torch.Size([5]) eigenvectors shape torch.Size([5, 1024])\n",
      "123 /home/phdcs2/Hard_Disk/Datasets/Deep-Spectral-Segmentation/data/object-segmentation/ECSSD/features/0125_resized.pth\n",
      "dict_keys(['k', 'indices', 'file', 'id', 'model_name', 'patch_size', 'shape'])\n",
      "0125_resized\n",
      "Starting Training\n",
      "epoch: 00, loss: -0.85056\n",
      "epoch: 01, loss: -0.88828\n",
      "epoch: 02, loss: -0.90078\n",
      "epoch: 03, loss: -0.90871\n",
      "epoch: 04, loss: -0.91466\n",
      "epoch: 05, loss: -0.91909\n",
      "epoch: 06, loss: -0.92301\n",
      "epoch: 07, loss: -0.92613\n",
      "epoch: 08, loss: -0.92865\n",
      "epoch: 09, loss: -0.93113\n",
      "torch.Size([1024, 64])\n"
     ]
    },
    {
     "name": "stderr",
     "output_type": "stream",
     "text": [
      " 12%|█▏        | 124/999 [2:24:09<17:07:31, 70.46s/it]"
     ]
    },
    {
     "name": "stdout",
     "output_type": "stream",
     "text": [
      "eigenvalues shape torch.Size([5]) eigenvectors shape torch.Size([5, 1024])\n",
      "124 /home/phdcs2/Hard_Disk/Datasets/Deep-Spectral-Segmentation/data/object-segmentation/ECSSD/features/0126_resized.pth\n",
      "dict_keys(['k', 'indices', 'file', 'id', 'model_name', 'patch_size', 'shape'])\n",
      "0126_resized\n",
      "Starting Training\n",
      "epoch: 00, loss: -0.75953\n",
      "epoch: 01, loss: -0.81036\n",
      "epoch: 02, loss: -0.83002\n",
      "epoch: 03, loss: -0.84368\n",
      "epoch: 04, loss: -0.85389\n",
      "epoch: 05, loss: -0.86239\n",
      "epoch: 06, loss: -0.86929\n",
      "epoch: 07, loss: -0.87506\n",
      "epoch: 08, loss: -0.87992\n",
      "epoch: 09, loss: -0.88375\n",
      "torch.Size([1024, 64])\n"
     ]
    },
    {
     "name": "stderr",
     "output_type": "stream",
     "text": [
      " 13%|█▎        | 125/999 [2:25:25<17:30:47, 72.14s/it]"
     ]
    },
    {
     "name": "stdout",
     "output_type": "stream",
     "text": [
      "eigenvalues shape torch.Size([5]) eigenvectors shape torch.Size([5, 1024])\n",
      "125 /home/phdcs2/Hard_Disk/Datasets/Deep-Spectral-Segmentation/data/object-segmentation/ECSSD/features/0127_resized.pth\n",
      "dict_keys(['k', 'indices', 'file', 'id', 'model_name', 'patch_size', 'shape'])\n",
      "0127_resized\n",
      "Starting Training\n",
      "epoch: 00, loss: -0.83073\n",
      "epoch: 01, loss: -0.86603\n",
      "epoch: 02, loss: -0.87993\n",
      "epoch: 03, loss: -0.88900\n",
      "epoch: 04, loss: -0.89625\n",
      "epoch: 05, loss: -0.90163\n",
      "epoch: 06, loss: -0.90619\n",
      "epoch: 07, loss: -0.90976\n",
      "epoch: 08, loss: -0.91299\n",
      "epoch: 09, loss: -0.91600\n",
      "torch.Size([1024, 64])\n"
     ]
    },
    {
     "name": "stderr",
     "output_type": "stream",
     "text": [
      " 13%|█▎        | 126/999 [2:26:35<17:18:53, 71.40s/it]"
     ]
    },
    {
     "name": "stdout",
     "output_type": "stream",
     "text": [
      "eigenvalues shape torch.Size([5]) eigenvectors shape torch.Size([5, 1024])\n",
      "126 /home/phdcs2/Hard_Disk/Datasets/Deep-Spectral-Segmentation/data/object-segmentation/ECSSD/features/0128_resized.pth\n",
      "dict_keys(['k', 'indices', 'file', 'id', 'model_name', 'patch_size', 'shape'])\n",
      "0128_resized\n",
      "Starting Training\n",
      "epoch: 00, loss: -0.90501\n",
      "epoch: 01, loss: -0.93106\n",
      "epoch: 02, loss: -0.93736\n",
      "epoch: 03, loss: -0.94137\n",
      "epoch: 04, loss: -0.94437\n",
      "epoch: 05, loss: -0.94672\n",
      "epoch: 06, loss: -0.94869\n",
      "epoch: 07, loss: -0.95034\n",
      "epoch: 08, loss: -0.95179\n",
      "epoch: 09, loss: -0.95308\n",
      "torch.Size([1024, 64])\n"
     ]
    },
    {
     "name": "stderr",
     "output_type": "stream",
     "text": [
      " 13%|█▎        | 127/999 [2:27:44<17:10:36, 70.91s/it]"
     ]
    },
    {
     "name": "stdout",
     "output_type": "stream",
     "text": [
      "eigenvalues shape torch.Size([5]) eigenvectors shape torch.Size([5, 1024])\n",
      "127 /home/phdcs2/Hard_Disk/Datasets/Deep-Spectral-Segmentation/data/object-segmentation/ECSSD/features/0129_resized.pth\n",
      "dict_keys(['k', 'indices', 'file', 'id', 'model_name', 'patch_size', 'shape'])\n",
      "0129_resized\n"
     ]
    },
    {
     "name": "stderr",
     "output_type": "stream",
     "text": [
      "/home/phdcs2/Hard_Disk/Projects/T2I/deep-spectral-segmentation/venv/lib/python3.8/site-packages/sklearn/decomposition/_pca.py:642: RuntimeWarning: invalid value encountered in divide\n",
      "  self.explained_variance_ratio_ = self.explained_variance_ / total_var\n"
     ]
    },
    {
     "name": "stdout",
     "output_type": "stream",
     "text": [
      "Starting Training\n",
      "epoch: 00, loss: -0.90018\n",
      "epoch: 01, loss: -0.92225\n",
      "epoch: 02, loss: -0.92876\n",
      "epoch: 03, loss: -0.93328\n",
      "epoch: 04, loss: -0.93673\n",
      "epoch: 05, loss: -0.93941\n",
      "epoch: 06, loss: -0.94173\n",
      "epoch: 07, loss: -0.94358\n",
      "epoch: 08, loss: -0.94532\n",
      "epoch: 09, loss: -0.94678\n",
      "torch.Size([1024, 64])\n"
     ]
    },
    {
     "name": "stderr",
     "output_type": "stream",
     "text": [
      " 13%|█▎        | 128/999 [2:28:53<16:58:49, 70.18s/it]"
     ]
    },
    {
     "name": "stdout",
     "output_type": "stream",
     "text": [
      "eigenvalues shape torch.Size([5]) eigenvectors shape torch.Size([5, 1024])\n",
      "128 /home/phdcs2/Hard_Disk/Datasets/Deep-Spectral-Segmentation/data/object-segmentation/ECSSD/features/0130_resized.pth\n",
      "dict_keys(['k', 'indices', 'file', 'id', 'model_name', 'patch_size', 'shape'])\n",
      "0130_resized\n"
     ]
    },
    {
     "name": "stderr",
     "output_type": "stream",
     "text": [
      "/home/phdcs2/Hard_Disk/Projects/T2I/deep-spectral-segmentation/venv/lib/python3.8/site-packages/sklearn/decomposition/_pca.py:642: RuntimeWarning: invalid value encountered in divide\n",
      "  self.explained_variance_ratio_ = self.explained_variance_ / total_var\n"
     ]
    },
    {
     "name": "stdout",
     "output_type": "stream",
     "text": [
      "Starting Training\n",
      "epoch: 00, loss: -0.90244\n",
      "epoch: 01, loss: -0.92516\n",
      "epoch: 02, loss: -0.93203\n",
      "epoch: 03, loss: -0.93646\n",
      "epoch: 04, loss: -0.93975\n",
      "epoch: 05, loss: -0.94234\n",
      "epoch: 06, loss: -0.94449\n",
      "epoch: 07, loss: -0.94631\n",
      "epoch: 08, loss: -0.94790\n",
      "epoch: 09, loss: -0.94931\n",
      "torch.Size([1024, 64])\n"
     ]
    },
    {
     "name": "stderr",
     "output_type": "stream",
     "text": [
      " 13%|█▎        | 129/999 [2:30:02<16:53:07, 69.87s/it]"
     ]
    },
    {
     "name": "stdout",
     "output_type": "stream",
     "text": [
      "eigenvalues shape torch.Size([5]) eigenvectors shape torch.Size([5, 1024])\n",
      "129 /home/phdcs2/Hard_Disk/Datasets/Deep-Spectral-Segmentation/data/object-segmentation/ECSSD/features/0131_resized.pth\n",
      "dict_keys(['k', 'indices', 'file', 'id', 'model_name', 'patch_size', 'shape'])\n",
      "0131_resized\n",
      "Starting Training\n",
      "epoch: 00, loss: -0.87273\n",
      "epoch: 01, loss: -0.89989\n",
      "epoch: 02, loss: -0.90828\n",
      "epoch: 03, loss: -0.91420\n",
      "epoch: 04, loss: -0.91831\n",
      "epoch: 05, loss: -0.92148\n",
      "epoch: 06, loss: -0.92414\n",
      "epoch: 07, loss: -0.92656\n",
      "epoch: 08, loss: -0.92836\n",
      "epoch: 09, loss: -0.92996\n",
      "torch.Size([1024, 64])\n"
     ]
    },
    {
     "name": "stderr",
     "output_type": "stream",
     "text": [
      " 13%|█▎        | 130/999 [2:31:04<16:15:48, 67.38s/it]"
     ]
    },
    {
     "name": "stdout",
     "output_type": "stream",
     "text": [
      "eigenvalues shape torch.Size([5]) eigenvectors shape torch.Size([5, 1024])\n",
      "130 /home/phdcs2/Hard_Disk/Datasets/Deep-Spectral-Segmentation/data/object-segmentation/ECSSD/features/0132_resized.pth\n",
      "dict_keys(['k', 'indices', 'file', 'id', 'model_name', 'patch_size', 'shape'])\n",
      "0132_resized\n"
     ]
    },
    {
     "name": "stderr",
     "output_type": "stream",
     "text": [
      "/home/phdcs2/Hard_Disk/Projects/T2I/deep-spectral-segmentation/venv/lib/python3.8/site-packages/sklearn/decomposition/_pca.py:642: RuntimeWarning: invalid value encountered in divide\n",
      "  self.explained_variance_ratio_ = self.explained_variance_ / total_var\n"
     ]
    },
    {
     "name": "stdout",
     "output_type": "stream",
     "text": [
      "Starting Training\n",
      "epoch: 00, loss: -0.88672\n",
      "epoch: 01, loss: -0.91197\n",
      "epoch: 02, loss: -0.91854\n",
      "epoch: 03, loss: -0.92287\n",
      "epoch: 04, loss: -0.92619\n",
      "epoch: 05, loss: -0.92887\n",
      "epoch: 06, loss: -0.93106\n",
      "epoch: 07, loss: -0.93301\n",
      "epoch: 08, loss: -0.93467\n",
      "epoch: 09, loss: -0.93615\n",
      "torch.Size([1024, 64])\n"
     ]
    },
    {
     "name": "stderr",
     "output_type": "stream",
     "text": [
      " 13%|█▎        | 131/999 [2:32:09<16:05:38, 66.75s/it]"
     ]
    },
    {
     "name": "stdout",
     "output_type": "stream",
     "text": [
      "eigenvalues shape torch.Size([5]) eigenvectors shape torch.Size([5, 1024])\n",
      "131 /home/phdcs2/Hard_Disk/Datasets/Deep-Spectral-Segmentation/data/object-segmentation/ECSSD/features/0133_resized.pth\n",
      "dict_keys(['k', 'indices', 'file', 'id', 'model_name', 'patch_size', 'shape'])\n",
      "0133_resized\n"
     ]
    },
    {
     "name": "stderr",
     "output_type": "stream",
     "text": [
      "/home/phdcs2/Hard_Disk/Projects/T2I/deep-spectral-segmentation/venv/lib/python3.8/site-packages/sklearn/decomposition/_pca.py:642: RuntimeWarning: invalid value encountered in divide\n",
      "  self.explained_variance_ratio_ = self.explained_variance_ / total_var\n"
     ]
    },
    {
     "name": "stdout",
     "output_type": "stream",
     "text": [
      "Starting Training\n",
      "epoch: 00, loss: -0.91761\n",
      "epoch: 01, loss: -0.94007\n",
      "epoch: 02, loss: -0.94558\n",
      "epoch: 03, loss: -0.94893\n",
      "epoch: 04, loss: -0.95141\n",
      "epoch: 05, loss: -0.95334\n",
      "epoch: 06, loss: -0.95495\n",
      "epoch: 07, loss: -0.95624\n",
      "epoch: 08, loss: -0.95738\n",
      "epoch: 09, loss: -0.95841\n",
      "torch.Size([1024, 64])\n"
     ]
    },
    {
     "name": "stderr",
     "output_type": "stream",
     "text": [
      " 13%|█▎        | 132/999 [2:33:17<16:10:27, 67.16s/it]"
     ]
    },
    {
     "name": "stdout",
     "output_type": "stream",
     "text": [
      "eigenvalues shape torch.Size([5]) eigenvectors shape torch.Size([5, 1024])\n",
      "132 /home/phdcs2/Hard_Disk/Datasets/Deep-Spectral-Segmentation/data/object-segmentation/ECSSD/features/0134_resized.pth\n",
      "dict_keys(['k', 'indices', 'file', 'id', 'model_name', 'patch_size', 'shape'])\n",
      "0134_resized\n",
      "Starting Training\n",
      "epoch: 00, loss: -0.83248\n",
      "epoch: 01, loss: -0.87010\n",
      "epoch: 02, loss: -0.88351\n",
      "epoch: 03, loss: -0.89233\n",
      "epoch: 04, loss: -0.89893\n",
      "epoch: 05, loss: -0.90437\n",
      "epoch: 06, loss: -0.90878\n",
      "epoch: 07, loss: -0.91246\n",
      "epoch: 08, loss: -0.91588\n",
      "epoch: 09, loss: -0.91871\n",
      "torch.Size([1024, 64])\n"
     ]
    },
    {
     "name": "stderr",
     "output_type": "stream",
     "text": [
      " 13%|█▎        | 133/999 [2:34:29<16:29:46, 68.58s/it]"
     ]
    },
    {
     "name": "stdout",
     "output_type": "stream",
     "text": [
      "eigenvalues shape torch.Size([5]) eigenvectors shape torch.Size([5, 1024])\n",
      "133 /home/phdcs2/Hard_Disk/Datasets/Deep-Spectral-Segmentation/data/object-segmentation/ECSSD/features/0135_resized.pth\n",
      "dict_keys(['k', 'indices', 'file', 'id', 'model_name', 'patch_size', 'shape'])\n",
      "0135_resized\n"
     ]
    },
    {
     "name": "stderr",
     "output_type": "stream",
     "text": [
      "/home/phdcs2/Hard_Disk/Projects/T2I/deep-spectral-segmentation/venv/lib/python3.8/site-packages/sklearn/decomposition/_pca.py:642: RuntimeWarning: invalid value encountered in divide\n",
      "  self.explained_variance_ratio_ = self.explained_variance_ / total_var\n"
     ]
    },
    {
     "name": "stdout",
     "output_type": "stream",
     "text": [
      "Starting Training\n",
      "epoch: 00, loss: -0.90106\n",
      "epoch: 01, loss: -0.92442\n",
      "epoch: 02, loss: -0.93110\n",
      "epoch: 03, loss: -0.93543\n",
      "epoch: 04, loss: -0.93869\n",
      "epoch: 05, loss: -0.94116\n",
      "epoch: 06, loss: -0.94324\n",
      "epoch: 07, loss: -0.94501\n",
      "epoch: 08, loss: -0.94655\n",
      "epoch: 09, loss: -0.94790\n",
      "torch.Size([1024, 64])\n"
     ]
    },
    {
     "name": "stderr",
     "output_type": "stream",
     "text": [
      " 13%|█▎        | 134/999 [2:35:39<16:35:58, 69.08s/it]"
     ]
    },
    {
     "name": "stdout",
     "output_type": "stream",
     "text": [
      "eigenvalues shape torch.Size([5]) eigenvectors shape torch.Size([5, 1024])\n",
      "134 /home/phdcs2/Hard_Disk/Datasets/Deep-Spectral-Segmentation/data/object-segmentation/ECSSD/features/0136_resized.pth\n",
      "dict_keys(['k', 'indices', 'file', 'id', 'model_name', 'patch_size', 'shape'])\n",
      "0136_resized\n",
      "Starting Training\n",
      "epoch: 00, loss: -0.80757\n",
      "epoch: 01, loss: -0.84719\n",
      "epoch: 02, loss: -0.86050\n",
      "epoch: 03, loss: -0.86953\n",
      "epoch: 04, loss: -0.87630\n",
      "epoch: 05, loss: -0.88169\n",
      "epoch: 06, loss: -0.88630\n",
      "epoch: 07, loss: -0.88997\n",
      "epoch: 08, loss: -0.89296\n",
      "epoch: 09, loss: -0.89582\n",
      "torch.Size([1024, 64])\n"
     ]
    },
    {
     "name": "stderr",
     "output_type": "stream",
     "text": [
      " 14%|█▎        | 135/999 [2:36:48<16:35:08, 69.11s/it]"
     ]
    },
    {
     "name": "stdout",
     "output_type": "stream",
     "text": [
      "eigenvalues shape torch.Size([5]) eigenvectors shape torch.Size([5, 1024])\n",
      "135 /home/phdcs2/Hard_Disk/Datasets/Deep-Spectral-Segmentation/data/object-segmentation/ECSSD/features/0137_resized.pth\n",
      "dict_keys(['k', 'indices', 'file', 'id', 'model_name', 'patch_size', 'shape'])\n",
      "0137_resized\n",
      "Starting Training\n",
      "epoch: 00, loss: -0.91405\n",
      "epoch: 01, loss: -0.93594\n",
      "epoch: 02, loss: -0.94196\n",
      "epoch: 03, loss: -0.94566\n",
      "epoch: 04, loss: -0.94845\n",
      "epoch: 05, loss: -0.95066\n",
      "epoch: 06, loss: -0.95251\n",
      "epoch: 07, loss: -0.95397\n",
      "epoch: 08, loss: -0.95527\n",
      "epoch: 09, loss: -0.95643\n",
      "torch.Size([1024, 64])\n"
     ]
    },
    {
     "name": "stderr",
     "output_type": "stream",
     "text": [
      " 14%|█▎        | 136/999 [2:37:54<16:17:31, 67.96s/it]"
     ]
    },
    {
     "name": "stdout",
     "output_type": "stream",
     "text": [
      "eigenvalues shape torch.Size([5]) eigenvectors shape torch.Size([5, 1024])\n",
      "136 /home/phdcs2/Hard_Disk/Datasets/Deep-Spectral-Segmentation/data/object-segmentation/ECSSD/features/0138_resized.pth\n",
      "dict_keys(['k', 'indices', 'file', 'id', 'model_name', 'patch_size', 'shape'])\n",
      "0138_resized\n"
     ]
    },
    {
     "name": "stderr",
     "output_type": "stream",
     "text": [
      "/home/phdcs2/Hard_Disk/Projects/T2I/deep-spectral-segmentation/venv/lib/python3.8/site-packages/sklearn/decomposition/_pca.py:642: RuntimeWarning: invalid value encountered in divide\n",
      "  self.explained_variance_ratio_ = self.explained_variance_ / total_var\n"
     ]
    },
    {
     "name": "stdout",
     "output_type": "stream",
     "text": [
      "Starting Training\n",
      "epoch: 00, loss: -0.90323\n",
      "epoch: 01, loss: -0.92336\n",
      "epoch: 02, loss: -0.92909\n",
      "epoch: 03, loss: -0.93286\n",
      "epoch: 04, loss: -0.93577\n",
      "epoch: 05, loss: -0.93810\n",
      "epoch: 06, loss: -0.94004\n",
      "epoch: 07, loss: -0.94169\n",
      "epoch: 08, loss: -0.94319\n",
      "epoch: 09, loss: -0.94442\n",
      "torch.Size([1024, 64])\n"
     ]
    },
    {
     "name": "stderr",
     "output_type": "stream",
     "text": [
      " 14%|█▎        | 137/999 [2:38:59<16:05:13, 67.19s/it]"
     ]
    },
    {
     "name": "stdout",
     "output_type": "stream",
     "text": [
      "eigenvalues shape torch.Size([5]) eigenvectors shape torch.Size([5, 1024])\n",
      "137 /home/phdcs2/Hard_Disk/Datasets/Deep-Spectral-Segmentation/data/object-segmentation/ECSSD/features/0139_resized.pth\n",
      "dict_keys(['k', 'indices', 'file', 'id', 'model_name', 'patch_size', 'shape'])\n",
      "0139_resized\n",
      "Starting Training\n",
      "epoch: 00, loss: -0.84908\n",
      "epoch: 01, loss: -0.88254\n",
      "epoch: 02, loss: -0.89420\n",
      "epoch: 03, loss: -0.90210\n",
      "epoch: 04, loss: -0.90769\n",
      "epoch: 05, loss: -0.91227\n",
      "epoch: 06, loss: -0.91605\n",
      "epoch: 07, loss: -0.91908\n",
      "epoch: 08, loss: -0.92174\n",
      "epoch: 09, loss: -0.92417\n",
      "torch.Size([1024, 64])\n"
     ]
    },
    {
     "name": "stderr",
     "output_type": "stream",
     "text": [
      " 14%|█▍        | 138/999 [2:40:07<16:07:44, 67.44s/it]"
     ]
    },
    {
     "name": "stdout",
     "output_type": "stream",
     "text": [
      "eigenvalues shape torch.Size([5]) eigenvectors shape torch.Size([5, 1024])\n",
      "138 /home/phdcs2/Hard_Disk/Datasets/Deep-Spectral-Segmentation/data/object-segmentation/ECSSD/features/0140_resized.pth\n",
      "dict_keys(['k', 'indices', 'file', 'id', 'model_name', 'patch_size', 'shape'])\n",
      "0140_resized\n"
     ]
    },
    {
     "name": "stderr",
     "output_type": "stream",
     "text": [
      "/home/phdcs2/Hard_Disk/Projects/T2I/deep-spectral-segmentation/venv/lib/python3.8/site-packages/sklearn/decomposition/_pca.py:642: RuntimeWarning: invalid value encountered in divide\n",
      "  self.explained_variance_ratio_ = self.explained_variance_ / total_var\n"
     ]
    },
    {
     "name": "stdout",
     "output_type": "stream",
     "text": [
      "Starting Training\n",
      "epoch: 00, loss: -0.90654\n",
      "epoch: 01, loss: -0.92794\n",
      "epoch: 02, loss: -0.93407\n",
      "epoch: 03, loss: -0.93792\n",
      "epoch: 04, loss: -0.94089\n",
      "epoch: 05, loss: -0.94323\n",
      "epoch: 06, loss: -0.94520\n",
      "epoch: 07, loss: -0.94680\n",
      "epoch: 08, loss: -0.94827\n",
      "epoch: 09, loss: -0.94950\n",
      "torch.Size([1024, 64])\n"
     ]
    },
    {
     "name": "stderr",
     "output_type": "stream",
     "text": [
      " 14%|█▍        | 139/999 [2:41:19<16:28:07, 68.94s/it]"
     ]
    },
    {
     "name": "stdout",
     "output_type": "stream",
     "text": [
      "eigenvalues shape torch.Size([5]) eigenvectors shape torch.Size([5, 1024])\n",
      "139 /home/phdcs2/Hard_Disk/Datasets/Deep-Spectral-Segmentation/data/object-segmentation/ECSSD/features/0141_resized.pth\n",
      "dict_keys(['k', 'indices', 'file', 'id', 'model_name', 'patch_size', 'shape'])\n",
      "0141_resized\n"
     ]
    },
    {
     "name": "stderr",
     "output_type": "stream",
     "text": [
      "/home/phdcs2/Hard_Disk/Projects/T2I/deep-spectral-segmentation/venv/lib/python3.8/site-packages/sklearn/decomposition/_pca.py:642: RuntimeWarning: invalid value encountered in divide\n",
      "  self.explained_variance_ratio_ = self.explained_variance_ / total_var\n"
     ]
    },
    {
     "name": "stdout",
     "output_type": "stream",
     "text": [
      "Starting Training\n",
      "epoch: 00, loss: -0.87993\n",
      "epoch: 01, loss: -0.90526\n",
      "epoch: 02, loss: -0.91310\n",
      "epoch: 03, loss: -0.91814\n",
      "epoch: 04, loss: -0.92202\n",
      "epoch: 05, loss: -0.92503\n",
      "epoch: 06, loss: -0.92743\n",
      "epoch: 07, loss: -0.92958\n",
      "epoch: 08, loss: -0.93144\n",
      "epoch: 09, loss: -0.93307\n",
      "torch.Size([1024, 64])\n"
     ]
    },
    {
     "name": "stderr",
     "output_type": "stream",
     "text": [
      " 14%|█▍        | 140/999 [2:42:31<16:38:26, 69.74s/it]"
     ]
    },
    {
     "name": "stdout",
     "output_type": "stream",
     "text": [
      "eigenvalues shape torch.Size([5]) eigenvectors shape torch.Size([5, 1024])\n",
      "140 /home/phdcs2/Hard_Disk/Datasets/Deep-Spectral-Segmentation/data/object-segmentation/ECSSD/features/0142_resized.pth\n",
      "dict_keys(['k', 'indices', 'file', 'id', 'model_name', 'patch_size', 'shape'])\n",
      "0142_resized\n",
      "Starting Training\n",
      "epoch: 00, loss: -0.90245\n",
      "epoch: 01, loss: -0.92857\n",
      "epoch: 02, loss: -0.93424\n",
      "epoch: 03, loss: -0.93790\n",
      "epoch: 04, loss: -0.94072\n",
      "epoch: 05, loss: -0.94294\n",
      "epoch: 06, loss: -0.94483\n",
      "epoch: 07, loss: -0.94641\n",
      "epoch: 08, loss: -0.94785\n",
      "epoch: 09, loss: -0.94914\n",
      "torch.Size([1024, 64])\n"
     ]
    },
    {
     "name": "stderr",
     "output_type": "stream",
     "text": [
      " 14%|█▍        | 141/999 [2:43:44<16:53:10, 70.85s/it]"
     ]
    },
    {
     "name": "stdout",
     "output_type": "stream",
     "text": [
      "eigenvalues shape torch.Size([5]) eigenvectors shape torch.Size([5, 1024])\n",
      "141 /home/phdcs2/Hard_Disk/Datasets/Deep-Spectral-Segmentation/data/object-segmentation/ECSSD/features/0143_resized.pth\n",
      "dict_keys(['k', 'indices', 'file', 'id', 'model_name', 'patch_size', 'shape'])\n",
      "0143_resized\n",
      "Starting Training\n",
      "epoch: 00, loss: -0.83718\n",
      "epoch: 01, loss: -0.87564\n",
      "epoch: 02, loss: -0.88889\n",
      "epoch: 03, loss: -0.89739\n",
      "epoch: 04, loss: -0.90365\n",
      "epoch: 05, loss: -0.90867\n",
      "epoch: 06, loss: -0.91295\n",
      "epoch: 07, loss: -0.91649\n",
      "epoch: 08, loss: -0.91958\n",
      "epoch: 09, loss: -0.92214\n",
      "torch.Size([1024, 64])\n"
     ]
    },
    {
     "name": "stderr",
     "output_type": "stream",
     "text": [
      " 14%|█▍        | 142/999 [2:45:01<17:16:06, 72.54s/it]"
     ]
    },
    {
     "name": "stdout",
     "output_type": "stream",
     "text": [
      "eigenvalues shape torch.Size([5]) eigenvectors shape torch.Size([5, 1024])\n",
      "142 /home/phdcs2/Hard_Disk/Datasets/Deep-Spectral-Segmentation/data/object-segmentation/ECSSD/features/0144_resized.pth\n",
      "dict_keys(['k', 'indices', 'file', 'id', 'model_name', 'patch_size', 'shape'])\n",
      "0144_resized\n"
     ]
    },
    {
     "name": "stderr",
     "output_type": "stream",
     "text": [
      "/home/phdcs2/Hard_Disk/Projects/T2I/deep-spectral-segmentation/venv/lib/python3.8/site-packages/sklearn/decomposition/_pca.py:642: RuntimeWarning: invalid value encountered in divide\n",
      "  self.explained_variance_ratio_ = self.explained_variance_ / total_var\n"
     ]
    },
    {
     "name": "stdout",
     "output_type": "stream",
     "text": [
      "Starting Training\n",
      "epoch: 00, loss: -0.92392\n",
      "epoch: 01, loss: -0.94527\n",
      "epoch: 02, loss: -0.95062\n",
      "epoch: 03, loss: -0.95410\n",
      "epoch: 04, loss: -0.95663\n",
      "epoch: 05, loss: -0.95863\n",
      "epoch: 06, loss: -0.96027\n",
      "epoch: 07, loss: -0.96167\n",
      "epoch: 08, loss: -0.96287\n",
      "epoch: 09, loss: -0.96394\n",
      "torch.Size([1024, 64])\n"
     ]
    },
    {
     "name": "stderr",
     "output_type": "stream",
     "text": [
      " 14%|█▍        | 143/999 [2:46:10<16:58:42, 71.41s/it]"
     ]
    },
    {
     "name": "stdout",
     "output_type": "stream",
     "text": [
      "eigenvalues shape torch.Size([5]) eigenvectors shape torch.Size([5, 1024])\n",
      "143 /home/phdcs2/Hard_Disk/Datasets/Deep-Spectral-Segmentation/data/object-segmentation/ECSSD/features/0145_resized.pth\n",
      "dict_keys(['k', 'indices', 'file', 'id', 'model_name', 'patch_size', 'shape'])\n",
      "0145_resized\n",
      "Starting Training\n",
      "epoch: 00, loss: -0.83146\n",
      "epoch: 01, loss: -0.86415\n",
      "epoch: 02, loss: -0.87466\n",
      "epoch: 03, loss: -0.88181\n",
      "epoch: 04, loss: -0.88724\n",
      "epoch: 05, loss: -0.89142\n",
      "epoch: 06, loss: -0.89529\n",
      "epoch: 07, loss: -0.89829\n",
      "epoch: 08, loss: -0.90102\n",
      "epoch: 09, loss: -0.90345\n",
      "torch.Size([1024, 64])\n"
     ]
    },
    {
     "name": "stderr",
     "output_type": "stream",
     "text": [
      " 14%|█▍        | 144/999 [2:47:20<16:51:59, 71.02s/it]"
     ]
    },
    {
     "name": "stdout",
     "output_type": "stream",
     "text": [
      "eigenvalues shape torch.Size([5]) eigenvectors shape torch.Size([5, 1024])\n",
      "144 /home/phdcs2/Hard_Disk/Datasets/Deep-Spectral-Segmentation/data/object-segmentation/ECSSD/features/0146_resized.pth\n",
      "dict_keys(['k', 'indices', 'file', 'id', 'model_name', 'patch_size', 'shape'])\n",
      "0146_resized\n"
     ]
    },
    {
     "name": "stderr",
     "output_type": "stream",
     "text": [
      "/home/phdcs2/Hard_Disk/Projects/T2I/deep-spectral-segmentation/venv/lib/python3.8/site-packages/sklearn/decomposition/_pca.py:642: RuntimeWarning: invalid value encountered in divide\n",
      "  self.explained_variance_ratio_ = self.explained_variance_ / total_var\n"
     ]
    },
    {
     "name": "stdout",
     "output_type": "stream",
     "text": [
      "Starting Training\n",
      "epoch: 00, loss: -0.88614\n",
      "epoch: 01, loss: -0.91468\n",
      "epoch: 02, loss: -0.92292\n",
      "epoch: 03, loss: -0.92834\n",
      "epoch: 04, loss: -0.93227\n",
      "epoch: 05, loss: -0.93542\n",
      "epoch: 06, loss: -0.93801\n",
      "epoch: 07, loss: -0.94018\n",
      "epoch: 08, loss: -0.94208\n",
      "epoch: 09, loss: -0.94374\n",
      "torch.Size([1024, 64])\n"
     ]
    },
    {
     "name": "stderr",
     "output_type": "stream",
     "text": [
      " 15%|█▍        | 145/999 [2:48:29<16:41:18, 70.35s/it]"
     ]
    },
    {
     "name": "stdout",
     "output_type": "stream",
     "text": [
      "eigenvalues shape torch.Size([5]) eigenvectors shape torch.Size([5, 1024])\n",
      "145 /home/phdcs2/Hard_Disk/Datasets/Deep-Spectral-Segmentation/data/object-segmentation/ECSSD/features/0147_resized.pth\n",
      "dict_keys(['k', 'indices', 'file', 'id', 'model_name', 'patch_size', 'shape'])\n",
      "0147_resized\n",
      "Starting Training\n",
      "epoch: 00, loss: -0.89647\n",
      "epoch: 01, loss: -0.92095\n",
      "epoch: 02, loss: -0.92758\n",
      "epoch: 03, loss: -0.93194\n",
      "epoch: 04, loss: -0.93515\n",
      "epoch: 05, loss: -0.93772\n",
      "epoch: 06, loss: -0.93974\n",
      "epoch: 07, loss: -0.94150\n",
      "epoch: 08, loss: -0.94302\n",
      "epoch: 09, loss: -0.94441\n",
      "torch.Size([1024, 64])\n"
     ]
    },
    {
     "name": "stderr",
     "output_type": "stream",
     "text": [
      " 15%|█▍        | 146/999 [2:49:42<16:51:03, 71.12s/it]"
     ]
    },
    {
     "name": "stdout",
     "output_type": "stream",
     "text": [
      "eigenvalues shape torch.Size([5]) eigenvectors shape torch.Size([5, 1024])\n",
      "146 /home/phdcs2/Hard_Disk/Datasets/Deep-Spectral-Segmentation/data/object-segmentation/ECSSD/features/0148_resized.pth\n",
      "dict_keys(['k', 'indices', 'file', 'id', 'model_name', 'patch_size', 'shape'])\n",
      "0148_resized\n",
      "Starting Training\n",
      "epoch: 00, loss: -0.75751\n",
      "epoch: 01, loss: -0.80580\n",
      "epoch: 02, loss: -0.82223\n",
      "epoch: 03, loss: -0.83333\n",
      "epoch: 04, loss: -0.84164\n",
      "epoch: 05, loss: -0.84783\n",
      "epoch: 06, loss: -0.85289\n",
      "epoch: 07, loss: -0.85703\n",
      "epoch: 08, loss: -0.86061\n",
      "epoch: 09, loss: -0.86452\n",
      "torch.Size([1024, 64])\n"
     ]
    },
    {
     "name": "stderr",
     "output_type": "stream",
     "text": [
      " 15%|█▍        | 147/999 [2:50:54<16:54:37, 71.45s/it]"
     ]
    },
    {
     "name": "stdout",
     "output_type": "stream",
     "text": [
      "eigenvalues shape torch.Size([5]) eigenvectors shape torch.Size([5, 1024])\n",
      "147 /home/phdcs2/Hard_Disk/Datasets/Deep-Spectral-Segmentation/data/object-segmentation/ECSSD/features/0149_resized.pth\n",
      "dict_keys(['k', 'indices', 'file', 'id', 'model_name', 'patch_size', 'shape'])\n",
      "0149_resized\n",
      "Starting Training\n",
      "epoch: 00, loss: -0.79187\n",
      "epoch: 01, loss: -0.83411\n",
      "epoch: 02, loss: -0.85041\n",
      "epoch: 03, loss: -0.86223\n",
      "epoch: 04, loss: -0.87075\n",
      "epoch: 05, loss: -0.87772\n",
      "epoch: 06, loss: -0.88361\n",
      "epoch: 07, loss: -0.88872\n",
      "epoch: 08, loss: -0.89279\n",
      "epoch: 09, loss: -0.89649\n",
      "torch.Size([1024, 64])\n"
     ]
    },
    {
     "name": "stderr",
     "output_type": "stream",
     "text": [
      " 15%|█▍        | 148/999 [2:52:00<16:31:00, 69.87s/it]"
     ]
    },
    {
     "name": "stdout",
     "output_type": "stream",
     "text": [
      "eigenvalues shape torch.Size([5]) eigenvectors shape torch.Size([5, 1024])\n",
      "148 /home/phdcs2/Hard_Disk/Datasets/Deep-Spectral-Segmentation/data/object-segmentation/ECSSD/features/0150_resized.pth\n",
      "dict_keys(['k', 'indices', 'file', 'id', 'model_name', 'patch_size', 'shape'])\n",
      "0150_resized\n"
     ]
    },
    {
     "name": "stderr",
     "output_type": "stream",
     "text": [
      "/home/phdcs2/Hard_Disk/Projects/T2I/deep-spectral-segmentation/venv/lib/python3.8/site-packages/sklearn/decomposition/_pca.py:642: RuntimeWarning: invalid value encountered in divide\n",
      "  self.explained_variance_ratio_ = self.explained_variance_ / total_var\n"
     ]
    },
    {
     "name": "stdout",
     "output_type": "stream",
     "text": [
      "Starting Training\n",
      "epoch: 00, loss: -0.88399\n",
      "epoch: 01, loss: -0.91270\n",
      "epoch: 02, loss: -0.91994\n",
      "epoch: 03, loss: -0.92476\n",
      "epoch: 04, loss: -0.92839\n",
      "epoch: 05, loss: -0.93123\n",
      "epoch: 06, loss: -0.93363\n",
      "epoch: 07, loss: -0.93574\n",
      "epoch: 08, loss: -0.93751\n",
      "epoch: 09, loss: -0.93904\n",
      "torch.Size([1024, 64])\n"
     ]
    },
    {
     "name": "stderr",
     "output_type": "stream",
     "text": [
      " 15%|█▍        | 149/999 [2:53:08<16:21:39, 69.29s/it]"
     ]
    },
    {
     "name": "stdout",
     "output_type": "stream",
     "text": [
      "eigenvalues shape torch.Size([5]) eigenvectors shape torch.Size([5, 1024])\n",
      "149 /home/phdcs2/Hard_Disk/Datasets/Deep-Spectral-Segmentation/data/object-segmentation/ECSSD/features/0151_resized.pth\n",
      "dict_keys(['k', 'indices', 'file', 'id', 'model_name', 'patch_size', 'shape'])\n",
      "0151_resized\n"
     ]
    },
    {
     "name": "stderr",
     "output_type": "stream",
     "text": [
      "/home/phdcs2/Hard_Disk/Projects/T2I/deep-spectral-segmentation/venv/lib/python3.8/site-packages/sklearn/decomposition/_pca.py:642: RuntimeWarning: invalid value encountered in divide\n",
      "  self.explained_variance_ratio_ = self.explained_variance_ / total_var\n"
     ]
    },
    {
     "name": "stdout",
     "output_type": "stream",
     "text": [
      "Starting Training\n",
      "epoch: 00, loss: -0.92554\n",
      "epoch: 01, loss: -0.94483\n",
      "epoch: 02, loss: -0.95013\n",
      "epoch: 03, loss: -0.95342\n",
      "epoch: 04, loss: -0.95586\n",
      "epoch: 05, loss: -0.95773\n",
      "epoch: 06, loss: -0.95928\n",
      "epoch: 07, loss: -0.96059\n",
      "epoch: 08, loss: -0.96175\n",
      "epoch: 09, loss: -0.96269\n",
      "torch.Size([1024, 64])\n"
     ]
    },
    {
     "name": "stderr",
     "output_type": "stream",
     "text": [
      " 15%|█▌        | 150/999 [2:54:11<15:55:42, 67.54s/it]"
     ]
    },
    {
     "name": "stdout",
     "output_type": "stream",
     "text": [
      "eigenvalues shape torch.Size([5]) eigenvectors shape torch.Size([5, 1024])\n",
      "150 /home/phdcs2/Hard_Disk/Datasets/Deep-Spectral-Segmentation/data/object-segmentation/ECSSD/features/0152_resized.pth\n",
      "dict_keys(['k', 'indices', 'file', 'id', 'model_name', 'patch_size', 'shape'])\n",
      "0152_resized\n",
      "Starting Training\n",
      "epoch: 00, loss: -0.83138\n",
      "epoch: 01, loss: -0.86851\n",
      "epoch: 02, loss: -0.88084\n",
      "epoch: 03, loss: -0.88947\n",
      "epoch: 04, loss: -0.89528\n",
      "epoch: 05, loss: -0.89996\n",
      "epoch: 06, loss: -0.90415\n",
      "epoch: 07, loss: -0.90772\n",
      "epoch: 08, loss: -0.91088\n",
      "epoch: 09, loss: -0.91338\n",
      "torch.Size([1024, 64])\n"
     ]
    },
    {
     "name": "stderr",
     "output_type": "stream",
     "text": [
      " 15%|█▌        | 151/999 [2:55:13<15:31:06, 65.88s/it]"
     ]
    },
    {
     "name": "stdout",
     "output_type": "stream",
     "text": [
      "eigenvalues shape torch.Size([5]) eigenvectors shape torch.Size([5, 1024])\n",
      "151 /home/phdcs2/Hard_Disk/Datasets/Deep-Spectral-Segmentation/data/object-segmentation/ECSSD/features/0153_resized.pth\n",
      "dict_keys(['k', 'indices', 'file', 'id', 'model_name', 'patch_size', 'shape'])\n",
      "0153_resized\n",
      "Starting Training\n",
      "epoch: 00, loss: -0.90347\n",
      "epoch: 01, loss: -0.92780\n",
      "epoch: 02, loss: -0.93420\n",
      "epoch: 03, loss: -0.93850\n",
      "epoch: 04, loss: -0.94177\n",
      "epoch: 05, loss: -0.94437\n",
      "epoch: 06, loss: -0.94649\n",
      "epoch: 07, loss: -0.94832\n",
      "epoch: 08, loss: -0.94994\n",
      "epoch: 09, loss: -0.95135\n",
      "torch.Size([1024, 64])\n"
     ]
    },
    {
     "name": "stderr",
     "output_type": "stream",
     "text": [
      " 15%|█▌        | 152/999 [2:56:18<15:25:13, 65.54s/it]"
     ]
    },
    {
     "name": "stdout",
     "output_type": "stream",
     "text": [
      "eigenvalues shape torch.Size([5]) eigenvectors shape torch.Size([5, 1024])\n",
      "152 /home/phdcs2/Hard_Disk/Datasets/Deep-Spectral-Segmentation/data/object-segmentation/ECSSD/features/0154_resized.pth\n",
      "dict_keys(['k', 'indices', 'file', 'id', 'model_name', 'patch_size', 'shape'])\n",
      "0154_resized\n",
      "Starting Training\n",
      "epoch: 00, loss: -0.90424\n",
      "epoch: 01, loss: -0.92589\n",
      "epoch: 02, loss: -0.93240\n",
      "epoch: 03, loss: -0.93663\n",
      "epoch: 04, loss: -0.93985\n",
      "epoch: 05, loss: -0.94236\n",
      "epoch: 06, loss: -0.94450\n",
      "epoch: 07, loss: -0.94634\n",
      "epoch: 08, loss: -0.94788\n",
      "epoch: 09, loss: -0.94930\n",
      "torch.Size([1024, 64])\n"
     ]
    },
    {
     "name": "stderr",
     "output_type": "stream",
     "text": [
      " 15%|█▌        | 153/999 [2:57:20<15:10:11, 64.55s/it]"
     ]
    },
    {
     "name": "stdout",
     "output_type": "stream",
     "text": [
      "eigenvalues shape torch.Size([5]) eigenvectors shape torch.Size([5, 1024])\n",
      "153 /home/phdcs2/Hard_Disk/Datasets/Deep-Spectral-Segmentation/data/object-segmentation/ECSSD/features/0155_resized.pth\n",
      "dict_keys(['k', 'indices', 'file', 'id', 'model_name', 'patch_size', 'shape'])\n",
      "0155_resized\n"
     ]
    },
    {
     "name": "stderr",
     "output_type": "stream",
     "text": [
      "/home/phdcs2/Hard_Disk/Projects/T2I/deep-spectral-segmentation/venv/lib/python3.8/site-packages/sklearn/decomposition/_pca.py:642: RuntimeWarning: invalid value encountered in divide\n",
      "  self.explained_variance_ratio_ = self.explained_variance_ / total_var\n"
     ]
    },
    {
     "name": "stdout",
     "output_type": "stream",
     "text": [
      "Starting Training\n",
      "epoch: 00, loss: -0.89289\n",
      "epoch: 01, loss: -0.91751\n",
      "epoch: 02, loss: -0.92395\n",
      "epoch: 03, loss: -0.92821\n",
      "epoch: 04, loss: -0.93151\n",
      "epoch: 05, loss: -0.93401\n",
      "epoch: 06, loss: -0.93616\n",
      "epoch: 07, loss: -0.93794\n",
      "epoch: 08, loss: -0.93954\n",
      "epoch: 09, loss: -0.94089\n",
      "torch.Size([1024, 64])\n"
     ]
    },
    {
     "name": "stderr",
     "output_type": "stream",
     "text": [
      " 15%|█▌        | 154/999 [2:58:22<14:56:10, 63.63s/it]"
     ]
    },
    {
     "name": "stdout",
     "output_type": "stream",
     "text": [
      "eigenvalues shape torch.Size([5]) eigenvectors shape torch.Size([5, 1024])\n",
      "154 /home/phdcs2/Hard_Disk/Datasets/Deep-Spectral-Segmentation/data/object-segmentation/ECSSD/features/0156_resized.pth\n",
      "dict_keys(['k', 'indices', 'file', 'id', 'model_name', 'patch_size', 'shape'])\n",
      "0156_resized\n"
     ]
    },
    {
     "name": "stderr",
     "output_type": "stream",
     "text": [
      "/home/phdcs2/Hard_Disk/Projects/T2I/deep-spectral-segmentation/venv/lib/python3.8/site-packages/sklearn/decomposition/_pca.py:642: RuntimeWarning: invalid value encountered in divide\n",
      "  self.explained_variance_ratio_ = self.explained_variance_ / total_var\n"
     ]
    },
    {
     "name": "stdout",
     "output_type": "stream",
     "text": [
      "Starting Training\n",
      "epoch: 00, loss: -0.91015\n",
      "epoch: 01, loss: -0.93374\n",
      "epoch: 02, loss: -0.93985\n",
      "epoch: 03, loss: -0.94372\n",
      "epoch: 04, loss: -0.94665\n",
      "epoch: 05, loss: -0.94893\n",
      "epoch: 06, loss: -0.95081\n",
      "epoch: 07, loss: -0.95239\n",
      "epoch: 08, loss: -0.95375\n",
      "epoch: 09, loss: -0.95496\n",
      "torch.Size([1024, 64])\n"
     ]
    },
    {
     "name": "stderr",
     "output_type": "stream",
     "text": [
      " 16%|█▌        | 155/999 [2:59:22<14:39:50, 62.55s/it]"
     ]
    },
    {
     "name": "stdout",
     "output_type": "stream",
     "text": [
      "eigenvalues shape torch.Size([5]) eigenvectors shape torch.Size([5, 1024])\n",
      "155 /home/phdcs2/Hard_Disk/Datasets/Deep-Spectral-Segmentation/data/object-segmentation/ECSSD/features/0157_resized.pth\n",
      "dict_keys(['k', 'indices', 'file', 'id', 'model_name', 'patch_size', 'shape'])\n",
      "0157_resized\n",
      "Starting Training\n",
      "epoch: 00, loss: -0.82955\n",
      "epoch: 01, loss: -0.86446\n",
      "epoch: 02, loss: -0.87737\n",
      "epoch: 03, loss: -0.88560\n",
      "epoch: 04, loss: -0.89197\n",
      "epoch: 05, loss: -0.89705\n",
      "epoch: 06, loss: -0.90166\n",
      "epoch: 07, loss: -0.90527\n",
      "epoch: 08, loss: -0.90849\n",
      "epoch: 09, loss: -0.91142\n",
      "torch.Size([1024, 64])\n"
     ]
    },
    {
     "name": "stderr",
     "output_type": "stream",
     "text": [
      " 16%|█▌        | 156/999 [3:00:16<14:03:35, 60.04s/it]"
     ]
    },
    {
     "name": "stdout",
     "output_type": "stream",
     "text": [
      "eigenvalues shape torch.Size([5]) eigenvectors shape torch.Size([5, 1024])\n",
      "156 /home/phdcs2/Hard_Disk/Datasets/Deep-Spectral-Segmentation/data/object-segmentation/ECSSD/features/0158_resized.pth\n",
      "dict_keys(['k', 'indices', 'file', 'id', 'model_name', 'patch_size', 'shape'])\n",
      "0158_resized\n",
      "Starting Training\n",
      "epoch: 00, loss: -0.86483\n",
      "epoch: 01, loss: -0.89510\n",
      "epoch: 02, loss: -0.90419\n",
      "epoch: 03, loss: -0.91026\n",
      "epoch: 04, loss: -0.91485\n",
      "epoch: 05, loss: -0.91821\n",
      "epoch: 06, loss: -0.92113\n",
      "epoch: 07, loss: -0.92347\n",
      "epoch: 08, loss: -0.92561\n",
      "epoch: 09, loss: -0.92756\n",
      "torch.Size([1024, 64])\n"
     ]
    },
    {
     "name": "stderr",
     "output_type": "stream",
     "text": [
      " 16%|█▌        | 157/999 [3:01:19<14:13:55, 60.85s/it]"
     ]
    },
    {
     "name": "stdout",
     "output_type": "stream",
     "text": [
      "eigenvalues shape torch.Size([5]) eigenvectors shape torch.Size([5, 1024])\n",
      "157 /home/phdcs2/Hard_Disk/Datasets/Deep-Spectral-Segmentation/data/object-segmentation/ECSSD/features/0159_resized.pth\n",
      "dict_keys(['k', 'indices', 'file', 'id', 'model_name', 'patch_size', 'shape'])\n",
      "0159_resized\n",
      "Starting Training\n",
      "epoch: 00, loss: -0.88789\n",
      "epoch: 01, loss: -0.91394\n",
      "epoch: 02, loss: -0.92176\n",
      "epoch: 03, loss: -0.92686\n",
      "epoch: 04, loss: -0.93051\n",
      "epoch: 05, loss: -0.93348\n",
      "epoch: 06, loss: -0.93587\n",
      "epoch: 07, loss: -0.93792\n",
      "epoch: 08, loss: -0.93969\n",
      "epoch: 09, loss: -0.94128\n",
      "torch.Size([1024, 64])\n"
     ]
    },
    {
     "name": "stderr",
     "output_type": "stream",
     "text": [
      " 16%|█▌        | 158/999 [3:02:26<14:39:59, 62.78s/it]"
     ]
    },
    {
     "name": "stdout",
     "output_type": "stream",
     "text": [
      "eigenvalues shape torch.Size([5]) eigenvectors shape torch.Size([5, 1024])\n",
      "158 /home/phdcs2/Hard_Disk/Datasets/Deep-Spectral-Segmentation/data/object-segmentation/ECSSD/features/0160_resized.pth\n",
      "dict_keys(['k', 'indices', 'file', 'id', 'model_name', 'patch_size', 'shape'])\n",
      "0160_resized\n",
      "Starting Training\n",
      "epoch: 00, loss: -0.77972\n",
      "epoch: 01, loss: -0.82327\n",
      "epoch: 02, loss: -0.84008\n",
      "epoch: 03, loss: -0.85158\n",
      "epoch: 04, loss: -0.85993\n",
      "epoch: 05, loss: -0.86689\n",
      "epoch: 06, loss: -0.87252\n",
      "epoch: 07, loss: -0.87738\n",
      "epoch: 08, loss: -0.88123\n",
      "epoch: 09, loss: -0.88490\n",
      "torch.Size([1024, 64])\n"
     ]
    },
    {
     "name": "stderr",
     "output_type": "stream",
     "text": [
      " 16%|█▌        | 159/999 [3:03:37<15:12:08, 65.15s/it]"
     ]
    },
    {
     "name": "stdout",
     "output_type": "stream",
     "text": [
      "eigenvalues shape torch.Size([5]) eigenvectors shape torch.Size([5, 1024])\n",
      "159 /home/phdcs2/Hard_Disk/Datasets/Deep-Spectral-Segmentation/data/object-segmentation/ECSSD/features/0161_resized.pth\n",
      "dict_keys(['k', 'indices', 'file', 'id', 'model_name', 'patch_size', 'shape'])\n",
      "0161_resized\n"
     ]
    },
    {
     "name": "stderr",
     "output_type": "stream",
     "text": [
      "/home/phdcs2/Hard_Disk/Projects/T2I/deep-spectral-segmentation/venv/lib/python3.8/site-packages/sklearn/decomposition/_pca.py:642: RuntimeWarning: invalid value encountered in divide\n",
      "  self.explained_variance_ratio_ = self.explained_variance_ / total_var\n"
     ]
    },
    {
     "name": "stdout",
     "output_type": "stream",
     "text": [
      "Starting Training\n",
      "epoch: 00, loss: -0.87650\n",
      "epoch: 01, loss: -0.90307\n",
      "epoch: 02, loss: -0.91088\n",
      "epoch: 03, loss: -0.91608\n",
      "epoch: 04, loss: -0.91992\n",
      "epoch: 05, loss: -0.92302\n",
      "epoch: 06, loss: -0.92545\n",
      "epoch: 07, loss: -0.92761\n",
      "epoch: 08, loss: -0.92961\n",
      "epoch: 09, loss: -0.93111\n",
      "torch.Size([1024, 64])\n"
     ]
    },
    {
     "name": "stderr",
     "output_type": "stream",
     "text": [
      " 16%|█▌        | 160/999 [3:04:46<15:27:49, 66.35s/it]"
     ]
    },
    {
     "name": "stdout",
     "output_type": "stream",
     "text": [
      "eigenvalues shape torch.Size([5]) eigenvectors shape torch.Size([5, 1024])\n",
      "160 /home/phdcs2/Hard_Disk/Datasets/Deep-Spectral-Segmentation/data/object-segmentation/ECSSD/features/0162_resized.pth\n",
      "dict_keys(['k', 'indices', 'file', 'id', 'model_name', 'patch_size', 'shape'])\n",
      "0162_resized\n"
     ]
    },
    {
     "name": "stderr",
     "output_type": "stream",
     "text": [
      "/home/phdcs2/Hard_Disk/Projects/T2I/deep-spectral-segmentation/venv/lib/python3.8/site-packages/sklearn/decomposition/_pca.py:642: RuntimeWarning: invalid value encountered in divide\n",
      "  self.explained_variance_ratio_ = self.explained_variance_ / total_var\n"
     ]
    },
    {
     "name": "stdout",
     "output_type": "stream",
     "text": [
      "Starting Training\n",
      "epoch: 00, loss: -0.89173\n",
      "epoch: 01, loss: -0.91730\n",
      "epoch: 02, loss: -0.92456\n",
      "epoch: 03, loss: -0.92940\n",
      "epoch: 04, loss: -0.93300\n",
      "epoch: 05, loss: -0.93583\n",
      "epoch: 06, loss: -0.93816\n",
      "epoch: 07, loss: -0.94020\n",
      "epoch: 08, loss: -0.94194\n",
      "epoch: 09, loss: -0.94345\n",
      "torch.Size([1024, 64])\n"
     ]
    },
    {
     "name": "stderr",
     "output_type": "stream",
     "text": [
      " 16%|█▌        | 161/999 [3:05:49<15:13:59, 65.44s/it]"
     ]
    },
    {
     "name": "stdout",
     "output_type": "stream",
     "text": [
      "eigenvalues shape torch.Size([5]) eigenvectors shape torch.Size([5, 1024])\n",
      "161 /home/phdcs2/Hard_Disk/Datasets/Deep-Spectral-Segmentation/data/object-segmentation/ECSSD/features/0163_resized.pth\n",
      "dict_keys(['k', 'indices', 'file', 'id', 'model_name', 'patch_size', 'shape'])\n",
      "0163_resized\n",
      "Starting Training\n",
      "epoch: 00, loss: -0.80816\n",
      "epoch: 01, loss: -0.85170\n",
      "epoch: 02, loss: -0.86669\n",
      "epoch: 03, loss: -0.87630\n",
      "epoch: 04, loss: -0.88357\n",
      "epoch: 05, loss: -0.88928\n",
      "epoch: 06, loss: -0.89391\n",
      "epoch: 07, loss: -0.89776\n",
      "epoch: 08, loss: -0.90125\n",
      "epoch: 09, loss: -0.90415\n",
      "torch.Size([1024, 64])\n"
     ]
    },
    {
     "name": "stderr",
     "output_type": "stream",
     "text": [
      " 16%|█▌        | 162/999 [3:07:01<15:38:34, 67.28s/it]"
     ]
    },
    {
     "name": "stdout",
     "output_type": "stream",
     "text": [
      "eigenvalues shape torch.Size([5]) eigenvectors shape torch.Size([5, 1024])\n",
      "162 /home/phdcs2/Hard_Disk/Datasets/Deep-Spectral-Segmentation/data/object-segmentation/ECSSD/features/0164_resized.pth\n",
      "dict_keys(['k', 'indices', 'file', 'id', 'model_name', 'patch_size', 'shape'])\n",
      "0164_resized\n"
     ]
    },
    {
     "name": "stderr",
     "output_type": "stream",
     "text": [
      "/home/phdcs2/Hard_Disk/Projects/T2I/deep-spectral-segmentation/venv/lib/python3.8/site-packages/sklearn/decomposition/_pca.py:642: RuntimeWarning: invalid value encountered in divide\n",
      "  self.explained_variance_ratio_ = self.explained_variance_ / total_var\n"
     ]
    },
    {
     "name": "stdout",
     "output_type": "stream",
     "text": [
      "Starting Training\n",
      "epoch: 00, loss: -0.92519\n",
      "epoch: 01, loss: -0.94381\n",
      "epoch: 02, loss: -0.94818\n",
      "epoch: 03, loss: -0.95111\n",
      "epoch: 04, loss: -0.95332\n",
      "epoch: 05, loss: -0.95504\n",
      "epoch: 06, loss: -0.95654\n",
      "epoch: 07, loss: -0.95778\n",
      "epoch: 08, loss: -0.95889\n",
      "epoch: 09, loss: -0.95986\n",
      "torch.Size([1024, 64])\n"
     ]
    },
    {
     "name": "stderr",
     "output_type": "stream",
     "text": [
      " 16%|█▋        | 163/999 [3:08:16<16:09:41, 69.60s/it]"
     ]
    },
    {
     "name": "stdout",
     "output_type": "stream",
     "text": [
      "eigenvalues shape torch.Size([5]) eigenvectors shape torch.Size([5, 1024])\n",
      "163 /home/phdcs2/Hard_Disk/Datasets/Deep-Spectral-Segmentation/data/object-segmentation/ECSSD/features/0165_resized.pth\n",
      "dict_keys(['k', 'indices', 'file', 'id', 'model_name', 'patch_size', 'shape'])\n",
      "0165_resized\n",
      "Starting Training\n",
      "epoch: 00, loss: -0.75728\n",
      "epoch: 01, loss: -0.80037\n",
      "epoch: 02, loss: -0.81799\n",
      "epoch: 03, loss: -0.83135\n",
      "epoch: 04, loss: -0.84225\n",
      "epoch: 05, loss: -0.85072\n",
      "epoch: 06, loss: -0.85749\n",
      "epoch: 07, loss: -0.86387\n",
      "epoch: 08, loss: -0.86847\n",
      "epoch: 09, loss: -0.87288\n",
      "torch.Size([1024, 64])\n"
     ]
    },
    {
     "name": "stderr",
     "output_type": "stream",
     "text": [
      " 16%|█▋        | 164/999 [3:09:31<16:31:06, 71.22s/it]"
     ]
    },
    {
     "name": "stdout",
     "output_type": "stream",
     "text": [
      "eigenvalues shape torch.Size([5]) eigenvectors shape torch.Size([5, 1024])\n",
      "164 /home/phdcs2/Hard_Disk/Datasets/Deep-Spectral-Segmentation/data/object-segmentation/ECSSD/features/0166_resized.pth\n",
      "dict_keys(['k', 'indices', 'file', 'id', 'model_name', 'patch_size', 'shape'])\n",
      "0166_resized\n"
     ]
    },
    {
     "name": "stderr",
     "output_type": "stream",
     "text": [
      "/home/phdcs2/Hard_Disk/Projects/T2I/deep-spectral-segmentation/venv/lib/python3.8/site-packages/sklearn/decomposition/_pca.py:642: RuntimeWarning: invalid value encountered in divide\n",
      "  self.explained_variance_ratio_ = self.explained_variance_ / total_var\n"
     ]
    },
    {
     "name": "stdout",
     "output_type": "stream",
     "text": [
      "Starting Training\n",
      "epoch: 00, loss: -0.90568\n",
      "epoch: 01, loss: -0.92969\n",
      "epoch: 02, loss: -0.93522\n",
      "epoch: 03, loss: -0.93895\n",
      "epoch: 04, loss: -0.94180\n",
      "epoch: 05, loss: -0.94404\n",
      "epoch: 06, loss: -0.94586\n",
      "epoch: 07, loss: -0.94743\n",
      "epoch: 08, loss: -0.94883\n",
      "epoch: 09, loss: -0.95009\n",
      "torch.Size([1024, 64])\n"
     ]
    },
    {
     "name": "stderr",
     "output_type": "stream",
     "text": [
      " 17%|█▋        | 165/999 [3:10:42<16:29:28, 71.19s/it]"
     ]
    },
    {
     "name": "stdout",
     "output_type": "stream",
     "text": [
      "eigenvalues shape torch.Size([5]) eigenvectors shape torch.Size([5, 1024])\n",
      "165 /home/phdcs2/Hard_Disk/Datasets/Deep-Spectral-Segmentation/data/object-segmentation/ECSSD/features/0167_resized.pth\n",
      "dict_keys(['k', 'indices', 'file', 'id', 'model_name', 'patch_size', 'shape'])\n",
      "0167_resized\n",
      "Starting Training\n",
      "epoch: 00, loss: -0.80263\n",
      "epoch: 01, loss: -0.84658\n",
      "epoch: 02, loss: -0.86280\n",
      "epoch: 03, loss: -0.87376\n",
      "epoch: 04, loss: -0.88224\n",
      "epoch: 05, loss: -0.88879\n",
      "epoch: 06, loss: -0.89403\n",
      "epoch: 07, loss: -0.89878\n",
      "epoch: 08, loss: -0.90299\n",
      "epoch: 09, loss: -0.90660\n",
      "torch.Size([1024, 64])\n"
     ]
    },
    {
     "name": "stderr",
     "output_type": "stream",
     "text": [
      " 17%|█▋        | 166/999 [3:11:43<15:45:53, 68.13s/it]"
     ]
    },
    {
     "name": "stdout",
     "output_type": "stream",
     "text": [
      "eigenvalues shape torch.Size([5]) eigenvectors shape torch.Size([5, 1024])\n",
      "166 /home/phdcs2/Hard_Disk/Datasets/Deep-Spectral-Segmentation/data/object-segmentation/ECSSD/features/0168_resized.pth\n",
      "dict_keys(['k', 'indices', 'file', 'id', 'model_name', 'patch_size', 'shape'])\n",
      "0168_resized\n"
     ]
    },
    {
     "name": "stderr",
     "output_type": "stream",
     "text": [
      "/home/phdcs2/Hard_Disk/Projects/T2I/deep-spectral-segmentation/venv/lib/python3.8/site-packages/sklearn/decomposition/_pca.py:642: RuntimeWarning: invalid value encountered in divide\n",
      "  self.explained_variance_ratio_ = self.explained_variance_ / total_var\n"
     ]
    },
    {
     "name": "stdout",
     "output_type": "stream",
     "text": [
      "Starting Training\n",
      "epoch: 00, loss: -0.90261\n",
      "epoch: 01, loss: -0.92592\n",
      "epoch: 02, loss: -0.93198\n",
      "epoch: 03, loss: -0.93596\n",
      "epoch: 04, loss: -0.93885\n",
      "epoch: 05, loss: -0.94120\n",
      "epoch: 06, loss: -0.94313\n",
      "epoch: 07, loss: -0.94481\n",
      "epoch: 08, loss: -0.94624\n",
      "epoch: 09, loss: -0.94758\n",
      "torch.Size([1024, 64])\n"
     ]
    },
    {
     "name": "stderr",
     "output_type": "stream",
     "text": [
      " 17%|█▋        | 167/999 [3:12:57<16:08:35, 69.85s/it]"
     ]
    },
    {
     "name": "stdout",
     "output_type": "stream",
     "text": [
      "eigenvalues shape torch.Size([5]) eigenvectors shape torch.Size([5, 1024])\n",
      "167 /home/phdcs2/Hard_Disk/Datasets/Deep-Spectral-Segmentation/data/object-segmentation/ECSSD/features/0169_resized.pth\n",
      "dict_keys(['k', 'indices', 'file', 'id', 'model_name', 'patch_size', 'shape'])\n",
      "0169_resized\n"
     ]
    },
    {
     "name": "stderr",
     "output_type": "stream",
     "text": [
      "/home/phdcs2/Hard_Disk/Projects/T2I/deep-spectral-segmentation/venv/lib/python3.8/site-packages/sklearn/decomposition/_pca.py:642: RuntimeWarning: invalid value encountered in divide\n",
      "  self.explained_variance_ratio_ = self.explained_variance_ / total_var\n"
     ]
    },
    {
     "name": "stdout",
     "output_type": "stream",
     "text": [
      "Starting Training\n",
      "epoch: 00, loss: -0.88024\n",
      "epoch: 01, loss: -0.90564\n",
      "epoch: 02, loss: -0.91289\n",
      "epoch: 03, loss: -0.91770\n",
      "epoch: 04, loss: -0.92143\n",
      "epoch: 05, loss: -0.92436\n",
      "epoch: 06, loss: -0.92680\n",
      "epoch: 07, loss: -0.92894\n",
      "epoch: 08, loss: -0.93082\n",
      "epoch: 09, loss: -0.93246\n",
      "torch.Size([1024, 64])\n"
     ]
    },
    {
     "name": "stderr",
     "output_type": "stream",
     "text": [
      " 17%|█▋        | 168/999 [3:14:11<16:24:56, 71.11s/it]"
     ]
    },
    {
     "name": "stdout",
     "output_type": "stream",
     "text": [
      "eigenvalues shape torch.Size([5]) eigenvectors shape torch.Size([5, 1024])\n",
      "168 /home/phdcs2/Hard_Disk/Datasets/Deep-Spectral-Segmentation/data/object-segmentation/ECSSD/features/0170_resized.pth\n",
      "dict_keys(['k', 'indices', 'file', 'id', 'model_name', 'patch_size', 'shape'])\n",
      "0170_resized\n"
     ]
    },
    {
     "name": "stderr",
     "output_type": "stream",
     "text": [
      "/home/phdcs2/Hard_Disk/Projects/T2I/deep-spectral-segmentation/venv/lib/python3.8/site-packages/sklearn/decomposition/_pca.py:642: RuntimeWarning: invalid value encountered in divide\n",
      "  self.explained_variance_ratio_ = self.explained_variance_ / total_var\n"
     ]
    },
    {
     "name": "stdout",
     "output_type": "stream",
     "text": [
      "Starting Training\n",
      "epoch: 00, loss: -0.92065\n",
      "epoch: 01, loss: -0.94115\n",
      "epoch: 02, loss: -0.94634\n",
      "epoch: 03, loss: -0.94960\n",
      "epoch: 04, loss: -0.95203\n",
      "epoch: 05, loss: -0.95396\n",
      "epoch: 06, loss: -0.95551\n",
      "epoch: 07, loss: -0.95689\n",
      "epoch: 08, loss: -0.95801\n",
      "epoch: 09, loss: -0.95904\n",
      "torch.Size([1024, 64])\n"
     ]
    },
    {
     "name": "stderr",
     "output_type": "stream",
     "text": [
      " 17%|█▋        | 169/999 [3:15:20<16:14:04, 70.42s/it]"
     ]
    },
    {
     "name": "stdout",
     "output_type": "stream",
     "text": [
      "eigenvalues shape torch.Size([5]) eigenvectors shape torch.Size([5, 1024])\n",
      "169 /home/phdcs2/Hard_Disk/Datasets/Deep-Spectral-Segmentation/data/object-segmentation/ECSSD/features/0171_resized.pth\n",
      "dict_keys(['k', 'indices', 'file', 'id', 'model_name', 'patch_size', 'shape'])\n",
      "0171_resized\n",
      "Starting Training\n",
      "epoch: 00, loss: -0.79490\n",
      "epoch: 01, loss: -0.84282\n",
      "epoch: 02, loss: -0.85925\n",
      "epoch: 03, loss: -0.87050\n",
      "epoch: 04, loss: -0.87891\n",
      "epoch: 05, loss: -0.88547\n",
      "epoch: 06, loss: -0.89079\n",
      "epoch: 07, loss: -0.89524\n",
      "epoch: 08, loss: -0.89922\n",
      "epoch: 09, loss: -0.90257\n",
      "torch.Size([1024, 64])\n"
     ]
    },
    {
     "name": "stderr",
     "output_type": "stream",
     "text": [
      " 17%|█▋        | 170/999 [3:16:30<16:14:05, 70.50s/it]"
     ]
    },
    {
     "name": "stdout",
     "output_type": "stream",
     "text": [
      "eigenvalues shape torch.Size([5]) eigenvectors shape torch.Size([5, 1024])\n",
      "170 /home/phdcs2/Hard_Disk/Datasets/Deep-Spectral-Segmentation/data/object-segmentation/ECSSD/features/0172_resized.pth\n",
      "dict_keys(['k', 'indices', 'file', 'id', 'model_name', 'patch_size', 'shape'])\n",
      "0172_resized\n"
     ]
    },
    {
     "name": "stderr",
     "output_type": "stream",
     "text": [
      "/home/phdcs2/Hard_Disk/Projects/T2I/deep-spectral-segmentation/venv/lib/python3.8/site-packages/sklearn/decomposition/_pca.py:642: RuntimeWarning: invalid value encountered in divide\n",
      "  self.explained_variance_ratio_ = self.explained_variance_ / total_var\n"
     ]
    },
    {
     "name": "stdout",
     "output_type": "stream",
     "text": [
      "Starting Training\n",
      "epoch: 00, loss: -0.90648\n",
      "epoch: 01, loss: -0.92845\n",
      "epoch: 02, loss: -0.93493\n",
      "epoch: 03, loss: -0.93927\n",
      "epoch: 04, loss: -0.94247\n",
      "epoch: 05, loss: -0.94498\n",
      "epoch: 06, loss: -0.94710\n",
      "epoch: 07, loss: -0.94890\n",
      "epoch: 08, loss: -0.95044\n",
      "epoch: 09, loss: -0.95181\n",
      "torch.Size([1024, 64])\n"
     ]
    },
    {
     "name": "stderr",
     "output_type": "stream",
     "text": [
      " 17%|█▋        | 171/999 [3:17:38<15:59:38, 69.54s/it]"
     ]
    },
    {
     "name": "stdout",
     "output_type": "stream",
     "text": [
      "eigenvalues shape torch.Size([5]) eigenvectors shape torch.Size([5, 1024])\n",
      "171 /home/phdcs2/Hard_Disk/Datasets/Deep-Spectral-Segmentation/data/object-segmentation/ECSSD/features/0173_resized.pth\n",
      "dict_keys(['k', 'indices', 'file', 'id', 'model_name', 'patch_size', 'shape'])\n",
      "0173_resized\n",
      "Starting Training\n",
      "epoch: 00, loss: -0.81246\n",
      "epoch: 01, loss: -0.84859\n",
      "epoch: 02, loss: -0.86349\n",
      "epoch: 03, loss: -0.87311\n",
      "epoch: 04, loss: -0.88081\n",
      "epoch: 05, loss: -0.88708\n",
      "epoch: 06, loss: -0.89211\n",
      "epoch: 07, loss: -0.89642\n",
      "epoch: 08, loss: -0.90016\n",
      "epoch: 09, loss: -0.90319\n",
      "torch.Size([1024, 64])\n"
     ]
    },
    {
     "name": "stderr",
     "output_type": "stream",
     "text": [
      " 17%|█▋        | 172/999 [3:18:48<16:03:31, 69.91s/it]"
     ]
    },
    {
     "name": "stdout",
     "output_type": "stream",
     "text": [
      "eigenvalues shape torch.Size([5]) eigenvectors shape torch.Size([5, 1024])\n",
      "172 /home/phdcs2/Hard_Disk/Datasets/Deep-Spectral-Segmentation/data/object-segmentation/ECSSD/features/0174_resized.pth\n",
      "dict_keys(['k', 'indices', 'file', 'id', 'model_name', 'patch_size', 'shape'])\n",
      "0174_resized\n"
     ]
    },
    {
     "name": "stderr",
     "output_type": "stream",
     "text": [
      "/home/phdcs2/Hard_Disk/Projects/T2I/deep-spectral-segmentation/venv/lib/python3.8/site-packages/sklearn/decomposition/_pca.py:642: RuntimeWarning: invalid value encountered in divide\n",
      "  self.explained_variance_ratio_ = self.explained_variance_ / total_var\n"
     ]
    },
    {
     "name": "stdout",
     "output_type": "stream",
     "text": [
      "Starting Training\n",
      "epoch: 00, loss: -0.91928\n",
      "epoch: 01, loss: -0.93950\n",
      "epoch: 02, loss: -0.94462\n",
      "epoch: 03, loss: -0.94783\n",
      "epoch: 04, loss: -0.95024\n",
      "epoch: 05, loss: -0.95219\n",
      "epoch: 06, loss: -0.95368\n",
      "epoch: 07, loss: -0.95501\n",
      "epoch: 08, loss: -0.95620\n",
      "epoch: 09, loss: -0.95719\n",
      "torch.Size([1024, 64])\n"
     ]
    },
    {
     "name": "stderr",
     "output_type": "stream",
     "text": [
      " 17%|█▋        | 173/999 [3:20:04<16:24:58, 71.55s/it]"
     ]
    },
    {
     "name": "stdout",
     "output_type": "stream",
     "text": [
      "eigenvalues shape torch.Size([5]) eigenvectors shape torch.Size([5, 1024])\n",
      "173 /home/phdcs2/Hard_Disk/Datasets/Deep-Spectral-Segmentation/data/object-segmentation/ECSSD/features/0175_resized.pth\n",
      "dict_keys(['k', 'indices', 'file', 'id', 'model_name', 'patch_size', 'shape'])\n",
      "0175_resized\n"
     ]
    },
    {
     "name": "stderr",
     "output_type": "stream",
     "text": [
      "/home/phdcs2/Hard_Disk/Projects/T2I/deep-spectral-segmentation/venv/lib/python3.8/site-packages/sklearn/decomposition/_pca.py:642: RuntimeWarning: invalid value encountered in divide\n",
      "  self.explained_variance_ratio_ = self.explained_variance_ / total_var\n"
     ]
    },
    {
     "name": "stdout",
     "output_type": "stream",
     "text": [
      "Starting Training\n",
      "epoch: 00, loss: -0.89889\n",
      "epoch: 01, loss: -0.91934\n",
      "epoch: 02, loss: -0.92511\n",
      "epoch: 03, loss: -0.92910\n",
      "epoch: 04, loss: -0.93206\n",
      "epoch: 05, loss: -0.93447\n",
      "epoch: 06, loss: -0.93646\n",
      "epoch: 07, loss: -0.93810\n",
      "epoch: 08, loss: -0.93960\n",
      "epoch: 09, loss: -0.94088\n",
      "torch.Size([1024, 64])\n"
     ]
    },
    {
     "name": "stderr",
     "output_type": "stream",
     "text": [
      " 17%|█▋        | 174/999 [3:21:19<16:37:12, 72.52s/it]"
     ]
    },
    {
     "name": "stdout",
     "output_type": "stream",
     "text": [
      "eigenvalues shape torch.Size([5]) eigenvectors shape torch.Size([5, 1024])\n",
      "174 /home/phdcs2/Hard_Disk/Datasets/Deep-Spectral-Segmentation/data/object-segmentation/ECSSD/features/0176_resized.pth\n",
      "dict_keys(['k', 'indices', 'file', 'id', 'model_name', 'patch_size', 'shape'])\n",
      "0176_resized\n"
     ]
    },
    {
     "name": "stderr",
     "output_type": "stream",
     "text": [
      "/home/phdcs2/Hard_Disk/Projects/T2I/deep-spectral-segmentation/venv/lib/python3.8/site-packages/sklearn/decomposition/_pca.py:642: RuntimeWarning: invalid value encountered in divide\n",
      "  self.explained_variance_ratio_ = self.explained_variance_ / total_var\n"
     ]
    },
    {
     "name": "stdout",
     "output_type": "stream",
     "text": [
      "Starting Training\n",
      "epoch: 00, loss: -0.89091\n",
      "epoch: 01, loss: -0.91561\n",
      "epoch: 02, loss: -0.92236\n",
      "epoch: 03, loss: -0.92696\n",
      "epoch: 04, loss: -0.93047\n",
      "epoch: 05, loss: -0.93327\n",
      "epoch: 06, loss: -0.93565\n",
      "epoch: 07, loss: -0.93767\n",
      "epoch: 08, loss: -0.93948\n",
      "epoch: 09, loss: -0.94101\n",
      "torch.Size([1024, 64])\n"
     ]
    },
    {
     "name": "stderr",
     "output_type": "stream",
     "text": [
      " 18%|█▊        | 175/999 [3:22:32<16:38:03, 72.67s/it]"
     ]
    },
    {
     "name": "stdout",
     "output_type": "stream",
     "text": [
      "eigenvalues shape torch.Size([5]) eigenvectors shape torch.Size([5, 1024])\n",
      "175 /home/phdcs2/Hard_Disk/Datasets/Deep-Spectral-Segmentation/data/object-segmentation/ECSSD/features/0177_resized.pth\n",
      "dict_keys(['k', 'indices', 'file', 'id', 'model_name', 'patch_size', 'shape'])\n",
      "0177_resized\n",
      "Starting Training\n",
      "epoch: 00, loss: -0.86962\n",
      "epoch: 01, loss: -0.89823\n",
      "epoch: 02, loss: -0.90780\n",
      "epoch: 03, loss: -0.91395\n",
      "epoch: 04, loss: -0.91872\n",
      "epoch: 05, loss: -0.92264\n",
      "epoch: 06, loss: -0.92604\n",
      "epoch: 07, loss: -0.92874\n",
      "epoch: 08, loss: -0.93118\n",
      "epoch: 09, loss: -0.93336\n",
      "torch.Size([1024, 64])\n"
     ]
    },
    {
     "name": "stderr",
     "output_type": "stream",
     "text": [
      " 18%|█▊        | 176/999 [3:23:47<16:48:36, 73.53s/it]"
     ]
    },
    {
     "name": "stdout",
     "output_type": "stream",
     "text": [
      "eigenvalues shape torch.Size([5]) eigenvectors shape torch.Size([5, 1024])\n",
      "176 /home/phdcs2/Hard_Disk/Datasets/Deep-Spectral-Segmentation/data/object-segmentation/ECSSD/features/0178_resized.pth\n",
      "dict_keys(['k', 'indices', 'file', 'id', 'model_name', 'patch_size', 'shape'])\n",
      "0178_resized\n",
      "Starting Training\n",
      "epoch: 00, loss: -0.89334\n",
      "epoch: 01, loss: -0.92346\n",
      "epoch: 02, loss: -0.93172\n",
      "epoch: 03, loss: -0.93701\n",
      "epoch: 04, loss: -0.94093\n",
      "epoch: 05, loss: -0.94379\n",
      "epoch: 06, loss: -0.94627\n",
      "epoch: 07, loss: -0.94822\n",
      "epoch: 08, loss: -0.94993\n",
      "epoch: 09, loss: -0.95147\n",
      "torch.Size([1024, 64])\n"
     ]
    },
    {
     "name": "stderr",
     "output_type": "stream",
     "text": [
      " 18%|█▊        | 177/999 [3:24:57<16:31:19, 72.36s/it]"
     ]
    },
    {
     "name": "stdout",
     "output_type": "stream",
     "text": [
      "eigenvalues shape torch.Size([5]) eigenvectors shape torch.Size([5, 1024])\n",
      "177 /home/phdcs2/Hard_Disk/Datasets/Deep-Spectral-Segmentation/data/object-segmentation/ECSSD/features/0179_resized.pth\n",
      "dict_keys(['k', 'indices', 'file', 'id', 'model_name', 'patch_size', 'shape'])\n",
      "0179_resized\n",
      "Starting Training\n",
      "epoch: 00, loss: -0.79720\n",
      "epoch: 01, loss: -0.83301\n",
      "epoch: 02, loss: -0.84638\n",
      "epoch: 03, loss: -0.85540\n",
      "epoch: 04, loss: -0.86276\n",
      "epoch: 05, loss: -0.86822\n",
      "epoch: 06, loss: -0.87306\n",
      "epoch: 07, loss: -0.87717\n",
      "epoch: 08, loss: -0.88079\n",
      "epoch: 09, loss: -0.88375\n",
      "torch.Size([1024, 64])\n"
     ]
    },
    {
     "name": "stderr",
     "output_type": "stream",
     "text": [
      " 18%|█▊        | 178/999 [3:26:10<16:33:46, 72.63s/it]"
     ]
    },
    {
     "name": "stdout",
     "output_type": "stream",
     "text": [
      "eigenvalues shape torch.Size([5]) eigenvectors shape torch.Size([5, 1024])\n",
      "178 /home/phdcs2/Hard_Disk/Datasets/Deep-Spectral-Segmentation/data/object-segmentation/ECSSD/features/0180_resized.pth\n",
      "dict_keys(['k', 'indices', 'file', 'id', 'model_name', 'patch_size', 'shape'])\n",
      "0180_resized\n",
      "Starting Training\n",
      "epoch: 00, loss: -0.80425\n",
      "epoch: 01, loss: -0.84375\n",
      "epoch: 02, loss: -0.85838\n",
      "epoch: 03, loss: -0.86881\n",
      "epoch: 04, loss: -0.87651\n",
      "epoch: 05, loss: -0.88251\n",
      "epoch: 06, loss: -0.88834\n",
      "epoch: 07, loss: -0.89276\n",
      "epoch: 08, loss: -0.89677\n",
      "epoch: 09, loss: -0.90003\n",
      "torch.Size([1024, 64])\n"
     ]
    },
    {
     "name": "stderr",
     "output_type": "stream",
     "text": [
      " 18%|█▊        | 179/999 [3:27:25<16:42:17, 73.34s/it]"
     ]
    },
    {
     "name": "stdout",
     "output_type": "stream",
     "text": [
      "eigenvalues shape torch.Size([5]) eigenvectors shape torch.Size([5, 1024])\n",
      "179 /home/phdcs2/Hard_Disk/Datasets/Deep-Spectral-Segmentation/data/object-segmentation/ECSSD/features/0181_resized.pth\n",
      "dict_keys(['k', 'indices', 'file', 'id', 'model_name', 'patch_size', 'shape'])\n",
      "0181_resized\n"
     ]
    },
    {
     "name": "stderr",
     "output_type": "stream",
     "text": [
      "/home/phdcs2/Hard_Disk/Projects/T2I/deep-spectral-segmentation/venv/lib/python3.8/site-packages/sklearn/decomposition/_pca.py:642: RuntimeWarning: invalid value encountered in divide\n",
      "  self.explained_variance_ratio_ = self.explained_variance_ / total_var\n"
     ]
    },
    {
     "name": "stdout",
     "output_type": "stream",
     "text": [
      "Starting Training\n",
      "epoch: 00, loss: -0.89543\n",
      "epoch: 01, loss: -0.91861\n",
      "epoch: 02, loss: -0.92531\n",
      "epoch: 03, loss: -0.92972\n",
      "epoch: 04, loss: -0.93295\n",
      "epoch: 05, loss: -0.93560\n",
      "epoch: 06, loss: -0.93777\n",
      "epoch: 07, loss: -0.93959\n",
      "epoch: 08, loss: -0.94119\n",
      "epoch: 09, loss: -0.94264\n",
      "torch.Size([1024, 64])\n"
     ]
    },
    {
     "name": "stderr",
     "output_type": "stream",
     "text": [
      " 18%|█▊        | 180/999 [3:28:42<16:56:49, 74.49s/it]"
     ]
    },
    {
     "name": "stdout",
     "output_type": "stream",
     "text": [
      "eigenvalues shape torch.Size([5]) eigenvectors shape torch.Size([5, 1024])\n",
      "180 /home/phdcs2/Hard_Disk/Datasets/Deep-Spectral-Segmentation/data/object-segmentation/ECSSD/features/0182_resized.pth\n",
      "dict_keys(['k', 'indices', 'file', 'id', 'model_name', 'patch_size', 'shape'])\n",
      "0182_resized\n"
     ]
    },
    {
     "name": "stderr",
     "output_type": "stream",
     "text": [
      "/home/phdcs2/Hard_Disk/Projects/T2I/deep-spectral-segmentation/venv/lib/python3.8/site-packages/sklearn/decomposition/_pca.py:642: RuntimeWarning: invalid value encountered in divide\n",
      "  self.explained_variance_ratio_ = self.explained_variance_ / total_var\n"
     ]
    },
    {
     "name": "stdout",
     "output_type": "stream",
     "text": [
      "Starting Training\n",
      "epoch: 00, loss: -0.89239\n",
      "epoch: 01, loss: -0.91705\n",
      "epoch: 02, loss: -0.92411\n",
      "epoch: 03, loss: -0.92869\n",
      "epoch: 04, loss: -0.93217\n",
      "epoch: 05, loss: -0.93489\n",
      "epoch: 06, loss: -0.93718\n",
      "epoch: 07, loss: -0.93913\n",
      "epoch: 08, loss: -0.94079\n",
      "epoch: 09, loss: -0.94233\n",
      "torch.Size([1024, 64])\n"
     ]
    },
    {
     "name": "stderr",
     "output_type": "stream",
     "text": [
      " 18%|█▊        | 181/999 [3:29:53<16:40:11, 73.36s/it]"
     ]
    },
    {
     "name": "stdout",
     "output_type": "stream",
     "text": [
      "eigenvalues shape torch.Size([5]) eigenvectors shape torch.Size([5, 1024])\n",
      "181 /home/phdcs2/Hard_Disk/Datasets/Deep-Spectral-Segmentation/data/object-segmentation/ECSSD/features/0183_resized.pth\n",
      "dict_keys(['k', 'indices', 'file', 'id', 'model_name', 'patch_size', 'shape'])\n",
      "0183_resized\n"
     ]
    },
    {
     "name": "stderr",
     "output_type": "stream",
     "text": [
      "/home/phdcs2/Hard_Disk/Projects/T2I/deep-spectral-segmentation/venv/lib/python3.8/site-packages/sklearn/decomposition/_pca.py:642: RuntimeWarning: invalid value encountered in divide\n",
      "  self.explained_variance_ratio_ = self.explained_variance_ / total_var\n"
     ]
    },
    {
     "name": "stdout",
     "output_type": "stream",
     "text": [
      "Starting Training\n",
      "epoch: 00, loss: -0.87379\n",
      "epoch: 01, loss: -0.89751\n",
      "epoch: 02, loss: -0.90537\n",
      "epoch: 03, loss: -0.91072\n",
      "epoch: 04, loss: -0.91500\n",
      "epoch: 05, loss: -0.91840\n",
      "epoch: 06, loss: -0.92120\n",
      "epoch: 07, loss: -0.92368\n",
      "epoch: 08, loss: -0.92582\n",
      "epoch: 09, loss: -0.92774\n",
      "torch.Size([1024, 64])\n"
     ]
    },
    {
     "name": "stderr",
     "output_type": "stream",
     "text": [
      " 18%|█▊        | 182/999 [3:31:07<16:40:46, 73.50s/it]"
     ]
    },
    {
     "name": "stdout",
     "output_type": "stream",
     "text": [
      "eigenvalues shape torch.Size([5]) eigenvectors shape torch.Size([5, 1024])\n",
      "182 /home/phdcs2/Hard_Disk/Datasets/Deep-Spectral-Segmentation/data/object-segmentation/ECSSD/features/0184_resized.pth\n",
      "dict_keys(['k', 'indices', 'file', 'id', 'model_name', 'patch_size', 'shape'])\n",
      "0184_resized\n"
     ]
    },
    {
     "name": "stderr",
     "output_type": "stream",
     "text": [
      "/home/phdcs2/Hard_Disk/Projects/T2I/deep-spectral-segmentation/venv/lib/python3.8/site-packages/sklearn/decomposition/_pca.py:642: RuntimeWarning: invalid value encountered in divide\n",
      "  self.explained_variance_ratio_ = self.explained_variance_ / total_var\n"
     ]
    },
    {
     "name": "stdout",
     "output_type": "stream",
     "text": [
      "Starting Training\n",
      "epoch: 00, loss: -0.92278\n",
      "epoch: 01, loss: -0.94253\n",
      "epoch: 02, loss: -0.94813\n",
      "epoch: 03, loss: -0.95177\n",
      "epoch: 04, loss: -0.95446\n",
      "epoch: 05, loss: -0.95651\n",
      "epoch: 06, loss: -0.95823\n",
      "epoch: 07, loss: -0.95966\n",
      "epoch: 08, loss: -0.96090\n",
      "epoch: 09, loss: -0.96200\n",
      "torch.Size([1024, 64])\n"
     ]
    },
    {
     "name": "stderr",
     "output_type": "stream",
     "text": [
      " 18%|█▊        | 183/999 [3:32:23<16:49:10, 74.20s/it]"
     ]
    },
    {
     "name": "stdout",
     "output_type": "stream",
     "text": [
      "eigenvalues shape torch.Size([5]) eigenvectors shape torch.Size([5, 1024])\n",
      "183 /home/phdcs2/Hard_Disk/Datasets/Deep-Spectral-Segmentation/data/object-segmentation/ECSSD/features/0185_resized.pth\n",
      "dict_keys(['k', 'indices', 'file', 'id', 'model_name', 'patch_size', 'shape'])\n",
      "0185_resized\n",
      "Starting Training\n",
      "epoch: 00, loss: -0.84726\n",
      "epoch: 01, loss: -0.88320\n",
      "epoch: 02, loss: -0.89553\n",
      "epoch: 03, loss: -0.90394\n",
      "epoch: 04, loss: -0.91022\n",
      "epoch: 05, loss: -0.91494\n",
      "epoch: 06, loss: -0.91891\n",
      "epoch: 07, loss: -0.92246\n",
      "epoch: 08, loss: -0.92530\n",
      "epoch: 09, loss: -0.92797\n",
      "torch.Size([1024, 64])\n"
     ]
    },
    {
     "name": "stderr",
     "output_type": "stream",
     "text": [
      " 18%|█▊        | 184/999 [3:33:24<15:56:32, 70.42s/it]"
     ]
    },
    {
     "name": "stdout",
     "output_type": "stream",
     "text": [
      "eigenvalues shape torch.Size([5]) eigenvectors shape torch.Size([5, 1024])\n",
      "184 /home/phdcs2/Hard_Disk/Datasets/Deep-Spectral-Segmentation/data/object-segmentation/ECSSD/features/0186_resized.pth\n",
      "dict_keys(['k', 'indices', 'file', 'id', 'model_name', 'patch_size', 'shape'])\n",
      "0186_resized\n"
     ]
    },
    {
     "name": "stderr",
     "output_type": "stream",
     "text": [
      "/home/phdcs2/Hard_Disk/Projects/T2I/deep-spectral-segmentation/venv/lib/python3.8/site-packages/sklearn/decomposition/_pca.py:642: RuntimeWarning: invalid value encountered in divide\n",
      "  self.explained_variance_ratio_ = self.explained_variance_ / total_var\n"
     ]
    },
    {
     "name": "stdout",
     "output_type": "stream",
     "text": [
      "Starting Training\n",
      "epoch: 00, loss: -0.89733\n",
      "epoch: 01, loss: -0.92162\n",
      "epoch: 02, loss: -0.92827\n",
      "epoch: 03, loss: -0.93272\n",
      "epoch: 04, loss: -0.93603\n",
      "epoch: 05, loss: -0.93870\n",
      "epoch: 06, loss: -0.94094\n",
      "epoch: 07, loss: -0.94285\n",
      "epoch: 08, loss: -0.94445\n",
      "epoch: 09, loss: -0.94588\n",
      "torch.Size([1024, 64])\n"
     ]
    },
    {
     "name": "stderr",
     "output_type": "stream",
     "text": [
      " 19%|█▊        | 185/999 [3:34:37<16:03:54, 71.05s/it]"
     ]
    },
    {
     "name": "stdout",
     "output_type": "stream",
     "text": [
      "eigenvalues shape torch.Size([5]) eigenvectors shape torch.Size([5, 1024])\n",
      "185 /home/phdcs2/Hard_Disk/Datasets/Deep-Spectral-Segmentation/data/object-segmentation/ECSSD/features/0187_resized.pth\n",
      "dict_keys(['k', 'indices', 'file', 'id', 'model_name', 'patch_size', 'shape'])\n",
      "0187_resized\n",
      "Starting Training\n",
      "epoch: 00, loss: -0.81460\n",
      "epoch: 01, loss: -0.85214\n",
      "epoch: 02, loss: -0.86637\n",
      "epoch: 03, loss: -0.87622\n",
      "epoch: 04, loss: -0.88402\n",
      "epoch: 05, loss: -0.89007\n",
      "epoch: 06, loss: -0.89489\n",
      "epoch: 07, loss: -0.89913\n",
      "epoch: 08, loss: -0.90275\n",
      "epoch: 09, loss: -0.90597\n",
      "torch.Size([1024, 64])\n"
     ]
    },
    {
     "name": "stderr",
     "output_type": "stream",
     "text": [
      " 19%|█▊        | 186/999 [3:35:55<16:30:33, 73.10s/it]"
     ]
    },
    {
     "name": "stdout",
     "output_type": "stream",
     "text": [
      "eigenvalues shape torch.Size([5]) eigenvectors shape torch.Size([5, 1024])\n",
      "186 /home/phdcs2/Hard_Disk/Datasets/Deep-Spectral-Segmentation/data/object-segmentation/ECSSD/features/0188_resized.pth\n",
      "dict_keys(['k', 'indices', 'file', 'id', 'model_name', 'patch_size', 'shape'])\n",
      "0188_resized\n"
     ]
    },
    {
     "name": "stderr",
     "output_type": "stream",
     "text": [
      "/home/phdcs2/Hard_Disk/Projects/T2I/deep-spectral-segmentation/venv/lib/python3.8/site-packages/sklearn/decomposition/_pca.py:642: RuntimeWarning: invalid value encountered in divide\n",
      "  self.explained_variance_ratio_ = self.explained_variance_ / total_var\n"
     ]
    },
    {
     "name": "stdout",
     "output_type": "stream",
     "text": [
      "Starting Training\n",
      "epoch: 00, loss: -0.90608\n",
      "epoch: 01, loss: -0.92893\n",
      "epoch: 02, loss: -0.93487\n",
      "epoch: 03, loss: -0.93886\n",
      "epoch: 04, loss: -0.94192\n",
      "epoch: 05, loss: -0.94430\n",
      "epoch: 06, loss: -0.94618\n",
      "epoch: 07, loss: -0.94786\n",
      "epoch: 08, loss: -0.94927\n",
      "epoch: 09, loss: -0.95061\n",
      "torch.Size([1024, 64])\n"
     ]
    },
    {
     "name": "stderr",
     "output_type": "stream",
     "text": [
      " 19%|█▊        | 187/999 [3:37:06<16:22:19, 72.59s/it]"
     ]
    },
    {
     "name": "stdout",
     "output_type": "stream",
     "text": [
      "eigenvalues shape torch.Size([5]) eigenvectors shape torch.Size([5, 1024])\n",
      "187 /home/phdcs2/Hard_Disk/Datasets/Deep-Spectral-Segmentation/data/object-segmentation/ECSSD/features/0189_resized.pth\n",
      "dict_keys(['k', 'indices', 'file', 'id', 'model_name', 'patch_size', 'shape'])\n",
      "0189_resized\n",
      "Starting Training\n",
      "epoch: 00, loss: -0.88015\n",
      "epoch: 01, loss: -0.90527\n",
      "epoch: 02, loss: -0.91377\n",
      "epoch: 03, loss: -0.91949\n",
      "epoch: 04, loss: -0.92371\n",
      "epoch: 05, loss: -0.92694\n",
      "epoch: 06, loss: -0.92963\n",
      "epoch: 07, loss: -0.93186\n",
      "epoch: 08, loss: -0.93386\n",
      "epoch: 09, loss: -0.93574\n",
      "torch.Size([1024, 64])\n"
     ]
    },
    {
     "name": "stderr",
     "output_type": "stream",
     "text": [
      " 19%|█▉        | 188/999 [3:38:14<16:02:19, 71.20s/it]"
     ]
    },
    {
     "name": "stdout",
     "output_type": "stream",
     "text": [
      "eigenvalues shape torch.Size([5]) eigenvectors shape torch.Size([5, 1024])\n",
      "188 /home/phdcs2/Hard_Disk/Datasets/Deep-Spectral-Segmentation/data/object-segmentation/ECSSD/features/0190_resized.pth\n",
      "dict_keys(['k', 'indices', 'file', 'id', 'model_name', 'patch_size', 'shape'])\n",
      "0190_resized\n"
     ]
    },
    {
     "name": "stderr",
     "output_type": "stream",
     "text": [
      "/home/phdcs2/Hard_Disk/Projects/T2I/deep-spectral-segmentation/venv/lib/python3.8/site-packages/sklearn/decomposition/_pca.py:642: RuntimeWarning: invalid value encountered in divide\n",
      "  self.explained_variance_ratio_ = self.explained_variance_ / total_var\n"
     ]
    },
    {
     "name": "stdout",
     "output_type": "stream",
     "text": [
      "Starting Training\n",
      "epoch: 00, loss: -0.91599\n",
      "epoch: 01, loss: -0.94223\n",
      "epoch: 02, loss: -0.94754\n",
      "epoch: 03, loss: -0.95081\n",
      "epoch: 04, loss: -0.95323\n",
      "epoch: 05, loss: -0.95513\n",
      "epoch: 06, loss: -0.95666\n",
      "epoch: 07, loss: -0.95796\n",
      "epoch: 08, loss: -0.95906\n",
      "epoch: 09, loss: -0.96003\n",
      "torch.Size([1024, 64])\n"
     ]
    },
    {
     "name": "stderr",
     "output_type": "stream",
     "text": [
      " 19%|█▉        | 189/999 [3:39:23<15:52:37, 70.57s/it]"
     ]
    },
    {
     "name": "stdout",
     "output_type": "stream",
     "text": [
      "eigenvalues shape torch.Size([5]) eigenvectors shape torch.Size([5, 1024])\n",
      "189 /home/phdcs2/Hard_Disk/Datasets/Deep-Spectral-Segmentation/data/object-segmentation/ECSSD/features/0191_resized.pth\n",
      "dict_keys(['k', 'indices', 'file', 'id', 'model_name', 'patch_size', 'shape'])\n",
      "0191_resized\n"
     ]
    },
    {
     "name": "stderr",
     "output_type": "stream",
     "text": [
      "/home/phdcs2/Hard_Disk/Projects/T2I/deep-spectral-segmentation/venv/lib/python3.8/site-packages/sklearn/decomposition/_pca.py:642: RuntimeWarning: invalid value encountered in divide\n",
      "  self.explained_variance_ratio_ = self.explained_variance_ / total_var\n"
     ]
    },
    {
     "name": "stdout",
     "output_type": "stream",
     "text": [
      "Starting Training\n",
      "epoch: 00, loss: -0.91761\n",
      "epoch: 01, loss: -0.93683\n",
      "epoch: 02, loss: -0.94143\n",
      "epoch: 03, loss: -0.94462\n",
      "epoch: 04, loss: -0.94707\n",
      "epoch: 05, loss: -0.94907\n",
      "epoch: 06, loss: -0.95070\n",
      "epoch: 07, loss: -0.95218\n",
      "epoch: 08, loss: -0.95341\n",
      "epoch: 09, loss: -0.95453\n",
      "torch.Size([1024, 64])\n"
     ]
    },
    {
     "name": "stderr",
     "output_type": "stream",
     "text": [
      " 19%|█▉        | 190/999 [3:40:35<15:57:54, 71.04s/it]"
     ]
    },
    {
     "name": "stdout",
     "output_type": "stream",
     "text": [
      "eigenvalues shape torch.Size([5]) eigenvectors shape torch.Size([5, 1024])\n",
      "190 /home/phdcs2/Hard_Disk/Datasets/Deep-Spectral-Segmentation/data/object-segmentation/ECSSD/features/0192_resized.pth\n",
      "dict_keys(['k', 'indices', 'file', 'id', 'model_name', 'patch_size', 'shape'])\n",
      "0192_resized\n",
      "Starting Training\n",
      "epoch: 00, loss: -0.83050\n",
      "epoch: 01, loss: -0.86949\n",
      "epoch: 02, loss: -0.88348\n",
      "epoch: 03, loss: -0.89278\n",
      "epoch: 04, loss: -0.89994\n",
      "epoch: 05, loss: -0.90551\n",
      "epoch: 06, loss: -0.91022\n",
      "epoch: 07, loss: -0.91409\n",
      "epoch: 08, loss: -0.91751\n",
      "epoch: 09, loss: -0.92047\n",
      "torch.Size([1024, 64])\n"
     ]
    },
    {
     "name": "stderr",
     "output_type": "stream",
     "text": [
      " 19%|█▉        | 191/999 [3:41:51<16:15:02, 72.40s/it]"
     ]
    },
    {
     "name": "stdout",
     "output_type": "stream",
     "text": [
      "eigenvalues shape torch.Size([5]) eigenvectors shape torch.Size([5, 1024])\n",
      "191 /home/phdcs2/Hard_Disk/Datasets/Deep-Spectral-Segmentation/data/object-segmentation/ECSSD/features/0193_resized.pth\n",
      "dict_keys(['k', 'indices', 'file', 'id', 'model_name', 'patch_size', 'shape'])\n",
      "0193_resized\n"
     ]
    },
    {
     "name": "stderr",
     "output_type": "stream",
     "text": [
      "/home/phdcs2/Hard_Disk/Projects/T2I/deep-spectral-segmentation/venv/lib/python3.8/site-packages/sklearn/decomposition/_pca.py:642: RuntimeWarning: invalid value encountered in divide\n",
      "  self.explained_variance_ratio_ = self.explained_variance_ / total_var\n"
     ]
    },
    {
     "name": "stdout",
     "output_type": "stream",
     "text": [
      "Starting Training\n",
      "epoch: 00, loss: -0.89461\n",
      "epoch: 01, loss: -0.92230\n",
      "epoch: 02, loss: -0.92974\n",
      "epoch: 03, loss: -0.93460\n",
      "epoch: 04, loss: -0.93815\n",
      "epoch: 05, loss: -0.94106\n",
      "epoch: 06, loss: -0.94332\n",
      "epoch: 07, loss: -0.94533\n",
      "epoch: 08, loss: -0.94701\n",
      "epoch: 09, loss: -0.94848\n",
      "torch.Size([1024, 64])\n"
     ]
    },
    {
     "name": "stderr",
     "output_type": "stream",
     "text": [
      " 19%|█▉        | 192/999 [3:43:15<17:02:21, 76.01s/it]"
     ]
    },
    {
     "name": "stdout",
     "output_type": "stream",
     "text": [
      "eigenvalues shape torch.Size([5]) eigenvectors shape torch.Size([5, 1024])\n",
      "192 /home/phdcs2/Hard_Disk/Datasets/Deep-Spectral-Segmentation/data/object-segmentation/ECSSD/features/0194_resized.pth\n",
      "dict_keys(['k', 'indices', 'file', 'id', 'model_name', 'patch_size', 'shape'])\n",
      "0194_resized\n"
     ]
    },
    {
     "name": "stderr",
     "output_type": "stream",
     "text": [
      "/home/phdcs2/Hard_Disk/Projects/T2I/deep-spectral-segmentation/venv/lib/python3.8/site-packages/sklearn/decomposition/_pca.py:642: RuntimeWarning: invalid value encountered in divide\n",
      "  self.explained_variance_ratio_ = self.explained_variance_ / total_var\n"
     ]
    },
    {
     "name": "stdout",
     "output_type": "stream",
     "text": [
      "Starting Training\n",
      "epoch: 00, loss: -0.90577\n",
      "epoch: 01, loss: -0.93105\n",
      "epoch: 02, loss: -0.93749\n",
      "epoch: 03, loss: -0.94171\n",
      "epoch: 04, loss: -0.94480\n",
      "epoch: 05, loss: -0.94721\n",
      "epoch: 06, loss: -0.94922\n",
      "epoch: 07, loss: -0.95091\n",
      "epoch: 08, loss: -0.95239\n",
      "epoch: 09, loss: -0.95363\n",
      "torch.Size([1024, 64])\n"
     ]
    },
    {
     "name": "stderr",
     "output_type": "stream",
     "text": [
      " 19%|█▉        | 193/999 [3:44:38<17:29:06, 78.10s/it]"
     ]
    },
    {
     "name": "stdout",
     "output_type": "stream",
     "text": [
      "eigenvalues shape torch.Size([5]) eigenvectors shape torch.Size([5, 1024])\n",
      "193 /home/phdcs2/Hard_Disk/Datasets/Deep-Spectral-Segmentation/data/object-segmentation/ECSSD/features/0195_resized.pth\n",
      "dict_keys(['k', 'indices', 'file', 'id', 'model_name', 'patch_size', 'shape'])\n",
      "0195_resized\n",
      "Starting Training\n",
      "epoch: 00, loss: -0.84495\n",
      "epoch: 01, loss: -0.88426\n",
      "epoch: 02, loss: -0.89710\n",
      "epoch: 03, loss: -0.90559\n",
      "epoch: 04, loss: -0.91186\n",
      "epoch: 05, loss: -0.91672\n",
      "epoch: 06, loss: -0.92078\n",
      "epoch: 07, loss: -0.92413\n",
      "epoch: 08, loss: -0.92709\n",
      "epoch: 09, loss: -0.92971\n",
      "torch.Size([1024, 64])\n"
     ]
    },
    {
     "name": "stderr",
     "output_type": "stream",
     "text": [
      " 19%|█▉        | 194/999 [3:45:53<17:13:47, 77.05s/it]"
     ]
    },
    {
     "name": "stdout",
     "output_type": "stream",
     "text": [
      "eigenvalues shape torch.Size([5]) eigenvectors shape torch.Size([5, 1024])\n",
      "194 /home/phdcs2/Hard_Disk/Datasets/Deep-Spectral-Segmentation/data/object-segmentation/ECSSD/features/0196_resized.pth\n",
      "dict_keys(['k', 'indices', 'file', 'id', 'model_name', 'patch_size', 'shape'])\n",
      "0196_resized\n",
      "Starting Training\n",
      "epoch: 00, loss: -0.82092\n",
      "epoch: 01, loss: -0.86069\n",
      "epoch: 02, loss: -0.87417\n",
      "epoch: 03, loss: -0.88330\n",
      "epoch: 04, loss: -0.88990\n",
      "epoch: 05, loss: -0.89517\n",
      "epoch: 06, loss: -0.89934\n",
      "epoch: 07, loss: -0.90286\n",
      "epoch: 08, loss: -0.90590\n",
      "epoch: 09, loss: -0.90849\n",
      "torch.Size([1024, 64])\n"
     ]
    },
    {
     "name": "stderr",
     "output_type": "stream",
     "text": [
      " 20%|█▉        | 195/999 [3:47:14<17:29:57, 78.35s/it]"
     ]
    },
    {
     "name": "stdout",
     "output_type": "stream",
     "text": [
      "eigenvalues shape torch.Size([5]) eigenvectors shape torch.Size([5, 1024])\n",
      "195 /home/phdcs2/Hard_Disk/Datasets/Deep-Spectral-Segmentation/data/object-segmentation/ECSSD/features/0197_resized.pth\n",
      "dict_keys(['k', 'indices', 'file', 'id', 'model_name', 'patch_size', 'shape'])\n",
      "0197_resized\n",
      "Starting Training\n",
      "epoch: 00, loss: -0.82534\n",
      "epoch: 01, loss: -0.86682\n",
      "epoch: 02, loss: -0.88076\n",
      "epoch: 03, loss: -0.89033\n",
      "epoch: 04, loss: -0.89676\n",
      "epoch: 05, loss: -0.90160\n",
      "epoch: 06, loss: -0.90580\n",
      "epoch: 07, loss: -0.90917\n",
      "epoch: 08, loss: -0.91224\n",
      "epoch: 09, loss: -0.91483\n",
      "torch.Size([1024, 64])\n"
     ]
    },
    {
     "name": "stderr",
     "output_type": "stream",
     "text": [
      " 20%|█▉        | 196/999 [3:48:41<18:03:22, 80.95s/it]"
     ]
    },
    {
     "name": "stdout",
     "output_type": "stream",
     "text": [
      "eigenvalues shape torch.Size([5]) eigenvectors shape torch.Size([5, 1024])\n",
      "196 /home/phdcs2/Hard_Disk/Datasets/Deep-Spectral-Segmentation/data/object-segmentation/ECSSD/features/0198_resized.pth\n",
      "dict_keys(['k', 'indices', 'file', 'id', 'model_name', 'patch_size', 'shape'])\n",
      "0198_resized\n"
     ]
    },
    {
     "name": "stderr",
     "output_type": "stream",
     "text": [
      "/home/phdcs2/Hard_Disk/Projects/T2I/deep-spectral-segmentation/venv/lib/python3.8/site-packages/sklearn/decomposition/_pca.py:642: RuntimeWarning: invalid value encountered in divide\n",
      "  self.explained_variance_ratio_ = self.explained_variance_ / total_var\n"
     ]
    },
    {
     "name": "stdout",
     "output_type": "stream",
     "text": [
      "Starting Training\n",
      "epoch: 00, loss: -0.88137\n",
      "epoch: 01, loss: -0.90865\n",
      "epoch: 02, loss: -0.91707\n",
      "epoch: 03, loss: -0.92266\n",
      "epoch: 04, loss: -0.92664\n",
      "epoch: 05, loss: -0.92988\n",
      "epoch: 06, loss: -0.93245\n",
      "epoch: 07, loss: -0.93472\n",
      "epoch: 08, loss: -0.93678\n",
      "epoch: 09, loss: -0.93827\n",
      "torch.Size([1024, 64])\n"
     ]
    },
    {
     "name": "stderr",
     "output_type": "stream",
     "text": [
      " 20%|█▉        | 197/999 [3:49:56<17:37:03, 79.08s/it]"
     ]
    },
    {
     "name": "stdout",
     "output_type": "stream",
     "text": [
      "eigenvalues shape torch.Size([5]) eigenvectors shape torch.Size([5, 1024])\n",
      "197 /home/phdcs2/Hard_Disk/Datasets/Deep-Spectral-Segmentation/data/object-segmentation/ECSSD/features/0199_resized.pth\n",
      "dict_keys(['k', 'indices', 'file', 'id', 'model_name', 'patch_size', 'shape'])\n",
      "0199_resized\n"
     ]
    },
    {
     "name": "stderr",
     "output_type": "stream",
     "text": [
      "/home/phdcs2/Hard_Disk/Projects/T2I/deep-spectral-segmentation/venv/lib/python3.8/site-packages/sklearn/decomposition/_pca.py:642: RuntimeWarning: invalid value encountered in divide\n",
      "  self.explained_variance_ratio_ = self.explained_variance_ / total_var\n"
     ]
    },
    {
     "name": "stdout",
     "output_type": "stream",
     "text": [
      "Starting Training\n",
      "epoch: 00, loss: -0.90020\n",
      "epoch: 01, loss: -0.92039\n",
      "epoch: 02, loss: -0.92595\n",
      "epoch: 03, loss: -0.92952\n",
      "epoch: 04, loss: -0.93213\n",
      "epoch: 05, loss: -0.93425\n",
      "epoch: 06, loss: -0.93592\n",
      "epoch: 07, loss: -0.93738\n",
      "epoch: 08, loss: -0.93864\n",
      "epoch: 09, loss: -0.93973\n",
      "torch.Size([1024, 64])\n"
     ]
    },
    {
     "name": "stderr",
     "output_type": "stream",
     "text": [
      " 20%|█▉        | 198/999 [3:51:20<17:54:24, 80.48s/it]"
     ]
    },
    {
     "name": "stdout",
     "output_type": "stream",
     "text": [
      "eigenvalues shape torch.Size([5]) eigenvectors shape torch.Size([5, 1024])\n",
      "198 /home/phdcs2/Hard_Disk/Datasets/Deep-Spectral-Segmentation/data/object-segmentation/ECSSD/features/0200_resized.pth\n",
      "dict_keys(['k', 'indices', 'file', 'id', 'model_name', 'patch_size', 'shape'])\n",
      "0200_resized\n"
     ]
    },
    {
     "name": "stderr",
     "output_type": "stream",
     "text": [
      "/home/phdcs2/Hard_Disk/Projects/T2I/deep-spectral-segmentation/venv/lib/python3.8/site-packages/sklearn/decomposition/_pca.py:642: RuntimeWarning: invalid value encountered in divide\n",
      "  self.explained_variance_ratio_ = self.explained_variance_ / total_var\n"
     ]
    },
    {
     "name": "stdout",
     "output_type": "stream",
     "text": [
      "Starting Training\n",
      "epoch: 00, loss: -0.90545\n",
      "epoch: 01, loss: -0.92994\n",
      "epoch: 02, loss: -0.93637\n",
      "epoch: 03, loss: -0.94058\n",
      "epoch: 04, loss: -0.94357\n",
      "epoch: 05, loss: -0.94603\n",
      "epoch: 06, loss: -0.94795\n",
      "epoch: 07, loss: -0.94962\n",
      "epoch: 08, loss: -0.95109\n",
      "epoch: 09, loss: -0.95234\n",
      "torch.Size([1024, 64])\n"
     ]
    },
    {
     "name": "stderr",
     "output_type": "stream",
     "text": [
      " 20%|█▉        | 199/999 [3:52:47<18:20:07, 82.51s/it]"
     ]
    },
    {
     "name": "stdout",
     "output_type": "stream",
     "text": [
      "eigenvalues shape torch.Size([5]) eigenvectors shape torch.Size([5, 1024])\n",
      "199 /home/phdcs2/Hard_Disk/Datasets/Deep-Spectral-Segmentation/data/object-segmentation/ECSSD/features/0201_resized.pth\n",
      "dict_keys(['k', 'indices', 'file', 'id', 'model_name', 'patch_size', 'shape'])\n",
      "0201_resized\n"
     ]
    },
    {
     "name": "stderr",
     "output_type": "stream",
     "text": [
      "/home/phdcs2/Hard_Disk/Projects/T2I/deep-spectral-segmentation/venv/lib/python3.8/site-packages/sklearn/decomposition/_pca.py:642: RuntimeWarning: invalid value encountered in divide\n",
      "  self.explained_variance_ratio_ = self.explained_variance_ / total_var\n"
     ]
    },
    {
     "name": "stdout",
     "output_type": "stream",
     "text": [
      "Starting Training\n",
      "epoch: 00, loss: -0.92545\n",
      "epoch: 01, loss: -0.94201\n",
      "epoch: 02, loss: -0.94679\n",
      "epoch: 03, loss: -0.94996\n",
      "epoch: 04, loss: -0.95221\n",
      "epoch: 05, loss: -0.95406\n",
      "epoch: 06, loss: -0.95560\n",
      "epoch: 07, loss: -0.95688\n",
      "epoch: 08, loss: -0.95804\n",
      "epoch: 09, loss: -0.95901\n",
      "torch.Size([1024, 64])\n"
     ]
    },
    {
     "name": "stderr",
     "output_type": "stream",
     "text": [
      " 20%|██        | 200/999 [3:54:17<18:47:58, 84.70s/it]"
     ]
    },
    {
     "name": "stdout",
     "output_type": "stream",
     "text": [
      "eigenvalues shape torch.Size([5]) eigenvectors shape torch.Size([5, 1024])\n",
      "200 /home/phdcs2/Hard_Disk/Datasets/Deep-Spectral-Segmentation/data/object-segmentation/ECSSD/features/0202_resized.pth\n",
      "dict_keys(['k', 'indices', 'file', 'id', 'model_name', 'patch_size', 'shape'])\n",
      "0202_resized\n",
      "Starting Training\n",
      "epoch: 00, loss: -0.81287\n",
      "epoch: 01, loss: -0.85449\n",
      "epoch: 02, loss: -0.86910\n",
      "epoch: 03, loss: -0.87830\n",
      "epoch: 04, loss: -0.88554\n",
      "epoch: 05, loss: -0.89131\n",
      "epoch: 06, loss: -0.89639\n",
      "epoch: 07, loss: -0.90043\n",
      "epoch: 08, loss: -0.90389\n",
      "epoch: 09, loss: -0.90705\n",
      "torch.Size([1024, 64])\n"
     ]
    },
    {
     "name": "stderr",
     "output_type": "stream",
     "text": [
      " 20%|██        | 201/999 [3:55:46<19:03:57, 86.01s/it]"
     ]
    },
    {
     "name": "stdout",
     "output_type": "stream",
     "text": [
      "eigenvalues shape torch.Size([5]) eigenvectors shape torch.Size([5, 1024])\n",
      "201 /home/phdcs2/Hard_Disk/Datasets/Deep-Spectral-Segmentation/data/object-segmentation/ECSSD/features/0203_resized.pth\n",
      "dict_keys(['k', 'indices', 'file', 'id', 'model_name', 'patch_size', 'shape'])\n",
      "0203_resized\n"
     ]
    },
    {
     "name": "stderr",
     "output_type": "stream",
     "text": [
      "/home/phdcs2/Hard_Disk/Projects/T2I/deep-spectral-segmentation/venv/lib/python3.8/site-packages/sklearn/decomposition/_pca.py:642: RuntimeWarning: invalid value encountered in divide\n",
      "  self.explained_variance_ratio_ = self.explained_variance_ / total_var\n"
     ]
    },
    {
     "name": "stdout",
     "output_type": "stream",
     "text": [
      "Starting Training\n",
      "epoch: 00, loss: -0.88521\n",
      "epoch: 01, loss: -0.91180\n",
      "epoch: 02, loss: -0.91885\n",
      "epoch: 03, loss: -0.92357\n",
      "epoch: 04, loss: -0.92713\n",
      "epoch: 05, loss: -0.93001\n",
      "epoch: 06, loss: -0.93232\n",
      "epoch: 07, loss: -0.93440\n",
      "epoch: 08, loss: -0.93615\n",
      "epoch: 09, loss: -0.93776\n",
      "torch.Size([1024, 64])\n"
     ]
    },
    {
     "name": "stderr",
     "output_type": "stream",
     "text": [
      " 20%|██        | 202/999 [3:57:14<19:11:57, 86.72s/it]"
     ]
    },
    {
     "name": "stdout",
     "output_type": "stream",
     "text": [
      "eigenvalues shape torch.Size([5]) eigenvectors shape torch.Size([5, 1024])\n",
      "202 /home/phdcs2/Hard_Disk/Datasets/Deep-Spectral-Segmentation/data/object-segmentation/ECSSD/features/0204_resized.pth\n",
      "dict_keys(['k', 'indices', 'file', 'id', 'model_name', 'patch_size', 'shape'])\n",
      "0204_resized\n",
      "Starting Training\n",
      "epoch: 00, loss: -0.84617\n",
      "epoch: 01, loss: -0.88191\n",
      "epoch: 02, loss: -0.89366\n",
      "epoch: 03, loss: -0.90158\n",
      "epoch: 04, loss: -0.90765\n",
      "epoch: 05, loss: -0.91225\n",
      "epoch: 06, loss: -0.91599\n",
      "epoch: 07, loss: -0.91926\n",
      "epoch: 08, loss: -0.92220\n",
      "epoch: 09, loss: -0.92472\n",
      "torch.Size([1024, 64])\n"
     ]
    },
    {
     "name": "stderr",
     "output_type": "stream",
     "text": [
      " 20%|██        | 203/999 [3:58:32<18:36:40, 84.17s/it]"
     ]
    },
    {
     "name": "stdout",
     "output_type": "stream",
     "text": [
      "eigenvalues shape torch.Size([5]) eigenvectors shape torch.Size([5, 1024])\n",
      "203 /home/phdcs2/Hard_Disk/Datasets/Deep-Spectral-Segmentation/data/object-segmentation/ECSSD/features/0205_resized.pth\n",
      "dict_keys(['k', 'indices', 'file', 'id', 'model_name', 'patch_size', 'shape'])\n",
      "0205_resized\n"
     ]
    },
    {
     "name": "stderr",
     "output_type": "stream",
     "text": [
      "/home/phdcs2/Hard_Disk/Projects/T2I/deep-spectral-segmentation/venv/lib/python3.8/site-packages/sklearn/decomposition/_pca.py:642: RuntimeWarning: invalid value encountered in divide\n",
      "  self.explained_variance_ratio_ = self.explained_variance_ / total_var\n"
     ]
    },
    {
     "name": "stdout",
     "output_type": "stream",
     "text": [
      "Starting Training\n",
      "epoch: 00, loss: -0.89813\n",
      "epoch: 01, loss: -0.91853\n",
      "epoch: 02, loss: -0.92474\n",
      "epoch: 03, loss: -0.92895\n",
      "epoch: 04, loss: -0.93216\n",
      "epoch: 05, loss: -0.93469\n",
      "epoch: 06, loss: -0.93682\n",
      "epoch: 07, loss: -0.93861\n",
      "epoch: 08, loss: -0.94024\n",
      "epoch: 09, loss: -0.94163\n",
      "torch.Size([1024, 64])\n"
     ]
    },
    {
     "name": "stderr",
     "output_type": "stream",
     "text": [
      " 20%|██        | 204/999 [3:59:56<18:32:05, 83.93s/it]"
     ]
    },
    {
     "name": "stdout",
     "output_type": "stream",
     "text": [
      "eigenvalues shape torch.Size([5]) eigenvectors shape torch.Size([5, 1024])\n",
      "204 /home/phdcs2/Hard_Disk/Datasets/Deep-Spectral-Segmentation/data/object-segmentation/ECSSD/features/0206_resized.pth\n",
      "dict_keys(['k', 'indices', 'file', 'id', 'model_name', 'patch_size', 'shape'])\n",
      "0206_resized\n",
      "Starting Training\n",
      "epoch: 00, loss: -0.78852\n",
      "epoch: 01, loss: -0.83636\n",
      "epoch: 02, loss: -0.85381\n",
      "epoch: 03, loss: -0.86528\n",
      "epoch: 04, loss: -0.87386\n",
      "epoch: 05, loss: -0.88092\n",
      "epoch: 06, loss: -0.88684\n",
      "epoch: 07, loss: -0.89143\n",
      "epoch: 08, loss: -0.89559\n",
      "epoch: 09, loss: -0.89931\n",
      "torch.Size([1024, 64])\n"
     ]
    },
    {
     "name": "stderr",
     "output_type": "stream",
     "text": [
      " 21%|██        | 205/999 [4:01:09<17:48:18, 80.73s/it]"
     ]
    },
    {
     "name": "stdout",
     "output_type": "stream",
     "text": [
      "eigenvalues shape torch.Size([5]) eigenvectors shape torch.Size([5, 1024])\n",
      "205 /home/phdcs2/Hard_Disk/Datasets/Deep-Spectral-Segmentation/data/object-segmentation/ECSSD/features/0207_resized.pth\n",
      "dict_keys(['k', 'indices', 'file', 'id', 'model_name', 'patch_size', 'shape'])\n",
      "0207_resized\n",
      "Starting Training\n",
      "epoch: 00, loss: -0.82777\n",
      "epoch: 01, loss: -0.86769\n",
      "epoch: 02, loss: -0.88130\n",
      "epoch: 03, loss: -0.89020\n",
      "epoch: 04, loss: -0.89680\n",
      "epoch: 05, loss: -0.90178\n",
      "epoch: 06, loss: -0.90598\n",
      "epoch: 07, loss: -0.90964\n",
      "epoch: 08, loss: -0.91290\n",
      "epoch: 09, loss: -0.91535\n",
      "torch.Size([1024, 64])\n"
     ]
    },
    {
     "name": "stderr",
     "output_type": "stream",
     "text": [
      " 21%|██        | 206/999 [4:02:27<17:34:28, 79.78s/it]"
     ]
    },
    {
     "name": "stdout",
     "output_type": "stream",
     "text": [
      "eigenvalues shape torch.Size([5]) eigenvectors shape torch.Size([5, 1024])\n",
      "206 /home/phdcs2/Hard_Disk/Datasets/Deep-Spectral-Segmentation/data/object-segmentation/ECSSD/features/0208_resized.pth\n",
      "dict_keys(['k', 'indices', 'file', 'id', 'model_name', 'patch_size', 'shape'])\n",
      "0208_resized\n"
     ]
    },
    {
     "name": "stderr",
     "output_type": "stream",
     "text": [
      "/home/phdcs2/Hard_Disk/Projects/T2I/deep-spectral-segmentation/venv/lib/python3.8/site-packages/sklearn/decomposition/_pca.py:642: RuntimeWarning: invalid value encountered in divide\n",
      "  self.explained_variance_ratio_ = self.explained_variance_ / total_var\n"
     ]
    },
    {
     "name": "stdout",
     "output_type": "stream",
     "text": [
      "Starting Training\n",
      "epoch: 00, loss: -0.89631\n",
      "epoch: 01, loss: -0.92122\n",
      "epoch: 02, loss: -0.92840\n",
      "epoch: 03, loss: -0.93319\n",
      "epoch: 04, loss: -0.93676\n",
      "epoch: 05, loss: -0.93958\n",
      "epoch: 06, loss: -0.94198\n",
      "epoch: 07, loss: -0.94406\n",
      "epoch: 08, loss: -0.94581\n",
      "epoch: 09, loss: -0.94734\n",
      "torch.Size([1024, 64])\n"
     ]
    },
    {
     "name": "stderr",
     "output_type": "stream",
     "text": [
      " 21%|██        | 207/999 [4:03:38<16:58:49, 77.18s/it]"
     ]
    },
    {
     "name": "stdout",
     "output_type": "stream",
     "text": [
      "eigenvalues shape torch.Size([5]) eigenvectors shape torch.Size([5, 1024])\n",
      "207 /home/phdcs2/Hard_Disk/Datasets/Deep-Spectral-Segmentation/data/object-segmentation/ECSSD/features/0209_resized.pth\n",
      "dict_keys(['k', 'indices', 'file', 'id', 'model_name', 'patch_size', 'shape'])\n",
      "0209_resized\n",
      "Starting Training\n",
      "epoch: 00, loss: -0.83581\n",
      "epoch: 01, loss: -0.87507\n",
      "epoch: 02, loss: -0.88792\n",
      "epoch: 03, loss: -0.89638\n",
      "epoch: 04, loss: -0.90277\n",
      "epoch: 05, loss: -0.90802\n",
      "epoch: 06, loss: -0.91211\n",
      "epoch: 07, loss: -0.91561\n",
      "epoch: 08, loss: -0.91899\n",
      "epoch: 09, loss: -0.92162\n",
      "torch.Size([1024, 64])\n"
     ]
    },
    {
     "name": "stderr",
     "output_type": "stream",
     "text": [
      " 21%|██        | 208/999 [4:04:52<16:47:03, 76.39s/it]"
     ]
    },
    {
     "name": "stdout",
     "output_type": "stream",
     "text": [
      "eigenvalues shape torch.Size([5]) eigenvectors shape torch.Size([5, 1024])\n",
      "208 /home/phdcs2/Hard_Disk/Datasets/Deep-Spectral-Segmentation/data/object-segmentation/ECSSD/features/0210_resized.pth\n",
      "dict_keys(['k', 'indices', 'file', 'id', 'model_name', 'patch_size', 'shape'])\n",
      "0210_resized\n",
      "Starting Training\n",
      "epoch: 00, loss: -0.83282\n",
      "epoch: 01, loss: -0.87182\n",
      "epoch: 02, loss: -0.88462\n",
      "epoch: 03, loss: -0.89313\n",
      "epoch: 04, loss: -0.89939\n",
      "epoch: 05, loss: -0.90419\n",
      "epoch: 06, loss: -0.90838\n",
      "epoch: 07, loss: -0.91186\n",
      "epoch: 08, loss: -0.91492\n",
      "epoch: 09, loss: -0.91765\n",
      "torch.Size([1024, 64])\n"
     ]
    },
    {
     "name": "stderr",
     "output_type": "stream",
     "text": [
      " 21%|██        | 209/999 [4:06:19<17:25:57, 79.44s/it]"
     ]
    },
    {
     "name": "stdout",
     "output_type": "stream",
     "text": [
      "eigenvalues shape torch.Size([5]) eigenvectors shape torch.Size([5, 1024])\n",
      "209 /home/phdcs2/Hard_Disk/Datasets/Deep-Spectral-Segmentation/data/object-segmentation/ECSSD/features/0211_resized.pth\n",
      "dict_keys(['k', 'indices', 'file', 'id', 'model_name', 'patch_size', 'shape'])\n",
      "0211_resized\n",
      "Starting Training\n",
      "epoch: 00, loss: -0.89419\n",
      "epoch: 01, loss: -0.91600\n",
      "epoch: 02, loss: -0.92236\n",
      "epoch: 03, loss: -0.92643\n",
      "epoch: 04, loss: -0.92958\n",
      "epoch: 05, loss: -0.93206\n",
      "epoch: 06, loss: -0.93425\n",
      "epoch: 07, loss: -0.93602\n",
      "epoch: 08, loss: -0.93769\n",
      "epoch: 09, loss: -0.93897\n",
      "torch.Size([1024, 64])\n"
     ]
    },
    {
     "name": "stderr",
     "output_type": "stream",
     "text": [
      " 21%|██        | 210/999 [4:07:38<17:24:39, 79.44s/it]"
     ]
    },
    {
     "name": "stdout",
     "output_type": "stream",
     "text": [
      "eigenvalues shape torch.Size([5]) eigenvectors shape torch.Size([5, 1024])\n",
      "210 /home/phdcs2/Hard_Disk/Datasets/Deep-Spectral-Segmentation/data/object-segmentation/ECSSD/features/0212_resized.pth\n",
      "dict_keys(['k', 'indices', 'file', 'id', 'model_name', 'patch_size', 'shape'])\n",
      "0212_resized\n",
      "Starting Training\n",
      "epoch: 00, loss: -0.82011\n",
      "epoch: 01, loss: -0.86053\n",
      "epoch: 02, loss: -0.87436\n",
      "epoch: 03, loss: -0.88375\n",
      "epoch: 04, loss: -0.89077\n",
      "epoch: 05, loss: -0.89609\n",
      "epoch: 06, loss: -0.90039\n",
      "epoch: 07, loss: -0.90424\n",
      "epoch: 08, loss: -0.90749\n",
      "epoch: 09, loss: -0.91045\n",
      "torch.Size([1024, 64])\n"
     ]
    },
    {
     "name": "stderr",
     "output_type": "stream",
     "text": [
      " 21%|██        | 211/999 [4:08:53<17:06:10, 78.14s/it]"
     ]
    },
    {
     "name": "stdout",
     "output_type": "stream",
     "text": [
      "eigenvalues shape torch.Size([5]) eigenvectors shape torch.Size([5, 1024])\n",
      "211 /home/phdcs2/Hard_Disk/Datasets/Deep-Spectral-Segmentation/data/object-segmentation/ECSSD/features/0213_resized.pth\n",
      "dict_keys(['k', 'indices', 'file', 'id', 'model_name', 'patch_size', 'shape'])\n",
      "0213_resized\n",
      "Starting Training\n",
      "epoch: 00, loss: -0.82289\n",
      "epoch: 01, loss: -0.85978\n",
      "epoch: 02, loss: -0.87305\n",
      "epoch: 03, loss: -0.88182\n",
      "epoch: 04, loss: -0.88827\n",
      "epoch: 05, loss: -0.89359\n",
      "epoch: 06, loss: -0.89772\n",
      "epoch: 07, loss: -0.90159\n",
      "epoch: 08, loss: -0.90491\n",
      "epoch: 09, loss: -0.90787\n",
      "torch.Size([1024, 64])\n"
     ]
    },
    {
     "name": "stderr",
     "output_type": "stream",
     "text": [
      " 21%|██        | 212/999 [4:10:20<17:39:21, 80.76s/it]"
     ]
    },
    {
     "name": "stdout",
     "output_type": "stream",
     "text": [
      "eigenvalues shape torch.Size([5]) eigenvectors shape torch.Size([5, 1024])\n",
      "212 /home/phdcs2/Hard_Disk/Datasets/Deep-Spectral-Segmentation/data/object-segmentation/ECSSD/features/0214_resized.pth\n",
      "dict_keys(['k', 'indices', 'file', 'id', 'model_name', 'patch_size', 'shape'])\n",
      "0214_resized\n",
      "Starting Training\n",
      "epoch: 00, loss: -0.87275\n",
      "epoch: 01, loss: -0.90365\n",
      "epoch: 02, loss: -0.91395\n",
      "epoch: 03, loss: -0.92050\n",
      "epoch: 04, loss: -0.92523\n",
      "epoch: 05, loss: -0.92909\n",
      "epoch: 06, loss: -0.93218\n",
      "epoch: 07, loss: -0.93480\n",
      "epoch: 08, loss: -0.93706\n",
      "epoch: 09, loss: -0.93900\n",
      "torch.Size([1024, 64])\n"
     ]
    },
    {
     "name": "stderr",
     "output_type": "stream",
     "text": [
      " 21%|██▏       | 213/999 [4:11:38<17:25:31, 79.81s/it]"
     ]
    },
    {
     "name": "stdout",
     "output_type": "stream",
     "text": [
      "eigenvalues shape torch.Size([5]) eigenvectors shape torch.Size([5, 1024])\n",
      "213 /home/phdcs2/Hard_Disk/Datasets/Deep-Spectral-Segmentation/data/object-segmentation/ECSSD/features/0215_resized.pth\n",
      "dict_keys(['k', 'indices', 'file', 'id', 'model_name', 'patch_size', 'shape'])\n",
      "0215_resized\n",
      "Starting Training\n",
      "epoch: 00, loss: -0.80656\n",
      "epoch: 01, loss: -0.85266\n",
      "epoch: 02, loss: -0.86848\n",
      "epoch: 03, loss: -0.87950\n",
      "epoch: 04, loss: -0.88754\n",
      "epoch: 05, loss: -0.89405\n",
      "epoch: 06, loss: -0.89893\n",
      "epoch: 07, loss: -0.90329\n",
      "epoch: 08, loss: -0.90692\n",
      "epoch: 09, loss: -0.91001\n",
      "torch.Size([1024, 64])\n"
     ]
    },
    {
     "name": "stderr",
     "output_type": "stream",
     "text": [
      " 21%|██▏       | 214/999 [4:12:50<16:53:48, 77.49s/it]"
     ]
    },
    {
     "name": "stdout",
     "output_type": "stream",
     "text": [
      "eigenvalues shape torch.Size([5]) eigenvectors shape torch.Size([5, 1024])\n",
      "214 /home/phdcs2/Hard_Disk/Datasets/Deep-Spectral-Segmentation/data/object-segmentation/ECSSD/features/0216_resized.pth\n",
      "dict_keys(['k', 'indices', 'file', 'id', 'model_name', 'patch_size', 'shape'])\n",
      "0216_resized\n",
      "Starting Training\n",
      "epoch: 00, loss: -0.78784\n",
      "epoch: 01, loss: -0.83121\n",
      "epoch: 02, loss: -0.84722\n",
      "epoch: 03, loss: -0.85907\n",
      "epoch: 04, loss: -0.86797\n",
      "epoch: 05, loss: -0.87492\n",
      "epoch: 06, loss: -0.88065\n",
      "epoch: 07, loss: -0.88547\n",
      "epoch: 08, loss: -0.88937\n",
      "epoch: 09, loss: -0.89312\n",
      "torch.Size([1024, 64])\n"
     ]
    },
    {
     "name": "stderr",
     "output_type": "stream",
     "text": [
      " 22%|██▏       | 215/999 [4:14:05<16:43:44, 76.82s/it]"
     ]
    },
    {
     "name": "stdout",
     "output_type": "stream",
     "text": [
      "eigenvalues shape torch.Size([5]) eigenvectors shape torch.Size([5, 1024])\n",
      "215 /home/phdcs2/Hard_Disk/Datasets/Deep-Spectral-Segmentation/data/object-segmentation/ECSSD/features/0217_resized.pth\n",
      "dict_keys(['k', 'indices', 'file', 'id', 'model_name', 'patch_size', 'shape'])\n",
      "0217_resized\n",
      "Starting Training\n",
      "epoch: 00, loss: -0.83655\n",
      "epoch: 01, loss: -0.87575\n",
      "epoch: 02, loss: -0.88874\n",
      "epoch: 03, loss: -0.89702\n",
      "epoch: 04, loss: -0.90312\n",
      "epoch: 05, loss: -0.90797\n",
      "epoch: 06, loss: -0.91210\n",
      "epoch: 07, loss: -0.91585\n",
      "epoch: 08, loss: -0.91881\n",
      "epoch: 09, loss: -0.92134\n",
      "torch.Size([1024, 64])\n"
     ]
    },
    {
     "name": "stderr",
     "output_type": "stream",
     "text": [
      " 22%|██▏       | 216/999 [4:15:28<17:07:42, 78.75s/it]"
     ]
    },
    {
     "name": "stdout",
     "output_type": "stream",
     "text": [
      "eigenvalues shape torch.Size([5]) eigenvectors shape torch.Size([5, 1024])\n",
      "216 /home/phdcs2/Hard_Disk/Datasets/Deep-Spectral-Segmentation/data/object-segmentation/ECSSD/features/0218_resized.pth\n",
      "dict_keys(['k', 'indices', 'file', 'id', 'model_name', 'patch_size', 'shape'])\n",
      "0218_resized\n"
     ]
    },
    {
     "name": "stderr",
     "output_type": "stream",
     "text": [
      "/home/phdcs2/Hard_Disk/Projects/T2I/deep-spectral-segmentation/venv/lib/python3.8/site-packages/sklearn/decomposition/_pca.py:642: RuntimeWarning: invalid value encountered in divide\n",
      "  self.explained_variance_ratio_ = self.explained_variance_ / total_var\n"
     ]
    },
    {
     "name": "stdout",
     "output_type": "stream",
     "text": [
      "Starting Training\n",
      "epoch: 00, loss: -0.89339\n",
      "epoch: 01, loss: -0.91868\n",
      "epoch: 02, loss: -0.92537\n",
      "epoch: 03, loss: -0.92967\n",
      "epoch: 04, loss: -0.93293\n",
      "epoch: 05, loss: -0.93546\n",
      "epoch: 06, loss: -0.93761\n",
      "epoch: 07, loss: -0.93941\n",
      "epoch: 08, loss: -0.94096\n",
      "epoch: 09, loss: -0.94239\n",
      "torch.Size([1024, 64])\n"
     ]
    },
    {
     "name": "stderr",
     "output_type": "stream",
     "text": [
      " 22%|██▏       | 217/999 [4:16:51<17:21:40, 79.92s/it]"
     ]
    },
    {
     "name": "stdout",
     "output_type": "stream",
     "text": [
      "eigenvalues shape torch.Size([5]) eigenvectors shape torch.Size([5, 1024])\n",
      "217 /home/phdcs2/Hard_Disk/Datasets/Deep-Spectral-Segmentation/data/object-segmentation/ECSSD/features/0219_resized.pth\n",
      "dict_keys(['k', 'indices', 'file', 'id', 'model_name', 'patch_size', 'shape'])\n",
      "0219_resized\n"
     ]
    },
    {
     "name": "stderr",
     "output_type": "stream",
     "text": [
      "/home/phdcs2/Hard_Disk/Projects/T2I/deep-spectral-segmentation/venv/lib/python3.8/site-packages/sklearn/decomposition/_pca.py:642: RuntimeWarning: invalid value encountered in divide\n",
      "  self.explained_variance_ratio_ = self.explained_variance_ / total_var\n"
     ]
    },
    {
     "name": "stdout",
     "output_type": "stream",
     "text": [
      "Starting Training\n",
      "epoch: 00, loss: -0.90712\n",
      "epoch: 01, loss: -0.92338\n",
      "epoch: 02, loss: -0.92778\n",
      "epoch: 03, loss: -0.93088\n",
      "epoch: 04, loss: -0.93328\n",
      "epoch: 05, loss: -0.93529\n",
      "epoch: 06, loss: -0.93697\n",
      "epoch: 07, loss: -0.93846\n",
      "epoch: 08, loss: -0.93969\n",
      "epoch: 09, loss: -0.94097\n",
      "torch.Size([1024, 64])\n"
     ]
    },
    {
     "name": "stderr",
     "output_type": "stream",
     "text": [
      " 22%|██▏       | 218/999 [4:18:17<17:42:21, 81.62s/it]"
     ]
    },
    {
     "name": "stdout",
     "output_type": "stream",
     "text": [
      "eigenvalues shape torch.Size([5]) eigenvectors shape torch.Size([5, 1024])\n",
      "218 /home/phdcs2/Hard_Disk/Datasets/Deep-Spectral-Segmentation/data/object-segmentation/ECSSD/features/0220_resized.pth\n",
      "dict_keys(['k', 'indices', 'file', 'id', 'model_name', 'patch_size', 'shape'])\n",
      "0220_resized\n",
      "Starting Training\n",
      "epoch: 00, loss: -0.91435\n",
      "epoch: 01, loss: -0.93513\n",
      "epoch: 02, loss: -0.94099\n",
      "epoch: 03, loss: -0.94465\n",
      "epoch: 04, loss: -0.94737\n",
      "epoch: 05, loss: -0.94945\n",
      "epoch: 06, loss: -0.95125\n",
      "epoch: 07, loss: -0.95276\n",
      "epoch: 08, loss: -0.95406\n",
      "epoch: 09, loss: -0.95519\n",
      "torch.Size([1024, 64])\n"
     ]
    },
    {
     "name": "stderr",
     "output_type": "stream",
     "text": [
      " 22%|██▏       | 219/999 [4:19:38<17:39:47, 81.52s/it]"
     ]
    },
    {
     "name": "stdout",
     "output_type": "stream",
     "text": [
      "eigenvalues shape torch.Size([5]) eigenvectors shape torch.Size([5, 1024])\n",
      "219 /home/phdcs2/Hard_Disk/Datasets/Deep-Spectral-Segmentation/data/object-segmentation/ECSSD/features/0221_resized.pth\n",
      "dict_keys(['k', 'indices', 'file', 'id', 'model_name', 'patch_size', 'shape'])\n",
      "0221_resized\n",
      "Starting Training\n",
      "epoch: 00, loss: -0.81520\n",
      "epoch: 01, loss: -0.85102\n",
      "epoch: 02, loss: -0.86499\n",
      "epoch: 03, loss: -0.87471\n",
      "epoch: 04, loss: -0.88164\n",
      "epoch: 05, loss: -0.88729\n",
      "epoch: 06, loss: -0.89201\n",
      "epoch: 07, loss: -0.89595\n",
      "epoch: 08, loss: -0.89962\n",
      "epoch: 09, loss: -0.90275\n",
      "torch.Size([1024, 64])\n"
     ]
    },
    {
     "name": "stderr",
     "output_type": "stream",
     "text": [
      " 22%|██▏       | 220/999 [4:21:03<17:51:00, 82.49s/it]"
     ]
    },
    {
     "name": "stdout",
     "output_type": "stream",
     "text": [
      "eigenvalues shape torch.Size([5]) eigenvectors shape torch.Size([5, 1024])\n",
      "220 /home/phdcs2/Hard_Disk/Datasets/Deep-Spectral-Segmentation/data/object-segmentation/ECSSD/features/0222_resized.pth\n",
      "dict_keys(['k', 'indices', 'file', 'id', 'model_name', 'patch_size', 'shape'])\n",
      "0222_resized\n"
     ]
    },
    {
     "name": "stderr",
     "output_type": "stream",
     "text": [
      "/home/phdcs2/Hard_Disk/Projects/T2I/deep-spectral-segmentation/venv/lib/python3.8/site-packages/sklearn/decomposition/_pca.py:642: RuntimeWarning: invalid value encountered in divide\n",
      "  self.explained_variance_ratio_ = self.explained_variance_ / total_var\n"
     ]
    },
    {
     "name": "stdout",
     "output_type": "stream",
     "text": [
      "Starting Training\n",
      "epoch: 00, loss: -0.89878\n",
      "epoch: 01, loss: -0.91999\n",
      "epoch: 02, loss: -0.92686\n",
      "epoch: 03, loss: -0.93120\n",
      "epoch: 04, loss: -0.93459\n",
      "epoch: 05, loss: -0.93721\n",
      "epoch: 06, loss: -0.93937\n",
      "epoch: 07, loss: -0.94128\n",
      "epoch: 08, loss: -0.94290\n",
      "epoch: 09, loss: -0.94432\n",
      "torch.Size([1024, 64])\n"
     ]
    },
    {
     "name": "stderr",
     "output_type": "stream",
     "text": [
      " 22%|██▏       | 221/999 [4:22:30<18:08:31, 83.95s/it]"
     ]
    },
    {
     "name": "stdout",
     "output_type": "stream",
     "text": [
      "eigenvalues shape torch.Size([5]) eigenvectors shape torch.Size([5, 1024])\n",
      "221 /home/phdcs2/Hard_Disk/Datasets/Deep-Spectral-Segmentation/data/object-segmentation/ECSSD/features/0223_resized.pth\n",
      "dict_keys(['k', 'indices', 'file', 'id', 'model_name', 'patch_size', 'shape'])\n",
      "0223_resized\n",
      "Starting Training\n",
      "epoch: 00, loss: -0.84035\n",
      "epoch: 01, loss: -0.87001\n",
      "epoch: 02, loss: -0.88047\n",
      "epoch: 03, loss: -0.88791\n",
      "epoch: 04, loss: -0.89342\n",
      "epoch: 05, loss: -0.89810\n",
      "epoch: 06, loss: -0.90210\n",
      "epoch: 07, loss: -0.90570\n",
      "epoch: 08, loss: -0.90891\n",
      "epoch: 09, loss: -0.91149\n",
      "torch.Size([1024, 64])\n"
     ]
    },
    {
     "name": "stderr",
     "output_type": "stream",
     "text": [
      " 22%|██▏       | 222/999 [4:23:52<18:00:32, 83.44s/it]"
     ]
    },
    {
     "name": "stdout",
     "output_type": "stream",
     "text": [
      "eigenvalues shape torch.Size([5]) eigenvectors shape torch.Size([5, 1024])\n",
      "222 /home/phdcs2/Hard_Disk/Datasets/Deep-Spectral-Segmentation/data/object-segmentation/ECSSD/features/0224_resized.pth\n",
      "dict_keys(['k', 'indices', 'file', 'id', 'model_name', 'patch_size', 'shape'])\n",
      "0224_resized\n",
      "Starting Training\n",
      "epoch: 00, loss: -0.79046\n",
      "epoch: 01, loss: -0.83567\n",
      "epoch: 02, loss: -0.85247\n",
      "epoch: 03, loss: -0.86357\n",
      "epoch: 04, loss: -0.87240\n",
      "epoch: 05, loss: -0.87876\n",
      "epoch: 06, loss: -0.88420\n",
      "epoch: 07, loss: -0.88892\n",
      "epoch: 08, loss: -0.89314\n",
      "epoch: 09, loss: -0.89696\n",
      "torch.Size([1024, 64])\n"
     ]
    },
    {
     "name": "stderr",
     "output_type": "stream",
     "text": [
      " 22%|██▏       | 223/999 [4:25:16<17:59:06, 83.44s/it]"
     ]
    },
    {
     "name": "stdout",
     "output_type": "stream",
     "text": [
      "eigenvalues shape torch.Size([5]) eigenvectors shape torch.Size([5, 1024])\n",
      "223 /home/phdcs2/Hard_Disk/Datasets/Deep-Spectral-Segmentation/data/object-segmentation/ECSSD/features/0225_resized.pth\n",
      "dict_keys(['k', 'indices', 'file', 'id', 'model_name', 'patch_size', 'shape'])\n",
      "0225_resized\n",
      "Starting Training\n",
      "epoch: 00, loss: -0.79603\n",
      "epoch: 01, loss: -0.83534\n",
      "epoch: 02, loss: -0.85002\n",
      "epoch: 03, loss: -0.85960\n",
      "epoch: 04, loss: -0.86741\n",
      "epoch: 05, loss: -0.87340\n",
      "epoch: 06, loss: -0.87859\n",
      "epoch: 07, loss: -0.88304\n",
      "epoch: 08, loss: -0.88639\n",
      "epoch: 09, loss: -0.89008\n",
      "torch.Size([1024, 64])\n"
     ]
    },
    {
     "name": "stderr",
     "output_type": "stream",
     "text": [
      " 22%|██▏       | 224/999 [4:26:41<18:05:59, 84.08s/it]"
     ]
    },
    {
     "name": "stdout",
     "output_type": "stream",
     "text": [
      "eigenvalues shape torch.Size([5]) eigenvectors shape torch.Size([5, 1024])\n",
      "224 /home/phdcs2/Hard_Disk/Datasets/Deep-Spectral-Segmentation/data/object-segmentation/ECSSD/features/0226_resized.pth\n",
      "dict_keys(['k', 'indices', 'file', 'id', 'model_name', 'patch_size', 'shape'])\n",
      "0226_resized\n",
      "Starting Training\n",
      "epoch: 00, loss: -0.82272\n",
      "epoch: 01, loss: -0.86425\n",
      "epoch: 02, loss: -0.87825\n",
      "epoch: 03, loss: -0.88755\n",
      "epoch: 04, loss: -0.89387\n",
      "epoch: 05, loss: -0.89917\n",
      "epoch: 06, loss: -0.90332\n",
      "epoch: 07, loss: -0.90691\n",
      "epoch: 08, loss: -0.90999\n",
      "epoch: 09, loss: -0.91274\n",
      "torch.Size([1024, 64])\n"
     ]
    },
    {
     "name": "stderr",
     "output_type": "stream",
     "text": [
      " 23%|██▎       | 225/999 [4:28:02<17:52:38, 83.15s/it]"
     ]
    },
    {
     "name": "stdout",
     "output_type": "stream",
     "text": [
      "eigenvalues shape torch.Size([5]) eigenvectors shape torch.Size([5, 1024])\n",
      "225 /home/phdcs2/Hard_Disk/Datasets/Deep-Spectral-Segmentation/data/object-segmentation/ECSSD/features/0227_resized.pth\n",
      "dict_keys(['k', 'indices', 'file', 'id', 'model_name', 'patch_size', 'shape'])\n",
      "0227_resized\n",
      "Starting Training\n",
      "epoch: 00, loss: -0.85189\n",
      "epoch: 01, loss: -0.88535\n",
      "epoch: 02, loss: -0.89593\n",
      "epoch: 03, loss: -0.90270\n",
      "epoch: 04, loss: -0.90748\n",
      "epoch: 05, loss: -0.91133\n",
      "epoch: 06, loss: -0.91456\n",
      "epoch: 07, loss: -0.91743\n",
      "epoch: 08, loss: -0.91974\n",
      "epoch: 09, loss: -0.92177\n",
      "torch.Size([1024, 64])\n"
     ]
    },
    {
     "name": "stderr",
     "output_type": "stream",
     "text": [
      " 23%|██▎       | 226/999 [4:29:26<17:55:05, 83.45s/it]"
     ]
    },
    {
     "name": "stdout",
     "output_type": "stream",
     "text": [
      "eigenvalues shape torch.Size([5]) eigenvectors shape torch.Size([5, 1024])\n",
      "226 /home/phdcs2/Hard_Disk/Datasets/Deep-Spectral-Segmentation/data/object-segmentation/ECSSD/features/0228_resized.pth\n",
      "dict_keys(['k', 'indices', 'file', 'id', 'model_name', 'patch_size', 'shape'])\n",
      "0228_resized\n",
      "Starting Training\n",
      "epoch: 00, loss: -0.83255\n",
      "epoch: 01, loss: -0.87013\n",
      "epoch: 02, loss: -0.88252\n",
      "epoch: 03, loss: -0.89068\n",
      "epoch: 04, loss: -0.89696\n",
      "epoch: 05, loss: -0.90181\n",
      "epoch: 06, loss: -0.90614\n",
      "epoch: 07, loss: -0.90985\n",
      "epoch: 08, loss: -0.91322\n",
      "epoch: 09, loss: -0.91609\n",
      "torch.Size([1024, 64])\n"
     ]
    },
    {
     "name": "stderr",
     "output_type": "stream",
     "text": [
      " 23%|██▎       | 227/999 [4:30:55<18:14:56, 85.10s/it]"
     ]
    },
    {
     "name": "stdout",
     "output_type": "stream",
     "text": [
      "eigenvalues shape torch.Size([5]) eigenvectors shape torch.Size([5, 1024])\n",
      "227 /home/phdcs2/Hard_Disk/Datasets/Deep-Spectral-Segmentation/data/object-segmentation/ECSSD/features/0229_resized.pth\n",
      "dict_keys(['k', 'indices', 'file', 'id', 'model_name', 'patch_size', 'shape'])\n",
      "0229_resized\n",
      "Starting Training\n",
      "epoch: 00, loss: -0.78742\n",
      "epoch: 01, loss: -0.83434\n",
      "epoch: 02, loss: -0.85163\n",
      "epoch: 03, loss: -0.86301\n",
      "epoch: 04, loss: -0.87094\n",
      "epoch: 05, loss: -0.87736\n",
      "epoch: 06, loss: -0.88243\n",
      "epoch: 07, loss: -0.88709\n",
      "epoch: 08, loss: -0.89108\n",
      "epoch: 09, loss: -0.89469\n",
      "torch.Size([1024, 64])\n"
     ]
    },
    {
     "name": "stderr",
     "output_type": "stream",
     "text": [
      " 23%|██▎       | 228/999 [4:32:20<18:13:40, 85.11s/it]"
     ]
    },
    {
     "name": "stdout",
     "output_type": "stream",
     "text": [
      "eigenvalues shape torch.Size([5]) eigenvectors shape torch.Size([5, 1024])\n",
      "228 /home/phdcs2/Hard_Disk/Datasets/Deep-Spectral-Segmentation/data/object-segmentation/ECSSD/features/0230_resized.pth\n",
      "dict_keys(['k', 'indices', 'file', 'id', 'model_name', 'patch_size', 'shape'])\n",
      "0230_resized\n",
      "Starting Training\n",
      "epoch: 00, loss: -0.81446\n",
      "epoch: 01, loss: -0.85396\n",
      "epoch: 02, loss: -0.86743\n",
      "epoch: 03, loss: -0.87689\n",
      "epoch: 04, loss: -0.88377\n",
      "epoch: 05, loss: -0.88916\n",
      "epoch: 06, loss: -0.89364\n",
      "epoch: 07, loss: -0.89788\n",
      "epoch: 08, loss: -0.90140\n",
      "epoch: 09, loss: -0.90442\n",
      "torch.Size([1024, 64])\n"
     ]
    },
    {
     "name": "stderr",
     "output_type": "stream",
     "text": [
      " 23%|██▎       | 229/999 [4:33:53<18:40:10, 87.29s/it]"
     ]
    },
    {
     "name": "stdout",
     "output_type": "stream",
     "text": [
      "eigenvalues shape torch.Size([5]) eigenvectors shape torch.Size([5, 1024])\n",
      "229 /home/phdcs2/Hard_Disk/Datasets/Deep-Spectral-Segmentation/data/object-segmentation/ECSSD/features/0231_resized.pth\n",
      "dict_keys(['k', 'indices', 'file', 'id', 'model_name', 'patch_size', 'shape'])\n",
      "0231_resized\n",
      "Starting Training\n",
      "epoch: 00, loss: -0.89633\n",
      "epoch: 01, loss: -0.92599\n",
      "epoch: 02, loss: -0.93469\n",
      "epoch: 03, loss: -0.94011\n",
      "epoch: 04, loss: -0.94384\n",
      "epoch: 05, loss: -0.94656\n",
      "epoch: 06, loss: -0.94897\n",
      "epoch: 07, loss: -0.95088\n",
      "epoch: 08, loss: -0.95256\n",
      "epoch: 09, loss: -0.95407\n",
      "torch.Size([1024, 64])\n"
     ]
    },
    {
     "name": "stderr",
     "output_type": "stream",
     "text": [
      " 23%|██▎       | 230/999 [4:35:16<18:23:49, 86.12s/it]"
     ]
    },
    {
     "name": "stdout",
     "output_type": "stream",
     "text": [
      "eigenvalues shape torch.Size([5]) eigenvectors shape torch.Size([5, 1024])\n",
      "230 /home/phdcs2/Hard_Disk/Datasets/Deep-Spectral-Segmentation/data/object-segmentation/ECSSD/features/0232_resized.pth\n",
      "dict_keys(['k', 'indices', 'file', 'id', 'model_name', 'patch_size', 'shape'])\n",
      "0232_resized\n"
     ]
    },
    {
     "name": "stderr",
     "output_type": "stream",
     "text": [
      "/home/phdcs2/Hard_Disk/Projects/T2I/deep-spectral-segmentation/venv/lib/python3.8/site-packages/sklearn/decomposition/_pca.py:642: RuntimeWarning: invalid value encountered in divide\n",
      "  self.explained_variance_ratio_ = self.explained_variance_ / total_var\n"
     ]
    },
    {
     "name": "stdout",
     "output_type": "stream",
     "text": [
      "Starting Training\n",
      "epoch: 00, loss: -0.89362\n",
      "epoch: 01, loss: -0.92099\n",
      "epoch: 02, loss: -0.92847\n",
      "epoch: 03, loss: -0.93336\n",
      "epoch: 04, loss: -0.93710\n",
      "epoch: 05, loss: -0.94002\n",
      "epoch: 06, loss: -0.94244\n",
      "epoch: 07, loss: -0.94451\n",
      "epoch: 08, loss: -0.94631\n",
      "epoch: 09, loss: -0.94787\n",
      "torch.Size([1024, 64])\n"
     ]
    },
    {
     "name": "stderr",
     "output_type": "stream",
     "text": [
      " 23%|██▎       | 231/999 [4:36:43<18:26:00, 86.41s/it]"
     ]
    },
    {
     "name": "stdout",
     "output_type": "stream",
     "text": [
      "eigenvalues shape torch.Size([5]) eigenvectors shape torch.Size([5, 1024])\n",
      "231 /home/phdcs2/Hard_Disk/Datasets/Deep-Spectral-Segmentation/data/object-segmentation/ECSSD/features/0233_resized.pth\n",
      "dict_keys(['k', 'indices', 'file', 'id', 'model_name', 'patch_size', 'shape'])\n",
      "0233_resized\n"
     ]
    },
    {
     "name": "stderr",
     "output_type": "stream",
     "text": [
      "/home/phdcs2/Hard_Disk/Projects/T2I/deep-spectral-segmentation/venv/lib/python3.8/site-packages/sklearn/decomposition/_pca.py:642: RuntimeWarning: invalid value encountered in divide\n",
      "  self.explained_variance_ratio_ = self.explained_variance_ / total_var\n"
     ]
    },
    {
     "name": "stdout",
     "output_type": "stream",
     "text": [
      "Starting Training\n",
      "epoch: 00, loss: -0.88500\n",
      "epoch: 01, loss: -0.90800\n",
      "epoch: 02, loss: -0.91516\n",
      "epoch: 03, loss: -0.91990\n",
      "epoch: 04, loss: -0.92340\n",
      "epoch: 05, loss: -0.92629\n",
      "epoch: 06, loss: -0.92865\n",
      "epoch: 07, loss: -0.93072\n",
      "epoch: 08, loss: -0.93252\n",
      "epoch: 09, loss: -0.93408\n",
      "torch.Size([1024, 64])\n"
     ]
    },
    {
     "name": "stderr",
     "output_type": "stream",
     "text": [
      " 23%|██▎       | 232/999 [4:38:07<18:15:18, 85.68s/it]"
     ]
    },
    {
     "name": "stdout",
     "output_type": "stream",
     "text": [
      "eigenvalues shape torch.Size([5]) eigenvectors shape torch.Size([5, 1024])\n",
      "232 /home/phdcs2/Hard_Disk/Datasets/Deep-Spectral-Segmentation/data/object-segmentation/ECSSD/features/0234_resized.pth\n",
      "dict_keys(['k', 'indices', 'file', 'id', 'model_name', 'patch_size', 'shape'])\n",
      "0234_resized\n",
      "Starting Training\n",
      "epoch: 00, loss: -0.75976\n",
      "epoch: 01, loss: -0.80995\n",
      "epoch: 02, loss: -0.82937\n",
      "epoch: 03, loss: -0.84157\n",
      "epoch: 04, loss: -0.85154\n",
      "epoch: 05, loss: -0.85947\n",
      "epoch: 06, loss: -0.86598\n",
      "epoch: 07, loss: -0.87153\n",
      "epoch: 08, loss: -0.87660\n",
      "epoch: 09, loss: -0.88107\n",
      "torch.Size([1024, 64])\n"
     ]
    },
    {
     "name": "stderr",
     "output_type": "stream",
     "text": [
      " 23%|██▎       | 233/999 [4:39:27<17:51:49, 83.95s/it]"
     ]
    },
    {
     "name": "stdout",
     "output_type": "stream",
     "text": [
      "eigenvalues shape torch.Size([5]) eigenvectors shape torch.Size([5, 1024])\n",
      "233 /home/phdcs2/Hard_Disk/Datasets/Deep-Spectral-Segmentation/data/object-segmentation/ECSSD/features/0235_resized.pth\n",
      "dict_keys(['k', 'indices', 'file', 'id', 'model_name', 'patch_size', 'shape'])\n",
      "0235_resized\n",
      "Starting Training\n",
      "epoch: 00, loss: -0.80925\n",
      "epoch: 01, loss: -0.85023\n",
      "epoch: 02, loss: -0.86632\n",
      "epoch: 03, loss: -0.87668\n",
      "epoch: 04, loss: -0.88519\n",
      "epoch: 05, loss: -0.89132\n",
      "epoch: 06, loss: -0.89664\n",
      "epoch: 07, loss: -0.90135\n",
      "epoch: 08, loss: -0.90517\n",
      "epoch: 09, loss: -0.90897\n",
      "torch.Size([1024, 64])\n"
     ]
    },
    {
     "name": "stderr",
     "output_type": "stream",
     "text": [
      " 23%|██▎       | 234/999 [4:40:47<17:36:18, 82.85s/it]"
     ]
    },
    {
     "name": "stdout",
     "output_type": "stream",
     "text": [
      "eigenvalues shape torch.Size([5]) eigenvectors shape torch.Size([5, 1024])\n",
      "234 /home/phdcs2/Hard_Disk/Datasets/Deep-Spectral-Segmentation/data/object-segmentation/ECSSD/features/0236_resized.pth\n",
      "dict_keys(['k', 'indices', 'file', 'id', 'model_name', 'patch_size', 'shape'])\n",
      "0236_resized\n",
      "Starting Training\n",
      "epoch: 00, loss: -0.90520\n",
      "epoch: 01, loss: -0.92863\n",
      "epoch: 02, loss: -0.93528\n",
      "epoch: 03, loss: -0.93956\n",
      "epoch: 04, loss: -0.94271\n",
      "epoch: 05, loss: -0.94518\n",
      "epoch: 06, loss: -0.94721\n",
      "epoch: 07, loss: -0.94901\n",
      "epoch: 08, loss: -0.95044\n",
      "epoch: 09, loss: -0.95179\n",
      "torch.Size([1024, 64])\n"
     ]
    },
    {
     "name": "stderr",
     "output_type": "stream",
     "text": [
      " 24%|██▎       | 235/999 [4:42:07<17:24:09, 82.00s/it]"
     ]
    },
    {
     "name": "stdout",
     "output_type": "stream",
     "text": [
      "eigenvalues shape torch.Size([5]) eigenvectors shape torch.Size([5, 1024])\n",
      "235 /home/phdcs2/Hard_Disk/Datasets/Deep-Spectral-Segmentation/data/object-segmentation/ECSSD/features/0237_resized.pth\n",
      "dict_keys(['k', 'indices', 'file', 'id', 'model_name', 'patch_size', 'shape'])\n",
      "0237_resized\n",
      "Starting Training\n",
      "epoch: 00, loss: -0.82173\n",
      "epoch: 01, loss: -0.85776\n",
      "epoch: 02, loss: -0.87127\n",
      "epoch: 03, loss: -0.87991\n",
      "epoch: 04, loss: -0.88686\n",
      "epoch: 05, loss: -0.89236\n",
      "epoch: 06, loss: -0.89709\n",
      "epoch: 07, loss: -0.90132\n",
      "epoch: 08, loss: -0.90461\n",
      "epoch: 09, loss: -0.90769\n",
      "torch.Size([1024, 64])\n"
     ]
    },
    {
     "name": "stderr",
     "output_type": "stream",
     "text": [
      " 24%|██▎       | 236/999 [4:43:22<16:53:54, 79.73s/it]"
     ]
    },
    {
     "name": "stdout",
     "output_type": "stream",
     "text": [
      "eigenvalues shape torch.Size([5]) eigenvectors shape torch.Size([5, 1024])\n",
      "236 /home/phdcs2/Hard_Disk/Datasets/Deep-Spectral-Segmentation/data/object-segmentation/ECSSD/features/0238_resized.pth\n",
      "dict_keys(['k', 'indices', 'file', 'id', 'model_name', 'patch_size', 'shape'])\n",
      "0238_resized\n",
      "Starting Training\n",
      "epoch: 00, loss: -0.81778\n",
      "epoch: 01, loss: -0.85041\n",
      "epoch: 02, loss: -0.86322\n",
      "epoch: 03, loss: -0.87217\n",
      "epoch: 04, loss: -0.87929\n",
      "epoch: 05, loss: -0.88468\n",
      "epoch: 06, loss: -0.88928\n",
      "epoch: 07, loss: -0.89333\n",
      "epoch: 08, loss: -0.89679\n",
      "epoch: 09, loss: -0.90006\n",
      "torch.Size([1024, 64])\n"
     ]
    },
    {
     "name": "stderr",
     "output_type": "stream",
     "text": [
      " 24%|██▎       | 237/999 [4:44:30<16:07:43, 76.20s/it]"
     ]
    },
    {
     "name": "stdout",
     "output_type": "stream",
     "text": [
      "eigenvalues shape torch.Size([5]) eigenvectors shape torch.Size([5, 1024])\n",
      "237 /home/phdcs2/Hard_Disk/Datasets/Deep-Spectral-Segmentation/data/object-segmentation/ECSSD/features/0239_resized.pth\n",
      "dict_keys(['k', 'indices', 'file', 'id', 'model_name', 'patch_size', 'shape'])\n",
      "0239_resized\n",
      "Starting Training\n",
      "epoch: 00, loss: -0.85546\n",
      "epoch: 01, loss: -0.88894\n",
      "epoch: 02, loss: -0.89965\n",
      "epoch: 03, loss: -0.90665\n",
      "epoch: 04, loss: -0.91186\n",
      "epoch: 05, loss: -0.91583\n",
      "epoch: 06, loss: -0.91943\n",
      "epoch: 07, loss: -0.92229\n",
      "epoch: 08, loss: -0.92461\n",
      "epoch: 09, loss: -0.92664\n",
      "torch.Size([1024, 64])\n"
     ]
    },
    {
     "name": "stderr",
     "output_type": "stream",
     "text": [
      " 24%|██▍       | 238/999 [4:45:53<16:33:39, 78.34s/it]"
     ]
    },
    {
     "name": "stdout",
     "output_type": "stream",
     "text": [
      "eigenvalues shape torch.Size([5]) eigenvectors shape torch.Size([5, 1024])\n",
      "238 /home/phdcs2/Hard_Disk/Datasets/Deep-Spectral-Segmentation/data/object-segmentation/ECSSD/features/0240_resized.pth\n",
      "dict_keys(['k', 'indices', 'file', 'id', 'model_name', 'patch_size', 'shape'])\n",
      "0240_resized\n",
      "Starting Training\n",
      "epoch: 00, loss: -0.80610\n",
      "epoch: 01, loss: -0.85802\n",
      "epoch: 02, loss: -0.87532\n",
      "epoch: 03, loss: -0.88692\n",
      "epoch: 04, loss: -0.89541\n",
      "epoch: 05, loss: -0.90169\n",
      "epoch: 06, loss: -0.90686\n",
      "epoch: 07, loss: -0.91121\n",
      "epoch: 08, loss: -0.91494\n",
      "epoch: 09, loss: -0.91808\n",
      "torch.Size([1024, 64])\n"
     ]
    },
    {
     "name": "stderr",
     "output_type": "stream",
     "text": [
      " 24%|██▍       | 239/999 [4:47:15<16:44:11, 79.28s/it]"
     ]
    },
    {
     "name": "stdout",
     "output_type": "stream",
     "text": [
      "eigenvalues shape torch.Size([5]) eigenvectors shape torch.Size([5, 1024])\n",
      "239 /home/phdcs2/Hard_Disk/Datasets/Deep-Spectral-Segmentation/data/object-segmentation/ECSSD/features/0241_resized.pth\n",
      "dict_keys(['k', 'indices', 'file', 'id', 'model_name', 'patch_size', 'shape'])\n",
      "0241_resized\n",
      "Starting Training\n",
      "epoch: 00, loss: -0.92662\n",
      "epoch: 01, loss: -0.94686\n",
      "epoch: 02, loss: -0.95171\n",
      "epoch: 03, loss: -0.95479\n",
      "epoch: 04, loss: -0.95707\n",
      "epoch: 05, loss: -0.95889\n",
      "epoch: 06, loss: -0.96038\n",
      "epoch: 07, loss: -0.96160\n",
      "epoch: 08, loss: -0.96270\n",
      "epoch: 09, loss: -0.96366\n",
      "torch.Size([1024, 64])\n"
     ]
    },
    {
     "name": "stderr",
     "output_type": "stream",
     "text": [
      " 24%|██▍       | 240/999 [4:48:38<16:57:29, 80.43s/it]"
     ]
    },
    {
     "name": "stdout",
     "output_type": "stream",
     "text": [
      "eigenvalues shape torch.Size([5]) eigenvectors shape torch.Size([5, 1024])\n",
      "240 /home/phdcs2/Hard_Disk/Datasets/Deep-Spectral-Segmentation/data/object-segmentation/ECSSD/features/0242_resized.pth\n",
      "dict_keys(['k', 'indices', 'file', 'id', 'model_name', 'patch_size', 'shape'])\n",
      "0242_resized\n",
      "Starting Training\n",
      "epoch: 00, loss: -0.77853\n",
      "epoch: 01, loss: -0.82410\n",
      "epoch: 02, loss: -0.84180\n",
      "epoch: 03, loss: -0.85269\n",
      "epoch: 04, loss: -0.86165\n",
      "epoch: 05, loss: -0.86830\n",
      "epoch: 06, loss: -0.87399\n",
      "epoch: 07, loss: -0.87898\n",
      "epoch: 08, loss: -0.88332\n",
      "epoch: 09, loss: -0.88700\n",
      "torch.Size([1024, 64])\n"
     ]
    },
    {
     "name": "stderr",
     "output_type": "stream",
     "text": [
      " 24%|██▍       | 241/999 [4:50:00<17:04:09, 81.07s/it]"
     ]
    },
    {
     "name": "stdout",
     "output_type": "stream",
     "text": [
      "eigenvalues shape torch.Size([5]) eigenvectors shape torch.Size([5, 1024])\n",
      "241 /home/phdcs2/Hard_Disk/Datasets/Deep-Spectral-Segmentation/data/object-segmentation/ECSSD/features/0243_resized.pth\n",
      "dict_keys(['k', 'indices', 'file', 'id', 'model_name', 'patch_size', 'shape'])\n",
      "0243_resized\n"
     ]
    },
    {
     "name": "stderr",
     "output_type": "stream",
     "text": [
      "/home/phdcs2/Hard_Disk/Projects/T2I/deep-spectral-segmentation/venv/lib/python3.8/site-packages/sklearn/decomposition/_pca.py:642: RuntimeWarning: invalid value encountered in divide\n",
      "  self.explained_variance_ratio_ = self.explained_variance_ / total_var\n"
     ]
    },
    {
     "name": "stdout",
     "output_type": "stream",
     "text": [
      "Starting Training\n",
      "epoch: 00, loss: -0.89949\n",
      "epoch: 01, loss: -0.92633\n",
      "epoch: 02, loss: -0.93300\n",
      "epoch: 03, loss: -0.93749\n",
      "epoch: 04, loss: -0.94082\n",
      "epoch: 05, loss: -0.94346\n",
      "epoch: 06, loss: -0.94565\n",
      "epoch: 07, loss: -0.94745\n",
      "epoch: 08, loss: -0.94902\n",
      "epoch: 09, loss: -0.95044\n",
      "torch.Size([1024, 64])\n"
     ]
    },
    {
     "name": "stderr",
     "output_type": "stream",
     "text": [
      " 24%|██▍       | 242/999 [4:51:27<17:25:36, 82.87s/it]"
     ]
    },
    {
     "name": "stdout",
     "output_type": "stream",
     "text": [
      "eigenvalues shape torch.Size([5]) eigenvectors shape torch.Size([5, 1024])\n",
      "242 /home/phdcs2/Hard_Disk/Datasets/Deep-Spectral-Segmentation/data/object-segmentation/ECSSD/features/0244_resized.pth\n",
      "dict_keys(['k', 'indices', 'file', 'id', 'model_name', 'patch_size', 'shape'])\n",
      "0244_resized\n"
     ]
    },
    {
     "name": "stderr",
     "output_type": "stream",
     "text": [
      "/home/phdcs2/Hard_Disk/Projects/T2I/deep-spectral-segmentation/venv/lib/python3.8/site-packages/sklearn/decomposition/_pca.py:642: RuntimeWarning: invalid value encountered in divide\n",
      "  self.explained_variance_ratio_ = self.explained_variance_ / total_var\n"
     ]
    },
    {
     "name": "stdout",
     "output_type": "stream",
     "text": [
      "Starting Training\n",
      "epoch: 00, loss: -0.88722\n",
      "epoch: 01, loss: -0.91494\n",
      "epoch: 02, loss: -0.92238\n",
      "epoch: 03, loss: -0.92707\n",
      "epoch: 04, loss: -0.93068\n",
      "epoch: 05, loss: -0.93355\n",
      "epoch: 06, loss: -0.93589\n",
      "epoch: 07, loss: -0.93781\n",
      "epoch: 08, loss: -0.93953\n",
      "epoch: 09, loss: -0.94101\n",
      "torch.Size([1024, 64])\n"
     ]
    },
    {
     "name": "stderr",
     "output_type": "stream",
     "text": [
      " 24%|██▍       | 243/999 [4:53:04<18:16:37, 87.03s/it]"
     ]
    },
    {
     "name": "stdout",
     "output_type": "stream",
     "text": [
      "eigenvalues shape torch.Size([5]) eigenvectors shape torch.Size([5, 1024])\n",
      "243 /home/phdcs2/Hard_Disk/Datasets/Deep-Spectral-Segmentation/data/object-segmentation/ECSSD/features/0245_resized.pth\n",
      "dict_keys(['k', 'indices', 'file', 'id', 'model_name', 'patch_size', 'shape'])\n",
      "0245_resized\n"
     ]
    },
    {
     "name": "stderr",
     "output_type": "stream",
     "text": [
      "/home/phdcs2/Hard_Disk/Projects/T2I/deep-spectral-segmentation/venv/lib/python3.8/site-packages/sklearn/decomposition/_pca.py:642: RuntimeWarning: invalid value encountered in divide\n",
      "  self.explained_variance_ratio_ = self.explained_variance_ / total_var\n"
     ]
    },
    {
     "name": "stdout",
     "output_type": "stream",
     "text": [
      "Starting Training\n",
      "epoch: 00, loss: -0.90578\n",
      "epoch: 01, loss: -0.92775\n",
      "epoch: 02, loss: -0.93362\n",
      "epoch: 03, loss: -0.93755\n",
      "epoch: 04, loss: -0.94046\n",
      "epoch: 05, loss: -0.94273\n",
      "epoch: 06, loss: -0.94464\n",
      "epoch: 07, loss: -0.94625\n",
      "epoch: 08, loss: -0.94771\n",
      "epoch: 09, loss: -0.94892\n",
      "torch.Size([1024, 64])\n"
     ]
    },
    {
     "name": "stderr",
     "output_type": "stream",
     "text": [
      " 24%|██▍       | 244/999 [4:54:35<18:27:38, 88.02s/it]"
     ]
    },
    {
     "name": "stdout",
     "output_type": "stream",
     "text": [
      "eigenvalues shape torch.Size([5]) eigenvectors shape torch.Size([5, 1024])\n",
      "244 /home/phdcs2/Hard_Disk/Datasets/Deep-Spectral-Segmentation/data/object-segmentation/ECSSD/features/0246_resized.pth\n",
      "dict_keys(['k', 'indices', 'file', 'id', 'model_name', 'patch_size', 'shape'])\n",
      "0246_resized\n",
      "Starting Training\n",
      "epoch: 00, loss: -0.89876\n",
      "epoch: 01, loss: -0.92469\n",
      "epoch: 02, loss: -0.93199\n",
      "epoch: 03, loss: -0.93693\n",
      "epoch: 04, loss: -0.94034\n",
      "epoch: 05, loss: -0.94309\n",
      "epoch: 06, loss: -0.94533\n",
      "epoch: 07, loss: -0.94726\n",
      "epoch: 08, loss: -0.94885\n",
      "epoch: 09, loss: -0.95033\n",
      "torch.Size([1024, 64])\n"
     ]
    },
    {
     "name": "stderr",
     "output_type": "stream",
     "text": [
      " 25%|██▍       | 245/999 [4:56:10<18:52:56, 90.15s/it]"
     ]
    },
    {
     "name": "stdout",
     "output_type": "stream",
     "text": [
      "eigenvalues shape torch.Size([5]) eigenvectors shape torch.Size([5, 1024])\n",
      "245 /home/phdcs2/Hard_Disk/Datasets/Deep-Spectral-Segmentation/data/object-segmentation/ECSSD/features/0247_resized.pth\n",
      "dict_keys(['k', 'indices', 'file', 'id', 'model_name', 'patch_size', 'shape'])\n",
      "0247_resized\n",
      "Starting Training\n",
      "epoch: 00, loss: -0.82623\n",
      "epoch: 01, loss: -0.86373\n",
      "epoch: 02, loss: -0.87622\n",
      "epoch: 03, loss: -0.88506\n",
      "epoch: 04, loss: -0.89170\n",
      "epoch: 05, loss: -0.89677\n",
      "epoch: 06, loss: -0.90118\n",
      "epoch: 07, loss: -0.90473\n",
      "epoch: 08, loss: -0.90789\n",
      "epoch: 09, loss: -0.91066\n",
      "torch.Size([1024, 64])\n"
     ]
    },
    {
     "name": "stderr",
     "output_type": "stream",
     "text": [
      " 25%|██▍       | 246/999 [4:57:43<19:03:27, 91.11s/it]"
     ]
    },
    {
     "name": "stdout",
     "output_type": "stream",
     "text": [
      "eigenvalues shape torch.Size([5]) eigenvectors shape torch.Size([5, 1024])\n",
      "246 /home/phdcs2/Hard_Disk/Datasets/Deep-Spectral-Segmentation/data/object-segmentation/ECSSD/features/0248_resized.pth\n",
      "dict_keys(['k', 'indices', 'file', 'id', 'model_name', 'patch_size', 'shape'])\n",
      "0248_resized\n",
      "Starting Training\n",
      "epoch: 00, loss: -0.82756\n",
      "epoch: 01, loss: -0.86267\n",
      "epoch: 02, loss: -0.87474\n",
      "epoch: 03, loss: -0.88255\n",
      "epoch: 04, loss: -0.88885\n",
      "epoch: 05, loss: -0.89407\n",
      "epoch: 06, loss: -0.89786\n",
      "epoch: 07, loss: -0.90164\n",
      "epoch: 08, loss: -0.90477\n",
      "epoch: 09, loss: -0.90777\n",
      "torch.Size([1024, 64])\n"
     ]
    },
    {
     "name": "stderr",
     "output_type": "stream",
     "text": [
      " 25%|██▍       | 247/999 [4:59:07<18:36:31, 89.08s/it]"
     ]
    },
    {
     "name": "stdout",
     "output_type": "stream",
     "text": [
      "eigenvalues shape torch.Size([5]) eigenvectors shape torch.Size([5, 1024])\n",
      "247 /home/phdcs2/Hard_Disk/Datasets/Deep-Spectral-Segmentation/data/object-segmentation/ECSSD/features/0249_resized.pth\n",
      "dict_keys(['k', 'indices', 'file', 'id', 'model_name', 'patch_size', 'shape'])\n",
      "0249_resized\n"
     ]
    },
    {
     "name": "stderr",
     "output_type": "stream",
     "text": [
      "/home/phdcs2/Hard_Disk/Projects/T2I/deep-spectral-segmentation/venv/lib/python3.8/site-packages/sklearn/decomposition/_pca.py:642: RuntimeWarning: invalid value encountered in divide\n",
      "  self.explained_variance_ratio_ = self.explained_variance_ / total_var\n"
     ]
    },
    {
     "name": "stdout",
     "output_type": "stream",
     "text": [
      "Starting Training\n",
      "epoch: 00, loss: -0.90620\n",
      "epoch: 01, loss: -0.93019\n",
      "epoch: 02, loss: -0.93590\n",
      "epoch: 03, loss: -0.93958\n",
      "epoch: 04, loss: -0.94229\n",
      "epoch: 05, loss: -0.94449\n",
      "epoch: 06, loss: -0.94618\n",
      "epoch: 07, loss: -0.94775\n",
      "epoch: 08, loss: -0.94906\n",
      "epoch: 09, loss: -0.95017\n",
      "torch.Size([1024, 64])\n"
     ]
    },
    {
     "name": "stderr",
     "output_type": "stream",
     "text": [
      " 25%|██▍       | 248/999 [5:00:35<18:29:32, 88.64s/it]"
     ]
    },
    {
     "name": "stdout",
     "output_type": "stream",
     "text": [
      "eigenvalues shape torch.Size([5]) eigenvectors shape torch.Size([5, 1024])\n",
      "248 /home/phdcs2/Hard_Disk/Datasets/Deep-Spectral-Segmentation/data/object-segmentation/ECSSD/features/0250_resized.pth\n",
      "dict_keys(['k', 'indices', 'file', 'id', 'model_name', 'patch_size', 'shape'])\n",
      "0250_resized\n"
     ]
    },
    {
     "name": "stderr",
     "output_type": "stream",
     "text": [
      "/home/phdcs2/Hard_Disk/Projects/T2I/deep-spectral-segmentation/venv/lib/python3.8/site-packages/sklearn/decomposition/_pca.py:642: RuntimeWarning: invalid value encountered in divide\n",
      "  self.explained_variance_ratio_ = self.explained_variance_ / total_var\n"
     ]
    },
    {
     "name": "stdout",
     "output_type": "stream",
     "text": [
      "Starting Training\n",
      "epoch: 00, loss: -0.91039\n",
      "epoch: 01, loss: -0.93484\n",
      "epoch: 02, loss: -0.94057\n",
      "epoch: 03, loss: -0.94433\n",
      "epoch: 04, loss: -0.94695\n",
      "epoch: 05, loss: -0.94913\n",
      "epoch: 06, loss: -0.95083\n",
      "epoch: 07, loss: -0.95229\n",
      "epoch: 08, loss: -0.95352\n",
      "epoch: 09, loss: -0.95471\n",
      "torch.Size([1024, 64])\n"
     ]
    },
    {
     "name": "stderr",
     "output_type": "stream",
     "text": [
      " 25%|██▍       | 249/999 [5:01:59<18:11:34, 87.33s/it]"
     ]
    },
    {
     "name": "stdout",
     "output_type": "stream",
     "text": [
      "eigenvalues shape torch.Size([5]) eigenvectors shape torch.Size([5, 1024])\n",
      "249 /home/phdcs2/Hard_Disk/Datasets/Deep-Spectral-Segmentation/data/object-segmentation/ECSSD/features/0251_resized.pth\n",
      "dict_keys(['k', 'indices', 'file', 'id', 'model_name', 'patch_size', 'shape'])\n",
      "0251_resized\n",
      "Starting Training\n",
      "epoch: 00, loss: -0.79195\n",
      "epoch: 01, loss: -0.83309\n",
      "epoch: 02, loss: -0.84948\n",
      "epoch: 03, loss: -0.86046\n",
      "epoch: 04, loss: -0.86869\n",
      "epoch: 05, loss: -0.87490\n",
      "epoch: 06, loss: -0.88013\n",
      "epoch: 07, loss: -0.88489\n",
      "epoch: 08, loss: -0.88874\n",
      "epoch: 09, loss: -0.89238\n",
      "torch.Size([1024, 64])\n"
     ]
    },
    {
     "name": "stderr",
     "output_type": "stream",
     "text": [
      " 25%|██▌       | 250/999 [5:03:19<17:41:25, 85.03s/it]"
     ]
    },
    {
     "name": "stdout",
     "output_type": "stream",
     "text": [
      "eigenvalues shape torch.Size([5]) eigenvectors shape torch.Size([5, 1024])\n",
      "250 /home/phdcs2/Hard_Disk/Datasets/Deep-Spectral-Segmentation/data/object-segmentation/ECSSD/features/0252_resized.pth\n",
      "dict_keys(['k', 'indices', 'file', 'id', 'model_name', 'patch_size', 'shape'])\n",
      "0252_resized\n",
      "Starting Training\n",
      "epoch: 00, loss: -0.82929\n",
      "epoch: 01, loss: -0.87023\n",
      "epoch: 02, loss: -0.88319\n",
      "epoch: 03, loss: -0.89274\n",
      "epoch: 04, loss: -0.89913\n",
      "epoch: 05, loss: -0.90409\n",
      "epoch: 06, loss: -0.90854\n",
      "epoch: 07, loss: -0.91212\n",
      "epoch: 08, loss: -0.91535\n",
      "epoch: 09, loss: -0.91808\n",
      "torch.Size([1024, 64])\n"
     ]
    },
    {
     "name": "stderr",
     "output_type": "stream",
     "text": [
      " 25%|██▌       | 251/999 [5:04:44<17:41:44, 85.17s/it]"
     ]
    },
    {
     "name": "stdout",
     "output_type": "stream",
     "text": [
      "eigenvalues shape torch.Size([5]) eigenvectors shape torch.Size([5, 1024])\n",
      "251 /home/phdcs2/Hard_Disk/Datasets/Deep-Spectral-Segmentation/data/object-segmentation/ECSSD/features/0253_resized.pth\n",
      "dict_keys(['k', 'indices', 'file', 'id', 'model_name', 'patch_size', 'shape'])\n",
      "0253_resized\n"
     ]
    },
    {
     "name": "stderr",
     "output_type": "stream",
     "text": [
      "/home/phdcs2/Hard_Disk/Projects/T2I/deep-spectral-segmentation/venv/lib/python3.8/site-packages/sklearn/decomposition/_pca.py:642: RuntimeWarning: invalid value encountered in divide\n",
      "  self.explained_variance_ratio_ = self.explained_variance_ / total_var\n"
     ]
    },
    {
     "name": "stdout",
     "output_type": "stream",
     "text": [
      "Starting Training\n",
      "epoch: 00, loss: -0.90193\n",
      "epoch: 01, loss: -0.92823\n",
      "epoch: 02, loss: -0.93412\n",
      "epoch: 03, loss: -0.93797\n",
      "epoch: 04, loss: -0.94088\n",
      "epoch: 05, loss: -0.94303\n",
      "epoch: 06, loss: -0.94494\n",
      "epoch: 07, loss: -0.94652\n",
      "epoch: 08, loss: -0.94795\n",
      "epoch: 09, loss: -0.94913\n",
      "torch.Size([1024, 64])\n"
     ]
    },
    {
     "name": "stderr",
     "output_type": "stream",
     "text": [
      " 25%|██▌       | 252/999 [5:06:00<17:06:22, 82.44s/it]"
     ]
    },
    {
     "name": "stdout",
     "output_type": "stream",
     "text": [
      "eigenvalues shape torch.Size([5]) eigenvectors shape torch.Size([5, 1024])\n",
      "252 /home/phdcs2/Hard_Disk/Datasets/Deep-Spectral-Segmentation/data/object-segmentation/ECSSD/features/0254_resized.pth\n",
      "dict_keys(['k', 'indices', 'file', 'id', 'model_name', 'patch_size', 'shape'])\n",
      "0254_resized\n",
      "Starting Training\n",
      "epoch: 00, loss: -0.89879\n",
      "epoch: 01, loss: -0.92251\n",
      "epoch: 02, loss: -0.92891\n",
      "epoch: 03, loss: -0.93334\n",
      "epoch: 04, loss: -0.93645\n",
      "epoch: 05, loss: -0.93901\n",
      "epoch: 06, loss: -0.94115\n",
      "epoch: 07, loss: -0.94294\n",
      "epoch: 08, loss: -0.94454\n",
      "epoch: 09, loss: -0.94592\n",
      "torch.Size([1024, 64])\n"
     ]
    },
    {
     "name": "stderr",
     "output_type": "stream",
     "text": [
      " 25%|██▌       | 253/999 [5:07:22<17:02:55, 82.27s/it]"
     ]
    },
    {
     "name": "stdout",
     "output_type": "stream",
     "text": [
      "eigenvalues shape torch.Size([5]) eigenvectors shape torch.Size([5, 1024])\n",
      "253 /home/phdcs2/Hard_Disk/Datasets/Deep-Spectral-Segmentation/data/object-segmentation/ECSSD/features/0255_resized.pth\n",
      "dict_keys(['k', 'indices', 'file', 'id', 'model_name', 'patch_size', 'shape'])\n",
      "0255_resized\n"
     ]
    },
    {
     "name": "stderr",
     "output_type": "stream",
     "text": [
      "/home/phdcs2/Hard_Disk/Projects/T2I/deep-spectral-segmentation/venv/lib/python3.8/site-packages/sklearn/decomposition/_pca.py:642: RuntimeWarning: invalid value encountered in divide\n",
      "  self.explained_variance_ratio_ = self.explained_variance_ / total_var\n"
     ]
    },
    {
     "name": "stdout",
     "output_type": "stream",
     "text": [
      "Starting Training\n",
      "epoch: 00, loss: -0.90976\n",
      "epoch: 01, loss: -0.93176\n",
      "epoch: 02, loss: -0.93704\n",
      "epoch: 03, loss: -0.94040\n",
      "epoch: 04, loss: -0.94281\n",
      "epoch: 05, loss: -0.94482\n",
      "epoch: 06, loss: -0.94648\n",
      "epoch: 07, loss: -0.94791\n",
      "epoch: 08, loss: -0.94900\n",
      "epoch: 09, loss: -0.95014\n",
      "torch.Size([1024, 64])\n"
     ]
    },
    {
     "name": "stderr",
     "output_type": "stream",
     "text": [
      " 25%|██▌       | 254/999 [5:08:41<16:49:08, 81.27s/it]"
     ]
    },
    {
     "name": "stdout",
     "output_type": "stream",
     "text": [
      "eigenvalues shape torch.Size([5]) eigenvectors shape torch.Size([5, 1024])\n",
      "254 /home/phdcs2/Hard_Disk/Datasets/Deep-Spectral-Segmentation/data/object-segmentation/ECSSD/features/0256_resized.pth\n",
      "dict_keys(['k', 'indices', 'file', 'id', 'model_name', 'patch_size', 'shape'])\n",
      "0256_resized\n",
      "Starting Training\n",
      "epoch: 00, loss: -0.84327\n",
      "epoch: 01, loss: -0.87638\n",
      "epoch: 02, loss: -0.88869\n",
      "epoch: 03, loss: -0.89672\n",
      "epoch: 04, loss: -0.90297\n",
      "epoch: 05, loss: -0.90769\n",
      "epoch: 06, loss: -0.91153\n",
      "epoch: 07, loss: -0.91487\n",
      "epoch: 08, loss: -0.91768\n",
      "epoch: 09, loss: -0.92037\n",
      "torch.Size([1024, 64])\n"
     ]
    },
    {
     "name": "stderr",
     "output_type": "stream",
     "text": [
      " 26%|██▌       | 255/999 [5:10:00<16:38:44, 80.54s/it]"
     ]
    },
    {
     "name": "stdout",
     "output_type": "stream",
     "text": [
      "eigenvalues shape torch.Size([5]) eigenvectors shape torch.Size([5, 1024])\n",
      "255 /home/phdcs2/Hard_Disk/Datasets/Deep-Spectral-Segmentation/data/object-segmentation/ECSSD/features/0257_resized.pth\n",
      "dict_keys(['k', 'indices', 'file', 'id', 'model_name', 'patch_size', 'shape'])\n",
      "0257_resized\n",
      "Starting Training\n",
      "epoch: 00, loss: -0.81954\n",
      "epoch: 01, loss: -0.86242\n",
      "epoch: 02, loss: -0.87656\n",
      "epoch: 03, loss: -0.88527\n",
      "epoch: 04, loss: -0.89216\n",
      "epoch: 05, loss: -0.89760\n",
      "epoch: 06, loss: -0.90212\n",
      "epoch: 07, loss: -0.90561\n",
      "epoch: 08, loss: -0.90882\n",
      "epoch: 09, loss: -0.91163\n",
      "torch.Size([1024, 64])\n"
     ]
    },
    {
     "name": "stderr",
     "output_type": "stream",
     "text": [
      " 26%|██▌       | 256/999 [5:11:14<16:14:23, 78.69s/it]"
     ]
    },
    {
     "name": "stdout",
     "output_type": "stream",
     "text": [
      "eigenvalues shape torch.Size([5]) eigenvectors shape torch.Size([5, 1024])\n",
      "256 /home/phdcs2/Hard_Disk/Datasets/Deep-Spectral-Segmentation/data/object-segmentation/ECSSD/features/0258_resized.pth\n",
      "dict_keys(['k', 'indices', 'file', 'id', 'model_name', 'patch_size', 'shape'])\n",
      "0258_resized\n",
      "Starting Training\n",
      "epoch: 00, loss: -0.88291\n",
      "epoch: 01, loss: -0.91481\n",
      "epoch: 02, loss: -0.92256\n",
      "epoch: 03, loss: -0.92739\n",
      "epoch: 04, loss: -0.93119\n",
      "epoch: 05, loss: -0.93400\n",
      "epoch: 06, loss: -0.93633\n",
      "epoch: 07, loss: -0.93824\n",
      "epoch: 08, loss: -0.93980\n",
      "epoch: 09, loss: -0.94102\n",
      "torch.Size([1024, 64])\n"
     ]
    },
    {
     "name": "stderr",
     "output_type": "stream",
     "text": [
      " 26%|██▌       | 257/999 [5:12:18<15:18:07, 74.24s/it]"
     ]
    },
    {
     "name": "stdout",
     "output_type": "stream",
     "text": [
      "eigenvalues shape torch.Size([5]) eigenvectors shape torch.Size([5, 1024])\n",
      "257 /home/phdcs2/Hard_Disk/Datasets/Deep-Spectral-Segmentation/data/object-segmentation/ECSSD/features/0259_resized.pth\n",
      "dict_keys(['k', 'indices', 'file', 'id', 'model_name', 'patch_size', 'shape'])\n",
      "0259_resized\n",
      "Starting Training\n",
      "epoch: 00, loss: -0.80605\n",
      "epoch: 01, loss: -0.84871\n",
      "epoch: 02, loss: -0.86517\n",
      "epoch: 03, loss: -0.87622\n",
      "epoch: 04, loss: -0.88402\n",
      "epoch: 05, loss: -0.89015\n",
      "epoch: 06, loss: -0.89555\n",
      "epoch: 07, loss: -0.89988\n",
      "epoch: 08, loss: -0.90367\n",
      "epoch: 09, loss: -0.90694\n",
      "torch.Size([1024, 64])\n"
     ]
    },
    {
     "name": "stderr",
     "output_type": "stream",
     "text": [
      " 26%|██▌       | 258/999 [5:13:25<14:49:00, 71.98s/it]"
     ]
    },
    {
     "name": "stdout",
     "output_type": "stream",
     "text": [
      "eigenvalues shape torch.Size([5]) eigenvectors shape torch.Size([5, 1024])\n",
      "258 /home/phdcs2/Hard_Disk/Datasets/Deep-Spectral-Segmentation/data/object-segmentation/ECSSD/features/0260_resized.pth\n",
      "dict_keys(['k', 'indices', 'file', 'id', 'model_name', 'patch_size', 'shape'])\n",
      "0260_resized\n"
     ]
    },
    {
     "name": "stderr",
     "output_type": "stream",
     "text": [
      "/home/phdcs2/Hard_Disk/Projects/T2I/deep-spectral-segmentation/venv/lib/python3.8/site-packages/sklearn/decomposition/_pca.py:642: RuntimeWarning: invalid value encountered in divide\n",
      "  self.explained_variance_ratio_ = self.explained_variance_ / total_var\n"
     ]
    },
    {
     "name": "stdout",
     "output_type": "stream",
     "text": [
      "Starting Training\n",
      "epoch: 00, loss: -0.92844\n",
      "epoch: 01, loss: -0.94611\n",
      "epoch: 02, loss: -0.95114\n",
      "epoch: 03, loss: -0.95439\n",
      "epoch: 04, loss: -0.95681\n",
      "epoch: 05, loss: -0.95877\n",
      "epoch: 06, loss: -0.96032\n",
      "epoch: 07, loss: -0.96167\n",
      "epoch: 08, loss: -0.96279\n",
      "epoch: 09, loss: -0.96383\n",
      "torch.Size([1024, 64])\n"
     ]
    },
    {
     "name": "stderr",
     "output_type": "stream",
     "text": [
      " 26%|██▌       | 259/999 [5:14:28<14:12:40, 69.14s/it]"
     ]
    },
    {
     "name": "stdout",
     "output_type": "stream",
     "text": [
      "eigenvalues shape torch.Size([5]) eigenvectors shape torch.Size([5, 1024])\n",
      "259 /home/phdcs2/Hard_Disk/Datasets/Deep-Spectral-Segmentation/data/object-segmentation/ECSSD/features/0261_resized.pth\n",
      "dict_keys(['k', 'indices', 'file', 'id', 'model_name', 'patch_size', 'shape'])\n",
      "0261_resized\n",
      "Starting Training\n",
      "epoch: 00, loss: -0.88005\n",
      "epoch: 01, loss: -0.91016\n",
      "epoch: 02, loss: -0.91845\n",
      "epoch: 03, loss: -0.92356\n",
      "epoch: 04, loss: -0.92713\n",
      "epoch: 05, loss: -0.93016\n",
      "epoch: 06, loss: -0.93270\n",
      "epoch: 07, loss: -0.93487\n",
      "epoch: 08, loss: -0.93671\n",
      "epoch: 09, loss: -0.93830\n",
      "torch.Size([1024, 64])\n"
     ]
    },
    {
     "name": "stderr",
     "output_type": "stream",
     "text": [
      " 26%|██▌       | 260/999 [5:15:45<14:42:50, 71.68s/it]"
     ]
    },
    {
     "name": "stdout",
     "output_type": "stream",
     "text": [
      "eigenvalues shape torch.Size([5]) eigenvectors shape torch.Size([5, 1024])\n",
      "260 /home/phdcs2/Hard_Disk/Datasets/Deep-Spectral-Segmentation/data/object-segmentation/ECSSD/features/0262_resized.pth\n",
      "dict_keys(['k', 'indices', 'file', 'id', 'model_name', 'patch_size', 'shape'])\n",
      "0262_resized\n",
      "Starting Training\n",
      "epoch: 00, loss: -0.79502\n",
      "epoch: 01, loss: -0.83959\n",
      "epoch: 02, loss: -0.85623\n",
      "epoch: 03, loss: -0.86711\n",
      "epoch: 04, loss: -0.87542\n",
      "epoch: 05, loss: -0.88209\n",
      "epoch: 06, loss: -0.88702\n",
      "epoch: 07, loss: -0.89191\n",
      "epoch: 08, loss: -0.89597\n",
      "epoch: 09, loss: -0.89952\n",
      "torch.Size([1024, 64])\n"
     ]
    },
    {
     "name": "stderr",
     "output_type": "stream",
     "text": [
      " 26%|██▌       | 261/999 [5:17:01<14:58:06, 73.02s/it]"
     ]
    },
    {
     "name": "stdout",
     "output_type": "stream",
     "text": [
      "eigenvalues shape torch.Size([5]) eigenvectors shape torch.Size([5, 1024])\n",
      "261 /home/phdcs2/Hard_Disk/Datasets/Deep-Spectral-Segmentation/data/object-segmentation/ECSSD/features/0263_resized.pth\n",
      "dict_keys(['k', 'indices', 'file', 'id', 'model_name', 'patch_size', 'shape'])\n",
      "0263_resized\n",
      "Starting Training\n",
      "epoch: 00, loss: -0.78940\n",
      "epoch: 01, loss: -0.83567\n",
      "epoch: 02, loss: -0.85476\n",
      "epoch: 03, loss: -0.86732\n",
      "epoch: 04, loss: -0.87610\n",
      "epoch: 05, loss: -0.88320\n",
      "epoch: 06, loss: -0.88919\n",
      "epoch: 07, loss: -0.89415\n",
      "epoch: 08, loss: -0.89805\n",
      "epoch: 09, loss: -0.90160\n",
      "torch.Size([1024, 64])\n"
     ]
    },
    {
     "name": "stderr",
     "output_type": "stream",
     "text": [
      " 26%|██▌       | 262/999 [5:18:11<14:43:00, 71.89s/it]"
     ]
    },
    {
     "name": "stdout",
     "output_type": "stream",
     "text": [
      "eigenvalues shape torch.Size([5]) eigenvectors shape torch.Size([5, 1024])\n",
      "262 /home/phdcs2/Hard_Disk/Datasets/Deep-Spectral-Segmentation/data/object-segmentation/ECSSD/features/0264_resized.pth\n",
      "dict_keys(['k', 'indices', 'file', 'id', 'model_name', 'patch_size', 'shape'])\n",
      "0264_resized\n"
     ]
    },
    {
     "name": "stderr",
     "output_type": "stream",
     "text": [
      "/home/phdcs2/Hard_Disk/Projects/T2I/deep-spectral-segmentation/venv/lib/python3.8/site-packages/sklearn/decomposition/_pca.py:642: RuntimeWarning: invalid value encountered in divide\n",
      "  self.explained_variance_ratio_ = self.explained_variance_ / total_var\n"
     ]
    },
    {
     "name": "stdout",
     "output_type": "stream",
     "text": [
      "Starting Training\n",
      "epoch: 00, loss: -0.90363\n",
      "epoch: 01, loss: -0.92351\n",
      "epoch: 02, loss: -0.92929\n",
      "epoch: 03, loss: -0.93305\n",
      "epoch: 04, loss: -0.93594\n",
      "epoch: 05, loss: -0.93825\n",
      "epoch: 06, loss: -0.94011\n",
      "epoch: 07, loss: -0.94178\n",
      "epoch: 08, loss: -0.94322\n",
      "epoch: 09, loss: -0.94447\n",
      "torch.Size([1024, 64])\n"
     ]
    },
    {
     "name": "stderr",
     "output_type": "stream",
     "text": [
      " 26%|██▋       | 263/999 [5:19:16<14:18:35, 69.99s/it]"
     ]
    },
    {
     "name": "stdout",
     "output_type": "stream",
     "text": [
      "eigenvalues shape torch.Size([5]) eigenvectors shape torch.Size([5, 1024])\n",
      "263 /home/phdcs2/Hard_Disk/Datasets/Deep-Spectral-Segmentation/data/object-segmentation/ECSSD/features/0265_resized.pth\n",
      "dict_keys(['k', 'indices', 'file', 'id', 'model_name', 'patch_size', 'shape'])\n",
      "0265_resized\n",
      "Starting Training\n",
      "epoch: 00, loss: -0.89255\n",
      "epoch: 01, loss: -0.91842\n",
      "epoch: 02, loss: -0.92533\n",
      "epoch: 03, loss: -0.92986\n",
      "epoch: 04, loss: -0.93325\n",
      "epoch: 05, loss: -0.93595\n",
      "epoch: 06, loss: -0.93822\n",
      "epoch: 07, loss: -0.94004\n",
      "epoch: 08, loss: -0.94174\n",
      "epoch: 09, loss: -0.94319\n",
      "torch.Size([1024, 64])\n"
     ]
    },
    {
     "name": "stderr",
     "output_type": "stream",
     "text": [
      " 26%|██▋       | 264/999 [5:20:27<14:22:09, 70.38s/it]"
     ]
    },
    {
     "name": "stdout",
     "output_type": "stream",
     "text": [
      "eigenvalues shape torch.Size([5]) eigenvectors shape torch.Size([5, 1024])\n",
      "264 /home/phdcs2/Hard_Disk/Datasets/Deep-Spectral-Segmentation/data/object-segmentation/ECSSD/features/0266_resized.pth\n",
      "dict_keys(['k', 'indices', 'file', 'id', 'model_name', 'patch_size', 'shape'])\n",
      "0266_resized\n"
     ]
    },
    {
     "name": "stderr",
     "output_type": "stream",
     "text": [
      "/home/phdcs2/Hard_Disk/Projects/T2I/deep-spectral-segmentation/venv/lib/python3.8/site-packages/sklearn/decomposition/_pca.py:642: RuntimeWarning: invalid value encountered in divide\n",
      "  self.explained_variance_ratio_ = self.explained_variance_ / total_var\n"
     ]
    },
    {
     "name": "stdout",
     "output_type": "stream",
     "text": [
      "Starting Training\n",
      "epoch: 00, loss: -0.89322\n",
      "epoch: 01, loss: -0.91379\n",
      "epoch: 02, loss: -0.91982\n",
      "epoch: 03, loss: -0.92387\n",
      "epoch: 04, loss: -0.92694\n",
      "epoch: 05, loss: -0.92939\n",
      "epoch: 06, loss: -0.93148\n",
      "epoch: 07, loss: -0.93320\n",
      "epoch: 08, loss: -0.93481\n",
      "epoch: 09, loss: -0.93613\n",
      "torch.Size([1024, 64])\n"
     ]
    },
    {
     "name": "stderr",
     "output_type": "stream",
     "text": [
      " 27%|██▋       | 265/999 [5:21:44<14:43:28, 72.22s/it]"
     ]
    },
    {
     "name": "stdout",
     "output_type": "stream",
     "text": [
      "eigenvalues shape torch.Size([5]) eigenvectors shape torch.Size([5, 1024])\n",
      "265 /home/phdcs2/Hard_Disk/Datasets/Deep-Spectral-Segmentation/data/object-segmentation/ECSSD/features/0267_resized.pth\n",
      "dict_keys(['k', 'indices', 'file', 'id', 'model_name', 'patch_size', 'shape'])\n",
      "0267_resized\n"
     ]
    },
    {
     "name": "stderr",
     "output_type": "stream",
     "text": [
      "/home/phdcs2/Hard_Disk/Projects/T2I/deep-spectral-segmentation/venv/lib/python3.8/site-packages/sklearn/decomposition/_pca.py:642: RuntimeWarning: invalid value encountered in divide\n",
      "  self.explained_variance_ratio_ = self.explained_variance_ / total_var\n"
     ]
    },
    {
     "name": "stdout",
     "output_type": "stream",
     "text": [
      "Starting Training\n",
      "epoch: 00, loss: -0.88529\n",
      "epoch: 01, loss: -0.90974\n",
      "epoch: 02, loss: -0.91536\n",
      "epoch: 03, loss: -0.91900\n",
      "epoch: 04, loss: -0.92173\n",
      "epoch: 05, loss: -0.92395\n",
      "epoch: 06, loss: -0.92589\n",
      "epoch: 07, loss: -0.92757\n",
      "epoch: 08, loss: -0.92909\n",
      "epoch: 09, loss: -0.93034\n",
      "torch.Size([1024, 64])\n"
     ]
    },
    {
     "name": "stderr",
     "output_type": "stream",
     "text": [
      " 27%|██▋       | 266/999 [5:22:49<14:15:16, 70.01s/it]"
     ]
    },
    {
     "name": "stdout",
     "output_type": "stream",
     "text": [
      "eigenvalues shape torch.Size([5]) eigenvectors shape torch.Size([5, 1024])\n",
      "266 /home/phdcs2/Hard_Disk/Datasets/Deep-Spectral-Segmentation/data/object-segmentation/ECSSD/features/0268_resized.pth\n",
      "dict_keys(['k', 'indices', 'file', 'id', 'model_name', 'patch_size', 'shape'])\n",
      "0268_resized\n",
      "Starting Training\n",
      "epoch: 00, loss: -0.78629\n",
      "epoch: 01, loss: -0.83167\n",
      "epoch: 02, loss: -0.84944\n",
      "epoch: 03, loss: -0.86117\n",
      "epoch: 04, loss: -0.87032\n",
      "epoch: 05, loss: -0.87718\n",
      "epoch: 06, loss: -0.88312\n",
      "epoch: 07, loss: -0.88776\n",
      "epoch: 08, loss: -0.89192\n",
      "epoch: 09, loss: -0.89551\n",
      "torch.Size([1024, 64])\n"
     ]
    },
    {
     "name": "stderr",
     "output_type": "stream",
     "text": [
      " 27%|██▋       | 267/999 [5:23:54<13:56:06, 68.53s/it]"
     ]
    },
    {
     "name": "stdout",
     "output_type": "stream",
     "text": [
      "eigenvalues shape torch.Size([5]) eigenvectors shape torch.Size([5, 1024])\n",
      "267 /home/phdcs2/Hard_Disk/Datasets/Deep-Spectral-Segmentation/data/object-segmentation/ECSSD/features/0269_resized.pth\n",
      "dict_keys(['k', 'indices', 'file', 'id', 'model_name', 'patch_size', 'shape'])\n",
      "0269_resized\n",
      "Starting Training\n",
      "epoch: 00, loss: -0.88794\n",
      "epoch: 01, loss: -0.91270\n",
      "epoch: 02, loss: -0.92052\n",
      "epoch: 03, loss: -0.92573\n",
      "epoch: 04, loss: -0.92956\n",
      "epoch: 05, loss: -0.93269\n",
      "epoch: 06, loss: -0.93523\n",
      "epoch: 07, loss: -0.93738\n",
      "epoch: 08, loss: -0.93927\n",
      "epoch: 09, loss: -0.94086\n",
      "torch.Size([1024, 64])\n"
     ]
    },
    {
     "name": "stderr",
     "output_type": "stream",
     "text": [
      " 27%|██▋       | 268/999 [5:24:55<13:27:45, 66.30s/it]"
     ]
    },
    {
     "name": "stdout",
     "output_type": "stream",
     "text": [
      "eigenvalues shape torch.Size([5]) eigenvectors shape torch.Size([5, 1024])\n",
      "268 /home/phdcs2/Hard_Disk/Datasets/Deep-Spectral-Segmentation/data/object-segmentation/ECSSD/features/0270_resized.pth\n",
      "dict_keys(['k', 'indices', 'file', 'id', 'model_name', 'patch_size', 'shape'])\n",
      "0270_resized\n"
     ]
    },
    {
     "name": "stderr",
     "output_type": "stream",
     "text": [
      "/home/phdcs2/Hard_Disk/Projects/T2I/deep-spectral-segmentation/venv/lib/python3.8/site-packages/sklearn/decomposition/_pca.py:642: RuntimeWarning: invalid value encountered in divide\n",
      "  self.explained_variance_ratio_ = self.explained_variance_ / total_var\n"
     ]
    },
    {
     "name": "stdout",
     "output_type": "stream",
     "text": [
      "Starting Training\n",
      "epoch: 00, loss: -0.92424\n",
      "epoch: 01, loss: -0.94644\n",
      "epoch: 02, loss: -0.95152\n",
      "epoch: 03, loss: -0.95468\n",
      "epoch: 04, loss: -0.95702\n",
      "epoch: 05, loss: -0.95888\n",
      "epoch: 06, loss: -0.96040\n",
      "epoch: 07, loss: -0.96170\n",
      "epoch: 08, loss: -0.96280\n",
      "epoch: 09, loss: -0.96376\n",
      "torch.Size([1024, 64])\n"
     ]
    },
    {
     "name": "stderr",
     "output_type": "stream",
     "text": [
      " 27%|██▋       | 269/999 [5:25:50<12:47:06, 63.05s/it]"
     ]
    },
    {
     "name": "stdout",
     "output_type": "stream",
     "text": [
      "eigenvalues shape torch.Size([5]) eigenvectors shape torch.Size([5, 1024])\n",
      "269 /home/phdcs2/Hard_Disk/Datasets/Deep-Spectral-Segmentation/data/object-segmentation/ECSSD/features/0271_resized.pth\n",
      "dict_keys(['k', 'indices', 'file', 'id', 'model_name', 'patch_size', 'shape'])\n",
      "0271_resized\n",
      "Starting Training\n",
      "epoch: 00, loss: -0.78219\n",
      "epoch: 01, loss: -0.82160\n",
      "epoch: 02, loss: -0.83685\n",
      "epoch: 03, loss: -0.84755\n",
      "epoch: 04, loss: -0.85557\n",
      "epoch: 05, loss: -0.86221\n",
      "epoch: 06, loss: -0.86733\n",
      "epoch: 07, loss: -0.87164\n",
      "epoch: 08, loss: -0.87588\n",
      "epoch: 09, loss: -0.87919\n",
      "torch.Size([1024, 64])\n"
     ]
    },
    {
     "name": "stderr",
     "output_type": "stream",
     "text": [
      " 27%|██▋       | 270/999 [5:26:52<12:40:34, 62.60s/it]"
     ]
    },
    {
     "name": "stdout",
     "output_type": "stream",
     "text": [
      "eigenvalues shape torch.Size([5]) eigenvectors shape torch.Size([5, 1024])\n",
      "270 /home/phdcs2/Hard_Disk/Datasets/Deep-Spectral-Segmentation/data/object-segmentation/ECSSD/features/0272_resized.pth\n",
      "dict_keys(['k', 'indices', 'file', 'id', 'model_name', 'patch_size', 'shape'])\n",
      "0272_resized\n",
      "Starting Training\n",
      "epoch: 00, loss: -0.83011\n",
      "epoch: 01, loss: -0.86618\n",
      "epoch: 02, loss: -0.87808\n",
      "epoch: 03, loss: -0.88622\n",
      "epoch: 04, loss: -0.89271\n",
      "epoch: 05, loss: -0.89762\n",
      "epoch: 06, loss: -0.90170\n",
      "epoch: 07, loss: -0.90515\n",
      "epoch: 08, loss: -0.90845\n",
      "epoch: 09, loss: -0.91117\n",
      "torch.Size([1024, 64])\n"
     ]
    },
    {
     "name": "stderr",
     "output_type": "stream",
     "text": [
      " 27%|██▋       | 271/999 [5:27:56<12:43:20, 62.91s/it]"
     ]
    },
    {
     "name": "stdout",
     "output_type": "stream",
     "text": [
      "eigenvalues shape torch.Size([5]) eigenvectors shape torch.Size([5, 1024])\n",
      "271 /home/phdcs2/Hard_Disk/Datasets/Deep-Spectral-Segmentation/data/object-segmentation/ECSSD/features/0273_resized.pth\n",
      "dict_keys(['k', 'indices', 'file', 'id', 'model_name', 'patch_size', 'shape'])\n",
      "0273_resized\n",
      "Starting Training\n",
      "epoch: 00, loss: -0.85665\n",
      "epoch: 01, loss: -0.89272\n",
      "epoch: 02, loss: -0.90505\n",
      "epoch: 03, loss: -0.91273\n",
      "epoch: 04, loss: -0.91868\n",
      "epoch: 05, loss: -0.92320\n",
      "epoch: 06, loss: -0.92732\n",
      "epoch: 07, loss: -0.93043\n",
      "epoch: 08, loss: -0.93329\n",
      "epoch: 09, loss: -0.93556\n",
      "torch.Size([1024, 64])\n"
     ]
    },
    {
     "name": "stderr",
     "output_type": "stream",
     "text": [
      " 27%|██▋       | 272/999 [5:29:13<13:35:58, 67.34s/it]"
     ]
    },
    {
     "name": "stdout",
     "output_type": "stream",
     "text": [
      "eigenvalues shape torch.Size([5]) eigenvectors shape torch.Size([5, 1024])\n",
      "272 /home/phdcs2/Hard_Disk/Datasets/Deep-Spectral-Segmentation/data/object-segmentation/ECSSD/features/0274_resized.pth\n",
      "dict_keys(['k', 'indices', 'file', 'id', 'model_name', 'patch_size', 'shape'])\n",
      "0274_resized\n",
      "Starting Training\n",
      "epoch: 00, loss: -0.82372\n",
      "epoch: 01, loss: -0.86501\n",
      "epoch: 02, loss: -0.87901\n",
      "epoch: 03, loss: -0.88861\n",
      "epoch: 04, loss: -0.89585\n",
      "epoch: 05, loss: -0.90132\n",
      "epoch: 06, loss: -0.90567\n",
      "epoch: 07, loss: -0.90960\n",
      "epoch: 08, loss: -0.91267\n",
      "epoch: 09, loss: -0.91553\n",
      "torch.Size([1024, 64])\n"
     ]
    },
    {
     "name": "stderr",
     "output_type": "stream",
     "text": [
      " 27%|██▋       | 273/999 [5:30:32<14:14:37, 70.63s/it]"
     ]
    },
    {
     "name": "stdout",
     "output_type": "stream",
     "text": [
      "eigenvalues shape torch.Size([5]) eigenvectors shape torch.Size([5, 1024])\n",
      "273 /home/phdcs2/Hard_Disk/Datasets/Deep-Spectral-Segmentation/data/object-segmentation/ECSSD/features/0275_resized.pth\n",
      "dict_keys(['k', 'indices', 'file', 'id', 'model_name', 'patch_size', 'shape'])\n",
      "0275_resized\n",
      "Starting Training\n",
      "epoch: 00, loss: -0.80828\n",
      "epoch: 01, loss: -0.84851\n",
      "epoch: 02, loss: -0.86346\n",
      "epoch: 03, loss: -0.87388\n",
      "epoch: 04, loss: -0.88185\n",
      "epoch: 05, loss: -0.88790\n",
      "epoch: 06, loss: -0.89340\n",
      "epoch: 07, loss: -0.89748\n",
      "epoch: 08, loss: -0.90155\n",
      "epoch: 09, loss: -0.90499\n",
      "torch.Size([1024, 64])\n"
     ]
    },
    {
     "name": "stderr",
     "output_type": "stream",
     "text": [
      " 27%|██▋       | 274/999 [5:31:56<15:04:59, 74.90s/it]"
     ]
    },
    {
     "name": "stdout",
     "output_type": "stream",
     "text": [
      "eigenvalues shape torch.Size([5]) eigenvectors shape torch.Size([5, 1024])\n",
      "274 /home/phdcs2/Hard_Disk/Datasets/Deep-Spectral-Segmentation/data/object-segmentation/ECSSD/features/0276_resized.pth\n",
      "dict_keys(['k', 'indices', 'file', 'id', 'model_name', 'patch_size', 'shape'])\n",
      "0276_resized\n",
      "Starting Training\n",
      "epoch: 00, loss: -0.83998\n",
      "epoch: 01, loss: -0.87920\n",
      "epoch: 02, loss: -0.89169\n",
      "epoch: 03, loss: -0.89967\n",
      "epoch: 04, loss: -0.90562\n",
      "epoch: 05, loss: -0.91006\n",
      "epoch: 06, loss: -0.91376\n",
      "epoch: 07, loss: -0.91683\n",
      "epoch: 08, loss: -0.91949\n",
      "epoch: 09, loss: -0.92175\n",
      "torch.Size([1024, 64])\n"
     ]
    },
    {
     "name": "stderr",
     "output_type": "stream",
     "text": [
      " 28%|██▊       | 275/999 [5:33:16<15:21:26, 76.36s/it]"
     ]
    },
    {
     "name": "stdout",
     "output_type": "stream",
     "text": [
      "eigenvalues shape torch.Size([5]) eigenvectors shape torch.Size([5, 1024])\n",
      "275 /home/phdcs2/Hard_Disk/Datasets/Deep-Spectral-Segmentation/data/object-segmentation/ECSSD/features/0277_resized.pth\n",
      "dict_keys(['k', 'indices', 'file', 'id', 'model_name', 'patch_size', 'shape'])\n",
      "0277_resized\n",
      "Starting Training\n",
      "epoch: 00, loss: -0.80113\n",
      "epoch: 01, loss: -0.84247\n",
      "epoch: 02, loss: -0.85798\n",
      "epoch: 03, loss: -0.86757\n",
      "epoch: 04, loss: -0.87499\n",
      "epoch: 05, loss: -0.88055\n",
      "epoch: 06, loss: -0.88579\n",
      "epoch: 07, loss: -0.88998\n",
      "epoch: 08, loss: -0.89376\n",
      "epoch: 09, loss: -0.89718\n",
      "torch.Size([1024, 64])\n"
     ]
    },
    {
     "name": "stderr",
     "output_type": "stream",
     "text": [
      " 28%|██▊       | 276/999 [5:34:36<15:33:10, 77.44s/it]"
     ]
    },
    {
     "name": "stdout",
     "output_type": "stream",
     "text": [
      "eigenvalues shape torch.Size([5]) eigenvectors shape torch.Size([5, 1024])\n",
      "276 /home/phdcs2/Hard_Disk/Datasets/Deep-Spectral-Segmentation/data/object-segmentation/ECSSD/features/0278_resized.pth\n",
      "dict_keys(['k', 'indices', 'file', 'id', 'model_name', 'patch_size', 'shape'])\n",
      "0278_resized\n",
      "Starting Training\n",
      "epoch: 00, loss: -0.82702\n",
      "epoch: 01, loss: -0.86461\n",
      "epoch: 02, loss: -0.87778\n",
      "epoch: 03, loss: -0.88644\n",
      "epoch: 04, loss: -0.89312\n",
      "epoch: 05, loss: -0.89837\n",
      "epoch: 06, loss: -0.90261\n",
      "epoch: 07, loss: -0.90615\n",
      "epoch: 08, loss: -0.90917\n",
      "epoch: 09, loss: -0.91184\n",
      "torch.Size([1024, 64])\n"
     ]
    },
    {
     "name": "stderr",
     "output_type": "stream",
     "text": [
      " 28%|██▊       | 277/999 [5:36:00<15:53:34, 79.24s/it]"
     ]
    },
    {
     "name": "stdout",
     "output_type": "stream",
     "text": [
      "eigenvalues shape torch.Size([5]) eigenvectors shape torch.Size([5, 1024])\n",
      "277 /home/phdcs2/Hard_Disk/Datasets/Deep-Spectral-Segmentation/data/object-segmentation/ECSSD/features/0279_resized.pth\n",
      "dict_keys(['k', 'indices', 'file', 'id', 'model_name', 'patch_size', 'shape'])\n",
      "0279_resized\n"
     ]
    },
    {
     "name": "stderr",
     "output_type": "stream",
     "text": [
      "/home/phdcs2/Hard_Disk/Projects/T2I/deep-spectral-segmentation/venv/lib/python3.8/site-packages/sklearn/decomposition/_pca.py:642: RuntimeWarning: invalid value encountered in divide\n",
      "  self.explained_variance_ratio_ = self.explained_variance_ / total_var\n"
     ]
    },
    {
     "name": "stdout",
     "output_type": "stream",
     "text": [
      "Starting Training\n",
      "epoch: 00, loss: -0.88975\n",
      "epoch: 01, loss: -0.91601\n",
      "epoch: 02, loss: -0.92240\n",
      "epoch: 03, loss: -0.92661\n",
      "epoch: 04, loss: -0.92979\n",
      "epoch: 05, loss: -0.93234\n",
      "epoch: 06, loss: -0.93449\n",
      "epoch: 07, loss: -0.93635\n",
      "epoch: 08, loss: -0.93785\n",
      "epoch: 09, loss: -0.93938\n",
      "torch.Size([1024, 64])\n"
     ]
    },
    {
     "name": "stderr",
     "output_type": "stream",
     "text": [
      " 28%|██▊       | 278/999 [5:37:22<16:02:04, 80.06s/it]"
     ]
    },
    {
     "name": "stdout",
     "output_type": "stream",
     "text": [
      "eigenvalues shape torch.Size([5]) eigenvectors shape torch.Size([5, 1024])\n",
      "278 /home/phdcs2/Hard_Disk/Datasets/Deep-Spectral-Segmentation/data/object-segmentation/ECSSD/features/0280_resized.pth\n",
      "dict_keys(['k', 'indices', 'file', 'id', 'model_name', 'patch_size', 'shape'])\n",
      "0280_resized\n",
      "Starting Training\n",
      "epoch: 00, loss: -0.81029\n",
      "epoch: 01, loss: -0.84933\n",
      "epoch: 02, loss: -0.86329\n",
      "epoch: 03, loss: -0.87302\n",
      "epoch: 04, loss: -0.87986\n",
      "epoch: 05, loss: -0.88593\n",
      "epoch: 06, loss: -0.89058\n",
      "epoch: 07, loss: -0.89464\n",
      "epoch: 08, loss: -0.89818\n",
      "epoch: 09, loss: -0.90144\n",
      "torch.Size([1024, 64])\n"
     ]
    },
    {
     "name": "stderr",
     "output_type": "stream",
     "text": [
      " 28%|██▊       | 279/999 [5:38:48<16:22:01, 81.84s/it]"
     ]
    },
    {
     "name": "stdout",
     "output_type": "stream",
     "text": [
      "eigenvalues shape torch.Size([5]) eigenvectors shape torch.Size([5, 1024])\n",
      "279 /home/phdcs2/Hard_Disk/Datasets/Deep-Spectral-Segmentation/data/object-segmentation/ECSSD/features/0281_resized.pth\n",
      "dict_keys(['k', 'indices', 'file', 'id', 'model_name', 'patch_size', 'shape'])\n",
      "0281_resized\n",
      "Starting Training\n",
      "epoch: 00, loss: -0.82791\n",
      "epoch: 01, loss: -0.86630\n",
      "epoch: 02, loss: -0.88055\n",
      "epoch: 03, loss: -0.88973\n",
      "epoch: 04, loss: -0.89638\n",
      "epoch: 05, loss: -0.90172\n",
      "epoch: 06, loss: -0.90579\n",
      "epoch: 07, loss: -0.90930\n",
      "epoch: 08, loss: -0.91268\n",
      "epoch: 09, loss: -0.91531\n",
      "torch.Size([1024, 64])\n"
     ]
    },
    {
     "name": "stderr",
     "output_type": "stream",
     "text": [
      " 28%|██▊       | 280/999 [5:40:13<16:31:58, 82.78s/it]"
     ]
    },
    {
     "name": "stdout",
     "output_type": "stream",
     "text": [
      "eigenvalues shape torch.Size([5]) eigenvectors shape torch.Size([5, 1024])\n",
      "280 /home/phdcs2/Hard_Disk/Datasets/Deep-Spectral-Segmentation/data/object-segmentation/ECSSD/features/0282_resized.pth\n",
      "dict_keys(['k', 'indices', 'file', 'id', 'model_name', 'patch_size', 'shape'])\n",
      "0282_resized\n",
      "Starting Training\n",
      "epoch: 00, loss: -0.80368\n",
      "epoch: 01, loss: -0.84713\n",
      "epoch: 02, loss: -0.86267\n",
      "epoch: 03, loss: -0.87263\n",
      "epoch: 04, loss: -0.88009\n",
      "epoch: 05, loss: -0.88646\n",
      "epoch: 06, loss: -0.89156\n",
      "epoch: 07, loss: -0.89586\n",
      "epoch: 08, loss: -0.89973\n",
      "epoch: 09, loss: -0.90318\n",
      "torch.Size([1024, 64])\n"
     ]
    },
    {
     "name": "stderr",
     "output_type": "stream",
     "text": [
      " 28%|██▊       | 281/999 [5:41:35<16:28:44, 82.62s/it]"
     ]
    },
    {
     "name": "stdout",
     "output_type": "stream",
     "text": [
      "eigenvalues shape torch.Size([5]) eigenvectors shape torch.Size([5, 1024])\n",
      "281 /home/phdcs2/Hard_Disk/Datasets/Deep-Spectral-Segmentation/data/object-segmentation/ECSSD/features/0283_resized.pth\n",
      "dict_keys(['k', 'indices', 'file', 'id', 'model_name', 'patch_size', 'shape'])\n",
      "0283_resized\n",
      "Starting Training\n",
      "epoch: 00, loss: -0.91252\n",
      "epoch: 01, loss: -0.93310\n",
      "epoch: 02, loss: -0.93838\n",
      "epoch: 03, loss: -0.94186\n",
      "epoch: 04, loss: -0.94443\n",
      "epoch: 05, loss: -0.94650\n",
      "epoch: 06, loss: -0.94817\n",
      "epoch: 07, loss: -0.94964\n",
      "epoch: 08, loss: -0.95092\n",
      "epoch: 09, loss: -0.95202\n",
      "torch.Size([1024, 64])\n"
     ]
    },
    {
     "name": "stderr",
     "output_type": "stream",
     "text": [
      " 28%|██▊       | 282/999 [5:43:01<16:41:14, 83.79s/it]"
     ]
    },
    {
     "name": "stdout",
     "output_type": "stream",
     "text": [
      "eigenvalues shape torch.Size([5]) eigenvectors shape torch.Size([5, 1024])\n",
      "282 /home/phdcs2/Hard_Disk/Datasets/Deep-Spectral-Segmentation/data/object-segmentation/ECSSD/features/0284_resized.pth\n",
      "dict_keys(['k', 'indices', 'file', 'id', 'model_name', 'patch_size', 'shape'])\n",
      "0284_resized\n"
     ]
    },
    {
     "name": "stderr",
     "output_type": "stream",
     "text": [
      " 30%|██▉       | 297/999 [6:02:26<12:45:01, 65.39s/it]"
     ]
    },
    {
     "name": "stdout",
     "output_type": "stream",
     "text": [
      "eigenvalues shape torch.Size([5]) eigenvectors shape torch.Size([5, 1024])\n",
      "297 /home/phdcs2/Hard_Disk/Datasets/Deep-Spectral-Segmentation/data/object-segmentation/ECSSD/features/0299_resized.pth\n",
      "dict_keys(['k', 'indices', 'file', 'id', 'model_name', 'patch_size', 'shape'])\n",
      "0299_resized\n"
     ]
    },
    {
     "name": "stderr",
     "output_type": "stream",
     "text": [
      "/home/phdcs2/Hard_Disk/Projects/T2I/deep-spectral-segmentation/venv/lib/python3.8/site-packages/sklearn/decomposition/_pca.py:642: RuntimeWarning: invalid value encountered in divide\n",
      "  self.explained_variance_ratio_ = self.explained_variance_ / total_var\n"
     ]
    },
    {
     "name": "stdout",
     "output_type": "stream",
     "text": [
      "Starting Training\n",
      "epoch: 00, loss: -0.90597\n",
      "epoch: 01, loss: -0.92875\n",
      "epoch: 02, loss: -0.93564\n",
      "epoch: 03, loss: -0.94015\n",
      "epoch: 04, loss: -0.94350\n",
      "epoch: 05, loss: -0.94617\n",
      "epoch: 06, loss: -0.94832\n",
      "epoch: 07, loss: -0.95014\n",
      "epoch: 08, loss: -0.95173\n",
      "epoch: 09, loss: -0.95315\n",
      "torch.Size([1024, 64])\n"
     ]
    },
    {
     "name": "stderr",
     "output_type": "stream",
     "text": [
      " 30%|██▉       | 298/999 [6:03:21<12:05:14, 62.07s/it]"
     ]
    },
    {
     "name": "stdout",
     "output_type": "stream",
     "text": [
      "eigenvalues shape torch.Size([5]) eigenvectors shape torch.Size([5, 1024])\n",
      "298 /home/phdcs2/Hard_Disk/Datasets/Deep-Spectral-Segmentation/data/object-segmentation/ECSSD/features/0300_resized.pth\n",
      "dict_keys(['k', 'indices', 'file', 'id', 'model_name', 'patch_size', 'shape'])\n",
      "0300_resized\n",
      "Starting Training\n",
      "epoch: 00, loss: -0.79535\n",
      "epoch: 01, loss: -0.83965\n",
      "epoch: 02, loss: -0.85599\n",
      "epoch: 03, loss: -0.86698\n",
      "epoch: 04, loss: -0.87470\n",
      "epoch: 05, loss: -0.88142\n",
      "epoch: 06, loss: -0.88654\n",
      "epoch: 07, loss: -0.89067\n",
      "epoch: 08, loss: -0.89458\n",
      "epoch: 09, loss: -0.89824\n",
      "torch.Size([1024, 64])\n"
     ]
    },
    {
     "name": "stderr",
     "output_type": "stream",
     "text": [
      " 30%|██▉       | 299/999 [6:04:17<11:45:19, 60.46s/it]"
     ]
    },
    {
     "name": "stdout",
     "output_type": "stream",
     "text": [
      "eigenvalues shape torch.Size([5]) eigenvectors shape torch.Size([5, 1024])\n",
      "299 /home/phdcs2/Hard_Disk/Datasets/Deep-Spectral-Segmentation/data/object-segmentation/ECSSD/features/0301_resized.pth\n",
      "dict_keys(['k', 'indices', 'file', 'id', 'model_name', 'patch_size', 'shape'])\n",
      "0301_resized\n",
      "Starting Training\n",
      "epoch: 00, loss: -0.76548\n",
      "epoch: 01, loss: -0.80422\n",
      "epoch: 02, loss: -0.82008\n",
      "epoch: 03, loss: -0.83154\n",
      "epoch: 04, loss: -0.83966\n",
      "epoch: 05, loss: -0.84696\n",
      "epoch: 06, loss: -0.85288\n",
      "epoch: 07, loss: -0.85799\n",
      "epoch: 08, loss: -0.86286\n",
      "epoch: 09, loss: -0.86660\n",
      "torch.Size([1024, 64])\n"
     ]
    },
    {
     "name": "stderr",
     "output_type": "stream",
     "text": [
      " 30%|███       | 300/999 [6:05:29<12:22:41, 63.75s/it]"
     ]
    },
    {
     "name": "stdout",
     "output_type": "stream",
     "text": [
      "eigenvalues shape torch.Size([5]) eigenvectors shape torch.Size([5, 1024])\n",
      "300 /home/phdcs2/Hard_Disk/Datasets/Deep-Spectral-Segmentation/data/object-segmentation/ECSSD/features/0302_resized.pth\n",
      "dict_keys(['k', 'indices', 'file', 'id', 'model_name', 'patch_size', 'shape'])\n",
      "0302_resized\n",
      "Starting Training\n",
      "epoch: 00, loss: -0.82630\n",
      "epoch: 01, loss: -0.86835\n",
      "epoch: 02, loss: -0.88336\n",
      "epoch: 03, loss: -0.89264\n",
      "epoch: 04, loss: -0.89967\n",
      "epoch: 05, loss: -0.90519\n",
      "epoch: 06, loss: -0.90953\n",
      "epoch: 07, loss: -0.91348\n",
      "epoch: 08, loss: -0.91656\n",
      "epoch: 09, loss: -0.91951\n",
      "torch.Size([1024, 64])\n"
     ]
    },
    {
     "name": "stderr",
     "output_type": "stream",
     "text": [
      " 30%|███       | 301/999 [6:06:39<12:44:47, 65.74s/it]"
     ]
    },
    {
     "name": "stdout",
     "output_type": "stream",
     "text": [
      "eigenvalues shape torch.Size([5]) eigenvectors shape torch.Size([5, 1024])\n",
      "301 /home/phdcs2/Hard_Disk/Datasets/Deep-Spectral-Segmentation/data/object-segmentation/ECSSD/features/0303_resized.pth\n",
      "dict_keys(['k', 'indices', 'file', 'id', 'model_name', 'patch_size', 'shape'])\n",
      "0303_resized\n",
      "Starting Training\n",
      "epoch: 00, loss: -0.81033\n",
      "epoch: 01, loss: -0.84944\n",
      "epoch: 02, loss: -0.86414\n",
      "epoch: 03, loss: -0.87437\n",
      "epoch: 04, loss: -0.88225\n",
      "epoch: 05, loss: -0.88828\n",
      "epoch: 06, loss: -0.89341\n",
      "epoch: 07, loss: -0.89792\n",
      "epoch: 08, loss: -0.90174\n",
      "epoch: 09, loss: -0.90531\n",
      "torch.Size([1024, 64])\n"
     ]
    },
    {
     "name": "stderr",
     "output_type": "stream",
     "text": [
      " 30%|███       | 302/999 [6:07:49<12:57:23, 66.92s/it]"
     ]
    },
    {
     "name": "stdout",
     "output_type": "stream",
     "text": [
      "eigenvalues shape torch.Size([5]) eigenvectors shape torch.Size([5, 1024])\n",
      "302 /home/phdcs2/Hard_Disk/Datasets/Deep-Spectral-Segmentation/data/object-segmentation/ECSSD/features/0304_resized.pth\n",
      "dict_keys(['k', 'indices', 'file', 'id', 'model_name', 'patch_size', 'shape'])\n",
      "0304_resized\n",
      "Starting Training\n",
      "epoch: 00, loss: -0.88225\n",
      "epoch: 01, loss: -0.90768\n",
      "epoch: 02, loss: -0.91555\n",
      "epoch: 03, loss: -0.92107\n",
      "epoch: 04, loss: -0.92518\n",
      "epoch: 05, loss: -0.92843\n",
      "epoch: 06, loss: -0.93121\n",
      "epoch: 07, loss: -0.93351\n",
      "epoch: 08, loss: -0.93557\n",
      "epoch: 09, loss: -0.93736\n",
      "torch.Size([1024, 64])\n"
     ]
    },
    {
     "name": "stderr",
     "output_type": "stream",
     "text": [
      " 30%|███       | 303/999 [6:09:03<13:22:20, 69.17s/it]"
     ]
    },
    {
     "name": "stdout",
     "output_type": "stream",
     "text": [
      "eigenvalues shape torch.Size([5]) eigenvectors shape torch.Size([5, 1024])\n",
      "303 /home/phdcs2/Hard_Disk/Datasets/Deep-Spectral-Segmentation/data/object-segmentation/ECSSD/features/0305_resized.pth\n",
      "dict_keys(['k', 'indices', 'file', 'id', 'model_name', 'patch_size', 'shape'])\n",
      "0305_resized\n",
      "Starting Training\n",
      "epoch: 00, loss: -0.77218\n",
      "epoch: 01, loss: -0.81231\n",
      "epoch: 02, loss: -0.82979\n",
      "epoch: 03, loss: -0.84226\n",
      "epoch: 04, loss: -0.85111\n",
      "epoch: 05, loss: -0.85835\n",
      "epoch: 06, loss: -0.86451\n",
      "epoch: 07, loss: -0.86940\n",
      "epoch: 08, loss: -0.87392\n",
      "epoch: 09, loss: -0.87784\n",
      "torch.Size([1024, 64])\n"
     ]
    },
    {
     "name": "stderr",
     "output_type": "stream",
     "text": [
      " 30%|███       | 304/999 [6:10:15<13:28:40, 69.81s/it]"
     ]
    },
    {
     "name": "stdout",
     "output_type": "stream",
     "text": [
      "eigenvalues shape torch.Size([5]) eigenvectors shape torch.Size([5, 1024])\n",
      "304 /home/phdcs2/Hard_Disk/Datasets/Deep-Spectral-Segmentation/data/object-segmentation/ECSSD/features/0306_resized.pth\n",
      "dict_keys(['k', 'indices', 'file', 'id', 'model_name', 'patch_size', 'shape'])\n",
      "0306_resized\n",
      "Starting Training\n",
      "epoch: 00, loss: -0.74633\n",
      "epoch: 01, loss: -0.80081\n",
      "epoch: 02, loss: -0.82154\n",
      "epoch: 03, loss: -0.83535\n",
      "epoch: 04, loss: -0.84621\n",
      "epoch: 05, loss: -0.85481\n",
      "epoch: 06, loss: -0.86104\n",
      "epoch: 07, loss: -0.86675\n",
      "epoch: 08, loss: -0.87111\n",
      "epoch: 09, loss: -0.87527\n",
      "torch.Size([1024, 64])\n"
     ]
    },
    {
     "name": "stderr",
     "output_type": "stream",
     "text": [
      " 31%|███       | 305/999 [6:11:28<13:41:30, 71.02s/it]"
     ]
    },
    {
     "name": "stdout",
     "output_type": "stream",
     "text": [
      "eigenvalues shape torch.Size([5]) eigenvectors shape torch.Size([5, 1024])\n",
      "305 /home/phdcs2/Hard_Disk/Datasets/Deep-Spectral-Segmentation/data/object-segmentation/ECSSD/features/0307_resized.pth\n",
      "dict_keys(['k', 'indices', 'file', 'id', 'model_name', 'patch_size', 'shape'])\n",
      "0307_resized\n",
      "Starting Training\n",
      "epoch: 00, loss: -0.80264\n",
      "epoch: 01, loss: -0.84582\n",
      "epoch: 02, loss: -0.86176\n",
      "epoch: 03, loss: -0.87150\n",
      "epoch: 04, loss: -0.87916\n",
      "epoch: 05, loss: -0.88535\n",
      "epoch: 06, loss: -0.89071\n",
      "epoch: 07, loss: -0.89515\n",
      "epoch: 08, loss: -0.89869\n",
      "epoch: 09, loss: -0.90165\n",
      "torch.Size([1024, 64])\n"
     ]
    },
    {
     "name": "stderr",
     "output_type": "stream",
     "text": [
      " 31%|███       | 306/999 [6:12:28<13:01:46, 67.69s/it]"
     ]
    },
    {
     "name": "stdout",
     "output_type": "stream",
     "text": [
      "eigenvalues shape torch.Size([5]) eigenvectors shape torch.Size([5, 1024])\n",
      "306 /home/phdcs2/Hard_Disk/Datasets/Deep-Spectral-Segmentation/data/object-segmentation/ECSSD/features/0308_resized.pth\n",
      "dict_keys(['k', 'indices', 'file', 'id', 'model_name', 'patch_size', 'shape'])\n",
      "0308_resized\n",
      "Starting Training\n",
      "epoch: 00, loss: -0.80873\n",
      "epoch: 01, loss: -0.85280\n",
      "epoch: 02, loss: -0.86916\n",
      "epoch: 03, loss: -0.87997\n",
      "epoch: 04, loss: -0.88828\n",
      "epoch: 05, loss: -0.89487\n",
      "epoch: 06, loss: -0.90001\n",
      "epoch: 07, loss: -0.90466\n",
      "epoch: 08, loss: -0.90823\n",
      "epoch: 09, loss: -0.91148\n",
      "torch.Size([1024, 64])\n"
     ]
    },
    {
     "name": "stderr",
     "output_type": "stream",
     "text": [
      " 31%|███       | 307/999 [6:13:42<13:22:21, 69.57s/it]"
     ]
    },
    {
     "name": "stdout",
     "output_type": "stream",
     "text": [
      "eigenvalues shape torch.Size([5]) eigenvectors shape torch.Size([5, 1024])\n",
      "307 /home/phdcs2/Hard_Disk/Datasets/Deep-Spectral-Segmentation/data/object-segmentation/ECSSD/features/0309_resized.pth\n",
      "dict_keys(['k', 'indices', 'file', 'id', 'model_name', 'patch_size', 'shape'])\n",
      "0309_resized\n"
     ]
    },
    {
     "name": "stderr",
     "output_type": "stream",
     "text": [
      "/home/phdcs2/Hard_Disk/Projects/T2I/deep-spectral-segmentation/venv/lib/python3.8/site-packages/sklearn/decomposition/_pca.py:642: RuntimeWarning: invalid value encountered in divide\n",
      "  self.explained_variance_ratio_ = self.explained_variance_ / total_var\n"
     ]
    },
    {
     "name": "stdout",
     "output_type": "stream",
     "text": [
      "Starting Training\n",
      "epoch: 00, loss: -0.90186\n",
      "epoch: 01, loss: -0.92286\n",
      "epoch: 02, loss: -0.92945\n",
      "epoch: 03, loss: -0.93375\n",
      "epoch: 04, loss: -0.93700\n",
      "epoch: 05, loss: -0.93956\n",
      "epoch: 06, loss: -0.94170\n",
      "epoch: 07, loss: -0.94354\n",
      "epoch: 08, loss: -0.94518\n",
      "epoch: 09, loss: -0.94651\n",
      "torch.Size([1024, 64])\n"
     ]
    },
    {
     "name": "stderr",
     "output_type": "stream",
     "text": [
      " 31%|███       | 308/999 [6:15:01<13:52:35, 72.30s/it]"
     ]
    },
    {
     "name": "stdout",
     "output_type": "stream",
     "text": [
      "eigenvalues shape torch.Size([5]) eigenvectors shape torch.Size([5, 1024])\n",
      "308 /home/phdcs2/Hard_Disk/Datasets/Deep-Spectral-Segmentation/data/object-segmentation/ECSSD/features/0310_resized.pth\n",
      "dict_keys(['k', 'indices', 'file', 'id', 'model_name', 'patch_size', 'shape'])\n",
      "0310_resized\n"
     ]
    },
    {
     "name": "stderr",
     "output_type": "stream",
     "text": [
      "/home/phdcs2/Hard_Disk/Projects/T2I/deep-spectral-segmentation/venv/lib/python3.8/site-packages/sklearn/decomposition/_pca.py:642: RuntimeWarning: invalid value encountered in divide\n",
      "  self.explained_variance_ratio_ = self.explained_variance_ / total_var\n"
     ]
    },
    {
     "name": "stdout",
     "output_type": "stream",
     "text": [
      "Starting Training\n",
      "epoch: 00, loss: -0.88432\n",
      "epoch: 01, loss: -0.90929\n",
      "epoch: 02, loss: -0.91713\n",
      "epoch: 03, loss: -0.92252\n",
      "epoch: 04, loss: -0.92656\n",
      "epoch: 05, loss: -0.92987\n",
      "epoch: 06, loss: -0.93261\n",
      "epoch: 07, loss: -0.93494\n",
      "epoch: 08, loss: -0.93693\n",
      "epoch: 09, loss: -0.93874\n",
      "torch.Size([1024, 64])\n"
     ]
    },
    {
     "name": "stderr",
     "output_type": "stream",
     "text": [
      " 31%|███       | 309/999 [6:16:20<14:15:30, 74.39s/it]"
     ]
    },
    {
     "name": "stdout",
     "output_type": "stream",
     "text": [
      "eigenvalues shape torch.Size([5]) eigenvectors shape torch.Size([5, 1024])\n",
      "309 /home/phdcs2/Hard_Disk/Datasets/Deep-Spectral-Segmentation/data/object-segmentation/ECSSD/features/0311_resized.pth\n",
      "dict_keys(['k', 'indices', 'file', 'id', 'model_name', 'patch_size', 'shape'])\n",
      "0311_resized\n",
      "Starting Training\n",
      "epoch: 00, loss: -0.81817\n",
      "epoch: 01, loss: -0.85818\n",
      "epoch: 02, loss: -0.87263\n",
      "epoch: 03, loss: -0.88318\n",
      "epoch: 04, loss: -0.89118\n",
      "epoch: 05, loss: -0.89733\n",
      "epoch: 06, loss: -0.90232\n",
      "epoch: 07, loss: -0.90657\n",
      "epoch: 08, loss: -0.91019\n",
      "epoch: 09, loss: -0.91337\n",
      "torch.Size([1024, 64])\n"
     ]
    },
    {
     "name": "stderr",
     "output_type": "stream",
     "text": [
      " 31%|███       | 310/999 [6:17:36<14:20:41, 74.95s/it]"
     ]
    },
    {
     "name": "stdout",
     "output_type": "stream",
     "text": [
      "eigenvalues shape torch.Size([5]) eigenvectors shape torch.Size([5, 1024])\n",
      "310 /home/phdcs2/Hard_Disk/Datasets/Deep-Spectral-Segmentation/data/object-segmentation/ECSSD/features/0312_resized.pth\n",
      "dict_keys(['k', 'indices', 'file', 'id', 'model_name', 'patch_size', 'shape'])\n",
      "0312_resized\n"
     ]
    },
    {
     "name": "stderr",
     "output_type": "stream",
     "text": [
      "/home/phdcs2/Hard_Disk/Projects/T2I/deep-spectral-segmentation/venv/lib/python3.8/site-packages/sklearn/decomposition/_pca.py:642: RuntimeWarning: invalid value encountered in divide\n",
      "  self.explained_variance_ratio_ = self.explained_variance_ / total_var\n"
     ]
    },
    {
     "name": "stdout",
     "output_type": "stream",
     "text": [
      "Starting Training\n",
      "epoch: 00, loss: -0.89866\n",
      "epoch: 01, loss: -0.91771\n",
      "epoch: 02, loss: -0.92369\n",
      "epoch: 03, loss: -0.92750\n",
      "epoch: 04, loss: -0.93044\n",
      "epoch: 05, loss: -0.93281\n",
      "epoch: 06, loss: -0.93470\n",
      "epoch: 07, loss: -0.93641\n",
      "epoch: 08, loss: -0.93783\n",
      "epoch: 09, loss: -0.93908\n",
      "torch.Size([1024, 64])\n"
     ]
    },
    {
     "name": "stderr",
     "output_type": "stream",
     "text": [
      " 31%|███       | 311/999 [6:18:53<14:24:57, 75.43s/it]"
     ]
    },
    {
     "name": "stdout",
     "output_type": "stream",
     "text": [
      "eigenvalues shape torch.Size([5]) eigenvectors shape torch.Size([5, 1024])\n",
      "311 /home/phdcs2/Hard_Disk/Datasets/Deep-Spectral-Segmentation/data/object-segmentation/ECSSD/features/0313_resized.pth\n",
      "dict_keys(['k', 'indices', 'file', 'id', 'model_name', 'patch_size', 'shape'])\n",
      "0313_resized\n"
     ]
    },
    {
     "name": "stderr",
     "output_type": "stream",
     "text": [
      "/home/phdcs2/Hard_Disk/Projects/T2I/deep-spectral-segmentation/venv/lib/python3.8/site-packages/sklearn/decomposition/_pca.py:642: RuntimeWarning: invalid value encountered in divide\n",
      "  self.explained_variance_ratio_ = self.explained_variance_ / total_var\n"
     ]
    },
    {
     "name": "stdout",
     "output_type": "stream",
     "text": [
      "Starting Training\n",
      "epoch: 00, loss: -0.90886\n",
      "epoch: 01, loss: -0.92989\n",
      "epoch: 02, loss: -0.93562\n",
      "epoch: 03, loss: -0.93943\n",
      "epoch: 04, loss: -0.94235\n",
      "epoch: 05, loss: -0.94458\n",
      "epoch: 06, loss: -0.94642\n",
      "epoch: 07, loss: -0.94800\n",
      "epoch: 08, loss: -0.94939\n",
      "epoch: 09, loss: -0.95058\n",
      "torch.Size([1024, 64])\n"
     ]
    },
    {
     "name": "stderr",
     "output_type": "stream",
     "text": [
      " 31%|███       | 312/999 [6:20:12<14:35:20, 76.45s/it]"
     ]
    },
    {
     "name": "stdout",
     "output_type": "stream",
     "text": [
      "eigenvalues shape torch.Size([5]) eigenvectors shape torch.Size([5, 1024])\n",
      "312 /home/phdcs2/Hard_Disk/Datasets/Deep-Spectral-Segmentation/data/object-segmentation/ECSSD/features/0314_resized.pth\n",
      "dict_keys(['k', 'indices', 'file', 'id', 'model_name', 'patch_size', 'shape'])\n",
      "0314_resized\n",
      "Starting Training\n",
      "epoch: 00, loss: -0.82331\n",
      "epoch: 01, loss: -0.87152\n",
      "epoch: 02, loss: -0.88684\n",
      "epoch: 03, loss: -0.89673\n",
      "epoch: 04, loss: -0.90373\n",
      "epoch: 05, loss: -0.90925\n",
      "epoch: 06, loss: -0.91336\n",
      "epoch: 07, loss: -0.91701\n",
      "epoch: 08, loss: -0.91992\n",
      "epoch: 09, loss: -0.92261\n",
      "torch.Size([1024, 64])\n"
     ]
    },
    {
     "name": "stderr",
     "output_type": "stream",
     "text": [
      " 31%|███▏      | 313/999 [6:21:32<14:47:13, 77.60s/it]"
     ]
    },
    {
     "name": "stdout",
     "output_type": "stream",
     "text": [
      "eigenvalues shape torch.Size([5]) eigenvectors shape torch.Size([5, 1024])\n",
      "313 /home/phdcs2/Hard_Disk/Datasets/Deep-Spectral-Segmentation/data/object-segmentation/ECSSD/features/0315_resized.pth\n",
      "dict_keys(['k', 'indices', 'file', 'id', 'model_name', 'patch_size', 'shape'])\n",
      "0315_resized\n"
     ]
    },
    {
     "name": "stderr",
     "output_type": "stream",
     "text": [
      "/home/phdcs2/Hard_Disk/Projects/T2I/deep-spectral-segmentation/venv/lib/python3.8/site-packages/sklearn/decomposition/_pca.py:642: RuntimeWarning: invalid value encountered in divide\n",
      "  self.explained_variance_ratio_ = self.explained_variance_ / total_var\n"
     ]
    },
    {
     "name": "stdout",
     "output_type": "stream",
     "text": [
      "Starting Training\n",
      "epoch: 00, loss: -0.90125\n",
      "epoch: 01, loss: -0.92334\n",
      "epoch: 02, loss: -0.92950\n",
      "epoch: 03, loss: -0.93353\n",
      "epoch: 04, loss: -0.93650\n",
      "epoch: 05, loss: -0.93890\n",
      "epoch: 06, loss: -0.94095\n",
      "epoch: 07, loss: -0.94269\n",
      "epoch: 08, loss: -0.94410\n",
      "epoch: 09, loss: -0.94543\n",
      "torch.Size([1024, 64])\n"
     ]
    },
    {
     "name": "stderr",
     "output_type": "stream",
     "text": [
      " 31%|███▏      | 314/999 [6:22:49<14:44:11, 77.45s/it]"
     ]
    },
    {
     "name": "stdout",
     "output_type": "stream",
     "text": [
      "eigenvalues shape torch.Size([5]) eigenvectors shape torch.Size([5, 1024])\n",
      "314 /home/phdcs2/Hard_Disk/Datasets/Deep-Spectral-Segmentation/data/object-segmentation/ECSSD/features/0316_resized.pth\n",
      "dict_keys(['k', 'indices', 'file', 'id', 'model_name', 'patch_size', 'shape'])\n",
      "0316_resized\n",
      "Starting Training\n",
      "epoch: 00, loss: -0.86600\n",
      "epoch: 01, loss: -0.90066\n",
      "epoch: 02, loss: -0.91088\n",
      "epoch: 03, loss: -0.91751\n",
      "epoch: 04, loss: -0.92215\n",
      "epoch: 05, loss: -0.92592\n",
      "epoch: 06, loss: -0.92882\n",
      "epoch: 07, loss: -0.93141\n",
      "epoch: 08, loss: -0.93343\n",
      "epoch: 09, loss: -0.93540\n",
      "torch.Size([1024, 64])\n"
     ]
    },
    {
     "name": "stderr",
     "output_type": "stream",
     "text": [
      " 32%|███▏      | 315/999 [6:24:21<15:31:58, 81.75s/it]"
     ]
    },
    {
     "name": "stdout",
     "output_type": "stream",
     "text": [
      "eigenvalues shape torch.Size([5]) eigenvectors shape torch.Size([5, 1024])\n",
      "315 /home/phdcs2/Hard_Disk/Datasets/Deep-Spectral-Segmentation/data/object-segmentation/ECSSD/features/0317_resized.pth\n",
      "dict_keys(['k', 'indices', 'file', 'id', 'model_name', 'patch_size', 'shape'])\n",
      "0317_resized\n"
     ]
    },
    {
     "name": "stderr",
     "output_type": "stream",
     "text": [
      "/home/phdcs2/Hard_Disk/Projects/T2I/deep-spectral-segmentation/venv/lib/python3.8/site-packages/sklearn/decomposition/_pca.py:642: RuntimeWarning: invalid value encountered in divide\n",
      "  self.explained_variance_ratio_ = self.explained_variance_ / total_var\n"
     ]
    },
    {
     "name": "stdout",
     "output_type": "stream",
     "text": [
      "Starting Training\n",
      "epoch: 00, loss: -0.90160\n",
      "epoch: 01, loss: -0.92480\n",
      "epoch: 02, loss: -0.93153\n",
      "epoch: 03, loss: -0.93589\n",
      "epoch: 04, loss: -0.93912\n",
      "epoch: 05, loss: -0.94169\n",
      "epoch: 06, loss: -0.94385\n",
      "epoch: 07, loss: -0.94564\n",
      "epoch: 08, loss: -0.94721\n",
      "epoch: 09, loss: -0.94852\n",
      "torch.Size([1024, 64])\n"
     ]
    },
    {
     "name": "stderr",
     "output_type": "stream",
     "text": [
      " 32%|███▏      | 316/999 [6:25:33<14:56:27, 78.75s/it]"
     ]
    },
    {
     "name": "stdout",
     "output_type": "stream",
     "text": [
      "eigenvalues shape torch.Size([5]) eigenvectors shape torch.Size([5, 1024])\n",
      "316 /home/phdcs2/Hard_Disk/Datasets/Deep-Spectral-Segmentation/data/object-segmentation/ECSSD/features/0318_resized.pth\n",
      "dict_keys(['k', 'indices', 'file', 'id', 'model_name', 'patch_size', 'shape'])\n",
      "0318_resized\n",
      "Starting Training\n",
      "epoch: 00, loss: -0.80777\n",
      "epoch: 01, loss: -0.84547\n",
      "epoch: 02, loss: -0.85920\n",
      "epoch: 03, loss: -0.86905\n",
      "epoch: 04, loss: -0.87595\n",
      "epoch: 05, loss: -0.88222\n",
      "epoch: 06, loss: -0.88718\n",
      "epoch: 07, loss: -0.89149\n",
      "epoch: 08, loss: -0.89520\n",
      "epoch: 09, loss: -0.89854\n",
      "torch.Size([1024, 64])\n"
     ]
    },
    {
     "name": "stderr",
     "output_type": "stream",
     "text": [
      " 32%|███▏      | 317/999 [6:26:48<14:43:58, 77.77s/it]"
     ]
    },
    {
     "name": "stdout",
     "output_type": "stream",
     "text": [
      "eigenvalues shape torch.Size([5]) eigenvectors shape torch.Size([5, 1024])\n",
      "317 /home/phdcs2/Hard_Disk/Datasets/Deep-Spectral-Segmentation/data/object-segmentation/ECSSD/features/0319_resized.pth\n",
      "dict_keys(['k', 'indices', 'file', 'id', 'model_name', 'patch_size', 'shape'])\n",
      "0319_resized\n",
      "Starting Training\n",
      "epoch: 00, loss: -0.76115\n",
      "epoch: 01, loss: -0.81096\n",
      "epoch: 02, loss: -0.83053\n",
      "epoch: 03, loss: -0.84393\n",
      "epoch: 04, loss: -0.85329\n",
      "epoch: 05, loss: -0.86103\n",
      "epoch: 06, loss: -0.86775\n",
      "epoch: 07, loss: -0.87335\n",
      "epoch: 08, loss: -0.87800\n",
      "epoch: 09, loss: -0.88183\n",
      "torch.Size([1024, 64])\n"
     ]
    },
    {
     "name": "stderr",
     "output_type": "stream",
     "text": [
      " 32%|███▏      | 318/999 [6:27:55<14:05:39, 74.51s/it]"
     ]
    },
    {
     "name": "stdout",
     "output_type": "stream",
     "text": [
      "eigenvalues shape torch.Size([5]) eigenvectors shape torch.Size([5, 1024])\n",
      "318 /home/phdcs2/Hard_Disk/Datasets/Deep-Spectral-Segmentation/data/object-segmentation/ECSSD/features/0320_resized.pth\n",
      "dict_keys(['k', 'indices', 'file', 'id', 'model_name', 'patch_size', 'shape'])\n",
      "0320_resized\n",
      "Starting Training\n",
      "epoch: 00, loss: -0.79163\n",
      "epoch: 01, loss: -0.83296\n",
      "epoch: 02, loss: -0.84891\n",
      "epoch: 03, loss: -0.86051\n",
      "epoch: 04, loss: -0.86940\n",
      "epoch: 05, loss: -0.87646\n",
      "epoch: 06, loss: -0.88211\n",
      "epoch: 07, loss: -0.88709\n",
      "epoch: 08, loss: -0.89144\n",
      "epoch: 09, loss: -0.89526\n",
      "torch.Size([1024, 64])\n"
     ]
    },
    {
     "name": "stderr",
     "output_type": "stream",
     "text": [
      " 32%|███▏      | 319/999 [6:29:02<13:39:00, 72.27s/it]"
     ]
    },
    {
     "name": "stdout",
     "output_type": "stream",
     "text": [
      "eigenvalues shape torch.Size([5]) eigenvectors shape torch.Size([5, 1024])\n",
      "319 /home/phdcs2/Hard_Disk/Datasets/Deep-Spectral-Segmentation/data/object-segmentation/ECSSD/features/0321_resized.pth\n",
      "dict_keys(['k', 'indices', 'file', 'id', 'model_name', 'patch_size', 'shape'])\n",
      "0321_resized\n",
      "Starting Training\n",
      "epoch: 00, loss: -0.90243\n",
      "epoch: 01, loss: -0.92726\n",
      "epoch: 02, loss: -0.93359\n",
      "epoch: 03, loss: -0.93796\n",
      "epoch: 04, loss: -0.94109\n",
      "epoch: 05, loss: -0.94371\n",
      "epoch: 06, loss: -0.94585\n",
      "epoch: 07, loss: -0.94764\n",
      "epoch: 08, loss: -0.94927\n",
      "epoch: 09, loss: -0.95064\n",
      "torch.Size([1024, 64])\n"
     ]
    },
    {
     "name": "stderr",
     "output_type": "stream",
     "text": [
      " 32%|███▏      | 320/999 [6:30:03<12:58:59, 68.84s/it]"
     ]
    },
    {
     "name": "stdout",
     "output_type": "stream",
     "text": [
      "eigenvalues shape torch.Size([5]) eigenvectors shape torch.Size([5, 1024])\n",
      "320 /home/phdcs2/Hard_Disk/Datasets/Deep-Spectral-Segmentation/data/object-segmentation/ECSSD/features/0322_resized.pth\n",
      "dict_keys(['k', 'indices', 'file', 'id', 'model_name', 'patch_size', 'shape'])\n",
      "0322_resized\n",
      "Starting Training\n",
      "epoch: 00, loss: -0.80042\n",
      "epoch: 01, loss: -0.83553\n",
      "epoch: 02, loss: -0.85016\n",
      "epoch: 03, loss: -0.86076\n",
      "epoch: 04, loss: -0.86935\n",
      "epoch: 05, loss: -0.87561\n",
      "epoch: 06, loss: -0.88146\n",
      "epoch: 07, loss: -0.88537\n",
      "epoch: 08, loss: -0.88948\n",
      "epoch: 09, loss: -0.89306\n",
      "torch.Size([1024, 64])\n"
     ]
    },
    {
     "name": "stderr",
     "output_type": "stream",
     "text": [
      " 32%|███▏      | 321/999 [6:31:09<12:49:44, 68.12s/it]"
     ]
    },
    {
     "name": "stdout",
     "output_type": "stream",
     "text": [
      "eigenvalues shape torch.Size([5]) eigenvectors shape torch.Size([5, 1024])\n",
      "321 /home/phdcs2/Hard_Disk/Datasets/Deep-Spectral-Segmentation/data/object-segmentation/ECSSD/features/0323_resized.pth\n",
      "dict_keys(['k', 'indices', 'file', 'id', 'model_name', 'patch_size', 'shape'])\n",
      "0323_resized\n",
      "Starting Training\n",
      "epoch: 00, loss: -0.87853\n",
      "epoch: 01, loss: -0.90666\n",
      "epoch: 02, loss: -0.91626\n",
      "epoch: 03, loss: -0.92235\n",
      "epoch: 04, loss: -0.92714\n",
      "epoch: 05, loss: -0.93066\n",
      "epoch: 06, loss: -0.93338\n",
      "epoch: 07, loss: -0.93583\n",
      "epoch: 08, loss: -0.93796\n",
      "epoch: 09, loss: -0.93983\n",
      "torch.Size([1024, 64])\n"
     ]
    },
    {
     "name": "stderr",
     "output_type": "stream",
     "text": [
      " 32%|███▏      | 322/999 [6:32:22<13:04:36, 69.54s/it]"
     ]
    },
    {
     "name": "stdout",
     "output_type": "stream",
     "text": [
      "eigenvalues shape torch.Size([5]) eigenvectors shape torch.Size([5, 1024])\n",
      "322 /home/phdcs2/Hard_Disk/Datasets/Deep-Spectral-Segmentation/data/object-segmentation/ECSSD/features/0324_resized.pth\n",
      "dict_keys(['k', 'indices', 'file', 'id', 'model_name', 'patch_size', 'shape'])\n",
      "0324_resized\n"
     ]
    },
    {
     "name": "stderr",
     "output_type": "stream",
     "text": [
      "/home/phdcs2/Hard_Disk/Projects/T2I/deep-spectral-segmentation/venv/lib/python3.8/site-packages/sklearn/decomposition/_pca.py:642: RuntimeWarning: invalid value encountered in divide\n",
      "  self.explained_variance_ratio_ = self.explained_variance_ / total_var\n"
     ]
    },
    {
     "name": "stdout",
     "output_type": "stream",
     "text": [
      "Starting Training\n",
      "epoch: 00, loss: -0.89910\n",
      "epoch: 01, loss: -0.92209\n",
      "epoch: 02, loss: -0.92833\n",
      "epoch: 03, loss: -0.93245\n",
      "epoch: 04, loss: -0.93546\n",
      "epoch: 05, loss: -0.93803\n",
      "epoch: 06, loss: -0.94003\n",
      "epoch: 07, loss: -0.94179\n",
      "epoch: 08, loss: -0.94332\n",
      "epoch: 09, loss: -0.94460\n",
      "torch.Size([1024, 64])\n"
     ]
    },
    {
     "name": "stderr",
     "output_type": "stream",
     "text": [
      " 32%|███▏      | 323/999 [6:33:34<13:11:23, 70.24s/it]"
     ]
    },
    {
     "name": "stdout",
     "output_type": "stream",
     "text": [
      "eigenvalues shape torch.Size([5]) eigenvectors shape torch.Size([5, 1024])\n",
      "323 /home/phdcs2/Hard_Disk/Datasets/Deep-Spectral-Segmentation/data/object-segmentation/ECSSD/features/0325_resized.pth\n",
      "dict_keys(['k', 'indices', 'file', 'id', 'model_name', 'patch_size', 'shape'])\n",
      "0325_resized\n"
     ]
    },
    {
     "name": "stderr",
     "output_type": "stream",
     "text": [
      "/home/phdcs2/Hard_Disk/Projects/T2I/deep-spectral-segmentation/venv/lib/python3.8/site-packages/sklearn/decomposition/_pca.py:642: RuntimeWarning: invalid value encountered in divide\n",
      "  self.explained_variance_ratio_ = self.explained_variance_ / total_var\n"
     ]
    },
    {
     "name": "stdout",
     "output_type": "stream",
     "text": [
      "Starting Training\n",
      "epoch: 00, loss: -0.90985\n",
      "epoch: 01, loss: -0.93528\n",
      "epoch: 02, loss: -0.94159\n",
      "epoch: 03, loss: -0.94568\n",
      "epoch: 04, loss: -0.94865\n",
      "epoch: 05, loss: -0.95106\n",
      "epoch: 06, loss: -0.95292\n",
      "epoch: 07, loss: -0.95456\n",
      "epoch: 08, loss: -0.95598\n",
      "epoch: 09, loss: -0.95722\n",
      "torch.Size([1024, 64])\n"
     ]
    },
    {
     "name": "stderr",
     "output_type": "stream",
     "text": [
      " 32%|███▏      | 324/999 [6:34:41<12:57:48, 69.14s/it]"
     ]
    },
    {
     "name": "stdout",
     "output_type": "stream",
     "text": [
      "eigenvalues shape torch.Size([5]) eigenvectors shape torch.Size([5, 1024])\n",
      "324 /home/phdcs2/Hard_Disk/Datasets/Deep-Spectral-Segmentation/data/object-segmentation/ECSSD/features/0326_resized.pth\n",
      "dict_keys(['k', 'indices', 'file', 'id', 'model_name', 'patch_size', 'shape'])\n",
      "0326_resized\n"
     ]
    },
    {
     "name": "stderr",
     "output_type": "stream",
     "text": [
      "/home/phdcs2/Hard_Disk/Projects/T2I/deep-spectral-segmentation/venv/lib/python3.8/site-packages/sklearn/decomposition/_pca.py:642: RuntimeWarning: invalid value encountered in divide\n",
      "  self.explained_variance_ratio_ = self.explained_variance_ / total_var\n"
     ]
    },
    {
     "name": "stdout",
     "output_type": "stream",
     "text": [
      "Starting Training\n",
      "epoch: 00, loss: -0.89473\n",
      "epoch: 01, loss: -0.92102\n",
      "epoch: 02, loss: -0.92799\n",
      "epoch: 03, loss: -0.93236\n",
      "epoch: 04, loss: -0.93574\n",
      "epoch: 05, loss: -0.93825\n",
      "epoch: 06, loss: -0.94042\n",
      "epoch: 07, loss: -0.94225\n",
      "epoch: 08, loss: -0.94380\n",
      "epoch: 09, loss: -0.94517\n",
      "torch.Size([1024, 64])\n"
     ]
    },
    {
     "name": "stderr",
     "output_type": "stream",
     "text": [
      " 33%|███▎      | 325/999 [6:35:46<12:43:44, 67.99s/it]"
     ]
    },
    {
     "name": "stdout",
     "output_type": "stream",
     "text": [
      "eigenvalues shape torch.Size([5]) eigenvectors shape torch.Size([5, 1024])\n",
      "325 /home/phdcs2/Hard_Disk/Datasets/Deep-Spectral-Segmentation/data/object-segmentation/ECSSD/features/0327_resized.pth\n",
      "dict_keys(['k', 'indices', 'file', 'id', 'model_name', 'patch_size', 'shape'])\n",
      "0327_resized\n",
      "Starting Training\n",
      "epoch: 00, loss: -0.89779\n",
      "epoch: 01, loss: -0.92121\n",
      "epoch: 02, loss: -0.92820\n",
      "epoch: 03, loss: -0.93284\n",
      "epoch: 04, loss: -0.93642\n",
      "epoch: 05, loss: -0.93914\n",
      "epoch: 06, loss: -0.94149\n",
      "epoch: 07, loss: -0.94343\n",
      "epoch: 08, loss: -0.94511\n",
      "epoch: 09, loss: -0.94664\n",
      "torch.Size([1024, 64])\n"
     ]
    },
    {
     "name": "stderr",
     "output_type": "stream",
     "text": [
      " 33%|███▎      | 326/999 [6:36:59<12:58:13, 69.38s/it]"
     ]
    },
    {
     "name": "stdout",
     "output_type": "stream",
     "text": [
      "eigenvalues shape torch.Size([5]) eigenvectors shape torch.Size([5, 1024])\n",
      "326 /home/phdcs2/Hard_Disk/Datasets/Deep-Spectral-Segmentation/data/object-segmentation/ECSSD/features/0328_resized.pth\n",
      "dict_keys(['k', 'indices', 'file', 'id', 'model_name', 'patch_size', 'shape'])\n",
      "0328_resized\n",
      "Starting Training\n",
      "epoch: 00, loss: -0.83603\n",
      "epoch: 01, loss: -0.86801\n",
      "epoch: 02, loss: -0.87966\n",
      "epoch: 03, loss: -0.88821\n",
      "epoch: 04, loss: -0.89454\n",
      "epoch: 05, loss: -0.89970\n",
      "epoch: 06, loss: -0.90374\n",
      "epoch: 07, loss: -0.90728\n",
      "epoch: 08, loss: -0.91038\n",
      "epoch: 09, loss: -0.91301\n",
      "torch.Size([1024, 64])\n"
     ]
    },
    {
     "name": "stderr",
     "output_type": "stream",
     "text": [
      " 33%|███▎      | 327/999 [6:38:10<13:03:59, 70.00s/it]"
     ]
    },
    {
     "name": "stdout",
     "output_type": "stream",
     "text": [
      "eigenvalues shape torch.Size([5]) eigenvectors shape torch.Size([5, 1024])\n",
      "327 /home/phdcs2/Hard_Disk/Datasets/Deep-Spectral-Segmentation/data/object-segmentation/ECSSD/features/0329_resized.pth\n",
      "dict_keys(['k', 'indices', 'file', 'id', 'model_name', 'patch_size', 'shape'])\n",
      "0329_resized\n"
     ]
    },
    {
     "name": "stderr",
     "output_type": "stream",
     "text": [
      "/home/phdcs2/Hard_Disk/Projects/T2I/deep-spectral-segmentation/venv/lib/python3.8/site-packages/sklearn/decomposition/_pca.py:642: RuntimeWarning: invalid value encountered in divide\n",
      "  self.explained_variance_ratio_ = self.explained_variance_ / total_var\n"
     ]
    },
    {
     "name": "stdout",
     "output_type": "stream",
     "text": [
      "Starting Training\n",
      "epoch: 00, loss: -0.91127\n",
      "epoch: 01, loss: -0.93393\n",
      "epoch: 02, loss: -0.94020\n",
      "epoch: 03, loss: -0.94425\n",
      "epoch: 04, loss: -0.94721\n",
      "epoch: 05, loss: -0.94954\n",
      "epoch: 06, loss: -0.95139\n",
      "epoch: 07, loss: -0.95308\n",
      "epoch: 08, loss: -0.95437\n",
      "epoch: 09, loss: -0.95558\n",
      "torch.Size([1024, 64])\n"
     ]
    },
    {
     "name": "stderr",
     "output_type": "stream",
     "text": [
      " 33%|███▎      | 328/999 [6:39:21<13:05:37, 70.25s/it]"
     ]
    },
    {
     "name": "stdout",
     "output_type": "stream",
     "text": [
      "eigenvalues shape torch.Size([5]) eigenvectors shape torch.Size([5, 1024])\n",
      "328 /home/phdcs2/Hard_Disk/Datasets/Deep-Spectral-Segmentation/data/object-segmentation/ECSSD/features/0330_resized.pth\n",
      "dict_keys(['k', 'indices', 'file', 'id', 'model_name', 'patch_size', 'shape'])\n",
      "0330_resized\n",
      "Starting Training\n",
      "epoch: 00, loss: -0.88383\n",
      "epoch: 01, loss: -0.90933\n",
      "epoch: 02, loss: -0.91640\n",
      "epoch: 03, loss: -0.92121\n",
      "epoch: 04, loss: -0.92491\n",
      "epoch: 05, loss: -0.92780\n",
      "epoch: 06, loss: -0.93028\n",
      "epoch: 07, loss: -0.93239\n",
      "epoch: 08, loss: -0.93423\n",
      "epoch: 09, loss: -0.93579\n",
      "torch.Size([1024, 64])\n"
     ]
    },
    {
     "name": "stderr",
     "output_type": "stream",
     "text": [
      " 33%|███▎      | 329/999 [6:40:31<13:02:49, 70.10s/it]"
     ]
    },
    {
     "name": "stdout",
     "output_type": "stream",
     "text": [
      "eigenvalues shape torch.Size([5]) eigenvectors shape torch.Size([5, 1024])\n",
      "329 /home/phdcs2/Hard_Disk/Datasets/Deep-Spectral-Segmentation/data/object-segmentation/ECSSD/features/0331_resized.pth\n",
      "dict_keys(['k', 'indices', 'file', 'id', 'model_name', 'patch_size', 'shape'])\n",
      "0331_resized\n",
      "Starting Training\n",
      "epoch: 00, loss: -0.82352\n",
      "epoch: 01, loss: -0.86217\n",
      "epoch: 02, loss: -0.87575\n",
      "epoch: 03, loss: -0.88462\n",
      "epoch: 04, loss: -0.89109\n",
      "epoch: 05, loss: -0.89593\n",
      "epoch: 06, loss: -0.89974\n",
      "epoch: 07, loss: -0.90339\n",
      "epoch: 08, loss: -0.90621\n",
      "epoch: 09, loss: -0.90869\n",
      "torch.Size([1024, 64])\n"
     ]
    },
    {
     "name": "stderr",
     "output_type": "stream",
     "text": [
      " 33%|███▎      | 330/999 [6:41:37<12:48:11, 68.90s/it]"
     ]
    },
    {
     "name": "stdout",
     "output_type": "stream",
     "text": [
      "eigenvalues shape torch.Size([5]) eigenvectors shape torch.Size([5, 1024])\n",
      "330 /home/phdcs2/Hard_Disk/Datasets/Deep-Spectral-Segmentation/data/object-segmentation/ECSSD/features/0332_resized.pth\n",
      "dict_keys(['k', 'indices', 'file', 'id', 'model_name', 'patch_size', 'shape'])\n",
      "0332_resized\n"
     ]
    },
    {
     "name": "stderr",
     "output_type": "stream",
     "text": [
      "/home/phdcs2/Hard_Disk/Projects/T2I/deep-spectral-segmentation/venv/lib/python3.8/site-packages/sklearn/decomposition/_pca.py:642: RuntimeWarning: invalid value encountered in divide\n",
      "  self.explained_variance_ratio_ = self.explained_variance_ / total_var\n"
     ]
    },
    {
     "name": "stdout",
     "output_type": "stream",
     "text": [
      "Starting Training\n",
      "epoch: 00, loss: -0.91779\n",
      "epoch: 01, loss: -0.93858\n",
      "epoch: 02, loss: -0.94416\n",
      "epoch: 03, loss: -0.94761\n",
      "epoch: 04, loss: -0.95014\n",
      "epoch: 05, loss: -0.95219\n",
      "epoch: 06, loss: -0.95380\n",
      "epoch: 07, loss: -0.95517\n",
      "epoch: 08, loss: -0.95633\n",
      "epoch: 09, loss: -0.95739\n",
      "torch.Size([1024, 64])\n"
     ]
    },
    {
     "name": "stderr",
     "output_type": "stream",
     "text": [
      " 33%|███▎      | 331/999 [6:42:38<12:22:18, 66.68s/it]"
     ]
    },
    {
     "name": "stdout",
     "output_type": "stream",
     "text": [
      "eigenvalues shape torch.Size([5]) eigenvectors shape torch.Size([5, 1024])\n",
      "331 /home/phdcs2/Hard_Disk/Datasets/Deep-Spectral-Segmentation/data/object-segmentation/ECSSD/features/0333_resized.pth\n",
      "dict_keys(['k', 'indices', 'file', 'id', 'model_name', 'patch_size', 'shape'])\n",
      "0333_resized\n"
     ]
    },
    {
     "name": "stderr",
     "output_type": "stream",
     "text": [
      "/home/phdcs2/Hard_Disk/Projects/T2I/deep-spectral-segmentation/venv/lib/python3.8/site-packages/sklearn/decomposition/_pca.py:642: RuntimeWarning: invalid value encountered in divide\n",
      "  self.explained_variance_ratio_ = self.explained_variance_ / total_var\n"
     ]
    },
    {
     "name": "stdout",
     "output_type": "stream",
     "text": [
      "Starting Training\n",
      "epoch: 00, loss: -0.90145\n",
      "epoch: 01, loss: -0.92414\n",
      "epoch: 02, loss: -0.92961\n",
      "epoch: 03, loss: -0.93331\n",
      "epoch: 04, loss: -0.93615\n",
      "epoch: 05, loss: -0.93839\n",
      "epoch: 06, loss: -0.94031\n",
      "epoch: 07, loss: -0.94188\n",
      "epoch: 08, loss: -0.94338\n",
      "epoch: 09, loss: -0.94464\n",
      "torch.Size([1024, 64])\n"
     ]
    },
    {
     "name": "stderr",
     "output_type": "stream",
     "text": [
      " 33%|███▎      | 332/999 [6:43:38<11:58:38, 64.65s/it]"
     ]
    },
    {
     "name": "stdout",
     "output_type": "stream",
     "text": [
      "eigenvalues shape torch.Size([5]) eigenvectors shape torch.Size([5, 1024])\n",
      "332 /home/phdcs2/Hard_Disk/Datasets/Deep-Spectral-Segmentation/data/object-segmentation/ECSSD/features/0334_resized.pth\n",
      "dict_keys(['k', 'indices', 'file', 'id', 'model_name', 'patch_size', 'shape'])\n",
      "0334_resized\n",
      "Starting Training\n",
      "epoch: 00, loss: -0.81051\n",
      "epoch: 01, loss: -0.85377\n",
      "epoch: 02, loss: -0.86914\n",
      "epoch: 03, loss: -0.87902\n",
      "epoch: 04, loss: -0.88661\n",
      "epoch: 05, loss: -0.89270\n",
      "epoch: 06, loss: -0.89775\n",
      "epoch: 07, loss: -0.90184\n",
      "epoch: 08, loss: -0.90541\n",
      "epoch: 09, loss: -0.90845\n",
      "torch.Size([1024, 64])\n"
     ]
    },
    {
     "name": "stderr",
     "output_type": "stream",
     "text": [
      " 33%|███▎      | 333/999 [6:44:39<11:44:43, 63.49s/it]"
     ]
    },
    {
     "name": "stdout",
     "output_type": "stream",
     "text": [
      "eigenvalues shape torch.Size([5]) eigenvectors shape torch.Size([5, 1024])\n",
      "333 /home/phdcs2/Hard_Disk/Datasets/Deep-Spectral-Segmentation/data/object-segmentation/ECSSD/features/0335_resized.pth\n",
      "dict_keys(['k', 'indices', 'file', 'id', 'model_name', 'patch_size', 'shape'])\n",
      "0335_resized\n"
     ]
    },
    {
     "name": "stderr",
     "output_type": "stream",
     "text": [
      "/home/phdcs2/Hard_Disk/Projects/T2I/deep-spectral-segmentation/venv/lib/python3.8/site-packages/sklearn/decomposition/_pca.py:642: RuntimeWarning: invalid value encountered in divide\n",
      "  self.explained_variance_ratio_ = self.explained_variance_ / total_var\n"
     ]
    },
    {
     "name": "stdout",
     "output_type": "stream",
     "text": [
      "Starting Training\n",
      "epoch: 00, loss: -0.91068\n",
      "epoch: 01, loss: -0.93552\n",
      "epoch: 02, loss: -0.94142\n",
      "epoch: 03, loss: -0.94516\n",
      "epoch: 04, loss: -0.94797\n",
      "epoch: 05, loss: -0.95011\n",
      "epoch: 06, loss: -0.95192\n",
      "epoch: 07, loss: -0.95343\n",
      "epoch: 08, loss: -0.95475\n",
      "epoch: 09, loss: -0.95582\n",
      "torch.Size([1024, 64])\n"
     ]
    },
    {
     "name": "stderr",
     "output_type": "stream",
     "text": [
      " 33%|███▎      | 334/999 [6:45:37<11:25:54, 61.89s/it]"
     ]
    },
    {
     "name": "stdout",
     "output_type": "stream",
     "text": [
      "eigenvalues shape torch.Size([5]) eigenvectors shape torch.Size([5, 1024])\n",
      "334 /home/phdcs2/Hard_Disk/Datasets/Deep-Spectral-Segmentation/data/object-segmentation/ECSSD/features/0336_resized.pth\n",
      "dict_keys(['k', 'indices', 'file', 'id', 'model_name', 'patch_size', 'shape'])\n",
      "0336_resized\n"
     ]
    },
    {
     "name": "stderr",
     "output_type": "stream",
     "text": [
      "/home/phdcs2/Hard_Disk/Projects/T2I/deep-spectral-segmentation/venv/lib/python3.8/site-packages/sklearn/decomposition/_pca.py:642: RuntimeWarning: invalid value encountered in divide\n",
      "  self.explained_variance_ratio_ = self.explained_variance_ / total_var\n"
     ]
    },
    {
     "name": "stdout",
     "output_type": "stream",
     "text": [
      "Starting Training\n",
      "epoch: 00, loss: -0.92165\n",
      "epoch: 01, loss: -0.94412\n",
      "epoch: 02, loss: -0.94781\n",
      "epoch: 03, loss: -0.95022\n",
      "epoch: 04, loss: -0.95196\n",
      "epoch: 05, loss: -0.95332\n",
      "epoch: 06, loss: -0.95443\n",
      "epoch: 07, loss: -0.95549\n",
      "epoch: 08, loss: -0.95632\n",
      "epoch: 09, loss: -0.95707\n",
      "torch.Size([1024, 64])\n"
     ]
    },
    {
     "name": "stderr",
     "output_type": "stream",
     "text": [
      " 34%|███▎      | 335/999 [6:46:36<11:15:40, 61.05s/it]"
     ]
    },
    {
     "name": "stdout",
     "output_type": "stream",
     "text": [
      "eigenvalues shape torch.Size([5]) eigenvectors shape torch.Size([5, 1024])\n",
      "335 /home/phdcs2/Hard_Disk/Datasets/Deep-Spectral-Segmentation/data/object-segmentation/ECSSD/features/0337_resized.pth\n",
      "dict_keys(['k', 'indices', 'file', 'id', 'model_name', 'patch_size', 'shape'])\n",
      "0337_resized\n",
      "Starting Training\n",
      "epoch: 00, loss: -0.91765\n",
      "epoch: 01, loss: -0.93889\n",
      "epoch: 02, loss: -0.94392\n",
      "epoch: 03, loss: -0.94729\n",
      "epoch: 04, loss: -0.94978\n",
      "epoch: 05, loss: -0.95170\n",
      "epoch: 06, loss: -0.95335\n",
      "epoch: 07, loss: -0.95471\n",
      "epoch: 08, loss: -0.95595\n",
      "epoch: 09, loss: -0.95702\n",
      "torch.Size([1024, 64])\n"
     ]
    },
    {
     "name": "stderr",
     "output_type": "stream",
     "text": [
      " 34%|███▎      | 336/999 [6:47:32<10:56:33, 59.42s/it]"
     ]
    },
    {
     "name": "stdout",
     "output_type": "stream",
     "text": [
      "eigenvalues shape torch.Size([5]) eigenvectors shape torch.Size([5, 1024])\n",
      "336 /home/phdcs2/Hard_Disk/Datasets/Deep-Spectral-Segmentation/data/object-segmentation/ECSSD/features/0338_resized.pth\n",
      "dict_keys(['k', 'indices', 'file', 'id', 'model_name', 'patch_size', 'shape'])\n",
      "0338_resized\n",
      "Starting Training\n",
      "epoch: 00, loss: -0.78049\n",
      "epoch: 01, loss: -0.81543\n",
      "epoch: 02, loss: -0.82738\n",
      "epoch: 03, loss: -0.83690\n",
      "epoch: 04, loss: -0.84446\n",
      "epoch: 05, loss: -0.85052\n",
      "epoch: 06, loss: -0.85578\n",
      "epoch: 07, loss: -0.86060\n",
      "epoch: 08, loss: -0.86484\n",
      "epoch: 09, loss: -0.86848\n",
      "torch.Size([1024, 64])\n"
     ]
    },
    {
     "name": "stderr",
     "output_type": "stream",
     "text": [
      " 34%|███▎      | 337/999 [6:48:37<11:15:03, 61.18s/it]"
     ]
    },
    {
     "name": "stdout",
     "output_type": "stream",
     "text": [
      "eigenvalues shape torch.Size([5]) eigenvectors shape torch.Size([5, 1024])\n",
      "337 /home/phdcs2/Hard_Disk/Datasets/Deep-Spectral-Segmentation/data/object-segmentation/ECSSD/features/0339_resized.pth\n",
      "dict_keys(['k', 'indices', 'file', 'id', 'model_name', 'patch_size', 'shape'])\n",
      "0339_resized\n",
      "Starting Training\n",
      "epoch: 00, loss: -0.81725\n",
      "epoch: 01, loss: -0.85749\n",
      "epoch: 02, loss: -0.87087\n",
      "epoch: 03, loss: -0.88033\n",
      "epoch: 04, loss: -0.88727\n",
      "epoch: 05, loss: -0.89311\n",
      "epoch: 06, loss: -0.89768\n",
      "epoch: 07, loss: -0.90128\n",
      "epoch: 08, loss: -0.90460\n",
      "epoch: 09, loss: -0.90733\n",
      "torch.Size([1024, 64])\n"
     ]
    },
    {
     "name": "stderr",
     "output_type": "stream",
     "text": [
      " 34%|███▍      | 338/999 [6:49:47<11:42:58, 63.81s/it]"
     ]
    },
    {
     "name": "stdout",
     "output_type": "stream",
     "text": [
      "eigenvalues shape torch.Size([5]) eigenvectors shape torch.Size([5, 1024])\n",
      "338 /home/phdcs2/Hard_Disk/Datasets/Deep-Spectral-Segmentation/data/object-segmentation/ECSSD/features/0340_resized.pth\n",
      "dict_keys(['k', 'indices', 'file', 'id', 'model_name', 'patch_size', 'shape'])\n",
      "0340_resized\n",
      "Starting Training\n",
      "epoch: 00, loss: -0.82117\n",
      "epoch: 01, loss: -0.86048\n",
      "epoch: 02, loss: -0.87376\n",
      "epoch: 03, loss: -0.88288\n",
      "epoch: 04, loss: -0.88969\n",
      "epoch: 05, loss: -0.89513\n",
      "epoch: 06, loss: -0.89966\n",
      "epoch: 07, loss: -0.90340\n",
      "epoch: 08, loss: -0.90652\n",
      "epoch: 09, loss: -0.90936\n",
      "torch.Size([1024, 64])\n"
     ]
    },
    {
     "name": "stderr",
     "output_type": "stream",
     "text": [
      " 34%|███▍      | 339/999 [6:50:59<12:07:18, 66.12s/it]"
     ]
    },
    {
     "name": "stdout",
     "output_type": "stream",
     "text": [
      "eigenvalues shape torch.Size([5]) eigenvectors shape torch.Size([5, 1024])\n",
      "339 /home/phdcs2/Hard_Disk/Datasets/Deep-Spectral-Segmentation/data/object-segmentation/ECSSD/features/0341_resized.pth\n",
      "dict_keys(['k', 'indices', 'file', 'id', 'model_name', 'patch_size', 'shape'])\n",
      "0341_resized\n"
     ]
    },
    {
     "name": "stderr",
     "output_type": "stream",
     "text": [
      "/home/phdcs2/Hard_Disk/Projects/T2I/deep-spectral-segmentation/venv/lib/python3.8/site-packages/sklearn/decomposition/_pca.py:642: RuntimeWarning: invalid value encountered in divide\n",
      "  self.explained_variance_ratio_ = self.explained_variance_ / total_var\n"
     ]
    },
    {
     "name": "stdout",
     "output_type": "stream",
     "text": [
      "Starting Training\n",
      "epoch: 00, loss: -0.88364\n",
      "epoch: 01, loss: -0.91417\n",
      "epoch: 02, loss: -0.92236\n",
      "epoch: 03, loss: -0.92767\n",
      "epoch: 04, loss: -0.93146\n",
      "epoch: 05, loss: -0.93454\n",
      "epoch: 06, loss: -0.93699\n",
      "epoch: 07, loss: -0.93905\n",
      "epoch: 08, loss: -0.94085\n",
      "epoch: 09, loss: -0.94241\n",
      "torch.Size([1024, 64])\n"
     ]
    },
    {
     "name": "stderr",
     "output_type": "stream",
     "text": [
      " 34%|███▍      | 340/999 [6:52:08<12:16:12, 67.03s/it]"
     ]
    },
    {
     "name": "stdout",
     "output_type": "stream",
     "text": [
      "eigenvalues shape torch.Size([5]) eigenvectors shape torch.Size([5, 1024])\n",
      "340 /home/phdcs2/Hard_Disk/Datasets/Deep-Spectral-Segmentation/data/object-segmentation/ECSSD/features/0342_resized.pth\n",
      "dict_keys(['k', 'indices', 'file', 'id', 'model_name', 'patch_size', 'shape'])\n",
      "0342_resized\n",
      "Starting Training\n",
      "epoch: 00, loss: -0.81224\n",
      "epoch: 01, loss: -0.85364\n",
      "epoch: 02, loss: -0.86660\n",
      "epoch: 03, loss: -0.87512\n",
      "epoch: 04, loss: -0.88162\n",
      "epoch: 05, loss: -0.88674\n",
      "epoch: 06, loss: -0.89089\n",
      "epoch: 07, loss: -0.89405\n",
      "epoch: 08, loss: -0.89705\n",
      "epoch: 09, loss: -0.89954\n",
      "torch.Size([1024, 64])\n"
     ]
    },
    {
     "name": "stderr",
     "output_type": "stream",
     "text": [
      " 34%|███▍      | 341/999 [6:53:19<12:30:13, 68.41s/it]"
     ]
    },
    {
     "name": "stdout",
     "output_type": "stream",
     "text": [
      "eigenvalues shape torch.Size([5]) eigenvectors shape torch.Size([5, 1024])\n",
      "341 /home/phdcs2/Hard_Disk/Datasets/Deep-Spectral-Segmentation/data/object-segmentation/ECSSD/features/0343_resized.pth\n",
      "dict_keys(['k', 'indices', 'file', 'id', 'model_name', 'patch_size', 'shape'])\n",
      "0343_resized\n",
      "Starting Training\n",
      "epoch: 00, loss: -0.79764\n",
      "epoch: 01, loss: -0.84356\n",
      "epoch: 02, loss: -0.85989\n",
      "epoch: 03, loss: -0.87079\n",
      "epoch: 04, loss: -0.87863\n",
      "epoch: 05, loss: -0.88485\n",
      "epoch: 06, loss: -0.89036\n",
      "epoch: 07, loss: -0.89508\n",
      "epoch: 08, loss: -0.89908\n",
      "epoch: 09, loss: -0.90242\n",
      "torch.Size([1024, 64])\n"
     ]
    },
    {
     "name": "stderr",
     "output_type": "stream",
     "text": [
      " 34%|███▍      | 342/999 [6:54:30<12:35:42, 69.01s/it]"
     ]
    },
    {
     "name": "stdout",
     "output_type": "stream",
     "text": [
      "eigenvalues shape torch.Size([5]) eigenvectors shape torch.Size([5, 1024])\n",
      "342 /home/phdcs2/Hard_Disk/Datasets/Deep-Spectral-Segmentation/data/object-segmentation/ECSSD/features/0344_resized.pth\n",
      "dict_keys(['k', 'indices', 'file', 'id', 'model_name', 'patch_size', 'shape'])\n",
      "0344_resized\n",
      "Starting Training\n",
      "epoch: 00, loss: -0.83764\n",
      "epoch: 01, loss: -0.87190\n",
      "epoch: 02, loss: -0.88429\n",
      "epoch: 03, loss: -0.89245\n",
      "epoch: 04, loss: -0.89832\n",
      "epoch: 05, loss: -0.90290\n",
      "epoch: 06, loss: -0.90705\n",
      "epoch: 07, loss: -0.91001\n",
      "epoch: 08, loss: -0.91289\n",
      "epoch: 09, loss: -0.91532\n",
      "torch.Size([1024, 64])\n"
     ]
    },
    {
     "name": "stderr",
     "output_type": "stream",
     "text": [
      " 34%|███▍      | 343/999 [6:55:40<12:39:37, 69.48s/it]"
     ]
    },
    {
     "name": "stdout",
     "output_type": "stream",
     "text": [
      "eigenvalues shape torch.Size([5]) eigenvectors shape torch.Size([5, 1024])\n",
      "343 /home/phdcs2/Hard_Disk/Datasets/Deep-Spectral-Segmentation/data/object-segmentation/ECSSD/features/0345_resized.pth\n",
      "dict_keys(['k', 'indices', 'file', 'id', 'model_name', 'patch_size', 'shape'])\n",
      "0345_resized\n"
     ]
    },
    {
     "name": "stderr",
     "output_type": "stream",
     "text": [
      "/home/phdcs2/Hard_Disk/Projects/T2I/deep-spectral-segmentation/venv/lib/python3.8/site-packages/sklearn/decomposition/_pca.py:642: RuntimeWarning: invalid value encountered in divide\n",
      "  self.explained_variance_ratio_ = self.explained_variance_ / total_var\n"
     ]
    },
    {
     "name": "stdout",
     "output_type": "stream",
     "text": [
      "Starting Training\n",
      "epoch: 00, loss: -0.89134\n",
      "epoch: 01, loss: -0.91516\n",
      "epoch: 02, loss: -0.92312\n",
      "epoch: 03, loss: -0.92839\n",
      "epoch: 04, loss: -0.93222\n",
      "epoch: 05, loss: -0.93534\n",
      "epoch: 06, loss: -0.93788\n",
      "epoch: 07, loss: -0.94004\n",
      "epoch: 08, loss: -0.94191\n",
      "epoch: 09, loss: -0.94353\n",
      "torch.Size([1024, 64])\n"
     ]
    },
    {
     "name": "stderr",
     "output_type": "stream",
     "text": [
      " 34%|███▍      | 344/999 [6:56:50<12:40:16, 69.64s/it]"
     ]
    },
    {
     "name": "stdout",
     "output_type": "stream",
     "text": [
      "eigenvalues shape torch.Size([5]) eigenvectors shape torch.Size([5, 1024])\n",
      "344 /home/phdcs2/Hard_Disk/Datasets/Deep-Spectral-Segmentation/data/object-segmentation/ECSSD/features/0346_resized.pth\n",
      "dict_keys(['k', 'indices', 'file', 'id', 'model_name', 'patch_size', 'shape'])\n",
      "0346_resized\n",
      "Starting Training\n",
      "epoch: 00, loss: -0.84472\n",
      "epoch: 01, loss: -0.87971\n",
      "epoch: 02, loss: -0.89084\n",
      "epoch: 03, loss: -0.89825\n",
      "epoch: 04, loss: -0.90395\n",
      "epoch: 05, loss: -0.90842\n",
      "epoch: 06, loss: -0.91219\n",
      "epoch: 07, loss: -0.91528\n",
      "epoch: 08, loss: -0.91804\n",
      "epoch: 09, loss: -0.92050\n",
      "torch.Size([1024, 64])\n"
     ]
    },
    {
     "name": "stderr",
     "output_type": "stream",
     "text": [
      " 35%|███▍      | 345/999 [6:57:56<12:25:26, 68.39s/it]"
     ]
    },
    {
     "name": "stdout",
     "output_type": "stream",
     "text": [
      "eigenvalues shape torch.Size([5]) eigenvectors shape torch.Size([5, 1024])\n",
      "345 /home/phdcs2/Hard_Disk/Datasets/Deep-Spectral-Segmentation/data/object-segmentation/ECSSD/features/0347_resized.pth\n",
      "dict_keys(['k', 'indices', 'file', 'id', 'model_name', 'patch_size', 'shape'])\n",
      "0347_resized\n",
      "Starting Training\n",
      "epoch: 00, loss: -0.83723\n",
      "epoch: 01, loss: -0.87425\n",
      "epoch: 02, loss: -0.88772\n",
      "epoch: 03, loss: -0.89635\n",
      "epoch: 04, loss: -0.90290\n",
      "epoch: 05, loss: -0.90794\n",
      "epoch: 06, loss: -0.91218\n",
      "epoch: 07, loss: -0.91562\n",
      "epoch: 08, loss: -0.91846\n",
      "epoch: 09, loss: -0.92094\n",
      "torch.Size([1024, 64])\n"
     ]
    },
    {
     "name": "stderr",
     "output_type": "stream",
     "text": [
      " 35%|███▍      | 346/999 [6:59:13<12:51:32, 70.89s/it]"
     ]
    },
    {
     "name": "stdout",
     "output_type": "stream",
     "text": [
      "eigenvalues shape torch.Size([5]) eigenvectors shape torch.Size([5, 1024])\n",
      "346 /home/phdcs2/Hard_Disk/Datasets/Deep-Spectral-Segmentation/data/object-segmentation/ECSSD/features/0348_resized.pth\n",
      "dict_keys(['k', 'indices', 'file', 'id', 'model_name', 'patch_size', 'shape'])\n",
      "0348_resized\n",
      "Starting Training\n",
      "epoch: 00, loss: -0.80017\n",
      "epoch: 01, loss: -0.84665\n",
      "epoch: 02, loss: -0.86190\n",
      "epoch: 03, loss: -0.87195\n",
      "epoch: 04, loss: -0.87964\n",
      "epoch: 05, loss: -0.88574\n",
      "epoch: 06, loss: -0.89089\n",
      "epoch: 07, loss: -0.89508\n",
      "epoch: 08, loss: -0.89854\n",
      "epoch: 09, loss: -0.90198\n",
      "torch.Size([1024, 64])\n"
     ]
    },
    {
     "name": "stderr",
     "output_type": "stream",
     "text": [
      " 35%|███▍      | 347/999 [7:00:24<12:52:47, 71.12s/it]"
     ]
    },
    {
     "name": "stdout",
     "output_type": "stream",
     "text": [
      "eigenvalues shape torch.Size([5]) eigenvectors shape torch.Size([5, 1024])\n",
      "347 /home/phdcs2/Hard_Disk/Datasets/Deep-Spectral-Segmentation/data/object-segmentation/ECSSD/features/0349_resized.pth\n",
      "dict_keys(['k', 'indices', 'file', 'id', 'model_name', 'patch_size', 'shape'])\n",
      "0349_resized\n",
      "Starting Training\n",
      "epoch: 00, loss: -0.91813\n",
      "epoch: 01, loss: -0.93512\n",
      "epoch: 02, loss: -0.93949\n",
      "epoch: 03, loss: -0.94232\n",
      "epoch: 04, loss: -0.94447\n",
      "epoch: 05, loss: -0.94619\n",
      "epoch: 06, loss: -0.94765\n",
      "epoch: 07, loss: -0.94890\n",
      "epoch: 08, loss: -0.94995\n",
      "epoch: 09, loss: -0.95100\n",
      "torch.Size([1024, 64])\n"
     ]
    },
    {
     "name": "stderr",
     "output_type": "stream",
     "text": [
      " 35%|███▍      | 348/999 [7:01:32<12:39:28, 70.00s/it]"
     ]
    },
    {
     "name": "stdout",
     "output_type": "stream",
     "text": [
      "eigenvalues shape torch.Size([5]) eigenvectors shape torch.Size([5, 1024])\n",
      "348 /home/phdcs2/Hard_Disk/Datasets/Deep-Spectral-Segmentation/data/object-segmentation/ECSSD/features/0350_resized.pth\n",
      "dict_keys(['k', 'indices', 'file', 'id', 'model_name', 'patch_size', 'shape'])\n",
      "0350_resized\n",
      "Starting Training\n",
      "epoch: 00, loss: -0.80543\n",
      "epoch: 01, loss: -0.84767\n",
      "epoch: 02, loss: -0.86318\n",
      "epoch: 03, loss: -0.87338\n",
      "epoch: 04, loss: -0.88124\n",
      "epoch: 05, loss: -0.88729\n",
      "epoch: 06, loss: -0.89201\n",
      "epoch: 07, loss: -0.89614\n",
      "epoch: 08, loss: -0.90007\n",
      "epoch: 09, loss: -0.90300\n",
      "torch.Size([1024, 64])\n"
     ]
    },
    {
     "name": "stderr",
     "output_type": "stream",
     "text": [
      " 35%|███▍      | 349/999 [7:02:44<12:47:31, 70.85s/it]"
     ]
    },
    {
     "name": "stdout",
     "output_type": "stream",
     "text": [
      "eigenvalues shape torch.Size([5]) eigenvectors shape torch.Size([5, 1024])\n",
      "349 /home/phdcs2/Hard_Disk/Datasets/Deep-Spectral-Segmentation/data/object-segmentation/ECSSD/features/0351_resized.pth\n",
      "dict_keys(['k', 'indices', 'file', 'id', 'model_name', 'patch_size', 'shape'])\n",
      "0351_resized\n"
     ]
    },
    {
     "name": "stderr",
     "output_type": "stream",
     "text": [
      "/home/phdcs2/Hard_Disk/Projects/T2I/deep-spectral-segmentation/venv/lib/python3.8/site-packages/sklearn/decomposition/_pca.py:642: RuntimeWarning: invalid value encountered in divide\n",
      "  self.explained_variance_ratio_ = self.explained_variance_ / total_var\n"
     ]
    },
    {
     "name": "stdout",
     "output_type": "stream",
     "text": [
      "Starting Training\n",
      "epoch: 00, loss: -0.93092\n",
      "epoch: 01, loss: -0.94897\n",
      "epoch: 02, loss: -0.95347\n",
      "epoch: 03, loss: -0.95639\n",
      "epoch: 04, loss: -0.95844\n",
      "epoch: 05, loss: -0.96012\n",
      "epoch: 06, loss: -0.96149\n",
      "epoch: 07, loss: -0.96268\n",
      "epoch: 08, loss: -0.96365\n",
      "epoch: 09, loss: -0.96455\n",
      "torch.Size([1024, 64])\n"
     ]
    },
    {
     "name": "stderr",
     "output_type": "stream",
     "text": [
      " 35%|███▌      | 350/999 [7:03:58<12:55:33, 71.70s/it]"
     ]
    },
    {
     "name": "stdout",
     "output_type": "stream",
     "text": [
      "eigenvalues shape torch.Size([5]) eigenvectors shape torch.Size([5, 1024])\n",
      "350 /home/phdcs2/Hard_Disk/Datasets/Deep-Spectral-Segmentation/data/object-segmentation/ECSSD/features/0352_resized.pth\n",
      "dict_keys(['k', 'indices', 'file', 'id', 'model_name', 'patch_size', 'shape'])\n",
      "0352_resized\n"
     ]
    },
    {
     "name": "stderr",
     "output_type": "stream",
     "text": [
      "/home/phdcs2/Hard_Disk/Projects/T2I/deep-spectral-segmentation/venv/lib/python3.8/site-packages/sklearn/decomposition/_pca.py:642: RuntimeWarning: invalid value encountered in divide\n",
      "  self.explained_variance_ratio_ = self.explained_variance_ / total_var\n"
     ]
    },
    {
     "name": "stdout",
     "output_type": "stream",
     "text": [
      "Starting Training\n",
      "epoch: 00, loss: -0.89360\n",
      "epoch: 01, loss: -0.91906\n",
      "epoch: 02, loss: -0.92695\n",
      "epoch: 03, loss: -0.93186\n",
      "epoch: 04, loss: -0.93566\n",
      "epoch: 05, loss: -0.93860\n",
      "epoch: 06, loss: -0.94095\n",
      "epoch: 07, loss: -0.94303\n",
      "epoch: 08, loss: -0.94479\n",
      "epoch: 09, loss: -0.94631\n",
      "torch.Size([1024, 64])\n"
     ]
    },
    {
     "name": "stderr",
     "output_type": "stream",
     "text": [
      " 35%|███▌      | 351/999 [7:05:11<12:57:33, 72.00s/it]"
     ]
    },
    {
     "name": "stdout",
     "output_type": "stream",
     "text": [
      "eigenvalues shape torch.Size([5]) eigenvectors shape torch.Size([5, 1024])\n",
      "351 /home/phdcs2/Hard_Disk/Datasets/Deep-Spectral-Segmentation/data/object-segmentation/ECSSD/features/0353_resized.pth\n",
      "dict_keys(['k', 'indices', 'file', 'id', 'model_name', 'patch_size', 'shape'])\n",
      "0353_resized\n"
     ]
    },
    {
     "name": "stderr",
     "output_type": "stream",
     "text": [
      "/home/phdcs2/Hard_Disk/Projects/T2I/deep-spectral-segmentation/venv/lib/python3.8/site-packages/sklearn/decomposition/_pca.py:642: RuntimeWarning: invalid value encountered in divide\n",
      "  self.explained_variance_ratio_ = self.explained_variance_ / total_var\n"
     ]
    },
    {
     "name": "stdout",
     "output_type": "stream",
     "text": [
      "Starting Training\n",
      "epoch: 00, loss: -0.89221\n",
      "epoch: 01, loss: -0.91598\n",
      "epoch: 02, loss: -0.92241\n",
      "epoch: 03, loss: -0.92656\n",
      "epoch: 04, loss: -0.92978\n",
      "epoch: 05, loss: -0.93224\n",
      "epoch: 06, loss: -0.93433\n",
      "epoch: 07, loss: -0.93615\n",
      "epoch: 08, loss: -0.93770\n",
      "epoch: 09, loss: -0.93914\n",
      "torch.Size([1024, 64])\n"
     ]
    },
    {
     "name": "stderr",
     "output_type": "stream",
     "text": [
      " 35%|███▌      | 352/999 [7:06:25<13:03:35, 72.67s/it]"
     ]
    },
    {
     "name": "stdout",
     "output_type": "stream",
     "text": [
      "eigenvalues shape torch.Size([5]) eigenvectors shape torch.Size([5, 1024])\n",
      "352 /home/phdcs2/Hard_Disk/Datasets/Deep-Spectral-Segmentation/data/object-segmentation/ECSSD/features/0354_resized.pth\n",
      "dict_keys(['k', 'indices', 'file', 'id', 'model_name', 'patch_size', 'shape'])\n",
      "0354_resized\n"
     ]
    },
    {
     "name": "stderr",
     "output_type": "stream",
     "text": [
      "/home/phdcs2/Hard_Disk/Projects/T2I/deep-spectral-segmentation/venv/lib/python3.8/site-packages/sklearn/decomposition/_pca.py:642: RuntimeWarning: invalid value encountered in divide\n",
      "  self.explained_variance_ratio_ = self.explained_variance_ / total_var\n"
     ]
    },
    {
     "name": "stdout",
     "output_type": "stream",
     "text": [
      "Starting Training\n",
      "epoch: 00, loss: -0.90249\n",
      "epoch: 01, loss: -0.92637\n",
      "epoch: 02, loss: -0.93246\n",
      "epoch: 03, loss: -0.93642\n",
      "epoch: 04, loss: -0.93936\n",
      "epoch: 05, loss: -0.94166\n",
      "epoch: 06, loss: -0.94362\n",
      "epoch: 07, loss: -0.94520\n",
      "epoch: 08, loss: -0.94660\n",
      "epoch: 09, loss: -0.94790\n",
      "torch.Size([1024, 64])\n"
     ]
    },
    {
     "name": "stderr",
     "output_type": "stream",
     "text": [
      " 35%|███▌      | 353/999 [7:07:36<12:57:16, 72.19s/it]"
     ]
    },
    {
     "name": "stdout",
     "output_type": "stream",
     "text": [
      "eigenvalues shape torch.Size([5]) eigenvectors shape torch.Size([5, 1024])\n",
      "353 /home/phdcs2/Hard_Disk/Datasets/Deep-Spectral-Segmentation/data/object-segmentation/ECSSD/features/0355_resized.pth\n",
      "dict_keys(['k', 'indices', 'file', 'id', 'model_name', 'patch_size', 'shape'])\n",
      "0355_resized\n",
      "Starting Training\n",
      "epoch: 00, loss: -0.91237\n",
      "epoch: 01, loss: -0.93309\n",
      "epoch: 02, loss: -0.93927\n",
      "epoch: 03, loss: -0.94336\n",
      "epoch: 04, loss: -0.94645\n",
      "epoch: 05, loss: -0.94878\n",
      "epoch: 06, loss: -0.95077\n",
      "epoch: 07, loss: -0.95251\n",
      "epoch: 08, loss: -0.95391\n",
      "epoch: 09, loss: -0.95523\n",
      "torch.Size([1024, 64])\n"
     ]
    },
    {
     "name": "stderr",
     "output_type": "stream",
     "text": [
      " 35%|███▌      | 354/999 [7:08:53<13:11:21, 73.62s/it]"
     ]
    },
    {
     "name": "stdout",
     "output_type": "stream",
     "text": [
      "eigenvalues shape torch.Size([5]) eigenvectors shape torch.Size([5, 1024])\n",
      "354 /home/phdcs2/Hard_Disk/Datasets/Deep-Spectral-Segmentation/data/object-segmentation/ECSSD/features/0356_resized.pth\n",
      "dict_keys(['k', 'indices', 'file', 'id', 'model_name', 'patch_size', 'shape'])\n",
      "0356_resized\n"
     ]
    },
    {
     "name": "stderr",
     "output_type": "stream",
     "text": [
      "/home/phdcs2/Hard_Disk/Projects/T2I/deep-spectral-segmentation/venv/lib/python3.8/site-packages/sklearn/decomposition/_pca.py:642: RuntimeWarning: invalid value encountered in divide\n",
      "  self.explained_variance_ratio_ = self.explained_variance_ / total_var\n"
     ]
    },
    {
     "name": "stdout",
     "output_type": "stream",
     "text": [
      "Starting Training\n",
      "epoch: 00, loss: -0.89009\n",
      "epoch: 01, loss: -0.91132\n",
      "epoch: 02, loss: -0.91824\n",
      "epoch: 03, loss: -0.92299\n",
      "epoch: 04, loss: -0.92671\n",
      "epoch: 05, loss: -0.92951\n",
      "epoch: 06, loss: -0.93210\n",
      "epoch: 07, loss: -0.93423\n",
      "epoch: 08, loss: -0.93612\n",
      "epoch: 09, loss: -0.93776\n",
      "torch.Size([1024, 64])\n"
     ]
    },
    {
     "name": "stderr",
     "output_type": "stream",
     "text": [
      " 36%|███▌      | 355/999 [7:09:55<12:31:05, 69.98s/it]"
     ]
    },
    {
     "name": "stdout",
     "output_type": "stream",
     "text": [
      "eigenvalues shape torch.Size([5]) eigenvectors shape torch.Size([5, 1024])\n",
      "355 /home/phdcs2/Hard_Disk/Datasets/Deep-Spectral-Segmentation/data/object-segmentation/ECSSD/features/0357_resized.pth\n",
      "dict_keys(['k', 'indices', 'file', 'id', 'model_name', 'patch_size', 'shape'])\n",
      "0357_resized\n",
      "Starting Training\n",
      "epoch: 00, loss: -0.83209\n",
      "epoch: 01, loss: -0.87685\n",
      "epoch: 02, loss: -0.89288\n",
      "epoch: 03, loss: -0.90291\n",
      "epoch: 04, loss: -0.90978\n",
      "epoch: 05, loss: -0.91538\n",
      "epoch: 06, loss: -0.91974\n",
      "epoch: 07, loss: -0.92331\n",
      "epoch: 08, loss: -0.92642\n",
      "epoch: 09, loss: -0.92897\n",
      "torch.Size([1024, 64])\n"
     ]
    },
    {
     "name": "stderr",
     "output_type": "stream",
     "text": [
      " 36%|███▌      | 356/999 [7:11:05<12:31:18, 70.11s/it]"
     ]
    },
    {
     "name": "stdout",
     "output_type": "stream",
     "text": [
      "eigenvalues shape torch.Size([5]) eigenvectors shape torch.Size([5, 1024])\n",
      "356 /home/phdcs2/Hard_Disk/Datasets/Deep-Spectral-Segmentation/data/object-segmentation/ECSSD/features/0358_resized.pth\n",
      "dict_keys(['k', 'indices', 'file', 'id', 'model_name', 'patch_size', 'shape'])\n",
      "0358_resized\n",
      "Starting Training\n",
      "epoch: 00, loss: -0.86996\n",
      "epoch: 01, loss: -0.90072\n",
      "epoch: 02, loss: -0.91057\n",
      "epoch: 03, loss: -0.91712\n",
      "epoch: 04, loss: -0.92185\n",
      "epoch: 05, loss: -0.92575\n",
      "epoch: 06, loss: -0.92892\n",
      "epoch: 07, loss: -0.93178\n",
      "epoch: 08, loss: -0.93407\n",
      "epoch: 09, loss: -0.93620\n",
      "torch.Size([1024, 64])\n"
     ]
    },
    {
     "name": "stderr",
     "output_type": "stream",
     "text": [
      " 36%|███▌      | 357/999 [7:12:19<12:42:35, 71.27s/it]"
     ]
    },
    {
     "name": "stdout",
     "output_type": "stream",
     "text": [
      "eigenvalues shape torch.Size([5]) eigenvectors shape torch.Size([5, 1024])\n",
      "357 /home/phdcs2/Hard_Disk/Datasets/Deep-Spectral-Segmentation/data/object-segmentation/ECSSD/features/0359_resized.pth\n",
      "dict_keys(['k', 'indices', 'file', 'id', 'model_name', 'patch_size', 'shape'])\n",
      "0359_resized\n",
      "Starting Training\n",
      "epoch: 00, loss: -0.89131\n",
      "epoch: 01, loss: -0.91708\n",
      "epoch: 02, loss: -0.92407\n",
      "epoch: 03, loss: -0.92877\n",
      "epoch: 04, loss: -0.93220\n",
      "epoch: 05, loss: -0.93499\n",
      "epoch: 06, loss: -0.93728\n",
      "epoch: 07, loss: -0.93926\n",
      "epoch: 08, loss: -0.94087\n",
      "epoch: 09, loss: -0.94230\n",
      "torch.Size([1024, 64])\n"
     ]
    },
    {
     "name": "stderr",
     "output_type": "stream",
     "text": [
      " 36%|███▌      | 358/999 [7:13:26<12:26:27, 69.87s/it]"
     ]
    },
    {
     "name": "stdout",
     "output_type": "stream",
     "text": [
      "eigenvalues shape torch.Size([5]) eigenvectors shape torch.Size([5, 1024])\n",
      "358 /home/phdcs2/Hard_Disk/Datasets/Deep-Spectral-Segmentation/data/object-segmentation/ECSSD/features/0360_resized.pth\n",
      "dict_keys(['k', 'indices', 'file', 'id', 'model_name', 'patch_size', 'shape'])\n",
      "0360_resized\n",
      "Starting Training\n",
      "epoch: 00, loss: -0.83899\n",
      "epoch: 01, loss: -0.86936\n",
      "epoch: 02, loss: -0.88016\n",
      "epoch: 03, loss: -0.88732\n",
      "epoch: 04, loss: -0.89289\n",
      "epoch: 05, loss: -0.89710\n",
      "epoch: 06, loss: -0.90088\n",
      "epoch: 07, loss: -0.90412\n",
      "epoch: 08, loss: -0.90707\n",
      "epoch: 09, loss: -0.90946\n",
      "torch.Size([1024, 64])\n"
     ]
    },
    {
     "name": "stderr",
     "output_type": "stream",
     "text": [
      " 36%|███▌      | 359/999 [7:14:34<12:21:24, 69.51s/it]"
     ]
    },
    {
     "name": "stdout",
     "output_type": "stream",
     "text": [
      "eigenvalues shape torch.Size([5]) eigenvectors shape torch.Size([5, 1024])\n",
      "359 /home/phdcs2/Hard_Disk/Datasets/Deep-Spectral-Segmentation/data/object-segmentation/ECSSD/features/0361_resized.pth\n",
      "dict_keys(['k', 'indices', 'file', 'id', 'model_name', 'patch_size', 'shape'])\n",
      "0361_resized\n",
      "Starting Training\n",
      "epoch: 00, loss: -0.80628\n",
      "epoch: 01, loss: -0.84505\n",
      "epoch: 02, loss: -0.86002\n",
      "epoch: 03, loss: -0.87077\n",
      "epoch: 04, loss: -0.87904\n",
      "epoch: 05, loss: -0.88555\n",
      "epoch: 06, loss: -0.89092\n",
      "epoch: 07, loss: -0.89584\n",
      "epoch: 08, loss: -0.89996\n",
      "epoch: 09, loss: -0.90343\n",
      "torch.Size([1024, 64])\n"
     ]
    },
    {
     "name": "stderr",
     "output_type": "stream",
     "text": [
      " 36%|███▌      | 360/999 [7:15:41<12:10:45, 68.62s/it]"
     ]
    },
    {
     "name": "stdout",
     "output_type": "stream",
     "text": [
      "eigenvalues shape torch.Size([5]) eigenvectors shape torch.Size([5, 1024])\n",
      "360 /home/phdcs2/Hard_Disk/Datasets/Deep-Spectral-Segmentation/data/object-segmentation/ECSSD/features/0362_resized.pth\n",
      "dict_keys(['k', 'indices', 'file', 'id', 'model_name', 'patch_size', 'shape'])\n",
      "0362_resized\n",
      "Starting Training\n",
      "epoch: 00, loss: -0.77167\n",
      "epoch: 01, loss: -0.82111\n",
      "epoch: 02, loss: -0.83944\n",
      "epoch: 03, loss: -0.85205\n",
      "epoch: 04, loss: -0.86094\n",
      "epoch: 05, loss: -0.86837\n",
      "epoch: 06, loss: -0.87452\n",
      "epoch: 07, loss: -0.88039\n",
      "epoch: 08, loss: -0.88477\n",
      "epoch: 09, loss: -0.88860\n",
      "torch.Size([1024, 64])\n"
     ]
    },
    {
     "name": "stderr",
     "output_type": "stream",
     "text": [
      " 36%|███▌      | 361/999 [7:16:42<11:47:27, 66.53s/it]"
     ]
    },
    {
     "name": "stdout",
     "output_type": "stream",
     "text": [
      "eigenvalues shape torch.Size([5]) eigenvectors shape torch.Size([5, 1024])\n",
      "361 /home/phdcs2/Hard_Disk/Datasets/Deep-Spectral-Segmentation/data/object-segmentation/ECSSD/features/0363_resized.pth\n",
      "dict_keys(['k', 'indices', 'file', 'id', 'model_name', 'patch_size', 'shape'])\n",
      "0363_resized\n",
      "Starting Training\n",
      "epoch: 00, loss: -0.85141\n",
      "epoch: 01, loss: -0.88525\n",
      "epoch: 02, loss: -0.89677\n",
      "epoch: 03, loss: -0.90436\n",
      "epoch: 04, loss: -0.91022\n",
      "epoch: 05, loss: -0.91500\n",
      "epoch: 06, loss: -0.91870\n",
      "epoch: 07, loss: -0.92176\n",
      "epoch: 08, loss: -0.92467\n",
      "epoch: 09, loss: -0.92716\n",
      "torch.Size([1024, 64])\n"
     ]
    },
    {
     "name": "stderr",
     "output_type": "stream",
     "text": [
      " 36%|███▌      | 362/999 [7:17:51<11:54:22, 67.29s/it]"
     ]
    },
    {
     "name": "stdout",
     "output_type": "stream",
     "text": [
      "eigenvalues shape torch.Size([5]) eigenvectors shape torch.Size([5, 1024])\n",
      "362 /home/phdcs2/Hard_Disk/Datasets/Deep-Spectral-Segmentation/data/object-segmentation/ECSSD/features/0364_resized.pth\n",
      "dict_keys(['k', 'indices', 'file', 'id', 'model_name', 'patch_size', 'shape'])\n",
      "0364_resized\n",
      "Starting Training\n",
      "epoch: 00, loss: -0.82710\n",
      "epoch: 01, loss: -0.86339\n",
      "epoch: 02, loss: -0.87779\n",
      "epoch: 03, loss: -0.88742\n",
      "epoch: 04, loss: -0.89448\n",
      "epoch: 05, loss: -0.89974\n",
      "epoch: 06, loss: -0.90427\n",
      "epoch: 07, loss: -0.90822\n",
      "epoch: 08, loss: -0.91128\n",
      "epoch: 09, loss: -0.91415\n",
      "torch.Size([1024, 64])\n"
     ]
    },
    {
     "name": "stderr",
     "output_type": "stream",
     "text": [
      " 36%|███▋      | 363/999 [7:18:57<11:49:00, 66.89s/it]"
     ]
    },
    {
     "name": "stdout",
     "output_type": "stream",
     "text": [
      "eigenvalues shape torch.Size([5]) eigenvectors shape torch.Size([5, 1024])\n",
      "363 /home/phdcs2/Hard_Disk/Datasets/Deep-Spectral-Segmentation/data/object-segmentation/ECSSD/features/0365_resized.pth\n",
      "dict_keys(['k', 'indices', 'file', 'id', 'model_name', 'patch_size', 'shape'])\n",
      "0365_resized\n",
      "Starting Training\n",
      "epoch: 00, loss: -0.82262\n",
      "epoch: 01, loss: -0.85823\n",
      "epoch: 02, loss: -0.87071\n",
      "epoch: 03, loss: -0.87918\n",
      "epoch: 04, loss: -0.88513\n",
      "epoch: 05, loss: -0.89036\n",
      "epoch: 06, loss: -0.89459\n",
      "epoch: 07, loss: -0.89800\n",
      "epoch: 08, loss: -0.90132\n",
      "epoch: 09, loss: -0.90379\n",
      "torch.Size([1024, 64])\n"
     ]
    },
    {
     "name": "stderr",
     "output_type": "stream",
     "text": [
      " 36%|███▋      | 364/999 [7:20:02<11:40:25, 66.18s/it]"
     ]
    },
    {
     "name": "stdout",
     "output_type": "stream",
     "text": [
      "eigenvalues shape torch.Size([5]) eigenvectors shape torch.Size([5, 1024])\n",
      "364 /home/phdcs2/Hard_Disk/Datasets/Deep-Spectral-Segmentation/data/object-segmentation/ECSSD/features/0366_resized.pth\n",
      "dict_keys(['k', 'indices', 'file', 'id', 'model_name', 'patch_size', 'shape'])\n",
      "0366_resized\n",
      "Starting Training\n",
      "epoch: 00, loss: -0.80105\n",
      "epoch: 01, loss: -0.84441\n",
      "epoch: 02, loss: -0.85935\n",
      "epoch: 03, loss: -0.86979\n",
      "epoch: 04, loss: -0.87740\n",
      "epoch: 05, loss: -0.88332\n",
      "epoch: 06, loss: -0.88844\n",
      "epoch: 07, loss: -0.89261\n",
      "epoch: 08, loss: -0.89638\n",
      "epoch: 09, loss: -0.89960\n",
      "torch.Size([1024, 64])\n"
     ]
    },
    {
     "name": "stderr",
     "output_type": "stream",
     "text": [
      " 37%|███▋      | 365/999 [7:21:08<11:39:29, 66.20s/it]"
     ]
    },
    {
     "name": "stdout",
     "output_type": "stream",
     "text": [
      "eigenvalues shape torch.Size([5]) eigenvectors shape torch.Size([5, 1024])\n",
      "365 /home/phdcs2/Hard_Disk/Datasets/Deep-Spectral-Segmentation/data/object-segmentation/ECSSD/features/0367_resized.pth\n",
      "dict_keys(['k', 'indices', 'file', 'id', 'model_name', 'patch_size', 'shape'])\n",
      "0367_resized\n"
     ]
    },
    {
     "name": "stderr",
     "output_type": "stream",
     "text": [
      "/home/phdcs2/Hard_Disk/Projects/T2I/deep-spectral-segmentation/venv/lib/python3.8/site-packages/sklearn/decomposition/_pca.py:642: RuntimeWarning: invalid value encountered in divide\n",
      "  self.explained_variance_ratio_ = self.explained_variance_ / total_var\n"
     ]
    },
    {
     "name": "stdout",
     "output_type": "stream",
     "text": [
      "Starting Training\n",
      "epoch: 00, loss: -0.89034\n",
      "epoch: 01, loss: -0.91450\n",
      "epoch: 02, loss: -0.92239\n",
      "epoch: 03, loss: -0.92763\n",
      "epoch: 04, loss: -0.93153\n",
      "epoch: 05, loss: -0.93478\n",
      "epoch: 06, loss: -0.93743\n",
      "epoch: 07, loss: -0.93968\n",
      "epoch: 08, loss: -0.94160\n",
      "epoch: 09, loss: -0.94332\n",
      "torch.Size([1024, 64])\n"
     ]
    },
    {
     "name": "stderr",
     "output_type": "stream",
     "text": [
      " 37%|███▋      | 366/999 [7:22:18<11:49:07, 67.22s/it]"
     ]
    },
    {
     "name": "stdout",
     "output_type": "stream",
     "text": [
      "eigenvalues shape torch.Size([5]) eigenvectors shape torch.Size([5, 1024])\n",
      "366 /home/phdcs2/Hard_Disk/Datasets/Deep-Spectral-Segmentation/data/object-segmentation/ECSSD/features/0368_resized.pth\n",
      "dict_keys(['k', 'indices', 'file', 'id', 'model_name', 'patch_size', 'shape'])\n",
      "0368_resized\n",
      "Starting Training\n",
      "epoch: 00, loss: -0.89844\n",
      "epoch: 01, loss: -0.92530\n",
      "epoch: 02, loss: -0.93217\n",
      "epoch: 03, loss: -0.93656\n",
      "epoch: 04, loss: -0.93978\n",
      "epoch: 05, loss: -0.94230\n",
      "epoch: 06, loss: -0.94442\n",
      "epoch: 07, loss: -0.94613\n",
      "epoch: 08, loss: -0.94763\n",
      "epoch: 09, loss: -0.94895\n",
      "torch.Size([1024, 64])\n"
     ]
    },
    {
     "name": "stderr",
     "output_type": "stream",
     "text": [
      " 37%|███▋      | 367/999 [7:23:28<11:56:24, 68.01s/it]"
     ]
    },
    {
     "name": "stdout",
     "output_type": "stream",
     "text": [
      "eigenvalues shape torch.Size([5]) eigenvectors shape torch.Size([5, 1024])\n",
      "367 /home/phdcs2/Hard_Disk/Datasets/Deep-Spectral-Segmentation/data/object-segmentation/ECSSD/features/0369_resized.pth\n",
      "dict_keys(['k', 'indices', 'file', 'id', 'model_name', 'patch_size', 'shape'])\n",
      "0369_resized\n"
     ]
    },
    {
     "name": "stderr",
     "output_type": "stream",
     "text": [
      "/home/phdcs2/Hard_Disk/Projects/T2I/deep-spectral-segmentation/venv/lib/python3.8/site-packages/sklearn/decomposition/_pca.py:642: RuntimeWarning: invalid value encountered in divide\n",
      "  self.explained_variance_ratio_ = self.explained_variance_ / total_var\n"
     ]
    },
    {
     "name": "stdout",
     "output_type": "stream",
     "text": [
      "Starting Training\n",
      "epoch: 00, loss: -0.89900\n",
      "epoch: 01, loss: -0.92426\n",
      "epoch: 02, loss: -0.93076\n",
      "epoch: 03, loss: -0.93510\n",
      "epoch: 04, loss: -0.93815\n",
      "epoch: 05, loss: -0.94067\n",
      "epoch: 06, loss: -0.94270\n",
      "epoch: 07, loss: -0.94446\n",
      "epoch: 08, loss: -0.94598\n",
      "epoch: 09, loss: -0.94732\n",
      "torch.Size([1024, 64])\n"
     ]
    },
    {
     "name": "stderr",
     "output_type": "stream",
     "text": [
      " 37%|███▋      | 368/999 [7:24:33<11:46:57, 67.22s/it]"
     ]
    },
    {
     "name": "stdout",
     "output_type": "stream",
     "text": [
      "eigenvalues shape torch.Size([5]) eigenvectors shape torch.Size([5, 1024])\n",
      "368 /home/phdcs2/Hard_Disk/Datasets/Deep-Spectral-Segmentation/data/object-segmentation/ECSSD/features/0370_resized.pth\n",
      "dict_keys(['k', 'indices', 'file', 'id', 'model_name', 'patch_size', 'shape'])\n",
      "0370_resized\n"
     ]
    },
    {
     "name": "stderr",
     "output_type": "stream",
     "text": [
      "/home/phdcs2/Hard_Disk/Projects/T2I/deep-spectral-segmentation/venv/lib/python3.8/site-packages/sklearn/decomposition/_pca.py:642: RuntimeWarning: invalid value encountered in divide\n",
      "  self.explained_variance_ratio_ = self.explained_variance_ / total_var\n"
     ]
    },
    {
     "name": "stdout",
     "output_type": "stream",
     "text": [
      "Starting Training\n",
      "epoch: 00, loss: -0.90527\n",
      "epoch: 01, loss: -0.92909\n",
      "epoch: 02, loss: -0.93563\n",
      "epoch: 03, loss: -0.93997\n",
      "epoch: 04, loss: -0.94310\n",
      "epoch: 05, loss: -0.94548\n",
      "epoch: 06, loss: -0.94749\n",
      "epoch: 07, loss: -0.94918\n",
      "epoch: 08, loss: -0.95069\n",
      "epoch: 09, loss: -0.95195\n",
      "torch.Size([1024, 64])\n"
     ]
    },
    {
     "name": "stderr",
     "output_type": "stream",
     "text": [
      " 37%|███▋      | 369/999 [7:25:39<11:42:45, 66.93s/it]"
     ]
    },
    {
     "name": "stdout",
     "output_type": "stream",
     "text": [
      "eigenvalues shape torch.Size([5]) eigenvectors shape torch.Size([5, 1024])\n",
      "369 /home/phdcs2/Hard_Disk/Datasets/Deep-Spectral-Segmentation/data/object-segmentation/ECSSD/features/0371_resized.pth\n",
      "dict_keys(['k', 'indices', 'file', 'id', 'model_name', 'patch_size', 'shape'])\n",
      "0371_resized\n",
      "Starting Training\n",
      "epoch: 00, loss: -0.83829\n",
      "epoch: 01, loss: -0.87389\n",
      "epoch: 02, loss: -0.88637\n",
      "epoch: 03, loss: -0.89433\n",
      "epoch: 04, loss: -0.90027\n",
      "epoch: 05, loss: -0.90507\n",
      "epoch: 06, loss: -0.90892\n",
      "epoch: 07, loss: -0.91213\n",
      "epoch: 08, loss: -0.91519\n",
      "epoch: 09, loss: -0.91756\n",
      "torch.Size([1024, 64])\n"
     ]
    },
    {
     "name": "stderr",
     "output_type": "stream",
     "text": [
      " 37%|███▋      | 370/999 [7:26:54<12:07:07, 69.36s/it]"
     ]
    },
    {
     "name": "stdout",
     "output_type": "stream",
     "text": [
      "eigenvalues shape torch.Size([5]) eigenvectors shape torch.Size([5, 1024])\n",
      "370 /home/phdcs2/Hard_Disk/Datasets/Deep-Spectral-Segmentation/data/object-segmentation/ECSSD/features/0372_resized.pth\n",
      "dict_keys(['k', 'indices', 'file', 'id', 'model_name', 'patch_size', 'shape'])\n",
      "0372_resized\n"
     ]
    },
    {
     "name": "stderr",
     "output_type": "stream",
     "text": [
      "/home/phdcs2/Hard_Disk/Projects/T2I/deep-spectral-segmentation/venv/lib/python3.8/site-packages/sklearn/decomposition/_pca.py:642: RuntimeWarning: invalid value encountered in divide\n",
      "  self.explained_variance_ratio_ = self.explained_variance_ / total_var\n"
     ]
    },
    {
     "name": "stdout",
     "output_type": "stream",
     "text": [
      "Starting Training\n",
      "epoch: 00, loss: -0.89781\n",
      "epoch: 01, loss: -0.92126\n",
      "epoch: 02, loss: -0.92853\n",
      "epoch: 03, loss: -0.93342\n",
      "epoch: 04, loss: -0.93700\n",
      "epoch: 05, loss: -0.93987\n",
      "epoch: 06, loss: -0.94226\n",
      "epoch: 07, loss: -0.94427\n",
      "epoch: 08, loss: -0.94597\n",
      "epoch: 09, loss: -0.94754\n",
      "torch.Size([1024, 64])\n"
     ]
    },
    {
     "name": "stderr",
     "output_type": "stream",
     "text": [
      " 37%|███▋      | 371/999 [7:28:10<12:26:15, 71.30s/it]"
     ]
    },
    {
     "name": "stdout",
     "output_type": "stream",
     "text": [
      "eigenvalues shape torch.Size([5]) eigenvectors shape torch.Size([5, 1024])\n",
      "371 /home/phdcs2/Hard_Disk/Datasets/Deep-Spectral-Segmentation/data/object-segmentation/ECSSD/features/0373_resized.pth\n",
      "dict_keys(['k', 'indices', 'file', 'id', 'model_name', 'patch_size', 'shape'])\n",
      "0373_resized\n",
      "Starting Training\n",
      "epoch: 00, loss: -0.80995\n",
      "epoch: 01, loss: -0.85147\n",
      "epoch: 02, loss: -0.86712\n",
      "epoch: 03, loss: -0.87725\n",
      "epoch: 04, loss: -0.88512\n",
      "epoch: 05, loss: -0.89142\n",
      "epoch: 06, loss: -0.89664\n",
      "epoch: 07, loss: -0.90087\n",
      "epoch: 08, loss: -0.90469\n",
      "epoch: 09, loss: -0.90801\n",
      "torch.Size([1024, 64])\n"
     ]
    },
    {
     "name": "stderr",
     "output_type": "stream",
     "text": [
      " 37%|███▋      | 372/999 [7:29:18<12:14:22, 70.28s/it]"
     ]
    },
    {
     "name": "stdout",
     "output_type": "stream",
     "text": [
      "eigenvalues shape torch.Size([5]) eigenvectors shape torch.Size([5, 1024])\n",
      "372 /home/phdcs2/Hard_Disk/Datasets/Deep-Spectral-Segmentation/data/object-segmentation/ECSSD/features/0374_resized.pth\n",
      "dict_keys(['k', 'indices', 'file', 'id', 'model_name', 'patch_size', 'shape'])\n",
      "0374_resized\n"
     ]
    },
    {
     "name": "stderr",
     "output_type": "stream",
     "text": [
      "/home/phdcs2/Hard_Disk/Projects/T2I/deep-spectral-segmentation/venv/lib/python3.8/site-packages/sklearn/decomposition/_pca.py:642: RuntimeWarning: invalid value encountered in divide\n",
      "  self.explained_variance_ratio_ = self.explained_variance_ / total_var\n"
     ]
    },
    {
     "name": "stdout",
     "output_type": "stream",
     "text": [
      "Starting Training\n",
      "epoch: 00, loss: -0.91001\n",
      "epoch: 01, loss: -0.93459\n",
      "epoch: 02, loss: -0.94038\n",
      "epoch: 03, loss: -0.94418\n",
      "epoch: 04, loss: -0.94698\n",
      "epoch: 05, loss: -0.94921\n",
      "epoch: 06, loss: -0.95106\n",
      "epoch: 07, loss: -0.95260\n",
      "epoch: 08, loss: -0.95400\n",
      "epoch: 09, loss: -0.95518\n",
      "torch.Size([1024, 64])\n"
     ]
    },
    {
     "name": "stderr",
     "output_type": "stream",
     "text": [
      " 37%|███▋      | 373/999 [7:30:24<11:59:37, 68.97s/it]"
     ]
    },
    {
     "name": "stdout",
     "output_type": "stream",
     "text": [
      "eigenvalues shape torch.Size([5]) eigenvectors shape torch.Size([5, 1024])\n",
      "373 /home/phdcs2/Hard_Disk/Datasets/Deep-Spectral-Segmentation/data/object-segmentation/ECSSD/features/0375_resized.pth\n",
      "dict_keys(['k', 'indices', 'file', 'id', 'model_name', 'patch_size', 'shape'])\n",
      "0375_resized\n",
      "Starting Training\n",
      "epoch: 00, loss: -0.84362\n",
      "epoch: 01, loss: -0.87806\n",
      "epoch: 02, loss: -0.88840\n",
      "epoch: 03, loss: -0.89510\n",
      "epoch: 04, loss: -0.90061\n",
      "epoch: 05, loss: -0.90494\n",
      "epoch: 06, loss: -0.90820\n",
      "epoch: 07, loss: -0.91132\n",
      "epoch: 08, loss: -0.91387\n",
      "epoch: 09, loss: -0.91620\n",
      "torch.Size([1024, 64])\n"
     ]
    },
    {
     "name": "stderr",
     "output_type": "stream",
     "text": [
      " 37%|███▋      | 374/999 [7:31:29<11:45:41, 67.75s/it]"
     ]
    },
    {
     "name": "stdout",
     "output_type": "stream",
     "text": [
      "eigenvalues shape torch.Size([5]) eigenvectors shape torch.Size([5, 1024])\n",
      "374 /home/phdcs2/Hard_Disk/Datasets/Deep-Spectral-Segmentation/data/object-segmentation/ECSSD/features/0376_resized.pth\n",
      "dict_keys(['k', 'indices', 'file', 'id', 'model_name', 'patch_size', 'shape'])\n",
      "0376_resized\n"
     ]
    },
    {
     "name": "stderr",
     "output_type": "stream",
     "text": [
      "/home/phdcs2/Hard_Disk/Projects/T2I/deep-spectral-segmentation/venv/lib/python3.8/site-packages/sklearn/decomposition/_pca.py:642: RuntimeWarning: invalid value encountered in divide\n",
      "  self.explained_variance_ratio_ = self.explained_variance_ / total_var\n"
     ]
    },
    {
     "name": "stdout",
     "output_type": "stream",
     "text": [
      "Starting Training\n",
      "epoch: 00, loss: -0.90569\n",
      "epoch: 01, loss: -0.92898\n",
      "epoch: 02, loss: -0.93546\n",
      "epoch: 03, loss: -0.93970\n",
      "epoch: 04, loss: -0.94293\n",
      "epoch: 05, loss: -0.94543\n",
      "epoch: 06, loss: -0.94752\n",
      "epoch: 07, loss: -0.94927\n",
      "epoch: 08, loss: -0.95079\n",
      "epoch: 09, loss: -0.95211\n",
      "torch.Size([1024, 64])\n"
     ]
    },
    {
     "name": "stderr",
     "output_type": "stream",
     "text": [
      " 38%|███▊      | 375/999 [7:32:39<11:51:39, 68.43s/it]"
     ]
    },
    {
     "name": "stdout",
     "output_type": "stream",
     "text": [
      "eigenvalues shape torch.Size([5]) eigenvectors shape torch.Size([5, 1024])\n",
      "375 /home/phdcs2/Hard_Disk/Datasets/Deep-Spectral-Segmentation/data/object-segmentation/ECSSD/features/0377_resized.pth\n",
      "dict_keys(['k', 'indices', 'file', 'id', 'model_name', 'patch_size', 'shape'])\n",
      "0377_resized\n"
     ]
    },
    {
     "name": "stderr",
     "output_type": "stream",
     "text": [
      "/home/phdcs2/Hard_Disk/Projects/T2I/deep-spectral-segmentation/venv/lib/python3.8/site-packages/sklearn/decomposition/_pca.py:642: RuntimeWarning: invalid value encountered in divide\n",
      "  self.explained_variance_ratio_ = self.explained_variance_ / total_var\n"
     ]
    },
    {
     "name": "stdout",
     "output_type": "stream",
     "text": [
      "Starting Training\n",
      "epoch: 00, loss: -0.90687\n",
      "epoch: 01, loss: -0.93113\n",
      "epoch: 02, loss: -0.93747\n",
      "epoch: 03, loss: -0.94160\n",
      "epoch: 04, loss: -0.94462\n",
      "epoch: 05, loss: -0.94701\n",
      "epoch: 06, loss: -0.94898\n",
      "epoch: 07, loss: -0.95065\n",
      "epoch: 08, loss: -0.95208\n",
      "epoch: 09, loss: -0.95331\n",
      "torch.Size([1024, 64])\n"
     ]
    },
    {
     "name": "stderr",
     "output_type": "stream",
     "text": [
      " 38%|███▊      | 376/999 [7:33:44<11:39:32, 67.37s/it]"
     ]
    },
    {
     "name": "stdout",
     "output_type": "stream",
     "text": [
      "eigenvalues shape torch.Size([5]) eigenvectors shape torch.Size([5, 1024])\n",
      "376 /home/phdcs2/Hard_Disk/Datasets/Deep-Spectral-Segmentation/data/object-segmentation/ECSSD/features/0378_resized.pth\n",
      "dict_keys(['k', 'indices', 'file', 'id', 'model_name', 'patch_size', 'shape'])\n",
      "0378_resized\n",
      "Starting Training\n",
      "epoch: 00, loss: -0.88711\n",
      "epoch: 01, loss: -0.90885\n",
      "epoch: 02, loss: -0.91528\n",
      "epoch: 03, loss: -0.91973\n",
      "epoch: 04, loss: -0.92307\n",
      "epoch: 05, loss: -0.92586\n",
      "epoch: 06, loss: -0.92825\n",
      "epoch: 07, loss: -0.93022\n",
      "epoch: 08, loss: -0.93200\n",
      "epoch: 09, loss: -0.93352\n",
      "torch.Size([1024, 64])\n"
     ]
    },
    {
     "name": "stderr",
     "output_type": "stream",
     "text": [
      " 38%|███▊      | 377/999 [7:34:51<11:39:23, 67.47s/it]"
     ]
    },
    {
     "name": "stdout",
     "output_type": "stream",
     "text": [
      "eigenvalues shape torch.Size([5]) eigenvectors shape torch.Size([5, 1024])\n",
      "377 /home/phdcs2/Hard_Disk/Datasets/Deep-Spectral-Segmentation/data/object-segmentation/ECSSD/features/0379_resized.pth\n",
      "dict_keys(['k', 'indices', 'file', 'id', 'model_name', 'patch_size', 'shape'])\n",
      "0379_resized\n",
      "Starting Training\n",
      "epoch: 00, loss: -0.84574\n",
      "epoch: 01, loss: -0.88130\n",
      "epoch: 02, loss: -0.89338\n",
      "epoch: 03, loss: -0.90117\n",
      "epoch: 04, loss: -0.90700\n",
      "epoch: 05, loss: -0.91143\n",
      "epoch: 06, loss: -0.91528\n",
      "epoch: 07, loss: -0.91859\n",
      "epoch: 08, loss: -0.92131\n",
      "epoch: 09, loss: -0.92391\n",
      "torch.Size([1024, 64])\n"
     ]
    },
    {
     "name": "stderr",
     "output_type": "stream",
     "text": [
      " 38%|███▊      | 378/999 [7:36:05<11:57:52, 69.36s/it]"
     ]
    },
    {
     "name": "stdout",
     "output_type": "stream",
     "text": [
      "eigenvalues shape torch.Size([5]) eigenvectors shape torch.Size([5, 1024])\n",
      "378 /home/phdcs2/Hard_Disk/Datasets/Deep-Spectral-Segmentation/data/object-segmentation/ECSSD/features/0380_resized.pth\n",
      "dict_keys(['k', 'indices', 'file', 'id', 'model_name', 'patch_size', 'shape'])\n",
      "0380_resized\n"
     ]
    },
    {
     "name": "stderr",
     "output_type": "stream",
     "text": [
      "/home/phdcs2/Hard_Disk/Projects/T2I/deep-spectral-segmentation/venv/lib/python3.8/site-packages/sklearn/decomposition/_pca.py:642: RuntimeWarning: invalid value encountered in divide\n",
      "  self.explained_variance_ratio_ = self.explained_variance_ / total_var\n"
     ]
    },
    {
     "name": "stdout",
     "output_type": "stream",
     "text": [
      "Starting Training\n",
      "epoch: 00, loss: -0.89427\n",
      "epoch: 01, loss: -0.91562\n",
      "epoch: 02, loss: -0.92186\n",
      "epoch: 03, loss: -0.92621\n",
      "epoch: 04, loss: -0.92948\n",
      "epoch: 05, loss: -0.93209\n",
      "epoch: 06, loss: -0.93445\n",
      "epoch: 07, loss: -0.93635\n",
      "epoch: 08, loss: -0.93807\n",
      "epoch: 09, loss: -0.93960\n",
      "torch.Size([1024, 64])\n"
     ]
    },
    {
     "name": "stderr",
     "output_type": "stream",
     "text": [
      " 38%|███▊      | 379/999 [7:37:08<11:34:51, 67.24s/it]"
     ]
    },
    {
     "name": "stdout",
     "output_type": "stream",
     "text": [
      "eigenvalues shape torch.Size([5]) eigenvectors shape torch.Size([5, 1024])\n",
      "379 /home/phdcs2/Hard_Disk/Datasets/Deep-Spectral-Segmentation/data/object-segmentation/ECSSD/features/0381_resized.pth\n",
      "dict_keys(['k', 'indices', 'file', 'id', 'model_name', 'patch_size', 'shape'])\n",
      "0381_resized\n",
      "Starting Training\n",
      "epoch: 00, loss: -0.79749\n",
      "epoch: 01, loss: -0.84342\n",
      "epoch: 02, loss: -0.86052\n",
      "epoch: 03, loss: -0.87226\n",
      "epoch: 04, loss: -0.88064\n",
      "epoch: 05, loss: -0.88700\n",
      "epoch: 06, loss: -0.89210\n",
      "epoch: 07, loss: -0.89672\n",
      "epoch: 08, loss: -0.90067\n",
      "epoch: 09, loss: -0.90427\n",
      "torch.Size([1024, 64])\n"
     ]
    },
    {
     "name": "stderr",
     "output_type": "stream",
     "text": [
      " 38%|███▊      | 380/999 [7:38:12<11:25:04, 66.40s/it]"
     ]
    },
    {
     "name": "stdout",
     "output_type": "stream",
     "text": [
      "eigenvalues shape torch.Size([5]) eigenvectors shape torch.Size([5, 1024])\n",
      "380 /home/phdcs2/Hard_Disk/Datasets/Deep-Spectral-Segmentation/data/object-segmentation/ECSSD/features/0382_resized.pth\n",
      "dict_keys(['k', 'indices', 'file', 'id', 'model_name', 'patch_size', 'shape'])\n",
      "0382_resized\n"
     ]
    },
    {
     "name": "stderr",
     "output_type": "stream",
     "text": [
      "/home/phdcs2/Hard_Disk/Projects/T2I/deep-spectral-segmentation/venv/lib/python3.8/site-packages/sklearn/decomposition/_pca.py:642: RuntimeWarning: invalid value encountered in divide\n",
      "  self.explained_variance_ratio_ = self.explained_variance_ / total_var\n"
     ]
    },
    {
     "name": "stdout",
     "output_type": "stream",
     "text": [
      "Starting Training\n",
      "epoch: 00, loss: -0.90081\n",
      "epoch: 01, loss: -0.92674\n",
      "epoch: 02, loss: -0.93423\n",
      "epoch: 03, loss: -0.93917\n",
      "epoch: 04, loss: -0.94273\n",
      "epoch: 05, loss: -0.94551\n",
      "epoch: 06, loss: -0.94774\n",
      "epoch: 07, loss: -0.94972\n",
      "epoch: 08, loss: -0.95133\n",
      "epoch: 09, loss: -0.95281\n",
      "torch.Size([1024, 64])\n"
     ]
    },
    {
     "name": "stderr",
     "output_type": "stream",
     "text": [
      " 38%|███▊      | 381/999 [7:39:13<11:07:13, 64.78s/it]"
     ]
    },
    {
     "name": "stdout",
     "output_type": "stream",
     "text": [
      "eigenvalues shape torch.Size([5]) eigenvectors shape torch.Size([5, 1024])\n",
      "381 /home/phdcs2/Hard_Disk/Datasets/Deep-Spectral-Segmentation/data/object-segmentation/ECSSD/features/0383_resized.pth\n",
      "dict_keys(['k', 'indices', 'file', 'id', 'model_name', 'patch_size', 'shape'])\n",
      "0383_resized\n"
     ]
    },
    {
     "name": "stderr",
     "output_type": "stream",
     "text": [
      "/home/phdcs2/Hard_Disk/Projects/T2I/deep-spectral-segmentation/venv/lib/python3.8/site-packages/sklearn/decomposition/_pca.py:642: RuntimeWarning: invalid value encountered in divide\n",
      "  self.explained_variance_ratio_ = self.explained_variance_ / total_var\n"
     ]
    },
    {
     "name": "stdout",
     "output_type": "stream",
     "text": [
      "Starting Training\n",
      "epoch: 00, loss: -0.89858\n",
      "epoch: 01, loss: -0.92503\n",
      "epoch: 02, loss: -0.93285\n",
      "epoch: 03, loss: -0.93808\n",
      "epoch: 04, loss: -0.94179\n",
      "epoch: 05, loss: -0.94483\n",
      "epoch: 06, loss: -0.94724\n",
      "epoch: 07, loss: -0.94927\n",
      "epoch: 08, loss: -0.95107\n",
      "epoch: 09, loss: -0.95263\n",
      "torch.Size([1024, 64])\n"
     ]
    },
    {
     "name": "stderr",
     "output_type": "stream",
     "text": [
      " 38%|███▊      | 382/999 [7:40:12<10:48:29, 63.06s/it]"
     ]
    },
    {
     "name": "stdout",
     "output_type": "stream",
     "text": [
      "eigenvalues shape torch.Size([5]) eigenvectors shape torch.Size([5, 1024])\n",
      "382 /home/phdcs2/Hard_Disk/Datasets/Deep-Spectral-Segmentation/data/object-segmentation/ECSSD/features/0384_resized.pth\n",
      "dict_keys(['k', 'indices', 'file', 'id', 'model_name', 'patch_size', 'shape'])\n",
      "0384_resized\n"
     ]
    },
    {
     "name": "stderr",
     "output_type": "stream",
     "text": [
      "/home/phdcs2/Hard_Disk/Projects/T2I/deep-spectral-segmentation/venv/lib/python3.8/site-packages/sklearn/decomposition/_pca.py:642: RuntimeWarning: invalid value encountered in divide\n",
      "  self.explained_variance_ratio_ = self.explained_variance_ / total_var\n"
     ]
    },
    {
     "name": "stdout",
     "output_type": "stream",
     "text": [
      "Starting Training\n",
      "epoch: 00, loss: -0.89824\n",
      "epoch: 01, loss: -0.92316\n",
      "epoch: 02, loss: -0.92993\n",
      "epoch: 03, loss: -0.93425\n",
      "epoch: 04, loss: -0.93750\n",
      "epoch: 05, loss: -0.94011\n",
      "epoch: 06, loss: -0.94223\n",
      "epoch: 07, loss: -0.94405\n",
      "epoch: 08, loss: -0.94561\n",
      "epoch: 09, loss: -0.94697\n",
      "torch.Size([1024, 64])\n"
     ]
    },
    {
     "name": "stderr",
     "output_type": "stream",
     "text": [
      " 38%|███▊      | 383/999 [7:41:08<10:26:54, 61.06s/it]"
     ]
    },
    {
     "name": "stdout",
     "output_type": "stream",
     "text": [
      "eigenvalues shape torch.Size([5]) eigenvectors shape torch.Size([5, 1024])\n",
      "383 /home/phdcs2/Hard_Disk/Datasets/Deep-Spectral-Segmentation/data/object-segmentation/ECSSD/features/0385_resized.pth\n",
      "dict_keys(['k', 'indices', 'file', 'id', 'model_name', 'patch_size', 'shape'])\n",
      "0385_resized\n",
      "Starting Training\n",
      "epoch: 00, loss: -0.83565\n",
      "epoch: 01, loss: -0.87106\n",
      "epoch: 02, loss: -0.88290\n",
      "epoch: 03, loss: -0.89079\n",
      "epoch: 04, loss: -0.89696\n",
      "epoch: 05, loss: -0.90194\n",
      "epoch: 06, loss: -0.90629\n",
      "epoch: 07, loss: -0.90968\n",
      "epoch: 08, loss: -0.91271\n",
      "epoch: 09, loss: -0.91530\n",
      "torch.Size([1024, 64])\n"
     ]
    },
    {
     "name": "stderr",
     "output_type": "stream",
     "text": [
      " 38%|███▊      | 384/999 [7:42:10<10:28:15, 61.29s/it]"
     ]
    },
    {
     "name": "stdout",
     "output_type": "stream",
     "text": [
      "eigenvalues shape torch.Size([5]) eigenvectors shape torch.Size([5, 1024])\n",
      "384 /home/phdcs2/Hard_Disk/Datasets/Deep-Spectral-Segmentation/data/object-segmentation/ECSSD/features/0386_resized.pth\n",
      "dict_keys(['k', 'indices', 'file', 'id', 'model_name', 'patch_size', 'shape'])\n",
      "0386_resized\n",
      "Starting Training\n",
      "epoch: 00, loss: -0.82368\n",
      "epoch: 01, loss: -0.86045\n",
      "epoch: 02, loss: -0.87369\n",
      "epoch: 03, loss: -0.88260\n",
      "epoch: 04, loss: -0.88944\n",
      "epoch: 05, loss: -0.89479\n",
      "epoch: 06, loss: -0.89920\n",
      "epoch: 07, loss: -0.90287\n",
      "epoch: 08, loss: -0.90616\n",
      "epoch: 09, loss: -0.90922\n",
      "torch.Size([1024, 64])\n"
     ]
    },
    {
     "name": "stderr",
     "output_type": "stream",
     "text": [
      " 39%|███▊      | 385/999 [7:43:18<10:47:35, 63.28s/it]"
     ]
    },
    {
     "name": "stdout",
     "output_type": "stream",
     "text": [
      "eigenvalues shape torch.Size([5]) eigenvectors shape torch.Size([5, 1024])\n",
      "385 /home/phdcs2/Hard_Disk/Datasets/Deep-Spectral-Segmentation/data/object-segmentation/ECSSD/features/0387_resized.pth\n",
      "dict_keys(['k', 'indices', 'file', 'id', 'model_name', 'patch_size', 'shape'])\n",
      "0387_resized\n",
      "Starting Training\n",
      "epoch: 00, loss: -0.80305\n",
      "epoch: 01, loss: -0.84827\n",
      "epoch: 02, loss: -0.86450\n",
      "epoch: 03, loss: -0.87512\n",
      "epoch: 04, loss: -0.88302\n",
      "epoch: 05, loss: -0.88947\n",
      "epoch: 06, loss: -0.89465\n",
      "epoch: 07, loss: -0.89871\n",
      "epoch: 08, loss: -0.90217\n",
      "epoch: 09, loss: -0.90545\n",
      "torch.Size([1024, 64])\n"
     ]
    },
    {
     "name": "stderr",
     "output_type": "stream",
     "text": [
      " 39%|███▊      | 386/999 [7:44:28<11:06:12, 65.21s/it]"
     ]
    },
    {
     "name": "stdout",
     "output_type": "stream",
     "text": [
      "eigenvalues shape torch.Size([5]) eigenvectors shape torch.Size([5, 1024])\n",
      "386 /home/phdcs2/Hard_Disk/Datasets/Deep-Spectral-Segmentation/data/object-segmentation/ECSSD/features/0388_resized.pth\n",
      "dict_keys(['k', 'indices', 'file', 'id', 'model_name', 'patch_size', 'shape'])\n",
      "0388_resized\n",
      "Starting Training\n",
      "epoch: 00, loss: -0.80068\n",
      "epoch: 01, loss: -0.84459\n",
      "epoch: 02, loss: -0.86044\n",
      "epoch: 03, loss: -0.87104\n",
      "epoch: 04, loss: -0.87874\n",
      "epoch: 05, loss: -0.88497\n",
      "epoch: 06, loss: -0.89019\n",
      "epoch: 07, loss: -0.89471\n",
      "epoch: 08, loss: -0.89845\n",
      "epoch: 09, loss: -0.90217\n",
      "torch.Size([1024, 64])\n"
     ]
    },
    {
     "name": "stderr",
     "output_type": "stream",
     "text": [
      " 39%|███▊      | 387/999 [7:45:31<11:00:06, 64.72s/it]"
     ]
    },
    {
     "name": "stdout",
     "output_type": "stream",
     "text": [
      "eigenvalues shape torch.Size([5]) eigenvectors shape torch.Size([5, 1024])\n",
      "387 /home/phdcs2/Hard_Disk/Datasets/Deep-Spectral-Segmentation/data/object-segmentation/ECSSD/features/0389_resized.pth\n",
      "dict_keys(['k', 'indices', 'file', 'id', 'model_name', 'patch_size', 'shape'])\n",
      "0389_resized\n"
     ]
    },
    {
     "name": "stderr",
     "output_type": "stream",
     "text": [
      "/home/phdcs2/Hard_Disk/Projects/T2I/deep-spectral-segmentation/venv/lib/python3.8/site-packages/sklearn/decomposition/_pca.py:642: RuntimeWarning: invalid value encountered in divide\n",
      "  self.explained_variance_ratio_ = self.explained_variance_ / total_var\n"
     ]
    },
    {
     "name": "stdout",
     "output_type": "stream",
     "text": [
      "Starting Training\n",
      "epoch: 00, loss: -0.92300\n",
      "epoch: 01, loss: -0.94364\n",
      "epoch: 02, loss: -0.94862\n",
      "epoch: 03, loss: -0.95186\n",
      "epoch: 04, loss: -0.95421\n",
      "epoch: 05, loss: -0.95610\n",
      "epoch: 06, loss: -0.95762\n",
      "epoch: 07, loss: -0.95890\n",
      "epoch: 08, loss: -0.96002\n",
      "epoch: 09, loss: -0.96104\n",
      "torch.Size([1024, 64])\n"
     ]
    },
    {
     "name": "stderr",
     "output_type": "stream",
     "text": [
      " 39%|███▉      | 388/999 [7:46:45<11:26:11, 67.38s/it]"
     ]
    },
    {
     "name": "stdout",
     "output_type": "stream",
     "text": [
      "eigenvalues shape torch.Size([5]) eigenvectors shape torch.Size([5, 1024])\n",
      "388 /home/phdcs2/Hard_Disk/Datasets/Deep-Spectral-Segmentation/data/object-segmentation/ECSSD/features/0390_resized.pth\n",
      "dict_keys(['k', 'indices', 'file', 'id', 'model_name', 'patch_size', 'shape'])\n",
      "0390_resized\n"
     ]
    },
    {
     "name": "stderr",
     "output_type": "stream",
     "text": [
      "/home/phdcs2/Hard_Disk/Projects/T2I/deep-spectral-segmentation/venv/lib/python3.8/site-packages/sklearn/decomposition/_pca.py:642: RuntimeWarning: invalid value encountered in divide\n",
      "  self.explained_variance_ratio_ = self.explained_variance_ / total_var\n"
     ]
    },
    {
     "name": "stdout",
     "output_type": "stream",
     "text": [
      "Starting Training\n",
      "epoch: 00, loss: -0.90773\n",
      "epoch: 01, loss: -0.93060\n",
      "epoch: 02, loss: -0.93622\n",
      "epoch: 03, loss: -0.93994\n",
      "epoch: 04, loss: -0.94264\n",
      "epoch: 05, loss: -0.94472\n",
      "epoch: 06, loss: -0.94650\n",
      "epoch: 07, loss: -0.94803\n",
      "epoch: 08, loss: -0.94933\n",
      "epoch: 09, loss: -0.95049\n",
      "torch.Size([1024, 64])\n"
     ]
    },
    {
     "name": "stderr",
     "output_type": "stream",
     "text": [
      " 39%|███▉      | 389/999 [7:48:00<11:48:05, 69.65s/it]"
     ]
    },
    {
     "name": "stdout",
     "output_type": "stream",
     "text": [
      "eigenvalues shape torch.Size([5]) eigenvectors shape torch.Size([5, 1024])\n",
      "389 /home/phdcs2/Hard_Disk/Datasets/Deep-Spectral-Segmentation/data/object-segmentation/ECSSD/features/0391_resized.pth\n",
      "dict_keys(['k', 'indices', 'file', 'id', 'model_name', 'patch_size', 'shape'])\n",
      "0391_resized\n",
      "Starting Training\n",
      "epoch: 00, loss: -0.82766\n",
      "epoch: 01, loss: -0.86398\n",
      "epoch: 02, loss: -0.87681\n",
      "epoch: 03, loss: -0.88537\n",
      "epoch: 04, loss: -0.89142\n",
      "epoch: 05, loss: -0.89622\n",
      "epoch: 06, loss: -0.90050\n",
      "epoch: 07, loss: -0.90382\n",
      "epoch: 08, loss: -0.90677\n",
      "epoch: 09, loss: -0.90944\n",
      "torch.Size([1024, 64])\n"
     ]
    },
    {
     "name": "stderr",
     "output_type": "stream",
     "text": [
      " 39%|███▉      | 390/999 [7:49:16<12:06:08, 71.54s/it]"
     ]
    },
    {
     "name": "stdout",
     "output_type": "stream",
     "text": [
      "eigenvalues shape torch.Size([5]) eigenvectors shape torch.Size([5, 1024])\n",
      "390 /home/phdcs2/Hard_Disk/Datasets/Deep-Spectral-Segmentation/data/object-segmentation/ECSSD/features/0392_resized.pth\n",
      "dict_keys(['k', 'indices', 'file', 'id', 'model_name', 'patch_size', 'shape'])\n",
      "0392_resized\n",
      "Starting Training\n",
      "epoch: 00, loss: -0.89255\n",
      "epoch: 01, loss: -0.91978\n",
      "epoch: 02, loss: -0.92847\n",
      "epoch: 03, loss: -0.93406\n",
      "epoch: 04, loss: -0.93821\n",
      "epoch: 05, loss: -0.94147\n",
      "epoch: 06, loss: -0.94412\n",
      "epoch: 07, loss: -0.94633\n",
      "epoch: 08, loss: -0.94826\n",
      "epoch: 09, loss: -0.94995\n",
      "torch.Size([1024, 64])\n"
     ]
    },
    {
     "name": "stderr",
     "output_type": "stream",
     "text": [
      " 39%|███▉      | 391/999 [7:50:27<12:03:17, 71.38s/it]"
     ]
    },
    {
     "name": "stdout",
     "output_type": "stream",
     "text": [
      "eigenvalues shape torch.Size([5]) eigenvectors shape torch.Size([5, 1024])\n",
      "391 /home/phdcs2/Hard_Disk/Datasets/Deep-Spectral-Segmentation/data/object-segmentation/ECSSD/features/0393_resized.pth\n",
      "dict_keys(['k', 'indices', 'file', 'id', 'model_name', 'patch_size', 'shape'])\n",
      "0393_resized\n",
      "Starting Training\n",
      "epoch: 00, loss: -0.90136\n",
      "epoch: 01, loss: -0.92559\n",
      "epoch: 02, loss: -0.93227\n",
      "epoch: 03, loss: -0.93671\n",
      "epoch: 04, loss: -0.94004\n",
      "epoch: 05, loss: -0.94266\n",
      "epoch: 06, loss: -0.94476\n",
      "epoch: 07, loss: -0.94666\n",
      "epoch: 08, loss: -0.94825\n",
      "epoch: 09, loss: -0.94964\n",
      "torch.Size([1024, 64])\n"
     ]
    },
    {
     "name": "stderr",
     "output_type": "stream",
     "text": [
      " 39%|███▉      | 392/999 [7:51:38<11:59:36, 71.13s/it]"
     ]
    },
    {
     "name": "stdout",
     "output_type": "stream",
     "text": [
      "eigenvalues shape torch.Size([5]) eigenvectors shape torch.Size([5, 1024])\n",
      "392 /home/phdcs2/Hard_Disk/Datasets/Deep-Spectral-Segmentation/data/object-segmentation/ECSSD/features/0394_resized.pth\n",
      "dict_keys(['k', 'indices', 'file', 'id', 'model_name', 'patch_size', 'shape'])\n",
      "0394_resized\n",
      "Starting Training\n",
      "epoch: 00, loss: -0.82773\n",
      "epoch: 01, loss: -0.86839\n",
      "epoch: 02, loss: -0.88116\n",
      "epoch: 03, loss: -0.89020\n",
      "epoch: 04, loss: -0.89721\n",
      "epoch: 05, loss: -0.90256\n",
      "epoch: 06, loss: -0.90698\n",
      "epoch: 07, loss: -0.91082\n",
      "epoch: 08, loss: -0.91414\n",
      "epoch: 09, loss: -0.91689\n",
      "torch.Size([1024, 64])\n"
     ]
    },
    {
     "name": "stderr",
     "output_type": "stream",
     "text": [
      " 39%|███▉      | 393/999 [7:52:42<11:39:18, 69.24s/it]"
     ]
    },
    {
     "name": "stdout",
     "output_type": "stream",
     "text": [
      "eigenvalues shape torch.Size([5]) eigenvectors shape torch.Size([5, 1024])\n",
      "393 /home/phdcs2/Hard_Disk/Datasets/Deep-Spectral-Segmentation/data/object-segmentation/ECSSD/features/0395_resized.pth\n",
      "dict_keys(['k', 'indices', 'file', 'id', 'model_name', 'patch_size', 'shape'])\n",
      "0395_resized\n",
      "Starting Training\n",
      "epoch: 00, loss: -0.81440\n",
      "epoch: 01, loss: -0.84746\n",
      "epoch: 02, loss: -0.86064\n",
      "epoch: 03, loss: -0.86961\n",
      "epoch: 04, loss: -0.87638\n",
      "epoch: 05, loss: -0.88161\n",
      "epoch: 06, loss: -0.88651\n",
      "epoch: 07, loss: -0.89002\n",
      "epoch: 08, loss: -0.89352\n",
      "epoch: 09, loss: -0.89653\n",
      "torch.Size([1024, 64])\n"
     ]
    },
    {
     "name": "stderr",
     "output_type": "stream",
     "text": [
      " 39%|███▉      | 394/999 [7:53:55<11:48:38, 70.28s/it]"
     ]
    },
    {
     "name": "stdout",
     "output_type": "stream",
     "text": [
      "eigenvalues shape torch.Size([5]) eigenvectors shape torch.Size([5, 1024])\n",
      "394 /home/phdcs2/Hard_Disk/Datasets/Deep-Spectral-Segmentation/data/object-segmentation/ECSSD/features/0396_resized.pth\n",
      "dict_keys(['k', 'indices', 'file', 'id', 'model_name', 'patch_size', 'shape'])\n",
      "0396_resized\n",
      "Starting Training\n",
      "epoch: 00, loss: -0.85139\n",
      "epoch: 01, loss: -0.88432\n",
      "epoch: 02, loss: -0.89495\n",
      "epoch: 03, loss: -0.90203\n",
      "epoch: 04, loss: -0.90756\n",
      "epoch: 05, loss: -0.91159\n",
      "epoch: 06, loss: -0.91492\n",
      "epoch: 07, loss: -0.91803\n",
      "epoch: 08, loss: -0.92062\n",
      "epoch: 09, loss: -0.92291\n",
      "torch.Size([1024, 64])\n"
     ]
    },
    {
     "name": "stderr",
     "output_type": "stream",
     "text": [
      " 40%|███▉      | 395/999 [7:55:12<12:08:03, 72.32s/it]"
     ]
    },
    {
     "name": "stdout",
     "output_type": "stream",
     "text": [
      "eigenvalues shape torch.Size([5]) eigenvectors shape torch.Size([5, 1024])\n",
      "395 /home/phdcs2/Hard_Disk/Datasets/Deep-Spectral-Segmentation/data/object-segmentation/ECSSD/features/0397_resized.pth\n",
      "dict_keys(['k', 'indices', 'file', 'id', 'model_name', 'patch_size', 'shape'])\n",
      "0397_resized\n"
     ]
    },
    {
     "name": "stderr",
     "output_type": "stream",
     "text": [
      "/home/phdcs2/Hard_Disk/Projects/T2I/deep-spectral-segmentation/venv/lib/python3.8/site-packages/sklearn/decomposition/_pca.py:642: RuntimeWarning: invalid value encountered in divide\n",
      "  self.explained_variance_ratio_ = self.explained_variance_ / total_var\n"
     ]
    },
    {
     "name": "stdout",
     "output_type": "stream",
     "text": [
      "Starting Training\n",
      "epoch: 00, loss: -0.90078\n",
      "epoch: 01, loss: -0.92252\n",
      "epoch: 02, loss: -0.92828\n",
      "epoch: 03, loss: -0.93207\n",
      "epoch: 04, loss: -0.93487\n",
      "epoch: 05, loss: -0.93716\n",
      "epoch: 06, loss: -0.93896\n",
      "epoch: 07, loss: -0.94058\n",
      "epoch: 08, loss: -0.94192\n",
      "epoch: 09, loss: -0.94322\n",
      "torch.Size([1024, 64])\n"
     ]
    },
    {
     "name": "stderr",
     "output_type": "stream",
     "text": [
      " 40%|███▉      | 396/999 [7:56:21<11:56:36, 71.30s/it]"
     ]
    },
    {
     "name": "stdout",
     "output_type": "stream",
     "text": [
      "eigenvalues shape torch.Size([5]) eigenvectors shape torch.Size([5, 1024])\n",
      "396 /home/phdcs2/Hard_Disk/Datasets/Deep-Spectral-Segmentation/data/object-segmentation/ECSSD/features/0398_resized.pth\n",
      "dict_keys(['k', 'indices', 'file', 'id', 'model_name', 'patch_size', 'shape'])\n",
      "0398_resized\n"
     ]
    },
    {
     "name": "stderr",
     "output_type": "stream",
     "text": [
      "/home/phdcs2/Hard_Disk/Projects/T2I/deep-spectral-segmentation/venv/lib/python3.8/site-packages/sklearn/decomposition/_pca.py:642: RuntimeWarning: invalid value encountered in divide\n",
      "  self.explained_variance_ratio_ = self.explained_variance_ / total_var\n"
     ]
    },
    {
     "name": "stdout",
     "output_type": "stream",
     "text": [
      "Starting Training\n",
      "epoch: 00, loss: -0.90657\n",
      "epoch: 01, loss: -0.92497\n",
      "epoch: 02, loss: -0.93071\n",
      "epoch: 03, loss: -0.93452\n",
      "epoch: 04, loss: -0.93742\n",
      "epoch: 05, loss: -0.93961\n",
      "epoch: 06, loss: -0.94158\n",
      "epoch: 07, loss: -0.94324\n",
      "epoch: 08, loss: -0.94466\n",
      "epoch: 09, loss: -0.94596\n",
      "torch.Size([1024, 64])\n"
     ]
    },
    {
     "name": "stderr",
     "output_type": "stream",
     "text": [
      " 40%|███▉      | 397/999 [7:57:28<11:43:42, 70.14s/it]"
     ]
    },
    {
     "name": "stdout",
     "output_type": "stream",
     "text": [
      "eigenvalues shape torch.Size([5]) eigenvectors shape torch.Size([5, 1024])\n",
      "397 /home/phdcs2/Hard_Disk/Datasets/Deep-Spectral-Segmentation/data/object-segmentation/ECSSD/features/0399_resized.pth\n",
      "dict_keys(['k', 'indices', 'file', 'id', 'model_name', 'patch_size', 'shape'])\n",
      "0399_resized\n",
      "Starting Training\n",
      "epoch: 00, loss: -0.80930\n",
      "epoch: 01, loss: -0.84253\n",
      "epoch: 02, loss: -0.85573\n",
      "epoch: 03, loss: -0.86539\n",
      "epoch: 04, loss: -0.87253\n",
      "epoch: 05, loss: -0.87841\n",
      "epoch: 06, loss: -0.88337\n",
      "epoch: 07, loss: -0.88763\n",
      "epoch: 08, loss: -0.89151\n",
      "epoch: 09, loss: -0.89460\n",
      "torch.Size([1024, 64])\n"
     ]
    },
    {
     "name": "stderr",
     "output_type": "stream",
     "text": [
      " 40%|███▉      | 398/999 [7:58:39<11:42:18, 70.11s/it]"
     ]
    },
    {
     "name": "stdout",
     "output_type": "stream",
     "text": [
      "eigenvalues shape torch.Size([5]) eigenvectors shape torch.Size([5, 1024])\n",
      "398 /home/phdcs2/Hard_Disk/Datasets/Deep-Spectral-Segmentation/data/object-segmentation/ECSSD/features/0400_resized.pth\n",
      "dict_keys(['k', 'indices', 'file', 'id', 'model_name', 'patch_size', 'shape'])\n",
      "0400_resized\n",
      "Starting Training\n",
      "epoch: 00, loss: -0.83097\n",
      "epoch: 01, loss: -0.86907\n",
      "epoch: 02, loss: -0.88199\n",
      "epoch: 03, loss: -0.89021\n",
      "epoch: 04, loss: -0.89657\n",
      "epoch: 05, loss: -0.90184\n",
      "epoch: 06, loss: -0.90588\n",
      "epoch: 07, loss: -0.90954\n",
      "epoch: 08, loss: -0.91257\n",
      "epoch: 09, loss: -0.91536\n",
      "torch.Size([1024, 64])\n"
     ]
    },
    {
     "name": "stderr",
     "output_type": "stream",
     "text": [
      " 40%|███▉      | 399/999 [7:59:46<11:34:21, 69.44s/it]"
     ]
    },
    {
     "name": "stdout",
     "output_type": "stream",
     "text": [
      "eigenvalues shape torch.Size([5]) eigenvectors shape torch.Size([5, 1024])\n",
      "399 /home/phdcs2/Hard_Disk/Datasets/Deep-Spectral-Segmentation/data/object-segmentation/ECSSD/features/0401_resized.pth\n",
      "dict_keys(['k', 'indices', 'file', 'id', 'model_name', 'patch_size', 'shape'])\n",
      "0401_resized\n"
     ]
    },
    {
     "name": "stderr",
     "output_type": "stream",
     "text": [
      "/home/phdcs2/Hard_Disk/Projects/T2I/deep-spectral-segmentation/venv/lib/python3.8/site-packages/sklearn/decomposition/_pca.py:642: RuntimeWarning: invalid value encountered in divide\n",
      "  self.explained_variance_ratio_ = self.explained_variance_ / total_var\n"
     ]
    },
    {
     "name": "stdout",
     "output_type": "stream",
     "text": [
      "Starting Training\n",
      "epoch: 00, loss: -0.90807\n",
      "epoch: 01, loss: -0.93088\n",
      "epoch: 02, loss: -0.93730\n",
      "epoch: 03, loss: -0.94145\n",
      "epoch: 04, loss: -0.94458\n",
      "epoch: 05, loss: -0.94704\n",
      "epoch: 06, loss: -0.94906\n",
      "epoch: 07, loss: -0.95081\n",
      "epoch: 08, loss: -0.95228\n",
      "epoch: 09, loss: -0.95355\n",
      "torch.Size([1024, 64])\n"
     ]
    },
    {
     "name": "stderr",
     "output_type": "stream",
     "text": [
      " 40%|████      | 400/999 [8:00:53<11:23:59, 68.51s/it]"
     ]
    },
    {
     "name": "stdout",
     "output_type": "stream",
     "text": [
      "eigenvalues shape torch.Size([5]) eigenvectors shape torch.Size([5, 1024])\n",
      "400 /home/phdcs2/Hard_Disk/Datasets/Deep-Spectral-Segmentation/data/object-segmentation/ECSSD/features/0402_resized.pth\n",
      "dict_keys(['k', 'indices', 'file', 'id', 'model_name', 'patch_size', 'shape'])\n",
      "0402_resized\n"
     ]
    },
    {
     "name": "stderr",
     "output_type": "stream",
     "text": [
      "/home/phdcs2/Hard_Disk/Projects/T2I/deep-spectral-segmentation/venv/lib/python3.8/site-packages/sklearn/decomposition/_pca.py:642: RuntimeWarning: invalid value encountered in divide\n",
      "  self.explained_variance_ratio_ = self.explained_variance_ / total_var\n"
     ]
    },
    {
     "name": "stdout",
     "output_type": "stream",
     "text": [
      "Starting Training\n",
      "epoch: 00, loss: -0.89713\n",
      "epoch: 01, loss: -0.92465\n",
      "epoch: 02, loss: -0.93075\n",
      "epoch: 03, loss: -0.93475\n",
      "epoch: 04, loss: -0.93781\n",
      "epoch: 05, loss: -0.94020\n",
      "epoch: 06, loss: -0.94222\n",
      "epoch: 07, loss: -0.94397\n",
      "epoch: 08, loss: -0.94546\n",
      "epoch: 09, loss: -0.94682\n",
      "torch.Size([1024, 64])\n"
     ]
    },
    {
     "name": "stderr",
     "output_type": "stream",
     "text": [
      " 40%|████      | 401/999 [8:01:54<11:01:26, 66.36s/it]"
     ]
    },
    {
     "name": "stdout",
     "output_type": "stream",
     "text": [
      "eigenvalues shape torch.Size([5]) eigenvectors shape torch.Size([5, 1024])\n",
      "401 /home/phdcs2/Hard_Disk/Datasets/Deep-Spectral-Segmentation/data/object-segmentation/ECSSD/features/0403_resized.pth\n",
      "dict_keys(['k', 'indices', 'file', 'id', 'model_name', 'patch_size', 'shape'])\n",
      "0403_resized\n"
     ]
    },
    {
     "name": "stderr",
     "output_type": "stream",
     "text": [
      "/home/phdcs2/Hard_Disk/Projects/T2I/deep-spectral-segmentation/venv/lib/python3.8/site-packages/sklearn/decomposition/_pca.py:642: RuntimeWarning: invalid value encountered in divide\n",
      "  self.explained_variance_ratio_ = self.explained_variance_ / total_var\n"
     ]
    },
    {
     "name": "stdout",
     "output_type": "stream",
     "text": [
      "Starting Training\n",
      "epoch: 00, loss: -0.89064\n",
      "epoch: 01, loss: -0.91326\n",
      "epoch: 02, loss: -0.91984\n",
      "epoch: 03, loss: -0.92421\n",
      "epoch: 04, loss: -0.92755\n",
      "epoch: 05, loss: -0.93017\n",
      "epoch: 06, loss: -0.93232\n",
      "epoch: 07, loss: -0.93421\n",
      "epoch: 08, loss: -0.93582\n",
      "epoch: 09, loss: -0.93726\n",
      "torch.Size([1024, 64])\n"
     ]
    },
    {
     "name": "stderr",
     "output_type": "stream",
     "text": [
      " 40%|████      | 402/999 [8:03:05<11:14:27, 67.78s/it]"
     ]
    },
    {
     "name": "stdout",
     "output_type": "stream",
     "text": [
      "eigenvalues shape torch.Size([5]) eigenvectors shape torch.Size([5, 1024])\n",
      "402 /home/phdcs2/Hard_Disk/Datasets/Deep-Spectral-Segmentation/data/object-segmentation/ECSSD/features/0404_resized.pth\n",
      "dict_keys(['k', 'indices', 'file', 'id', 'model_name', 'patch_size', 'shape'])\n",
      "0404_resized\n",
      "Starting Training\n",
      "epoch: 00, loss: -0.87505\n",
      "epoch: 01, loss: -0.90248\n",
      "epoch: 02, loss: -0.91050\n",
      "epoch: 03, loss: -0.91576\n",
      "epoch: 04, loss: -0.91968\n",
      "epoch: 05, loss: -0.92279\n",
      "epoch: 06, loss: -0.92553\n",
      "epoch: 07, loss: -0.92777\n",
      "epoch: 08, loss: -0.92963\n",
      "epoch: 09, loss: -0.93132\n",
      "torch.Size([1024, 64])\n"
     ]
    },
    {
     "name": "stderr",
     "output_type": "stream",
     "text": [
      " 40%|████      | 403/999 [8:04:16<11:20:57, 68.55s/it]"
     ]
    },
    {
     "name": "stdout",
     "output_type": "stream",
     "text": [
      "eigenvalues shape torch.Size([5]) eigenvectors shape torch.Size([5, 1024])\n",
      "403 /home/phdcs2/Hard_Disk/Datasets/Deep-Spectral-Segmentation/data/object-segmentation/ECSSD/features/0405_resized.pth\n",
      "dict_keys(['k', 'indices', 'file', 'id', 'model_name', 'patch_size', 'shape'])\n",
      "0405_resized\n",
      "Starting Training\n",
      "epoch: 00, loss: -0.89769\n",
      "epoch: 01, loss: -0.92139\n",
      "epoch: 02, loss: -0.92875\n",
      "epoch: 03, loss: -0.93354\n",
      "epoch: 04, loss: -0.93734\n",
      "epoch: 05, loss: -0.94028\n",
      "epoch: 06, loss: -0.94276\n",
      "epoch: 07, loss: -0.94488\n",
      "epoch: 08, loss: -0.94665\n",
      "epoch: 09, loss: -0.94831\n",
      "torch.Size([1024, 64])\n"
     ]
    },
    {
     "name": "stderr",
     "output_type": "stream",
     "text": [
      " 40%|████      | 404/999 [8:05:26<11:25:01, 69.08s/it]"
     ]
    },
    {
     "name": "stdout",
     "output_type": "stream",
     "text": [
      "eigenvalues shape torch.Size([5]) eigenvectors shape torch.Size([5, 1024])\n",
      "404 /home/phdcs2/Hard_Disk/Datasets/Deep-Spectral-Segmentation/data/object-segmentation/ECSSD/features/0406_resized.pth\n",
      "dict_keys(['k', 'indices', 'file', 'id', 'model_name', 'patch_size', 'shape'])\n",
      "0406_resized\n",
      "Starting Training\n",
      "epoch: 00, loss: -0.83547\n",
      "epoch: 01, loss: -0.86888\n",
      "epoch: 02, loss: -0.88078\n",
      "epoch: 03, loss: -0.88815\n",
      "epoch: 04, loss: -0.89403\n",
      "epoch: 05, loss: -0.89888\n",
      "epoch: 06, loss: -0.90292\n",
      "epoch: 07, loss: -0.90672\n",
      "epoch: 08, loss: -0.90951\n",
      "epoch: 09, loss: -0.91232\n",
      "torch.Size([1024, 64])\n"
     ]
    },
    {
     "name": "stderr",
     "output_type": "stream",
     "text": [
      " 41%|████      | 405/999 [8:06:35<11:25:25, 69.24s/it]"
     ]
    },
    {
     "name": "stdout",
     "output_type": "stream",
     "text": [
      "eigenvalues shape torch.Size([5]) eigenvectors shape torch.Size([5, 1024])\n",
      "405 /home/phdcs2/Hard_Disk/Datasets/Deep-Spectral-Segmentation/data/object-segmentation/ECSSD/features/0407_resized.pth\n",
      "dict_keys(['k', 'indices', 'file', 'id', 'model_name', 'patch_size', 'shape'])\n",
      "0407_resized\n",
      "Starting Training\n",
      "epoch: 00, loss: -0.77745\n",
      "epoch: 01, loss: -0.82102\n",
      "epoch: 02, loss: -0.83789\n",
      "epoch: 03, loss: -0.85044\n",
      "epoch: 04, loss: -0.85990\n",
      "epoch: 05, loss: -0.86756\n",
      "epoch: 06, loss: -0.87384\n",
      "epoch: 07, loss: -0.87889\n",
      "epoch: 08, loss: -0.88320\n",
      "epoch: 09, loss: -0.88721\n",
      "torch.Size([1024, 64])\n"
     ]
    },
    {
     "name": "stderr",
     "output_type": "stream",
     "text": [
      " 41%|████      | 406/999 [8:07:42<11:15:41, 68.37s/it]"
     ]
    },
    {
     "name": "stdout",
     "output_type": "stream",
     "text": [
      "eigenvalues shape torch.Size([5]) eigenvectors shape torch.Size([5, 1024])\n",
      "406 /home/phdcs2/Hard_Disk/Datasets/Deep-Spectral-Segmentation/data/object-segmentation/ECSSD/features/0408_resized.pth\n",
      "dict_keys(['k', 'indices', 'file', 'id', 'model_name', 'patch_size', 'shape'])\n",
      "0408_resized\n",
      "Starting Training\n",
      "epoch: 00, loss: -0.89822\n",
      "epoch: 01, loss: -0.92482\n",
      "epoch: 02, loss: -0.93136\n",
      "epoch: 03, loss: -0.93564\n",
      "epoch: 04, loss: -0.93887\n",
      "epoch: 05, loss: -0.94142\n",
      "epoch: 06, loss: -0.94351\n",
      "epoch: 07, loss: -0.94529\n",
      "epoch: 08, loss: -0.94684\n",
      "epoch: 09, loss: -0.94824\n",
      "torch.Size([1024, 64])\n"
     ]
    },
    {
     "name": "stderr",
     "output_type": "stream",
     "text": [
      " 41%|████      | 407/999 [8:08:39<10:40:07, 64.88s/it]"
     ]
    },
    {
     "name": "stdout",
     "output_type": "stream",
     "text": [
      "eigenvalues shape torch.Size([5]) eigenvectors shape torch.Size([5, 1024])\n",
      "407 /home/phdcs2/Hard_Disk/Datasets/Deep-Spectral-Segmentation/data/object-segmentation/ECSSD/features/0409_resized.pth\n",
      "dict_keys(['k', 'indices', 'file', 'id', 'model_name', 'patch_size', 'shape'])\n",
      "0409_resized\n",
      "Starting Training\n",
      "epoch: 00, loss: -0.80903\n",
      "epoch: 01, loss: -0.85035\n",
      "epoch: 02, loss: -0.86537\n",
      "epoch: 03, loss: -0.87537\n",
      "epoch: 04, loss: -0.88280\n",
      "epoch: 05, loss: -0.88842\n",
      "epoch: 06, loss: -0.89364\n",
      "epoch: 07, loss: -0.89802\n",
      "epoch: 08, loss: -0.90159\n",
      "epoch: 09, loss: -0.90490\n",
      "torch.Size([1024, 64])\n"
     ]
    },
    {
     "name": "stderr",
     "output_type": "stream",
     "text": [
      " 41%|████      | 408/999 [8:09:32<10:04:57, 61.42s/it]"
     ]
    },
    {
     "name": "stdout",
     "output_type": "stream",
     "text": [
      "eigenvalues shape torch.Size([5]) eigenvectors shape torch.Size([5, 1024])\n",
      "408 /home/phdcs2/Hard_Disk/Datasets/Deep-Spectral-Segmentation/data/object-segmentation/ECSSD/features/0410_resized.pth\n",
      "dict_keys(['k', 'indices', 'file', 'id', 'model_name', 'patch_size', 'shape'])\n",
      "0410_resized\n",
      "Starting Training\n",
      "epoch: 00, loss: -0.79417\n",
      "epoch: 01, loss: -0.84014\n",
      "epoch: 02, loss: -0.85703\n",
      "epoch: 03, loss: -0.86894\n",
      "epoch: 04, loss: -0.87776\n",
      "epoch: 05, loss: -0.88490\n",
      "epoch: 06, loss: -0.89065\n",
      "epoch: 07, loss: -0.89543\n",
      "epoch: 08, loss: -0.89967\n",
      "epoch: 09, loss: -0.90326\n",
      "torch.Size([1024, 64])\n"
     ]
    },
    {
     "name": "stderr",
     "output_type": "stream",
     "text": [
      " 41%|████      | 409/999 [8:10:28<9:47:55, 59.79s/it] "
     ]
    },
    {
     "name": "stdout",
     "output_type": "stream",
     "text": [
      "eigenvalues shape torch.Size([5]) eigenvectors shape torch.Size([5, 1024])\n",
      "409 /home/phdcs2/Hard_Disk/Datasets/Deep-Spectral-Segmentation/data/object-segmentation/ECSSD/features/0411_resized.pth\n",
      "dict_keys(['k', 'indices', 'file', 'id', 'model_name', 'patch_size', 'shape'])\n",
      "0411_resized\n"
     ]
    },
    {
     "name": "stderr",
     "output_type": "stream",
     "text": [
      "/home/phdcs2/Hard_Disk/Projects/T2I/deep-spectral-segmentation/venv/lib/python3.8/site-packages/sklearn/decomposition/_pca.py:642: RuntimeWarning: invalid value encountered in divide\n",
      "  self.explained_variance_ratio_ = self.explained_variance_ / total_var\n"
     ]
    },
    {
     "name": "stdout",
     "output_type": "stream",
     "text": [
      "Starting Training\n",
      "epoch: 00, loss: -0.88634\n",
      "epoch: 01, loss: -0.90895\n",
      "epoch: 02, loss: -0.91657\n",
      "epoch: 03, loss: -0.92185\n",
      "epoch: 04, loss: -0.92580\n",
      "epoch: 05, loss: -0.92907\n",
      "epoch: 06, loss: -0.93172\n",
      "epoch: 07, loss: -0.93401\n",
      "epoch: 08, loss: -0.93601\n",
      "epoch: 09, loss: -0.93772\n",
      "torch.Size([1024, 64])\n"
     ]
    },
    {
     "name": "stderr",
     "output_type": "stream",
     "text": [
      " 41%|████      | 410/999 [8:11:37<10:15:04, 62.66s/it]"
     ]
    },
    {
     "name": "stdout",
     "output_type": "stream",
     "text": [
      "eigenvalues shape torch.Size([5]) eigenvectors shape torch.Size([5, 1024])\n",
      "410 /home/phdcs2/Hard_Disk/Datasets/Deep-Spectral-Segmentation/data/object-segmentation/ECSSD/features/0412_resized.pth\n",
      "dict_keys(['k', 'indices', 'file', 'id', 'model_name', 'patch_size', 'shape'])\n",
      "0412_resized\n",
      "Starting Training\n",
      "epoch: 00, loss: -0.80910\n",
      "epoch: 01, loss: -0.84874\n",
      "epoch: 02, loss: -0.86252\n",
      "epoch: 03, loss: -0.87188\n",
      "epoch: 04, loss: -0.87889\n",
      "epoch: 05, loss: -0.88496\n",
      "epoch: 06, loss: -0.88966\n",
      "epoch: 07, loss: -0.89352\n",
      "epoch: 08, loss: -0.89733\n",
      "epoch: 09, loss: -0.90049\n",
      "torch.Size([1024, 64])\n"
     ]
    },
    {
     "name": "stderr",
     "output_type": "stream",
     "text": [
      " 41%|████      | 411/999 [8:12:51<10:45:28, 65.86s/it]"
     ]
    },
    {
     "name": "stdout",
     "output_type": "stream",
     "text": [
      "eigenvalues shape torch.Size([5]) eigenvectors shape torch.Size([5, 1024])\n",
      "411 /home/phdcs2/Hard_Disk/Datasets/Deep-Spectral-Segmentation/data/object-segmentation/ECSSD/features/0413_resized.pth\n",
      "dict_keys(['k', 'indices', 'file', 'id', 'model_name', 'patch_size', 'shape'])\n",
      "0413_resized\n",
      "Starting Training\n",
      "epoch: 00, loss: -0.80789\n",
      "epoch: 01, loss: -0.84982\n",
      "epoch: 02, loss: -0.86453\n",
      "epoch: 03, loss: -0.87428\n",
      "epoch: 04, loss: -0.88191\n",
      "epoch: 05, loss: -0.88787\n",
      "epoch: 06, loss: -0.89304\n",
      "epoch: 07, loss: -0.89747\n",
      "epoch: 08, loss: -0.90119\n",
      "epoch: 09, loss: -0.90428\n",
      "torch.Size([1024, 64])\n"
     ]
    },
    {
     "name": "stderr",
     "output_type": "stream",
     "text": [
      " 41%|████      | 412/999 [8:13:53<10:35:29, 64.96s/it]"
     ]
    },
    {
     "name": "stdout",
     "output_type": "stream",
     "text": [
      "eigenvalues shape torch.Size([5]) eigenvectors shape torch.Size([5, 1024])\n",
      "412 /home/phdcs2/Hard_Disk/Datasets/Deep-Spectral-Segmentation/data/object-segmentation/ECSSD/features/0414_resized.pth\n",
      "dict_keys(['k', 'indices', 'file', 'id', 'model_name', 'patch_size', 'shape'])\n",
      "0414_resized\n",
      "Starting Training\n",
      "epoch: 00, loss: -0.83114\n",
      "epoch: 01, loss: -0.86793\n",
      "epoch: 02, loss: -0.88035\n",
      "epoch: 03, loss: -0.88904\n",
      "epoch: 04, loss: -0.89543\n",
      "epoch: 05, loss: -0.90072\n",
      "epoch: 06, loss: -0.90509\n",
      "epoch: 07, loss: -0.90886\n",
      "epoch: 08, loss: -0.91220\n",
      "epoch: 09, loss: -0.91501\n",
      "torch.Size([1024, 64])\n"
     ]
    },
    {
     "name": "stderr",
     "output_type": "stream",
     "text": [
      " 41%|████▏     | 413/999 [8:15:04<10:51:42, 66.73s/it]"
     ]
    },
    {
     "name": "stdout",
     "output_type": "stream",
     "text": [
      "eigenvalues shape torch.Size([5]) eigenvectors shape torch.Size([5, 1024])\n",
      "413 /home/phdcs2/Hard_Disk/Datasets/Deep-Spectral-Segmentation/data/object-segmentation/ECSSD/features/0415_resized.pth\n",
      "dict_keys(['k', 'indices', 'file', 'id', 'model_name', 'patch_size', 'shape'])\n",
      "0415_resized\n"
     ]
    },
    {
     "name": "stderr",
     "output_type": "stream",
     "text": [
      "/home/phdcs2/Hard_Disk/Projects/T2I/deep-spectral-segmentation/venv/lib/python3.8/site-packages/sklearn/decomposition/_pca.py:642: RuntimeWarning: invalid value encountered in divide\n",
      "  self.explained_variance_ratio_ = self.explained_variance_ / total_var\n"
     ]
    },
    {
     "name": "stdout",
     "output_type": "stream",
     "text": [
      "Starting Training\n",
      "epoch: 00, loss: -0.89741\n",
      "epoch: 01, loss: -0.92663\n",
      "epoch: 02, loss: -0.93403\n",
      "epoch: 03, loss: -0.93878\n",
      "epoch: 04, loss: -0.94228\n",
      "epoch: 05, loss: -0.94502\n",
      "epoch: 06, loss: -0.94738\n",
      "epoch: 07, loss: -0.94930\n",
      "epoch: 08, loss: -0.95093\n",
      "epoch: 09, loss: -0.95238\n",
      "torch.Size([1024, 64])\n"
     ]
    },
    {
     "name": "stderr",
     "output_type": "stream",
     "text": [
      " 41%|████▏     | 414/999 [8:16:18<11:11:40, 68.89s/it]"
     ]
    },
    {
     "name": "stdout",
     "output_type": "stream",
     "text": [
      "eigenvalues shape torch.Size([5]) eigenvectors shape torch.Size([5, 1024])\n",
      "414 /home/phdcs2/Hard_Disk/Datasets/Deep-Spectral-Segmentation/data/object-segmentation/ECSSD/features/0416_resized.pth\n",
      "dict_keys(['k', 'indices', 'file', 'id', 'model_name', 'patch_size', 'shape'])\n",
      "0416_resized\n",
      "Starting Training\n",
      "epoch: 00, loss: -0.87762\n",
      "epoch: 01, loss: -0.90324\n",
      "epoch: 02, loss: -0.91042\n",
      "epoch: 03, loss: -0.91525\n",
      "epoch: 04, loss: -0.91873\n",
      "epoch: 05, loss: -0.92157\n",
      "epoch: 06, loss: -0.92399\n",
      "epoch: 07, loss: -0.92606\n",
      "epoch: 08, loss: -0.92786\n",
      "epoch: 09, loss: -0.92946\n",
      "torch.Size([1024, 64])\n"
     ]
    },
    {
     "name": "stderr",
     "output_type": "stream",
     "text": [
      " 42%|████▏     | 415/999 [8:17:31<11:22:52, 70.16s/it]"
     ]
    },
    {
     "name": "stdout",
     "output_type": "stream",
     "text": [
      "eigenvalues shape torch.Size([5]) eigenvectors shape torch.Size([5, 1024])\n",
      "415 /home/phdcs2/Hard_Disk/Datasets/Deep-Spectral-Segmentation/data/object-segmentation/ECSSD/features/0417_resized.pth\n",
      "dict_keys(['k', 'indices', 'file', 'id', 'model_name', 'patch_size', 'shape'])\n",
      "0417_resized\n",
      "Starting Training\n",
      "epoch: 00, loss: -0.82922\n",
      "epoch: 01, loss: -0.86665\n",
      "epoch: 02, loss: -0.87975\n",
      "epoch: 03, loss: -0.88788\n",
      "epoch: 04, loss: -0.89392\n",
      "epoch: 05, loss: -0.89826\n",
      "epoch: 06, loss: -0.90191\n",
      "epoch: 07, loss: -0.90548\n",
      "epoch: 08, loss: -0.90822\n",
      "epoch: 09, loss: -0.91076\n",
      "torch.Size([1024, 64])\n"
     ]
    },
    {
     "name": "stderr",
     "output_type": "stream",
     "text": [
      " 42%|████▏     | 416/999 [8:18:43<11:25:54, 70.59s/it]"
     ]
    },
    {
     "name": "stdout",
     "output_type": "stream",
     "text": [
      "eigenvalues shape torch.Size([5]) eigenvectors shape torch.Size([5, 1024])\n",
      "416 /home/phdcs2/Hard_Disk/Datasets/Deep-Spectral-Segmentation/data/object-segmentation/ECSSD/features/0418_resized.pth\n",
      "dict_keys(['k', 'indices', 'file', 'id', 'model_name', 'patch_size', 'shape'])\n",
      "0418_resized\n",
      "Starting Training\n",
      "epoch: 00, loss: -0.84022\n",
      "epoch: 01, loss: -0.87884\n",
      "epoch: 02, loss: -0.89239\n",
      "epoch: 03, loss: -0.90123\n",
      "epoch: 04, loss: -0.90783\n",
      "epoch: 05, loss: -0.91315\n",
      "epoch: 06, loss: -0.91724\n",
      "epoch: 07, loss: -0.92102\n",
      "epoch: 08, loss: -0.92410\n",
      "epoch: 09, loss: -0.92683\n",
      "torch.Size([1024, 64])\n"
     ]
    },
    {
     "name": "stderr",
     "output_type": "stream",
     "text": [
      " 42%|████▏     | 417/999 [8:19:46<11:03:31, 68.40s/it]"
     ]
    },
    {
     "name": "stdout",
     "output_type": "stream",
     "text": [
      "eigenvalues shape torch.Size([5]) eigenvectors shape torch.Size([5, 1024])\n",
      "417 /home/phdcs2/Hard_Disk/Datasets/Deep-Spectral-Segmentation/data/object-segmentation/ECSSD/features/0419_resized.pth\n",
      "dict_keys(['k', 'indices', 'file', 'id', 'model_name', 'patch_size', 'shape'])\n",
      "0419_resized\n",
      "Starting Training\n",
      "epoch: 00, loss: -0.79011\n",
      "epoch: 01, loss: -0.84019\n",
      "epoch: 02, loss: -0.85816\n",
      "epoch: 03, loss: -0.86973\n",
      "epoch: 04, loss: -0.87875\n",
      "epoch: 05, loss: -0.88549\n",
      "epoch: 06, loss: -0.89117\n",
      "epoch: 07, loss: -0.89574\n",
      "epoch: 08, loss: -0.89970\n",
      "epoch: 09, loss: -0.90308\n",
      "torch.Size([1024, 64])\n"
     ]
    },
    {
     "name": "stderr",
     "output_type": "stream",
     "text": [
      " 42%|████▏     | 418/999 [8:20:55<11:03:43, 68.54s/it]"
     ]
    },
    {
     "name": "stdout",
     "output_type": "stream",
     "text": [
      "eigenvalues shape torch.Size([5]) eigenvectors shape torch.Size([5, 1024])\n",
      "418 /home/phdcs2/Hard_Disk/Datasets/Deep-Spectral-Segmentation/data/object-segmentation/ECSSD/features/0420_resized.pth\n",
      "dict_keys(['k', 'indices', 'file', 'id', 'model_name', 'patch_size', 'shape'])\n",
      "0420_resized\n",
      "Starting Training\n",
      "epoch: 00, loss: -0.78622\n",
      "epoch: 01, loss: -0.83008\n",
      "epoch: 02, loss: -0.84657\n",
      "epoch: 03, loss: -0.85776\n",
      "epoch: 04, loss: -0.86493\n",
      "epoch: 05, loss: -0.87080\n",
      "epoch: 06, loss: -0.87643\n",
      "epoch: 07, loss: -0.88043\n",
      "epoch: 08, loss: -0.88439\n",
      "epoch: 09, loss: -0.88801\n",
      "torch.Size([1024, 64])\n"
     ]
    },
    {
     "name": "stderr",
     "output_type": "stream",
     "text": [
      " 42%|████▏     | 419/999 [8:22:05<11:05:52, 68.88s/it]"
     ]
    },
    {
     "name": "stdout",
     "output_type": "stream",
     "text": [
      "eigenvalues shape torch.Size([5]) eigenvectors shape torch.Size([5, 1024])\n",
      "419 /home/phdcs2/Hard_Disk/Datasets/Deep-Spectral-Segmentation/data/object-segmentation/ECSSD/features/0421_resized.pth\n",
      "dict_keys(['k', 'indices', 'file', 'id', 'model_name', 'patch_size', 'shape'])\n",
      "0421_resized\n"
     ]
    },
    {
     "name": "stderr",
     "output_type": "stream",
     "text": [
      "/home/phdcs2/Hard_Disk/Projects/T2I/deep-spectral-segmentation/venv/lib/python3.8/site-packages/sklearn/decomposition/_pca.py:642: RuntimeWarning: invalid value encountered in divide\n",
      "  self.explained_variance_ratio_ = self.explained_variance_ / total_var\n"
     ]
    },
    {
     "name": "stdout",
     "output_type": "stream",
     "text": [
      "Starting Training\n",
      "epoch: 00, loss: -0.90307\n",
      "epoch: 01, loss: -0.92111\n",
      "epoch: 02, loss: -0.92611\n",
      "epoch: 03, loss: -0.92964\n",
      "epoch: 04, loss: -0.93226\n",
      "epoch: 05, loss: -0.93425\n",
      "epoch: 06, loss: -0.93613\n",
      "epoch: 07, loss: -0.93769\n",
      "epoch: 08, loss: -0.93909\n",
      "epoch: 09, loss: -0.94027\n",
      "torch.Size([1024, 64])\n"
     ]
    },
    {
     "name": "stderr",
     "output_type": "stream",
     "text": [
      " 42%|████▏     | 420/999 [8:23:07<10:46:41, 67.01s/it]"
     ]
    },
    {
     "name": "stdout",
     "output_type": "stream",
     "text": [
      "eigenvalues shape torch.Size([5]) eigenvectors shape torch.Size([5, 1024])\n",
      "420 /home/phdcs2/Hard_Disk/Datasets/Deep-Spectral-Segmentation/data/object-segmentation/ECSSD/features/0422_resized.pth\n",
      "dict_keys(['k', 'indices', 'file', 'id', 'model_name', 'patch_size', 'shape'])\n",
      "0422_resized\n",
      "Starting Training\n",
      "epoch: 00, loss: -0.77173\n",
      "epoch: 01, loss: -0.82760\n",
      "epoch: 02, loss: -0.84675\n",
      "epoch: 03, loss: -0.85895\n",
      "epoch: 04, loss: -0.86798\n",
      "epoch: 05, loss: -0.87524\n",
      "epoch: 06, loss: -0.88084\n",
      "epoch: 07, loss: -0.88570\n",
      "epoch: 08, loss: -0.89013\n",
      "epoch: 09, loss: -0.89365\n",
      "torch.Size([1024, 64])\n"
     ]
    },
    {
     "name": "stderr",
     "output_type": "stream",
     "text": [
      " 42%|████▏     | 421/999 [8:24:21<11:05:58, 69.13s/it]"
     ]
    },
    {
     "name": "stdout",
     "output_type": "stream",
     "text": [
      "eigenvalues shape torch.Size([5]) eigenvectors shape torch.Size([5, 1024])\n",
      "421 /home/phdcs2/Hard_Disk/Datasets/Deep-Spectral-Segmentation/data/object-segmentation/ECSSD/features/0423_resized.pth\n",
      "dict_keys(['k', 'indices', 'file', 'id', 'model_name', 'patch_size', 'shape'])\n",
      "0423_resized\n"
     ]
    },
    {
     "name": "stderr",
     "output_type": "stream",
     "text": [
      "/home/phdcs2/Hard_Disk/Projects/T2I/deep-spectral-segmentation/venv/lib/python3.8/site-packages/sklearn/decomposition/_pca.py:642: RuntimeWarning: invalid value encountered in divide\n",
      "  self.explained_variance_ratio_ = self.explained_variance_ / total_var\n"
     ]
    },
    {
     "name": "stdout",
     "output_type": "stream",
     "text": [
      "Starting Training\n",
      "epoch: 00, loss: -0.88110\n",
      "epoch: 01, loss: -0.90848\n",
      "epoch: 02, loss: -0.91749\n",
      "epoch: 03, loss: -0.92334\n",
      "epoch: 04, loss: -0.92780\n",
      "epoch: 05, loss: -0.93116\n",
      "epoch: 06, loss: -0.93403\n",
      "epoch: 07, loss: -0.93639\n",
      "epoch: 08, loss: -0.93849\n",
      "epoch: 09, loss: -0.94028\n",
      "torch.Size([1024, 64])\n"
     ]
    },
    {
     "name": "stderr",
     "output_type": "stream",
     "text": [
      " 42%|████▏     | 422/999 [8:25:35<11:18:18, 70.53s/it]"
     ]
    },
    {
     "name": "stdout",
     "output_type": "stream",
     "text": [
      "eigenvalues shape torch.Size([5]) eigenvectors shape torch.Size([5, 1024])\n",
      "422 /home/phdcs2/Hard_Disk/Datasets/Deep-Spectral-Segmentation/data/object-segmentation/ECSSD/features/0424_resized.pth\n",
      "dict_keys(['k', 'indices', 'file', 'id', 'model_name', 'patch_size', 'shape'])\n",
      "0424_resized\n",
      "Starting Training\n",
      "epoch: 00, loss: -0.81586\n",
      "epoch: 01, loss: -0.85650\n",
      "epoch: 02, loss: -0.87109\n",
      "epoch: 03, loss: -0.88118\n",
      "epoch: 04, loss: -0.88875\n",
      "epoch: 05, loss: -0.89481\n",
      "epoch: 06, loss: -0.89982\n",
      "epoch: 07, loss: -0.90442\n",
      "epoch: 08, loss: -0.90837\n",
      "epoch: 09, loss: -0.91160\n",
      "torch.Size([1024, 64])\n"
     ]
    },
    {
     "name": "stderr",
     "output_type": "stream",
     "text": [
      " 42%|████▏     | 423/999 [8:26:49<11:25:24, 71.40s/it]"
     ]
    },
    {
     "name": "stdout",
     "output_type": "stream",
     "text": [
      "eigenvalues shape torch.Size([5]) eigenvectors shape torch.Size([5, 1024])\n",
      "423 /home/phdcs2/Hard_Disk/Datasets/Deep-Spectral-Segmentation/data/object-segmentation/ECSSD/features/0425_resized.pth\n",
      "dict_keys(['k', 'indices', 'file', 'id', 'model_name', 'patch_size', 'shape'])\n",
      "0425_resized\n",
      "Starting Training\n",
      "epoch: 00, loss: -0.77938\n",
      "epoch: 01, loss: -0.82770\n",
      "epoch: 02, loss: -0.84615\n",
      "epoch: 03, loss: -0.85862\n",
      "epoch: 04, loss: -0.86729\n",
      "epoch: 05, loss: -0.87470\n",
      "epoch: 06, loss: -0.88050\n",
      "epoch: 07, loss: -0.88487\n",
      "epoch: 08, loss: -0.88901\n",
      "epoch: 09, loss: -0.89261\n",
      "torch.Size([1024, 64])\n"
     ]
    },
    {
     "name": "stderr",
     "output_type": "stream",
     "text": [
      " 42%|████▏     | 424/999 [8:27:56<11:13:51, 70.32s/it]"
     ]
    },
    {
     "name": "stdout",
     "output_type": "stream",
     "text": [
      "eigenvalues shape torch.Size([5]) eigenvectors shape torch.Size([5, 1024])\n",
      "424 /home/phdcs2/Hard_Disk/Datasets/Deep-Spectral-Segmentation/data/object-segmentation/ECSSD/features/0426_resized.pth\n",
      "dict_keys(['k', 'indices', 'file', 'id', 'model_name', 'patch_size', 'shape'])\n",
      "0426_resized\n",
      "Starting Training\n",
      "epoch: 00, loss: -0.83285\n",
      "epoch: 01, loss: -0.87284\n",
      "epoch: 02, loss: -0.88676\n",
      "epoch: 03, loss: -0.89592\n",
      "epoch: 04, loss: -0.90253\n",
      "epoch: 05, loss: -0.90799\n",
      "epoch: 06, loss: -0.91236\n",
      "epoch: 07, loss: -0.91603\n",
      "epoch: 08, loss: -0.91894\n",
      "epoch: 09, loss: -0.92180\n",
      "torch.Size([1024, 64])\n"
     ]
    },
    {
     "name": "stderr",
     "output_type": "stream",
     "text": [
      " 43%|████▎     | 425/999 [8:29:06<11:11:03, 70.15s/it]"
     ]
    },
    {
     "name": "stdout",
     "output_type": "stream",
     "text": [
      "eigenvalues shape torch.Size([5]) eigenvectors shape torch.Size([5, 1024])\n",
      "425 /home/phdcs2/Hard_Disk/Datasets/Deep-Spectral-Segmentation/data/object-segmentation/ECSSD/features/0427_resized.pth\n",
      "dict_keys(['k', 'indices', 'file', 'id', 'model_name', 'patch_size', 'shape'])\n",
      "0427_resized\n",
      "Starting Training\n",
      "epoch: 00, loss: -0.79084\n",
      "epoch: 01, loss: -0.83438\n",
      "epoch: 02, loss: -0.85114\n",
      "epoch: 03, loss: -0.86188\n",
      "epoch: 04, loss: -0.86978\n",
      "epoch: 05, loss: -0.87623\n",
      "epoch: 06, loss: -0.88170\n",
      "epoch: 07, loss: -0.88613\n",
      "epoch: 08, loss: -0.89008\n",
      "epoch: 09, loss: -0.89357\n",
      "torch.Size([1024, 64])\n"
     ]
    },
    {
     "name": "stderr",
     "output_type": "stream",
     "text": [
      " 43%|████▎     | 426/999 [8:30:20<11:19:34, 71.16s/it]"
     ]
    },
    {
     "name": "stdout",
     "output_type": "stream",
     "text": [
      "eigenvalues shape torch.Size([5]) eigenvectors shape torch.Size([5, 1024])\n",
      "426 /home/phdcs2/Hard_Disk/Datasets/Deep-Spectral-Segmentation/data/object-segmentation/ECSSD/features/0428_resized.pth\n",
      "dict_keys(['k', 'indices', 'file', 'id', 'model_name', 'patch_size', 'shape'])\n",
      "0428_resized\n",
      "Starting Training\n",
      "epoch: 00, loss: -0.83277\n",
      "epoch: 01, loss: -0.86904\n",
      "epoch: 02, loss: -0.88200\n",
      "epoch: 03, loss: -0.89055\n",
      "epoch: 04, loss: -0.89705\n",
      "epoch: 05, loss: -0.90201\n",
      "epoch: 06, loss: -0.90619\n",
      "epoch: 07, loss: -0.91011\n",
      "epoch: 08, loss: -0.91306\n",
      "epoch: 09, loss: -0.91594\n",
      "torch.Size([1024, 64])\n"
     ]
    },
    {
     "name": "stderr",
     "output_type": "stream",
     "text": [
      " 43%|████▎     | 427/999 [8:31:16<10:34:33, 66.56s/it]"
     ]
    },
    {
     "name": "stdout",
     "output_type": "stream",
     "text": [
      "eigenvalues shape torch.Size([5]) eigenvectors shape torch.Size([5, 1024])\n",
      "427 /home/phdcs2/Hard_Disk/Datasets/Deep-Spectral-Segmentation/data/object-segmentation/ECSSD/features/0429_resized.pth\n",
      "dict_keys(['k', 'indices', 'file', 'id', 'model_name', 'patch_size', 'shape'])\n",
      "0429_resized\n"
     ]
    },
    {
     "name": "stderr",
     "output_type": "stream",
     "text": [
      "/home/phdcs2/Hard_Disk/Projects/T2I/deep-spectral-segmentation/venv/lib/python3.8/site-packages/sklearn/decomposition/_pca.py:642: RuntimeWarning: invalid value encountered in divide\n",
      "  self.explained_variance_ratio_ = self.explained_variance_ / total_var\n"
     ]
    },
    {
     "name": "stdout",
     "output_type": "stream",
     "text": [
      "Starting Training\n",
      "epoch: 00, loss: -0.90588\n",
      "epoch: 01, loss: -0.92837\n",
      "epoch: 02, loss: -0.93439\n",
      "epoch: 03, loss: -0.93819\n",
      "epoch: 04, loss: -0.94107\n",
      "epoch: 05, loss: -0.94334\n",
      "epoch: 06, loss: -0.94527\n",
      "epoch: 07, loss: -0.94686\n",
      "epoch: 08, loss: -0.94821\n",
      "epoch: 09, loss: -0.94949\n",
      "torch.Size([1024, 64])\n"
     ]
    },
    {
     "name": "stderr",
     "output_type": "stream",
     "text": [
      " 43%|████▎     | 428/999 [8:32:14<10:09:58, 64.10s/it]"
     ]
    },
    {
     "name": "stdout",
     "output_type": "stream",
     "text": [
      "eigenvalues shape torch.Size([5]) eigenvectors shape torch.Size([5, 1024])\n",
      "428 /home/phdcs2/Hard_Disk/Datasets/Deep-Spectral-Segmentation/data/object-segmentation/ECSSD/features/0430_resized.pth\n",
      "dict_keys(['k', 'indices', 'file', 'id', 'model_name', 'patch_size', 'shape'])\n",
      "0430_resized\n",
      "Starting Training\n",
      "epoch: 00, loss: -0.84289\n",
      "epoch: 01, loss: -0.88235\n",
      "epoch: 02, loss: -0.89508\n",
      "epoch: 03, loss: -0.90353\n",
      "epoch: 04, loss: -0.91024\n",
      "epoch: 05, loss: -0.91521\n",
      "epoch: 06, loss: -0.91932\n",
      "epoch: 07, loss: -0.92278\n",
      "epoch: 08, loss: -0.92566\n",
      "epoch: 09, loss: -0.92825\n",
      "torch.Size([1024, 64])\n"
     ]
    },
    {
     "name": "stderr",
     "output_type": "stream",
     "text": [
      " 43%|████▎     | 429/999 [8:33:11<9:49:02, 62.00s/it] "
     ]
    },
    {
     "name": "stdout",
     "output_type": "stream",
     "text": [
      "eigenvalues shape torch.Size([5]) eigenvectors shape torch.Size([5, 1024])\n",
      "429 /home/phdcs2/Hard_Disk/Datasets/Deep-Spectral-Segmentation/data/object-segmentation/ECSSD/features/0431_resized.pth\n",
      "dict_keys(['k', 'indices', 'file', 'id', 'model_name', 'patch_size', 'shape'])\n",
      "0431_resized\n"
     ]
    },
    {
     "name": "stderr",
     "output_type": "stream",
     "text": [
      "/home/phdcs2/Hard_Disk/Projects/T2I/deep-spectral-segmentation/venv/lib/python3.8/site-packages/sklearn/decomposition/_pca.py:642: RuntimeWarning: invalid value encountered in divide\n",
      "  self.explained_variance_ratio_ = self.explained_variance_ / total_var\n"
     ]
    },
    {
     "name": "stdout",
     "output_type": "stream",
     "text": [
      "Starting Training\n",
      "epoch: 00, loss: -0.89133\n",
      "epoch: 01, loss: -0.91644\n",
      "epoch: 02, loss: -0.92448\n",
      "epoch: 03, loss: -0.92960\n",
      "epoch: 04, loss: -0.93341\n",
      "epoch: 05, loss: -0.93638\n",
      "epoch: 06, loss: -0.93887\n",
      "epoch: 07, loss: -0.94091\n",
      "epoch: 08, loss: -0.94267\n",
      "epoch: 09, loss: -0.94424\n",
      "torch.Size([1024, 64])\n"
     ]
    },
    {
     "name": "stderr",
     "output_type": "stream",
     "text": [
      " 43%|████▎     | 430/999 [8:34:13<9:48:15, 62.03s/it]"
     ]
    },
    {
     "name": "stdout",
     "output_type": "stream",
     "text": [
      "eigenvalues shape torch.Size([5]) eigenvectors shape torch.Size([5, 1024])\n",
      "430 /home/phdcs2/Hard_Disk/Datasets/Deep-Spectral-Segmentation/data/object-segmentation/ECSSD/features/0432_resized.pth\n",
      "dict_keys(['k', 'indices', 'file', 'id', 'model_name', 'patch_size', 'shape'])\n",
      "0432_resized\n",
      "Starting Training\n",
      "epoch: 00, loss: -0.88446\n",
      "epoch: 01, loss: -0.90980\n",
      "epoch: 02, loss: -0.91748\n",
      "epoch: 03, loss: -0.92273\n",
      "epoch: 04, loss: -0.92653\n",
      "epoch: 05, loss: -0.92966\n",
      "epoch: 06, loss: -0.93213\n",
      "epoch: 07, loss: -0.93432\n",
      "epoch: 08, loss: -0.93624\n",
      "epoch: 09, loss: -0.93786\n",
      "torch.Size([1024, 64])\n"
     ]
    },
    {
     "name": "stderr",
     "output_type": "stream",
     "text": [
      " 43%|████▎     | 431/999 [8:35:26<10:16:55, 65.17s/it]"
     ]
    },
    {
     "name": "stdout",
     "output_type": "stream",
     "text": [
      "eigenvalues shape torch.Size([5]) eigenvectors shape torch.Size([5, 1024])\n",
      "431 /home/phdcs2/Hard_Disk/Datasets/Deep-Spectral-Segmentation/data/object-segmentation/ECSSD/features/0433_resized.pth\n",
      "dict_keys(['k', 'indices', 'file', 'id', 'model_name', 'patch_size', 'shape'])\n",
      "0433_resized\n"
     ]
    },
    {
     "name": "stderr",
     "output_type": "stream",
     "text": [
      "/home/phdcs2/Hard_Disk/Projects/T2I/deep-spectral-segmentation/venv/lib/python3.8/site-packages/sklearn/decomposition/_pca.py:642: RuntimeWarning: invalid value encountered in divide\n",
      "  self.explained_variance_ratio_ = self.explained_variance_ / total_var\n"
     ]
    },
    {
     "name": "stdout",
     "output_type": "stream",
     "text": [
      "Starting Training\n",
      "epoch: 00, loss: -0.89278\n",
      "epoch: 01, loss: -0.91538\n",
      "epoch: 02, loss: -0.92136\n",
      "epoch: 03, loss: -0.92529\n",
      "epoch: 04, loss: -0.92844\n",
      "epoch: 05, loss: -0.93083\n",
      "epoch: 06, loss: -0.93285\n",
      "epoch: 07, loss: -0.93467\n",
      "epoch: 08, loss: -0.93625\n",
      "epoch: 09, loss: -0.93764\n",
      "torch.Size([1024, 64])\n"
     ]
    },
    {
     "name": "stderr",
     "output_type": "stream",
     "text": [
      " 43%|████▎     | 432/999 [8:36:40<10:42:29, 67.99s/it]"
     ]
    },
    {
     "name": "stdout",
     "output_type": "stream",
     "text": [
      "eigenvalues shape torch.Size([5]) eigenvectors shape torch.Size([5, 1024])\n",
      "432 /home/phdcs2/Hard_Disk/Datasets/Deep-Spectral-Segmentation/data/object-segmentation/ECSSD/features/0434_resized.pth\n",
      "dict_keys(['k', 'indices', 'file', 'id', 'model_name', 'patch_size', 'shape'])\n",
      "0434_resized\n"
     ]
    },
    {
     "name": "stderr",
     "output_type": "stream",
     "text": [
      "/home/phdcs2/Hard_Disk/Projects/T2I/deep-spectral-segmentation/venv/lib/python3.8/site-packages/sklearn/decomposition/_pca.py:642: RuntimeWarning: invalid value encountered in divide\n",
      "  self.explained_variance_ratio_ = self.explained_variance_ / total_var\n"
     ]
    },
    {
     "name": "stdout",
     "output_type": "stream",
     "text": [
      "Starting Training\n",
      "epoch: 00, loss: -0.88802\n",
      "epoch: 01, loss: -0.91243\n",
      "epoch: 02, loss: -0.91904\n",
      "epoch: 03, loss: -0.92333\n",
      "epoch: 04, loss: -0.92660\n",
      "epoch: 05, loss: -0.92918\n",
      "epoch: 06, loss: -0.93141\n",
      "epoch: 07, loss: -0.93320\n",
      "epoch: 08, loss: -0.93473\n",
      "epoch: 09, loss: -0.93619\n",
      "torch.Size([1024, 64])\n"
     ]
    },
    {
     "name": "stderr",
     "output_type": "stream",
     "text": [
      " 43%|████▎     | 433/999 [8:37:55<11:00:56, 70.06s/it]"
     ]
    },
    {
     "name": "stdout",
     "output_type": "stream",
     "text": [
      "eigenvalues shape torch.Size([5]) eigenvectors shape torch.Size([5, 1024])\n",
      "433 /home/phdcs2/Hard_Disk/Datasets/Deep-Spectral-Segmentation/data/object-segmentation/ECSSD/features/0435_resized.pth\n",
      "dict_keys(['k', 'indices', 'file', 'id', 'model_name', 'patch_size', 'shape'])\n",
      "0435_resized\n"
     ]
    },
    {
     "name": "stderr",
     "output_type": "stream",
     "text": [
      "/home/phdcs2/Hard_Disk/Projects/T2I/deep-spectral-segmentation/venv/lib/python3.8/site-packages/sklearn/decomposition/_pca.py:642: RuntimeWarning: invalid value encountered in divide\n",
      "  self.explained_variance_ratio_ = self.explained_variance_ / total_var\n"
     ]
    },
    {
     "name": "stdout",
     "output_type": "stream",
     "text": [
      "Starting Training\n",
      "epoch: 00, loss: -0.90240\n",
      "epoch: 01, loss: -0.92332\n",
      "epoch: 02, loss: -0.92896\n",
      "epoch: 03, loss: -0.93287\n",
      "epoch: 04, loss: -0.93568\n",
      "epoch: 05, loss: -0.93791\n",
      "epoch: 06, loss: -0.93980\n",
      "epoch: 07, loss: -0.94141\n",
      "epoch: 08, loss: -0.94284\n",
      "epoch: 09, loss: -0.94405\n",
      "torch.Size([1024, 64])\n"
     ]
    },
    {
     "name": "stderr",
     "output_type": "stream",
     "text": [
      " 43%|████▎     | 434/999 [8:39:07<11:05:21, 70.66s/it]"
     ]
    },
    {
     "name": "stdout",
     "output_type": "stream",
     "text": [
      "eigenvalues shape torch.Size([5]) eigenvectors shape torch.Size([5, 1024])\n",
      "434 /home/phdcs2/Hard_Disk/Datasets/Deep-Spectral-Segmentation/data/object-segmentation/ECSSD/features/0436_resized.pth\n",
      "dict_keys(['k', 'indices', 'file', 'id', 'model_name', 'patch_size', 'shape'])\n",
      "0436_resized\n",
      "Starting Training\n",
      "epoch: 00, loss: -0.88699\n",
      "epoch: 01, loss: -0.91288\n",
      "epoch: 02, loss: -0.92037\n",
      "epoch: 03, loss: -0.92539\n",
      "epoch: 04, loss: -0.92912\n",
      "epoch: 05, loss: -0.93212\n",
      "epoch: 06, loss: -0.93457\n",
      "epoch: 07, loss: -0.93667\n",
      "epoch: 08, loss: -0.93846\n",
      "epoch: 09, loss: -0.94006\n",
      "torch.Size([1024, 64])\n"
     ]
    },
    {
     "name": "stderr",
     "output_type": "stream",
     "text": [
      " 44%|████▎     | 435/999 [8:40:18<11:04:21, 70.68s/it]"
     ]
    },
    {
     "name": "stdout",
     "output_type": "stream",
     "text": [
      "eigenvalues shape torch.Size([5]) eigenvectors shape torch.Size([5, 1024])\n",
      "435 /home/phdcs2/Hard_Disk/Datasets/Deep-Spectral-Segmentation/data/object-segmentation/ECSSD/features/0437_resized.pth\n",
      "dict_keys(['k', 'indices', 'file', 'id', 'model_name', 'patch_size', 'shape'])\n",
      "0437_resized\n",
      "Starting Training\n",
      "epoch: 00, loss: -0.78402\n",
      "epoch: 01, loss: -0.83167\n",
      "epoch: 02, loss: -0.84881\n",
      "epoch: 03, loss: -0.86063\n",
      "epoch: 04, loss: -0.86923\n",
      "epoch: 05, loss: -0.87637\n",
      "epoch: 06, loss: -0.88185\n",
      "epoch: 07, loss: -0.88700\n",
      "epoch: 08, loss: -0.89136\n",
      "epoch: 09, loss: -0.89510\n",
      "torch.Size([1024, 64])\n"
     ]
    },
    {
     "name": "stderr",
     "output_type": "stream",
     "text": [
      " 44%|████▎     | 436/999 [8:41:23<10:48:17, 69.09s/it]"
     ]
    },
    {
     "name": "stdout",
     "output_type": "stream",
     "text": [
      "eigenvalues shape torch.Size([5]) eigenvectors shape torch.Size([5, 1024])\n",
      "436 /home/phdcs2/Hard_Disk/Datasets/Deep-Spectral-Segmentation/data/object-segmentation/ECSSD/features/0438_resized.pth\n",
      "dict_keys(['k', 'indices', 'file', 'id', 'model_name', 'patch_size', 'shape'])\n",
      "0438_resized\n",
      "Starting Training\n",
      "epoch: 00, loss: -0.81555\n",
      "epoch: 01, loss: -0.85309\n",
      "epoch: 02, loss: -0.86750\n",
      "epoch: 03, loss: -0.87731\n",
      "epoch: 04, loss: -0.88445\n",
      "epoch: 05, loss: -0.89002\n",
      "epoch: 06, loss: -0.89491\n",
      "epoch: 07, loss: -0.89892\n",
      "epoch: 08, loss: -0.90240\n",
      "epoch: 09, loss: -0.90564\n",
      "torch.Size([1024, 64])\n"
     ]
    },
    {
     "name": "stderr",
     "output_type": "stream",
     "text": [
      " 44%|████▎     | 437/999 [8:42:34<10:50:59, 69.50s/it]"
     ]
    },
    {
     "name": "stdout",
     "output_type": "stream",
     "text": [
      "eigenvalues shape torch.Size([5]) eigenvectors shape torch.Size([5, 1024])\n",
      "437 /home/phdcs2/Hard_Disk/Datasets/Deep-Spectral-Segmentation/data/object-segmentation/ECSSD/features/0439_resized.pth\n",
      "dict_keys(['k', 'indices', 'file', 'id', 'model_name', 'patch_size', 'shape'])\n",
      "0439_resized\n",
      "Starting Training\n",
      "epoch: 00, loss: -0.89255\n",
      "epoch: 01, loss: -0.91739\n",
      "epoch: 02, loss: -0.92411\n",
      "epoch: 03, loss: -0.92855\n",
      "epoch: 04, loss: -0.93184\n",
      "epoch: 05, loss: -0.93448\n",
      "epoch: 06, loss: -0.93661\n",
      "epoch: 07, loss: -0.93846\n",
      "epoch: 08, loss: -0.94007\n",
      "epoch: 09, loss: -0.94152\n",
      "torch.Size([1024, 64])\n"
     ]
    },
    {
     "name": "stderr",
     "output_type": "stream",
     "text": [
      " 44%|████▍     | 438/999 [8:43:48<11:04:06, 71.03s/it]"
     ]
    },
    {
     "name": "stdout",
     "output_type": "stream",
     "text": [
      "eigenvalues shape torch.Size([5]) eigenvectors shape torch.Size([5, 1024])\n",
      "438 /home/phdcs2/Hard_Disk/Datasets/Deep-Spectral-Segmentation/data/object-segmentation/ECSSD/features/0440_resized.pth\n",
      "dict_keys(['k', 'indices', 'file', 'id', 'model_name', 'patch_size', 'shape'])\n",
      "0440_resized\n",
      "Starting Training\n",
      "epoch: 00, loss: -0.79543\n",
      "epoch: 01, loss: -0.83959\n",
      "epoch: 02, loss: -0.85561\n",
      "epoch: 03, loss: -0.86662\n",
      "epoch: 04, loss: -0.87410\n",
      "epoch: 05, loss: -0.88020\n",
      "epoch: 06, loss: -0.88543\n",
      "epoch: 07, loss: -0.89007\n",
      "epoch: 08, loss: -0.89414\n",
      "epoch: 09, loss: -0.89741\n",
      "torch.Size([1024, 64])\n"
     ]
    },
    {
     "name": "stderr",
     "output_type": "stream",
     "text": [
      " 44%|████▍     | 439/999 [8:45:02<11:11:26, 71.94s/it]"
     ]
    },
    {
     "name": "stdout",
     "output_type": "stream",
     "text": [
      "eigenvalues shape torch.Size([5]) eigenvectors shape torch.Size([5, 1024])\n",
      "439 /home/phdcs2/Hard_Disk/Datasets/Deep-Spectral-Segmentation/data/object-segmentation/ECSSD/features/0441_resized.pth\n",
      "dict_keys(['k', 'indices', 'file', 'id', 'model_name', 'patch_size', 'shape'])\n",
      "0441_resized\n",
      "Starting Training\n",
      "epoch: 00, loss: -0.82368\n",
      "epoch: 01, loss: -0.86413\n",
      "epoch: 02, loss: -0.87919\n",
      "epoch: 03, loss: -0.88903\n",
      "epoch: 04, loss: -0.89618\n",
      "epoch: 05, loss: -0.90154\n",
      "epoch: 06, loss: -0.90610\n",
      "epoch: 07, loss: -0.90963\n",
      "epoch: 08, loss: -0.91283\n",
      "epoch: 09, loss: -0.91555\n",
      "torch.Size([1024, 64])\n"
     ]
    },
    {
     "name": "stderr",
     "output_type": "stream",
     "text": [
      " 44%|████▍     | 440/999 [8:46:12<11:04:17, 71.30s/it]"
     ]
    },
    {
     "name": "stdout",
     "output_type": "stream",
     "text": [
      "eigenvalues shape torch.Size([5]) eigenvectors shape torch.Size([5, 1024])\n",
      "440 /home/phdcs2/Hard_Disk/Datasets/Deep-Spectral-Segmentation/data/object-segmentation/ECSSD/features/0442_resized.pth\n",
      "dict_keys(['k', 'indices', 'file', 'id', 'model_name', 'patch_size', 'shape'])\n",
      "0442_resized\n"
     ]
    },
    {
     "name": "stderr",
     "output_type": "stream",
     "text": [
      "/home/phdcs2/Hard_Disk/Projects/T2I/deep-spectral-segmentation/venv/lib/python3.8/site-packages/sklearn/decomposition/_pca.py:642: RuntimeWarning: invalid value encountered in divide\n",
      "  self.explained_variance_ratio_ = self.explained_variance_ / total_var\n"
     ]
    },
    {
     "name": "stdout",
     "output_type": "stream",
     "text": [
      "Starting Training\n",
      "epoch: 00, loss: -0.89113\n",
      "epoch: 01, loss: -0.91621\n",
      "epoch: 02, loss: -0.92404\n",
      "epoch: 03, loss: -0.92933\n",
      "epoch: 04, loss: -0.93332\n",
      "epoch: 05, loss: -0.93646\n",
      "epoch: 06, loss: -0.93913\n",
      "epoch: 07, loss: -0.94131\n",
      "epoch: 08, loss: -0.94321\n",
      "epoch: 09, loss: -0.94492\n",
      "torch.Size([1024, 64])\n"
     ]
    },
    {
     "name": "stderr",
     "output_type": "stream",
     "text": [
      " 44%|████▍     | 441/999 [8:47:19<10:50:52, 69.99s/it]"
     ]
    },
    {
     "name": "stdout",
     "output_type": "stream",
     "text": [
      "eigenvalues shape torch.Size([5]) eigenvectors shape torch.Size([5, 1024])\n",
      "441 /home/phdcs2/Hard_Disk/Datasets/Deep-Spectral-Segmentation/data/object-segmentation/ECSSD/features/0443_resized.pth\n",
      "dict_keys(['k', 'indices', 'file', 'id', 'model_name', 'patch_size', 'shape'])\n",
      "0443_resized\n",
      "Starting Training\n",
      "epoch: 00, loss: -0.83567\n",
      "epoch: 01, loss: -0.86653\n",
      "epoch: 02, loss: -0.87591\n",
      "epoch: 03, loss: -0.88235\n",
      "epoch: 04, loss: -0.88696\n",
      "epoch: 05, loss: -0.89096\n",
      "epoch: 06, loss: -0.89428\n",
      "epoch: 07, loss: -0.89690\n",
      "epoch: 08, loss: -0.89908\n",
      "epoch: 09, loss: -0.90127\n",
      "torch.Size([1024, 64])\n"
     ]
    },
    {
     "name": "stderr",
     "output_type": "stream",
     "text": [
      " 44%|████▍     | 442/999 [8:48:28<10:46:44, 69.67s/it]"
     ]
    },
    {
     "name": "stdout",
     "output_type": "stream",
     "text": [
      "eigenvalues shape torch.Size([5]) eigenvectors shape torch.Size([5, 1024])\n",
      "442 /home/phdcs2/Hard_Disk/Datasets/Deep-Spectral-Segmentation/data/object-segmentation/ECSSD/features/0444_resized.pth\n",
      "dict_keys(['k', 'indices', 'file', 'id', 'model_name', 'patch_size', 'shape'])\n",
      "0444_resized\n"
     ]
    },
    {
     "name": "stderr",
     "output_type": "stream",
     "text": [
      "/home/phdcs2/Hard_Disk/Projects/T2I/deep-spectral-segmentation/venv/lib/python3.8/site-packages/sklearn/decomposition/_pca.py:642: RuntimeWarning: invalid value encountered in divide\n",
      "  self.explained_variance_ratio_ = self.explained_variance_ / total_var\n"
     ]
    },
    {
     "name": "stdout",
     "output_type": "stream",
     "text": [
      "Starting Training\n",
      "epoch: 00, loss: -0.89297\n",
      "epoch: 01, loss: -0.91698\n",
      "epoch: 02, loss: -0.92399\n",
      "epoch: 03, loss: -0.92854\n",
      "epoch: 04, loss: -0.93189\n",
      "epoch: 05, loss: -0.93462\n",
      "epoch: 06, loss: -0.93671\n",
      "epoch: 07, loss: -0.93853\n",
      "epoch: 08, loss: -0.94018\n",
      "epoch: 09, loss: -0.94157\n",
      "torch.Size([1024, 64])\n"
     ]
    },
    {
     "name": "stderr",
     "output_type": "stream",
     "text": [
      " 44%|████▍     | 443/999 [8:49:40<10:52:17, 70.39s/it]"
     ]
    },
    {
     "name": "stdout",
     "output_type": "stream",
     "text": [
      "eigenvalues shape torch.Size([5]) eigenvectors shape torch.Size([5, 1024])\n",
      "443 /home/phdcs2/Hard_Disk/Datasets/Deep-Spectral-Segmentation/data/object-segmentation/ECSSD/features/0445_resized.pth\n",
      "dict_keys(['k', 'indices', 'file', 'id', 'model_name', 'patch_size', 'shape'])\n",
      "0445_resized\n",
      "Starting Training\n",
      "epoch: 00, loss: -0.81854\n",
      "epoch: 01, loss: -0.85802\n",
      "epoch: 02, loss: -0.87230\n",
      "epoch: 03, loss: -0.88141\n",
      "epoch: 04, loss: -0.88823\n",
      "epoch: 05, loss: -0.89357\n",
      "epoch: 06, loss: -0.89841\n",
      "epoch: 07, loss: -0.90231\n",
      "epoch: 08, loss: -0.90572\n",
      "epoch: 09, loss: -0.90898\n",
      "torch.Size([1024, 64])\n"
     ]
    },
    {
     "name": "stderr",
     "output_type": "stream",
     "text": [
      " 44%|████▍     | 444/999 [8:50:53<10:56:48, 71.01s/it]"
     ]
    },
    {
     "name": "stdout",
     "output_type": "stream",
     "text": [
      "eigenvalues shape torch.Size([5]) eigenvectors shape torch.Size([5, 1024])\n",
      "444 /home/phdcs2/Hard_Disk/Datasets/Deep-Spectral-Segmentation/data/object-segmentation/ECSSD/features/0446_resized.pth\n",
      "dict_keys(['k', 'indices', 'file', 'id', 'model_name', 'patch_size', 'shape'])\n",
      "0446_resized\n"
     ]
    },
    {
     "name": "stderr",
     "output_type": "stream",
     "text": [
      "/home/phdcs2/Hard_Disk/Projects/T2I/deep-spectral-segmentation/venv/lib/python3.8/site-packages/sklearn/decomposition/_pca.py:642: RuntimeWarning: invalid value encountered in divide\n",
      "  self.explained_variance_ratio_ = self.explained_variance_ / total_var\n"
     ]
    },
    {
     "name": "stdout",
     "output_type": "stream",
     "text": [
      "Starting Training\n",
      "epoch: 00, loss: -0.90972\n",
      "epoch: 01, loss: -0.93022\n",
      "epoch: 02, loss: -0.93591\n",
      "epoch: 03, loss: -0.93970\n",
      "epoch: 04, loss: -0.94251\n",
      "epoch: 05, loss: -0.94474\n",
      "epoch: 06, loss: -0.94659\n",
      "epoch: 07, loss: -0.94816\n",
      "epoch: 08, loss: -0.94957\n",
      "epoch: 09, loss: -0.95080\n",
      "torch.Size([1024, 64])\n"
     ]
    },
    {
     "name": "stderr",
     "output_type": "stream",
     "text": [
      " 45%|████▍     | 445/999 [8:52:02<10:50:32, 70.46s/it]"
     ]
    },
    {
     "name": "stdout",
     "output_type": "stream",
     "text": [
      "eigenvalues shape torch.Size([5]) eigenvectors shape torch.Size([5, 1024])\n",
      "445 /home/phdcs2/Hard_Disk/Datasets/Deep-Spectral-Segmentation/data/object-segmentation/ECSSD/features/0447_resized.pth\n",
      "dict_keys(['k', 'indices', 'file', 'id', 'model_name', 'patch_size', 'shape'])\n",
      "0447_resized\n",
      "Starting Training\n",
      "epoch: 00, loss: -0.81172\n",
      "epoch: 01, loss: -0.84590\n",
      "epoch: 02, loss: -0.85936\n",
      "epoch: 03, loss: -0.86873\n",
      "epoch: 04, loss: -0.87579\n",
      "epoch: 05, loss: -0.88152\n",
      "epoch: 06, loss: -0.88646\n",
      "epoch: 07, loss: -0.89077\n",
      "epoch: 08, loss: -0.89439\n",
      "epoch: 09, loss: -0.89769\n",
      "torch.Size([1024, 64])\n"
     ]
    },
    {
     "name": "stderr",
     "output_type": "stream",
     "text": [
      " 45%|████▍     | 446/999 [8:53:11<10:46:24, 70.14s/it]"
     ]
    },
    {
     "name": "stdout",
     "output_type": "stream",
     "text": [
      "eigenvalues shape torch.Size([5]) eigenvectors shape torch.Size([5, 1024])\n",
      "446 /home/phdcs2/Hard_Disk/Datasets/Deep-Spectral-Segmentation/data/object-segmentation/ECSSD/features/0448_resized.pth\n",
      "dict_keys(['k', 'indices', 'file', 'id', 'model_name', 'patch_size', 'shape'])\n",
      "0448_resized\n"
     ]
    },
    {
     "name": "stderr",
     "output_type": "stream",
     "text": [
      "/home/phdcs2/Hard_Disk/Projects/T2I/deep-spectral-segmentation/venv/lib/python3.8/site-packages/sklearn/decomposition/_pca.py:642: RuntimeWarning: invalid value encountered in divide\n",
      "  self.explained_variance_ratio_ = self.explained_variance_ / total_var\n"
     ]
    },
    {
     "name": "stdout",
     "output_type": "stream",
     "text": [
      "Starting Training\n",
      "epoch: 00, loss: -0.91284\n",
      "epoch: 01, loss: -0.93621\n",
      "epoch: 02, loss: -0.94236\n",
      "epoch: 03, loss: -0.94636\n",
      "epoch: 04, loss: -0.94918\n",
      "epoch: 05, loss: -0.95143\n",
      "epoch: 06, loss: -0.95326\n",
      "epoch: 07, loss: -0.95483\n",
      "epoch: 08, loss: -0.95615\n",
      "epoch: 09, loss: -0.95735\n",
      "torch.Size([1024, 64])\n"
     ]
    },
    {
     "name": "stderr",
     "output_type": "stream",
     "text": [
      " 45%|████▍     | 447/999 [8:54:15<10:28:07, 68.27s/it]"
     ]
    },
    {
     "name": "stdout",
     "output_type": "stream",
     "text": [
      "eigenvalues shape torch.Size([5]) eigenvectors shape torch.Size([5, 1024])\n",
      "447 /home/phdcs2/Hard_Disk/Datasets/Deep-Spectral-Segmentation/data/object-segmentation/ECSSD/features/0449_resized.pth\n",
      "dict_keys(['k', 'indices', 'file', 'id', 'model_name', 'patch_size', 'shape'])\n",
      "0449_resized\n"
     ]
    },
    {
     "name": "stderr",
     "output_type": "stream",
     "text": [
      "/home/phdcs2/Hard_Disk/Projects/T2I/deep-spectral-segmentation/venv/lib/python3.8/site-packages/sklearn/decomposition/_pca.py:642: RuntimeWarning: invalid value encountered in divide\n",
      "  self.explained_variance_ratio_ = self.explained_variance_ / total_var\n"
     ]
    },
    {
     "name": "stdout",
     "output_type": "stream",
     "text": [
      "Starting Training\n",
      "epoch: 00, loss: -0.91376\n",
      "epoch: 01, loss: -0.93501\n",
      "epoch: 02, loss: -0.94001\n",
      "epoch: 03, loss: -0.94326\n",
      "epoch: 04, loss: -0.94574\n",
      "epoch: 05, loss: -0.94766\n",
      "epoch: 06, loss: -0.94926\n",
      "epoch: 07, loss: -0.95063\n",
      "epoch: 08, loss: -0.95179\n",
      "epoch: 09, loss: -0.95287\n",
      "torch.Size([1024, 64])\n"
     ]
    },
    {
     "name": "stderr",
     "output_type": "stream",
     "text": [
      " 45%|████▍     | 448/999 [8:55:31<10:48:05, 70.57s/it]"
     ]
    },
    {
     "name": "stdout",
     "output_type": "stream",
     "text": [
      "eigenvalues shape torch.Size([5]) eigenvectors shape torch.Size([5, 1024])\n",
      "448 /home/phdcs2/Hard_Disk/Datasets/Deep-Spectral-Segmentation/data/object-segmentation/ECSSD/features/0450_resized.pth\n",
      "dict_keys(['k', 'indices', 'file', 'id', 'model_name', 'patch_size', 'shape'])\n",
      "0450_resized\n"
     ]
    },
    {
     "name": "stderr",
     "output_type": "stream",
     "text": [
      "/home/phdcs2/Hard_Disk/Projects/T2I/deep-spectral-segmentation/venv/lib/python3.8/site-packages/sklearn/decomposition/_pca.py:642: RuntimeWarning: invalid value encountered in divide\n",
      "  self.explained_variance_ratio_ = self.explained_variance_ / total_var\n"
     ]
    },
    {
     "name": "stdout",
     "output_type": "stream",
     "text": [
      "Starting Training\n",
      "epoch: 00, loss: -0.90521\n",
      "epoch: 01, loss: -0.93003\n",
      "epoch: 02, loss: -0.93676\n",
      "epoch: 03, loss: -0.94106\n",
      "epoch: 04, loss: -0.94420\n",
      "epoch: 05, loss: -0.94662\n",
      "epoch: 06, loss: -0.94866\n",
      "epoch: 07, loss: -0.95030\n",
      "epoch: 08, loss: -0.95182\n",
      "epoch: 09, loss: -0.95306\n",
      "torch.Size([1024, 64])\n"
     ]
    },
    {
     "name": "stderr",
     "output_type": "stream",
     "text": [
      " 45%|████▍     | 449/999 [8:56:47<11:00:52, 72.10s/it]"
     ]
    },
    {
     "name": "stdout",
     "output_type": "stream",
     "text": [
      "eigenvalues shape torch.Size([5]) eigenvectors shape torch.Size([5, 1024])\n",
      "449 /home/phdcs2/Hard_Disk/Datasets/Deep-Spectral-Segmentation/data/object-segmentation/ECSSD/features/0451_resized.pth\n",
      "dict_keys(['k', 'indices', 'file', 'id', 'model_name', 'patch_size', 'shape'])\n",
      "0451_resized\n",
      "Starting Training\n",
      "epoch: 00, loss: -0.86286\n",
      "epoch: 01, loss: -0.89560\n",
      "epoch: 02, loss: -0.90640\n",
      "epoch: 03, loss: -0.91350\n",
      "epoch: 04, loss: -0.91885\n",
      "epoch: 05, loss: -0.92294\n",
      "epoch: 06, loss: -0.92642\n",
      "epoch: 07, loss: -0.92942\n",
      "epoch: 08, loss: -0.93188\n",
      "epoch: 09, loss: -0.93414\n",
      "torch.Size([1024, 64])\n"
     ]
    },
    {
     "name": "stderr",
     "output_type": "stream",
     "text": [
      " 45%|████▌     | 450/999 [8:58:06<11:20:59, 74.43s/it]"
     ]
    },
    {
     "name": "stdout",
     "output_type": "stream",
     "text": [
      "eigenvalues shape torch.Size([5]) eigenvectors shape torch.Size([5, 1024])\n",
      "450 /home/phdcs2/Hard_Disk/Datasets/Deep-Spectral-Segmentation/data/object-segmentation/ECSSD/features/0452_resized.pth\n",
      "dict_keys(['k', 'indices', 'file', 'id', 'model_name', 'patch_size', 'shape'])\n",
      "0452_resized\n",
      "Starting Training\n",
      "epoch: 00, loss: -0.91255\n",
      "epoch: 01, loss: -0.93546\n",
      "epoch: 02, loss: -0.94123\n",
      "epoch: 03, loss: -0.94516\n",
      "epoch: 04, loss: -0.94806\n",
      "epoch: 05, loss: -0.95029\n",
      "epoch: 06, loss: -0.95215\n",
      "epoch: 07, loss: -0.95374\n",
      "epoch: 08, loss: -0.95513\n",
      "epoch: 09, loss: -0.95633\n",
      "torch.Size([1024, 64])\n"
     ]
    },
    {
     "name": "stderr",
     "output_type": "stream",
     "text": [
      " 45%|████▌     | 451/999 [8:59:23<11:25:23, 75.04s/it]"
     ]
    },
    {
     "name": "stdout",
     "output_type": "stream",
     "text": [
      "eigenvalues shape torch.Size([5]) eigenvectors shape torch.Size([5, 1024])\n",
      "451 /home/phdcs2/Hard_Disk/Datasets/Deep-Spectral-Segmentation/data/object-segmentation/ECSSD/features/0453_resized.pth\n",
      "dict_keys(['k', 'indices', 'file', 'id', 'model_name', 'patch_size', 'shape'])\n",
      "0453_resized\n",
      "Starting Training\n",
      "epoch: 00, loss: -0.80711\n",
      "epoch: 01, loss: -0.84186\n",
      "epoch: 02, loss: -0.85514\n",
      "epoch: 03, loss: -0.86415\n",
      "epoch: 04, loss: -0.87125\n",
      "epoch: 05, loss: -0.87661\n",
      "epoch: 06, loss: -0.88117\n",
      "epoch: 07, loss: -0.88547\n",
      "epoch: 08, loss: -0.88904\n",
      "epoch: 09, loss: -0.89218\n",
      "torch.Size([1024, 64])\n"
     ]
    },
    {
     "name": "stderr",
     "output_type": "stream",
     "text": [
      " 45%|████▌     | 452/999 [9:00:39<11:26:56, 75.35s/it]"
     ]
    },
    {
     "name": "stdout",
     "output_type": "stream",
     "text": [
      "eigenvalues shape torch.Size([5]) eigenvectors shape torch.Size([5, 1024])\n",
      "452 /home/phdcs2/Hard_Disk/Datasets/Deep-Spectral-Segmentation/data/object-segmentation/ECSSD/features/0454_resized.pth\n",
      "dict_keys(['k', 'indices', 'file', 'id', 'model_name', 'patch_size', 'shape'])\n",
      "0454_resized\n",
      "Starting Training\n",
      "epoch: 00, loss: -0.80765\n",
      "epoch: 01, loss: -0.85011\n",
      "epoch: 02, loss: -0.86472\n",
      "epoch: 03, loss: -0.87377\n",
      "epoch: 04, loss: -0.88101\n",
      "epoch: 05, loss: -0.88682\n",
      "epoch: 06, loss: -0.89158\n",
      "epoch: 07, loss: -0.89538\n",
      "epoch: 08, loss: -0.89882\n",
      "epoch: 09, loss: -0.90165\n",
      "torch.Size([1024, 64])\n"
     ]
    },
    {
     "name": "stderr",
     "output_type": "stream",
     "text": [
      " 45%|████▌     | 453/999 [9:01:56<11:29:15, 75.74s/it]"
     ]
    },
    {
     "name": "stdout",
     "output_type": "stream",
     "text": [
      "eigenvalues shape torch.Size([5]) eigenvectors shape torch.Size([5, 1024])\n",
      "453 /home/phdcs2/Hard_Disk/Datasets/Deep-Spectral-Segmentation/data/object-segmentation/ECSSD/features/0455_resized.pth\n",
      "dict_keys(['k', 'indices', 'file', 'id', 'model_name', 'patch_size', 'shape'])\n",
      "0455_resized\n"
     ]
    },
    {
     "name": "stderr",
     "output_type": "stream",
     "text": [
      "/home/phdcs2/Hard_Disk/Projects/T2I/deep-spectral-segmentation/venv/lib/python3.8/site-packages/sklearn/decomposition/_pca.py:642: RuntimeWarning: invalid value encountered in divide\n",
      "  self.explained_variance_ratio_ = self.explained_variance_ / total_var\n"
     ]
    },
    {
     "name": "stdout",
     "output_type": "stream",
     "text": [
      "Starting Training\n",
      "epoch: 00, loss: -0.89818\n",
      "epoch: 01, loss: -0.92568\n",
      "epoch: 02, loss: -0.93284\n",
      "epoch: 03, loss: -0.93748\n",
      "epoch: 04, loss: -0.94092\n",
      "epoch: 05, loss: -0.94359\n",
      "epoch: 06, loss: -0.94574\n",
      "epoch: 07, loss: -0.94767\n",
      "epoch: 08, loss: -0.94920\n",
      "epoch: 09, loss: -0.95064\n",
      "torch.Size([1024, 64])\n"
     ]
    },
    {
     "name": "stderr",
     "output_type": "stream",
     "text": [
      " 45%|████▌     | 454/999 [9:03:12<11:28:21, 75.78s/it]"
     ]
    },
    {
     "name": "stdout",
     "output_type": "stream",
     "text": [
      "eigenvalues shape torch.Size([5]) eigenvectors shape torch.Size([5, 1024])\n",
      "454 /home/phdcs2/Hard_Disk/Datasets/Deep-Spectral-Segmentation/data/object-segmentation/ECSSD/features/0456_resized.pth\n",
      "dict_keys(['k', 'indices', 'file', 'id', 'model_name', 'patch_size', 'shape'])\n",
      "0456_resized\n",
      "Starting Training\n",
      "epoch: 00, loss: -0.80434\n",
      "epoch: 01, loss: -0.84600\n",
      "epoch: 02, loss: -0.86000\n",
      "epoch: 03, loss: -0.86996\n",
      "epoch: 04, loss: -0.87713\n",
      "epoch: 05, loss: -0.88302\n",
      "epoch: 06, loss: -0.88713\n",
      "epoch: 07, loss: -0.89110\n",
      "epoch: 08, loss: -0.89461\n",
      "epoch: 09, loss: -0.89775\n",
      "torch.Size([1024, 64])\n"
     ]
    },
    {
     "name": "stderr",
     "output_type": "stream",
     "text": [
      " 46%|████▌     | 455/999 [9:04:23<11:15:10, 74.47s/it]"
     ]
    },
    {
     "name": "stdout",
     "output_type": "stream",
     "text": [
      "eigenvalues shape torch.Size([5]) eigenvectors shape torch.Size([5, 1024])\n",
      "455 /home/phdcs2/Hard_Disk/Datasets/Deep-Spectral-Segmentation/data/object-segmentation/ECSSD/features/0457_resized.pth\n",
      "dict_keys(['k', 'indices', 'file', 'id', 'model_name', 'patch_size', 'shape'])\n",
      "0457_resized\n"
     ]
    },
    {
     "name": "stderr",
     "output_type": "stream",
     "text": [
      "/home/phdcs2/Hard_Disk/Projects/T2I/deep-spectral-segmentation/venv/lib/python3.8/site-packages/sklearn/decomposition/_pca.py:642: RuntimeWarning: invalid value encountered in divide\n",
      "  self.explained_variance_ratio_ = self.explained_variance_ / total_var\n"
     ]
    },
    {
     "name": "stdout",
     "output_type": "stream",
     "text": [
      "Starting Training\n",
      "epoch: 00, loss: -0.90139\n",
      "epoch: 01, loss: -0.92544\n",
      "epoch: 02, loss: -0.93233\n",
      "epoch: 03, loss: -0.93687\n",
      "epoch: 04, loss: -0.94020\n",
      "epoch: 05, loss: -0.94288\n",
      "epoch: 06, loss: -0.94494\n",
      "epoch: 07, loss: -0.94683\n",
      "epoch: 08, loss: -0.94839\n",
      "epoch: 09, loss: -0.94980\n",
      "torch.Size([1024, 64])\n"
     ]
    },
    {
     "name": "stderr",
     "output_type": "stream",
     "text": [
      " 46%|████▌     | 456/999 [9:05:27<10:45:19, 71.31s/it]"
     ]
    },
    {
     "name": "stdout",
     "output_type": "stream",
     "text": [
      "eigenvalues shape torch.Size([5]) eigenvectors shape torch.Size([5, 1024])\n",
      "456 /home/phdcs2/Hard_Disk/Datasets/Deep-Spectral-Segmentation/data/object-segmentation/ECSSD/features/0458_resized.pth\n",
      "dict_keys(['k', 'indices', 'file', 'id', 'model_name', 'patch_size', 'shape'])\n",
      "0458_resized\n"
     ]
    },
    {
     "name": "stderr",
     "output_type": "stream",
     "text": [
      "/home/phdcs2/Hard_Disk/Projects/T2I/deep-spectral-segmentation/venv/lib/python3.8/site-packages/sklearn/decomposition/_pca.py:642: RuntimeWarning: invalid value encountered in divide\n",
      "  self.explained_variance_ratio_ = self.explained_variance_ / total_var\n"
     ]
    },
    {
     "name": "stdout",
     "output_type": "stream",
     "text": [
      "Starting Training\n",
      "epoch: 00, loss: -0.90155\n",
      "epoch: 01, loss: -0.92468\n",
      "epoch: 02, loss: -0.93077\n",
      "epoch: 03, loss: -0.93491\n",
      "epoch: 04, loss: -0.93792\n",
      "epoch: 05, loss: -0.94037\n",
      "epoch: 06, loss: -0.94242\n",
      "epoch: 07, loss: -0.94410\n",
      "epoch: 08, loss: -0.94567\n",
      "epoch: 09, loss: -0.94698\n",
      "torch.Size([1024, 64])\n"
     ]
    },
    {
     "name": "stderr",
     "output_type": "stream",
     "text": [
      " 46%|████▌     | 457/999 [9:06:42<10:54:08, 72.41s/it]"
     ]
    },
    {
     "name": "stdout",
     "output_type": "stream",
     "text": [
      "eigenvalues shape torch.Size([5]) eigenvectors shape torch.Size([5, 1024])\n",
      "457 /home/phdcs2/Hard_Disk/Datasets/Deep-Spectral-Segmentation/data/object-segmentation/ECSSD/features/0459_resized.pth\n",
      "dict_keys(['k', 'indices', 'file', 'id', 'model_name', 'patch_size', 'shape'])\n",
      "0459_resized\n"
     ]
    },
    {
     "name": "stderr",
     "output_type": "stream",
     "text": [
      "/home/phdcs2/Hard_Disk/Projects/T2I/deep-spectral-segmentation/venv/lib/python3.8/site-packages/sklearn/decomposition/_pca.py:642: RuntimeWarning: invalid value encountered in divide\n",
      "  self.explained_variance_ratio_ = self.explained_variance_ / total_var\n"
     ]
    },
    {
     "name": "stdout",
     "output_type": "stream",
     "text": [
      "Starting Training\n",
      "epoch: 00, loss: -0.89893\n",
      "epoch: 01, loss: -0.91948\n",
      "epoch: 02, loss: -0.92550\n",
      "epoch: 03, loss: -0.92968\n",
      "epoch: 04, loss: -0.93279\n",
      "epoch: 05, loss: -0.93528\n",
      "epoch: 06, loss: -0.93743\n",
      "epoch: 07, loss: -0.93930\n",
      "epoch: 08, loss: -0.94083\n",
      "epoch: 09, loss: -0.94225\n",
      "torch.Size([1024, 64])\n"
     ]
    },
    {
     "name": "stderr",
     "output_type": "stream",
     "text": [
      " 46%|████▌     | 458/999 [9:07:56<10:56:21, 72.79s/it]"
     ]
    },
    {
     "name": "stdout",
     "output_type": "stream",
     "text": [
      "eigenvalues shape torch.Size([5]) eigenvectors shape torch.Size([5, 1024])\n",
      "458 /home/phdcs2/Hard_Disk/Datasets/Deep-Spectral-Segmentation/data/object-segmentation/ECSSD/features/0460_resized.pth\n",
      "dict_keys(['k', 'indices', 'file', 'id', 'model_name', 'patch_size', 'shape'])\n",
      "0460_resized\n",
      "Starting Training\n",
      "epoch: 00, loss: -0.79857\n",
      "epoch: 01, loss: -0.83372\n",
      "epoch: 02, loss: -0.84694\n",
      "epoch: 03, loss: -0.85625\n",
      "epoch: 04, loss: -0.86351\n",
      "epoch: 05, loss: -0.86991\n",
      "epoch: 06, loss: -0.87512\n",
      "epoch: 07, loss: -0.87967\n",
      "epoch: 08, loss: -0.88331\n",
      "epoch: 09, loss: -0.88686\n",
      "torch.Size([1024, 64])\n"
     ]
    },
    {
     "name": "stderr",
     "output_type": "stream",
     "text": [
      " 46%|████▌     | 459/999 [9:09:09<10:58:02, 73.11s/it]"
     ]
    },
    {
     "name": "stdout",
     "output_type": "stream",
     "text": [
      "eigenvalues shape torch.Size([5]) eigenvectors shape torch.Size([5, 1024])\n",
      "459 /home/phdcs2/Hard_Disk/Datasets/Deep-Spectral-Segmentation/data/object-segmentation/ECSSD/features/0461_resized.pth\n",
      "dict_keys(['k', 'indices', 'file', 'id', 'model_name', 'patch_size', 'shape'])\n",
      "0461_resized\n",
      "Starting Training\n",
      "epoch: 00, loss: -0.83419\n",
      "epoch: 01, loss: -0.86993\n",
      "epoch: 02, loss: -0.88220\n",
      "epoch: 03, loss: -0.89082\n",
      "epoch: 04, loss: -0.89732\n",
      "epoch: 05, loss: -0.90200\n",
      "epoch: 06, loss: -0.90616\n",
      "epoch: 07, loss: -0.90992\n",
      "epoch: 08, loss: -0.91295\n",
      "epoch: 09, loss: -0.91550\n",
      "torch.Size([1024, 64])\n"
     ]
    },
    {
     "name": "stderr",
     "output_type": "stream",
     "text": [
      " 46%|████▌     | 460/999 [9:10:23<10:58:52, 73.34s/it]"
     ]
    },
    {
     "name": "stdout",
     "output_type": "stream",
     "text": [
      "eigenvalues shape torch.Size([5]) eigenvectors shape torch.Size([5, 1024])\n",
      "460 /home/phdcs2/Hard_Disk/Datasets/Deep-Spectral-Segmentation/data/object-segmentation/ECSSD/features/0462_resized.pth\n",
      "dict_keys(['k', 'indices', 'file', 'id', 'model_name', 'patch_size', 'shape'])\n",
      "0462_resized\n",
      "Starting Training\n",
      "epoch: 00, loss: -0.90536\n",
      "epoch: 01, loss: -0.92864\n",
      "epoch: 02, loss: -0.93520\n",
      "epoch: 03, loss: -0.93947\n",
      "epoch: 04, loss: -0.94273\n",
      "epoch: 05, loss: -0.94532\n",
      "epoch: 06, loss: -0.94740\n",
      "epoch: 07, loss: -0.94922\n",
      "epoch: 08, loss: -0.95077\n",
      "epoch: 09, loss: -0.95213\n",
      "torch.Size([1024, 64])\n"
     ]
    },
    {
     "name": "stderr",
     "output_type": "stream",
     "text": [
      " 46%|████▌     | 461/999 [9:11:33<10:48:17, 72.30s/it]"
     ]
    },
    {
     "name": "stdout",
     "output_type": "stream",
     "text": [
      "eigenvalues shape torch.Size([5]) eigenvectors shape torch.Size([5, 1024])\n",
      "461 /home/phdcs2/Hard_Disk/Datasets/Deep-Spectral-Segmentation/data/object-segmentation/ECSSD/features/0463_resized.pth\n",
      "dict_keys(['k', 'indices', 'file', 'id', 'model_name', 'patch_size', 'shape'])\n",
      "0463_resized\n",
      "Starting Training\n",
      "epoch: 00, loss: -0.84859\n",
      "epoch: 01, loss: -0.88225\n",
      "epoch: 02, loss: -0.89338\n",
      "epoch: 03, loss: -0.90077\n",
      "epoch: 04, loss: -0.90647\n",
      "epoch: 05, loss: -0.91081\n",
      "epoch: 06, loss: -0.91429\n",
      "epoch: 07, loss: -0.91735\n",
      "epoch: 08, loss: -0.91990\n",
      "epoch: 09, loss: -0.92223\n",
      "torch.Size([1024, 64])\n"
     ]
    },
    {
     "name": "stderr",
     "output_type": "stream",
     "text": [
      " 46%|████▌     | 462/999 [9:12:37<10:25:26, 69.88s/it]"
     ]
    },
    {
     "name": "stdout",
     "output_type": "stream",
     "text": [
      "eigenvalues shape torch.Size([5]) eigenvectors shape torch.Size([5, 1024])\n",
      "462 /home/phdcs2/Hard_Disk/Datasets/Deep-Spectral-Segmentation/data/object-segmentation/ECSSD/features/0464_resized.pth\n",
      "dict_keys(['k', 'indices', 'file', 'id', 'model_name', 'patch_size', 'shape'])\n",
      "0464_resized\n"
     ]
    },
    {
     "name": "stderr",
     "output_type": "stream",
     "text": [
      "/home/phdcs2/Hard_Disk/Projects/T2I/deep-spectral-segmentation/venv/lib/python3.8/site-packages/sklearn/decomposition/_pca.py:642: RuntimeWarning: invalid value encountered in divide\n",
      "  self.explained_variance_ratio_ = self.explained_variance_ / total_var\n"
     ]
    },
    {
     "name": "stdout",
     "output_type": "stream",
     "text": [
      "Starting Training\n",
      "epoch: 00, loss: -0.90592\n",
      "epoch: 01, loss: -0.92959\n",
      "epoch: 02, loss: -0.93585\n",
      "epoch: 03, loss: -0.93991\n",
      "epoch: 04, loss: -0.94299\n",
      "epoch: 05, loss: -0.94544\n",
      "epoch: 06, loss: -0.94744\n",
      "epoch: 07, loss: -0.94910\n",
      "epoch: 08, loss: -0.95052\n",
      "epoch: 09, loss: -0.95185\n",
      "torch.Size([1024, 64])\n"
     ]
    },
    {
     "name": "stderr",
     "output_type": "stream",
     "text": [
      " 46%|████▋     | 463/999 [9:13:51<10:33:54, 70.96s/it]"
     ]
    },
    {
     "name": "stdout",
     "output_type": "stream",
     "text": [
      "eigenvalues shape torch.Size([5]) eigenvectors shape torch.Size([5, 1024])\n",
      "463 /home/phdcs2/Hard_Disk/Datasets/Deep-Spectral-Segmentation/data/object-segmentation/ECSSD/features/0465_resized.pth\n",
      "dict_keys(['k', 'indices', 'file', 'id', 'model_name', 'patch_size', 'shape'])\n",
      "0465_resized\n"
     ]
    },
    {
     "name": "stderr",
     "output_type": "stream",
     "text": [
      "/home/phdcs2/Hard_Disk/Projects/T2I/deep-spectral-segmentation/venv/lib/python3.8/site-packages/sklearn/decomposition/_pca.py:642: RuntimeWarning: invalid value encountered in divide\n",
      "  self.explained_variance_ratio_ = self.explained_variance_ / total_var\n"
     ]
    },
    {
     "name": "stdout",
     "output_type": "stream",
     "text": [
      "Starting Training\n",
      "epoch: 00, loss: -0.90136\n",
      "epoch: 01, loss: -0.92596\n",
      "epoch: 02, loss: -0.93224\n",
      "epoch: 03, loss: -0.93640\n",
      "epoch: 04, loss: -0.93958\n",
      "epoch: 05, loss: -0.94204\n",
      "epoch: 06, loss: -0.94414\n",
      "epoch: 07, loss: -0.94591\n",
      "epoch: 08, loss: -0.94743\n",
      "epoch: 09, loss: -0.94881\n",
      "torch.Size([1024, 64])\n"
     ]
    },
    {
     "name": "stderr",
     "output_type": "stream",
     "text": [
      " 46%|████▋     | 464/999 [9:15:04<10:39:18, 71.70s/it]"
     ]
    },
    {
     "name": "stdout",
     "output_type": "stream",
     "text": [
      "eigenvalues shape torch.Size([5]) eigenvectors shape torch.Size([5, 1024])\n",
      "464 /home/phdcs2/Hard_Disk/Datasets/Deep-Spectral-Segmentation/data/object-segmentation/ECSSD/features/0466_resized.pth\n",
      "dict_keys(['k', 'indices', 'file', 'id', 'model_name', 'patch_size', 'shape'])\n",
      "0466_resized\n",
      "Starting Training\n",
      "epoch: 00, loss: -0.79133\n",
      "epoch: 01, loss: -0.83740\n",
      "epoch: 02, loss: -0.85345\n",
      "epoch: 03, loss: -0.86436\n",
      "epoch: 04, loss: -0.87287\n",
      "epoch: 05, loss: -0.87917\n",
      "epoch: 06, loss: -0.88445\n",
      "epoch: 07, loss: -0.88877\n",
      "epoch: 08, loss: -0.89266\n",
      "epoch: 09, loss: -0.89631\n",
      "torch.Size([1024, 64])\n"
     ]
    },
    {
     "name": "stderr",
     "output_type": "stream",
     "text": [
      " 47%|████▋     | 465/999 [9:16:16<10:37:33, 71.64s/it]"
     ]
    },
    {
     "name": "stdout",
     "output_type": "stream",
     "text": [
      "eigenvalues shape torch.Size([5]) eigenvectors shape torch.Size([5, 1024])\n",
      "465 /home/phdcs2/Hard_Disk/Datasets/Deep-Spectral-Segmentation/data/object-segmentation/ECSSD/features/0467_resized.pth\n",
      "dict_keys(['k', 'indices', 'file', 'id', 'model_name', 'patch_size', 'shape'])\n",
      "0467_resized\n",
      "Starting Training\n",
      "epoch: 00, loss: -0.80700\n",
      "epoch: 01, loss: -0.84542\n",
      "epoch: 02, loss: -0.86018\n",
      "epoch: 03, loss: -0.87033\n",
      "epoch: 04, loss: -0.87837\n",
      "epoch: 05, loss: -0.88486\n",
      "epoch: 06, loss: -0.88993\n",
      "epoch: 07, loss: -0.89404\n",
      "epoch: 08, loss: -0.89774\n",
      "epoch: 09, loss: -0.90112\n",
      "torch.Size([1024, 64])\n"
     ]
    },
    {
     "name": "stderr",
     "output_type": "stream",
     "text": [
      " 47%|████▋     | 466/999 [9:17:25<10:30:56, 71.03s/it]"
     ]
    },
    {
     "name": "stdout",
     "output_type": "stream",
     "text": [
      "eigenvalues shape torch.Size([5]) eigenvectors shape torch.Size([5, 1024])\n",
      "466 /home/phdcs2/Hard_Disk/Datasets/Deep-Spectral-Segmentation/data/object-segmentation/ECSSD/features/0468_resized.pth\n",
      "dict_keys(['k', 'indices', 'file', 'id', 'model_name', 'patch_size', 'shape'])\n",
      "0468_resized\n",
      "Starting Training\n",
      "epoch: 00, loss: -0.81078\n",
      "epoch: 01, loss: -0.85313\n",
      "epoch: 02, loss: -0.86850\n",
      "epoch: 03, loss: -0.87904\n",
      "epoch: 04, loss: -0.88664\n",
      "epoch: 05, loss: -0.89302\n",
      "epoch: 06, loss: -0.89819\n",
      "epoch: 07, loss: -0.90235\n",
      "epoch: 08, loss: -0.90608\n",
      "epoch: 09, loss: -0.90916\n",
      "torch.Size([1024, 64])\n"
     ]
    },
    {
     "name": "stderr",
     "output_type": "stream",
     "text": [
      " 47%|████▋     | 467/999 [9:18:32<10:17:08, 69.60s/it]"
     ]
    },
    {
     "name": "stdout",
     "output_type": "stream",
     "text": [
      "eigenvalues shape torch.Size([5]) eigenvectors shape torch.Size([5, 1024])\n",
      "467 /home/phdcs2/Hard_Disk/Datasets/Deep-Spectral-Segmentation/data/object-segmentation/ECSSD/features/0469_resized.pth\n",
      "dict_keys(['k', 'indices', 'file', 'id', 'model_name', 'patch_size', 'shape'])\n",
      "0469_resized\n",
      "Starting Training\n",
      "epoch: 00, loss: -0.90716\n",
      "epoch: 01, loss: -0.92721\n",
      "epoch: 02, loss: -0.93312\n",
      "epoch: 03, loss: -0.93720\n",
      "epoch: 04, loss: -0.94022\n",
      "epoch: 05, loss: -0.94271\n",
      "epoch: 06, loss: -0.94479\n",
      "epoch: 07, loss: -0.94658\n",
      "epoch: 08, loss: -0.94809\n",
      "epoch: 09, loss: -0.94948\n",
      "torch.Size([1024, 64])\n"
     ]
    },
    {
     "name": "stderr",
     "output_type": "stream",
     "text": [
      " 47%|████▋     | 468/999 [9:19:47<10:30:52, 71.28s/it]"
     ]
    },
    {
     "name": "stdout",
     "output_type": "stream",
     "text": [
      "eigenvalues shape torch.Size([5]) eigenvectors shape torch.Size([5, 1024])\n",
      "468 /home/phdcs2/Hard_Disk/Datasets/Deep-Spectral-Segmentation/data/object-segmentation/ECSSD/features/0470_resized.pth\n",
      "dict_keys(['k', 'indices', 'file', 'id', 'model_name', 'patch_size', 'shape'])\n",
      "0470_resized\n",
      "Starting Training\n",
      "epoch: 00, loss: -0.83482\n",
      "epoch: 01, loss: -0.87209\n",
      "epoch: 02, loss: -0.88430\n",
      "epoch: 03, loss: -0.89233\n",
      "epoch: 04, loss: -0.89848\n",
      "epoch: 05, loss: -0.90364\n",
      "epoch: 06, loss: -0.90767\n",
      "epoch: 07, loss: -0.91085\n",
      "epoch: 08, loss: -0.91414\n",
      "epoch: 09, loss: -0.91698\n",
      "torch.Size([1024, 64])\n"
     ]
    },
    {
     "name": "stderr",
     "output_type": "stream",
     "text": [
      " 47%|████▋     | 469/999 [9:20:59<10:31:02, 71.44s/it]"
     ]
    },
    {
     "name": "stdout",
     "output_type": "stream",
     "text": [
      "eigenvalues shape torch.Size([5]) eigenvectors shape torch.Size([5, 1024])\n",
      "469 /home/phdcs2/Hard_Disk/Datasets/Deep-Spectral-Segmentation/data/object-segmentation/ECSSD/features/0471_resized.pth\n",
      "dict_keys(['k', 'indices', 'file', 'id', 'model_name', 'patch_size', 'shape'])\n",
      "0471_resized\n",
      "Starting Training\n",
      "epoch: 00, loss: -0.85439\n",
      "epoch: 01, loss: -0.89158\n",
      "epoch: 02, loss: -0.90489\n",
      "epoch: 03, loss: -0.91372\n",
      "epoch: 04, loss: -0.92025\n",
      "epoch: 05, loss: -0.92538\n",
      "epoch: 06, loss: -0.92943\n",
      "epoch: 07, loss: -0.93303\n",
      "epoch: 08, loss: -0.93600\n",
      "epoch: 09, loss: -0.93851\n",
      "torch.Size([1024, 64])\n"
     ]
    },
    {
     "name": "stderr",
     "output_type": "stream",
     "text": [
      " 47%|████▋     | 470/999 [9:22:06<10:18:36, 70.16s/it]"
     ]
    },
    {
     "name": "stdout",
     "output_type": "stream",
     "text": [
      "eigenvalues shape torch.Size([5]) eigenvectors shape torch.Size([5, 1024])\n",
      "470 /home/phdcs2/Hard_Disk/Datasets/Deep-Spectral-Segmentation/data/object-segmentation/ECSSD/features/0472_resized.pth\n",
      "dict_keys(['k', 'indices', 'file', 'id', 'model_name', 'patch_size', 'shape'])\n",
      "0472_resized\n"
     ]
    },
    {
     "name": "stderr",
     "output_type": "stream",
     "text": [
      "/home/phdcs2/Hard_Disk/Projects/T2I/deep-spectral-segmentation/venv/lib/python3.8/site-packages/sklearn/decomposition/_pca.py:642: RuntimeWarning: invalid value encountered in divide\n",
      "  self.explained_variance_ratio_ = self.explained_variance_ / total_var\n"
     ]
    },
    {
     "name": "stdout",
     "output_type": "stream",
     "text": [
      "Starting Training\n",
      "epoch: 00, loss: -0.91001\n",
      "epoch: 01, loss: -0.93077\n",
      "epoch: 02, loss: -0.93668\n",
      "epoch: 03, loss: -0.94060\n",
      "epoch: 04, loss: -0.94351\n",
      "epoch: 05, loss: -0.94588\n",
      "epoch: 06, loss: -0.94784\n",
      "epoch: 07, loss: -0.94946\n",
      "epoch: 08, loss: -0.95094\n",
      "epoch: 09, loss: -0.95222\n",
      "torch.Size([1024, 64])\n"
     ]
    },
    {
     "name": "stderr",
     "output_type": "stream",
     "text": [
      " 47%|████▋     | 471/999 [9:23:03<9:44:12, 66.39s/it] "
     ]
    },
    {
     "name": "stdout",
     "output_type": "stream",
     "text": [
      "eigenvalues shape torch.Size([5]) eigenvectors shape torch.Size([5, 1024])\n",
      "471 /home/phdcs2/Hard_Disk/Datasets/Deep-Spectral-Segmentation/data/object-segmentation/ECSSD/features/0473_resized.pth\n",
      "dict_keys(['k', 'indices', 'file', 'id', 'model_name', 'patch_size', 'shape'])\n",
      "0473_resized\n",
      "Starting Training\n",
      "epoch: 00, loss: -0.90013\n",
      "epoch: 01, loss: -0.92315\n",
      "epoch: 02, loss: -0.93056\n",
      "epoch: 03, loss: -0.93543\n",
      "epoch: 04, loss: -0.93897\n",
      "epoch: 05, loss: -0.94177\n",
      "epoch: 06, loss: -0.94402\n",
      "epoch: 07, loss: -0.94600\n",
      "epoch: 08, loss: -0.94766\n",
      "epoch: 09, loss: -0.94915\n",
      "torch.Size([1024, 64])\n"
     ]
    },
    {
     "name": "stderr",
     "output_type": "stream",
     "text": [
      " 47%|████▋     | 472/999 [9:24:18<10:04:58, 68.88s/it]"
     ]
    },
    {
     "name": "stdout",
     "output_type": "stream",
     "text": [
      "eigenvalues shape torch.Size([5]) eigenvectors shape torch.Size([5, 1024])\n",
      "472 /home/phdcs2/Hard_Disk/Datasets/Deep-Spectral-Segmentation/data/object-segmentation/ECSSD/features/0474_resized.pth\n",
      "dict_keys(['k', 'indices', 'file', 'id', 'model_name', 'patch_size', 'shape'])\n",
      "0474_resized\n"
     ]
    },
    {
     "name": "stderr",
     "output_type": "stream",
     "text": [
      "/home/phdcs2/Hard_Disk/Projects/T2I/deep-spectral-segmentation/venv/lib/python3.8/site-packages/sklearn/decomposition/_pca.py:642: RuntimeWarning: invalid value encountered in divide\n",
      "  self.explained_variance_ratio_ = self.explained_variance_ / total_var\n"
     ]
    },
    {
     "name": "stdout",
     "output_type": "stream",
     "text": [
      "Starting Training\n",
      "epoch: 00, loss: -0.92153\n",
      "epoch: 01, loss: -0.94128\n",
      "epoch: 02, loss: -0.94638\n",
      "epoch: 03, loss: -0.94974\n",
      "epoch: 04, loss: -0.95219\n",
      "epoch: 05, loss: -0.95402\n",
      "epoch: 06, loss: -0.95568\n",
      "epoch: 07, loss: -0.95697\n",
      "epoch: 08, loss: -0.95812\n",
      "epoch: 09, loss: -0.95913\n",
      "torch.Size([1024, 64])\n"
     ]
    },
    {
     "name": "stderr",
     "output_type": "stream",
     "text": [
      " 47%|████▋     | 473/999 [9:25:29<10:08:30, 69.41s/it]"
     ]
    },
    {
     "name": "stdout",
     "output_type": "stream",
     "text": [
      "eigenvalues shape torch.Size([5]) eigenvectors shape torch.Size([5, 1024])\n",
      "473 /home/phdcs2/Hard_Disk/Datasets/Deep-Spectral-Segmentation/data/object-segmentation/ECSSD/features/0475_resized.pth\n",
      "dict_keys(['k', 'indices', 'file', 'id', 'model_name', 'patch_size', 'shape'])\n",
      "0475_resized\n"
     ]
    },
    {
     "name": "stderr",
     "output_type": "stream",
     "text": [
      "/home/phdcs2/Hard_Disk/Projects/T2I/deep-spectral-segmentation/venv/lib/python3.8/site-packages/sklearn/decomposition/_pca.py:642: RuntimeWarning: invalid value encountered in divide\n",
      "  self.explained_variance_ratio_ = self.explained_variance_ / total_var\n"
     ]
    },
    {
     "name": "stdout",
     "output_type": "stream",
     "text": [
      "Starting Training\n",
      "epoch: 00, loss: -0.90999\n",
      "epoch: 01, loss: -0.93399\n",
      "epoch: 02, loss: -0.93953\n",
      "epoch: 03, loss: -0.94319\n",
      "epoch: 04, loss: -0.94591\n",
      "epoch: 05, loss: -0.94811\n",
      "epoch: 06, loss: -0.94991\n",
      "epoch: 07, loss: -0.95146\n",
      "epoch: 08, loss: -0.95278\n",
      "epoch: 09, loss: -0.95402\n",
      "torch.Size([1024, 64])\n"
     ]
    },
    {
     "name": "stderr",
     "output_type": "stream",
     "text": [
      " 47%|████▋     | 474/999 [9:26:42<10:17:35, 70.58s/it]"
     ]
    },
    {
     "name": "stdout",
     "output_type": "stream",
     "text": [
      "eigenvalues shape torch.Size([5]) eigenvectors shape torch.Size([5, 1024])\n",
      "474 /home/phdcs2/Hard_Disk/Datasets/Deep-Spectral-Segmentation/data/object-segmentation/ECSSD/features/0476_resized.pth\n",
      "dict_keys(['k', 'indices', 'file', 'id', 'model_name', 'patch_size', 'shape'])\n",
      "0476_resized\n",
      "Starting Training\n",
      "epoch: 00, loss: -0.82236\n",
      "epoch: 01, loss: -0.86428\n",
      "epoch: 02, loss: -0.87964\n",
      "epoch: 03, loss: -0.88992\n",
      "epoch: 04, loss: -0.89757\n",
      "epoch: 05, loss: -0.90366\n",
      "epoch: 06, loss: -0.90838\n",
      "epoch: 07, loss: -0.91264\n",
      "epoch: 08, loss: -0.91622\n",
      "epoch: 09, loss: -0.91937\n",
      "torch.Size([1024, 64])\n"
     ]
    },
    {
     "name": "stderr",
     "output_type": "stream",
     "text": [
      " 48%|████▊     | 475/999 [9:27:52<10:14:49, 70.40s/it]"
     ]
    },
    {
     "name": "stdout",
     "output_type": "stream",
     "text": [
      "eigenvalues shape torch.Size([5]) eigenvectors shape torch.Size([5, 1024])\n",
      "475 /home/phdcs2/Hard_Disk/Datasets/Deep-Spectral-Segmentation/data/object-segmentation/ECSSD/features/0477_resized.pth\n",
      "dict_keys(['k', 'indices', 'file', 'id', 'model_name', 'patch_size', 'shape'])\n",
      "0477_resized\n",
      "Starting Training\n",
      "epoch: 00, loss: -0.85533\n",
      "epoch: 01, loss: -0.88594\n",
      "epoch: 02, loss: -0.89720\n",
      "epoch: 03, loss: -0.90472\n",
      "epoch: 04, loss: -0.91033\n",
      "epoch: 05, loss: -0.91501\n",
      "epoch: 06, loss: -0.91870\n",
      "epoch: 07, loss: -0.92186\n",
      "epoch: 08, loss: -0.92446\n",
      "epoch: 09, loss: -0.92700\n",
      "torch.Size([1024, 64])\n"
     ]
    },
    {
     "name": "stderr",
     "output_type": "stream",
     "text": [
      " 48%|████▊     | 476/999 [9:29:02<10:11:14, 70.12s/it]"
     ]
    },
    {
     "name": "stdout",
     "output_type": "stream",
     "text": [
      "eigenvalues shape torch.Size([5]) eigenvectors shape torch.Size([5, 1024])\n",
      "476 /home/phdcs2/Hard_Disk/Datasets/Deep-Spectral-Segmentation/data/object-segmentation/ECSSD/features/0478_resized.pth\n",
      "dict_keys(['k', 'indices', 'file', 'id', 'model_name', 'patch_size', 'shape'])\n",
      "0478_resized\n",
      "Starting Training\n",
      "epoch: 00, loss: -0.80124\n",
      "epoch: 01, loss: -0.84334\n",
      "epoch: 02, loss: -0.85962\n",
      "epoch: 03, loss: -0.87031\n",
      "epoch: 04, loss: -0.87815\n",
      "epoch: 05, loss: -0.88420\n",
      "epoch: 06, loss: -0.88904\n",
      "epoch: 07, loss: -0.89366\n",
      "epoch: 08, loss: -0.89749\n",
      "epoch: 09, loss: -0.90102\n",
      "torch.Size([1024, 64])\n"
     ]
    },
    {
     "name": "stderr",
     "output_type": "stream",
     "text": [
      " 48%|████▊     | 477/999 [9:30:22<10:36:35, 73.17s/it]"
     ]
    },
    {
     "name": "stdout",
     "output_type": "stream",
     "text": [
      "eigenvalues shape torch.Size([5]) eigenvectors shape torch.Size([5, 1024])\n",
      "477 /home/phdcs2/Hard_Disk/Datasets/Deep-Spectral-Segmentation/data/object-segmentation/ECSSD/features/0479_resized.pth\n",
      "dict_keys(['k', 'indices', 'file', 'id', 'model_name', 'patch_size', 'shape'])\n",
      "0479_resized\n",
      "Starting Training\n",
      "epoch: 00, loss: -0.77922\n",
      "epoch: 01, loss: -0.82104\n",
      "epoch: 02, loss: -0.83672\n",
      "epoch: 03, loss: -0.84701\n",
      "epoch: 04, loss: -0.85472\n",
      "epoch: 05, loss: -0.86073\n",
      "epoch: 06, loss: -0.86575\n",
      "epoch: 07, loss: -0.87019\n",
      "epoch: 08, loss: -0.87417\n",
      "epoch: 09, loss: -0.87743\n",
      "torch.Size([1024, 64])\n"
     ]
    },
    {
     "name": "stderr",
     "output_type": "stream",
     "text": [
      " 48%|████▊     | 478/999 [9:31:34<10:33:48, 72.99s/it]"
     ]
    },
    {
     "name": "stdout",
     "output_type": "stream",
     "text": [
      "eigenvalues shape torch.Size([5]) eigenvectors shape torch.Size([5, 1024])\n",
      "478 /home/phdcs2/Hard_Disk/Datasets/Deep-Spectral-Segmentation/data/object-segmentation/ECSSD/features/0480_resized.pth\n",
      "dict_keys(['k', 'indices', 'file', 'id', 'model_name', 'patch_size', 'shape'])\n",
      "0480_resized\n",
      "Starting Training\n",
      "epoch: 00, loss: -0.83406\n",
      "epoch: 01, loss: -0.87157\n",
      "epoch: 02, loss: -0.88446\n",
      "epoch: 03, loss: -0.89303\n",
      "epoch: 04, loss: -0.89954\n",
      "epoch: 05, loss: -0.90475\n",
      "epoch: 06, loss: -0.90884\n",
      "epoch: 07, loss: -0.91236\n",
      "epoch: 08, loss: -0.91531\n",
      "epoch: 09, loss: -0.91808\n",
      "torch.Size([1024, 64])\n"
     ]
    },
    {
     "name": "stderr",
     "output_type": "stream",
     "text": [
      " 48%|████▊     | 479/999 [9:32:41<10:15:45, 71.05s/it]"
     ]
    },
    {
     "name": "stdout",
     "output_type": "stream",
     "text": [
      "eigenvalues shape torch.Size([5]) eigenvectors shape torch.Size([5, 1024])\n",
      "479 /home/phdcs2/Hard_Disk/Datasets/Deep-Spectral-Segmentation/data/object-segmentation/ECSSD/features/0481_resized.pth\n",
      "dict_keys(['k', 'indices', 'file', 'id', 'model_name', 'patch_size', 'shape'])\n",
      "0481_resized\n",
      "Starting Training\n",
      "epoch: 00, loss: -0.82078\n",
      "epoch: 01, loss: -0.85760\n",
      "epoch: 02, loss: -0.87091\n",
      "epoch: 03, loss: -0.87985\n",
      "epoch: 04, loss: -0.88650\n",
      "epoch: 05, loss: -0.89195\n",
      "epoch: 06, loss: -0.89630\n",
      "epoch: 07, loss: -0.90036\n",
      "epoch: 08, loss: -0.90369\n",
      "epoch: 09, loss: -0.90669\n",
      "torch.Size([1024, 64])\n"
     ]
    },
    {
     "name": "stderr",
     "output_type": "stream",
     "text": [
      " 48%|████▊     | 480/999 [9:33:53<10:18:15, 71.48s/it]"
     ]
    },
    {
     "name": "stdout",
     "output_type": "stream",
     "text": [
      "eigenvalues shape torch.Size([5]) eigenvectors shape torch.Size([5, 1024])\n",
      "480 /home/phdcs2/Hard_Disk/Datasets/Deep-Spectral-Segmentation/data/object-segmentation/ECSSD/features/0482_resized.pth\n",
      "dict_keys(['k', 'indices', 'file', 'id', 'model_name', 'patch_size', 'shape'])\n",
      "0482_resized\n",
      "Starting Training\n",
      "epoch: 00, loss: -0.88140\n",
      "epoch: 01, loss: -0.90419\n",
      "epoch: 02, loss: -0.91114\n",
      "epoch: 03, loss: -0.91549\n",
      "epoch: 04, loss: -0.91901\n",
      "epoch: 05, loss: -0.92177\n",
      "epoch: 06, loss: -0.92409\n",
      "epoch: 07, loss: -0.92616\n",
      "epoch: 08, loss: -0.92786\n",
      "epoch: 09, loss: -0.92957\n",
      "torch.Size([1024, 64])\n"
     ]
    },
    {
     "name": "stderr",
     "output_type": "stream",
     "text": [
      " 48%|████▊     | 481/999 [9:35:11<10:31:38, 73.16s/it]"
     ]
    },
    {
     "name": "stdout",
     "output_type": "stream",
     "text": [
      "eigenvalues shape torch.Size([5]) eigenvectors shape torch.Size([5, 1024])\n",
      "481 /home/phdcs2/Hard_Disk/Datasets/Deep-Spectral-Segmentation/data/object-segmentation/ECSSD/features/0483_resized.pth\n",
      "dict_keys(['k', 'indices', 'file', 'id', 'model_name', 'patch_size', 'shape'])\n",
      "0483_resized\n",
      "Starting Training\n",
      "epoch: 00, loss: -0.84761\n",
      "epoch: 01, loss: -0.88015\n",
      "epoch: 02, loss: -0.89189\n",
      "epoch: 03, loss: -0.89945\n",
      "epoch: 04, loss: -0.90512\n",
      "epoch: 05, loss: -0.90969\n",
      "epoch: 06, loss: -0.91352\n",
      "epoch: 07, loss: -0.91661\n",
      "epoch: 08, loss: -0.91917\n",
      "epoch: 09, loss: -0.92163\n",
      "torch.Size([1024, 64])\n"
     ]
    },
    {
     "name": "stderr",
     "output_type": "stream",
     "text": [
      " 48%|████▊     | 482/999 [9:36:33<10:55:40, 76.09s/it]"
     ]
    },
    {
     "name": "stdout",
     "output_type": "stream",
     "text": [
      "eigenvalues shape torch.Size([5]) eigenvectors shape torch.Size([5, 1024])\n",
      "482 /home/phdcs2/Hard_Disk/Datasets/Deep-Spectral-Segmentation/data/object-segmentation/ECSSD/features/0484_resized.pth\n",
      "dict_keys(['k', 'indices', 'file', 'id', 'model_name', 'patch_size', 'shape'])\n",
      "0484_resized\n",
      "Starting Training\n",
      "epoch: 00, loss: -0.91249\n",
      "epoch: 01, loss: -0.93181\n",
      "epoch: 02, loss: -0.93753\n",
      "epoch: 03, loss: -0.94124\n",
      "epoch: 04, loss: -0.94403\n",
      "epoch: 05, loss: -0.94622\n",
      "epoch: 06, loss: -0.94810\n",
      "epoch: 07, loss: -0.94963\n",
      "epoch: 08, loss: -0.95097\n",
      "epoch: 09, loss: -0.95217\n",
      "torch.Size([1024, 64])\n"
     ]
    },
    {
     "name": "stderr",
     "output_type": "stream",
     "text": [
      " 48%|████▊     | 483/999 [9:37:49<10:54:15, 76.08s/it]"
     ]
    },
    {
     "name": "stdout",
     "output_type": "stream",
     "text": [
      "eigenvalues shape torch.Size([5]) eigenvectors shape torch.Size([5, 1024])\n",
      "483 /home/phdcs2/Hard_Disk/Datasets/Deep-Spectral-Segmentation/data/object-segmentation/ECSSD/features/0485_resized.pth\n",
      "dict_keys(['k', 'indices', 'file', 'id', 'model_name', 'patch_size', 'shape'])\n",
      "0485_resized\n"
     ]
    },
    {
     "name": "stderr",
     "output_type": "stream",
     "text": [
      "/home/phdcs2/Hard_Disk/Projects/T2I/deep-spectral-segmentation/venv/lib/python3.8/site-packages/sklearn/decomposition/_pca.py:642: RuntimeWarning: invalid value encountered in divide\n",
      "  self.explained_variance_ratio_ = self.explained_variance_ / total_var\n"
     ]
    },
    {
     "name": "stdout",
     "output_type": "stream",
     "text": [
      "Starting Training\n",
      "epoch: 00, loss: -0.93098\n",
      "epoch: 01, loss: -0.95001\n",
      "epoch: 02, loss: -0.95482\n",
      "epoch: 03, loss: -0.95785\n",
      "epoch: 04, loss: -0.96018\n",
      "epoch: 05, loss: -0.96193\n",
      "epoch: 06, loss: -0.96340\n",
      "epoch: 07, loss: -0.96462\n",
      "epoch: 08, loss: -0.96570\n",
      "epoch: 09, loss: -0.96661\n",
      "torch.Size([1024, 64])\n"
     ]
    },
    {
     "name": "stderr",
     "output_type": "stream",
     "text": [
      " 28%|██▊       | 283/999 [5:44:31<17:01:34, 85.61s/it]"
     ]
    },
    {
     "name": "stdout",
     "output_type": "stream",
     "text": [
      "eigenvalues shape torch.Size([5]) eigenvectors shape torch.Size([5, 1024])\n",
      "283 /home/phdcs2/Hard_Disk/Datasets/Deep-Spectral-Segmentation/data/object-segmentation/ECSSD/features/0285_resized.pth\n",
      "dict_keys(['k', 'indices', 'file', 'id', 'model_name', 'patch_size', 'shape'])\n",
      "0285_resized\n",
      "Starting Training\n",
      "epoch: 00, loss: -0.81718\n",
      "epoch: 01, loss: -0.84987\n",
      "epoch: 02, loss: -0.86232\n",
      "epoch: 03, loss: -0.87104\n",
      "epoch: 04, loss: -0.87722\n",
      "epoch: 05, loss: -0.88249\n",
      "epoch: 06, loss: -0.88727\n",
      "epoch: 07, loss: -0.89125\n",
      "epoch: 08, loss: -0.89460\n",
      "epoch: 09, loss: -0.89759\n",
      "torch.Size([1024, 64])\n"
     ]
    },
    {
     "name": "stderr",
     "output_type": "stream",
     "text": [
      " 28%|██▊       | 284/999 [5:45:57<16:59:12, 85.53s/it]"
     ]
    },
    {
     "name": "stdout",
     "output_type": "stream",
     "text": [
      "eigenvalues shape torch.Size([5]) eigenvectors shape torch.Size([5, 1024])\n",
      "284 /home/phdcs2/Hard_Disk/Datasets/Deep-Spectral-Segmentation/data/object-segmentation/ECSSD/features/0286_resized.pth\n",
      "dict_keys(['k', 'indices', 'file', 'id', 'model_name', 'patch_size', 'shape'])\n",
      "0286_resized\n"
     ]
    },
    {
     "name": "stderr",
     "output_type": "stream",
     "text": [
      "/home/phdcs2/Hard_Disk/Projects/T2I/deep-spectral-segmentation/venv/lib/python3.8/site-packages/sklearn/decomposition/_pca.py:642: RuntimeWarning: invalid value encountered in divide\n",
      "  self.explained_variance_ratio_ = self.explained_variance_ / total_var\n"
     ]
    },
    {
     "name": "stdout",
     "output_type": "stream",
     "text": [
      "Starting Training\n",
      "epoch: 00, loss: -0.91660\n",
      "epoch: 01, loss: -0.93778\n",
      "epoch: 02, loss: -0.94246\n",
      "epoch: 03, loss: -0.94559\n",
      "epoch: 04, loss: -0.94787\n",
      "epoch: 05, loss: -0.94977\n",
      "epoch: 06, loss: -0.95127\n",
      "epoch: 07, loss: -0.95258\n",
      "epoch: 08, loss: -0.95371\n",
      "epoch: 09, loss: -0.95469\n",
      "torch.Size([1024, 64])\n"
     ]
    },
    {
     "name": "stderr",
     "output_type": "stream",
     "text": [
      " 29%|██▊       | 285/999 [5:47:29<17:21:56, 87.56s/it]"
     ]
    },
    {
     "name": "stdout",
     "output_type": "stream",
     "text": [
      "eigenvalues shape torch.Size([5]) eigenvectors shape torch.Size([5, 1024])\n",
      "285 /home/phdcs2/Hard_Disk/Datasets/Deep-Spectral-Segmentation/data/object-segmentation/ECSSD/features/0287_resized.pth\n",
      "dict_keys(['k', 'indices', 'file', 'id', 'model_name', 'patch_size', 'shape'])\n",
      "0287_resized\n"
     ]
    },
    {
     "name": "stderr",
     "output_type": "stream",
     "text": [
      "/home/phdcs2/Hard_Disk/Projects/T2I/deep-spectral-segmentation/venv/lib/python3.8/site-packages/sklearn/decomposition/_pca.py:642: RuntimeWarning: invalid value encountered in divide\n",
      "  self.explained_variance_ratio_ = self.explained_variance_ / total_var\n"
     ]
    },
    {
     "name": "stdout",
     "output_type": "stream",
     "text": [
      "Starting Training\n",
      "epoch: 00, loss: -0.89402\n",
      "epoch: 01, loss: -0.91576\n",
      "epoch: 02, loss: -0.92310\n",
      "epoch: 03, loss: -0.92790\n",
      "epoch: 04, loss: -0.93153\n",
      "epoch: 05, loss: -0.93446\n",
      "epoch: 06, loss: -0.93680\n",
      "epoch: 07, loss: -0.93889\n",
      "epoch: 08, loss: -0.94066\n",
      "epoch: 09, loss: -0.94230\n",
      "torch.Size([1024, 64])\n"
     ]
    },
    {
     "name": "stderr",
     "output_type": "stream",
     "text": [
      " 29%|██▊       | 286/999 [5:48:55<17:16:00, 87.18s/it]"
     ]
    },
    {
     "name": "stdout",
     "output_type": "stream",
     "text": [
      "eigenvalues shape torch.Size([5]) eigenvectors shape torch.Size([5, 1024])\n",
      "286 /home/phdcs2/Hard_Disk/Datasets/Deep-Spectral-Segmentation/data/object-segmentation/ECSSD/features/0288_resized.pth\n",
      "dict_keys(['k', 'indices', 'file', 'id', 'model_name', 'patch_size', 'shape'])\n",
      "0288_resized\n",
      "Starting Training\n",
      "epoch: 00, loss: -0.79741\n",
      "epoch: 01, loss: -0.83250\n",
      "epoch: 02, loss: -0.84824\n",
      "epoch: 03, loss: -0.85848\n",
      "epoch: 04, loss: -0.86674\n",
      "epoch: 05, loss: -0.87340\n",
      "epoch: 06, loss: -0.87927\n",
      "epoch: 07, loss: -0.88400\n",
      "epoch: 08, loss: -0.88808\n",
      "epoch: 09, loss: -0.89186\n",
      "torch.Size([1024, 64])\n"
     ]
    },
    {
     "name": "stderr",
     "output_type": "stream",
     "text": [
      " 29%|██▊       | 287/999 [5:50:29<17:38:12, 89.17s/it]"
     ]
    },
    {
     "name": "stdout",
     "output_type": "stream",
     "text": [
      "eigenvalues shape torch.Size([5]) eigenvectors shape torch.Size([5, 1024])\n",
      "287 /home/phdcs2/Hard_Disk/Datasets/Deep-Spectral-Segmentation/data/object-segmentation/ECSSD/features/0289_resized.pth\n",
      "dict_keys(['k', 'indices', 'file', 'id', 'model_name', 'patch_size', 'shape'])\n",
      "0289_resized\n",
      "Starting Training\n",
      "epoch: 00, loss: -0.91460\n",
      "epoch: 01, loss: -0.93447\n",
      "epoch: 02, loss: -0.93950\n",
      "epoch: 03, loss: -0.94276\n",
      "epoch: 04, loss: -0.94515\n",
      "epoch: 05, loss: -0.94712\n",
      "epoch: 06, loss: -0.94868\n",
      "epoch: 07, loss: -0.95001\n",
      "epoch: 08, loss: -0.95118\n",
      "epoch: 09, loss: -0.95220\n",
      "torch.Size([1024, 64])\n"
     ]
    },
    {
     "name": "stderr",
     "output_type": "stream",
     "text": [
      " 29%|██▉       | 288/999 [5:51:56<17:30:13, 88.63s/it]"
     ]
    },
    {
     "name": "stdout",
     "output_type": "stream",
     "text": [
      "eigenvalues shape torch.Size([5]) eigenvectors shape torch.Size([5, 1024])\n",
      "288 /home/phdcs2/Hard_Disk/Datasets/Deep-Spectral-Segmentation/data/object-segmentation/ECSSD/features/0290_resized.pth\n",
      "dict_keys(['k', 'indices', 'file', 'id', 'model_name', 'patch_size', 'shape'])\n",
      "0290_resized\n",
      "Starting Training\n",
      "epoch: 00, loss: -0.92849\n",
      "epoch: 01, loss: -0.94619\n",
      "epoch: 02, loss: -0.95103\n",
      "epoch: 03, loss: -0.95419\n",
      "epoch: 04, loss: -0.95652\n",
      "epoch: 05, loss: -0.95835\n",
      "epoch: 06, loss: -0.95986\n",
      "epoch: 07, loss: -0.96115\n",
      "epoch: 08, loss: -0.96225\n",
      "epoch: 09, loss: -0.96324\n",
      "torch.Size([1024, 64])\n"
     ]
    },
    {
     "name": "stderr",
     "output_type": "stream",
     "text": [
      " 29%|██▉       | 289/999 [5:53:26<17:32:24, 88.94s/it]"
     ]
    },
    {
     "name": "stdout",
     "output_type": "stream",
     "text": [
      "eigenvalues shape torch.Size([5]) eigenvectors shape torch.Size([5, 1024])\n",
      "289 /home/phdcs2/Hard_Disk/Datasets/Deep-Spectral-Segmentation/data/object-segmentation/ECSSD/features/0291_resized.pth\n",
      "dict_keys(['k', 'indices', 'file', 'id', 'model_name', 'patch_size', 'shape'])\n",
      "0291_resized\n"
     ]
    },
    {
     "name": "stderr",
     "output_type": "stream",
     "text": [
      "/home/phdcs2/Hard_Disk/Projects/T2I/deep-spectral-segmentation/venv/lib/python3.8/site-packages/sklearn/decomposition/_pca.py:642: RuntimeWarning: invalid value encountered in divide\n",
      "  self.explained_variance_ratio_ = self.explained_variance_ / total_var\n"
     ]
    },
    {
     "name": "stdout",
     "output_type": "stream",
     "text": [
      "Starting Training\n",
      "epoch: 00, loss: -0.92477\n",
      "epoch: 01, loss: -0.94273\n",
      "epoch: 02, loss: -0.94735\n",
      "epoch: 03, loss: -0.95039\n",
      "epoch: 04, loss: -0.95261\n",
      "epoch: 05, loss: -0.95440\n",
      "epoch: 06, loss: -0.95588\n",
      "epoch: 07, loss: -0.95714\n",
      "epoch: 08, loss: -0.95827\n",
      "epoch: 09, loss: -0.95923\n",
      "torch.Size([1024, 64])\n"
     ]
    },
    {
     "name": "stderr",
     "output_type": "stream",
     "text": [
      " 29%|██▉       | 290/999 [5:54:48<17:05:34, 86.79s/it]"
     ]
    },
    {
     "name": "stdout",
     "output_type": "stream",
     "text": [
      "eigenvalues shape torch.Size([5]) eigenvectors shape torch.Size([5, 1024])\n",
      "290 /home/phdcs2/Hard_Disk/Datasets/Deep-Spectral-Segmentation/data/object-segmentation/ECSSD/features/0292_resized.pth\n",
      "dict_keys(['k', 'indices', 'file', 'id', 'model_name', 'patch_size', 'shape'])\n",
      "0292_resized\n",
      "Starting Training\n",
      "epoch: 00, loss: -0.83566\n",
      "epoch: 01, loss: -0.86900\n",
      "epoch: 02, loss: -0.88021\n",
      "epoch: 03, loss: -0.88738\n",
      "epoch: 04, loss: -0.89313\n",
      "epoch: 05, loss: -0.89786\n",
      "epoch: 06, loss: -0.90138\n",
      "epoch: 07, loss: -0.90455\n",
      "epoch: 08, loss: -0.90746\n",
      "epoch: 09, loss: -0.90992\n",
      "torch.Size([1024, 64])\n"
     ]
    },
    {
     "name": "stderr",
     "output_type": "stream",
     "text": [
      " 29%|██▉       | 291/999 [5:56:05<16:29:50, 83.89s/it]"
     ]
    },
    {
     "name": "stdout",
     "output_type": "stream",
     "text": [
      "eigenvalues shape torch.Size([5]) eigenvectors shape torch.Size([5, 1024])\n",
      "291 /home/phdcs2/Hard_Disk/Datasets/Deep-Spectral-Segmentation/data/object-segmentation/ECSSD/features/0293_resized.pth\n",
      "dict_keys(['k', 'indices', 'file', 'id', 'model_name', 'patch_size', 'shape'])\n",
      "0293_resized\n",
      "Starting Training\n",
      "epoch: 00, loss: -0.91540\n",
      "epoch: 01, loss: -0.93572\n",
      "epoch: 02, loss: -0.94122\n",
      "epoch: 03, loss: -0.94496\n",
      "epoch: 04, loss: -0.94765\n",
      "epoch: 05, loss: -0.94979\n",
      "epoch: 06, loss: -0.95155\n",
      "epoch: 07, loss: -0.95311\n",
      "epoch: 08, loss: -0.95441\n",
      "epoch: 09, loss: -0.95558\n",
      "torch.Size([1024, 64])\n"
     ]
    },
    {
     "name": "stderr",
     "output_type": "stream",
     "text": [
      " 29%|██▉       | 292/999 [5:57:12<15:30:33, 78.97s/it]"
     ]
    },
    {
     "name": "stdout",
     "output_type": "stream",
     "text": [
      "eigenvalues shape torch.Size([5]) eigenvectors shape torch.Size([5, 1024])\n",
      "292 /home/phdcs2/Hard_Disk/Datasets/Deep-Spectral-Segmentation/data/object-segmentation/ECSSD/features/0294_resized.pth\n",
      "dict_keys(['k', 'indices', 'file', 'id', 'model_name', 'patch_size', 'shape'])\n",
      "0294_resized\n"
     ]
    },
    {
     "name": "stderr",
     "output_type": "stream",
     "text": [
      "/home/phdcs2/Hard_Disk/Projects/T2I/deep-spectral-segmentation/venv/lib/python3.8/site-packages/sklearn/decomposition/_pca.py:642: RuntimeWarning: invalid value encountered in divide\n",
      "  self.explained_variance_ratio_ = self.explained_variance_ / total_var\n"
     ]
    },
    {
     "name": "stdout",
     "output_type": "stream",
     "text": [
      "Starting Training\n",
      "epoch: 00, loss: -0.93306\n",
      "epoch: 01, loss: -0.95047\n",
      "epoch: 02, loss: -0.95430\n",
      "epoch: 03, loss: -0.95688\n",
      "epoch: 04, loss: -0.95881\n",
      "epoch: 05, loss: -0.96038\n",
      "epoch: 06, loss: -0.96166\n",
      "epoch: 07, loss: -0.96277\n",
      "epoch: 08, loss: -0.96374\n",
      "epoch: 09, loss: -0.96459\n",
      "torch.Size([1024, 64])\n"
     ]
    },
    {
     "name": "stderr",
     "output_type": "stream",
     "text": [
      " 29%|██▉       | 293/999 [5:58:14<14:29:18, 73.88s/it]"
     ]
    },
    {
     "name": "stdout",
     "output_type": "stream",
     "text": [
      "eigenvalues shape torch.Size([5]) eigenvectors shape torch.Size([5, 1024])\n",
      "293 /home/phdcs2/Hard_Disk/Datasets/Deep-Spectral-Segmentation/data/object-segmentation/ECSSD/features/0295_resized.pth\n",
      "dict_keys(['k', 'indices', 'file', 'id', 'model_name', 'patch_size', 'shape'])\n",
      "0295_resized\n"
     ]
    },
    {
     "name": "stderr",
     "output_type": "stream",
     "text": [
      "/home/phdcs2/Hard_Disk/Projects/T2I/deep-spectral-segmentation/venv/lib/python3.8/site-packages/sklearn/decomposition/_pca.py:642: RuntimeWarning: invalid value encountered in divide\n",
      "  self.explained_variance_ratio_ = self.explained_variance_ / total_var\n"
     ]
    },
    {
     "name": "stdout",
     "output_type": "stream",
     "text": [
      "Starting Training\n",
      "epoch: 00, loss: -0.91218\n",
      "epoch: 01, loss: -0.93604\n",
      "epoch: 02, loss: -0.94219\n",
      "epoch: 03, loss: -0.94618\n",
      "epoch: 04, loss: -0.94918\n",
      "epoch: 05, loss: -0.95144\n",
      "epoch: 06, loss: -0.95333\n",
      "epoch: 07, loss: -0.95495\n",
      "epoch: 08, loss: -0.95634\n",
      "epoch: 09, loss: -0.95755\n",
      "torch.Size([1024, 64])\n"
     ]
    },
    {
     "name": "stderr",
     "output_type": "stream",
     "text": [
      " 29%|██▉       | 294/999 [5:59:18<13:52:23, 70.84s/it]"
     ]
    },
    {
     "name": "stdout",
     "output_type": "stream",
     "text": [
      "eigenvalues shape torch.Size([5]) eigenvectors shape torch.Size([5, 1024])\n",
      "294 /home/phdcs2/Hard_Disk/Datasets/Deep-Spectral-Segmentation/data/object-segmentation/ECSSD/features/0296_resized.pth\n",
      "dict_keys(['k', 'indices', 'file', 'id', 'model_name', 'patch_size', 'shape'])\n",
      "0296_resized\n"
     ]
    },
    {
     "name": "stderr",
     "output_type": "stream",
     "text": [
      "/home/phdcs2/Hard_Disk/Projects/T2I/deep-spectral-segmentation/venv/lib/python3.8/site-packages/sklearn/decomposition/_pca.py:642: RuntimeWarning: invalid value encountered in divide\n",
      "  self.explained_variance_ratio_ = self.explained_variance_ / total_var\n"
     ]
    },
    {
     "name": "stdout",
     "output_type": "stream",
     "text": [
      "Starting Training\n",
      "epoch: 00, loss: -0.89492\n",
      "epoch: 01, loss: -0.91508\n",
      "epoch: 02, loss: -0.92109\n",
      "epoch: 03, loss: -0.92529\n",
      "epoch: 04, loss: -0.92840\n",
      "epoch: 05, loss: -0.93101\n",
      "epoch: 06, loss: -0.93320\n",
      "epoch: 07, loss: -0.93507\n",
      "epoch: 08, loss: -0.93672\n",
      "epoch: 09, loss: -0.93818\n",
      "torch.Size([1024, 64])\n"
     ]
    },
    {
     "name": "stderr",
     "output_type": "stream",
     "text": [
      " 30%|██▉       | 295/999 [6:00:18<13:14:18, 67.70s/it]"
     ]
    },
    {
     "name": "stdout",
     "output_type": "stream",
     "text": [
      "eigenvalues shape torch.Size([5]) eigenvectors shape torch.Size([5, 1024])\n",
      "295 /home/phdcs2/Hard_Disk/Datasets/Deep-Spectral-Segmentation/data/object-segmentation/ECSSD/features/0297_resized.pth\n",
      "dict_keys(['k', 'indices', 'file', 'id', 'model_name', 'patch_size', 'shape'])\n",
      "0297_resized\n",
      "Starting Training\n",
      "epoch: 00, loss: -0.87882\n",
      "epoch: 01, loss: -0.90406\n",
      "epoch: 02, loss: -0.91218\n",
      "epoch: 03, loss: -0.91775\n",
      "epoch: 04, loss: -0.92203\n",
      "epoch: 05, loss: -0.92555\n",
      "epoch: 06, loss: -0.92845\n",
      "epoch: 07, loss: -0.93093\n",
      "epoch: 08, loss: -0.93315\n",
      "epoch: 09, loss: -0.93511\n",
      "torch.Size([1024, 64])\n"
     ]
    },
    {
     "name": "stderr",
     "output_type": "stream",
     "text": [
      "/home/phdcs2/Hard_Disk/Projects/T2I/deep-spectral-segmentation/venv/lib/python3.8/site-packages/scipy/sparse/linalg/_eigen/arpack/arpack.py:935: LinAlgWarning: Diagonal number 1024 is exactly zero. Singular matrix.\n",
      "  self.M_lu = lu_factor(M)\n"
     ]
    },
    {
     "name": "stdout",
     "output_type": "stream",
     "text": [
      " ** On entry to SLASCL parameter number  4 had an illegal value\n",
      " ** On entry to SLASCL parameter number  4 had an illegal value\n"
     ]
    },
    {
     "name": "stderr",
     "output_type": "stream",
     "text": [
      " 30%|██▉       | 296/999 [6:01:27<13:14:42, 67.83s/it]"
     ]
    },
    {
     "name": "stdout",
     "output_type": "stream",
     "text": [
      "eigenvalues shape torch.Size([5]) eigenvectors shape torch.Size([5, 1024])\n",
      "296 /home/phdcs2/Hard_Disk/Datasets/Deep-Spectral-Segmentation/data/object-segmentation/ECSSD/features/0298_resized.pth\n",
      "dict_keys(['k', 'indices', 'file', 'id', 'model_name', 'patch_size', 'shape'])\n",
      "0298_resized\n",
      "Starting Training\n",
      "epoch: 00, loss: -0.82457\n",
      "epoch: 01, loss: -0.85875\n",
      "epoch: 02, loss: -0.87075\n",
      "epoch: 03, loss: -0.87845\n",
      "epoch: 04, loss: -0.88440\n",
      "epoch: 05, loss: -0.88931\n",
      "epoch: 06, loss: -0.89372\n",
      "epoch: 07, loss: -0.89700\n",
      "epoch: 08, loss: -0.90017\n",
      "epoch: 09, loss: -0.90272\n",
      "torch.Size([1024, 64])\n",
      "Starting Training\n",
      "epoch: 00, loss: -0.83242\n",
      "epoch: 01, loss: -0.86983\n",
      "epoch: 02, loss: -0.88281\n",
      "epoch: 03, loss: -0.89158\n",
      "epoch: 04, loss: -0.89814\n",
      "epoch: 05, loss: -0.90359\n",
      "epoch: 06, loss: -0.90786\n",
      "epoch: 07, loss: -0.91151\n",
      "epoch: 08, loss: -0.91472\n",
      "epoch: 09, loss: -0.91738\n",
      "torch.Size([1024, 64])\n"
     ]
    },
    {
     "name": "stderr",
     "output_type": "stream",
     "text": [
      " 48%|████▊     | 484/999 [9:39:07<10:57:52, 76.65s/it]"
     ]
    },
    {
     "name": "stdout",
     "output_type": "stream",
     "text": [
      "eigenvalues shape torch.Size([5]) eigenvectors shape torch.Size([5, 1024])\n",
      "484 /home/phdcs2/Hard_Disk/Datasets/Deep-Spectral-Segmentation/data/object-segmentation/ECSSD/features/0486_resized.pth\n",
      "dict_keys(['k', 'indices', 'file', 'id', 'model_name', 'patch_size', 'shape'])\n",
      "0486_resized\n",
      "Starting Training\n",
      "epoch: 00, loss: -0.77916\n",
      "epoch: 01, loss: -0.82611\n",
      "epoch: 02, loss: -0.84413\n",
      "epoch: 03, loss: -0.85583\n",
      "epoch: 04, loss: -0.86514\n",
      "epoch: 05, loss: -0.87238\n",
      "epoch: 06, loss: -0.87877\n",
      "epoch: 07, loss: -0.88359\n",
      "epoch: 08, loss: -0.88806\n",
      "epoch: 09, loss: -0.89187\n",
      "torch.Size([1024, 64])\n"
     ]
    },
    {
     "name": "stderr",
     "output_type": "stream",
     "text": [
      " 49%|████▊     | 485/999 [9:40:18<10:40:39, 74.79s/it]"
     ]
    },
    {
     "name": "stdout",
     "output_type": "stream",
     "text": [
      "eigenvalues shape torch.Size([5]) eigenvectors shape torch.Size([5, 1024])\n",
      "485 /home/phdcs2/Hard_Disk/Datasets/Deep-Spectral-Segmentation/data/object-segmentation/ECSSD/features/0487_resized.pth\n",
      "dict_keys(['k', 'indices', 'file', 'id', 'model_name', 'patch_size', 'shape'])\n",
      "0487_resized\n",
      "epoch: 04, loss: -0.89084\n",
      "epoch: 05, loss: -0.89676\n",
      "epoch: 06, loss: -0.90158\n",
      "epoch: 07, loss: -0.90538\n",
      "epoch: 08, loss: -0.90878\n",
      "epoch: 09, loss: -0.91158\n",
      "torch.Size([1024, 64])\n"
     ]
    },
    {
     "name": "stderr",
     "output_type": "stream",
     "text": [
      " 51%|█████     | 506/999 [10:05:53<9:56:27, 72.59s/it]"
     ]
    },
    {
     "name": "stdout",
     "output_type": "stream",
     "text": [
      "eigenvalues shape torch.Size([5]) eigenvectors shape torch.Size([5, 1024])\n",
      "506 /home/phdcs2/Hard_Disk/Datasets/Deep-Spectral-Segmentation/data/object-segmentation/ECSSD/features/0508_resized.pth\n",
      "dict_keys(['k', 'indices', 'file', 'id', 'model_name', 'patch_size', 'shape'])\n",
      "0508_resized\n",
      "Starting Training\n",
      "epoch: 00, loss: -0.90545\n",
      "epoch: 01, loss: -0.92626\n",
      "epoch: 02, loss: -0.93216\n",
      "epoch: 03, loss: -0.93606\n",
      "epoch: 04, loss: -0.93902\n",
      "epoch: 05, loss: -0.94126\n",
      "epoch: 06, loss: -0.94319\n",
      "epoch: 07, loss: -0.94476\n",
      "epoch: 08, loss: -0.94618\n",
      "epoch: 09, loss: -0.94740\n",
      "torch.Size([1024, 64])\n"
     ]
    },
    {
     "name": "stderr",
     "output_type": "stream",
     "text": [
      " 51%|█████     | 507/999 [10:07:08<10:01:30, 73.35s/it]"
     ]
    },
    {
     "name": "stdout",
     "output_type": "stream",
     "text": [
      "eigenvalues shape torch.Size([5]) eigenvectors shape torch.Size([5, 1024])\n",
      "507 /home/phdcs2/Hard_Disk/Datasets/Deep-Spectral-Segmentation/data/object-segmentation/ECSSD/features/0509_resized.pth\n",
      "dict_keys(['k', 'indices', 'file', 'id', 'model_name', 'patch_size', 'shape'])\n",
      "0509_resized\n",
      "Starting Training\n",
      "epoch: 00, loss: -0.91151\n",
      "epoch: 01, loss: -0.93394\n",
      "epoch: 02, loss: -0.94031\n",
      "epoch: 03, loss: -0.94452\n",
      "epoch: 04, loss: -0.94756\n",
      "epoch: 05, loss: -0.95001\n",
      "epoch: 06, loss: -0.95198\n",
      "epoch: 07, loss: -0.95370\n",
      "epoch: 08, loss: -0.95515\n",
      "epoch: 09, loss: -0.95644\n",
      "torch.Size([1024, 64])\n"
     ]
    },
    {
     "name": "stderr",
     "output_type": "stream",
     "text": [
      " 51%|█████     | 508/999 [10:08:22<9:59:36, 73.27s/it] "
     ]
    },
    {
     "name": "stdout",
     "output_type": "stream",
     "text": [
      "eigenvalues shape torch.Size([5]) eigenvectors shape torch.Size([5, 1024])\n",
      "508 /home/phdcs2/Hard_Disk/Datasets/Deep-Spectral-Segmentation/data/object-segmentation/ECSSD/features/0510_resized.pth\n",
      "dict_keys(['k', 'indices', 'file', 'id', 'model_name', 'patch_size', 'shape'])\n",
      "0510_resized\n",
      "Starting Training\n",
      "epoch: 00, loss: -0.79324\n",
      "epoch: 01, loss: -0.83238\n",
      "epoch: 02, loss: -0.84801\n",
      "epoch: 03, loss: -0.85835\n",
      "epoch: 04, loss: -0.86614\n",
      "epoch: 05, loss: -0.87239\n",
      "epoch: 06, loss: -0.87759\n",
      "epoch: 07, loss: -0.88231\n",
      "epoch: 08, loss: -0.88655\n",
      "epoch: 09, loss: -0.89023\n",
      "torch.Size([1024, 64])\n"
     ]
    },
    {
     "name": "stderr",
     "output_type": "stream",
     "text": [
      " 51%|█████     | 509/999 [10:09:41<10:12:44, 75.03s/it]"
     ]
    },
    {
     "name": "stdout",
     "output_type": "stream",
     "text": [
      "eigenvalues shape torch.Size([5]) eigenvectors shape torch.Size([5, 1024])\n",
      "509 /home/phdcs2/Hard_Disk/Datasets/Deep-Spectral-Segmentation/data/object-segmentation/ECSSD/features/0511_resized.pth\n",
      "dict_keys(['k', 'indices', 'file', 'id', 'model_name', 'patch_size', 'shape'])\n",
      "0511_resized\n",
      "Starting Training\n",
      "epoch: 00, loss: -0.84239\n",
      "epoch: 01, loss: -0.88048\n",
      "epoch: 02, loss: -0.89267\n",
      "epoch: 03, loss: -0.90089\n",
      "epoch: 04, loss: -0.90683\n",
      "epoch: 05, loss: -0.91170\n",
      "epoch: 06, loss: -0.91560\n",
      "epoch: 07, loss: -0.91894\n",
      "epoch: 08, loss: -0.92177\n",
      "epoch: 09, loss: -0.92425\n",
      "torch.Size([1024, 64])\n"
     ]
    },
    {
     "name": "stderr",
     "output_type": "stream",
     "text": [
      " 51%|█████     | 510/999 [10:10:54<10:06:58, 74.48s/it]"
     ]
    },
    {
     "name": "stdout",
     "output_type": "stream",
     "text": [
      "eigenvalues shape torch.Size([5]) eigenvectors shape torch.Size([5, 1024])\n",
      "510 /home/phdcs2/Hard_Disk/Datasets/Deep-Spectral-Segmentation/data/object-segmentation/ECSSD/features/0512_resized.pth\n",
      "dict_keys(['k', 'indices', 'file', 'id', 'model_name', 'patch_size', 'shape'])\n",
      "0512_resized\n",
      "Starting Training\n",
      "epoch: 00, loss: -0.79777\n",
      "epoch: 01, loss: -0.84124\n",
      "epoch: 02, loss: -0.85786\n",
      "epoch: 03, loss: -0.86895\n",
      "epoch: 04, loss: -0.87750\n",
      "epoch: 05, loss: -0.88402\n",
      "epoch: 06, loss: -0.88920\n",
      "epoch: 07, loss: -0.89375\n",
      "epoch: 08, loss: -0.89753\n",
      "epoch: 09, loss: -0.90089\n",
      "torch.Size([1024, 64])\n"
     ]
    },
    {
     "name": "stderr",
     "output_type": "stream",
     "text": [
      " 51%|█████     | 511/999 [10:12:09<10:06:49, 74.61s/it]"
     ]
    },
    {
     "name": "stdout",
     "output_type": "stream",
     "text": [
      "eigenvalues shape torch.Size([5]) eigenvectors shape torch.Size([5, 1024])\n",
      "511 /home/phdcs2/Hard_Disk/Datasets/Deep-Spectral-Segmentation/data/object-segmentation/ECSSD/features/0513_resized.pth\n",
      "dict_keys(['k', 'indices', 'file', 'id', 'model_name', 'patch_size', 'shape'])\n",
      "0513_resized\n",
      "Starting Training\n",
      "epoch: 00, loss: -0.90255\n",
      "epoch: 01, loss: -0.92842\n",
      "epoch: 02, loss: -0.93557\n",
      "epoch: 03, loss: -0.94034\n",
      "epoch: 04, loss: -0.94391\n",
      "epoch: 05, loss: -0.94654\n",
      "epoch: 06, loss: -0.94883\n",
      "epoch: 07, loss: -0.95070\n",
      "epoch: 08, loss: -0.95235\n",
      "epoch: 09, loss: -0.95374\n",
      "torch.Size([1024, 64])\n"
     ]
    },
    {
     "name": "stderr",
     "output_type": "stream",
     "text": [
      " 51%|█████▏    | 512/999 [10:13:24<10:07:06, 74.80s/it]"
     ]
    },
    {
     "name": "stdout",
     "output_type": "stream",
     "text": [
      "eigenvalues shape torch.Size([5]) eigenvectors shape torch.Size([5, 1024])\n",
      "512 /home/phdcs2/Hard_Disk/Datasets/Deep-Spectral-Segmentation/data/object-segmentation/ECSSD/features/0514_resized.pth\n",
      "dict_keys(['k', 'indices', 'file', 'id', 'model_name', 'patch_size', 'shape'])\n",
      "0514_resized\n",
      "Starting Training\n",
      "epoch: 00, loss: -0.83818\n",
      "epoch: 01, loss: -0.88025\n",
      "epoch: 02, loss: -0.89305\n",
      "epoch: 03, loss: -0.90130\n",
      "epoch: 04, loss: -0.90725\n",
      "epoch: 05, loss: -0.91186\n",
      "epoch: 06, loss: -0.91566\n",
      "epoch: 07, loss: -0.91887\n",
      "epoch: 08, loss: -0.92157\n",
      "epoch: 09, loss: -0.92390\n",
      "torch.Size([1024, 64])\n"
     ]
    },
    {
     "name": "stderr",
     "output_type": "stream",
     "text": [
      " 51%|█████▏    | 513/999 [10:14:38<10:04:00, 74.57s/it]"
     ]
    },
    {
     "name": "stdout",
     "output_type": "stream",
     "text": [
      "eigenvalues shape torch.Size([5]) eigenvectors shape torch.Size([5, 1024])\n",
      "513 /home/phdcs2/Hard_Disk/Datasets/Deep-Spectral-Segmentation/data/object-segmentation/ECSSD/features/0515_resized.pth\n",
      "dict_keys(['k', 'indices', 'file', 'id', 'model_name', 'patch_size', 'shape'])\n",
      "0515_resized\n"
     ]
    },
    {
     "name": "stderr",
     "output_type": "stream",
     "text": [
      "/home/phdcs2/Hard_Disk/Projects/T2I/deep-spectral-segmentation/venv/lib/python3.8/site-packages/sklearn/decomposition/_pca.py:642: RuntimeWarning: invalid value encountered in divide\n",
      "  self.explained_variance_ratio_ = self.explained_variance_ / total_var\n"
     ]
    },
    {
     "name": "stdout",
     "output_type": "stream",
     "text": [
      "Starting Training\n",
      "epoch: 00, loss: -0.88297\n",
      "epoch: 01, loss: -0.90766\n",
      "epoch: 02, loss: -0.91560\n",
      "epoch: 03, loss: -0.92091\n",
      "epoch: 04, loss: -0.92463\n",
      "epoch: 05, loss: -0.92764\n",
      "epoch: 06, loss: -0.93012\n",
      "epoch: 07, loss: -0.93229\n",
      "epoch: 08, loss: -0.93414\n",
      "epoch: 09, loss: -0.93568\n",
      "torch.Size([1024, 64])\n"
     ]
    },
    {
     "name": "stderr",
     "output_type": "stream",
     "text": [
      " 51%|█████▏    | 514/999 [10:15:46<9:47:08, 72.64s/it] "
     ]
    },
    {
     "name": "stdout",
     "output_type": "stream",
     "text": [
      "eigenvalues shape torch.Size([5]) eigenvectors shape torch.Size([5, 1024])\n",
      "514 /home/phdcs2/Hard_Disk/Datasets/Deep-Spectral-Segmentation/data/object-segmentation/ECSSD/features/0516_resized.pth\n",
      "dict_keys(['k', 'indices', 'file', 'id', 'model_name', 'patch_size', 'shape'])\n",
      "0516_resized\n",
      "Starting Training\n",
      "epoch: 00, loss: -0.82218\n",
      "epoch: 01, loss: -0.86290\n",
      "epoch: 02, loss: -0.87848\n",
      "epoch: 03, loss: -0.88875\n",
      "epoch: 04, loss: -0.89639\n",
      "epoch: 05, loss: -0.90223\n",
      "epoch: 06, loss: -0.90701\n",
      "epoch: 07, loss: -0.91111\n",
      "epoch: 08, loss: -0.91469\n",
      "epoch: 09, loss: -0.91751\n",
      "torch.Size([1024, 64])\n"
     ]
    },
    {
     "name": "stderr",
     "output_type": "stream",
     "text": [
      " 52%|█████▏    | 515/999 [10:16:53<9:32:05, 70.92s/it]"
     ]
    },
    {
     "name": "stdout",
     "output_type": "stream",
     "text": [
      "eigenvalues shape torch.Size([5]) eigenvectors shape torch.Size([5, 1024])\n",
      "515 /home/phdcs2/Hard_Disk/Datasets/Deep-Spectral-Segmentation/data/object-segmentation/ECSSD/features/0517_resized.pth\n",
      "dict_keys(['k', 'indices', 'file', 'id', 'model_name', 'patch_size', 'shape'])\n",
      "0517_resized\n",
      "Starting Training\n",
      "epoch: 00, loss: -0.89243\n",
      "epoch: 01, loss: -0.91817\n",
      "epoch: 02, loss: -0.92615\n",
      "epoch: 03, loss: -0.93130\n",
      "epoch: 04, loss: -0.93522\n",
      "epoch: 05, loss: -0.93828\n",
      "epoch: 06, loss: -0.94080\n",
      "epoch: 07, loss: -0.94298\n",
      "epoch: 08, loss: -0.94479\n",
      "epoch: 09, loss: -0.94647\n",
      "torch.Size([1024, 64])\n"
     ]
    },
    {
     "name": "stderr",
     "output_type": "stream",
     "text": [
      " 52%|█████▏    | 516/999 [10:18:08<9:40:22, 72.10s/it]"
     ]
    },
    {
     "name": "stdout",
     "output_type": "stream",
     "text": [
      "eigenvalues shape torch.Size([5]) eigenvectors shape torch.Size([5, 1024])\n",
      "516 /home/phdcs2/Hard_Disk/Datasets/Deep-Spectral-Segmentation/data/object-segmentation/ECSSD/features/0518_resized.pth\n",
      "dict_keys(['k', 'indices', 'file', 'id', 'model_name', 'patch_size', 'shape'])\n",
      "0518_resized\n",
      "Starting Training\n",
      "epoch: 00, loss: -0.77419\n",
      "epoch: 01, loss: -0.81957\n",
      "epoch: 02, loss: -0.83571\n",
      "epoch: 03, loss: -0.84666\n",
      "epoch: 04, loss: -0.85531\n",
      "epoch: 05, loss: -0.86243\n",
      "epoch: 06, loss: -0.86839\n",
      "epoch: 07, loss: -0.87345\n",
      "epoch: 08, loss: -0.87765\n",
      "epoch: 09, loss: -0.88111\n",
      "torch.Size([1024, 64])\n"
     ]
    },
    {
     "name": "stderr",
     "output_type": "stream",
     "text": [
      " 52%|█████▏    | 517/999 [10:19:24<9:49:30, 73.38s/it]"
     ]
    },
    {
     "name": "stdout",
     "output_type": "stream",
     "text": [
      "eigenvalues shape torch.Size([5]) eigenvectors shape torch.Size([5, 1024])\n",
      "517 /home/phdcs2/Hard_Disk/Datasets/Deep-Spectral-Segmentation/data/object-segmentation/ECSSD/features/0519_resized.pth\n",
      "dict_keys(['k', 'indices', 'file', 'id', 'model_name', 'patch_size', 'shape'])\n",
      "0519_resized\n",
      "Starting Training\n",
      "epoch: 00, loss: -0.82422\n",
      "epoch: 01, loss: -0.86517\n",
      "epoch: 02, loss: -0.87988\n",
      "epoch: 03, loss: -0.88913\n",
      "epoch: 04, loss: -0.89591\n",
      "epoch: 05, loss: -0.90134\n",
      "epoch: 06, loss: -0.90540\n",
      "epoch: 07, loss: -0.90914\n",
      "epoch: 08, loss: -0.91215\n",
      "epoch: 09, loss: -0.91494\n",
      "torch.Size([1024, 64])\n"
     ]
    },
    {
     "name": "stderr",
     "output_type": "stream",
     "text": [
      " 52%|█████▏    | 518/999 [10:20:42<9:59:00, 74.72s/it]"
     ]
    },
    {
     "name": "stdout",
     "output_type": "stream",
     "text": [
      "eigenvalues shape torch.Size([5]) eigenvectors shape torch.Size([5, 1024])\n",
      "518 /home/phdcs2/Hard_Disk/Datasets/Deep-Spectral-Segmentation/data/object-segmentation/ECSSD/features/0520_resized.pth\n",
      "dict_keys(['k', 'indices', 'file', 'id', 'model_name', 'patch_size', 'shape'])\n",
      "0520_resized\n",
      "Starting Training\n",
      "epoch: 00, loss: -0.83759\n",
      "epoch: 01, loss: -0.87609\n",
      "epoch: 02, loss: -0.88852\n",
      "epoch: 03, loss: -0.89655\n",
      "epoch: 04, loss: -0.90258\n",
      "epoch: 05, loss: -0.90764\n",
      "epoch: 06, loss: -0.91165\n",
      "epoch: 07, loss: -0.91509\n",
      "epoch: 08, loss: -0.91822\n",
      "epoch: 09, loss: -0.92084\n",
      "torch.Size([1024, 64])\n"
     ]
    },
    {
     "name": "stderr",
     "output_type": "stream",
     "text": [
      " 52%|█████▏    | 519/999 [10:22:03<10:12:29, 76.56s/it]"
     ]
    },
    {
     "name": "stdout",
     "output_type": "stream",
     "text": [
      "eigenvalues shape torch.Size([5]) eigenvectors shape torch.Size([5, 1024])\n",
      "519 /home/phdcs2/Hard_Disk/Datasets/Deep-Spectral-Segmentation/data/object-segmentation/ECSSD/features/0521_resized.pth\n",
      "dict_keys(['k', 'indices', 'file', 'id', 'model_name', 'patch_size', 'shape'])\n",
      "0521_resized\n",
      "Starting Training\n",
      "epoch: 00, loss: -0.90967\n",
      "epoch: 01, loss: -0.93136\n",
      "epoch: 02, loss: -0.93704\n",
      "epoch: 03, loss: -0.94069\n",
      "epoch: 04, loss: -0.94346\n",
      "epoch: 05, loss: -0.94567\n",
      "epoch: 06, loss: -0.94749\n",
      "epoch: 07, loss: -0.94902\n",
      "epoch: 08, loss: -0.95039\n",
      "epoch: 09, loss: -0.95154\n",
      "torch.Size([1024, 64])\n"
     ]
    },
    {
     "name": "stderr",
     "output_type": "stream",
     "text": [
      " 52%|█████▏    | 520/999 [10:23:19<10:10:36, 76.49s/it]"
     ]
    },
    {
     "name": "stdout",
     "output_type": "stream",
     "text": [
      "eigenvalues shape torch.Size([5]) eigenvectors shape torch.Size([5, 1024])\n",
      "520 /home/phdcs2/Hard_Disk/Datasets/Deep-Spectral-Segmentation/data/object-segmentation/ECSSD/features/0522_resized.pth\n",
      "dict_keys(['k', 'indices', 'file', 'id', 'model_name', 'patch_size', 'shape'])\n",
      "0522_resized\n",
      "Starting Training\n",
      "epoch: 00, loss: -0.80919\n",
      "epoch: 01, loss: -0.85668\n",
      "epoch: 02, loss: -0.87174\n",
      "epoch: 03, loss: -0.88126\n",
      "epoch: 04, loss: -0.88804\n",
      "epoch: 05, loss: -0.89348\n",
      "epoch: 06, loss: -0.89794\n",
      "epoch: 07, loss: -0.90170\n",
      "epoch: 08, loss: -0.90511\n",
      "epoch: 09, loss: -0.90798\n",
      "torch.Size([1024, 64])\n"
     ]
    },
    {
     "name": "stderr",
     "output_type": "stream",
     "text": [
      " 52%|█████▏    | 521/999 [10:24:36<10:10:41, 76.66s/it]"
     ]
    },
    {
     "name": "stdout",
     "output_type": "stream",
     "text": [
      "eigenvalues shape torch.Size([5]) eigenvectors shape torch.Size([5, 1024])\n",
      "521 /home/phdcs2/Hard_Disk/Datasets/Deep-Spectral-Segmentation/data/object-segmentation/ECSSD/features/0523_resized.pth\n",
      "dict_keys(['k', 'indices', 'file', 'id', 'model_name', 'patch_size', 'shape'])\n",
      "0523_resized\n"
     ]
    },
    {
     "name": "stderr",
     "output_type": "stream",
     "text": [
      "/home/phdcs2/Hard_Disk/Projects/T2I/deep-spectral-segmentation/venv/lib/python3.8/site-packages/sklearn/decomposition/_pca.py:642: RuntimeWarning: invalid value encountered in divide\n",
      "  self.explained_variance_ratio_ = self.explained_variance_ / total_var\n"
     ]
    },
    {
     "name": "stdout",
     "output_type": "stream",
     "text": [
      "Starting Training\n",
      "epoch: 00, loss: -0.91611\n",
      "epoch: 01, loss: -0.94045\n",
      "epoch: 02, loss: -0.94601\n",
      "epoch: 03, loss: -0.94971\n",
      "epoch: 04, loss: -0.95234\n",
      "epoch: 05, loss: -0.95448\n",
      "epoch: 06, loss: -0.95619\n",
      "epoch: 07, loss: -0.95765\n",
      "epoch: 08, loss: -0.95890\n",
      "epoch: 09, loss: -0.95999\n",
      "torch.Size([1024, 64])\n"
     ]
    },
    {
     "name": "stderr",
     "output_type": "stream",
     "text": [
      " 52%|█████▏    | 522/999 [10:25:53<10:08:45, 76.57s/it]"
     ]
    },
    {
     "name": "stdout",
     "output_type": "stream",
     "text": [
      "eigenvalues shape torch.Size([5]) eigenvectors shape torch.Size([5, 1024])\n",
      "522 /home/phdcs2/Hard_Disk/Datasets/Deep-Spectral-Segmentation/data/object-segmentation/ECSSD/features/0524_resized.pth\n",
      "dict_keys(['k', 'indices', 'file', 'id', 'model_name', 'patch_size', 'shape'])\n",
      "0524_resized\n",
      "Starting Training\n",
      "epoch: 00, loss: -0.79764\n",
      "epoch: 01, loss: -0.84323\n",
      "epoch: 02, loss: -0.85868\n",
      "epoch: 03, loss: -0.86886\n",
      "epoch: 04, loss: -0.87679\n",
      "epoch: 05, loss: -0.88313\n",
      "epoch: 06, loss: -0.88819\n",
      "epoch: 07, loss: -0.89281\n",
      "epoch: 08, loss: -0.89620\n",
      "epoch: 09, loss: -0.89964\n",
      "torch.Size([1024, 64])\n"
     ]
    },
    {
     "name": "stderr",
     "output_type": "stream",
     "text": [
      " 52%|█████▏    | 523/999 [10:27:05<9:57:35, 75.33s/it] "
     ]
    },
    {
     "name": "stdout",
     "output_type": "stream",
     "text": [
      "eigenvalues shape torch.Size([5]) eigenvectors shape torch.Size([5, 1024])\n",
      "523 /home/phdcs2/Hard_Disk/Datasets/Deep-Spectral-Segmentation/data/object-segmentation/ECSSD/features/0525_resized.pth\n",
      "dict_keys(['k', 'indices', 'file', 'id', 'model_name', 'patch_size', 'shape'])\n",
      "0525_resized\n",
      "Starting Training\n",
      "epoch: 00, loss: -0.78852\n",
      "epoch: 01, loss: -0.83648\n",
      "epoch: 02, loss: -0.85496\n",
      "epoch: 03, loss: -0.86646\n",
      "epoch: 04, loss: -0.87543\n",
      "epoch: 05, loss: -0.88236\n",
      "epoch: 06, loss: -0.88785\n",
      "epoch: 07, loss: -0.89297\n",
      "epoch: 08, loss: -0.89689\n",
      "epoch: 09, loss: -0.90045\n",
      "torch.Size([1024, 64])\n"
     ]
    },
    {
     "name": "stderr",
     "output_type": "stream",
     "text": [
      " 52%|█████▏    | 524/999 [10:28:11<9:33:34, 72.45s/it]"
     ]
    },
    {
     "name": "stdout",
     "output_type": "stream",
     "text": [
      "eigenvalues shape torch.Size([5]) eigenvectors shape torch.Size([5, 1024])\n",
      "524 /home/phdcs2/Hard_Disk/Datasets/Deep-Spectral-Segmentation/data/object-segmentation/ECSSD/features/0526_resized.pth\n",
      "dict_keys(['k', 'indices', 'file', 'id', 'model_name', 'patch_size', 'shape'])\n",
      "0526_resized\n"
     ]
    },
    {
     "name": "stderr",
     "output_type": "stream",
     "text": [
      "/home/phdcs2/Hard_Disk/Projects/T2I/deep-spectral-segmentation/venv/lib/python3.8/site-packages/sklearn/decomposition/_pca.py:642: RuntimeWarning: invalid value encountered in divide\n",
      "  self.explained_variance_ratio_ = self.explained_variance_ / total_var\n"
     ]
    },
    {
     "name": "stdout",
     "output_type": "stream",
     "text": [
      "Starting Training\n",
      "epoch: 00, loss: -0.88329\n",
      "epoch: 01, loss: -0.91161\n",
      "epoch: 02, loss: -0.91957\n",
      "epoch: 03, loss: -0.92481\n",
      "epoch: 04, loss: -0.92868\n",
      "epoch: 05, loss: -0.93175\n",
      "epoch: 06, loss: -0.93428\n",
      "epoch: 07, loss: -0.93643\n",
      "epoch: 08, loss: -0.93830\n",
      "epoch: 09, loss: -0.93997\n",
      "torch.Size([1024, 64])\n"
     ]
    },
    {
     "name": "stderr",
     "output_type": "stream",
     "text": [
      " 53%|█████▎    | 525/999 [10:29:21<9:25:38, 71.60s/it]"
     ]
    },
    {
     "name": "stdout",
     "output_type": "stream",
     "text": [
      "eigenvalues shape torch.Size([5]) eigenvectors shape torch.Size([5, 1024])\n",
      "525 /home/phdcs2/Hard_Disk/Datasets/Deep-Spectral-Segmentation/data/object-segmentation/ECSSD/features/0527_resized.pth\n",
      "dict_keys(['k', 'indices', 'file', 'id', 'model_name', 'patch_size', 'shape'])\n",
      "0527_resized\n"
     ]
    },
    {
     "name": "stderr",
     "output_type": "stream",
     "text": [
      "/home/phdcs2/Hard_Disk/Projects/T2I/deep-spectral-segmentation/venv/lib/python3.8/site-packages/sklearn/decomposition/_pca.py:642: RuntimeWarning: invalid value encountered in divide\n",
      "  self.explained_variance_ratio_ = self.explained_variance_ / total_var\n"
     ]
    },
    {
     "name": "stdout",
     "output_type": "stream",
     "text": [
      "Starting Training\n",
      "epoch: 00, loss: -0.88424\n",
      "epoch: 01, loss: -0.91122\n",
      "epoch: 02, loss: -0.91851\n",
      "epoch: 03, loss: -0.92325\n",
      "epoch: 04, loss: -0.92690\n",
      "epoch: 05, loss: -0.92983\n",
      "epoch: 06, loss: -0.93221\n",
      "epoch: 07, loss: -0.93430\n",
      "epoch: 08, loss: -0.93602\n",
      "epoch: 09, loss: -0.93766\n",
      "torch.Size([1024, 64])\n"
     ]
    },
    {
     "name": "stderr",
     "output_type": "stream",
     "text": [
      " 53%|█████▎    | 526/999 [10:30:29<9:17:46, 70.75s/it]"
     ]
    },
    {
     "name": "stdout",
     "output_type": "stream",
     "text": [
      "eigenvalues shape torch.Size([5]) eigenvectors shape torch.Size([5, 1024])\n",
      "526 /home/phdcs2/Hard_Disk/Datasets/Deep-Spectral-Segmentation/data/object-segmentation/ECSSD/features/0528_resized.pth\n",
      "dict_keys(['k', 'indices', 'file', 'id', 'model_name', 'patch_size', 'shape'])\n",
      "0528_resized\n",
      "Starting Training\n",
      "epoch: 00, loss: -0.82027\n",
      "epoch: 01, loss: -0.85812\n",
      "epoch: 02, loss: -0.87110\n",
      "epoch: 03, loss: -0.87997\n",
      "epoch: 04, loss: -0.88705\n",
      "epoch: 05, loss: -0.89205\n",
      "epoch: 06, loss: -0.89641\n",
      "epoch: 07, loss: -0.90027\n",
      "epoch: 08, loss: -0.90355\n",
      "epoch: 09, loss: -0.90636\n",
      "torch.Size([1024, 64])\n"
     ]
    },
    {
     "name": "stderr",
     "output_type": "stream",
     "text": [
      " 53%|█████▎    | 527/999 [10:31:40<9:17:11, 70.83s/it]"
     ]
    },
    {
     "name": "stdout",
     "output_type": "stream",
     "text": [
      "eigenvalues shape torch.Size([5]) eigenvectors shape torch.Size([5, 1024])\n",
      "527 /home/phdcs2/Hard_Disk/Datasets/Deep-Spectral-Segmentation/data/object-segmentation/ECSSD/features/0529_resized.pth\n",
      "dict_keys(['k', 'indices', 'file', 'id', 'model_name', 'patch_size', 'shape'])\n",
      "0529_resized\n",
      "Starting Training\n",
      "epoch: 00, loss: -0.81739\n",
      "epoch: 01, loss: -0.85847\n",
      "epoch: 02, loss: -0.87384\n",
      "epoch: 03, loss: -0.88377\n",
      "epoch: 04, loss: -0.89044\n",
      "epoch: 05, loss: -0.89664\n",
      "epoch: 06, loss: -0.90145\n",
      "epoch: 07, loss: -0.90531\n",
      "epoch: 08, loss: -0.90897\n",
      "epoch: 09, loss: -0.91198\n",
      "torch.Size([1024, 64])\n"
     ]
    },
    {
     "name": "stderr",
     "output_type": "stream",
     "text": [
      " 53%|█████▎    | 528/999 [10:32:49<9:11:20, 70.23s/it]"
     ]
    },
    {
     "name": "stdout",
     "output_type": "stream",
     "text": [
      "eigenvalues shape torch.Size([5]) eigenvectors shape torch.Size([5, 1024])\n",
      "528 /home/phdcs2/Hard_Disk/Datasets/Deep-Spectral-Segmentation/data/object-segmentation/ECSSD/features/0530_resized.pth\n",
      "dict_keys(['k', 'indices', 'file', 'id', 'model_name', 'patch_size', 'shape'])\n",
      "0530_resized\n"
     ]
    },
    {
     "name": "stderr",
     "output_type": "stream",
     "text": [
      "/home/phdcs2/Hard_Disk/Projects/T2I/deep-spectral-segmentation/venv/lib/python3.8/site-packages/sklearn/decomposition/_pca.py:642: RuntimeWarning: invalid value encountered in divide\n",
      "  self.explained_variance_ratio_ = self.explained_variance_ / total_var\n"
     ]
    },
    {
     "name": "stdout",
     "output_type": "stream",
     "text": [
      "Starting Training\n",
      "epoch: 00, loss: -0.89357\n",
      "epoch: 01, loss: -0.91949\n",
      "epoch: 02, loss: -0.92763\n",
      "epoch: 03, loss: -0.93285\n",
      "epoch: 04, loss: -0.93677\n",
      "epoch: 05, loss: -0.93985\n",
      "epoch: 06, loss: -0.94233\n",
      "epoch: 07, loss: -0.94448\n",
      "epoch: 08, loss: -0.94626\n",
      "epoch: 09, loss: -0.94786\n",
      "torch.Size([1024, 64])\n"
     ]
    },
    {
     "name": "stderr",
     "output_type": "stream",
     "text": [
      " 53%|█████▎    | 529/999 [10:33:54<8:56:37, 68.51s/it]"
     ]
    },
    {
     "name": "stdout",
     "output_type": "stream",
     "text": [
      "eigenvalues shape torch.Size([5]) eigenvectors shape torch.Size([5, 1024])\n",
      "529 /home/phdcs2/Hard_Disk/Datasets/Deep-Spectral-Segmentation/data/object-segmentation/ECSSD/features/0531_resized.pth\n",
      "dict_keys(['k', 'indices', 'file', 'id', 'model_name', 'patch_size', 'shape'])\n",
      "0531_resized\n"
     ]
    },
    {
     "name": "stderr",
     "output_type": "stream",
     "text": [
      "/home/phdcs2/Hard_Disk/Projects/T2I/deep-spectral-segmentation/venv/lib/python3.8/site-packages/sklearn/decomposition/_pca.py:642: RuntimeWarning: invalid value encountered in divide\n",
      "  self.explained_variance_ratio_ = self.explained_variance_ / total_var\n"
     ]
    },
    {
     "name": "stdout",
     "output_type": "stream",
     "text": [
      "Starting Training\n",
      "epoch: 00, loss: -0.91048\n",
      "epoch: 01, loss: -0.93177\n",
      "epoch: 02, loss: -0.93797\n",
      "epoch: 03, loss: -0.94197\n",
      "epoch: 04, loss: -0.94497\n",
      "epoch: 05, loss: -0.94736\n",
      "epoch: 06, loss: -0.94934\n",
      "epoch: 07, loss: -0.95103\n",
      "epoch: 08, loss: -0.95250\n",
      "epoch: 09, loss: -0.95378\n",
      "torch.Size([1024, 64])\n"
     ]
    },
    {
     "name": "stderr",
     "output_type": "stream",
     "text": [
      " 53%|█████▎    | 530/999 [10:34:55<8:39:20, 66.44s/it]"
     ]
    },
    {
     "name": "stdout",
     "output_type": "stream",
     "text": [
      "eigenvalues shape torch.Size([5]) eigenvectors shape torch.Size([5, 1024])\n",
      "530 /home/phdcs2/Hard_Disk/Datasets/Deep-Spectral-Segmentation/data/object-segmentation/ECSSD/features/0532_resized.pth\n",
      "dict_keys(['k', 'indices', 'file', 'id', 'model_name', 'patch_size', 'shape'])\n",
      "0532_resized\n"
     ]
    },
    {
     "name": "stderr",
     "output_type": "stream",
     "text": [
      "/home/phdcs2/Hard_Disk/Projects/T2I/deep-spectral-segmentation/venv/lib/python3.8/site-packages/sklearn/decomposition/_pca.py:642: RuntimeWarning: invalid value encountered in divide\n",
      "  self.explained_variance_ratio_ = self.explained_variance_ / total_var\n"
     ]
    },
    {
     "name": "stdout",
     "output_type": "stream",
     "text": [
      "Starting Training\n",
      "epoch: 00, loss: -0.89492\n",
      "epoch: 01, loss: -0.91856\n",
      "epoch: 02, loss: -0.92499\n",
      "epoch: 03, loss: -0.92943\n",
      "epoch: 04, loss: -0.93268\n",
      "epoch: 05, loss: -0.93537\n",
      "epoch: 06, loss: -0.93765\n",
      "epoch: 07, loss: -0.93950\n",
      "epoch: 08, loss: -0.94117\n",
      "epoch: 09, loss: -0.94269\n",
      "torch.Size([1024, 64])\n"
     ]
    },
    {
     "name": "stderr",
     "output_type": "stream",
     "text": [
      " 53%|█████▎    | 531/999 [10:35:58<8:29:26, 65.31s/it]"
     ]
    },
    {
     "name": "stdout",
     "output_type": "stream",
     "text": [
      "eigenvalues shape torch.Size([5]) eigenvectors shape torch.Size([5, 1024])\n",
      "531 /home/phdcs2/Hard_Disk/Datasets/Deep-Spectral-Segmentation/data/object-segmentation/ECSSD/features/0533_resized.pth\n",
      "dict_keys(['k', 'indices', 'file', 'id', 'model_name', 'patch_size', 'shape'])\n",
      "0533_resized\n",
      "Starting Training\n",
      "epoch: 00, loss: -0.86532\n",
      "epoch: 01, loss: -0.89160\n",
      "epoch: 02, loss: -0.90032\n",
      "epoch: 03, loss: -0.90656\n",
      "epoch: 04, loss: -0.91155\n",
      "epoch: 05, loss: -0.91563\n",
      "epoch: 06, loss: -0.91879\n",
      "epoch: 07, loss: -0.92187\n",
      "epoch: 08, loss: -0.92436\n",
      "epoch: 09, loss: -0.92662\n",
      "torch.Size([1024, 64])\n"
     ]
    },
    {
     "name": "stderr",
     "output_type": "stream",
     "text": [
      " 53%|█████▎    | 532/999 [10:36:55<8:09:27, 62.89s/it]"
     ]
    },
    {
     "name": "stdout",
     "output_type": "stream",
     "text": [
      "eigenvalues shape torch.Size([5]) eigenvectors shape torch.Size([5, 1024])\n",
      "532 /home/phdcs2/Hard_Disk/Datasets/Deep-Spectral-Segmentation/data/object-segmentation/ECSSD/features/0534_resized.pth\n",
      "dict_keys(['k', 'indices', 'file', 'id', 'model_name', 'patch_size', 'shape'])\n",
      "0534_resized\n",
      "Starting Training\n",
      "epoch: 00, loss: -0.90438\n",
      "epoch: 01, loss: -0.92509\n",
      "epoch: 02, loss: -0.93126\n",
      "epoch: 03, loss: -0.93528\n",
      "epoch: 04, loss: -0.93830\n",
      "epoch: 05, loss: -0.94071\n",
      "epoch: 06, loss: -0.94271\n",
      "epoch: 07, loss: -0.94439\n",
      "epoch: 08, loss: -0.94585\n",
      "epoch: 09, loss: -0.94718\n",
      "torch.Size([1024, 64])\n"
     ]
    },
    {
     "name": "stderr",
     "output_type": "stream",
     "text": [
      " 53%|█████▎    | 533/999 [10:37:46<7:39:10, 59.12s/it]"
     ]
    },
    {
     "name": "stdout",
     "output_type": "stream",
     "text": [
      "eigenvalues shape torch.Size([5]) eigenvectors shape torch.Size([5, 1024])\n",
      "533 /home/phdcs2/Hard_Disk/Datasets/Deep-Spectral-Segmentation/data/object-segmentation/ECSSD/features/0535_resized.pth\n",
      "dict_keys(['k', 'indices', 'file', 'id', 'model_name', 'patch_size', 'shape'])\n",
      "0535_resized\n"
     ]
    },
    {
     "name": "stderr",
     "output_type": "stream",
     "text": [
      "/home/phdcs2/Hard_Disk/Projects/T2I/deep-spectral-segmentation/venv/lib/python3.8/site-packages/sklearn/decomposition/_pca.py:642: RuntimeWarning: invalid value encountered in divide\n",
      "  self.explained_variance_ratio_ = self.explained_variance_ / total_var\n"
     ]
    },
    {
     "name": "stdout",
     "output_type": "stream",
     "text": [
      "Starting Training\n",
      "epoch: 00, loss: -0.89019\n",
      "epoch: 01, loss: -0.92150\n",
      "epoch: 02, loss: -0.92859\n",
      "epoch: 03, loss: -0.93326\n",
      "epoch: 04, loss: -0.93681\n",
      "epoch: 05, loss: -0.93957\n",
      "epoch: 06, loss: -0.94191\n",
      "epoch: 07, loss: -0.94378\n",
      "epoch: 08, loss: -0.94555\n",
      "epoch: 09, loss: -0.94702\n",
      "torch.Size([1024, 64])\n"
     ]
    },
    {
     "name": "stderr",
     "output_type": "stream",
     "text": [
      " 53%|█████▎    | 534/999 [10:38:50<7:50:15, 60.68s/it]"
     ]
    },
    {
     "name": "stdout",
     "output_type": "stream",
     "text": [
      "eigenvalues shape torch.Size([5]) eigenvectors shape torch.Size([5, 1024])\n",
      "534 /home/phdcs2/Hard_Disk/Datasets/Deep-Spectral-Segmentation/data/object-segmentation/ECSSD/features/0536_resized.pth\n",
      "dict_keys(['k', 'indices', 'file', 'id', 'model_name', 'patch_size', 'shape'])\n",
      "0536_resized\n",
      "Starting Training\n",
      "epoch: 00, loss: -0.87532\n",
      "epoch: 01, loss: -0.90402\n",
      "epoch: 02, loss: -0.91276\n",
      "epoch: 03, loss: -0.91851\n",
      "epoch: 04, loss: -0.92288\n",
      "epoch: 05, loss: -0.92640\n",
      "epoch: 06, loss: -0.92914\n",
      "epoch: 07, loss: -0.93165\n",
      "epoch: 08, loss: -0.93371\n",
      "epoch: 09, loss: -0.93559\n",
      "torch.Size([1024, 64])\n"
     ]
    },
    {
     "name": "stderr",
     "output_type": "stream",
     "text": [
      " 54%|█████▎    | 535/999 [10:40:05<8:21:50, 64.89s/it]"
     ]
    },
    {
     "name": "stdout",
     "output_type": "stream",
     "text": [
      "eigenvalues shape torch.Size([5]) eigenvectors shape torch.Size([5, 1024])\n",
      "535 /home/phdcs2/Hard_Disk/Datasets/Deep-Spectral-Segmentation/data/object-segmentation/ECSSD/features/0537_resized.pth\n",
      "dict_keys(['k', 'indices', 'file', 'id', 'model_name', 'patch_size', 'shape'])\n",
      "0537_resized\n",
      "Starting Training\n",
      "epoch: 00, loss: -0.80864\n",
      "epoch: 01, loss: -0.85241\n",
      "epoch: 02, loss: -0.86798\n",
      "epoch: 03, loss: -0.87818\n",
      "epoch: 04, loss: -0.88595\n",
      "epoch: 05, loss: -0.89236\n",
      "epoch: 06, loss: -0.89700\n",
      "epoch: 07, loss: -0.90134\n",
      "epoch: 08, loss: -0.90515\n",
      "epoch: 09, loss: -0.90824\n",
      "torch.Size([1024, 64])\n"
     ]
    },
    {
     "name": "stderr",
     "output_type": "stream",
     "text": [
      " 54%|█████▎    | 536/999 [10:41:20<8:46:12, 68.19s/it]"
     ]
    },
    {
     "name": "stdout",
     "output_type": "stream",
     "text": [
      "eigenvalues shape torch.Size([5]) eigenvectors shape torch.Size([5, 1024])\n",
      "536 /home/phdcs2/Hard_Disk/Datasets/Deep-Spectral-Segmentation/data/object-segmentation/ECSSD/features/0538_resized.pth\n",
      "dict_keys(['k', 'indices', 'file', 'id', 'model_name', 'patch_size', 'shape'])\n",
      "0538_resized\n"
     ]
    },
    {
     "name": "stderr",
     "output_type": "stream",
     "text": [
      "/home/phdcs2/Hard_Disk/Projects/T2I/deep-spectral-segmentation/venv/lib/python3.8/site-packages/sklearn/decomposition/_pca.py:642: RuntimeWarning: invalid value encountered in divide\n",
      "  self.explained_variance_ratio_ = self.explained_variance_ / total_var\n"
     ]
    },
    {
     "name": "stdout",
     "output_type": "stream",
     "text": [
      "Starting Training\n",
      "epoch: 00, loss: -0.87962\n",
      "epoch: 01, loss: -0.90235\n",
      "epoch: 02, loss: -0.91059\n",
      "epoch: 03, loss: -0.91615\n",
      "epoch: 04, loss: -0.92049\n",
      "epoch: 05, loss: -0.92381\n",
      "epoch: 06, loss: -0.92673\n",
      "epoch: 07, loss: -0.92917\n",
      "epoch: 08, loss: -0.93132\n",
      "epoch: 09, loss: -0.93323\n",
      "torch.Size([1024, 64])\n"
     ]
    },
    {
     "name": "stderr",
     "output_type": "stream",
     "text": [
      " 54%|█████▍    | 537/999 [10:42:36<9:01:49, 70.37s/it]"
     ]
    },
    {
     "name": "stdout",
     "output_type": "stream",
     "text": [
      "eigenvalues shape torch.Size([5]) eigenvectors shape torch.Size([5, 1024])\n",
      "537 /home/phdcs2/Hard_Disk/Datasets/Deep-Spectral-Segmentation/data/object-segmentation/ECSSD/features/0539_resized.pth\n",
      "dict_keys(['k', 'indices', 'file', 'id', 'model_name', 'patch_size', 'shape'])\n",
      "0539_resized\n",
      "Starting Training\n",
      "epoch: 00, loss: -0.89940\n",
      "epoch: 01, loss: -0.92391\n",
      "epoch: 02, loss: -0.93115\n",
      "epoch: 03, loss: -0.93595\n",
      "epoch: 04, loss: -0.93942\n",
      "epoch: 05, loss: -0.94223\n",
      "epoch: 06, loss: -0.94453\n",
      "epoch: 07, loss: -0.94640\n",
      "epoch: 08, loss: -0.94808\n",
      "epoch: 09, loss: -0.94954\n",
      "torch.Size([1024, 64])\n"
     ]
    },
    {
     "name": "stderr",
     "output_type": "stream",
     "text": [
      " 54%|█████▍    | 538/999 [10:43:47<9:02:53, 70.66s/it]"
     ]
    },
    {
     "name": "stdout",
     "output_type": "stream",
     "text": [
      "eigenvalues shape torch.Size([5]) eigenvectors shape torch.Size([5, 1024])\n",
      "538 /home/phdcs2/Hard_Disk/Datasets/Deep-Spectral-Segmentation/data/object-segmentation/ECSSD/features/0540_resized.pth\n",
      "dict_keys(['k', 'indices', 'file', 'id', 'model_name', 'patch_size', 'shape'])\n",
      "0540_resized\n"
     ]
    },
    {
     "name": "stderr",
     "output_type": "stream",
     "text": [
      "/home/phdcs2/Hard_Disk/Projects/T2I/deep-spectral-segmentation/venv/lib/python3.8/site-packages/sklearn/decomposition/_pca.py:642: RuntimeWarning: invalid value encountered in divide\n",
      "  self.explained_variance_ratio_ = self.explained_variance_ / total_var\n"
     ]
    },
    {
     "name": "stdout",
     "output_type": "stream",
     "text": [
      "Starting Training\n",
      "epoch: 00, loss: -0.90623\n",
      "epoch: 01, loss: -0.92829\n",
      "epoch: 02, loss: -0.93402\n",
      "epoch: 03, loss: -0.93789\n",
      "epoch: 04, loss: -0.94075\n",
      "epoch: 05, loss: -0.94304\n",
      "epoch: 06, loss: -0.94498\n",
      "epoch: 07, loss: -0.94660\n",
      "epoch: 08, loss: -0.94803\n",
      "epoch: 09, loss: -0.94928\n",
      "torch.Size([1024, 64])\n"
     ]
    },
    {
     "name": "stderr",
     "output_type": "stream",
     "text": [
      " 54%|█████▍    | 539/999 [10:44:55<8:54:50, 69.76s/it]"
     ]
    },
    {
     "name": "stdout",
     "output_type": "stream",
     "text": [
      "eigenvalues shape torch.Size([5]) eigenvectors shape torch.Size([5, 1024])\n",
      "539 /home/phdcs2/Hard_Disk/Datasets/Deep-Spectral-Segmentation/data/object-segmentation/ECSSD/features/0541_resized.pth\n",
      "dict_keys(['k', 'indices', 'file', 'id', 'model_name', 'patch_size', 'shape'])\n",
      "0541_resized\n"
     ]
    },
    {
     "name": "stderr",
     "output_type": "stream",
     "text": [
      "/home/phdcs2/Hard_Disk/Projects/T2I/deep-spectral-segmentation/venv/lib/python3.8/site-packages/sklearn/decomposition/_pca.py:642: RuntimeWarning: invalid value encountered in divide\n",
      "  self.explained_variance_ratio_ = self.explained_variance_ / total_var\n"
     ]
    },
    {
     "name": "stdout",
     "output_type": "stream",
     "text": [
      "Starting Training\n",
      "epoch: 00, loss: -0.89687\n",
      "epoch: 01, loss: -0.92294\n",
      "epoch: 02, loss: -0.92948\n",
      "epoch: 03, loss: -0.93361\n",
      "epoch: 04, loss: -0.93674\n",
      "epoch: 05, loss: -0.93925\n",
      "epoch: 06, loss: -0.94123\n",
      "epoch: 07, loss: -0.94304\n",
      "epoch: 08, loss: -0.94452\n",
      "epoch: 09, loss: -0.94590\n",
      "torch.Size([1024, 64])\n"
     ]
    },
    {
     "name": "stderr",
     "output_type": "stream",
     "text": [
      " 54%|█████▍    | 540/999 [10:46:01<8:45:23, 68.68s/it]"
     ]
    },
    {
     "name": "stdout",
     "output_type": "stream",
     "text": [
      "eigenvalues shape torch.Size([5]) eigenvectors shape torch.Size([5, 1024])\n",
      "540 /home/phdcs2/Hard_Disk/Datasets/Deep-Spectral-Segmentation/data/object-segmentation/ECSSD/features/0542_resized.pth\n",
      "dict_keys(['k', 'indices', 'file', 'id', 'model_name', 'patch_size', 'shape'])\n",
      "0542_resized\n"
     ]
    },
    {
     "name": "stderr",
     "output_type": "stream",
     "text": [
      "/home/phdcs2/Hard_Disk/Projects/T2I/deep-spectral-segmentation/venv/lib/python3.8/site-packages/sklearn/decomposition/_pca.py:642: RuntimeWarning: invalid value encountered in divide\n",
      "  self.explained_variance_ratio_ = self.explained_variance_ / total_var\n"
     ]
    },
    {
     "name": "stdout",
     "output_type": "stream",
     "text": [
      "Starting Training\n",
      "epoch: 00, loss: -0.90642\n",
      "epoch: 01, loss: -0.92382\n",
      "epoch: 02, loss: -0.92928\n",
      "epoch: 03, loss: -0.93288\n",
      "epoch: 04, loss: -0.93561\n",
      "epoch: 05, loss: -0.93783\n",
      "epoch: 06, loss: -0.93965\n",
      "epoch: 07, loss: -0.94126\n",
      "epoch: 08, loss: -0.94263\n",
      "epoch: 09, loss: -0.94383\n",
      "torch.Size([1024, 64])\n"
     ]
    },
    {
     "name": "stderr",
     "output_type": "stream",
     "text": [
      " 54%|█████▍    | 541/999 [10:47:15<8:55:44, 70.18s/it]"
     ]
    },
    {
     "name": "stdout",
     "output_type": "stream",
     "text": [
      "eigenvalues shape torch.Size([5]) eigenvectors shape torch.Size([5, 1024])\n",
      "541 /home/phdcs2/Hard_Disk/Datasets/Deep-Spectral-Segmentation/data/object-segmentation/ECSSD/features/0543_resized.pth\n",
      "dict_keys(['k', 'indices', 'file', 'id', 'model_name', 'patch_size', 'shape'])\n",
      "0543_resized\n"
     ]
    },
    {
     "name": "stderr",
     "output_type": "stream",
     "text": [
      "/home/phdcs2/Hard_Disk/Projects/T2I/deep-spectral-segmentation/venv/lib/python3.8/site-packages/sklearn/decomposition/_pca.py:642: RuntimeWarning: invalid value encountered in divide\n",
      "  self.explained_variance_ratio_ = self.explained_variance_ / total_var\n"
     ]
    },
    {
     "name": "stdout",
     "output_type": "stream",
     "text": [
      "Starting Training\n",
      "epoch: 00, loss: -0.87958\n",
      "epoch: 01, loss: -0.90538\n",
      "epoch: 02, loss: -0.91369\n",
      "epoch: 03, loss: -0.91927\n",
      "epoch: 04, loss: -0.92345\n",
      "epoch: 05, loss: -0.92679\n",
      "epoch: 06, loss: -0.92951\n",
      "epoch: 07, loss: -0.93191\n",
      "epoch: 08, loss: -0.93382\n",
      "epoch: 09, loss: -0.93566\n",
      "torch.Size([1024, 64])\n"
     ]
    },
    {
     "name": "stderr",
     "output_type": "stream",
     "text": [
      " 54%|█████▍    | 542/999 [10:48:25<8:53:55, 70.10s/it]"
     ]
    },
    {
     "name": "stdout",
     "output_type": "stream",
     "text": [
      "eigenvalues shape torch.Size([5]) eigenvectors shape torch.Size([5, 1024])\n",
      "542 /home/phdcs2/Hard_Disk/Datasets/Deep-Spectral-Segmentation/data/object-segmentation/ECSSD/features/0544_resized.pth\n",
      "dict_keys(['k', 'indices', 'file', 'id', 'model_name', 'patch_size', 'shape'])\n",
      "0544_resized\n",
      "Starting Training\n",
      "epoch: 00, loss: -0.73555\n",
      "epoch: 01, loss: -0.78002\n",
      "epoch: 02, loss: -0.79919\n",
      "epoch: 03, loss: -0.81288\n",
      "epoch: 04, loss: -0.82384\n",
      "epoch: 05, loss: -0.83235\n",
      "epoch: 06, loss: -0.83924\n",
      "epoch: 07, loss: -0.84472\n",
      "epoch: 08, loss: -0.84956\n",
      "epoch: 09, loss: -0.85422\n",
      "torch.Size([1024, 64])\n"
     ]
    },
    {
     "name": "stderr",
     "output_type": "stream",
     "text": [
      " 54%|█████▍    | 543/999 [10:49:29<8:40:27, 68.48s/it]"
     ]
    },
    {
     "name": "stdout",
     "output_type": "stream",
     "text": [
      "eigenvalues shape torch.Size([5]) eigenvectors shape torch.Size([5, 1024])\n",
      "543 /home/phdcs2/Hard_Disk/Datasets/Deep-Spectral-Segmentation/data/object-segmentation/ECSSD/features/0545_resized.pth\n",
      "dict_keys(['k', 'indices', 'file', 'id', 'model_name', 'patch_size', 'shape'])\n",
      "0545_resized\n"
     ]
    },
    {
     "name": "stderr",
     "output_type": "stream",
     "text": [
      "/home/phdcs2/Hard_Disk/Projects/T2I/deep-spectral-segmentation/venv/lib/python3.8/site-packages/sklearn/decomposition/_pca.py:642: RuntimeWarning: invalid value encountered in divide\n",
      "  self.explained_variance_ratio_ = self.explained_variance_ / total_var\n"
     ]
    },
    {
     "name": "stdout",
     "output_type": "stream",
     "text": [
      "Starting Training\n",
      "epoch: 00, loss: -0.87348\n",
      "epoch: 01, loss: -0.90665\n",
      "epoch: 02, loss: -0.91650\n",
      "epoch: 03, loss: -0.92283\n",
      "epoch: 04, loss: -0.92757\n",
      "epoch: 05, loss: -0.93131\n",
      "epoch: 06, loss: -0.93433\n",
      "epoch: 07, loss: -0.93688\n",
      "epoch: 08, loss: -0.93912\n",
      "epoch: 09, loss: -0.94105\n",
      "torch.Size([1024, 64])\n"
     ]
    },
    {
     "name": "stderr",
     "output_type": "stream",
     "text": [
      " 54%|█████▍    | 544/999 [10:50:39<8:43:01, 68.97s/it]"
     ]
    },
    {
     "name": "stdout",
     "output_type": "stream",
     "text": [
      "eigenvalues shape torch.Size([5]) eigenvectors shape torch.Size([5, 1024])\n",
      "544 /home/phdcs2/Hard_Disk/Datasets/Deep-Spectral-Segmentation/data/object-segmentation/ECSSD/features/0546_resized.pth\n",
      "dict_keys(['k', 'indices', 'file', 'id', 'model_name', 'patch_size', 'shape'])\n",
      "0546_resized\n",
      "Starting Training\n",
      "epoch: 00, loss: -0.84050\n",
      "epoch: 01, loss: -0.87732\n",
      "epoch: 02, loss: -0.88963\n",
      "epoch: 03, loss: -0.89790\n",
      "epoch: 04, loss: -0.90445\n",
      "epoch: 05, loss: -0.90968\n",
      "epoch: 06, loss: -0.91388\n",
      "epoch: 07, loss: -0.91738\n",
      "epoch: 08, loss: -0.92048\n",
      "epoch: 09, loss: -0.92317\n",
      "torch.Size([1024, 64])\n"
     ]
    },
    {
     "name": "stderr",
     "output_type": "stream",
     "text": [
      " 55%|█████▍    | 545/999 [10:51:50<8:46:04, 69.53s/it]"
     ]
    },
    {
     "name": "stdout",
     "output_type": "stream",
     "text": [
      "eigenvalues shape torch.Size([5]) eigenvectors shape torch.Size([5, 1024])\n",
      "545 /home/phdcs2/Hard_Disk/Datasets/Deep-Spectral-Segmentation/data/object-segmentation/ECSSD/features/0547_resized.pth\n",
      "dict_keys(['k', 'indices', 'file', 'id', 'model_name', 'patch_size', 'shape'])\n",
      "0547_resized\n",
      "Starting Training\n",
      "epoch: 00, loss: -0.88456\n",
      "epoch: 01, loss: -0.90836\n",
      "epoch: 02, loss: -0.91515\n",
      "epoch: 03, loss: -0.91965\n",
      "epoch: 04, loss: -0.92310\n",
      "epoch: 05, loss: -0.92584\n",
      "epoch: 06, loss: -0.92809\n",
      "epoch: 07, loss: -0.93000\n",
      "epoch: 08, loss: -0.93175\n",
      "epoch: 09, loss: -0.93326\n",
      "torch.Size([1024, 64])\n"
     ]
    },
    {
     "name": "stderr",
     "output_type": "stream",
     "text": [
      " 55%|█████▍    | 546/999 [10:52:56<8:37:12, 68.51s/it]"
     ]
    },
    {
     "name": "stdout",
     "output_type": "stream",
     "text": [
      "eigenvalues shape torch.Size([5]) eigenvectors shape torch.Size([5, 1024])\n",
      "546 /home/phdcs2/Hard_Disk/Datasets/Deep-Spectral-Segmentation/data/object-segmentation/ECSSD/features/0548_resized.pth\n",
      "dict_keys(['k', 'indices', 'file', 'id', 'model_name', 'patch_size', 'shape'])\n",
      "0548_resized\n",
      "Starting Training\n",
      "epoch: 00, loss: -0.80255\n",
      "epoch: 01, loss: -0.84685\n",
      "epoch: 02, loss: -0.86301\n",
      "epoch: 03, loss: -0.87414\n",
      "epoch: 04, loss: -0.88226\n",
      "epoch: 05, loss: -0.88835\n",
      "epoch: 06, loss: -0.89372\n",
      "epoch: 07, loss: -0.89807\n",
      "epoch: 08, loss: -0.90217\n",
      "epoch: 09, loss: -0.90535\n",
      "torch.Size([1024, 64])\n"
     ]
    },
    {
     "name": "stderr",
     "output_type": "stream",
     "text": [
      " 55%|█████▍    | 547/999 [10:54:00<8:25:43, 67.13s/it]"
     ]
    },
    {
     "name": "stdout",
     "output_type": "stream",
     "text": [
      "eigenvalues shape torch.Size([5]) eigenvectors shape torch.Size([5, 1024])\n",
      "547 /home/phdcs2/Hard_Disk/Datasets/Deep-Spectral-Segmentation/data/object-segmentation/ECSSD/features/0549_resized.pth\n",
      "dict_keys(['k', 'indices', 'file', 'id', 'model_name', 'patch_size', 'shape'])\n",
      "0549_resized\n",
      "Starting Training\n",
      "epoch: 00, loss: -0.79800\n",
      "epoch: 01, loss: -0.84582\n",
      "epoch: 02, loss: -0.86446\n",
      "epoch: 03, loss: -0.87618\n",
      "epoch: 04, loss: -0.88537\n",
      "epoch: 05, loss: -0.89211\n",
      "epoch: 06, loss: -0.89783\n",
      "epoch: 07, loss: -0.90245\n",
      "epoch: 08, loss: -0.90658\n",
      "epoch: 09, loss: -0.91003\n",
      "torch.Size([1024, 64])\n"
     ]
    },
    {
     "name": "stderr",
     "output_type": "stream",
     "text": [
      " 55%|█████▍    | 548/999 [10:55:06<8:22:20, 66.83s/it]"
     ]
    },
    {
     "name": "stdout",
     "output_type": "stream",
     "text": [
      "eigenvalues shape torch.Size([5]) eigenvectors shape torch.Size([5, 1024])\n",
      "548 /home/phdcs2/Hard_Disk/Datasets/Deep-Spectral-Segmentation/data/object-segmentation/ECSSD/features/0550_resized.pth\n",
      "dict_keys(['k', 'indices', 'file', 'id', 'model_name', 'patch_size', 'shape'])\n",
      "0550_resized\n"
     ]
    },
    {
     "name": "stderr",
     "output_type": "stream",
     "text": [
      "/home/phdcs2/Hard_Disk/Projects/T2I/deep-spectral-segmentation/venv/lib/python3.8/site-packages/sklearn/decomposition/_pca.py:642: RuntimeWarning: invalid value encountered in divide\n",
      "  self.explained_variance_ratio_ = self.explained_variance_ / total_var\n"
     ]
    },
    {
     "name": "stdout",
     "output_type": "stream",
     "text": [
      "Starting Training\n",
      "epoch: 00, loss: -0.93213\n",
      "epoch: 01, loss: -0.94756\n",
      "epoch: 02, loss: -0.95150\n",
      "epoch: 03, loss: -0.95424\n",
      "epoch: 04, loss: -0.95626\n",
      "epoch: 05, loss: -0.95792\n",
      "epoch: 06, loss: -0.95928\n",
      "epoch: 07, loss: -0.96047\n",
      "epoch: 08, loss: -0.96151\n",
      "epoch: 09, loss: -0.96237\n",
      "torch.Size([1024, 64])\n"
     ]
    },
    {
     "name": "stderr",
     "output_type": "stream",
     "text": [
      " 55%|█████▍    | 549/999 [10:56:07<8:08:06, 65.08s/it]"
     ]
    },
    {
     "name": "stdout",
     "output_type": "stream",
     "text": [
      "eigenvalues shape torch.Size([5]) eigenvectors shape torch.Size([5, 1024])\n",
      "549 /home/phdcs2/Hard_Disk/Datasets/Deep-Spectral-Segmentation/data/object-segmentation/ECSSD/features/0551_resized.pth\n",
      "dict_keys(['k', 'indices', 'file', 'id', 'model_name', 'patch_size', 'shape'])\n",
      "0551_resized\n",
      "Starting Training\n",
      "epoch: 00, loss: -0.88364\n",
      "epoch: 01, loss: -0.91025\n",
      "epoch: 02, loss: -0.91864\n",
      "epoch: 03, loss: -0.92435\n",
      "epoch: 04, loss: -0.92857\n",
      "epoch: 05, loss: -0.93190\n",
      "epoch: 06, loss: -0.93456\n",
      "epoch: 07, loss: -0.93688\n",
      "epoch: 08, loss: -0.93891\n",
      "epoch: 09, loss: -0.94063\n",
      "torch.Size([1024, 64])\n"
     ]
    },
    {
     "name": "stderr",
     "output_type": "stream",
     "text": [
      " 55%|█████▌    | 550/999 [10:57:08<7:56:16, 63.64s/it]"
     ]
    },
    {
     "name": "stdout",
     "output_type": "stream",
     "text": [
      "eigenvalues shape torch.Size([5]) eigenvectors shape torch.Size([5, 1024])\n",
      "550 /home/phdcs2/Hard_Disk/Datasets/Deep-Spectral-Segmentation/data/object-segmentation/ECSSD/features/0552_resized.pth\n",
      "dict_keys(['k', 'indices', 'file', 'id', 'model_name', 'patch_size', 'shape'])\n",
      "0552_resized\n",
      "Starting Training\n",
      "epoch: 00, loss: -0.83614\n",
      "epoch: 01, loss: -0.87421\n",
      "epoch: 02, loss: -0.88700\n",
      "epoch: 03, loss: -0.89605\n",
      "epoch: 04, loss: -0.90283\n",
      "epoch: 05, loss: -0.90843\n",
      "epoch: 06, loss: -0.91273\n",
      "epoch: 07, loss: -0.91660\n",
      "epoch: 08, loss: -0.92000\n",
      "epoch: 09, loss: -0.92296\n",
      "torch.Size([1024, 64])\n"
     ]
    },
    {
     "name": "stderr",
     "output_type": "stream",
     "text": [
      " 55%|█████▌    | 551/999 [10:58:03<7:37:30, 61.27s/it]"
     ]
    },
    {
     "name": "stdout",
     "output_type": "stream",
     "text": [
      "eigenvalues shape torch.Size([5]) eigenvectors shape torch.Size([5, 1024])\n",
      "551 /home/phdcs2/Hard_Disk/Datasets/Deep-Spectral-Segmentation/data/object-segmentation/ECSSD/features/0553_resized.pth\n",
      "dict_keys(['k', 'indices', 'file', 'id', 'model_name', 'patch_size', 'shape'])\n",
      "0553_resized\n",
      "Starting Training\n",
      "epoch: 00, loss: -0.83444\n",
      "epoch: 01, loss: -0.87156\n",
      "epoch: 02, loss: -0.88539\n",
      "epoch: 03, loss: -0.89433\n",
      "epoch: 04, loss: -0.90088\n",
      "epoch: 05, loss: -0.90608\n",
      "epoch: 06, loss: -0.91022\n",
      "epoch: 07, loss: -0.91402\n",
      "epoch: 08, loss: -0.91730\n",
      "epoch: 09, loss: -0.92008\n",
      "torch.Size([1024, 64])\n"
     ]
    },
    {
     "name": "stderr",
     "output_type": "stream",
     "text": [
      " 55%|█████▌    | 552/999 [10:59:08<7:43:08, 62.17s/it]"
     ]
    },
    {
     "name": "stdout",
     "output_type": "stream",
     "text": [
      "eigenvalues shape torch.Size([5]) eigenvectors shape torch.Size([5, 1024])\n",
      "552 /home/phdcs2/Hard_Disk/Datasets/Deep-Spectral-Segmentation/data/object-segmentation/ECSSD/features/0554_resized.pth\n",
      "dict_keys(['k', 'indices', 'file', 'id', 'model_name', 'patch_size', 'shape'])\n",
      "0554_resized\n",
      "Starting Training\n",
      "epoch: 00, loss: -0.89884\n",
      "epoch: 01, loss: -0.92484\n",
      "epoch: 02, loss: -0.93187\n",
      "epoch: 03, loss: -0.93632\n",
      "epoch: 04, loss: -0.93959\n",
      "epoch: 05, loss: -0.94214\n",
      "epoch: 06, loss: -0.94420\n",
      "epoch: 07, loss: -0.94596\n",
      "epoch: 08, loss: -0.94747\n",
      "epoch: 09, loss: -0.94881\n",
      "torch.Size([1024, 64])\n"
     ]
    },
    {
     "name": "stderr",
     "output_type": "stream",
     "text": [
      " 55%|█████▌    | 553/999 [11:00:10<7:43:12, 62.31s/it]"
     ]
    },
    {
     "name": "stdout",
     "output_type": "stream",
     "text": [
      "eigenvalues shape torch.Size([5]) eigenvectors shape torch.Size([5, 1024])\n",
      "553 /home/phdcs2/Hard_Disk/Datasets/Deep-Spectral-Segmentation/data/object-segmentation/ECSSD/features/0555_resized.pth\n",
      "dict_keys(['k', 'indices', 'file', 'id', 'model_name', 'patch_size', 'shape'])\n",
      "0555_resized\n",
      "Starting Training\n",
      "epoch: 00, loss: -0.79411\n",
      "epoch: 01, loss: -0.82929\n",
      "epoch: 02, loss: -0.84275\n",
      "epoch: 03, loss: -0.85228\n",
      "epoch: 04, loss: -0.85986\n",
      "epoch: 05, loss: -0.86540\n",
      "epoch: 06, loss: -0.87043\n",
      "epoch: 07, loss: -0.87470\n",
      "epoch: 08, loss: -0.87842\n",
      "epoch: 09, loss: -0.88190\n",
      "torch.Size([1024, 64])\n"
     ]
    },
    {
     "name": "stderr",
     "output_type": "stream",
     "text": [
      " 55%|█████▌    | 554/999 [11:01:21<8:00:46, 64.82s/it]"
     ]
    },
    {
     "name": "stdout",
     "output_type": "stream",
     "text": [
      "eigenvalues shape torch.Size([5]) eigenvectors shape torch.Size([5, 1024])\n",
      "554 /home/phdcs2/Hard_Disk/Datasets/Deep-Spectral-Segmentation/data/object-segmentation/ECSSD/features/0556_resized.pth\n",
      "dict_keys(['k', 'indices', 'file', 'id', 'model_name', 'patch_size', 'shape'])\n",
      "0556_resized\n",
      "Starting Training\n",
      "epoch: 00, loss: -0.79505\n",
      "epoch: 01, loss: -0.83547\n",
      "epoch: 02, loss: -0.85051\n",
      "epoch: 03, loss: -0.86143\n",
      "epoch: 04, loss: -0.86969\n",
      "epoch: 05, loss: -0.87643\n",
      "epoch: 06, loss: -0.88219\n",
      "epoch: 07, loss: -0.88674\n",
      "epoch: 08, loss: -0.89079\n",
      "epoch: 09, loss: -0.89417\n",
      "torch.Size([1024, 64])\n"
     ]
    },
    {
     "name": "stderr",
     "output_type": "stream",
     "text": [
      " 56%|█████▌    | 555/999 [11:02:34<8:18:00, 67.30s/it]"
     ]
    },
    {
     "name": "stdout",
     "output_type": "stream",
     "text": [
      "eigenvalues shape torch.Size([5]) eigenvectors shape torch.Size([5, 1024])\n",
      "555 /home/phdcs2/Hard_Disk/Datasets/Deep-Spectral-Segmentation/data/object-segmentation/ECSSD/features/0557_resized.pth\n",
      "dict_keys(['k', 'indices', 'file', 'id', 'model_name', 'patch_size', 'shape'])\n",
      "0557_resized\n",
      "Starting Training\n",
      "epoch: 00, loss: -0.81476\n",
      "epoch: 01, loss: -0.85717\n",
      "epoch: 02, loss: -0.87276\n",
      "epoch: 03, loss: -0.88289\n",
      "epoch: 04, loss: -0.89044\n",
      "epoch: 05, loss: -0.89649\n",
      "epoch: 06, loss: -0.90153\n",
      "epoch: 07, loss: -0.90613\n",
      "epoch: 08, loss: -0.90971\n",
      "epoch: 09, loss: -0.91272\n",
      "torch.Size([1024, 64])\n"
     ]
    },
    {
     "name": "stderr",
     "output_type": "stream",
     "text": [
      " 56%|█████▌    | 556/999 [11:03:50<8:35:33, 69.83s/it]"
     ]
    },
    {
     "name": "stdout",
     "output_type": "stream",
     "text": [
      "eigenvalues shape torch.Size([5]) eigenvectors shape torch.Size([5, 1024])\n",
      "556 /home/phdcs2/Hard_Disk/Datasets/Deep-Spectral-Segmentation/data/object-segmentation/ECSSD/features/0558_resized.pth\n",
      "dict_keys(['k', 'indices', 'file', 'id', 'model_name', 'patch_size', 'shape'])\n",
      "0558_resized\n",
      "Starting Training\n",
      "epoch: 00, loss: -0.77873\n",
      "epoch: 01, loss: -0.82884\n",
      "epoch: 02, loss: -0.84641\n",
      "epoch: 03, loss: -0.85686\n",
      "epoch: 04, loss: -0.86517\n",
      "epoch: 05, loss: -0.87179\n",
      "epoch: 06, loss: -0.87726\n",
      "epoch: 07, loss: -0.88190\n",
      "epoch: 08, loss: -0.88548\n",
      "epoch: 09, loss: -0.88890\n",
      "torch.Size([1024, 64])\n"
     ]
    },
    {
     "name": "stderr",
     "output_type": "stream",
     "text": [
      " 56%|█████▌    | 557/999 [11:05:06<8:47:33, 71.61s/it]"
     ]
    },
    {
     "name": "stdout",
     "output_type": "stream",
     "text": [
      "eigenvalues shape torch.Size([5]) eigenvectors shape torch.Size([5, 1024])\n",
      "557 /home/phdcs2/Hard_Disk/Datasets/Deep-Spectral-Segmentation/data/object-segmentation/ECSSD/features/0559_resized.pth\n",
      "dict_keys(['k', 'indices', 'file', 'id', 'model_name', 'patch_size', 'shape'])\n",
      "0559_resized\n",
      "Starting Training\n",
      "epoch: 00, loss: -0.90021\n",
      "epoch: 01, loss: -0.92591\n",
      "epoch: 02, loss: -0.93325\n",
      "epoch: 03, loss: -0.93807\n",
      "epoch: 04, loss: -0.94157\n",
      "epoch: 05, loss: -0.94436\n",
      "epoch: 06, loss: -0.94660\n",
      "epoch: 07, loss: -0.94850\n",
      "epoch: 08, loss: -0.95012\n",
      "epoch: 09, loss: -0.95157\n",
      "torch.Size([1024, 64])\n"
     ]
    },
    {
     "name": "stderr",
     "output_type": "stream",
     "text": [
      " 56%|█████▌    | 558/999 [11:06:23<8:58:47, 73.30s/it]"
     ]
    },
    {
     "name": "stdout",
     "output_type": "stream",
     "text": [
      "eigenvalues shape torch.Size([5]) eigenvectors shape torch.Size([5, 1024])\n",
      "558 /home/phdcs2/Hard_Disk/Datasets/Deep-Spectral-Segmentation/data/object-segmentation/ECSSD/features/0560_resized.pth\n",
      "dict_keys(['k', 'indices', 'file', 'id', 'model_name', 'patch_size', 'shape'])\n",
      "0560_resized\n",
      "Starting Training\n",
      "epoch: 00, loss: -0.88795\n",
      "epoch: 01, loss: -0.91689\n",
      "epoch: 02, loss: -0.92505\n",
      "epoch: 03, loss: -0.93032\n",
      "epoch: 04, loss: -0.93423\n",
      "epoch: 05, loss: -0.93729\n",
      "epoch: 06, loss: -0.93981\n",
      "epoch: 07, loss: -0.94197\n",
      "epoch: 08, loss: -0.94381\n",
      "epoch: 09, loss: -0.94544\n",
      "torch.Size([1024, 64])\n"
     ]
    },
    {
     "name": "stderr",
     "output_type": "stream",
     "text": [
      " 56%|█████▌    | 559/999 [11:07:34<8:53:41, 72.78s/it]"
     ]
    },
    {
     "name": "stdout",
     "output_type": "stream",
     "text": [
      "eigenvalues shape torch.Size([5]) eigenvectors shape torch.Size([5, 1024])\n",
      "559 /home/phdcs2/Hard_Disk/Datasets/Deep-Spectral-Segmentation/data/object-segmentation/ECSSD/features/0561_resized.pth\n",
      "dict_keys(['k', 'indices', 'file', 'id', 'model_name', 'patch_size', 'shape'])\n",
      "0561_resized\n",
      "Starting Training\n",
      "epoch: 00, loss: -0.83877\n",
      "epoch: 01, loss: -0.86781\n",
      "epoch: 02, loss: -0.87745\n",
      "epoch: 03, loss: -0.88432\n",
      "epoch: 04, loss: -0.88919\n",
      "epoch: 05, loss: -0.89348\n",
      "epoch: 06, loss: -0.89709\n",
      "epoch: 07, loss: -0.89998\n",
      "epoch: 08, loss: -0.90237\n",
      "epoch: 09, loss: -0.90478\n",
      "torch.Size([1024, 64])\n"
     ]
    },
    {
     "name": "stderr",
     "output_type": "stream",
     "text": [
      " 56%|█████▌    | 560/999 [11:08:46<8:48:45, 72.27s/it]"
     ]
    },
    {
     "name": "stdout",
     "output_type": "stream",
     "text": [
      "eigenvalues shape torch.Size([5]) eigenvectors shape torch.Size([5, 1024])\n",
      "560 /home/phdcs2/Hard_Disk/Datasets/Deep-Spectral-Segmentation/data/object-segmentation/ECSSD/features/0562_resized.pth\n",
      "dict_keys(['k', 'indices', 'file', 'id', 'model_name', 'patch_size', 'shape'])\n",
      "0562_resized\n"
     ]
    },
    {
     "name": "stderr",
     "output_type": "stream",
     "text": [
      "/home/phdcs2/Hard_Disk/Projects/T2I/deep-spectral-segmentation/venv/lib/python3.8/site-packages/sklearn/decomposition/_pca.py:642: RuntimeWarning: invalid value encountered in divide\n",
      "  self.explained_variance_ratio_ = self.explained_variance_ / total_var\n"
     ]
    },
    {
     "name": "stdout",
     "output_type": "stream",
     "text": [
      "Starting Training\n",
      "epoch: 00, loss: -0.90271\n",
      "epoch: 01, loss: -0.92426\n",
      "epoch: 02, loss: -0.93009\n",
      "epoch: 03, loss: -0.93406\n",
      "epoch: 04, loss: -0.93700\n",
      "epoch: 05, loss: -0.93941\n",
      "epoch: 06, loss: -0.94134\n",
      "epoch: 07, loss: -0.94298\n",
      "epoch: 08, loss: -0.94443\n",
      "epoch: 09, loss: -0.94569\n",
      "torch.Size([1024, 64])\n"
     ]
    },
    {
     "name": "stderr",
     "output_type": "stream",
     "text": [
      " 56%|█████▌    | 561/999 [11:09:47<8:24:01, 69.04s/it]"
     ]
    },
    {
     "name": "stdout",
     "output_type": "stream",
     "text": [
      "eigenvalues shape torch.Size([5]) eigenvectors shape torch.Size([5, 1024])\n",
      "561 /home/phdcs2/Hard_Disk/Datasets/Deep-Spectral-Segmentation/data/object-segmentation/ECSSD/features/0563_resized.pth\n",
      "dict_keys(['k', 'indices', 'file', 'id', 'model_name', 'patch_size', 'shape'])\n",
      "0563_resized\n",
      "Starting Training\n",
      "epoch: 00, loss: -0.89496\n",
      "epoch: 01, loss: -0.91972\n",
      "epoch: 02, loss: -0.92671\n",
      "epoch: 03, loss: -0.93135\n",
      "epoch: 04, loss: -0.93484\n",
      "epoch: 05, loss: -0.93771\n",
      "epoch: 06, loss: -0.94004\n",
      "epoch: 07, loss: -0.94200\n",
      "epoch: 08, loss: -0.94372\n",
      "epoch: 09, loss: -0.94527\n",
      "torch.Size([1024, 64])\n"
     ]
    },
    {
     "name": "stderr",
     "output_type": "stream",
     "text": [
      " 56%|█████▋    | 562/999 [11:10:59<8:28:53, 69.87s/it]"
     ]
    },
    {
     "name": "stdout",
     "output_type": "stream",
     "text": [
      "eigenvalues shape torch.Size([5]) eigenvectors shape torch.Size([5, 1024])\n",
      "562 /home/phdcs2/Hard_Disk/Datasets/Deep-Spectral-Segmentation/data/object-segmentation/ECSSD/features/0564_resized.pth\n",
      "dict_keys(['k', 'indices', 'file', 'id', 'model_name', 'patch_size', 'shape'])\n",
      "0564_resized\n",
      "Starting Training\n",
      "epoch: 00, loss: -0.88842\n",
      "epoch: 01, loss: -0.91222\n",
      "epoch: 02, loss: -0.91966\n",
      "epoch: 03, loss: -0.92467\n",
      "epoch: 04, loss: -0.92854\n",
      "epoch: 05, loss: -0.93154\n",
      "epoch: 06, loss: -0.93420\n",
      "epoch: 07, loss: -0.93641\n",
      "epoch: 08, loss: -0.93836\n",
      "epoch: 09, loss: -0.94006\n",
      "torch.Size([1024, 64])\n"
     ]
    },
    {
     "name": "stderr",
     "output_type": "stream",
     "text": [
      " 56%|█████▋    | 563/999 [11:12:10<8:31:27, 70.38s/it]"
     ]
    },
    {
     "name": "stdout",
     "output_type": "stream",
     "text": [
      "eigenvalues shape torch.Size([5]) eigenvectors shape torch.Size([5, 1024])\n",
      "563 /home/phdcs2/Hard_Disk/Datasets/Deep-Spectral-Segmentation/data/object-segmentation/ECSSD/features/0565_resized.pth\n",
      "dict_keys(['k', 'indices', 'file', 'id', 'model_name', 'patch_size', 'shape'])\n",
      "0565_resized\n",
      "Starting Training\n",
      "epoch: 00, loss: -0.82322\n",
      "epoch: 01, loss: -0.85501\n",
      "epoch: 02, loss: -0.86863\n",
      "epoch: 03, loss: -0.87792\n",
      "epoch: 04, loss: -0.88464\n",
      "epoch: 05, loss: -0.89077\n",
      "epoch: 06, loss: -0.89535\n",
      "epoch: 07, loss: -0.89942\n",
      "epoch: 08, loss: -0.90293\n",
      "epoch: 09, loss: -0.90588\n",
      "torch.Size([1024, 64])\n"
     ]
    },
    {
     "name": "stderr",
     "output_type": "stream",
     "text": [
      " 56%|█████▋    | 564/999 [11:13:22<8:33:22, 70.81s/it]"
     ]
    },
    {
     "name": "stdout",
     "output_type": "stream",
     "text": [
      "eigenvalues shape torch.Size([5]) eigenvectors shape torch.Size([5, 1024])\n",
      "564 /home/phdcs2/Hard_Disk/Datasets/Deep-Spectral-Segmentation/data/object-segmentation/ECSSD/features/0566_resized.pth\n",
      "dict_keys(['k', 'indices', 'file', 'id', 'model_name', 'patch_size', 'shape'])\n",
      "0566_resized\n"
     ]
    },
    {
     "name": "stderr",
     "output_type": "stream",
     "text": [
      "/home/phdcs2/Hard_Disk/Projects/T2I/deep-spectral-segmentation/venv/lib/python3.8/site-packages/sklearn/decomposition/_pca.py:642: RuntimeWarning: invalid value encountered in divide\n",
      "  self.explained_variance_ratio_ = self.explained_variance_ / total_var\n"
     ]
    },
    {
     "name": "stdout",
     "output_type": "stream",
     "text": [
      "Starting Training\n",
      "epoch: 00, loss: -0.89933\n",
      "epoch: 01, loss: -0.91996\n",
      "epoch: 02, loss: -0.92592\n",
      "epoch: 03, loss: -0.92998\n",
      "epoch: 04, loss: -0.93304\n",
      "epoch: 05, loss: -0.93547\n",
      "epoch: 06, loss: -0.93750\n",
      "epoch: 07, loss: -0.93929\n",
      "epoch: 08, loss: -0.94085\n",
      "epoch: 09, loss: -0.94228\n",
      "torch.Size([1024, 64])\n"
     ]
    },
    {
     "name": "stderr",
     "output_type": "stream",
     "text": [
      " 57%|█████▋    | 565/999 [11:14:35<8:35:48, 71.31s/it]"
     ]
    },
    {
     "name": "stdout",
     "output_type": "stream",
     "text": [
      "eigenvalues shape torch.Size([5]) eigenvectors shape torch.Size([5, 1024])\n",
      "565 /home/phdcs2/Hard_Disk/Datasets/Deep-Spectral-Segmentation/data/object-segmentation/ECSSD/features/0567_resized.pth\n",
      "dict_keys(['k', 'indices', 'file', 'id', 'model_name', 'patch_size', 'shape'])\n",
      "0567_resized\n",
      "Starting Training\n",
      "epoch: 00, loss: -0.86222\n",
      "epoch: 01, loss: -0.89362\n",
      "epoch: 02, loss: -0.90333\n",
      "epoch: 03, loss: -0.90966\n",
      "epoch: 04, loss: -0.91426\n",
      "epoch: 05, loss: -0.91786\n",
      "epoch: 06, loss: -0.92084\n",
      "epoch: 07, loss: -0.92321\n",
      "epoch: 08, loss: -0.92521\n",
      "epoch: 09, loss: -0.92715\n",
      "torch.Size([1024, 64])\n"
     ]
    },
    {
     "name": "stderr",
     "output_type": "stream",
     "text": [
      " 57%|█████▋    | 566/999 [11:15:46<8:35:23, 71.42s/it]"
     ]
    },
    {
     "name": "stdout",
     "output_type": "stream",
     "text": [
      "eigenvalues shape torch.Size([5]) eigenvectors shape torch.Size([5, 1024])\n",
      "566 /home/phdcs2/Hard_Disk/Datasets/Deep-Spectral-Segmentation/data/object-segmentation/ECSSD/features/0568_resized.pth\n",
      "dict_keys(['k', 'indices', 'file', 'id', 'model_name', 'patch_size', 'shape'])\n",
      "0568_resized\n"
     ]
    },
    {
     "name": "stderr",
     "output_type": "stream",
     "text": [
      "/home/phdcs2/Hard_Disk/Projects/T2I/deep-spectral-segmentation/venv/lib/python3.8/site-packages/sklearn/decomposition/_pca.py:642: RuntimeWarning: invalid value encountered in divide\n",
      "  self.explained_variance_ratio_ = self.explained_variance_ / total_var\n"
     ]
    },
    {
     "name": "stdout",
     "output_type": "stream",
     "text": [
      "Starting Training\n",
      "epoch: 00, loss: -0.88775\n",
      "epoch: 01, loss: -0.91535\n",
      "epoch: 02, loss: -0.92217\n",
      "epoch: 03, loss: -0.92672\n",
      "epoch: 04, loss: -0.93017\n",
      "epoch: 05, loss: -0.93286\n",
      "epoch: 06, loss: -0.93510\n",
      "epoch: 07, loss: -0.93704\n",
      "epoch: 08, loss: -0.93868\n",
      "epoch: 09, loss: -0.94019\n",
      "torch.Size([1024, 64])\n"
     ]
    },
    {
     "name": "stderr",
     "output_type": "stream",
     "text": [
      " 57%|█████▋    | 567/999 [11:16:51<8:19:05, 69.32s/it]"
     ]
    },
    {
     "name": "stdout",
     "output_type": "stream",
     "text": [
      "eigenvalues shape torch.Size([5]) eigenvectors shape torch.Size([5, 1024])\n",
      "567 /home/phdcs2/Hard_Disk/Datasets/Deep-Spectral-Segmentation/data/object-segmentation/ECSSD/features/0569_resized.pth\n",
      "dict_keys(['k', 'indices', 'file', 'id', 'model_name', 'patch_size', 'shape'])\n",
      "0569_resized\n",
      "Starting Training\n",
      "epoch: 00, loss: -0.89401\n",
      "epoch: 01, loss: -0.92223\n",
      "epoch: 02, loss: -0.92987\n",
      "epoch: 03, loss: -0.93487\n",
      "epoch: 04, loss: -0.93854\n",
      "epoch: 05, loss: -0.94147\n",
      "epoch: 06, loss: -0.94381\n",
      "epoch: 07, loss: -0.94587\n",
      "epoch: 08, loss: -0.94754\n",
      "epoch: 09, loss: -0.94907\n",
      "torch.Size([1024, 64])\n"
     ]
    },
    {
     "name": "stderr",
     "output_type": "stream",
     "text": [
      " 57%|█████▋    | 568/999 [11:18:02<8:21:50, 69.86s/it]"
     ]
    },
    {
     "name": "stdout",
     "output_type": "stream",
     "text": [
      "eigenvalues shape torch.Size([5]) eigenvectors shape torch.Size([5, 1024])\n",
      "568 /home/phdcs2/Hard_Disk/Datasets/Deep-Spectral-Segmentation/data/object-segmentation/ECSSD/features/0570_resized.pth\n",
      "dict_keys(['k', 'indices', 'file', 'id', 'model_name', 'patch_size', 'shape'])\n",
      "0570_resized\n"
     ]
    },
    {
     "name": "stderr",
     "output_type": "stream",
     "text": [
      "/home/phdcs2/Hard_Disk/Projects/T2I/deep-spectral-segmentation/venv/lib/python3.8/site-packages/sklearn/decomposition/_pca.py:642: RuntimeWarning: invalid value encountered in divide\n",
      "  self.explained_variance_ratio_ = self.explained_variance_ / total_var\n"
     ]
    },
    {
     "name": "stdout",
     "output_type": "stream",
     "text": [
      "Starting Training\n",
      "epoch: 00, loss: -0.88781\n",
      "epoch: 01, loss: -0.91583\n",
      "epoch: 02, loss: -0.92299\n",
      "epoch: 03, loss: -0.92776\n",
      "epoch: 04, loss: -0.93113\n",
      "epoch: 05, loss: -0.93370\n",
      "epoch: 06, loss: -0.93601\n",
      "epoch: 07, loss: -0.93785\n",
      "epoch: 08, loss: -0.93951\n",
      "epoch: 09, loss: -0.94093\n",
      "torch.Size([1024, 64])\n"
     ]
    },
    {
     "name": "stderr",
     "output_type": "stream",
     "text": [
      " 57%|█████▋    | 569/999 [11:19:11<8:19:11, 69.65s/it]"
     ]
    },
    {
     "name": "stdout",
     "output_type": "stream",
     "text": [
      "eigenvalues shape torch.Size([5]) eigenvectors shape torch.Size([5, 1024])\n",
      "569 /home/phdcs2/Hard_Disk/Datasets/Deep-Spectral-Segmentation/data/object-segmentation/ECSSD/features/0571_resized.pth\n",
      "dict_keys(['k', 'indices', 'file', 'id', 'model_name', 'patch_size', 'shape'])\n",
      "0571_resized\n"
     ]
    },
    {
     "name": "stderr",
     "output_type": "stream",
     "text": [
      "/home/phdcs2/Hard_Disk/Projects/T2I/deep-spectral-segmentation/venv/lib/python3.8/site-packages/sklearn/decomposition/_pca.py:642: RuntimeWarning: invalid value encountered in divide\n",
      "  self.explained_variance_ratio_ = self.explained_variance_ / total_var\n"
     ]
    },
    {
     "name": "stdout",
     "output_type": "stream",
     "text": [
      "Starting Training\n",
      "epoch: 00, loss: -0.88852\n",
      "epoch: 01, loss: -0.91640\n",
      "epoch: 02, loss: -0.92367\n",
      "epoch: 03, loss: -0.92844\n",
      "epoch: 04, loss: -0.93192\n",
      "epoch: 05, loss: -0.93479\n",
      "epoch: 06, loss: -0.93701\n",
      "epoch: 07, loss: -0.93899\n",
      "epoch: 08, loss: -0.94065\n",
      "epoch: 09, loss: -0.94212\n",
      "torch.Size([1024, 64])\n"
     ]
    },
    {
     "name": "stderr",
     "output_type": "stream",
     "text": [
      " 57%|█████▋    | 570/999 [11:20:22<8:19:57, 69.93s/it]"
     ]
    },
    {
     "name": "stdout",
     "output_type": "stream",
     "text": [
      "eigenvalues shape torch.Size([5]) eigenvectors shape torch.Size([5, 1024])\n",
      "570 /home/phdcs2/Hard_Disk/Datasets/Deep-Spectral-Segmentation/data/object-segmentation/ECSSD/features/0572_resized.pth\n",
      "dict_keys(['k', 'indices', 'file', 'id', 'model_name', 'patch_size', 'shape'])\n",
      "0572_resized\n"
     ]
    },
    {
     "name": "stderr",
     "output_type": "stream",
     "text": [
      "/home/phdcs2/Hard_Disk/Projects/T2I/deep-spectral-segmentation/venv/lib/python3.8/site-packages/sklearn/decomposition/_pca.py:642: RuntimeWarning: invalid value encountered in divide\n",
      "  self.explained_variance_ratio_ = self.explained_variance_ / total_var\n"
     ]
    },
    {
     "name": "stdout",
     "output_type": "stream",
     "text": [
      "Starting Training\n",
      "epoch: 00, loss: -0.91491\n",
      "epoch: 01, loss: -0.93515\n",
      "epoch: 02, loss: -0.94090\n",
      "epoch: 03, loss: -0.94473\n",
      "epoch: 04, loss: -0.94748\n",
      "epoch: 05, loss: -0.94971\n",
      "epoch: 06, loss: -0.95155\n",
      "epoch: 07, loss: -0.95310\n",
      "epoch: 08, loss: -0.95447\n",
      "epoch: 09, loss: -0.95565\n",
      "torch.Size([1024, 64])\n"
     ]
    },
    {
     "name": "stderr",
     "output_type": "stream",
     "text": [
      " 57%|█████▋    | 571/999 [11:21:25<8:05:34, 68.07s/it]"
     ]
    },
    {
     "name": "stdout",
     "output_type": "stream",
     "text": [
      "eigenvalues shape torch.Size([5]) eigenvectors shape torch.Size([5, 1024])\n",
      "571 /home/phdcs2/Hard_Disk/Datasets/Deep-Spectral-Segmentation/data/object-segmentation/ECSSD/features/0573_resized.pth\n",
      "dict_keys(['k', 'indices', 'file', 'id', 'model_name', 'patch_size', 'shape'])\n",
      "0573_resized\n"
     ]
    },
    {
     "name": "stderr",
     "output_type": "stream",
     "text": [
      "/home/phdcs2/Hard_Disk/Projects/T2I/deep-spectral-segmentation/venv/lib/python3.8/site-packages/sklearn/decomposition/_pca.py:642: RuntimeWarning: invalid value encountered in divide\n",
      "  self.explained_variance_ratio_ = self.explained_variance_ / total_var\n"
     ]
    },
    {
     "name": "stdout",
     "output_type": "stream",
     "text": [
      "Starting Training\n",
      "epoch: 00, loss: -0.85269\n",
      "epoch: 01, loss: -0.88887\n",
      "epoch: 02, loss: -0.90072\n",
      "epoch: 03, loss: -0.90846\n",
      "epoch: 04, loss: -0.91419\n",
      "epoch: 05, loss: -0.91878\n",
      "epoch: 06, loss: -0.92244\n",
      "epoch: 07, loss: -0.92557\n",
      "epoch: 08, loss: -0.92825\n",
      "epoch: 09, loss: -0.93056\n",
      "torch.Size([1024, 64])\n"
     ]
    },
    {
     "name": "stderr",
     "output_type": "stream",
     "text": [
      " 57%|█████▋    | 572/999 [11:22:37<8:11:07, 69.01s/it]"
     ]
    },
    {
     "name": "stdout",
     "output_type": "stream",
     "text": [
      "eigenvalues shape torch.Size([5]) eigenvectors shape torch.Size([5, 1024])\n",
      "572 /home/phdcs2/Hard_Disk/Datasets/Deep-Spectral-Segmentation/data/object-segmentation/ECSSD/features/0574_resized.pth\n",
      "dict_keys(['k', 'indices', 'file', 'id', 'model_name', 'patch_size', 'shape'])\n",
      "0574_resized\n"
     ]
    },
    {
     "name": "stderr",
     "output_type": "stream",
     "text": [
      "/home/phdcs2/Hard_Disk/Projects/T2I/deep-spectral-segmentation/venv/lib/python3.8/site-packages/sklearn/decomposition/_pca.py:642: RuntimeWarning: invalid value encountered in divide\n",
      "  self.explained_variance_ratio_ = self.explained_variance_ / total_var\n"
     ]
    },
    {
     "name": "stdout",
     "output_type": "stream",
     "text": [
      "Starting Training\n",
      "epoch: 00, loss: -0.87587\n",
      "epoch: 01, loss: -0.90341\n",
      "epoch: 02, loss: -0.91208\n",
      "epoch: 03, loss: -0.91767\n",
      "epoch: 04, loss: -0.92194\n",
      "epoch: 05, loss: -0.92531\n",
      "epoch: 06, loss: -0.92809\n",
      "epoch: 07, loss: -0.93053\n",
      "epoch: 08, loss: -0.93264\n",
      "epoch: 09, loss: -0.93436\n",
      "torch.Size([1024, 64])\n"
     ]
    },
    {
     "name": "stderr",
     "output_type": "stream",
     "text": [
      " 57%|█████▋    | 573/999 [11:23:42<8:02:53, 68.01s/it]"
     ]
    },
    {
     "name": "stdout",
     "output_type": "stream",
     "text": [
      "eigenvalues shape torch.Size([5]) eigenvectors shape torch.Size([5, 1024])\n",
      "573 /home/phdcs2/Hard_Disk/Datasets/Deep-Spectral-Segmentation/data/object-segmentation/ECSSD/features/0575_resized.pth\n",
      "dict_keys(['k', 'indices', 'file', 'id', 'model_name', 'patch_size', 'shape'])\n",
      "0575_resized\n"
     ]
    },
    {
     "name": "stderr",
     "output_type": "stream",
     "text": [
      "/home/phdcs2/Hard_Disk/Projects/T2I/deep-spectral-segmentation/venv/lib/python3.8/site-packages/sklearn/decomposition/_pca.py:642: RuntimeWarning: invalid value encountered in divide\n",
      "  self.explained_variance_ratio_ = self.explained_variance_ / total_var\n"
     ]
    },
    {
     "name": "stdout",
     "output_type": "stream",
     "text": [
      "Starting Training\n",
      "epoch: 00, loss: -0.89263\n",
      "epoch: 01, loss: -0.91265\n",
      "epoch: 02, loss: -0.91954\n",
      "epoch: 03, loss: -0.92417\n",
      "epoch: 04, loss: -0.92772\n",
      "epoch: 05, loss: -0.93048\n",
      "epoch: 06, loss: -0.93294\n",
      "epoch: 07, loss: -0.93489\n",
      "epoch: 08, loss: -0.93673\n",
      "epoch: 09, loss: -0.93832\n",
      "torch.Size([1024, 64])\n"
     ]
    },
    {
     "name": "stderr",
     "output_type": "stream",
     "text": [
      " 57%|█████▋    | 574/999 [11:24:48<7:56:46, 67.31s/it]"
     ]
    },
    {
     "name": "stdout",
     "output_type": "stream",
     "text": [
      "eigenvalues shape torch.Size([5]) eigenvectors shape torch.Size([5, 1024])\n",
      "574 /home/phdcs2/Hard_Disk/Datasets/Deep-Spectral-Segmentation/data/object-segmentation/ECSSD/features/0576_resized.pth\n",
      "dict_keys(['k', 'indices', 'file', 'id', 'model_name', 'patch_size', 'shape'])\n",
      "0576_resized\n",
      "Starting Training\n",
      "epoch: 00, loss: -0.87181\n",
      "epoch: 01, loss: -0.90258\n",
      "epoch: 02, loss: -0.91139\n",
      "epoch: 03, loss: -0.91709\n",
      "epoch: 04, loss: -0.92140\n",
      "epoch: 05, loss: -0.92484\n",
      "epoch: 06, loss: -0.92764\n",
      "epoch: 07, loss: -0.93009\n",
      "epoch: 08, loss: -0.93213\n",
      "epoch: 09, loss: -0.93400\n",
      "torch.Size([1024, 64])\n"
     ]
    },
    {
     "name": "stderr",
     "output_type": "stream",
     "text": [
      " 58%|█████▊    | 575/999 [11:25:51<7:47:25, 66.14s/it]"
     ]
    },
    {
     "name": "stdout",
     "output_type": "stream",
     "text": [
      "eigenvalues shape torch.Size([5]) eigenvectors shape torch.Size([5, 1024])\n",
      "575 /home/phdcs2/Hard_Disk/Datasets/Deep-Spectral-Segmentation/data/object-segmentation/ECSSD/features/0577_resized.pth\n",
      "dict_keys(['k', 'indices', 'file', 'id', 'model_name', 'patch_size', 'shape'])\n",
      "0577_resized\n",
      "Starting Training\n",
      "epoch: 00, loss: -0.81110\n",
      "epoch: 01, loss: -0.85737\n",
      "epoch: 02, loss: -0.87318\n",
      "epoch: 03, loss: -0.88413\n",
      "epoch: 04, loss: -0.89208\n",
      "epoch: 05, loss: -0.89805\n",
      "epoch: 06, loss: -0.90317\n",
      "epoch: 07, loss: -0.90740\n",
      "epoch: 08, loss: -0.91100\n",
      "epoch: 09, loss: -0.91403\n",
      "torch.Size([1024, 64])\n"
     ]
    },
    {
     "name": "stderr",
     "output_type": "stream",
     "text": [
      " 58%|█████▊    | 576/999 [11:26:50<7:30:18, 63.87s/it]"
     ]
    },
    {
     "name": "stdout",
     "output_type": "stream",
     "text": [
      "eigenvalues shape torch.Size([5]) eigenvectors shape torch.Size([5, 1024])\n",
      "576 /home/phdcs2/Hard_Disk/Datasets/Deep-Spectral-Segmentation/data/object-segmentation/ECSSD/features/0578_resized.pth\n",
      "dict_keys(['k', 'indices', 'file', 'id', 'model_name', 'patch_size', 'shape'])\n",
      "0578_resized\n",
      "Starting Training\n",
      "epoch: 00, loss: -0.78953\n",
      "epoch: 01, loss: -0.83787\n",
      "epoch: 02, loss: -0.85548\n",
      "epoch: 03, loss: -0.86731\n",
      "epoch: 04, loss: -0.87552\n",
      "epoch: 05, loss: -0.88258\n",
      "epoch: 06, loss: -0.88878\n",
      "epoch: 07, loss: -0.89358\n",
      "epoch: 08, loss: -0.89769\n",
      "epoch: 09, loss: -0.90114\n",
      "torch.Size([1024, 64])\n"
     ]
    },
    {
     "name": "stderr",
     "output_type": "stream",
     "text": [
      " 58%|█████▊    | 577/999 [11:27:53<7:27:06, 63.57s/it]"
     ]
    },
    {
     "name": "stdout",
     "output_type": "stream",
     "text": [
      "eigenvalues shape torch.Size([5]) eigenvectors shape torch.Size([5, 1024])\n",
      "577 /home/phdcs2/Hard_Disk/Datasets/Deep-Spectral-Segmentation/data/object-segmentation/ECSSD/features/0579_resized.pth\n",
      "dict_keys(['k', 'indices', 'file', 'id', 'model_name', 'patch_size', 'shape'])\n",
      "0579_resized\n",
      "Starting Training\n",
      "epoch: 00, loss: -0.81712\n",
      "epoch: 01, loss: -0.85881\n",
      "epoch: 02, loss: -0.87320\n",
      "epoch: 03, loss: -0.88249\n",
      "epoch: 04, loss: -0.88970\n",
      "epoch: 05, loss: -0.89516\n",
      "epoch: 06, loss: -0.90006\n",
      "epoch: 07, loss: -0.90374\n",
      "epoch: 08, loss: -0.90675\n",
      "epoch: 09, loss: -0.90955\n",
      "torch.Size([1024, 64])\n"
     ]
    },
    {
     "name": "stderr",
     "output_type": "stream",
     "text": [
      " 58%|█████▊    | 578/999 [11:28:49<7:11:02, 61.43s/it]"
     ]
    },
    {
     "name": "stdout",
     "output_type": "stream",
     "text": [
      "eigenvalues shape torch.Size([5]) eigenvectors shape torch.Size([5, 1024])\n",
      "578 /home/phdcs2/Hard_Disk/Datasets/Deep-Spectral-Segmentation/data/object-segmentation/ECSSD/features/0580_resized.pth\n",
      "dict_keys(['k', 'indices', 'file', 'id', 'model_name', 'patch_size', 'shape'])\n",
      "0580_resized\n"
     ]
    },
    {
     "name": "stderr",
     "output_type": "stream",
     "text": [
      "/home/phdcs2/Hard_Disk/Projects/T2I/deep-spectral-segmentation/venv/lib/python3.8/site-packages/sklearn/decomposition/_pca.py:642: RuntimeWarning: invalid value encountered in divide\n",
      "  self.explained_variance_ratio_ = self.explained_variance_ / total_var\n"
     ]
    },
    {
     "name": "stdout",
     "output_type": "stream",
     "text": [
      "Starting Training\n",
      "epoch: 00, loss: -0.91026\n",
      "epoch: 01, loss: -0.93068\n",
      "epoch: 02, loss: -0.93661\n",
      "epoch: 03, loss: -0.94042\n",
      "epoch: 04, loss: -0.94329\n",
      "epoch: 05, loss: -0.94547\n",
      "epoch: 06, loss: -0.94735\n",
      "epoch: 07, loss: -0.94891\n",
      "epoch: 08, loss: -0.95030\n",
      "epoch: 09, loss: -0.95151\n",
      "torch.Size([1024, 64])\n"
     ]
    },
    {
     "name": "stderr",
     "output_type": "stream",
     "text": [
      " 58%|█████▊    | 579/999 [11:29:48<7:03:31, 60.50s/it]"
     ]
    },
    {
     "name": "stdout",
     "output_type": "stream",
     "text": [
      "eigenvalues shape torch.Size([5]) eigenvectors shape torch.Size([5, 1024])\n",
      "579 /home/phdcs2/Hard_Disk/Datasets/Deep-Spectral-Segmentation/data/object-segmentation/ECSSD/features/0581_resized.pth\n",
      "dict_keys(['k', 'indices', 'file', 'id', 'model_name', 'patch_size', 'shape'])\n",
      "0581_resized\n"
     ]
    },
    {
     "name": "stderr",
     "output_type": "stream",
     "text": [
      "/home/phdcs2/Hard_Disk/Projects/T2I/deep-spectral-segmentation/venv/lib/python3.8/site-packages/sklearn/decomposition/_pca.py:642: RuntimeWarning: invalid value encountered in divide\n",
      "  self.explained_variance_ratio_ = self.explained_variance_ / total_var\n"
     ]
    },
    {
     "name": "stdout",
     "output_type": "stream",
     "text": [
      "Starting Training\n",
      "epoch: 00, loss: -0.90508\n",
      "epoch: 01, loss: -0.92763\n",
      "epoch: 02, loss: -0.93431\n",
      "epoch: 03, loss: -0.93883\n",
      "epoch: 04, loss: -0.94207\n",
      "epoch: 05, loss: -0.94475\n",
      "epoch: 06, loss: -0.94694\n",
      "epoch: 07, loss: -0.94878\n",
      "epoch: 08, loss: -0.95040\n",
      "epoch: 09, loss: -0.95183\n",
      "torch.Size([1024, 64])\n"
     ]
    },
    {
     "name": "stderr",
     "output_type": "stream",
     "text": [
      " 58%|█████▊    | 580/999 [11:30:53<7:13:26, 62.07s/it]"
     ]
    },
    {
     "name": "stdout",
     "output_type": "stream",
     "text": [
      "eigenvalues shape torch.Size([5]) eigenvectors shape torch.Size([5, 1024])\n",
      "580 /home/phdcs2/Hard_Disk/Datasets/Deep-Spectral-Segmentation/data/object-segmentation/ECSSD/features/0582_resized.pth\n",
      "dict_keys(['k', 'indices', 'file', 'id', 'model_name', 'patch_size', 'shape'])\n",
      "0582_resized\n",
      "Starting Training\n",
      "epoch: 00, loss: -0.89021\n",
      "epoch: 01, loss: -0.91501\n",
      "epoch: 02, loss: -0.92200\n",
      "epoch: 03, loss: -0.92657\n",
      "epoch: 04, loss: -0.93001\n",
      "epoch: 05, loss: -0.93271\n",
      "epoch: 06, loss: -0.93492\n",
      "epoch: 07, loss: -0.93682\n",
      "epoch: 08, loss: -0.93847\n",
      "epoch: 09, loss: -0.93989\n",
      "torch.Size([1024, 64])\n"
     ]
    },
    {
     "name": "stderr",
     "output_type": "stream",
     "text": [
      " 58%|█████▊    | 581/999 [11:31:53<7:07:31, 61.37s/it]"
     ]
    },
    {
     "name": "stdout",
     "output_type": "stream",
     "text": [
      "eigenvalues shape torch.Size([5]) eigenvectors shape torch.Size([5, 1024])\n",
      "581 /home/phdcs2/Hard_Disk/Datasets/Deep-Spectral-Segmentation/data/object-segmentation/ECSSD/features/0583_resized.pth\n",
      "dict_keys(['k', 'indices', 'file', 'id', 'model_name', 'patch_size', 'shape'])\n",
      "0583_resized\n",
      "Starting Training\n",
      "epoch: 00, loss: -0.78254\n",
      "epoch: 01, loss: -0.83125\n",
      "epoch: 02, loss: -0.84786\n",
      "epoch: 03, loss: -0.85906\n",
      "epoch: 04, loss: -0.86732\n",
      "epoch: 05, loss: -0.87413\n",
      "epoch: 06, loss: -0.87958\n",
      "epoch: 07, loss: -0.88422\n",
      "epoch: 08, loss: -0.88828\n",
      "epoch: 09, loss: -0.89178\n",
      "torch.Size([1024, 64])\n"
     ]
    },
    {
     "name": "stderr",
     "output_type": "stream",
     "text": [
      " 58%|█████▊    | 582/999 [11:33:01<7:21:14, 63.49s/it]"
     ]
    },
    {
     "name": "stdout",
     "output_type": "stream",
     "text": [
      "eigenvalues shape torch.Size([5]) eigenvectors shape torch.Size([5, 1024])\n",
      "582 /home/phdcs2/Hard_Disk/Datasets/Deep-Spectral-Segmentation/data/object-segmentation/ECSSD/features/0584_resized.pth\n",
      "dict_keys(['k', 'indices', 'file', 'id', 'model_name', 'patch_size', 'shape'])\n",
      "0584_resized\n",
      "Starting Training\n",
      "epoch: 00, loss: -0.82280\n",
      "epoch: 01, loss: -0.86476\n",
      "epoch: 02, loss: -0.88006\n",
      "epoch: 03, loss: -0.88969\n",
      "epoch: 04, loss: -0.89650\n",
      "epoch: 05, loss: -0.90184\n",
      "epoch: 06, loss: -0.90641\n",
      "epoch: 07, loss: -0.91029\n",
      "epoch: 08, loss: -0.91368\n",
      "epoch: 09, loss: -0.91647\n",
      "torch.Size([1024, 64])\n"
     ]
    },
    {
     "name": "stderr",
     "output_type": "stream",
     "text": [
      " 58%|█████▊    | 583/999 [11:34:17<7:44:20, 66.97s/it]"
     ]
    },
    {
     "name": "stdout",
     "output_type": "stream",
     "text": [
      "eigenvalues shape torch.Size([5]) eigenvectors shape torch.Size([5, 1024])\n",
      "583 /home/phdcs2/Hard_Disk/Datasets/Deep-Spectral-Segmentation/data/object-segmentation/ECSSD/features/0585_resized.pth\n",
      "dict_keys(['k', 'indices', 'file', 'id', 'model_name', 'patch_size', 'shape'])\n",
      "0585_resized\n",
      "Starting Training\n",
      "epoch: 00, loss: -0.77123\n",
      "epoch: 01, loss: -0.80530\n",
      "epoch: 02, loss: -0.82038\n",
      "epoch: 03, loss: -0.83132\n",
      "epoch: 04, loss: -0.84019\n",
      "epoch: 05, loss: -0.84773\n",
      "epoch: 06, loss: -0.85441\n",
      "epoch: 07, loss: -0.85975\n",
      "epoch: 08, loss: -0.86461\n",
      "epoch: 09, loss: -0.86880\n",
      "torch.Size([1024, 64])\n"
     ]
    },
    {
     "name": "stderr",
     "output_type": "stream",
     "text": [
      " 58%|█████▊    | 584/999 [11:35:27<7:50:16, 67.99s/it]"
     ]
    },
    {
     "name": "stdout",
     "output_type": "stream",
     "text": [
      "eigenvalues shape torch.Size([5]) eigenvectors shape torch.Size([5, 1024])\n",
      "584 /home/phdcs2/Hard_Disk/Datasets/Deep-Spectral-Segmentation/data/object-segmentation/ECSSD/features/0586_resized.pth\n",
      "dict_keys(['k', 'indices', 'file', 'id', 'model_name', 'patch_size', 'shape'])\n",
      "0586_resized\n",
      "Starting Training\n",
      "epoch: 00, loss: -0.81286\n",
      "epoch: 01, loss: -0.84956\n",
      "epoch: 02, loss: -0.86289\n",
      "epoch: 03, loss: -0.87211\n",
      "epoch: 04, loss: -0.87876\n",
      "epoch: 05, loss: -0.88412\n",
      "epoch: 06, loss: -0.88899\n",
      "epoch: 07, loss: -0.89270\n",
      "epoch: 08, loss: -0.89594\n",
      "epoch: 09, loss: -0.89910\n",
      "torch.Size([1024, 64])\n"
     ]
    },
    {
     "name": "stderr",
     "output_type": "stream",
     "text": [
      " 59%|█████▊    | 585/999 [11:36:44<8:07:59, 70.72s/it]"
     ]
    },
    {
     "name": "stdout",
     "output_type": "stream",
     "text": [
      "eigenvalues shape torch.Size([5]) eigenvectors shape torch.Size([5, 1024])\n",
      "585 /home/phdcs2/Hard_Disk/Datasets/Deep-Spectral-Segmentation/data/object-segmentation/ECSSD/features/0587_resized.pth\n",
      "dict_keys(['k', 'indices', 'file', 'id', 'model_name', 'patch_size', 'shape'])\n",
      "0587_resized\n",
      "Starting Training\n",
      "epoch: 00, loss: -0.76824\n",
      "epoch: 01, loss: -0.80491\n",
      "epoch: 02, loss: -0.81928\n",
      "epoch: 03, loss: -0.82907\n",
      "epoch: 04, loss: -0.83693\n",
      "epoch: 05, loss: -0.84354\n",
      "epoch: 06, loss: -0.84866\n",
      "epoch: 07, loss: -0.85337\n",
      "epoch: 08, loss: -0.85795\n",
      "epoch: 09, loss: -0.86216\n",
      "torch.Size([1024, 64])\n"
     ]
    },
    {
     "name": "stderr",
     "output_type": "stream",
     "text": [
      " 59%|█████▊    | 586/999 [11:37:57<8:12:01, 71.48s/it]"
     ]
    },
    {
     "name": "stdout",
     "output_type": "stream",
     "text": [
      "eigenvalues shape torch.Size([5]) eigenvectors shape torch.Size([5, 1024])\n",
      "586 /home/phdcs2/Hard_Disk/Datasets/Deep-Spectral-Segmentation/data/object-segmentation/ECSSD/features/0588_resized.pth\n",
      "dict_keys(['k', 'indices', 'file', 'id', 'model_name', 'patch_size', 'shape'])\n",
      "0588_resized\n"
     ]
    },
    {
     "name": "stderr",
     "output_type": "stream",
     "text": [
      "/home/phdcs2/Hard_Disk/Projects/T2I/deep-spectral-segmentation/venv/lib/python3.8/site-packages/sklearn/decomposition/_pca.py:642: RuntimeWarning: invalid value encountered in divide\n",
      "  self.explained_variance_ratio_ = self.explained_variance_ / total_var\n"
     ]
    },
    {
     "name": "stdout",
     "output_type": "stream",
     "text": [
      "Starting Training\n",
      "epoch: 00, loss: -0.88711\n",
      "epoch: 01, loss: -0.91270\n",
      "epoch: 02, loss: -0.92028\n",
      "epoch: 03, loss: -0.92531\n",
      "epoch: 04, loss: -0.92919\n",
      "epoch: 05, loss: -0.93223\n",
      "epoch: 06, loss: -0.93479\n",
      "epoch: 07, loss: -0.93702\n",
      "epoch: 08, loss: -0.93885\n",
      "epoch: 09, loss: -0.94056\n",
      "torch.Size([1024, 64])\n"
     ]
    },
    {
     "name": "stderr",
     "output_type": "stream",
     "text": [
      " 59%|█████▉    | 587/999 [11:39:11<8:14:28, 72.01s/it]"
     ]
    },
    {
     "name": "stdout",
     "output_type": "stream",
     "text": [
      "eigenvalues shape torch.Size([5]) eigenvectors shape torch.Size([5, 1024])\n",
      "587 /home/phdcs2/Hard_Disk/Datasets/Deep-Spectral-Segmentation/data/object-segmentation/ECSSD/features/0589_resized.pth\n",
      "dict_keys(['k', 'indices', 'file', 'id', 'model_name', 'patch_size', 'shape'])\n",
      "0589_resized\n"
     ]
    },
    {
     "name": "stderr",
     "output_type": "stream",
     "text": [
      "/home/phdcs2/Hard_Disk/Projects/T2I/deep-spectral-segmentation/venv/lib/python3.8/site-packages/sklearn/decomposition/_pca.py:642: RuntimeWarning: invalid value encountered in divide\n",
      "  self.explained_variance_ratio_ = self.explained_variance_ / total_var\n"
     ]
    },
    {
     "name": "stdout",
     "output_type": "stream",
     "text": [
      "Starting Training\n",
      "epoch: 00, loss: -0.92207\n",
      "epoch: 01, loss: -0.94490\n",
      "epoch: 02, loss: -0.95045\n",
      "epoch: 03, loss: -0.95418\n",
      "epoch: 04, loss: -0.95683\n",
      "epoch: 05, loss: -0.95893\n",
      "epoch: 06, loss: -0.96070\n",
      "epoch: 07, loss: -0.96212\n",
      "epoch: 08, loss: -0.96337\n",
      "epoch: 09, loss: -0.96445\n",
      "torch.Size([1024, 64])\n"
     ]
    },
    {
     "name": "stderr",
     "output_type": "stream",
     "text": [
      " 59%|█████▉    | 588/999 [11:40:19<8:06:56, 71.09s/it]"
     ]
    },
    {
     "name": "stdout",
     "output_type": "stream",
     "text": [
      "eigenvalues shape torch.Size([5]) eigenvectors shape torch.Size([5, 1024])\n",
      "588 /home/phdcs2/Hard_Disk/Datasets/Deep-Spectral-Segmentation/data/object-segmentation/ECSSD/features/0590_resized.pth\n",
      "dict_keys(['k', 'indices', 'file', 'id', 'model_name', 'patch_size', 'shape'])\n",
      "0590_resized\n",
      "Starting Training\n",
      "epoch: 00, loss: -0.82231\n",
      "epoch: 01, loss: -0.85696\n",
      "epoch: 02, loss: -0.86970\n",
      "epoch: 03, loss: -0.87889\n",
      "epoch: 04, loss: -0.88623\n",
      "epoch: 05, loss: -0.89169\n",
      "epoch: 06, loss: -0.89617\n",
      "epoch: 07, loss: -0.90041\n",
      "epoch: 08, loss: -0.90380\n",
      "epoch: 09, loss: -0.90679\n",
      "torch.Size([1024, 64])\n"
     ]
    },
    {
     "name": "stderr",
     "output_type": "stream",
     "text": [
      " 59%|█████▉    | 589/999 [11:41:29<8:03:12, 70.71s/it]"
     ]
    },
    {
     "name": "stdout",
     "output_type": "stream",
     "text": [
      "eigenvalues shape torch.Size([5]) eigenvectors shape torch.Size([5, 1024])\n",
      "589 /home/phdcs2/Hard_Disk/Datasets/Deep-Spectral-Segmentation/data/object-segmentation/ECSSD/features/0591_resized.pth\n",
      "dict_keys(['k', 'indices', 'file', 'id', 'model_name', 'patch_size', 'shape'])\n",
      "0591_resized\n",
      "Starting Training\n",
      "epoch: 00, loss: -0.77752\n",
      "epoch: 01, loss: -0.82215\n",
      "epoch: 02, loss: -0.83909\n",
      "epoch: 03, loss: -0.85077\n",
      "epoch: 04, loss: -0.85943\n",
      "epoch: 05, loss: -0.86606\n",
      "epoch: 06, loss: -0.87170\n",
      "epoch: 07, loss: -0.87650\n",
      "epoch: 08, loss: -0.88087\n",
      "epoch: 09, loss: -0.88460\n",
      "torch.Size([1024, 64])\n"
     ]
    },
    {
     "name": "stderr",
     "output_type": "stream",
     "text": [
      " 59%|█████▉    | 590/999 [11:42:45<8:12:41, 72.28s/it]"
     ]
    },
    {
     "name": "stdout",
     "output_type": "stream",
     "text": [
      "eigenvalues shape torch.Size([5]) eigenvectors shape torch.Size([5, 1024])\n",
      "590 /home/phdcs2/Hard_Disk/Datasets/Deep-Spectral-Segmentation/data/object-segmentation/ECSSD/features/0592_resized.pth\n",
      "dict_keys(['k', 'indices', 'file', 'id', 'model_name', 'patch_size', 'shape'])\n",
      "0592_resized\n"
     ]
    },
    {
     "name": "stderr",
     "output_type": "stream",
     "text": [
      "/home/phdcs2/Hard_Disk/Projects/T2I/deep-spectral-segmentation/venv/lib/python3.8/site-packages/sklearn/decomposition/_pca.py:642: RuntimeWarning: invalid value encountered in divide\n",
      "  self.explained_variance_ratio_ = self.explained_variance_ / total_var\n"
     ]
    },
    {
     "name": "stdout",
     "output_type": "stream",
     "text": [
      "Starting Training\n",
      "epoch: 00, loss: -0.88650\n",
      "epoch: 01, loss: -0.91398\n",
      "epoch: 02, loss: -0.92190\n",
      "epoch: 03, loss: -0.92713\n",
      "epoch: 04, loss: -0.93105\n",
      "epoch: 05, loss: -0.93413\n",
      "epoch: 06, loss: -0.93667\n",
      "epoch: 07, loss: -0.93887\n",
      "epoch: 08, loss: -0.94083\n",
      "epoch: 09, loss: -0.94245\n",
      "torch.Size([1024, 64])\n"
     ]
    },
    {
     "name": "stderr",
     "output_type": "stream",
     "text": [
      " 59%|█████▉    | 591/999 [11:44:00<8:15:54, 72.93s/it]"
     ]
    },
    {
     "name": "stdout",
     "output_type": "stream",
     "text": [
      "eigenvalues shape torch.Size([5]) eigenvectors shape torch.Size([5, 1024])\n",
      "591 /home/phdcs2/Hard_Disk/Datasets/Deep-Spectral-Segmentation/data/object-segmentation/ECSSD/features/0593_resized.pth\n",
      "dict_keys(['k', 'indices', 'file', 'id', 'model_name', 'patch_size', 'shape'])\n",
      "0593_resized\n",
      "Starting Training\n",
      "epoch: 00, loss: -0.79250\n",
      "epoch: 01, loss: -0.82874\n",
      "epoch: 02, loss: -0.84361\n",
      "epoch: 03, loss: -0.85406\n",
      "epoch: 04, loss: -0.86195\n",
      "epoch: 05, loss: -0.86830\n",
      "epoch: 06, loss: -0.87373\n",
      "epoch: 07, loss: -0.87858\n",
      "epoch: 08, loss: -0.88270\n",
      "epoch: 09, loss: -0.88657\n",
      "torch.Size([1024, 64])\n"
     ]
    },
    {
     "name": "stderr",
     "output_type": "stream",
     "text": [
      " 59%|█████▉    | 592/999 [11:45:14<8:17:56, 73.41s/it]"
     ]
    },
    {
     "name": "stdout",
     "output_type": "stream",
     "text": [
      "eigenvalues shape torch.Size([5]) eigenvectors shape torch.Size([5, 1024])\n",
      "592 /home/phdcs2/Hard_Disk/Datasets/Deep-Spectral-Segmentation/data/object-segmentation/ECSSD/features/0594_resized.pth\n",
      "dict_keys(['k', 'indices', 'file', 'id', 'model_name', 'patch_size', 'shape'])\n",
      "0594_resized\n"
     ]
    },
    {
     "name": "stderr",
     "output_type": "stream",
     "text": [
      "/home/phdcs2/Hard_Disk/Projects/T2I/deep-spectral-segmentation/venv/lib/python3.8/site-packages/sklearn/decomposition/_pca.py:642: RuntimeWarning: invalid value encountered in divide\n",
      "  self.explained_variance_ratio_ = self.explained_variance_ / total_var\n"
     ]
    },
    {
     "name": "stdout",
     "output_type": "stream",
     "text": [
      "Starting Training\n",
      "epoch: 00, loss: -0.89009\n",
      "epoch: 01, loss: -0.91535\n",
      "epoch: 02, loss: -0.92275\n",
      "epoch: 03, loss: -0.92778\n",
      "epoch: 04, loss: -0.93148\n",
      "epoch: 05, loss: -0.93448\n",
      "epoch: 06, loss: -0.93687\n",
      "epoch: 07, loss: -0.93890\n",
      "epoch: 08, loss: -0.94072\n",
      "epoch: 09, loss: -0.94228\n",
      "torch.Size([1024, 64])\n"
     ]
    },
    {
     "name": "stderr",
     "output_type": "stream",
     "text": [
      " 59%|█████▉    | 593/999 [11:46:30<8:22:16, 74.23s/it]"
     ]
    },
    {
     "name": "stdout",
     "output_type": "stream",
     "text": [
      "eigenvalues shape torch.Size([5]) eigenvectors shape torch.Size([5, 1024])\n",
      "593 /home/phdcs2/Hard_Disk/Datasets/Deep-Spectral-Segmentation/data/object-segmentation/ECSSD/features/0595_resized.pth\n",
      "dict_keys(['k', 'indices', 'file', 'id', 'model_name', 'patch_size', 'shape'])\n",
      "0595_resized\n",
      "Starting Training\n",
      "epoch: 00, loss: -0.75461\n",
      "epoch: 01, loss: -0.80033\n",
      "epoch: 02, loss: -0.81953\n",
      "epoch: 03, loss: -0.83203\n",
      "epoch: 04, loss: -0.84280\n",
      "epoch: 05, loss: -0.85115\n",
      "epoch: 06, loss: -0.85787\n",
      "epoch: 07, loss: -0.86442\n",
      "epoch: 08, loss: -0.86914\n",
      "epoch: 09, loss: -0.87342\n",
      "torch.Size([1024, 64])\n"
     ]
    },
    {
     "name": "stderr",
     "output_type": "stream",
     "text": [
      " 59%|█████▉    | 594/999 [11:47:46<8:24:40, 74.77s/it]"
     ]
    },
    {
     "name": "stdout",
     "output_type": "stream",
     "text": [
      "eigenvalues shape torch.Size([5]) eigenvectors shape torch.Size([5, 1024])\n",
      "594 /home/phdcs2/Hard_Disk/Datasets/Deep-Spectral-Segmentation/data/object-segmentation/ECSSD/features/0596_resized.pth\n",
      "dict_keys(['k', 'indices', 'file', 'id', 'model_name', 'patch_size', 'shape'])\n",
      "0596_resized\n",
      "Starting Training\n",
      "epoch: 00, loss: -0.79197\n",
      "epoch: 01, loss: -0.84433\n",
      "epoch: 02, loss: -0.86191\n",
      "epoch: 03, loss: -0.87329\n",
      "epoch: 04, loss: -0.88218\n",
      "epoch: 05, loss: -0.88827\n",
      "epoch: 06, loss: -0.89383\n",
      "epoch: 07, loss: -0.89861\n",
      "epoch: 08, loss: -0.90242\n",
      "epoch: 09, loss: -0.90601\n",
      "torch.Size([1024, 64])\n"
     ]
    },
    {
     "name": "stderr",
     "output_type": "stream",
     "text": [
      " 60%|█████▉    | 595/999 [11:49:01<8:22:16, 74.59s/it]"
     ]
    },
    {
     "name": "stdout",
     "output_type": "stream",
     "text": [
      "eigenvalues shape torch.Size([5]) eigenvectors shape torch.Size([5, 1024])\n",
      "595 /home/phdcs2/Hard_Disk/Datasets/Deep-Spectral-Segmentation/data/object-segmentation/ECSSD/features/0597_resized.pth\n",
      "dict_keys(['k', 'indices', 'file', 'id', 'model_name', 'patch_size', 'shape'])\n",
      "0597_resized\n",
      "Starting Training\n",
      "epoch: 00, loss: -0.83689\n",
      "epoch: 01, loss: -0.87237\n",
      "epoch: 02, loss: -0.88550\n",
      "epoch: 03, loss: -0.89444\n",
      "epoch: 04, loss: -0.90077\n",
      "epoch: 05, loss: -0.90615\n",
      "epoch: 06, loss: -0.91048\n",
      "epoch: 07, loss: -0.91401\n",
      "epoch: 08, loss: -0.91750\n",
      "epoch: 09, loss: -0.92005\n",
      "torch.Size([1024, 64])\n"
     ]
    },
    {
     "name": "stderr",
     "output_type": "stream",
     "text": [
      " 60%|█████▉    | 596/999 [11:50:17<8:24:49, 75.16s/it]"
     ]
    },
    {
     "name": "stdout",
     "output_type": "stream",
     "text": [
      "eigenvalues shape torch.Size([5]) eigenvectors shape torch.Size([5, 1024])\n",
      "596 /home/phdcs2/Hard_Disk/Datasets/Deep-Spectral-Segmentation/data/object-segmentation/ECSSD/features/0598_resized.pth\n",
      "dict_keys(['k', 'indices', 'file', 'id', 'model_name', 'patch_size', 'shape'])\n",
      "0598_resized\n",
      "Starting Training\n",
      "epoch: 00, loss: -0.78604\n",
      "epoch: 01, loss: -0.82159\n",
      "epoch: 02, loss: -0.83395\n",
      "epoch: 03, loss: -0.84288\n",
      "epoch: 04, loss: -0.84998\n",
      "epoch: 05, loss: -0.85564\n",
      "epoch: 06, loss: -0.86066\n",
      "epoch: 07, loss: -0.86478\n",
      "epoch: 08, loss: -0.86830\n",
      "epoch: 09, loss: -0.87171\n",
      "torch.Size([1024, 64])\n"
     ]
    },
    {
     "name": "stderr",
     "output_type": "stream",
     "text": [
      " 60%|█████▉    | 597/999 [11:51:30<8:18:15, 74.37s/it]"
     ]
    },
    {
     "name": "stdout",
     "output_type": "stream",
     "text": [
      "eigenvalues shape torch.Size([5]) eigenvectors shape torch.Size([5, 1024])\n",
      "597 /home/phdcs2/Hard_Disk/Datasets/Deep-Spectral-Segmentation/data/object-segmentation/ECSSD/features/0599_resized.pth\n",
      "dict_keys(['k', 'indices', 'file', 'id', 'model_name', 'patch_size', 'shape'])\n",
      "0599_resized\n",
      "Starting Training\n",
      "epoch: 00, loss: -0.80928\n",
      "epoch: 01, loss: -0.85159\n",
      "epoch: 02, loss: -0.86522\n",
      "epoch: 03, loss: -0.87431\n",
      "epoch: 04, loss: -0.88119\n",
      "epoch: 05, loss: -0.88615\n",
      "epoch: 06, loss: -0.89066\n",
      "epoch: 07, loss: -0.89454\n",
      "epoch: 08, loss: -0.89786\n",
      "epoch: 09, loss: -0.90066\n",
      "torch.Size([1024, 64])\n"
     ]
    },
    {
     "name": "stderr",
     "output_type": "stream",
     "text": [
      " 60%|█████▉    | 598/999 [11:52:40<8:09:02, 73.17s/it]"
     ]
    },
    {
     "name": "stdout",
     "output_type": "stream",
     "text": [
      "eigenvalues shape torch.Size([5]) eigenvectors shape torch.Size([5, 1024])\n",
      "598 /home/phdcs2/Hard_Disk/Datasets/Deep-Spectral-Segmentation/data/object-segmentation/ECSSD/features/0600_resized.pth\n",
      "dict_keys(['k', 'indices', 'file', 'id', 'model_name', 'patch_size', 'shape'])\n",
      "0600_resized\n",
      "Starting Training\n",
      "epoch: 00, loss: -0.79287\n",
      "epoch: 01, loss: -0.84165\n",
      "epoch: 02, loss: -0.86028\n",
      "epoch: 03, loss: -0.87233\n",
      "epoch: 04, loss: -0.88115\n",
      "epoch: 05, loss: -0.88798\n",
      "epoch: 06, loss: -0.89391\n",
      "epoch: 07, loss: -0.89835\n",
      "epoch: 08, loss: -0.90264\n",
      "epoch: 09, loss: -0.90604\n",
      "torch.Size([1024, 64])\n"
     ]
    },
    {
     "name": "stderr",
     "output_type": "stream",
     "text": [
      " 60%|█████▉    | 599/999 [11:53:41<7:43:21, 69.50s/it]"
     ]
    },
    {
     "name": "stdout",
     "output_type": "stream",
     "text": [
      "eigenvalues shape torch.Size([5]) eigenvectors shape torch.Size([5, 1024])\n",
      "599 /home/phdcs2/Hard_Disk/Datasets/Deep-Spectral-Segmentation/data/object-segmentation/ECSSD/features/0601_resized.pth\n",
      "dict_keys(['k', 'indices', 'file', 'id', 'model_name', 'patch_size', 'shape'])\n",
      "0601_resized\n"
     ]
    },
    {
     "name": "stderr",
     "output_type": "stream",
     "text": [
      "/home/phdcs2/Hard_Disk/Projects/T2I/deep-spectral-segmentation/venv/lib/python3.8/site-packages/sklearn/decomposition/_pca.py:642: RuntimeWarning: invalid value encountered in divide\n",
      "  self.explained_variance_ratio_ = self.explained_variance_ / total_var\n"
     ]
    },
    {
     "name": "stdout",
     "output_type": "stream",
     "text": [
      "Starting Training\n",
      "epoch: 00, loss: -0.89998\n",
      "epoch: 01, loss: -0.92709\n",
      "epoch: 02, loss: -0.93448\n",
      "epoch: 03, loss: -0.93925\n",
      "epoch: 04, loss: -0.94266\n",
      "epoch: 05, loss: -0.94540\n",
      "epoch: 06, loss: -0.94764\n",
      "epoch: 07, loss: -0.94954\n",
      "epoch: 08, loss: -0.95118\n",
      "epoch: 09, loss: -0.95260\n",
      "torch.Size([1024, 64])\n"
     ]
    },
    {
     "name": "stderr",
     "output_type": "stream",
     "text": [
      " 60%|██████    | 600/999 [11:54:56<7:53:45, 71.24s/it]"
     ]
    },
    {
     "name": "stdout",
     "output_type": "stream",
     "text": [
      "eigenvalues shape torch.Size([5]) eigenvectors shape torch.Size([5, 1024])\n",
      "600 /home/phdcs2/Hard_Disk/Datasets/Deep-Spectral-Segmentation/data/object-segmentation/ECSSD/features/0602_resized.pth\n",
      "dict_keys(['k', 'indices', 'file', 'id', 'model_name', 'patch_size', 'shape'])\n",
      "0602_resized\n",
      "Starting Training\n",
      "epoch: 00, loss: -0.78268\n",
      "epoch: 01, loss: -0.81755\n",
      "epoch: 02, loss: -0.83346\n",
      "epoch: 03, loss: -0.84347\n",
      "epoch: 04, loss: -0.85108\n",
      "epoch: 05, loss: -0.85857\n",
      "epoch: 06, loss: -0.86419\n",
      "epoch: 07, loss: -0.86914\n",
      "epoch: 08, loss: -0.87358\n",
      "epoch: 09, loss: -0.87732\n",
      "torch.Size([1024, 64])\n"
     ]
    },
    {
     "name": "stderr",
     "output_type": "stream",
     "text": [
      " 60%|██████    | 601/999 [11:56:11<7:59:42, 72.32s/it]"
     ]
    },
    {
     "name": "stdout",
     "output_type": "stream",
     "text": [
      "eigenvalues shape torch.Size([5]) eigenvectors shape torch.Size([5, 1024])\n",
      "601 /home/phdcs2/Hard_Disk/Datasets/Deep-Spectral-Segmentation/data/object-segmentation/ECSSD/features/0603_resized.pth\n",
      "dict_keys(['k', 'indices', 'file', 'id', 'model_name', 'patch_size', 'shape'])\n",
      "0603_resized\n",
      "Starting Training\n",
      "epoch: 00, loss: -0.88848\n",
      "epoch: 01, loss: -0.91512\n",
      "epoch: 02, loss: -0.92264\n",
      "epoch: 03, loss: -0.92757\n",
      "epoch: 04, loss: -0.93131\n",
      "epoch: 05, loss: -0.93421\n",
      "epoch: 06, loss: -0.93667\n",
      "epoch: 07, loss: -0.93872\n",
      "epoch: 08, loss: -0.94051\n",
      "epoch: 09, loss: -0.94205\n",
      "torch.Size([1024, 64])\n"
     ]
    },
    {
     "name": "stderr",
     "output_type": "stream",
     "text": [
      " 60%|██████    | 602/999 [11:57:24<8:00:26, 72.61s/it]"
     ]
    },
    {
     "name": "stdout",
     "output_type": "stream",
     "text": [
      "eigenvalues shape torch.Size([5]) eigenvectors shape torch.Size([5, 1024])\n",
      "602 /home/phdcs2/Hard_Disk/Datasets/Deep-Spectral-Segmentation/data/object-segmentation/ECSSD/features/0604_resized.pth\n",
      "dict_keys(['k', 'indices', 'file', 'id', 'model_name', 'patch_size', 'shape'])\n",
      "0604_resized\n",
      "Starting Training\n",
      "epoch: 00, loss: -0.83731\n",
      "epoch: 01, loss: -0.87260\n",
      "epoch: 02, loss: -0.88537\n",
      "epoch: 03, loss: -0.89401\n",
      "epoch: 04, loss: -0.90051\n",
      "epoch: 05, loss: -0.90599\n",
      "epoch: 06, loss: -0.91013\n",
      "epoch: 07, loss: -0.91375\n",
      "epoch: 08, loss: -0.91697\n",
      "epoch: 09, loss: -0.91967\n",
      "torch.Size([1024, 64])\n"
     ]
    },
    {
     "name": "stderr",
     "output_type": "stream",
     "text": [
      " 60%|██████    | 603/999 [11:58:40<8:05:46, 73.60s/it]"
     ]
    },
    {
     "name": "stdout",
     "output_type": "stream",
     "text": [
      "eigenvalues shape torch.Size([5]) eigenvectors shape torch.Size([5, 1024])\n",
      "603 /home/phdcs2/Hard_Disk/Datasets/Deep-Spectral-Segmentation/data/object-segmentation/ECSSD/features/0605_resized.pth\n",
      "dict_keys(['k', 'indices', 'file', 'id', 'model_name', 'patch_size', 'shape'])\n",
      "0605_resized\n",
      "Starting Training\n",
      "epoch: 00, loss: -0.83864\n",
      "epoch: 01, loss: -0.87538\n",
      "epoch: 02, loss: -0.88754\n",
      "epoch: 03, loss: -0.89589\n",
      "epoch: 04, loss: -0.90201\n",
      "epoch: 05, loss: -0.90690\n",
      "epoch: 06, loss: -0.91113\n",
      "epoch: 07, loss: -0.91444\n",
      "epoch: 08, loss: -0.91751\n",
      "epoch: 09, loss: -0.92025\n",
      "torch.Size([1024, 64])\n"
     ]
    },
    {
     "name": "stderr",
     "output_type": "stream",
     "text": [
      " 60%|██████    | 604/999 [11:59:45<7:47:47, 71.06s/it]"
     ]
    },
    {
     "name": "stdout",
     "output_type": "stream",
     "text": [
      "eigenvalues shape torch.Size([5]) eigenvectors shape torch.Size([5, 1024])\n",
      "604 /home/phdcs2/Hard_Disk/Datasets/Deep-Spectral-Segmentation/data/object-segmentation/ECSSD/features/0606_resized.pth\n",
      "dict_keys(['k', 'indices', 'file', 'id', 'model_name', 'patch_size', 'shape'])\n",
      "0606_resized\n",
      "Starting Training\n",
      "epoch: 00, loss: -0.81250\n",
      "epoch: 01, loss: -0.84796\n",
      "epoch: 02, loss: -0.86016\n",
      "epoch: 03, loss: -0.86872\n",
      "epoch: 04, loss: -0.87550\n",
      "epoch: 05, loss: -0.88127\n",
      "epoch: 06, loss: -0.88641\n",
      "epoch: 07, loss: -0.89020\n",
      "epoch: 08, loss: -0.89380\n",
      "epoch: 09, loss: -0.89676\n",
      "torch.Size([1024, 64])\n"
     ]
    },
    {
     "name": "stderr",
     "output_type": "stream",
     "text": [
      " 61%|██████    | 605/999 [12:00:56<7:46:01, 70.97s/it]"
     ]
    },
    {
     "name": "stdout",
     "output_type": "stream",
     "text": [
      "eigenvalues shape torch.Size([5]) eigenvectors shape torch.Size([5, 1024])\n",
      "605 /home/phdcs2/Hard_Disk/Datasets/Deep-Spectral-Segmentation/data/object-segmentation/ECSSD/features/0607_resized.pth\n",
      "dict_keys(['k', 'indices', 'file', 'id', 'model_name', 'patch_size', 'shape'])\n",
      "0607_resized\n"
     ]
    },
    {
     "name": "stderr",
     "output_type": "stream",
     "text": [
      "/home/phdcs2/Hard_Disk/Projects/T2I/deep-spectral-segmentation/venv/lib/python3.8/site-packages/sklearn/decomposition/_pca.py:642: RuntimeWarning: invalid value encountered in divide\n",
      "  self.explained_variance_ratio_ = self.explained_variance_ / total_var\n"
     ]
    },
    {
     "name": "stdout",
     "output_type": "stream",
     "text": [
      "Starting Training\n",
      "epoch: 00, loss: -0.89508\n",
      "epoch: 01, loss: -0.91823\n",
      "epoch: 02, loss: -0.92519\n",
      "epoch: 03, loss: -0.92977\n",
      "epoch: 04, loss: -0.93319\n",
      "epoch: 05, loss: -0.93589\n",
      "epoch: 06, loss: -0.93817\n",
      "epoch: 07, loss: -0.93998\n",
      "epoch: 08, loss: -0.94165\n",
      "epoch: 09, loss: -0.94309\n",
      "torch.Size([1024, 64])\n"
     ]
    },
    {
     "name": "stderr",
     "output_type": "stream",
     "text": [
      " 61%|██████    | 606/999 [12:02:09<7:49:03, 71.61s/it]"
     ]
    },
    {
     "name": "stdout",
     "output_type": "stream",
     "text": [
      "eigenvalues shape torch.Size([5]) eigenvectors shape torch.Size([5, 1024])\n",
      "606 /home/phdcs2/Hard_Disk/Datasets/Deep-Spectral-Segmentation/data/object-segmentation/ECSSD/features/0608_resized.pth\n",
      "dict_keys(['k', 'indices', 'file', 'id', 'model_name', 'patch_size', 'shape'])\n",
      "0608_resized\n",
      "Starting Training\n",
      "epoch: 00, loss: -0.81186\n",
      "epoch: 01, loss: -0.84753\n",
      "epoch: 02, loss: -0.86175\n",
      "epoch: 03, loss: -0.87172\n",
      "epoch: 04, loss: -0.87913\n",
      "epoch: 05, loss: -0.88496\n",
      "epoch: 06, loss: -0.88986\n",
      "epoch: 07, loss: -0.89387\n",
      "epoch: 08, loss: -0.89785\n",
      "epoch: 09, loss: -0.90137\n",
      "torch.Size([1024, 64])\n"
     ]
    },
    {
     "name": "stderr",
     "output_type": "stream",
     "text": [
      " 61%|██████    | 607/999 [12:03:23<7:51:39, 72.19s/it]"
     ]
    },
    {
     "name": "stdout",
     "output_type": "stream",
     "text": [
      "eigenvalues shape torch.Size([5]) eigenvectors shape torch.Size([5, 1024])\n",
      "607 /home/phdcs2/Hard_Disk/Datasets/Deep-Spectral-Segmentation/data/object-segmentation/ECSSD/features/0609_resized.pth\n",
      "dict_keys(['k', 'indices', 'file', 'id', 'model_name', 'patch_size', 'shape'])\n",
      "0609_resized\n",
      "Starting Training\n",
      "epoch: 00, loss: -0.86475\n",
      "epoch: 01, loss: -0.89867\n",
      "epoch: 02, loss: -0.90933\n",
      "epoch: 03, loss: -0.91650\n",
      "epoch: 04, loss: -0.92175\n",
      "epoch: 05, loss: -0.92579\n",
      "epoch: 06, loss: -0.92893\n",
      "epoch: 07, loss: -0.93180\n",
      "epoch: 08, loss: -0.93410\n",
      "epoch: 09, loss: -0.93624\n",
      "torch.Size([1024, 64])\n"
     ]
    },
    {
     "name": "stderr",
     "output_type": "stream",
     "text": [
      " 61%|██████    | 608/999 [12:04:35<7:50:33, 72.21s/it]"
     ]
    },
    {
     "name": "stdout",
     "output_type": "stream",
     "text": [
      "eigenvalues shape torch.Size([5]) eigenvectors shape torch.Size([5, 1024])\n",
      "608 /home/phdcs2/Hard_Disk/Datasets/Deep-Spectral-Segmentation/data/object-segmentation/ECSSD/features/0610_resized.pth\n",
      "dict_keys(['k', 'indices', 'file', 'id', 'model_name', 'patch_size', 'shape'])\n",
      "0610_resized\n",
      "Starting Training\n",
      "epoch: 00, loss: -0.81946\n",
      "epoch: 01, loss: -0.84944\n",
      "epoch: 02, loss: -0.86116\n",
      "epoch: 03, loss: -0.86934\n",
      "epoch: 04, loss: -0.87562\n",
      "epoch: 05, loss: -0.88061\n",
      "epoch: 06, loss: -0.88538\n",
      "epoch: 07, loss: -0.88904\n",
      "epoch: 08, loss: -0.89277\n",
      "epoch: 09, loss: -0.89597\n",
      "torch.Size([1024, 64])\n"
     ]
    },
    {
     "name": "stderr",
     "output_type": "stream",
     "text": [
      " 61%|██████    | 609/999 [12:05:45<7:45:49, 71.66s/it]"
     ]
    },
    {
     "name": "stdout",
     "output_type": "stream",
     "text": [
      "eigenvalues shape torch.Size([5]) eigenvectors shape torch.Size([5, 1024])\n",
      "609 /home/phdcs2/Hard_Disk/Datasets/Deep-Spectral-Segmentation/data/object-segmentation/ECSSD/features/0611_resized.pth\n",
      "dict_keys(['k', 'indices', 'file', 'id', 'model_name', 'patch_size', 'shape'])\n",
      "0611_resized\n"
     ]
    },
    {
     "name": "stderr",
     "output_type": "stream",
     "text": [
      "/home/phdcs2/Hard_Disk/Projects/T2I/deep-spectral-segmentation/venv/lib/python3.8/site-packages/sklearn/decomposition/_pca.py:642: RuntimeWarning: invalid value encountered in divide\n",
      "  self.explained_variance_ratio_ = self.explained_variance_ / total_var\n"
     ]
    },
    {
     "name": "stdout",
     "output_type": "stream",
     "text": [
      "Starting Training\n",
      "epoch: 00, loss: -0.90163\n",
      "epoch: 01, loss: -0.91976\n",
      "epoch: 02, loss: -0.92575\n",
      "epoch: 03, loss: -0.92985\n",
      "epoch: 04, loss: -0.93297\n",
      "epoch: 05, loss: -0.93551\n",
      "epoch: 06, loss: -0.93764\n",
      "epoch: 07, loss: -0.93947\n",
      "epoch: 08, loss: -0.94109\n",
      "epoch: 09, loss: -0.94246\n",
      "torch.Size([1024, 64])\n"
     ]
    },
    {
     "name": "stderr",
     "output_type": "stream",
     "text": [
      " 61%|██████    | 610/999 [12:06:49<7:28:56, 69.25s/it]"
     ]
    },
    {
     "name": "stdout",
     "output_type": "stream",
     "text": [
      "eigenvalues shape torch.Size([5]) eigenvectors shape torch.Size([5, 1024])\n",
      "610 /home/phdcs2/Hard_Disk/Datasets/Deep-Spectral-Segmentation/data/object-segmentation/ECSSD/features/0612_resized.pth\n",
      "dict_keys(['k', 'indices', 'file', 'id', 'model_name', 'patch_size', 'shape'])\n",
      "0612_resized\n",
      "Starting Training\n",
      "epoch: 00, loss: -0.88698\n",
      "epoch: 01, loss: -0.91142\n",
      "epoch: 02, loss: -0.91927\n",
      "epoch: 03, loss: -0.92468\n",
      "epoch: 04, loss: -0.92860\n",
      "epoch: 05, loss: -0.93166\n",
      "epoch: 06, loss: -0.93431\n",
      "epoch: 07, loss: -0.93647\n",
      "epoch: 08, loss: -0.93841\n",
      "epoch: 09, loss: -0.94013\n",
      "torch.Size([1024, 64])\n"
     ]
    },
    {
     "name": "stderr",
     "output_type": "stream",
     "text": [
      " 61%|██████    | 611/999 [12:07:47<7:06:29, 65.95s/it]"
     ]
    },
    {
     "name": "stdout",
     "output_type": "stream",
     "text": [
      "eigenvalues shape torch.Size([5]) eigenvectors shape torch.Size([5, 1024])\n",
      "611 /home/phdcs2/Hard_Disk/Datasets/Deep-Spectral-Segmentation/data/object-segmentation/ECSSD/features/0613_resized.pth\n",
      "dict_keys(['k', 'indices', 'file', 'id', 'model_name', 'patch_size', 'shape'])\n",
      "0613_resized\n"
     ]
    },
    {
     "name": "stderr",
     "output_type": "stream",
     "text": [
      "/home/phdcs2/Hard_Disk/Projects/T2I/deep-spectral-segmentation/venv/lib/python3.8/site-packages/sklearn/decomposition/_pca.py:642: RuntimeWarning: invalid value encountered in divide\n",
      "  self.explained_variance_ratio_ = self.explained_variance_ / total_var\n"
     ]
    },
    {
     "name": "stdout",
     "output_type": "stream",
     "text": [
      "Starting Training\n",
      "epoch: 00, loss: -0.89452\n",
      "epoch: 01, loss: -0.91672\n",
      "epoch: 02, loss: -0.92395\n",
      "epoch: 03, loss: -0.92878\n",
      "epoch: 04, loss: -0.93232\n",
      "epoch: 05, loss: -0.93525\n",
      "epoch: 06, loss: -0.93766\n",
      "epoch: 07, loss: -0.93976\n",
      "epoch: 08, loss: -0.94156\n",
      "epoch: 09, loss: -0.94308\n",
      "torch.Size([1024, 64])\n"
     ]
    },
    {
     "name": "stderr",
     "output_type": "stream",
     "text": [
      " 61%|██████▏   | 612/999 [12:08:43<6:46:15, 62.99s/it]"
     ]
    },
    {
     "name": "stdout",
     "output_type": "stream",
     "text": [
      "eigenvalues shape torch.Size([5]) eigenvectors shape torch.Size([5, 1024])\n",
      "612 /home/phdcs2/Hard_Disk/Datasets/Deep-Spectral-Segmentation/data/object-segmentation/ECSSD/features/0614_resized.pth\n",
      "dict_keys(['k', 'indices', 'file', 'id', 'model_name', 'patch_size', 'shape'])\n",
      "0614_resized\n",
      "Starting Training\n",
      "epoch: 00, loss: -0.82633\n",
      "epoch: 01, loss: -0.85973\n",
      "epoch: 02, loss: -0.87322\n",
      "epoch: 03, loss: -0.88218\n",
      "epoch: 04, loss: -0.88907\n",
      "epoch: 05, loss: -0.89479\n",
      "epoch: 06, loss: -0.89921\n",
      "epoch: 07, loss: -0.90310\n",
      "epoch: 08, loss: -0.90664\n",
      "epoch: 09, loss: -0.90949\n",
      "torch.Size([1024, 64])\n"
     ]
    },
    {
     "name": "stderr",
     "output_type": "stream",
     "text": [
      " 61%|██████▏   | 613/999 [12:09:47<6:47:11, 63.29s/it]"
     ]
    },
    {
     "name": "stdout",
     "output_type": "stream",
     "text": [
      "eigenvalues shape torch.Size([5]) eigenvectors shape torch.Size([5, 1024])\n",
      "613 /home/phdcs2/Hard_Disk/Datasets/Deep-Spectral-Segmentation/data/object-segmentation/ECSSD/features/0615_resized.pth\n",
      "dict_keys(['k', 'indices', 'file', 'id', 'model_name', 'patch_size', 'shape'])\n",
      "0615_resized\n"
     ]
    },
    {
     "name": "stderr",
     "output_type": "stream",
     "text": [
      "/home/phdcs2/Hard_Disk/Projects/T2I/deep-spectral-segmentation/venv/lib/python3.8/site-packages/sklearn/decomposition/_pca.py:642: RuntimeWarning: invalid value encountered in divide\n",
      "  self.explained_variance_ratio_ = self.explained_variance_ / total_var\n"
     ]
    },
    {
     "name": "stdout",
     "output_type": "stream",
     "text": [
      "Starting Training\n",
      "epoch: 00, loss: -0.90231\n",
      "epoch: 01, loss: -0.92715\n",
      "epoch: 02, loss: -0.93419\n",
      "epoch: 03, loss: -0.93886\n",
      "epoch: 04, loss: -0.94229\n",
      "epoch: 05, loss: -0.94497\n",
      "epoch: 06, loss: -0.94725\n",
      "epoch: 07, loss: -0.94909\n",
      "epoch: 08, loss: -0.95070\n",
      "epoch: 09, loss: -0.95211\n",
      "torch.Size([1024, 64])\n"
     ]
    },
    {
     "name": "stderr",
     "output_type": "stream",
     "text": [
      " 61%|██████▏   | 614/999 [12:10:59<7:01:14, 65.65s/it]"
     ]
    },
    {
     "name": "stdout",
     "output_type": "stream",
     "text": [
      "eigenvalues shape torch.Size([5]) eigenvectors shape torch.Size([5, 1024])\n",
      "614 /home/phdcs2/Hard_Disk/Datasets/Deep-Spectral-Segmentation/data/object-segmentation/ECSSD/features/0616_resized.pth\n",
      "dict_keys(['k', 'indices', 'file', 'id', 'model_name', 'patch_size', 'shape'])\n",
      "0616_resized\n"
     ]
    },
    {
     "name": "stderr",
     "output_type": "stream",
     "text": [
      "/home/phdcs2/Hard_Disk/Projects/T2I/deep-spectral-segmentation/venv/lib/python3.8/site-packages/sklearn/decomposition/_pca.py:642: RuntimeWarning: invalid value encountered in divide\n",
      "  self.explained_variance_ratio_ = self.explained_variance_ / total_var\n"
     ]
    },
    {
     "name": "stdout",
     "output_type": "stream",
     "text": [
      "Starting Training\n",
      "epoch: 00, loss: -0.88822\n",
      "epoch: 01, loss: -0.91302\n",
      "epoch: 02, loss: -0.92033\n",
      "epoch: 03, loss: -0.92537\n",
      "epoch: 04, loss: -0.92912\n",
      "epoch: 05, loss: -0.93212\n",
      "epoch: 06, loss: -0.93461\n",
      "epoch: 07, loss: -0.93671\n",
      "epoch: 08, loss: -0.93862\n",
      "epoch: 09, loss: -0.94018\n",
      "torch.Size([1024, 64])\n"
     ]
    },
    {
     "name": "stderr",
     "output_type": "stream",
     "text": [
      " 62%|██████▏   | 615/999 [12:12:01<6:54:31, 64.77s/it]"
     ]
    },
    {
     "name": "stdout",
     "output_type": "stream",
     "text": [
      "eigenvalues shape torch.Size([5]) eigenvectors shape torch.Size([5, 1024])\n",
      "615 /home/phdcs2/Hard_Disk/Datasets/Deep-Spectral-Segmentation/data/object-segmentation/ECSSD/features/0617_resized.pth\n",
      "dict_keys(['k', 'indices', 'file', 'id', 'model_name', 'patch_size', 'shape'])\n",
      "0617_resized\n"
     ]
    },
    {
     "name": "stderr",
     "output_type": "stream",
     "text": [
      "/home/phdcs2/Hard_Disk/Projects/T2I/deep-spectral-segmentation/venv/lib/python3.8/site-packages/sklearn/decomposition/_pca.py:642: RuntimeWarning: invalid value encountered in divide\n",
      "  self.explained_variance_ratio_ = self.explained_variance_ / total_var\n"
     ]
    },
    {
     "name": "stdout",
     "output_type": "stream",
     "text": [
      "Starting Training\n",
      "epoch: 00, loss: -0.88618\n",
      "epoch: 01, loss: -0.91537\n",
      "epoch: 02, loss: -0.92353\n",
      "epoch: 03, loss: -0.92900\n",
      "epoch: 04, loss: -0.93302\n",
      "epoch: 05, loss: -0.93618\n",
      "epoch: 06, loss: -0.93877\n",
      "epoch: 07, loss: -0.94101\n",
      "epoch: 08, loss: -0.94287\n",
      "epoch: 09, loss: -0.94458\n",
      "torch.Size([1024, 64])\n"
     ]
    },
    {
     "name": "stderr",
     "output_type": "stream",
     "text": [
      " 62%|██████▏   | 616/999 [12:13:12<7:04:48, 66.55s/it]"
     ]
    },
    {
     "name": "stdout",
     "output_type": "stream",
     "text": [
      "eigenvalues shape torch.Size([5]) eigenvectors shape torch.Size([5, 1024])\n",
      "616 /home/phdcs2/Hard_Disk/Datasets/Deep-Spectral-Segmentation/data/object-segmentation/ECSSD/features/0618_resized.pth\n",
      "dict_keys(['k', 'indices', 'file', 'id', 'model_name', 'patch_size', 'shape'])\n",
      "0618_resized\n",
      "Starting Training\n",
      "epoch: 00, loss: -0.84989\n",
      "epoch: 01, loss: -0.88586\n",
      "epoch: 02, loss: -0.89678\n",
      "epoch: 03, loss: -0.90388\n",
      "epoch: 04, loss: -0.90880\n",
      "epoch: 05, loss: -0.91274\n",
      "epoch: 06, loss: -0.91580\n",
      "epoch: 07, loss: -0.91859\n",
      "epoch: 08, loss: -0.92083\n",
      "epoch: 09, loss: -0.92282\n",
      "torch.Size([1024, 64])\n"
     ]
    },
    {
     "name": "stderr",
     "output_type": "stream",
     "text": [
      " 62%|██████▏   | 617/999 [12:14:30<7:25:07, 69.92s/it]"
     ]
    },
    {
     "name": "stdout",
     "output_type": "stream",
     "text": [
      "eigenvalues shape torch.Size([5]) eigenvectors shape torch.Size([5, 1024])\n",
      "617 /home/phdcs2/Hard_Disk/Datasets/Deep-Spectral-Segmentation/data/object-segmentation/ECSSD/features/0619_resized.pth\n",
      "dict_keys(['k', 'indices', 'file', 'id', 'model_name', 'patch_size', 'shape'])\n",
      "0619_resized\n",
      "Starting Training\n",
      "epoch: 00, loss: -0.89046\n",
      "epoch: 01, loss: -0.91521\n",
      "epoch: 02, loss: -0.92210\n",
      "epoch: 03, loss: -0.92674\n",
      "epoch: 04, loss: -0.93016\n",
      "epoch: 05, loss: -0.93291\n",
      "epoch: 06, loss: -0.93521\n",
      "epoch: 07, loss: -0.93712\n",
      "epoch: 08, loss: -0.93880\n",
      "epoch: 09, loss: -0.94028\n",
      "torch.Size([1024, 64])\n"
     ]
    },
    {
     "name": "stderr",
     "output_type": "stream",
     "text": [
      " 62%|██████▏   | 618/999 [12:15:44<7:31:51, 71.16s/it]"
     ]
    },
    {
     "name": "stdout",
     "output_type": "stream",
     "text": [
      "eigenvalues shape torch.Size([5]) eigenvectors shape torch.Size([5, 1024])\n",
      "618 /home/phdcs2/Hard_Disk/Datasets/Deep-Spectral-Segmentation/data/object-segmentation/ECSSD/features/0620_resized.pth\n",
      "dict_keys(['k', 'indices', 'file', 'id', 'model_name', 'patch_size', 'shape'])\n",
      "0620_resized\n",
      "Starting Training\n",
      "epoch: 00, loss: -0.80980\n",
      "epoch: 01, loss: -0.85533\n",
      "epoch: 02, loss: -0.87172\n",
      "epoch: 03, loss: -0.88263\n",
      "epoch: 04, loss: -0.89027\n",
      "epoch: 05, loss: -0.89631\n",
      "epoch: 06, loss: -0.90116\n",
      "epoch: 07, loss: -0.90518\n",
      "epoch: 08, loss: -0.90885\n",
      "epoch: 09, loss: -0.91200\n",
      "torch.Size([1024, 64])\n"
     ]
    },
    {
     "name": "stderr",
     "output_type": "stream",
     "text": [
      " 62%|██████▏   | 619/999 [12:16:58<7:35:49, 71.97s/it]"
     ]
    },
    {
     "name": "stdout",
     "output_type": "stream",
     "text": [
      "eigenvalues shape torch.Size([5]) eigenvectors shape torch.Size([5, 1024])\n",
      "619 /home/phdcs2/Hard_Disk/Datasets/Deep-Spectral-Segmentation/data/object-segmentation/ECSSD/features/0621_resized.pth\n",
      "dict_keys(['k', 'indices', 'file', 'id', 'model_name', 'patch_size', 'shape'])\n",
      "0621_resized\n"
     ]
    },
    {
     "name": "stderr",
     "output_type": "stream",
     "text": [
      "/home/phdcs2/Hard_Disk/Projects/T2I/deep-spectral-segmentation/venv/lib/python3.8/site-packages/sklearn/decomposition/_pca.py:642: RuntimeWarning: invalid value encountered in divide\n",
      "  self.explained_variance_ratio_ = self.explained_variance_ / total_var\n"
     ]
    },
    {
     "name": "stdout",
     "output_type": "stream",
     "text": [
      "Starting Training\n",
      "epoch: 00, loss: -0.89416\n",
      "epoch: 01, loss: -0.91585\n",
      "epoch: 02, loss: -0.92264\n",
      "epoch: 03, loss: -0.92729\n",
      "epoch: 04, loss: -0.93080\n",
      "epoch: 05, loss: -0.93361\n",
      "epoch: 06, loss: -0.93595\n",
      "epoch: 07, loss: -0.93794\n",
      "epoch: 08, loss: -0.93971\n",
      "epoch: 09, loss: -0.94125\n",
      "torch.Size([1024, 64])\n"
     ]
    },
    {
     "name": "stderr",
     "output_type": "stream",
     "text": [
      " 62%|██████▏   | 620/999 [12:18:11<7:36:44, 72.31s/it]"
     ]
    },
    {
     "name": "stdout",
     "output_type": "stream",
     "text": [
      "eigenvalues shape torch.Size([5]) eigenvectors shape torch.Size([5, 1024])\n",
      "620 /home/phdcs2/Hard_Disk/Datasets/Deep-Spectral-Segmentation/data/object-segmentation/ECSSD/features/0622_resized.pth\n",
      "dict_keys(['k', 'indices', 'file', 'id', 'model_name', 'patch_size', 'shape'])\n",
      "0622_resized\n",
      "Starting Training\n",
      "epoch: 00, loss: -0.82652\n",
      "epoch: 01, loss: -0.86550\n",
      "epoch: 02, loss: -0.87824\n",
      "epoch: 03, loss: -0.88681\n",
      "epoch: 04, loss: -0.89318\n",
      "epoch: 05, loss: -0.89839\n",
      "epoch: 06, loss: -0.90275\n",
      "epoch: 07, loss: -0.90589\n",
      "epoch: 08, loss: -0.90915\n",
      "epoch: 09, loss: -0.91189\n",
      "torch.Size([1024, 64])\n"
     ]
    },
    {
     "name": "stderr",
     "output_type": "stream",
     "text": [
      " 62%|██████▏   | 621/999 [12:19:21<7:32:30, 71.83s/it]"
     ]
    },
    {
     "name": "stdout",
     "output_type": "stream",
     "text": [
      "eigenvalues shape torch.Size([5]) eigenvectors shape torch.Size([5, 1024])\n",
      "621 /home/phdcs2/Hard_Disk/Datasets/Deep-Spectral-Segmentation/data/object-segmentation/ECSSD/features/0623_resized.pth\n",
      "dict_keys(['k', 'indices', 'file', 'id', 'model_name', 'patch_size', 'shape'])\n",
      "0623_resized\n",
      "Starting Training\n",
      "epoch: 00, loss: -0.88943\n",
      "epoch: 01, loss: -0.91642\n",
      "epoch: 02, loss: -0.92406\n",
      "epoch: 03, loss: -0.92901\n",
      "epoch: 04, loss: -0.93258\n",
      "epoch: 05, loss: -0.93542\n",
      "epoch: 06, loss: -0.93771\n",
      "epoch: 07, loss: -0.93975\n",
      "epoch: 08, loss: -0.94147\n",
      "epoch: 09, loss: -0.94302\n",
      "torch.Size([1024, 64])\n"
     ]
    },
    {
     "name": "stderr",
     "output_type": "stream",
     "text": [
      " 62%|██████▏   | 622/999 [12:20:24<7:14:13, 69.11s/it]"
     ]
    },
    {
     "name": "stdout",
     "output_type": "stream",
     "text": [
      "eigenvalues shape torch.Size([5]) eigenvectors shape torch.Size([5, 1024])\n",
      "622 /home/phdcs2/Hard_Disk/Datasets/Deep-Spectral-Segmentation/data/object-segmentation/ECSSD/features/0624_resized.pth\n",
      "dict_keys(['k', 'indices', 'file', 'id', 'model_name', 'patch_size', 'shape'])\n",
      "0624_resized\n",
      "Starting Training\n",
      "epoch: 00, loss: -0.93308\n",
      "epoch: 01, loss: -0.95047\n",
      "epoch: 02, loss: -0.95487\n",
      "epoch: 03, loss: -0.95769\n",
      "epoch: 04, loss: -0.95971\n",
      "epoch: 05, loss: -0.96131\n",
      "epoch: 06, loss: -0.96263\n",
      "epoch: 07, loss: -0.96376\n",
      "epoch: 08, loss: -0.96471\n",
      "epoch: 09, loss: -0.96556\n",
      "torch.Size([1024, 64])\n"
     ]
    },
    {
     "name": "stderr",
     "output_type": "stream",
     "text": [
      " 62%|██████▏   | 623/999 [12:21:34<7:14:09, 69.28s/it]"
     ]
    },
    {
     "name": "stdout",
     "output_type": "stream",
     "text": [
      "eigenvalues shape torch.Size([5]) eigenvectors shape torch.Size([5, 1024])\n",
      "623 /home/phdcs2/Hard_Disk/Datasets/Deep-Spectral-Segmentation/data/object-segmentation/ECSSD/features/0625_resized.pth\n",
      "dict_keys(['k', 'indices', 'file', 'id', 'model_name', 'patch_size', 'shape'])\n",
      "0625_resized\n"
     ]
    },
    {
     "name": "stderr",
     "output_type": "stream",
     "text": [
      "/home/phdcs2/Hard_Disk/Projects/T2I/deep-spectral-segmentation/venv/lib/python3.8/site-packages/sklearn/decomposition/_pca.py:642: RuntimeWarning: invalid value encountered in divide\n",
      "  self.explained_variance_ratio_ = self.explained_variance_ / total_var\n"
     ]
    },
    {
     "name": "stdout",
     "output_type": "stream",
     "text": [
      "Starting Training\n",
      "epoch: 00, loss: -0.91012\n",
      "epoch: 01, loss: -0.93187\n",
      "epoch: 02, loss: -0.93785\n",
      "epoch: 03, loss: -0.94174\n",
      "epoch: 04, loss: -0.94473\n",
      "epoch: 05, loss: -0.94699\n",
      "epoch: 06, loss: -0.94889\n",
      "epoch: 07, loss: -0.95054\n",
      "epoch: 08, loss: -0.95194\n",
      "epoch: 09, loss: -0.95317\n",
      "torch.Size([1024, 64])\n"
     ]
    },
    {
     "name": "stderr",
     "output_type": "stream",
     "text": [
      " 62%|██████▏   | 624/999 [12:22:48<7:21:21, 70.62s/it]"
     ]
    },
    {
     "name": "stdout",
     "output_type": "stream",
     "text": [
      "eigenvalues shape torch.Size([5]) eigenvectors shape torch.Size([5, 1024])\n",
      "624 /home/phdcs2/Hard_Disk/Datasets/Deep-Spectral-Segmentation/data/object-segmentation/ECSSD/features/0626_resized.pth\n",
      "dict_keys(['k', 'indices', 'file', 'id', 'model_name', 'patch_size', 'shape'])\n",
      "0626_resized\n"
     ]
    },
    {
     "name": "stderr",
     "output_type": "stream",
     "text": [
      "/home/phdcs2/Hard_Disk/Projects/T2I/deep-spectral-segmentation/venv/lib/python3.8/site-packages/sklearn/decomposition/_pca.py:642: RuntimeWarning: invalid value encountered in divide\n",
      "  self.explained_variance_ratio_ = self.explained_variance_ / total_var\n"
     ]
    },
    {
     "name": "stdout",
     "output_type": "stream",
     "text": [
      "Starting Training\n",
      "epoch: 00, loss: -0.90123\n",
      "epoch: 01, loss: -0.92553\n",
      "epoch: 02, loss: -0.93190\n",
      "epoch: 03, loss: -0.93608\n",
      "epoch: 04, loss: -0.93929\n",
      "epoch: 05, loss: -0.94185\n",
      "epoch: 06, loss: -0.94393\n",
      "epoch: 07, loss: -0.94572\n",
      "epoch: 08, loss: -0.94732\n",
      "epoch: 09, loss: -0.94867\n",
      "torch.Size([1024, 64])\n"
     ]
    },
    {
     "name": "stderr",
     "output_type": "stream",
     "text": [
      " 63%|██████▎   | 625/999 [12:23:56<7:16:40, 70.05s/it]"
     ]
    },
    {
     "name": "stdout",
     "output_type": "stream",
     "text": [
      "eigenvalues shape torch.Size([5]) eigenvectors shape torch.Size([5, 1024])\n",
      "625 /home/phdcs2/Hard_Disk/Datasets/Deep-Spectral-Segmentation/data/object-segmentation/ECSSD/features/0627_resized.pth\n",
      "dict_keys(['k', 'indices', 'file', 'id', 'model_name', 'patch_size', 'shape'])\n",
      "0627_resized\n"
     ]
    },
    {
     "name": "stderr",
     "output_type": "stream",
     "text": [
      "/home/phdcs2/Hard_Disk/Projects/T2I/deep-spectral-segmentation/venv/lib/python3.8/site-packages/sklearn/decomposition/_pca.py:642: RuntimeWarning: invalid value encountered in divide\n",
      "  self.explained_variance_ratio_ = self.explained_variance_ / total_var\n"
     ]
    },
    {
     "name": "stdout",
     "output_type": "stream",
     "text": [
      "Starting Training\n",
      "epoch: 00, loss: -0.87391\n",
      "epoch: 01, loss: -0.90357\n",
      "epoch: 02, loss: -0.91178\n",
      "epoch: 03, loss: -0.91737\n",
      "epoch: 04, loss: -0.92151\n",
      "epoch: 05, loss: -0.92478\n",
      "epoch: 06, loss: -0.92754\n",
      "epoch: 07, loss: -0.92987\n",
      "epoch: 08, loss: -0.93189\n",
      "epoch: 09, loss: -0.93374\n",
      "torch.Size([1024, 64])\n"
     ]
    },
    {
     "name": "stderr",
     "output_type": "stream",
     "text": [
      " 63%|██████▎   | 626/999 [12:24:57<6:57:25, 67.15s/it]"
     ]
    },
    {
     "name": "stdout",
     "output_type": "stream",
     "text": [
      "eigenvalues shape torch.Size([5]) eigenvectors shape torch.Size([5, 1024])\n",
      "626 /home/phdcs2/Hard_Disk/Datasets/Deep-Spectral-Segmentation/data/object-segmentation/ECSSD/features/0628_resized.pth\n",
      "dict_keys(['k', 'indices', 'file', 'id', 'model_name', 'patch_size', 'shape'])\n",
      "0628_resized\n",
      "Starting Training\n",
      "epoch: 00, loss: -0.79802\n",
      "epoch: 01, loss: -0.83784\n",
      "epoch: 02, loss: -0.85374\n",
      "epoch: 03, loss: -0.86403\n",
      "epoch: 04, loss: -0.87220\n",
      "epoch: 05, loss: -0.87890\n",
      "epoch: 06, loss: -0.88392\n",
      "epoch: 07, loss: -0.88800\n",
      "epoch: 08, loss: -0.89206\n",
      "epoch: 09, loss: -0.89550\n",
      "torch.Size([1024, 64])\n"
     ]
    },
    {
     "name": "stderr",
     "output_type": "stream",
     "text": [
      " 63%|██████▎   | 627/999 [12:26:04<6:56:34, 67.19s/it]"
     ]
    },
    {
     "name": "stdout",
     "output_type": "stream",
     "text": [
      "eigenvalues shape torch.Size([5]) eigenvectors shape torch.Size([5, 1024])\n",
      "627 /home/phdcs2/Hard_Disk/Datasets/Deep-Spectral-Segmentation/data/object-segmentation/ECSSD/features/0629_resized.pth\n",
      "dict_keys(['k', 'indices', 'file', 'id', 'model_name', 'patch_size', 'shape'])\n",
      "0629_resized\n"
     ]
    },
    {
     "name": "stderr",
     "output_type": "stream",
     "text": [
      "/home/phdcs2/Hard_Disk/Projects/T2I/deep-spectral-segmentation/venv/lib/python3.8/site-packages/sklearn/decomposition/_pca.py:642: RuntimeWarning: invalid value encountered in divide\n",
      "  self.explained_variance_ratio_ = self.explained_variance_ / total_var\n"
     ]
    },
    {
     "name": "stdout",
     "output_type": "stream",
     "text": [
      "Starting Training\n",
      "epoch: 00, loss: -0.89236\n",
      "epoch: 01, loss: -0.91830\n",
      "epoch: 02, loss: -0.92575\n",
      "epoch: 03, loss: -0.93067\n",
      "epoch: 04, loss: -0.93441\n",
      "epoch: 05, loss: -0.93737\n",
      "epoch: 06, loss: -0.93983\n",
      "epoch: 07, loss: -0.94193\n",
      "epoch: 08, loss: -0.94372\n",
      "epoch: 09, loss: -0.94535\n",
      "torch.Size([1024, 64])\n"
     ]
    },
    {
     "name": "stderr",
     "output_type": "stream",
     "text": [
      " 63%|██████▎   | 628/999 [12:27:08<6:49:11, 66.18s/it]"
     ]
    },
    {
     "name": "stdout",
     "output_type": "stream",
     "text": [
      "eigenvalues shape torch.Size([5]) eigenvectors shape torch.Size([5, 1024])\n",
      "628 /home/phdcs2/Hard_Disk/Datasets/Deep-Spectral-Segmentation/data/object-segmentation/ECSSD/features/0630_resized.pth\n",
      "dict_keys(['k', 'indices', 'file', 'id', 'model_name', 'patch_size', 'shape'])\n",
      "0630_resized\n",
      "Starting Training\n",
      "epoch: 00, loss: -0.81675\n",
      "epoch: 01, loss: -0.86010\n",
      "epoch: 02, loss: -0.87452\n",
      "epoch: 03, loss: -0.88376\n",
      "epoch: 04, loss: -0.89103\n",
      "epoch: 05, loss: -0.89661\n",
      "epoch: 06, loss: -0.90076\n",
      "epoch: 07, loss: -0.90476\n",
      "epoch: 08, loss: -0.90818\n",
      "epoch: 09, loss: -0.91111\n",
      "torch.Size([1024, 64])\n"
     ]
    },
    {
     "name": "stderr",
     "output_type": "stream",
     "text": [
      " 63%|██████▎   | 629/999 [12:28:11<6:43:03, 65.36s/it]"
     ]
    },
    {
     "name": "stdout",
     "output_type": "stream",
     "text": [
      "eigenvalues shape torch.Size([5]) eigenvectors shape torch.Size([5, 1024])\n",
      "629 /home/phdcs2/Hard_Disk/Datasets/Deep-Spectral-Segmentation/data/object-segmentation/ECSSD/features/0631_resized.pth\n",
      "dict_keys(['k', 'indices', 'file', 'id', 'model_name', 'patch_size', 'shape'])\n",
      "0631_resized\n",
      "Starting Training\n",
      "epoch: 00, loss: -0.81022\n",
      "epoch: 01, loss: -0.84865\n",
      "epoch: 02, loss: -0.86321\n",
      "epoch: 03, loss: -0.87267\n",
      "epoch: 04, loss: -0.88049\n",
      "epoch: 05, loss: -0.88634\n",
      "epoch: 06, loss: -0.89139\n",
      "epoch: 07, loss: -0.89568\n",
      "epoch: 08, loss: -0.89942\n",
      "epoch: 09, loss: -0.90275\n",
      "torch.Size([1024, 64])\n"
     ]
    },
    {
     "name": "stderr",
     "output_type": "stream",
     "text": [
      " 63%|██████▎   | 630/999 [12:29:10<6:29:58, 63.41s/it]"
     ]
    },
    {
     "name": "stdout",
     "output_type": "stream",
     "text": [
      "eigenvalues shape torch.Size([5]) eigenvectors shape torch.Size([5, 1024])\n",
      "630 /home/phdcs2/Hard_Disk/Datasets/Deep-Spectral-Segmentation/data/object-segmentation/ECSSD/features/0632_resized.pth\n",
      "dict_keys(['k', 'indices', 'file', 'id', 'model_name', 'patch_size', 'shape'])\n",
      "0632_resized\n"
     ]
    },
    {
     "name": "stderr",
     "output_type": "stream",
     "text": [
      "/home/phdcs2/Hard_Disk/Projects/T2I/deep-spectral-segmentation/venv/lib/python3.8/site-packages/sklearn/decomposition/_pca.py:642: RuntimeWarning: invalid value encountered in divide\n",
      "  self.explained_variance_ratio_ = self.explained_variance_ / total_var\n"
     ]
    },
    {
     "name": "stdout",
     "output_type": "stream",
     "text": [
      "Starting Training\n",
      "epoch: 00, loss: -0.89036\n",
      "epoch: 01, loss: -0.91063\n",
      "epoch: 02, loss: -0.91730\n",
      "epoch: 03, loss: -0.92174\n",
      "epoch: 04, loss: -0.92510\n",
      "epoch: 05, loss: -0.92781\n",
      "epoch: 06, loss: -0.93012\n",
      "epoch: 07, loss: -0.93197\n",
      "epoch: 08, loss: -0.93369\n",
      "epoch: 09, loss: -0.93526\n",
      "torch.Size([1024, 64])\n"
     ]
    },
    {
     "name": "stderr",
     "output_type": "stream",
     "text": [
      " 63%|██████▎   | 631/999 [12:30:05<6:13:57, 60.97s/it]"
     ]
    },
    {
     "name": "stdout",
     "output_type": "stream",
     "text": [
      "eigenvalues shape torch.Size([5]) eigenvectors shape torch.Size([5, 1024])\n",
      "631 /home/phdcs2/Hard_Disk/Datasets/Deep-Spectral-Segmentation/data/object-segmentation/ECSSD/features/0633_resized.pth\n",
      "dict_keys(['k', 'indices', 'file', 'id', 'model_name', 'patch_size', 'shape'])\n",
      "0633_resized\n",
      "Starting Training\n",
      "epoch: 00, loss: -0.79332\n",
      "epoch: 01, loss: -0.83192\n",
      "epoch: 02, loss: -0.84725\n",
      "epoch: 03, loss: -0.85734\n",
      "epoch: 04, loss: -0.86602\n",
      "epoch: 05, loss: -0.87208\n",
      "epoch: 06, loss: -0.87708\n",
      "epoch: 07, loss: -0.88184\n",
      "epoch: 08, loss: -0.88583\n",
      "epoch: 09, loss: -0.88954\n",
      "torch.Size([1024, 64])\n"
     ]
    },
    {
     "name": "stderr",
     "output_type": "stream",
     "text": [
      " 63%|██████▎   | 632/999 [12:31:02<6:05:04, 59.69s/it]"
     ]
    },
    {
     "name": "stdout",
     "output_type": "stream",
     "text": [
      "eigenvalues shape torch.Size([5]) eigenvectors shape torch.Size([5, 1024])\n",
      "632 /home/phdcs2/Hard_Disk/Datasets/Deep-Spectral-Segmentation/data/object-segmentation/ECSSD/features/0634_resized.pth\n",
      "dict_keys(['k', 'indices', 'file', 'id', 'model_name', 'patch_size', 'shape'])\n",
      "0634_resized\n"
     ]
    },
    {
     "name": "stderr",
     "output_type": "stream",
     "text": [
      "/home/phdcs2/Hard_Disk/Projects/T2I/deep-spectral-segmentation/venv/lib/python3.8/site-packages/sklearn/decomposition/_pca.py:642: RuntimeWarning: invalid value encountered in divide\n",
      "  self.explained_variance_ratio_ = self.explained_variance_ / total_var\n"
     ]
    },
    {
     "name": "stdout",
     "output_type": "stream",
     "text": [
      "Starting Training\n",
      "epoch: 00, loss: -0.89306\n",
      "epoch: 01, loss: -0.92111\n",
      "epoch: 02, loss: -0.92755\n",
      "epoch: 03, loss: -0.93180\n",
      "epoch: 04, loss: -0.93497\n",
      "epoch: 05, loss: -0.93746\n",
      "epoch: 06, loss: -0.93954\n",
      "epoch: 07, loss: -0.94130\n",
      "epoch: 08, loss: -0.94279\n",
      "epoch: 09, loss: -0.94416\n",
      "torch.Size([1024, 64])\n"
     ]
    },
    {
     "name": "stderr",
     "output_type": "stream",
     "text": [
      " 63%|██████▎   | 633/999 [12:32:12<6:22:32, 62.71s/it]"
     ]
    },
    {
     "name": "stdout",
     "output_type": "stream",
     "text": [
      "eigenvalues shape torch.Size([5]) eigenvectors shape torch.Size([5, 1024])\n",
      "633 /home/phdcs2/Hard_Disk/Datasets/Deep-Spectral-Segmentation/data/object-segmentation/ECSSD/features/0635_resized.pth\n",
      "dict_keys(['k', 'indices', 'file', 'id', 'model_name', 'patch_size', 'shape'])\n",
      "0635_resized\n",
      "Starting Training\n",
      "epoch: 00, loss: -0.80190\n",
      "epoch: 01, loss: -0.84245\n",
      "epoch: 02, loss: -0.85689\n",
      "epoch: 03, loss: -0.86658\n",
      "epoch: 04, loss: -0.87416\n",
      "epoch: 05, loss: -0.87994\n",
      "epoch: 06, loss: -0.88501\n",
      "epoch: 07, loss: -0.88900\n",
      "epoch: 08, loss: -0.89255\n",
      "epoch: 09, loss: -0.89562\n",
      "torch.Size([1024, 64])\n"
     ]
    },
    {
     "name": "stderr",
     "output_type": "stream",
     "text": [
      " 63%|██████▎   | 634/999 [12:33:26<6:42:07, 66.10s/it]"
     ]
    },
    {
     "name": "stdout",
     "output_type": "stream",
     "text": [
      "eigenvalues shape torch.Size([5]) eigenvectors shape torch.Size([5, 1024])\n",
      "634 /home/phdcs2/Hard_Disk/Datasets/Deep-Spectral-Segmentation/data/object-segmentation/ECSSD/features/0636_resized.pth\n",
      "dict_keys(['k', 'indices', 'file', 'id', 'model_name', 'patch_size', 'shape'])\n",
      "0636_resized\n"
     ]
    },
    {
     "name": "stderr",
     "output_type": "stream",
     "text": [
      "/home/phdcs2/Hard_Disk/Projects/T2I/deep-spectral-segmentation/venv/lib/python3.8/site-packages/sklearn/decomposition/_pca.py:642: RuntimeWarning: invalid value encountered in divide\n",
      "  self.explained_variance_ratio_ = self.explained_variance_ / total_var\n"
     ]
    },
    {
     "name": "stdout",
     "output_type": "stream",
     "text": [
      "Starting Training\n",
      "epoch: 00, loss: -0.88111\n",
      "epoch: 01, loss: -0.90534\n",
      "epoch: 02, loss: -0.91336\n",
      "epoch: 03, loss: -0.91870\n",
      "epoch: 04, loss: -0.92275\n",
      "epoch: 05, loss: -0.92598\n",
      "epoch: 06, loss: -0.92863\n",
      "epoch: 07, loss: -0.93094\n",
      "epoch: 08, loss: -0.93295\n",
      "epoch: 09, loss: -0.93473\n",
      "torch.Size([1024, 64])\n"
     ]
    },
    {
     "name": "stderr",
     "output_type": "stream",
     "text": [
      " 64%|██████▎   | 635/999 [12:34:40<6:55:15, 68.45s/it]"
     ]
    },
    {
     "name": "stdout",
     "output_type": "stream",
     "text": [
      "eigenvalues shape torch.Size([5]) eigenvectors shape torch.Size([5, 1024])\n",
      "635 /home/phdcs2/Hard_Disk/Datasets/Deep-Spectral-Segmentation/data/object-segmentation/ECSSD/features/0637_resized.pth\n",
      "dict_keys(['k', 'indices', 'file', 'id', 'model_name', 'patch_size', 'shape'])\n",
      "0637_resized\n",
      "Starting Training\n",
      "epoch: 00, loss: -0.84924\n",
      "epoch: 01, loss: -0.87816\n",
      "epoch: 02, loss: -0.88765\n",
      "epoch: 03, loss: -0.89430\n",
      "epoch: 04, loss: -0.89933\n",
      "epoch: 05, loss: -0.90337\n",
      "epoch: 06, loss: -0.90681\n",
      "epoch: 07, loss: -0.90965\n",
      "epoch: 08, loss: -0.91212\n",
      "epoch: 09, loss: -0.91435\n",
      "torch.Size([1024, 64])\n"
     ]
    },
    {
     "name": "stderr",
     "output_type": "stream",
     "text": [
      " 64%|██████▎   | 636/999 [12:35:53<7:02:26, 69.83s/it]"
     ]
    },
    {
     "name": "stdout",
     "output_type": "stream",
     "text": [
      "eigenvalues shape torch.Size([5]) eigenvectors shape torch.Size([5, 1024])\n",
      "636 /home/phdcs2/Hard_Disk/Datasets/Deep-Spectral-Segmentation/data/object-segmentation/ECSSD/features/0638_resized.pth\n",
      "dict_keys(['k', 'indices', 'file', 'id', 'model_name', 'patch_size', 'shape'])\n",
      "0638_resized\n"
     ]
    },
    {
     "name": "stderr",
     "output_type": "stream",
     "text": [
      "/home/phdcs2/Hard_Disk/Projects/T2I/deep-spectral-segmentation/venv/lib/python3.8/site-packages/sklearn/decomposition/_pca.py:642: RuntimeWarning: invalid value encountered in divide\n",
      "  self.explained_variance_ratio_ = self.explained_variance_ / total_var\n"
     ]
    },
    {
     "name": "stdout",
     "output_type": "stream",
     "text": [
      "Starting Training\n",
      "epoch: 00, loss: -0.90485\n",
      "epoch: 01, loss: -0.92403\n",
      "epoch: 02, loss: -0.92937\n",
      "epoch: 03, loss: -0.93295\n",
      "epoch: 04, loss: -0.93578\n",
      "epoch: 05, loss: -0.93800\n",
      "epoch: 06, loss: -0.93990\n",
      "epoch: 07, loss: -0.94151\n",
      "epoch: 08, loss: -0.94292\n",
      "epoch: 09, loss: -0.94414\n",
      "torch.Size([1024, 64])\n"
     ]
    },
    {
     "name": "stderr",
     "output_type": "stream",
     "text": [
      " 64%|██████▍   | 637/999 [12:37:04<7:04:32, 70.37s/it]"
     ]
    },
    {
     "name": "stdout",
     "output_type": "stream",
     "text": [
      "eigenvalues shape torch.Size([5]) eigenvectors shape torch.Size([5, 1024])\n",
      "637 /home/phdcs2/Hard_Disk/Datasets/Deep-Spectral-Segmentation/data/object-segmentation/ECSSD/features/0639_resized.pth\n",
      "dict_keys(['k', 'indices', 'file', 'id', 'model_name', 'patch_size', 'shape'])\n",
      "0639_resized\n"
     ]
    },
    {
     "name": "stderr",
     "output_type": "stream",
     "text": [
      "/home/phdcs2/Hard_Disk/Projects/T2I/deep-spectral-segmentation/venv/lib/python3.8/site-packages/sklearn/decomposition/_pca.py:642: RuntimeWarning: invalid value encountered in divide\n",
      "  self.explained_variance_ratio_ = self.explained_variance_ / total_var\n"
     ]
    },
    {
     "name": "stdout",
     "output_type": "stream",
     "text": [
      "Starting Training\n",
      "epoch: 00, loss: -0.90454\n",
      "epoch: 01, loss: -0.92881\n",
      "epoch: 02, loss: -0.93631\n",
      "epoch: 03, loss: -0.94130\n",
      "epoch: 04, loss: -0.94486\n",
      "epoch: 05, loss: -0.94768\n",
      "epoch: 06, loss: -0.95000\n",
      "epoch: 07, loss: -0.95196\n",
      "epoch: 08, loss: -0.95363\n",
      "epoch: 09, loss: -0.95509\n",
      "torch.Size([1024, 64])\n"
     ]
    },
    {
     "name": "stderr",
     "output_type": "stream",
     "text": [
      " 64%|██████▍   | 638/999 [12:38:12<6:58:48, 69.61s/it]"
     ]
    },
    {
     "name": "stdout",
     "output_type": "stream",
     "text": [
      "eigenvalues shape torch.Size([5]) eigenvectors shape torch.Size([5, 1024])\n",
      "638 /home/phdcs2/Hard_Disk/Datasets/Deep-Spectral-Segmentation/data/object-segmentation/ECSSD/features/0640_resized.pth\n",
      "dict_keys(['k', 'indices', 'file', 'id', 'model_name', 'patch_size', 'shape'])\n",
      "0640_resized\n",
      "Starting Training\n",
      "epoch: 00, loss: -0.87369\n",
      "epoch: 01, loss: -0.90045\n",
      "epoch: 02, loss: -0.90819\n",
      "epoch: 03, loss: -0.91360\n",
      "epoch: 04, loss: -0.91758\n",
      "epoch: 05, loss: -0.92099\n",
      "epoch: 06, loss: -0.92364\n",
      "epoch: 07, loss: -0.92600\n",
      "epoch: 08, loss: -0.92816\n",
      "epoch: 09, loss: -0.92989\n",
      "torch.Size([1024, 64])\n"
     ]
    },
    {
     "name": "stderr",
     "output_type": "stream",
     "text": [
      " 64%|██████▍   | 639/999 [12:39:21<6:55:06, 69.18s/it]"
     ]
    },
    {
     "name": "stdout",
     "output_type": "stream",
     "text": [
      "eigenvalues shape torch.Size([5]) eigenvectors shape torch.Size([5, 1024])\n",
      "639 /home/phdcs2/Hard_Disk/Datasets/Deep-Spectral-Segmentation/data/object-segmentation/ECSSD/features/0641_resized.pth\n",
      "dict_keys(['k', 'indices', 'file', 'id', 'model_name', 'patch_size', 'shape'])\n",
      "0641_resized\n",
      "Starting Training\n",
      "epoch: 00, loss: -0.81635\n",
      "epoch: 01, loss: -0.84919\n",
      "epoch: 02, loss: -0.86177\n",
      "epoch: 03, loss: -0.87028\n",
      "epoch: 04, loss: -0.87667\n",
      "epoch: 05, loss: -0.88197\n",
      "epoch: 06, loss: -0.88627\n",
      "epoch: 07, loss: -0.89030\n",
      "epoch: 08, loss: -0.89384\n",
      "epoch: 09, loss: -0.89685\n",
      "torch.Size([1024, 64])\n"
     ]
    },
    {
     "name": "stderr",
     "output_type": "stream",
     "text": [
      " 64%|██████▍   | 640/999 [12:40:37<7:07:50, 71.51s/it]"
     ]
    },
    {
     "name": "stdout",
     "output_type": "stream",
     "text": [
      "eigenvalues shape torch.Size([5]) eigenvectors shape torch.Size([5, 1024])\n",
      "640 /home/phdcs2/Hard_Disk/Datasets/Deep-Spectral-Segmentation/data/object-segmentation/ECSSD/features/0642_resized.pth\n",
      "dict_keys(['k', 'indices', 'file', 'id', 'model_name', 'patch_size', 'shape'])\n",
      "0642_resized\n",
      "Starting Training\n",
      "epoch: 00, loss: -0.85506\n",
      "epoch: 01, loss: -0.89343\n",
      "epoch: 02, loss: -0.90538\n",
      "epoch: 03, loss: -0.91326\n",
      "epoch: 04, loss: -0.91902\n",
      "epoch: 05, loss: -0.92333\n",
      "epoch: 06, loss: -0.92674\n",
      "epoch: 07, loss: -0.92992\n",
      "epoch: 08, loss: -0.93238\n",
      "epoch: 09, loss: -0.93450\n",
      "torch.Size([1024, 64])\n"
     ]
    },
    {
     "name": "stderr",
     "output_type": "stream",
     "text": [
      " 64%|██████▍   | 641/999 [12:41:53<7:13:25, 72.64s/it]"
     ]
    },
    {
     "name": "stdout",
     "output_type": "stream",
     "text": [
      "eigenvalues shape torch.Size([5]) eigenvectors shape torch.Size([5, 1024])\n",
      "641 /home/phdcs2/Hard_Disk/Datasets/Deep-Spectral-Segmentation/data/object-segmentation/ECSSD/features/0643_resized.pth\n",
      "dict_keys(['k', 'indices', 'file', 'id', 'model_name', 'patch_size', 'shape'])\n",
      "0643_resized\n",
      "Starting Training\n",
      "epoch: 00, loss: -0.83546\n",
      "epoch: 01, loss: -0.87356\n",
      "epoch: 02, loss: -0.88643\n",
      "epoch: 03, loss: -0.89415\n",
      "epoch: 04, loss: -0.90022\n",
      "epoch: 05, loss: -0.90498\n",
      "epoch: 06, loss: -0.90833\n",
      "epoch: 07, loss: -0.91168\n",
      "epoch: 08, loss: -0.91434\n",
      "epoch: 09, loss: -0.91671\n",
      "torch.Size([1024, 64])\n"
     ]
    },
    {
     "name": "stderr",
     "output_type": "stream",
     "text": [
      " 64%|██████▍   | 642/999 [12:43:07<7:15:41, 73.22s/it]"
     ]
    },
    {
     "name": "stdout",
     "output_type": "stream",
     "text": [
      "eigenvalues shape torch.Size([5]) eigenvectors shape torch.Size([5, 1024])\n",
      "642 /home/phdcs2/Hard_Disk/Datasets/Deep-Spectral-Segmentation/data/object-segmentation/ECSSD/features/0644_resized.pth\n",
      "dict_keys(['k', 'indices', 'file', 'id', 'model_name', 'patch_size', 'shape'])\n",
      "0644_resized\n",
      "Starting Training\n",
      "epoch: 00, loss: -0.84257\n",
      "epoch: 01, loss: -0.87488\n",
      "epoch: 02, loss: -0.88684\n",
      "epoch: 03, loss: -0.89479\n",
      "epoch: 04, loss: -0.90067\n",
      "epoch: 05, loss: -0.90560\n",
      "epoch: 06, loss: -0.90938\n"
     ]
    }
   ],
   "source": [
    "pca_comp=64\n",
    "pca = PCA(n_components=pca_comp)\n",
    "utils.make_output_dir(output_dir)\n",
    "inputs = list(enumerate(sorted(Path(features_dir).iterdir())))\n",
    "for inp in tqdm(inputs):\n",
    "    index, features_file = inp\n",
    "    print(index, features_file)\n",
    "     # Load\n",
    "    data_dict = torch.load(features_file, map_location='cpu')\n",
    "    print(data_dict.keys())   #['k', 'indices', 'file', 'id', 'model_name', 'patch_size', 'shape']\n",
    "    # print(\"shape=\", data_dict['shape'], \"k shape\", data_dict['k'].shape, \"patch_size=\", data_dict['patch_size'])\n",
    "    image_id = data_dict['file'][:-4]\n",
    "    print(image_id)\n",
    "    # Load\n",
    "    output_file = str(Path(output_dir) / f'{image_id}.pth')\n",
    "    if Path(output_file).is_file():\n",
    "        print(f'Skipping existing file {str(output_file)}')\n",
    "        # break\n",
    "        # return  # skip because already generated\n",
    "\n",
    "    # Load affinity matrix\n",
    "    feats = data_dict[which_features].squeeze().cuda()\n",
    "    # print(\"Without normalizing, Features Shape is\",feats.shape)\n",
    "    if normalize:\n",
    "        feats = F.normalize(feats, p=2, dim=-1)\n",
    "    # print(\"After normalization, Features Shape\",feats.shape)\n",
    "    # print(\"which_matrix=\", which_matrix)\n",
    "    # Eigenvectors of affinity matrix\n",
    "    if which_matrix == 'affinity_torch':\n",
    "        W = feats @ feats.T\n",
    "        # W_feat=contrastive_affinity(feats, feats.T)\n",
    "        # print(\"W shape=\", W.shape)\n",
    "        if threshold_at_zero:\n",
    "            W = (W * (W > 0))\n",
    "            # print(\"W shape=\", W.shape)\n",
    "        eigenvalues, eigenvectors = torch.eig(W, eigenvectors=True)\n",
    "        eigenvalues = eigenvalues.cpu()\n",
    "        eigenvectors = eigenvectors.cpu()\n",
    "        print(\"which matrix=\",which_matrix, \"eigenvalues shape\", eigenvalues.shape, \"eigenvectors shape\", eigenvectors.shape)\n",
    "\n",
    "\n",
    "    # Eigenvectors of affinity matrix with scipy\n",
    "    elif which_matrix == 'affinity_svd':\n",
    "        USV = torch.linalg.svd(feats, full_matrices=False)\n",
    "        eigenvectors = USV[0][:, :K].T.to('cpu', non_blocking=True)\n",
    "        eigenvalues = USV[1][:K].to('cpu', non_blocking=True)\n",
    "        print(\"which matrix=\",which_matrix,\"eigenvalues shape\", eigenvalues.shape, \"eigenvectors shape\", eigenvectors.shape)\n",
    "\n",
    "    # Eigenvectors of affinity matrix with scipy\n",
    "    elif which_matrix == 'affinity':\n",
    "        # print(\"Without normalizing, Features Shape is\",feats.shape)\n",
    "        W = (feats @ feats.T)\n",
    "        # W_feat=contrastive_affinity(feats, feats.T)\n",
    "        # print(\"W shape=\", W.shape)\n",
    "        if threshold_at_zero:\n",
    "            W = (W * (W > 0))\n",
    "        W = W.cpu().numpy()\n",
    "        # print(\"W shape=\", W.shape)\n",
    "        eigenvalues, eigenvectors = eigsh(W, which='LM', k=K)\n",
    "        eigenvectors = torch.flip(torch.from_numpy(eigenvectors), dims=(-1,)).T\n",
    "        print(\"which matrix=\",which_matrix, \"eigenvalues shape\", eigenvalues.shape, \"eigenvectors shape\", eigenvectors.shape)\n",
    "\n",
    "    # Eigenvectors of matting laplacian matrix\n",
    "    elif which_matrix in ['matting_laplacian', 'laplacian']:\n",
    "\n",
    "        # Get sizes\n",
    "        B, C, H, W, P, H_patch, W_patch, H_pad, W_pad = utils.get_image_sizes(data_dict)\n",
    "        if image_downsample_factor is None:\n",
    "            image_downsample_factor = P\n",
    "        H_pad_lr, W_pad_lr = H_pad // image_downsample_factor, W_pad // image_downsample_factor\n",
    "\n",
    "        # Upscale features to match the resolution\n",
    "        if (H_patch, W_patch) != (H_pad_lr, W_pad_lr):\n",
    "            feats = F.interpolate(\n",
    "                feats.T.reshape(1, -1, H_patch, W_patch),\n",
    "                size=(H_pad_lr, W_pad_lr), mode='bilinear', align_corners=False\n",
    "            ).reshape(-1, H_pad_lr * W_pad_lr).T\n",
    "\n",
    "        ### Feature affinities\n",
    "        # print(\"Without normalizing, Features Shape is\",feats.shape)\n",
    "\n",
    "        W_feat_ds = (feats @ feats.T)\n",
    "        # print(\"shape of w_feat_ds\", W_feat_ds.shape)\n",
    "        max_wfeatds=torch.max(W_feat_ds).item()\n",
    "        alpha=3\n",
    "        # print(\"Before Subtraction\")\n",
    "        count_positive = torch.count_nonzero(torch.greater_equal(W_feat_ds, 0.))\n",
    "        # print(\"positive values=\", count_positive)\n",
    "        W_feat_ds_sum = torch.sum(W_feat_ds)\n",
    "        # print(\"w_feat_ds_sum=\", W_feat_ds_sum)\n",
    "        W_feat_ds_mean = torch.mean(W_feat_ds)\n",
    "        # print(\"Mean of W_feat\", W_feat_ds_mean)\n",
    "        W_feat_ds_median = torch.median(W_feat_ds)\n",
    "        # print(\"Median of W_feat\", W_feat_ds_median)\n",
    "        W_feat_ds_std = torch.std(W_feat_ds)\n",
    "        # print(\"Standard Deviation of W_feat\", W_feat_ds_std)\n",
    "        W_feat_ds_max = torch.max(W_feat_ds)\n",
    "        # print(\"Maximum of W_feat\", W_feat_ds_max)\n",
    "        W_feat_ds_min = torch.min(W_feat_ds)\n",
    "        # print(\"Minimum of W_feat\", W_feat_ds_min)\n",
    "        # print(\"Factor value\", (max_wfeatds / alpha))\n",
    "\n",
    "        W_feat_ds = W_feat_ds - (max_wfeatds / alpha)\n",
    "\n",
    "        # print(\"After Subtraction\")\n",
    "        count_positive = torch.count_nonzero(torch.greater_equal(W_feat_ds, 0.))\n",
    "        # print(\"positive values=\", count_positive)\n",
    "        W_feat_ds_sum = torch.sum(W_feat_ds)\n",
    "        # print(\"w_feat_ds_sum=\", W_feat_ds_sum)\n",
    "        W_feat_ds_mean = torch.mean(W_feat_ds)\n",
    "        # print(\"Mean of W_feat\", W_feat_ds_mean)\n",
    "        W_feat_ds_median = torch.median(W_feat_ds)\n",
    "        # print(\"Median of W_feat\", W_feat_ds_median)\n",
    "        W_feat_ds_std = torch.std(W_feat_ds)\n",
    "        # print(\"Standard Deviation of W_feat\", W_feat_ds_std)\n",
    "        W_feat_ds_max = torch.max(W_feat_ds)\n",
    "        # print(\"Maximum of W_feat\", W_feat_ds_max)\n",
    "        W_feat_ds_min = torch.min(W_feat_ds)\n",
    "        # print(\"Minimum of W_feat\", W_feat_ds_min)\n",
    "        proj_layer=nn.Linear(pca_comp,pca_comp).cuda()\n",
    "        gelu = nn.GELU()\n",
    "        proj_model = nn.Sequential(proj_layer, gelu ).cuda()\n",
    "        pred_layer=nn.Linear(pca_comp,pca_comp).cuda()\n",
    "        x0=feats\n",
    "\n",
    "        x0_arr=x0.cpu()\n",
    "        scale = np.random.uniform(0.8, 1.2)  # Random scaling factor between 0.8 and 1.2\n",
    "        translation = np.random.uniform(-10, 10, size=2)  # Random translation vector between -10 and 10 in both directions\n",
    "        rotation = np.random.uniform(-15, 15)  # Random rotation angle between -15 and 15 degrees\n",
    "        shear = np.random.uniform(-0.2, 0.2, size=2)  # Random shear factor between -0.2 and 0.2 in both directions\n",
    "\n",
    "        # Define the affine matrix\n",
    "        affine_matrix = np.array([[scale * np.cos(rotation), -shear[0] * scale * np.sin(rotation), translation[0]],\n",
    "                                  [shear[1] * scale * np.sin(rotation), scale * np.cos(rotation), translation[1]],\n",
    "                                  [0, 0, 1]])\n",
    "        # print(x0_arr.shape)\n",
    "        x1_arr=affine_transform(x0_arr, affine_matrix)\n",
    "\n",
    "        z0_arr= pca.fit_transform(x0_arr)\n",
    "        z1_arr= pca.fit_transform(x1_arr)\n",
    "        # Define the affine transformation parameters\n",
    "\n",
    "        # z1_arr=affine_transform(z0_arr, affine_matrix)\n",
    "#         z1_arr=pca.fit_transform(z1_arr)\n",
    "        z0 = torch.from_numpy(z0_arr).float()\n",
    "        z1 = torch.from_numpy(z1_arr).float()\n",
    "\n",
    "        # feat_list.append(feats)\n",
    "        feat_dataset_z0 = Feature_Dataset(z0)\n",
    "        if feats.shape[0]%2==0:\n",
    "            features_dataloader_z0 = DataLoader(feat_dataset_z0, batch_size=batch_size, shuffle=True)\n",
    "        else:\n",
    "            features_dataloader_z0 = DataLoader(feat_dataset_z0, batch_size=batch_size, shuffle=True, drop_last=True)\n",
    "\n",
    "        feat_dataset_z1 = Feature_Dataset(z1)\n",
    "        if feats.shape[0]%2==0:\n",
    "            features_dataloader_z1 = DataLoader(feat_dataset_z1, batch_size=batch_size, shuffle=True)\n",
    "        else:\n",
    "            features_dataloader_z1 = DataLoader(feat_dataset_z1, batch_size=batch_size, shuffle=True, drop_last=True)\n",
    "        device = \"cuda\" if torch.cuda.is_available() else \"cpu\"\n",
    "    \n",
    "        criterion = NegativeCosineSimilarity()\n",
    "        proj_optimizer = torch.optim.SGD(proj_layer.parameters(), lr=0.06)\n",
    "        pred_optimizer = torch.optim.SGD(pred_layer.parameters(), lr=0.06)\n",
    "        print(\"Starting Training\")\n",
    "        for epoch in range(epochs):\n",
    "            total_loss = 0\n",
    "            for z0_new,z1_new in zip(features_dataloader_z0,features_dataloader_z1):\n",
    "                z0_new = z0_new.to(device)\n",
    "                z1_new = z1_new.to(device)\n",
    "                # z0_new=proj_layer(z0_new)\n",
    "                z0_new=proj_model(z0_new)\n",
    "                z1_new=proj_model(z1_new)\n",
    "    #             print(\"z0_new.shape\", z0_new.shape)\n",
    "    #             print(\"z1_new.shape\", z1_new.shape)\n",
    "                p0=pred_layer(z0_new)\n",
    "                p1=pred_layer(z1_new)\n",
    "    #             print(\"p0.shape\", p0.shape)\n",
    "    #             print(\"p1.shape\", p1.shape)\n",
    "\n",
    "                z0_new=z0_new.detach()\n",
    "                z1_new=z1_new.detach()\n",
    "                loss = 0.5 * (criterion(z0_new, p1) + criterion(z1_new, p0))\n",
    "                total_loss += loss.detach()\n",
    "                loss.backward()\n",
    "                proj_optimizer.step()\n",
    "                pred_optimizer.step()\n",
    "                proj_optimizer.zero_grad()\n",
    "                pred_optimizer.zero_grad()\n",
    "            avg_loss = total_loss / len(features_dataloader_z0)\n",
    "            print(f\"epoch: {epoch:>02}, loss: {avg_loss:.5f}\")\n",
    "        # z0_projected=proj_layer(z0.to(device))\n",
    "        projected_feature=pred_layer(z0.to(device))\n",
    "        print(projected_feature.shape)\n",
    "        W_feat_siam=torch.matmul(projected_feature, projected_feature.t())\n",
    "        # max_wfeatsiam=torch.max(W_feat_siam).item()\n",
    "        # alpha=3\n",
    "        # W_feat_siam = W_feat_siam - (max_wfeatsiam / alpha)\n",
    "        # W_feat_siam=torch.matmul(projected_feature[0], projected_feature[0].t())\n",
    "        W_feat=W_feat_ds + 0.1*W_feat_siam\n",
    "#         W_feat=normalize_affinity_matrix(W_feat_unnorm, axis=1)\n",
    "        # print(\"W_feat.shape=\", W_feat.shape)\n",
    "        # print(\"W_feat.shape=\", W_feat.shape)\n",
    "        # W_feat=contrastive_affinity(feats, feats.T)\n",
    "        if threshold_at_zero:\n",
    "            W_feat = (W_feat * (W_feat > 0))\n",
    "        W_feat = W_feat / W_feat.max()  # NOTE: If features are normalized, this naturally does nothing\n",
    "        # W_feat = W_feat.cpu().numpy()\n",
    "        W_feat = W_feat.detach().cpu().numpy()\n",
    "        # print(\"W_feat shape=\",W_feat.shape)\n",
    "\n",
    "        ### Color affinities\n",
    "        # If we are fusing with color affinites, then load the image and compute\n",
    "        if image_color_lambda > 0:\n",
    "\n",
    "            # Load image\n",
    "            image_file = str(Path(images_root) / f'{image_id}.jpg')\n",
    "            image_lr = Image.open(image_file).resize((W_pad_lr, H_pad_lr), Image.BILINEAR)\n",
    "            image_lr = np.array(image_lr) / 255.\n",
    "\n",
    "            # Color affinities (of type scipy.sparse.csr_matrix)\n",
    "            if which_color_matrix == 'knn':\n",
    "                W_lr = utils.knn_affinity(image_lr / 255)\n",
    "            elif which_color_matrix == 'rw':\n",
    "                W_lr = utils.rw_affinity(image_lr / 255)\n",
    "\n",
    "            # Convert to dense numpy array\n",
    "            W_color = np.array(W_lr.todense().astype(np.float32))\n",
    "            # print(\"W_color shape\", W_color.shape)\n",
    "\n",
    "        else:\n",
    "\n",
    "            # No color affinity\n",
    "            W_color = 0\n",
    "\n",
    "        # Combine\n",
    "        W_comb = W_feat + W_color * image_color_lambda  # combination\n",
    "        D_comb = np.array(utils.get_diagonal(W_comb).todense())  # is dense or sparse faster? not sure, should check\n",
    "        # print(\"W_comb shape= \", W_comb.shape, \"D_comb shape\",  D_comb.shape)\n",
    "        if lapnorm:\n",
    "            try:\n",
    "                eigenvalues, eigenvectors = eigsh(D_comb - W_comb, k=K, sigma=0, which='LM', M=D_comb)\n",
    "            except:\n",
    "                eigenvalues, eigenvectors = eigsh(D_comb - W_comb, k=K, which='SM', M=D_comb)\n",
    "        else:\n",
    "            try:\n",
    "                eigenvalues, eigenvectors = eigsh(D_comb - W_comb, k=K, sigma=0, which='LM')\n",
    "            except:\n",
    "                eigenvalues, eigenvectors = eigsh(D_comb - W_comb, k=K, which='SM')\n",
    "        eigenvalues, eigenvectors = torch.from_numpy(eigenvalues), torch.from_numpy(eigenvectors.T).float()\n",
    "    print(\"eigenvalues shape\", eigenvalues.shape, \"eigenvectors shape\", eigenvectors.shape)\n",
    "    # Sign ambiguity\n",
    "    for k in range(eigenvectors.shape[0]):\n",
    "        if 0.5 < torch.mean((eigenvectors[k] > 0).float()).item() < 1.0:  # reverse segment\n",
    "            eigenvectors[k] = 0 - eigenvectors[k]\n",
    "\n",
    "    # Save dict\n",
    "    output_dict = {'eigenvalues': eigenvalues, 'eigenvectors': eigenvectors}\n",
    "    torch.save(output_dict, output_file)"
   ]
  }
 ],
 "metadata": {
  "kernelspec": {
   "display_name": "Python 3 (ipykernel)",
   "language": "python",
   "name": "python3"
  },
  "language_info": {
   "codemirror_mode": {
    "name": "ipython",
    "version": 3
   },
   "file_extension": ".py",
   "mimetype": "text/x-python",
   "name": "python",
   "nbconvert_exporter": "python",
   "pygments_lexer": "ipython3",
   "version": "3.8.10"
  }
 },
 "nbformat": 4,
 "nbformat_minor": 1
}