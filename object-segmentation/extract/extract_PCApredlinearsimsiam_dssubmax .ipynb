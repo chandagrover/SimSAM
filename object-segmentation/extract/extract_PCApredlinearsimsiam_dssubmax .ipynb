{
 "cells": [
  {
   "cell_type": "code",
   "execution_count": 1,
   "metadata": {
    "pycharm": {
     "name": "#%%\n"
    }
   },
   "outputs": [],
   "source": [
    "# from functools import partial\n",
    "from pathlib import Path\n",
    "# from typing import Optional, Tuple\n",
    "# import cv2\n",
    "# import fire\n",
    "import numpy as np\n",
    "import torch\n",
    "import torch.nn.functional as F\n",
    "from accelerate import Accelerator\n",
    "from PIL import Image\n",
    "from scipy.sparse.linalg import eigsh\n",
    "# from sklearn.cluster import KMeans, MiniBatchKMeans\n",
    "from sklearn.decomposition import PCA\n",
    "# from torchvision.utils import draw_bounding_boxes\n",
    "from tqdm import tqdm\n",
    "import extract_utils as utils\n",
    "from torch.utils.data import Dataset, DataLoader\n",
    "from lightly.loss import NegativeCosineSimilarity\n",
    "from lightly.models.modules import SimSiamPredictionHead, SimSiamProjectionHead\n",
    "from torch import nn\n",
    "import torchvision\n",
    "from scipy.ndimage import affine_transform"
   ]
  },
  {
   "cell_type": "markdown",
   "metadata": {
    "pycharm": {
     "name": "#%% md\n"
    }
   },
   "source": [
    "## Extract Eigen Vectors"
   ]
  },
  {
   "cell_type": "code",
   "execution_count": 2,
   "metadata": {
    "pycharm": {
     "name": "#%%\n"
    }
   },
   "outputs": [],
   "source": [
    "images_root=\"/home/phdcs2/Hard_Disk/Datasets/Deep-Spectral-Segmentation/data/object-segmentation/ECSSD/images\"\n",
    "# features_dir=\"/home/phdcs2/Hard_Disk/Datasets/Deep-Spectral-Segmentation/data/object-segmentation/ECSSD_1/features/dino_vits16\"\n",
    "features_dir=\"/home/phdcs2/Hard_Disk/Datasets/Deep-Spectral-Segmentation/data/object-segmentation/ECSSD/features/\"\n",
    "output_dir=\"/home/phdcs2/Hard_Disk/Datasets/Deep-Spectral-Segmentation/data/object-segmentation/ECSSD/eigs_dot1PCA64pred_dssubmax_10\"\n",
    "which_matrix= 'laplacian'\n",
    "which_color_matrix= 'knn'\n",
    "which_features= 'k'\n",
    "normalize=True\n",
    "threshold_at_zero=True\n",
    "lapnorm= True\n",
    "K= 5\n",
    "image_downsample_factor = None\n",
    "image_color_lambda = 0.0\n",
    "multiprocessing = 0\n",
    "batch_size=2\n",
    "epochs=10"
   ]
  },
  {
   "cell_type": "markdown",
   "metadata": {
    "pycharm": {
     "name": "#%% md\n"
    }
   },
   "source": [
    "## Incorporating SimSiam"
   ]
  },
  {
   "cell_type": "code",
   "execution_count": 3,
   "metadata": {
    "pycharm": {
     "name": "#%%\n"
    }
   },
   "outputs": [],
   "source": [
    "# Define a custom dataset class\n",
    "class Feature_Dataset(Dataset):\n",
    "    def __init__(self, features):\n",
    "        self.features = features\n",
    "\n",
    "    def __getitem__(self, index):\n",
    "        return self.features[index]\n",
    "\n",
    "    def __len__(self):\n",
    "        return len(self.features)"
   ]
  },
  {
   "cell_type": "code",
   "execution_count": 4,
   "metadata": {
    "pycharm": {
     "name": "#%%\n"
    }
   },
   "outputs": [],
   "source": [
    "# class SimSiam(nn.Module):\n",
    "#     def __init__(self):\n",
    "#         super().__init__()\n",
    "#         self.projection_head = SimSiamProjectionHead(feats.shape[1], 128,feats.shape[1])\n",
    "#         self.prediction_head = SimSiamPredictionHead(feats.shape[1], 128, feats.shape[1])\n",
    "#\n",
    "#     def forward(self, x):\n",
    "#         z = self.projection_head(x)\n",
    "#         p = self.prediction_head(z)\n",
    "#         z = z.detach()\n",
    "#         return z, p"
   ]
  },
  {
   "cell_type": "code",
   "execution_count": 5,
   "metadata": {
    "pycharm": {
     "name": "#%%\n"
    }
   },
   "outputs": [],
   "source": [
    "# def normalize_affinity_matrix(affinity_matrix, axis=0):\n",
    "#     if axis == 1:\n",
    "#         # Normalize by row-wise sums\n",
    "#         row_sums = torch.sum(affinity_matrix, dim=1, keepdim=True)\n",
    "#         print(row_sums)\n",
    "#         normalized_matrix = affinity_matrix / row_sums\n",
    "#     elif axis == 0:\n",
    "#         # Normalize by column-wise sums\n",
    "#         col_sums = torch.sum(affinity_matrix, dim=0, keepdim=True)\n",
    "#         normalized_matrix = affinity_matrix / col_sums\n",
    "#     else:\n",
    "#         raise ValueError(\"Invalid axis. Axis must be either 0 or 1.\")\n",
    "\n",
    "#     return normalized_matrix"
   ]
  },
  {
   "cell_type": "code",
   "execution_count": 6,
   "metadata": {
    "pycharm": {
     "name": "#%%\n"
    }
   },
   "outputs": [
    {
     "name": "stderr",
     "output_type": "stream",
     "text": [
      "  0%|          | 0/1000 [00:00<?, ?it/s]"
     ]
    },
    {
     "name": "stdout",
     "output_type": "stream",
     "text": [
      "0 /home/phdcs2/Hard_Disk/Datasets/Deep-Spectral-Segmentation/data/object-segmentation/ECSSD/features/0001_resized.pth\n",
      "dict_keys(['k', 'indices', 'file', 'id', 'model_name', 'patch_size', 'shape'])\n",
      "0001_resized\n",
      "Starting Training\n",
      "epoch: 00, loss: -0.04153\n",
      "epoch: 01, loss: -0.05631\n",
      "epoch: 02, loss: -0.05968\n",
      "epoch: 03, loss: -0.05891\n",
      "epoch: 04, loss: -0.05948\n",
      "epoch: 05, loss: -0.06061\n",
      "epoch: 06, loss: -0.05970\n",
      "epoch: 07, loss: -0.05931\n",
      "epoch: 08, loss: -0.06024\n",
      "epoch: 09, loss: -0.06019\n",
      "torch.Size([1024, 64])\n"
     ]
    },
    {
     "name": "stderr",
     "output_type": "stream",
     "text": [
      "  0%|          | 1/1000 [00:20<5:46:50, 20.83s/it]"
     ]
    },
    {
     "name": "stdout",
     "output_type": "stream",
     "text": [
      "eigenvalues shape torch.Size([5]) eigenvectors shape torch.Size([5, 1024])\n",
      "1 /home/phdcs2/Hard_Disk/Datasets/Deep-Spectral-Segmentation/data/object-segmentation/ECSSD/features/0002_resized.pth\n",
      "dict_keys(['k', 'indices', 'file', 'id', 'model_name', 'patch_size', 'shape'])\n",
      "0002_resized\n",
      "Starting Training\n",
      "epoch: 00, loss: -0.03684\n",
      "epoch: 01, loss: -0.04394\n",
      "epoch: 02, loss: -0.04538\n",
      "epoch: 03, loss: -0.04503\n",
      "epoch: 04, loss: -0.04526\n",
      "epoch: 05, loss: -0.04544\n",
      "epoch: 06, loss: -0.04549\n",
      "epoch: 07, loss: -0.04558\n",
      "epoch: 08, loss: -0.04565\n",
      "epoch: 09, loss: -0.04578\n",
      "torch.Size([1024, 64])\n"
     ]
    },
    {
     "name": "stderr",
     "output_type": "stream",
     "text": [
      "  0%|          | 2/1000 [00:38<5:17:59, 19.12s/it]"
     ]
    },
    {
     "name": "stdout",
     "output_type": "stream",
     "text": [
      "eigenvalues shape torch.Size([5]) eigenvectors shape torch.Size([5, 1024])\n",
      "2 /home/phdcs2/Hard_Disk/Datasets/Deep-Spectral-Segmentation/data/object-segmentation/ECSSD/features/0003_resized.pth\n",
      "dict_keys(['k', 'indices', 'file', 'id', 'model_name', 'patch_size', 'shape'])\n",
      "0003_resized\n",
      "Starting Training\n",
      "epoch: 00, loss: -0.03971\n",
      "epoch: 01, loss: -0.04772\n",
      "epoch: 02, loss: -0.04834\n",
      "epoch: 03, loss: -0.04868\n",
      "epoch: 04, loss: -0.04881\n",
      "epoch: 05, loss: -0.04923\n",
      "epoch: 06, loss: -0.04905\n",
      "epoch: 07, loss: -0.04923\n",
      "epoch: 08, loss: -0.04936\n",
      "epoch: 09, loss: -0.04947\n",
      "torch.Size([1024, 64])\n"
     ]
    },
    {
     "name": "stderr",
     "output_type": "stream",
     "text": [
      "  0%|          | 3/1000 [00:58<5:22:56, 19.43s/it]"
     ]
    },
    {
     "name": "stdout",
     "output_type": "stream",
     "text": [
      "eigenvalues shape torch.Size([5]) eigenvectors shape torch.Size([5, 1024])\n",
      "3 /home/phdcs2/Hard_Disk/Datasets/Deep-Spectral-Segmentation/data/object-segmentation/ECSSD/features/0004_resized.pth\n",
      "dict_keys(['k', 'indices', 'file', 'id', 'model_name', 'patch_size', 'shape'])\n",
      "0004_resized\n",
      "Starting Training\n",
      "epoch: 00, loss: -0.06146\n",
      "epoch: 01, loss: -0.07680\n",
      "epoch: 02, loss: -0.07696\n",
      "epoch: 03, loss: -0.07929\n",
      "epoch: 04, loss: -0.07960\n",
      "epoch: 05, loss: -0.08017\n",
      "epoch: 06, loss: -0.07935\n",
      "epoch: 07, loss: -0.07885\n",
      "epoch: 08, loss: -0.07963\n",
      "epoch: 09, loss: -0.08035\n",
      "torch.Size([1024, 64])\n"
     ]
    },
    {
     "name": "stderr",
     "output_type": "stream",
     "text": [
      "  0%|          | 4/1000 [01:17<5:19:04, 19.22s/it]"
     ]
    },
    {
     "name": "stdout",
     "output_type": "stream",
     "text": [
      "eigenvalues shape torch.Size([5]) eigenvectors shape torch.Size([5, 1024])\n",
      "4 /home/phdcs2/Hard_Disk/Datasets/Deep-Spectral-Segmentation/data/object-segmentation/ECSSD/features/0005_resized.pth\n",
      "dict_keys(['k', 'indices', 'file', 'id', 'model_name', 'patch_size', 'shape'])\n",
      "0005_resized\n",
      "Starting Training\n",
      "epoch: 00, loss: -0.01392\n",
      "epoch: 01, loss: -0.02786\n",
      "epoch: 02, loss: -0.02986\n",
      "epoch: 03, loss: -0.03145\n",
      "epoch: 04, loss: -0.03070\n",
      "epoch: 05, loss: -0.03197\n",
      "epoch: 06, loss: -0.03257\n",
      "epoch: 07, loss: -0.03245\n",
      "epoch: 08, loss: -0.03386\n",
      "epoch: 09, loss: -0.03364\n",
      "torch.Size([1024, 64])\n"
     ]
    },
    {
     "name": "stderr",
     "output_type": "stream",
     "text": [
      "  0%|          | 5/1000 [01:35<5:13:01, 18.88s/it]"
     ]
    },
    {
     "name": "stdout",
     "output_type": "stream",
     "text": [
      "eigenvalues shape torch.Size([5]) eigenvectors shape torch.Size([5, 1024])\n",
      "5 /home/phdcs2/Hard_Disk/Datasets/Deep-Spectral-Segmentation/data/object-segmentation/ECSSD/features/0006_resized.pth\n",
      "dict_keys(['k', 'indices', 'file', 'id', 'model_name', 'patch_size', 'shape'])\n",
      "0006_resized\n",
      "Starting Training\n",
      "epoch: 00, loss: -0.06907\n",
      "epoch: 01, loss: -0.08530\n",
      "epoch: 02, loss: -0.08706\n",
      "epoch: 03, loss: -0.08755\n",
      "epoch: 04, loss: -0.08801\n",
      "epoch: 05, loss: -0.08816\n",
      "epoch: 06, loss: -0.08854\n",
      "epoch: 07, loss: -0.08945\n",
      "epoch: 08, loss: -0.08928\n",
      "epoch: 09, loss: -0.08949\n",
      "torch.Size([1024, 64])\n"
     ]
    },
    {
     "name": "stderr",
     "output_type": "stream",
     "text": [
      "  1%|          | 6/1000 [01:53<5:06:58, 18.53s/it]"
     ]
    },
    {
     "name": "stdout",
     "output_type": "stream",
     "text": [
      "eigenvalues shape torch.Size([5]) eigenvectors shape torch.Size([5, 1024])\n",
      "6 /home/phdcs2/Hard_Disk/Datasets/Deep-Spectral-Segmentation/data/object-segmentation/ECSSD/features/0007_resized.pth\n",
      "dict_keys(['k', 'indices', 'file', 'id', 'model_name', 'patch_size', 'shape'])\n",
      "0007_resized\n",
      "Starting Training\n",
      "epoch: 00, loss: -0.07593\n",
      "epoch: 01, loss: -0.09387\n",
      "epoch: 02, loss: -0.09360\n",
      "epoch: 03, loss: -0.09589\n",
      "epoch: 04, loss: -0.09505\n",
      "epoch: 05, loss: -0.09567\n",
      "epoch: 06, loss: -0.09557\n",
      "epoch: 07, loss: -0.09550\n",
      "epoch: 08, loss: -0.09658\n",
      "epoch: 09, loss: -0.09707\n",
      "torch.Size([1024, 64])\n"
     ]
    },
    {
     "name": "stderr",
     "output_type": "stream",
     "text": [
      "  1%|          | 7/1000 [02:12<5:10:45, 18.78s/it]"
     ]
    },
    {
     "name": "stdout",
     "output_type": "stream",
     "text": [
      "eigenvalues shape torch.Size([5]) eigenvectors shape torch.Size([5, 1024])\n",
      "7 /home/phdcs2/Hard_Disk/Datasets/Deep-Spectral-Segmentation/data/object-segmentation/ECSSD/features/0008_resized.pth\n",
      "dict_keys(['k', 'indices', 'file', 'id', 'model_name', 'patch_size', 'shape'])\n",
      "0008_resized\n",
      "Starting Training\n",
      "epoch: 00, loss: -0.01036\n",
      "epoch: 01, loss: -0.02200\n",
      "epoch: 02, loss: -0.02326\n",
      "epoch: 03, loss: -0.02374\n",
      "epoch: 04, loss: -0.02407\n",
      "epoch: 05, loss: -0.02416\n",
      "epoch: 06, loss: -0.02435\n",
      "epoch: 07, loss: -0.02443\n",
      "epoch: 08, loss: -0.02458\n",
      "epoch: 09, loss: -0.02466\n",
      "torch.Size([1024, 64])\n"
     ]
    },
    {
     "name": "stderr",
     "output_type": "stream",
     "text": [
      "  1%|          | 8/1000 [02:31<5:09:31, 18.72s/it]"
     ]
    },
    {
     "name": "stdout",
     "output_type": "stream",
     "text": [
      "eigenvalues shape torch.Size([5]) eigenvectors shape torch.Size([5, 1024])\n",
      "8 /home/phdcs2/Hard_Disk/Datasets/Deep-Spectral-Segmentation/data/object-segmentation/ECSSD/features/0009_resized.pth\n",
      "dict_keys(['k', 'indices', 'file', 'id', 'model_name', 'patch_size', 'shape'])\n",
      "0009_resized\n",
      "Starting Training\n",
      "epoch: 00, loss: -0.04157\n",
      "epoch: 01, loss: -0.05503\n",
      "epoch: 02, loss: -0.05550\n",
      "epoch: 03, loss: -0.05539\n",
      "epoch: 04, loss: -0.05561\n",
      "epoch: 05, loss: -0.05571\n",
      "epoch: 06, loss: -0.05571\n",
      "epoch: 07, loss: -0.05585\n",
      "epoch: 08, loss: -0.05577\n",
      "epoch: 09, loss: -0.05582\n",
      "torch.Size([1024, 64])\n"
     ]
    },
    {
     "name": "stderr",
     "output_type": "stream",
     "text": [
      "  1%|          | 9/1000 [02:48<5:01:01, 18.23s/it]"
     ]
    },
    {
     "name": "stdout",
     "output_type": "stream",
     "text": [
      "eigenvalues shape torch.Size([5]) eigenvectors shape torch.Size([5, 1024])\n",
      "9 /home/phdcs2/Hard_Disk/Datasets/Deep-Spectral-Segmentation/data/object-segmentation/ECSSD/features/0010_resized.pth\n",
      "dict_keys(['k', 'indices', 'file', 'id', 'model_name', 'patch_size', 'shape'])\n",
      "0010_resized\n",
      "Starting Training\n",
      "epoch: 00, loss: -0.03018\n",
      "epoch: 01, loss: -0.04765\n",
      "epoch: 02, loss: -0.04844\n",
      "epoch: 03, loss: -0.04838\n",
      "epoch: 04, loss: -0.04937\n",
      "epoch: 05, loss: -0.05008\n",
      "epoch: 06, loss: -0.05146\n",
      "epoch: 07, loss: -0.05044\n",
      "epoch: 08, loss: -0.05056\n",
      "epoch: 09, loss: -0.05044\n",
      "torch.Size([1024, 64])\n"
     ]
    },
    {
     "name": "stderr",
     "output_type": "stream",
     "text": [
      "  1%|          | 10/1000 [03:06<5:00:48, 18.23s/it]"
     ]
    },
    {
     "name": "stdout",
     "output_type": "stream",
     "text": [
      "eigenvalues shape torch.Size([5]) eigenvectors shape torch.Size([5, 1024])\n",
      "10 /home/phdcs2/Hard_Disk/Datasets/Deep-Spectral-Segmentation/data/object-segmentation/ECSSD/features/0011_resized.pth\n",
      "dict_keys(['k', 'indices', 'file', 'id', 'model_name', 'patch_size', 'shape'])\n",
      "0011_resized\n",
      "Starting Training\n",
      "epoch: 00, loss: -0.04863\n",
      "epoch: 01, loss: -0.06787\n",
      "epoch: 02, loss: -0.06742\n",
      "epoch: 03, loss: -0.06987\n",
      "epoch: 04, loss: -0.06871\n",
      "epoch: 05, loss: -0.07049\n",
      "epoch: 06, loss: -0.07054\n",
      "epoch: 07, loss: -0.07106\n",
      "epoch: 08, loss: -0.07053\n",
      "epoch: 09, loss: -0.07021\n",
      "torch.Size([1024, 64])\n"
     ]
    },
    {
     "name": "stderr",
     "output_type": "stream",
     "text": [
      "  1%|          | 11/1000 [03:24<4:58:07, 18.09s/it]"
     ]
    },
    {
     "name": "stdout",
     "output_type": "stream",
     "text": [
      "eigenvalues shape torch.Size([5]) eigenvectors shape torch.Size([5, 1024])\n",
      "11 /home/phdcs2/Hard_Disk/Datasets/Deep-Spectral-Segmentation/data/object-segmentation/ECSSD/features/0012_resized.pth\n",
      "dict_keys(['k', 'indices', 'file', 'id', 'model_name', 'patch_size', 'shape'])\n",
      "0012_resized\n",
      "Starting Training\n",
      "epoch: 00, loss: -0.03424\n",
      "epoch: 01, loss: -0.04715\n",
      "epoch: 02, loss: -0.04736\n",
      "epoch: 03, loss: -0.04874\n",
      "epoch: 04, loss: -0.05005\n",
      "epoch: 05, loss: -0.05044\n",
      "epoch: 06, loss: -0.05021\n",
      "epoch: 07, loss: -0.05029\n",
      "epoch: 08, loss: -0.05092\n",
      "epoch: 09, loss: -0.05026\n",
      "torch.Size([1024, 64])\n"
     ]
    },
    {
     "name": "stderr",
     "output_type": "stream",
     "text": [
      "  1%|          | 12/1000 [03:42<4:58:28, 18.13s/it]"
     ]
    },
    {
     "name": "stdout",
     "output_type": "stream",
     "text": [
      "eigenvalues shape torch.Size([5]) eigenvectors shape torch.Size([5, 1024])\n",
      "12 /home/phdcs2/Hard_Disk/Datasets/Deep-Spectral-Segmentation/data/object-segmentation/ECSSD/features/0013_resized.pth\n",
      "dict_keys(['k', 'indices', 'file', 'id', 'model_name', 'patch_size', 'shape'])\n",
      "0013_resized\n",
      "Starting Training\n",
      "epoch: 00, loss: -0.01950\n",
      "epoch: 01, loss: -0.03077\n",
      "epoch: 02, loss: -0.03173\n",
      "epoch: 03, loss: -0.03207\n",
      "epoch: 04, loss: -0.03239\n",
      "epoch: 05, loss: -0.03262\n",
      "epoch: 06, loss: -0.03262\n",
      "epoch: 07, loss: -0.03284\n",
      "epoch: 08, loss: -0.03291\n",
      "epoch: 09, loss: -0.03300\n",
      "torch.Size([1024, 64])\n"
     ]
    },
    {
     "name": "stderr",
     "output_type": "stream",
     "text": [
      "  1%|▏         | 13/1000 [04:02<5:05:01, 18.54s/it]"
     ]
    },
    {
     "name": "stdout",
     "output_type": "stream",
     "text": [
      "eigenvalues shape torch.Size([5]) eigenvectors shape torch.Size([5, 1024])\n",
      "13 /home/phdcs2/Hard_Disk/Datasets/Deep-Spectral-Segmentation/data/object-segmentation/ECSSD/features/0014_resized.pth\n",
      "dict_keys(['k', 'indices', 'file', 'id', 'model_name', 'patch_size', 'shape'])\n",
      "0014_resized\n",
      "Starting Training\n",
      "epoch: 00, loss: -0.00379\n",
      "epoch: 01, loss: -0.01360\n",
      "epoch: 02, loss: -0.01551\n",
      "epoch: 03, loss: -0.01624\n",
      "epoch: 04, loss: -0.01655\n",
      "epoch: 05, loss: -0.01683\n",
      "epoch: 06, loss: -0.01695\n",
      "epoch: 07, loss: -0.01712\n",
      "epoch: 08, loss: -0.01723\n",
      "epoch: 09, loss: -0.01731\n",
      "torch.Size([1024, 64])\n"
     ]
    },
    {
     "name": "stderr",
     "output_type": "stream",
     "text": [
      "  1%|▏         | 14/1000 [04:29<5:47:53, 21.17s/it]"
     ]
    },
    {
     "name": "stdout",
     "output_type": "stream",
     "text": [
      "eigenvalues shape torch.Size([5]) eigenvectors shape torch.Size([5, 1024])\n",
      "14 /home/phdcs2/Hard_Disk/Datasets/Deep-Spectral-Segmentation/data/object-segmentation/ECSSD/features/0015_resized.pth\n",
      "dict_keys(['k', 'indices', 'file', 'id', 'model_name', 'patch_size', 'shape'])\n",
      "0015_resized\n",
      "Starting Training\n",
      "epoch: 00, loss: -0.03273\n",
      "epoch: 01, loss: -0.04554\n",
      "epoch: 02, loss: -0.04568\n",
      "epoch: 03, loss: -0.04606\n",
      "epoch: 04, loss: -0.04610\n",
      "epoch: 05, loss: -0.04651\n",
      "epoch: 06, loss: -0.04667\n",
      "epoch: 07, loss: -0.04664\n",
      "epoch: 08, loss: -0.04679\n",
      "epoch: 09, loss: -0.04681\n",
      "torch.Size([1024, 64])\n"
     ]
    },
    {
     "name": "stderr",
     "output_type": "stream",
     "text": [
      "  2%|▏         | 15/1000 [05:00<6:33:41, 23.98s/it]"
     ]
    },
    {
     "name": "stdout",
     "output_type": "stream",
     "text": [
      "eigenvalues shape torch.Size([5]) eigenvectors shape torch.Size([5, 1024])\n",
      "15 /home/phdcs2/Hard_Disk/Datasets/Deep-Spectral-Segmentation/data/object-segmentation/ECSSD/features/0016_resized.pth\n",
      "dict_keys(['k', 'indices', 'file', 'id', 'model_name', 'patch_size', 'shape'])\n",
      "0016_resized\n",
      "Starting Training\n",
      "epoch: 00, loss: -0.01504\n",
      "epoch: 01, loss: -0.02874\n",
      "epoch: 02, loss: -0.02986\n",
      "epoch: 03, loss: -0.03013\n",
      "epoch: 04, loss: -0.03041\n",
      "epoch: 05, loss: -0.03045\n",
      "epoch: 06, loss: -0.03063\n",
      "epoch: 07, loss: -0.03064\n",
      "epoch: 08, loss: -0.03078\n",
      "epoch: 09, loss: -0.03087\n",
      "torch.Size([1024, 64])\n"
     ]
    },
    {
     "name": "stderr",
     "output_type": "stream",
     "text": [
      "  2%|▏         | 16/1000 [05:26<6:45:46, 24.74s/it]"
     ]
    },
    {
     "name": "stdout",
     "output_type": "stream",
     "text": [
      "eigenvalues shape torch.Size([5]) eigenvectors shape torch.Size([5, 1024])\n",
      "16 /home/phdcs2/Hard_Disk/Datasets/Deep-Spectral-Segmentation/data/object-segmentation/ECSSD/features/0017_resized.pth\n",
      "dict_keys(['k', 'indices', 'file', 'id', 'model_name', 'patch_size', 'shape'])\n",
      "0017_resized\n",
      "Starting Training\n",
      "epoch: 00, loss: -0.02622\n",
      "epoch: 01, loss: -0.03782\n",
      "epoch: 02, loss: -0.03860\n",
      "epoch: 03, loss: -0.03868\n",
      "epoch: 04, loss: -0.03907\n",
      "epoch: 05, loss: -0.03934\n",
      "epoch: 06, loss: -0.03946\n",
      "epoch: 07, loss: -0.03940\n",
      "epoch: 08, loss: -0.03950\n",
      "epoch: 09, loss: -0.03963\n",
      "torch.Size([1024, 64])\n"
     ]
    },
    {
     "name": "stderr",
     "output_type": "stream",
     "text": [
      "  2%|▏         | 17/1000 [05:53<6:54:56, 25.33s/it]"
     ]
    },
    {
     "name": "stdout",
     "output_type": "stream",
     "text": [
      "eigenvalues shape torch.Size([5]) eigenvectors shape torch.Size([5, 1024])\n",
      "17 /home/phdcs2/Hard_Disk/Datasets/Deep-Spectral-Segmentation/data/object-segmentation/ECSSD/features/0018_resized.pth\n",
      "dict_keys(['k', 'indices', 'file', 'id', 'model_name', 'patch_size', 'shape'])\n",
      "0018_resized\n",
      "Starting Training\n",
      "epoch: 00, loss: -0.05542\n",
      "epoch: 01, loss: -0.06656\n",
      "epoch: 02, loss: -0.06682\n",
      "epoch: 03, loss: -0.06695\n",
      "epoch: 04, loss: -0.06717\n",
      "epoch: 05, loss: -0.06742\n",
      "epoch: 06, loss: -0.06742\n",
      "epoch: 07, loss: -0.06761\n",
      "epoch: 08, loss: -0.06758\n",
      "epoch: 09, loss: -0.06767\n",
      "torch.Size([1024, 64])\n"
     ]
    },
    {
     "name": "stderr",
     "output_type": "stream",
     "text": [
      "  2%|▏         | 18/1000 [06:20<7:05:09, 25.98s/it]"
     ]
    },
    {
     "name": "stdout",
     "output_type": "stream",
     "text": [
      "eigenvalues shape torch.Size([5]) eigenvectors shape torch.Size([5, 1024])\n",
      "18 /home/phdcs2/Hard_Disk/Datasets/Deep-Spectral-Segmentation/data/object-segmentation/ECSSD/features/0019_resized.pth\n",
      "dict_keys(['k', 'indices', 'file', 'id', 'model_name', 'patch_size', 'shape'])\n",
      "0019_resized\n",
      "Starting Training\n",
      "epoch: 00, loss: -0.03536\n",
      "epoch: 01, loss: -0.04780\n",
      "epoch: 02, loss: -0.04942\n",
      "epoch: 03, loss: -0.05024\n",
      "epoch: 04, loss: -0.04996\n",
      "epoch: 05, loss: -0.05023\n",
      "epoch: 06, loss: -0.05038\n",
      "epoch: 07, loss: -0.05041\n",
      "epoch: 08, loss: -0.05082\n",
      "epoch: 09, loss: -0.05018\n",
      "torch.Size([1024, 64])\n"
     ]
    },
    {
     "name": "stderr",
     "output_type": "stream",
     "text": [
      "  2%|▏         | 19/1000 [06:48<7:11:56, 26.42s/it]"
     ]
    },
    {
     "name": "stdout",
     "output_type": "stream",
     "text": [
      "eigenvalues shape torch.Size([5]) eigenvectors shape torch.Size([5, 1024])\n",
      "19 /home/phdcs2/Hard_Disk/Datasets/Deep-Spectral-Segmentation/data/object-segmentation/ECSSD/features/0020_resized.pth\n",
      "dict_keys(['k', 'indices', 'file', 'id', 'model_name', 'patch_size', 'shape'])\n",
      "0020_resized\n",
      "Starting Training\n",
      "epoch: 00, loss: -0.06813\n",
      "epoch: 01, loss: -0.07543\n",
      "epoch: 02, loss: -0.07577\n",
      "epoch: 03, loss: -0.07638\n",
      "epoch: 04, loss: -0.07665\n",
      "epoch: 05, loss: -0.07679\n",
      "epoch: 06, loss: -0.07665\n",
      "epoch: 07, loss: -0.07665\n",
      "epoch: 08, loss: -0.07669\n",
      "epoch: 09, loss: -0.07704\n",
      "torch.Size([1024, 64])\n"
     ]
    },
    {
     "name": "stderr",
     "output_type": "stream",
     "text": [
      "  2%|▏         | 20/1000 [07:15<7:17:22, 26.78s/it]"
     ]
    },
    {
     "name": "stdout",
     "output_type": "stream",
     "text": [
      "eigenvalues shape torch.Size([5]) eigenvectors shape torch.Size([5, 1024])\n",
      "20 /home/phdcs2/Hard_Disk/Datasets/Deep-Spectral-Segmentation/data/object-segmentation/ECSSD/features/0021_resized.pth\n",
      "dict_keys(['k', 'indices', 'file', 'id', 'model_name', 'patch_size', 'shape'])\n",
      "0021_resized\n",
      "Starting Training\n",
      "epoch: 00, loss: -0.07862\n",
      "epoch: 01, loss: -0.08588\n",
      "epoch: 02, loss: -0.08764\n",
      "epoch: 03, loss: -0.08763\n",
      "epoch: 04, loss: -0.08712\n",
      "epoch: 05, loss: -0.08735\n",
      "epoch: 06, loss: -0.08692\n",
      "epoch: 07, loss: -0.08802\n",
      "epoch: 08, loss: -0.08773\n",
      "epoch: 09, loss: -0.08790\n",
      "torch.Size([1024, 64])\n"
     ]
    },
    {
     "name": "stderr",
     "output_type": "stream",
     "text": [
      "  2%|▏         | 21/1000 [07:44<7:24:18, 27.23s/it]"
     ]
    },
    {
     "name": "stdout",
     "output_type": "stream",
     "text": [
      "eigenvalues shape torch.Size([5]) eigenvectors shape torch.Size([5, 1024])\n",
      "21 /home/phdcs2/Hard_Disk/Datasets/Deep-Spectral-Segmentation/data/object-segmentation/ECSSD/features/0022_resized.pth\n",
      "dict_keys(['k', 'indices', 'file', 'id', 'model_name', 'patch_size', 'shape'])\n",
      "0022_resized\n",
      "Starting Training\n",
      "epoch: 00, loss: -0.04852\n",
      "epoch: 01, loss: -0.06202\n",
      "epoch: 02, loss: -0.06368\n",
      "epoch: 03, loss: -0.06448\n",
      "epoch: 04, loss: -0.06384\n",
      "epoch: 05, loss: -0.06434\n",
      "epoch: 06, loss: -0.06472\n",
      "epoch: 07, loss: -0.06379\n",
      "epoch: 08, loss: -0.06518\n",
      "epoch: 09, loss: -0.06560\n",
      "torch.Size([1024, 64])\n"
     ]
    },
    {
     "name": "stderr",
     "output_type": "stream",
     "text": [
      "  2%|▏         | 22/1000 [08:09<7:16:25, 26.77s/it]"
     ]
    },
    {
     "name": "stdout",
     "output_type": "stream",
     "text": [
      "eigenvalues shape torch.Size([5]) eigenvectors shape torch.Size([5, 1024])\n",
      "22 /home/phdcs2/Hard_Disk/Datasets/Deep-Spectral-Segmentation/data/object-segmentation/ECSSD/features/0023_resized.pth\n",
      "dict_keys(['k', 'indices', 'file', 'id', 'model_name', 'patch_size', 'shape'])\n",
      "0023_resized\n",
      "Starting Training\n",
      "epoch: 00, loss: -0.04726\n",
      "epoch: 01, loss: -0.05523\n",
      "epoch: 02, loss: -0.05561\n",
      "epoch: 03, loss: -0.05622\n",
      "epoch: 04, loss: -0.05622\n",
      "epoch: 05, loss: -0.05659\n",
      "epoch: 06, loss: -0.05653\n",
      "epoch: 07, loss: -0.05666\n",
      "epoch: 08, loss: -0.05673\n",
      "epoch: 09, loss: -0.05691\n",
      "torch.Size([1024, 64])\n"
     ]
    },
    {
     "name": "stderr",
     "output_type": "stream",
     "text": [
      "  2%|▏         | 23/1000 [08:35<7:10:53, 26.46s/it]"
     ]
    },
    {
     "name": "stdout",
     "output_type": "stream",
     "text": [
      "eigenvalues shape torch.Size([5]) eigenvectors shape torch.Size([5, 1024])\n",
      "23 /home/phdcs2/Hard_Disk/Datasets/Deep-Spectral-Segmentation/data/object-segmentation/ECSSD/features/0024_resized.pth\n",
      "dict_keys(['k', 'indices', 'file', 'id', 'model_name', 'patch_size', 'shape'])\n",
      "0024_resized\n",
      "Starting Training\n",
      "epoch: 00, loss: -0.01882\n",
      "epoch: 01, loss: -0.03400\n",
      "epoch: 02, loss: -0.03491\n",
      "epoch: 03, loss: -0.03528\n",
      "epoch: 04, loss: -0.03560\n",
      "epoch: 05, loss: -0.03559\n",
      "epoch: 06, loss: -0.03587\n",
      "epoch: 07, loss: -0.03590\n",
      "epoch: 08, loss: -0.03594\n",
      "epoch: 09, loss: -0.03598\n",
      "torch.Size([1024, 64])\n"
     ]
    },
    {
     "name": "stderr",
     "output_type": "stream",
     "text": [
      "  2%|▏         | 24/1000 [09:01<7:07:07, 26.26s/it]"
     ]
    },
    {
     "name": "stdout",
     "output_type": "stream",
     "text": [
      "eigenvalues shape torch.Size([5]) eigenvectors shape torch.Size([5, 1024])\n",
      "24 /home/phdcs2/Hard_Disk/Datasets/Deep-Spectral-Segmentation/data/object-segmentation/ECSSD/features/0025_resized.pth\n",
      "dict_keys(['k', 'indices', 'file', 'id', 'model_name', 'patch_size', 'shape'])\n",
      "0025_resized\n",
      "Starting Training\n",
      "epoch: 00, loss: -0.04141\n",
      "epoch: 01, loss: -0.05531\n",
      "epoch: 02, loss: -0.05764\n",
      "epoch: 03, loss: -0.05616\n",
      "epoch: 04, loss: -0.05678\n",
      "epoch: 05, loss: -0.05778\n",
      "epoch: 06, loss: -0.05694\n",
      "epoch: 07, loss: -0.05782\n",
      "epoch: 08, loss: -0.05832\n",
      "epoch: 09, loss: -0.05796\n",
      "torch.Size([1024, 64])\n"
     ]
    },
    {
     "name": "stderr",
     "output_type": "stream",
     "text": [
      "  2%|▎         | 25/1000 [09:26<7:02:27, 26.00s/it]"
     ]
    },
    {
     "name": "stdout",
     "output_type": "stream",
     "text": [
      "eigenvalues shape torch.Size([5]) eigenvectors shape torch.Size([5, 1024])\n",
      "25 /home/phdcs2/Hard_Disk/Datasets/Deep-Spectral-Segmentation/data/object-segmentation/ECSSD/features/0026_resized.pth\n",
      "dict_keys(['k', 'indices', 'file', 'id', 'model_name', 'patch_size', 'shape'])\n",
      "0026_resized\n",
      "Starting Training\n",
      "epoch: 00, loss: -0.07463\n",
      "epoch: 01, loss: -0.08315\n",
      "epoch: 02, loss: -0.08288\n",
      "epoch: 03, loss: -0.08394\n",
      "epoch: 04, loss: -0.08474\n",
      "epoch: 05, loss: -0.08477\n",
      "epoch: 06, loss: -0.08563\n",
      "epoch: 07, loss: -0.08657\n",
      "epoch: 08, loss: -0.08554\n",
      "epoch: 09, loss: -0.08481\n",
      "torch.Size([1024, 64])\n"
     ]
    },
    {
     "name": "stderr",
     "output_type": "stream",
     "text": [
      "  3%|▎         | 26/1000 [09:52<7:01:41, 25.98s/it]"
     ]
    },
    {
     "name": "stdout",
     "output_type": "stream",
     "text": [
      "eigenvalues shape torch.Size([5]) eigenvectors shape torch.Size([5, 1024])\n",
      "26 /home/phdcs2/Hard_Disk/Datasets/Deep-Spectral-Segmentation/data/object-segmentation/ECSSD/features/0027_resized.pth\n",
      "dict_keys(['k', 'indices', 'file', 'id', 'model_name', 'patch_size', 'shape'])\n",
      "0027_resized\n",
      "Starting Training\n",
      "epoch: 00, loss: -0.02945\n",
      "epoch: 01, loss: -0.03896\n",
      "epoch: 02, loss: -0.03983\n",
      "epoch: 03, loss: -0.04028\n",
      "epoch: 04, loss: -0.04052\n",
      "epoch: 05, loss: -0.04066\n",
      "epoch: 06, loss: -0.04078\n",
      "epoch: 07, loss: -0.04097\n",
      "epoch: 08, loss: -0.04106\n",
      "epoch: 09, loss: -0.04103\n",
      "torch.Size([1024, 64])\n"
     ]
    },
    {
     "name": "stderr",
     "output_type": "stream",
     "text": [
      "  3%|▎         | 27/1000 [10:17<6:54:59, 25.59s/it]"
     ]
    },
    {
     "name": "stdout",
     "output_type": "stream",
     "text": [
      "eigenvalues shape torch.Size([5]) eigenvectors shape torch.Size([5, 1024])\n",
      "27 /home/phdcs2/Hard_Disk/Datasets/Deep-Spectral-Segmentation/data/object-segmentation/ECSSD/features/0028_resized.pth\n",
      "dict_keys(['k', 'indices', 'file', 'id', 'model_name', 'patch_size', 'shape'])\n",
      "0028_resized\n",
      "Starting Training\n",
      "epoch: 00, loss: -0.05905\n",
      "epoch: 01, loss: -0.07733\n",
      "epoch: 02, loss: -0.07824\n",
      "epoch: 03, loss: -0.07869\n",
      "epoch: 04, loss: -0.08067\n",
      "epoch: 05, loss: -0.07969\n",
      "epoch: 06, loss: -0.08051\n",
      "epoch: 07, loss: -0.07995\n",
      "epoch: 08, loss: -0.08064\n",
      "epoch: 09, loss: -0.08062\n",
      "torch.Size([1024, 64])\n"
     ]
    },
    {
     "name": "stderr",
     "output_type": "stream",
     "text": [
      "  3%|▎         | 28/1000 [10:42<6:52:10, 25.44s/it]"
     ]
    },
    {
     "name": "stdout",
     "output_type": "stream",
     "text": [
      "eigenvalues shape torch.Size([5]) eigenvectors shape torch.Size([5, 1024])\n",
      "28 /home/phdcs2/Hard_Disk/Datasets/Deep-Spectral-Segmentation/data/object-segmentation/ECSSD/features/0029_resized.pth\n",
      "dict_keys(['k', 'indices', 'file', 'id', 'model_name', 'patch_size', 'shape'])\n",
      "0029_resized\n",
      "Starting Training\n",
      "epoch: 00, loss: -0.01647\n",
      "epoch: 01, loss: -0.03494\n",
      "epoch: 02, loss: -0.03698\n",
      "epoch: 03, loss: -0.03966\n",
      "epoch: 04, loss: -0.03906\n",
      "epoch: 05, loss: -0.04054\n",
      "epoch: 06, loss: -0.04034\n",
      "epoch: 07, loss: -0.03975\n",
      "epoch: 08, loss: -0.03838\n",
      "epoch: 09, loss: -0.04039\n",
      "torch.Size([1024, 64])\n"
     ]
    },
    {
     "name": "stderr",
     "output_type": "stream",
     "text": [
      "  3%|▎         | 29/1000 [11:07<6:51:53, 25.45s/it]"
     ]
    },
    {
     "name": "stdout",
     "output_type": "stream",
     "text": [
      "eigenvalues shape torch.Size([5]) eigenvectors shape torch.Size([5, 1024])\n",
      "29 /home/phdcs2/Hard_Disk/Datasets/Deep-Spectral-Segmentation/data/object-segmentation/ECSSD/features/0030_resized.pth\n",
      "dict_keys(['k', 'indices', 'file', 'id', 'model_name', 'patch_size', 'shape'])\n",
      "0030_resized\n",
      "Starting Training\n",
      "epoch: 00, loss: -0.03878\n",
      "epoch: 01, loss: -0.05161\n",
      "epoch: 02, loss: -0.05204\n",
      "epoch: 03, loss: -0.05231\n",
      "epoch: 04, loss: -0.05260\n",
      "epoch: 05, loss: -0.05275\n",
      "epoch: 06, loss: -0.05304\n",
      "epoch: 07, loss: -0.05289\n",
      "epoch: 08, loss: -0.05300\n",
      "epoch: 09, loss: -0.05319\n",
      "torch.Size([1024, 64])\n"
     ]
    },
    {
     "name": "stderr",
     "output_type": "stream",
     "text": [
      "  3%|▎         | 30/1000 [11:34<6:58:50, 25.91s/it]"
     ]
    },
    {
     "name": "stdout",
     "output_type": "stream",
     "text": [
      "eigenvalues shape torch.Size([5]) eigenvectors shape torch.Size([5, 1024])\n",
      "30 /home/phdcs2/Hard_Disk/Datasets/Deep-Spectral-Segmentation/data/object-segmentation/ECSSD/features/0031_resized.pth\n",
      "dict_keys(['k', 'indices', 'file', 'id', 'model_name', 'patch_size', 'shape'])\n",
      "0031_resized\n",
      "Starting Training\n",
      "epoch: 00, loss: -0.07722\n",
      "epoch: 01, loss: -0.09356\n",
      "epoch: 02, loss: -0.09382\n",
      "epoch: 03, loss: -0.09637\n",
      "epoch: 04, loss: -0.09630\n",
      "epoch: 05, loss: -0.09745\n",
      "epoch: 06, loss: -0.09763\n",
      "epoch: 07, loss: -0.09769\n",
      "epoch: 08, loss: -0.09774\n",
      "epoch: 09, loss: -0.09803\n",
      "torch.Size([1024, 64])\n"
     ]
    },
    {
     "name": "stderr",
     "output_type": "stream",
     "text": [
      "  3%|▎         | 31/1000 [12:00<6:56:47, 25.81s/it]"
     ]
    },
    {
     "name": "stdout",
     "output_type": "stream",
     "text": [
      "eigenvalues shape torch.Size([5]) eigenvectors shape torch.Size([5, 1024])\n",
      "31 /home/phdcs2/Hard_Disk/Datasets/Deep-Spectral-Segmentation/data/object-segmentation/ECSSD/features/0032_resized.pth\n",
      "dict_keys(['k', 'indices', 'file', 'id', 'model_name', 'patch_size', 'shape'])\n",
      "0032_resized\n",
      "Starting Training\n",
      "epoch: 00, loss: -0.04626\n",
      "epoch: 01, loss: -0.05567\n",
      "epoch: 02, loss: -0.05623\n",
      "epoch: 03, loss: -0.05660\n",
      "epoch: 04, loss: -0.05674\n",
      "epoch: 05, loss: -0.05703\n",
      "epoch: 06, loss: -0.05704\n",
      "epoch: 07, loss: -0.05715\n",
      "epoch: 08, loss: -0.05731\n",
      "epoch: 09, loss: -0.05725\n",
      "torch.Size([1024, 64])\n"
     ]
    },
    {
     "name": "stderr",
     "output_type": "stream",
     "text": [
      "  3%|▎         | 32/1000 [12:26<6:56:10, 25.80s/it]"
     ]
    },
    {
     "name": "stdout",
     "output_type": "stream",
     "text": [
      "eigenvalues shape torch.Size([5]) eigenvectors shape torch.Size([5, 1024])\n",
      "32 /home/phdcs2/Hard_Disk/Datasets/Deep-Spectral-Segmentation/data/object-segmentation/ECSSD/features/0033_resized.pth\n",
      "dict_keys(['k', 'indices', 'file', 'id', 'model_name', 'patch_size', 'shape'])\n",
      "0033_resized\n",
      "Starting Training\n",
      "epoch: 00, loss: -0.00915\n",
      "epoch: 01, loss: -0.02150\n",
      "epoch: 02, loss: -0.02434\n",
      "epoch: 03, loss: -0.02547\n",
      "epoch: 04, loss: -0.02455\n",
      "epoch: 05, loss: -0.02512\n",
      "epoch: 06, loss: -0.02539\n",
      "epoch: 07, loss: -0.02537\n",
      "epoch: 08, loss: -0.02569\n",
      "epoch: 09, loss: -0.02576\n",
      "torch.Size([1024, 64])\n"
     ]
    },
    {
     "name": "stderr",
     "output_type": "stream",
     "text": [
      "  3%|▎         | 33/1000 [12:52<6:55:57, 25.81s/it]"
     ]
    },
    {
     "name": "stdout",
     "output_type": "stream",
     "text": [
      "eigenvalues shape torch.Size([5]) eigenvectors shape torch.Size([5, 1024])\n",
      "33 /home/phdcs2/Hard_Disk/Datasets/Deep-Spectral-Segmentation/data/object-segmentation/ECSSD/features/0034_resized.pth\n",
      "dict_keys(['k', 'indices', 'file', 'id', 'model_name', 'patch_size', 'shape'])\n",
      "0034_resized\n",
      "Starting Training\n",
      "epoch: 00, loss: -0.03955\n",
      "epoch: 01, loss: -0.05813\n",
      "epoch: 02, loss: -0.05943\n",
      "epoch: 03, loss: -0.05995\n",
      "epoch: 04, loss: -0.05970\n",
      "epoch: 05, loss: -0.06060\n",
      "epoch: 06, loss: -0.06013\n",
      "epoch: 07, loss: -0.06009\n",
      "epoch: 08, loss: -0.06035\n",
      "epoch: 09, loss: -0.06101\n",
      "torch.Size([1024, 64])\n"
     ]
    },
    {
     "name": "stderr",
     "output_type": "stream",
     "text": [
      "  3%|▎         | 34/1000 [13:17<6:56:10, 25.85s/it]"
     ]
    },
    {
     "name": "stdout",
     "output_type": "stream",
     "text": [
      "eigenvalues shape torch.Size([5]) eigenvectors shape torch.Size([5, 1024])\n",
      "34 /home/phdcs2/Hard_Disk/Datasets/Deep-Spectral-Segmentation/data/object-segmentation/ECSSD/features/0035_resized.pth\n",
      "dict_keys(['k', 'indices', 'file', 'id', 'model_name', 'patch_size', 'shape'])\n",
      "0035_resized\n",
      "Starting Training\n",
      "epoch: 00, loss: -0.02476\n",
      "epoch: 01, loss: -0.03550\n",
      "epoch: 02, loss: -0.03577\n",
      "epoch: 03, loss: -0.03630\n",
      "epoch: 04, loss: -0.03612\n",
      "epoch: 05, loss: -0.03625\n",
      "epoch: 06, loss: -0.03643\n",
      "epoch: 07, loss: -0.03666\n",
      "epoch: 08, loss: -0.03670\n",
      "epoch: 09, loss: -0.03682\n",
      "torch.Size([1024, 64])\n"
     ]
    },
    {
     "name": "stderr",
     "output_type": "stream",
     "text": [
      "  4%|▎         | 35/1000 [13:43<6:52:03, 25.62s/it]"
     ]
    },
    {
     "name": "stdout",
     "output_type": "stream",
     "text": [
      "eigenvalues shape torch.Size([5]) eigenvectors shape torch.Size([5, 1024])\n",
      "35 /home/phdcs2/Hard_Disk/Datasets/Deep-Spectral-Segmentation/data/object-segmentation/ECSSD/features/0036_resized.pth\n",
      "dict_keys(['k', 'indices', 'file', 'id', 'model_name', 'patch_size', 'shape'])\n",
      "0036_resized\n",
      "Starting Training\n",
      "epoch: 00, loss: -0.04312\n",
      "epoch: 01, loss: -0.05427\n",
      "epoch: 02, loss: -0.05506\n",
      "epoch: 03, loss: -0.05679\n",
      "epoch: 04, loss: -0.05726\n",
      "epoch: 05, loss: -0.05736\n",
      "epoch: 06, loss: -0.05695\n",
      "epoch: 07, loss: -0.05714\n",
      "epoch: 08, loss: -0.05843\n",
      "epoch: 09, loss: -0.05843\n",
      "torch.Size([1024, 64])\n"
     ]
    },
    {
     "name": "stderr",
     "output_type": "stream",
     "text": [
      "  4%|▎         | 36/1000 [14:10<7:01:30, 26.23s/it]"
     ]
    },
    {
     "name": "stdout",
     "output_type": "stream",
     "text": [
      "eigenvalues shape torch.Size([5]) eigenvectors shape torch.Size([5, 1024])\n",
      "36 /home/phdcs2/Hard_Disk/Datasets/Deep-Spectral-Segmentation/data/object-segmentation/ECSSD/features/0037_resized.pth\n",
      "dict_keys(['k', 'indices', 'file', 'id', 'model_name', 'patch_size', 'shape'])\n",
      "0037_resized\n",
      "Starting Training\n",
      "epoch: 00, loss: -0.04120\n",
      "epoch: 01, loss: -0.05748\n",
      "epoch: 02, loss: -0.05964\n",
      "epoch: 03, loss: -0.06155\n",
      "epoch: 04, loss: -0.06190\n",
      "epoch: 05, loss: -0.06107\n",
      "epoch: 06, loss: -0.06360\n",
      "epoch: 07, loss: -0.06317\n",
      "epoch: 08, loss: -0.06360\n",
      "epoch: 09, loss: -0.06525\n",
      "torch.Size([1024, 64])\n"
     ]
    },
    {
     "name": "stderr",
     "output_type": "stream",
     "text": [
      "  4%|▎         | 37/1000 [14:39<7:11:59, 26.92s/it]"
     ]
    },
    {
     "name": "stdout",
     "output_type": "stream",
     "text": [
      "eigenvalues shape torch.Size([5]) eigenvectors shape torch.Size([5, 1024])\n",
      "37 /home/phdcs2/Hard_Disk/Datasets/Deep-Spectral-Segmentation/data/object-segmentation/ECSSD/features/0038_resized.pth\n",
      "dict_keys(['k', 'indices', 'file', 'id', 'model_name', 'patch_size', 'shape'])\n",
      "0038_resized\n",
      "Starting Training\n",
      "epoch: 00, loss: -0.03452\n",
      "epoch: 01, loss: -0.04669\n",
      "epoch: 02, loss: -0.04727\n",
      "epoch: 03, loss: -0.04777\n",
      "epoch: 04, loss: -0.04764\n",
      "epoch: 05, loss: -0.04790\n",
      "epoch: 06, loss: -0.04801\n",
      "epoch: 07, loss: -0.04816\n",
      "epoch: 08, loss: -0.04821\n",
      "epoch: 09, loss: -0.04826\n",
      "torch.Size([1024, 64])\n"
     ]
    },
    {
     "name": "stderr",
     "output_type": "stream",
     "text": [
      "  4%|▍         | 38/1000 [15:06<7:13:31, 27.04s/it]"
     ]
    },
    {
     "name": "stdout",
     "output_type": "stream",
     "text": [
      "eigenvalues shape torch.Size([5]) eigenvectors shape torch.Size([5, 1024])\n",
      "38 /home/phdcs2/Hard_Disk/Datasets/Deep-Spectral-Segmentation/data/object-segmentation/ECSSD/features/0039_resized.pth\n",
      "dict_keys(['k', 'indices', 'file', 'id', 'model_name', 'patch_size', 'shape'])\n",
      "0039_resized\n",
      "Starting Training\n",
      "epoch: 00, loss: -0.05871\n",
      "epoch: 01, loss: -0.06751\n",
      "epoch: 02, loss: -0.06808\n",
      "epoch: 03, loss: -0.06820\n",
      "epoch: 04, loss: -0.06826\n",
      "epoch: 05, loss: -0.06843\n",
      "epoch: 06, loss: -0.06850\n",
      "epoch: 07, loss: -0.06865\n",
      "epoch: 08, loss: -0.06877\n",
      "epoch: 09, loss: -0.06880\n",
      "torch.Size([1024, 64])\n"
     ]
    },
    {
     "name": "stderr",
     "output_type": "stream",
     "text": [
      "  4%|▍         | 39/1000 [15:36<7:28:03, 27.97s/it]"
     ]
    },
    {
     "name": "stdout",
     "output_type": "stream",
     "text": [
      "eigenvalues shape torch.Size([5]) eigenvectors shape torch.Size([5, 1024])\n",
      "39 /home/phdcs2/Hard_Disk/Datasets/Deep-Spectral-Segmentation/data/object-segmentation/ECSSD/features/0040_resized.pth\n",
      "dict_keys(['k', 'indices', 'file', 'id', 'model_name', 'patch_size', 'shape'])\n",
      "0040_resized\n",
      "Starting Training\n",
      "epoch: 00, loss: -0.08514\n",
      "epoch: 01, loss: -0.09849\n",
      "epoch: 02, loss: -0.10126\n",
      "epoch: 03, loss: -0.10296\n",
      "epoch: 04, loss: -0.10213\n",
      "epoch: 05, loss: -0.10344\n",
      "epoch: 06, loss: -0.10254\n",
      "epoch: 07, loss: -0.10343\n",
      "epoch: 08, loss: -0.10295\n",
      "epoch: 09, loss: -0.10362\n",
      "torch.Size([1024, 64])\n"
     ]
    },
    {
     "name": "stderr",
     "output_type": "stream",
     "text": [
      "  4%|▍         | 40/1000 [16:08<7:44:08, 29.01s/it]"
     ]
    },
    {
     "name": "stdout",
     "output_type": "stream",
     "text": [
      "eigenvalues shape torch.Size([5]) eigenvectors shape torch.Size([5, 1024])\n",
      "40 /home/phdcs2/Hard_Disk/Datasets/Deep-Spectral-Segmentation/data/object-segmentation/ECSSD/features/0041_resized.pth\n",
      "dict_keys(['k', 'indices', 'file', 'id', 'model_name', 'patch_size', 'shape'])\n",
      "0041_resized\n",
      "Starting Training\n",
      "epoch: 00, loss: -0.00388\n",
      "epoch: 01, loss: -0.01330\n",
      "epoch: 02, loss: -0.01488\n",
      "epoch: 03, loss: -0.01566\n",
      "epoch: 04, loss: -0.01607\n",
      "epoch: 05, loss: -0.01630\n",
      "epoch: 06, loss: -0.01643\n",
      "epoch: 07, loss: -0.01656\n",
      "epoch: 08, loss: -0.01670\n",
      "epoch: 09, loss: -0.01675\n",
      "torch.Size([1024, 64])\n"
     ]
    },
    {
     "name": "stderr",
     "output_type": "stream",
     "text": [
      "  4%|▍         | 41/1000 [16:38<7:51:52, 29.52s/it]"
     ]
    },
    {
     "name": "stdout",
     "output_type": "stream",
     "text": [
      "eigenvalues shape torch.Size([5]) eigenvectors shape torch.Size([5, 1024])\n",
      "41 /home/phdcs2/Hard_Disk/Datasets/Deep-Spectral-Segmentation/data/object-segmentation/ECSSD/features/0042_resized.pth\n",
      "dict_keys(['k', 'indices', 'file', 'id', 'model_name', 'patch_size', 'shape'])\n",
      "0042_resized\n",
      "Starting Training\n",
      "epoch: 00, loss: -0.05604\n",
      "epoch: 01, loss: -0.07521\n",
      "epoch: 02, loss: -0.07578\n",
      "epoch: 03, loss: -0.07607\n",
      "epoch: 04, loss: -0.07734\n",
      "epoch: 05, loss: -0.07802\n",
      "epoch: 06, loss: -0.07866\n",
      "epoch: 07, loss: -0.07799\n",
      "epoch: 08, loss: -0.07893\n",
      "epoch: 09, loss: -0.07839\n",
      "torch.Size([1024, 64])\n"
     ]
    },
    {
     "name": "stderr",
     "output_type": "stream",
     "text": [
      "  4%|▍         | 42/1000 [17:08<7:52:07, 29.57s/it]"
     ]
    },
    {
     "name": "stdout",
     "output_type": "stream",
     "text": [
      "eigenvalues shape torch.Size([5]) eigenvectors shape torch.Size([5, 1024])\n",
      "42 /home/phdcs2/Hard_Disk/Datasets/Deep-Spectral-Segmentation/data/object-segmentation/ECSSD/features/0043_resized.pth\n",
      "dict_keys(['k', 'indices', 'file', 'id', 'model_name', 'patch_size', 'shape'])\n",
      "0043_resized\n",
      "Starting Training\n",
      "epoch: 00, loss: -0.04660\n",
      "epoch: 01, loss: -0.06301\n",
      "epoch: 02, loss: -0.06381\n",
      "epoch: 03, loss: -0.06549\n",
      "epoch: 04, loss: -0.06727\n",
      "epoch: 05, loss: -0.06592\n",
      "epoch: 06, loss: -0.06600\n",
      "epoch: 07, loss: -0.06728\n",
      "epoch: 08, loss: -0.06679\n",
      "epoch: 09, loss: -0.06739\n",
      "torch.Size([1024, 64])\n"
     ]
    },
    {
     "name": "stderr",
     "output_type": "stream",
     "text": [
      "  4%|▍         | 43/1000 [17:38<7:54:10, 29.73s/it]"
     ]
    },
    {
     "name": "stdout",
     "output_type": "stream",
     "text": [
      "eigenvalues shape torch.Size([5]) eigenvectors shape torch.Size([5, 1024])\n",
      "43 /home/phdcs2/Hard_Disk/Datasets/Deep-Spectral-Segmentation/data/object-segmentation/ECSSD/features/0044_resized.pth\n",
      "dict_keys(['k', 'indices', 'file', 'id', 'model_name', 'patch_size', 'shape'])\n",
      "0044_resized\n",
      "Starting Training\n",
      "epoch: 00, loss: -0.02126\n",
      "epoch: 01, loss: -0.02995\n",
      "epoch: 02, loss: -0.03057\n",
      "epoch: 03, loss: -0.03088\n",
      "epoch: 04, loss: -0.03115\n",
      "epoch: 05, loss: -0.03128\n",
      "epoch: 06, loss: -0.03140\n",
      "epoch: 07, loss: -0.03150\n",
      "epoch: 08, loss: -0.03165\n",
      "epoch: 09, loss: -0.03173\n",
      "torch.Size([1024, 64])\n"
     ]
    },
    {
     "name": "stderr",
     "output_type": "stream",
     "text": [
      "  4%|▍         | 44/1000 [18:08<7:53:40, 29.73s/it]"
     ]
    },
    {
     "name": "stdout",
     "output_type": "stream",
     "text": [
      "eigenvalues shape torch.Size([5]) eigenvectors shape torch.Size([5, 1024])\n",
      "44 /home/phdcs2/Hard_Disk/Datasets/Deep-Spectral-Segmentation/data/object-segmentation/ECSSD/features/0045_resized.pth\n",
      "dict_keys(['k', 'indices', 'file', 'id', 'model_name', 'patch_size', 'shape'])\n",
      "0045_resized\n",
      "Starting Training\n",
      "epoch: 00, loss: -0.04414\n",
      "epoch: 01, loss: -0.05816\n",
      "epoch: 02, loss: -0.05848\n",
      "epoch: 03, loss: -0.05831\n",
      "epoch: 04, loss: -0.05863\n",
      "epoch: 05, loss: -0.05891\n",
      "epoch: 06, loss: -0.05890\n",
      "epoch: 07, loss: -0.05922\n",
      "epoch: 08, loss: -0.05916\n",
      "epoch: 09, loss: -0.05927\n",
      "torch.Size([1024, 64])\n"
     ]
    },
    {
     "name": "stderr",
     "output_type": "stream",
     "text": [
      "  4%|▍         | 45/1000 [18:36<7:45:29, 29.25s/it]"
     ]
    },
    {
     "name": "stdout",
     "output_type": "stream",
     "text": [
      "eigenvalues shape torch.Size([5]) eigenvectors shape torch.Size([5, 1024])\n",
      "45 /home/phdcs2/Hard_Disk/Datasets/Deep-Spectral-Segmentation/data/object-segmentation/ECSSD/features/0046_resized.pth\n",
      "dict_keys(['k', 'indices', 'file', 'id', 'model_name', 'patch_size', 'shape'])\n",
      "0046_resized\n",
      "Starting Training\n",
      "epoch: 00, loss: -0.05585\n",
      "epoch: 01, loss: -0.07073\n",
      "epoch: 02, loss: -0.07104\n",
      "epoch: 03, loss: -0.07121\n",
      "epoch: 04, loss: -0.07139\n",
      "epoch: 05, loss: -0.07148\n",
      "epoch: 06, loss: -0.07168\n",
      "epoch: 07, loss: -0.07174\n",
      "epoch: 08, loss: -0.07176\n",
      "epoch: 09, loss: -0.07192\n",
      "torch.Size([1024, 64])\n"
     ]
    },
    {
     "name": "stderr",
     "output_type": "stream",
     "text": [
      "  5%|▍         | 46/1000 [19:06<7:48:27, 29.46s/it]"
     ]
    },
    {
     "name": "stdout",
     "output_type": "stream",
     "text": [
      "eigenvalues shape torch.Size([5]) eigenvectors shape torch.Size([5, 1024])\n",
      "46 /home/phdcs2/Hard_Disk/Datasets/Deep-Spectral-Segmentation/data/object-segmentation/ECSSD/features/0047_resized.pth\n",
      "dict_keys(['k', 'indices', 'file', 'id', 'model_name', 'patch_size', 'shape'])\n",
      "0047_resized\n",
      "Starting Training\n",
      "epoch: 00, loss: -0.06523\n",
      "epoch: 01, loss: -0.07440\n",
      "epoch: 02, loss: -0.07515\n",
      "epoch: 03, loss: -0.07523\n",
      "epoch: 04, loss: -0.07547\n",
      "epoch: 05, loss: -0.07579\n",
      "epoch: 06, loss: -0.07591\n",
      "epoch: 07, loss: -0.07582\n",
      "epoch: 08, loss: -0.07610\n",
      "epoch: 09, loss: -0.07621\n",
      "torch.Size([1024, 64])\n"
     ]
    },
    {
     "name": "stderr",
     "output_type": "stream",
     "text": [
      "  5%|▍         | 47/1000 [19:35<7:45:31, 29.31s/it]"
     ]
    },
    {
     "name": "stdout",
     "output_type": "stream",
     "text": [
      "eigenvalues shape torch.Size([5]) eigenvectors shape torch.Size([5, 1024])\n",
      "47 /home/phdcs2/Hard_Disk/Datasets/Deep-Spectral-Segmentation/data/object-segmentation/ECSSD/features/0048_resized.pth\n",
      "dict_keys(['k', 'indices', 'file', 'id', 'model_name', 'patch_size', 'shape'])\n",
      "0048_resized\n",
      "Starting Training\n",
      "epoch: 00, loss: -0.05465\n",
      "epoch: 01, loss: -0.07245\n",
      "epoch: 02, loss: -0.07295\n",
      "epoch: 03, loss: -0.07496\n",
      "epoch: 04, loss: -0.07593\n",
      "epoch: 05, loss: -0.07519\n",
      "epoch: 06, loss: -0.07600\n",
      "epoch: 07, loss: -0.07554\n",
      "epoch: 08, loss: -0.07638\n",
      "epoch: 09, loss: -0.07745\n",
      "torch.Size([1024, 64])\n"
     ]
    },
    {
     "name": "stderr",
     "output_type": "stream",
     "text": [
      "  5%|▍         | 48/1000 [20:06<7:51:09, 29.70s/it]"
     ]
    },
    {
     "name": "stdout",
     "output_type": "stream",
     "text": [
      "eigenvalues shape torch.Size([5]) eigenvectors shape torch.Size([5, 1024])\n",
      "48 /home/phdcs2/Hard_Disk/Datasets/Deep-Spectral-Segmentation/data/object-segmentation/ECSSD/features/0049_resized.pth\n",
      "dict_keys(['k', 'indices', 'file', 'id', 'model_name', 'patch_size', 'shape'])\n",
      "0049_resized\n",
      "Starting Training\n",
      "epoch: 00, loss: -0.07539\n",
      "epoch: 01, loss: -0.08431\n",
      "epoch: 02, loss: -0.08447\n",
      "epoch: 03, loss: -0.08487\n",
      "epoch: 04, loss: -0.08495\n",
      "epoch: 05, loss: -0.08499\n",
      "epoch: 06, loss: -0.08507\n",
      "epoch: 07, loss: -0.08519\n",
      "epoch: 08, loss: -0.08520\n",
      "epoch: 09, loss: -0.08518\n",
      "torch.Size([1024, 64])\n"
     ]
    },
    {
     "name": "stderr",
     "output_type": "stream",
     "text": [
      "  5%|▍         | 49/1000 [20:37<8:00:00, 30.28s/it]"
     ]
    },
    {
     "name": "stdout",
     "output_type": "stream",
     "text": [
      "eigenvalues shape torch.Size([5]) eigenvectors shape torch.Size([5, 1024])\n",
      "49 /home/phdcs2/Hard_Disk/Datasets/Deep-Spectral-Segmentation/data/object-segmentation/ECSSD/features/0050_resized.pth\n",
      "dict_keys(['k', 'indices', 'file', 'id', 'model_name', 'patch_size', 'shape'])\n",
      "0050_resized\n",
      "Starting Training\n",
      "epoch: 00, loss: -0.03788\n",
      "epoch: 01, loss: -0.04959\n",
      "epoch: 02, loss: -0.05061\n",
      "epoch: 03, loss: -0.05092\n",
      "epoch: 04, loss: -0.05168\n",
      "epoch: 05, loss: -0.05147\n",
      "epoch: 06, loss: -0.05172\n",
      "epoch: 06, loss: -0.05172\n",
      "epoch: 07, loss: -0.05170\n",
      "epoch: 08, loss: -0.05155\n",
      "epoch: 09, loss: -0.05158\n",
      "torch.Size([1024, 64])\n"
     ]
    },
    {
     "name": "stderr",
     "output_type": "stream",
     "text": [
      "  5%|▌         | 50/1000 [21:10<8:09:48, 30.94s/it]"
     ]
    },
    {
     "name": "stdout",
     "output_type": "stream",
     "text": [
      "eigenvalues shape torch.Size([5]) eigenvectors shape torch.Size([5, 1024])\n",
      "50 /home/phdcs2/Hard_Disk/Datasets/Deep-Spectral-Segmentation/data/object-segmentation/ECSSD/features/0051_resized.pth\n",
      "dict_keys(['k', 'indices', 'file', 'id', 'model_name', 'patch_size', 'shape'])\n",
      "0051_resized\n",
      "Starting Training\n",
      "epoch: 00, loss: -0.08959\n",
      "epoch: 01, loss: -0.10437\n",
      "epoch: 02, loss: -0.10425\n",
      "epoch: 03, loss: -0.10491\n",
      "epoch: 04, loss: -0.10510\n",
      "epoch: 05, loss: -0.10530\n",
      "epoch: 06, loss: -0.10573\n",
      "epoch: 07, loss: -0.10702\n",
      "epoch: 08, loss: -0.10694\n",
      "epoch: 09, loss: -0.10676\n",
      "torch.Size([1024, 64])\n"
     ]
    },
    {
     "name": "stderr",
     "output_type": "stream",
     "text": [
      "  5%|▌         | 51/1000 [21:38<7:55:58, 30.09s/it]"
     ]
    },
    {
     "name": "stdout",
     "output_type": "stream",
     "text": [
      "eigenvalues shape torch.Size([5]) eigenvectors shape torch.Size([5, 1024])\n",
      "51 /home/phdcs2/Hard_Disk/Datasets/Deep-Spectral-Segmentation/data/object-segmentation/ECSSD/features/0052_resized.pth\n",
      "dict_keys(['k', 'indices', 'file', 'id', 'model_name', 'patch_size', 'shape'])\n",
      "0052_resized\n",
      "Starting Training\n",
      "epoch: 00, loss: -0.06112\n",
      "epoch: 01, loss: -0.07064\n",
      "epoch: 02, loss: -0.07121\n",
      "epoch: 03, loss: -0.07155\n",
      "epoch: 04, loss: -0.07165\n",
      "epoch: 05, loss: -0.07184\n",
      "epoch: 06, loss: -0.07185\n",
      "epoch: 07, loss: -0.07224\n",
      "epoch: 08, loss: -0.07219\n",
      "epoch: 09, loss: -0.07218\n",
      "torch.Size([1024, 64])\n"
     ]
    },
    {
     "name": "stderr",
     "output_type": "stream",
     "text": [
      "  5%|▌         | 52/1000 [22:07<7:49:21, 29.71s/it]"
     ]
    },
    {
     "name": "stdout",
     "output_type": "stream",
     "text": [
      "eigenvalues shape torch.Size([5]) eigenvectors shape torch.Size([5, 1024])\n",
      "52 /home/phdcs2/Hard_Disk/Datasets/Deep-Spectral-Segmentation/data/object-segmentation/ECSSD/features/0053_resized.pth\n",
      "dict_keys(['k', 'indices', 'file', 'id', 'model_name', 'patch_size', 'shape'])\n",
      "0053_resized\n",
      "Starting Training\n",
      "epoch: 00, loss: -0.02673\n",
      "epoch: 01, loss: -0.03958\n",
      "epoch: 02, loss: -0.04319\n",
      "epoch: 03, loss: -0.04428\n",
      "epoch: 04, loss: -0.04397\n",
      "epoch: 05, loss: -0.04359\n",
      "epoch: 06, loss: -0.04413\n",
      "epoch: 07, loss: -0.04505\n",
      "epoch: 08, loss: -0.04334\n",
      "epoch: 09, loss: -0.04602\n",
      "torch.Size([1024, 64])\n"
     ]
    },
    {
     "name": "stderr",
     "output_type": "stream",
     "text": [
      "  5%|▌         | 53/1000 [22:38<7:57:42, 30.27s/it]"
     ]
    },
    {
     "name": "stdout",
     "output_type": "stream",
     "text": [
      "eigenvalues shape torch.Size([5]) eigenvectors shape torch.Size([5, 1024])\n",
      "53 /home/phdcs2/Hard_Disk/Datasets/Deep-Spectral-Segmentation/data/object-segmentation/ECSSD/features/0054_resized.pth\n",
      "dict_keys(['k', 'indices', 'file', 'id', 'model_name', 'patch_size', 'shape'])\n",
      "0054_resized\n",
      "Starting Training\n",
      "epoch: 00, loss: -0.04238\n",
      "epoch: 01, loss: -0.05524\n",
      "epoch: 02, loss: -0.05775\n",
      "epoch: 03, loss: -0.05748\n",
      "epoch: 04, loss: -0.05734\n",
      "epoch: 05, loss: -0.05832\n",
      "epoch: 06, loss: -0.05821\n",
      "epoch: 07, loss: -0.05873\n",
      "epoch: 08, loss: -0.05942\n",
      "epoch: 09, loss: -0.05863\n",
      "torch.Size([1024, 64])\n"
     ]
    },
    {
     "name": "stderr",
     "output_type": "stream",
     "text": [
      "  5%|▌         | 54/1000 [23:02<7:28:07, 28.42s/it]"
     ]
    },
    {
     "name": "stdout",
     "output_type": "stream",
     "text": [
      "eigenvalues shape torch.Size([5]) eigenvectors shape torch.Size([5, 1024])\n",
      "54 /home/phdcs2/Hard_Disk/Datasets/Deep-Spectral-Segmentation/data/object-segmentation/ECSSD/features/0055_resized.pth\n",
      "dict_keys(['k', 'indices', 'file', 'id', 'model_name', 'patch_size', 'shape'])\n",
      "0055_resized\n",
      "Starting Training\n",
      "epoch: 00, loss: -0.10659\n",
      "epoch: 01, loss: -0.12285\n",
      "epoch: 02, loss: -0.12335\n",
      "epoch: 03, loss: -0.12482\n",
      "epoch: 04, loss: -0.12426\n",
      "epoch: 05, loss: -0.12476\n",
      "epoch: 06, loss: -0.12589\n",
      "epoch: 07, loss: -0.12602\n",
      "epoch: 08, loss: -0.12649\n",
      "epoch: 09, loss: -0.12573\n",
      "torch.Size([1024, 64])\n"
     ]
    },
    {
     "name": "stderr",
     "output_type": "stream",
     "text": [
      "  6%|▌         | 55/1000 [23:30<7:26:25, 28.34s/it]"
     ]
    },
    {
     "name": "stdout",
     "output_type": "stream",
     "text": [
      "eigenvalues shape torch.Size([5]) eigenvectors shape torch.Size([5, 1024])\n",
      "55 /home/phdcs2/Hard_Disk/Datasets/Deep-Spectral-Segmentation/data/object-segmentation/ECSSD/features/0056_resized.pth\n",
      "dict_keys(['k', 'indices', 'file', 'id', 'model_name', 'patch_size', 'shape'])\n",
      "0056_resized\n",
      "Starting Training\n",
      "epoch: 00, loss: -0.03426\n",
      "epoch: 01, loss: -0.04262\n",
      "epoch: 02, loss: -0.04301\n",
      "epoch: 03, loss: -0.04350\n",
      "epoch: 04, loss: -0.04348\n",
      "epoch: 05, loss: -0.04377\n",
      "epoch: 06, loss: -0.04388\n",
      "epoch: 07, loss: -0.04380\n",
      "epoch: 08, loss: -0.04395\n",
      "epoch: 09, loss: -0.04402\n",
      "torch.Size([1024, 64])\n"
     ]
    },
    {
     "name": "stderr",
     "output_type": "stream",
     "text": [
      "  6%|▌         | 56/1000 [24:00<7:32:08, 28.74s/it]"
     ]
    },
    {
     "name": "stdout",
     "output_type": "stream",
     "text": [
      "eigenvalues shape torch.Size([5]) eigenvectors shape torch.Size([5, 1024])\n",
      "56 /home/phdcs2/Hard_Disk/Datasets/Deep-Spectral-Segmentation/data/object-segmentation/ECSSD/features/0057_resized.pth\n",
      "dict_keys(['k', 'indices', 'file', 'id', 'model_name', 'patch_size', 'shape'])\n",
      "0057_resized\n",
      "Starting Training\n",
      "epoch: 00, loss: -0.06298\n",
      "epoch: 01, loss: -0.07571\n",
      "epoch: 02, loss: -0.07624\n",
      "epoch: 03, loss: -0.07667\n",
      "epoch: 04, loss: -0.07656\n",
      "epoch: 05, loss: -0.07681\n",
      "epoch: 06, loss: -0.07686\n",
      "epoch: 07, loss: -0.07697\n",
      "epoch: 08, loss: -0.07688\n",
      "epoch: 09, loss: -0.07700\n",
      "torch.Size([1024, 64])\n"
     ]
    },
    {
     "name": "stderr",
     "output_type": "stream",
     "text": [
      "  6%|▌         | 57/1000 [24:29<7:31:30, 28.73s/it]"
     ]
    },
    {
     "name": "stdout",
     "output_type": "stream",
     "text": [
      "eigenvalues shape torch.Size([5]) eigenvectors shape torch.Size([5, 1024])\n",
      "57 /home/phdcs2/Hard_Disk/Datasets/Deep-Spectral-Segmentation/data/object-segmentation/ECSSD/features/0058_resized.pth\n",
      "dict_keys(['k', 'indices', 'file', 'id', 'model_name', 'patch_size', 'shape'])\n",
      "0058_resized\n",
      "Starting Training\n",
      "epoch: 00, loss: -0.05101\n",
      "epoch: 01, loss: -0.06031\n",
      "epoch: 02, loss: -0.06131\n",
      "epoch: 03, loss: -0.06279\n",
      "epoch: 04, loss: -0.06185\n",
      "epoch: 05, loss: -0.06282\n",
      "epoch: 06, loss: -0.06183\n",
      "epoch: 07, loss: -0.06260\n",
      "epoch: 08, loss: -0.06267\n",
      "epoch: 09, loss: -0.06364\n",
      "torch.Size([1024, 64])\n"
     ]
    },
    {
     "name": "stderr",
     "output_type": "stream",
     "text": [
      "  6%|▌         | 58/1000 [24:58<7:33:08, 28.86s/it]"
     ]
    },
    {
     "name": "stdout",
     "output_type": "stream",
     "text": [
      "eigenvalues shape torch.Size([5]) eigenvectors shape torch.Size([5, 1024])\n",
      "58 /home/phdcs2/Hard_Disk/Datasets/Deep-Spectral-Segmentation/data/object-segmentation/ECSSD/features/0059_resized.pth\n",
      "dict_keys(['k', 'indices', 'file', 'id', 'model_name', 'patch_size', 'shape'])\n",
      "0059_resized\n",
      "Starting Training\n",
      "epoch: 00, loss: -0.04584\n",
      "epoch: 01, loss: -0.05787\n",
      "epoch: 02, loss: -0.05844\n",
      "epoch: 03, loss: -0.05893\n",
      "epoch: 04, loss: -0.05890\n",
      "epoch: 05, loss: -0.05913\n",
      "epoch: 06, loss: -0.05930\n",
      "epoch: 07, loss: -0.05949\n",
      "epoch: 08, loss: -0.05951\n",
      "epoch: 09, loss: -0.05966\n",
      "torch.Size([1024, 64])\n"
     ]
    },
    {
     "name": "stderr",
     "output_type": "stream",
     "text": [
      "  6%|▌         | 59/1000 [25:25<7:23:33, 28.28s/it]"
     ]
    },
    {
     "name": "stdout",
     "output_type": "stream",
     "text": [
      "eigenvalues shape torch.Size([5]) eigenvectors shape torch.Size([5, 1024])\n",
      "59 /home/phdcs2/Hard_Disk/Datasets/Deep-Spectral-Segmentation/data/object-segmentation/ECSSD/features/0060_resized.pth\n",
      "dict_keys(['k', 'indices', 'file', 'id', 'model_name', 'patch_size', 'shape'])\n",
      "0060_resized\n",
      "Starting Training\n",
      "epoch: 00, loss: -0.09038\n",
      "epoch: 01, loss: -0.10063\n",
      "epoch: 02, loss: -0.10092\n",
      "epoch: 03, loss: -0.10130\n",
      "epoch: 04, loss: -0.10138\n",
      "epoch: 05, loss: -0.10136\n",
      "epoch: 06, loss: -0.10173\n",
      "epoch: 07, loss: -0.10187\n",
      "epoch: 08, loss: -0.10176\n",
      "epoch: 09, loss: -0.10190\n",
      "torch.Size([1024, 64])\n"
     ]
    },
    {
     "name": "stderr",
     "output_type": "stream",
     "text": [
      "  6%|▌         | 60/1000 [25:54<7:25:16, 28.42s/it]"
     ]
    },
    {
     "name": "stdout",
     "output_type": "stream",
     "text": [
      "eigenvalues shape torch.Size([5]) eigenvectors shape torch.Size([5, 1024])\n",
      "60 /home/phdcs2/Hard_Disk/Datasets/Deep-Spectral-Segmentation/data/object-segmentation/ECSSD/features/0061_resized.pth\n",
      "dict_keys(['k', 'indices', 'file', 'id', 'model_name', 'patch_size', 'shape'])\n",
      "0061_resized\n",
      "Starting Training\n",
      "epoch: 00, loss: -0.07504\n",
      "epoch: 01, loss: -0.09087\n",
      "epoch: 02, loss: -0.09323\n",
      "epoch: 03, loss: -0.09424\n",
      "epoch: 04, loss: -0.09444\n",
      "epoch: 05, loss: -0.09555\n",
      "epoch: 06, loss: -0.09671\n",
      "epoch: 07, loss: -0.09687\n",
      "epoch: 08, loss: -0.09533\n",
      "epoch: 09, loss: -0.09687\n",
      "torch.Size([1024, 64])\n"
     ]
    },
    {
     "name": "stderr",
     "output_type": "stream",
     "text": [
      "  6%|▌         | 61/1000 [26:22<7:22:37, 28.28s/it]"
     ]
    },
    {
     "name": "stdout",
     "output_type": "stream",
     "text": [
      "eigenvalues shape torch.Size([5]) eigenvectors shape torch.Size([5, 1024])\n",
      "61 /home/phdcs2/Hard_Disk/Datasets/Deep-Spectral-Segmentation/data/object-segmentation/ECSSD/features/0062_resized.pth\n",
      "dict_keys(['k', 'indices', 'file', 'id', 'model_name', 'patch_size', 'shape'])\n",
      "0062_resized\n",
      "Starting Training\n",
      "epoch: 00, loss: -0.05065\n",
      "epoch: 01, loss: -0.06094\n",
      "epoch: 02, loss: -0.06291\n",
      "epoch: 03, loss: -0.06279\n",
      "epoch: 04, loss: -0.06419\n",
      "epoch: 05, loss: -0.06345\n",
      "epoch: 06, loss: -0.06304\n",
      "epoch: 07, loss: -0.06419\n",
      "epoch: 08, loss: -0.06455\n",
      "epoch: 09, loss: -0.06450\n",
      "torch.Size([1024, 64])\n"
     ]
    },
    {
     "name": "stderr",
     "output_type": "stream",
     "text": [
      "  6%|▌         | 62/1000 [26:48<7:15:09, 27.84s/it]"
     ]
    },
    {
     "name": "stdout",
     "output_type": "stream",
     "text": [
      "eigenvalues shape torch.Size([5]) eigenvectors shape torch.Size([5, 1024])\n",
      "62 /home/phdcs2/Hard_Disk/Datasets/Deep-Spectral-Segmentation/data/object-segmentation/ECSSD/features/0063_resized.pth\n",
      "dict_keys(['k', 'indices', 'file', 'id', 'model_name', 'patch_size', 'shape'])\n",
      "0063_resized\n",
      "Starting Training\n",
      "epoch: 00, loss: -0.05826\n",
      "epoch: 01, loss: -0.07221\n",
      "epoch: 02, loss: -0.07294\n",
      "epoch: 03, loss: -0.07445\n",
      "epoch: 04, loss: -0.07391\n",
      "epoch: 05, loss: -0.07453\n",
      "epoch: 06, loss: -0.07412\n",
      "epoch: 07, loss: -0.07508\n",
      "epoch: 08, loss: -0.07506\n",
      "epoch: 09, loss: -0.07431\n",
      "torch.Size([1024, 64])\n"
     ]
    },
    {
     "name": "stderr",
     "output_type": "stream",
     "text": [
      "  6%|▋         | 63/1000 [27:15<7:10:05, 27.54s/it]"
     ]
    },
    {
     "name": "stdout",
     "output_type": "stream",
     "text": [
      "eigenvalues shape torch.Size([5]) eigenvectors shape torch.Size([5, 1024])\n",
      "63 /home/phdcs2/Hard_Disk/Datasets/Deep-Spectral-Segmentation/data/object-segmentation/ECSSD/features/0064_resized.pth\n",
      "dict_keys(['k', 'indices', 'file', 'id', 'model_name', 'patch_size', 'shape'])\n",
      "0064_resized\n",
      "Starting Training\n",
      "epoch: 00, loss: -0.05097\n",
      "epoch: 01, loss: -0.05940\n",
      "epoch: 02, loss: -0.06019\n",
      "epoch: 03, loss: -0.06009\n",
      "epoch: 04, loss: -0.06037\n",
      "epoch: 05, loss: -0.06053\n",
      "epoch: 06, loss: -0.06065\n",
      "epoch: 07, loss: -0.06071\n",
      "epoch: 08, loss: -0.06089\n",
      "epoch: 09, loss: -0.06073\n",
      "torch.Size([1024, 64])\n"
     ]
    },
    {
     "name": "stderr",
     "output_type": "stream",
     "text": [
      "  6%|▋         | 64/1000 [27:41<7:01:47, 27.04s/it]"
     ]
    },
    {
     "name": "stdout",
     "output_type": "stream",
     "text": [
      "eigenvalues shape torch.Size([5]) eigenvectors shape torch.Size([5, 1024])\n",
      "64 /home/phdcs2/Hard_Disk/Datasets/Deep-Spectral-Segmentation/data/object-segmentation/ECSSD/features/0065_resized.pth\n",
      "dict_keys(['k', 'indices', 'file', 'id', 'model_name', 'patch_size', 'shape'])\n",
      "0065_resized\n",
      "Starting Training\n",
      "epoch: 00, loss: -0.02090\n",
      "epoch: 01, loss: -0.03151\n",
      "epoch: 02, loss: -0.03194\n",
      "epoch: 03, loss: -0.03248\n",
      "epoch: 04, loss: -0.03244\n",
      "epoch: 05, loss: -0.03273\n",
      "epoch: 06, loss: -0.03290\n",
      "epoch: 07, loss: -0.03288\n",
      "epoch: 08, loss: -0.03316\n",
      "epoch: 09, loss: -0.03295\n",
      "torch.Size([1024, 64])\n"
     ]
    },
    {
     "name": "stderr",
     "output_type": "stream",
     "text": [
      "  6%|▋         | 65/1000 [28:10<7:10:22, 27.62s/it]"
     ]
    },
    {
     "name": "stdout",
     "output_type": "stream",
     "text": [
      "eigenvalues shape torch.Size([5]) eigenvectors shape torch.Size([5, 1024])\n",
      "65 /home/phdcs2/Hard_Disk/Datasets/Deep-Spectral-Segmentation/data/object-segmentation/ECSSD/features/0066_resized.pth\n",
      "dict_keys(['k', 'indices', 'file', 'id', 'model_name', 'patch_size', 'shape'])\n",
      "0066_resized\n",
      "Starting Training\n",
      "epoch: 00, loss: -0.04909\n",
      "epoch: 01, loss: -0.06054\n",
      "epoch: 02, loss: -0.05973\n",
      "epoch: 03, loss: -0.05990\n",
      "epoch: 04, loss: -0.06075\n",
      "epoch: 05, loss: -0.06062\n",
      "epoch: 06, loss: -0.06102\n",
      "epoch: 07, loss: -0.06087\n",
      "epoch: 08, loss: -0.06114\n",
      "epoch: 09, loss: -0.06143\n",
      "torch.Size([1024, 64])\n"
     ]
    },
    {
     "name": "stderr",
     "output_type": "stream",
     "text": [
      "  7%|▋         | 66/1000 [28:37<7:05:28, 27.33s/it]"
     ]
    },
    {
     "name": "stdout",
     "output_type": "stream",
     "text": [
      "eigenvalues shape torch.Size([5]) eigenvectors shape torch.Size([5, 1024])\n",
      "66 /home/phdcs2/Hard_Disk/Datasets/Deep-Spectral-Segmentation/data/object-segmentation/ECSSD/features/0067_resized.pth\n",
      "dict_keys(['k', 'indices', 'file', 'id', 'model_name', 'patch_size', 'shape'])\n",
      "0067_resized\n",
      "Starting Training\n",
      "epoch: 00, loss: -0.05404\n",
      "epoch: 01, loss: -0.07327\n",
      "epoch: 02, loss: -0.07396\n",
      "epoch: 03, loss: -0.07472\n",
      "epoch: 04, loss: -0.07678\n",
      "epoch: 05, loss: -0.07559\n",
      "epoch: 06, loss: -0.07698\n",
      "epoch: 07, loss: -0.07601\n",
      "epoch: 08, loss: -0.07772\n",
      "epoch: 09, loss: -0.07721\n",
      "torch.Size([1024, 64])\n"
     ]
    },
    {
     "name": "stderr",
     "output_type": "stream",
     "text": [
      "  7%|▋         | 67/1000 [29:02<6:56:52, 26.81s/it]"
     ]
    },
    {
     "name": "stdout",
     "output_type": "stream",
     "text": [
      "eigenvalues shape torch.Size([5]) eigenvectors shape torch.Size([5, 1024])\n",
      "67 /home/phdcs2/Hard_Disk/Datasets/Deep-Spectral-Segmentation/data/object-segmentation/ECSSD/features/0068_resized.pth\n",
      "dict_keys(['k', 'indices', 'file', 'id', 'model_name', 'patch_size', 'shape'])\n",
      "0068_resized\n",
      "Starting Training\n",
      "epoch: 00, loss: -0.03967\n",
      "epoch: 01, loss: -0.05034\n",
      "epoch: 02, loss: -0.05068\n",
      "epoch: 03, loss: -0.05135\n",
      "epoch: 04, loss: -0.05136\n",
      "epoch: 05, loss: -0.05150\n",
      "epoch: 06, loss: -0.05175\n",
      "epoch: 07, loss: -0.05180\n",
      "epoch: 08, loss: -0.05183\n",
      "epoch: 09, loss: -0.05197\n",
      "torch.Size([1024, 64])\n"
     ]
    },
    {
     "name": "stderr",
     "output_type": "stream",
     "text": [
      "  7%|▋         | 68/1000 [29:30<7:01:27, 27.13s/it]"
     ]
    },
    {
     "name": "stdout",
     "output_type": "stream",
     "text": [
      "eigenvalues shape torch.Size([5]) eigenvectors shape torch.Size([5, 1024])\n",
      "68 /home/phdcs2/Hard_Disk/Datasets/Deep-Spectral-Segmentation/data/object-segmentation/ECSSD/features/0069_resized.pth\n",
      "dict_keys(['k', 'indices', 'file', 'id', 'model_name', 'patch_size', 'shape'])\n",
      "0069_resized\n",
      "Starting Training\n",
      "epoch: 00, loss: -0.07448\n",
      "epoch: 01, loss: -0.08162\n",
      "epoch: 02, loss: -0.08172\n",
      "epoch: 03, loss: -0.08207\n",
      "epoch: 04, loss: -0.08239\n",
      "epoch: 05, loss: -0.08269\n",
      "epoch: 06, loss: -0.08263\n",
      "epoch: 07, loss: -0.08279\n",
      "epoch: 08, loss: -0.08295\n",
      "epoch: 09, loss: -0.08280\n",
      "torch.Size([1024, 64])\n"
     ]
    },
    {
     "name": "stderr",
     "output_type": "stream",
     "text": [
      "  7%|▋         | 69/1000 [29:57<7:00:59, 27.13s/it]"
     ]
    },
    {
     "name": "stdout",
     "output_type": "stream",
     "text": [
      "eigenvalues shape torch.Size([5]) eigenvectors shape torch.Size([5, 1024])\n",
      "69 /home/phdcs2/Hard_Disk/Datasets/Deep-Spectral-Segmentation/data/object-segmentation/ECSSD/features/0070_resized.pth\n",
      "dict_keys(['k', 'indices', 'file', 'id', 'model_name', 'patch_size', 'shape'])\n",
      "0070_resized\n",
      "Starting Training\n",
      "epoch: 00, loss: -0.05375\n",
      "epoch: 01, loss: -0.06318\n",
      "epoch: 02, loss: -0.06620\n",
      "epoch: 03, loss: -0.06633\n",
      "epoch: 04, loss: -0.06601\n",
      "epoch: 05, loss: -0.06606\n",
      "epoch: 06, loss: -0.06699\n",
      "epoch: 07, loss: -0.06800\n",
      "epoch: 08, loss: -0.06771\n",
      "epoch: 09, loss: -0.06726\n",
      "torch.Size([1024, 64])\n"
     ]
    },
    {
     "name": "stderr",
     "output_type": "stream",
     "text": [
      "  7%|▋         | 70/1000 [30:25<7:02:07, 27.23s/it]"
     ]
    },
    {
     "name": "stdout",
     "output_type": "stream",
     "text": [
      "eigenvalues shape torch.Size([5]) eigenvectors shape torch.Size([5, 1024])\n",
      "70 /home/phdcs2/Hard_Disk/Datasets/Deep-Spectral-Segmentation/data/object-segmentation/ECSSD/features/0071_resized.pth\n",
      "dict_keys(['k', 'indices', 'file', 'id', 'model_name', 'patch_size', 'shape'])\n",
      "0071_resized\n",
      "Starting Training\n",
      "epoch: 00, loss: -0.05206\n",
      "epoch: 01, loss: -0.06389\n",
      "epoch: 02, loss: -0.06708\n",
      "epoch: 03, loss: -0.06537\n",
      "epoch: 04, loss: -0.06653\n",
      "epoch: 05, loss: -0.06585\n",
      "epoch: 06, loss: -0.06561\n",
      "epoch: 07, loss: -0.06710\n",
      "epoch: 08, loss: -0.06696\n",
      "epoch: 09, loss: -0.06717\n",
      "torch.Size([1024, 64])\n"
     ]
    },
    {
     "name": "stderr",
     "output_type": "stream",
     "text": [
      "  7%|▋         | 71/1000 [30:52<7:03:06, 27.33s/it]"
     ]
    },
    {
     "name": "stdout",
     "output_type": "stream",
     "text": [
      "eigenvalues shape torch.Size([5]) eigenvectors shape torch.Size([5, 1024])\n",
      "71 /home/phdcs2/Hard_Disk/Datasets/Deep-Spectral-Segmentation/data/object-segmentation/ECSSD/features/0072_resized.pth\n",
      "dict_keys(['k', 'indices', 'file', 'id', 'model_name', 'patch_size', 'shape'])\n",
      "0072_resized\n",
      "Starting Training\n",
      "epoch: 00, loss: -0.05696\n",
      "epoch: 01, loss: -0.06757\n",
      "epoch: 02, loss: -0.06771\n",
      "epoch: 03, loss: -0.06792\n",
      "epoch: 04, loss: -0.06831\n",
      "epoch: 05, loss: -0.06835\n",
      "epoch: 06, loss: -0.06845\n",
      "epoch: 07, loss: -0.06852\n",
      "epoch: 08, loss: -0.06854\n",
      "epoch: 09, loss: -0.06874\n",
      "torch.Size([1024, 64])\n"
     ]
    },
    {
     "name": "stderr",
     "output_type": "stream",
     "text": [
      "  7%|▋         | 72/1000 [31:19<7:01:42, 27.27s/it]"
     ]
    },
    {
     "name": "stdout",
     "output_type": "stream",
     "text": [
      "eigenvalues shape torch.Size([5]) eigenvectors shape torch.Size([5, 1024])\n",
      "72 /home/phdcs2/Hard_Disk/Datasets/Deep-Spectral-Segmentation/data/object-segmentation/ECSSD/features/0073_resized.pth\n",
      "dict_keys(['k', 'indices', 'file', 'id', 'model_name', 'patch_size', 'shape'])\n",
      "0073_resized\n",
      "Starting Training\n",
      "epoch: 00, loss: -0.04892\n",
      "epoch: 01, loss: -0.06211\n",
      "epoch: 02, loss: -0.06391\n",
      "epoch: 03, loss: -0.06344\n",
      "epoch: 04, loss: -0.06371\n",
      "epoch: 05, loss: -0.06407\n",
      "epoch: 06, loss: -0.06470\n",
      "epoch: 07, loss: -0.06443\n",
      "epoch: 08, loss: -0.06416\n",
      "epoch: 09, loss: -0.06365\n",
      "torch.Size([1024, 64])\n"
     ]
    },
    {
     "name": "stderr",
     "output_type": "stream",
     "text": [
      "  7%|▋         | 73/1000 [31:46<6:56:31, 26.96s/it]"
     ]
    },
    {
     "name": "stdout",
     "output_type": "stream",
     "text": [
      "eigenvalues shape torch.Size([5]) eigenvectors shape torch.Size([5, 1024])\n",
      "73 /home/phdcs2/Hard_Disk/Datasets/Deep-Spectral-Segmentation/data/object-segmentation/ECSSD/features/0074_resized.pth\n",
      "dict_keys(['k', 'indices', 'file', 'id', 'model_name', 'patch_size', 'shape'])\n",
      "0074_resized\n",
      "Starting Training\n",
      "epoch: 00, loss: -0.01888\n",
      "epoch: 01, loss: -0.02620\n",
      "epoch: 02, loss: -0.02780\n",
      "epoch: 03, loss: -0.02766\n",
      "epoch: 04, loss: -0.02795\n",
      "epoch: 05, loss: -0.02814\n",
      "epoch: 06, loss: -0.02848\n",
      "epoch: 07, loss: -0.02798\n",
      "epoch: 08, loss: -0.02906\n",
      "epoch: 09, loss: -0.02882\n",
      "torch.Size([1024, 64])\n"
     ]
    },
    {
     "name": "stderr",
     "output_type": "stream",
     "text": [
      "  7%|▋         | 74/1000 [32:13<6:59:41, 27.19s/it]"
     ]
    },
    {
     "name": "stdout",
     "output_type": "stream",
     "text": [
      "eigenvalues shape torch.Size([5]) eigenvectors shape torch.Size([5, 1024])\n",
      "74 /home/phdcs2/Hard_Disk/Datasets/Deep-Spectral-Segmentation/data/object-segmentation/ECSSD/features/0075_resized.pth\n",
      "dict_keys(['k', 'indices', 'file', 'id', 'model_name', 'patch_size', 'shape'])\n",
      "0075_resized\n",
      "Starting Training\n",
      "epoch: 00, loss: -0.07057\n",
      "epoch: 01, loss: -0.09205\n",
      "epoch: 02, loss: -0.09296\n",
      "epoch: 03, loss: -0.09424\n",
      "epoch: 04, loss: -0.09429\n",
      "epoch: 05, loss: -0.09594\n",
      "epoch: 06, loss: -0.09444\n",
      "epoch: 07, loss: -0.09561\n",
      "epoch: 08, loss: -0.09558\n",
      "epoch: 09, loss: -0.09600\n",
      "torch.Size([1024, 64])\n"
     ]
    },
    {
     "name": "stderr",
     "output_type": "stream",
     "text": [
      "  8%|▊         | 75/1000 [32:41<7:00:56, 27.30s/it]"
     ]
    },
    {
     "name": "stdout",
     "output_type": "stream",
     "text": [
      "eigenvalues shape torch.Size([5]) eigenvectors shape torch.Size([5, 1024])\n",
      "75 /home/phdcs2/Hard_Disk/Datasets/Deep-Spectral-Segmentation/data/object-segmentation/ECSSD/features/0076_resized.pth\n",
      "dict_keys(['k', 'indices', 'file', 'id', 'model_name', 'patch_size', 'shape'])\n",
      "0076_resized\n",
      "Starting Training\n",
      "epoch: 00, loss: -0.05508\n",
      "epoch: 01, loss: -0.06468\n",
      "epoch: 02, loss: -0.06581\n",
      "epoch: 03, loss: -0.06578\n",
      "epoch: 04, loss: -0.06627\n",
      "epoch: 05, loss: -0.06571\n",
      "epoch: 06, loss: -0.06616\n",
      "epoch: 07, loss: -0.06650\n",
      "epoch: 08, loss: -0.06650\n",
      "epoch: 09, loss: -0.06617\n",
      "torch.Size([1024, 64])\n"
     ]
    },
    {
     "name": "stderr",
     "output_type": "stream",
     "text": [
      "  8%|▊         | 76/1000 [33:08<7:00:10, 27.28s/it]"
     ]
    },
    {
     "name": "stdout",
     "output_type": "stream",
     "text": [
      "eigenvalues shape torch.Size([5]) eigenvectors shape torch.Size([5, 1024])\n",
      "76 /home/phdcs2/Hard_Disk/Datasets/Deep-Spectral-Segmentation/data/object-segmentation/ECSSD/features/0077_resized.pth\n",
      "dict_keys(['k', 'indices', 'file', 'id', 'model_name', 'patch_size', 'shape'])\n",
      "0077_resized\n",
      "Starting Training\n",
      "epoch: 00, loss: -0.05978\n",
      "epoch: 01, loss: -0.07146\n",
      "epoch: 02, loss: -0.07162\n",
      "epoch: 03, loss: -0.07180\n",
      "epoch: 04, loss: -0.07200\n",
      "epoch: 05, loss: -0.07216\n",
      "epoch: 06, loss: -0.07227\n",
      "epoch: 07, loss: -0.07221\n",
      "epoch: 08, loss: -0.07229\n",
      "epoch: 09, loss: -0.07248\n",
      "torch.Size([1024, 64])\n"
     ]
    },
    {
     "name": "stderr",
     "output_type": "stream",
     "text": [
      "  8%|▊         | 77/1000 [33:36<7:02:41, 27.48s/it]"
     ]
    },
    {
     "name": "stdout",
     "output_type": "stream",
     "text": [
      "eigenvalues shape torch.Size([5]) eigenvectors shape torch.Size([5, 1024])\n",
      "77 /home/phdcs2/Hard_Disk/Datasets/Deep-Spectral-Segmentation/data/object-segmentation/ECSSD/features/0078_resized.pth\n",
      "dict_keys(['k', 'indices', 'file', 'id', 'model_name', 'patch_size', 'shape'])\n",
      "0078_resized\n",
      "Starting Training\n",
      "epoch: 00, loss: -0.07600\n",
      "epoch: 01, loss: -0.09085\n",
      "epoch: 02, loss: -0.09262\n",
      "epoch: 03, loss: -0.09491\n",
      "epoch: 04, loss: -0.09484\n",
      "epoch: 05, loss: -0.09464\n",
      "epoch: 06, loss: -0.09541\n",
      "epoch: 07, loss: -0.09549\n",
      "epoch: 08, loss: -0.09623\n",
      "epoch: 09, loss: -0.09565\n",
      "torch.Size([1024, 64])\n"
     ]
    },
    {
     "name": "stderr",
     "output_type": "stream",
     "text": [
      "  8%|▊         | 78/1000 [34:03<6:58:09, 27.21s/it]"
     ]
    },
    {
     "name": "stdout",
     "output_type": "stream",
     "text": [
      "eigenvalues shape torch.Size([5]) eigenvectors shape torch.Size([5, 1024])\n",
      "78 /home/phdcs2/Hard_Disk/Datasets/Deep-Spectral-Segmentation/data/object-segmentation/ECSSD/features/0079_resized.pth\n",
      "dict_keys(['k', 'indices', 'file', 'id', 'model_name', 'patch_size', 'shape'])\n",
      "0079_resized\n",
      "Starting Training\n",
      "epoch: 00, loss: -0.05900\n",
      "epoch: 01, loss: -0.06903\n",
      "epoch: 02, loss: -0.06938\n",
      "epoch: 03, loss: -0.06940\n",
      "epoch: 04, loss: -0.07031\n",
      "epoch: 05, loss: -0.06996\n",
      "epoch: 06, loss: -0.07023\n",
      "epoch: 07, loss: -0.07023\n",
      "epoch: 08, loss: -0.07084\n",
      "epoch: 09, loss: -0.07004\n",
      "torch.Size([1024, 64])\n"
     ]
    },
    {
     "name": "stderr",
     "output_type": "stream",
     "text": [
      "  8%|▊         | 79/1000 [34:29<6:52:29, 26.87s/it]"
     ]
    },
    {
     "name": "stdout",
     "output_type": "stream",
     "text": [
      "eigenvalues shape torch.Size([5]) eigenvectors shape torch.Size([5, 1024])\n",
      "79 /home/phdcs2/Hard_Disk/Datasets/Deep-Spectral-Segmentation/data/object-segmentation/ECSSD/features/0080_resized.pth\n",
      "dict_keys(['k', 'indices', 'file', 'id', 'model_name', 'patch_size', 'shape'])\n",
      "0080_resized\n",
      "Starting Training\n",
      "epoch: 00, loss: -0.01665\n",
      "epoch: 01, loss: -0.02802\n",
      "epoch: 02, loss: -0.02911\n",
      "epoch: 03, loss: -0.02950\n",
      "epoch: 04, loss: -0.02989\n",
      "epoch: 05, loss: -0.03010\n",
      "epoch: 06, loss: -0.03016\n",
      "epoch: 07, loss: -0.03030\n",
      "epoch: 08, loss: -0.03041\n",
      "epoch: 09, loss: -0.03052\n",
      "torch.Size([1024, 64])\n"
     ]
    },
    {
     "name": "stderr",
     "output_type": "stream",
     "text": [
      "  8%|▊         | 80/1000 [34:55<6:49:17, 26.69s/it]"
     ]
    },
    {
     "name": "stdout",
     "output_type": "stream",
     "text": [
      "eigenvalues shape torch.Size([5]) eigenvectors shape torch.Size([5, 1024])\n",
      "80 /home/phdcs2/Hard_Disk/Datasets/Deep-Spectral-Segmentation/data/object-segmentation/ECSSD/features/0081_resized.pth\n",
      "dict_keys(['k', 'indices', 'file', 'id', 'model_name', 'patch_size', 'shape'])\n",
      "0081_resized\n",
      "Starting Training\n",
      "epoch: 00, loss: -0.05731\n",
      "epoch: 01, loss: -0.06791\n",
      "epoch: 02, loss: -0.06827\n",
      "epoch: 03, loss: -0.06835\n",
      "epoch: 04, loss: -0.06862\n",
      "epoch: 05, loss: -0.06855\n",
      "epoch: 06, loss: -0.06869\n",
      "epoch: 07, loss: -0.06884\n",
      "epoch: 08, loss: -0.06887\n",
      "epoch: 09, loss: -0.06894\n",
      "torch.Size([1024, 64])\n"
     ]
    },
    {
     "name": "stderr",
     "output_type": "stream",
     "text": [
      "  8%|▊         | 81/1000 [35:20<6:42:14, 26.26s/it]"
     ]
    },
    {
     "name": "stdout",
     "output_type": "stream",
     "text": [
      "eigenvalues shape torch.Size([5]) eigenvectors shape torch.Size([5, 1024])\n",
      "81 /home/phdcs2/Hard_Disk/Datasets/Deep-Spectral-Segmentation/data/object-segmentation/ECSSD/features/0082_resized.pth\n",
      "dict_keys(['k', 'indices', 'file', 'id', 'model_name', 'patch_size', 'shape'])\n",
      "0082_resized\n",
      "Starting Training\n",
      "epoch: 00, loss: -0.02298\n",
      "epoch: 01, loss: -0.03561\n",
      "epoch: 02, loss: -0.03560\n",
      "epoch: 03, loss: -0.03573\n",
      "epoch: 04, loss: -0.03597\n",
      "epoch: 05, loss: -0.03634\n",
      "epoch: 06, loss: -0.03667\n",
      "epoch: 07, loss: -0.03688\n",
      "epoch: 08, loss: -0.03679\n",
      "epoch: 09, loss: -0.03681\n",
      "torch.Size([1024, 64])\n"
     ]
    },
    {
     "name": "stderr",
     "output_type": "stream",
     "text": [
      "  8%|▊         | 82/1000 [35:48<6:45:59, 26.54s/it]"
     ]
    },
    {
     "name": "stdout",
     "output_type": "stream",
     "text": [
      "eigenvalues shape torch.Size([5]) eigenvectors shape torch.Size([5, 1024])\n",
      "82 /home/phdcs2/Hard_Disk/Datasets/Deep-Spectral-Segmentation/data/object-segmentation/ECSSD/features/0083_resized.pth\n",
      "dict_keys(['k', 'indices', 'file', 'id', 'model_name', 'patch_size', 'shape'])\n",
      "0083_resized\n",
      "Starting Training\n",
      "epoch: 00, loss: -0.06126\n",
      "epoch: 01, loss: -0.07642\n",
      "epoch: 02, loss: -0.08002\n",
      "epoch: 03, loss: -0.08021\n",
      "epoch: 04, loss: -0.07892\n",
      "epoch: 05, loss: -0.08099\n",
      "epoch: 06, loss: -0.08142\n",
      "epoch: 07, loss: -0.08030\n",
      "epoch: 08, loss: -0.08225\n",
      "epoch: 09, loss: -0.08161\n",
      "torch.Size([1024, 64])\n"
     ]
    },
    {
     "name": "stderr",
     "output_type": "stream",
     "text": [
      "  8%|▊         | 83/1000 [36:14<6:46:37, 26.61s/it]"
     ]
    },
    {
     "name": "stdout",
     "output_type": "stream",
     "text": [
      "eigenvalues shape torch.Size([5]) eigenvectors shape torch.Size([5, 1024])\n",
      "83 /home/phdcs2/Hard_Disk/Datasets/Deep-Spectral-Segmentation/data/object-segmentation/ECSSD/features/0084_resized.pth\n",
      "dict_keys(['k', 'indices', 'file', 'id', 'model_name', 'patch_size', 'shape'])\n",
      "0084_resized\n",
      "Starting Training\n",
      "epoch: 00, loss: -0.04265\n",
      "epoch: 01, loss: -0.06810\n",
      "epoch: 02, loss: -0.06924\n",
      "epoch: 03, loss: -0.06910\n",
      "epoch: 04, loss: -0.06984\n",
      "epoch: 05, loss: -0.07195\n",
      "epoch: 06, loss: -0.07187\n",
      "epoch: 07, loss: -0.07170\n",
      "epoch: 08, loss: -0.07273\n",
      "epoch: 09, loss: -0.07241\n",
      "torch.Size([1024, 64])\n"
     ]
    },
    {
     "name": "stderr",
     "output_type": "stream",
     "text": [
      "  8%|▊         | 84/1000 [36:41<6:47:04, 26.66s/it]"
     ]
    },
    {
     "name": "stdout",
     "output_type": "stream",
     "text": [
      "eigenvalues shape torch.Size([5]) eigenvectors shape torch.Size([5, 1024])\n",
      "84 /home/phdcs2/Hard_Disk/Datasets/Deep-Spectral-Segmentation/data/object-segmentation/ECSSD/features/0085_resized.pth\n",
      "dict_keys(['k', 'indices', 'file', 'id', 'model_name', 'patch_size', 'shape'])\n",
      "0085_resized\n",
      "Starting Training\n",
      "epoch: 00, loss: -0.01836\n",
      "epoch: 01, loss: -0.03037\n",
      "epoch: 02, loss: -0.03110\n",
      "epoch: 03, loss: -0.03150\n",
      "epoch: 04, loss: -0.03172\n",
      "epoch: 05, loss: -0.03188\n",
      "epoch: 06, loss: -0.03206\n",
      "epoch: 07, loss: -0.03222\n",
      "epoch: 08, loss: -0.03226\n",
      "epoch: 09, loss: -0.03233\n",
      "torch.Size([1024, 64])\n"
     ]
    },
    {
     "name": "stderr",
     "output_type": "stream",
     "text": [
      "  8%|▊         | 85/1000 [37:07<6:40:46, 26.28s/it]"
     ]
    },
    {
     "name": "stdout",
     "output_type": "stream",
     "text": [
      "eigenvalues shape torch.Size([5]) eigenvectors shape torch.Size([5, 1024])\n",
      "85 /home/phdcs2/Hard_Disk/Datasets/Deep-Spectral-Segmentation/data/object-segmentation/ECSSD/features/0086_resized.pth\n",
      "dict_keys(['k', 'indices', 'file', 'id', 'model_name', 'patch_size', 'shape'])\n",
      "0086_resized\n",
      "Starting Training\n",
      "epoch: 00, loss: -0.02485\n",
      "epoch: 01, loss: -0.04038\n",
      "epoch: 02, loss: -0.04178\n",
      "epoch: 03, loss: -0.04329\n",
      "epoch: 04, loss: -0.04544\n",
      "epoch: 05, loss: -0.04457\n",
      "epoch: 06, loss: -0.04478\n",
      "epoch: 07, loss: -0.04454\n",
      "epoch: 08, loss: -0.04526\n",
      "epoch: 09, loss: -0.04568\n",
      "torch.Size([1024, 64])\n"
     ]
    },
    {
     "name": "stderr",
     "output_type": "stream",
     "text": [
      "  9%|▊         | 86/1000 [37:33<6:43:19, 26.48s/it]"
     ]
    },
    {
     "name": "stdout",
     "output_type": "stream",
     "text": [
      "eigenvalues shape torch.Size([5]) eigenvectors shape torch.Size([5, 1024])\n",
      "86 /home/phdcs2/Hard_Disk/Datasets/Deep-Spectral-Segmentation/data/object-segmentation/ECSSD/features/0087_resized.pth\n",
      "dict_keys(['k', 'indices', 'file', 'id', 'model_name', 'patch_size', 'shape'])\n",
      "0087_resized\n",
      "Starting Training\n",
      "epoch: 00, loss: -0.10099\n",
      "epoch: 01, loss: -0.11050\n",
      "epoch: 02, loss: -0.11046\n",
      "epoch: 03, loss: -0.11068\n",
      "epoch: 04, loss: -0.11092\n",
      "epoch: 05, loss: -0.11080\n",
      "epoch: 06, loss: -0.11103\n",
      "epoch: 07, loss: -0.11101\n",
      "epoch: 08, loss: -0.11111\n",
      "epoch: 09, loss: -0.11138\n",
      "torch.Size([1024, 64])\n"
     ]
    },
    {
     "name": "stderr",
     "output_type": "stream",
     "text": [
      "  9%|▊         | 87/1000 [38:00<6:44:49, 26.60s/it]"
     ]
    },
    {
     "name": "stdout",
     "output_type": "stream",
     "text": [
      "eigenvalues shape torch.Size([5]) eigenvectors shape torch.Size([5, 1024])\n",
      "87 /home/phdcs2/Hard_Disk/Datasets/Deep-Spectral-Segmentation/data/object-segmentation/ECSSD/features/0088_resized.pth\n",
      "dict_keys(['k', 'indices', 'file', 'id', 'model_name', 'patch_size', 'shape'])\n",
      "0088_resized\n",
      "Starting Training\n",
      "epoch: 00, loss: -0.01662\n",
      "epoch: 01, loss: -0.03357\n",
      "epoch: 02, loss: -0.03474\n",
      "epoch: 03, loss: -0.03558\n",
      "epoch: 04, loss: -0.03489\n",
      "epoch: 05, loss: -0.03597\n",
      "epoch: 06, loss: -0.03610\n",
      "epoch: 07, loss: -0.03702\n",
      "epoch: 08, loss: -0.03569\n",
      "epoch: 09, loss: -0.03673\n",
      "torch.Size([1024, 64])\n"
     ]
    },
    {
     "name": "stderr",
     "output_type": "stream",
     "text": [
      "  9%|▉         | 88/1000 [38:29<6:55:06, 27.31s/it]"
     ]
    },
    {
     "name": "stdout",
     "output_type": "stream",
     "text": [
      "eigenvalues shape torch.Size([5]) eigenvectors shape torch.Size([5, 1024])\n",
      "88 /home/phdcs2/Hard_Disk/Datasets/Deep-Spectral-Segmentation/data/object-segmentation/ECSSD/features/0089_resized.pth\n",
      "dict_keys(['k', 'indices', 'file', 'id', 'model_name', 'patch_size', 'shape'])\n",
      "0089_resized\n",
      "Starting Training\n",
      "epoch: 00, loss: -0.06594\n",
      "epoch: 01, loss: -0.07803\n",
      "epoch: 02, loss: -0.07850\n",
      "epoch: 03, loss: -0.07877\n",
      "epoch: 04, loss: -0.08015\n",
      "epoch: 05, loss: -0.08038\n",
      "epoch: 06, loss: -0.07988\n",
      "epoch: 07, loss: -0.08072\n",
      "epoch: 08, loss: -0.07990\n",
      "epoch: 09, loss: -0.08020\n",
      "torch.Size([1024, 64])\n"
     ]
    },
    {
     "name": "stderr",
     "output_type": "stream",
     "text": [
      "  9%|▉         | 89/1000 [38:58<6:59:37, 27.64s/it]"
     ]
    },
    {
     "name": "stdout",
     "output_type": "stream",
     "text": [
      "eigenvalues shape torch.Size([5]) eigenvectors shape torch.Size([5, 1024])\n",
      "89 /home/phdcs2/Hard_Disk/Datasets/Deep-Spectral-Segmentation/data/object-segmentation/ECSSD/features/0090_resized.pth\n",
      "dict_keys(['k', 'indices', 'file', 'id', 'model_name', 'patch_size', 'shape'])\n",
      "0090_resized\n",
      "Starting Training\n",
      "epoch: 00, loss: -0.02673\n",
      "epoch: 01, loss: -0.03459\n",
      "epoch: 02, loss: -0.03630\n",
      "epoch: 03, loss: -0.03643\n",
      "epoch: 04, loss: -0.03730\n",
      "epoch: 05, loss: -0.03796\n",
      "epoch: 06, loss: -0.03731\n",
      "epoch: 07, loss: -0.03766\n",
      "epoch: 08, loss: -0.03882\n",
      "epoch: 09, loss: -0.03814\n",
      "torch.Size([1024, 64])\n"
     ]
    },
    {
     "name": "stderr",
     "output_type": "stream",
     "text": [
      "  9%|▉         | 90/1000 [39:24<6:55:12, 27.38s/it]"
     ]
    },
    {
     "name": "stdout",
     "output_type": "stream",
     "text": [
      "eigenvalues shape torch.Size([5]) eigenvectors shape torch.Size([5, 1024])\n",
      "90 /home/phdcs2/Hard_Disk/Datasets/Deep-Spectral-Segmentation/data/object-segmentation/ECSSD/features/0091_resized.pth\n",
      "dict_keys(['k', 'indices', 'file', 'id', 'model_name', 'patch_size', 'shape'])\n",
      "0091_resized\n",
      "Starting Training\n",
      "epoch: 00, loss: -0.00801\n",
      "epoch: 01, loss: -0.02467\n",
      "epoch: 02, loss: -0.02906\n",
      "epoch: 03, loss: -0.02721\n",
      "epoch: 04, loss: -0.02929\n",
      "epoch: 05, loss: -0.03035\n",
      "epoch: 06, loss: -0.02884\n",
      "epoch: 07, loss: -0.02938\n",
      "epoch: 08, loss: -0.03098\n",
      "epoch: 09, loss: -0.02941\n",
      "torch.Size([1024, 64])\n"
     ]
    },
    {
     "name": "stderr",
     "output_type": "stream",
     "text": [
      "  9%|▉         | 91/1000 [39:51<6:50:59, 27.13s/it]"
     ]
    },
    {
     "name": "stdout",
     "output_type": "stream",
     "text": [
      "eigenvalues shape torch.Size([5]) eigenvectors shape torch.Size([5, 1024])\n",
      "91 /home/phdcs2/Hard_Disk/Datasets/Deep-Spectral-Segmentation/data/object-segmentation/ECSSD/features/0092_resized.pth\n",
      "dict_keys(['k', 'indices', 'file', 'id', 'model_name', 'patch_size', 'shape'])\n",
      "0092_resized\n",
      "Starting Training\n",
      "epoch: 00, loss: -0.02794\n",
      "epoch: 01, loss: -0.04203\n",
      "epoch: 02, loss: -0.04223\n",
      "epoch: 03, loss: -0.04300\n",
      "epoch: 04, loss: -0.04333\n",
      "epoch: 05, loss: -0.04328\n",
      "epoch: 06, loss: -0.04360\n",
      "epoch: 07, loss: -0.04375\n",
      "epoch: 08, loss: -0.04343\n",
      "epoch: 09, loss: -0.04392\n",
      "torch.Size([1024, 64])\n"
     ]
    },
    {
     "name": "stderr",
     "output_type": "stream",
     "text": [
      "  9%|▉         | 92/1000 [40:16<6:39:23, 26.39s/it]"
     ]
    },
    {
     "name": "stdout",
     "output_type": "stream",
     "text": [
      "eigenvalues shape torch.Size([5]) eigenvectors shape torch.Size([5, 1024])\n",
      "92 /home/phdcs2/Hard_Disk/Datasets/Deep-Spectral-Segmentation/data/object-segmentation/ECSSD/features/0093_resized.pth\n",
      "dict_keys(['k', 'indices', 'file', 'id', 'model_name', 'patch_size', 'shape'])\n",
      "0093_resized\n",
      "Starting Training\n",
      "epoch: 00, loss: -0.06368\n",
      "epoch: 01, loss: -0.08707\n",
      "epoch: 02, loss: -0.08854\n",
      "epoch: 03, loss: -0.08952\n",
      "epoch: 04, loss: -0.08800\n",
      "epoch: 05, loss: -0.08927\n",
      "epoch: 06, loss: -0.08953\n",
      "epoch: 07, loss: -0.09216\n",
      "epoch: 08, loss: -0.09071\n",
      "epoch: 09, loss: -0.09136\n",
      "torch.Size([1024, 64])\n"
     ]
    },
    {
     "name": "stderr",
     "output_type": "stream",
     "text": [
      "  9%|▉         | 93/1000 [40:44<6:45:51, 26.85s/it]"
     ]
    },
    {
     "name": "stdout",
     "output_type": "stream",
     "text": [
      "eigenvalues shape torch.Size([5]) eigenvectors shape torch.Size([5, 1024])\n",
      "93 /home/phdcs2/Hard_Disk/Datasets/Deep-Spectral-Segmentation/data/object-segmentation/ECSSD/features/0094_resized.pth\n",
      "dict_keys(['k', 'indices', 'file', 'id', 'model_name', 'patch_size', 'shape'])\n",
      "0094_resized\n",
      "Starting Training\n",
      "epoch: 00, loss: -0.02876\n",
      "epoch: 01, loss: -0.04017\n",
      "epoch: 02, loss: -0.04065\n",
      "epoch: 03, loss: -0.04144\n",
      "epoch: 04, loss: -0.04146\n",
      "epoch: 05, loss: -0.04189\n",
      "epoch: 06, loss: -0.04202\n",
      "epoch: 07, loss: -0.04258\n",
      "epoch: 08, loss: -0.04208\n",
      "epoch: 09, loss: -0.04236\n",
      "torch.Size([1024, 64])\n"
     ]
    },
    {
     "name": "stderr",
     "output_type": "stream",
     "text": [
      "  9%|▉         | 94/1000 [41:12<6:53:59, 27.42s/it]"
     ]
    },
    {
     "name": "stdout",
     "output_type": "stream",
     "text": [
      "eigenvalues shape torch.Size([5]) eigenvectors shape torch.Size([5, 1024])\n",
      "94 /home/phdcs2/Hard_Disk/Datasets/Deep-Spectral-Segmentation/data/object-segmentation/ECSSD/features/0095_resized.pth\n",
      "dict_keys(['k', 'indices', 'file', 'id', 'model_name', 'patch_size', 'shape'])\n",
      "0095_resized\n",
      "Starting Training\n",
      "epoch: 00, loss: -0.01327\n",
      "epoch: 01, loss: -0.02639\n",
      "epoch: 02, loss: -0.02751\n",
      "epoch: 03, loss: -0.02822\n",
      "epoch: 04, loss: -0.02826\n",
      "epoch: 05, loss: -0.02839\n",
      "epoch: 06, loss: -0.02853\n",
      "epoch: 07, loss: -0.02874\n",
      "epoch: 08, loss: -0.02883\n",
      "epoch: 09, loss: -0.02884\n",
      "torch.Size([1024, 64])\n"
     ]
    },
    {
     "name": "stderr",
     "output_type": "stream",
     "text": [
      " 10%|▉         | 95/1000 [41:41<6:57:48, 27.70s/it]"
     ]
    },
    {
     "name": "stdout",
     "output_type": "stream",
     "text": [
      "eigenvalues shape torch.Size([5]) eigenvectors shape torch.Size([5, 1024])\n",
      "95 /home/phdcs2/Hard_Disk/Datasets/Deep-Spectral-Segmentation/data/object-segmentation/ECSSD/features/0096_resized.pth\n",
      "dict_keys(['k', 'indices', 'file', 'id', 'model_name', 'patch_size', 'shape'])\n",
      "0096_resized\n",
      "Starting Training\n",
      "epoch: 00, loss: -0.02360\n",
      "epoch: 01, loss: -0.03279\n",
      "epoch: 02, loss: -0.03360\n",
      "epoch: 03, loss: -0.03396\n",
      "epoch: 04, loss: -0.03393\n",
      "epoch: 05, loss: -0.03408\n",
      "epoch: 06, loss: -0.03422\n",
      "epoch: 07, loss: -0.03437\n",
      "epoch: 08, loss: -0.03451\n",
      "epoch: 09, loss: -0.03453\n",
      "torch.Size([1024, 64])\n"
     ]
    },
    {
     "name": "stderr",
     "output_type": "stream",
     "text": [
      " 10%|▉         | 96/1000 [42:10<7:06:37, 28.32s/it]"
     ]
    },
    {
     "name": "stdout",
     "output_type": "stream",
     "text": [
      "eigenvalues shape torch.Size([5]) eigenvectors shape torch.Size([5, 1024])\n",
      "96 /home/phdcs2/Hard_Disk/Datasets/Deep-Spectral-Segmentation/data/object-segmentation/ECSSD/features/0097_resized.pth\n",
      "dict_keys(['k', 'indices', 'file', 'id', 'model_name', 'patch_size', 'shape'])\n",
      "0097_resized\n",
      "Starting Training\n",
      "epoch: 00, loss: -0.03899\n",
      "epoch: 01, loss: -0.04789\n",
      "epoch: 02, loss: -0.04823\n",
      "epoch: 03, loss: -0.04853\n",
      "epoch: 04, loss: -0.04908\n",
      "epoch: 05, loss: -0.04913\n",
      "epoch: 06, loss: -0.04956\n",
      "epoch: 07, loss: -0.04938\n",
      "epoch: 08, loss: -0.04931\n",
      "epoch: 09, loss: -0.04951\n",
      "torch.Size([1024, 64])\n"
     ]
    },
    {
     "name": "stderr",
     "output_type": "stream",
     "text": [
      " 10%|▉         | 97/1000 [42:38<7:01:12, 27.99s/it]"
     ]
    },
    {
     "name": "stdout",
     "output_type": "stream",
     "text": [
      "eigenvalues shape torch.Size([5]) eigenvectors shape torch.Size([5, 1024])\n",
      "97 /home/phdcs2/Hard_Disk/Datasets/Deep-Spectral-Segmentation/data/object-segmentation/ECSSD/features/0098_resized.pth\n",
      "dict_keys(['k', 'indices', 'file', 'id', 'model_name', 'patch_size', 'shape'])\n",
      "0098_resized\n",
      "Starting Training\n",
      "epoch: 00, loss: -0.08447\n",
      "epoch: 01, loss: -0.10100\n",
      "epoch: 02, loss: -0.10185\n",
      "epoch: 03, loss: -0.10367\n",
      "epoch: 04, loss: -0.10287\n",
      "epoch: 05, loss: -0.10361\n",
      "epoch: 06, loss: -0.10636\n",
      "epoch: 07, loss: -0.10429\n",
      "epoch: 08, loss: -0.10291\n",
      "epoch: 09, loss: -0.10548\n",
      "torch.Size([1024, 64])\n"
     ]
    },
    {
     "name": "stderr",
     "output_type": "stream",
     "text": [
      " 10%|▉         | 98/1000 [43:05<6:55:40, 27.65s/it]"
     ]
    },
    {
     "name": "stdout",
     "output_type": "stream",
     "text": [
      "eigenvalues shape torch.Size([5]) eigenvectors shape torch.Size([5, 1024])\n",
      "98 /home/phdcs2/Hard_Disk/Datasets/Deep-Spectral-Segmentation/data/object-segmentation/ECSSD/features/0099_resized.pth\n",
      "dict_keys(['k', 'indices', 'file', 'id', 'model_name', 'patch_size', 'shape'])\n",
      "0099_resized\n",
      "Starting Training\n",
      "epoch: 00, loss: -0.00030\n",
      "epoch: 01, loss: -0.01101\n",
      "epoch: 02, loss: -0.01336\n",
      "epoch: 03, loss: -0.01533\n",
      "epoch: 04, loss: -0.01669\n",
      "epoch: 05, loss: -0.01619\n",
      "epoch: 06, loss: -0.01640\n",
      "epoch: 07, loss: -0.01784\n",
      "epoch: 08, loss: -0.01676\n",
      "epoch: 09, loss: -0.01669\n",
      "torch.Size([1024, 64])\n"
     ]
    },
    {
     "name": "stderr",
     "output_type": "stream",
     "text": [
      " 10%|▉         | 99/1000 [43:30<6:47:09, 27.11s/it]"
     ]
    },
    {
     "name": "stdout",
     "output_type": "stream",
     "text": [
      "eigenvalues shape torch.Size([5]) eigenvectors shape torch.Size([5, 1024])\n",
      "99 /home/phdcs2/Hard_Disk/Datasets/Deep-Spectral-Segmentation/data/object-segmentation/ECSSD/features/0100_resized.pth\n",
      "dict_keys(['k', 'indices', 'file', 'id', 'model_name', 'patch_size', 'shape'])\n",
      "0100_resized\n",
      "Starting Training\n",
      "epoch: 00, loss: -0.02802\n",
      "epoch: 01, loss: -0.03791\n",
      "epoch: 02, loss: -0.03815\n",
      "epoch: 03, loss: -0.03864\n",
      "epoch: 04, loss: -0.03902\n",
      "epoch: 05, loss: -0.03891\n",
      "epoch: 06, loss: -0.03909\n",
      "epoch: 07, loss: -0.03914\n",
      "epoch: 08, loss: -0.03925\n",
      "epoch: 09, loss: -0.03931\n",
      "torch.Size([1024, 64])\n"
     ]
    },
    {
     "name": "stderr",
     "output_type": "stream",
     "text": [
      " 10%|█         | 100/1000 [43:57<6:46:08, 27.08s/it]"
     ]
    },
    {
     "name": "stdout",
     "output_type": "stream",
     "text": [
      "eigenvalues shape torch.Size([5]) eigenvectors shape torch.Size([5, 1024])\n",
      "100 /home/phdcs2/Hard_Disk/Datasets/Deep-Spectral-Segmentation/data/object-segmentation/ECSSD/features/0101_resized.pth\n",
      "dict_keys(['k', 'indices', 'file', 'id', 'model_name', 'patch_size', 'shape'])\n",
      "0101_resized\n",
      "Starting Training\n",
      "epoch: 00, loss: -0.04474\n",
      "epoch: 01, loss: -0.05510\n",
      "epoch: 02, loss: -0.05577\n",
      "epoch: 03, loss: -0.05593\n",
      "epoch: 04, loss: -0.05617\n",
      "epoch: 05, loss: -0.05631\n",
      "epoch: 06, loss: -0.05652\n",
      "epoch: 07, loss: -0.05653\n",
      "epoch: 08, loss: -0.05676\n",
      "epoch: 09, loss: -0.05663\n",
      "torch.Size([1024, 64])\n"
     ]
    },
    {
     "name": "stderr",
     "output_type": "stream",
     "text": [
      " 10%|█         | 101/1000 [44:24<6:42:44, 26.88s/it]"
     ]
    },
    {
     "name": "stdout",
     "output_type": "stream",
     "text": [
      "eigenvalues shape torch.Size([5]) eigenvectors shape torch.Size([5, 1024])\n",
      "101 /home/phdcs2/Hard_Disk/Datasets/Deep-Spectral-Segmentation/data/object-segmentation/ECSSD/features/0102_resized.pth\n",
      "dict_keys(['k', 'indices', 'file', 'id', 'model_name', 'patch_size', 'shape'])\n",
      "0102_resized\n",
      "Starting Training\n",
      "epoch: 00, loss: -0.03193\n",
      "epoch: 01, loss: -0.03978\n",
      "epoch: 02, loss: -0.04019\n",
      "epoch: 03, loss: -0.04080\n",
      "epoch: 04, loss: -0.04121\n",
      "epoch: 05, loss: -0.04113\n",
      "epoch: 06, loss: -0.04129\n",
      "epoch: 07, loss: -0.04141\n",
      "epoch: 08, loss: -0.04151\n",
      "epoch: 09, loss: -0.04159\n",
      "torch.Size([1024, 64])\n"
     ]
    },
    {
     "name": "stderr",
     "output_type": "stream",
     "text": [
      " 10%|█         | 102/1000 [44:52<6:47:49, 27.25s/it]"
     ]
    },
    {
     "name": "stdout",
     "output_type": "stream",
     "text": [
      "eigenvalues shape torch.Size([5]) eigenvectors shape torch.Size([5, 1024])\n",
      "102 /home/phdcs2/Hard_Disk/Datasets/Deep-Spectral-Segmentation/data/object-segmentation/ECSSD/features/0103_resized.pth\n",
      "dict_keys(['k', 'indices', 'file', 'id', 'model_name', 'patch_size', 'shape'])\n",
      "0103_resized\n",
      "Starting Training\n",
      "epoch: 00, loss: -0.04577\n",
      "epoch: 01, loss: -0.05615\n",
      "epoch: 02, loss: -0.05654\n",
      "epoch: 03, loss: -0.05649\n",
      "epoch: 04, loss: -0.05743\n",
      "epoch: 05, loss: -0.05784\n",
      "epoch: 06, loss: -0.05784\n",
      "epoch: 07, loss: -0.05766\n",
      "epoch: 08, loss: -0.05817\n",
      "epoch: 09, loss: -0.05820\n",
      "torch.Size([1024, 64])\n"
     ]
    },
    {
     "name": "stderr",
     "output_type": "stream",
     "text": [
      " 10%|█         | 103/1000 [45:18<6:40:49, 26.81s/it]"
     ]
    },
    {
     "name": "stdout",
     "output_type": "stream",
     "text": [
      "eigenvalues shape torch.Size([5]) eigenvectors shape torch.Size([5, 1024])\n",
      "103 /home/phdcs2/Hard_Disk/Datasets/Deep-Spectral-Segmentation/data/object-segmentation/ECSSD/features/0104_resized.pth\n",
      "dict_keys(['k', 'indices', 'file', 'id', 'model_name', 'patch_size', 'shape'])\n",
      "0104_resized\n",
      "Starting Training\n",
      "epoch: 00, loss: -0.05692\n",
      "epoch: 01, loss: -0.06620\n",
      "epoch: 02, loss: -0.06656\n",
      "epoch: 03, loss: -0.06715\n",
      "epoch: 04, loss: -0.06728\n",
      "epoch: 05, loss: -0.06736\n",
      "epoch: 06, loss: -0.06752\n",
      "epoch: 07, loss: -0.06765\n",
      "epoch: 08, loss: -0.06777\n",
      "epoch: 09, loss: -0.06775\n",
      "torch.Size([1024, 64])\n"
     ]
    },
    {
     "name": "stderr",
     "output_type": "stream",
     "text": [
      " 10%|█         | 104/1000 [45:44<6:36:51, 26.58s/it]"
     ]
    },
    {
     "name": "stdout",
     "output_type": "stream",
     "text": [
      "eigenvalues shape torch.Size([5]) eigenvectors shape torch.Size([5, 1024])\n",
      "104 /home/phdcs2/Hard_Disk/Datasets/Deep-Spectral-Segmentation/data/object-segmentation/ECSSD/features/0105_resized.pth\n",
      "dict_keys(['k', 'indices', 'file', 'id', 'model_name', 'patch_size', 'shape'])\n",
      "0105_resized\n",
      "Starting Training\n",
      "epoch: 00, loss: -0.04177\n",
      "epoch: 01, loss: -0.05412\n",
      "epoch: 02, loss: -0.05487\n",
      "epoch: 03, loss: -0.05495\n",
      "epoch: 04, loss: -0.05522\n",
      "epoch: 05, loss: -0.05524\n",
      "epoch: 06, loss: -0.05554\n",
      "epoch: 07, loss: -0.05538\n",
      "epoch: 08, loss: -0.05574\n",
      "epoch: 09, loss: -0.05582\n",
      "torch.Size([1024, 64])\n"
     ]
    },
    {
     "name": "stderr",
     "output_type": "stream",
     "text": [
      " 10%|█         | 105/1000 [46:11<6:39:27, 26.78s/it]"
     ]
    },
    {
     "name": "stdout",
     "output_type": "stream",
     "text": [
      "eigenvalues shape torch.Size([5]) eigenvectors shape torch.Size([5, 1024])\n",
      "105 /home/phdcs2/Hard_Disk/Datasets/Deep-Spectral-Segmentation/data/object-segmentation/ECSSD/features/0106_resized.pth\n",
      "dict_keys(['k', 'indices', 'file', 'id', 'model_name', 'patch_size', 'shape'])\n",
      "0106_resized\n",
      "Starting Training\n",
      "epoch: 00, loss: -0.01516\n",
      "epoch: 01, loss: -0.02908\n",
      "epoch: 02, loss: -0.03015\n",
      "epoch: 03, loss: -0.03178\n",
      "epoch: 04, loss: -0.03166\n",
      "epoch: 05, loss: -0.03247\n",
      "epoch: 06, loss: -0.03154\n",
      "epoch: 07, loss: -0.03262\n",
      "epoch: 08, loss: -0.03294\n",
      "epoch: 09, loss: -0.03267\n",
      "torch.Size([1024, 64])\n"
     ]
    },
    {
     "name": "stderr",
     "output_type": "stream",
     "text": [
      " 11%|█         | 106/1000 [46:39<6:44:33, 27.15s/it]"
     ]
    },
    {
     "name": "stdout",
     "output_type": "stream",
     "text": [
      "eigenvalues shape torch.Size([5]) eigenvectors shape torch.Size([5, 1024])\n",
      "106 /home/phdcs2/Hard_Disk/Datasets/Deep-Spectral-Segmentation/data/object-segmentation/ECSSD/features/0107_resized.pth\n",
      "dict_keys(['k', 'indices', 'file', 'id', 'model_name', 'patch_size', 'shape'])\n",
      "0107_resized\n",
      "Starting Training\n",
      "epoch: 00, loss: -0.03184\n",
      "epoch: 01, loss: -0.04231\n",
      "epoch: 02, loss: -0.04521\n",
      "epoch: 03, loss: -0.04558\n",
      "epoch: 04, loss: -0.04759\n",
      "epoch: 05, loss: -0.04624\n",
      "epoch: 06, loss: -0.04717\n",
      "epoch: 07, loss: -0.04689\n",
      "epoch: 08, loss: -0.04743\n",
      "epoch: 09, loss: -0.04830\n",
      "torch.Size([1024, 64])\n"
     ]
    },
    {
     "name": "stderr",
     "output_type": "stream",
     "text": [
      " 11%|█         | 107/1000 [47:07<6:48:17, 27.43s/it]"
     ]
    },
    {
     "name": "stdout",
     "output_type": "stream",
     "text": [
      "eigenvalues shape torch.Size([5]) eigenvectors shape torch.Size([5, 1024])\n",
      "107 /home/phdcs2/Hard_Disk/Datasets/Deep-Spectral-Segmentation/data/object-segmentation/ECSSD/features/0108_resized.pth\n",
      "dict_keys(['k', 'indices', 'file', 'id', 'model_name', 'patch_size', 'shape'])\n",
      "0108_resized\n",
      "Starting Training\n",
      "epoch: 00, loss: -0.05529\n",
      "epoch: 01, loss: -0.07345\n",
      "epoch: 02, loss: -0.07458\n",
      "epoch: 03, loss: -0.07542\n",
      "epoch: 04, loss: -0.07538\n",
      "epoch: 05, loss: -0.07562\n",
      "epoch: 06, loss: -0.07652\n",
      "epoch: 07, loss: -0.07577\n",
      "epoch: 08, loss: -0.07680\n",
      "epoch: 09, loss: -0.07721\n",
      "torch.Size([1024, 64])\n"
     ]
    },
    {
     "name": "stderr",
     "output_type": "stream",
     "text": [
      " 11%|█         | 108/1000 [47:37<6:56:31, 28.02s/it]"
     ]
    },
    {
     "name": "stdout",
     "output_type": "stream",
     "text": [
      "eigenvalues shape torch.Size([5]) eigenvectors shape torch.Size([5, 1024])\n",
      "108 /home/phdcs2/Hard_Disk/Datasets/Deep-Spectral-Segmentation/data/object-segmentation/ECSSD/features/0109_resized.pth\n",
      "dict_keys(['k', 'indices', 'file', 'id', 'model_name', 'patch_size', 'shape'])\n",
      "0109_resized\n",
      "Starting Training\n",
      "epoch: 00, loss: 0.00335\n",
      "epoch: 01, loss: -0.00727\n",
      "epoch: 02, loss: -0.01087\n",
      "epoch: 03, loss: -0.01231\n",
      "epoch: 04, loss: -0.01294\n",
      "epoch: 05, loss: -0.01333\n",
      "epoch: 06, loss: -0.01358\n",
      "epoch: 07, loss: -0.01375\n",
      "epoch: 08, loss: -0.01386\n",
      "epoch: 09, loss: -0.01399\n",
      "torch.Size([1024, 64])\n"
     ]
    },
    {
     "name": "stderr",
     "output_type": "stream",
     "text": [
      " 11%|█         | 109/1000 [48:05<6:59:55, 28.28s/it]"
     ]
    },
    {
     "name": "stdout",
     "output_type": "stream",
     "text": [
      "eigenvalues shape torch.Size([5]) eigenvectors shape torch.Size([5, 1024])\n",
      "109 /home/phdcs2/Hard_Disk/Datasets/Deep-Spectral-Segmentation/data/object-segmentation/ECSSD/features/0110_resized.pth\n",
      "dict_keys(['k', 'indices', 'file', 'id', 'model_name', 'patch_size', 'shape'])\n",
      "0110_resized\n",
      "Starting Training\n",
      "epoch: 00, loss: -0.01935\n",
      "epoch: 01, loss: -0.03305\n",
      "epoch: 02, loss: -0.03618\n",
      "epoch: 03, loss: -0.03649\n",
      "epoch: 04, loss: -0.03664\n",
      "epoch: 05, loss: -0.03651\n",
      "epoch: 06, loss: -0.03726\n",
      "epoch: 07, loss: -0.03714\n",
      "epoch: 08, loss: -0.03728\n",
      "epoch: 09, loss: -0.03678\n",
      "torch.Size([1024, 64])\n"
     ]
    },
    {
     "name": "stderr",
     "output_type": "stream",
     "text": [
      " 11%|█         | 110/1000 [48:35<7:03:42, 28.56s/it]"
     ]
    },
    {
     "name": "stdout",
     "output_type": "stream",
     "text": [
      "eigenvalues shape torch.Size([5]) eigenvectors shape torch.Size([5, 1024])\n",
      "110 /home/phdcs2/Hard_Disk/Datasets/Deep-Spectral-Segmentation/data/object-segmentation/ECSSD/features/0111_resized.pth\n",
      "dict_keys(['k', 'indices', 'file', 'id', 'model_name', 'patch_size', 'shape'])\n",
      "0111_resized\n",
      "Starting Training\n",
      "epoch: 00, loss: -0.01028\n",
      "epoch: 01, loss: -0.02417\n",
      "epoch: 02, loss: -0.02576\n",
      "epoch: 03, loss: -0.02600\n",
      "epoch: 04, loss: -0.02624\n",
      "epoch: 05, loss: -0.02654\n",
      "epoch: 06, loss: -0.02663\n",
      "epoch: 07, loss: -0.02673\n",
      "epoch: 08, loss: -0.02686\n",
      "epoch: 09, loss: -0.02690\n",
      "torch.Size([1024, 64])\n"
     ]
    },
    {
     "name": "stderr",
     "output_type": "stream",
     "text": [
      " 11%|█         | 111/1000 [49:01<6:53:48, 27.93s/it]"
     ]
    },
    {
     "name": "stdout",
     "output_type": "stream",
     "text": [
      "eigenvalues shape torch.Size([5]) eigenvectors shape torch.Size([5, 1024])\n",
      "111 /home/phdcs2/Hard_Disk/Datasets/Deep-Spectral-Segmentation/data/object-segmentation/ECSSD/features/0112_resized.pth\n",
      "dict_keys(['k', 'indices', 'file', 'id', 'model_name', 'patch_size', 'shape'])\n",
      "0112_resized\n",
      "Starting Training\n",
      "epoch: 00, loss: -0.03921\n",
      "epoch: 01, loss: -0.05105\n",
      "epoch: 02, loss: -0.05147\n",
      "epoch: 03, loss: -0.05215\n",
      "epoch: 04, loss: -0.05219\n",
      "epoch: 05, loss: -0.05242\n",
      "epoch: 06, loss: -0.05238\n",
      "epoch: 07, loss: -0.05247\n",
      "epoch: 08, loss: -0.05262\n",
      "epoch: 09, loss: -0.05265\n",
      "torch.Size([1024, 64])\n"
     ]
    },
    {
     "name": "stderr",
     "output_type": "stream",
     "text": [
      " 11%|█         | 112/1000 [49:27<6:43:38, 27.27s/it]"
     ]
    },
    {
     "name": "stdout",
     "output_type": "stream",
     "text": [
      "eigenvalues shape torch.Size([5]) eigenvectors shape torch.Size([5, 1024])\n",
      "112 /home/phdcs2/Hard_Disk/Datasets/Deep-Spectral-Segmentation/data/object-segmentation/ECSSD/features/0113_resized.pth\n",
      "dict_keys(['k', 'indices', 'file', 'id', 'model_name', 'patch_size', 'shape'])\n",
      "0113_resized\n",
      "Starting Training\n",
      "epoch: 00, loss: -0.01873\n",
      "epoch: 01, loss: -0.03240\n",
      "epoch: 02, loss: -0.03328\n",
      "epoch: 03, loss: -0.03363\n",
      "epoch: 04, loss: -0.03383\n",
      "epoch: 05, loss: -0.03429\n",
      "epoch: 06, loss: -0.03414\n",
      "epoch: 07, loss: -0.03431\n",
      "epoch: 08, loss: -0.03438\n",
      "epoch: 09, loss: -0.03444\n",
      "torch.Size([1024, 64])\n"
     ]
    },
    {
     "name": "stderr",
     "output_type": "stream",
     "text": [
      " 11%|█▏        | 113/1000 [49:54<6:40:32, 27.09s/it]"
     ]
    },
    {
     "name": "stdout",
     "output_type": "stream",
     "text": [
      "eigenvalues shape torch.Size([5]) eigenvectors shape torch.Size([5, 1024])\n",
      "113 /home/phdcs2/Hard_Disk/Datasets/Deep-Spectral-Segmentation/data/object-segmentation/ECSSD/features/0114_resized.pth\n",
      "dict_keys(['k', 'indices', 'file', 'id', 'model_name', 'patch_size', 'shape'])\n",
      "0114_resized\n",
      "Starting Training\n",
      "epoch: 00, loss: -0.01998\n",
      "epoch: 01, loss: -0.03225\n",
      "epoch: 02, loss: -0.03437\n",
      "epoch: 03, loss: -0.03728\n",
      "epoch: 04, loss: -0.03807\n",
      "epoch: 05, loss: -0.03851\n",
      "epoch: 06, loss: -0.03764\n",
      "epoch: 07, loss: -0.03772\n",
      "epoch: 08, loss: -0.03772\n",
      "epoch: 09, loss: -0.03878\n",
      "torch.Size([1024, 64])\n"
     ]
    },
    {
     "name": "stderr",
     "output_type": "stream",
     "text": [
      " 11%|█▏        | 114/1000 [50:20<6:37:41, 26.93s/it]"
     ]
    },
    {
     "name": "stdout",
     "output_type": "stream",
     "text": [
      "eigenvalues shape torch.Size([5]) eigenvectors shape torch.Size([5, 1024])\n",
      "114 /home/phdcs2/Hard_Disk/Datasets/Deep-Spectral-Segmentation/data/object-segmentation/ECSSD/features/0115_resized.pth\n",
      "dict_keys(['k', 'indices', 'file', 'id', 'model_name', 'patch_size', 'shape'])\n",
      "0115_resized\n",
      "Starting Training\n",
      "epoch: 00, loss: -0.05733\n",
      "epoch: 01, loss: -0.07628\n",
      "epoch: 02, loss: -0.07733\n",
      "epoch: 03, loss: -0.07858\n",
      "epoch: 04, loss: -0.07873\n",
      "epoch: 05, loss: -0.07974\n",
      "epoch: 06, loss: -0.07866\n",
      "epoch: 07, loss: -0.07965\n",
      "epoch: 08, loss: -0.07984\n",
      "epoch: 09, loss: -0.08101\n",
      "torch.Size([1024, 64])\n"
     ]
    },
    {
     "name": "stderr",
     "output_type": "stream",
     "text": [
      " 12%|█▏        | 115/1000 [50:46<6:34:19, 26.73s/it]"
     ]
    },
    {
     "name": "stdout",
     "output_type": "stream",
     "text": [
      "eigenvalues shape torch.Size([5]) eigenvectors shape torch.Size([5, 1024])\n",
      "115 /home/phdcs2/Hard_Disk/Datasets/Deep-Spectral-Segmentation/data/object-segmentation/ECSSD/features/0116_resized.pth\n",
      "dict_keys(['k', 'indices', 'file', 'id', 'model_name', 'patch_size', 'shape'])\n",
      "0116_resized\n",
      "Starting Training\n",
      "epoch: 00, loss: -0.01513\n",
      "epoch: 01, loss: -0.03408\n",
      "epoch: 02, loss: -0.03774\n",
      "epoch: 03, loss: -0.03683\n",
      "epoch: 04, loss: -0.03807\n",
      "epoch: 05, loss: -0.03878\n",
      "epoch: 06, loss: -0.03835\n",
      "epoch: 07, loss: -0.03846\n",
      "epoch: 08, loss: -0.03976\n",
      "epoch: 09, loss: -0.03892\n",
      "torch.Size([1024, 64])\n"
     ]
    },
    {
     "name": "stderr",
     "output_type": "stream",
     "text": [
      " 12%|█▏        | 116/1000 [51:13<6:34:49, 26.80s/it]"
     ]
    },
    {
     "name": "stdout",
     "output_type": "stream",
     "text": [
      "eigenvalues shape torch.Size([5]) eigenvectors shape torch.Size([5, 1024])\n",
      "116 /home/phdcs2/Hard_Disk/Datasets/Deep-Spectral-Segmentation/data/object-segmentation/ECSSD/features/0117_resized.pth\n",
      "dict_keys(['k', 'indices', 'file', 'id', 'model_name', 'patch_size', 'shape'])\n",
      "0117_resized\n",
      "Starting Training\n",
      "epoch: 00, loss: -0.02447\n",
      "epoch: 01, loss: -0.04383\n",
      "epoch: 02, loss: -0.04654\n",
      "epoch: 03, loss: -0.04768\n",
      "epoch: 04, loss: -0.04747\n",
      "epoch: 05, loss: -0.04829\n",
      "epoch: 06, loss: -0.04834\n",
      "epoch: 07, loss: -0.05027\n",
      "epoch: 08, loss: -0.04817\n",
      "epoch: 09, loss: -0.04827\n",
      "torch.Size([1024, 64])\n"
     ]
    },
    {
     "name": "stderr",
     "output_type": "stream",
     "text": [
      " 12%|█▏        | 117/1000 [51:40<6:34:39, 26.82s/it]"
     ]
    },
    {
     "name": "stdout",
     "output_type": "stream",
     "text": [
      "eigenvalues shape torch.Size([5]) eigenvectors shape torch.Size([5, 1024])\n",
      "117 /home/phdcs2/Hard_Disk/Datasets/Deep-Spectral-Segmentation/data/object-segmentation/ECSSD/features/0118_resized.pth\n",
      "dict_keys(['k', 'indices', 'file', 'id', 'model_name', 'patch_size', 'shape'])\n",
      "0118_resized\n",
      "Starting Training\n",
      "epoch: 00, loss: -0.03898\n",
      "epoch: 01, loss: -0.04823\n",
      "epoch: 02, loss: -0.04871\n",
      "epoch: 03, loss: -0.04885\n",
      "epoch: 04, loss: -0.04927\n",
      "epoch: 05, loss: -0.04936\n",
      "epoch: 06, loss: -0.04949\n",
      "epoch: 07, loss: -0.04974\n",
      "epoch: 08, loss: -0.04977\n",
      "epoch: 09, loss: -0.04985\n",
      "torch.Size([1024, 64])\n"
     ]
    },
    {
     "name": "stderr",
     "output_type": "stream",
     "text": [
      " 12%|█▏        | 118/1000 [52:08<6:36:39, 26.98s/it]"
     ]
    },
    {
     "name": "stdout",
     "output_type": "stream",
     "text": [
      "eigenvalues shape torch.Size([5]) eigenvectors shape torch.Size([5, 1024])\n",
      "118 /home/phdcs2/Hard_Disk/Datasets/Deep-Spectral-Segmentation/data/object-segmentation/ECSSD/features/0119_resized.pth\n",
      "dict_keys(['k', 'indices', 'file', 'id', 'model_name', 'patch_size', 'shape'])\n",
      "0119_resized\n",
      "Starting Training\n",
      "epoch: 00, loss: -0.00311\n",
      "epoch: 01, loss: -0.01462\n",
      "epoch: 02, loss: -0.01700\n",
      "epoch: 03, loss: -0.01770\n",
      "epoch: 04, loss: -0.01815\n",
      "epoch: 05, loss: -0.01820\n",
      "epoch: 06, loss: -0.01841\n",
      "epoch: 07, loss: -0.01850\n",
      "epoch: 08, loss: -0.01857\n",
      "epoch: 09, loss: -0.01866\n",
      "torch.Size([1024, 64])\n"
     ]
    },
    {
     "name": "stderr",
     "output_type": "stream",
     "text": [
      " 12%|█▏        | 119/1000 [52:34<6:34:46, 26.89s/it]"
     ]
    },
    {
     "name": "stdout",
     "output_type": "stream",
     "text": [
      "eigenvalues shape torch.Size([5]) eigenvectors shape torch.Size([5, 1024])\n",
      "119 /home/phdcs2/Hard_Disk/Datasets/Deep-Spectral-Segmentation/data/object-segmentation/ECSSD/features/0120_resized.pth\n",
      "dict_keys(['k', 'indices', 'file', 'id', 'model_name', 'patch_size', 'shape'])\n",
      "0120_resized\n",
      "Starting Training\n",
      "epoch: 00, loss: -0.01589\n",
      "epoch: 01, loss: -0.02840\n",
      "epoch: 02, loss: -0.02815\n",
      "epoch: 03, loss: -0.02945\n",
      "epoch: 04, loss: -0.02905\n",
      "epoch: 05, loss: -0.03202\n",
      "epoch: 06, loss: -0.03027\n",
      "epoch: 07, loss: -0.03205\n",
      "epoch: 08, loss: -0.03275\n",
      "epoch: 09, loss: -0.03220\n",
      "torch.Size([1024, 64])\n"
     ]
    },
    {
     "name": "stderr",
     "output_type": "stream",
     "text": [
      " 12%|█▏        | 120/1000 [53:00<6:31:45, 26.71s/it]"
     ]
    },
    {
     "name": "stdout",
     "output_type": "stream",
     "text": [
      "eigenvalues shape torch.Size([5]) eigenvectors shape torch.Size([5, 1024])\n",
      "120 /home/phdcs2/Hard_Disk/Datasets/Deep-Spectral-Segmentation/data/object-segmentation/ECSSD/features/0121_resized.pth\n",
      "dict_keys(['k', 'indices', 'file', 'id', 'model_name', 'patch_size', 'shape'])\n",
      "0121_resized\n",
      "Starting Training\n",
      "epoch: 00, loss: -0.05315\n",
      "epoch: 01, loss: -0.06271\n",
      "epoch: 02, loss: -0.06330\n",
      "epoch: 03, loss: -0.06382\n",
      "epoch: 04, loss: -0.06382\n",
      "epoch: 05, loss: -0.06396\n",
      "epoch: 06, loss: -0.06408\n",
      "epoch: 07, loss: -0.06424\n",
      "epoch: 08, loss: -0.06441\n",
      "epoch: 09, loss: -0.06437\n",
      "torch.Size([1024, 64])\n"
     ]
    },
    {
     "name": "stderr",
     "output_type": "stream",
     "text": [
      " 12%|█▏        | 121/1000 [53:27<6:32:24, 26.79s/it]"
     ]
    },
    {
     "name": "stdout",
     "output_type": "stream",
     "text": [
      "eigenvalues shape torch.Size([5]) eigenvectors shape torch.Size([5, 1024])\n",
      "121 /home/phdcs2/Hard_Disk/Datasets/Deep-Spectral-Segmentation/data/object-segmentation/ECSSD/features/0122_resized.pth\n",
      "dict_keys(['k', 'indices', 'file', 'id', 'model_name', 'patch_size', 'shape'])\n",
      "0122_resized\n",
      "Starting Training\n",
      "epoch: 00, loss: -0.00226\n",
      "epoch: 01, loss: -0.01159\n",
      "epoch: 02, loss: -0.01352\n",
      "epoch: 03, loss: -0.01430\n",
      "epoch: 04, loss: -0.01464\n",
      "epoch: 05, loss: -0.01483\n",
      "epoch: 06, loss: -0.01509\n",
      "epoch: 07, loss: -0.01515\n",
      "epoch: 08, loss: -0.01541\n",
      "epoch: 09, loss: -0.01541\n",
      "torch.Size([1024, 64])\n"
     ]
    },
    {
     "name": "stderr",
     "output_type": "stream",
     "text": [
      " 12%|█▏        | 122/1000 [53:54<6:31:08, 26.73s/it]"
     ]
    },
    {
     "name": "stdout",
     "output_type": "stream",
     "text": [
      "eigenvalues shape torch.Size([5]) eigenvectors shape torch.Size([5, 1024])\n",
      "122 /home/phdcs2/Hard_Disk/Datasets/Deep-Spectral-Segmentation/data/object-segmentation/ECSSD/features/0123_resized.pth\n",
      "dict_keys(['k', 'indices', 'file', 'id', 'model_name', 'patch_size', 'shape'])\n",
      "0123_resized\n",
      "Starting Training\n",
      "epoch: 00, loss: -0.01348\n",
      "epoch: 01, loss: -0.02317\n",
      "epoch: 02, loss: -0.02438\n",
      "epoch: 03, loss: -0.02472\n",
      "epoch: 04, loss: -0.02512\n",
      "epoch: 05, loss: -0.02518\n",
      "epoch: 06, loss: -0.02536\n",
      "epoch: 07, loss: -0.02555\n",
      "epoch: 08, loss: -0.02574\n",
      "epoch: 09, loss: -0.02565\n",
      "torch.Size([1024, 64])\n"
     ]
    },
    {
     "name": "stderr",
     "output_type": "stream",
     "text": [
      " 12%|█▏        | 123/1000 [54:20<6:28:56, 26.61s/it]"
     ]
    },
    {
     "name": "stdout",
     "output_type": "stream",
     "text": [
      "eigenvalues shape torch.Size([5]) eigenvectors shape torch.Size([5, 1024])\n",
      "123 /home/phdcs2/Hard_Disk/Datasets/Deep-Spectral-Segmentation/data/object-segmentation/ECSSD/features/0124_resized.pth\n",
      "dict_keys(['k', 'indices', 'file', 'id', 'model_name', 'patch_size', 'shape'])\n",
      "0124_resized\n",
      "Starting Training\n",
      "epoch: 00, loss: -0.02495\n",
      "epoch: 01, loss: -0.03859\n",
      "epoch: 02, loss: -0.03961\n",
      "epoch: 03, loss: -0.03990\n",
      "epoch: 04, loss: -0.03986\n",
      "epoch: 05, loss: -0.04009\n",
      "epoch: 06, loss: -0.04023\n",
      "epoch: 07, loss: -0.04027\n",
      "epoch: 08, loss: -0.04035\n",
      "epoch: 09, loss: -0.04046\n",
      "torch.Size([1024, 64])\n"
     ]
    },
    {
     "name": "stderr",
     "output_type": "stream",
     "text": [
      " 12%|█▏        | 124/1000 [54:47<6:29:34, 26.68s/it]"
     ]
    },
    {
     "name": "stdout",
     "output_type": "stream",
     "text": [
      "eigenvalues shape torch.Size([5]) eigenvectors shape torch.Size([5, 1024])\n",
      "124 /home/phdcs2/Hard_Disk/Datasets/Deep-Spectral-Segmentation/data/object-segmentation/ECSSD/features/0125_resized.pth\n",
      "dict_keys(['k', 'indices', 'file', 'id', 'model_name', 'patch_size', 'shape'])\n",
      "0125_resized\n",
      "Starting Training\n",
      "epoch: 00, loss: -0.05395\n",
      "epoch: 01, loss: -0.06444\n",
      "epoch: 02, loss: -0.06486\n",
      "epoch: 03, loss: -0.06503\n",
      "epoch: 04, loss: -0.06539\n",
      "epoch: 05, loss: -0.06554\n",
      "epoch: 06, loss: -0.06559\n",
      "epoch: 07, loss: -0.06561\n",
      "epoch: 08, loss: -0.06566\n",
      "epoch: 09, loss: -0.06575\n",
      "torch.Size([1024, 64])\n"
     ]
    },
    {
     "name": "stderr",
     "output_type": "stream",
     "text": [
      " 12%|█▎        | 125/1000 [55:14<6:29:25, 26.70s/it]"
     ]
    },
    {
     "name": "stdout",
     "output_type": "stream",
     "text": [
      "eigenvalues shape torch.Size([5]) eigenvectors shape torch.Size([5, 1024])\n",
      "125 /home/phdcs2/Hard_Disk/Datasets/Deep-Spectral-Segmentation/data/object-segmentation/ECSSD/features/0126_resized.pth\n",
      "dict_keys(['k', 'indices', 'file', 'id', 'model_name', 'patch_size', 'shape'])\n",
      "0126_resized\n",
      "Starting Training\n",
      "epoch: 00, loss: -0.01000\n",
      "epoch: 01, loss: -0.02013\n",
      "epoch: 02, loss: -0.02151\n",
      "epoch: 03, loss: -0.02223\n",
      "epoch: 04, loss: -0.02213\n",
      "epoch: 05, loss: -0.02294\n",
      "epoch: 06, loss: -0.02260\n",
      "epoch: 07, loss: -0.02291\n",
      "epoch: 08, loss: -0.02344\n",
      "epoch: 09, loss: -0.02313\n",
      "torch.Size([1024, 64])\n"
     ]
    },
    {
     "name": "stderr",
     "output_type": "stream",
     "text": [
      " 13%|█▎        | 126/1000 [55:40<6:26:46, 26.55s/it]"
     ]
    },
    {
     "name": "stdout",
     "output_type": "stream",
     "text": [
      "eigenvalues shape torch.Size([5]) eigenvectors shape torch.Size([5, 1024])\n",
      "126 /home/phdcs2/Hard_Disk/Datasets/Deep-Spectral-Segmentation/data/object-segmentation/ECSSD/features/0127_resized.pth\n",
      "dict_keys(['k', 'indices', 'file', 'id', 'model_name', 'patch_size', 'shape'])\n",
      "0127_resized\n",
      "Starting Training\n",
      "epoch: 00, loss: -0.04073\n",
      "epoch: 01, loss: -0.04993\n",
      "epoch: 02, loss: -0.05022\n",
      "epoch: 03, loss: -0.05059\n",
      "epoch: 04, loss: -0.05094\n",
      "epoch: 05, loss: -0.05090\n",
      "epoch: 06, loss: -0.05103\n",
      "epoch: 07, loss: -0.05123\n",
      "epoch: 08, loss: -0.05132\n",
      "epoch: 09, loss: -0.05138\n",
      "torch.Size([1024, 64])\n"
     ]
    },
    {
     "name": "stderr",
     "output_type": "stream",
     "text": [
      " 13%|█▎        | 127/1000 [56:07<6:25:43, 26.51s/it]"
     ]
    },
    {
     "name": "stdout",
     "output_type": "stream",
     "text": [
      "eigenvalues shape torch.Size([5]) eigenvectors shape torch.Size([5, 1024])\n",
      "127 /home/phdcs2/Hard_Disk/Datasets/Deep-Spectral-Segmentation/data/object-segmentation/ECSSD/features/0128_resized.pth\n",
      "dict_keys(['k', 'indices', 'file', 'id', 'model_name', 'patch_size', 'shape'])\n",
      "0128_resized\n",
      "Starting Training\n",
      "epoch: 00, loss: -0.06175\n",
      "epoch: 01, loss: -0.07101\n",
      "epoch: 02, loss: -0.07232\n",
      "epoch: 03, loss: -0.07181\n",
      "epoch: 04, loss: -0.07203\n",
      "epoch: 05, loss: -0.07212\n",
      "epoch: 06, loss: -0.07232\n",
      "epoch: 07, loss: -0.07284\n",
      "epoch: 08, loss: -0.07236\n",
      "epoch: 09, loss: -0.07265\n",
      "torch.Size([1024, 64])\n"
     ]
    },
    {
     "name": "stderr",
     "output_type": "stream",
     "text": [
      " 13%|█▎        | 128/1000 [56:33<6:25:51, 26.55s/it]"
     ]
    },
    {
     "name": "stdout",
     "output_type": "stream",
     "text": [
      "eigenvalues shape torch.Size([5]) eigenvectors shape torch.Size([5, 1024])\n",
      "128 /home/phdcs2/Hard_Disk/Datasets/Deep-Spectral-Segmentation/data/object-segmentation/ECSSD/features/0129_resized.pth\n",
      "dict_keys(['k', 'indices', 'file', 'id', 'model_name', 'patch_size', 'shape'])\n",
      "0129_resized\n",
      "Starting Training\n",
      "epoch: 00, loss: -0.07818\n",
      "epoch: 01, loss: -0.09122\n",
      "epoch: 02, loss: -0.09153\n",
      "epoch: 03, loss: -0.09073\n",
      "epoch: 04, loss: -0.09189\n",
      "epoch: 05, loss: -0.09274\n",
      "epoch: 06, loss: -0.09248\n",
      "epoch: 07, loss: -0.09271\n",
      "epoch: 08, loss: -0.09255\n",
      "epoch: 09, loss: -0.09284\n",
      "torch.Size([1024, 64])\n"
     ]
    },
    {
     "name": "stderr",
     "output_type": "stream",
     "text": [
      " 13%|█▎        | 129/1000 [57:01<6:29:38, 26.84s/it]"
     ]
    },
    {
     "name": "stdout",
     "output_type": "stream",
     "text": [
      "eigenvalues shape torch.Size([5]) eigenvectors shape torch.Size([5, 1024])\n",
      "129 /home/phdcs2/Hard_Disk/Datasets/Deep-Spectral-Segmentation/data/object-segmentation/ECSSD/features/0130_resized.pth\n",
      "dict_keys(['k', 'indices', 'file', 'id', 'model_name', 'patch_size', 'shape'])\n",
      "0130_resized\n",
      "Starting Training\n",
      "epoch: 00, loss: -0.01125\n",
      "epoch: 01, loss: -0.02322\n",
      "epoch: 02, loss: -0.02407\n",
      "epoch: 03, loss: -0.02483\n",
      "epoch: 04, loss: -0.02504\n",
      "epoch: 05, loss: -0.02511\n",
      "epoch: 06, loss: -0.02533\n",
      "epoch: 07, loss: -0.02518\n",
      "epoch: 08, loss: -0.02535\n",
      "epoch: 09, loss: -0.02545\n",
      "torch.Size([1024, 64])\n"
     ]
    },
    {
     "name": "stderr",
     "output_type": "stream",
     "text": [
      " 13%|█▎        | 130/1000 [57:27<6:26:22, 26.65s/it]"
     ]
    },
    {
     "name": "stdout",
     "output_type": "stream",
     "text": [
      "eigenvalues shape torch.Size([5]) eigenvectors shape torch.Size([5, 1024])\n",
      "130 /home/phdcs2/Hard_Disk/Datasets/Deep-Spectral-Segmentation/data/object-segmentation/ECSSD/features/0131_resized.pth\n",
      "dict_keys(['k', 'indices', 'file', 'id', 'model_name', 'patch_size', 'shape'])\n",
      "0131_resized\n",
      "Starting Training\n",
      "epoch: 00, loss: -0.08697\n",
      "epoch: 01, loss: -0.09710\n",
      "epoch: 02, loss: -0.09772\n",
      "epoch: 03, loss: -0.09794\n",
      "epoch: 04, loss: -0.09812\n",
      "epoch: 05, loss: -0.09823\n",
      "epoch: 06, loss: -0.09833\n",
      "epoch: 07, loss: -0.09840\n",
      "epoch: 08, loss: -0.09849\n",
      "epoch: 09, loss: -0.09851\n",
      "torch.Size([1024, 64])\n"
     ]
    },
    {
     "name": "stderr",
     "output_type": "stream",
     "text": [
      " 13%|█▎        | 131/1000 [57:53<6:24:52, 26.57s/it]"
     ]
    },
    {
     "name": "stdout",
     "output_type": "stream",
     "text": [
      "eigenvalues shape torch.Size([5]) eigenvectors shape torch.Size([5, 1024])\n",
      "131 /home/phdcs2/Hard_Disk/Datasets/Deep-Spectral-Segmentation/data/object-segmentation/ECSSD/features/0132_resized.pth\n",
      "dict_keys(['k', 'indices', 'file', 'id', 'model_name', 'patch_size', 'shape'])\n",
      "0132_resized\n",
      "Starting Training\n",
      "epoch: 00, loss: -0.04086\n",
      "epoch: 01, loss: -0.05498\n",
      "epoch: 02, loss: -0.05603\n",
      "epoch: 03, loss: -0.05553\n",
      "epoch: 04, loss: -0.05593\n",
      "epoch: 05, loss: -0.05630\n",
      "epoch: 06, loss: -0.05727\n",
      "epoch: 07, loss: -0.05706\n",
      "epoch: 08, loss: -0.05634\n",
      "epoch: 09, loss: -0.05718\n",
      "torch.Size([1024, 64])\n"
     ]
    },
    {
     "name": "stderr",
     "output_type": "stream",
     "text": [
      " 13%|█▎        | 132/1000 [58:19<6:21:57, 26.40s/it]"
     ]
    },
    {
     "name": "stdout",
     "output_type": "stream",
     "text": [
      "eigenvalues shape torch.Size([5]) eigenvectors shape torch.Size([5, 1024])\n",
      "132 /home/phdcs2/Hard_Disk/Datasets/Deep-Spectral-Segmentation/data/object-segmentation/ECSSD/features/0133_resized.pth\n",
      "dict_keys(['k', 'indices', 'file', 'id', 'model_name', 'patch_size', 'shape'])\n",
      "0133_resized\n",
      "Starting Training\n",
      "epoch: 00, loss: -0.04690\n",
      "epoch: 01, loss: -0.06252\n",
      "epoch: 02, loss: -0.06355\n",
      "epoch: 03, loss: -0.06379\n",
      "epoch: 04, loss: -0.06515\n",
      "epoch: 05, loss: -0.06506\n",
      "epoch: 06, loss: -0.06367\n",
      "epoch: 07, loss: -0.06445\n",
      "epoch: 08, loss: -0.06534\n",
      "epoch: 09, loss: -0.06523\n",
      "torch.Size([1024, 64])\n"
     ]
    },
    {
     "name": "stderr",
     "output_type": "stream",
     "text": [
      " 13%|█▎        | 133/1000 [58:46<6:22:38, 26.48s/it]"
     ]
    },
    {
     "name": "stdout",
     "output_type": "stream",
     "text": [
      "eigenvalues shape torch.Size([5]) eigenvectors shape torch.Size([5, 1024])\n",
      "133 /home/phdcs2/Hard_Disk/Datasets/Deep-Spectral-Segmentation/data/object-segmentation/ECSSD/features/0134_resized.pth\n",
      "dict_keys(['k', 'indices', 'file', 'id', 'model_name', 'patch_size', 'shape'])\n",
      "0134_resized\n",
      "Starting Training\n",
      "epoch: 00, loss: -0.05663\n",
      "epoch: 01, loss: -0.06597\n",
      "epoch: 02, loss: -0.06707\n",
      "epoch: 03, loss: -0.06646\n",
      "epoch: 04, loss: -0.06683\n",
      "epoch: 05, loss: -0.06684\n",
      "epoch: 06, loss: -0.06725\n",
      "epoch: 07, loss: -0.06707\n",
      "epoch: 08, loss: -0.06723\n",
      "epoch: 09, loss: -0.06733\n",
      "torch.Size([1024, 64])\n"
     ]
    },
    {
     "name": "stderr",
     "output_type": "stream",
     "text": [
      " 13%|█▎        | 134/1000 [59:11<6:13:41, 25.89s/it]"
     ]
    },
    {
     "name": "stdout",
     "output_type": "stream",
     "text": [
      "eigenvalues shape torch.Size([5]) eigenvectors shape torch.Size([5, 1024])\n",
      "134 /home/phdcs2/Hard_Disk/Datasets/Deep-Spectral-Segmentation/data/object-segmentation/ECSSD/features/0135_resized.pth\n",
      "dict_keys(['k', 'indices', 'file', 'id', 'model_name', 'patch_size', 'shape'])\n",
      "0135_resized\n",
      "Starting Training\n",
      "epoch: 00, loss: -0.05360\n",
      "epoch: 01, loss: -0.06331\n",
      "epoch: 02, loss: -0.06408\n",
      "epoch: 03, loss: -0.06435\n",
      "epoch: 04, loss: -0.06436\n",
      "epoch: 05, loss: -0.06456\n",
      "epoch: 06, loss: -0.06468\n",
      "epoch: 07, loss: -0.06477\n",
      "epoch: 08, loss: -0.06475\n",
      "epoch: 09, loss: -0.06491\n",
      "torch.Size([1024, 64])\n"
     ]
    },
    {
     "name": "stderr",
     "output_type": "stream",
     "text": [
      " 14%|█▎        | 135/1000 [59:36<6:11:32, 25.77s/it]"
     ]
    },
    {
     "name": "stdout",
     "output_type": "stream",
     "text": [
      "eigenvalues shape torch.Size([5]) eigenvectors shape torch.Size([5, 1024])\n",
      "135 /home/phdcs2/Hard_Disk/Datasets/Deep-Spectral-Segmentation/data/object-segmentation/ECSSD/features/0136_resized.pth\n",
      "dict_keys(['k', 'indices', 'file', 'id', 'model_name', 'patch_size', 'shape'])\n",
      "0136_resized\n",
      "Starting Training\n",
      "epoch: 00, loss: -0.03933\n",
      "epoch: 01, loss: -0.05248\n",
      "epoch: 02, loss: -0.05314\n",
      "epoch: 03, loss: -0.05338\n",
      "epoch: 04, loss: -0.05349\n",
      "epoch: 05, loss: -0.05362\n",
      "epoch: 06, loss: -0.05371\n",
      "epoch: 07, loss: -0.05386\n",
      "epoch: 08, loss: -0.05403\n",
      "epoch: 09, loss: -0.05403\n",
      "torch.Size([1024, 64])\n"
     ]
    },
    {
     "name": "stderr",
     "output_type": "stream",
     "text": [
      " 14%|█▎        | 136/1000 [1:00:02<6:12:16, 25.85s/it]"
     ]
    },
    {
     "name": "stdout",
     "output_type": "stream",
     "text": [
      "eigenvalues shape torch.Size([5]) eigenvectors shape torch.Size([5, 1024])\n",
      "136 /home/phdcs2/Hard_Disk/Datasets/Deep-Spectral-Segmentation/data/object-segmentation/ECSSD/features/0137_resized.pth\n",
      "dict_keys(['k', 'indices', 'file', 'id', 'model_name', 'patch_size', 'shape'])\n",
      "0137_resized\n",
      "Starting Training\n",
      "epoch: 00, loss: -0.07700\n",
      "epoch: 01, loss: -0.08604\n",
      "epoch: 02, loss: -0.08632\n",
      "epoch: 03, loss: -0.08640\n",
      "epoch: 04, loss: -0.08648\n",
      "epoch: 05, loss: -0.08691\n",
      "epoch: 06, loss: -0.08688\n",
      "epoch: 07, loss: -0.08722\n",
      "epoch: 08, loss: -0.08705\n",
      "epoch: 09, loss: -0.08701\n",
      "torch.Size([1024, 64])\n"
     ]
    },
    {
     "name": "stderr",
     "output_type": "stream",
     "text": [
      " 14%|█▎        | 137/1000 [1:00:28<6:13:03, 25.94s/it]"
     ]
    },
    {
     "name": "stdout",
     "output_type": "stream",
     "text": [
      "eigenvalues shape torch.Size([5]) eigenvectors shape torch.Size([5, 1024])\n",
      "137 /home/phdcs2/Hard_Disk/Datasets/Deep-Spectral-Segmentation/data/object-segmentation/ECSSD/features/0138_resized.pth\n",
      "dict_keys(['k', 'indices', 'file', 'id', 'model_name', 'patch_size', 'shape'])\n",
      "0138_resized\n",
      "Starting Training\n",
      "epoch: 00, loss: -0.04234\n",
      "epoch: 01, loss: -0.05493\n",
      "epoch: 02, loss: -0.05541\n",
      "epoch: 03, loss: -0.05585\n",
      "epoch: 04, loss: -0.05645\n",
      "epoch: 05, loss: -0.05609\n",
      "epoch: 06, loss: -0.05644\n",
      "epoch: 07, loss: -0.05659\n",
      "epoch: 08, loss: -0.05647\n",
      "epoch: 09, loss: -0.05663\n",
      "torch.Size([1024, 64])\n"
     ]
    },
    {
     "name": "stderr",
     "output_type": "stream",
     "text": [
      " 14%|█▍        | 138/1000 [1:00:54<6:13:24, 25.99s/it]"
     ]
    },
    {
     "name": "stdout",
     "output_type": "stream",
     "text": [
      "eigenvalues shape torch.Size([5]) eigenvectors shape torch.Size([5, 1024])\n",
      "138 /home/phdcs2/Hard_Disk/Datasets/Deep-Spectral-Segmentation/data/object-segmentation/ECSSD/features/0139_resized.pth\n",
      "dict_keys(['k', 'indices', 'file', 'id', 'model_name', 'patch_size', 'shape'])\n",
      "0139_resized\n",
      "Starting Training\n",
      "epoch: 00, loss: -0.04514\n",
      "epoch: 01, loss: -0.06037\n",
      "epoch: 02, loss: -0.06193\n",
      "epoch: 03, loss: -0.06357\n",
      "epoch: 04, loss: -0.06232\n",
      "epoch: 05, loss: -0.06393\n",
      "epoch: 06, loss: -0.06334\n",
      "epoch: 07, loss: -0.06385\n",
      "epoch: 08, loss: -0.06442\n",
      "epoch: 09, loss: -0.06432\n",
      "torch.Size([1024, 64])\n"
     ]
    },
    {
     "name": "stderr",
     "output_type": "stream",
     "text": [
      " 14%|█▍        | 139/1000 [1:01:19<6:05:20, 25.46s/it]"
     ]
    },
    {
     "name": "stdout",
     "output_type": "stream",
     "text": [
      "eigenvalues shape torch.Size([5]) eigenvectors shape torch.Size([5, 1024])\n",
      "139 /home/phdcs2/Hard_Disk/Datasets/Deep-Spectral-Segmentation/data/object-segmentation/ECSSD/features/0140_resized.pth\n",
      "dict_keys(['k', 'indices', 'file', 'id', 'model_name', 'patch_size', 'shape'])\n",
      "0140_resized\n",
      "Starting Training\n",
      "epoch: 00, loss: -0.01297\n",
      "epoch: 01, loss: -0.02821\n",
      "epoch: 02, loss: -0.03009\n",
      "epoch: 03, loss: -0.03019\n",
      "epoch: 04, loss: -0.03160\n",
      "epoch: 05, loss: -0.03189\n",
      "epoch: 06, loss: -0.03215\n",
      "epoch: 07, loss: -0.03132\n",
      "epoch: 08, loss: -0.03173\n",
      "epoch: 09, loss: -0.03226\n",
      "torch.Size([1024, 64])\n"
     ]
    },
    {
     "name": "stderr",
     "output_type": "stream",
     "text": [
      " 14%|█▍        | 140/1000 [1:01:45<6:08:50, 25.73s/it]"
     ]
    },
    {
     "name": "stdout",
     "output_type": "stream",
     "text": [
      "eigenvalues shape torch.Size([5]) eigenvectors shape torch.Size([5, 1024])\n",
      "140 /home/phdcs2/Hard_Disk/Datasets/Deep-Spectral-Segmentation/data/object-segmentation/ECSSD/features/0141_resized.pth\n",
      "dict_keys(['k', 'indices', 'file', 'id', 'model_name', 'patch_size', 'shape'])\n",
      "0141_resized\n",
      "Starting Training\n",
      "epoch: 00, loss: -0.02118\n",
      "epoch: 01, loss: -0.03264\n",
      "epoch: 02, loss: -0.03348\n",
      "epoch: 03, loss: -0.03371\n",
      "epoch: 04, loss: -0.03394\n",
      "epoch: 05, loss: -0.03412\n",
      "epoch: 06, loss: -0.03421\n",
      "epoch: 07, loss: -0.03449\n",
      "epoch: 08, loss: -0.03438\n",
      "epoch: 09, loss: -0.03452\n",
      "torch.Size([1024, 64])\n"
     ]
    },
    {
     "name": "stderr",
     "output_type": "stream",
     "text": [
      " 14%|█▍        | 141/1000 [1:02:11<6:09:32, 25.81s/it]"
     ]
    },
    {
     "name": "stdout",
     "output_type": "stream",
     "text": [
      "eigenvalues shape torch.Size([5]) eigenvectors shape torch.Size([5, 1024])\n",
      "141 /home/phdcs2/Hard_Disk/Datasets/Deep-Spectral-Segmentation/data/object-segmentation/ECSSD/features/0142_resized.pth\n",
      "dict_keys(['k', 'indices', 'file', 'id', 'model_name', 'patch_size', 'shape'])\n",
      "0142_resized\n",
      "Starting Training\n",
      "epoch: 00, loss: -0.08786\n",
      "epoch: 01, loss: -0.10121\n",
      "epoch: 02, loss: -0.10198\n",
      "epoch: 03, loss: -0.10191\n",
      "epoch: 04, loss: -0.10289\n",
      "epoch: 05, loss: -0.10255\n",
      "epoch: 06, loss: -0.10355\n",
      "epoch: 07, loss: -0.10357\n",
      "epoch: 08, loss: -0.10291\n",
      "epoch: 09, loss: -0.10334\n",
      "torch.Size([1024, 64])\n"
     ]
    },
    {
     "name": "stderr",
     "output_type": "stream",
     "text": [
      " 14%|█▍        | 142/1000 [1:02:36<6:07:36, 25.71s/it]"
     ]
    },
    {
     "name": "stdout",
     "output_type": "stream",
     "text": [
      "eigenvalues shape torch.Size([5]) eigenvectors shape torch.Size([5, 1024])\n",
      "142 /home/phdcs2/Hard_Disk/Datasets/Deep-Spectral-Segmentation/data/object-segmentation/ECSSD/features/0143_resized.pth\n",
      "dict_keys(['k', 'indices', 'file', 'id', 'model_name', 'patch_size', 'shape'])\n",
      "0143_resized\n",
      "Starting Training\n",
      "epoch: 00, loss: -0.05443\n",
      "epoch: 01, loss: -0.06292\n",
      "epoch: 02, loss: -0.06371\n",
      "epoch: 03, loss: -0.06377\n",
      "epoch: 04, loss: -0.06382\n",
      "epoch: 05, loss: -0.06414\n",
      "epoch: 06, loss: -0.06432\n",
      "epoch: 07, loss: -0.06420\n",
      "epoch: 08, loss: -0.06424\n",
      "epoch: 09, loss: -0.06428\n",
      "torch.Size([1024, 64])\n"
     ]
    },
    {
     "name": "stderr",
     "output_type": "stream",
     "text": [
      " 14%|█▍        | 143/1000 [1:03:02<6:07:22, 25.72s/it]"
     ]
    },
    {
     "name": "stdout",
     "output_type": "stream",
     "text": [
      "eigenvalues shape torch.Size([5]) eigenvectors shape torch.Size([5, 1024])\n",
      "143 /home/phdcs2/Hard_Disk/Datasets/Deep-Spectral-Segmentation/data/object-segmentation/ECSSD/features/0144_resized.pth\n",
      "dict_keys(['k', 'indices', 'file', 'id', 'model_name', 'patch_size', 'shape'])\n",
      "0144_resized\n",
      "Starting Training\n",
      "epoch: 00, loss: -0.06100\n",
      "epoch: 01, loss: -0.07496\n",
      "epoch: 02, loss: -0.07539\n",
      "epoch: 03, loss: -0.07578\n",
      "epoch: 04, loss: -0.07594\n",
      "epoch: 05, loss: -0.07597\n",
      "epoch: 06, loss: -0.07604\n",
      "epoch: 07, loss: -0.07616\n",
      "epoch: 08, loss: -0.07615\n",
      "epoch: 09, loss: -0.07629\n",
      "torch.Size([1024, 64])\n"
     ]
    },
    {
     "name": "stderr",
     "output_type": "stream",
     "text": [
      " 14%|█▍        | 144/1000 [1:03:27<6:05:24, 25.61s/it]"
     ]
    },
    {
     "name": "stdout",
     "output_type": "stream",
     "text": [
      "eigenvalues shape torch.Size([5]) eigenvectors shape torch.Size([5, 1024])\n",
      "144 /home/phdcs2/Hard_Disk/Datasets/Deep-Spectral-Segmentation/data/object-segmentation/ECSSD/features/0145_resized.pth\n",
      "dict_keys(['k', 'indices', 'file', 'id', 'model_name', 'patch_size', 'shape'])\n",
      "0145_resized\n",
      "Starting Training\n",
      "epoch: 00, loss: -0.03627\n",
      "epoch: 01, loss: -0.04947\n",
      "epoch: 02, loss: -0.05106\n",
      "epoch: 03, loss: -0.04973\n",
      "epoch: 04, loss: -0.05151\n",
      "epoch: 05, loss: -0.05105\n",
      "epoch: 06, loss: -0.05122\n",
      "epoch: 07, loss: -0.05181\n",
      "epoch: 08, loss: -0.05150\n",
      "epoch: 09, loss: -0.05213\n",
      "torch.Size([1024, 64])\n"
     ]
    },
    {
     "name": "stderr",
     "output_type": "stream",
     "text": [
      " 14%|█▍        | 145/1000 [1:03:53<6:04:28, 25.58s/it]"
     ]
    },
    {
     "name": "stdout",
     "output_type": "stream",
     "text": [
      "eigenvalues shape torch.Size([5]) eigenvectors shape torch.Size([5, 1024])\n",
      "145 /home/phdcs2/Hard_Disk/Datasets/Deep-Spectral-Segmentation/data/object-segmentation/ECSSD/features/0146_resized.pth\n",
      "dict_keys(['k', 'indices', 'file', 'id', 'model_name', 'patch_size', 'shape'])\n",
      "0146_resized\n",
      "Starting Training\n",
      "epoch: 00, loss: -0.02824\n",
      "epoch: 01, loss: -0.04602\n",
      "epoch: 02, loss: -0.04758\n",
      "epoch: 03, loss: -0.04985\n",
      "epoch: 04, loss: -0.05006\n",
      "epoch: 05, loss: -0.05106\n",
      "epoch: 06, loss: -0.05100\n",
      "epoch: 07, loss: -0.05128\n",
      "epoch: 08, loss: -0.05099\n",
      "epoch: 09, loss: -0.05184\n",
      "torch.Size([1024, 64])\n"
     ]
    },
    {
     "name": "stderr",
     "output_type": "stream",
     "text": [
      " 15%|█▍        | 146/1000 [1:04:19<6:07:41, 25.83s/it]"
     ]
    },
    {
     "name": "stdout",
     "output_type": "stream",
     "text": [
      "eigenvalues shape torch.Size([5]) eigenvectors shape torch.Size([5, 1024])\n",
      "146 /home/phdcs2/Hard_Disk/Datasets/Deep-Spectral-Segmentation/data/object-segmentation/ECSSD/features/0147_resized.pth\n",
      "dict_keys(['k', 'indices', 'file', 'id', 'model_name', 'patch_size', 'shape'])\n",
      "0147_resized\n",
      "Starting Training\n",
      "epoch: 00, loss: -0.16340\n",
      "epoch: 01, loss: -0.18346\n",
      "epoch: 02, loss: -0.18561\n",
      "epoch: 03, loss: -0.18720\n",
      "epoch: 04, loss: -0.18791\n",
      "epoch: 05, loss: -0.18867\n",
      "epoch: 06, loss: -0.18665\n",
      "epoch: 07, loss: -0.18879\n",
      "epoch: 08, loss: -0.18932\n",
      "epoch: 09, loss: -0.18913\n",
      "torch.Size([1024, 64])\n"
     ]
    },
    {
     "name": "stderr",
     "output_type": "stream",
     "text": [
      " 15%|█▍        | 147/1000 [1:04:45<6:05:54, 25.74s/it]"
     ]
    },
    {
     "name": "stdout",
     "output_type": "stream",
     "text": [
      "eigenvalues shape torch.Size([5]) eigenvectors shape torch.Size([5, 1024])\n",
      "147 /home/phdcs2/Hard_Disk/Datasets/Deep-Spectral-Segmentation/data/object-segmentation/ECSSD/features/0148_resized.pth\n",
      "dict_keys(['k', 'indices', 'file', 'id', 'model_name', 'patch_size', 'shape'])\n",
      "0148_resized\n",
      "Starting Training\n",
      "epoch: 00, loss: -0.08192\n",
      "epoch: 01, loss: -0.09667\n",
      "epoch: 02, loss: -0.09748\n",
      "epoch: 03, loss: -0.09697\n",
      "epoch: 04, loss: -0.10025\n",
      "epoch: 05, loss: -0.10145\n",
      "epoch: 06, loss: -0.10035\n",
      "epoch: 07, loss: -0.10189\n",
      "epoch: 08, loss: -0.10130\n",
      "epoch: 09, loss: -0.10054\n",
      "torch.Size([1024, 64])\n"
     ]
    },
    {
     "name": "stderr",
     "output_type": "stream",
     "text": [
      " 15%|█▍        | 148/1000 [1:05:10<6:03:17, 25.58s/it]"
     ]
    },
    {
     "name": "stdout",
     "output_type": "stream",
     "text": [
      "eigenvalues shape torch.Size([5]) eigenvectors shape torch.Size([5, 1024])\n",
      "148 /home/phdcs2/Hard_Disk/Datasets/Deep-Spectral-Segmentation/data/object-segmentation/ECSSD/features/0149_resized.pth\n",
      "dict_keys(['k', 'indices', 'file', 'id', 'model_name', 'patch_size', 'shape'])\n",
      "0149_resized\n",
      "Starting Training\n",
      "epoch: 00, loss: -0.05069\n",
      "epoch: 01, loss: -0.05989\n",
      "epoch: 02, loss: -0.06033\n",
      "epoch: 03, loss: -0.06066\n",
      "epoch: 04, loss: -0.06075\n",
      "epoch: 05, loss: -0.06107\n",
      "epoch: 06, loss: -0.06121\n",
      "epoch: 07, loss: -0.06116\n",
      "epoch: 08, loss: -0.06124\n",
      "epoch: 09, loss: -0.06140\n",
      "torch.Size([1024, 64])\n"
     ]
    },
    {
     "name": "stderr",
     "output_type": "stream",
     "text": [
      " 15%|█▍        | 149/1000 [1:05:35<6:01:01, 25.45s/it]"
     ]
    },
    {
     "name": "stdout",
     "output_type": "stream",
     "text": [
      "eigenvalues shape torch.Size([5]) eigenvectors shape torch.Size([5, 1024])\n",
      "149 /home/phdcs2/Hard_Disk/Datasets/Deep-Spectral-Segmentation/data/object-segmentation/ECSSD/features/0150_resized.pth\n",
      "dict_keys(['k', 'indices', 'file', 'id', 'model_name', 'patch_size', 'shape'])\n",
      "0150_resized\n",
      "Starting Training\n",
      "epoch: 00, loss: -0.03701\n",
      "epoch: 01, loss: -0.05161\n",
      "epoch: 02, loss: -0.05328\n",
      "epoch: 03, loss: -0.05270\n",
      "epoch: 04, loss: -0.05514\n",
      "epoch: 05, loss: -0.05642\n",
      "epoch: 06, loss: -0.05604\n",
      "epoch: 07, loss: -0.05657\n",
      "epoch: 08, loss: -0.05748\n",
      "epoch: 09, loss: -0.05580\n",
      "torch.Size([1024, 64])\n"
     ]
    },
    {
     "name": "stderr",
     "output_type": "stream",
     "text": [
      " 15%|█▌        | 150/1000 [1:06:01<5:59:49, 25.40s/it]"
     ]
    },
    {
     "name": "stdout",
     "output_type": "stream",
     "text": [
      "eigenvalues shape torch.Size([5]) eigenvectors shape torch.Size([5, 1024])\n",
      "150 /home/phdcs2/Hard_Disk/Datasets/Deep-Spectral-Segmentation/data/object-segmentation/ECSSD/features/0151_resized.pth\n",
      "dict_keys(['k', 'indices', 'file', 'id', 'model_name', 'patch_size', 'shape'])\n",
      "0151_resized\n",
      "Starting Training\n",
      "epoch: 00, loss: -0.09242\n",
      "epoch: 01, loss: -0.10548\n",
      "epoch: 02, loss: -0.10554\n",
      "epoch: 03, loss: -0.10631\n",
      "epoch: 04, loss: -0.10465\n",
      "epoch: 05, loss: -0.10546\n",
      "epoch: 06, loss: -0.10581\n",
      "epoch: 07, loss: -0.10510\n",
      "epoch: 08, loss: -0.10532\n",
      "epoch: 09, loss: -0.10592\n",
      "torch.Size([1024, 64])\n"
     ]
    },
    {
     "name": "stderr",
     "output_type": "stream",
     "text": [
      " 15%|█▌        | 151/1000 [1:06:26<5:59:26, 25.40s/it]"
     ]
    },
    {
     "name": "stdout",
     "output_type": "stream",
     "text": [
      "eigenvalues shape torch.Size([5]) eigenvectors shape torch.Size([5, 1024])\n",
      "151 /home/phdcs2/Hard_Disk/Datasets/Deep-Spectral-Segmentation/data/object-segmentation/ECSSD/features/0152_resized.pth\n",
      "dict_keys(['k', 'indices', 'file', 'id', 'model_name', 'patch_size', 'shape'])\n",
      "0152_resized\n",
      "Starting Training\n",
      "epoch: 00, loss: -0.06980\n",
      "epoch: 01, loss: -0.08746\n",
      "epoch: 02, loss: -0.08747\n",
      "epoch: 03, loss: -0.08782\n",
      "epoch: 04, loss: -0.08926\n",
      "epoch: 05, loss: -0.08978\n",
      "epoch: 06, loss: -0.08918\n",
      "epoch: 07, loss: -0.09011\n",
      "epoch: 08, loss: -0.08965\n",
      "epoch: 09, loss: -0.09014\n",
      "torch.Size([1024, 64])\n"
     ]
    },
    {
     "name": "stderr",
     "output_type": "stream",
     "text": [
      " 15%|█▌        | 152/1000 [1:06:51<5:58:31, 25.37s/it]"
     ]
    },
    {
     "name": "stdout",
     "output_type": "stream",
     "text": [
      "eigenvalues shape torch.Size([5]) eigenvectors shape torch.Size([5, 1024])\n",
      "152 /home/phdcs2/Hard_Disk/Datasets/Deep-Spectral-Segmentation/data/object-segmentation/ECSSD/features/0153_resized.pth\n",
      "dict_keys(['k', 'indices', 'file', 'id', 'model_name', 'patch_size', 'shape'])\n",
      "0153_resized\n",
      "Starting Training\n",
      "epoch: 00, loss: -0.01596\n",
      "epoch: 01, loss: -0.03015\n",
      "epoch: 02, loss: -0.03395\n",
      "epoch: 03, loss: -0.03467\n",
      "epoch: 04, loss: -0.03447\n",
      "epoch: 05, loss: -0.03563\n",
      "epoch: 06, loss: -0.03544\n",
      "epoch: 07, loss: -0.03563\n",
      "epoch: 08, loss: -0.03618\n",
      "epoch: 09, loss: -0.03547\n",
      "torch.Size([1024, 64])\n"
     ]
    },
    {
     "name": "stderr",
     "output_type": "stream",
     "text": [
      " 15%|█▌        | 153/1000 [1:07:17<6:01:27, 25.60s/it]"
     ]
    },
    {
     "name": "stdout",
     "output_type": "stream",
     "text": [
      "eigenvalues shape torch.Size([5]) eigenvectors shape torch.Size([5, 1024])\n",
      "153 /home/phdcs2/Hard_Disk/Datasets/Deep-Spectral-Segmentation/data/object-segmentation/ECSSD/features/0154_resized.pth\n",
      "dict_keys(['k', 'indices', 'file', 'id', 'model_name', 'patch_size', 'shape'])\n",
      "0154_resized\n",
      "Starting Training\n",
      "epoch: 00, loss: -0.03999\n",
      "epoch: 01, loss: -0.05341\n",
      "epoch: 02, loss: -0.05435\n",
      "epoch: 03, loss: -0.05703\n",
      "epoch: 04, loss: -0.05689\n",
      "epoch: 05, loss: -0.05600\n",
      "epoch: 06, loss: -0.05585\n",
      "epoch: 07, loss: -0.05731\n",
      "epoch: 08, loss: -0.05696\n",
      "epoch: 09, loss: -0.05735\n",
      "torch.Size([1024, 64])\n"
     ]
    },
    {
     "name": "stderr",
     "output_type": "stream",
     "text": [
      " 15%|█▌        | 154/1000 [1:07:45<6:08:06, 26.11s/it]"
     ]
    },
    {
     "name": "stdout",
     "output_type": "stream",
     "text": [
      "eigenvalues shape torch.Size([5]) eigenvectors shape torch.Size([5, 1024])\n",
      "154 /home/phdcs2/Hard_Disk/Datasets/Deep-Spectral-Segmentation/data/object-segmentation/ECSSD/features/0155_resized.pth\n",
      "dict_keys(['k', 'indices', 'file', 'id', 'model_name', 'patch_size', 'shape'])\n",
      "0155_resized\n",
      "Starting Training\n",
      "epoch: 00, loss: -0.04845\n",
      "epoch: 01, loss: -0.06113\n",
      "epoch: 02, loss: -0.06184\n",
      "epoch: 03, loss: -0.06520\n",
      "epoch: 04, loss: -0.06393\n",
      "epoch: 05, loss: -0.06372\n",
      "epoch: 06, loss: -0.06542\n",
      "epoch: 07, loss: -0.06363\n",
      "epoch: 08, loss: -0.06540\n",
      "epoch: 09, loss: -0.06564\n",
      "torch.Size([1024, 64])\n"
     ]
    },
    {
     "name": "stderr",
     "output_type": "stream",
     "text": [
      " 16%|█▌        | 155/1000 [1:08:10<6:05:51, 25.98s/it]"
     ]
    },
    {
     "name": "stdout",
     "output_type": "stream",
     "text": [
      "eigenvalues shape torch.Size([5]) eigenvectors shape torch.Size([5, 1024])\n",
      "155 /home/phdcs2/Hard_Disk/Datasets/Deep-Spectral-Segmentation/data/object-segmentation/ECSSD/features/0156_resized.pth\n",
      "dict_keys(['k', 'indices', 'file', 'id', 'model_name', 'patch_size', 'shape'])\n",
      "0156_resized\n",
      "Starting Training\n",
      "epoch: 00, loss: -0.05752\n",
      "epoch: 01, loss: -0.06742\n",
      "epoch: 02, loss: -0.06775\n",
      "epoch: 03, loss: -0.06871\n",
      "epoch: 04, loss: -0.06895\n",
      "epoch: 05, loss: -0.06892\n",
      "epoch: 06, loss: -0.06898\n",
      "epoch: 07, loss: -0.06905\n",
      "epoch: 08, loss: -0.06943\n",
      "epoch: 09, loss: -0.06983\n",
      "torch.Size([1024, 64])\n"
     ]
    },
    {
     "name": "stderr",
     "output_type": "stream",
     "text": [
      " 16%|█▌        | 156/1000 [1:08:37<6:06:12, 26.03s/it]"
     ]
    },
    {
     "name": "stdout",
     "output_type": "stream",
     "text": [
      "eigenvalues shape torch.Size([5]) eigenvectors shape torch.Size([5, 1024])\n",
      "156 /home/phdcs2/Hard_Disk/Datasets/Deep-Spectral-Segmentation/data/object-segmentation/ECSSD/features/0157_resized.pth\n",
      "dict_keys(['k', 'indices', 'file', 'id', 'model_name', 'patch_size', 'shape'])\n",
      "0157_resized\n",
      "Starting Training\n",
      "epoch: 00, loss: -0.05363\n",
      "epoch: 01, loss: -0.06330\n",
      "epoch: 02, loss: -0.06357\n",
      "epoch: 03, loss: -0.06427\n",
      "epoch: 04, loss: -0.06444\n",
      "epoch: 05, loss: -0.06443\n",
      "epoch: 06, loss: -0.06467\n",
      "epoch: 07, loss: -0.06479\n",
      "epoch: 08, loss: -0.06490\n",
      "epoch: 09, loss: -0.06492\n",
      "torch.Size([1024, 64])\n"
     ]
    },
    {
     "name": "stderr",
     "output_type": "stream",
     "text": [
      " 16%|█▌        | 157/1000 [1:09:01<6:00:48, 25.68s/it]"
     ]
    },
    {
     "name": "stdout",
     "output_type": "stream",
     "text": [
      "eigenvalues shape torch.Size([5]) eigenvectors shape torch.Size([5, 1024])\n",
      "157 /home/phdcs2/Hard_Disk/Datasets/Deep-Spectral-Segmentation/data/object-segmentation/ECSSD/features/0158_resized.pth\n",
      "dict_keys(['k', 'indices', 'file', 'id', 'model_name', 'patch_size', 'shape'])\n",
      "0158_resized\n",
      "Starting Training\n",
      "epoch: 00, loss: -0.16512\n",
      "epoch: 01, loss: -0.17773\n",
      "epoch: 02, loss: -0.17866\n",
      "epoch: 03, loss: -0.17977\n",
      "epoch: 04, loss: -0.17988\n",
      "epoch: 05, loss: -0.18041\n",
      "epoch: 06, loss: -0.18076\n",
      "epoch: 07, loss: -0.17981\n",
      "epoch: 08, loss: -0.18057\n",
      "epoch: 09, loss: -0.18027\n",
      "torch.Size([1024, 64])\n"
     ]
    },
    {
     "name": "stderr",
     "output_type": "stream",
     "text": [
      " 16%|█▌        | 158/1000 [1:09:27<6:01:39, 25.77s/it]"
     ]
    },
    {
     "name": "stdout",
     "output_type": "stream",
     "text": [
      "eigenvalues shape torch.Size([5]) eigenvectors shape torch.Size([5, 1024])\n",
      "158 /home/phdcs2/Hard_Disk/Datasets/Deep-Spectral-Segmentation/data/object-segmentation/ECSSD/features/0159_resized.pth\n",
      "dict_keys(['k', 'indices', 'file', 'id', 'model_name', 'patch_size', 'shape'])\n",
      "0159_resized\n",
      "Starting Training\n",
      "epoch: 00, loss: -0.04398\n",
      "epoch: 01, loss: -0.05865\n",
      "epoch: 02, loss: -0.06154\n",
      "epoch: 03, loss: -0.06247\n",
      "epoch: 04, loss: -0.06311\n",
      "epoch: 05, loss: -0.06430\n",
      "epoch: 06, loss: -0.06284\n",
      "epoch: 07, loss: -0.06299\n",
      "epoch: 08, loss: -0.06300\n",
      "epoch: 09, loss: -0.06503\n",
      "torch.Size([1024, 64])\n"
     ]
    },
    {
     "name": "stderr",
     "output_type": "stream",
     "text": [
      " 16%|█▌        | 159/1000 [1:09:53<5:59:09, 25.62s/it]"
     ]
    },
    {
     "name": "stdout",
     "output_type": "stream",
     "text": [
      "eigenvalues shape torch.Size([5]) eigenvectors shape torch.Size([5, 1024])\n",
      "159 /home/phdcs2/Hard_Disk/Datasets/Deep-Spectral-Segmentation/data/object-segmentation/ECSSD/features/0160_resized.pth\n",
      "dict_keys(['k', 'indices', 'file', 'id', 'model_name', 'patch_size', 'shape'])\n",
      "0160_resized\n",
      "Starting Training\n",
      "epoch: 00, loss: -0.05656\n",
      "epoch: 01, loss: -0.06649\n",
      "epoch: 02, loss: -0.06767\n",
      "epoch: 03, loss: -0.06788\n",
      "epoch: 04, loss: -0.06769\n",
      "epoch: 05, loss: -0.06846\n",
      "epoch: 06, loss: -0.06867\n",
      "epoch: 07, loss: -0.06936\n",
      "epoch: 08, loss: -0.06849\n",
      "epoch: 09, loss: -0.06891\n",
      "torch.Size([1024, 64])\n"
     ]
    },
    {
     "name": "stderr",
     "output_type": "stream",
     "text": [
      " 16%|█▌        | 160/1000 [1:10:20<6:05:38, 26.12s/it]"
     ]
    },
    {
     "name": "stdout",
     "output_type": "stream",
     "text": [
      "eigenvalues shape torch.Size([5]) eigenvectors shape torch.Size([5, 1024])\n",
      "160 /home/phdcs2/Hard_Disk/Datasets/Deep-Spectral-Segmentation/data/object-segmentation/ECSSD/features/0161_resized.pth\n",
      "dict_keys(['k', 'indices', 'file', 'id', 'model_name', 'patch_size', 'shape'])\n",
      "0161_resized\n",
      "Starting Training\n",
      "epoch: 00, loss: -0.01793\n",
      "epoch: 01, loss: -0.03620\n",
      "epoch: 02, loss: -0.03986\n",
      "epoch: 03, loss: -0.03963\n",
      "epoch: 04, loss: -0.03900\n",
      "epoch: 05, loss: -0.04096\n",
      "epoch: 06, loss: -0.04240\n",
      "epoch: 07, loss: -0.04011\n",
      "epoch: 08, loss: -0.04138\n",
      "epoch: 09, loss: -0.04222\n",
      "torch.Size([1024, 64])\n"
     ]
    },
    {
     "name": "stderr",
     "output_type": "stream",
     "text": [
      " 16%|█▌        | 161/1000 [1:10:46<6:07:04, 26.25s/it]"
     ]
    },
    {
     "name": "stdout",
     "output_type": "stream",
     "text": [
      "eigenvalues shape torch.Size([5]) eigenvectors shape torch.Size([5, 1024])\n",
      "161 /home/phdcs2/Hard_Disk/Datasets/Deep-Spectral-Segmentation/data/object-segmentation/ECSSD/features/0162_resized.pth\n",
      "dict_keys(['k', 'indices', 'file', 'id', 'model_name', 'patch_size', 'shape'])\n",
      "0162_resized\n",
      "Starting Training\n",
      "epoch: 00, loss: -0.05790\n",
      "epoch: 01, loss: -0.06952\n",
      "epoch: 02, loss: -0.07167\n",
      "epoch: 03, loss: -0.06630\n",
      "epoch: 04, loss: -0.07252\n",
      "epoch: 05, loss: -0.07027\n",
      "epoch: 06, loss: -0.06912\n",
      "epoch: 07, loss: -0.07014\n",
      "epoch: 08, loss: -0.07168\n",
      "epoch: 09, loss: -0.07218\n",
      "torch.Size([1024, 64])\n"
     ]
    },
    {
     "name": "stderr",
     "output_type": "stream",
     "text": [
      " 16%|█▌        | 162/1000 [1:11:12<6:03:54, 26.06s/it]"
     ]
    },
    {
     "name": "stdout",
     "output_type": "stream",
     "text": [
      "eigenvalues shape torch.Size([5]) eigenvectors shape torch.Size([5, 1024])\n",
      "162 /home/phdcs2/Hard_Disk/Datasets/Deep-Spectral-Segmentation/data/object-segmentation/ECSSD/features/0163_resized.pth\n",
      "dict_keys(['k', 'indices', 'file', 'id', 'model_name', 'patch_size', 'shape'])\n",
      "0163_resized\n",
      "Starting Training\n",
      "epoch: 00, loss: -0.05588\n",
      "epoch: 01, loss: -0.06748\n",
      "epoch: 02, loss: -0.06776\n",
      "epoch: 03, loss: -0.06831\n",
      "epoch: 04, loss: -0.06856\n",
      "epoch: 05, loss: -0.06861\n",
      "epoch: 06, loss: -0.06886\n",
      "epoch: 07, loss: -0.06876\n",
      "epoch: 08, loss: -0.06888\n",
      "epoch: 09, loss: -0.06898\n",
      "torch.Size([1024, 64])\n"
     ]
    },
    {
     "name": "stderr",
     "output_type": "stream",
     "text": [
      " 16%|█▋        | 163/1000 [1:11:38<6:02:11, 25.96s/it]"
     ]
    },
    {
     "name": "stdout",
     "output_type": "stream",
     "text": [
      "eigenvalues shape torch.Size([5]) eigenvectors shape torch.Size([5, 1024])\n",
      "163 /home/phdcs2/Hard_Disk/Datasets/Deep-Spectral-Segmentation/data/object-segmentation/ECSSD/features/0164_resized.pth\n",
      "dict_keys(['k', 'indices', 'file', 'id', 'model_name', 'patch_size', 'shape'])\n",
      "0164_resized\n",
      "Starting Training\n",
      "epoch: 00, loss: -0.08527\n",
      "epoch: 01, loss: -0.09359\n",
      "epoch: 02, loss: -0.09389\n",
      "epoch: 03, loss: -0.09402\n",
      "epoch: 04, loss: -0.09417\n",
      "epoch: 05, loss: -0.09434\n",
      "epoch: 06, loss: -0.09447\n",
      "epoch: 07, loss: -0.09448\n",
      "epoch: 08, loss: -0.09455\n",
      "epoch: 09, loss: -0.09461\n",
      "torch.Size([1024, 64])\n"
     ]
    },
    {
     "name": "stderr",
     "output_type": "stream",
     "text": [
      " 16%|█▋        | 164/1000 [1:12:02<5:56:01, 25.55s/it]"
     ]
    },
    {
     "name": "stdout",
     "output_type": "stream",
     "text": [
      "eigenvalues shape torch.Size([5]) eigenvectors shape torch.Size([5, 1024])\n",
      "164 /home/phdcs2/Hard_Disk/Datasets/Deep-Spectral-Segmentation/data/object-segmentation/ECSSD/features/0165_resized.pth\n",
      "dict_keys(['k', 'indices', 'file', 'id', 'model_name', 'patch_size', 'shape'])\n",
      "0165_resized\n",
      "Starting Training\n",
      "epoch: 00, loss: -0.02801\n",
      "epoch: 01, loss: -0.04388\n",
      "epoch: 02, loss: -0.04423\n",
      "epoch: 03, loss: -0.04462\n",
      "epoch: 04, loss: -0.04508\n",
      "epoch: 05, loss: -0.04508\n",
      "epoch: 06, loss: -0.04522\n",
      "epoch: 07, loss: -0.04535\n",
      "epoch: 08, loss: -0.04540\n",
      "epoch: 09, loss: -0.04544\n",
      "torch.Size([1024, 64])\n"
     ]
    },
    {
     "name": "stderr",
     "output_type": "stream",
     "text": [
      " 16%|█▋        | 165/1000 [1:12:28<5:57:31, 25.69s/it]"
     ]
    },
    {
     "name": "stdout",
     "output_type": "stream",
     "text": [
      "eigenvalues shape torch.Size([5]) eigenvectors shape torch.Size([5, 1024])\n",
      "165 /home/phdcs2/Hard_Disk/Datasets/Deep-Spectral-Segmentation/data/object-segmentation/ECSSD/features/0166_resized.pth\n",
      "dict_keys(['k', 'indices', 'file', 'id', 'model_name', 'patch_size', 'shape'])\n",
      "0166_resized\n",
      "Starting Training\n",
      "epoch: 00, loss: -0.05710\n",
      "epoch: 01, loss: -0.07534\n",
      "epoch: 02, loss: -0.07612\n",
      "epoch: 03, loss: -0.07819\n",
      "epoch: 04, loss: -0.07764\n",
      "epoch: 05, loss: -0.07812\n",
      "epoch: 06, loss: -0.07931\n",
      "epoch: 07, loss: -0.07954\n",
      "epoch: 08, loss: -0.07857\n",
      "epoch: 09, loss: -0.07817\n",
      "torch.Size([1024, 64])\n"
     ]
    },
    {
     "name": "stderr",
     "output_type": "stream",
     "text": [
      " 17%|█▋        | 166/1000 [1:12:55<5:59:03, 25.83s/it]"
     ]
    },
    {
     "name": "stdout",
     "output_type": "stream",
     "text": [
      "eigenvalues shape torch.Size([5]) eigenvectors shape torch.Size([5, 1024])\n",
      "166 /home/phdcs2/Hard_Disk/Datasets/Deep-Spectral-Segmentation/data/object-segmentation/ECSSD/features/0167_resized.pth\n",
      "dict_keys(['k', 'indices', 'file', 'id', 'model_name', 'patch_size', 'shape'])\n",
      "0167_resized\n",
      "Starting Training\n",
      "epoch: 00, loss: -0.03433\n",
      "epoch: 01, loss: -0.04655\n",
      "epoch: 02, loss: -0.04645\n",
      "epoch: 03, loss: -0.04670\n",
      "epoch: 04, loss: -0.04707\n",
      "epoch: 05, loss: -0.04711\n",
      "epoch: 06, loss: -0.04729\n",
      "epoch: 07, loss: -0.04728\n",
      "epoch: 08, loss: -0.04745\n",
      "epoch: 09, loss: -0.04754\n",
      "torch.Size([1024, 64])\n"
     ]
    },
    {
     "name": "stderr",
     "output_type": "stream",
     "text": [
      " 17%|█▋        | 167/1000 [1:13:20<5:56:44, 25.70s/it]"
     ]
    },
    {
     "name": "stdout",
     "output_type": "stream",
     "text": [
      "eigenvalues shape torch.Size([5]) eigenvectors shape torch.Size([5, 1024])\n",
      "167 /home/phdcs2/Hard_Disk/Datasets/Deep-Spectral-Segmentation/data/object-segmentation/ECSSD/features/0168_resized.pth\n",
      "dict_keys(['k', 'indices', 'file', 'id', 'model_name', 'patch_size', 'shape'])\n",
      "0168_resized\n",
      "Starting Training\n",
      "epoch: 00, loss: -0.06774\n",
      "epoch: 01, loss: -0.07849\n",
      "epoch: 02, loss: -0.07830\n",
      "epoch: 03, loss: -0.07880\n",
      "epoch: 04, loss: -0.07919\n",
      "epoch: 05, loss: -0.07901\n",
      "epoch: 06, loss: -0.07919\n",
      "epoch: 07, loss: -0.07921\n",
      "epoch: 08, loss: -0.07930\n",
      "epoch: 09, loss: -0.07955\n",
      "torch.Size([1024, 64])\n"
     ]
    },
    {
     "name": "stderr",
     "output_type": "stream",
     "text": [
      " 17%|█▋        | 168/1000 [1:13:45<5:54:33, 25.57s/it]"
     ]
    },
    {
     "name": "stdout",
     "output_type": "stream",
     "text": [
      "eigenvalues shape torch.Size([5]) eigenvectors shape torch.Size([5, 1024])\n",
      "168 /home/phdcs2/Hard_Disk/Datasets/Deep-Spectral-Segmentation/data/object-segmentation/ECSSD/features/0169_resized.pth\n",
      "dict_keys(['k', 'indices', 'file', 'id', 'model_name', 'patch_size', 'shape'])\n",
      "0169_resized\n",
      "Starting Training\n",
      "epoch: 00, loss: -0.02549\n",
      "epoch: 01, loss: -0.04098\n",
      "epoch: 02, loss: -0.04210\n",
      "epoch: 03, loss: -0.04192\n",
      "epoch: 04, loss: -0.04223\n",
      "epoch: 05, loss: -0.04240\n",
      "epoch: 06, loss: -0.04255\n",
      "epoch: 07, loss: -0.04280\n",
      "epoch: 08, loss: -0.04281\n",
      "epoch: 09, loss: -0.04283\n",
      "torch.Size([1024, 64])\n"
     ]
    },
    {
     "name": "stderr",
     "output_type": "stream",
     "text": [
      " 17%|█▋        | 169/1000 [1:14:12<5:58:41, 25.90s/it]"
     ]
    },
    {
     "name": "stdout",
     "output_type": "stream",
     "text": [
      "eigenvalues shape torch.Size([5]) eigenvectors shape torch.Size([5, 1024])\n",
      "169 /home/phdcs2/Hard_Disk/Datasets/Deep-Spectral-Segmentation/data/object-segmentation/ECSSD/features/0170_resized.pth\n",
      "dict_keys(['k', 'indices', 'file', 'id', 'model_name', 'patch_size', 'shape'])\n",
      "0170_resized\n",
      "Starting Training\n",
      "epoch: 00, loss: -0.05621\n",
      "epoch: 01, loss: -0.06782\n",
      "epoch: 02, loss: -0.06860\n",
      "epoch: 03, loss: -0.06871\n",
      "epoch: 04, loss: -0.06919\n",
      "epoch: 05, loss: -0.06930\n",
      "epoch: 06, loss: -0.06950\n",
      "epoch: 07, loss: -0.07009\n",
      "epoch: 08, loss: -0.06940\n",
      "epoch: 09, loss: -0.07037\n",
      "torch.Size([1024, 64])\n"
     ]
    },
    {
     "name": "stderr",
     "output_type": "stream",
     "text": [
      " 17%|█▋        | 170/1000 [1:14:38<6:01:07, 26.11s/it]"
     ]
    },
    {
     "name": "stdout",
     "output_type": "stream",
     "text": [
      "eigenvalues shape torch.Size([5]) eigenvectors shape torch.Size([5, 1024])\n",
      "170 /home/phdcs2/Hard_Disk/Datasets/Deep-Spectral-Segmentation/data/object-segmentation/ECSSD/features/0171_resized.pth\n",
      "dict_keys(['k', 'indices', 'file', 'id', 'model_name', 'patch_size', 'shape'])\n",
      "0171_resized\n",
      "Starting Training\n",
      "epoch: 00, loss: -0.06317\n",
      "epoch: 01, loss: -0.07438\n",
      "epoch: 02, loss: -0.07671\n",
      "epoch: 03, loss: -0.07829\n",
      "epoch: 04, loss: -0.07874\n",
      "epoch: 05, loss: -0.07951\n",
      "epoch: 06, loss: -0.08040\n",
      "epoch: 07, loss: -0.08059\n",
      "epoch: 08, loss: -0.07918\n",
      "epoch: 09, loss: -0.07995\n",
      "torch.Size([1024, 64])\n"
     ]
    },
    {
     "name": "stderr",
     "output_type": "stream",
     "text": [
      " 17%|█▋        | 171/1000 [1:15:04<6:00:08, 26.07s/it]"
     ]
    },
    {
     "name": "stdout",
     "output_type": "stream",
     "text": [
      "eigenvalues shape torch.Size([5]) eigenvectors shape torch.Size([5, 1024])\n",
      "171 /home/phdcs2/Hard_Disk/Datasets/Deep-Spectral-Segmentation/data/object-segmentation/ECSSD/features/0172_resized.pth\n",
      "dict_keys(['k', 'indices', 'file', 'id', 'model_name', 'patch_size', 'shape'])\n",
      "0172_resized\n",
      "Starting Training\n",
      "epoch: 00, loss: -0.05658\n",
      "epoch: 01, loss: -0.07174\n",
      "epoch: 02, loss: -0.07303\n",
      "epoch: 03, loss: -0.07334\n",
      "epoch: 04, loss: -0.07328\n",
      "epoch: 05, loss: -0.07402\n",
      "epoch: 06, loss: -0.07347\n",
      "epoch: 07, loss: -0.07437\n",
      "epoch: 08, loss: -0.07443\n",
      "epoch: 09, loss: -0.07374\n",
      "torch.Size([1024, 64])\n"
     ]
    },
    {
     "name": "stderr",
     "output_type": "stream",
     "text": [
      " 17%|█▋        | 172/1000 [1:15:29<5:54:15, 25.67s/it]"
     ]
    },
    {
     "name": "stdout",
     "output_type": "stream",
     "text": [
      "eigenvalues shape torch.Size([5]) eigenvectors shape torch.Size([5, 1024])\n",
      "172 /home/phdcs2/Hard_Disk/Datasets/Deep-Spectral-Segmentation/data/object-segmentation/ECSSD/features/0173_resized.pth\n",
      "dict_keys(['k', 'indices', 'file', 'id', 'model_name', 'patch_size', 'shape'])\n",
      "0173_resized\n",
      "Starting Training\n",
      "epoch: 00, loss: -0.07937\n",
      "epoch: 01, loss: -0.09008\n",
      "epoch: 02, loss: -0.08990\n",
      "epoch: 03, loss: -0.09021\n",
      "epoch: 04, loss: -0.09058\n",
      "epoch: 05, loss: -0.09081\n",
      "epoch: 06, loss: -0.09076\n",
      "epoch: 07, loss: -0.09095\n",
      "epoch: 08, loss: -0.09096\n",
      "epoch: 09, loss: -0.09086\n",
      "torch.Size([1024, 64])\n"
     ]
    },
    {
     "name": "stderr",
     "output_type": "stream",
     "text": [
      " 17%|█▋        | 173/1000 [1:15:55<5:52:21, 25.56s/it]"
     ]
    },
    {
     "name": "stdout",
     "output_type": "stream",
     "text": [
      "eigenvalues shape torch.Size([5]) eigenvectors shape torch.Size([5, 1024])\n",
      "173 /home/phdcs2/Hard_Disk/Datasets/Deep-Spectral-Segmentation/data/object-segmentation/ECSSD/features/0174_resized.pth\n",
      "dict_keys(['k', 'indices', 'file', 'id', 'model_name', 'patch_size', 'shape'])\n",
      "0174_resized\n",
      "Starting Training\n",
      "epoch: 00, loss: -0.05940\n",
      "epoch: 01, loss: -0.07119\n",
      "epoch: 02, loss: -0.07171\n",
      "epoch: 03, loss: -0.07211\n",
      "epoch: 04, loss: -0.07232\n",
      "epoch: 05, loss: -0.07223\n",
      "epoch: 06, loss: -0.07238\n",
      "epoch: 07, loss: -0.07253\n",
      "epoch: 08, loss: -0.07262\n",
      "epoch: 09, loss: -0.07258\n",
      "torch.Size([1024, 64])\n"
     ]
    },
    {
     "name": "stderr",
     "output_type": "stream",
     "text": [
      " 17%|█▋        | 174/1000 [1:16:20<5:50:31, 25.46s/it]"
     ]
    },
    {
     "name": "stdout",
     "output_type": "stream",
     "text": [
      "eigenvalues shape torch.Size([5]) eigenvectors shape torch.Size([5, 1024])\n",
      "174 /home/phdcs2/Hard_Disk/Datasets/Deep-Spectral-Segmentation/data/object-segmentation/ECSSD/features/0175_resized.pth\n",
      "dict_keys(['k', 'indices', 'file', 'id', 'model_name', 'patch_size', 'shape'])\n",
      "0175_resized\n",
      "Starting Training\n",
      "epoch: 00, loss: -0.02290\n",
      "epoch: 01, loss: -0.03547\n",
      "epoch: 02, loss: -0.03585\n",
      "epoch: 03, loss: -0.03666\n",
      "epoch: 04, loss: -0.03667\n",
      "epoch: 05, loss: -0.03684\n",
      "epoch: 06, loss: -0.03696\n",
      "epoch: 07, loss: -0.03711\n",
      "epoch: 08, loss: -0.03717\n",
      "epoch: 09, loss: -0.03728\n",
      "torch.Size([1024, 64])\n"
     ]
    },
    {
     "name": "stderr",
     "output_type": "stream",
     "text": [
      " 18%|█▊        | 175/1000 [1:16:46<5:54:32, 25.78s/it]"
     ]
    },
    {
     "name": "stdout",
     "output_type": "stream",
     "text": [
      "eigenvalues shape torch.Size([5]) eigenvectors shape torch.Size([5, 1024])\n",
      "175 /home/phdcs2/Hard_Disk/Datasets/Deep-Spectral-Segmentation/data/object-segmentation/ECSSD/features/0176_resized.pth\n",
      "dict_keys(['k', 'indices', 'file', 'id', 'model_name', 'patch_size', 'shape'])\n",
      "0176_resized\n",
      "Starting Training\n",
      "epoch: 00, loss: -0.03636\n",
      "epoch: 01, loss: -0.04544\n",
      "epoch: 02, loss: -0.04601\n",
      "epoch: 03, loss: -0.04645\n",
      "epoch: 04, loss: -0.04662\n",
      "epoch: 05, loss: -0.04682\n",
      "epoch: 06, loss: -0.04680\n",
      "epoch: 07, loss: -0.04689\n",
      "epoch: 08, loss: -0.04713\n",
      "epoch: 09, loss: -0.04729\n",
      "torch.Size([1024, 64])\n"
     ]
    },
    {
     "name": "stderr",
     "output_type": "stream",
     "text": [
      " 18%|█▊        | 176/1000 [1:17:11<5:49:12, 25.43s/it]"
     ]
    },
    {
     "name": "stdout",
     "output_type": "stream",
     "text": [
      "eigenvalues shape torch.Size([5]) eigenvectors shape torch.Size([5, 1024])\n",
      "176 /home/phdcs2/Hard_Disk/Datasets/Deep-Spectral-Segmentation/data/object-segmentation/ECSSD/features/0177_resized.pth\n",
      "dict_keys(['k', 'indices', 'file', 'id', 'model_name', 'patch_size', 'shape'])\n",
      "0177_resized\n",
      "Starting Training\n",
      "epoch: 00, loss: -0.05606\n",
      "epoch: 01, loss: -0.06956\n",
      "epoch: 02, loss: -0.07166\n",
      "epoch: 03, loss: -0.07254\n",
      "epoch: 04, loss: -0.07285\n",
      "epoch: 05, loss: -0.07313\n",
      "epoch: 06, loss: -0.07292\n",
      "epoch: 07, loss: -0.07435\n",
      "epoch: 08, loss: -0.07272\n",
      "epoch: 09, loss: -0.07383\n",
      "torch.Size([1024, 64])\n"
     ]
    },
    {
     "name": "stderr",
     "output_type": "stream",
     "text": [
      " 18%|█▊        | 177/1000 [1:17:37<5:52:35, 25.70s/it]"
     ]
    },
    {
     "name": "stdout",
     "output_type": "stream",
     "text": [
      "eigenvalues shape torch.Size([5]) eigenvectors shape torch.Size([5, 1024])\n",
      "177 /home/phdcs2/Hard_Disk/Datasets/Deep-Spectral-Segmentation/data/object-segmentation/ECSSD/features/0178_resized.pth\n",
      "dict_keys(['k', 'indices', 'file', 'id', 'model_name', 'patch_size', 'shape'])\n",
      "0178_resized\n",
      "Starting Training\n",
      "epoch: 00, loss: -0.04247\n",
      "epoch: 01, loss: -0.05387\n",
      "epoch: 02, loss: -0.05486\n",
      "epoch: 03, loss: -0.05572\n",
      "epoch: 04, loss: -0.05640\n",
      "epoch: 05, loss: -0.05591\n",
      "epoch: 06, loss: -0.05696\n",
      "epoch: 07, loss: -0.05738\n",
      "epoch: 08, loss: -0.05658\n",
      "epoch: 09, loss: -0.05666\n",
      "torch.Size([1024, 64])\n"
     ]
    },
    {
     "name": "stderr",
     "output_type": "stream",
     "text": [
      " 18%|█▊        | 178/1000 [1:18:05<5:58:56, 26.20s/it]"
     ]
    },
    {
     "name": "stdout",
     "output_type": "stream",
     "text": [
      "eigenvalues shape torch.Size([5]) eigenvectors shape torch.Size([5, 1024])\n",
      "178 /home/phdcs2/Hard_Disk/Datasets/Deep-Spectral-Segmentation/data/object-segmentation/ECSSD/features/0179_resized.pth\n",
      "dict_keys(['k', 'indices', 'file', 'id', 'model_name', 'patch_size', 'shape'])\n",
      "0179_resized\n",
      "Starting Training\n",
      "epoch: 00, loss: -0.05122\n",
      "epoch: 01, loss: -0.06297\n",
      "epoch: 02, loss: -0.06374\n",
      "epoch: 03, loss: -0.06430\n",
      "epoch: 04, loss: -0.06414\n",
      "epoch: 05, loss: -0.06434\n",
      "epoch: 06, loss: -0.06451\n",
      "epoch: 07, loss: -0.06476\n",
      "epoch: 08, loss: -0.06460\n",
      "epoch: 09, loss: -0.06465\n",
      "torch.Size([1024, 64])\n"
     ]
    },
    {
     "name": "stderr",
     "output_type": "stream",
     "text": [
      " 18%|█▊        | 179/1000 [1:18:31<5:59:35, 26.28s/it]"
     ]
    },
    {
     "name": "stdout",
     "output_type": "stream",
     "text": [
      "eigenvalues shape torch.Size([5]) eigenvectors shape torch.Size([5, 1024])\n",
      "179 /home/phdcs2/Hard_Disk/Datasets/Deep-Spectral-Segmentation/data/object-segmentation/ECSSD/features/0180_resized.pth\n",
      "dict_keys(['k', 'indices', 'file', 'id', 'model_name', 'patch_size', 'shape'])\n",
      "0180_resized\n",
      "Starting Training\n",
      "epoch: 00, loss: -0.07492\n",
      "epoch: 01, loss: -0.09330\n",
      "epoch: 02, loss: -0.09629\n",
      "epoch: 03, loss: -0.09613\n",
      "epoch: 04, loss: -0.09686\n",
      "epoch: 05, loss: -0.09746\n",
      "epoch: 06, loss: -0.09744\n",
      "epoch: 07, loss: -0.09870\n",
      "epoch: 08, loss: -0.09801\n",
      "epoch: 09, loss: -0.09924\n",
      "torch.Size([1024, 64])\n"
     ]
    },
    {
     "name": "stderr",
     "output_type": "stream",
     "text": [
      " 18%|█▊        | 180/1000 [1:18:56<5:55:05, 25.98s/it]"
     ]
    },
    {
     "name": "stdout",
     "output_type": "stream",
     "text": [
      "eigenvalues shape torch.Size([5]) eigenvectors shape torch.Size([5, 1024])\n",
      "180 /home/phdcs2/Hard_Disk/Datasets/Deep-Spectral-Segmentation/data/object-segmentation/ECSSD/features/0181_resized.pth\n",
      "dict_keys(['k', 'indices', 'file', 'id', 'model_name', 'patch_size', 'shape'])\n",
      "0181_resized\n",
      "Starting Training\n",
      "epoch: 00, loss: -0.03920\n",
      "epoch: 01, loss: -0.05694\n",
      "epoch: 02, loss: -0.05648\n",
      "epoch: 03, loss: -0.05922\n",
      "epoch: 04, loss: -0.05970\n",
      "epoch: 05, loss: -0.06036\n",
      "epoch: 06, loss: -0.06082\n",
      "epoch: 07, loss: -0.06055\n",
      "epoch: 08, loss: -0.06067\n",
      "epoch: 09, loss: -0.06052\n",
      "torch.Size([1024, 64])\n"
     ]
    },
    {
     "name": "stderr",
     "output_type": "stream",
     "text": [
      " 18%|█▊        | 181/1000 [1:19:23<5:55:55, 26.07s/it]"
     ]
    },
    {
     "name": "stdout",
     "output_type": "stream",
     "text": [
      "eigenvalues shape torch.Size([5]) eigenvectors shape torch.Size([5, 1024])\n",
      "181 /home/phdcs2/Hard_Disk/Datasets/Deep-Spectral-Segmentation/data/object-segmentation/ECSSD/features/0182_resized.pth\n",
      "dict_keys(['k', 'indices', 'file', 'id', 'model_name', 'patch_size', 'shape'])\n",
      "0182_resized\n",
      "Starting Training\n",
      "epoch: 00, loss: -0.02775\n",
      "epoch: 01, loss: -0.03983\n",
      "epoch: 02, loss: -0.04272\n",
      "epoch: 03, loss: -0.04413\n",
      "epoch: 04, loss: -0.04434\n",
      "epoch: 05, loss: -0.04467\n",
      "epoch: 06, loss: -0.04530\n",
      "epoch: 07, loss: -0.04580\n",
      "epoch: 08, loss: -0.04621\n",
      "epoch: 09, loss: -0.04659\n",
      "torch.Size([1024, 64])\n"
     ]
    },
    {
     "name": "stderr",
     "output_type": "stream",
     "text": [
      " 18%|█▊        | 182/1000 [1:19:47<5:49:46, 25.66s/it]"
     ]
    },
    {
     "name": "stdout",
     "output_type": "stream",
     "text": [
      "eigenvalues shape torch.Size([5]) eigenvectors shape torch.Size([5, 1024])\n",
      "182 /home/phdcs2/Hard_Disk/Datasets/Deep-Spectral-Segmentation/data/object-segmentation/ECSSD/features/0183_resized.pth\n",
      "dict_keys(['k', 'indices', 'file', 'id', 'model_name', 'patch_size', 'shape'])\n",
      "0183_resized\n",
      "Starting Training\n",
      "epoch: 00, loss: -0.00517\n",
      "epoch: 01, loss: -0.01681\n",
      "epoch: 02, loss: -0.01870\n",
      "epoch: 03, loss: -0.01924\n",
      "epoch: 04, loss: -0.01962\n",
      "epoch: 05, loss: -0.01984\n",
      "epoch: 06, loss: -0.01997\n",
      "epoch: 07, loss: -0.02011\n",
      "epoch: 08, loss: -0.02017\n",
      "epoch: 09, loss: -0.02030\n",
      "torch.Size([1024, 64])\n"
     ]
    },
    {
     "name": "stderr",
     "output_type": "stream",
     "text": [
      " 18%|█▊        | 183/1000 [1:20:13<5:48:21, 25.58s/it]"
     ]
    },
    {
     "name": "stdout",
     "output_type": "stream",
     "text": [
      "eigenvalues shape torch.Size([5]) eigenvectors shape torch.Size([5, 1024])\n",
      "183 /home/phdcs2/Hard_Disk/Datasets/Deep-Spectral-Segmentation/data/object-segmentation/ECSSD/features/0184_resized.pth\n",
      "dict_keys(['k', 'indices', 'file', 'id', 'model_name', 'patch_size', 'shape'])\n",
      "0184_resized\n",
      "Starting Training\n",
      "epoch: 00, loss: -0.07297\n",
      "epoch: 01, loss: -0.08767\n",
      "epoch: 02, loss: -0.08687\n",
      "epoch: 03, loss: -0.08751\n",
      "epoch: 04, loss: -0.08760\n",
      "epoch: 05, loss: -0.08764\n",
      "epoch: 06, loss: -0.08785\n",
      "epoch: 07, loss: -0.08780\n",
      "epoch: 08, loss: -0.08785\n",
      "epoch: 09, loss: -0.08792\n",
      "torch.Size([1024, 64])\n"
     ]
    },
    {
     "name": "stderr",
     "output_type": "stream",
     "text": [
      " 18%|█▊        | 184/1000 [1:20:39<5:51:05, 25.82s/it]"
     ]
    },
    {
     "name": "stdout",
     "output_type": "stream",
     "text": [
      "eigenvalues shape torch.Size([5]) eigenvectors shape torch.Size([5, 1024])\n",
      "184 /home/phdcs2/Hard_Disk/Datasets/Deep-Spectral-Segmentation/data/object-segmentation/ECSSD/features/0185_resized.pth\n",
      "dict_keys(['k', 'indices', 'file', 'id', 'model_name', 'patch_size', 'shape'])\n",
      "0185_resized\n",
      "Starting Training\n",
      "epoch: 00, loss: -0.04331\n",
      "epoch: 01, loss: -0.05697\n",
      "epoch: 02, loss: -0.05919\n",
      "epoch: 03, loss: -0.06012\n",
      "epoch: 04, loss: -0.05969\n",
      "epoch: 05, loss: -0.06101\n",
      "epoch: 06, loss: -0.06326\n",
      "epoch: 07, loss: -0.06175\n",
      "epoch: 08, loss: -0.06321\n",
      "epoch: 09, loss: -0.06238\n",
      "torch.Size([1024, 64])\n"
     ]
    },
    {
     "name": "stderr",
     "output_type": "stream",
     "text": [
      " 18%|█▊        | 185/1000 [1:21:04<5:48:56, 25.69s/it]"
     ]
    },
    {
     "name": "stdout",
     "output_type": "stream",
     "text": [
      "eigenvalues shape torch.Size([5]) eigenvectors shape torch.Size([5, 1024])\n",
      "185 /home/phdcs2/Hard_Disk/Datasets/Deep-Spectral-Segmentation/data/object-segmentation/ECSSD/features/0186_resized.pth\n",
      "dict_keys(['k', 'indices', 'file', 'id', 'model_name', 'patch_size', 'shape'])\n",
      "0186_resized\n",
      "Starting Training\n",
      "epoch: 00, loss: -0.02643\n",
      "epoch: 01, loss: -0.03550\n",
      "epoch: 02, loss: -0.03628\n",
      "epoch: 03, loss: -0.03653\n",
      "epoch: 04, loss: -0.03673\n",
      "epoch: 05, loss: -0.03684\n",
      "epoch: 06, loss: -0.03700\n",
      "epoch: 07, loss: -0.03714\n",
      "epoch: 08, loss: -0.03722\n",
      "epoch: 09, loss: -0.03723\n",
      "torch.Size([1024, 64])\n"
     ]
    },
    {
     "name": "stderr",
     "output_type": "stream",
     "text": [
      " 19%|█▊        | 186/1000 [1:21:30<5:46:52, 25.57s/it]"
     ]
    },
    {
     "name": "stdout",
     "output_type": "stream",
     "text": [
      "eigenvalues shape torch.Size([5]) eigenvectors shape torch.Size([5, 1024])\n",
      "186 /home/phdcs2/Hard_Disk/Datasets/Deep-Spectral-Segmentation/data/object-segmentation/ECSSD/features/0187_resized.pth\n",
      "dict_keys(['k', 'indices', 'file', 'id', 'model_name', 'patch_size', 'shape'])\n",
      "0187_resized\n",
      "Starting Training\n",
      "epoch: 00, loss: -0.02965\n",
      "epoch: 01, loss: -0.04912\n",
      "epoch: 02, loss: -0.04969\n",
      "epoch: 03, loss: -0.04982\n",
      "epoch: 04, loss: -0.05056\n",
      "epoch: 05, loss: -0.05128\n",
      "epoch: 06, loss: -0.05242\n",
      "epoch: 07, loss: -0.05263\n",
      "epoch: 08, loss: -0.05248\n",
      "epoch: 09, loss: -0.05233\n",
      "torch.Size([1024, 64])\n"
     ]
    },
    {
     "name": "stderr",
     "output_type": "stream",
     "text": [
      " 19%|█▊        | 187/1000 [1:21:56<5:49:35, 25.80s/it]"
     ]
    },
    {
     "name": "stdout",
     "output_type": "stream",
     "text": [
      "eigenvalues shape torch.Size([5]) eigenvectors shape torch.Size([5, 1024])\n",
      "187 /home/phdcs2/Hard_Disk/Datasets/Deep-Spectral-Segmentation/data/object-segmentation/ECSSD/features/0188_resized.pth\n",
      "dict_keys(['k', 'indices', 'file', 'id', 'model_name', 'patch_size', 'shape'])\n",
      "0188_resized\n",
      "Starting Training\n",
      "epoch: 00, loss: -0.02959\n",
      "epoch: 01, loss: -0.03901\n",
      "epoch: 02, loss: -0.03970\n",
      "epoch: 03, loss: -0.04003\n",
      "epoch: 04, loss: -0.04029\n",
      "epoch: 05, loss: -0.04036\n",
      "epoch: 06, loss: -0.04056\n",
      "epoch: 07, loss: -0.04080\n",
      "epoch: 08, loss: -0.04084\n",
      "epoch: 09, loss: -0.04084\n",
      "torch.Size([1024, 64])\n"
     ]
    },
    {
     "name": "stderr",
     "output_type": "stream",
     "text": [
      " 19%|█▉        | 188/1000 [1:22:22<5:48:37, 25.76s/it]"
     ]
    },
    {
     "name": "stdout",
     "output_type": "stream",
     "text": [
      "eigenvalues shape torch.Size([5]) eigenvectors shape torch.Size([5, 1024])\n",
      "188 /home/phdcs2/Hard_Disk/Datasets/Deep-Spectral-Segmentation/data/object-segmentation/ECSSD/features/0189_resized.pth\n",
      "dict_keys(['k', 'indices', 'file', 'id', 'model_name', 'patch_size', 'shape'])\n",
      "0189_resized\n",
      "Starting Training\n",
      "epoch: 00, loss: -0.02532\n",
      "epoch: 01, loss: -0.03271\n",
      "epoch: 02, loss: -0.03371\n",
      "epoch: 03, loss: -0.03410\n",
      "epoch: 04, loss: -0.03430\n",
      "epoch: 05, loss: -0.03446\n",
      "epoch: 06, loss: -0.03453\n",
      "epoch: 07, loss: -0.03473\n",
      "epoch: 08, loss: -0.03486\n",
      "epoch: 09, loss: -0.03486\n",
      "torch.Size([1024, 64])\n"
     ]
    },
    {
     "name": "stderr",
     "output_type": "stream",
     "text": [
      " 19%|█▉        | 189/1000 [1:22:48<5:50:33, 25.93s/it]"
     ]
    },
    {
     "name": "stdout",
     "output_type": "stream",
     "text": [
      "eigenvalues shape torch.Size([5]) eigenvectors shape torch.Size([5, 1024])\n",
      "189 /home/phdcs2/Hard_Disk/Datasets/Deep-Spectral-Segmentation/data/object-segmentation/ECSSD/features/0190_resized.pth\n",
      "dict_keys(['k', 'indices', 'file', 'id', 'model_name', 'patch_size', 'shape'])\n",
      "0190_resized\n",
      "Starting Training\n",
      "epoch: 00, loss: -0.06735\n",
      "epoch: 01, loss: -0.08215\n",
      "epoch: 02, loss: -0.08097\n",
      "epoch: 03, loss: -0.08427\n",
      "epoch: 04, loss: -0.08359\n",
      "epoch: 05, loss: -0.08559\n",
      "epoch: 06, loss: -0.08493\n",
      "epoch: 07, loss: -0.08532\n",
      "epoch: 08, loss: -0.08446\n",
      "epoch: 09, loss: -0.08577\n",
      "torch.Size([1024, 64])\n"
     ]
    },
    {
     "name": "stderr",
     "output_type": "stream",
     "text": [
      " 19%|█▉        | 190/1000 [1:23:13<5:46:11, 25.64s/it]"
     ]
    },
    {
     "name": "stdout",
     "output_type": "stream",
     "text": [
      "eigenvalues shape torch.Size([5]) eigenvectors shape torch.Size([5, 1024])\n",
      "190 /home/phdcs2/Hard_Disk/Datasets/Deep-Spectral-Segmentation/data/object-segmentation/ECSSD/features/0191_resized.pth\n",
      "dict_keys(['k', 'indices', 'file', 'id', 'model_name', 'patch_size', 'shape'])\n",
      "0191_resized\n",
      "Starting Training\n",
      "epoch: 00, loss: -0.04820\n",
      "epoch: 01, loss: -0.05983\n",
      "epoch: 02, loss: -0.06076\n",
      "epoch: 03, loss: -0.06196\n",
      "epoch: 04, loss: -0.06167\n",
      "epoch: 05, loss: -0.06189\n",
      "epoch: 06, loss: -0.06232\n",
      "epoch: 07, loss: -0.06310\n",
      "epoch: 08, loss: -0.06205\n",
      "epoch: 09, loss: -0.06227\n",
      "torch.Size([1024, 64])\n"
     ]
    },
    {
     "name": "stderr",
     "output_type": "stream",
     "text": [
      " 19%|█▉        | 191/1000 [1:23:39<5:47:00, 25.74s/it]"
     ]
    },
    {
     "name": "stdout",
     "output_type": "stream",
     "text": [
      "eigenvalues shape torch.Size([5]) eigenvectors shape torch.Size([5, 1024])\n",
      "191 /home/phdcs2/Hard_Disk/Datasets/Deep-Spectral-Segmentation/data/object-segmentation/ECSSD/features/0192_resized.pth\n",
      "dict_keys(['k', 'indices', 'file', 'id', 'model_name', 'patch_size', 'shape'])\n",
      "0192_resized\n",
      "Starting Training\n",
      "epoch: 00, loss: -0.06507\n",
      "epoch: 01, loss: -0.07813\n",
      "epoch: 02, loss: -0.07915\n",
      "epoch: 03, loss: -0.08050\n",
      "epoch: 04, loss: -0.08028\n",
      "epoch: 05, loss: -0.08113\n",
      "epoch: 06, loss: -0.08117\n",
      "epoch: 07, loss: -0.08108\n",
      "epoch: 08, loss: -0.08023\n",
      "epoch: 09, loss: -0.08186\n",
      "torch.Size([1024, 64])\n"
     ]
    },
    {
     "name": "stderr",
     "output_type": "stream",
     "text": [
      " 19%|█▉        | 192/1000 [1:24:05<5:45:39, 25.67s/it]"
     ]
    },
    {
     "name": "stdout",
     "output_type": "stream",
     "text": [
      "eigenvalues shape torch.Size([5]) eigenvectors shape torch.Size([5, 1024])\n",
      "192 /home/phdcs2/Hard_Disk/Datasets/Deep-Spectral-Segmentation/data/object-segmentation/ECSSD/features/0193_resized.pth\n",
      "dict_keys(['k', 'indices', 'file', 'id', 'model_name', 'patch_size', 'shape'])\n",
      "0193_resized\n",
      "Starting Training\n",
      "epoch: 00, loss: -0.00765\n",
      "epoch: 01, loss: -0.01663\n",
      "epoch: 02, loss: -0.01806\n",
      "epoch: 03, loss: -0.01855\n",
      "epoch: 04, loss: -0.01899\n",
      "epoch: 05, loss: -0.01920\n",
      "epoch: 06, loss: -0.01935\n",
      "epoch: 07, loss: -0.01943\n",
      "epoch: 08, loss: -0.01957\n",
      "epoch: 09, loss: -0.01981\n",
      "torch.Size([1024, 64])\n"
     ]
    },
    {
     "name": "stderr",
     "output_type": "stream",
     "text": [
      " 19%|█▉        | 193/1000 [1:24:30<5:45:40, 25.70s/it]"
     ]
    },
    {
     "name": "stdout",
     "output_type": "stream",
     "text": [
      "eigenvalues shape torch.Size([5]) eigenvectors shape torch.Size([5, 1024])\n",
      "193 /home/phdcs2/Hard_Disk/Datasets/Deep-Spectral-Segmentation/data/object-segmentation/ECSSD/features/0194_resized.pth\n",
      "dict_keys(['k', 'indices', 'file', 'id', 'model_name', 'patch_size', 'shape'])\n",
      "0194_resized\n",
      "Starting Training\n",
      "epoch: 00, loss: -0.01962\n",
      "epoch: 01, loss: -0.03023\n",
      "epoch: 02, loss: -0.03113\n",
      "epoch: 03, loss: -0.03155\n",
      "epoch: 04, loss: -0.03182\n",
      "epoch: 05, loss: -0.03202\n",
      "epoch: 06, loss: -0.03211\n",
      "epoch: 07, loss: -0.03234\n",
      "epoch: 08, loss: -0.03234\n",
      "epoch: 09, loss: -0.03246\n",
      "torch.Size([1024, 64])\n"
     ]
    },
    {
     "name": "stderr",
     "output_type": "stream",
     "text": [
      " 19%|█▉        | 194/1000 [1:24:57<5:47:19, 25.86s/it]"
     ]
    },
    {
     "name": "stdout",
     "output_type": "stream",
     "text": [
      "eigenvalues shape torch.Size([5]) eigenvectors shape torch.Size([5, 1024])\n",
      "194 /home/phdcs2/Hard_Disk/Datasets/Deep-Spectral-Segmentation/data/object-segmentation/ECSSD/features/0195_resized.pth\n",
      "dict_keys(['k', 'indices', 'file', 'id', 'model_name', 'patch_size', 'shape'])\n",
      "0195_resized\n",
      "Starting Training\n",
      "epoch: 00, loss: -0.06790\n",
      "epoch: 01, loss: -0.08892\n",
      "epoch: 02, loss: -0.09170\n",
      "epoch: 03, loss: -0.09299\n",
      "epoch: 04, loss: -0.09299\n",
      "epoch: 05, loss: -0.09320\n",
      "epoch: 06, loss: -0.09411\n",
      "epoch: 07, loss: -0.09478\n",
      "epoch: 08, loss: -0.09432\n",
      "epoch: 09, loss: -0.09442\n",
      "torch.Size([1024, 64])\n"
     ]
    },
    {
     "name": "stderr",
     "output_type": "stream",
     "text": [
      " 20%|█▉        | 195/1000 [1:25:22<5:45:08, 25.72s/it]"
     ]
    },
    {
     "name": "stdout",
     "output_type": "stream",
     "text": [
      "eigenvalues shape torch.Size([5]) eigenvectors shape torch.Size([5, 1024])\n",
      "195 /home/phdcs2/Hard_Disk/Datasets/Deep-Spectral-Segmentation/data/object-segmentation/ECSSD/features/0196_resized.pth\n",
      "dict_keys(['k', 'indices', 'file', 'id', 'model_name', 'patch_size', 'shape'])\n",
      "0196_resized\n",
      "Starting Training\n",
      "epoch: 00, loss: -0.04022\n",
      "epoch: 01, loss: -0.04947\n",
      "epoch: 02, loss: -0.05039\n",
      "epoch: 03, loss: -0.05084\n",
      "epoch: 04, loss: -0.05079\n",
      "epoch: 05, loss: -0.05076\n",
      "epoch: 06, loss: -0.05099\n",
      "epoch: 07, loss: -0.05126\n",
      "epoch: 08, loss: -0.05122\n",
      "epoch: 09, loss: -0.05114\n",
      "torch.Size([1024, 64])\n"
     ]
    },
    {
     "name": "stderr",
     "output_type": "stream",
     "text": [
      " 20%|█▉        | 196/1000 [1:25:47<5:42:43, 25.58s/it]"
     ]
    },
    {
     "name": "stdout",
     "output_type": "stream",
     "text": [
      "eigenvalues shape torch.Size([5]) eigenvectors shape torch.Size([5, 1024])\n",
      "196 /home/phdcs2/Hard_Disk/Datasets/Deep-Spectral-Segmentation/data/object-segmentation/ECSSD/features/0197_resized.pth\n",
      "dict_keys(['k', 'indices', 'file', 'id', 'model_name', 'patch_size', 'shape'])\n",
      "0197_resized\n",
      "Starting Training\n",
      "epoch: 00, loss: -0.07757\n",
      "epoch: 01, loss: -0.08622\n",
      "epoch: 02, loss: -0.08755\n",
      "epoch: 03, loss: -0.08766\n",
      "epoch: 04, loss: -0.08832\n",
      "epoch: 05, loss: -0.08798\n",
      "epoch: 06, loss: -0.08843\n",
      "epoch: 07, loss: -0.08819\n",
      "epoch: 08, loss: -0.08853\n",
      "epoch: 09, loss: -0.08830\n",
      "torch.Size([1024, 64])\n"
     ]
    },
    {
     "name": "stderr",
     "output_type": "stream",
     "text": [
      " 20%|█▉        | 197/1000 [1:26:14<5:48:11, 26.02s/it]"
     ]
    },
    {
     "name": "stdout",
     "output_type": "stream",
     "text": [
      "eigenvalues shape torch.Size([5]) eigenvectors shape torch.Size([5, 1024])\n",
      "197 /home/phdcs2/Hard_Disk/Datasets/Deep-Spectral-Segmentation/data/object-segmentation/ECSSD/features/0198_resized.pth\n",
      "dict_keys(['k', 'indices', 'file', 'id', 'model_name', 'patch_size', 'shape'])\n",
      "0198_resized\n",
      "Starting Training\n",
      "epoch: 00, loss: -0.01311\n",
      "epoch: 01, loss: -0.02147\n",
      "epoch: 02, loss: -0.02242\n",
      "epoch: 03, loss: -0.02262\n",
      "epoch: 04, loss: -0.02301\n",
      "epoch: 05, loss: -0.02314\n",
      "epoch: 06, loss: -0.02331\n",
      "epoch: 07, loss: -0.02341\n",
      "epoch: 08, loss: -0.02346\n",
      "epoch: 09, loss: -0.02349\n",
      "torch.Size([1024, 64])\n"
     ]
    },
    {
     "name": "stderr",
     "output_type": "stream",
     "text": [
      " 20%|█▉        | 198/1000 [1:26:41<5:50:11, 26.20s/it]"
     ]
    },
    {
     "name": "stdout",
     "output_type": "stream",
     "text": [
      "eigenvalues shape torch.Size([5]) eigenvectors shape torch.Size([5, 1024])\n",
      "198 /home/phdcs2/Hard_Disk/Datasets/Deep-Spectral-Segmentation/data/object-segmentation/ECSSD/features/0199_resized.pth\n",
      "dict_keys(['k', 'indices', 'file', 'id', 'model_name', 'patch_size', 'shape'])\n",
      "0199_resized\n",
      "Starting Training\n",
      "epoch: 00, loss: -0.03445\n",
      "epoch: 01, loss: -0.04254\n",
      "epoch: 02, loss: -0.04342\n",
      "epoch: 03, loss: -0.04372\n",
      "epoch: 04, loss: -0.04404\n",
      "epoch: 05, loss: -0.04424\n",
      "epoch: 06, loss: -0.04399\n",
      "epoch: 07, loss: -0.04427\n",
      "epoch: 08, loss: -0.04438\n",
      "epoch: 09, loss: -0.04448\n",
      "torch.Size([1024, 64])\n"
     ]
    },
    {
     "name": "stderr",
     "output_type": "stream",
     "text": [
      " 20%|█▉        | 199/1000 [1:27:07<5:50:41, 26.27s/it]"
     ]
    },
    {
     "name": "stdout",
     "output_type": "stream",
     "text": [
      "eigenvalues shape torch.Size([5]) eigenvectors shape torch.Size([5, 1024])\n",
      "199 /home/phdcs2/Hard_Disk/Datasets/Deep-Spectral-Segmentation/data/object-segmentation/ECSSD/features/0200_resized.pth\n",
      "dict_keys(['k', 'indices', 'file', 'id', 'model_name', 'patch_size', 'shape'])\n",
      "0200_resized\n",
      "Starting Training\n",
      "epoch: 00, loss: -0.03265\n",
      "epoch: 01, loss: -0.04311\n",
      "epoch: 02, loss: -0.04345\n",
      "epoch: 03, loss: -0.04407\n",
      "epoch: 04, loss: -0.04391\n",
      "epoch: 05, loss: -0.04423\n",
      "epoch: 06, loss: -0.04413\n",
      "epoch: 07, loss: -0.04443\n",
      "epoch: 08, loss: -0.04451\n",
      "epoch: 09, loss: -0.04479\n",
      "torch.Size([1024, 64])\n"
     ]
    },
    {
     "name": "stderr",
     "output_type": "stream",
     "text": [
      " 20%|██        | 200/1000 [1:27:33<5:49:33, 26.22s/it]"
     ]
    },
    {
     "name": "stdout",
     "output_type": "stream",
     "text": [
      "eigenvalues shape torch.Size([5]) eigenvectors shape torch.Size([5, 1024])\n",
      "200 /home/phdcs2/Hard_Disk/Datasets/Deep-Spectral-Segmentation/data/object-segmentation/ECSSD/features/0201_resized.pth\n",
      "dict_keys(['k', 'indices', 'file', 'id', 'model_name', 'patch_size', 'shape'])\n",
      "0201_resized\n",
      "Starting Training\n",
      "epoch: 00, loss: -0.06233\n",
      "epoch: 01, loss: -0.07082\n",
      "epoch: 02, loss: -0.07111\n",
      "epoch: 03, loss: -0.07128\n",
      "epoch: 04, loss: -0.07135\n",
      "epoch: 05, loss: -0.07167\n",
      "epoch: 06, loss: -0.07171\n",
      "epoch: 07, loss: -0.07191\n",
      "epoch: 08, loss: -0.07182\n",
      "epoch: 09, loss: -0.07200\n",
      "torch.Size([1024, 64])\n"
     ]
    },
    {
     "name": "stderr",
     "output_type": "stream",
     "text": [
      " 20%|██        | 201/1000 [1:27:59<5:48:21, 26.16s/it]"
     ]
    },
    {
     "name": "stdout",
     "output_type": "stream",
     "text": [
      "eigenvalues shape torch.Size([5]) eigenvectors shape torch.Size([5, 1024])\n",
      "201 /home/phdcs2/Hard_Disk/Datasets/Deep-Spectral-Segmentation/data/object-segmentation/ECSSD/features/0202_resized.pth\n",
      "dict_keys(['k', 'indices', 'file', 'id', 'model_name', 'patch_size', 'shape'])\n",
      "0202_resized\n",
      "Starting Training\n",
      "epoch: 00, loss: -0.04830\n",
      "epoch: 01, loss: -0.06250\n",
      "epoch: 02, loss: -0.06384\n",
      "epoch: 03, loss: -0.06373\n",
      "epoch: 04, loss: -0.06396\n",
      "epoch: 05, loss: -0.06491\n",
      "epoch: 06, loss: -0.06489\n",
      "epoch: 07, loss: -0.06512\n",
      "epoch: 08, loss: -0.06506\n",
      "epoch: 09, loss: -0.06475\n",
      "torch.Size([1024, 64])\n"
     ]
    },
    {
     "name": "stderr",
     "output_type": "stream",
     "text": [
      " 20%|██        | 202/1000 [1:28:26<5:49:23, 26.27s/it]"
     ]
    },
    {
     "name": "stdout",
     "output_type": "stream",
     "text": [
      "eigenvalues shape torch.Size([5]) eigenvectors shape torch.Size([5, 1024])\n",
      "202 /home/phdcs2/Hard_Disk/Datasets/Deep-Spectral-Segmentation/data/object-segmentation/ECSSD/features/0203_resized.pth\n",
      "dict_keys(['k', 'indices', 'file', 'id', 'model_name', 'patch_size', 'shape'])\n",
      "0203_resized\n",
      "Starting Training\n",
      "epoch: 00, loss: -0.01255\n",
      "epoch: 01, loss: -0.02307\n",
      "epoch: 02, loss: -0.02435\n",
      "epoch: 03, loss: -0.02475\n",
      "epoch: 04, loss: -0.02500\n",
      "epoch: 05, loss: -0.02515\n",
      "epoch: 06, loss: -0.02536\n",
      "epoch: 07, loss: -0.02554\n",
      "epoch: 08, loss: -0.02537\n",
      "epoch: 09, loss: -0.02570\n",
      "torch.Size([1024, 64])\n"
     ]
    },
    {
     "name": "stderr",
     "output_type": "stream",
     "text": [
      " 20%|██        | 203/1000 [1:28:51<5:45:03, 25.98s/it]"
     ]
    },
    {
     "name": "stdout",
     "output_type": "stream",
     "text": [
      "eigenvalues shape torch.Size([5]) eigenvectors shape torch.Size([5, 1024])\n",
      "203 /home/phdcs2/Hard_Disk/Datasets/Deep-Spectral-Segmentation/data/object-segmentation/ECSSD/features/0204_resized.pth\n",
      "dict_keys(['k', 'indices', 'file', 'id', 'model_name', 'patch_size', 'shape'])\n",
      "0204_resized\n",
      "Starting Training\n",
      "epoch: 00, loss: -0.05917\n",
      "epoch: 01, loss: -0.07145\n",
      "epoch: 02, loss: -0.07195\n",
      "epoch: 03, loss: -0.07203\n",
      "epoch: 04, loss: -0.07222\n",
      "epoch: 05, loss: -0.07228\n",
      "epoch: 06, loss: -0.07237\n",
      "epoch: 07, loss: -0.07250\n",
      "epoch: 08, loss: -0.07255\n",
      "epoch: 09, loss: -0.07260\n",
      "torch.Size([1024, 64])\n"
     ]
    },
    {
     "name": "stderr",
     "output_type": "stream",
     "text": [
      " 20%|██        | 204/1000 [1:29:10<5:15:34, 23.79s/it]"
     ]
    },
    {
     "name": "stdout",
     "output_type": "stream",
     "text": [
      "eigenvalues shape torch.Size([5]) eigenvectors shape torch.Size([5, 1024])\n",
      "204 /home/phdcs2/Hard_Disk/Datasets/Deep-Spectral-Segmentation/data/object-segmentation/ECSSD/features/0205_resized.pth\n",
      "dict_keys(['k', 'indices', 'file', 'id', 'model_name', 'patch_size', 'shape'])\n",
      "0205_resized\n",
      "Starting Training\n",
      "epoch: 00, loss: -0.03804\n",
      "epoch: 01, loss: -0.05532\n",
      "epoch: 02, loss: -0.05678\n",
      "epoch: 03, loss: -0.05882\n",
      "epoch: 04, loss: -0.05824\n",
      "epoch: 05, loss: -0.05831\n",
      "epoch: 06, loss: -0.05974\n",
      "epoch: 07, loss: -0.05967\n",
      "epoch: 08, loss: -0.05955\n"
     ]
    },
    {
     "name": "stderr",
     "output_type": "stream",
     "text": [
      " 20%|██        | 205/1000 [1:29:26<4:46:17, 21.61s/it]"
     ]
    },
    {
     "name": "stdout",
     "output_type": "stream",
     "text": [
      "epoch: 09, loss: -0.06025\n",
      "torch.Size([1024, 64])\n",
      "eigenvalues shape torch.Size([5]) eigenvectors shape torch.Size([5, 1024])\n",
      "205 /home/phdcs2/Hard_Disk/Datasets/Deep-Spectral-Segmentation/data/object-segmentation/ECSSD/features/0206_resized.pth\n",
      "dict_keys(['k', 'indices', 'file', 'id', 'model_name', 'patch_size', 'shape'])\n",
      "0206_resized\n",
      "Starting Training\n",
      "epoch: 00, loss: -0.05262\n",
      "epoch: 01, loss: -0.06237\n",
      "epoch: 02, loss: -0.06252\n",
      "epoch: 03, loss: -0.06295\n",
      "epoch: 04, loss: -0.06335\n",
      "epoch: 05, loss: -0.06349\n",
      "epoch: 06, loss: -0.06361\n",
      "epoch: 07, loss: -0.06347\n",
      "epoch: 08, loss: -0.06380\n",
      "epoch: 09, loss: -0.06346\n",
      "torch.Size([1024, 64])\n"
     ]
    },
    {
     "name": "stderr",
     "output_type": "stream",
     "text": [
      " 21%|██        | 206/1000 [1:29:44<4:28:42, 20.31s/it]"
     ]
    },
    {
     "name": "stdout",
     "output_type": "stream",
     "text": [
      "eigenvalues shape torch.Size([5]) eigenvectors shape torch.Size([5, 1024])\n",
      "206 /home/phdcs2/Hard_Disk/Datasets/Deep-Spectral-Segmentation/data/object-segmentation/ECSSD/features/0207_resized.pth\n",
      "dict_keys(['k', 'indices', 'file', 'id', 'model_name', 'patch_size', 'shape'])\n",
      "0207_resized\n",
      "Starting Training\n",
      "epoch: 00, loss: -0.09122\n",
      "epoch: 01, loss: -0.10274\n",
      "epoch: 02, loss: -0.10325\n",
      "epoch: 03, loss: -0.10367\n",
      "epoch: 04, loss: -0.10366\n",
      "epoch: 05, loss: -0.10375\n",
      "epoch: 06, loss: -0.10365\n",
      "epoch: 07, loss: -0.10379\n",
      "epoch: 08, loss: -0.10378\n",
      "epoch: 09, loss: -0.10392\n",
      "torch.Size([1024, 64])\n"
     ]
    },
    {
     "name": "stderr",
     "output_type": "stream",
     "text": [
      " 21%|██        | 207/1000 [1:30:00<4:12:53, 19.13s/it]"
     ]
    },
    {
     "name": "stdout",
     "output_type": "stream",
     "text": [
      "eigenvalues shape torch.Size([5]) eigenvectors shape torch.Size([5, 1024])\n",
      "207 /home/phdcs2/Hard_Disk/Datasets/Deep-Spectral-Segmentation/data/object-segmentation/ECSSD/features/0208_resized.pth\n",
      "dict_keys(['k', 'indices', 'file', 'id', 'model_name', 'patch_size', 'shape'])\n",
      "0208_resized\n",
      "Starting Training\n",
      "epoch: 00, loss: -0.04476\n",
      "epoch: 01, loss: -0.05431\n",
      "epoch: 02, loss: -0.05557\n",
      "epoch: 03, loss: -0.05503\n",
      "epoch: 04, loss: -0.05549\n",
      "epoch: 05, loss: -0.05544\n",
      "epoch: 06, loss: -0.05595\n",
      "epoch: 07, loss: -0.05540\n",
      "epoch: 08, loss: -0.05567\n"
     ]
    },
    {
     "name": "stderr",
     "output_type": "stream",
     "text": [
      " 21%|██        | 208/1000 [1:30:16<4:01:15, 18.28s/it]"
     ]
    },
    {
     "name": "stdout",
     "output_type": "stream",
     "text": [
      "epoch: 09, loss: -0.05600\n",
      "torch.Size([1024, 64])\n",
      "eigenvalues shape torch.Size([5]) eigenvectors shape torch.Size([5, 1024])\n",
      "208 /home/phdcs2/Hard_Disk/Datasets/Deep-Spectral-Segmentation/data/object-segmentation/ECSSD/features/0209_resized.pth\n",
      "dict_keys(['k', 'indices', 'file', 'id', 'model_name', 'patch_size', 'shape'])\n",
      "0209_resized\n",
      "Starting Training\n",
      "epoch: 00, loss: -0.05976\n",
      "epoch: 01, loss: -0.07283\n",
      "epoch: 02, loss: -0.07484\n",
      "epoch: 03, loss: -0.07623\n",
      "epoch: 04, loss: -0.07853\n",
      "epoch: 05, loss: -0.07807\n",
      "epoch: 06, loss: -0.07746\n",
      "epoch: 07, loss: -0.07885\n",
      "epoch: 08, loss: -0.07968\n",
      "epoch: 09, loss: -0.07983\n",
      "torch.Size([1024, 64])\n"
     ]
    },
    {
     "name": "stderr",
     "output_type": "stream",
     "text": [
      " 21%|██        | 209/1000 [1:30:33<3:54:33, 17.79s/it]"
     ]
    },
    {
     "name": "stdout",
     "output_type": "stream",
     "text": [
      "eigenvalues shape torch.Size([5]) eigenvectors shape torch.Size([5, 1024])\n",
      "209 /home/phdcs2/Hard_Disk/Datasets/Deep-Spectral-Segmentation/data/object-segmentation/ECSSD/features/0210_resized.pth\n",
      "dict_keys(['k', 'indices', 'file', 'id', 'model_name', 'patch_size', 'shape'])\n",
      "0210_resized\n",
      "Starting Training\n",
      "epoch: 00, loss: -0.02979\n",
      "epoch: 01, loss: -0.04362\n",
      "epoch: 02, loss: -0.04440\n",
      "epoch: 03, loss: -0.04481\n",
      "epoch: 04, loss: -0.04492\n",
      "epoch: 05, loss: -0.04506\n",
      "epoch: 06, loss: -0.04509\n",
      "epoch: 07, loss: -0.04545\n",
      "epoch: 08, loss: -0.04536\n",
      "epoch: 09, loss: -0.04542\n",
      "torch.Size([1024, 64])\n"
     ]
    },
    {
     "name": "stderr",
     "output_type": "stream",
     "text": [
      " 21%|██        | 210/1000 [1:30:50<3:52:24, 17.65s/it]"
     ]
    },
    {
     "name": "stdout",
     "output_type": "stream",
     "text": [
      "eigenvalues shape torch.Size([5]) eigenvectors shape torch.Size([5, 1024])\n",
      "210 /home/phdcs2/Hard_Disk/Datasets/Deep-Spectral-Segmentation/data/object-segmentation/ECSSD/features/0211_resized.pth\n",
      "dict_keys(['k', 'indices', 'file', 'id', 'model_name', 'patch_size', 'shape'])\n",
      "0211_resized\n",
      "Starting Training\n",
      "epoch: 00, loss: -0.14102\n",
      "epoch: 01, loss: -0.15469\n",
      "epoch: 02, loss: -0.15596\n",
      "epoch: 03, loss: -0.15735\n",
      "epoch: 04, loss: -0.15829\n",
      "epoch: 05, loss: -0.15805\n",
      "epoch: 06, loss: -0.15785\n",
      "epoch: 07, loss: -0.15881\n",
      "epoch: 08, loss: -0.15864\n",
      "epoch: 09, loss: -0.15845\n",
      "torch.Size([1024, 64])\n"
     ]
    },
    {
     "name": "stderr",
     "output_type": "stream",
     "text": [
      " 21%|██        | 211/1000 [1:31:07<3:46:32, 17.23s/it]"
     ]
    },
    {
     "name": "stdout",
     "output_type": "stream",
     "text": [
      "eigenvalues shape torch.Size([5]) eigenvectors shape torch.Size([5, 1024])\n",
      "211 /home/phdcs2/Hard_Disk/Datasets/Deep-Spectral-Segmentation/data/object-segmentation/ECSSD/features/0212_resized.pth\n",
      "dict_keys(['k', 'indices', 'file', 'id', 'model_name', 'patch_size', 'shape'])\n",
      "0212_resized\n",
      "Starting Training\n",
      "epoch: 00, loss: -0.05560\n",
      "epoch: 01, loss: -0.06947\n",
      "epoch: 02, loss: -0.07147\n",
      "epoch: 03, loss: -0.07127\n",
      "epoch: 04, loss: -0.07090\n",
      "epoch: 05, loss: -0.07171\n",
      "epoch: 06, loss: -0.07352\n",
      "epoch: 07, loss: -0.07332\n",
      "epoch: 08, loss: -0.07367\n",
      "epoch: 09, loss: -0.07267\n",
      "torch.Size([1024, 64])\n"
     ]
    },
    {
     "name": "stderr",
     "output_type": "stream",
     "text": [
      " 21%|██        | 212/1000 [1:31:24<3:45:12, 17.15s/it]"
     ]
    },
    {
     "name": "stdout",
     "output_type": "stream",
     "text": [
      "eigenvalues shape torch.Size([5]) eigenvectors shape torch.Size([5, 1024])\n",
      "212 /home/phdcs2/Hard_Disk/Datasets/Deep-Spectral-Segmentation/data/object-segmentation/ECSSD/features/0213_resized.pth\n",
      "dict_keys(['k', 'indices', 'file', 'id', 'model_name', 'patch_size', 'shape'])\n",
      "0213_resized\n",
      "Starting Training\n",
      "epoch: 00, loss: -0.12309\n",
      "epoch: 01, loss: -0.13419\n",
      "epoch: 02, loss: -0.13885\n",
      "epoch: 03, loss: -0.13996\n",
      "epoch: 04, loss: -0.13799\n",
      "epoch: 05, loss: -0.13961\n",
      "epoch: 06, loss: -0.14109\n",
      "epoch: 07, loss: -0.14036\n",
      "epoch: 08, loss: -0.14260\n",
      "epoch: 09, loss: -0.14067\n",
      "torch.Size([1024, 64])\n"
     ]
    },
    {
     "name": "stderr",
     "output_type": "stream",
     "text": [
      " 21%|██▏       | 213/1000 [1:31:41<3:44:24, 17.11s/it]"
     ]
    },
    {
     "name": "stdout",
     "output_type": "stream",
     "text": [
      "eigenvalues shape torch.Size([5]) eigenvectors shape torch.Size([5, 1024])\n",
      "213 /home/phdcs2/Hard_Disk/Datasets/Deep-Spectral-Segmentation/data/object-segmentation/ECSSD/features/0214_resized.pth\n",
      "dict_keys(['k', 'indices', 'file', 'id', 'model_name', 'patch_size', 'shape'])\n",
      "0214_resized\n",
      "Starting Training\n",
      "epoch: 00, loss: -0.05694\n",
      "epoch: 01, loss: -0.06694\n",
      "epoch: 02, loss: -0.06665\n",
      "epoch: 03, loss: -0.06706\n",
      "epoch: 04, loss: -0.06714\n",
      "epoch: 05, loss: -0.06754\n",
      "epoch: 06, loss: -0.06766\n",
      "epoch: 07, loss: -0.06755\n",
      "epoch: 08, loss: -0.06794\n"
     ]
    },
    {
     "name": "stderr",
     "output_type": "stream",
     "text": [
      " 21%|██▏       | 214/1000 [1:31:57<3:42:46, 17.01s/it]"
     ]
    },
    {
     "name": "stdout",
     "output_type": "stream",
     "text": [
      "epoch: 09, loss: -0.06787\n",
      "torch.Size([1024, 64])\n",
      "eigenvalues shape torch.Size([5]) eigenvectors shape torch.Size([5, 1024])\n",
      "214 /home/phdcs2/Hard_Disk/Datasets/Deep-Spectral-Segmentation/data/object-segmentation/ECSSD/features/0215_resized.pth\n",
      "dict_keys(['k', 'indices', 'file', 'id', 'model_name', 'patch_size', 'shape'])\n",
      "0215_resized\n",
      "Starting Training\n",
      "epoch: 00, loss: -0.03375\n",
      "epoch: 01, loss: -0.05470\n",
      "epoch: 02, loss: -0.05612\n",
      "epoch: 03, loss: -0.05476\n",
      "epoch: 04, loss: -0.05829\n",
      "epoch: 05, loss: -0.05704\n",
      "epoch: 06, loss: -0.05862\n",
      "epoch: 07, loss: -0.05815\n",
      "epoch: 08, loss: -0.05753\n",
      "epoch: 09, loss: -0.05782\n",
      "torch.Size([1024, 64])\n"
     ]
    },
    {
     "name": "stderr",
     "output_type": "stream",
     "text": [
      " 22%|██▏       | 215/1000 [1:32:14<3:39:26, 16.77s/it]"
     ]
    },
    {
     "name": "stdout",
     "output_type": "stream",
     "text": [
      "eigenvalues shape torch.Size([5]) eigenvectors shape torch.Size([5, 1024])\n",
      "215 /home/phdcs2/Hard_Disk/Datasets/Deep-Spectral-Segmentation/data/object-segmentation/ECSSD/features/0216_resized.pth\n",
      "dict_keys(['k', 'indices', 'file', 'id', 'model_name', 'patch_size', 'shape'])\n",
      "0216_resized\n",
      "Starting Training\n",
      "epoch: 00, loss: -0.02634\n",
      "epoch: 01, loss: -0.04604\n",
      "epoch: 02, loss: -0.04625\n",
      "epoch: 03, loss: -0.04708\n",
      "epoch: 04, loss: -0.04813\n",
      "epoch: 05, loss: -0.04876\n",
      "epoch: 06, loss: -0.04855\n",
      "epoch: 07, loss: -0.04818\n",
      "epoch: 08, loss: -0.04927\n",
      "epoch: 09, loss: -0.04820\n",
      "torch.Size([1024, 64])\n"
     ]
    },
    {
     "name": "stderr",
     "output_type": "stream",
     "text": [
      " 22%|██▏       | 216/1000 [1:32:30<3:37:06, 16.62s/it]"
     ]
    },
    {
     "name": "stdout",
     "output_type": "stream",
     "text": [
      "eigenvalues shape torch.Size([5]) eigenvectors shape torch.Size([5, 1024])\n",
      "216 /home/phdcs2/Hard_Disk/Datasets/Deep-Spectral-Segmentation/data/object-segmentation/ECSSD/features/0217_resized.pth\n",
      "dict_keys(['k', 'indices', 'file', 'id', 'model_name', 'patch_size', 'shape'])\n",
      "0217_resized\n",
      "Starting Training\n",
      "epoch: 00, loss: -0.14176\n",
      "epoch: 01, loss: -0.16330\n",
      "epoch: 02, loss: -0.17008\n",
      "epoch: 03, loss: -0.17215\n",
      "epoch: 04, loss: -0.17283\n",
      "epoch: 05, loss: -0.17363\n",
      "epoch: 06, loss: -0.17784\n",
      "epoch: 07, loss: -0.17919\n",
      "epoch: 08, loss: -0.18230\n",
      "epoch: 09, loss: -0.17654\n",
      "torch.Size([1024, 64])\n"
     ]
    },
    {
     "name": "stderr",
     "output_type": "stream",
     "text": [
      " 22%|██▏       | 217/1000 [1:32:46<3:36:07, 16.56s/it]"
     ]
    },
    {
     "name": "stdout",
     "output_type": "stream",
     "text": [
      "eigenvalues shape torch.Size([5]) eigenvectors shape torch.Size([5, 1024])\n",
      "217 /home/phdcs2/Hard_Disk/Datasets/Deep-Spectral-Segmentation/data/object-segmentation/ECSSD/features/0218_resized.pth\n",
      "dict_keys(['k', 'indices', 'file', 'id', 'model_name', 'patch_size', 'shape'])\n",
      "0218_resized\n",
      "Starting Training\n",
      "epoch: 00, loss: -0.08101\n",
      "epoch: 01, loss: -0.09346\n",
      "epoch: 02, loss: -0.09641\n",
      "epoch: 03, loss: -0.09736\n",
      "epoch: 04, loss: -0.09713\n",
      "epoch: 05, loss: -0.09705\n",
      "epoch: 06, loss: -0.09756\n",
      "epoch: 07, loss: -0.09764\n",
      "epoch: 08, loss: -0.09759\n"
     ]
    },
    {
     "name": "stderr",
     "output_type": "stream",
     "text": [
      " 22%|██▏       | 218/1000 [1:33:03<3:34:55, 16.49s/it]"
     ]
    },
    {
     "name": "stdout",
     "output_type": "stream",
     "text": [
      "epoch: 09, loss: -0.09853\n",
      "torch.Size([1024, 64])\n",
      "eigenvalues shape torch.Size([5]) eigenvectors shape torch.Size([5, 1024])\n",
      "218 /home/phdcs2/Hard_Disk/Datasets/Deep-Spectral-Segmentation/data/object-segmentation/ECSSD/features/0219_resized.pth\n",
      "dict_keys(['k', 'indices', 'file', 'id', 'model_name', 'patch_size', 'shape'])\n",
      "0219_resized\n",
      "Starting Training\n",
      "epoch: 00, loss: -0.06164\n",
      "epoch: 01, loss: -0.07118\n",
      "epoch: 02, loss: -0.07212\n",
      "epoch: 03, loss: -0.07230\n",
      "epoch: 04, loss: -0.07246\n",
      "epoch: 05, loss: -0.07257\n",
      "epoch: 06, loss: -0.07283\n",
      "epoch: 07, loss: -0.07277\n",
      "epoch: 08, loss: -0.07285\n",
      "epoch: 09, loss: -0.07295\n",
      "torch.Size([1024, 64])\n"
     ]
    },
    {
     "name": "stderr",
     "output_type": "stream",
     "text": [
      " 22%|██▏       | 219/1000 [1:33:19<3:33:30, 16.40s/it]"
     ]
    },
    {
     "name": "stdout",
     "output_type": "stream",
     "text": [
      "eigenvalues shape torch.Size([5]) eigenvectors shape torch.Size([5, 1024])\n",
      "219 /home/phdcs2/Hard_Disk/Datasets/Deep-Spectral-Segmentation/data/object-segmentation/ECSSD/features/0220_resized.pth\n",
      "dict_keys(['k', 'indices', 'file', 'id', 'model_name', 'patch_size', 'shape'])\n",
      "0220_resized\n",
      "Starting Training\n",
      "epoch: 00, loss: -0.12997\n",
      "epoch: 01, loss: -0.13770\n",
      "epoch: 02, loss: -0.13805\n",
      "epoch: 03, loss: -0.13853\n",
      "epoch: 04, loss: -0.13864\n",
      "epoch: 05, loss: -0.13889\n",
      "epoch: 06, loss: -0.13885\n",
      "epoch: 07, loss: -0.13879\n",
      "epoch: 08, loss: -0.13873\n",
      "epoch: 09, loss: -0.13886\n",
      "torch.Size([1024, 64])\n"
     ]
    },
    {
     "name": "stderr",
     "output_type": "stream",
     "text": [
      " 22%|██▏       | 220/1000 [1:33:36<3:35:23, 16.57s/it]"
     ]
    },
    {
     "name": "stdout",
     "output_type": "stream",
     "text": [
      "eigenvalues shape torch.Size([5]) eigenvectors shape torch.Size([5, 1024])\n",
      "220 /home/phdcs2/Hard_Disk/Datasets/Deep-Spectral-Segmentation/data/object-segmentation/ECSSD/features/0221_resized.pth\n",
      "dict_keys(['k', 'indices', 'file', 'id', 'model_name', 'patch_size', 'shape'])\n",
      "0221_resized\n",
      "Starting Training\n",
      "epoch: 00, loss: -0.03431\n",
      "epoch: 01, loss: -0.04624\n",
      "epoch: 02, loss: -0.04756\n",
      "epoch: 03, loss: -0.04788\n",
      "epoch: 04, loss: -0.04785\n",
      "epoch: 05, loss: -0.04924\n",
      "epoch: 06, loss: -0.04846\n",
      "epoch: 07, loss: -0.04920\n",
      "epoch: 08, loss: -0.04902\n",
      "epoch: 09, loss: -0.04952\n",
      "torch.Size([1024, 64])\n"
     ]
    },
    {
     "name": "stderr",
     "output_type": "stream",
     "text": [
      " 22%|██▏       | 221/1000 [1:33:52<3:34:09, 16.50s/it]"
     ]
    },
    {
     "name": "stdout",
     "output_type": "stream",
     "text": [
      "eigenvalues shape torch.Size([5]) eigenvectors shape torch.Size([5, 1024])\n",
      "221 /home/phdcs2/Hard_Disk/Datasets/Deep-Spectral-Segmentation/data/object-segmentation/ECSSD/features/0222_resized.pth\n",
      "dict_keys(['k', 'indices', 'file', 'id', 'model_name', 'patch_size', 'shape'])\n",
      "0222_resized\n",
      "Starting Training\n",
      "epoch: 00, loss: -0.03396\n",
      "epoch: 01, loss: -0.04401\n",
      "epoch: 02, loss: -0.04448\n",
      "epoch: 03, loss: -0.04470\n",
      "epoch: 04, loss: -0.04501\n",
      "epoch: 05, loss: -0.04515\n",
      "epoch: 06, loss: -0.04533\n",
      "epoch: 07, loss: -0.04521\n",
      "epoch: 08, loss: -0.04533\n",
      "epoch: 09, loss: -0.04542\n",
      "torch.Size([1024, 64])\n"
     ]
    },
    {
     "name": "stderr",
     "output_type": "stream",
     "text": [
      " 22%|██▏       | 222/1000 [1:34:09<3:36:16, 16.68s/it]"
     ]
    },
    {
     "name": "stdout",
     "output_type": "stream",
     "text": [
      "eigenvalues shape torch.Size([5]) eigenvectors shape torch.Size([5, 1024])\n",
      "222 /home/phdcs2/Hard_Disk/Datasets/Deep-Spectral-Segmentation/data/object-segmentation/ECSSD/features/0223_resized.pth\n",
      "dict_keys(['k', 'indices', 'file', 'id', 'model_name', 'patch_size', 'shape'])\n",
      "0223_resized\n",
      "Starting Training\n",
      "epoch: 00, loss: -0.07166\n",
      "epoch: 01, loss: -0.08166\n",
      "epoch: 02, loss: -0.08360\n",
      "epoch: 03, loss: -0.08398\n",
      "epoch: 04, loss: -0.08372\n",
      "epoch: 05, loss: -0.08455\n",
      "epoch: 06, loss: -0.08410\n",
      "epoch: 07, loss: -0.08485\n",
      "epoch: 08, loss: -0.08497\n",
      "epoch: 09, loss: -0.08417\n",
      "torch.Size([1024, 64])\n"
     ]
    },
    {
     "name": "stderr",
     "output_type": "stream",
     "text": [
      " 22%|██▏       | 223/1000 [1:34:25<3:34:20, 16.55s/it]"
     ]
    },
    {
     "name": "stdout",
     "output_type": "stream",
     "text": [
      "eigenvalues shape torch.Size([5]) eigenvectors shape torch.Size([5, 1024])\n",
      "223 /home/phdcs2/Hard_Disk/Datasets/Deep-Spectral-Segmentation/data/object-segmentation/ECSSD/features/0224_resized.pth\n",
      "dict_keys(['k', 'indices', 'file', 'id', 'model_name', 'patch_size', 'shape'])\n",
      "0224_resized\n",
      "Starting Training\n",
      "epoch: 00, loss: -0.01908\n",
      "epoch: 01, loss: -0.02820\n",
      "epoch: 02, loss: -0.02894\n",
      "epoch: 03, loss: -0.02947\n",
      "epoch: 04, loss: -0.02984\n",
      "epoch: 05, loss: -0.03000\n",
      "epoch: 06, loss: -0.03008\n",
      "epoch: 07, loss: -0.03024\n",
      "epoch: 08, loss: -0.03025\n"
     ]
    },
    {
     "name": "stderr",
     "output_type": "stream",
     "text": [
      " 22%|██▏       | 224/1000 [1:34:42<3:35:07, 16.63s/it]"
     ]
    },
    {
     "name": "stdout",
     "output_type": "stream",
     "text": [
      "epoch: 09, loss: -0.03041\n",
      "torch.Size([1024, 64])\n",
      "eigenvalues shape torch.Size([5]) eigenvectors shape torch.Size([5, 1024])\n",
      "224 /home/phdcs2/Hard_Disk/Datasets/Deep-Spectral-Segmentation/data/object-segmentation/ECSSD/features/0225_resized.pth\n",
      "dict_keys(['k', 'indices', 'file', 'id', 'model_name', 'patch_size', 'shape'])\n",
      "0225_resized\n",
      "Starting Training\n",
      "epoch: 00, loss: -0.03994\n",
      "epoch: 01, loss: -0.05540\n",
      "epoch: 02, loss: -0.05620\n",
      "epoch: 03, loss: -0.05624\n",
      "epoch: 04, loss: -0.05777\n",
      "epoch: 05, loss: -0.05692\n",
      "epoch: 06, loss: -0.05733\n",
      "epoch: 07, loss: -0.05782\n",
      "epoch: 08, loss: -0.05784\n",
      "epoch: 09, loss: -0.05884\n",
      "torch.Size([1024, 64])\n"
     ]
    },
    {
     "name": "stderr",
     "output_type": "stream",
     "text": [
      " 22%|██▎       | 225/1000 [1:35:00<3:37:43, 16.86s/it]"
     ]
    },
    {
     "name": "stdout",
     "output_type": "stream",
     "text": [
      "eigenvalues shape torch.Size([5]) eigenvectors shape torch.Size([5, 1024])\n",
      "225 /home/phdcs2/Hard_Disk/Datasets/Deep-Spectral-Segmentation/data/object-segmentation/ECSSD/features/0226_resized.pth\n",
      "dict_keys(['k', 'indices', 'file', 'id', 'model_name', 'patch_size', 'shape'])\n",
      "0226_resized\n",
      "Starting Training\n",
      "epoch: 00, loss: -0.03005\n",
      "epoch: 01, loss: -0.04541\n",
      "epoch: 02, loss: -0.04613\n",
      "epoch: 03, loss: -0.04722\n",
      "epoch: 04, loss: -0.04828\n",
      "epoch: 05, loss: -0.04941\n",
      "epoch: 06, loss: -0.04913\n",
      "epoch: 07, loss: -0.04828\n",
      "epoch: 08, loss: -0.05007\n"
     ]
    },
    {
     "name": "stderr",
     "output_type": "stream",
     "text": [
      " 23%|██▎       | 226/1000 [1:35:16<3:36:38, 16.79s/it]"
     ]
    },
    {
     "name": "stdout",
     "output_type": "stream",
     "text": [
      "epoch: 09, loss: -0.04951\n",
      "torch.Size([1024, 64])\n",
      "eigenvalues shape torch.Size([5]) eigenvectors shape torch.Size([5, 1024])\n",
      "226 /home/phdcs2/Hard_Disk/Datasets/Deep-Spectral-Segmentation/data/object-segmentation/ECSSD/features/0227_resized.pth\n",
      "dict_keys(['k', 'indices', 'file', 'id', 'model_name', 'patch_size', 'shape'])\n",
      "0227_resized\n",
      "Starting Training\n",
      "epoch: 00, loss: -0.09443\n",
      "epoch: 01, loss: -0.11042\n",
      "epoch: 02, loss: -0.11223\n",
      "epoch: 03, loss: -0.11326\n",
      "epoch: 04, loss: -0.11487\n",
      "epoch: 05, loss: -0.11478\n",
      "epoch: 06, loss: -0.11402\n",
      "epoch: 07, loss: -0.11428\n",
      "epoch: 08, loss: -0.11534\n",
      "epoch: 09, loss: -0.11584\n",
      "torch.Size([1024, 64])\n"
     ]
    },
    {
     "name": "stderr",
     "output_type": "stream",
     "text": [
      " 23%|██▎       | 227/1000 [1:35:33<3:35:09, 16.70s/it]"
     ]
    },
    {
     "name": "stdout",
     "output_type": "stream",
     "text": [
      "eigenvalues shape torch.Size([5]) eigenvectors shape torch.Size([5, 1024])\n",
      "227 /home/phdcs2/Hard_Disk/Datasets/Deep-Spectral-Segmentation/data/object-segmentation/ECSSD/features/0228_resized.pth\n",
      "dict_keys(['k', 'indices', 'file', 'id', 'model_name', 'patch_size', 'shape'])\n",
      "0228_resized\n",
      "Starting Training\n",
      "epoch: 00, loss: -0.07564\n",
      "epoch: 01, loss: -0.08572\n",
      "epoch: 02, loss: -0.08577\n",
      "epoch: 03, loss: -0.08603\n",
      "epoch: 04, loss: -0.08635\n",
      "epoch: 05, loss: -0.08636\n",
      "epoch: 06, loss: -0.08653\n",
      "epoch: 07, loss: -0.08666\n",
      "epoch: 08, loss: -0.08665\n",
      "epoch: 09, loss: -0.08696\n",
      "torch.Size([1024, 64])\n"
     ]
    },
    {
     "name": "stderr",
     "output_type": "stream",
     "text": [
      " 23%|██▎       | 228/1000 [1:35:49<3:33:38, 16.60s/it]"
     ]
    },
    {
     "name": "stdout",
     "output_type": "stream",
     "text": [
      "eigenvalues shape torch.Size([5]) eigenvectors shape torch.Size([5, 1024])\n",
      "228 /home/phdcs2/Hard_Disk/Datasets/Deep-Spectral-Segmentation/data/object-segmentation/ECSSD/features/0229_resized.pth\n",
      "dict_keys(['k', 'indices', 'file', 'id', 'model_name', 'patch_size', 'shape'])\n",
      "0229_resized\n",
      "Starting Training\n",
      "epoch: 00, loss: -0.03006\n",
      "epoch: 01, loss: -0.04047\n",
      "epoch: 02, loss: -0.04088\n",
      "epoch: 03, loss: -0.04104\n",
      "epoch: 04, loss: -0.04126\n",
      "epoch: 05, loss: -0.04150\n",
      "epoch: 06, loss: -0.04156\n",
      "epoch: 07, loss: -0.04164\n",
      "epoch: 08, loss: -0.04167\n",
      "epoch: 09, loss: -0.04185\n",
      "torch.Size([1024, 64])\n"
     ]
    },
    {
     "name": "stderr",
     "output_type": "stream",
     "text": [
      " 23%|██▎       | 229/1000 [1:36:05<3:32:26, 16.53s/it]"
     ]
    },
    {
     "name": "stdout",
     "output_type": "stream",
     "text": [
      "eigenvalues shape torch.Size([5]) eigenvectors shape torch.Size([5, 1024])\n",
      "229 /home/phdcs2/Hard_Disk/Datasets/Deep-Spectral-Segmentation/data/object-segmentation/ECSSD/features/0230_resized.pth\n",
      "dict_keys(['k', 'indices', 'file', 'id', 'model_name', 'patch_size', 'shape'])\n",
      "0230_resized\n",
      "Starting Training\n",
      "epoch: 00, loss: -0.05964\n",
      "epoch: 01, loss: -0.07023\n",
      "epoch: 02, loss: -0.07031\n",
      "epoch: 03, loss: -0.07110\n",
      "epoch: 04, loss: -0.07133\n",
      "epoch: 05, loss: -0.07159\n",
      "epoch: 06, loss: -0.07155\n",
      "epoch: 07, loss: -0.07129\n",
      "epoch: 08, loss: -0.07204\n"
     ]
    },
    {
     "name": "stderr",
     "output_type": "stream",
     "text": [
      " 23%|██▎       | 230/1000 [1:36:21<3:29:55, 16.36s/it]"
     ]
    },
    {
     "name": "stdout",
     "output_type": "stream",
     "text": [
      "epoch: 09, loss: -0.07154\n",
      "torch.Size([1024, 64])\n",
      "eigenvalues shape torch.Size([5]) eigenvectors shape torch.Size([5, 1024])\n",
      "230 /home/phdcs2/Hard_Disk/Datasets/Deep-Spectral-Segmentation/data/object-segmentation/ECSSD/features/0231_resized.pth\n",
      "dict_keys(['k', 'indices', 'file', 'id', 'model_name', 'patch_size', 'shape'])\n",
      "0231_resized\n",
      "Starting Training\n",
      "epoch: 00, loss: -0.05561\n",
      "epoch: 01, loss: -0.06820\n",
      "epoch: 02, loss: -0.07025\n",
      "epoch: 03, loss: -0.06917\n",
      "epoch: 04, loss: -0.07050\n",
      "epoch: 05, loss: -0.07062\n",
      "epoch: 06, loss: -0.07156\n",
      "epoch: 07, loss: -0.07174\n",
      "epoch: 08, loss: -0.07136\n"
     ]
    },
    {
     "name": "stderr",
     "output_type": "stream",
     "text": [
      " 23%|██▎       | 231/1000 [1:36:38<3:30:50, 16.45s/it]"
     ]
    },
    {
     "name": "stdout",
     "output_type": "stream",
     "text": [
      "epoch: 09, loss: -0.07321\n",
      "torch.Size([1024, 64])\n",
      "eigenvalues shape torch.Size([5]) eigenvectors shape torch.Size([5, 1024])\n",
      "231 /home/phdcs2/Hard_Disk/Datasets/Deep-Spectral-Segmentation/data/object-segmentation/ECSSD/features/0232_resized.pth\n",
      "dict_keys(['k', 'indices', 'file', 'id', 'model_name', 'patch_size', 'shape'])\n",
      "0232_resized\n",
      "Starting Training\n",
      "epoch: 00, loss: -0.05281\n",
      "epoch: 01, loss: -0.06424\n",
      "epoch: 02, loss: -0.06484\n",
      "epoch: 03, loss: -0.06502\n",
      "epoch: 04, loss: -0.06521\n",
      "epoch: 05, loss: -0.06534\n",
      "epoch: 06, loss: -0.06543\n",
      "epoch: 07, loss: -0.06565\n",
      "epoch: 08, loss: -0.06554\n",
      "epoch: 09, loss: -0.06564\n",
      "torch.Size([1024, 64])\n"
     ]
    },
    {
     "name": "stderr",
     "output_type": "stream",
     "text": [
      " 23%|██▎       | 232/1000 [1:36:55<3:30:28, 16.44s/it]"
     ]
    },
    {
     "name": "stdout",
     "output_type": "stream",
     "text": [
      "eigenvalues shape torch.Size([5]) eigenvectors shape torch.Size([5, 1024])\n",
      "232 /home/phdcs2/Hard_Disk/Datasets/Deep-Spectral-Segmentation/data/object-segmentation/ECSSD/features/0233_resized.pth\n",
      "dict_keys(['k', 'indices', 'file', 'id', 'model_name', 'patch_size', 'shape'])\n",
      "0233_resized\n",
      "Starting Training\n",
      "epoch: 00, loss: -0.04936\n",
      "epoch: 01, loss: -0.06224\n",
      "epoch: 02, loss: -0.06281\n",
      "epoch: 03, loss: -0.06280\n",
      "epoch: 04, loss: -0.06305\n",
      "epoch: 05, loss: -0.06326\n",
      "epoch: 06, loss: -0.06331\n",
      "epoch: 07, loss: -0.06337\n",
      "epoch: 08, loss: -0.06342\n",
      "epoch: 09, loss: -0.06348\n",
      "torch.Size([1024, 64])\n"
     ]
    },
    {
     "name": "stderr",
     "output_type": "stream",
     "text": [
      " 23%|██▎       | 233/1000 [1:37:11<3:30:41, 16.48s/it]"
     ]
    },
    {
     "name": "stdout",
     "output_type": "stream",
     "text": [
      "eigenvalues shape torch.Size([5]) eigenvectors shape torch.Size([5, 1024])\n",
      "233 /home/phdcs2/Hard_Disk/Datasets/Deep-Spectral-Segmentation/data/object-segmentation/ECSSD/features/0234_resized.pth\n",
      "dict_keys(['k', 'indices', 'file', 'id', 'model_name', 'patch_size', 'shape'])\n",
      "0234_resized\n",
      "Starting Training\n",
      "epoch: 00, loss: -0.04346\n",
      "epoch: 01, loss: -0.05623\n",
      "epoch: 02, loss: -0.05665\n",
      "epoch: 03, loss: -0.05713\n",
      "epoch: 04, loss: -0.05707\n",
      "epoch: 05, loss: -0.05734\n",
      "epoch: 06, loss: -0.05754\n",
      "epoch: 07, loss: -0.05754\n",
      "epoch: 08, loss: -0.05772\n",
      "epoch: 09, loss: -0.05778\n",
      "torch.Size([1024, 64])\n"
     ]
    },
    {
     "name": "stderr",
     "output_type": "stream",
     "text": [
      " 23%|██▎       | 234/1000 [1:37:28<3:31:36, 16.58s/it]"
     ]
    },
    {
     "name": "stdout",
     "output_type": "stream",
     "text": [
      "eigenvalues shape torch.Size([5]) eigenvectors shape torch.Size([5, 1024])\n",
      "234 /home/phdcs2/Hard_Disk/Datasets/Deep-Spectral-Segmentation/data/object-segmentation/ECSSD/features/0235_resized.pth\n",
      "dict_keys(['k', 'indices', 'file', 'id', 'model_name', 'patch_size', 'shape'])\n",
      "0235_resized\n",
      "Starting Training\n",
      "epoch: 00, loss: -0.05138\n",
      "epoch: 01, loss: -0.06614\n",
      "epoch: 02, loss: -0.06773\n",
      "epoch: 03, loss: -0.06834\n",
      "epoch: 04, loss: -0.06835\n",
      "epoch: 05, loss: -0.06826\n",
      "epoch: 06, loss: -0.06944\n",
      "epoch: 07, loss: -0.06926\n",
      "epoch: 08, loss: -0.06956\n"
     ]
    },
    {
     "name": "stderr",
     "output_type": "stream",
     "text": [
      " 24%|██▎       | 235/1000 [1:37:45<3:32:36, 16.67s/it]"
     ]
    },
    {
     "name": "stdout",
     "output_type": "stream",
     "text": [
      "epoch: 09, loss: -0.06863\n",
      "torch.Size([1024, 64])\n",
      "eigenvalues shape torch.Size([5]) eigenvectors shape torch.Size([5, 1024])\n",
      "235 /home/phdcs2/Hard_Disk/Datasets/Deep-Spectral-Segmentation/data/object-segmentation/ECSSD/features/0236_resized.pth\n",
      "dict_keys(['k', 'indices', 'file', 'id', 'model_name', 'patch_size', 'shape'])\n",
      "0236_resized\n",
      "Starting Training\n",
      "epoch: 00, loss: -0.06990\n",
      "epoch: 01, loss: -0.08214\n",
      "epoch: 02, loss: -0.08208\n",
      "epoch: 03, loss: -0.08243\n",
      "epoch: 04, loss: -0.08245\n",
      "epoch: 05, loss: -0.08263\n",
      "epoch: 06, loss: -0.08274\n",
      "epoch: 07, loss: -0.08284\n",
      "epoch: 08, loss: -0.08288\n",
      "epoch: 09, loss: -0.08288\n",
      "torch.Size([1024, 64])\n"
     ]
    },
    {
     "name": "stderr",
     "output_type": "stream",
     "text": [
      " 24%|██▎       | 236/1000 [1:38:01<3:30:36, 16.54s/it]"
     ]
    },
    {
     "name": "stdout",
     "output_type": "stream",
     "text": [
      "eigenvalues shape torch.Size([5]) eigenvectors shape torch.Size([5, 1024])\n",
      "236 /home/phdcs2/Hard_Disk/Datasets/Deep-Spectral-Segmentation/data/object-segmentation/ECSSD/features/0237_resized.pth\n",
      "dict_keys(['k', 'indices', 'file', 'id', 'model_name', 'patch_size', 'shape'])\n",
      "0237_resized\n",
      "Starting Training\n",
      "epoch: 00, loss: -0.06339\n",
      "epoch: 01, loss: -0.07728\n",
      "epoch: 02, loss: -0.07726\n",
      "epoch: 03, loss: -0.07802\n",
      "epoch: 04, loss: -0.07837\n",
      "epoch: 05, loss: -0.07867\n",
      "epoch: 06, loss: -0.07910\n",
      "epoch: 07, loss: -0.07972\n",
      "epoch: 08, loss: -0.08012\n"
     ]
    },
    {
     "name": "stderr",
     "output_type": "stream",
     "text": [
      " 24%|██▎       | 237/1000 [1:38:17<3:28:59, 16.43s/it]"
     ]
    },
    {
     "name": "stdout",
     "output_type": "stream",
     "text": [
      "epoch: 09, loss: -0.07940\n",
      "torch.Size([1024, 64])\n",
      "eigenvalues shape torch.Size([5]) eigenvectors shape torch.Size([5, 1024])\n",
      "237 /home/phdcs2/Hard_Disk/Datasets/Deep-Spectral-Segmentation/data/object-segmentation/ECSSD/features/0238_resized.pth\n",
      "dict_keys(['k', 'indices', 'file', 'id', 'model_name', 'patch_size', 'shape'])\n",
      "0238_resized\n",
      "Starting Training\n",
      "epoch: 00, loss: -0.02380\n",
      "epoch: 01, loss: -0.03490\n",
      "epoch: 02, loss: -0.03591\n",
      "epoch: 03, loss: -0.03607\n",
      "epoch: 04, loss: -0.03637\n",
      "epoch: 05, loss: -0.03658\n",
      "epoch: 06, loss: -0.03677\n",
      "epoch: 07, loss: -0.03696\n",
      "epoch: 08, loss: -0.03707\n",
      "epoch: 09, loss: -0.03709\n",
      "torch.Size([1024, 64])\n"
     ]
    },
    {
     "name": "stderr",
     "output_type": "stream",
     "text": [
      " 24%|██▍       | 238/1000 [1:38:33<3:27:39, 16.35s/it]"
     ]
    },
    {
     "name": "stdout",
     "output_type": "stream",
     "text": [
      "eigenvalues shape torch.Size([5]) eigenvectors shape torch.Size([5, 1024])\n",
      "238 /home/phdcs2/Hard_Disk/Datasets/Deep-Spectral-Segmentation/data/object-segmentation/ECSSD/features/0239_resized.pth\n",
      "dict_keys(['k', 'indices', 'file', 'id', 'model_name', 'patch_size', 'shape'])\n",
      "0239_resized\n",
      "Starting Training\n",
      "epoch: 00, loss: -0.05274\n",
      "epoch: 01, loss: -0.06779\n",
      "epoch: 02, loss: -0.07006\n",
      "epoch: 03, loss: -0.07072\n",
      "epoch: 04, loss: -0.07094\n",
      "epoch: 05, loss: -0.07303\n",
      "epoch: 06, loss: -0.07306\n",
      "epoch: 07, loss: -0.07317\n",
      "epoch: 08, loss: -0.07270\n"
     ]
    },
    {
     "name": "stderr",
     "output_type": "stream",
     "text": [
      " 24%|██▍       | 239/1000 [1:38:49<3:25:39, 16.22s/it]"
     ]
    },
    {
     "name": "stdout",
     "output_type": "stream",
     "text": [
      "epoch: 09, loss: -0.07392\n",
      "torch.Size([1024, 64])\n",
      "eigenvalues shape torch.Size([5]) eigenvectors shape torch.Size([5, 1024])\n",
      "239 /home/phdcs2/Hard_Disk/Datasets/Deep-Spectral-Segmentation/data/object-segmentation/ECSSD/features/0240_resized.pth\n",
      "dict_keys(['k', 'indices', 'file', 'id', 'model_name', 'patch_size', 'shape'])\n",
      "0240_resized\n",
      "Starting Training\n",
      "epoch: 00, loss: -0.04204\n",
      "epoch: 01, loss: -0.05745\n",
      "epoch: 02, loss: -0.06077\n",
      "epoch: 03, loss: -0.06042\n",
      "epoch: 04, loss: -0.06074\n",
      "epoch: 05, loss: -0.06054\n",
      "epoch: 06, loss: -0.06112\n",
      "epoch: 07, loss: -0.06252\n",
      "epoch: 08, loss: -0.06391\n",
      "epoch: 09, loss: -0.06236\n",
      "torch.Size([1024, 64])\n"
     ]
    },
    {
     "name": "stderr",
     "output_type": "stream",
     "text": [
      " 24%|██▍       | 240/1000 [1:39:06<3:25:37, 16.23s/it]"
     ]
    },
    {
     "name": "stdout",
     "output_type": "stream",
     "text": [
      "eigenvalues shape torch.Size([5]) eigenvectors shape torch.Size([5, 1024])\n",
      "240 /home/phdcs2/Hard_Disk/Datasets/Deep-Spectral-Segmentation/data/object-segmentation/ECSSD/features/0241_resized.pth\n",
      "dict_keys(['k', 'indices', 'file', 'id', 'model_name', 'patch_size', 'shape'])\n",
      "0241_resized\n",
      "Starting Training\n",
      "epoch: 00, loss: -0.07186\n",
      "epoch: 01, loss: -0.08621\n",
      "epoch: 02, loss: -0.08790\n",
      "epoch: 03, loss: -0.08867\n",
      "epoch: 04, loss: -0.08981\n",
      "epoch: 05, loss: -0.08950\n",
      "epoch: 06, loss: -0.09008\n",
      "epoch: 07, loss: -0.09019\n",
      "epoch: 08, loss: -0.09084\n"
     ]
    },
    {
     "name": "stderr",
     "output_type": "stream",
     "text": [
      " 24%|██▍       | 241/1000 [1:39:23<3:28:50, 16.51s/it]"
     ]
    },
    {
     "name": "stdout",
     "output_type": "stream",
     "text": [
      "epoch: 09, loss: -0.09087\n",
      "torch.Size([1024, 64])\n",
      "eigenvalues shape torch.Size([5]) eigenvectors shape torch.Size([5, 1024])\n",
      "241 /home/phdcs2/Hard_Disk/Datasets/Deep-Spectral-Segmentation/data/object-segmentation/ECSSD/features/0242_resized.pth\n",
      "dict_keys(['k', 'indices', 'file', 'id', 'model_name', 'patch_size', 'shape'])\n",
      "0242_resized\n",
      "Starting Training\n",
      "epoch: 00, loss: -0.04513\n",
      "epoch: 01, loss: -0.06302\n",
      "epoch: 02, loss: -0.06252\n",
      "epoch: 03, loss: -0.06440\n",
      "epoch: 04, loss: -0.06425\n",
      "epoch: 05, loss: -0.06468\n",
      "epoch: 06, loss: -0.06430\n",
      "epoch: 07, loss: -0.06593\n",
      "epoch: 08, loss: -0.06527\n",
      "epoch: 09, loss: -0.06529\n",
      "torch.Size([1024, 64])\n"
     ]
    },
    {
     "name": "stderr",
     "output_type": "stream",
     "text": [
      " 24%|██▍       | 242/1000 [1:39:39<3:28:22, 16.49s/it]"
     ]
    },
    {
     "name": "stdout",
     "output_type": "stream",
     "text": [
      "eigenvalues shape torch.Size([5]) eigenvectors shape torch.Size([5, 1024])\n",
      "242 /home/phdcs2/Hard_Disk/Datasets/Deep-Spectral-Segmentation/data/object-segmentation/ECSSD/features/0243_resized.pth\n",
      "dict_keys(['k', 'indices', 'file', 'id', 'model_name', 'patch_size', 'shape'])\n",
      "0243_resized\n",
      "Starting Training\n",
      "epoch: 00, loss: -0.04170\n",
      "epoch: 01, loss: -0.05413\n",
      "epoch: 02, loss: -0.05468\n",
      "epoch: 03, loss: -0.05505\n",
      "epoch: 04, loss: -0.05535\n",
      "epoch: 05, loss: -0.05534\n",
      "epoch: 06, loss: -0.05555\n",
      "epoch: 07, loss: -0.05566\n",
      "epoch: 08, loss: -0.05568\n",
      "epoch: 09, loss: -0.05578\n",
      "torch.Size([1024, 64])\n"
     ]
    },
    {
     "name": "stderr",
     "output_type": "stream",
     "text": [
      " 24%|██▍       | 243/1000 [1:39:55<3:26:51, 16.40s/it]"
     ]
    },
    {
     "name": "stdout",
     "output_type": "stream",
     "text": [
      "eigenvalues shape torch.Size([5]) eigenvectors shape torch.Size([5, 1024])\n",
      "243 /home/phdcs2/Hard_Disk/Datasets/Deep-Spectral-Segmentation/data/object-segmentation/ECSSD/features/0244_resized.pth\n",
      "dict_keys(['k', 'indices', 'file', 'id', 'model_name', 'patch_size', 'shape'])\n",
      "0244_resized\n",
      "Starting Training\n",
      "epoch: 00, loss: -0.02242\n",
      "epoch: 01, loss: -0.03500\n",
      "epoch: 02, loss: -0.03586\n",
      "epoch: 03, loss: -0.03686\n",
      "epoch: 04, loss: -0.03687\n",
      "epoch: 05, loss: -0.03711\n",
      "epoch: 06, loss: -0.03749\n",
      "epoch: 07, loss: -0.03778\n",
      "epoch: 08, loss: -0.03778\n",
      "epoch: 09, loss: -0.03799\n",
      "torch.Size([1024, 64])\n"
     ]
    },
    {
     "name": "stderr",
     "output_type": "stream",
     "text": [
      " 24%|██▍       | 244/1000 [1:40:11<3:25:39, 16.32s/it]"
     ]
    },
    {
     "name": "stdout",
     "output_type": "stream",
     "text": [
      "eigenvalues shape torch.Size([5]) eigenvectors shape torch.Size([5, 1024])\n",
      "244 /home/phdcs2/Hard_Disk/Datasets/Deep-Spectral-Segmentation/data/object-segmentation/ECSSD/features/0245_resized.pth\n",
      "dict_keys(['k', 'indices', 'file', 'id', 'model_name', 'patch_size', 'shape'])\n",
      "0245_resized\n",
      "Starting Training\n",
      "epoch: 00, loss: -0.04845\n",
      "epoch: 01, loss: -0.06415\n",
      "epoch: 02, loss: -0.06756\n",
      "epoch: 03, loss: -0.06670\n",
      "epoch: 04, loss: -0.06730\n",
      "epoch: 05, loss: -0.06761\n",
      "epoch: 06, loss: -0.06955\n",
      "epoch: 07, loss: -0.06946\n",
      "epoch: 08, loss: -0.07056\n"
     ]
    },
    {
     "name": "stderr",
     "output_type": "stream",
     "text": [
      " 24%|██▍       | 245/1000 [1:40:28<3:25:11, 16.31s/it]"
     ]
    },
    {
     "name": "stdout",
     "output_type": "stream",
     "text": [
      "epoch: 09, loss: -0.06984\n",
      "torch.Size([1024, 64])\n",
      "eigenvalues shape torch.Size([5]) eigenvectors shape torch.Size([5, 1024])\n",
      "245 /home/phdcs2/Hard_Disk/Datasets/Deep-Spectral-Segmentation/data/object-segmentation/ECSSD/features/0246_resized.pth\n",
      "dict_keys(['k', 'indices', 'file', 'id', 'model_name', 'patch_size', 'shape'])\n",
      "0246_resized\n",
      "Starting Training\n",
      "epoch: 00, loss: -0.02640\n",
      "epoch: 01, loss: -0.03628\n",
      "epoch: 02, loss: -0.03709\n",
      "epoch: 03, loss: -0.03749\n",
      "epoch: 04, loss: -0.03776\n",
      "epoch: 05, loss: -0.03786\n",
      "epoch: 06, loss: -0.03799\n",
      "epoch: 07, loss: -0.03817\n",
      "epoch: 08, loss: -0.03819\n"
     ]
    },
    {
     "name": "stderr",
     "output_type": "stream",
     "text": [
      " 25%|██▍       | 246/1000 [1:40:44<3:26:09, 16.41s/it]"
     ]
    },
    {
     "name": "stdout",
     "output_type": "stream",
     "text": [
      "epoch: 09, loss: -0.03839\n",
      "torch.Size([1024, 64])\n",
      "eigenvalues shape torch.Size([5]) eigenvectors shape torch.Size([5, 1024])\n",
      "246 /home/phdcs2/Hard_Disk/Datasets/Deep-Spectral-Segmentation/data/object-segmentation/ECSSD/features/0247_resized.pth\n",
      "dict_keys(['k', 'indices', 'file', 'id', 'model_name', 'patch_size', 'shape'])\n",
      "0247_resized\n",
      "Starting Training\n",
      "epoch: 00, loss: -0.08539\n",
      "epoch: 01, loss: -0.09628\n",
      "epoch: 02, loss: -0.09653\n",
      "epoch: 03, loss: -0.09680\n",
      "epoch: 04, loss: -0.09706\n",
      "epoch: 05, loss: -0.09718\n",
      "epoch: 06, loss: -0.09722\n",
      "epoch: 07, loss: -0.09722\n",
      "epoch: 08, loss: -0.09737\n",
      "epoch: 09, loss: -0.09742\n",
      "torch.Size([1024, 64])\n"
     ]
    },
    {
     "name": "stderr",
     "output_type": "stream",
     "text": [
      " 25%|██▍       | 247/1000 [1:41:01<3:27:02, 16.50s/it]"
     ]
    },
    {
     "name": "stdout",
     "output_type": "stream",
     "text": [
      "eigenvalues shape torch.Size([5]) eigenvectors shape torch.Size([5, 1024])\n",
      "247 /home/phdcs2/Hard_Disk/Datasets/Deep-Spectral-Segmentation/data/object-segmentation/ECSSD/features/0248_resized.pth\n",
      "dict_keys(['k', 'indices', 'file', 'id', 'model_name', 'patch_size', 'shape'])\n",
      "0248_resized\n",
      "Starting Training\n",
      "epoch: 00, loss: -0.01822\n",
      "epoch: 01, loss: -0.02899\n",
      "epoch: 02, loss: -0.02924\n",
      "epoch: 03, loss: -0.02954\n",
      "epoch: 04, loss: -0.02990\n",
      "epoch: 05, loss: -0.03035\n",
      "epoch: 06, loss: -0.03003\n",
      "epoch: 07, loss: -0.03068\n",
      "epoch: 08, loss: -0.03075\n",
      "epoch: 09, loss: -0.03102\n",
      "torch.Size([1024, 64])\n"
     ]
    },
    {
     "name": "stderr",
     "output_type": "stream",
     "text": [
      " 25%|██▍       | 248/1000 [1:41:17<3:25:20, 16.38s/it]"
     ]
    },
    {
     "name": "stdout",
     "output_type": "stream",
     "text": [
      "eigenvalues shape torch.Size([5]) eigenvectors shape torch.Size([5, 1024])\n",
      "248 /home/phdcs2/Hard_Disk/Datasets/Deep-Spectral-Segmentation/data/object-segmentation/ECSSD/features/0249_resized.pth\n",
      "dict_keys(['k', 'indices', 'file', 'id', 'model_name', 'patch_size', 'shape'])\n",
      "0249_resized\n",
      "Starting Training\n",
      "epoch: 00, loss: -0.05228\n",
      "epoch: 01, loss: -0.06368\n",
      "epoch: 02, loss: -0.06700\n",
      "epoch: 03, loss: -0.06769\n",
      "epoch: 04, loss: -0.06698\n",
      "epoch: 05, loss: -0.06749\n",
      "epoch: 06, loss: -0.06791\n",
      "epoch: 07, loss: -0.06777\n",
      "epoch: 08, loss: -0.06786\n",
      "epoch: 09, loss: -0.06957\n",
      "torch.Size([1024, 64])\n"
     ]
    },
    {
     "name": "stderr",
     "output_type": "stream",
     "text": [
      " 25%|██▍       | 249/1000 [1:41:33<3:24:01, 16.30s/it]"
     ]
    },
    {
     "name": "stdout",
     "output_type": "stream",
     "text": [
      "eigenvalues shape torch.Size([5]) eigenvectors shape torch.Size([5, 1024])\n",
      "249 /home/phdcs2/Hard_Disk/Datasets/Deep-Spectral-Segmentation/data/object-segmentation/ECSSD/features/0250_resized.pth\n",
      "dict_keys(['k', 'indices', 'file', 'id', 'model_name', 'patch_size', 'shape'])\n",
      "0250_resized\n",
      "Starting Training\n",
      "epoch: 00, loss: -0.06419\n",
      "epoch: 01, loss: -0.07254\n",
      "epoch: 02, loss: -0.07311\n",
      "epoch: 03, loss: -0.07326\n",
      "epoch: 04, loss: -0.07352\n",
      "epoch: 05, loss: -0.07370\n",
      "epoch: 06, loss: -0.07375\n",
      "epoch: 07, loss: -0.07377\n",
      "epoch: 08, loss: -0.07400\n"
     ]
    },
    {
     "name": "stderr",
     "output_type": "stream",
     "text": [
      " 25%|██▌       | 250/1000 [1:41:49<3:21:46, 16.14s/it]"
     ]
    },
    {
     "name": "stdout",
     "output_type": "stream",
     "text": [
      "epoch: 09, loss: -0.07386\n",
      "torch.Size([1024, 64])\n",
      "eigenvalues shape torch.Size([5]) eigenvectors shape torch.Size([5, 1024])\n",
      "250 /home/phdcs2/Hard_Disk/Datasets/Deep-Spectral-Segmentation/data/object-segmentation/ECSSD/features/0251_resized.pth\n",
      "dict_keys(['k', 'indices', 'file', 'id', 'model_name', 'patch_size', 'shape'])\n",
      "0251_resized\n",
      "Starting Training\n",
      "epoch: 00, loss: -0.05080\n",
      "epoch: 01, loss: -0.06024\n",
      "epoch: 02, loss: -0.06055\n",
      "epoch: 03, loss: -0.06074\n",
      "epoch: 04, loss: -0.06101\n",
      "epoch: 05, loss: -0.06110\n",
      "epoch: 06, loss: -0.06112\n",
      "epoch: 07, loss: -0.06133\n",
      "epoch: 08, loss: -0.06135\n",
      "epoch: 09, loss: -0.06135\n",
      "torch.Size([1024, 64])\n"
     ]
    },
    {
     "name": "stderr",
     "output_type": "stream",
     "text": [
      " 25%|██▌       | 251/1000 [1:42:06<3:22:33, 16.23s/it]"
     ]
    },
    {
     "name": "stdout",
     "output_type": "stream",
     "text": [
      "eigenvalues shape torch.Size([5]) eigenvectors shape torch.Size([5, 1024])\n",
      "251 /home/phdcs2/Hard_Disk/Datasets/Deep-Spectral-Segmentation/data/object-segmentation/ECSSD/features/0252_resized.pth\n",
      "dict_keys(['k', 'indices', 'file', 'id', 'model_name', 'patch_size', 'shape'])\n",
      "0252_resized\n",
      "Starting Training\n",
      "epoch: 00, loss: -0.02718\n",
      "epoch: 01, loss: -0.04569\n",
      "epoch: 02, loss: -0.04869\n",
      "epoch: 03, loss: -0.04917\n",
      "epoch: 04, loss: -0.04821\n",
      "epoch: 05, loss: -0.05045\n",
      "epoch: 06, loss: -0.05099\n",
      "epoch: 07, loss: -0.05053\n",
      "epoch: 08, loss: -0.05082\n"
     ]
    },
    {
     "name": "stderr",
     "output_type": "stream",
     "text": [
      " 25%|██▌       | 252/1000 [1:42:22<3:21:31, 16.16s/it]"
     ]
    },
    {
     "name": "stdout",
     "output_type": "stream",
     "text": [
      "epoch: 09, loss: -0.05118\n",
      "torch.Size([1024, 64])\n",
      "eigenvalues shape torch.Size([5]) eigenvectors shape torch.Size([5, 1024])\n",
      "252 /home/phdcs2/Hard_Disk/Datasets/Deep-Spectral-Segmentation/data/object-segmentation/ECSSD/features/0253_resized.pth\n",
      "dict_keys(['k', 'indices', 'file', 'id', 'model_name', 'patch_size', 'shape'])\n",
      "0253_resized\n",
      "Starting Training\n",
      "epoch: 00, loss: -0.02323\n",
      "epoch: 01, loss: -0.03917\n",
      "epoch: 02, loss: -0.04286\n",
      "epoch: 03, loss: -0.04145\n",
      "epoch: 04, loss: -0.04293\n",
      "epoch: 05, loss: -0.04372\n",
      "epoch: 06, loss: -0.04473\n",
      "epoch: 07, loss: -0.04362\n",
      "epoch: 08, loss: -0.04510\n",
      "epoch: 09, loss: -0.04427\n",
      "torch.Size([1024, 64])\n"
     ]
    },
    {
     "name": "stderr",
     "output_type": "stream",
     "text": [
      " 25%|██▌       | 253/1000 [1:42:38<3:21:45, 16.21s/it]"
     ]
    },
    {
     "name": "stdout",
     "output_type": "stream",
     "text": [
      "eigenvalues shape torch.Size([5]) eigenvectors shape torch.Size([5, 1024])\n",
      "253 /home/phdcs2/Hard_Disk/Datasets/Deep-Spectral-Segmentation/data/object-segmentation/ECSSD/features/0254_resized.pth\n",
      "dict_keys(['k', 'indices', 'file', 'id', 'model_name', 'patch_size', 'shape'])\n",
      "0254_resized\n",
      "Starting Training\n",
      "epoch: 00, loss: -0.04718\n",
      "epoch: 01, loss: -0.05387\n",
      "epoch: 02, loss: -0.05419\n",
      "epoch: 03, loss: -0.05488\n",
      "epoch: 04, loss: -0.05487\n",
      "epoch: 05, loss: -0.05526\n",
      "epoch: 06, loss: -0.05515\n",
      "epoch: 07, loss: -0.05529\n",
      "epoch: 08, loss: -0.05535\n",
      "epoch: 09, loss: -0.05552\n",
      "torch.Size([1024, 64])\n"
     ]
    },
    {
     "name": "stderr",
     "output_type": "stream",
     "text": [
      " 25%|██▌       | 254/1000 [1:42:54<3:21:34, 16.21s/it]"
     ]
    },
    {
     "name": "stdout",
     "output_type": "stream",
     "text": [
      "eigenvalues shape torch.Size([5]) eigenvectors shape torch.Size([5, 1024])\n",
      "254 /home/phdcs2/Hard_Disk/Datasets/Deep-Spectral-Segmentation/data/object-segmentation/ECSSD/features/0255_resized.pth\n",
      "dict_keys(['k', 'indices', 'file', 'id', 'model_name', 'patch_size', 'shape'])\n",
      "0255_resized\n",
      "Starting Training\n",
      "epoch: 00, loss: -0.03686\n",
      "epoch: 01, loss: -0.05672\n",
      "epoch: 02, loss: -0.05625\n",
      "epoch: 03, loss: -0.05877\n",
      "epoch: 04, loss: -0.06018\n",
      "epoch: 05, loss: -0.05961\n",
      "epoch: 06, loss: -0.05887\n",
      "epoch: 07, loss: -0.05992\n",
      "epoch: 08, loss: -0.06052\n"
     ]
    },
    {
     "name": "stderr",
     "output_type": "stream",
     "text": [
      " 26%|██▌       | 255/1000 [1:43:10<3:21:21, 16.22s/it]"
     ]
    },
    {
     "name": "stdout",
     "output_type": "stream",
     "text": [
      "epoch: 09, loss: -0.05962\n",
      "torch.Size([1024, 64])\n",
      "eigenvalues shape torch.Size([5]) eigenvectors shape torch.Size([5, 1024])\n",
      "255 /home/phdcs2/Hard_Disk/Datasets/Deep-Spectral-Segmentation/data/object-segmentation/ECSSD/features/0256_resized.pth\n",
      "dict_keys(['k', 'indices', 'file', 'id', 'model_name', 'patch_size', 'shape'])\n",
      "0256_resized\n",
      "Starting Training\n",
      "epoch: 00, loss: -0.04810\n",
      "epoch: 01, loss: -0.05624\n",
      "epoch: 02, loss: -0.05743\n",
      "epoch: 03, loss: -0.05721\n",
      "epoch: 04, loss: -0.05744\n",
      "epoch: 05, loss: -0.05846\n",
      "epoch: 06, loss: -0.05857\n",
      "epoch: 07, loss: -0.05853\n",
      "epoch: 08, loss: -0.05842\n",
      "epoch: 09, loss: -0.05868\n",
      "torch.Size([1024, 64])\n"
     ]
    },
    {
     "name": "stderr",
     "output_type": "stream",
     "text": [
      " 26%|██▌       | 256/1000 [1:43:27<3:24:20, 16.48s/it]"
     ]
    },
    {
     "name": "stdout",
     "output_type": "stream",
     "text": [
      "eigenvalues shape torch.Size([5]) eigenvectors shape torch.Size([5, 1024])\n",
      "256 /home/phdcs2/Hard_Disk/Datasets/Deep-Spectral-Segmentation/data/object-segmentation/ECSSD/features/0257_resized.pth\n",
      "dict_keys(['k', 'indices', 'file', 'id', 'model_name', 'patch_size', 'shape'])\n",
      "0257_resized\n",
      "Starting Training\n",
      "epoch: 00, loss: -0.05357\n",
      "epoch: 01, loss: -0.06279\n",
      "epoch: 02, loss: -0.06328\n",
      "epoch: 03, loss: -0.06352\n",
      "epoch: 04, loss: -0.06375\n",
      "epoch: 05, loss: -0.06381\n",
      "epoch: 06, loss: -0.06398\n",
      "epoch: 07, loss: -0.06404\n",
      "epoch: 08, loss: -0.06416\n",
      "epoch: 09, loss: -0.06424\n",
      "torch.Size([1024, 64])\n"
     ]
    },
    {
     "name": "stderr",
     "output_type": "stream",
     "text": [
      " 26%|██▌       | 257/1000 [1:43:44<3:23:07, 16.40s/it]"
     ]
    },
    {
     "name": "stdout",
     "output_type": "stream",
     "text": [
      "eigenvalues shape torch.Size([5]) eigenvectors shape torch.Size([5, 1024])\n",
      "257 /home/phdcs2/Hard_Disk/Datasets/Deep-Spectral-Segmentation/data/object-segmentation/ECSSD/features/0258_resized.pth\n",
      "dict_keys(['k', 'indices', 'file', 'id', 'model_name', 'patch_size', 'shape'])\n",
      "0258_resized\n",
      "Starting Training\n",
      "epoch: 00, loss: -0.03700\n",
      "epoch: 01, loss: -0.04999\n",
      "epoch: 02, loss: -0.05099\n",
      "epoch: 03, loss: -0.05162\n",
      "epoch: 04, loss: -0.05263\n",
      "epoch: 05, loss: -0.05227\n",
      "epoch: 06, loss: -0.05289\n",
      "epoch: 07, loss: -0.05366\n",
      "epoch: 08, loss: -0.05342\n",
      "epoch: 09, loss: -0.05400\n",
      "torch.Size([1024, 64])\n"
     ]
    },
    {
     "name": "stderr",
     "output_type": "stream",
     "text": [
      " 26%|██▌       | 258/1000 [1:44:01<3:26:38, 16.71s/it]"
     ]
    },
    {
     "name": "stdout",
     "output_type": "stream",
     "text": [
      "eigenvalues shape torch.Size([5]) eigenvectors shape torch.Size([5, 1024])\n",
      "258 /home/phdcs2/Hard_Disk/Datasets/Deep-Spectral-Segmentation/data/object-segmentation/ECSSD/features/0259_resized.pth\n",
      "dict_keys(['k', 'indices', 'file', 'id', 'model_name', 'patch_size', 'shape'])\n",
      "0259_resized\n",
      "Starting Training\n",
      "epoch: 00, loss: -0.08266\n",
      "epoch: 01, loss: -0.09697\n",
      "epoch: 02, loss: -0.09875\n",
      "epoch: 03, loss: -0.10025\n",
      "epoch: 04, loss: -0.10076\n",
      "epoch: 05, loss: -0.10211\n",
      "epoch: 06, loss: -0.10252\n",
      "epoch: 07, loss: -0.10172\n",
      "epoch: 08, loss: -0.10140\n",
      "epoch: 09, loss: -0.10306\n",
      "torch.Size([1024, 64])\n"
     ]
    },
    {
     "name": "stderr",
     "output_type": "stream",
     "text": [
      " 26%|██▌       | 259/1000 [1:44:18<3:28:30, 16.88s/it]"
     ]
    },
    {
     "name": "stdout",
     "output_type": "stream",
     "text": [
      "eigenvalues shape torch.Size([5]) eigenvectors shape torch.Size([5, 1024])\n",
      "259 /home/phdcs2/Hard_Disk/Datasets/Deep-Spectral-Segmentation/data/object-segmentation/ECSSD/features/0260_resized.pth\n",
      "dict_keys(['k', 'indices', 'file', 'id', 'model_name', 'patch_size', 'shape'])\n",
      "0260_resized\n",
      "Starting Training\n",
      "epoch: 00, loss: -0.07168\n",
      "epoch: 01, loss: -0.08074\n",
      "epoch: 02, loss: -0.08178\n",
      "epoch: 03, loss: -0.08175\n",
      "epoch: 04, loss: -0.08250\n",
      "epoch: 05, loss: -0.08198\n",
      "epoch: 06, loss: -0.08224\n",
      "epoch: 07, loss: -0.08225\n",
      "epoch: 08, loss: -0.08239\n",
      "epoch: 09, loss: -0.08242\n",
      "torch.Size([1024, 64])\n"
     ]
    },
    {
     "name": "stderr",
     "output_type": "stream",
     "text": [
      " 26%|██▌       | 260/1000 [1:44:35<3:25:47, 16.69s/it]"
     ]
    },
    {
     "name": "stdout",
     "output_type": "stream",
     "text": [
      "eigenvalues shape torch.Size([5]) eigenvectors shape torch.Size([5, 1024])\n",
      "260 /home/phdcs2/Hard_Disk/Datasets/Deep-Spectral-Segmentation/data/object-segmentation/ECSSD/features/0261_resized.pth\n",
      "dict_keys(['k', 'indices', 'file', 'id', 'model_name', 'patch_size', 'shape'])\n",
      "0261_resized\n",
      "Starting Training\n",
      "epoch: 00, loss: -0.06758\n",
      "epoch: 01, loss: -0.08416\n",
      "epoch: 02, loss: -0.08575\n",
      "epoch: 03, loss: -0.08566\n",
      "epoch: 04, loss: -0.08652\n",
      "epoch: 05, loss: -0.08764\n",
      "epoch: 06, loss: -0.08836\n",
      "epoch: 07, loss: -0.08794\n",
      "epoch: 08, loss: -0.08854\n",
      "epoch: 09, loss: -0.08809\n",
      "torch.Size([1024, 64])\n"
     ]
    },
    {
     "name": "stderr",
     "output_type": "stream",
     "text": [
      " 26%|██▌       | 261/1000 [1:44:51<3:25:42, 16.70s/it]"
     ]
    },
    {
     "name": "stdout",
     "output_type": "stream",
     "text": [
      "eigenvalues shape torch.Size([5]) eigenvectors shape torch.Size([5, 1024])\n",
      "261 /home/phdcs2/Hard_Disk/Datasets/Deep-Spectral-Segmentation/data/object-segmentation/ECSSD/features/0262_resized.pth\n",
      "dict_keys(['k', 'indices', 'file', 'id', 'model_name', 'patch_size', 'shape'])\n",
      "0262_resized\n",
      "Starting Training\n",
      "epoch: 00, loss: -0.07031\n",
      "epoch: 01, loss: -0.08673\n",
      "epoch: 02, loss: -0.08815\n",
      "epoch: 03, loss: -0.08939\n",
      "epoch: 04, loss: -0.09055\n",
      "epoch: 05, loss: -0.09005\n",
      "epoch: 06, loss: -0.09014\n",
      "epoch: 07, loss: -0.08963\n",
      "epoch: 08, loss: -0.09098\n",
      "epoch: 09, loss: -0.09120\n",
      "torch.Size([1024, 64])\n"
     ]
    },
    {
     "name": "stderr",
     "output_type": "stream",
     "text": [
      " 26%|██▌       | 262/1000 [1:45:09<3:28:12, 16.93s/it]"
     ]
    },
    {
     "name": "stdout",
     "output_type": "stream",
     "text": [
      "eigenvalues shape torch.Size([5]) eigenvectors shape torch.Size([5, 1024])\n",
      "262 /home/phdcs2/Hard_Disk/Datasets/Deep-Spectral-Segmentation/data/object-segmentation/ECSSD/features/0263_resized.pth\n",
      "dict_keys(['k', 'indices', 'file', 'id', 'model_name', 'patch_size', 'shape'])\n",
      "0263_resized\n",
      "Starting Training\n",
      "epoch: 00, loss: -0.04329\n",
      "epoch: 01, loss: -0.05801\n",
      "epoch: 02, loss: -0.05806\n",
      "epoch: 03, loss: -0.05832\n",
      "epoch: 04, loss: -0.05861\n",
      "epoch: 05, loss: -0.05870\n",
      "epoch: 06, loss: -0.05885\n",
      "epoch: 07, loss: -0.05894\n",
      "epoch: 08, loss: -0.05921\n"
     ]
    },
    {
     "name": "stderr",
     "output_type": "stream",
     "text": [
      " 26%|██▋       | 263/1000 [1:45:25<3:26:32, 16.82s/it]"
     ]
    },
    {
     "name": "stdout",
     "output_type": "stream",
     "text": [
      "epoch: 09, loss: -0.05915\n",
      "torch.Size([1024, 64])\n",
      "eigenvalues shape torch.Size([5]) eigenvectors shape torch.Size([5, 1024])\n",
      "263 /home/phdcs2/Hard_Disk/Datasets/Deep-Spectral-Segmentation/data/object-segmentation/ECSSD/features/0264_resized.pth\n",
      "dict_keys(['k', 'indices', 'file', 'id', 'model_name', 'patch_size', 'shape'])\n",
      "0264_resized\n",
      "Starting Training\n",
      "epoch: 00, loss: -0.04189\n",
      "epoch: 01, loss: -0.05417\n",
      "epoch: 02, loss: -0.05460\n",
      "epoch: 03, loss: -0.05507\n",
      "epoch: 04, loss: -0.05516\n",
      "epoch: 05, loss: -0.05531\n",
      "epoch: 06, loss: -0.05550\n",
      "epoch: 07, loss: -0.05559\n",
      "epoch: 08, loss: -0.05563\n",
      "epoch: 09, loss: -0.05576\n",
      "torch.Size([1024, 64])\n"
     ]
    },
    {
     "name": "stderr",
     "output_type": "stream",
     "text": [
      " 26%|██▋       | 264/1000 [1:45:42<3:24:51, 16.70s/it]"
     ]
    },
    {
     "name": "stdout",
     "output_type": "stream",
     "text": [
      "eigenvalues shape torch.Size([5]) eigenvectors shape torch.Size([5, 1024])\n",
      "264 /home/phdcs2/Hard_Disk/Datasets/Deep-Spectral-Segmentation/data/object-segmentation/ECSSD/features/0265_resized.pth\n",
      "dict_keys(['k', 'indices', 'file', 'id', 'model_name', 'patch_size', 'shape'])\n",
      "0265_resized\n",
      "Starting Training\n",
      "epoch: 00, loss: -0.05621\n",
      "epoch: 01, loss: -0.06337\n",
      "epoch: 02, loss: -0.06384\n",
      "epoch: 03, loss: -0.06398\n",
      "epoch: 04, loss: -0.06433\n",
      "epoch: 05, loss: -0.06439\n",
      "epoch: 06, loss: -0.06459\n",
      "epoch: 07, loss: -0.06462\n",
      "epoch: 08, loss: -0.06485\n",
      "epoch: 09, loss: -0.06480\n",
      "torch.Size([1024, 64])\n"
     ]
    },
    {
     "name": "stderr",
     "output_type": "stream",
     "text": [
      " 26%|██▋       | 265/1000 [1:45:58<3:22:46, 16.55s/it]"
     ]
    },
    {
     "name": "stdout",
     "output_type": "stream",
     "text": [
      "eigenvalues shape torch.Size([5]) eigenvectors shape torch.Size([5, 1024])\n",
      "265 /home/phdcs2/Hard_Disk/Datasets/Deep-Spectral-Segmentation/data/object-segmentation/ECSSD/features/0266_resized.pth\n",
      "dict_keys(['k', 'indices', 'file', 'id', 'model_name', 'patch_size', 'shape'])\n",
      "0266_resized\n",
      "Starting Training\n",
      "epoch: 00, loss: -0.07246\n",
      "epoch: 01, loss: -0.09035\n",
      "epoch: 02, loss: -0.09031\n",
      "epoch: 03, loss: -0.09145\n",
      "epoch: 04, loss: -0.09302\n",
      "epoch: 05, loss: -0.09206\n",
      "epoch: 06, loss: -0.09168\n",
      "epoch: 07, loss: -0.09260\n",
      "epoch: 08, loss: -0.09356\n",
      "epoch: 09, loss: -0.09412\n",
      "torch.Size([1024, 64])\n"
     ]
    },
    {
     "name": "stderr",
     "output_type": "stream",
     "text": [
      " 27%|██▋       | 266/1000 [1:46:15<3:23:23, 16.63s/it]"
     ]
    },
    {
     "name": "stdout",
     "output_type": "stream",
     "text": [
      "eigenvalues shape torch.Size([5]) eigenvectors shape torch.Size([5, 1024])\n",
      "266 /home/phdcs2/Hard_Disk/Datasets/Deep-Spectral-Segmentation/data/object-segmentation/ECSSD/features/0267_resized.pth\n",
      "dict_keys(['k', 'indices', 'file', 'id', 'model_name', 'patch_size', 'shape'])\n",
      "0267_resized\n",
      "Starting Training\n",
      "epoch: 00, loss: -0.03702\n",
      "epoch: 01, loss: -0.05484\n",
      "epoch: 02, loss: -0.05595\n",
      "epoch: 03, loss: -0.05689\n",
      "epoch: 04, loss: -0.05895\n",
      "epoch: 05, loss: -0.05855\n",
      "epoch: 06, loss: -0.05882\n",
      "epoch: 07, loss: -0.06119\n",
      "epoch: 08, loss: -0.06080\n",
      "epoch: 09, loss: -0.06077\n",
      "torch.Size([1024, 64])\n"
     ]
    },
    {
     "name": "stderr",
     "output_type": "stream",
     "text": [
      " 27%|██▋       | 267/1000 [1:46:32<3:24:29, 16.74s/it]"
     ]
    },
    {
     "name": "stdout",
     "output_type": "stream",
     "text": [
      "eigenvalues shape torch.Size([5]) eigenvectors shape torch.Size([5, 1024])\n",
      "267 /home/phdcs2/Hard_Disk/Datasets/Deep-Spectral-Segmentation/data/object-segmentation/ECSSD/features/0268_resized.pth\n",
      "dict_keys(['k', 'indices', 'file', 'id', 'model_name', 'patch_size', 'shape'])\n",
      "0268_resized\n",
      "Starting Training\n",
      "epoch: 00, loss: -0.05578\n",
      "epoch: 01, loss: -0.06669\n",
      "epoch: 02, loss: -0.06788\n",
      "epoch: 03, loss: -0.06762\n",
      "epoch: 04, loss: -0.06773\n",
      "epoch: 05, loss: -0.06795\n",
      "epoch: 06, loss: -0.06808\n",
      "epoch: 07, loss: -0.06840\n",
      "epoch: 08, loss: -0.06818\n",
      "epoch: 09, loss: -0.06847\n",
      "torch.Size([1024, 64])\n"
     ]
    },
    {
     "name": "stderr",
     "output_type": "stream",
     "text": [
      " 27%|██▋       | 268/1000 [1:46:48<3:23:52, 16.71s/it]"
     ]
    },
    {
     "name": "stdout",
     "output_type": "stream",
     "text": [
      "eigenvalues shape torch.Size([5]) eigenvectors shape torch.Size([5, 1024])\n",
      "268 /home/phdcs2/Hard_Disk/Datasets/Deep-Spectral-Segmentation/data/object-segmentation/ECSSD/features/0269_resized.pth\n",
      "dict_keys(['k', 'indices', 'file', 'id', 'model_name', 'patch_size', 'shape'])\n",
      "0269_resized\n",
      "Starting Training\n",
      "epoch: 00, loss: -0.02278\n",
      "epoch: 01, loss: -0.03536\n",
      "epoch: 02, loss: -0.03602\n",
      "epoch: 03, loss: -0.03646\n",
      "epoch: 04, loss: -0.03665\n",
      "epoch: 05, loss: -0.03685\n",
      "epoch: 06, loss: -0.03702\n",
      "epoch: 07, loss: -0.03714\n",
      "epoch: 08, loss: -0.03736\n",
      "epoch: 09, loss: -0.03737\n",
      "torch.Size([1024, 64])\n"
     ]
    },
    {
     "name": "stderr",
     "output_type": "stream",
     "text": [
      " 27%|██▋       | 269/1000 [1:47:05<3:21:37, 16.55s/it]"
     ]
    },
    {
     "name": "stdout",
     "output_type": "stream",
     "text": [
      "eigenvalues shape torch.Size([5]) eigenvectors shape torch.Size([5, 1024])\n",
      "269 /home/phdcs2/Hard_Disk/Datasets/Deep-Spectral-Segmentation/data/object-segmentation/ECSSD/features/0270_resized.pth\n",
      "dict_keys(['k', 'indices', 'file', 'id', 'model_name', 'patch_size', 'shape'])\n",
      "0270_resized\n",
      "Starting Training\n",
      "epoch: 00, loss: -0.06847\n",
      "epoch: 01, loss: -0.08491\n",
      "epoch: 02, loss: -0.08726\n",
      "epoch: 03, loss: -0.08830\n",
      "epoch: 04, loss: -0.08909\n",
      "epoch: 05, loss: -0.08920\n",
      "epoch: 06, loss: -0.09013\n",
      "epoch: 07, loss: -0.09044\n",
      "epoch: 08, loss: -0.09069\n"
     ]
    },
    {
     "name": "stderr",
     "output_type": "stream",
     "text": [
      " 27%|██▋       | 270/1000 [1:47:21<3:20:09, 16.45s/it]"
     ]
    },
    {
     "name": "stdout",
     "output_type": "stream",
     "text": [
      "epoch: 09, loss: -0.09078\n",
      "torch.Size([1024, 64])\n",
      "eigenvalues shape torch.Size([5]) eigenvectors shape torch.Size([5, 1024])\n",
      "270 /home/phdcs2/Hard_Disk/Datasets/Deep-Spectral-Segmentation/data/object-segmentation/ECSSD/features/0271_resized.pth\n",
      "dict_keys(['k', 'indices', 'file', 'id', 'model_name', 'patch_size', 'shape'])\n",
      "0271_resized\n",
      "Starting Training\n",
      "epoch: 00, loss: -0.03184\n",
      "epoch: 01, loss: -0.04725\n",
      "epoch: 02, loss: -0.04738\n",
      "epoch: 03, loss: -0.04950\n",
      "epoch: 04, loss: -0.04806\n",
      "epoch: 05, loss: -0.04857\n",
      "epoch: 06, loss: -0.04987\n",
      "epoch: 07, loss: -0.05093\n",
      "epoch: 08, loss: -0.04963\n",
      "epoch: 09, loss: -0.05049\n",
      "torch.Size([1024, 64])\n"
     ]
    },
    {
     "name": "stderr",
     "output_type": "stream",
     "text": [
      " 27%|██▋       | 271/1000 [1:47:38<3:21:30, 16.59s/it]"
     ]
    },
    {
     "name": "stdout",
     "output_type": "stream",
     "text": [
      "eigenvalues shape torch.Size([5]) eigenvectors shape torch.Size([5, 1024])\n",
      "271 /home/phdcs2/Hard_Disk/Datasets/Deep-Spectral-Segmentation/data/object-segmentation/ECSSD/features/0272_resized.pth\n",
      "dict_keys(['k', 'indices', 'file', 'id', 'model_name', 'patch_size', 'shape'])\n",
      "0272_resized\n",
      "Starting Training\n",
      "epoch: 00, loss: -0.06013\n",
      "epoch: 01, loss: -0.07464\n",
      "epoch: 02, loss: -0.07533\n",
      "epoch: 03, loss: -0.07573\n",
      "epoch: 04, loss: -0.07696\n",
      "epoch: 05, loss: -0.07589\n",
      "epoch: 06, loss: -0.07754\n",
      "epoch: 07, loss: -0.07704\n",
      "epoch: 08, loss: -0.07667\n",
      "epoch: 09, loss: -0.07672\n",
      "torch.Size([1024, 64])\n"
     ]
    },
    {
     "name": "stderr",
     "output_type": "stream",
     "text": [
      " 27%|██▋       | 272/1000 [1:47:54<3:20:30, 16.52s/it]"
     ]
    },
    {
     "name": "stdout",
     "output_type": "stream",
     "text": [
      "eigenvalues shape torch.Size([5]) eigenvectors shape torch.Size([5, 1024])\n",
      "272 /home/phdcs2/Hard_Disk/Datasets/Deep-Spectral-Segmentation/data/object-segmentation/ECSSD/features/0273_resized.pth\n",
      "dict_keys(['k', 'indices', 'file', 'id', 'model_name', 'patch_size', 'shape'])\n",
      "0273_resized\n",
      "Starting Training\n",
      "epoch: 00, loss: -0.06780\n",
      "epoch: 01, loss: -0.08209\n",
      "epoch: 02, loss: -0.08247\n",
      "epoch: 03, loss: -0.08500\n",
      "epoch: 04, loss: -0.08440\n",
      "epoch: 05, loss: -0.08521\n",
      "epoch: 06, loss: -0.08456\n",
      "epoch: 07, loss: -0.08478\n",
      "epoch: 08, loss: -0.08596\n",
      "epoch: 09, loss: -0.08548\n",
      "torch.Size([1024, 64])\n"
     ]
    },
    {
     "name": "stderr",
     "output_type": "stream",
     "text": [
      " 27%|██▋       | 273/1000 [1:48:11<3:19:57, 16.50s/it]"
     ]
    },
    {
     "name": "stdout",
     "output_type": "stream",
     "text": [
      "eigenvalues shape torch.Size([5]) eigenvectors shape torch.Size([5, 1024])\n",
      "273 /home/phdcs2/Hard_Disk/Datasets/Deep-Spectral-Segmentation/data/object-segmentation/ECSSD/features/0274_resized.pth\n",
      "dict_keys(['k', 'indices', 'file', 'id', 'model_name', 'patch_size', 'shape'])\n",
      "0274_resized\n",
      "Starting Training\n",
      "epoch: 00, loss: -0.03276\n",
      "epoch: 01, loss: -0.04461\n",
      "epoch: 02, loss: -0.04612\n",
      "epoch: 03, loss: -0.04646\n",
      "epoch: 04, loss: -0.04642\n",
      "epoch: 05, loss: -0.04759\n",
      "epoch: 06, loss: -0.04756\n",
      "epoch: 07, loss: -0.04704\n",
      "epoch: 08, loss: -0.04683\n"
     ]
    },
    {
     "name": "stderr",
     "output_type": "stream",
     "text": [
      " 27%|██▋       | 274/1000 [1:48:27<3:21:21, 16.64s/it]"
     ]
    },
    {
     "name": "stdout",
     "output_type": "stream",
     "text": [
      "epoch: 09, loss: -0.04736\n",
      "torch.Size([1024, 64])\n",
      "eigenvalues shape torch.Size([5]) eigenvectors shape torch.Size([5, 1024])\n",
      "274 /home/phdcs2/Hard_Disk/Datasets/Deep-Spectral-Segmentation/data/object-segmentation/ECSSD/features/0275_resized.pth\n",
      "dict_keys(['k', 'indices', 'file', 'id', 'model_name', 'patch_size', 'shape'])\n",
      "0275_resized\n",
      "Starting Training\n",
      "epoch: 00, loss: -0.04357\n",
      "epoch: 01, loss: -0.05281\n",
      "epoch: 02, loss: -0.05315\n",
      "epoch: 03, loss: -0.05361\n",
      "epoch: 04, loss: -0.05390\n",
      "epoch: 05, loss: -0.05399\n",
      "epoch: 06, loss: -0.05410\n",
      "epoch: 07, loss: -0.05422\n",
      "epoch: 08, loss: -0.05423\n",
      "epoch: 09, loss: -0.05452\n",
      "torch.Size([1024, 64])\n"
     ]
    },
    {
     "name": "stderr",
     "output_type": "stream",
     "text": [
      " 28%|██▊       | 275/1000 [1:48:45<3:23:58, 16.88s/it]"
     ]
    },
    {
     "name": "stdout",
     "output_type": "stream",
     "text": [
      "eigenvalues shape torch.Size([5]) eigenvectors shape torch.Size([5, 1024])\n",
      "275 /home/phdcs2/Hard_Disk/Datasets/Deep-Spectral-Segmentation/data/object-segmentation/ECSSD/features/0276_resized.pth\n",
      "dict_keys(['k', 'indices', 'file', 'id', 'model_name', 'patch_size', 'shape'])\n",
      "0276_resized\n",
      "Starting Training\n",
      "epoch: 00, loss: -0.08899\n",
      "epoch: 01, loss: -0.10628\n",
      "epoch: 02, loss: -0.11002\n",
      "epoch: 03, loss: -0.10971\n",
      "epoch: 04, loss: -0.11035\n",
      "epoch: 05, loss: -0.11124\n",
      "epoch: 06, loss: -0.11164\n",
      "epoch: 07, loss: -0.11091\n",
      "epoch: 08, loss: -0.11175\n",
      "epoch: 09, loss: -0.11153\n",
      "torch.Size([1024, 64])\n"
     ]
    },
    {
     "name": "stderr",
     "output_type": "stream",
     "text": [
      " 28%|██▊       | 276/1000 [1:49:02<3:22:46, 16.80s/it]"
     ]
    },
    {
     "name": "stdout",
     "output_type": "stream",
     "text": [
      "eigenvalues shape torch.Size([5]) eigenvectors shape torch.Size([5, 1024])\n",
      "276 /home/phdcs2/Hard_Disk/Datasets/Deep-Spectral-Segmentation/data/object-segmentation/ECSSD/features/0277_resized.pth\n",
      "dict_keys(['k', 'indices', 'file', 'id', 'model_name', 'patch_size', 'shape'])\n",
      "0277_resized\n",
      "Starting Training\n",
      "epoch: 00, loss: -0.04456\n",
      "epoch: 01, loss: -0.05920\n",
      "epoch: 02, loss: -0.06209\n",
      "epoch: 03, loss: -0.06221\n",
      "epoch: 04, loss: -0.06461\n",
      "epoch: 05, loss: -0.06463\n",
      "epoch: 06, loss: -0.06578\n",
      "epoch: 07, loss: -0.06517\n",
      "epoch: 08, loss: -0.06453\n",
      "epoch: 09, loss: -0.06542\n",
      "torch.Size([1024, 64])\n"
     ]
    },
    {
     "name": "stderr",
     "output_type": "stream",
     "text": [
      " 28%|██▊       | 277/1000 [1:49:18<3:20:14, 16.62s/it]"
     ]
    },
    {
     "name": "stdout",
     "output_type": "stream",
     "text": [
      "eigenvalues shape torch.Size([5]) eigenvectors shape torch.Size([5, 1024])\n",
      "277 /home/phdcs2/Hard_Disk/Datasets/Deep-Spectral-Segmentation/data/object-segmentation/ECSSD/features/0278_resized.pth\n",
      "dict_keys(['k', 'indices', 'file', 'id', 'model_name', 'patch_size', 'shape'])\n",
      "0278_resized\n",
      "Starting Training\n",
      "epoch: 00, loss: -0.05712\n",
      "epoch: 01, loss: -0.06808\n",
      "epoch: 02, loss: -0.06816\n",
      "epoch: 03, loss: -0.06835\n",
      "epoch: 04, loss: -0.06868\n",
      "epoch: 05, loss: -0.06871\n",
      "epoch: 06, loss: -0.06885\n",
      "epoch: 07, loss: -0.06925\n",
      "epoch: 08, loss: -0.06903\n"
     ]
    },
    {
     "name": "stderr",
     "output_type": "stream",
     "text": [
      " 28%|██▊       | 278/1000 [1:49:34<3:17:53, 16.45s/it]"
     ]
    },
    {
     "name": "stdout",
     "output_type": "stream",
     "text": [
      "epoch: 09, loss: -0.06910\n",
      "torch.Size([1024, 64])\n",
      "eigenvalues shape torch.Size([5]) eigenvectors shape torch.Size([5, 1024])\n",
      "278 /home/phdcs2/Hard_Disk/Datasets/Deep-Spectral-Segmentation/data/object-segmentation/ECSSD/features/0279_resized.pth\n",
      "dict_keys(['k', 'indices', 'file', 'id', 'model_name', 'patch_size', 'shape'])\n",
      "0279_resized\n",
      "Starting Training\n",
      "epoch: 00, loss: -0.06816\n",
      "epoch: 01, loss: -0.07667\n",
      "epoch: 02, loss: -0.07796\n",
      "epoch: 03, loss: -0.07965\n",
      "epoch: 04, loss: -0.07925\n",
      "epoch: 05, loss: -0.07964\n",
      "epoch: 06, loss: -0.07938\n",
      "epoch: 07, loss: -0.07980\n",
      "epoch: 08, loss: -0.08085\n",
      "epoch: 09, loss: -0.08005\n",
      "torch.Size([1024, 64])\n"
     ]
    },
    {
     "name": "stderr",
     "output_type": "stream",
     "text": [
      " 28%|██▊       | 279/1000 [1:49:50<3:17:22, 16.43s/it]"
     ]
    },
    {
     "name": "stdout",
     "output_type": "stream",
     "text": [
      "eigenvalues shape torch.Size([5]) eigenvectors shape torch.Size([5, 1024])\n",
      "279 /home/phdcs2/Hard_Disk/Datasets/Deep-Spectral-Segmentation/data/object-segmentation/ECSSD/features/0280_resized.pth\n",
      "dict_keys(['k', 'indices', 'file', 'id', 'model_name', 'patch_size', 'shape'])\n",
      "0280_resized\n",
      "Starting Training\n",
      "epoch: 00, loss: -0.05178\n",
      "epoch: 01, loss: -0.06610\n",
      "epoch: 02, loss: -0.06793\n",
      "epoch: 03, loss: -0.07015\n",
      "epoch: 04, loss: -0.06910\n",
      "epoch: 05, loss: -0.07118\n",
      "epoch: 06, loss: -0.07077\n",
      "epoch: 07, loss: -0.07115\n",
      "epoch: 08, loss: -0.07146\n",
      "epoch: 09, loss: -0.07120\n",
      "torch.Size([1024, 64])\n"
     ]
    },
    {
     "name": "stderr",
     "output_type": "stream",
     "text": [
      " 28%|██▊       | 280/1000 [1:50:06<3:16:16, 16.36s/it]"
     ]
    },
    {
     "name": "stdout",
     "output_type": "stream",
     "text": [
      "eigenvalues shape torch.Size([5]) eigenvectors shape torch.Size([5, 1024])\n",
      "280 /home/phdcs2/Hard_Disk/Datasets/Deep-Spectral-Segmentation/data/object-segmentation/ECSSD/features/0281_resized.pth\n",
      "dict_keys(['k', 'indices', 'file', 'id', 'model_name', 'patch_size', 'shape'])\n",
      "0281_resized\n",
      "Starting Training\n",
      "epoch: 00, loss: -0.07318\n",
      "epoch: 01, loss: -0.09905\n",
      "epoch: 02, loss: -0.10139\n",
      "epoch: 03, loss: -0.10010\n",
      "epoch: 04, loss: -0.10359\n",
      "epoch: 05, loss: -0.10275\n",
      "epoch: 06, loss: -0.10377\n",
      "epoch: 07, loss: -0.10439\n",
      "epoch: 08, loss: -0.10314\n",
      "epoch: 09, loss: -0.10076\n",
      "torch.Size([1024, 64])\n"
     ]
    },
    {
     "name": "stderr",
     "output_type": "stream",
     "text": [
      " 28%|██▊       | 281/1000 [1:50:23<3:16:48, 16.42s/it]"
     ]
    },
    {
     "name": "stdout",
     "output_type": "stream",
     "text": [
      "eigenvalues shape torch.Size([5]) eigenvectors shape torch.Size([5, 1024])\n",
      "281 /home/phdcs2/Hard_Disk/Datasets/Deep-Spectral-Segmentation/data/object-segmentation/ECSSD/features/0282_resized.pth\n",
      "dict_keys(['k', 'indices', 'file', 'id', 'model_name', 'patch_size', 'shape'])\n",
      "0282_resized\n",
      "Starting Training\n",
      "epoch: 00, loss: -0.04774\n",
      "epoch: 01, loss: -0.05809\n",
      "epoch: 02, loss: -0.05724\n",
      "epoch: 03, loss: -0.05801\n",
      "epoch: 04, loss: -0.05908\n",
      "epoch: 05, loss: -0.05862\n",
      "epoch: 06, loss: -0.05927\n",
      "epoch: 07, loss: -0.05925\n",
      "epoch: 08, loss: -0.05929\n",
      "epoch: 09, loss: -0.05940\n",
      "torch.Size([1024, 64])\n"
     ]
    },
    {
     "name": "stderr",
     "output_type": "stream",
     "text": [
      " 28%|██▊       | 282/1000 [1:50:40<3:18:50, 16.62s/it]"
     ]
    },
    {
     "name": "stdout",
     "output_type": "stream",
     "text": [
      "eigenvalues shape torch.Size([5]) eigenvectors shape torch.Size([5, 1024])\n",
      "282 /home/phdcs2/Hard_Disk/Datasets/Deep-Spectral-Segmentation/data/object-segmentation/ECSSD/features/0283_resized.pth\n",
      "dict_keys(['k', 'indices', 'file', 'id', 'model_name', 'patch_size', 'shape'])\n",
      "0283_resized\n",
      "Starting Training\n",
      "epoch: 00, loss: -0.04816\n",
      "epoch: 01, loss: -0.05950\n",
      "epoch: 02, loss: -0.05947\n",
      "epoch: 03, loss: -0.06022\n",
      "epoch: 04, loss: -0.06024\n",
      "epoch: 05, loss: -0.06047\n",
      "epoch: 06, loss: -0.06047\n",
      "epoch: 07, loss: -0.06069\n",
      "epoch: 08, loss: -0.06074\n"
     ]
    },
    {
     "name": "stderr",
     "output_type": "stream",
     "text": [
      " 28%|██▊       | 283/1000 [1:50:57<3:19:50, 16.72s/it]"
     ]
    },
    {
     "name": "stdout",
     "output_type": "stream",
     "text": [
      "epoch: 09, loss: -0.06083\n",
      "torch.Size([1024, 64])\n",
      "eigenvalues shape torch.Size([5]) eigenvectors shape torch.Size([5, 1024])\n",
      "283 /home/phdcs2/Hard_Disk/Datasets/Deep-Spectral-Segmentation/data/object-segmentation/ECSSD/features/0284_resized.pth\n",
      "dict_keys(['k', 'indices', 'file', 'id', 'model_name', 'patch_size', 'shape'])\n",
      "0284_resized\n",
      "Starting Training\n",
      "epoch: 00, loss: -0.03714\n",
      "epoch: 01, loss: -0.04606\n",
      "epoch: 02, loss: -0.04558\n",
      "epoch: 03, loss: -0.04769\n",
      "epoch: 04, loss: -0.04829\n",
      "epoch: 05, loss: -0.04754\n",
      "epoch: 06, loss: -0.04772\n"
     ]
    },
    {
     "name": "stderr",
     "output_type": "stream",
     "text": [
      "IOPub message rate exceeded.\n",
      "The notebook server will temporarily stop sending output\n",
      "to the client in order to avoid crashing it.\n",
      "To change this limit, set the config variable\n",
      "`--NotebookApp.iopub_msg_rate_limit`.\n",
      "\n",
      "Current values:\n",
      "NotebookApp.iopub_msg_rate_limit=1000.0 (msgs/sec)\n",
      "NotebookApp.rate_limit_window=3.0 (secs)\n",
      "\n"
     ]
    }
   ],
   "source": [
    "pca_comp=64\n",
    "pca = PCA(n_components=pca_comp)\n",
    "utils.make_output_dir(output_dir)\n",
    "inputs = list(enumerate(sorted(Path(features_dir).iterdir())))\n",
    "for inp in tqdm(inputs):\n",
    "    index, features_file = inp\n",
    "    print(index, features_file)\n",
    "     # Load\n",
    "    data_dict = torch.load(features_file, map_location='cpu')\n",
    "    print(data_dict.keys())   #['k', 'indices', 'file', 'id', 'model_name', 'patch_size', 'shape']\n",
    "    # print(\"shape=\", data_dict['shape'], \"k shape\", data_dict['k'].shape, \"patch_size=\", data_dict['patch_size'])\n",
    "    image_id = data_dict['file'][:-4]\n",
    "    print(image_id)\n",
    "    # Load\n",
    "    output_file = str(Path(output_dir) / f'{image_id}.pth')\n",
    "    if Path(output_file).is_file():\n",
    "        print(f'Skipping existing file {str(output_file)}')\n",
    "        # break\n",
    "        # return  # skip because already generated\n",
    "\n",
    "    # Load affinity matrix\n",
    "    feats = data_dict[which_features].squeeze().cuda()\n",
    "    # print(\"Without normalizing, Features Shape is\",feats.shape)\n",
    "    if normalize:\n",
    "        feats = F.normalize(feats, p=2, dim=-1)\n",
    "    # print(\"After normalization, Features Shape\",feats.shape)\n",
    "    # print(\"which_matrix=\", which_matrix)\n",
    "    # Eigenvectors of affinity matrix\n",
    "    if which_matrix == 'affinity_torch':\n",
    "        W = feats @ feats.T\n",
    "        # W_feat=contrastive_affinity(feats, feats.T)\n",
    "        # print(\"W shape=\", W.shape)\n",
    "        if threshold_at_zero:\n",
    "            W = (W * (W > 0))\n",
    "            # print(\"W shape=\", W.shape)\n",
    "        eigenvalues, eigenvectors = torch.eig(W, eigenvectors=True)\n",
    "        eigenvalues = eigenvalues.cpu()\n",
    "        eigenvectors = eigenvectors.cpu()\n",
    "        print(\"which matrix=\",which_matrix, \"eigenvalues shape\", eigenvalues.shape, \"eigenvectors shape\", eigenvectors.shape)\n",
    "\n",
    "\n",
    "    # Eigenvectors of affinity matrix with scipy\n",
    "    elif which_matrix == 'affinity_svd':\n",
    "        USV = torch.linalg.svd(feats, full_matrices=False)\n",
    "        eigenvectors = USV[0][:, :K].T.to('cpu', non_blocking=True)\n",
    "        eigenvalues = USV[1][:K].to('cpu', non_blocking=True)\n",
    "        print(\"which matrix=\",which_matrix,\"eigenvalues shape\", eigenvalues.shape, \"eigenvectors shape\", eigenvectors.shape)\n",
    "\n",
    "    # Eigenvectors of affinity matrix with scipy\n",
    "    elif which_matrix == 'affinity':\n",
    "        # print(\"Without normalizing, Features Shape is\",feats.shape)\n",
    "        W = (feats @ feats.T)\n",
    "        # W_feat=contrastive_affinity(feats, feats.T)\n",
    "        # print(\"W shape=\", W.shape)\n",
    "        if threshold_at_zero:\n",
    "            W = (W * (W > 0))\n",
    "        W = W.cpu().numpy()\n",
    "        # print(\"W shape=\", W.shape)\n",
    "        eigenvalues, eigenvectors = eigsh(W, which='LM', k=K)\n",
    "        eigenvectors = torch.flip(torch.from_numpy(eigenvectors), dims=(-1,)).T\n",
    "        print(\"which matrix=\",which_matrix, \"eigenvalues shape\", eigenvalues.shape, \"eigenvectors shape\", eigenvectors.shape)\n",
    "\n",
    "    # Eigenvectors of matting laplacian matrix\n",
    "    elif which_matrix in ['matting_laplacian', 'laplacian']:\n",
    "\n",
    "        # Get sizes\n",
    "        B, C, H, W, P, H_patch, W_patch, H_pad, W_pad = utils.get_image_sizes(data_dict)\n",
    "        if image_downsample_factor is None:\n",
    "            image_downsample_factor = P\n",
    "        H_pad_lr, W_pad_lr = H_pad // image_downsample_factor, W_pad // image_downsample_factor\n",
    "\n",
    "        # Upscale features to match the resolution\n",
    "        if (H_patch, W_patch) != (H_pad_lr, W_pad_lr):\n",
    "            feats = F.interpolate(\n",
    "                feats.T.reshape(1, -1, H_patch, W_patch),\n",
    "                size=(H_pad_lr, W_pad_lr), mode='bilinear', align_corners=False\n",
    "            ).reshape(-1, H_pad_lr * W_pad_lr).T\n",
    "\n",
    "        ### Feature affinities\n",
    "        # print(\"Without normalizing, Features Shape is\",feats.shape)\n",
    "\n",
    "        W_feat_ds = (feats @ feats.T)\n",
    "        max_wfeatds=torch.max(W_feat_ds).item()\n",
    "        alpha=3\n",
    "        W_feat_ds = W_feat_ds - (max_wfeatds / alpha)\n",
    "        layer=nn.Linear(pca_comp,pca_comp).cuda()\n",
    "        x0=feats\n",
    "        x0_arr=x0.cpu()\n",
    "        # print(x0_arr.shape)\n",
    "        z0_arr= pca.fit_transform(x0_arr)\n",
    "\n",
    "        # Define the affine transformation parameters\n",
    "        scale = np.random.uniform(0.8, 1.2)  # Random scaling factor between 0.8 and 1.2\n",
    "        translation = np.random.uniform(-10, 10, size=2)  # Random translation vector between -10 and 10 in both directions\n",
    "        rotation = np.random.uniform(-15, 15)  # Random rotation angle between -15 and 15 degrees\n",
    "        shear = np.random.uniform(-0.2, 0.2, size=2)  # Random shear factor between -0.2 and 0.2 in both directions\n",
    "\n",
    "        # Define the affine matrix\n",
    "        affine_matrix = np.array([[scale * np.cos(rotation), -shear[0] * scale * np.sin(rotation), translation[0]],\n",
    "                                  [shear[1] * scale * np.sin(rotation), scale * np.cos(rotation), translation[1]],\n",
    "                                  [0, 0, 1]])\n",
    "        z1_arr=affine_transform(z0_arr, affine_matrix)\n",
    "#         z1_arr=pca.fit_transform(z1_arr)\n",
    "        z0 = torch.from_numpy(z0_arr).float()\n",
    "        z1 = torch.from_numpy(z1_arr).float()\n",
    "\n",
    "        # feat_list.append(feats)\n",
    "        feat_dataset_z0 = Feature_Dataset(z0)\n",
    "        if feats.shape[0]%2==0:\n",
    "            features_dataloader_z0 = DataLoader(feat_dataset_z0, batch_size=batch_size, shuffle=True)\n",
    "        else:\n",
    "            features_dataloader_z0 = DataLoader(feat_dataset_z0, batch_size=batch_size, shuffle=True, drop_last=True)\n",
    "\n",
    "        feat_dataset_z1 = Feature_Dataset(z1)\n",
    "        if feats.shape[0]%2==0:\n",
    "            features_dataloader_z1 = DataLoader(feat_dataset_z1, batch_size=batch_size, shuffle=True)\n",
    "        else:\n",
    "            features_dataloader_z1 = DataLoader(feat_dataset_z1, batch_size=batch_size, shuffle=True, drop_last=True)\n",
    "        device = \"cuda\" if torch.cuda.is_available() else \"cpu\"\n",
    "    \n",
    "        criterion = NegativeCosineSimilarity()\n",
    "        optimizer = torch.optim.SGD(layer.parameters(), lr=0.06)\n",
    "        print(\"Starting Training\")\n",
    "        for epoch in range(epochs):\n",
    "            total_loss = 0\n",
    "            for z0_new,z1_new in zip(features_dataloader_z0,features_dataloader_z1):\n",
    "                z0_new = z0_new.to(device)\n",
    "                z1_new = z1_new.to(device)\n",
    "    #             print(\"z0_new.shape\", z0_new.shape)\n",
    "    #             print(\"z1_new.shape\", z1_new.shape)\n",
    "                p0=layer(z0_new)\n",
    "                p1=layer(z1_new)\n",
    "    #             print(\"p0.shape\", p0.shape)\n",
    "    #             print(\"p1.shape\", p1.shape)\n",
    "                loss = 0.5 * (criterion(z0_new, p1) + criterion(z1_new, p0))\n",
    "                total_loss += loss.detach()\n",
    "                loss.backward()\n",
    "                optimizer.step()\n",
    "                optimizer.zero_grad()\n",
    "            avg_loss = total_loss / len(features_dataloader_z0)\n",
    "            print(f\"epoch: {epoch:>02}, loss: {avg_loss:.5f}\")\n",
    "        projected_feature=layer(z0.to(device))\n",
    "        print(projected_feature.shape)\n",
    "        W_feat_siam=torch.matmul(projected_feature, projected_feature.t())\n",
    "        # max_wfeatsiam=torch.max(W_feat_siam).item()\n",
    "        # alpha=3\n",
    "        # W_feat_siam = W_feat_siam - (max_wfeatsiam / alpha)\n",
    "        # W_feat_siam=torch.matmul(projected_feature[0], projected_feature[0].t())\n",
    "        W_feat=W_feat_ds + 0.1*W_feat_siam\n",
    "#         W_feat=normalize_affinity_matrix(W_feat_unnorm, axis=1)\n",
    "        # print(\"W_feat.shape=\", W_feat.shape)\n",
    "        # print(\"W_feat.shape=\", W_feat.shape)\n",
    "        # W_feat=contrastive_affinity(feats, feats.T)\n",
    "        if threshold_at_zero:\n",
    "            W_feat = (W_feat * (W_feat > 0))\n",
    "        W_feat = W_feat / W_feat.max()  # NOTE: If features are normalized, this naturally does nothing\n",
    "        # W_feat = W_feat.cpu().numpy()\n",
    "        W_feat = W_feat.detach().cpu().numpy()\n",
    "        # print(\"W_feat shape=\",W_feat.shape)\n",
    "\n",
    "        ### Color affinities\n",
    "        # If we are fusing with color affinites, then load the image and compute\n",
    "        if image_color_lambda > 0:\n",
    "\n",
    "            # Load image\n",
    "            image_file = str(Path(images_root) / f'{image_id}.jpg')\n",
    "            image_lr = Image.open(image_file).resize((W_pad_lr, H_pad_lr), Image.BILINEAR)\n",
    "            image_lr = np.array(image_lr) / 255.\n",
    "\n",
    "            # Color affinities (of type scipy.sparse.csr_matrix)\n",
    "            if which_color_matrix == 'knn':\n",
    "                W_lr = utils.knn_affinity(image_lr / 255)\n",
    "            elif which_color_matrix == 'rw':\n",
    "                W_lr = utils.rw_affinity(image_lr / 255)\n",
    "\n",
    "            # Convert to dense numpy array\n",
    "            W_color = np.array(W_lr.todense().astype(np.float32))\n",
    "            # print(\"W_color shape\", W_color.shape)\n",
    "\n",
    "        else:\n",
    "\n",
    "            # No color affinity\n",
    "            W_color = 0\n",
    "\n",
    "        # Combine\n",
    "        W_comb = W_feat + W_color * image_color_lambda  # combination\n",
    "        D_comb = np.array(utils.get_diagonal(W_comb).todense())  # is dense or sparse faster? not sure, should check\n",
    "        # print(\"W_comb shape= \", W_comb.shape, \"D_comb shape\",  D_comb.shape)\n",
    "        if lapnorm:\n",
    "            try:\n",
    "                eigenvalues, eigenvectors = eigsh(D_comb - W_comb, k=K, sigma=0, which='LM', M=D_comb)\n",
    "            except:\n",
    "                eigenvalues, eigenvectors = eigsh(D_comb - W_comb, k=K, which='SM', M=D_comb)\n",
    "        else:\n",
    "            try:\n",
    "                eigenvalues, eigenvectors = eigsh(D_comb - W_comb, k=K, sigma=0, which='LM')\n",
    "            except:\n",
    "                eigenvalues, eigenvectors = eigsh(D_comb - W_comb, k=K, which='SM')\n",
    "        eigenvalues, eigenvectors = torch.from_numpy(eigenvalues), torch.from_numpy(eigenvectors.T).float()\n",
    "    print(\"eigenvalues shape\", eigenvalues.shape, \"eigenvectors shape\", eigenvectors.shape)\n",
    "    # Sign ambiguity\n",
    "    for k in range(eigenvectors.shape[0]):\n",
    "        if 0.5 < torch.mean((eigenvectors[k] > 0).float()).item() < 1.0:  # reverse segment\n",
    "            eigenvectors[k] = 0 - eigenvectors[k]\n",
    "\n",
    "    # Save dict\n",
    "    output_dict = {'eigenvalues': eigenvalues, 'eigenvectors': eigenvectors}\n",
    "    torch.save(output_dict, output_file)"
   ]
  }
 ],
 "metadata": {
  "kernelspec": {
   "display_name": "Python 3 (ipykernel)",
   "language": "python",
   "name": "python3"
  },
  "language_info": {
   "codemirror_mode": {
    "name": "ipython",
    "version": 3
   },
   "file_extension": ".py",
   "mimetype": "text/x-python",
   "name": "python",
   "nbconvert_exporter": "python",
   "pygments_lexer": "ipython3",
   "version": "3.8.10"
  }
 },
 "nbformat": 4,
 "nbformat_minor": 1
}