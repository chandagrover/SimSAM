{
 "cells": [
  {
   "cell_type": "code",
   "execution_count": 2,
   "id": "d403ed2a",
   "metadata": {
    "pycharm": {
     "name": "#%%\n"
    }
   },
   "outputs": [],
   "source": [
    "import torch"
   ]
  },
  {
   "cell_type": "code",
   "execution_count": 2,
   "id": "1b44b827",
   "metadata": {
    "pycharm": {
     "name": "#%%\n"
    }
   },
   "outputs": [],
   "source": [
    "def normalize_affinity_matrix(affinity_matrix, axis=1):\n",
    "    if axis == 1:\n",
    "        # Normalize by row-wise sums\n",
    "        row_sums = torch.sum(affinity_matrix, dim=1, keepdim=True)\n",
    "        print(row_sums)\n",
    "        normalized_matrix = affinity_matrix / row_sums\n",
    "    elif axis == 0:\n",
    "        # Normalize by column-wise sums\n",
    "        col_sums = torch.sum(affinity_matrix, dim=0, keepdim=True)\n",
    "        normalized_matrix = affinity_matrix / col_sums\n",
    "    else:\n",
    "        raise ValueError(\"Invalid axis. Axis must be either 0 or 1.\")\n",
    "    \n",
    "    return normalized_matrix"
   ]
  },
  {
   "cell_type": "code",
   "execution_count": 3,
   "id": "aab0da9f",
   "metadata": {
    "pycharm": {
     "name": "#%%\n"
    }
   },
   "outputs": [
    {
     "name": "stdout",
     "output_type": "stream",
     "text": [
      "tensor([[ 6.],\n",
      "        [15.],\n",
      "        [24.]])\n",
      "tensor([[0.1667, 0.3333, 0.5000],\n",
      "        [0.2667, 0.3333, 0.4000],\n",
      "        [0.2917, 0.3333, 0.3750]])\n"
     ]
    }
   ],
   "source": [
    "# Example usage\n",
    "affinity_matrix = torch.tensor([[1.0, 2.0, 3.0], [4.0, 5.0, 6.0], [7.0, 8.0, 9.0]])\n",
    "normalized_matrix = normalize_affinity_matrix(affinity_matrix, axis=1)\n",
    "print(normalized_matrix)"
   ]
  },
  {
   "cell_type": "code",
   "execution_count": 5,
   "outputs": [
    {
     "name": "stdout",
     "output_type": "stream",
     "text": [
      "9.0\n"
     ]
    }
   ],
   "source": [
    "tensor_a=torch.tensor([[1.0, 2.0, 3.0], [4.0, 5.0, 6.0], [7.0, 8.0, 9.0]])\n",
    "max_a=torch.max(tensor_a).item()\n",
    "print(max_a)"
   ],
   "metadata": {
    "collapsed": false,
    "pycharm": {
     "name": "#%%\n"
    }
   }
  }
 ],
 "metadata": {
  "kernelspec": {
   "display_name": "Python 3 (ipykernel)",
   "language": "python",
   "name": "python3"
  },
  "language_info": {
   "codemirror_mode": {
    "name": "ipython",
    "version": 3
   },
   "file_extension": ".py",
   "mimetype": "text/x-python",
   "name": "python",
   "nbconvert_exporter": "python",
   "pygments_lexer": "ipython3",
   "version": "3.8.10"
  }
 },
 "nbformat": 4,
 "nbformat_minor": 5
}