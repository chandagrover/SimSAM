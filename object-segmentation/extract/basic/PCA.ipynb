{
 "cells": [
  {
   "cell_type": "code",
   "execution_count": 1,
   "metadata": {
    "collapsed": true,
    "pycharm": {
     "name": "#%%\n"
    }
   },
   "outputs": [],
   "source": [
    "#PCA in pytorch"
   ]
  },
  {
   "cell_type": "code",
   "execution_count": 2,
   "outputs": [],
   "source": [
    "import torch\n",
    "import torch.linalg as linalg\n",
    "\n",
    "# Generate some dummy tensor data\n",
    "X = torch.randn(100, 20)\n",
    "\n",
    "# Compute the covariance matrix\n",
    "covariance_matrix = torch.matmul(X.T, X) / X.shape[0]\n",
    "\n",
    "# Perform eigendecomposition on the covariance matrix\n",
    "eigenvalues, eigenvectors = linalg.eigh(covariance_matrix)\n",
    "\n",
    "# Sort the eigenvectors based on the eigenvalues\n",
    "sorted_indices = torch.argsort(eigenvalues, descending=True)\n",
    "eigenvalues = eigenvalues[sorted_indices]\n",
    "eigenvectors = eigenvectors[:, sorted_indices]\n",
    "\n",
    "# Choose the top-k eigenvectors (principal components)\n",
    "k = 10\n",
    "principal_components = eigenvectors[:, :k]\n",
    "\n",
    "# Project the data onto the principal components\n",
    "projected_data = torch.matmul(X, principal_components)\n"
   ],
   "metadata": {
    "collapsed": false,
    "pycharm": {
     "name": "#%%\n"
    }
   }
  }
 ],
 "metadata": {
  "kernelspec": {
   "display_name": "Python 3",
   "language": "python",
   "name": "python3"
  },
  "language_info": {
   "codemirror_mode": {
    "name": "ipython",
    "version": 2
   },
   "file_extension": ".py",
   "mimetype": "text/x-python",
   "name": "python",
   "nbconvert_exporter": "python",
   "pygments_lexer": "ipython2",
   "version": "2.7.6"
  }
 },
 "nbformat": 4,
 "nbformat_minor": 0
}