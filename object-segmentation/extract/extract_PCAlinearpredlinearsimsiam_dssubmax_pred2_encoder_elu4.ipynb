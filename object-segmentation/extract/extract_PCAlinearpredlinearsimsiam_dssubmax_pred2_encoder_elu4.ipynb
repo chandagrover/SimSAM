{
 "cells": [
  {
   "cell_type": "code",
   "execution_count": 1,
   "metadata": {
    "pycharm": {
     "name": "#%%\n"
    }
   },
   "outputs": [],
   "source": [
    "# from functools import partial\n",
    "from pathlib import Path\n",
    "# from typing import Optional, Tuple\n",
    "# import cv2\n",
    "# import fire\n",
    "import numpy as np\n",
    "import torch\n",
    "import torch.nn.functional as F\n",
    "from accelerate import Accelerator\n",
    "from PIL import Image\n",
    "from scipy.sparse.linalg import eigsh\n",
    "# from sklearn.cluster import KMeans, MiniBatchKMeans\n",
    "from sklearn.decomposition import PCA\n",
    "# from torchvision.utils import draw_bounding_boxes\n",
    "from tqdm import tqdm\n",
    "import extract_utils as utils\n",
    "from torch.utils.data import Dataset, DataLoader\n",
    "from lightly.loss import NegativeCosineSimilarity\n",
    "from lightly.models.modules import SimSiamPredictionHead, SimSiamProjectionHead\n",
    "from torch import nn\n",
    "import torchvision\n",
    "from scipy.ndimage import affine_transform"
   ]
  },
  {
   "cell_type": "markdown",
   "metadata": {
    "pycharm": {
     "name": "#%% md\n"
    }
   },
   "source": [
    "## Extract Eigen Vectors"
   ]
  },
  {
   "cell_type": "code",
   "execution_count": 2,
   "outputs": [],
   "source": [
    "images_root=\"/home/phdcs2/Hard_Disk/Datasets/Deep-Spectral-Segmentation/data/object-segmentation/ECSSD/images\"\n",
    "# features_dir=\"/home/phdcs2/Hard_Disk/Datasets/Deep-Spectral-Segmentation/data/object-segmentation/ECSSD_1/features/dino_vits16\"\n",
    "features_dir=\"/home/phdcs2/Hard_Disk/Datasets/Deep-Spectral-Segmentation/data/object-segmentation/ECSSD/features/\"\n",
    "output_dir=\"/home/phdcs2/Hard_Disk/Datasets/Deep-Spectral-Segmentation/data/object-segmentation/ECSSD/eigs_dot1PCA64linearpredlinear_dssubmax_pred2_encoder_elu_corr4\""
   ],
   "metadata": {
    "collapsed": false,
    "pycharm": {
     "name": "#%%\n"
    }
   }
  },
  {
   "cell_type": "code",
   "execution_count": 3,
   "metadata": {
    "pycharm": {
     "name": "#%%\n"
    }
   },
   "outputs": [],
   "source": [
    "# images_root=\"/home/phdcs2/Hard_Disk/Datasets/Deep-Spectral-Segmentation/data/VOC2012/images/trainval/JPEGImages\"\n",
    "# # features_dir=\"/home/phdcs2/Hard_Disk/Datasets/Deep-Spectral-Segmentation/data/object-segmentation/ECSSD_1/features/dino_vits16\"\n",
    "# features_dir=\"/home/phdcs2/Hard_Disk/Datasets/Deep-Spectral-Segmentation/data/VOC2012/features/dino_vits16\"\n",
    "# output_dir=\"/home/phdcs2/Hard_Disk/Datasets/Deep-Spectral-Segmentation/data/VOC2012/eigs_test/laplacian\"\n",
    "which_matrix= 'laplacian'\n",
    "which_color_matrix= 'knn'\n",
    "which_features= 'k'\n",
    "normalize=True\n",
    "threshold_at_zero=True\n",
    "lapnorm= True\n",
    "K= 5\n",
    "image_downsample_factor = None\n",
    "image_color_lambda = 0.0\n",
    "multiprocessing = 0\n",
    "batch_size=2\n",
    "epochs=10"
   ]
  },
  {
   "cell_type": "markdown",
   "metadata": {
    "pycharm": {
     "name": "#%% md\n"
    }
   },
   "source": [
    "## Incorporating SimSiam"
   ]
  },
  {
   "cell_type": "code",
   "execution_count": 4,
   "metadata": {
    "pycharm": {
     "name": "#%%\n"
    }
   },
   "outputs": [],
   "source": [
    "# Define a custom dataset class\n",
    "class Feature_Dataset(Dataset):\n",
    "    def __init__(self, features):\n",
    "        self.features = features\n",
    "\n",
    "    def __getitem__(self, index):\n",
    "        return self.features[index]\n",
    "\n",
    "    def __len__(self):\n",
    "        return len(self.features)"
   ]
  },
  {
   "cell_type": "code",
   "execution_count": 5,
   "metadata": {
    "pycharm": {
     "name": "#%%\n"
    }
   },
   "outputs": [],
   "source": [
    "# class SimSiam(nn.Module):\n",
    "#     def __init__(self):\n",
    "#         super().__init__()\n",
    "#         self.projection_head = SimSiamProjectionHead(feats.shape[1], 128,feats.shape[1])\n",
    "#         self.prediction_head = SimSiamPredictionHead(feats.shape[1], 128, feats.shape[1])\n",
    "#\n",
    "#     def forward(self, x):\n",
    "#         z = self.projection_head(x)\n",
    "#         p = self.prediction_head(z)\n",
    "#         z = z.detach()\n",
    "#         return z, p"
   ]
  },
  {
   "cell_type": "code",
   "execution_count": 6,
   "metadata": {
    "pycharm": {
     "name": "#%%\n"
    }
   },
   "outputs": [],
   "source": [
    "# def normalize_affinity_matrix(affinity_matrix, axis=0):\n",
    "#     if axis == 1:\n",
    "#         # Normalize by row-wise sums\n",
    "#         row_sums = torch.sum(affinity_matrix, dim=1, keepdim=True)\n",
    "#         print(row_sums)\n",
    "#         normalized_matrix = affinity_matrix / row_sums\n",
    "#     elif axis == 0:\n",
    "#         # Normalize by column-wise sums\n",
    "#         col_sums = torch.sum(affinity_matrix, dim=0, keepdim=True)\n",
    "#         normalized_matrix = affinity_matrix / col_sums\n",
    "#     else:\n",
    "#         raise ValueError(\"Invalid axis. Axis must be either 0 or 1.\")\n",
    "\n",
    "#     return normalized_matrix"
   ]
  },
  {
   "cell_type": "code",
   "execution_count": null,
   "metadata": {
    "pycharm": {
     "name": "#%%\n",
     "is_executing": true
    }
   },
   "outputs": [
    {
     "name": "stderr",
     "output_type": "stream",
     "text": [
      "  0%|          | 0/999 [00:00<?, ?it/s]"
     ]
    },
    {
     "name": "stdout",
     "output_type": "stream",
     "text": [
      "0 /home/phdcs2/Hard_Disk/Datasets/Deep-Spectral-Segmentation/data/object-segmentation/ECSSD/features/0001_resized.pth\n",
      "dict_keys(['k', 'indices', 'file', 'id', 'model_name', 'patch_size', 'shape'])\n",
      "0001_resized\n"
     ]
    },
    {
     "name": "stderr",
     "output_type": "stream",
     "text": [
      "/home/phdcs2/Hard_Disk/Projects/T2I/deep-spectral-segmentation/venv/lib/python3.8/site-packages/sklearn/decomposition/_pca.py:642: RuntimeWarning: invalid value encountered in divide\n",
      "  self.explained_variance_ratio_ = self.explained_variance_ / total_var\n"
     ]
    },
    {
     "name": "stdout",
     "output_type": "stream",
     "text": [
      "Starting Training\n",
      "epoch: 00, loss: -0.92738\n",
      "epoch: 01, loss: -0.95616\n",
      "epoch: 02, loss: -0.96299\n",
      "epoch: 03, loss: -0.96696\n",
      "epoch: 04, loss: -0.96964\n",
      "epoch: 05, loss: -0.97165\n",
      "epoch: 06, loss: -0.97325\n",
      "epoch: 07, loss: -0.97450\n",
      "epoch: 08, loss: -0.97560\n",
      "epoch: 09, loss: -0.97649\n",
      "torch.Size([1024, 64])\n"
     ]
    },
    {
     "name": "stderr",
     "output_type": "stream",
     "text": [
      "  0%|          | 1/999 [01:15<20:59:51, 75.74s/it]"
     ]
    },
    {
     "name": "stdout",
     "output_type": "stream",
     "text": [
      "eigenvalues shape torch.Size([5]) eigenvectors shape torch.Size([5, 1024])\n",
      "1 /home/phdcs2/Hard_Disk/Datasets/Deep-Spectral-Segmentation/data/object-segmentation/ECSSD/features/0002_resized.pth\n",
      "dict_keys(['k', 'indices', 'file', 'id', 'model_name', 'patch_size', 'shape'])\n",
      "0002_resized\n",
      "Starting Training\n",
      "epoch: 00, loss: -0.92045\n",
      "epoch: 01, loss: -0.95225\n",
      "epoch: 02, loss: -0.95962\n",
      "epoch: 03, loss: -0.96380\n",
      "epoch: 04, loss: -0.96670\n",
      "epoch: 05, loss: -0.96887\n",
      "epoch: 06, loss: -0.97054\n",
      "epoch: 07, loss: -0.97188\n",
      "epoch: 08, loss: -0.97301\n",
      "epoch: 09, loss: -0.97403\n",
      "torch.Size([1024, 64])\n"
     ]
    },
    {
     "name": "stderr",
     "output_type": "stream",
     "text": [
      "  0%|          | 2/999 [02:20<19:14:10, 69.46s/it]"
     ]
    },
    {
     "name": "stdout",
     "output_type": "stream",
     "text": [
      "eigenvalues shape torch.Size([5]) eigenvectors shape torch.Size([5, 1024])\n",
      "2 /home/phdcs2/Hard_Disk/Datasets/Deep-Spectral-Segmentation/data/object-segmentation/ECSSD/features/0003_resized.pth\n",
      "dict_keys(['k', 'indices', 'file', 'id', 'model_name', 'patch_size', 'shape'])\n",
      "0003_resized\n",
      "Starting Training\n",
      "epoch: 00, loss: -0.91733\n",
      "epoch: 01, loss: -0.95038\n",
      "epoch: 02, loss: -0.95825\n",
      "epoch: 03, loss: -0.96276\n",
      "epoch: 04, loss: -0.96587\n",
      "epoch: 05, loss: -0.96815\n",
      "epoch: 06, loss: -0.96995\n",
      "epoch: 07, loss: -0.97141\n",
      "epoch: 08, loss: -0.97263\n",
      "epoch: 09, loss: -0.97367\n",
      "torch.Size([1024, 64])\n"
     ]
    },
    {
     "name": "stderr",
     "output_type": "stream",
     "text": [
      "  0%|          | 3/999 [03:22<18:15:59, 66.02s/it]"
     ]
    },
    {
     "name": "stdout",
     "output_type": "stream",
     "text": [
      "eigenvalues shape torch.Size([5]) eigenvectors shape torch.Size([5, 1024])\n",
      "3 /home/phdcs2/Hard_Disk/Datasets/Deep-Spectral-Segmentation/data/object-segmentation/ECSSD/features/0004_resized.pth\n",
      "dict_keys(['k', 'indices', 'file', 'id', 'model_name', 'patch_size', 'shape'])\n",
      "0004_resized\n",
      "Starting Training\n",
      "epoch: 00, loss: -0.92754\n",
      "epoch: 01, loss: -0.95637\n",
      "epoch: 02, loss: -0.96322\n",
      "epoch: 03, loss: -0.96712\n",
      "epoch: 04, loss: -0.96981\n",
      "epoch: 05, loss: -0.97179\n",
      "epoch: 06, loss: -0.97338\n",
      "epoch: 07, loss: -0.97462\n",
      "epoch: 08, loss: -0.97568\n",
      "epoch: 09, loss: -0.97659\n",
      "torch.Size([1024, 64])\n"
     ]
    },
    {
     "name": "stderr",
     "output_type": "stream",
     "text": [
      "  0%|          | 4/999 [04:40<19:34:35, 70.83s/it]"
     ]
    },
    {
     "name": "stdout",
     "output_type": "stream",
     "text": [
      "eigenvalues shape torch.Size([5]) eigenvectors shape torch.Size([5, 1024])\n",
      "4 /home/phdcs2/Hard_Disk/Datasets/Deep-Spectral-Segmentation/data/object-segmentation/ECSSD/features/0005_resized.pth\n",
      "dict_keys(['k', 'indices', 'file', 'id', 'model_name', 'patch_size', 'shape'])\n",
      "0005_resized\n",
      "Starting Training\n",
      "epoch: 00, loss: -0.91902\n",
      "epoch: 01, loss: -0.95050\n",
      "epoch: 02, loss: -0.95815\n",
      "epoch: 03, loss: -0.96256\n",
      "epoch: 04, loss: -0.96560\n",
      "epoch: 05, loss: -0.96781\n",
      "epoch: 06, loss: -0.96961\n",
      "epoch: 07, loss: -0.97106\n",
      "epoch: 08, loss: -0.97228\n",
      "epoch: 09, loss: -0.97332\n",
      "torch.Size([1024, 64])\n"
     ]
    },
    {
     "name": "stderr",
     "output_type": "stream",
     "text": [
      "  1%|          | 5/999 [05:56<19:59:48, 72.42s/it]"
     ]
    },
    {
     "name": "stdout",
     "output_type": "stream",
     "text": [
      "eigenvalues shape torch.Size([5]) eigenvectors shape torch.Size([5, 1024])\n",
      "5 /home/phdcs2/Hard_Disk/Datasets/Deep-Spectral-Segmentation/data/object-segmentation/ECSSD/features/0006_resized.pth\n",
      "dict_keys(['k', 'indices', 'file', 'id', 'model_name', 'patch_size', 'shape'])\n",
      "0006_resized\n",
      "Starting Training\n",
      "epoch: 00, loss: -0.86351\n",
      "epoch: 01, loss: -0.91766\n",
      "epoch: 02, loss: -0.93172\n",
      "epoch: 03, loss: -0.93971\n",
      "epoch: 04, loss: -0.94518\n",
      "epoch: 05, loss: -0.94920\n",
      "epoch: 06, loss: -0.95241\n",
      "epoch: 07, loss: -0.95482\n",
      "epoch: 08, loss: -0.95698\n",
      "epoch: 09, loss: -0.95873\n",
      "torch.Size([1024, 64])\n"
     ]
    },
    {
     "name": "stderr",
     "output_type": "stream",
     "text": [
      "  1%|          | 6/999 [07:16<20:41:53, 75.04s/it]"
     ]
    },
    {
     "name": "stdout",
     "output_type": "stream",
     "text": [
      "eigenvalues shape torch.Size([5]) eigenvectors shape torch.Size([5, 1024])\n",
      "6 /home/phdcs2/Hard_Disk/Datasets/Deep-Spectral-Segmentation/data/object-segmentation/ECSSD/features/0007_resized.pth\n",
      "dict_keys(['k', 'indices', 'file', 'id', 'model_name', 'patch_size', 'shape'])\n",
      "0007_resized\n"
     ]
    },
    {
     "name": "stderr",
     "output_type": "stream",
     "text": [
      "/home/phdcs2/Hard_Disk/Projects/T2I/deep-spectral-segmentation/venv/lib/python3.8/site-packages/sklearn/decomposition/_pca.py:642: RuntimeWarning: invalid value encountered in divide\n",
      "  self.explained_variance_ratio_ = self.explained_variance_ / total_var\n"
     ]
    },
    {
     "name": "stdout",
     "output_type": "stream",
     "text": [
      "Starting Training\n",
      "epoch: 00, loss: -0.92684\n",
      "epoch: 01, loss: -0.95824\n",
      "epoch: 02, loss: -0.96485\n",
      "epoch: 03, loss: -0.96854\n",
      "epoch: 04, loss: -0.97110\n",
      "epoch: 05, loss: -0.97299\n",
      "epoch: 06, loss: -0.97448\n",
      "epoch: 07, loss: -0.97569\n",
      "epoch: 08, loss: -0.97669\n",
      "epoch: 09, loss: -0.97755\n",
      "torch.Size([1024, 64])\n"
     ]
    },
    {
     "name": "stderr",
     "output_type": "stream",
     "text": [
      "  1%|          | 7/999 [08:18<19:31:19, 70.85s/it]"
     ]
    },
    {
     "name": "stdout",
     "output_type": "stream",
     "text": [
      "eigenvalues shape torch.Size([5]) eigenvectors shape torch.Size([5, 1024])\n",
      "7 /home/phdcs2/Hard_Disk/Datasets/Deep-Spectral-Segmentation/data/object-segmentation/ECSSD/features/0008_resized.pth\n",
      "dict_keys(['k', 'indices', 'file', 'id', 'model_name', 'patch_size', 'shape'])\n",
      "0008_resized\n",
      "Starting Training\n",
      "epoch: 00, loss: -0.91379\n",
      "epoch: 01, loss: -0.95037\n",
      "epoch: 02, loss: -0.95838\n",
      "epoch: 03, loss: -0.96297\n",
      "epoch: 04, loss: -0.96607\n",
      "epoch: 05, loss: -0.96837\n",
      "epoch: 06, loss: -0.97016\n",
      "epoch: 07, loss: -0.97163\n",
      "epoch: 08, loss: -0.97284\n",
      "epoch: 09, loss: -0.97390\n",
      "torch.Size([1024, 64])\n"
     ]
    },
    {
     "name": "stderr",
     "output_type": "stream",
     "text": [
      "  1%|          | 8/999 [09:33<19:51:26, 72.14s/it]"
     ]
    },
    {
     "name": "stdout",
     "output_type": "stream",
     "text": [
      "eigenvalues shape torch.Size([5]) eigenvectors shape torch.Size([5, 1024])\n",
      "8 /home/phdcs2/Hard_Disk/Datasets/Deep-Spectral-Segmentation/data/object-segmentation/ECSSD/features/0009_resized.pth\n",
      "dict_keys(['k', 'indices', 'file', 'id', 'model_name', 'patch_size', 'shape'])\n",
      "0009_resized\n",
      "Starting Training\n",
      "epoch: 00, loss: -0.86713\n",
      "epoch: 01, loss: -0.92072\n",
      "epoch: 02, loss: -0.93461\n",
      "epoch: 03, loss: -0.94246\n",
      "epoch: 04, loss: -0.94773\n",
      "epoch: 05, loss: -0.95179\n",
      "epoch: 06, loss: -0.95484\n",
      "epoch: 07, loss: -0.95737\n",
      "epoch: 08, loss: -0.95941\n",
      "epoch: 09, loss: -0.96124\n",
      "torch.Size([1024, 64])\n"
     ]
    },
    {
     "name": "stderr",
     "output_type": "stream",
     "text": [
      "  1%|          | 9/999 [10:50<20:13:47, 73.56s/it]"
     ]
    },
    {
     "name": "stdout",
     "output_type": "stream",
     "text": [
      "eigenvalues shape torch.Size([5]) eigenvectors shape torch.Size([5, 1024])\n",
      "9 /home/phdcs2/Hard_Disk/Datasets/Deep-Spectral-Segmentation/data/object-segmentation/ECSSD/features/0010_resized.pth\n",
      "dict_keys(['k', 'indices', 'file', 'id', 'model_name', 'patch_size', 'shape'])\n",
      "0010_resized\n",
      "Starting Training\n",
      "epoch: 00, loss: -0.86926\n",
      "epoch: 01, loss: -0.92388\n",
      "epoch: 02, loss: -0.93683\n",
      "epoch: 03, loss: -0.94418\n",
      "epoch: 04, loss: -0.94919\n",
      "epoch: 05, loss: -0.95279\n",
      "epoch: 06, loss: -0.95579\n",
      "epoch: 07, loss: -0.95800\n",
      "epoch: 08, loss: -0.95985\n",
      "epoch: 09, loss: -0.96142\n",
      "torch.Size([1024, 64])\n"
     ]
    },
    {
     "name": "stderr",
     "output_type": "stream",
     "text": [
      "  1%|          | 10/999 [12:06<20:24:25, 74.28s/it]"
     ]
    },
    {
     "name": "stdout",
     "output_type": "stream",
     "text": [
      "eigenvalues shape torch.Size([5]) eigenvectors shape torch.Size([5, 1024])\n",
      "10 /home/phdcs2/Hard_Disk/Datasets/Deep-Spectral-Segmentation/data/object-segmentation/ECSSD/features/0011_resized.pth\n",
      "dict_keys(['k', 'indices', 'file', 'id', 'model_name', 'patch_size', 'shape'])\n",
      "0011_resized\n"
     ]
    },
    {
     "name": "stderr",
     "output_type": "stream",
     "text": [
      "/home/phdcs2/Hard_Disk/Projects/T2I/deep-spectral-segmentation/venv/lib/python3.8/site-packages/sklearn/decomposition/_pca.py:642: RuntimeWarning: invalid value encountered in divide\n",
      "  self.explained_variance_ratio_ = self.explained_variance_ / total_var\n"
     ]
    },
    {
     "name": "stdout",
     "output_type": "stream",
     "text": [
      "Starting Training\n",
      "epoch: 00, loss: -0.93398\n",
      "epoch: 01, loss: -0.96196\n",
      "epoch: 02, loss: -0.96760\n",
      "epoch: 03, loss: -0.97081\n",
      "epoch: 04, loss: -0.97304\n",
      "epoch: 05, loss: -0.97472\n",
      "epoch: 06, loss: -0.97602\n",
      "epoch: 07, loss: -0.97709\n",
      "epoch: 08, loss: -0.97801\n",
      "epoch: 09, loss: -0.97878\n",
      "torch.Size([1024, 64])\n"
     ]
    },
    {
     "name": "stderr",
     "output_type": "stream",
     "text": [
      "  1%|          | 11/999 [13:22<20:34:26, 74.97s/it]"
     ]
    },
    {
     "name": "stdout",
     "output_type": "stream",
     "text": [
      "eigenvalues shape torch.Size([5]) eigenvectors shape torch.Size([5, 1024])\n",
      "11 /home/phdcs2/Hard_Disk/Datasets/Deep-Spectral-Segmentation/data/object-segmentation/ECSSD/features/0012_resized.pth\n",
      "dict_keys(['k', 'indices', 'file', 'id', 'model_name', 'patch_size', 'shape'])\n",
      "0012_resized\n",
      "Starting Training\n",
      "epoch: 00, loss: -0.87396\n",
      "epoch: 01, loss: -0.92390\n",
      "epoch: 02, loss: -0.93695\n",
      "epoch: 03, loss: -0.94441\n",
      "epoch: 04, loss: -0.94941\n",
      "epoch: 05, loss: -0.95309\n",
      "epoch: 06, loss: -0.95607\n",
      "epoch: 07, loss: -0.95841\n",
      "epoch: 08, loss: -0.96035\n",
      "epoch: 09, loss: -0.96197\n",
      "torch.Size([1024, 64])\n"
     ]
    },
    {
     "name": "stderr",
     "output_type": "stream",
     "text": [
      "  1%|          | 12/999 [14:39<20:44:52, 75.68s/it]"
     ]
    },
    {
     "name": "stdout",
     "output_type": "stream",
     "text": [
      "eigenvalues shape torch.Size([5]) eigenvectors shape torch.Size([5, 1024])\n",
      "12 /home/phdcs2/Hard_Disk/Datasets/Deep-Spectral-Segmentation/data/object-segmentation/ECSSD/features/0013_resized.pth\n",
      "dict_keys(['k', 'indices', 'file', 'id', 'model_name', 'patch_size', 'shape'])\n",
      "0013_resized\n",
      "Starting Training\n",
      "epoch: 00, loss: -0.92244\n",
      "epoch: 01, loss: -0.95417\n",
      "epoch: 02, loss: -0.96126\n",
      "epoch: 03, loss: -0.96535\n",
      "epoch: 04, loss: -0.96813\n",
      "epoch: 05, loss: -0.97015\n",
      "epoch: 06, loss: -0.97178\n",
      "epoch: 07, loss: -0.97308\n",
      "epoch: 08, loss: -0.97420\n",
      "epoch: 09, loss: -0.97513\n",
      "torch.Size([1024, 64])\n"
     ]
    },
    {
     "name": "stderr",
     "output_type": "stream",
     "text": [
      "  1%|▏         | 13/999 [15:57<20:52:59, 76.25s/it]"
     ]
    },
    {
     "name": "stdout",
     "output_type": "stream",
     "text": [
      "eigenvalues shape torch.Size([5]) eigenvectors shape torch.Size([5, 1024])\n",
      "13 /home/phdcs2/Hard_Disk/Datasets/Deep-Spectral-Segmentation/data/object-segmentation/ECSSD/features/0014_resized.pth\n",
      "dict_keys(['k', 'indices', 'file', 'id', 'model_name', 'patch_size', 'shape'])\n",
      "0014_resized\n",
      "Starting Training\n",
      "epoch: 00, loss: -0.86282\n",
      "epoch: 01, loss: -0.91811\n",
      "epoch: 02, loss: -0.93264\n",
      "epoch: 03, loss: -0.94074\n",
      "epoch: 04, loss: -0.94618\n",
      "epoch: 05, loss: -0.95012\n",
      "epoch: 06, loss: -0.95320\n",
      "epoch: 07, loss: -0.95573\n",
      "epoch: 08, loss: -0.95774\n",
      "epoch: 09, loss: -0.95944\n",
      "torch.Size([1024, 64])\n"
     ]
    },
    {
     "name": "stderr",
     "output_type": "stream",
     "text": [
      "  1%|▏         | 14/999 [17:13<20:49:58, 76.14s/it]"
     ]
    },
    {
     "name": "stdout",
     "output_type": "stream",
     "text": [
      "eigenvalues shape torch.Size([5]) eigenvectors shape torch.Size([5, 1024])\n",
      "14 /home/phdcs2/Hard_Disk/Datasets/Deep-Spectral-Segmentation/data/object-segmentation/ECSSD/features/0015_resized.pth\n",
      "dict_keys(['k', 'indices', 'file', 'id', 'model_name', 'patch_size', 'shape'])\n",
      "0015_resized\n",
      "Starting Training\n",
      "epoch: 00, loss: -0.87861\n",
      "epoch: 01, loss: -0.92748\n",
      "epoch: 02, loss: -0.93967\n",
      "epoch: 03, loss: -0.94655\n",
      "epoch: 04, loss: -0.95131\n",
      "epoch: 05, loss: -0.95481\n",
      "epoch: 06, loss: -0.95756\n",
      "epoch: 07, loss: -0.95972\n",
      "epoch: 08, loss: -0.96152\n",
      "epoch: 09, loss: -0.96304\n",
      "torch.Size([1024, 64])\n"
     ]
    },
    {
     "name": "stderr",
     "output_type": "stream",
     "text": [
      "  2%|▏         | 15/999 [18:28<20:41:48, 75.72s/it]"
     ]
    },
    {
     "name": "stdout",
     "output_type": "stream",
     "text": [
      "eigenvalues shape torch.Size([5]) eigenvectors shape torch.Size([5, 1024])\n",
      "15 /home/phdcs2/Hard_Disk/Datasets/Deep-Spectral-Segmentation/data/object-segmentation/ECSSD/features/0016_resized.pth\n",
      "dict_keys(['k', 'indices', 'file', 'id', 'model_name', 'patch_size', 'shape'])\n",
      "0016_resized\n",
      "Starting Training\n",
      "epoch: 00, loss: -0.87927\n",
      "epoch: 01, loss: -0.93117\n",
      "epoch: 02, loss: -0.94324\n",
      "epoch: 03, loss: -0.94989\n",
      "epoch: 04, loss: -0.95451\n",
      "epoch: 05, loss: -0.95768\n",
      "epoch: 06, loss: -0.96027\n",
      "epoch: 07, loss: -0.96242\n",
      "epoch: 08, loss: -0.96402\n",
      "epoch: 09, loss: -0.96549\n",
      "torch.Size([1024, 64])\n"
     ]
    },
    {
     "name": "stderr",
     "output_type": "stream",
     "text": [
      "  2%|▏         | 16/999 [19:36<20:05:43, 73.59s/it]"
     ]
    },
    {
     "name": "stdout",
     "output_type": "stream",
     "text": [
      "eigenvalues shape torch.Size([5]) eigenvectors shape torch.Size([5, 1024])\n",
      "16 /home/phdcs2/Hard_Disk/Datasets/Deep-Spectral-Segmentation/data/object-segmentation/ECSSD/features/0017_resized.pth\n",
      "dict_keys(['k', 'indices', 'file', 'id', 'model_name', 'patch_size', 'shape'])\n",
      "0017_resized\n"
     ]
    },
    {
     "name": "stderr",
     "output_type": "stream",
     "text": [
      "/home/phdcs2/Hard_Disk/Projects/T2I/deep-spectral-segmentation/venv/lib/python3.8/site-packages/sklearn/decomposition/_pca.py:642: RuntimeWarning: invalid value encountered in divide\n",
      "  self.explained_variance_ratio_ = self.explained_variance_ / total_var\n"
     ]
    },
    {
     "name": "stdout",
     "output_type": "stream",
     "text": [
      "Starting Training\n",
      "epoch: 00, loss: -0.93010\n",
      "epoch: 01, loss: -0.95993\n",
      "epoch: 02, loss: -0.96612\n",
      "epoch: 03, loss: -0.96976\n",
      "epoch: 04, loss: -0.97224\n",
      "epoch: 05, loss: -0.97408\n",
      "epoch: 06, loss: -0.97554\n",
      "epoch: 07, loss: -0.97673\n",
      "epoch: 08, loss: -0.97772\n",
      "epoch: 09, loss: -0.97856\n",
      "torch.Size([1024, 64])\n"
     ]
    },
    {
     "name": "stderr",
     "output_type": "stream",
     "text": [
      "  2%|▏         | 17/999 [20:41<19:23:44, 71.10s/it]"
     ]
    },
    {
     "name": "stdout",
     "output_type": "stream",
     "text": [
      "eigenvalues shape torch.Size([5]) eigenvectors shape torch.Size([5, 1024])\n",
      "17 /home/phdcs2/Hard_Disk/Datasets/Deep-Spectral-Segmentation/data/object-segmentation/ECSSD/features/0018_resized.pth\n",
      "dict_keys(['k', 'indices', 'file', 'id', 'model_name', 'patch_size', 'shape'])\n",
      "0018_resized\n",
      "Starting Training\n",
      "epoch: 00, loss: -0.87404\n",
      "epoch: 01, loss: -0.92480\n",
      "epoch: 02, loss: -0.93803\n",
      "epoch: 03, loss: -0.94543\n",
      "epoch: 04, loss: -0.95051\n",
      "epoch: 05, loss: -0.95415\n",
      "epoch: 06, loss: -0.95706\n",
      "epoch: 07, loss: -0.95932\n",
      "epoch: 08, loss: -0.96130\n",
      "epoch: 09, loss: -0.96291\n",
      "torch.Size([1024, 64])\n"
     ]
    },
    {
     "name": "stderr",
     "output_type": "stream",
     "text": [
      "  2%|▏         | 18/999 [21:46<18:51:08, 69.18s/it]"
     ]
    },
    {
     "name": "stdout",
     "output_type": "stream",
     "text": [
      "eigenvalues shape torch.Size([5]) eigenvectors shape torch.Size([5, 1024])\n",
      "18 /home/phdcs2/Hard_Disk/Datasets/Deep-Spectral-Segmentation/data/object-segmentation/ECSSD/features/0019_resized.pth\n",
      "dict_keys(['k', 'indices', 'file', 'id', 'model_name', 'patch_size', 'shape'])\n",
      "0019_resized\n",
      "Starting Training\n",
      "epoch: 00, loss: -0.87686\n",
      "epoch: 01, loss: -0.92614\n",
      "epoch: 02, loss: -0.93840\n",
      "epoch: 03, loss: -0.94549\n",
      "epoch: 04, loss: -0.95043\n",
      "epoch: 05, loss: -0.95402\n",
      "epoch: 06, loss: -0.95673\n",
      "epoch: 07, loss: -0.95890\n",
      "epoch: 08, loss: -0.96078\n",
      "epoch: 09, loss: -0.96227\n",
      "torch.Size([1024, 64])\n"
     ]
    },
    {
     "name": "stderr",
     "output_type": "stream",
     "text": [
      "  2%|▏         | 19/999 [22:58<19:01:55, 69.91s/it]"
     ]
    },
    {
     "name": "stdout",
     "output_type": "stream",
     "text": [
      "eigenvalues shape torch.Size([5]) eigenvectors shape torch.Size([5, 1024])\n",
      "19 /home/phdcs2/Hard_Disk/Datasets/Deep-Spectral-Segmentation/data/object-segmentation/ECSSD/features/0020_resized.pth\n",
      "dict_keys(['k', 'indices', 'file', 'id', 'model_name', 'patch_size', 'shape'])\n",
      "0020_resized\n",
      "Starting Training\n",
      "epoch: 00, loss: -0.84162\n",
      "epoch: 01, loss: -0.90522\n",
      "epoch: 02, loss: -0.92133\n",
      "epoch: 03, loss: -0.93051\n",
      "epoch: 04, loss: -0.93689\n",
      "epoch: 05, loss: -0.94125\n",
      "epoch: 06, loss: -0.94474\n",
      "epoch: 07, loss: -0.94756\n",
      "epoch: 08, loss: -0.94987\n",
      "epoch: 09, loss: -0.95175\n",
      "torch.Size([1024, 64])\n"
     ]
    },
    {
     "name": "stderr",
     "output_type": "stream",
     "text": [
      "  2%|▏         | 20/999 [24:09<19:08:20, 70.38s/it]"
     ]
    },
    {
     "name": "stdout",
     "output_type": "stream",
     "text": [
      "eigenvalues shape torch.Size([5]) eigenvectors shape torch.Size([5, 1024])\n",
      "20 /home/phdcs2/Hard_Disk/Datasets/Deep-Spectral-Segmentation/data/object-segmentation/ECSSD/features/0021_resized.pth\n",
      "dict_keys(['k', 'indices', 'file', 'id', 'model_name', 'patch_size', 'shape'])\n",
      "0021_resized\n"
     ]
    },
    {
     "name": "stderr",
     "output_type": "stream",
     "text": [
      "/home/phdcs2/Hard_Disk/Projects/T2I/deep-spectral-segmentation/venv/lib/python3.8/site-packages/sklearn/decomposition/_pca.py:642: RuntimeWarning: invalid value encountered in divide\n",
      "  self.explained_variance_ratio_ = self.explained_variance_ / total_var\n"
     ]
    },
    {
     "name": "stdout",
     "output_type": "stream",
     "text": [
      "Starting Training\n",
      "epoch: 00, loss: -0.92671\n",
      "epoch: 01, loss: -0.95653\n",
      "epoch: 02, loss: -0.96279\n",
      "epoch: 03, loss: -0.96642\n",
      "epoch: 04, loss: -0.96890\n",
      "epoch: 05, loss: -0.97074\n",
      "epoch: 06, loss: -0.97223\n",
      "epoch: 07, loss: -0.97342\n",
      "epoch: 08, loss: -0.97444\n",
      "epoch: 09, loss: -0.97526\n",
      "torch.Size([1024, 64])\n"
     ]
    },
    {
     "name": "stderr",
     "output_type": "stream",
     "text": [
      "  2%|▏         | 21/999 [25:23<19:23:35, 71.39s/it]"
     ]
    },
    {
     "name": "stdout",
     "output_type": "stream",
     "text": [
      "eigenvalues shape torch.Size([5]) eigenvectors shape torch.Size([5, 1024])\n",
      "21 /home/phdcs2/Hard_Disk/Datasets/Deep-Spectral-Segmentation/data/object-segmentation/ECSSD/features/0022_resized.pth\n",
      "dict_keys(['k', 'indices', 'file', 'id', 'model_name', 'patch_size', 'shape'])\n",
      "0022_resized\n",
      "Starting Training\n",
      "epoch: 00, loss: -0.92729\n",
      "epoch: 01, loss: -0.95548\n",
      "epoch: 02, loss: -0.96216\n",
      "epoch: 03, loss: -0.96607\n",
      "epoch: 04, loss: -0.96877\n",
      "epoch: 05, loss: -0.97080\n",
      "epoch: 06, loss: -0.97238\n",
      "epoch: 07, loss: -0.97370\n",
      "epoch: 08, loss: -0.97477\n",
      "epoch: 09, loss: -0.97573\n",
      "torch.Size([1024, 64])\n"
     ]
    },
    {
     "name": "stderr",
     "output_type": "stream",
     "text": [
      "  2%|▏         | 22/999 [26:35<19:23:48, 71.47s/it]"
     ]
    },
    {
     "name": "stdout",
     "output_type": "stream",
     "text": [
      "eigenvalues shape torch.Size([5]) eigenvectors shape torch.Size([5, 1024])\n",
      "22 /home/phdcs2/Hard_Disk/Datasets/Deep-Spectral-Segmentation/data/object-segmentation/ECSSD/features/0024_resized.pth\n",
      "dict_keys(['k', 'indices', 'file', 'id', 'model_name', 'patch_size', 'shape'])\n",
      "0024_resized\n"
     ]
    },
    {
     "name": "stderr",
     "output_type": "stream",
     "text": [
      "/home/phdcs2/Hard_Disk/Projects/T2I/deep-spectral-segmentation/venv/lib/python3.8/site-packages/sklearn/decomposition/_pca.py:642: RuntimeWarning: invalid value encountered in divide\n",
      "  self.explained_variance_ratio_ = self.explained_variance_ / total_var\n"
     ]
    },
    {
     "name": "stdout",
     "output_type": "stream",
     "text": [
      "Starting Training\n",
      "epoch: 00, loss: -0.91270\n",
      "epoch: 01, loss: -0.94685\n",
      "epoch: 02, loss: -0.95502\n",
      "epoch: 03, loss: -0.95971\n",
      "epoch: 04, loss: -0.96299\n",
      "epoch: 05, loss: -0.96539\n",
      "epoch: 06, loss: -0.96730\n",
      "epoch: 07, loss: -0.96886\n",
      "epoch: 08, loss: -0.97020\n",
      "epoch: 09, loss: -0.97130\n",
      "torch.Size([1024, 64])\n"
     ]
    },
    {
     "name": "stderr",
     "output_type": "stream",
     "text": [
      "  2%|▏         | 23/999 [27:43<19:08:09, 70.58s/it]"
     ]
    },
    {
     "name": "stdout",
     "output_type": "stream",
     "text": [
      "eigenvalues shape torch.Size([5]) eigenvectors shape torch.Size([5, 1024])\n",
      "23 /home/phdcs2/Hard_Disk/Datasets/Deep-Spectral-Segmentation/data/object-segmentation/ECSSD/features/0025_resized.pth\n",
      "dict_keys(['k', 'indices', 'file', 'id', 'model_name', 'patch_size', 'shape'])\n",
      "0025_resized\n"
     ]
    },
    {
     "name": "stderr",
     "output_type": "stream",
     "text": [
      "/home/phdcs2/Hard_Disk/Projects/T2I/deep-spectral-segmentation/venv/lib/python3.8/site-packages/sklearn/decomposition/_pca.py:642: RuntimeWarning: invalid value encountered in divide\n",
      "  self.explained_variance_ratio_ = self.explained_variance_ / total_var\n"
     ]
    },
    {
     "name": "stdout",
     "output_type": "stream",
     "text": [
      "Starting Training\n",
      "epoch: 00, loss: -0.93455\n",
      "epoch: 01, loss: -0.96267\n",
      "epoch: 02, loss: -0.96855\n",
      "epoch: 03, loss: -0.97194\n",
      "epoch: 04, loss: -0.97422\n",
      "epoch: 05, loss: -0.97595\n",
      "epoch: 06, loss: -0.97729\n",
      "epoch: 07, loss: -0.97840\n",
      "epoch: 08, loss: -0.97931\n",
      "epoch: 09, loss: -0.98009\n",
      "torch.Size([1024, 64])\n"
     ]
    },
    {
     "name": "stderr",
     "output_type": "stream",
     "text": [
      "  2%|▏         | 24/999 [28:49<18:45:12, 69.24s/it]"
     ]
    },
    {
     "name": "stdout",
     "output_type": "stream",
     "text": [
      "eigenvalues shape torch.Size([5]) eigenvectors shape torch.Size([5, 1024])\n",
      "24 /home/phdcs2/Hard_Disk/Datasets/Deep-Spectral-Segmentation/data/object-segmentation/ECSSD/features/0026_resized.pth\n",
      "dict_keys(['k', 'indices', 'file', 'id', 'model_name', 'patch_size', 'shape'])\n",
      "0026_resized\n"
     ]
    },
    {
     "name": "stderr",
     "output_type": "stream",
     "text": [
      "/home/phdcs2/Hard_Disk/Projects/T2I/deep-spectral-segmentation/venv/lib/python3.8/site-packages/sklearn/decomposition/_pca.py:642: RuntimeWarning: invalid value encountered in divide\n",
      "  self.explained_variance_ratio_ = self.explained_variance_ / total_var\n"
     ]
    },
    {
     "name": "stdout",
     "output_type": "stream",
     "text": [
      "Starting Training\n",
      "epoch: 00, loss: -0.93159\n",
      "epoch: 01, loss: -0.95998\n",
      "epoch: 02, loss: -0.96590\n",
      "epoch: 03, loss: -0.96933\n",
      "epoch: 04, loss: -0.97166\n",
      "epoch: 05, loss: -0.97339\n",
      "epoch: 06, loss: -0.97476\n",
      "epoch: 07, loss: -0.97586\n",
      "epoch: 08, loss: -0.97681\n",
      "epoch: 09, loss: -0.97761\n",
      "torch.Size([1024, 64])\n"
     ]
    },
    {
     "name": "stderr",
     "output_type": "stream",
     "text": [
      "  3%|▎         | 25/999 [30:03<19:04:01, 70.47s/it]"
     ]
    },
    {
     "name": "stdout",
     "output_type": "stream",
     "text": [
      "eigenvalues shape torch.Size([5]) eigenvectors shape torch.Size([5, 1024])\n",
      "25 /home/phdcs2/Hard_Disk/Datasets/Deep-Spectral-Segmentation/data/object-segmentation/ECSSD/features/0027_resized.pth\n",
      "dict_keys(['k', 'indices', 'file', 'id', 'model_name', 'patch_size', 'shape'])\n",
      "0027_resized\n",
      "Starting Training\n",
      "epoch: 00, loss: -0.83630\n",
      "epoch: 01, loss: -0.90326\n",
      "epoch: 02, loss: -0.92038\n",
      "epoch: 03, loss: -0.92959\n",
      "epoch: 04, loss: -0.93596\n",
      "epoch: 05, loss: -0.94057\n",
      "epoch: 06, loss: -0.94410\n",
      "epoch: 07, loss: -0.94690\n",
      "epoch: 08, loss: -0.94931\n",
      "epoch: 09, loss: -0.95132\n",
      "torch.Size([1024, 64])\n"
     ]
    },
    {
     "name": "stderr",
     "output_type": "stream",
     "text": [
      "  3%|▎         | 26/999 [31:13<19:02:54, 70.48s/it]"
     ]
    },
    {
     "name": "stdout",
     "output_type": "stream",
     "text": [
      "eigenvalues shape torch.Size([5]) eigenvectors shape torch.Size([5, 1024])\n",
      "26 /home/phdcs2/Hard_Disk/Datasets/Deep-Spectral-Segmentation/data/object-segmentation/ECSSD/features/0028_resized.pth\n",
      "dict_keys(['k', 'indices', 'file', 'id', 'model_name', 'patch_size', 'shape'])\n",
      "0028_resized\n",
      "Starting Training\n",
      "epoch: 00, loss: -0.93178\n",
      "epoch: 01, loss: -0.96036\n",
      "epoch: 02, loss: -0.96646\n",
      "epoch: 03, loss: -0.97002\n",
      "epoch: 04, loss: -0.97246\n",
      "epoch: 05, loss: -0.97428\n",
      "epoch: 06, loss: -0.97572\n",
      "epoch: 07, loss: -0.97688\n",
      "epoch: 08, loss: -0.97788\n",
      "epoch: 09, loss: -0.97870\n",
      "torch.Size([1024, 64])\n"
     ]
    },
    {
     "name": "stderr",
     "output_type": "stream",
     "text": [
      "  3%|▎         | 27/999 [32:16<18:26:57, 68.33s/it]"
     ]
    },
    {
     "name": "stdout",
     "output_type": "stream",
     "text": [
      "eigenvalues shape torch.Size([5]) eigenvectors shape torch.Size([5, 1024])\n",
      "27 /home/phdcs2/Hard_Disk/Datasets/Deep-Spectral-Segmentation/data/object-segmentation/ECSSD/features/0029_resized.pth\n",
      "dict_keys(['k', 'indices', 'file', 'id', 'model_name', 'patch_size', 'shape'])\n",
      "0029_resized\n"
     ]
    },
    {
     "name": "stderr",
     "output_type": "stream",
     "text": [
      "/home/phdcs2/Hard_Disk/Projects/T2I/deep-spectral-segmentation/venv/lib/python3.8/site-packages/sklearn/decomposition/_pca.py:642: RuntimeWarning: invalid value encountered in divide\n",
      "  self.explained_variance_ratio_ = self.explained_variance_ / total_var\n"
     ]
    },
    {
     "name": "stdout",
     "output_type": "stream",
     "text": [
      "Starting Training\n",
      "epoch: 00, loss: -0.91559\n",
      "epoch: 01, loss: -0.94912\n",
      "epoch: 02, loss: -0.95717\n",
      "epoch: 03, loss: -0.96181\n",
      "epoch: 04, loss: -0.96499\n",
      "epoch: 05, loss: -0.96737\n",
      "epoch: 06, loss: -0.96920\n",
      "epoch: 07, loss: -0.97070\n",
      "epoch: 08, loss: -0.97196\n",
      "epoch: 09, loss: -0.97303\n",
      "torch.Size([1024, 64])\n"
     ]
    },
    {
     "name": "stderr",
     "output_type": "stream",
     "text": [
      "  3%|▎         | 28/999 [33:30<18:48:40, 69.74s/it]"
     ]
    },
    {
     "name": "stdout",
     "output_type": "stream",
     "text": [
      "eigenvalues shape torch.Size([5]) eigenvectors shape torch.Size([5, 1024])\n",
      "28 /home/phdcs2/Hard_Disk/Datasets/Deep-Spectral-Segmentation/data/object-segmentation/ECSSD/features/0030_resized.pth\n",
      "dict_keys(['k', 'indices', 'file', 'id', 'model_name', 'patch_size', 'shape'])\n",
      "0030_resized\n"
     ]
    },
    {
     "name": "stderr",
     "output_type": "stream",
     "text": [
      "/home/phdcs2/Hard_Disk/Projects/T2I/deep-spectral-segmentation/venv/lib/python3.8/site-packages/sklearn/decomposition/_pca.py:642: RuntimeWarning: invalid value encountered in divide\n",
      "  self.explained_variance_ratio_ = self.explained_variance_ / total_var\n"
     ]
    },
    {
     "name": "stdout",
     "output_type": "stream",
     "text": [
      "Starting Training\n",
      "epoch: 00, loss: -0.91861\n",
      "epoch: 01, loss: -0.95015\n",
      "epoch: 02, loss: -0.95785\n",
      "epoch: 03, loss: -0.96234\n",
      "epoch: 04, loss: -0.96534\n",
      "epoch: 05, loss: -0.96760\n",
      "epoch: 06, loss: -0.96939\n",
      "epoch: 07, loss: -0.97085\n",
      "epoch: 08, loss: -0.97204\n",
      "epoch: 09, loss: -0.97309\n",
      "torch.Size([1024, 64])\n"
     ]
    },
    {
     "name": "stderr",
     "output_type": "stream",
     "text": [
      "  3%|▎         | 29/999 [34:43<19:07:01, 70.95s/it]"
     ]
    },
    {
     "name": "stdout",
     "output_type": "stream",
     "text": [
      "eigenvalues shape torch.Size([5]) eigenvectors shape torch.Size([5, 1024])\n",
      "29 /home/phdcs2/Hard_Disk/Datasets/Deep-Spectral-Segmentation/data/object-segmentation/ECSSD/features/0031_resized.pth\n",
      "dict_keys(['k', 'indices', 'file', 'id', 'model_name', 'patch_size', 'shape'])\n",
      "0031_resized\n",
      "Starting Training\n",
      "epoch: 00, loss: -0.85596\n",
      "epoch: 01, loss: -0.91365\n",
      "epoch: 02, loss: -0.92878\n",
      "epoch: 03, loss: -0.93721\n",
      "epoch: 04, loss: -0.94286\n",
      "epoch: 05, loss: -0.94704\n",
      "epoch: 06, loss: -0.95021\n",
      "epoch: 07, loss: -0.95280\n",
      "epoch: 08, loss: -0.95493\n",
      "epoch: 09, loss: -0.95675\n",
      "torch.Size([1024, 64])\n"
     ]
    },
    {
     "name": "stderr",
     "output_type": "stream",
     "text": [
      "  3%|▎         | 30/999 [35:50<18:44:22, 69.62s/it]"
     ]
    },
    {
     "name": "stdout",
     "output_type": "stream",
     "text": [
      "eigenvalues shape torch.Size([5]) eigenvectors shape torch.Size([5, 1024])\n",
      "30 /home/phdcs2/Hard_Disk/Datasets/Deep-Spectral-Segmentation/data/object-segmentation/ECSSD/features/0032_resized.pth\n",
      "dict_keys(['k', 'indices', 'file', 'id', 'model_name', 'patch_size', 'shape'])\n",
      "0032_resized\n",
      "Starting Training\n",
      "epoch: 00, loss: -0.90363\n",
      "epoch: 01, loss: -0.94229\n",
      "epoch: 02, loss: -0.95159\n",
      "epoch: 03, loss: -0.95698\n",
      "epoch: 04, loss: -0.96070\n",
      "epoch: 05, loss: -0.96338\n",
      "epoch: 06, loss: -0.96544\n",
      "epoch: 07, loss: -0.96717\n",
      "epoch: 08, loss: -0.96861\n",
      "epoch: 09, loss: -0.96988\n",
      "torch.Size([1024, 64])\n"
     ]
    },
    {
     "name": "stderr",
     "output_type": "stream",
     "text": [
      "  3%|▎         | 31/999 [37:04<19:04:24, 70.93s/it]"
     ]
    },
    {
     "name": "stdout",
     "output_type": "stream",
     "text": [
      "eigenvalues shape torch.Size([5]) eigenvectors shape torch.Size([5, 1024])\n",
      "31 /home/phdcs2/Hard_Disk/Datasets/Deep-Spectral-Segmentation/data/object-segmentation/ECSSD/features/0033_resized.pth\n",
      "dict_keys(['k', 'indices', 'file', 'id', 'model_name', 'patch_size', 'shape'])\n",
      "0033_resized\n"
     ]
    },
    {
     "name": "stderr",
     "output_type": "stream",
     "text": [
      "/home/phdcs2/Hard_Disk/Projects/T2I/deep-spectral-segmentation/venv/lib/python3.8/site-packages/sklearn/decomposition/_pca.py:642: RuntimeWarning: invalid value encountered in divide\n",
      "  self.explained_variance_ratio_ = self.explained_variance_ / total_var\n"
     ]
    },
    {
     "name": "stdout",
     "output_type": "stream",
     "text": [
      "Starting Training\n",
      "epoch: 00, loss: -0.92106\n",
      "epoch: 01, loss: -0.95377\n",
      "epoch: 02, loss: -0.96108\n",
      "epoch: 03, loss: -0.96523\n",
      "epoch: 04, loss: -0.96812\n",
      "epoch: 05, loss: -0.97023\n",
      "epoch: 06, loss: -0.97191\n",
      "epoch: 07, loss: -0.97325\n",
      "epoch: 08, loss: -0.97441\n",
      "epoch: 09, loss: -0.97538\n",
      "torch.Size([1024, 64])\n"
     ]
    },
    {
     "name": "stderr",
     "output_type": "stream",
     "text": [
      "  3%|▎         | 32/999 [38:20<19:28:01, 72.47s/it]"
     ]
    },
    {
     "name": "stdout",
     "output_type": "stream",
     "text": [
      "eigenvalues shape torch.Size([5]) eigenvectors shape torch.Size([5, 1024])\n",
      "32 /home/phdcs2/Hard_Disk/Datasets/Deep-Spectral-Segmentation/data/object-segmentation/ECSSD/features/0034_resized.pth\n",
      "dict_keys(['k', 'indices', 'file', 'id', 'model_name', 'patch_size', 'shape'])\n",
      "0034_resized\n",
      "Starting Training\n",
      "epoch: 00, loss: -0.86325\n",
      "epoch: 01, loss: -0.91897\n",
      "epoch: 02, loss: -0.93345\n",
      "epoch: 03, loss: -0.94176\n",
      "epoch: 04, loss: -0.94729\n",
      "epoch: 05, loss: -0.95123\n",
      "epoch: 06, loss: -0.95451\n",
      "epoch: 07, loss: -0.95702\n",
      "epoch: 08, loss: -0.95912\n",
      "epoch: 09, loss: -0.96086\n",
      "torch.Size([1024, 64])\n"
     ]
    },
    {
     "name": "stderr",
     "output_type": "stream",
     "text": [
      "  3%|▎         | 33/999 [39:35<19:39:51, 73.28s/it]"
     ]
    },
    {
     "name": "stdout",
     "output_type": "stream",
     "text": [
      "eigenvalues shape torch.Size([5]) eigenvectors shape torch.Size([5, 1024])\n",
      "33 /home/phdcs2/Hard_Disk/Datasets/Deep-Spectral-Segmentation/data/object-segmentation/ECSSD/features/0035_resized.pth\n",
      "dict_keys(['k', 'indices', 'file', 'id', 'model_name', 'patch_size', 'shape'])\n",
      "0035_resized\n",
      "Starting Training\n",
      "epoch: 00, loss: -0.86495\n",
      "epoch: 01, loss: -0.92263\n",
      "epoch: 02, loss: -0.93584\n",
      "epoch: 03, loss: -0.94331\n",
      "epoch: 04, loss: -0.94826\n",
      "epoch: 05, loss: -0.95187\n",
      "epoch: 06, loss: -0.95476\n",
      "epoch: 07, loss: -0.95708\n",
      "epoch: 08, loss: -0.95893\n",
      "epoch: 09, loss: -0.96053\n",
      "torch.Size([1024, 64])\n"
     ]
    },
    {
     "name": "stderr",
     "output_type": "stream",
     "text": [
      "  3%|▎         | 34/999 [40:53<19:59:58, 74.61s/it]"
     ]
    },
    {
     "name": "stdout",
     "output_type": "stream",
     "text": [
      "eigenvalues shape torch.Size([5]) eigenvectors shape torch.Size([5, 1024])\n",
      "34 /home/phdcs2/Hard_Disk/Datasets/Deep-Spectral-Segmentation/data/object-segmentation/ECSSD/features/0036_resized.pth\n",
      "dict_keys(['k', 'indices', 'file', 'id', 'model_name', 'patch_size', 'shape'])\n",
      "0036_resized\n"
     ]
    },
    {
     "name": "stderr",
     "output_type": "stream",
     "text": [
      "/home/phdcs2/Hard_Disk/Projects/T2I/deep-spectral-segmentation/venv/lib/python3.8/site-packages/sklearn/decomposition/_pca.py:642: RuntimeWarning: invalid value encountered in divide\n",
      "  self.explained_variance_ratio_ = self.explained_variance_ / total_var\n"
     ]
    },
    {
     "name": "stdout",
     "output_type": "stream",
     "text": [
      "Starting Training\n",
      "epoch: 00, loss: -0.91975\n",
      "epoch: 01, loss: -0.95276\n",
      "epoch: 02, loss: -0.96005\n",
      "epoch: 03, loss: -0.96434\n",
      "epoch: 04, loss: -0.96729\n",
      "epoch: 05, loss: -0.96942\n",
      "epoch: 06, loss: -0.97114\n",
      "epoch: 07, loss: -0.97253\n",
      "epoch: 08, loss: -0.97369\n",
      "epoch: 09, loss: -0.97469\n",
      "torch.Size([1024, 64])\n"
     ]
    },
    {
     "name": "stderr",
     "output_type": "stream",
     "text": [
      "  4%|▎         | 35/999 [42:11<20:16:59, 75.75s/it]"
     ]
    },
    {
     "name": "stdout",
     "output_type": "stream",
     "text": [
      "eigenvalues shape torch.Size([5]) eigenvectors shape torch.Size([5, 1024])\n",
      "35 /home/phdcs2/Hard_Disk/Datasets/Deep-Spectral-Segmentation/data/object-segmentation/ECSSD/features/0037_resized.pth\n",
      "dict_keys(['k', 'indices', 'file', 'id', 'model_name', 'patch_size', 'shape'])\n",
      "0037_resized\n",
      "Starting Training\n",
      "epoch: 00, loss: -0.87372\n",
      "epoch: 01, loss: -0.92475\n",
      "epoch: 02, loss: -0.93730\n",
      "epoch: 03, loss: -0.94458\n",
      "epoch: 04, loss: -0.94939\n",
      "epoch: 05, loss: -0.95298\n",
      "epoch: 06, loss: -0.95592\n",
      "epoch: 07, loss: -0.95813\n",
      "epoch: 08, loss: -0.96012\n",
      "epoch: 09, loss: -0.96172\n",
      "torch.Size([1024, 64])\n"
     ]
    },
    {
     "name": "stderr",
     "output_type": "stream",
     "text": [
      "  4%|▎         | 36/999 [43:27<20:15:19, 75.72s/it]"
     ]
    },
    {
     "name": "stdout",
     "output_type": "stream",
     "text": [
      "eigenvalues shape torch.Size([5]) eigenvectors shape torch.Size([5, 1024])\n",
      "36 /home/phdcs2/Hard_Disk/Datasets/Deep-Spectral-Segmentation/data/object-segmentation/ECSSD/features/0038_resized.pth\n",
      "dict_keys(['k', 'indices', 'file', 'id', 'model_name', 'patch_size', 'shape'])\n",
      "0038_resized\n"
     ]
    },
    {
     "name": "stderr",
     "output_type": "stream",
     "text": [
      "/home/phdcs2/Hard_Disk/Projects/T2I/deep-spectral-segmentation/venv/lib/python3.8/site-packages/sklearn/decomposition/_pca.py:642: RuntimeWarning: invalid value encountered in divide\n",
      "  self.explained_variance_ratio_ = self.explained_variance_ / total_var\n"
     ]
    },
    {
     "name": "stdout",
     "output_type": "stream",
     "text": [
      "Starting Training\n",
      "epoch: 00, loss: -0.91172\n",
      "epoch: 01, loss: -0.94856\n",
      "epoch: 02, loss: -0.95700\n",
      "epoch: 03, loss: -0.96178\n",
      "epoch: 04, loss: -0.96502\n",
      "epoch: 05, loss: -0.96744\n",
      "epoch: 06, loss: -0.96932\n",
      "epoch: 07, loss: -0.97083\n",
      "epoch: 08, loss: -0.97210\n",
      "epoch: 09, loss: -0.97318\n",
      "torch.Size([1024, 64])\n"
     ]
    },
    {
     "name": "stderr",
     "output_type": "stream",
     "text": [
      "  4%|▎         | 37/999 [44:47<20:33:17, 76.92s/it]"
     ]
    },
    {
     "name": "stdout",
     "output_type": "stream",
     "text": [
      "eigenvalues shape torch.Size([5]) eigenvectors shape torch.Size([5, 1024])\n",
      "37 /home/phdcs2/Hard_Disk/Datasets/Deep-Spectral-Segmentation/data/object-segmentation/ECSSD/features/0039_resized.pth\n",
      "dict_keys(['k', 'indices', 'file', 'id', 'model_name', 'patch_size', 'shape'])\n",
      "0039_resized\n",
      "Starting Training\n",
      "epoch: 00, loss: -0.88080\n",
      "epoch: 01, loss: -0.92927\n",
      "epoch: 02, loss: -0.94192\n",
      "epoch: 03, loss: -0.94891\n",
      "epoch: 04, loss: -0.95366\n",
      "epoch: 05, loss: -0.95705\n",
      "epoch: 06, loss: -0.95976\n",
      "epoch: 07, loss: -0.96189\n",
      "epoch: 08, loss: -0.96368\n",
      "epoch: 09, loss: -0.96524\n",
      "torch.Size([1024, 64])\n"
     ]
    },
    {
     "name": "stderr",
     "output_type": "stream",
     "text": [
      "  4%|▍         | 38/999 [46:06<20:44:57, 77.73s/it]"
     ]
    },
    {
     "name": "stdout",
     "output_type": "stream",
     "text": [
      "eigenvalues shape torch.Size([5]) eigenvectors shape torch.Size([5, 1024])\n",
      "38 /home/phdcs2/Hard_Disk/Datasets/Deep-Spectral-Segmentation/data/object-segmentation/ECSSD/features/0040_resized.pth\n",
      "dict_keys(['k', 'indices', 'file', 'id', 'model_name', 'patch_size', 'shape'])\n",
      "0040_resized\n"
     ]
    },
    {
     "name": "stderr",
     "output_type": "stream",
     "text": [
      "/home/phdcs2/Hard_Disk/Projects/T2I/deep-spectral-segmentation/venv/lib/python3.8/site-packages/sklearn/decomposition/_pca.py:642: RuntimeWarning: invalid value encountered in divide\n",
      "  self.explained_variance_ratio_ = self.explained_variance_ / total_var\n"
     ]
    },
    {
     "name": "stdout",
     "output_type": "stream",
     "text": [
      "Starting Training\n",
      "epoch: 00, loss: -0.93368\n",
      "epoch: 01, loss: -0.96023\n",
      "epoch: 02, loss: -0.96645\n",
      "epoch: 03, loss: -0.97004\n",
      "epoch: 04, loss: -0.97251\n",
      "epoch: 05, loss: -0.97434\n",
      "epoch: 06, loss: -0.97580\n",
      "epoch: 07, loss: -0.97694\n",
      "epoch: 08, loss: -0.97793\n",
      "epoch: 09, loss: -0.97876\n",
      "torch.Size([1024, 64])\n"
     ]
    },
    {
     "name": "stderr",
     "output_type": "stream",
     "text": [
      "  4%|▍         | 39/999 [47:20<20:23:38, 76.48s/it]"
     ]
    },
    {
     "name": "stdout",
     "output_type": "stream",
     "text": [
      "eigenvalues shape torch.Size([5]) eigenvectors shape torch.Size([5, 1024])\n",
      "39 /home/phdcs2/Hard_Disk/Datasets/Deep-Spectral-Segmentation/data/object-segmentation/ECSSD/features/0041_resized.pth\n",
      "dict_keys(['k', 'indices', 'file', 'id', 'model_name', 'patch_size', 'shape'])\n",
      "0041_resized\n"
     ]
    },
    {
     "name": "stderr",
     "output_type": "stream",
     "text": [
      "/home/phdcs2/Hard_Disk/Projects/T2I/deep-spectral-segmentation/venv/lib/python3.8/site-packages/sklearn/decomposition/_pca.py:642: RuntimeWarning: invalid value encountered in divide\n",
      "  self.explained_variance_ratio_ = self.explained_variance_ / total_var\n"
     ]
    },
    {
     "name": "stdout",
     "output_type": "stream",
     "text": [
      "Starting Training\n",
      "epoch: 00, loss: -0.91677\n",
      "epoch: 01, loss: -0.95350\n",
      "epoch: 02, loss: -0.96115\n",
      "epoch: 03, loss: -0.96553\n",
      "epoch: 04, loss: -0.96849\n",
      "epoch: 05, loss: -0.97068\n",
      "epoch: 06, loss: -0.97241\n",
      "epoch: 07, loss: -0.97379\n",
      "epoch: 08, loss: -0.97497\n",
      "epoch: 09, loss: -0.97594\n",
      "torch.Size([1024, 64])\n"
     ]
    },
    {
     "name": "stderr",
     "output_type": "stream",
     "text": [
      "  4%|▍         | 40/999 [48:36<20:21:27, 76.42s/it]"
     ]
    },
    {
     "name": "stdout",
     "output_type": "stream",
     "text": [
      "eigenvalues shape torch.Size([5]) eigenvectors shape torch.Size([5, 1024])\n",
      "40 /home/phdcs2/Hard_Disk/Datasets/Deep-Spectral-Segmentation/data/object-segmentation/ECSSD/features/0042_resized.pth\n",
      "dict_keys(['k', 'indices', 'file', 'id', 'model_name', 'patch_size', 'shape'])\n",
      "0042_resized\n",
      "Starting Training\n",
      "epoch: 00, loss: -0.92232\n",
      "epoch: 01, loss: -0.95086\n",
      "epoch: 02, loss: -0.95789\n",
      "epoch: 03, loss: -0.96205\n",
      "epoch: 04, loss: -0.96487\n",
      "epoch: 05, loss: -0.96698\n",
      "epoch: 06, loss: -0.96867\n",
      "epoch: 07, loss: -0.97002\n",
      "epoch: 08, loss: -0.97118\n",
      "epoch: 09, loss: -0.97214\n",
      "torch.Size([1024, 64])\n"
     ]
    },
    {
     "name": "stderr",
     "output_type": "stream",
     "text": [
      "  4%|▍         | 41/999 [49:50<20:08:50, 75.71s/it]"
     ]
    },
    {
     "name": "stdout",
     "output_type": "stream",
     "text": [
      "eigenvalues shape torch.Size([5]) eigenvectors shape torch.Size([5, 1024])\n",
      "41 /home/phdcs2/Hard_Disk/Datasets/Deep-Spectral-Segmentation/data/object-segmentation/ECSSD/features/0043_resized.pth\n",
      "dict_keys(['k', 'indices', 'file', 'id', 'model_name', 'patch_size', 'shape'])\n",
      "0043_resized\n",
      "Starting Training\n",
      "epoch: 00, loss: -0.89144\n",
      "epoch: 01, loss: -0.93640\n",
      "epoch: 02, loss: -0.94773\n",
      "epoch: 03, loss: -0.95396\n",
      "epoch: 04, loss: -0.95824\n",
      "epoch: 05, loss: -0.96136\n",
      "epoch: 06, loss: -0.96378\n",
      "epoch: 07, loss: -0.96573\n",
      "epoch: 08, loss: -0.96729\n",
      "epoch: 09, loss: -0.96863\n",
      "torch.Size([1024, 64])\n"
     ]
    },
    {
     "name": "stderr",
     "output_type": "stream",
     "text": [
      "  4%|▍         | 42/999 [51:01<19:45:24, 74.32s/it]"
     ]
    },
    {
     "name": "stdout",
     "output_type": "stream",
     "text": [
      "eigenvalues shape torch.Size([5]) eigenvectors shape torch.Size([5, 1024])\n",
      "42 /home/phdcs2/Hard_Disk/Datasets/Deep-Spectral-Segmentation/data/object-segmentation/ECSSD/features/0044_resized.pth\n",
      "dict_keys(['k', 'indices', 'file', 'id', 'model_name', 'patch_size', 'shape'])\n",
      "0044_resized\n"
     ]
    },
    {
     "name": "stderr",
     "output_type": "stream",
     "text": [
      "/home/phdcs2/Hard_Disk/Projects/T2I/deep-spectral-segmentation/venv/lib/python3.8/site-packages/sklearn/decomposition/_pca.py:642: RuntimeWarning: invalid value encountered in divide\n",
      "  self.explained_variance_ratio_ = self.explained_variance_ / total_var\n"
     ]
    },
    {
     "name": "stdout",
     "output_type": "stream",
     "text": [
      "Starting Training\n",
      "epoch: 00, loss: -0.91317\n",
      "epoch: 01, loss: -0.94864\n",
      "epoch: 02, loss: -0.95717\n",
      "epoch: 03, loss: -0.96207\n",
      "epoch: 04, loss: -0.96540\n",
      "epoch: 05, loss: -0.96783\n",
      "epoch: 06, loss: -0.96974\n",
      "epoch: 07, loss: -0.97127\n",
      "epoch: 08, loss: -0.97258\n",
      "epoch: 09, loss: -0.97365\n",
      "torch.Size([1024, 64])\n"
     ]
    },
    {
     "name": "stderr",
     "output_type": "stream",
     "text": [
      "  4%|▍         | 43/999 [52:12<19:26:27, 73.21s/it]"
     ]
    },
    {
     "name": "stdout",
     "output_type": "stream",
     "text": [
      "eigenvalues shape torch.Size([5]) eigenvectors shape torch.Size([5, 1024])\n",
      "43 /home/phdcs2/Hard_Disk/Datasets/Deep-Spectral-Segmentation/data/object-segmentation/ECSSD/features/0045_resized.pth\n",
      "dict_keys(['k', 'indices', 'file', 'id', 'model_name', 'patch_size', 'shape'])\n",
      "0045_resized\n"
     ]
    },
    {
     "name": "stderr",
     "output_type": "stream",
     "text": [
      "/home/phdcs2/Hard_Disk/Projects/T2I/deep-spectral-segmentation/venv/lib/python3.8/site-packages/sklearn/decomposition/_pca.py:642: RuntimeWarning: invalid value encountered in divide\n",
      "  self.explained_variance_ratio_ = self.explained_variance_ / total_var\n"
     ]
    },
    {
     "name": "stdout",
     "output_type": "stream",
     "text": [
      "Starting Training\n",
      "epoch: 00, loss: -0.92789\n",
      "epoch: 01, loss: -0.95593\n",
      "epoch: 02, loss: -0.96277\n",
      "epoch: 03, loss: -0.96675\n",
      "epoch: 04, loss: -0.96947\n",
      "epoch: 05, loss: -0.97151\n",
      "epoch: 06, loss: -0.97310\n",
      "epoch: 07, loss: -0.97440\n",
      "epoch: 08, loss: -0.97548\n",
      "epoch: 09, loss: -0.97642\n",
      "torch.Size([1024, 64])\n"
     ]
    },
    {
     "name": "stderr",
     "output_type": "stream",
     "text": [
      "  4%|▍         | 44/999 [53:19<18:55:22, 71.33s/it]"
     ]
    },
    {
     "name": "stdout",
     "output_type": "stream",
     "text": [
      "eigenvalues shape torch.Size([5]) eigenvectors shape torch.Size([5, 1024])\n",
      "44 /home/phdcs2/Hard_Disk/Datasets/Deep-Spectral-Segmentation/data/object-segmentation/ECSSD/features/0046_resized.pth\n",
      "dict_keys(['k', 'indices', 'file', 'id', 'model_name', 'patch_size', 'shape'])\n",
      "0046_resized\n",
      "Starting Training\n",
      "epoch: 00, loss: -0.92641\n",
      "epoch: 01, loss: -0.95666\n",
      "epoch: 02, loss: -0.96333\n",
      "epoch: 03, loss: -0.96725\n",
      "epoch: 04, loss: -0.96990\n",
      "epoch: 05, loss: -0.97191\n",
      "epoch: 06, loss: -0.97349\n",
      "epoch: 07, loss: -0.97477\n",
      "epoch: 08, loss: -0.97583\n",
      "epoch: 09, loss: -0.97676\n",
      "torch.Size([1024, 64])\n"
     ]
    },
    {
     "name": "stderr",
     "output_type": "stream",
     "text": [
      "  5%|▍         | 45/999 [54:22<18:17:14, 69.01s/it]"
     ]
    },
    {
     "name": "stdout",
     "output_type": "stream",
     "text": [
      "eigenvalues shape torch.Size([5]) eigenvectors shape torch.Size([5, 1024])\n",
      "45 /home/phdcs2/Hard_Disk/Datasets/Deep-Spectral-Segmentation/data/object-segmentation/ECSSD/features/0047_resized.pth\n",
      "dict_keys(['k', 'indices', 'file', 'id', 'model_name', 'patch_size', 'shape'])\n",
      "0047_resized\n",
      "Starting Training\n",
      "epoch: 00, loss: -0.85490\n",
      "epoch: 01, loss: -0.91252\n",
      "epoch: 02, loss: -0.92867\n",
      "epoch: 03, loss: -0.93753\n",
      "epoch: 04, loss: -0.94366\n",
      "epoch: 05, loss: -0.94817\n",
      "epoch: 06, loss: -0.95151\n",
      "epoch: 07, loss: -0.95440\n",
      "epoch: 08, loss: -0.95668\n",
      "epoch: 09, loss: -0.95862\n",
      "torch.Size([1024, 64])\n"
     ]
    },
    {
     "name": "stderr",
     "output_type": "stream",
     "text": [
      "  5%|▍         | 46/999 [55:28<17:58:47, 67.92s/it]"
     ]
    },
    {
     "name": "stdout",
     "output_type": "stream",
     "text": [
      "eigenvalues shape torch.Size([5]) eigenvectors shape torch.Size([5, 1024])\n",
      "46 /home/phdcs2/Hard_Disk/Datasets/Deep-Spectral-Segmentation/data/object-segmentation/ECSSD/features/0048_resized.pth\n",
      "dict_keys(['k', 'indices', 'file', 'id', 'model_name', 'patch_size', 'shape'])\n",
      "0048_resized\n",
      "Starting Training\n",
      "epoch: 00, loss: -0.88022\n",
      "epoch: 01, loss: -0.92769\n",
      "epoch: 02, loss: -0.93875\n",
      "epoch: 03, loss: -0.94524\n",
      "epoch: 04, loss: -0.94960\n",
      "epoch: 05, loss: -0.95291\n",
      "epoch: 06, loss: -0.95555\n",
      "epoch: 07, loss: -0.95765\n",
      "epoch: 08, loss: -0.95939\n",
      "epoch: 09, loss: -0.96089\n",
      "torch.Size([1024, 64])\n"
     ]
    },
    {
     "name": "stderr",
     "output_type": "stream",
     "text": [
      "  5%|▍         | 47/999 [56:42<18:28:24, 69.86s/it]"
     ]
    },
    {
     "name": "stdout",
     "output_type": "stream",
     "text": [
      "eigenvalues shape torch.Size([5]) eigenvectors shape torch.Size([5, 1024])\n",
      "47 /home/phdcs2/Hard_Disk/Datasets/Deep-Spectral-Segmentation/data/object-segmentation/ECSSD/features/0049_resized.pth\n",
      "dict_keys(['k', 'indices', 'file', 'id', 'model_name', 'patch_size', 'shape'])\n",
      "0049_resized\n"
     ]
    },
    {
     "name": "stderr",
     "output_type": "stream",
     "text": [
      "/home/phdcs2/Hard_Disk/Projects/T2I/deep-spectral-segmentation/venv/lib/python3.8/site-packages/sklearn/decomposition/_pca.py:642: RuntimeWarning: invalid value encountered in divide\n",
      "  self.explained_variance_ratio_ = self.explained_variance_ / total_var\n"
     ]
    },
    {
     "name": "stdout",
     "output_type": "stream",
     "text": [
      "Starting Training\n",
      "epoch: 00, loss: -0.91603\n",
      "epoch: 01, loss: -0.95148\n",
      "epoch: 02, loss: -0.95931\n",
      "epoch: 03, loss: -0.96378\n",
      "epoch: 04, loss: -0.96684\n",
      "epoch: 05, loss: -0.96912\n",
      "epoch: 06, loss: -0.97089\n",
      "epoch: 07, loss: -0.97234\n",
      "epoch: 08, loss: -0.97355\n",
      "epoch: 09, loss: -0.97456\n",
      "torch.Size([1024, 64])\n"
     ]
    },
    {
     "name": "stderr",
     "output_type": "stream",
     "text": [
      "  5%|▍         | 48/999 [57:48<18:09:41, 68.75s/it]"
     ]
    },
    {
     "name": "stdout",
     "output_type": "stream",
     "text": [
      "eigenvalues shape torch.Size([5]) eigenvectors shape torch.Size([5, 1024])\n",
      "48 /home/phdcs2/Hard_Disk/Datasets/Deep-Spectral-Segmentation/data/object-segmentation/ECSSD/features/0050_resized.pth\n",
      "dict_keys(['k', 'indices', 'file', 'id', 'model_name', 'patch_size', 'shape'])\n",
      "0050_resized\n",
      "Starting Training\n",
      "epoch: 00, loss: -0.90458\n",
      "epoch: 01, loss: -0.94212\n",
      "epoch: 02, loss: -0.95188\n",
      "epoch: 03, loss: -0.95748\n",
      "epoch: 04, loss: -0.96136\n",
      "epoch: 05, loss: -0.96409\n",
      "epoch: 06, loss: -0.96623\n",
      "epoch: 07, loss: -0.96814\n",
      "epoch: 08, loss: -0.96963\n",
      "epoch: 09, loss: -0.97090\n",
      "torch.Size([1024, 64])\n"
     ]
    },
    {
     "name": "stderr",
     "output_type": "stream",
     "text": [
      "  5%|▍         | 49/999 [58:54<17:53:04, 67.77s/it]"
     ]
    },
    {
     "name": "stdout",
     "output_type": "stream",
     "text": [
      "eigenvalues shape torch.Size([5]) eigenvectors shape torch.Size([5, 1024])\n",
      "49 /home/phdcs2/Hard_Disk/Datasets/Deep-Spectral-Segmentation/data/object-segmentation/ECSSD/features/0051_resized.pth\n",
      "dict_keys(['k', 'indices', 'file', 'id', 'model_name', 'patch_size', 'shape'])\n",
      "0051_resized\n",
      "Starting Training\n",
      "epoch: 00, loss: -0.88658\n",
      "epoch: 01, loss: -0.93429\n",
      "epoch: 02, loss: -0.94567\n",
      "epoch: 03, loss: -0.95224\n",
      "epoch: 04, loss: -0.95661\n",
      "epoch: 05, loss: -0.95984\n",
      "epoch: 06, loss: -0.96239\n",
      "epoch: 07, loss: -0.96438\n",
      "epoch: 08, loss: -0.96611\n",
      "epoch: 09, loss: -0.96752\n",
      "torch.Size([1024, 64])\n"
     ]
    },
    {
     "name": "stderr",
     "output_type": "stream",
     "text": [
      "  5%|▌         | 50/999 [59:56<17:25:26, 66.10s/it]"
     ]
    },
    {
     "name": "stdout",
     "output_type": "stream",
     "text": [
      "eigenvalues shape torch.Size([5]) eigenvectors shape torch.Size([5, 1024])\n",
      "50 /home/phdcs2/Hard_Disk/Datasets/Deep-Spectral-Segmentation/data/object-segmentation/ECSSD/features/0052_resized.pth\n",
      "dict_keys(['k', 'indices', 'file', 'id', 'model_name', 'patch_size', 'shape'])\n",
      "0052_resized\n",
      "Starting Training\n",
      "epoch: 00, loss: -0.92576\n",
      "epoch: 01, loss: -0.95306\n",
      "epoch: 02, loss: -0.95976\n",
      "epoch: 03, loss: -0.96363\n",
      "epoch: 04, loss: -0.96636\n",
      "epoch: 05, loss: -0.96840\n",
      "epoch: 06, loss: -0.97002\n",
      "epoch: 07, loss: -0.97134\n",
      "epoch: 08, loss: -0.97242\n",
      "epoch: 09, loss: -0.97341\n",
      "torch.Size([1024, 64])\n"
     ]
    },
    {
     "name": "stderr",
     "output_type": "stream",
     "text": [
      "  5%|▌         | 51/999 [1:00:54<16:48:21, 63.82s/it]"
     ]
    },
    {
     "name": "stdout",
     "output_type": "stream",
     "text": [
      "eigenvalues shape torch.Size([5]) eigenvectors shape torch.Size([5, 1024])\n",
      "51 /home/phdcs2/Hard_Disk/Datasets/Deep-Spectral-Segmentation/data/object-segmentation/ECSSD/features/0053_resized.pth\n",
      "dict_keys(['k', 'indices', 'file', 'id', 'model_name', 'patch_size', 'shape'])\n",
      "0053_resized\n",
      "Starting Training\n",
      "epoch: 00, loss: -0.88101\n",
      "epoch: 01, loss: -0.92943\n",
      "epoch: 02, loss: -0.94168\n",
      "epoch: 03, loss: -0.94844\n",
      "epoch: 04, loss: -0.95319\n",
      "epoch: 05, loss: -0.95656\n",
      "epoch: 06, loss: -0.95916\n",
      "epoch: 07, loss: -0.96135\n",
      "epoch: 08, loss: -0.96330\n",
      "epoch: 09, loss: -0.96474\n",
      "torch.Size([1024, 64])\n"
     ]
    },
    {
     "name": "stderr",
     "output_type": "stream",
     "text": [
      "  5%|▌         | 52/999 [1:01:53<16:24:26, 62.37s/it]"
     ]
    },
    {
     "name": "stdout",
     "output_type": "stream",
     "text": [
      "eigenvalues shape torch.Size([5]) eigenvectors shape torch.Size([5, 1024])\n",
      "52 /home/phdcs2/Hard_Disk/Datasets/Deep-Spectral-Segmentation/data/object-segmentation/ECSSD/features/0054_resized.pth\n",
      "dict_keys(['k', 'indices', 'file', 'id', 'model_name', 'patch_size', 'shape'])\n",
      "0054_resized\n",
      "Starting Training\n",
      "epoch: 00, loss: -0.84260\n",
      "epoch: 01, loss: -0.90694\n",
      "epoch: 02, loss: -0.92312\n",
      "epoch: 03, loss: -0.93219\n",
      "epoch: 04, loss: -0.93842\n",
      "epoch: 05, loss: -0.94308\n",
      "epoch: 06, loss: -0.94670\n",
      "epoch: 07, loss: -0.94947\n",
      "epoch: 08, loss: -0.95175\n",
      "epoch: 09, loss: -0.95370\n",
      "torch.Size([1024, 64])\n"
     ]
    },
    {
     "name": "stderr",
     "output_type": "stream",
     "text": [
      "  5%|▌         | 53/999 [1:03:02<16:51:05, 64.13s/it]"
     ]
    },
    {
     "name": "stdout",
     "output_type": "stream",
     "text": [
      "eigenvalues shape torch.Size([5]) eigenvectors shape torch.Size([5, 1024])\n",
      "53 /home/phdcs2/Hard_Disk/Datasets/Deep-Spectral-Segmentation/data/object-segmentation/ECSSD/features/0055_resized.pth\n",
      "dict_keys(['k', 'indices', 'file', 'id', 'model_name', 'patch_size', 'shape'])\n",
      "0055_resized\n",
      "Starting Training\n",
      "epoch: 00, loss: -0.88796\n",
      "epoch: 01, loss: -0.93280\n",
      "epoch: 02, loss: -0.94391\n",
      "epoch: 03, loss: -0.95035\n",
      "epoch: 04, loss: -0.95469\n",
      "epoch: 05, loss: -0.95786\n",
      "epoch: 06, loss: -0.96035\n",
      "epoch: 07, loss: -0.96234\n",
      "epoch: 08, loss: -0.96403\n",
      "epoch: 09, loss: -0.96543\n",
      "torch.Size([1024, 64])\n"
     ]
    },
    {
     "name": "stderr",
     "output_type": "stream",
     "text": [
      "  5%|▌         | 54/999 [1:04:09<17:06:50, 65.20s/it]"
     ]
    },
    {
     "name": "stdout",
     "output_type": "stream",
     "text": [
      "eigenvalues shape torch.Size([5]) eigenvectors shape torch.Size([5, 1024])\n",
      "54 /home/phdcs2/Hard_Disk/Datasets/Deep-Spectral-Segmentation/data/object-segmentation/ECSSD/features/0056_resized.pth\n",
      "dict_keys(['k', 'indices', 'file', 'id', 'model_name', 'patch_size', 'shape'])\n",
      "0056_resized\n"
     ]
    },
    {
     "name": "stderr",
     "output_type": "stream",
     "text": [
      "/home/phdcs2/Hard_Disk/Projects/T2I/deep-spectral-segmentation/venv/lib/python3.8/site-packages/sklearn/decomposition/_pca.py:642: RuntimeWarning: invalid value encountered in divide\n",
      "  self.explained_variance_ratio_ = self.explained_variance_ / total_var\n"
     ]
    },
    {
     "name": "stdout",
     "output_type": "stream",
     "text": [
      "Starting Training\n",
      "epoch: 00, loss: -0.91220\n",
      "epoch: 01, loss: -0.94746\n",
      "epoch: 02, loss: -0.95575\n",
      "epoch: 03, loss: -0.96049\n",
      "epoch: 04, loss: -0.96378\n",
      "epoch: 05, loss: -0.96619\n",
      "epoch: 06, loss: -0.96809\n",
      "epoch: 07, loss: -0.96965\n",
      "epoch: 08, loss: -0.97095\n",
      "epoch: 09, loss: -0.97206\n",
      "torch.Size([1024, 64])\n"
     ]
    },
    {
     "name": "stderr",
     "output_type": "stream",
     "text": [
      "  6%|▌         | 55/999 [1:05:22<17:39:51, 67.36s/it]"
     ]
    },
    {
     "name": "stdout",
     "output_type": "stream",
     "text": [
      "eigenvalues shape torch.Size([5]) eigenvectors shape torch.Size([5, 1024])\n",
      "55 /home/phdcs2/Hard_Disk/Datasets/Deep-Spectral-Segmentation/data/object-segmentation/ECSSD/features/0057_resized.pth\n",
      "dict_keys(['k', 'indices', 'file', 'id', 'model_name', 'patch_size', 'shape'])\n",
      "0057_resized\n",
      "Starting Training\n",
      "epoch: 00, loss: -0.91664\n",
      "epoch: 01, loss: -0.95127\n",
      "epoch: 02, loss: -0.95906\n",
      "epoch: 03, loss: -0.96352\n",
      "epoch: 04, loss: -0.96656\n",
      "epoch: 05, loss: -0.96882\n",
      "epoch: 06, loss: -0.97059\n",
      "epoch: 07, loss: -0.97200\n",
      "epoch: 08, loss: -0.97322\n",
      "epoch: 09, loss: -0.97422\n",
      "torch.Size([1024, 64])\n"
     ]
    },
    {
     "name": "stderr",
     "output_type": "stream",
     "text": [
      "  6%|▌         | 56/999 [1:06:26<17:22:52, 66.36s/it]"
     ]
    },
    {
     "name": "stdout",
     "output_type": "stream",
     "text": [
      "eigenvalues shape torch.Size([5]) eigenvectors shape torch.Size([5, 1024])\n",
      "56 /home/phdcs2/Hard_Disk/Datasets/Deep-Spectral-Segmentation/data/object-segmentation/ECSSD/features/0058_resized.pth\n",
      "dict_keys(['k', 'indices', 'file', 'id', 'model_name', 'patch_size', 'shape'])\n",
      "0058_resized\n",
      "Starting Training\n",
      "epoch: 00, loss: -0.87596\n",
      "epoch: 01, loss: -0.92613\n",
      "epoch: 02, loss: -0.93939\n",
      "epoch: 03, loss: -0.94677\n",
      "epoch: 04, loss: -0.95174\n",
      "epoch: 05, loss: -0.95549\n",
      "epoch: 06, loss: -0.95827\n",
      "epoch: 07, loss: -0.96056\n",
      "epoch: 08, loss: -0.96248\n",
      "epoch: 09, loss: -0.96408\n",
      "torch.Size([1024, 64])\n"
     ]
    },
    {
     "name": "stderr",
     "output_type": "stream",
     "text": [
      "  6%|▌         | 57/999 [1:07:42<18:07:46, 69.29s/it]"
     ]
    },
    {
     "name": "stdout",
     "output_type": "stream",
     "text": [
      "eigenvalues shape torch.Size([5]) eigenvectors shape torch.Size([5, 1024])\n",
      "57 /home/phdcs2/Hard_Disk/Datasets/Deep-Spectral-Segmentation/data/object-segmentation/ECSSD/features/0059_resized.pth\n",
      "dict_keys(['k', 'indices', 'file', 'id', 'model_name', 'patch_size', 'shape'])\n",
      "0059_resized\n",
      "Starting Training\n",
      "epoch: 00, loss: -0.84910\n",
      "epoch: 01, loss: -0.91426\n",
      "epoch: 02, loss: -0.92977\n",
      "epoch: 03, loss: -0.93825\n",
      "epoch: 04, loss: -0.94398\n",
      "epoch: 05, loss: -0.94801\n",
      "epoch: 06, loss: -0.95124\n",
      "epoch: 07, loss: -0.95379\n",
      "epoch: 08, loss: -0.95594\n",
      "epoch: 09, loss: -0.95772\n",
      "torch.Size([1024, 64])\n"
     ]
    },
    {
     "name": "stderr",
     "output_type": "stream",
     "text": [
      "  6%|▌         | 58/999 [1:08:57<18:34:39, 71.07s/it]"
     ]
    },
    {
     "name": "stdout",
     "output_type": "stream",
     "text": [
      "eigenvalues shape torch.Size([5]) eigenvectors shape torch.Size([5, 1024])\n",
      "58 /home/phdcs2/Hard_Disk/Datasets/Deep-Spectral-Segmentation/data/object-segmentation/ECSSD/features/0060_resized.pth\n",
      "dict_keys(['k', 'indices', 'file', 'id', 'model_name', 'patch_size', 'shape'])\n",
      "0060_resized\n",
      "Starting Training\n",
      "epoch: 00, loss: -0.87002\n",
      "epoch: 01, loss: -0.92560\n",
      "epoch: 02, loss: -0.93950\n",
      "epoch: 03, loss: -0.94715\n",
      "epoch: 04, loss: -0.95216\n",
      "epoch: 05, loss: -0.95595\n",
      "epoch: 06, loss: -0.95877\n",
      "epoch: 07, loss: -0.96111\n",
      "epoch: 08, loss: -0.96302\n",
      "epoch: 09, loss: -0.96466\n",
      "torch.Size([1024, 64])\n"
     ]
    },
    {
     "name": "stderr",
     "output_type": "stream",
     "text": [
      "  6%|▌         | 59/999 [1:10:13<18:54:32, 72.42s/it]"
     ]
    },
    {
     "name": "stdout",
     "output_type": "stream",
     "text": [
      "eigenvalues shape torch.Size([5]) eigenvectors shape torch.Size([5, 1024])\n",
      "59 /home/phdcs2/Hard_Disk/Datasets/Deep-Spectral-Segmentation/data/object-segmentation/ECSSD/features/0061_resized.pth\n",
      "dict_keys(['k', 'indices', 'file', 'id', 'model_name', 'patch_size', 'shape'])\n",
      "0061_resized\n"
     ]
    },
    {
     "name": "stderr",
     "output_type": "stream",
     "text": [
      "/home/phdcs2/Hard_Disk/Projects/T2I/deep-spectral-segmentation/venv/lib/python3.8/site-packages/sklearn/decomposition/_pca.py:642: RuntimeWarning: invalid value encountered in divide\n",
      "  self.explained_variance_ratio_ = self.explained_variance_ / total_var\n"
     ]
    },
    {
     "name": "stdout",
     "output_type": "stream",
     "text": [
      "Starting Training\n",
      "epoch: 00, loss: -0.91206\n",
      "epoch: 01, loss: -0.94721\n",
      "epoch: 02, loss: -0.95473\n",
      "epoch: 03, loss: -0.95921\n",
      "epoch: 04, loss: -0.96231\n",
      "epoch: 05, loss: -0.96457\n",
      "epoch: 06, loss: -0.96638\n",
      "epoch: 07, loss: -0.96789\n",
      "epoch: 08, loss: -0.96915\n",
      "epoch: 09, loss: -0.97021\n",
      "torch.Size([1024, 64])\n"
     ]
    },
    {
     "name": "stderr",
     "output_type": "stream",
     "text": [
      "  6%|▌         | 60/999 [1:11:26<18:58:31, 72.75s/it]"
     ]
    },
    {
     "name": "stdout",
     "output_type": "stream",
     "text": [
      "eigenvalues shape torch.Size([5]) eigenvectors shape torch.Size([5, 1024])\n",
      "60 /home/phdcs2/Hard_Disk/Datasets/Deep-Spectral-Segmentation/data/object-segmentation/ECSSD/features/0062_resized.pth\n",
      "dict_keys(['k', 'indices', 'file', 'id', 'model_name', 'patch_size', 'shape'])\n",
      "0062_resized\n",
      "Starting Training\n",
      "epoch: 00, loss: -0.87679\n",
      "epoch: 01, loss: -0.92704\n",
      "epoch: 02, loss: -0.93942\n",
      "epoch: 03, loss: -0.94636\n",
      "epoch: 04, loss: -0.95087\n",
      "epoch: 05, loss: -0.95443\n",
      "epoch: 06, loss: -0.95708\n",
      "epoch: 07, loss: -0.95918\n",
      "epoch: 08, loss: -0.96101\n",
      "epoch: 09, loss: -0.96255\n",
      "torch.Size([1024, 64])\n"
     ]
    },
    {
     "name": "stderr",
     "output_type": "stream",
     "text": [
      "  6%|▌         | 61/999 [1:12:41<19:07:12, 73.38s/it]"
     ]
    },
    {
     "name": "stdout",
     "output_type": "stream",
     "text": [
      "eigenvalues shape torch.Size([5]) eigenvectors shape torch.Size([5, 1024])\n",
      "61 /home/phdcs2/Hard_Disk/Datasets/Deep-Spectral-Segmentation/data/object-segmentation/ECSSD/features/0063_resized.pth\n",
      "dict_keys(['k', 'indices', 'file', 'id', 'model_name', 'patch_size', 'shape'])\n",
      "0063_resized\n",
      "Starting Training\n",
      "epoch: 00, loss: -0.88488\n",
      "epoch: 01, loss: -0.93226\n",
      "epoch: 02, loss: -0.94352\n",
      "epoch: 03, loss: -0.94985\n",
      "epoch: 04, loss: -0.95406\n",
      "epoch: 05, loss: -0.95712\n",
      "epoch: 06, loss: -0.95964\n",
      "epoch: 07, loss: -0.96166\n",
      "epoch: 08, loss: -0.96332\n",
      "epoch: 09, loss: -0.96468\n",
      "torch.Size([1024, 64])\n"
     ]
    },
    {
     "name": "stderr",
     "output_type": "stream",
     "text": [
      "  6%|▌         | 62/999 [1:13:46<18:26:02, 70.82s/it]"
     ]
    },
    {
     "name": "stdout",
     "output_type": "stream",
     "text": [
      "eigenvalues shape torch.Size([5]) eigenvectors shape torch.Size([5, 1024])\n",
      "62 /home/phdcs2/Hard_Disk/Datasets/Deep-Spectral-Segmentation/data/object-segmentation/ECSSD/features/0064_resized.pth\n",
      "dict_keys(['k', 'indices', 'file', 'id', 'model_name', 'patch_size', 'shape'])\n",
      "0064_resized\n"
     ]
    },
    {
     "name": "stderr",
     "output_type": "stream",
     "text": [
      "/home/phdcs2/Hard_Disk/Projects/T2I/deep-spectral-segmentation/venv/lib/python3.8/site-packages/sklearn/decomposition/_pca.py:642: RuntimeWarning: invalid value encountered in divide\n",
      "  self.explained_variance_ratio_ = self.explained_variance_ / total_var\n"
     ]
    },
    {
     "name": "stdout",
     "output_type": "stream",
     "text": [
      "Starting Training\n",
      "epoch: 00, loss: -0.91598\n",
      "epoch: 01, loss: -0.95169\n",
      "epoch: 02, loss: -0.95947\n",
      "epoch: 03, loss: -0.96397\n",
      "epoch: 04, loss: -0.96707\n",
      "epoch: 05, loss: -0.96935\n",
      "epoch: 06, loss: -0.97113\n",
      "epoch: 07, loss: -0.97260\n",
      "epoch: 08, loss: -0.97382\n",
      "epoch: 09, loss: -0.97485\n",
      "torch.Size([1024, 64])\n"
     ]
    },
    {
     "name": "stderr",
     "output_type": "stream",
     "text": [
      "  6%|▋         | 63/999 [1:15:00<18:41:33, 71.89s/it]"
     ]
    },
    {
     "name": "stdout",
     "output_type": "stream",
     "text": [
      "eigenvalues shape torch.Size([5]) eigenvectors shape torch.Size([5, 1024])\n",
      "63 /home/phdcs2/Hard_Disk/Datasets/Deep-Spectral-Segmentation/data/object-segmentation/ECSSD/features/0065_resized.pth\n",
      "dict_keys(['k', 'indices', 'file', 'id', 'model_name', 'patch_size', 'shape'])\n",
      "0065_resized\n",
      "Starting Training\n",
      "epoch: 00, loss: -0.85517\n",
      "epoch: 01, loss: -0.91115\n",
      "epoch: 02, loss: -0.92622\n",
      "epoch: 03, loss: -0.93497\n",
      "epoch: 04, loss: -0.94086\n",
      "epoch: 05, loss: -0.94531\n",
      "epoch: 06, loss: -0.94859\n",
      "epoch: 07, loss: -0.95140\n",
      "epoch: 08, loss: -0.95358\n",
      "epoch: 09, loss: -0.95556\n",
      "torch.Size([1024, 64])\n"
     ]
    },
    {
     "name": "stderr",
     "output_type": "stream",
     "text": [
      "  6%|▋         | 64/999 [1:16:15<18:53:28, 72.74s/it]"
     ]
    },
    {
     "name": "stdout",
     "output_type": "stream",
     "text": [
      "eigenvalues shape torch.Size([5]) eigenvectors shape torch.Size([5, 1024])\n",
      "64 /home/phdcs2/Hard_Disk/Datasets/Deep-Spectral-Segmentation/data/object-segmentation/ECSSD/features/0066_resized.pth\n",
      "dict_keys(['k', 'indices', 'file', 'id', 'model_name', 'patch_size', 'shape'])\n",
      "0066_resized\n",
      "Starting Training\n",
      "epoch: 00, loss: -0.87593\n",
      "epoch: 01, loss: -0.92870\n",
      "epoch: 02, loss: -0.94132\n",
      "epoch: 03, loss: -0.94836\n",
      "epoch: 04, loss: -0.95326\n",
      "epoch: 05, loss: -0.95662\n",
      "epoch: 06, loss: -0.95943\n",
      "epoch: 07, loss: -0.96138\n",
      "epoch: 08, loss: -0.96321\n",
      "epoch: 09, loss: -0.96474\n",
      "torch.Size([1024, 64])\n"
     ]
    },
    {
     "name": "stderr",
     "output_type": "stream",
     "text": [
      "  7%|▋         | 65/999 [1:17:27<18:50:05, 72.60s/it]"
     ]
    },
    {
     "name": "stdout",
     "output_type": "stream",
     "text": [
      "eigenvalues shape torch.Size([5]) eigenvectors shape torch.Size([5, 1024])\n",
      "65 /home/phdcs2/Hard_Disk/Datasets/Deep-Spectral-Segmentation/data/object-segmentation/ECSSD/features/0067_resized.pth\n",
      "dict_keys(['k', 'indices', 'file', 'id', 'model_name', 'patch_size', 'shape'])\n",
      "0067_resized\n",
      "Starting Training\n",
      "epoch: 00, loss: -0.84334\n",
      "epoch: 01, loss: -0.90403\n",
      "epoch: 02, loss: -0.92054\n",
      "epoch: 03, loss: -0.92989\n",
      "epoch: 04, loss: -0.93625\n",
      "epoch: 05, loss: -0.94101\n",
      "epoch: 06, loss: -0.94467\n",
      "epoch: 07, loss: -0.94762\n",
      "epoch: 08, loss: -0.94999\n",
      "epoch: 09, loss: -0.95209\n",
      "torch.Size([1024, 64])\n"
     ]
    },
    {
     "name": "stderr",
     "output_type": "stream",
     "text": [
      "  7%|▋         | 66/999 [1:18:43<19:04:53, 73.63s/it]"
     ]
    },
    {
     "name": "stdout",
     "output_type": "stream",
     "text": [
      "eigenvalues shape torch.Size([5]) eigenvectors shape torch.Size([5, 1024])\n",
      "66 /home/phdcs2/Hard_Disk/Datasets/Deep-Spectral-Segmentation/data/object-segmentation/ECSSD/features/0068_resized.pth\n",
      "dict_keys(['k', 'indices', 'file', 'id', 'model_name', 'patch_size', 'shape'])\n",
      "0068_resized\n"
     ]
    },
    {
     "name": "stderr",
     "output_type": "stream",
     "text": [
      "/home/phdcs2/Hard_Disk/Projects/T2I/deep-spectral-segmentation/venv/lib/python3.8/site-packages/sklearn/decomposition/_pca.py:642: RuntimeWarning: invalid value encountered in divide\n",
      "  self.explained_variance_ratio_ = self.explained_variance_ / total_var\n"
     ]
    },
    {
     "name": "stdout",
     "output_type": "stream",
     "text": [
      "Starting Training\n",
      "epoch: 00, loss: -0.91266\n",
      "epoch: 01, loss: -0.95088\n",
      "epoch: 02, loss: -0.95888\n",
      "epoch: 03, loss: -0.96345\n",
      "epoch: 04, loss: -0.96657\n",
      "epoch: 05, loss: -0.96883\n",
      "epoch: 06, loss: -0.97063\n",
      "epoch: 07, loss: -0.97207\n",
      "epoch: 08, loss: -0.97329\n",
      "epoch: 09, loss: -0.97432\n",
      "torch.Size([1024, 64])\n"
     ]
    },
    {
     "name": "stderr",
     "output_type": "stream",
     "text": [
      "  7%|▋         | 67/999 [1:19:56<18:59:23, 73.35s/it]"
     ]
    },
    {
     "name": "stdout",
     "output_type": "stream",
     "text": [
      "eigenvalues shape torch.Size([5]) eigenvectors shape torch.Size([5, 1024])\n",
      "67 /home/phdcs2/Hard_Disk/Datasets/Deep-Spectral-Segmentation/data/object-segmentation/ECSSD/features/0069_resized.pth\n",
      "dict_keys(['k', 'indices', 'file', 'id', 'model_name', 'patch_size', 'shape'])\n",
      "0069_resized\n"
     ]
    },
    {
     "name": "stderr",
     "output_type": "stream",
     "text": [
      "/home/phdcs2/Hard_Disk/Projects/T2I/deep-spectral-segmentation/venv/lib/python3.8/site-packages/sklearn/decomposition/_pca.py:642: RuntimeWarning: invalid value encountered in divide\n",
      "  self.explained_variance_ratio_ = self.explained_variance_ / total_var\n"
     ]
    },
    {
     "name": "stdout",
     "output_type": "stream",
     "text": [
      "Starting Training\n",
      "epoch: 00, loss: -0.93124\n",
      "epoch: 01, loss: -0.95980\n",
      "epoch: 02, loss: -0.96595\n",
      "epoch: 03, loss: -0.96951\n",
      "epoch: 04, loss: -0.97201\n",
      "epoch: 05, loss: -0.97383\n",
      "epoch: 06, loss: -0.97526\n",
      "epoch: 07, loss: -0.97644\n",
      "epoch: 08, loss: -0.97744\n",
      "epoch: 09, loss: -0.97826\n",
      "torch.Size([1024, 64])\n"
     ]
    },
    {
     "name": "stderr",
     "output_type": "stream",
     "text": [
      "  7%|▋         | 68/999 [1:21:06<18:43:47, 72.42s/it]"
     ]
    },
    {
     "name": "stdout",
     "output_type": "stream",
     "text": [
      "eigenvalues shape torch.Size([5]) eigenvectors shape torch.Size([5, 1024])\n",
      "68 /home/phdcs2/Hard_Disk/Datasets/Deep-Spectral-Segmentation/data/object-segmentation/ECSSD/features/0070_resized.pth\n",
      "dict_keys(['k', 'indices', 'file', 'id', 'model_name', 'patch_size', 'shape'])\n",
      "0070_resized\n",
      "Starting Training\n",
      "epoch: 00, loss: -0.81594\n",
      "epoch: 01, loss: -0.88856\n",
      "epoch: 02, loss: -0.90892\n",
      "epoch: 03, loss: -0.92037\n",
      "epoch: 04, loss: -0.92814\n",
      "epoch: 05, loss: -0.93370\n",
      "epoch: 06, loss: -0.93813\n",
      "epoch: 07, loss: -0.94180\n",
      "epoch: 08, loss: -0.94471\n",
      "epoch: 09, loss: -0.94704\n",
      "torch.Size([1024, 64])\n"
     ]
    },
    {
     "name": "stderr",
     "output_type": "stream",
     "text": [
      "  7%|▋         | 69/999 [1:22:15<18:27:08, 71.43s/it]"
     ]
    },
    {
     "name": "stdout",
     "output_type": "stream",
     "text": [
      "eigenvalues shape torch.Size([5]) eigenvectors shape torch.Size([5, 1024])\n",
      "69 /home/phdcs2/Hard_Disk/Datasets/Deep-Spectral-Segmentation/data/object-segmentation/ECSSD/features/0071_resized.pth\n",
      "dict_keys(['k', 'indices', 'file', 'id', 'model_name', 'patch_size', 'shape'])\n",
      "0071_resized\n",
      "Starting Training\n",
      "epoch: 00, loss: -0.87562\n",
      "epoch: 01, loss: -0.92947\n",
      "epoch: 02, loss: -0.94220\n",
      "epoch: 03, loss: -0.94913\n",
      "epoch: 04, loss: -0.95396\n",
      "epoch: 05, loss: -0.95739\n",
      "epoch: 06, loss: -0.96008\n",
      "epoch: 07, loss: -0.96224\n",
      "epoch: 08, loss: -0.96409\n",
      "epoch: 09, loss: -0.96561\n",
      "torch.Size([1024, 64])\n"
     ]
    },
    {
     "name": "stderr",
     "output_type": "stream",
     "text": [
      "  7%|▋         | 70/999 [1:23:28<18:32:14, 71.83s/it]"
     ]
    },
    {
     "name": "stdout",
     "output_type": "stream",
     "text": [
      "eigenvalues shape torch.Size([5]) eigenvectors shape torch.Size([5, 1024])\n",
      "70 /home/phdcs2/Hard_Disk/Datasets/Deep-Spectral-Segmentation/data/object-segmentation/ECSSD/features/0072_resized.pth\n",
      "dict_keys(['k', 'indices', 'file', 'id', 'model_name', 'patch_size', 'shape'])\n",
      "0072_resized\n",
      "Starting Training\n",
      "epoch: 00, loss: -0.91669\n",
      "epoch: 01, loss: -0.94994\n",
      "epoch: 02, loss: -0.95815\n",
      "epoch: 03, loss: -0.96288\n",
      "epoch: 04, loss: -0.96615\n",
      "epoch: 05, loss: -0.96854\n",
      "epoch: 06, loss: -0.97044\n",
      "epoch: 07, loss: -0.97201\n",
      "epoch: 08, loss: -0.97329\n",
      "epoch: 09, loss: -0.97433\n",
      "torch.Size([1024, 64])\n"
     ]
    },
    {
     "name": "stderr",
     "output_type": "stream",
     "text": [
      "  7%|▋         | 71/999 [1:24:39<18:26:00, 71.51s/it]"
     ]
    },
    {
     "name": "stdout",
     "output_type": "stream",
     "text": [
      "eigenvalues shape torch.Size([5]) eigenvectors shape torch.Size([5, 1024])\n",
      "71 /home/phdcs2/Hard_Disk/Datasets/Deep-Spectral-Segmentation/data/object-segmentation/ECSSD/features/0073_resized.pth\n",
      "dict_keys(['k', 'indices', 'file', 'id', 'model_name', 'patch_size', 'shape'])\n",
      "0073_resized\n",
      "Starting Training\n",
      "epoch: 00, loss: -0.87636\n",
      "epoch: 01, loss: -0.92420\n",
      "epoch: 02, loss: -0.93747\n",
      "epoch: 03, loss: -0.94496\n",
      "epoch: 04, loss: -0.94997\n",
      "epoch: 05, loss: -0.95365\n",
      "epoch: 06, loss: -0.95672\n",
      "epoch: 07, loss: -0.95907\n",
      "epoch: 08, loss: -0.96095\n",
      "epoch: 09, loss: -0.96270\n",
      "torch.Size([1024, 64])\n"
     ]
    },
    {
     "name": "stderr",
     "output_type": "stream",
     "text": [
      "  7%|▋         | 72/999 [1:25:48<18:15:09, 70.88s/it]"
     ]
    },
    {
     "name": "stdout",
     "output_type": "stream",
     "text": [
      "eigenvalues shape torch.Size([5]) eigenvectors shape torch.Size([5, 1024])\n",
      "72 /home/phdcs2/Hard_Disk/Datasets/Deep-Spectral-Segmentation/data/object-segmentation/ECSSD/features/0074_resized.pth\n",
      "dict_keys(['k', 'indices', 'file', 'id', 'model_name', 'patch_size', 'shape'])\n",
      "0074_resized\n"
     ]
    },
    {
     "name": "stderr",
     "output_type": "stream",
     "text": [
      "/home/phdcs2/Hard_Disk/Projects/T2I/deep-spectral-segmentation/venv/lib/python3.8/site-packages/sklearn/decomposition/_pca.py:642: RuntimeWarning: invalid value encountered in divide\n",
      "  self.explained_variance_ratio_ = self.explained_variance_ / total_var\n"
     ]
    },
    {
     "name": "stdout",
     "output_type": "stream",
     "text": [
      "Starting Training\n",
      "epoch: 00, loss: -0.91962\n",
      "epoch: 01, loss: -0.95286\n",
      "epoch: 02, loss: -0.96036\n",
      "epoch: 03, loss: -0.96469\n",
      "epoch: 04, loss: -0.96761\n",
      "epoch: 05, loss: -0.96979\n",
      "epoch: 06, loss: -0.97146\n",
      "epoch: 07, loss: -0.97281\n",
      "epoch: 08, loss: -0.97396\n",
      "epoch: 09, loss: -0.97492\n",
      "torch.Size([1024, 64])\n"
     ]
    },
    {
     "name": "stderr",
     "output_type": "stream",
     "text": [
      "  7%|▋         | 73/999 [1:27:00<18:17:41, 71.12s/it]"
     ]
    },
    {
     "name": "stdout",
     "output_type": "stream",
     "text": [
      "eigenvalues shape torch.Size([5]) eigenvectors shape torch.Size([5, 1024])\n",
      "73 /home/phdcs2/Hard_Disk/Datasets/Deep-Spectral-Segmentation/data/object-segmentation/ECSSD/features/0075_resized.pth\n",
      "dict_keys(['k', 'indices', 'file', 'id', 'model_name', 'patch_size', 'shape'])\n",
      "0075_resized\n",
      "Starting Training\n",
      "epoch: 00, loss: -0.86354\n",
      "epoch: 01, loss: -0.91789\n",
      "epoch: 02, loss: -0.93147\n",
      "epoch: 03, loss: -0.93931\n",
      "epoch: 04, loss: -0.94456\n",
      "epoch: 05, loss: -0.94830\n",
      "epoch: 06, loss: -0.95136\n",
      "epoch: 07, loss: -0.95391\n",
      "epoch: 08, loss: -0.95582\n",
      "epoch: 09, loss: -0.95751\n",
      "torch.Size([1024, 64])\n"
     ]
    },
    {
     "name": "stderr",
     "output_type": "stream",
     "text": [
      "  7%|▋         | 74/999 [1:28:10<18:12:09, 70.84s/it]"
     ]
    },
    {
     "name": "stdout",
     "output_type": "stream",
     "text": [
      "eigenvalues shape torch.Size([5]) eigenvectors shape torch.Size([5, 1024])\n",
      "74 /home/phdcs2/Hard_Disk/Datasets/Deep-Spectral-Segmentation/data/object-segmentation/ECSSD/features/0076_resized.pth\n",
      "dict_keys(['k', 'indices', 'file', 'id', 'model_name', 'patch_size', 'shape'])\n",
      "0076_resized\n",
      "Starting Training\n",
      "epoch: 00, loss: -0.87473\n",
      "epoch: 01, loss: -0.92808\n",
      "epoch: 02, loss: -0.94046\n",
      "epoch: 03, loss: -0.94736\n",
      "epoch: 04, loss: -0.95208\n",
      "epoch: 05, loss: -0.95546\n",
      "epoch: 06, loss: -0.95806\n",
      "epoch: 07, loss: -0.96018\n",
      "epoch: 08, loss: -0.96201\n",
      "epoch: 09, loss: -0.96347\n",
      "torch.Size([1024, 64])\n"
     ]
    },
    {
     "name": "stderr",
     "output_type": "stream",
     "text": [
      "  8%|▊         | 75/999 [1:29:16<17:49:43, 69.46s/it]"
     ]
    },
    {
     "name": "stdout",
     "output_type": "stream",
     "text": [
      "eigenvalues shape torch.Size([5]) eigenvectors shape torch.Size([5, 1024])\n",
      "75 /home/phdcs2/Hard_Disk/Datasets/Deep-Spectral-Segmentation/data/object-segmentation/ECSSD/features/0077_resized.pth\n",
      "dict_keys(['k', 'indices', 'file', 'id', 'model_name', 'patch_size', 'shape'])\n",
      "0077_resized\n",
      "Starting Training\n",
      "epoch: 00, loss: -0.92219\n",
      "epoch: 01, loss: -0.95337\n",
      "epoch: 02, loss: -0.96013\n",
      "epoch: 03, loss: -0.96395\n",
      "epoch: 04, loss: -0.96668\n",
      "epoch: 05, loss: -0.96867\n",
      "epoch: 06, loss: -0.97026\n",
      "epoch: 07, loss: -0.97151\n",
      "epoch: 08, loss: -0.97262\n",
      "epoch: 09, loss: -0.97352\n",
      "torch.Size([1024, 64])\n"
     ]
    },
    {
     "name": "stderr",
     "output_type": "stream",
     "text": [
      "  8%|▊         | 76/999 [1:30:29<18:02:20, 70.36s/it]"
     ]
    },
    {
     "name": "stdout",
     "output_type": "stream",
     "text": [
      "eigenvalues shape torch.Size([5]) eigenvectors shape torch.Size([5, 1024])\n",
      "76 /home/phdcs2/Hard_Disk/Datasets/Deep-Spectral-Segmentation/data/object-segmentation/ECSSD/features/0078_resized.pth\n",
      "dict_keys(['k', 'indices', 'file', 'id', 'model_name', 'patch_size', 'shape'])\n",
      "0078_resized\n"
     ]
    },
    {
     "name": "stderr",
     "output_type": "stream",
     "text": [
      "/home/phdcs2/Hard_Disk/Projects/T2I/deep-spectral-segmentation/venv/lib/python3.8/site-packages/sklearn/decomposition/_pca.py:642: RuntimeWarning: invalid value encountered in divide\n",
      "  self.explained_variance_ratio_ = self.explained_variance_ / total_var\n"
     ]
    },
    {
     "name": "stdout",
     "output_type": "stream",
     "text": [
      "Starting Training\n",
      "epoch: 00, loss: -0.91939\n",
      "epoch: 01, loss: -0.95193\n",
      "epoch: 02, loss: -0.95940\n",
      "epoch: 03, loss: -0.96365\n",
      "epoch: 04, loss: -0.96656\n",
      "epoch: 05, loss: -0.96867\n",
      "epoch: 06, loss: -0.97037\n",
      "epoch: 07, loss: -0.97175\n",
      "epoch: 08, loss: -0.97288\n",
      "epoch: 09, loss: -0.97388\n",
      "torch.Size([1024, 64])\n"
     ]
    },
    {
     "name": "stderr",
     "output_type": "stream",
     "text": [
      "  8%|▊         | 77/999 [1:31:42<18:14:13, 71.21s/it]"
     ]
    },
    {
     "name": "stdout",
     "output_type": "stream",
     "text": [
      "eigenvalues shape torch.Size([5]) eigenvectors shape torch.Size([5, 1024])\n",
      "77 /home/phdcs2/Hard_Disk/Datasets/Deep-Spectral-Segmentation/data/object-segmentation/ECSSD/features/0079_resized.pth\n",
      "dict_keys(['k', 'indices', 'file', 'id', 'model_name', 'patch_size', 'shape'])\n",
      "0079_resized\n",
      "Starting Training\n",
      "epoch: 00, loss: -0.86706\n",
      "epoch: 01, loss: -0.92172\n",
      "epoch: 02, loss: -0.93468\n",
      "epoch: 03, loss: -0.94219\n",
      "epoch: 04, loss: -0.94715\n",
      "epoch: 05, loss: -0.95071\n",
      "epoch: 06, loss: -0.95354\n",
      "epoch: 07, loss: -0.95576\n",
      "epoch: 08, loss: -0.95764\n",
      "epoch: 09, loss: -0.95932\n",
      "torch.Size([1024, 64])\n"
     ]
    },
    {
     "name": "stderr",
     "output_type": "stream",
     "text": [
      "  8%|▊         | 78/999 [1:32:56<18:23:48, 71.91s/it]"
     ]
    },
    {
     "name": "stdout",
     "output_type": "stream",
     "text": [
      "eigenvalues shape torch.Size([5]) eigenvectors shape torch.Size([5, 1024])\n",
      "78 /home/phdcs2/Hard_Disk/Datasets/Deep-Spectral-Segmentation/data/object-segmentation/ECSSD/features/0080_resized.pth\n",
      "dict_keys(['k', 'indices', 'file', 'id', 'model_name', 'patch_size', 'shape'])\n",
      "0080_resized\n"
     ]
    },
    {
     "name": "stderr",
     "output_type": "stream",
     "text": [
      "/home/phdcs2/Hard_Disk/Projects/T2I/deep-spectral-segmentation/venv/lib/python3.8/site-packages/sklearn/decomposition/_pca.py:642: RuntimeWarning: invalid value encountered in divide\n",
      "  self.explained_variance_ratio_ = self.explained_variance_ / total_var\n"
     ]
    },
    {
     "name": "stdout",
     "output_type": "stream",
     "text": [
      "Starting Training\n",
      "epoch: 00, loss: -0.93403\n",
      "epoch: 01, loss: -0.96122\n",
      "epoch: 02, loss: -0.96700\n",
      "epoch: 03, loss: -0.97036\n",
      "epoch: 04, loss: -0.97269\n",
      "epoch: 05, loss: -0.97440\n",
      "epoch: 06, loss: -0.97575\n",
      "epoch: 07, loss: -0.97684\n",
      "epoch: 08, loss: -0.97778\n",
      "epoch: 09, loss: -0.97857\n",
      "torch.Size([1024, 64])\n"
     ]
    },
    {
     "name": "stderr",
     "output_type": "stream",
     "text": [
      "  8%|▊         | 79/999 [1:34:08<18:24:23, 72.03s/it]"
     ]
    },
    {
     "name": "stdout",
     "output_type": "stream",
     "text": [
      "eigenvalues shape torch.Size([5]) eigenvectors shape torch.Size([5, 1024])\n",
      "79 /home/phdcs2/Hard_Disk/Datasets/Deep-Spectral-Segmentation/data/object-segmentation/ECSSD/features/0081_resized.pth\n",
      "dict_keys(['k', 'indices', 'file', 'id', 'model_name', 'patch_size', 'shape'])\n",
      "0081_resized\n",
      "Starting Training\n",
      "epoch: 00, loss: -0.86520\n",
      "epoch: 01, loss: -0.91927\n",
      "epoch: 02, loss: -0.93288\n",
      "epoch: 03, loss: -0.94049\n",
      "epoch: 04, loss: -0.94586\n",
      "epoch: 05, loss: -0.94958\n",
      "epoch: 06, loss: -0.95250\n",
      "epoch: 07, loss: -0.95479\n",
      "epoch: 08, loss: -0.95670\n",
      "epoch: 09, loss: -0.95843\n",
      "torch.Size([1024, 64])\n"
     ]
    },
    {
     "name": "stderr",
     "output_type": "stream",
     "text": [
      "  8%|▊         | 80/999 [1:35:25<18:45:35, 73.49s/it]"
     ]
    },
    {
     "name": "stdout",
     "output_type": "stream",
     "text": [
      "eigenvalues shape torch.Size([5]) eigenvectors shape torch.Size([5, 1024])\n",
      "80 /home/phdcs2/Hard_Disk/Datasets/Deep-Spectral-Segmentation/data/object-segmentation/ECSSD/features/0082_resized.pth\n",
      "dict_keys(['k', 'indices', 'file', 'id', 'model_name', 'patch_size', 'shape'])\n",
      "0082_resized\n",
      "Starting Training\n",
      "epoch: 00, loss: -0.90225\n",
      "epoch: 01, loss: -0.94102\n",
      "epoch: 02, loss: -0.95017\n",
      "epoch: 03, loss: -0.95542\n",
      "epoch: 04, loss: -0.95907\n",
      "epoch: 05, loss: -0.96174\n",
      "epoch: 06, loss: -0.96387\n",
      "epoch: 07, loss: -0.96563\n",
      "epoch: 08, loss: -0.96707\n",
      "epoch: 09, loss: -0.96832\n",
      "torch.Size([1024, 64])\n"
     ]
    },
    {
     "name": "stderr",
     "output_type": "stream",
     "text": [
      "  8%|▊         | 81/999 [1:36:38<18:42:55, 73.39s/it]"
     ]
    },
    {
     "name": "stdout",
     "output_type": "stream",
     "text": [
      "eigenvalues shape torch.Size([5]) eigenvectors shape torch.Size([5, 1024])\n",
      "81 /home/phdcs2/Hard_Disk/Datasets/Deep-Spectral-Segmentation/data/object-segmentation/ECSSD/features/0083_resized.pth\n",
      "dict_keys(['k', 'indices', 'file', 'id', 'model_name', 'patch_size', 'shape'])\n",
      "0083_resized\n",
      "Starting Training\n",
      "epoch: 00, loss: -0.88656\n",
      "epoch: 01, loss: -0.93144\n",
      "epoch: 02, loss: -0.94291\n",
      "epoch: 03, loss: -0.94966\n",
      "epoch: 04, loss: -0.95414\n",
      "epoch: 05, loss: -0.95747\n",
      "epoch: 06, loss: -0.96002\n",
      "epoch: 07, loss: -0.96216\n",
      "epoch: 08, loss: -0.96392\n",
      "epoch: 09, loss: -0.96534\n",
      "torch.Size([1024, 64])\n"
     ]
    },
    {
     "name": "stderr",
     "output_type": "stream",
     "text": [
      "  8%|▊         | 82/999 [1:37:49<18:31:01, 72.69s/it]"
     ]
    },
    {
     "name": "stdout",
     "output_type": "stream",
     "text": [
      "eigenvalues shape torch.Size([5]) eigenvectors shape torch.Size([5, 1024])\n",
      "82 /home/phdcs2/Hard_Disk/Datasets/Deep-Spectral-Segmentation/data/object-segmentation/ECSSD/features/0084_resized.pth\n",
      "dict_keys(['k', 'indices', 'file', 'id', 'model_name', 'patch_size', 'shape'])\n",
      "0084_resized\n",
      "Starting Training\n",
      "epoch: 00, loss: -0.87644\n",
      "epoch: 01, loss: -0.92600\n",
      "epoch: 02, loss: -0.93860\n",
      "epoch: 03, loss: -0.94555\n",
      "epoch: 04, loss: -0.95023\n",
      "epoch: 05, loss: -0.95380\n",
      "epoch: 06, loss: -0.95635\n",
      "epoch: 07, loss: -0.95847\n",
      "epoch: 08, loss: -0.96022\n",
      "epoch: 09, loss: -0.96176\n",
      "torch.Size([1024, 64])\n"
     ]
    },
    {
     "name": "stderr",
     "output_type": "stream",
     "text": [
      "  8%|▊         | 83/999 [1:38:59<18:16:34, 71.83s/it]"
     ]
    },
    {
     "name": "stdout",
     "output_type": "stream",
     "text": [
      "eigenvalues shape torch.Size([5]) eigenvectors shape torch.Size([5, 1024])\n",
      "83 /home/phdcs2/Hard_Disk/Datasets/Deep-Spectral-Segmentation/data/object-segmentation/ECSSD/features/0085_resized.pth\n",
      "dict_keys(['k', 'indices', 'file', 'id', 'model_name', 'patch_size', 'shape'])\n",
      "0085_resized\n"
     ]
    },
    {
     "name": "stderr",
     "output_type": "stream",
     "text": [
      "/home/phdcs2/Hard_Disk/Projects/T2I/deep-spectral-segmentation/venv/lib/python3.8/site-packages/sklearn/decomposition/_pca.py:642: RuntimeWarning: invalid value encountered in divide\n",
      "  self.explained_variance_ratio_ = self.explained_variance_ / total_var\n"
     ]
    },
    {
     "name": "stdout",
     "output_type": "stream",
     "text": [
      "Starting Training\n",
      "epoch: 00, loss: -0.92286\n",
      "epoch: 01, loss: -0.95651\n",
      "epoch: 02, loss: -0.96333\n",
      "epoch: 03, loss: -0.96727\n",
      "epoch: 04, loss: -0.96991\n",
      "epoch: 05, loss: -0.97190\n",
      "epoch: 06, loss: -0.97343\n",
      "epoch: 07, loss: -0.97469\n",
      "epoch: 08, loss: -0.97574\n",
      "epoch: 09, loss: -0.97663\n",
      "torch.Size([1024, 64])\n"
     ]
    },
    {
     "name": "stderr",
     "output_type": "stream",
     "text": [
      "  8%|▊         | 84/999 [1:40:07<17:57:25, 70.65s/it]"
     ]
    },
    {
     "name": "stdout",
     "output_type": "stream",
     "text": [
      "eigenvalues shape torch.Size([5]) eigenvectors shape torch.Size([5, 1024])\n",
      "84 /home/phdcs2/Hard_Disk/Datasets/Deep-Spectral-Segmentation/data/object-segmentation/ECSSD/features/0086_resized.pth\n",
      "dict_keys(['k', 'indices', 'file', 'id', 'model_name', 'patch_size', 'shape'])\n",
      "0086_resized\n",
      "Starting Training\n",
      "epoch: 00, loss: -0.91466\n",
      "epoch: 01, loss: -0.94844\n",
      "epoch: 02, loss: -0.95653\n",
      "epoch: 03, loss: -0.96119\n",
      "epoch: 04, loss: -0.96438\n",
      "epoch: 05, loss: -0.96674\n",
      "epoch: 06, loss: -0.96861\n",
      "epoch: 07, loss: -0.97010\n",
      "epoch: 08, loss: -0.97139\n",
      "epoch: 09, loss: -0.97246\n",
      "torch.Size([1024, 64])\n"
     ]
    },
    {
     "name": "stderr",
     "output_type": "stream",
     "text": [
      "  9%|▊         | 85/999 [1:41:21<18:10:33, 71.59s/it]"
     ]
    },
    {
     "name": "stdout",
     "output_type": "stream",
     "text": [
      "eigenvalues shape torch.Size([5]) eigenvectors shape torch.Size([5, 1024])\n",
      "85 /home/phdcs2/Hard_Disk/Datasets/Deep-Spectral-Segmentation/data/object-segmentation/ECSSD/features/0087_resized.pth\n",
      "dict_keys(['k', 'indices', 'file', 'id', 'model_name', 'patch_size', 'shape'])\n",
      "0087_resized\n",
      "Starting Training\n",
      "epoch: 00, loss: -0.88344\n",
      "epoch: 01, loss: -0.93228\n",
      "epoch: 02, loss: -0.94439\n",
      "epoch: 03, loss: -0.95137\n",
      "epoch: 04, loss: -0.95603\n",
      "epoch: 05, loss: -0.95951\n",
      "epoch: 06, loss: -0.96218\n",
      "epoch: 07, loss: -0.96418\n",
      "epoch: 08, loss: -0.96603\n",
      "epoch: 09, loss: -0.96754\n",
      "torch.Size([1024, 64])\n"
     ]
    },
    {
     "name": "stderr",
     "output_type": "stream",
     "text": [
      "  9%|▊         | 86/999 [1:42:35<18:20:43, 72.34s/it]"
     ]
    },
    {
     "name": "stdout",
     "output_type": "stream",
     "text": [
      "eigenvalues shape torch.Size([5]) eigenvectors shape torch.Size([5, 1024])\n",
      "86 /home/phdcs2/Hard_Disk/Datasets/Deep-Spectral-Segmentation/data/object-segmentation/ECSSD/features/0088_resized.pth\n",
      "dict_keys(['k', 'indices', 'file', 'id', 'model_name', 'patch_size', 'shape'])\n",
      "0088_resized\n",
      "Starting Training\n",
      "epoch: 00, loss: -0.86223\n",
      "epoch: 01, loss: -0.91451\n",
      "epoch: 02, loss: -0.92840\n",
      "epoch: 03, loss: -0.93668\n",
      "epoch: 04, loss: -0.94202\n",
      "epoch: 05, loss: -0.94589\n",
      "epoch: 06, loss: -0.94892\n",
      "epoch: 07, loss: -0.95152\n",
      "epoch: 08, loss: -0.95368\n",
      "epoch: 09, loss: -0.95543\n",
      "torch.Size([1024, 64])\n"
     ]
    },
    {
     "name": "stderr",
     "output_type": "stream",
     "text": [
      "  9%|▊         | 87/999 [1:43:49<18:29:58, 73.02s/it]"
     ]
    },
    {
     "name": "stdout",
     "output_type": "stream",
     "text": [
      "eigenvalues shape torch.Size([5]) eigenvectors shape torch.Size([5, 1024])\n",
      "87 /home/phdcs2/Hard_Disk/Datasets/Deep-Spectral-Segmentation/data/object-segmentation/ECSSD/features/0089_resized.pth\n",
      "dict_keys(['k', 'indices', 'file', 'id', 'model_name', 'patch_size', 'shape'])\n",
      "0089_resized\n",
      "Starting Training\n",
      "epoch: 00, loss: -0.86404\n",
      "epoch: 01, loss: -0.91981\n",
      "epoch: 02, loss: -0.93464\n",
      "epoch: 03, loss: -0.94322\n",
      "epoch: 04, loss: -0.94871\n",
      "epoch: 05, loss: -0.95277\n",
      "epoch: 06, loss: -0.95590\n",
      "epoch: 07, loss: -0.95840\n",
      "epoch: 08, loss: -0.96045\n",
      "epoch: 09, loss: -0.96225\n",
      "torch.Size([1024, 64])\n"
     ]
    },
    {
     "name": "stderr",
     "output_type": "stream",
     "text": [
      "  9%|▉         | 88/999 [1:45:07<18:50:57, 74.49s/it]"
     ]
    },
    {
     "name": "stdout",
     "output_type": "stream",
     "text": [
      "eigenvalues shape torch.Size([5]) eigenvectors shape torch.Size([5, 1024])\n",
      "88 /home/phdcs2/Hard_Disk/Datasets/Deep-Spectral-Segmentation/data/object-segmentation/ECSSD/features/0090_resized.pth\n",
      "dict_keys(['k', 'indices', 'file', 'id', 'model_name', 'patch_size', 'shape'])\n",
      "0090_resized\n"
     ]
    },
    {
     "name": "stderr",
     "output_type": "stream",
     "text": [
      "/home/phdcs2/Hard_Disk/Projects/T2I/deep-spectral-segmentation/venv/lib/python3.8/site-packages/sklearn/decomposition/_pca.py:642: RuntimeWarning: invalid value encountered in divide\n",
      "  self.explained_variance_ratio_ = self.explained_variance_ / total_var\n"
     ]
    },
    {
     "name": "stdout",
     "output_type": "stream",
     "text": [
      "Starting Training\n",
      "epoch: 00, loss: -0.91938\n",
      "epoch: 01, loss: -0.94996\n",
      "epoch: 02, loss: -0.95757\n",
      "epoch: 03, loss: -0.96206\n",
      "epoch: 04, loss: -0.96512\n",
      "epoch: 05, loss: -0.96738\n",
      "epoch: 06, loss: -0.96921\n",
      "epoch: 07, loss: -0.97065\n",
      "epoch: 08, loss: -0.97191\n",
      "epoch: 09, loss: -0.97296\n",
      "torch.Size([1024, 64])\n"
     ]
    },
    {
     "name": "stderr",
     "output_type": "stream",
     "text": [
      "  9%|▉         | 89/999 [1:46:16<18:23:44, 72.77s/it]"
     ]
    },
    {
     "name": "stdout",
     "output_type": "stream",
     "text": [
      "eigenvalues shape torch.Size([5]) eigenvectors shape torch.Size([5, 1024])\n",
      "89 /home/phdcs2/Hard_Disk/Datasets/Deep-Spectral-Segmentation/data/object-segmentation/ECSSD/features/0091_resized.pth\n",
      "dict_keys(['k', 'indices', 'file', 'id', 'model_name', 'patch_size', 'shape'])\n",
      "0091_resized\n",
      "Starting Training\n",
      "epoch: 00, loss: -0.91760\n",
      "epoch: 01, loss: -0.94694\n",
      "epoch: 02, loss: -0.95505\n",
      "epoch: 03, loss: -0.95982\n",
      "epoch: 04, loss: -0.96307\n",
      "epoch: 05, loss: -0.96556\n",
      "epoch: 06, loss: -0.96749\n",
      "epoch: 07, loss: -0.96912\n",
      "epoch: 08, loss: -0.97041\n",
      "epoch: 09, loss: -0.97156\n",
      "torch.Size([1024, 64])\n"
     ]
    },
    {
     "name": "stderr",
     "output_type": "stream",
     "text": [
      "  9%|▉         | 90/999 [1:47:40<19:12:23, 76.07s/it]"
     ]
    },
    {
     "name": "stdout",
     "output_type": "stream",
     "text": [
      "eigenvalues shape torch.Size([5]) eigenvectors shape torch.Size([5, 1024])\n",
      "90 /home/phdcs2/Hard_Disk/Datasets/Deep-Spectral-Segmentation/data/object-segmentation/ECSSD/features/0092_resized.pth\n",
      "dict_keys(['k', 'indices', 'file', 'id', 'model_name', 'patch_size', 'shape'])\n",
      "0092_resized\n",
      "Starting Training\n",
      "epoch: 00, loss: -0.86718\n",
      "epoch: 01, loss: -0.92101\n",
      "epoch: 02, loss: -0.93494\n",
      "epoch: 03, loss: -0.94246\n",
      "epoch: 04, loss: -0.94787\n",
      "epoch: 05, loss: -0.95177\n",
      "epoch: 06, loss: -0.95477\n",
      "epoch: 07, loss: -0.95715\n",
      "epoch: 08, loss: -0.95917\n",
      "epoch: 09, loss: -0.96070\n",
      "torch.Size([1024, 64])\n"
     ]
    },
    {
     "name": "stderr",
     "output_type": "stream",
     "text": [
      "  9%|▉         | 91/999 [1:49:03<19:42:42, 78.15s/it]"
     ]
    },
    {
     "name": "stdout",
     "output_type": "stream",
     "text": [
      "eigenvalues shape torch.Size([5]) eigenvectors shape torch.Size([5, 1024])\n",
      "91 /home/phdcs2/Hard_Disk/Datasets/Deep-Spectral-Segmentation/data/object-segmentation/ECSSD/features/0093_resized.pth\n",
      "dict_keys(['k', 'indices', 'file', 'id', 'model_name', 'patch_size', 'shape'])\n",
      "0093_resized\n"
     ]
    },
    {
     "name": "stderr",
     "output_type": "stream",
     "text": [
      "/home/phdcs2/Hard_Disk/Projects/T2I/deep-spectral-segmentation/venv/lib/python3.8/site-packages/sklearn/decomposition/_pca.py:642: RuntimeWarning: invalid value encountered in divide\n",
      "  self.explained_variance_ratio_ = self.explained_variance_ / total_var\n"
     ]
    },
    {
     "name": "stdout",
     "output_type": "stream",
     "text": [
      "Starting Training\n",
      "epoch: 00, loss: -0.91709\n",
      "epoch: 01, loss: -0.95259\n",
      "epoch: 02, loss: -0.96033\n",
      "epoch: 03, loss: -0.96478\n",
      "epoch: 04, loss: -0.96780\n",
      "epoch: 05, loss: -0.97007\n",
      "epoch: 06, loss: -0.97181\n",
      "epoch: 07, loss: -0.97325\n",
      "epoch: 08, loss: -0.97444\n",
      "epoch: 09, loss: -0.97547\n",
      "torch.Size([1024, 64])\n"
     ]
    },
    {
     "name": "stderr",
     "output_type": "stream",
     "text": [
      "  9%|▉         | 92/999 [1:50:26<20:02:41, 79.56s/it]"
     ]
    },
    {
     "name": "stdout",
     "output_type": "stream",
     "text": [
      "eigenvalues shape torch.Size([5]) eigenvectors shape torch.Size([5, 1024])\n",
      "92 /home/phdcs2/Hard_Disk/Datasets/Deep-Spectral-Segmentation/data/object-segmentation/ECSSD/features/0094_resized.pth\n",
      "dict_keys(['k', 'indices', 'file', 'id', 'model_name', 'patch_size', 'shape'])\n",
      "0094_resized\n",
      "Starting Training\n",
      "epoch: 00, loss: -0.92255\n",
      "epoch: 01, loss: -0.95273\n",
      "epoch: 02, loss: -0.95987\n",
      "epoch: 03, loss: -0.96406\n",
      "epoch: 04, loss: -0.96692\n",
      "epoch: 05, loss: -0.96909\n",
      "epoch: 06, loss: -0.97077\n",
      "epoch: 07, loss: -0.97215\n",
      "epoch: 08, loss: -0.97331\n",
      "epoch: 09, loss: -0.97428\n",
      "torch.Size([1024, 64])\n"
     ]
    },
    {
     "name": "stderr",
     "output_type": "stream",
     "text": [
      "  9%|▉         | 93/999 [1:51:47<20:10:29, 80.17s/it]"
     ]
    },
    {
     "name": "stdout",
     "output_type": "stream",
     "text": [
      "eigenvalues shape torch.Size([5]) eigenvectors shape torch.Size([5, 1024])\n",
      "93 /home/phdcs2/Hard_Disk/Datasets/Deep-Spectral-Segmentation/data/object-segmentation/ECSSD/features/0095_resized.pth\n",
      "dict_keys(['k', 'indices', 'file', 'id', 'model_name', 'patch_size', 'shape'])\n",
      "0095_resized\n",
      "Starting Training\n",
      "epoch: 00, loss: -0.91262\n",
      "epoch: 01, loss: -0.94649\n",
      "epoch: 02, loss: -0.95521\n",
      "epoch: 03, loss: -0.96032\n",
      "epoch: 04, loss: -0.96379\n",
      "epoch: 05, loss: -0.96637\n",
      "epoch: 06, loss: -0.96839\n",
      "epoch: 07, loss: -0.97001\n",
      "epoch: 08, loss: -0.97138\n",
      "epoch: 09, loss: -0.97254\n",
      "torch.Size([1024, 64])\n"
     ]
    },
    {
     "name": "stderr",
     "output_type": "stream",
     "text": [
      "  9%|▉         | 94/999 [1:53:08<20:11:01, 80.29s/it]"
     ]
    },
    {
     "name": "stdout",
     "output_type": "stream",
     "text": [
      "eigenvalues shape torch.Size([5]) eigenvectors shape torch.Size([5, 1024])\n",
      "94 /home/phdcs2/Hard_Disk/Datasets/Deep-Spectral-Segmentation/data/object-segmentation/ECSSD/features/0096_resized.pth\n",
      "dict_keys(['k', 'indices', 'file', 'id', 'model_name', 'patch_size', 'shape'])\n",
      "0096_resized\n",
      "Starting Training\n",
      "epoch: 00, loss: -0.85692\n",
      "epoch: 01, loss: -0.91862\n",
      "epoch: 02, loss: -0.93270\n",
      "epoch: 03, loss: -0.94064\n",
      "epoch: 04, loss: -0.94586\n",
      "epoch: 05, loss: -0.94980\n",
      "epoch: 06, loss: -0.95284\n",
      "epoch: 07, loss: -0.95525\n",
      "epoch: 08, loss: -0.95721\n",
      "epoch: 09, loss: -0.95886\n",
      "torch.Size([1024, 64])\n"
     ]
    },
    {
     "name": "stderr",
     "output_type": "stream",
     "text": [
      " 10%|▉         | 95/999 [1:54:18<19:25:05, 77.33s/it]"
     ]
    },
    {
     "name": "stdout",
     "output_type": "stream",
     "text": [
      "eigenvalues shape torch.Size([5]) eigenvectors shape torch.Size([5, 1024])\n",
      "95 /home/phdcs2/Hard_Disk/Datasets/Deep-Spectral-Segmentation/data/object-segmentation/ECSSD/features/0097_resized.pth\n",
      "dict_keys(['k', 'indices', 'file', 'id', 'model_name', 'patch_size', 'shape'])\n",
      "0097_resized\n"
     ]
    },
    {
     "name": "stderr",
     "output_type": "stream",
     "text": [
      "/home/phdcs2/Hard_Disk/Projects/T2I/deep-spectral-segmentation/venv/lib/python3.8/site-packages/sklearn/decomposition/_pca.py:642: RuntimeWarning: invalid value encountered in divide\n",
      "  self.explained_variance_ratio_ = self.explained_variance_ / total_var\n"
     ]
    },
    {
     "name": "stdout",
     "output_type": "stream",
     "text": [
      "Starting Training\n",
      "epoch: 00, loss: -0.91992\n",
      "epoch: 01, loss: -0.95105\n",
      "epoch: 02, loss: -0.95860\n",
      "epoch: 03, loss: -0.96294\n",
      "epoch: 04, loss: -0.96591\n",
      "epoch: 05, loss: -0.96816\n",
      "epoch: 06, loss: -0.96991\n",
      "epoch: 07, loss: -0.97135\n",
      "epoch: 08, loss: -0.97254\n",
      "epoch: 09, loss: -0.97355\n",
      "torch.Size([1024, 64])\n"
     ]
    },
    {
     "name": "stderr",
     "output_type": "stream",
     "text": [
      " 10%|▉         | 96/999 [1:55:35<19:20:09, 77.09s/it]"
     ]
    },
    {
     "name": "stdout",
     "output_type": "stream",
     "text": [
      "eigenvalues shape torch.Size([5]) eigenvectors shape torch.Size([5, 1024])\n",
      "96 /home/phdcs2/Hard_Disk/Datasets/Deep-Spectral-Segmentation/data/object-segmentation/ECSSD/features/0098_resized.pth\n",
      "dict_keys(['k', 'indices', 'file', 'id', 'model_name', 'patch_size', 'shape'])\n",
      "0098_resized\n",
      "Starting Training\n",
      "epoch: 00, loss: -0.89209\n",
      "epoch: 01, loss: -0.93732\n",
      "epoch: 02, loss: -0.94797\n",
      "epoch: 03, loss: -0.95413\n",
      "epoch: 04, loss: -0.95810\n",
      "epoch: 05, loss: -0.96111\n",
      "epoch: 06, loss: -0.96342\n",
      "epoch: 07, loss: -0.96535\n",
      "epoch: 08, loss: -0.96693\n",
      "epoch: 09, loss: -0.96817\n",
      "torch.Size([1024, 64])\n"
     ]
    },
    {
     "name": "stderr",
     "output_type": "stream",
     "text": [
      " 10%|▉         | 97/999 [1:56:58<19:45:33, 78.86s/it]"
     ]
    },
    {
     "name": "stdout",
     "output_type": "stream",
     "text": [
      "eigenvalues shape torch.Size([5]) eigenvectors shape torch.Size([5, 1024])\n",
      "97 /home/phdcs2/Hard_Disk/Datasets/Deep-Spectral-Segmentation/data/object-segmentation/ECSSD/features/0099_resized.pth\n",
      "dict_keys(['k', 'indices', 'file', 'id', 'model_name', 'patch_size', 'shape'])\n",
      "0099_resized\n",
      "Starting Training\n",
      "epoch: 00, loss: -0.87902\n",
      "epoch: 01, loss: -0.92503\n",
      "epoch: 02, loss: -0.93778\n",
      "epoch: 03, loss: -0.94495\n",
      "epoch: 04, loss: -0.94986\n",
      "epoch: 05, loss: -0.95351\n",
      "epoch: 06, loss: -0.95627\n",
      "epoch: 07, loss: -0.95850\n",
      "epoch: 08, loss: -0.96036\n",
      "epoch: 09, loss: -0.96197\n",
      "torch.Size([1024, 64])\n"
     ]
    },
    {
     "name": "stderr",
     "output_type": "stream",
     "text": [
      " 10%|▉         | 98/999 [1:58:16<19:43:09, 78.79s/it]"
     ]
    },
    {
     "name": "stdout",
     "output_type": "stream",
     "text": [
      "eigenvalues shape torch.Size([5]) eigenvectors shape torch.Size([5, 1024])\n",
      "98 /home/phdcs2/Hard_Disk/Datasets/Deep-Spectral-Segmentation/data/object-segmentation/ECSSD/features/0100_resized.pth\n",
      "dict_keys(['k', 'indices', 'file', 'id', 'model_name', 'patch_size', 'shape'])\n",
      "0100_resized\n",
      "Starting Training\n",
      "epoch: 00, loss: -0.85902\n",
      "epoch: 01, loss: -0.91715\n",
      "epoch: 02, loss: -0.93149\n",
      "epoch: 03, loss: -0.93954\n",
      "epoch: 04, loss: -0.94468\n",
      "epoch: 05, loss: -0.94850\n",
      "epoch: 06, loss: -0.95157\n",
      "epoch: 07, loss: -0.95386\n",
      "epoch: 08, loss: -0.95580\n",
      "epoch: 09, loss: -0.95751\n",
      "torch.Size([1024, 64])\n"
     ]
    },
    {
     "name": "stderr",
     "output_type": "stream",
     "text": [
      " 10%|▉         | 99/999 [1:59:31<19:24:06, 77.61s/it]"
     ]
    },
    {
     "name": "stdout",
     "output_type": "stream",
     "text": [
      "eigenvalues shape torch.Size([5]) eigenvectors shape torch.Size([5, 1024])\n",
      "99 /home/phdcs2/Hard_Disk/Datasets/Deep-Spectral-Segmentation/data/object-segmentation/ECSSD/features/0101_resized.pth\n",
      "dict_keys(['k', 'indices', 'file', 'id', 'model_name', 'patch_size', 'shape'])\n",
      "0101_resized\n",
      "Starting Training\n",
      "epoch: 00, loss: -0.88247\n",
      "epoch: 01, loss: -0.92852\n",
      "epoch: 02, loss: -0.94090\n",
      "epoch: 03, loss: -0.94798\n",
      "epoch: 04, loss: -0.95271\n",
      "epoch: 05, loss: -0.95617\n",
      "epoch: 06, loss: -0.95886\n",
      "epoch: 07, loss: -0.96119\n",
      "epoch: 08, loss: -0.96287\n",
      "epoch: 09, loss: -0.96453\n",
      "torch.Size([1024, 64])\n"
     ]
    },
    {
     "name": "stderr",
     "output_type": "stream",
     "text": [
      " 10%|█         | 100/999 [2:00:40<18:43:08, 74.96s/it]"
     ]
    },
    {
     "name": "stdout",
     "output_type": "stream",
     "text": [
      "eigenvalues shape torch.Size([5]) eigenvectors shape torch.Size([5, 1024])\n",
      "100 /home/phdcs2/Hard_Disk/Datasets/Deep-Spectral-Segmentation/data/object-segmentation/ECSSD/features/0102_resized.pth\n",
      "dict_keys(['k', 'indices', 'file', 'id', 'model_name', 'patch_size', 'shape'])\n",
      "0102_resized\n"
     ]
    },
    {
     "name": "stderr",
     "output_type": "stream",
     "text": [
      "/home/phdcs2/Hard_Disk/Projects/T2I/deep-spectral-segmentation/venv/lib/python3.8/site-packages/sklearn/decomposition/_pca.py:642: RuntimeWarning: invalid value encountered in divide\n",
      "  self.explained_variance_ratio_ = self.explained_variance_ / total_var\n"
     ]
    },
    {
     "name": "stdout",
     "output_type": "stream",
     "text": [
      "Starting Training\n",
      "epoch: 00, loss: -0.92735\n",
      "epoch: 01, loss: -0.95621\n",
      "epoch: 02, loss: -0.96337\n",
      "epoch: 03, loss: -0.96746\n",
      "epoch: 04, loss: -0.97029\n",
      "epoch: 05, loss: -0.97235\n",
      "epoch: 06, loss: -0.97397\n",
      "epoch: 07, loss: -0.97532\n",
      "epoch: 08, loss: -0.97640\n",
      "epoch: 09, loss: -0.97736\n",
      "torch.Size([1024, 64])\n"
     ]
    },
    {
     "name": "stderr",
     "output_type": "stream",
     "text": [
      " 10%|█         | 101/999 [2:01:55<18:43:18, 75.05s/it]"
     ]
    },
    {
     "name": "stdout",
     "output_type": "stream",
     "text": [
      "eigenvalues shape torch.Size([5]) eigenvectors shape torch.Size([5, 1024])\n",
      "101 /home/phdcs2/Hard_Disk/Datasets/Deep-Spectral-Segmentation/data/object-segmentation/ECSSD/features/0103_resized.pth\n",
      "dict_keys(['k', 'indices', 'file', 'id', 'model_name', 'patch_size', 'shape'])\n",
      "0103_resized\n"
     ]
    },
    {
     "name": "stderr",
     "output_type": "stream",
     "text": [
      "/home/phdcs2/Hard_Disk/Projects/T2I/deep-spectral-segmentation/venv/lib/python3.8/site-packages/sklearn/decomposition/_pca.py:642: RuntimeWarning: invalid value encountered in divide\n",
      "  self.explained_variance_ratio_ = self.explained_variance_ / total_var\n"
     ]
    },
    {
     "name": "stdout",
     "output_type": "stream",
     "text": [
      "Starting Training\n",
      "epoch: 00, loss: -0.92545\n",
      "epoch: 01, loss: -0.95784\n",
      "epoch: 02, loss: -0.96463\n",
      "epoch: 03, loss: -0.96850\n",
      "epoch: 04, loss: -0.97106\n",
      "epoch: 05, loss: -0.97298\n",
      "epoch: 06, loss: -0.97447\n",
      "epoch: 07, loss: -0.97567\n",
      "epoch: 08, loss: -0.97666\n",
      "epoch: 09, loss: -0.97751\n",
      "torch.Size([1024, 64])\n"
     ]
    },
    {
     "name": "stderr",
     "output_type": "stream",
     "text": [
      " 10%|█         | 102/999 [2:03:12<18:51:41, 75.70s/it]"
     ]
    },
    {
     "name": "stdout",
     "output_type": "stream",
     "text": [
      "eigenvalues shape torch.Size([5]) eigenvectors shape torch.Size([5, 1024])\n",
      "102 /home/phdcs2/Hard_Disk/Datasets/Deep-Spectral-Segmentation/data/object-segmentation/ECSSD/features/0104_resized.pth\n",
      "dict_keys(['k', 'indices', 'file', 'id', 'model_name', 'patch_size', 'shape'])\n",
      "0104_resized\n",
      "Starting Training\n",
      "epoch: 00, loss: -0.89420\n",
      "epoch: 01, loss: -0.93850\n",
      "epoch: 02, loss: -0.94896\n",
      "epoch: 03, loss: -0.95497\n",
      "epoch: 04, loss: -0.95920\n",
      "epoch: 05, loss: -0.96215\n",
      "epoch: 06, loss: -0.96450\n",
      "epoch: 07, loss: -0.96631\n",
      "epoch: 08, loss: -0.96789\n",
      "epoch: 09, loss: -0.96926\n",
      "torch.Size([1024, 64])\n"
     ]
    },
    {
     "name": "stderr",
     "output_type": "stream",
     "text": [
      " 10%|█         | 103/999 [2:04:33<19:12:50, 77.20s/it]"
     ]
    },
    {
     "name": "stdout",
     "output_type": "stream",
     "text": [
      "eigenvalues shape torch.Size([5]) eigenvectors shape torch.Size([5, 1024])\n",
      "103 /home/phdcs2/Hard_Disk/Datasets/Deep-Spectral-Segmentation/data/object-segmentation/ECSSD/features/0105_resized.pth\n",
      "dict_keys(['k', 'indices', 'file', 'id', 'model_name', 'patch_size', 'shape'])\n",
      "0105_resized\n",
      "Starting Training\n",
      "epoch: 00, loss: -0.84876\n",
      "epoch: 01, loss: -0.90931\n",
      "epoch: 02, loss: -0.92545\n",
      "epoch: 03, loss: -0.93442\n",
      "epoch: 04, loss: -0.94056\n",
      "epoch: 05, loss: -0.94509\n",
      "epoch: 06, loss: -0.94840\n",
      "epoch: 07, loss: -0.95122\n",
      "epoch: 08, loss: -0.95345\n",
      "epoch: 09, loss: -0.95540\n",
      "torch.Size([1024, 64])\n"
     ]
    },
    {
     "name": "stderr",
     "output_type": "stream",
     "text": [
      " 10%|█         | 104/999 [2:05:50<19:10:00, 77.10s/it]"
     ]
    },
    {
     "name": "stdout",
     "output_type": "stream",
     "text": [
      "eigenvalues shape torch.Size([5]) eigenvectors shape torch.Size([5, 1024])\n",
      "104 /home/phdcs2/Hard_Disk/Datasets/Deep-Spectral-Segmentation/data/object-segmentation/ECSSD/features/0106_resized.pth\n",
      "dict_keys(['k', 'indices', 'file', 'id', 'model_name', 'patch_size', 'shape'])\n",
      "0106_resized\n",
      "Starting Training\n",
      "epoch: 00, loss: -0.86023\n",
      "epoch: 01, loss: -0.91889\n",
      "epoch: 02, loss: -0.93373\n",
      "epoch: 03, loss: -0.94225\n",
      "epoch: 04, loss: -0.94764\n",
      "epoch: 05, loss: -0.95175\n",
      "epoch: 06, loss: -0.95467\n",
      "epoch: 07, loss: -0.95727\n",
      "epoch: 08, loss: -0.95941\n",
      "epoch: 09, loss: -0.96118\n",
      "torch.Size([1024, 64])\n"
     ]
    },
    {
     "name": "stderr",
     "output_type": "stream",
     "text": [
      " 11%|█         | 105/999 [2:07:07<19:10:43, 77.23s/it]"
     ]
    },
    {
     "name": "stdout",
     "output_type": "stream",
     "text": [
      "eigenvalues shape torch.Size([5]) eigenvectors shape torch.Size([5, 1024])\n",
      "105 /home/phdcs2/Hard_Disk/Datasets/Deep-Spectral-Segmentation/data/object-segmentation/ECSSD/features/0107_resized.pth\n",
      "dict_keys(['k', 'indices', 'file', 'id', 'model_name', 'patch_size', 'shape'])\n",
      "0107_resized\n",
      "Starting Training\n",
      "epoch: 00, loss: -0.85913\n",
      "epoch: 01, loss: -0.91700\n",
      "epoch: 02, loss: -0.93241\n",
      "epoch: 03, loss: -0.94120\n",
      "epoch: 04, loss: -0.94701\n",
      "epoch: 05, loss: -0.95126\n",
      "epoch: 06, loss: -0.95457\n",
      "epoch: 07, loss: -0.95704\n",
      "epoch: 08, loss: -0.95917\n",
      "epoch: 09, loss: -0.96100\n",
      "torch.Size([1024, 64])\n"
     ]
    },
    {
     "name": "stderr",
     "output_type": "stream",
     "text": [
      " 11%|█         | 106/999 [2:08:20<18:49:22, 75.88s/it]"
     ]
    },
    {
     "name": "stdout",
     "output_type": "stream",
     "text": [
      "eigenvalues shape torch.Size([5]) eigenvectors shape torch.Size([5, 1024])\n",
      "106 /home/phdcs2/Hard_Disk/Datasets/Deep-Spectral-Segmentation/data/object-segmentation/ECSSD/features/0108_resized.pth\n",
      "dict_keys(['k', 'indices', 'file', 'id', 'model_name', 'patch_size', 'shape'])\n",
      "0108_resized\n",
      "Starting Training\n",
      "epoch: 00, loss: -0.87064\n",
      "epoch: 01, loss: -0.92220\n",
      "epoch: 02, loss: -0.93583\n",
      "epoch: 03, loss: -0.94338\n",
      "epoch: 04, loss: -0.94849\n",
      "epoch: 05, loss: -0.95245\n",
      "epoch: 06, loss: -0.95527\n",
      "epoch: 07, loss: -0.95766\n",
      "epoch: 08, loss: -0.95955\n",
      "epoch: 09, loss: -0.96127\n",
      "torch.Size([1024, 64])\n"
     ]
    },
    {
     "name": "stderr",
     "output_type": "stream",
     "text": [
      " 11%|█         | 107/999 [2:09:42<19:14:07, 77.63s/it]"
     ]
    },
    {
     "name": "stdout",
     "output_type": "stream",
     "text": [
      "eigenvalues shape torch.Size([5]) eigenvectors shape torch.Size([5, 1024])\n",
      "107 /home/phdcs2/Hard_Disk/Datasets/Deep-Spectral-Segmentation/data/object-segmentation/ECSSD/features/0109_resized.pth\n",
      "dict_keys(['k', 'indices', 'file', 'id', 'model_name', 'patch_size', 'shape'])\n",
      "0109_resized\n",
      "Starting Training\n",
      "epoch: 00, loss: -0.90615\n",
      "epoch: 01, loss: -0.94589\n",
      "epoch: 02, loss: -0.95456\n",
      "epoch: 03, loss: -0.95954\n",
      "epoch: 04, loss: -0.96292\n",
      "epoch: 05, loss: -0.96545\n",
      "epoch: 06, loss: -0.96738\n",
      "epoch: 07, loss: -0.96899\n",
      "epoch: 08, loss: -0.97035\n",
      "epoch: 09, loss: -0.97147\n",
      "torch.Size([1024, 64])\n"
     ]
    },
    {
     "name": "stderr",
     "output_type": "stream",
     "text": [
      " 11%|█         | 108/999 [2:10:59<19:09:30, 77.41s/it]"
     ]
    },
    {
     "name": "stdout",
     "output_type": "stream",
     "text": [
      "eigenvalues shape torch.Size([5]) eigenvectors shape torch.Size([5, 1024])\n",
      "108 /home/phdcs2/Hard_Disk/Datasets/Deep-Spectral-Segmentation/data/object-segmentation/ECSSD/features/0110_resized.pth\n",
      "dict_keys(['k', 'indices', 'file', 'id', 'model_name', 'patch_size', 'shape'])\n",
      "0110_resized\n"
     ]
    },
    {
     "name": "stderr",
     "output_type": "stream",
     "text": [
      "/home/phdcs2/Hard_Disk/Projects/T2I/deep-spectral-segmentation/venv/lib/python3.8/site-packages/sklearn/decomposition/_pca.py:642: RuntimeWarning: invalid value encountered in divide\n",
      "  self.explained_variance_ratio_ = self.explained_variance_ / total_var\n"
     ]
    },
    {
     "name": "stdout",
     "output_type": "stream",
     "text": [
      "Starting Training\n",
      "epoch: 00, loss: -0.91288\n",
      "epoch: 01, loss: -0.94984\n",
      "epoch: 02, loss: -0.95796\n",
      "epoch: 03, loss: -0.96259\n",
      "epoch: 04, loss: -0.96578\n",
      "epoch: 05, loss: -0.96806\n",
      "epoch: 06, loss: -0.96991\n",
      "epoch: 07, loss: -0.97140\n",
      "epoch: 08, loss: -0.97264\n",
      "epoch: 09, loss: -0.97369\n",
      "torch.Size([1024, 64])\n"
     ]
    },
    {
     "name": "stderr",
     "output_type": "stream",
     "text": [
      " 11%|█         | 109/999 [2:12:16<19:09:23, 77.49s/it]"
     ]
    },
    {
     "name": "stdout",
     "output_type": "stream",
     "text": [
      "eigenvalues shape torch.Size([5]) eigenvectors shape torch.Size([5, 1024])\n",
      "109 /home/phdcs2/Hard_Disk/Datasets/Deep-Spectral-Segmentation/data/object-segmentation/ECSSD/features/0111_resized.pth\n",
      "dict_keys(['k', 'indices', 'file', 'id', 'model_name', 'patch_size', 'shape'])\n",
      "0111_resized\n",
      "Starting Training\n",
      "epoch: 00, loss: -0.88952\n",
      "epoch: 01, loss: -0.93227\n",
      "epoch: 02, loss: -0.94352\n",
      "epoch: 03, loss: -0.95005\n",
      "epoch: 04, loss: -0.95451\n",
      "epoch: 05, loss: -0.95775\n",
      "epoch: 06, loss: -0.96031\n",
      "epoch: 07, loss: -0.96234\n",
      "epoch: 08, loss: -0.96411\n",
      "epoch: 09, loss: -0.96560\n",
      "torch.Size([1024, 64])\n"
     ]
    },
    {
     "name": "stderr",
     "output_type": "stream",
     "text": [
      " 11%|█         | 110/999 [2:13:34<19:08:28, 77.51s/it]"
     ]
    },
    {
     "name": "stdout",
     "output_type": "stream",
     "text": [
      "eigenvalues shape torch.Size([5]) eigenvectors shape torch.Size([5, 1024])\n",
      "110 /home/phdcs2/Hard_Disk/Datasets/Deep-Spectral-Segmentation/data/object-segmentation/ECSSD/features/0112_resized.pth\n",
      "dict_keys(['k', 'indices', 'file', 'id', 'model_name', 'patch_size', 'shape'])\n",
      "0112_resized\n"
     ]
    },
    {
     "name": "stderr",
     "output_type": "stream",
     "text": [
      "/home/phdcs2/Hard_Disk/Projects/T2I/deep-spectral-segmentation/venv/lib/python3.8/site-packages/sklearn/decomposition/_pca.py:642: RuntimeWarning: invalid value encountered in divide\n",
      "  self.explained_variance_ratio_ = self.explained_variance_ / total_var\n"
     ]
    },
    {
     "name": "stdout",
     "output_type": "stream",
     "text": [
      "Starting Training\n",
      "epoch: 00, loss: -0.92123\n",
      "epoch: 01, loss: -0.95267\n",
      "epoch: 02, loss: -0.95977\n",
      "epoch: 03, loss: -0.96387\n",
      "epoch: 04, loss: -0.96669\n",
      "epoch: 05, loss: -0.96878\n",
      "epoch: 06, loss: -0.97042\n",
      "epoch: 07, loss: -0.97179\n",
      "epoch: 08, loss: -0.97288\n",
      "epoch: 09, loss: -0.97386\n",
      "torch.Size([1024, 64])\n"
     ]
    },
    {
     "name": "stderr",
     "output_type": "stream",
     "text": [
      " 11%|█         | 111/999 [2:14:47<18:49:01, 76.29s/it]"
     ]
    },
    {
     "name": "stdout",
     "output_type": "stream",
     "text": [
      "eigenvalues shape torch.Size([5]) eigenvectors shape torch.Size([5, 1024])\n",
      "111 /home/phdcs2/Hard_Disk/Datasets/Deep-Spectral-Segmentation/data/object-segmentation/ECSSD/features/0113_resized.pth\n",
      "dict_keys(['k', 'indices', 'file', 'id', 'model_name', 'patch_size', 'shape'])\n",
      "0113_resized\n",
      "Starting Training\n",
      "epoch: 00, loss: -0.87445\n",
      "epoch: 01, loss: -0.92625\n",
      "epoch: 02, loss: -0.93944\n",
      "epoch: 03, loss: -0.94674\n",
      "epoch: 04, loss: -0.95179\n",
      "epoch: 05, loss: -0.95540\n",
      "epoch: 06, loss: -0.95827\n",
      "epoch: 07, loss: -0.96042\n",
      "epoch: 08, loss: -0.96233\n",
      "epoch: 09, loss: -0.96388\n",
      "torch.Size([1024, 64])\n"
     ]
    },
    {
     "name": "stderr",
     "output_type": "stream",
     "text": [
      " 11%|█         | 112/999 [2:16:11<19:21:29, 78.57s/it]"
     ]
    },
    {
     "name": "stdout",
     "output_type": "stream",
     "text": [
      "eigenvalues shape torch.Size([5]) eigenvectors shape torch.Size([5, 1024])\n",
      "112 /home/phdcs2/Hard_Disk/Datasets/Deep-Spectral-Segmentation/data/object-segmentation/ECSSD/features/0114_resized.pth\n",
      "dict_keys(['k', 'indices', 'file', 'id', 'model_name', 'patch_size', 'shape'])\n",
      "0114_resized\n",
      "Starting Training\n",
      "epoch: 00, loss: -0.85328\n",
      "epoch: 01, loss: -0.91406\n",
      "epoch: 02, loss: -0.92927\n",
      "epoch: 03, loss: -0.93806\n",
      "epoch: 04, loss: -0.94383\n",
      "epoch: 05, loss: -0.94783\n",
      "epoch: 06, loss: -0.95122\n",
      "epoch: 07, loss: -0.95393\n",
      "epoch: 08, loss: -0.95604\n",
      "epoch: 09, loss: -0.95785\n",
      "torch.Size([1024, 64])\n"
     ]
    },
    {
     "name": "stderr",
     "output_type": "stream",
     "text": [
      " 11%|█▏        | 113/999 [2:17:33<19:35:57, 79.64s/it]"
     ]
    },
    {
     "name": "stdout",
     "output_type": "stream",
     "text": [
      "eigenvalues shape torch.Size([5]) eigenvectors shape torch.Size([5, 1024])\n",
      "113 /home/phdcs2/Hard_Disk/Datasets/Deep-Spectral-Segmentation/data/object-segmentation/ECSSD/features/0115_resized.pth\n",
      "dict_keys(['k', 'indices', 'file', 'id', 'model_name', 'patch_size', 'shape'])\n",
      "0115_resized\n"
     ]
    },
    {
     "name": "stderr",
     "output_type": "stream",
     "text": [
      "/home/phdcs2/Hard_Disk/Projects/T2I/deep-spectral-segmentation/venv/lib/python3.8/site-packages/sklearn/decomposition/_pca.py:642: RuntimeWarning: invalid value encountered in divide\n",
      "  self.explained_variance_ratio_ = self.explained_variance_ / total_var\n"
     ]
    },
    {
     "name": "stdout",
     "output_type": "stream",
     "text": [
      "Starting Training\n",
      "epoch: 00, loss: -0.93963\n",
      "epoch: 01, loss: -0.96368\n",
      "epoch: 02, loss: -0.96936\n",
      "epoch: 03, loss: -0.97265\n",
      "epoch: 04, loss: -0.97488\n",
      "epoch: 05, loss: -0.97653\n",
      "epoch: 06, loss: -0.97783\n",
      "epoch: 07, loss: -0.97889\n",
      "epoch: 08, loss: -0.97978\n",
      "epoch: 09, loss: -0.98055\n",
      "torch.Size([1024, 64])\n"
     ]
    },
    {
     "name": "stderr",
     "output_type": "stream",
     "text": [
      " 11%|█▏        | 114/999 [2:18:47<19:07:48, 77.82s/it]"
     ]
    },
    {
     "name": "stdout",
     "output_type": "stream",
     "text": [
      "eigenvalues shape torch.Size([5]) eigenvectors shape torch.Size([5, 1024])\n",
      "114 /home/phdcs2/Hard_Disk/Datasets/Deep-Spectral-Segmentation/data/object-segmentation/ECSSD/features/0116_resized.pth\n",
      "dict_keys(['k', 'indices', 'file', 'id', 'model_name', 'patch_size', 'shape'])\n",
      "0116_resized\n",
      "Starting Training\n",
      "epoch: 00, loss: -0.86033\n",
      "epoch: 01, loss: -0.92100\n",
      "epoch: 02, loss: -0.93556\n",
      "epoch: 03, loss: -0.94377\n",
      "epoch: 04, loss: -0.94921\n",
      "epoch: 05, loss: -0.95313\n",
      "epoch: 06, loss: -0.95623\n",
      "epoch: 07, loss: -0.95871\n",
      "epoch: 08, loss: -0.96073\n",
      "epoch: 09, loss: -0.96246\n",
      "torch.Size([1024, 64])\n"
     ]
    },
    {
     "name": "stderr",
     "output_type": "stream",
     "text": [
      " 12%|█▏        | 115/999 [2:19:55<18:20:47, 74.71s/it]"
     ]
    },
    {
     "name": "stdout",
     "output_type": "stream",
     "text": [
      "eigenvalues shape torch.Size([5]) eigenvectors shape torch.Size([5, 1024])\n",
      "115 /home/phdcs2/Hard_Disk/Datasets/Deep-Spectral-Segmentation/data/object-segmentation/ECSSD/features/0117_resized.pth\n",
      "dict_keys(['k', 'indices', 'file', 'id', 'model_name', 'patch_size', 'shape'])\n",
      "0117_resized\n",
      "Starting Training\n",
      "epoch: 00, loss: -0.86693\n",
      "epoch: 01, loss: -0.91924\n",
      "epoch: 02, loss: -0.93288\n",
      "epoch: 03, loss: -0.94026\n",
      "epoch: 04, loss: -0.94551\n",
      "epoch: 05, loss: -0.94927\n",
      "epoch: 06, loss: -0.95226\n",
      "epoch: 07, loss: -0.95455\n",
      "epoch: 08, loss: -0.95661\n",
      "epoch: 09, loss: -0.95836\n",
      "torch.Size([1024, 64])\n"
     ]
    },
    {
     "name": "stderr",
     "output_type": "stream",
     "text": [
      " 12%|█▏        | 116/999 [2:21:08<18:14:29, 74.37s/it]"
     ]
    },
    {
     "name": "stdout",
     "output_type": "stream",
     "text": [
      "eigenvalues shape torch.Size([5]) eigenvectors shape torch.Size([5, 1024])\n",
      "116 /home/phdcs2/Hard_Disk/Datasets/Deep-Spectral-Segmentation/data/object-segmentation/ECSSD/features/0118_resized.pth\n",
      "dict_keys(['k', 'indices', 'file', 'id', 'model_name', 'patch_size', 'shape'])\n",
      "0118_resized\n"
     ]
    },
    {
     "name": "stderr",
     "output_type": "stream",
     "text": [
      "/home/phdcs2/Hard_Disk/Projects/T2I/deep-spectral-segmentation/venv/lib/python3.8/site-packages/sklearn/decomposition/_pca.py:642: RuntimeWarning: invalid value encountered in divide\n",
      "  self.explained_variance_ratio_ = self.explained_variance_ / total_var\n"
     ]
    },
    {
     "name": "stdout",
     "output_type": "stream",
     "text": [
      "Starting Training\n",
      "epoch: 00, loss: -0.91885\n",
      "epoch: 01, loss: -0.95326\n",
      "epoch: 02, loss: -0.96027\n",
      "epoch: 03, loss: -0.96426\n",
      "epoch: 04, loss: -0.96708\n",
      "epoch: 05, loss: -0.96919\n",
      "epoch: 06, loss: -0.97085\n",
      "epoch: 07, loss: -0.97220\n",
      "epoch: 08, loss: -0.97334\n",
      "epoch: 09, loss: -0.97434\n",
      "torch.Size([1024, 64])\n"
     ]
    },
    {
     "name": "stderr",
     "output_type": "stream",
     "text": [
      " 12%|█▏        | 117/999 [2:22:26<18:31:04, 75.58s/it]"
     ]
    },
    {
     "name": "stdout",
     "output_type": "stream",
     "text": [
      "eigenvalues shape torch.Size([5]) eigenvectors shape torch.Size([5, 1024])\n",
      "117 /home/phdcs2/Hard_Disk/Datasets/Deep-Spectral-Segmentation/data/object-segmentation/ECSSD/features/0119_resized.pth\n",
      "dict_keys(['k', 'indices', 'file', 'id', 'model_name', 'patch_size', 'shape'])\n",
      "0119_resized\n"
     ]
    },
    {
     "name": "stderr",
     "output_type": "stream",
     "text": [
      "/home/phdcs2/Hard_Disk/Projects/T2I/deep-spectral-segmentation/venv/lib/python3.8/site-packages/sklearn/decomposition/_pca.py:642: RuntimeWarning: invalid value encountered in divide\n",
      "  self.explained_variance_ratio_ = self.explained_variance_ / total_var\n"
     ]
    },
    {
     "name": "stdout",
     "output_type": "stream",
     "text": [
      "Starting Training\n",
      "epoch: 00, loss: -0.90694\n",
      "epoch: 01, loss: -0.94059\n",
      "epoch: 02, loss: -0.94952\n",
      "epoch: 03, loss: -0.95481\n",
      "epoch: 04, loss: -0.95847\n",
      "epoch: 05, loss: -0.96115\n",
      "epoch: 06, loss: -0.96329\n",
      "epoch: 07, loss: -0.96503\n",
      "epoch: 08, loss: -0.96650\n",
      "epoch: 09, loss: -0.96775\n",
      "torch.Size([1024, 64])\n"
     ]
    },
    {
     "name": "stderr",
     "output_type": "stream",
     "text": [
      " 12%|█▏        | 118/999 [2:23:31<17:42:26, 72.36s/it]"
     ]
    },
    {
     "name": "stdout",
     "output_type": "stream",
     "text": [
      "eigenvalues shape torch.Size([5]) eigenvectors shape torch.Size([5, 1024])\n",
      "118 /home/phdcs2/Hard_Disk/Datasets/Deep-Spectral-Segmentation/data/object-segmentation/ECSSD/features/0120_resized.pth\n",
      "dict_keys(['k', 'indices', 'file', 'id', 'model_name', 'patch_size', 'shape'])\n",
      "0120_resized\n"
     ]
    },
    {
     "name": "stderr",
     "output_type": "stream",
     "text": [
      "/home/phdcs2/Hard_Disk/Projects/T2I/deep-spectral-segmentation/venv/lib/python3.8/site-packages/sklearn/decomposition/_pca.py:642: RuntimeWarning: invalid value encountered in divide\n",
      "  self.explained_variance_ratio_ = self.explained_variance_ / total_var\n"
     ]
    },
    {
     "name": "stdout",
     "output_type": "stream",
     "text": [
      "Starting Training\n",
      "epoch: 00, loss: -0.91108\n",
      "epoch: 01, loss: -0.94546\n",
      "epoch: 02, loss: -0.95352\n",
      "epoch: 03, loss: -0.95827\n",
      "epoch: 04, loss: -0.96155\n",
      "epoch: 05, loss: -0.96399\n",
      "epoch: 06, loss: -0.96592\n",
      "epoch: 07, loss: -0.96749\n",
      "epoch: 08, loss: -0.96883\n",
      "epoch: 09, loss: -0.96992\n",
      "torch.Size([1024, 64])\n"
     ]
    },
    {
     "name": "stderr",
     "output_type": "stream",
     "text": [
      " 12%|█▏        | 119/999 [2:24:37<17:13:04, 70.44s/it]"
     ]
    },
    {
     "name": "stdout",
     "output_type": "stream",
     "text": [
      "eigenvalues shape torch.Size([5]) eigenvectors shape torch.Size([5, 1024])\n",
      "119 /home/phdcs2/Hard_Disk/Datasets/Deep-Spectral-Segmentation/data/object-segmentation/ECSSD/features/0121_resized.pth\n",
      "dict_keys(['k', 'indices', 'file', 'id', 'model_name', 'patch_size', 'shape'])\n",
      "0121_resized\n"
     ]
    },
    {
     "name": "stderr",
     "output_type": "stream",
     "text": [
      "/home/phdcs2/Hard_Disk/Projects/T2I/deep-spectral-segmentation/venv/lib/python3.8/site-packages/sklearn/decomposition/_pca.py:642: RuntimeWarning: invalid value encountered in divide\n",
      "  self.explained_variance_ratio_ = self.explained_variance_ / total_var\n"
     ]
    },
    {
     "name": "stdout",
     "output_type": "stream",
     "text": [
      "Starting Training\n",
      "epoch: 00, loss: -0.91399\n",
      "epoch: 01, loss: -0.94734\n",
      "epoch: 02, loss: -0.95531\n",
      "epoch: 03, loss: -0.96000\n",
      "epoch: 04, loss: -0.96320\n",
      "epoch: 05, loss: -0.96559\n",
      "epoch: 06, loss: -0.96747\n",
      "epoch: 07, loss: -0.96901\n",
      "epoch: 08, loss: -0.97028\n",
      "epoch: 09, loss: -0.97140\n",
      "torch.Size([1024, 64])\n"
     ]
    },
    {
     "name": "stderr",
     "output_type": "stream",
     "text": [
      " 12%|█▏        | 120/999 [2:25:45<16:59:16, 69.58s/it]"
     ]
    },
    {
     "name": "stdout",
     "output_type": "stream",
     "text": [
      "eigenvalues shape torch.Size([5]) eigenvectors shape torch.Size([5, 1024])\n",
      "120 /home/phdcs2/Hard_Disk/Datasets/Deep-Spectral-Segmentation/data/object-segmentation/ECSSD/features/0122_resized.pth\n",
      "dict_keys(['k', 'indices', 'file', 'id', 'model_name', 'patch_size', 'shape'])\n",
      "0122_resized\n",
      "Starting Training\n",
      "epoch: 00, loss: -0.87454\n",
      "epoch: 01, loss: -0.92767\n",
      "epoch: 02, loss: -0.94001\n",
      "epoch: 03, loss: -0.94725\n",
      "epoch: 04, loss: -0.95168\n",
      "epoch: 05, loss: -0.95509\n",
      "epoch: 06, loss: -0.95796\n",
      "epoch: 07, loss: -0.96009\n",
      "epoch: 08, loss: -0.96187\n",
      "epoch: 09, loss: -0.96340\n",
      "torch.Size([1024, 64])\n"
     ]
    },
    {
     "name": "stderr",
     "output_type": "stream",
     "text": [
      " 12%|█▏        | 121/999 [2:27:00<17:20:32, 71.11s/it]"
     ]
    },
    {
     "name": "stdout",
     "output_type": "stream",
     "text": [
      "eigenvalues shape torch.Size([5]) eigenvectors shape torch.Size([5, 1024])\n",
      "121 /home/phdcs2/Hard_Disk/Datasets/Deep-Spectral-Segmentation/data/object-segmentation/ECSSD/features/0123_resized.pth\n",
      "dict_keys(['k', 'indices', 'file', 'id', 'model_name', 'patch_size', 'shape'])\n",
      "0123_resized\n"
     ]
    },
    {
     "name": "stderr",
     "output_type": "stream",
     "text": [
      "/home/phdcs2/Hard_Disk/Projects/T2I/deep-spectral-segmentation/venv/lib/python3.8/site-packages/sklearn/decomposition/_pca.py:642: RuntimeWarning: invalid value encountered in divide\n",
      "  self.explained_variance_ratio_ = self.explained_variance_ / total_var\n"
     ]
    },
    {
     "name": "stdout",
     "output_type": "stream",
     "text": [
      "Starting Training\n",
      "epoch: 00, loss: -0.91213\n",
      "epoch: 01, loss: -0.94901\n",
      "epoch: 02, loss: -0.95749\n",
      "epoch: 03, loss: -0.96231\n",
      "epoch: 04, loss: -0.96556\n",
      "epoch: 05, loss: -0.96802\n",
      "epoch: 06, loss: -0.96990\n",
      "epoch: 07, loss: -0.97144\n",
      "epoch: 08, loss: -0.97271\n",
      "epoch: 09, loss: -0.97381\n",
      "torch.Size([1024, 64])\n"
     ]
    },
    {
     "name": "stderr",
     "output_type": "stream",
     "text": [
      " 12%|█▏        | 122/999 [2:28:12<17:24:13, 71.44s/it]"
     ]
    },
    {
     "name": "stdout",
     "output_type": "stream",
     "text": [
      "eigenvalues shape torch.Size([5]) eigenvectors shape torch.Size([5, 1024])\n",
      "122 /home/phdcs2/Hard_Disk/Datasets/Deep-Spectral-Segmentation/data/object-segmentation/ECSSD/features/0124_resized.pth\n",
      "dict_keys(['k', 'indices', 'file', 'id', 'model_name', 'patch_size', 'shape'])\n",
      "0124_resized\n",
      "Starting Training\n",
      "epoch: 00, loss: -0.86894\n",
      "epoch: 01, loss: -0.91927\n",
      "epoch: 02, loss: -0.93303\n",
      "epoch: 03, loss: -0.94105\n",
      "epoch: 04, loss: -0.94653\n",
      "epoch: 05, loss: -0.95046\n",
      "epoch: 06, loss: -0.95366\n",
      "epoch: 07, loss: -0.95616\n",
      "epoch: 08, loss: -0.95816\n",
      "epoch: 09, loss: -0.95987\n",
      "torch.Size([1024, 64])\n"
     ]
    },
    {
     "name": "stderr",
     "output_type": "stream",
     "text": [
      " 12%|█▏        | 123/999 [2:29:22<17:18:57, 71.16s/it]"
     ]
    },
    {
     "name": "stdout",
     "output_type": "stream",
     "text": [
      "eigenvalues shape torch.Size([5]) eigenvectors shape torch.Size([5, 1024])\n",
      "123 /home/phdcs2/Hard_Disk/Datasets/Deep-Spectral-Segmentation/data/object-segmentation/ECSSD/features/0125_resized.pth\n",
      "dict_keys(['k', 'indices', 'file', 'id', 'model_name', 'patch_size', 'shape'])\n",
      "0125_resized\n"
     ]
    },
    {
     "name": "stderr",
     "output_type": "stream",
     "text": [
      "/home/phdcs2/Hard_Disk/Projects/T2I/deep-spectral-segmentation/venv/lib/python3.8/site-packages/sklearn/decomposition/_pca.py:642: RuntimeWarning: invalid value encountered in divide\n",
      "  self.explained_variance_ratio_ = self.explained_variance_ / total_var\n"
     ]
    },
    {
     "name": "stdout",
     "output_type": "stream",
     "text": [
      "Starting Training\n",
      "epoch: 00, loss: -0.91799\n",
      "epoch: 01, loss: -0.94948\n",
      "epoch: 02, loss: -0.95738\n",
      "epoch: 03, loss: -0.96189\n",
      "epoch: 04, loss: -0.96501\n",
      "epoch: 05, loss: -0.96731\n",
      "epoch: 06, loss: -0.96911\n",
      "epoch: 07, loss: -0.97059\n",
      "epoch: 08, loss: -0.97180\n",
      "epoch: 09, loss: -0.97285\n",
      "torch.Size([1024, 64])\n"
     ]
    },
    {
     "name": "stderr",
     "output_type": "stream",
     "text": [
      " 12%|█▏        | 124/999 [2:30:28<16:52:17, 69.41s/it]"
     ]
    },
    {
     "name": "stdout",
     "output_type": "stream",
     "text": [
      "eigenvalues shape torch.Size([5]) eigenvectors shape torch.Size([5, 1024])\n",
      "124 /home/phdcs2/Hard_Disk/Datasets/Deep-Spectral-Segmentation/data/object-segmentation/ECSSD/features/0126_resized.pth\n",
      "dict_keys(['k', 'indices', 'file', 'id', 'model_name', 'patch_size', 'shape'])\n",
      "0126_resized\n"
     ]
    },
    {
     "name": "stderr",
     "output_type": "stream",
     "text": [
      "/home/phdcs2/Hard_Disk/Projects/T2I/deep-spectral-segmentation/venv/lib/python3.8/site-packages/sklearn/decomposition/_pca.py:642: RuntimeWarning: invalid value encountered in divide\n",
      "  self.explained_variance_ratio_ = self.explained_variance_ / total_var\n"
     ]
    },
    {
     "name": "stdout",
     "output_type": "stream",
     "text": [
      "Starting Training\n",
      "epoch: 00, loss: -0.92317\n",
      "epoch: 01, loss: -0.95084\n",
      "epoch: 02, loss: -0.95830\n",
      "epoch: 03, loss: -0.96258\n",
      "epoch: 04, loss: -0.96558\n",
      "epoch: 05, loss: -0.96783\n",
      "epoch: 06, loss: -0.96960\n",
      "epoch: 07, loss: -0.97103\n",
      "epoch: 08, loss: -0.97222\n",
      "epoch: 09, loss: -0.97326\n",
      "torch.Size([1024, 64])\n"
     ]
    },
    {
     "name": "stderr",
     "output_type": "stream",
     "text": [
      " 13%|█▎        | 125/999 [2:31:34<16:37:58, 68.51s/it]"
     ]
    },
    {
     "name": "stdout",
     "output_type": "stream",
     "text": [
      "eigenvalues shape torch.Size([5]) eigenvectors shape torch.Size([5, 1024])\n",
      "125 /home/phdcs2/Hard_Disk/Datasets/Deep-Spectral-Segmentation/data/object-segmentation/ECSSD/features/0127_resized.pth\n",
      "dict_keys(['k', 'indices', 'file', 'id', 'model_name', 'patch_size', 'shape'])\n",
      "0127_resized\n",
      "Starting Training\n",
      "epoch: 00, loss: -0.85160\n",
      "epoch: 01, loss: -0.91337\n",
      "epoch: 02, loss: -0.92906\n",
      "epoch: 03, loss: -0.93766\n",
      "epoch: 04, loss: -0.94370\n",
      "epoch: 05, loss: -0.94786\n",
      "epoch: 06, loss: -0.95115\n",
      "epoch: 07, loss: -0.95383\n",
      "epoch: 08, loss: -0.95598\n",
      "epoch: 09, loss: -0.95794\n",
      "torch.Size([1024, 64])\n"
     ]
    },
    {
     "name": "stderr",
     "output_type": "stream",
     "text": [
      " 13%|█▎        | 126/999 [2:32:43<16:39:15, 68.68s/it]"
     ]
    },
    {
     "name": "stdout",
     "output_type": "stream",
     "text": [
      "eigenvalues shape torch.Size([5]) eigenvectors shape torch.Size([5, 1024])\n",
      "126 /home/phdcs2/Hard_Disk/Datasets/Deep-Spectral-Segmentation/data/object-segmentation/ECSSD/features/0128_resized.pth\n",
      "dict_keys(['k', 'indices', 'file', 'id', 'model_name', 'patch_size', 'shape'])\n",
      "0128_resized\n",
      "Starting Training\n",
      "epoch: 00, loss: -0.88740\n",
      "epoch: 01, loss: -0.93425\n",
      "epoch: 02, loss: -0.94464\n",
      "epoch: 03, loss: -0.95028\n",
      "epoch: 04, loss: -0.95426\n",
      "epoch: 05, loss: -0.95724\n",
      "epoch: 06, loss: -0.95952\n",
      "epoch: 07, loss: -0.96145\n",
      "epoch: 08, loss: -0.96292\n",
      "epoch: 09, loss: -0.96431\n",
      "torch.Size([1024, 64])\n"
     ]
    },
    {
     "name": "stderr",
     "output_type": "stream",
     "text": [
      " 13%|█▎        | 127/999 [2:33:45<16:10:21, 66.77s/it]"
     ]
    },
    {
     "name": "stdout",
     "output_type": "stream",
     "text": [
      "eigenvalues shape torch.Size([5]) eigenvectors shape torch.Size([5, 1024])\n",
      "127 /home/phdcs2/Hard_Disk/Datasets/Deep-Spectral-Segmentation/data/object-segmentation/ECSSD/features/0129_resized.pth\n",
      "dict_keys(['k', 'indices', 'file', 'id', 'model_name', 'patch_size', 'shape'])\n",
      "0129_resized\n",
      "Starting Training\n",
      "epoch: 00, loss: -0.87184\n",
      "epoch: 01, loss: -0.92281\n",
      "epoch: 02, loss: -0.93672\n",
      "epoch: 03, loss: -0.94490\n",
      "epoch: 04, loss: -0.95050\n",
      "epoch: 05, loss: -0.95437\n",
      "epoch: 06, loss: -0.95723\n",
      "epoch: 07, loss: -0.95981\n",
      "epoch: 08, loss: -0.96174\n",
      "epoch: 09, loss: -0.96349\n",
      "torch.Size([1024, 64])\n"
     ]
    },
    {
     "name": "stderr",
     "output_type": "stream",
     "text": [
      " 13%|█▎        | 128/999 [2:34:54<16:18:57, 67.44s/it]"
     ]
    },
    {
     "name": "stdout",
     "output_type": "stream",
     "text": [
      "eigenvalues shape torch.Size([5]) eigenvectors shape torch.Size([5, 1024])\n",
      "128 /home/phdcs2/Hard_Disk/Datasets/Deep-Spectral-Segmentation/data/object-segmentation/ECSSD/features/0130_resized.pth\n",
      "dict_keys(['k', 'indices', 'file', 'id', 'model_name', 'patch_size', 'shape'])\n",
      "0130_resized\n",
      "Starting Training\n",
      "epoch: 00, loss: -0.86470\n",
      "epoch: 01, loss: -0.91912\n",
      "epoch: 02, loss: -0.93351\n",
      "epoch: 03, loss: -0.94196\n",
      "epoch: 04, loss: -0.94780\n",
      "epoch: 05, loss: -0.95191\n",
      "epoch: 06, loss: -0.95509\n",
      "epoch: 07, loss: -0.95753\n",
      "epoch: 08, loss: -0.95965\n",
      "epoch: 09, loss: -0.96135\n",
      "torch.Size([1024, 64])\n"
     ]
    },
    {
     "name": "stderr",
     "output_type": "stream",
     "text": [
      " 13%|█▎        | 129/999 [2:36:09<16:48:18, 69.54s/it]"
     ]
    },
    {
     "name": "stdout",
     "output_type": "stream",
     "text": [
      "eigenvalues shape torch.Size([5]) eigenvectors shape torch.Size([5, 1024])\n",
      "129 /home/phdcs2/Hard_Disk/Datasets/Deep-Spectral-Segmentation/data/object-segmentation/ECSSD/features/0131_resized.pth\n",
      "dict_keys(['k', 'indices', 'file', 'id', 'model_name', 'patch_size', 'shape'])\n",
      "0131_resized\n"
     ]
    },
    {
     "name": "stderr",
     "output_type": "stream",
     "text": [
      "/home/phdcs2/Hard_Disk/Projects/T2I/deep-spectral-segmentation/venv/lib/python3.8/site-packages/sklearn/decomposition/_pca.py:642: RuntimeWarning: invalid value encountered in divide\n",
      "  self.explained_variance_ratio_ = self.explained_variance_ / total_var\n"
     ]
    },
    {
     "name": "stdout",
     "output_type": "stream",
     "text": [
      "Starting Training\n",
      "epoch: 00, loss: -0.92983\n",
      "epoch: 01, loss: -0.95904\n",
      "epoch: 02, loss: -0.96540\n",
      "epoch: 03, loss: -0.96910\n",
      "epoch: 04, loss: -0.97165\n",
      "epoch: 05, loss: -0.97351\n",
      "epoch: 06, loss: -0.97499\n",
      "epoch: 07, loss: -0.97617\n",
      "epoch: 08, loss: -0.97719\n",
      "epoch: 09, loss: -0.97805\n",
      "torch.Size([1024, 64])\n"
     ]
    },
    {
     "name": "stderr",
     "output_type": "stream",
     "text": [
      " 13%|█▎        | 130/999 [2:37:17<16:43:11, 69.26s/it]"
     ]
    },
    {
     "name": "stdout",
     "output_type": "stream",
     "text": [
      "eigenvalues shape torch.Size([5]) eigenvectors shape torch.Size([5, 1024])\n",
      "130 /home/phdcs2/Hard_Disk/Datasets/Deep-Spectral-Segmentation/data/object-segmentation/ECSSD/features/0132_resized.pth\n",
      "dict_keys(['k', 'indices', 'file', 'id', 'model_name', 'patch_size', 'shape'])\n",
      "0132_resized\n"
     ]
    },
    {
     "name": "stderr",
     "output_type": "stream",
     "text": [
      "/home/phdcs2/Hard_Disk/Projects/T2I/deep-spectral-segmentation/venv/lib/python3.8/site-packages/sklearn/decomposition/_pca.py:642: RuntimeWarning: invalid value encountered in divide\n",
      "  self.explained_variance_ratio_ = self.explained_variance_ / total_var\n"
     ]
    },
    {
     "name": "stdout",
     "output_type": "stream",
     "text": [
      "Starting Training\n",
      "epoch: 00, loss: -0.92119\n",
      "epoch: 01, loss: -0.95070\n",
      "epoch: 02, loss: -0.95816\n",
      "epoch: 03, loss: -0.96253\n",
      "epoch: 04, loss: -0.96557\n",
      "epoch: 05, loss: -0.96785\n",
      "epoch: 06, loss: -0.96964\n",
      "epoch: 07, loss: -0.97111\n",
      "epoch: 08, loss: -0.97236\n",
      "epoch: 09, loss: -0.97342\n",
      "torch.Size([1024, 64])\n"
     ]
    },
    {
     "name": "stderr",
     "output_type": "stream",
     "text": [
      " 13%|█▎        | 131/999 [2:38:31<17:00:31, 70.54s/it]"
     ]
    },
    {
     "name": "stdout",
     "output_type": "stream",
     "text": [
      "eigenvalues shape torch.Size([5]) eigenvectors shape torch.Size([5, 1024])\n",
      "131 /home/phdcs2/Hard_Disk/Datasets/Deep-Spectral-Segmentation/data/object-segmentation/ECSSD/features/0133_resized.pth\n",
      "dict_keys(['k', 'indices', 'file', 'id', 'model_name', 'patch_size', 'shape'])\n",
      "0133_resized\n"
     ]
    },
    {
     "name": "stderr",
     "output_type": "stream",
     "text": [
      "/home/phdcs2/Hard_Disk/Projects/T2I/deep-spectral-segmentation/venv/lib/python3.8/site-packages/sklearn/decomposition/_pca.py:642: RuntimeWarning: invalid value encountered in divide\n",
      "  self.explained_variance_ratio_ = self.explained_variance_ / total_var\n"
     ]
    },
    {
     "name": "stdout",
     "output_type": "stream",
     "text": [
      "Starting Training\n",
      "epoch: 00, loss: -0.93430\n",
      "epoch: 01, loss: -0.96000\n",
      "epoch: 02, loss: -0.96573\n",
      "epoch: 03, loss: -0.96913\n",
      "epoch: 04, loss: -0.97148\n",
      "epoch: 05, loss: -0.97322\n",
      "epoch: 06, loss: -0.97458\n",
      "epoch: 07, loss: -0.97573\n",
      "epoch: 08, loss: -0.97671\n",
      "epoch: 09, loss: -0.97751\n",
      "torch.Size([1024, 64])\n"
     ]
    },
    {
     "name": "stderr",
     "output_type": "stream",
     "text": [
      " 13%|█▎        | 132/999 [2:39:43<17:05:42, 70.98s/it]"
     ]
    },
    {
     "name": "stdout",
     "output_type": "stream",
     "text": [
      "eigenvalues shape torch.Size([5]) eigenvectors shape torch.Size([5, 1024])\n",
      "132 /home/phdcs2/Hard_Disk/Datasets/Deep-Spectral-Segmentation/data/object-segmentation/ECSSD/features/0134_resized.pth\n",
      "dict_keys(['k', 'indices', 'file', 'id', 'model_name', 'patch_size', 'shape'])\n",
      "0134_resized\n"
     ]
    },
    {
     "name": "stderr",
     "output_type": "stream",
     "text": [
      "/home/phdcs2/Hard_Disk/Projects/T2I/deep-spectral-segmentation/venv/lib/python3.8/site-packages/sklearn/decomposition/_pca.py:642: RuntimeWarning: invalid value encountered in divide\n",
      "  self.explained_variance_ratio_ = self.explained_variance_ / total_var\n"
     ]
    },
    {
     "name": "stdout",
     "output_type": "stream",
     "text": [
      "Starting Training\n",
      "epoch: 00, loss: -0.92754\n",
      "epoch: 01, loss: -0.95598\n",
      "epoch: 02, loss: -0.96272\n",
      "epoch: 03, loss: -0.96663\n",
      "epoch: 04, loss: -0.96934\n",
      "epoch: 05, loss: -0.97134\n",
      "epoch: 06, loss: -0.97290\n",
      "epoch: 07, loss: -0.97423\n",
      "epoch: 08, loss: -0.97530\n",
      "epoch: 09, loss: -0.97622\n",
      "torch.Size([1024, 64])\n"
     ]
    },
    {
     "name": "stderr",
     "output_type": "stream",
     "text": [
      " 13%|█▎        | 133/999 [2:40:45<16:25:35, 68.29s/it]"
     ]
    },
    {
     "name": "stdout",
     "output_type": "stream",
     "text": [
      "eigenvalues shape torch.Size([5]) eigenvectors shape torch.Size([5, 1024])\n",
      "133 /home/phdcs2/Hard_Disk/Datasets/Deep-Spectral-Segmentation/data/object-segmentation/ECSSD/features/0135_resized.pth\n",
      "dict_keys(['k', 'indices', 'file', 'id', 'model_name', 'patch_size', 'shape'])\n",
      "0135_resized\n",
      "Starting Training\n",
      "epoch: 00, loss: -0.88658\n",
      "epoch: 01, loss: -0.93134\n",
      "epoch: 02, loss: -0.94256\n",
      "epoch: 03, loss: -0.94932\n",
      "epoch: 04, loss: -0.95368\n",
      "epoch: 05, loss: -0.95705\n",
      "epoch: 06, loss: -0.95964\n",
      "epoch: 07, loss: -0.96175\n",
      "epoch: 08, loss: -0.96352\n",
      "epoch: 09, loss: -0.96493\n",
      "torch.Size([1024, 64])\n"
     ]
    },
    {
     "name": "stderr",
     "output_type": "stream",
     "text": [
      " 13%|█▎        | 134/999 [2:41:55<16:32:05, 68.82s/it]"
     ]
    },
    {
     "name": "stdout",
     "output_type": "stream",
     "text": [
      "eigenvalues shape torch.Size([5]) eigenvectors shape torch.Size([5, 1024])\n",
      "134 /home/phdcs2/Hard_Disk/Datasets/Deep-Spectral-Segmentation/data/object-segmentation/ECSSD/features/0136_resized.pth\n",
      "dict_keys(['k', 'indices', 'file', 'id', 'model_name', 'patch_size', 'shape'])\n",
      "0136_resized\n"
     ]
    },
    {
     "name": "stderr",
     "output_type": "stream",
     "text": [
      "/home/phdcs2/Hard_Disk/Projects/T2I/deep-spectral-segmentation/venv/lib/python3.8/site-packages/sklearn/decomposition/_pca.py:642: RuntimeWarning: invalid value encountered in divide\n",
      "  self.explained_variance_ratio_ = self.explained_variance_ / total_var\n"
     ]
    },
    {
     "name": "stdout",
     "output_type": "stream",
     "text": [
      "Starting Training\n",
      "epoch: 00, loss: -0.92543\n",
      "epoch: 01, loss: -0.95602\n",
      "epoch: 02, loss: -0.96262\n",
      "epoch: 03, loss: -0.96643\n",
      "epoch: 04, loss: -0.96902\n",
      "epoch: 05, loss: -0.97094\n",
      "epoch: 06, loss: -0.97246\n",
      "epoch: 07, loss: -0.97371\n",
      "epoch: 08, loss: -0.97474\n",
      "epoch: 09, loss: -0.97566\n",
      "torch.Size([1024, 64])\n"
     ]
    },
    {
     "name": "stderr",
     "output_type": "stream",
     "text": [
      " 14%|█▎        | 135/999 [2:43:08<16:47:39, 69.98s/it]"
     ]
    },
    {
     "name": "stdout",
     "output_type": "stream",
     "text": [
      "eigenvalues shape torch.Size([5]) eigenvectors shape torch.Size([5, 1024])\n",
      "135 /home/phdcs2/Hard_Disk/Datasets/Deep-Spectral-Segmentation/data/object-segmentation/ECSSD/features/0137_resized.pth\n",
      "dict_keys(['k', 'indices', 'file', 'id', 'model_name', 'patch_size', 'shape'])\n",
      "0137_resized\n"
     ]
    },
    {
     "name": "stderr",
     "output_type": "stream",
     "text": [
      "/home/phdcs2/Hard_Disk/Projects/T2I/deep-spectral-segmentation/venv/lib/python3.8/site-packages/sklearn/decomposition/_pca.py:642: RuntimeWarning: invalid value encountered in divide\n",
      "  self.explained_variance_ratio_ = self.explained_variance_ / total_var\n"
     ]
    },
    {
     "name": "stdout",
     "output_type": "stream",
     "text": [
      "Starting Training\n",
      "epoch: 00, loss: -0.92848\n",
      "epoch: 01, loss: -0.95535\n",
      "epoch: 02, loss: -0.96177\n",
      "epoch: 03, loss: -0.96552\n",
      "epoch: 04, loss: -0.96816\n",
      "epoch: 05, loss: -0.97016\n",
      "epoch: 06, loss: -0.97169\n",
      "epoch: 07, loss: -0.97298\n",
      "epoch: 08, loss: -0.97407\n",
      "epoch: 09, loss: -0.97498\n",
      "torch.Size([1024, 64])\n"
     ]
    },
    {
     "name": "stderr",
     "output_type": "stream",
     "text": [
      " 14%|█▎        | 136/999 [2:44:17<16:45:12, 69.89s/it]"
     ]
    },
    {
     "name": "stdout",
     "output_type": "stream",
     "text": [
      "eigenvalues shape torch.Size([5]) eigenvectors shape torch.Size([5, 1024])\n",
      "136 /home/phdcs2/Hard_Disk/Datasets/Deep-Spectral-Segmentation/data/object-segmentation/ECSSD/features/0138_resized.pth\n",
      "dict_keys(['k', 'indices', 'file', 'id', 'model_name', 'patch_size', 'shape'])\n",
      "0138_resized\n",
      "Starting Training\n",
      "epoch: 00, loss: -0.93700\n",
      "epoch: 01, loss: -0.96410\n",
      "epoch: 02, loss: -0.96982\n",
      "epoch: 03, loss: -0.97314\n",
      "epoch: 04, loss: -0.97539\n",
      "epoch: 05, loss: -0.97708\n",
      "epoch: 06, loss: -0.97838\n",
      "epoch: 07, loss: -0.97945\n",
      "epoch: 08, loss: -0.98035\n",
      "epoch: 09, loss: -0.98111\n",
      "torch.Size([1024, 64])\n"
     ]
    },
    {
     "name": "stderr",
     "output_type": "stream",
     "text": [
      " 14%|█▎        | 137/999 [2:45:24<16:28:08, 68.78s/it]"
     ]
    },
    {
     "name": "stdout",
     "output_type": "stream",
     "text": [
      "eigenvalues shape torch.Size([5]) eigenvectors shape torch.Size([5, 1024])\n",
      "137 /home/phdcs2/Hard_Disk/Datasets/Deep-Spectral-Segmentation/data/object-segmentation/ECSSD/features/0139_resized.pth\n",
      "dict_keys(['k', 'indices', 'file', 'id', 'model_name', 'patch_size', 'shape'])\n",
      "0139_resized\n",
      "Starting Training\n",
      "epoch: 00, loss: -0.92162\n",
      "epoch: 01, loss: -0.95306\n",
      "epoch: 02, loss: -0.96022\n",
      "epoch: 03, loss: -0.96452\n",
      "epoch: 04, loss: -0.96741\n",
      "epoch: 05, loss: -0.96961\n",
      "epoch: 06, loss: -0.97131\n",
      "epoch: 07, loss: -0.97271\n",
      "epoch: 08, loss: -0.97388\n",
      "epoch: 09, loss: -0.97491\n",
      "torch.Size([1024, 64])\n"
     ]
    },
    {
     "name": "stderr",
     "output_type": "stream",
     "text": [
      "/home/phdcs2/Hard_Disk/Projects/T2I/deep-spectral-segmentation/venv/lib/python3.8/site-packages/scipy/sparse/linalg/_eigen/arpack/arpack.py:935: LinAlgWarning: Diagonal number 1024 is exactly zero. Singular matrix.\n",
      "  self.M_lu = lu_factor(M)\n"
     ]
    },
    {
     "name": "stdout",
     "output_type": "stream",
     "text": [
      " ** On entry to SLASCL parameter number  4 had an illegal value\n",
      " ** On entry to SLASCL parameter number  4 had an illegal value\n"
     ]
    },
    {
     "name": "stderr",
     "output_type": "stream",
     "text": [
      " 14%|█▍        | 138/999 [2:46:56<18:09:02, 75.89s/it]"
     ]
    },
    {
     "name": "stdout",
     "output_type": "stream",
     "text": [
      "eigenvalues shape torch.Size([5]) eigenvectors shape torch.Size([5, 1024])\n",
      "138 /home/phdcs2/Hard_Disk/Datasets/Deep-Spectral-Segmentation/data/object-segmentation/ECSSD/features/0140_resized.pth\n",
      "dict_keys(['k', 'indices', 'file', 'id', 'model_name', 'patch_size', 'shape'])\n",
      "0140_resized\n",
      "Starting Training\n",
      "epoch: 00, loss: -0.92365\n",
      "epoch: 01, loss: -0.95238\n",
      "epoch: 02, loss: -0.95941\n",
      "epoch: 03, loss: -0.96350\n",
      "epoch: 04, loss: -0.96632\n",
      "epoch: 05, loss: -0.96846\n",
      "epoch: 06, loss: -0.97010\n",
      "epoch: 07, loss: -0.97147\n",
      "epoch: 08, loss: -0.97263\n",
      "epoch: 09, loss: -0.97360\n",
      "torch.Size([1024, 64])\n"
     ]
    },
    {
     "name": "stderr",
     "output_type": "stream",
     "text": [
      " 14%|█▍        | 139/999 [2:48:01<17:19:13, 72.50s/it]"
     ]
    },
    {
     "name": "stdout",
     "output_type": "stream",
     "text": [
      "eigenvalues shape torch.Size([5]) eigenvectors shape torch.Size([5, 1024])\n",
      "139 /home/phdcs2/Hard_Disk/Datasets/Deep-Spectral-Segmentation/data/object-segmentation/ECSSD/features/0141_resized.pth\n",
      "dict_keys(['k', 'indices', 'file', 'id', 'model_name', 'patch_size', 'shape'])\n",
      "0141_resized\n"
     ]
    },
    {
     "name": "stderr",
     "output_type": "stream",
     "text": [
      "/home/phdcs2/Hard_Disk/Projects/T2I/deep-spectral-segmentation/venv/lib/python3.8/site-packages/sklearn/decomposition/_pca.py:642: RuntimeWarning: invalid value encountered in divide\n",
      "  self.explained_variance_ratio_ = self.explained_variance_ / total_var\n"
     ]
    },
    {
     "name": "stdout",
     "output_type": "stream",
     "text": [
      "Starting Training\n",
      "epoch: 00, loss: -0.91424\n",
      "epoch: 01, loss: -0.94986\n",
      "epoch: 02, loss: -0.95781\n",
      "epoch: 03, loss: -0.96231\n",
      "epoch: 04, loss: -0.96537\n",
      "epoch: 05, loss: -0.96768\n",
      "epoch: 06, loss: -0.96943\n",
      "epoch: 07, loss: -0.97088\n",
      "epoch: 08, loss: -0.97206\n",
      "epoch: 09, loss: -0.97308\n",
      "torch.Size([1024, 64])\n"
     ]
    },
    {
     "name": "stderr",
     "output_type": "stream",
     "text": [
      " 14%|█▍        | 140/999 [2:48:58<16:13:22, 67.99s/it]"
     ]
    },
    {
     "name": "stdout",
     "output_type": "stream",
     "text": [
      "eigenvalues shape torch.Size([5]) eigenvectors shape torch.Size([5, 1024])\n",
      "140 /home/phdcs2/Hard_Disk/Datasets/Deep-Spectral-Segmentation/data/object-segmentation/ECSSD/features/0142_resized.pth\n",
      "dict_keys(['k', 'indices', 'file', 'id', 'model_name', 'patch_size', 'shape'])\n",
      "0142_resized\n"
     ]
    },
    {
     "name": "stderr",
     "output_type": "stream",
     "text": [
      "/home/phdcs2/Hard_Disk/Projects/T2I/deep-spectral-segmentation/venv/lib/python3.8/site-packages/sklearn/decomposition/_pca.py:642: RuntimeWarning: invalid value encountered in divide\n",
      "  self.explained_variance_ratio_ = self.explained_variance_ / total_var\n"
     ]
    },
    {
     "name": "stdout",
     "output_type": "stream",
     "text": [
      "Starting Training\n",
      "epoch: 00, loss: -0.92449\n",
      "epoch: 01, loss: -0.95313\n",
      "epoch: 02, loss: -0.95983\n",
      "epoch: 03, loss: -0.96374\n",
      "epoch: 04, loss: -0.96650\n",
      "epoch: 05, loss: -0.96857\n",
      "epoch: 06, loss: -0.97020\n",
      "epoch: 07, loss: -0.97156\n",
      "epoch: 08, loss: -0.97270\n",
      "epoch: 09, loss: -0.97367\n",
      "torch.Size([1024, 64])\n"
     ]
    },
    {
     "name": "stderr",
     "output_type": "stream",
     "text": [
      " 14%|█▍        | 141/999 [2:50:02<15:56:20, 66.88s/it]"
     ]
    },
    {
     "name": "stdout",
     "output_type": "stream",
     "text": [
      "eigenvalues shape torch.Size([5]) eigenvectors shape torch.Size([5, 1024])\n",
      "141 /home/phdcs2/Hard_Disk/Datasets/Deep-Spectral-Segmentation/data/object-segmentation/ECSSD/features/0143_resized.pth\n",
      "dict_keys(['k', 'indices', 'file', 'id', 'model_name', 'patch_size', 'shape'])\n",
      "0143_resized\n"
     ]
    },
    {
     "name": "stderr",
     "output_type": "stream",
     "text": [
      "/home/phdcs2/Hard_Disk/Projects/T2I/deep-spectral-segmentation/venv/lib/python3.8/site-packages/sklearn/decomposition/_pca.py:642: RuntimeWarning: invalid value encountered in divide\n",
      "  self.explained_variance_ratio_ = self.explained_variance_ / total_var\n"
     ]
    },
    {
     "name": "stdout",
     "output_type": "stream",
     "text": [
      "Starting Training\n",
      "epoch: 00, loss: -0.90639\n",
      "epoch: 01, loss: -0.94277\n",
      "epoch: 02, loss: -0.95122\n",
      "epoch: 03, loss: -0.95624\n",
      "epoch: 04, loss: -0.95971\n",
      "epoch: 05, loss: -0.96232\n",
      "epoch: 06, loss: -0.96435\n",
      "epoch: 07, loss: -0.96605\n",
      "epoch: 08, loss: -0.96745\n",
      "epoch: 09, loss: -0.96864\n",
      "torch.Size([1024, 64])\n"
     ]
    },
    {
     "name": "stderr",
     "output_type": "stream",
     "text": [
      " 14%|█▍        | 142/999 [2:51:14<16:15:25, 68.29s/it]"
     ]
    },
    {
     "name": "stdout",
     "output_type": "stream",
     "text": [
      "eigenvalues shape torch.Size([5]) eigenvectors shape torch.Size([5, 1024])\n",
      "142 /home/phdcs2/Hard_Disk/Datasets/Deep-Spectral-Segmentation/data/object-segmentation/ECSSD/features/0144_resized.pth\n",
      "dict_keys(['k', 'indices', 'file', 'id', 'model_name', 'patch_size', 'shape'])\n",
      "0144_resized\n"
     ]
    },
    {
     "name": "stderr",
     "output_type": "stream",
     "text": [
      "/home/phdcs2/Hard_Disk/Projects/T2I/deep-spectral-segmentation/venv/lib/python3.8/site-packages/sklearn/decomposition/_pca.py:642: RuntimeWarning: invalid value encountered in divide\n",
      "  self.explained_variance_ratio_ = self.explained_variance_ / total_var\n"
     ]
    },
    {
     "name": "stdout",
     "output_type": "stream",
     "text": [
      "Starting Training\n",
      "epoch: 00, loss: -0.92192\n",
      "epoch: 01, loss: -0.95266\n",
      "epoch: 02, loss: -0.96023\n",
      "epoch: 03, loss: -0.96460\n",
      "epoch: 04, loss: -0.96751\n",
      "epoch: 05, loss: -0.96972\n",
      "epoch: 06, loss: -0.97145\n",
      "epoch: 07, loss: -0.97285\n",
      "epoch: 08, loss: -0.97404\n",
      "epoch: 09, loss: -0.97503\n",
      "torch.Size([1024, 64])\n"
     ]
    },
    {
     "name": "stderr",
     "output_type": "stream",
     "text": [
      " 14%|█▍        | 143/999 [2:52:22<16:13:35, 68.24s/it]"
     ]
    },
    {
     "name": "stdout",
     "output_type": "stream",
     "text": [
      "eigenvalues shape torch.Size([5]) eigenvectors shape torch.Size([5, 1024])\n",
      "143 /home/phdcs2/Hard_Disk/Datasets/Deep-Spectral-Segmentation/data/object-segmentation/ECSSD/features/0145_resized.pth\n",
      "dict_keys(['k', 'indices', 'file', 'id', 'model_name', 'patch_size', 'shape'])\n",
      "0145_resized\n"
     ]
    },
    {
     "name": "stderr",
     "output_type": "stream",
     "text": [
      "/home/phdcs2/Hard_Disk/Projects/T2I/deep-spectral-segmentation/venv/lib/python3.8/site-packages/sklearn/decomposition/_pca.py:642: RuntimeWarning: invalid value encountered in divide\n",
      "  self.explained_variance_ratio_ = self.explained_variance_ / total_var\n"
     ]
    },
    {
     "name": "stdout",
     "output_type": "stream",
     "text": [
      "Starting Training\n",
      "epoch: 00, loss: -0.92926\n",
      "epoch: 01, loss: -0.95859\n",
      "epoch: 02, loss: -0.96500\n",
      "epoch: 03, loss: -0.96869\n",
      "epoch: 04, loss: -0.97122\n",
      "epoch: 05, loss: -0.97311\n",
      "epoch: 06, loss: -0.97458\n",
      "epoch: 07, loss: -0.97578\n",
      "epoch: 08, loss: -0.97680\n",
      "epoch: 09, loss: -0.97768\n",
      "torch.Size([1024, 64])\n"
     ]
    },
    {
     "name": "stderr",
     "output_type": "stream",
     "text": [
      " 14%|█▍        | 144/999 [2:53:30<16:09:43, 68.05s/it]"
     ]
    },
    {
     "name": "stdout",
     "output_type": "stream",
     "text": [
      "eigenvalues shape torch.Size([5]) eigenvectors shape torch.Size([5, 1024])\n",
      "144 /home/phdcs2/Hard_Disk/Datasets/Deep-Spectral-Segmentation/data/object-segmentation/ECSSD/features/0146_resized.pth\n",
      "dict_keys(['k', 'indices', 'file', 'id', 'model_name', 'patch_size', 'shape'])\n",
      "0146_resized\n",
      "Starting Training\n",
      "epoch: 00, loss: -0.88434\n",
      "epoch: 01, loss: -0.93151\n",
      "epoch: 02, loss: -0.94316\n",
      "epoch: 03, loss: -0.94956\n",
      "epoch: 04, loss: -0.95418\n",
      "epoch: 05, loss: -0.95742\n",
      "epoch: 06, loss: -0.96001\n",
      "epoch: 07, loss: -0.96209\n",
      "epoch: 08, loss: -0.96384\n",
      "epoch: 09, loss: -0.96525\n",
      "torch.Size([1024, 64])\n"
     ]
    },
    {
     "name": "stderr",
     "output_type": "stream",
     "text": [
      " 15%|█▍        | 145/999 [2:54:43<16:30:39, 69.60s/it]"
     ]
    },
    {
     "name": "stdout",
     "output_type": "stream",
     "text": [
      "eigenvalues shape torch.Size([5]) eigenvectors shape torch.Size([5, 1024])\n",
      "145 /home/phdcs2/Hard_Disk/Datasets/Deep-Spectral-Segmentation/data/object-segmentation/ECSSD/features/0147_resized.pth\n",
      "dict_keys(['k', 'indices', 'file', 'id', 'model_name', 'patch_size', 'shape'])\n",
      "0147_resized\n"
     ]
    },
    {
     "name": "stderr",
     "output_type": "stream",
     "text": [
      "/home/phdcs2/Hard_Disk/Projects/T2I/deep-spectral-segmentation/venv/lib/python3.8/site-packages/sklearn/decomposition/_pca.py:642: RuntimeWarning: invalid value encountered in divide\n",
      "  self.explained_variance_ratio_ = self.explained_variance_ / total_var\n"
     ]
    },
    {
     "name": "stdout",
     "output_type": "stream",
     "text": [
      "Starting Training\n",
      "epoch: 00, loss: -0.91672\n",
      "epoch: 01, loss: -0.95164\n",
      "epoch: 02, loss: -0.95920\n",
      "epoch: 03, loss: -0.96351\n",
      "epoch: 04, loss: -0.96647\n",
      "epoch: 05, loss: -0.96862\n",
      "epoch: 06, loss: -0.97035\n",
      "epoch: 07, loss: -0.97170\n",
      "epoch: 08, loss: -0.97290\n",
      "epoch: 09, loss: -0.97387\n",
      "torch.Size([1024, 64])\n"
     ]
    },
    {
     "name": "stderr",
     "output_type": "stream",
     "text": [
      " 15%|█▍        | 146/999 [2:55:55<16:38:02, 70.20s/it]"
     ]
    },
    {
     "name": "stdout",
     "output_type": "stream",
     "text": [
      "eigenvalues shape torch.Size([5]) eigenvectors shape torch.Size([5, 1024])\n",
      "146 /home/phdcs2/Hard_Disk/Datasets/Deep-Spectral-Segmentation/data/object-segmentation/ECSSD/features/0148_resized.pth\n",
      "dict_keys(['k', 'indices', 'file', 'id', 'model_name', 'patch_size', 'shape'])\n",
      "0148_resized\n",
      "Starting Training\n",
      "epoch: 00, loss: -0.85129\n",
      "epoch: 01, loss: -0.91101\n",
      "epoch: 02, loss: -0.92747\n",
      "epoch: 03, loss: -0.93655\n",
      "epoch: 04, loss: -0.94291\n",
      "epoch: 05, loss: -0.94723\n",
      "epoch: 06, loss: -0.95076\n",
      "epoch: 07, loss: -0.95372\n",
      "epoch: 08, loss: -0.95608\n",
      "epoch: 09, loss: -0.95809\n",
      "torch.Size([1024, 64])\n"
     ]
    },
    {
     "name": "stderr",
     "output_type": "stream",
     "text": [
      " 15%|█▍        | 147/999 [2:57:06<16:42:18, 70.59s/it]"
     ]
    },
    {
     "name": "stdout",
     "output_type": "stream",
     "text": [
      "eigenvalues shape torch.Size([5]) eigenvectors shape torch.Size([5, 1024])\n",
      "147 /home/phdcs2/Hard_Disk/Datasets/Deep-Spectral-Segmentation/data/object-segmentation/ECSSD/features/0149_resized.pth\n",
      "dict_keys(['k', 'indices', 'file', 'id', 'model_name', 'patch_size', 'shape'])\n",
      "0149_resized\n"
     ]
    },
    {
     "name": "stderr",
     "output_type": "stream",
     "text": [
      "/home/phdcs2/Hard_Disk/Projects/T2I/deep-spectral-segmentation/venv/lib/python3.8/site-packages/sklearn/decomposition/_pca.py:642: RuntimeWarning: invalid value encountered in divide\n",
      "  self.explained_variance_ratio_ = self.explained_variance_ / total_var\n"
     ]
    },
    {
     "name": "stdout",
     "output_type": "stream",
     "text": [
      "Starting Training\n",
      "epoch: 00, loss: -0.93105\n",
      "epoch: 01, loss: -0.96371\n",
      "epoch: 02, loss: -0.96958\n",
      "epoch: 03, loss: -0.97298\n",
      "epoch: 04, loss: -0.97526\n",
      "epoch: 05, loss: -0.97697\n",
      "epoch: 06, loss: -0.97828\n",
      "epoch: 07, loss: -0.97937\n",
      "epoch: 08, loss: -0.98029\n",
      "epoch: 09, loss: -0.98103\n",
      "torch.Size([1024, 64])\n"
     ]
    },
    {
     "name": "stderr",
     "output_type": "stream",
     "text": [
      " 15%|█▍        | 148/999 [2:58:09<16:09:47, 68.38s/it]"
     ]
    },
    {
     "name": "stdout",
     "output_type": "stream",
     "text": [
      "eigenvalues shape torch.Size([5]) eigenvectors shape torch.Size([5, 1024])\n",
      "148 /home/phdcs2/Hard_Disk/Datasets/Deep-Spectral-Segmentation/data/object-segmentation/ECSSD/features/0150_resized.pth\n",
      "dict_keys(['k', 'indices', 'file', 'id', 'model_name', 'patch_size', 'shape'])\n",
      "0150_resized\n",
      "Starting Training\n",
      "epoch: 00, loss: -0.88617\n",
      "epoch: 01, loss: -0.93116\n",
      "epoch: 02, loss: -0.94234\n",
      "epoch: 03, loss: -0.94909\n",
      "epoch: 04, loss: -0.95335\n",
      "epoch: 05, loss: -0.95669\n",
      "epoch: 06, loss: -0.95922\n",
      "epoch: 07, loss: -0.96135\n",
      "epoch: 08, loss: -0.96297\n",
      "epoch: 09, loss: -0.96450\n",
      "torch.Size([1024, 64])\n"
     ]
    },
    {
     "name": "stderr",
     "output_type": "stream",
     "text": [
      " 15%|█▍        | 149/999 [2:59:12<15:46:33, 66.82s/it]"
     ]
    },
    {
     "name": "stdout",
     "output_type": "stream",
     "text": [
      "eigenvalues shape torch.Size([5]) eigenvectors shape torch.Size([5, 1024])\n",
      "149 /home/phdcs2/Hard_Disk/Datasets/Deep-Spectral-Segmentation/data/object-segmentation/ECSSD/features/0151_resized.pth\n",
      "dict_keys(['k', 'indices', 'file', 'id', 'model_name', 'patch_size', 'shape'])\n",
      "0151_resized\n"
     ]
    },
    {
     "name": "stderr",
     "output_type": "stream",
     "text": [
      "/home/phdcs2/Hard_Disk/Projects/T2I/deep-spectral-segmentation/venv/lib/python3.8/site-packages/sklearn/decomposition/_pca.py:642: RuntimeWarning: invalid value encountered in divide\n",
      "  self.explained_variance_ratio_ = self.explained_variance_ / total_var\n"
     ]
    },
    {
     "name": "stdout",
     "output_type": "stream",
     "text": [
      "Starting Training\n",
      "epoch: 00, loss: -0.93638\n",
      "epoch: 01, loss: -0.96241\n",
      "epoch: 02, loss: -0.96782\n",
      "epoch: 03, loss: -0.97092\n",
      "epoch: 04, loss: -0.97314\n",
      "epoch: 05, loss: -0.97477\n",
      "epoch: 06, loss: -0.97609\n",
      "epoch: 07, loss: -0.97714\n",
      "epoch: 08, loss: -0.97803\n",
      "epoch: 09, loss: -0.97880\n",
      "torch.Size([1024, 64])\n"
     ]
    },
    {
     "name": "stderr",
     "output_type": "stream",
     "text": [
      " 15%|█▌        | 150/999 [3:00:26<16:15:15, 68.92s/it]"
     ]
    },
    {
     "name": "stdout",
     "output_type": "stream",
     "text": [
      "eigenvalues shape torch.Size([5]) eigenvectors shape torch.Size([5, 1024])\n",
      "150 /home/phdcs2/Hard_Disk/Datasets/Deep-Spectral-Segmentation/data/object-segmentation/ECSSD/features/0152_resized.pth\n",
      "dict_keys(['k', 'indices', 'file', 'id', 'model_name', 'patch_size', 'shape'])\n",
      "0152_resized\n",
      "Starting Training\n",
      "epoch: 00, loss: -0.87713\n",
      "epoch: 01, loss: -0.92743\n",
      "epoch: 02, loss: -0.93990\n",
      "epoch: 03, loss: -0.94664\n",
      "epoch: 04, loss: -0.95114\n",
      "epoch: 05, loss: -0.95457\n",
      "epoch: 06, loss: -0.95723\n",
      "epoch: 07, loss: -0.95938\n",
      "epoch: 08, loss: -0.96118\n",
      "epoch: 09, loss: -0.96272\n",
      "torch.Size([1024, 64])\n"
     ]
    },
    {
     "name": "stderr",
     "output_type": "stream",
     "text": [
      " 15%|█▌        | 151/999 [3:01:43<16:45:13, 71.12s/it]"
     ]
    },
    {
     "name": "stdout",
     "output_type": "stream",
     "text": [
      "eigenvalues shape torch.Size([5]) eigenvectors shape torch.Size([5, 1024])\n",
      "151 /home/phdcs2/Hard_Disk/Datasets/Deep-Spectral-Segmentation/data/object-segmentation/ECSSD/features/0153_resized.pth\n",
      "dict_keys(['k', 'indices', 'file', 'id', 'model_name', 'patch_size', 'shape'])\n",
      "0153_resized\n",
      "Starting Training\n",
      "epoch: 00, loss: -0.87096\n",
      "epoch: 01, loss: -0.92134\n",
      "epoch: 02, loss: -0.93469\n",
      "epoch: 03, loss: -0.94228\n",
      "epoch: 04, loss: -0.94731\n",
      "epoch: 05, loss: -0.95099\n",
      "epoch: 06, loss: -0.95387\n",
      "epoch: 07, loss: -0.95631\n",
      "epoch: 08, loss: -0.95821\n",
      "epoch: 09, loss: -0.95991\n",
      "torch.Size([1024, 64])\n"
     ]
    },
    {
     "name": "stderr",
     "output_type": "stream",
     "text": [
      " 15%|█▌        | 152/999 [3:02:56<16:52:52, 71.75s/it]"
     ]
    },
    {
     "name": "stdout",
     "output_type": "stream",
     "text": [
      "eigenvalues shape torch.Size([5]) eigenvectors shape torch.Size([5, 1024])\n",
      "152 /home/phdcs2/Hard_Disk/Datasets/Deep-Spectral-Segmentation/data/object-segmentation/ECSSD/features/0154_resized.pth\n",
      "dict_keys(['k', 'indices', 'file', 'id', 'model_name', 'patch_size', 'shape'])\n",
      "0154_resized\n",
      "Starting Training\n",
      "epoch: 00, loss: -0.88334\n",
      "epoch: 01, loss: -0.93081\n",
      "epoch: 02, loss: -0.94288\n",
      "epoch: 03, loss: -0.94978\n",
      "epoch: 04, loss: -0.95433\n",
      "epoch: 05, loss: -0.95765\n",
      "epoch: 06, loss: -0.96036\n",
      "epoch: 07, loss: -0.96246\n",
      "epoch: 08, loss: -0.96423\n",
      "epoch: 09, loss: -0.96574\n",
      "torch.Size([1024, 64])\n"
     ]
    },
    {
     "name": "stderr",
     "output_type": "stream",
     "text": [
      " 15%|█▌        | 153/999 [3:04:07<16:48:50, 71.55s/it]"
     ]
    },
    {
     "name": "stdout",
     "output_type": "stream",
     "text": [
      "eigenvalues shape torch.Size([5]) eigenvectors shape torch.Size([5, 1024])\n",
      "153 /home/phdcs2/Hard_Disk/Datasets/Deep-Spectral-Segmentation/data/object-segmentation/ECSSD/features/0155_resized.pth\n",
      "dict_keys(['k', 'indices', 'file', 'id', 'model_name', 'patch_size', 'shape'])\n",
      "0155_resized\n",
      "Starting Training\n",
      "epoch: 00, loss: -0.87022\n",
      "epoch: 01, loss: -0.92423\n",
      "epoch: 02, loss: -0.93749\n",
      "epoch: 03, loss: -0.94526\n",
      "epoch: 04, loss: -0.95040\n",
      "epoch: 05, loss: -0.95393\n",
      "epoch: 06, loss: -0.95670\n",
      "epoch: 07, loss: -0.95909\n",
      "epoch: 08, loss: -0.96108\n",
      "epoch: 09, loss: -0.96267\n",
      "torch.Size([1024, 64])\n"
     ]
    },
    {
     "name": "stderr",
     "output_type": "stream",
     "text": [
      " 15%|█▌        | 154/999 [3:05:15<16:34:38, 70.63s/it]"
     ]
    },
    {
     "name": "stdout",
     "output_type": "stream",
     "text": [
      "eigenvalues shape torch.Size([5]) eigenvectors shape torch.Size([5, 1024])\n",
      "154 /home/phdcs2/Hard_Disk/Datasets/Deep-Spectral-Segmentation/data/object-segmentation/ECSSD/features/0156_resized.pth\n",
      "dict_keys(['k', 'indices', 'file', 'id', 'model_name', 'patch_size', 'shape'])\n",
      "0156_resized\n",
      "Starting Training\n",
      "epoch: 00, loss: -0.93111\n",
      "epoch: 01, loss: -0.96143\n",
      "epoch: 02, loss: -0.96714\n",
      "epoch: 03, loss: -0.97049\n",
      "epoch: 04, loss: -0.97278\n",
      "epoch: 05, loss: -0.97450\n",
      "epoch: 06, loss: -0.97584\n",
      "epoch: 07, loss: -0.97695\n",
      "epoch: 08, loss: -0.97788\n",
      "epoch: 09, loss: -0.97867\n",
      "torch.Size([1024, 64])\n"
     ]
    },
    {
     "name": "stderr",
     "output_type": "stream",
     "text": [
      " 16%|█▌        | 155/999 [3:06:27<16:36:52, 70.87s/it]"
     ]
    },
    {
     "name": "stdout",
     "output_type": "stream",
     "text": [
      "eigenvalues shape torch.Size([5]) eigenvectors shape torch.Size([5, 1024])\n",
      "155 /home/phdcs2/Hard_Disk/Datasets/Deep-Spectral-Segmentation/data/object-segmentation/ECSSD/features/0157_resized.pth\n",
      "dict_keys(['k', 'indices', 'file', 'id', 'model_name', 'patch_size', 'shape'])\n",
      "0157_resized\n"
     ]
    },
    {
     "name": "stderr",
     "output_type": "stream",
     "text": [
      "/home/phdcs2/Hard_Disk/Projects/T2I/deep-spectral-segmentation/venv/lib/python3.8/site-packages/sklearn/decomposition/_pca.py:642: RuntimeWarning: invalid value encountered in divide\n",
      "  self.explained_variance_ratio_ = self.explained_variance_ / total_var\n"
     ]
    },
    {
     "name": "stdout",
     "output_type": "stream",
     "text": [
      "Starting Training\n",
      "epoch: 00, loss: -0.92173\n",
      "epoch: 01, loss: -0.95029\n",
      "epoch: 02, loss: -0.95785\n",
      "epoch: 03, loss: -0.96215\n",
      "epoch: 04, loss: -0.96517\n",
      "epoch: 05, loss: -0.96744\n",
      "epoch: 06, loss: -0.96920\n",
      "epoch: 07, loss: -0.97067\n",
      "epoch: 08, loss: -0.97188\n",
      "epoch: 09, loss: -0.97292\n",
      "torch.Size([1024, 64])\n"
     ]
    },
    {
     "name": "stderr",
     "output_type": "stream",
     "text": [
      " 16%|█▌        | 156/999 [3:07:40<16:44:52, 71.52s/it]"
     ]
    },
    {
     "name": "stdout",
     "output_type": "stream",
     "text": [
      "eigenvalues shape torch.Size([5]) eigenvectors shape torch.Size([5, 1024])\n",
      "156 /home/phdcs2/Hard_Disk/Datasets/Deep-Spectral-Segmentation/data/object-segmentation/ECSSD/features/0158_resized.pth\n",
      "dict_keys(['k', 'indices', 'file', 'id', 'model_name', 'patch_size', 'shape'])\n",
      "0158_resized\n"
     ]
    },
    {
     "name": "stderr",
     "output_type": "stream",
     "text": [
      "/home/phdcs2/Hard_Disk/Projects/T2I/deep-spectral-segmentation/venv/lib/python3.8/site-packages/sklearn/decomposition/_pca.py:642: RuntimeWarning: invalid value encountered in divide\n",
      "  self.explained_variance_ratio_ = self.explained_variance_ / total_var\n"
     ]
    },
    {
     "name": "stdout",
     "output_type": "stream",
     "text": [
      "Starting Training\n",
      "epoch: 00, loss: -0.95665\n",
      "epoch: 01, loss: -0.97506\n",
      "epoch: 02, loss: -0.97859\n",
      "epoch: 03, loss: -0.98062\n",
      "epoch: 04, loss: -0.98208\n",
      "epoch: 05, loss: -0.98318\n",
      "epoch: 06, loss: -0.98404\n",
      "epoch: 07, loss: -0.98476\n",
      "epoch: 08, loss: -0.98536\n",
      "epoch: 09, loss: -0.98588\n",
      "torch.Size([1024, 64])\n"
     ]
    },
    {
     "name": "stderr",
     "output_type": "stream",
     "text": [
      " 16%|█▌        | 157/999 [3:08:56<17:01:27, 72.79s/it]"
     ]
    },
    {
     "name": "stdout",
     "output_type": "stream",
     "text": [
      "eigenvalues shape torch.Size([5]) eigenvectors shape torch.Size([5, 1024])\n",
      "157 /home/phdcs2/Hard_Disk/Datasets/Deep-Spectral-Segmentation/data/object-segmentation/ECSSD/features/0159_resized.pth\n",
      "dict_keys(['k', 'indices', 'file', 'id', 'model_name', 'patch_size', 'shape'])\n",
      "0159_resized\n",
      "Starting Training\n",
      "epoch: 00, loss: -0.84842\n",
      "epoch: 01, loss: -0.91111\n",
      "epoch: 02, loss: -0.92716\n",
      "epoch: 03, loss: -0.93640\n",
      "epoch: 04, loss: -0.94228\n",
      "epoch: 05, loss: -0.94674\n",
      "epoch: 06, loss: -0.95022\n",
      "epoch: 07, loss: -0.95283\n",
      "epoch: 08, loss: -0.95512\n",
      "epoch: 09, loss: -0.95703\n",
      "torch.Size([1024, 64])\n"
     ]
    },
    {
     "name": "stderr",
     "output_type": "stream",
     "text": [
      " 16%|█▌        | 158/999 [3:10:04<16:41:32, 71.45s/it]"
     ]
    },
    {
     "name": "stdout",
     "output_type": "stream",
     "text": [
      "eigenvalues shape torch.Size([5]) eigenvectors shape torch.Size([5, 1024])\n",
      "158 /home/phdcs2/Hard_Disk/Datasets/Deep-Spectral-Segmentation/data/object-segmentation/ECSSD/features/0160_resized.pth\n",
      "dict_keys(['k', 'indices', 'file', 'id', 'model_name', 'patch_size', 'shape'])\n",
      "0160_resized\n",
      "Starting Training\n",
      "epoch: 00, loss: -0.93442\n",
      "epoch: 01, loss: -0.96149\n",
      "epoch: 02, loss: -0.96788\n",
      "epoch: 03, loss: -0.97148\n",
      "epoch: 04, loss: -0.97396\n",
      "epoch: 05, loss: -0.97577\n",
      "epoch: 06, loss: -0.97721\n",
      "epoch: 07, loss: -0.97839\n",
      "epoch: 08, loss: -0.97935\n",
      "epoch: 09, loss: -0.98019\n",
      "torch.Size([1024, 64])\n"
     ]
    },
    {
     "name": "stderr",
     "output_type": "stream",
     "text": [
      " 16%|█▌        | 159/999 [3:11:09<16:15:54, 69.71s/it]"
     ]
    },
    {
     "name": "stdout",
     "output_type": "stream",
     "text": [
      "eigenvalues shape torch.Size([5]) eigenvectors shape torch.Size([5, 1024])\n",
      "159 /home/phdcs2/Hard_Disk/Datasets/Deep-Spectral-Segmentation/data/object-segmentation/ECSSD/features/0161_resized.pth\n",
      "dict_keys(['k', 'indices', 'file', 'id', 'model_name', 'patch_size', 'shape'])\n",
      "0161_resized\n",
      "Starting Training\n",
      "epoch: 00, loss: -0.85738\n",
      "epoch: 01, loss: -0.91545\n",
      "epoch: 02, loss: -0.92984\n",
      "epoch: 03, loss: -0.93800\n",
      "epoch: 04, loss: -0.94331\n",
      "epoch: 05, loss: -0.94757\n",
      "epoch: 06, loss: -0.95060\n",
      "epoch: 07, loss: -0.95305\n",
      "epoch: 08, loss: -0.95516\n",
      "epoch: 09, loss: -0.95697\n",
      "torch.Size([1024, 64])\n"
     ]
    },
    {
     "name": "stderr",
     "output_type": "stream",
     "text": [
      " 16%|█▌        | 160/999 [3:12:16<16:01:08, 68.74s/it]"
     ]
    },
    {
     "name": "stdout",
     "output_type": "stream",
     "text": [
      "eigenvalues shape torch.Size([5]) eigenvectors shape torch.Size([5, 1024])\n",
      "160 /home/phdcs2/Hard_Disk/Datasets/Deep-Spectral-Segmentation/data/object-segmentation/ECSSD/features/0162_resized.pth\n",
      "dict_keys(['k', 'indices', 'file', 'id', 'model_name', 'patch_size', 'shape'])\n",
      "0162_resized\n",
      "Starting Training\n",
      "epoch: 00, loss: -0.82409\n",
      "epoch: 01, loss: -0.89718\n",
      "epoch: 02, loss: -0.91492\n",
      "epoch: 03, loss: -0.92498\n",
      "epoch: 04, loss: -0.93162\n",
      "epoch: 05, loss: -0.93617\n",
      "epoch: 06, loss: -0.93991\n",
      "epoch: 07, loss: -0.94288\n",
      "epoch: 08, loss: -0.94530\n",
      "epoch: 09, loss: -0.94738\n",
      "torch.Size([1024, 64])\n"
     ]
    },
    {
     "name": "stderr",
     "output_type": "stream",
     "text": [
      " 16%|█▌        | 161/999 [3:13:32<16:30:40, 70.93s/it]"
     ]
    },
    {
     "name": "stdout",
     "output_type": "stream",
     "text": [
      "eigenvalues shape torch.Size([5]) eigenvectors shape torch.Size([5, 1024])\n",
      "161 /home/phdcs2/Hard_Disk/Datasets/Deep-Spectral-Segmentation/data/object-segmentation/ECSSD/features/0163_resized.pth\n",
      "dict_keys(['k', 'indices', 'file', 'id', 'model_name', 'patch_size', 'shape'])\n",
      "0163_resized\n",
      "Starting Training\n",
      "epoch: 00, loss: -0.88008\n",
      "epoch: 01, loss: -0.93010\n",
      "epoch: 02, loss: -0.94226\n",
      "epoch: 03, loss: -0.94938\n",
      "epoch: 04, loss: -0.95402\n",
      "epoch: 05, loss: -0.95755\n",
      "epoch: 06, loss: -0.96015\n",
      "epoch: 07, loss: -0.96231\n",
      "epoch: 08, loss: -0.96417\n",
      "epoch: 09, loss: -0.96565\n",
      "torch.Size([1024, 64])\n"
     ]
    },
    {
     "name": "stderr",
     "output_type": "stream",
     "text": [
      " 16%|█▌        | 162/999 [3:14:50<16:58:51, 73.04s/it]"
     ]
    },
    {
     "name": "stdout",
     "output_type": "stream",
     "text": [
      "eigenvalues shape torch.Size([5]) eigenvectors shape torch.Size([5, 1024])\n",
      "162 /home/phdcs2/Hard_Disk/Datasets/Deep-Spectral-Segmentation/data/object-segmentation/ECSSD/features/0164_resized.pth\n",
      "dict_keys(['k', 'indices', 'file', 'id', 'model_name', 'patch_size', 'shape'])\n",
      "0164_resized\n",
      "Starting Training\n",
      "epoch: 00, loss: -0.85008\n",
      "epoch: 01, loss: -0.91190\n",
      "epoch: 02, loss: -0.92793\n",
      "epoch: 03, loss: -0.93652\n",
      "epoch: 04, loss: -0.94249\n",
      "epoch: 05, loss: -0.94680\n",
      "epoch: 06, loss: -0.95021\n",
      "epoch: 07, loss: -0.95294\n",
      "epoch: 08, loss: -0.95515\n",
      "epoch: 09, loss: -0.95712\n",
      "torch.Size([1024, 64])\n"
     ]
    },
    {
     "name": "stderr",
     "output_type": "stream",
     "text": [
      " 16%|█▋        | 163/999 [3:16:03<16:58:26, 73.09s/it]"
     ]
    },
    {
     "name": "stdout",
     "output_type": "stream",
     "text": [
      "eigenvalues shape torch.Size([5]) eigenvectors shape torch.Size([5, 1024])\n",
      "163 /home/phdcs2/Hard_Disk/Datasets/Deep-Spectral-Segmentation/data/object-segmentation/ECSSD/features/0165_resized.pth\n",
      "dict_keys(['k', 'indices', 'file', 'id', 'model_name', 'patch_size', 'shape'])\n",
      "0165_resized\n"
     ]
    },
    {
     "name": "stderr",
     "output_type": "stream",
     "text": [
      "/home/phdcs2/Hard_Disk/Projects/T2I/deep-spectral-segmentation/venv/lib/python3.8/site-packages/sklearn/decomposition/_pca.py:642: RuntimeWarning: invalid value encountered in divide\n",
      "  self.explained_variance_ratio_ = self.explained_variance_ / total_var\n"
     ]
    },
    {
     "name": "stdout",
     "output_type": "stream",
     "text": [
      "Starting Training\n",
      "epoch: 00, loss: -0.91615\n",
      "epoch: 01, loss: -0.95249\n",
      "epoch: 02, loss: -0.96024\n",
      "epoch: 03, loss: -0.96476\n",
      "epoch: 04, loss: -0.96780\n",
      "epoch: 05, loss: -0.97007\n",
      "epoch: 06, loss: -0.97183\n",
      "epoch: 07, loss: -0.97325\n",
      "epoch: 08, loss: -0.97446\n",
      "epoch: 09, loss: -0.97547\n",
      "torch.Size([1024, 64])\n"
     ]
    },
    {
     "name": "stderr",
     "output_type": "stream",
     "text": [
      " 16%|█▋        | 164/999 [3:17:18<17:04:11, 73.59s/it]"
     ]
    },
    {
     "name": "stdout",
     "output_type": "stream",
     "text": [
      "eigenvalues shape torch.Size([5]) eigenvectors shape torch.Size([5, 1024])\n",
      "164 /home/phdcs2/Hard_Disk/Datasets/Deep-Spectral-Segmentation/data/object-segmentation/ECSSD/features/0166_resized.pth\n",
      "dict_keys(['k', 'indices', 'file', 'id', 'model_name', 'patch_size', 'shape'])\n",
      "0166_resized\n",
      "Starting Training\n",
      "epoch: 00, loss: -0.86404\n",
      "epoch: 01, loss: -0.92345\n",
      "epoch: 02, loss: -0.93754\n",
      "epoch: 03, loss: -0.94522\n",
      "epoch: 04, loss: -0.95050\n",
      "epoch: 05, loss: -0.95438\n",
      "epoch: 06, loss: -0.95732\n",
      "epoch: 07, loss: -0.95971\n",
      "epoch: 08, loss: -0.96174\n",
      "epoch: 09, loss: -0.96340\n",
      "torch.Size([1024, 64])\n"
     ]
    },
    {
     "name": "stderr",
     "output_type": "stream",
     "text": [
      " 17%|█▋        | 165/999 [3:18:20<16:15:29, 70.18s/it]"
     ]
    },
    {
     "name": "stdout",
     "output_type": "stream",
     "text": [
      "eigenvalues shape torch.Size([5]) eigenvectors shape torch.Size([5, 1024])\n",
      "165 /home/phdcs2/Hard_Disk/Datasets/Deep-Spectral-Segmentation/data/object-segmentation/ECSSD/features/0167_resized.pth\n",
      "dict_keys(['k', 'indices', 'file', 'id', 'model_name', 'patch_size', 'shape'])\n",
      "0167_resized\n"
     ]
    },
    {
     "name": "stderr",
     "output_type": "stream",
     "text": [
      "/home/phdcs2/Hard_Disk/Projects/T2I/deep-spectral-segmentation/venv/lib/python3.8/site-packages/sklearn/decomposition/_pca.py:642: RuntimeWarning: invalid value encountered in divide\n",
      "  self.explained_variance_ratio_ = self.explained_variance_ / total_var\n"
     ]
    },
    {
     "name": "stdout",
     "output_type": "stream",
     "text": [
      "Starting Training\n",
      "epoch: 00, loss: -0.92017\n",
      "epoch: 01, loss: -0.95459\n",
      "epoch: 02, loss: -0.96192\n",
      "epoch: 03, loss: -0.96607\n",
      "epoch: 04, loss: -0.96890\n",
      "epoch: 05, loss: -0.97105\n",
      "epoch: 06, loss: -0.97270\n",
      "epoch: 07, loss: -0.97404\n",
      "epoch: 08, loss: -0.97516\n",
      "epoch: 09, loss: -0.97613\n",
      "torch.Size([1024, 64])\n"
     ]
    },
    {
     "name": "stderr",
     "output_type": "stream",
     "text": [
      " 17%|█▋        | 166/999 [3:19:37<16:42:12, 72.19s/it]"
     ]
    },
    {
     "name": "stdout",
     "output_type": "stream",
     "text": [
      "eigenvalues shape torch.Size([5]) eigenvectors shape torch.Size([5, 1024])\n",
      "166 /home/phdcs2/Hard_Disk/Datasets/Deep-Spectral-Segmentation/data/object-segmentation/ECSSD/features/0168_resized.pth\n",
      "dict_keys(['k', 'indices', 'file', 'id', 'model_name', 'patch_size', 'shape'])\n",
      "0168_resized\n",
      "Starting Training\n",
      "epoch: 00, loss: -0.92225\n",
      "epoch: 01, loss: -0.95606\n",
      "epoch: 02, loss: -0.96328\n",
      "epoch: 03, loss: -0.96732\n",
      "epoch: 04, loss: -0.97005\n",
      "epoch: 05, loss: -0.97206\n",
      "epoch: 06, loss: -0.97367\n",
      "epoch: 07, loss: -0.97493\n",
      "epoch: 08, loss: -0.97600\n",
      "epoch: 09, loss: -0.97691\n",
      "torch.Size([1024, 64])\n"
     ]
    },
    {
     "name": "stderr",
     "output_type": "stream",
     "text": [
      " 17%|█▋        | 167/999 [3:20:52<16:51:22, 72.94s/it]"
     ]
    },
    {
     "name": "stdout",
     "output_type": "stream",
     "text": [
      "eigenvalues shape torch.Size([5]) eigenvectors shape torch.Size([5, 1024])\n",
      "167 /home/phdcs2/Hard_Disk/Datasets/Deep-Spectral-Segmentation/data/object-segmentation/ECSSD/features/0169_resized.pth\n",
      "dict_keys(['k', 'indices', 'file', 'id', 'model_name', 'patch_size', 'shape'])\n",
      "0169_resized\n",
      "Starting Training\n",
      "epoch: 00, loss: -0.92029\n",
      "epoch: 01, loss: -0.95362\n",
      "epoch: 02, loss: -0.96117\n",
      "epoch: 03, loss: -0.96551\n",
      "epoch: 04, loss: -0.96842\n",
      "epoch: 05, loss: -0.97062\n",
      "epoch: 06, loss: -0.97230\n",
      "epoch: 07, loss: -0.97369\n",
      "epoch: 08, loss: -0.97484\n",
      "epoch: 09, loss: -0.97582\n",
      "torch.Size([1024, 64])\n"
     ]
    },
    {
     "name": "stderr",
     "output_type": "stream",
     "text": [
      " 17%|█▋        | 168/999 [3:22:05<16:51:49, 73.06s/it]"
     ]
    },
    {
     "name": "stdout",
     "output_type": "stream",
     "text": [
      "eigenvalues shape torch.Size([5]) eigenvectors shape torch.Size([5, 1024])\n",
      "168 /home/phdcs2/Hard_Disk/Datasets/Deep-Spectral-Segmentation/data/object-segmentation/ECSSD/features/0170_resized.pth\n",
      "dict_keys(['k', 'indices', 'file', 'id', 'model_name', 'patch_size', 'shape'])\n",
      "0170_resized\n",
      "Starting Training\n",
      "epoch: 00, loss: -0.92363\n",
      "epoch: 01, loss: -0.95276\n",
      "epoch: 02, loss: -0.95970\n",
      "epoch: 03, loss: -0.96371\n",
      "epoch: 04, loss: -0.96648\n",
      "epoch: 05, loss: -0.96858\n",
      "epoch: 06, loss: -0.97025\n",
      "epoch: 07, loss: -0.97161\n",
      "epoch: 08, loss: -0.97276\n",
      "epoch: 09, loss: -0.97372\n",
      "torch.Size([1024, 64])\n"
     ]
    },
    {
     "name": "stderr",
     "output_type": "stream",
     "text": [
      " 17%|█▋        | 169/999 [3:23:20<16:57:27, 73.55s/it]"
     ]
    },
    {
     "name": "stdout",
     "output_type": "stream",
     "text": [
      "eigenvalues shape torch.Size([5]) eigenvectors shape torch.Size([5, 1024])\n",
      "169 /home/phdcs2/Hard_Disk/Datasets/Deep-Spectral-Segmentation/data/object-segmentation/ECSSD/features/0171_resized.pth\n",
      "dict_keys(['k', 'indices', 'file', 'id', 'model_name', 'patch_size', 'shape'])\n",
      "0171_resized\n"
     ]
    },
    {
     "name": "stderr",
     "output_type": "stream",
     "text": [
      "/home/phdcs2/Hard_Disk/Projects/T2I/deep-spectral-segmentation/venv/lib/python3.8/site-packages/sklearn/decomposition/_pca.py:642: RuntimeWarning: invalid value encountered in divide\n",
      "  self.explained_variance_ratio_ = self.explained_variance_ / total_var\n"
     ]
    },
    {
     "name": "stdout",
     "output_type": "stream",
     "text": [
      "Starting Training\n",
      "epoch: 00, loss: -0.93596\n",
      "epoch: 01, loss: -0.96279\n",
      "epoch: 02, loss: -0.96874\n",
      "epoch: 03, loss: -0.97212\n",
      "epoch: 04, loss: -0.97444\n",
      "epoch: 05, loss: -0.97613\n",
      "epoch: 06, loss: -0.97745\n",
      "epoch: 07, loss: -0.97854\n",
      "epoch: 08, loss: -0.97944\n",
      "epoch: 09, loss: -0.98020\n",
      "torch.Size([1024, 64])\n"
     ]
    },
    {
     "name": "stderr",
     "output_type": "stream",
     "text": [
      " 17%|█▋        | 170/999 [3:24:34<17:00:32, 73.86s/it]"
     ]
    },
    {
     "name": "stdout",
     "output_type": "stream",
     "text": [
      "eigenvalues shape torch.Size([5]) eigenvectors shape torch.Size([5, 1024])\n",
      "170 /home/phdcs2/Hard_Disk/Datasets/Deep-Spectral-Segmentation/data/object-segmentation/ECSSD/features/0172_resized.pth\n",
      "dict_keys(['k', 'indices', 'file', 'id', 'model_name', 'patch_size', 'shape'])\n",
      "0172_resized\n",
      "Starting Training\n",
      "epoch: 00, loss: -0.87605\n",
      "epoch: 01, loss: -0.92867\n",
      "epoch: 02, loss: -0.94135\n",
      "epoch: 03, loss: -0.94851\n",
      "epoch: 04, loss: -0.95319\n",
      "epoch: 05, loss: -0.95677\n",
      "epoch: 06, loss: -0.95944\n",
      "epoch: 07, loss: -0.96164\n",
      "epoch: 08, loss: -0.96348\n",
      "epoch: 09, loss: -0.96497\n",
      "torch.Size([1024, 64])\n"
     ]
    },
    {
     "name": "stderr",
     "output_type": "stream",
     "text": [
      " 17%|█▋        | 171/999 [3:25:43<16:38:03, 72.32s/it]"
     ]
    },
    {
     "name": "stdout",
     "output_type": "stream",
     "text": [
      "eigenvalues shape torch.Size([5]) eigenvectors shape torch.Size([5, 1024])\n",
      "171 /home/phdcs2/Hard_Disk/Datasets/Deep-Spectral-Segmentation/data/object-segmentation/ECSSD/features/0173_resized.pth\n",
      "dict_keys(['k', 'indices', 'file', 'id', 'model_name', 'patch_size', 'shape'])\n",
      "0173_resized\n"
     ]
    },
    {
     "name": "stderr",
     "output_type": "stream",
     "text": [
      "/home/phdcs2/Hard_Disk/Projects/T2I/deep-spectral-segmentation/venv/lib/python3.8/site-packages/sklearn/decomposition/_pca.py:642: RuntimeWarning: invalid value encountered in divide\n",
      "  self.explained_variance_ratio_ = self.explained_variance_ / total_var\n"
     ]
    },
    {
     "name": "stdout",
     "output_type": "stream",
     "text": [
      "Starting Training\n",
      "epoch: 00, loss: -0.93067\n",
      "epoch: 01, loss: -0.95800\n",
      "epoch: 02, loss: -0.96420\n",
      "epoch: 03, loss: -0.96771\n",
      "epoch: 04, loss: -0.97017\n",
      "epoch: 05, loss: -0.97199\n",
      "epoch: 06, loss: -0.97342\n",
      "epoch: 07, loss: -0.97459\n",
      "epoch: 08, loss: -0.97559\n",
      "epoch: 09, loss: -0.97643\n",
      "torch.Size([1024, 64])\n"
     ]
    },
    {
     "name": "stderr",
     "output_type": "stream",
     "text": [
      " 17%|█▋        | 172/999 [3:26:49<16:08:29, 70.27s/it]"
     ]
    },
    {
     "name": "stdout",
     "output_type": "stream",
     "text": [
      "eigenvalues shape torch.Size([5]) eigenvectors shape torch.Size([5, 1024])\n",
      "172 /home/phdcs2/Hard_Disk/Datasets/Deep-Spectral-Segmentation/data/object-segmentation/ECSSD/features/0174_resized.pth\n",
      "dict_keys(['k', 'indices', 'file', 'id', 'model_name', 'patch_size', 'shape'])\n",
      "0174_resized\n",
      "Starting Training\n",
      "epoch: 00, loss: -0.87996\n",
      "epoch: 01, loss: -0.93035\n",
      "epoch: 02, loss: -0.94272\n",
      "epoch: 03, loss: -0.94957\n",
      "epoch: 04, loss: -0.95405\n",
      "epoch: 05, loss: -0.95748\n",
      "epoch: 06, loss: -0.95999\n",
      "epoch: 07, loss: -0.96207\n",
      "epoch: 08, loss: -0.96384\n",
      "epoch: 09, loss: -0.96526\n",
      "torch.Size([1024, 64])\n"
     ]
    },
    {
     "name": "stderr",
     "output_type": "stream",
     "text": [
      " 17%|█▋        | 173/999 [3:28:01<16:17:06, 70.98s/it]"
     ]
    },
    {
     "name": "stdout",
     "output_type": "stream",
     "text": [
      "eigenvalues shape torch.Size([5]) eigenvectors shape torch.Size([5, 1024])\n",
      "173 /home/phdcs2/Hard_Disk/Datasets/Deep-Spectral-Segmentation/data/object-segmentation/ECSSD/features/0175_resized.pth\n",
      "dict_keys(['k', 'indices', 'file', 'id', 'model_name', 'patch_size', 'shape'])\n",
      "0175_resized\n",
      "Starting Training\n",
      "epoch: 00, loss: -0.87673\n",
      "epoch: 01, loss: -0.92642\n",
      "epoch: 02, loss: -0.93906\n",
      "epoch: 03, loss: -0.94628\n",
      "epoch: 04, loss: -0.95106\n",
      "epoch: 05, loss: -0.95463\n",
      "epoch: 06, loss: -0.95754\n",
      "epoch: 07, loss: -0.95972\n",
      "epoch: 08, loss: -0.96148\n",
      "epoch: 09, loss: -0.96312\n",
      "torch.Size([1024, 64])\n"
     ]
    },
    {
     "name": "stderr",
     "output_type": "stream",
     "text": [
      " 17%|█▋        | 174/999 [3:29:16<16:33:12, 72.23s/it]"
     ]
    },
    {
     "name": "stdout",
     "output_type": "stream",
     "text": [
      "eigenvalues shape torch.Size([5]) eigenvectors shape torch.Size([5, 1024])\n",
      "174 /home/phdcs2/Hard_Disk/Datasets/Deep-Spectral-Segmentation/data/object-segmentation/ECSSD/features/0176_resized.pth\n",
      "dict_keys(['k', 'indices', 'file', 'id', 'model_name', 'patch_size', 'shape'])\n",
      "0176_resized\n"
     ]
    },
    {
     "name": "stderr",
     "output_type": "stream",
     "text": [
      "/home/phdcs2/Hard_Disk/Projects/T2I/deep-spectral-segmentation/venv/lib/python3.8/site-packages/sklearn/decomposition/_pca.py:642: RuntimeWarning: invalid value encountered in divide\n",
      "  self.explained_variance_ratio_ = self.explained_variance_ / total_var\n"
     ]
    },
    {
     "name": "stdout",
     "output_type": "stream",
     "text": [
      "Starting Training\n",
      "epoch: 00, loss: -0.92548\n",
      "epoch: 01, loss: -0.95620\n",
      "epoch: 02, loss: -0.96317\n",
      "epoch: 03, loss: -0.96712\n",
      "epoch: 04, loss: -0.96983\n",
      "epoch: 05, loss: -0.97182\n",
      "epoch: 06, loss: -0.97338\n",
      "epoch: 07, loss: -0.97464\n",
      "epoch: 08, loss: -0.97570\n",
      "epoch: 09, loss: -0.97661\n",
      "torch.Size([1024, 64])\n"
     ]
    },
    {
     "name": "stderr",
     "output_type": "stream",
     "text": [
      " 18%|█▊        | 175/999 [3:30:29<16:35:46, 72.51s/it]"
     ]
    },
    {
     "name": "stdout",
     "output_type": "stream",
     "text": [
      "eigenvalues shape torch.Size([5]) eigenvectors shape torch.Size([5, 1024])\n",
      "175 /home/phdcs2/Hard_Disk/Datasets/Deep-Spectral-Segmentation/data/object-segmentation/ECSSD/features/0177_resized.pth\n",
      "dict_keys(['k', 'indices', 'file', 'id', 'model_name', 'patch_size', 'shape'])\n",
      "0177_resized\n",
      "Starting Training\n",
      "epoch: 00, loss: -0.89766\n",
      "epoch: 01, loss: -0.94032\n",
      "epoch: 02, loss: -0.95093\n",
      "epoch: 03, loss: -0.95676\n",
      "epoch: 04, loss: -0.96072\n",
      "epoch: 05, loss: -0.96371\n",
      "epoch: 06, loss: -0.96598\n",
      "epoch: 07, loss: -0.96780\n",
      "epoch: 08, loss: -0.96940\n",
      "epoch: 09, loss: -0.97069\n",
      "torch.Size([1024, 64])\n"
     ]
    },
    {
     "name": "stderr",
     "output_type": "stream",
     "text": [
      " 18%|█▊        | 176/999 [3:31:34<15:59:53, 69.98s/it]"
     ]
    },
    {
     "name": "stdout",
     "output_type": "stream",
     "text": [
      "eigenvalues shape torch.Size([5]) eigenvectors shape torch.Size([5, 1024])\n",
      "176 /home/phdcs2/Hard_Disk/Datasets/Deep-Spectral-Segmentation/data/object-segmentation/ECSSD/features/0178_resized.pth\n",
      "dict_keys(['k', 'indices', 'file', 'id', 'model_name', 'patch_size', 'shape'])\n",
      "0178_resized\n",
      "Starting Training\n",
      "epoch: 00, loss: -0.88644\n",
      "epoch: 01, loss: -0.92995\n",
      "epoch: 02, loss: -0.94176\n",
      "epoch: 03, loss: -0.94876\n",
      "epoch: 04, loss: -0.95351\n",
      "epoch: 05, loss: -0.95690\n",
      "epoch: 06, loss: -0.95973\n",
      "epoch: 07, loss: -0.96183\n",
      "epoch: 08, loss: -0.96362\n",
      "epoch: 09, loss: -0.96523\n",
      "torch.Size([1024, 64])\n"
     ]
    },
    {
     "name": "stderr",
     "output_type": "stream",
     "text": [
      " 18%|█▊        | 177/999 [3:32:40<15:42:05, 68.77s/it]"
     ]
    },
    {
     "name": "stdout",
     "output_type": "stream",
     "text": [
      "eigenvalues shape torch.Size([5]) eigenvectors shape torch.Size([5, 1024])\n",
      "177 /home/phdcs2/Hard_Disk/Datasets/Deep-Spectral-Segmentation/data/object-segmentation/ECSSD/features/0179_resized.pth\n",
      "dict_keys(['k', 'indices', 'file', 'id', 'model_name', 'patch_size', 'shape'])\n",
      "0179_resized\n",
      "Starting Training\n",
      "epoch: 00, loss: -0.92035\n",
      "epoch: 01, loss: -0.95056\n",
      "epoch: 02, loss: -0.95786\n",
      "epoch: 03, loss: -0.96205\n",
      "epoch: 04, loss: -0.96487\n",
      "epoch: 05, loss: -0.96699\n",
      "epoch: 06, loss: -0.96868\n",
      "epoch: 07, loss: -0.97006\n",
      "epoch: 08, loss: -0.97118\n",
      "epoch: 09, loss: -0.97215\n",
      "torch.Size([1024, 64])\n"
     ]
    },
    {
     "name": "stderr",
     "output_type": "stream",
     "text": [
      " 18%|█▊        | 178/999 [3:33:53<15:58:51, 70.07s/it]"
     ]
    },
    {
     "name": "stdout",
     "output_type": "stream",
     "text": [
      "eigenvalues shape torch.Size([5]) eigenvectors shape torch.Size([5, 1024])\n",
      "178 /home/phdcs2/Hard_Disk/Datasets/Deep-Spectral-Segmentation/data/object-segmentation/ECSSD/features/0180_resized.pth\n",
      "dict_keys(['k', 'indices', 'file', 'id', 'model_name', 'patch_size', 'shape'])\n",
      "0180_resized\n",
      "Starting Training\n",
      "epoch: 00, loss: -0.86972\n",
      "epoch: 01, loss: -0.92368\n",
      "epoch: 02, loss: -0.93625\n",
      "epoch: 03, loss: -0.94370\n",
      "epoch: 04, loss: -0.94849\n",
      "epoch: 05, loss: -0.95186\n",
      "epoch: 06, loss: -0.95478\n",
      "epoch: 07, loss: -0.95708\n",
      "epoch: 08, loss: -0.95888\n",
      "epoch: 09, loss: -0.96047\n",
      "torch.Size([1024, 64])\n"
     ]
    },
    {
     "name": "stderr",
     "output_type": "stream",
     "text": [
      " 18%|█▊        | 179/999 [3:35:05<16:08:11, 70.84s/it]"
     ]
    },
    {
     "name": "stdout",
     "output_type": "stream",
     "text": [
      "eigenvalues shape torch.Size([5]) eigenvectors shape torch.Size([5, 1024])\n",
      "179 /home/phdcs2/Hard_Disk/Datasets/Deep-Spectral-Segmentation/data/object-segmentation/ECSSD/features/0181_resized.pth\n",
      "dict_keys(['k', 'indices', 'file', 'id', 'model_name', 'patch_size', 'shape'])\n",
      "0181_resized\n",
      "Starting Training\n",
      "epoch: 00, loss: -0.91915\n",
      "epoch: 01, loss: -0.95136\n",
      "epoch: 02, loss: -0.95859\n",
      "epoch: 03, loss: -0.96281\n",
      "epoch: 04, loss: -0.96567\n",
      "epoch: 05, loss: -0.96780\n",
      "epoch: 06, loss: -0.96951\n",
      "epoch: 07, loss: -0.97087\n",
      "epoch: 08, loss: -0.97206\n",
      "epoch: 09, loss: -0.97303\n",
      "torch.Size([1024, 64])\n"
     ]
    },
    {
     "name": "stderr",
     "output_type": "stream",
     "text": [
      " 18%|█▊        | 180/999 [3:36:25<16:43:43, 73.53s/it]"
     ]
    },
    {
     "name": "stdout",
     "output_type": "stream",
     "text": [
      "eigenvalues shape torch.Size([5]) eigenvectors shape torch.Size([5, 1024])\n",
      "180 /home/phdcs2/Hard_Disk/Datasets/Deep-Spectral-Segmentation/data/object-segmentation/ECSSD/features/0182_resized.pth\n",
      "dict_keys(['k', 'indices', 'file', 'id', 'model_name', 'patch_size', 'shape'])\n",
      "0182_resized\n",
      "Starting Training\n",
      "epoch: 00, loss: -0.87115\n",
      "epoch: 01, loss: -0.92230\n",
      "epoch: 02, loss: -0.93600\n",
      "epoch: 03, loss: -0.94357\n",
      "epoch: 04, loss: -0.94870\n",
      "epoch: 05, loss: -0.95261\n",
      "epoch: 06, loss: -0.95546\n",
      "epoch: 07, loss: -0.95800\n",
      "epoch: 08, loss: -0.95999\n",
      "epoch: 09, loss: -0.96161\n",
      "torch.Size([1024, 64])\n"
     ]
    },
    {
     "name": "stderr",
     "output_type": "stream",
     "text": [
      " 18%|█▊        | 181/999 [3:37:45<17:08:20, 75.43s/it]"
     ]
    },
    {
     "name": "stdout",
     "output_type": "stream",
     "text": [
      "eigenvalues shape torch.Size([5]) eigenvectors shape torch.Size([5, 1024])\n",
      "181 /home/phdcs2/Hard_Disk/Datasets/Deep-Spectral-Segmentation/data/object-segmentation/ECSSD/features/0183_resized.pth\n",
      "dict_keys(['k', 'indices', 'file', 'id', 'model_name', 'patch_size', 'shape'])\n",
      "0183_resized\n"
     ]
    },
    {
     "name": "stderr",
     "output_type": "stream",
     "text": [
      "/home/phdcs2/Hard_Disk/Projects/T2I/deep-spectral-segmentation/venv/lib/python3.8/site-packages/sklearn/decomposition/_pca.py:642: RuntimeWarning: invalid value encountered in divide\n",
      "  self.explained_variance_ratio_ = self.explained_variance_ / total_var\n"
     ]
    },
    {
     "name": "stdout",
     "output_type": "stream",
     "text": [
      "Starting Training\n",
      "epoch: 00, loss: -0.91750\n",
      "epoch: 01, loss: -0.94899\n",
      "epoch: 02, loss: -0.95699\n",
      "epoch: 03, loss: -0.96169\n",
      "epoch: 04, loss: -0.96485\n",
      "epoch: 05, loss: -0.96723\n",
      "epoch: 06, loss: -0.96905\n",
      "epoch: 07, loss: -0.97058\n",
      "epoch: 08, loss: -0.97184\n",
      "epoch: 09, loss: -0.97291\n",
      "torch.Size([1024, 64])\n"
     ]
    },
    {
     "name": "stderr",
     "output_type": "stream",
     "text": [
      " 18%|█▊        | 182/999 [3:38:50<16:25:45, 72.39s/it]"
     ]
    },
    {
     "name": "stdout",
     "output_type": "stream",
     "text": [
      "eigenvalues shape torch.Size([5]) eigenvectors shape torch.Size([5, 1024])\n",
      "182 /home/phdcs2/Hard_Disk/Datasets/Deep-Spectral-Segmentation/data/object-segmentation/ECSSD/features/0184_resized.pth\n",
      "dict_keys(['k', 'indices', 'file', 'id', 'model_name', 'patch_size', 'shape'])\n",
      "0184_resized\n",
      "Starting Training\n",
      "epoch: 00, loss: -0.88407\n",
      "epoch: 01, loss: -0.93077\n",
      "epoch: 02, loss: -0.94199\n",
      "epoch: 03, loss: -0.94846\n",
      "epoch: 04, loss: -0.95272\n",
      "epoch: 05, loss: -0.95583\n",
      "epoch: 06, loss: -0.95826\n",
      "epoch: 07, loss: -0.96026\n",
      "epoch: 08, loss: -0.96198\n",
      "epoch: 09, loss: -0.96327\n",
      "torch.Size([1024, 64])\n"
     ]
    },
    {
     "name": "stderr",
     "output_type": "stream",
     "text": [
      " 18%|█▊        | 183/999 [3:39:47<15:21:35, 67.76s/it]"
     ]
    },
    {
     "name": "stdout",
     "output_type": "stream",
     "text": [
      "eigenvalues shape torch.Size([5]) eigenvectors shape torch.Size([5, 1024])\n",
      "183 /home/phdcs2/Hard_Disk/Datasets/Deep-Spectral-Segmentation/data/object-segmentation/ECSSD/features/0185_resized.pth\n",
      "dict_keys(['k', 'indices', 'file', 'id', 'model_name', 'patch_size', 'shape'])\n",
      "0185_resized\n",
      "Starting Training\n",
      "epoch: 00, loss: -0.92569\n",
      "epoch: 01, loss: -0.95603\n",
      "epoch: 02, loss: -0.96305\n",
      "epoch: 03, loss: -0.96710\n",
      "epoch: 04, loss: -0.96991\n",
      "epoch: 05, loss: -0.97194\n",
      "epoch: 06, loss: -0.97353\n",
      "epoch: 07, loss: -0.97484\n",
      "epoch: 08, loss: -0.97592\n",
      "epoch: 09, loss: -0.97685\n",
      "torch.Size([1024, 64])\n"
     ]
    },
    {
     "name": "stderr",
     "output_type": "stream",
     "text": [
      " 18%|█▊        | 184/999 [3:41:01<15:46:47, 69.70s/it]"
     ]
    },
    {
     "name": "stdout",
     "output_type": "stream",
     "text": [
      "eigenvalues shape torch.Size([5]) eigenvectors shape torch.Size([5, 1024])\n",
      "184 /home/phdcs2/Hard_Disk/Datasets/Deep-Spectral-Segmentation/data/object-segmentation/ECSSD/features/0186_resized.pth\n",
      "dict_keys(['k', 'indices', 'file', 'id', 'model_name', 'patch_size', 'shape'])\n",
      "0186_resized\n",
      "Starting Training\n",
      "epoch: 00, loss: -0.87907\n",
      "epoch: 01, loss: -0.93116\n",
      "epoch: 02, loss: -0.94291\n",
      "epoch: 03, loss: -0.94945\n",
      "epoch: 04, loss: -0.95398\n",
      "epoch: 05, loss: -0.95720\n",
      "epoch: 06, loss: -0.95979\n",
      "epoch: 07, loss: -0.96183\n",
      "epoch: 08, loss: -0.96352\n",
      "epoch: 09, loss: -0.96497\n",
      "torch.Size([1024, 64])\n"
     ]
    },
    {
     "name": "stderr",
     "output_type": "stream",
     "text": [
      " 19%|█▊        | 185/999 [3:42:25<16:41:32, 73.82s/it]"
     ]
    },
    {
     "name": "stdout",
     "output_type": "stream",
     "text": [
      "eigenvalues shape torch.Size([5]) eigenvectors shape torch.Size([5, 1024])\n",
      "185 /home/phdcs2/Hard_Disk/Datasets/Deep-Spectral-Segmentation/data/object-segmentation/ECSSD/features/0187_resized.pth\n",
      "dict_keys(['k', 'indices', 'file', 'id', 'model_name', 'patch_size', 'shape'])\n",
      "0187_resized\n",
      "Starting Training\n",
      "epoch: 00, loss: -0.87237\n",
      "epoch: 01, loss: -0.92544\n",
      "epoch: 02, loss: -0.93831\n",
      "epoch: 03, loss: -0.94603\n",
      "epoch: 04, loss: -0.95125\n",
      "epoch: 05, loss: -0.95493\n",
      "epoch: 06, loss: -0.95768\n",
      "epoch: 07, loss: -0.95994\n",
      "epoch: 08, loss: -0.96190\n",
      "epoch: 09, loss: -0.96351\n",
      "torch.Size([1024, 64])\n"
     ]
    },
    {
     "name": "stderr",
     "output_type": "stream",
     "text": [
      " 19%|█▊        | 186/999 [3:43:41<16:51:23, 74.64s/it]"
     ]
    },
    {
     "name": "stdout",
     "output_type": "stream",
     "text": [
      "eigenvalues shape torch.Size([5]) eigenvectors shape torch.Size([5, 1024])\n",
      "186 /home/phdcs2/Hard_Disk/Datasets/Deep-Spectral-Segmentation/data/object-segmentation/ECSSD/features/0188_resized.pth\n",
      "dict_keys(['k', 'indices', 'file', 'id', 'model_name', 'patch_size', 'shape'])\n",
      "0188_resized\n",
      "Starting Training\n",
      "epoch: 00, loss: -0.87330\n",
      "epoch: 01, loss: -0.92590\n",
      "epoch: 02, loss: -0.93914\n",
      "epoch: 03, loss: -0.94681\n",
      "epoch: 04, loss: -0.95200\n",
      "epoch: 05, loss: -0.95563\n",
      "epoch: 06, loss: -0.95843\n",
      "epoch: 07, loss: -0.96076\n",
      "epoch: 08, loss: -0.96259\n",
      "epoch: 09, loss: -0.96431\n",
      "torch.Size([1024, 64])\n"
     ]
    },
    {
     "name": "stderr",
     "output_type": "stream",
     "text": [
      " 19%|█▊        | 187/999 [3:44:58<16:58:10, 75.23s/it]"
     ]
    },
    {
     "name": "stdout",
     "output_type": "stream",
     "text": [
      "eigenvalues shape torch.Size([5]) eigenvectors shape torch.Size([5, 1024])\n",
      "187 /home/phdcs2/Hard_Disk/Datasets/Deep-Spectral-Segmentation/data/object-segmentation/ECSSD/features/0189_resized.pth\n",
      "dict_keys(['k', 'indices', 'file', 'id', 'model_name', 'patch_size', 'shape'])\n",
      "0189_resized\n",
      "Starting Training\n",
      "epoch: 00, loss: -0.89165\n",
      "epoch: 01, loss: -0.93462\n",
      "epoch: 02, loss: -0.94575\n",
      "epoch: 03, loss: -0.95223\n",
      "epoch: 04, loss: -0.95653\n",
      "epoch: 05, loss: -0.95966\n",
      "epoch: 06, loss: -0.96226\n",
      "epoch: 07, loss: -0.96439\n",
      "epoch: 08, loss: -0.96604\n",
      "epoch: 09, loss: -0.96748\n",
      "torch.Size([1024, 64])\n"
     ]
    },
    {
     "name": "stderr",
     "output_type": "stream",
     "text": [
      " 19%|█▉        | 188/999 [3:46:22<17:30:30, 77.72s/it]"
     ]
    },
    {
     "name": "stdout",
     "output_type": "stream",
     "text": [
      "eigenvalues shape torch.Size([5]) eigenvectors shape torch.Size([5, 1024])\n",
      "188 /home/phdcs2/Hard_Disk/Datasets/Deep-Spectral-Segmentation/data/object-segmentation/ECSSD/features/0190_resized.pth\n",
      "dict_keys(['k', 'indices', 'file', 'id', 'model_name', 'patch_size', 'shape'])\n",
      "0190_resized\n",
      "Starting Training\n",
      "epoch: 00, loss: -0.92592\n",
      "epoch: 01, loss: -0.95804\n",
      "epoch: 02, loss: -0.96411\n",
      "epoch: 03, loss: -0.96771\n",
      "epoch: 04, loss: -0.97013\n",
      "epoch: 05, loss: -0.97202\n",
      "epoch: 06, loss: -0.97344\n",
      "epoch: 07, loss: -0.97462\n",
      "epoch: 08, loss: -0.97561\n",
      "epoch: 09, loss: -0.97646\n",
      "torch.Size([1024, 64])\n"
     ]
    },
    {
     "name": "stderr",
     "output_type": "stream",
     "text": [
      " 19%|█▉        | 189/999 [3:47:51<18:16:47, 81.24s/it]"
     ]
    },
    {
     "name": "stdout",
     "output_type": "stream",
     "text": [
      "eigenvalues shape torch.Size([5]) eigenvectors shape torch.Size([5, 1024])\n",
      "189 /home/phdcs2/Hard_Disk/Datasets/Deep-Spectral-Segmentation/data/object-segmentation/ECSSD/features/0191_resized.pth\n",
      "dict_keys(['k', 'indices', 'file', 'id', 'model_name', 'patch_size', 'shape'])\n",
      "0191_resized\n",
      "Starting Training\n",
      "epoch: 00, loss: -0.88733\n",
      "epoch: 01, loss: -0.93314\n",
      "epoch: 02, loss: -0.94509\n",
      "epoch: 03, loss: -0.95157\n",
      "epoch: 04, loss: -0.95597\n",
      "epoch: 05, loss: -0.95910\n",
      "epoch: 06, loss: -0.96165\n",
      "epoch: 07, loss: -0.96373\n",
      "epoch: 08, loss: -0.96551\n",
      "epoch: 09, loss: -0.96689\n",
      "torch.Size([1024, 64])\n"
     ]
    },
    {
     "name": "stderr",
     "output_type": "stream",
     "text": [
      " 19%|█▉        | 190/999 [3:49:21<18:50:48, 83.87s/it]"
     ]
    },
    {
     "name": "stdout",
     "output_type": "stream",
     "text": [
      "eigenvalues shape torch.Size([5]) eigenvectors shape torch.Size([5, 1024])\n",
      "190 /home/phdcs2/Hard_Disk/Datasets/Deep-Spectral-Segmentation/data/object-segmentation/ECSSD/features/0192_resized.pth\n",
      "dict_keys(['k', 'indices', 'file', 'id', 'model_name', 'patch_size', 'shape'])\n",
      "0192_resized\n",
      "Starting Training\n",
      "epoch: 00, loss: -0.84849\n",
      "epoch: 01, loss: -0.91166\n",
      "epoch: 02, loss: -0.92775\n",
      "epoch: 03, loss: -0.93661\n",
      "epoch: 04, loss: -0.94275\n",
      "epoch: 05, loss: -0.94709\n",
      "epoch: 06, loss: -0.95055\n",
      "epoch: 07, loss: -0.95341\n",
      "epoch: 08, loss: -0.95574\n",
      "epoch: 09, loss: -0.95766\n",
      "torch.Size([1024, 64])\n"
     ]
    },
    {
     "name": "stderr",
     "output_type": "stream",
     "text": [
      " 19%|█▉        | 191/999 [3:50:51<19:12:47, 85.60s/it]"
     ]
    },
    {
     "name": "stdout",
     "output_type": "stream",
     "text": [
      "eigenvalues shape torch.Size([5]) eigenvectors shape torch.Size([5, 1024])\n",
      "191 /home/phdcs2/Hard_Disk/Datasets/Deep-Spectral-Segmentation/data/object-segmentation/ECSSD/features/0193_resized.pth\n",
      "dict_keys(['k', 'indices', 'file', 'id', 'model_name', 'patch_size', 'shape'])\n",
      "0193_resized\n",
      "Starting Training\n",
      "epoch: 00, loss: -0.92162\n",
      "epoch: 01, loss: -0.95298\n",
      "epoch: 02, loss: -0.96027\n",
      "epoch: 03, loss: -0.96449\n",
      "epoch: 04, loss: -0.96743\n",
      "epoch: 05, loss: -0.96960\n",
      "epoch: 06, loss: -0.97132\n",
      "epoch: 07, loss: -0.97271\n",
      "epoch: 08, loss: -0.97387\n",
      "epoch: 09, loss: -0.97487\n",
      "torch.Size([1024, 64])\n"
     ]
    },
    {
     "name": "stderr",
     "output_type": "stream",
     "text": [
      " 19%|█▉        | 192/999 [3:52:10<18:45:52, 83.71s/it]"
     ]
    },
    {
     "name": "stdout",
     "output_type": "stream",
     "text": [
      "eigenvalues shape torch.Size([5]) eigenvectors shape torch.Size([5, 1024])\n",
      "192 /home/phdcs2/Hard_Disk/Datasets/Deep-Spectral-Segmentation/data/object-segmentation/ECSSD/features/0194_resized.pth\n",
      "dict_keys(['k', 'indices', 'file', 'id', 'model_name', 'patch_size', 'shape'])\n",
      "0194_resized\n",
      "Starting Training\n",
      "epoch: 00, loss: -0.86529\n",
      "epoch: 01, loss: -0.92056\n",
      "epoch: 02, loss: -0.93472\n",
      "epoch: 03, loss: -0.94290\n",
      "epoch: 04, loss: -0.94819\n",
      "epoch: 05, loss: -0.95212\n",
      "epoch: 06, loss: -0.95515\n",
      "epoch: 07, loss: -0.95765\n",
      "epoch: 08, loss: -0.95964\n",
      "epoch: 09, loss: -0.96132\n",
      "torch.Size([1024, 64])\n"
     ]
    },
    {
     "name": "stderr",
     "output_type": "stream",
     "text": [
      " 19%|█▉        | 193/999 [3:53:33<18:42:13, 83.54s/it]"
     ]
    },
    {
     "name": "stdout",
     "output_type": "stream",
     "text": [
      "eigenvalues shape torch.Size([5]) eigenvectors shape torch.Size([5, 1024])\n",
      "193 /home/phdcs2/Hard_Disk/Datasets/Deep-Spectral-Segmentation/data/object-segmentation/ECSSD/features/0195_resized.pth\n",
      "dict_keys(['k', 'indices', 'file', 'id', 'model_name', 'patch_size', 'shape'])\n",
      "0195_resized\n",
      "Starting Training\n",
      "epoch: 00, loss: -0.88308\n",
      "epoch: 01, loss: -0.92986\n",
      "epoch: 02, loss: -0.94151\n",
      "epoch: 03, loss: -0.94843\n",
      "epoch: 04, loss: -0.95291\n",
      "epoch: 05, loss: -0.95627\n",
      "epoch: 06, loss: -0.95891\n",
      "epoch: 07, loss: -0.96097\n",
      "epoch: 08, loss: -0.96275\n",
      "epoch: 09, loss: -0.96421\n",
      "torch.Size([1024, 64])\n"
     ]
    },
    {
     "name": "stderr",
     "output_type": "stream",
     "text": [
      " 19%|█▉        | 194/999 [3:54:48<18:04:47, 80.85s/it]"
     ]
    },
    {
     "name": "stdout",
     "output_type": "stream",
     "text": [
      "eigenvalues shape torch.Size([5]) eigenvectors shape torch.Size([5, 1024])\n",
      "194 /home/phdcs2/Hard_Disk/Datasets/Deep-Spectral-Segmentation/data/object-segmentation/ECSSD/features/0196_resized.pth\n",
      "dict_keys(['k', 'indices', 'file', 'id', 'model_name', 'patch_size', 'shape'])\n",
      "0196_resized\n",
      "Starting Training\n",
      "epoch: 00, loss: -0.92610\n",
      "epoch: 01, loss: -0.95684\n",
      "epoch: 02, loss: -0.96390\n",
      "epoch: 03, loss: -0.96797\n",
      "epoch: 04, loss: -0.97072\n",
      "epoch: 05, loss: -0.97273\n",
      "epoch: 06, loss: -0.97431\n",
      "epoch: 07, loss: -0.97559\n",
      "epoch: 08, loss: -0.97668\n",
      "epoch: 09, loss: -0.97760\n",
      "torch.Size([1024, 64])\n"
     ]
    },
    {
     "name": "stderr",
     "output_type": "stream",
     "text": [
      " 20%|█▉        | 195/999 [3:56:07<17:55:27, 80.26s/it]"
     ]
    },
    {
     "name": "stdout",
     "output_type": "stream",
     "text": [
      "eigenvalues shape torch.Size([5]) eigenvectors shape torch.Size([5, 1024])\n",
      "195 /home/phdcs2/Hard_Disk/Datasets/Deep-Spectral-Segmentation/data/object-segmentation/ECSSD/features/0197_resized.pth\n",
      "dict_keys(['k', 'indices', 'file', 'id', 'model_name', 'patch_size', 'shape'])\n",
      "0197_resized\n"
     ]
    },
    {
     "name": "stderr",
     "output_type": "stream",
     "text": [
      "/home/phdcs2/Hard_Disk/Projects/T2I/deep-spectral-segmentation/venv/lib/python3.8/site-packages/sklearn/decomposition/_pca.py:642: RuntimeWarning: invalid value encountered in divide\n",
      "  self.explained_variance_ratio_ = self.explained_variance_ / total_var\n"
     ]
    },
    {
     "name": "stdout",
     "output_type": "stream",
     "text": [
      "Starting Training\n",
      "epoch: 00, loss: -0.93932\n",
      "epoch: 01, loss: -0.96637\n",
      "epoch: 02, loss: -0.97148\n",
      "epoch: 03, loss: -0.97439\n",
      "epoch: 04, loss: -0.97637\n",
      "epoch: 05, loss: -0.97785\n",
      "epoch: 06, loss: -0.97903\n",
      "epoch: 07, loss: -0.97998\n",
      "epoch: 08, loss: -0.98077\n",
      "epoch: 09, loss: -0.98145\n",
      "torch.Size([1024, 64])\n"
     ]
    },
    {
     "name": "stderr",
     "output_type": "stream",
     "text": [
      " 20%|█▉        | 196/999 [3:57:16<17:12:16, 77.13s/it]"
     ]
    },
    {
     "name": "stdout",
     "output_type": "stream",
     "text": [
      "eigenvalues shape torch.Size([5]) eigenvectors shape torch.Size([5, 1024])\n",
      "196 /home/phdcs2/Hard_Disk/Datasets/Deep-Spectral-Segmentation/data/object-segmentation/ECSSD/features/0198_resized.pth\n",
      "dict_keys(['k', 'indices', 'file', 'id', 'model_name', 'patch_size', 'shape'])\n",
      "0198_resized\n",
      "Starting Training\n",
      "epoch: 00, loss: -0.86125\n",
      "epoch: 01, loss: -0.91755\n",
      "epoch: 02, loss: -0.93140\n",
      "epoch: 03, loss: -0.93948\n",
      "epoch: 04, loss: -0.94477\n",
      "epoch: 05, loss: -0.94869\n",
      "epoch: 06, loss: -0.95174\n",
      "epoch: 07, loss: -0.95421\n",
      "epoch: 08, loss: -0.95635\n",
      "epoch: 09, loss: -0.95805\n",
      "torch.Size([1024, 64])\n"
     ]
    },
    {
     "name": "stderr",
     "output_type": "stream",
     "text": [
      " 20%|█▉        | 197/999 [3:58:40<17:38:34, 79.20s/it]"
     ]
    },
    {
     "name": "stdout",
     "output_type": "stream",
     "text": [
      "eigenvalues shape torch.Size([5]) eigenvectors shape torch.Size([5, 1024])\n",
      "197 /home/phdcs2/Hard_Disk/Datasets/Deep-Spectral-Segmentation/data/object-segmentation/ECSSD/features/0199_resized.pth\n",
      "dict_keys(['k', 'indices', 'file', 'id', 'model_name', 'patch_size', 'shape'])\n",
      "0199_resized\n"
     ]
    },
    {
     "name": "stderr",
     "output_type": "stream",
     "text": [
      "/home/phdcs2/Hard_Disk/Projects/T2I/deep-spectral-segmentation/venv/lib/python3.8/site-packages/sklearn/decomposition/_pca.py:642: RuntimeWarning: invalid value encountered in divide\n",
      "  self.explained_variance_ratio_ = self.explained_variance_ / total_var\n"
     ]
    },
    {
     "name": "stdout",
     "output_type": "stream",
     "text": [
      "Starting Training\n",
      "epoch: 00, loss: -0.92407\n",
      "epoch: 01, loss: -0.95515\n",
      "epoch: 02, loss: -0.96179\n",
      "epoch: 03, loss: -0.96557\n",
      "epoch: 04, loss: -0.96815\n",
      "epoch: 05, loss: -0.97010\n",
      "epoch: 06, loss: -0.97161\n",
      "epoch: 07, loss: -0.97286\n",
      "epoch: 08, loss: -0.97391\n",
      "epoch: 09, loss: -0.97480\n",
      "torch.Size([1024, 64])\n"
     ]
    },
    {
     "name": "stderr",
     "output_type": "stream",
     "text": [
      " 20%|█▉        | 198/999 [3:59:58<17:31:41, 78.78s/it]"
     ]
    },
    {
     "name": "stdout",
     "output_type": "stream",
     "text": [
      "eigenvalues shape torch.Size([5]) eigenvectors shape torch.Size([5, 1024])\n",
      "198 /home/phdcs2/Hard_Disk/Datasets/Deep-Spectral-Segmentation/data/object-segmentation/ECSSD/features/0200_resized.pth\n",
      "dict_keys(['k', 'indices', 'file', 'id', 'model_name', 'patch_size', 'shape'])\n",
      "0200_resized\n",
      "Starting Training\n",
      "epoch: 00, loss: -0.86424\n",
      "epoch: 01, loss: -0.92030\n",
      "epoch: 02, loss: -0.93400\n",
      "epoch: 03, loss: -0.94173\n",
      "epoch: 04, loss: -0.94682\n",
      "epoch: 05, loss: -0.95052\n",
      "epoch: 06, loss: -0.95342\n",
      "epoch: 07, loss: -0.95568\n",
      "epoch: 08, loss: -0.95764\n",
      "epoch: 09, loss: -0.95923\n",
      "torch.Size([1024, 64])\n"
     ]
    },
    {
     "name": "stderr",
     "output_type": "stream",
     "text": [
      " 20%|█▉        | 199/999 [4:01:20<17:41:38, 79.62s/it]"
     ]
    },
    {
     "name": "stdout",
     "output_type": "stream",
     "text": [
      "eigenvalues shape torch.Size([5]) eigenvectors shape torch.Size([5, 1024])\n",
      "199 /home/phdcs2/Hard_Disk/Datasets/Deep-Spectral-Segmentation/data/object-segmentation/ECSSD/features/0201_resized.pth\n",
      "dict_keys(['k', 'indices', 'file', 'id', 'model_name', 'patch_size', 'shape'])\n",
      "0201_resized\n",
      "Starting Training\n",
      "epoch: 00, loss: -0.88184\n",
      "epoch: 01, loss: -0.93096\n",
      "epoch: 02, loss: -0.94322\n",
      "epoch: 03, loss: -0.95001\n",
      "epoch: 04, loss: -0.95453\n",
      "epoch: 05, loss: -0.95806\n",
      "epoch: 06, loss: -0.96066\n",
      "epoch: 07, loss: -0.96283\n",
      "epoch: 08, loss: -0.96459\n",
      "epoch: 09, loss: -0.96605\n",
      "torch.Size([1024, 64])\n"
     ]
    },
    {
     "name": "stderr",
     "output_type": "stream",
     "text": [
      " 20%|██        | 200/999 [4:02:35<17:23:07, 78.33s/it]"
     ]
    },
    {
     "name": "stdout",
     "output_type": "stream",
     "text": [
      "eigenvalues shape torch.Size([5]) eigenvectors shape torch.Size([5, 1024])\n",
      "200 /home/phdcs2/Hard_Disk/Datasets/Deep-Spectral-Segmentation/data/object-segmentation/ECSSD/features/0202_resized.pth\n",
      "dict_keys(['k', 'indices', 'file', 'id', 'model_name', 'patch_size', 'shape'])\n",
      "0202_resized\n",
      "Starting Training\n",
      "epoch: 00, loss: -0.85602\n",
      "epoch: 01, loss: -0.91277\n",
      "epoch: 02, loss: -0.92832\n",
      "epoch: 03, loss: -0.93679\n",
      "epoch: 04, loss: -0.94263\n",
      "epoch: 05, loss: -0.94695\n",
      "epoch: 06, loss: -0.95036\n",
      "epoch: 07, loss: -0.95301\n",
      "epoch: 08, loss: -0.95522\n",
      "epoch: 09, loss: -0.95707\n",
      "torch.Size([1024, 64])\n"
     ]
    },
    {
     "name": "stderr",
     "output_type": "stream",
     "text": [
      " 20%|██        | 201/999 [4:03:54<17:25:17, 78.59s/it]"
     ]
    },
    {
     "name": "stdout",
     "output_type": "stream",
     "text": [
      "eigenvalues shape torch.Size([5]) eigenvectors shape torch.Size([5, 1024])\n",
      "201 /home/phdcs2/Hard_Disk/Datasets/Deep-Spectral-Segmentation/data/object-segmentation/ECSSD/features/0203_resized.pth\n",
      "dict_keys(['k', 'indices', 'file', 'id', 'model_name', 'patch_size', 'shape'])\n",
      "0203_resized\n"
     ]
    },
    {
     "name": "stderr",
     "output_type": "stream",
     "text": [
      "/home/phdcs2/Hard_Disk/Projects/T2I/deep-spectral-segmentation/venv/lib/python3.8/site-packages/sklearn/decomposition/_pca.py:642: RuntimeWarning: invalid value encountered in divide\n",
      "  self.explained_variance_ratio_ = self.explained_variance_ / total_var\n"
     ]
    },
    {
     "name": "stdout",
     "output_type": "stream",
     "text": [
      "Starting Training\n",
      "epoch: 00, loss: -0.92203\n",
      "epoch: 01, loss: -0.95229\n",
      "epoch: 02, loss: -0.95955\n",
      "epoch: 03, loss: -0.96372\n",
      "epoch: 04, loss: -0.96658\n",
      "epoch: 05, loss: -0.96873\n",
      "epoch: 06, loss: -0.97043\n",
      "epoch: 07, loss: -0.97180\n",
      "epoch: 08, loss: -0.97296\n",
      "epoch: 09, loss: -0.97393\n",
      "torch.Size([1024, 64])\n"
     ]
    },
    {
     "name": "stderr",
     "output_type": "stream",
     "text": [
      " 20%|██        | 202/999 [4:05:08<17:05:12, 77.18s/it]"
     ]
    },
    {
     "name": "stdout",
     "output_type": "stream",
     "text": [
      "eigenvalues shape torch.Size([5]) eigenvectors shape torch.Size([5, 1024])\n",
      "202 /home/phdcs2/Hard_Disk/Datasets/Deep-Spectral-Segmentation/data/object-segmentation/ECSSD/features/0204_resized.pth\n",
      "dict_keys(['k', 'indices', 'file', 'id', 'model_name', 'patch_size', 'shape'])\n",
      "0204_resized\n",
      "Starting Training\n",
      "epoch: 00, loss: -0.84524\n",
      "epoch: 01, loss: -0.90998\n",
      "epoch: 02, loss: -0.92658\n",
      "epoch: 03, loss: -0.93557\n",
      "epoch: 04, loss: -0.94161\n",
      "epoch: 05, loss: -0.94593\n",
      "epoch: 06, loss: -0.94952\n",
      "epoch: 07, loss: -0.95214\n",
      "epoch: 08, loss: -0.95441\n",
      "epoch: 09, loss: -0.95636\n",
      "torch.Size([1024, 64])\n"
     ]
    },
    {
     "name": "stderr",
     "output_type": "stream",
     "text": [
      " 20%|██        | 203/999 [4:06:22<16:51:35, 76.25s/it]"
     ]
    },
    {
     "name": "stdout",
     "output_type": "stream",
     "text": [
      "eigenvalues shape torch.Size([5]) eigenvectors shape torch.Size([5, 1024])\n",
      "203 /home/phdcs2/Hard_Disk/Datasets/Deep-Spectral-Segmentation/data/object-segmentation/ECSSD/features/0205_resized.pth\n",
      "dict_keys(['k', 'indices', 'file', 'id', 'model_name', 'patch_size', 'shape'])\n",
      "0205_resized\n"
     ]
    },
    {
     "name": "stderr",
     "output_type": "stream",
     "text": [
      "/home/phdcs2/Hard_Disk/Projects/T2I/deep-spectral-segmentation/venv/lib/python3.8/site-packages/sklearn/decomposition/_pca.py:642: RuntimeWarning: invalid value encountered in divide\n",
      "  self.explained_variance_ratio_ = self.explained_variance_ / total_var\n"
     ]
    },
    {
     "name": "stdout",
     "output_type": "stream",
     "text": [
      "Starting Training\n",
      "epoch: 00, loss: -0.92047\n",
      "epoch: 01, loss: -0.95170\n",
      "epoch: 02, loss: -0.95924\n",
      "epoch: 03, loss: -0.96360\n",
      "epoch: 04, loss: -0.96663\n",
      "epoch: 05, loss: -0.96887\n",
      "epoch: 06, loss: -0.97061\n",
      "epoch: 07, loss: -0.97204\n",
      "epoch: 08, loss: -0.97326\n",
      "epoch: 09, loss: -0.97430\n",
      "torch.Size([1024, 64])\n"
     ]
    },
    {
     "name": "stderr",
     "output_type": "stream",
     "text": [
      " 20%|██        | 204/999 [4:07:37<16:43:47, 75.76s/it]"
     ]
    },
    {
     "name": "stdout",
     "output_type": "stream",
     "text": [
      "eigenvalues shape torch.Size([5]) eigenvectors shape torch.Size([5, 1024])\n",
      "204 /home/phdcs2/Hard_Disk/Datasets/Deep-Spectral-Segmentation/data/object-segmentation/ECSSD/features/0206_resized.pth\n",
      "dict_keys(['k', 'indices', 'file', 'id', 'model_name', 'patch_size', 'shape'])\n",
      "0206_resized\n",
      "Starting Training\n",
      "epoch: 00, loss: -0.85950\n",
      "epoch: 01, loss: -0.91511\n",
      "epoch: 02, loss: -0.93044\n",
      "epoch: 03, loss: -0.93909\n",
      "epoch: 04, loss: -0.94487\n",
      "epoch: 05, loss: -0.94929\n",
      "epoch: 06, loss: -0.95250\n",
      "epoch: 07, loss: -0.95507\n",
      "epoch: 08, loss: -0.95739\n",
      "epoch: 09, loss: -0.95931\n",
      "torch.Size([1024, 64])\n"
     ]
    },
    {
     "name": "stderr",
     "output_type": "stream",
     "text": [
      " 21%|██        | 205/999 [4:09:00<17:11:10, 77.92s/it]"
     ]
    },
    {
     "name": "stdout",
     "output_type": "stream",
     "text": [
      "eigenvalues shape torch.Size([5]) eigenvectors shape torch.Size([5, 1024])\n",
      "205 /home/phdcs2/Hard_Disk/Datasets/Deep-Spectral-Segmentation/data/object-segmentation/ECSSD/features/0207_resized.pth\n",
      "dict_keys(['k', 'indices', 'file', 'id', 'model_name', 'patch_size', 'shape'])\n",
      "0207_resized\n",
      "Starting Training\n",
      "epoch: 00, loss: -0.87953\n",
      "epoch: 01, loss: -0.93175\n",
      "epoch: 02, loss: -0.94398\n",
      "epoch: 03, loss: -0.95090\n",
      "epoch: 04, loss: -0.95539\n",
      "epoch: 05, loss: -0.95882\n",
      "epoch: 06, loss: -0.96145\n",
      "epoch: 07, loss: -0.96359\n",
      "epoch: 08, loss: -0.96531\n",
      "epoch: 09, loss: -0.96675\n",
      "torch.Size([1024, 64])\n"
     ]
    },
    {
     "name": "stderr",
     "output_type": "stream",
     "text": [
      " 21%|██        | 206/999 [4:10:25<17:38:12, 80.07s/it]"
     ]
    },
    {
     "name": "stdout",
     "output_type": "stream",
     "text": [
      "eigenvalues shape torch.Size([5]) eigenvectors shape torch.Size([5, 1024])\n",
      "206 /home/phdcs2/Hard_Disk/Datasets/Deep-Spectral-Segmentation/data/object-segmentation/ECSSD/features/0208_resized.pth\n",
      "dict_keys(['k', 'indices', 'file', 'id', 'model_name', 'patch_size', 'shape'])\n",
      "0208_resized\n"
     ]
    },
    {
     "name": "stderr",
     "output_type": "stream",
     "text": [
      "/home/phdcs2/Hard_Disk/Projects/T2I/deep-spectral-segmentation/venv/lib/python3.8/site-packages/sklearn/decomposition/_pca.py:642: RuntimeWarning: invalid value encountered in divide\n",
      "  self.explained_variance_ratio_ = self.explained_variance_ / total_var\n"
     ]
    },
    {
     "name": "stdout",
     "output_type": "stream",
     "text": [
      "Starting Training\n",
      "epoch: 00, loss: -0.91871\n",
      "epoch: 01, loss: -0.95113\n",
      "epoch: 02, loss: -0.95886\n",
      "epoch: 03, loss: -0.96337\n",
      "epoch: 04, loss: -0.96639\n",
      "epoch: 05, loss: -0.96865\n",
      "epoch: 06, loss: -0.97043\n",
      "epoch: 07, loss: -0.97188\n",
      "epoch: 08, loss: -0.97308\n",
      "epoch: 09, loss: -0.97410\n",
      "torch.Size([1024, 64])\n"
     ]
    },
    {
     "name": "stderr",
     "output_type": "stream",
     "text": [
      " 21%|██        | 207/999 [4:11:48<17:50:41, 81.11s/it]"
     ]
    },
    {
     "name": "stdout",
     "output_type": "stream",
     "text": [
      "eigenvalues shape torch.Size([5]) eigenvectors shape torch.Size([5, 1024])\n",
      "207 /home/phdcs2/Hard_Disk/Datasets/Deep-Spectral-Segmentation/data/object-segmentation/ECSSD/features/0209_resized.pth\n",
      "dict_keys(['k', 'indices', 'file', 'id', 'model_name', 'patch_size', 'shape'])\n",
      "0209_resized\n",
      "Starting Training\n",
      "epoch: 00, loss: -0.85326\n",
      "epoch: 01, loss: -0.91351\n",
      "epoch: 02, loss: -0.92866\n",
      "epoch: 03, loss: -0.93745\n",
      "epoch: 04, loss: -0.94335\n",
      "epoch: 05, loss: -0.94746\n",
      "epoch: 06, loss: -0.95071\n",
      "epoch: 07, loss: -0.95324\n",
      "epoch: 08, loss: -0.95538\n",
      "epoch: 09, loss: -0.95725\n",
      "torch.Size([1024, 64])\n"
     ]
    },
    {
     "name": "stderr",
     "output_type": "stream",
     "text": [
      " 21%|██        | 208/999 [4:13:11<17:53:35, 81.44s/it]"
     ]
    },
    {
     "name": "stdout",
     "output_type": "stream",
     "text": [
      "eigenvalues shape torch.Size([5]) eigenvectors shape torch.Size([5, 1024])\n",
      "208 /home/phdcs2/Hard_Disk/Datasets/Deep-Spectral-Segmentation/data/object-segmentation/ECSSD/features/0210_resized.pth\n",
      "dict_keys(['k', 'indices', 'file', 'id', 'model_name', 'patch_size', 'shape'])\n",
      "0210_resized\n"
     ]
    },
    {
     "name": "stderr",
     "output_type": "stream",
     "text": [
      "/home/phdcs2/Hard_Disk/Projects/T2I/deep-spectral-segmentation/venv/lib/python3.8/site-packages/sklearn/decomposition/_pca.py:642: RuntimeWarning: invalid value encountered in divide\n",
      "  self.explained_variance_ratio_ = self.explained_variance_ / total_var\n"
     ]
    },
    {
     "name": "stdout",
     "output_type": "stream",
     "text": [
      "Starting Training\n",
      "epoch: 00, loss: -0.91946\n",
      "epoch: 01, loss: -0.94953\n",
      "epoch: 02, loss: -0.95669\n",
      "epoch: 03, loss: -0.96085\n",
      "epoch: 04, loss: -0.96375\n",
      "epoch: 05, loss: -0.96591\n",
      "epoch: 06, loss: -0.96762\n",
      "epoch: 07, loss: -0.96902\n",
      "epoch: 08, loss: -0.97022\n",
      "epoch: 09, loss: -0.97125\n",
      "torch.Size([1024, 64])\n"
     ]
    },
    {
     "name": "stderr",
     "output_type": "stream",
     "text": [
      " 21%|██        | 209/999 [4:14:33<17:53:53, 81.56s/it]"
     ]
    },
    {
     "name": "stdout",
     "output_type": "stream",
     "text": [
      "eigenvalues shape torch.Size([5]) eigenvectors shape torch.Size([5, 1024])\n",
      "209 /home/phdcs2/Hard_Disk/Datasets/Deep-Spectral-Segmentation/data/object-segmentation/ECSSD/features/0211_resized.pth\n",
      "dict_keys(['k', 'indices', 'file', 'id', 'model_name', 'patch_size', 'shape'])\n",
      "0211_resized\n"
     ]
    },
    {
     "name": "stderr",
     "output_type": "stream",
     "text": [
      "/home/phdcs2/Hard_Disk/Projects/T2I/deep-spectral-segmentation/venv/lib/python3.8/site-packages/sklearn/decomposition/_pca.py:642: RuntimeWarning: invalid value encountered in divide\n",
      "  self.explained_variance_ratio_ = self.explained_variance_ / total_var\n"
     ]
    },
    {
     "name": "stdout",
     "output_type": "stream",
     "text": [
      "Starting Training\n",
      "epoch: 00, loss: -0.93259\n",
      "epoch: 01, loss: -0.95764\n",
      "epoch: 02, loss: -0.96347\n",
      "epoch: 03, loss: -0.96691\n",
      "epoch: 04, loss: -0.96932\n",
      "epoch: 05, loss: -0.97114\n",
      "epoch: 06, loss: -0.97257\n",
      "epoch: 07, loss: -0.97376\n",
      "epoch: 08, loss: -0.97474\n",
      "epoch: 09, loss: -0.97561\n",
      "torch.Size([1024, 64])\n"
     ]
    },
    {
     "name": "stderr",
     "output_type": "stream",
     "text": [
      " 21%|██        | 210/999 [4:15:58<18:07:32, 82.70s/it]"
     ]
    },
    {
     "name": "stdout",
     "output_type": "stream",
     "text": [
      "eigenvalues shape torch.Size([5]) eigenvectors shape torch.Size([5, 1024])\n",
      "210 /home/phdcs2/Hard_Disk/Datasets/Deep-Spectral-Segmentation/data/object-segmentation/ECSSD/features/0212_resized.pth\n",
      "dict_keys(['k', 'indices', 'file', 'id', 'model_name', 'patch_size', 'shape'])\n",
      "0212_resized\n",
      "Starting Training\n",
      "epoch: 00, loss: -0.90642\n",
      "epoch: 01, loss: -0.94189\n",
      "epoch: 02, loss: -0.95049\n",
      "epoch: 03, loss: -0.95557\n",
      "epoch: 04, loss: -0.95908\n",
      "epoch: 05, loss: -0.96172\n",
      "epoch: 06, loss: -0.96380\n",
      "epoch: 07, loss: -0.96552\n",
      "epoch: 08, loss: -0.96695\n",
      "epoch: 09, loss: -0.96818\n",
      "torch.Size([1024, 64])\n"
     ]
    },
    {
     "name": "stderr",
     "output_type": "stream",
     "text": [
      " 21%|██        | 211/999 [4:17:23<18:13:53, 83.29s/it]"
     ]
    },
    {
     "name": "stdout",
     "output_type": "stream",
     "text": [
      "eigenvalues shape torch.Size([5]) eigenvectors shape torch.Size([5, 1024])\n",
      "211 /home/phdcs2/Hard_Disk/Datasets/Deep-Spectral-Segmentation/data/object-segmentation/ECSSD/features/0213_resized.pth\n",
      "dict_keys(['k', 'indices', 'file', 'id', 'model_name', 'patch_size', 'shape'])\n",
      "0213_resized\n"
     ]
    },
    {
     "name": "stderr",
     "output_type": "stream",
     "text": [
      "/home/phdcs2/Hard_Disk/Projects/T2I/deep-spectral-segmentation/venv/lib/python3.8/site-packages/sklearn/decomposition/_pca.py:642: RuntimeWarning: invalid value encountered in divide\n",
      "  self.explained_variance_ratio_ = self.explained_variance_ / total_var\n"
     ]
    },
    {
     "name": "stdout",
     "output_type": "stream",
     "text": [
      "Starting Training\n",
      "epoch: 00, loss: -0.93325\n",
      "epoch: 01, loss: -0.96027\n",
      "epoch: 02, loss: -0.96576\n",
      "epoch: 03, loss: -0.96899\n",
      "epoch: 04, loss: -0.97120\n",
      "epoch: 05, loss: -0.97290\n",
      "epoch: 06, loss: -0.97420\n",
      "epoch: 07, loss: -0.97532\n",
      "epoch: 08, loss: -0.97622\n",
      "epoch: 09, loss: -0.97704\n",
      "torch.Size([1024, 64])\n"
     ]
    },
    {
     "name": "stderr",
     "output_type": "stream",
     "text": [
      " 21%|██        | 212/999 [4:18:46<18:14:44, 83.46s/it]"
     ]
    },
    {
     "name": "stdout",
     "output_type": "stream",
     "text": [
      "eigenvalues shape torch.Size([5]) eigenvectors shape torch.Size([5, 1024])\n",
      "212 /home/phdcs2/Hard_Disk/Datasets/Deep-Spectral-Segmentation/data/object-segmentation/ECSSD/features/0214_resized.pth\n",
      "dict_keys(['k', 'indices', 'file', 'id', 'model_name', 'patch_size', 'shape'])\n",
      "0214_resized\n"
     ]
    },
    {
     "name": "stderr",
     "output_type": "stream",
     "text": [
      "/home/phdcs2/Hard_Disk/Projects/T2I/deep-spectral-segmentation/venv/lib/python3.8/site-packages/sklearn/decomposition/_pca.py:642: RuntimeWarning: invalid value encountered in divide\n",
      "  self.explained_variance_ratio_ = self.explained_variance_ / total_var\n"
     ]
    },
    {
     "name": "stdout",
     "output_type": "stream",
     "text": [
      "Starting Training\n",
      "epoch: 00, loss: -0.93539\n",
      "epoch: 01, loss: -0.96202\n",
      "epoch: 02, loss: -0.96796\n",
      "epoch: 03, loss: -0.97140\n",
      "epoch: 04, loss: -0.97372\n",
      "epoch: 05, loss: -0.97549\n",
      "epoch: 06, loss: -0.97687\n",
      "epoch: 07, loss: -0.97801\n",
      "epoch: 08, loss: -0.97895\n",
      "epoch: 09, loss: -0.97977\n",
      "torch.Size([1024, 64])\n"
     ]
    },
    {
     "name": "stderr",
     "output_type": "stream",
     "text": [
      " 21%|██▏       | 213/999 [4:20:12<18:19:57, 83.97s/it]"
     ]
    },
    {
     "name": "stdout",
     "output_type": "stream",
     "text": [
      "eigenvalues shape torch.Size([5]) eigenvectors shape torch.Size([5, 1024])\n",
      "213 /home/phdcs2/Hard_Disk/Datasets/Deep-Spectral-Segmentation/data/object-segmentation/ECSSD/features/0215_resized.pth\n",
      "dict_keys(['k', 'indices', 'file', 'id', 'model_name', 'patch_size', 'shape'])\n",
      "0215_resized\n"
     ]
    },
    {
     "name": "stderr",
     "output_type": "stream",
     "text": [
      "/home/phdcs2/Hard_Disk/Projects/T2I/deep-spectral-segmentation/venv/lib/python3.8/site-packages/sklearn/decomposition/_pca.py:642: RuntimeWarning: invalid value encountered in divide\n",
      "  self.explained_variance_ratio_ = self.explained_variance_ / total_var\n"
     ]
    },
    {
     "name": "stdout",
     "output_type": "stream",
     "text": [
      "Starting Training\n",
      "epoch: 00, loss: -0.91751\n",
      "epoch: 01, loss: -0.94815\n",
      "epoch: 02, loss: -0.95616\n",
      "epoch: 03, loss: -0.96091\n",
      "epoch: 04, loss: -0.96413\n",
      "epoch: 05, loss: -0.96658\n",
      "epoch: 06, loss: -0.96848\n",
      "epoch: 07, loss: -0.97005\n",
      "epoch: 08, loss: -0.97137\n",
      "epoch: 09, loss: -0.97247\n",
      "torch.Size([1024, 64])\n"
     ]
    },
    {
     "name": "stderr",
     "output_type": "stream",
     "text": [
      " 21%|██▏       | 214/999 [4:21:32<18:03:57, 82.85s/it]"
     ]
    },
    {
     "name": "stdout",
     "output_type": "stream",
     "text": [
      "eigenvalues shape torch.Size([5]) eigenvectors shape torch.Size([5, 1024])\n",
      "214 /home/phdcs2/Hard_Disk/Datasets/Deep-Spectral-Segmentation/data/object-segmentation/ECSSD/features/0216_resized.pth\n",
      "dict_keys(['k', 'indices', 'file', 'id', 'model_name', 'patch_size', 'shape'])\n",
      "0216_resized\n"
     ]
    },
    {
     "name": "stderr",
     "output_type": "stream",
     "text": [
      "/home/phdcs2/Hard_Disk/Projects/T2I/deep-spectral-segmentation/venv/lib/python3.8/site-packages/sklearn/decomposition/_pca.py:642: RuntimeWarning: invalid value encountered in divide\n",
      "  self.explained_variance_ratio_ = self.explained_variance_ / total_var\n"
     ]
    },
    {
     "name": "stdout",
     "output_type": "stream",
     "text": [
      "Starting Training\n",
      "epoch: 00, loss: -0.93142\n",
      "epoch: 01, loss: -0.95761\n",
      "epoch: 02, loss: -0.96401\n",
      "epoch: 03, loss: -0.96778\n",
      "epoch: 04, loss: -0.97040\n",
      "epoch: 05, loss: -0.97234\n",
      "epoch: 06, loss: -0.97387\n",
      "epoch: 07, loss: -0.97512\n",
      "epoch: 08, loss: -0.97617\n",
      "epoch: 09, loss: -0.97707\n",
      "torch.Size([1024, 64])\n"
     ]
    },
    {
     "name": "stderr",
     "output_type": "stream",
     "text": [
      " 22%|██▏       | 215/999 [4:22:57<18:11:15, 83.51s/it]"
     ]
    },
    {
     "name": "stdout",
     "output_type": "stream",
     "text": [
      "eigenvalues shape torch.Size([5]) eigenvectors shape torch.Size([5, 1024])\n",
      "215 /home/phdcs2/Hard_Disk/Datasets/Deep-Spectral-Segmentation/data/object-segmentation/ECSSD/features/0217_resized.pth\n",
      "dict_keys(['k', 'indices', 'file', 'id', 'model_name', 'patch_size', 'shape'])\n",
      "0217_resized\n",
      "Starting Training\n",
      "epoch: 00, loss: -0.92142\n",
      "epoch: 01, loss: -0.95338\n",
      "epoch: 02, loss: -0.96043\n",
      "epoch: 03, loss: -0.96455\n",
      "epoch: 04, loss: -0.96734\n",
      "epoch: 05, loss: -0.96943\n",
      "epoch: 06, loss: -0.97112\n",
      "epoch: 07, loss: -0.97247\n",
      "epoch: 08, loss: -0.97361\n",
      "epoch: 09, loss: -0.97457\n",
      "torch.Size([1024, 64])\n"
     ]
    },
    {
     "name": "stderr",
     "output_type": "stream",
     "text": [
      " 22%|██▏       | 216/999 [4:24:24<18:23:16, 84.54s/it]"
     ]
    },
    {
     "name": "stdout",
     "output_type": "stream",
     "text": [
      "eigenvalues shape torch.Size([5]) eigenvectors shape torch.Size([5, 1024])\n",
      "216 /home/phdcs2/Hard_Disk/Datasets/Deep-Spectral-Segmentation/data/object-segmentation/ECSSD/features/0218_resized.pth\n",
      "dict_keys(['k', 'indices', 'file', 'id', 'model_name', 'patch_size', 'shape'])\n",
      "0218_resized\n"
     ]
    },
    {
     "name": "stderr",
     "output_type": "stream",
     "text": [
      "/home/phdcs2/Hard_Disk/Projects/T2I/deep-spectral-segmentation/venv/lib/python3.8/site-packages/sklearn/decomposition/_pca.py:642: RuntimeWarning: invalid value encountered in divide\n",
      "  self.explained_variance_ratio_ = self.explained_variance_ / total_var\n"
     ]
    },
    {
     "name": "stdout",
     "output_type": "stream",
     "text": [
      "Starting Training\n",
      "epoch: 00, loss: -0.91819\n",
      "epoch: 01, loss: -0.95315\n",
      "epoch: 02, loss: -0.96034\n",
      "epoch: 03, loss: -0.96457\n",
      "epoch: 04, loss: -0.96737\n",
      "epoch: 05, loss: -0.96951\n",
      "epoch: 06, loss: -0.97120\n",
      "epoch: 07, loss: -0.97256\n",
      "epoch: 08, loss: -0.97373\n",
      "epoch: 09, loss: -0.97469\n",
      "torch.Size([1024, 64])\n"
     ]
    },
    {
     "name": "stderr",
     "output_type": "stream",
     "text": [
      " 22%|██▏       | 217/999 [4:25:51<18:32:49, 85.38s/it]"
     ]
    },
    {
     "name": "stdout",
     "output_type": "stream",
     "text": [
      "eigenvalues shape torch.Size([5]) eigenvectors shape torch.Size([5, 1024])\n",
      "217 /home/phdcs2/Hard_Disk/Datasets/Deep-Spectral-Segmentation/data/object-segmentation/ECSSD/features/0219_resized.pth\n",
      "dict_keys(['k', 'indices', 'file', 'id', 'model_name', 'patch_size', 'shape'])\n",
      "0219_resized\n"
     ]
    },
    {
     "name": "stderr",
     "output_type": "stream",
     "text": [
      "/home/phdcs2/Hard_Disk/Projects/T2I/deep-spectral-segmentation/venv/lib/python3.8/site-packages/sklearn/decomposition/_pca.py:642: RuntimeWarning: invalid value encountered in divide\n",
      "  self.explained_variance_ratio_ = self.explained_variance_ / total_var\n"
     ]
    },
    {
     "name": "stdout",
     "output_type": "stream",
     "text": [
      "Starting Training\n",
      "epoch: 00, loss: -0.92269\n",
      "epoch: 01, loss: -0.95434\n",
      "epoch: 02, loss: -0.96135\n",
      "epoch: 03, loss: -0.96541\n",
      "epoch: 04, loss: -0.96820\n",
      "epoch: 05, loss: -0.97033\n",
      "epoch: 06, loss: -0.97194\n",
      "epoch: 07, loss: -0.97328\n",
      "epoch: 08, loss: -0.97440\n",
      "epoch: 09, loss: -0.97536\n",
      "torch.Size([1024, 64])\n"
     ]
    },
    {
     "name": "stderr",
     "output_type": "stream",
     "text": [
      " 22%|██▏       | 218/999 [4:27:20<18:43:53, 86.34s/it]"
     ]
    },
    {
     "name": "stdout",
     "output_type": "stream",
     "text": [
      "eigenvalues shape torch.Size([5]) eigenvectors shape torch.Size([5, 1024])\n",
      "218 /home/phdcs2/Hard_Disk/Datasets/Deep-Spectral-Segmentation/data/object-segmentation/ECSSD/features/0220_resized.pth\n",
      "dict_keys(['k', 'indices', 'file', 'id', 'model_name', 'patch_size', 'shape'])\n",
      "0220_resized\n"
     ]
    },
    {
     "name": "stderr",
     "output_type": "stream",
     "text": [
      "/home/phdcs2/Hard_Disk/Projects/T2I/deep-spectral-segmentation/venv/lib/python3.8/site-packages/sklearn/decomposition/_pca.py:642: RuntimeWarning: invalid value encountered in divide\n",
      "  self.explained_variance_ratio_ = self.explained_variance_ / total_var\n"
     ]
    },
    {
     "name": "stdout",
     "output_type": "stream",
     "text": [
      "Starting Training\n",
      "epoch: 00, loss: -0.93364\n",
      "epoch: 01, loss: -0.96233\n",
      "epoch: 02, loss: -0.96796\n",
      "epoch: 03, loss: -0.97132\n",
      "epoch: 04, loss: -0.97360\n",
      "epoch: 05, loss: -0.97533\n",
      "epoch: 06, loss: -0.97667\n",
      "epoch: 07, loss: -0.97778\n",
      "epoch: 08, loss: -0.97872\n",
      "epoch: 09, loss: -0.97951\n",
      "torch.Size([1024, 64])\n"
     ]
    },
    {
     "name": "stderr",
     "output_type": "stream",
     "text": [
      " 22%|██▏       | 219/999 [4:28:43<18:29:21, 85.34s/it]"
     ]
    },
    {
     "name": "stdout",
     "output_type": "stream",
     "text": [
      "eigenvalues shape torch.Size([5]) eigenvectors shape torch.Size([5, 1024])\n",
      "219 /home/phdcs2/Hard_Disk/Datasets/Deep-Spectral-Segmentation/data/object-segmentation/ECSSD/features/0221_resized.pth\n",
      "dict_keys(['k', 'indices', 'file', 'id', 'model_name', 'patch_size', 'shape'])\n",
      "0221_resized\n"
     ]
    },
    {
     "name": "stderr",
     "output_type": "stream",
     "text": [
      "/home/phdcs2/Hard_Disk/Projects/T2I/deep-spectral-segmentation/venv/lib/python3.8/site-packages/sklearn/decomposition/_pca.py:642: RuntimeWarning: invalid value encountered in divide\n",
      "  self.explained_variance_ratio_ = self.explained_variance_ / total_var\n"
     ]
    },
    {
     "name": "stdout",
     "output_type": "stream",
     "text": [
      "Starting Training\n",
      "epoch: 00, loss: -0.93243\n",
      "epoch: 01, loss: -0.96001\n",
      "epoch: 02, loss: -0.96590\n",
      "epoch: 03, loss: -0.96942\n",
      "epoch: 04, loss: -0.97175\n",
      "epoch: 05, loss: -0.97356\n",
      "epoch: 06, loss: -0.97496\n",
      "epoch: 07, loss: -0.97610\n",
      "epoch: 08, loss: -0.97708\n",
      "epoch: 09, loss: -0.97791\n",
      "torch.Size([1024, 64])\n"
     ]
    },
    {
     "name": "stderr",
     "output_type": "stream",
     "text": [
      " 22%|██▏       | 220/999 [4:30:08<18:29:22, 85.45s/it]"
     ]
    },
    {
     "name": "stdout",
     "output_type": "stream",
     "text": [
      "eigenvalues shape torch.Size([5]) eigenvectors shape torch.Size([5, 1024])\n",
      "220 /home/phdcs2/Hard_Disk/Datasets/Deep-Spectral-Segmentation/data/object-segmentation/ECSSD/features/0222_resized.pth\n",
      "dict_keys(['k', 'indices', 'file', 'id', 'model_name', 'patch_size', 'shape'])\n",
      "0222_resized\n"
     ]
    },
    {
     "name": "stderr",
     "output_type": "stream",
     "text": [
      "/home/phdcs2/Hard_Disk/Projects/T2I/deep-spectral-segmentation/venv/lib/python3.8/site-packages/sklearn/decomposition/_pca.py:642: RuntimeWarning: invalid value encountered in divide\n",
      "  self.explained_variance_ratio_ = self.explained_variance_ / total_var\n"
     ]
    },
    {
     "name": "stdout",
     "output_type": "stream",
     "text": [
      "Starting Training\n",
      "epoch: 00, loss: -0.92058\n",
      "epoch: 01, loss: -0.95264\n",
      "epoch: 02, loss: -0.96009\n",
      "epoch: 03, loss: -0.96440\n",
      "epoch: 04, loss: -0.96727\n",
      "epoch: 05, loss: -0.96945\n",
      "epoch: 06, loss: -0.97113\n",
      "epoch: 07, loss: -0.97250\n",
      "epoch: 08, loss: -0.97366\n",
      "epoch: 09, loss: -0.97464\n",
      "torch.Size([1024, 64])\n"
     ]
    },
    {
     "name": "stderr",
     "output_type": "stream",
     "text": [
      " 22%|██▏       | 221/999 [4:31:30<18:12:27, 84.25s/it]"
     ]
    },
    {
     "name": "stdout",
     "output_type": "stream",
     "text": [
      "eigenvalues shape torch.Size([5]) eigenvectors shape torch.Size([5, 1024])\n",
      "221 /home/phdcs2/Hard_Disk/Datasets/Deep-Spectral-Segmentation/data/object-segmentation/ECSSD/features/0223_resized.pth\n",
      "dict_keys(['k', 'indices', 'file', 'id', 'model_name', 'patch_size', 'shape'])\n",
      "0223_resized\n",
      "Starting Training\n",
      "epoch: 00, loss: -0.85273\n",
      "epoch: 01, loss: -0.91093\n",
      "epoch: 02, loss: -0.92645\n",
      "epoch: 03, loss: -0.93547\n",
      "epoch: 04, loss: -0.94135\n",
      "epoch: 05, loss: -0.94574\n",
      "epoch: 06, loss: -0.94909\n",
      "epoch: 07, loss: -0.95187\n",
      "epoch: 08, loss: -0.95410\n",
      "epoch: 09, loss: -0.95595\n",
      "torch.Size([1024, 64])\n"
     ]
    },
    {
     "name": "stderr",
     "output_type": "stream",
     "text": [
      " 22%|██▏       | 222/999 [4:32:54<18:09:40, 84.14s/it]"
     ]
    },
    {
     "name": "stdout",
     "output_type": "stream",
     "text": [
      "eigenvalues shape torch.Size([5]) eigenvectors shape torch.Size([5, 1024])\n",
      "222 /home/phdcs2/Hard_Disk/Datasets/Deep-Spectral-Segmentation/data/object-segmentation/ECSSD/features/0224_resized.pth\n",
      "dict_keys(['k', 'indices', 'file', 'id', 'model_name', 'patch_size', 'shape'])\n",
      "0224_resized\n",
      "Starting Training\n",
      "epoch: 00, loss: -0.86797\n",
      "epoch: 01, loss: -0.91983\n",
      "epoch: 02, loss: -0.93273\n",
      "epoch: 03, loss: -0.94010\n",
      "epoch: 04, loss: -0.94539\n",
      "epoch: 05, loss: -0.94918\n",
      "epoch: 06, loss: -0.95223\n",
      "epoch: 07, loss: -0.95454\n",
      "epoch: 08, loss: -0.95642\n",
      "epoch: 09, loss: -0.95798\n",
      "torch.Size([1024, 64])\n"
     ]
    },
    {
     "name": "stderr",
     "output_type": "stream",
     "text": [
      " 22%|██▏       | 223/999 [4:34:14<17:54:31, 83.08s/it]"
     ]
    },
    {
     "name": "stdout",
     "output_type": "stream",
     "text": [
      "eigenvalues shape torch.Size([5]) eigenvectors shape torch.Size([5, 1024])\n",
      "223 /home/phdcs2/Hard_Disk/Datasets/Deep-Spectral-Segmentation/data/object-segmentation/ECSSD/features/0225_resized.pth\n",
      "dict_keys(['k', 'indices', 'file', 'id', 'model_name', 'patch_size', 'shape'])\n",
      "0225_resized\n",
      "Starting Training\n",
      "epoch: 00, loss: -0.87984\n",
      "epoch: 01, loss: -0.92745\n",
      "epoch: 02, loss: -0.93978\n",
      "epoch: 03, loss: -0.94681\n",
      "epoch: 04, loss: -0.95156\n",
      "epoch: 05, loss: -0.95512\n",
      "epoch: 06, loss: -0.95787\n",
      "epoch: 07, loss: -0.96007\n",
      "epoch: 08, loss: -0.96192\n",
      "epoch: 09, loss: -0.96349\n",
      "torch.Size([1024, 64])\n"
     ]
    },
    {
     "name": "stderr",
     "output_type": "stream",
     "text": [
      " 22%|██▏       | 224/999 [4:35:36<17:45:44, 82.51s/it]"
     ]
    },
    {
     "name": "stdout",
     "output_type": "stream",
     "text": [
      "eigenvalues shape torch.Size([5]) eigenvectors shape torch.Size([5, 1024])\n",
      "224 /home/phdcs2/Hard_Disk/Datasets/Deep-Spectral-Segmentation/data/object-segmentation/ECSSD/features/0226_resized.pth\n",
      "dict_keys(['k', 'indices', 'file', 'id', 'model_name', 'patch_size', 'shape'])\n",
      "0226_resized\n"
     ]
    },
    {
     "name": "stderr",
     "output_type": "stream",
     "text": [
      "/home/phdcs2/Hard_Disk/Projects/T2I/deep-spectral-segmentation/venv/lib/python3.8/site-packages/sklearn/decomposition/_pca.py:642: RuntimeWarning: invalid value encountered in divide\n",
      "  self.explained_variance_ratio_ = self.explained_variance_ / total_var\n"
     ]
    },
    {
     "name": "stdout",
     "output_type": "stream",
     "text": [
      "Starting Training\n",
      "epoch: 00, loss: -0.92947\n",
      "epoch: 01, loss: -0.95786\n",
      "epoch: 02, loss: -0.96442\n",
      "epoch: 03, loss: -0.96826\n",
      "epoch: 04, loss: -0.97086\n",
      "epoch: 05, loss: -0.97279\n",
      "epoch: 06, loss: -0.97431\n",
      "epoch: 07, loss: -0.97558\n",
      "epoch: 08, loss: -0.97662\n",
      "epoch: 09, loss: -0.97751\n",
      "torch.Size([1024, 64])\n"
     ]
    },
    {
     "name": "stderr",
     "output_type": "stream",
     "text": [
      " 23%|██▎       | 225/999 [4:36:48<17:07:03, 79.62s/it]"
     ]
    },
    {
     "name": "stdout",
     "output_type": "stream",
     "text": [
      "eigenvalues shape torch.Size([5]) eigenvectors shape torch.Size([5, 1024])\n",
      "225 /home/phdcs2/Hard_Disk/Datasets/Deep-Spectral-Segmentation/data/object-segmentation/ECSSD/features/0227_resized.pth\n",
      "dict_keys(['k', 'indices', 'file', 'id', 'model_name', 'patch_size', 'shape'])\n",
      "0227_resized\n",
      "Starting Training\n",
      "epoch: 00, loss: -0.88282\n",
      "epoch: 01, loss: -0.92928\n",
      "epoch: 02, loss: -0.94144\n",
      "epoch: 03, loss: -0.94833\n",
      "epoch: 04, loss: -0.95302\n",
      "epoch: 05, loss: -0.95658\n",
      "epoch: 06, loss: -0.95934\n",
      "epoch: 07, loss: -0.96144\n",
      "epoch: 08, loss: -0.96321\n",
      "epoch: 09, loss: -0.96468\n",
      "torch.Size([1024, 64])\n"
     ]
    },
    {
     "name": "stderr",
     "output_type": "stream",
     "text": [
      " 23%|██▎       | 226/999 [4:37:58<16:25:20, 76.48s/it]"
     ]
    },
    {
     "name": "stdout",
     "output_type": "stream",
     "text": [
      "eigenvalues shape torch.Size([5]) eigenvectors shape torch.Size([5, 1024])\n",
      "226 /home/phdcs2/Hard_Disk/Datasets/Deep-Spectral-Segmentation/data/object-segmentation/ECSSD/features/0228_resized.pth\n",
      "dict_keys(['k', 'indices', 'file', 'id', 'model_name', 'patch_size', 'shape'])\n",
      "0228_resized\n"
     ]
    },
    {
     "name": "stderr",
     "output_type": "stream",
     "text": [
      "/home/phdcs2/Hard_Disk/Projects/T2I/deep-spectral-segmentation/venv/lib/python3.8/site-packages/sklearn/decomposition/_pca.py:642: RuntimeWarning: invalid value encountered in divide\n",
      "  self.explained_variance_ratio_ = self.explained_variance_ / total_var\n"
     ]
    },
    {
     "name": "stdout",
     "output_type": "stream",
     "text": [
      "Starting Training\n",
      "epoch: 00, loss: -0.93175\n",
      "epoch: 01, loss: -0.95846\n",
      "epoch: 02, loss: -0.96462\n",
      "epoch: 03, loss: -0.96816\n",
      "epoch: 04, loss: -0.97065\n",
      "epoch: 05, loss: -0.97250\n",
      "epoch: 06, loss: -0.97399\n",
      "epoch: 07, loss: -0.97517\n",
      "epoch: 08, loss: -0.97617\n",
      "epoch: 09, loss: -0.97704\n",
      "torch.Size([1024, 64])\n"
     ]
    },
    {
     "name": "stderr",
     "output_type": "stream",
     "text": [
      " 23%|██▎       | 227/999 [4:39:17<16:36:24, 77.44s/it]"
     ]
    },
    {
     "name": "stdout",
     "output_type": "stream",
     "text": [
      "eigenvalues shape torch.Size([5]) eigenvectors shape torch.Size([5, 1024])\n",
      "227 /home/phdcs2/Hard_Disk/Datasets/Deep-Spectral-Segmentation/data/object-segmentation/ECSSD/features/0229_resized.pth\n",
      "dict_keys(['k', 'indices', 'file', 'id', 'model_name', 'patch_size', 'shape'])\n",
      "0229_resized\n",
      "Starting Training\n",
      "epoch: 00, loss: -0.91776\n",
      "epoch: 01, loss: -0.95173\n",
      "epoch: 02, loss: -0.95956\n",
      "epoch: 03, loss: -0.96405\n",
      "epoch: 04, loss: -0.96703\n",
      "epoch: 05, loss: -0.96925\n",
      "epoch: 06, loss: -0.97100\n",
      "epoch: 07, loss: -0.97242\n",
      "epoch: 08, loss: -0.97359\n",
      "epoch: 09, loss: -0.97461\n",
      "torch.Size([1024, 64])\n"
     ]
    },
    {
     "name": "stderr",
     "output_type": "stream",
     "text": [
      " 23%|██▎       | 228/999 [4:40:38<16:46:14, 78.31s/it]"
     ]
    },
    {
     "name": "stdout",
     "output_type": "stream",
     "text": [
      "eigenvalues shape torch.Size([5]) eigenvectors shape torch.Size([5, 1024])\n",
      "228 /home/phdcs2/Hard_Disk/Datasets/Deep-Spectral-Segmentation/data/object-segmentation/ECSSD/features/0230_resized.pth\n",
      "dict_keys(['k', 'indices', 'file', 'id', 'model_name', 'patch_size', 'shape'])\n",
      "0230_resized\n",
      "Starting Training\n",
      "epoch: 00, loss: -0.85835\n",
      "epoch: 01, loss: -0.91886\n",
      "epoch: 02, loss: -0.93322\n",
      "epoch: 03, loss: -0.94142\n",
      "epoch: 04, loss: -0.94695\n",
      "epoch: 05, loss: -0.95100\n",
      "epoch: 06, loss: -0.95400\n",
      "epoch: 07, loss: -0.95656\n",
      "epoch: 08, loss: -0.95855\n",
      "epoch: 09, loss: -0.96027\n",
      "torch.Size([1024, 64])\n"
     ]
    },
    {
     "name": "stderr",
     "output_type": "stream",
     "text": [
      " 23%|██▎       | 229/999 [4:42:02<17:08:44, 80.16s/it]"
     ]
    },
    {
     "name": "stdout",
     "output_type": "stream",
     "text": [
      "eigenvalues shape torch.Size([5]) eigenvectors shape torch.Size([5, 1024])\n",
      "229 /home/phdcs2/Hard_Disk/Datasets/Deep-Spectral-Segmentation/data/object-segmentation/ECSSD/features/0231_resized.pth\n",
      "dict_keys(['k', 'indices', 'file', 'id', 'model_name', 'patch_size', 'shape'])\n",
      "0231_resized\n"
     ]
    },
    {
     "name": "stderr",
     "output_type": "stream",
     "text": [
      "/home/phdcs2/Hard_Disk/Projects/T2I/deep-spectral-segmentation/venv/lib/python3.8/site-packages/sklearn/decomposition/_pca.py:642: RuntimeWarning: invalid value encountered in divide\n",
      "  self.explained_variance_ratio_ = self.explained_variance_ / total_var\n"
     ]
    },
    {
     "name": "stdout",
     "output_type": "stream",
     "text": [
      "Starting Training\n",
      "epoch: 00, loss: -0.93080\n",
      "epoch: 01, loss: -0.96072\n",
      "epoch: 02, loss: -0.96666\n",
      "epoch: 03, loss: -0.96998\n",
      "epoch: 04, loss: -0.97230\n",
      "epoch: 05, loss: -0.97403\n",
      "epoch: 06, loss: -0.97536\n",
      "epoch: 07, loss: -0.97647\n",
      "epoch: 08, loss: -0.97735\n",
      "epoch: 09, loss: -0.97816\n",
      "torch.Size([1024, 64])\n"
     ]
    },
    {
     "name": "stderr",
     "output_type": "stream",
     "text": [
      " 23%|██▎       | 230/999 [4:43:24<17:15:13, 80.77s/it]"
     ]
    },
    {
     "name": "stdout",
     "output_type": "stream",
     "text": [
      "eigenvalues shape torch.Size([5]) eigenvectors shape torch.Size([5, 1024])\n",
      "230 /home/phdcs2/Hard_Disk/Datasets/Deep-Spectral-Segmentation/data/object-segmentation/ECSSD/features/0232_resized.pth\n",
      "dict_keys(['k', 'indices', 'file', 'id', 'model_name', 'patch_size', 'shape'])\n",
      "0232_resized\n",
      "Starting Training\n",
      "epoch: 00, loss: -0.85930\n",
      "epoch: 01, loss: -0.91685\n",
      "epoch: 02, loss: -0.93096\n",
      "epoch: 03, loss: -0.93929\n",
      "epoch: 04, loss: -0.94478\n",
      "epoch: 05, loss: -0.94879\n",
      "epoch: 06, loss: -0.95191\n",
      "epoch: 07, loss: -0.95443\n",
      "epoch: 08, loss: -0.95652\n",
      "epoch: 09, loss: -0.95821\n",
      "torch.Size([1024, 64])\n"
     ]
    },
    {
     "name": "stderr",
     "output_type": "stream",
     "text": [
      " 23%|██▎       | 231/999 [4:44:52<17:41:24, 82.92s/it]"
     ]
    },
    {
     "name": "stdout",
     "output_type": "stream",
     "text": [
      "eigenvalues shape torch.Size([5]) eigenvectors shape torch.Size([5, 1024])\n",
      "231 /home/phdcs2/Hard_Disk/Datasets/Deep-Spectral-Segmentation/data/object-segmentation/ECSSD/features/0233_resized.pth\n",
      "dict_keys(['k', 'indices', 'file', 'id', 'model_name', 'patch_size', 'shape'])\n",
      "0233_resized\n",
      "Starting Training\n",
      "epoch: 00, loss: -0.86321\n",
      "epoch: 01, loss: -0.91633\n",
      "epoch: 02, loss: -0.93036\n",
      "epoch: 03, loss: -0.93848\n",
      "epoch: 04, loss: -0.94407\n",
      "epoch: 05, loss: -0.94800\n",
      "epoch: 06, loss: -0.95097\n",
      "epoch: 07, loss: -0.95356\n",
      "epoch: 08, loss: -0.95559\n",
      "epoch: 09, loss: -0.95741\n",
      "torch.Size([1024, 64])\n"
     ]
    },
    {
     "name": "stderr",
     "output_type": "stream",
     "text": [
      " 23%|██▎       | 232/999 [4:46:24<18:13:10, 85.52s/it]"
     ]
    },
    {
     "name": "stdout",
     "output_type": "stream",
     "text": [
      "eigenvalues shape torch.Size([5]) eigenvectors shape torch.Size([5, 1024])\n",
      "232 /home/phdcs2/Hard_Disk/Datasets/Deep-Spectral-Segmentation/data/object-segmentation/ECSSD/features/0234_resized.pth\n",
      "dict_keys(['k', 'indices', 'file', 'id', 'model_name', 'patch_size', 'shape'])\n",
      "0234_resized\n",
      "Starting Training\n",
      "epoch: 00, loss: -0.92475\n",
      "epoch: 01, loss: -0.95371\n",
      "epoch: 02, loss: -0.96080\n",
      "epoch: 03, loss: -0.96489\n",
      "epoch: 04, loss: -0.96775\n",
      "epoch: 05, loss: -0.96983\n",
      "epoch: 06, loss: -0.97150\n",
      "epoch: 07, loss: -0.97287\n",
      "epoch: 08, loss: -0.97401\n",
      "epoch: 09, loss: -0.97497\n",
      "torch.Size([1024, 64])\n"
     ]
    },
    {
     "name": "stderr",
     "output_type": "stream",
     "text": [
      " 23%|██▎       | 233/999 [4:47:54<18:29:20, 86.89s/it]"
     ]
    },
    {
     "name": "stdout",
     "output_type": "stream",
     "text": [
      "eigenvalues shape torch.Size([5]) eigenvectors shape torch.Size([5, 1024])\n",
      "233 /home/phdcs2/Hard_Disk/Datasets/Deep-Spectral-Segmentation/data/object-segmentation/ECSSD/features/0235_resized.pth\n",
      "dict_keys(['k', 'indices', 'file', 'id', 'model_name', 'patch_size', 'shape'])\n",
      "0235_resized\n",
      "Starting Training\n",
      "epoch: 00, loss: -0.84581\n",
      "epoch: 01, loss: -0.91040\n",
      "epoch: 02, loss: -0.92686\n",
      "epoch: 03, loss: -0.93606\n",
      "epoch: 04, loss: -0.94207\n",
      "epoch: 05, loss: -0.94631\n",
      "epoch: 06, loss: -0.94983\n",
      "epoch: 07, loss: -0.95257\n",
      "epoch: 08, loss: -0.95480\n",
      "epoch: 09, loss: -0.95678\n",
      "torch.Size([1024, 64])\n"
     ]
    },
    {
     "name": "stderr",
     "output_type": "stream",
     "text": [
      " 23%|██▎       | 234/999 [4:49:24<18:40:14, 87.86s/it]"
     ]
    },
    {
     "name": "stdout",
     "output_type": "stream",
     "text": [
      "eigenvalues shape torch.Size([5]) eigenvectors shape torch.Size([5, 1024])\n",
      "234 /home/phdcs2/Hard_Disk/Datasets/Deep-Spectral-Segmentation/data/object-segmentation/ECSSD/features/0236_resized.pth\n",
      "dict_keys(['k', 'indices', 'file', 'id', 'model_name', 'patch_size', 'shape'])\n",
      "0236_resized\n"
     ]
    },
    {
     "name": "stderr",
     "output_type": "stream",
     "text": [
      "/home/phdcs2/Hard_Disk/Projects/T2I/deep-spectral-segmentation/venv/lib/python3.8/site-packages/sklearn/decomposition/_pca.py:642: RuntimeWarning: invalid value encountered in divide\n",
      "  self.explained_variance_ratio_ = self.explained_variance_ / total_var\n"
     ]
    },
    {
     "name": "stdout",
     "output_type": "stream",
     "text": [
      "Starting Training\n",
      "epoch: 00, loss: -0.93349\n",
      "epoch: 01, loss: -0.96119\n",
      "epoch: 02, loss: -0.96677\n",
      "epoch: 03, loss: -0.97002\n",
      "epoch: 04, loss: -0.97225\n",
      "epoch: 05, loss: -0.97394\n",
      "epoch: 06, loss: -0.97524\n",
      "epoch: 07, loss: -0.97632\n",
      "epoch: 08, loss: -0.97725\n",
      "epoch: 09, loss: -0.97800\n",
      "torch.Size([1024, 64])\n"
     ]
    },
    {
     "name": "stderr",
     "output_type": "stream",
     "text": [
      " 24%|██▎       | 235/999 [4:50:55<18:51:47, 88.88s/it]"
     ]
    },
    {
     "name": "stdout",
     "output_type": "stream",
     "text": [
      "eigenvalues shape torch.Size([5]) eigenvectors shape torch.Size([5, 1024])\n",
      "235 /home/phdcs2/Hard_Disk/Datasets/Deep-Spectral-Segmentation/data/object-segmentation/ECSSD/features/0237_resized.pth\n",
      "dict_keys(['k', 'indices', 'file', 'id', 'model_name', 'patch_size', 'shape'])\n",
      "0237_resized\n",
      "Starting Training\n",
      "epoch: 00, loss: -0.87070\n",
      "epoch: 01, loss: -0.92145\n",
      "epoch: 02, loss: -0.93473\n",
      "epoch: 03, loss: -0.94251\n",
      "epoch: 04, loss: -0.94775\n",
      "epoch: 05, loss: -0.95155\n",
      "epoch: 06, loss: -0.95446\n",
      "epoch: 07, loss: -0.95684\n",
      "epoch: 08, loss: -0.95875\n",
      "epoch: 09, loss: -0.96043\n",
      "torch.Size([1024, 64])\n"
     ]
    },
    {
     "name": "stderr",
     "output_type": "stream",
     "text": [
      " 24%|██▎       | 236/999 [4:52:16<18:20:04, 86.51s/it]"
     ]
    },
    {
     "name": "stdout",
     "output_type": "stream",
     "text": [
      "eigenvalues shape torch.Size([5]) eigenvectors shape torch.Size([5, 1024])\n",
      "236 /home/phdcs2/Hard_Disk/Datasets/Deep-Spectral-Segmentation/data/object-segmentation/ECSSD/features/0238_resized.pth\n",
      "dict_keys(['k', 'indices', 'file', 'id', 'model_name', 'patch_size', 'shape'])\n",
      "0238_resized\n",
      "Starting Training\n",
      "epoch: 00, loss: -0.93798\n",
      "epoch: 01, loss: -0.96280\n",
      "epoch: 02, loss: -0.96876\n",
      "epoch: 03, loss: -0.97232\n",
      "epoch: 04, loss: -0.97475\n",
      "epoch: 05, loss: -0.97654\n",
      "epoch: 06, loss: -0.97796\n",
      "epoch: 07, loss: -0.97910\n",
      "epoch: 08, loss: -0.98006\n",
      "epoch: 09, loss: -0.98087\n",
      "torch.Size([1024, 64])\n"
     ]
    },
    {
     "name": "stderr",
     "output_type": "stream",
     "text": [
      " 24%|██▎       | 237/999 [4:53:39<18:04:24, 85.39s/it]"
     ]
    },
    {
     "name": "stdout",
     "output_type": "stream",
     "text": [
      "eigenvalues shape torch.Size([5]) eigenvectors shape torch.Size([5, 1024])\n",
      "237 /home/phdcs2/Hard_Disk/Datasets/Deep-Spectral-Segmentation/data/object-segmentation/ECSSD/features/0239_resized.pth\n",
      "dict_keys(['k', 'indices', 'file', 'id', 'model_name', 'patch_size', 'shape'])\n",
      "0239_resized\n"
     ]
    },
    {
     "name": "stderr",
     "output_type": "stream",
     "text": [
      "/home/phdcs2/Hard_Disk/Projects/T2I/deep-spectral-segmentation/venv/lib/python3.8/site-packages/sklearn/decomposition/_pca.py:642: RuntimeWarning: invalid value encountered in divide\n",
      "  self.explained_variance_ratio_ = self.explained_variance_ / total_var\n"
     ]
    },
    {
     "name": "stdout",
     "output_type": "stream",
     "text": [
      "Starting Training\n",
      "epoch: 00, loss: -0.93541\n",
      "epoch: 01, loss: -0.96227\n",
      "epoch: 02, loss: -0.96772\n",
      "epoch: 03, loss: -0.97095\n",
      "epoch: 04, loss: -0.97318\n",
      "epoch: 05, loss: -0.97483\n",
      "epoch: 06, loss: -0.97616\n",
      "epoch: 07, loss: -0.97724\n",
      "epoch: 08, loss: -0.97815\n",
      "epoch: 09, loss: -0.97894\n",
      "torch.Size([1024, 64])\n"
     ]
    },
    {
     "name": "stderr",
     "output_type": "stream",
     "text": [
      " 24%|██▍       | 238/999 [4:55:05<18:05:37, 85.59s/it]"
     ]
    },
    {
     "name": "stdout",
     "output_type": "stream",
     "text": [
      "eigenvalues shape torch.Size([5]) eigenvectors shape torch.Size([5, 1024])\n",
      "238 /home/phdcs2/Hard_Disk/Datasets/Deep-Spectral-Segmentation/data/object-segmentation/ECSSD/features/0240_resized.pth\n",
      "dict_keys(['k', 'indices', 'file', 'id', 'model_name', 'patch_size', 'shape'])\n",
      "0240_resized\n",
      "Starting Training\n",
      "epoch: 00, loss: -0.91880\n",
      "epoch: 01, loss: -0.95223\n",
      "epoch: 02, loss: -0.95926\n",
      "epoch: 03, loss: -0.96340\n",
      "epoch: 04, loss: -0.96623\n",
      "epoch: 05, loss: -0.96838\n",
      "epoch: 06, loss: -0.97003\n",
      "epoch: 07, loss: -0.97141\n",
      "epoch: 08, loss: -0.97257\n",
      "epoch: 09, loss: -0.97356\n",
      "torch.Size([1024, 64])\n"
     ]
    },
    {
     "name": "stderr",
     "output_type": "stream",
     "text": [
      " 24%|██▍       | 239/999 [4:56:24<17:40:27, 83.72s/it]"
     ]
    },
    {
     "name": "stdout",
     "output_type": "stream",
     "text": [
      "eigenvalues shape torch.Size([5]) eigenvectors shape torch.Size([5, 1024])\n",
      "239 /home/phdcs2/Hard_Disk/Datasets/Deep-Spectral-Segmentation/data/object-segmentation/ECSSD/features/0241_resized.pth\n",
      "dict_keys(['k', 'indices', 'file', 'id', 'model_name', 'patch_size', 'shape'])\n",
      "0241_resized\n",
      "Starting Training\n",
      "epoch: 00, loss: -0.87625\n",
      "epoch: 01, loss: -0.92370\n",
      "epoch: 02, loss: -0.93675\n",
      "epoch: 03, loss: -0.94433\n",
      "epoch: 04, loss: -0.94964\n",
      "epoch: 05, loss: -0.95340\n",
      "epoch: 06, loss: -0.95647\n",
      "epoch: 07, loss: -0.95891\n",
      "epoch: 08, loss: -0.96088\n",
      "epoch: 09, loss: -0.96250\n",
      "torch.Size([1024, 64])\n"
     ]
    },
    {
     "name": "stderr",
     "output_type": "stream",
     "text": [
      " 24%|██▍       | 240/999 [4:57:44<17:22:33, 82.42s/it]"
     ]
    },
    {
     "name": "stdout",
     "output_type": "stream",
     "text": [
      "eigenvalues shape torch.Size([5]) eigenvectors shape torch.Size([5, 1024])\n",
      "240 /home/phdcs2/Hard_Disk/Datasets/Deep-Spectral-Segmentation/data/object-segmentation/ECSSD/features/0242_resized.pth\n",
      "dict_keys(['k', 'indices', 'file', 'id', 'model_name', 'patch_size', 'shape'])\n",
      "0242_resized\n",
      "Starting Training\n",
      "epoch: 00, loss: -0.92565\n",
      "epoch: 01, loss: -0.95752\n",
      "epoch: 02, loss: -0.96418\n",
      "epoch: 03, loss: -0.96799\n",
      "epoch: 04, loss: -0.97059\n",
      "epoch: 05, loss: -0.97256\n",
      "epoch: 06, loss: -0.97406\n",
      "epoch: 07, loss: -0.97531\n",
      "epoch: 08, loss: -0.97634\n",
      "epoch: 09, loss: -0.97723\n",
      "torch.Size([1024, 64])\n"
     ]
    },
    {
     "name": "stderr",
     "output_type": "stream",
     "text": [
      " 24%|██▍       | 241/999 [4:58:57<16:45:13, 79.57s/it]"
     ]
    },
    {
     "name": "stdout",
     "output_type": "stream",
     "text": [
      "eigenvalues shape torch.Size([5]) eigenvectors shape torch.Size([5, 1024])\n",
      "241 /home/phdcs2/Hard_Disk/Datasets/Deep-Spectral-Segmentation/data/object-segmentation/ECSSD/features/0243_resized.pth\n",
      "dict_keys(['k', 'indices', 'file', 'id', 'model_name', 'patch_size', 'shape'])\n",
      "0243_resized\n",
      "Starting Training\n",
      "epoch: 00, loss: -0.88729\n",
      "epoch: 01, loss: -0.93191\n",
      "epoch: 02, loss: -0.94347\n",
      "epoch: 03, loss: -0.95012\n",
      "epoch: 04, loss: -0.95461\n",
      "epoch: 05, loss: -0.95785\n",
      "epoch: 06, loss: -0.96029\n",
      "epoch: 07, loss: -0.96239\n",
      "epoch: 08, loss: -0.96412\n",
      "epoch: 09, loss: -0.96556\n",
      "torch.Size([1024, 64])\n"
     ]
    },
    {
     "name": "stderr",
     "output_type": "stream",
     "text": [
      " 24%|██▍       | 242/999 [5:00:08<16:13:28, 77.16s/it]"
     ]
    },
    {
     "name": "stdout",
     "output_type": "stream",
     "text": [
      "eigenvalues shape torch.Size([5]) eigenvectors shape torch.Size([5, 1024])\n",
      "242 /home/phdcs2/Hard_Disk/Datasets/Deep-Spectral-Segmentation/data/object-segmentation/ECSSD/features/0244_resized.pth\n",
      "dict_keys(['k', 'indices', 'file', 'id', 'model_name', 'patch_size', 'shape'])\n",
      "0244_resized\n"
     ]
    },
    {
     "name": "stderr",
     "output_type": "stream",
     "text": [
      "/home/phdcs2/Hard_Disk/Projects/T2I/deep-spectral-segmentation/venv/lib/python3.8/site-packages/sklearn/decomposition/_pca.py:642: RuntimeWarning: invalid value encountered in divide\n",
      "  self.explained_variance_ratio_ = self.explained_variance_ / total_var\n"
     ]
    },
    {
     "name": "stdout",
     "output_type": "stream",
     "text": [
      "Starting Training\n",
      "epoch: 00, loss: -0.92148\n",
      "epoch: 01, loss: -0.95197\n",
      "epoch: 02, loss: -0.95877\n",
      "epoch: 03, loss: -0.96274\n",
      "epoch: 04, loss: -0.96546\n",
      "epoch: 05, loss: -0.96752\n",
      "epoch: 06, loss: -0.96912\n",
      "epoch: 07, loss: -0.97044\n",
      "epoch: 08, loss: -0.97157\n",
      "epoch: 09, loss: -0.97251\n",
      "torch.Size([1024, 64])\n"
     ]
    },
    {
     "name": "stderr",
     "output_type": "stream",
     "text": [
      " 24%|██▍       | 243/999 [5:01:17<15:40:44, 74.66s/it]"
     ]
    },
    {
     "name": "stdout",
     "output_type": "stream",
     "text": [
      "eigenvalues shape torch.Size([5]) eigenvectors shape torch.Size([5, 1024])\n",
      "243 /home/phdcs2/Hard_Disk/Datasets/Deep-Spectral-Segmentation/data/object-segmentation/ECSSD/features/0245_resized.pth\n",
      "dict_keys(['k', 'indices', 'file', 'id', 'model_name', 'patch_size', 'shape'])\n",
      "0245_resized\n",
      "Starting Training\n",
      "epoch: 00, loss: -0.93421\n",
      "epoch: 01, loss: -0.95998\n",
      "epoch: 02, loss: -0.96591\n",
      "epoch: 03, loss: -0.96933\n",
      "epoch: 04, loss: -0.97168\n",
      "epoch: 05, loss: -0.97345\n",
      "epoch: 06, loss: -0.97485\n",
      "epoch: 07, loss: -0.97597\n",
      "epoch: 08, loss: -0.97693\n",
      "epoch: 09, loss: -0.97773\n",
      "torch.Size([1024, 64])\n"
     ]
    },
    {
     "name": "stderr",
     "output_type": "stream",
     "text": [
      " 24%|██▍       | 244/999 [5:02:39<16:08:04, 76.93s/it]"
     ]
    },
    {
     "name": "stdout",
     "output_type": "stream",
     "text": [
      "eigenvalues shape torch.Size([5]) eigenvectors shape torch.Size([5, 1024])\n",
      "244 /home/phdcs2/Hard_Disk/Datasets/Deep-Spectral-Segmentation/data/object-segmentation/ECSSD/features/0246_resized.pth\n",
      "dict_keys(['k', 'indices', 'file', 'id', 'model_name', 'patch_size', 'shape'])\n",
      "0246_resized\n",
      "Starting Training\n",
      "epoch: 00, loss: -0.84981\n",
      "epoch: 01, loss: -0.91066\n",
      "epoch: 02, loss: -0.92612\n",
      "epoch: 03, loss: -0.93497\n",
      "epoch: 04, loss: -0.94109\n",
      "epoch: 05, loss: -0.94556\n",
      "epoch: 06, loss: -0.94896\n",
      "epoch: 07, loss: -0.95178\n",
      "epoch: 08, loss: -0.95392\n",
      "epoch: 09, loss: -0.95587\n",
      "torch.Size([1024, 64])\n"
     ]
    },
    {
     "name": "stderr",
     "output_type": "stream",
     "text": [
      " 25%|██▍       | 245/999 [5:03:54<15:59:13, 76.33s/it]"
     ]
    },
    {
     "name": "stdout",
     "output_type": "stream",
     "text": [
      "eigenvalues shape torch.Size([5]) eigenvectors shape torch.Size([5, 1024])\n",
      "245 /home/phdcs2/Hard_Disk/Datasets/Deep-Spectral-Segmentation/data/object-segmentation/ECSSD/features/0247_resized.pth\n",
      "dict_keys(['k', 'indices', 'file', 'id', 'model_name', 'patch_size', 'shape'])\n",
      "0247_resized\n",
      "Starting Training\n",
      "epoch: 00, loss: -0.88728\n",
      "epoch: 01, loss: -0.93344\n",
      "epoch: 02, loss: -0.94498\n",
      "epoch: 03, loss: -0.95153\n",
      "epoch: 04, loss: -0.95579\n",
      "epoch: 05, loss: -0.95898\n",
      "epoch: 06, loss: -0.96154\n",
      "epoch: 07, loss: -0.96357\n",
      "epoch: 08, loss: -0.96531\n",
      "epoch: 09, loss: -0.96678\n",
      "torch.Size([1024, 64])\n"
     ]
    },
    {
     "name": "stderr",
     "output_type": "stream",
     "text": [
      " 25%|██▍       | 246/999 [5:05:18<16:27:14, 78.67s/it]"
     ]
    },
    {
     "name": "stdout",
     "output_type": "stream",
     "text": [
      "eigenvalues shape torch.Size([5]) eigenvectors shape torch.Size([5, 1024])\n",
      "246 /home/phdcs2/Hard_Disk/Datasets/Deep-Spectral-Segmentation/data/object-segmentation/ECSSD/features/0248_resized.pth\n",
      "dict_keys(['k', 'indices', 'file', 'id', 'model_name', 'patch_size', 'shape'])\n",
      "0248_resized\n",
      "Starting Training\n",
      "epoch: 00, loss: -0.91403\n",
      "epoch: 01, loss: -0.94943\n",
      "epoch: 02, loss: -0.95748\n",
      "epoch: 03, loss: -0.96206\n",
      "epoch: 04, loss: -0.96526\n",
      "epoch: 05, loss: -0.96756\n",
      "epoch: 06, loss: -0.96940\n",
      "epoch: 07, loss: -0.97090\n",
      "epoch: 08, loss: -0.97213\n",
      "epoch: 09, loss: -0.97321\n",
      "torch.Size([1024, 64])\n"
     ]
    },
    {
     "name": "stderr",
     "output_type": "stream",
     "text": [
      " 25%|██▍       | 247/999 [5:06:31<16:03:56, 76.91s/it]"
     ]
    },
    {
     "name": "stdout",
     "output_type": "stream",
     "text": [
      "eigenvalues shape torch.Size([5]) eigenvectors shape torch.Size([5, 1024])\n",
      "247 /home/phdcs2/Hard_Disk/Datasets/Deep-Spectral-Segmentation/data/object-segmentation/ECSSD/features/0249_resized.pth\n",
      "dict_keys(['k', 'indices', 'file', 'id', 'model_name', 'patch_size', 'shape'])\n",
      "0249_resized\n",
      "Starting Training\n",
      "epoch: 00, loss: -0.87009\n",
      "epoch: 01, loss: -0.92424\n",
      "epoch: 02, loss: -0.93710\n",
      "epoch: 03, loss: -0.94446\n",
      "epoch: 04, loss: -0.94962\n",
      "epoch: 05, loss: -0.95343\n",
      "epoch: 06, loss: -0.95635\n",
      "epoch: 07, loss: -0.95859\n",
      "epoch: 08, loss: -0.96060\n",
      "epoch: 09, loss: -0.96217\n",
      "torch.Size([1024, 64])\n"
     ]
    },
    {
     "name": "stderr",
     "output_type": "stream",
     "text": [
      " 25%|██▍       | 248/999 [5:07:56<16:31:39, 79.23s/it]"
     ]
    },
    {
     "name": "stdout",
     "output_type": "stream",
     "text": [
      "eigenvalues shape torch.Size([5]) eigenvectors shape torch.Size([5, 1024])\n",
      "248 /home/phdcs2/Hard_Disk/Datasets/Deep-Spectral-Segmentation/data/object-segmentation/ECSSD/features/0250_resized.pth\n",
      "dict_keys(['k', 'indices', 'file', 'id', 'model_name', 'patch_size', 'shape'])\n",
      "0250_resized\n",
      "Starting Training\n",
      "epoch: 00, loss: -0.87360\n",
      "epoch: 01, loss: -0.92884\n",
      "epoch: 02, loss: -0.94166\n",
      "epoch: 03, loss: -0.94901\n",
      "epoch: 04, loss: -0.95400\n",
      "epoch: 05, loss: -0.95741\n",
      "epoch: 06, loss: -0.96012\n",
      "epoch: 07, loss: -0.96230\n",
      "epoch: 08, loss: -0.96410\n",
      "epoch: 09, loss: -0.96563\n",
      "torch.Size([1024, 64])\n"
     ]
    },
    {
     "name": "stderr",
     "output_type": "stream",
     "text": [
      " 25%|██▍       | 249/999 [5:09:16<16:32:01, 79.36s/it]"
     ]
    },
    {
     "name": "stdout",
     "output_type": "stream",
     "text": [
      "eigenvalues shape torch.Size([5]) eigenvectors shape torch.Size([5, 1024])\n",
      "249 /home/phdcs2/Hard_Disk/Datasets/Deep-Spectral-Segmentation/data/object-segmentation/ECSSD/features/0251_resized.pth\n",
      "dict_keys(['k', 'indices', 'file', 'id', 'model_name', 'patch_size', 'shape'])\n",
      "0251_resized\n"
     ]
    },
    {
     "name": "stderr",
     "output_type": "stream",
     "text": [
      "/home/phdcs2/Hard_Disk/Projects/T2I/deep-spectral-segmentation/venv/lib/python3.8/site-packages/sklearn/decomposition/_pca.py:642: RuntimeWarning: invalid value encountered in divide\n",
      "  self.explained_variance_ratio_ = self.explained_variance_ / total_var\n"
     ]
    },
    {
     "name": "stdout",
     "output_type": "stream",
     "text": [
      "Starting Training\n",
      "epoch: 00, loss: -0.92095\n",
      "epoch: 01, loss: -0.95121\n",
      "epoch: 02, loss: -0.95857\n",
      "epoch: 03, loss: -0.96283\n",
      "epoch: 04, loss: -0.96576\n",
      "epoch: 05, loss: -0.96795\n",
      "epoch: 06, loss: -0.96969\n",
      "epoch: 07, loss: -0.97109\n",
      "epoch: 08, loss: -0.97229\n",
      "epoch: 09, loss: -0.97329\n",
      "torch.Size([1024, 64])\n"
     ]
    },
    {
     "name": "stderr",
     "output_type": "stream",
     "text": [
      " 25%|██▌       | 250/999 [5:10:33<16:22:00, 78.67s/it]"
     ]
    },
    {
     "name": "stdout",
     "output_type": "stream",
     "text": [
      "eigenvalues shape torch.Size([5]) eigenvectors shape torch.Size([5, 1024])\n",
      "250 /home/phdcs2/Hard_Disk/Datasets/Deep-Spectral-Segmentation/data/object-segmentation/ECSSD/features/0252_resized.pth\n",
      "dict_keys(['k', 'indices', 'file', 'id', 'model_name', 'patch_size', 'shape'])\n",
      "0252_resized\n"
     ]
    },
    {
     "name": "stderr",
     "output_type": "stream",
     "text": [
      "/home/phdcs2/Hard_Disk/Projects/T2I/deep-spectral-segmentation/venv/lib/python3.8/site-packages/sklearn/decomposition/_pca.py:642: RuntimeWarning: invalid value encountered in divide\n",
      "  self.explained_variance_ratio_ = self.explained_variance_ / total_var\n"
     ]
    },
    {
     "name": "stdout",
     "output_type": "stream",
     "text": [
      "Starting Training\n",
      "epoch: 00, loss: -0.92409\n",
      "epoch: 01, loss: -0.95479\n",
      "epoch: 02, loss: -0.96123\n",
      "epoch: 03, loss: -0.96505\n",
      "epoch: 04, loss: -0.96770\n",
      "epoch: 05, loss: -0.96971\n",
      "epoch: 06, loss: -0.97128\n",
      "epoch: 07, loss: -0.97258\n",
      "epoch: 08, loss: -0.97367\n",
      "epoch: 09, loss: -0.97461\n",
      "torch.Size([1024, 64])\n"
     ]
    },
    {
     "name": "stderr",
     "output_type": "stream",
     "text": [
      " 25%|██▌       | 251/999 [5:11:41<15:43:55, 75.72s/it]"
     ]
    },
    {
     "name": "stdout",
     "output_type": "stream",
     "text": [
      "eigenvalues shape torch.Size([5]) eigenvectors shape torch.Size([5, 1024])\n",
      "251 /home/phdcs2/Hard_Disk/Datasets/Deep-Spectral-Segmentation/data/object-segmentation/ECSSD/features/0253_resized.pth\n",
      "dict_keys(['k', 'indices', 'file', 'id', 'model_name', 'patch_size', 'shape'])\n",
      "0253_resized\n",
      "Starting Training\n",
      "epoch: 00, loss: -0.87817\n",
      "epoch: 01, loss: -0.92732\n",
      "epoch: 02, loss: -0.93958\n",
      "epoch: 03, loss: -0.94674\n",
      "epoch: 04, loss: -0.95142\n",
      "epoch: 05, loss: -0.95484\n",
      "epoch: 06, loss: -0.95751\n",
      "epoch: 07, loss: -0.95978\n",
      "epoch: 08, loss: -0.96161\n",
      "epoch: 09, loss: -0.96314\n",
      "torch.Size([1024, 64])\n"
     ]
    },
    {
     "name": "stderr",
     "output_type": "stream",
     "text": [
      " 25%|██▌       | 252/999 [5:12:51<15:19:47, 73.88s/it]"
     ]
    },
    {
     "name": "stdout",
     "output_type": "stream",
     "text": [
      "eigenvalues shape torch.Size([5]) eigenvectors shape torch.Size([5, 1024])\n",
      "252 /home/phdcs2/Hard_Disk/Datasets/Deep-Spectral-Segmentation/data/object-segmentation/ECSSD/features/0254_resized.pth\n",
      "dict_keys(['k', 'indices', 'file', 'id', 'model_name', 'patch_size', 'shape'])\n",
      "0254_resized\n",
      "Starting Training\n",
      "epoch: 00, loss: -0.86873\n",
      "epoch: 01, loss: -0.91990\n",
      "epoch: 02, loss: -0.93405\n",
      "epoch: 03, loss: -0.94227\n",
      "epoch: 04, loss: -0.94785\n",
      "epoch: 05, loss: -0.95193\n",
      "epoch: 06, loss: -0.95507\n",
      "epoch: 07, loss: -0.95755\n",
      "epoch: 08, loss: -0.95967\n",
      "epoch: 09, loss: -0.96147\n",
      "torch.Size([1024, 64])\n"
     ]
    },
    {
     "name": "stderr",
     "output_type": "stream",
     "text": [
      " 25%|██▌       | 253/999 [5:14:10<15:36:50, 75.35s/it]"
     ]
    },
    {
     "name": "stdout",
     "output_type": "stream",
     "text": [
      "eigenvalues shape torch.Size([5]) eigenvectors shape torch.Size([5, 1024])\n",
      "253 /home/phdcs2/Hard_Disk/Datasets/Deep-Spectral-Segmentation/data/object-segmentation/ECSSD/features/0255_resized.pth\n",
      "dict_keys(['k', 'indices', 'file', 'id', 'model_name', 'patch_size', 'shape'])\n",
      "0255_resized\n",
      "Starting Training\n",
      "epoch: 00, loss: -0.93936\n",
      "epoch: 01, loss: -0.96354\n",
      "epoch: 02, loss: -0.96877\n",
      "epoch: 03, loss: -0.97184\n",
      "epoch: 04, loss: -0.97396\n",
      "epoch: 05, loss: -0.97554\n",
      "epoch: 06, loss: -0.97681\n",
      "epoch: 07, loss: -0.97783\n",
      "epoch: 08, loss: -0.97870\n",
      "epoch: 09, loss: -0.97942\n",
      "torch.Size([1024, 64])\n"
     ]
    },
    {
     "name": "stderr",
     "output_type": "stream",
     "text": [
      " 25%|██▌       | 254/999 [5:15:28<15:47:22, 76.30s/it]"
     ]
    },
    {
     "name": "stdout",
     "output_type": "stream",
     "text": [
      "eigenvalues shape torch.Size([5]) eigenvectors shape torch.Size([5, 1024])\n",
      "254 /home/phdcs2/Hard_Disk/Datasets/Deep-Spectral-Segmentation/data/object-segmentation/ECSSD/features/0256_resized.pth\n",
      "dict_keys(['k', 'indices', 'file', 'id', 'model_name', 'patch_size', 'shape'])\n",
      "0256_resized\n",
      "Starting Training\n",
      "epoch: 00, loss: -0.87356\n",
      "epoch: 01, loss: -0.92573\n",
      "epoch: 02, loss: -0.93905\n",
      "epoch: 03, loss: -0.94663\n",
      "epoch: 04, loss: -0.95149\n",
      "epoch: 05, loss: -0.95538\n",
      "epoch: 06, loss: -0.95825\n",
      "epoch: 07, loss: -0.96054\n",
      "epoch: 08, loss: -0.96242\n",
      "epoch: 09, loss: -0.96405\n",
      "torch.Size([1024, 64])\n"
     ]
    },
    {
     "name": "stderr",
     "output_type": "stream",
     "text": [
      " 26%|██▌       | 255/999 [5:16:41<15:31:16, 75.10s/it]"
     ]
    },
    {
     "name": "stdout",
     "output_type": "stream",
     "text": [
      "eigenvalues shape torch.Size([5]) eigenvectors shape torch.Size([5, 1024])\n",
      "255 /home/phdcs2/Hard_Disk/Datasets/Deep-Spectral-Segmentation/data/object-segmentation/ECSSD/features/0257_resized.pth\n",
      "dict_keys(['k', 'indices', 'file', 'id', 'model_name', 'patch_size', 'shape'])\n",
      "0257_resized\n"
     ]
    },
    {
     "name": "stderr",
     "output_type": "stream",
     "text": [
      "/home/phdcs2/Hard_Disk/Projects/T2I/deep-spectral-segmentation/venv/lib/python3.8/site-packages/sklearn/decomposition/_pca.py:642: RuntimeWarning: invalid value encountered in divide\n",
      "  self.explained_variance_ratio_ = self.explained_variance_ / total_var\n"
     ]
    },
    {
     "name": "stdout",
     "output_type": "stream",
     "text": [
      "Starting Training\n",
      "epoch: 00, loss: -0.93019\n",
      "epoch: 01, loss: -0.95798\n",
      "epoch: 02, loss: -0.96408\n",
      "epoch: 03, loss: -0.96769\n",
      "epoch: 04, loss: -0.97018\n",
      "epoch: 05, loss: -0.97204\n",
      "epoch: 06, loss: -0.97353\n",
      "epoch: 07, loss: -0.97475\n",
      "epoch: 08, loss: -0.97573\n",
      "epoch: 09, loss: -0.97661\n",
      "torch.Size([1024, 64])\n"
     ]
    },
    {
     "name": "stderr",
     "output_type": "stream",
     "text": [
      " 26%|██▌       | 256/999 [5:17:49<15:06:11, 73.18s/it]"
     ]
    },
    {
     "name": "stdout",
     "output_type": "stream",
     "text": [
      "eigenvalues shape torch.Size([5]) eigenvectors shape torch.Size([5, 1024])\n",
      "256 /home/phdcs2/Hard_Disk/Datasets/Deep-Spectral-Segmentation/data/object-segmentation/ECSSD/features/0258_resized.pth\n",
      "dict_keys(['k', 'indices', 'file', 'id', 'model_name', 'patch_size', 'shape'])\n",
      "0258_resized\n"
     ]
    },
    {
     "name": "stderr",
     "output_type": "stream",
     "text": [
      "/home/phdcs2/Hard_Disk/Projects/T2I/deep-spectral-segmentation/venv/lib/python3.8/site-packages/sklearn/decomposition/_pca.py:642: RuntimeWarning: invalid value encountered in divide\n",
      "  self.explained_variance_ratio_ = self.explained_variance_ / total_var\n"
     ]
    },
    {
     "name": "stdout",
     "output_type": "stream",
     "text": [
      "Starting Training\n",
      "epoch: 00, loss: -0.92723\n",
      "epoch: 01, loss: -0.95558\n",
      "epoch: 02, loss: -0.96272\n",
      "epoch: 03, loss: -0.96689\n",
      "epoch: 04, loss: -0.96966\n",
      "epoch: 05, loss: -0.97173\n",
      "epoch: 06, loss: -0.97335\n",
      "epoch: 07, loss: -0.97465\n",
      "epoch: 08, loss: -0.97577\n",
      "epoch: 09, loss: -0.97669\n",
      "torch.Size([1024, 64])\n"
     ]
    },
    {
     "name": "stderr",
     "output_type": "stream",
     "text": [
      " 26%|██▌       | 257/999 [5:18:59<14:52:15, 72.15s/it]"
     ]
    },
    {
     "name": "stdout",
     "output_type": "stream",
     "text": [
      "eigenvalues shape torch.Size([5]) eigenvectors shape torch.Size([5, 1024])\n",
      "257 /home/phdcs2/Hard_Disk/Datasets/Deep-Spectral-Segmentation/data/object-segmentation/ECSSD/features/0259_resized.pth\n",
      "dict_keys(['k', 'indices', 'file', 'id', 'model_name', 'patch_size', 'shape'])\n",
      "0259_resized\n",
      "Starting Training\n",
      "epoch: 00, loss: -0.93208\n",
      "epoch: 01, loss: -0.95831\n",
      "epoch: 02, loss: -0.96449\n",
      "epoch: 03, loss: -0.96810\n",
      "epoch: 04, loss: -0.97058\n",
      "epoch: 05, loss: -0.97246\n",
      "epoch: 06, loss: -0.97397\n",
      "epoch: 07, loss: -0.97517\n",
      "epoch: 08, loss: -0.97619\n",
      "epoch: 09, loss: -0.97709\n",
      "torch.Size([1024, 64])\n"
     ]
    },
    {
     "name": "stderr",
     "output_type": "stream",
     "text": [
      " 26%|██▌       | 258/999 [5:20:12<14:53:03, 72.31s/it]"
     ]
    },
    {
     "name": "stdout",
     "output_type": "stream",
     "text": [
      "eigenvalues shape torch.Size([5]) eigenvectors shape torch.Size([5, 1024])\n",
      "258 /home/phdcs2/Hard_Disk/Datasets/Deep-Spectral-Segmentation/data/object-segmentation/ECSSD/features/0260_resized.pth\n",
      "dict_keys(['k', 'indices', 'file', 'id', 'model_name', 'patch_size', 'shape'])\n",
      "0260_resized\n"
     ]
    },
    {
     "name": "stderr",
     "output_type": "stream",
     "text": [
      "/home/phdcs2/Hard_Disk/Projects/T2I/deep-spectral-segmentation/venv/lib/python3.8/site-packages/sklearn/decomposition/_pca.py:642: RuntimeWarning: invalid value encountered in divide\n",
      "  self.explained_variance_ratio_ = self.explained_variance_ / total_var\n"
     ]
    },
    {
     "name": "stdout",
     "output_type": "stream",
     "text": [
      "Starting Training\n",
      "epoch: 00, loss: -0.93236\n",
      "epoch: 01, loss: -0.95873\n",
      "epoch: 02, loss: -0.96469\n",
      "epoch: 03, loss: -0.96822\n",
      "epoch: 04, loss: -0.97065\n",
      "epoch: 05, loss: -0.97250\n",
      "epoch: 06, loss: -0.97395\n",
      "epoch: 07, loss: -0.97514\n",
      "epoch: 08, loss: -0.97614\n",
      "epoch: 09, loss: -0.97702\n",
      "torch.Size([1024, 64])\n"
     ]
    },
    {
     "name": "stderr",
     "output_type": "stream",
     "text": [
      " 26%|██▌       | 259/999 [5:21:20<14:37:30, 71.15s/it]"
     ]
    },
    {
     "name": "stdout",
     "output_type": "stream",
     "text": [
      "eigenvalues shape torch.Size([5]) eigenvectors shape torch.Size([5, 1024])\n",
      "259 /home/phdcs2/Hard_Disk/Datasets/Deep-Spectral-Segmentation/data/object-segmentation/ECSSD/features/0261_resized.pth\n",
      "dict_keys(['k', 'indices', 'file', 'id', 'model_name', 'patch_size', 'shape'])\n",
      "0261_resized\n"
     ]
    },
    {
     "name": "stderr",
     "output_type": "stream",
     "text": [
      "/home/phdcs2/Hard_Disk/Projects/T2I/deep-spectral-segmentation/venv/lib/python3.8/site-packages/sklearn/decomposition/_pca.py:642: RuntimeWarning: invalid value encountered in divide\n",
      "  self.explained_variance_ratio_ = self.explained_variance_ / total_var\n"
     ]
    },
    {
     "name": "stdout",
     "output_type": "stream",
     "text": [
      "Starting Training\n",
      "epoch: 00, loss: -0.91930\n",
      "epoch: 01, loss: -0.95098\n",
      "epoch: 02, loss: -0.95854\n",
      "epoch: 03, loss: -0.96295\n",
      "epoch: 04, loss: -0.96597\n",
      "epoch: 05, loss: -0.96822\n",
      "epoch: 06, loss: -0.96997\n",
      "epoch: 07, loss: -0.97142\n",
      "epoch: 08, loss: -0.97261\n",
      "epoch: 09, loss: -0.97366\n",
      "torch.Size([1024, 64])\n"
     ]
    },
    {
     "name": "stderr",
     "output_type": "stream",
     "text": [
      " 26%|██▌       | 260/999 [5:22:36<14:54:42, 72.64s/it]"
     ]
    },
    {
     "name": "stdout",
     "output_type": "stream",
     "text": [
      "eigenvalues shape torch.Size([5]) eigenvectors shape torch.Size([5, 1024])\n",
      "260 /home/phdcs2/Hard_Disk/Datasets/Deep-Spectral-Segmentation/data/object-segmentation/ECSSD/features/0262_resized.pth\n",
      "dict_keys(['k', 'indices', 'file', 'id', 'model_name', 'patch_size', 'shape'])\n",
      "0262_resized\n",
      "Starting Training\n",
      "epoch: 00, loss: -0.86100\n",
      "epoch: 01, loss: -0.92030\n",
      "epoch: 02, loss: -0.93431\n",
      "epoch: 03, loss: -0.94228\n",
      "epoch: 04, loss: -0.94748\n",
      "epoch: 05, loss: -0.95133\n",
      "epoch: 06, loss: -0.95431\n",
      "epoch: 07, loss: -0.95681\n",
      "epoch: 08, loss: -0.95884\n",
      "epoch: 09, loss: -0.96059\n",
      "torch.Size([1024, 64])\n"
     ]
    },
    {
     "name": "stderr",
     "output_type": "stream",
     "text": [
      " 26%|██▌       | 261/999 [5:23:56<15:18:31, 74.68s/it]"
     ]
    },
    {
     "name": "stdout",
     "output_type": "stream",
     "text": [
      "eigenvalues shape torch.Size([5]) eigenvectors shape torch.Size([5, 1024])\n",
      "261 /home/phdcs2/Hard_Disk/Datasets/Deep-Spectral-Segmentation/data/object-segmentation/ECSSD/features/0263_resized.pth\n",
      "dict_keys(['k', 'indices', 'file', 'id', 'model_name', 'patch_size', 'shape'])\n",
      "0263_resized\n"
     ]
    },
    {
     "name": "stderr",
     "output_type": "stream",
     "text": [
      "/home/phdcs2/Hard_Disk/Projects/T2I/deep-spectral-segmentation/venv/lib/python3.8/site-packages/sklearn/decomposition/_pca.py:642: RuntimeWarning: invalid value encountered in divide\n",
      "  self.explained_variance_ratio_ = self.explained_variance_ / total_var\n"
     ]
    },
    {
     "name": "stdout",
     "output_type": "stream",
     "text": [
      "Starting Training\n",
      "epoch: 00, loss: -0.92350\n",
      "epoch: 01, loss: -0.95414\n",
      "epoch: 02, loss: -0.96123\n",
      "epoch: 03, loss: -0.96539\n",
      "epoch: 04, loss: -0.96825\n",
      "epoch: 05, loss: -0.97039\n",
      "epoch: 06, loss: -0.97210\n",
      "epoch: 07, loss: -0.97346\n",
      "epoch: 08, loss: -0.97461\n",
      "epoch: 09, loss: -0.97560\n",
      "torch.Size([1024, 64])\n"
     ]
    },
    {
     "name": "stderr",
     "output_type": "stream",
     "text": [
      " 26%|██▌       | 262/999 [5:25:21<15:58:08, 78.00s/it]"
     ]
    },
    {
     "name": "stdout",
     "output_type": "stream",
     "text": [
      "eigenvalues shape torch.Size([5]) eigenvectors shape torch.Size([5, 1024])\n",
      "262 /home/phdcs2/Hard_Disk/Datasets/Deep-Spectral-Segmentation/data/object-segmentation/ECSSD/features/0264_resized.pth\n",
      "dict_keys(['k', 'indices', 'file', 'id', 'model_name', 'patch_size', 'shape'])\n",
      "0264_resized\n",
      "Starting Training\n",
      "epoch: 00, loss: -0.86922\n",
      "epoch: 01, loss: -0.92344\n",
      "epoch: 02, loss: -0.93695\n",
      "epoch: 03, loss: -0.94453\n",
      "epoch: 04, loss: -0.94976\n",
      "epoch: 05, loss: -0.95360\n",
      "epoch: 06, loss: -0.95655\n",
      "epoch: 07, loss: -0.95887\n",
      "epoch: 08, loss: -0.96090\n",
      "epoch: 09, loss: -0.96253\n",
      "torch.Size([1024, 64])\n"
     ]
    },
    {
     "name": "stderr",
     "output_type": "stream",
     "text": [
      " 26%|██▋       | 263/999 [5:26:44<16:14:50, 79.47s/it]"
     ]
    },
    {
     "name": "stdout",
     "output_type": "stream",
     "text": [
      "eigenvalues shape torch.Size([5]) eigenvectors shape torch.Size([5, 1024])\n",
      "263 /home/phdcs2/Hard_Disk/Datasets/Deep-Spectral-Segmentation/data/object-segmentation/ECSSD/features/0265_resized.pth\n",
      "dict_keys(['k', 'indices', 'file', 'id', 'model_name', 'patch_size', 'shape'])\n",
      "0265_resized\n"
     ]
    },
    {
     "name": "stderr",
     "output_type": "stream",
     "text": [
      "/home/phdcs2/Hard_Disk/Projects/T2I/deep-spectral-segmentation/venv/lib/python3.8/site-packages/sklearn/decomposition/_pca.py:642: RuntimeWarning: invalid value encountered in divide\n",
      "  self.explained_variance_ratio_ = self.explained_variance_ / total_var\n"
     ]
    },
    {
     "name": "stdout",
     "output_type": "stream",
     "text": [
      "Starting Training\n",
      "epoch: 00, loss: -0.92314\n",
      "epoch: 01, loss: -0.95419\n",
      "epoch: 02, loss: -0.96112\n",
      "epoch: 03, loss: -0.96508\n",
      "epoch: 04, loss: -0.96784\n",
      "epoch: 05, loss: -0.96991\n",
      "epoch: 06, loss: -0.97150\n",
      "epoch: 07, loss: -0.97282\n",
      "epoch: 08, loss: -0.97390\n",
      "epoch: 09, loss: -0.97486\n",
      "torch.Size([1024, 64])\n"
     ]
    },
    {
     "name": "stderr",
     "output_type": "stream",
     "text": [
      " 26%|██▋       | 264/999 [5:28:05<16:16:14, 79.69s/it]"
     ]
    },
    {
     "name": "stdout",
     "output_type": "stream",
     "text": [
      "eigenvalues shape torch.Size([5]) eigenvectors shape torch.Size([5, 1024])\n",
      "264 /home/phdcs2/Hard_Disk/Datasets/Deep-Spectral-Segmentation/data/object-segmentation/ECSSD/features/0266_resized.pth\n",
      "dict_keys(['k', 'indices', 'file', 'id', 'model_name', 'patch_size', 'shape'])\n",
      "0266_resized\n",
      "Starting Training\n",
      "epoch: 00, loss: -0.86067\n",
      "epoch: 01, loss: -0.91262\n",
      "epoch: 02, loss: -0.92746\n",
      "epoch: 03, loss: -0.93583\n",
      "epoch: 04, loss: -0.94156\n",
      "epoch: 05, loss: -0.94588\n",
      "epoch: 06, loss: -0.94933\n",
      "epoch: 07, loss: -0.95209\n",
      "epoch: 08, loss: -0.95432\n",
      "epoch: 09, loss: -0.95621\n",
      "torch.Size([1024, 64])\n"
     ]
    },
    {
     "name": "stderr",
     "output_type": "stream",
     "text": [
      " 27%|██▋       | 265/999 [5:29:28<16:29:38, 80.90s/it]"
     ]
    },
    {
     "name": "stdout",
     "output_type": "stream",
     "text": [
      "eigenvalues shape torch.Size([5]) eigenvectors shape torch.Size([5, 1024])\n",
      "265 /home/phdcs2/Hard_Disk/Datasets/Deep-Spectral-Segmentation/data/object-segmentation/ECSSD/features/0267_resized.pth\n",
      "dict_keys(['k', 'indices', 'file', 'id', 'model_name', 'patch_size', 'shape'])\n",
      "0267_resized\n"
     ]
    },
    {
     "name": "stderr",
     "output_type": "stream",
     "text": [
      "/home/phdcs2/Hard_Disk/Projects/T2I/deep-spectral-segmentation/venv/lib/python3.8/site-packages/sklearn/decomposition/_pca.py:642: RuntimeWarning: invalid value encountered in divide\n",
      "  self.explained_variance_ratio_ = self.explained_variance_ / total_var\n"
     ]
    },
    {
     "name": "stdout",
     "output_type": "stream",
     "text": [
      "Starting Training\n",
      "epoch: 00, loss: -0.92476\n",
      "epoch: 01, loss: -0.95563\n",
      "epoch: 02, loss: -0.96206\n",
      "epoch: 03, loss: -0.96583\n",
      "epoch: 04, loss: -0.96845\n",
      "epoch: 05, loss: -0.97041\n",
      "epoch: 06, loss: -0.97192\n",
      "epoch: 07, loss: -0.97321\n",
      "epoch: 08, loss: -0.97427\n",
      "epoch: 09, loss: -0.97518\n",
      "torch.Size([1024, 64])\n"
     ]
    },
    {
     "name": "stderr",
     "output_type": "stream",
     "text": [
      " 27%|██▋       | 266/999 [5:30:53<16:43:24, 82.13s/it]"
     ]
    },
    {
     "name": "stdout",
     "output_type": "stream",
     "text": [
      "eigenvalues shape torch.Size([5]) eigenvectors shape torch.Size([5, 1024])\n",
      "266 /home/phdcs2/Hard_Disk/Datasets/Deep-Spectral-Segmentation/data/object-segmentation/ECSSD/features/0268_resized.pth\n",
      "dict_keys(['k', 'indices', 'file', 'id', 'model_name', 'patch_size', 'shape'])\n",
      "0268_resized\n",
      "Starting Training\n",
      "epoch: 00, loss: -0.87192\n",
      "epoch: 01, loss: -0.92484\n",
      "epoch: 02, loss: -0.93760\n",
      "epoch: 03, loss: -0.94461\n",
      "epoch: 04, loss: -0.94948\n",
      "epoch: 05, loss: -0.95307\n",
      "epoch: 06, loss: -0.95585\n",
      "epoch: 07, loss: -0.95801\n",
      "epoch: 08, loss: -0.95988\n",
      "epoch: 09, loss: -0.96140\n",
      "torch.Size([1024, 64])\n"
     ]
    },
    {
     "name": "stderr",
     "output_type": "stream",
     "text": [
      " 27%|██▋       | 267/999 [5:32:17<16:48:52, 82.69s/it]"
     ]
    },
    {
     "name": "stdout",
     "output_type": "stream",
     "text": [
      "eigenvalues shape torch.Size([5]) eigenvectors shape torch.Size([5, 1024])\n",
      "267 /home/phdcs2/Hard_Disk/Datasets/Deep-Spectral-Segmentation/data/object-segmentation/ECSSD/features/0269_resized.pth\n",
      "dict_keys(['k', 'indices', 'file', 'id', 'model_name', 'patch_size', 'shape'])\n",
      "0269_resized\n",
      "Starting Training\n",
      "epoch: 00, loss: -0.88748\n",
      "epoch: 01, loss: -0.93400\n",
      "epoch: 02, loss: -0.94530\n",
      "epoch: 03, loss: -0.95179\n",
      "epoch: 04, loss: -0.95606\n",
      "epoch: 05, loss: -0.95927\n",
      "epoch: 06, loss: -0.96174\n",
      "epoch: 07, loss: -0.96374\n",
      "epoch: 08, loss: -0.96544\n",
      "epoch: 09, loss: -0.96681\n",
      "torch.Size([1024, 64])\n"
     ]
    },
    {
     "name": "stderr",
     "output_type": "stream",
     "text": [
      " 27%|██▋       | 268/999 [5:33:44<17:03:09, 83.98s/it]"
     ]
    },
    {
     "name": "stdout",
     "output_type": "stream",
     "text": [
      "eigenvalues shape torch.Size([5]) eigenvectors shape torch.Size([5, 1024])\n",
      "268 /home/phdcs2/Hard_Disk/Datasets/Deep-Spectral-Segmentation/data/object-segmentation/ECSSD/features/0270_resized.pth\n",
      "dict_keys(['k', 'indices', 'file', 'id', 'model_name', 'patch_size', 'shape'])\n",
      "0270_resized\n",
      "Starting Training\n",
      "epoch: 00, loss: -0.88210\n",
      "epoch: 01, loss: -0.93027\n",
      "epoch: 02, loss: -0.94225\n",
      "epoch: 03, loss: -0.94900\n",
      "epoch: 04, loss: -0.95361\n",
      "epoch: 05, loss: -0.95711\n",
      "epoch: 06, loss: -0.95981\n",
      "epoch: 07, loss: -0.96199\n",
      "epoch: 08, loss: -0.96370\n",
      "epoch: 09, loss: -0.96523\n",
      "torch.Size([1024, 64])\n"
     ]
    },
    {
     "name": "stderr",
     "output_type": "stream",
     "text": [
      " 27%|██▋       | 269/999 [5:35:04<16:47:40, 82.82s/it]"
     ]
    },
    {
     "name": "stdout",
     "output_type": "stream",
     "text": [
      "eigenvalues shape torch.Size([5]) eigenvectors shape torch.Size([5, 1024])\n",
      "269 /home/phdcs2/Hard_Disk/Datasets/Deep-Spectral-Segmentation/data/object-segmentation/ECSSD/features/0271_resized.pth\n",
      "dict_keys(['k', 'indices', 'file', 'id', 'model_name', 'patch_size', 'shape'])\n",
      "0271_resized\n",
      "Starting Training\n",
      "epoch: 00, loss: -0.90326\n",
      "epoch: 01, loss: -0.94277\n",
      "epoch: 02, loss: -0.95224\n",
      "epoch: 03, loss: -0.95755\n",
      "epoch: 04, loss: -0.96127\n",
      "epoch: 05, loss: -0.96403\n",
      "epoch: 06, loss: -0.96611\n",
      "epoch: 07, loss: -0.96781\n",
      "epoch: 08, loss: -0.96920\n",
      "epoch: 09, loss: -0.97038\n",
      "torch.Size([1024, 64])\n"
     ]
    },
    {
     "name": "stderr",
     "output_type": "stream",
     "text": [
      " 27%|██▋       | 270/999 [5:36:32<17:04:49, 84.35s/it]"
     ]
    },
    {
     "name": "stdout",
     "output_type": "stream",
     "text": [
      "eigenvalues shape torch.Size([5]) eigenvectors shape torch.Size([5, 1024])\n",
      "270 /home/phdcs2/Hard_Disk/Datasets/Deep-Spectral-Segmentation/data/object-segmentation/ECSSD/features/0272_resized.pth\n",
      "dict_keys(['k', 'indices', 'file', 'id', 'model_name', 'patch_size', 'shape'])\n",
      "0272_resized\n"
     ]
    },
    {
     "name": "stderr",
     "output_type": "stream",
     "text": [
      "/home/phdcs2/Hard_Disk/Projects/T2I/deep-spectral-segmentation/venv/lib/python3.8/site-packages/sklearn/decomposition/_pca.py:642: RuntimeWarning: invalid value encountered in divide\n",
      "  self.explained_variance_ratio_ = self.explained_variance_ / total_var\n"
     ]
    },
    {
     "name": "stdout",
     "output_type": "stream",
     "text": [
      "Starting Training\n",
      "epoch: 00, loss: -0.93437\n",
      "epoch: 01, loss: -0.96125\n",
      "epoch: 02, loss: -0.96700\n",
      "epoch: 03, loss: -0.97032\n",
      "epoch: 04, loss: -0.97265\n",
      "epoch: 05, loss: -0.97439\n",
      "epoch: 06, loss: -0.97574\n",
      "epoch: 07, loss: -0.97686\n",
      "epoch: 08, loss: -0.97778\n",
      "epoch: 09, loss: -0.97859\n",
      "torch.Size([1024, 64])\n"
     ]
    },
    {
     "name": "stderr",
     "output_type": "stream",
     "text": [
      " 29%|██▊       | 285/999 [5:56:26<13:35:40, 68.54s/it]"
     ]
    },
    {
     "name": "stdout",
     "output_type": "stream",
     "text": [
      "eigenvalues shape torch.Size([5]) eigenvectors shape torch.Size([5, 1024])\n",
      "285 /home/phdcs2/Hard_Disk/Datasets/Deep-Spectral-Segmentation/data/object-segmentation/ECSSD/features/0287_resized.pth\n",
      "dict_keys(['k', 'indices', 'file', 'id', 'model_name', 'patch_size', 'shape'])\n",
      "0287_resized\n",
      "Starting Training\n",
      "epoch: 00, loss: -0.85037\n",
      "epoch: 01, loss: -0.91025\n",
      "epoch: 02, loss: -0.92607\n",
      "epoch: 03, loss: -0.93481\n",
      "epoch: 04, loss: -0.94057\n",
      "epoch: 05, loss: -0.94478\n",
      "epoch: 06, loss: -0.94817\n",
      "epoch: 07, loss: -0.95084\n",
      "epoch: 08, loss: -0.95313\n",
      "epoch: 09, loss: -0.95507\n",
      "torch.Size([1024, 64])\n"
     ]
    },
    {
     "name": "stderr",
     "output_type": "stream",
     "text": [
      " 29%|██▊       | 286/999 [5:57:40<13:52:48, 70.08s/it]"
     ]
    },
    {
     "name": "stdout",
     "output_type": "stream",
     "text": [
      "eigenvalues shape torch.Size([5]) eigenvectors shape torch.Size([5, 1024])\n",
      "286 /home/phdcs2/Hard_Disk/Datasets/Deep-Spectral-Segmentation/data/object-segmentation/ECSSD/features/0288_resized.pth\n",
      "dict_keys(['k', 'indices', 'file', 'id', 'model_name', 'patch_size', 'shape'])\n",
      "0288_resized\n"
     ]
    },
    {
     "name": "stderr",
     "output_type": "stream",
     "text": [
      "/home/phdcs2/Hard_Disk/Projects/T2I/deep-spectral-segmentation/venv/lib/python3.8/site-packages/sklearn/decomposition/_pca.py:642: RuntimeWarning: invalid value encountered in divide\n",
      "  self.explained_variance_ratio_ = self.explained_variance_ / total_var\n"
     ]
    },
    {
     "name": "stdout",
     "output_type": "stream",
     "text": [
      "Starting Training\n",
      "epoch: 00, loss: -0.91366\n",
      "epoch: 01, loss: -0.94869\n",
      "epoch: 02, loss: -0.95686\n",
      "epoch: 03, loss: -0.96169\n",
      "epoch: 04, loss: -0.96497\n",
      "epoch: 05, loss: -0.96738\n",
      "epoch: 06, loss: -0.96932\n",
      "epoch: 07, loss: -0.97088\n",
      "epoch: 08, loss: -0.97218\n",
      "epoch: 09, loss: -0.97328\n",
      "torch.Size([1024, 64])\n"
     ]
    },
    {
     "name": "stderr",
     "output_type": "stream",
     "text": [
      " 29%|██▊       | 287/999 [5:58:53<14:02:28, 70.99s/it]"
     ]
    },
    {
     "name": "stdout",
     "output_type": "stream",
     "text": [
      "eigenvalues shape torch.Size([5]) eigenvectors shape torch.Size([5, 1024])\n",
      "287 /home/phdcs2/Hard_Disk/Datasets/Deep-Spectral-Segmentation/data/object-segmentation/ECSSD/features/0289_resized.pth\n",
      "dict_keys(['k', 'indices', 'file', 'id', 'model_name', 'patch_size', 'shape'])\n",
      "0289_resized\n",
      "Starting Training\n",
      "epoch: 00, loss: -0.86648\n",
      "epoch: 01, loss: -0.91401\n",
      "epoch: 02, loss: -0.92662\n",
      "epoch: 03, loss: -0.93399\n",
      "epoch: 04, loss: -0.93908\n",
      "epoch: 05, loss: -0.94309\n",
      "epoch: 06, loss: -0.94622\n",
      "epoch: 07, loss: -0.94862\n",
      "epoch: 08, loss: -0.95089\n",
      "epoch: 09, loss: -0.95268\n",
      "torch.Size([1024, 64])\n"
     ]
    },
    {
     "name": "stderr",
     "output_type": "stream",
     "text": [
      " 29%|██▉       | 288/999 [6:00:06<14:06:54, 71.47s/it]"
     ]
    },
    {
     "name": "stdout",
     "output_type": "stream",
     "text": [
      "eigenvalues shape torch.Size([5]) eigenvectors shape torch.Size([5, 1024])\n",
      "288 /home/phdcs2/Hard_Disk/Datasets/Deep-Spectral-Segmentation/data/object-segmentation/ECSSD/features/0290_resized.pth\n",
      "dict_keys(['k', 'indices', 'file', 'id', 'model_name', 'patch_size', 'shape'])\n",
      "0290_resized\n",
      "Starting Training\n",
      "epoch: 00, loss: -0.88851\n",
      "epoch: 01, loss: -0.93634\n",
      "epoch: 02, loss: -0.94737\n",
      "epoch: 03, loss: -0.95378\n",
      "epoch: 04, loss: -0.95801\n",
      "epoch: 05, loss: -0.96107\n",
      "epoch: 06, loss: -0.96346\n",
      "epoch: 07, loss: -0.96541\n",
      "epoch: 08, loss: -0.96701\n",
      "epoch: 09, loss: -0.96843\n",
      "torch.Size([1024, 64])\n"
     ]
    },
    {
     "name": "stderr",
     "output_type": "stream",
     "text": [
      " 29%|██▉       | 289/999 [6:01:12<13:47:39, 69.94s/it]"
     ]
    },
    {
     "name": "stdout",
     "output_type": "stream",
     "text": [
      "eigenvalues shape torch.Size([5]) eigenvectors shape torch.Size([5, 1024])\n",
      "289 /home/phdcs2/Hard_Disk/Datasets/Deep-Spectral-Segmentation/data/object-segmentation/ECSSD/features/0291_resized.pth\n",
      "dict_keys(['k', 'indices', 'file', 'id', 'model_name', 'patch_size', 'shape'])\n",
      "0291_resized\n"
     ]
    },
    {
     "name": "stderr",
     "output_type": "stream",
     "text": [
      "/home/phdcs2/Hard_Disk/Projects/T2I/deep-spectral-segmentation/venv/lib/python3.8/site-packages/sklearn/decomposition/_pca.py:642: RuntimeWarning: invalid value encountered in divide\n",
      "  self.explained_variance_ratio_ = self.explained_variance_ / total_var\n"
     ]
    },
    {
     "name": "stdout",
     "output_type": "stream",
     "text": [
      "Starting Training\n",
      "epoch: 00, loss: -0.92360\n",
      "epoch: 01, loss: -0.95729\n",
      "epoch: 02, loss: -0.96407\n",
      "epoch: 03, loss: -0.96799\n",
      "epoch: 04, loss: -0.97073\n",
      "epoch: 05, loss: -0.97274\n",
      "epoch: 06, loss: -0.97435\n",
      "epoch: 07, loss: -0.97562\n",
      "epoch: 08, loss: -0.97670\n",
      "epoch: 09, loss: -0.97762\n",
      "torch.Size([1024, 64])\n"
     ]
    },
    {
     "name": "stderr",
     "output_type": "stream",
     "text": [
      " 29%|██▉       | 290/999 [6:02:18<13:32:16, 68.74s/it]"
     ]
    },
    {
     "name": "stdout",
     "output_type": "stream",
     "text": [
      "eigenvalues shape torch.Size([5]) eigenvectors shape torch.Size([5, 1024])\n",
      "290 /home/phdcs2/Hard_Disk/Datasets/Deep-Spectral-Segmentation/data/object-segmentation/ECSSD/features/0292_resized.pth\n",
      "dict_keys(['k', 'indices', 'file', 'id', 'model_name', 'patch_size', 'shape'])\n",
      "0292_resized\n"
     ]
    },
    {
     "name": "stderr",
     "output_type": "stream",
     "text": [
      "/home/phdcs2/Hard_Disk/Projects/T2I/deep-spectral-segmentation/venv/lib/python3.8/site-packages/sklearn/decomposition/_pca.py:642: RuntimeWarning: invalid value encountered in divide\n",
      "  self.explained_variance_ratio_ = self.explained_variance_ / total_var\n"
     ]
    },
    {
     "name": "stdout",
     "output_type": "stream",
     "text": [
      "Starting Training\n",
      "epoch: 00, loss: -0.90840\n",
      "epoch: 01, loss: -0.94356\n",
      "epoch: 02, loss: -0.95252\n",
      "epoch: 03, loss: -0.95786\n",
      "epoch: 04, loss: -0.96145\n",
      "epoch: 05, loss: -0.96419\n",
      "epoch: 06, loss: -0.96629\n",
      "epoch: 07, loss: -0.96804\n",
      "epoch: 08, loss: -0.96948\n",
      "epoch: 09, loss: -0.97069\n",
      "torch.Size([1024, 64])\n"
     ]
    },
    {
     "name": "stderr",
     "output_type": "stream",
     "text": [
      " 29%|██▉       | 291/999 [6:03:23<13:16:43, 67.52s/it]"
     ]
    },
    {
     "name": "stdout",
     "output_type": "stream",
     "text": [
      "eigenvalues shape torch.Size([5]) eigenvectors shape torch.Size([5, 1024])\n",
      "291 /home/phdcs2/Hard_Disk/Datasets/Deep-Spectral-Segmentation/data/object-segmentation/ECSSD/features/0293_resized.pth\n",
      "dict_keys(['k', 'indices', 'file', 'id', 'model_name', 'patch_size', 'shape'])\n",
      "0293_resized\n"
     ]
    },
    {
     "name": "stderr",
     "output_type": "stream",
     "text": [
      "/home/phdcs2/Hard_Disk/Projects/T2I/deep-spectral-segmentation/venv/lib/python3.8/site-packages/sklearn/decomposition/_pca.py:642: RuntimeWarning: invalid value encountered in divide\n",
      "  self.explained_variance_ratio_ = self.explained_variance_ / total_var\n"
     ]
    },
    {
     "name": "stdout",
     "output_type": "stream",
     "text": [
      "Starting Training\n",
      "epoch: 00, loss: -0.93602\n",
      "epoch: 01, loss: -0.96155\n",
      "epoch: 02, loss: -0.96737\n",
      "epoch: 03, loss: -0.97077\n",
      "epoch: 04, loss: -0.97308\n",
      "epoch: 05, loss: -0.97481\n",
      "epoch: 06, loss: -0.97616\n",
      "epoch: 07, loss: -0.97725\n",
      "epoch: 08, loss: -0.97820\n",
      "epoch: 09, loss: -0.97899\n",
      "torch.Size([1024, 64])\n"
     ]
    },
    {
     "name": "stderr",
     "output_type": "stream",
     "text": [
      " 29%|██▉       | 292/999 [6:04:25<12:55:21, 65.80s/it]"
     ]
    },
    {
     "name": "stdout",
     "output_type": "stream",
     "text": [
      "eigenvalues shape torch.Size([5]) eigenvectors shape torch.Size([5, 1024])\n",
      "292 /home/phdcs2/Hard_Disk/Datasets/Deep-Spectral-Segmentation/data/object-segmentation/ECSSD/features/0294_resized.pth\n",
      "dict_keys(['k', 'indices', 'file', 'id', 'model_name', 'patch_size', 'shape'])\n",
      "0294_resized\n",
      "Starting Training\n",
      "epoch: 00, loss: -0.94341\n",
      "epoch: 01, loss: -0.96506\n",
      "epoch: 02, loss: -0.97023\n",
      "epoch: 03, loss: -0.97327\n",
      "epoch: 04, loss: -0.97540\n",
      "epoch: 05, loss: -0.97700\n",
      "epoch: 06, loss: -0.97826\n",
      "epoch: 07, loss: -0.97929\n",
      "epoch: 08, loss: -0.98019\n",
      "epoch: 09, loss: -0.98094\n",
      "torch.Size([1024, 64])\n"
     ]
    },
    {
     "name": "stderr",
     "output_type": "stream",
     "text": [
      " 29%|██▉       | 293/999 [6:05:26<12:38:15, 64.44s/it]"
     ]
    },
    {
     "name": "stdout",
     "output_type": "stream",
     "text": [
      "eigenvalues shape torch.Size([5]) eigenvectors shape torch.Size([5, 1024])\n",
      "293 /home/phdcs2/Hard_Disk/Datasets/Deep-Spectral-Segmentation/data/object-segmentation/ECSSD/features/0295_resized.pth\n",
      "dict_keys(['k', 'indices', 'file', 'id', 'model_name', 'patch_size', 'shape'])\n",
      "0295_resized\n",
      "Starting Training\n",
      "epoch: 00, loss: -0.93151\n",
      "epoch: 01, loss: -0.95922\n",
      "epoch: 02, loss: -0.96539\n",
      "epoch: 03, loss: -0.96901\n",
      "epoch: 04, loss: -0.97151\n",
      "epoch: 05, loss: -0.97340\n",
      "epoch: 06, loss: -0.97484\n",
      "epoch: 07, loss: -0.97605\n",
      "epoch: 08, loss: -0.97707\n",
      "epoch: 09, loss: -0.97792\n",
      "torch.Size([1024, 64])\n"
     ]
    },
    {
     "name": "stderr",
     "output_type": "stream",
     "text": [
      " 29%|██▉       | 294/999 [6:06:24<12:13:16, 62.41s/it]"
     ]
    },
    {
     "name": "stdout",
     "output_type": "stream",
     "text": [
      "eigenvalues shape torch.Size([5]) eigenvectors shape torch.Size([5, 1024])\n",
      "294 /home/phdcs2/Hard_Disk/Datasets/Deep-Spectral-Segmentation/data/object-segmentation/ECSSD/features/0296_resized.pth\n",
      "dict_keys(['k', 'indices', 'file', 'id', 'model_name', 'patch_size', 'shape'])\n",
      "0296_resized\n",
      "Starting Training\n",
      "epoch: 00, loss: -0.89245\n",
      "epoch: 01, loss: -0.93453\n",
      "epoch: 02, loss: -0.94525\n",
      "epoch: 03, loss: -0.95160\n",
      "epoch: 04, loss: -0.95575\n",
      "epoch: 05, loss: -0.95885\n",
      "epoch: 06, loss: -0.96125\n",
      "epoch: 07, loss: -0.96325\n",
      "epoch: 08, loss: -0.96488\n",
      "epoch: 09, loss: -0.96625\n",
      "torch.Size([1024, 64])\n"
     ]
    },
    {
     "name": "stderr",
     "output_type": "stream",
     "text": [
      " 30%|██▉       | 295/999 [6:07:20<11:53:05, 60.77s/it]"
     ]
    },
    {
     "name": "stdout",
     "output_type": "stream",
     "text": [
      "eigenvalues shape torch.Size([5]) eigenvectors shape torch.Size([5, 1024])\n",
      "295 /home/phdcs2/Hard_Disk/Datasets/Deep-Spectral-Segmentation/data/object-segmentation/ECSSD/features/0297_resized.pth\n",
      "dict_keys(['k', 'indices', 'file', 'id', 'model_name', 'patch_size', 'shape'])\n",
      "0297_resized\n",
      "Starting Training\n",
      "epoch: 00, loss: -0.87649\n",
      "epoch: 01, loss: -0.92786\n",
      "epoch: 02, loss: -0.94101\n",
      "epoch: 03, loss: -0.94844\n",
      "epoch: 04, loss: -0.95331\n",
      "epoch: 05, loss: -0.95687\n",
      "epoch: 06, loss: -0.95952\n",
      "epoch: 07, loss: -0.96176\n",
      "epoch: 08, loss: -0.96344\n",
      "epoch: 09, loss: -0.96510\n",
      "torch.Size([1024, 64])\n"
     ]
    },
    {
     "name": "stderr",
     "output_type": "stream",
     "text": [
      " 30%|██▉       | 296/999 [6:08:31<12:27:50, 63.83s/it]"
     ]
    },
    {
     "name": "stdout",
     "output_type": "stream",
     "text": [
      "eigenvalues shape torch.Size([5]) eigenvectors shape torch.Size([5, 1024])\n",
      "296 /home/phdcs2/Hard_Disk/Datasets/Deep-Spectral-Segmentation/data/object-segmentation/ECSSD/features/0298_resized.pth\n",
      "dict_keys(['k', 'indices', 'file', 'id', 'model_name', 'patch_size', 'shape'])\n",
      "0298_resized\n"
     ]
    },
    {
     "name": "stderr",
     "output_type": "stream",
     "text": [
      "/home/phdcs2/Hard_Disk/Projects/T2I/deep-spectral-segmentation/venv/lib/python3.8/site-packages/sklearn/decomposition/_pca.py:642: RuntimeWarning: invalid value encountered in divide\n",
      "  self.explained_variance_ratio_ = self.explained_variance_ / total_var\n"
     ]
    },
    {
     "name": "stdout",
     "output_type": "stream",
     "text": [
      "Starting Training\n",
      "epoch: 00, loss: -0.92961\n",
      "epoch: 01, loss: -0.95690\n",
      "epoch: 02, loss: -0.96309\n",
      "epoch: 03, loss: -0.96675\n",
      "epoch: 04, loss: -0.96932\n",
      "epoch: 05, loss: -0.97121\n",
      "epoch: 06, loss: -0.97274\n",
      "epoch: 07, loss: -0.97400\n",
      "epoch: 08, loss: -0.97504\n",
      "epoch: 09, loss: -0.97594\n",
      "torch.Size([1024, 64])\n"
     ]
    },
    {
     "name": "stderr",
     "output_type": "stream",
     "text": [
      " 30%|██▉       | 297/999 [6:09:51<13:22:00, 68.55s/it]"
     ]
    },
    {
     "name": "stdout",
     "output_type": "stream",
     "text": [
      "eigenvalues shape torch.Size([5]) eigenvectors shape torch.Size([5, 1024])\n",
      "297 /home/phdcs2/Hard_Disk/Datasets/Deep-Spectral-Segmentation/data/object-segmentation/ECSSD/features/0299_resized.pth\n",
      "dict_keys(['k', 'indices', 'file', 'id', 'model_name', 'patch_size', 'shape'])\n",
      "0299_resized\n"
     ]
    },
    {
     "name": "stderr",
     "output_type": "stream",
     "text": [
      "/home/phdcs2/Hard_Disk/Projects/T2I/deep-spectral-segmentation/venv/lib/python3.8/site-packages/sklearn/decomposition/_pca.py:642: RuntimeWarning: invalid value encountered in divide\n",
      "  self.explained_variance_ratio_ = self.explained_variance_ / total_var\n"
     ]
    },
    {
     "name": "stdout",
     "output_type": "stream",
     "text": [
      "Starting Training\n",
      "epoch: 00, loss: -0.90457\n",
      "epoch: 01, loss: -0.94123\n",
      "epoch: 02, loss: -0.95051\n",
      "epoch: 03, loss: -0.95594\n",
      "epoch: 04, loss: -0.95960\n",
      "epoch: 05, loss: -0.96230\n",
      "epoch: 06, loss: -0.96447\n",
      "epoch: 07, loss: -0.96620\n",
      "epoch: 08, loss: -0.96766\n",
      "epoch: 09, loss: -0.96892\n",
      "torch.Size([1024, 64])\n"
     ]
    },
    {
     "name": "stderr",
     "output_type": "stream",
     "text": [
      " 30%|██▉       | 298/999 [6:11:06<13:44:11, 70.54s/it]"
     ]
    },
    {
     "name": "stdout",
     "output_type": "stream",
     "text": [
      "eigenvalues shape torch.Size([5]) eigenvectors shape torch.Size([5, 1024])\n",
      "298 /home/phdcs2/Hard_Disk/Datasets/Deep-Spectral-Segmentation/data/object-segmentation/ECSSD/features/0300_resized.pth\n",
      "dict_keys(['k', 'indices', 'file', 'id', 'model_name', 'patch_size', 'shape'])\n",
      "0300_resized\n",
      "Starting Training\n",
      "epoch: 00, loss: -0.91842\n",
      "epoch: 01, loss: -0.95180\n",
      "epoch: 02, loss: -0.95945\n",
      "epoch: 03, loss: -0.96388\n",
      "epoch: 04, loss: -0.96686\n",
      "epoch: 05, loss: -0.96908\n",
      "epoch: 06, loss: -0.97083\n",
      "epoch: 07, loss: -0.97225\n",
      "epoch: 08, loss: -0.97342\n",
      "epoch: 09, loss: -0.97444\n",
      "torch.Size([1024, 64])\n"
     ]
    },
    {
     "name": "stderr",
     "output_type": "stream",
     "text": [
      " 30%|██▉       | 299/999 [6:12:23<14:04:44, 72.41s/it]"
     ]
    },
    {
     "name": "stdout",
     "output_type": "stream",
     "text": [
      "eigenvalues shape torch.Size([5]) eigenvectors shape torch.Size([5, 1024])\n",
      "299 /home/phdcs2/Hard_Disk/Datasets/Deep-Spectral-Segmentation/data/object-segmentation/ECSSD/features/0301_resized.pth\n",
      "dict_keys(['k', 'indices', 'file', 'id', 'model_name', 'patch_size', 'shape'])\n",
      "0301_resized\n",
      "Starting Training\n",
      "epoch: 00, loss: -0.88222\n",
      "epoch: 01, loss: -0.92950\n",
      "epoch: 02, loss: -0.94170\n",
      "epoch: 03, loss: -0.94855\n",
      "epoch: 04, loss: -0.95324\n",
      "epoch: 05, loss: -0.95677\n",
      "epoch: 06, loss: -0.95957\n",
      "epoch: 07, loss: -0.96166\n",
      "epoch: 08, loss: -0.96354\n",
      "epoch: 09, loss: -0.96508\n",
      "torch.Size([1024, 64])\n"
     ]
    },
    {
     "name": "stderr",
     "output_type": "stream",
     "text": [
      " 30%|███       | 300/999 [6:13:40<14:19:13, 73.75s/it]"
     ]
    },
    {
     "name": "stdout",
     "output_type": "stream",
     "text": [
      "eigenvalues shape torch.Size([5]) eigenvectors shape torch.Size([5, 1024])\n",
      "300 /home/phdcs2/Hard_Disk/Datasets/Deep-Spectral-Segmentation/data/object-segmentation/ECSSD/features/0302_resized.pth\n",
      "dict_keys(['k', 'indices', 'file', 'id', 'model_name', 'patch_size', 'shape'])\n",
      "0302_resized\n",
      "Starting Training\n",
      "epoch: 00, loss: -0.87414\n",
      "epoch: 01, loss: -0.92619\n",
      "epoch: 02, loss: -0.93883\n",
      "epoch: 03, loss: -0.94591\n",
      "epoch: 04, loss: -0.95065\n",
      "epoch: 05, loss: -0.95413\n",
      "epoch: 06, loss: -0.95691\n",
      "epoch: 07, loss: -0.95920\n",
      "epoch: 08, loss: -0.96099\n",
      "epoch: 09, loss: -0.96255\n",
      "torch.Size([1024, 64])\n"
     ]
    },
    {
     "name": "stderr",
     "output_type": "stream",
     "text": [
      " 30%|███       | 301/999 [6:14:58<14:34:26, 75.17s/it]"
     ]
    },
    {
     "name": "stdout",
     "output_type": "stream",
     "text": [
      "eigenvalues shape torch.Size([5]) eigenvectors shape torch.Size([5, 1024])\n",
      "301 /home/phdcs2/Hard_Disk/Datasets/Deep-Spectral-Segmentation/data/object-segmentation/ECSSD/features/0303_resized.pth\n",
      "dict_keys(['k', 'indices', 'file', 'id', 'model_name', 'patch_size', 'shape'])\n",
      "0303_resized\n",
      "Starting Training\n",
      "epoch: 00, loss: -0.84949\n",
      "epoch: 01, loss: -0.91323\n",
      "epoch: 02, loss: -0.92824\n",
      "epoch: 03, loss: -0.93684\n",
      "epoch: 04, loss: -0.94287\n",
      "epoch: 05, loss: -0.94693\n",
      "epoch: 06, loss: -0.95028\n",
      "epoch: 07, loss: -0.95273\n",
      "epoch: 08, loss: -0.95495\n",
      "epoch: 09, loss: -0.95672\n",
      "torch.Size([1024, 64])\n"
     ]
    },
    {
     "name": "stderr",
     "output_type": "stream",
     "text": [
      " 30%|███       | 302/999 [6:16:15<14:40:06, 75.76s/it]"
     ]
    },
    {
     "name": "stdout",
     "output_type": "stream",
     "text": [
      "eigenvalues shape torch.Size([5]) eigenvectors shape torch.Size([5, 1024])\n",
      "302 /home/phdcs2/Hard_Disk/Datasets/Deep-Spectral-Segmentation/data/object-segmentation/ECSSD/features/0304_resized.pth\n",
      "dict_keys(['k', 'indices', 'file', 'id', 'model_name', 'patch_size', 'shape'])\n",
      "0304_resized\n"
     ]
    },
    {
     "name": "stderr",
     "output_type": "stream",
     "text": [
      "/home/phdcs2/Hard_Disk/Projects/T2I/deep-spectral-segmentation/venv/lib/python3.8/site-packages/sklearn/decomposition/_pca.py:642: RuntimeWarning: invalid value encountered in divide\n",
      "  self.explained_variance_ratio_ = self.explained_variance_ / total_var\n"
     ]
    },
    {
     "name": "stdout",
     "output_type": "stream",
     "text": [
      "Starting Training\n",
      "epoch: 00, loss: -0.92063\n",
      "epoch: 01, loss: -0.95313\n",
      "epoch: 02, loss: -0.96024\n",
      "epoch: 03, loss: -0.96434\n",
      "epoch: 04, loss: -0.96711\n",
      "epoch: 05, loss: -0.96918\n",
      "epoch: 06, loss: -0.97080\n",
      "epoch: 07, loss: -0.97215\n",
      "epoch: 08, loss: -0.97325\n",
      "epoch: 09, loss: -0.97421\n",
      "torch.Size([1024, 64])\n"
     ]
    },
    {
     "name": "stderr",
     "output_type": "stream",
     "text": [
      " 30%|███       | 303/999 [6:17:44<15:23:39, 79.63s/it]"
     ]
    },
    {
     "name": "stdout",
     "output_type": "stream",
     "text": [
      "eigenvalues shape torch.Size([5]) eigenvectors shape torch.Size([5, 1024])\n",
      "303 /home/phdcs2/Hard_Disk/Datasets/Deep-Spectral-Segmentation/data/object-segmentation/ECSSD/features/0305_resized.pth\n",
      "dict_keys(['k', 'indices', 'file', 'id', 'model_name', 'patch_size', 'shape'])\n",
      "0305_resized\n",
      "Starting Training\n",
      "epoch: 00, loss: -0.84954\n",
      "epoch: 01, loss: -0.90885\n",
      "epoch: 02, loss: -0.92539\n",
      "epoch: 03, loss: -0.93452\n",
      "epoch: 04, loss: -0.94068\n",
      "epoch: 05, loss: -0.94517\n",
      "epoch: 06, loss: -0.94863\n",
      "epoch: 07, loss: -0.95135\n",
      "epoch: 08, loss: -0.95366\n",
      "epoch: 09, loss: -0.95549\n",
      "torch.Size([1024, 64])\n"
     ]
    },
    {
     "name": "stderr",
     "output_type": "stream",
     "text": [
      " 30%|███       | 304/999 [6:19:00<15:09:41, 78.53s/it]"
     ]
    },
    {
     "name": "stdout",
     "output_type": "stream",
     "text": [
      "eigenvalues shape torch.Size([5]) eigenvectors shape torch.Size([5, 1024])\n",
      "304 /home/phdcs2/Hard_Disk/Datasets/Deep-Spectral-Segmentation/data/object-segmentation/ECSSD/features/0306_resized.pth\n",
      "dict_keys(['k', 'indices', 'file', 'id', 'model_name', 'patch_size', 'shape'])\n",
      "0306_resized\n",
      "Starting Training\n",
      "epoch: 00, loss: -0.86974\n",
      "epoch: 01, loss: -0.92331\n",
      "epoch: 02, loss: -0.93724\n",
      "epoch: 03, loss: -0.94472\n",
      "epoch: 04, loss: -0.94990\n",
      "epoch: 05, loss: -0.95369\n",
      "epoch: 06, loss: -0.95671\n",
      "epoch: 07, loss: -0.95901\n",
      "epoch: 08, loss: -0.96093\n",
      "epoch: 09, loss: -0.96248\n",
      "torch.Size([1024, 64])\n"
     ]
    },
    {
     "name": "stderr",
     "output_type": "stream",
     "text": [
      " 31%|███       | 305/999 [6:20:08<14:30:28, 75.26s/it]"
     ]
    },
    {
     "name": "stdout",
     "output_type": "stream",
     "text": [
      "eigenvalues shape torch.Size([5]) eigenvectors shape torch.Size([5, 1024])\n",
      "305 /home/phdcs2/Hard_Disk/Datasets/Deep-Spectral-Segmentation/data/object-segmentation/ECSSD/features/0307_resized.pth\n",
      "dict_keys(['k', 'indices', 'file', 'id', 'model_name', 'patch_size', 'shape'])\n",
      "0307_resized\n"
     ]
    },
    {
     "name": "stderr",
     "output_type": "stream",
     "text": [
      "/home/phdcs2/Hard_Disk/Projects/T2I/deep-spectral-segmentation/venv/lib/python3.8/site-packages/sklearn/decomposition/_pca.py:642: RuntimeWarning: invalid value encountered in divide\n",
      "  self.explained_variance_ratio_ = self.explained_variance_ / total_var\n"
     ]
    },
    {
     "name": "stdout",
     "output_type": "stream",
     "text": [
      "Starting Training\n",
      "epoch: 00, loss: -0.90292\n",
      "epoch: 01, loss: -0.94129\n",
      "epoch: 02, loss: -0.95033\n",
      "epoch: 03, loss: -0.95556\n",
      "epoch: 04, loss: -0.95913\n",
      "epoch: 05, loss: -0.96178\n",
      "epoch: 06, loss: -0.96386\n",
      "epoch: 07, loss: -0.96558\n",
      "epoch: 08, loss: -0.96700\n",
      "epoch: 09, loss: -0.96821\n",
      "torch.Size([1024, 64])\n"
     ]
    },
    {
     "name": "stderr",
     "output_type": "stream",
     "text": [
      " 31%|███       | 306/999 [6:21:18<14:13:15, 73.88s/it]"
     ]
    },
    {
     "name": "stdout",
     "output_type": "stream",
     "text": [
      "eigenvalues shape torch.Size([5]) eigenvectors shape torch.Size([5, 1024])\n",
      "306 /home/phdcs2/Hard_Disk/Datasets/Deep-Spectral-Segmentation/data/object-segmentation/ECSSD/features/0308_resized.pth\n",
      "dict_keys(['k', 'indices', 'file', 'id', 'model_name', 'patch_size', 'shape'])\n",
      "0308_resized\n",
      "Starting Training\n",
      "epoch: 00, loss: -0.86840\n",
      "epoch: 01, loss: -0.92452\n",
      "epoch: 02, loss: -0.93793\n",
      "epoch: 03, loss: -0.94550\n",
      "epoch: 04, loss: -0.95040\n",
      "epoch: 05, loss: -0.95417\n",
      "epoch: 06, loss: -0.95709\n",
      "epoch: 07, loss: -0.95937\n",
      "epoch: 08, loss: -0.96131\n",
      "epoch: 09, loss: -0.96290\n",
      "torch.Size([1024, 64])\n"
     ]
    },
    {
     "name": "stderr",
     "output_type": "stream",
     "text": [
      " 31%|███       | 307/999 [6:22:30<14:04:31, 73.23s/it]"
     ]
    },
    {
     "name": "stdout",
     "output_type": "stream",
     "text": [
      "eigenvalues shape torch.Size([5]) eigenvectors shape torch.Size([5, 1024])\n",
      "307 /home/phdcs2/Hard_Disk/Datasets/Deep-Spectral-Segmentation/data/object-segmentation/ECSSD/features/0309_resized.pth\n",
      "dict_keys(['k', 'indices', 'file', 'id', 'model_name', 'patch_size', 'shape'])\n",
      "0309_resized\n"
     ]
    },
    {
     "name": "stderr",
     "output_type": "stream",
     "text": [
      "/home/phdcs2/Hard_Disk/Projects/T2I/deep-spectral-segmentation/venv/lib/python3.8/site-packages/sklearn/decomposition/_pca.py:642: RuntimeWarning: invalid value encountered in divide\n",
      "  self.explained_variance_ratio_ = self.explained_variance_ / total_var\n"
     ]
    },
    {
     "name": "stdout",
     "output_type": "stream",
     "text": [
      "Starting Training\n",
      "epoch: 00, loss: -0.92756\n",
      "epoch: 01, loss: -0.95780\n",
      "epoch: 02, loss: -0.96415\n",
      "epoch: 03, loss: -0.96787\n",
      "epoch: 04, loss: -0.97039\n",
      "epoch: 05, loss: -0.97230\n",
      "epoch: 06, loss: -0.97379\n",
      "epoch: 07, loss: -0.97502\n",
      "epoch: 08, loss: -0.97603\n",
      "epoch: 09, loss: -0.97691\n",
      "torch.Size([1024, 64])\n"
     ]
    },
    {
     "name": "stderr",
     "output_type": "stream",
     "text": [
      " 31%|███       | 308/999 [6:23:34<13:31:38, 70.47s/it]"
     ]
    },
    {
     "name": "stdout",
     "output_type": "stream",
     "text": [
      "eigenvalues shape torch.Size([5]) eigenvectors shape torch.Size([5, 1024])\n",
      "308 /home/phdcs2/Hard_Disk/Datasets/Deep-Spectral-Segmentation/data/object-segmentation/ECSSD/features/0310_resized.pth\n",
      "dict_keys(['k', 'indices', 'file', 'id', 'model_name', 'patch_size', 'shape'])\n",
      "0310_resized\n",
      "Starting Training\n",
      "epoch: 00, loss: -0.84788\n",
      "epoch: 01, loss: -0.91248\n",
      "epoch: 02, loss: -0.92885\n",
      "epoch: 03, loss: -0.93793\n",
      "epoch: 04, loss: -0.94401\n",
      "epoch: 05, loss: -0.94832\n",
      "epoch: 06, loss: -0.95184\n",
      "epoch: 07, loss: -0.95456\n",
      "epoch: 08, loss: -0.95678\n",
      "epoch: 09, loss: -0.95866\n",
      "torch.Size([1024, 64])\n"
     ]
    },
    {
     "name": "stderr",
     "output_type": "stream",
     "text": [
      " 31%|███       | 309/999 [6:24:39<13:10:03, 68.70s/it]"
     ]
    },
    {
     "name": "stdout",
     "output_type": "stream",
     "text": [
      "eigenvalues shape torch.Size([5]) eigenvectors shape torch.Size([5, 1024])\n",
      "309 /home/phdcs2/Hard_Disk/Datasets/Deep-Spectral-Segmentation/data/object-segmentation/ECSSD/features/0311_resized.pth\n",
      "dict_keys(['k', 'indices', 'file', 'id', 'model_name', 'patch_size', 'shape'])\n",
      "0311_resized\n",
      "Starting Training\n",
      "epoch: 00, loss: -0.92898\n",
      "epoch: 01, loss: -0.95643\n",
      "epoch: 02, loss: -0.96294\n",
      "epoch: 03, loss: -0.96678\n",
      "epoch: 04, loss: -0.96939\n",
      "epoch: 05, loss: -0.97133\n",
      "epoch: 06, loss: -0.97285\n",
      "epoch: 07, loss: -0.97412\n",
      "epoch: 08, loss: -0.97518\n",
      "epoch: 09, loss: -0.97609\n",
      "torch.Size([1024, 64])\n"
     ]
    },
    {
     "name": "stderr",
     "output_type": "stream",
     "text": [
      " 31%|███       | 310/999 [6:25:48<13:12:06, 68.98s/it]"
     ]
    },
    {
     "name": "stdout",
     "output_type": "stream",
     "text": [
      "eigenvalues shape torch.Size([5]) eigenvectors shape torch.Size([5, 1024])\n",
      "310 /home/phdcs2/Hard_Disk/Datasets/Deep-Spectral-Segmentation/data/object-segmentation/ECSSD/features/0312_resized.pth\n",
      "dict_keys(['k', 'indices', 'file', 'id', 'model_name', 'patch_size', 'shape'])\n",
      "0312_resized\n",
      "Starting Training\n",
      "epoch: 00, loss: -0.88285\n",
      "epoch: 01, loss: -0.93074\n",
      "epoch: 02, loss: -0.94265\n",
      "epoch: 03, loss: -0.94927\n",
      "epoch: 04, loss: -0.95364\n",
      "epoch: 05, loss: -0.95696\n",
      "epoch: 06, loss: -0.95972\n",
      "epoch: 07, loss: -0.96162\n",
      "epoch: 08, loss: -0.96343\n",
      "epoch: 09, loss: -0.96482\n",
      "torch.Size([1024, 64])\n"
     ]
    },
    {
     "name": "stderr",
     "output_type": "stream",
     "text": [
      " 31%|███       | 311/999 [6:27:01<13:24:57, 70.20s/it]"
     ]
    },
    {
     "name": "stdout",
     "output_type": "stream",
     "text": [
      "eigenvalues shape torch.Size([5]) eigenvectors shape torch.Size([5, 1024])\n",
      "311 /home/phdcs2/Hard_Disk/Datasets/Deep-Spectral-Segmentation/data/object-segmentation/ECSSD/features/0313_resized.pth\n",
      "dict_keys(['k', 'indices', 'file', 'id', 'model_name', 'patch_size', 'shape'])\n",
      "0313_resized\n",
      "Starting Training\n",
      "epoch: 00, loss: -0.86403\n",
      "epoch: 01, loss: -0.91913\n",
      "epoch: 02, loss: -0.93339\n",
      "epoch: 03, loss: -0.94134\n",
      "epoch: 04, loss: -0.94676\n",
      "epoch: 05, loss: -0.95081\n",
      "epoch: 06, loss: -0.95400\n",
      "epoch: 07, loss: -0.95657\n",
      "epoch: 08, loss: -0.95866\n",
      "epoch: 09, loss: -0.96044\n",
      "torch.Size([1024, 64])\n"
     ]
    },
    {
     "name": "stderr",
     "output_type": "stream",
     "text": [
      " 31%|███       | 312/999 [6:28:12<13:25:29, 70.35s/it]"
     ]
    },
    {
     "name": "stdout",
     "output_type": "stream",
     "text": [
      "eigenvalues shape torch.Size([5]) eigenvectors shape torch.Size([5, 1024])\n",
      "312 /home/phdcs2/Hard_Disk/Datasets/Deep-Spectral-Segmentation/data/object-segmentation/ECSSD/features/0314_resized.pth\n",
      "dict_keys(['k', 'indices', 'file', 'id', 'model_name', 'patch_size', 'shape'])\n",
      "0314_resized\n"
     ]
    },
    {
     "name": "stderr",
     "output_type": "stream",
     "text": [
      "/home/phdcs2/Hard_Disk/Projects/T2I/deep-spectral-segmentation/venv/lib/python3.8/site-packages/sklearn/decomposition/_pca.py:642: RuntimeWarning: invalid value encountered in divide\n",
      "  self.explained_variance_ratio_ = self.explained_variance_ / total_var\n"
     ]
    },
    {
     "name": "stdout",
     "output_type": "stream",
     "text": [
      "Starting Training\n",
      "epoch: 00, loss: -0.92399\n",
      "epoch: 01, loss: -0.95577\n",
      "epoch: 02, loss: -0.96257\n",
      "epoch: 03, loss: -0.96642\n",
      "epoch: 04, loss: -0.96908\n",
      "epoch: 05, loss: -0.97107\n",
      "epoch: 06, loss: -0.97262\n",
      "epoch: 07, loss: -0.97388\n",
      "epoch: 08, loss: -0.97496\n",
      "epoch: 09, loss: -0.97586\n",
      "torch.Size([1024, 64])\n"
     ]
    },
    {
     "name": "stderr",
     "output_type": "stream",
     "text": [
      " 31%|███▏      | 313/999 [6:29:12<12:49:05, 67.27s/it]"
     ]
    },
    {
     "name": "stdout",
     "output_type": "stream",
     "text": [
      "eigenvalues shape torch.Size([5]) eigenvectors shape torch.Size([5, 1024])\n",
      "313 /home/phdcs2/Hard_Disk/Datasets/Deep-Spectral-Segmentation/data/object-segmentation/ECSSD/features/0315_resized.pth\n",
      "dict_keys(['k', 'indices', 'file', 'id', 'model_name', 'patch_size', 'shape'])\n",
      "0315_resized\n",
      "Starting Training\n",
      "epoch: 00, loss: -0.85205\n",
      "epoch: 01, loss: -0.91316\n",
      "epoch: 02, loss: -0.92879\n",
      "epoch: 03, loss: -0.93728\n",
      "epoch: 04, loss: -0.94292\n",
      "epoch: 05, loss: -0.94720\n",
      "epoch: 06, loss: -0.95034\n",
      "epoch: 07, loss: -0.95293\n",
      "epoch: 08, loss: -0.95507\n",
      "epoch: 09, loss: -0.95695\n",
      "torch.Size([1024, 64])\n"
     ]
    },
    {
     "name": "stderr",
     "output_type": "stream",
     "text": [
      " 31%|███▏      | 314/999 [6:30:23<13:00:59, 68.41s/it]"
     ]
    },
    {
     "name": "stdout",
     "output_type": "stream",
     "text": [
      "eigenvalues shape torch.Size([5]) eigenvectors shape torch.Size([5, 1024])\n",
      "314 /home/phdcs2/Hard_Disk/Datasets/Deep-Spectral-Segmentation/data/object-segmentation/ECSSD/features/0316_resized.pth\n",
      "dict_keys(['k', 'indices', 'file', 'id', 'model_name', 'patch_size', 'shape'])\n",
      "0316_resized\n"
     ]
    },
    {
     "name": "stderr",
     "output_type": "stream",
     "text": [
      "/home/phdcs2/Hard_Disk/Projects/T2I/deep-spectral-segmentation/venv/lib/python3.8/site-packages/sklearn/decomposition/_pca.py:642: RuntimeWarning: invalid value encountered in divide\n",
      "  self.explained_variance_ratio_ = self.explained_variance_ / total_var\n"
     ]
    },
    {
     "name": "stdout",
     "output_type": "stream",
     "text": [
      "Starting Training\n",
      "epoch: 00, loss: -0.91752\n",
      "epoch: 01, loss: -0.95125\n",
      "epoch: 02, loss: -0.95860\n",
      "epoch: 03, loss: -0.96282\n",
      "epoch: 04, loss: -0.96572\n",
      "epoch: 05, loss: -0.96792\n",
      "epoch: 06, loss: -0.96961\n",
      "epoch: 07, loss: -0.97104\n",
      "epoch: 08, loss: -0.97221\n",
      "epoch: 09, loss: -0.97319\n",
      "torch.Size([1024, 64])\n"
     ]
    },
    {
     "name": "stderr",
     "output_type": "stream",
     "text": [
      " 32%|███▏      | 315/999 [6:31:35<13:09:58, 69.30s/it]"
     ]
    },
    {
     "name": "stdout",
     "output_type": "stream",
     "text": [
      "eigenvalues shape torch.Size([5]) eigenvectors shape torch.Size([5, 1024])\n",
      "315 /home/phdcs2/Hard_Disk/Datasets/Deep-Spectral-Segmentation/data/object-segmentation/ECSSD/features/0317_resized.pth\n",
      "dict_keys(['k', 'indices', 'file', 'id', 'model_name', 'patch_size', 'shape'])\n",
      "0317_resized\n",
      "Starting Training\n",
      "epoch: 00, loss: -0.88439\n",
      "epoch: 01, loss: -0.93286\n",
      "epoch: 02, loss: -0.94369\n",
      "epoch: 03, loss: -0.94980\n",
      "epoch: 04, loss: -0.95401\n",
      "epoch: 05, loss: -0.95705\n",
      "epoch: 06, loss: -0.95947\n",
      "epoch: 07, loss: -0.96146\n",
      "epoch: 08, loss: -0.96300\n",
      "epoch: 09, loss: -0.96445\n",
      "torch.Size([1024, 64])\n"
     ]
    },
    {
     "name": "stderr",
     "output_type": "stream",
     "text": [
      " 32%|███▏      | 316/999 [6:32:48<13:22:47, 70.52s/it]"
     ]
    },
    {
     "name": "stdout",
     "output_type": "stream",
     "text": [
      "eigenvalues shape torch.Size([5]) eigenvectors shape torch.Size([5, 1024])\n",
      "316 /home/phdcs2/Hard_Disk/Datasets/Deep-Spectral-Segmentation/data/object-segmentation/ECSSD/features/0318_resized.pth\n",
      "dict_keys(['k', 'indices', 'file', 'id', 'model_name', 'patch_size', 'shape'])\n",
      "0318_resized\n",
      "Starting Training\n",
      "epoch: 00, loss: -0.86245\n",
      "epoch: 01, loss: -0.91696\n",
      "epoch: 02, loss: -0.93108\n",
      "epoch: 03, loss: -0.93950\n",
      "epoch: 04, loss: -0.94513\n",
      "epoch: 05, loss: -0.94923\n",
      "epoch: 06, loss: -0.95238\n",
      "epoch: 07, loss: -0.95502\n",
      "epoch: 08, loss: -0.95704\n",
      "epoch: 09, loss: -0.95891\n",
      "torch.Size([1024, 64])\n"
     ]
    },
    {
     "name": "stderr",
     "output_type": "stream",
     "text": [
      " 32%|███▏      | 317/999 [6:34:01<13:31:46, 71.42s/it]"
     ]
    },
    {
     "name": "stdout",
     "output_type": "stream",
     "text": [
      "eigenvalues shape torch.Size([5]) eigenvectors shape torch.Size([5, 1024])\n",
      "317 /home/phdcs2/Hard_Disk/Datasets/Deep-Spectral-Segmentation/data/object-segmentation/ECSSD/features/0319_resized.pth\n",
      "dict_keys(['k', 'indices', 'file', 'id', 'model_name', 'patch_size', 'shape'])\n",
      "0319_resized\n",
      "Starting Training\n",
      "epoch: 00, loss: -0.87950\n",
      "epoch: 01, loss: -0.92793\n",
      "epoch: 02, loss: -0.94005\n",
      "epoch: 03, loss: -0.94726\n",
      "epoch: 04, loss: -0.95188\n",
      "epoch: 05, loss: -0.95517\n",
      "epoch: 06, loss: -0.95804\n",
      "epoch: 07, loss: -0.96023\n",
      "epoch: 08, loss: -0.96202\n",
      "epoch: 09, loss: -0.96359\n",
      "torch.Size([1024, 64])\n"
     ]
    },
    {
     "name": "stderr",
     "output_type": "stream",
     "text": [
      " 32%|███▏      | 318/999 [6:35:12<13:28:16, 71.21s/it]"
     ]
    },
    {
     "name": "stdout",
     "output_type": "stream",
     "text": [
      "eigenvalues shape torch.Size([5]) eigenvectors shape torch.Size([5, 1024])\n",
      "318 /home/phdcs2/Hard_Disk/Datasets/Deep-Spectral-Segmentation/data/object-segmentation/ECSSD/features/0320_resized.pth\n",
      "dict_keys(['k', 'indices', 'file', 'id', 'model_name', 'patch_size', 'shape'])\n",
      "0320_resized\n",
      "Starting Training\n",
      "epoch: 00, loss: -0.89094\n",
      "epoch: 01, loss: -0.93310\n",
      "epoch: 02, loss: -0.94428\n",
      "epoch: 03, loss: -0.95092\n",
      "epoch: 04, loss: -0.95526\n",
      "epoch: 05, loss: -0.95850\n",
      "epoch: 06, loss: -0.96102\n",
      "epoch: 07, loss: -0.96298\n",
      "epoch: 08, loss: -0.96485\n",
      "epoch: 09, loss: -0.96622\n",
      "torch.Size([1024, 64])\n"
     ]
    },
    {
     "name": "stderr",
     "output_type": "stream",
     "text": [
      " 32%|███▏      | 319/999 [6:36:15<12:59:31, 68.78s/it]"
     ]
    },
    {
     "name": "stdout",
     "output_type": "stream",
     "text": [
      "eigenvalues shape torch.Size([5]) eigenvectors shape torch.Size([5, 1024])\n",
      "319 /home/phdcs2/Hard_Disk/Datasets/Deep-Spectral-Segmentation/data/object-segmentation/ECSSD/features/0321_resized.pth\n",
      "dict_keys(['k', 'indices', 'file', 'id', 'model_name', 'patch_size', 'shape'])\n",
      "0321_resized\n",
      "Starting Training\n",
      "epoch: 00, loss: -0.88813\n",
      "epoch: 01, loss: -0.93374\n",
      "epoch: 02, loss: -0.94555\n",
      "epoch: 03, loss: -0.95237\n",
      "epoch: 04, loss: -0.95688\n",
      "epoch: 05, loss: -0.96024\n",
      "epoch: 06, loss: -0.96285\n",
      "epoch: 07, loss: -0.96493\n",
      "epoch: 08, loss: -0.96669\n",
      "epoch: 09, loss: -0.96813\n",
      "torch.Size([1024, 64])\n"
     ]
    },
    {
     "name": "stderr",
     "output_type": "stream",
     "text": [
      " 32%|███▏      | 320/999 [6:37:15<12:27:35, 66.06s/it]"
     ]
    },
    {
     "name": "stdout",
     "output_type": "stream",
     "text": [
      "eigenvalues shape torch.Size([5]) eigenvectors shape torch.Size([5, 1024])\n",
      "320 /home/phdcs2/Hard_Disk/Datasets/Deep-Spectral-Segmentation/data/object-segmentation/ECSSD/features/0322_resized.pth\n",
      "dict_keys(['k', 'indices', 'file', 'id', 'model_name', 'patch_size', 'shape'])\n",
      "0322_resized\n",
      "Starting Training\n",
      "epoch: 00, loss: -0.93571\n",
      "epoch: 01, loss: -0.96138\n",
      "epoch: 02, loss: -0.96751\n",
      "epoch: 03, loss: -0.97108\n",
      "epoch: 04, loss: -0.97353\n",
      "epoch: 05, loss: -0.97538\n",
      "epoch: 06, loss: -0.97681\n",
      "epoch: 07, loss: -0.97800\n",
      "epoch: 08, loss: -0.97895\n",
      "epoch: 09, loss: -0.97980\n",
      "torch.Size([1024, 64])\n"
     ]
    },
    {
     "name": "stderr",
     "output_type": "stream",
     "text": [
      " 32%|███▏      | 321/999 [6:38:25<12:40:08, 67.27s/it]"
     ]
    },
    {
     "name": "stdout",
     "output_type": "stream",
     "text": [
      "eigenvalues shape torch.Size([5]) eigenvectors shape torch.Size([5, 1024])\n",
      "321 /home/phdcs2/Hard_Disk/Datasets/Deep-Spectral-Segmentation/data/object-segmentation/ECSSD/features/0323_resized.pth\n",
      "dict_keys(['k', 'indices', 'file', 'id', 'model_name', 'patch_size', 'shape'])\n",
      "0323_resized\n",
      "Starting Training\n",
      "epoch: 00, loss: -0.90073\n",
      "epoch: 01, loss: -0.93807\n",
      "epoch: 02, loss: -0.94777\n",
      "epoch: 03, loss: -0.95346\n",
      "epoch: 04, loss: -0.95734\n",
      "epoch: 05, loss: -0.96027\n",
      "epoch: 06, loss: -0.96250\n",
      "epoch: 07, loss: -0.96436\n",
      "epoch: 08, loss: -0.96592\n",
      "epoch: 09, loss: -0.96727\n",
      "torch.Size([1024, 64])\n"
     ]
    },
    {
     "name": "stderr",
     "output_type": "stream",
     "text": [
      " 32%|███▏      | 322/999 [6:39:28<12:23:46, 65.92s/it]"
     ]
    },
    {
     "name": "stdout",
     "output_type": "stream",
     "text": [
      "eigenvalues shape torch.Size([5]) eigenvectors shape torch.Size([5, 1024])\n",
      "322 /home/phdcs2/Hard_Disk/Datasets/Deep-Spectral-Segmentation/data/object-segmentation/ECSSD/features/0324_resized.pth\n",
      "dict_keys(['k', 'indices', 'file', 'id', 'model_name', 'patch_size', 'shape'])\n",
      "0324_resized\n"
     ]
    },
    {
     "name": "stderr",
     "output_type": "stream",
     "text": [
      "/home/phdcs2/Hard_Disk/Projects/T2I/deep-spectral-segmentation/venv/lib/python3.8/site-packages/sklearn/decomposition/_pca.py:642: RuntimeWarning: invalid value encountered in divide\n",
      "  self.explained_variance_ratio_ = self.explained_variance_ / total_var\n"
     ]
    },
    {
     "name": "stdout",
     "output_type": "stream",
     "text": [
      "Starting Training\n",
      "epoch: 00, loss: -0.91664\n",
      "epoch: 01, loss: -0.95412\n",
      "epoch: 02, loss: -0.96144\n",
      "epoch: 03, loss: -0.96565\n",
      "epoch: 04, loss: -0.96855\n",
      "epoch: 05, loss: -0.97066\n",
      "epoch: 06, loss: -0.97234\n",
      "epoch: 07, loss: -0.97368\n",
      "epoch: 08, loss: -0.97481\n",
      "epoch: 09, loss: -0.97580\n",
      "torch.Size([1024, 64])\n"
     ]
    },
    {
     "name": "stderr",
     "output_type": "stream",
     "text": [
      " 32%|███▏      | 323/999 [6:40:37<12:34:00, 66.92s/it]"
     ]
    },
    {
     "name": "stdout",
     "output_type": "stream",
     "text": [
      "eigenvalues shape torch.Size([5]) eigenvectors shape torch.Size([5, 1024])\n",
      "323 /home/phdcs2/Hard_Disk/Datasets/Deep-Spectral-Segmentation/data/object-segmentation/ECSSD/features/0325_resized.pth\n",
      "dict_keys(['k', 'indices', 'file', 'id', 'model_name', 'patch_size', 'shape'])\n",
      "0325_resized\n",
      "Starting Training\n",
      "epoch: 00, loss: -0.92629\n",
      "epoch: 01, loss: -0.95524\n",
      "epoch: 02, loss: -0.96200\n",
      "epoch: 03, loss: -0.96590\n",
      "epoch: 04, loss: -0.96864\n",
      "epoch: 05, loss: -0.97064\n",
      "epoch: 06, loss: -0.97226\n",
      "epoch: 07, loss: -0.97355\n",
      "epoch: 08, loss: -0.97467\n",
      "epoch: 09, loss: -0.97559\n",
      "torch.Size([1024, 64])\n"
     ]
    },
    {
     "name": "stderr",
     "output_type": "stream",
     "text": [
      " 32%|███▏      | 324/999 [6:41:50<12:51:45, 68.60s/it]"
     ]
    },
    {
     "name": "stdout",
     "output_type": "stream",
     "text": [
      "eigenvalues shape torch.Size([5]) eigenvectors shape torch.Size([5, 1024])\n",
      "324 /home/phdcs2/Hard_Disk/Datasets/Deep-Spectral-Segmentation/data/object-segmentation/ECSSD/features/0326_resized.pth\n",
      "dict_keys(['k', 'indices', 'file', 'id', 'model_name', 'patch_size', 'shape'])\n",
      "0326_resized\n",
      "Starting Training\n",
      "epoch: 00, loss: -0.93161\n",
      "epoch: 01, loss: -0.95932\n",
      "epoch: 02, loss: -0.96553\n",
      "epoch: 03, loss: -0.96911\n",
      "epoch: 04, loss: -0.97159\n",
      "epoch: 05, loss: -0.97343\n",
      "epoch: 06, loss: -0.97489\n",
      "epoch: 07, loss: -0.97607\n",
      "epoch: 08, loss: -0.97706\n",
      "epoch: 09, loss: -0.97792\n",
      "torch.Size([1024, 64])\n"
     ]
    },
    {
     "name": "stderr",
     "output_type": "stream",
     "text": [
      " 33%|███▎      | 325/999 [6:42:57<12:44:43, 68.08s/it]"
     ]
    },
    {
     "name": "stdout",
     "output_type": "stream",
     "text": [
      "eigenvalues shape torch.Size([5]) eigenvectors shape torch.Size([5, 1024])\n",
      "325 /home/phdcs2/Hard_Disk/Datasets/Deep-Spectral-Segmentation/data/object-segmentation/ECSSD/features/0327_resized.pth\n",
      "dict_keys(['k', 'indices', 'file', 'id', 'model_name', 'patch_size', 'shape'])\n",
      "0327_resized\n",
      "Starting Training\n",
      "epoch: 00, loss: -0.84772\n",
      "epoch: 01, loss: -0.90887\n",
      "epoch: 02, loss: -0.92420\n",
      "epoch: 03, loss: -0.93274\n",
      "epoch: 04, loss: -0.93859\n",
      "epoch: 05, loss: -0.94290\n",
      "epoch: 06, loss: -0.94612\n",
      "epoch: 07, loss: -0.94890\n",
      "epoch: 08, loss: -0.95114\n",
      "epoch: 09, loss: -0.95305\n",
      "torch.Size([1024, 64])\n"
     ]
    },
    {
     "name": "stderr",
     "output_type": "stream",
     "text": [
      " 33%|███▎      | 326/999 [6:44:12<13:10:11, 70.45s/it]"
     ]
    },
    {
     "name": "stdout",
     "output_type": "stream",
     "text": [
      "eigenvalues shape torch.Size([5]) eigenvectors shape torch.Size([5, 1024])\n",
      "326 /home/phdcs2/Hard_Disk/Datasets/Deep-Spectral-Segmentation/data/object-segmentation/ECSSD/features/0328_resized.pth\n",
      "dict_keys(['k', 'indices', 'file', 'id', 'model_name', 'patch_size', 'shape'])\n",
      "0328_resized\n",
      "Starting Training\n",
      "epoch: 00, loss: -0.86369\n",
      "epoch: 01, loss: -0.91887\n",
      "epoch: 02, loss: -0.93314\n",
      "epoch: 03, loss: -0.94117\n",
      "epoch: 04, loss: -0.94640\n",
      "epoch: 05, loss: -0.95039\n",
      "epoch: 06, loss: -0.95355\n",
      "epoch: 07, loss: -0.95606\n",
      "epoch: 08, loss: -0.95811\n",
      "epoch: 09, loss: -0.95987\n",
      "torch.Size([1024, 64])\n"
     ]
    },
    {
     "name": "stderr",
     "output_type": "stream",
     "text": [
      " 33%|███▎      | 327/999 [6:45:27<13:23:15, 71.72s/it]"
     ]
    },
    {
     "name": "stdout",
     "output_type": "stream",
     "text": [
      "eigenvalues shape torch.Size([5]) eigenvectors shape torch.Size([5, 1024])\n",
      "327 /home/phdcs2/Hard_Disk/Datasets/Deep-Spectral-Segmentation/data/object-segmentation/ECSSD/features/0329_resized.pth\n",
      "dict_keys(['k', 'indices', 'file', 'id', 'model_name', 'patch_size', 'shape'])\n",
      "0329_resized\n",
      "Starting Training\n",
      "epoch: 00, loss: -0.86614\n",
      "epoch: 01, loss: -0.92534\n",
      "epoch: 02, loss: -0.93867\n",
      "epoch: 03, loss: -0.94613\n",
      "epoch: 04, loss: -0.95113\n",
      "epoch: 05, loss: -0.95481\n",
      "epoch: 06, loss: -0.95772\n",
      "epoch: 07, loss: -0.96003\n",
      "epoch: 08, loss: -0.96198\n",
      "epoch: 09, loss: -0.96364\n",
      "torch.Size([1024, 64])\n"
     ]
    },
    {
     "name": "stderr",
     "output_type": "stream",
     "text": [
      " 33%|███▎      | 328/999 [6:46:39<13:21:48, 71.70s/it]"
     ]
    },
    {
     "name": "stdout",
     "output_type": "stream",
     "text": [
      "eigenvalues shape torch.Size([5]) eigenvectors shape torch.Size([5, 1024])\n",
      "328 /home/phdcs2/Hard_Disk/Datasets/Deep-Spectral-Segmentation/data/object-segmentation/ECSSD/features/0330_resized.pth\n",
      "dict_keys(['k', 'indices', 'file', 'id', 'model_name', 'patch_size', 'shape'])\n",
      "0330_resized\n",
      "Starting Training\n",
      "epoch: 00, loss: -0.93524\n",
      "epoch: 01, loss: -0.96091\n",
      "epoch: 02, loss: -0.96692\n",
      "epoch: 03, loss: -0.97039\n",
      "epoch: 04, loss: -0.97276\n",
      "epoch: 05, loss: -0.97448\n",
      "epoch: 06, loss: -0.97586\n",
      "epoch: 07, loss: -0.97696\n",
      "epoch: 08, loss: -0.97792\n",
      "epoch: 09, loss: -0.97869\n",
      "torch.Size([1024, 64])\n"
     ]
    },
    {
     "name": "stderr",
     "output_type": "stream",
     "text": [
      " 33%|███▎      | 329/999 [6:47:52<13:26:06, 72.19s/it]"
     ]
    },
    {
     "name": "stdout",
     "output_type": "stream",
     "text": [
      "eigenvalues shape torch.Size([5]) eigenvectors shape torch.Size([5, 1024])\n",
      "329 /home/phdcs2/Hard_Disk/Datasets/Deep-Spectral-Segmentation/data/object-segmentation/ECSSD/features/0331_resized.pth\n",
      "dict_keys(['k', 'indices', 'file', 'id', 'model_name', 'patch_size', 'shape'])\n",
      "0331_resized\n",
      "Starting Training\n",
      "epoch: 00, loss: -0.86556\n",
      "epoch: 01, loss: -0.92096\n",
      "epoch: 02, loss: -0.93523\n",
      "epoch: 03, loss: -0.94330\n",
      "epoch: 04, loss: -0.94865\n",
      "epoch: 05, loss: -0.95255\n",
      "epoch: 06, loss: -0.95562\n",
      "epoch: 07, loss: -0.95794\n",
      "epoch: 08, loss: -0.96005\n",
      "epoch: 09, loss: -0.96175\n",
      "torch.Size([1024, 64])\n"
     ]
    },
    {
     "name": "stderr",
     "output_type": "stream",
     "text": [
      " 33%|███▎      | 330/999 [6:49:06<13:31:00, 72.74s/it]"
     ]
    },
    {
     "name": "stdout",
     "output_type": "stream",
     "text": [
      "eigenvalues shape torch.Size([5]) eigenvectors shape torch.Size([5, 1024])\n",
      "330 /home/phdcs2/Hard_Disk/Datasets/Deep-Spectral-Segmentation/data/object-segmentation/ECSSD/features/0332_resized.pth\n",
      "dict_keys(['k', 'indices', 'file', 'id', 'model_name', 'patch_size', 'shape'])\n",
      "0332_resized\n",
      "Starting Training\n",
      "epoch: 00, loss: -0.85466\n",
      "epoch: 01, loss: -0.91197\n",
      "epoch: 02, loss: -0.92798\n",
      "epoch: 03, loss: -0.93693\n",
      "epoch: 04, loss: -0.94302\n",
      "epoch: 05, loss: -0.94739\n",
      "epoch: 06, loss: -0.95098\n",
      "epoch: 07, loss: -0.95361\n",
      "epoch: 08, loss: -0.95593\n",
      "epoch: 09, loss: -0.95802\n",
      "torch.Size([1024, 64])\n"
     ]
    },
    {
     "name": "stderr",
     "output_type": "stream",
     "text": [
      " 33%|███▎      | 331/999 [6:50:16<13:19:58, 71.85s/it]"
     ]
    },
    {
     "name": "stdout",
     "output_type": "stream",
     "text": [
      "eigenvalues shape torch.Size([5]) eigenvectors shape torch.Size([5, 1024])\n",
      "331 /home/phdcs2/Hard_Disk/Datasets/Deep-Spectral-Segmentation/data/object-segmentation/ECSSD/features/0333_resized.pth\n",
      "dict_keys(['k', 'indices', 'file', 'id', 'model_name', 'patch_size', 'shape'])\n",
      "0333_resized\n",
      "Starting Training\n",
      "epoch: 00, loss: -0.87546\n",
      "epoch: 01, loss: -0.92535\n",
      "epoch: 02, loss: -0.93791\n",
      "epoch: 03, loss: -0.94514\n",
      "epoch: 04, loss: -0.94978\n",
      "epoch: 05, loss: -0.95331\n",
      "epoch: 06, loss: -0.95615\n",
      "epoch: 07, loss: -0.95828\n",
      "epoch: 08, loss: -0.96029\n",
      "epoch: 09, loss: -0.96184\n",
      "torch.Size([1024, 64])\n"
     ]
    },
    {
     "name": "stderr",
     "output_type": "stream",
     "text": [
      " 33%|███▎      | 332/999 [6:51:17<12:41:06, 68.47s/it]"
     ]
    },
    {
     "name": "stdout",
     "output_type": "stream",
     "text": [
      "eigenvalues shape torch.Size([5]) eigenvectors shape torch.Size([5, 1024])\n",
      "332 /home/phdcs2/Hard_Disk/Datasets/Deep-Spectral-Segmentation/data/object-segmentation/ECSSD/features/0334_resized.pth\n",
      "dict_keys(['k', 'indices', 'file', 'id', 'model_name', 'patch_size', 'shape'])\n",
      "0334_resized\n",
      "Starting Training\n",
      "epoch: 00, loss: -0.87179\n",
      "epoch: 01, loss: -0.92308\n",
      "epoch: 02, loss: -0.93623\n",
      "epoch: 03, loss: -0.94372\n",
      "epoch: 04, loss: -0.94873\n",
      "epoch: 05, loss: -0.95234\n",
      "epoch: 06, loss: -0.95524\n",
      "epoch: 07, loss: -0.95750\n",
      "epoch: 08, loss: -0.95943\n",
      "epoch: 09, loss: -0.96104\n",
      "torch.Size([1024, 64])\n"
     ]
    },
    {
     "name": "stderr",
     "output_type": "stream",
     "text": [
      " 33%|███▎      | 333/999 [6:52:27<12:47:16, 69.12s/it]"
     ]
    },
    {
     "name": "stdout",
     "output_type": "stream",
     "text": [
      "eigenvalues shape torch.Size([5]) eigenvectors shape torch.Size([5, 1024])\n",
      "333 /home/phdcs2/Hard_Disk/Datasets/Deep-Spectral-Segmentation/data/object-segmentation/ECSSD/features/0335_resized.pth\n",
      "dict_keys(['k', 'indices', 'file', 'id', 'model_name', 'patch_size', 'shape'])\n",
      "0335_resized\n",
      "Starting Training\n",
      "epoch: 00, loss: -0.91890\n",
      "epoch: 01, loss: -0.95044\n",
      "epoch: 02, loss: -0.95802\n",
      "epoch: 03, loss: -0.96255\n",
      "epoch: 04, loss: -0.96563\n",
      "epoch: 05, loss: -0.96783\n",
      "epoch: 06, loss: -0.96965\n",
      "epoch: 07, loss: -0.97111\n",
      "epoch: 08, loss: -0.97237\n",
      "epoch: 09, loss: -0.97341\n",
      "torch.Size([1024, 64])\n"
     ]
    },
    {
     "name": "stderr",
     "output_type": "stream",
     "text": [
      " 33%|███▎      | 334/999 [6:53:35<12:42:05, 68.76s/it]"
     ]
    },
    {
     "name": "stdout",
     "output_type": "stream",
     "text": [
      "eigenvalues shape torch.Size([5]) eigenvectors shape torch.Size([5, 1024])\n",
      "334 /home/phdcs2/Hard_Disk/Datasets/Deep-Spectral-Segmentation/data/object-segmentation/ECSSD/features/0336_resized.pth\n",
      "dict_keys(['k', 'indices', 'file', 'id', 'model_name', 'patch_size', 'shape'])\n",
      "0336_resized\n",
      "Starting Training\n",
      "epoch: 00, loss: -0.93255\n",
      "epoch: 01, loss: -0.96011\n",
      "epoch: 02, loss: -0.96600\n",
      "epoch: 03, loss: -0.96938\n",
      "epoch: 04, loss: -0.97177\n",
      "epoch: 05, loss: -0.97355\n",
      "epoch: 06, loss: -0.97496\n",
      "epoch: 07, loss: -0.97610\n",
      "epoch: 08, loss: -0.97704\n",
      "epoch: 09, loss: -0.97784\n",
      "torch.Size([1024, 64])\n"
     ]
    },
    {
     "name": "stderr",
     "output_type": "stream",
     "text": [
      " 34%|███▎      | 335/999 [6:54:33<12:05:40, 65.57s/it]"
     ]
    },
    {
     "name": "stdout",
     "output_type": "stream",
     "text": [
      "eigenvalues shape torch.Size([5]) eigenvectors shape torch.Size([5, 1024])\n",
      "335 /home/phdcs2/Hard_Disk/Datasets/Deep-Spectral-Segmentation/data/object-segmentation/ECSSD/features/0337_resized.pth\n",
      "dict_keys(['k', 'indices', 'file', 'id', 'model_name', 'patch_size', 'shape'])\n",
      "0337_resized\n",
      "Starting Training\n",
      "epoch: 00, loss: -0.85927\n",
      "epoch: 01, loss: -0.91740\n",
      "epoch: 02, loss: -0.93194\n",
      "epoch: 03, loss: -0.93979\n",
      "epoch: 04, loss: -0.94497\n",
      "epoch: 05, loss: -0.94891\n",
      "epoch: 06, loss: -0.95188\n",
      "epoch: 07, loss: -0.95427\n",
      "epoch: 08, loss: -0.95625\n",
      "epoch: 09, loss: -0.95788\n",
      "torch.Size([1024, 64])\n"
     ]
    },
    {
     "name": "stderr",
     "output_type": "stream",
     "text": [
      " 34%|███▎      | 336/999 [6:55:30<11:36:12, 63.01s/it]"
     ]
    },
    {
     "name": "stdout",
     "output_type": "stream",
     "text": [
      "eigenvalues shape torch.Size([5]) eigenvectors shape torch.Size([5, 1024])\n",
      "336 /home/phdcs2/Hard_Disk/Datasets/Deep-Spectral-Segmentation/data/object-segmentation/ECSSD/features/0338_resized.pth\n",
      "dict_keys(['k', 'indices', 'file', 'id', 'model_name', 'patch_size', 'shape'])\n",
      "0338_resized\n",
      "Starting Training\n",
      "epoch: 00, loss: -0.91981\n",
      "epoch: 01, loss: -0.95290\n",
      "epoch: 02, loss: -0.95987\n",
      "epoch: 03, loss: -0.96397\n",
      "epoch: 04, loss: -0.96678\n",
      "epoch: 05, loss: -0.96888\n",
      "epoch: 06, loss: -0.97051\n",
      "epoch: 07, loss: -0.97184\n",
      "epoch: 08, loss: -0.97297\n",
      "epoch: 09, loss: -0.97393\n",
      "torch.Size([1024, 64])\n"
     ]
    },
    {
     "name": "stderr",
     "output_type": "stream",
     "text": [
      " 34%|███▎      | 337/999 [6:56:27<11:12:59, 61.00s/it]"
     ]
    },
    {
     "name": "stdout",
     "output_type": "stream",
     "text": [
      "eigenvalues shape torch.Size([5]) eigenvectors shape torch.Size([5, 1024])\n",
      "337 /home/phdcs2/Hard_Disk/Datasets/Deep-Spectral-Segmentation/data/object-segmentation/ECSSD/features/0339_resized.pth\n",
      "dict_keys(['k', 'indices', 'file', 'id', 'model_name', 'patch_size', 'shape'])\n",
      "0339_resized\n"
     ]
    },
    {
     "name": "stderr",
     "output_type": "stream",
     "text": [
      "/home/phdcs2/Hard_Disk/Projects/T2I/deep-spectral-segmentation/venv/lib/python3.8/site-packages/sklearn/decomposition/_pca.py:642: RuntimeWarning: invalid value encountered in divide\n",
      "  self.explained_variance_ratio_ = self.explained_variance_ / total_var\n"
     ]
    },
    {
     "name": "stdout",
     "output_type": "stream",
     "text": [
      "Starting Training\n",
      "epoch: 00, loss: -0.93624\n",
      "epoch: 01, loss: -0.96257\n",
      "epoch: 02, loss: -0.96827\n",
      "epoch: 03, loss: -0.97154\n",
      "epoch: 04, loss: -0.97381\n",
      "epoch: 05, loss: -0.97547\n",
      "epoch: 06, loss: -0.97678\n",
      "epoch: 07, loss: -0.97787\n",
      "epoch: 08, loss: -0.97876\n",
      "epoch: 09, loss: -0.97953\n",
      "torch.Size([1024, 64])\n"
     ]
    },
    {
     "name": "stderr",
     "output_type": "stream",
     "text": [
      " 34%|███▍      | 338/999 [6:57:30<11:18:25, 61.58s/it]"
     ]
    },
    {
     "name": "stdout",
     "output_type": "stream",
     "text": [
      "eigenvalues shape torch.Size([5]) eigenvectors shape torch.Size([5, 1024])\n",
      "338 /home/phdcs2/Hard_Disk/Datasets/Deep-Spectral-Segmentation/data/object-segmentation/ECSSD/features/0340_resized.pth\n",
      "dict_keys(['k', 'indices', 'file', 'id', 'model_name', 'patch_size', 'shape'])\n",
      "0340_resized\n",
      "Starting Training\n",
      "epoch: 00, loss: -0.85516\n",
      "epoch: 01, loss: -0.91581\n",
      "epoch: 02, loss: -0.93110\n",
      "epoch: 03, loss: -0.93975\n",
      "epoch: 04, loss: -0.94560\n",
      "epoch: 05, loss: -0.94987\n",
      "epoch: 06, loss: -0.95308\n",
      "epoch: 07, loss: -0.95569\n",
      "epoch: 08, loss: -0.95774\n",
      "epoch: 09, loss: -0.95961\n",
      "torch.Size([1024, 64])\n"
     ]
    },
    {
     "name": "stderr",
     "output_type": "stream",
     "text": [
      " 34%|███▍      | 339/999 [6:58:42<11:52:41, 64.79s/it]"
     ]
    },
    {
     "name": "stdout",
     "output_type": "stream",
     "text": [
      "eigenvalues shape torch.Size([5]) eigenvectors shape torch.Size([5, 1024])\n",
      "339 /home/phdcs2/Hard_Disk/Datasets/Deep-Spectral-Segmentation/data/object-segmentation/ECSSD/features/0341_resized.pth\n",
      "dict_keys(['k', 'indices', 'file', 'id', 'model_name', 'patch_size', 'shape'])\n",
      "0341_resized\n",
      "Starting Training\n",
      "epoch: 00, loss: -0.86286\n",
      "epoch: 01, loss: -0.92030\n",
      "epoch: 02, loss: -0.93417\n",
      "epoch: 03, loss: -0.94154\n",
      "epoch: 04, loss: -0.94658\n",
      "epoch: 05, loss: -0.95044\n",
      "epoch: 06, loss: -0.95349\n",
      "epoch: 07, loss: -0.95585\n",
      "epoch: 08, loss: -0.95782\n",
      "epoch: 09, loss: -0.95941\n",
      "torch.Size([1024, 64])\n"
     ]
    },
    {
     "name": "stderr",
     "output_type": "stream",
     "text": [
      " 34%|███▍      | 340/999 [6:59:56<12:22:00, 67.56s/it]"
     ]
    },
    {
     "name": "stdout",
     "output_type": "stream",
     "text": [
      "eigenvalues shape torch.Size([5]) eigenvectors shape torch.Size([5, 1024])\n",
      "340 /home/phdcs2/Hard_Disk/Datasets/Deep-Spectral-Segmentation/data/object-segmentation/ECSSD/features/0342_resized.pth\n",
      "dict_keys(['k', 'indices', 'file', 'id', 'model_name', 'patch_size', 'shape'])\n",
      "0342_resized\n"
     ]
    },
    {
     "name": "stderr",
     "output_type": "stream",
     "text": [
      "/home/phdcs2/Hard_Disk/Projects/T2I/deep-spectral-segmentation/venv/lib/python3.8/site-packages/sklearn/decomposition/_pca.py:642: RuntimeWarning: invalid value encountered in divide\n",
      "  self.explained_variance_ratio_ = self.explained_variance_ / total_var\n"
     ]
    },
    {
     "name": "stdout",
     "output_type": "stream",
     "text": [
      "Starting Training\n",
      "epoch: 00, loss: -0.91474\n",
      "epoch: 01, loss: -0.94881\n",
      "epoch: 02, loss: -0.95645\n",
      "epoch: 03, loss: -0.96083\n",
      "epoch: 04, loss: -0.96388\n",
      "epoch: 05, loss: -0.96615\n",
      "epoch: 06, loss: -0.96795\n",
      "epoch: 07, loss: -0.96942\n",
      "epoch: 08, loss: -0.97063\n",
      "epoch: 09, loss: -0.97167\n",
      "torch.Size([1024, 64])\n"
     ]
    },
    {
     "name": "stderr",
     "output_type": "stream",
     "text": [
      " 34%|███▍      | 341/999 [7:01:04<12:22:18, 67.69s/it]"
     ]
    },
    {
     "name": "stdout",
     "output_type": "stream",
     "text": [
      "eigenvalues shape torch.Size([5]) eigenvectors shape torch.Size([5, 1024])\n",
      "341 /home/phdcs2/Hard_Disk/Datasets/Deep-Spectral-Segmentation/data/object-segmentation/ECSSD/features/0343_resized.pth\n",
      "dict_keys(['k', 'indices', 'file', 'id', 'model_name', 'patch_size', 'shape'])\n",
      "0343_resized\n"
     ]
    },
    {
     "name": "stderr",
     "output_type": "stream",
     "text": [
      "/home/phdcs2/Hard_Disk/Projects/T2I/deep-spectral-segmentation/venv/lib/python3.8/site-packages/sklearn/decomposition/_pca.py:642: RuntimeWarning: invalid value encountered in divide\n",
      "  self.explained_variance_ratio_ = self.explained_variance_ / total_var\n"
     ]
    },
    {
     "name": "stdout",
     "output_type": "stream",
     "text": [
      "Starting Training\n",
      "epoch: 00, loss: -0.91068\n",
      "epoch: 01, loss: -0.94595\n",
      "epoch: 02, loss: -0.95490\n",
      "epoch: 03, loss: -0.96005\n",
      "epoch: 04, loss: -0.96356\n",
      "epoch: 05, loss: -0.96610\n",
      "epoch: 06, loss: -0.96814\n",
      "epoch: 07, loss: -0.96977\n",
      "epoch: 08, loss: -0.97112\n",
      "epoch: 09, loss: -0.97229\n",
      "torch.Size([1024, 64])\n"
     ]
    },
    {
     "name": "stderr",
     "output_type": "stream",
     "text": [
      " 34%|███▍      | 342/999 [7:02:11<12:18:22, 67.43s/it]"
     ]
    },
    {
     "name": "stdout",
     "output_type": "stream",
     "text": [
      "eigenvalues shape torch.Size([5]) eigenvectors shape torch.Size([5, 1024])\n",
      "342 /home/phdcs2/Hard_Disk/Datasets/Deep-Spectral-Segmentation/data/object-segmentation/ECSSD/features/0344_resized.pth\n",
      "dict_keys(['k', 'indices', 'file', 'id', 'model_name', 'patch_size', 'shape'])\n",
      "0344_resized\n",
      "Starting Training\n",
      "epoch: 00, loss: -0.92596\n",
      "epoch: 01, loss: -0.95572\n",
      "epoch: 02, loss: -0.96275\n",
      "epoch: 03, loss: -0.96675\n",
      "epoch: 04, loss: -0.96946\n",
      "epoch: 05, loss: -0.97150\n",
      "epoch: 06, loss: -0.97308\n",
      "epoch: 07, loss: -0.97436\n",
      "epoch: 08, loss: -0.97545\n",
      "epoch: 09, loss: -0.97635\n",
      "torch.Size([1024, 64])\n"
     ]
    },
    {
     "name": "stderr",
     "output_type": "stream",
     "text": [
      " 34%|███▍      | 343/999 [7:03:13<12:01:27, 65.99s/it]"
     ]
    },
    {
     "name": "stdout",
     "output_type": "stream",
     "text": [
      "eigenvalues shape torch.Size([5]) eigenvectors shape torch.Size([5, 1024])\n",
      "343 /home/phdcs2/Hard_Disk/Datasets/Deep-Spectral-Segmentation/data/object-segmentation/ECSSD/features/0345_resized.pth\n",
      "dict_keys(['k', 'indices', 'file', 'id', 'model_name', 'patch_size', 'shape'])\n",
      "0345_resized\n",
      "Starting Training\n",
      "epoch: 00, loss: -0.87241\n",
      "epoch: 01, loss: -0.92457\n",
      "epoch: 02, loss: -0.93755\n",
      "epoch: 03, loss: -0.94498\n",
      "epoch: 04, loss: -0.94994\n",
      "epoch: 05, loss: -0.95347\n",
      "epoch: 06, loss: -0.95642\n",
      "epoch: 07, loss: -0.95869\n",
      "epoch: 08, loss: -0.96053\n",
      "epoch: 09, loss: -0.96223\n",
      "torch.Size([1024, 64])\n"
     ]
    },
    {
     "name": "stderr",
     "output_type": "stream",
     "text": [
      " 34%|███▍      | 344/999 [7:04:27<12:26:19, 68.37s/it]"
     ]
    },
    {
     "name": "stdout",
     "output_type": "stream",
     "text": [
      "eigenvalues shape torch.Size([5]) eigenvectors shape torch.Size([5, 1024])\n",
      "344 /home/phdcs2/Hard_Disk/Datasets/Deep-Spectral-Segmentation/data/object-segmentation/ECSSD/features/0346_resized.pth\n",
      "dict_keys(['k', 'indices', 'file', 'id', 'model_name', 'patch_size', 'shape'])\n",
      "0346_resized\n"
     ]
    },
    {
     "name": "stderr",
     "output_type": "stream",
     "text": [
      "/home/phdcs2/Hard_Disk/Projects/T2I/deep-spectral-segmentation/venv/lib/python3.8/site-packages/sklearn/decomposition/_pca.py:642: RuntimeWarning: invalid value encountered in divide\n",
      "  self.explained_variance_ratio_ = self.explained_variance_ / total_var\n"
     ]
    },
    {
     "name": "stdout",
     "output_type": "stream",
     "text": [
      "Starting Training\n",
      "epoch: 00, loss: -0.91767\n",
      "epoch: 01, loss: -0.94860\n",
      "epoch: 02, loss: -0.95587\n",
      "epoch: 03, loss: -0.96027\n",
      "epoch: 04, loss: -0.96322\n",
      "epoch: 05, loss: -0.96549\n",
      "epoch: 06, loss: -0.96728\n",
      "epoch: 07, loss: -0.96875\n",
      "epoch: 08, loss: -0.97001\n",
      "epoch: 09, loss: -0.97105\n",
      "torch.Size([1024, 64])\n"
     ]
    },
    {
     "name": "stderr",
     "output_type": "stream",
     "text": [
      " 35%|███▍      | 345/999 [7:05:41<12:43:53, 70.08s/it]"
     ]
    },
    {
     "name": "stdout",
     "output_type": "stream",
     "text": [
      "eigenvalues shape torch.Size([5]) eigenvectors shape torch.Size([5, 1024])\n",
      "345 /home/phdcs2/Hard_Disk/Datasets/Deep-Spectral-Segmentation/data/object-segmentation/ECSSD/features/0347_resized.pth\n",
      "dict_keys(['k', 'indices', 'file', 'id', 'model_name', 'patch_size', 'shape'])\n",
      "0347_resized\n",
      "Starting Training\n",
      "epoch: 00, loss: -0.86022\n",
      "epoch: 01, loss: -0.91968\n",
      "epoch: 02, loss: -0.93389\n",
      "epoch: 03, loss: -0.94205\n",
      "epoch: 04, loss: -0.94749\n",
      "epoch: 05, loss: -0.95153\n",
      "epoch: 06, loss: -0.95457\n",
      "epoch: 07, loss: -0.95701\n",
      "epoch: 08, loss: -0.95900\n",
      "epoch: 09, loss: -0.96069\n",
      "torch.Size([1024, 64])\n"
     ]
    },
    {
     "name": "stderr",
     "output_type": "stream",
     "text": [
      " 35%|███▍      | 346/999 [7:06:53<12:46:52, 70.46s/it]"
     ]
    },
    {
     "name": "stdout",
     "output_type": "stream",
     "text": [
      "eigenvalues shape torch.Size([5]) eigenvectors shape torch.Size([5, 1024])\n",
      "346 /home/phdcs2/Hard_Disk/Datasets/Deep-Spectral-Segmentation/data/object-segmentation/ECSSD/features/0348_resized.pth\n",
      "dict_keys(['k', 'indices', 'file', 'id', 'model_name', 'patch_size', 'shape'])\n",
      "0348_resized\n",
      "Starting Training\n",
      "epoch: 00, loss: -0.85097\n",
      "epoch: 01, loss: -0.91382\n",
      "epoch: 02, loss: -0.92856\n",
      "epoch: 03, loss: -0.93699\n",
      "epoch: 04, loss: -0.94264\n",
      "epoch: 05, loss: -0.94697\n",
      "epoch: 06, loss: -0.95010\n",
      "epoch: 07, loss: -0.95269\n",
      "epoch: 08, loss: -0.95482\n",
      "epoch: 09, loss: -0.95665\n",
      "torch.Size([1024, 64])\n"
     ]
    },
    {
     "name": "stderr",
     "output_type": "stream",
     "text": [
      " 35%|███▍      | 347/999 [7:08:05<12:52:02, 71.05s/it]"
     ]
    },
    {
     "name": "stdout",
     "output_type": "stream",
     "text": [
      "eigenvalues shape torch.Size([5]) eigenvectors shape torch.Size([5, 1024])\n",
      "347 /home/phdcs2/Hard_Disk/Datasets/Deep-Spectral-Segmentation/data/object-segmentation/ECSSD/features/0349_resized.pth\n",
      "dict_keys(['k', 'indices', 'file', 'id', 'model_name', 'patch_size', 'shape'])\n",
      "0349_resized\n"
     ]
    },
    {
     "name": "stderr",
     "output_type": "stream",
     "text": [
      "/home/phdcs2/Hard_Disk/Projects/T2I/deep-spectral-segmentation/venv/lib/python3.8/site-packages/sklearn/decomposition/_pca.py:642: RuntimeWarning: invalid value encountered in divide\n",
      "  self.explained_variance_ratio_ = self.explained_variance_ / total_var\n"
     ]
    },
    {
     "name": "stdout",
     "output_type": "stream",
     "text": [
      "Starting Training\n",
      "epoch: 00, loss: -0.93264\n",
      "epoch: 01, loss: -0.95879\n",
      "epoch: 02, loss: -0.96474\n",
      "epoch: 03, loss: -0.96828\n",
      "epoch: 04, loss: -0.97071\n",
      "epoch: 05, loss: -0.97253\n",
      "epoch: 06, loss: -0.97401\n",
      "epoch: 07, loss: -0.97517\n",
      "epoch: 08, loss: -0.97616\n",
      "epoch: 09, loss: -0.97703\n",
      "torch.Size([1024, 64])\n"
     ]
    },
    {
     "name": "stderr",
     "output_type": "stream",
     "text": [
      " 35%|███▍      | 348/999 [7:09:11<12:33:47, 69.47s/it]"
     ]
    },
    {
     "name": "stdout",
     "output_type": "stream",
     "text": [
      "eigenvalues shape torch.Size([5]) eigenvectors shape torch.Size([5, 1024])\n",
      "348 /home/phdcs2/Hard_Disk/Datasets/Deep-Spectral-Segmentation/data/object-segmentation/ECSSD/features/0350_resized.pth\n",
      "dict_keys(['k', 'indices', 'file', 'id', 'model_name', 'patch_size', 'shape'])\n",
      "0350_resized\n",
      "Starting Training\n",
      "epoch: 00, loss: -0.86638\n",
      "epoch: 01, loss: -0.92032\n",
      "epoch: 02, loss: -0.93360\n",
      "epoch: 03, loss: -0.94127\n",
      "epoch: 04, loss: -0.94654\n",
      "epoch: 05, loss: -0.95015\n",
      "epoch: 06, loss: -0.95315\n",
      "epoch: 07, loss: -0.95555\n",
      "epoch: 08, loss: -0.95757\n",
      "epoch: 09, loss: -0.95922\n",
      "torch.Size([1024, 64])\n"
     ]
    },
    {
     "name": "stderr",
     "output_type": "stream",
     "text": [
      " 35%|███▍      | 349/999 [7:10:14<12:13:15, 67.69s/it]"
     ]
    },
    {
     "name": "stdout",
     "output_type": "stream",
     "text": [
      "eigenvalues shape torch.Size([5]) eigenvectors shape torch.Size([5, 1024])\n",
      "349 /home/phdcs2/Hard_Disk/Datasets/Deep-Spectral-Segmentation/data/object-segmentation/ECSSD/features/0351_resized.pth\n",
      "dict_keys(['k', 'indices', 'file', 'id', 'model_name', 'patch_size', 'shape'])\n",
      "0351_resized\n",
      "Starting Training\n",
      "epoch: 00, loss: -0.87948\n",
      "epoch: 01, loss: -0.92645\n",
      "epoch: 02, loss: -0.93945\n",
      "epoch: 03, loss: -0.94686\n",
      "epoch: 04, loss: -0.95178\n",
      "epoch: 05, loss: -0.95548\n",
      "epoch: 06, loss: -0.95831\n",
      "epoch: 07, loss: -0.96063\n",
      "epoch: 08, loss: -0.96250\n",
      "epoch: 09, loss: -0.96404\n",
      "torch.Size([1024, 64])\n"
     ]
    },
    {
     "name": "stderr",
     "output_type": "stream",
     "text": [
      " 35%|███▌      | 350/999 [7:11:25<12:22:07, 68.61s/it]"
     ]
    },
    {
     "name": "stdout",
     "output_type": "stream",
     "text": [
      "eigenvalues shape torch.Size([5]) eigenvectors shape torch.Size([5, 1024])\n",
      "350 /home/phdcs2/Hard_Disk/Datasets/Deep-Spectral-Segmentation/data/object-segmentation/ECSSD/features/0352_resized.pth\n",
      "dict_keys(['k', 'indices', 'file', 'id', 'model_name', 'patch_size', 'shape'])\n",
      "0352_resized\n",
      "Starting Training\n",
      "epoch: 00, loss: -0.85442\n",
      "epoch: 01, loss: -0.91678\n",
      "epoch: 02, loss: -0.93260\n",
      "epoch: 03, loss: -0.94119\n",
      "epoch: 04, loss: -0.94677\n",
      "epoch: 05, loss: -0.95089\n",
      "epoch: 06, loss: -0.95405\n",
      "epoch: 07, loss: -0.95661\n",
      "epoch: 08, loss: -0.95863\n",
      "epoch: 09, loss: -0.96045\n",
      "torch.Size([1024, 64])\n"
     ]
    },
    {
     "name": "stderr",
     "output_type": "stream",
     "text": [
      " 35%|███▌      | 351/999 [7:12:33<12:20:05, 68.53s/it]"
     ]
    },
    {
     "name": "stdout",
     "output_type": "stream",
     "text": [
      "eigenvalues shape torch.Size([5]) eigenvectors shape torch.Size([5, 1024])\n",
      "351 /home/phdcs2/Hard_Disk/Datasets/Deep-Spectral-Segmentation/data/object-segmentation/ECSSD/features/0353_resized.pth\n",
      "dict_keys(['k', 'indices', 'file', 'id', 'model_name', 'patch_size', 'shape'])\n",
      "0353_resized\n"
     ]
    },
    {
     "name": "stderr",
     "output_type": "stream",
     "text": [
      "/home/phdcs2/Hard_Disk/Projects/T2I/deep-spectral-segmentation/venv/lib/python3.8/site-packages/sklearn/decomposition/_pca.py:642: RuntimeWarning: invalid value encountered in divide\n",
      "  self.explained_variance_ratio_ = self.explained_variance_ / total_var\n"
     ]
    },
    {
     "name": "stdout",
     "output_type": "stream",
     "text": [
      "Starting Training\n",
      "epoch: 00, loss: -0.92926\n",
      "epoch: 01, loss: -0.95895\n",
      "epoch: 02, loss: -0.96499\n",
      "epoch: 03, loss: -0.96854\n",
      "epoch: 04, loss: -0.97099\n",
      "epoch: 05, loss: -0.97284\n",
      "epoch: 06, loss: -0.97430\n",
      "epoch: 07, loss: -0.97547\n",
      "epoch: 08, loss: -0.97647\n",
      "epoch: 09, loss: -0.97733\n",
      "torch.Size([1024, 64])\n"
     ]
    },
    {
     "name": "stderr",
     "output_type": "stream",
     "text": [
      " 35%|███▌      | 352/999 [7:13:39<12:10:33, 67.75s/it]"
     ]
    },
    {
     "name": "stdout",
     "output_type": "stream",
     "text": [
      "eigenvalues shape torch.Size([5]) eigenvectors shape torch.Size([5, 1024])\n",
      "352 /home/phdcs2/Hard_Disk/Datasets/Deep-Spectral-Segmentation/data/object-segmentation/ECSSD/features/0354_resized.pth\n",
      "dict_keys(['k', 'indices', 'file', 'id', 'model_name', 'patch_size', 'shape'])\n",
      "0354_resized\n",
      "Starting Training\n",
      "epoch: 00, loss: -0.88142\n",
      "epoch: 01, loss: -0.93124\n",
      "epoch: 02, loss: -0.94245\n",
      "epoch: 03, loss: -0.94897\n",
      "epoch: 04, loss: -0.95344\n",
      "epoch: 05, loss: -0.95661\n",
      "epoch: 06, loss: -0.95910\n",
      "epoch: 07, loss: -0.96104\n",
      "epoch: 08, loss: -0.96264\n",
      "epoch: 09, loss: -0.96399\n",
      "torch.Size([1024, 64])\n"
     ]
    },
    {
     "name": "stderr",
     "output_type": "stream",
     "text": [
      " 35%|███▌      | 353/999 [7:14:45<12:02:13, 67.08s/it]"
     ]
    },
    {
     "name": "stdout",
     "output_type": "stream",
     "text": [
      "eigenvalues shape torch.Size([5]) eigenvectors shape torch.Size([5, 1024])\n",
      "353 /home/phdcs2/Hard_Disk/Datasets/Deep-Spectral-Segmentation/data/object-segmentation/ECSSD/features/0355_resized.pth\n",
      "dict_keys(['k', 'indices', 'file', 'id', 'model_name', 'patch_size', 'shape'])\n",
      "0355_resized\n"
     ]
    },
    {
     "name": "stderr",
     "output_type": "stream",
     "text": [
      "/home/phdcs2/Hard_Disk/Projects/T2I/deep-spectral-segmentation/venv/lib/python3.8/site-packages/sklearn/decomposition/_pca.py:642: RuntimeWarning: invalid value encountered in divide\n",
      "  self.explained_variance_ratio_ = self.explained_variance_ / total_var\n"
     ]
    },
    {
     "name": "stdout",
     "output_type": "stream",
     "text": [
      "Starting Training\n",
      "epoch: 00, loss: -0.91870\n",
      "epoch: 01, loss: -0.95205\n",
      "epoch: 02, loss: -0.96001\n",
      "epoch: 03, loss: -0.96461\n",
      "epoch: 04, loss: -0.96772\n",
      "epoch: 05, loss: -0.97005\n",
      "epoch: 06, loss: -0.97186\n",
      "epoch: 07, loss: -0.97333\n",
      "epoch: 08, loss: -0.97454\n",
      "epoch: 09, loss: -0.97558\n",
      "torch.Size([1024, 64])\n"
     ]
    },
    {
     "name": "stderr",
     "output_type": "stream",
     "text": [
      " 35%|███▌      | 354/999 [7:15:56<12:13:29, 68.23s/it]"
     ]
    },
    {
     "name": "stdout",
     "output_type": "stream",
     "text": [
      "eigenvalues shape torch.Size([5]) eigenvectors shape torch.Size([5, 1024])\n",
      "354 /home/phdcs2/Hard_Disk/Datasets/Deep-Spectral-Segmentation/data/object-segmentation/ECSSD/features/0356_resized.pth\n",
      "dict_keys(['k', 'indices', 'file', 'id', 'model_name', 'patch_size', 'shape'])\n",
      "0356_resized\n",
      "Starting Training\n",
      "epoch: 00, loss: -0.86013\n",
      "epoch: 01, loss: -0.91877\n",
      "epoch: 02, loss: -0.93361\n",
      "epoch: 03, loss: -0.94190\n",
      "epoch: 04, loss: -0.94764\n",
      "epoch: 05, loss: -0.95182\n",
      "epoch: 06, loss: -0.95512\n",
      "epoch: 07, loss: -0.95756\n",
      "epoch: 08, loss: -0.95965\n",
      "epoch: 09, loss: -0.96140\n",
      "torch.Size([1024, 64])\n"
     ]
    },
    {
     "name": "stderr",
     "output_type": "stream",
     "text": [
      " 36%|███▌      | 355/999 [7:17:06<12:17:45, 68.74s/it]"
     ]
    },
    {
     "name": "stdout",
     "output_type": "stream",
     "text": [
      "eigenvalues shape torch.Size([5]) eigenvectors shape torch.Size([5, 1024])\n",
      "355 /home/phdcs2/Hard_Disk/Datasets/Deep-Spectral-Segmentation/data/object-segmentation/ECSSD/features/0357_resized.pth\n",
      "dict_keys(['k', 'indices', 'file', 'id', 'model_name', 'patch_size', 'shape'])\n",
      "0357_resized\n",
      "Starting Training\n",
      "epoch: 00, loss: -0.87863\n",
      "epoch: 01, loss: -0.92632\n",
      "epoch: 02, loss: -0.93949\n",
      "epoch: 03, loss: -0.94663\n",
      "epoch: 04, loss: -0.95165\n",
      "epoch: 05, loss: -0.95524\n",
      "epoch: 06, loss: -0.95801\n",
      "epoch: 07, loss: -0.96031\n",
      "epoch: 08, loss: -0.96223\n",
      "epoch: 09, loss: -0.96384\n",
      "torch.Size([1024, 64])\n"
     ]
    },
    {
     "name": "stderr",
     "output_type": "stream",
     "text": [
      " 36%|███▌      | 356/999 [7:18:13<12:10:53, 68.20s/it]"
     ]
    },
    {
     "name": "stdout",
     "output_type": "stream",
     "text": [
      "eigenvalues shape torch.Size([5]) eigenvectors shape torch.Size([5, 1024])\n",
      "356 /home/phdcs2/Hard_Disk/Datasets/Deep-Spectral-Segmentation/data/object-segmentation/ECSSD/features/0358_resized.pth\n",
      "dict_keys(['k', 'indices', 'file', 'id', 'model_name', 'patch_size', 'shape'])\n",
      "0358_resized\n",
      "Starting Training\n",
      "epoch: 00, loss: -0.88020\n",
      "epoch: 01, loss: -0.92887\n",
      "epoch: 02, loss: -0.94159\n",
      "epoch: 03, loss: -0.94842\n",
      "epoch: 04, loss: -0.95327\n",
      "epoch: 05, loss: -0.95668\n",
      "epoch: 06, loss: -0.95944\n",
      "epoch: 07, loss: -0.96153\n",
      "epoch: 08, loss: -0.96330\n",
      "epoch: 09, loss: -0.96481\n",
      "torch.Size([1024, 64])\n"
     ]
    },
    {
     "name": "stderr",
     "output_type": "stream",
     "text": [
      " 36%|███▌      | 357/999 [7:19:24<12:20:16, 69.18s/it]"
     ]
    },
    {
     "name": "stdout",
     "output_type": "stream",
     "text": [
      "eigenvalues shape torch.Size([5]) eigenvectors shape torch.Size([5, 1024])\n",
      "357 /home/phdcs2/Hard_Disk/Datasets/Deep-Spectral-Segmentation/data/object-segmentation/ECSSD/features/0359_resized.pth\n",
      "dict_keys(['k', 'indices', 'file', 'id', 'model_name', 'patch_size', 'shape'])\n",
      "0359_resized\n"
     ]
    },
    {
     "name": "stderr",
     "output_type": "stream",
     "text": [
      "/home/phdcs2/Hard_Disk/Projects/T2I/deep-spectral-segmentation/venv/lib/python3.8/site-packages/sklearn/decomposition/_pca.py:642: RuntimeWarning: invalid value encountered in divide\n",
      "  self.explained_variance_ratio_ = self.explained_variance_ / total_var\n"
     ]
    },
    {
     "name": "stdout",
     "output_type": "stream",
     "text": [
      "Starting Training\n",
      "epoch: 00, loss: -0.90839\n",
      "epoch: 01, loss: -0.94398\n",
      "epoch: 02, loss: -0.95315\n",
      "epoch: 03, loss: -0.95834\n",
      "epoch: 04, loss: -0.96193\n",
      "epoch: 05, loss: -0.96459\n",
      "epoch: 06, loss: -0.96666\n",
      "epoch: 07, loss: -0.96836\n",
      "epoch: 08, loss: -0.96977\n",
      "epoch: 09, loss: -0.97096\n",
      "torch.Size([1024, 64])\n"
     ]
    },
    {
     "name": "stderr",
     "output_type": "stream",
     "text": [
      " 36%|███▌      | 358/999 [7:20:33<12:17:51, 69.07s/it]"
     ]
    },
    {
     "name": "stdout",
     "output_type": "stream",
     "text": [
      "eigenvalues shape torch.Size([5]) eigenvectors shape torch.Size([5, 1024])\n",
      "358 /home/phdcs2/Hard_Disk/Datasets/Deep-Spectral-Segmentation/data/object-segmentation/ECSSD/features/0360_resized.pth\n",
      "dict_keys(['k', 'indices', 'file', 'id', 'model_name', 'patch_size', 'shape'])\n",
      "0360_resized\n",
      "Starting Training\n",
      "epoch: 00, loss: -0.88340\n",
      "epoch: 01, loss: -0.92737\n",
      "epoch: 02, loss: -0.93909\n",
      "epoch: 03, loss: -0.94577\n",
      "epoch: 04, loss: -0.95030\n",
      "epoch: 05, loss: -0.95369\n",
      "epoch: 06, loss: -0.95631\n",
      "epoch: 07, loss: -0.95839\n",
      "epoch: 08, loss: -0.96020\n",
      "epoch: 09, loss: -0.96166\n",
      "torch.Size([1024, 64])\n"
     ]
    },
    {
     "name": "stderr",
     "output_type": "stream",
     "text": [
      " 36%|███▌      | 359/999 [7:21:47<12:33:47, 70.67s/it]"
     ]
    },
    {
     "name": "stdout",
     "output_type": "stream",
     "text": [
      "eigenvalues shape torch.Size([5]) eigenvectors shape torch.Size([5, 1024])\n",
      "359 /home/phdcs2/Hard_Disk/Datasets/Deep-Spectral-Segmentation/data/object-segmentation/ECSSD/features/0361_resized.pth\n",
      "dict_keys(['k', 'indices', 'file', 'id', 'model_name', 'patch_size', 'shape'])\n",
      "0361_resized\n",
      "Starting Training\n",
      "epoch: 00, loss: -0.89101\n",
      "epoch: 01, loss: -0.93784\n",
      "epoch: 02, loss: -0.94859\n",
      "epoch: 03, loss: -0.95449\n",
      "epoch: 04, loss: -0.95849\n",
      "epoch: 05, loss: -0.96139\n",
      "epoch: 06, loss: -0.96370\n",
      "epoch: 07, loss: -0.96560\n",
      "epoch: 08, loss: -0.96704\n",
      "epoch: 09, loss: -0.96839\n",
      "torch.Size([1024, 64])\n"
     ]
    },
    {
     "name": "stderr",
     "output_type": "stream",
     "text": [
      " 36%|███▌      | 360/999 [7:22:55<12:23:11, 69.78s/it]"
     ]
    },
    {
     "name": "stdout",
     "output_type": "stream",
     "text": [
      "eigenvalues shape torch.Size([5]) eigenvectors shape torch.Size([5, 1024])\n",
      "360 /home/phdcs2/Hard_Disk/Datasets/Deep-Spectral-Segmentation/data/object-segmentation/ECSSD/features/0362_resized.pth\n",
      "dict_keys(['k', 'indices', 'file', 'id', 'model_name', 'patch_size', 'shape'])\n",
      "0362_resized\n",
      "Starting Training\n",
      "epoch: 00, loss: -0.87123\n",
      "epoch: 01, loss: -0.92286\n",
      "epoch: 02, loss: -0.93616\n",
      "epoch: 03, loss: -0.94353\n",
      "epoch: 04, loss: -0.94863\n",
      "epoch: 05, loss: -0.95234\n",
      "epoch: 06, loss: -0.95516\n",
      "epoch: 07, loss: -0.95749\n",
      "epoch: 08, loss: -0.95942\n",
      "epoch: 09, loss: -0.96109\n",
      "torch.Size([1024, 64])\n"
     ]
    },
    {
     "name": "stderr",
     "output_type": "stream",
     "text": [
      " 36%|███▌      | 361/999 [7:23:59<12:01:57, 67.90s/it]"
     ]
    },
    {
     "name": "stdout",
     "output_type": "stream",
     "text": [
      "eigenvalues shape torch.Size([5]) eigenvectors shape torch.Size([5, 1024])\n",
      "361 /home/phdcs2/Hard_Disk/Datasets/Deep-Spectral-Segmentation/data/object-segmentation/ECSSD/features/0363_resized.pth\n",
      "dict_keys(['k', 'indices', 'file', 'id', 'model_name', 'patch_size', 'shape'])\n",
      "0363_resized\n"
     ]
    },
    {
     "name": "stderr",
     "output_type": "stream",
     "text": [
      "/home/phdcs2/Hard_Disk/Projects/T2I/deep-spectral-segmentation/venv/lib/python3.8/site-packages/sklearn/decomposition/_pca.py:642: RuntimeWarning: invalid value encountered in divide\n",
      "  self.explained_variance_ratio_ = self.explained_variance_ / total_var\n"
     ]
    },
    {
     "name": "stdout",
     "output_type": "stream",
     "text": [
      "Starting Training\n",
      "epoch: 00, loss: -0.93454\n",
      "epoch: 01, loss: -0.96069\n",
      "epoch: 02, loss: -0.96674\n",
      "epoch: 03, loss: -0.97018\n",
      "epoch: 04, loss: -0.97254\n",
      "epoch: 05, loss: -0.97435\n",
      "epoch: 06, loss: -0.97573\n",
      "epoch: 07, loss: -0.97685\n",
      "epoch: 08, loss: -0.97783\n",
      "epoch: 09, loss: -0.97862\n",
      "torch.Size([1024, 64])\n"
     ]
    },
    {
     "name": "stderr",
     "output_type": "stream",
     "text": [
      " 36%|███▌      | 362/999 [7:25:05<11:55:02, 67.35s/it]"
     ]
    },
    {
     "name": "stdout",
     "output_type": "stream",
     "text": [
      "eigenvalues shape torch.Size([5]) eigenvectors shape torch.Size([5, 1024])\n",
      "362 /home/phdcs2/Hard_Disk/Datasets/Deep-Spectral-Segmentation/data/object-segmentation/ECSSD/features/0364_resized.pth\n",
      "dict_keys(['k', 'indices', 'file', 'id', 'model_name', 'patch_size', 'shape'])\n",
      "0364_resized\n",
      "Starting Training\n",
      "epoch: 00, loss: -0.91863\n",
      "epoch: 01, loss: -0.95281\n",
      "epoch: 02, loss: -0.96017\n",
      "epoch: 03, loss: -0.96456\n",
      "epoch: 04, loss: -0.96748\n",
      "epoch: 05, loss: -0.96969\n",
      "epoch: 06, loss: -0.97142\n",
      "epoch: 07, loss: -0.97280\n",
      "epoch: 08, loss: -0.97398\n",
      "epoch: 09, loss: -0.97499\n",
      "torch.Size([1024, 64])\n"
     ]
    },
    {
     "name": "stderr",
     "output_type": "stream",
     "text": [
      " 36%|███▋      | 363/999 [7:26:14<11:59:56, 67.92s/it]"
     ]
    },
    {
     "name": "stdout",
     "output_type": "stream",
     "text": [
      "eigenvalues shape torch.Size([5]) eigenvectors shape torch.Size([5, 1024])\n",
      "363 /home/phdcs2/Hard_Disk/Datasets/Deep-Spectral-Segmentation/data/object-segmentation/ECSSD/features/0365_resized.pth\n",
      "dict_keys(['k', 'indices', 'file', 'id', 'model_name', 'patch_size', 'shape'])\n",
      "0365_resized\n"
     ]
    },
    {
     "name": "stderr",
     "output_type": "stream",
     "text": [
      "/home/phdcs2/Hard_Disk/Projects/T2I/deep-spectral-segmentation/venv/lib/python3.8/site-packages/sklearn/decomposition/_pca.py:642: RuntimeWarning: invalid value encountered in divide\n",
      "  self.explained_variance_ratio_ = self.explained_variance_ / total_var\n"
     ]
    },
    {
     "name": "stdout",
     "output_type": "stream",
     "text": [
      "Starting Training\n",
      "epoch: 00, loss: -0.92892\n",
      "epoch: 01, loss: -0.95784\n",
      "epoch: 02, loss: -0.96421\n",
      "epoch: 03, loss: -0.96785\n",
      "epoch: 04, loss: -0.97040\n",
      "epoch: 05, loss: -0.97228\n",
      "epoch: 06, loss: -0.97375\n",
      "epoch: 07, loss: -0.97495\n",
      "epoch: 08, loss: -0.97597\n",
      "epoch: 09, loss: -0.97684\n",
      "torch.Size([1024, 64])\n"
     ]
    },
    {
     "name": "stderr",
     "output_type": "stream",
     "text": [
      " 36%|███▋      | 364/999 [7:27:17<11:44:24, 66.56s/it]"
     ]
    },
    {
     "name": "stdout",
     "output_type": "stream",
     "text": [
      "eigenvalues shape torch.Size([5]) eigenvectors shape torch.Size([5, 1024])\n",
      "364 /home/phdcs2/Hard_Disk/Datasets/Deep-Spectral-Segmentation/data/object-segmentation/ECSSD/features/0366_resized.pth\n",
      "dict_keys(['k', 'indices', 'file', 'id', 'model_name', 'patch_size', 'shape'])\n",
      "0366_resized\n",
      "Starting Training\n",
      "epoch: 00, loss: -0.93365\n",
      "epoch: 01, loss: -0.96151\n",
      "epoch: 02, loss: -0.96694\n",
      "epoch: 03, loss: -0.97013\n",
      "epoch: 04, loss: -0.97231\n",
      "epoch: 05, loss: -0.97395\n",
      "epoch: 06, loss: -0.97525\n",
      "epoch: 07, loss: -0.97633\n",
      "epoch: 08, loss: -0.97722\n",
      "epoch: 09, loss: -0.97800\n",
      "torch.Size([1024, 64])\n"
     ]
    },
    {
     "name": "stderr",
     "output_type": "stream",
     "text": [
      " 37%|███▋      | 365/999 [7:28:26<11:50:55, 67.28s/it]"
     ]
    },
    {
     "name": "stdout",
     "output_type": "stream",
     "text": [
      "eigenvalues shape torch.Size([5]) eigenvectors shape torch.Size([5, 1024])\n",
      "365 /home/phdcs2/Hard_Disk/Datasets/Deep-Spectral-Segmentation/data/object-segmentation/ECSSD/features/0367_resized.pth\n",
      "dict_keys(['k', 'indices', 'file', 'id', 'model_name', 'patch_size', 'shape'])\n",
      "0367_resized\n",
      "Starting Training\n",
      "epoch: 00, loss: -0.86243\n",
      "epoch: 01, loss: -0.91709\n",
      "epoch: 02, loss: -0.93239\n",
      "epoch: 03, loss: -0.94103\n",
      "epoch: 04, loss: -0.94682\n",
      "epoch: 05, loss: -0.95114\n",
      "epoch: 06, loss: -0.95425\n",
      "epoch: 07, loss: -0.95682\n",
      "epoch: 08, loss: -0.95904\n",
      "epoch: 09, loss: -0.96087\n",
      "torch.Size([1024, 64])\n"
     ]
    },
    {
     "name": "stderr",
     "output_type": "stream",
     "text": [
      " 37%|███▋      | 366/999 [7:29:42<12:15:41, 69.73s/it]"
     ]
    },
    {
     "name": "stdout",
     "output_type": "stream",
     "text": [
      "eigenvalues shape torch.Size([5]) eigenvectors shape torch.Size([5, 1024])\n",
      "366 /home/phdcs2/Hard_Disk/Datasets/Deep-Spectral-Segmentation/data/object-segmentation/ECSSD/features/0368_resized.pth\n",
      "dict_keys(['k', 'indices', 'file', 'id', 'model_name', 'patch_size', 'shape'])\n",
      "0368_resized\n",
      "Starting Training\n",
      "epoch: 00, loss: -0.83834\n",
      "epoch: 01, loss: -0.90236\n",
      "epoch: 02, loss: -0.92064\n",
      "epoch: 03, loss: -0.93065\n",
      "epoch: 04, loss: -0.93751\n",
      "epoch: 05, loss: -0.94251\n",
      "epoch: 06, loss: -0.94635\n",
      "epoch: 07, loss: -0.94939\n",
      "epoch: 08, loss: -0.95185\n",
      "epoch: 09, loss: -0.95409\n",
      "torch.Size([1024, 64])\n"
     ]
    },
    {
     "name": "stderr",
     "output_type": "stream",
     "text": [
      " 37%|███▋      | 367/999 [7:30:52<12:16:42, 69.94s/it]"
     ]
    },
    {
     "name": "stdout",
     "output_type": "stream",
     "text": [
      "eigenvalues shape torch.Size([5]) eigenvectors shape torch.Size([5, 1024])\n",
      "367 /home/phdcs2/Hard_Disk/Datasets/Deep-Spectral-Segmentation/data/object-segmentation/ECSSD/features/0369_resized.pth\n",
      "dict_keys(['k', 'indices', 'file', 'id', 'model_name', 'patch_size', 'shape'])\n",
      "0369_resized\n",
      "Starting Training\n",
      "epoch: 00, loss: -0.86373\n",
      "epoch: 01, loss: -0.92009\n",
      "epoch: 02, loss: -0.93423\n",
      "epoch: 03, loss: -0.94219\n",
      "epoch: 04, loss: -0.94746\n",
      "epoch: 05, loss: -0.95146\n",
      "epoch: 06, loss: -0.95456\n",
      "epoch: 07, loss: -0.95705\n",
      "epoch: 08, loss: -0.95904\n",
      "epoch: 09, loss: -0.96084\n",
      "torch.Size([1024, 64])\n"
     ]
    },
    {
     "name": "stderr",
     "output_type": "stream",
     "text": [
      " 37%|███▋      | 368/999 [7:32:02<12:14:36, 69.85s/it]"
     ]
    },
    {
     "name": "stdout",
     "output_type": "stream",
     "text": [
      "eigenvalues shape torch.Size([5]) eigenvectors shape torch.Size([5, 1024])\n",
      "368 /home/phdcs2/Hard_Disk/Datasets/Deep-Spectral-Segmentation/data/object-segmentation/ECSSD/features/0370_resized.pth\n",
      "dict_keys(['k', 'indices', 'file', 'id', 'model_name', 'patch_size', 'shape'])\n",
      "0370_resized\n",
      "Starting Training\n",
      "epoch: 00, loss: -0.91616\n",
      "epoch: 01, loss: -0.94910\n",
      "epoch: 02, loss: -0.95700\n",
      "epoch: 03, loss: -0.96166\n",
      "epoch: 04, loss: -0.96476\n",
      "epoch: 05, loss: -0.96712\n",
      "epoch: 06, loss: -0.96897\n",
      "epoch: 07, loss: -0.97046\n",
      "epoch: 08, loss: -0.97170\n",
      "epoch: 09, loss: -0.97277\n",
      "torch.Size([1024, 64])\n"
     ]
    },
    {
     "name": "stderr",
     "output_type": "stream",
     "text": [
      " 37%|███▋      | 369/999 [7:33:09<12:06:10, 69.16s/it]"
     ]
    },
    {
     "name": "stdout",
     "output_type": "stream",
     "text": [
      "eigenvalues shape torch.Size([5]) eigenvectors shape torch.Size([5, 1024])\n",
      "369 /home/phdcs2/Hard_Disk/Datasets/Deep-Spectral-Segmentation/data/object-segmentation/ECSSD/features/0371_resized.pth\n",
      "dict_keys(['k', 'indices', 'file', 'id', 'model_name', 'patch_size', 'shape'])\n",
      "0371_resized\n",
      "Starting Training\n",
      "epoch: 00, loss: -0.83303\n",
      "epoch: 01, loss: -0.90259\n",
      "epoch: 02, loss: -0.92015\n",
      "epoch: 03, loss: -0.93006\n",
      "epoch: 04, loss: -0.93717\n",
      "epoch: 05, loss: -0.94189\n",
      "epoch: 06, loss: -0.94567\n",
      "epoch: 07, loss: -0.94881\n",
      "epoch: 08, loss: -0.95112\n",
      "epoch: 09, loss: -0.95324\n",
      "torch.Size([1024, 64])\n"
     ]
    },
    {
     "name": "stderr",
     "output_type": "stream",
     "text": [
      " 37%|███▋      | 370/999 [7:34:17<12:00:35, 68.74s/it]"
     ]
    },
    {
     "name": "stdout",
     "output_type": "stream",
     "text": [
      "eigenvalues shape torch.Size([5]) eigenvectors shape torch.Size([5, 1024])\n",
      "370 /home/phdcs2/Hard_Disk/Datasets/Deep-Spectral-Segmentation/data/object-segmentation/ECSSD/features/0372_resized.pth\n",
      "dict_keys(['k', 'indices', 'file', 'id', 'model_name', 'patch_size', 'shape'])\n",
      "0372_resized\n",
      "Starting Training\n",
      "epoch: 00, loss: -0.84873\n",
      "epoch: 01, loss: -0.91516\n",
      "epoch: 02, loss: -0.92994\n",
      "epoch: 03, loss: -0.93820\n",
      "epoch: 04, loss: -0.94376\n",
      "epoch: 05, loss: -0.94759\n",
      "epoch: 06, loss: -0.95073\n",
      "epoch: 07, loss: -0.95322\n",
      "epoch: 08, loss: -0.95544\n",
      "epoch: 09, loss: -0.95709\n",
      "torch.Size([1024, 64])\n"
     ]
    },
    {
     "name": "stderr",
     "output_type": "stream",
     "text": [
      " 37%|███▋      | 371/999 [7:35:31<12:16:24, 70.36s/it]"
     ]
    },
    {
     "name": "stdout",
     "output_type": "stream",
     "text": [
      "eigenvalues shape torch.Size([5]) eigenvectors shape torch.Size([5, 1024])\n",
      "371 /home/phdcs2/Hard_Disk/Datasets/Deep-Spectral-Segmentation/data/object-segmentation/ECSSD/features/0373_resized.pth\n",
      "dict_keys(['k', 'indices', 'file', 'id', 'model_name', 'patch_size', 'shape'])\n",
      "0373_resized\n",
      "Starting Training\n",
      "epoch: 00, loss: -0.88350\n",
      "epoch: 01, loss: -0.92978\n",
      "epoch: 02, loss: -0.94125\n",
      "epoch: 03, loss: -0.94768\n",
      "epoch: 04, loss: -0.95208\n",
      "epoch: 05, loss: -0.95528\n",
      "epoch: 06, loss: -0.95769\n",
      "epoch: 07, loss: -0.95978\n",
      "epoch: 08, loss: -0.96154\n",
      "epoch: 09, loss: -0.96290\n",
      "torch.Size([1024, 64])\n"
     ]
    },
    {
     "name": "stderr",
     "output_type": "stream",
     "text": [
      " 37%|███▋      | 372/999 [7:36:43<12:19:55, 70.81s/it]"
     ]
    },
    {
     "name": "stdout",
     "output_type": "stream",
     "text": [
      "eigenvalues shape torch.Size([5]) eigenvectors shape torch.Size([5, 1024])\n",
      "372 /home/phdcs2/Hard_Disk/Datasets/Deep-Spectral-Segmentation/data/object-segmentation/ECSSD/features/0374_resized.pth\n",
      "dict_keys(['k', 'indices', 'file', 'id', 'model_name', 'patch_size', 'shape'])\n",
      "0374_resized\n",
      "Starting Training\n",
      "epoch: 00, loss: -0.91735\n",
      "epoch: 01, loss: -0.94583\n",
      "epoch: 02, loss: -0.95361\n",
      "epoch: 03, loss: -0.95835\n",
      "epoch: 04, loss: -0.96161\n",
      "epoch: 05, loss: -0.96407\n",
      "epoch: 06, loss: -0.96609\n",
      "epoch: 07, loss: -0.96769\n",
      "epoch: 08, loss: -0.96904\n",
      "epoch: 09, loss: -0.97024\n",
      "torch.Size([1024, 64])\n"
     ]
    },
    {
     "name": "stderr",
     "output_type": "stream",
     "text": [
      " 37%|███▋      | 373/999 [7:37:57<12:28:30, 71.74s/it]"
     ]
    },
    {
     "name": "stdout",
     "output_type": "stream",
     "text": [
      "eigenvalues shape torch.Size([5]) eigenvectors shape torch.Size([5, 1024])\n",
      "373 /home/phdcs2/Hard_Disk/Datasets/Deep-Spectral-Segmentation/data/object-segmentation/ECSSD/features/0375_resized.pth\n",
      "dict_keys(['k', 'indices', 'file', 'id', 'model_name', 'patch_size', 'shape'])\n",
      "0375_resized\n",
      "Starting Training\n",
      "epoch: 00, loss: -0.86520\n",
      "epoch: 01, loss: -0.91966\n",
      "epoch: 02, loss: -0.93422\n",
      "epoch: 03, loss: -0.94234\n",
      "epoch: 04, loss: -0.94779\n",
      "epoch: 05, loss: -0.95158\n",
      "epoch: 06, loss: -0.95460\n",
      "epoch: 07, loss: -0.95698\n",
      "epoch: 08, loss: -0.95901\n",
      "epoch: 09, loss: -0.96083\n",
      "torch.Size([1024, 64])\n"
     ]
    },
    {
     "name": "stderr",
     "output_type": "stream",
     "text": [
      " 37%|███▋      | 374/999 [7:39:01<12:03:38, 69.47s/it]"
     ]
    },
    {
     "name": "stdout",
     "output_type": "stream",
     "text": [
      "eigenvalues shape torch.Size([5]) eigenvectors shape torch.Size([5, 1024])\n",
      "374 /home/phdcs2/Hard_Disk/Datasets/Deep-Spectral-Segmentation/data/object-segmentation/ECSSD/features/0376_resized.pth\n",
      "dict_keys(['k', 'indices', 'file', 'id', 'model_name', 'patch_size', 'shape'])\n",
      "0376_resized\n"
     ]
    },
    {
     "name": "stderr",
     "output_type": "stream",
     "text": [
      "/home/phdcs2/Hard_Disk/Projects/T2I/deep-spectral-segmentation/venv/lib/python3.8/site-packages/sklearn/decomposition/_pca.py:642: RuntimeWarning: invalid value encountered in divide\n",
      "  self.explained_variance_ratio_ = self.explained_variance_ / total_var\n"
     ]
    },
    {
     "name": "stdout",
     "output_type": "stream",
     "text": [
      "Starting Training\n",
      "epoch: 00, loss: -0.91858\n",
      "epoch: 01, loss: -0.95308\n",
      "epoch: 02, loss: -0.96035\n",
      "epoch: 03, loss: -0.96461\n",
      "epoch: 04, loss: -0.96746\n",
      "epoch: 05, loss: -0.96961\n",
      "epoch: 06, loss: -0.97131\n",
      "epoch: 07, loss: -0.97269\n",
      "epoch: 08, loss: -0.97384\n",
      "epoch: 09, loss: -0.97481\n",
      "torch.Size([1024, 64])\n"
     ]
    },
    {
     "name": "stderr",
     "output_type": "stream",
     "text": [
      " 38%|███▊      | 375/999 [7:40:13<12:10:16, 70.22s/it]"
     ]
    },
    {
     "name": "stdout",
     "output_type": "stream",
     "text": [
      "eigenvalues shape torch.Size([5]) eigenvectors shape torch.Size([5, 1024])\n",
      "375 /home/phdcs2/Hard_Disk/Datasets/Deep-Spectral-Segmentation/data/object-segmentation/ECSSD/features/0377_resized.pth\n",
      "dict_keys(['k', 'indices', 'file', 'id', 'model_name', 'patch_size', 'shape'])\n",
      "0377_resized\n",
      "Starting Training\n",
      "epoch: 00, loss: -0.88501\n",
      "epoch: 01, loss: -0.93140\n",
      "epoch: 02, loss: -0.94316\n",
      "epoch: 03, loss: -0.94981\n",
      "epoch: 04, loss: -0.95399\n",
      "epoch: 05, loss: -0.95727\n",
      "epoch: 06, loss: -0.95975\n",
      "epoch: 07, loss: -0.96172\n",
      "epoch: 08, loss: -0.96347\n",
      "epoch: 09, loss: -0.96492\n",
      "torch.Size([1024, 64])\n"
     ]
    },
    {
     "name": "stderr",
     "output_type": "stream",
     "text": [
      " 38%|███▊      | 376/999 [7:41:29<12:25:53, 71.84s/it]"
     ]
    },
    {
     "name": "stdout",
     "output_type": "stream",
     "text": [
      "eigenvalues shape torch.Size([5]) eigenvectors shape torch.Size([5, 1024])\n",
      "376 /home/phdcs2/Hard_Disk/Datasets/Deep-Spectral-Segmentation/data/object-segmentation/ECSSD/features/0378_resized.pth\n",
      "dict_keys(['k', 'indices', 'file', 'id', 'model_name', 'patch_size', 'shape'])\n",
      "0378_resized\n",
      "Starting Training\n",
      "epoch: 00, loss: -0.87966\n",
      "epoch: 01, loss: -0.92716\n",
      "epoch: 02, loss: -0.93902\n",
      "epoch: 03, loss: -0.94575\n",
      "epoch: 04, loss: -0.95026\n",
      "epoch: 05, loss: -0.95344\n",
      "epoch: 06, loss: -0.95623\n",
      "epoch: 07, loss: -0.95832\n",
      "epoch: 08, loss: -0.96013\n",
      "epoch: 09, loss: -0.96167\n",
      "torch.Size([1024, 64])\n"
     ]
    },
    {
     "name": "stderr",
     "output_type": "stream",
     "text": [
      " 38%|███▊      | 377/999 [7:42:43<12:31:47, 72.52s/it]"
     ]
    },
    {
     "name": "stdout",
     "output_type": "stream",
     "text": [
      "eigenvalues shape torch.Size([5]) eigenvectors shape torch.Size([5, 1024])\n",
      "377 /home/phdcs2/Hard_Disk/Datasets/Deep-Spectral-Segmentation/data/object-segmentation/ECSSD/features/0379_resized.pth\n",
      "dict_keys(['k', 'indices', 'file', 'id', 'model_name', 'patch_size', 'shape'])\n",
      "0379_resized\n",
      "Starting Training\n",
      "epoch: 00, loss: -0.85950\n",
      "epoch: 01, loss: -0.91377\n",
      "epoch: 02, loss: -0.92816\n",
      "epoch: 03, loss: -0.93634\n",
      "epoch: 04, loss: -0.94195\n",
      "epoch: 05, loss: -0.94621\n",
      "epoch: 06, loss: -0.94954\n",
      "epoch: 07, loss: -0.95219\n",
      "epoch: 08, loss: -0.95440\n",
      "epoch: 09, loss: -0.95622\n",
      "torch.Size([1024, 64])\n"
     ]
    },
    {
     "name": "stderr",
     "output_type": "stream",
     "text": [
      " 38%|███▊      | 378/999 [7:43:57<12:36:18, 73.07s/it]"
     ]
    },
    {
     "name": "stdout",
     "output_type": "stream",
     "text": [
      "eigenvalues shape torch.Size([5]) eigenvectors shape torch.Size([5, 1024])\n",
      "378 /home/phdcs2/Hard_Disk/Datasets/Deep-Spectral-Segmentation/data/object-segmentation/ECSSD/features/0380_resized.pth\n",
      "dict_keys(['k', 'indices', 'file', 'id', 'model_name', 'patch_size', 'shape'])\n",
      "0380_resized\n",
      "Starting Training\n",
      "epoch: 00, loss: -0.88906\n",
      "epoch: 01, loss: -0.93426\n",
      "epoch: 02, loss: -0.94550\n",
      "epoch: 03, loss: -0.95195\n",
      "epoch: 04, loss: -0.95640\n",
      "epoch: 05, loss: -0.95960\n",
      "epoch: 06, loss: -0.96221\n",
      "epoch: 07, loss: -0.96427\n",
      "epoch: 08, loss: -0.96598\n",
      "epoch: 09, loss: -0.96735\n",
      "torch.Size([1024, 64])\n"
     ]
    },
    {
     "name": "stderr",
     "output_type": "stream",
     "text": [
      " 38%|███▊      | 379/999 [7:45:07<12:24:16, 72.03s/it]"
     ]
    },
    {
     "name": "stdout",
     "output_type": "stream",
     "text": [
      "eigenvalues shape torch.Size([5]) eigenvectors shape torch.Size([5, 1024])\n",
      "379 /home/phdcs2/Hard_Disk/Datasets/Deep-Spectral-Segmentation/data/object-segmentation/ECSSD/features/0381_resized.pth\n",
      "dict_keys(['k', 'indices', 'file', 'id', 'model_name', 'patch_size', 'shape'])\n",
      "0381_resized\n",
      "Starting Training\n",
      "epoch: 00, loss: -0.88832\n",
      "epoch: 01, loss: -0.93225\n",
      "epoch: 02, loss: -0.94388\n",
      "epoch: 03, loss: -0.95050\n",
      "epoch: 04, loss: -0.95511\n",
      "epoch: 05, loss: -0.95849\n",
      "epoch: 06, loss: -0.96088\n",
      "epoch: 07, loss: -0.96296\n",
      "epoch: 08, loss: -0.96473\n",
      "epoch: 09, loss: -0.96618\n",
      "torch.Size([1024, 64])\n"
     ]
    },
    {
     "name": "stderr",
     "output_type": "stream",
     "text": [
      " 38%|███▊      | 380/999 [7:46:09<11:54:03, 69.21s/it]"
     ]
    },
    {
     "name": "stdout",
     "output_type": "stream",
     "text": [
      "eigenvalues shape torch.Size([5]) eigenvectors shape torch.Size([5, 1024])\n",
      "380 /home/phdcs2/Hard_Disk/Datasets/Deep-Spectral-Segmentation/data/object-segmentation/ECSSD/features/0382_resized.pth\n",
      "dict_keys(['k', 'indices', 'file', 'id', 'model_name', 'patch_size', 'shape'])\n",
      "0382_resized\n",
      "Starting Training\n",
      "epoch: 00, loss: -0.85198\n",
      "epoch: 01, loss: -0.90933\n",
      "epoch: 02, loss: -0.92504\n",
      "epoch: 03, loss: -0.93387\n",
      "epoch: 04, loss: -0.93998\n",
      "epoch: 05, loss: -0.94466\n",
      "epoch: 06, loss: -0.94831\n",
      "epoch: 07, loss: -0.95109\n",
      "epoch: 08, loss: -0.95337\n",
      "epoch: 09, loss: -0.95537\n",
      "torch.Size([1024, 64])\n"
     ]
    },
    {
     "name": "stderr",
     "output_type": "stream",
     "text": [
      " 38%|███▊      | 381/999 [7:47:21<11:59:40, 69.87s/it]"
     ]
    },
    {
     "name": "stdout",
     "output_type": "stream",
     "text": [
      "eigenvalues shape torch.Size([5]) eigenvectors shape torch.Size([5, 1024])\n",
      "381 /home/phdcs2/Hard_Disk/Datasets/Deep-Spectral-Segmentation/data/object-segmentation/ECSSD/features/0383_resized.pth\n",
      "dict_keys(['k', 'indices', 'file', 'id', 'model_name', 'patch_size', 'shape'])\n",
      "0383_resized\n"
     ]
    },
    {
     "name": "stderr",
     "output_type": "stream",
     "text": [
      "/home/phdcs2/Hard_Disk/Projects/T2I/deep-spectral-segmentation/venv/lib/python3.8/site-packages/sklearn/decomposition/_pca.py:642: RuntimeWarning: invalid value encountered in divide\n",
      "  self.explained_variance_ratio_ = self.explained_variance_ / total_var\n"
     ]
    },
    {
     "name": "stdout",
     "output_type": "stream",
     "text": [
      "Starting Training\n",
      "epoch: 00, loss: -0.91672\n",
      "epoch: 01, loss: -0.95076\n",
      "epoch: 02, loss: -0.95851\n",
      "epoch: 03, loss: -0.96297\n",
      "epoch: 04, loss: -0.96607\n",
      "epoch: 05, loss: -0.96836\n",
      "epoch: 06, loss: -0.97014\n",
      "epoch: 07, loss: -0.97161\n",
      "epoch: 08, loss: -0.97282\n",
      "epoch: 09, loss: -0.97385\n",
      "torch.Size([1024, 64])\n"
     ]
    },
    {
     "name": "stderr",
     "output_type": "stream",
     "text": [
      " 38%|███▊      | 382/999 [7:48:36<12:14:50, 71.46s/it]"
     ]
    },
    {
     "name": "stdout",
     "output_type": "stream",
     "text": [
      "eigenvalues shape torch.Size([5]) eigenvectors shape torch.Size([5, 1024])\n",
      "382 /home/phdcs2/Hard_Disk/Datasets/Deep-Spectral-Segmentation/data/object-segmentation/ECSSD/features/0384_resized.pth\n",
      "dict_keys(['k', 'indices', 'file', 'id', 'model_name', 'patch_size', 'shape'])\n",
      "0384_resized\n"
     ]
    },
    {
     "name": "stderr",
     "output_type": "stream",
     "text": [
      "/home/phdcs2/Hard_Disk/Projects/T2I/deep-spectral-segmentation/venv/lib/python3.8/site-packages/sklearn/decomposition/_pca.py:642: RuntimeWarning: invalid value encountered in divide\n",
      "  self.explained_variance_ratio_ = self.explained_variance_ / total_var\n"
     ]
    },
    {
     "name": "stdout",
     "output_type": "stream",
     "text": [
      "Starting Training\n",
      "epoch: 00, loss: -0.93724\n",
      "epoch: 01, loss: -0.96560\n",
      "epoch: 02, loss: -0.97116\n",
      "epoch: 03, loss: -0.97433\n",
      "epoch: 04, loss: -0.97648\n",
      "epoch: 05, loss: -0.97808\n",
      "epoch: 06, loss: -0.97933\n",
      "epoch: 07, loss: -0.98033\n",
      "epoch: 08, loss: -0.98117\n",
      "epoch: 09, loss: -0.98190\n",
      "torch.Size([1024, 64])\n"
     ]
    },
    {
     "name": "stderr",
     "output_type": "stream",
     "text": [
      " 38%|███▊      | 383/999 [7:49:49<12:19:34, 72.04s/it]"
     ]
    },
    {
     "name": "stdout",
     "output_type": "stream",
     "text": [
      "eigenvalues shape torch.Size([5]) eigenvectors shape torch.Size([5, 1024])\n",
      "383 /home/phdcs2/Hard_Disk/Datasets/Deep-Spectral-Segmentation/data/object-segmentation/ECSSD/features/0385_resized.pth\n",
      "dict_keys(['k', 'indices', 'file', 'id', 'model_name', 'patch_size', 'shape'])\n",
      "0385_resized\n",
      "Starting Training\n",
      "epoch: 00, loss: -0.87059\n",
      "epoch: 01, loss: -0.92527\n",
      "epoch: 02, loss: -0.93832\n",
      "epoch: 03, loss: -0.94570\n",
      "epoch: 04, loss: -0.95080\n",
      "epoch: 05, loss: -0.95437\n",
      "epoch: 06, loss: -0.95716\n",
      "epoch: 07, loss: -0.95950\n",
      "epoch: 08, loss: -0.96134\n",
      "epoch: 09, loss: -0.96296\n",
      "torch.Size([1024, 64])\n"
     ]
    },
    {
     "name": "stderr",
     "output_type": "stream",
     "text": [
      " 38%|███▊      | 384/999 [7:50:57<12:04:41, 70.70s/it]"
     ]
    },
    {
     "name": "stdout",
     "output_type": "stream",
     "text": [
      "eigenvalues shape torch.Size([5]) eigenvectors shape torch.Size([5, 1024])\n",
      "384 /home/phdcs2/Hard_Disk/Datasets/Deep-Spectral-Segmentation/data/object-segmentation/ECSSD/features/0386_resized.pth\n",
      "dict_keys(['k', 'indices', 'file', 'id', 'model_name', 'patch_size', 'shape'])\n",
      "0386_resized\n",
      "Starting Training\n",
      "epoch: 00, loss: -0.85682\n",
      "epoch: 01, loss: -0.91793\n",
      "epoch: 02, loss: -0.93264\n",
      "epoch: 03, loss: -0.94078\n",
      "epoch: 04, loss: -0.94623\n",
      "epoch: 05, loss: -0.95043\n",
      "epoch: 06, loss: -0.95362\n",
      "epoch: 07, loss: -0.95611\n",
      "epoch: 08, loss: -0.95819\n",
      "epoch: 09, loss: -0.96006\n",
      "torch.Size([1024, 64])\n"
     ]
    },
    {
     "name": "stderr",
     "output_type": "stream",
     "text": [
      " 39%|███▊      | 385/999 [7:52:10<12:09:40, 71.30s/it]"
     ]
    },
    {
     "name": "stdout",
     "output_type": "stream",
     "text": [
      "eigenvalues shape torch.Size([5]) eigenvectors shape torch.Size([5, 1024])\n",
      "385 /home/phdcs2/Hard_Disk/Datasets/Deep-Spectral-Segmentation/data/object-segmentation/ECSSD/features/0387_resized.pth\n",
      "dict_keys(['k', 'indices', 'file', 'id', 'model_name', 'patch_size', 'shape'])\n",
      "0387_resized\n",
      "Starting Training\n",
      "epoch: 00, loss: -0.91072\n",
      "epoch: 01, loss: -0.94468\n",
      "epoch: 02, loss: -0.95310\n",
      "epoch: 03, loss: -0.95801\n",
      "epoch: 04, loss: -0.96137\n",
      "epoch: 05, loss: -0.96391\n",
      "epoch: 06, loss: -0.96590\n",
      "epoch: 07, loss: -0.96749\n",
      "epoch: 08, loss: -0.96888\n",
      "epoch: 09, loss: -0.96998\n",
      "torch.Size([1024, 64])\n"
     ]
    },
    {
     "name": "stderr",
     "output_type": "stream",
     "text": [
      " 39%|███▊      | 386/999 [7:53:21<12:09:25, 71.39s/it]"
     ]
    },
    {
     "name": "stdout",
     "output_type": "stream",
     "text": [
      "eigenvalues shape torch.Size([5]) eigenvectors shape torch.Size([5, 1024])\n",
      "386 /home/phdcs2/Hard_Disk/Datasets/Deep-Spectral-Segmentation/data/object-segmentation/ECSSD/features/0388_resized.pth\n",
      "dict_keys(['k', 'indices', 'file', 'id', 'model_name', 'patch_size', 'shape'])\n",
      "0388_resized\n",
      "Starting Training\n",
      "epoch: 00, loss: -0.92321\n",
      "epoch: 01, loss: -0.95491\n",
      "epoch: 02, loss: -0.96209\n",
      "epoch: 03, loss: -0.96620\n",
      "epoch: 04, loss: -0.96905\n",
      "epoch: 05, loss: -0.97115\n",
      "epoch: 06, loss: -0.97277\n",
      "epoch: 07, loss: -0.97413\n",
      "epoch: 08, loss: -0.97525\n",
      "epoch: 09, loss: -0.97619\n",
      "torch.Size([1024, 64])\n"
     ]
    },
    {
     "name": "stderr",
     "output_type": "stream",
     "text": [
      " 39%|███▊      | 387/999 [7:54:30<12:00:32, 70.64s/it]"
     ]
    },
    {
     "name": "stdout",
     "output_type": "stream",
     "text": [
      "eigenvalues shape torch.Size([5]) eigenvectors shape torch.Size([5, 1024])\n",
      "387 /home/phdcs2/Hard_Disk/Datasets/Deep-Spectral-Segmentation/data/object-segmentation/ECSSD/features/0389_resized.pth\n",
      "dict_keys(['k', 'indices', 'file', 'id', 'model_name', 'patch_size', 'shape'])\n",
      "0389_resized\n"
     ]
    },
    {
     "name": "stderr",
     "output_type": "stream",
     "text": [
      "/home/phdcs2/Hard_Disk/Projects/T2I/deep-spectral-segmentation/venv/lib/python3.8/site-packages/sklearn/decomposition/_pca.py:642: RuntimeWarning: invalid value encountered in divide\n",
      "  self.explained_variance_ratio_ = self.explained_variance_ / total_var\n"
     ]
    },
    {
     "name": "stdout",
     "output_type": "stream",
     "text": [
      "Starting Training\n",
      "epoch: 00, loss: -0.93516\n",
      "epoch: 01, loss: -0.96313\n",
      "epoch: 02, loss: -0.96915\n",
      "epoch: 03, loss: -0.97255\n",
      "epoch: 04, loss: -0.97492\n",
      "epoch: 05, loss: -0.97662\n",
      "epoch: 06, loss: -0.97795\n",
      "epoch: 07, loss: -0.97905\n",
      "epoch: 08, loss: -0.97996\n",
      "epoch: 09, loss: -0.98074\n",
      "torch.Size([1024, 64])\n"
     ]
    },
    {
     "name": "stderr",
     "output_type": "stream",
     "text": [
      " 39%|███▉      | 388/999 [7:55:28<11:19:20, 66.71s/it]"
     ]
    },
    {
     "name": "stdout",
     "output_type": "stream",
     "text": [
      "eigenvalues shape torch.Size([5]) eigenvectors shape torch.Size([5, 1024])\n",
      "388 /home/phdcs2/Hard_Disk/Datasets/Deep-Spectral-Segmentation/data/object-segmentation/ECSSD/features/0390_resized.pth\n",
      "dict_keys(['k', 'indices', 'file', 'id', 'model_name', 'patch_size', 'shape'])\n",
      "0390_resized\n"
     ]
    },
    {
     "name": "stderr",
     "output_type": "stream",
     "text": [
      "/home/phdcs2/Hard_Disk/Projects/T2I/deep-spectral-segmentation/venv/lib/python3.8/site-packages/sklearn/decomposition/_pca.py:642: RuntimeWarning: invalid value encountered in divide\n",
      "  self.explained_variance_ratio_ = self.explained_variance_ / total_var\n"
     ]
    },
    {
     "name": "stdout",
     "output_type": "stream",
     "text": [
      "Starting Training\n",
      "epoch: 00, loss: -0.92466\n",
      "epoch: 01, loss: -0.95401\n",
      "epoch: 02, loss: -0.96106\n",
      "epoch: 03, loss: -0.96510\n",
      "epoch: 04, loss: -0.96791\n",
      "epoch: 05, loss: -0.97000\n",
      "epoch: 06, loss: -0.97164\n",
      "epoch: 07, loss: -0.97298\n",
      "epoch: 08, loss: -0.97412\n",
      "epoch: 09, loss: -0.97508\n",
      "torch.Size([1024, 64])\n"
     ]
    },
    {
     "name": "stderr",
     "output_type": "stream",
     "text": [
      " 39%|███▉      | 389/999 [7:56:41<11:37:15, 68.58s/it]"
     ]
    },
    {
     "name": "stdout",
     "output_type": "stream",
     "text": [
      "eigenvalues shape torch.Size([5]) eigenvectors shape torch.Size([5, 1024])\n",
      "389 /home/phdcs2/Hard_Disk/Datasets/Deep-Spectral-Segmentation/data/object-segmentation/ECSSD/features/0391_resized.pth\n",
      "dict_keys(['k', 'indices', 'file', 'id', 'model_name', 'patch_size', 'shape'])\n",
      "0391_resized\n",
      "Starting Training\n",
      "epoch: 00, loss: -0.88497\n",
      "epoch: 01, loss: -0.93173\n",
      "epoch: 02, loss: -0.94311\n",
      "epoch: 03, loss: -0.94944\n",
      "epoch: 04, loss: -0.95370\n",
      "epoch: 05, loss: -0.95697\n",
      "epoch: 06, loss: -0.95938\n",
      "epoch: 07, loss: -0.96138\n",
      "epoch: 08, loss: -0.96300\n",
      "epoch: 09, loss: -0.96445\n",
      "torch.Size([1024, 64])\n"
     ]
    },
    {
     "name": "stderr",
     "output_type": "stream",
     "text": [
      " 39%|███▉      | 390/999 [7:57:55<11:54:53, 70.43s/it]"
     ]
    },
    {
     "name": "stdout",
     "output_type": "stream",
     "text": [
      "eigenvalues shape torch.Size([5]) eigenvectors shape torch.Size([5, 1024])\n",
      "390 /home/phdcs2/Hard_Disk/Datasets/Deep-Spectral-Segmentation/data/object-segmentation/ECSSD/features/0392_resized.pth\n",
      "dict_keys(['k', 'indices', 'file', 'id', 'model_name', 'patch_size', 'shape'])\n",
      "0392_resized\n",
      "Starting Training\n",
      "epoch: 00, loss: -0.89848\n",
      "epoch: 01, loss: -0.93571\n",
      "epoch: 02, loss: -0.94608\n",
      "epoch: 03, loss: -0.95215\n",
      "epoch: 04, loss: -0.95633\n",
      "epoch: 05, loss: -0.95943\n",
      "epoch: 06, loss: -0.96184\n",
      "epoch: 07, loss: -0.96384\n",
      "epoch: 08, loss: -0.96545\n",
      "epoch: 09, loss: -0.96684\n",
      "torch.Size([1024, 64])\n"
     ]
    },
    {
     "name": "stderr",
     "output_type": "stream",
     "text": [
      " 39%|███▉      | 391/999 [7:59:10<12:07:31, 71.80s/it]"
     ]
    },
    {
     "name": "stdout",
     "output_type": "stream",
     "text": [
      "eigenvalues shape torch.Size([5]) eigenvectors shape torch.Size([5, 1024])\n",
      "391 /home/phdcs2/Hard_Disk/Datasets/Deep-Spectral-Segmentation/data/object-segmentation/ECSSD/features/0393_resized.pth\n",
      "dict_keys(['k', 'indices', 'file', 'id', 'model_name', 'patch_size', 'shape'])\n",
      "0393_resized\n",
      "Starting Training\n",
      "epoch: 00, loss: -0.87260\n",
      "epoch: 01, loss: -0.92423\n",
      "epoch: 02, loss: -0.93679\n",
      "epoch: 03, loss: -0.94434\n",
      "epoch: 04, loss: -0.94933\n",
      "epoch: 05, loss: -0.95313\n",
      "epoch: 06, loss: -0.95601\n",
      "epoch: 07, loss: -0.95830\n",
      "epoch: 08, loss: -0.96026\n",
      "epoch: 09, loss: -0.96188\n",
      "torch.Size([1024, 64])\n"
     ]
    },
    {
     "name": "stderr",
     "output_type": "stream",
     "text": [
      " 39%|███▉      | 392/999 [8:00:24<12:12:19, 72.39s/it]"
     ]
    },
    {
     "name": "stdout",
     "output_type": "stream",
     "text": [
      "eigenvalues shape torch.Size([5]) eigenvectors shape torch.Size([5, 1024])\n",
      "392 /home/phdcs2/Hard_Disk/Datasets/Deep-Spectral-Segmentation/data/object-segmentation/ECSSD/features/0394_resized.pth\n",
      "dict_keys(['k', 'indices', 'file', 'id', 'model_name', 'patch_size', 'shape'])\n",
      "0394_resized\n",
      "Starting Training\n",
      "epoch: 00, loss: -0.84288\n",
      "epoch: 01, loss: -0.90940\n",
      "epoch: 02, loss: -0.92553\n",
      "epoch: 03, loss: -0.93435\n",
      "epoch: 04, loss: -0.94027\n",
      "epoch: 05, loss: -0.94455\n",
      "epoch: 06, loss: -0.94785\n",
      "epoch: 07, loss: -0.95053\n",
      "epoch: 08, loss: -0.95267\n",
      "epoch: 09, loss: -0.95455\n",
      "torch.Size([1024, 64])\n"
     ]
    },
    {
     "name": "stderr",
     "output_type": "stream",
     "text": [
      " 39%|███▉      | 393/999 [8:01:37<12:13:19, 72.61s/it]"
     ]
    },
    {
     "name": "stdout",
     "output_type": "stream",
     "text": [
      "eigenvalues shape torch.Size([5]) eigenvectors shape torch.Size([5, 1024])\n",
      "393 /home/phdcs2/Hard_Disk/Datasets/Deep-Spectral-Segmentation/data/object-segmentation/ECSSD/features/0395_resized.pth\n",
      "dict_keys(['k', 'indices', 'file', 'id', 'model_name', 'patch_size', 'shape'])\n",
      "0395_resized\n",
      "Starting Training\n",
      "epoch: 00, loss: -0.86099\n",
      "epoch: 01, loss: -0.91765\n",
      "epoch: 02, loss: -0.93278\n",
      "epoch: 03, loss: -0.94149\n",
      "epoch: 04, loss: -0.94714\n",
      "epoch: 05, loss: -0.95141\n",
      "epoch: 06, loss: -0.95447\n",
      "epoch: 07, loss: -0.95703\n",
      "epoch: 08, loss: -0.95919\n",
      "epoch: 09, loss: -0.96090\n",
      "torch.Size([1024, 64])\n"
     ]
    },
    {
     "name": "stderr",
     "output_type": "stream",
     "text": [
      " 39%|███▉      | 394/999 [8:02:36<11:31:00, 68.53s/it]"
     ]
    },
    {
     "name": "stdout",
     "output_type": "stream",
     "text": [
      "eigenvalues shape torch.Size([5]) eigenvectors shape torch.Size([5, 1024])\n",
      "394 /home/phdcs2/Hard_Disk/Datasets/Deep-Spectral-Segmentation/data/object-segmentation/ECSSD/features/0396_resized.pth\n",
      "dict_keys(['k', 'indices', 'file', 'id', 'model_name', 'patch_size', 'shape'])\n",
      "0396_resized\n"
     ]
    },
    {
     "name": "stderr",
     "output_type": "stream",
     "text": [
      "/home/phdcs2/Hard_Disk/Projects/T2I/deep-spectral-segmentation/venv/lib/python3.8/site-packages/sklearn/decomposition/_pca.py:642: RuntimeWarning: invalid value encountered in divide\n",
      "  self.explained_variance_ratio_ = self.explained_variance_ / total_var\n"
     ]
    },
    {
     "name": "stdout",
     "output_type": "stream",
     "text": [
      "Starting Training\n",
      "epoch: 00, loss: -0.93859\n",
      "epoch: 01, loss: -0.96568\n",
      "epoch: 02, loss: -0.97112\n",
      "epoch: 03, loss: -0.97431\n",
      "epoch: 04, loss: -0.97644\n",
      "epoch: 05, loss: -0.97802\n",
      "epoch: 06, loss: -0.97927\n",
      "epoch: 07, loss: -0.98027\n",
      "epoch: 08, loss: -0.98112\n",
      "epoch: 09, loss: -0.98183\n",
      "torch.Size([1024, 64])\n"
     ]
    },
    {
     "name": "stderr",
     "output_type": "stream",
     "text": [
      " 40%|███▉      | 395/999 [8:03:49<11:41:24, 69.68s/it]"
     ]
    },
    {
     "name": "stdout",
     "output_type": "stream",
     "text": [
      "eigenvalues shape torch.Size([5]) eigenvectors shape torch.Size([5, 1024])\n",
      "395 /home/phdcs2/Hard_Disk/Datasets/Deep-Spectral-Segmentation/data/object-segmentation/ECSSD/features/0397_resized.pth\n",
      "dict_keys(['k', 'indices', 'file', 'id', 'model_name', 'patch_size', 'shape'])\n",
      "0397_resized\n",
      "Starting Training\n",
      "epoch: 00, loss: -0.91033\n",
      "epoch: 01, loss: -0.94515\n",
      "epoch: 02, loss: -0.95349\n",
      "epoch: 03, loss: -0.95832\n",
      "epoch: 04, loss: -0.96164\n",
      "epoch: 05, loss: -0.96411\n",
      "epoch: 06, loss: -0.96603\n",
      "epoch: 07, loss: -0.96759\n",
      "epoch: 08, loss: -0.96891\n",
      "epoch: 09, loss: -0.97003\n",
      "torch.Size([1024, 64])\n"
     ]
    },
    {
     "name": "stderr",
     "output_type": "stream",
     "text": [
      " 40%|███▉      | 396/999 [8:05:04<11:57:53, 71.43s/it]"
     ]
    },
    {
     "name": "stdout",
     "output_type": "stream",
     "text": [
      "eigenvalues shape torch.Size([5]) eigenvectors shape torch.Size([5, 1024])\n",
      "396 /home/phdcs2/Hard_Disk/Datasets/Deep-Spectral-Segmentation/data/object-segmentation/ECSSD/features/0398_resized.pth\n",
      "dict_keys(['k', 'indices', 'file', 'id', 'model_name', 'patch_size', 'shape'])\n",
      "0398_resized\n"
     ]
    },
    {
     "name": "stderr",
     "output_type": "stream",
     "text": [
      "/home/phdcs2/Hard_Disk/Projects/T2I/deep-spectral-segmentation/venv/lib/python3.8/site-packages/sklearn/decomposition/_pca.py:642: RuntimeWarning: invalid value encountered in divide\n",
      "  self.explained_variance_ratio_ = self.explained_variance_ / total_var\n"
     ]
    },
    {
     "name": "stdout",
     "output_type": "stream",
     "text": [
      "Starting Training\n",
      "epoch: 00, loss: -0.92949\n",
      "epoch: 01, loss: -0.95828\n",
      "epoch: 02, loss: -0.96446\n",
      "epoch: 03, loss: -0.96808\n",
      "epoch: 04, loss: -0.97056\n",
      "epoch: 05, loss: -0.97241\n",
      "epoch: 06, loss: -0.97389\n",
      "epoch: 07, loss: -0.97509\n",
      "epoch: 08, loss: -0.97607\n",
      "epoch: 09, loss: -0.97693\n",
      "torch.Size([1024, 64])\n"
     ]
    },
    {
     "name": "stderr",
     "output_type": "stream",
     "text": [
      " 40%|███▉      | 397/999 [8:06:14<11:52:11, 70.98s/it]"
     ]
    },
    {
     "name": "stdout",
     "output_type": "stream",
     "text": [
      "eigenvalues shape torch.Size([5]) eigenvectors shape torch.Size([5, 1024])\n",
      "397 /home/phdcs2/Hard_Disk/Datasets/Deep-Spectral-Segmentation/data/object-segmentation/ECSSD/features/0399_resized.pth\n",
      "dict_keys(['k', 'indices', 'file', 'id', 'model_name', 'patch_size', 'shape'])\n",
      "0399_resized\n"
     ]
    },
    {
     "name": "stderr",
     "output_type": "stream",
     "text": [
      "/home/phdcs2/Hard_Disk/Projects/T2I/deep-spectral-segmentation/venv/lib/python3.8/site-packages/sklearn/decomposition/_pca.py:642: RuntimeWarning: invalid value encountered in divide\n",
      "  self.explained_variance_ratio_ = self.explained_variance_ / total_var\n"
     ]
    },
    {
     "name": "stdout",
     "output_type": "stream",
     "text": [
      "Starting Training\n",
      "epoch: 00, loss: -0.93934\n",
      "epoch: 01, loss: -0.96333\n",
      "epoch: 02, loss: -0.96890\n",
      "epoch: 03, loss: -0.97216\n",
      "epoch: 04, loss: -0.97437\n",
      "epoch: 05, loss: -0.97601\n",
      "epoch: 06, loss: -0.97731\n",
      "epoch: 07, loss: -0.97836\n",
      "epoch: 08, loss: -0.97925\n",
      "epoch: 09, loss: -0.98001\n",
      "torch.Size([1024, 64])\n"
     ]
    },
    {
     "name": "stderr",
     "output_type": "stream",
     "text": [
      " 40%|███▉      | 398/999 [8:07:18<11:30:49, 68.97s/it]"
     ]
    },
    {
     "name": "stdout",
     "output_type": "stream",
     "text": [
      "eigenvalues shape torch.Size([5]) eigenvectors shape torch.Size([5, 1024])\n",
      "398 /home/phdcs2/Hard_Disk/Datasets/Deep-Spectral-Segmentation/data/object-segmentation/ECSSD/features/0400_resized.pth\n",
      "dict_keys(['k', 'indices', 'file', 'id', 'model_name', 'patch_size', 'shape'])\n",
      "0400_resized\n",
      "Starting Training\n",
      "epoch: 00, loss: -0.84060\n",
      "epoch: 01, loss: -0.90509\n",
      "epoch: 02, loss: -0.92099\n",
      "epoch: 03, loss: -0.92995\n",
      "epoch: 04, loss: -0.93597\n",
      "epoch: 05, loss: -0.94021\n",
      "epoch: 06, loss: -0.94359\n",
      "epoch: 07, loss: -0.94625\n",
      "epoch: 08, loss: -0.94861\n",
      "epoch: 09, loss: -0.95038\n",
      "torch.Size([1024, 64])\n"
     ]
    },
    {
     "name": "stderr",
     "output_type": "stream",
     "text": [
      " 40%|███▉      | 399/999 [8:08:32<11:42:25, 70.24s/it]"
     ]
    },
    {
     "name": "stdout",
     "output_type": "stream",
     "text": [
      "eigenvalues shape torch.Size([5]) eigenvectors shape torch.Size([5, 1024])\n",
      "399 /home/phdcs2/Hard_Disk/Datasets/Deep-Spectral-Segmentation/data/object-segmentation/ECSSD/features/0401_resized.pth\n",
      "dict_keys(['k', 'indices', 'file', 'id', 'model_name', 'patch_size', 'shape'])\n",
      "0401_resized\n",
      "Starting Training\n",
      "epoch: 00, loss: -0.88436\n",
      "epoch: 01, loss: -0.92972\n",
      "epoch: 02, loss: -0.94178\n",
      "epoch: 03, loss: -0.94849\n",
      "epoch: 04, loss: -0.95312\n",
      "epoch: 05, loss: -0.95649\n",
      "epoch: 06, loss: -0.95911\n",
      "epoch: 07, loss: -0.96139\n",
      "epoch: 08, loss: -0.96310\n",
      "epoch: 09, loss: -0.96460\n",
      "torch.Size([1024, 64])\n"
     ]
    },
    {
     "name": "stderr",
     "output_type": "stream",
     "text": [
      " 40%|████      | 400/999 [8:09:46<11:54:59, 71.62s/it]"
     ]
    },
    {
     "name": "stdout",
     "output_type": "stream",
     "text": [
      "eigenvalues shape torch.Size([5]) eigenvectors shape torch.Size([5, 1024])\n",
      "400 /home/phdcs2/Hard_Disk/Datasets/Deep-Spectral-Segmentation/data/object-segmentation/ECSSD/features/0402_resized.pth\n",
      "dict_keys(['k', 'indices', 'file', 'id', 'model_name', 'patch_size', 'shape'])\n",
      "0402_resized\n",
      "Starting Training\n",
      "epoch: 00, loss: -0.92539\n",
      "epoch: 01, loss: -0.95451\n",
      "epoch: 02, loss: -0.96113\n",
      "epoch: 03, loss: -0.96503\n",
      "epoch: 04, loss: -0.96771\n",
      "epoch: 05, loss: -0.96971\n",
      "epoch: 06, loss: -0.97130\n",
      "epoch: 07, loss: -0.97261\n",
      "epoch: 08, loss: -0.97369\n",
      "epoch: 09, loss: -0.97464\n",
      "torch.Size([1024, 64])\n"
     ]
    },
    {
     "name": "stderr",
     "output_type": "stream",
     "text": [
      " 40%|████      | 401/999 [8:10:58<11:53:33, 71.59s/it]"
     ]
    },
    {
     "name": "stdout",
     "output_type": "stream",
     "text": [
      "eigenvalues shape torch.Size([5]) eigenvectors shape torch.Size([5, 1024])\n",
      "401 /home/phdcs2/Hard_Disk/Datasets/Deep-Spectral-Segmentation/data/object-segmentation/ECSSD/features/0403_resized.pth\n",
      "dict_keys(['k', 'indices', 'file', 'id', 'model_name', 'patch_size', 'shape'])\n",
      "0403_resized\n",
      "Starting Training\n",
      "epoch: 00, loss: -0.89816\n",
      "epoch: 01, loss: -0.94148\n",
      "epoch: 02, loss: -0.95114\n",
      "epoch: 03, loss: -0.95647\n",
      "epoch: 04, loss: -0.96021\n",
      "epoch: 05, loss: -0.96302\n",
      "epoch: 06, loss: -0.96506\n",
      "epoch: 07, loss: -0.96681\n",
      "epoch: 08, loss: -0.96827\n",
      "epoch: 09, loss: -0.96952\n",
      "torch.Size([1024, 64])\n"
     ]
    },
    {
     "name": "stderr",
     "output_type": "stream",
     "text": [
      " 40%|████      | 402/999 [8:12:09<11:50:14, 71.38s/it]"
     ]
    },
    {
     "name": "stdout",
     "output_type": "stream",
     "text": [
      "eigenvalues shape torch.Size([5]) eigenvectors shape torch.Size([5, 1024])\n",
      "402 /home/phdcs2/Hard_Disk/Datasets/Deep-Spectral-Segmentation/data/object-segmentation/ECSSD/features/0404_resized.pth\n",
      "dict_keys(['k', 'indices', 'file', 'id', 'model_name', 'patch_size', 'shape'])\n",
      "0404_resized\n"
     ]
    },
    {
     "name": "stderr",
     "output_type": "stream",
     "text": [
      "/home/phdcs2/Hard_Disk/Projects/T2I/deep-spectral-segmentation/venv/lib/python3.8/site-packages/sklearn/decomposition/_pca.py:642: RuntimeWarning: invalid value encountered in divide\n",
      "  self.explained_variance_ratio_ = self.explained_variance_ / total_var\n"
     ]
    },
    {
     "name": "stdout",
     "output_type": "stream",
     "text": [
      "Starting Training\n",
      "epoch: 00, loss: -0.90614\n",
      "epoch: 01, loss: -0.94290\n",
      "epoch: 02, loss: -0.95198\n",
      "epoch: 03, loss: -0.95713\n",
      "epoch: 04, loss: -0.96066\n",
      "epoch: 05, loss: -0.96330\n",
      "epoch: 06, loss: -0.96537\n",
      "epoch: 07, loss: -0.96703\n",
      "epoch: 08, loss: -0.96842\n",
      "epoch: 09, loss: -0.96962\n",
      "torch.Size([1024, 64])\n"
     ]
    },
    {
     "name": "stderr",
     "output_type": "stream",
     "text": [
      " 40%|████      | 403/999 [8:13:13<11:26:19, 69.09s/it]"
     ]
    },
    {
     "name": "stdout",
     "output_type": "stream",
     "text": [
      "eigenvalues shape torch.Size([5]) eigenvectors shape torch.Size([5, 1024])\n",
      "403 /home/phdcs2/Hard_Disk/Datasets/Deep-Spectral-Segmentation/data/object-segmentation/ECSSD/features/0405_resized.pth\n",
      "dict_keys(['k', 'indices', 'file', 'id', 'model_name', 'patch_size', 'shape'])\n",
      "0405_resized\n",
      "Starting Training\n",
      "epoch: 00, loss: -0.92551\n",
      "epoch: 01, loss: -0.95684\n",
      "epoch: 02, loss: -0.96360\n",
      "epoch: 03, loss: -0.96750\n",
      "epoch: 04, loss: -0.97016\n",
      "epoch: 05, loss: -0.97214\n",
      "epoch: 06, loss: -0.97367\n",
      "epoch: 07, loss: -0.97492\n",
      "epoch: 08, loss: -0.97596\n",
      "epoch: 09, loss: -0.97687\n",
      "torch.Size([1024, 64])\n"
     ]
    },
    {
     "name": "stderr",
     "output_type": "stream",
     "text": [
      " 40%|████      | 404/999 [8:14:21<11:23:54, 68.97s/it]"
     ]
    },
    {
     "name": "stdout",
     "output_type": "stream",
     "text": [
      "eigenvalues shape torch.Size([5]) eigenvectors shape torch.Size([5, 1024])\n",
      "404 /home/phdcs2/Hard_Disk/Datasets/Deep-Spectral-Segmentation/data/object-segmentation/ECSSD/features/0406_resized.pth\n",
      "dict_keys(['k', 'indices', 'file', 'id', 'model_name', 'patch_size', 'shape'])\n",
      "0406_resized\n"
     ]
    },
    {
     "name": "stderr",
     "output_type": "stream",
     "text": [
      "/home/phdcs2/Hard_Disk/Projects/T2I/deep-spectral-segmentation/venv/lib/python3.8/site-packages/sklearn/decomposition/_pca.py:642: RuntimeWarning: invalid value encountered in divide\n",
      "  self.explained_variance_ratio_ = self.explained_variance_ / total_var\n"
     ]
    },
    {
     "name": "stdout",
     "output_type": "stream",
     "text": [
      "Starting Training\n",
      "epoch: 00, loss: -0.91455\n",
      "epoch: 01, loss: -0.95275\n",
      "epoch: 02, loss: -0.96039\n",
      "epoch: 03, loss: -0.96474\n",
      "epoch: 04, loss: -0.96770\n",
      "epoch: 05, loss: -0.96992\n",
      "epoch: 06, loss: -0.97167\n",
      "epoch: 07, loss: -0.97308\n",
      "epoch: 08, loss: -0.97424\n",
      "epoch: 09, loss: -0.97525\n",
      "torch.Size([1024, 64])\n"
     ]
    },
    {
     "name": "stderr",
     "output_type": "stream",
     "text": [
      " 41%|████      | 405/999 [8:15:30<11:23:04, 69.00s/it]"
     ]
    },
    {
     "name": "stdout",
     "output_type": "stream",
     "text": [
      "eigenvalues shape torch.Size([5]) eigenvectors shape torch.Size([5, 1024])\n",
      "405 /home/phdcs2/Hard_Disk/Datasets/Deep-Spectral-Segmentation/data/object-segmentation/ECSSD/features/0407_resized.pth\n",
      "dict_keys(['k', 'indices', 'file', 'id', 'model_name', 'patch_size', 'shape'])\n",
      "0407_resized\n",
      "Starting Training\n",
      "epoch: 00, loss: -0.83583\n",
      "epoch: 01, loss: -0.90025\n",
      "epoch: 02, loss: -0.91807\n",
      "epoch: 03, loss: -0.92793\n",
      "epoch: 04, loss: -0.93438\n",
      "epoch: 05, loss: -0.93915\n",
      "epoch: 06, loss: -0.94281\n",
      "epoch: 07, loss: -0.94597\n",
      "epoch: 08, loss: -0.94850\n",
      "epoch: 09, loss: -0.95064\n",
      "torch.Size([1024, 64])\n"
     ]
    },
    {
     "name": "stderr",
     "output_type": "stream",
     "text": [
      " 41%|████      | 406/999 [8:16:34<11:06:24, 67.43s/it]"
     ]
    },
    {
     "name": "stdout",
     "output_type": "stream",
     "text": [
      "eigenvalues shape torch.Size([5]) eigenvectors shape torch.Size([5, 1024])\n",
      "406 /home/phdcs2/Hard_Disk/Datasets/Deep-Spectral-Segmentation/data/object-segmentation/ECSSD/features/0408_resized.pth\n",
      "dict_keys(['k', 'indices', 'file', 'id', 'model_name', 'patch_size', 'shape'])\n",
      "0408_resized\n",
      "Starting Training\n",
      "epoch: 00, loss: -0.92065\n",
      "epoch: 01, loss: -0.95307\n",
      "epoch: 02, loss: -0.96006\n",
      "epoch: 03, loss: -0.96413\n",
      "epoch: 04, loss: -0.96692\n",
      "epoch: 05, loss: -0.96898\n",
      "epoch: 06, loss: -0.97060\n",
      "epoch: 07, loss: -0.97196\n",
      "epoch: 08, loss: -0.97309\n",
      "epoch: 09, loss: -0.97399\n",
      "torch.Size([1024, 64])\n"
     ]
    },
    {
     "name": "stderr",
     "output_type": "stream",
     "text": [
      " 41%|████      | 407/999 [8:17:51<11:32:25, 70.18s/it]"
     ]
    },
    {
     "name": "stdout",
     "output_type": "stream",
     "text": [
      "eigenvalues shape torch.Size([5]) eigenvectors shape torch.Size([5, 1024])\n",
      "407 /home/phdcs2/Hard_Disk/Datasets/Deep-Spectral-Segmentation/data/object-segmentation/ECSSD/features/0409_resized.pth\n",
      "dict_keys(['k', 'indices', 'file', 'id', 'model_name', 'patch_size', 'shape'])\n",
      "0409_resized\n"
     ]
    },
    {
     "name": "stderr",
     "output_type": "stream",
     "text": [
      "/home/phdcs2/Hard_Disk/Projects/T2I/deep-spectral-segmentation/venv/lib/python3.8/site-packages/sklearn/decomposition/_pca.py:642: RuntimeWarning: invalid value encountered in divide\n",
      "  self.explained_variance_ratio_ = self.explained_variance_ / total_var\n"
     ]
    },
    {
     "name": "stdout",
     "output_type": "stream",
     "text": [
      "Starting Training\n",
      "epoch: 00, loss: -0.90737\n",
      "epoch: 01, loss: -0.94430\n",
      "epoch: 02, loss: -0.95294\n",
      "epoch: 03, loss: -0.95798\n",
      "epoch: 04, loss: -0.96141\n",
      "epoch: 05, loss: -0.96395\n",
      "epoch: 06, loss: -0.96602\n",
      "epoch: 07, loss: -0.96763\n",
      "epoch: 08, loss: -0.96904\n",
      "epoch: 09, loss: -0.97016\n",
      "torch.Size([1024, 64])\n"
     ]
    },
    {
     "name": "stderr",
     "output_type": "stream",
     "text": [
      " 41%|████      | 408/999 [8:19:08<11:51:05, 72.19s/it]"
     ]
    },
    {
     "name": "stdout",
     "output_type": "stream",
     "text": [
      "eigenvalues shape torch.Size([5]) eigenvectors shape torch.Size([5, 1024])\n",
      "408 /home/phdcs2/Hard_Disk/Datasets/Deep-Spectral-Segmentation/data/object-segmentation/ECSSD/features/0410_resized.pth\n",
      "dict_keys(['k', 'indices', 'file', 'id', 'model_name', 'patch_size', 'shape'])\n",
      "0410_resized\n",
      "Starting Training\n",
      "epoch: 00, loss: -0.87209\n",
      "epoch: 01, loss: -0.92430\n",
      "epoch: 02, loss: -0.93789\n",
      "epoch: 03, loss: -0.94530\n",
      "epoch: 04, loss: -0.95030\n",
      "epoch: 05, loss: -0.95408\n",
      "epoch: 06, loss: -0.95693\n",
      "epoch: 07, loss: -0.95923\n",
      "epoch: 08, loss: -0.96127\n",
      "epoch: 09, loss: -0.96288\n",
      "torch.Size([1024, 64])\n"
     ]
    },
    {
     "name": "stderr",
     "output_type": "stream",
     "text": [
      " 41%|████      | 409/999 [8:20:23<11:59:12, 73.14s/it]"
     ]
    },
    {
     "name": "stdout",
     "output_type": "stream",
     "text": [
      "eigenvalues shape torch.Size([5]) eigenvectors shape torch.Size([5, 1024])\n",
      "409 /home/phdcs2/Hard_Disk/Datasets/Deep-Spectral-Segmentation/data/object-segmentation/ECSSD/features/0411_resized.pth\n",
      "dict_keys(['k', 'indices', 'file', 'id', 'model_name', 'patch_size', 'shape'])\n",
      "0411_resized\n",
      "Starting Training\n",
      "epoch: 00, loss: -0.86044\n",
      "epoch: 01, loss: -0.91702\n",
      "epoch: 02, loss: -0.93186\n",
      "epoch: 03, loss: -0.94026\n",
      "epoch: 04, loss: -0.94592\n",
      "epoch: 05, loss: -0.95012\n",
      "epoch: 06, loss: -0.95329\n",
      "epoch: 07, loss: -0.95577\n",
      "epoch: 08, loss: -0.95793\n",
      "epoch: 09, loss: -0.95976\n",
      "torch.Size([1024, 64])\n"
     ]
    },
    {
     "name": "stderr",
     "output_type": "stream",
     "text": [
      " 41%|████      | 410/999 [8:21:40<12:08:51, 74.25s/it]"
     ]
    },
    {
     "name": "stdout",
     "output_type": "stream",
     "text": [
      "eigenvalues shape torch.Size([5]) eigenvectors shape torch.Size([5, 1024])\n",
      "410 /home/phdcs2/Hard_Disk/Datasets/Deep-Spectral-Segmentation/data/object-segmentation/ECSSD/features/0412_resized.pth\n",
      "dict_keys(['k', 'indices', 'file', 'id', 'model_name', 'patch_size', 'shape'])\n",
      "0412_resized\n",
      "Starting Training\n",
      "epoch: 00, loss: -0.87484\n",
      "epoch: 01, loss: -0.92725\n",
      "epoch: 02, loss: -0.93956\n",
      "epoch: 03, loss: -0.94665\n",
      "epoch: 04, loss: -0.95133\n",
      "epoch: 05, loss: -0.95487\n",
      "epoch: 06, loss: -0.95747\n",
      "epoch: 07, loss: -0.95977\n",
      "epoch: 08, loss: -0.96156\n",
      "epoch: 09, loss: -0.96312\n",
      "torch.Size([1024, 64])\n"
     ]
    },
    {
     "name": "stderr",
     "output_type": "stream",
     "text": [
      " 41%|████      | 411/999 [8:22:54<12:07:13, 74.21s/it]"
     ]
    },
    {
     "name": "stdout",
     "output_type": "stream",
     "text": [
      "eigenvalues shape torch.Size([5]) eigenvectors shape torch.Size([5, 1024])\n",
      "411 /home/phdcs2/Hard_Disk/Datasets/Deep-Spectral-Segmentation/data/object-segmentation/ECSSD/features/0413_resized.pth\n",
      "dict_keys(['k', 'indices', 'file', 'id', 'model_name', 'patch_size', 'shape'])\n",
      "0413_resized\n",
      "Starting Training\n",
      "epoch: 00, loss: -0.93079\n",
      "epoch: 01, loss: -0.95713\n",
      "epoch: 02, loss: -0.96381\n",
      "epoch: 03, loss: -0.96767\n",
      "epoch: 04, loss: -0.97036\n",
      "epoch: 05, loss: -0.97228\n",
      "epoch: 06, loss: -0.97385\n",
      "epoch: 07, loss: -0.97509\n",
      "epoch: 08, loss: -0.97616\n",
      "epoch: 09, loss: -0.97705\n",
      "torch.Size([1024, 64])\n"
     ]
    },
    {
     "name": "stderr",
     "output_type": "stream",
     "text": [
      " 41%|████      | 412/999 [8:24:07<12:02:25, 73.84s/it]"
     ]
    },
    {
     "name": "stdout",
     "output_type": "stream",
     "text": [
      "eigenvalues shape torch.Size([5]) eigenvectors shape torch.Size([5, 1024])\n",
      "412 /home/phdcs2/Hard_Disk/Datasets/Deep-Spectral-Segmentation/data/object-segmentation/ECSSD/features/0414_resized.pth\n",
      "dict_keys(['k', 'indices', 'file', 'id', 'model_name', 'patch_size', 'shape'])\n",
      "0414_resized\n"
     ]
    },
    {
     "name": "stderr",
     "output_type": "stream",
     "text": [
      "/home/phdcs2/Hard_Disk/Projects/T2I/deep-spectral-segmentation/venv/lib/python3.8/site-packages/sklearn/decomposition/_pca.py:642: RuntimeWarning: invalid value encountered in divide\n",
      "  self.explained_variance_ratio_ = self.explained_variance_ / total_var\n"
     ]
    },
    {
     "name": "stdout",
     "output_type": "stream",
     "text": [
      "Starting Training\n",
      "epoch: 00, loss: -0.92819\n",
      "epoch: 01, loss: -0.95835\n",
      "epoch: 02, loss: -0.96466\n",
      "epoch: 03, loss: -0.96843\n",
      "epoch: 04, loss: -0.97093\n",
      "epoch: 05, loss: -0.97281\n",
      "epoch: 06, loss: -0.97431\n",
      "epoch: 07, loss: -0.97554\n",
      "epoch: 08, loss: -0.97656\n",
      "epoch: 09, loss: -0.97743\n",
      "torch.Size([1024, 64])\n"
     ]
    },
    {
     "name": "stderr",
     "output_type": "stream",
     "text": [
      " 41%|████▏     | 413/999 [8:25:12<11:36:21, 71.30s/it]"
     ]
    },
    {
     "name": "stdout",
     "output_type": "stream",
     "text": [
      "eigenvalues shape torch.Size([5]) eigenvectors shape torch.Size([5, 1024])\n",
      "413 /home/phdcs2/Hard_Disk/Datasets/Deep-Spectral-Segmentation/data/object-segmentation/ECSSD/features/0415_resized.pth\n",
      "dict_keys(['k', 'indices', 'file', 'id', 'model_name', 'patch_size', 'shape'])\n",
      "0415_resized\n"
     ]
    },
    {
     "name": "stderr",
     "output_type": "stream",
     "text": [
      "/home/phdcs2/Hard_Disk/Projects/T2I/deep-spectral-segmentation/venv/lib/python3.8/site-packages/sklearn/decomposition/_pca.py:642: RuntimeWarning: invalid value encountered in divide\n",
      "  self.explained_variance_ratio_ = self.explained_variance_ / total_var\n"
     ]
    },
    {
     "name": "stdout",
     "output_type": "stream",
     "text": [
      "Starting Training\n",
      "epoch: 00, loss: -0.92738\n",
      "epoch: 01, loss: -0.95710\n",
      "epoch: 02, loss: -0.96373\n",
      "epoch: 03, loss: -0.96761\n",
      "epoch: 04, loss: -0.97027\n",
      "epoch: 05, loss: -0.97225\n",
      "epoch: 06, loss: -0.97380\n",
      "epoch: 07, loss: -0.97506\n",
      "epoch: 08, loss: -0.97611\n",
      "epoch: 09, loss: -0.97702\n",
      "torch.Size([1024, 64])\n"
     ]
    },
    {
     "name": "stderr",
     "output_type": "stream",
     "text": [
      " 41%|████▏     | 414/999 [8:26:17<11:15:22, 69.27s/it]"
     ]
    },
    {
     "name": "stdout",
     "output_type": "stream",
     "text": [
      "eigenvalues shape torch.Size([5]) eigenvectors shape torch.Size([5, 1024])\n",
      "414 /home/phdcs2/Hard_Disk/Datasets/Deep-Spectral-Segmentation/data/object-segmentation/ECSSD/features/0416_resized.pth\n",
      "dict_keys(['k', 'indices', 'file', 'id', 'model_name', 'patch_size', 'shape'])\n",
      "0416_resized\n",
      "Starting Training\n",
      "epoch: 00, loss: -0.86594\n",
      "epoch: 01, loss: -0.92309\n",
      "epoch: 02, loss: -0.93711\n",
      "epoch: 03, loss: -0.94476\n",
      "epoch: 04, loss: -0.94998\n",
      "epoch: 05, loss: -0.95379\n",
      "epoch: 06, loss: -0.95678\n",
      "epoch: 07, loss: -0.95911\n",
      "epoch: 08, loss: -0.96109\n",
      "epoch: 09, loss: -0.96273\n",
      "torch.Size([1024, 64])\n"
     ]
    },
    {
     "name": "stderr",
     "output_type": "stream",
     "text": [
      " 42%|████▏     | 415/999 [8:27:36<11:43:56, 72.32s/it]"
     ]
    },
    {
     "name": "stdout",
     "output_type": "stream",
     "text": [
      "eigenvalues shape torch.Size([5]) eigenvectors shape torch.Size([5, 1024])\n",
      "415 /home/phdcs2/Hard_Disk/Datasets/Deep-Spectral-Segmentation/data/object-segmentation/ECSSD/features/0417_resized.pth\n",
      "dict_keys(['k', 'indices', 'file', 'id', 'model_name', 'patch_size', 'shape'])\n",
      "0417_resized\n",
      "Starting Training\n",
      "epoch: 00, loss: -0.84526\n",
      "epoch: 01, loss: -0.91033\n",
      "epoch: 02, loss: -0.92704\n",
      "epoch: 03, loss: -0.93638\n",
      "epoch: 04, loss: -0.94262\n",
      "epoch: 05, loss: -0.94727\n",
      "epoch: 06, loss: -0.95061\n",
      "epoch: 07, loss: -0.95349\n",
      "epoch: 08, loss: -0.95565\n",
      "epoch: 09, loss: -0.95764\n",
      "torch.Size([1024, 64])\n"
     ]
    },
    {
     "name": "stderr",
     "output_type": "stream",
     "text": [
      " 42%|████▏     | 416/999 [8:28:51<11:51:11, 73.19s/it]"
     ]
    },
    {
     "name": "stdout",
     "output_type": "stream",
     "text": [
      "eigenvalues shape torch.Size([5]) eigenvectors shape torch.Size([5, 1024])\n",
      "416 /home/phdcs2/Hard_Disk/Datasets/Deep-Spectral-Segmentation/data/object-segmentation/ECSSD/features/0418_resized.pth\n",
      "dict_keys(['k', 'indices', 'file', 'id', 'model_name', 'patch_size', 'shape'])\n",
      "0418_resized\n",
      "Starting Training\n",
      "epoch: 00, loss: -0.89699\n",
      "epoch: 01, loss: -0.93991\n",
      "epoch: 02, loss: -0.94978\n",
      "epoch: 03, loss: -0.95558\n",
      "epoch: 04, loss: -0.95932\n",
      "epoch: 05, loss: -0.96211\n",
      "epoch: 06, loss: -0.96435\n",
      "epoch: 07, loss: -0.96610\n",
      "epoch: 08, loss: -0.96760\n",
      "epoch: 09, loss: -0.96888\n",
      "torch.Size([1024, 64])\n"
     ]
    },
    {
     "name": "stderr",
     "output_type": "stream",
     "text": [
      " 42%|████▏     | 417/999 [8:30:07<11:56:57, 73.91s/it]"
     ]
    },
    {
     "name": "stdout",
     "output_type": "stream",
     "text": [
      "eigenvalues shape torch.Size([5]) eigenvectors shape torch.Size([5, 1024])\n",
      "417 /home/phdcs2/Hard_Disk/Datasets/Deep-Spectral-Segmentation/data/object-segmentation/ECSSD/features/0419_resized.pth\n",
      "dict_keys(['k', 'indices', 'file', 'id', 'model_name', 'patch_size', 'shape'])\n",
      "0419_resized\n",
      "Starting Training\n",
      "epoch: 00, loss: -0.90344\n",
      "epoch: 01, loss: -0.94088\n",
      "epoch: 02, loss: -0.95091\n",
      "epoch: 03, loss: -0.95663\n",
      "epoch: 04, loss: -0.96053\n",
      "epoch: 05, loss: -0.96339\n",
      "epoch: 06, loss: -0.96562\n",
      "epoch: 07, loss: -0.96743\n",
      "epoch: 08, loss: -0.96897\n",
      "epoch: 09, loss: -0.97024\n",
      "torch.Size([1024, 64])\n"
     ]
    },
    {
     "name": "stderr",
     "output_type": "stream",
     "text": [
      " 42%|████▏     | 418/999 [8:31:23<12:02:56, 74.66s/it]"
     ]
    },
    {
     "name": "stdout",
     "output_type": "stream",
     "text": [
      "eigenvalues shape torch.Size([5]) eigenvectors shape torch.Size([5, 1024])\n",
      "418 /home/phdcs2/Hard_Disk/Datasets/Deep-Spectral-Segmentation/data/object-segmentation/ECSSD/features/0420_resized.pth\n",
      "dict_keys(['k', 'indices', 'file', 'id', 'model_name', 'patch_size', 'shape'])\n",
      "0420_resized\n"
     ]
    },
    {
     "name": "stderr",
     "output_type": "stream",
     "text": [
      "/home/phdcs2/Hard_Disk/Projects/T2I/deep-spectral-segmentation/venv/lib/python3.8/site-packages/sklearn/decomposition/_pca.py:642: RuntimeWarning: invalid value encountered in divide\n",
      "  self.explained_variance_ratio_ = self.explained_variance_ / total_var\n"
     ]
    },
    {
     "name": "stdout",
     "output_type": "stream",
     "text": [
      "Starting Training\n",
      "epoch: 00, loss: -0.91979\n",
      "epoch: 01, loss: -0.95058\n",
      "epoch: 02, loss: -0.95815\n",
      "epoch: 03, loss: -0.96261\n",
      "epoch: 04, loss: -0.96562\n",
      "epoch: 05, loss: -0.96788\n",
      "epoch: 06, loss: -0.96967\n",
      "epoch: 07, loss: -0.97112\n",
      "epoch: 08, loss: -0.97236\n",
      "epoch: 09, loss: -0.97341\n",
      "torch.Size([1024, 64])\n"
     ]
    },
    {
     "name": "stderr",
     "output_type": "stream",
     "text": [
      " 42%|████▏     | 419/999 [8:32:36<11:57:05, 74.18s/it]"
     ]
    },
    {
     "name": "stdout",
     "output_type": "stream",
     "text": [
      "eigenvalues shape torch.Size([5]) eigenvectors shape torch.Size([5, 1024])\n",
      "419 /home/phdcs2/Hard_Disk/Datasets/Deep-Spectral-Segmentation/data/object-segmentation/ECSSD/features/0421_resized.pth\n",
      "dict_keys(['k', 'indices', 'file', 'id', 'model_name', 'patch_size', 'shape'])\n",
      "0421_resized\n",
      "Starting Training\n",
      "epoch: 00, loss: -0.93414\n",
      "epoch: 01, loss: -0.96353\n",
      "epoch: 02, loss: -0.96934\n",
      "epoch: 03, loss: -0.97271\n",
      "epoch: 04, loss: -0.97503\n",
      "epoch: 05, loss: -0.97672\n",
      "epoch: 06, loss: -0.97804\n",
      "epoch: 07, loss: -0.97911\n",
      "epoch: 08, loss: -0.98003\n",
      "epoch: 09, loss: -0.98081\n",
      "torch.Size([1024, 64])\n"
     ]
    },
    {
     "name": "stderr",
     "output_type": "stream",
     "text": [
      " 42%|████▏     | 420/999 [8:33:46<11:40:58, 72.64s/it]"
     ]
    },
    {
     "name": "stdout",
     "output_type": "stream",
     "text": [
      "eigenvalues shape torch.Size([5]) eigenvectors shape torch.Size([5, 1024])\n",
      "420 /home/phdcs2/Hard_Disk/Datasets/Deep-Spectral-Segmentation/data/object-segmentation/ECSSD/features/0422_resized.pth\n",
      "dict_keys(['k', 'indices', 'file', 'id', 'model_name', 'patch_size', 'shape'])\n",
      "0422_resized\n"
     ]
    },
    {
     "name": "stderr",
     "output_type": "stream",
     "text": [
      "/home/phdcs2/Hard_Disk/Projects/T2I/deep-spectral-segmentation/venv/lib/python3.8/site-packages/sklearn/decomposition/_pca.py:642: RuntimeWarning: invalid value encountered in divide\n",
      "  self.explained_variance_ratio_ = self.explained_variance_ / total_var\n"
     ]
    },
    {
     "name": "stdout",
     "output_type": "stream",
     "text": [
      "Starting Training\n",
      "epoch: 00, loss: -0.91464\n",
      "epoch: 01, loss: -0.94983\n",
      "epoch: 02, loss: -0.95770\n",
      "epoch: 03, loss: -0.96210\n",
      "epoch: 04, loss: -0.96518\n",
      "epoch: 05, loss: -0.96745\n",
      "epoch: 06, loss: -0.96923\n",
      "epoch: 07, loss: -0.97068\n",
      "epoch: 08, loss: -0.97189\n",
      "epoch: 09, loss: -0.97293\n",
      "torch.Size([1024, 64])\n"
     ]
    },
    {
     "name": "stderr",
     "output_type": "stream",
     "text": [
      " 42%|████▏     | 421/999 [8:34:50<11:16:37, 70.24s/it]"
     ]
    },
    {
     "name": "stdout",
     "output_type": "stream",
     "text": [
      "eigenvalues shape torch.Size([5]) eigenvectors shape torch.Size([5, 1024])\n",
      "421 /home/phdcs2/Hard_Disk/Datasets/Deep-Spectral-Segmentation/data/object-segmentation/ECSSD/features/0423_resized.pth\n",
      "dict_keys(['k', 'indices', 'file', 'id', 'model_name', 'patch_size', 'shape'])\n",
      "0423_resized\n",
      "Starting Training\n",
      "epoch: 00, loss: -0.91089\n",
      "epoch: 01, loss: -0.94600\n",
      "epoch: 02, loss: -0.95405\n",
      "epoch: 03, loss: -0.95882\n",
      "epoch: 04, loss: -0.96204\n",
      "epoch: 05, loss: -0.96442\n",
      "epoch: 06, loss: -0.96635\n",
      "epoch: 07, loss: -0.96790\n",
      "epoch: 08, loss: -0.96920\n",
      "epoch: 09, loss: -0.97034\n",
      "torch.Size([1024, 64])\n"
     ]
    },
    {
     "name": "stderr",
     "output_type": "stream",
     "text": [
      " 42%|████▏     | 422/999 [8:36:03<11:22:30, 70.97s/it]"
     ]
    },
    {
     "name": "stdout",
     "output_type": "stream",
     "text": [
      "eigenvalues shape torch.Size([5]) eigenvectors shape torch.Size([5, 1024])\n",
      "422 /home/phdcs2/Hard_Disk/Datasets/Deep-Spectral-Segmentation/data/object-segmentation/ECSSD/features/0424_resized.pth\n",
      "dict_keys(['k', 'indices', 'file', 'id', 'model_name', 'patch_size', 'shape'])\n",
      "0424_resized\n"
     ]
    },
    {
     "name": "stderr",
     "output_type": "stream",
     "text": [
      "/home/phdcs2/Hard_Disk/Projects/T2I/deep-spectral-segmentation/venv/lib/python3.8/site-packages/sklearn/decomposition/_pca.py:642: RuntimeWarning: invalid value encountered in divide\n",
      "  self.explained_variance_ratio_ = self.explained_variance_ / total_var\n"
     ]
    },
    {
     "name": "stdout",
     "output_type": "stream",
     "text": [
      "Starting Training\n",
      "epoch: 00, loss: -0.90890\n",
      "epoch: 01, loss: -0.94694\n",
      "epoch: 02, loss: -0.95548\n",
      "epoch: 03, loss: -0.96046\n",
      "epoch: 04, loss: -0.96384\n",
      "epoch: 05, loss: -0.96632\n",
      "epoch: 06, loss: -0.96829\n",
      "epoch: 07, loss: -0.96987\n",
      "epoch: 08, loss: -0.97120\n",
      "epoch: 09, loss: -0.97232\n",
      "torch.Size([1024, 64])\n"
     ]
    },
    {
     "name": "stderr",
     "output_type": "stream",
     "text": [
      " 42%|████▏     | 423/999 [8:37:19<11:35:46, 72.48s/it]"
     ]
    },
    {
     "name": "stdout",
     "output_type": "stream",
     "text": [
      "eigenvalues shape torch.Size([5]) eigenvectors shape torch.Size([5, 1024])\n",
      "423 /home/phdcs2/Hard_Disk/Datasets/Deep-Spectral-Segmentation/data/object-segmentation/ECSSD/features/0425_resized.pth\n",
      "dict_keys(['k', 'indices', 'file', 'id', 'model_name', 'patch_size', 'shape'])\n",
      "0425_resized\n"
     ]
    },
    {
     "name": "stderr",
     "output_type": "stream",
     "text": [
      "/home/phdcs2/Hard_Disk/Projects/T2I/deep-spectral-segmentation/venv/lib/python3.8/site-packages/sklearn/decomposition/_pca.py:642: RuntimeWarning: invalid value encountered in divide\n",
      "  self.explained_variance_ratio_ = self.explained_variance_ / total_var\n"
     ]
    },
    {
     "name": "stdout",
     "output_type": "stream",
     "text": [
      "Starting Training\n",
      "epoch: 00, loss: -0.90327\n",
      "epoch: 01, loss: -0.94136\n",
      "epoch: 02, loss: -0.95057\n",
      "epoch: 03, loss: -0.95584\n",
      "epoch: 04, loss: -0.95951\n",
      "epoch: 05, loss: -0.96222\n",
      "epoch: 06, loss: -0.96439\n",
      "epoch: 07, loss: -0.96611\n",
      "epoch: 08, loss: -0.96760\n",
      "epoch: 09, loss: -0.96883\n",
      "torch.Size([1024, 64])\n"
     ]
    },
    {
     "name": "stderr",
     "output_type": "stream",
     "text": [
      " 42%|████▏     | 424/999 [8:38:32<11:35:09, 72.54s/it]"
     ]
    },
    {
     "name": "stdout",
     "output_type": "stream",
     "text": [
      "eigenvalues shape torch.Size([5]) eigenvectors shape torch.Size([5, 1024])\n",
      "424 /home/phdcs2/Hard_Disk/Datasets/Deep-Spectral-Segmentation/data/object-segmentation/ECSSD/features/0426_resized.pth\n",
      "dict_keys(['k', 'indices', 'file', 'id', 'model_name', 'patch_size', 'shape'])\n",
      "0426_resized\n"
     ]
    },
    {
     "name": "stderr",
     "output_type": "stream",
     "text": [
      "/home/phdcs2/Hard_Disk/Projects/T2I/deep-spectral-segmentation/venv/lib/python3.8/site-packages/sklearn/decomposition/_pca.py:642: RuntimeWarning: invalid value encountered in divide\n",
      "  self.explained_variance_ratio_ = self.explained_variance_ / total_var\n"
     ]
    },
    {
     "name": "stdout",
     "output_type": "stream",
     "text": [
      "Starting Training\n",
      "epoch: 00, loss: -0.91067\n",
      "epoch: 01, loss: -0.94505\n",
      "epoch: 02, loss: -0.95389\n",
      "epoch: 03, loss: -0.95900\n",
      "epoch: 04, loss: -0.96244\n",
      "epoch: 05, loss: -0.96504\n",
      "epoch: 06, loss: -0.96709\n",
      "epoch: 07, loss: -0.96875\n",
      "epoch: 08, loss: -0.97013\n",
      "epoch: 09, loss: -0.97131\n",
      "torch.Size([1024, 64])\n"
     ]
    },
    {
     "name": "stderr",
     "output_type": "stream",
     "text": [
      " 43%|████▎     | 425/999 [8:39:43<11:31:46, 72.31s/it]"
     ]
    },
    {
     "name": "stdout",
     "output_type": "stream",
     "text": [
      "eigenvalues shape torch.Size([5]) eigenvectors shape torch.Size([5, 1024])\n",
      "425 /home/phdcs2/Hard_Disk/Datasets/Deep-Spectral-Segmentation/data/object-segmentation/ECSSD/features/0427_resized.pth\n",
      "dict_keys(['k', 'indices', 'file', 'id', 'model_name', 'patch_size', 'shape'])\n",
      "0427_resized\n"
     ]
    },
    {
     "name": "stderr",
     "output_type": "stream",
     "text": [
      "/home/phdcs2/Hard_Disk/Projects/T2I/deep-spectral-segmentation/venv/lib/python3.8/site-packages/sklearn/decomposition/_pca.py:642: RuntimeWarning: invalid value encountered in divide\n",
      "  self.explained_variance_ratio_ = self.explained_variance_ / total_var\n"
     ]
    },
    {
     "name": "stdout",
     "output_type": "stream",
     "text": [
      "Starting Training\n",
      "epoch: 00, loss: -0.93166\n",
      "epoch: 01, loss: -0.96038\n",
      "epoch: 02, loss: -0.96648\n",
      "epoch: 03, loss: -0.97001\n",
      "epoch: 04, loss: -0.97244\n",
      "epoch: 05, loss: -0.97426\n",
      "epoch: 06, loss: -0.97565\n",
      "epoch: 07, loss: -0.97680\n",
      "epoch: 08, loss: -0.97777\n",
      "epoch: 09, loss: -0.97859\n",
      "torch.Size([1024, 64])\n"
     ]
    },
    {
     "name": "stderr",
     "output_type": "stream",
     "text": [
      " 43%|████▎     | 426/999 [8:40:51<11:16:03, 70.79s/it]"
     ]
    },
    {
     "name": "stdout",
     "output_type": "stream",
     "text": [
      "eigenvalues shape torch.Size([5]) eigenvectors shape torch.Size([5, 1024])\n",
      "426 /home/phdcs2/Hard_Disk/Datasets/Deep-Spectral-Segmentation/data/object-segmentation/ECSSD/features/0428_resized.pth\n",
      "dict_keys(['k', 'indices', 'file', 'id', 'model_name', 'patch_size', 'shape'])\n",
      "0428_resized\n"
     ]
    },
    {
     "name": "stderr",
     "output_type": "stream",
     "text": [
      "/home/phdcs2/Hard_Disk/Projects/T2I/deep-spectral-segmentation/venv/lib/python3.8/site-packages/sklearn/decomposition/_pca.py:642: RuntimeWarning: invalid value encountered in divide\n",
      "  self.explained_variance_ratio_ = self.explained_variance_ / total_var\n"
     ]
    },
    {
     "name": "stdout",
     "output_type": "stream",
     "text": [
      "Starting Training\n",
      "epoch: 00, loss: -0.92224\n",
      "epoch: 01, loss: -0.95199\n",
      "epoch: 02, loss: -0.95932\n",
      "epoch: 03, loss: -0.96363\n",
      "epoch: 04, loss: -0.96656\n",
      "epoch: 05, loss: -0.96882\n",
      "epoch: 06, loss: -0.97052\n",
      "epoch: 07, loss: -0.97194\n",
      "epoch: 08, loss: -0.97312\n",
      "epoch: 09, loss: -0.97411\n",
      "torch.Size([1024, 64])\n"
     ]
    },
    {
     "name": "stderr",
     "output_type": "stream",
     "text": [
      " 43%|████▎     | 427/999 [8:41:57<11:03:08, 69.56s/it]"
     ]
    },
    {
     "name": "stdout",
     "output_type": "stream",
     "text": [
      "eigenvalues shape torch.Size([5]) eigenvectors shape torch.Size([5, 1024])\n",
      "427 /home/phdcs2/Hard_Disk/Datasets/Deep-Spectral-Segmentation/data/object-segmentation/ECSSD/features/0429_resized.pth\n",
      "dict_keys(['k', 'indices', 'file', 'id', 'model_name', 'patch_size', 'shape'])\n",
      "0429_resized\n"
     ]
    },
    {
     "name": "stderr",
     "output_type": "stream",
     "text": [
      "/home/phdcs2/Hard_Disk/Projects/T2I/deep-spectral-segmentation/venv/lib/python3.8/site-packages/sklearn/decomposition/_pca.py:642: RuntimeWarning: invalid value encountered in divide\n",
      "  self.explained_variance_ratio_ = self.explained_variance_ / total_var\n"
     ]
    },
    {
     "name": "stdout",
     "output_type": "stream",
     "text": [
      "Starting Training\n",
      "epoch: 00, loss: -0.90523\n",
      "epoch: 01, loss: -0.94249\n",
      "epoch: 02, loss: -0.95157\n",
      "epoch: 03, loss: -0.95677\n",
      "epoch: 04, loss: -0.96029\n",
      "epoch: 05, loss: -0.96294\n",
      "epoch: 06, loss: -0.96497\n",
      "epoch: 07, loss: -0.96665\n",
      "epoch: 08, loss: -0.96806\n",
      "epoch: 09, loss: -0.96926\n",
      "torch.Size([1024, 64])\n"
     ]
    },
    {
     "name": "stderr",
     "output_type": "stream",
     "text": [
      " 43%|████▎     | 428/999 [8:43:07<11:03:44, 69.74s/it]"
     ]
    },
    {
     "name": "stdout",
     "output_type": "stream",
     "text": [
      "eigenvalues shape torch.Size([5]) eigenvectors shape torch.Size([5, 1024])\n",
      "428 /home/phdcs2/Hard_Disk/Datasets/Deep-Spectral-Segmentation/data/object-segmentation/ECSSD/features/0430_resized.pth\n",
      "dict_keys(['k', 'indices', 'file', 'id', 'model_name', 'patch_size', 'shape'])\n",
      "0430_resized\n"
     ]
    },
    {
     "name": "stderr",
     "output_type": "stream",
     "text": [
      "/home/phdcs2/Hard_Disk/Projects/T2I/deep-spectral-segmentation/venv/lib/python3.8/site-packages/sklearn/decomposition/_pca.py:642: RuntimeWarning: invalid value encountered in divide\n",
      "  self.explained_variance_ratio_ = self.explained_variance_ / total_var\n"
     ]
    },
    {
     "name": "stdout",
     "output_type": "stream",
     "text": [
      "Starting Training\n",
      "epoch: 00, loss: -0.92410\n",
      "epoch: 01, loss: -0.95546\n",
      "epoch: 02, loss: -0.96240\n",
      "epoch: 03, loss: -0.96646\n",
      "epoch: 04, loss: -0.96919\n",
      "epoch: 05, loss: -0.97127\n",
      "epoch: 06, loss: -0.97285\n",
      "epoch: 07, loss: -0.97415\n",
      "epoch: 08, loss: -0.97525\n",
      "epoch: 09, loss: -0.97618\n",
      "torch.Size([1024, 64])\n"
     ]
    },
    {
     "name": "stderr",
     "output_type": "stream",
     "text": [
      " 43%|████▎     | 429/999 [8:44:21<11:14:11, 70.97s/it]"
     ]
    },
    {
     "name": "stdout",
     "output_type": "stream",
     "text": [
      "eigenvalues shape torch.Size([5]) eigenvectors shape torch.Size([5, 1024])\n",
      "429 /home/phdcs2/Hard_Disk/Datasets/Deep-Spectral-Segmentation/data/object-segmentation/ECSSD/features/0431_resized.pth\n",
      "dict_keys(['k', 'indices', 'file', 'id', 'model_name', 'patch_size', 'shape'])\n",
      "0431_resized\n",
      "Starting Training\n",
      "epoch: 00, loss: -0.87752\n",
      "epoch: 01, loss: -0.92760\n",
      "epoch: 02, loss: -0.94029\n",
      "epoch: 03, loss: -0.94758\n",
      "epoch: 04, loss: -0.95228\n",
      "epoch: 05, loss: -0.95589\n",
      "epoch: 06, loss: -0.95867\n",
      "epoch: 07, loss: -0.96081\n",
      "epoch: 08, loss: -0.96266\n",
      "epoch: 09, loss: -0.96431\n",
      "torch.Size([1024, 64])\n"
     ]
    },
    {
     "name": "stderr",
     "output_type": "stream",
     "text": [
      " 43%|████▎     | 430/999 [8:45:35<11:21:11, 71.83s/it]"
     ]
    },
    {
     "name": "stdout",
     "output_type": "stream",
     "text": [
      "eigenvalues shape torch.Size([5]) eigenvectors shape torch.Size([5, 1024])\n",
      "430 /home/phdcs2/Hard_Disk/Datasets/Deep-Spectral-Segmentation/data/object-segmentation/ECSSD/features/0432_resized.pth\n",
      "dict_keys(['k', 'indices', 'file', 'id', 'model_name', 'patch_size', 'shape'])\n",
      "0432_resized\n",
      "Starting Training\n",
      "epoch: 00, loss: -0.92425\n",
      "epoch: 01, loss: -0.95455\n",
      "epoch: 02, loss: -0.96154\n",
      "epoch: 03, loss: -0.96561\n",
      "epoch: 04, loss: -0.96834\n",
      "epoch: 05, loss: -0.97041\n",
      "epoch: 06, loss: -0.97202\n",
      "epoch: 07, loss: -0.97332\n",
      "epoch: 08, loss: -0.97441\n",
      "epoch: 09, loss: -0.97534\n",
      "torch.Size([1024, 64])\n"
     ]
    },
    {
     "name": "stderr",
     "output_type": "stream",
     "text": [
      " 43%|████▎     | 431/999 [8:46:44<11:10:35, 70.84s/it]"
     ]
    },
    {
     "name": "stdout",
     "output_type": "stream",
     "text": [
      "eigenvalues shape torch.Size([5]) eigenvectors shape torch.Size([5, 1024])\n",
      "431 /home/phdcs2/Hard_Disk/Datasets/Deep-Spectral-Segmentation/data/object-segmentation/ECSSD/features/0433_resized.pth\n",
      "dict_keys(['k', 'indices', 'file', 'id', 'model_name', 'patch_size', 'shape'])\n",
      "0433_resized\n"
     ]
    },
    {
     "name": "stderr",
     "output_type": "stream",
     "text": [
      "/home/phdcs2/Hard_Disk/Projects/T2I/deep-spectral-segmentation/venv/lib/python3.8/site-packages/sklearn/decomposition/_pca.py:642: RuntimeWarning: invalid value encountered in divide\n",
      "  self.explained_variance_ratio_ = self.explained_variance_ / total_var\n"
     ]
    },
    {
     "name": "stdout",
     "output_type": "stream",
     "text": [
      "Starting Training\n",
      "epoch: 00, loss: -0.91614\n",
      "epoch: 01, loss: -0.94987\n",
      "epoch: 02, loss: -0.95783\n",
      "epoch: 03, loss: -0.96237\n",
      "epoch: 04, loss: -0.96547\n",
      "epoch: 05, loss: -0.96777\n",
      "epoch: 06, loss: -0.96958\n",
      "epoch: 07, loss: -0.97106\n",
      "epoch: 08, loss: -0.97228\n",
      "epoch: 09, loss: -0.97334\n",
      "torch.Size([1024, 64])\n"
     ]
    },
    {
     "name": "stderr",
     "output_type": "stream",
     "text": [
      " 43%|████▎     | 432/999 [8:47:49<10:53:45, 69.18s/it]"
     ]
    },
    {
     "name": "stdout",
     "output_type": "stream",
     "text": [
      "eigenvalues shape torch.Size([5]) eigenvectors shape torch.Size([5, 1024])\n",
      "432 /home/phdcs2/Hard_Disk/Datasets/Deep-Spectral-Segmentation/data/object-segmentation/ECSSD/features/0434_resized.pth\n",
      "dict_keys(['k', 'indices', 'file', 'id', 'model_name', 'patch_size', 'shape'])\n",
      "0434_resized\n",
      "Starting Training\n",
      "epoch: 00, loss: -0.83884\n",
      "epoch: 01, loss: -0.90654\n",
      "epoch: 02, loss: -0.92273\n",
      "epoch: 03, loss: -0.93193\n",
      "epoch: 04, loss: -0.93813\n",
      "epoch: 05, loss: -0.94244\n",
      "epoch: 06, loss: -0.94599\n",
      "epoch: 07, loss: -0.94882\n",
      "epoch: 08, loss: -0.95116\n",
      "epoch: 09, loss: -0.95314\n",
      "torch.Size([1024, 64])\n"
     ]
    },
    {
     "name": "stderr",
     "output_type": "stream",
     "text": [
      " 43%|████▎     | 433/999 [8:49:03<11:07:56, 70.81s/it]"
     ]
    },
    {
     "name": "stdout",
     "output_type": "stream",
     "text": [
      "eigenvalues shape torch.Size([5]) eigenvectors shape torch.Size([5, 1024])\n",
      "433 /home/phdcs2/Hard_Disk/Datasets/Deep-Spectral-Segmentation/data/object-segmentation/ECSSD/features/0435_resized.pth\n",
      "dict_keys(['k', 'indices', 'file', 'id', 'model_name', 'patch_size', 'shape'])\n",
      "0435_resized\n",
      "Starting Training\n",
      "epoch: 00, loss: -0.92308\n",
      "epoch: 01, loss: -0.95322\n",
      "epoch: 02, loss: -0.96043\n",
      "epoch: 03, loss: -0.96461\n",
      "epoch: 04, loss: -0.96751\n",
      "epoch: 05, loss: -0.96960\n",
      "epoch: 06, loss: -0.97129\n",
      "epoch: 07, loss: -0.97266\n",
      "epoch: 08, loss: -0.97379\n",
      "epoch: 09, loss: -0.97476\n",
      "torch.Size([1024, 64])\n"
     ]
    },
    {
     "name": "stderr",
     "output_type": "stream",
     "text": [
      " 43%|████▎     | 434/999 [8:50:19<11:21:25, 72.36s/it]"
     ]
    },
    {
     "name": "stdout",
     "output_type": "stream",
     "text": [
      "eigenvalues shape torch.Size([5]) eigenvectors shape torch.Size([5, 1024])\n",
      "434 /home/phdcs2/Hard_Disk/Datasets/Deep-Spectral-Segmentation/data/object-segmentation/ECSSD/features/0436_resized.pth\n",
      "dict_keys(['k', 'indices', 'file', 'id', 'model_name', 'patch_size', 'shape'])\n",
      "0436_resized\n"
     ]
    },
    {
     "name": "stderr",
     "output_type": "stream",
     "text": [
      "/home/phdcs2/Hard_Disk/Projects/T2I/deep-spectral-segmentation/venv/lib/python3.8/site-packages/sklearn/decomposition/_pca.py:642: RuntimeWarning: invalid value encountered in divide\n",
      "  self.explained_variance_ratio_ = self.explained_variance_ / total_var\n"
     ]
    },
    {
     "name": "stdout",
     "output_type": "stream",
     "text": [
      "Starting Training\n",
      "epoch: 00, loss: -0.92284\n",
      "epoch: 01, loss: -0.95270\n",
      "epoch: 02, loss: -0.95978\n",
      "epoch: 03, loss: -0.96386\n",
      "epoch: 04, loss: -0.96670\n",
      "epoch: 05, loss: -0.96883\n",
      "epoch: 06, loss: -0.97052\n",
      "epoch: 07, loss: -0.97189\n",
      "epoch: 08, loss: -0.97304\n",
      "epoch: 09, loss: -0.97400\n",
      "torch.Size([1024, 64])\n"
     ]
    },
    {
     "name": "stderr",
     "output_type": "stream",
     "text": [
      " 44%|████▎     | 435/999 [8:51:34<11:26:15, 73.01s/it]"
     ]
    },
    {
     "name": "stdout",
     "output_type": "stream",
     "text": [
      "eigenvalues shape torch.Size([5]) eigenvectors shape torch.Size([5, 1024])\n",
      "435 /home/phdcs2/Hard_Disk/Datasets/Deep-Spectral-Segmentation/data/object-segmentation/ECSSD/features/0437_resized.pth\n",
      "dict_keys(['k', 'indices', 'file', 'id', 'model_name', 'patch_size', 'shape'])\n",
      "0437_resized\n",
      "Starting Training\n",
      "epoch: 00, loss: -0.89418\n",
      "epoch: 01, loss: -0.94056\n",
      "epoch: 02, loss: -0.95070\n",
      "epoch: 03, loss: -0.95635\n",
      "epoch: 04, loss: -0.96011\n",
      "epoch: 05, loss: -0.96296\n",
      "epoch: 06, loss: -0.96536\n",
      "epoch: 07, loss: -0.96704\n",
      "epoch: 08, loss: -0.96854\n",
      "epoch: 09, loss: -0.96980\n",
      "torch.Size([1024, 64])\n"
     ]
    },
    {
     "name": "stderr",
     "output_type": "stream",
     "text": [
      " 44%|████▎     | 436/999 [8:52:51<11:35:36, 74.13s/it]"
     ]
    },
    {
     "name": "stdout",
     "output_type": "stream",
     "text": [
      "eigenvalues shape torch.Size([5]) eigenvectors shape torch.Size([5, 1024])\n",
      "436 /home/phdcs2/Hard_Disk/Datasets/Deep-Spectral-Segmentation/data/object-segmentation/ECSSD/features/0438_resized.pth\n",
      "dict_keys(['k', 'indices', 'file', 'id', 'model_name', 'patch_size', 'shape'])\n",
      "0438_resized\n"
     ]
    },
    {
     "name": "stderr",
     "output_type": "stream",
     "text": [
      "/home/phdcs2/Hard_Disk/Projects/T2I/deep-spectral-segmentation/venv/lib/python3.8/site-packages/sklearn/decomposition/_pca.py:642: RuntimeWarning: invalid value encountered in divide\n",
      "  self.explained_variance_ratio_ = self.explained_variance_ / total_var\n"
     ]
    },
    {
     "name": "stdout",
     "output_type": "stream",
     "text": [
      "Starting Training\n",
      "epoch: 00, loss: -0.91671\n",
      "epoch: 01, loss: -0.95008\n",
      "epoch: 02, loss: -0.95816\n",
      "epoch: 03, loss: -0.96272\n",
      "epoch: 04, loss: -0.96589\n",
      "epoch: 05, loss: -0.96824\n",
      "epoch: 06, loss: -0.97009\n",
      "epoch: 07, loss: -0.97159\n",
      "epoch: 08, loss: -0.97283\n",
      "epoch: 09, loss: -0.97391\n",
      "torch.Size([1024, 64])\n"
     ]
    },
    {
     "name": "stderr",
     "output_type": "stream",
     "text": [
      " 44%|████▎     | 437/999 [8:54:06<11:38:19, 74.55s/it]"
     ]
    },
    {
     "name": "stdout",
     "output_type": "stream",
     "text": [
      "eigenvalues shape torch.Size([5]) eigenvectors shape torch.Size([5, 1024])\n",
      "437 /home/phdcs2/Hard_Disk/Datasets/Deep-Spectral-Segmentation/data/object-segmentation/ECSSD/features/0439_resized.pth\n",
      "dict_keys(['k', 'indices', 'file', 'id', 'model_name', 'patch_size', 'shape'])\n",
      "0439_resized\n",
      "Starting Training\n",
      "epoch: 00, loss: -0.86666\n",
      "epoch: 01, loss: -0.92457\n",
      "epoch: 02, loss: -0.93763\n",
      "epoch: 03, loss: -0.94499\n",
      "epoch: 04, loss: -0.94991\n",
      "epoch: 05, loss: -0.95367\n",
      "epoch: 06, loss: -0.95648\n",
      "epoch: 07, loss: -0.95878\n",
      "epoch: 08, loss: -0.96071\n",
      "epoch: 09, loss: -0.96231\n",
      "torch.Size([1024, 64])\n"
     ]
    },
    {
     "name": "stderr",
     "output_type": "stream",
     "text": [
      " 44%|████▍     | 438/999 [8:55:26<11:50:38, 76.01s/it]"
     ]
    },
    {
     "name": "stdout",
     "output_type": "stream",
     "text": [
      "eigenvalues shape torch.Size([5]) eigenvectors shape torch.Size([5, 1024])\n",
      "438 /home/phdcs2/Hard_Disk/Datasets/Deep-Spectral-Segmentation/data/object-segmentation/ECSSD/features/0440_resized.pth\n",
      "dict_keys(['k', 'indices', 'file', 'id', 'model_name', 'patch_size', 'shape'])\n",
      "0440_resized\n"
     ]
    },
    {
     "name": "stderr",
     "output_type": "stream",
     "text": [
      "/home/phdcs2/Hard_Disk/Projects/T2I/deep-spectral-segmentation/venv/lib/python3.8/site-packages/sklearn/decomposition/_pca.py:642: RuntimeWarning: invalid value encountered in divide\n",
      "  self.explained_variance_ratio_ = self.explained_variance_ / total_var\n"
     ]
    },
    {
     "name": "stdout",
     "output_type": "stream",
     "text": [
      "Starting Training\n",
      "epoch: 00, loss: -0.92947\n",
      "epoch: 01, loss: -0.95725\n",
      "epoch: 02, loss: -0.96363\n",
      "epoch: 03, loss: -0.96735\n",
      "epoch: 04, loss: -0.96986\n",
      "epoch: 05, loss: -0.97171\n",
      "epoch: 06, loss: -0.97319\n",
      "epoch: 07, loss: -0.97440\n",
      "epoch: 08, loss: -0.97542\n",
      "epoch: 09, loss: -0.97627\n",
      "torch.Size([1024, 64])\n"
     ]
    },
    {
     "name": "stderr",
     "output_type": "stream",
     "text": [
      " 44%|████▍     | 439/999 [8:56:40<11:45:31, 75.59s/it]"
     ]
    },
    {
     "name": "stdout",
     "output_type": "stream",
     "text": [
      "eigenvalues shape torch.Size([5]) eigenvectors shape torch.Size([5, 1024])\n",
      "439 /home/phdcs2/Hard_Disk/Datasets/Deep-Spectral-Segmentation/data/object-segmentation/ECSSD/features/0441_resized.pth\n",
      "dict_keys(['k', 'indices', 'file', 'id', 'model_name', 'patch_size', 'shape'])\n",
      "0441_resized\n",
      "Starting Training\n",
      "epoch: 00, loss: -0.86502\n",
      "epoch: 01, loss: -0.92231\n",
      "epoch: 02, loss: -0.93589\n",
      "epoch: 03, loss: -0.94352\n",
      "epoch: 04, loss: -0.94885\n",
      "epoch: 05, loss: -0.95248\n",
      "epoch: 06, loss: -0.95533\n",
      "epoch: 07, loss: -0.95753\n",
      "epoch: 08, loss: -0.95958\n",
      "epoch: 09, loss: -0.96117\n",
      "torch.Size([1024, 64])\n"
     ]
    },
    {
     "name": "stderr",
     "output_type": "stream",
     "text": [
      " 44%|████▍     | 440/999 [8:57:52<11:34:39, 74.56s/it]"
     ]
    },
    {
     "name": "stdout",
     "output_type": "stream",
     "text": [
      "eigenvalues shape torch.Size([5]) eigenvectors shape torch.Size([5, 1024])\n",
      "440 /home/phdcs2/Hard_Disk/Datasets/Deep-Spectral-Segmentation/data/object-segmentation/ECSSD/features/0442_resized.pth\n",
      "dict_keys(['k', 'indices', 'file', 'id', 'model_name', 'patch_size', 'shape'])\n",
      "0442_resized\n",
      "Starting Training\n",
      "epoch: 00, loss: -0.92820\n",
      "epoch: 01, loss: -0.95863\n",
      "epoch: 02, loss: -0.96500\n",
      "epoch: 03, loss: -0.96863\n",
      "epoch: 04, loss: -0.97115\n",
      "epoch: 05, loss: -0.97299\n",
      "epoch: 06, loss: -0.97443\n",
      "epoch: 07, loss: -0.97560\n",
      "epoch: 08, loss: -0.97657\n",
      "epoch: 09, loss: -0.97742\n",
      "torch.Size([1024, 64])\n"
     ]
    },
    {
     "name": "stderr",
     "output_type": "stream",
     "text": [
      " 44%|████▍     | 441/999 [8:58:56<11:01:49, 71.16s/it]"
     ]
    },
    {
     "name": "stdout",
     "output_type": "stream",
     "text": [
      "eigenvalues shape torch.Size([5]) eigenvectors shape torch.Size([5, 1024])\n",
      "441 /home/phdcs2/Hard_Disk/Datasets/Deep-Spectral-Segmentation/data/object-segmentation/ECSSD/features/0443_resized.pth\n",
      "dict_keys(['k', 'indices', 'file', 'id', 'model_name', 'patch_size', 'shape'])\n",
      "0443_resized\n",
      "Starting Training\n",
      "epoch: 00, loss: -0.88649\n",
      "epoch: 01, loss: -0.93344\n",
      "epoch: 02, loss: -0.94461\n",
      "epoch: 03, loss: -0.95083\n",
      "epoch: 04, loss: -0.95497\n",
      "epoch: 05, loss: -0.95804\n",
      "epoch: 06, loss: -0.96048\n",
      "epoch: 07, loss: -0.96242\n",
      "epoch: 08, loss: -0.96400\n",
      "epoch: 09, loss: -0.96534\n",
      "torch.Size([1024, 64])\n"
     ]
    },
    {
     "name": "stderr",
     "output_type": "stream",
     "text": [
      " 44%|████▍     | 442/999 [9:00:10<11:10:31, 72.23s/it]"
     ]
    },
    {
     "name": "stdout",
     "output_type": "stream",
     "text": [
      "eigenvalues shape torch.Size([5]) eigenvectors shape torch.Size([5, 1024])\n",
      "442 /home/phdcs2/Hard_Disk/Datasets/Deep-Spectral-Segmentation/data/object-segmentation/ECSSD/features/0444_resized.pth\n",
      "dict_keys(['k', 'indices', 'file', 'id', 'model_name', 'patch_size', 'shape'])\n",
      "0444_resized\n"
     ]
    },
    {
     "name": "stderr",
     "output_type": "stream",
     "text": [
      "/home/phdcs2/Hard_Disk/Projects/T2I/deep-spectral-segmentation/venv/lib/python3.8/site-packages/sklearn/decomposition/_pca.py:642: RuntimeWarning: invalid value encountered in divide\n",
      "  self.explained_variance_ratio_ = self.explained_variance_ / total_var\n"
     ]
    },
    {
     "name": "stdout",
     "output_type": "stream",
     "text": [
      "Starting Training\n",
      "epoch: 00, loss: -0.90578\n",
      "epoch: 01, loss: -0.94256\n",
      "epoch: 02, loss: -0.95163\n",
      "epoch: 03, loss: -0.95685\n",
      "epoch: 04, loss: -0.96042\n",
      "epoch: 05, loss: -0.96301\n",
      "epoch: 06, loss: -0.96517\n",
      "epoch: 07, loss: -0.96680\n",
      "epoch: 08, loss: -0.96822\n",
      "epoch: 09, loss: -0.96941\n",
      "torch.Size([1024, 64])\n"
     ]
    },
    {
     "name": "stderr",
     "output_type": "stream",
     "text": [
      " 44%|████▍     | 443/999 [9:01:19<10:59:25, 71.16s/it]"
     ]
    },
    {
     "name": "stdout",
     "output_type": "stream",
     "text": [
      "eigenvalues shape torch.Size([5]) eigenvectors shape torch.Size([5, 1024])\n",
      "443 /home/phdcs2/Hard_Disk/Datasets/Deep-Spectral-Segmentation/data/object-segmentation/ECSSD/features/0445_resized.pth\n",
      "dict_keys(['k', 'indices', 'file', 'id', 'model_name', 'patch_size', 'shape'])\n",
      "0445_resized\n",
      "Starting Training\n",
      "epoch: 00, loss: -0.84550\n",
      "epoch: 01, loss: -0.90543\n",
      "epoch: 02, loss: -0.92182\n",
      "epoch: 03, loss: -0.93072\n",
      "epoch: 04, loss: -0.93689\n",
      "epoch: 05, loss: -0.94131\n",
      "epoch: 06, loss: -0.94500\n",
      "epoch: 07, loss: -0.94758\n",
      "epoch: 08, loss: -0.94992\n",
      "epoch: 09, loss: -0.95196\n",
      "torch.Size([1024, 64])\n"
     ]
    },
    {
     "name": "stderr",
     "output_type": "stream",
     "text": [
      " 44%|████▍     | 444/999 [9:02:34<11:09:58, 72.43s/it]"
     ]
    },
    {
     "name": "stdout",
     "output_type": "stream",
     "text": [
      "eigenvalues shape torch.Size([5]) eigenvectors shape torch.Size([5, 1024])\n",
      "444 /home/phdcs2/Hard_Disk/Datasets/Deep-Spectral-Segmentation/data/object-segmentation/ECSSD/features/0446_resized.pth\n",
      "dict_keys(['k', 'indices', 'file', 'id', 'model_name', 'patch_size', 'shape'])\n",
      "0446_resized\n",
      "Starting Training\n",
      "epoch: 00, loss: -0.87896\n",
      "epoch: 01, loss: -0.92976\n",
      "epoch: 02, loss: -0.94226\n",
      "epoch: 03, loss: -0.94910\n",
      "epoch: 04, loss: -0.95400\n",
      "epoch: 05, loss: -0.95721\n",
      "epoch: 06, loss: -0.95989\n",
      "epoch: 07, loss: -0.96204\n",
      "epoch: 08, loss: -0.96373\n",
      "epoch: 09, loss: -0.96521\n",
      "torch.Size([1024, 64])\n"
     ]
    },
    {
     "name": "stderr",
     "output_type": "stream",
     "text": [
      " 45%|████▍     | 445/999 [9:03:46<11:05:10, 72.04s/it]"
     ]
    },
    {
     "name": "stdout",
     "output_type": "stream",
     "text": [
      "eigenvalues shape torch.Size([5]) eigenvectors shape torch.Size([5, 1024])\n",
      "445 /home/phdcs2/Hard_Disk/Datasets/Deep-Spectral-Segmentation/data/object-segmentation/ECSSD/features/0447_resized.pth\n",
      "dict_keys(['k', 'indices', 'file', 'id', 'model_name', 'patch_size', 'shape'])\n",
      "0447_resized\n"
     ]
    },
    {
     "name": "stderr",
     "output_type": "stream",
     "text": [
      "/home/phdcs2/Hard_Disk/Projects/T2I/deep-spectral-segmentation/venv/lib/python3.8/site-packages/sklearn/decomposition/_pca.py:642: RuntimeWarning: invalid value encountered in divide\n",
      "  self.explained_variance_ratio_ = self.explained_variance_ / total_var\n"
     ]
    },
    {
     "name": "stdout",
     "output_type": "stream",
     "text": [
      "Starting Training\n",
      "epoch: 00, loss: -0.92303\n",
      "epoch: 01, loss: -0.95371\n",
      "epoch: 02, loss: -0.96069\n",
      "epoch: 03, loss: -0.96475\n",
      "epoch: 04, loss: -0.96753\n",
      "epoch: 05, loss: -0.96959\n",
      "epoch: 06, loss: -0.97122\n",
      "epoch: 07, loss: -0.97255\n",
      "epoch: 08, loss: -0.97367\n",
      "epoch: 09, loss: -0.97463\n",
      "torch.Size([1024, 64])\n"
     ]
    },
    {
     "name": "stderr",
     "output_type": "stream",
     "text": [
      " 45%|████▍     | 446/999 [9:04:55<10:57:21, 71.32s/it]"
     ]
    },
    {
     "name": "stdout",
     "output_type": "stream",
     "text": [
      "eigenvalues shape torch.Size([5]) eigenvectors shape torch.Size([5, 1024])\n",
      "446 /home/phdcs2/Hard_Disk/Datasets/Deep-Spectral-Segmentation/data/object-segmentation/ECSSD/features/0448_resized.pth\n",
      "dict_keys(['k', 'indices', 'file', 'id', 'model_name', 'patch_size', 'shape'])\n",
      "0448_resized\n",
      "Starting Training\n",
      "epoch: 00, loss: -0.87061\n",
      "epoch: 01, loss: -0.92282\n",
      "epoch: 02, loss: -0.93531\n",
      "epoch: 03, loss: -0.94254\n",
      "epoch: 04, loss: -0.94728\n",
      "epoch: 05, loss: -0.95069\n",
      "epoch: 06, loss: -0.95333\n",
      "epoch: 07, loss: -0.95552\n",
      "epoch: 08, loss: -0.95740\n",
      "epoch: 09, loss: -0.95902\n",
      "torch.Size([1024, 64])\n"
     ]
    },
    {
     "name": "stderr",
     "output_type": "stream",
     "text": [
      " 45%|████▍     | 447/999 [9:06:00<10:37:53, 69.34s/it]"
     ]
    },
    {
     "name": "stdout",
     "output_type": "stream",
     "text": [
      "eigenvalues shape torch.Size([5]) eigenvectors shape torch.Size([5, 1024])\n",
      "447 /home/phdcs2/Hard_Disk/Datasets/Deep-Spectral-Segmentation/data/object-segmentation/ECSSD/features/0449_resized.pth\n",
      "dict_keys(['k', 'indices', 'file', 'id', 'model_name', 'patch_size', 'shape'])\n",
      "0449_resized\n",
      "Starting Training\n",
      "epoch: 00, loss: -0.85401\n",
      "epoch: 01, loss: -0.90802\n",
      "epoch: 02, loss: -0.92357\n",
      "epoch: 03, loss: -0.93239\n",
      "epoch: 04, loss: -0.93831\n",
      "epoch: 05, loss: -0.94285\n",
      "epoch: 06, loss: -0.94632\n",
      "epoch: 07, loss: -0.94907\n",
      "epoch: 08, loss: -0.95148\n",
      "epoch: 09, loss: -0.95361\n",
      "torch.Size([1024, 64])\n"
     ]
    },
    {
     "name": "stderr",
     "output_type": "stream",
     "text": [
      " 45%|████▍     | 448/999 [9:07:17<10:57:36, 71.61s/it]"
     ]
    },
    {
     "name": "stdout",
     "output_type": "stream",
     "text": [
      "eigenvalues shape torch.Size([5]) eigenvectors shape torch.Size([5, 1024])\n",
      "448 /home/phdcs2/Hard_Disk/Datasets/Deep-Spectral-Segmentation/data/object-segmentation/ECSSD/features/0450_resized.pth\n",
      "dict_keys(['k', 'indices', 'file', 'id', 'model_name', 'patch_size', 'shape'])\n",
      "0450_resized\n"
     ]
    },
    {
     "name": "stderr",
     "output_type": "stream",
     "text": [
      "/home/phdcs2/Hard_Disk/Projects/T2I/deep-spectral-segmentation/venv/lib/python3.8/site-packages/sklearn/decomposition/_pca.py:642: RuntimeWarning: invalid value encountered in divide\n",
      "  self.explained_variance_ratio_ = self.explained_variance_ / total_var\n"
     ]
    },
    {
     "name": "stdout",
     "output_type": "stream",
     "text": [
      "Starting Training\n",
      "epoch: 00, loss: -0.91752\n",
      "epoch: 01, loss: -0.94965\n",
      "epoch: 02, loss: -0.95726\n",
      "epoch: 03, loss: -0.96168\n",
      "epoch: 04, loss: -0.96478\n",
      "epoch: 05, loss: -0.96705\n",
      "epoch: 06, loss: -0.96887\n",
      "epoch: 07, loss: -0.97035\n",
      "epoch: 08, loss: -0.97159\n",
      "epoch: 09, loss: -0.97264\n",
      "torch.Size([1024, 64])\n"
     ]
    },
    {
     "name": "stderr",
     "output_type": "stream",
     "text": [
      " 45%|████▍     | 449/999 [9:08:32<11:07:12, 72.79s/it]"
     ]
    },
    {
     "name": "stdout",
     "output_type": "stream",
     "text": [
      "eigenvalues shape torch.Size([5]) eigenvectors shape torch.Size([5, 1024])\n",
      "449 /home/phdcs2/Hard_Disk/Datasets/Deep-Spectral-Segmentation/data/object-segmentation/ECSSD/features/0451_resized.pth\n",
      "dict_keys(['k', 'indices', 'file', 'id', 'model_name', 'patch_size', 'shape'])\n",
      "0451_resized\n",
      "Starting Training\n",
      "epoch: 00, loss: -0.93744\n",
      "epoch: 01, loss: -0.96125\n",
      "epoch: 02, loss: -0.96691\n",
      "epoch: 03, loss: -0.97024\n",
      "epoch: 04, loss: -0.97254\n",
      "epoch: 05, loss: -0.97423\n",
      "epoch: 06, loss: -0.97557\n",
      "epoch: 07, loss: -0.97668\n",
      "epoch: 08, loss: -0.97759\n",
      "epoch: 09, loss: -0.97843\n",
      "torch.Size([1024, 64])\n"
     ]
    },
    {
     "name": "stderr",
     "output_type": "stream",
     "text": [
      " 45%|████▌     | 450/999 [9:09:45<11:06:07, 72.80s/it]"
     ]
    },
    {
     "name": "stdout",
     "output_type": "stream",
     "text": [
      "eigenvalues shape torch.Size([5]) eigenvectors shape torch.Size([5, 1024])\n",
      "450 /home/phdcs2/Hard_Disk/Datasets/Deep-Spectral-Segmentation/data/object-segmentation/ECSSD/features/0452_resized.pth\n",
      "dict_keys(['k', 'indices', 'file', 'id', 'model_name', 'patch_size', 'shape'])\n",
      "0452_resized\n"
     ]
    },
    {
     "name": "stderr",
     "output_type": "stream",
     "text": [
      "/home/phdcs2/Hard_Disk/Projects/T2I/deep-spectral-segmentation/venv/lib/python3.8/site-packages/sklearn/decomposition/_pca.py:642: RuntimeWarning: invalid value encountered in divide\n",
      "  self.explained_variance_ratio_ = self.explained_variance_ / total_var\n"
     ]
    },
    {
     "name": "stdout",
     "output_type": "stream",
     "text": [
      "Starting Training\n",
      "epoch: 00, loss: -0.92035\n",
      "epoch: 01, loss: -0.95117\n",
      "epoch: 02, loss: -0.95823\n",
      "epoch: 03, loss: -0.96246\n",
      "epoch: 04, loss: -0.96540\n",
      "epoch: 05, loss: -0.96763\n",
      "epoch: 06, loss: -0.96936\n",
      "epoch: 07, loss: -0.97077\n",
      "epoch: 08, loss: -0.97198\n",
      "epoch: 09, loss: -0.97303\n",
      "torch.Size([1024, 64])\n"
     ]
    },
    {
     "name": "stderr",
     "output_type": "stream",
     "text": [
      " 45%|████▌     | 451/999 [9:10:56<10:59:59, 72.26s/it]"
     ]
    },
    {
     "name": "stdout",
     "output_type": "stream",
     "text": [
      "eigenvalues shape torch.Size([5]) eigenvectors shape torch.Size([5, 1024])\n",
      "451 /home/phdcs2/Hard_Disk/Datasets/Deep-Spectral-Segmentation/data/object-segmentation/ECSSD/features/0453_resized.pth\n",
      "dict_keys(['k', 'indices', 'file', 'id', 'model_name', 'patch_size', 'shape'])\n",
      "0453_resized\n"
     ]
    },
    {
     "name": "stderr",
     "output_type": "stream",
     "text": [
      "/home/phdcs2/Hard_Disk/Projects/T2I/deep-spectral-segmentation/venv/lib/python3.8/site-packages/sklearn/decomposition/_pca.py:642: RuntimeWarning: invalid value encountered in divide\n",
      "  self.explained_variance_ratio_ = self.explained_variance_ / total_var\n"
     ]
    },
    {
     "name": "stdout",
     "output_type": "stream",
     "text": [
      "Starting Training\n",
      "epoch: 00, loss: -0.91624\n",
      "epoch: 01, loss: -0.95162\n",
      "epoch: 02, loss: -0.95893\n",
      "epoch: 03, loss: -0.96316\n",
      "epoch: 04, loss: -0.96610\n",
      "epoch: 05, loss: -0.96827\n",
      "epoch: 06, loss: -0.96997\n",
      "epoch: 07, loss: -0.97135\n",
      "epoch: 08, loss: -0.97256\n",
      "epoch: 09, loss: -0.97356\n",
      "torch.Size([1024, 64])\n"
     ]
    },
    {
     "name": "stderr",
     "output_type": "stream",
     "text": [
      " 45%|████▌     | 452/999 [9:12:02<10:40:15, 70.23s/it]"
     ]
    },
    {
     "name": "stdout",
     "output_type": "stream",
     "text": [
      "eigenvalues shape torch.Size([5]) eigenvectors shape torch.Size([5, 1024])\n",
      "452 /home/phdcs2/Hard_Disk/Datasets/Deep-Spectral-Segmentation/data/object-segmentation/ECSSD/features/0454_resized.pth\n",
      "dict_keys(['k', 'indices', 'file', 'id', 'model_name', 'patch_size', 'shape'])\n",
      "0454_resized\n",
      "Starting Training\n",
      "epoch: 00, loss: -0.82294\n",
      "epoch: 01, loss: -0.89659\n",
      "epoch: 02, loss: -0.91499\n",
      "epoch: 03, loss: -0.92515\n",
      "epoch: 04, loss: -0.93179\n",
      "epoch: 05, loss: -0.93661\n",
      "epoch: 06, loss: -0.94027\n",
      "epoch: 07, loss: -0.94345\n",
      "epoch: 08, loss: -0.94590\n",
      "epoch: 09, loss: -0.94793\n",
      "torch.Size([1024, 64])\n"
     ]
    },
    {
     "name": "stderr",
     "output_type": "stream",
     "text": [
      " 45%|████▌     | 453/999 [9:13:17<10:51:33, 71.60s/it]"
     ]
    },
    {
     "name": "stdout",
     "output_type": "stream",
     "text": [
      "eigenvalues shape torch.Size([5]) eigenvectors shape torch.Size([5, 1024])\n",
      "453 /home/phdcs2/Hard_Disk/Datasets/Deep-Spectral-Segmentation/data/object-segmentation/ECSSD/features/0455_resized.pth\n",
      "dict_keys(['k', 'indices', 'file', 'id', 'model_name', 'patch_size', 'shape'])\n",
      "0455_resized\n"
     ]
    },
    {
     "name": "stderr",
     "output_type": "stream",
     "text": [
      "/home/phdcs2/Hard_Disk/Projects/T2I/deep-spectral-segmentation/venv/lib/python3.8/site-packages/sklearn/decomposition/_pca.py:642: RuntimeWarning: invalid value encountered in divide\n",
      "  self.explained_variance_ratio_ = self.explained_variance_ / total_var\n"
     ]
    },
    {
     "name": "stdout",
     "output_type": "stream",
     "text": [
      "Starting Training\n",
      "epoch: 00, loss: -0.91861\n",
      "epoch: 01, loss: -0.95132\n",
      "epoch: 02, loss: -0.95878\n",
      "epoch: 03, loss: -0.96304\n",
      "epoch: 04, loss: -0.96595\n",
      "epoch: 05, loss: -0.96816\n",
      "epoch: 06, loss: -0.96987\n",
      "epoch: 07, loss: -0.97125\n",
      "epoch: 08, loss: -0.97241\n",
      "epoch: 09, loss: -0.97340\n",
      "torch.Size([1024, 64])\n"
     ]
    },
    {
     "name": "stderr",
     "output_type": "stream",
     "text": [
      " 45%|████▌     | 454/999 [9:14:27<10:48:35, 71.40s/it]"
     ]
    },
    {
     "name": "stdout",
     "output_type": "stream",
     "text": [
      "eigenvalues shape torch.Size([5]) eigenvectors shape torch.Size([5, 1024])\n",
      "454 /home/phdcs2/Hard_Disk/Datasets/Deep-Spectral-Segmentation/data/object-segmentation/ECSSD/features/0456_resized.pth\n",
      "dict_keys(['k', 'indices', 'file', 'id', 'model_name', 'patch_size', 'shape'])\n",
      "0456_resized\n",
      "Starting Training\n",
      "epoch: 00, loss: -0.85606\n",
      "epoch: 01, loss: -0.91333\n",
      "epoch: 02, loss: -0.92879\n",
      "epoch: 03, loss: -0.93759\n",
      "epoch: 04, loss: -0.94343\n",
      "epoch: 05, loss: -0.94773\n",
      "epoch: 06, loss: -0.95102\n",
      "epoch: 07, loss: -0.95367\n",
      "epoch: 08, loss: -0.95580\n",
      "epoch: 09, loss: -0.95768\n",
      "torch.Size([1024, 64])\n"
     ]
    },
    {
     "name": "stderr",
     "output_type": "stream",
     "text": [
      " 46%|████▌     | 455/999 [9:15:36<10:38:20, 70.40s/it]"
     ]
    },
    {
     "name": "stdout",
     "output_type": "stream",
     "text": [
      "eigenvalues shape torch.Size([5]) eigenvectors shape torch.Size([5, 1024])\n",
      "455 /home/phdcs2/Hard_Disk/Datasets/Deep-Spectral-Segmentation/data/object-segmentation/ECSSD/features/0457_resized.pth\n",
      "dict_keys(['k', 'indices', 'file', 'id', 'model_name', 'patch_size', 'shape'])\n",
      "0457_resized\n"
     ]
    },
    {
     "name": "stderr",
     "output_type": "stream",
     "text": [
      "/home/phdcs2/Hard_Disk/Projects/T2I/deep-spectral-segmentation/venv/lib/python3.8/site-packages/sklearn/decomposition/_pca.py:642: RuntimeWarning: invalid value encountered in divide\n",
      "  self.explained_variance_ratio_ = self.explained_variance_ / total_var\n"
     ]
    },
    {
     "name": "stdout",
     "output_type": "stream",
     "text": [
      "Starting Training\n",
      "epoch: 00, loss: -0.91271\n",
      "epoch: 01, loss: -0.94849\n",
      "epoch: 02, loss: -0.95652\n",
      "epoch: 03, loss: -0.96114\n",
      "epoch: 04, loss: -0.96424\n",
      "epoch: 05, loss: -0.96655\n",
      "epoch: 06, loss: -0.96839\n",
      "epoch: 07, loss: -0.96985\n",
      "epoch: 08, loss: -0.97109\n",
      "epoch: 09, loss: -0.97215\n",
      "torch.Size([1024, 64])\n"
     ]
    },
    {
     "name": "stderr",
     "output_type": "stream",
     "text": [
      " 46%|████▌     | 456/999 [9:16:39<10:17:02, 68.18s/it]"
     ]
    },
    {
     "name": "stdout",
     "output_type": "stream",
     "text": [
      "eigenvalues shape torch.Size([5]) eigenvectors shape torch.Size([5, 1024])\n",
      "456 /home/phdcs2/Hard_Disk/Datasets/Deep-Spectral-Segmentation/data/object-segmentation/ECSSD/features/0458_resized.pth\n",
      "dict_keys(['k', 'indices', 'file', 'id', 'model_name', 'patch_size', 'shape'])\n",
      "0458_resized\n",
      "Starting Training\n",
      "epoch: 00, loss: -0.84690\n",
      "epoch: 01, loss: -0.91073\n",
      "epoch: 02, loss: -0.92696\n",
      "epoch: 03, loss: -0.93587\n",
      "epoch: 04, loss: -0.94167\n",
      "epoch: 05, loss: -0.94600\n",
      "epoch: 06, loss: -0.94947\n",
      "epoch: 07, loss: -0.95217\n",
      "epoch: 08, loss: -0.95450\n",
      "epoch: 09, loss: -0.95639\n",
      "torch.Size([1024, 64])\n"
     ]
    },
    {
     "name": "stderr",
     "output_type": "stream",
     "text": [
      " 46%|████▌     | 457/999 [9:17:52<10:30:40, 69.82s/it]"
     ]
    },
    {
     "name": "stdout",
     "output_type": "stream",
     "text": [
      "eigenvalues shape torch.Size([5]) eigenvectors shape torch.Size([5, 1024])\n",
      "457 /home/phdcs2/Hard_Disk/Datasets/Deep-Spectral-Segmentation/data/object-segmentation/ECSSD/features/0459_resized.pth\n",
      "dict_keys(['k', 'indices', 'file', 'id', 'model_name', 'patch_size', 'shape'])\n",
      "0459_resized\n",
      "Starting Training\n",
      "epoch: 00, loss: -0.86899\n",
      "epoch: 01, loss: -0.92458\n",
      "epoch: 02, loss: -0.93848\n",
      "epoch: 03, loss: -0.94633\n",
      "epoch: 04, loss: -0.95178\n",
      "epoch: 05, loss: -0.95551\n",
      "epoch: 06, loss: -0.95854\n",
      "epoch: 07, loss: -0.96089\n",
      "epoch: 08, loss: -0.96294\n",
      "epoch: 09, loss: -0.96457\n",
      "torch.Size([1024, 64])\n"
     ]
    },
    {
     "name": "stderr",
     "output_type": "stream",
     "text": [
      " 46%|████▌     | 458/999 [9:19:05<10:38:40, 70.83s/it]"
     ]
    },
    {
     "name": "stdout",
     "output_type": "stream",
     "text": [
      "eigenvalues shape torch.Size([5]) eigenvectors shape torch.Size([5, 1024])\n",
      "458 /home/phdcs2/Hard_Disk/Datasets/Deep-Spectral-Segmentation/data/object-segmentation/ECSSD/features/0460_resized.pth\n",
      "dict_keys(['k', 'indices', 'file', 'id', 'model_name', 'patch_size', 'shape'])\n",
      "0460_resized\n"
     ]
    },
    {
     "name": "stderr",
     "output_type": "stream",
     "text": [
      "/home/phdcs2/Hard_Disk/Projects/T2I/deep-spectral-segmentation/venv/lib/python3.8/site-packages/sklearn/decomposition/_pca.py:642: RuntimeWarning: invalid value encountered in divide\n",
      "  self.explained_variance_ratio_ = self.explained_variance_ / total_var\n"
     ]
    },
    {
     "name": "stdout",
     "output_type": "stream",
     "text": [
      "Starting Training\n",
      "epoch: 00, loss: -0.93076\n",
      "epoch: 01, loss: -0.95622\n",
      "epoch: 02, loss: -0.96254\n",
      "epoch: 03, loss: -0.96634\n",
      "epoch: 04, loss: -0.96896\n",
      "epoch: 05, loss: -0.97094\n",
      "epoch: 06, loss: -0.97248\n",
      "epoch: 07, loss: -0.97379\n",
      "epoch: 08, loss: -0.97485\n",
      "epoch: 09, loss: -0.97579\n",
      "torch.Size([1024, 64])\n"
     ]
    },
    {
     "name": "stderr",
     "output_type": "stream",
     "text": [
      " 46%|████▌     | 459/999 [9:20:16<10:37:54, 70.88s/it]"
     ]
    },
    {
     "name": "stdout",
     "output_type": "stream",
     "text": [
      "eigenvalues shape torch.Size([5]) eigenvectors shape torch.Size([5, 1024])\n",
      "459 /home/phdcs2/Hard_Disk/Datasets/Deep-Spectral-Segmentation/data/object-segmentation/ECSSD/features/0461_resized.pth\n",
      "dict_keys(['k', 'indices', 'file', 'id', 'model_name', 'patch_size', 'shape'])\n",
      "0461_resized\n"
     ]
    },
    {
     "name": "stderr",
     "output_type": "stream",
     "text": [
      "/home/phdcs2/Hard_Disk/Projects/T2I/deep-spectral-segmentation/venv/lib/python3.8/site-packages/sklearn/decomposition/_pca.py:642: RuntimeWarning: invalid value encountered in divide\n",
      "  self.explained_variance_ratio_ = self.explained_variance_ / total_var\n"
     ]
    },
    {
     "name": "stdout",
     "output_type": "stream",
     "text": [
      "Starting Training\n",
      "epoch: 00, loss: -0.92929\n",
      "epoch: 01, loss: -0.95494\n",
      "epoch: 02, loss: -0.96147\n",
      "epoch: 03, loss: -0.96526\n",
      "epoch: 04, loss: -0.96788\n",
      "epoch: 05, loss: -0.96983\n",
      "epoch: 06, loss: -0.97139\n",
      "epoch: 07, loss: -0.97269\n",
      "epoch: 08, loss: -0.97374\n",
      "epoch: 09, loss: -0.97468\n",
      "torch.Size([1024, 64])\n"
     ]
    },
    {
     "name": "stderr",
     "output_type": "stream",
     "text": [
      " 46%|████▌     | 460/999 [9:21:25<10:29:55, 70.12s/it]"
     ]
    },
    {
     "name": "stdout",
     "output_type": "stream",
     "text": [
      "eigenvalues shape torch.Size([5]) eigenvectors shape torch.Size([5, 1024])\n",
      "460 /home/phdcs2/Hard_Disk/Datasets/Deep-Spectral-Segmentation/data/object-segmentation/ECSSD/features/0462_resized.pth\n",
      "dict_keys(['k', 'indices', 'file', 'id', 'model_name', 'patch_size', 'shape'])\n",
      "0462_resized\n",
      "Starting Training\n",
      "epoch: 00, loss: -0.92343\n",
      "epoch: 01, loss: -0.95466\n",
      "epoch: 02, loss: -0.96172\n",
      "epoch: 03, loss: -0.96585\n",
      "epoch: 04, loss: -0.96867\n",
      "epoch: 05, loss: -0.97080\n",
      "epoch: 06, loss: -0.97247\n",
      "epoch: 07, loss: -0.97382\n",
      "epoch: 08, loss: -0.97494\n",
      "epoch: 09, loss: -0.97592\n",
      "torch.Size([1024, 64])\n"
     ]
    },
    {
     "name": "stderr",
     "output_type": "stream",
     "text": [
      " 46%|████▌     | 461/999 [9:22:31<10:19:02, 69.04s/it]"
     ]
    },
    {
     "name": "stdout",
     "output_type": "stream",
     "text": [
      "eigenvalues shape torch.Size([5]) eigenvectors shape torch.Size([5, 1024])\n",
      "461 /home/phdcs2/Hard_Disk/Datasets/Deep-Spectral-Segmentation/data/object-segmentation/ECSSD/features/0463_resized.pth\n",
      "dict_keys(['k', 'indices', 'file', 'id', 'model_name', 'patch_size', 'shape'])\n",
      "0463_resized\n"
     ]
    },
    {
     "name": "stderr",
     "output_type": "stream",
     "text": [
      "/home/phdcs2/Hard_Disk/Projects/T2I/deep-spectral-segmentation/venv/lib/python3.8/site-packages/sklearn/decomposition/_pca.py:642: RuntimeWarning: invalid value encountered in divide\n",
      "  self.explained_variance_ratio_ = self.explained_variance_ / total_var\n"
     ]
    },
    {
     "name": "stdout",
     "output_type": "stream",
     "text": [
      "Starting Training\n",
      "epoch: 00, loss: -0.91745\n",
      "epoch: 01, loss: -0.95111\n",
      "epoch: 02, loss: -0.95833\n",
      "epoch: 03, loss: -0.96249\n",
      "epoch: 04, loss: -0.96537\n",
      "epoch: 05, loss: -0.96752\n",
      "epoch: 06, loss: -0.96920\n",
      "epoch: 07, loss: -0.97059\n",
      "epoch: 08, loss: -0.97180\n",
      "epoch: 09, loss: -0.97277\n",
      "torch.Size([1024, 64])\n"
     ]
    },
    {
     "name": "stderr",
     "output_type": "stream",
     "text": [
      " 46%|████▌     | 462/999 [9:23:44<10:28:27, 70.22s/it]"
     ]
    },
    {
     "name": "stdout",
     "output_type": "stream",
     "text": [
      "eigenvalues shape torch.Size([5]) eigenvectors shape torch.Size([5, 1024])\n",
      "462 /home/phdcs2/Hard_Disk/Datasets/Deep-Spectral-Segmentation/data/object-segmentation/ECSSD/features/0464_resized.pth\n",
      "dict_keys(['k', 'indices', 'file', 'id', 'model_name', 'patch_size', 'shape'])\n",
      "0464_resized\n",
      "Starting Training\n",
      "epoch: 00, loss: -0.88194\n",
      "epoch: 01, loss: -0.93031\n",
      "epoch: 02, loss: -0.94237\n",
      "epoch: 03, loss: -0.94889\n",
      "epoch: 04, loss: -0.95350\n",
      "epoch: 05, loss: -0.95689\n",
      "epoch: 06, loss: -0.95958\n",
      "epoch: 07, loss: -0.96182\n",
      "epoch: 08, loss: -0.96359\n",
      "epoch: 09, loss: -0.96509\n",
      "torch.Size([1024, 64])\n"
     ]
    },
    {
     "name": "stderr",
     "output_type": "stream",
     "text": [
      " 46%|████▋     | 463/999 [9:24:57<10:34:49, 71.06s/it]"
     ]
    },
    {
     "name": "stdout",
     "output_type": "stream",
     "text": [
      "eigenvalues shape torch.Size([5]) eigenvectors shape torch.Size([5, 1024])\n",
      "463 /home/phdcs2/Hard_Disk/Datasets/Deep-Spectral-Segmentation/data/object-segmentation/ECSSD/features/0465_resized.pth\n",
      "dict_keys(['k', 'indices', 'file', 'id', 'model_name', 'patch_size', 'shape'])\n",
      "0465_resized\n",
      "Starting Training\n",
      "epoch: 00, loss: -0.86936\n",
      "epoch: 01, loss: -0.92169\n",
      "epoch: 02, loss: -0.93506\n",
      "epoch: 03, loss: -0.94272\n",
      "epoch: 04, loss: -0.94784\n",
      "epoch: 05, loss: -0.95160\n",
      "epoch: 06, loss: -0.95457\n",
      "epoch: 07, loss: -0.95700\n",
      "epoch: 08, loss: -0.95900\n",
      "epoch: 09, loss: -0.96068\n",
      "torch.Size([1024, 64])\n"
     ]
    },
    {
     "name": "stderr",
     "output_type": "stream",
     "text": [
      " 46%|████▋     | 464/999 [9:26:05<10:25:21, 70.13s/it]"
     ]
    },
    {
     "name": "stdout",
     "output_type": "stream",
     "text": [
      "eigenvalues shape torch.Size([5]) eigenvectors shape torch.Size([5, 1024])\n",
      "464 /home/phdcs2/Hard_Disk/Datasets/Deep-Spectral-Segmentation/data/object-segmentation/ECSSD/features/0466_resized.pth\n",
      "dict_keys(['k', 'indices', 'file', 'id', 'model_name', 'patch_size', 'shape'])\n",
      "0466_resized\n"
     ]
    },
    {
     "name": "stderr",
     "output_type": "stream",
     "text": [
      "/home/phdcs2/Hard_Disk/Projects/T2I/deep-spectral-segmentation/venv/lib/python3.8/site-packages/sklearn/decomposition/_pca.py:642: RuntimeWarning: invalid value encountered in divide\n",
      "  self.explained_variance_ratio_ = self.explained_variance_ / total_var\n"
     ]
    },
    {
     "name": "stdout",
     "output_type": "stream",
     "text": [
      "Starting Training\n",
      "epoch: 00, loss: -0.91885\n",
      "epoch: 01, loss: -0.95169\n",
      "epoch: 02, loss: -0.95931\n",
      "epoch: 03, loss: -0.96369\n",
      "epoch: 04, loss: -0.96670\n",
      "epoch: 05, loss: -0.96894\n",
      "epoch: 06, loss: -0.97069\n",
      "epoch: 07, loss: -0.97210\n",
      "epoch: 08, loss: -0.97330\n",
      "epoch: 09, loss: -0.97430\n",
      "torch.Size([1024, 64])\n"
     ]
    },
    {
     "name": "stderr",
     "output_type": "stream",
     "text": [
      " 47%|████▋     | 465/999 [9:27:18<10:30:14, 70.81s/it]"
     ]
    },
    {
     "name": "stdout",
     "output_type": "stream",
     "text": [
      "eigenvalues shape torch.Size([5]) eigenvectors shape torch.Size([5, 1024])\n",
      "465 /home/phdcs2/Hard_Disk/Datasets/Deep-Spectral-Segmentation/data/object-segmentation/ECSSD/features/0467_resized.pth\n",
      "dict_keys(['k', 'indices', 'file', 'id', 'model_name', 'patch_size', 'shape'])\n",
      "0467_resized\n",
      "Starting Training\n",
      "epoch: 00, loss: -0.87274\n",
      "epoch: 01, loss: -0.92283\n",
      "epoch: 02, loss: -0.93632\n",
      "epoch: 03, loss: -0.94359\n",
      "epoch: 04, loss: -0.94866\n",
      "epoch: 05, loss: -0.95239\n",
      "epoch: 06, loss: -0.95523\n",
      "epoch: 07, loss: -0.95764\n",
      "epoch: 08, loss: -0.95943\n",
      "epoch: 09, loss: -0.96122\n",
      "torch.Size([1024, 64])\n"
     ]
    },
    {
     "name": "stderr",
     "output_type": "stream",
     "text": [
      " 47%|████▋     | 466/999 [9:28:36<10:48:06, 72.96s/it]"
     ]
    },
    {
     "name": "stdout",
     "output_type": "stream",
     "text": [
      "eigenvalues shape torch.Size([5]) eigenvectors shape torch.Size([5, 1024])\n",
      "466 /home/phdcs2/Hard_Disk/Datasets/Deep-Spectral-Segmentation/data/object-segmentation/ECSSD/features/0468_resized.pth\n",
      "dict_keys(['k', 'indices', 'file', 'id', 'model_name', 'patch_size', 'shape'])\n",
      "0468_resized\n"
     ]
    },
    {
     "name": "stderr",
     "output_type": "stream",
     "text": [
      "/home/phdcs2/Hard_Disk/Projects/T2I/deep-spectral-segmentation/venv/lib/python3.8/site-packages/sklearn/decomposition/_pca.py:642: RuntimeWarning: invalid value encountered in divide\n",
      "  self.explained_variance_ratio_ = self.explained_variance_ / total_var\n"
     ]
    },
    {
     "name": "stdout",
     "output_type": "stream",
     "text": [
      "Starting Training\n",
      "epoch: 00, loss: -0.90541\n",
      "epoch: 01, loss: -0.94424\n",
      "epoch: 02, loss: -0.95286\n",
      "epoch: 03, loss: -0.95786\n",
      "epoch: 04, loss: -0.96125\n",
      "epoch: 05, loss: -0.96381\n",
      "epoch: 06, loss: -0.96582\n",
      "epoch: 07, loss: -0.96743\n",
      "epoch: 08, loss: -0.96883\n",
      "epoch: 09, loss: -0.96998\n",
      "torch.Size([1024, 64])\n"
     ]
    },
    {
     "name": "stderr",
     "output_type": "stream",
     "text": [
      " 47%|████▋     | 467/999 [9:29:51<10:54:10, 73.78s/it]"
     ]
    },
    {
     "name": "stdout",
     "output_type": "stream",
     "text": [
      "eigenvalues shape torch.Size([5]) eigenvectors shape torch.Size([5, 1024])\n",
      "467 /home/phdcs2/Hard_Disk/Datasets/Deep-Spectral-Segmentation/data/object-segmentation/ECSSD/features/0469_resized.pth\n",
      "dict_keys(['k', 'indices', 'file', 'id', 'model_name', 'patch_size', 'shape'])\n",
      "0469_resized\n"
     ]
    },
    {
     "name": "stderr",
     "output_type": "stream",
     "text": [
      "/home/phdcs2/Hard_Disk/Projects/T2I/deep-spectral-segmentation/venv/lib/python3.8/site-packages/sklearn/decomposition/_pca.py:642: RuntimeWarning: invalid value encountered in divide\n",
      "  self.explained_variance_ratio_ = self.explained_variance_ / total_var\n"
     ]
    },
    {
     "name": "stdout",
     "output_type": "stream",
     "text": [
      "Starting Training\n",
      "epoch: 00, loss: -0.93423\n",
      "epoch: 01, loss: -0.95993\n",
      "epoch: 02, loss: -0.96612\n",
      "epoch: 03, loss: -0.96973\n",
      "epoch: 04, loss: -0.97218\n",
      "epoch: 05, loss: -0.97405\n",
      "epoch: 06, loss: -0.97550\n",
      "epoch: 07, loss: -0.97668\n",
      "epoch: 08, loss: -0.97768\n",
      "epoch: 09, loss: -0.97853\n",
      "torch.Size([1024, 64])\n"
     ]
    },
    {
     "name": "stderr",
     "output_type": "stream",
     "text": [
      " 47%|████▋     | 468/999 [9:31:05<10:51:51, 73.66s/it]"
     ]
    },
    {
     "name": "stdout",
     "output_type": "stream",
     "text": [
      "eigenvalues shape torch.Size([5]) eigenvectors shape torch.Size([5, 1024])\n",
      "468 /home/phdcs2/Hard_Disk/Datasets/Deep-Spectral-Segmentation/data/object-segmentation/ECSSD/features/0470_resized.pth\n",
      "dict_keys(['k', 'indices', 'file', 'id', 'model_name', 'patch_size', 'shape'])\n",
      "0470_resized\n",
      "Starting Training\n",
      "Starting Training\n",
      "epoch: 00, loss: -0.87583\n",
      "epoch: 01, loss: -0.92482\n",
      "epoch: 02, loss: -0.93833\n",
      "epoch: 03, loss: -0.94571\n",
      "epoch: 04, loss: -0.95090\n",
      "epoch: 05, loss: -0.95468\n",
      "epoch: 06, loss: -0.95766\n",
      "epoch: 07, loss: -0.95992\n",
      "epoch: 08, loss: -0.96185\n",
      "epoch: 09, loss: -0.96357\n",
      "torch.Size([1024, 64])\n"
     ]
    },
    {
     "name": "stderr",
     "output_type": "stream",
     "text": [
      " 27%|██▋       | 271/999 [5:38:01<17:18:00, 85.55s/it]"
     ]
    },
    {
     "name": "stdout",
     "output_type": "stream",
     "text": [
      "eigenvalues shape torch.Size([5]) eigenvectors shape torch.Size([5, 1024])\n",
      "271 /home/phdcs2/Hard_Disk/Datasets/Deep-Spectral-Segmentation/data/object-segmentation/ECSSD/features/0273_resized.pth\n",
      "dict_keys(['k', 'indices', 'file', 'id', 'model_name', 'patch_size', 'shape'])\n",
      "0273_resized\n",
      "Starting Training\n",
      "epoch: 00, loss: -0.86771\n",
      "epoch: 01, loss: -0.92408\n",
      "epoch: 02, loss: -0.93835\n",
      "epoch: 03, loss: -0.94659\n",
      "epoch: 04, loss: -0.95186\n",
      "epoch: 05, loss: -0.95570\n",
      "epoch: 06, loss: -0.95856\n",
      "epoch: 07, loss: -0.96100\n",
      "epoch: 08, loss: -0.96292\n",
      "epoch: 09, loss: -0.96457\n",
      "torch.Size([1024, 64])\n"
     ]
    },
    {
     "name": "stderr",
     "output_type": "stream",
     "text": [
      " 27%|██▋       | 272/999 [5:39:31<17:35:23, 87.10s/it]"
     ]
    },
    {
     "name": "stdout",
     "output_type": "stream",
     "text": [
      "eigenvalues shape torch.Size([5]) eigenvectors shape torch.Size([5, 1024])\n",
      "272 /home/phdcs2/Hard_Disk/Datasets/Deep-Spectral-Segmentation/data/object-segmentation/ECSSD/features/0274_resized.pth\n",
      "dict_keys(['k', 'indices', 'file', 'id', 'model_name', 'patch_size', 'shape'])\n",
      "0274_resized\n",
      "Starting Training\n",
      "epoch: 00, loss: -0.86277\n",
      "epoch: 01, loss: -0.92093\n",
      "epoch: 02, loss: -0.93513\n",
      "epoch: 03, loss: -0.94316\n",
      "epoch: 04, loss: -0.94832\n",
      "epoch: 05, loss: -0.95201\n",
      "epoch: 06, loss: -0.95510\n",
      "epoch: 07, loss: -0.95749\n",
      "epoch: 08, loss: -0.95952\n",
      "epoch: 09, loss: -0.96116\n",
      "torch.Size([1024, 64])\n"
     ]
    },
    {
     "name": "stderr",
     "output_type": "stream",
     "text": [
      " 27%|██▋       | 273/999 [5:41:04<17:53:23, 88.71s/it]"
     ]
    },
    {
     "name": "stdout",
     "output_type": "stream",
     "text": [
      "eigenvalues shape torch.Size([5]) eigenvectors shape torch.Size([5, 1024])\n",
      "273 /home/phdcs2/Hard_Disk/Datasets/Deep-Spectral-Segmentation/data/object-segmentation/ECSSD/features/0275_resized.pth\n",
      "dict_keys(['k', 'indices', 'file', 'id', 'model_name', 'patch_size', 'shape'])\n",
      "0275_resized\n"
     ]
    },
    {
     "name": "stderr",
     "output_type": "stream",
     "text": [
      "/home/phdcs2/Hard_Disk/Projects/T2I/deep-spectral-segmentation/venv/lib/python3.8/site-packages/sklearn/decomposition/_pca.py:642: RuntimeWarning: invalid value encountered in divide\n",
      "  self.explained_variance_ratio_ = self.explained_variance_ / total_var\n"
     ]
    },
    {
     "name": "stdout",
     "output_type": "stream",
     "text": [
      "Starting Training\n",
      "epoch: 00, loss: -0.93249\n",
      "epoch: 01, loss: -0.96358\n",
      "epoch: 02, loss: -0.96955\n",
      "epoch: 03, loss: -0.97291\n",
      "epoch: 04, loss: -0.97520\n",
      "epoch: 05, loss: -0.97693\n",
      "epoch: 06, loss: -0.97826\n",
      "epoch: 07, loss: -0.97935\n",
      "epoch: 08, loss: -0.98026\n",
      "epoch: 09, loss: -0.98102\n",
      "torch.Size([1024, 64])\n"
     ]
    },
    {
     "name": "stderr",
     "output_type": "stream",
     "text": [
      " 27%|██▋       | 274/999 [5:42:28<17:34:25, 87.26s/it]"
     ]
    },
    {
     "name": "stdout",
     "output_type": "stream",
     "text": [
      "eigenvalues shape torch.Size([5]) eigenvectors shape torch.Size([5, 1024])\n",
      "274 /home/phdcs2/Hard_Disk/Datasets/Deep-Spectral-Segmentation/data/object-segmentation/ECSSD/features/0276_resized.pth\n",
      "dict_keys(['k', 'indices', 'file', 'id', 'model_name', 'patch_size', 'shape'])\n",
      "0276_resized\n",
      "Starting Training\n",
      "epoch: 00, loss: -0.91125\n",
      "epoch: 01, loss: -0.94686\n",
      "epoch: 02, loss: -0.95494\n",
      "epoch: 03, loss: -0.95966\n",
      "epoch: 04, loss: -0.96294\n",
      "epoch: 05, loss: -0.96541\n",
      "epoch: 06, loss: -0.96735\n",
      "epoch: 07, loss: -0.96887\n",
      "epoch: 08, loss: -0.97014\n",
      "epoch: 09, loss: -0.97123\n",
      "torch.Size([1024, 64])\n"
     ]
    },
    {
     "name": "stderr",
     "output_type": "stream",
     "text": [
      " 28%|██▊       | 275/999 [5:43:59<17:47:51, 88.50s/it]"
     ]
    },
    {
     "name": "stdout",
     "output_type": "stream",
     "text": [
      "eigenvalues shape torch.Size([5]) eigenvectors shape torch.Size([5, 1024])\n",
      "275 /home/phdcs2/Hard_Disk/Datasets/Deep-Spectral-Segmentation/data/object-segmentation/ECSSD/features/0277_resized.pth\n",
      "dict_keys(['k', 'indices', 'file', 'id', 'model_name', 'patch_size', 'shape'])\n",
      "0277_resized\n",
      "Starting Training\n",
      "epoch: 00, loss: -0.93751\n",
      "epoch: 01, loss: -0.96349\n",
      "epoch: 02, loss: -0.96936\n",
      "epoch: 03, loss: -0.97261\n",
      "epoch: 04, loss: -0.97485\n",
      "epoch: 05, loss: -0.97652\n",
      "epoch: 06, loss: -0.97784\n",
      "epoch: 07, loss: -0.97890\n",
      "epoch: 08, loss: -0.97977\n",
      "epoch: 09, loss: -0.98054\n",
      "torch.Size([1024, 64])\n"
     ]
    },
    {
     "name": "stderr",
     "output_type": "stream",
     "text": [
      " 28%|██▊       | 276/999 [5:45:24<17:33:31, 87.43s/it]"
     ]
    },
    {
     "name": "stdout",
     "output_type": "stream",
     "text": [
      "eigenvalues shape torch.Size([5]) eigenvectors shape torch.Size([5, 1024])\n",
      "276 /home/phdcs2/Hard_Disk/Datasets/Deep-Spectral-Segmentation/data/object-segmentation/ECSSD/features/0278_resized.pth\n",
      "dict_keys(['k', 'indices', 'file', 'id', 'model_name', 'patch_size', 'shape'])\n",
      "0278_resized\n",
      "Starting Training\n",
      "epoch: 00, loss: -0.87553\n",
      "epoch: 01, loss: -0.92553\n",
      "epoch: 02, loss: -0.93828\n",
      "epoch: 03, loss: -0.94546\n",
      "epoch: 04, loss: -0.95035\n",
      "epoch: 05, loss: -0.95394\n",
      "epoch: 06, loss: -0.95664\n",
      "epoch: 07, loss: -0.95885\n",
      "epoch: 08, loss: -0.96076\n",
      "epoch: 09, loss: -0.96234\n",
      "torch.Size([1024, 64])\n"
     ]
    },
    {
     "name": "stderr",
     "output_type": "stream",
     "text": [
      " 28%|██▊       | 277/999 [5:46:52<17:33:36, 87.56s/it]"
     ]
    },
    {
     "name": "stdout",
     "output_type": "stream",
     "text": [
      "eigenvalues shape torch.Size([5]) eigenvectors shape torch.Size([5, 1024])\n",
      "277 /home/phdcs2/Hard_Disk/Datasets/Deep-Spectral-Segmentation/data/object-segmentation/ECSSD/features/0279_resized.pth\n",
      "dict_keys(['k', 'indices', 'file', 'id', 'model_name', 'patch_size', 'shape'])\n",
      "0279_resized\n",
      "Starting Training\n",
      "epoch: 00, loss: -0.88166\n",
      "epoch: 01, loss: -0.92816\n",
      "epoch: 02, loss: -0.94047\n",
      "epoch: 03, loss: -0.94748\n",
      "epoch: 04, loss: -0.95197\n",
      "epoch: 05, loss: -0.95552\n",
      "epoch: 06, loss: -0.95824\n",
      "epoch: 07, loss: -0.96034\n",
      "epoch: 08, loss: -0.96210\n",
      "epoch: 09, loss: -0.96372\n",
      "torch.Size([1024, 64])\n"
     ]
    },
    {
     "name": "stderr",
     "output_type": "stream",
     "text": [
      " 28%|██▊       | 278/999 [5:48:19<17:29:15, 87.32s/it]"
     ]
    },
    {
     "name": "stdout",
     "output_type": "stream",
     "text": [
      "eigenvalues shape torch.Size([5]) eigenvectors shape torch.Size([5, 1024])\n",
      "278 /home/phdcs2/Hard_Disk/Datasets/Deep-Spectral-Segmentation/data/object-segmentation/ECSSD/features/0280_resized.pth\n",
      "dict_keys(['k', 'indices', 'file', 'id', 'model_name', 'patch_size', 'shape'])\n",
      "0280_resized\n",
      "Starting Training\n",
      "epoch: 00, loss: -0.86516\n",
      "epoch: 01, loss: -0.91982\n",
      "epoch: 02, loss: -0.93450\n",
      "epoch: 03, loss: -0.94251\n",
      "epoch: 04, loss: -0.94821\n",
      "epoch: 05, loss: -0.95231\n",
      "epoch: 06, loss: -0.95540\n",
      "epoch: 07, loss: -0.95788\n",
      "epoch: 08, loss: -0.95991\n",
      "epoch: 09, loss: -0.96156\n",
      "torch.Size([1024, 64])\n"
     ]
    },
    {
     "name": "stderr",
     "output_type": "stream",
     "text": [
      " 28%|██▊       | 279/999 [5:49:39<17:03:38, 85.30s/it]"
     ]
    },
    {
     "name": "stdout",
     "output_type": "stream",
     "text": [
      "eigenvalues shape torch.Size([5]) eigenvectors shape torch.Size([5, 1024])\n",
      "279 /home/phdcs2/Hard_Disk/Datasets/Deep-Spectral-Segmentation/data/object-segmentation/ECSSD/features/0281_resized.pth\n",
      "dict_keys(['k', 'indices', 'file', 'id', 'model_name', 'patch_size', 'shape'])\n",
      "0281_resized\n",
      "Starting Training\n",
      "epoch: 00, loss: -0.87183\n",
      "epoch: 01, loss: -0.92515\n",
      "epoch: 02, loss: -0.93770\n",
      "epoch: 03, loss: -0.94479\n",
      "epoch: 04, loss: -0.94966\n",
      "epoch: 05, loss: -0.95309\n",
      "epoch: 06, loss: -0.95572\n",
      "epoch: 07, loss: -0.95794\n",
      "epoch: 08, loss: -0.95983\n",
      "epoch: 09, loss: -0.96140\n",
      "torch.Size([1024, 64])\n"
     ]
    },
    {
     "name": "stderr",
     "output_type": "stream",
     "text": [
      " 28%|██▊       | 280/999 [5:50:50<16:08:08, 80.79s/it]"
     ]
    },
    {
     "name": "stdout",
     "output_type": "stream",
     "text": [
      "eigenvalues shape torch.Size([5]) eigenvectors shape torch.Size([5, 1024])\n",
      "280 /home/phdcs2/Hard_Disk/Datasets/Deep-Spectral-Segmentation/data/object-segmentation/ECSSD/features/0282_resized.pth\n",
      "dict_keys(['k', 'indices', 'file', 'id', 'model_name', 'patch_size', 'shape'])\n",
      "0282_resized\n",
      "Starting Training\n",
      "epoch: 00, loss: -0.87343\n",
      "epoch: 01, loss: -0.92318\n",
      "epoch: 02, loss: -0.93583\n",
      "epoch: 03, loss: -0.94287\n",
      "epoch: 04, loss: -0.94760\n",
      "epoch: 05, loss: -0.95109\n",
      "epoch: 06, loss: -0.95375\n",
      "epoch: 07, loss: -0.95598\n",
      "epoch: 08, loss: -0.95771\n",
      "epoch: 09, loss: -0.95928\n",
      "torch.Size([1024, 64])\n"
     ]
    },
    {
     "name": "stderr",
     "output_type": "stream",
     "text": [
      " 28%|██▊       | 281/999 [5:51:58<15:23:13, 77.15s/it]"
     ]
    },
    {
     "name": "stdout",
     "output_type": "stream",
     "text": [
      "eigenvalues shape torch.Size([5]) eigenvectors shape torch.Size([5, 1024])\n",
      "281 /home/phdcs2/Hard_Disk/Datasets/Deep-Spectral-Segmentation/data/object-segmentation/ECSSD/features/0283_resized.pth\n",
      "dict_keys(['k', 'indices', 'file', 'id', 'model_name', 'patch_size', 'shape'])\n",
      "0283_resized\n",
      "Starting Training\n",
      "epoch: 00, loss: -0.88022\n",
      "epoch: 01, loss: -0.92888\n",
      "epoch: 02, loss: -0.94055\n",
      "epoch: 03, loss: -0.94745\n",
      "epoch: 04, loss: -0.95202\n",
      "epoch: 05, loss: -0.95525\n",
      "epoch: 06, loss: -0.95782\n",
      "epoch: 07, loss: -0.95982\n",
      "epoch: 08, loss: -0.96148\n",
      "epoch: 09, loss: -0.96287\n",
      "torch.Size([1024, 64])\n"
     ]
    },
    {
     "name": "stderr",
     "output_type": "stream",
     "text": [
      " 28%|██▊       | 282/999 [5:53:08<14:56:10, 74.99s/it]"
     ]
    },
    {
     "name": "stdout",
     "output_type": "stream",
     "text": [
      "eigenvalues shape torch.Size([5]) eigenvectors shape torch.Size([5, 1024])\n",
      "282 /home/phdcs2/Hard_Disk/Datasets/Deep-Spectral-Segmentation/data/object-segmentation/ECSSD/features/0284_resized.pth\n",
      "dict_keys(['k', 'indices', 'file', 'id', 'model_name', 'patch_size', 'shape'])\n",
      "0284_resized\n",
      "Starting Training\n",
      "epoch: 00, loss: -0.86929\n",
      "epoch: 01, loss: -0.92356\n",
      "epoch: 02, loss: -0.93697\n",
      "epoch: 03, loss: -0.94480\n",
      "epoch: 04, loss: -0.94979\n",
      "epoch: 05, loss: -0.95356\n",
      "epoch: 06, loss: -0.95652\n",
      "epoch: 07, loss: -0.95888\n",
      "epoch: 08, loss: -0.96089\n",
      "epoch: 09, loss: -0.96252\n",
      "torch.Size([1024, 64])\n"
     ]
    },
    {
     "name": "stderr",
     "output_type": "stream",
     "text": [
      " 28%|██▊       | 283/999 [5:54:16<14:30:22, 72.94s/it]"
     ]
    },
    {
     "name": "stdout",
     "output_type": "stream",
     "text": [
      "eigenvalues shape torch.Size([5]) eigenvectors shape torch.Size([5, 1024])\n",
      "283 /home/phdcs2/Hard_Disk/Datasets/Deep-Spectral-Segmentation/data/object-segmentation/ECSSD/features/0285_resized.pth\n",
      "dict_keys(['k', 'indices', 'file', 'id', 'model_name', 'patch_size', 'shape'])\n",
      "0285_resized\n",
      "Starting Training\n",
      "epoch: 00, loss: -0.86853\n",
      "epoch: 01, loss: -0.92169\n",
      "epoch: 02, loss: -0.93541\n",
      "epoch: 03, loss: -0.94280\n",
      "epoch: 04, loss: -0.94793\n",
      "epoch: 05, loss: -0.95168\n",
      "epoch: 06, loss: -0.95462\n",
      "epoch: 07, loss: -0.95688\n",
      "epoch: 08, loss: -0.95891\n",
      "epoch: 09, loss: -0.96054\n",
      "torch.Size([1024, 64])\n"
     ]
    },
    {
     "name": "stderr",
     "output_type": "stream",
     "text": [
      " 28%|██▊       | 284/999 [5:55:26<14:16:04, 71.84s/it]"
     ]
    },
    {
     "name": "stdout",
     "output_type": "stream",
     "text": [
      "eigenvalues shape torch.Size([5]) eigenvectors shape torch.Size([5, 1024])\n",
      "284 /home/phdcs2/Hard_Disk/Datasets/Deep-Spectral-Segmentation/data/object-segmentation/ECSSD/features/0286_resized.pth\n",
      "dict_keys(['k', 'indices', 'file', 'id', 'model_name', 'patch_size', 'shape'])\n",
      "0286_resized\n",
      "epoch: 00, loss: -0.87123\n",
      "epoch: 01, loss: -0.92307\n",
      "epoch: 02, loss: -0.93726\n",
      "epoch: 03, loss: -0.94501\n",
      "epoch: 04, loss: -0.95026\n",
      "epoch: 05, loss: -0.95400\n",
      "epoch: 06, loss: -0.95705\n",
      "epoch: 07, loss: -0.95952\n",
      "epoch: 08, loss: -0.96143\n",
      "epoch: 09, loss: -0.96317\n",
      "torch.Size([1024, 64])\n"
     ]
    },
    {
     "name": "stderr",
     "output_type": "stream",
     "text": [
      " 47%|████▋     | 469/999 [9:32:17<10:45:55, 73.12s/it]"
     ]
    },
    {
     "name": "stdout",
     "output_type": "stream",
     "text": [
      "eigenvalues shape torch.Size([5]) eigenvectors shape torch.Size([5, 1024])\n",
      "469 /home/phdcs2/Hard_Disk/Datasets/Deep-Spectral-Segmentation/data/object-segmentation/ECSSD/features/0471_resized.pth\n",
      "dict_keys(['k', 'indices', 'file', 'id', 'model_name', 'patch_size', 'shape'])\n",
      "0471_resized\n",
      "Starting Training\n",
      "epoch: 00, loss: -0.85527\n",
      "epoch: 01, loss: -0.91707\n",
      "epoch: 02, loss: -0.93200\n",
      "epoch: 03, loss: -0.94012\n",
      "epoch: 04, loss: -0.94553\n",
      "epoch: 05, loss: -0.94957\n",
      "epoch: 06, loss: -0.95253\n",
      "epoch: 07, loss: -0.95509\n",
      "epoch: 08, loss: -0.95719\n",
      "epoch: 09, loss: -0.95895\n",
      "torch.Size([1024, 64])\n"
     ]
    },
    {
     "name": "stderr",
     "output_type": "stream",
     "text": [
      " 47%|████▋     | 470/999 [9:33:26<10:34:36, 71.98s/it]"
     ]
    },
    {
     "name": "stdout",
     "output_type": "stream",
     "text": [
      "eigenvalues shape torch.Size([5]) eigenvectors shape torch.Size([5, 1024])\n",
      "470 /home/phdcs2/Hard_Disk/Datasets/Deep-Spectral-Segmentation/data/object-segmentation/ECSSD/features/0472_resized.pth\n",
      "dict_keys(['k', 'indices', 'file', 'id', 'model_name', 'patch_size', 'shape'])\n",
      "0472_resized\n",
      "Starting Training\n",
      "epoch: 00, loss: -0.84767\n",
      "epoch: 01, loss: -0.90912\n",
      "epoch: 03, loss: -0.94530\n",
      "epoch: 04, loss: -0.95035\n",
      "epoch: 05, loss: -0.95386\n",
      "epoch: 06, loss: -0.95672\n",
      "epoch: 07, loss: -0.95897\n",
      "epoch: 08, loss: -0.96087\n",
      "epoch: 09, loss: -0.96251\n",
      "torch.Size([1024, 64])\n"
     ]
    },
    {
     "name": "stderr",
     "output_type": "stream",
     "text": [
      " 49%|████▉     | 492/999 [9:59:25<10:22:44, 73.70s/it]"
     ]
    },
    {
     "name": "stdout",
     "output_type": "stream",
     "text": [
      "eigenvalues shape torch.Size([5]) eigenvectors shape torch.Size([5, 1024])\n",
      "492 /home/phdcs2/Hard_Disk/Datasets/Deep-Spectral-Segmentation/data/object-segmentation/ECSSD/features/0494_resized.pth\n",
      "dict_keys(['k', 'indices', 'file', 'id', 'model_name', 'patch_size', 'shape'])\n",
      "0494_resized\n",
      "Starting Training\n",
      "epoch: 00, loss: -0.91913\n",
      "epoch: 01, loss: -0.95141\n",
      "epoch: 02, loss: -0.95908\n",
      "epoch: 03, loss: -0.96344\n",
      "epoch: 04, loss: -0.96643\n",
      "epoch: 05, loss: -0.96868\n",
      "epoch: 06, loss: -0.97038\n",
      "epoch: 07, loss: -0.97181\n",
      "epoch: 08, loss: -0.97299\n",
      "epoch: 09, loss: -0.97399\n",
      "torch.Size([1024, 64])\n"
     ]
    },
    {
     "name": "stderr",
     "output_type": "stream",
     "text": [
      " 49%|████▉     | 493/999 [10:00:41<10:27:58, 74.46s/it]"
     ]
    },
    {
     "name": "stdout",
     "output_type": "stream",
     "text": [
      "eigenvalues shape torch.Size([5]) eigenvectors shape torch.Size([5, 1024])\n",
      "493 /home/phdcs2/Hard_Disk/Datasets/Deep-Spectral-Segmentation/data/object-segmentation/ECSSD/features/0495_resized.pth\n",
      "dict_keys(['k', 'indices', 'file', 'id', 'model_name', 'patch_size', 'shape'])\n",
      "0495_resized\n",
      "Starting Training\n",
      "epoch: 00, loss: -0.91762\n",
      "epoch: 01, loss: -0.94916\n",
      "epoch: 02, loss: -0.95705\n",
      "epoch: 03, loss: -0.96164\n",
      "epoch: 04, loss: -0.96476\n",
      "epoch: 05, loss: -0.96710\n",
      "epoch: 06, loss: -0.96893\n",
      "epoch: 07, loss: -0.97042\n",
      "epoch: 08, loss: -0.97167\n",
      "epoch: 09, loss: -0.97274\n",
      "torch.Size([1024, 64])\n"
     ]
    },
    {
     "name": "stderr",
     "output_type": "stream",
     "text": [
      " 49%|████▉     | 494/999 [10:01:56<10:29:37, 74.81s/it]"
     ]
    },
    {
     "name": "stdout",
     "output_type": "stream",
     "text": [
      "eigenvalues shape torch.Size([5]) eigenvectors shape torch.Size([5, 1024])\n",
      "494 /home/phdcs2/Hard_Disk/Datasets/Deep-Spectral-Segmentation/data/object-segmentation/ECSSD/features/0496_resized.pth\n",
      "dict_keys(['k', 'indices', 'file', 'id', 'model_name', 'patch_size', 'shape'])\n",
      "0496_resized\n",
      "Starting Training\n",
      "epoch: 00, loss: -0.87123\n",
      "epoch: 01, loss: -0.92257\n",
      "epoch: 02, loss: -0.93617\n",
      "epoch: 03, loss: -0.94406\n",
      "epoch: 04, loss: -0.94935\n",
      "epoch: 05, loss: -0.95302\n",
      "epoch: 06, loss: -0.95590\n",
      "epoch: 07, loss: -0.95833\n",
      "epoch: 08, loss: -0.96023\n",
      "epoch: 09, loss: -0.96200\n",
      "torch.Size([1024, 64])\n"
     ]
    },
    {
     "name": "stderr",
     "output_type": "stream",
     "text": [
      " 50%|████▉     | 495/999 [10:03:09<10:23:01, 74.17s/it]"
     ]
    },
    {
     "name": "stdout",
     "output_type": "stream",
     "text": [
      "eigenvalues shape torch.Size([5]) eigenvectors shape torch.Size([5, 1024])\n",
      "495 /home/phdcs2/Hard_Disk/Datasets/Deep-Spectral-Segmentation/data/object-segmentation/ECSSD/features/0497_resized.pth\n",
      "dict_keys(['k', 'indices', 'file', 'id', 'model_name', 'patch_size', 'shape'])\n",
      "0497_resized\n",
      "Starting Training\n",
      "epoch: 00, loss: -0.84579\n",
      "epoch: 01, loss: -0.91039\n",
      "epoch: 02, loss: -0.92657\n",
      "epoch: 03, loss: -0.93553\n",
      "epoch: 04, loss: -0.94160\n",
      "epoch: 05, loss: -0.94588\n",
      "epoch: 06, loss: -0.94936\n",
      "epoch: 07, loss: -0.95198\n",
      "epoch: 08, loss: -0.95423\n",
      "epoch: 09, loss: -0.95619\n",
      "torch.Size([1024, 64])\n"
     ]
    },
    {
     "name": "stderr",
     "output_type": "stream",
     "text": [
      " 50%|████▉     | 496/999 [10:04:23<10:22:05, 74.20s/it]"
     ]
    },
    {
     "name": "stdout",
     "output_type": "stream",
     "text": [
      "eigenvalues shape torch.Size([5]) eigenvectors shape torch.Size([5, 1024])\n",
      "496 /home/phdcs2/Hard_Disk/Datasets/Deep-Spectral-Segmentation/data/object-segmentation/ECSSD/features/0498_resized.pth\n",
      "dict_keys(['k', 'indices', 'file', 'id', 'model_name', 'patch_size', 'shape'])\n",
      "0498_resized\n"
     ]
    },
    {
     "name": "stderr",
     "output_type": "stream",
     "text": [
      "/home/phdcs2/Hard_Disk/Projects/T2I/deep-spectral-segmentation/venv/lib/python3.8/site-packages/sklearn/decomposition/_pca.py:642: RuntimeWarning: invalid value encountered in divide\n",
      "  self.explained_variance_ratio_ = self.explained_variance_ / total_var\n"
     ]
    },
    {
     "name": "stdout",
     "output_type": "stream",
     "text": [
      "Starting Training\n",
      "epoch: 00, loss: -0.92578\n",
      "epoch: 01, loss: -0.95380\n",
      "epoch: 02, loss: -0.96092\n",
      "epoch: 03, loss: -0.96500\n",
      "epoch: 04, loss: -0.96780\n",
      "epoch: 05, loss: -0.96991\n",
      "epoch: 06, loss: -0.97157\n",
      "epoch: 07, loss: -0.97288\n",
      "epoch: 08, loss: -0.97401\n",
      "epoch: 09, loss: -0.97498\n",
      "torch.Size([1024, 64])\n"
     ]
    },
    {
     "name": "stderr",
     "output_type": "stream",
     "text": [
      " 50%|████▉     | 497/999 [10:05:39<10:23:26, 74.52s/it]"
     ]
    },
    {
     "name": "stdout",
     "output_type": "stream",
     "text": [
      "eigenvalues shape torch.Size([5]) eigenvectors shape torch.Size([5, 1024])\n",
      "497 /home/phdcs2/Hard_Disk/Datasets/Deep-Spectral-Segmentation/data/object-segmentation/ECSSD/features/0499_resized.pth\n",
      "dict_keys(['k', 'indices', 'file', 'id', 'model_name', 'patch_size', 'shape'])\n",
      "0499_resized\n"
     ]
    },
    {
     "name": "stderr",
     "output_type": "stream",
     "text": [
      "/home/phdcs2/Hard_Disk/Projects/T2I/deep-spectral-segmentation/venv/lib/python3.8/site-packages/sklearn/decomposition/_pca.py:642: RuntimeWarning: invalid value encountered in divide\n",
      "  self.explained_variance_ratio_ = self.explained_variance_ / total_var\n"
     ]
    },
    {
     "name": "stdout",
     "output_type": "stream",
     "text": [
      "Starting Training\n",
      "epoch: 00, loss: -0.92977\n",
      "epoch: 01, loss: -0.95684\n",
      "epoch: 02, loss: -0.96362\n",
      "epoch: 03, loss: -0.96753\n",
      "epoch: 04, loss: -0.97020\n",
      "epoch: 05, loss: -0.97218\n",
      "epoch: 06, loss: -0.97375\n",
      "epoch: 07, loss: -0.97502\n",
      "epoch: 08, loss: -0.97610\n",
      "epoch: 09, loss: -0.97701\n",
      "torch.Size([1024, 64])\n"
     ]
    },
    {
     "name": "stderr",
     "output_type": "stream",
     "text": [
      " 50%|████▉     | 498/999 [10:06:56<10:29:40, 75.41s/it]"
     ]
    },
    {
     "name": "stdout",
     "output_type": "stream",
     "text": [
      "eigenvalues shape torch.Size([5]) eigenvectors shape torch.Size([5, 1024])\n",
      "498 /home/phdcs2/Hard_Disk/Datasets/Deep-Spectral-Segmentation/data/object-segmentation/ECSSD/features/0500_resized.pth\n",
      "dict_keys(['k', 'indices', 'file', 'id', 'model_name', 'patch_size', 'shape'])\n",
      "0500_resized\n"
     ]
    },
    {
     "name": "stderr",
     "output_type": "stream",
     "text": [
      "/home/phdcs2/Hard_Disk/Projects/T2I/deep-spectral-segmentation/venv/lib/python3.8/site-packages/sklearn/decomposition/_pca.py:642: RuntimeWarning: invalid value encountered in divide\n",
      "  self.explained_variance_ratio_ = self.explained_variance_ / total_var\n"
     ]
    },
    {
     "name": "stdout",
     "output_type": "stream",
     "text": [
      "Starting Training\n",
      "epoch: 00, loss: -0.93583\n",
      "epoch: 01, loss: -0.96126\n",
      "epoch: 02, loss: -0.96713\n",
      "epoch: 03, loss: -0.97053\n",
      "epoch: 04, loss: -0.97286\n",
      "epoch: 05, loss: -0.97463\n",
      "epoch: 06, loss: -0.97601\n",
      "epoch: 07, loss: -0.97717\n",
      "epoch: 08, loss: -0.97811\n",
      "epoch: 09, loss: -0.97892\n",
      "torch.Size([1024, 64])\n"
     ]
    },
    {
     "name": "stderr",
     "output_type": "stream",
     "text": [
      " 50%|████▉     | 499/999 [10:08:14<10:35:16, 76.23s/it]"
     ]
    },
    {
     "name": "stdout",
     "output_type": "stream",
     "text": [
      "eigenvalues shape torch.Size([5]) eigenvectors shape torch.Size([5, 1024])\n",
      "499 /home/phdcs2/Hard_Disk/Datasets/Deep-Spectral-Segmentation/data/object-segmentation/ECSSD/features/0501_resized.pth\n",
      "dict_keys(['k', 'indices', 'file', 'id', 'model_name', 'patch_size', 'shape'])\n",
      "0501_resized\n",
      "Starting Training\n",
      "epoch: 00, loss: -0.88380\n",
      "epoch: 01, loss: -0.93243\n",
      "epoch: 02, loss: -0.94400\n",
      "epoch: 03, loss: -0.95057\n",
      "epoch: 04, loss: -0.95509\n",
      "epoch: 05, loss: -0.95833\n",
      "epoch: 06, loss: -0.96073\n",
      "epoch: 07, loss: -0.96265\n",
      "epoch: 08, loss: -0.96439\n",
      "epoch: 09, loss: -0.96582\n",
      "torch.Size([1024, 64])\n"
     ]
    },
    {
     "name": "stderr",
     "output_type": "stream",
     "text": [
      " 50%|█████     | 500/999 [10:09:24<10:16:59, 74.19s/it]"
     ]
    },
    {
     "name": "stdout",
     "output_type": "stream",
     "text": [
      "eigenvalues shape torch.Size([5]) eigenvectors shape torch.Size([5, 1024])\n",
      "500 /home/phdcs2/Hard_Disk/Datasets/Deep-Spectral-Segmentation/data/object-segmentation/ECSSD/features/0502_resized.pth\n",
      "dict_keys(['k', 'indices', 'file', 'id', 'model_name', 'patch_size', 'shape'])\n",
      "0502_resized\n",
      "Starting Training\n",
      "epoch: 00, loss: -0.86191\n",
      "epoch: 01, loss: -0.91864\n",
      "epoch: 02, loss: -0.93300\n",
      "epoch: 03, loss: -0.94092\n",
      "epoch: 04, loss: -0.94625\n",
      "epoch: 05, loss: -0.95007\n",
      "epoch: 06, loss: -0.95319\n",
      "epoch: 07, loss: -0.95558\n",
      "epoch: 08, loss: -0.95766\n",
      "epoch: 09, loss: -0.95944\n",
      "torch.Size([1024, 64])\n"
     ]
    },
    {
     "name": "stderr",
     "output_type": "stream",
     "text": [
      " 50%|█████     | 501/999 [10:10:31<9:59:17, 72.20s/it] "
     ]
    },
    {
     "name": "stdout",
     "output_type": "stream",
     "text": [
      "eigenvalues shape torch.Size([5]) eigenvectors shape torch.Size([5, 1024])\n",
      "501 /home/phdcs2/Hard_Disk/Datasets/Deep-Spectral-Segmentation/data/object-segmentation/ECSSD/features/0503_resized.pth\n",
      "dict_keys(['k', 'indices', 'file', 'id', 'model_name', 'patch_size', 'shape'])\n",
      "0503_resized\n",
      "Starting Training\n",
      "epoch: 00, loss: -0.86780\n",
      "epoch: 01, loss: -0.92176\n",
      "epoch: 02, loss: -0.93603\n",
      "epoch: 03, loss: -0.94371\n",
      "epoch: 04, loss: -0.94899\n",
      "epoch: 05, loss: -0.95277\n",
      "epoch: 06, loss: -0.95562\n",
      "epoch: 07, loss: -0.95803\n",
      "epoch: 08, loss: -0.96007\n",
      "epoch: 09, loss: -0.96174\n",
      "torch.Size([1024, 64])\n"
     ]
    },
    {
     "name": "stderr",
     "output_type": "stream",
     "text": [
      " 50%|█████     | 502/999 [10:11:46<10:04:49, 73.02s/it]"
     ]
    },
    {
     "name": "stdout",
     "output_type": "stream",
     "text": [
      "eigenvalues shape torch.Size([5]) eigenvectors shape torch.Size([5, 1024])\n",
      "502 /home/phdcs2/Hard_Disk/Datasets/Deep-Spectral-Segmentation/data/object-segmentation/ECSSD/features/0504_resized.pth\n",
      "dict_keys(['k', 'indices', 'file', 'id', 'model_name', 'patch_size', 'shape'])\n",
      "0504_resized\n"
     ]
    },
    {
     "name": "stderr",
     "output_type": "stream",
     "text": [
      "/home/phdcs2/Hard_Disk/Projects/T2I/deep-spectral-segmentation/venv/lib/python3.8/site-packages/sklearn/decomposition/_pca.py:642: RuntimeWarning: invalid value encountered in divide\n",
      "  self.explained_variance_ratio_ = self.explained_variance_ / total_var\n"
     ]
    },
    {
     "name": "stdout",
     "output_type": "stream",
     "text": [
      "Starting Training\n",
      "epoch: 00, loss: -0.91507\n",
      "epoch: 01, loss: -0.95043\n",
      "epoch: 02, loss: -0.95831\n",
      "epoch: 03, loss: -0.96294\n",
      "epoch: 04, loss: -0.96601\n",
      "epoch: 05, loss: -0.96832\n",
      "epoch: 06, loss: -0.97011\n",
      "epoch: 07, loss: -0.97157\n",
      "epoch: 08, loss: -0.97282\n",
      "epoch: 09, loss: -0.97385\n",
      "torch.Size([1024, 64])\n"
     ]
    },
    {
     "name": "stderr",
     "output_type": "stream",
     "text": [
      " 50%|█████     | 503/999 [10:13:00<10:05:12, 73.21s/it]"
     ]
    },
    {
     "name": "stdout",
     "output_type": "stream",
     "text": [
      "eigenvalues shape torch.Size([5]) eigenvectors shape torch.Size([5, 1024])\n",
      "503 /home/phdcs2/Hard_Disk/Datasets/Deep-Spectral-Segmentation/data/object-segmentation/ECSSD/features/0505_resized.pth\n",
      "dict_keys(['k', 'indices', 'file', 'id', 'model_name', 'patch_size', 'shape'])\n",
      "0505_resized\n"
     ]
    },
    {
     "name": "stderr",
     "output_type": "stream",
     "text": [
      "/home/phdcs2/Hard_Disk/Projects/T2I/deep-spectral-segmentation/venv/lib/python3.8/site-packages/sklearn/decomposition/_pca.py:642: RuntimeWarning: invalid value encountered in divide\n",
      "  self.explained_variance_ratio_ = self.explained_variance_ / total_var\n"
     ]
    },
    {
     "name": "stdout",
     "output_type": "stream",
     "text": [
      "Starting Training\n",
      "epoch: 00, loss: -0.92140\n",
      "epoch: 01, loss: -0.95246\n",
      "epoch: 02, loss: -0.96030\n",
      "epoch: 03, loss: -0.96475\n",
      "epoch: 04, loss: -0.96775\n",
      "epoch: 05, loss: -0.97000\n",
      "epoch: 06, loss: -0.97173\n",
      "epoch: 07, loss: -0.97315\n",
      "epoch: 08, loss: -0.97433\n",
      "epoch: 09, loss: -0.97533\n",
      "torch.Size([1024, 64])\n"
     ]
    },
    {
     "name": "stderr",
     "output_type": "stream",
     "text": [
      " 50%|█████     | 504/999 [10:14:17<10:12:50, 74.28s/it]"
     ]
    },
    {
     "name": "stdout",
     "output_type": "stream",
     "text": [
      "eigenvalues shape torch.Size([5]) eigenvectors shape torch.Size([5, 1024])\n",
      "504 /home/phdcs2/Hard_Disk/Datasets/Deep-Spectral-Segmentation/data/object-segmentation/ECSSD/features/0506_resized.pth\n",
      "dict_keys(['k', 'indices', 'file', 'id', 'model_name', 'patch_size', 'shape'])\n",
      "0506_resized\n",
      "Starting Training\n",
      "epoch: 00, loss: -0.92772\n",
      "epoch: 01, loss: -0.95599\n",
      "epoch: 02, loss: -0.96288\n",
      "epoch: 03, loss: -0.96683\n",
      "epoch: 04, loss: -0.96954\n",
      "epoch: 05, loss: -0.97157\n",
      "epoch: 06, loss: -0.97316\n",
      "epoch: 07, loss: -0.97446\n",
      "epoch: 08, loss: -0.97554\n",
      "epoch: 09, loss: -0.97648\n",
      "torch.Size([1024, 64])\n"
     ]
    },
    {
     "name": "stderr",
     "output_type": "stream",
     "text": [
      " 51%|█████     | 505/999 [10:15:34<10:18:23, 75.11s/it]"
     ]
    },
    {
     "name": "stdout",
     "output_type": "stream",
     "text": [
      "eigenvalues shape torch.Size([5]) eigenvectors shape torch.Size([5, 1024])\n",
      "505 /home/phdcs2/Hard_Disk/Datasets/Deep-Spectral-Segmentation/data/object-segmentation/ECSSD/features/0507_resized.pth\n",
      "dict_keys(['k', 'indices', 'file', 'id', 'model_name', 'patch_size', 'shape'])\n",
      "0507_resized\n",
      "Starting Training\n",
      "epoch: 00, loss: -0.91466\n",
      "epoch: 01, loss: -0.94854\n",
      "epoch: 02, loss: -0.95655\n",
      "epoch: 03, loss: -0.96115\n",
      "epoch: 04, loss: -0.96429\n",
      "epoch: 05, loss: -0.96664\n",
      "epoch: 06, loss: -0.96848\n",
      "epoch: 07, loss: -0.96994\n",
      "epoch: 08, loss: -0.97121\n",
      "epoch: 09, loss: -0.97228\n",
      "torch.Size([1024, 64])\n"
     ]
    },
    {
     "name": "stderr",
     "output_type": "stream",
     "text": [
      " 51%|█████     | 506/999 [10:16:50<10:20:40, 75.54s/it]"
     ]
    },
    {
     "name": "stdout",
     "output_type": "stream",
     "text": [
      "eigenvalues shape torch.Size([5]) eigenvectors shape torch.Size([5, 1024])\n",
      "506 /home/phdcs2/Hard_Disk/Datasets/Deep-Spectral-Segmentation/data/object-segmentation/ECSSD/features/0508_resized.pth\n",
      "dict_keys(['k', 'indices', 'file', 'id', 'model_name', 'patch_size', 'shape'])\n",
      "0508_resized\n",
      "Starting Training\n",
      "epoch: 00, loss: -0.85264\n",
      "epoch: 01, loss: -0.91442\n",
      "epoch: 02, loss: -0.92984\n",
      "epoch: 03, loss: -0.93839\n",
      "epoch: 04, loss: -0.94391\n",
      "epoch: 05, loss: -0.94809\n",
      "epoch: 06, loss: -0.95136\n",
      "epoch: 07, loss: -0.95411\n",
      "epoch: 08, loss: -0.95625\n",
      "epoch: 09, loss: -0.95808\n",
      "torch.Size([1024, 64])\n"
     ]
    },
    {
     "name": "stderr",
     "output_type": "stream",
     "text": [
      " 51%|█████     | 507/999 [10:18:07<10:21:06, 75.74s/it]"
     ]
    },
    {
     "name": "stdout",
     "output_type": "stream",
     "text": [
      "eigenvalues shape torch.Size([5]) eigenvectors shape torch.Size([5, 1024])\n",
      "507 /home/phdcs2/Hard_Disk/Datasets/Deep-Spectral-Segmentation/data/object-segmentation/ECSSD/features/0509_resized.pth\n",
      "dict_keys(['k', 'indices', 'file', 'id', 'model_name', 'patch_size', 'shape'])\n",
      "0509_resized\n",
      "Starting Training\n",
      "epoch: 00, loss: -0.88714\n",
      "epoch: 01, loss: -0.93224\n",
      "epoch: 02, loss: -0.94323\n",
      "epoch: 03, loss: -0.94936\n",
      "epoch: 04, loss: -0.95370\n",
      "epoch: 05, loss: -0.95677\n",
      "epoch: 06, loss: -0.95930\n",
      "epoch: 07, loss: -0.96122\n",
      "epoch: 08, loss: -0.96284\n",
      "epoch: 09, loss: -0.96430\n",
      "torch.Size([1024, 64])\n"
     ]
    },
    {
     "name": "stderr",
     "output_type": "stream",
     "text": [
      " 51%|█████     | 508/999 [10:19:29<10:35:20, 77.64s/it]"
     ]
    },
    {
     "name": "stdout",
     "output_type": "stream",
     "text": [
      "eigenvalues shape torch.Size([5]) eigenvectors shape torch.Size([5, 1024])\n",
      "508 /home/phdcs2/Hard_Disk/Datasets/Deep-Spectral-Segmentation/data/object-segmentation/ECSSD/features/0510_resized.pth\n",
      "dict_keys(['k', 'indices', 'file', 'id', 'model_name', 'patch_size', 'shape'])\n",
      "0510_resized\n",
      "Starting Training\n",
      "epoch: 00, loss: -0.89547\n",
      "epoch: 01, loss: -0.93794\n",
      "epoch: 02, loss: -0.94860\n",
      "epoch: 03, loss: -0.95467\n",
      "epoch: 04, loss: -0.95861\n",
      "epoch: 05, loss: -0.96166\n",
      "epoch: 06, loss: -0.96401\n",
      "epoch: 07, loss: -0.96589\n",
      "epoch: 08, loss: -0.96738\n",
      "epoch: 09, loss: -0.96882\n",
      "torch.Size([1024, 64])\n"
     ]
    },
    {
     "name": "stderr",
     "output_type": "stream",
     "text": [
      " 51%|█████     | 509/999 [10:20:42<10:24:00, 76.41s/it]"
     ]
    },
    {
     "name": "stdout",
     "output_type": "stream",
     "text": [
      "eigenvalues shape torch.Size([5]) eigenvectors shape torch.Size([5, 1024])\n",
      "509 /home/phdcs2/Hard_Disk/Datasets/Deep-Spectral-Segmentation/data/object-segmentation/ECSSD/features/0511_resized.pth\n",
      "dict_keys(['k', 'indices', 'file', 'id', 'model_name', 'patch_size', 'shape'])\n",
      "0511_resized\n",
      "Starting Training\n",
      "epoch: 00, loss: -0.86180\n",
      "epoch: 01, loss: -0.91753\n",
      "epoch: 02, loss: -0.93230\n",
      "epoch: 03, loss: -0.94031\n",
      "epoch: 04, loss: -0.94574\n",
      "epoch: 05, loss: -0.94966\n",
      "epoch: 06, loss: -0.95272\n",
      "epoch: 07, loss: -0.95530\n",
      "epoch: 08, loss: -0.95727\n",
      "epoch: 09, loss: -0.95899\n",
      "torch.Size([1024, 64])\n"
     ]
    },
    {
     "name": "stderr",
     "output_type": "stream",
     "text": [
      " 51%|█████     | 510/999 [10:21:53<10:09:10, 74.75s/it]"
     ]
    },
    {
     "name": "stdout",
     "output_type": "stream",
     "text": [
      "eigenvalues shape torch.Size([5]) eigenvectors shape torch.Size([5, 1024])\n",
      "510 /home/phdcs2/Hard_Disk/Datasets/Deep-Spectral-Segmentation/data/object-segmentation/ECSSD/features/0512_resized.pth\n",
      "dict_keys(['k', 'indices', 'file', 'id', 'model_name', 'patch_size', 'shape'])\n",
      "0512_resized\n",
      "Starting Training\n",
      "epoch: 00, loss: -0.88515\n",
      "epoch: 01, loss: -0.93455\n",
      "epoch: 02, loss: -0.94611\n",
      "epoch: 03, loss: -0.95255\n",
      "epoch: 04, loss: -0.95695\n",
      "epoch: 05, loss: -0.96016\n",
      "epoch: 06, loss: -0.96259\n",
      "epoch: 07, loss: -0.96444\n",
      "epoch: 08, loss: -0.96606\n",
      "epoch: 09, loss: -0.96753\n",
      "torch.Size([1024, 64])\n"
     ]
    },
    {
     "name": "stderr",
     "output_type": "stream",
     "text": [
      " 51%|█████     | 511/999 [10:23:05<10:02:20, 74.06s/it]"
     ]
    },
    {
     "name": "stdout",
     "output_type": "stream",
     "text": [
      "eigenvalues shape torch.Size([5]) eigenvectors shape torch.Size([5, 1024])\n",
      "511 /home/phdcs2/Hard_Disk/Datasets/Deep-Spectral-Segmentation/data/object-segmentation/ECSSD/features/0513_resized.pth\n",
      "dict_keys(['k', 'indices', 'file', 'id', 'model_name', 'patch_size', 'shape'])\n",
      "0513_resized\n",
      "Starting Training\n",
      "epoch: 00, loss: -0.87375\n",
      "epoch: 01, loss: -0.92709\n",
      "epoch: 02, loss: -0.93974\n",
      "epoch: 03, loss: -0.94694\n",
      "epoch: 04, loss: -0.95166\n",
      "epoch: 05, loss: -0.95521\n",
      "epoch: 06, loss: -0.95793\n",
      "epoch: 07, loss: -0.96007\n",
      "epoch: 08, loss: -0.96191\n",
      "epoch: 09, loss: -0.96347\n",
      "torch.Size([1024, 64])\n"
     ]
    },
    {
     "name": "stderr",
     "output_type": "stream",
     "text": [
      " 51%|█████▏    | 512/999 [10:24:16<9:51:39, 72.89s/it] "
     ]
    },
    {
     "name": "stdout",
     "output_type": "stream",
     "text": [
      "eigenvalues shape torch.Size([5]) eigenvectors shape torch.Size([5, 1024])\n",
      "512 /home/phdcs2/Hard_Disk/Datasets/Deep-Spectral-Segmentation/data/object-segmentation/ECSSD/features/0514_resized.pth\n",
      "dict_keys(['k', 'indices', 'file', 'id', 'model_name', 'patch_size', 'shape'])\n",
      "0514_resized\n",
      "Starting Training\n",
      "epoch: 00, loss: -0.85682\n",
      "epoch: 01, loss: -0.91387\n",
      "epoch: 02, loss: -0.92874\n",
      "epoch: 03, loss: -0.93758\n",
      "epoch: 04, loss: -0.94340\n",
      "epoch: 05, loss: -0.94755\n",
      "epoch: 06, loss: -0.95087\n",
      "epoch: 07, loss: -0.95347\n",
      "epoch: 08, loss: -0.95574\n",
      "epoch: 09, loss: -0.95758\n",
      "torch.Size([1024, 64])\n"
     ]
    },
    {
     "name": "stderr",
     "output_type": "stream",
     "text": [
      " 51%|█████▏    | 513/999 [10:25:28<9:49:52, 72.82s/it]"
     ]
    },
    {
     "name": "stdout",
     "output_type": "stream",
     "text": [
      "eigenvalues shape torch.Size([5]) eigenvectors shape torch.Size([5, 1024])\n",
      "513 /home/phdcs2/Hard_Disk/Datasets/Deep-Spectral-Segmentation/data/object-segmentation/ECSSD/features/0515_resized.pth\n",
      "dict_keys(['k', 'indices', 'file', 'id', 'model_name', 'patch_size', 'shape'])\n",
      "0515_resized\n",
      "Starting Training\n",
      "epoch: 00, loss: -0.88291\n",
      "epoch: 01, loss: -0.93265\n",
      "epoch: 02, loss: -0.94430\n",
      "epoch: 03, loss: -0.95080\n",
      "epoch: 04, loss: -0.95526\n",
      "epoch: 05, loss: -0.95855\n",
      "epoch: 06, loss: -0.96100\n",
      "epoch: 07, loss: -0.96314\n",
      "epoch: 08, loss: -0.96486\n",
      "epoch: 09, loss: -0.96635\n",
      "torch.Size([1024, 64])\n"
     ]
    },
    {
     "name": "stderr",
     "output_type": "stream",
     "text": [
      " 51%|█████▏    | 514/999 [10:26:41<9:48:00, 72.74s/it]"
     ]
    },
    {
     "name": "stdout",
     "output_type": "stream",
     "text": [
      "eigenvalues shape torch.Size([5]) eigenvectors shape torch.Size([5, 1024])\n",
      "514 /home/phdcs2/Hard_Disk/Datasets/Deep-Spectral-Segmentation/data/object-segmentation/ECSSD/features/0516_resized.pth\n",
      "dict_keys(['k', 'indices', 'file', 'id', 'model_name', 'patch_size', 'shape'])\n",
      "0516_resized\n",
      "Starting Training\n",
      "epoch: 00, loss: -0.91904\n",
      "epoch: 01, loss: -0.95321\n",
      "epoch: 02, loss: -0.96086\n",
      "epoch: 03, loss: -0.96519\n",
      "epoch: 04, loss: -0.96813\n",
      "epoch: 05, loss: -0.97030\n",
      "epoch: 06, loss: -0.97201\n",
      "epoch: 07, loss: -0.97338\n",
      "epoch: 08, loss: -0.97452\n",
      "epoch: 09, loss: -0.97551\n",
      "torch.Size([1024, 64])\n"
     ]
    },
    {
     "name": "stderr",
     "output_type": "stream",
     "text": [
      " 52%|█████▏    | 515/999 [10:27:52<9:42:33, 72.22s/it]"
     ]
    },
    {
     "name": "stdout",
     "output_type": "stream",
     "text": [
      "eigenvalues shape torch.Size([5]) eigenvectors shape torch.Size([5, 1024])\n",
      "515 /home/phdcs2/Hard_Disk/Datasets/Deep-Spectral-Segmentation/data/object-segmentation/ECSSD/features/0517_resized.pth\n",
      "dict_keys(['k', 'indices', 'file', 'id', 'model_name', 'patch_size', 'shape'])\n",
      "0517_resized\n",
      "Starting Training\n",
      "epoch: 00, loss: -0.85791\n",
      "epoch: 01, loss: -0.91444\n",
      "epoch: 02, loss: -0.93018\n",
      "epoch: 03, loss: -0.93895\n",
      "epoch: 04, loss: -0.94500\n",
      "epoch: 05, loss: -0.94927\n",
      "epoch: 06, loss: -0.95262\n",
      "epoch: 07, loss: -0.95521\n",
      "epoch: 08, loss: -0.95751\n",
      "epoch: 09, loss: -0.95940\n",
      "torch.Size([1024, 64])\n"
     ]
    },
    {
     "name": "stderr",
     "output_type": "stream",
     "text": [
      " 52%|█████▏    | 516/999 [10:28:58<9:27:14, 70.47s/it]"
     ]
    },
    {
     "name": "stdout",
     "output_type": "stream",
     "text": [
      "eigenvalues shape torch.Size([5]) eigenvectors shape torch.Size([5, 1024])\n",
      "516 /home/phdcs2/Hard_Disk/Datasets/Deep-Spectral-Segmentation/data/object-segmentation/ECSSD/features/0518_resized.pth\n",
      "dict_keys(['k', 'indices', 'file', 'id', 'model_name', 'patch_size', 'shape'])\n",
      "0518_resized\n",
      "Starting Training\n",
      "epoch: 00, loss: -0.91700\n",
      "epoch: 01, loss: -0.95071\n",
      "epoch: 02, loss: -0.95853\n",
      "epoch: 03, loss: -0.96307\n",
      "epoch: 04, loss: -0.96618\n",
      "epoch: 05, loss: -0.96846\n",
      "epoch: 06, loss: -0.97027\n",
      "epoch: 07, loss: -0.97175\n",
      "epoch: 08, loss: -0.97297\n",
      "epoch: 09, loss: -0.97401\n",
      "torch.Size([1024, 64])\n"
     ]
    },
    {
     "name": "stderr",
     "output_type": "stream",
     "text": [
      " 52%|█████▏    | 517/999 [10:30:02<9:10:29, 68.53s/it]"
     ]
    },
    {
     "name": "stdout",
     "output_type": "stream",
     "text": [
      "eigenvalues shape torch.Size([5]) eigenvectors shape torch.Size([5, 1024])\n",
      "517 /home/phdcs2/Hard_Disk/Datasets/Deep-Spectral-Segmentation/data/object-segmentation/ECSSD/features/0519_resized.pth\n",
      "dict_keys(['k', 'indices', 'file', 'id', 'model_name', 'patch_size', 'shape'])\n",
      "0519_resized\n",
      "Starting Training\n",
      "epoch: 00, loss: -0.88196\n",
      "epoch: 01, loss: -0.92824\n",
      "epoch: 02, loss: -0.94036\n",
      "epoch: 03, loss: -0.94743\n",
      "epoch: 04, loss: -0.95212\n",
      "epoch: 05, loss: -0.95556\n",
      "epoch: 06, loss: -0.95835\n",
      "epoch: 07, loss: -0.96047\n",
      "epoch: 08, loss: -0.96230\n",
      "epoch: 09, loss: -0.96380\n",
      "torch.Size([1024, 64])\n"
     ]
    },
    {
     "name": "stderr",
     "output_type": "stream",
     "text": [
      " 52%|█████▏    | 518/999 [10:31:16<9:22:47, 70.20s/it]"
     ]
    },
    {
     "name": "stdout",
     "output_type": "stream",
     "text": [
      "eigenvalues shape torch.Size([5]) eigenvectors shape torch.Size([5, 1024])\n",
      "518 /home/phdcs2/Hard_Disk/Datasets/Deep-Spectral-Segmentation/data/object-segmentation/ECSSD/features/0520_resized.pth\n",
      "dict_keys(['k', 'indices', 'file', 'id', 'model_name', 'patch_size', 'shape'])\n",
      "0520_resized\n",
      "Starting Training\n",
      "epoch: 00, loss: -0.86645\n",
      "epoch: 01, loss: -0.92100\n",
      "epoch: 02, loss: -0.93498\n",
      "epoch: 03, loss: -0.94301\n",
      "epoch: 04, loss: -0.94838\n",
      "epoch: 05, loss: -0.95233\n",
      "epoch: 06, loss: -0.95530\n",
      "epoch: 07, loss: -0.95763\n",
      "epoch: 08, loss: -0.95968\n",
      "epoch: 09, loss: -0.96134\n",
      "torch.Size([1024, 64])\n"
     ]
    },
    {
     "name": "stderr",
     "output_type": "stream",
     "text": [
      " 52%|█████▏    | 519/999 [10:32:13<8:49:15, 66.16s/it]"
     ]
    },
    {
     "name": "stdout",
     "output_type": "stream",
     "text": [
      "eigenvalues shape torch.Size([5]) eigenvectors shape torch.Size([5, 1024])\n",
      "519 /home/phdcs2/Hard_Disk/Datasets/Deep-Spectral-Segmentation/data/object-segmentation/ECSSD/features/0521_resized.pth\n",
      "dict_keys(['k', 'indices', 'file', 'id', 'model_name', 'patch_size', 'shape'])\n",
      "0521_resized\n",
      "Starting Training\n",
      "epoch: 00, loss: -0.87753\n",
      "epoch: 01, loss: -0.92728\n",
      "epoch: 02, loss: -0.94023\n",
      "epoch: 03, loss: -0.94768\n",
      "epoch: 04, loss: -0.95231\n",
      "epoch: 05, loss: -0.95584\n",
      "epoch: 06, loss: -0.95866\n",
      "epoch: 07, loss: -0.96082\n",
      "epoch: 08, loss: -0.96274\n",
      "epoch: 09, loss: -0.96430\n",
      "torch.Size([1024, 64])\n"
     ]
    },
    {
     "name": "stderr",
     "output_type": "stream",
     "text": [
      " 52%|█████▏    | 520/999 [10:33:30<9:13:45, 69.37s/it]"
     ]
    },
    {
     "name": "stdout",
     "output_type": "stream",
     "text": [
      "eigenvalues shape torch.Size([5]) eigenvectors shape torch.Size([5, 1024])\n",
      "520 /home/phdcs2/Hard_Disk/Datasets/Deep-Spectral-Segmentation/data/object-segmentation/ECSSD/features/0522_resized.pth\n",
      "dict_keys(['k', 'indices', 'file', 'id', 'model_name', 'patch_size', 'shape'])\n",
      "0522_resized\n",
      "Starting Training\n",
      "epoch: 00, loss: -0.91613\n",
      "epoch: 01, loss: -0.94750\n",
      "epoch: 02, loss: -0.95570\n",
      "epoch: 03, loss: -0.96044\n",
      "epoch: 04, loss: -0.96370\n",
      "epoch: 05, loss: -0.96610\n",
      "epoch: 06, loss: -0.96804\n",
      "epoch: 07, loss: -0.96957\n",
      "epoch: 08, loss: -0.97088\n",
      "epoch: 09, loss: -0.97202\n",
      "torch.Size([1024, 64])\n"
     ]
    },
    {
     "name": "stderr",
     "output_type": "stream",
     "text": [
      " 52%|█████▏    | 521/999 [10:34:48<9:33:01, 71.93s/it]"
     ]
    },
    {
     "name": "stdout",
     "output_type": "stream",
     "text": [
      "eigenvalues shape torch.Size([5]) eigenvectors shape torch.Size([5, 1024])\n",
      "521 /home/phdcs2/Hard_Disk/Datasets/Deep-Spectral-Segmentation/data/object-segmentation/ECSSD/features/0523_resized.pth\n",
      "dict_keys(['k', 'indices', 'file', 'id', 'model_name', 'patch_size', 'shape'])\n",
      "0523_resized\n",
      "Starting Training\n",
      "epoch: 00, loss: -0.86823\n",
      "epoch: 01, loss: -0.92652\n",
      "epoch: 02, loss: -0.93996\n",
      "epoch: 03, loss: -0.94750\n",
      "epoch: 04, loss: -0.95257\n",
      "epoch: 05, loss: -0.95620\n",
      "epoch: 06, loss: -0.95896\n",
      "epoch: 07, loss: -0.96118\n",
      "epoch: 08, loss: -0.96297\n",
      "epoch: 09, loss: -0.96455\n",
      "torch.Size([1024, 64])\n"
     ]
    },
    {
     "name": "stderr",
     "output_type": "stream",
     "text": [
      " 52%|█████▏    | 522/999 [10:36:01<9:35:46, 72.43s/it]"
     ]
    },
    {
     "name": "stdout",
     "output_type": "stream",
     "text": [
      "eigenvalues shape torch.Size([5]) eigenvectors shape torch.Size([5, 1024])\n",
      "522 /home/phdcs2/Hard_Disk/Datasets/Deep-Spectral-Segmentation/data/object-segmentation/ECSSD/features/0524_resized.pth\n",
      "dict_keys(['k', 'indices', 'file', 'id', 'model_name', 'patch_size', 'shape'])\n",
      "0524_resized\n",
      "Starting Training\n",
      "epoch: 00, loss: -0.86073\n",
      "epoch: 01, loss: -0.91928\n",
      "epoch: 02, loss: -0.93376\n",
      "epoch: 03, loss: -0.94194\n",
      "epoch: 04, loss: -0.94740\n",
      "epoch: 05, loss: -0.95140\n",
      "epoch: 06, loss: -0.95446\n",
      "epoch: 07, loss: -0.95707\n",
      "epoch: 08, loss: -0.95908\n",
      "epoch: 09, loss: -0.96085\n",
      "torch.Size([1024, 64])\n"
     ]
    },
    {
     "name": "stderr",
     "output_type": "stream",
     "text": [
      " 52%|█████▏    | 523/999 [10:37:15<9:37:22, 72.78s/it]"
     ]
    },
    {
     "name": "stdout",
     "output_type": "stream",
     "text": [
      "eigenvalues shape torch.Size([5]) eigenvectors shape torch.Size([5, 1024])\n",
      "523 /home/phdcs2/Hard_Disk/Datasets/Deep-Spectral-Segmentation/data/object-segmentation/ECSSD/features/0525_resized.pth\n",
      "dict_keys(['k', 'indices', 'file', 'id', 'model_name', 'patch_size', 'shape'])\n",
      "0525_resized\n",
      "Starting Training\n",
      "epoch: 00, loss: -0.86193\n",
      "epoch: 01, loss: -0.91751\n",
      "epoch: 02, loss: -0.93182\n",
      "epoch: 03, loss: -0.94008\n",
      "epoch: 04, loss: -0.94576\n",
      "epoch: 05, loss: -0.94981\n",
      "epoch: 06, loss: -0.95303\n",
      "epoch: 07, loss: -0.95549\n",
      "epoch: 08, loss: -0.95751\n",
      "epoch: 09, loss: -0.95929\n",
      "torch.Size([1024, 64])\n"
     ]
    },
    {
     "name": "stderr",
     "output_type": "stream",
     "text": [
      " 52%|█████▏    | 524/999 [10:38:27<9:34:21, 72.55s/it]"
     ]
    },
    {
     "name": "stdout",
     "output_type": "stream",
     "text": [
      "eigenvalues shape torch.Size([5]) eigenvectors shape torch.Size([5, 1024])\n",
      "524 /home/phdcs2/Hard_Disk/Datasets/Deep-Spectral-Segmentation/data/object-segmentation/ECSSD/features/0526_resized.pth\n",
      "dict_keys(['k', 'indices', 'file', 'id', 'model_name', 'patch_size', 'shape'])\n",
      "0526_resized\n",
      "Starting Training\n",
      "epoch: 00, loss: -0.83360\n",
      "epoch: 01, loss: -0.90013\n",
      "epoch: 02, loss: -0.91722\n",
      "epoch: 03, loss: -0.92703\n",
      "epoch: 04, loss: -0.93349\n",
      "epoch: 05, loss: -0.93813\n",
      "epoch: 06, loss: -0.94189\n",
      "epoch: 07, loss: -0.94484\n",
      "epoch: 08, loss: -0.94718\n",
      "epoch: 09, loss: -0.94924\n",
      "torch.Size([1024, 64])\n"
     ]
    },
    {
     "name": "stderr",
     "output_type": "stream",
     "text": [
      " 53%|█████▎    | 525/999 [10:39:32<9:16:04, 70.39s/it]"
     ]
    },
    {
     "name": "stdout",
     "output_type": "stream",
     "text": [
      "eigenvalues shape torch.Size([5]) eigenvectors shape torch.Size([5, 1024])\n",
      "525 /home/phdcs2/Hard_Disk/Datasets/Deep-Spectral-Segmentation/data/object-segmentation/ECSSD/features/0527_resized.pth\n",
      "dict_keys(['k', 'indices', 'file', 'id', 'model_name', 'patch_size', 'shape'])\n",
      "0527_resized\n"
     ]
    },
    {
     "name": "stderr",
     "output_type": "stream",
     "text": [
      "/home/phdcs2/Hard_Disk/Projects/T2I/deep-spectral-segmentation/venv/lib/python3.8/site-packages/sklearn/decomposition/_pca.py:642: RuntimeWarning: invalid value encountered in divide\n",
      "  self.explained_variance_ratio_ = self.explained_variance_ / total_var\n"
     ]
    },
    {
     "name": "stdout",
     "output_type": "stream",
     "text": [
      "Starting Training\n",
      "epoch: 00, loss: -0.89918\n",
      "epoch: 01, loss: -0.93879\n",
      "epoch: 02, loss: -0.94848\n",
      "epoch: 03, loss: -0.95420\n",
      "epoch: 04, loss: -0.95807\n",
      "epoch: 05, loss: -0.96096\n",
      "epoch: 06, loss: -0.96322\n",
      "epoch: 07, loss: -0.96503\n",
      "epoch: 08, loss: -0.96661\n",
      "epoch: 09, loss: -0.96792\n",
      "torch.Size([1024, 64])\n"
     ]
    },
    {
     "name": "stderr",
     "output_type": "stream",
     "text": [
      " 53%|█████▎    | 526/999 [10:40:45<9:20:26, 71.09s/it]"
     ]
    },
    {
     "name": "stdout",
     "output_type": "stream",
     "text": [
      "eigenvalues shape torch.Size([5]) eigenvectors shape torch.Size([5, 1024])\n",
      "526 /home/phdcs2/Hard_Disk/Datasets/Deep-Spectral-Segmentation/data/object-segmentation/ECSSD/features/0528_resized.pth\n",
      "dict_keys(['k', 'indices', 'file', 'id', 'model_name', 'patch_size', 'shape'])\n",
      "0528_resized\n",
      "Starting Training\n",
      "epoch: 00, loss: -0.88296\n",
      "epoch: 01, loss: -0.93196\n",
      "epoch: 02, loss: -0.94367\n",
      "epoch: 03, loss: -0.95025\n",
      "epoch: 04, loss: -0.95442\n",
      "epoch: 05, loss: -0.95773\n",
      "epoch: 06, loss: -0.96021\n",
      "epoch: 07, loss: -0.96223\n",
      "epoch: 08, loss: -0.96399\n",
      "epoch: 09, loss: -0.96538\n",
      "torch.Size([1024, 64])\n"
     ]
    },
    {
     "name": "stderr",
     "output_type": "stream",
     "text": [
      " 53%|█████▎    | 527/999 [10:41:57<9:21:25, 71.37s/it]"
     ]
    },
    {
     "name": "stdout",
     "output_type": "stream",
     "text": [
      "eigenvalues shape torch.Size([5]) eigenvectors shape torch.Size([5, 1024])\n",
      "527 /home/phdcs2/Hard_Disk/Datasets/Deep-Spectral-Segmentation/data/object-segmentation/ECSSD/features/0529_resized.pth\n",
      "dict_keys(['k', 'indices', 'file', 'id', 'model_name', 'patch_size', 'shape'])\n",
      "0529_resized\n",
      "Starting Training\n",
      "epoch: 00, loss: -0.83842\n",
      "epoch: 01, loss: -0.90358\n",
      "epoch: 02, loss: -0.92026\n",
      "epoch: 03, loss: -0.93013\n",
      "epoch: 04, loss: -0.93613\n",
      "epoch: 05, loss: -0.94060\n",
      "epoch: 06, loss: -0.94415\n",
      "epoch: 07, loss: -0.94709\n",
      "epoch: 08, loss: -0.94934\n",
      "epoch: 09, loss: -0.95135\n",
      "torch.Size([1024, 64])\n"
     ]
    },
    {
     "name": "stderr",
     "output_type": "stream",
     "text": [
      " 53%|█████▎    | 528/999 [10:43:02<9:04:23, 69.35s/it]"
     ]
    },
    {
     "name": "stdout",
     "output_type": "stream",
     "text": [
      "eigenvalues shape torch.Size([5]) eigenvectors shape torch.Size([5, 1024])\n",
      "528 /home/phdcs2/Hard_Disk/Datasets/Deep-Spectral-Segmentation/data/object-segmentation/ECSSD/features/0530_resized.pth\n",
      "dict_keys(['k', 'indices', 'file', 'id', 'model_name', 'patch_size', 'shape'])\n",
      "0530_resized\n",
      "Starting Training\n",
      "epoch: 00, loss: -0.88435\n",
      "epoch: 01, loss: -0.92997\n",
      "epoch: 02, loss: -0.94212\n",
      "epoch: 03, loss: -0.94902\n",
      "epoch: 04, loss: -0.95367\n",
      "epoch: 05, loss: -0.95699\n",
      "epoch: 06, loss: -0.95969\n",
      "epoch: 07, loss: -0.96185\n",
      "epoch: 08, loss: -0.96367\n",
      "epoch: 09, loss: -0.96516\n",
      "torch.Size([1024, 64])\n"
     ]
    },
    {
     "name": "stderr",
     "output_type": "stream",
     "text": [
      " 53%|█████▎    | 529/999 [10:44:16<9:14:23, 70.77s/it]"
     ]
    },
    {
     "name": "stdout",
     "output_type": "stream",
     "text": [
      "eigenvalues shape torch.Size([5]) eigenvectors shape torch.Size([5, 1024])\n",
      "529 /home/phdcs2/Hard_Disk/Datasets/Deep-Spectral-Segmentation/data/object-segmentation/ECSSD/features/0531_resized.pth\n",
      "dict_keys(['k', 'indices', 'file', 'id', 'model_name', 'patch_size', 'shape'])\n",
      "0531_resized\n",
      "Starting Training\n",
      "epoch: 00, loss: -0.86402\n",
      "epoch: 01, loss: -0.92033\n",
      "epoch: 02, loss: -0.93467\n",
      "epoch: 03, loss: -0.94267\n",
      "epoch: 04, loss: -0.94802\n",
      "epoch: 05, loss: -0.95202\n",
      "epoch: 06, loss: -0.95498\n",
      "epoch: 07, loss: -0.95727\n",
      "epoch: 08, loss: -0.95934\n",
      "epoch: 09, loss: -0.96100\n",
      "torch.Size([1024, 64])\n"
     ]
    },
    {
     "name": "stderr",
     "output_type": "stream",
     "text": [
      " 53%|█████▎    | 530/999 [10:45:30<9:21:12, 71.80s/it]"
     ]
    },
    {
     "name": "stdout",
     "output_type": "stream",
     "text": [
      "eigenvalues shape torch.Size([5]) eigenvectors shape torch.Size([5, 1024])\n",
      "530 /home/phdcs2/Hard_Disk/Datasets/Deep-Spectral-Segmentation/data/object-segmentation/ECSSD/features/0532_resized.pth\n",
      "dict_keys(['k', 'indices', 'file', 'id', 'model_name', 'patch_size', 'shape'])\n",
      "0532_resized\n"
     ]
    },
    {
     "name": "stderr",
     "output_type": "stream",
     "text": [
      "/home/phdcs2/Hard_Disk/Projects/T2I/deep-spectral-segmentation/venv/lib/python3.8/site-packages/sklearn/decomposition/_pca.py:642: RuntimeWarning: invalid value encountered in divide\n",
      "  self.explained_variance_ratio_ = self.explained_variance_ / total_var\n"
     ]
    },
    {
     "name": "stdout",
     "output_type": "stream",
     "text": [
      "Starting Training\n",
      "epoch: 00, loss: -0.91621\n",
      "epoch: 01, loss: -0.95042\n",
      "epoch: 02, loss: -0.95841\n",
      "epoch: 03, loss: -0.96300\n",
      "epoch: 04, loss: -0.96617\n",
      "epoch: 05, loss: -0.96850\n",
      "epoch: 06, loss: -0.97033\n",
      "epoch: 07, loss: -0.97180\n",
      "epoch: 08, loss: -0.97303\n",
      "epoch: 09, loss: -0.97409\n",
      "torch.Size([1024, 64])\n"
     ]
    },
    {
     "name": "stderr",
     "output_type": "stream",
     "text": [
      " 53%|█████▎    | 531/999 [10:46:39<9:13:24, 70.95s/it]"
     ]
    },
    {
     "name": "stdout",
     "output_type": "stream",
     "text": [
      "eigenvalues shape torch.Size([5]) eigenvectors shape torch.Size([5, 1024])\n",
      "531 /home/phdcs2/Hard_Disk/Datasets/Deep-Spectral-Segmentation/data/object-segmentation/ECSSD/features/0533_resized.pth\n",
      "dict_keys(['k', 'indices', 'file', 'id', 'model_name', 'patch_size', 'shape'])\n",
      "0533_resized\n"
     ]
    },
    {
     "name": "stderr",
     "output_type": "stream",
     "text": [
      "/home/phdcs2/Hard_Disk/Projects/T2I/deep-spectral-segmentation/venv/lib/python3.8/site-packages/sklearn/decomposition/_pca.py:642: RuntimeWarning: invalid value encountered in divide\n",
      "  self.explained_variance_ratio_ = self.explained_variance_ / total_var\n"
     ]
    },
    {
     "name": "stdout",
     "output_type": "stream",
     "text": [
      "Starting Training\n",
      "epoch: 00, loss: -0.92497\n",
      "epoch: 01, loss: -0.95503\n",
      "epoch: 02, loss: -0.96236\n",
      "epoch: 03, loss: -0.96659\n",
      "epoch: 04, loss: -0.96949\n",
      "epoch: 05, loss: -0.97168\n",
      "epoch: 06, loss: -0.97337\n",
      "epoch: 07, loss: -0.97474\n",
      "epoch: 08, loss: -0.97590\n",
      "epoch: 09, loss: -0.97687\n",
      "torch.Size([1024, 64])\n"
     ]
    },
    {
     "name": "stderr",
     "output_type": "stream",
     "text": [
      " 53%|█████▎    | 532/999 [10:47:47<9:05:58, 70.15s/it]"
     ]
    },
    {
     "name": "stdout",
     "output_type": "stream",
     "text": [
      "eigenvalues shape torch.Size([5]) eigenvectors shape torch.Size([5, 1024])\n",
      "532 /home/phdcs2/Hard_Disk/Datasets/Deep-Spectral-Segmentation/data/object-segmentation/ECSSD/features/0534_resized.pth\n",
      "dict_keys(['k', 'indices', 'file', 'id', 'model_name', 'patch_size', 'shape'])\n",
      "0534_resized\n",
      "Starting Training\n",
      "epoch: 00, loss: -0.88020\n",
      "epoch: 01, loss: -0.92897\n",
      "epoch: 02, loss: -0.93994\n",
      "epoch: 03, loss: -0.94622\n",
      "epoch: 04, loss: -0.95028\n",
      "epoch: 05, loss: -0.95325\n",
      "epoch: 06, loss: -0.95565\n",
      "epoch: 07, loss: -0.95763\n",
      "epoch: 08, loss: -0.95922\n",
      "epoch: 09, loss: -0.96049\n",
      "torch.Size([1024, 64])\n"
     ]
    },
    {
     "name": "stderr",
     "output_type": "stream",
     "text": [
      " 53%|█████▎    | 533/999 [10:49:01<9:12:10, 71.09s/it]"
     ]
    },
    {
     "name": "stdout",
     "output_type": "stream",
     "text": [
      "eigenvalues shape torch.Size([5]) eigenvectors shape torch.Size([5, 1024])\n",
      "533 /home/phdcs2/Hard_Disk/Datasets/Deep-Spectral-Segmentation/data/object-segmentation/ECSSD/features/0535_resized.pth\n",
      "dict_keys(['k', 'indices', 'file', 'id', 'model_name', 'patch_size', 'shape'])\n",
      "0535_resized\n"
     ]
    },
    {
     "name": "stderr",
     "output_type": "stream",
     "text": [
      "/home/phdcs2/Hard_Disk/Projects/T2I/deep-spectral-segmentation/venv/lib/python3.8/site-packages/sklearn/decomposition/_pca.py:642: RuntimeWarning: invalid value encountered in divide\n",
      "  self.explained_variance_ratio_ = self.explained_variance_ / total_var\n"
     ]
    },
    {
     "name": "stdout",
     "output_type": "stream",
     "text": [
      "Starting Training\n",
      "epoch: 00, loss: -0.91312\n",
      "epoch: 01, loss: -0.95025\n",
      "epoch: 02, loss: -0.95862\n",
      "epoch: 03, loss: -0.96340\n",
      "epoch: 04, loss: -0.96660\n",
      "epoch: 05, loss: -0.96898\n",
      "epoch: 06, loss: -0.97080\n",
      "epoch: 07, loss: -0.97230\n",
      "epoch: 08, loss: -0.97353\n",
      "epoch: 09, loss: -0.97458\n",
      "torch.Size([1024, 64])\n"
     ]
    },
    {
     "name": "stderr",
     "output_type": "stream",
     "text": [
      " 53%|█████▎    | 534/999 [10:50:08<9:03:11, 70.09s/it]"
     ]
    },
    {
     "name": "stdout",
     "output_type": "stream",
     "text": [
      "eigenvalues shape torch.Size([5]) eigenvectors shape torch.Size([5, 1024])\n",
      "534 /home/phdcs2/Hard_Disk/Datasets/Deep-Spectral-Segmentation/data/object-segmentation/ECSSD/features/0536_resized.pth\n",
      "dict_keys(['k', 'indices', 'file', 'id', 'model_name', 'patch_size', 'shape'])\n",
      "0536_resized\n"
     ]
    },
    {
     "name": "stderr",
     "output_type": "stream",
     "text": [
      "/home/phdcs2/Hard_Disk/Projects/T2I/deep-spectral-segmentation/venv/lib/python3.8/site-packages/sklearn/decomposition/_pca.py:642: RuntimeWarning: invalid value encountered in divide\n",
      "  self.explained_variance_ratio_ = self.explained_variance_ / total_var\n"
     ]
    },
    {
     "name": "stdout",
     "output_type": "stream",
     "text": [
      "Starting Training\n",
      "epoch: 00, loss: -0.91379\n",
      "epoch: 01, loss: -0.94859\n",
      "epoch: 02, loss: -0.95695\n",
      "epoch: 03, loss: -0.96183\n",
      "epoch: 04, loss: -0.96512\n",
      "epoch: 05, loss: -0.96760\n",
      "epoch: 06, loss: -0.96950\n",
      "epoch: 07, loss: -0.97107\n",
      "epoch: 08, loss: -0.97238\n",
      "epoch: 09, loss: -0.97348\n",
      "torch.Size([1024, 64])\n"
     ]
    },
    {
     "name": "stderr",
     "output_type": "stream",
     "text": [
      " 54%|█████▎    | 535/999 [10:51:18<9:00:47, 69.93s/it]"
     ]
    },
    {
     "name": "stdout",
     "output_type": "stream",
     "text": [
      "eigenvalues shape torch.Size([5]) eigenvectors shape torch.Size([5, 1024])\n",
      "535 /home/phdcs2/Hard_Disk/Datasets/Deep-Spectral-Segmentation/data/object-segmentation/ECSSD/features/0537_resized.pth\n",
      "dict_keys(['k', 'indices', 'file', 'id', 'model_name', 'patch_size', 'shape'])\n",
      "0537_resized\n",
      "Starting Training\n",
      "epoch: 00, loss: -0.86037\n",
      "epoch: 01, loss: -0.91437\n",
      "epoch: 02, loss: -0.92669\n",
      "epoch: 03, loss: -0.93378\n",
      "epoch: 04, loss: -0.93836\n",
      "epoch: 05, loss: -0.94201\n",
      "epoch: 06, loss: -0.94492\n",
      "epoch: 07, loss: -0.94697\n",
      "epoch: 08, loss: -0.94890\n",
      "epoch: 09, loss: -0.95051\n",
      "torch.Size([1024, 64])\n"
     ]
    },
    {
     "name": "stderr",
     "output_type": "stream",
     "text": [
      " 54%|█████▎    | 536/999 [10:52:27<8:57:44, 69.68s/it]"
     ]
    },
    {
     "name": "stdout",
     "output_type": "stream",
     "text": [
      "eigenvalues shape torch.Size([5]) eigenvectors shape torch.Size([5, 1024])\n",
      "536 /home/phdcs2/Hard_Disk/Datasets/Deep-Spectral-Segmentation/data/object-segmentation/ECSSD/features/0538_resized.pth\n",
      "dict_keys(['k', 'indices', 'file', 'id', 'model_name', 'patch_size', 'shape'])\n",
      "0538_resized\n"
     ]
    },
    {
     "name": "stderr",
     "output_type": "stream",
     "text": [
      "/home/phdcs2/Hard_Disk/Projects/T2I/deep-spectral-segmentation/venv/lib/python3.8/site-packages/sklearn/decomposition/_pca.py:642: RuntimeWarning: invalid value encountered in divide\n",
      "  self.explained_variance_ratio_ = self.explained_variance_ / total_var\n"
     ]
    },
    {
     "name": "stdout",
     "output_type": "stream",
     "text": [
      "Starting Training\n",
      "epoch: 00, loss: -0.90245\n",
      "epoch: 01, loss: -0.94061\n",
      "epoch: 02, loss: -0.95043\n",
      "epoch: 03, loss: -0.95619\n",
      "epoch: 04, loss: -0.96011\n",
      "epoch: 05, loss: -0.96297\n",
      "epoch: 06, loss: -0.96525\n",
      "epoch: 07, loss: -0.96708\n",
      "epoch: 08, loss: -0.96861\n",
      "epoch: 09, loss: -0.96989\n",
      "torch.Size([1024, 64])\n"
     ]
    },
    {
     "name": "stderr",
     "output_type": "stream",
     "text": [
      " 54%|█████▍    | 537/999 [10:53:34<8:50:00, 68.83s/it]"
     ]
    },
    {
     "name": "stdout",
     "output_type": "stream",
     "text": [
      "eigenvalues shape torch.Size([5]) eigenvectors shape torch.Size([5, 1024])\n",
      "537 /home/phdcs2/Hard_Disk/Datasets/Deep-Spectral-Segmentation/data/object-segmentation/ECSSD/features/0539_resized.pth\n",
      "dict_keys(['k', 'indices', 'file', 'id', 'model_name', 'patch_size', 'shape'])\n",
      "0539_resized\n"
     ]
    },
    {
     "name": "stderr",
     "output_type": "stream",
     "text": [
      "/home/phdcs2/Hard_Disk/Projects/T2I/deep-spectral-segmentation/venv/lib/python3.8/site-packages/sklearn/decomposition/_pca.py:642: RuntimeWarning: invalid value encountered in divide\n",
      "  self.explained_variance_ratio_ = self.explained_variance_ / total_var\n"
     ]
    },
    {
     "name": "stdout",
     "output_type": "stream",
     "text": [
      "Starting Training\n",
      "epoch: 00, loss: -0.92051\n",
      "epoch: 01, loss: -0.95319\n",
      "epoch: 02, loss: -0.96047\n",
      "epoch: 03, loss: -0.96472\n",
      "epoch: 04, loss: -0.96757\n",
      "epoch: 05, loss: -0.96972\n",
      "epoch: 06, loss: -0.97139\n",
      "epoch: 07, loss: -0.97277\n",
      "epoch: 08, loss: -0.97391\n",
      "epoch: 09, loss: -0.97487\n",
      "torch.Size([1024, 64])\n"
     ]
    },
    {
     "name": "stderr",
     "output_type": "stream",
     "text": [
      " 54%|█████▍    | 538/999 [10:54:43<8:48:47, 68.82s/it]"
     ]
    },
    {
     "name": "stdout",
     "output_type": "stream",
     "text": [
      "eigenvalues shape torch.Size([5]) eigenvectors shape torch.Size([5, 1024])\n",
      "538 /home/phdcs2/Hard_Disk/Datasets/Deep-Spectral-Segmentation/data/object-segmentation/ECSSD/features/0540_resized.pth\n",
      "dict_keys(['k', 'indices', 'file', 'id', 'model_name', 'patch_size', 'shape'])\n",
      "0540_resized\n",
      "Starting Training\n",
      "epoch: 00, loss: -0.87081\n",
      "epoch: 01, loss: -0.92789\n",
      "epoch: 02, loss: -0.94174\n",
      "epoch: 03, loss: -0.94927\n",
      "epoch: 04, loss: -0.95423\n",
      "epoch: 05, loss: -0.95795\n",
      "epoch: 06, loss: -0.96080\n",
      "epoch: 07, loss: -0.96306\n",
      "epoch: 08, loss: -0.96503\n",
      "epoch: 09, loss: -0.96671\n",
      "torch.Size([1024, 64])\n"
     ]
    },
    {
     "name": "stderr",
     "output_type": "stream",
     "text": [
      " 54%|█████▍    | 539/999 [10:55:59<9:05:15, 71.12s/it]"
     ]
    },
    {
     "name": "stdout",
     "output_type": "stream",
     "text": [
      "eigenvalues shape torch.Size([5]) eigenvectors shape torch.Size([5, 1024])\n",
      "539 /home/phdcs2/Hard_Disk/Datasets/Deep-Spectral-Segmentation/data/object-segmentation/ECSSD/features/0541_resized.pth\n",
      "dict_keys(['k', 'indices', 'file', 'id', 'model_name', 'patch_size', 'shape'])\n",
      "0541_resized\n"
     ]
    },
    {
     "name": "stderr",
     "output_type": "stream",
     "text": [
      "/home/phdcs2/Hard_Disk/Projects/T2I/deep-spectral-segmentation/venv/lib/python3.8/site-packages/sklearn/decomposition/_pca.py:642: RuntimeWarning: invalid value encountered in divide\n",
      "  self.explained_variance_ratio_ = self.explained_variance_ / total_var\n"
     ]
    },
    {
     "name": "stdout",
     "output_type": "stream",
     "text": [
      "Starting Training\n",
      "epoch: 00, loss: -0.91243\n",
      "epoch: 01, loss: -0.94901\n",
      "epoch: 02, loss: -0.95706\n",
      "epoch: 03, loss: -0.96168\n",
      "epoch: 04, loss: -0.96484\n",
      "epoch: 05, loss: -0.96720\n",
      "epoch: 06, loss: -0.96902\n",
      "epoch: 07, loss: -0.97053\n",
      "epoch: 08, loss: -0.97178\n",
      "epoch: 09, loss: -0.97286\n",
      "torch.Size([1024, 64])\n"
     ]
    },
    {
     "name": "stderr",
     "output_type": "stream",
     "text": [
      " 54%|█████▍    | 540/999 [10:57:14<9:13:39, 72.37s/it]"
     ]
    },
    {
     "name": "stdout",
     "output_type": "stream",
     "text": [
      "eigenvalues shape torch.Size([5]) eigenvectors shape torch.Size([5, 1024])\n",
      "540 /home/phdcs2/Hard_Disk/Datasets/Deep-Spectral-Segmentation/data/object-segmentation/ECSSD/features/0542_resized.pth\n",
      "dict_keys(['k', 'indices', 'file', 'id', 'model_name', 'patch_size', 'shape'])\n",
      "0542_resized\n",
      "Starting Training\n",
      "epoch: 00, loss: -0.86671\n",
      "epoch: 01, loss: -0.91952\n",
      "epoch: 02, loss: -0.93308\n",
      "epoch: 03, loss: -0.94034\n",
      "epoch: 04, loss: -0.94535\n",
      "epoch: 05, loss: -0.94918\n",
      "epoch: 06, loss: -0.95208\n",
      "epoch: 07, loss: -0.95460\n",
      "epoch: 08, loss: -0.95659\n",
      "epoch: 09, loss: -0.95817\n",
      "torch.Size([1024, 64])\n"
     ]
    },
    {
     "name": "stderr",
     "output_type": "stream",
     "text": [
      " 54%|█████▍    | 541/999 [10:58:30<9:20:03, 73.37s/it]"
     ]
    },
    {
     "name": "stdout",
     "output_type": "stream",
     "text": [
      "eigenvalues shape torch.Size([5]) eigenvectors shape torch.Size([5, 1024])\n",
      "541 /home/phdcs2/Hard_Disk/Datasets/Deep-Spectral-Segmentation/data/object-segmentation/ECSSD/features/0543_resized.pth\n",
      "dict_keys(['k', 'indices', 'file', 'id', 'model_name', 'patch_size', 'shape'])\n",
      "0543_resized\n",
      "Starting Training\n",
      "epoch: 00, loss: -0.90568\n",
      "epoch: 01, loss: -0.94356\n",
      "epoch: 02, loss: -0.95260\n",
      "epoch: 03, loss: -0.95796\n",
      "epoch: 04, loss: -0.96145\n",
      "epoch: 05, loss: -0.96411\n",
      "epoch: 06, loss: -0.96627\n",
      "epoch: 07, loss: -0.96790\n",
      "epoch: 08, loss: -0.96929\n",
      "epoch: 09, loss: -0.97052\n",
      "torch.Size([1024, 64])\n"
     ]
    },
    {
     "name": "stderr",
     "output_type": "stream",
     "text": [
      " 54%|█████▍    | 542/999 [10:59:50<9:32:57, 75.22s/it]"
     ]
    },
    {
     "name": "stdout",
     "output_type": "stream",
     "text": [
      "eigenvalues shape torch.Size([5]) eigenvectors shape torch.Size([5, 1024])\n",
      "542 /home/phdcs2/Hard_Disk/Datasets/Deep-Spectral-Segmentation/data/object-segmentation/ECSSD/features/0544_resized.pth\n",
      "dict_keys(['k', 'indices', 'file', 'id', 'model_name', 'patch_size', 'shape'])\n",
      "0544_resized\n",
      "Starting Training\n",
      "epoch: 00, loss: -0.87972\n",
      "epoch: 01, loss: -0.93037\n",
      "epoch: 02, loss: -0.94243\n",
      "epoch: 03, loss: -0.94907\n",
      "epoch: 04, loss: -0.95366\n",
      "epoch: 05, loss: -0.95690\n",
      "epoch: 06, loss: -0.95951\n",
      "epoch: 07, loss: -0.96150\n",
      "epoch: 08, loss: -0.96321\n",
      "epoch: 09, loss: -0.96473\n",
      "torch.Size([1024, 64])\n"
     ]
    },
    {
     "name": "stderr",
     "output_type": "stream",
     "text": [
      " 54%|█████▍    | 543/999 [11:01:05<9:32:05, 75.27s/it]"
     ]
    },
    {
     "name": "stdout",
     "output_type": "stream",
     "text": [
      "eigenvalues shape torch.Size([5]) eigenvectors shape torch.Size([5, 1024])\n",
      "543 /home/phdcs2/Hard_Disk/Datasets/Deep-Spectral-Segmentation/data/object-segmentation/ECSSD/features/0545_resized.pth\n",
      "dict_keys(['k', 'indices', 'file', 'id', 'model_name', 'patch_size', 'shape'])\n",
      "0545_resized\n",
      "Starting Training\n",
      "epoch: 00, loss: -0.90771\n",
      "epoch: 01, loss: -0.94366\n",
      "epoch: 02, loss: -0.95283\n",
      "epoch: 03, loss: -0.95814\n",
      "epoch: 04, loss: -0.96175\n",
      "epoch: 05, loss: -0.96444\n",
      "epoch: 06, loss: -0.96655\n",
      "epoch: 07, loss: -0.96828\n",
      "epoch: 08, loss: -0.96968\n",
      "epoch: 09, loss: -0.97090\n",
      "torch.Size([1024, 64])\n"
     ]
    },
    {
     "name": "stderr",
     "output_type": "stream",
     "text": [
      " 54%|█████▍    | 544/999 [11:02:16<9:20:24, 73.90s/it]"
     ]
    },
    {
     "name": "stdout",
     "output_type": "stream",
     "text": [
      "eigenvalues shape torch.Size([5]) eigenvectors shape torch.Size([5, 1024])\n",
      "544 /home/phdcs2/Hard_Disk/Datasets/Deep-Spectral-Segmentation/data/object-segmentation/ECSSD/features/0546_resized.pth\n",
      "dict_keys(['k', 'indices', 'file', 'id', 'model_name', 'patch_size', 'shape'])\n",
      "0546_resized\n"
     ]
    },
    {
     "name": "stderr",
     "output_type": "stream",
     "text": [
      "/home/phdcs2/Hard_Disk/Projects/T2I/deep-spectral-segmentation/venv/lib/python3.8/site-packages/sklearn/decomposition/_pca.py:642: RuntimeWarning: invalid value encountered in divide\n",
      "  self.explained_variance_ratio_ = self.explained_variance_ / total_var\n"
     ]
    },
    {
     "name": "stdout",
     "output_type": "stream",
     "text": [
      "Starting Training\n",
      "epoch: 00, loss: -0.91008\n",
      "epoch: 01, loss: -0.94778\n",
      "epoch: 02, loss: -0.95583\n",
      "epoch: 03, loss: -0.96049\n",
      "epoch: 04, loss: -0.96373\n",
      "epoch: 05, loss: -0.96611\n",
      "epoch: 06, loss: -0.96799\n",
      "epoch: 07, loss: -0.96952\n",
      "epoch: 08, loss: -0.97079\n",
      "epoch: 09, loss: -0.97189\n",
      "torch.Size([1024, 64])\n"
     ]
    },
    {
     "name": "stderr",
     "output_type": "stream",
     "text": [
      " 55%|█████▍    | 545/999 [11:03:21<9:00:18, 71.41s/it]"
     ]
    },
    {
     "name": "stdout",
     "output_type": "stream",
     "text": [
      "eigenvalues shape torch.Size([5]) eigenvectors shape torch.Size([5, 1024])\n",
      "545 /home/phdcs2/Hard_Disk/Datasets/Deep-Spectral-Segmentation/data/object-segmentation/ECSSD/features/0547_resized.pth\n",
      "dict_keys(['k', 'indices', 'file', 'id', 'model_name', 'patch_size', 'shape'])\n",
      "0547_resized\n",
      "Starting Training\n",
      "epoch: 00, loss: -0.91370\n",
      "epoch: 01, loss: -0.94845\n",
      "epoch: 02, loss: -0.95644\n",
      "epoch: 03, loss: -0.96109\n",
      "epoch: 04, loss: -0.96428\n",
      "epoch: 05, loss: -0.96658\n",
      "epoch: 06, loss: -0.96846\n",
      "epoch: 07, loss: -0.96993\n",
      "epoch: 08, loss: -0.97120\n",
      "epoch: 09, loss: -0.97229\n",
      "torch.Size([1024, 64])\n"
     ]
    },
    {
     "name": "stderr",
     "output_type": "stream",
     "text": [
      " 55%|█████▍    | 546/999 [11:04:36<9:05:55, 72.31s/it]"
     ]
    },
    {
     "name": "stdout",
     "output_type": "stream",
     "text": [
      "eigenvalues shape torch.Size([5]) eigenvectors shape torch.Size([5, 1024])\n",
      "546 /home/phdcs2/Hard_Disk/Datasets/Deep-Spectral-Segmentation/data/object-segmentation/ECSSD/features/0548_resized.pth\n",
      "dict_keys(['k', 'indices', 'file', 'id', 'model_name', 'patch_size', 'shape'])\n",
      "0548_resized\n",
      "Starting Training\n",
      "epoch: 00, loss: -0.86291\n",
      "epoch: 01, loss: -0.91541\n",
      "epoch: 02, loss: -0.92934\n",
      "epoch: 03, loss: -0.93707\n",
      "epoch: 04, loss: -0.94242\n",
      "epoch: 05, loss: -0.94621\n",
      "epoch: 06, loss: -0.94923\n",
      "epoch: 07, loss: -0.95162\n",
      "epoch: 08, loss: -0.95358\n",
      "epoch: 09, loss: -0.95527\n",
      "torch.Size([1024, 64])\n"
     ]
    },
    {
     "name": "stderr",
     "output_type": "stream",
     "text": [
      " 55%|█████▍    | 547/999 [11:05:51<9:10:56, 73.13s/it]"
     ]
    },
    {
     "name": "stdout",
     "output_type": "stream",
     "text": [
      "eigenvalues shape torch.Size([5]) eigenvectors shape torch.Size([5, 1024])\n",
      "547 /home/phdcs2/Hard_Disk/Datasets/Deep-Spectral-Segmentation/data/object-segmentation/ECSSD/features/0549_resized.pth\n",
      "dict_keys(['k', 'indices', 'file', 'id', 'model_name', 'patch_size', 'shape'])\n",
      "0549_resized\n",
      "Starting Training\n",
      "epoch: 00, loss: -0.86684\n",
      "epoch: 01, loss: -0.92221\n",
      "epoch: 02, loss: -0.93634\n",
      "epoch: 03, loss: -0.94436\n",
      "epoch: 04, loss: -0.94980\n",
      "epoch: 05, loss: -0.95356\n",
      "epoch: 06, loss: -0.95668\n",
      "epoch: 07, loss: -0.95915\n",
      "epoch: 08, loss: -0.96111\n",
      "epoch: 09, loss: -0.96282\n",
      "torch.Size([1024, 64])\n"
     ]
    },
    {
     "name": "stderr",
     "output_type": "stream",
     "text": [
      " 55%|█████▍    | 548/999 [11:07:03<9:07:21, 72.82s/it]"
     ]
    },
    {
     "name": "stdout",
     "output_type": "stream",
     "text": [
      "eigenvalues shape torch.Size([5]) eigenvectors shape torch.Size([5, 1024])\n",
      "548 /home/phdcs2/Hard_Disk/Datasets/Deep-Spectral-Segmentation/data/object-segmentation/ECSSD/features/0550_resized.pth\n",
      "dict_keys(['k', 'indices', 'file', 'id', 'model_name', 'patch_size', 'shape'])\n",
      "0550_resized\n",
      "Starting Training\n",
      "epoch: 00, loss: -0.86488\n",
      "epoch: 01, loss: -0.91996\n",
      "epoch: 02, loss: -0.93496\n",
      "epoch: 03, loss: -0.94327\n",
      "epoch: 04, loss: -0.94904\n",
      "epoch: 05, loss: -0.95305\n",
      "epoch: 06, loss: -0.95615\n",
      "epoch: 07, loss: -0.95863\n",
      "epoch: 08, loss: -0.96071\n",
      "epoch: 09, loss: -0.96240\n",
      "torch.Size([1024, 64])\n"
     ]
    },
    {
     "name": "stderr",
     "output_type": "stream",
     "text": [
      " 55%|█████▍    | 549/999 [11:08:14<9:01:28, 72.20s/it]"
     ]
    },
    {
     "name": "stdout",
     "output_type": "stream",
     "text": [
      "eigenvalues shape torch.Size([5]) eigenvectors shape torch.Size([5, 1024])\n",
      "549 /home/phdcs2/Hard_Disk/Datasets/Deep-Spectral-Segmentation/data/object-segmentation/ECSSD/features/0551_resized.pth\n",
      "dict_keys(['k', 'indices', 'file', 'id', 'model_name', 'patch_size', 'shape'])\n",
      "0551_resized\n",
      "Starting Training\n",
      "epoch: 00, loss: -0.88200\n",
      "epoch: 01, loss: -0.93245\n",
      "epoch: 02, loss: -0.94418\n",
      "epoch: 03, loss: -0.95097\n",
      "epoch: 04, loss: -0.95544\n",
      "epoch: 05, loss: -0.95870\n",
      "epoch: 06, loss: -0.96125\n",
      "epoch: 07, loss: -0.96326\n",
      "epoch: 08, loss: -0.96497\n",
      "epoch: 09, loss: -0.96642\n",
      "torch.Size([1024, 64])\n"
     ]
    },
    {
     "name": "stderr",
     "output_type": "stream",
     "text": [
      " 55%|█████▌    | 550/999 [11:09:23<8:52:53, 71.21s/it]"
     ]
    },
    {
     "name": "stdout",
     "output_type": "stream",
     "text": [
      "eigenvalues shape torch.Size([5]) eigenvectors shape torch.Size([5, 1024])\n",
      "550 /home/phdcs2/Hard_Disk/Datasets/Deep-Spectral-Segmentation/data/object-segmentation/ECSSD/features/0552_resized.pth\n",
      "dict_keys(['k', 'indices', 'file', 'id', 'model_name', 'patch_size', 'shape'])\n",
      "0552_resized\n",
      "Starting Training\n",
      "epoch: 00, loss: -0.88516\n",
      "epoch: 01, loss: -0.93137\n",
      "epoch: 02, loss: -0.94080\n",
      "epoch: 03, loss: -0.94607\n",
      "epoch: 04, loss: -0.94958\n",
      "epoch: 05, loss: -0.95210\n",
      "epoch: 06, loss: -0.95418\n",
      "epoch: 07, loss: -0.95574\n",
      "epoch: 08, loss: -0.95714\n",
      "epoch: 09, loss: -0.95833\n",
      "torch.Size([1024, 64])\n"
     ]
    },
    {
     "name": "stderr",
     "output_type": "stream",
     "text": [
      " 55%|█████▌    | 551/999 [11:10:25<8:33:03, 68.71s/it]"
     ]
    },
    {
     "name": "stdout",
     "output_type": "stream",
     "text": [
      "eigenvalues shape torch.Size([5]) eigenvectors shape torch.Size([5, 1024])\n",
      "551 /home/phdcs2/Hard_Disk/Datasets/Deep-Spectral-Segmentation/data/object-segmentation/ECSSD/features/0553_resized.pth\n",
      "dict_keys(['k', 'indices', 'file', 'id', 'model_name', 'patch_size', 'shape'])\n",
      "0553_resized\n"
     ]
    },
    {
     "name": "stderr",
     "output_type": "stream",
     "text": [
      "/home/phdcs2/Hard_Disk/Projects/T2I/deep-spectral-segmentation/venv/lib/python3.8/site-packages/sklearn/decomposition/_pca.py:642: RuntimeWarning: invalid value encountered in divide\n",
      "  self.explained_variance_ratio_ = self.explained_variance_ / total_var\n"
     ]
    },
    {
     "name": "stdout",
     "output_type": "stream",
     "text": [
      "Starting Training\n",
      "epoch: 00, loss: -0.91350\n",
      "epoch: 01, loss: -0.94922\n",
      "epoch: 02, loss: -0.95761\n",
      "epoch: 03, loss: -0.96242\n",
      "epoch: 04, loss: -0.96564\n",
      "epoch: 05, loss: -0.96803\n",
      "epoch: 06, loss: -0.96992\n",
      "epoch: 07, loss: -0.97142\n",
      "epoch: 08, loss: -0.97268\n",
      "epoch: 09, loss: -0.97375\n",
      "torch.Size([1024, 64])\n"
     ]
    },
    {
     "name": "stderr",
     "output_type": "stream",
     "text": [
      " 55%|█████▌    | 552/999 [11:11:37<8:38:33, 69.60s/it]"
     ]
    },
    {
     "name": "stdout",
     "output_type": "stream",
     "text": [
      "eigenvalues shape torch.Size([5]) eigenvectors shape torch.Size([5, 1024])\n",
      "552 /home/phdcs2/Hard_Disk/Datasets/Deep-Spectral-Segmentation/data/object-segmentation/ECSSD/features/0554_resized.pth\n",
      "dict_keys(['k', 'indices', 'file', 'id', 'model_name', 'patch_size', 'shape'])\n",
      "0554_resized\n",
      "Starting Training\n",
      "epoch: 00, loss: -0.87448\n",
      "epoch: 01, loss: -0.92495\n",
      "epoch: 02, loss: -0.93792\n",
      "epoch: 03, loss: -0.94546\n",
      "epoch: 04, loss: -0.95058\n",
      "epoch: 05, loss: -0.95417\n",
      "epoch: 06, loss: -0.95696\n",
      "epoch: 07, loss: -0.95932\n",
      "epoch: 08, loss: -0.96120\n",
      "epoch: 09, loss: -0.96286\n",
      "torch.Size([1024, 64])\n"
     ]
    },
    {
     "name": "stderr",
     "output_type": "stream",
     "text": [
      " 55%|█████▌    | 553/999 [11:12:45<8:34:34, 69.22s/it]"
     ]
    },
    {
     "name": "stdout",
     "output_type": "stream",
     "text": [
      "eigenvalues shape torch.Size([5]) eigenvectors shape torch.Size([5, 1024])\n",
      "553 /home/phdcs2/Hard_Disk/Datasets/Deep-Spectral-Segmentation/data/object-segmentation/ECSSD/features/0555_resized.pth\n",
      "dict_keys(['k', 'indices', 'file', 'id', 'model_name', 'patch_size', 'shape'])\n",
      "0555_resized\n"
     ]
    },
    {
     "name": "stderr",
     "output_type": "stream",
     "text": [
      "/home/phdcs2/Hard_Disk/Projects/T2I/deep-spectral-segmentation/venv/lib/python3.8/site-packages/sklearn/decomposition/_pca.py:642: RuntimeWarning: invalid value encountered in divide\n",
      "  self.explained_variance_ratio_ = self.explained_variance_ / total_var\n"
     ]
    },
    {
     "name": "stdout",
     "output_type": "stream",
     "text": [
      "Starting Training\n",
      "epoch: 00, loss: -0.92337\n",
      "epoch: 01, loss: -0.95263\n",
      "epoch: 02, loss: -0.96011\n",
      "epoch: 03, loss: -0.96454\n",
      "epoch: 04, loss: -0.96755\n",
      "epoch: 05, loss: -0.96976\n",
      "epoch: 06, loss: -0.97150\n",
      "epoch: 07, loss: -0.97294\n",
      "epoch: 08, loss: -0.97413\n",
      "epoch: 09, loss: -0.97512\n",
      "torch.Size([1024, 64])\n"
     ]
    },
    {
     "name": "stderr",
     "output_type": "stream",
     "text": [
      " 55%|█████▌    | 554/999 [11:13:54<8:31:00, 68.90s/it]"
     ]
    },
    {
     "name": "stdout",
     "output_type": "stream",
     "text": [
      "eigenvalues shape torch.Size([5]) eigenvectors shape torch.Size([5, 1024])\n",
      "554 /home/phdcs2/Hard_Disk/Datasets/Deep-Spectral-Segmentation/data/object-segmentation/ECSSD/features/0556_resized.pth\n",
      "dict_keys(['k', 'indices', 'file', 'id', 'model_name', 'patch_size', 'shape'])\n",
      "0556_resized\n",
      "Starting Training\n",
      "epoch: 00, loss: -0.90655\n",
      "epoch: 01, loss: -0.94345\n",
      "epoch: 02, loss: -0.95214\n",
      "epoch: 03, loss: -0.95720\n",
      "epoch: 04, loss: -0.96061\n",
      "epoch: 05, loss: -0.96316\n",
      "epoch: 06, loss: -0.96521\n",
      "epoch: 07, loss: -0.96684\n",
      "epoch: 08, loss: -0.96820\n",
      "epoch: 09, loss: -0.96937\n",
      "torch.Size([1024, 64])\n"
     ]
    },
    {
     "name": "stderr",
     "output_type": "stream",
     "text": [
      " 56%|█████▌    | 555/999 [11:14:57<8:18:48, 67.41s/it]"
     ]
    },
    {
     "name": "stdout",
     "output_type": "stream",
     "text": [
      "eigenvalues shape torch.Size([5]) eigenvectors shape torch.Size([5, 1024])\n",
      "555 /home/phdcs2/Hard_Disk/Datasets/Deep-Spectral-Segmentation/data/object-segmentation/ECSSD/features/0557_resized.pth\n",
      "dict_keys(['k', 'indices', 'file', 'id', 'model_name', 'patch_size', 'shape'])\n",
      "0557_resized\n"
     ]
    },
    {
     "name": "stderr",
     "output_type": "stream",
     "text": [
      "/home/phdcs2/Hard_Disk/Projects/T2I/deep-spectral-segmentation/venv/lib/python3.8/site-packages/sklearn/decomposition/_pca.py:642: RuntimeWarning: invalid value encountered in divide\n",
      "  self.explained_variance_ratio_ = self.explained_variance_ / total_var\n"
     ]
    },
    {
     "name": "stdout",
     "output_type": "stream",
     "text": [
      "Starting Training\n",
      "epoch: 00, loss: -0.91336\n",
      "epoch: 01, loss: -0.94638\n",
      "epoch: 02, loss: -0.95466\n",
      "epoch: 03, loss: -0.95951\n",
      "epoch: 04, loss: -0.96279\n",
      "epoch: 05, loss: -0.96525\n",
      "epoch: 06, loss: -0.96715\n",
      "epoch: 07, loss: -0.96874\n",
      "epoch: 08, loss: -0.97007\n",
      "epoch: 09, loss: -0.97119\n",
      "torch.Size([1024, 64])\n"
     ]
    },
    {
     "name": "stderr",
     "output_type": "stream",
     "text": [
      " 56%|█████▌    | 556/999 [11:16:11<8:30:43, 69.17s/it]"
     ]
    },
    {
     "name": "stdout",
     "output_type": "stream",
     "text": [
      "eigenvalues shape torch.Size([5]) eigenvectors shape torch.Size([5, 1024])\n",
      "556 /home/phdcs2/Hard_Disk/Datasets/Deep-Spectral-Segmentation/data/object-segmentation/ECSSD/features/0558_resized.pth\n",
      "dict_keys(['k', 'indices', 'file', 'id', 'model_name', 'patch_size', 'shape'])\n",
      "0558_resized\n",
      "Starting Training\n",
      "epoch: 00, loss: -0.92727\n",
      "epoch: 01, loss: -0.95492\n",
      "epoch: 02, loss: -0.96186\n",
      "epoch: 03, loss: -0.96585\n",
      "epoch: 04, loss: -0.96859\n",
      "epoch: 05, loss: -0.97062\n",
      "epoch: 06, loss: -0.97224\n",
      "epoch: 07, loss: -0.97355\n",
      "epoch: 08, loss: -0.97465\n",
      "epoch: 09, loss: -0.97559\n",
      "torch.Size([1024, 64])\n"
     ]
    },
    {
     "name": "stderr",
     "output_type": "stream",
     "text": [
      " 56%|█████▌    | 557/999 [11:17:23<8:37:02, 70.19s/it]"
     ]
    },
    {
     "name": "stdout",
     "output_type": "stream",
     "text": [
      "eigenvalues shape torch.Size([5]) eigenvectors shape torch.Size([5, 1024])\n",
      "557 /home/phdcs2/Hard_Disk/Datasets/Deep-Spectral-Segmentation/data/object-segmentation/ECSSD/features/0559_resized.pth\n",
      "dict_keys(['k', 'indices', 'file', 'id', 'model_name', 'patch_size', 'shape'])\n",
      "0559_resized\n",
      "Starting Training\n",
      "epoch: 00, loss: -0.86119\n",
      "epoch: 01, loss: -0.91530\n",
      "epoch: 02, loss: -0.92913\n",
      "epoch: 03, loss: -0.93729\n",
      "epoch: 04, loss: -0.94277\n",
      "epoch: 05, loss: -0.94672\n",
      "epoch: 06, loss: -0.94993\n",
      "epoch: 07, loss: -0.95245\n",
      "epoch: 08, loss: -0.95463\n",
      "epoch: 09, loss: -0.95638\n",
      "torch.Size([1024, 64])\n"
     ]
    },
    {
     "name": "stderr",
     "output_type": "stream",
     "text": [
      " 56%|█████▌    | 558/999 [11:18:33<8:33:39, 69.89s/it]"
     ]
    },
    {
     "name": "stdout",
     "output_type": "stream",
     "text": [
      "eigenvalues shape torch.Size([5]) eigenvectors shape torch.Size([5, 1024])\n",
      "558 /home/phdcs2/Hard_Disk/Datasets/Deep-Spectral-Segmentation/data/object-segmentation/ECSSD/features/0560_resized.pth\n",
      "dict_keys(['k', 'indices', 'file', 'id', 'model_name', 'patch_size', 'shape'])\n",
      "0560_resized\n",
      "Starting Training\n",
      "epoch: 00, loss: -0.87944\n",
      "epoch: 01, loss: -0.92897\n",
      "epoch: 02, loss: -0.94114\n",
      "epoch: 03, loss: -0.94790\n",
      "epoch: 04, loss: -0.95230\n",
      "epoch: 05, loss: -0.95570\n",
      "epoch: 06, loss: -0.95841\n",
      "epoch: 07, loss: -0.96048\n",
      "epoch: 08, loss: -0.96220\n",
      "epoch: 09, loss: -0.96365\n",
      "torch.Size([1024, 64])\n"
     ]
    },
    {
     "name": "stderr",
     "output_type": "stream",
     "text": [
      " 56%|█████▌    | 559/999 [11:19:36<8:18:41, 68.00s/it]"
     ]
    },
    {
     "name": "stdout",
     "output_type": "stream",
     "text": [
      "eigenvalues shape torch.Size([5]) eigenvectors shape torch.Size([5, 1024])\n",
      "559 /home/phdcs2/Hard_Disk/Datasets/Deep-Spectral-Segmentation/data/object-segmentation/ECSSD/features/0561_resized.pth\n",
      "dict_keys(['k', 'indices', 'file', 'id', 'model_name', 'patch_size', 'shape'])\n",
      "0561_resized\n",
      "Starting Training\n",
      "epoch: 00, loss: -0.92597\n",
      "epoch: 01, loss: -0.95522\n",
      "epoch: 02, loss: -0.96212\n",
      "epoch: 03, loss: -0.96613\n",
      "epoch: 04, loss: -0.96892\n",
      "epoch: 05, loss: -0.97097\n",
      "epoch: 06, loss: -0.97260\n",
      "epoch: 07, loss: -0.97390\n",
      "epoch: 08, loss: -0.97502\n",
      "epoch: 09, loss: -0.97596\n",
      "torch.Size([1024, 64])\n"
     ]
    },
    {
     "name": "stderr",
     "output_type": "stream",
     "text": [
      " 56%|█████▌    | 560/999 [11:20:44<8:17:26, 67.99s/it]"
     ]
    },
    {
     "name": "stdout",
     "output_type": "stream",
     "text": [
      "eigenvalues shape torch.Size([5]) eigenvectors shape torch.Size([5, 1024])\n",
      "560 /home/phdcs2/Hard_Disk/Datasets/Deep-Spectral-Segmentation/data/object-segmentation/ECSSD/features/0562_resized.pth\n",
      "dict_keys(['k', 'indices', 'file', 'id', 'model_name', 'patch_size', 'shape'])\n",
      "0562_resized\n",
      "Starting Training\n",
      "epoch: 00, loss: -0.92304\n",
      "epoch: 01, loss: -0.95331\n",
      "epoch: 02, loss: -0.96065\n",
      "epoch: 03, loss: -0.96487\n",
      "epoch: 04, loss: -0.96778\n",
      "epoch: 05, loss: -0.96996\n",
      "epoch: 06, loss: -0.97166\n",
      "epoch: 07, loss: -0.97306\n",
      "epoch: 08, loss: -0.97424\n",
      "epoch: 09, loss: -0.97522\n",
      "torch.Size([1024, 64])\n"
     ]
    },
    {
     "name": "stderr",
     "output_type": "stream",
     "text": [
      " 56%|█████▌    | 561/999 [11:21:50<8:10:59, 67.26s/it]"
     ]
    },
    {
     "name": "stdout",
     "output_type": "stream",
     "text": [
      "eigenvalues shape torch.Size([5]) eigenvectors shape torch.Size([5, 1024])\n",
      "561 /home/phdcs2/Hard_Disk/Datasets/Deep-Spectral-Segmentation/data/object-segmentation/ECSSD/features/0563_resized.pth\n",
      "dict_keys(['k', 'indices', 'file', 'id', 'model_name', 'patch_size', 'shape'])\n",
      "0563_resized\n"
     ]
    },
    {
     "name": "stderr",
     "output_type": "stream",
     "text": [
      "/home/phdcs2/Hard_Disk/Projects/T2I/deep-spectral-segmentation/venv/lib/python3.8/site-packages/sklearn/decomposition/_pca.py:642: RuntimeWarning: invalid value encountered in divide\n",
      "  self.explained_variance_ratio_ = self.explained_variance_ / total_var\n"
     ]
    },
    {
     "name": "stdout",
     "output_type": "stream",
     "text": [
      "Starting Training\n",
      "epoch: 00, loss: -0.92111\n",
      "epoch: 01, loss: -0.95586\n",
      "epoch: 02, loss: -0.96310\n",
      "epoch: 03, loss: -0.96726\n",
      "epoch: 04, loss: -0.97009\n",
      "epoch: 05, loss: -0.97215\n",
      "epoch: 06, loss: -0.97379\n",
      "epoch: 07, loss: -0.97512\n",
      "epoch: 08, loss: -0.97624\n",
      "epoch: 09, loss: -0.97716\n",
      "torch.Size([1024, 64])\n"
     ]
    },
    {
     "name": "stderr",
     "output_type": "stream",
     "text": [
      " 56%|█████▋    | 562/999 [11:23:00<8:16:05, 68.11s/it]"
     ]
    },
    {
     "name": "stdout",
     "output_type": "stream",
     "text": [
      "eigenvalues shape torch.Size([5]) eigenvectors shape torch.Size([5, 1024])\n",
      "562 /home/phdcs2/Hard_Disk/Datasets/Deep-Spectral-Segmentation/data/object-segmentation/ECSSD/features/0564_resized.pth\n",
      "dict_keys(['k', 'indices', 'file', 'id', 'model_name', 'patch_size', 'shape'])\n",
      "0564_resized\n"
     ]
    },
    {
     "name": "stderr",
     "output_type": "stream",
     "text": [
      "/home/phdcs2/Hard_Disk/Projects/T2I/deep-spectral-segmentation/venv/lib/python3.8/site-packages/sklearn/decomposition/_pca.py:642: RuntimeWarning: invalid value encountered in divide\n",
      "  self.explained_variance_ratio_ = self.explained_variance_ / total_var\n"
     ]
    },
    {
     "name": "stdout",
     "output_type": "stream",
     "text": [
      "Starting Training\n",
      "epoch: 00, loss: -0.90051\n",
      "epoch: 01, loss: -0.94005\n",
      "epoch: 02, loss: -0.94986\n",
      "epoch: 03, loss: -0.95565\n",
      "epoch: 04, loss: -0.95950\n",
      "epoch: 05, loss: -0.96239\n",
      "epoch: 06, loss: -0.96467\n",
      "epoch: 07, loss: -0.96647\n",
      "epoch: 08, loss: -0.96799\n",
      "epoch: 09, loss: -0.96929\n",
      "torch.Size([1024, 64])\n"
     ]
    },
    {
     "name": "stderr",
     "output_type": "stream",
     "text": [
      " 56%|█████▋    | 563/999 [11:24:13<8:26:21, 69.68s/it]"
     ]
    },
    {
     "name": "stdout",
     "output_type": "stream",
     "text": [
      "eigenvalues shape torch.Size([5]) eigenvectors shape torch.Size([5, 1024])\n",
      "563 /home/phdcs2/Hard_Disk/Datasets/Deep-Spectral-Segmentation/data/object-segmentation/ECSSD/features/0565_resized.pth\n",
      "dict_keys(['k', 'indices', 'file', 'id', 'model_name', 'patch_size', 'shape'])\n",
      "0565_resized\n",
      "Starting Training\n",
      "epoch: 00, loss: -0.87960\n",
      "epoch: 01, loss: -0.92913\n",
      "epoch: 02, loss: -0.94180\n",
      "epoch: 03, loss: -0.94879\n",
      "epoch: 04, loss: -0.95349\n",
      "epoch: 05, loss: -0.95689\n",
      "epoch: 06, loss: -0.95949\n",
      "epoch: 07, loss: -0.96169\n",
      "epoch: 08, loss: -0.96337\n",
      "epoch: 09, loss: -0.96490\n",
      "torch.Size([1024, 64])\n"
     ]
    },
    {
     "name": "stderr",
     "output_type": "stream",
     "text": [
      " 56%|█████▋    | 564/999 [11:25:24<8:27:34, 70.01s/it]"
     ]
    },
    {
     "name": "stdout",
     "output_type": "stream",
     "text": [
      "eigenvalues shape torch.Size([5]) eigenvectors shape torch.Size([5, 1024])\n",
      "564 /home/phdcs2/Hard_Disk/Datasets/Deep-Spectral-Segmentation/data/object-segmentation/ECSSD/features/0566_resized.pth\n",
      "dict_keys(['k', 'indices', 'file', 'id', 'model_name', 'patch_size', 'shape'])\n",
      "0566_resized\n",
      "Starting Training\n",
      "epoch: 00, loss: -0.84509\n",
      "epoch: 01, loss: -0.90550\n",
      "epoch: 02, loss: -0.92119\n",
      "epoch: 03, loss: -0.92971\n",
      "epoch: 04, loss: -0.93594\n",
      "epoch: 05, loss: -0.94026\n",
      "epoch: 06, loss: -0.94401\n",
      "epoch: 07, loss: -0.94680\n",
      "epoch: 08, loss: -0.94929\n",
      "epoch: 09, loss: -0.95129\n",
      "torch.Size([1024, 64])\n"
     ]
    },
    {
     "name": "stderr",
     "output_type": "stream",
     "text": [
      " 57%|█████▋    | 565/999 [11:26:39<8:36:55, 71.46s/it]"
     ]
    },
    {
     "name": "stdout",
     "output_type": "stream",
     "text": [
      "eigenvalues shape torch.Size([5]) eigenvectors shape torch.Size([5, 1024])\n",
      "565 /home/phdcs2/Hard_Disk/Datasets/Deep-Spectral-Segmentation/data/object-segmentation/ECSSD/features/0567_resized.pth\n",
      "dict_keys(['k', 'indices', 'file', 'id', 'model_name', 'patch_size', 'shape'])\n",
      "0567_resized\n",
      "Starting Training\n",
      "epoch: 00, loss: -0.88686\n",
      "epoch: 01, loss: -0.93249\n",
      "epoch: 02, loss: -0.94319\n",
      "epoch: 03, loss: -0.94893\n",
      "epoch: 04, loss: -0.95303\n",
      "epoch: 05, loss: -0.95602\n",
      "epoch: 06, loss: -0.95843\n",
      "epoch: 07, loss: -0.96014\n",
      "epoch: 08, loss: -0.96164\n",
      "epoch: 09, loss: -0.96292\n",
      "torch.Size([1024, 64])\n"
     ]
    },
    {
     "name": "stderr",
     "output_type": "stream",
     "text": [
      " 57%|█████▋    | 566/999 [11:27:48<8:31:30, 70.88s/it]"
     ]
    },
    {
     "name": "stdout",
     "output_type": "stream",
     "text": [
      "eigenvalues shape torch.Size([5]) eigenvectors shape torch.Size([5, 1024])\n",
      "566 /home/phdcs2/Hard_Disk/Datasets/Deep-Spectral-Segmentation/data/object-segmentation/ECSSD/features/0568_resized.pth\n",
      "dict_keys(['k', 'indices', 'file', 'id', 'model_name', 'patch_size', 'shape'])\n",
      "0568_resized\n"
     ]
    },
    {
     "name": "stderr",
     "output_type": "stream",
     "text": [
      "/home/phdcs2/Hard_Disk/Projects/T2I/deep-spectral-segmentation/venv/lib/python3.8/site-packages/sklearn/decomposition/_pca.py:642: RuntimeWarning: invalid value encountered in divide\n",
      "  self.explained_variance_ratio_ = self.explained_variance_ / total_var\n"
     ]
    },
    {
     "name": "stdout",
     "output_type": "stream",
     "text": [
      "Starting Training\n",
      "epoch: 00, loss: -0.92040\n",
      "epoch: 01, loss: -0.94868\n",
      "epoch: 02, loss: -0.95611\n",
      "epoch: 03, loss: -0.96055\n",
      "epoch: 04, loss: -0.96356\n",
      "epoch: 05, loss: -0.96587\n",
      "epoch: 06, loss: -0.96766\n",
      "epoch: 07, loss: -0.96915\n",
      "epoch: 08, loss: -0.97039\n",
      "epoch: 09, loss: -0.97148\n",
      "torch.Size([1024, 64])\n"
     ]
    },
    {
     "name": "stderr",
     "output_type": "stream",
     "text": [
      " 57%|█████▋    | 567/999 [11:28:53<8:16:15, 68.93s/it]"
     ]
    },
    {
     "name": "stdout",
     "output_type": "stream",
     "text": [
      "eigenvalues shape torch.Size([5]) eigenvectors shape torch.Size([5, 1024])\n",
      "567 /home/phdcs2/Hard_Disk/Datasets/Deep-Spectral-Segmentation/data/object-segmentation/ECSSD/features/0569_resized.pth\n",
      "dict_keys(['k', 'indices', 'file', 'id', 'model_name', 'patch_size', 'shape'])\n",
      "0569_resized\n"
     ]
    },
    {
     "name": "stderr",
     "output_type": "stream",
     "text": [
      "/home/phdcs2/Hard_Disk/Projects/T2I/deep-spectral-segmentation/venv/lib/python3.8/site-packages/sklearn/decomposition/_pca.py:642: RuntimeWarning: invalid value encountered in divide\n",
      "  self.explained_variance_ratio_ = self.explained_variance_ / total_var\n"
     ]
    },
    {
     "name": "stdout",
     "output_type": "stream",
     "text": [
      "Starting Training\n",
      "epoch: 00, loss: -0.90569\n",
      "epoch: 01, loss: -0.94339\n",
      "epoch: 02, loss: -0.95224\n",
      "epoch: 03, loss: -0.95737\n",
      "epoch: 04, loss: -0.96087\n",
      "epoch: 05, loss: -0.96348\n",
      "epoch: 06, loss: -0.96550\n",
      "epoch: 07, loss: -0.96715\n",
      "epoch: 08, loss: -0.96854\n",
      "epoch: 09, loss: -0.96970\n",
      "torch.Size([1024, 64])\n"
     ]
    },
    {
     "name": "stderr",
     "output_type": "stream",
     "text": [
      " 57%|█████▋    | 568/999 [11:30:09<8:31:29, 71.21s/it]"
     ]
    },
    {
     "name": "stdout",
     "output_type": "stream",
     "text": [
      "eigenvalues shape torch.Size([5]) eigenvectors shape torch.Size([5, 1024])\n",
      "568 /home/phdcs2/Hard_Disk/Datasets/Deep-Spectral-Segmentation/data/object-segmentation/ECSSD/features/0570_resized.pth\n",
      "dict_keys(['k', 'indices', 'file', 'id', 'model_name', 'patch_size', 'shape'])\n",
      "0570_resized\n"
     ]
    },
    {
     "name": "stderr",
     "output_type": "stream",
     "text": [
      "/home/phdcs2/Hard_Disk/Projects/T2I/deep-spectral-segmentation/venv/lib/python3.8/site-packages/sklearn/decomposition/_pca.py:642: RuntimeWarning: invalid value encountered in divide\n",
      "  self.explained_variance_ratio_ = self.explained_variance_ / total_var\n"
     ]
    },
    {
     "name": "stdout",
     "output_type": "stream",
     "text": [
      "Starting Training\n",
      "epoch: 00, loss: -0.92162\n",
      "epoch: 01, loss: -0.95297\n",
      "epoch: 02, loss: -0.96044\n",
      "epoch: 03, loss: -0.96479\n",
      "epoch: 04, loss: -0.96776\n",
      "epoch: 05, loss: -0.96997\n",
      "epoch: 06, loss: -0.97168\n",
      "epoch: 07, loss: -0.97310\n",
      "epoch: 08, loss: -0.97424\n",
      "epoch: 09, loss: -0.97524\n",
      "torch.Size([1024, 64])\n"
     ]
    },
    {
     "name": "stderr",
     "output_type": "stream",
     "text": [
      " 57%|█████▋    | 569/999 [11:31:26<8:43:01, 72.98s/it]"
     ]
    },
    {
     "name": "stdout",
     "output_type": "stream",
     "text": [
      "eigenvalues shape torch.Size([5]) eigenvectors shape torch.Size([5, 1024])\n",
      "569 /home/phdcs2/Hard_Disk/Datasets/Deep-Spectral-Segmentation/data/object-segmentation/ECSSD/features/0571_resized.pth\n",
      "dict_keys(['k', 'indices', 'file', 'id', 'model_name', 'patch_size', 'shape'])\n",
      "0571_resized\n"
     ]
    },
    {
     "name": "stderr",
     "output_type": "stream",
     "text": [
      "/home/phdcs2/Hard_Disk/Projects/T2I/deep-spectral-segmentation/venv/lib/python3.8/site-packages/sklearn/decomposition/_pca.py:642: RuntimeWarning: invalid value encountered in divide\n",
      "  self.explained_variance_ratio_ = self.explained_variance_ / total_var\n"
     ]
    },
    {
     "name": "stdout",
     "output_type": "stream",
     "text": [
      "Starting Training\n",
      "epoch: 00, loss: -0.91547\n",
      "epoch: 01, loss: -0.95037\n",
      "epoch: 02, loss: -0.95821\n",
      "epoch: 03, loss: -0.96261\n",
      "epoch: 04, loss: -0.96559\n",
      "epoch: 05, loss: -0.96784\n",
      "epoch: 06, loss: -0.96958\n",
      "epoch: 07, loss: -0.97098\n",
      "epoch: 08, loss: -0.97217\n",
      "epoch: 09, loss: -0.97318\n",
      "torch.Size([1024, 64])\n"
     ]
    },
    {
     "name": "stderr",
     "output_type": "stream",
     "text": [
      " 57%|█████▋    | 570/999 [11:32:40<8:44:04, 73.30s/it]"
     ]
    },
    {
     "name": "stdout",
     "output_type": "stream",
     "text": [
      "eigenvalues shape torch.Size([5]) eigenvectors shape torch.Size([5, 1024])\n",
      "570 /home/phdcs2/Hard_Disk/Datasets/Deep-Spectral-Segmentation/data/object-segmentation/ECSSD/features/0572_resized.pth\n",
      "dict_keys(['k', 'indices', 'file', 'id', 'model_name', 'patch_size', 'shape'])\n",
      "0572_resized\n"
     ]
    },
    {
     "name": "stderr",
     "output_type": "stream",
     "text": [
      "/home/phdcs2/Hard_Disk/Projects/T2I/deep-spectral-segmentation/venv/lib/python3.8/site-packages/sklearn/decomposition/_pca.py:642: RuntimeWarning: invalid value encountered in divide\n",
      "  self.explained_variance_ratio_ = self.explained_variance_ / total_var\n"
     ]
    },
    {
     "name": "stdout",
     "output_type": "stream",
     "text": [
      "Starting Training\n",
      "epoch: 00, loss: -0.93459\n",
      "epoch: 01, loss: -0.96130\n",
      "epoch: 02, loss: -0.96727\n",
      "epoch: 03, loss: -0.97080\n",
      "epoch: 04, loss: -0.97320\n",
      "epoch: 05, loss: -0.97503\n",
      "epoch: 06, loss: -0.97643\n",
      "epoch: 07, loss: -0.97759\n",
      "epoch: 08, loss: -0.97856\n",
      "epoch: 09, loss: -0.97939\n",
      "torch.Size([1024, 64])\n"
     ]
    },
    {
     "name": "stderr",
     "output_type": "stream",
     "text": [
      " 57%|█████▋    | 571/999 [11:33:54<8:43:30, 73.39s/it]"
     ]
    },
    {
     "name": "stdout",
     "output_type": "stream",
     "text": [
      "eigenvalues shape torch.Size([5]) eigenvectors shape torch.Size([5, 1024])\n",
      "571 /home/phdcs2/Hard_Disk/Datasets/Deep-Spectral-Segmentation/data/object-segmentation/ECSSD/features/0573_resized.pth\n",
      "dict_keys(['k', 'indices', 'file', 'id', 'model_name', 'patch_size', 'shape'])\n",
      "0573_resized\n",
      "Starting Training\n",
      "epoch: 00, loss: -0.87470\n",
      "epoch: 01, loss: -0.92404\n",
      "epoch: 02, loss: -0.93688\n",
      "epoch: 03, loss: -0.94417\n",
      "epoch: 04, loss: -0.94905\n",
      "epoch: 05, loss: -0.95270\n",
      "epoch: 06, loss: -0.95548\n",
      "epoch: 07, loss: -0.95784\n",
      "epoch: 08, loss: -0.95975\n",
      "epoch: 09, loss: -0.96139\n",
      "torch.Size([1024, 64])\n"
     ]
    },
    {
     "name": "stderr",
     "output_type": "stream",
     "text": [
      " 57%|█████▋    | 572/999 [11:35:01<8:28:09, 71.40s/it]"
     ]
    },
    {
     "name": "stdout",
     "output_type": "stream",
     "text": [
      "eigenvalues shape torch.Size([5]) eigenvectors shape torch.Size([5, 1024])\n",
      "572 /home/phdcs2/Hard_Disk/Datasets/Deep-Spectral-Segmentation/data/object-segmentation/ECSSD/features/0574_resized.pth\n",
      "dict_keys(['k', 'indices', 'file', 'id', 'model_name', 'patch_size', 'shape'])\n",
      "0574_resized\n",
      "Starting Training\n",
      "epoch: 00, loss: -0.87433\n",
      "epoch: 01, loss: -0.92729\n",
      "epoch: 02, loss: -0.93950\n",
      "epoch: 03, loss: -0.94645\n",
      "epoch: 04, loss: -0.95115\n",
      "epoch: 05, loss: -0.95457\n",
      "epoch: 06, loss: -0.95734\n",
      "epoch: 07, loss: -0.95949\n",
      "epoch: 08, loss: -0.96131\n",
      "epoch: 09, loss: -0.96283\n",
      "torch.Size([1024, 64])\n"
     ]
    },
    {
     "name": "stderr",
     "output_type": "stream",
     "text": [
      " 57%|█████▋    | 573/999 [11:36:18<8:40:28, 73.31s/it]"
     ]
    },
    {
     "name": "stdout",
     "output_type": "stream",
     "text": [
      "eigenvalues shape torch.Size([5]) eigenvectors shape torch.Size([5, 1024])\n",
      "573 /home/phdcs2/Hard_Disk/Datasets/Deep-Spectral-Segmentation/data/object-segmentation/ECSSD/features/0575_resized.pth\n",
      "dict_keys(['k', 'indices', 'file', 'id', 'model_name', 'patch_size', 'shape'])\n",
      "0575_resized\n"
     ]
    },
    {
     "name": "stderr",
     "output_type": "stream",
     "text": [
      "/home/phdcs2/Hard_Disk/Projects/T2I/deep-spectral-segmentation/venv/lib/python3.8/site-packages/sklearn/decomposition/_pca.py:642: RuntimeWarning: invalid value encountered in divide\n",
      "  self.explained_variance_ratio_ = self.explained_variance_ / total_var\n"
     ]
    },
    {
     "name": "stdout",
     "output_type": "stream",
     "text": [
      "Starting Training\n",
      "epoch: 00, loss: -0.90089\n",
      "epoch: 01, loss: -0.93974\n",
      "epoch: 02, loss: -0.94939\n",
      "epoch: 03, loss: -0.95499\n",
      "epoch: 04, loss: -0.95887\n",
      "epoch: 05, loss: -0.96173\n",
      "epoch: 06, loss: -0.96394\n",
      "epoch: 07, loss: -0.96580\n",
      "epoch: 08, loss: -0.96730\n",
      "epoch: 09, loss: -0.96862\n",
      "torch.Size([1024, 64])\n"
     ]
    },
    {
     "name": "stderr",
     "output_type": "stream",
     "text": [
      " 57%|█████▋    | 574/999 [11:37:37<8:49:27, 74.75s/it]"
     ]
    },
    {
     "name": "stdout",
     "output_type": "stream",
     "text": [
      "eigenvalues shape torch.Size([5]) eigenvectors shape torch.Size([5, 1024])\n",
      "574 /home/phdcs2/Hard_Disk/Datasets/Deep-Spectral-Segmentation/data/object-segmentation/ECSSD/features/0576_resized.pth\n",
      "dict_keys(['k', 'indices', 'file', 'id', 'model_name', 'patch_size', 'shape'])\n",
      "0576_resized\n",
      "Starting Training\n",
      "epoch: 00, loss: -0.86410\n",
      "epoch: 01, loss: -0.91899\n",
      "epoch: 02, loss: -0.93340\n",
      "epoch: 03, loss: -0.94138\n",
      "epoch: 04, loss: -0.94701\n",
      "epoch: 05, loss: -0.95089\n",
      "epoch: 06, loss: -0.95403\n",
      "epoch: 07, loss: -0.95666\n",
      "epoch: 08, loss: -0.95865\n",
      "epoch: 09, loss: -0.96040\n",
      "torch.Size([1024, 64])\n"
     ]
    },
    {
     "name": "stderr",
     "output_type": "stream",
     "text": [
      " 58%|█████▊    | 575/999 [11:38:54<8:54:22, 75.62s/it]"
     ]
    },
    {
     "name": "stdout",
     "output_type": "stream",
     "text": [
      "eigenvalues shape torch.Size([5]) eigenvectors shape torch.Size([5, 1024])\n",
      "575 /home/phdcs2/Hard_Disk/Datasets/Deep-Spectral-Segmentation/data/object-segmentation/ECSSD/features/0577_resized.pth\n",
      "dict_keys(['k', 'indices', 'file', 'id', 'model_name', 'patch_size', 'shape'])\n",
      "0577_resized\n",
      "Starting Training\n",
      "epoch: 00, loss: -0.87198\n",
      "epoch: 01, loss: -0.92281\n",
      "epoch: 02, loss: -0.93601\n",
      "epoch: 03, loss: -0.94373\n",
      "epoch: 04, loss: -0.94883\n",
      "epoch: 05, loss: -0.95258\n",
      "epoch: 06, loss: -0.95555\n",
      "epoch: 07, loss: -0.95789\n",
      "epoch: 08, loss: -0.95986\n",
      "epoch: 09, loss: -0.96158\n",
      "torch.Size([1024, 64])\n"
     ]
    },
    {
     "name": "stderr",
     "output_type": "stream",
     "text": [
      " 58%|█████▊    | 576/999 [11:40:06<8:45:44, 74.57s/it]"
     ]
    },
    {
     "name": "stdout",
     "output_type": "stream",
     "text": [
      "eigenvalues shape torch.Size([5]) eigenvectors shape torch.Size([5, 1024])\n",
      "576 /home/phdcs2/Hard_Disk/Datasets/Deep-Spectral-Segmentation/data/object-segmentation/ECSSD/features/0578_resized.pth\n",
      "dict_keys(['k', 'indices', 'file', 'id', 'model_name', 'patch_size', 'shape'])\n",
      "0578_resized\n",
      "Starting Training\n",
      "epoch: 00, loss: -0.86876\n",
      "epoch: 01, loss: -0.92233\n",
      "epoch: 02, loss: -0.93559\n",
      "epoch: 03, loss: -0.94323\n",
      "epoch: 04, loss: -0.94845\n",
      "epoch: 05, loss: -0.95214\n",
      "epoch: 06, loss: -0.95494\n",
      "epoch: 07, loss: -0.95740\n",
      "epoch: 08, loss: -0.95927\n",
      "epoch: 09, loss: -0.96097\n",
      "torch.Size([1024, 64])\n"
     ]
    },
    {
     "name": "stderr",
     "output_type": "stream",
     "text": [
      " 58%|█████▊    | 577/999 [11:41:21<8:44:04, 74.51s/it]"
     ]
    },
    {
     "name": "stdout",
     "output_type": "stream",
     "text": [
      "eigenvalues shape torch.Size([5]) eigenvectors shape torch.Size([5, 1024])\n",
      "577 /home/phdcs2/Hard_Disk/Datasets/Deep-Spectral-Segmentation/data/object-segmentation/ECSSD/features/0579_resized.pth\n",
      "dict_keys(['k', 'indices', 'file', 'id', 'model_name', 'patch_size', 'shape'])\n",
      "0579_resized\n"
     ]
    },
    {
     "name": "stderr",
     "output_type": "stream",
     "text": [
      "/home/phdcs2/Hard_Disk/Projects/T2I/deep-spectral-segmentation/venv/lib/python3.8/site-packages/sklearn/decomposition/_pca.py:642: RuntimeWarning: invalid value encountered in divide\n",
      "  self.explained_variance_ratio_ = self.explained_variance_ / total_var\n"
     ]
    },
    {
     "name": "stdout",
     "output_type": "stream",
     "text": [
      "Starting Training\n",
      "epoch: 00, loss: -0.93271\n",
      "epoch: 01, loss: -0.96209\n",
      "epoch: 02, loss: -0.96800\n",
      "epoch: 03, loss: -0.97134\n",
      "epoch: 04, loss: -0.97359\n",
      "epoch: 05, loss: -0.97530\n",
      "epoch: 06, loss: -0.97663\n",
      "epoch: 07, loss: -0.97771\n",
      "epoch: 08, loss: -0.97861\n",
      "epoch: 09, loss: -0.97939\n",
      "torch.Size([1024, 64])\n"
     ]
    },
    {
     "name": "stderr",
     "output_type": "stream",
     "text": [
      " 58%|█████▊    | 578/999 [11:42:36<8:45:02, 74.83s/it]"
     ]
    },
    {
     "name": "stdout",
     "output_type": "stream",
     "text": [
      "eigenvalues shape torch.Size([5]) eigenvectors shape torch.Size([5, 1024])\n",
      "578 /home/phdcs2/Hard_Disk/Datasets/Deep-Spectral-Segmentation/data/object-segmentation/ECSSD/features/0580_resized.pth\n",
      "dict_keys(['k', 'indices', 'file', 'id', 'model_name', 'patch_size', 'shape'])\n",
      "0580_resized\n",
      "Starting Training\n",
      "epoch: 00, loss: -0.92520\n",
      "epoch: 01, loss: -0.95588\n",
      "epoch: 02, loss: -0.96253\n",
      "epoch: 03, loss: -0.96644\n",
      "epoch: 04, loss: -0.96913\n",
      "epoch: 05, loss: -0.97112\n",
      "epoch: 06, loss: -0.97269\n",
      "epoch: 07, loss: -0.97396\n",
      "epoch: 08, loss: -0.97506\n",
      "epoch: 09, loss: -0.97597\n",
      "torch.Size([1024, 64])\n"
     ]
    },
    {
     "name": "stderr",
     "output_type": "stream",
     "text": [
      " 58%|█████▊    | 579/999 [11:43:47<8:35:10, 73.60s/it]"
     ]
    },
    {
     "name": "stdout",
     "output_type": "stream",
     "text": [
      "eigenvalues shape torch.Size([5]) eigenvectors shape torch.Size([5, 1024])\n",
      "579 /home/phdcs2/Hard_Disk/Datasets/Deep-Spectral-Segmentation/data/object-segmentation/ECSSD/features/0581_resized.pth\n",
      "dict_keys(['k', 'indices', 'file', 'id', 'model_name', 'patch_size', 'shape'])\n",
      "0581_resized\n",
      "Starting Training\n",
      "epoch: 00, loss: -0.87827\n",
      "epoch: 01, loss: -0.92550\n",
      "epoch: 02, loss: -0.93801\n",
      "epoch: 03, loss: -0.94519\n",
      "epoch: 04, loss: -0.94988\n",
      "epoch: 05, loss: -0.95324\n",
      "epoch: 06, loss: -0.95601\n",
      "epoch: 07, loss: -0.95824\n",
      "epoch: 08, loss: -0.95999\n",
      "epoch: 09, loss: -0.96156\n",
      "torch.Size([1024, 64])\n"
     ]
    },
    {
     "name": "stderr",
     "output_type": "stream",
     "text": [
      " 58%|█████▊    | 580/999 [11:45:00<8:32:26, 73.38s/it]"
     ]
    },
    {
     "name": "stdout",
     "output_type": "stream",
     "text": [
      "eigenvalues shape torch.Size([5]) eigenvectors shape torch.Size([5, 1024])\n",
      "580 /home/phdcs2/Hard_Disk/Datasets/Deep-Spectral-Segmentation/data/object-segmentation/ECSSD/features/0582_resized.pth\n",
      "dict_keys(['k', 'indices', 'file', 'id', 'model_name', 'patch_size', 'shape'])\n",
      "0582_resized\n",
      "Starting Training\n",
      "epoch: 00, loss: -0.82131\n",
      "epoch: 01, loss: -0.89239\n",
      "epoch: 02, loss: -0.91076\n",
      "epoch: 03, loss: -0.92109\n",
      "epoch: 04, loss: -0.92781\n",
      "epoch: 05, loss: -0.93250\n",
      "epoch: 06, loss: -0.93665\n",
      "epoch: 07, loss: -0.93968\n",
      "epoch: 08, loss: -0.94219\n",
      "epoch: 09, loss: -0.94435\n",
      "torch.Size([1024, 64])\n"
     ]
    },
    {
     "name": "stderr",
     "output_type": "stream",
     "text": [
      " 58%|█████▊    | 581/999 [11:46:11<8:27:12, 72.80s/it]"
     ]
    },
    {
     "name": "stdout",
     "output_type": "stream",
     "text": [
      "eigenvalues shape torch.Size([5]) eigenvectors shape torch.Size([5, 1024])\n",
      "581 /home/phdcs2/Hard_Disk/Datasets/Deep-Spectral-Segmentation/data/object-segmentation/ECSSD/features/0583_resized.pth\n",
      "dict_keys(['k', 'indices', 'file', 'id', 'model_name', 'patch_size', 'shape'])\n",
      "0583_resized\n",
      "Starting Training\n",
      "epoch: 00, loss: -0.85619\n",
      "epoch: 01, loss: -0.91469\n",
      "epoch: 02, loss: -0.92926\n",
      "epoch: 03, loss: -0.93745\n",
      "epoch: 04, loss: -0.94308\n",
      "epoch: 05, loss: -0.94720\n",
      "epoch: 06, loss: -0.95038\n",
      "epoch: 07, loss: -0.95292\n",
      "epoch: 08, loss: -0.95518\n",
      "epoch: 09, loss: -0.95695\n",
      "torch.Size([1024, 64])\n"
     ]
    },
    {
     "name": "stderr",
     "output_type": "stream",
     "text": [
      " 58%|█████▊    | 582/999 [11:47:17<8:11:39, 70.74s/it]"
     ]
    },
    {
     "name": "stdout",
     "output_type": "stream",
     "text": [
      "eigenvalues shape torch.Size([5]) eigenvectors shape torch.Size([5, 1024])\n",
      "582 /home/phdcs2/Hard_Disk/Datasets/Deep-Spectral-Segmentation/data/object-segmentation/ECSSD/features/0584_resized.pth\n",
      "dict_keys(['k', 'indices', 'file', 'id', 'model_name', 'patch_size', 'shape'])\n",
      "0584_resized\n"
     ]
    },
    {
     "name": "stderr",
     "output_type": "stream",
     "text": [
      "/home/phdcs2/Hard_Disk/Projects/T2I/deep-spectral-segmentation/venv/lib/python3.8/site-packages/sklearn/decomposition/_pca.py:642: RuntimeWarning: invalid value encountered in divide\n",
      "  self.explained_variance_ratio_ = self.explained_variance_ / total_var\n"
     ]
    },
    {
     "name": "stdout",
     "output_type": "stream",
     "text": [
      "Starting Training\n",
      "epoch: 00, loss: -0.92327\n",
      "epoch: 01, loss: -0.95294\n",
      "epoch: 02, loss: -0.96000\n",
      "epoch: 03, loss: -0.96418\n",
      "epoch: 04, loss: -0.96701\n",
      "epoch: 05, loss: -0.96913\n",
      "epoch: 06, loss: -0.97078\n",
      "epoch: 07, loss: -0.97217\n",
      "epoch: 08, loss: -0.97332\n",
      "epoch: 09, loss: -0.97430\n",
      "torch.Size([1024, 64])\n"
     ]
    },
    {
     "name": "stderr",
     "output_type": "stream",
     "text": [
      " 58%|█████▊    | 583/999 [11:48:31<8:16:56, 71.67s/it]"
     ]
    },
    {
     "name": "stdout",
     "output_type": "stream",
     "text": [
      "eigenvalues shape torch.Size([5]) eigenvectors shape torch.Size([5, 1024])\n",
      "583 /home/phdcs2/Hard_Disk/Datasets/Deep-Spectral-Segmentation/data/object-segmentation/ECSSD/features/0585_resized.pth\n",
      "dict_keys(['k', 'indices', 'file', 'id', 'model_name', 'patch_size', 'shape'])\n",
      "0585_resized\n",
      "Starting Training\n",
      "epoch: 00, loss: -0.92097\n",
      "epoch: 01, loss: -0.95294\n",
      "epoch: 02, loss: -0.96018\n",
      "epoch: 03, loss: -0.96437\n",
      "epoch: 04, loss: -0.96723\n",
      "epoch: 05, loss: -0.96939\n",
      "epoch: 06, loss: -0.97102\n",
      "epoch: 07, loss: -0.97239\n",
      "epoch: 08, loss: -0.97354\n",
      "epoch: 09, loss: -0.97452\n",
      "torch.Size([1024, 64])\n"
     ]
    },
    {
     "name": "stderr",
     "output_type": "stream",
     "text": [
      " 58%|█████▊    | 584/999 [11:49:45<8:19:32, 72.22s/it]"
     ]
    },
    {
     "name": "stdout",
     "output_type": "stream",
     "text": [
      "eigenvalues shape torch.Size([5]) eigenvectors shape torch.Size([5, 1024])\n",
      "584 /home/phdcs2/Hard_Disk/Datasets/Deep-Spectral-Segmentation/data/object-segmentation/ECSSD/features/0586_resized.pth\n",
      "dict_keys(['k', 'indices', 'file', 'id', 'model_name', 'patch_size', 'shape'])\n",
      "0586_resized\n",
      "Starting Training\n",
      "epoch: 00, loss: -0.92254\n",
      "epoch: 01, loss: -0.95447\n",
      "epoch: 02, loss: -0.96199\n",
      "epoch: 03, loss: -0.96637\n",
      "epoch: 04, loss: -0.96931\n",
      "epoch: 05, loss: -0.97148\n",
      "epoch: 06, loss: -0.97317\n",
      "epoch: 07, loss: -0.97455\n",
      "epoch: 08, loss: -0.97570\n",
      "epoch: 09, loss: -0.97667\n",
      "torch.Size([1024, 64])\n"
     ]
    },
    {
     "name": "stderr",
     "output_type": "stream",
     "text": [
      " 59%|█████▊    | 585/999 [11:50:59<8:23:52, 73.03s/it]"
     ]
    },
    {
     "name": "stdout",
     "output_type": "stream",
     "text": [
      "eigenvalues shape torch.Size([5]) eigenvectors shape torch.Size([5, 1024])\n",
      "585 /home/phdcs2/Hard_Disk/Datasets/Deep-Spectral-Segmentation/data/object-segmentation/ECSSD/features/0587_resized.pth\n",
      "dict_keys(['k', 'indices', 'file', 'id', 'model_name', 'patch_size', 'shape'])\n",
      "0587_resized\n"
     ]
    },
    {
     "name": "stderr",
     "output_type": "stream",
     "text": [
      "/home/phdcs2/Hard_Disk/Projects/T2I/deep-spectral-segmentation/venv/lib/python3.8/site-packages/sklearn/decomposition/_pca.py:642: RuntimeWarning: invalid value encountered in divide\n",
      "  self.explained_variance_ratio_ = self.explained_variance_ / total_var\n"
     ]
    },
    {
     "name": "stdout",
     "output_type": "stream",
     "text": [
      "Starting Training\n",
      "epoch: 00, loss: -0.90675\n",
      "epoch: 01, loss: -0.94203\n",
      "epoch: 02, loss: -0.95110\n",
      "epoch: 03, loss: -0.95638\n",
      "epoch: 04, loss: -0.96004\n",
      "epoch: 05, loss: -0.96282\n",
      "epoch: 06, loss: -0.96496\n",
      "epoch: 07, loss: -0.96673\n",
      "epoch: 08, loss: -0.96818\n",
      "epoch: 09, loss: -0.96945\n",
      "torch.Size([1024, 64])\n"
     ]
    },
    {
     "name": "stderr",
     "output_type": "stream",
     "text": [
      " 59%|█████▊    | 586/999 [11:52:11<8:19:45, 72.60s/it]"
     ]
    },
    {
     "name": "stdout",
     "output_type": "stream",
     "text": [
      "eigenvalues shape torch.Size([5]) eigenvectors shape torch.Size([5, 1024])\n",
      "586 /home/phdcs2/Hard_Disk/Datasets/Deep-Spectral-Segmentation/data/object-segmentation/ECSSD/features/0588_resized.pth\n",
      "dict_keys(['k', 'indices', 'file', 'id', 'model_name', 'patch_size', 'shape'])\n",
      "0588_resized\n",
      "Starting Training\n",
      "epoch: 00, loss: -0.85813\n",
      "epoch: 01, loss: -0.91383\n",
      "epoch: 02, loss: -0.92913\n",
      "epoch: 03, loss: -0.93759\n",
      "epoch: 04, loss: -0.94336\n",
      "epoch: 05, loss: -0.94754\n",
      "epoch: 06, loss: -0.95072\n",
      "epoch: 07, loss: -0.95328\n",
      "epoch: 08, loss: -0.95543\n",
      "epoch: 09, loss: -0.95728\n",
      "torch.Size([1024, 64])\n"
     ]
    },
    {
     "name": "stderr",
     "output_type": "stream",
     "text": [
      " 59%|█████▉    | 587/999 [11:53:16<8:02:16, 70.23s/it]"
     ]
    },
    {
     "name": "stdout",
     "output_type": "stream",
     "text": [
      "eigenvalues shape torch.Size([5]) eigenvectors shape torch.Size([5, 1024])\n",
      "587 /home/phdcs2/Hard_Disk/Datasets/Deep-Spectral-Segmentation/data/object-segmentation/ECSSD/features/0589_resized.pth\n",
      "dict_keys(['k', 'indices', 'file', 'id', 'model_name', 'patch_size', 'shape'])\n",
      "0589_resized\n",
      "Starting Training\n",
      "epoch: 00, loss: -0.88100\n",
      "epoch: 01, loss: -0.93003\n",
      "epoch: 02, loss: -0.94208\n",
      "epoch: 03, loss: -0.94884\n",
      "epoch: 04, loss: -0.95354\n",
      "epoch: 05, loss: -0.95691\n",
      "epoch: 06, loss: -0.95952\n",
      "epoch: 07, loss: -0.96172\n",
      "epoch: 08, loss: -0.96349\n",
      "epoch: 09, loss: -0.96500\n",
      "torch.Size([1024, 64])\n"
     ]
    },
    {
     "name": "stderr",
     "output_type": "stream",
     "text": [
      " 59%|█████▉    | 588/999 [11:54:29<8:06:25, 71.01s/it]"
     ]
    },
    {
     "name": "stdout",
     "output_type": "stream",
     "text": [
      "eigenvalues shape torch.Size([5]) eigenvectors shape torch.Size([5, 1024])\n",
      "588 /home/phdcs2/Hard_Disk/Datasets/Deep-Spectral-Segmentation/data/object-segmentation/ECSSD/features/0590_resized.pth\n",
      "dict_keys(['k', 'indices', 'file', 'id', 'model_name', 'patch_size', 'shape'])\n",
      "0590_resized\n",
      "Starting Training\n",
      "epoch: 00, loss: -0.89419\n",
      "epoch: 01, loss: -0.94054\n",
      "epoch: 02, loss: -0.95123\n",
      "epoch: 03, loss: -0.95721\n",
      "epoch: 04, loss: -0.96117\n",
      "epoch: 05, loss: -0.96413\n",
      "epoch: 06, loss: -0.96647\n",
      "epoch: 07, loss: -0.96824\n",
      "epoch: 08, loss: -0.96977\n",
      "epoch: 09, loss: -0.97110\n",
      "torch.Size([1024, 64])\n"
     ]
    },
    {
     "name": "stderr",
     "output_type": "stream",
     "text": [
      " 59%|█████▉    | 589/999 [11:55:46<8:18:12, 72.91s/it]"
     ]
    },
    {
     "name": "stdout",
     "output_type": "stream",
     "text": [
      "eigenvalues shape torch.Size([5]) eigenvectors shape torch.Size([5, 1024])\n",
      "589 /home/phdcs2/Hard_Disk/Datasets/Deep-Spectral-Segmentation/data/object-segmentation/ECSSD/features/0591_resized.pth\n",
      "dict_keys(['k', 'indices', 'file', 'id', 'model_name', 'patch_size', 'shape'])\n",
      "0591_resized\n"
     ]
    },
    {
     "name": "stderr",
     "output_type": "stream",
     "text": [
      "/home/phdcs2/Hard_Disk/Projects/T2I/deep-spectral-segmentation/venv/lib/python3.8/site-packages/sklearn/decomposition/_pca.py:642: RuntimeWarning: invalid value encountered in divide\n",
      "  self.explained_variance_ratio_ = self.explained_variance_ / total_var\n"
     ]
    },
    {
     "name": "stdout",
     "output_type": "stream",
     "text": [
      "Starting Training\n",
      "epoch: 00, loss: -0.92104\n",
      "epoch: 01, loss: -0.95290\n",
      "epoch: 02, loss: -0.96077\n",
      "epoch: 03, loss: -0.96532\n",
      "epoch: 04, loss: -0.96840\n",
      "epoch: 05, loss: -0.97066\n",
      "epoch: 06, loss: -0.97246\n",
      "epoch: 07, loss: -0.97389\n",
      "epoch: 08, loss: -0.97509\n",
      "epoch: 09, loss: -0.97611\n",
      "torch.Size([1024, 64])\n"
     ]
    },
    {
     "name": "stderr",
     "output_type": "stream",
     "text": [
      " 59%|█████▉    | 590/999 [11:57:00<8:18:44, 73.17s/it]"
     ]
    },
    {
     "name": "stdout",
     "output_type": "stream",
     "text": [
      "eigenvalues shape torch.Size([5]) eigenvectors shape torch.Size([5, 1024])\n",
      "590 /home/phdcs2/Hard_Disk/Datasets/Deep-Spectral-Segmentation/data/object-segmentation/ECSSD/features/0592_resized.pth\n",
      "dict_keys(['k', 'indices', 'file', 'id', 'model_name', 'patch_size', 'shape'])\n",
      "0592_resized\n",
      "Starting Training\n",
      "epoch: 00, loss: -0.90302\n",
      "epoch: 01, loss: -0.94234\n",
      "epoch: 02, loss: -0.95183\n",
      "epoch: 03, loss: -0.95726\n",
      "epoch: 04, loss: -0.96083\n",
      "epoch: 05, loss: -0.96361\n",
      "epoch: 06, loss: -0.96562\n",
      "epoch: 07, loss: -0.96739\n",
      "epoch: 08, loss: -0.96876\n",
      "epoch: 09, loss: -0.96994\n",
      "torch.Size([1024, 64])\n"
     ]
    },
    {
     "name": "stderr",
     "output_type": "stream",
     "text": [
      " 59%|█████▉    | 591/999 [11:58:16<8:24:46, 74.23s/it]"
     ]
    },
    {
     "name": "stdout",
     "output_type": "stream",
     "text": [
      "eigenvalues shape torch.Size([5]) eigenvectors shape torch.Size([5, 1024])\n",
      "591 /home/phdcs2/Hard_Disk/Datasets/Deep-Spectral-Segmentation/data/object-segmentation/ECSSD/features/0593_resized.pth\n",
      "dict_keys(['k', 'indices', 'file', 'id', 'model_name', 'patch_size', 'shape'])\n",
      "0593_resized\n",
      "Starting Training\n",
      "epoch: 00, loss: -0.88630\n",
      "epoch: 01, loss: -0.93117\n",
      "epoch: 02, loss: -0.94091\n",
      "epoch: 03, loss: -0.94653\n",
      "epoch: 04, loss: -0.95046\n",
      "epoch: 05, loss: -0.95326\n",
      "epoch: 06, loss: -0.95558\n",
      "epoch: 07, loss: -0.95748\n",
      "epoch: 08, loss: -0.95902\n",
      "epoch: 09, loss: -0.96043\n",
      "torch.Size([1024, 64])\n"
     ]
    },
    {
     "name": "stderr",
     "output_type": "stream",
     "text": [
      " 59%|█████▉    | 592/999 [11:59:36<8:34:55, 75.91s/it]"
     ]
    },
    {
     "name": "stdout",
     "output_type": "stream",
     "text": [
      "eigenvalues shape torch.Size([5]) eigenvectors shape torch.Size([5, 1024])\n",
      "592 /home/phdcs2/Hard_Disk/Datasets/Deep-Spectral-Segmentation/data/object-segmentation/ECSSD/features/0594_resized.pth\n",
      "dict_keys(['k', 'indices', 'file', 'id', 'model_name', 'patch_size', 'shape'])\n",
      "0594_resized\n"
     ]
    },
    {
     "name": "stderr",
     "output_type": "stream",
     "text": [
      "/home/phdcs2/Hard_Disk/Projects/T2I/deep-spectral-segmentation/venv/lib/python3.8/site-packages/sklearn/decomposition/_pca.py:642: RuntimeWarning: invalid value encountered in divide\n",
      "  self.explained_variance_ratio_ = self.explained_variance_ / total_var\n"
     ]
    },
    {
     "name": "stdout",
     "output_type": "stream",
     "text": [
      "Starting Training\n",
      "epoch: 00, loss: -0.92941\n",
      "epoch: 01, loss: -0.95735\n",
      "epoch: 02, loss: -0.96377\n",
      "epoch: 03, loss: -0.96752\n",
      "epoch: 04, loss: -0.97006\n",
      "epoch: 05, loss: -0.97196\n",
      "epoch: 06, loss: -0.97346\n",
      "epoch: 07, loss: -0.97467\n",
      "epoch: 08, loss: -0.97567\n",
      "epoch: 09, loss: -0.97655\n",
      "torch.Size([1024, 64])\n"
     ]
    },
    {
     "name": "stderr",
     "output_type": "stream",
     "text": [
      " 59%|█████▉    | 593/999 [12:00:45<8:19:18, 73.79s/it]"
     ]
    },
    {
     "name": "stdout",
     "output_type": "stream",
     "text": [
      "eigenvalues shape torch.Size([5]) eigenvectors shape torch.Size([5, 1024])\n",
      "593 /home/phdcs2/Hard_Disk/Datasets/Deep-Spectral-Segmentation/data/object-segmentation/ECSSD/features/0595_resized.pth\n",
      "dict_keys(['k', 'indices', 'file', 'id', 'model_name', 'patch_size', 'shape'])\n",
      "0595_resized\n",
      "Starting Training\n",
      "epoch: 00, loss: -0.87952\n",
      "epoch: 01, loss: -0.93132\n",
      "epoch: 02, loss: -0.94346\n",
      "epoch: 03, loss: -0.95039\n",
      "epoch: 04, loss: -0.95503\n",
      "epoch: 05, loss: -0.95832\n",
      "epoch: 06, loss: -0.96090\n",
      "epoch: 07, loss: -0.96305\n",
      "epoch: 08, loss: -0.96465\n",
      "epoch: 09, loss: -0.96611\n",
      "torch.Size([1024, 64])\n"
     ]
    },
    {
     "name": "stderr",
     "output_type": "stream",
     "text": [
      " 59%|█████▉    | 594/999 [12:01:54<8:08:00, 72.30s/it]"
     ]
    },
    {
     "name": "stdout",
     "output_type": "stream",
     "text": [
      "eigenvalues shape torch.Size([5]) eigenvectors shape torch.Size([5, 1024])\n",
      "594 /home/phdcs2/Hard_Disk/Datasets/Deep-Spectral-Segmentation/data/object-segmentation/ECSSD/features/0596_resized.pth\n",
      "dict_keys(['k', 'indices', 'file', 'id', 'model_name', 'patch_size', 'shape'])\n",
      "0596_resized\n",
      "Starting Training\n",
      "epoch: 00, loss: -0.90391\n",
      "epoch: 01, loss: -0.94186\n",
      "epoch: 02, loss: -0.95093\n",
      "epoch: 03, loss: -0.95631\n",
      "epoch: 04, loss: -0.95996\n",
      "epoch: 05, loss: -0.96263\n",
      "epoch: 06, loss: -0.96482\n",
      "epoch: 07, loss: -0.96653\n",
      "epoch: 08, loss: -0.96798\n",
      "epoch: 09, loss: -0.96921\n",
      "torch.Size([1024, 64])\n"
     ]
    },
    {
     "name": "stderr",
     "output_type": "stream",
     "text": [
      " 60%|█████▉    | 595/999 [12:03:07<8:08:18, 72.52s/it]"
     ]
    },
    {
     "name": "stdout",
     "output_type": "stream",
     "text": [
      "eigenvalues shape torch.Size([5]) eigenvectors shape torch.Size([5, 1024])\n",
      "595 /home/phdcs2/Hard_Disk/Datasets/Deep-Spectral-Segmentation/data/object-segmentation/ECSSD/features/0597_resized.pth\n",
      "dict_keys(['k', 'indices', 'file', 'id', 'model_name', 'patch_size', 'shape'])\n",
      "0597_resized\n"
     ]
    },
    {
     "name": "stderr",
     "output_type": "stream",
     "text": [
      "/home/phdcs2/Hard_Disk/Projects/T2I/deep-spectral-segmentation/venv/lib/python3.8/site-packages/sklearn/decomposition/_pca.py:642: RuntimeWarning: invalid value encountered in divide\n",
      "  self.explained_variance_ratio_ = self.explained_variance_ / total_var\n"
     ]
    },
    {
     "name": "stdout",
     "output_type": "stream",
     "text": [
      "Starting Training\n",
      "epoch: 00, loss: -0.92969\n",
      "epoch: 01, loss: -0.95932\n",
      "epoch: 02, loss: -0.96582\n",
      "epoch: 03, loss: -0.96956\n",
      "epoch: 04, loss: -0.97213\n",
      "epoch: 05, loss: -0.97401\n",
      "epoch: 06, loss: -0.97550\n",
      "epoch: 07, loss: -0.97672\n",
      "epoch: 08, loss: -0.97772\n",
      "epoch: 09, loss: -0.97859\n",
      "torch.Size([1024, 64])\n"
     ]
    },
    {
     "name": "stderr",
     "output_type": "stream",
     "text": [
      " 60%|█████▉    | 596/999 [12:04:20<8:09:05, 72.82s/it]"
     ]
    },
    {
     "name": "stdout",
     "output_type": "stream",
     "text": [
      "eigenvalues shape torch.Size([5]) eigenvectors shape torch.Size([5, 1024])\n",
      "596 /home/phdcs2/Hard_Disk/Datasets/Deep-Spectral-Segmentation/data/object-segmentation/ECSSD/features/0598_resized.pth\n",
      "dict_keys(['k', 'indices', 'file', 'id', 'model_name', 'patch_size', 'shape'])\n",
      "0598_resized\n",
      "Starting Training\n",
      "epoch: 00, loss: -0.91569\n",
      "epoch: 01, loss: -0.94779\n",
      "epoch: 02, loss: -0.95591\n",
      "epoch: 03, loss: -0.96060\n",
      "epoch: 04, loss: -0.96381\n",
      "epoch: 05, loss: -0.96619\n",
      "epoch: 06, loss: -0.96807\n",
      "epoch: 07, loss: -0.96958\n",
      "epoch: 08, loss: -0.97087\n",
      "epoch: 09, loss: -0.97198\n",
      "torch.Size([1024, 64])\n"
     ]
    },
    {
     "name": "stderr",
     "output_type": "stream",
     "text": [
      " 60%|█████▉    | 597/999 [12:05:22<7:45:31, 69.48s/it]"
     ]
    },
    {
     "name": "stdout",
     "output_type": "stream",
     "text": [
      "eigenvalues shape torch.Size([5]) eigenvectors shape torch.Size([5, 1024])\n",
      "597 /home/phdcs2/Hard_Disk/Datasets/Deep-Spectral-Segmentation/data/object-segmentation/ECSSD/features/0599_resized.pth\n",
      "dict_keys(['k', 'indices', 'file', 'id', 'model_name', 'patch_size', 'shape'])\n",
      "0599_resized\n",
      "Starting Training\n",
      "epoch: 00, loss: -0.88644\n",
      "epoch: 01, loss: -0.93420\n",
      "epoch: 02, loss: -0.94571\n",
      "epoch: 03, loss: -0.95210\n",
      "epoch: 04, loss: -0.95643\n",
      "epoch: 05, loss: -0.95953\n",
      "epoch: 06, loss: -0.96199\n",
      "epoch: 07, loss: -0.96408\n",
      "epoch: 08, loss: -0.96561\n",
      "epoch: 09, loss: -0.96700\n",
      "torch.Size([1024, 64])\n"
     ]
    },
    {
     "name": "stderr",
     "output_type": "stream",
     "text": [
      " 60%|█████▉    | 598/999 [12:06:34<7:49:28, 70.24s/it]"
     ]
    },
    {
     "name": "stdout",
     "output_type": "stream",
     "text": [
      "eigenvalues shape torch.Size([5]) eigenvectors shape torch.Size([5, 1024])\n",
      "598 /home/phdcs2/Hard_Disk/Datasets/Deep-Spectral-Segmentation/data/object-segmentation/ECSSD/features/0600_resized.pth\n",
      "dict_keys(['k', 'indices', 'file', 'id', 'model_name', 'patch_size', 'shape'])\n",
      "0600_resized\n"
     ]
    },
    {
     "name": "stderr",
     "output_type": "stream",
     "text": [
      "/home/phdcs2/Hard_Disk/Projects/T2I/deep-spectral-segmentation/venv/lib/python3.8/site-packages/sklearn/decomposition/_pca.py:642: RuntimeWarning: invalid value encountered in divide\n",
      "  self.explained_variance_ratio_ = self.explained_variance_ / total_var\n"
     ]
    },
    {
     "name": "stdout",
     "output_type": "stream",
     "text": [
      "Starting Training\n",
      "epoch: 00, loss: -0.93089\n",
      "epoch: 01, loss: -0.95869\n",
      "epoch: 02, loss: -0.96511\n",
      "epoch: 03, loss: -0.96882\n",
      "epoch: 04, loss: -0.97137\n",
      "epoch: 05, loss: -0.97329\n",
      "epoch: 06, loss: -0.97473\n",
      "epoch: 07, loss: -0.97593\n",
      "epoch: 08, loss: -0.97696\n",
      "epoch: 09, loss: -0.97782\n",
      "torch.Size([1024, 64])\n"
     ]
    },
    {
     "name": "stderr",
     "output_type": "stream",
     "text": [
      " 60%|█████▉    | 599/999 [12:07:46<7:51:05, 70.66s/it]"
     ]
    },
    {
     "name": "stdout",
     "output_type": "stream",
     "text": [
      "eigenvalues shape torch.Size([5]) eigenvectors shape torch.Size([5, 1024])\n",
      "599 /home/phdcs2/Hard_Disk/Datasets/Deep-Spectral-Segmentation/data/object-segmentation/ECSSD/features/0601_resized.pth\n",
      "dict_keys(['k', 'indices', 'file', 'id', 'model_name', 'patch_size', 'shape'])\n",
      "0601_resized\n",
      "Starting Training\n",
      "epoch: 00, loss: -0.86413\n",
      "epoch: 01, loss: -0.91660\n",
      "epoch: 02, loss: -0.93103\n",
      "epoch: 03, loss: -0.93926\n",
      "epoch: 04, loss: -0.94492\n",
      "epoch: 05, loss: -0.94906\n",
      "epoch: 06, loss: -0.95231\n",
      "epoch: 07, loss: -0.95484\n",
      "epoch: 08, loss: -0.95702\n",
      "epoch: 09, loss: -0.95875\n",
      "torch.Size([1024, 64])\n"
     ]
    },
    {
     "name": "stderr",
     "output_type": "stream",
     "text": [
      " 60%|██████    | 600/999 [12:08:58<7:52:51, 71.11s/it]"
     ]
    },
    {
     "name": "stdout",
     "output_type": "stream",
     "text": [
      "eigenvalues shape torch.Size([5]) eigenvectors shape torch.Size([5, 1024])\n",
      "600 /home/phdcs2/Hard_Disk/Datasets/Deep-Spectral-Segmentation/data/object-segmentation/ECSSD/features/0602_resized.pth\n",
      "dict_keys(['k', 'indices', 'file', 'id', 'model_name', 'patch_size', 'shape'])\n",
      "0602_resized\n"
     ]
    },
    {
     "name": "stderr",
     "output_type": "stream",
     "text": [
      "/home/phdcs2/Hard_Disk/Projects/T2I/deep-spectral-segmentation/venv/lib/python3.8/site-packages/sklearn/decomposition/_pca.py:642: RuntimeWarning: invalid value encountered in divide\n",
      "  self.explained_variance_ratio_ = self.explained_variance_ / total_var\n"
     ]
    },
    {
     "name": "stdout",
     "output_type": "stream",
     "text": [
      "Starting Training\n",
      "epoch: 00, loss: -0.91570\n",
      "epoch: 01, loss: -0.95085\n",
      "epoch: 02, loss: -0.95896\n",
      "epoch: 03, loss: -0.96358\n",
      "epoch: 04, loss: -0.96671\n",
      "epoch: 05, loss: -0.96902\n",
      "epoch: 06, loss: -0.97085\n",
      "epoch: 07, loss: -0.97233\n",
      "epoch: 08, loss: -0.97353\n",
      "epoch: 09, loss: -0.97458\n",
      "torch.Size([1024, 64])\n"
     ]
    },
    {
     "name": "stderr",
     "output_type": "stream",
     "text": [
      " 60%|██████    | 601/999 [12:10:11<7:54:43, 71.57s/it]"
     ]
    },
    {
     "name": "stdout",
     "output_type": "stream",
     "text": [
      "eigenvalues shape torch.Size([5]) eigenvectors shape torch.Size([5, 1024])\n",
      "601 /home/phdcs2/Hard_Disk/Datasets/Deep-Spectral-Segmentation/data/object-segmentation/ECSSD/features/0603_resized.pth\n",
      "dict_keys(['k', 'indices', 'file', 'id', 'model_name', 'patch_size', 'shape'])\n",
      "0603_resized\n"
     ]
    },
    {
     "name": "stderr",
     "output_type": "stream",
     "text": [
      "/home/phdcs2/Hard_Disk/Projects/T2I/deep-spectral-segmentation/venv/lib/python3.8/site-packages/sklearn/decomposition/_pca.py:642: RuntimeWarning: invalid value encountered in divide\n",
      "  self.explained_variance_ratio_ = self.explained_variance_ / total_var\n"
     ]
    },
    {
     "name": "stdout",
     "output_type": "stream",
     "text": [
      "Starting Training\n",
      "epoch: 00, loss: -0.92516\n",
      "epoch: 01, loss: -0.95733\n",
      "epoch: 02, loss: -0.96392\n",
      "epoch: 03, loss: -0.96771\n",
      "epoch: 04, loss: -0.97028\n",
      "epoch: 05, loss: -0.97218\n",
      "epoch: 06, loss: -0.97371\n",
      "epoch: 07, loss: -0.97491\n",
      "epoch: 08, loss: -0.97594\n",
      "epoch: 09, loss: -0.97680\n",
      "torch.Size([1024, 64])\n"
     ]
    },
    {
     "name": "stderr",
     "output_type": "stream",
     "text": [
      " 60%|██████    | 602/999 [12:11:20<7:48:20, 70.78s/it]"
     ]
    },
    {
     "name": "stdout",
     "output_type": "stream",
     "text": [
      "eigenvalues shape torch.Size([5]) eigenvectors shape torch.Size([5, 1024])\n",
      "602 /home/phdcs2/Hard_Disk/Datasets/Deep-Spectral-Segmentation/data/object-segmentation/ECSSD/features/0604_resized.pth\n",
      "dict_keys(['k', 'indices', 'file', 'id', 'model_name', 'patch_size', 'shape'])\n",
      "0604_resized\n",
      "Starting Training\n",
      "epoch: 00, loss: -0.86069\n",
      "epoch: 01, loss: -0.91905\n",
      "epoch: 02, loss: -0.93290\n",
      "epoch: 03, loss: -0.94048\n",
      "epoch: 04, loss: -0.94587\n",
      "epoch: 05, loss: -0.94961\n",
      "epoch: 06, loss: -0.95262\n",
      "epoch: 07, loss: -0.95509\n",
      "epoch: 08, loss: -0.95707\n",
      "epoch: 09, loss: -0.95880\n",
      "torch.Size([1024, 64])\n"
     ]
    },
    {
     "name": "stderr",
     "output_type": "stream",
     "text": [
      " 60%|██████    | 603/999 [12:12:24<7:33:46, 68.75s/it]"
     ]
    },
    {
     "name": "stdout",
     "output_type": "stream",
     "text": [
      "eigenvalues shape torch.Size([5]) eigenvectors shape torch.Size([5, 1024])\n",
      "603 /home/phdcs2/Hard_Disk/Datasets/Deep-Spectral-Segmentation/data/object-segmentation/ECSSD/features/0605_resized.pth\n",
      "dict_keys(['k', 'indices', 'file', 'id', 'model_name', 'patch_size', 'shape'])\n",
      "0605_resized\n",
      "Starting Training\n",
      "epoch: 00, loss: -0.88130\n",
      "epoch: 01, loss: -0.92832\n",
      "epoch: 02, loss: -0.94080\n",
      "epoch: 03, loss: -0.94786\n",
      "epoch: 04, loss: -0.95257\n",
      "epoch: 05, loss: -0.95621\n",
      "epoch: 06, loss: -0.95886\n",
      "epoch: 07, loss: -0.96104\n",
      "epoch: 08, loss: -0.96287\n",
      "epoch: 09, loss: -0.96446\n",
      "torch.Size([1024, 64])\n"
     ]
    },
    {
     "name": "stderr",
     "output_type": "stream",
     "text": [
      " 60%|██████    | 604/999 [12:13:25<7:18:24, 66.59s/it]"
     ]
    },
    {
     "name": "stdout",
     "output_type": "stream",
     "text": [
      "eigenvalues shape torch.Size([5]) eigenvectors shape torch.Size([5, 1024])\n",
      "604 /home/phdcs2/Hard_Disk/Datasets/Deep-Spectral-Segmentation/data/object-segmentation/ECSSD/features/0606_resized.pth\n",
      "dict_keys(['k', 'indices', 'file', 'id', 'model_name', 'patch_size', 'shape'])\n",
      "0606_resized\n",
      "Starting Training\n",
      "epoch: 00, loss: -0.90648\n",
      "epoch: 01, loss: -0.94435\n",
      "epoch: 02, loss: -0.95317\n",
      "epoch: 03, loss: -0.95821\n",
      "epoch: 04, loss: -0.96173\n",
      "epoch: 05, loss: -0.96438\n",
      "epoch: 06, loss: -0.96634\n",
      "epoch: 07, loss: -0.96798\n",
      "epoch: 08, loss: -0.96939\n",
      "epoch: 09, loss: -0.97057\n",
      "torch.Size([1024, 64])\n"
     ]
    },
    {
     "name": "stderr",
     "output_type": "stream",
     "text": [
      " 61%|██████    | 605/999 [12:14:21<6:56:46, 63.47s/it]"
     ]
    },
    {
     "name": "stdout",
     "output_type": "stream",
     "text": [
      "eigenvalues shape torch.Size([5]) eigenvectors shape torch.Size([5, 1024])\n",
      "605 /home/phdcs2/Hard_Disk/Datasets/Deep-Spectral-Segmentation/data/object-segmentation/ECSSD/features/0607_resized.pth\n",
      "dict_keys(['k', 'indices', 'file', 'id', 'model_name', 'patch_size', 'shape'])\n",
      "0607_resized\n",
      "Starting Training\n",
      "epoch: 00, loss: -0.87489\n",
      "epoch: 01, loss: -0.92593\n",
      "epoch: 02, loss: -0.93942\n",
      "epoch: 03, loss: -0.94676\n",
      "epoch: 04, loss: -0.95170\n",
      "epoch: 05, loss: -0.95541\n",
      "epoch: 06, loss: -0.95814\n",
      "epoch: 07, loss: -0.96051\n",
      "epoch: 08, loss: -0.96246\n",
      "epoch: 09, loss: -0.96403\n",
      "torch.Size([1024, 64])\n"
     ]
    },
    {
     "name": "stderr",
     "output_type": "stream",
     "text": [
      " 61%|██████    | 606/999 [12:15:15<6:35:48, 60.43s/it]"
     ]
    },
    {
     "name": "stdout",
     "output_type": "stream",
     "text": [
      "eigenvalues shape torch.Size([5]) eigenvectors shape torch.Size([5, 1024])\n",
      "606 /home/phdcs2/Hard_Disk/Datasets/Deep-Spectral-Segmentation/data/object-segmentation/ECSSD/features/0608_resized.pth\n",
      "dict_keys(['k', 'indices', 'file', 'id', 'model_name', 'patch_size', 'shape'])\n",
      "0608_resized\n",
      "Starting Training\n",
      "epoch: 00, loss: -0.87597\n",
      "epoch: 01, loss: -0.92493\n",
      "epoch: 02, loss: -0.93745\n",
      "epoch: 03, loss: -0.94458\n",
      "epoch: 04, loss: -0.94943\n",
      "epoch: 05, loss: -0.95294\n",
      "epoch: 06, loss: -0.95573\n",
      "epoch: 07, loss: -0.95808\n",
      "epoch: 08, loss: -0.95988\n",
      "epoch: 09, loss: -0.96151\n",
      "torch.Size([1024, 64])\n"
     ]
    },
    {
     "name": "stderr",
     "output_type": "stream",
     "text": [
      " 61%|██████    | 607/999 [12:16:24<6:53:09, 63.24s/it]"
     ]
    },
    {
     "name": "stdout",
     "output_type": "stream",
     "text": [
      "eigenvalues shape torch.Size([5]) eigenvectors shape torch.Size([5, 1024])\n",
      "607 /home/phdcs2/Hard_Disk/Datasets/Deep-Spectral-Segmentation/data/object-segmentation/ECSSD/features/0609_resized.pth\n",
      "dict_keys(['k', 'indices', 'file', 'id', 'model_name', 'patch_size', 'shape'])\n",
      "0609_resized\n",
      "Starting Training\n",
      "epoch: 00, loss: -0.89510\n",
      "epoch: 01, loss: -0.93963\n",
      "epoch: 02, loss: -0.95010\n",
      "epoch: 03, loss: -0.95603\n",
      "epoch: 04, loss: -0.95999\n",
      "epoch: 05, loss: -0.96275\n",
      "epoch: 06, loss: -0.96500\n",
      "epoch: 07, loss: -0.96677\n",
      "epoch: 08, loss: -0.96830\n",
      "epoch: 09, loss: -0.96953\n",
      "torch.Size([1024, 64])\n"
     ]
    },
    {
     "name": "stderr",
     "output_type": "stream",
     "text": [
      " 61%|██████    | 608/999 [12:17:32<7:00:57, 64.60s/it]"
     ]
    },
    {
     "name": "stdout",
     "output_type": "stream",
     "text": [
      "eigenvalues shape torch.Size([5]) eigenvectors shape torch.Size([5, 1024])\n",
      "608 /home/phdcs2/Hard_Disk/Datasets/Deep-Spectral-Segmentation/data/object-segmentation/ECSSD/features/0610_resized.pth\n",
      "dict_keys(['k', 'indices', 'file', 'id', 'model_name', 'patch_size', 'shape'])\n",
      "0610_resized\n",
      "Starting Training\n",
      "epoch: 00, loss: -0.89154\n",
      "epoch: 01, loss: -0.93798\n",
      "epoch: 02, loss: -0.94882\n",
      "epoch: 03, loss: -0.95482\n",
      "epoch: 04, loss: -0.95894\n",
      "epoch: 05, loss: -0.96192\n",
      "epoch: 06, loss: -0.96424\n",
      "epoch: 07, loss: -0.96616\n",
      "epoch: 08, loss: -0.96778\n",
      "epoch: 09, loss: -0.96906\n",
      "torch.Size([1024, 64])\n"
     ]
    },
    {
     "name": "stderr",
     "output_type": "stream",
     "text": [
      " 61%|██████    | 609/999 [12:18:37<6:59:37, 64.56s/it]"
     ]
    },
    {
     "name": "stdout",
     "output_type": "stream",
     "text": [
      "eigenvalues shape torch.Size([5]) eigenvectors shape torch.Size([5, 1024])\n",
      "609 /home/phdcs2/Hard_Disk/Datasets/Deep-Spectral-Segmentation/data/object-segmentation/ECSSD/features/0611_resized.pth\n",
      "dict_keys(['k', 'indices', 'file', 'id', 'model_name', 'patch_size', 'shape'])\n",
      "0611_resized\n"
     ]
    },
    {
     "name": "stderr",
     "output_type": "stream",
     "text": [
      "/home/phdcs2/Hard_Disk/Projects/T2I/deep-spectral-segmentation/venv/lib/python3.8/site-packages/sklearn/decomposition/_pca.py:642: RuntimeWarning: invalid value encountered in divide\n",
      "  self.explained_variance_ratio_ = self.explained_variance_ / total_var\n"
     ]
    },
    {
     "name": "stdout",
     "output_type": "stream",
     "text": [
      "Starting Training\n",
      "epoch: 00, loss: -0.93260\n",
      "epoch: 01, loss: -0.96029\n",
      "epoch: 02, loss: -0.96650\n",
      "epoch: 03, loss: -0.97008\n",
      "epoch: 04, loss: -0.97253\n",
      "epoch: 05, loss: -0.97436\n",
      "epoch: 06, loss: -0.97580\n",
      "epoch: 07, loss: -0.97696\n",
      "epoch: 08, loss: -0.97795\n",
      "epoch: 09, loss: -0.97877\n",
      "torch.Size([1024, 64])\n"
     ]
    },
    {
     "name": "stderr",
     "output_type": "stream",
     "text": [
      " 61%|██████    | 610/999 [12:19:50<7:16:15, 67.29s/it]"
     ]
    },
    {
     "name": "stdout",
     "output_type": "stream",
     "text": [
      "eigenvalues shape torch.Size([5]) eigenvectors shape torch.Size([5, 1024])\n",
      "610 /home/phdcs2/Hard_Disk/Datasets/Deep-Spectral-Segmentation/data/object-segmentation/ECSSD/features/0612_resized.pth\n",
      "dict_keys(['k', 'indices', 'file', 'id', 'model_name', 'patch_size', 'shape'])\n",
      "0612_resized\n",
      "Starting Training\n",
      "epoch: 00, loss: -0.91590\n",
      "epoch: 01, loss: -0.94884\n",
      "epoch: 02, loss: -0.95664\n",
      "epoch: 03, loss: -0.96121\n",
      "epoch: 04, loss: -0.96434\n",
      "epoch: 05, loss: -0.96670\n",
      "epoch: 06, loss: -0.96852\n",
      "epoch: 07, loss: -0.97004\n",
      "epoch: 08, loss: -0.97128\n",
      "epoch: 09, loss: -0.97238\n",
      "torch.Size([1024, 64])\n"
     ]
    },
    {
     "name": "stderr",
     "output_type": "stream",
     "text": [
      " 61%|██████    | 611/999 [12:21:01<7:21:43, 68.31s/it]"
     ]
    },
    {
     "name": "stdout",
     "output_type": "stream",
     "text": [
      "eigenvalues shape torch.Size([5]) eigenvectors shape torch.Size([5, 1024])\n",
      "611 /home/phdcs2/Hard_Disk/Datasets/Deep-Spectral-Segmentation/data/object-segmentation/ECSSD/features/0613_resized.pth\n",
      "dict_keys(['k', 'indices', 'file', 'id', 'model_name', 'patch_size', 'shape'])\n",
      "0613_resized\n",
      "Starting Training\n",
      "epoch: 00, loss: -0.88470\n",
      "epoch: 01, loss: -0.92986\n",
      "epoch: 02, loss: -0.94202\n",
      "epoch: 03, loss: -0.94889\n",
      "epoch: 04, loss: -0.95346\n",
      "epoch: 05, loss: -0.95698\n",
      "epoch: 06, loss: -0.95972\n",
      "epoch: 07, loss: -0.96179\n",
      "epoch: 08, loss: -0.96358\n",
      "epoch: 09, loss: -0.96503\n",
      "torch.Size([1024, 64])\n"
     ]
    },
    {
     "name": "stderr",
     "output_type": "stream",
     "text": [
      " 61%|██████▏   | 612/999 [12:22:08<7:18:48, 68.03s/it]"
     ]
    },
    {
     "name": "stdout",
     "output_type": "stream",
     "text": [
      "eigenvalues shape torch.Size([5]) eigenvectors shape torch.Size([5, 1024])\n",
      "612 /home/phdcs2/Hard_Disk/Datasets/Deep-Spectral-Segmentation/data/object-segmentation/ECSSD/features/0614_resized.pth\n",
      "dict_keys(['k', 'indices', 'file', 'id', 'model_name', 'patch_size', 'shape'])\n",
      "0614_resized\n",
      "Starting Training\n",
      "epoch: 00, loss: -0.86221\n",
      "epoch: 01, loss: -0.91650\n",
      "epoch: 02, loss: -0.93066\n",
      "epoch: 03, loss: -0.93860\n",
      "epoch: 04, loss: -0.94401\n",
      "epoch: 05, loss: -0.94799\n",
      "epoch: 06, loss: -0.95095\n",
      "epoch: 07, loss: -0.95348\n",
      "epoch: 08, loss: -0.95566\n",
      "epoch: 09, loss: -0.95737\n",
      "torch.Size([1024, 64])\n"
     ]
    },
    {
     "name": "stderr",
     "output_type": "stream",
     "text": [
      " 61%|██████▏   | 613/999 [12:23:09<7:02:21, 65.65s/it]"
     ]
    },
    {
     "name": "stdout",
     "output_type": "stream",
     "text": [
      "eigenvalues shape torch.Size([5]) eigenvectors shape torch.Size([5, 1024])\n",
      "613 /home/phdcs2/Hard_Disk/Datasets/Deep-Spectral-Segmentation/data/object-segmentation/ECSSD/features/0615_resized.pth\n",
      "dict_keys(['k', 'indices', 'file', 'id', 'model_name', 'patch_size', 'shape'])\n",
      "0615_resized\n",
      "Starting Training\n",
      "epoch: 00, loss: -0.84306\n",
      "epoch: 01, loss: -0.90720\n",
      "epoch: 02, loss: -0.92445\n",
      "epoch: 03, loss: -0.93406\n",
      "epoch: 04, loss: -0.94029\n",
      "epoch: 05, loss: -0.94494\n",
      "epoch: 06, loss: -0.94844\n",
      "epoch: 07, loss: -0.95136\n",
      "epoch: 08, loss: -0.95381\n",
      "epoch: 09, loss: -0.95575\n",
      "torch.Size([1024, 64])\n"
     ]
    },
    {
     "name": "stderr",
     "output_type": "stream",
     "text": [
      " 61%|██████▏   | 614/999 [12:24:23<7:17:26, 68.17s/it]"
     ]
    },
    {
     "name": "stdout",
     "output_type": "stream",
     "text": [
      "eigenvalues shape torch.Size([5]) eigenvectors shape torch.Size([5, 1024])\n",
      "614 /home/phdcs2/Hard_Disk/Datasets/Deep-Spectral-Segmentation/data/object-segmentation/ECSSD/features/0616_resized.pth\n",
      "dict_keys(['k', 'indices', 'file', 'id', 'model_name', 'patch_size', 'shape'])\n",
      "0616_resized\n"
     ]
    },
    {
     "name": "stderr",
     "output_type": "stream",
     "text": [
      "/home/phdcs2/Hard_Disk/Projects/T2I/deep-spectral-segmentation/venv/lib/python3.8/site-packages/sklearn/decomposition/_pca.py:642: RuntimeWarning: invalid value encountered in divide\n",
      "  self.explained_variance_ratio_ = self.explained_variance_ / total_var\n"
     ]
    },
    {
     "name": "stdout",
     "output_type": "stream",
     "text": [
      "Starting Training\n",
      "epoch: 00, loss: -0.91162\n",
      "epoch: 01, loss: -0.94919\n",
      "epoch: 02, loss: -0.95731\n",
      "epoch: 03, loss: -0.96200\n",
      "epoch: 04, loss: -0.96521\n",
      "epoch: 05, loss: -0.96756\n",
      "epoch: 06, loss: -0.96943\n",
      "epoch: 07, loss: -0.97093\n",
      "epoch: 08, loss: -0.97220\n",
      "epoch: 09, loss: -0.97326\n",
      "torch.Size([1024, 64])\n"
     ]
    },
    {
     "name": "stderr",
     "output_type": "stream",
     "text": [
      " 62%|██████▏   | 615/999 [12:25:39<7:31:48, 70.59s/it]"
     ]
    },
    {
     "name": "stdout",
     "output_type": "stream",
     "text": [
      "eigenvalues shape torch.Size([5]) eigenvectors shape torch.Size([5, 1024])\n",
      "615 /home/phdcs2/Hard_Disk/Datasets/Deep-Spectral-Segmentation/data/object-segmentation/ECSSD/features/0617_resized.pth\n",
      "dict_keys(['k', 'indices', 'file', 'id', 'model_name', 'patch_size', 'shape'])\n",
      "0617_resized\n",
      "Starting Training\n",
      "epoch: 00, loss: -0.84327\n",
      "epoch: 01, loss: -0.91061\n",
      "epoch: 02, loss: -0.92664\n",
      "epoch: 03, loss: -0.93554\n",
      "epoch: 04, loss: -0.94164\n",
      "epoch: 05, loss: -0.94605\n",
      "epoch: 06, loss: -0.94928\n",
      "epoch: 07, loss: -0.95206\n",
      "epoch: 08, loss: -0.95420\n",
      "epoch: 09, loss: -0.95612\n",
      "torch.Size([1024, 64])\n"
     ]
    },
    {
     "name": "stderr",
     "output_type": "stream",
     "text": [
      " 62%|██████▏   | 616/999 [12:26:53<7:38:18, 71.80s/it]"
     ]
    },
    {
     "name": "stdout",
     "output_type": "stream",
     "text": [
      "eigenvalues shape torch.Size([5]) eigenvectors shape torch.Size([5, 1024])\n",
      "616 /home/phdcs2/Hard_Disk/Datasets/Deep-Spectral-Segmentation/data/object-segmentation/ECSSD/features/0618_resized.pth\n",
      "dict_keys(['k', 'indices', 'file', 'id', 'model_name', 'patch_size', 'shape'])\n",
      "0618_resized\n",
      "Starting Training\n",
      "epoch: 00, loss: -0.84643\n",
      "epoch: 01, loss: -0.90402\n",
      "epoch: 02, loss: -0.91960\n",
      "epoch: 03, loss: -0.92825\n",
      "epoch: 04, loss: -0.93442\n",
      "epoch: 05, loss: -0.93868\n",
      "epoch: 06, loss: -0.94205\n",
      "epoch: 07, loss: -0.94483\n",
      "epoch: 08, loss: -0.94715\n",
      "epoch: 09, loss: -0.94903\n",
      "torch.Size([1024, 64])\n"
     ]
    },
    {
     "name": "stderr",
     "output_type": "stream",
     "text": [
      " 62%|██████▏   | 617/999 [12:28:11<7:49:03, 73.67s/it]"
     ]
    },
    {
     "name": "stdout",
     "output_type": "stream",
     "text": [
      "eigenvalues shape torch.Size([5]) eigenvectors shape torch.Size([5, 1024])\n",
      "617 /home/phdcs2/Hard_Disk/Datasets/Deep-Spectral-Segmentation/data/object-segmentation/ECSSD/features/0619_resized.pth\n",
      "dict_keys(['k', 'indices', 'file', 'id', 'model_name', 'patch_size', 'shape'])\n",
      "0619_resized\n",
      "Starting Training\n",
      "epoch: 00, loss: -0.86371\n",
      "epoch: 01, loss: -0.91720\n",
      "epoch: 02, loss: -0.93159\n",
      "epoch: 03, loss: -0.94000\n",
      "epoch: 04, loss: -0.94550\n",
      "epoch: 05, loss: -0.94947\n",
      "epoch: 06, loss: -0.95254\n",
      "epoch: 07, loss: -0.95501\n",
      "epoch: 08, loss: -0.95719\n",
      "epoch: 09, loss: -0.95894\n",
      "torch.Size([1024, 64])\n"
     ]
    },
    {
     "name": "stderr",
     "output_type": "stream",
     "text": [
      " 62%|██████▏   | 618/999 [12:29:26<7:48:43, 73.81s/it]"
     ]
    },
    {
     "name": "stdout",
     "output_type": "stream",
     "text": [
      "eigenvalues shape torch.Size([5]) eigenvectors shape torch.Size([5, 1024])\n",
      "618 /home/phdcs2/Hard_Disk/Datasets/Deep-Spectral-Segmentation/data/object-segmentation/ECSSD/features/0620_resized.pth\n",
      "dict_keys(['k', 'indices', 'file', 'id', 'model_name', 'patch_size', 'shape'])\n",
      "0620_resized\n",
      "Starting Training\n",
      "epoch: 00, loss: -0.82393\n",
      "epoch: 01, loss: -0.89458\n",
      "epoch: 02, loss: -0.91322\n",
      "epoch: 03, loss: -0.92375\n",
      "epoch: 04, loss: -0.93116\n",
      "epoch: 05, loss: -0.93654\n",
      "epoch: 06, loss: -0.94046\n",
      "epoch: 07, loss: -0.94370\n",
      "epoch: 08, loss: -0.94633\n",
      "epoch: 09, loss: -0.94860\n",
      "torch.Size([1024, 64])\n"
     ]
    },
    {
     "name": "stderr",
     "output_type": "stream",
     "text": [
      " 62%|██████▏   | 619/999 [12:30:38<7:44:42, 73.37s/it]"
     ]
    },
    {
     "name": "stdout",
     "output_type": "stream",
     "text": [
      "eigenvalues shape torch.Size([5]) eigenvectors shape torch.Size([5, 1024])\n",
      "619 /home/phdcs2/Hard_Disk/Datasets/Deep-Spectral-Segmentation/data/object-segmentation/ECSSD/features/0621_resized.pth\n",
      "dict_keys(['k', 'indices', 'file', 'id', 'model_name', 'patch_size', 'shape'])\n",
      "0621_resized\n"
     ]
    },
    {
     "name": "stderr",
     "output_type": "stream",
     "text": [
      "/home/phdcs2/Hard_Disk/Projects/T2I/deep-spectral-segmentation/venv/lib/python3.8/site-packages/sklearn/decomposition/_pca.py:642: RuntimeWarning: invalid value encountered in divide\n",
      "  self.explained_variance_ratio_ = self.explained_variance_ / total_var\n"
     ]
    },
    {
     "name": "stdout",
     "output_type": "stream",
     "text": [
      "Starting Training\n",
      "epoch: 00, loss: -0.93753\n",
      "epoch: 01, loss: -0.96390\n",
      "epoch: 02, loss: -0.96932\n",
      "epoch: 03, loss: -0.97251\n",
      "epoch: 04, loss: -0.97464\n",
      "epoch: 05, loss: -0.97627\n",
      "epoch: 06, loss: -0.97754\n",
      "epoch: 07, loss: -0.97858\n",
      "epoch: 08, loss: -0.97945\n",
      "epoch: 09, loss: -0.98019\n",
      "torch.Size([1024, 64])\n"
     ]
    },
    {
     "name": "stderr",
     "output_type": "stream",
     "text": [
      " 62%|██████▏   | 620/999 [12:31:42<7:25:34, 70.54s/it]"
     ]
    },
    {
     "name": "stdout",
     "output_type": "stream",
     "text": [
      "eigenvalues shape torch.Size([5]) eigenvectors shape torch.Size([5, 1024])\n",
      "620 /home/phdcs2/Hard_Disk/Datasets/Deep-Spectral-Segmentation/data/object-segmentation/ECSSD/features/0622_resized.pth\n",
      "dict_keys(['k', 'indices', 'file', 'id', 'model_name', 'patch_size', 'shape'])\n",
      "0622_resized\n",
      "Starting Training\n",
      "epoch: 00, loss: -0.90160\n",
      "epoch: 01, loss: -0.94023\n",
      "epoch: 02, loss: -0.94991\n",
      "epoch: 03, loss: -0.95553\n",
      "epoch: 04, loss: -0.95935\n",
      "epoch: 05, loss: -0.96218\n",
      "epoch: 06, loss: -0.96437\n",
      "epoch: 07, loss: -0.96618\n",
      "epoch: 08, loss: -0.96769\n",
      "epoch: 09, loss: -0.96896\n",
      "torch.Size([1024, 64])\n"
     ]
    },
    {
     "name": "stderr",
     "output_type": "stream",
     "text": [
      " 62%|██████▏   | 621/999 [12:32:54<7:27:04, 70.96s/it]"
     ]
    },
    {
     "name": "stdout",
     "output_type": "stream",
     "text": [
      "eigenvalues shape torch.Size([5]) eigenvectors shape torch.Size([5, 1024])\n",
      "621 /home/phdcs2/Hard_Disk/Datasets/Deep-Spectral-Segmentation/data/object-segmentation/ECSSD/features/0623_resized.pth\n",
      "dict_keys(['k', 'indices', 'file', 'id', 'model_name', 'patch_size', 'shape'])\n",
      "0623_resized\n",
      "Starting Training\n",
      "epoch: 00, loss: -0.86790\n",
      "epoch: 01, loss: -0.92088\n",
      "epoch: 02, loss: -0.93493\n",
      "epoch: 03, loss: -0.94298\n",
      "epoch: 04, loss: -0.94828\n",
      "epoch: 05, loss: -0.95227\n",
      "epoch: 06, loss: -0.95536\n",
      "epoch: 07, loss: -0.95784\n",
      "epoch: 08, loss: -0.95978\n",
      "epoch: 09, loss: -0.96157\n",
      "torch.Size([1024, 64])\n"
     ]
    },
    {
     "name": "stderr",
     "output_type": "stream",
     "text": [
      " 62%|██████▏   | 622/999 [12:34:08<7:31:53, 71.92s/it]"
     ]
    },
    {
     "name": "stdout",
     "output_type": "stream",
     "text": [
      "eigenvalues shape torch.Size([5]) eigenvectors shape torch.Size([5, 1024])\n",
      "622 /home/phdcs2/Hard_Disk/Datasets/Deep-Spectral-Segmentation/data/object-segmentation/ECSSD/features/0624_resized.pth\n",
      "dict_keys(['k', 'indices', 'file', 'id', 'model_name', 'patch_size', 'shape'])\n",
      "0624_resized\n",
      "Starting Training\n",
      "epoch: 00, loss: -0.88807\n",
      "epoch: 01, loss: -0.93168\n",
      "epoch: 02, loss: -0.94350\n",
      "epoch: 03, loss: -0.95018\n",
      "epoch: 04, loss: -0.95474\n",
      "epoch: 05, loss: -0.95805\n",
      "epoch: 06, loss: -0.96070\n",
      "epoch: 07, loss: -0.96290\n",
      "epoch: 08, loss: -0.96456\n",
      "epoch: 09, loss: -0.96611\n",
      "torch.Size([1024, 64])\n"
     ]
    },
    {
     "name": "stderr",
     "output_type": "stream",
     "text": [
      " 62%|██████▏   | 623/999 [12:35:23<7:37:17, 72.97s/it]"
     ]
    },
    {
     "name": "stdout",
     "output_type": "stream",
     "text": [
      "eigenvalues shape torch.Size([5]) eigenvectors shape torch.Size([5, 1024])\n",
      "623 /home/phdcs2/Hard_Disk/Datasets/Deep-Spectral-Segmentation/data/object-segmentation/ECSSD/features/0625_resized.pth\n",
      "dict_keys(['k', 'indices', 'file', 'id', 'model_name', 'patch_size', 'shape'])\n",
      "0625_resized\n",
      "Starting Training\n",
      "epoch: 00, loss: -0.87721\n",
      "epoch: 01, loss: -0.93106\n",
      "epoch: 02, loss: -0.94349\n",
      "epoch: 03, loss: -0.95035\n",
      "epoch: 04, loss: -0.95514\n",
      "epoch: 05, loss: -0.95845\n",
      "epoch: 06, loss: -0.96109\n",
      "epoch: 07, loss: -0.96313\n",
      "epoch: 08, loss: -0.96481\n",
      "epoch: 09, loss: -0.96633\n",
      "torch.Size([1024, 64])\n"
     ]
    },
    {
     "name": "stderr",
     "output_type": "stream",
     "text": [
      " 62%|██████▏   | 624/999 [12:36:42<7:46:00, 74.56s/it]"
     ]
    },
    {
     "name": "stdout",
     "output_type": "stream",
     "text": [
      "eigenvalues shape torch.Size([5]) eigenvectors shape torch.Size([5, 1024])\n",
      "624 /home/phdcs2/Hard_Disk/Datasets/Deep-Spectral-Segmentation/data/object-segmentation/ECSSD/features/0626_resized.pth\n",
      "dict_keys(['k', 'indices', 'file', 'id', 'model_name', 'patch_size', 'shape'])\n",
      "0626_resized\n"
     ]
    },
    {
     "name": "stderr",
     "output_type": "stream",
     "text": [
      "/home/phdcs2/Hard_Disk/Projects/T2I/deep-spectral-segmentation/venv/lib/python3.8/site-packages/sklearn/decomposition/_pca.py:642: RuntimeWarning: invalid value encountered in divide\n",
      "  self.explained_variance_ratio_ = self.explained_variance_ / total_var\n"
     ]
    },
    {
     "name": "stdout",
     "output_type": "stream",
     "text": [
      "Starting Training\n",
      "epoch: 00, loss: -0.92071\n",
      "epoch: 01, loss: -0.95380\n",
      "epoch: 02, loss: -0.96102\n",
      "epoch: 03, loss: -0.96520\n",
      "epoch: 04, loss: -0.96811\n"
     ]
    }
   ],
   "source": [
    "pca_comp=64\n",
    "pca = PCA(n_components=pca_comp)\n",
    "utils.make_output_dir(output_dir)\n",
    "inputs = list(enumerate(sorted(Path(features_dir).iterdir())))\n",
    "for inp in tqdm(inputs):\n",
    "    index, features_file = inp\n",
    "    print(index, features_file)\n",
    "     # Load\n",
    "    data_dict = torch.load(features_file, map_location='cpu')\n",
    "    print(data_dict.keys())   #['k', 'indices', 'file', 'id', 'model_name', 'patch_size', 'shape']\n",
    "    # print(\"shape=\", data_dict['shape'], \"k shape\", data_dict['k'].shape, \"patch_size=\", data_dict['patch_size'])\n",
    "    image_id = data_dict['file'][:-4]\n",
    "    print(image_id)\n",
    "    # Load\n",
    "    output_file = str(Path(output_dir) / f'{image_id}.pth')\n",
    "    if Path(output_file).is_file():\n",
    "        print(f'Skipping existing file {str(output_file)}')\n",
    "        # break\n",
    "        # return  # skip because already generated\n",
    "\n",
    "    # Load affinity matrix\n",
    "    feats = data_dict[which_features].squeeze().cuda()\n",
    "    # print(\"Without normalizing, Features Shape is\",feats.shape)\n",
    "    if normalize:\n",
    "        feats = F.normalize(feats, p=2, dim=-1)\n",
    "    # print(\"After normalization, Features Shape\",feats.shape)\n",
    "    # print(\"which_matrix=\", which_matrix)\n",
    "    # Eigenvectors of affinity matrix\n",
    "    if which_matrix == 'affinity_torch':\n",
    "        W = feats @ feats.T\n",
    "        # W_feat=contrastive_affinity(feats, feats.T)\n",
    "        # print(\"W shape=\", W.shape)\n",
    "        if threshold_at_zero:\n",
    "            W = (W * (W > 0))\n",
    "            # print(\"W shape=\", W.shape)\n",
    "        eigenvalues, eigenvectors = torch.eig(W, eigenvectors=True)\n",
    "        eigenvalues = eigenvalues.cpu()\n",
    "        eigenvectors = eigenvectors.cpu()\n",
    "        print(\"which matrix=\",which_matrix, \"eigenvalues shape\", eigenvalues.shape, \"eigenvectors shape\", eigenvectors.shape)\n",
    "\n",
    "\n",
    "    # Eigenvectors of affinity matrix with scipy\n",
    "    elif which_matrix == 'affinity_svd':\n",
    "        USV = torch.linalg.svd(feats, full_matrices=False)\n",
    "        eigenvectors = USV[0][:, :K].T.to('cpu', non_blocking=True)\n",
    "        eigenvalues = USV[1][:K].to('cpu', non_blocking=True)\n",
    "        print(\"which matrix=\",which_matrix,\"eigenvalues shape\", eigenvalues.shape, \"eigenvectors shape\", eigenvectors.shape)\n",
    "\n",
    "    # Eigenvectors of affinity matrix with scipy\n",
    "    elif which_matrix == 'affinity':\n",
    "        # print(\"Without normalizing, Features Shape is\",feats.shape)\n",
    "        W = (feats @ feats.T)\n",
    "        # W_feat=contrastive_affinity(feats, feats.T)\n",
    "        # print(\"W shape=\", W.shape)\n",
    "        if threshold_at_zero:\n",
    "            W = (W * (W > 0))\n",
    "        W = W.cpu().numpy()\n",
    "        # print(\"W shape=\", W.shape)\n",
    "        eigenvalues, eigenvectors = eigsh(W, which='LM', k=K)\n",
    "        eigenvectors = torch.flip(torch.from_numpy(eigenvectors), dims=(-1,)).T\n",
    "        print(\"which matrix=\",which_matrix, \"eigenvalues shape\", eigenvalues.shape, \"eigenvectors shape\", eigenvectors.shape)\n",
    "\n",
    "    # Eigenvectors of matting laplacian matrix\n",
    "    elif which_matrix in ['matting_laplacian', 'laplacian']:\n",
    "\n",
    "        # Get sizes\n",
    "        B, C, H, W, P, H_patch, W_patch, H_pad, W_pad = utils.get_image_sizes(data_dict)\n",
    "        if image_downsample_factor is None:\n",
    "            image_downsample_factor = P\n",
    "        H_pad_lr, W_pad_lr = H_pad // image_downsample_factor, W_pad // image_downsample_factor\n",
    "\n",
    "        # Upscale features to match the resolution\n",
    "        if (H_patch, W_patch) != (H_pad_lr, W_pad_lr):\n",
    "            feats = F.interpolate(\n",
    "                feats.T.reshape(1, -1, H_patch, W_patch),\n",
    "                size=(H_pad_lr, W_pad_lr), mode='bilinear', align_corners=False\n",
    "            ).reshape(-1, H_pad_lr * W_pad_lr).T\n",
    "\n",
    "        ### Feature affinities\n",
    "        # print(\"Without normalizing, Features Shape is\",feats.shape)\n",
    "\n",
    "        W_feat_ds = (feats @ feats.T)\n",
    "        # print(\"shape of w_feat_ds\", W_feat_ds.shape)\n",
    "        max_wfeatds=torch.max(W_feat_ds).item()\n",
    "        alpha=3\n",
    "        # print(\"Before Subtraction\")\n",
    "        count_positive = torch.count_nonzero(torch.greater_equal(W_feat_ds, 0.))\n",
    "        # print(\"positive values=\", count_positive)\n",
    "        W_feat_ds_sum = torch.sum(W_feat_ds)\n",
    "        # print(\"w_feat_ds_sum=\", W_feat_ds_sum)\n",
    "        W_feat_ds_mean = torch.mean(W_feat_ds)\n",
    "        # print(\"Mean of W_feat\", W_feat_ds_mean)\n",
    "        W_feat_ds_median = torch.median(W_feat_ds)\n",
    "        # print(\"Median of W_feat\", W_feat_ds_median)\n",
    "        W_feat_ds_std = torch.std(W_feat_ds)\n",
    "        # print(\"Standard Deviation of W_feat\", W_feat_ds_std)\n",
    "        W_feat_ds_max = torch.max(W_feat_ds)\n",
    "        # print(\"Maximum of W_feat\", W_feat_ds_max)\n",
    "        W_feat_ds_min = torch.min(W_feat_ds)\n",
    "        # print(\"Minimum of W_feat\", W_feat_ds_min)\n",
    "        # print(\"Factor value\", (max_wfeatds / alpha))\n",
    "\n",
    "        W_feat_ds = W_feat_ds - (max_wfeatds / alpha)\n",
    "\n",
    "        # print(\"After Subtraction\")\n",
    "        count_positive = torch.count_nonzero(torch.greater_equal(W_feat_ds, 0.))\n",
    "        # print(\"positive values=\", count_positive)\n",
    "        W_feat_ds_sum = torch.sum(W_feat_ds)\n",
    "        # print(\"w_feat_ds_sum=\", W_feat_ds_sum)\n",
    "        W_feat_ds_mean = torch.mean(W_feat_ds)\n",
    "        # print(\"Mean of W_feat\", W_feat_ds_mean)\n",
    "        W_feat_ds_median = torch.median(W_feat_ds)\n",
    "        # print(\"Median of W_feat\", W_feat_ds_median)\n",
    "        W_feat_ds_std = torch.std(W_feat_ds)\n",
    "        # print(\"Standard Deviation of W_feat\", W_feat_ds_std)\n",
    "        W_feat_ds_max = torch.max(W_feat_ds)\n",
    "        # print(\"Maximum of W_feat\", W_feat_ds_max)\n",
    "        W_feat_ds_min = torch.min(W_feat_ds)\n",
    "        # print(\"Minimum of W_feat\", W_feat_ds_min)\n",
    "        proj_layer=nn.Linear(pca_comp,pca_comp).cuda()\n",
    "        elu = nn.ELU()\n",
    "        proj_model = nn.Sequential(proj_layer, elu ).cuda()\n",
    "        pred_layer=nn.Linear(pca_comp,pca_comp).cuda()\n",
    "        x0=feats\n",
    "\n",
    "        x0_arr=x0.cpu()\n",
    "        scale = np.random.uniform(0.8, 1.2)  # Random scaling factor between 0.8 and 1.2\n",
    "        translation = np.random.uniform(-10, 10, size=2)  # Random translation vector between -10 and 10 in both directions\n",
    "        rotation = np.random.uniform(-15, 15)  # Random rotation angle between -15 and 15 degrees\n",
    "        shear = np.random.uniform(-0.2, 0.2, size=2)  # Random shear factor between -0.2 and 0.2 in both directions\n",
    "\n",
    "        # Define the affine matrix\n",
    "        affine_matrix = np.array([[scale * np.cos(rotation), -shear[0] * scale * np.sin(rotation), translation[0]],\n",
    "                                  [shear[1] * scale * np.sin(rotation), scale * np.cos(rotation), translation[1]],\n",
    "                                  [0, 0, 1]])\n",
    "        # print(x0_arr.shape)\n",
    "        x1_arr=affine_transform(x0_arr, affine_matrix)\n",
    "\n",
    "        z0_arr= pca.fit_transform(x0_arr)\n",
    "        z1_arr= pca.fit_transform(x1_arr)\n",
    "        # Define the affine transformation parameters\n",
    "\n",
    "        # z1_arr=affine_transform(z0_arr, affine_matrix)\n",
    "#         z1_arr=pca.fit_transform(z1_arr)\n",
    "        z0 = torch.from_numpy(z0_arr).float()\n",
    "        z1 = torch.from_numpy(z1_arr).float()\n",
    "\n",
    "        # feat_list.append(feats)\n",
    "        feat_dataset_z0 = Feature_Dataset(z0)\n",
    "        if feats.shape[0]%2==0:\n",
    "            features_dataloader_z0 = DataLoader(feat_dataset_z0, batch_size=batch_size, shuffle=True)\n",
    "        else:\n",
    "            features_dataloader_z0 = DataLoader(feat_dataset_z0, batch_size=batch_size, shuffle=True, drop_last=True)\n",
    "\n",
    "        feat_dataset_z1 = Feature_Dataset(z1)\n",
    "        if feats.shape[0]%2==0:\n",
    "            features_dataloader_z1 = DataLoader(feat_dataset_z1, batch_size=batch_size, shuffle=True)\n",
    "        else:\n",
    "            features_dataloader_z1 = DataLoader(feat_dataset_z1, batch_size=batch_size, shuffle=True, drop_last=True)\n",
    "        device = \"cuda\" if torch.cuda.is_available() else \"cpu\"\n",
    "    \n",
    "        criterion = NegativeCosineSimilarity()\n",
    "        proj_optimizer = torch.optim.SGD(proj_layer.parameters(), lr=0.06)\n",
    "        pred_optimizer = torch.optim.SGD(pred_layer.parameters(), lr=0.06)\n",
    "        print(\"Starting Training\")\n",
    "        for epoch in range(epochs):\n",
    "            total_loss = 0\n",
    "            for z0_new,z1_new in zip(features_dataloader_z0,features_dataloader_z1):\n",
    "                z0_new = z0_new.to(device)\n",
    "                z1_new = z1_new.to(device)\n",
    "                # z0_new=proj_layer(z0_new)\n",
    "                z0_new=proj_model(z0_new)\n",
    "                # z1_new=proj_layer(z1_new)\n",
    "                # z1_new=proj_layer(z1_new)\n",
    "                z1_new=proj_model(z1_new)\n",
    "    #             print(\"z0_new.shape\", z0_new.shape)\n",
    "    #             print(\"z1_new.shape\", z1_new.shape)\n",
    "                p0=pred_layer(z0_new)\n",
    "                p1=pred_layer(z1_new)\n",
    "    #             print(\"p0.shape\", p0.shape)\n",
    "    #             print(\"p1.shape\", p1.shape)\n",
    "\n",
    "                z0_new=z0_new.detach()\n",
    "                z1_new=z1_new.detach()\n",
    "                loss = 0.5 * (criterion(z0_new, p1) + criterion(z1_new, p0))\n",
    "                total_loss += loss.detach()\n",
    "                loss.backward()\n",
    "                proj_optimizer.step()\n",
    "                pred_optimizer.step()\n",
    "                proj_optimizer.zero_grad()\n",
    "                pred_optimizer.zero_grad()\n",
    "            avg_loss = total_loss / len(features_dataloader_z0)\n",
    "            print(f\"epoch: {epoch:>02}, loss: {avg_loss:.5f}\")\n",
    "        # z0_projected=proj_layer(z0.to(device))\n",
    "        projected_feature=pred_layer(z0.to(device))\n",
    "        print(projected_feature.shape)\n",
    "        W_feat_siam=torch.matmul(projected_feature, projected_feature.t())\n",
    "        # max_wfeatsiam=torch.max(W_feat_siam).item()\n",
    "        # alpha=3\n",
    "        # W_feat_siam = W_feat_siam - (max_wfeatsiam / alpha)\n",
    "        # W_feat_siam=torch.matmul(projected_feature[0], projected_feature[0].t())\n",
    "        W_feat=W_feat_ds + 0.1*W_feat_siam\n",
    "#         W_feat=normalize_affinity_matrix(W_feat_unnorm, axis=1)\n",
    "        # print(\"W_feat.shape=\", W_feat.shape)\n",
    "        # print(\"W_feat.shape=\", W_feat.shape)\n",
    "        # W_feat=contrastive_affinity(feats, feats.T)\n",
    "        if threshold_at_zero:\n",
    "            W_feat = (W_feat * (W_feat > 0))\n",
    "        W_feat = W_feat / W_feat.max()  # NOTE: If features are normalized, this naturally does nothing\n",
    "        # W_feat = W_feat.cpu().numpy()\n",
    "        W_feat = W_feat.detach().cpu().numpy()\n",
    "        # print(\"W_feat shape=\",W_feat.shape)\n",
    "\n",
    "        ### Color affinities\n",
    "        # If we are fusing with color affinites, then load the image and compute\n",
    "        if image_color_lambda > 0:\n",
    "\n",
    "            # Load image\n",
    "            image_file = str(Path(images_root) / f'{image_id}.jpg')\n",
    "            image_lr = Image.open(image_file).resize((W_pad_lr, H_pad_lr), Image.BILINEAR)\n",
    "            image_lr = np.array(image_lr) / 255.\n",
    "\n",
    "            # Color affinities (of type scipy.sparse.csr_matrix)\n",
    "            if which_color_matrix == 'knn':\n",
    "                W_lr = utils.knn_affinity(image_lr / 255)\n",
    "            elif which_color_matrix == 'rw':\n",
    "                W_lr = utils.rw_affinity(image_lr / 255)\n",
    "\n",
    "            # Convert to dense numpy array\n",
    "            W_color = np.array(W_lr.todense().astype(np.float32))\n",
    "            # print(\"W_color shape\", W_color.shape)\n",
    "\n",
    "        else:\n",
    "\n",
    "            # No color affinity\n",
    "            W_color = 0\n",
    "\n",
    "        # Combine\n",
    "        W_comb = W_feat + W_color * image_color_lambda  # combination\n",
    "        D_comb = np.array(utils.get_diagonal(W_comb).todense())  # is dense or sparse faster? not sure, should check\n",
    "        # print(\"W_comb shape= \", W_comb.shape, \"D_comb shape\",  D_comb.shape)\n",
    "        if lapnorm:\n",
    "            try:\n",
    "                eigenvalues, eigenvectors = eigsh(D_comb - W_comb, k=K, sigma=0, which='LM', M=D_comb)\n",
    "            except:\n",
    "                eigenvalues, eigenvectors = eigsh(D_comb - W_comb, k=K, which='SM', M=D_comb)\n",
    "        else:\n",
    "            try:\n",
    "                eigenvalues, eigenvectors = eigsh(D_comb - W_comb, k=K, sigma=0, which='LM')\n",
    "            except:\n",
    "                eigenvalues, eigenvectors = eigsh(D_comb - W_comb, k=K, which='SM')\n",
    "        eigenvalues, eigenvectors = torch.from_numpy(eigenvalues), torch.from_numpy(eigenvectors.T).float()\n",
    "    print(\"eigenvalues shape\", eigenvalues.shape, \"eigenvectors shape\", eigenvectors.shape)\n",
    "    # Sign ambiguity\n",
    "    for k in range(eigenvectors.shape[0]):\n",
    "        if 0.5 < torch.mean((eigenvectors[k] > 0).float()).item() < 1.0:  # reverse segment\n",
    "            eigenvectors[k] = 0 - eigenvectors[k]\n",
    "\n",
    "    # Save dict\n",
    "    output_dict = {'eigenvalues': eigenvalues, 'eigenvectors': eigenvectors}\n",
    "    torch.save(output_dict, output_file)"
   ]
  }
 ],
 "metadata": {
  "kernelspec": {
   "display_name": "Python 3 (ipykernel)",
   "language": "python",
   "name": "python3"
  },
  "language_info": {
   "codemirror_mode": {
    "name": "ipython",
    "version": 3
   },
   "file_extension": ".py",
   "mimetype": "text/x-python",
   "name": "python",
   "nbconvert_exporter": "python",
   "pygments_lexer": "ipython3",
   "version": "3.8.10"
  }
 },
 "nbformat": 4,
 "nbformat_minor": 1
}