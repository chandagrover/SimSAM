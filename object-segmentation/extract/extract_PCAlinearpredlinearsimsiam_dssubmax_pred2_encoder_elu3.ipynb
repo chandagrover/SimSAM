{
 "cells": [
  {
   "cell_type": "code",
   "execution_count": 1,
   "metadata": {
    "pycharm": {
     "name": "#%%\n"
    }
   },
   "outputs": [],
   "source": [
    "# from functools import partial\n",
    "from pathlib import Path\n",
    "# from typing import Optional, Tuple\n",
    "# import cv2\n",
    "# import fire\n",
    "import numpy as np\n",
    "import torch\n",
    "import torch.nn.functional as F\n",
    "from accelerate import Accelerator\n",
    "from PIL import Image\n",
    "from scipy.sparse.linalg import eigsh\n",
    "# from sklearn.cluster import KMeans, MiniBatchKMeans\n",
    "from sklearn.decomposition import PCA\n",
    "# from torchvision.utils import draw_bounding_boxes\n",
    "from tqdm import tqdm\n",
    "import extract_utils as utils\n",
    "from torch.utils.data import Dataset, DataLoader\n",
    "from lightly.loss import NegativeCosineSimilarity\n",
    "from lightly.models.modules import SimSiamPredictionHead, SimSiamProjectionHead\n",
    "from torch import nn\n",
    "import torchvision\n",
    "from scipy.ndimage import affine_transform"
   ]
  },
  {
   "cell_type": "markdown",
   "metadata": {
    "pycharm": {
     "name": "#%% md\n"
    }
   },
   "source": [
    "## Extract Eigen Vectors"
   ]
  },
  {
   "cell_type": "code",
   "execution_count": 2,
   "outputs": [],
   "source": [
    "images_root=\"/home/phdcs2/Hard_Disk/Datasets/Deep-Spectral-Segmentation/data/object-segmentation/ECSSD/images\"\n",
    "# features_dir=\"/home/phdcs2/Hard_Disk/Datasets/Deep-Spectral-Segmentation/data/object-segmentation/ECSSD_1/features/dino_vits16\"\n",
    "features_dir=\"/home/phdcs2/Hard_Disk/Datasets/Deep-Spectral-Segmentation/data/object-segmentation/ECSSD/features/\"\n",
    "output_dir=\"/home/phdcs2/Hard_Disk/Datasets/Deep-Spectral-Segmentation/data/object-segmentation/ECSSD/eigs_dot1PCA64linearpredlinear_dssubmax_pred2_encoder_elu_corr3\""
   ],
   "metadata": {
    "collapsed": false,
    "pycharm": {
     "name": "#%%\n"
    }
   }
  },
  {
   "cell_type": "code",
   "execution_count": 3,
   "metadata": {
    "pycharm": {
     "name": "#%%\n"
    }
   },
   "outputs": [],
   "source": [
    "# images_root=\"/home/phdcs2/Hard_Disk/Datasets/Deep-Spectral-Segmentation/data/VOC2012/images/trainval/JPEGImages\"\n",
    "# # features_dir=\"/home/phdcs2/Hard_Disk/Datasets/Deep-Spectral-Segmentation/data/object-segmentation/ECSSD_1/features/dino_vits16\"\n",
    "# features_dir=\"/home/phdcs2/Hard_Disk/Datasets/Deep-Spectral-Segmentation/data/VOC2012/features/dino_vits16\"\n",
    "# output_dir=\"/home/phdcs2/Hard_Disk/Datasets/Deep-Spectral-Segmentation/data/VOC2012/eigs_test/laplacian\"\n",
    "which_matrix= 'laplacian'\n",
    "which_color_matrix= 'knn'\n",
    "which_features= 'k'\n",
    "normalize=True\n",
    "threshold_at_zero=True\n",
    "lapnorm= True\n",
    "K= 5\n",
    "image_downsample_factor = None\n",
    "image_color_lambda = 0.0\n",
    "multiprocessing = 0\n",
    "batch_size=2\n",
    "epochs=10"
   ]
  },
  {
   "cell_type": "markdown",
   "metadata": {
    "pycharm": {
     "name": "#%% md\n"
    }
   },
   "source": [
    "## Incorporating SimSiam"
   ]
  },
  {
   "cell_type": "code",
   "execution_count": 4,
   "metadata": {
    "pycharm": {
     "name": "#%%\n"
    }
   },
   "outputs": [],
   "source": [
    "# Define a custom dataset class\n",
    "class Feature_Dataset(Dataset):\n",
    "    def __init__(self, features):\n",
    "        self.features = features\n",
    "\n",
    "    def __getitem__(self, index):\n",
    "        return self.features[index]\n",
    "\n",
    "    def __len__(self):\n",
    "        return len(self.features)"
   ]
  },
  {
   "cell_type": "code",
   "execution_count": 5,
   "metadata": {
    "pycharm": {
     "name": "#%%\n"
    }
   },
   "outputs": [],
   "source": [
    "# class SimSiam(nn.Module):\n",
    "#     def __init__(self):\n",
    "#         super().__init__()\n",
    "#         self.projection_head = SimSiamProjectionHead(feats.shape[1], 128,feats.shape[1])\n",
    "#         self.prediction_head = SimSiamPredictionHead(feats.shape[1], 128, feats.shape[1])\n",
    "#\n",
    "#     def forward(self, x):\n",
    "#         z = self.projection_head(x)\n",
    "#         p = self.prediction_head(z)\n",
    "#         z = z.detach()\n",
    "#         return z, p"
   ]
  },
  {
   "cell_type": "code",
   "execution_count": 6,
   "metadata": {
    "pycharm": {
     "name": "#%%\n"
    }
   },
   "outputs": [],
   "source": [
    "# def normalize_affinity_matrix(affinity_matrix, axis=0):\n",
    "#     if axis == 1:\n",
    "#         # Normalize by row-wise sums\n",
    "#         row_sums = torch.sum(affinity_matrix, dim=1, keepdim=True)\n",
    "#         print(row_sums)\n",
    "#         normalized_matrix = affinity_matrix / row_sums\n",
    "#     elif axis == 0:\n",
    "#         # Normalize by column-wise sums\n",
    "#         col_sums = torch.sum(affinity_matrix, dim=0, keepdim=True)\n",
    "#         normalized_matrix = affinity_matrix / col_sums\n",
    "#     else:\n",
    "#         raise ValueError(\"Invalid axis. Axis must be either 0 or 1.\")\n",
    "\n",
    "#     return normalized_matrix"
   ]
  },
  {
   "cell_type": "code",
   "execution_count": null,
   "metadata": {
    "pycharm": {
     "name": "#%%\n",
     "is_executing": true
    }
   },
   "outputs": [
    {
     "name": "stderr",
     "output_type": "stream",
     "text": [
      "  0%|          | 0/999 [00:00<?, ?it/s]"
     ]
    },
    {
     "name": "stdout",
     "output_type": "stream",
     "text": [
      "0 /home/phdcs2/Hard_Disk/Datasets/Deep-Spectral-Segmentation/data/object-segmentation/ECSSD/features/0001_resized.pth\n",
      "dict_keys(['k', 'indices', 'file', 'id', 'model_name', 'patch_size', 'shape'])\n",
      "0001_resized\n"
     ]
    },
    {
     "name": "stderr",
     "output_type": "stream",
     "text": [
      "/home/phdcs2/Hard_Disk/Projects/T2I/deep-spectral-segmentation/venv/lib/python3.8/site-packages/sklearn/decomposition/_pca.py:642: RuntimeWarning: invalid value encountered in divide\n",
      "  self.explained_variance_ratio_ = self.explained_variance_ / total_var\n"
     ]
    },
    {
     "name": "stdout",
     "output_type": "stream",
     "text": [
      "Starting Training\n",
      "epoch: 00, loss: -0.93164\n",
      "epoch: 01, loss: -0.95931\n",
      "epoch: 02, loss: -0.96551\n",
      "epoch: 03, loss: -0.96907\n",
      "epoch: 04, loss: -0.97147\n",
      "epoch: 05, loss: -0.97327\n",
      "epoch: 06, loss: -0.97468\n",
      "epoch: 07, loss: -0.97582\n",
      "epoch: 08, loss: -0.97678\n",
      "epoch: 09, loss: -0.97761\n",
      "torch.Size([1024, 64])\n"
     ]
    },
    {
     "name": "stderr",
     "output_type": "stream",
     "text": [
      "  0%|          | 1/999 [01:15<20:54:47, 75.44s/it]"
     ]
    },
    {
     "name": "stdout",
     "output_type": "stream",
     "text": [
      "eigenvalues shape torch.Size([5]) eigenvectors shape torch.Size([5, 1024])\n",
      "1 /home/phdcs2/Hard_Disk/Datasets/Deep-Spectral-Segmentation/data/object-segmentation/ECSSD/features/0002_resized.pth\n",
      "dict_keys(['k', 'indices', 'file', 'id', 'model_name', 'patch_size', 'shape'])\n",
      "0002_resized\n",
      "Starting Training\n",
      "epoch: 00, loss: -0.88249\n",
      "epoch: 01, loss: -0.92802\n",
      "epoch: 02, loss: -0.93998\n",
      "epoch: 03, loss: -0.94678\n",
      "epoch: 04, loss: -0.95151\n",
      "epoch: 05, loss: -0.95476\n",
      "epoch: 06, loss: -0.95745\n",
      "epoch: 07, loss: -0.95953\n",
      "epoch: 08, loss: -0.96131\n",
      "epoch: 09, loss: -0.96289\n",
      "torch.Size([1024, 64])\n"
     ]
    },
    {
     "name": "stderr",
     "output_type": "stream",
     "text": [
      "  0%|          | 2/999 [02:24<19:53:00, 71.80s/it]"
     ]
    },
    {
     "name": "stdout",
     "output_type": "stream",
     "text": [
      "eigenvalues shape torch.Size([5]) eigenvectors shape torch.Size([5, 1024])\n",
      "2 /home/phdcs2/Hard_Disk/Datasets/Deep-Spectral-Segmentation/data/object-segmentation/ECSSD/features/0003_resized.pth\n",
      "dict_keys(['k', 'indices', 'file', 'id', 'model_name', 'patch_size', 'shape'])\n",
      "0003_resized\n",
      "Starting Training\n",
      "epoch: 00, loss: -0.88448\n",
      "epoch: 01, loss: -0.93459\n",
      "epoch: 02, loss: -0.94616\n",
      "epoch: 03, loss: -0.95286\n",
      "epoch: 04, loss: -0.95720\n",
      "epoch: 05, loss: -0.96037\n",
      "epoch: 06, loss: -0.96294\n",
      "epoch: 07, loss: -0.96494\n",
      "epoch: 08, loss: -0.96650\n",
      "epoch: 09, loss: -0.96797\n",
      "torch.Size([1024, 64])\n"
     ]
    },
    {
     "name": "stderr",
     "output_type": "stream",
     "text": [
      "  0%|          | 3/999 [03:30<19:07:26, 69.12s/it]"
     ]
    },
    {
     "name": "stdout",
     "output_type": "stream",
     "text": [
      "eigenvalues shape torch.Size([5]) eigenvectors shape torch.Size([5, 1024])\n",
      "3 /home/phdcs2/Hard_Disk/Datasets/Deep-Spectral-Segmentation/data/object-segmentation/ECSSD/features/0004_resized.pth\n",
      "dict_keys(['k', 'indices', 'file', 'id', 'model_name', 'patch_size', 'shape'])\n",
      "0004_resized\n",
      "Starting Training\n",
      "epoch: 00, loss: -0.92576\n",
      "epoch: 01, loss: -0.95406\n",
      "epoch: 02, loss: -0.96097\n",
      "epoch: 03, loss: -0.96499\n",
      "epoch: 04, loss: -0.96778\n",
      "epoch: 05, loss: -0.96990\n",
      "epoch: 06, loss: -0.97153\n",
      "epoch: 07, loss: -0.97291\n",
      "epoch: 08, loss: -0.97403\n",
      "epoch: 09, loss: -0.97501\n",
      "torch.Size([1024, 64])\n"
     ]
    },
    {
     "name": "stderr",
     "output_type": "stream",
     "text": [
      "  0%|          | 4/999 [04:48<20:05:57, 72.72s/it]"
     ]
    },
    {
     "name": "stdout",
     "output_type": "stream",
     "text": [
      "eigenvalues shape torch.Size([5]) eigenvectors shape torch.Size([5, 1024])\n",
      "4 /home/phdcs2/Hard_Disk/Datasets/Deep-Spectral-Segmentation/data/object-segmentation/ECSSD/features/0005_resized.pth\n",
      "dict_keys(['k', 'indices', 'file', 'id', 'model_name', 'patch_size', 'shape'])\n",
      "0005_resized\n",
      "Starting Training\n",
      "epoch: 00, loss: -0.86898\n",
      "epoch: 01, loss: -0.92378\n",
      "epoch: 02, loss: -0.93730\n",
      "epoch: 03, loss: -0.94494\n",
      "epoch: 04, loss: -0.95001\n",
      "epoch: 05, loss: -0.95381\n",
      "epoch: 06, loss: -0.95673\n",
      "epoch: 07, loss: -0.95910\n",
      "epoch: 08, loss: -0.96099\n",
      "epoch: 09, loss: -0.96267\n",
      "torch.Size([1024, 64])\n"
     ]
    },
    {
     "name": "stderr",
     "output_type": "stream",
     "text": [
      "  1%|          | 5/999 [06:06<20:31:07, 74.31s/it]"
     ]
    },
    {
     "name": "stdout",
     "output_type": "stream",
     "text": [
      "eigenvalues shape torch.Size([5]) eigenvectors shape torch.Size([5, 1024])\n",
      "5 /home/phdcs2/Hard_Disk/Datasets/Deep-Spectral-Segmentation/data/object-segmentation/ECSSD/features/0006_resized.pth\n",
      "dict_keys(['k', 'indices', 'file', 'id', 'model_name', 'patch_size', 'shape'])\n",
      "0006_resized\n"
     ]
    },
    {
     "name": "stderr",
     "output_type": "stream",
     "text": [
      "/home/phdcs2/Hard_Disk/Projects/T2I/deep-spectral-segmentation/venv/lib/python3.8/site-packages/sklearn/decomposition/_pca.py:642: RuntimeWarning: invalid value encountered in divide\n",
      "  self.explained_variance_ratio_ = self.explained_variance_ / total_var\n"
     ]
    },
    {
     "name": "stdout",
     "output_type": "stream",
     "text": [
      "Starting Training\n",
      "epoch: 00, loss: -0.92214\n",
      "epoch: 01, loss: -0.95134\n",
      "epoch: 02, loss: -0.95862\n",
      "epoch: 03, loss: -0.96295\n",
      "epoch: 04, loss: -0.96591\n",
      "epoch: 05, loss: -0.96813\n",
      "epoch: 06, loss: -0.96988\n",
      "epoch: 07, loss: -0.97131\n",
      "epoch: 08, loss: -0.97252\n",
      "epoch: 09, loss: -0.97355\n",
      "torch.Size([1024, 64])\n"
     ]
    },
    {
     "name": "stderr",
     "output_type": "stream",
     "text": [
      "  1%|          | 6/999 [07:18<20:19:29, 73.69s/it]"
     ]
    },
    {
     "name": "stdout",
     "output_type": "stream",
     "text": [
      "eigenvalues shape torch.Size([5]) eigenvectors shape torch.Size([5, 1024])\n",
      "6 /home/phdcs2/Hard_Disk/Datasets/Deep-Spectral-Segmentation/data/object-segmentation/ECSSD/features/0007_resized.pth\n",
      "dict_keys(['k', 'indices', 'file', 'id', 'model_name', 'patch_size', 'shape'])\n",
      "0007_resized\n"
     ]
    },
    {
     "name": "stderr",
     "output_type": "stream",
     "text": [
      "/home/phdcs2/Hard_Disk/Projects/T2I/deep-spectral-segmentation/venv/lib/python3.8/site-packages/sklearn/decomposition/_pca.py:642: RuntimeWarning: invalid value encountered in divide\n",
      "  self.explained_variance_ratio_ = self.explained_variance_ / total_var\n"
     ]
    },
    {
     "name": "stdout",
     "output_type": "stream",
     "text": [
      "Starting Training\n",
      "epoch: 00, loss: -0.92143\n",
      "epoch: 01, loss: -0.95345\n",
      "epoch: 02, loss: -0.96073\n",
      "epoch: 03, loss: -0.96496\n",
      "epoch: 04, loss: -0.96782\n",
      "epoch: 05, loss: -0.96996\n",
      "epoch: 06, loss: -0.97164\n",
      "epoch: 07, loss: -0.97302\n",
      "epoch: 08, loss: -0.97414\n",
      "epoch: 09, loss: -0.97511\n",
      "torch.Size([1024, 64])\n"
     ]
    },
    {
     "name": "stderr",
     "output_type": "stream",
     "text": [
      "  1%|          | 7/999 [08:22<19:23:37, 70.38s/it]"
     ]
    },
    {
     "name": "stdout",
     "output_type": "stream",
     "text": [
      "eigenvalues shape torch.Size([5]) eigenvectors shape torch.Size([5, 1024])\n",
      "7 /home/phdcs2/Hard_Disk/Datasets/Deep-Spectral-Segmentation/data/object-segmentation/ECSSD/features/0008_resized.pth\n",
      "dict_keys(['k', 'indices', 'file', 'id', 'model_name', 'patch_size', 'shape'])\n",
      "0008_resized\n",
      "Starting Training\n",
      "epoch: 00, loss: -0.86400\n",
      "epoch: 01, loss: -0.92136\n",
      "epoch: 02, loss: -0.93544\n",
      "epoch: 03, loss: -0.94353\n",
      "epoch: 04, loss: -0.94873\n",
      "epoch: 05, loss: -0.95256\n",
      "epoch: 06, loss: -0.95559\n",
      "epoch: 07, loss: -0.95796\n",
      "epoch: 08, loss: -0.96010\n",
      "epoch: 09, loss: -0.96166\n",
      "torch.Size([1024, 64])\n"
     ]
    },
    {
     "name": "stderr",
     "output_type": "stream",
     "text": [
      "  1%|          | 8/999 [09:35<19:40:10, 71.45s/it]"
     ]
    },
    {
     "name": "stdout",
     "output_type": "stream",
     "text": [
      "eigenvalues shape torch.Size([5]) eigenvectors shape torch.Size([5, 1024])\n",
      "8 /home/phdcs2/Hard_Disk/Datasets/Deep-Spectral-Segmentation/data/object-segmentation/ECSSD/features/0009_resized.pth\n",
      "dict_keys(['k', 'indices', 'file', 'id', 'model_name', 'patch_size', 'shape'])\n",
      "0009_resized\n"
     ]
    },
    {
     "name": "stderr",
     "output_type": "stream",
     "text": [
      "/home/phdcs2/Hard_Disk/Projects/T2I/deep-spectral-segmentation/venv/lib/python3.8/site-packages/sklearn/decomposition/_pca.py:642: RuntimeWarning: invalid value encountered in divide\n",
      "  self.explained_variance_ratio_ = self.explained_variance_ / total_var\n"
     ]
    },
    {
     "name": "stdout",
     "output_type": "stream",
     "text": [
      "Starting Training\n",
      "epoch: 00, loss: -0.91948\n",
      "epoch: 01, loss: -0.94998\n",
      "epoch: 02, loss: -0.95728\n",
      "epoch: 03, loss: -0.96163\n",
      "epoch: 04, loss: -0.96461\n",
      "epoch: 05, loss: -0.96685\n",
      "epoch: 06, loss: -0.96867\n",
      "epoch: 07, loss: -0.97009\n",
      "epoch: 08, loss: -0.97133\n",
      "epoch: 09, loss: -0.97236\n",
      "torch.Size([1024, 64])\n"
     ]
    },
    {
     "name": "stderr",
     "output_type": "stream",
     "text": [
      "  1%|          | 9/999 [10:51<20:00:56, 72.78s/it]"
     ]
    },
    {
     "name": "stdout",
     "output_type": "stream",
     "text": [
      "eigenvalues shape torch.Size([5]) eigenvectors shape torch.Size([5, 1024])\n",
      "9 /home/phdcs2/Hard_Disk/Datasets/Deep-Spectral-Segmentation/data/object-segmentation/ECSSD/features/0010_resized.pth\n",
      "dict_keys(['k', 'indices', 'file', 'id', 'model_name', 'patch_size', 'shape'])\n",
      "0010_resized\n"
     ]
    },
    {
     "name": "stderr",
     "output_type": "stream",
     "text": [
      "/home/phdcs2/Hard_Disk/Projects/T2I/deep-spectral-segmentation/venv/lib/python3.8/site-packages/sklearn/decomposition/_pca.py:642: RuntimeWarning: invalid value encountered in divide\n",
      "  self.explained_variance_ratio_ = self.explained_variance_ / total_var\n"
     ]
    },
    {
     "name": "stdout",
     "output_type": "stream",
     "text": [
      "Starting Training\n",
      "epoch: 00, loss: -0.91652\n",
      "epoch: 01, loss: -0.94813\n",
      "epoch: 02, loss: -0.95572\n",
      "epoch: 03, loss: -0.96023\n",
      "epoch: 04, loss: -0.96333\n",
      "epoch: 05, loss: -0.96564\n",
      "epoch: 06, loss: -0.96747\n",
      "epoch: 07, loss: -0.96898\n",
      "epoch: 08, loss: -0.97024\n",
      "epoch: 09, loss: -0.97132\n",
      "torch.Size([1024, 64])\n"
     ]
    },
    {
     "name": "stderr",
     "output_type": "stream",
     "text": [
      "  1%|          | 10/999 [12:11<20:36:32, 75.02s/it]"
     ]
    },
    {
     "name": "stdout",
     "output_type": "stream",
     "text": [
      "eigenvalues shape torch.Size([5]) eigenvectors shape torch.Size([5, 1024])\n",
      "10 /home/phdcs2/Hard_Disk/Datasets/Deep-Spectral-Segmentation/data/object-segmentation/ECSSD/features/0011_resized.pth\n",
      "dict_keys(['k', 'indices', 'file', 'id', 'model_name', 'patch_size', 'shape'])\n",
      "0011_resized\n"
     ]
    },
    {
     "name": "stderr",
     "output_type": "stream",
     "text": [
      "/home/phdcs2/Hard_Disk/Projects/T2I/deep-spectral-segmentation/venv/lib/python3.8/site-packages/sklearn/decomposition/_pca.py:642: RuntimeWarning: invalid value encountered in divide\n",
      "  self.explained_variance_ratio_ = self.explained_variance_ / total_var\n"
     ]
    },
    {
     "name": "stdout",
     "output_type": "stream",
     "text": [
      "Starting Training\n",
      "epoch: 00, loss: -0.92554\n",
      "epoch: 01, loss: -0.95607\n",
      "epoch: 02, loss: -0.96311\n",
      "epoch: 03, loss: -0.96717\n",
      "epoch: 04, loss: -0.96991\n",
      "epoch: 05, loss: -0.97199\n",
      "epoch: 06, loss: -0.97356\n",
      "epoch: 07, loss: -0.97485\n",
      "epoch: 08, loss: -0.97593\n",
      "epoch: 09, loss: -0.97684\n",
      "torch.Size([1024, 64])\n"
     ]
    },
    {
     "name": "stderr",
     "output_type": "stream",
     "text": [
      "  1%|          | 11/999 [13:28<20:46:48, 75.72s/it]"
     ]
    },
    {
     "name": "stdout",
     "output_type": "stream",
     "text": [
      "eigenvalues shape torch.Size([5]) eigenvectors shape torch.Size([5, 1024])\n",
      "11 /home/phdcs2/Hard_Disk/Datasets/Deep-Spectral-Segmentation/data/object-segmentation/ECSSD/features/0012_resized.pth\n",
      "dict_keys(['k', 'indices', 'file', 'id', 'model_name', 'patch_size', 'shape'])\n",
      "0012_resized\n",
      "Starting Training\n",
      "epoch: 00, loss: -0.85717\n",
      "epoch: 01, loss: -0.91629\n",
      "epoch: 02, loss: -0.93032\n",
      "epoch: 03, loss: -0.93845\n",
      "epoch: 04, loss: -0.94363\n",
      "epoch: 05, loss: -0.94761\n",
      "epoch: 06, loss: -0.95077\n",
      "epoch: 07, loss: -0.95303\n",
      "epoch: 08, loss: -0.95514\n",
      "epoch: 09, loss: -0.95673\n",
      "torch.Size([1024, 64])\n"
     ]
    },
    {
     "name": "stderr",
     "output_type": "stream",
     "text": [
      "  1%|          | 12/999 [14:44<20:44:40, 75.66s/it]"
     ]
    },
    {
     "name": "stdout",
     "output_type": "stream",
     "text": [
      "eigenvalues shape torch.Size([5]) eigenvectors shape torch.Size([5, 1024])\n",
      "12 /home/phdcs2/Hard_Disk/Datasets/Deep-Spectral-Segmentation/data/object-segmentation/ECSSD/features/0013_resized.pth\n",
      "dict_keys(['k', 'indices', 'file', 'id', 'model_name', 'patch_size', 'shape'])\n",
      "0013_resized\n",
      "Starting Training\n",
      "epoch: 00, loss: -0.85790\n",
      "epoch: 01, loss: -0.91796\n",
      "epoch: 02, loss: -0.93322\n",
      "epoch: 03, loss: -0.94145\n",
      "epoch: 04, loss: -0.94694\n",
      "epoch: 05, loss: -0.95085\n",
      "epoch: 06, loss: -0.95405\n",
      "epoch: 07, loss: -0.95651\n",
      "epoch: 08, loss: -0.95857\n",
      "epoch: 09, loss: -0.96035\n",
      "torch.Size([1024, 64])\n"
     ]
    },
    {
     "name": "stderr",
     "output_type": "stream",
     "text": [
      "  1%|▏         | 13/999 [15:56<20:28:00, 74.73s/it]"
     ]
    },
    {
     "name": "stdout",
     "output_type": "stream",
     "text": [
      "eigenvalues shape torch.Size([5]) eigenvectors shape torch.Size([5, 1024])\n",
      "13 /home/phdcs2/Hard_Disk/Datasets/Deep-Spectral-Segmentation/data/object-segmentation/ECSSD/features/0014_resized.pth\n",
      "dict_keys(['k', 'indices', 'file', 'id', 'model_name', 'patch_size', 'shape'])\n",
      "0014_resized\n",
      "Starting Training\n",
      "epoch: 00, loss: -0.87596\n",
      "epoch: 01, loss: -0.92574\n",
      "epoch: 02, loss: -0.93851\n",
      "epoch: 03, loss: -0.94595\n",
      "epoch: 04, loss: -0.95099\n",
      "epoch: 05, loss: -0.95457\n",
      "epoch: 06, loss: -0.95745\n",
      "epoch: 07, loss: -0.95984\n",
      "epoch: 08, loss: -0.96181\n",
      "epoch: 09, loss: -0.96334\n",
      "torch.Size([1024, 64])\n"
     ]
    },
    {
     "name": "stderr",
     "output_type": "stream",
     "text": [
      "  1%|▏         | 14/999 [17:12<20:32:05, 75.05s/it]"
     ]
    },
    {
     "name": "stdout",
     "output_type": "stream",
     "text": [
      "eigenvalues shape torch.Size([5]) eigenvectors shape torch.Size([5, 1024])\n",
      "14 /home/phdcs2/Hard_Disk/Datasets/Deep-Spectral-Segmentation/data/object-segmentation/ECSSD/features/0015_resized.pth\n",
      "dict_keys(['k', 'indices', 'file', 'id', 'model_name', 'patch_size', 'shape'])\n",
      "0015_resized\n",
      "Starting Training\n",
      "epoch: 00, loss: -0.88780\n",
      "epoch: 01, loss: -0.93526\n",
      "epoch: 02, loss: -0.94594\n",
      "epoch: 03, loss: -0.95186\n",
      "epoch: 04, loss: -0.95603\n",
      "epoch: 05, loss: -0.95900\n",
      "epoch: 06, loss: -0.96135\n",
      "epoch: 07, loss: -0.96320\n",
      "epoch: 08, loss: -0.96467\n",
      "epoch: 09, loss: -0.96596\n",
      "torch.Size([1024, 64])\n"
     ]
    },
    {
     "name": "stderr",
     "output_type": "stream",
     "text": [
      "  2%|▏         | 15/999 [18:26<20:22:04, 74.52s/it]"
     ]
    },
    {
     "name": "stdout",
     "output_type": "stream",
     "text": [
      "eigenvalues shape torch.Size([5]) eigenvectors shape torch.Size([5, 1024])\n",
      "15 /home/phdcs2/Hard_Disk/Datasets/Deep-Spectral-Segmentation/data/object-segmentation/ECSSD/features/0016_resized.pth\n",
      "dict_keys(['k', 'indices', 'file', 'id', 'model_name', 'patch_size', 'shape'])\n",
      "0016_resized\n",
      "Starting Training\n",
      "epoch: 00, loss: -0.86408\n",
      "epoch: 01, loss: -0.91920\n",
      "epoch: 02, loss: -0.93353\n",
      "epoch: 03, loss: -0.94190\n",
      "epoch: 04, loss: -0.94723\n",
      "epoch: 05, loss: -0.95132\n",
      "epoch: 06, loss: -0.95454\n",
      "epoch: 07, loss: -0.95697\n",
      "epoch: 08, loss: -0.95921\n",
      "epoch: 09, loss: -0.96103\n",
      "torch.Size([1024, 64])\n"
     ]
    },
    {
     "name": "stderr",
     "output_type": "stream",
     "text": [
      "  2%|▏         | 16/999 [19:40<20:20:58, 74.53s/it]"
     ]
    },
    {
     "name": "stdout",
     "output_type": "stream",
     "text": [
      "eigenvalues shape torch.Size([5]) eigenvectors shape torch.Size([5, 1024])\n",
      "16 /home/phdcs2/Hard_Disk/Datasets/Deep-Spectral-Segmentation/data/object-segmentation/ECSSD/features/0017_resized.pth\n",
      "dict_keys(['k', 'indices', 'file', 'id', 'model_name', 'patch_size', 'shape'])\n",
      "0017_resized\n",
      "Starting Training\n",
      "epoch: 00, loss: -0.86236\n",
      "epoch: 01, loss: -0.91561\n",
      "epoch: 02, loss: -0.93045\n",
      "epoch: 03, loss: -0.93898\n",
      "epoch: 04, loss: -0.94473\n",
      "epoch: 05, loss: -0.94887\n",
      "epoch: 06, loss: -0.95225\n",
      "epoch: 07, loss: -0.95483\n",
      "epoch: 08, loss: -0.95692\n",
      "epoch: 09, loss: -0.95882\n",
      "torch.Size([1024, 64])\n"
     ]
    },
    {
     "name": "stderr",
     "output_type": "stream",
     "text": [
      "  2%|▏         | 17/999 [20:49<19:52:48, 72.88s/it]"
     ]
    },
    {
     "name": "stdout",
     "output_type": "stream",
     "text": [
      "eigenvalues shape torch.Size([5]) eigenvectors shape torch.Size([5, 1024])\n",
      "17 /home/phdcs2/Hard_Disk/Datasets/Deep-Spectral-Segmentation/data/object-segmentation/ECSSD/features/0018_resized.pth\n",
      "dict_keys(['k', 'indices', 'file', 'id', 'model_name', 'patch_size', 'shape'])\n",
      "0018_resized\n"
     ]
    },
    {
     "name": "stderr",
     "output_type": "stream",
     "text": [
      "/home/phdcs2/Hard_Disk/Projects/T2I/deep-spectral-segmentation/venv/lib/python3.8/site-packages/sklearn/decomposition/_pca.py:642: RuntimeWarning: invalid value encountered in divide\n",
      "  self.explained_variance_ratio_ = self.explained_variance_ / total_var\n"
     ]
    },
    {
     "name": "stdout",
     "output_type": "stream",
     "text": [
      "Starting Training\n",
      "epoch: 00, loss: -0.93602\n",
      "epoch: 01, loss: -0.96172\n",
      "epoch: 02, loss: -0.96733\n",
      "epoch: 03, loss: -0.97061\n",
      "epoch: 04, loss: -0.97287\n",
      "epoch: 05, loss: -0.97458\n",
      "epoch: 06, loss: -0.97592\n",
      "epoch: 07, loss: -0.97701\n",
      "epoch: 08, loss: -0.97794\n",
      "epoch: 09, loss: -0.97872\n",
      "torch.Size([1024, 64])\n"
     ]
    },
    {
     "name": "stderr",
     "output_type": "stream",
     "text": [
      "  2%|▏         | 18/999 [21:51<18:56:47, 69.53s/it]"
     ]
    },
    {
     "name": "stdout",
     "output_type": "stream",
     "text": [
      "eigenvalues shape torch.Size([5]) eigenvectors shape torch.Size([5, 1024])\n",
      "18 /home/phdcs2/Hard_Disk/Datasets/Deep-Spectral-Segmentation/data/object-segmentation/ECSSD/features/0019_resized.pth\n",
      "dict_keys(['k', 'indices', 'file', 'id', 'model_name', 'patch_size', 'shape'])\n",
      "0019_resized\n",
      "Starting Training\n",
      "epoch: 00, loss: -0.84254\n",
      "epoch: 01, loss: -0.90855\n",
      "epoch: 02, loss: -0.92534\n",
      "epoch: 03, loss: -0.93460\n",
      "epoch: 04, loss: -0.94102\n",
      "epoch: 05, loss: -0.94575\n",
      "epoch: 06, loss: -0.94923\n",
      "epoch: 07, loss: -0.95212\n",
      "epoch: 08, loss: -0.95446\n",
      "epoch: 09, loss: -0.95647\n",
      "torch.Size([1024, 64])\n"
     ]
    },
    {
     "name": "stderr",
     "output_type": "stream",
     "text": [
      "  2%|▏         | 19/999 [23:04<19:14:21, 70.68s/it]"
     ]
    },
    {
     "name": "stdout",
     "output_type": "stream",
     "text": [
      "eigenvalues shape torch.Size([5]) eigenvectors shape torch.Size([5, 1024])\n",
      "19 /home/phdcs2/Hard_Disk/Datasets/Deep-Spectral-Segmentation/data/object-segmentation/ECSSD/features/0020_resized.pth\n",
      "dict_keys(['k', 'indices', 'file', 'id', 'model_name', 'patch_size', 'shape'])\n",
      "0020_resized\n",
      "Starting Training\n",
      "epoch: 00, loss: -0.84576\n",
      "epoch: 01, loss: -0.90859\n",
      "epoch: 02, loss: -0.92483\n",
      "epoch: 03, loss: -0.93378\n",
      "epoch: 04, loss: -0.93971\n",
      "epoch: 05, loss: -0.94432\n",
      "epoch: 06, loss: -0.94794\n",
      "epoch: 07, loss: -0.95057\n",
      "epoch: 08, loss: -0.95290\n",
      "epoch: 09, loss: -0.95497\n",
      "torch.Size([1024, 64])\n"
     ]
    },
    {
     "name": "stderr",
     "output_type": "stream",
     "text": [
      "  2%|▏         | 20/999 [24:18<19:26:10, 71.47s/it]"
     ]
    },
    {
     "name": "stdout",
     "output_type": "stream",
     "text": [
      "eigenvalues shape torch.Size([5]) eigenvectors shape torch.Size([5, 1024])\n",
      "20 /home/phdcs2/Hard_Disk/Datasets/Deep-Spectral-Segmentation/data/object-segmentation/ECSSD/features/0021_resized.pth\n",
      "dict_keys(['k', 'indices', 'file', 'id', 'model_name', 'patch_size', 'shape'])\n",
      "0021_resized\n",
      "Starting Training\n",
      "epoch: 00, loss: -0.87290\n",
      "epoch: 01, loss: -0.92550\n",
      "epoch: 02, loss: -0.93847\n",
      "epoch: 03, loss: -0.94565\n",
      "epoch: 04, loss: -0.95060\n",
      "epoch: 05, loss: -0.95412\n",
      "epoch: 06, loss: -0.95685\n",
      "epoch: 07, loss: -0.95903\n",
      "epoch: 08, loss: -0.96086\n",
      "epoch: 09, loss: -0.96248\n",
      "torch.Size([1024, 64])\n"
     ]
    },
    {
     "name": "stderr",
     "output_type": "stream",
     "text": [
      "  2%|▏         | 21/999 [25:30<19:32:14, 71.92s/it]"
     ]
    },
    {
     "name": "stdout",
     "output_type": "stream",
     "text": [
      "eigenvalues shape torch.Size([5]) eigenvectors shape torch.Size([5, 1024])\n",
      "21 /home/phdcs2/Hard_Disk/Datasets/Deep-Spectral-Segmentation/data/object-segmentation/ECSSD/features/0022_resized.pth\n",
      "dict_keys(['k', 'indices', 'file', 'id', 'model_name', 'patch_size', 'shape'])\n",
      "0022_resized\n"
     ]
    },
    {
     "name": "stderr",
     "output_type": "stream",
     "text": [
      "/home/phdcs2/Hard_Disk/Projects/T2I/deep-spectral-segmentation/venv/lib/python3.8/site-packages/sklearn/decomposition/_pca.py:642: RuntimeWarning: invalid value encountered in divide\n",
      "  self.explained_variance_ratio_ = self.explained_variance_ / total_var\n"
     ]
    },
    {
     "name": "stdout",
     "output_type": "stream",
     "text": [
      "Starting Training\n",
      "epoch: 00, loss: -0.92685\n",
      "epoch: 01, loss: -0.95825\n",
      "epoch: 02, loss: -0.96482\n",
      "epoch: 03, loss: -0.96860\n",
      "epoch: 04, loss: -0.97120\n",
      "epoch: 05, loss: -0.97311\n",
      "epoch: 06, loss: -0.97463\n",
      "epoch: 07, loss: -0.97585\n",
      "epoch: 08, loss: -0.97688\n",
      "epoch: 09, loss: -0.97775\n",
      "torch.Size([1024, 64])\n"
     ]
    },
    {
     "name": "stderr",
     "output_type": "stream",
     "text": [
      "  2%|▏         | 22/999 [26:41<19:26:03, 71.61s/it]"
     ]
    },
    {
     "name": "stdout",
     "output_type": "stream",
     "text": [
      "eigenvalues shape torch.Size([5]) eigenvectors shape torch.Size([5, 1024])\n",
      "22 /home/phdcs2/Hard_Disk/Datasets/Deep-Spectral-Segmentation/data/object-segmentation/ECSSD/features/0024_resized.pth\n",
      "dict_keys(['k', 'indices', 'file', 'id', 'model_name', 'patch_size', 'shape'])\n",
      "0024_resized\n",
      "Starting Training\n",
      "epoch: 00, loss: -0.87244\n",
      "epoch: 01, loss: -0.92518\n",
      "epoch: 02, loss: -0.93851\n",
      "epoch: 03, loss: -0.94615\n",
      "epoch: 04, loss: -0.95109\n",
      "epoch: 05, loss: -0.95477\n",
      "epoch: 06, loss: -0.95762\n",
      "epoch: 07, loss: -0.95983\n",
      "epoch: 08, loss: -0.96179\n",
      "epoch: 09, loss: -0.96329\n",
      "torch.Size([1024, 64])\n"
     ]
    },
    {
     "name": "stderr",
     "output_type": "stream",
     "text": [
      "  2%|▏         | 23/999 [27:51<19:13:17, 70.90s/it]"
     ]
    },
    {
     "name": "stdout",
     "output_type": "stream",
     "text": [
      "eigenvalues shape torch.Size([5]) eigenvectors shape torch.Size([5, 1024])\n",
      "23 /home/phdcs2/Hard_Disk/Datasets/Deep-Spectral-Segmentation/data/object-segmentation/ECSSD/features/0025_resized.pth\n",
      "dict_keys(['k', 'indices', 'file', 'id', 'model_name', 'patch_size', 'shape'])\n",
      "0025_resized\n",
      "Starting Training\n",
      "epoch: 00, loss: -0.91843\n",
      "epoch: 01, loss: -0.95790\n",
      "epoch: 02, loss: -0.96463\n",
      "epoch: 03, loss: -0.96851\n",
      "epoch: 04, loss: -0.97109\n",
      "epoch: 05, loss: -0.97302\n",
      "epoch: 06, loss: -0.97455\n",
      "epoch: 07, loss: -0.97580\n",
      "epoch: 08, loss: -0.97683\n",
      "epoch: 09, loss: -0.97770\n",
      "torch.Size([1024, 64])\n"
     ]
    },
    {
     "name": "stderr",
     "output_type": "stream",
     "text": [
      "  2%|▏         | 24/999 [28:55<18:38:26, 68.83s/it]"
     ]
    },
    {
     "name": "stdout",
     "output_type": "stream",
     "text": [
      "eigenvalues shape torch.Size([5]) eigenvectors shape torch.Size([5, 1024])\n",
      "24 /home/phdcs2/Hard_Disk/Datasets/Deep-Spectral-Segmentation/data/object-segmentation/ECSSD/features/0026_resized.pth\n",
      "dict_keys(['k', 'indices', 'file', 'id', 'model_name', 'patch_size', 'shape'])\n",
      "0026_resized\n",
      "Starting Training\n",
      "epoch: 00, loss: -0.87643\n",
      "epoch: 01, loss: -0.92437\n",
      "epoch: 02, loss: -0.93771\n",
      "epoch: 03, loss: -0.94514\n",
      "epoch: 04, loss: -0.95004\n",
      "epoch: 05, loss: -0.95364\n",
      "epoch: 06, loss: -0.95649\n",
      "epoch: 07, loss: -0.95872\n",
      "epoch: 08, loss: -0.96062\n",
      "epoch: 09, loss: -0.96232\n",
      "torch.Size([1024, 64])\n"
     ]
    },
    {
     "name": "stderr",
     "output_type": "stream",
     "text": [
      "  3%|▎         | 25/999 [30:06<18:51:10, 69.68s/it]"
     ]
    },
    {
     "name": "stdout",
     "output_type": "stream",
     "text": [
      "eigenvalues shape torch.Size([5]) eigenvectors shape torch.Size([5, 1024])\n",
      "25 /home/phdcs2/Hard_Disk/Datasets/Deep-Spectral-Segmentation/data/object-segmentation/ECSSD/features/0027_resized.pth\n",
      "dict_keys(['k', 'indices', 'file', 'id', 'model_name', 'patch_size', 'shape'])\n",
      "0027_resized\n",
      "Starting Training\n",
      "epoch: 00, loss: -0.84271\n",
      "epoch: 01, loss: -0.89911\n",
      "epoch: 02, loss: -0.91271\n",
      "epoch: 03, loss: -0.92095\n",
      "epoch: 04, loss: -0.92693\n",
      "epoch: 05, loss: -0.93135\n",
      "epoch: 06, loss: -0.93519\n",
      "epoch: 07, loss: -0.93781\n",
      "epoch: 08, loss: -0.94025\n",
      "epoch: 09, loss: -0.94228\n",
      "torch.Size([1024, 64])\n"
     ]
    },
    {
     "name": "stderr",
     "output_type": "stream",
     "text": [
      "  3%|▎         | 26/999 [31:19<19:07:04, 70.73s/it]"
     ]
    },
    {
     "name": "stdout",
     "output_type": "stream",
     "text": [
      "eigenvalues shape torch.Size([5]) eigenvectors shape torch.Size([5, 1024])\n",
      "26 /home/phdcs2/Hard_Disk/Datasets/Deep-Spectral-Segmentation/data/object-segmentation/ECSSD/features/0028_resized.pth\n",
      "dict_keys(['k', 'indices', 'file', 'id', 'model_name', 'patch_size', 'shape'])\n",
      "0028_resized\n",
      "Starting Training\n",
      "epoch: 00, loss: -0.93860\n",
      "epoch: 01, loss: -0.96348\n",
      "epoch: 02, loss: -0.96918\n",
      "epoch: 03, loss: -0.97248\n",
      "epoch: 04, loss: -0.97473\n",
      "epoch: 05, loss: -0.97641\n",
      "epoch: 06, loss: -0.97770\n",
      "epoch: 07, loss: -0.97878\n",
      "epoch: 08, loss: -0.97967\n",
      "epoch: 09, loss: -0.98042\n",
      "torch.Size([1024, 64])\n"
     ]
    },
    {
     "name": "stderr",
     "output_type": "stream",
     "text": [
      "  3%|▎         | 27/999 [32:24<18:35:12, 68.84s/it]"
     ]
    },
    {
     "name": "stdout",
     "output_type": "stream",
     "text": [
      "eigenvalues shape torch.Size([5]) eigenvectors shape torch.Size([5, 1024])\n",
      "27 /home/phdcs2/Hard_Disk/Datasets/Deep-Spectral-Segmentation/data/object-segmentation/ECSSD/features/0029_resized.pth\n",
      "dict_keys(['k', 'indices', 'file', 'id', 'model_name', 'patch_size', 'shape'])\n",
      "0029_resized\n",
      "Starting Training\n",
      "epoch: 00, loss: -0.87451\n",
      "epoch: 01, loss: -0.92545\n",
      "epoch: 02, loss: -0.93856\n",
      "epoch: 03, loss: -0.94609\n",
      "epoch: 04, loss: -0.95129\n",
      "epoch: 05, loss: -0.95493\n",
      "epoch: 06, loss: -0.95782\n",
      "epoch: 07, loss: -0.96013\n",
      "epoch: 08, loss: -0.96210\n",
      "epoch: 09, loss: -0.96373\n",
      "torch.Size([1024, 64])\n"
     ]
    },
    {
     "name": "stderr",
     "output_type": "stream",
     "text": [
      "  3%|▎         | 28/999 [33:37<18:54:28, 70.10s/it]"
     ]
    },
    {
     "name": "stdout",
     "output_type": "stream",
     "text": [
      "eigenvalues shape torch.Size([5]) eigenvectors shape torch.Size([5, 1024])\n",
      "28 /home/phdcs2/Hard_Disk/Datasets/Deep-Spectral-Segmentation/data/object-segmentation/ECSSD/features/0030_resized.pth\n",
      "dict_keys(['k', 'indices', 'file', 'id', 'model_name', 'patch_size', 'shape'])\n",
      "0030_resized\n",
      "Starting Training\n",
      "epoch: 00, loss: -0.86512\n",
      "epoch: 01, loss: -0.92196\n",
      "epoch: 02, loss: -0.93611\n",
      "epoch: 03, loss: -0.94411\n",
      "epoch: 04, loss: -0.94931\n",
      "epoch: 05, loss: -0.95314\n",
      "epoch: 06, loss: -0.95628\n",
      "epoch: 07, loss: -0.95871\n",
      "epoch: 08, loss: -0.96070\n",
      "epoch: 09, loss: -0.96238\n",
      "torch.Size([1024, 64])\n"
     ]
    },
    {
     "name": "stderr",
     "output_type": "stream",
     "text": [
      "  3%|▎         | 29/999 [34:51<19:10:56, 71.19s/it]"
     ]
    },
    {
     "name": "stdout",
     "output_type": "stream",
     "text": [
      "eigenvalues shape torch.Size([5]) eigenvectors shape torch.Size([5, 1024])\n",
      "29 /home/phdcs2/Hard_Disk/Datasets/Deep-Spectral-Segmentation/data/object-segmentation/ECSSD/features/0031_resized.pth\n",
      "dict_keys(['k', 'indices', 'file', 'id', 'model_name', 'patch_size', 'shape'])\n",
      "0031_resized\n",
      "Starting Training\n",
      "epoch: 00, loss: -0.91785\n",
      "epoch: 01, loss: -0.94952\n",
      "epoch: 02, loss: -0.95696\n",
      "epoch: 03, loss: -0.96130\n",
      "epoch: 04, loss: -0.96434\n",
      "epoch: 05, loss: -0.96657\n",
      "epoch: 06, loss: -0.96835\n",
      "epoch: 07, loss: -0.96984\n",
      "epoch: 08, loss: -0.97104\n",
      "epoch: 09, loss: -0.97210\n",
      "torch.Size([1024, 64])\n"
     ]
    },
    {
     "name": "stderr",
     "output_type": "stream",
     "text": [
      "  3%|▎         | 30/999 [35:58<18:50:01, 69.97s/it]"
     ]
    },
    {
     "name": "stdout",
     "output_type": "stream",
     "text": [
      "eigenvalues shape torch.Size([5]) eigenvectors shape torch.Size([5, 1024])\n",
      "30 /home/phdcs2/Hard_Disk/Datasets/Deep-Spectral-Segmentation/data/object-segmentation/ECSSD/features/0032_resized.pth\n",
      "dict_keys(['k', 'indices', 'file', 'id', 'model_name', 'patch_size', 'shape'])\n",
      "0032_resized\n",
      "Starting Training\n",
      "epoch: 00, loss: -0.85714\n",
      "epoch: 01, loss: -0.91386\n",
      "epoch: 02, loss: -0.92861\n",
      "epoch: 03, loss: -0.93743\n",
      "epoch: 04, loss: -0.94316\n",
      "epoch: 05, loss: -0.94740\n",
      "epoch: 06, loss: -0.95062\n",
      "epoch: 07, loss: -0.95313\n",
      "epoch: 08, loss: -0.95535\n",
      "epoch: 09, loss: -0.95726\n",
      "torch.Size([1024, 64])\n"
     ]
    },
    {
     "name": "stderr",
     "output_type": "stream",
     "text": [
      "  3%|▎         | 31/999 [37:11<19:06:43, 71.08s/it]"
     ]
    },
    {
     "name": "stdout",
     "output_type": "stream",
     "text": [
      "eigenvalues shape torch.Size([5]) eigenvectors shape torch.Size([5, 1024])\n",
      "31 /home/phdcs2/Hard_Disk/Datasets/Deep-Spectral-Segmentation/data/object-segmentation/ECSSD/features/0033_resized.pth\n",
      "dict_keys(['k', 'indices', 'file', 'id', 'model_name', 'patch_size', 'shape'])\n",
      "0033_resized\n",
      "Starting Training\n",
      "epoch: 00, loss: -0.88305\n",
      "epoch: 01, loss: -0.93038\n",
      "epoch: 02, loss: -0.94263\n",
      "epoch: 03, loss: -0.94965\n",
      "epoch: 04, loss: -0.95434\n",
      "epoch: 05, loss: -0.95762\n",
      "epoch: 06, loss: -0.96017\n",
      "epoch: 07, loss: -0.96229\n",
      "epoch: 08, loss: -0.96409\n",
      "epoch: 09, loss: -0.96564\n",
      "torch.Size([1024, 64])\n"
     ]
    },
    {
     "name": "stderr",
     "output_type": "stream",
     "text": [
      "  3%|▎         | 32/999 [38:25<19:19:28, 71.94s/it]"
     ]
    },
    {
     "name": "stdout",
     "output_type": "stream",
     "text": [
      "eigenvalues shape torch.Size([5]) eigenvectors shape torch.Size([5, 1024])\n",
      "32 /home/phdcs2/Hard_Disk/Datasets/Deep-Spectral-Segmentation/data/object-segmentation/ECSSD/features/0034_resized.pth\n",
      "dict_keys(['k', 'indices', 'file', 'id', 'model_name', 'patch_size', 'shape'])\n",
      "0034_resized\n",
      "Starting Training\n",
      "epoch: 00, loss: -0.87775\n",
      "epoch: 01, loss: -0.92996\n",
      "epoch: 02, loss: -0.94264\n",
      "epoch: 03, loss: -0.94944\n",
      "epoch: 04, loss: -0.95412\n",
      "epoch: 05, loss: -0.95741\n",
      "epoch: 06, loss: -0.96007\n",
      "epoch: 07, loss: -0.96227\n",
      "epoch: 08, loss: -0.96402\n",
      "epoch: 09, loss: -0.96556\n",
      "torch.Size([1024, 64])\n"
     ]
    },
    {
     "name": "stderr",
     "output_type": "stream",
     "text": [
      "  3%|▎         | 33/999 [39:42<19:39:08, 73.24s/it]"
     ]
    },
    {
     "name": "stdout",
     "output_type": "stream",
     "text": [
      "eigenvalues shape torch.Size([5]) eigenvectors shape torch.Size([5, 1024])\n",
      "33 /home/phdcs2/Hard_Disk/Datasets/Deep-Spectral-Segmentation/data/object-segmentation/ECSSD/features/0035_resized.pth\n",
      "dict_keys(['k', 'indices', 'file', 'id', 'model_name', 'patch_size', 'shape'])\n",
      "0035_resized\n",
      "Starting Training\n",
      "epoch: 00, loss: -0.89963\n",
      "epoch: 01, loss: -0.94031\n",
      "epoch: 02, loss: -0.95013\n",
      "epoch: 03, loss: -0.95559\n",
      "epoch: 04, loss: -0.95938\n",
      "epoch: 05, loss: -0.96225\n",
      "epoch: 06, loss: -0.96435\n",
      "epoch: 07, loss: -0.96607\n",
      "epoch: 08, loss: -0.96759\n",
      "epoch: 09, loss: -0.96880\n",
      "torch.Size([1024, 64])\n"
     ]
    },
    {
     "name": "stderr",
     "output_type": "stream",
     "text": [
      "  3%|▎         | 34/999 [40:58<19:52:31, 74.15s/it]"
     ]
    },
    {
     "name": "stdout",
     "output_type": "stream",
     "text": [
      "eigenvalues shape torch.Size([5]) eigenvectors shape torch.Size([5, 1024])\n",
      "34 /home/phdcs2/Hard_Disk/Datasets/Deep-Spectral-Segmentation/data/object-segmentation/ECSSD/features/0036_resized.pth\n",
      "dict_keys(['k', 'indices', 'file', 'id', 'model_name', 'patch_size', 'shape'])\n",
      "0036_resized\n"
     ]
    },
    {
     "name": "stderr",
     "output_type": "stream",
     "text": [
      "/home/phdcs2/Hard_Disk/Projects/T2I/deep-spectral-segmentation/venv/lib/python3.8/site-packages/sklearn/decomposition/_pca.py:642: RuntimeWarning: invalid value encountered in divide\n",
      "  self.explained_variance_ratio_ = self.explained_variance_ / total_var\n"
     ]
    },
    {
     "name": "stdout",
     "output_type": "stream",
     "text": [
      "Starting Training\n",
      "epoch: 00, loss: -0.92791\n",
      "epoch: 01, loss: -0.96091\n",
      "epoch: 02, loss: -0.96705\n",
      "epoch: 03, loss: -0.97057\n",
      "epoch: 04, loss: -0.97295\n",
      "epoch: 05, loss: -0.97472\n",
      "epoch: 06, loss: -0.97612\n",
      "epoch: 07, loss: -0.97722\n",
      "epoch: 08, loss: -0.97817\n",
      "epoch: 09, loss: -0.97899\n",
      "torch.Size([1024, 64])\n"
     ]
    },
    {
     "name": "stderr",
     "output_type": "stream",
     "text": [
      "  4%|▎         | 35/999 [42:16<20:12:21, 75.46s/it]"
     ]
    },
    {
     "name": "stdout",
     "output_type": "stream",
     "text": [
      "eigenvalues shape torch.Size([5]) eigenvectors shape torch.Size([5, 1024])\n",
      "35 /home/phdcs2/Hard_Disk/Datasets/Deep-Spectral-Segmentation/data/object-segmentation/ECSSD/features/0037_resized.pth\n",
      "dict_keys(['k', 'indices', 'file', 'id', 'model_name', 'patch_size', 'shape'])\n",
      "0037_resized\n",
      "Starting Training\n",
      "epoch: 00, loss: -0.87992\n",
      "epoch: 01, loss: -0.92992\n",
      "epoch: 02, loss: -0.94275\n",
      "epoch: 03, loss: -0.94986\n",
      "epoch: 04, loss: -0.95461\n",
      "epoch: 05, loss: -0.95803\n",
      "epoch: 06, loss: -0.96081\n",
      "epoch: 07, loss: -0.96294\n",
      "epoch: 08, loss: -0.96468\n",
      "epoch: 09, loss: -0.96615\n",
      "torch.Size([1024, 64])\n"
     ]
    },
    {
     "name": "stderr",
     "output_type": "stream",
     "text": [
      "  4%|▎         | 36/999 [43:33<20:18:02, 75.89s/it]"
     ]
    },
    {
     "name": "stdout",
     "output_type": "stream",
     "text": [
      "eigenvalues shape torch.Size([5]) eigenvectors shape torch.Size([5, 1024])\n",
      "36 /home/phdcs2/Hard_Disk/Datasets/Deep-Spectral-Segmentation/data/object-segmentation/ECSSD/features/0038_resized.pth\n",
      "dict_keys(['k', 'indices', 'file', 'id', 'model_name', 'patch_size', 'shape'])\n",
      "0038_resized\n",
      "Starting Training\n",
      "epoch: 00, loss: -0.87916\n",
      "epoch: 01, loss: -0.92812\n",
      "epoch: 02, loss: -0.94058\n",
      "epoch: 03, loss: -0.94785\n",
      "epoch: 04, loss: -0.95249\n",
      "epoch: 05, loss: -0.95600\n",
      "epoch: 06, loss: -0.95878\n",
      "epoch: 07, loss: -0.96112\n",
      "epoch: 08, loss: -0.96295\n",
      "epoch: 09, loss: -0.96451\n",
      "torch.Size([1024, 64])\n"
     ]
    },
    {
     "name": "stderr",
     "output_type": "stream",
     "text": [
      "  4%|▎         | 37/999 [44:49<20:13:15, 75.67s/it]"
     ]
    },
    {
     "name": "stdout",
     "output_type": "stream",
     "text": [
      "eigenvalues shape torch.Size([5]) eigenvectors shape torch.Size([5, 1024])\n",
      "37 /home/phdcs2/Hard_Disk/Datasets/Deep-Spectral-Segmentation/data/object-segmentation/ECSSD/features/0039_resized.pth\n",
      "dict_keys(['k', 'indices', 'file', 'id', 'model_name', 'patch_size', 'shape'])\n",
      "0039_resized\n"
     ]
    },
    {
     "name": "stderr",
     "output_type": "stream",
     "text": [
      "/home/phdcs2/Hard_Disk/Projects/T2I/deep-spectral-segmentation/venv/lib/python3.8/site-packages/sklearn/decomposition/_pca.py:642: RuntimeWarning: invalid value encountered in divide\n",
      "  self.explained_variance_ratio_ = self.explained_variance_ / total_var\n"
     ]
    },
    {
     "name": "stdout",
     "output_type": "stream",
     "text": [
      "Starting Training\n",
      "epoch: 00, loss: -0.92763\n",
      "epoch: 01, loss: -0.95924\n",
      "epoch: 02, loss: -0.96559\n",
      "epoch: 03, loss: -0.96924\n",
      "epoch: 04, loss: -0.97172\n",
      "epoch: 05, loss: -0.97359\n",
      "epoch: 06, loss: -0.97502\n",
      "epoch: 07, loss: -0.97621\n",
      "epoch: 08, loss: -0.97720\n",
      "epoch: 09, loss: -0.97805\n",
      "torch.Size([1024, 64])\n"
     ]
    },
    {
     "name": "stderr",
     "output_type": "stream",
     "text": [
      "  4%|▍         | 38/999 [46:07<20:24:23, 76.45s/it]"
     ]
    },
    {
     "name": "stdout",
     "output_type": "stream",
     "text": [
      "eigenvalues shape torch.Size([5]) eigenvectors shape torch.Size([5, 1024])\n",
      "38 /home/phdcs2/Hard_Disk/Datasets/Deep-Spectral-Segmentation/data/object-segmentation/ECSSD/features/0040_resized.pth\n",
      "dict_keys(['k', 'indices', 'file', 'id', 'model_name', 'patch_size', 'shape'])\n",
      "0040_resized\n",
      "Starting Training\n",
      "epoch: 00, loss: -0.86336\n",
      "epoch: 01, loss: -0.91953\n",
      "epoch: 02, loss: -0.93422\n",
      "epoch: 03, loss: -0.94240\n",
      "epoch: 04, loss: -0.94806\n",
      "epoch: 05, loss: -0.95233\n",
      "epoch: 06, loss: -0.95541\n",
      "epoch: 07, loss: -0.95796\n",
      "epoch: 08, loss: -0.96000\n",
      "epoch: 09, loss: -0.96179\n",
      "torch.Size([1024, 64])\n"
     ]
    },
    {
     "name": "stderr",
     "output_type": "stream",
     "text": [
      "  4%|▍         | 39/999 [47:24<20:28:41, 76.79s/it]"
     ]
    },
    {
     "name": "stdout",
     "output_type": "stream",
     "text": [
      "eigenvalues shape torch.Size([5]) eigenvectors shape torch.Size([5, 1024])\n",
      "39 /home/phdcs2/Hard_Disk/Datasets/Deep-Spectral-Segmentation/data/object-segmentation/ECSSD/features/0041_resized.pth\n",
      "dict_keys(['k', 'indices', 'file', 'id', 'model_name', 'patch_size', 'shape'])\n",
      "0041_resized\n",
      "Starting Training\n",
      "epoch: 00, loss: -0.86049\n",
      "epoch: 01, loss: -0.91784\n",
      "epoch: 02, loss: -0.93266\n",
      "epoch: 03, loss: -0.94086\n",
      "epoch: 04, loss: -0.94651\n",
      "epoch: 05, loss: -0.95065\n",
      "epoch: 06, loss: -0.95365\n",
      "epoch: 07, loss: -0.95609\n",
      "epoch: 08, loss: -0.95818\n",
      "epoch: 09, loss: -0.95990\n",
      "torch.Size([1024, 64])\n"
     ]
    },
    {
     "name": "stderr",
     "output_type": "stream",
     "text": [
      "  4%|▍         | 40/999 [48:40<20:19:26, 76.30s/it]"
     ]
    },
    {
     "name": "stdout",
     "output_type": "stream",
     "text": [
      "eigenvalues shape torch.Size([5]) eigenvectors shape torch.Size([5, 1024])\n",
      "40 /home/phdcs2/Hard_Disk/Datasets/Deep-Spectral-Segmentation/data/object-segmentation/ECSSD/features/0042_resized.pth\n",
      "dict_keys(['k', 'indices', 'file', 'id', 'model_name', 'patch_size', 'shape'])\n",
      "0042_resized\n",
      "Starting Training\n",
      "epoch: 00, loss: -0.85764\n",
      "epoch: 01, loss: -0.91695\n",
      "epoch: 02, loss: -0.93173\n",
      "epoch: 03, loss: -0.94003\n",
      "epoch: 04, loss: -0.94542\n",
      "epoch: 05, loss: -0.94951\n",
      "epoch: 06, loss: -0.95271\n",
      "epoch: 07, loss: -0.95529\n",
      "epoch: 08, loss: -0.95738\n",
      "epoch: 09, loss: -0.95916\n",
      "torch.Size([1024, 64])\n"
     ]
    },
    {
     "name": "stderr",
     "output_type": "stream",
     "text": [
      "  4%|▍         | 41/999 [49:52<20:00:25, 75.18s/it]"
     ]
    },
    {
     "name": "stdout",
     "output_type": "stream",
     "text": [
      "eigenvalues shape torch.Size([5]) eigenvectors shape torch.Size([5, 1024])\n",
      "41 /home/phdcs2/Hard_Disk/Datasets/Deep-Spectral-Segmentation/data/object-segmentation/ECSSD/features/0043_resized.pth\n",
      "dict_keys(['k', 'indices', 'file', 'id', 'model_name', 'patch_size', 'shape'])\n",
      "0043_resized\n",
      "Starting Training\n",
      "epoch: 00, loss: -0.92064\n",
      "epoch: 01, loss: -0.95219\n",
      "epoch: 02, loss: -0.96000\n",
      "epoch: 03, loss: -0.96458\n",
      "epoch: 04, loss: -0.96752\n",
      "epoch: 05, loss: -0.96978\n",
      "epoch: 06, loss: -0.97150\n",
      "epoch: 07, loss: -0.97290\n",
      "epoch: 08, loss: -0.97406\n",
      "epoch: 09, loss: -0.97511\n",
      "torch.Size([1024, 64])\n"
     ]
    },
    {
     "name": "stderr",
     "output_type": "stream",
     "text": [
      "  4%|▍         | 42/999 [51:04<19:43:26, 74.20s/it]"
     ]
    },
    {
     "name": "stdout",
     "output_type": "stream",
     "text": [
      "eigenvalues shape torch.Size([5]) eigenvectors shape torch.Size([5, 1024])\n",
      "42 /home/phdcs2/Hard_Disk/Datasets/Deep-Spectral-Segmentation/data/object-segmentation/ECSSD/features/0044_resized.pth\n",
      "dict_keys(['k', 'indices', 'file', 'id', 'model_name', 'patch_size', 'shape'])\n",
      "0044_resized\n",
      "Starting Training\n",
      "epoch: 00, loss: -0.83033\n",
      "epoch: 01, loss: -0.89988\n",
      "epoch: 02, loss: -0.91810\n",
      "epoch: 03, loss: -0.92833\n",
      "epoch: 04, loss: -0.93512\n",
      "epoch: 05, loss: -0.93993\n",
      "epoch: 06, loss: -0.94366\n",
      "epoch: 07, loss: -0.94677\n",
      "epoch: 08, loss: -0.94941\n",
      "epoch: 09, loss: -0.95157\n",
      "torch.Size([1024, 64])\n"
     ]
    },
    {
     "name": "stderr",
     "output_type": "stream",
     "text": [
      "  4%|▍         | 43/999 [52:18<19:40:28, 74.09s/it]"
     ]
    },
    {
     "name": "stdout",
     "output_type": "stream",
     "text": [
      "eigenvalues shape torch.Size([5]) eigenvectors shape torch.Size([5, 1024])\n",
      "43 /home/phdcs2/Hard_Disk/Datasets/Deep-Spectral-Segmentation/data/object-segmentation/ECSSD/features/0045_resized.pth\n",
      "dict_keys(['k', 'indices', 'file', 'id', 'model_name', 'patch_size', 'shape'])\n",
      "0045_resized\n",
      "Starting Training\n",
      "epoch: 00, loss: -0.87498\n",
      "epoch: 01, loss: -0.92465\n",
      "epoch: 02, loss: -0.93780\n",
      "epoch: 03, loss: -0.94512\n",
      "epoch: 04, loss: -0.95017\n",
      "epoch: 05, loss: -0.95392\n",
      "epoch: 06, loss: -0.95681\n",
      "epoch: 07, loss: -0.95915\n",
      "epoch: 08, loss: -0.96100\n",
      "epoch: 09, loss: -0.96265\n",
      "torch.Size([1024, 64])\n"
     ]
    },
    {
     "name": "stderr",
     "output_type": "stream",
     "text": [
      "  4%|▍         | 44/999 [53:29<19:24:42, 73.18s/it]"
     ]
    },
    {
     "name": "stdout",
     "output_type": "stream",
     "text": [
      "eigenvalues shape torch.Size([5]) eigenvectors shape torch.Size([5, 1024])\n",
      "44 /home/phdcs2/Hard_Disk/Datasets/Deep-Spectral-Segmentation/data/object-segmentation/ECSSD/features/0046_resized.pth\n",
      "dict_keys(['k', 'indices', 'file', 'id', 'model_name', 'patch_size', 'shape'])\n",
      "0046_resized\n"
     ]
    },
    {
     "name": "stderr",
     "output_type": "stream",
     "text": [
      "/home/phdcs2/Hard_Disk/Projects/T2I/deep-spectral-segmentation/venv/lib/python3.8/site-packages/sklearn/decomposition/_pca.py:642: RuntimeWarning: invalid value encountered in divide\n",
      "  self.explained_variance_ratio_ = self.explained_variance_ / total_var\n"
     ]
    },
    {
     "name": "stdout",
     "output_type": "stream",
     "text": [
      "Starting Training\n",
      "epoch: 00, loss: -0.93545\n",
      "epoch: 01, loss: -0.96016\n",
      "epoch: 02, loss: -0.96615\n",
      "epoch: 03, loss: -0.96967\n",
      "epoch: 04, loss: -0.97209\n",
      "epoch: 05, loss: -0.97392\n",
      "epoch: 06, loss: -0.97534\n",
      "epoch: 07, loss: -0.97650\n",
      "epoch: 08, loss: -0.97748\n",
      "epoch: 09, loss: -0.97832\n",
      "torch.Size([1024, 64])\n"
     ]
    },
    {
     "name": "stderr",
     "output_type": "stream",
     "text": [
      "  5%|▍         | 45/999 [54:37<18:59:17, 71.65s/it]"
     ]
    },
    {
     "name": "stdout",
     "output_type": "stream",
     "text": [
      "eigenvalues shape torch.Size([5]) eigenvectors shape torch.Size([5, 1024])\n",
      "45 /home/phdcs2/Hard_Disk/Datasets/Deep-Spectral-Segmentation/data/object-segmentation/ECSSD/features/0047_resized.pth\n",
      "dict_keys(['k', 'indices', 'file', 'id', 'model_name', 'patch_size', 'shape'])\n",
      "0047_resized\n",
      "Starting Training\n",
      "epoch: 00, loss: -0.83775\n",
      "epoch: 01, loss: -0.90489\n",
      "epoch: 02, loss: -0.92263\n",
      "epoch: 03, loss: -0.93290\n",
      "epoch: 04, loss: -0.93944\n",
      "epoch: 05, loss: -0.94443\n",
      "epoch: 06, loss: -0.94825\n",
      "epoch: 07, loss: -0.95124\n",
      "epoch: 08, loss: -0.95363\n",
      "epoch: 09, loss: -0.95570\n",
      "torch.Size([1024, 64])\n"
     ]
    },
    {
     "name": "stderr",
     "output_type": "stream",
     "text": [
      "  5%|▍         | 46/999 [55:50<19:02:56, 71.96s/it]"
     ]
    },
    {
     "name": "stdout",
     "output_type": "stream",
     "text": [
      "eigenvalues shape torch.Size([5]) eigenvectors shape torch.Size([5, 1024])\n",
      "46 /home/phdcs2/Hard_Disk/Datasets/Deep-Spectral-Segmentation/data/object-segmentation/ECSSD/features/0048_resized.pth\n",
      "dict_keys(['k', 'indices', 'file', 'id', 'model_name', 'patch_size', 'shape'])\n",
      "0048_resized\n",
      "Starting Training\n",
      "epoch: 00, loss: -0.85990\n",
      "epoch: 01, loss: -0.91659\n",
      "epoch: 02, loss: -0.93064\n",
      "epoch: 03, loss: -0.93904\n",
      "epoch: 04, loss: -0.94434\n",
      "epoch: 05, loss: -0.94834\n",
      "epoch: 06, loss: -0.95127\n",
      "epoch: 07, loss: -0.95378\n",
      "epoch: 08, loss: -0.95582\n",
      "epoch: 09, loss: -0.95753\n",
      "torch.Size([1024, 64])\n"
     ]
    },
    {
     "name": "stderr",
     "output_type": "stream",
     "text": [
      "  5%|▍         | 47/999 [57:05<19:17:23, 72.94s/it]"
     ]
    },
    {
     "name": "stdout",
     "output_type": "stream",
     "text": [
      "eigenvalues shape torch.Size([5]) eigenvectors shape torch.Size([5, 1024])\n",
      "47 /home/phdcs2/Hard_Disk/Datasets/Deep-Spectral-Segmentation/data/object-segmentation/ECSSD/features/0049_resized.pth\n",
      "dict_keys(['k', 'indices', 'file', 'id', 'model_name', 'patch_size', 'shape'])\n",
      "0049_resized\n",
      "Starting Training\n",
      "epoch: 00, loss: -0.87959\n",
      "epoch: 01, loss: -0.92898\n",
      "epoch: 02, loss: -0.94173\n",
      "epoch: 03, loss: -0.94895\n",
      "epoch: 04, loss: -0.95382\n",
      "epoch: 05, loss: -0.95733\n",
      "epoch: 06, loss: -0.96008\n",
      "epoch: 07, loss: -0.96225\n",
      "epoch: 08, loss: -0.96404\n",
      "epoch: 09, loss: -0.96552\n",
      "torch.Size([1024, 64])\n"
     ]
    },
    {
     "name": "stderr",
     "output_type": "stream",
     "text": [
      "  5%|▍         | 48/999 [58:17<19:10:18, 72.57s/it]"
     ]
    },
    {
     "name": "stdout",
     "output_type": "stream",
     "text": [
      "eigenvalues shape torch.Size([5]) eigenvectors shape torch.Size([5, 1024])\n",
      "48 /home/phdcs2/Hard_Disk/Datasets/Deep-Spectral-Segmentation/data/object-segmentation/ECSSD/features/0050_resized.pth\n",
      "dict_keys(['k', 'indices', 'file', 'id', 'model_name', 'patch_size', 'shape'])\n",
      "0050_resized\n"
     ]
    },
    {
     "name": "stderr",
     "output_type": "stream",
     "text": [
      "/home/phdcs2/Hard_Disk/Projects/T2I/deep-spectral-segmentation/venv/lib/python3.8/site-packages/sklearn/decomposition/_pca.py:642: RuntimeWarning: invalid value encountered in divide\n",
      "  self.explained_variance_ratio_ = self.explained_variance_ / total_var\n"
     ]
    },
    {
     "name": "stdout",
     "output_type": "stream",
     "text": [
      "Starting Training\n",
      "epoch: 00, loss: -0.93419\n",
      "epoch: 01, loss: -0.96172\n",
      "epoch: 02, loss: -0.96749\n",
      "epoch: 03, loss: -0.97088\n",
      "epoch: 04, loss: -0.97319\n",
      "epoch: 05, loss: -0.97495\n",
      "epoch: 06, loss: -0.97632\n",
      "epoch: 07, loss: -0.97745\n",
      "epoch: 08, loss: -0.97839\n",
      "epoch: 09, loss: -0.97920\n",
      "torch.Size([1024, 64])\n"
     ]
    },
    {
     "name": "stderr",
     "output_type": "stream",
     "text": [
      "  5%|▍         | 49/999 [59:26<18:56:02, 71.75s/it]"
     ]
    },
    {
     "name": "stdout",
     "output_type": "stream",
     "text": [
      "eigenvalues shape torch.Size([5]) eigenvectors shape torch.Size([5, 1024])\n",
      "49 /home/phdcs2/Hard_Disk/Datasets/Deep-Spectral-Segmentation/data/object-segmentation/ECSSD/features/0051_resized.pth\n",
      "dict_keys(['k', 'indices', 'file', 'id', 'model_name', 'patch_size', 'shape'])\n",
      "0051_resized\n",
      "Starting Training\n",
      "epoch: 00, loss: -0.87612\n",
      "epoch: 01, loss: -0.92748\n",
      "epoch: 02, loss: -0.94052\n",
      "epoch: 03, loss: -0.94764\n",
      "epoch: 04, loss: -0.95261\n",
      "epoch: 05, loss: -0.95627\n",
      "epoch: 06, loss: -0.95917\n",
      "epoch: 07, loss: -0.96146\n",
      "epoch: 08, loss: -0.96321\n",
      "epoch: 09, loss: -0.96493\n",
      "torch.Size([1024, 64])\n"
     ]
    },
    {
     "name": "stderr",
     "output_type": "stream",
     "text": [
      "  5%|▌         | 50/999 [1:00:36<18:42:09, 70.95s/it]"
     ]
    },
    {
     "name": "stdout",
     "output_type": "stream",
     "text": [
      "eigenvalues shape torch.Size([5]) eigenvectors shape torch.Size([5, 1024])\n",
      "50 /home/phdcs2/Hard_Disk/Datasets/Deep-Spectral-Segmentation/data/object-segmentation/ECSSD/features/0052_resized.pth\n",
      "dict_keys(['k', 'indices', 'file', 'id', 'model_name', 'patch_size', 'shape'])\n",
      "0052_resized\n",
      "Starting Training\n",
      "epoch: 00, loss: -0.88458\n",
      "epoch: 01, loss: -0.93087\n",
      "epoch: 02, loss: -0.94267\n",
      "epoch: 03, loss: -0.94931\n",
      "epoch: 04, loss: -0.95382\n",
      "epoch: 05, loss: -0.95706\n",
      "epoch: 06, loss: -0.95965\n",
      "epoch: 07, loss: -0.96177\n",
      "epoch: 08, loss: -0.96349\n",
      "epoch: 09, loss: -0.96492\n",
      "torch.Size([1024, 64])\n"
     ]
    },
    {
     "name": "stderr",
     "output_type": "stream",
     "text": [
      "  5%|▌         | 51/999 [1:01:48<18:46:26, 71.29s/it]"
     ]
    },
    {
     "name": "stdout",
     "output_type": "stream",
     "text": [
      "eigenvalues shape torch.Size([5]) eigenvectors shape torch.Size([5, 1024])\n",
      "51 /home/phdcs2/Hard_Disk/Datasets/Deep-Spectral-Segmentation/data/object-segmentation/ECSSD/features/0053_resized.pth\n",
      "dict_keys(['k', 'indices', 'file', 'id', 'model_name', 'patch_size', 'shape'])\n",
      "0053_resized\n",
      "Starting Training\n",
      "epoch: 00, loss: -0.91991\n",
      "epoch: 01, loss: -0.95280\n",
      "epoch: 02, loss: -0.96041\n",
      "epoch: 03, loss: -0.96482\n",
      "epoch: 04, loss: -0.96782\n",
      "epoch: 05, loss: -0.97003\n",
      "epoch: 06, loss: -0.97179\n",
      "epoch: 07, loss: -0.97320\n",
      "epoch: 08, loss: -0.97439\n",
      "epoch: 09, loss: -0.97539\n",
      "torch.Size([1024, 64])\n"
     ]
    },
    {
     "name": "stderr",
     "output_type": "stream",
     "text": [
      "  5%|▌         | 52/999 [1:03:01<18:55:13, 71.93s/it]"
     ]
    },
    {
     "name": "stdout",
     "output_type": "stream",
     "text": [
      "eigenvalues shape torch.Size([5]) eigenvectors shape torch.Size([5, 1024])\n",
      "52 /home/phdcs2/Hard_Disk/Datasets/Deep-Spectral-Segmentation/data/object-segmentation/ECSSD/features/0054_resized.pth\n",
      "dict_keys(['k', 'indices', 'file', 'id', 'model_name', 'patch_size', 'shape'])\n",
      "0054_resized\n",
      "Starting Training\n",
      "epoch: 00, loss: -0.88316\n",
      "epoch: 01, loss: -0.93030\n",
      "epoch: 02, loss: -0.94170\n",
      "epoch: 03, loss: -0.94847\n",
      "epoch: 04, loss: -0.95284\n",
      "epoch: 05, loss: -0.95599\n",
      "epoch: 06, loss: -0.95856\n",
      "epoch: 07, loss: -0.96058\n",
      "epoch: 08, loss: -0.96229\n",
      "epoch: 09, loss: -0.96375\n",
      "torch.Size([1024, 64])\n"
     ]
    },
    {
     "name": "stderr",
     "output_type": "stream",
     "text": [
      "  5%|▌         | 53/999 [1:04:15<19:03:09, 72.50s/it]"
     ]
    },
    {
     "name": "stdout",
     "output_type": "stream",
     "text": [
      "eigenvalues shape torch.Size([5]) eigenvectors shape torch.Size([5, 1024])\n",
      "53 /home/phdcs2/Hard_Disk/Datasets/Deep-Spectral-Segmentation/data/object-segmentation/ECSSD/features/0055_resized.pth\n",
      "dict_keys(['k', 'indices', 'file', 'id', 'model_name', 'patch_size', 'shape'])\n",
      "0055_resized\n"
     ]
    },
    {
     "name": "stderr",
     "output_type": "stream",
     "text": [
      "/home/phdcs2/Hard_Disk/Projects/T2I/deep-spectral-segmentation/venv/lib/python3.8/site-packages/sklearn/decomposition/_pca.py:642: RuntimeWarning: invalid value encountered in divide\n",
      "  self.explained_variance_ratio_ = self.explained_variance_ / total_var\n"
     ]
    },
    {
     "name": "stdout",
     "output_type": "stream",
     "text": [
      "Starting Training\n",
      "epoch: 00, loss: -0.95236\n",
      "epoch: 01, loss: -0.97237\n",
      "epoch: 02, loss: -0.97650\n",
      "epoch: 03, loss: -0.97892\n",
      "epoch: 04, loss: -0.98060\n",
      "epoch: 05, loss: -0.98183\n",
      "epoch: 06, loss: -0.98283\n",
      "epoch: 07, loss: -0.98365\n",
      "epoch: 08, loss: -0.98431\n",
      "epoch: 09, loss: -0.98488\n",
      "torch.Size([1024, 64])\n"
     ]
    },
    {
     "name": "stderr",
     "output_type": "stream",
     "text": [
      "  5%|▌         | 54/999 [1:05:26<18:54:02, 72.00s/it]"
     ]
    },
    {
     "name": "stdout",
     "output_type": "stream",
     "text": [
      "eigenvalues shape torch.Size([5]) eigenvectors shape torch.Size([5, 1024])\n",
      "54 /home/phdcs2/Hard_Disk/Datasets/Deep-Spectral-Segmentation/data/object-segmentation/ECSSD/features/0056_resized.pth\n",
      "dict_keys(['k', 'indices', 'file', 'id', 'model_name', 'patch_size', 'shape'])\n",
      "0056_resized\n",
      "Starting Training\n",
      "epoch: 00, loss: -0.87318\n",
      "epoch: 01, loss: -0.92589\n",
      "epoch: 02, loss: -0.93935\n",
      "epoch: 03, loss: -0.94683\n",
      "epoch: 04, loss: -0.95196\n",
      "epoch: 05, loss: -0.95578\n",
      "epoch: 06, loss: -0.95850\n",
      "epoch: 07, loss: -0.96082\n",
      "epoch: 08, loss: -0.96270\n",
      "epoch: 09, loss: -0.96431\n",
      "torch.Size([1024, 64])\n"
     ]
    },
    {
     "name": "stderr",
     "output_type": "stream",
     "text": [
      "  6%|▌         | 55/999 [1:06:28<18:07:12, 69.10s/it]"
     ]
    },
    {
     "name": "stdout",
     "output_type": "stream",
     "text": [
      "eigenvalues shape torch.Size([5]) eigenvectors shape torch.Size([5, 1024])\n",
      "55 /home/phdcs2/Hard_Disk/Datasets/Deep-Spectral-Segmentation/data/object-segmentation/ECSSD/features/0057_resized.pth\n",
      "dict_keys(['k', 'indices', 'file', 'id', 'model_name', 'patch_size', 'shape'])\n",
      "0057_resized\n"
     ]
    },
    {
     "name": "stderr",
     "output_type": "stream",
     "text": [
      "/home/phdcs2/Hard_Disk/Projects/T2I/deep-spectral-segmentation/venv/lib/python3.8/site-packages/sklearn/decomposition/_pca.py:642: RuntimeWarning: invalid value encountered in divide\n",
      "  self.explained_variance_ratio_ = self.explained_variance_ / total_var\n"
     ]
    },
    {
     "name": "stdout",
     "output_type": "stream",
     "text": [
      "Starting Training\n",
      "epoch: 00, loss: -0.92009\n",
      "epoch: 01, loss: -0.95093\n",
      "epoch: 02, loss: -0.95829\n",
      "epoch: 03, loss: -0.96276\n",
      "epoch: 04, loss: -0.96573\n",
      "epoch: 05, loss: -0.96798\n",
      "epoch: 06, loss: -0.96975\n",
      "epoch: 07, loss: -0.97124\n",
      "epoch: 08, loss: -0.97244\n",
      "epoch: 09, loss: -0.97347\n",
      "torch.Size([1024, 64])\n"
     ]
    },
    {
     "name": "stderr",
     "output_type": "stream",
     "text": [
      "  6%|▌         | 56/999 [1:07:40<18:18:35, 69.90s/it]"
     ]
    },
    {
     "name": "stdout",
     "output_type": "stream",
     "text": [
      "eigenvalues shape torch.Size([5]) eigenvectors shape torch.Size([5, 1024])\n",
      "56 /home/phdcs2/Hard_Disk/Datasets/Deep-Spectral-Segmentation/data/object-segmentation/ECSSD/features/0058_resized.pth\n",
      "dict_keys(['k', 'indices', 'file', 'id', 'model_name', 'patch_size', 'shape'])\n",
      "0058_resized\n"
     ]
    },
    {
     "name": "stderr",
     "output_type": "stream",
     "text": [
      "/home/phdcs2/Hard_Disk/Projects/T2I/deep-spectral-segmentation/venv/lib/python3.8/site-packages/sklearn/decomposition/_pca.py:642: RuntimeWarning: invalid value encountered in divide\n",
      "  self.explained_variance_ratio_ = self.explained_variance_ / total_var\n"
     ]
    },
    {
     "name": "stdout",
     "output_type": "stream",
     "text": [
      "Starting Training\n",
      "epoch: 00, loss: -0.92672\n",
      "epoch: 01, loss: -0.95459\n",
      "epoch: 02, loss: -0.96148\n",
      "epoch: 03, loss: -0.96556\n",
      "epoch: 04, loss: -0.96841\n",
      "epoch: 05, loss: -0.97046\n",
      "epoch: 06, loss: -0.97211\n",
      "epoch: 07, loss: -0.97345\n",
      "epoch: 08, loss: -0.97458\n",
      "epoch: 09, loss: -0.97556\n",
      "torch.Size([1024, 64])\n"
     ]
    },
    {
     "name": "stderr",
     "output_type": "stream",
     "text": [
      "  6%|▌         | 57/999 [1:08:53<18:31:38, 70.81s/it]"
     ]
    },
    {
     "name": "stdout",
     "output_type": "stream",
     "text": [
      "eigenvalues shape torch.Size([5]) eigenvectors shape torch.Size([5, 1024])\n",
      "57 /home/phdcs2/Hard_Disk/Datasets/Deep-Spectral-Segmentation/data/object-segmentation/ECSSD/features/0059_resized.pth\n",
      "dict_keys(['k', 'indices', 'file', 'id', 'model_name', 'patch_size', 'shape'])\n",
      "0059_resized\n",
      "Starting Training\n",
      "epoch: 00, loss: -0.89361\n",
      "epoch: 01, loss: -0.93693\n",
      "epoch: 02, loss: -0.94754\n",
      "epoch: 03, loss: -0.95361\n",
      "epoch: 04, loss: -0.95774\n",
      "epoch: 05, loss: -0.96075\n",
      "epoch: 06, loss: -0.96305\n",
      "epoch: 07, loss: -0.96491\n",
      "epoch: 08, loss: -0.96636\n",
      "epoch: 09, loss: -0.96782\n",
      "torch.Size([1024, 64])\n"
     ]
    },
    {
     "name": "stderr",
     "output_type": "stream",
     "text": [
      "  6%|▌         | 58/999 [1:10:08<18:53:26, 72.27s/it]"
     ]
    },
    {
     "name": "stdout",
     "output_type": "stream",
     "text": [
      "eigenvalues shape torch.Size([5]) eigenvectors shape torch.Size([5, 1024])\n",
      "58 /home/phdcs2/Hard_Disk/Datasets/Deep-Spectral-Segmentation/data/object-segmentation/ECSSD/features/0060_resized.pth\n",
      "dict_keys(['k', 'indices', 'file', 'id', 'model_name', 'patch_size', 'shape'])\n",
      "0060_resized\n"
     ]
    },
    {
     "name": "stderr",
     "output_type": "stream",
     "text": [
      "/home/phdcs2/Hard_Disk/Projects/T2I/deep-spectral-segmentation/venv/lib/python3.8/site-packages/sklearn/decomposition/_pca.py:642: RuntimeWarning: invalid value encountered in divide\n",
      "  self.explained_variance_ratio_ = self.explained_variance_ / total_var\n"
     ]
    },
    {
     "name": "stdout",
     "output_type": "stream",
     "text": [
      "Starting Training\n",
      "epoch: 00, loss: -0.93425\n",
      "epoch: 01, loss: -0.96205\n",
      "epoch: 02, loss: -0.96764\n",
      "epoch: 03, loss: -0.97095\n",
      "epoch: 04, loss: -0.97320\n",
      "epoch: 05, loss: -0.97489\n",
      "epoch: 06, loss: -0.97625\n",
      "epoch: 07, loss: -0.97734\n",
      "epoch: 08, loss: -0.97828\n",
      "epoch: 09, loss: -0.97905\n",
      "torch.Size([1024, 64])\n"
     ]
    },
    {
     "name": "stderr",
     "output_type": "stream",
     "text": [
      "  6%|▌         | 59/999 [1:11:16<18:29:18, 70.81s/it]"
     ]
    },
    {
     "name": "stdout",
     "output_type": "stream",
     "text": [
      "eigenvalues shape torch.Size([5]) eigenvectors shape torch.Size([5, 1024])\n",
      "59 /home/phdcs2/Hard_Disk/Datasets/Deep-Spectral-Segmentation/data/object-segmentation/ECSSD/features/0061_resized.pth\n",
      "dict_keys(['k', 'indices', 'file', 'id', 'model_name', 'patch_size', 'shape'])\n",
      "0061_resized\n"
     ]
    },
    {
     "name": "stderr",
     "output_type": "stream",
     "text": [
      "/home/phdcs2/Hard_Disk/Projects/T2I/deep-spectral-segmentation/venv/lib/python3.8/site-packages/sklearn/decomposition/_pca.py:642: RuntimeWarning: invalid value encountered in divide\n",
      "  self.explained_variance_ratio_ = self.explained_variance_ / total_var\n"
     ]
    },
    {
     "name": "stdout",
     "output_type": "stream",
     "text": [
      "Starting Training\n",
      "epoch: 00, loss: -0.90706\n",
      "epoch: 01, loss: -0.94583\n",
      "epoch: 02, loss: -0.95458\n",
      "epoch: 03, loss: -0.95959\n",
      "epoch: 04, loss: -0.96303\n",
      "epoch: 05, loss: -0.96551\n",
      "epoch: 06, loss: -0.96750\n",
      "epoch: 07, loss: -0.96909\n",
      "epoch: 08, loss: -0.97041\n",
      "epoch: 09, loss: -0.97155\n",
      "torch.Size([1024, 64])\n"
     ]
    },
    {
     "name": "stderr",
     "output_type": "stream",
     "text": [
      "  6%|▌         | 60/999 [1:12:23<18:11:02, 69.72s/it]"
     ]
    },
    {
     "name": "stdout",
     "output_type": "stream",
     "text": [
      "eigenvalues shape torch.Size([5]) eigenvectors shape torch.Size([5, 1024])\n",
      "60 /home/phdcs2/Hard_Disk/Datasets/Deep-Spectral-Segmentation/data/object-segmentation/ECSSD/features/0062_resized.pth\n",
      "dict_keys(['k', 'indices', 'file', 'id', 'model_name', 'patch_size', 'shape'])\n",
      "0062_resized\n",
      "Starting Training\n",
      "epoch: 00, loss: -0.93482\n",
      "epoch: 01, loss: -0.96213\n",
      "epoch: 02, loss: -0.96830\n",
      "epoch: 03, loss: -0.97185\n",
      "epoch: 04, loss: -0.97428\n",
      "epoch: 05, loss: -0.97607\n",
      "epoch: 06, loss: -0.97746\n",
      "epoch: 07, loss: -0.97860\n",
      "epoch: 08, loss: -0.97954\n",
      "epoch: 09, loss: -0.98034\n",
      "torch.Size([1024, 64])\n"
     ]
    },
    {
     "name": "stderr",
     "output_type": "stream",
     "text": [
      "  6%|▌         | 61/999 [1:13:25<17:35:47, 67.53s/it]"
     ]
    },
    {
     "name": "stdout",
     "output_type": "stream",
     "text": [
      "eigenvalues shape torch.Size([5]) eigenvectors shape torch.Size([5, 1024])\n",
      "61 /home/phdcs2/Hard_Disk/Datasets/Deep-Spectral-Segmentation/data/object-segmentation/ECSSD/features/0063_resized.pth\n",
      "dict_keys(['k', 'indices', 'file', 'id', 'model_name', 'patch_size', 'shape'])\n",
      "0063_resized\n"
     ]
    },
    {
     "name": "stderr",
     "output_type": "stream",
     "text": [
      "/home/phdcs2/Hard_Disk/Projects/T2I/deep-spectral-segmentation/venv/lib/python3.8/site-packages/sklearn/decomposition/_pca.py:642: RuntimeWarning: invalid value encountered in divide\n",
      "  self.explained_variance_ratio_ = self.explained_variance_ / total_var\n"
     ]
    },
    {
     "name": "stdout",
     "output_type": "stream",
     "text": [
      "Starting Training\n",
      "epoch: 00, loss: -0.93622\n",
      "epoch: 01, loss: -0.96189\n",
      "epoch: 02, loss: -0.96766\n",
      "epoch: 03, loss: -0.97106\n",
      "epoch: 04, loss: -0.97340\n",
      "epoch: 05, loss: -0.97514\n",
      "epoch: 06, loss: -0.97653\n",
      "epoch: 07, loss: -0.97765\n",
      "epoch: 08, loss: -0.97858\n",
      "epoch: 09, loss: -0.97938\n",
      "torch.Size([1024, 64])\n"
     ]
    },
    {
     "name": "stderr",
     "output_type": "stream",
     "text": [
      "  6%|▌         | 62/999 [1:14:23<16:47:33, 64.52s/it]"
     ]
    },
    {
     "name": "stdout",
     "output_type": "stream",
     "text": [
      "eigenvalues shape torch.Size([5]) eigenvectors shape torch.Size([5, 1024])\n",
      "62 /home/phdcs2/Hard_Disk/Datasets/Deep-Spectral-Segmentation/data/object-segmentation/ECSSD/features/0064_resized.pth\n",
      "dict_keys(['k', 'indices', 'file', 'id', 'model_name', 'patch_size', 'shape'])\n",
      "0064_resized\n",
      "Starting Training\n",
      "epoch: 00, loss: -0.88299\n",
      "epoch: 01, loss: -0.92949\n",
      "epoch: 02, loss: -0.94098\n",
      "epoch: 03, loss: -0.94759\n",
      "epoch: 04, loss: -0.95204\n",
      "epoch: 05, loss: -0.95545\n",
      "epoch: 06, loss: -0.95801\n",
      "epoch: 07, loss: -0.96007\n",
      "epoch: 08, loss: -0.96174\n",
      "epoch: 09, loss: -0.96326\n",
      "torch.Size([1024, 64])\n"
     ]
    },
    {
     "name": "stderr",
     "output_type": "stream",
     "text": [
      "  6%|▋         | 63/999 [1:15:20<16:13:58, 62.43s/it]"
     ]
    },
    {
     "name": "stdout",
     "output_type": "stream",
     "text": [
      "eigenvalues shape torch.Size([5]) eigenvectors shape torch.Size([5, 1024])\n",
      "63 /home/phdcs2/Hard_Disk/Datasets/Deep-Spectral-Segmentation/data/object-segmentation/ECSSD/features/0065_resized.pth\n",
      "dict_keys(['k', 'indices', 'file', 'id', 'model_name', 'patch_size', 'shape'])\n",
      "0065_resized\n",
      "Starting Training\n",
      "epoch: 00, loss: -0.84891\n",
      "epoch: 01, loss: -0.90745\n",
      "epoch: 02, loss: -0.92156\n",
      "epoch: 03, loss: -0.92948\n",
      "epoch: 04, loss: -0.93465\n",
      "epoch: 05, loss: -0.93868\n",
      "epoch: 06, loss: -0.94180\n",
      "epoch: 07, loss: -0.94420\n",
      "epoch: 08, loss: -0.94637\n",
      "epoch: 09, loss: -0.94808\n",
      "torch.Size([1024, 64])\n"
     ]
    },
    {
     "name": "stderr",
     "output_type": "stream",
     "text": [
      "  6%|▋         | 64/999 [1:16:26<16:25:40, 63.25s/it]"
     ]
    },
    {
     "name": "stdout",
     "output_type": "stream",
     "text": [
      "eigenvalues shape torch.Size([5]) eigenvectors shape torch.Size([5, 1024])\n",
      "64 /home/phdcs2/Hard_Disk/Datasets/Deep-Spectral-Segmentation/data/object-segmentation/ECSSD/features/0066_resized.pth\n",
      "dict_keys(['k', 'indices', 'file', 'id', 'model_name', 'patch_size', 'shape'])\n",
      "0066_resized\n",
      "Starting Training\n",
      "epoch: 00, loss: -0.93449\n",
      "epoch: 01, loss: -0.96264\n",
      "epoch: 02, loss: -0.96824\n",
      "epoch: 03, loss: -0.97150\n",
      "epoch: 04, loss: -0.97372\n",
      "epoch: 05, loss: -0.97540\n",
      "epoch: 06, loss: -0.97673\n",
      "epoch: 07, loss: -0.97781\n",
      "epoch: 08, loss: -0.97871\n",
      "epoch: 09, loss: -0.97948\n",
      "torch.Size([1024, 64])\n"
     ]
    },
    {
     "name": "stderr",
     "output_type": "stream",
     "text": [
      "  7%|▋         | 65/999 [1:17:35<16:54:13, 65.15s/it]"
     ]
    },
    {
     "name": "stdout",
     "output_type": "stream",
     "text": [
      "eigenvalues shape torch.Size([5]) eigenvectors shape torch.Size([5, 1024])\n",
      "65 /home/phdcs2/Hard_Disk/Datasets/Deep-Spectral-Segmentation/data/object-segmentation/ECSSD/features/0067_resized.pth\n",
      "dict_keys(['k', 'indices', 'file', 'id', 'model_name', 'patch_size', 'shape'])\n",
      "0067_resized\n",
      "Starting Training\n",
      "epoch: 00, loss: -0.88357\n",
      "epoch: 01, loss: -0.93302\n",
      "epoch: 02, loss: -0.94414\n",
      "epoch: 03, loss: -0.95037\n",
      "epoch: 04, loss: -0.95439\n",
      "epoch: 05, loss: -0.95737\n",
      "epoch: 06, loss: -0.95982\n",
      "epoch: 07, loss: -0.96166\n",
      "epoch: 08, loss: -0.96323\n",
      "epoch: 09, loss: -0.96466\n",
      "torch.Size([1024, 64])\n"
     ]
    },
    {
     "name": "stderr",
     "output_type": "stream",
     "text": [
      "  7%|▋         | 66/999 [1:18:50<17:39:29, 68.13s/it]"
     ]
    },
    {
     "name": "stdout",
     "output_type": "stream",
     "text": [
      "eigenvalues shape torch.Size([5]) eigenvectors shape torch.Size([5, 1024])\n",
      "66 /home/phdcs2/Hard_Disk/Datasets/Deep-Spectral-Segmentation/data/object-segmentation/ECSSD/features/0068_resized.pth\n",
      "dict_keys(['k', 'indices', 'file', 'id', 'model_name', 'patch_size', 'shape'])\n",
      "0068_resized\n",
      "Starting Training\n",
      "epoch: 00, loss: -0.91129\n",
      "epoch: 01, loss: -0.94925\n",
      "epoch: 02, loss: -0.95749\n",
      "epoch: 03, loss: -0.96238\n",
      "epoch: 04, loss: -0.96557\n",
      "epoch: 05, loss: -0.96796\n",
      "epoch: 06, loss: -0.96979\n",
      "epoch: 07, loss: -0.97121\n",
      "epoch: 08, loss: -0.97251\n",
      "epoch: 09, loss: -0.97356\n",
      "torch.Size([1024, 64])\n"
     ]
    },
    {
     "name": "stderr",
     "output_type": "stream",
     "text": [
      "  7%|▋         | 67/999 [1:20:04<18:02:10, 69.67s/it]"
     ]
    },
    {
     "name": "stdout",
     "output_type": "stream",
     "text": [
      "eigenvalues shape torch.Size([5]) eigenvectors shape torch.Size([5, 1024])\n",
      "67 /home/phdcs2/Hard_Disk/Datasets/Deep-Spectral-Segmentation/data/object-segmentation/ECSSD/features/0069_resized.pth\n",
      "dict_keys(['k', 'indices', 'file', 'id', 'model_name', 'patch_size', 'shape'])\n",
      "0069_resized\n"
     ]
    },
    {
     "name": "stderr",
     "output_type": "stream",
     "text": [
      "/home/phdcs2/Hard_Disk/Projects/T2I/deep-spectral-segmentation/venv/lib/python3.8/site-packages/sklearn/decomposition/_pca.py:642: RuntimeWarning: invalid value encountered in divide\n",
      "  self.explained_variance_ratio_ = self.explained_variance_ / total_var\n"
     ]
    },
    {
     "name": "stdout",
     "output_type": "stream",
     "text": [
      "Starting Training\n",
      "epoch: 00, loss: -0.93150\n",
      "epoch: 01, loss: -0.95874\n",
      "epoch: 02, loss: -0.96496\n",
      "epoch: 03, loss: -0.96857\n",
      "epoch: 04, loss: -0.97106\n",
      "epoch: 05, loss: -0.97288\n",
      "epoch: 06, loss: -0.97433\n",
      "epoch: 07, loss: -0.97551\n",
      "epoch: 08, loss: -0.97653\n",
      "epoch: 09, loss: -0.97733\n",
      "torch.Size([1024, 64])\n"
     ]
    },
    {
     "name": "stderr",
     "output_type": "stream",
     "text": [
      "  7%|▋         | 68/999 [1:21:16<18:16:19, 70.66s/it]"
     ]
    },
    {
     "name": "stdout",
     "output_type": "stream",
     "text": [
      "eigenvalues shape torch.Size([5]) eigenvectors shape torch.Size([5, 1024])\n",
      "68 /home/phdcs2/Hard_Disk/Datasets/Deep-Spectral-Segmentation/data/object-segmentation/ECSSD/features/0070_resized.pth\n",
      "dict_keys(['k', 'indices', 'file', 'id', 'model_name', 'patch_size', 'shape'])\n",
      "0070_resized\n"
     ]
    },
    {
     "name": "stderr",
     "output_type": "stream",
     "text": [
      "/home/phdcs2/Hard_Disk/Projects/T2I/deep-spectral-segmentation/venv/lib/python3.8/site-packages/sklearn/decomposition/_pca.py:642: RuntimeWarning: invalid value encountered in divide\n",
      "  self.explained_variance_ratio_ = self.explained_variance_ / total_var\n"
     ]
    },
    {
     "name": "stdout",
     "output_type": "stream",
     "text": [
      "Starting Training\n",
      "epoch: 00, loss: -0.92396\n",
      "epoch: 01, loss: -0.95250\n",
      "epoch: 02, loss: -0.95962\n",
      "epoch: 03, loss: -0.96372\n",
      "epoch: 04, loss: -0.96659\n",
      "epoch: 05, loss: -0.96871\n",
      "epoch: 06, loss: -0.97039\n",
      "epoch: 07, loss: -0.97176\n",
      "epoch: 08, loss: -0.97293\n",
      "epoch: 09, loss: -0.97389\n",
      "torch.Size([1024, 64])\n"
     ]
    },
    {
     "name": "stderr",
     "output_type": "stream",
     "text": [
      "  7%|▋         | 69/999 [1:22:22<17:52:08, 69.17s/it]"
     ]
    },
    {
     "name": "stdout",
     "output_type": "stream",
     "text": [
      "eigenvalues shape torch.Size([5]) eigenvectors shape torch.Size([5, 1024])\n",
      "69 /home/phdcs2/Hard_Disk/Datasets/Deep-Spectral-Segmentation/data/object-segmentation/ECSSD/features/0071_resized.pth\n",
      "dict_keys(['k', 'indices', 'file', 'id', 'model_name', 'patch_size', 'shape'])\n",
      "0071_resized\n"
     ]
    },
    {
     "name": "stderr",
     "output_type": "stream",
     "text": [
      "/home/phdcs2/Hard_Disk/Projects/T2I/deep-spectral-segmentation/venv/lib/python3.8/site-packages/sklearn/decomposition/_pca.py:642: RuntimeWarning: invalid value encountered in divide\n",
      "  self.explained_variance_ratio_ = self.explained_variance_ / total_var\n"
     ]
    },
    {
     "name": "stdout",
     "output_type": "stream",
     "text": [
      "Starting Training\n",
      "epoch: 00, loss: -0.92571\n",
      "epoch: 01, loss: -0.95607\n",
      "epoch: 02, loss: -0.96254\n",
      "epoch: 03, loss: -0.96631\n",
      "epoch: 04, loss: -0.96891\n",
      "epoch: 05, loss: -0.97082\n",
      "epoch: 06, loss: -0.97235\n",
      "epoch: 07, loss: -0.97362\n",
      "epoch: 08, loss: -0.97468\n",
      "epoch: 09, loss: -0.97557\n",
      "torch.Size([1024, 64])\n"
     ]
    },
    {
     "name": "stderr",
     "output_type": "stream",
     "text": [
      "  7%|▋         | 70/999 [1:23:27<17:32:12, 67.96s/it]"
     ]
    },
    {
     "name": "stdout",
     "output_type": "stream",
     "text": [
      "eigenvalues shape torch.Size([5]) eigenvectors shape torch.Size([5, 1024])\n",
      "70 /home/phdcs2/Hard_Disk/Datasets/Deep-Spectral-Segmentation/data/object-segmentation/ECSSD/features/0072_resized.pth\n",
      "dict_keys(['k', 'indices', 'file', 'id', 'model_name', 'patch_size', 'shape'])\n",
      "0072_resized\n",
      "Starting Training\n",
      "epoch: 00, loss: -0.86956\n",
      "epoch: 01, loss: -0.92045\n",
      "epoch: 02, loss: -0.93419\n",
      "epoch: 03, loss: -0.94189\n",
      "epoch: 04, loss: -0.94704\n",
      "epoch: 05, loss: -0.95080\n",
      "epoch: 06, loss: -0.95385\n",
      "epoch: 07, loss: -0.95620\n",
      "epoch: 08, loss: -0.95828\n",
      "epoch: 09, loss: -0.96001\n",
      "torch.Size([1024, 64])\n"
     ]
    },
    {
     "name": "stderr",
     "output_type": "stream",
     "text": [
      "  7%|▋         | 71/999 [1:24:40<17:54:13, 69.45s/it]"
     ]
    },
    {
     "name": "stdout",
     "output_type": "stream",
     "text": [
      "eigenvalues shape torch.Size([5]) eigenvectors shape torch.Size([5, 1024])\n",
      "71 /home/phdcs2/Hard_Disk/Datasets/Deep-Spectral-Segmentation/data/object-segmentation/ECSSD/features/0073_resized.pth\n",
      "dict_keys(['k', 'indices', 'file', 'id', 'model_name', 'patch_size', 'shape'])\n",
      "0073_resized\n",
      "Starting Training\n",
      "epoch: 00, loss: -0.87344\n",
      "epoch: 01, loss: -0.92463\n",
      "epoch: 02, loss: -0.93758\n",
      "epoch: 03, loss: -0.94500\n",
      "epoch: 04, loss: -0.94993\n",
      "epoch: 05, loss: -0.95354\n",
      "epoch: 06, loss: -0.95638\n",
      "epoch: 07, loss: -0.95873\n",
      "epoch: 08, loss: -0.96067\n",
      "epoch: 09, loss: -0.96223\n",
      "torch.Size([1024, 64])\n"
     ]
    },
    {
     "name": "stderr",
     "output_type": "stream",
     "text": [
      "  7%|▋         | 72/999 [1:25:52<18:05:38, 70.27s/it]"
     ]
    },
    {
     "name": "stdout",
     "output_type": "stream",
     "text": [
      "eigenvalues shape torch.Size([5]) eigenvectors shape torch.Size([5, 1024])\n",
      "72 /home/phdcs2/Hard_Disk/Datasets/Deep-Spectral-Segmentation/data/object-segmentation/ECSSD/features/0074_resized.pth\n",
      "dict_keys(['k', 'indices', 'file', 'id', 'model_name', 'patch_size', 'shape'])\n",
      "0074_resized\n"
     ]
    },
    {
     "name": "stderr",
     "output_type": "stream",
     "text": [
      "/home/phdcs2/Hard_Disk/Projects/T2I/deep-spectral-segmentation/venv/lib/python3.8/site-packages/sklearn/decomposition/_pca.py:642: RuntimeWarning: invalid value encountered in divide\n",
      "  self.explained_variance_ratio_ = self.explained_variance_ / total_var\n"
     ]
    },
    {
     "name": "stdout",
     "output_type": "stream",
     "text": [
      "Starting Training\n",
      "epoch: 00, loss: -0.92056\n",
      "epoch: 01, loss: -0.95154\n",
      "epoch: 02, loss: -0.95851\n",
      "epoch: 03, loss: -0.96264\n",
      "epoch: 04, loss: -0.96549\n",
      "epoch: 05, loss: -0.96759\n",
      "epoch: 06, loss: -0.96926\n",
      "epoch: 07, loss: -0.97065\n",
      "epoch: 08, loss: -0.97177\n",
      "epoch: 09, loss: -0.97276\n",
      "torch.Size([1024, 64])\n"
     ]
    },
    {
     "name": "stderr",
     "output_type": "stream",
     "text": [
      "  7%|▋         | 73/999 [1:27:05<18:13:00, 70.82s/it]"
     ]
    },
    {
     "name": "stdout",
     "output_type": "stream",
     "text": [
      "eigenvalues shape torch.Size([5]) eigenvectors shape torch.Size([5, 1024])\n",
      "73 /home/phdcs2/Hard_Disk/Datasets/Deep-Spectral-Segmentation/data/object-segmentation/ECSSD/features/0075_resized.pth\n",
      "dict_keys(['k', 'indices', 'file', 'id', 'model_name', 'patch_size', 'shape'])\n",
      "0075_resized\n",
      "Starting Training\n",
      "epoch: 00, loss: -0.86512\n",
      "epoch: 01, loss: -0.91542\n",
      "epoch: 02, loss: -0.92915\n",
      "epoch: 03, loss: -0.93723\n",
      "epoch: 04, loss: -0.94275\n",
      "epoch: 05, loss: -0.94682\n",
      "epoch: 06, loss: -0.94997\n",
      "epoch: 07, loss: -0.95262\n",
      "epoch: 08, loss: -0.95464\n",
      "epoch: 09, loss: -0.95650\n",
      "torch.Size([1024, 64])\n"
     ]
    },
    {
     "name": "stderr",
     "output_type": "stream",
     "text": [
      "  7%|▋         | 74/999 [1:28:14<18:04:19, 70.33s/it]"
     ]
    },
    {
     "name": "stdout",
     "output_type": "stream",
     "text": [
      "eigenvalues shape torch.Size([5]) eigenvectors shape torch.Size([5, 1024])\n",
      "74 /home/phdcs2/Hard_Disk/Datasets/Deep-Spectral-Segmentation/data/object-segmentation/ECSSD/features/0076_resized.pth\n",
      "dict_keys(['k', 'indices', 'file', 'id', 'model_name', 'patch_size', 'shape'])\n",
      "0076_resized\n",
      "Starting Training\n",
      "epoch: 00, loss: -0.89484\n",
      "epoch: 01, loss: -0.93656\n",
      "epoch: 02, loss: -0.94712\n",
      "epoch: 03, loss: -0.95316\n",
      "epoch: 04, loss: -0.95721\n",
      "epoch: 05, loss: -0.96033\n",
      "epoch: 06, loss: -0.96273\n",
      "epoch: 07, loss: -0.96458\n",
      "epoch: 08, loss: -0.96620\n",
      "epoch: 09, loss: -0.96745\n",
      "torch.Size([1024, 64])\n"
     ]
    },
    {
     "name": "stderr",
     "output_type": "stream",
     "text": [
      "  8%|▊         | 75/999 [1:29:17<17:32:22, 68.34s/it]"
     ]
    },
    {
     "name": "stdout",
     "output_type": "stream",
     "text": [
      "eigenvalues shape torch.Size([5]) eigenvectors shape torch.Size([5, 1024])\n",
      "75 /home/phdcs2/Hard_Disk/Datasets/Deep-Spectral-Segmentation/data/object-segmentation/ECSSD/features/0077_resized.pth\n",
      "dict_keys(['k', 'indices', 'file', 'id', 'model_name', 'patch_size', 'shape'])\n",
      "0077_resized\n",
      "Starting Training\n",
      "epoch: 00, loss: -0.92410\n",
      "epoch: 01, loss: -0.95582\n",
      "epoch: 02, loss: -0.96287\n",
      "epoch: 03, loss: -0.96691\n",
      "epoch: 04, loss: -0.96962\n",
      "epoch: 05, loss: -0.97165\n",
      "epoch: 06, loss: -0.97324\n",
      "epoch: 07, loss: -0.97453\n",
      "epoch: 08, loss: -0.97560\n",
      "epoch: 09, loss: -0.97653\n",
      "torch.Size([1024, 64])\n"
     ]
    },
    {
     "name": "stderr",
     "output_type": "stream",
     "text": [
      "  8%|▊         | 76/999 [1:30:29<17:44:57, 69.23s/it]"
     ]
    },
    {
     "name": "stdout",
     "output_type": "stream",
     "text": [
      "eigenvalues shape torch.Size([5]) eigenvectors shape torch.Size([5, 1024])\n",
      "76 /home/phdcs2/Hard_Disk/Datasets/Deep-Spectral-Segmentation/data/object-segmentation/ECSSD/features/0078_resized.pth\n",
      "dict_keys(['k', 'indices', 'file', 'id', 'model_name', 'patch_size', 'shape'])\n",
      "0078_resized\n",
      "Starting Training\n",
      "epoch: 00, loss: -0.91764\n",
      "epoch: 01, loss: -0.94885\n",
      "epoch: 02, loss: -0.95658\n",
      "epoch: 03, loss: -0.96121\n",
      "epoch: 04, loss: -0.96422\n",
      "epoch: 05, loss: -0.96661\n",
      "epoch: 06, loss: -0.96845\n",
      "epoch: 07, loss: -0.96985\n",
      "epoch: 08, loss: -0.97110\n",
      "epoch: 09, loss: -0.97220\n",
      "torch.Size([1024, 64])\n"
     ]
    },
    {
     "name": "stderr",
     "output_type": "stream",
     "text": [
      "  8%|▊         | 77/999 [1:31:43<18:06:07, 70.68s/it]"
     ]
    },
    {
     "name": "stdout",
     "output_type": "stream",
     "text": [
      "eigenvalues shape torch.Size([5]) eigenvectors shape torch.Size([5, 1024])\n",
      "77 /home/phdcs2/Hard_Disk/Datasets/Deep-Spectral-Segmentation/data/object-segmentation/ECSSD/features/0079_resized.pth\n",
      "dict_keys(['k', 'indices', 'file', 'id', 'model_name', 'patch_size', 'shape'])\n",
      "0079_resized\n"
     ]
    },
    {
     "name": "stderr",
     "output_type": "stream",
     "text": [
      "/home/phdcs2/Hard_Disk/Projects/T2I/deep-spectral-segmentation/venv/lib/python3.8/site-packages/sklearn/decomposition/_pca.py:642: RuntimeWarning: invalid value encountered in divide\n",
      "  self.explained_variance_ratio_ = self.explained_variance_ / total_var\n"
     ]
    },
    {
     "name": "stdout",
     "output_type": "stream",
     "text": [
      "Starting Training\n",
      "epoch: 00, loss: -0.92614\n",
      "epoch: 01, loss: -0.95686\n",
      "epoch: 02, loss: -0.96355\n",
      "epoch: 03, loss: -0.96748\n",
      "epoch: 04, loss: -0.97015\n",
      "epoch: 05, loss: -0.97214\n",
      "epoch: 06, loss: -0.97370\n",
      "epoch: 07, loss: -0.97496\n",
      "epoch: 08, loss: -0.97603\n",
      "epoch: 09, loss: -0.97693\n",
      "torch.Size([1024, 64])\n"
     ]
    },
    {
     "name": "stderr",
     "output_type": "stream",
     "text": [
      "  8%|▊         | 78/999 [1:32:56<18:15:04, 71.34s/it]"
     ]
    },
    {
     "name": "stdout",
     "output_type": "stream",
     "text": [
      "eigenvalues shape torch.Size([5]) eigenvectors shape torch.Size([5, 1024])\n",
      "78 /home/phdcs2/Hard_Disk/Datasets/Deep-Spectral-Segmentation/data/object-segmentation/ECSSD/features/0080_resized.pth\n",
      "dict_keys(['k', 'indices', 'file', 'id', 'model_name', 'patch_size', 'shape'])\n",
      "0080_resized\n",
      "Starting Training\n",
      "epoch: 00, loss: -0.89954\n",
      "epoch: 01, loss: -0.94303\n",
      "epoch: 02, loss: -0.95285\n",
      "epoch: 03, loss: -0.95843\n",
      "epoch: 04, loss: -0.96226\n",
      "epoch: 05, loss: -0.96507\n",
      "epoch: 06, loss: -0.96722\n",
      "epoch: 07, loss: -0.96894\n",
      "epoch: 08, loss: -0.97041\n",
      "epoch: 09, loss: -0.97157\n",
      "torch.Size([1024, 64])\n"
     ]
    },
    {
     "name": "stderr",
     "output_type": "stream",
     "text": [
      "  8%|▊         | 79/999 [1:34:15<18:52:02, 73.83s/it]"
     ]
    },
    {
     "name": "stdout",
     "output_type": "stream",
     "text": [
      "eigenvalues shape torch.Size([5]) eigenvectors shape torch.Size([5, 1024])\n",
      "79 /home/phdcs2/Hard_Disk/Datasets/Deep-Spectral-Segmentation/data/object-segmentation/ECSSD/features/0081_resized.pth\n",
      "dict_keys(['k', 'indices', 'file', 'id', 'model_name', 'patch_size', 'shape'])\n",
      "0081_resized\n"
     ]
    },
    {
     "name": "stderr",
     "output_type": "stream",
     "text": [
      "/home/phdcs2/Hard_Disk/Projects/T2I/deep-spectral-segmentation/venv/lib/python3.8/site-packages/sklearn/decomposition/_pca.py:642: RuntimeWarning: invalid value encountered in divide\n",
      "  self.explained_variance_ratio_ = self.explained_variance_ / total_var\n"
     ]
    },
    {
     "name": "stdout",
     "output_type": "stream",
     "text": [
      "Starting Training\n",
      "epoch: 00, loss: -0.91800\n",
      "epoch: 01, loss: -0.94756\n",
      "epoch: 02, loss: -0.95526\n",
      "epoch: 03, loss: -0.95965\n",
      "epoch: 04, loss: -0.96279\n",
      "epoch: 05, loss: -0.96510\n",
      "epoch: 06, loss: -0.96689\n",
      "epoch: 07, loss: -0.96836\n",
      "epoch: 08, loss: -0.96961\n",
      "epoch: 09, loss: -0.97070\n",
      "torch.Size([1024, 64])\n"
     ]
    },
    {
     "name": "stderr",
     "output_type": "stream",
     "text": [
      "  8%|▊         | 80/999 [1:35:31<19:01:33, 74.53s/it]"
     ]
    },
    {
     "name": "stdout",
     "output_type": "stream",
     "text": [
      "eigenvalues shape torch.Size([5]) eigenvectors shape torch.Size([5, 1024])\n",
      "80 /home/phdcs2/Hard_Disk/Datasets/Deep-Spectral-Segmentation/data/object-segmentation/ECSSD/features/0082_resized.pth\n",
      "dict_keys(['k', 'indices', 'file', 'id', 'model_name', 'patch_size', 'shape'])\n",
      "0082_resized\n",
      "Starting Training\n",
      "epoch: 00, loss: -0.84880\n",
      "epoch: 01, loss: -0.91235\n",
      "epoch: 02, loss: -0.92890\n",
      "epoch: 03, loss: -0.93822\n",
      "epoch: 04, loss: -0.94443\n",
      "epoch: 05, loss: -0.94883\n",
      "epoch: 06, loss: -0.95235\n",
      "epoch: 07, loss: -0.95511\n",
      "epoch: 08, loss: -0.95731\n",
      "epoch: 09, loss: -0.95924\n",
      "torch.Size([1024, 64])\n"
     ]
    },
    {
     "name": "stderr",
     "output_type": "stream",
     "text": [
      "  8%|▊         | 81/999 [1:36:45<18:55:29, 74.21s/it]"
     ]
    },
    {
     "name": "stdout",
     "output_type": "stream",
     "text": [
      "eigenvalues shape torch.Size([5]) eigenvectors shape torch.Size([5, 1024])\n",
      "81 /home/phdcs2/Hard_Disk/Datasets/Deep-Spectral-Segmentation/data/object-segmentation/ECSSD/features/0083_resized.pth\n",
      "dict_keys(['k', 'indices', 'file', 'id', 'model_name', 'patch_size', 'shape'])\n",
      "0083_resized\n",
      "Starting Training\n",
      "epoch: 00, loss: -0.92338\n",
      "epoch: 01, loss: -0.95552\n",
      "epoch: 02, loss: -0.96253\n",
      "epoch: 03, loss: -0.96661\n",
      "epoch: 04, loss: -0.96939\n",
      "epoch: 05, loss: -0.97145\n",
      "epoch: 06, loss: -0.97307\n",
      "epoch: 07, loss: -0.97440\n",
      "epoch: 08, loss: -0.97552\n",
      "epoch: 09, loss: -0.97645\n",
      "torch.Size([1024, 64])\n"
     ]
    },
    {
     "name": "stderr",
     "output_type": "stream",
     "text": [
      "  8%|▊         | 82/999 [1:37:59<18:52:47, 74.12s/it]"
     ]
    },
    {
     "name": "stdout",
     "output_type": "stream",
     "text": [
      "eigenvalues shape torch.Size([5]) eigenvectors shape torch.Size([5, 1024])\n",
      "82 /home/phdcs2/Hard_Disk/Datasets/Deep-Spectral-Segmentation/data/object-segmentation/ECSSD/features/0084_resized.pth\n",
      "dict_keys(['k', 'indices', 'file', 'id', 'model_name', 'patch_size', 'shape'])\n",
      "0084_resized\n"
     ]
    },
    {
     "name": "stderr",
     "output_type": "stream",
     "text": [
      "/home/phdcs2/Hard_Disk/Projects/T2I/deep-spectral-segmentation/venv/lib/python3.8/site-packages/sklearn/decomposition/_pca.py:642: RuntimeWarning: invalid value encountered in divide\n",
      "  self.explained_variance_ratio_ = self.explained_variance_ / total_var\n"
     ]
    },
    {
     "name": "stdout",
     "output_type": "stream",
     "text": [
      "Starting Training\n",
      "epoch: 00, loss: -0.93077\n",
      "epoch: 01, loss: -0.96053\n",
      "epoch: 02, loss: -0.96649\n",
      "epoch: 03, loss: -0.96993\n",
      "epoch: 04, loss: -0.97227\n",
      "epoch: 05, loss: -0.97404\n",
      "epoch: 06, loss: -0.97539\n",
      "epoch: 07, loss: -0.97652\n",
      "epoch: 08, loss: -0.97746\n",
      "epoch: 09, loss: -0.97829\n",
      "torch.Size([1024, 64])\n"
     ]
    },
    {
     "name": "stderr",
     "output_type": "stream",
     "text": [
      "  8%|▊         | 83/999 [1:39:13<18:50:15, 74.03s/it]"
     ]
    },
    {
     "name": "stdout",
     "output_type": "stream",
     "text": [
      "eigenvalues shape torch.Size([5]) eigenvectors shape torch.Size([5, 1024])\n",
      "83 /home/phdcs2/Hard_Disk/Datasets/Deep-Spectral-Segmentation/data/object-segmentation/ECSSD/features/0085_resized.pth\n",
      "dict_keys(['k', 'indices', 'file', 'id', 'model_name', 'patch_size', 'shape'])\n",
      "0085_resized\n",
      "Starting Training\n",
      "epoch: 00, loss: -0.87639\n",
      "epoch: 01, loss: -0.92571\n",
      "epoch: 02, loss: -0.93880\n",
      "epoch: 03, loss: -0.94608\n",
      "epoch: 04, loss: -0.95095\n",
      "epoch: 05, loss: -0.95454\n",
      "epoch: 06, loss: -0.95736\n",
      "epoch: 07, loss: -0.95960\n",
      "epoch: 08, loss: -0.96143\n",
      "epoch: 09, loss: -0.96299\n",
      "torch.Size([1024, 64])\n"
     ]
    },
    {
     "name": "stderr",
     "output_type": "stream",
     "text": [
      "  8%|▊         | 84/999 [1:40:16<18:01:24, 70.91s/it]"
     ]
    },
    {
     "name": "stdout",
     "output_type": "stream",
     "text": [
      "eigenvalues shape torch.Size([5]) eigenvectors shape torch.Size([5, 1024])\n",
      "84 /home/phdcs2/Hard_Disk/Datasets/Deep-Spectral-Segmentation/data/object-segmentation/ECSSD/features/0086_resized.pth\n",
      "dict_keys(['k', 'indices', 'file', 'id', 'model_name', 'patch_size', 'shape'])\n",
      "0086_resized\n"
     ]
    },
    {
     "name": "stderr",
     "output_type": "stream",
     "text": [
      "/home/phdcs2/Hard_Disk/Projects/T2I/deep-spectral-segmentation/venv/lib/python3.8/site-packages/sklearn/decomposition/_pca.py:642: RuntimeWarning: invalid value encountered in divide\n",
      "  self.explained_variance_ratio_ = self.explained_variance_ / total_var\n"
     ]
    },
    {
     "name": "stdout",
     "output_type": "stream",
     "text": [
      "Starting Training\n",
      "epoch: 00, loss: -0.91308\n",
      "epoch: 01, loss: -0.94692\n",
      "epoch: 02, loss: -0.95543\n",
      "epoch: 03, loss: -0.96029\n",
      "epoch: 04, loss: -0.96366\n",
      "epoch: 05, loss: -0.96612\n",
      "epoch: 06, loss: -0.96807\n",
      "epoch: 07, loss: -0.96962\n",
      "epoch: 08, loss: -0.97094\n",
      "epoch: 09, loss: -0.97207\n",
      "torch.Size([1024, 64])\n"
     ]
    },
    {
     "name": "stderr",
     "output_type": "stream",
     "text": [
      "  9%|▊         | 85/999 [1:41:29<18:07:14, 71.37s/it]"
     ]
    },
    {
     "name": "stdout",
     "output_type": "stream",
     "text": [
      "eigenvalues shape torch.Size([5]) eigenvectors shape torch.Size([5, 1024])\n",
      "85 /home/phdcs2/Hard_Disk/Datasets/Deep-Spectral-Segmentation/data/object-segmentation/ECSSD/features/0087_resized.pth\n",
      "dict_keys(['k', 'indices', 'file', 'id', 'model_name', 'patch_size', 'shape'])\n",
      "0087_resized\n"
     ]
    },
    {
     "name": "stderr",
     "output_type": "stream",
     "text": [
      "/home/phdcs2/Hard_Disk/Projects/T2I/deep-spectral-segmentation/venv/lib/python3.8/site-packages/sklearn/decomposition/_pca.py:642: RuntimeWarning: invalid value encountered in divide\n",
      "  self.explained_variance_ratio_ = self.explained_variance_ / total_var\n"
     ]
    },
    {
     "name": "stdout",
     "output_type": "stream",
     "text": [
      "Starting Training\n",
      "epoch: 00, loss: -0.93355\n",
      "epoch: 01, loss: -0.96164\n",
      "epoch: 02, loss: -0.96793\n",
      "epoch: 03, loss: -0.97154\n",
      "epoch: 04, loss: -0.97398\n",
      "epoch: 05, loss: -0.97582\n",
      "epoch: 06, loss: -0.97724\n",
      "epoch: 07, loss: -0.97840\n",
      "epoch: 08, loss: -0.97937\n",
      "epoch: 09, loss: -0.98020\n",
      "torch.Size([1024, 64])\n"
     ]
    },
    {
     "name": "stderr",
     "output_type": "stream",
     "text": [
      "  9%|▊         | 86/999 [1:42:45<18:27:19, 72.77s/it]"
     ]
    },
    {
     "name": "stdout",
     "output_type": "stream",
     "text": [
      "eigenvalues shape torch.Size([5]) eigenvectors shape torch.Size([5, 1024])\n",
      "86 /home/phdcs2/Hard_Disk/Datasets/Deep-Spectral-Segmentation/data/object-segmentation/ECSSD/features/0088_resized.pth\n",
      "dict_keys(['k', 'indices', 'file', 'id', 'model_name', 'patch_size', 'shape'])\n",
      "0088_resized\n",
      "Starting Training\n",
      "epoch: 00, loss: -0.85732\n",
      "epoch: 01, loss: -0.91393\n",
      "epoch: 02, loss: -0.92877\n",
      "epoch: 03, loss: -0.93717\n",
      "epoch: 04, loss: -0.94273\n",
      "epoch: 05, loss: -0.94689\n",
      "epoch: 06, loss: -0.95010\n",
      "epoch: 07, loss: -0.95274\n",
      "epoch: 08, loss: -0.95491\n",
      "epoch: 09, loss: -0.95663\n",
      "torch.Size([1024, 64])\n"
     ]
    },
    {
     "name": "stderr",
     "output_type": "stream",
     "text": [
      "  9%|▊         | 87/999 [1:43:59<18:30:40, 73.07s/it]"
     ]
    },
    {
     "name": "stdout",
     "output_type": "stream",
     "text": [
      "eigenvalues shape torch.Size([5]) eigenvectors shape torch.Size([5, 1024])\n",
      "87 /home/phdcs2/Hard_Disk/Datasets/Deep-Spectral-Segmentation/data/object-segmentation/ECSSD/features/0089_resized.pth\n",
      "dict_keys(['k', 'indices', 'file', 'id', 'model_name', 'patch_size', 'shape'])\n",
      "0089_resized\n",
      "Starting Training\n",
      "epoch: 00, loss: -0.85235\n",
      "epoch: 01, loss: -0.90995\n",
      "epoch: 02, loss: -0.92576\n",
      "epoch: 03, loss: -0.93501\n",
      "epoch: 04, loss: -0.94100\n",
      "epoch: 05, loss: -0.94561\n",
      "epoch: 06, loss: -0.94894\n",
      "epoch: 07, loss: -0.95177\n",
      "epoch: 08, loss: -0.95414\n",
      "epoch: 09, loss: -0.95609\n",
      "torch.Size([1024, 64])\n"
     ]
    },
    {
     "name": "stderr",
     "output_type": "stream",
     "text": [
      "  9%|▉         | 88/999 [1:45:17<18:53:22, 74.65s/it]"
     ]
    },
    {
     "name": "stdout",
     "output_type": "stream",
     "text": [
      "eigenvalues shape torch.Size([5]) eigenvectors shape torch.Size([5, 1024])\n",
      "88 /home/phdcs2/Hard_Disk/Datasets/Deep-Spectral-Segmentation/data/object-segmentation/ECSSD/features/0090_resized.pth\n",
      "dict_keys(['k', 'indices', 'file', 'id', 'model_name', 'patch_size', 'shape'])\n",
      "0090_resized\n"
     ]
    },
    {
     "name": "stderr",
     "output_type": "stream",
     "text": [
      "/home/phdcs2/Hard_Disk/Projects/T2I/deep-spectral-segmentation/venv/lib/python3.8/site-packages/sklearn/decomposition/_pca.py:642: RuntimeWarning: invalid value encountered in divide\n",
      "  self.explained_variance_ratio_ = self.explained_variance_ / total_var\n"
     ]
    },
    {
     "name": "stdout",
     "output_type": "stream",
     "text": [
      "Starting Training\n",
      "epoch: 00, loss: -0.92630\n",
      "epoch: 01, loss: -0.95662\n",
      "epoch: 02, loss: -0.96374\n",
      "epoch: 03, loss: -0.96782\n",
      "epoch: 04, loss: -0.97061\n",
      "epoch: 05, loss: -0.97265\n",
      "epoch: 06, loss: -0.97425\n",
      "epoch: 07, loss: -0.97557\n",
      "epoch: 08, loss: -0.97664\n",
      "epoch: 09, loss: -0.97757\n",
      "torch.Size([1024, 64])\n"
     ]
    },
    {
     "name": "stderr",
     "output_type": "stream",
     "text": [
      "  9%|▉         | 89/999 [1:46:26<18:26:31, 72.96s/it]"
     ]
    },
    {
     "name": "stdout",
     "output_type": "stream",
     "text": [
      "eigenvalues shape torch.Size([5]) eigenvectors shape torch.Size([5, 1024])\n",
      "89 /home/phdcs2/Hard_Disk/Datasets/Deep-Spectral-Segmentation/data/object-segmentation/ECSSD/features/0091_resized.pth\n",
      "dict_keys(['k', 'indices', 'file', 'id', 'model_name', 'patch_size', 'shape'])\n",
      "0091_resized\n",
      "Starting Training\n",
      "epoch: 00, loss: -0.89376\n",
      "epoch: 01, loss: -0.93785\n",
      "epoch: 02, loss: -0.94862\n",
      "epoch: 03, loss: -0.95471\n",
      "epoch: 04, loss: -0.95890\n",
      "epoch: 05, loss: -0.96180\n",
      "epoch: 06, loss: -0.96411\n",
      "epoch: 07, loss: -0.96602\n",
      "epoch: 08, loss: -0.96766\n",
      "epoch: 09, loss: -0.96898\n",
      "torch.Size([1024, 64])\n"
     ]
    },
    {
     "name": "stderr",
     "output_type": "stream",
     "text": [
      "  9%|▉         | 90/999 [1:47:45<18:51:17, 74.67s/it]"
     ]
    },
    {
     "name": "stdout",
     "output_type": "stream",
     "text": [
      "eigenvalues shape torch.Size([5]) eigenvectors shape torch.Size([5, 1024])\n",
      "90 /home/phdcs2/Hard_Disk/Datasets/Deep-Spectral-Segmentation/data/object-segmentation/ECSSD/features/0092_resized.pth\n",
      "dict_keys(['k', 'indices', 'file', 'id', 'model_name', 'patch_size', 'shape'])\n",
      "0092_resized\n",
      "Starting Training\n",
      "epoch: 00, loss: -0.91044\n",
      "epoch: 01, loss: -0.94404\n",
      "epoch: 02, loss: -0.95311\n",
      "epoch: 03, loss: -0.95829\n",
      "epoch: 04, loss: -0.96190\n",
      "epoch: 05, loss: -0.96459\n",
      "epoch: 06, loss: -0.96670\n",
      "epoch: 07, loss: -0.96842\n",
      "epoch: 08, loss: -0.96985\n",
      "epoch: 09, loss: -0.97106\n",
      "torch.Size([1024, 64])\n"
     ]
    },
    {
     "name": "stderr",
     "output_type": "stream",
     "text": [
      "  9%|▉         | 91/999 [1:49:04<19:13:38, 76.23s/it]"
     ]
    },
    {
     "name": "stdout",
     "output_type": "stream",
     "text": [
      "eigenvalues shape torch.Size([5]) eigenvectors shape torch.Size([5, 1024])\n",
      "91 /home/phdcs2/Hard_Disk/Datasets/Deep-Spectral-Segmentation/data/object-segmentation/ECSSD/features/0093_resized.pth\n",
      "dict_keys(['k', 'indices', 'file', 'id', 'model_name', 'patch_size', 'shape'])\n",
      "0093_resized\n",
      "Starting Training\n",
      "epoch: 00, loss: -0.90992\n",
      "epoch: 01, loss: -0.94446\n",
      "epoch: 02, loss: -0.95323\n",
      "epoch: 03, loss: -0.95838\n",
      "epoch: 04, loss: -0.96187\n",
      "epoch: 05, loss: -0.96447\n",
      "epoch: 06, loss: -0.96653\n",
      "epoch: 07, loss: -0.96821\n",
      "epoch: 08, loss: -0.96959\n",
      "epoch: 09, loss: -0.97080\n",
      "torch.Size([1024, 64])\n"
     ]
    },
    {
     "name": "stderr",
     "output_type": "stream",
     "text": [
      "  9%|▉         | 92/999 [1:50:30<19:56:09, 79.13s/it]"
     ]
    },
    {
     "name": "stdout",
     "output_type": "stream",
     "text": [
      "eigenvalues shape torch.Size([5]) eigenvectors shape torch.Size([5, 1024])\n",
      "92 /home/phdcs2/Hard_Disk/Datasets/Deep-Spectral-Segmentation/data/object-segmentation/ECSSD/features/0094_resized.pth\n",
      "dict_keys(['k', 'indices', 'file', 'id', 'model_name', 'patch_size', 'shape'])\n",
      "0094_resized\n"
     ]
    },
    {
     "name": "stderr",
     "output_type": "stream",
     "text": [
      "/home/phdcs2/Hard_Disk/Projects/T2I/deep-spectral-segmentation/venv/lib/python3.8/site-packages/sklearn/decomposition/_pca.py:642: RuntimeWarning: invalid value encountered in divide\n",
      "  self.explained_variance_ratio_ = self.explained_variance_ / total_var\n"
     ]
    },
    {
     "name": "stdout",
     "output_type": "stream",
     "text": [
      "Starting Training\n",
      "epoch: 00, loss: -0.91545\n",
      "epoch: 01, loss: -0.95055\n",
      "epoch: 02, loss: -0.95835\n",
      "epoch: 03, loss: -0.96282\n",
      "epoch: 04, loss: -0.96588\n",
      "epoch: 05, loss: -0.96814\n",
      "epoch: 06, loss: -0.96994\n",
      "epoch: 07, loss: -0.97140\n",
      "epoch: 08, loss: -0.97258\n",
      "epoch: 09, loss: -0.97363\n",
      "torch.Size([1024, 64])\n"
     ]
    },
    {
     "name": "stderr",
     "output_type": "stream",
     "text": [
      "  9%|▉         | 93/999 [1:51:53<20:11:37, 80.24s/it]"
     ]
    },
    {
     "name": "stdout",
     "output_type": "stream",
     "text": [
      "eigenvalues shape torch.Size([5]) eigenvectors shape torch.Size([5, 1024])\n",
      "93 /home/phdcs2/Hard_Disk/Datasets/Deep-Spectral-Segmentation/data/object-segmentation/ECSSD/features/0095_resized.pth\n",
      "dict_keys(['k', 'indices', 'file', 'id', 'model_name', 'patch_size', 'shape'])\n",
      "0095_resized\n",
      "Starting Training\n",
      "epoch: 00, loss: -0.87102\n",
      "epoch: 01, loss: -0.92203\n",
      "epoch: 02, loss: -0.93576\n",
      "epoch: 03, loss: -0.94349\n",
      "epoch: 04, loss: -0.94868\n",
      "epoch: 05, loss: -0.95257\n",
      "epoch: 06, loss: -0.95538\n",
      "epoch: 07, loss: -0.95784\n",
      "epoch: 08, loss: -0.95983\n",
      "epoch: 09, loss: -0.96154\n",
      "torch.Size([1024, 64])\n"
     ]
    },
    {
     "name": "stderr",
     "output_type": "stream",
     "text": [
      "  9%|▉         | 94/999 [1:53:14<20:14:01, 80.49s/it]"
     ]
    },
    {
     "name": "stdout",
     "output_type": "stream",
     "text": [
      "eigenvalues shape torch.Size([5]) eigenvectors shape torch.Size([5, 1024])\n",
      "94 /home/phdcs2/Hard_Disk/Datasets/Deep-Spectral-Segmentation/data/object-segmentation/ECSSD/features/0096_resized.pth\n",
      "dict_keys(['k', 'indices', 'file', 'id', 'model_name', 'patch_size', 'shape'])\n",
      "0096_resized\n",
      "Starting Training\n",
      "epoch: 00, loss: -0.86201\n",
      "epoch: 01, loss: -0.91456\n",
      "epoch: 02, loss: -0.92977\n",
      "epoch: 03, loss: -0.93844\n",
      "epoch: 04, loss: -0.94399\n",
      "epoch: 05, loss: -0.94829\n",
      "epoch: 06, loss: -0.95170\n",
      "epoch: 07, loss: -0.95441\n",
      "epoch: 08, loss: -0.95655\n",
      "epoch: 09, loss: -0.95842\n",
      "torch.Size([1024, 64])\n"
     ]
    },
    {
     "name": "stderr",
     "output_type": "stream",
     "text": [
      " 10%|▉         | 95/999 [1:54:28<19:42:55, 78.51s/it]"
     ]
    },
    {
     "name": "stdout",
     "output_type": "stream",
     "text": [
      "eigenvalues shape torch.Size([5]) eigenvectors shape torch.Size([5, 1024])\n",
      "95 /home/phdcs2/Hard_Disk/Datasets/Deep-Spectral-Segmentation/data/object-segmentation/ECSSD/features/0097_resized.pth\n",
      "dict_keys(['k', 'indices', 'file', 'id', 'model_name', 'patch_size', 'shape'])\n",
      "0097_resized\n",
      "Starting Training\n",
      "epoch: 00, loss: -0.87836\n",
      "epoch: 01, loss: -0.92389\n",
      "epoch: 02, loss: -0.93691\n",
      "epoch: 03, loss: -0.94431\n",
      "epoch: 04, loss: -0.94922\n",
      "epoch: 05, loss: -0.95305\n",
      "epoch: 06, loss: -0.95600\n",
      "epoch: 07, loss: -0.95841\n",
      "epoch: 08, loss: -0.96031\n",
      "epoch: 09, loss: -0.96191\n",
      "torch.Size([1024, 64])\n"
     ]
    },
    {
     "name": "stderr",
     "output_type": "stream",
     "text": [
      " 10%|▉         | 96/999 [1:55:45<19:34:57, 78.07s/it]"
     ]
    },
    {
     "name": "stdout",
     "output_type": "stream",
     "text": [
      "eigenvalues shape torch.Size([5]) eigenvectors shape torch.Size([5, 1024])\n",
      "96 /home/phdcs2/Hard_Disk/Datasets/Deep-Spectral-Segmentation/data/object-segmentation/ECSSD/features/0098_resized.pth\n",
      "dict_keys(['k', 'indices', 'file', 'id', 'model_name', 'patch_size', 'shape'])\n",
      "0098_resized\n",
      "Starting Training\n",
      "epoch: 00, loss: -0.87336\n",
      "epoch: 01, loss: -0.92745\n",
      "epoch: 02, loss: -0.94044\n",
      "epoch: 03, loss: -0.94794\n",
      "epoch: 04, loss: -0.95284\n",
      "epoch: 05, loss: -0.95634\n",
      "epoch: 06, loss: -0.95913\n",
      "epoch: 07, loss: -0.96146\n",
      "epoch: 08, loss: -0.96329\n",
      "epoch: 09, loss: -0.96489\n",
      "torch.Size([1024, 64])\n"
     ]
    },
    {
     "name": "stderr",
     "output_type": "stream",
     "text": [
      " 10%|▉         | 97/999 [1:57:06<19:43:51, 78.75s/it]"
     ]
    },
    {
     "name": "stdout",
     "output_type": "stream",
     "text": [
      "eigenvalues shape torch.Size([5]) eigenvectors shape torch.Size([5, 1024])\n",
      "97 /home/phdcs2/Hard_Disk/Datasets/Deep-Spectral-Segmentation/data/object-segmentation/ECSSD/features/0099_resized.pth\n",
      "dict_keys(['k', 'indices', 'file', 'id', 'model_name', 'patch_size', 'shape'])\n",
      "0099_resized\n",
      "Starting Training\n",
      "epoch: 00, loss: -0.86350\n",
      "epoch: 01, loss: -0.92110\n",
      "epoch: 02, loss: -0.93514\n",
      "epoch: 03, loss: -0.94329\n",
      "epoch: 04, loss: -0.94866\n",
      "epoch: 05, loss: -0.95272\n",
      "epoch: 06, loss: -0.95563\n",
      "epoch: 07, loss: -0.95806\n",
      "epoch: 08, loss: -0.96008\n",
      "epoch: 09, loss: -0.96179\n",
      "torch.Size([1024, 64])\n"
     ]
    },
    {
     "name": "stderr",
     "output_type": "stream",
     "text": [
      " 10%|▉         | 98/999 [1:58:24<19:41:55, 78.71s/it]"
     ]
    },
    {
     "name": "stdout",
     "output_type": "stream",
     "text": [
      "eigenvalues shape torch.Size([5]) eigenvectors shape torch.Size([5, 1024])\n",
      "98 /home/phdcs2/Hard_Disk/Datasets/Deep-Spectral-Segmentation/data/object-segmentation/ECSSD/features/0100_resized.pth\n",
      "dict_keys(['k', 'indices', 'file', 'id', 'model_name', 'patch_size', 'shape'])\n",
      "0100_resized\n",
      "Starting Training\n",
      "epoch: 00, loss: -0.86472\n",
      "epoch: 01, loss: -0.91892\n",
      "epoch: 02, loss: -0.93347\n",
      "epoch: 03, loss: -0.94193\n",
      "epoch: 04, loss: -0.94747\n",
      "epoch: 05, loss: -0.95136\n",
      "epoch: 06, loss: -0.95447\n",
      "epoch: 07, loss: -0.95697\n",
      "epoch: 08, loss: -0.95912\n",
      "epoch: 09, loss: -0.96093\n",
      "torch.Size([1024, 64])\n"
     ]
    },
    {
     "name": "stderr",
     "output_type": "stream",
     "text": [
      " 10%|▉         | 99/999 [1:59:41<19:32:59, 78.20s/it]"
     ]
    },
    {
     "name": "stdout",
     "output_type": "stream",
     "text": [
      "eigenvalues shape torch.Size([5]) eigenvectors shape torch.Size([5, 1024])\n",
      "99 /home/phdcs2/Hard_Disk/Datasets/Deep-Spectral-Segmentation/data/object-segmentation/ECSSD/features/0101_resized.pth\n",
      "dict_keys(['k', 'indices', 'file', 'id', 'model_name', 'patch_size', 'shape'])\n",
      "0101_resized\n",
      "Starting Training\n",
      "epoch: 00, loss: -0.88138\n",
      "epoch: 01, loss: -0.92936\n",
      "epoch: 02, loss: -0.94216\n",
      "epoch: 03, loss: -0.94946\n",
      "epoch: 04, loss: -0.95416\n",
      "epoch: 05, loss: -0.95771\n",
      "epoch: 06, loss: -0.96049\n",
      "epoch: 07, loss: -0.96269\n",
      "epoch: 08, loss: -0.96457\n",
      "epoch: 09, loss: -0.96609\n",
      "torch.Size([1024, 64])\n"
     ]
    },
    {
     "name": "stderr",
     "output_type": "stream",
     "text": [
      " 10%|█         | 100/999 [2:00:53<19:03:56, 76.35s/it]"
     ]
    },
    {
     "name": "stdout",
     "output_type": "stream",
     "text": [
      "eigenvalues shape torch.Size([5]) eigenvectors shape torch.Size([5, 1024])\n",
      "100 /home/phdcs2/Hard_Disk/Datasets/Deep-Spectral-Segmentation/data/object-segmentation/ECSSD/features/0102_resized.pth\n",
      "dict_keys(['k', 'indices', 'file', 'id', 'model_name', 'patch_size', 'shape'])\n",
      "0102_resized\n"
     ]
    },
    {
     "name": "stderr",
     "output_type": "stream",
     "text": [
      "/home/phdcs2/Hard_Disk/Projects/T2I/deep-spectral-segmentation/venv/lib/python3.8/site-packages/sklearn/decomposition/_pca.py:642: RuntimeWarning: invalid value encountered in divide\n",
      "  self.explained_variance_ratio_ = self.explained_variance_ / total_var\n"
     ]
    },
    {
     "name": "stdout",
     "output_type": "stream",
     "text": [
      "Starting Training\n",
      "epoch: 00, loss: -0.92847\n",
      "epoch: 01, loss: -0.95869\n",
      "epoch: 02, loss: -0.96519\n",
      "epoch: 03, loss: -0.96897\n",
      "epoch: 04, loss: -0.97153\n",
      "epoch: 05, loss: -0.97345\n",
      "epoch: 06, loss: -0.97493\n",
      "epoch: 07, loss: -0.97615\n",
      "epoch: 08, loss: -0.97717\n",
      "epoch: 09, loss: -0.97805\n",
      "torch.Size([1024, 64])\n"
     ]
    },
    {
     "name": "stderr",
     "output_type": "stream",
     "text": [
      " 10%|█         | 101/999 [2:02:10<19:06:26, 76.60s/it]"
     ]
    },
    {
     "name": "stdout",
     "output_type": "stream",
     "text": [
      "eigenvalues shape torch.Size([5]) eigenvectors shape torch.Size([5, 1024])\n",
      "101 /home/phdcs2/Hard_Disk/Datasets/Deep-Spectral-Segmentation/data/object-segmentation/ECSSD/features/0103_resized.pth\n",
      "dict_keys(['k', 'indices', 'file', 'id', 'model_name', 'patch_size', 'shape'])\n",
      "0103_resized\n",
      "Starting Training\n",
      "epoch: 00, loss: -0.85491\n",
      "epoch: 01, loss: -0.91630\n",
      "epoch: 02, loss: -0.93038\n",
      "epoch: 03, loss: -0.93806\n",
      "epoch: 04, loss: -0.94307\n",
      "epoch: 05, loss: -0.94679\n",
      "epoch: 06, loss: -0.94987\n",
      "epoch: 07, loss: -0.95219\n",
      "epoch: 08, loss: -0.95419\n",
      "epoch: 09, loss: -0.95585\n",
      "torch.Size([1024, 64])\n"
     ]
    },
    {
     "name": "stderr",
     "output_type": "stream",
     "text": [
      " 10%|█         | 102/999 [2:03:27<19:05:09, 76.60s/it]"
     ]
    },
    {
     "name": "stdout",
     "output_type": "stream",
     "text": [
      "eigenvalues shape torch.Size([5]) eigenvectors shape torch.Size([5, 1024])\n",
      "102 /home/phdcs2/Hard_Disk/Datasets/Deep-Spectral-Segmentation/data/object-segmentation/ECSSD/features/0104_resized.pth\n",
      "dict_keys(['k', 'indices', 'file', 'id', 'model_name', 'patch_size', 'shape'])\n",
      "0104_resized\n"
     ]
    },
    {
     "name": "stderr",
     "output_type": "stream",
     "text": [
      "/home/phdcs2/Hard_Disk/Projects/T2I/deep-spectral-segmentation/venv/lib/python3.8/site-packages/sklearn/decomposition/_pca.py:642: RuntimeWarning: invalid value encountered in divide\n",
      "  self.explained_variance_ratio_ = self.explained_variance_ / total_var\n"
     ]
    },
    {
     "name": "stdout",
     "output_type": "stream",
     "text": [
      "Starting Training\n",
      "epoch: 00, loss: -0.92943\n",
      "epoch: 01, loss: -0.95736\n",
      "epoch: 02, loss: -0.96380\n",
      "epoch: 03, loss: -0.96752\n",
      "epoch: 04, loss: -0.97012\n",
      "epoch: 05, loss: -0.97208\n",
      "epoch: 06, loss: -0.97361\n",
      "epoch: 07, loss: -0.97488\n",
      "epoch: 08, loss: -0.97592\n",
      "epoch: 09, loss: -0.97683\n",
      "torch.Size([1024, 64])\n"
     ]
    },
    {
     "name": "stderr",
     "output_type": "stream",
     "text": [
      " 10%|█         | 103/999 [2:04:46<19:14:00, 77.28s/it]"
     ]
    },
    {
     "name": "stdout",
     "output_type": "stream",
     "text": [
      "eigenvalues shape torch.Size([5]) eigenvectors shape torch.Size([5, 1024])\n",
      "103 /home/phdcs2/Hard_Disk/Datasets/Deep-Spectral-Segmentation/data/object-segmentation/ECSSD/features/0105_resized.pth\n",
      "dict_keys(['k', 'indices', 'file', 'id', 'model_name', 'patch_size', 'shape'])\n",
      "0105_resized\n",
      "Starting Training\n",
      "epoch: 00, loss: -0.91131\n",
      "epoch: 01, loss: -0.94774\n",
      "epoch: 02, loss: -0.95630\n",
      "epoch: 03, loss: -0.96130\n",
      "epoch: 04, loss: -0.96465\n",
      "epoch: 05, loss: -0.96718\n",
      "epoch: 06, loss: -0.96912\n",
      "epoch: 07, loss: -0.97070\n",
      "epoch: 08, loss: -0.97203\n",
      "epoch: 09, loss: -0.97318\n",
      "torch.Size([1024, 64])\n"
     ]
    },
    {
     "name": "stderr",
     "output_type": "stream",
     "text": [
      " 10%|█         | 104/999 [2:06:04<19:16:03, 77.50s/it]"
     ]
    },
    {
     "name": "stdout",
     "output_type": "stream",
     "text": [
      "eigenvalues shape torch.Size([5]) eigenvectors shape torch.Size([5, 1024])\n",
      "104 /home/phdcs2/Hard_Disk/Datasets/Deep-Spectral-Segmentation/data/object-segmentation/ECSSD/features/0106_resized.pth\n",
      "dict_keys(['k', 'indices', 'file', 'id', 'model_name', 'patch_size', 'shape'])\n",
      "0106_resized\n",
      "Starting Training\n",
      "epoch: 00, loss: -0.91211\n",
      "epoch: 01, loss: -0.94611\n",
      "epoch: 02, loss: -0.95463\n",
      "epoch: 03, loss: -0.95949\n",
      "epoch: 04, loss: -0.96281\n",
      "epoch: 05, loss: -0.96531\n",
      "epoch: 06, loss: -0.96728\n",
      "epoch: 07, loss: -0.96886\n",
      "epoch: 08, loss: -0.97022\n",
      "epoch: 09, loss: -0.97132\n",
      "torch.Size([1024, 64])\n"
     ]
    },
    {
     "name": "stderr",
     "output_type": "stream",
     "text": [
      " 11%|█         | 105/999 [2:07:14<18:44:07, 75.44s/it]"
     ]
    },
    {
     "name": "stdout",
     "output_type": "stream",
     "text": [
      "eigenvalues shape torch.Size([5]) eigenvectors shape torch.Size([5, 1024])\n",
      "105 /home/phdcs2/Hard_Disk/Datasets/Deep-Spectral-Segmentation/data/object-segmentation/ECSSD/features/0107_resized.pth\n",
      "dict_keys(['k', 'indices', 'file', 'id', 'model_name', 'patch_size', 'shape'])\n",
      "0107_resized\n"
     ]
    },
    {
     "name": "stderr",
     "output_type": "stream",
     "text": [
      "/home/phdcs2/Hard_Disk/Projects/T2I/deep-spectral-segmentation/venv/lib/python3.8/site-packages/sklearn/decomposition/_pca.py:642: RuntimeWarning: invalid value encountered in divide\n",
      "  self.explained_variance_ratio_ = self.explained_variance_ / total_var\n"
     ]
    },
    {
     "name": "stdout",
     "output_type": "stream",
     "text": [
      "Starting Training\n",
      "epoch: 00, loss: -0.91243\n",
      "epoch: 01, loss: -0.94902\n",
      "epoch: 02, loss: -0.95679\n",
      "epoch: 03, loss: -0.96135\n",
      "epoch: 04, loss: -0.96442\n",
      "epoch: 05, loss: -0.96676\n",
      "epoch: 06, loss: -0.96859\n",
      "epoch: 07, loss: -0.97006\n",
      "epoch: 08, loss: -0.97131\n",
      "epoch: 09, loss: -0.97238\n",
      "torch.Size([1024, 64])\n"
     ]
    },
    {
     "name": "stderr",
     "output_type": "stream",
     "text": [
      " 11%|█         | 106/999 [2:08:20<17:57:27, 72.39s/it]"
     ]
    },
    {
     "name": "stdout",
     "output_type": "stream",
     "text": [
      "eigenvalues shape torch.Size([5]) eigenvectors shape torch.Size([5, 1024])\n",
      "106 /home/phdcs2/Hard_Disk/Datasets/Deep-Spectral-Segmentation/data/object-segmentation/ECSSD/features/0108_resized.pth\n",
      "dict_keys(['k', 'indices', 'file', 'id', 'model_name', 'patch_size', 'shape'])\n",
      "0108_resized\n",
      "Starting Training\n",
      "epoch: 00, loss: -0.93324\n",
      "epoch: 01, loss: -0.96040\n",
      "epoch: 02, loss: -0.96658\n",
      "epoch: 03, loss: -0.97015\n",
      "epoch: 04, loss: -0.97260\n",
      "epoch: 05, loss: -0.97440\n",
      "epoch: 06, loss: -0.97583\n",
      "epoch: 07, loss: -0.97697\n",
      "epoch: 08, loss: -0.97794\n",
      "epoch: 09, loss: -0.97878\n",
      "torch.Size([1024, 64])\n"
     ]
    },
    {
     "name": "stderr",
     "output_type": "stream",
     "text": [
      " 11%|█         | 107/999 [2:09:38<18:22:56, 74.19s/it]"
     ]
    },
    {
     "name": "stdout",
     "output_type": "stream",
     "text": [
      "eigenvalues shape torch.Size([5]) eigenvectors shape torch.Size([5, 1024])\n",
      "107 /home/phdcs2/Hard_Disk/Datasets/Deep-Spectral-Segmentation/data/object-segmentation/ECSSD/features/0109_resized.pth\n",
      "dict_keys(['k', 'indices', 'file', 'id', 'model_name', 'patch_size', 'shape'])\n",
      "0109_resized\n",
      "Starting Training\n",
      "epoch: 00, loss: -0.88930\n",
      "epoch: 01, loss: -0.93422\n",
      "epoch: 02, loss: -0.94553\n",
      "epoch: 03, loss: -0.95203\n",
      "epoch: 04, loss: -0.95641\n",
      "epoch: 05, loss: -0.95964\n",
      "epoch: 06, loss: -0.96214\n",
      "epoch: 07, loss: -0.96420\n",
      "epoch: 08, loss: -0.96594\n",
      "epoch: 09, loss: -0.96732\n",
      "torch.Size([1024, 64])\n"
     ]
    },
    {
     "name": "stderr",
     "output_type": "stream",
     "text": [
      " 11%|█         | 108/999 [2:10:54<18:27:03, 74.55s/it]"
     ]
    },
    {
     "name": "stdout",
     "output_type": "stream",
     "text": [
      "eigenvalues shape torch.Size([5]) eigenvectors shape torch.Size([5, 1024])\n",
      "108 /home/phdcs2/Hard_Disk/Datasets/Deep-Spectral-Segmentation/data/object-segmentation/ECSSD/features/0110_resized.pth\n",
      "dict_keys(['k', 'indices', 'file', 'id', 'model_name', 'patch_size', 'shape'])\n",
      "0110_resized\n"
     ]
    },
    {
     "name": "stderr",
     "output_type": "stream",
     "text": [
      "/home/phdcs2/Hard_Disk/Projects/T2I/deep-spectral-segmentation/venv/lib/python3.8/site-packages/sklearn/decomposition/_pca.py:642: RuntimeWarning: invalid value encountered in divide\n",
      "  self.explained_variance_ratio_ = self.explained_variance_ / total_var\n"
     ]
    },
    {
     "name": "stdout",
     "output_type": "stream",
     "text": [
      "Starting Training\n",
      "epoch: 00, loss: -0.91378\n",
      "epoch: 01, loss: -0.94893\n",
      "epoch: 02, loss: -0.95698\n",
      "epoch: 03, loss: -0.96163\n",
      "epoch: 04, loss: -0.96481\n",
      "epoch: 05, loss: -0.96718\n",
      "epoch: 06, loss: -0.96904\n",
      "epoch: 07, loss: -0.97057\n",
      "epoch: 08, loss: -0.97185\n",
      "epoch: 09, loss: -0.97292\n",
      "torch.Size([1024, 64])\n"
     ]
    },
    {
     "name": "stderr",
     "output_type": "stream",
     "text": [
      " 11%|█         | 109/999 [2:12:11<18:37:36, 75.34s/it]"
     ]
    },
    {
     "name": "stdout",
     "output_type": "stream",
     "text": [
      "eigenvalues shape torch.Size([5]) eigenvectors shape torch.Size([5, 1024])\n",
      "109 /home/phdcs2/Hard_Disk/Datasets/Deep-Spectral-Segmentation/data/object-segmentation/ECSSD/features/0111_resized.pth\n",
      "dict_keys(['k', 'indices', 'file', 'id', 'model_name', 'patch_size', 'shape'])\n",
      "0111_resized\n",
      "Starting Training\n",
      "epoch: 00, loss: -0.86466\n",
      "epoch: 01, loss: -0.92000\n",
      "epoch: 02, loss: -0.93444\n",
      "epoch: 03, loss: -0.94260\n",
      "epoch: 04, loss: -0.94790\n",
      "epoch: 05, loss: -0.95198\n",
      "epoch: 06, loss: -0.95507\n",
      "epoch: 07, loss: -0.95753\n",
      "epoch: 08, loss: -0.95969\n",
      "epoch: 09, loss: -0.96139\n",
      "torch.Size([1024, 64])\n"
     ]
    },
    {
     "name": "stderr",
     "output_type": "stream",
     "text": [
      " 11%|█         | 110/999 [2:13:29<18:48:41, 76.18s/it]"
     ]
    },
    {
     "name": "stdout",
     "output_type": "stream",
     "text": [
      "eigenvalues shape torch.Size([5]) eigenvectors shape torch.Size([5, 1024])\n",
      "110 /home/phdcs2/Hard_Disk/Datasets/Deep-Spectral-Segmentation/data/object-segmentation/ECSSD/features/0112_resized.pth\n",
      "dict_keys(['k', 'indices', 'file', 'id', 'model_name', 'patch_size', 'shape'])\n",
      "0112_resized\n"
     ]
    },
    {
     "name": "stderr",
     "output_type": "stream",
     "text": [
      "/home/phdcs2/Hard_Disk/Projects/T2I/deep-spectral-segmentation/venv/lib/python3.8/site-packages/sklearn/decomposition/_pca.py:642: RuntimeWarning: invalid value encountered in divide\n",
      "  self.explained_variance_ratio_ = self.explained_variance_ / total_var\n"
     ]
    },
    {
     "name": "stdout",
     "output_type": "stream",
     "text": [
      "Starting Training\n",
      "epoch: 00, loss: -0.93007\n",
      "epoch: 01, loss: -0.95719\n",
      "epoch: 02, loss: -0.96322\n",
      "epoch: 03, loss: -0.96675\n",
      "epoch: 04, loss: -0.96912\n",
      "epoch: 05, loss: -0.97091\n",
      "epoch: 06, loss: -0.97235\n",
      "epoch: 07, loss: -0.97353\n",
      "epoch: 08, loss: -0.97453\n",
      "epoch: 09, loss: -0.97536\n",
      "torch.Size([1024, 64])\n"
     ]
    },
    {
     "name": "stderr",
     "output_type": "stream",
     "text": [
      " 11%|█         | 111/999 [2:14:43<18:38:21, 75.56s/it]"
     ]
    },
    {
     "name": "stdout",
     "output_type": "stream",
     "text": [
      "eigenvalues shape torch.Size([5]) eigenvectors shape torch.Size([5, 1024])\n",
      "111 /home/phdcs2/Hard_Disk/Datasets/Deep-Spectral-Segmentation/data/object-segmentation/ECSSD/features/0113_resized.pth\n",
      "dict_keys(['k', 'indices', 'file', 'id', 'model_name', 'patch_size', 'shape'])\n",
      "0113_resized\n",
      "Starting Training\n",
      "epoch: 00, loss: -0.85469\n",
      "epoch: 01, loss: -0.91577\n",
      "epoch: 02, loss: -0.92990\n",
      "epoch: 03, loss: -0.93790\n",
      "epoch: 04, loss: -0.94317\n",
      "epoch: 05, loss: -0.94704\n",
      "epoch: 06, loss: -0.95013\n",
      "epoch: 07, loss: -0.95255\n",
      "epoch: 08, loss: -0.95458\n",
      "epoch: 09, loss: -0.95643\n",
      "torch.Size([1024, 64])\n"
     ]
    },
    {
     "name": "stderr",
     "output_type": "stream",
     "text": [
      " 11%|█         | 112/999 [2:15:54<18:16:50, 74.19s/it]"
     ]
    },
    {
     "name": "stdout",
     "output_type": "stream",
     "text": [
      "eigenvalues shape torch.Size([5]) eigenvectors shape torch.Size([5, 1024])\n",
      "112 /home/phdcs2/Hard_Disk/Datasets/Deep-Spectral-Segmentation/data/object-segmentation/ECSSD/features/0114_resized.pth\n",
      "dict_keys(['k', 'indices', 'file', 'id', 'model_name', 'patch_size', 'shape'])\n",
      "0114_resized\n"
     ]
    },
    {
     "name": "stderr",
     "output_type": "stream",
     "text": [
      "/home/phdcs2/Hard_Disk/Projects/T2I/deep-spectral-segmentation/venv/lib/python3.8/site-packages/sklearn/decomposition/_pca.py:642: RuntimeWarning: invalid value encountered in divide\n",
      "  self.explained_variance_ratio_ = self.explained_variance_ / total_var\n"
     ]
    },
    {
     "name": "stdout",
     "output_type": "stream",
     "text": [
      "Starting Training\n",
      "epoch: 00, loss: -0.90199\n",
      "epoch: 01, loss: -0.94435\n",
      "epoch: 02, loss: -0.95396\n",
      "epoch: 03, loss: -0.95945\n",
      "epoch: 04, loss: -0.96314\n",
      "epoch: 05, loss: -0.96583\n",
      "epoch: 06, loss: -0.96794\n",
      "epoch: 07, loss: -0.96960\n",
      "epoch: 08, loss: -0.97104\n",
      "epoch: 09, loss: -0.97222\n",
      "torch.Size([1024, 64])\n"
     ]
    },
    {
     "name": "stderr",
     "output_type": "stream",
     "text": [
      " 11%|█▏        | 113/999 [2:17:00<17:38:31, 71.68s/it]"
     ]
    },
    {
     "name": "stdout",
     "output_type": "stream",
     "text": [
      "eigenvalues shape torch.Size([5]) eigenvectors shape torch.Size([5, 1024])\n",
      "113 /home/phdcs2/Hard_Disk/Datasets/Deep-Spectral-Segmentation/data/object-segmentation/ECSSD/features/0115_resized.pth\n",
      "dict_keys(['k', 'indices', 'file', 'id', 'model_name', 'patch_size', 'shape'])\n",
      "0115_resized\n",
      "Starting Training\n",
      "epoch: 00, loss: -0.85054\n",
      "epoch: 01, loss: -0.91078\n",
      "epoch: 02, loss: -0.92707\n",
      "epoch: 03, loss: -0.93642\n",
      "epoch: 04, loss: -0.94240\n",
      "epoch: 05, loss: -0.94701\n",
      "epoch: 06, loss: -0.95045\n",
      "epoch: 07, loss: -0.95325\n",
      "epoch: 08, loss: -0.95553\n",
      "epoch: 09, loss: -0.95746\n",
      "torch.Size([1024, 64])\n"
     ]
    },
    {
     "name": "stderr",
     "output_type": "stream",
     "text": [
      " 11%|█▏        | 114/999 [2:18:05<17:09:34, 69.80s/it]"
     ]
    },
    {
     "name": "stdout",
     "output_type": "stream",
     "text": [
      "eigenvalues shape torch.Size([5]) eigenvectors shape torch.Size([5, 1024])\n",
      "114 /home/phdcs2/Hard_Disk/Datasets/Deep-Spectral-Segmentation/data/object-segmentation/ECSSD/features/0116_resized.pth\n",
      "dict_keys(['k', 'indices', 'file', 'id', 'model_name', 'patch_size', 'shape'])\n",
      "0116_resized\n"
     ]
    },
    {
     "name": "stderr",
     "output_type": "stream",
     "text": [
      "/home/phdcs2/Hard_Disk/Projects/T2I/deep-spectral-segmentation/venv/lib/python3.8/site-packages/sklearn/decomposition/_pca.py:642: RuntimeWarning: invalid value encountered in divide\n",
      "  self.explained_variance_ratio_ = self.explained_variance_ / total_var\n"
     ]
    },
    {
     "name": "stdout",
     "output_type": "stream",
     "text": [
      "Starting Training\n",
      "epoch: 00, loss: -0.91793\n",
      "epoch: 01, loss: -0.94920\n",
      "epoch: 02, loss: -0.95676\n",
      "epoch: 03, loss: -0.96118\n",
      "epoch: 04, loss: -0.96417\n",
      "epoch: 05, loss: -0.96644\n",
      "epoch: 06, loss: -0.96821\n",
      "epoch: 07, loss: -0.96966\n",
      "epoch: 08, loss: -0.97086\n",
      "epoch: 09, loss: -0.97193\n",
      "torch.Size([1024, 64])\n"
     ]
    },
    {
     "name": "stderr",
     "output_type": "stream",
     "text": [
      " 12%|█▏        | 115/999 [2:19:04<16:18:18, 66.40s/it]"
     ]
    },
    {
     "name": "stdout",
     "output_type": "stream",
     "text": [
      "eigenvalues shape torch.Size([5]) eigenvectors shape torch.Size([5, 1024])\n",
      "115 /home/phdcs2/Hard_Disk/Datasets/Deep-Spectral-Segmentation/data/object-segmentation/ECSSD/features/0117_resized.pth\n",
      "dict_keys(['k', 'indices', 'file', 'id', 'model_name', 'patch_size', 'shape'])\n",
      "0117_resized\n"
     ]
    },
    {
     "name": "stderr",
     "output_type": "stream",
     "text": [
      "/home/phdcs2/Hard_Disk/Projects/T2I/deep-spectral-segmentation/venv/lib/python3.8/site-packages/sklearn/decomposition/_pca.py:642: RuntimeWarning: invalid value encountered in divide\n",
      "  self.explained_variance_ratio_ = self.explained_variance_ / total_var\n"
     ]
    },
    {
     "name": "stdout",
     "output_type": "stream",
     "text": [
      "Starting Training\n",
      "epoch: 00, loss: -0.92693\n",
      "epoch: 01, loss: -0.95609\n",
      "epoch: 02, loss: -0.96291\n",
      "epoch: 03, loss: -0.96684\n",
      "epoch: 04, loss: -0.96952\n",
      "epoch: 05, loss: -0.97150\n",
      "epoch: 06, loss: -0.97306\n",
      "epoch: 07, loss: -0.97433\n",
      "epoch: 08, loss: -0.97539\n",
      "epoch: 09, loss: -0.97631\n",
      "torch.Size([1024, 64])\n"
     ]
    },
    {
     "name": "stderr",
     "output_type": "stream",
     "text": [
      " 12%|█▏        | 116/999 [2:20:11<16:22:51, 66.79s/it]"
     ]
    },
    {
     "name": "stdout",
     "output_type": "stream",
     "text": [
      "eigenvalues shape torch.Size([5]) eigenvectors shape torch.Size([5, 1024])\n",
      "116 /home/phdcs2/Hard_Disk/Datasets/Deep-Spectral-Segmentation/data/object-segmentation/ECSSD/features/0118_resized.pth\n",
      "dict_keys(['k', 'indices', 'file', 'id', 'model_name', 'patch_size', 'shape'])\n",
      "0118_resized\n",
      "Starting Training\n",
      "epoch: 00, loss: -0.85837\n",
      "epoch: 01, loss: -0.91618\n",
      "epoch: 02, loss: -0.93137\n",
      "epoch: 03, loss: -0.93973\n",
      "epoch: 04, loss: -0.94543\n",
      "epoch: 05, loss: -0.94951\n",
      "epoch: 06, loss: -0.95278\n",
      "epoch: 07, loss: -0.95524\n",
      "epoch: 08, loss: -0.95735\n",
      "epoch: 09, loss: -0.95909\n",
      "torch.Size([1024, 64])\n"
     ]
    },
    {
     "name": "stderr",
     "output_type": "stream",
     "text": [
      " 12%|█▏        | 117/999 [2:21:22<16:38:33, 67.93s/it]"
     ]
    },
    {
     "name": "stdout",
     "output_type": "stream",
     "text": [
      "eigenvalues shape torch.Size([5]) eigenvectors shape torch.Size([5, 1024])\n",
      "117 /home/phdcs2/Hard_Disk/Datasets/Deep-Spectral-Segmentation/data/object-segmentation/ECSSD/features/0119_resized.pth\n",
      "dict_keys(['k', 'indices', 'file', 'id', 'model_name', 'patch_size', 'shape'])\n",
      "0119_resized\n",
      "Starting Training\n",
      "epoch: 00, loss: -0.87291\n",
      "epoch: 01, loss: -0.92421\n",
      "epoch: 02, loss: -0.93691\n",
      "epoch: 03, loss: -0.94372\n",
      "epoch: 04, loss: -0.94855\n",
      "epoch: 05, loss: -0.95200\n",
      "epoch: 06, loss: -0.95481\n",
      "epoch: 07, loss: -0.95697\n",
      "epoch: 08, loss: -0.95885\n",
      "epoch: 09, loss: -0.96050\n",
      "torch.Size([1024, 64])\n"
     ]
    },
    {
     "name": "stderr",
     "output_type": "stream",
     "text": [
      " 12%|█▏        | 118/999 [2:22:30<16:36:13, 67.85s/it]"
     ]
    },
    {
     "name": "stdout",
     "output_type": "stream",
     "text": [
      "eigenvalues shape torch.Size([5]) eigenvectors shape torch.Size([5, 1024])\n",
      "118 /home/phdcs2/Hard_Disk/Datasets/Deep-Spectral-Segmentation/data/object-segmentation/ECSSD/features/0120_resized.pth\n",
      "dict_keys(['k', 'indices', 'file', 'id', 'model_name', 'patch_size', 'shape'])\n",
      "0120_resized\n",
      "Starting Training\n",
      "epoch: 00, loss: -0.87931\n",
      "epoch: 01, loss: -0.93090\n",
      "epoch: 02, loss: -0.94309\n",
      "epoch: 03, loss: -0.94978\n",
      "epoch: 04, loss: -0.95438\n",
      "epoch: 05, loss: -0.95761\n",
      "epoch: 06, loss: -0.96038\n",
      "epoch: 07, loss: -0.96251\n",
      "epoch: 08, loss: -0.96432\n",
      "epoch: 09, loss: -0.96577\n",
      "torch.Size([1024, 64])\n"
     ]
    },
    {
     "name": "stderr",
     "output_type": "stream",
     "text": [
      " 12%|█▏        | 119/999 [2:23:33<16:17:15, 66.63s/it]"
     ]
    },
    {
     "name": "stdout",
     "output_type": "stream",
     "text": [
      "eigenvalues shape torch.Size([5]) eigenvectors shape torch.Size([5, 1024])\n",
      "119 /home/phdcs2/Hard_Disk/Datasets/Deep-Spectral-Segmentation/data/object-segmentation/ECSSD/features/0121_resized.pth\n",
      "dict_keys(['k', 'indices', 'file', 'id', 'model_name', 'patch_size', 'shape'])\n",
      "0121_resized\n",
      "Starting Training\n",
      "epoch: 00, loss: -0.92130\n",
      "epoch: 01, loss: -0.95306\n",
      "epoch: 02, loss: -0.96045\n",
      "epoch: 03, loss: -0.96474\n",
      "epoch: 04, loss: -0.96771\n",
      "epoch: 05, loss: -0.96986\n",
      "epoch: 06, loss: -0.97157\n",
      "epoch: 07, loss: -0.97293\n",
      "epoch: 08, loss: -0.97409\n",
      "epoch: 09, loss: -0.97508\n",
      "torch.Size([1024, 64])\n"
     ]
    },
    {
     "name": "stderr",
     "output_type": "stream",
     "text": [
      " 12%|█▏        | 120/999 [2:24:35<15:52:37, 65.03s/it]"
     ]
    },
    {
     "name": "stdout",
     "output_type": "stream",
     "text": [
      "eigenvalues shape torch.Size([5]) eigenvectors shape torch.Size([5, 1024])\n",
      "120 /home/phdcs2/Hard_Disk/Datasets/Deep-Spectral-Segmentation/data/object-segmentation/ECSSD/features/0122_resized.pth\n",
      "dict_keys(['k', 'indices', 'file', 'id', 'model_name', 'patch_size', 'shape'])\n",
      "0122_resized\n",
      "Starting Training\n",
      "epoch: 00, loss: -0.91343\n",
      "epoch: 01, loss: -0.94916\n",
      "epoch: 02, loss: -0.95726\n",
      "epoch: 03, loss: -0.96198\n",
      "epoch: 04, loss: -0.96516\n",
      "epoch: 05, loss: -0.96755\n",
      "epoch: 06, loss: -0.96942\n",
      "epoch: 07, loss: -0.97095\n",
      "epoch: 08, loss: -0.97220\n",
      "epoch: 09, loss: -0.97329\n",
      "torch.Size([1024, 64])\n"
     ]
    },
    {
     "name": "stderr",
     "output_type": "stream",
     "text": [
      " 12%|█▏        | 121/999 [2:25:39<15:49:06, 64.86s/it]"
     ]
    },
    {
     "name": "stdout",
     "output_type": "stream",
     "text": [
      "eigenvalues shape torch.Size([5]) eigenvectors shape torch.Size([5, 1024])\n",
      "121 /home/phdcs2/Hard_Disk/Datasets/Deep-Spectral-Segmentation/data/object-segmentation/ECSSD/features/0123_resized.pth\n",
      "dict_keys(['k', 'indices', 'file', 'id', 'model_name', 'patch_size', 'shape'])\n",
      "0123_resized\n"
     ]
    },
    {
     "name": "stderr",
     "output_type": "stream",
     "text": [
      "/home/phdcs2/Hard_Disk/Projects/T2I/deep-spectral-segmentation/venv/lib/python3.8/site-packages/sklearn/decomposition/_pca.py:642: RuntimeWarning: invalid value encountered in divide\n",
      "  self.explained_variance_ratio_ = self.explained_variance_ / total_var\n"
     ]
    },
    {
     "name": "stdout",
     "output_type": "stream",
     "text": [
      "Starting Training\n",
      "epoch: 00, loss: -0.91360\n",
      "epoch: 01, loss: -0.94900\n",
      "epoch: 02, loss: -0.95719\n",
      "epoch: 03, loss: -0.96186\n",
      "epoch: 04, loss: -0.96509\n",
      "epoch: 05, loss: -0.96743\n",
      "epoch: 06, loss: -0.96927\n",
      "epoch: 07, loss: -0.97079\n",
      "epoch: 08, loss: -0.97205\n",
      "epoch: 09, loss: -0.97312\n",
      "torch.Size([1024, 64])\n"
     ]
    },
    {
     "name": "stderr",
     "output_type": "stream",
     "text": [
      " 12%|█▏        | 122/999 [2:26:47<16:01:55, 65.81s/it]"
     ]
    },
    {
     "name": "stdout",
     "output_type": "stream",
     "text": [
      "eigenvalues shape torch.Size([5]) eigenvectors shape torch.Size([5, 1024])\n",
      "122 /home/phdcs2/Hard_Disk/Datasets/Deep-Spectral-Segmentation/data/object-segmentation/ECSSD/features/0124_resized.pth\n",
      "dict_keys(['k', 'indices', 'file', 'id', 'model_name', 'patch_size', 'shape'])\n",
      "0124_resized\n",
      "Starting Training\n",
      "epoch: 00, loss: -0.89186\n",
      "epoch: 01, loss: -0.93720\n",
      "epoch: 02, loss: -0.94753\n",
      "epoch: 03, loss: -0.95349\n",
      "epoch: 04, loss: -0.95759\n",
      "epoch: 05, loss: -0.96045\n",
      "epoch: 06, loss: -0.96277\n",
      "epoch: 07, loss: -0.96463\n",
      "epoch: 08, loss: -0.96619\n",
      "epoch: 09, loss: -0.96749\n",
      "torch.Size([1024, 64])\n"
     ]
    },
    {
     "name": "stderr",
     "output_type": "stream",
     "text": [
      " 12%|█▏        | 123/999 [2:27:54<16:04:34, 66.07s/it]"
     ]
    },
    {
     "name": "stdout",
     "output_type": "stream",
     "text": [
      "eigenvalues shape torch.Size([5]) eigenvectors shape torch.Size([5, 1024])\n",
      "123 /home/phdcs2/Hard_Disk/Datasets/Deep-Spectral-Segmentation/data/object-segmentation/ECSSD/features/0125_resized.pth\n",
      "dict_keys(['k', 'indices', 'file', 'id', 'model_name', 'patch_size', 'shape'])\n",
      "0125_resized\n",
      "Starting Training\n",
      "epoch: 00, loss: -0.87480\n",
      "epoch: 01, loss: -0.92711\n",
      "epoch: 02, loss: -0.93958\n",
      "epoch: 03, loss: -0.94676\n",
      "epoch: 04, loss: -0.95152\n",
      "epoch: 05, loss: -0.95509\n",
      "epoch: 06, loss: -0.95792\n",
      "epoch: 07, loss: -0.96016\n",
      "epoch: 08, loss: -0.96203\n",
      "epoch: 09, loss: -0.96353\n",
      "torch.Size([1024, 64])\n"
     ]
    },
    {
     "name": "stderr",
     "output_type": "stream",
     "text": [
      " 12%|█▏        | 124/999 [2:29:02<16:10:58, 66.58s/it]"
     ]
    },
    {
     "name": "stdout",
     "output_type": "stream",
     "text": [
      "eigenvalues shape torch.Size([5]) eigenvectors shape torch.Size([5, 1024])\n",
      "124 /home/phdcs2/Hard_Disk/Datasets/Deep-Spectral-Segmentation/data/object-segmentation/ECSSD/features/0126_resized.pth\n",
      "dict_keys(['k', 'indices', 'file', 'id', 'model_name', 'patch_size', 'shape'])\n",
      "0126_resized\n"
     ]
    },
    {
     "name": "stderr",
     "output_type": "stream",
     "text": [
      "/home/phdcs2/Hard_Disk/Projects/T2I/deep-spectral-segmentation/venv/lib/python3.8/site-packages/sklearn/decomposition/_pca.py:642: RuntimeWarning: invalid value encountered in divide\n",
      "  self.explained_variance_ratio_ = self.explained_variance_ / total_var\n"
     ]
    },
    {
     "name": "stdout",
     "output_type": "stream",
     "text": [
      "Starting Training\n",
      "epoch: 00, loss: -0.90870\n",
      "epoch: 01, loss: -0.94335\n",
      "epoch: 02, loss: -0.95238\n",
      "epoch: 03, loss: -0.95766\n",
      "epoch: 04, loss: -0.96123\n",
      "epoch: 05, loss: -0.96390\n",
      "epoch: 06, loss: -0.96602\n",
      "epoch: 07, loss: -0.96773\n",
      "epoch: 08, loss: -0.96919\n",
      "epoch: 09, loss: -0.97039\n",
      "torch.Size([1024, 64])\n"
     ]
    },
    {
     "name": "stderr",
     "output_type": "stream",
     "text": [
      " 13%|█▎        | 125/999 [2:30:01<15:37:29, 64.36s/it]"
     ]
    },
    {
     "name": "stdout",
     "output_type": "stream",
     "text": [
      "eigenvalues shape torch.Size([5]) eigenvectors shape torch.Size([5, 1024])\n",
      "125 /home/phdcs2/Hard_Disk/Datasets/Deep-Spectral-Segmentation/data/object-segmentation/ECSSD/features/0127_resized.pth\n",
      "dict_keys(['k', 'indices', 'file', 'id', 'model_name', 'patch_size', 'shape'])\n",
      "0127_resized\n",
      "Starting Training\n",
      "epoch: 00, loss: -0.93123\n",
      "epoch: 01, loss: -0.95765\n",
      "epoch: 02, loss: -0.96406\n",
      "epoch: 03, loss: -0.96776\n",
      "epoch: 04, loss: -0.97030\n",
      "epoch: 05, loss: -0.97220\n",
      "epoch: 06, loss: -0.97369\n",
      "epoch: 07, loss: -0.97492\n",
      "epoch: 08, loss: -0.97593\n",
      "epoch: 09, loss: -0.97679\n",
      "torch.Size([1024, 64])\n"
     ]
    },
    {
     "name": "stderr",
     "output_type": "stream",
     "text": [
      " 13%|█▎        | 126/999 [2:31:01<15:17:55, 63.09s/it]"
     ]
    },
    {
     "name": "stdout",
     "output_type": "stream",
     "text": [
      "eigenvalues shape torch.Size([5]) eigenvectors shape torch.Size([5, 1024])\n",
      "126 /home/phdcs2/Hard_Disk/Datasets/Deep-Spectral-Segmentation/data/object-segmentation/ECSSD/features/0128_resized.pth\n",
      "dict_keys(['k', 'indices', 'file', 'id', 'model_name', 'patch_size', 'shape'])\n",
      "0128_resized\n"
     ]
    },
    {
     "name": "stderr",
     "output_type": "stream",
     "text": [
      "/home/phdcs2/Hard_Disk/Projects/T2I/deep-spectral-segmentation/venv/lib/python3.8/site-packages/sklearn/decomposition/_pca.py:642: RuntimeWarning: invalid value encountered in divide\n",
      "  self.explained_variance_ratio_ = self.explained_variance_ / total_var\n"
     ]
    },
    {
     "name": "stdout",
     "output_type": "stream",
     "text": [
      "Starting Training\n",
      "epoch: 00, loss: -0.91623\n",
      "epoch: 01, loss: -0.95071\n",
      "epoch: 02, loss: -0.95834\n",
      "epoch: 03, loss: -0.96283\n",
      "epoch: 04, loss: -0.96587\n",
      "epoch: 05, loss: -0.96819\n",
      "epoch: 06, loss: -0.96997\n",
      "epoch: 07, loss: -0.97143\n",
      "epoch: 08, loss: -0.97263\n",
      "epoch: 09, loss: -0.97368\n",
      "torch.Size([1024, 64])\n"
     ]
    },
    {
     "name": "stderr",
     "output_type": "stream",
     "text": [
      " 13%|█▎        | 127/999 [2:32:01<15:05:46, 62.32s/it]"
     ]
    },
    {
     "name": "stdout",
     "output_type": "stream",
     "text": [
      "eigenvalues shape torch.Size([5]) eigenvectors shape torch.Size([5, 1024])\n",
      "127 /home/phdcs2/Hard_Disk/Datasets/Deep-Spectral-Segmentation/data/object-segmentation/ECSSD/features/0129_resized.pth\n",
      "dict_keys(['k', 'indices', 'file', 'id', 'model_name', 'patch_size', 'shape'])\n",
      "0129_resized\n",
      "Starting Training\n",
      "epoch: 00, loss: -0.93993\n",
      "epoch: 01, loss: -0.96622\n",
      "epoch: 02, loss: -0.97148\n",
      "epoch: 03, loss: -0.97455\n",
      "epoch: 04, loss: -0.97663\n",
      "epoch: 05, loss: -0.97819\n",
      "epoch: 06, loss: -0.97942\n",
      "epoch: 07, loss: -0.98039\n",
      "epoch: 08, loss: -0.98123\n",
      "epoch: 09, loss: -0.98194\n",
      "torch.Size([1024, 64])\n"
     ]
    },
    {
     "name": "stderr",
     "output_type": "stream",
     "text": [
      " 13%|█▎        | 128/999 [2:32:49<14:02:10, 58.01s/it]"
     ]
    },
    {
     "name": "stdout",
     "output_type": "stream",
     "text": [
      "eigenvalues shape torch.Size([5]) eigenvectors shape torch.Size([5, 1024])\n",
      "128 /home/phdcs2/Hard_Disk/Datasets/Deep-Spectral-Segmentation/data/object-segmentation/ECSSD/features/0130_resized.pth\n",
      "dict_keys(['k', 'indices', 'file', 'id', 'model_name', 'patch_size', 'shape'])\n",
      "0130_resized\n"
     ]
    },
    {
     "name": "stderr",
     "output_type": "stream",
     "text": [
      "/home/phdcs2/Hard_Disk/Projects/T2I/deep-spectral-segmentation/venv/lib/python3.8/site-packages/sklearn/decomposition/_pca.py:642: RuntimeWarning: invalid value encountered in divide\n",
      "  self.explained_variance_ratio_ = self.explained_variance_ / total_var\n"
     ]
    },
    {
     "name": "stdout",
     "output_type": "stream",
     "text": [
      "Starting Training\n",
      "epoch: 00, loss: -0.92317\n",
      "epoch: 01, loss: -0.95371\n",
      "epoch: 02, loss: -0.96096\n",
      "epoch: 03, loss: -0.96517\n",
      "epoch: 04, loss: -0.96803\n",
      "epoch: 05, loss: -0.97019\n",
      "epoch: 06, loss: -0.97186\n",
      "epoch: 07, loss: -0.97321\n",
      "epoch: 08, loss: -0.97436\n",
      "epoch: 09, loss: -0.97534\n",
      "torch.Size([1024, 64])\n"
     ]
    },
    {
     "name": "stderr",
     "output_type": "stream",
     "text": [
      " 13%|█▎        | 129/999 [2:33:53<14:26:29, 59.76s/it]"
     ]
    },
    {
     "name": "stdout",
     "output_type": "stream",
     "text": [
      "eigenvalues shape torch.Size([5]) eigenvectors shape torch.Size([5, 1024])\n",
      "129 /home/phdcs2/Hard_Disk/Datasets/Deep-Spectral-Segmentation/data/object-segmentation/ECSSD/features/0131_resized.pth\n",
      "dict_keys(['k', 'indices', 'file', 'id', 'model_name', 'patch_size', 'shape'])\n",
      "0131_resized\n"
     ]
    },
    {
     "name": "stderr",
     "output_type": "stream",
     "text": [
      "/home/phdcs2/Hard_Disk/Projects/T2I/deep-spectral-segmentation/venv/lib/python3.8/site-packages/sklearn/decomposition/_pca.py:642: RuntimeWarning: invalid value encountered in divide\n",
      "  self.explained_variance_ratio_ = self.explained_variance_ / total_var\n"
     ]
    },
    {
     "name": "stdout",
     "output_type": "stream",
     "text": [
      "Starting Training\n",
      "epoch: 00, loss: -0.92388\n",
      "epoch: 01, loss: -0.95375\n",
      "epoch: 02, loss: -0.96068\n",
      "epoch: 03, loss: -0.96474\n",
      "epoch: 04, loss: -0.96757\n",
      "epoch: 05, loss: -0.96967\n",
      "epoch: 06, loss: -0.97134\n",
      "epoch: 07, loss: -0.97266\n",
      "epoch: 08, loss: -0.97380\n",
      "epoch: 09, loss: -0.97479\n",
      "torch.Size([1024, 64])\n"
     ]
    },
    {
     "name": "stderr",
     "output_type": "stream",
     "text": [
      " 13%|█▎        | 130/999 [2:35:02<15:06:20, 62.58s/it]"
     ]
    },
    {
     "name": "stdout",
     "output_type": "stream",
     "text": [
      "eigenvalues shape torch.Size([5]) eigenvectors shape torch.Size([5, 1024])\n",
      "130 /home/phdcs2/Hard_Disk/Datasets/Deep-Spectral-Segmentation/data/object-segmentation/ECSSD/features/0132_resized.pth\n",
      "dict_keys(['k', 'indices', 'file', 'id', 'model_name', 'patch_size', 'shape'])\n",
      "0132_resized\n",
      "Starting Training\n",
      "epoch: 00, loss: -0.85962\n",
      "epoch: 01, loss: -0.91960\n",
      "epoch: 02, loss: -0.93467\n",
      "epoch: 03, loss: -0.94326\n",
      "epoch: 04, loss: -0.94858\n",
      "epoch: 05, loss: -0.95282\n",
      "epoch: 06, loss: -0.95605\n",
      "epoch: 07, loss: -0.95863\n",
      "epoch: 08, loss: -0.96063\n",
      "epoch: 09, loss: -0.96243\n",
      "torch.Size([1024, 64])\n"
     ]
    },
    {
     "name": "stderr",
     "output_type": "stream",
     "text": [
      " 13%|█▎        | 131/999 [2:36:16<15:54:10, 65.96s/it]"
     ]
    },
    {
     "name": "stdout",
     "output_type": "stream",
     "text": [
      "eigenvalues shape torch.Size([5]) eigenvectors shape torch.Size([5, 1024])\n",
      "131 /home/phdcs2/Hard_Disk/Datasets/Deep-Spectral-Segmentation/data/object-segmentation/ECSSD/features/0133_resized.pth\n",
      "dict_keys(['k', 'indices', 'file', 'id', 'model_name', 'patch_size', 'shape'])\n",
      "0133_resized\n"
     ]
    },
    {
     "name": "stderr",
     "output_type": "stream",
     "text": [
      "/home/phdcs2/Hard_Disk/Projects/T2I/deep-spectral-segmentation/venv/lib/python3.8/site-packages/sklearn/decomposition/_pca.py:642: RuntimeWarning: invalid value encountered in divide\n",
      "  self.explained_variance_ratio_ = self.explained_variance_ / total_var\n"
     ]
    },
    {
     "name": "stdout",
     "output_type": "stream",
     "text": [
      "Starting Training\n",
      "epoch: 00, loss: -0.92568\n",
      "epoch: 01, loss: -0.95342\n",
      "epoch: 02, loss: -0.96076\n",
      "epoch: 03, loss: -0.96512\n",
      "epoch: 04, loss: -0.96808\n",
      "epoch: 05, loss: -0.97025\n",
      "epoch: 06, loss: -0.97202\n",
      "epoch: 07, loss: -0.97344\n",
      "epoch: 08, loss: -0.97465\n",
      "epoch: 09, loss: -0.97564\n",
      "torch.Size([1024, 64])\n"
     ]
    },
    {
     "name": "stderr",
     "output_type": "stream",
     "text": [
      " 13%|█▎        | 132/999 [2:37:28<16:19:58, 67.82s/it]"
     ]
    },
    {
     "name": "stdout",
     "output_type": "stream",
     "text": [
      "eigenvalues shape torch.Size([5]) eigenvectors shape torch.Size([5, 1024])\n",
      "132 /home/phdcs2/Hard_Disk/Datasets/Deep-Spectral-Segmentation/data/object-segmentation/ECSSD/features/0134_resized.pth\n",
      "dict_keys(['k', 'indices', 'file', 'id', 'model_name', 'patch_size', 'shape'])\n",
      "0134_resized\n",
      "Starting Training\n",
      "epoch: 00, loss: -0.84974\n",
      "epoch: 01, loss: -0.91161\n",
      "epoch: 02, loss: -0.92755\n",
      "epoch: 03, loss: -0.93666\n",
      "epoch: 04, loss: -0.94253\n",
      "epoch: 05, loss: -0.94694\n",
      "epoch: 06, loss: -0.95051\n",
      "epoch: 07, loss: -0.95334\n",
      "epoch: 08, loss: -0.95560\n",
      "epoch: 09, loss: -0.95752\n",
      "torch.Size([1024, 64])\n"
     ]
    },
    {
     "name": "stderr",
     "output_type": "stream",
     "text": [
      " 13%|█▎        | 133/999 [2:38:39<16:29:56, 68.59s/it]"
     ]
    },
    {
     "name": "stdout",
     "output_type": "stream",
     "text": [
      "eigenvalues shape torch.Size([5]) eigenvectors shape torch.Size([5, 1024])\n",
      "133 /home/phdcs2/Hard_Disk/Datasets/Deep-Spectral-Segmentation/data/object-segmentation/ECSSD/features/0135_resized.pth\n",
      "dict_keys(['k', 'indices', 'file', 'id', 'model_name', 'patch_size', 'shape'])\n",
      "0135_resized\n",
      "Starting Training\n",
      "epoch: 00, loss: -0.92608\n",
      "epoch: 01, loss: -0.95447\n",
      "epoch: 02, loss: -0.96117\n",
      "epoch: 03, loss: -0.96507\n",
      "epoch: 04, loss: -0.96776\n",
      "epoch: 05, loss: -0.96981\n",
      "epoch: 06, loss: -0.97146\n",
      "epoch: 07, loss: -0.97273\n",
      "epoch: 08, loss: -0.97386\n",
      "epoch: 09, loss: -0.97479\n",
      "torch.Size([1024, 64])\n"
     ]
    },
    {
     "name": "stderr",
     "output_type": "stream",
     "text": [
      " 13%|█▎        | 134/999 [2:39:50<16:40:58, 69.43s/it]"
     ]
    },
    {
     "name": "stdout",
     "output_type": "stream",
     "text": [
      "eigenvalues shape torch.Size([5]) eigenvectors shape torch.Size([5, 1024])\n",
      "134 /home/phdcs2/Hard_Disk/Datasets/Deep-Spectral-Segmentation/data/object-segmentation/ECSSD/features/0136_resized.pth\n",
      "dict_keys(['k', 'indices', 'file', 'id', 'model_name', 'patch_size', 'shape'])\n",
      "0136_resized\n",
      "Starting Training\n",
      "epoch: 00, loss: -0.86432\n",
      "epoch: 01, loss: -0.92217\n",
      "epoch: 02, loss: -0.93589\n",
      "epoch: 03, loss: -0.94355\n",
      "epoch: 04, loss: -0.94872\n",
      "epoch: 05, loss: -0.95241\n",
      "epoch: 06, loss: -0.95532\n",
      "epoch: 07, loss: -0.95764\n",
      "epoch: 08, loss: -0.95961\n",
      "epoch: 09, loss: -0.96123\n",
      "torch.Size([1024, 64])\n"
     ]
    },
    {
     "name": "stderr",
     "output_type": "stream",
     "text": [
      " 14%|█▎        | 135/999 [2:40:53<16:10:45, 67.41s/it]"
     ]
    },
    {
     "name": "stdout",
     "output_type": "stream",
     "text": [
      "eigenvalues shape torch.Size([5]) eigenvectors shape torch.Size([5, 1024])\n",
      "135 /home/phdcs2/Hard_Disk/Datasets/Deep-Spectral-Segmentation/data/object-segmentation/ECSSD/features/0137_resized.pth\n",
      "dict_keys(['k', 'indices', 'file', 'id', 'model_name', 'patch_size', 'shape'])\n",
      "0137_resized\n"
     ]
    },
    {
     "name": "stderr",
     "output_type": "stream",
     "text": [
      "/home/phdcs2/Hard_Disk/Projects/T2I/deep-spectral-segmentation/venv/lib/python3.8/site-packages/sklearn/decomposition/_pca.py:642: RuntimeWarning: invalid value encountered in divide\n",
      "  self.explained_variance_ratio_ = self.explained_variance_ / total_var\n"
     ]
    },
    {
     "name": "stdout",
     "output_type": "stream",
     "text": [
      "Starting Training\n",
      "epoch: 00, loss: -0.92417\n",
      "epoch: 01, loss: -0.95293\n",
      "epoch: 02, loss: -0.95975\n",
      "epoch: 03, loss: -0.96383\n",
      "epoch: 04, loss: -0.96664\n",
      "epoch: 05, loss: -0.96875\n",
      "epoch: 06, loss: -0.97045\n",
      "epoch: 07, loss: -0.97182\n",
      "epoch: 08, loss: -0.97296\n",
      "epoch: 09, loss: -0.97394\n",
      "torch.Size([1024, 64])\n"
     ]
    },
    {
     "name": "stderr",
     "output_type": "stream",
     "text": [
      " 14%|█▎        | 136/999 [2:42:04<16:25:36, 68.52s/it]"
     ]
    },
    {
     "name": "stdout",
     "output_type": "stream",
     "text": [
      "eigenvalues shape torch.Size([5]) eigenvectors shape torch.Size([5, 1024])\n",
      "136 /home/phdcs2/Hard_Disk/Datasets/Deep-Spectral-Segmentation/data/object-segmentation/ECSSD/features/0138_resized.pth\n",
      "dict_keys(['k', 'indices', 'file', 'id', 'model_name', 'patch_size', 'shape'])\n",
      "0138_resized\n"
     ]
    },
    {
     "name": "stderr",
     "output_type": "stream",
     "text": [
      "/home/phdcs2/Hard_Disk/Projects/T2I/deep-spectral-segmentation/venv/lib/python3.8/site-packages/sklearn/decomposition/_pca.py:642: RuntimeWarning: invalid value encountered in divide\n",
      "  self.explained_variance_ratio_ = self.explained_variance_ / total_var\n"
     ]
    },
    {
     "name": "stdout",
     "output_type": "stream",
     "text": [
      "Starting Training\n",
      "epoch: 00, loss: -0.93770\n",
      "epoch: 01, loss: -0.96383\n",
      "epoch: 02, loss: -0.96926\n",
      "epoch: 03, loss: -0.97244\n",
      "epoch: 04, loss: -0.97460\n",
      "epoch: 05, loss: -0.97622\n",
      "epoch: 06, loss: -0.97752\n",
      "epoch: 07, loss: -0.97857\n",
      "epoch: 08, loss: -0.97946\n",
      "epoch: 09, loss: -0.98022\n",
      "torch.Size([1024, 64])\n"
     ]
    },
    {
     "name": "stderr",
     "output_type": "stream",
     "text": [
      " 14%|█▎        | 137/999 [2:43:15<16:35:23, 69.28s/it]"
     ]
    },
    {
     "name": "stdout",
     "output_type": "stream",
     "text": [
      "eigenvalues shape torch.Size([5]) eigenvectors shape torch.Size([5, 1024])\n",
      "137 /home/phdcs2/Hard_Disk/Datasets/Deep-Spectral-Segmentation/data/object-segmentation/ECSSD/features/0139_resized.pth\n",
      "dict_keys(['k', 'indices', 'file', 'id', 'model_name', 'patch_size', 'shape'])\n",
      "0139_resized\n",
      "Starting Training\n",
      "epoch: 00, loss: -0.88558\n",
      "epoch: 01, loss: -0.93273\n",
      "epoch: 02, loss: -0.94480\n",
      "epoch: 03, loss: -0.95123\n",
      "epoch: 04, loss: -0.95574\n",
      "epoch: 05, loss: -0.95900\n",
      "epoch: 06, loss: -0.96168\n",
      "epoch: 07, loss: -0.96370\n",
      "epoch: 08, loss: -0.96543\n",
      "epoch: 09, loss: -0.96688\n",
      "torch.Size([1024, 64])\n"
     ]
    },
    {
     "name": "stderr",
     "output_type": "stream",
     "text": [
      " 14%|█▍        | 138/999 [2:44:27<16:47:10, 70.19s/it]"
     ]
    },
    {
     "name": "stdout",
     "output_type": "stream",
     "text": [
      "eigenvalues shape torch.Size([5]) eigenvectors shape torch.Size([5, 1024])\n",
      "138 /home/phdcs2/Hard_Disk/Datasets/Deep-Spectral-Segmentation/data/object-segmentation/ECSSD/features/0140_resized.pth\n",
      "dict_keys(['k', 'indices', 'file', 'id', 'model_name', 'patch_size', 'shape'])\n",
      "0140_resized\n"
     ]
    },
    {
     "name": "stderr",
     "output_type": "stream",
     "text": [
      "/home/phdcs2/Hard_Disk/Projects/T2I/deep-spectral-segmentation/venv/lib/python3.8/site-packages/sklearn/decomposition/_pca.py:642: RuntimeWarning: invalid value encountered in divide\n",
      "  self.explained_variance_ratio_ = self.explained_variance_ / total_var\n"
     ]
    },
    {
     "name": "stdout",
     "output_type": "stream",
     "text": [
      "Starting Training\n",
      "epoch: 00, loss: -0.92210\n",
      "epoch: 01, loss: -0.95475\n",
      "epoch: 02, loss: -0.96192\n",
      "epoch: 03, loss: -0.96605\n",
      "epoch: 04, loss: -0.96886\n",
      "epoch: 05, loss: -0.97095\n",
      "epoch: 06, loss: -0.97259\n",
      "epoch: 07, loss: -0.97394\n",
      "epoch: 08, loss: -0.97505\n",
      "epoch: 09, loss: -0.97601\n",
      "torch.Size([1024, 64])\n"
     ]
    },
    {
     "name": "stderr",
     "output_type": "stream",
     "text": [
      " 14%|█▍        | 139/999 [2:45:30<16:13:11, 67.90s/it]"
     ]
    },
    {
     "name": "stdout",
     "output_type": "stream",
     "text": [
      "eigenvalues shape torch.Size([5]) eigenvectors shape torch.Size([5, 1024])\n",
      "139 /home/phdcs2/Hard_Disk/Datasets/Deep-Spectral-Segmentation/data/object-segmentation/ECSSD/features/0141_resized.pth\n",
      "dict_keys(['k', 'indices', 'file', 'id', 'model_name', 'patch_size', 'shape'])\n",
      "0141_resized\n",
      "Starting Training\n",
      "epoch: 00, loss: -0.90067\n",
      "epoch: 01, loss: -0.94130\n",
      "epoch: 02, loss: -0.95065\n",
      "epoch: 03, loss: -0.95605\n",
      "epoch: 04, loss: -0.95970\n",
      "epoch: 05, loss: -0.96239\n",
      "epoch: 06, loss: -0.96449\n",
      "epoch: 07, loss: -0.96622\n",
      "epoch: 08, loss: -0.96766\n",
      "epoch: 09, loss: -0.96886\n",
      "torch.Size([1024, 64])\n"
     ]
    },
    {
     "name": "stderr",
     "output_type": "stream",
     "text": [
      " 14%|█▍        | 140/999 [2:46:29<15:35:16, 65.33s/it]"
     ]
    },
    {
     "name": "stdout",
     "output_type": "stream",
     "text": [
      "eigenvalues shape torch.Size([5]) eigenvectors shape torch.Size([5, 1024])\n",
      "140 /home/phdcs2/Hard_Disk/Datasets/Deep-Spectral-Segmentation/data/object-segmentation/ECSSD/features/0142_resized.pth\n",
      "dict_keys(['k', 'indices', 'file', 'id', 'model_name', 'patch_size', 'shape'])\n",
      "0142_resized\n",
      "Starting Training\n",
      "epoch: 00, loss: -0.92424\n",
      "epoch: 01, loss: -0.95623\n",
      "epoch: 02, loss: -0.96301\n",
      "epoch: 03, loss: -0.96694\n",
      "epoch: 04, loss: -0.96966\n",
      "epoch: 05, loss: -0.97168\n",
      "epoch: 06, loss: -0.97323\n",
      "epoch: 07, loss: -0.97458\n",
      "epoch: 08, loss: -0.97563\n",
      "epoch: 09, loss: -0.97656\n",
      "torch.Size([1024, 64])\n"
     ]
    },
    {
     "name": "stderr",
     "output_type": "stream",
     "text": [
      " 14%|█▍        | 141/999 [2:47:31<15:20:09, 64.35s/it]"
     ]
    },
    {
     "name": "stdout",
     "output_type": "stream",
     "text": [
      "eigenvalues shape torch.Size([5]) eigenvectors shape torch.Size([5, 1024])\n",
      "141 /home/phdcs2/Hard_Disk/Datasets/Deep-Spectral-Segmentation/data/object-segmentation/ECSSD/features/0143_resized.pth\n",
      "dict_keys(['k', 'indices', 'file', 'id', 'model_name', 'patch_size', 'shape'])\n",
      "0143_resized\n",
      "Starting Training\n",
      "epoch: 00, loss: -0.88336\n",
      "epoch: 01, loss: -0.93378\n",
      "epoch: 02, loss: -0.94492\n",
      "epoch: 03, loss: -0.95105\n",
      "epoch: 04, loss: -0.95528\n",
      "epoch: 05, loss: -0.95825\n",
      "epoch: 06, loss: -0.96069\n",
      "epoch: 07, loss: -0.96264\n",
      "epoch: 08, loss: -0.96418\n",
      "epoch: 09, loss: -0.96549\n",
      "torch.Size([1024, 64])\n"
     ]
    },
    {
     "name": "stderr",
     "output_type": "stream",
     "text": [
      " 14%|█▍        | 142/999 [2:48:34<15:09:47, 63.70s/it]"
     ]
    },
    {
     "name": "stdout",
     "output_type": "stream",
     "text": [
      "eigenvalues shape torch.Size([5]) eigenvectors shape torch.Size([5, 1024])\n",
      "142 /home/phdcs2/Hard_Disk/Datasets/Deep-Spectral-Segmentation/data/object-segmentation/ECSSD/features/0144_resized.pth\n",
      "dict_keys(['k', 'indices', 'file', 'id', 'model_name', 'patch_size', 'shape'])\n",
      "0144_resized\n",
      "Starting Training\n",
      "epoch: 00, loss: -0.86861\n",
      "epoch: 01, loss: -0.91996\n",
      "epoch: 02, loss: -0.93401\n",
      "epoch: 03, loss: -0.94194\n",
      "epoch: 04, loss: -0.94727\n",
      "epoch: 05, loss: -0.95096\n",
      "epoch: 06, loss: -0.95405\n",
      "epoch: 07, loss: -0.95656\n",
      "epoch: 08, loss: -0.95864\n",
      "epoch: 09, loss: -0.96034\n",
      "torch.Size([1024, 64])\n"
     ]
    },
    {
     "name": "stderr",
     "output_type": "stream",
     "text": [
      " 14%|█▍        | 143/999 [2:49:35<14:58:22, 62.97s/it]"
     ]
    },
    {
     "name": "stdout",
     "output_type": "stream",
     "text": [
      "eigenvalues shape torch.Size([5]) eigenvectors shape torch.Size([5, 1024])\n",
      "143 /home/phdcs2/Hard_Disk/Datasets/Deep-Spectral-Segmentation/data/object-segmentation/ECSSD/features/0145_resized.pth\n",
      "dict_keys(['k', 'indices', 'file', 'id', 'model_name', 'patch_size', 'shape'])\n",
      "0145_resized\n"
     ]
    },
    {
     "name": "stderr",
     "output_type": "stream",
     "text": [
      "/home/phdcs2/Hard_Disk/Projects/T2I/deep-spectral-segmentation/venv/lib/python3.8/site-packages/sklearn/decomposition/_pca.py:642: RuntimeWarning: invalid value encountered in divide\n",
      "  self.explained_variance_ratio_ = self.explained_variance_ / total_var\n"
     ]
    },
    {
     "name": "stdout",
     "output_type": "stream",
     "text": [
      "Starting Training\n",
      "epoch: 00, loss: -0.90969\n",
      "epoch: 01, loss: -0.94231\n",
      "epoch: 02, loss: -0.95084\n",
      "epoch: 03, loss: -0.95594\n",
      "epoch: 04, loss: -0.95948\n",
      "epoch: 05, loss: -0.96217\n",
      "epoch: 06, loss: -0.96425\n",
      "epoch: 07, loss: -0.96600\n",
      "epoch: 08, loss: -0.96743\n",
      "epoch: 09, loss: -0.96870\n",
      "torch.Size([1024, 64])\n"
     ]
    },
    {
     "name": "stderr",
     "output_type": "stream",
     "text": [
      " 14%|█▍        | 144/999 [2:50:30<14:26:14, 60.79s/it]"
     ]
    },
    {
     "name": "stdout",
     "output_type": "stream",
     "text": [
      "eigenvalues shape torch.Size([5]) eigenvectors shape torch.Size([5, 1024])\n",
      "144 /home/phdcs2/Hard_Disk/Datasets/Deep-Spectral-Segmentation/data/object-segmentation/ECSSD/features/0146_resized.pth\n",
      "dict_keys(['k', 'indices', 'file', 'id', 'model_name', 'patch_size', 'shape'])\n",
      "0146_resized\n",
      "Starting Training\n",
      "epoch: 00, loss: -0.91111\n",
      "epoch: 01, loss: -0.94726\n",
      "epoch: 02, loss: -0.95549\n",
      "epoch: 03, loss: -0.96026\n",
      "epoch: 04, loss: -0.96357\n",
      "epoch: 05, loss: -0.96601\n",
      "epoch: 06, loss: -0.96791\n",
      "epoch: 07, loss: -0.96949\n",
      "epoch: 08, loss: -0.97078\n",
      "epoch: 09, loss: -0.97191\n",
      "torch.Size([1024, 64])\n"
     ]
    },
    {
     "name": "stderr",
     "output_type": "stream",
     "text": [
      " 15%|█▍        | 145/999 [2:51:25<13:57:54, 58.87s/it]"
     ]
    },
    {
     "name": "stdout",
     "output_type": "stream",
     "text": [
      "eigenvalues shape torch.Size([5]) eigenvectors shape torch.Size([5, 1024])\n",
      "145 /home/phdcs2/Hard_Disk/Datasets/Deep-Spectral-Segmentation/data/object-segmentation/ECSSD/features/0147_resized.pth\n",
      "dict_keys(['k', 'indices', 'file', 'id', 'model_name', 'patch_size', 'shape'])\n",
      "0147_resized\n"
     ]
    },
    {
     "name": "stderr",
     "output_type": "stream",
     "text": [
      "/home/phdcs2/Hard_Disk/Projects/T2I/deep-spectral-segmentation/venv/lib/python3.8/site-packages/sklearn/decomposition/_pca.py:642: RuntimeWarning: invalid value encountered in divide\n",
      "  self.explained_variance_ratio_ = self.explained_variance_ / total_var\n"
     ]
    },
    {
     "name": "stdout",
     "output_type": "stream",
     "text": [
      "Starting Training\n",
      "epoch: 00, loss: -0.91957\n",
      "epoch: 01, loss: -0.95330\n",
      "epoch: 02, loss: -0.96056\n",
      "epoch: 03, loss: -0.96477\n",
      "epoch: 04, loss: -0.96765\n",
      "epoch: 05, loss: -0.96976\n",
      "epoch: 06, loss: -0.97140\n",
      "epoch: 07, loss: -0.97276\n",
      "epoch: 08, loss: -0.97388\n",
      "epoch: 09, loss: -0.97485\n",
      "torch.Size([1024, 64])\n"
     ]
    },
    {
     "name": "stderr",
     "output_type": "stream",
     "text": [
      " 15%|█▍        | 146/999 [2:52:30<14:22:47, 60.69s/it]"
     ]
    },
    {
     "name": "stdout",
     "output_type": "stream",
     "text": [
      "eigenvalues shape torch.Size([5]) eigenvectors shape torch.Size([5, 1024])\n",
      "146 /home/phdcs2/Hard_Disk/Datasets/Deep-Spectral-Segmentation/data/object-segmentation/ECSSD/features/0148_resized.pth\n",
      "dict_keys(['k', 'indices', 'file', 'id', 'model_name', 'patch_size', 'shape'])\n",
      "0148_resized\n",
      "Starting Training\n",
      "epoch: 00, loss: -0.86056\n",
      "epoch: 01, loss: -0.91774\n",
      "epoch: 02, loss: -0.93209\n",
      "epoch: 03, loss: -0.93984\n",
      "epoch: 04, loss: -0.94514\n",
      "epoch: 05, loss: -0.94904\n",
      "epoch: 06, loss: -0.95200\n",
      "epoch: 07, loss: -0.95444\n",
      "epoch: 08, loss: -0.95650\n",
      "epoch: 09, loss: -0.95808\n",
      "torch.Size([1024, 64])\n"
     ]
    },
    {
     "name": "stderr",
     "output_type": "stream",
     "text": [
      " 15%|█▍        | 147/999 [2:53:36<14:46:21, 62.42s/it]"
     ]
    },
    {
     "name": "stdout",
     "output_type": "stream",
     "text": [
      "eigenvalues shape torch.Size([5]) eigenvectors shape torch.Size([5, 1024])\n",
      "147 /home/phdcs2/Hard_Disk/Datasets/Deep-Spectral-Segmentation/data/object-segmentation/ECSSD/features/0149_resized.pth\n",
      "dict_keys(['k', 'indices', 'file', 'id', 'model_name', 'patch_size', 'shape'])\n",
      "0149_resized\n",
      "Starting Training\n",
      "epoch: 00, loss: -0.89466\n",
      "epoch: 01, loss: -0.93573\n",
      "epoch: 02, loss: -0.94659\n",
      "epoch: 03, loss: -0.95275\n",
      "epoch: 04, loss: -0.95689\n",
      "epoch: 05, loss: -0.96002\n",
      "epoch: 06, loss: -0.96257\n",
      "epoch: 07, loss: -0.96448\n",
      "epoch: 08, loss: -0.96611\n",
      "epoch: 09, loss: -0.96753\n",
      "torch.Size([1024, 64])\n"
     ]
    },
    {
     "name": "stderr",
     "output_type": "stream",
     "text": [
      " 15%|█▍        | 148/999 [2:54:49<15:30:31, 65.61s/it]"
     ]
    },
    {
     "name": "stdout",
     "output_type": "stream",
     "text": [
      "eigenvalues shape torch.Size([5]) eigenvectors shape torch.Size([5, 1024])\n",
      "148 /home/phdcs2/Hard_Disk/Datasets/Deep-Spectral-Segmentation/data/object-segmentation/ECSSD/features/0150_resized.pth\n",
      "dict_keys(['k', 'indices', 'file', 'id', 'model_name', 'patch_size', 'shape'])\n",
      "0150_resized\n",
      "Starting Training\n",
      "epoch: 00, loss: -0.85991\n",
      "epoch: 01, loss: -0.92003\n",
      "epoch: 02, loss: -0.93357\n",
      "epoch: 03, loss: -0.94110\n",
      "epoch: 04, loss: -0.94611\n",
      "epoch: 05, loss: -0.94993\n",
      "epoch: 06, loss: -0.95291\n",
      "epoch: 07, loss: -0.95526\n",
      "epoch: 08, loss: -0.95707\n",
      "epoch: 09, loss: -0.95886\n",
      "torch.Size([1024, 64])\n"
     ]
    },
    {
     "name": "stderr",
     "output_type": "stream",
     "text": [
      " 15%|█▍        | 149/999 [2:56:00<15:49:24, 67.02s/it]"
     ]
    },
    {
     "name": "stdout",
     "output_type": "stream",
     "text": [
      "eigenvalues shape torch.Size([5]) eigenvectors shape torch.Size([5, 1024])\n",
      "149 /home/phdcs2/Hard_Disk/Datasets/Deep-Spectral-Segmentation/data/object-segmentation/ECSSD/features/0151_resized.pth\n",
      "dict_keys(['k', 'indices', 'file', 'id', 'model_name', 'patch_size', 'shape'])\n",
      "0151_resized\n"
     ]
    },
    {
     "name": "stderr",
     "output_type": "stream",
     "text": [
      "/home/phdcs2/Hard_Disk/Projects/T2I/deep-spectral-segmentation/venv/lib/python3.8/site-packages/sklearn/decomposition/_pca.py:642: RuntimeWarning: invalid value encountered in divide\n",
      "  self.explained_variance_ratio_ = self.explained_variance_ / total_var\n"
     ]
    },
    {
     "name": "stdout",
     "output_type": "stream",
     "text": [
      "Starting Training\n",
      "epoch: 00, loss: -0.93253\n",
      "epoch: 01, loss: -0.96087\n",
      "epoch: 02, loss: -0.96636\n",
      "epoch: 03, loss: -0.96958\n",
      "epoch: 04, loss: -0.97180\n",
      "epoch: 05, loss: -0.97345\n",
      "epoch: 06, loss: -0.97481\n",
      "epoch: 07, loss: -0.97585\n",
      "epoch: 08, loss: -0.97677\n",
      "epoch: 09, loss: -0.97756\n",
      "torch.Size([1024, 64])\n"
     ]
    },
    {
     "name": "stderr",
     "output_type": "stream",
     "text": [
      " 15%|█▌        | 150/999 [2:57:07<15:51:51, 67.27s/it]"
     ]
    },
    {
     "name": "stdout",
     "output_type": "stream",
     "text": [
      "eigenvalues shape torch.Size([5]) eigenvectors shape torch.Size([5, 1024])\n",
      "150 /home/phdcs2/Hard_Disk/Datasets/Deep-Spectral-Segmentation/data/object-segmentation/ECSSD/features/0152_resized.pth\n",
      "dict_keys(['k', 'indices', 'file', 'id', 'model_name', 'patch_size', 'shape'])\n",
      "0152_resized\n",
      "Starting Training\n",
      "epoch: 00, loss: -0.86340\n",
      "epoch: 01, loss: -0.92113\n",
      "epoch: 02, loss: -0.93577\n",
      "epoch: 03, loss: -0.94415\n",
      "epoch: 04, loss: -0.94969\n",
      "epoch: 05, loss: -0.95379\n",
      "epoch: 06, loss: -0.95677\n",
      "epoch: 07, loss: -0.95915\n",
      "epoch: 08, loss: -0.96120\n",
      "epoch: 09, loss: -0.96290\n",
      "torch.Size([1024, 64])\n"
     ]
    },
    {
     "name": "stderr",
     "output_type": "stream",
     "text": [
      " 15%|█▌        | 151/999 [2:58:19<16:06:54, 68.41s/it]"
     ]
    },
    {
     "name": "stdout",
     "output_type": "stream",
     "text": [
      "eigenvalues shape torch.Size([5]) eigenvectors shape torch.Size([5, 1024])\n",
      "151 /home/phdcs2/Hard_Disk/Datasets/Deep-Spectral-Segmentation/data/object-segmentation/ECSSD/features/0153_resized.pth\n",
      "dict_keys(['k', 'indices', 'file', 'id', 'model_name', 'patch_size', 'shape'])\n",
      "0153_resized\n",
      "Starting Training\n",
      "epoch: 00, loss: -0.93312\n",
      "epoch: 01, loss: -0.96172\n",
      "epoch: 02, loss: -0.96778\n",
      "epoch: 03, loss: -0.97128\n",
      "epoch: 04, loss: -0.97369\n",
      "epoch: 05, loss: -0.97545\n",
      "epoch: 06, loss: -0.97682\n",
      "epoch: 07, loss: -0.97798\n",
      "epoch: 08, loss: -0.97892\n",
      "epoch: 09, loss: -0.97975\n",
      "torch.Size([1024, 64])\n"
     ]
    },
    {
     "name": "stderr",
     "output_type": "stream",
     "text": [
      " 15%|█▌        | 152/999 [2:59:21<15:39:21, 66.54s/it]"
     ]
    },
    {
     "name": "stdout",
     "output_type": "stream",
     "text": [
      "eigenvalues shape torch.Size([5]) eigenvectors shape torch.Size([5, 1024])\n",
      "152 /home/phdcs2/Hard_Disk/Datasets/Deep-Spectral-Segmentation/data/object-segmentation/ECSSD/features/0154_resized.pth\n",
      "dict_keys(['k', 'indices', 'file', 'id', 'model_name', 'patch_size', 'shape'])\n",
      "0154_resized\n",
      "Starting Training\n",
      "epoch: 00, loss: -0.87788\n",
      "epoch: 01, loss: -0.92771\n",
      "epoch: 02, loss: -0.94004\n",
      "epoch: 03, loss: -0.94732\n",
      "epoch: 04, loss: -0.95212\n",
      "epoch: 05, loss: -0.95556\n",
      "epoch: 06, loss: -0.95829\n",
      "epoch: 07, loss: -0.96049\n",
      "epoch: 08, loss: -0.96240\n",
      "epoch: 09, loss: -0.96394\n",
      "torch.Size([1024, 64])\n"
     ]
    },
    {
     "name": "stderr",
     "output_type": "stream",
     "text": [
      " 15%|█▌        | 153/999 [3:00:32<15:58:26, 67.97s/it]"
     ]
    },
    {
     "name": "stdout",
     "output_type": "stream",
     "text": [
      "eigenvalues shape torch.Size([5]) eigenvectors shape torch.Size([5, 1024])\n",
      "153 /home/phdcs2/Hard_Disk/Datasets/Deep-Spectral-Segmentation/data/object-segmentation/ECSSD/features/0155_resized.pth\n",
      "dict_keys(['k', 'indices', 'file', 'id', 'model_name', 'patch_size', 'shape'])\n",
      "0155_resized\n"
     ]
    },
    {
     "name": "stderr",
     "output_type": "stream",
     "text": [
      "/home/phdcs2/Hard_Disk/Projects/T2I/deep-spectral-segmentation/venv/lib/python3.8/site-packages/sklearn/decomposition/_pca.py:642: RuntimeWarning: invalid value encountered in divide\n",
      "  self.explained_variance_ratio_ = self.explained_variance_ / total_var\n"
     ]
    },
    {
     "name": "stdout",
     "output_type": "stream",
     "text": [
      "Starting Training\n",
      "epoch: 00, loss: -0.92741\n",
      "epoch: 01, loss: -0.95679\n",
      "epoch: 02, loss: -0.96319\n",
      "epoch: 03, loss: -0.96694\n",
      "epoch: 04, loss: -0.96949\n",
      "epoch: 05, loss: -0.97144\n",
      "epoch: 06, loss: -0.97295\n",
      "epoch: 07, loss: -0.97418\n",
      "epoch: 08, loss: -0.97522\n",
      "epoch: 09, loss: -0.97614\n",
      "torch.Size([1024, 64])\n"
     ]
    },
    {
     "name": "stderr",
     "output_type": "stream",
     "text": [
      " 15%|█▌        | 154/999 [3:01:49<16:33:30, 70.54s/it]"
     ]
    },
    {
     "name": "stdout",
     "output_type": "stream",
     "text": [
      "eigenvalues shape torch.Size([5]) eigenvectors shape torch.Size([5, 1024])\n",
      "154 /home/phdcs2/Hard_Disk/Datasets/Deep-Spectral-Segmentation/data/object-segmentation/ECSSD/features/0156_resized.pth\n",
      "dict_keys(['k', 'indices', 'file', 'id', 'model_name', 'patch_size', 'shape'])\n",
      "0156_resized\n",
      "Starting Training\n",
      "epoch: 00, loss: -0.91494\n",
      "epoch: 01, loss: -0.94955\n",
      "epoch: 02, loss: -0.95807\n",
      "epoch: 03, loss: -0.96288\n",
      "epoch: 04, loss: -0.96617\n",
      "epoch: 05, loss: -0.96858\n",
      "epoch: 06, loss: -0.97048\n",
      "epoch: 07, loss: -0.97200\n",
      "epoch: 08, loss: -0.97334\n",
      "epoch: 09, loss: -0.97442\n",
      "torch.Size([1024, 64])\n"
     ]
    },
    {
     "name": "stderr",
     "output_type": "stream",
     "text": [
      " 16%|█▌        | 155/999 [3:02:59<16:32:53, 70.58s/it]"
     ]
    },
    {
     "name": "stdout",
     "output_type": "stream",
     "text": [
      "eigenvalues shape torch.Size([5]) eigenvectors shape torch.Size([5, 1024])\n",
      "155 /home/phdcs2/Hard_Disk/Datasets/Deep-Spectral-Segmentation/data/object-segmentation/ECSSD/features/0157_resized.pth\n",
      "dict_keys(['k', 'indices', 'file', 'id', 'model_name', 'patch_size', 'shape'])\n",
      "0157_resized\n"
     ]
    },
    {
     "name": "stderr",
     "output_type": "stream",
     "text": [
      "/home/phdcs2/Hard_Disk/Projects/T2I/deep-spectral-segmentation/venv/lib/python3.8/site-packages/sklearn/decomposition/_pca.py:642: RuntimeWarning: invalid value encountered in divide\n",
      "  self.explained_variance_ratio_ = self.explained_variance_ / total_var\n"
     ]
    },
    {
     "name": "stdout",
     "output_type": "stream",
     "text": [
      "Starting Training\n",
      "epoch: 00, loss: -0.92814\n",
      "epoch: 01, loss: -0.95758\n",
      "epoch: 02, loss: -0.96411\n",
      "epoch: 03, loss: -0.96789\n",
      "epoch: 04, loss: -0.97049\n",
      "epoch: 05, loss: -0.97239\n",
      "epoch: 06, loss: -0.97391\n",
      "epoch: 07, loss: -0.97517\n",
      "epoch: 08, loss: -0.97619\n",
      "epoch: 09, loss: -0.97708\n",
      "torch.Size([1024, 64])\n"
     ]
    },
    {
     "name": "stderr",
     "output_type": "stream",
     "text": [
      " 16%|█▌        | 156/999 [3:04:12<16:38:55, 71.10s/it]"
     ]
    },
    {
     "name": "stdout",
     "output_type": "stream",
     "text": [
      "eigenvalues shape torch.Size([5]) eigenvectors shape torch.Size([5, 1024])\n",
      "156 /home/phdcs2/Hard_Disk/Datasets/Deep-Spectral-Segmentation/data/object-segmentation/ECSSD/features/0158_resized.pth\n",
      "dict_keys(['k', 'indices', 'file', 'id', 'model_name', 'patch_size', 'shape'])\n",
      "0158_resized\n"
     ]
    },
    {
     "name": "stderr",
     "output_type": "stream",
     "text": [
      "/home/phdcs2/Hard_Disk/Projects/T2I/deep-spectral-segmentation/venv/lib/python3.8/site-packages/sklearn/decomposition/_pca.py:642: RuntimeWarning: invalid value encountered in divide\n",
      "  self.explained_variance_ratio_ = self.explained_variance_ / total_var\n"
     ]
    },
    {
     "name": "stdout",
     "output_type": "stream",
     "text": [
      "Starting Training\n",
      "epoch: 00, loss: -0.95213\n",
      "epoch: 01, loss: -0.97112\n",
      "epoch: 02, loss: -0.97521\n",
      "epoch: 03, loss: -0.97764\n",
      "epoch: 04, loss: -0.97938\n",
      "epoch: 05, loss: -0.98064\n",
      "epoch: 06, loss: -0.98165\n",
      "epoch: 07, loss: -0.98248\n",
      "epoch: 08, loss: -0.98320\n",
      "epoch: 09, loss: -0.98378\n",
      "torch.Size([1024, 64])\n"
     ]
    },
    {
     "name": "stderr",
     "output_type": "stream",
     "text": [
      " 16%|█▌        | 157/999 [3:05:16<16:09:51, 69.11s/it]"
     ]
    },
    {
     "name": "stdout",
     "output_type": "stream",
     "text": [
      "eigenvalues shape torch.Size([5]) eigenvectors shape torch.Size([5, 1024])\n",
      "157 /home/phdcs2/Hard_Disk/Datasets/Deep-Spectral-Segmentation/data/object-segmentation/ECSSD/features/0159_resized.pth\n",
      "dict_keys(['k', 'indices', 'file', 'id', 'model_name', 'patch_size', 'shape'])\n",
      "0159_resized\n",
      "Starting Training\n",
      "epoch: 00, loss: -0.86672\n",
      "epoch: 01, loss: -0.92057\n",
      "epoch: 02, loss: -0.93376\n",
      "epoch: 03, loss: -0.94097\n",
      "epoch: 04, loss: -0.94614\n",
      "epoch: 05, loss: -0.94977\n",
      "epoch: 06, loss: -0.95268\n",
      "epoch: 07, loss: -0.95505\n",
      "epoch: 08, loss: -0.95699\n",
      "epoch: 09, loss: -0.95858\n",
      "torch.Size([1024, 64])\n"
     ]
    },
    {
     "name": "stderr",
     "output_type": "stream",
     "text": [
      " 16%|█▌        | 158/999 [3:06:28<16:22:04, 70.06s/it]"
     ]
    },
    {
     "name": "stdout",
     "output_type": "stream",
     "text": [
      "eigenvalues shape torch.Size([5]) eigenvectors shape torch.Size([5, 1024])\n",
      "158 /home/phdcs2/Hard_Disk/Datasets/Deep-Spectral-Segmentation/data/object-segmentation/ECSSD/features/0160_resized.pth\n",
      "dict_keys(['k', 'indices', 'file', 'id', 'model_name', 'patch_size', 'shape'])\n",
      "0160_resized\n",
      "Starting Training\n",
      "epoch: 00, loss: -0.92759\n",
      "epoch: 01, loss: -0.95811\n",
      "epoch: 02, loss: -0.96458\n",
      "epoch: 03, loss: -0.96842\n",
      "epoch: 04, loss: -0.97103\n",
      "epoch: 05, loss: -0.97291\n",
      "epoch: 06, loss: -0.97447\n",
      "epoch: 07, loss: -0.97574\n",
      "epoch: 08, loss: -0.97681\n",
      "epoch: 09, loss: -0.97770\n",
      "torch.Size([1024, 64])\n"
     ]
    },
    {
     "name": "stderr",
     "output_type": "stream",
     "text": [
      " 16%|█▌        | 159/999 [3:07:44<16:42:55, 71.64s/it]"
     ]
    },
    {
     "name": "stdout",
     "output_type": "stream",
     "text": [
      "eigenvalues shape torch.Size([5]) eigenvectors shape torch.Size([5, 1024])\n",
      "159 /home/phdcs2/Hard_Disk/Datasets/Deep-Spectral-Segmentation/data/object-segmentation/ECSSD/features/0161_resized.pth\n",
      "dict_keys(['k', 'indices', 'file', 'id', 'model_name', 'patch_size', 'shape'])\n",
      "0161_resized\n",
      "Starting Training\n",
      "epoch: 00, loss: -0.85055\n",
      "epoch: 01, loss: -0.91400\n",
      "epoch: 02, loss: -0.92929\n",
      "epoch: 03, loss: -0.93769\n",
      "epoch: 04, loss: -0.94356\n",
      "epoch: 05, loss: -0.94785\n",
      "epoch: 06, loss: -0.95100\n",
      "epoch: 07, loss: -0.95363\n",
      "epoch: 08, loss: -0.95574\n",
      "epoch: 09, loss: -0.95749\n",
      "torch.Size([1024, 64])\n"
     ]
    },
    {
     "name": "stderr",
     "output_type": "stream",
     "text": [
      " 16%|█▌        | 160/999 [3:08:59<16:56:45, 72.71s/it]"
     ]
    },
    {
     "name": "stdout",
     "output_type": "stream",
     "text": [
      "eigenvalues shape torch.Size([5]) eigenvectors shape torch.Size([5, 1024])\n",
      "160 /home/phdcs2/Hard_Disk/Datasets/Deep-Spectral-Segmentation/data/object-segmentation/ECSSD/features/0162_resized.pth\n",
      "dict_keys(['k', 'indices', 'file', 'id', 'model_name', 'patch_size', 'shape'])\n",
      "0162_resized\n",
      "Starting Training\n",
      "epoch: 00, loss: -0.86543\n",
      "epoch: 01, loss: -0.92072\n",
      "epoch: 02, loss: -0.93388\n",
      "epoch: 03, loss: -0.94149\n",
      "epoch: 04, loss: -0.94632\n",
      "epoch: 05, loss: -0.95005\n",
      "epoch: 06, loss: -0.95285\n",
      "epoch: 07, loss: -0.95515\n",
      "epoch: 08, loss: -0.95705\n",
      "epoch: 09, loss: -0.95873\n",
      "torch.Size([1024, 64])\n"
     ]
    },
    {
     "name": "stderr",
     "output_type": "stream",
     "text": [
      " 16%|█▌        | 161/999 [3:10:08<16:40:46, 71.65s/it]"
     ]
    },
    {
     "name": "stdout",
     "output_type": "stream",
     "text": [
      "eigenvalues shape torch.Size([5]) eigenvectors shape torch.Size([5, 1024])\n",
      "161 /home/phdcs2/Hard_Disk/Datasets/Deep-Spectral-Segmentation/data/object-segmentation/ECSSD/features/0163_resized.pth\n",
      "dict_keys(['k', 'indices', 'file', 'id', 'model_name', 'patch_size', 'shape'])\n",
      "0163_resized\n",
      "Starting Training\n",
      "epoch: 00, loss: -0.85043\n",
      "epoch: 01, loss: -0.91042\n",
      "epoch: 02, loss: -0.92686\n",
      "epoch: 03, loss: -0.93600\n",
      "epoch: 04, loss: -0.94203\n",
      "epoch: 05, loss: -0.94659\n",
      "epoch: 06, loss: -0.94997\n",
      "epoch: 07, loss: -0.95271\n",
      "epoch: 08, loss: -0.95499\n",
      "epoch: 09, loss: -0.95686\n",
      "torch.Size([1024, 64])\n"
     ]
    },
    {
     "name": "stderr",
     "output_type": "stream",
     "text": [
      " 16%|█▌        | 162/999 [3:11:15<16:20:48, 70.31s/it]"
     ]
    },
    {
     "name": "stdout",
     "output_type": "stream",
     "text": [
      "eigenvalues shape torch.Size([5]) eigenvectors shape torch.Size([5, 1024])\n",
      "162 /home/phdcs2/Hard_Disk/Datasets/Deep-Spectral-Segmentation/data/object-segmentation/ECSSD/features/0164_resized.pth\n",
      "dict_keys(['k', 'indices', 'file', 'id', 'model_name', 'patch_size', 'shape'])\n",
      "0164_resized\n"
     ]
    },
    {
     "name": "stderr",
     "output_type": "stream",
     "text": [
      "/home/phdcs2/Hard_Disk/Projects/T2I/deep-spectral-segmentation/venv/lib/python3.8/site-packages/sklearn/decomposition/_pca.py:642: RuntimeWarning: invalid value encountered in divide\n",
      "  self.explained_variance_ratio_ = self.explained_variance_ / total_var\n"
     ]
    },
    {
     "name": "stdout",
     "output_type": "stream",
     "text": [
      "Starting Training\n",
      "epoch: 00, loss: -0.92915\n",
      "epoch: 01, loss: -0.95673\n",
      "epoch: 02, loss: -0.96330\n",
      "epoch: 03, loss: -0.96719\n",
      "epoch: 04, loss: -0.96987\n",
      "epoch: 05, loss: -0.97186\n",
      "epoch: 06, loss: -0.97344\n",
      "epoch: 07, loss: -0.97476\n",
      "epoch: 08, loss: -0.97582\n",
      "epoch: 09, loss: -0.97675\n",
      "torch.Size([1024, 64])\n"
     ]
    },
    {
     "name": "stderr",
     "output_type": "stream",
     "text": [
      " 16%|█▋        | 163/999 [3:12:20<15:57:37, 68.73s/it]"
     ]
    },
    {
     "name": "stdout",
     "output_type": "stream",
     "text": [
      "eigenvalues shape torch.Size([5]) eigenvectors shape torch.Size([5, 1024])\n",
      "163 /home/phdcs2/Hard_Disk/Datasets/Deep-Spectral-Segmentation/data/object-segmentation/ECSSD/features/0165_resized.pth\n",
      "dict_keys(['k', 'indices', 'file', 'id', 'model_name', 'patch_size', 'shape'])\n",
      "0165_resized\n",
      "Starting Training\n",
      "epoch: 00, loss: -0.85471\n",
      "epoch: 01, loss: -0.91219\n",
      "epoch: 02, loss: -0.92757\n",
      "epoch: 03, loss: -0.93597\n",
      "epoch: 04, loss: -0.94177\n",
      "epoch: 05, loss: -0.94603\n",
      "epoch: 06, loss: -0.94930\n",
      "epoch: 07, loss: -0.95189\n",
      "epoch: 08, loss: -0.95402\n",
      "epoch: 09, loss: -0.95583\n",
      "torch.Size([1024, 64])\n"
     ]
    },
    {
     "name": "stderr",
     "output_type": "stream",
     "text": [
      " 16%|█▋        | 164/999 [3:13:33<16:12:04, 69.85s/it]"
     ]
    },
    {
     "name": "stdout",
     "output_type": "stream",
     "text": [
      "eigenvalues shape torch.Size([5]) eigenvectors shape torch.Size([5, 1024])\n",
      "164 /home/phdcs2/Hard_Disk/Datasets/Deep-Spectral-Segmentation/data/object-segmentation/ECSSD/features/0166_resized.pth\n",
      "dict_keys(['k', 'indices', 'file', 'id', 'model_name', 'patch_size', 'shape'])\n",
      "0166_resized\n",
      "Starting Training\n",
      "epoch: 00, loss: -0.84046\n",
      "epoch: 01, loss: -0.90387\n",
      "epoch: 02, loss: -0.92051\n",
      "epoch: 03, loss: -0.92988\n",
      "epoch: 04, loss: -0.93605\n",
      "epoch: 05, loss: -0.94069\n",
      "epoch: 06, loss: -0.94422\n",
      "epoch: 07, loss: -0.94711\n",
      "epoch: 08, loss: -0.94947\n",
      "epoch: 09, loss: -0.95150\n",
      "torch.Size([1024, 64])\n"
     ]
    },
    {
     "name": "stderr",
     "output_type": "stream",
     "text": [
      " 17%|█▋        | 165/999 [3:14:44<16:16:43, 70.27s/it]"
     ]
    },
    {
     "name": "stdout",
     "output_type": "stream",
     "text": [
      "eigenvalues shape torch.Size([5]) eigenvectors shape torch.Size([5, 1024])\n",
      "165 /home/phdcs2/Hard_Disk/Datasets/Deep-Spectral-Segmentation/data/object-segmentation/ECSSD/features/0167_resized.pth\n",
      "dict_keys(['k', 'indices', 'file', 'id', 'model_name', 'patch_size', 'shape'])\n",
      "0167_resized\n",
      "Starting Training\n",
      "epoch: 00, loss: -0.83912\n",
      "epoch: 01, loss: -0.90210\n",
      "epoch: 02, loss: -0.91933\n",
      "epoch: 03, loss: -0.92885\n",
      "epoch: 04, loss: -0.93500\n",
      "epoch: 05, loss: -0.93972\n",
      "epoch: 06, loss: -0.94344\n",
      "epoch: 07, loss: -0.94622\n",
      "epoch: 08, loss: -0.94871\n",
      "epoch: 09, loss: -0.95080\n",
      "torch.Size([1024, 64])\n"
     ]
    },
    {
     "name": "stderr",
     "output_type": "stream",
     "text": [
      " 17%|█▋        | 166/999 [3:15:54<16:14:48, 70.21s/it]"
     ]
    },
    {
     "name": "stdout",
     "output_type": "stream",
     "text": [
      "eigenvalues shape torch.Size([5]) eigenvectors shape torch.Size([5, 1024])\n",
      "166 /home/phdcs2/Hard_Disk/Datasets/Deep-Spectral-Segmentation/data/object-segmentation/ECSSD/features/0168_resized.pth\n",
      "dict_keys(['k', 'indices', 'file', 'id', 'model_name', 'patch_size', 'shape'])\n",
      "0168_resized\n",
      "Starting Training\n",
      "epoch: 00, loss: -0.88034\n",
      "epoch: 01, loss: -0.93068\n",
      "epoch: 02, loss: -0.94269\n",
      "epoch: 03, loss: -0.94940\n",
      "epoch: 04, loss: -0.95400\n",
      "epoch: 05, loss: -0.95747\n",
      "epoch: 06, loss: -0.96000\n",
      "epoch: 07, loss: -0.96205\n",
      "epoch: 08, loss: -0.96381\n",
      "epoch: 09, loss: -0.96533\n",
      "torch.Size([1024, 64])\n"
     ]
    },
    {
     "name": "stderr",
     "output_type": "stream",
     "text": [
      " 17%|█▋        | 167/999 [3:17:01<15:58:12, 69.10s/it]"
     ]
    },
    {
     "name": "stdout",
     "output_type": "stream",
     "text": [
      "eigenvalues shape torch.Size([5]) eigenvectors shape torch.Size([5, 1024])\n",
      "167 /home/phdcs2/Hard_Disk/Datasets/Deep-Spectral-Segmentation/data/object-segmentation/ECSSD/features/0169_resized.pth\n",
      "dict_keys(['k', 'indices', 'file', 'id', 'model_name', 'patch_size', 'shape'])\n",
      "0169_resized\n"
     ]
    },
    {
     "name": "stderr",
     "output_type": "stream",
     "text": [
      "/home/phdcs2/Hard_Disk/Projects/T2I/deep-spectral-segmentation/venv/lib/python3.8/site-packages/sklearn/decomposition/_pca.py:642: RuntimeWarning: invalid value encountered in divide\n",
      "  self.explained_variance_ratio_ = self.explained_variance_ / total_var\n"
     ]
    },
    {
     "name": "stdout",
     "output_type": "stream",
     "text": [
      "Starting Training\n",
      "epoch: 00, loss: -0.92281\n",
      "epoch: 01, loss: -0.95304\n",
      "epoch: 02, loss: -0.96027\n",
      "epoch: 03, loss: -0.96450\n",
      "epoch: 04, loss: -0.96738\n",
      "epoch: 05, loss: -0.96953\n",
      "epoch: 06, loss: -0.97120\n",
      "epoch: 07, loss: -0.97257\n",
      "epoch: 08, loss: -0.97370\n",
      "epoch: 09, loss: -0.97469\n",
      "torch.Size([1024, 64])\n"
     ]
    },
    {
     "name": "stderr",
     "output_type": "stream",
     "text": [
      " 17%|█▋        | 168/999 [3:17:58<15:07:42, 65.54s/it]"
     ]
    },
    {
     "name": "stdout",
     "output_type": "stream",
     "text": [
      "eigenvalues shape torch.Size([5]) eigenvectors shape torch.Size([5, 1024])\n",
      "168 /home/phdcs2/Hard_Disk/Datasets/Deep-Spectral-Segmentation/data/object-segmentation/ECSSD/features/0170_resized.pth\n",
      "dict_keys(['k', 'indices', 'file', 'id', 'model_name', 'patch_size', 'shape'])\n",
      "0170_resized\n",
      "Starting Training\n",
      "epoch: 00, loss: -0.92566\n",
      "epoch: 01, loss: -0.95598\n",
      "epoch: 02, loss: -0.96323\n",
      "epoch: 03, loss: -0.96743\n",
      "epoch: 04, loss: -0.97027\n",
      "epoch: 05, loss: -0.97234\n",
      "epoch: 06, loss: -0.97403\n",
      "epoch: 07, loss: -0.97535\n",
      "epoch: 08, loss: -0.97647\n",
      "epoch: 09, loss: -0.97742\n",
      "torch.Size([1024, 64])\n"
     ]
    },
    {
     "name": "stderr",
     "output_type": "stream",
     "text": [
      " 17%|█▋        | 169/999 [3:18:55<14:30:28, 62.93s/it]"
     ]
    },
    {
     "name": "stdout",
     "output_type": "stream",
     "text": [
      "eigenvalues shape torch.Size([5]) eigenvectors shape torch.Size([5, 1024])\n",
      "169 /home/phdcs2/Hard_Disk/Datasets/Deep-Spectral-Segmentation/data/object-segmentation/ECSSD/features/0171_resized.pth\n",
      "dict_keys(['k', 'indices', 'file', 'id', 'model_name', 'patch_size', 'shape'])\n",
      "0171_resized\n",
      "Starting Training\n",
      "epoch: 00, loss: -0.87860\n",
      "epoch: 01, loss: -0.92681\n",
      "epoch: 02, loss: -0.93871\n",
      "epoch: 03, loss: -0.94523\n",
      "epoch: 04, loss: -0.94987\n",
      "epoch: 05, loss: -0.95324\n",
      "epoch: 06, loss: -0.95581\n",
      "epoch: 07, loss: -0.95796\n",
      "epoch: 08, loss: -0.95973\n",
      "epoch: 09, loss: -0.96127\n",
      "torch.Size([1024, 64])\n"
     ]
    },
    {
     "name": "stderr",
     "output_type": "stream",
     "text": [
      " 17%|█▋        | 170/999 [3:19:50<13:58:45, 60.71s/it]"
     ]
    },
    {
     "name": "stdout",
     "output_type": "stream",
     "text": [
      "eigenvalues shape torch.Size([5]) eigenvectors shape torch.Size([5, 1024])\n",
      "170 /home/phdcs2/Hard_Disk/Datasets/Deep-Spectral-Segmentation/data/object-segmentation/ECSSD/features/0172_resized.pth\n",
      "dict_keys(['k', 'indices', 'file', 'id', 'model_name', 'patch_size', 'shape'])\n",
      "0172_resized\n",
      "Starting Training\n",
      "epoch: 00, loss: -0.86866\n",
      "epoch: 01, loss: -0.92067\n",
      "epoch: 02, loss: -0.93422\n",
      "epoch: 03, loss: -0.94182\n",
      "epoch: 04, loss: -0.94714\n",
      "epoch: 05, loss: -0.95090\n",
      "epoch: 06, loss: -0.95388\n",
      "epoch: 07, loss: -0.95621\n",
      "epoch: 08, loss: -0.95815\n",
      "epoch: 09, loss: -0.95977\n",
      "torch.Size([1024, 64])\n"
     ]
    },
    {
     "name": "stderr",
     "output_type": "stream",
     "text": [
      " 17%|█▋        | 171/999 [3:21:01<14:39:51, 63.76s/it]"
     ]
    },
    {
     "name": "stdout",
     "output_type": "stream",
     "text": [
      "eigenvalues shape torch.Size([5]) eigenvectors shape torch.Size([5, 1024])\n",
      "171 /home/phdcs2/Hard_Disk/Datasets/Deep-Spectral-Segmentation/data/object-segmentation/ECSSD/features/0173_resized.pth\n",
      "dict_keys(['k', 'indices', 'file', 'id', 'model_name', 'patch_size', 'shape'])\n",
      "0173_resized\n",
      "Starting Training\n",
      "epoch: 00, loss: -0.89314\n",
      "epoch: 01, loss: -0.93841\n",
      "epoch: 02, loss: -0.94842\n",
      "epoch: 03, loss: -0.95434\n",
      "epoch: 04, loss: -0.95819\n",
      "epoch: 05, loss: -0.96112\n",
      "epoch: 06, loss: -0.96341\n",
      "epoch: 07, loss: -0.96526\n",
      "epoch: 08, loss: -0.96680\n",
      "epoch: 09, loss: -0.96807\n",
      "torch.Size([1024, 64])\n"
     ]
    },
    {
     "name": "stderr",
     "output_type": "stream",
     "text": [
      " 17%|█▋        | 172/999 [3:22:13<15:12:14, 66.18s/it]"
     ]
    },
    {
     "name": "stdout",
     "output_type": "stream",
     "text": [
      "eigenvalues shape torch.Size([5]) eigenvectors shape torch.Size([5, 1024])\n",
      "172 /home/phdcs2/Hard_Disk/Datasets/Deep-Spectral-Segmentation/data/object-segmentation/ECSSD/features/0174_resized.pth\n",
      "dict_keys(['k', 'indices', 'file', 'id', 'model_name', 'patch_size', 'shape'])\n",
      "0174_resized\n"
     ]
    },
    {
     "name": "stderr",
     "output_type": "stream",
     "text": [
      "/home/phdcs2/Hard_Disk/Projects/T2I/deep-spectral-segmentation/venv/lib/python3.8/site-packages/sklearn/decomposition/_pca.py:642: RuntimeWarning: invalid value encountered in divide\n",
      "  self.explained_variance_ratio_ = self.explained_variance_ / total_var\n"
     ]
    },
    {
     "name": "stdout",
     "output_type": "stream",
     "text": [
      "Starting Training\n",
      "epoch: 00, loss: -0.93834\n",
      "epoch: 01, loss: -0.96208\n",
      "epoch: 02, loss: -0.96778\n",
      "epoch: 03, loss: -0.97117\n",
      "epoch: 04, loss: -0.97346\n",
      "epoch: 05, loss: -0.97517\n",
      "epoch: 06, loss: -0.97654\n",
      "epoch: 07, loss: -0.97765\n",
      "epoch: 08, loss: -0.97858\n",
      "epoch: 09, loss: -0.97939\n",
      "torch.Size([1024, 64])\n"
     ]
    },
    {
     "name": "stderr",
     "output_type": "stream",
     "text": [
      " 17%|█▋        | 173/999 [3:23:27<15:44:01, 68.57s/it]"
     ]
    },
    {
     "name": "stdout",
     "output_type": "stream",
     "text": [
      "eigenvalues shape torch.Size([5]) eigenvectors shape torch.Size([5, 1024])\n",
      "173 /home/phdcs2/Hard_Disk/Datasets/Deep-Spectral-Segmentation/data/object-segmentation/ECSSD/features/0175_resized.pth\n",
      "dict_keys(['k', 'indices', 'file', 'id', 'model_name', 'patch_size', 'shape'])\n",
      "0175_resized\n",
      "Starting Training\n",
      "epoch: 00, loss: -0.85912\n",
      "epoch: 01, loss: -0.91585\n",
      "epoch: 02, loss: -0.93116\n",
      "epoch: 03, loss: -0.93992\n",
      "epoch: 04, loss: -0.94557\n",
      "epoch: 05, loss: -0.94963\n",
      "epoch: 06, loss: -0.95285\n",
      "epoch: 07, loss: -0.95547\n",
      "epoch: 08, loss: -0.95770\n",
      "epoch: 09, loss: -0.95953\n",
      "torch.Size([1024, 64])\n"
     ]
    },
    {
     "name": "stderr",
     "output_type": "stream",
     "text": [
      " 17%|█▋        | 174/999 [3:24:41<16:05:29, 70.22s/it]"
     ]
    },
    {
     "name": "stdout",
     "output_type": "stream",
     "text": [
      "eigenvalues shape torch.Size([5]) eigenvectors shape torch.Size([5, 1024])\n",
      "174 /home/phdcs2/Hard_Disk/Datasets/Deep-Spectral-Segmentation/data/object-segmentation/ECSSD/features/0176_resized.pth\n",
      "dict_keys(['k', 'indices', 'file', 'id', 'model_name', 'patch_size', 'shape'])\n",
      "0176_resized\n",
      "Starting Training\n",
      "epoch: 00, loss: -0.89781\n",
      "epoch: 01, loss: -0.93957\n",
      "epoch: 02, loss: -0.94937\n",
      "epoch: 03, loss: -0.95512\n",
      "epoch: 04, loss: -0.95896\n",
      "epoch: 05, loss: -0.96171\n",
      "epoch: 06, loss: -0.96393\n",
      "epoch: 07, loss: -0.96556\n",
      "epoch: 08, loss: -0.96711\n",
      "epoch: 09, loss: -0.96842\n",
      "torch.Size([1024, 64])\n"
     ]
    },
    {
     "name": "stderr",
     "output_type": "stream",
     "text": [
      " 18%|█▊        | 175/999 [3:25:51<16:03:58, 70.19s/it]"
     ]
    },
    {
     "name": "stdout",
     "output_type": "stream",
     "text": [
      "eigenvalues shape torch.Size([5]) eigenvectors shape torch.Size([5, 1024])\n",
      "175 /home/phdcs2/Hard_Disk/Datasets/Deep-Spectral-Segmentation/data/object-segmentation/ECSSD/features/0177_resized.pth\n",
      "dict_keys(['k', 'indices', 'file', 'id', 'model_name', 'patch_size', 'shape'])\n",
      "0177_resized\n",
      "Starting Training\n",
      "epoch: 00, loss: -0.88682\n",
      "epoch: 01, loss: -0.93224\n",
      "epoch: 02, loss: -0.94330\n",
      "epoch: 03, loss: -0.94992\n",
      "epoch: 04, loss: -0.95431\n",
      "epoch: 05, loss: -0.95754\n",
      "epoch: 06, loss: -0.96014\n",
      "epoch: 07, loss: -0.96216\n",
      "epoch: 08, loss: -0.96389\n",
      "epoch: 09, loss: -0.96525\n",
      "torch.Size([1024, 64])\n"
     ]
    },
    {
     "name": "stderr",
     "output_type": "stream",
     "text": [
      " 18%|█▊        | 176/999 [3:27:00<15:56:04, 69.70s/it]"
     ]
    },
    {
     "name": "stdout",
     "output_type": "stream",
     "text": [
      "eigenvalues shape torch.Size([5]) eigenvectors shape torch.Size([5, 1024])\n",
      "176 /home/phdcs2/Hard_Disk/Datasets/Deep-Spectral-Segmentation/data/object-segmentation/ECSSD/features/0178_resized.pth\n",
      "dict_keys(['k', 'indices', 'file', 'id', 'model_name', 'patch_size', 'shape'])\n",
      "0178_resized\n"
     ]
    },
    {
     "name": "stderr",
     "output_type": "stream",
     "text": [
      "/home/phdcs2/Hard_Disk/Projects/T2I/deep-spectral-segmentation/venv/lib/python3.8/site-packages/sklearn/decomposition/_pca.py:642: RuntimeWarning: invalid value encountered in divide\n",
      "  self.explained_variance_ratio_ = self.explained_variance_ / total_var\n"
     ]
    },
    {
     "name": "stdout",
     "output_type": "stream",
     "text": [
      "Starting Training\n",
      "epoch: 00, loss: -0.92806\n",
      "epoch: 01, loss: -0.95652\n",
      "epoch: 02, loss: -0.96353\n",
      "epoch: 03, loss: -0.96760\n",
      "epoch: 04, loss: -0.97035\n",
      "epoch: 05, loss: -0.97238\n",
      "epoch: 06, loss: -0.97399\n",
      "epoch: 07, loss: -0.97528\n",
      "epoch: 08, loss: -0.97638\n",
      "epoch: 09, loss: -0.97731\n",
      "torch.Size([1024, 64])\n"
     ]
    },
    {
     "name": "stderr",
     "output_type": "stream",
     "text": [
      " 18%|█▊        | 177/999 [3:28:13<16:08:14, 70.67s/it]"
     ]
    },
    {
     "name": "stdout",
     "output_type": "stream",
     "text": [
      "eigenvalues shape torch.Size([5]) eigenvectors shape torch.Size([5, 1024])\n",
      "177 /home/phdcs2/Hard_Disk/Datasets/Deep-Spectral-Segmentation/data/object-segmentation/ECSSD/features/0179_resized.pth\n",
      "dict_keys(['k', 'indices', 'file', 'id', 'model_name', 'patch_size', 'shape'])\n",
      "0179_resized\n",
      "Starting Training\n",
      "epoch: 00, loss: -0.86264\n",
      "epoch: 01, loss: -0.91895\n",
      "epoch: 02, loss: -0.93223\n",
      "epoch: 03, loss: -0.93980\n",
      "epoch: 04, loss: -0.94488\n",
      "epoch: 05, loss: -0.94863\n",
      "epoch: 06, loss: -0.95155\n",
      "epoch: 07, loss: -0.95382\n",
      "epoch: 08, loss: -0.95591\n",
      "epoch: 09, loss: -0.95754\n",
      "torch.Size([1024, 64])\n"
     ]
    },
    {
     "name": "stderr",
     "output_type": "stream",
     "text": [
      " 18%|█▊        | 178/999 [3:29:27<16:22:31, 71.80s/it]"
     ]
    },
    {
     "name": "stdout",
     "output_type": "stream",
     "text": [
      "eigenvalues shape torch.Size([5]) eigenvectors shape torch.Size([5, 1024])\n",
      "178 /home/phdcs2/Hard_Disk/Datasets/Deep-Spectral-Segmentation/data/object-segmentation/ECSSD/features/0180_resized.pth\n",
      "dict_keys(['k', 'indices', 'file', 'id', 'model_name', 'patch_size', 'shape'])\n",
      "0180_resized\n",
      "Starting Training\n",
      "epoch: 00, loss: -0.85799\n",
      "epoch: 01, loss: -0.91263\n",
      "epoch: 02, loss: -0.92748\n",
      "epoch: 03, loss: -0.93629\n",
      "epoch: 04, loss: -0.94201\n",
      "epoch: 05, loss: -0.94649\n",
      "epoch: 06, loss: -0.94969\n",
      "epoch: 07, loss: -0.95230\n",
      "epoch: 08, loss: -0.95463\n",
      "epoch: 09, loss: -0.95647\n",
      "torch.Size([1024, 64])\n"
     ]
    },
    {
     "name": "stderr",
     "output_type": "stream",
     "text": [
      " 18%|█▊        | 179/999 [3:30:41<16:31:24, 72.54s/it]"
     ]
    },
    {
     "name": "stdout",
     "output_type": "stream",
     "text": [
      "eigenvalues shape torch.Size([5]) eigenvectors shape torch.Size([5, 1024])\n",
      "179 /home/phdcs2/Hard_Disk/Datasets/Deep-Spectral-Segmentation/data/object-segmentation/ECSSD/features/0181_resized.pth\n",
      "dict_keys(['k', 'indices', 'file', 'id', 'model_name', 'patch_size', 'shape'])\n",
      "0181_resized\n",
      "Starting Training\n",
      "epoch: 00, loss: -0.87017\n",
      "epoch: 01, loss: -0.92506\n",
      "epoch: 02, loss: -0.93846\n",
      "epoch: 03, loss: -0.94595\n",
      "epoch: 04, loss: -0.95094\n",
      "epoch: 05, loss: -0.95455\n",
      "epoch: 06, loss: -0.95745\n",
      "epoch: 07, loss: -0.95972\n",
      "epoch: 08, loss: -0.96155\n",
      "epoch: 09, loss: -0.96309\n",
      "torch.Size([1024, 64])\n"
     ]
    },
    {
     "name": "stderr",
     "output_type": "stream",
     "text": [
      " 18%|█▊        | 180/999 [3:31:45<15:54:33, 69.93s/it]"
     ]
    },
    {
     "name": "stdout",
     "output_type": "stream",
     "text": [
      "eigenvalues shape torch.Size([5]) eigenvectors shape torch.Size([5, 1024])\n",
      "180 /home/phdcs2/Hard_Disk/Datasets/Deep-Spectral-Segmentation/data/object-segmentation/ECSSD/features/0182_resized.pth\n",
      "dict_keys(['k', 'indices', 'file', 'id', 'model_name', 'patch_size', 'shape'])\n",
      "0182_resized\n",
      "Starting Training\n",
      "epoch: 00, loss: -0.92667\n",
      "epoch: 01, loss: -0.95577\n",
      "epoch: 02, loss: -0.96280\n",
      "epoch: 03, loss: -0.96685\n",
      "epoch: 04, loss: -0.96962\n",
      "epoch: 05, loss: -0.97164\n",
      "epoch: 06, loss: -0.97324\n",
      "epoch: 07, loss: -0.97456\n",
      "epoch: 08, loss: -0.97563\n",
      "epoch: 09, loss: -0.97656\n",
      "torch.Size([1024, 64])\n"
     ]
    },
    {
     "name": "stderr",
     "output_type": "stream",
     "text": [
      " 18%|█▊        | 181/999 [3:32:55<15:52:37, 69.87s/it]"
     ]
    },
    {
     "name": "stdout",
     "output_type": "stream",
     "text": [
      "eigenvalues shape torch.Size([5]) eigenvectors shape torch.Size([5, 1024])\n",
      "181 /home/phdcs2/Hard_Disk/Datasets/Deep-Spectral-Segmentation/data/object-segmentation/ECSSD/features/0183_resized.pth\n",
      "dict_keys(['k', 'indices', 'file', 'id', 'model_name', 'patch_size', 'shape'])\n",
      "0183_resized\n",
      "Starting Training\n",
      "epoch: 00, loss: -0.83986\n",
      "epoch: 01, loss: -0.90870\n",
      "epoch: 02, loss: -0.92536\n",
      "epoch: 03, loss: -0.93417\n",
      "epoch: 04, loss: -0.94039\n",
      "epoch: 05, loss: -0.94477\n",
      "epoch: 06, loss: -0.94834\n",
      "epoch: 07, loss: -0.95093\n",
      "epoch: 08, loss: -0.95325\n",
      "epoch: 09, loss: -0.95504\n",
      "torch.Size([1024, 64])\n"
     ]
    },
    {
     "name": "stderr",
     "output_type": "stream",
     "text": [
      " 18%|█▊        | 182/999 [3:34:09<16:07:47, 71.07s/it]"
     ]
    },
    {
     "name": "stdout",
     "output_type": "stream",
     "text": [
      "eigenvalues shape torch.Size([5]) eigenvectors shape torch.Size([5, 1024])\n",
      "182 /home/phdcs2/Hard_Disk/Datasets/Deep-Spectral-Segmentation/data/object-segmentation/ECSSD/features/0184_resized.pth\n",
      "dict_keys(['k', 'indices', 'file', 'id', 'model_name', 'patch_size', 'shape'])\n",
      "0184_resized\n",
      "Starting Training\n",
      "epoch: 00, loss: -0.86222\n",
      "epoch: 01, loss: -0.91598\n",
      "epoch: 02, loss: -0.93064\n",
      "epoch: 03, loss: -0.93902\n",
      "epoch: 04, loss: -0.94453\n",
      "epoch: 05, loss: -0.94862\n",
      "epoch: 06, loss: -0.95176\n",
      "epoch: 07, loss: -0.95428\n",
      "epoch: 08, loss: -0.95636\n",
      "epoch: 09, loss: -0.95824\n",
      "torch.Size([1024, 64])\n"
     ]
    },
    {
     "name": "stderr",
     "output_type": "stream",
     "text": [
      " 18%|█▊        | 183/999 [3:35:30<16:47:12, 74.06s/it]"
     ]
    },
    {
     "name": "stdout",
     "output_type": "stream",
     "text": [
      "eigenvalues shape torch.Size([5]) eigenvectors shape torch.Size([5, 1024])\n",
      "183 /home/phdcs2/Hard_Disk/Datasets/Deep-Spectral-Segmentation/data/object-segmentation/ECSSD/features/0185_resized.pth\n",
      "dict_keys(['k', 'indices', 'file', 'id', 'model_name', 'patch_size', 'shape'])\n",
      "0185_resized\n",
      "Starting Training\n",
      "epoch: 00, loss: -0.86760\n",
      "epoch: 01, loss: -0.92291\n",
      "epoch: 02, loss: -0.93526\n",
      "epoch: 03, loss: -0.94244\n",
      "epoch: 04, loss: -0.94718\n",
      "epoch: 05, loss: -0.95078\n",
      "epoch: 06, loss: -0.95360\n",
      "epoch: 07, loss: -0.95571\n",
      "epoch: 08, loss: -0.95751\n",
      "epoch: 09, loss: -0.95908\n",
      "torch.Size([1024, 64])\n"
     ]
    },
    {
     "name": "stderr",
     "output_type": "stream",
     "text": [
      " 18%|█▊        | 184/999 [3:36:52<17:19:12, 76.51s/it]"
     ]
    },
    {
     "name": "stdout",
     "output_type": "stream",
     "text": [
      "eigenvalues shape torch.Size([5]) eigenvectors shape torch.Size([5, 1024])\n",
      "184 /home/phdcs2/Hard_Disk/Datasets/Deep-Spectral-Segmentation/data/object-segmentation/ECSSD/features/0186_resized.pth\n",
      "dict_keys(['k', 'indices', 'file', 'id', 'model_name', 'patch_size', 'shape'])\n",
      "0186_resized\n",
      "Starting Training\n",
      "epoch: 00, loss: -0.86959\n",
      "epoch: 01, loss: -0.92209\n",
      "epoch: 02, loss: -0.93568\n",
      "epoch: 03, loss: -0.94337\n",
      "epoch: 04, loss: -0.94866\n",
      "epoch: 05, loss: -0.95244\n",
      "epoch: 06, loss: -0.95542\n",
      "epoch: 07, loss: -0.95779\n",
      "epoch: 08, loss: -0.95983\n",
      "epoch: 09, loss: -0.96139\n",
      "torch.Size([1024, 64])\n"
     ]
    },
    {
     "name": "stderr",
     "output_type": "stream",
     "text": [
      " 19%|█▊        | 185/999 [3:38:11<17:29:20, 77.35s/it]"
     ]
    },
    {
     "name": "stdout",
     "output_type": "stream",
     "text": [
      "eigenvalues shape torch.Size([5]) eigenvectors shape torch.Size([5, 1024])\n",
      "185 /home/phdcs2/Hard_Disk/Datasets/Deep-Spectral-Segmentation/data/object-segmentation/ECSSD/features/0187_resized.pth\n",
      "dict_keys(['k', 'indices', 'file', 'id', 'model_name', 'patch_size', 'shape'])\n",
      "0187_resized\n",
      "Starting Training\n",
      "epoch: 00, loss: -0.89348\n",
      "epoch: 01, loss: -0.93748\n",
      "epoch: 02, loss: -0.94816\n",
      "epoch: 03, loss: -0.95449\n",
      "epoch: 04, loss: -0.95856\n",
      "epoch: 05, loss: -0.96166\n",
      "epoch: 06, loss: -0.96396\n",
      "epoch: 07, loss: -0.96583\n",
      "epoch: 08, loss: -0.96745\n",
      "epoch: 09, loss: -0.96877\n",
      "torch.Size([1024, 64])\n"
     ]
    },
    {
     "name": "stderr",
     "output_type": "stream",
     "text": [
      " 19%|█▊        | 186/999 [3:39:27<17:19:51, 76.74s/it]"
     ]
    },
    {
     "name": "stdout",
     "output_type": "stream",
     "text": [
      "eigenvalues shape torch.Size([5]) eigenvectors shape torch.Size([5, 1024])\n",
      "186 /home/phdcs2/Hard_Disk/Datasets/Deep-Spectral-Segmentation/data/object-segmentation/ECSSD/features/0188_resized.pth\n",
      "dict_keys(['k', 'indices', 'file', 'id', 'model_name', 'patch_size', 'shape'])\n",
      "0188_resized\n"
     ]
    },
    {
     "name": "stderr",
     "output_type": "stream",
     "text": [
      "/home/phdcs2/Hard_Disk/Projects/T2I/deep-spectral-segmentation/venv/lib/python3.8/site-packages/sklearn/decomposition/_pca.py:642: RuntimeWarning: invalid value encountered in divide\n",
      "  self.explained_variance_ratio_ = self.explained_variance_ / total_var\n"
     ]
    },
    {
     "name": "stdout",
     "output_type": "stream",
     "text": [
      "Starting Training\n",
      "epoch: 00, loss: -0.93448\n",
      "epoch: 01, loss: -0.96077\n",
      "epoch: 02, loss: -0.96690\n",
      "epoch: 03, loss: -0.97049\n",
      "epoch: 04, loss: -0.97292\n",
      "epoch: 05, loss: -0.97474\n",
      "epoch: 06, loss: -0.97617\n",
      "epoch: 07, loss: -0.97733\n",
      "epoch: 08, loss: -0.97832\n",
      "epoch: 09, loss: -0.97915\n",
      "torch.Size([1024, 64])\n"
     ]
    },
    {
     "name": "stderr",
     "output_type": "stream",
     "text": [
      " 19%|█▊        | 187/999 [3:40:53<17:56:22, 79.54s/it]"
     ]
    },
    {
     "name": "stdout",
     "output_type": "stream",
     "text": [
      "eigenvalues shape torch.Size([5]) eigenvectors shape torch.Size([5, 1024])\n",
      "187 /home/phdcs2/Hard_Disk/Datasets/Deep-Spectral-Segmentation/data/object-segmentation/ECSSD/features/0189_resized.pth\n",
      "dict_keys(['k', 'indices', 'file', 'id', 'model_name', 'patch_size', 'shape'])\n",
      "0189_resized\n",
      "Starting Training\n",
      "epoch: 00, loss: -0.87474\n",
      "epoch: 01, loss: -0.92620\n",
      "epoch: 02, loss: -0.93914\n",
      "epoch: 03, loss: -0.94646\n",
      "epoch: 04, loss: -0.95141\n",
      "epoch: 05, loss: -0.95496\n",
      "epoch: 06, loss: -0.95776\n",
      "epoch: 07, loss: -0.96007\n",
      "epoch: 08, loss: -0.96192\n",
      "epoch: 09, loss: -0.96354\n",
      "torch.Size([1024, 64])\n"
     ]
    },
    {
     "name": "stderr",
     "output_type": "stream",
     "text": [
      " 19%|█▉        | 188/999 [3:42:23<18:39:26, 82.82s/it]"
     ]
    },
    {
     "name": "stdout",
     "output_type": "stream",
     "text": [
      "eigenvalues shape torch.Size([5]) eigenvectors shape torch.Size([5, 1024])\n",
      "188 /home/phdcs2/Hard_Disk/Datasets/Deep-Spectral-Segmentation/data/object-segmentation/ECSSD/features/0190_resized.pth\n",
      "dict_keys(['k', 'indices', 'file', 'id', 'model_name', 'patch_size', 'shape'])\n",
      "0190_resized\n",
      "Starting Training\n",
      "epoch: 00, loss: -0.88147\n",
      "epoch: 01, loss: -0.92910\n",
      "epoch: 02, loss: -0.94117\n",
      "epoch: 03, loss: -0.94825\n",
      "epoch: 04, loss: -0.95289\n",
      "epoch: 05, loss: -0.95631\n",
      "epoch: 06, loss: -0.95910\n",
      "epoch: 07, loss: -0.96118\n",
      "epoch: 08, loss: -0.96294\n",
      "epoch: 09, loss: -0.96444\n",
      "torch.Size([1024, 64])\n"
     ]
    },
    {
     "name": "stderr",
     "output_type": "stream",
     "text": [
      " 19%|█▉        | 189/999 [3:43:41<18:15:48, 81.17s/it]"
     ]
    },
    {
     "name": "stdout",
     "output_type": "stream",
     "text": [
      "eigenvalues shape torch.Size([5]) eigenvectors shape torch.Size([5, 1024])\n",
      "189 /home/phdcs2/Hard_Disk/Datasets/Deep-Spectral-Segmentation/data/object-segmentation/ECSSD/features/0191_resized.pth\n",
      "dict_keys(['k', 'indices', 'file', 'id', 'model_name', 'patch_size', 'shape'])\n",
      "0191_resized\n"
     ]
    },
    {
     "name": "stderr",
     "output_type": "stream",
     "text": [
      "/home/phdcs2/Hard_Disk/Projects/T2I/deep-spectral-segmentation/venv/lib/python3.8/site-packages/sklearn/decomposition/_pca.py:642: RuntimeWarning: invalid value encountered in divide\n",
      "  self.explained_variance_ratio_ = self.explained_variance_ / total_var\n"
     ]
    },
    {
     "name": "stdout",
     "output_type": "stream",
     "text": [
      "Starting Training\n",
      "epoch: 00, loss: -0.92634\n",
      "epoch: 01, loss: -0.95689\n",
      "epoch: 02, loss: -0.96396\n",
      "epoch: 03, loss: -0.96802\n",
      "epoch: 04, loss: -0.97080\n",
      "epoch: 05, loss: -0.97285\n",
      "epoch: 06, loss: -0.97445\n",
      "epoch: 07, loss: -0.97573\n",
      "epoch: 08, loss: -0.97682\n",
      "epoch: 09, loss: -0.97774\n",
      "torch.Size([1024, 64])\n"
     ]
    },
    {
     "name": "stderr",
     "output_type": "stream",
     "text": [
      " 19%|█▉        | 190/999 [3:45:05<18:27:34, 82.14s/it]"
     ]
    },
    {
     "name": "stdout",
     "output_type": "stream",
     "text": [
      "eigenvalues shape torch.Size([5]) eigenvectors shape torch.Size([5, 1024])\n",
      "190 /home/phdcs2/Hard_Disk/Datasets/Deep-Spectral-Segmentation/data/object-segmentation/ECSSD/features/0192_resized.pth\n",
      "dict_keys(['k', 'indices', 'file', 'id', 'model_name', 'patch_size', 'shape'])\n",
      "0192_resized\n",
      "Starting Training\n",
      "epoch: 00, loss: -0.86610\n",
      "epoch: 01, loss: -0.92176\n",
      "epoch: 02, loss: -0.93501\n",
      "epoch: 03, loss: -0.94248\n",
      "epoch: 04, loss: -0.94724\n",
      "epoch: 05, loss: -0.95081\n",
      "epoch: 06, loss: -0.95356\n",
      "epoch: 07, loss: -0.95577\n",
      "epoch: 08, loss: -0.95776\n",
      "epoch: 09, loss: -0.95929\n",
      "torch.Size([1024, 64])\n"
     ]
    },
    {
     "name": "stderr",
     "output_type": "stream",
     "text": [
      " 19%|█▉        | 191/999 [3:46:31<18:40:13, 83.18s/it]"
     ]
    },
    {
     "name": "stdout",
     "output_type": "stream",
     "text": [
      "eigenvalues shape torch.Size([5]) eigenvectors shape torch.Size([5, 1024])\n",
      "191 /home/phdcs2/Hard_Disk/Datasets/Deep-Spectral-Segmentation/data/object-segmentation/ECSSD/features/0193_resized.pth\n",
      "dict_keys(['k', 'indices', 'file', 'id', 'model_name', 'patch_size', 'shape'])\n",
      "0193_resized\n"
     ]
    },
    {
     "name": "stderr",
     "output_type": "stream",
     "text": [
      "/home/phdcs2/Hard_Disk/Projects/T2I/deep-spectral-segmentation/venv/lib/python3.8/site-packages/sklearn/decomposition/_pca.py:642: RuntimeWarning: invalid value encountered in divide\n",
      "  self.explained_variance_ratio_ = self.explained_variance_ / total_var\n"
     ]
    },
    {
     "name": "stdout",
     "output_type": "stream",
     "text": [
      "Starting Training\n",
      "epoch: 00, loss: -0.90743\n",
      "epoch: 01, loss: -0.94411\n",
      "epoch: 02, loss: -0.95308\n",
      "epoch: 03, loss: -0.95830\n",
      "epoch: 04, loss: -0.96184\n",
      "epoch: 05, loss: -0.96448\n",
      "epoch: 06, loss: -0.96660\n",
      "epoch: 07, loss: -0.96824\n",
      "epoch: 08, loss: -0.96965\n",
      "epoch: 09, loss: -0.97084\n",
      "torch.Size([1024, 64])\n"
     ]
    },
    {
     "name": "stderr",
     "output_type": "stream",
     "text": [
      " 19%|█▉        | 192/999 [3:47:56<18:48:52, 83.93s/it]"
     ]
    },
    {
     "name": "stdout",
     "output_type": "stream",
     "text": [
      "eigenvalues shape torch.Size([5]) eigenvectors shape torch.Size([5, 1024])\n",
      "192 /home/phdcs2/Hard_Disk/Datasets/Deep-Spectral-Segmentation/data/object-segmentation/ECSSD/features/0194_resized.pth\n",
      "dict_keys(['k', 'indices', 'file', 'id', 'model_name', 'patch_size', 'shape'])\n",
      "0194_resized\n",
      "Starting Training\n",
      "epoch: 00, loss: -0.85984\n",
      "epoch: 01, loss: -0.91602\n",
      "epoch: 02, loss: -0.92944\n",
      "epoch: 03, loss: -0.93728\n",
      "epoch: 04, loss: -0.94226\n",
      "epoch: 05, loss: -0.94593\n",
      "epoch: 06, loss: -0.94868\n",
      "epoch: 07, loss: -0.95099\n",
      "epoch: 08, loss: -0.95289\n",
      "epoch: 09, loss: -0.95456\n",
      "torch.Size([1024, 64])\n"
     ]
    },
    {
     "name": "stderr",
     "output_type": "stream",
     "text": [
      " 19%|█▉        | 193/999 [3:49:30<19:27:45, 86.93s/it]"
     ]
    },
    {
     "name": "stdout",
     "output_type": "stream",
     "text": [
      "eigenvalues shape torch.Size([5]) eigenvectors shape torch.Size([5, 1024])\n",
      "193 /home/phdcs2/Hard_Disk/Datasets/Deep-Spectral-Segmentation/data/object-segmentation/ECSSD/features/0195_resized.pth\n",
      "dict_keys(['k', 'indices', 'file', 'id', 'model_name', 'patch_size', 'shape'])\n",
      "0195_resized\n",
      "Starting Training\n",
      "epoch: 00, loss: -0.88574\n",
      "epoch: 01, loss: -0.93290\n",
      "epoch: 02, loss: -0.94468\n",
      "epoch: 03, loss: -0.95142\n",
      "epoch: 04, loss: -0.95594\n",
      "epoch: 05, loss: -0.95919\n",
      "epoch: 06, loss: -0.96173\n",
      "epoch: 07, loss: -0.96378\n",
      "epoch: 08, loss: -0.96539\n",
      "epoch: 09, loss: -0.96680\n",
      "torch.Size([1024, 64])\n"
     ]
    },
    {
     "name": "stderr",
     "output_type": "stream",
     "text": [
      " 19%|█▉        | 194/999 [3:50:55<19:18:17, 86.33s/it]"
     ]
    },
    {
     "name": "stdout",
     "output_type": "stream",
     "text": [
      "eigenvalues shape torch.Size([5]) eigenvectors shape torch.Size([5, 1024])\n",
      "194 /home/phdcs2/Hard_Disk/Datasets/Deep-Spectral-Segmentation/data/object-segmentation/ECSSD/features/0196_resized.pth\n",
      "dict_keys(['k', 'indices', 'file', 'id', 'model_name', 'patch_size', 'shape'])\n",
      "0196_resized\n",
      "Starting Training\n",
      "epoch: 00, loss: -0.86496\n",
      "epoch: 01, loss: -0.91667\n",
      "epoch: 02, loss: -0.93107\n",
      "epoch: 03, loss: -0.93931\n",
      "epoch: 04, loss: -0.94495\n",
      "epoch: 05, loss: -0.94925\n",
      "epoch: 06, loss: -0.95259\n",
      "epoch: 07, loss: -0.95520\n",
      "epoch: 08, loss: -0.95746\n",
      "epoch: 09, loss: -0.95919\n",
      "torch.Size([1024, 64])\n"
     ]
    },
    {
     "name": "stderr",
     "output_type": "stream",
     "text": [
      " 20%|█▉        | 195/999 [3:52:22<19:17:45, 86.40s/it]"
     ]
    },
    {
     "name": "stdout",
     "output_type": "stream",
     "text": [
      "eigenvalues shape torch.Size([5]) eigenvectors shape torch.Size([5, 1024])\n",
      "195 /home/phdcs2/Hard_Disk/Datasets/Deep-Spectral-Segmentation/data/object-segmentation/ECSSD/features/0197_resized.pth\n",
      "dict_keys(['k', 'indices', 'file', 'id', 'model_name', 'patch_size', 'shape'])\n",
      "0197_resized\n"
     ]
    },
    {
     "name": "stderr",
     "output_type": "stream",
     "text": [
      "/home/phdcs2/Hard_Disk/Projects/T2I/deep-spectral-segmentation/venv/lib/python3.8/site-packages/sklearn/decomposition/_pca.py:642: RuntimeWarning: invalid value encountered in divide\n",
      "  self.explained_variance_ratio_ = self.explained_variance_ / total_var\n"
     ]
    },
    {
     "name": "stdout",
     "output_type": "stream",
     "text": [
      "Starting Training\n",
      "epoch: 00, loss: -0.93457\n",
      "epoch: 01, loss: -0.95848\n",
      "epoch: 02, loss: -0.96395\n",
      "epoch: 03, loss: -0.96724\n",
      "epoch: 04, loss: -0.96950\n",
      "epoch: 05, loss: -0.97115\n",
      "epoch: 06, loss: -0.97252\n",
      "epoch: 07, loss: -0.97362\n",
      "epoch: 08, loss: -0.97455\n",
      "epoch: 09, loss: -0.97536\n",
      "torch.Size([1024, 64])\n"
     ]
    },
    {
     "name": "stderr",
     "output_type": "stream",
     "text": [
      " 20%|█▉        | 196/999 [3:53:43<18:56:42, 84.93s/it]"
     ]
    },
    {
     "name": "stdout",
     "output_type": "stream",
     "text": [
      "eigenvalues shape torch.Size([5]) eigenvectors shape torch.Size([5, 1024])\n",
      "196 /home/phdcs2/Hard_Disk/Datasets/Deep-Spectral-Segmentation/data/object-segmentation/ECSSD/features/0198_resized.pth\n",
      "dict_keys(['k', 'indices', 'file', 'id', 'model_name', 'patch_size', 'shape'])\n",
      "0198_resized\n",
      "Starting Training\n",
      "epoch: 00, loss: -0.83332\n",
      "epoch: 01, loss: -0.90054\n",
      "epoch: 02, loss: -0.91914\n",
      "epoch: 03, loss: -0.92982\n",
      "epoch: 04, loss: -0.93685\n",
      "epoch: 05, loss: -0.94199\n",
      "epoch: 06, loss: -0.94589\n",
      "epoch: 07, loss: -0.94895\n",
      "epoch: 08, loss: -0.95151\n",
      "epoch: 09, loss: -0.95365\n",
      "torch.Size([1024, 64])\n"
     ]
    },
    {
     "name": "stderr",
     "output_type": "stream",
     "text": [
      " 20%|█▉        | 197/999 [3:55:06<18:48:07, 84.40s/it]"
     ]
    },
    {
     "name": "stdout",
     "output_type": "stream",
     "text": [
      "eigenvalues shape torch.Size([5]) eigenvectors shape torch.Size([5, 1024])\n",
      "197 /home/phdcs2/Hard_Disk/Datasets/Deep-Spectral-Segmentation/data/object-segmentation/ECSSD/features/0199_resized.pth\n",
      "dict_keys(['k', 'indices', 'file', 'id', 'model_name', 'patch_size', 'shape'])\n",
      "0199_resized\n",
      "Starting Training\n",
      "epoch: 00, loss: -0.87188\n",
      "epoch: 01, loss: -0.92475\n",
      "epoch: 02, loss: -0.93817\n",
      "epoch: 03, loss: -0.94552\n",
      "epoch: 04, loss: -0.95044\n",
      "epoch: 05, loss: -0.95415\n",
      "epoch: 06, loss: -0.95694\n",
      "epoch: 07, loss: -0.95933\n",
      "epoch: 08, loss: -0.96119\n",
      "epoch: 09, loss: -0.96283\n",
      "torch.Size([1024, 64])\n"
     ]
    },
    {
     "name": "stderr",
     "output_type": "stream",
     "text": [
      " 20%|█▉        | 198/999 [3:56:21<18:08:14, 81.52s/it]"
     ]
    },
    {
     "name": "stdout",
     "output_type": "stream",
     "text": [
      "eigenvalues shape torch.Size([5]) eigenvectors shape torch.Size([5, 1024])\n",
      "198 /home/phdcs2/Hard_Disk/Datasets/Deep-Spectral-Segmentation/data/object-segmentation/ECSSD/features/0200_resized.pth\n",
      "dict_keys(['k', 'indices', 'file', 'id', 'model_name', 'patch_size', 'shape'])\n",
      "0200_resized\n",
      "Starting Training\n",
      "epoch: 00, loss: -0.87206\n",
      "epoch: 01, loss: -0.92400\n",
      "epoch: 02, loss: -0.93669\n",
      "epoch: 03, loss: -0.94416\n",
      "epoch: 04, loss: -0.94905\n",
      "epoch: 05, loss: -0.95274\n",
      "epoch: 06, loss: -0.95558\n",
      "epoch: 07, loss: -0.95796\n",
      "epoch: 08, loss: -0.95990\n",
      "epoch: 09, loss: -0.96150\n",
      "torch.Size([1024, 64])\n"
     ]
    },
    {
     "name": "stderr",
     "output_type": "stream",
     "text": [
      " 20%|█▉        | 199/999 [3:57:36<17:40:47, 79.56s/it]"
     ]
    },
    {
     "name": "stdout",
     "output_type": "stream",
     "text": [
      "eigenvalues shape torch.Size([5]) eigenvectors shape torch.Size([5, 1024])\n",
      "199 /home/phdcs2/Hard_Disk/Datasets/Deep-Spectral-Segmentation/data/object-segmentation/ECSSD/features/0201_resized.pth\n",
      "dict_keys(['k', 'indices', 'file', 'id', 'model_name', 'patch_size', 'shape'])\n",
      "0201_resized\n"
     ]
    },
    {
     "name": "stderr",
     "output_type": "stream",
     "text": [
      "/home/phdcs2/Hard_Disk/Projects/T2I/deep-spectral-segmentation/venv/lib/python3.8/site-packages/sklearn/decomposition/_pca.py:642: RuntimeWarning: invalid value encountered in divide\n",
      "  self.explained_variance_ratio_ = self.explained_variance_ / total_var\n"
     ]
    },
    {
     "name": "stdout",
     "output_type": "stream",
     "text": [
      "Starting Training\n",
      "epoch: 00, loss: -0.92120\n",
      "epoch: 01, loss: -0.94932\n",
      "epoch: 02, loss: -0.95671\n",
      "epoch: 03, loss: -0.96101\n",
      "epoch: 04, loss: -0.96409\n",
      "epoch: 05, loss: -0.96639\n",
      "epoch: 06, loss: -0.96819\n",
      "epoch: 07, loss: -0.96965\n",
      "epoch: 08, loss: -0.97092\n",
      "epoch: 09, loss: -0.97200\n",
      "torch.Size([1024, 64])\n"
     ]
    },
    {
     "name": "stderr",
     "output_type": "stream",
     "text": [
      " 20%|██        | 200/999 [3:58:57<17:43:50, 79.89s/it]"
     ]
    },
    {
     "name": "stdout",
     "output_type": "stream",
     "text": [
      "eigenvalues shape torch.Size([5]) eigenvectors shape torch.Size([5, 1024])\n",
      "200 /home/phdcs2/Hard_Disk/Datasets/Deep-Spectral-Segmentation/data/object-segmentation/ECSSD/features/0202_resized.pth\n",
      "dict_keys(['k', 'indices', 'file', 'id', 'model_name', 'patch_size', 'shape'])\n",
      "0202_resized\n"
     ]
    },
    {
     "name": "stderr",
     "output_type": "stream",
     "text": [
      "/home/phdcs2/Hard_Disk/Projects/T2I/deep-spectral-segmentation/venv/lib/python3.8/site-packages/sklearn/decomposition/_pca.py:642: RuntimeWarning: invalid value encountered in divide\n",
      "  self.explained_variance_ratio_ = self.explained_variance_ / total_var\n"
     ]
    },
    {
     "name": "stdout",
     "output_type": "stream",
     "text": [
      "Starting Training\n",
      "epoch: 00, loss: -0.92617\n",
      "epoch: 01, loss: -0.95461\n",
      "epoch: 02, loss: -0.96151\n",
      "epoch: 03, loss: -0.96544\n",
      "epoch: 04, loss: -0.96815\n",
      "epoch: 05, loss: -0.97020\n",
      "epoch: 06, loss: -0.97179\n",
      "epoch: 07, loss: -0.97306\n",
      "epoch: 08, loss: -0.97415\n",
      "epoch: 09, loss: -0.97508\n",
      "torch.Size([1024, 64])\n"
     ]
    },
    {
     "name": "stderr",
     "output_type": "stream",
     "text": [
      " 20%|██        | 201/999 [4:00:13<17:25:54, 78.64s/it]"
     ]
    },
    {
     "name": "stdout",
     "output_type": "stream",
     "text": [
      "eigenvalues shape torch.Size([5]) eigenvectors shape torch.Size([5, 1024])\n",
      "201 /home/phdcs2/Hard_Disk/Datasets/Deep-Spectral-Segmentation/data/object-segmentation/ECSSD/features/0203_resized.pth\n",
      "dict_keys(['k', 'indices', 'file', 'id', 'model_name', 'patch_size', 'shape'])\n",
      "0203_resized\n"
     ]
    },
    {
     "name": "stderr",
     "output_type": "stream",
     "text": [
      "/home/phdcs2/Hard_Disk/Projects/T2I/deep-spectral-segmentation/venv/lib/python3.8/site-packages/sklearn/decomposition/_pca.py:642: RuntimeWarning: invalid value encountered in divide\n",
      "  self.explained_variance_ratio_ = self.explained_variance_ / total_var\n"
     ]
    },
    {
     "name": "stdout",
     "output_type": "stream",
     "text": [
      "Starting Training\n",
      "epoch: 00, loss: -0.91281\n",
      "epoch: 01, loss: -0.94753\n",
      "epoch: 02, loss: -0.95572\n",
      "epoch: 03, loss: -0.96045\n",
      "epoch: 04, loss: -0.96369\n",
      "epoch: 05, loss: -0.96611\n",
      "epoch: 06, loss: -0.96797\n",
      "epoch: 07, loss: -0.96949\n",
      "epoch: 08, loss: -0.97078\n",
      "epoch: 09, loss: -0.97187\n",
      "torch.Size([1024, 64])\n"
     ]
    },
    {
     "name": "stderr",
     "output_type": "stream",
     "text": [
      " 20%|██        | 202/999 [4:01:27<17:08:56, 77.46s/it]"
     ]
    },
    {
     "name": "stdout",
     "output_type": "stream",
     "text": [
      "eigenvalues shape torch.Size([5]) eigenvectors shape torch.Size([5, 1024])\n",
      "202 /home/phdcs2/Hard_Disk/Datasets/Deep-Spectral-Segmentation/data/object-segmentation/ECSSD/features/0204_resized.pth\n",
      "dict_keys(['k', 'indices', 'file', 'id', 'model_name', 'patch_size', 'shape'])\n",
      "0204_resized\n",
      "Starting Training\n",
      "epoch: 00, loss: -0.92153\n",
      "epoch: 01, loss: -0.95233\n",
      "epoch: 02, loss: -0.95965\n",
      "epoch: 03, loss: -0.96390\n",
      "epoch: 04, loss: -0.96683\n",
      "epoch: 05, loss: -0.96904\n",
      "epoch: 06, loss: -0.97072\n",
      "epoch: 07, loss: -0.97213\n",
      "epoch: 08, loss: -0.97333\n",
      "epoch: 09, loss: -0.97430\n",
      "torch.Size([1024, 64])\n"
     ]
    },
    {
     "name": "stderr",
     "output_type": "stream",
     "text": [
      " 20%|██        | 203/999 [4:02:47<17:15:56, 78.09s/it]"
     ]
    },
    {
     "name": "stdout",
     "output_type": "stream",
     "text": [
      "eigenvalues shape torch.Size([5]) eigenvectors shape torch.Size([5, 1024])\n",
      "203 /home/phdcs2/Hard_Disk/Datasets/Deep-Spectral-Segmentation/data/object-segmentation/ECSSD/features/0205_resized.pth\n",
      "dict_keys(['k', 'indices', 'file', 'id', 'model_name', 'patch_size', 'shape'])\n",
      "0205_resized\n",
      "Starting Training\n",
      "epoch: 00, loss: -0.87314\n",
      "epoch: 01, loss: -0.92588\n",
      "epoch: 02, loss: -0.93886\n",
      "epoch: 03, loss: -0.94619\n",
      "epoch: 04, loss: -0.95108\n",
      "epoch: 05, loss: -0.95469\n",
      "epoch: 06, loss: -0.95750\n",
      "epoch: 07, loss: -0.95966\n",
      "epoch: 08, loss: -0.96149\n",
      "epoch: 09, loss: -0.96310\n",
      "torch.Size([1024, 64])\n"
     ]
    },
    {
     "name": "stderr",
     "output_type": "stream",
     "text": [
      " 20%|██        | 204/999 [4:04:06<17:20:53, 78.56s/it]"
     ]
    },
    {
     "name": "stdout",
     "output_type": "stream",
     "text": [
      "eigenvalues shape torch.Size([5]) eigenvectors shape torch.Size([5, 1024])\n",
      "204 /home/phdcs2/Hard_Disk/Datasets/Deep-Spectral-Segmentation/data/object-segmentation/ECSSD/features/0206_resized.pth\n",
      "dict_keys(['k', 'indices', 'file', 'id', 'model_name', 'patch_size', 'shape'])\n",
      "0206_resized\n",
      "Starting Training\n",
      "epoch: 00, loss: -0.86482\n",
      "epoch: 01, loss: -0.91820\n",
      "epoch: 02, loss: -0.93272\n",
      "epoch: 03, loss: -0.94082\n",
      "epoch: 04, loss: -0.94660\n",
      "epoch: 05, loss: -0.95048\n",
      "epoch: 06, loss: -0.95371\n",
      "epoch: 07, loss: -0.95614\n",
      "epoch: 08, loss: -0.95827\n",
      "epoch: 09, loss: -0.96003\n",
      "torch.Size([1024, 64])\n"
     ]
    },
    {
     "name": "stderr",
     "output_type": "stream",
     "text": [
      " 21%|██        | 205/999 [4:05:19<16:56:49, 76.84s/it]"
     ]
    },
    {
     "name": "stdout",
     "output_type": "stream",
     "text": [
      "eigenvalues shape torch.Size([5]) eigenvectors shape torch.Size([5, 1024])\n",
      "205 /home/phdcs2/Hard_Disk/Datasets/Deep-Spectral-Segmentation/data/object-segmentation/ECSSD/features/0207_resized.pth\n",
      "dict_keys(['k', 'indices', 'file', 'id', 'model_name', 'patch_size', 'shape'])\n",
      "0207_resized\n"
     ]
    },
    {
     "name": "stderr",
     "output_type": "stream",
     "text": [
      "/home/phdcs2/Hard_Disk/Projects/T2I/deep-spectral-segmentation/venv/lib/python3.8/site-packages/sklearn/decomposition/_pca.py:642: RuntimeWarning: invalid value encountered in divide\n",
      "  self.explained_variance_ratio_ = self.explained_variance_ / total_var\n"
     ]
    },
    {
     "name": "stdout",
     "output_type": "stream",
     "text": [
      "Starting Training\n",
      "epoch: 00, loss: -0.91150\n",
      "epoch: 01, loss: -0.94966\n",
      "epoch: 02, loss: -0.95771\n",
      "epoch: 03, loss: -0.96241\n",
      "epoch: 04, loss: -0.96557\n",
      "epoch: 05, loss: -0.96792\n",
      "epoch: 06, loss: -0.96977\n",
      "epoch: 07, loss: -0.97130\n",
      "epoch: 08, loss: -0.97251\n",
      "epoch: 09, loss: -0.97358\n",
      "torch.Size([1024, 64])\n"
     ]
    },
    {
     "name": "stderr",
     "output_type": "stream",
     "text": [
      " 21%|██        | 206/999 [4:06:29<16:25:27, 74.56s/it]"
     ]
    },
    {
     "name": "stdout",
     "output_type": "stream",
     "text": [
      "eigenvalues shape torch.Size([5]) eigenvectors shape torch.Size([5, 1024])\n",
      "206 /home/phdcs2/Hard_Disk/Datasets/Deep-Spectral-Segmentation/data/object-segmentation/ECSSD/features/0208_resized.pth\n",
      "dict_keys(['k', 'indices', 'file', 'id', 'model_name', 'patch_size', 'shape'])\n",
      "0208_resized\n",
      "Starting Training\n",
      "epoch: 00, loss: -0.84722\n",
      "epoch: 01, loss: -0.90774\n",
      "epoch: 02, loss: -0.92399\n",
      "epoch: 03, loss: -0.93317\n",
      "epoch: 04, loss: -0.93930\n",
      "epoch: 05, loss: -0.94392\n",
      "epoch: 06, loss: -0.94746\n",
      "epoch: 07, loss: -0.95026\n",
      "epoch: 08, loss: -0.95264\n",
      "epoch: 09, loss: -0.95460\n",
      "torch.Size([1024, 64])\n"
     ]
    },
    {
     "name": "stderr",
     "output_type": "stream",
     "text": [
      " 21%|██        | 207/999 [4:07:47<16:41:18, 75.86s/it]"
     ]
    },
    {
     "name": "stdout",
     "output_type": "stream",
     "text": [
      "eigenvalues shape torch.Size([5]) eigenvectors shape torch.Size([5, 1024])\n",
      "207 /home/phdcs2/Hard_Disk/Datasets/Deep-Spectral-Segmentation/data/object-segmentation/ECSSD/features/0209_resized.pth\n",
      "dict_keys(['k', 'indices', 'file', 'id', 'model_name', 'patch_size', 'shape'])\n",
      "0209_resized\n",
      "Starting Training\n",
      "epoch: 00, loss: -0.85574\n",
      "epoch: 01, loss: -0.91223\n",
      "epoch: 02, loss: -0.92735\n",
      "epoch: 03, loss: -0.93617\n",
      "epoch: 04, loss: -0.94204\n",
      "epoch: 05, loss: -0.94632\n",
      "epoch: 06, loss: -0.94960\n",
      "epoch: 07, loss: -0.95232\n",
      "epoch: 08, loss: -0.95443\n",
      "epoch: 09, loss: -0.95634\n",
      "torch.Size([1024, 64])\n"
     ]
    },
    {
     "name": "stderr",
     "output_type": "stream",
     "text": [
      " 21%|██        | 208/999 [4:09:06<16:49:14, 76.55s/it]"
     ]
    },
    {
     "name": "stdout",
     "output_type": "stream",
     "text": [
      "eigenvalues shape torch.Size([5]) eigenvectors shape torch.Size([5, 1024])\n",
      "208 /home/phdcs2/Hard_Disk/Datasets/Deep-Spectral-Segmentation/data/object-segmentation/ECSSD/features/0210_resized.pth\n",
      "dict_keys(['k', 'indices', 'file', 'id', 'model_name', 'patch_size', 'shape'])\n",
      "0210_resized\n",
      "Starting Training\n",
      "epoch: 00, loss: -0.91266\n",
      "epoch: 01, loss: -0.94841\n",
      "epoch: 02, loss: -0.95647\n",
      "epoch: 03, loss: -0.96111\n",
      "epoch: 04, loss: -0.96430\n",
      "epoch: 05, loss: -0.96661\n",
      "epoch: 06, loss: -0.96845\n",
      "epoch: 07, loss: -0.96992\n",
      "epoch: 08, loss: -0.97115\n",
      "epoch: 09, loss: -0.97222\n",
      "torch.Size([1024, 64])\n"
     ]
    },
    {
     "name": "stderr",
     "output_type": "stream",
     "text": [
      " 21%|██        | 209/999 [4:10:29<17:13:23, 78.49s/it]"
     ]
    },
    {
     "name": "stdout",
     "output_type": "stream",
     "text": [
      "eigenvalues shape torch.Size([5]) eigenvectors shape torch.Size([5, 1024])\n",
      "209 /home/phdcs2/Hard_Disk/Datasets/Deep-Spectral-Segmentation/data/object-segmentation/ECSSD/features/0211_resized.pth\n",
      "dict_keys(['k', 'indices', 'file', 'id', 'model_name', 'patch_size', 'shape'])\n",
      "0211_resized\n"
     ]
    },
    {
     "name": "stderr",
     "output_type": "stream",
     "text": [
      "/home/phdcs2/Hard_Disk/Projects/T2I/deep-spectral-segmentation/venv/lib/python3.8/site-packages/sklearn/decomposition/_pca.py:642: RuntimeWarning: invalid value encountered in divide\n",
      "  self.explained_variance_ratio_ = self.explained_variance_ / total_var\n"
     ]
    },
    {
     "name": "stdout",
     "output_type": "stream",
     "text": [
      "Starting Training\n",
      "epoch: 00, loss: -0.92662\n",
      "epoch: 01, loss: -0.95730\n",
      "epoch: 02, loss: -0.96412\n",
      "epoch: 03, loss: -0.96806\n",
      "epoch: 04, loss: -0.97072\n",
      "epoch: 05, loss: -0.97271\n",
      "epoch: 06, loss: -0.97427\n",
      "epoch: 07, loss: -0.97552\n",
      "epoch: 08, loss: -0.97658\n",
      "epoch: 09, loss: -0.97749\n",
      "torch.Size([1024, 64])\n"
     ]
    },
    {
     "name": "stderr",
     "output_type": "stream",
     "text": [
      " 21%|██        | 210/999 [4:11:52<17:31:45, 79.98s/it]"
     ]
    },
    {
     "name": "stdout",
     "output_type": "stream",
     "text": [
      "eigenvalues shape torch.Size([5]) eigenvectors shape torch.Size([5, 1024])\n",
      "210 /home/phdcs2/Hard_Disk/Datasets/Deep-Spectral-Segmentation/data/object-segmentation/ECSSD/features/0212_resized.pth\n",
      "dict_keys(['k', 'indices', 'file', 'id', 'model_name', 'patch_size', 'shape'])\n",
      "0212_resized\n",
      "Starting Training\n",
      "epoch: 00, loss: -0.83779\n",
      "epoch: 01, loss: -0.90325\n",
      "epoch: 02, loss: -0.91908\n",
      "epoch: 03, loss: -0.92789\n",
      "epoch: 04, loss: -0.93376\n",
      "epoch: 05, loss: -0.93814\n",
      "epoch: 06, loss: -0.94162\n",
      "epoch: 07, loss: -0.94425\n",
      "epoch: 08, loss: -0.94654\n",
      "epoch: 09, loss: -0.94836\n",
      "torch.Size([1024, 64])\n"
     ]
    },
    {
     "name": "stderr",
     "output_type": "stream",
     "text": [
      " 21%|██        | 211/999 [4:13:14<17:38:50, 80.62s/it]"
     ]
    },
    {
     "name": "stdout",
     "output_type": "stream",
     "text": [
      "eigenvalues shape torch.Size([5]) eigenvectors shape torch.Size([5, 1024])\n",
      "211 /home/phdcs2/Hard_Disk/Datasets/Deep-Spectral-Segmentation/data/object-segmentation/ECSSD/features/0213_resized.pth\n",
      "dict_keys(['k', 'indices', 'file', 'id', 'model_name', 'patch_size', 'shape'])\n",
      "0213_resized\n"
     ]
    },
    {
     "name": "stderr",
     "output_type": "stream",
     "text": [
      "/home/phdcs2/Hard_Disk/Projects/T2I/deep-spectral-segmentation/venv/lib/python3.8/site-packages/sklearn/decomposition/_pca.py:642: RuntimeWarning: invalid value encountered in divide\n",
      "  self.explained_variance_ratio_ = self.explained_variance_ / total_var\n"
     ]
    },
    {
     "name": "stdout",
     "output_type": "stream",
     "text": [
      "Starting Training\n",
      "epoch: 00, loss: -0.93778\n",
      "epoch: 01, loss: -0.96465\n",
      "epoch: 02, loss: -0.96989\n",
      "epoch: 03, loss: -0.97289\n",
      "epoch: 04, loss: -0.97495\n",
      "epoch: 05, loss: -0.97648\n",
      "epoch: 06, loss: -0.97769\n",
      "epoch: 07, loss: -0.97868\n",
      "epoch: 08, loss: -0.97952\n",
      "epoch: 09, loss: -0.98021\n",
      "torch.Size([1024, 64])\n"
     ]
    },
    {
     "name": "stderr",
     "output_type": "stream",
     "text": [
      " 21%|██        | 212/999 [4:14:39<17:54:03, 81.88s/it]"
     ]
    },
    {
     "name": "stdout",
     "output_type": "stream",
     "text": [
      "eigenvalues shape torch.Size([5]) eigenvectors shape torch.Size([5, 1024])\n",
      "212 /home/phdcs2/Hard_Disk/Datasets/Deep-Spectral-Segmentation/data/object-segmentation/ECSSD/features/0214_resized.pth\n",
      "dict_keys(['k', 'indices', 'file', 'id', 'model_name', 'patch_size', 'shape'])\n",
      "0214_resized\n",
      "Starting Training\n",
      "epoch: 00, loss: -0.93915\n",
      "epoch: 01, loss: -0.96432\n",
      "epoch: 02, loss: -0.96966\n",
      "epoch: 03, loss: -0.97273\n",
      "epoch: 04, loss: -0.97484\n",
      "epoch: 05, loss: -0.97645\n",
      "epoch: 06, loss: -0.97770\n",
      "epoch: 07, loss: -0.97874\n",
      "epoch: 08, loss: -0.97959\n",
      "epoch: 09, loss: -0.98034\n",
      "torch.Size([1024, 64])\n"
     ]
    },
    {
     "name": "stderr",
     "output_type": "stream",
     "text": [
      " 21%|██▏       | 213/999 [4:16:01<17:52:17, 81.85s/it]"
     ]
    },
    {
     "name": "stdout",
     "output_type": "stream",
     "text": [
      "eigenvalues shape torch.Size([5]) eigenvectors shape torch.Size([5, 1024])\n",
      "213 /home/phdcs2/Hard_Disk/Datasets/Deep-Spectral-Segmentation/data/object-segmentation/ECSSD/features/0215_resized.pth\n",
      "dict_keys(['k', 'indices', 'file', 'id', 'model_name', 'patch_size', 'shape'])\n",
      "0215_resized\n",
      "Starting Training\n",
      "epoch: 00, loss: -0.90275\n",
      "epoch: 01, loss: -0.94165\n",
      "epoch: 02, loss: -0.95127\n",
      "epoch: 03, loss: -0.95701\n",
      "epoch: 04, loss: -0.96081\n",
      "epoch: 05, loss: -0.96357\n",
      "epoch: 06, loss: -0.96579\n",
      "epoch: 07, loss: -0.96763\n",
      "epoch: 08, loss: -0.96907\n",
      "epoch: 09, loss: -0.97036\n",
      "torch.Size([1024, 64])\n"
     ]
    },
    {
     "name": "stderr",
     "output_type": "stream",
     "text": [
      " 21%|██▏       | 214/999 [4:17:24<17:57:23, 82.35s/it]"
     ]
    },
    {
     "name": "stdout",
     "output_type": "stream",
     "text": [
      "eigenvalues shape torch.Size([5]) eigenvectors shape torch.Size([5, 1024])\n",
      "214 /home/phdcs2/Hard_Disk/Datasets/Deep-Spectral-Segmentation/data/object-segmentation/ECSSD/features/0216_resized.pth\n",
      "dict_keys(['k', 'indices', 'file', 'id', 'model_name', 'patch_size', 'shape'])\n",
      "0216_resized\n",
      "Starting Training\n",
      "epoch: 00, loss: -0.89081\n",
      "epoch: 01, loss: -0.93600\n",
      "epoch: 02, loss: -0.94700\n",
      "epoch: 03, loss: -0.95328\n",
      "epoch: 04, loss: -0.95750\n",
      "epoch: 05, loss: -0.96057\n",
      "epoch: 06, loss: -0.96299\n",
      "epoch: 07, loss: -0.96488\n",
      "epoch: 08, loss: -0.96646\n",
      "epoch: 09, loss: -0.96780\n",
      "torch.Size([1024, 64])\n"
     ]
    },
    {
     "name": "stderr",
     "output_type": "stream",
     "text": [
      " 22%|██▏       | 215/999 [4:18:47<17:56:28, 82.38s/it]"
     ]
    },
    {
     "name": "stdout",
     "output_type": "stream",
     "text": [
      "eigenvalues shape torch.Size([5]) eigenvectors shape torch.Size([5, 1024])\n",
      "215 /home/phdcs2/Hard_Disk/Datasets/Deep-Spectral-Segmentation/data/object-segmentation/ECSSD/features/0217_resized.pth\n",
      "dict_keys(['k', 'indices', 'file', 'id', 'model_name', 'patch_size', 'shape'])\n",
      "0217_resized\n",
      "Starting Training\n",
      "epoch: 00, loss: -0.83641\n",
      "epoch: 01, loss: -0.90497\n",
      "epoch: 02, loss: -0.92188\n",
      "epoch: 03, loss: -0.93128\n",
      "epoch: 04, loss: -0.93759\n",
      "epoch: 05, loss: -0.94212\n",
      "epoch: 06, loss: -0.94569\n",
      "epoch: 07, loss: -0.94845\n",
      "epoch: 08, loss: -0.95073\n",
      "epoch: 09, loss: -0.95280\n",
      "torch.Size([1024, 64])\n"
     ]
    },
    {
     "name": "stderr",
     "output_type": "stream",
     "text": [
      " 22%|██▏       | 216/999 [4:20:13<18:11:17, 83.62s/it]"
     ]
    },
    {
     "name": "stdout",
     "output_type": "stream",
     "text": [
      "eigenvalues shape torch.Size([5]) eigenvectors shape torch.Size([5, 1024])\n",
      "216 /home/phdcs2/Hard_Disk/Datasets/Deep-Spectral-Segmentation/data/object-segmentation/ECSSD/features/0218_resized.pth\n",
      "dict_keys(['k', 'indices', 'file', 'id', 'model_name', 'patch_size', 'shape'])\n",
      "0218_resized\n",
      "Starting Training\n",
      "epoch: 00, loss: -0.87380\n",
      "epoch: 01, loss: -0.92667\n",
      "epoch: 02, loss: -0.93932\n",
      "epoch: 03, loss: -0.94681\n",
      "epoch: 04, loss: -0.95173\n",
      "epoch: 05, loss: -0.95529\n",
      "epoch: 06, loss: -0.95807\n",
      "epoch: 07, loss: -0.96033\n",
      "epoch: 08, loss: -0.96209\n",
      "epoch: 09, loss: -0.96375\n",
      "torch.Size([1024, 64])\n"
     ]
    },
    {
     "name": "stderr",
     "output_type": "stream",
     "text": [
      " 22%|██▏       | 217/999 [4:21:36<18:06:10, 83.34s/it]"
     ]
    },
    {
     "name": "stdout",
     "output_type": "stream",
     "text": [
      "eigenvalues shape torch.Size([5]) eigenvectors shape torch.Size([5, 1024])\n",
      "217 /home/phdcs2/Hard_Disk/Datasets/Deep-Spectral-Segmentation/data/object-segmentation/ECSSD/features/0219_resized.pth\n",
      "dict_keys(['k', 'indices', 'file', 'id', 'model_name', 'patch_size', 'shape'])\n",
      "0219_resized\n"
     ]
    },
    {
     "name": "stderr",
     "output_type": "stream",
     "text": [
      "/home/phdcs2/Hard_Disk/Projects/T2I/deep-spectral-segmentation/venv/lib/python3.8/site-packages/sklearn/decomposition/_pca.py:642: RuntimeWarning: invalid value encountered in divide\n",
      "  self.explained_variance_ratio_ = self.explained_variance_ / total_var\n"
     ]
    },
    {
     "name": "stdout",
     "output_type": "stream",
     "text": [
      "Starting Training\n",
      "epoch: 00, loss: -0.92836\n",
      "epoch: 01, loss: -0.95774\n",
      "epoch: 02, loss: -0.96404\n",
      "epoch: 03, loss: -0.96776\n",
      "epoch: 04, loss: -0.97032\n",
      "epoch: 05, loss: -0.97221\n",
      "epoch: 06, loss: -0.97375\n",
      "epoch: 07, loss: -0.97497\n",
      "epoch: 08, loss: -0.97599\n",
      "epoch: 09, loss: -0.97688\n",
      "torch.Size([1024, 64])\n"
     ]
    },
    {
     "name": "stderr",
     "output_type": "stream",
     "text": [
      " 22%|██▏       | 218/999 [4:23:03<18:17:40, 84.33s/it]"
     ]
    },
    {
     "name": "stdout",
     "output_type": "stream",
     "text": [
      "eigenvalues shape torch.Size([5]) eigenvectors shape torch.Size([5, 1024])\n",
      "218 /home/phdcs2/Hard_Disk/Datasets/Deep-Spectral-Segmentation/data/object-segmentation/ECSSD/features/0220_resized.pth\n",
      "dict_keys(['k', 'indices', 'file', 'id', 'model_name', 'patch_size', 'shape'])\n",
      "0220_resized\n"
     ]
    },
    {
     "name": "stderr",
     "output_type": "stream",
     "text": [
      "/home/phdcs2/Hard_Disk/Projects/T2I/deep-spectral-segmentation/venv/lib/python3.8/site-packages/sklearn/decomposition/_pca.py:642: RuntimeWarning: invalid value encountered in divide\n",
      "  self.explained_variance_ratio_ = self.explained_variance_ / total_var\n"
     ]
    },
    {
     "name": "stdout",
     "output_type": "stream",
     "text": [
      "Starting Training\n",
      "epoch: 00, loss: -0.94032\n",
      "epoch: 01, loss: -0.96578\n",
      "epoch: 02, loss: -0.97103\n",
      "epoch: 03, loss: -0.97410\n",
      "epoch: 04, loss: -0.97618\n",
      "epoch: 05, loss: -0.97774\n",
      "epoch: 06, loss: -0.97897\n",
      "epoch: 07, loss: -0.97997\n",
      "epoch: 08, loss: -0.98079\n",
      "epoch: 09, loss: -0.98149\n",
      "torch.Size([1024, 64])\n"
     ]
    },
    {
     "name": "stderr",
     "output_type": "stream",
     "text": [
      " 22%|██▏       | 219/999 [4:24:31<18:30:57, 85.46s/it]"
     ]
    },
    {
     "name": "stdout",
     "output_type": "stream",
     "text": [
      "eigenvalues shape torch.Size([5]) eigenvectors shape torch.Size([5, 1024])\n",
      "219 /home/phdcs2/Hard_Disk/Datasets/Deep-Spectral-Segmentation/data/object-segmentation/ECSSD/features/0221_resized.pth\n",
      "dict_keys(['k', 'indices', 'file', 'id', 'model_name', 'patch_size', 'shape'])\n",
      "0221_resized\n"
     ]
    },
    {
     "name": "stderr",
     "output_type": "stream",
     "text": [
      "/home/phdcs2/Hard_Disk/Projects/T2I/deep-spectral-segmentation/venv/lib/python3.8/site-packages/sklearn/decomposition/_pca.py:642: RuntimeWarning: invalid value encountered in divide\n",
      "  self.explained_variance_ratio_ = self.explained_variance_ / total_var\n"
     ]
    },
    {
     "name": "stdout",
     "output_type": "stream",
     "text": [
      "Starting Training\n",
      "epoch: 00, loss: -0.92795\n",
      "epoch: 01, loss: -0.95750\n",
      "epoch: 02, loss: -0.96447\n",
      "epoch: 03, loss: -0.96848\n",
      "epoch: 04, loss: -0.97114\n",
      "epoch: 05, loss: -0.97316\n",
      "epoch: 06, loss: -0.97468\n",
      "epoch: 07, loss: -0.97595\n",
      "epoch: 08, loss: -0.97700\n",
      "epoch: 09, loss: -0.97790\n",
      "torch.Size([1024, 64])\n"
     ]
    },
    {
     "name": "stderr",
     "output_type": "stream",
     "text": [
      " 22%|██▏       | 220/999 [4:25:55<18:24:42, 85.09s/it]"
     ]
    },
    {
     "name": "stdout",
     "output_type": "stream",
     "text": [
      "eigenvalues shape torch.Size([5]) eigenvectors shape torch.Size([5, 1024])\n",
      "220 /home/phdcs2/Hard_Disk/Datasets/Deep-Spectral-Segmentation/data/object-segmentation/ECSSD/features/0222_resized.pth\n",
      "dict_keys(['k', 'indices', 'file', 'id', 'model_name', 'patch_size', 'shape'])\n",
      "0222_resized\n",
      "Starting Training\n",
      "epoch: 00, loss: -0.86847\n",
      "epoch: 01, loss: -0.92181\n",
      "epoch: 02, loss: -0.93520\n",
      "epoch: 03, loss: -0.94279\n",
      "epoch: 04, loss: -0.94803\n",
      "epoch: 05, loss: -0.95182\n",
      "epoch: 06, loss: -0.95481\n",
      "epoch: 07, loss: -0.95712\n",
      "epoch: 08, loss: -0.95899\n",
      "epoch: 09, loss: -0.96073\n",
      "torch.Size([1024, 64])\n"
     ]
    },
    {
     "name": "stderr",
     "output_type": "stream",
     "text": [
      " 22%|██▏       | 221/999 [4:27:23<18:34:30, 85.95s/it]"
     ]
    },
    {
     "name": "stdout",
     "output_type": "stream",
     "text": [
      "eigenvalues shape torch.Size([5]) eigenvectors shape torch.Size([5, 1024])\n",
      "221 /home/phdcs2/Hard_Disk/Datasets/Deep-Spectral-Segmentation/data/object-segmentation/ECSSD/features/0223_resized.pth\n",
      "dict_keys(['k', 'indices', 'file', 'id', 'model_name', 'patch_size', 'shape'])\n",
      "0223_resized\n",
      "Starting Training\n",
      "epoch: 00, loss: -0.89867\n",
      "epoch: 01, loss: -0.93963\n",
      "epoch: 02, loss: -0.94915\n",
      "epoch: 03, loss: -0.95453\n",
      "epoch: 04, loss: -0.95816\n",
      "epoch: 05, loss: -0.96081\n",
      "epoch: 06, loss: -0.96300\n",
      "epoch: 07, loss: -0.96469\n",
      "epoch: 08, loss: -0.96615\n",
      "epoch: 09, loss: -0.96732\n",
      "torch.Size([1024, 64])\n"
     ]
    },
    {
     "name": "stderr",
     "output_type": "stream",
     "text": [
      " 22%|██▏       | 222/999 [4:28:50<18:36:04, 86.18s/it]"
     ]
    },
    {
     "name": "stdout",
     "output_type": "stream",
     "text": [
      "eigenvalues shape torch.Size([5]) eigenvectors shape torch.Size([5, 1024])\n",
      "222 /home/phdcs2/Hard_Disk/Datasets/Deep-Spectral-Segmentation/data/object-segmentation/ECSSD/features/0224_resized.pth\n",
      "dict_keys(['k', 'indices', 'file', 'id', 'model_name', 'patch_size', 'shape'])\n",
      "0224_resized\n"
     ]
    },
    {
     "name": "stderr",
     "output_type": "stream",
     "text": [
      "/home/phdcs2/Hard_Disk/Projects/T2I/deep-spectral-segmentation/venv/lib/python3.8/site-packages/sklearn/decomposition/_pca.py:642: RuntimeWarning: invalid value encountered in divide\n",
      "  self.explained_variance_ratio_ = self.explained_variance_ / total_var\n"
     ]
    },
    {
     "name": "stdout",
     "output_type": "stream",
     "text": [
      "Starting Training\n",
      "epoch: 00, loss: -0.91442\n",
      "epoch: 01, loss: -0.94744\n",
      "epoch: 02, loss: -0.95563\n",
      "epoch: 03, loss: -0.96044\n",
      "epoch: 04, loss: -0.96374\n",
      "epoch: 05, loss: -0.96621\n",
      "epoch: 06, loss: -0.96819\n",
      "epoch: 07, loss: -0.96978\n",
      "epoch: 08, loss: -0.97114\n",
      "epoch: 09, loss: -0.97228\n",
      "torch.Size([1024, 64])\n"
     ]
    },
    {
     "name": "stderr",
     "output_type": "stream",
     "text": [
      " 22%|██▏       | 223/999 [4:30:19<18:46:30, 87.10s/it]"
     ]
    },
    {
     "name": "stdout",
     "output_type": "stream",
     "text": [
      "eigenvalues shape torch.Size([5]) eigenvectors shape torch.Size([5, 1024])\n",
      "223 /home/phdcs2/Hard_Disk/Datasets/Deep-Spectral-Segmentation/data/object-segmentation/ECSSD/features/0225_resized.pth\n",
      "dict_keys(['k', 'indices', 'file', 'id', 'model_name', 'patch_size', 'shape'])\n",
      "0225_resized\n",
      "Starting Training\n",
      "epoch: 00, loss: -0.91726\n",
      "epoch: 01, loss: -0.94861\n",
      "epoch: 02, loss: -0.95659\n",
      "epoch: 03, loss: -0.96131\n",
      "epoch: 04, loss: -0.96453\n",
      "epoch: 05, loss: -0.96696\n",
      "epoch: 06, loss: -0.96888\n",
      "epoch: 07, loss: -0.97043\n",
      "epoch: 08, loss: -0.97174\n",
      "epoch: 09, loss: -0.97285\n",
      "torch.Size([1024, 64])\n"
     ]
    },
    {
     "name": "stderr",
     "output_type": "stream",
     "text": [
      " 22%|██▏       | 224/999 [4:31:43<18:34:57, 86.32s/it]"
     ]
    },
    {
     "name": "stdout",
     "output_type": "stream",
     "text": [
      "eigenvalues shape torch.Size([5]) eigenvectors shape torch.Size([5, 1024])\n",
      "224 /home/phdcs2/Hard_Disk/Datasets/Deep-Spectral-Segmentation/data/object-segmentation/ECSSD/features/0226_resized.pth\n",
      "dict_keys(['k', 'indices', 'file', 'id', 'model_name', 'patch_size', 'shape'])\n",
      "0226_resized\n",
      "Starting Training\n",
      "epoch: 00, loss: -0.93230\n",
      "epoch: 01, loss: -0.96159\n",
      "epoch: 02, loss: -0.96770\n",
      "epoch: 03, loss: -0.97126\n",
      "epoch: 04, loss: -0.97369\n",
      "epoch: 05, loss: -0.97549\n",
      "epoch: 06, loss: -0.97692\n",
      "epoch: 07, loss: -0.97809\n",
      "epoch: 08, loss: -0.97903\n",
      "epoch: 09, loss: -0.97986\n",
      "torch.Size([1024, 64])\n"
     ]
    },
    {
     "name": "stderr",
     "output_type": "stream",
     "text": [
      " 23%|██▎       | 225/999 [4:33:04<18:13:06, 84.74s/it]"
     ]
    },
    {
     "name": "stdout",
     "output_type": "stream",
     "text": [
      "eigenvalues shape torch.Size([5]) eigenvectors shape torch.Size([5, 1024])\n",
      "225 /home/phdcs2/Hard_Disk/Datasets/Deep-Spectral-Segmentation/data/object-segmentation/ECSSD/features/0227_resized.pth\n",
      "dict_keys(['k', 'indices', 'file', 'id', 'model_name', 'patch_size', 'shape'])\n",
      "0227_resized\n",
      "Starting Training\n",
      "epoch: 00, loss: -0.83606\n",
      "epoch: 01, loss: -0.90149\n",
      "epoch: 02, loss: -0.91915\n",
      "epoch: 03, loss: -0.92945\n",
      "epoch: 04, loss: -0.93606\n",
      "epoch: 05, loss: -0.94081\n",
      "epoch: 06, loss: -0.94464\n",
      "epoch: 07, loss: -0.94771\n",
      "epoch: 08, loss: -0.95027\n",
      "epoch: 09, loss: -0.95229\n",
      "torch.Size([1024, 64])\n"
     ]
    },
    {
     "name": "stderr",
     "output_type": "stream",
     "text": [
      " 23%|██▎       | 226/999 [4:34:23<17:48:47, 82.96s/it]"
     ]
    },
    {
     "name": "stdout",
     "output_type": "stream",
     "text": [
      "eigenvalues shape torch.Size([5]) eigenvectors shape torch.Size([5, 1024])\n",
      "226 /home/phdcs2/Hard_Disk/Datasets/Deep-Spectral-Segmentation/data/object-segmentation/ECSSD/features/0228_resized.pth\n",
      "dict_keys(['k', 'indices', 'file', 'id', 'model_name', 'patch_size', 'shape'])\n",
      "0228_resized\n",
      "Starting Training\n",
      "epoch: 00, loss: -0.86147\n",
      "epoch: 01, loss: -0.91827\n",
      "epoch: 02, loss: -0.93330\n",
      "epoch: 03, loss: -0.94155\n",
      "epoch: 04, loss: -0.94715\n",
      "epoch: 05, loss: -0.95125\n",
      "epoch: 06, loss: -0.95426\n",
      "epoch: 07, loss: -0.95677\n",
      "epoch: 08, loss: -0.95884\n",
      "epoch: 09, loss: -0.96066\n",
      "torch.Size([1024, 64])\n"
     ]
    },
    {
     "name": "stderr",
     "output_type": "stream",
     "text": [
      " 23%|██▎       | 227/999 [4:35:43<17:36:27, 82.11s/it]"
     ]
    },
    {
     "name": "stdout",
     "output_type": "stream",
     "text": [
      "eigenvalues shape torch.Size([5]) eigenvectors shape torch.Size([5, 1024])\n",
      "227 /home/phdcs2/Hard_Disk/Datasets/Deep-Spectral-Segmentation/data/object-segmentation/ECSSD/features/0229_resized.pth\n",
      "dict_keys(['k', 'indices', 'file', 'id', 'model_name', 'patch_size', 'shape'])\n",
      "0229_resized\n",
      "Starting Training\n",
      "epoch: 00, loss: -0.92351\n",
      "epoch: 01, loss: -0.95485\n",
      "epoch: 02, loss: -0.96153\n",
      "epoch: 03, loss: -0.96537\n",
      "epoch: 04, loss: -0.96802\n",
      "epoch: 05, loss: -0.97002\n",
      "epoch: 06, loss: -0.97152\n",
      "epoch: 07, loss: -0.97282\n",
      "epoch: 08, loss: -0.97387\n",
      "epoch: 09, loss: -0.97477\n",
      "torch.Size([1024, 64])\n"
     ]
    },
    {
     "name": "stderr",
     "output_type": "stream",
     "text": [
      " 23%|██▎       | 228/999 [4:36:56<16:58:26, 79.26s/it]"
     ]
    },
    {
     "name": "stdout",
     "output_type": "stream",
     "text": [
      "eigenvalues shape torch.Size([5]) eigenvectors shape torch.Size([5, 1024])\n",
      "228 /home/phdcs2/Hard_Disk/Datasets/Deep-Spectral-Segmentation/data/object-segmentation/ECSSD/features/0230_resized.pth\n",
      "dict_keys(['k', 'indices', 'file', 'id', 'model_name', 'patch_size', 'shape'])\n",
      "0230_resized\n",
      "Starting Training\n",
      "epoch: 00, loss: -0.88091\n",
      "epoch: 01, loss: -0.92816\n",
      "epoch: 02, loss: -0.94018\n",
      "epoch: 03, loss: -0.94680\n",
      "epoch: 04, loss: -0.95157\n",
      "epoch: 05, loss: -0.95504\n",
      "epoch: 06, loss: -0.95760\n",
      "epoch: 07, loss: -0.95971\n",
      "epoch: 08, loss: -0.96146\n",
      "epoch: 09, loss: -0.96290\n",
      "torch.Size([1024, 64])\n"
     ]
    },
    {
     "name": "stderr",
     "output_type": "stream",
     "text": [
      " 23%|██▎       | 229/999 [4:38:07<16:27:33, 76.95s/it]"
     ]
    },
    {
     "name": "stdout",
     "output_type": "stream",
     "text": [
      "eigenvalues shape torch.Size([5]) eigenvectors shape torch.Size([5, 1024])\n",
      "229 /home/phdcs2/Hard_Disk/Datasets/Deep-Spectral-Segmentation/data/object-segmentation/ECSSD/features/0231_resized.pth\n",
      "dict_keys(['k', 'indices', 'file', 'id', 'model_name', 'patch_size', 'shape'])\n",
      "0231_resized\n"
     ]
    },
    {
     "name": "stderr",
     "output_type": "stream",
     "text": [
      "/home/phdcs2/Hard_Disk/Projects/T2I/deep-spectral-segmentation/venv/lib/python3.8/site-packages/sklearn/decomposition/_pca.py:642: RuntimeWarning: invalid value encountered in divide\n",
      "  self.explained_variance_ratio_ = self.explained_variance_ / total_var\n"
     ]
    },
    {
     "name": "stdout",
     "output_type": "stream",
     "text": [
      "Starting Training\n",
      "epoch: 00, loss: -0.92658\n",
      "epoch: 01, loss: -0.95542\n",
      "epoch: 02, loss: -0.96169\n",
      "epoch: 03, loss: -0.96529\n",
      "epoch: 04, loss: -0.96782\n",
      "epoch: 05, loss: -0.96967\n",
      "epoch: 06, loss: -0.97115\n",
      "epoch: 07, loss: -0.97239\n",
      "epoch: 08, loss: -0.97340\n",
      "epoch: 09, loss: -0.97431\n",
      "torch.Size([1024, 64])\n"
     ]
    },
    {
     "name": "stderr",
     "output_type": "stream",
     "text": [
      " 23%|██▎       | 230/999 [4:39:29<16:44:23, 78.37s/it]"
     ]
    },
    {
     "name": "stdout",
     "output_type": "stream",
     "text": [
      "eigenvalues shape torch.Size([5]) eigenvectors shape torch.Size([5, 1024])\n",
      "230 /home/phdcs2/Hard_Disk/Datasets/Deep-Spectral-Segmentation/data/object-segmentation/ECSSD/features/0232_resized.pth\n",
      "dict_keys(['k', 'indices', 'file', 'id', 'model_name', 'patch_size', 'shape'])\n",
      "0232_resized\n",
      "Starting Training\n",
      "epoch: 00, loss: -0.87784\n",
      "epoch: 01, loss: -0.92735\n",
      "epoch: 02, loss: -0.93969\n",
      "epoch: 03, loss: -0.94681\n",
      "epoch: 04, loss: -0.95147\n",
      "epoch: 05, loss: -0.95499\n",
      "epoch: 06, loss: -0.95772\n",
      "epoch: 07, loss: -0.95988\n",
      "epoch: 08, loss: -0.96166\n",
      "epoch: 09, loss: -0.96315\n",
      "torch.Size([1024, 64])\n"
     ]
    },
    {
     "name": "stderr",
     "output_type": "stream",
     "text": [
      " 23%|██▎       | 231/999 [4:40:55<17:09:59, 80.47s/it]"
     ]
    },
    {
     "name": "stdout",
     "output_type": "stream",
     "text": [
      "eigenvalues shape torch.Size([5]) eigenvectors shape torch.Size([5, 1024])\n",
      "231 /home/phdcs2/Hard_Disk/Datasets/Deep-Spectral-Segmentation/data/object-segmentation/ECSSD/features/0233_resized.pth\n",
      "dict_keys(['k', 'indices', 'file', 'id', 'model_name', 'patch_size', 'shape'])\n",
      "0233_resized\n"
     ]
    },
    {
     "name": "stderr",
     "output_type": "stream",
     "text": [
      "/home/phdcs2/Hard_Disk/Projects/T2I/deep-spectral-segmentation/venv/lib/python3.8/site-packages/sklearn/decomposition/_pca.py:642: RuntimeWarning: invalid value encountered in divide\n",
      "  self.explained_variance_ratio_ = self.explained_variance_ / total_var\n"
     ]
    },
    {
     "name": "stdout",
     "output_type": "stream",
     "text": [
      "Starting Training\n",
      "epoch: 00, loss: -0.91356\n",
      "epoch: 01, loss: -0.94939\n",
      "epoch: 02, loss: -0.95713\n",
      "epoch: 03, loss: -0.96167\n",
      "epoch: 04, loss: -0.96476\n",
      "epoch: 05, loss: -0.96708\n",
      "epoch: 06, loss: -0.96889\n",
      "epoch: 07, loss: -0.97040\n",
      "epoch: 08, loss: -0.97158\n",
      "epoch: 09, loss: -0.97267\n",
      "torch.Size([1024, 64])\n"
     ]
    },
    {
     "name": "stderr",
     "output_type": "stream",
     "text": [
      " 23%|██▎       | 232/999 [4:42:23<17:39:34, 82.89s/it]"
     ]
    },
    {
     "name": "stdout",
     "output_type": "stream",
     "text": [
      "eigenvalues shape torch.Size([5]) eigenvectors shape torch.Size([5, 1024])\n",
      "232 /home/phdcs2/Hard_Disk/Datasets/Deep-Spectral-Segmentation/data/object-segmentation/ECSSD/features/0234_resized.pth\n",
      "dict_keys(['k', 'indices', 'file', 'id', 'model_name', 'patch_size', 'shape'])\n",
      "0234_resized\n"
     ]
    },
    {
     "name": "stderr",
     "output_type": "stream",
     "text": [
      "/home/phdcs2/Hard_Disk/Projects/T2I/deep-spectral-segmentation/venv/lib/python3.8/site-packages/sklearn/decomposition/_pca.py:642: RuntimeWarning: invalid value encountered in divide\n",
      "  self.explained_variance_ratio_ = self.explained_variance_ / total_var\n"
     ]
    },
    {
     "name": "stdout",
     "output_type": "stream",
     "text": [
      "Starting Training\n",
      "epoch: 00, loss: -0.92154\n",
      "epoch: 01, loss: -0.95401\n",
      "epoch: 02, loss: -0.96117\n",
      "epoch: 03, loss: -0.96530\n",
      "epoch: 04, loss: -0.96811\n",
      "epoch: 05, loss: -0.97021\n",
      "epoch: 06, loss: -0.97188\n",
      "epoch: 07, loss: -0.97320\n",
      "epoch: 08, loss: -0.97433\n",
      "epoch: 09, loss: -0.97530\n",
      "torch.Size([1024, 64])\n"
     ]
    },
    {
     "name": "stderr",
     "output_type": "stream",
     "text": [
      " 23%|██▎       | 233/999 [4:43:42<17:22:18, 81.64s/it]"
     ]
    },
    {
     "name": "stdout",
     "output_type": "stream",
     "text": [
      "eigenvalues shape torch.Size([5]) eigenvectors shape torch.Size([5, 1024])\n",
      "233 /home/phdcs2/Hard_Disk/Datasets/Deep-Spectral-Segmentation/data/object-segmentation/ECSSD/features/0235_resized.pth\n",
      "dict_keys(['k', 'indices', 'file', 'id', 'model_name', 'patch_size', 'shape'])\n",
      "0235_resized\n",
      "Starting Training\n",
      "epoch: 00, loss: -0.86538\n",
      "epoch: 01, loss: -0.92057\n",
      "epoch: 02, loss: -0.93442\n",
      "epoch: 03, loss: -0.94254\n",
      "epoch: 04, loss: -0.94798\n",
      "epoch: 05, loss: -0.95183\n",
      "epoch: 06, loss: -0.95486\n",
      "epoch: 07, loss: -0.95736\n",
      "epoch: 08, loss: -0.95931\n",
      "epoch: 09, loss: -0.96109\n",
      "torch.Size([1024, 64])\n"
     ]
    },
    {
     "name": "stderr",
     "output_type": "stream",
     "text": [
      " 23%|██▎       | 234/999 [4:45:08<17:40:16, 83.16s/it]"
     ]
    },
    {
     "name": "stdout",
     "output_type": "stream",
     "text": [
      "eigenvalues shape torch.Size([5]) eigenvectors shape torch.Size([5, 1024])\n",
      "234 /home/phdcs2/Hard_Disk/Datasets/Deep-Spectral-Segmentation/data/object-segmentation/ECSSD/features/0236_resized.pth\n",
      "dict_keys(['k', 'indices', 'file', 'id', 'model_name', 'patch_size', 'shape'])\n",
      "0236_resized\n"
     ]
    },
    {
     "name": "stderr",
     "output_type": "stream",
     "text": [
      "/home/phdcs2/Hard_Disk/Projects/T2I/deep-spectral-segmentation/venv/lib/python3.8/site-packages/sklearn/decomposition/_pca.py:642: RuntimeWarning: invalid value encountered in divide\n",
      "  self.explained_variance_ratio_ = self.explained_variance_ / total_var\n"
     ]
    },
    {
     "name": "stdout",
     "output_type": "stream",
     "text": [
      "Starting Training\n",
      "epoch: 00, loss: -0.91950\n",
      "epoch: 01, loss: -0.95230\n",
      "epoch: 02, loss: -0.95950\n",
      "epoch: 03, loss: -0.96365\n",
      "epoch: 04, loss: -0.96645\n",
      "epoch: 05, loss: -0.96855\n",
      "epoch: 06, loss: -0.97022\n",
      "epoch: 07, loss: -0.97157\n",
      "epoch: 08, loss: -0.97273\n",
      "epoch: 09, loss: -0.97368\n",
      "torch.Size([1024, 64])\n"
     ]
    },
    {
     "name": "stderr",
     "output_type": "stream",
     "text": [
      " 24%|██▎       | 235/999 [4:46:42<18:16:41, 86.13s/it]"
     ]
    },
    {
     "name": "stdout",
     "output_type": "stream",
     "text": [
      "eigenvalues shape torch.Size([5]) eigenvectors shape torch.Size([5, 1024])\n",
      "235 /home/phdcs2/Hard_Disk/Datasets/Deep-Spectral-Segmentation/data/object-segmentation/ECSSD/features/0237_resized.pth\n",
      "dict_keys(['k', 'indices', 'file', 'id', 'model_name', 'patch_size', 'shape'])\n",
      "0237_resized\n"
     ]
    },
    {
     "name": "stderr",
     "output_type": "stream",
     "text": [
      "/home/phdcs2/Hard_Disk/Projects/T2I/deep-spectral-segmentation/venv/lib/python3.8/site-packages/sklearn/decomposition/_pca.py:642: RuntimeWarning: invalid value encountered in divide\n",
      "  self.explained_variance_ratio_ = self.explained_variance_ / total_var\n"
     ]
    },
    {
     "name": "stdout",
     "output_type": "stream",
     "text": [
      "Starting Training\n",
      "epoch: 00, loss: -0.93842\n",
      "epoch: 01, loss: -0.96522\n",
      "epoch: 02, loss: -0.97058\n",
      "epoch: 03, loss: -0.97367\n",
      "epoch: 04, loss: -0.97577\n",
      "epoch: 05, loss: -0.97737\n",
      "epoch: 06, loss: -0.97861\n",
      "epoch: 07, loss: -0.97964\n",
      "epoch: 08, loss: -0.98049\n",
      "epoch: 09, loss: -0.98121\n",
      "torch.Size([1024, 64])\n"
     ]
    },
    {
     "name": "stderr",
     "output_type": "stream",
     "text": [
      " 24%|██▎       | 236/999 [4:48:12<18:31:32, 87.41s/it]"
     ]
    },
    {
     "name": "stdout",
     "output_type": "stream",
     "text": [
      "eigenvalues shape torch.Size([5]) eigenvectors shape torch.Size([5, 1024])\n",
      "236 /home/phdcs2/Hard_Disk/Datasets/Deep-Spectral-Segmentation/data/object-segmentation/ECSSD/features/0238_resized.pth\n",
      "dict_keys(['k', 'indices', 'file', 'id', 'model_name', 'patch_size', 'shape'])\n",
      "0238_resized\n",
      "Starting Training\n",
      "epoch: 00, loss: -0.89177\n",
      "epoch: 01, loss: -0.93477\n",
      "epoch: 02, loss: -0.94618\n",
      "epoch: 03, loss: -0.95319\n",
      "epoch: 04, loss: -0.95769\n",
      "epoch: 05, loss: -0.96099\n",
      "epoch: 06, loss: -0.96355\n",
      "epoch: 07, loss: -0.96561\n",
      "epoch: 08, loss: -0.96734\n",
      "epoch: 09, loss: -0.96879\n",
      "torch.Size([1024, 64])\n"
     ]
    },
    {
     "name": "stderr",
     "output_type": "stream",
     "text": [
      " 24%|██▎       | 237/999 [4:49:47<19:00:42, 89.82s/it]"
     ]
    },
    {
     "name": "stdout",
     "output_type": "stream",
     "text": [
      "eigenvalues shape torch.Size([5]) eigenvectors shape torch.Size([5, 1024])\n",
      "237 /home/phdcs2/Hard_Disk/Datasets/Deep-Spectral-Segmentation/data/object-segmentation/ECSSD/features/0239_resized.pth\n",
      "dict_keys(['k', 'indices', 'file', 'id', 'model_name', 'patch_size', 'shape'])\n",
      "0239_resized\n",
      "Starting Training\n",
      "epoch: 00, loss: -0.85264\n",
      "epoch: 01, loss: -0.91160\n",
      "epoch: 02, loss: -0.92735\n",
      "epoch: 03, loss: -0.93603\n",
      "epoch: 04, loss: -0.94194\n",
      "epoch: 05, loss: -0.94609\n",
      "epoch: 06, loss: -0.94943\n",
      "epoch: 07, loss: -0.95204\n",
      "epoch: 08, loss: -0.95424\n",
      "epoch: 09, loss: -0.95617\n",
      "torch.Size([1024, 64])\n"
     ]
    },
    {
     "name": "stderr",
     "output_type": "stream",
     "text": [
      " 24%|██▍       | 238/999 [4:51:16<18:55:05, 89.50s/it]"
     ]
    },
    {
     "name": "stdout",
     "output_type": "stream",
     "text": [
      "eigenvalues shape torch.Size([5]) eigenvectors shape torch.Size([5, 1024])\n",
      "238 /home/phdcs2/Hard_Disk/Datasets/Deep-Spectral-Segmentation/data/object-segmentation/ECSSD/features/0240_resized.pth\n",
      "dict_keys(['k', 'indices', 'file', 'id', 'model_name', 'patch_size', 'shape'])\n",
      "0240_resized\n",
      "Starting Training\n",
      "epoch: 00, loss: -0.87490\n",
      "epoch: 01, loss: -0.92495\n",
      "epoch: 02, loss: -0.93768\n",
      "epoch: 03, loss: -0.94490\n",
      "epoch: 04, loss: -0.94974\n",
      "epoch: 05, loss: -0.95339\n",
      "epoch: 06, loss: -0.95610\n",
      "epoch: 07, loss: -0.95837\n",
      "epoch: 08, loss: -0.96038\n",
      "epoch: 09, loss: -0.96202\n",
      "torch.Size([1024, 64])\n"
     ]
    },
    {
     "name": "stderr",
     "output_type": "stream",
     "text": [
      " 24%|██▍       | 239/999 [4:52:40<18:30:21, 87.66s/it]"
     ]
    },
    {
     "name": "stdout",
     "output_type": "stream",
     "text": [
      "eigenvalues shape torch.Size([5]) eigenvectors shape torch.Size([5, 1024])\n",
      "239 /home/phdcs2/Hard_Disk/Datasets/Deep-Spectral-Segmentation/data/object-segmentation/ECSSD/features/0241_resized.pth\n",
      "dict_keys(['k', 'indices', 'file', 'id', 'model_name', 'patch_size', 'shape'])\n",
      "0241_resized\n"
     ]
    },
    {
     "name": "stderr",
     "output_type": "stream",
     "text": [
      "/home/phdcs2/Hard_Disk/Projects/T2I/deep-spectral-segmentation/venv/lib/python3.8/site-packages/sklearn/decomposition/_pca.py:642: RuntimeWarning: invalid value encountered in divide\n",
      "  self.explained_variance_ratio_ = self.explained_variance_ / total_var\n"
     ]
    },
    {
     "name": "stdout",
     "output_type": "stream",
     "text": [
      "Starting Training\n",
      "epoch: 00, loss: -0.93357\n",
      "epoch: 01, loss: -0.96064\n",
      "epoch: 02, loss: -0.96666\n",
      "epoch: 03, loss: -0.97018\n",
      "epoch: 04, loss: -0.97254\n",
      "epoch: 05, loss: -0.97435\n",
      "epoch: 06, loss: -0.97578\n",
      "epoch: 07, loss: -0.97691\n",
      "epoch: 08, loss: -0.97788\n",
      "epoch: 09, loss: -0.97871\n",
      "torch.Size([1024, 64])\n"
     ]
    },
    {
     "name": "stderr",
     "output_type": "stream",
     "text": [
      " 24%|██▍       | 240/999 [4:54:12<18:45:38, 88.98s/it]"
     ]
    },
    {
     "name": "stdout",
     "output_type": "stream",
     "text": [
      "eigenvalues shape torch.Size([5]) eigenvectors shape torch.Size([5, 1024])\n",
      "240 /home/phdcs2/Hard_Disk/Datasets/Deep-Spectral-Segmentation/data/object-segmentation/ECSSD/features/0242_resized.pth\n",
      "dict_keys(['k', 'indices', 'file', 'id', 'model_name', 'patch_size', 'shape'])\n",
      "0242_resized\n",
      "Starting Training\n",
      "epoch: 00, loss: -0.88970\n",
      "epoch: 01, loss: -0.93395\n",
      "epoch: 02, loss: -0.94497\n",
      "epoch: 03, loss: -0.95091\n",
      "epoch: 04, loss: -0.95532\n",
      "epoch: 05, loss: -0.95845\n",
      "epoch: 06, loss: -0.96089\n",
      "epoch: 07, loss: -0.96292\n",
      "epoch: 08, loss: -0.96446\n",
      "epoch: 09, loss: -0.96592\n",
      "torch.Size([1024, 64])\n"
     ]
    },
    {
     "name": "stderr",
     "output_type": "stream",
     "text": [
      " 24%|██▍       | 241/999 [4:55:41<18:44:10, 88.98s/it]"
     ]
    },
    {
     "name": "stdout",
     "output_type": "stream",
     "text": [
      "eigenvalues shape torch.Size([5]) eigenvectors shape torch.Size([5, 1024])\n",
      "241 /home/phdcs2/Hard_Disk/Datasets/Deep-Spectral-Segmentation/data/object-segmentation/ECSSD/features/0243_resized.pth\n",
      "dict_keys(['k', 'indices', 'file', 'id', 'model_name', 'patch_size', 'shape'])\n",
      "0243_resized\n"
     ]
    },
    {
     "name": "stderr",
     "output_type": "stream",
     "text": [
      "/home/phdcs2/Hard_Disk/Projects/T2I/deep-spectral-segmentation/venv/lib/python3.8/site-packages/sklearn/decomposition/_pca.py:642: RuntimeWarning: invalid value encountered in divide\n",
      "  self.explained_variance_ratio_ = self.explained_variance_ / total_var\n"
     ]
    },
    {
     "name": "stdout",
     "output_type": "stream",
     "text": [
      "Starting Training\n",
      "epoch: 00, loss: -0.93129\n",
      "epoch: 01, loss: -0.96269\n",
      "epoch: 02, loss: -0.96907\n",
      "epoch: 03, loss: -0.97265\n",
      "epoch: 04, loss: -0.97510\n",
      "epoch: 05, loss: -0.97688\n",
      "epoch: 06, loss: -0.97825\n",
      "epoch: 07, loss: -0.97939\n",
      "epoch: 08, loss: -0.98032\n",
      "epoch: 09, loss: -0.98110\n",
      "torch.Size([1024, 64])\n"
     ]
    },
    {
     "name": "stderr",
     "output_type": "stream",
     "text": [
      " 24%|██▍       | 242/999 [4:56:59<18:04:37, 85.97s/it]"
     ]
    },
    {
     "name": "stdout",
     "output_type": "stream",
     "text": [
      "eigenvalues shape torch.Size([5]) eigenvectors shape torch.Size([5, 1024])\n",
      "242 /home/phdcs2/Hard_Disk/Datasets/Deep-Spectral-Segmentation/data/object-segmentation/ECSSD/features/0244_resized.pth\n",
      "dict_keys(['k', 'indices', 'file', 'id', 'model_name', 'patch_size', 'shape'])\n",
      "0244_resized\n"
     ]
    },
    {
     "name": "stderr",
     "output_type": "stream",
     "text": [
      "/home/phdcs2/Hard_Disk/Projects/T2I/deep-spectral-segmentation/venv/lib/python3.8/site-packages/sklearn/decomposition/_pca.py:642: RuntimeWarning: invalid value encountered in divide\n",
      "  self.explained_variance_ratio_ = self.explained_variance_ / total_var\n"
     ]
    },
    {
     "name": "stdout",
     "output_type": "stream",
     "text": [
      "Starting Training\n",
      "epoch: 00, loss: -0.91744\n",
      "epoch: 01, loss: -0.95010\n",
      "epoch: 02, loss: -0.95758\n",
      "epoch: 03, loss: -0.96192\n",
      "epoch: 04, loss: -0.96491\n",
      "epoch: 05, loss: -0.96716\n",
      "epoch: 06, loss: -0.96891\n",
      "epoch: 07, loss: -0.97035\n",
      "epoch: 08, loss: -0.97157\n",
      "epoch: 09, loss: -0.97261\n",
      "torch.Size([1024, 64])\n"
     ]
    },
    {
     "name": "stderr",
     "output_type": "stream",
     "text": [
      " 24%|██▍       | 243/999 [4:58:24<17:58:41, 85.61s/it]"
     ]
    },
    {
     "name": "stdout",
     "output_type": "stream",
     "text": [
      "eigenvalues shape torch.Size([5]) eigenvectors shape torch.Size([5, 1024])\n",
      "243 /home/phdcs2/Hard_Disk/Datasets/Deep-Spectral-Segmentation/data/object-segmentation/ECSSD/features/0245_resized.pth\n",
      "dict_keys(['k', 'indices', 'file', 'id', 'model_name', 'patch_size', 'shape'])\n",
      "0245_resized\n",
      "Starting Training\n",
      "epoch: 00, loss: -0.87116\n",
      "epoch: 01, loss: -0.92343\n",
      "epoch: 02, loss: -0.93699\n",
      "epoch: 03, loss: -0.94469\n",
      "epoch: 04, loss: -0.94993\n",
      "epoch: 05, loss: -0.95372\n",
      "epoch: 06, loss: -0.95657\n",
      "epoch: 07, loss: -0.95886\n",
      "epoch: 08, loss: -0.96090\n",
      "epoch: 09, loss: -0.96250\n",
      "torch.Size([1024, 64])\n"
     ]
    },
    {
     "name": "stderr",
     "output_type": "stream",
     "text": [
      " 24%|██▍       | 244/999 [4:59:42<17:26:35, 83.17s/it]"
     ]
    },
    {
     "name": "stdout",
     "output_type": "stream",
     "text": [
      "eigenvalues shape torch.Size([5]) eigenvectors shape torch.Size([5, 1024])\n",
      "244 /home/phdcs2/Hard_Disk/Datasets/Deep-Spectral-Segmentation/data/object-segmentation/ECSSD/features/0246_resized.pth\n",
      "dict_keys(['k', 'indices', 'file', 'id', 'model_name', 'patch_size', 'shape'])\n",
      "0246_resized\n",
      "Starting Training\n",
      "epoch: 00, loss: -0.86135\n",
      "epoch: 01, loss: -0.91970\n",
      "epoch: 02, loss: -0.93408\n",
      "epoch: 03, loss: -0.94238\n",
      "epoch: 04, loss: -0.94763\n",
      "epoch: 05, loss: -0.95152\n",
      "epoch: 06, loss: -0.95471\n",
      "epoch: 07, loss: -0.95710\n",
      "epoch: 08, loss: -0.95916\n",
      "epoch: 09, loss: -0.96096\n",
      "torch.Size([1024, 64])\n"
     ]
    },
    {
     "name": "stderr",
     "output_type": "stream",
     "text": [
      " 25%|██▍       | 245/999 [5:01:06<17:30:23, 83.59s/it]"
     ]
    },
    {
     "name": "stdout",
     "output_type": "stream",
     "text": [
      "eigenvalues shape torch.Size([5]) eigenvectors shape torch.Size([5, 1024])\n",
      "245 /home/phdcs2/Hard_Disk/Datasets/Deep-Spectral-Segmentation/data/object-segmentation/ECSSD/features/0247_resized.pth\n",
      "dict_keys(['k', 'indices', 'file', 'id', 'model_name', 'patch_size', 'shape'])\n",
      "0247_resized\n",
      "Starting Training\n",
      "epoch: 00, loss: -0.86450\n",
      "epoch: 01, loss: -0.91871\n",
      "epoch: 02, loss: -0.93347\n",
      "epoch: 03, loss: -0.94143\n",
      "epoch: 04, loss: -0.94720\n",
      "epoch: 05, loss: -0.95113\n",
      "epoch: 06, loss: -0.95422\n",
      "epoch: 07, loss: -0.95680\n",
      "epoch: 08, loss: -0.95888\n",
      "epoch: 09, loss: -0.96062\n",
      "torch.Size([1024, 64])\n"
     ]
    },
    {
     "name": "stderr",
     "output_type": "stream",
     "text": [
      " 25%|██▍       | 246/999 [5:02:30<17:31:03, 83.75s/it]"
     ]
    },
    {
     "name": "stdout",
     "output_type": "stream",
     "text": [
      "eigenvalues shape torch.Size([5]) eigenvectors shape torch.Size([5, 1024])\n",
      "246 /home/phdcs2/Hard_Disk/Datasets/Deep-Spectral-Segmentation/data/object-segmentation/ECSSD/features/0248_resized.pth\n",
      "dict_keys(['k', 'indices', 'file', 'id', 'model_name', 'patch_size', 'shape'])\n",
      "0248_resized\n",
      "Starting Training\n",
      "epoch: 00, loss: -0.91659\n",
      "epoch: 01, loss: -0.95335\n",
      "epoch: 02, loss: -0.96087\n",
      "epoch: 03, loss: -0.96518\n",
      "epoch: 04, loss: -0.96816\n",
      "epoch: 05, loss: -0.97028\n",
      "epoch: 06, loss: -0.97198\n",
      "epoch: 07, loss: -0.97336\n",
      "epoch: 08, loss: -0.97450\n",
      "epoch: 09, loss: -0.97546\n",
      "torch.Size([1024, 64])\n"
     ]
    },
    {
     "name": "stderr",
     "output_type": "stream",
     "text": [
      " 25%|██▍       | 247/999 [5:03:58<17:44:42, 84.95s/it]"
     ]
    },
    {
     "name": "stdout",
     "output_type": "stream",
     "text": [
      "eigenvalues shape torch.Size([5]) eigenvectors shape torch.Size([5, 1024])\n",
      "247 /home/phdcs2/Hard_Disk/Datasets/Deep-Spectral-Segmentation/data/object-segmentation/ECSSD/features/0249_resized.pth\n",
      "dict_keys(['k', 'indices', 'file', 'id', 'model_name', 'patch_size', 'shape'])\n",
      "0249_resized\n",
      "Starting Training\n",
      "epoch: 00, loss: -0.86416\n",
      "epoch: 01, loss: -0.92584\n",
      "epoch: 02, loss: -0.93936\n",
      "epoch: 03, loss: -0.94696\n",
      "epoch: 04, loss: -0.95184\n",
      "epoch: 05, loss: -0.95547\n",
      "epoch: 06, loss: -0.95842\n",
      "epoch: 07, loss: -0.96068\n",
      "epoch: 08, loss: -0.96256\n",
      "epoch: 09, loss: -0.96414\n",
      "torch.Size([1024, 64])\n"
     ]
    },
    {
     "name": "stderr",
     "output_type": "stream",
     "text": [
      " 25%|██▍       | 248/999 [5:05:16<17:15:39, 82.74s/it]"
     ]
    },
    {
     "name": "stdout",
     "output_type": "stream",
     "text": [
      "eigenvalues shape torch.Size([5]) eigenvectors shape torch.Size([5, 1024])\n",
      "248 /home/phdcs2/Hard_Disk/Datasets/Deep-Spectral-Segmentation/data/object-segmentation/ECSSD/features/0250_resized.pth\n",
      "dict_keys(['k', 'indices', 'file', 'id', 'model_name', 'patch_size', 'shape'])\n",
      "0250_resized\n",
      "Starting Training\n",
      "epoch: 00, loss: -0.91392\n",
      "epoch: 01, loss: -0.94907\n",
      "epoch: 02, loss: -0.95726\n",
      "epoch: 03, loss: -0.96199\n",
      "epoch: 04, loss: -0.96520\n",
      "epoch: 05, loss: -0.96758\n",
      "epoch: 06, loss: -0.96946\n",
      "epoch: 07, loss: -0.97099\n",
      "epoch: 08, loss: -0.97218\n",
      "epoch: 09, loss: -0.97328\n",
      "torch.Size([1024, 64])\n"
     ]
    },
    {
     "name": "stderr",
     "output_type": "stream",
     "text": [
      " 25%|██▍       | 249/999 [5:06:31<16:46:17, 80.50s/it]"
     ]
    },
    {
     "name": "stdout",
     "output_type": "stream",
     "text": [
      "eigenvalues shape torch.Size([5]) eigenvectors shape torch.Size([5, 1024])\n",
      "249 /home/phdcs2/Hard_Disk/Datasets/Deep-Spectral-Segmentation/data/object-segmentation/ECSSD/features/0251_resized.pth\n",
      "dict_keys(['k', 'indices', 'file', 'id', 'model_name', 'patch_size', 'shape'])\n",
      "0251_resized\n",
      "Starting Training\n",
      "epoch: 00, loss: -0.89825\n",
      "epoch: 01, loss: -0.93779\n",
      "epoch: 02, loss: -0.94841\n",
      "epoch: 03, loss: -0.95456\n",
      "epoch: 04, loss: -0.95865\n",
      "epoch: 05, loss: -0.96169\n",
      "epoch: 06, loss: -0.96400\n",
      "epoch: 07, loss: -0.96588\n",
      "epoch: 08, loss: -0.96747\n",
      "epoch: 09, loss: -0.96881\n",
      "torch.Size([1024, 64])\n"
     ]
    },
    {
     "name": "stderr",
     "output_type": "stream",
     "text": [
      " 25%|██▌       | 250/999 [5:07:51<16:44:25, 80.46s/it]"
     ]
    },
    {
     "name": "stdout",
     "output_type": "stream",
     "text": [
      "eigenvalues shape torch.Size([5]) eigenvectors shape torch.Size([5, 1024])\n",
      "250 /home/phdcs2/Hard_Disk/Datasets/Deep-Spectral-Segmentation/data/object-segmentation/ECSSD/features/0252_resized.pth\n",
      "dict_keys(['k', 'indices', 'file', 'id', 'model_name', 'patch_size', 'shape'])\n",
      "0252_resized\n",
      "Starting Training\n",
      "epoch: 00, loss: -0.86616\n",
      "epoch: 01, loss: -0.91930\n",
      "epoch: 02, loss: -0.93301\n",
      "epoch: 03, loss: -0.94103\n",
      "epoch: 04, loss: -0.94642\n",
      "epoch: 05, loss: -0.95035\n",
      "epoch: 06, loss: -0.95351\n",
      "epoch: 07, loss: -0.95601\n",
      "epoch: 08, loss: -0.95801\n",
      "epoch: 09, loss: -0.95973\n",
      "torch.Size([1024, 64])\n"
     ]
    },
    {
     "name": "stderr",
     "output_type": "stream",
     "text": [
      " 25%|██▌       | 251/999 [5:09:12<16:42:43, 80.43s/it]"
     ]
    },
    {
     "name": "stdout",
     "output_type": "stream",
     "text": [
      "eigenvalues shape torch.Size([5]) eigenvectors shape torch.Size([5, 1024])\n",
      "251 /home/phdcs2/Hard_Disk/Datasets/Deep-Spectral-Segmentation/data/object-segmentation/ECSSD/features/0253_resized.pth\n",
      "dict_keys(['k', 'indices', 'file', 'id', 'model_name', 'patch_size', 'shape'])\n",
      "0253_resized\n"
     ]
    },
    {
     "name": "stderr",
     "output_type": "stream",
     "text": [
      "/home/phdcs2/Hard_Disk/Projects/T2I/deep-spectral-segmentation/venv/lib/python3.8/site-packages/sklearn/decomposition/_pca.py:642: RuntimeWarning: invalid value encountered in divide\n",
      "  self.explained_variance_ratio_ = self.explained_variance_ / total_var\n"
     ]
    },
    {
     "name": "stdout",
     "output_type": "stream",
     "text": [
      "Starting Training\n",
      "epoch: 00, loss: -0.91387\n",
      "epoch: 01, loss: -0.94972\n",
      "epoch: 02, loss: -0.95740\n",
      "epoch: 03, loss: -0.96183\n",
      "epoch: 04, loss: -0.96483\n",
      "epoch: 05, loss: -0.96709\n",
      "epoch: 06, loss: -0.96889\n",
      "epoch: 07, loss: -0.97032\n",
      "epoch: 08, loss: -0.97154\n",
      "epoch: 09, loss: -0.97258\n",
      "torch.Size([1024, 64])\n"
     ]
    },
    {
     "name": "stderr",
     "output_type": "stream",
     "text": [
      " 25%|██▌       | 252/999 [5:10:14<15:33:57, 75.02s/it]"
     ]
    },
    {
     "name": "stdout",
     "output_type": "stream",
     "text": [
      "eigenvalues shape torch.Size([5]) eigenvectors shape torch.Size([5, 1024])\n",
      "252 /home/phdcs2/Hard_Disk/Datasets/Deep-Spectral-Segmentation/data/object-segmentation/ECSSD/features/0254_resized.pth\n",
      "dict_keys(['k', 'indices', 'file', 'id', 'model_name', 'patch_size', 'shape'])\n",
      "0254_resized\n",
      "Starting Training\n",
      "epoch: 00, loss: -0.87744\n",
      "epoch: 01, loss: -0.92724\n",
      "epoch: 02, loss: -0.94006\n",
      "epoch: 03, loss: -0.94739\n",
      "epoch: 04, loss: -0.95245\n",
      "epoch: 05, loss: -0.95619\n",
      "epoch: 06, loss: -0.95887\n",
      "epoch: 07, loss: -0.96124\n",
      "epoch: 08, loss: -0.96322\n",
      "epoch: 09, loss: -0.96487\n",
      "torch.Size([1024, 64])\n"
     ]
    },
    {
     "name": "stderr",
     "output_type": "stream",
     "text": [
      " 25%|██▌       | 253/999 [5:11:20<14:59:15, 72.33s/it]"
     ]
    },
    {
     "name": "stdout",
     "output_type": "stream",
     "text": [
      "eigenvalues shape torch.Size([5]) eigenvectors shape torch.Size([5, 1024])\n",
      "253 /home/phdcs2/Hard_Disk/Datasets/Deep-Spectral-Segmentation/data/object-segmentation/ECSSD/features/0255_resized.pth\n",
      "dict_keys(['k', 'indices', 'file', 'id', 'model_name', 'patch_size', 'shape'])\n",
      "0255_resized\n",
      "Starting Training\n",
      "epoch: 00, loss: -0.88574\n",
      "epoch: 01, loss: -0.93011\n",
      "epoch: 02, loss: -0.94195\n",
      "epoch: 03, loss: -0.94881\n",
      "epoch: 04, loss: -0.95323\n",
      "epoch: 05, loss: -0.95658\n",
      "epoch: 06, loss: -0.95912\n",
      "epoch: 07, loss: -0.96126\n",
      "epoch: 08, loss: -0.96298\n",
      "epoch: 09, loss: -0.96457\n",
      "torch.Size([1024, 64])\n"
     ]
    },
    {
     "name": "stderr",
     "output_type": "stream",
     "text": [
      " 25%|██▌       | 254/999 [5:12:20<14:09:59, 68.46s/it]"
     ]
    },
    {
     "name": "stdout",
     "output_type": "stream",
     "text": [
      "eigenvalues shape torch.Size([5]) eigenvectors shape torch.Size([5, 1024])\n",
      "254 /home/phdcs2/Hard_Disk/Datasets/Deep-Spectral-Segmentation/data/object-segmentation/ECSSD/features/0256_resized.pth\n",
      "dict_keys(['k', 'indices', 'file', 'id', 'model_name', 'patch_size', 'shape'])\n",
      "0256_resized\n",
      "Starting Training\n",
      "epoch: 00, loss: -0.94563\n",
      "epoch: 01, loss: -0.96913\n",
      "epoch: 02, loss: -0.97372\n",
      "epoch: 03, loss: -0.97642\n",
      "epoch: 04, loss: -0.97827\n",
      "epoch: 05, loss: -0.97967\n",
      "epoch: 06, loss: -0.98075\n",
      "epoch: 07, loss: -0.98165\n",
      "epoch: 08, loss: -0.98239\n",
      "epoch: 09, loss: -0.98302\n",
      "torch.Size([1024, 64])\n"
     ]
    },
    {
     "name": "stderr",
     "output_type": "stream",
     "text": [
      " 26%|██▌       | 255/999 [5:13:19<13:33:30, 65.61s/it]"
     ]
    },
    {
     "name": "stdout",
     "output_type": "stream",
     "text": [
      "eigenvalues shape torch.Size([5]) eigenvectors shape torch.Size([5, 1024])\n",
      "255 /home/phdcs2/Hard_Disk/Datasets/Deep-Spectral-Segmentation/data/object-segmentation/ECSSD/features/0257_resized.pth\n",
      "dict_keys(['k', 'indices', 'file', 'id', 'model_name', 'patch_size', 'shape'])\n",
      "0257_resized\n",
      "Starting Training\n",
      "epoch: 00, loss: -0.91837\n",
      "epoch: 01, loss: -0.95041\n",
      "epoch: 02, loss: -0.95806\n",
      "epoch: 03, loss: -0.96250\n",
      "epoch: 04, loss: -0.96558\n",
      "epoch: 05, loss: -0.96786\n",
      "epoch: 06, loss: -0.96965\n",
      "epoch: 07, loss: -0.97112\n",
      "epoch: 08, loss: -0.97235\n",
      "epoch: 09, loss: -0.97340\n",
      "torch.Size([1024, 64])\n"
     ]
    },
    {
     "name": "stderr",
     "output_type": "stream",
     "text": [
      " 26%|██▌       | 256/999 [5:14:22<13:24:24, 64.96s/it]"
     ]
    },
    {
     "name": "stdout",
     "output_type": "stream",
     "text": [
      "eigenvalues shape torch.Size([5]) eigenvectors shape torch.Size([5, 1024])\n",
      "256 /home/phdcs2/Hard_Disk/Datasets/Deep-Spectral-Segmentation/data/object-segmentation/ECSSD/features/0258_resized.pth\n",
      "dict_keys(['k', 'indices', 'file', 'id', 'model_name', 'patch_size', 'shape'])\n",
      "0258_resized\n"
     ]
    },
    {
     "name": "stderr",
     "output_type": "stream",
     "text": [
      "/home/phdcs2/Hard_Disk/Projects/T2I/deep-spectral-segmentation/venv/lib/python3.8/site-packages/sklearn/decomposition/_pca.py:642: RuntimeWarning: invalid value encountered in divide\n",
      "  self.explained_variance_ratio_ = self.explained_variance_ / total_var\n"
     ]
    },
    {
     "name": "stdout",
     "output_type": "stream",
     "text": [
      "Starting Training\n",
      "epoch: 00, loss: -0.92901\n",
      "epoch: 01, loss: -0.95653\n",
      "epoch: 02, loss: -0.96336\n",
      "epoch: 03, loss: -0.96731\n",
      "epoch: 04, loss: -0.96998\n",
      "epoch: 05, loss: -0.97201\n",
      "epoch: 06, loss: -0.97358\n",
      "epoch: 07, loss: -0.97487\n",
      "epoch: 08, loss: -0.97592\n",
      "epoch: 09, loss: -0.97686\n",
      "torch.Size([1024, 64])\n"
     ]
    },
    {
     "name": "stderr",
     "output_type": "stream",
     "text": [
      " 26%|██▌       | 257/999 [5:15:39<14:06:42, 68.47s/it]"
     ]
    },
    {
     "name": "stdout",
     "output_type": "stream",
     "text": [
      "eigenvalues shape torch.Size([5]) eigenvectors shape torch.Size([5, 1024])\n",
      "257 /home/phdcs2/Hard_Disk/Datasets/Deep-Spectral-Segmentation/data/object-segmentation/ECSSD/features/0259_resized.pth\n",
      "dict_keys(['k', 'indices', 'file', 'id', 'model_name', 'patch_size', 'shape'])\n",
      "0259_resized\n"
     ]
    },
    {
     "name": "stderr",
     "output_type": "stream",
     "text": [
      "/home/phdcs2/Hard_Disk/Projects/T2I/deep-spectral-segmentation/venv/lib/python3.8/site-packages/sklearn/decomposition/_pca.py:642: RuntimeWarning: invalid value encountered in divide\n",
      "  self.explained_variance_ratio_ = self.explained_variance_ / total_var\n"
     ]
    },
    {
     "name": "stdout",
     "output_type": "stream",
     "text": [
      "Starting Training\n",
      "epoch: 00, loss: -0.92419\n",
      "epoch: 01, loss: -0.95558\n",
      "epoch: 02, loss: -0.96242\n",
      "epoch: 03, loss: -0.96645\n",
      "epoch: 04, loss: -0.96919\n",
      "epoch: 05, loss: -0.97124\n",
      "epoch: 06, loss: -0.97286\n",
      "epoch: 07, loss: -0.97415\n",
      "epoch: 08, loss: -0.97525\n",
      "epoch: 09, loss: -0.97619\n",
      "torch.Size([1024, 64])\n"
     ]
    },
    {
     "name": "stderr",
     "output_type": "stream",
     "text": [
      " 26%|██▌       | 258/999 [5:16:51<14:18:15, 69.49s/it]"
     ]
    },
    {
     "name": "stdout",
     "output_type": "stream",
     "text": [
      "eigenvalues shape torch.Size([5]) eigenvectors shape torch.Size([5, 1024])\n",
      "258 /home/phdcs2/Hard_Disk/Datasets/Deep-Spectral-Segmentation/data/object-segmentation/ECSSD/features/0260_resized.pth\n",
      "dict_keys(['k', 'indices', 'file', 'id', 'model_name', 'patch_size', 'shape'])\n",
      "0260_resized\n",
      "Starting Training\n",
      "epoch: 00, loss: -0.93272\n",
      "epoch: 01, loss: -0.95802\n",
      "epoch: 02, loss: -0.96467\n",
      "epoch: 03, loss: -0.96866\n",
      "epoch: 04, loss: -0.97140\n",
      "epoch: 05, loss: -0.97347\n",
      "epoch: 06, loss: -0.97509\n",
      "epoch: 07, loss: -0.97641\n",
      "epoch: 08, loss: -0.97752\n",
      "epoch: 09, loss: -0.97848\n",
      "torch.Size([1024, 64])\n"
     ]
    },
    {
     "name": "stderr",
     "output_type": "stream",
     "text": [
      " 26%|██▌       | 259/999 [5:18:00<14:16:15, 69.43s/it]"
     ]
    },
    {
     "name": "stdout",
     "output_type": "stream",
     "text": [
      "eigenvalues shape torch.Size([5]) eigenvectors shape torch.Size([5, 1024])\n",
      "259 /home/phdcs2/Hard_Disk/Datasets/Deep-Spectral-Segmentation/data/object-segmentation/ECSSD/features/0261_resized.pth\n",
      "dict_keys(['k', 'indices', 'file', 'id', 'model_name', 'patch_size', 'shape'])\n",
      "0261_resized\n",
      "Starting Training\n",
      "epoch: 00, loss: -0.87027\n",
      "epoch: 01, loss: -0.92332\n",
      "epoch: 02, loss: -0.93626\n",
      "epoch: 03, loss: -0.94353\n",
      "epoch: 04, loss: -0.94871\n",
      "epoch: 05, loss: -0.95232\n",
      "epoch: 06, loss: -0.95527\n",
      "epoch: 07, loss: -0.95747\n",
      "epoch: 08, loss: -0.95947\n",
      "epoch: 09, loss: -0.96109\n",
      "torch.Size([1024, 64])\n"
     ]
    },
    {
     "name": "stderr",
     "output_type": "stream",
     "text": [
      " 26%|██▌       | 260/999 [5:19:07<14:07:39, 68.82s/it]"
     ]
    },
    {
     "name": "stdout",
     "output_type": "stream",
     "text": [
      "eigenvalues shape torch.Size([5]) eigenvectors shape torch.Size([5, 1024])\n",
      "260 /home/phdcs2/Hard_Disk/Datasets/Deep-Spectral-Segmentation/data/object-segmentation/ECSSD/features/0262_resized.pth\n",
      "dict_keys(['k', 'indices', 'file', 'id', 'model_name', 'patch_size', 'shape'])\n",
      "0262_resized\n"
     ]
    },
    {
     "name": "stderr",
     "output_type": "stream",
     "text": [
      "/home/phdcs2/Hard_Disk/Projects/T2I/deep-spectral-segmentation/venv/lib/python3.8/site-packages/sklearn/decomposition/_pca.py:642: RuntimeWarning: invalid value encountered in divide\n",
      "  self.explained_variance_ratio_ = self.explained_variance_ / total_var\n"
     ]
    },
    {
     "name": "stdout",
     "output_type": "stream",
     "text": [
      "Starting Training\n",
      "epoch: 00, loss: -0.92748\n",
      "epoch: 01, loss: -0.95684\n",
      "epoch: 02, loss: -0.96356\n",
      "epoch: 03, loss: -0.96744\n",
      "epoch: 04, loss: -0.97006\n",
      "epoch: 05, loss: -0.97202\n",
      "epoch: 06, loss: -0.97355\n",
      "epoch: 07, loss: -0.97478\n",
      "epoch: 08, loss: -0.97583\n",
      "epoch: 09, loss: -0.97673\n",
      "torch.Size([1024, 64])\n"
     ]
    },
    {
     "name": "stderr",
     "output_type": "stream",
     "text": [
      " 26%|██▌       | 261/999 [5:20:19<14:15:47, 69.58s/it]"
     ]
    },
    {
     "name": "stdout",
     "output_type": "stream",
     "text": [
      "eigenvalues shape torch.Size([5]) eigenvectors shape torch.Size([5, 1024])\n",
      "261 /home/phdcs2/Hard_Disk/Datasets/Deep-Spectral-Segmentation/data/object-segmentation/ECSSD/features/0263_resized.pth\n",
      "dict_keys(['k', 'indices', 'file', 'id', 'model_name', 'patch_size', 'shape'])\n",
      "0263_resized\n",
      "Starting Training\n",
      "epoch: 00, loss: -0.87789\n",
      "epoch: 01, loss: -0.92943\n",
      "epoch: 02, loss: -0.94245\n",
      "epoch: 03, loss: -0.94962\n",
      "epoch: 04, loss: -0.95424\n",
      "epoch: 05, loss: -0.95775\n",
      "epoch: 06, loss: -0.96040\n",
      "epoch: 07, loss: -0.96255\n",
      "epoch: 08, loss: -0.96432\n",
      "epoch: 09, loss: -0.96582\n",
      "torch.Size([1024, 64])\n"
     ]
    },
    {
     "name": "stderr",
     "output_type": "stream",
     "text": [
      " 26%|██▌       | 262/999 [5:21:29<14:16:42, 69.75s/it]"
     ]
    },
    {
     "name": "stdout",
     "output_type": "stream",
     "text": [
      "eigenvalues shape torch.Size([5]) eigenvectors shape torch.Size([5, 1024])\n",
      "262 /home/phdcs2/Hard_Disk/Datasets/Deep-Spectral-Segmentation/data/object-segmentation/ECSSD/features/0264_resized.pth\n",
      "dict_keys(['k', 'indices', 'file', 'id', 'model_name', 'patch_size', 'shape'])\n",
      "0264_resized\n"
     ]
    },
    {
     "name": "stderr",
     "output_type": "stream",
     "text": [
      "/home/phdcs2/Hard_Disk/Projects/T2I/deep-spectral-segmentation/venv/lib/python3.8/site-packages/sklearn/decomposition/_pca.py:642: RuntimeWarning: invalid value encountered in divide\n",
      "  self.explained_variance_ratio_ = self.explained_variance_ / total_var\n"
     ]
    },
    {
     "name": "stdout",
     "output_type": "stream",
     "text": [
      "Starting Training\n",
      "epoch: 00, loss: -0.93302\n",
      "epoch: 01, loss: -0.96225\n",
      "epoch: 02, loss: -0.96834\n",
      "epoch: 03, loss: -0.97181\n",
      "epoch: 04, loss: -0.97416\n",
      "epoch: 05, loss: -0.97589\n",
      "epoch: 06, loss: -0.97723\n",
      "epoch: 07, loss: -0.97833\n",
      "epoch: 08, loss: -0.97927\n",
      "epoch: 09, loss: -0.98004\n",
      "torch.Size([1024, 64])\n"
     ]
    },
    {
     "name": "stderr",
     "output_type": "stream",
     "text": [
      " 26%|██▋       | 263/999 [5:22:43<14:30:42, 70.98s/it]"
     ]
    },
    {
     "name": "stdout",
     "output_type": "stream",
     "text": [
      "eigenvalues shape torch.Size([5]) eigenvectors shape torch.Size([5, 1024])\n",
      "263 /home/phdcs2/Hard_Disk/Datasets/Deep-Spectral-Segmentation/data/object-segmentation/ECSSD/features/0265_resized.pth\n",
      "dict_keys(['k', 'indices', 'file', 'id', 'model_name', 'patch_size', 'shape'])\n",
      "0265_resized\n"
     ]
    },
    {
     "name": "stderr",
     "output_type": "stream",
     "text": [
      "/home/phdcs2/Hard_Disk/Projects/T2I/deep-spectral-segmentation/venv/lib/python3.8/site-packages/sklearn/decomposition/_pca.py:642: RuntimeWarning: invalid value encountered in divide\n",
      "  self.explained_variance_ratio_ = self.explained_variance_ / total_var\n"
     ]
    },
    {
     "name": "stdout",
     "output_type": "stream",
     "text": [
      "Starting Training\n",
      "epoch: 00, loss: -0.91736\n",
      "epoch: 01, loss: -0.94934\n",
      "epoch: 02, loss: -0.95731\n",
      "epoch: 03, loss: -0.96197\n",
      "epoch: 04, loss: -0.96515\n",
      "epoch: 05, loss: -0.96753\n",
      "epoch: 06, loss: -0.96940\n",
      "epoch: 07, loss: -0.97089\n",
      "epoch: 08, loss: -0.97217\n",
      "epoch: 09, loss: -0.97326\n",
      "torch.Size([1024, 64])\n"
     ]
    },
    {
     "name": "stderr",
     "output_type": "stream",
     "text": [
      " 26%|██▋       | 264/999 [5:24:04<15:06:07, 73.97s/it]"
     ]
    },
    {
     "name": "stdout",
     "output_type": "stream",
     "text": [
      "eigenvalues shape torch.Size([5]) eigenvectors shape torch.Size([5, 1024])\n",
      "264 /home/phdcs2/Hard_Disk/Datasets/Deep-Spectral-Segmentation/data/object-segmentation/ECSSD/features/0266_resized.pth\n",
      "dict_keys(['k', 'indices', 'file', 'id', 'model_name', 'patch_size', 'shape'])\n",
      "0266_resized\n",
      "Starting Training\n",
      "epoch: 00, loss: -0.87068\n",
      "epoch: 01, loss: -0.92128\n",
      "epoch: 02, loss: -0.93500\n",
      "epoch: 03, loss: -0.94275\n",
      "epoch: 04, loss: -0.94805\n",
      "epoch: 05, loss: -0.95189\n",
      "epoch: 06, loss: -0.95478\n",
      "epoch: 07, loss: -0.95721\n",
      "epoch: 08, loss: -0.95925\n",
      "epoch: 09, loss: -0.96101\n",
      "torch.Size([1024, 64])\n"
     ]
    },
    {
     "name": "stderr",
     "output_type": "stream",
     "text": [
      " 27%|██▋       | 265/999 [5:25:25<15:31:36, 76.15s/it]"
     ]
    },
    {
     "name": "stdout",
     "output_type": "stream",
     "text": [
      "eigenvalues shape torch.Size([5]) eigenvectors shape torch.Size([5, 1024])\n",
      "265 /home/phdcs2/Hard_Disk/Datasets/Deep-Spectral-Segmentation/data/object-segmentation/ECSSD/features/0267_resized.pth\n",
      "dict_keys(['k', 'indices', 'file', 'id', 'model_name', 'patch_size', 'shape'])\n",
      "0267_resized\n"
     ]
    },
    {
     "name": "stderr",
     "output_type": "stream",
     "text": [
      "/home/phdcs2/Hard_Disk/Projects/T2I/deep-spectral-segmentation/venv/lib/python3.8/site-packages/sklearn/decomposition/_pca.py:642: RuntimeWarning: invalid value encountered in divide\n",
      "  self.explained_variance_ratio_ = self.explained_variance_ / total_var\n"
     ]
    },
    {
     "name": "stdout",
     "output_type": "stream",
     "text": [
      "Starting Training\n",
      "epoch: 00, loss: -0.91644\n",
      "epoch: 01, loss: -0.95006\n",
      "epoch: 02, loss: -0.95784\n",
      "epoch: 03, loss: -0.96231\n",
      "epoch: 04, loss: -0.96538\n",
      "epoch: 05, loss: -0.96765\n",
      "epoch: 06, loss: -0.96942\n",
      "epoch: 07, loss: -0.97087\n",
      "epoch: 08, loss: -0.97208\n",
      "epoch: 09, loss: -0.97312\n",
      "torch.Size([1024, 64])\n"
     ]
    },
    {
     "name": "stderr",
     "output_type": "stream",
     "text": [
      " 27%|██▋       | 266/999 [5:26:47<15:50:54, 77.84s/it]"
     ]
    },
    {
     "name": "stdout",
     "output_type": "stream",
     "text": [
      "eigenvalues shape torch.Size([5]) eigenvectors shape torch.Size([5, 1024])\n",
      "266 /home/phdcs2/Hard_Disk/Datasets/Deep-Spectral-Segmentation/data/object-segmentation/ECSSD/features/0268_resized.pth\n",
      "dict_keys(['k', 'indices', 'file', 'id', 'model_name', 'patch_size', 'shape'])\n",
      "0268_resized\n",
      "Starting Training\n",
      "epoch: 00, loss: -0.86584\n",
      "epoch: 01, loss: -0.92113\n",
      "epoch: 02, loss: -0.93534\n",
      "epoch: 03, loss: -0.94381\n",
      "epoch: 04, loss: -0.94916\n",
      "epoch: 05, loss: -0.95314\n",
      "epoch: 06, loss: -0.95628\n",
      "epoch: 07, loss: -0.95874\n",
      "epoch: 08, loss: -0.96079\n",
      "epoch: 09, loss: -0.96257\n",
      "torch.Size([1024, 64])\n"
     ]
    },
    {
     "name": "stderr",
     "output_type": "stream",
     "text": [
      " 27%|██▋       | 267/999 [5:28:06<15:56:53, 78.43s/it]"
     ]
    },
    {
     "name": "stdout",
     "output_type": "stream",
     "text": [
      "eigenvalues shape torch.Size([5]) eigenvectors shape torch.Size([5, 1024])\n",
      "267 /home/phdcs2/Hard_Disk/Datasets/Deep-Spectral-Segmentation/data/object-segmentation/ECSSD/features/0269_resized.pth\n",
      "dict_keys(['k', 'indices', 'file', 'id', 'model_name', 'patch_size', 'shape'])\n",
      "0269_resized\n"
     ]
    },
    {
     "name": "stderr",
     "output_type": "stream",
     "text": [
      "/home/phdcs2/Hard_Disk/Projects/T2I/deep-spectral-segmentation/venv/lib/python3.8/site-packages/sklearn/decomposition/_pca.py:642: RuntimeWarning: invalid value encountered in divide\n",
      "  self.explained_variance_ratio_ = self.explained_variance_ / total_var\n"
     ]
    },
    {
     "name": "stdout",
     "output_type": "stream",
     "text": [
      "Starting Training\n",
      "epoch: 00, loss: -0.92910\n",
      "epoch: 01, loss: -0.95905\n",
      "epoch: 02, loss: -0.96550\n",
      "epoch: 03, loss: -0.96921\n",
      "epoch: 04, loss: -0.97175\n",
      "epoch: 05, loss: -0.97363\n",
      "epoch: 06, loss: -0.97509\n",
      "epoch: 07, loss: -0.97631\n",
      "epoch: 08, loss: -0.97730\n",
      "epoch: 09, loss: -0.97818\n",
      "torch.Size([1024, 64])\n"
     ]
    },
    {
     "name": "stderr",
     "output_type": "stream",
     "text": [
      " 27%|██▋       | 268/999 [5:29:35<16:31:57, 81.42s/it]"
     ]
    },
    {
     "name": "stdout",
     "output_type": "stream",
     "text": [
      "eigenvalues shape torch.Size([5]) eigenvectors shape torch.Size([5, 1024])\n",
      "268 /home/phdcs2/Hard_Disk/Datasets/Deep-Spectral-Segmentation/data/object-segmentation/ECSSD/features/0270_resized.pth\n",
      "dict_keys(['k', 'indices', 'file', 'id', 'model_name', 'patch_size', 'shape'])\n",
      "0270_resized\n",
      "Starting Training\n",
      "epoch: 00, loss: -0.88125\n",
      "epoch: 01, loss: -0.93003\n",
      "epoch: 02, loss: -0.94205\n",
      "epoch: 03, loss: -0.94881\n",
      "epoch: 04, loss: -0.95338\n",
      "epoch: 05, loss: -0.95671\n",
      "epoch: 06, loss: -0.95930\n",
      "epoch: 07, loss: -0.96146\n",
      "epoch: 08, loss: -0.96336\n",
      "epoch: 09, loss: -0.96476\n",
      "torch.Size([1024, 64])\n"
     ]
    },
    {
     "name": "stderr",
     "output_type": "stream",
     "text": [
      " 27%|██▋       | 269/999 [5:30:59<16:39:11, 82.13s/it]"
     ]
    },
    {
     "name": "stdout",
     "output_type": "stream",
     "text": [
      "eigenvalues shape torch.Size([5]) eigenvectors shape torch.Size([5, 1024])\n",
      "269 /home/phdcs2/Hard_Disk/Datasets/Deep-Spectral-Segmentation/data/object-segmentation/ECSSD/features/0271_resized.pth\n",
      "dict_keys(['k', 'indices', 'file', 'id', 'model_name', 'patch_size', 'shape'])\n",
      "0271_resized\n",
      "Starting Training\n",
      "epoch: 00, loss: -0.89047\n",
      "epoch: 01, loss: -0.93509\n",
      "epoch: 02, loss: -0.94598\n",
      "epoch: 03, loss: -0.95198\n",
      "epoch: 04, loss: -0.95618\n",
      "epoch: 05, loss: -0.95918\n",
      "epoch: 06, loss: -0.96153\n",
      "epoch: 07, loss: -0.96354\n",
      "epoch: 08, loss: -0.96516\n",
      "epoch: 09, loss: -0.96647\n",
      "torch.Size([1024, 64])\n"
     ]
    },
    {
     "name": "stderr",
     "output_type": "stream",
     "text": [
      " 27%|██▋       | 270/999 [5:32:15<16:15:21, 80.28s/it]"
     ]
    },
    {
     "name": "stdout",
     "output_type": "stream",
     "text": [
      "eigenvalues shape torch.Size([5]) eigenvectors shape torch.Size([5, 1024])\n",
      "270 /home/phdcs2/Hard_Disk/Datasets/Deep-Spectral-Segmentation/data/object-segmentation/ECSSD/features/0272_resized.pth\n",
      "dict_keys(['k', 'indices', 'file', 'id', 'model_name', 'patch_size', 'shape'])\n",
      "0272_resized\n",
      "Starting Training\n",
      "epoch: 00, loss: -0.87103\n",
      "epoch: 01, loss: -0.92519\n",
      "epoch: 02, loss: -0.93854\n",
      "epoch: 03, loss: -0.94626\n",
      "epoch: 04, loss: -0.95150\n",
      "epoch: 05, loss: -0.95531\n",
      "epoch: 06, loss: -0.95831\n",
      "epoch: 07, loss: -0.96059\n",
      "epoch: 08, loss: -0.96263\n",
      "epoch: 09, loss: -0.96430\n",
      "torch.Size([1024, 64])\n"
     ]
    },
    {
     "name": "stderr",
     "output_type": "stream",
     "text": [
      " 27%|██▋       | 271/999 [5:33:42<16:39:42, 82.39s/it]"
     ]
    },
    {
     "name": "stdout",
     "output_type": "stream",
     "text": [
      "eigenvalues shape torch.Size([5]) eigenvectors shape torch.Size([5, 1024])\n",
      "271 /home/phdcs2/Hard_Disk/Datasets/Deep-Spectral-Segmentation/data/object-segmentation/ECSSD/features/0273_resized.pth\n",
      "dict_keys(['k', 'indices', 'file', 'id', 'model_name', 'patch_size', 'shape'])\n",
      "0273_resized\n",
      "Starting Training\n",
      "epoch: 00, loss: -0.88215\n",
      "epoch: 01, loss: -0.93032\n",
      "epoch: 02, loss: -0.94248\n",
      "epoch: 03, loss: -0.94929\n",
      "epoch: 04, loss: -0.95398\n",
      "epoch: 05, loss: -0.95730\n",
      "epoch: 06, loss: -0.95990\n",
      "epoch: 07, loss: -0.96206\n",
      "epoch: 08, loss: -0.96391\n",
      "epoch: 09, loss: -0.96529\n",
      "torch.Size([1024, 64])\n"
     ]
    },
    {
     "name": "stderr",
     "output_type": "stream",
     "text": [
      " 27%|██▋       | 272/999 [5:35:07<16:49:05, 83.28s/it]"
     ]
    },
    {
     "name": "stdout",
     "output_type": "stream",
     "text": [
      "eigenvalues shape torch.Size([5]) eigenvectors shape torch.Size([5, 1024])\n",
      "272 /home/phdcs2/Hard_Disk/Datasets/Deep-Spectral-Segmentation/data/object-segmentation/ECSSD/features/0274_resized.pth\n",
      "dict_keys(['k', 'indices', 'file', 'id', 'model_name', 'patch_size', 'shape'])\n",
      "0274_resized\n",
      "Starting Training\n",
      "epoch: 00, loss: -0.88796\n",
      "epoch: 01, loss: -0.93290\n",
      "epoch: 02, loss: -0.94381\n",
      "epoch: 03, loss: -0.95024\n",
      "epoch: 04, loss: -0.95454\n",
      "epoch: 05, loss: -0.95775\n",
      "epoch: 06, loss: -0.96023\n",
      "epoch: 07, loss: -0.96223\n",
      "epoch: 08, loss: -0.96396\n",
      "epoch: 09, loss: -0.96542\n",
      "torch.Size([1024, 64])\n"
     ]
    },
    {
     "name": "stderr",
     "output_type": "stream",
     "text": [
      " 27%|██▋       | 273/999 [5:36:35<17:02:34, 84.51s/it]"
     ]
    },
    {
     "name": "stdout",
     "output_type": "stream",
     "text": [
      "eigenvalues shape torch.Size([5]) eigenvectors shape torch.Size([5, 1024])\n",
      "273 /home/phdcs2/Hard_Disk/Datasets/Deep-Spectral-Segmentation/data/object-segmentation/ECSSD/features/0275_resized.pth\n",
      "dict_keys(['k', 'indices', 'file', 'id', 'model_name', 'patch_size', 'shape'])\n",
      "0275_resized\n",
      "epoch: 00, loss: -0.89646\n",
      "epoch: 01, loss: -0.93796\n",
      "epoch: 02, loss: -0.94853\n",
      "epoch: 03, loss: -0.95456\n",
      "epoch: 04, loss: -0.95864\n",
      "epoch: 05, loss: -0.96172\n",
      "epoch: 06, loss: -0.96404\n",
      "epoch: 07, loss: -0.96593\n",
      "epoch: 08, loss: -0.96752\n",
      "epoch: 09, loss: -0.96884\n",
      "torch.Size([1024, 64])\n"
     ]
    },
    {
     "name": "stderr",
     "output_type": "stream",
     "text": [
      " 29%|██▉       | 288/999 [5:56:35<13:55:25, 70.50s/it]"
     ]
    },
    {
     "name": "stdout",
     "output_type": "stream",
     "text": [
      "eigenvalues shape torch.Size([5]) eigenvectors shape torch.Size([5, 1024])\n",
      "288 /home/phdcs2/Hard_Disk/Datasets/Deep-Spectral-Segmentation/data/object-segmentation/ECSSD/features/0290_resized.pth\n",
      "dict_keys(['k', 'indices', 'file', 'id', 'model_name', 'patch_size', 'shape'])\n",
      "0290_resized\n",
      "Starting Training\n",
      "epoch: 00, loss: -0.88051\n",
      "epoch: 01, loss: -0.93094\n",
      "epoch: 02, loss: -0.94258\n",
      "epoch: 03, loss: -0.94936\n",
      "epoch: 04, loss: -0.95408\n",
      "epoch: 05, loss: -0.95734\n",
      "epoch: 06, loss: -0.96005\n",
      "epoch: 07, loss: -0.96211\n",
      "epoch: 08, loss: -0.96390\n",
      "epoch: 09, loss: -0.96533\n",
      "torch.Size([1024, 64])\n"
     ]
    },
    {
     "name": "stderr",
     "output_type": "stream",
     "text": [
      " 29%|██▉       | 289/999 [5:57:48<14:03:51, 71.31s/it]"
     ]
    },
    {
     "name": "stdout",
     "output_type": "stream",
     "text": [
      "eigenvalues shape torch.Size([5]) eigenvectors shape torch.Size([5, 1024])\n",
      "289 /home/phdcs2/Hard_Disk/Datasets/Deep-Spectral-Segmentation/data/object-segmentation/ECSSD/features/0291_resized.pth\n",
      "dict_keys(['k', 'indices', 'file', 'id', 'model_name', 'patch_size', 'shape'])\n",
      "0291_resized\n",
      "Starting Training\n",
      "epoch: 00, loss: -0.88287\n",
      "epoch: 01, loss: -0.93389\n",
      "epoch: 02, loss: -0.94592\n",
      "epoch: 03, loss: -0.95249\n",
      "epoch: 04, loss: -0.95684\n",
      "epoch: 05, loss: -0.96011\n",
      "epoch: 06, loss: -0.96250\n",
      "epoch: 07, loss: -0.96458\n",
      "epoch: 08, loss: -0.96613\n",
      "epoch: 09, loss: -0.96757\n",
      "torch.Size([1024, 64])\n"
     ]
    },
    {
     "name": "stderr",
     "output_type": "stream",
     "text": [
      " 29%|██▉       | 290/999 [5:59:01<14:08:09, 71.78s/it]"
     ]
    },
    {
     "name": "stdout",
     "output_type": "stream",
     "text": [
      "eigenvalues shape torch.Size([5]) eigenvectors shape torch.Size([5, 1024])\n",
      "290 /home/phdcs2/Hard_Disk/Datasets/Deep-Spectral-Segmentation/data/object-segmentation/ECSSD/features/0292_resized.pth\n",
      "dict_keys(['k', 'indices', 'file', 'id', 'model_name', 'patch_size', 'shape'])\n",
      "0292_resized\n",
      "Starting Training\n",
      "epoch: 00, loss: -0.86322\n",
      "epoch: 01, loss: -0.91916\n",
      "epoch: 02, loss: -0.93297\n",
      "epoch: 03, loss: -0.94074\n",
      "epoch: 04, loss: -0.94599\n",
      "epoch: 05, loss: -0.94996\n",
      "epoch: 06, loss: -0.95315\n",
      "epoch: 07, loss: -0.95551\n",
      "epoch: 08, loss: -0.95763\n",
      "epoch: 09, loss: -0.95925\n",
      "torch.Size([1024, 64])\n"
     ]
    },
    {
     "name": "stderr",
     "output_type": "stream",
     "text": [
      " 29%|██▉       | 291/999 [6:00:10<13:56:42, 70.91s/it]"
     ]
    },
    {
     "name": "stdout",
     "output_type": "stream",
     "text": [
      "eigenvalues shape torch.Size([5]) eigenvectors shape torch.Size([5, 1024])\n",
      "291 /home/phdcs2/Hard_Disk/Datasets/Deep-Spectral-Segmentation/data/object-segmentation/ECSSD/features/0293_resized.pth\n",
      "dict_keys(['k', 'indices', 'file', 'id', 'model_name', 'patch_size', 'shape'])\n",
      "0293_resized\n",
      "Starting Training\n",
      "epoch: 00, loss: -0.89449\n",
      "epoch: 01, loss: -0.93756\n",
      "epoch: 02, loss: -0.94822\n",
      "epoch: 03, loss: -0.95440\n",
      "epoch: 04, loss: -0.95847\n",
      "epoch: 05, loss: -0.96147\n",
      "epoch: 06, loss: -0.96379\n",
      "epoch: 07, loss: -0.96570\n",
      "epoch: 08, loss: -0.96729\n",
      "epoch: 09, loss: -0.96859\n",
      "torch.Size([1024, 64])\n"
     ]
    },
    {
     "name": "stderr",
     "output_type": "stream",
     "text": [
      " 29%|██▉       | 292/999 [6:01:16<13:40:10, 69.61s/it]"
     ]
    },
    {
     "name": "stdout",
     "output_type": "stream",
     "text": [
      "eigenvalues shape torch.Size([5]) eigenvectors shape torch.Size([5, 1024])\n",
      "292 /home/phdcs2/Hard_Disk/Datasets/Deep-Spectral-Segmentation/data/object-segmentation/ECSSD/features/0294_resized.pth\n",
      "dict_keys(['k', 'indices', 'file', 'id', 'model_name', 'patch_size', 'shape'])\n",
      "0294_resized\n"
     ]
    },
    {
     "name": "stderr",
     "output_type": "stream",
     "text": [
      "/home/phdcs2/Hard_Disk/Projects/T2I/deep-spectral-segmentation/venv/lib/python3.8/site-packages/sklearn/decomposition/_pca.py:642: RuntimeWarning: invalid value encountered in divide\n",
      "  self.explained_variance_ratio_ = self.explained_variance_ / total_var\n"
     ]
    },
    {
     "name": "stdout",
     "output_type": "stream",
     "text": [
      "Starting Training\n",
      "epoch: 00, loss: -0.94372\n",
      "epoch: 01, loss: -0.96327\n",
      "epoch: 02, loss: -0.96859\n",
      "epoch: 03, loss: -0.97183\n",
      "epoch: 04, loss: -0.97408\n",
      "epoch: 05, loss: -0.97577\n",
      "epoch: 06, loss: -0.97713\n",
      "epoch: 07, loss: -0.97823\n",
      "epoch: 08, loss: -0.97914\n",
      "epoch: 09, loss: -0.97995\n",
      "torch.Size([1024, 64])\n"
     ]
    },
    {
     "name": "stderr",
     "output_type": "stream",
     "text": [
      " 29%|██▉       | 293/999 [6:02:33<14:03:01, 71.64s/it]"
     ]
    },
    {
     "name": "stdout",
     "output_type": "stream",
     "text": [
      "eigenvalues shape torch.Size([5]) eigenvectors shape torch.Size([5, 1024])\n",
      "293 /home/phdcs2/Hard_Disk/Datasets/Deep-Spectral-Segmentation/data/object-segmentation/ECSSD/features/0295_resized.pth\n",
      "dict_keys(['k', 'indices', 'file', 'id', 'model_name', 'patch_size', 'shape'])\n",
      "0295_resized\n",
      "Starting Training\n",
      "epoch: 00, loss: -0.89494\n",
      "epoch: 01, loss: -0.93934\n",
      "epoch: 02, loss: -0.94974\n",
      "epoch: 03, loss: -0.95583\n",
      "epoch: 04, loss: -0.95986\n",
      "epoch: 05, loss: -0.96289\n",
      "epoch: 06, loss: -0.96517\n",
      "epoch: 07, loss: -0.96698\n",
      "epoch: 08, loss: -0.96853\n",
      "epoch: 09, loss: -0.96989\n",
      "torch.Size([1024, 64])\n"
     ]
    },
    {
     "name": "stderr",
     "output_type": "stream",
     "text": [
      " 29%|██▉       | 294/999 [6:03:45<14:02:57, 71.74s/it]"
     ]
    },
    {
     "name": "stdout",
     "output_type": "stream",
     "text": [
      "eigenvalues shape torch.Size([5]) eigenvectors shape torch.Size([5, 1024])\n",
      "294 /home/phdcs2/Hard_Disk/Datasets/Deep-Spectral-Segmentation/data/object-segmentation/ECSSD/features/0296_resized.pth\n",
      "dict_keys(['k', 'indices', 'file', 'id', 'model_name', 'patch_size', 'shape'])\n",
      "0296_resized\n"
     ]
    },
    {
     "name": "stderr",
     "output_type": "stream",
     "text": [
      "/home/phdcs2/Hard_Disk/Projects/T2I/deep-spectral-segmentation/venv/lib/python3.8/site-packages/sklearn/decomposition/_pca.py:642: RuntimeWarning: invalid value encountered in divide\n",
      "  self.explained_variance_ratio_ = self.explained_variance_ / total_var\n"
     ]
    },
    {
     "name": "stdout",
     "output_type": "stream",
     "text": [
      "Starting Training\n",
      "epoch: 00, loss: -0.92618\n",
      "epoch: 01, loss: -0.95491\n",
      "epoch: 02, loss: -0.96183\n",
      "epoch: 03, loss: -0.96588\n",
      "epoch: 04, loss: -0.96864\n",
      "epoch: 05, loss: -0.97074\n",
      "epoch: 06, loss: -0.97239\n",
      "epoch: 07, loss: -0.97370\n",
      "epoch: 08, loss: -0.97487\n",
      "epoch: 09, loss: -0.97581\n",
      "torch.Size([1024, 64])\n"
     ]
    },
    {
     "name": "stderr",
     "output_type": "stream",
     "text": [
      " 30%|██▉       | 295/999 [6:04:54<13:55:05, 71.17s/it]"
     ]
    },
    {
     "name": "stdout",
     "output_type": "stream",
     "text": [
      "eigenvalues shape torch.Size([5]) eigenvectors shape torch.Size([5, 1024])\n",
      "295 /home/phdcs2/Hard_Disk/Datasets/Deep-Spectral-Segmentation/data/object-segmentation/ECSSD/features/0297_resized.pth\n",
      "dict_keys(['k', 'indices', 'file', 'id', 'model_name', 'patch_size', 'shape'])\n",
      "0297_resized\n"
     ]
    },
    {
     "name": "stderr",
     "output_type": "stream",
     "text": [
      "/home/phdcs2/Hard_Disk/Projects/T2I/deep-spectral-segmentation/venv/lib/python3.8/site-packages/sklearn/decomposition/_pca.py:642: RuntimeWarning: invalid value encountered in divide\n",
      "  self.explained_variance_ratio_ = self.explained_variance_ / total_var\n"
     ]
    },
    {
     "name": "stdout",
     "output_type": "stream",
     "text": [
      "Starting Training\n",
      "epoch: 00, loss: -0.92282\n",
      "epoch: 01, loss: -0.95222\n",
      "epoch: 02, loss: -0.95947\n",
      "epoch: 03, loss: -0.96376\n",
      "epoch: 04, loss: -0.96673\n",
      "epoch: 05, loss: -0.96895\n",
      "epoch: 06, loss: -0.97071\n",
      "epoch: 07, loss: -0.97212\n",
      "epoch: 08, loss: -0.97332\n",
      "epoch: 09, loss: -0.97436\n",
      "torch.Size([1024, 64])\n"
     ]
    },
    {
     "name": "stderr",
     "output_type": "stream",
     "text": [
      " 30%|██▉       | 296/999 [6:06:02<13:40:26, 70.02s/it]"
     ]
    },
    {
     "name": "stdout",
     "output_type": "stream",
     "text": [
      "eigenvalues shape torch.Size([5]) eigenvectors shape torch.Size([5, 1024])\n",
      "296 /home/phdcs2/Hard_Disk/Datasets/Deep-Spectral-Segmentation/data/object-segmentation/ECSSD/features/0298_resized.pth\n",
      "dict_keys(['k', 'indices', 'file', 'id', 'model_name', 'patch_size', 'shape'])\n",
      "0298_resized\n",
      "Starting Training\n",
      "epoch: 00, loss: -0.93232\n",
      "epoch: 01, loss: -0.95930\n",
      "epoch: 02, loss: -0.96555\n",
      "epoch: 03, loss: -0.96920\n",
      "epoch: 04, loss: -0.97171\n",
      "epoch: 05, loss: -0.97356\n",
      "epoch: 06, loss: -0.97501\n",
      "epoch: 07, loss: -0.97622\n",
      "epoch: 08, loss: -0.97719\n",
      "epoch: 09, loss: -0.97805\n",
      "torch.Size([1024, 64])\n"
     ]
    },
    {
     "name": "stderr",
     "output_type": "stream",
     "text": [
      " 30%|██▉       | 297/999 [6:07:14<13:47:24, 70.72s/it]"
     ]
    },
    {
     "name": "stdout",
     "output_type": "stream",
     "text": [
      "eigenvalues shape torch.Size([5]) eigenvectors shape torch.Size([5, 1024])\n",
      "297 /home/phdcs2/Hard_Disk/Datasets/Deep-Spectral-Segmentation/data/object-segmentation/ECSSD/features/0299_resized.pth\n",
      "dict_keys(['k', 'indices', 'file', 'id', 'model_name', 'patch_size', 'shape'])\n",
      "0299_resized\n"
     ]
    },
    {
     "name": "stderr",
     "output_type": "stream",
     "text": [
      "/home/phdcs2/Hard_Disk/Projects/T2I/deep-spectral-segmentation/venv/lib/python3.8/site-packages/sklearn/decomposition/_pca.py:642: RuntimeWarning: invalid value encountered in divide\n",
      "  self.explained_variance_ratio_ = self.explained_variance_ / total_var\n"
     ]
    },
    {
     "name": "stdout",
     "output_type": "stream",
     "text": [
      "Starting Training\n",
      "epoch: 00, loss: -0.91230\n",
      "epoch: 01, loss: -0.94894\n",
      "epoch: 02, loss: -0.95671\n",
      "epoch: 03, loss: -0.96121\n",
      "epoch: 04, loss: -0.96433\n",
      "epoch: 05, loss: -0.96662\n",
      "epoch: 06, loss: -0.96845\n",
      "epoch: 07, loss: -0.96992\n",
      "epoch: 08, loss: -0.97117\n",
      "epoch: 09, loss: -0.97221\n",
      "torch.Size([1024, 64])\n"
     ]
    },
    {
     "name": "stderr",
     "output_type": "stream",
     "text": [
      " 30%|██▉       | 298/999 [6:08:29<14:02:18, 72.09s/it]"
     ]
    },
    {
     "name": "stdout",
     "output_type": "stream",
     "text": [
      "eigenvalues shape torch.Size([5]) eigenvectors shape torch.Size([5, 1024])\n",
      "298 /home/phdcs2/Hard_Disk/Datasets/Deep-Spectral-Segmentation/data/object-segmentation/ECSSD/features/0300_resized.pth\n",
      "dict_keys(['k', 'indices', 'file', 'id', 'model_name', 'patch_size', 'shape'])\n",
      "0300_resized\n"
     ]
    },
    {
     "name": "stderr",
     "output_type": "stream",
     "text": [
      "/home/phdcs2/Hard_Disk/Projects/T2I/deep-spectral-segmentation/venv/lib/python3.8/site-packages/sklearn/decomposition/_pca.py:642: RuntimeWarning: invalid value encountered in divide\n",
      "  self.explained_variance_ratio_ = self.explained_variance_ / total_var\n"
     ]
    },
    {
     "name": "stdout",
     "output_type": "stream",
     "text": [
      "Starting Training\n",
      "epoch: 00, loss: -0.90670\n",
      "epoch: 01, loss: -0.94477\n",
      "epoch: 02, loss: -0.95394\n",
      "epoch: 03, loss: -0.95926\n",
      "epoch: 04, loss: -0.96288\n",
      "epoch: 05, loss: -0.96557\n",
      "epoch: 06, loss: -0.96766\n",
      "epoch: 07, loss: -0.96934\n",
      "epoch: 08, loss: -0.97077\n",
      "epoch: 09, loss: -0.97198\n",
      "torch.Size([1024, 64])\n"
     ]
    },
    {
     "name": "stderr",
     "output_type": "stream",
     "text": [
      " 30%|██▉       | 299/999 [6:09:53<14:43:09, 75.70s/it]"
     ]
    },
    {
     "name": "stdout",
     "output_type": "stream",
     "text": [
      "eigenvalues shape torch.Size([5]) eigenvectors shape torch.Size([5, 1024])\n",
      "299 /home/phdcs2/Hard_Disk/Datasets/Deep-Spectral-Segmentation/data/object-segmentation/ECSSD/features/0301_resized.pth\n",
      "dict_keys(['k', 'indices', 'file', 'id', 'model_name', 'patch_size', 'shape'])\n",
      "0301_resized\n"
     ]
    },
    {
     "name": "stderr",
     "output_type": "stream",
     "text": [
      "/home/phdcs2/Hard_Disk/Projects/T2I/deep-spectral-segmentation/venv/lib/python3.8/site-packages/sklearn/decomposition/_pca.py:642: RuntimeWarning: invalid value encountered in divide\n",
      "  self.explained_variance_ratio_ = self.explained_variance_ / total_var\n"
     ]
    },
    {
     "name": "stdout",
     "output_type": "stream",
     "text": [
      "Starting Training\n",
      "epoch: 00, loss: -0.91095\n",
      "epoch: 01, loss: -0.94867\n",
      "epoch: 02, loss: -0.95740\n",
      "epoch: 03, loss: -0.96242\n",
      "epoch: 04, loss: -0.96579\n",
      "epoch: 05, loss: -0.96828\n",
      "epoch: 06, loss: -0.97021\n",
      "epoch: 07, loss: -0.97179\n",
      "epoch: 08, loss: -0.97309\n",
      "epoch: 09, loss: -0.97419\n",
      "torch.Size([1024, 64])\n"
     ]
    },
    {
     "name": "stderr",
     "output_type": "stream",
     "text": [
      " 30%|███       | 300/999 [6:11:10<14:44:03, 75.89s/it]"
     ]
    },
    {
     "name": "stdout",
     "output_type": "stream",
     "text": [
      "eigenvalues shape torch.Size([5]) eigenvectors shape torch.Size([5, 1024])\n",
      "300 /home/phdcs2/Hard_Disk/Datasets/Deep-Spectral-Segmentation/data/object-segmentation/ECSSD/features/0302_resized.pth\n",
      "dict_keys(['k', 'indices', 'file', 'id', 'model_name', 'patch_size', 'shape'])\n",
      "0302_resized\n"
     ]
    },
    {
     "name": "stderr",
     "output_type": "stream",
     "text": [
      "/home/phdcs2/Hard_Disk/Projects/T2I/deep-spectral-segmentation/venv/lib/python3.8/site-packages/sklearn/decomposition/_pca.py:642: RuntimeWarning: invalid value encountered in divide\n",
      "  self.explained_variance_ratio_ = self.explained_variance_ / total_var\n"
     ]
    },
    {
     "name": "stdout",
     "output_type": "stream",
     "text": [
      "Starting Training\n",
      "epoch: 00, loss: -0.91974\n",
      "epoch: 01, loss: -0.95341\n",
      "epoch: 02, loss: -0.96067\n",
      "epoch: 03, loss: -0.96482\n",
      "epoch: 04, loss: -0.96767\n",
      "epoch: 05, loss: -0.96978\n",
      "epoch: 06, loss: -0.97143\n",
      "epoch: 07, loss: -0.97279\n",
      "epoch: 08, loss: -0.97394\n",
      "epoch: 09, loss: -0.97488\n",
      "torch.Size([1024, 64])\n"
     ]
    },
    {
     "name": "stderr",
     "output_type": "stream",
     "text": [
      " 30%|███       | 301/999 [6:12:27<14:46:41, 76.22s/it]"
     ]
    },
    {
     "name": "stdout",
     "output_type": "stream",
     "text": [
      "eigenvalues shape torch.Size([5]) eigenvectors shape torch.Size([5, 1024])\n",
      "301 /home/phdcs2/Hard_Disk/Datasets/Deep-Spectral-Segmentation/data/object-segmentation/ECSSD/features/0303_resized.pth\n",
      "dict_keys(['k', 'indices', 'file', 'id', 'model_name', 'patch_size', 'shape'])\n",
      "0303_resized\n",
      "Starting Training\n",
      "epoch: 00, loss: -0.86917\n",
      "epoch: 01, loss: -0.92055\n",
      "epoch: 02, loss: -0.93443\n",
      "epoch: 03, loss: -0.94243\n",
      "epoch: 04, loss: -0.94795\n",
      "epoch: 05, loss: -0.95187\n",
      "epoch: 06, loss: -0.95489\n",
      "epoch: 07, loss: -0.95737\n",
      "epoch: 08, loss: -0.95935\n",
      "epoch: 09, loss: -0.96112\n",
      "torch.Size([1024, 64])\n"
     ]
    },
    {
     "name": "stderr",
     "output_type": "stream",
     "text": [
      " 30%|███       | 302/999 [6:13:46<14:56:38, 77.19s/it]"
     ]
    },
    {
     "name": "stdout",
     "output_type": "stream",
     "text": [
      "eigenvalues shape torch.Size([5]) eigenvectors shape torch.Size([5, 1024])\n",
      "302 /home/phdcs2/Hard_Disk/Datasets/Deep-Spectral-Segmentation/data/object-segmentation/ECSSD/features/0304_resized.pth\n",
      "dict_keys(['k', 'indices', 'file', 'id', 'model_name', 'patch_size', 'shape'])\n",
      "0304_resized\n",
      "Starting Training\n",
      "epoch: 00, loss: -0.86897\n",
      "epoch: 01, loss: -0.91937\n",
      "epoch: 02, loss: -0.93285\n",
      "epoch: 03, loss: -0.94064\n",
      "epoch: 04, loss: -0.94582\n",
      "epoch: 05, loss: -0.94979\n",
      "epoch: 06, loss: -0.95278\n",
      "epoch: 07, loss: -0.95514\n",
      "epoch: 08, loss: -0.95723\n",
      "epoch: 09, loss: -0.95888\n",
      "torch.Size([1024, 64])\n"
     ]
    },
    {
     "name": "stderr",
     "output_type": "stream",
     "text": [
      " 30%|███       | 303/999 [6:15:06<15:05:04, 78.02s/it]"
     ]
    },
    {
     "name": "stdout",
     "output_type": "stream",
     "text": [
      "eigenvalues shape torch.Size([5]) eigenvectors shape torch.Size([5, 1024])\n",
      "303 /home/phdcs2/Hard_Disk/Datasets/Deep-Spectral-Segmentation/data/object-segmentation/ECSSD/features/0305_resized.pth\n",
      "dict_keys(['k', 'indices', 'file', 'id', 'model_name', 'patch_size', 'shape'])\n",
      "0305_resized\n"
     ]
    },
    {
     "name": "stderr",
     "output_type": "stream",
     "text": [
      "/home/phdcs2/Hard_Disk/Projects/T2I/deep-spectral-segmentation/venv/lib/python3.8/site-packages/sklearn/decomposition/_pca.py:642: RuntimeWarning: invalid value encountered in divide\n",
      "  self.explained_variance_ratio_ = self.explained_variance_ / total_var\n"
     ]
    },
    {
     "name": "stdout",
     "output_type": "stream",
     "text": [
      "Starting Training\n",
      "epoch: 00, loss: -0.90695\n",
      "epoch: 01, loss: -0.94535\n",
      "epoch: 02, loss: -0.95443\n",
      "epoch: 03, loss: -0.95963\n",
      "epoch: 04, loss: -0.96319\n",
      "epoch: 05, loss: -0.96578\n",
      "epoch: 06, loss: -0.96781\n",
      "epoch: 07, loss: -0.96946\n",
      "epoch: 08, loss: -0.97084\n",
      "epoch: 09, loss: -0.97203\n",
      "torch.Size([1024, 64])\n"
     ]
    },
    {
     "name": "stderr",
     "output_type": "stream",
     "text": [
      " 30%|███       | 304/999 [6:16:24<15:02:30, 77.91s/it]"
     ]
    },
    {
     "name": "stdout",
     "output_type": "stream",
     "text": [
      "eigenvalues shape torch.Size([5]) eigenvectors shape torch.Size([5, 1024])\n",
      "304 /home/phdcs2/Hard_Disk/Datasets/Deep-Spectral-Segmentation/data/object-segmentation/ECSSD/features/0306_resized.pth\n",
      "dict_keys(['k', 'indices', 'file', 'id', 'model_name', 'patch_size', 'shape'])\n",
      "0306_resized\n"
     ]
    },
    {
     "name": "stderr",
     "output_type": "stream",
     "text": [
      "/home/phdcs2/Hard_Disk/Projects/T2I/deep-spectral-segmentation/venv/lib/python3.8/site-packages/sklearn/decomposition/_pca.py:642: RuntimeWarning: invalid value encountered in divide\n",
      "  self.explained_variance_ratio_ = self.explained_variance_ / total_var\n"
     ]
    },
    {
     "name": "stdout",
     "output_type": "stream",
     "text": [
      "Starting Training\n",
      "epoch: 00, loss: -0.91945\n",
      "epoch: 01, loss: -0.95118\n",
      "epoch: 02, loss: -0.95853\n",
      "epoch: 03, loss: -0.96284\n",
      "epoch: 04, loss: -0.96576\n",
      "epoch: 05, loss: -0.96799\n",
      "epoch: 06, loss: -0.96970\n",
      "epoch: 07, loss: -0.97112\n",
      "epoch: 08, loss: -0.97231\n",
      "epoch: 09, loss: -0.97333\n",
      "torch.Size([1024, 64])\n"
     ]
    },
    {
     "name": "stderr",
     "output_type": "stream",
     "text": [
      " 31%|███       | 305/999 [6:17:50<15:29:51, 80.39s/it]"
     ]
    },
    {
     "name": "stdout",
     "output_type": "stream",
     "text": [
      "eigenvalues shape torch.Size([5]) eigenvectors shape torch.Size([5, 1024])\n",
      "305 /home/phdcs2/Hard_Disk/Datasets/Deep-Spectral-Segmentation/data/object-segmentation/ECSSD/features/0307_resized.pth\n",
      "dict_keys(['k', 'indices', 'file', 'id', 'model_name', 'patch_size', 'shape'])\n",
      "0307_resized\n",
      "Starting Training\n",
      "epoch: 00, loss: -0.87447\n",
      "epoch: 01, loss: -0.92810\n",
      "epoch: 02, loss: -0.94090\n",
      "epoch: 03, loss: -0.94797\n",
      "epoch: 04, loss: -0.95267\n",
      "epoch: 05, loss: -0.95632\n",
      "epoch: 06, loss: -0.95888\n",
      "epoch: 07, loss: -0.96108\n",
      "epoch: 08, loss: -0.96290\n",
      "epoch: 09, loss: -0.96439\n",
      "torch.Size([1024, 64])\n"
     ]
    },
    {
     "name": "stderr",
     "output_type": "stream",
     "text": [
      " 31%|███       | 306/999 [6:19:06<15:12:55, 79.04s/it]"
     ]
    },
    {
     "name": "stdout",
     "output_type": "stream",
     "text": [
      "eigenvalues shape torch.Size([5]) eigenvectors shape torch.Size([5, 1024])\n",
      "306 /home/phdcs2/Hard_Disk/Datasets/Deep-Spectral-Segmentation/data/object-segmentation/ECSSD/features/0308_resized.pth\n",
      "dict_keys(['k', 'indices', 'file', 'id', 'model_name', 'patch_size', 'shape'])\n",
      "0308_resized\n",
      "Starting Training\n",
      "epoch: 00, loss: -0.85331\n",
      "epoch: 01, loss: -0.91443\n",
      "epoch: 02, loss: -0.92939\n",
      "epoch: 03, loss: -0.93784\n",
      "epoch: 04, loss: -0.94359\n",
      "epoch: 05, loss: -0.94764\n",
      "epoch: 06, loss: -0.95093\n",
      "epoch: 07, loss: -0.95345\n",
      "epoch: 08, loss: -0.95546\n",
      "epoch: 09, loss: -0.95732\n",
      "torch.Size([1024, 64])\n"
     ]
    },
    {
     "name": "stderr",
     "output_type": "stream",
     "text": [
      " 31%|███       | 307/999 [6:20:19<14:51:40, 77.31s/it]"
     ]
    },
    {
     "name": "stdout",
     "output_type": "stream",
     "text": [
      "eigenvalues shape torch.Size([5]) eigenvectors shape torch.Size([5, 1024])\n",
      "307 /home/phdcs2/Hard_Disk/Datasets/Deep-Spectral-Segmentation/data/object-segmentation/ECSSD/features/0309_resized.pth\n",
      "dict_keys(['k', 'indices', 'file', 'id', 'model_name', 'patch_size', 'shape'])\n",
      "0309_resized\n",
      "Starting Training\n",
      "epoch: 00, loss: -0.91447\n",
      "epoch: 01, loss: -0.94718\n",
      "epoch: 02, loss: -0.95503\n",
      "epoch: 03, loss: -0.95968\n",
      "epoch: 04, loss: -0.96286\n",
      "epoch: 05, loss: -0.96525\n",
      "epoch: 06, loss: -0.96716\n",
      "epoch: 07, loss: -0.96869\n",
      "epoch: 08, loss: -0.96999\n",
      "epoch: 09, loss: -0.97107\n",
      "torch.Size([1024, 64])\n"
     ]
    },
    {
     "name": "stderr",
     "output_type": "stream",
     "text": [
      " 31%|███       | 308/999 [6:21:27<14:17:59, 74.50s/it]"
     ]
    },
    {
     "name": "stdout",
     "output_type": "stream",
     "text": [
      "eigenvalues shape torch.Size([5]) eigenvectors shape torch.Size([5, 1024])\n",
      "308 /home/phdcs2/Hard_Disk/Datasets/Deep-Spectral-Segmentation/data/object-segmentation/ECSSD/features/0310_resized.pth\n",
      "dict_keys(['k', 'indices', 'file', 'id', 'model_name', 'patch_size', 'shape'])\n",
      "0310_resized\n",
      "Starting Training\n",
      "epoch: 00, loss: -0.86819\n",
      "epoch: 01, loss: -0.92022\n",
      "epoch: 02, loss: -0.93436\n",
      "epoch: 03, loss: -0.94229\n",
      "epoch: 04, loss: -0.94771\n",
      "epoch: 05, loss: -0.95150\n",
      "epoch: 06, loss: -0.95455\n",
      "epoch: 07, loss: -0.95717\n",
      "epoch: 08, loss: -0.95920\n",
      "epoch: 09, loss: -0.96090\n",
      "torch.Size([1024, 64])\n"
     ]
    },
    {
     "name": "stderr",
     "output_type": "stream",
     "text": [
      " 31%|███       | 309/999 [6:22:37<14:00:21, 73.08s/it]"
     ]
    },
    {
     "name": "stdout",
     "output_type": "stream",
     "text": [
      "eigenvalues shape torch.Size([5]) eigenvectors shape torch.Size([5, 1024])\n",
      "309 /home/phdcs2/Hard_Disk/Datasets/Deep-Spectral-Segmentation/data/object-segmentation/ECSSD/features/0311_resized.pth\n",
      "dict_keys(['k', 'indices', 'file', 'id', 'model_name', 'patch_size', 'shape'])\n",
      "0311_resized\n",
      "Starting Training\n",
      "epoch: 00, loss: -0.86027\n",
      "epoch: 01, loss: -0.91726\n",
      "epoch: 02, loss: -0.93087\n",
      "epoch: 03, loss: -0.93848\n",
      "epoch: 04, loss: -0.94333\n",
      "epoch: 05, loss: -0.94696\n",
      "epoch: 06, loss: -0.94972\n",
      "epoch: 07, loss: -0.95182\n",
      "epoch: 08, loss: -0.95360\n",
      "epoch: 09, loss: -0.95524\n",
      "torch.Size([1024, 64])\n"
     ]
    },
    {
     "name": "stderr",
     "output_type": "stream",
     "text": [
      " 31%|███       | 310/999 [6:23:45<13:41:21, 71.53s/it]"
     ]
    },
    {
     "name": "stdout",
     "output_type": "stream",
     "text": [
      "eigenvalues shape torch.Size([5]) eigenvectors shape torch.Size([5, 1024])\n",
      "310 /home/phdcs2/Hard_Disk/Datasets/Deep-Spectral-Segmentation/data/object-segmentation/ECSSD/features/0312_resized.pth\n",
      "dict_keys(['k', 'indices', 'file', 'id', 'model_name', 'patch_size', 'shape'])\n",
      "0312_resized\n",
      "Starting Training\n",
      "epoch: 00, loss: -0.85812\n",
      "epoch: 01, loss: -0.91938\n",
      "epoch: 02, loss: -0.93407\n",
      "epoch: 03, loss: -0.94234\n",
      "epoch: 04, loss: -0.94787\n",
      "epoch: 05, loss: -0.95190\n",
      "epoch: 06, loss: -0.95500\n",
      "epoch: 07, loss: -0.95743\n",
      "epoch: 08, loss: -0.95946\n",
      "epoch: 09, loss: -0.96122\n",
      "torch.Size([1024, 64])\n"
     ]
    },
    {
     "name": "stderr",
     "output_type": "stream",
     "text": [
      " 31%|███       | 311/999 [6:24:54<13:33:32, 70.95s/it]"
     ]
    },
    {
     "name": "stdout",
     "output_type": "stream",
     "text": [
      "eigenvalues shape torch.Size([5]) eigenvectors shape torch.Size([5, 1024])\n",
      "311 /home/phdcs2/Hard_Disk/Datasets/Deep-Spectral-Segmentation/data/object-segmentation/ECSSD/features/0313_resized.pth\n",
      "dict_keys(['k', 'indices', 'file', 'id', 'model_name', 'patch_size', 'shape'])\n",
      "0313_resized\n",
      "Starting Training\n",
      "epoch: 00, loss: -0.87283\n",
      "epoch: 01, loss: -0.92495\n",
      "epoch: 02, loss: -0.93788\n",
      "epoch: 03, loss: -0.94502\n",
      "epoch: 04, loss: -0.94985\n",
      "epoch: 05, loss: -0.95341\n",
      "epoch: 06, loss: -0.95638\n",
      "epoch: 07, loss: -0.95851\n",
      "epoch: 08, loss: -0.96043\n",
      "epoch: 09, loss: -0.96202\n",
      "torch.Size([1024, 64])\n"
     ]
    },
    {
     "name": "stderr",
     "output_type": "stream",
     "text": [
      " 31%|███       | 312/999 [6:26:04<13:28:17, 70.59s/it]"
     ]
    },
    {
     "name": "stdout",
     "output_type": "stream",
     "text": [
      "eigenvalues shape torch.Size([5]) eigenvectors shape torch.Size([5, 1024])\n",
      "312 /home/phdcs2/Hard_Disk/Datasets/Deep-Spectral-Segmentation/data/object-segmentation/ECSSD/features/0314_resized.pth\n",
      "dict_keys(['k', 'indices', 'file', 'id', 'model_name', 'patch_size', 'shape'])\n",
      "0314_resized\n"
     ]
    },
    {
     "name": "stderr",
     "output_type": "stream",
     "text": [
      "/home/phdcs2/Hard_Disk/Projects/T2I/deep-spectral-segmentation/venv/lib/python3.8/site-packages/sklearn/decomposition/_pca.py:642: RuntimeWarning: invalid value encountered in divide\n",
      "  self.explained_variance_ratio_ = self.explained_variance_ / total_var\n"
     ]
    },
    {
     "name": "stdout",
     "output_type": "stream",
     "text": [
      "Starting Training\n",
      "epoch: 00, loss: -0.92192\n",
      "epoch: 01, loss: -0.95214\n",
      "epoch: 02, loss: -0.95936\n",
      "epoch: 03, loss: -0.96353\n",
      "epoch: 04, loss: -0.96640\n",
      "epoch: 05, loss: -0.96853\n",
      "epoch: 06, loss: -0.97021\n",
      "epoch: 07, loss: -0.97156\n",
      "epoch: 08, loss: -0.97270\n",
      "epoch: 09, loss: -0.97368\n",
      "torch.Size([1024, 64])\n"
     ]
    },
    {
     "name": "stderr",
     "output_type": "stream",
     "text": [
      " 31%|███▏      | 313/999 [6:27:11<13:13:17, 69.38s/it]"
     ]
    },
    {
     "name": "stdout",
     "output_type": "stream",
     "text": [
      "eigenvalues shape torch.Size([5]) eigenvectors shape torch.Size([5, 1024])\n",
      "313 /home/phdcs2/Hard_Disk/Datasets/Deep-Spectral-Segmentation/data/object-segmentation/ECSSD/features/0315_resized.pth\n",
      "dict_keys(['k', 'indices', 'file', 'id', 'model_name', 'patch_size', 'shape'])\n",
      "0315_resized\n",
      "Starting Training\n",
      "epoch: 00, loss: -0.88355\n",
      "epoch: 01, loss: -0.92958\n",
      "epoch: 02, loss: -0.94131\n",
      "epoch: 03, loss: -0.94808\n",
      "epoch: 04, loss: -0.95258\n",
      "epoch: 05, loss: -0.95598\n",
      "epoch: 06, loss: -0.95848\n",
      "epoch: 07, loss: -0.96060\n",
      "epoch: 08, loss: -0.96238\n",
      "epoch: 09, loss: -0.96383\n",
      "torch.Size([1024, 64])\n"
     ]
    },
    {
     "name": "stderr",
     "output_type": "stream",
     "text": [
      " 31%|███▏      | 314/999 [6:28:15<12:55:52, 67.96s/it]"
     ]
    },
    {
     "name": "stdout",
     "output_type": "stream",
     "text": [
      "eigenvalues shape torch.Size([5]) eigenvectors shape torch.Size([5, 1024])\n",
      "314 /home/phdcs2/Hard_Disk/Datasets/Deep-Spectral-Segmentation/data/object-segmentation/ECSSD/features/0316_resized.pth\n",
      "dict_keys(['k', 'indices', 'file', 'id', 'model_name', 'patch_size', 'shape'])\n",
      "0316_resized\n",
      "Starting Training\n",
      "epoch: 00, loss: -0.92178\n",
      "epoch: 01, loss: -0.95135\n",
      "epoch: 02, loss: -0.95854\n",
      "epoch: 03, loss: -0.96268\n",
      "epoch: 04, loss: -0.96558\n",
      "epoch: 05, loss: -0.96771\n",
      "epoch: 06, loss: -0.96941\n",
      "epoch: 07, loss: -0.97080\n",
      "epoch: 08, loss: -0.97193\n",
      "epoch: 09, loss: -0.97295\n",
      "torch.Size([1024, 64])\n"
     ]
    },
    {
     "name": "stderr",
     "output_type": "stream",
     "text": [
      " 32%|███▏      | 315/999 [6:29:20<12:44:32, 67.07s/it]"
     ]
    },
    {
     "name": "stdout",
     "output_type": "stream",
     "text": [
      "eigenvalues shape torch.Size([5]) eigenvectors shape torch.Size([5, 1024])\n",
      "315 /home/phdcs2/Hard_Disk/Datasets/Deep-Spectral-Segmentation/data/object-segmentation/ECSSD/features/0317_resized.pth\n",
      "dict_keys(['k', 'indices', 'file', 'id', 'model_name', 'patch_size', 'shape'])\n",
      "0317_resized\n",
      "Starting Training\n",
      "epoch: 00, loss: -0.91852\n",
      "epoch: 01, loss: -0.95345\n",
      "epoch: 02, loss: -0.96049\n",
      "epoch: 03, loss: -0.96464\n",
      "epoch: 04, loss: -0.96751\n",
      "epoch: 05, loss: -0.96964\n",
      "epoch: 06, loss: -0.97134\n",
      "epoch: 07, loss: -0.97271\n",
      "epoch: 08, loss: -0.97387\n",
      "epoch: 09, loss: -0.97488\n",
      "torch.Size([1024, 64])\n"
     ]
    },
    {
     "name": "stderr",
     "output_type": "stream",
     "text": [
      " 32%|███▏      | 316/999 [6:30:32<12:57:52, 68.34s/it]"
     ]
    },
    {
     "name": "stdout",
     "output_type": "stream",
     "text": [
      "eigenvalues shape torch.Size([5]) eigenvectors shape torch.Size([5, 1024])\n",
      "316 /home/phdcs2/Hard_Disk/Datasets/Deep-Spectral-Segmentation/data/object-segmentation/ECSSD/features/0318_resized.pth\n",
      "dict_keys(['k', 'indices', 'file', 'id', 'model_name', 'patch_size', 'shape'])\n",
      "0318_resized\n",
      "Starting Training\n",
      "epoch: 00, loss: -0.89741\n",
      "epoch: 01, loss: -0.93919\n",
      "epoch: 02, loss: -0.94871\n",
      "epoch: 03, loss: -0.95422\n",
      "epoch: 04, loss: -0.95804\n",
      "epoch: 05, loss: -0.96073\n",
      "epoch: 06, loss: -0.96297\n",
      "epoch: 07, loss: -0.96474\n",
      "epoch: 08, loss: -0.96631\n",
      "epoch: 09, loss: -0.96758\n",
      "torch.Size([1024, 64])\n"
     ]
    },
    {
     "name": "stderr",
     "output_type": "stream",
     "text": [
      " 32%|███▏      | 317/999 [6:31:46<13:17:47, 70.19s/it]"
     ]
    },
    {
     "name": "stdout",
     "output_type": "stream",
     "text": [
      "eigenvalues shape torch.Size([5]) eigenvectors shape torch.Size([5, 1024])\n",
      "317 /home/phdcs2/Hard_Disk/Datasets/Deep-Spectral-Segmentation/data/object-segmentation/ECSSD/features/0319_resized.pth\n",
      "dict_keys(['k', 'indices', 'file', 'id', 'model_name', 'patch_size', 'shape'])\n",
      "0319_resized\n",
      "Starting Training\n",
      "epoch: 00, loss: -0.86360\n",
      "epoch: 01, loss: -0.92212\n",
      "epoch: 02, loss: -0.93556\n",
      "epoch: 03, loss: -0.94306\n",
      "epoch: 04, loss: -0.94805\n",
      "epoch: 05, loss: -0.95170\n",
      "epoch: 06, loss: -0.95455\n",
      "epoch: 07, loss: -0.95690\n",
      "epoch: 08, loss: -0.95880\n",
      "epoch: 09, loss: -0.96046\n",
      "torch.Size([1024, 64])\n"
     ]
    },
    {
     "name": "stderr",
     "output_type": "stream",
     "text": [
      " 32%|███▏      | 318/999 [6:33:02<13:34:16, 71.74s/it]"
     ]
    },
    {
     "name": "stdout",
     "output_type": "stream",
     "text": [
      "eigenvalues shape torch.Size([5]) eigenvectors shape torch.Size([5, 1024])\n",
      "318 /home/phdcs2/Hard_Disk/Datasets/Deep-Spectral-Segmentation/data/object-segmentation/ECSSD/features/0320_resized.pth\n",
      "dict_keys(['k', 'indices', 'file', 'id', 'model_name', 'patch_size', 'shape'])\n",
      "0320_resized\n",
      "Starting Training\n",
      "epoch: 00, loss: -0.87712\n",
      "epoch: 01, loss: -0.92608\n",
      "epoch: 02, loss: -0.93911\n",
      "epoch: 03, loss: -0.94653\n",
      "epoch: 04, loss: -0.95158\n",
      "epoch: 05, loss: -0.95515\n",
      "epoch: 06, loss: -0.95793\n",
      "epoch: 07, loss: -0.96016\n",
      "epoch: 08, loss: -0.96202\n",
      "epoch: 09, loss: -0.96359\n",
      "torch.Size([1024, 64])\n"
     ]
    },
    {
     "name": "stderr",
     "output_type": "stream",
     "text": [
      " 32%|███▏      | 319/999 [6:34:14<13:35:21, 71.94s/it]"
     ]
    },
    {
     "name": "stdout",
     "output_type": "stream",
     "text": [
      "eigenvalues shape torch.Size([5]) eigenvectors shape torch.Size([5, 1024])\n",
      "319 /home/phdcs2/Hard_Disk/Datasets/Deep-Spectral-Segmentation/data/object-segmentation/ECSSD/features/0321_resized.pth\n",
      "dict_keys(['k', 'indices', 'file', 'id', 'model_name', 'patch_size', 'shape'])\n",
      "0321_resized\n"
     ]
    },
    {
     "name": "stderr",
     "output_type": "stream",
     "text": [
      "/home/phdcs2/Hard_Disk/Projects/T2I/deep-spectral-segmentation/venv/lib/python3.8/site-packages/sklearn/decomposition/_pca.py:642: RuntimeWarning: invalid value encountered in divide\n",
      "  self.explained_variance_ratio_ = self.explained_variance_ / total_var\n"
     ]
    },
    {
     "name": "stdout",
     "output_type": "stream",
     "text": [
      "Starting Training\n",
      "epoch: 00, loss: -0.93031\n",
      "epoch: 01, loss: -0.95991\n",
      "epoch: 02, loss: -0.96611\n",
      "epoch: 03, loss: -0.96968\n",
      "epoch: 04, loss: -0.97214\n",
      "epoch: 05, loss: -0.97398\n",
      "epoch: 06, loss: -0.97542\n",
      "epoch: 07, loss: -0.97660\n",
      "epoch: 08, loss: -0.97758\n",
      "epoch: 09, loss: -0.97841\n",
      "torch.Size([1024, 64])\n"
     ]
    },
    {
     "name": "stderr",
     "output_type": "stream",
     "text": [
      " 32%|███▏      | 320/999 [6:35:22<13:19:20, 70.63s/it]"
     ]
    },
    {
     "name": "stdout",
     "output_type": "stream",
     "text": [
      "eigenvalues shape torch.Size([5]) eigenvectors shape torch.Size([5, 1024])\n",
      "320 /home/phdcs2/Hard_Disk/Datasets/Deep-Spectral-Segmentation/data/object-segmentation/ECSSD/features/0322_resized.pth\n",
      "dict_keys(['k', 'indices', 'file', 'id', 'model_name', 'patch_size', 'shape'])\n",
      "0322_resized\n",
      "Starting Training\n",
      "epoch: 00, loss: -0.88408\n",
      "epoch: 01, loss: -0.93308\n",
      "epoch: 02, loss: -0.94477\n",
      "epoch: 03, loss: -0.95135\n",
      "epoch: 04, loss: -0.95584\n",
      "epoch: 05, loss: -0.95912\n",
      "epoch: 06, loss: -0.96165\n",
      "epoch: 07, loss: -0.96370\n",
      "epoch: 08, loss: -0.96545\n",
      "epoch: 09, loss: -0.96686\n",
      "torch.Size([1024, 64])\n"
     ]
    },
    {
     "name": "stderr",
     "output_type": "stream",
     "text": [
      " 32%|███▏      | 321/999 [6:36:24<12:49:31, 68.10s/it]"
     ]
    },
    {
     "name": "stdout",
     "output_type": "stream",
     "text": [
      "eigenvalues shape torch.Size([5]) eigenvectors shape torch.Size([5, 1024])\n",
      "321 /home/phdcs2/Hard_Disk/Datasets/Deep-Spectral-Segmentation/data/object-segmentation/ECSSD/features/0323_resized.pth\n",
      "dict_keys(['k', 'indices', 'file', 'id', 'model_name', 'patch_size', 'shape'])\n",
      "0323_resized\n",
      "Starting Training\n",
      "epoch: 00, loss: -0.85543\n",
      "epoch: 01, loss: -0.91305\n",
      "epoch: 02, loss: -0.92863\n",
      "epoch: 03, loss: -0.93765\n",
      "epoch: 04, loss: -0.94374\n",
      "epoch: 05, loss: -0.94798\n",
      "epoch: 06, loss: -0.95133\n",
      "epoch: 07, loss: -0.95398\n",
      "epoch: 08, loss: -0.95617\n",
      "epoch: 09, loss: -0.95816\n",
      "torch.Size([1024, 64])\n"
     ]
    },
    {
     "name": "stderr",
     "output_type": "stream",
     "text": [
      " 32%|███▏      | 322/999 [6:37:33<12:53:58, 68.59s/it]"
     ]
    },
    {
     "name": "stdout",
     "output_type": "stream",
     "text": [
      "eigenvalues shape torch.Size([5]) eigenvectors shape torch.Size([5, 1024])\n",
      "322 /home/phdcs2/Hard_Disk/Datasets/Deep-Spectral-Segmentation/data/object-segmentation/ECSSD/features/0324_resized.pth\n",
      "dict_keys(['k', 'indices', 'file', 'id', 'model_name', 'patch_size', 'shape'])\n",
      "0324_resized\n",
      "Starting Training\n",
      "epoch: 00, loss: -0.93267\n",
      "epoch: 01, loss: -0.96118\n",
      "epoch: 02, loss: -0.96729\n",
      "epoch: 03, loss: -0.97076\n",
      "epoch: 04, loss: -0.97313\n",
      "epoch: 05, loss: -0.97489\n",
      "epoch: 06, loss: -0.97624\n",
      "epoch: 07, loss: -0.97736\n",
      "epoch: 08, loss: -0.97830\n",
      "epoch: 09, loss: -0.97911\n",
      "torch.Size([1024, 64])\n"
     ]
    },
    {
     "name": "stderr",
     "output_type": "stream",
     "text": [
      " 32%|███▏      | 323/999 [6:38:44<13:00:30, 69.28s/it]"
     ]
    },
    {
     "name": "stdout",
     "output_type": "stream",
     "text": [
      "eigenvalues shape torch.Size([5]) eigenvectors shape torch.Size([5, 1024])\n",
      "323 /home/phdcs2/Hard_Disk/Datasets/Deep-Spectral-Segmentation/data/object-segmentation/ECSSD/features/0325_resized.pth\n",
      "dict_keys(['k', 'indices', 'file', 'id', 'model_name', 'patch_size', 'shape'])\n",
      "0325_resized\n",
      "Starting Training\n",
      "epoch: 00, loss: -0.91959\n",
      "epoch: 01, loss: -0.95182\n",
      "epoch: 02, loss: -0.95925\n",
      "epoch: 03, loss: -0.96361\n",
      "epoch: 04, loss: -0.96660\n",
      "epoch: 05, loss: -0.96878\n",
      "epoch: 06, loss: -0.97056\n",
      "epoch: 07, loss: -0.97198\n",
      "epoch: 08, loss: -0.97319\n",
      "epoch: 09, loss: -0.97422\n",
      "torch.Size([1024, 64])\n"
     ]
    },
    {
     "name": "stderr",
     "output_type": "stream",
     "text": [
      " 32%|███▏      | 324/999 [6:39:49<12:42:07, 67.74s/it]"
     ]
    },
    {
     "name": "stdout",
     "output_type": "stream",
     "text": [
      "eigenvalues shape torch.Size([5]) eigenvectors shape torch.Size([5, 1024])\n",
      "324 /home/phdcs2/Hard_Disk/Datasets/Deep-Spectral-Segmentation/data/object-segmentation/ECSSD/features/0326_resized.pth\n",
      "dict_keys(['k', 'indices', 'file', 'id', 'model_name', 'patch_size', 'shape'])\n",
      "0326_resized\n",
      "Starting Training\n",
      "epoch: 00, loss: -0.87070\n",
      "epoch: 01, loss: -0.92361\n",
      "epoch: 02, loss: -0.93716\n",
      "epoch: 03, loss: -0.94461\n",
      "epoch: 04, loss: -0.94965\n",
      "epoch: 05, loss: -0.95351\n",
      "epoch: 06, loss: -0.95650\n",
      "epoch: 07, loss: -0.95873\n",
      "epoch: 08, loss: -0.96071\n",
      "epoch: 09, loss: -0.96237\n",
      "torch.Size([1024, 64])\n"
     ]
    },
    {
     "name": "stderr",
     "output_type": "stream",
     "text": [
      " 33%|███▎      | 325/999 [6:40:58<12:47:48, 68.35s/it]"
     ]
    },
    {
     "name": "stdout",
     "output_type": "stream",
     "text": [
      "eigenvalues shape torch.Size([5]) eigenvectors shape torch.Size([5, 1024])\n",
      "325 /home/phdcs2/Hard_Disk/Datasets/Deep-Spectral-Segmentation/data/object-segmentation/ECSSD/features/0327_resized.pth\n",
      "dict_keys(['k', 'indices', 'file', 'id', 'model_name', 'patch_size', 'shape'])\n",
      "0327_resized\n",
      "Starting Training\n",
      "epoch: 00, loss: -0.89370\n",
      "epoch: 01, loss: -0.93688\n",
      "epoch: 02, loss: -0.94761\n",
      "epoch: 03, loss: -0.95396\n",
      "epoch: 04, loss: -0.95806\n",
      "epoch: 05, loss: -0.96120\n",
      "epoch: 06, loss: -0.96348\n",
      "epoch: 07, loss: -0.96533\n",
      "epoch: 08, loss: -0.96702\n",
      "epoch: 09, loss: -0.96836\n",
      "torch.Size([1024, 64])\n"
     ]
    },
    {
     "name": "stderr",
     "output_type": "stream",
     "text": [
      " 33%|███▎      | 326/999 [6:42:08<12:52:41, 68.89s/it]"
     ]
    },
    {
     "name": "stdout",
     "output_type": "stream",
     "text": [
      "eigenvalues shape torch.Size([5]) eigenvectors shape torch.Size([5, 1024])\n",
      "326 /home/phdcs2/Hard_Disk/Datasets/Deep-Spectral-Segmentation/data/object-segmentation/ECSSD/features/0328_resized.pth\n",
      "dict_keys(['k', 'indices', 'file', 'id', 'model_name', 'patch_size', 'shape'])\n",
      "0328_resized\n",
      "Starting Training\n",
      "epoch: 00, loss: -0.87358\n",
      "epoch: 01, loss: -0.92265\n",
      "epoch: 02, loss: -0.93590\n",
      "epoch: 03, loss: -0.94342\n",
      "epoch: 04, loss: -0.94843\n",
      "epoch: 05, loss: -0.95223\n",
      "epoch: 06, loss: -0.95511\n",
      "epoch: 07, loss: -0.95756\n",
      "epoch: 08, loss: -0.95937\n",
      "epoch: 09, loss: -0.96118\n",
      "torch.Size([1024, 64])\n"
     ]
    },
    {
     "name": "stderr",
     "output_type": "stream",
     "text": [
      " 33%|███▎      | 327/999 [6:43:16<12:48:49, 68.65s/it]"
     ]
    },
    {
     "name": "stdout",
     "output_type": "stream",
     "text": [
      "eigenvalues shape torch.Size([5]) eigenvectors shape torch.Size([5, 1024])\n",
      "327 /home/phdcs2/Hard_Disk/Datasets/Deep-Spectral-Segmentation/data/object-segmentation/ECSSD/features/0329_resized.pth\n",
      "dict_keys(['k', 'indices', 'file', 'id', 'model_name', 'patch_size', 'shape'])\n",
      "0329_resized\n"
     ]
    },
    {
     "name": "stderr",
     "output_type": "stream",
     "text": [
      "/home/phdcs2/Hard_Disk/Projects/T2I/deep-spectral-segmentation/venv/lib/python3.8/site-packages/sklearn/decomposition/_pca.py:642: RuntimeWarning: invalid value encountered in divide\n",
      "  self.explained_variance_ratio_ = self.explained_variance_ / total_var\n"
     ]
    },
    {
     "name": "stdout",
     "output_type": "stream",
     "text": [
      "Starting Training\n",
      "epoch: 00, loss: -0.92263\n",
      "epoch: 01, loss: -0.95455\n",
      "epoch: 02, loss: -0.96147\n",
      "epoch: 03, loss: -0.96551\n",
      "epoch: 04, loss: -0.96824\n",
      "epoch: 05, loss: -0.97025\n",
      "epoch: 06, loss: -0.97186\n",
      "epoch: 07, loss: -0.97314\n",
      "epoch: 08, loss: -0.97425\n",
      "epoch: 09, loss: -0.97518\n",
      "torch.Size([1024, 64])\n"
     ]
    },
    {
     "name": "stderr",
     "output_type": "stream",
     "text": [
      " 33%|███▎      | 328/999 [6:44:27<12:54:39, 69.27s/it]"
     ]
    },
    {
     "name": "stdout",
     "output_type": "stream",
     "text": [
      "eigenvalues shape torch.Size([5]) eigenvectors shape torch.Size([5, 1024])\n",
      "328 /home/phdcs2/Hard_Disk/Datasets/Deep-Spectral-Segmentation/data/object-segmentation/ECSSD/features/0330_resized.pth\n",
      "dict_keys(['k', 'indices', 'file', 'id', 'model_name', 'patch_size', 'shape'])\n",
      "0330_resized\n",
      "Starting Training\n",
      "epoch: 00, loss: -0.88618\n",
      "epoch: 01, loss: -0.93312\n",
      "epoch: 02, loss: -0.94472\n",
      "epoch: 03, loss: -0.95109\n",
      "epoch: 04, loss: -0.95543\n",
      "epoch: 05, loss: -0.95849\n",
      "epoch: 06, loss: -0.96112\n",
      "epoch: 07, loss: -0.96313\n",
      "epoch: 08, loss: -0.96480\n",
      "epoch: 09, loss: -0.96617\n",
      "torch.Size([1024, 64])\n"
     ]
    },
    {
     "name": "stderr",
     "output_type": "stream",
     "text": [
      " 33%|███▎      | 329/999 [6:45:40<13:04:19, 70.24s/it]"
     ]
    },
    {
     "name": "stdout",
     "output_type": "stream",
     "text": [
      "eigenvalues shape torch.Size([5]) eigenvectors shape torch.Size([5, 1024])\n",
      "329 /home/phdcs2/Hard_Disk/Datasets/Deep-Spectral-Segmentation/data/object-segmentation/ECSSD/features/0331_resized.pth\n",
      "dict_keys(['k', 'indices', 'file', 'id', 'model_name', 'patch_size', 'shape'])\n",
      "0331_resized\n",
      "Starting Training\n",
      "epoch: 00, loss: -0.93077\n",
      "epoch: 01, loss: -0.95591\n",
      "epoch: 02, loss: -0.96186\n",
      "epoch: 03, loss: -0.96538\n",
      "epoch: 04, loss: -0.96778\n",
      "epoch: 05, loss: -0.96961\n",
      "epoch: 06, loss: -0.97105\n",
      "epoch: 07, loss: -0.97225\n",
      "epoch: 08, loss: -0.97322\n",
      "epoch: 09, loss: -0.97408\n",
      "torch.Size([1024, 64])\n"
     ]
    },
    {
     "name": "stderr",
     "output_type": "stream",
     "text": [
      " 33%|███▎      | 330/999 [6:46:56<13:22:36, 71.98s/it]"
     ]
    },
    {
     "name": "stdout",
     "output_type": "stream",
     "text": [
      "eigenvalues shape torch.Size([5]) eigenvectors shape torch.Size([5, 1024])\n",
      "330 /home/phdcs2/Hard_Disk/Datasets/Deep-Spectral-Segmentation/data/object-segmentation/ECSSD/features/0332_resized.pth\n",
      "dict_keys(['k', 'indices', 'file', 'id', 'model_name', 'patch_size', 'shape'])\n",
      "0332_resized\n",
      "Starting Training\n",
      "epoch: 00, loss: -0.88371\n",
      "epoch: 01, loss: -0.93168\n",
      "epoch: 02, loss: -0.94348\n",
      "epoch: 03, loss: -0.95017\n",
      "epoch: 04, loss: -0.95467\n",
      "epoch: 05, loss: -0.95787\n",
      "epoch: 06, loss: -0.96045\n",
      "epoch: 07, loss: -0.96243\n",
      "epoch: 08, loss: -0.96415\n",
      "epoch: 09, loss: -0.96551\n",
      "torch.Size([1024, 64])\n"
     ]
    },
    {
     "name": "stderr",
     "output_type": "stream",
     "text": [
      " 33%|███▎      | 331/999 [6:48:07<13:19:52, 71.85s/it]"
     ]
    },
    {
     "name": "stdout",
     "output_type": "stream",
     "text": [
      "eigenvalues shape torch.Size([5]) eigenvectors shape torch.Size([5, 1024])\n",
      "331 /home/phdcs2/Hard_Disk/Datasets/Deep-Spectral-Segmentation/data/object-segmentation/ECSSD/features/0333_resized.pth\n",
      "dict_keys(['k', 'indices', 'file', 'id', 'model_name', 'patch_size', 'shape'])\n",
      "0333_resized\n"
     ]
    },
    {
     "name": "stderr",
     "output_type": "stream",
     "text": [
      "/home/phdcs2/Hard_Disk/Projects/T2I/deep-spectral-segmentation/venv/lib/python3.8/site-packages/sklearn/decomposition/_pca.py:642: RuntimeWarning: invalid value encountered in divide\n",
      "  self.explained_variance_ratio_ = self.explained_variance_ / total_var\n"
     ]
    },
    {
     "name": "stdout",
     "output_type": "stream",
     "text": [
      "Starting Training\n",
      "epoch: 00, loss: -0.92685\n",
      "epoch: 01, loss: -0.95615\n",
      "epoch: 02, loss: -0.96299\n",
      "epoch: 03, loss: -0.96695\n",
      "epoch: 04, loss: -0.96972\n",
      "epoch: 05, loss: -0.97177\n",
      "epoch: 06, loss: -0.97339\n",
      "epoch: 07, loss: -0.97467\n",
      "epoch: 08, loss: -0.97576\n",
      "epoch: 09, loss: -0.97670\n",
      "torch.Size([1024, 64])\n"
     ]
    },
    {
     "name": "stderr",
     "output_type": "stream",
     "text": [
      " 33%|███▎      | 332/999 [6:49:15<13:05:42, 70.68s/it]"
     ]
    },
    {
     "name": "stdout",
     "output_type": "stream",
     "text": [
      "eigenvalues shape torch.Size([5]) eigenvectors shape torch.Size([5, 1024])\n",
      "332 /home/phdcs2/Hard_Disk/Datasets/Deep-Spectral-Segmentation/data/object-segmentation/ECSSD/features/0334_resized.pth\n",
      "dict_keys(['k', 'indices', 'file', 'id', 'model_name', 'patch_size', 'shape'])\n",
      "0334_resized\n"
     ]
    },
    {
     "name": "stderr",
     "output_type": "stream",
     "text": [
      "/home/phdcs2/Hard_Disk/Projects/T2I/deep-spectral-segmentation/venv/lib/python3.8/site-packages/sklearn/decomposition/_pca.py:642: RuntimeWarning: invalid value encountered in divide\n",
      "  self.explained_variance_ratio_ = self.explained_variance_ / total_var\n"
     ]
    },
    {
     "name": "stdout",
     "output_type": "stream",
     "text": [
      "Starting Training\n",
      "epoch: 00, loss: -0.90370\n",
      "epoch: 01, loss: -0.94139\n",
      "epoch: 02, loss: -0.95037\n",
      "epoch: 03, loss: -0.95559\n",
      "epoch: 04, loss: -0.95915\n",
      "epoch: 05, loss: -0.96184\n",
      "epoch: 06, loss: -0.96392\n",
      "epoch: 07, loss: -0.96563\n",
      "epoch: 08, loss: -0.96707\n",
      "epoch: 09, loss: -0.96825\n",
      "torch.Size([1024, 64])\n"
     ]
    },
    {
     "name": "stderr",
     "output_type": "stream",
     "text": [
      " 33%|███▎      | 333/999 [6:50:26<13:05:22, 70.75s/it]"
     ]
    },
    {
     "name": "stdout",
     "output_type": "stream",
     "text": [
      "eigenvalues shape torch.Size([5]) eigenvectors shape torch.Size([5, 1024])\n",
      "333 /home/phdcs2/Hard_Disk/Datasets/Deep-Spectral-Segmentation/data/object-segmentation/ECSSD/features/0335_resized.pth\n",
      "dict_keys(['k', 'indices', 'file', 'id', 'model_name', 'patch_size', 'shape'])\n",
      "0335_resized\n",
      "Starting Training\n",
      "epoch: 00, loss: -0.87047\n",
      "epoch: 01, loss: -0.92579\n",
      "epoch: 02, loss: -0.93929\n",
      "epoch: 03, loss: -0.94658\n",
      "epoch: 04, loss: -0.95163\n",
      "epoch: 05, loss: -0.95531\n",
      "epoch: 06, loss: -0.95818\n",
      "epoch: 07, loss: -0.96044\n",
      "epoch: 08, loss: -0.96226\n",
      "epoch: 09, loss: -0.96390\n",
      "torch.Size([1024, 64])\n"
     ]
    },
    {
     "name": "stderr",
     "output_type": "stream",
     "text": [
      " 33%|███▎      | 334/999 [6:51:29<12:37:37, 68.36s/it]"
     ]
    },
    {
     "name": "stdout",
     "output_type": "stream",
     "text": [
      "eigenvalues shape torch.Size([5]) eigenvectors shape torch.Size([5, 1024])\n",
      "334 /home/phdcs2/Hard_Disk/Datasets/Deep-Spectral-Segmentation/data/object-segmentation/ECSSD/features/0336_resized.pth\n",
      "dict_keys(['k', 'indices', 'file', 'id', 'model_name', 'patch_size', 'shape'])\n",
      "0336_resized\n",
      "Starting Training\n",
      "epoch: 00, loss: -0.87746\n",
      "epoch: 01, loss: -0.93007\n",
      "epoch: 02, loss: -0.94256\n",
      "epoch: 03, loss: -0.94951\n",
      "epoch: 04, loss: -0.95409\n",
      "epoch: 05, loss: -0.95742\n",
      "epoch: 06, loss: -0.96011\n",
      "epoch: 07, loss: -0.96222\n",
      "epoch: 08, loss: -0.96390\n",
      "epoch: 09, loss: -0.96541\n",
      "torch.Size([1024, 64])\n"
     ]
    },
    {
     "name": "stderr",
     "output_type": "stream",
     "text": [
      " 34%|███▎      | 335/999 [6:52:45<13:01:03, 70.58s/it]"
     ]
    },
    {
     "name": "stdout",
     "output_type": "stream",
     "text": [
      "eigenvalues shape torch.Size([5]) eigenvectors shape torch.Size([5, 1024])\n",
      "335 /home/phdcs2/Hard_Disk/Datasets/Deep-Spectral-Segmentation/data/object-segmentation/ECSSD/features/0337_resized.pth\n",
      "dict_keys(['k', 'indices', 'file', 'id', 'model_name', 'patch_size', 'shape'])\n",
      "0337_resized\n",
      "Starting Training\n",
      "epoch: 00, loss: -0.90704\n",
      "epoch: 01, loss: -0.94258\n",
      "epoch: 02, loss: -0.95150\n",
      "epoch: 03, loss: -0.95670\n",
      "epoch: 04, loss: -0.96021\n",
      "epoch: 05, loss: -0.96285\n",
      "epoch: 06, loss: -0.96487\n",
      "epoch: 07, loss: -0.96656\n",
      "epoch: 08, loss: -0.96792\n",
      "epoch: 09, loss: -0.96911\n",
      "torch.Size([1024, 64])\n"
     ]
    },
    {
     "name": "stderr",
     "output_type": "stream",
     "text": [
      " 34%|███▎      | 336/999 [6:53:58<13:09:40, 71.46s/it]"
     ]
    },
    {
     "name": "stdout",
     "output_type": "stream",
     "text": [
      "eigenvalues shape torch.Size([5]) eigenvectors shape torch.Size([5, 1024])\n",
      "336 /home/phdcs2/Hard_Disk/Datasets/Deep-Spectral-Segmentation/data/object-segmentation/ECSSD/features/0338_resized.pth\n",
      "dict_keys(['k', 'indices', 'file', 'id', 'model_name', 'patch_size', 'shape'])\n",
      "0338_resized\n",
      "Starting Training\n",
      "epoch: 00, loss: -0.91320\n",
      "epoch: 01, loss: -0.94576\n",
      "epoch: 02, loss: -0.95369\n",
      "epoch: 03, loss: -0.95829\n",
      "epoch: 04, loss: -0.96152\n",
      "epoch: 05, loss: -0.96391\n",
      "epoch: 06, loss: -0.96582\n",
      "epoch: 07, loss: -0.96736\n",
      "epoch: 08, loss: -0.96872\n",
      "epoch: 09, loss: -0.96980\n",
      "torch.Size([1024, 64])\n"
     ]
    },
    {
     "name": "stderr",
     "output_type": "stream",
     "text": [
      " 34%|███▎      | 337/999 [6:55:07<12:57:57, 70.51s/it]"
     ]
    },
    {
     "name": "stdout",
     "output_type": "stream",
     "text": [
      "eigenvalues shape torch.Size([5]) eigenvectors shape torch.Size([5, 1024])\n",
      "337 /home/phdcs2/Hard_Disk/Datasets/Deep-Spectral-Segmentation/data/object-segmentation/ECSSD/features/0339_resized.pth\n",
      "dict_keys(['k', 'indices', 'file', 'id', 'model_name', 'patch_size', 'shape'])\n",
      "0339_resized\n"
     ]
    },
    {
     "name": "stderr",
     "output_type": "stream",
     "text": [
      "/home/phdcs2/Hard_Disk/Projects/T2I/deep-spectral-segmentation/venv/lib/python3.8/site-packages/sklearn/decomposition/_pca.py:642: RuntimeWarning: invalid value encountered in divide\n",
      "  self.explained_variance_ratio_ = self.explained_variance_ / total_var\n"
     ]
    },
    {
     "name": "stdout",
     "output_type": "stream",
     "text": [
      "Starting Training\n",
      "epoch: 00, loss: -0.91801\n",
      "epoch: 01, loss: -0.95010\n",
      "epoch: 02, loss: -0.95710\n",
      "epoch: 03, loss: -0.96128\n",
      "epoch: 04, loss: -0.96417\n",
      "epoch: 05, loss: -0.96636\n",
      "epoch: 06, loss: -0.96810\n",
      "epoch: 07, loss: -0.96955\n",
      "epoch: 08, loss: -0.97069\n",
      "epoch: 09, loss: -0.97174\n",
      "torch.Size([1024, 64])\n"
     ]
    },
    {
     "name": "stderr",
     "output_type": "stream",
     "text": [
      " 34%|███▍      | 338/999 [6:56:14<12:47:40, 69.68s/it]"
     ]
    },
    {
     "name": "stdout",
     "output_type": "stream",
     "text": [
      "eigenvalues shape torch.Size([5]) eigenvectors shape torch.Size([5, 1024])\n",
      "338 /home/phdcs2/Hard_Disk/Datasets/Deep-Spectral-Segmentation/data/object-segmentation/ECSSD/features/0340_resized.pth\n",
      "dict_keys(['k', 'indices', 'file', 'id', 'model_name', 'patch_size', 'shape'])\n",
      "0340_resized\n",
      "Starting Training\n",
      "epoch: 00, loss: -0.90162\n",
      "epoch: 01, loss: -0.94196\n",
      "epoch: 02, loss: -0.95164\n",
      "epoch: 03, loss: -0.95726\n",
      "epoch: 04, loss: -0.96101\n",
      "epoch: 05, loss: -0.96386\n",
      "epoch: 06, loss: -0.96598\n",
      "epoch: 07, loss: -0.96771\n",
      "epoch: 08, loss: -0.96920\n",
      "epoch: 09, loss: -0.97042\n",
      "torch.Size([1024, 64])\n"
     ]
    },
    {
     "name": "stderr",
     "output_type": "stream",
     "text": [
      " 34%|███▍      | 339/999 [6:57:29<13:02:22, 71.13s/it]"
     ]
    },
    {
     "name": "stdout",
     "output_type": "stream",
     "text": [
      "eigenvalues shape torch.Size([5]) eigenvectors shape torch.Size([5, 1024])\n",
      "339 /home/phdcs2/Hard_Disk/Datasets/Deep-Spectral-Segmentation/data/object-segmentation/ECSSD/features/0341_resized.pth\n",
      "dict_keys(['k', 'indices', 'file', 'id', 'model_name', 'patch_size', 'shape'])\n",
      "0341_resized\n",
      "Starting Training\n",
      "epoch: 00, loss: -0.91084\n",
      "epoch: 01, loss: -0.94376\n",
      "epoch: 02, loss: -0.95216\n",
      "epoch: 03, loss: -0.95714\n",
      "epoch: 04, loss: -0.96048\n",
      "epoch: 05, loss: -0.96300\n",
      "epoch: 06, loss: -0.96499\n",
      "epoch: 07, loss: -0.96664\n",
      "epoch: 08, loss: -0.96799\n",
      "epoch: 09, loss: -0.96915\n",
      "torch.Size([1024, 64])\n"
     ]
    },
    {
     "name": "stderr",
     "output_type": "stream",
     "text": [
      " 34%|███▍      | 340/999 [6:58:45<13:18:07, 72.67s/it]"
     ]
    },
    {
     "name": "stdout",
     "output_type": "stream",
     "text": [
      "eigenvalues shape torch.Size([5]) eigenvectors shape torch.Size([5, 1024])\n",
      "340 /home/phdcs2/Hard_Disk/Datasets/Deep-Spectral-Segmentation/data/object-segmentation/ECSSD/features/0342_resized.pth\n",
      "dict_keys(['k', 'indices', 'file', 'id', 'model_name', 'patch_size', 'shape'])\n",
      "0342_resized\n",
      "Starting Training\n",
      "epoch: 00, loss: -0.87707\n",
      "epoch: 01, loss: -0.92579\n",
      "epoch: 02, loss: -0.93865\n",
      "epoch: 03, loss: -0.94589\n",
      "epoch: 04, loss: -0.95091\n",
      "epoch: 05, loss: -0.95458\n",
      "epoch: 06, loss: -0.95741\n",
      "epoch: 07, loss: -0.95968\n",
      "epoch: 08, loss: -0.96163\n",
      "epoch: 09, loss: -0.96320\n",
      "torch.Size([1024, 64])\n"
     ]
    },
    {
     "name": "stderr",
     "output_type": "stream",
     "text": [
      " 34%|███▍      | 341/999 [6:59:59<13:19:43, 72.92s/it]"
     ]
    },
    {
     "name": "stdout",
     "output_type": "stream",
     "text": [
      "eigenvalues shape torch.Size([5]) eigenvectors shape torch.Size([5, 1024])\n",
      "341 /home/phdcs2/Hard_Disk/Datasets/Deep-Spectral-Segmentation/data/object-segmentation/ECSSD/features/0343_resized.pth\n",
      "dict_keys(['k', 'indices', 'file', 'id', 'model_name', 'patch_size', 'shape'])\n",
      "0343_resized\n",
      "Starting Training\n",
      "epoch: 00, loss: -0.85259\n",
      "epoch: 01, loss: -0.91290\n",
      "epoch: 02, loss: -0.92822\n",
      "epoch: 03, loss: -0.93717\n",
      "epoch: 04, loss: -0.94297\n",
      "epoch: 05, loss: -0.94713\n",
      "epoch: 06, loss: -0.95048\n",
      "epoch: 07, loss: -0.95314\n",
      "epoch: 08, loss: -0.95530\n",
      "epoch: 09, loss: -0.95727\n",
      "torch.Size([1024, 64])\n"
     ]
    },
    {
     "name": "stderr",
     "output_type": "stream",
     "text": [
      " 34%|███▍      | 342/999 [7:01:11<13:15:48, 72.68s/it]"
     ]
    },
    {
     "name": "stdout",
     "output_type": "stream",
     "text": [
      "eigenvalues shape torch.Size([5]) eigenvectors shape torch.Size([5, 1024])\n",
      "342 /home/phdcs2/Hard_Disk/Datasets/Deep-Spectral-Segmentation/data/object-segmentation/ECSSD/features/0344_resized.pth\n",
      "dict_keys(['k', 'indices', 'file', 'id', 'model_name', 'patch_size', 'shape'])\n",
      "0344_resized\n",
      "Starting Training\n",
      "epoch: 00, loss: -0.87053\n",
      "epoch: 01, loss: -0.92280\n",
      "epoch: 02, loss: -0.93537\n",
      "epoch: 03, loss: -0.94227\n",
      "epoch: 04, loss: -0.94715\n",
      "epoch: 05, loss: -0.95085\n",
      "epoch: 06, loss: -0.95346\n",
      "epoch: 07, loss: -0.95567\n",
      "epoch: 08, loss: -0.95751\n",
      "epoch: 09, loss: -0.95912\n",
      "torch.Size([1024, 64])\n"
     ]
    },
    {
     "name": "stderr",
     "output_type": "stream",
     "text": [
      " 34%|███▍      | 343/999 [7:02:22<13:11:42, 72.41s/it]"
     ]
    },
    {
     "name": "stdout",
     "output_type": "stream",
     "text": [
      "eigenvalues shape torch.Size([5]) eigenvectors shape torch.Size([5, 1024])\n",
      "343 /home/phdcs2/Hard_Disk/Datasets/Deep-Spectral-Segmentation/data/object-segmentation/ECSSD/features/0345_resized.pth\n",
      "dict_keys(['k', 'indices', 'file', 'id', 'model_name', 'patch_size', 'shape'])\n",
      "0345_resized\n"
     ]
    },
    {
     "name": "stderr",
     "output_type": "stream",
     "text": [
      "/home/phdcs2/Hard_Disk/Projects/T2I/deep-spectral-segmentation/venv/lib/python3.8/site-packages/sklearn/decomposition/_pca.py:642: RuntimeWarning: invalid value encountered in divide\n",
      "  self.explained_variance_ratio_ = self.explained_variance_ / total_var\n"
     ]
    },
    {
     "name": "stdout",
     "output_type": "stream",
     "text": [
      "Starting Training\n",
      "epoch: 00, loss: -0.90953\n",
      "epoch: 01, loss: -0.94474\n",
      "epoch: 02, loss: -0.95366\n",
      "epoch: 03, loss: -0.95884\n",
      "epoch: 04, loss: -0.96236\n",
      "epoch: 05, loss: -0.96492\n",
      "epoch: 06, loss: -0.96697\n",
      "epoch: 07, loss: -0.96863\n",
      "epoch: 08, loss: -0.97000\n",
      "epoch: 09, loss: -0.97117\n",
      "torch.Size([1024, 64])\n"
     ]
    },
    {
     "name": "stderr",
     "output_type": "stream",
     "text": [
      " 34%|███▍      | 344/999 [7:03:22<12:28:38, 68.58s/it]"
     ]
    },
    {
     "name": "stdout",
     "output_type": "stream",
     "text": [
      "eigenvalues shape torch.Size([5]) eigenvectors shape torch.Size([5, 1024])\n",
      "344 /home/phdcs2/Hard_Disk/Datasets/Deep-Spectral-Segmentation/data/object-segmentation/ECSSD/features/0346_resized.pth\n",
      "dict_keys(['k', 'indices', 'file', 'id', 'model_name', 'patch_size', 'shape'])\n",
      "0346_resized\n",
      "Starting Training\n",
      "epoch: 00, loss: -0.88359\n",
      "epoch: 01, loss: -0.92880\n",
      "epoch: 02, loss: -0.94060\n",
      "epoch: 03, loss: -0.94770\n",
      "epoch: 04, loss: -0.95228\n",
      "epoch: 05, loss: -0.95568\n",
      "epoch: 06, loss: -0.95845\n",
      "epoch: 07, loss: -0.96059\n",
      "epoch: 08, loss: -0.96244\n",
      "epoch: 09, loss: -0.96396\n",
      "torch.Size([1024, 64])\n"
     ]
    },
    {
     "name": "stderr",
     "output_type": "stream",
     "text": [
      " 35%|███▍      | 345/999 [7:04:37<12:47:49, 70.44s/it]"
     ]
    },
    {
     "name": "stdout",
     "output_type": "stream",
     "text": [
      "eigenvalues shape torch.Size([5]) eigenvectors shape torch.Size([5, 1024])\n",
      "345 /home/phdcs2/Hard_Disk/Datasets/Deep-Spectral-Segmentation/data/object-segmentation/ECSSD/features/0347_resized.pth\n",
      "dict_keys(['k', 'indices', 'file', 'id', 'model_name', 'patch_size', 'shape'])\n",
      "0347_resized\n"
     ]
    },
    {
     "name": "stderr",
     "output_type": "stream",
     "text": [
      "/home/phdcs2/Hard_Disk/Projects/T2I/deep-spectral-segmentation/venv/lib/python3.8/site-packages/sklearn/decomposition/_pca.py:642: RuntimeWarning: invalid value encountered in divide\n",
      "  self.explained_variance_ratio_ = self.explained_variance_ / total_var\n"
     ]
    },
    {
     "name": "stdout",
     "output_type": "stream",
     "text": [
      "Starting Training\n",
      "epoch: 00, loss: -0.91529\n",
      "epoch: 01, loss: -0.94991\n",
      "epoch: 02, loss: -0.95745\n",
      "epoch: 03, loss: -0.96193\n",
      "epoch: 04, loss: -0.96492\n",
      "epoch: 05, loss: -0.96718\n",
      "epoch: 06, loss: -0.96895\n",
      "epoch: 07, loss: -0.97040\n",
      "epoch: 08, loss: -0.97159\n",
      "epoch: 09, loss: -0.97265\n",
      "torch.Size([1024, 64])\n"
     ]
    },
    {
     "name": "stderr",
     "output_type": "stream",
     "text": [
      " 35%|███▍      | 346/999 [7:05:49<12:53:03, 71.03s/it]"
     ]
    },
    {
     "name": "stdout",
     "output_type": "stream",
     "text": [
      "eigenvalues shape torch.Size([5]) eigenvectors shape torch.Size([5, 1024])\n",
      "346 /home/phdcs2/Hard_Disk/Datasets/Deep-Spectral-Segmentation/data/object-segmentation/ECSSD/features/0348_resized.pth\n",
      "dict_keys(['k', 'indices', 'file', 'id', 'model_name', 'patch_size', 'shape'])\n",
      "0348_resized\n"
     ]
    },
    {
     "name": "stderr",
     "output_type": "stream",
     "text": [
      "/home/phdcs2/Hard_Disk/Projects/T2I/deep-spectral-segmentation/venv/lib/python3.8/site-packages/sklearn/decomposition/_pca.py:642: RuntimeWarning: invalid value encountered in divide\n",
      "  self.explained_variance_ratio_ = self.explained_variance_ / total_var\n"
     ]
    },
    {
     "name": "stdout",
     "output_type": "stream",
     "text": [
      "Starting Training\n",
      "epoch: 00, loss: -0.91155\n",
      "epoch: 01, loss: -0.94742\n",
      "epoch: 02, loss: -0.95594\n",
      "epoch: 03, loss: -0.96091\n",
      "epoch: 04, loss: -0.96428\n",
      "epoch: 05, loss: -0.96682\n",
      "epoch: 06, loss: -0.96879\n",
      "epoch: 07, loss: -0.97037\n",
      "epoch: 08, loss: -0.97171\n",
      "epoch: 09, loss: -0.97286\n",
      "torch.Size([1024, 64])\n"
     ]
    },
    {
     "name": "stderr",
     "output_type": "stream",
     "text": [
      " 35%|███▍      | 347/999 [7:07:03<12:59:34, 71.74s/it]"
     ]
    },
    {
     "name": "stdout",
     "output_type": "stream",
     "text": [
      "eigenvalues shape torch.Size([5]) eigenvectors shape torch.Size([5, 1024])\n",
      "347 /home/phdcs2/Hard_Disk/Datasets/Deep-Spectral-Segmentation/data/object-segmentation/ECSSD/features/0349_resized.pth\n",
      "dict_keys(['k', 'indices', 'file', 'id', 'model_name', 'patch_size', 'shape'])\n",
      "0349_resized\n"
     ]
    },
    {
     "name": "stderr",
     "output_type": "stream",
     "text": [
      "/home/phdcs2/Hard_Disk/Projects/T2I/deep-spectral-segmentation/venv/lib/python3.8/site-packages/sklearn/decomposition/_pca.py:642: RuntimeWarning: invalid value encountered in divide\n",
      "  self.explained_variance_ratio_ = self.explained_variance_ / total_var\n"
     ]
    },
    {
     "name": "stdout",
     "output_type": "stream",
     "text": [
      "Starting Training\n",
      "epoch: 00, loss: -0.93352\n",
      "epoch: 01, loss: -0.96137\n",
      "epoch: 02, loss: -0.96679\n",
      "epoch: 03, loss: -0.96999\n",
      "epoch: 04, loss: -0.97223\n",
      "epoch: 05, loss: -0.97392\n",
      "epoch: 06, loss: -0.97523\n",
      "epoch: 07, loss: -0.97633\n",
      "epoch: 08, loss: -0.97728\n",
      "epoch: 09, loss: -0.97806\n",
      "torch.Size([1024, 64])\n"
     ]
    },
    {
     "name": "stderr",
     "output_type": "stream",
     "text": [
      " 35%|███▍      | 348/999 [7:08:12<12:51:32, 71.11s/it]"
     ]
    },
    {
     "name": "stdout",
     "output_type": "stream",
     "text": [
      "eigenvalues shape torch.Size([5]) eigenvectors shape torch.Size([5, 1024])\n",
      "348 /home/phdcs2/Hard_Disk/Datasets/Deep-Spectral-Segmentation/data/object-segmentation/ECSSD/features/0350_resized.pth\n",
      "dict_keys(['k', 'indices', 'file', 'id', 'model_name', 'patch_size', 'shape'])\n",
      "0350_resized\n"
     ]
    },
    {
     "name": "stderr",
     "output_type": "stream",
     "text": [
      "/home/phdcs2/Hard_Disk/Projects/T2I/deep-spectral-segmentation/venv/lib/python3.8/site-packages/sklearn/decomposition/_pca.py:642: RuntimeWarning: invalid value encountered in divide\n",
      "  self.explained_variance_ratio_ = self.explained_variance_ / total_var\n"
     ]
    },
    {
     "name": "stdout",
     "output_type": "stream",
     "text": [
      "Starting Training\n",
      "epoch: 00, loss: -0.92119\n",
      "epoch: 01, loss: -0.95434\n",
      "epoch: 02, loss: -0.96156\n",
      "epoch: 03, loss: -0.96573\n",
      "epoch: 04, loss: -0.96859\n",
      "epoch: 05, loss: -0.97071\n",
      "epoch: 06, loss: -0.97237\n",
      "epoch: 07, loss: -0.97371\n",
      "epoch: 08, loss: -0.97484\n",
      "epoch: 09, loss: -0.97581\n",
      "torch.Size([1024, 64])\n"
     ]
    },
    {
     "name": "stderr",
     "output_type": "stream",
     "text": [
      " 35%|███▍      | 349/999 [7:09:18<12:32:33, 69.47s/it]"
     ]
    },
    {
     "name": "stdout",
     "output_type": "stream",
     "text": [
      "eigenvalues shape torch.Size([5]) eigenvectors shape torch.Size([5, 1024])\n",
      "349 /home/phdcs2/Hard_Disk/Datasets/Deep-Spectral-Segmentation/data/object-segmentation/ECSSD/features/0351_resized.pth\n",
      "dict_keys(['k', 'indices', 'file', 'id', 'model_name', 'patch_size', 'shape'])\n",
      "0351_resized\n"
     ]
    },
    {
     "name": "stderr",
     "output_type": "stream",
     "text": [
      "/home/phdcs2/Hard_Disk/Projects/T2I/deep-spectral-segmentation/venv/lib/python3.8/site-packages/sklearn/decomposition/_pca.py:642: RuntimeWarning: invalid value encountered in divide\n",
      "  self.explained_variance_ratio_ = self.explained_variance_ / total_var\n"
     ]
    },
    {
     "name": "stdout",
     "output_type": "stream",
     "text": [
      "Starting Training\n",
      "epoch: 00, loss: -0.93279\n",
      "epoch: 01, loss: -0.95835\n",
      "epoch: 02, loss: -0.96452\n",
      "epoch: 03, loss: -0.96812\n",
      "epoch: 04, loss: -0.97063\n",
      "epoch: 05, loss: -0.97251\n",
      "epoch: 06, loss: -0.97401\n",
      "epoch: 07, loss: -0.97522\n",
      "epoch: 08, loss: -0.97625\n",
      "epoch: 09, loss: -0.97713\n",
      "torch.Size([1024, 64])\n"
     ]
    },
    {
     "name": "stderr",
     "output_type": "stream",
     "text": [
      " 35%|███▌      | 350/999 [7:10:17<11:56:52, 66.28s/it]"
     ]
    },
    {
     "name": "stdout",
     "output_type": "stream",
     "text": [
      "eigenvalues shape torch.Size([5]) eigenvectors shape torch.Size([5, 1024])\n",
      "350 /home/phdcs2/Hard_Disk/Datasets/Deep-Spectral-Segmentation/data/object-segmentation/ECSSD/features/0352_resized.pth\n",
      "dict_keys(['k', 'indices', 'file', 'id', 'model_name', 'patch_size', 'shape'])\n",
      "0352_resized\n",
      "Starting Training\n",
      "epoch: 00, loss: -0.92594\n",
      "epoch: 01, loss: -0.95619\n",
      "epoch: 02, loss: -0.96262\n",
      "epoch: 03, loss: -0.96633\n",
      "epoch: 04, loss: -0.96888\n",
      "epoch: 05, loss: -0.97077\n",
      "epoch: 06, loss: -0.97228\n",
      "epoch: 07, loss: -0.97352\n",
      "epoch: 08, loss: -0.97455\n",
      "epoch: 09, loss: -0.97542\n",
      "torch.Size([1024, 64])\n"
     ]
    },
    {
     "name": "stderr",
     "output_type": "stream",
     "text": [
      " 35%|███▌      | 351/999 [7:11:26<12:04:47, 67.11s/it]"
     ]
    },
    {
     "name": "stdout",
     "output_type": "stream",
     "text": [
      "eigenvalues shape torch.Size([5]) eigenvectors shape torch.Size([5, 1024])\n",
      "351 /home/phdcs2/Hard_Disk/Datasets/Deep-Spectral-Segmentation/data/object-segmentation/ECSSD/features/0353_resized.pth\n",
      "dict_keys(['k', 'indices', 'file', 'id', 'model_name', 'patch_size', 'shape'])\n",
      "0353_resized\n",
      "Starting Training\n",
      "epoch: 00, loss: -0.88268\n",
      "epoch: 01, loss: -0.93116\n",
      "epoch: 02, loss: -0.94256\n",
      "epoch: 03, loss: -0.94908\n",
      "epoch: 04, loss: -0.95336\n",
      "epoch: 05, loss: -0.95664\n",
      "epoch: 06, loss: -0.95919\n",
      "epoch: 07, loss: -0.96120\n",
      "epoch: 08, loss: -0.96289\n",
      "epoch: 09, loss: -0.96442\n",
      "torch.Size([1024, 64])\n"
     ]
    },
    {
     "name": "stderr",
     "output_type": "stream",
     "text": [
      " 35%|███▌      | 352/999 [7:12:39<12:21:59, 68.81s/it]"
     ]
    },
    {
     "name": "stdout",
     "output_type": "stream",
     "text": [
      "eigenvalues shape torch.Size([5]) eigenvectors shape torch.Size([5, 1024])\n",
      "352 /home/phdcs2/Hard_Disk/Datasets/Deep-Spectral-Segmentation/data/object-segmentation/ECSSD/features/0354_resized.pth\n",
      "dict_keys(['k', 'indices', 'file', 'id', 'model_name', 'patch_size', 'shape'])\n",
      "0354_resized\n",
      "Starting Training\n",
      "epoch: 00, loss: -0.88684\n",
      "epoch: 01, loss: -0.93254\n",
      "epoch: 02, loss: -0.94360\n",
      "epoch: 03, loss: -0.94990\n",
      "epoch: 04, loss: -0.95398\n",
      "epoch: 05, loss: -0.95718\n",
      "epoch: 06, loss: -0.95960\n",
      "epoch: 07, loss: -0.96158\n",
      "epoch: 08, loss: -0.96329\n",
      "epoch: 09, loss: -0.96471\n",
      "torch.Size([1024, 64])\n"
     ]
    },
    {
     "name": "stderr",
     "output_type": "stream",
     "text": [
      " 35%|███▌      | 353/999 [7:13:45<12:13:43, 68.15s/it]"
     ]
    },
    {
     "name": "stdout",
     "output_type": "stream",
     "text": [
      "eigenvalues shape torch.Size([5]) eigenvectors shape torch.Size([5, 1024])\n",
      "353 /home/phdcs2/Hard_Disk/Datasets/Deep-Spectral-Segmentation/data/object-segmentation/ECSSD/features/0355_resized.pth\n",
      "dict_keys(['k', 'indices', 'file', 'id', 'model_name', 'patch_size', 'shape'])\n",
      "0355_resized\n",
      "Starting Training\n",
      "epoch: 00, loss: -0.82761\n",
      "epoch: 01, loss: -0.89765\n",
      "epoch: 02, loss: -0.91606\n",
      "epoch: 03, loss: -0.92635\n",
      "epoch: 04, loss: -0.93284\n",
      "epoch: 05, loss: -0.93790\n",
      "epoch: 06, loss: -0.94179\n",
      "epoch: 07, loss: -0.94480\n",
      "epoch: 08, loss: -0.94736\n",
      "epoch: 09, loss: -0.94945\n",
      "torch.Size([1024, 64])\n"
     ]
    },
    {
     "name": "stderr",
     "output_type": "stream",
     "text": [
      " 35%|███▌      | 354/999 [7:14:49<11:58:38, 66.85s/it]"
     ]
    },
    {
     "name": "stdout",
     "output_type": "stream",
     "text": [
      "eigenvalues shape torch.Size([5]) eigenvectors shape torch.Size([5, 1024])\n",
      "354 /home/phdcs2/Hard_Disk/Datasets/Deep-Spectral-Segmentation/data/object-segmentation/ECSSD/features/0356_resized.pth\n",
      "dict_keys(['k', 'indices', 'file', 'id', 'model_name', 'patch_size', 'shape'])\n",
      "0356_resized\n",
      "Starting Training\n",
      "epoch: 00, loss: -0.86128\n",
      "epoch: 01, loss: -0.92096\n",
      "epoch: 02, loss: -0.93507\n",
      "epoch: 03, loss: -0.94288\n",
      "epoch: 04, loss: -0.94817\n",
      "epoch: 05, loss: -0.95205\n",
      "epoch: 06, loss: -0.95497\n",
      "epoch: 07, loss: -0.95738\n",
      "epoch: 08, loss: -0.95934\n",
      "epoch: 09, loss: -0.96109\n",
      "torch.Size([1024, 64])\n"
     ]
    },
    {
     "name": "stderr",
     "output_type": "stream",
     "text": [
      " 36%|███▌      | 355/999 [7:16:01<12:14:54, 68.47s/it]"
     ]
    },
    {
     "name": "stdout",
     "output_type": "stream",
     "text": [
      "eigenvalues shape torch.Size([5]) eigenvectors shape torch.Size([5, 1024])\n",
      "355 /home/phdcs2/Hard_Disk/Datasets/Deep-Spectral-Segmentation/data/object-segmentation/ECSSD/features/0357_resized.pth\n",
      "dict_keys(['k', 'indices', 'file', 'id', 'model_name', 'patch_size', 'shape'])\n",
      "0357_resized\n",
      "Starting Training\n",
      "epoch: 00, loss: -0.92762\n",
      "epoch: 01, loss: -0.95663\n",
      "epoch: 02, loss: -0.96334\n",
      "epoch: 03, loss: -0.96731\n",
      "epoch: 04, loss: -0.96999\n",
      "epoch: 05, loss: -0.97200\n",
      "epoch: 06, loss: -0.97358\n",
      "epoch: 07, loss: -0.97486\n",
      "epoch: 08, loss: -0.97595\n",
      "epoch: 09, loss: -0.97686\n",
      "torch.Size([1024, 64])\n"
     ]
    },
    {
     "name": "stderr",
     "output_type": "stream",
     "text": [
      " 36%|███▌      | 356/999 [7:17:11<12:17:14, 68.79s/it]"
     ]
    },
    {
     "name": "stdout",
     "output_type": "stream",
     "text": [
      "eigenvalues shape torch.Size([5]) eigenvectors shape torch.Size([5, 1024])\n",
      "356 /home/phdcs2/Hard_Disk/Datasets/Deep-Spectral-Segmentation/data/object-segmentation/ECSSD/features/0358_resized.pth\n",
      "dict_keys(['k', 'indices', 'file', 'id', 'model_name', 'patch_size', 'shape'])\n",
      "0358_resized\n",
      "Starting Training\n",
      "epoch: 00, loss: -0.91296\n",
      "epoch: 01, loss: -0.94753\n",
      "epoch: 02, loss: -0.95623\n",
      "epoch: 03, loss: -0.96122\n",
      "epoch: 04, loss: -0.96463\n",
      "epoch: 05, loss: -0.96718\n",
      "epoch: 06, loss: -0.96919\n",
      "epoch: 07, loss: -0.97082\n",
      "epoch: 08, loss: -0.97217\n",
      "epoch: 09, loss: -0.97329\n",
      "torch.Size([1024, 64])\n"
     ]
    },
    {
     "name": "stderr",
     "output_type": "stream",
     "text": [
      " 36%|███▌      | 357/999 [7:18:12<11:50:15, 66.38s/it]"
     ]
    },
    {
     "name": "stdout",
     "output_type": "stream",
     "text": [
      "eigenvalues shape torch.Size([5]) eigenvectors shape torch.Size([5, 1024])\n",
      "357 /home/phdcs2/Hard_Disk/Datasets/Deep-Spectral-Segmentation/data/object-segmentation/ECSSD/features/0359_resized.pth\n",
      "dict_keys(['k', 'indices', 'file', 'id', 'model_name', 'patch_size', 'shape'])\n",
      "0359_resized\n"
     ]
    },
    {
     "name": "stderr",
     "output_type": "stream",
     "text": [
      "/home/phdcs2/Hard_Disk/Projects/T2I/deep-spectral-segmentation/venv/lib/python3.8/site-packages/sklearn/decomposition/_pca.py:642: RuntimeWarning: invalid value encountered in divide\n",
      "  self.explained_variance_ratio_ = self.explained_variance_ / total_var\n"
     ]
    },
    {
     "name": "stdout",
     "output_type": "stream",
     "text": [
      "Starting Training\n",
      "epoch: 00, loss: -0.91622\n",
      "epoch: 01, loss: -0.95255\n",
      "epoch: 02, loss: -0.96017\n",
      "epoch: 03, loss: -0.96459\n",
      "epoch: 04, loss: -0.96758\n",
      "epoch: 05, loss: -0.96979\n",
      "epoch: 06, loss: -0.97152\n",
      "epoch: 07, loss: -0.97295\n",
      "epoch: 08, loss: -0.97411\n",
      "epoch: 09, loss: -0.97511\n",
      "torch.Size([1024, 64])\n"
     ]
    },
    {
     "name": "stderr",
     "output_type": "stream",
     "text": [
      " 36%|███▌      | 358/999 [7:19:20<11:56:30, 67.07s/it]"
     ]
    },
    {
     "name": "stdout",
     "output_type": "stream",
     "text": [
      "eigenvalues shape torch.Size([5]) eigenvectors shape torch.Size([5, 1024])\n",
      "358 /home/phdcs2/Hard_Disk/Datasets/Deep-Spectral-Segmentation/data/object-segmentation/ECSSD/features/0360_resized.pth\n",
      "dict_keys(['k', 'indices', 'file', 'id', 'model_name', 'patch_size', 'shape'])\n",
      "0360_resized\n"
     ]
    },
    {
     "name": "stderr",
     "output_type": "stream",
     "text": [
      "/home/phdcs2/Hard_Disk/Projects/T2I/deep-spectral-segmentation/venv/lib/python3.8/site-packages/sklearn/decomposition/_pca.py:642: RuntimeWarning: invalid value encountered in divide\n",
      "  self.explained_variance_ratio_ = self.explained_variance_ / total_var\n"
     ]
    },
    {
     "name": "stdout",
     "output_type": "stream",
     "text": [
      "Starting Training\n",
      "epoch: 00, loss: -0.93085\n",
      "epoch: 01, loss: -0.95841\n",
      "epoch: 02, loss: -0.96487\n",
      "epoch: 03, loss: -0.96855\n",
      "epoch: 04, loss: -0.97110\n",
      "epoch: 05, loss: -0.97298\n",
      "epoch: 06, loss: -0.97448\n",
      "epoch: 07, loss: -0.97570\n",
      "epoch: 08, loss: -0.97671\n",
      "epoch: 09, loss: -0.97757\n",
      "torch.Size([1024, 64])\n"
     ]
    },
    {
     "name": "stderr",
     "output_type": "stream",
     "text": [
      " 36%|███▌      | 359/999 [7:20:30<12:03:32, 67.83s/it]"
     ]
    },
    {
     "name": "stdout",
     "output_type": "stream",
     "text": [
      "eigenvalues shape torch.Size([5]) eigenvectors shape torch.Size([5, 1024])\n",
      "359 /home/phdcs2/Hard_Disk/Datasets/Deep-Spectral-Segmentation/data/object-segmentation/ECSSD/features/0361_resized.pth\n",
      "dict_keys(['k', 'indices', 'file', 'id', 'model_name', 'patch_size', 'shape'])\n",
      "0361_resized\n"
     ]
    },
    {
     "name": "stderr",
     "output_type": "stream",
     "text": [
      "/home/phdcs2/Hard_Disk/Projects/T2I/deep-spectral-segmentation/venv/lib/python3.8/site-packages/sklearn/decomposition/_pca.py:642: RuntimeWarning: invalid value encountered in divide\n",
      "  self.explained_variance_ratio_ = self.explained_variance_ / total_var\n"
     ]
    },
    {
     "name": "stdout",
     "output_type": "stream",
     "text": [
      "Starting Training\n",
      "epoch: 00, loss: -0.92531\n",
      "epoch: 01, loss: -0.95596\n",
      "epoch: 02, loss: -0.96302\n",
      "epoch: 03, loss: -0.96717\n",
      "epoch: 04, loss: -0.96999\n",
      "epoch: 05, loss: -0.97211\n",
      "epoch: 06, loss: -0.97376\n",
      "epoch: 07, loss: -0.97512\n",
      "epoch: 08, loss: -0.97622\n",
      "epoch: 09, loss: -0.97717\n",
      "torch.Size([1024, 64])\n"
     ]
    },
    {
     "name": "stderr",
     "output_type": "stream",
     "text": [
      " 36%|███▌      | 360/999 [7:21:40<12:09:41, 68.52s/it]"
     ]
    },
    {
     "name": "stdout",
     "output_type": "stream",
     "text": [
      "eigenvalues shape torch.Size([5]) eigenvectors shape torch.Size([5, 1024])\n",
      "360 /home/phdcs2/Hard_Disk/Datasets/Deep-Spectral-Segmentation/data/object-segmentation/ECSSD/features/0362_resized.pth\n",
      "dict_keys(['k', 'indices', 'file', 'id', 'model_name', 'patch_size', 'shape'])\n",
      "0362_resized\n",
      "Starting Training\n",
      "epoch: 00, loss: -0.88671\n",
      "epoch: 01, loss: -0.93097\n",
      "epoch: 02, loss: -0.94264\n",
      "epoch: 03, loss: -0.94934\n",
      "epoch: 04, loss: -0.95395\n",
      "epoch: 05, loss: -0.95724\n",
      "epoch: 06, loss: -0.95976\n",
      "epoch: 07, loss: -0.96198\n",
      "epoch: 08, loss: -0.96368\n",
      "epoch: 09, loss: -0.96517\n",
      "torch.Size([1024, 64])\n"
     ]
    },
    {
     "name": "stderr",
     "output_type": "stream",
     "text": [
      " 36%|███▌      | 361/999 [7:22:48<12:07:34, 68.42s/it]"
     ]
    },
    {
     "name": "stdout",
     "output_type": "stream",
     "text": [
      "eigenvalues shape torch.Size([5]) eigenvectors shape torch.Size([5, 1024])\n",
      "361 /home/phdcs2/Hard_Disk/Datasets/Deep-Spectral-Segmentation/data/object-segmentation/ECSSD/features/0363_resized.pth\n",
      "dict_keys(['k', 'indices', 'file', 'id', 'model_name', 'patch_size', 'shape'])\n",
      "0363_resized\n",
      "Starting Training\n",
      "epoch: 00, loss: -0.93599\n",
      "epoch: 01, loss: -0.96029\n",
      "epoch: 02, loss: -0.96598\n",
      "epoch: 03, loss: -0.96933\n",
      "epoch: 04, loss: -0.97158\n",
      "epoch: 05, loss: -0.97335\n",
      "epoch: 06, loss: -0.97472\n",
      "epoch: 07, loss: -0.97583\n",
      "epoch: 08, loss: -0.97677\n",
      "epoch: 09, loss: -0.97758\n",
      "torch.Size([1024, 64])\n"
     ]
    },
    {
     "name": "stderr",
     "output_type": "stream",
     "text": [
      " 36%|███▌      | 362/999 [7:23:53<11:55:58, 67.44s/it]"
     ]
    },
    {
     "name": "stdout",
     "output_type": "stream",
     "text": [
      "eigenvalues shape torch.Size([5]) eigenvectors shape torch.Size([5, 1024])\n",
      "362 /home/phdcs2/Hard_Disk/Datasets/Deep-Spectral-Segmentation/data/object-segmentation/ECSSD/features/0364_resized.pth\n",
      "dict_keys(['k', 'indices', 'file', 'id', 'model_name', 'patch_size', 'shape'])\n",
      "0364_resized\n",
      "Starting Training\n",
      "epoch: 00, loss: -0.89229\n",
      "epoch: 01, loss: -0.93666\n",
      "epoch: 02, loss: -0.94733\n",
      "epoch: 03, loss: -0.95342\n",
      "epoch: 04, loss: -0.95757\n",
      "epoch: 05, loss: -0.96057\n",
      "epoch: 06, loss: -0.96297\n",
      "epoch: 07, loss: -0.96492\n",
      "epoch: 08, loss: -0.96659\n",
      "epoch: 09, loss: -0.96790\n",
      "torch.Size([1024, 64])\n"
     ]
    },
    {
     "name": "stderr",
     "output_type": "stream",
     "text": [
      " 36%|███▋      | 363/999 [7:24:54<11:34:29, 65.52s/it]"
     ]
    },
    {
     "name": "stdout",
     "output_type": "stream",
     "text": [
      "eigenvalues shape torch.Size([5]) eigenvectors shape torch.Size([5, 1024])\n",
      "363 /home/phdcs2/Hard_Disk/Datasets/Deep-Spectral-Segmentation/data/object-segmentation/ECSSD/features/0365_resized.pth\n",
      "dict_keys(['k', 'indices', 'file', 'id', 'model_name', 'patch_size', 'shape'])\n",
      "0365_resized\n"
     ]
    },
    {
     "name": "stderr",
     "output_type": "stream",
     "text": [
      "/home/phdcs2/Hard_Disk/Projects/T2I/deep-spectral-segmentation/venv/lib/python3.8/site-packages/sklearn/decomposition/_pca.py:642: RuntimeWarning: invalid value encountered in divide\n",
      "  self.explained_variance_ratio_ = self.explained_variance_ / total_var\n"
     ]
    },
    {
     "name": "stdout",
     "output_type": "stream",
     "text": [
      "Starting Training\n",
      "epoch: 00, loss: -0.91805\n",
      "epoch: 01, loss: -0.94957\n",
      "epoch: 02, loss: -0.95709\n",
      "epoch: 03, loss: -0.96164\n",
      "epoch: 04, loss: -0.96470\n",
      "epoch: 05, loss: -0.96696\n",
      "epoch: 06, loss: -0.96881\n",
      "epoch: 07, loss: -0.97036\n",
      "epoch: 08, loss: -0.97164\n",
      "epoch: 09, loss: -0.97267\n",
      "torch.Size([1024, 64])\n"
     ]
    },
    {
     "name": "stderr",
     "output_type": "stream",
     "text": [
      " 36%|███▋      | 364/999 [7:25:58<11:28:28, 65.05s/it]"
     ]
    },
    {
     "name": "stdout",
     "output_type": "stream",
     "text": [
      "eigenvalues shape torch.Size([5]) eigenvectors shape torch.Size([5, 1024])\n",
      "364 /home/phdcs2/Hard_Disk/Datasets/Deep-Spectral-Segmentation/data/object-segmentation/ECSSD/features/0366_resized.pth\n",
      "dict_keys(['k', 'indices', 'file', 'id', 'model_name', 'patch_size', 'shape'])\n",
      "0366_resized\n",
      "Starting Training\n",
      "epoch: 00, loss: -0.88237\n",
      "epoch: 01, loss: -0.93007\n",
      "epoch: 02, loss: -0.94153\n",
      "epoch: 03, loss: -0.94855\n",
      "epoch: 04, loss: -0.95300\n",
      "epoch: 05, loss: -0.95621\n",
      "epoch: 06, loss: -0.95877\n",
      "epoch: 07, loss: -0.96077\n",
      "epoch: 08, loss: -0.96249\n",
      "epoch: 09, loss: -0.96390\n",
      "torch.Size([1024, 64])\n"
     ]
    },
    {
     "name": "stderr",
     "output_type": "stream",
     "text": [
      " 37%|███▋      | 365/999 [7:26:56<11:02:59, 62.74s/it]"
     ]
    },
    {
     "name": "stdout",
     "output_type": "stream",
     "text": [
      "eigenvalues shape torch.Size([5]) eigenvectors shape torch.Size([5, 1024])\n",
      "365 /home/phdcs2/Hard_Disk/Datasets/Deep-Spectral-Segmentation/data/object-segmentation/ECSSD/features/0367_resized.pth\n",
      "dict_keys(['k', 'indices', 'file', 'id', 'model_name', 'patch_size', 'shape'])\n",
      "0367_resized\n",
      "Starting Training\n",
      "epoch: 00, loss: -0.85418\n",
      "epoch: 01, loss: -0.91544\n",
      "epoch: 02, loss: -0.93090\n",
      "epoch: 03, loss: -0.93942\n",
      "epoch: 04, loss: -0.94528\n",
      "epoch: 05, loss: -0.94941\n",
      "epoch: 06, loss: -0.95261\n",
      "epoch: 07, loss: -0.95512\n",
      "epoch: 08, loss: -0.95727\n",
      "epoch: 09, loss: -0.95902\n",
      "torch.Size([1024, 64])\n"
     ]
    },
    {
     "name": "stderr",
     "output_type": "stream",
     "text": [
      " 37%|███▋      | 366/999 [7:27:53<10:44:25, 61.08s/it]"
     ]
    },
    {
     "name": "stdout",
     "output_type": "stream",
     "text": [
      "eigenvalues shape torch.Size([5]) eigenvectors shape torch.Size([5, 1024])\n",
      "366 /home/phdcs2/Hard_Disk/Datasets/Deep-Spectral-Segmentation/data/object-segmentation/ECSSD/features/0368_resized.pth\n",
      "dict_keys(['k', 'indices', 'file', 'id', 'model_name', 'patch_size', 'shape'])\n",
      "0368_resized\n",
      "Starting Training\n",
      "epoch: 00, loss: -0.86168\n",
      "epoch: 01, loss: -0.91779\n",
      "epoch: 02, loss: -0.93216\n",
      "epoch: 03, loss: -0.94042\n",
      "epoch: 04, loss: -0.94561\n",
      "epoch: 05, loss: -0.94990\n",
      "epoch: 06, loss: -0.95306\n",
      "epoch: 07, loss: -0.95558\n",
      "epoch: 08, loss: -0.95769\n",
      "epoch: 09, loss: -0.95944\n",
      "torch.Size([1024, 64])\n"
     ]
    },
    {
     "name": "stderr",
     "output_type": "stream",
     "text": [
      " 37%|███▋      | 367/999 [7:28:45<10:14:15, 58.32s/it]"
     ]
    },
    {
     "name": "stdout",
     "output_type": "stream",
     "text": [
      "eigenvalues shape torch.Size([5]) eigenvectors shape torch.Size([5, 1024])\n",
      "367 /home/phdcs2/Hard_Disk/Datasets/Deep-Spectral-Segmentation/data/object-segmentation/ECSSD/features/0369_resized.pth\n",
      "dict_keys(['k', 'indices', 'file', 'id', 'model_name', 'patch_size', 'shape'])\n",
      "0369_resized\n",
      "Starting Training\n",
      "epoch: 00, loss: -0.91596\n",
      "epoch: 01, loss: -0.94839\n",
      "epoch: 02, loss: -0.95663\n",
      "epoch: 03, loss: -0.96136\n",
      "epoch: 04, loss: -0.96462\n",
      "epoch: 05, loss: -0.96699\n",
      "epoch: 06, loss: -0.96886\n",
      "epoch: 07, loss: -0.97040\n",
      "epoch: 08, loss: -0.97166\n",
      "epoch: 09, loss: -0.97278\n",
      "torch.Size([1024, 64])\n"
     ]
    },
    {
     "name": "stderr",
     "output_type": "stream",
     "text": [
      " 37%|███▋      | 368/999 [7:29:54<10:49:19, 61.74s/it]"
     ]
    },
    {
     "name": "stdout",
     "output_type": "stream",
     "text": [
      "eigenvalues shape torch.Size([5]) eigenvectors shape torch.Size([5, 1024])\n",
      "368 /home/phdcs2/Hard_Disk/Datasets/Deep-Spectral-Segmentation/data/object-segmentation/ECSSD/features/0370_resized.pth\n",
      "dict_keys(['k', 'indices', 'file', 'id', 'model_name', 'patch_size', 'shape'])\n",
      "0370_resized\n"
     ]
    },
    {
     "name": "stderr",
     "output_type": "stream",
     "text": [
      "/home/phdcs2/Hard_Disk/Projects/T2I/deep-spectral-segmentation/venv/lib/python3.8/site-packages/sklearn/decomposition/_pca.py:642: RuntimeWarning: invalid value encountered in divide\n",
      "  self.explained_variance_ratio_ = self.explained_variance_ / total_var\n"
     ]
    },
    {
     "name": "stdout",
     "output_type": "stream",
     "text": [
      "Starting Training\n",
      "epoch: 00, loss: -0.90536\n",
      "epoch: 01, loss: -0.94179\n",
      "epoch: 02, loss: -0.95090\n",
      "epoch: 03, loss: -0.95617\n",
      "epoch: 04, loss: -0.95984\n",
      "epoch: 05, loss: -0.96252\n",
      "epoch: 06, loss: -0.96464\n",
      "epoch: 07, loss: -0.96638\n",
      "epoch: 08, loss: -0.96783\n",
      "epoch: 09, loss: -0.96907\n",
      "torch.Size([1024, 64])\n"
     ]
    },
    {
     "name": "stderr",
     "output_type": "stream",
     "text": [
      " 37%|███▋      | 369/999 [7:31:04<11:11:45, 63.98s/it]"
     ]
    },
    {
     "name": "stdout",
     "output_type": "stream",
     "text": [
      "eigenvalues shape torch.Size([5]) eigenvectors shape torch.Size([5, 1024])\n",
      "369 /home/phdcs2/Hard_Disk/Datasets/Deep-Spectral-Segmentation/data/object-segmentation/ECSSD/features/0371_resized.pth\n",
      "dict_keys(['k', 'indices', 'file', 'id', 'model_name', 'patch_size', 'shape'])\n",
      "0371_resized\n",
      "Starting Training\n",
      "epoch: 00, loss: -0.87848\n",
      "epoch: 01, loss: -0.92692\n",
      "epoch: 02, loss: -0.93962\n",
      "epoch: 03, loss: -0.94688\n",
      "epoch: 04, loss: -0.95169\n",
      "epoch: 05, loss: -0.95525\n",
      "epoch: 06, loss: -0.95796\n",
      "epoch: 07, loss: -0.96033\n",
      "epoch: 08, loss: -0.96219\n",
      "epoch: 09, loss: -0.96375\n",
      "torch.Size([1024, 64])\n"
     ]
    },
    {
     "name": "stderr",
     "output_type": "stream",
     "text": [
      " 37%|███▋      | 370/999 [7:32:13<11:29:02, 65.73s/it]"
     ]
    },
    {
     "name": "stdout",
     "output_type": "stream",
     "text": [
      "eigenvalues shape torch.Size([5]) eigenvectors shape torch.Size([5, 1024])\n",
      "370 /home/phdcs2/Hard_Disk/Datasets/Deep-Spectral-Segmentation/data/object-segmentation/ECSSD/features/0372_resized.pth\n",
      "dict_keys(['k', 'indices', 'file', 'id', 'model_name', 'patch_size', 'shape'])\n",
      "0372_resized\n"
     ]
    },
    {
     "name": "stderr",
     "output_type": "stream",
     "text": [
      "/home/phdcs2/Hard_Disk/Projects/T2I/deep-spectral-segmentation/venv/lib/python3.8/site-packages/sklearn/decomposition/_pca.py:642: RuntimeWarning: invalid value encountered in divide\n",
      "  self.explained_variance_ratio_ = self.explained_variance_ / total_var\n"
     ]
    },
    {
     "name": "stdout",
     "output_type": "stream",
     "text": [
      "Starting Training\n",
      "epoch: 00, loss: -0.91873\n",
      "epoch: 01, loss: -0.94912\n",
      "epoch: 02, loss: -0.95663\n",
      "epoch: 03, loss: -0.96106\n",
      "epoch: 04, loss: -0.96410\n",
      "epoch: 05, loss: -0.96635\n",
      "epoch: 06, loss: -0.96814\n",
      "epoch: 07, loss: -0.96963\n",
      "epoch: 08, loss: -0.97087\n",
      "epoch: 09, loss: -0.97192\n",
      "torch.Size([1024, 64])\n"
     ]
    },
    {
     "name": "stderr",
     "output_type": "stream",
     "text": [
      " 37%|███▋      | 371/999 [7:33:19<11:26:10, 65.56s/it]"
     ]
    },
    {
     "name": "stdout",
     "output_type": "stream",
     "text": [
      "eigenvalues shape torch.Size([5]) eigenvectors shape torch.Size([5, 1024])\n",
      "371 /home/phdcs2/Hard_Disk/Datasets/Deep-Spectral-Segmentation/data/object-segmentation/ECSSD/features/0373_resized.pth\n",
      "dict_keys(['k', 'indices', 'file', 'id', 'model_name', 'patch_size', 'shape'])\n",
      "0373_resized\n",
      "Starting Training\n",
      "epoch: 00, loss: -0.92232\n",
      "epoch: 01, loss: -0.95323\n",
      "epoch: 02, loss: -0.96013\n",
      "epoch: 03, loss: -0.96417\n",
      "epoch: 04, loss: -0.96697\n",
      "epoch: 05, loss: -0.96903\n",
      "epoch: 06, loss: -0.97073\n",
      "epoch: 07, loss: -0.97205\n",
      "epoch: 08, loss: -0.97318\n",
      "epoch: 09, loss: -0.97414\n",
      "torch.Size([1024, 64])\n"
     ]
    },
    {
     "name": "stderr",
     "output_type": "stream",
     "text": [
      " 37%|███▋      | 372/999 [7:34:27<11:35:16, 66.53s/it]"
     ]
    },
    {
     "name": "stdout",
     "output_type": "stream",
     "text": [
      "eigenvalues shape torch.Size([5]) eigenvectors shape torch.Size([5, 1024])\n",
      "372 /home/phdcs2/Hard_Disk/Datasets/Deep-Spectral-Segmentation/data/object-segmentation/ECSSD/features/0374_resized.pth\n",
      "dict_keys(['k', 'indices', 'file', 'id', 'model_name', 'patch_size', 'shape'])\n",
      "0374_resized\n"
     ]
    },
    {
     "name": "stderr",
     "output_type": "stream",
     "text": [
      "/home/phdcs2/Hard_Disk/Projects/T2I/deep-spectral-segmentation/venv/lib/python3.8/site-packages/sklearn/decomposition/_pca.py:642: RuntimeWarning: invalid value encountered in divide\n",
      "  self.explained_variance_ratio_ = self.explained_variance_ / total_var\n"
     ]
    },
    {
     "name": "stdout",
     "output_type": "stream",
     "text": [
      "Starting Training\n",
      "epoch: 00, loss: -0.93153\n",
      "epoch: 01, loss: -0.96018\n",
      "epoch: 02, loss: -0.96640\n",
      "epoch: 03, loss: -0.97005\n",
      "epoch: 04, loss: -0.97253\n",
      "epoch: 05, loss: -0.97437\n",
      "epoch: 06, loss: -0.97584\n",
      "epoch: 07, loss: -0.97703\n",
      "epoch: 08, loss: -0.97802\n",
      "epoch: 09, loss: -0.97886\n",
      "torch.Size([1024, 64])\n"
     ]
    },
    {
     "name": "stderr",
     "output_type": "stream",
     "text": [
      " 37%|███▋      | 373/999 [7:35:39<11:50:49, 68.13s/it]"
     ]
    },
    {
     "name": "stdout",
     "output_type": "stream",
     "text": [
      "eigenvalues shape torch.Size([5]) eigenvectors shape torch.Size([5, 1024])\n",
      "373 /home/phdcs2/Hard_Disk/Datasets/Deep-Spectral-Segmentation/data/object-segmentation/ECSSD/features/0375_resized.pth\n",
      "dict_keys(['k', 'indices', 'file', 'id', 'model_name', 'patch_size', 'shape'])\n",
      "0375_resized\n",
      "Starting Training\n",
      "epoch: 00, loss: -0.92703\n",
      "epoch: 01, loss: -0.95759\n",
      "epoch: 02, loss: -0.96407\n",
      "epoch: 03, loss: -0.96778\n",
      "epoch: 04, loss: -0.97029\n",
      "epoch: 05, loss: -0.97219\n",
      "epoch: 06, loss: -0.97366\n",
      "epoch: 07, loss: -0.97485\n",
      "epoch: 08, loss: -0.97585\n",
      "epoch: 09, loss: -0.97672\n",
      "torch.Size([1024, 64])\n"
     ]
    },
    {
     "name": "stderr",
     "output_type": "stream",
     "text": [
      " 37%|███▋      | 374/999 [7:36:52<12:02:48, 69.39s/it]"
     ]
    },
    {
     "name": "stdout",
     "output_type": "stream",
     "text": [
      "eigenvalues shape torch.Size([5]) eigenvectors shape torch.Size([5, 1024])\n",
      "374 /home/phdcs2/Hard_Disk/Datasets/Deep-Spectral-Segmentation/data/object-segmentation/ECSSD/features/0376_resized.pth\n",
      "dict_keys(['k', 'indices', 'file', 'id', 'model_name', 'patch_size', 'shape'])\n",
      "0376_resized\n",
      "Starting Training\n",
      "epoch: 00, loss: -0.87170\n",
      "epoch: 01, loss: -0.92480\n",
      "epoch: 02, loss: -0.93763\n",
      "epoch: 03, loss: -0.94473\n",
      "epoch: 04, loss: -0.94985\n",
      "epoch: 05, loss: -0.95330\n",
      "epoch: 06, loss: -0.95630\n",
      "epoch: 07, loss: -0.95837\n",
      "epoch: 08, loss: -0.96043\n",
      "epoch: 09, loss: -0.96200\n",
      "torch.Size([1024, 64])\n"
     ]
    },
    {
     "name": "stderr",
     "output_type": "stream",
     "text": [
      " 38%|███▊      | 375/999 [7:38:01<12:02:40, 69.49s/it]"
     ]
    },
    {
     "name": "stdout",
     "output_type": "stream",
     "text": [
      "eigenvalues shape torch.Size([5]) eigenvectors shape torch.Size([5, 1024])\n",
      "375 /home/phdcs2/Hard_Disk/Datasets/Deep-Spectral-Segmentation/data/object-segmentation/ECSSD/features/0377_resized.pth\n",
      "dict_keys(['k', 'indices', 'file', 'id', 'model_name', 'patch_size', 'shape'])\n",
      "0377_resized\n",
      "Starting Training\n",
      "epoch: 00, loss: -0.91700\n",
      "epoch: 01, loss: -0.95333\n",
      "epoch: 02, loss: -0.96085\n",
      "epoch: 03, loss: -0.96510\n",
      "epoch: 04, loss: -0.96798\n",
      "epoch: 05, loss: -0.97012\n",
      "epoch: 06, loss: -0.97179\n",
      "epoch: 07, loss: -0.97315\n",
      "epoch: 08, loss: -0.97429\n",
      "epoch: 09, loss: -0.97524\n",
      "torch.Size([1024, 64])\n"
     ]
    },
    {
     "name": "stderr",
     "output_type": "stream",
     "text": [
      " 38%|███▊      | 376/999 [7:39:03<11:36:24, 67.07s/it]"
     ]
    },
    {
     "name": "stdout",
     "output_type": "stream",
     "text": [
      "eigenvalues shape torch.Size([5]) eigenvectors shape torch.Size([5, 1024])\n",
      "376 /home/phdcs2/Hard_Disk/Datasets/Deep-Spectral-Segmentation/data/object-segmentation/ECSSD/features/0378_resized.pth\n",
      "dict_keys(['k', 'indices', 'file', 'id', 'model_name', 'patch_size', 'shape'])\n",
      "0378_resized\n",
      "Starting Training\n",
      "epoch: 00, loss: -0.88497\n",
      "epoch: 01, loss: -0.93263\n",
      "epoch: 02, loss: -0.94400\n",
      "epoch: 03, loss: -0.95054\n",
      "epoch: 04, loss: -0.95486\n",
      "epoch: 05, loss: -0.95815\n",
      "epoch: 06, loss: -0.96063\n",
      "epoch: 07, loss: -0.96256\n",
      "epoch: 08, loss: -0.96424\n",
      "epoch: 09, loss: -0.96568\n",
      "torch.Size([1024, 64])\n"
     ]
    },
    {
     "name": "stderr",
     "output_type": "stream",
     "text": [
      " 38%|███▊      | 377/999 [7:40:13<11:43:58, 67.91s/it]"
     ]
    },
    {
     "name": "stdout",
     "output_type": "stream",
     "text": [
      "eigenvalues shape torch.Size([5]) eigenvectors shape torch.Size([5, 1024])\n",
      "377 /home/phdcs2/Hard_Disk/Datasets/Deep-Spectral-Segmentation/data/object-segmentation/ECSSD/features/0379_resized.pth\n",
      "dict_keys(['k', 'indices', 'file', 'id', 'model_name', 'patch_size', 'shape'])\n",
      "0379_resized\n",
      "Starting Training\n",
      "epoch: 00, loss: -0.86406\n",
      "epoch: 01, loss: -0.92020\n",
      "epoch: 02, loss: -0.93446\n",
      "epoch: 03, loss: -0.94236\n",
      "epoch: 04, loss: -0.94778\n",
      "epoch: 05, loss: -0.95159\n",
      "epoch: 06, loss: -0.95468\n",
      "epoch: 07, loss: -0.95699\n",
      "epoch: 08, loss: -0.95903\n",
      "epoch: 09, loss: -0.96076\n",
      "torch.Size([1024, 64])\n"
     ]
    },
    {
     "name": "stderr",
     "output_type": "stream",
     "text": [
      " 38%|███▊      | 378/999 [7:41:24<11:53:41, 68.96s/it]"
     ]
    },
    {
     "name": "stdout",
     "output_type": "stream",
     "text": [
      "eigenvalues shape torch.Size([5]) eigenvectors shape torch.Size([5, 1024])\n",
      "378 /home/phdcs2/Hard_Disk/Datasets/Deep-Spectral-Segmentation/data/object-segmentation/ECSSD/features/0380_resized.pth\n",
      "dict_keys(['k', 'indices', 'file', 'id', 'model_name', 'patch_size', 'shape'])\n",
      "0380_resized\n",
      "Starting Training\n",
      "epoch: 00, loss: -0.88170\n",
      "epoch: 01, loss: -0.93061\n",
      "epoch: 02, loss: -0.94290\n",
      "epoch: 03, loss: -0.94980\n",
      "epoch: 04, loss: -0.95429\n",
      "epoch: 05, loss: -0.95761\n",
      "epoch: 06, loss: -0.96026\n",
      "epoch: 07, loss: -0.96231\n",
      "epoch: 08, loss: -0.96396\n",
      "epoch: 09, loss: -0.96536\n",
      "torch.Size([1024, 64])\n"
     ]
    },
    {
     "name": "stderr",
     "output_type": "stream",
     "text": [
      " 38%|███▊      | 379/999 [7:42:35<11:58:35, 69.54s/it]"
     ]
    },
    {
     "name": "stdout",
     "output_type": "stream",
     "text": [
      "eigenvalues shape torch.Size([5]) eigenvectors shape torch.Size([5, 1024])\n",
      "379 /home/phdcs2/Hard_Disk/Datasets/Deep-Spectral-Segmentation/data/object-segmentation/ECSSD/features/0381_resized.pth\n",
      "dict_keys(['k', 'indices', 'file', 'id', 'model_name', 'patch_size', 'shape'])\n",
      "0381_resized\n",
      "Starting Training\n",
      "epoch: 00, loss: -0.84680\n",
      "epoch: 01, loss: -0.90680\n",
      "epoch: 02, loss: -0.92396\n",
      "epoch: 03, loss: -0.93341\n",
      "epoch: 04, loss: -0.94014\n",
      "epoch: 05, loss: -0.94468\n",
      "epoch: 06, loss: -0.94834\n",
      "epoch: 07, loss: -0.95122\n",
      "epoch: 08, loss: -0.95371\n",
      "epoch: 09, loss: -0.95576\n",
      "torch.Size([1024, 64])\n"
     ]
    },
    {
     "name": "stderr",
     "output_type": "stream",
     "text": [
      " 38%|███▊      | 380/999 [7:43:46<12:01:19, 69.92s/it]"
     ]
    },
    {
     "name": "stdout",
     "output_type": "stream",
     "text": [
      "eigenvalues shape torch.Size([5]) eigenvectors shape torch.Size([5, 1024])\n",
      "380 /home/phdcs2/Hard_Disk/Datasets/Deep-Spectral-Segmentation/data/object-segmentation/ECSSD/features/0382_resized.pth\n",
      "dict_keys(['k', 'indices', 'file', 'id', 'model_name', 'patch_size', 'shape'])\n",
      "0382_resized\n",
      "Starting Training\n",
      "epoch: 00, loss: -0.87352\n",
      "epoch: 01, loss: -0.92603\n",
      "epoch: 02, loss: -0.93885\n",
      "epoch: 03, loss: -0.94594\n",
      "epoch: 04, loss: -0.95068\n",
      "epoch: 05, loss: -0.95420\n",
      "epoch: 06, loss: -0.95708\n",
      "epoch: 07, loss: -0.95936\n",
      "epoch: 08, loss: -0.96125\n",
      "epoch: 09, loss: -0.96271\n",
      "torch.Size([1024, 64])\n"
     ]
    },
    {
     "name": "stderr",
     "output_type": "stream",
     "text": [
      " 38%|███▊      | 381/999 [7:44:52<11:49:13, 68.86s/it]"
     ]
    },
    {
     "name": "stdout",
     "output_type": "stream",
     "text": [
      "eigenvalues shape torch.Size([5]) eigenvectors shape torch.Size([5, 1024])\n",
      "381 /home/phdcs2/Hard_Disk/Datasets/Deep-Spectral-Segmentation/data/object-segmentation/ECSSD/features/0383_resized.pth\n",
      "dict_keys(['k', 'indices', 'file', 'id', 'model_name', 'patch_size', 'shape'])\n",
      "0383_resized\n",
      "Starting Training\n",
      "epoch: 00, loss: -0.85820\n",
      "epoch: 01, loss: -0.91956\n",
      "epoch: 02, loss: -0.93398\n",
      "epoch: 03, loss: -0.94193\n",
      "epoch: 04, loss: -0.94728\n",
      "epoch: 05, loss: -0.95111\n",
      "epoch: 06, loss: -0.95406\n",
      "epoch: 07, loss: -0.95656\n",
      "epoch: 08, loss: -0.95858\n",
      "epoch: 09, loss: -0.96028\n",
      "torch.Size([1024, 64])\n"
     ]
    },
    {
     "name": "stderr",
     "output_type": "stream",
     "text": [
      " 38%|███▊      | 382/999 [7:45:49<11:09:49, 65.14s/it]"
     ]
    },
    {
     "name": "stdout",
     "output_type": "stream",
     "text": [
      "eigenvalues shape torch.Size([5]) eigenvectors shape torch.Size([5, 1024])\n",
      "382 /home/phdcs2/Hard_Disk/Datasets/Deep-Spectral-Segmentation/data/object-segmentation/ECSSD/features/0384_resized.pth\n",
      "dict_keys(['k', 'indices', 'file', 'id', 'model_name', 'patch_size', 'shape'])\n",
      "0384_resized\n",
      "Starting Training\n",
      "epoch: 00, loss: -0.89245\n",
      "epoch: 01, loss: -0.93585\n",
      "epoch: 02, loss: -0.94664\n",
      "epoch: 03, loss: -0.95287\n",
      "epoch: 04, loss: -0.95701\n",
      "epoch: 05, loss: -0.96017\n",
      "epoch: 06, loss: -0.96251\n",
      "epoch: 07, loss: -0.96443\n",
      "epoch: 08, loss: -0.96618\n",
      "epoch: 09, loss: -0.96750\n",
      "torch.Size([1024, 64])\n"
     ]
    },
    {
     "name": "stderr",
     "output_type": "stream",
     "text": [
      " 38%|███▊      | 383/999 [7:46:44<10:39:44, 62.31s/it]"
     ]
    },
    {
     "name": "stdout",
     "output_type": "stream",
     "text": [
      "eigenvalues shape torch.Size([5]) eigenvectors shape torch.Size([5, 1024])\n",
      "383 /home/phdcs2/Hard_Disk/Datasets/Deep-Spectral-Segmentation/data/object-segmentation/ECSSD/features/0385_resized.pth\n",
      "dict_keys(['k', 'indices', 'file', 'id', 'model_name', 'patch_size', 'shape'])\n",
      "0385_resized\n",
      "Starting Training\n",
      "epoch: 00, loss: -0.88011\n",
      "epoch: 01, loss: -0.92904\n",
      "epoch: 02, loss: -0.94130\n",
      "epoch: 03, loss: -0.94835\n",
      "epoch: 04, loss: -0.95306\n",
      "epoch: 05, loss: -0.95657\n",
      "epoch: 06, loss: -0.95925\n",
      "epoch: 07, loss: -0.96140\n",
      "epoch: 08, loss: -0.96318\n",
      "epoch: 09, loss: -0.96472\n",
      "torch.Size([1024, 64])\n"
     ]
    },
    {
     "name": "stderr",
     "output_type": "stream",
     "text": [
      " 38%|███▊      | 384/999 [7:47:40<10:17:25, 60.24s/it]"
     ]
    },
    {
     "name": "stdout",
     "output_type": "stream",
     "text": [
      "eigenvalues shape torch.Size([5]) eigenvectors shape torch.Size([5, 1024])\n",
      "384 /home/phdcs2/Hard_Disk/Datasets/Deep-Spectral-Segmentation/data/object-segmentation/ECSSD/features/0386_resized.pth\n",
      "dict_keys(['k', 'indices', 'file', 'id', 'model_name', 'patch_size', 'shape'])\n",
      "0386_resized\n"
     ]
    },
    {
     "name": "stderr",
     "output_type": "stream",
     "text": [
      "/home/phdcs2/Hard_Disk/Projects/T2I/deep-spectral-segmentation/venv/lib/python3.8/site-packages/sklearn/decomposition/_pca.py:642: RuntimeWarning: invalid value encountered in divide\n",
      "  self.explained_variance_ratio_ = self.explained_variance_ / total_var\n"
     ]
    },
    {
     "name": "stdout",
     "output_type": "stream",
     "text": [
      "Starting Training\n",
      "epoch: 00, loss: -0.92805\n",
      "epoch: 01, loss: -0.95684\n",
      "epoch: 02, loss: -0.96349\n",
      "epoch: 03, loss: -0.96729\n",
      "epoch: 04, loss: -0.96993\n",
      "epoch: 05, loss: -0.97190\n",
      "epoch: 06, loss: -0.97344\n",
      "epoch: 07, loss: -0.97468\n",
      "epoch: 08, loss: -0.97573\n",
      "epoch: 09, loss: -0.97662\n",
      "torch.Size([1024, 64])\n"
     ]
    },
    {
     "name": "stderr",
     "output_type": "stream",
     "text": [
      " 39%|███▊      | 385/999 [7:48:48<10:40:49, 62.62s/it]"
     ]
    },
    {
     "name": "stdout",
     "output_type": "stream",
     "text": [
      "eigenvalues shape torch.Size([5]) eigenvectors shape torch.Size([5, 1024])\n",
      "385 /home/phdcs2/Hard_Disk/Datasets/Deep-Spectral-Segmentation/data/object-segmentation/ECSSD/features/0387_resized.pth\n",
      "dict_keys(['k', 'indices', 'file', 'id', 'model_name', 'patch_size', 'shape'])\n",
      "0387_resized\n",
      "Starting Training\n",
      "epoch: 00, loss: -0.87123\n",
      "epoch: 01, loss: -0.92161\n",
      "epoch: 02, loss: -0.93424\n",
      "epoch: 03, loss: -0.94139\n",
      "epoch: 04, loss: -0.94618\n",
      "epoch: 05, loss: -0.94992\n",
      "epoch: 06, loss: -0.95269\n",
      "epoch: 07, loss: -0.95515\n",
      "epoch: 08, loss: -0.95705\n",
      "epoch: 09, loss: -0.95863\n",
      "torch.Size([1024, 64])\n"
     ]
    },
    {
     "name": "stderr",
     "output_type": "stream",
     "text": [
      " 39%|███▊      | 386/999 [7:49:59<11:06:24, 65.23s/it]"
     ]
    },
    {
     "name": "stdout",
     "output_type": "stream",
     "text": [
      "eigenvalues shape torch.Size([5]) eigenvectors shape torch.Size([5, 1024])\n",
      "386 /home/phdcs2/Hard_Disk/Datasets/Deep-Spectral-Segmentation/data/object-segmentation/ECSSD/features/0388_resized.pth\n",
      "dict_keys(['k', 'indices', 'file', 'id', 'model_name', 'patch_size', 'shape'])\n",
      "0388_resized\n",
      "Starting Training\n",
      "epoch: 00, loss: -0.85426\n",
      "epoch: 01, loss: -0.91940\n",
      "epoch: 02, loss: -0.93365\n",
      "epoch: 03, loss: -0.94167\n",
      "epoch: 04, loss: -0.94688\n",
      "epoch: 05, loss: -0.95084\n",
      "epoch: 06, loss: -0.95400\n",
      "epoch: 07, loss: -0.95641\n",
      "epoch: 08, loss: -0.95833\n",
      "epoch: 09, loss: -0.96009\n",
      "torch.Size([1024, 64])\n"
     ]
    },
    {
     "name": "stderr",
     "output_type": "stream",
     "text": [
      " 39%|███▊      | 387/999 [7:51:02<10:58:18, 64.54s/it]"
     ]
    },
    {
     "name": "stdout",
     "output_type": "stream",
     "text": [
      "eigenvalues shape torch.Size([5]) eigenvectors shape torch.Size([5, 1024])\n",
      "387 /home/phdcs2/Hard_Disk/Datasets/Deep-Spectral-Segmentation/data/object-segmentation/ECSSD/features/0389_resized.pth\n",
      "dict_keys(['k', 'indices', 'file', 'id', 'model_name', 'patch_size', 'shape'])\n",
      "0389_resized\n",
      "Starting Training\n",
      "epoch: 00, loss: -0.93321\n",
      "epoch: 01, loss: -0.95989\n",
      "epoch: 02, loss: -0.96567\n",
      "epoch: 03, loss: -0.96901\n",
      "epoch: 04, loss: -0.97132\n",
      "epoch: 05, loss: -0.97305\n",
      "epoch: 06, loss: -0.97442\n",
      "epoch: 07, loss: -0.97555\n",
      "epoch: 08, loss: -0.97649\n",
      "epoch: 09, loss: -0.97729\n",
      "torch.Size([1024, 64])\n"
     ]
    },
    {
     "name": "stderr",
     "output_type": "stream",
     "text": [
      " 39%|███▉      | 388/999 [7:52:08<11:02:16, 65.04s/it]"
     ]
    },
    {
     "name": "stdout",
     "output_type": "stream",
     "text": [
      "eigenvalues shape torch.Size([5]) eigenvectors shape torch.Size([5, 1024])\n",
      "388 /home/phdcs2/Hard_Disk/Datasets/Deep-Spectral-Segmentation/data/object-segmentation/ECSSD/features/0390_resized.pth\n",
      "dict_keys(['k', 'indices', 'file', 'id', 'model_name', 'patch_size', 'shape'])\n",
      "0390_resized\n"
     ]
    },
    {
     "name": "stderr",
     "output_type": "stream",
     "text": [
      "/home/phdcs2/Hard_Disk/Projects/T2I/deep-spectral-segmentation/venv/lib/python3.8/site-packages/sklearn/decomposition/_pca.py:642: RuntimeWarning: invalid value encountered in divide\n",
      "  self.explained_variance_ratio_ = self.explained_variance_ / total_var\n"
     ]
    },
    {
     "name": "stdout",
     "output_type": "stream",
     "text": [
      "Starting Training\n",
      "epoch: 00, loss: -0.92436\n",
      "epoch: 01, loss: -0.95502\n",
      "epoch: 02, loss: -0.96204\n",
      "epoch: 03, loss: -0.96605\n",
      "epoch: 04, loss: -0.96883\n",
      "epoch: 05, loss: -0.97088\n",
      "epoch: 06, loss: -0.97247\n",
      "epoch: 07, loss: -0.97378\n",
      "epoch: 08, loss: -0.97487\n",
      "epoch: 09, loss: -0.97581\n",
      "torch.Size([1024, 64])\n"
     ]
    },
    {
     "name": "stderr",
     "output_type": "stream",
     "text": [
      " 39%|███▉      | 389/999 [7:53:19<11:19:52, 66.87s/it]"
     ]
    },
    {
     "name": "stdout",
     "output_type": "stream",
     "text": [
      "eigenvalues shape torch.Size([5]) eigenvectors shape torch.Size([5, 1024])\n",
      "389 /home/phdcs2/Hard_Disk/Datasets/Deep-Spectral-Segmentation/data/object-segmentation/ECSSD/features/0391_resized.pth\n",
      "dict_keys(['k', 'indices', 'file', 'id', 'model_name', 'patch_size', 'shape'])\n",
      "0391_resized\n"
     ]
    },
    {
     "name": "stderr",
     "output_type": "stream",
     "text": [
      "/home/phdcs2/Hard_Disk/Projects/T2I/deep-spectral-segmentation/venv/lib/python3.8/site-packages/sklearn/decomposition/_pca.py:642: RuntimeWarning: invalid value encountered in divide\n",
      "  self.explained_variance_ratio_ = self.explained_variance_ / total_var\n"
     ]
    },
    {
     "name": "stdout",
     "output_type": "stream",
     "text": [
      "Starting Training\n",
      "epoch: 00, loss: -0.92863\n",
      "epoch: 01, loss: -0.95897\n",
      "epoch: 02, loss: -0.96545\n",
      "epoch: 03, loss: -0.96915\n",
      "epoch: 04, loss: -0.97171\n",
      "epoch: 05, loss: -0.97354\n",
      "epoch: 06, loss: -0.97500\n",
      "epoch: 07, loss: -0.97619\n",
      "epoch: 08, loss: -0.97719\n",
      "epoch: 09, loss: -0.97803\n",
      "torch.Size([1024, 64])\n"
     ]
    },
    {
     "name": "stderr",
     "output_type": "stream",
     "text": [
      " 39%|███▉      | 390/999 [7:54:32<11:34:31, 68.43s/it]"
     ]
    },
    {
     "name": "stdout",
     "output_type": "stream",
     "text": [
      "eigenvalues shape torch.Size([5]) eigenvectors shape torch.Size([5, 1024])\n",
      "390 /home/phdcs2/Hard_Disk/Datasets/Deep-Spectral-Segmentation/data/object-segmentation/ECSSD/features/0392_resized.pth\n",
      "dict_keys(['k', 'indices', 'file', 'id', 'model_name', 'patch_size', 'shape'])\n",
      "0392_resized\n"
     ]
    },
    {
     "name": "stderr",
     "output_type": "stream",
     "text": [
      "/home/phdcs2/Hard_Disk/Projects/T2I/deep-spectral-segmentation/venv/lib/python3.8/site-packages/sklearn/decomposition/_pca.py:642: RuntimeWarning: invalid value encountered in divide\n",
      "  self.explained_variance_ratio_ = self.explained_variance_ / total_var\n"
     ]
    },
    {
     "name": "stdout",
     "output_type": "stream",
     "text": [
      "Starting Training\n",
      "epoch: 00, loss: -0.92525\n",
      "epoch: 01, loss: -0.95557\n",
      "epoch: 02, loss: -0.96294\n",
      "epoch: 03, loss: -0.96719\n",
      "epoch: 04, loss: -0.97006\n",
      "epoch: 05, loss: -0.97217\n",
      "epoch: 06, loss: -0.97385\n",
      "epoch: 07, loss: -0.97521\n",
      "epoch: 08, loss: -0.97634\n",
      "epoch: 09, loss: -0.97728\n",
      "torch.Size([1024, 64])\n"
     ]
    },
    {
     "name": "stderr",
     "output_type": "stream",
     "text": [
      " 39%|███▉      | 391/999 [7:55:36<11:19:56, 67.10s/it]"
     ]
    },
    {
     "name": "stdout",
     "output_type": "stream",
     "text": [
      "eigenvalues shape torch.Size([5]) eigenvectors shape torch.Size([5, 1024])\n",
      "391 /home/phdcs2/Hard_Disk/Datasets/Deep-Spectral-Segmentation/data/object-segmentation/ECSSD/features/0393_resized.pth\n",
      "dict_keys(['k', 'indices', 'file', 'id', 'model_name', 'patch_size', 'shape'])\n",
      "0393_resized\n",
      "Starting Training\n",
      "epoch: 00, loss: -0.87284\n",
      "epoch: 01, loss: -0.92339\n",
      "epoch: 02, loss: -0.93654\n",
      "epoch: 03, loss: -0.94391\n",
      "epoch: 04, loss: -0.94861\n",
      "epoch: 05, loss: -0.95208\n",
      "epoch: 06, loss: -0.95499\n",
      "epoch: 07, loss: -0.95728\n",
      "epoch: 08, loss: -0.95921\n",
      "epoch: 09, loss: -0.96086\n",
      "torch.Size([1024, 64])\n"
     ]
    },
    {
     "name": "stderr",
     "output_type": "stream",
     "text": [
      " 39%|███▉      | 392/999 [7:56:48<11:34:24, 68.64s/it]"
     ]
    },
    {
     "name": "stdout",
     "output_type": "stream",
     "text": [
      "eigenvalues shape torch.Size([5]) eigenvectors shape torch.Size([5, 1024])\n",
      "392 /home/phdcs2/Hard_Disk/Datasets/Deep-Spectral-Segmentation/data/object-segmentation/ECSSD/features/0394_resized.pth\n",
      "dict_keys(['k', 'indices', 'file', 'id', 'model_name', 'patch_size', 'shape'])\n",
      "0394_resized\n",
      "Starting Training\n",
      "epoch: 00, loss: -0.87052\n",
      "epoch: 01, loss: -0.92430\n",
      "epoch: 02, loss: -0.93775\n",
      "epoch: 03, loss: -0.94546\n",
      "epoch: 04, loss: -0.95068\n",
      "epoch: 05, loss: -0.95446\n",
      "epoch: 06, loss: -0.95749\n",
      "epoch: 07, loss: -0.95993\n",
      "epoch: 08, loss: -0.96194\n",
      "epoch: 09, loss: -0.96369\n",
      "torch.Size([1024, 64])\n"
     ]
    },
    {
     "name": "stderr",
     "output_type": "stream",
     "text": [
      " 39%|███▉      | 393/999 [7:58:01<11:47:36, 70.06s/it]"
     ]
    },
    {
     "name": "stdout",
     "output_type": "stream",
     "text": [
      "eigenvalues shape torch.Size([5]) eigenvectors shape torch.Size([5, 1024])\n",
      "393 /home/phdcs2/Hard_Disk/Datasets/Deep-Spectral-Segmentation/data/object-segmentation/ECSSD/features/0395_resized.pth\n",
      "dict_keys(['k', 'indices', 'file', 'id', 'model_name', 'patch_size', 'shape'])\n",
      "0395_resized\n",
      "Starting Training\n",
      "epoch: 00, loss: -0.88508\n",
      "epoch: 01, loss: -0.92869\n",
      "epoch: 02, loss: -0.94061\n",
      "epoch: 03, loss: -0.94736\n",
      "epoch: 04, loss: -0.95199\n",
      "epoch: 05, loss: -0.95539\n",
      "epoch: 06, loss: -0.95796\n",
      "epoch: 07, loss: -0.96017\n",
      "epoch: 08, loss: -0.96190\n",
      "epoch: 09, loss: -0.96338\n",
      "torch.Size([1024, 64])\n"
     ]
    },
    {
     "name": "stderr",
     "output_type": "stream",
     "text": [
      " 39%|███▉      | 394/999 [7:59:16<11:59:53, 71.39s/it]"
     ]
    },
    {
     "name": "stdout",
     "output_type": "stream",
     "text": [
      "eigenvalues shape torch.Size([5]) eigenvectors shape torch.Size([5, 1024])\n",
      "394 /home/phdcs2/Hard_Disk/Datasets/Deep-Spectral-Segmentation/data/object-segmentation/ECSSD/features/0396_resized.pth\n",
      "dict_keys(['k', 'indices', 'file', 'id', 'model_name', 'patch_size', 'shape'])\n",
      "0396_resized\n",
      "Starting Training\n",
      "epoch: 00, loss: -0.89730\n",
      "epoch: 01, loss: -0.94155\n",
      "epoch: 02, loss: -0.95163\n",
      "epoch: 03, loss: -0.95726\n",
      "epoch: 04, loss: -0.96118\n",
      "epoch: 05, loss: -0.96402\n",
      "epoch: 06, loss: -0.96624\n",
      "epoch: 07, loss: -0.96802\n",
      "epoch: 08, loss: -0.96947\n",
      "epoch: 09, loss: -0.97074\n",
      "torch.Size([1024, 64])\n"
     ]
    },
    {
     "name": "stderr",
     "output_type": "stream",
     "text": [
      " 40%|███▉      | 395/999 [8:00:29<12:03:43, 71.89s/it]"
     ]
    },
    {
     "name": "stdout",
     "output_type": "stream",
     "text": [
      "eigenvalues shape torch.Size([5]) eigenvectors shape torch.Size([5, 1024])\n",
      "395 /home/phdcs2/Hard_Disk/Datasets/Deep-Spectral-Segmentation/data/object-segmentation/ECSSD/features/0397_resized.pth\n",
      "dict_keys(['k', 'indices', 'file', 'id', 'model_name', 'patch_size', 'shape'])\n",
      "0397_resized\n",
      "Starting Training\n",
      "epoch: 00, loss: -0.86088\n",
      "epoch: 01, loss: -0.91565\n",
      "epoch: 02, loss: -0.92988\n",
      "epoch: 03, loss: -0.93786\n",
      "epoch: 04, loss: -0.94353\n",
      "epoch: 05, loss: -0.94741\n",
      "epoch: 06, loss: -0.95058\n",
      "epoch: 07, loss: -0.95302\n",
      "epoch: 08, loss: -0.95515\n",
      "epoch: 09, loss: -0.95686\n",
      "torch.Size([1024, 64])\n"
     ]
    },
    {
     "name": "stderr",
     "output_type": "stream",
     "text": [
      " 40%|███▉      | 396/999 [8:01:35<11:45:46, 70.23s/it]"
     ]
    },
    {
     "name": "stdout",
     "output_type": "stream",
     "text": [
      "eigenvalues shape torch.Size([5]) eigenvectors shape torch.Size([5, 1024])\n",
      "396 /home/phdcs2/Hard_Disk/Datasets/Deep-Spectral-Segmentation/data/object-segmentation/ECSSD/features/0398_resized.pth\n",
      "dict_keys(['k', 'indices', 'file', 'id', 'model_name', 'patch_size', 'shape'])\n",
      "0398_resized\n"
     ]
    },
    {
     "name": "stderr",
     "output_type": "stream",
     "text": [
      "/home/phdcs2/Hard_Disk/Projects/T2I/deep-spectral-segmentation/venv/lib/python3.8/site-packages/sklearn/decomposition/_pca.py:642: RuntimeWarning: invalid value encountered in divide\n",
      "  self.explained_variance_ratio_ = self.explained_variance_ / total_var\n"
     ]
    },
    {
     "name": "stdout",
     "output_type": "stream",
     "text": [
      "Starting Training\n",
      "epoch: 00, loss: -0.92027\n",
      "epoch: 01, loss: -0.95096\n",
      "epoch: 02, loss: -0.95872\n",
      "epoch: 03, loss: -0.96314\n",
      "epoch: 04, loss: -0.96621\n",
      "epoch: 05, loss: -0.96851\n",
      "epoch: 06, loss: -0.97030\n",
      "epoch: 07, loss: -0.97175\n",
      "epoch: 08, loss: -0.97296\n",
      "epoch: 09, loss: -0.97402\n",
      "torch.Size([1024, 64])\n"
     ]
    },
    {
     "name": "stderr",
     "output_type": "stream",
     "text": [
      " 40%|███▉      | 397/999 [8:02:36<11:16:05, 67.39s/it]"
     ]
    },
    {
     "name": "stdout",
     "output_type": "stream",
     "text": [
      "eigenvalues shape torch.Size([5]) eigenvectors shape torch.Size([5, 1024])\n",
      "397 /home/phdcs2/Hard_Disk/Datasets/Deep-Spectral-Segmentation/data/object-segmentation/ECSSD/features/0399_resized.pth\n",
      "dict_keys(['k', 'indices', 'file', 'id', 'model_name', 'patch_size', 'shape'])\n",
      "0399_resized\n",
      "Starting Training\n",
      "epoch: 00, loss: -0.93116\n",
      "epoch: 01, loss: -0.95875\n",
      "epoch: 02, loss: -0.96481\n",
      "epoch: 03, loss: -0.96831\n",
      "epoch: 04, loss: -0.97070\n",
      "epoch: 05, loss: -0.97248\n",
      "epoch: 06, loss: -0.97391\n",
      "epoch: 07, loss: -0.97508\n",
      "epoch: 08, loss: -0.97603\n",
      "epoch: 09, loss: -0.97688\n",
      "torch.Size([1024, 64])\n"
     ]
    },
    {
     "name": "stderr",
     "output_type": "stream",
     "text": [
      " 40%|███▉      | 398/999 [8:03:45<11:21:47, 68.07s/it]"
     ]
    },
    {
     "name": "stdout",
     "output_type": "stream",
     "text": [
      "eigenvalues shape torch.Size([5]) eigenvectors shape torch.Size([5, 1024])\n",
      "398 /home/phdcs2/Hard_Disk/Datasets/Deep-Spectral-Segmentation/data/object-segmentation/ECSSD/features/0400_resized.pth\n",
      "dict_keys(['k', 'indices', 'file', 'id', 'model_name', 'patch_size', 'shape'])\n",
      "0400_resized\n",
      "Starting Training\n",
      "epoch: 00, loss: -0.87043\n",
      "epoch: 01, loss: -0.92329\n",
      "epoch: 02, loss: -0.93612\n",
      "epoch: 03, loss: -0.94368\n",
      "epoch: 04, loss: -0.94877\n",
      "epoch: 05, loss: -0.95244\n",
      "epoch: 06, loss: -0.95540\n",
      "epoch: 07, loss: -0.95770\n",
      "epoch: 08, loss: -0.95965\n",
      "epoch: 09, loss: -0.96128\n",
      "torch.Size([1024, 64])\n"
     ]
    },
    {
     "name": "stderr",
     "output_type": "stream",
     "text": [
      " 40%|███▉      | 399/999 [8:04:55<11:26:14, 68.62s/it]"
     ]
    },
    {
     "name": "stdout",
     "output_type": "stream",
     "text": [
      "eigenvalues shape torch.Size([5]) eigenvectors shape torch.Size([5, 1024])\n",
      "399 /home/phdcs2/Hard_Disk/Datasets/Deep-Spectral-Segmentation/data/object-segmentation/ECSSD/features/0401_resized.pth\n",
      "dict_keys(['k', 'indices', 'file', 'id', 'model_name', 'patch_size', 'shape'])\n",
      "0401_resized\n"
     ]
    },
    {
     "name": "stderr",
     "output_type": "stream",
     "text": [
      "/home/phdcs2/Hard_Disk/Projects/T2I/deep-spectral-segmentation/venv/lib/python3.8/site-packages/sklearn/decomposition/_pca.py:642: RuntimeWarning: invalid value encountered in divide\n",
      "  self.explained_variance_ratio_ = self.explained_variance_ / total_var\n"
     ]
    },
    {
     "name": "stdout",
     "output_type": "stream",
     "text": [
      "Starting Training\n",
      "epoch: 00, loss: -0.92550\n",
      "epoch: 01, loss: -0.95821\n",
      "epoch: 02, loss: -0.96446\n",
      "epoch: 03, loss: -0.96802\n",
      "epoch: 04, loss: -0.97051\n",
      "epoch: 05, loss: -0.97235\n",
      "epoch: 06, loss: -0.97380\n",
      "epoch: 07, loss: -0.97498\n",
      "epoch: 08, loss: -0.97596\n",
      "epoch: 09, loss: -0.97681\n",
      "torch.Size([1024, 64])\n"
     ]
    },
    {
     "name": "stderr",
     "output_type": "stream",
     "text": [
      " 40%|████      | 400/999 [8:05:59<11:10:55, 67.20s/it]"
     ]
    },
    {
     "name": "stdout",
     "output_type": "stream",
     "text": [
      "eigenvalues shape torch.Size([5]) eigenvectors shape torch.Size([5, 1024])\n",
      "400 /home/phdcs2/Hard_Disk/Datasets/Deep-Spectral-Segmentation/data/object-segmentation/ECSSD/features/0402_resized.pth\n",
      "dict_keys(['k', 'indices', 'file', 'id', 'model_name', 'patch_size', 'shape'])\n",
      "0402_resized\n",
      "Starting Training\n",
      "epoch: 00, loss: -0.88504\n",
      "epoch: 01, loss: -0.93324\n",
      "epoch: 02, loss: -0.94465\n",
      "epoch: 03, loss: -0.95107\n",
      "epoch: 04, loss: -0.95530\n",
      "epoch: 05, loss: -0.95858\n",
      "epoch: 06, loss: -0.96096\n",
      "epoch: 07, loss: -0.96300\n",
      "epoch: 08, loss: -0.96471\n",
      "epoch: 09, loss: -0.96610\n",
      "torch.Size([1024, 64])\n"
     ]
    },
    {
     "name": "stderr",
     "output_type": "stream",
     "text": [
      " 40%|████      | 401/999 [8:06:59<10:48:13, 65.04s/it]"
     ]
    },
    {
     "name": "stdout",
     "output_type": "stream",
     "text": [
      "eigenvalues shape torch.Size([5]) eigenvectors shape torch.Size([5, 1024])\n",
      "401 /home/phdcs2/Hard_Disk/Datasets/Deep-Spectral-Segmentation/data/object-segmentation/ECSSD/features/0403_resized.pth\n",
      "dict_keys(['k', 'indices', 'file', 'id', 'model_name', 'patch_size', 'shape'])\n",
      "0403_resized\n",
      "Starting Training\n",
      "epoch: 00, loss: -0.85388\n",
      "epoch: 01, loss: -0.91511\n",
      "epoch: 02, loss: -0.93005\n",
      "epoch: 03, loss: -0.93827\n",
      "epoch: 04, loss: -0.94396\n",
      "epoch: 05, loss: -0.94801\n",
      "epoch: 06, loss: -0.95124\n",
      "epoch: 07, loss: -0.95385\n",
      "epoch: 08, loss: -0.95590\n",
      "epoch: 09, loss: -0.95774\n",
      "torch.Size([1024, 64])\n"
     ]
    },
    {
     "name": "stderr",
     "output_type": "stream",
     "text": [
      " 40%|████      | 402/999 [8:07:54<10:16:50, 61.99s/it]"
     ]
    },
    {
     "name": "stdout",
     "output_type": "stream",
     "text": [
      "eigenvalues shape torch.Size([5]) eigenvectors shape torch.Size([5, 1024])\n",
      "402 /home/phdcs2/Hard_Disk/Datasets/Deep-Spectral-Segmentation/data/object-segmentation/ECSSD/features/0404_resized.pth\n",
      "dict_keys(['k', 'indices', 'file', 'id', 'model_name', 'patch_size', 'shape'])\n",
      "0404_resized\n",
      "Starting Training\n",
      "epoch: 00, loss: -0.84883\n",
      "epoch: 01, loss: -0.90999\n",
      "epoch: 02, loss: -0.92538\n",
      "epoch: 03, loss: -0.93388\n",
      "epoch: 04, loss: -0.93951\n",
      "epoch: 05, loss: -0.94380\n",
      "epoch: 06, loss: -0.94699\n",
      "epoch: 07, loss: -0.94972\n",
      "epoch: 08, loss: -0.95196\n",
      "epoch: 09, loss: -0.95383\n",
      "torch.Size([1024, 64])\n"
     ]
    },
    {
     "name": "stderr",
     "output_type": "stream",
     "text": [
      " 40%|████      | 403/999 [8:08:48<9:52:39, 59.66s/it] "
     ]
    },
    {
     "name": "stdout",
     "output_type": "stream",
     "text": [
      "eigenvalues shape torch.Size([5]) eigenvectors shape torch.Size([5, 1024])\n",
      "403 /home/phdcs2/Hard_Disk/Datasets/Deep-Spectral-Segmentation/data/object-segmentation/ECSSD/features/0405_resized.pth\n",
      "dict_keys(['k', 'indices', 'file', 'id', 'model_name', 'patch_size', 'shape'])\n",
      "0405_resized\n",
      "Starting Training\n",
      "epoch: 00, loss: -0.86665\n",
      "epoch: 01, loss: -0.92111\n",
      "epoch: 02, loss: -0.93488\n",
      "epoch: 03, loss: -0.94265\n",
      "epoch: 04, loss: -0.94785\n",
      "epoch: 05, loss: -0.95187\n",
      "epoch: 06, loss: -0.95491\n",
      "epoch: 07, loss: -0.95738\n",
      "epoch: 08, loss: -0.95934\n",
      "epoch: 09, loss: -0.96102\n",
      "torch.Size([1024, 64])\n"
     ]
    },
    {
     "name": "stderr",
     "output_type": "stream",
     "text": [
      " 40%|████      | 404/999 [8:09:58<10:20:55, 62.61s/it]"
     ]
    },
    {
     "name": "stdout",
     "output_type": "stream",
     "text": [
      "eigenvalues shape torch.Size([5]) eigenvectors shape torch.Size([5, 1024])\n",
      "404 /home/phdcs2/Hard_Disk/Datasets/Deep-Spectral-Segmentation/data/object-segmentation/ECSSD/features/0406_resized.pth\n",
      "dict_keys(['k', 'indices', 'file', 'id', 'model_name', 'patch_size', 'shape'])\n",
      "0406_resized\n",
      "Starting Training\n",
      "epoch: 00, loss: -0.92591\n",
      "epoch: 01, loss: -0.95490\n",
      "epoch: 02, loss: -0.96185\n",
      "epoch: 03, loss: -0.96590\n",
      "epoch: 04, loss: -0.96866\n",
      "epoch: 05, loss: -0.97073\n",
      "epoch: 06, loss: -0.97233\n",
      "epoch: 07, loss: -0.97367\n",
      "epoch: 08, loss: -0.97477\n",
      "epoch: 09, loss: -0.97574\n",
      "torch.Size([1024, 64])\n"
     ]
    },
    {
     "name": "stderr",
     "output_type": "stream",
     "text": [
      " 41%|████      | 405/999 [8:11:10<10:46:50, 65.34s/it]"
     ]
    },
    {
     "name": "stdout",
     "output_type": "stream",
     "text": [
      "eigenvalues shape torch.Size([5]) eigenvectors shape torch.Size([5, 1024])\n",
      "405 /home/phdcs2/Hard_Disk/Datasets/Deep-Spectral-Segmentation/data/object-segmentation/ECSSD/features/0407_resized.pth\n",
      "dict_keys(['k', 'indices', 'file', 'id', 'model_name', 'patch_size', 'shape'])\n",
      "0407_resized\n",
      "Starting Training\n",
      "epoch: 00, loss: -0.84915\n",
      "epoch: 01, loss: -0.90587\n",
      "epoch: 02, loss: -0.92300\n",
      "epoch: 03, loss: -0.93287\n",
      "epoch: 04, loss: -0.93951\n",
      "epoch: 05, loss: -0.94425\n",
      "epoch: 06, loss: -0.94802\n",
      "epoch: 07, loss: -0.95079\n",
      "epoch: 08, loss: -0.95341\n",
      "epoch: 09, loss: -0.95552\n",
      "torch.Size([1024, 64])\n"
     ]
    },
    {
     "name": "stderr",
     "output_type": "stream",
     "text": [
      " 41%|████      | 406/999 [8:12:22<11:06:10, 67.40s/it]"
     ]
    },
    {
     "name": "stdout",
     "output_type": "stream",
     "text": [
      "eigenvalues shape torch.Size([5]) eigenvectors shape torch.Size([5, 1024])\n",
      "406 /home/phdcs2/Hard_Disk/Datasets/Deep-Spectral-Segmentation/data/object-segmentation/ECSSD/features/0408_resized.pth\n",
      "dict_keys(['k', 'indices', 'file', 'id', 'model_name', 'patch_size', 'shape'])\n",
      "0408_resized\n",
      "Starting Training\n",
      "epoch: 00, loss: -0.86361\n",
      "epoch: 01, loss: -0.92025\n",
      "epoch: 02, loss: -0.93444\n",
      "epoch: 03, loss: -0.94261\n",
      "epoch: 04, loss: -0.94793\n",
      "epoch: 05, loss: -0.95202\n",
      "epoch: 06, loss: -0.95513\n",
      "epoch: 07, loss: -0.95754\n",
      "epoch: 08, loss: -0.95965\n",
      "epoch: 09, loss: -0.96128\n",
      "torch.Size([1024, 64])\n"
     ]
    },
    {
     "name": "stderr",
     "output_type": "stream",
     "text": [
      " 41%|████      | 407/999 [8:13:25<10:53:31, 66.24s/it]"
     ]
    },
    {
     "name": "stdout",
     "output_type": "stream",
     "text": [
      "eigenvalues shape torch.Size([5]) eigenvectors shape torch.Size([5, 1024])\n",
      "407 /home/phdcs2/Hard_Disk/Datasets/Deep-Spectral-Segmentation/data/object-segmentation/ECSSD/features/0409_resized.pth\n",
      "dict_keys(['k', 'indices', 'file', 'id', 'model_name', 'patch_size', 'shape'])\n",
      "0409_resized\n"
     ]
    },
    {
     "name": "stderr",
     "output_type": "stream",
     "text": [
      "/home/phdcs2/Hard_Disk/Projects/T2I/deep-spectral-segmentation/venv/lib/python3.8/site-packages/sklearn/decomposition/_pca.py:642: RuntimeWarning: invalid value encountered in divide\n",
      "  self.explained_variance_ratio_ = self.explained_variance_ / total_var\n"
     ]
    },
    {
     "name": "stdout",
     "output_type": "stream",
     "text": [
      "Starting Training\n",
      "epoch: 00, loss: -0.91711\n",
      "epoch: 01, loss: -0.95029\n",
      "epoch: 02, loss: -0.95823\n",
      "epoch: 03, loss: -0.96287\n",
      "epoch: 04, loss: -0.96597\n",
      "epoch: 05, loss: -0.96835\n",
      "epoch: 06, loss: -0.97018\n",
      "epoch: 07, loss: -0.97169\n",
      "epoch: 08, loss: -0.97291\n",
      "epoch: 09, loss: -0.97398\n",
      "torch.Size([1024, 64])\n"
     ]
    },
    {
     "name": "stderr",
     "output_type": "stream",
     "text": [
      " 41%|████      | 408/999 [8:14:39<11:13:23, 68.36s/it]"
     ]
    },
    {
     "name": "stdout",
     "output_type": "stream",
     "text": [
      "eigenvalues shape torch.Size([5]) eigenvectors shape torch.Size([5, 1024])\n",
      "408 /home/phdcs2/Hard_Disk/Datasets/Deep-Spectral-Segmentation/data/object-segmentation/ECSSD/features/0410_resized.pth\n",
      "dict_keys(['k', 'indices', 'file', 'id', 'model_name', 'patch_size', 'shape'])\n",
      "0410_resized\n",
      "Starting Training\n",
      "epoch: 00, loss: -0.87723\n",
      "epoch: 01, loss: -0.92870\n",
      "epoch: 02, loss: -0.94085\n",
      "epoch: 03, loss: -0.94770\n",
      "epoch: 04, loss: -0.95252\n",
      "epoch: 05, loss: -0.95595\n",
      "epoch: 06, loss: -0.95863\n",
      "epoch: 07, loss: -0.96080\n",
      "epoch: 08, loss: -0.96251\n",
      "epoch: 09, loss: -0.96402\n",
      "torch.Size([1024, 64])\n"
     ]
    },
    {
     "name": "stderr",
     "output_type": "stream",
     "text": [
      " 41%|████      | 409/999 [8:15:45<11:04:57, 67.62s/it]"
     ]
    },
    {
     "name": "stdout",
     "output_type": "stream",
     "text": [
      "eigenvalues shape torch.Size([5]) eigenvectors shape torch.Size([5, 1024])\n",
      "409 /home/phdcs2/Hard_Disk/Datasets/Deep-Spectral-Segmentation/data/object-segmentation/ECSSD/features/0411_resized.pth\n",
      "dict_keys(['k', 'indices', 'file', 'id', 'model_name', 'patch_size', 'shape'])\n",
      "0411_resized\n",
      "Starting Training\n",
      "epoch: 00, loss: -0.86099\n",
      "epoch: 01, loss: -0.91700\n",
      "epoch: 02, loss: -0.93197\n",
      "epoch: 03, loss: -0.94031\n",
      "epoch: 04, loss: -0.94591\n",
      "epoch: 05, loss: -0.94992\n",
      "epoch: 06, loss: -0.95319\n",
      "epoch: 07, loss: -0.95582\n",
      "epoch: 08, loss: -0.95800\n",
      "epoch: 09, loss: -0.95979\n",
      "torch.Size([1024, 64])\n"
     ]
    },
    {
     "name": "stderr",
     "output_type": "stream",
     "text": [
      " 41%|████      | 410/999 [8:16:49<10:55:09, 66.74s/it]"
     ]
    },
    {
     "name": "stdout",
     "output_type": "stream",
     "text": [
      "eigenvalues shape torch.Size([5]) eigenvectors shape torch.Size([5, 1024])\n",
      "410 /home/phdcs2/Hard_Disk/Datasets/Deep-Spectral-Segmentation/data/object-segmentation/ECSSD/features/0412_resized.pth\n",
      "dict_keys(['k', 'indices', 'file', 'id', 'model_name', 'patch_size', 'shape'])\n",
      "0412_resized\n",
      "Starting Training\n",
      "epoch: 00, loss: -0.89955\n",
      "epoch: 01, loss: -0.93962\n",
      "epoch: 02, loss: -0.94936\n",
      "epoch: 03, loss: -0.95500\n",
      "epoch: 04, loss: -0.95876\n",
      "epoch: 05, loss: -0.96170\n",
      "epoch: 06, loss: -0.96377\n",
      "epoch: 07, loss: -0.96547\n",
      "epoch: 08, loss: -0.96701\n",
      "epoch: 09, loss: -0.96826\n",
      "torch.Size([1024, 64])\n"
     ]
    },
    {
     "name": "stderr",
     "output_type": "stream",
     "text": [
      " 41%|████      | 411/999 [8:18:05<11:20:53, 69.48s/it]"
     ]
    },
    {
     "name": "stdout",
     "output_type": "stream",
     "text": [
      "eigenvalues shape torch.Size([5]) eigenvectors shape torch.Size([5, 1024])\n",
      "411 /home/phdcs2/Hard_Disk/Datasets/Deep-Spectral-Segmentation/data/object-segmentation/ECSSD/features/0413_resized.pth\n",
      "dict_keys(['k', 'indices', 'file', 'id', 'model_name', 'patch_size', 'shape'])\n",
      "0413_resized\n",
      "Starting Training\n",
      "epoch: 00, loss: -0.87654\n",
      "epoch: 01, loss: -0.92619\n",
      "epoch: 02, loss: -0.93917\n",
      "epoch: 03, loss: -0.94647\n",
      "epoch: 04, loss: -0.95145\n",
      "epoch: 05, loss: -0.95494\n",
      "epoch: 06, loss: -0.95772\n",
      "epoch: 07, loss: -0.96002\n",
      "epoch: 08, loss: -0.96193\n",
      "epoch: 09, loss: -0.96347\n",
      "torch.Size([1024, 64])\n"
     ]
    },
    {
     "name": "stderr",
     "output_type": "stream",
     "text": [
      " 41%|████      | 412/999 [8:19:17<11:27:42, 70.29s/it]"
     ]
    },
    {
     "name": "stdout",
     "output_type": "stream",
     "text": [
      "eigenvalues shape torch.Size([5]) eigenvectors shape torch.Size([5, 1024])\n",
      "412 /home/phdcs2/Hard_Disk/Datasets/Deep-Spectral-Segmentation/data/object-segmentation/ECSSD/features/0414_resized.pth\n",
      "dict_keys(['k', 'indices', 'file', 'id', 'model_name', 'patch_size', 'shape'])\n",
      "0414_resized\n"
     ]
    },
    {
     "name": "stderr",
     "output_type": "stream",
     "text": [
      "/home/phdcs2/Hard_Disk/Projects/T2I/deep-spectral-segmentation/venv/lib/python3.8/site-packages/sklearn/decomposition/_pca.py:642: RuntimeWarning: invalid value encountered in divide\n",
      "  self.explained_variance_ratio_ = self.explained_variance_ / total_var\n"
     ]
    },
    {
     "name": "stdout",
     "output_type": "stream",
     "text": [
      "Starting Training\n",
      "epoch: 00, loss: -0.92053\n",
      "epoch: 01, loss: -0.95305\n",
      "epoch: 02, loss: -0.96030\n",
      "epoch: 03, loss: -0.96444\n",
      "epoch: 04, loss: -0.96732\n",
      "epoch: 05, loss: -0.96947\n",
      "epoch: 06, loss: -0.97113\n",
      "epoch: 07, loss: -0.97251\n",
      "epoch: 08, loss: -0.97367\n",
      "epoch: 09, loss: -0.97464\n",
      "torch.Size([1024, 64])\n"
     ]
    },
    {
     "name": "stderr",
     "output_type": "stream",
     "text": [
      " 41%|████▏     | 413/999 [8:20:33<11:42:32, 71.93s/it]"
     ]
    },
    {
     "name": "stdout",
     "output_type": "stream",
     "text": [
      "eigenvalues shape torch.Size([5]) eigenvectors shape torch.Size([5, 1024])\n",
      "413 /home/phdcs2/Hard_Disk/Datasets/Deep-Spectral-Segmentation/data/object-segmentation/ECSSD/features/0415_resized.pth\n",
      "dict_keys(['k', 'indices', 'file', 'id', 'model_name', 'patch_size', 'shape'])\n",
      "0415_resized\n",
      "Starting Training\n",
      "epoch: 00, loss: -0.86788\n",
      "epoch: 01, loss: -0.92211\n",
      "epoch: 02, loss: -0.93481\n",
      "epoch: 03, loss: -0.94204\n",
      "epoch: 04, loss: -0.94711\n",
      "epoch: 05, loss: -0.95069\n",
      "epoch: 06, loss: -0.95339\n",
      "epoch: 07, loss: -0.95569\n",
      "epoch: 08, loss: -0.95762\n",
      "epoch: 09, loss: -0.95923\n",
      "torch.Size([1024, 64])\n"
     ]
    },
    {
     "name": "stderr",
     "output_type": "stream",
     "text": [
      " 41%|████▏     | 414/999 [8:21:44<11:37:13, 71.51s/it]"
     ]
    },
    {
     "name": "stdout",
     "output_type": "stream",
     "text": [
      "eigenvalues shape torch.Size([5]) eigenvectors shape torch.Size([5, 1024])\n",
      "414 /home/phdcs2/Hard_Disk/Datasets/Deep-Spectral-Segmentation/data/object-segmentation/ECSSD/features/0416_resized.pth\n",
      "dict_keys(['k', 'indices', 'file', 'id', 'model_name', 'patch_size', 'shape'])\n",
      "0416_resized\n",
      "Starting Training\n",
      "epoch: 00, loss: -0.86779\n",
      "epoch: 01, loss: -0.92334\n",
      "epoch: 02, loss: -0.93645\n",
      "epoch: 03, loss: -0.94377\n",
      "epoch: 04, loss: -0.94875\n",
      "epoch: 05, loss: -0.95242\n",
      "epoch: 06, loss: -0.95512\n",
      "epoch: 07, loss: -0.95746\n",
      "epoch: 08, loss: -0.95934\n",
      "epoch: 09, loss: -0.96094\n",
      "torch.Size([1024, 64])\n"
     ]
    },
    {
     "name": "stderr",
     "output_type": "stream",
     "text": [
      " 42%|████▏     | 415/999 [8:22:54<11:33:34, 71.26s/it]"
     ]
    },
    {
     "name": "stdout",
     "output_type": "stream",
     "text": [
      "eigenvalues shape torch.Size([5]) eigenvectors shape torch.Size([5, 1024])\n",
      "415 /home/phdcs2/Hard_Disk/Datasets/Deep-Spectral-Segmentation/data/object-segmentation/ECSSD/features/0417_resized.pth\n",
      "dict_keys(['k', 'indices', 'file', 'id', 'model_name', 'patch_size', 'shape'])\n",
      "0417_resized\n"
     ]
    },
    {
     "name": "stderr",
     "output_type": "stream",
     "text": [
      "/home/phdcs2/Hard_Disk/Projects/T2I/deep-spectral-segmentation/venv/lib/python3.8/site-packages/sklearn/decomposition/_pca.py:642: RuntimeWarning: invalid value encountered in divide\n",
      "  self.explained_variance_ratio_ = self.explained_variance_ / total_var\n"
     ]
    },
    {
     "name": "stdout",
     "output_type": "stream",
     "text": [
      "Starting Training\n",
      "epoch: 00, loss: -0.90860\n",
      "epoch: 01, loss: -0.94439\n",
      "epoch: 02, loss: -0.95326\n",
      "epoch: 03, loss: -0.95845\n",
      "epoch: 04, loss: -0.96193\n",
      "epoch: 05, loss: -0.96453\n",
      "epoch: 06, loss: -0.96658\n",
      "epoch: 07, loss: -0.96824\n",
      "epoch: 08, loss: -0.96961\n",
      "epoch: 09, loss: -0.97080\n",
      "torch.Size([1024, 64])\n"
     ]
    },
    {
     "name": "stderr",
     "output_type": "stream",
     "text": [
      " 42%|████▏     | 416/999 [8:24:06<11:32:35, 71.28s/it]"
     ]
    },
    {
     "name": "stdout",
     "output_type": "stream",
     "text": [
      "eigenvalues shape torch.Size([5]) eigenvectors shape torch.Size([5, 1024])\n",
      "416 /home/phdcs2/Hard_Disk/Datasets/Deep-Spectral-Segmentation/data/object-segmentation/ECSSD/features/0418_resized.pth\n",
      "dict_keys(['k', 'indices', 'file', 'id', 'model_name', 'patch_size', 'shape'])\n",
      "0418_resized\n",
      "Starting Training\n",
      "epoch: 00, loss: -0.87973\n",
      "epoch: 01, loss: -0.92658\n",
      "epoch: 02, loss: -0.93981\n",
      "epoch: 03, loss: -0.94715\n",
      "epoch: 04, loss: -0.95214\n",
      "epoch: 05, loss: -0.95582\n",
      "epoch: 06, loss: -0.95870\n",
      "epoch: 07, loss: -0.96100\n",
      "epoch: 08, loss: -0.96282\n",
      "epoch: 09, loss: -0.96444\n",
      "torch.Size([1024, 64])\n"
     ]
    },
    {
     "name": "stderr",
     "output_type": "stream",
     "text": [
      " 42%|████▏     | 417/999 [8:25:14<11:22:42, 70.38s/it]"
     ]
    },
    {
     "name": "stdout",
     "output_type": "stream",
     "text": [
      "eigenvalues shape torch.Size([5]) eigenvectors shape torch.Size([5, 1024])\n",
      "417 /home/phdcs2/Hard_Disk/Datasets/Deep-Spectral-Segmentation/data/object-segmentation/ECSSD/features/0419_resized.pth\n",
      "dict_keys(['k', 'indices', 'file', 'id', 'model_name', 'patch_size', 'shape'])\n",
      "0419_resized\n",
      "Starting Training\n",
      "epoch: 00, loss: -0.86116\n",
      "epoch: 01, loss: -0.91898\n",
      "epoch: 02, loss: -0.93357\n",
      "epoch: 03, loss: -0.94156\n",
      "epoch: 04, loss: -0.94729\n",
      "epoch: 05, loss: -0.95122\n",
      "epoch: 06, loss: -0.95416\n",
      "epoch: 07, loss: -0.95659\n",
      "epoch: 08, loss: -0.95871\n",
      "epoch: 09, loss: -0.96045\n",
      "torch.Size([1024, 64])\n"
     ]
    },
    {
     "name": "stderr",
     "output_type": "stream",
     "text": [
      " 42%|████▏     | 418/999 [8:26:23<11:17:33, 69.97s/it]"
     ]
    },
    {
     "name": "stdout",
     "output_type": "stream",
     "text": [
      "eigenvalues shape torch.Size([5]) eigenvectors shape torch.Size([5, 1024])\n",
      "418 /home/phdcs2/Hard_Disk/Datasets/Deep-Spectral-Segmentation/data/object-segmentation/ECSSD/features/0420_resized.pth\n",
      "dict_keys(['k', 'indices', 'file', 'id', 'model_name', 'patch_size', 'shape'])\n",
      "0420_resized\n"
     ]
    },
    {
     "name": "stderr",
     "output_type": "stream",
     "text": [
      "/home/phdcs2/Hard_Disk/Projects/T2I/deep-spectral-segmentation/venv/lib/python3.8/site-packages/sklearn/decomposition/_pca.py:642: RuntimeWarning: invalid value encountered in divide\n",
      "  self.explained_variance_ratio_ = self.explained_variance_ / total_var\n"
     ]
    },
    {
     "name": "stdout",
     "output_type": "stream",
     "text": [
      "Starting Training\n",
      "epoch: 00, loss: -0.92456\n",
      "epoch: 01, loss: -0.95654\n",
      "epoch: 02, loss: -0.96307\n",
      "epoch: 03, loss: -0.96686\n",
      "epoch: 04, loss: -0.96947\n",
      "epoch: 05, loss: -0.97142\n",
      "epoch: 06, loss: -0.97297\n",
      "epoch: 07, loss: -0.97424\n",
      "epoch: 08, loss: -0.97529\n",
      "epoch: 09, loss: -0.97621\n",
      "torch.Size([1024, 64])\n"
     ]
    },
    {
     "name": "stderr",
     "output_type": "stream",
     "text": [
      " 42%|████▏     | 419/999 [8:27:35<11:23:38, 70.72s/it]"
     ]
    },
    {
     "name": "stdout",
     "output_type": "stream",
     "text": [
      "eigenvalues shape torch.Size([5]) eigenvectors shape torch.Size([5, 1024])\n",
      "419 /home/phdcs2/Hard_Disk/Datasets/Deep-Spectral-Segmentation/data/object-segmentation/ECSSD/features/0421_resized.pth\n",
      "dict_keys(['k', 'indices', 'file', 'id', 'model_name', 'patch_size', 'shape'])\n",
      "0421_resized\n",
      "Starting Training\n",
      "epoch: 00, loss: -0.88151\n",
      "epoch: 01, loss: -0.93220\n",
      "epoch: 02, loss: -0.94421\n",
      "epoch: 03, loss: -0.95084\n",
      "epoch: 04, loss: -0.95523\n",
      "epoch: 05, loss: -0.95847\n",
      "epoch: 06, loss: -0.96106\n",
      "epoch: 07, loss: -0.96317\n",
      "epoch: 08, loss: -0.96493\n",
      "epoch: 09, loss: -0.96633\n",
      "torch.Size([1024, 64])\n"
     ]
    },
    {
     "name": "stderr",
     "output_type": "stream",
     "text": [
      " 42%|████▏     | 420/999 [8:28:49<11:29:55, 71.50s/it]"
     ]
    },
    {
     "name": "stdout",
     "output_type": "stream",
     "text": [
      "eigenvalues shape torch.Size([5]) eigenvectors shape torch.Size([5, 1024])\n",
      "420 /home/phdcs2/Hard_Disk/Datasets/Deep-Spectral-Segmentation/data/object-segmentation/ECSSD/features/0422_resized.pth\n",
      "dict_keys(['k', 'indices', 'file', 'id', 'model_name', 'patch_size', 'shape'])\n",
      "0422_resized\n"
     ]
    },
    {
     "name": "stderr",
     "output_type": "stream",
     "text": [
      "/home/phdcs2/Hard_Disk/Projects/T2I/deep-spectral-segmentation/venv/lib/python3.8/site-packages/sklearn/decomposition/_pca.py:642: RuntimeWarning: invalid value encountered in divide\n",
      "  self.explained_variance_ratio_ = self.explained_variance_ / total_var\n"
     ]
    },
    {
     "name": "stdout",
     "output_type": "stream",
     "text": [
      "Starting Training\n",
      "epoch: 00, loss: -0.91403\n",
      "epoch: 01, loss: -0.94560\n",
      "epoch: 02, loss: -0.95368\n",
      "epoch: 03, loss: -0.95841\n",
      "epoch: 04, loss: -0.96168\n",
      "epoch: 05, loss: -0.96409\n",
      "epoch: 06, loss: -0.96604\n",
      "epoch: 07, loss: -0.96761\n",
      "epoch: 08, loss: -0.96895\n",
      "epoch: 09, loss: -0.97008\n",
      "torch.Size([1024, 64])\n"
     ]
    },
    {
     "name": "stderr",
     "output_type": "stream",
     "text": [
      " 42%|████▏     | 421/999 [8:30:00<11:29:23, 71.56s/it]"
     ]
    },
    {
     "name": "stdout",
     "output_type": "stream",
     "text": [
      "eigenvalues shape torch.Size([5]) eigenvectors shape torch.Size([5, 1024])\n",
      "421 /home/phdcs2/Hard_Disk/Datasets/Deep-Spectral-Segmentation/data/object-segmentation/ECSSD/features/0423_resized.pth\n",
      "dict_keys(['k', 'indices', 'file', 'id', 'model_name', 'patch_size', 'shape'])\n",
      "0423_resized\n"
     ]
    },
    {
     "name": "stderr",
     "output_type": "stream",
     "text": [
      "/home/phdcs2/Hard_Disk/Projects/T2I/deep-spectral-segmentation/venv/lib/python3.8/site-packages/sklearn/decomposition/_pca.py:642: RuntimeWarning: invalid value encountered in divide\n",
      "  self.explained_variance_ratio_ = self.explained_variance_ / total_var\n"
     ]
    },
    {
     "name": "stdout",
     "output_type": "stream",
     "text": [
      "Starting Training\n",
      "epoch: 00, loss: -0.90377\n",
      "epoch: 01, loss: -0.94073\n",
      "epoch: 02, loss: -0.95024\n",
      "epoch: 03, loss: -0.95577\n",
      "epoch: 04, loss: -0.95956\n",
      "epoch: 05, loss: -0.96232\n",
      "epoch: 06, loss: -0.96453\n",
      "epoch: 07, loss: -0.96630\n",
      "epoch: 08, loss: -0.96780\n",
      "epoch: 09, loss: -0.96906\n",
      "torch.Size([1024, 64])\n"
     ]
    },
    {
     "name": "stderr",
     "output_type": "stream",
     "text": [
      " 42%|████▏     | 422/999 [8:31:15<11:36:21, 72.41s/it]"
     ]
    },
    {
     "name": "stdout",
     "output_type": "stream",
     "text": [
      "eigenvalues shape torch.Size([5]) eigenvectors shape torch.Size([5, 1024])\n",
      "422 /home/phdcs2/Hard_Disk/Datasets/Deep-Spectral-Segmentation/data/object-segmentation/ECSSD/features/0424_resized.pth\n",
      "dict_keys(['k', 'indices', 'file', 'id', 'model_name', 'patch_size', 'shape'])\n",
      "0424_resized\n",
      "Starting Training\n",
      "epoch: 00, loss: -0.86565\n",
      "epoch: 01, loss: -0.92208\n",
      "epoch: 02, loss: -0.93628\n",
      "epoch: 03, loss: -0.94413\n",
      "epoch: 04, loss: -0.94929\n",
      "epoch: 05, loss: -0.95324\n",
      "epoch: 06, loss: -0.95623\n",
      "epoch: 07, loss: -0.95858\n",
      "epoch: 08, loss: -0.96053\n",
      "epoch: 09, loss: -0.96229\n",
      "torch.Size([1024, 64])\n"
     ]
    },
    {
     "name": "stderr",
     "output_type": "stream",
     "text": [
      " 42%|████▏     | 423/999 [8:32:24<11:24:50, 71.34s/it]"
     ]
    },
    {
     "name": "stdout",
     "output_type": "stream",
     "text": [
      "eigenvalues shape torch.Size([5]) eigenvectors shape torch.Size([5, 1024])\n",
      "423 /home/phdcs2/Hard_Disk/Datasets/Deep-Spectral-Segmentation/data/object-segmentation/ECSSD/features/0425_resized.pth\n",
      "dict_keys(['k', 'indices', 'file', 'id', 'model_name', 'patch_size', 'shape'])\n",
      "0425_resized\n",
      "Starting Training\n",
      "epoch: 00, loss: -0.87236\n",
      "epoch: 01, loss: -0.92471\n",
      "epoch: 02, loss: -0.93744\n",
      "epoch: 03, loss: -0.94471\n",
      "epoch: 04, loss: -0.94953\n",
      "epoch: 05, loss: -0.95305\n",
      "epoch: 06, loss: -0.95589\n",
      "epoch: 07, loss: -0.95817\n",
      "epoch: 08, loss: -0.96009\n",
      "epoch: 09, loss: -0.96160\n",
      "torch.Size([1024, 64])\n"
     ]
    },
    {
     "name": "stderr",
     "output_type": "stream",
     "text": [
      " 42%|████▏     | 424/999 [8:33:33<11:16:43, 70.61s/it]"
     ]
    },
    {
     "name": "stdout",
     "output_type": "stream",
     "text": [
      "eigenvalues shape torch.Size([5]) eigenvectors shape torch.Size([5, 1024])\n",
      "424 /home/phdcs2/Hard_Disk/Datasets/Deep-Spectral-Segmentation/data/object-segmentation/ECSSD/features/0426_resized.pth\n",
      "dict_keys(['k', 'indices', 'file', 'id', 'model_name', 'patch_size', 'shape'])\n",
      "0426_resized\n"
     ]
    },
    {
     "name": "stderr",
     "output_type": "stream",
     "text": [
      "/home/phdcs2/Hard_Disk/Projects/T2I/deep-spectral-segmentation/venv/lib/python3.8/site-packages/sklearn/decomposition/_pca.py:642: RuntimeWarning: invalid value encountered in divide\n",
      "  self.explained_variance_ratio_ = self.explained_variance_ / total_var\n"
     ]
    },
    {
     "name": "stdout",
     "output_type": "stream",
     "text": [
      "Starting Training\n",
      "epoch: 00, loss: -0.90684\n",
      "epoch: 01, loss: -0.94512\n",
      "epoch: 02, loss: -0.95384\n",
      "epoch: 03, loss: -0.95892\n",
      "epoch: 04, loss: -0.96240\n",
      "epoch: 05, loss: -0.96496\n",
      "epoch: 06, loss: -0.96698\n",
      "epoch: 07, loss: -0.96863\n",
      "epoch: 08, loss: -0.97001\n",
      "epoch: 09, loss: -0.97116\n",
      "torch.Size([1024, 64])\n"
     ]
    },
    {
     "name": "stderr",
     "output_type": "stream",
     "text": [
      " 43%|████▎     | 425/999 [8:34:30<10:38:49, 66.78s/it]"
     ]
    },
    {
     "name": "stdout",
     "output_type": "stream",
     "text": [
      "eigenvalues shape torch.Size([5]) eigenvectors shape torch.Size([5, 1024])\n",
      "425 /home/phdcs2/Hard_Disk/Datasets/Deep-Spectral-Segmentation/data/object-segmentation/ECSSD/features/0427_resized.pth\n",
      "dict_keys(['k', 'indices', 'file', 'id', 'model_name', 'patch_size', 'shape'])\n",
      "0427_resized\n"
     ]
    },
    {
     "name": "stderr",
     "output_type": "stream",
     "text": [
      "/home/phdcs2/Hard_Disk/Projects/T2I/deep-spectral-segmentation/venv/lib/python3.8/site-packages/sklearn/decomposition/_pca.py:642: RuntimeWarning: invalid value encountered in divide\n",
      "  self.explained_variance_ratio_ = self.explained_variance_ / total_var\n"
     ]
    },
    {
     "name": "stdout",
     "output_type": "stream",
     "text": [
      "Starting Training\n",
      "epoch: 00, loss: -0.92677\n",
      "epoch: 01, loss: -0.95795\n",
      "epoch: 02, loss: -0.96453\n",
      "epoch: 03, loss: -0.96828\n",
      "epoch: 04, loss: -0.97086\n",
      "epoch: 05, loss: -0.97274\n",
      "epoch: 06, loss: -0.97426\n",
      "epoch: 07, loss: -0.97544\n",
      "epoch: 08, loss: -0.97645\n",
      "epoch: 09, loss: -0.97733\n",
      "torch.Size([1024, 64])\n"
     ]
    },
    {
     "name": "stderr",
     "output_type": "stream",
     "text": [
      " 43%|████▎     | 426/999 [8:35:26<10:06:54, 63.55s/it]"
     ]
    },
    {
     "name": "stdout",
     "output_type": "stream",
     "text": [
      "eigenvalues shape torch.Size([5]) eigenvectors shape torch.Size([5, 1024])\n",
      "426 /home/phdcs2/Hard_Disk/Datasets/Deep-Spectral-Segmentation/data/object-segmentation/ECSSD/features/0428_resized.pth\n",
      "dict_keys(['k', 'indices', 'file', 'id', 'model_name', 'patch_size', 'shape'])\n",
      "0428_resized\n",
      "Starting Training\n",
      "epoch: 00, loss: -0.87544\n",
      "epoch: 01, loss: -0.92341\n",
      "epoch: 02, loss: -0.93494\n",
      "epoch: 03, loss: -0.94175\n",
      "epoch: 04, loss: -0.94649\n",
      "epoch: 05, loss: -0.94980\n",
      "epoch: 06, loss: -0.95217\n",
      "epoch: 07, loss: -0.95447\n",
      "epoch: 08, loss: -0.95613\n",
      "epoch: 09, loss: -0.95765\n",
      "torch.Size([1024, 64])\n"
     ]
    },
    {
     "name": "stderr",
     "output_type": "stream",
     "text": [
      " 43%|████▎     | 427/999 [8:36:20<9:38:41, 60.70s/it] "
     ]
    },
    {
     "name": "stdout",
     "output_type": "stream",
     "text": [
      "eigenvalues shape torch.Size([5]) eigenvectors shape torch.Size([5, 1024])\n",
      "427 /home/phdcs2/Hard_Disk/Datasets/Deep-Spectral-Segmentation/data/object-segmentation/ECSSD/features/0429_resized.pth\n",
      "dict_keys(['k', 'indices', 'file', 'id', 'model_name', 'patch_size', 'shape'])\n",
      "0429_resized\n"
     ]
    },
    {
     "name": "stderr",
     "output_type": "stream",
     "text": [
      "/home/phdcs2/Hard_Disk/Projects/T2I/deep-spectral-segmentation/venv/lib/python3.8/site-packages/sklearn/decomposition/_pca.py:642: RuntimeWarning: invalid value encountered in divide\n",
      "  self.explained_variance_ratio_ = self.explained_variance_ / total_var\n"
     ]
    },
    {
     "name": "stdout",
     "output_type": "stream",
     "text": [
      "Starting Training\n",
      "epoch: 00, loss: -0.91701\n",
      "epoch: 01, loss: -0.94974\n",
      "epoch: 02, loss: -0.95730\n",
      "epoch: 03, loss: -0.96172\n",
      "epoch: 04, loss: -0.96474\n",
      "epoch: 05, loss: -0.96702\n",
      "epoch: 06, loss: -0.96877\n",
      "epoch: 07, loss: -0.97020\n",
      "epoch: 08, loss: -0.97144\n",
      "epoch: 09, loss: -0.97249\n",
      "torch.Size([1024, 64])\n"
     ]
    },
    {
     "name": "stderr",
     "output_type": "stream",
     "text": [
      " 43%|████▎     | 428/999 [8:37:31<10:06:04, 63.69s/it]"
     ]
    },
    {
     "name": "stdout",
     "output_type": "stream",
     "text": [
      "eigenvalues shape torch.Size([5]) eigenvectors shape torch.Size([5, 1024])\n",
      "428 /home/phdcs2/Hard_Disk/Datasets/Deep-Spectral-Segmentation/data/object-segmentation/ECSSD/features/0430_resized.pth\n",
      "dict_keys(['k', 'indices', 'file', 'id', 'model_name', 'patch_size', 'shape'])\n",
      "0430_resized\n",
      "Starting Training\n",
      "epoch: 00, loss: -0.86986\n",
      "epoch: 01, loss: -0.92099\n",
      "epoch: 02, loss: -0.93498\n",
      "epoch: 03, loss: -0.94282\n",
      "epoch: 04, loss: -0.94804\n",
      "epoch: 05, loss: -0.95196\n",
      "epoch: 06, loss: -0.95484\n",
      "epoch: 07, loss: -0.95727\n",
      "epoch: 08, loss: -0.95928\n",
      "epoch: 09, loss: -0.96098\n",
      "torch.Size([1024, 64])\n"
     ]
    },
    {
     "name": "stderr",
     "output_type": "stream",
     "text": [
      " 43%|████▎     | 429/999 [8:38:41<10:23:14, 65.60s/it]"
     ]
    },
    {
     "name": "stdout",
     "output_type": "stream",
     "text": [
      "eigenvalues shape torch.Size([5]) eigenvectors shape torch.Size([5, 1024])\n",
      "429 /home/phdcs2/Hard_Disk/Datasets/Deep-Spectral-Segmentation/data/object-segmentation/ECSSD/features/0431_resized.pth\n",
      "dict_keys(['k', 'indices', 'file', 'id', 'model_name', 'patch_size', 'shape'])\n",
      "0431_resized\n",
      "Starting Training\n",
      "epoch: 00, loss: -0.85218\n",
      "epoch: 01, loss: -0.91239\n",
      "epoch: 02, loss: -0.92745\n",
      "epoch: 03, loss: -0.93626\n",
      "epoch: 04, loss: -0.94195\n",
      "epoch: 05, loss: -0.94626\n",
      "epoch: 06, loss: -0.94967\n",
      "epoch: 07, loss: -0.95238\n",
      "epoch: 08, loss: -0.95464\n",
      "epoch: 09, loss: -0.95660\n",
      "torch.Size([1024, 64])\n"
     ]
    },
    {
     "name": "stderr",
     "output_type": "stream",
     "text": [
      " 43%|████▎     | 430/999 [8:39:52<10:38:15, 67.30s/it]"
     ]
    },
    {
     "name": "stdout",
     "output_type": "stream",
     "text": [
      "eigenvalues shape torch.Size([5]) eigenvectors shape torch.Size([5, 1024])\n",
      "430 /home/phdcs2/Hard_Disk/Datasets/Deep-Spectral-Segmentation/data/object-segmentation/ECSSD/features/0432_resized.pth\n",
      "dict_keys(['k', 'indices', 'file', 'id', 'model_name', 'patch_size', 'shape'])\n",
      "0432_resized\n"
     ]
    },
    {
     "name": "stderr",
     "output_type": "stream",
     "text": [
      "/home/phdcs2/Hard_Disk/Projects/T2I/deep-spectral-segmentation/venv/lib/python3.8/site-packages/sklearn/decomposition/_pca.py:642: RuntimeWarning: invalid value encountered in divide\n",
      "  self.explained_variance_ratio_ = self.explained_variance_ / total_var\n"
     ]
    },
    {
     "name": "stdout",
     "output_type": "stream",
     "text": [
      "Starting Training\n",
      "epoch: 00, loss: -0.91495\n",
      "epoch: 01, loss: -0.95050\n",
      "epoch: 02, loss: -0.95871\n",
      "epoch: 03, loss: -0.96338\n",
      "epoch: 04, loss: -0.96654\n",
      "epoch: 05, loss: -0.96887\n",
      "epoch: 06, loss: -0.97068\n",
      "epoch: 07, loss: -0.97217\n",
      "epoch: 08, loss: -0.97339\n",
      "epoch: 09, loss: -0.97442\n",
      "torch.Size([1024, 64])\n"
     ]
    },
    {
     "name": "stderr",
     "output_type": "stream",
     "text": [
      " 43%|████▎     | 431/999 [8:40:57<10:29:10, 66.46s/it]"
     ]
    },
    {
     "name": "stdout",
     "output_type": "stream",
     "text": [
      "eigenvalues shape torch.Size([5]) eigenvectors shape torch.Size([5, 1024])\n",
      "431 /home/phdcs2/Hard_Disk/Datasets/Deep-Spectral-Segmentation/data/object-segmentation/ECSSD/features/0433_resized.pth\n",
      "dict_keys(['k', 'indices', 'file', 'id', 'model_name', 'patch_size', 'shape'])\n",
      "0433_resized\n"
     ]
    },
    {
     "name": "stderr",
     "output_type": "stream",
     "text": [
      "/home/phdcs2/Hard_Disk/Projects/T2I/deep-spectral-segmentation/venv/lib/python3.8/site-packages/sklearn/decomposition/_pca.py:642: RuntimeWarning: invalid value encountered in divide\n",
      "  self.explained_variance_ratio_ = self.explained_variance_ / total_var\n"
     ]
    },
    {
     "name": "stdout",
     "output_type": "stream",
     "text": [
      "Starting Training\n",
      "epoch: 00, loss: -0.92264\n",
      "epoch: 01, loss: -0.95261\n",
      "epoch: 02, loss: -0.95966\n",
      "epoch: 03, loss: -0.96378\n",
      "epoch: 04, loss: -0.96664\n",
      "epoch: 05, loss: -0.96876\n",
      "epoch: 06, loss: -0.97040\n",
      "epoch: 07, loss: -0.97177\n",
      "epoch: 08, loss: -0.97293\n",
      "epoch: 09, loss: -0.97390\n",
      "torch.Size([1024, 64])\n"
     ]
    },
    {
     "name": "stderr",
     "output_type": "stream",
     "text": [
      " 43%|████▎     | 432/999 [8:42:04<10:29:51, 66.65s/it]"
     ]
    },
    {
     "name": "stdout",
     "output_type": "stream",
     "text": [
      "eigenvalues shape torch.Size([5]) eigenvectors shape torch.Size([5, 1024])\n",
      "432 /home/phdcs2/Hard_Disk/Datasets/Deep-Spectral-Segmentation/data/object-segmentation/ECSSD/features/0434_resized.pth\n",
      "dict_keys(['k', 'indices', 'file', 'id', 'model_name', 'patch_size', 'shape'])\n",
      "0434_resized\n",
      "Starting Training\n",
      "epoch: 00, loss: -0.92091\n",
      "epoch: 01, loss: -0.95519\n",
      "epoch: 02, loss: -0.96239\n",
      "epoch: 03, loss: -0.96651\n",
      "epoch: 04, loss: -0.96931\n",
      "epoch: 05, loss: -0.97135\n",
      "epoch: 06, loss: -0.97297\n",
      "epoch: 07, loss: -0.97428\n",
      "epoch: 08, loss: -0.97536\n",
      "epoch: 09, loss: -0.97630\n",
      "torch.Size([1024, 64])\n"
     ]
    },
    {
     "name": "stderr",
     "output_type": "stream",
     "text": [
      " 43%|████▎     | 433/999 [8:43:16<10:43:01, 68.16s/it]"
     ]
    },
    {
     "name": "stdout",
     "output_type": "stream",
     "text": [
      "eigenvalues shape torch.Size([5]) eigenvectors shape torch.Size([5, 1024])\n",
      "433 /home/phdcs2/Hard_Disk/Datasets/Deep-Spectral-Segmentation/data/object-segmentation/ECSSD/features/0435_resized.pth\n",
      "dict_keys(['k', 'indices', 'file', 'id', 'model_name', 'patch_size', 'shape'])\n",
      "0435_resized\n"
     ]
    },
    {
     "name": "stderr",
     "output_type": "stream",
     "text": [
      "/home/phdcs2/Hard_Disk/Projects/T2I/deep-spectral-segmentation/venv/lib/python3.8/site-packages/sklearn/decomposition/_pca.py:642: RuntimeWarning: invalid value encountered in divide\n",
      "  self.explained_variance_ratio_ = self.explained_variance_ / total_var\n"
     ]
    },
    {
     "name": "stdout",
     "output_type": "stream",
     "text": [
      "Starting Training\n",
      "epoch: 00, loss: -0.93102\n",
      "epoch: 01, loss: -0.96034\n",
      "epoch: 02, loss: -0.96644\n",
      "epoch: 03, loss: -0.96999\n",
      "epoch: 04, loss: -0.97238\n",
      "epoch: 05, loss: -0.97421\n",
      "epoch: 06, loss: -0.97560\n",
      "epoch: 07, loss: -0.97674\n",
      "epoch: 08, loss: -0.97771\n",
      "epoch: 09, loss: -0.97853\n",
      "torch.Size([1024, 64])\n"
     ]
    },
    {
     "name": "stderr",
     "output_type": "stream",
     "text": [
      " 43%|████▎     | 434/999 [8:44:29<10:56:29, 69.72s/it]"
     ]
    },
    {
     "name": "stdout",
     "output_type": "stream",
     "text": [
      "eigenvalues shape torch.Size([5]) eigenvectors shape torch.Size([5, 1024])\n",
      "434 /home/phdcs2/Hard_Disk/Datasets/Deep-Spectral-Segmentation/data/object-segmentation/ECSSD/features/0436_resized.pth\n",
      "dict_keys(['k', 'indices', 'file', 'id', 'model_name', 'patch_size', 'shape'])\n",
      "0436_resized\n",
      "Starting Training\n",
      "epoch: 00, loss: -0.91063\n",
      "epoch: 01, loss: -0.94547\n",
      "epoch: 02, loss: -0.95408\n",
      "epoch: 03, loss: -0.95914\n",
      "epoch: 04, loss: -0.96254\n",
      "epoch: 05, loss: -0.96512\n",
      "epoch: 06, loss: -0.96709\n",
      "epoch: 07, loss: -0.96872\n",
      "epoch: 08, loss: -0.97005\n",
      "epoch: 09, loss: -0.97122\n",
      "torch.Size([1024, 64])\n"
     ]
    },
    {
     "name": "stderr",
     "output_type": "stream",
     "text": [
      " 44%|████▎     | 435/999 [8:45:38<10:53:36, 69.53s/it]"
     ]
    },
    {
     "name": "stdout",
     "output_type": "stream",
     "text": [
      "eigenvalues shape torch.Size([5]) eigenvectors shape torch.Size([5, 1024])\n",
      "435 /home/phdcs2/Hard_Disk/Datasets/Deep-Spectral-Segmentation/data/object-segmentation/ECSSD/features/0437_resized.pth\n",
      "dict_keys(['k', 'indices', 'file', 'id', 'model_name', 'patch_size', 'shape'])\n",
      "0437_resized\n"
     ]
    },
    {
     "name": "stderr",
     "output_type": "stream",
     "text": [
      "/home/phdcs2/Hard_Disk/Projects/T2I/deep-spectral-segmentation/venv/lib/python3.8/site-packages/sklearn/decomposition/_pca.py:642: RuntimeWarning: invalid value encountered in divide\n",
      "  self.explained_variance_ratio_ = self.explained_variance_ / total_var\n"
     ]
    },
    {
     "name": "stdout",
     "output_type": "stream",
     "text": [
      "Starting Training\n",
      "epoch: 00, loss: -0.91458\n",
      "epoch: 01, loss: -0.94951\n",
      "epoch: 02, loss: -0.95784\n",
      "epoch: 03, loss: -0.96257\n",
      "epoch: 04, loss: -0.96583\n",
      "epoch: 05, loss: -0.96818\n",
      "epoch: 06, loss: -0.97006\n",
      "epoch: 07, loss: -0.97159\n",
      "epoch: 08, loss: -0.97286\n",
      "epoch: 09, loss: -0.97392\n",
      "torch.Size([1024, 64])\n"
     ]
    },
    {
     "name": "stderr",
     "output_type": "stream",
     "text": [
      " 44%|████▎     | 436/999 [8:46:49<10:55:36, 69.87s/it]"
     ]
    },
    {
     "name": "stdout",
     "output_type": "stream",
     "text": [
      "eigenvalues shape torch.Size([5]) eigenvectors shape torch.Size([5, 1024])\n",
      "436 /home/phdcs2/Hard_Disk/Datasets/Deep-Spectral-Segmentation/data/object-segmentation/ECSSD/features/0438_resized.pth\n",
      "dict_keys(['k', 'indices', 'file', 'id', 'model_name', 'patch_size', 'shape'])\n",
      "0438_resized\n",
      "Starting Training\n",
      "epoch: 00, loss: -0.83451\n",
      "epoch: 01, loss: -0.90572\n",
      "epoch: 02, loss: -0.92298\n",
      "epoch: 03, loss: -0.93302\n",
      "epoch: 04, loss: -0.93945\n",
      "epoch: 05, loss: -0.94398\n",
      "epoch: 06, loss: -0.94751\n",
      "epoch: 07, loss: -0.95034\n",
      "epoch: 08, loss: -0.95265\n",
      "epoch: 09, loss: -0.95467\n",
      "torch.Size([1024, 64])\n"
     ]
    },
    {
     "name": "stderr",
     "output_type": "stream",
     "text": [
      " 44%|████▎     | 437/999 [8:47:53<10:39:13, 68.24s/it]"
     ]
    },
    {
     "name": "stdout",
     "output_type": "stream",
     "text": [
      "eigenvalues shape torch.Size([5]) eigenvectors shape torch.Size([5, 1024])\n",
      "437 /home/phdcs2/Hard_Disk/Datasets/Deep-Spectral-Segmentation/data/object-segmentation/ECSSD/features/0439_resized.pth\n",
      "dict_keys(['k', 'indices', 'file', 'id', 'model_name', 'patch_size', 'shape'])\n",
      "0439_resized\n",
      "Starting Training\n",
      "epoch: 00, loss: -0.85010\n",
      "epoch: 01, loss: -0.91422\n",
      "epoch: 02, loss: -0.92878\n",
      "epoch: 03, loss: -0.93675\n",
      "epoch: 04, loss: -0.94213\n",
      "epoch: 05, loss: -0.94586\n",
      "epoch: 06, loss: -0.94899\n",
      "epoch: 07, loss: -0.95150\n",
      "epoch: 08, loss: -0.95354\n",
      "epoch: 09, loss: -0.95524\n",
      "torch.Size([1024, 64])\n"
     ]
    },
    {
     "name": "stderr",
     "output_type": "stream",
     "text": [
      " 44%|████▍     | 438/999 [8:49:04<10:44:49, 68.97s/it]"
     ]
    },
    {
     "name": "stdout",
     "output_type": "stream",
     "text": [
      "eigenvalues shape torch.Size([5]) eigenvectors shape torch.Size([5, 1024])\n",
      "438 /home/phdcs2/Hard_Disk/Datasets/Deep-Spectral-Segmentation/data/object-segmentation/ECSSD/features/0440_resized.pth\n",
      "dict_keys(['k', 'indices', 'file', 'id', 'model_name', 'patch_size', 'shape'])\n",
      "0440_resized\n",
      "Starting Training\n",
      "epoch: 00, loss: -0.87150\n",
      "epoch: 01, loss: -0.92448\n",
      "epoch: 02, loss: -0.93732\n",
      "epoch: 03, loss: -0.94466\n",
      "epoch: 04, loss: -0.94945\n",
      "epoch: 05, loss: -0.95309\n",
      "epoch: 06, loss: -0.95607\n",
      "epoch: 07, loss: -0.95828\n",
      "epoch: 08, loss: -0.96012\n",
      "epoch: 09, loss: -0.96165\n",
      "torch.Size([1024, 64])\n"
     ]
    },
    {
     "name": "stderr",
     "output_type": "stream",
     "text": [
      " 44%|████▍     | 439/999 [8:50:20<11:04:53, 71.24s/it]"
     ]
    },
    {
     "name": "stdout",
     "output_type": "stream",
     "text": [
      "eigenvalues shape torch.Size([5]) eigenvectors shape torch.Size([5, 1024])\n",
      "439 /home/phdcs2/Hard_Disk/Datasets/Deep-Spectral-Segmentation/data/object-segmentation/ECSSD/features/0441_resized.pth\n",
      "dict_keys(['k', 'indices', 'file', 'id', 'model_name', 'patch_size', 'shape'])\n",
      "0441_resized\n",
      "Starting Training\n",
      "epoch: 00, loss: -0.87870\n",
      "epoch: 01, loss: -0.92723\n",
      "epoch: 02, loss: -0.93983\n",
      "epoch: 03, loss: -0.94675\n",
      "epoch: 04, loss: -0.95145\n",
      "epoch: 05, loss: -0.95495\n",
      "epoch: 06, loss: -0.95771\n",
      "epoch: 07, loss: -0.95994\n",
      "epoch: 08, loss: -0.96167\n",
      "epoch: 09, loss: -0.96324\n",
      "torch.Size([1024, 64])\n"
     ]
    },
    {
     "name": "stderr",
     "output_type": "stream",
     "text": [
      " 44%|████▍     | 440/999 [8:51:38<11:22:02, 73.21s/it]"
     ]
    },
    {
     "name": "stdout",
     "output_type": "stream",
     "text": [
      "eigenvalues shape torch.Size([5]) eigenvectors shape torch.Size([5, 1024])\n",
      "440 /home/phdcs2/Hard_Disk/Datasets/Deep-Spectral-Segmentation/data/object-segmentation/ECSSD/features/0442_resized.pth\n",
      "dict_keys(['k', 'indices', 'file', 'id', 'model_name', 'patch_size', 'shape'])\n",
      "0442_resized\n",
      "Starting Training\n",
      "epoch: 00, loss: -0.88798\n",
      "epoch: 01, loss: -0.93588\n",
      "epoch: 02, loss: -0.94702\n",
      "epoch: 03, loss: -0.95294\n",
      "epoch: 04, loss: -0.95724\n",
      "epoch: 05, loss: -0.96030\n",
      "epoch: 06, loss: -0.96264\n",
      "epoch: 07, loss: -0.96451\n",
      "epoch: 08, loss: -0.96611\n",
      "epoch: 09, loss: -0.96739\n",
      "torch.Size([1024, 64])\n"
     ]
    },
    {
     "name": "stderr",
     "output_type": "stream",
     "text": [
      " 44%|████▍     | 441/999 [8:52:55<11:30:58, 74.30s/it]"
     ]
    },
    {
     "name": "stdout",
     "output_type": "stream",
     "text": [
      "eigenvalues shape torch.Size([5]) eigenvectors shape torch.Size([5, 1024])\n",
      "441 /home/phdcs2/Hard_Disk/Datasets/Deep-Spectral-Segmentation/data/object-segmentation/ECSSD/features/0443_resized.pth\n",
      "dict_keys(['k', 'indices', 'file', 'id', 'model_name', 'patch_size', 'shape'])\n",
      "0443_resized\n"
     ]
    },
    {
     "name": "stderr",
     "output_type": "stream",
     "text": [
      "/home/phdcs2/Hard_Disk/Projects/T2I/deep-spectral-segmentation/venv/lib/python3.8/site-packages/sklearn/decomposition/_pca.py:642: RuntimeWarning: invalid value encountered in divide\n",
      "  self.explained_variance_ratio_ = self.explained_variance_ / total_var\n"
     ]
    },
    {
     "name": "stdout",
     "output_type": "stream",
     "text": [
      "Starting Training\n",
      "epoch: 00, loss: -0.92021\n",
      "epoch: 01, loss: -0.95267\n",
      "epoch: 02, loss: -0.95996\n",
      "epoch: 03, loss: -0.96417\n",
      "epoch: 04, loss: -0.96710\n",
      "epoch: 05, loss: -0.96927\n",
      "epoch: 06, loss: -0.97100\n",
      "epoch: 07, loss: -0.97243\n",
      "epoch: 08, loss: -0.97355\n",
      "epoch: 09, loss: -0.97457\n",
      "torch.Size([1024, 64])\n"
     ]
    },
    {
     "name": "stderr",
     "output_type": "stream",
     "text": [
      " 44%|████▍     | 442/999 [8:54:07<11:23:29, 73.63s/it]"
     ]
    },
    {
     "name": "stdout",
     "output_type": "stream",
     "text": [
      "eigenvalues shape torch.Size([5]) eigenvectors shape torch.Size([5, 1024])\n",
      "442 /home/phdcs2/Hard_Disk/Datasets/Deep-Spectral-Segmentation/data/object-segmentation/ECSSD/features/0444_resized.pth\n",
      "dict_keys(['k', 'indices', 'file', 'id', 'model_name', 'patch_size', 'shape'])\n",
      "0444_resized\n",
      "Starting Training\n",
      "epoch: 00, loss: -0.91949\n",
      "epoch: 01, loss: -0.94981\n",
      "epoch: 02, loss: -0.95737\n",
      "epoch: 03, loss: -0.96170\n",
      "epoch: 04, loss: -0.96472\n",
      "epoch: 05, loss: -0.96699\n",
      "epoch: 06, loss: -0.96876\n",
      "epoch: 07, loss: -0.97021\n",
      "epoch: 08, loss: -0.97142\n",
      "epoch: 09, loss: -0.97247\n",
      "torch.Size([1024, 64])\n"
     ]
    },
    {
     "name": "stderr",
     "output_type": "stream",
     "text": [
      " 44%|████▍     | 443/999 [8:55:22<11:25:49, 74.01s/it]"
     ]
    },
    {
     "name": "stdout",
     "output_type": "stream",
     "text": [
      "eigenvalues shape torch.Size([5]) eigenvectors shape torch.Size([5, 1024])\n",
      "443 /home/phdcs2/Hard_Disk/Datasets/Deep-Spectral-Segmentation/data/object-segmentation/ECSSD/features/0445_resized.pth\n",
      "dict_keys(['k', 'indices', 'file', 'id', 'model_name', 'patch_size', 'shape'])\n",
      "0445_resized\n",
      "Starting Training\n",
      "epoch: 00, loss: -0.85719\n",
      "epoch: 01, loss: -0.91442\n",
      "epoch: 02, loss: -0.92939\n",
      "epoch: 03, loss: -0.93800\n",
      "epoch: 04, loss: -0.94375\n",
      "epoch: 05, loss: -0.94799\n",
      "epoch: 06, loss: -0.95137\n",
      "epoch: 07, loss: -0.95383\n",
      "epoch: 08, loss: -0.95604\n",
      "epoch: 09, loss: -0.95788\n",
      "torch.Size([1024, 64])\n"
     ]
    },
    {
     "name": "stderr",
     "output_type": "stream",
     "text": [
      " 44%|████▍     | 444/999 [8:56:31<11:11:24, 72.58s/it]"
     ]
    },
    {
     "name": "stdout",
     "output_type": "stream",
     "text": [
      "eigenvalues shape torch.Size([5]) eigenvectors shape torch.Size([5, 1024])\n",
      "444 /home/phdcs2/Hard_Disk/Datasets/Deep-Spectral-Segmentation/data/object-segmentation/ECSSD/features/0446_resized.pth\n",
      "dict_keys(['k', 'indices', 'file', 'id', 'model_name', 'patch_size', 'shape'])\n",
      "0446_resized\n",
      "Starting Training\n",
      "epoch: 00, loss: -0.92741\n",
      "epoch: 01, loss: -0.95678\n",
      "epoch: 02, loss: -0.96306\n",
      "epoch: 03, loss: -0.96679\n",
      "epoch: 04, loss: -0.96937\n",
      "epoch: 05, loss: -0.97131\n",
      "epoch: 06, loss: -0.97283\n",
      "epoch: 07, loss: -0.97407\n",
      "epoch: 08, loss: -0.97515\n",
      "epoch: 09, loss: -0.97606\n",
      "torch.Size([1024, 64])\n"
     ]
    },
    {
     "name": "stderr",
     "output_type": "stream",
     "text": [
      " 45%|████▍     | 445/999 [8:57:39<10:56:22, 71.09s/it]"
     ]
    },
    {
     "name": "stdout",
     "output_type": "stream",
     "text": [
      "eigenvalues shape torch.Size([5]) eigenvectors shape torch.Size([5, 1024])\n",
      "445 /home/phdcs2/Hard_Disk/Datasets/Deep-Spectral-Segmentation/data/object-segmentation/ECSSD/features/0447_resized.pth\n",
      "dict_keys(['k', 'indices', 'file', 'id', 'model_name', 'patch_size', 'shape'])\n",
      "0447_resized\n"
     ]
    },
    {
     "name": "stderr",
     "output_type": "stream",
     "text": [
      "/home/phdcs2/Hard_Disk/Projects/T2I/deep-spectral-segmentation/venv/lib/python3.8/site-packages/sklearn/decomposition/_pca.py:642: RuntimeWarning: invalid value encountered in divide\n",
      "  self.explained_variance_ratio_ = self.explained_variance_ / total_var\n"
     ]
    },
    {
     "name": "stdout",
     "output_type": "stream",
     "text": [
      "Starting Training\n",
      "epoch: 00, loss: -0.91289\n",
      "epoch: 01, loss: -0.94571\n",
      "epoch: 02, loss: -0.95423\n",
      "epoch: 03, loss: -0.95922\n",
      "epoch: 04, loss: -0.96252\n",
      "epoch: 05, loss: -0.96504\n",
      "epoch: 06, loss: -0.96702\n",
      "epoch: 07, loss: -0.96863\n",
      "epoch: 08, loss: -0.96995\n",
      "epoch: 09, loss: -0.97110\n",
      "torch.Size([1024, 64])\n"
     ]
    },
    {
     "name": "stderr",
     "output_type": "stream",
     "text": [
      " 45%|████▍     | 446/999 [8:58:35<10:14:05, 66.63s/it]"
     ]
    },
    {
     "name": "stdout",
     "output_type": "stream",
     "text": [
      "eigenvalues shape torch.Size([5]) eigenvectors shape torch.Size([5, 1024])\n",
      "446 /home/phdcs2/Hard_Disk/Datasets/Deep-Spectral-Segmentation/data/object-segmentation/ECSSD/features/0448_resized.pth\n",
      "dict_keys(['k', 'indices', 'file', 'id', 'model_name', 'patch_size', 'shape'])\n",
      "0448_resized\n"
     ]
    },
    {
     "name": "stderr",
     "output_type": "stream",
     "text": [
      "/home/phdcs2/Hard_Disk/Projects/T2I/deep-spectral-segmentation/venv/lib/python3.8/site-packages/sklearn/decomposition/_pca.py:642: RuntimeWarning: invalid value encountered in divide\n",
      "  self.explained_variance_ratio_ = self.explained_variance_ / total_var\n"
     ]
    },
    {
     "name": "stdout",
     "output_type": "stream",
     "text": [
      "Starting Training\n",
      "epoch: 00, loss: -0.91395\n",
      "epoch: 01, loss: -0.94553\n",
      "epoch: 02, loss: -0.95347\n",
      "epoch: 03, loss: -0.95813\n",
      "epoch: 04, loss: -0.96135\n",
      "epoch: 05, loss: -0.96386\n",
      "epoch: 06, loss: -0.96577\n",
      "epoch: 07, loss: -0.96736\n",
      "epoch: 08, loss: -0.96869\n",
      "epoch: 09, loss: -0.96985\n",
      "torch.Size([1024, 64])\n"
     ]
    },
    {
     "name": "stderr",
     "output_type": "stream",
     "text": [
      " 45%|████▍     | 447/999 [8:59:30<9:40:54, 63.14s/it] "
     ]
    },
    {
     "name": "stdout",
     "output_type": "stream",
     "text": [
      "eigenvalues shape torch.Size([5]) eigenvectors shape torch.Size([5, 1024])\n",
      "447 /home/phdcs2/Hard_Disk/Datasets/Deep-Spectral-Segmentation/data/object-segmentation/ECSSD/features/0449_resized.pth\n",
      "dict_keys(['k', 'indices', 'file', 'id', 'model_name', 'patch_size', 'shape'])\n",
      "0449_resized\n",
      "Starting Training\n",
      "epoch: 00, loss: -0.92332\n",
      "epoch: 01, loss: -0.95366\n",
      "epoch: 02, loss: -0.96063\n",
      "epoch: 03, loss: -0.96463\n",
      "epoch: 04, loss: -0.96738\n",
      "epoch: 05, loss: -0.96943\n",
      "epoch: 06, loss: -0.97104\n",
      "epoch: 07, loss: -0.97234\n",
      "epoch: 08, loss: -0.97346\n",
      "epoch: 09, loss: -0.97441\n",
      "torch.Size([1024, 64])\n"
     ]
    },
    {
     "name": "stderr",
     "output_type": "stream",
     "text": [
      " 45%|████▍     | 448/999 [9:00:25<9:17:36, 60.72s/it]"
     ]
    },
    {
     "name": "stdout",
     "output_type": "stream",
     "text": [
      "eigenvalues shape torch.Size([5]) eigenvectors shape torch.Size([5, 1024])\n",
      "448 /home/phdcs2/Hard_Disk/Datasets/Deep-Spectral-Segmentation/data/object-segmentation/ECSSD/features/0450_resized.pth\n",
      "dict_keys(['k', 'indices', 'file', 'id', 'model_name', 'patch_size', 'shape'])\n",
      "0450_resized\n",
      "Starting Training\n",
      "epoch: 00, loss: -0.87237\n",
      "epoch: 01, loss: -0.92635\n",
      "epoch: 02, loss: -0.93899\n",
      "epoch: 03, loss: -0.94614\n",
      "epoch: 04, loss: -0.95079\n",
      "epoch: 05, loss: -0.95424\n",
      "epoch: 06, loss: -0.95692\n",
      "epoch: 07, loss: -0.95912\n",
      "epoch: 08, loss: -0.96095\n",
      "epoch: 09, loss: -0.96249\n",
      "torch.Size([1024, 64])\n"
     ]
    },
    {
     "name": "stderr",
     "output_type": "stream",
     "text": [
      " 45%|████▍     | 449/999 [9:01:36<9:44:46, 63.79s/it]"
     ]
    },
    {
     "name": "stdout",
     "output_type": "stream",
     "text": [
      "eigenvalues shape torch.Size([5]) eigenvectors shape torch.Size([5, 1024])\n",
      "449 /home/phdcs2/Hard_Disk/Datasets/Deep-Spectral-Segmentation/data/object-segmentation/ECSSD/features/0451_resized.pth\n",
      "dict_keys(['k', 'indices', 'file', 'id', 'model_name', 'patch_size', 'shape'])\n",
      "0451_resized\n",
      "Starting Training\n",
      "epoch: 00, loss: -0.89440\n",
      "epoch: 01, loss: -0.93744\n",
      "epoch: 02, loss: -0.94799\n",
      "epoch: 03, loss: -0.95373\n",
      "epoch: 04, loss: -0.95768\n",
      "epoch: 05, loss: -0.96061\n",
      "epoch: 06, loss: -0.96278\n",
      "epoch: 07, loss: -0.96472\n",
      "epoch: 08, loss: -0.96616\n",
      "epoch: 09, loss: -0.96749\n",
      "torch.Size([1024, 64])\n"
     ]
    },
    {
     "name": "stderr",
     "output_type": "stream",
     "text": [
      " 45%|████▌     | 450/999 [9:02:49<10:08:33, 66.51s/it]"
     ]
    },
    {
     "name": "stdout",
     "output_type": "stream",
     "text": [
      "eigenvalues shape torch.Size([5]) eigenvectors shape torch.Size([5, 1024])\n",
      "450 /home/phdcs2/Hard_Disk/Datasets/Deep-Spectral-Segmentation/data/object-segmentation/ECSSD/features/0452_resized.pth\n",
      "dict_keys(['k', 'indices', 'file', 'id', 'model_name', 'patch_size', 'shape'])\n",
      "0452_resized\n"
     ]
    },
    {
     "name": "stderr",
     "output_type": "stream",
     "text": [
      "/home/phdcs2/Hard_Disk/Projects/T2I/deep-spectral-segmentation/venv/lib/python3.8/site-packages/sklearn/decomposition/_pca.py:642: RuntimeWarning: invalid value encountered in divide\n",
      "  self.explained_variance_ratio_ = self.explained_variance_ / total_var\n"
     ]
    },
    {
     "name": "stdout",
     "output_type": "stream",
     "text": [
      "Starting Training\n",
      "epoch: 00, loss: -0.92908\n",
      "epoch: 01, loss: -0.95914\n",
      "epoch: 02, loss: -0.96568\n",
      "epoch: 03, loss: -0.96950\n",
      "epoch: 04, loss: -0.97208\n",
      "epoch: 05, loss: -0.97399\n",
      "epoch: 06, loss: -0.97549\n",
      "epoch: 07, loss: -0.97674\n",
      "epoch: 08, loss: -0.97773\n",
      "epoch: 09, loss: -0.97863\n",
      "torch.Size([1024, 64])\n"
     ]
    },
    {
     "name": "stderr",
     "output_type": "stream",
     "text": [
      " 45%|████▌     | 451/999 [9:03:59<10:15:41, 67.41s/it]"
     ]
    },
    {
     "name": "stdout",
     "output_type": "stream",
     "text": [
      "eigenvalues shape torch.Size([5]) eigenvectors shape torch.Size([5, 1024])\n",
      "451 /home/phdcs2/Hard_Disk/Datasets/Deep-Spectral-Segmentation/data/object-segmentation/ECSSD/features/0453_resized.pth\n",
      "dict_keys(['k', 'indices', 'file', 'id', 'model_name', 'patch_size', 'shape'])\n",
      "0453_resized\n"
     ]
    },
    {
     "name": "stderr",
     "output_type": "stream",
     "text": [
      "/home/phdcs2/Hard_Disk/Projects/T2I/deep-spectral-segmentation/venv/lib/python3.8/site-packages/sklearn/decomposition/_pca.py:642: RuntimeWarning: invalid value encountered in divide\n",
      "  self.explained_variance_ratio_ = self.explained_variance_ / total_var\n"
     ]
    },
    {
     "name": "stdout",
     "output_type": "stream",
     "text": [
      "Starting Training\n",
      "epoch: 00, loss: -0.91805\n",
      "epoch: 01, loss: -0.95365\n",
      "epoch: 02, loss: -0.96084\n",
      "epoch: 03, loss: -0.96499\n",
      "epoch: 04, loss: -0.96781\n",
      "epoch: 05, loss: -0.96988\n",
      "epoch: 06, loss: -0.97152\n",
      "epoch: 07, loss: -0.97284\n",
      "epoch: 08, loss: -0.97393\n",
      "epoch: 09, loss: -0.97489\n",
      "torch.Size([1024, 64])\n"
     ]
    },
    {
     "name": "stderr",
     "output_type": "stream",
     "text": [
      " 45%|████▌     | 452/999 [9:05:04<10:09:16, 66.83s/it]"
     ]
    },
    {
     "name": "stdout",
     "output_type": "stream",
     "text": [
      "eigenvalues shape torch.Size([5]) eigenvectors shape torch.Size([5, 1024])\n",
      "452 /home/phdcs2/Hard_Disk/Datasets/Deep-Spectral-Segmentation/data/object-segmentation/ECSSD/features/0454_resized.pth\n",
      "dict_keys(['k', 'indices', 'file', 'id', 'model_name', 'patch_size', 'shape'])\n",
      "0454_resized\n",
      "Starting Training\n",
      "epoch: 00, loss: -0.90379\n",
      "epoch: 01, loss: -0.94054\n",
      "epoch: 02, loss: -0.95040\n",
      "epoch: 03, loss: -0.95599\n",
      "epoch: 04, loss: -0.95970\n",
      "epoch: 05, loss: -0.96250\n",
      "epoch: 06, loss: -0.96472\n",
      "epoch: 07, loss: -0.96647\n",
      "epoch: 08, loss: -0.96802\n",
      "epoch: 09, loss: -0.96926\n",
      "torch.Size([1024, 64])\n"
     ]
    },
    {
     "name": "stderr",
     "output_type": "stream",
     "text": [
      " 45%|████▌     | 453/999 [9:06:14<10:15:35, 67.65s/it]"
     ]
    },
    {
     "name": "stdout",
     "output_type": "stream",
     "text": [
      "eigenvalues shape torch.Size([5]) eigenvectors shape torch.Size([5, 1024])\n",
      "453 /home/phdcs2/Hard_Disk/Datasets/Deep-Spectral-Segmentation/data/object-segmentation/ECSSD/features/0455_resized.pth\n",
      "dict_keys(['k', 'indices', 'file', 'id', 'model_name', 'patch_size', 'shape'])\n",
      "0455_resized\n",
      "Starting Training\n",
      "epoch: 00, loss: -0.91868\n",
      "epoch: 01, loss: -0.95288\n",
      "epoch: 02, loss: -0.96008\n",
      "epoch: 03, loss: -0.96427\n",
      "epoch: 04, loss: -0.96717\n",
      "epoch: 05, loss: -0.96925\n",
      "epoch: 06, loss: -0.97092\n",
      "epoch: 07, loss: -0.97230\n",
      "epoch: 08, loss: -0.97345\n",
      "epoch: 09, loss: -0.97443\n",
      "torch.Size([1024, 64])\n"
     ]
    },
    {
     "name": "stderr",
     "output_type": "stream",
     "text": [
      " 45%|████▌     | 454/999 [9:07:26<10:28:10, 69.16s/it]"
     ]
    },
    {
     "name": "stdout",
     "output_type": "stream",
     "text": [
      "eigenvalues shape torch.Size([5]) eigenvectors shape torch.Size([5, 1024])\n",
      "454 /home/phdcs2/Hard_Disk/Datasets/Deep-Spectral-Segmentation/data/object-segmentation/ECSSD/features/0456_resized.pth\n",
      "dict_keys(['k', 'indices', 'file', 'id', 'model_name', 'patch_size', 'shape'])\n",
      "0456_resized\n",
      "Starting Training\n",
      "epoch: 00, loss: -0.86270\n",
      "epoch: 01, loss: -0.91935\n",
      "epoch: 02, loss: -0.93398\n",
      "epoch: 03, loss: -0.94223\n",
      "epoch: 04, loss: -0.94759\n",
      "epoch: 05, loss: -0.95154\n",
      "epoch: 06, loss: -0.95478\n",
      "epoch: 07, loss: -0.95712\n",
      "epoch: 08, loss: -0.95926\n",
      "epoch: 09, loss: -0.96101\n",
      "torch.Size([1024, 64])\n"
     ]
    },
    {
     "name": "stderr",
     "output_type": "stream",
     "text": [
      " 46%|████▌     | 455/999 [9:08:40<10:39:19, 70.51s/it]"
     ]
    },
    {
     "name": "stdout",
     "output_type": "stream",
     "text": [
      "eigenvalues shape torch.Size([5]) eigenvectors shape torch.Size([5, 1024])\n",
      "455 /home/phdcs2/Hard_Disk/Datasets/Deep-Spectral-Segmentation/data/object-segmentation/ECSSD/features/0457_resized.pth\n",
      "dict_keys(['k', 'indices', 'file', 'id', 'model_name', 'patch_size', 'shape'])\n",
      "0457_resized\n",
      "Starting Training\n",
      "epoch: 00, loss: -0.85355\n",
      "epoch: 01, loss: -0.91522\n",
      "epoch: 02, loss: -0.92980\n",
      "epoch: 03, loss: -0.93800\n",
      "epoch: 04, loss: -0.94355\n",
      "epoch: 05, loss: -0.94753\n",
      "epoch: 06, loss: -0.95062\n",
      "epoch: 07, loss: -0.95308\n",
      "epoch: 08, loss: -0.95513\n",
      "epoch: 09, loss: -0.95690\n",
      "torch.Size([1024, 64])\n"
     ]
    },
    {
     "name": "stderr",
     "output_type": "stream",
     "text": [
      " 46%|████▌     | 456/999 [9:09:51<10:38:55, 70.60s/it]"
     ]
    },
    {
     "name": "stdout",
     "output_type": "stream",
     "text": [
      "eigenvalues shape torch.Size([5]) eigenvectors shape torch.Size([5, 1024])\n",
      "456 /home/phdcs2/Hard_Disk/Datasets/Deep-Spectral-Segmentation/data/object-segmentation/ECSSD/features/0458_resized.pth\n",
      "dict_keys(['k', 'indices', 'file', 'id', 'model_name', 'patch_size', 'shape'])\n",
      "0458_resized\n",
      "Starting Training\n",
      "epoch: 00, loss: -0.85703\n",
      "epoch: 01, loss: -0.91632\n",
      "epoch: 02, loss: -0.93173\n",
      "epoch: 03, loss: -0.94023\n",
      "epoch: 04, loss: -0.94572\n",
      "epoch: 05, loss: -0.94990\n",
      "epoch: 06, loss: -0.95317\n",
      "epoch: 07, loss: -0.95578\n",
      "epoch: 08, loss: -0.95783\n",
      "epoch: 09, loss: -0.95971\n",
      "torch.Size([1024, 64])\n"
     ]
    },
    {
     "name": "stderr",
     "output_type": "stream",
     "text": [
      " 46%|████▌     | 457/999 [9:11:04<10:44:00, 71.29s/it]"
     ]
    },
    {
     "name": "stdout",
     "output_type": "stream",
     "text": [
      "eigenvalues shape torch.Size([5]) eigenvectors shape torch.Size([5, 1024])\n",
      "457 /home/phdcs2/Hard_Disk/Datasets/Deep-Spectral-Segmentation/data/object-segmentation/ECSSD/features/0459_resized.pth\n",
      "dict_keys(['k', 'indices', 'file', 'id', 'model_name', 'patch_size', 'shape'])\n",
      "0459_resized\n",
      "Starting Training\n",
      "epoch: 00, loss: -0.89380\n",
      "epoch: 01, loss: -0.93783\n",
      "epoch: 02, loss: -0.94840\n",
      "epoch: 03, loss: -0.95432\n",
      "epoch: 04, loss: -0.95830\n",
      "epoch: 05, loss: -0.96125\n",
      "epoch: 06, loss: -0.96359\n",
      "epoch: 07, loss: -0.96542\n",
      "epoch: 08, loss: -0.96698\n",
      "epoch: 09, loss: -0.96830\n",
      "torch.Size([1024, 64])\n"
     ]
    },
    {
     "name": "stderr",
     "output_type": "stream",
     "text": [
      " 46%|████▌     | 458/999 [9:12:08<10:24:43, 69.29s/it]"
     ]
    },
    {
     "name": "stdout",
     "output_type": "stream",
     "text": [
      "eigenvalues shape torch.Size([5]) eigenvectors shape torch.Size([5, 1024])\n",
      "458 /home/phdcs2/Hard_Disk/Datasets/Deep-Spectral-Segmentation/data/object-segmentation/ECSSD/features/0460_resized.pth\n",
      "dict_keys(['k', 'indices', 'file', 'id', 'model_name', 'patch_size', 'shape'])\n",
      "0460_resized\n"
     ]
    },
    {
     "name": "stderr",
     "output_type": "stream",
     "text": [
      "/home/phdcs2/Hard_Disk/Projects/T2I/deep-spectral-segmentation/venv/lib/python3.8/site-packages/sklearn/decomposition/_pca.py:642: RuntimeWarning: invalid value encountered in divide\n",
      "  self.explained_variance_ratio_ = self.explained_variance_ / total_var\n"
     ]
    },
    {
     "name": "stdout",
     "output_type": "stream",
     "text": [
      "Starting Training\n",
      "epoch: 00, loss: -0.93541\n",
      "epoch: 01, loss: -0.96106\n",
      "epoch: 02, loss: -0.96676\n",
      "epoch: 03, loss: -0.97015\n",
      "epoch: 04, loss: -0.97250\n",
      "epoch: 05, loss: -0.97428\n",
      "epoch: 06, loss: -0.97567\n",
      "epoch: 07, loss: -0.97681\n",
      "epoch: 08, loss: -0.97778\n",
      "epoch: 09, loss: -0.97859\n",
      "torch.Size([1024, 64])\n"
     ]
    },
    {
     "name": "stderr",
     "output_type": "stream",
     "text": [
      " 46%|████▌     | 459/999 [9:13:20<10:30:51, 70.09s/it]"
     ]
    },
    {
     "name": "stdout",
     "output_type": "stream",
     "text": [
      "eigenvalues shape torch.Size([5]) eigenvectors shape torch.Size([5, 1024])\n",
      "459 /home/phdcs2/Hard_Disk/Datasets/Deep-Spectral-Segmentation/data/object-segmentation/ECSSD/features/0461_resized.pth\n",
      "dict_keys(['k', 'indices', 'file', 'id', 'model_name', 'patch_size', 'shape'])\n",
      "0461_resized\n",
      "Starting Training\n",
      "epoch: 00, loss: -0.93655\n",
      "epoch: 01, loss: -0.96187\n",
      "epoch: 02, loss: -0.96762\n",
      "epoch: 03, loss: -0.97092\n",
      "epoch: 04, loss: -0.97313\n",
      "epoch: 05, loss: -0.97479\n",
      "epoch: 06, loss: -0.97612\n",
      "epoch: 07, loss: -0.97717\n",
      "epoch: 08, loss: -0.97807\n",
      "epoch: 09, loss: -0.97882\n",
      "torch.Size([1024, 64])\n"
     ]
    },
    {
     "name": "stderr",
     "output_type": "stream",
     "text": [
      " 46%|████▌     | 460/999 [9:14:31<10:30:50, 70.22s/it]"
     ]
    },
    {
     "name": "stdout",
     "output_type": "stream",
     "text": [
      "eigenvalues shape torch.Size([5]) eigenvectors shape torch.Size([5, 1024])\n",
      "460 /home/phdcs2/Hard_Disk/Datasets/Deep-Spectral-Segmentation/data/object-segmentation/ECSSD/features/0462_resized.pth\n",
      "dict_keys(['k', 'indices', 'file', 'id', 'model_name', 'patch_size', 'shape'])\n",
      "0462_resized\n",
      "Starting Training\n",
      "epoch: 00, loss: -0.87807\n",
      "epoch: 01, loss: -0.92772\n",
      "epoch: 02, loss: -0.93999\n",
      "epoch: 03, loss: -0.94686\n",
      "epoch: 04, loss: -0.95148\n",
      "epoch: 05, loss: -0.95484\n",
      "epoch: 06, loss: -0.95761\n",
      "epoch: 07, loss: -0.95978\n",
      "epoch: 08, loss: -0.96159\n",
      "epoch: 09, loss: -0.96304\n",
      "torch.Size([1024, 64])\n"
     ]
    },
    {
     "name": "stderr",
     "output_type": "stream",
     "text": [
      " 46%|████▌     | 461/999 [9:15:38<10:20:46, 69.23s/it]"
     ]
    },
    {
     "name": "stdout",
     "output_type": "stream",
     "text": [
      "eigenvalues shape torch.Size([5]) eigenvectors shape torch.Size([5, 1024])\n",
      "461 /home/phdcs2/Hard_Disk/Datasets/Deep-Spectral-Segmentation/data/object-segmentation/ECSSD/features/0463_resized.pth\n",
      "dict_keys(['k', 'indices', 'file', 'id', 'model_name', 'patch_size', 'shape'])\n",
      "0463_resized\n"
     ]
    },
    {
     "name": "stderr",
     "output_type": "stream",
     "text": [
      "/home/phdcs2/Hard_Disk/Projects/T2I/deep-spectral-segmentation/venv/lib/python3.8/site-packages/sklearn/decomposition/_pca.py:642: RuntimeWarning: invalid value encountered in divide\n",
      "  self.explained_variance_ratio_ = self.explained_variance_ / total_var\n"
     ]
    },
    {
     "name": "stdout",
     "output_type": "stream",
     "text": [
      "Starting Training\n",
      "epoch: 00, loss: -0.92365\n",
      "epoch: 01, loss: -0.95658\n",
      "epoch: 02, loss: -0.96279\n",
      "epoch: 03, loss: -0.96646\n",
      "epoch: 04, loss: -0.96899\n",
      "epoch: 05, loss: -0.97087\n",
      "epoch: 06, loss: -0.97237\n",
      "epoch: 07, loss: -0.97358\n",
      "epoch: 08, loss: -0.97464\n",
      "epoch: 09, loss: -0.97551\n",
      "torch.Size([1024, 64])\n"
     ]
    },
    {
     "name": "stderr",
     "output_type": "stream",
     "text": [
      " 46%|████▌     | 462/999 [9:16:44<10:12:49, 68.47s/it]"
     ]
    },
    {
     "name": "stdout",
     "output_type": "stream",
     "text": [
      "eigenvalues shape torch.Size([5]) eigenvectors shape torch.Size([5, 1024])\n",
      "462 /home/phdcs2/Hard_Disk/Datasets/Deep-Spectral-Segmentation/data/object-segmentation/ECSSD/features/0464_resized.pth\n",
      "dict_keys(['k', 'indices', 'file', 'id', 'model_name', 'patch_size', 'shape'])\n",
      "0464_resized\n"
     ]
    },
    {
     "name": "stderr",
     "output_type": "stream",
     "text": [
      "/home/phdcs2/Hard_Disk/Projects/T2I/deep-spectral-segmentation/venv/lib/python3.8/site-packages/sklearn/decomposition/_pca.py:642: RuntimeWarning: invalid value encountered in divide\n",
      "  self.explained_variance_ratio_ = self.explained_variance_ / total_var\n"
     ]
    },
    {
     "name": "stdout",
     "output_type": "stream",
     "text": [
      "Starting Training\n",
      "epoch: 00, loss: -0.91516\n",
      "epoch: 01, loss: -0.95044\n",
      "epoch: 02, loss: -0.95832\n",
      "epoch: 03, loss: -0.96273\n",
      "epoch: 04, loss: -0.96576\n",
      "epoch: 05, loss: -0.96800\n",
      "epoch: 06, loss: -0.96976\n",
      "epoch: 07, loss: -0.97117\n",
      "epoch: 08, loss: -0.97238\n",
      "epoch: 09, loss: -0.97340\n",
      "torch.Size([1024, 64])\n"
     ]
    },
    {
     "name": "stderr",
     "output_type": "stream",
     "text": [
      " 46%|████▋     | 463/999 [9:17:56<10:18:57, 69.29s/it]"
     ]
    },
    {
     "name": "stdout",
     "output_type": "stream",
     "text": [
      "eigenvalues shape torch.Size([5]) eigenvectors shape torch.Size([5, 1024])\n",
      "463 /home/phdcs2/Hard_Disk/Datasets/Deep-Spectral-Segmentation/data/object-segmentation/ECSSD/features/0465_resized.pth\n",
      "dict_keys(['k', 'indices', 'file', 'id', 'model_name', 'patch_size', 'shape'])\n",
      "0465_resized\n",
      "Starting Training\n",
      "epoch: 00, loss: -0.87415\n",
      "epoch: 01, loss: -0.92343\n",
      "epoch: 02, loss: -0.93681\n",
      "epoch: 03, loss: -0.94462\n",
      "epoch: 04, loss: -0.94979\n",
      "epoch: 05, loss: -0.95351\n",
      "epoch: 06, loss: -0.95660\n",
      "epoch: 07, loss: -0.95895\n",
      "epoch: 08, loss: -0.96099\n",
      "epoch: 09, loss: -0.96264\n",
      "torch.Size([1024, 64])\n"
     ]
    },
    {
     "name": "stderr",
     "output_type": "stream",
     "text": [
      " 46%|████▋     | 464/999 [9:19:11<10:35:18, 71.25s/it]"
     ]
    },
    {
     "name": "stdout",
     "output_type": "stream",
     "text": [
      "eigenvalues shape torch.Size([5]) eigenvectors shape torch.Size([5, 1024])\n",
      "464 /home/phdcs2/Hard_Disk/Datasets/Deep-Spectral-Segmentation/data/object-segmentation/ECSSD/features/0466_resized.pth\n",
      "dict_keys(['k', 'indices', 'file', 'id', 'model_name', 'patch_size', 'shape'])\n",
      "0466_resized\n"
     ]
    },
    {
     "name": "stderr",
     "output_type": "stream",
     "text": [
      "/home/phdcs2/Hard_Disk/Projects/T2I/deep-spectral-segmentation/venv/lib/python3.8/site-packages/sklearn/decomposition/_pca.py:642: RuntimeWarning: invalid value encountered in divide\n",
      "  self.explained_variance_ratio_ = self.explained_variance_ / total_var\n"
     ]
    },
    {
     "name": "stdout",
     "output_type": "stream",
     "text": [
      "Starting Training\n",
      "epoch: 00, loss: -0.92443\n",
      "epoch: 01, loss: -0.95467\n",
      "epoch: 02, loss: -0.96205\n",
      "epoch: 03, loss: -0.96634\n",
      "epoch: 04, loss: -0.96924\n",
      "epoch: 05, loss: -0.97140\n",
      "epoch: 06, loss: -0.97309\n",
      "epoch: 07, loss: -0.97445\n",
      "epoch: 08, loss: -0.97558\n",
      "epoch: 09, loss: -0.97656\n",
      "torch.Size([1024, 64])\n"
     ]
    },
    {
     "name": "stderr",
     "output_type": "stream",
     "text": [
      " 47%|████▋     | 465/999 [9:20:19<10:23:45, 70.08s/it]"
     ]
    },
    {
     "name": "stdout",
     "output_type": "stream",
     "text": [
      "eigenvalues shape torch.Size([5]) eigenvectors shape torch.Size([5, 1024])\n",
      "465 /home/phdcs2/Hard_Disk/Datasets/Deep-Spectral-Segmentation/data/object-segmentation/ECSSD/features/0467_resized.pth\n",
      "dict_keys(['k', 'indices', 'file', 'id', 'model_name', 'patch_size', 'shape'])\n",
      "0467_resized\n",
      "Starting Training\n",
      "epoch: 00, loss: -0.92086\n",
      "epoch: 01, loss: -0.95454\n",
      "epoch: 02, loss: -0.96161\n",
      "epoch: 03, loss: -0.96567\n",
      "epoch: 04, loss: -0.96845\n",
      "epoch: 05, loss: -0.97053\n",
      "epoch: 06, loss: -0.97216\n",
      "epoch: 07, loss: -0.97348\n",
      "epoch: 08, loss: -0.97459\n",
      "epoch: 09, loss: -0.97553\n",
      "torch.Size([1024, 64])\n"
     ]
    },
    {
     "name": "stderr",
     "output_type": "stream",
     "text": [
      " 47%|████▋     | 466/999 [9:21:27<10:16:29, 69.40s/it]"
     ]
    },
    {
     "name": "stdout",
     "output_type": "stream",
     "text": [
      "eigenvalues shape torch.Size([5]) eigenvectors shape torch.Size([5, 1024])\n",
      "466 /home/phdcs2/Hard_Disk/Datasets/Deep-Spectral-Segmentation/data/object-segmentation/ECSSD/features/0468_resized.pth\n",
      "dict_keys(['k', 'indices', 'file', 'id', 'model_name', 'patch_size', 'shape'])\n",
      "0468_resized\n"
     ]
    },
    {
     "name": "stderr",
     "output_type": "stream",
     "text": [
      "/home/phdcs2/Hard_Disk/Projects/T2I/deep-spectral-segmentation/venv/lib/python3.8/site-packages/sklearn/decomposition/_pca.py:642: RuntimeWarning: invalid value encountered in divide\n",
      "  self.explained_variance_ratio_ = self.explained_variance_ / total_var\n"
     ]
    },
    {
     "name": "stdout",
     "output_type": "stream",
     "text": [
      "Starting Training\n",
      "epoch: 00, loss: -0.91455\n",
      "epoch: 01, loss: -0.94866\n",
      "epoch: 02, loss: -0.95687\n",
      "epoch: 03, loss: -0.96171\n",
      "epoch: 04, loss: -0.96489\n",
      "epoch: 05, loss: -0.96730\n",
      "epoch: 06, loss: -0.96918\n",
      "epoch: 07, loss: -0.97073\n",
      "epoch: 08, loss: -0.97199\n",
      "epoch: 09, loss: -0.97308\n",
      "torch.Size([1024, 64])\n"
     ]
    },
    {
     "name": "stderr",
     "output_type": "stream",
     "text": [
      " 47%|████▋     | 467/999 [9:22:32<10:04:58, 68.23s/it]"
     ]
    },
    {
     "name": "stdout",
     "output_type": "stream",
     "text": [
      "eigenvalues shape torch.Size([5]) eigenvectors shape torch.Size([5, 1024])\n",
      "467 /home/phdcs2/Hard_Disk/Datasets/Deep-Spectral-Segmentation/data/object-segmentation/ECSSD/features/0469_resized.pth\n",
      "dict_keys(['k', 'indices', 'file', 'id', 'model_name', 'patch_size', 'shape'])\n",
      "0469_resized\n"
     ]
    },
    {
     "name": "stderr",
     "output_type": "stream",
     "text": [
      "/home/phdcs2/Hard_Disk/Projects/T2I/deep-spectral-segmentation/venv/lib/python3.8/site-packages/sklearn/decomposition/_pca.py:642: RuntimeWarning: invalid value encountered in divide\n",
      "  self.explained_variance_ratio_ = self.explained_variance_ / total_var\n"
     ]
    },
    {
     "name": "stdout",
     "output_type": "stream",
     "text": [
      "Starting Training\n",
      "epoch: 00, loss: -0.93737\n",
      "epoch: 01, loss: -0.96338\n",
      "epoch: 02, loss: -0.96893\n",
      "epoch: 03, loss: -0.97216\n",
      "epoch: 04, loss: -0.97439\n",
      "epoch: 05, loss: -0.97604\n",
      "epoch: 06, loss: -0.97734\n",
      "epoch: 07, loss: -0.97842\n",
      "epoch: 08, loss: -0.97930\n",
      "epoch: 09, loss: -0.98008\n",
      "torch.Size([1024, 64])\n"
     ]
    },
    {
     "name": "stderr",
     "output_type": "stream",
     "text": [
      " 47%|████▋     | 468/999 [9:23:38<9:58:34, 67.64s/it] "
     ]
    },
    {
     "name": "stdout",
     "output_type": "stream",
     "text": [
      "eigenvalues shape torch.Size([5]) eigenvectors shape torch.Size([5, 1024])\n",
      "468 /home/phdcs2/Hard_Disk/Datasets/Deep-Spectral-Segmentation/data/object-segmentation/ECSSD/features/0470_resized.pth\n",
      "dict_keys(['k', 'indices', 'file', 'id', 'model_name', 'patch_size', 'shape'])\n",
      "0470_resized\n",
      "Starting Training\n",
      "epoch: 00, loss: -0.86009\n",
      "epoch: 01, loss: -0.91998\n",
      "epoch: 02, loss: -0.93416\n",
      "epoch: 03, loss: -0.94190\n",
      "epoch: 04, loss: -0.94708\n",
      "epoch: 05, loss: -0.95101\n",
      "epoch: 06, loss: -0.95395\n",
      "epoch: 07, loss: -0.95635\n",
      "epoch: 08, loss: -0.95840\n",
      "epoch: 09, loss: -0.96008\n",
      "torch.Size([1024, 64])\n"
     ]
    },
    {
     "name": "stderr",
     "output_type": "stream",
     "text": [
      " 47%|████▋     | 469/999 [9:24:47<10:00:25, 67.97s/it]"
     ]
    },
    {
     "name": "stdout",
     "output_type": "stream",
     "text": [
      "eigenvalues shape torch.Size([5]) eigenvectors shape torch.Size([5, 1024])\n",
      "469 /home/phdcs2/Hard_Disk/Datasets/Deep-Spectral-Segmentation/data/object-segmentation/ECSSD/features/0471_resized.pth\n",
      "dict_keys(['k', 'indices', 'file', 'id', 'model_name', 'patch_size', 'shape'])\n",
      "0471_resized\n"
     ]
    },
    {
     "name": "stderr",
     "output_type": "stream",
     "text": [
      "/home/phdcs2/Hard_Disk/Projects/T2I/deep-spectral-segmentation/venv/lib/python3.8/site-packages/sklearn/decomposition/_pca.py:642: RuntimeWarning: invalid value encountered in divide\n",
      "  self.explained_variance_ratio_ = self.explained_variance_ / total_var\n"
     ]
    },
    {
     "name": "stdout",
     "output_type": "stream",
     "text": [
      "Starting Training\n",
      "epoch: 00, loss: -0.90891\n",
      "epoch: 01, loss: -0.94313\n",
      "epoch: 02, loss: -0.95229\n",
      "epoch: 03, loss: -0.95766\n",
      "epoch: 04, loss: -0.96132\n",
      "epoch: 05, loss: -0.96404\n",
      "epoch: 06, loss: -0.96620\n",
      "epoch: 07, loss: -0.96793\n",
      "epoch: 08, loss: -0.96941\n",
      "epoch: 09, loss: -0.97063\n",
      "torch.Size([1024, 64])\n"
     ]
    },
    {
     "name": "stderr",
     "output_type": "stream",
     "text": [
      " 47%|████▋     | 470/999 [9:25:48<9:39:48, 65.76s/it] "
     ]
    },
    {
     "name": "stdout",
     "output_type": "stream",
     "text": [
      "eigenvalues shape torch.Size([5]) eigenvectors shape torch.Size([5, 1024])\n",
      "470 /home/phdcs2/Hard_Disk/Datasets/Deep-Spectral-Segmentation/data/object-segmentation/ECSSD/features/0472_resized.pth\n",
      "dict_keys(['k', 'indices', 'file', 'id', 'model_name', 'patch_size', 'shape'])\n",
      "0472_resized\n",
      "Starting Training\n",
      "epoch: 00, loss: -0.87630\n",
      "epoch: 01, loss: -0.92541\n",
      "epoch: 02, loss: -0.93795\n",
      "epoch: 03, loss: -0.94503\n",
      "epoch: 04, loss: -0.94992\n",
      "epoch: 05, loss: -0.95332\n",
      "epoch: 06, loss: -0.95612\n",
      "epoch: 07, loss: -0.95831\n",
      "epoch: 08, loss: -0.96019\n",
      "epoch: 09, loss: -0.96172\n",
      "torch.Size([1024, 64])\n"
     ]
    },
    {
     "name": "stderr",
     "output_type": "stream",
     "text": [
      " 47%|████▋     | 471/999 [9:26:45<9:16:46, 63.27s/it]"
     ]
    },
    {
     "name": "stdout",
     "output_type": "stream",
     "text": [
      "eigenvalues shape torch.Size([5]) eigenvectors shape torch.Size([5, 1024])\n",
      "471 /home/phdcs2/Hard_Disk/Datasets/Deep-Spectral-Segmentation/data/object-segmentation/ECSSD/features/0473_resized.pth\n",
      "dict_keys(['k', 'indices', 'file', 'id', 'model_name', 'patch_size', 'shape'])\n",
      "0473_resized\n",
      "Starting Training\n",
      "epoch: 00, loss: -0.87596\n",
      "epoch: 01, loss: -0.92711\n",
      "epoch: 02, loss: -0.93979\n",
      "epoch: 03, loss: -0.94712\n",
      "epoch: 04, loss: -0.95218\n",
      "epoch: 05, loss: -0.95580\n",
      "epoch: 06, loss: -0.95861\n",
      "epoch: 07, loss: -0.96087\n",
      "epoch: 08, loss: -0.96279\n",
      "epoch: 09, loss: -0.96434\n",
      "torch.Size([1024, 64])\n"
     ]
    },
    {
     "name": "stderr",
     "output_type": "stream",
     "text": [
      " 47%|████▋     | 472/999 [9:27:42<8:58:37, 61.32s/it]"
     ]
    },
    {
     "name": "stdout",
     "output_type": "stream",
     "text": [
      "eigenvalues shape torch.Size([5]) eigenvectors shape torch.Size([5, 1024])\n",
      "472 /home/phdcs2/Hard_Disk/Datasets/Deep-Spectral-Segmentation/data/object-segmentation/ECSSD/features/0474_resized.pth\n",
      "dict_keys(['k', 'indices', 'file', 'id', 'model_name', 'patch_size', 'shape'])\n",
      "0474_resized\n"
     ]
    },
    {
     "name": "stderr",
     "output_type": "stream",
     "text": [
      "/home/phdcs2/Hard_Disk/Projects/T2I/deep-spectral-segmentation/venv/lib/python3.8/site-packages/sklearn/decomposition/_pca.py:642: RuntimeWarning: invalid value encountered in divide\n",
      "  self.explained_variance_ratio_ = self.explained_variance_ / total_var\n"
     ]
    },
    {
     "name": "stdout",
     "output_type": "stream",
     "text": [
      "Starting Training\n",
      "epoch: 00, loss: -0.94220\n",
      "epoch: 01, loss: -0.96499\n",
      "epoch: 02, loss: -0.97026\n",
      "epoch: 03, loss: -0.97331\n",
      "epoch: 04, loss: -0.97538\n",
      "epoch: 05, loss: -0.97694\n",
      "epoch: 06, loss: -0.97815\n",
      "epoch: 07, loss: -0.97916\n",
      "epoch: 08, loss: -0.98000\n",
      "epoch: 09, loss: -0.98072\n",
      "torch.Size([1024, 64])\n"
     ]
    },
    {
     "name": "stderr",
     "output_type": "stream",
     "text": [
      " 47%|████▋     | 473/999 [9:28:51<9:17:51, 63.63s/it]"
     ]
    },
    {
     "name": "stdout",
     "output_type": "stream",
     "text": [
      "eigenvalues shape torch.Size([5]) eigenvectors shape torch.Size([5, 1024])\n",
      "473 /home/phdcs2/Hard_Disk/Datasets/Deep-Spectral-Segmentation/data/object-segmentation/ECSSD/features/0475_resized.pth\n",
      "dict_keys(['k', 'indices', 'file', 'id', 'model_name', 'patch_size', 'shape'])\n",
      "0475_resized\n"
     ]
    },
    {
     "name": "stderr",
     "output_type": "stream",
     "text": [
      "/home/phdcs2/Hard_Disk/Projects/T2I/deep-spectral-segmentation/venv/lib/python3.8/site-packages/sklearn/decomposition/_pca.py:642: RuntimeWarning: invalid value encountered in divide\n",
      "  self.explained_variance_ratio_ = self.explained_variance_ / total_var\n"
     ]
    },
    {
     "name": "stdout",
     "output_type": "stream",
     "text": [
      "Starting Training\n",
      "epoch: 00, loss: -0.92284\n",
      "epoch: 01, loss: -0.95294\n",
      "epoch: 02, loss: -0.95995\n",
      "epoch: 03, loss: -0.96398\n",
      "epoch: 04, loss: -0.96680\n",
      "epoch: 05, loss: -0.96889\n",
      "epoch: 06, loss: -0.97057\n",
      "epoch: 07, loss: -0.97191\n",
      "epoch: 08, loss: -0.97308\n",
      "epoch: 09, loss: -0.97406\n",
      "torch.Size([1024, 64])\n"
     ]
    },
    {
     "name": "stderr",
     "output_type": "stream",
     "text": [
      " 47%|████▋     | 474/999 [9:30:07<9:50:34, 67.49s/it]"
     ]
    },
    {
     "name": "stdout",
     "output_type": "stream",
     "text": [
      "eigenvalues shape torch.Size([5]) eigenvectors shape torch.Size([5, 1024])\n",
      "474 /home/phdcs2/Hard_Disk/Datasets/Deep-Spectral-Segmentation/data/object-segmentation/ECSSD/features/0476_resized.pth\n",
      "dict_keys(['k', 'indices', 'file', 'id', 'model_name', 'patch_size', 'shape'])\n",
      "0476_resized\n"
     ]
    },
    {
     "name": "stderr",
     "output_type": "stream",
     "text": [
      "/home/phdcs2/Hard_Disk/Projects/T2I/deep-spectral-segmentation/venv/lib/python3.8/site-packages/sklearn/decomposition/_pca.py:642: RuntimeWarning: invalid value encountered in divide\n",
      "  self.explained_variance_ratio_ = self.explained_variance_ / total_var\n"
     ]
    },
    {
     "name": "stdout",
     "output_type": "stream",
     "text": [
      "Starting Training\n",
      "epoch: 00, loss: -0.90954\n",
      "epoch: 01, loss: -0.94628\n",
      "epoch: 02, loss: -0.95403\n",
      "epoch: 03, loss: -0.95854\n",
      "epoch: 04, loss: -0.96172\n",
      "epoch: 05, loss: -0.96408\n",
      "epoch: 06, loss: -0.96593\n",
      "epoch: 07, loss: -0.96746\n",
      "epoch: 08, loss: -0.96874\n",
      "epoch: 09, loss: -0.96985\n",
      "torch.Size([1024, 64])\n"
     ]
    },
    {
     "name": "stderr",
     "output_type": "stream",
     "text": [
      " 48%|████▊     | 475/999 [9:31:22<10:07:32, 69.57s/it]"
     ]
    },
    {
     "name": "stdout",
     "output_type": "stream",
     "text": [
      "eigenvalues shape torch.Size([5]) eigenvectors shape torch.Size([5, 1024])\n",
      "475 /home/phdcs2/Hard_Disk/Datasets/Deep-Spectral-Segmentation/data/object-segmentation/ECSSD/features/0477_resized.pth\n",
      "dict_keys(['k', 'indices', 'file', 'id', 'model_name', 'patch_size', 'shape'])\n",
      "0477_resized\n",
      "Starting Training\n",
      "epoch: 00, loss: -0.85744\n",
      "epoch: 01, loss: -0.91497\n",
      "epoch: 02, loss: -0.93007\n",
      "epoch: 03, loss: -0.93873\n",
      "epoch: 04, loss: -0.94463\n",
      "epoch: 05, loss: -0.94878\n",
      "epoch: 06, loss: -0.95193\n",
      "epoch: 07, loss: -0.95442\n",
      "epoch: 08, loss: -0.95652\n",
      "epoch: 09, loss: -0.95835\n",
      "torch.Size([1024, 64])\n"
     ]
    },
    {
     "name": "stderr",
     "output_type": "stream",
     "text": [
      " 27%|██▋       | 274/999 [5:38:06<17:27:00, 86.65s/it]"
     ]
    },
    {
     "name": "stdout",
     "output_type": "stream",
     "text": [
      "eigenvalues shape torch.Size([5]) eigenvectors shape torch.Size([5, 1024])\n",
      "274 /home/phdcs2/Hard_Disk/Datasets/Deep-Spectral-Segmentation/data/object-segmentation/ECSSD/features/0276_resized.pth\n",
      "dict_keys(['k', 'indices', 'file', 'id', 'model_name', 'patch_size', 'shape'])\n",
      "0276_resized\n",
      "Starting Training\n",
      "epoch: 00, loss: -0.86030\n",
      "epoch: 01, loss: -0.91508\n",
      "epoch: 02, loss: -0.92878\n",
      "epoch: 03, loss: -0.93645\n",
      "epoch: 04, loss: -0.94163\n",
      "epoch: 05, loss: -0.94570\n",
      "epoch: 06, loss: -0.94905\n",
      "epoch: 07, loss: -0.95156\n",
      "epoch: 08, loss: -0.95353\n",
      "epoch: 09, loss: -0.95525\n",
      "torch.Size([1024, 64])\n"
     ]
    },
    {
     "name": "stderr",
     "output_type": "stream",
     "text": [
      " 28%|██▊       | 275/999 [5:39:35<17:32:37, 87.23s/it]"
     ]
    },
    {
     "name": "stdout",
     "output_type": "stream",
     "text": [
      "eigenvalues shape torch.Size([5]) eigenvectors shape torch.Size([5, 1024])\n",
      "275 /home/phdcs2/Hard_Disk/Datasets/Deep-Spectral-Segmentation/data/object-segmentation/ECSSD/features/0277_resized.pth\n",
      "dict_keys(['k', 'indices', 'file', 'id', 'model_name', 'patch_size', 'shape'])\n",
      "0277_resized\n"
     ]
    },
    {
     "name": "stderr",
     "output_type": "stream",
     "text": [
      "/home/phdcs2/Hard_Disk/Projects/T2I/deep-spectral-segmentation/venv/lib/python3.8/site-packages/sklearn/decomposition/_pca.py:642: RuntimeWarning: invalid value encountered in divide\n",
      "  self.explained_variance_ratio_ = self.explained_variance_ / total_var\n"
     ]
    },
    {
     "name": "stdout",
     "output_type": "stream",
     "text": [
      "Starting Training\n",
      "epoch: 00, loss: -0.92915\n",
      "epoch: 01, loss: -0.95777\n",
      "epoch: 02, loss: -0.96476\n",
      "epoch: 03, loss: -0.96876\n",
      "epoch: 04, loss: -0.97143\n",
      "epoch: 05, loss: -0.97343\n",
      "epoch: 06, loss: -0.97498\n",
      "epoch: 07, loss: -0.97624\n",
      "epoch: 08, loss: -0.97729\n",
      "epoch: 09, loss: -0.97818\n",
      "torch.Size([1024, 64])\n"
     ]
    },
    {
     "name": "stderr",
     "output_type": "stream",
     "text": [
      " 28%|██▊       | 276/999 [5:41:10<17:59:14, 89.56s/it]"
     ]
    },
    {
     "name": "stdout",
     "output_type": "stream",
     "text": [
      "eigenvalues shape torch.Size([5]) eigenvectors shape torch.Size([5, 1024])\n",
      "276 /home/phdcs2/Hard_Disk/Datasets/Deep-Spectral-Segmentation/data/object-segmentation/ECSSD/features/0278_resized.pth\n",
      "dict_keys(['k', 'indices', 'file', 'id', 'model_name', 'patch_size', 'shape'])\n",
      "0278_resized\n"
     ]
    },
    {
     "name": "stderr",
     "output_type": "stream",
     "text": [
      "/home/phdcs2/Hard_Disk/Projects/T2I/deep-spectral-segmentation/venv/lib/python3.8/site-packages/sklearn/decomposition/_pca.py:642: RuntimeWarning: invalid value encountered in divide\n",
      "  self.explained_variance_ratio_ = self.explained_variance_ / total_var\n"
     ]
    },
    {
     "name": "stdout",
     "output_type": "stream",
     "text": [
      "Starting Training\n",
      "epoch: 00, loss: -0.93549\n",
      "epoch: 01, loss: -0.96189\n",
      "epoch: 02, loss: -0.96779\n",
      "epoch: 03, loss: -0.97122\n",
      "epoch: 04, loss: -0.97356\n",
      "epoch: 05, loss: -0.97528\n",
      "epoch: 06, loss: -0.97665\n",
      "epoch: 07, loss: -0.97775\n",
      "epoch: 08, loss: -0.97867\n",
      "epoch: 09, loss: -0.97946\n",
      "torch.Size([1024, 64])\n"
     ]
    },
    {
     "name": "stderr",
     "output_type": "stream",
     "text": [
      " 28%|██▊       | 277/999 [5:42:36<17:46:40, 88.64s/it]"
     ]
    },
    {
     "name": "stdout",
     "output_type": "stream",
     "text": [
      "eigenvalues shape torch.Size([5]) eigenvectors shape torch.Size([5, 1024])\n",
      "277 /home/phdcs2/Hard_Disk/Datasets/Deep-Spectral-Segmentation/data/object-segmentation/ECSSD/features/0279_resized.pth\n",
      "dict_keys(['k', 'indices', 'file', 'id', 'model_name', 'patch_size', 'shape'])\n",
      "0279_resized\n"
     ]
    },
    {
     "name": "stderr",
     "output_type": "stream",
     "text": [
      "/home/phdcs2/Hard_Disk/Projects/T2I/deep-spectral-segmentation/venv/lib/python3.8/site-packages/sklearn/decomposition/_pca.py:642: RuntimeWarning: invalid value encountered in divide\n",
      "  self.explained_variance_ratio_ = self.explained_variance_ / total_var\n"
     ]
    },
    {
     "name": "stdout",
     "output_type": "stream",
     "text": [
      "Starting Training\n",
      "epoch: 00, loss: -0.92851\n",
      "epoch: 01, loss: -0.95800\n",
      "epoch: 02, loss: -0.96444\n",
      "epoch: 03, loss: -0.96817\n",
      "epoch: 04, loss: -0.97076\n",
      "epoch: 05, loss: -0.97266\n",
      "epoch: 06, loss: -0.97418\n",
      "epoch: 07, loss: -0.97541\n",
      "epoch: 08, loss: -0.97644\n",
      "epoch: 09, loss: -0.97731\n",
      "torch.Size([1024, 64])\n"
     ]
    },
    {
     "name": "stderr",
     "output_type": "stream",
     "text": [
      " 28%|██▊       | 278/999 [5:44:08<17:55:52, 89.53s/it]"
     ]
    },
    {
     "name": "stdout",
     "output_type": "stream",
     "text": [
      "eigenvalues shape torch.Size([5]) eigenvectors shape torch.Size([5, 1024])\n",
      "278 /home/phdcs2/Hard_Disk/Datasets/Deep-Spectral-Segmentation/data/object-segmentation/ECSSD/features/0280_resized.pth\n",
      "dict_keys(['k', 'indices', 'file', 'id', 'model_name', 'patch_size', 'shape'])\n",
      "0280_resized\n"
     ]
    },
    {
     "name": "stderr",
     "output_type": "stream",
     "text": [
      "/home/phdcs2/Hard_Disk/Projects/T2I/deep-spectral-segmentation/venv/lib/python3.8/site-packages/sklearn/decomposition/_pca.py:642: RuntimeWarning: invalid value encountered in divide\n",
      "  self.explained_variance_ratio_ = self.explained_variance_ / total_var\n"
     ]
    },
    {
     "name": "stdout",
     "output_type": "stream",
     "text": [
      "Starting Training\n",
      "epoch: 00, loss: -0.92549\n",
      "epoch: 01, loss: -0.95226\n",
      "epoch: 02, loss: -0.95924\n",
      "epoch: 03, loss: -0.96332\n",
      "epoch: 04, loss: -0.96622\n",
      "epoch: 05, loss: -0.96839\n",
      "epoch: 06, loss: -0.97009\n",
      "epoch: 07, loss: -0.97149\n",
      "epoch: 08, loss: -0.97265\n",
      "epoch: 09, loss: -0.97365\n",
      "torch.Size([1024, 64])\n"
     ]
    },
    {
     "name": "stderr",
     "output_type": "stream",
     "text": [
      " 28%|██▊       | 279/999 [5:45:34<17:40:48, 88.40s/it]"
     ]
    },
    {
     "name": "stdout",
     "output_type": "stream",
     "text": [
      "eigenvalues shape torch.Size([5]) eigenvectors shape torch.Size([5, 1024])\n",
      "279 /home/phdcs2/Hard_Disk/Datasets/Deep-Spectral-Segmentation/data/object-segmentation/ECSSD/features/0281_resized.pth\n",
      "dict_keys(['k', 'indices', 'file', 'id', 'model_name', 'patch_size', 'shape'])\n",
      "0281_resized\n",
      "Starting Training\n",
      "epoch: 00, loss: -0.86855\n",
      "epoch: 01, loss: -0.92222\n",
      "epoch: 02, loss: -0.93578\n",
      "epoch: 03, loss: -0.94389\n",
      "epoch: 04, loss: -0.94914\n",
      "epoch: 05, loss: -0.95296\n",
      "epoch: 06, loss: -0.95604\n",
      "epoch: 07, loss: -0.95841\n",
      "epoch: 08, loss: -0.96035\n",
      "epoch: 09, loss: -0.96206\n",
      "torch.Size([1024, 64])\n"
     ]
    },
    {
     "name": "stderr",
     "output_type": "stream",
     "text": [
      " 28%|██▊       | 280/999 [5:46:58<17:25:29, 87.25s/it]"
     ]
    },
    {
     "name": "stdout",
     "output_type": "stream",
     "text": [
      "eigenvalues shape torch.Size([5]) eigenvectors shape torch.Size([5, 1024])\n",
      "280 /home/phdcs2/Hard_Disk/Datasets/Deep-Spectral-Segmentation/data/object-segmentation/ECSSD/features/0282_resized.pth\n",
      "dict_keys(['k', 'indices', 'file', 'id', 'model_name', 'patch_size', 'shape'])\n",
      "0282_resized\n",
      "Starting Training\n",
      "epoch: 00, loss: -0.88568\n",
      "epoch: 01, loss: -0.93509\n",
      "epoch: 02, loss: -0.94682\n",
      "epoch: 03, loss: -0.95339\n",
      "epoch: 04, loss: -0.95759\n",
      "epoch: 05, loss: -0.96068\n",
      "epoch: 06, loss: -0.96314\n",
      "epoch: 07, loss: -0.96510\n",
      "epoch: 08, loss: -0.96674\n",
      "epoch: 09, loss: -0.96814\n",
      "torch.Size([1024, 64])\n"
     ]
    },
    {
     "name": "stderr",
     "output_type": "stream",
     "text": [
      " 28%|██▊       | 281/999 [5:48:25<17:21:16, 87.01s/it]"
     ]
    },
    {
     "name": "stdout",
     "output_type": "stream",
     "text": [
      "eigenvalues shape torch.Size([5]) eigenvectors shape torch.Size([5, 1024])\n",
      "281 /home/phdcs2/Hard_Disk/Datasets/Deep-Spectral-Segmentation/data/object-segmentation/ECSSD/features/0283_resized.pth\n",
      "dict_keys(['k', 'indices', 'file', 'id', 'model_name', 'patch_size', 'shape'])\n",
      "0283_resized\n",
      "Starting Training\n",
      "epoch: 00, loss: -0.87307\n",
      "epoch: 01, loss: -0.92399\n",
      "epoch: 02, loss: -0.93665\n",
      "epoch: 03, loss: -0.94366\n",
      "epoch: 04, loss: -0.94837\n",
      "epoch: 05, loss: -0.95183\n",
      "epoch: 06, loss: -0.95459\n",
      "epoch: 07, loss: -0.95685\n",
      "epoch: 08, loss: -0.95862\n",
      "epoch: 09, loss: -0.96022\n",
      "torch.Size([1024, 64])\n"
     ]
    },
    {
     "name": "stderr",
     "output_type": "stream",
     "text": [
      " 28%|██▊       | 282/999 [5:49:41<16:41:45, 83.83s/it]"
     ]
    },
    {
     "name": "stdout",
     "output_type": "stream",
     "text": [
      "eigenvalues shape torch.Size([5]) eigenvectors shape torch.Size([5, 1024])\n",
      "282 /home/phdcs2/Hard_Disk/Datasets/Deep-Spectral-Segmentation/data/object-segmentation/ECSSD/features/0284_resized.pth\n",
      "dict_keys(['k', 'indices', 'file', 'id', 'model_name', 'patch_size', 'shape'])\n",
      "0284_resized\n",
      "Starting Training\n",
      "epoch: 00, loss: -0.93355\n",
      "epoch: 01, loss: -0.96191\n",
      "epoch: 02, loss: -0.96810\n",
      "epoch: 03, loss: -0.97162\n",
      "epoch: 04, loss: -0.97405\n",
      "epoch: 05, loss: -0.97586\n",
      "epoch: 06, loss: -0.97726\n",
      "epoch: 07, loss: -0.97842\n",
      "epoch: 08, loss: -0.97939\n",
      "epoch: 09, loss: -0.98020\n",
      "torch.Size([1024, 64])\n"
     ]
    },
    {
     "name": "stderr",
     "output_type": "stream",
     "text": [
      " 28%|██▊       | 283/999 [5:50:51<15:50:25, 79.64s/it]"
     ]
    },
    {
     "name": "stdout",
     "output_type": "stream",
     "text": [
      "eigenvalues shape torch.Size([5]) eigenvectors shape torch.Size([5, 1024])\n",
      "283 /home/phdcs2/Hard_Disk/Datasets/Deep-Spectral-Segmentation/data/object-segmentation/ECSSD/features/0285_resized.pth\n",
      "dict_keys(['k', 'indices', 'file', 'id', 'model_name', 'patch_size', 'shape'])\n",
      "0285_resized\n"
     ]
    },
    {
     "name": "stderr",
     "output_type": "stream",
     "text": [
      "/home/phdcs2/Hard_Disk/Projects/T2I/deep-spectral-segmentation/venv/lib/python3.8/site-packages/sklearn/decomposition/_pca.py:642: RuntimeWarning: invalid value encountered in divide\n",
      "  self.explained_variance_ratio_ = self.explained_variance_ / total_var\n"
     ]
    },
    {
     "name": "stdout",
     "output_type": "stream",
     "text": [
      "Starting Training\n",
      "epoch: 00, loss: -0.91958\n",
      "epoch: 01, loss: -0.95107\n",
      "epoch: 02, loss: -0.95934\n",
      "epoch: 03, loss: -0.96406\n",
      "epoch: 04, loss: -0.96727\n",
      "epoch: 05, loss: -0.96966\n",
      "epoch: 06, loss: -0.97152\n",
      "epoch: 07, loss: -0.97301\n",
      "epoch: 08, loss: -0.97428\n",
      "epoch: 09, loss: -0.97532\n",
      "torch.Size([1024, 64])\n"
     ]
    },
    {
     "name": "stderr",
     "output_type": "stream",
     "text": [
      " 28%|██▊       | 284/999 [5:51:55<14:53:12, 74.95s/it]"
     ]
    },
    {
     "name": "stdout",
     "output_type": "stream",
     "text": [
      "eigenvalues shape torch.Size([5]) eigenvectors shape torch.Size([5, 1024])\n",
      "284 /home/phdcs2/Hard_Disk/Datasets/Deep-Spectral-Segmentation/data/object-segmentation/ECSSD/features/0286_resized.pth\n",
      "dict_keys(['k', 'indices', 'file', 'id', 'model_name', 'patch_size', 'shape'])\n",
      "0286_resized\n"
     ]
    },
    {
     "name": "stderr",
     "output_type": "stream",
     "text": [
      "/home/phdcs2/Hard_Disk/Projects/T2I/deep-spectral-segmentation/venv/lib/python3.8/site-packages/sklearn/decomposition/_pca.py:642: RuntimeWarning: invalid value encountered in divide\n",
      "  self.explained_variance_ratio_ = self.explained_variance_ / total_var\n"
     ]
    },
    {
     "name": "stdout",
     "output_type": "stream",
     "text": [
      "Starting Training\n",
      "epoch: 00, loss: -0.94046\n",
      "epoch: 01, loss: -0.96546\n",
      "epoch: 02, loss: -0.97078\n",
      "epoch: 03, loss: -0.97385\n",
      "epoch: 04, loss: -0.97598\n",
      "epoch: 05, loss: -0.97759\n",
      "epoch: 06, loss: -0.97883\n",
      "epoch: 07, loss: -0.97984\n",
      "epoch: 08, loss: -0.98068\n",
      "epoch: 09, loss: -0.98143\n",
      "torch.Size([1024, 64])\n"
     ]
    },
    {
     "name": "stderr",
     "output_type": "stream",
     "text": [
      " 29%|██▊       | 285/999 [5:53:11<14:54:05, 75.13s/it]"
     ]
    },
    {
     "name": "stdout",
     "output_type": "stream",
     "text": [
      "eigenvalues shape torch.Size([5]) eigenvectors shape torch.Size([5, 1024])\n",
      "285 /home/phdcs2/Hard_Disk/Datasets/Deep-Spectral-Segmentation/data/object-segmentation/ECSSD/features/0287_resized.pth\n",
      "dict_keys(['k', 'indices', 'file', 'id', 'model_name', 'patch_size', 'shape'])\n",
      "0287_resized\n"
     ]
    },
    {
     "name": "stderr",
     "output_type": "stream",
     "text": [
      "/home/phdcs2/Hard_Disk/Projects/T2I/deep-spectral-segmentation/venv/lib/python3.8/site-packages/sklearn/decomposition/_pca.py:642: RuntimeWarning: invalid value encountered in divide\n",
      "  self.explained_variance_ratio_ = self.explained_variance_ / total_var\n"
     ]
    },
    {
     "name": "stdout",
     "output_type": "stream",
     "text": [
      "Starting Training\n",
      "epoch: 00, loss: -0.90964\n",
      "epoch: 01, loss: -0.94625\n",
      "epoch: 02, loss: -0.95554\n",
      "epoch: 03, loss: -0.96086\n",
      "epoch: 04, loss: -0.96445\n",
      "epoch: 05, loss: -0.96714\n",
      "epoch: 06, loss: -0.96920\n",
      "epoch: 07, loss: -0.97088\n",
      "epoch: 08, loss: -0.97227\n",
      "epoch: 09, loss: -0.97347\n",
      "torch.Size([1024, 64])\n"
     ]
    },
    {
     "name": "stderr",
     "output_type": "stream",
     "text": [
      " 29%|██▊       | 286/999 [5:54:18<14:26:20, 72.90s/it]"
     ]
    },
    {
     "name": "stdout",
     "output_type": "stream",
     "text": [
      "eigenvalues shape torch.Size([5]) eigenvectors shape torch.Size([5, 1024])\n",
      "286 /home/phdcs2/Hard_Disk/Datasets/Deep-Spectral-Segmentation/data/object-segmentation/ECSSD/features/0288_resized.pth\n",
      "dict_keys(['k', 'indices', 'file', 'id', 'model_name', 'patch_size', 'shape'])\n",
      "0288_resized\n"
     ]
    },
    {
     "name": "stderr",
     "output_type": "stream",
     "text": [
      "/home/phdcs2/Hard_Disk/Projects/T2I/deep-spectral-segmentation/venv/lib/python3.8/site-packages/sklearn/decomposition/_pca.py:642: RuntimeWarning: invalid value encountered in divide\n",
      "  self.explained_variance_ratio_ = self.explained_variance_ / total_var\n"
     ]
    },
    {
     "name": "stdout",
     "output_type": "stream",
     "text": [
      "Starting Training\n",
      "epoch: 00, loss: -0.91525\n",
      "epoch: 01, loss: -0.94653\n",
      "epoch: 02, loss: -0.95467\n",
      "epoch: 03, loss: -0.95941\n",
      "epoch: 04, loss: -0.96270\n",
      "epoch: 05, loss: -0.96520\n",
      "epoch: 06, loss: -0.96713\n",
      "epoch: 07, loss: -0.96872\n",
      "epoch: 08, loss: -0.97007\n",
      "epoch: 09, loss: -0.97122\n",
      "torch.Size([1024, 64])\n"
     ]
    },
    {
     "name": "stderr",
     "output_type": "stream",
     "text": [
      " 29%|██▊       | 287/999 [5:55:27<14:08:42, 71.52s/it]"
     ]
    },
    {
     "name": "stdout",
     "output_type": "stream",
     "text": [
      "eigenvalues shape torch.Size([5]) eigenvectors shape torch.Size([5, 1024])\n",
      "287 /home/phdcs2/Hard_Disk/Datasets/Deep-Spectral-Segmentation/data/object-segmentation/ECSSD/features/0289_resized.pth\n",
      "dict_keys(['k', 'indices', 'file', 'id', 'model_name', 'patch_size', 'shape'])\n",
      "0289_resized\n",
      "Starting Training\n",
      "Starting Training\n",
      "epoch: 00, loss: -0.91832\n",
      "epoch: 01, loss: -0.95187\n",
      "epoch: 02, loss: -0.95943\n",
      "epoch: 03, loss: -0.96376\n",
      "epoch: 04, loss: -0.96678\n",
      "epoch: 05, loss: -0.96893\n",
      "epoch: 06, loss: -0.97067\n",
      "epoch: 07, loss: -0.97203\n",
      "epoch: 08, loss: -0.97320\n",
      "epoch: 09, loss: -0.97421\n",
      "torch.Size([1024, 64])\n"
     ]
    },
    {
     "name": "stderr",
     "output_type": "stream",
     "text": [
      " 48%|████▊     | 476/999 [9:32:36<10:18:31, 70.96s/it]"
     ]
    },
    {
     "name": "stdout",
     "output_type": "stream",
     "text": [
      "eigenvalues shape torch.Size([5]) eigenvectors shape torch.Size([5, 1024])\n",
      "476 /home/phdcs2/Hard_Disk/Datasets/Deep-Spectral-Segmentation/data/object-segmentation/ECSSD/features/0478_resized.pth\n",
      "dict_keys(['k', 'indices', 'file', 'id', 'model_name', 'patch_size', 'shape'])\n",
      "0478_resized\n"
     ]
    },
    {
     "name": "stderr",
     "output_type": "stream",
     "text": [
      "/home/phdcs2/Hard_Disk/Projects/T2I/deep-spectral-segmentation/venv/lib/python3.8/site-packages/sklearn/decomposition/_pca.py:642: RuntimeWarning: invalid value encountered in divide\n",
      "  self.explained_variance_ratio_ = self.explained_variance_ / total_var\n"
     ]
    },
    {
     "name": "stdout",
     "output_type": "stream",
     "text": [
      "Starting Training\n",
      "epoch: 00, loss: -0.93678\n",
      "epoch: 01, loss: -0.96347\n",
      "epoch: 02, loss: -0.96896\n",
      "epoch: 03, loss: -0.97210\n",
      "epoch: 04, loss: -0.97429\n",
      "epoch: 05, loss: -0.97588\n",
      "epoch: 06, loss: -0.97718\n",
      "epoch: 07, loss: -0.97820\n",
      "epoch: 08, loss: -0.97907\n",
      "epoch: 09, loss: -0.97982\n",
      "torch.Size([1024, 64])\n"
     ]
    },
    {
     "name": "stderr",
     "output_type": "stream",
     "text": [
      " 48%|████▊     | 477/999 [9:33:49<10:23:10, 71.63s/it]"
     ]
    },
    {
     "name": "stdout",
     "output_type": "stream",
     "text": [
      "eigenvalues shape torch.Size([5]) eigenvectors shape torch.Size([5, 1024])\n",
      "477 /home/phdcs2/Hard_Disk/Datasets/Deep-Spectral-Segmentation/data/object-segmentation/ECSSD/features/0479_resized.pth\n",
      "dict_keys(['k', 'indices', 'file', 'id', 'model_name', 'patch_size', 'shape'])\n",
      "0479_resized\n",
      "epoch: 05, loss: -0.97464\n",
      "epoch: 06, loss: -0.97597\n",
      "epoch: 07, loss: -0.97704\n",
      "epoch: 08, loss: -0.97793\n",
      "epoch: 09, loss: -0.97871\n",
      "torch.Size([1024, 64])\n"
     ]
    },
    {
     "name": "stderr",
     "output_type": "stream",
     "text": [
      " 50%|████▉     | 499/999 [9:59:27<9:50:46, 70.89s/it]"
     ]
    },
    {
     "name": "stdout",
     "output_type": "stream",
     "text": [
      "eigenvalues shape torch.Size([5]) eigenvectors shape torch.Size([5, 1024])\n",
      "499 /home/phdcs2/Hard_Disk/Datasets/Deep-Spectral-Segmentation/data/object-segmentation/ECSSD/features/0501_resized.pth\n",
      "dict_keys(['k', 'indices', 'file', 'id', 'model_name', 'patch_size', 'shape'])\n",
      "0501_resized\n",
      "Starting Training\n",
      "epoch: 00, loss: -0.94295\n",
      "epoch: 01, loss: -0.96513\n",
      "epoch: 02, loss: -0.96997\n",
      "epoch: 03, loss: -0.97279\n",
      "epoch: 04, loss: -0.97482\n",
      "epoch: 05, loss: -0.97631\n",
      "epoch: 06, loss: -0.97748\n",
      "epoch: 07, loss: -0.97846\n",
      "epoch: 08, loss: -0.97929\n",
      "epoch: 09, loss: -0.98000\n",
      "torch.Size([1024, 64])\n"
     ]
    },
    {
     "name": "stderr",
     "output_type": "stream",
     "text": [
      " 50%|█████     | 500/999 [10:00:44<10:04:31, 72.69s/it]"
     ]
    },
    {
     "name": "stdout",
     "output_type": "stream",
     "text": [
      "eigenvalues shape torch.Size([5]) eigenvectors shape torch.Size([5, 1024])\n",
      "500 /home/phdcs2/Hard_Disk/Datasets/Deep-Spectral-Segmentation/data/object-segmentation/ECSSD/features/0502_resized.pth\n",
      "dict_keys(['k', 'indices', 'file', 'id', 'model_name', 'patch_size', 'shape'])\n",
      "0502_resized\n",
      "Starting Training\n",
      "epoch: 00, loss: -0.87787\n",
      "epoch: 01, loss: -0.92353\n",
      "epoch: 02, loss: -0.93648\n",
      "epoch: 03, loss: -0.94375\n",
      "epoch: 04, loss: -0.94883\n",
      "epoch: 05, loss: -0.95251\n",
      "epoch: 06, loss: -0.95546\n",
      "epoch: 07, loss: -0.95774\n",
      "epoch: 08, loss: -0.95981\n",
      "epoch: 09, loss: -0.96132\n",
      "torch.Size([1024, 64])\n"
     ]
    },
    {
     "name": "stderr",
     "output_type": "stream",
     "text": [
      " 50%|█████     | 501/999 [10:02:01<10:13:16, 73.89s/it]"
     ]
    },
    {
     "name": "stdout",
     "output_type": "stream",
     "text": [
      "eigenvalues shape torch.Size([5]) eigenvectors shape torch.Size([5, 1024])\n",
      "501 /home/phdcs2/Hard_Disk/Datasets/Deep-Spectral-Segmentation/data/object-segmentation/ECSSD/features/0503_resized.pth\n",
      "dict_keys(['k', 'indices', 'file', 'id', 'model_name', 'patch_size', 'shape'])\n",
      "0503_resized\n",
      "Starting Training\n",
      "epoch: 00, loss: -0.83839\n",
      "epoch: 01, loss: -0.90756\n",
      "epoch: 02, loss: -0.92362\n",
      "epoch: 03, loss: -0.93245\n",
      "epoch: 04, loss: -0.93858\n",
      "epoch: 05, loss: -0.94291\n",
      "epoch: 06, loss: -0.94630\n",
      "epoch: 07, loss: -0.94906\n",
      "epoch: 08, loss: -0.95128\n",
      "epoch: 09, loss: -0.95312\n",
      "torch.Size([1024, 64])\n"
     ]
    },
    {
     "name": "stderr",
     "output_type": "stream",
     "text": [
      " 50%|█████     | 502/999 [10:03:15<10:12:35, 73.95s/it]"
     ]
    },
    {
     "name": "stdout",
     "output_type": "stream",
     "text": [
      "eigenvalues shape torch.Size([5]) eigenvectors shape torch.Size([5, 1024])\n",
      "502 /home/phdcs2/Hard_Disk/Datasets/Deep-Spectral-Segmentation/data/object-segmentation/ECSSD/features/0504_resized.pth\n",
      "dict_keys(['k', 'indices', 'file', 'id', 'model_name', 'patch_size', 'shape'])\n",
      "0504_resized\n",
      "Starting Training\n",
      "epoch: 00, loss: -0.84580\n",
      "epoch: 01, loss: -0.90721\n",
      "epoch: 02, loss: -0.92411\n",
      "epoch: 03, loss: -0.93339\n",
      "epoch: 04, loss: -0.93974\n",
      "epoch: 05, loss: -0.94428\n",
      "epoch: 06, loss: -0.94782\n",
      "epoch: 07, loss: -0.95076\n",
      "epoch: 08, loss: -0.95312\n",
      "epoch: 09, loss: -0.95518\n",
      "torch.Size([1024, 64])\n"
     ]
    },
    {
     "name": "stderr",
     "output_type": "stream",
     "text": [
      " 50%|█████     | 503/999 [10:04:28<10:10:10, 73.81s/it]"
     ]
    },
    {
     "name": "stdout",
     "output_type": "stream",
     "text": [
      "eigenvalues shape torch.Size([5]) eigenvectors shape torch.Size([5, 1024])\n",
      "503 /home/phdcs2/Hard_Disk/Datasets/Deep-Spectral-Segmentation/data/object-segmentation/ECSSD/features/0505_resized.pth\n",
      "dict_keys(['k', 'indices', 'file', 'id', 'model_name', 'patch_size', 'shape'])\n",
      "0505_resized\n",
      "Starting Training\n",
      "epoch: 00, loss: -0.84618\n",
      "epoch: 01, loss: -0.90676\n",
      "epoch: 02, loss: -0.92364\n",
      "epoch: 03, loss: -0.93284\n",
      "epoch: 04, loss: -0.93912\n",
      "epoch: 05, loss: -0.94370\n",
      "epoch: 06, loss: -0.94703\n",
      "epoch: 07, loss: -0.94999\n",
      "epoch: 08, loss: -0.95213\n",
      "epoch: 09, loss: -0.95417\n",
      "torch.Size([1024, 64])\n"
     ]
    },
    {
     "name": "stderr",
     "output_type": "stream",
     "text": [
      " 50%|█████     | 504/999 [10:05:38<9:58:22, 72.53s/it] "
     ]
    },
    {
     "name": "stdout",
     "output_type": "stream",
     "text": [
      "eigenvalues shape torch.Size([5]) eigenvectors shape torch.Size([5, 1024])\n",
      "504 /home/phdcs2/Hard_Disk/Datasets/Deep-Spectral-Segmentation/data/object-segmentation/ECSSD/features/0506_resized.pth\n",
      "dict_keys(['k', 'indices', 'file', 'id', 'model_name', 'patch_size', 'shape'])\n",
      "0506_resized\n",
      "Starting Training\n",
      "epoch: 00, loss: -0.88176\n",
      "epoch: 01, loss: -0.93242\n",
      "epoch: 02, loss: -0.94399\n",
      "epoch: 03, loss: -0.95046\n",
      "epoch: 04, loss: -0.95494\n",
      "epoch: 05, loss: -0.95805\n",
      "epoch: 06, loss: -0.96060\n",
      "epoch: 07, loss: -0.96273\n",
      "epoch: 08, loss: -0.96448\n",
      "epoch: 09, loss: -0.96589\n",
      "torch.Size([1024, 64])\n"
     ]
    },
    {
     "name": "stderr",
     "output_type": "stream",
     "text": [
      " 51%|█████     | 505/999 [10:06:45<9:42:50, 70.79s/it]"
     ]
    },
    {
     "name": "stdout",
     "output_type": "stream",
     "text": [
      "eigenvalues shape torch.Size([5]) eigenvectors shape torch.Size([5, 1024])\n",
      "505 /home/phdcs2/Hard_Disk/Datasets/Deep-Spectral-Segmentation/data/object-segmentation/ECSSD/features/0507_resized.pth\n",
      "dict_keys(['k', 'indices', 'file', 'id', 'model_name', 'patch_size', 'shape'])\n",
      "0507_resized\n",
      "Starting Training\n",
      "epoch: 00, loss: -0.87255\n",
      "epoch: 01, loss: -0.92375\n",
      "epoch: 02, loss: -0.93647\n",
      "epoch: 03, loss: -0.94374\n",
      "epoch: 04, loss: -0.94859\n",
      "epoch: 05, loss: -0.95211\n",
      "epoch: 06, loss: -0.95484\n",
      "epoch: 07, loss: -0.95709\n",
      "epoch: 08, loss: -0.95899\n",
      "epoch: 09, loss: -0.96059\n",
      "torch.Size([1024, 64])\n"
     ]
    },
    {
     "name": "stderr",
     "output_type": "stream",
     "text": [
      " 51%|█████     | 506/999 [10:07:56<9:43:57, 71.07s/it]"
     ]
    },
    {
     "name": "stdout",
     "output_type": "stream",
     "text": [
      "eigenvalues shape torch.Size([5]) eigenvectors shape torch.Size([5, 1024])\n",
      "506 /home/phdcs2/Hard_Disk/Datasets/Deep-Spectral-Segmentation/data/object-segmentation/ECSSD/features/0508_resized.pth\n",
      "dict_keys(['k', 'indices', 'file', 'id', 'model_name', 'patch_size', 'shape'])\n",
      "0508_resized\n",
      "Starting Training\n",
      "epoch: 00, loss: -0.92689\n",
      "epoch: 01, loss: -0.95340\n",
      "epoch: 02, loss: -0.96043\n",
      "epoch: 03, loss: -0.96458\n",
      "epoch: 04, loss: -0.96738\n",
      "epoch: 05, loss: -0.96948\n",
      "epoch: 06, loss: -0.97114\n",
      "epoch: 07, loss: -0.97249\n",
      "epoch: 08, loss: -0.97361\n",
      "epoch: 09, loss: -0.97457\n",
      "torch.Size([1024, 64])\n"
     ]
    },
    {
     "name": "stderr",
     "output_type": "stream",
     "text": [
      " 51%|█████     | 507/999 [10:08:58<9:20:53, 68.40s/it]"
     ]
    },
    {
     "name": "stdout",
     "output_type": "stream",
     "text": [
      "eigenvalues shape torch.Size([5]) eigenvectors shape torch.Size([5, 1024])\n",
      "507 /home/phdcs2/Hard_Disk/Datasets/Deep-Spectral-Segmentation/data/object-segmentation/ECSSD/features/0509_resized.pth\n",
      "dict_keys(['k', 'indices', 'file', 'id', 'model_name', 'patch_size', 'shape'])\n",
      "0509_resized\n",
      "Starting Training\n",
      "epoch: 00, loss: -0.89253\n",
      "epoch: 01, loss: -0.93595\n",
      "epoch: 02, loss: -0.94658\n",
      "epoch: 03, loss: -0.95268\n",
      "epoch: 04, loss: -0.95674\n",
      "epoch: 05, loss: -0.95966\n",
      "epoch: 06, loss: -0.96205\n",
      "epoch: 07, loss: -0.96385\n",
      "epoch: 08, loss: -0.96548\n",
      "epoch: 09, loss: -0.96683\n",
      "torch.Size([1024, 64])\n"
     ]
    },
    {
     "name": "stderr",
     "output_type": "stream",
     "text": [
      " 51%|█████     | 508/999 [10:10:04<9:11:46, 67.43s/it]"
     ]
    },
    {
     "name": "stdout",
     "output_type": "stream",
     "text": [
      "eigenvalues shape torch.Size([5]) eigenvectors shape torch.Size([5, 1024])\n",
      "508 /home/phdcs2/Hard_Disk/Datasets/Deep-Spectral-Segmentation/data/object-segmentation/ECSSD/features/0510_resized.pth\n",
      "dict_keys(['k', 'indices', 'file', 'id', 'model_name', 'patch_size', 'shape'])\n",
      "0510_resized\n"
     ]
    },
    {
     "name": "stderr",
     "output_type": "stream",
     "text": [
      "/home/phdcs2/Hard_Disk/Projects/T2I/deep-spectral-segmentation/venv/lib/python3.8/site-packages/sklearn/decomposition/_pca.py:642: RuntimeWarning: invalid value encountered in divide\n",
      "  self.explained_variance_ratio_ = self.explained_variance_ / total_var\n"
     ]
    },
    {
     "name": "stdout",
     "output_type": "stream",
     "text": [
      "Starting Training\n",
      "epoch: 00, loss: -0.91055\n",
      "epoch: 01, loss: -0.94613\n",
      "epoch: 02, loss: -0.95520\n",
      "epoch: 03, loss: -0.96038\n",
      "epoch: 04, loss: -0.96392\n",
      "epoch: 05, loss: -0.96653\n",
      "epoch: 06, loss: -0.96856\n",
      "epoch: 07, loss: -0.97023\n",
      "epoch: 08, loss: -0.97160\n",
      "epoch: 09, loss: -0.97277\n",
      "torch.Size([1024, 64])\n"
     ]
    },
    {
     "name": "stderr",
     "output_type": "stream",
     "text": [
      " 51%|█████     | 509/999 [10:11:06<8:59:27, 66.06s/it]"
     ]
    },
    {
     "name": "stdout",
     "output_type": "stream",
     "text": [
      "eigenvalues shape torch.Size([5]) eigenvectors shape torch.Size([5, 1024])\n",
      "509 /home/phdcs2/Hard_Disk/Datasets/Deep-Spectral-Segmentation/data/object-segmentation/ECSSD/features/0511_resized.pth\n",
      "dict_keys(['k', 'indices', 'file', 'id', 'model_name', 'patch_size', 'shape'])\n",
      "0511_resized\n",
      "Starting Training\n",
      "epoch: 00, loss: -0.86234\n",
      "epoch: 01, loss: -0.91677\n",
      "epoch: 02, loss: -0.93123\n",
      "epoch: 03, loss: -0.93977\n",
      "epoch: 04, loss: -0.94517\n",
      "epoch: 05, loss: -0.94905\n",
      "epoch: 06, loss: -0.95215\n",
      "epoch: 07, loss: -0.95466\n",
      "epoch: 08, loss: -0.95674\n",
      "epoch: 09, loss: -0.95845\n",
      "torch.Size([1024, 64])\n"
     ]
    },
    {
     "name": "stderr",
     "output_type": "stream",
     "text": [
      " 51%|█████     | 510/999 [10:12:04<8:38:02, 63.56s/it]"
     ]
    },
    {
     "name": "stdout",
     "output_type": "stream",
     "text": [
      "eigenvalues shape torch.Size([5]) eigenvectors shape torch.Size([5, 1024])\n",
      "510 /home/phdcs2/Hard_Disk/Datasets/Deep-Spectral-Segmentation/data/object-segmentation/ECSSD/features/0512_resized.pth\n",
      "dict_keys(['k', 'indices', 'file', 'id', 'model_name', 'patch_size', 'shape'])\n",
      "0512_resized\n",
      "Starting Training\n",
      "epoch: 00, loss: -0.89320\n",
      "epoch: 01, loss: -0.93726\n",
      "epoch: 02, loss: -0.94730\n",
      "epoch: 03, loss: -0.95311\n",
      "epoch: 04, loss: -0.95703\n",
      "epoch: 05, loss: -0.95990\n",
      "epoch: 06, loss: -0.96217\n",
      "epoch: 07, loss: -0.96396\n",
      "epoch: 08, loss: -0.96561\n",
      "epoch: 09, loss: -0.96677\n",
      "torch.Size([1024, 64])\n"
     ]
    },
    {
     "name": "stderr",
     "output_type": "stream",
     "text": [
      " 51%|█████     | 511/999 [10:13:08<8:36:22, 63.49s/it]"
     ]
    },
    {
     "name": "stdout",
     "output_type": "stream",
     "text": [
      "eigenvalues shape torch.Size([5]) eigenvectors shape torch.Size([5, 1024])\n",
      "511 /home/phdcs2/Hard_Disk/Datasets/Deep-Spectral-Segmentation/data/object-segmentation/ECSSD/features/0513_resized.pth\n",
      "dict_keys(['k', 'indices', 'file', 'id', 'model_name', 'patch_size', 'shape'])\n",
      "0513_resized\n",
      "Starting Training\n",
      "epoch: 00, loss: -0.86153\n",
      "epoch: 01, loss: -0.91982\n",
      "epoch: 02, loss: -0.93369\n",
      "epoch: 03, loss: -0.94126\n",
      "epoch: 04, loss: -0.94636\n",
      "epoch: 05, loss: -0.95013\n",
      "epoch: 06, loss: -0.95315\n",
      "epoch: 07, loss: -0.95547\n",
      "epoch: 08, loss: -0.95756\n",
      "epoch: 09, loss: -0.95917\n",
      "torch.Size([1024, 64])\n"
     ]
    },
    {
     "name": "stderr",
     "output_type": "stream",
     "text": [
      " 51%|█████▏    | 512/999 [10:14:27<9:14:37, 68.33s/it]"
     ]
    },
    {
     "name": "stdout",
     "output_type": "stream",
     "text": [
      "eigenvalues shape torch.Size([5]) eigenvectors shape torch.Size([5, 1024])\n",
      "512 /home/phdcs2/Hard_Disk/Datasets/Deep-Spectral-Segmentation/data/object-segmentation/ECSSD/features/0514_resized.pth\n",
      "dict_keys(['k', 'indices', 'file', 'id', 'model_name', 'patch_size', 'shape'])\n",
      "0514_resized\n"
     ]
    },
    {
     "name": "stderr",
     "output_type": "stream",
     "text": [
      "/home/phdcs2/Hard_Disk/Projects/T2I/deep-spectral-segmentation/venv/lib/python3.8/site-packages/sklearn/decomposition/_pca.py:642: RuntimeWarning: invalid value encountered in divide\n",
      "  self.explained_variance_ratio_ = self.explained_variance_ / total_var\n"
     ]
    },
    {
     "name": "stdout",
     "output_type": "stream",
     "text": [
      "Starting Training\n",
      "epoch: 00, loss: -0.91388\n",
      "epoch: 01, loss: -0.94773\n",
      "epoch: 02, loss: -0.95590\n",
      "epoch: 03, loss: -0.96059\n",
      "epoch: 04, loss: -0.96381\n",
      "epoch: 05, loss: -0.96618\n",
      "epoch: 06, loss: -0.96806\n",
      "epoch: 07, loss: -0.96957\n",
      "epoch: 08, loss: -0.97087\n",
      "epoch: 09, loss: -0.97193\n",
      "torch.Size([1024, 64])\n"
     ]
    },
    {
     "name": "stderr",
     "output_type": "stream",
     "text": [
      " 51%|█████▏    | 513/999 [10:15:40<9:24:18, 69.67s/it]"
     ]
    },
    {
     "name": "stdout",
     "output_type": "stream",
     "text": [
      "eigenvalues shape torch.Size([5]) eigenvectors shape torch.Size([5, 1024])\n",
      "513 /home/phdcs2/Hard_Disk/Datasets/Deep-Spectral-Segmentation/data/object-segmentation/ECSSD/features/0515_resized.pth\n",
      "dict_keys(['k', 'indices', 'file', 'id', 'model_name', 'patch_size', 'shape'])\n",
      "0515_resized\n",
      "Starting Training\n",
      "epoch: 00, loss: -0.91573\n",
      "epoch: 01, loss: -0.95185\n",
      "epoch: 02, loss: -0.95908\n",
      "epoch: 03, loss: -0.96315\n",
      "epoch: 04, loss: -0.96596\n",
      "epoch: 05, loss: -0.96807\n",
      "epoch: 06, loss: -0.96970\n",
      "epoch: 07, loss: -0.97103\n",
      "epoch: 08, loss: -0.97218\n",
      "epoch: 09, loss: -0.97313\n",
      "torch.Size([1024, 64])\n"
     ]
    },
    {
     "name": "stderr",
     "output_type": "stream",
     "text": [
      " 51%|█████▏    | 514/999 [10:16:59<9:45:24, 72.42s/it]"
     ]
    },
    {
     "name": "stdout",
     "output_type": "stream",
     "text": [
      "eigenvalues shape torch.Size([5]) eigenvectors shape torch.Size([5, 1024])\n",
      "514 /home/phdcs2/Hard_Disk/Datasets/Deep-Spectral-Segmentation/data/object-segmentation/ECSSD/features/0516_resized.pth\n",
      "dict_keys(['k', 'indices', 'file', 'id', 'model_name', 'patch_size', 'shape'])\n",
      "0516_resized\n",
      "Starting Training\n",
      "epoch: 00, loss: -0.91572\n",
      "epoch: 01, loss: -0.95202\n",
      "epoch: 02, loss: -0.95980\n",
      "epoch: 03, loss: -0.96428\n",
      "epoch: 04, loss: -0.96728\n",
      "epoch: 05, loss: -0.96954\n",
      "epoch: 06, loss: -0.97128\n",
      "epoch: 07, loss: -0.97271\n",
      "epoch: 08, loss: -0.97389\n",
      "epoch: 09, loss: -0.97490\n",
      "torch.Size([1024, 64])\n"
     ]
    },
    {
     "name": "stderr",
     "output_type": "stream",
     "text": [
      " 52%|█████▏    | 515/999 [10:18:19<10:03:28, 74.81s/it]"
     ]
    },
    {
     "name": "stdout",
     "output_type": "stream",
     "text": [
      "eigenvalues shape torch.Size([5]) eigenvectors shape torch.Size([5, 1024])\n",
      "515 /home/phdcs2/Hard_Disk/Datasets/Deep-Spectral-Segmentation/data/object-segmentation/ECSSD/features/0517_resized.pth\n",
      "dict_keys(['k', 'indices', 'file', 'id', 'model_name', 'patch_size', 'shape'])\n",
      "0517_resized\n",
      "Starting Training\n",
      "epoch: 00, loss: -0.87974\n",
      "epoch: 01, loss: -0.93186\n",
      "epoch: 02, loss: -0.94393\n",
      "epoch: 03, loss: -0.95049\n",
      "epoch: 04, loss: -0.95508\n",
      "epoch: 05, loss: -0.95834\n",
      "epoch: 06, loss: -0.96082\n",
      "epoch: 07, loss: -0.96292\n",
      "epoch: 08, loss: -0.96461\n",
      "epoch: 09, loss: -0.96608\n",
      "torch.Size([1024, 64])\n"
     ]
    },
    {
     "name": "stderr",
     "output_type": "stream",
     "text": [
      " 52%|█████▏    | 516/999 [10:19:34<10:02:22, 74.83s/it]"
     ]
    },
    {
     "name": "stdout",
     "output_type": "stream",
     "text": [
      "eigenvalues shape torch.Size([5]) eigenvectors shape torch.Size([5, 1024])\n",
      "516 /home/phdcs2/Hard_Disk/Datasets/Deep-Spectral-Segmentation/data/object-segmentation/ECSSD/features/0518_resized.pth\n",
      "dict_keys(['k', 'indices', 'file', 'id', 'model_name', 'patch_size', 'shape'])\n",
      "0518_resized\n",
      "Starting Training\n",
      "epoch: 00, loss: -0.85953\n",
      "epoch: 01, loss: -0.91927\n",
      "epoch: 02, loss: -0.93332\n",
      "epoch: 03, loss: -0.94149\n",
      "epoch: 04, loss: -0.94678\n",
      "epoch: 05, loss: -0.95073\n",
      "epoch: 06, loss: -0.95373\n",
      "epoch: 07, loss: -0.95613\n",
      "epoch: 08, loss: -0.95823\n",
      "epoch: 09, loss: -0.95996\n",
      "torch.Size([1024, 64])\n"
     ]
    },
    {
     "name": "stderr",
     "output_type": "stream",
     "text": [
      " 52%|█████▏    | 517/999 [10:20:44<9:50:24, 73.49s/it] "
     ]
    },
    {
     "name": "stdout",
     "output_type": "stream",
     "text": [
      "eigenvalues shape torch.Size([5]) eigenvectors shape torch.Size([5, 1024])\n",
      "517 /home/phdcs2/Hard_Disk/Datasets/Deep-Spectral-Segmentation/data/object-segmentation/ECSSD/features/0519_resized.pth\n",
      "dict_keys(['k', 'indices', 'file', 'id', 'model_name', 'patch_size', 'shape'])\n",
      "0519_resized\n",
      "Starting Training\n",
      "epoch: 00, loss: -0.88290\n",
      "epoch: 01, loss: -0.93153\n",
      "epoch: 02, loss: -0.94272\n",
      "epoch: 03, loss: -0.94935\n",
      "epoch: 04, loss: -0.95397\n",
      "epoch: 05, loss: -0.95722\n",
      "epoch: 06, loss: -0.95977\n",
      "epoch: 07, loss: -0.96181\n",
      "epoch: 08, loss: -0.96349\n",
      "epoch: 09, loss: -0.96495\n",
      "torch.Size([1024, 64])\n"
     ]
    },
    {
     "name": "stderr",
     "output_type": "stream",
     "text": [
      " 52%|█████▏    | 518/999 [10:21:51<9:33:39, 71.56s/it]"
     ]
    },
    {
     "name": "stdout",
     "output_type": "stream",
     "text": [
      "eigenvalues shape torch.Size([5]) eigenvectors shape torch.Size([5, 1024])\n",
      "518 /home/phdcs2/Hard_Disk/Datasets/Deep-Spectral-Segmentation/data/object-segmentation/ECSSD/features/0520_resized.pth\n",
      "dict_keys(['k', 'indices', 'file', 'id', 'model_name', 'patch_size', 'shape'])\n",
      "0520_resized\n"
     ]
    },
    {
     "name": "stderr",
     "output_type": "stream",
     "text": [
      "/home/phdcs2/Hard_Disk/Projects/T2I/deep-spectral-segmentation/venv/lib/python3.8/site-packages/sklearn/decomposition/_pca.py:642: RuntimeWarning: invalid value encountered in divide\n",
      "  self.explained_variance_ratio_ = self.explained_variance_ / total_var\n"
     ]
    },
    {
     "name": "stdout",
     "output_type": "stream",
     "text": [
      "Starting Training\n",
      "epoch: 00, loss: -0.89055\n",
      "epoch: 01, loss: -0.92819\n",
      "epoch: 02, loss: -0.93910\n",
      "epoch: 03, loss: -0.94557\n",
      "epoch: 04, loss: -0.95003\n",
      "epoch: 05, loss: -0.95344\n",
      "epoch: 06, loss: -0.95600\n",
      "epoch: 07, loss: -0.95817\n",
      "epoch: 08, loss: -0.95999\n",
      "epoch: 09, loss: -0.96153\n",
      "torch.Size([1024, 64])\n"
     ]
    },
    {
     "name": "stderr",
     "output_type": "stream",
     "text": [
      " 52%|█████▏    | 519/999 [10:23:06<9:39:17, 72.41s/it]"
     ]
    },
    {
     "name": "stdout",
     "output_type": "stream",
     "text": [
      "eigenvalues shape torch.Size([5]) eigenvectors shape torch.Size([5, 1024])\n",
      "519 /home/phdcs2/Hard_Disk/Datasets/Deep-Spectral-Segmentation/data/object-segmentation/ECSSD/features/0521_resized.pth\n",
      "dict_keys(['k', 'indices', 'file', 'id', 'model_name', 'patch_size', 'shape'])\n",
      "0521_resized\n",
      "Starting Training\n",
      "epoch: 00, loss: -0.84899\n",
      "epoch: 01, loss: -0.90884\n",
      "epoch: 02, loss: -0.92506\n",
      "epoch: 03, loss: -0.93424\n",
      "epoch: 04, loss: -0.94035\n",
      "epoch: 05, loss: -0.94498\n",
      "epoch: 06, loss: -0.94850\n",
      "epoch: 07, loss: -0.95140\n",
      "epoch: 08, loss: -0.95373\n",
      "epoch: 09, loss: -0.95557\n",
      "torch.Size([1024, 64])\n"
     ]
    },
    {
     "name": "stderr",
     "output_type": "stream",
     "text": [
      " 52%|█████▏    | 520/999 [10:24:22<9:46:16, 73.44s/it]"
     ]
    },
    {
     "name": "stdout",
     "output_type": "stream",
     "text": [
      "eigenvalues shape torch.Size([5]) eigenvectors shape torch.Size([5, 1024])\n",
      "520 /home/phdcs2/Hard_Disk/Datasets/Deep-Spectral-Segmentation/data/object-segmentation/ECSSD/features/0522_resized.pth\n",
      "dict_keys(['k', 'indices', 'file', 'id', 'model_name', 'patch_size', 'shape'])\n",
      "0522_resized\n"
     ]
    },
    {
     "name": "stderr",
     "output_type": "stream",
     "text": [
      "/home/phdcs2/Hard_Disk/Projects/T2I/deep-spectral-segmentation/venv/lib/python3.8/site-packages/sklearn/decomposition/_pca.py:642: RuntimeWarning: invalid value encountered in divide\n",
      "  self.explained_variance_ratio_ = self.explained_variance_ / total_var\n"
     ]
    },
    {
     "name": "stdout",
     "output_type": "stream",
     "text": [
      "Starting Training\n",
      "epoch: 00, loss: -0.91890\n",
      "epoch: 01, loss: -0.95224\n",
      "epoch: 02, loss: -0.95958\n",
      "epoch: 03, loss: -0.96382\n",
      "epoch: 04, loss: -0.96673\n",
      "epoch: 05, loss: -0.96890\n",
      "epoch: 06, loss: -0.97061\n",
      "epoch: 07, loss: -0.97200\n",
      "epoch: 08, loss: -0.97316\n",
      "epoch: 09, loss: -0.97415\n",
      "torch.Size([1024, 64])\n"
     ]
    },
    {
     "name": "stderr",
     "output_type": "stream",
     "text": [
      " 52%|█████▏    | 521/999 [10:25:34<9:41:25, 72.98s/it]"
     ]
    },
    {
     "name": "stdout",
     "output_type": "stream",
     "text": [
      "eigenvalues shape torch.Size([5]) eigenvectors shape torch.Size([5, 1024])\n",
      "521 /home/phdcs2/Hard_Disk/Datasets/Deep-Spectral-Segmentation/data/object-segmentation/ECSSD/features/0523_resized.pth\n",
      "dict_keys(['k', 'indices', 'file', 'id', 'model_name', 'patch_size', 'shape'])\n",
      "0523_resized\n"
     ]
    },
    {
     "name": "stderr",
     "output_type": "stream",
     "text": [
      "/home/phdcs2/Hard_Disk/Projects/T2I/deep-spectral-segmentation/venv/lib/python3.8/site-packages/sklearn/decomposition/_pca.py:642: RuntimeWarning: invalid value encountered in divide\n",
      "  self.explained_variance_ratio_ = self.explained_variance_ / total_var\n"
     ]
    },
    {
     "name": "stdout",
     "output_type": "stream",
     "text": [
      "Starting Training\n",
      "epoch: 00, loss: -0.93218\n",
      "epoch: 01, loss: -0.95977\n",
      "epoch: 02, loss: -0.96590\n",
      "epoch: 03, loss: -0.96945\n",
      "epoch: 04, loss: -0.97190\n",
      "epoch: 05, loss: -0.97370\n",
      "epoch: 06, loss: -0.97514\n",
      "epoch: 07, loss: -0.97631\n",
      "epoch: 08, loss: -0.97729\n",
      "epoch: 09, loss: -0.97811\n",
      "torch.Size([1024, 64])\n"
     ]
    },
    {
     "name": "stderr",
     "output_type": "stream",
     "text": [
      " 52%|█████▏    | 522/999 [10:26:47<9:41:11, 73.10s/it]"
     ]
    },
    {
     "name": "stdout",
     "output_type": "stream",
     "text": [
      "eigenvalues shape torch.Size([5]) eigenvectors shape torch.Size([5, 1024])\n",
      "522 /home/phdcs2/Hard_Disk/Datasets/Deep-Spectral-Segmentation/data/object-segmentation/ECSSD/features/0524_resized.pth\n",
      "dict_keys(['k', 'indices', 'file', 'id', 'model_name', 'patch_size', 'shape'])\n",
      "0524_resized\n",
      "Starting Training\n",
      "epoch: 00, loss: -0.84924\n",
      "epoch: 01, loss: -0.90882\n",
      "epoch: 02, loss: -0.92379\n",
      "epoch: 03, loss: -0.93232\n",
      "epoch: 04, loss: -0.93815\n",
      "epoch: 05, loss: -0.94237\n",
      "epoch: 06, loss: -0.94584\n",
      "epoch: 07, loss: -0.94846\n",
      "epoch: 08, loss: -0.95078\n",
      "epoch: 09, loss: -0.95265\n",
      "torch.Size([1024, 64])\n"
     ]
    },
    {
     "name": "stderr",
     "output_type": "stream",
     "text": [
      " 52%|█████▏    | 523/999 [10:27:55<9:28:26, 71.65s/it]"
     ]
    },
    {
     "name": "stdout",
     "output_type": "stream",
     "text": [
      "eigenvalues shape torch.Size([5]) eigenvectors shape torch.Size([5, 1024])\n",
      "523 /home/phdcs2/Hard_Disk/Datasets/Deep-Spectral-Segmentation/data/object-segmentation/ECSSD/features/0525_resized.pth\n",
      "dict_keys(['k', 'indices', 'file', 'id', 'model_name', 'patch_size', 'shape'])\n",
      "0525_resized\n"
     ]
    },
    {
     "name": "stderr",
     "output_type": "stream",
     "text": [
      "/home/phdcs2/Hard_Disk/Projects/T2I/deep-spectral-segmentation/venv/lib/python3.8/site-packages/sklearn/decomposition/_pca.py:642: RuntimeWarning: invalid value encountered in divide\n",
      "  self.explained_variance_ratio_ = self.explained_variance_ / total_var\n"
     ]
    },
    {
     "name": "stdout",
     "output_type": "stream",
     "text": [
      "Starting Training\n",
      "epoch: 00, loss: -0.91214\n",
      "epoch: 01, loss: -0.94760\n",
      "epoch: 02, loss: -0.95584\n",
      "epoch: 03, loss: -0.96067\n",
      "epoch: 04, loss: -0.96396\n",
      "epoch: 05, loss: -0.96637\n",
      "epoch: 06, loss: -0.96828\n",
      "epoch: 07, loss: -0.96984\n",
      "epoch: 08, loss: -0.97113\n",
      "epoch: 09, loss: -0.97224\n",
      "torch.Size([1024, 64])\n"
     ]
    },
    {
     "name": "stderr",
     "output_type": "stream",
     "text": [
      " 52%|█████▏    | 524/999 [10:29:02<9:15:57, 70.23s/it]"
     ]
    },
    {
     "name": "stdout",
     "output_type": "stream",
     "text": [
      "eigenvalues shape torch.Size([5]) eigenvectors shape torch.Size([5, 1024])\n",
      "524 /home/phdcs2/Hard_Disk/Datasets/Deep-Spectral-Segmentation/data/object-segmentation/ECSSD/features/0526_resized.pth\n",
      "dict_keys(['k', 'indices', 'file', 'id', 'model_name', 'patch_size', 'shape'])\n",
      "0526_resized\n",
      "Starting Training\n",
      "epoch: 00, loss: -0.89934\n",
      "epoch: 01, loss: -0.93873\n",
      "epoch: 02, loss: -0.94898\n",
      "epoch: 03, loss: -0.95473\n",
      "epoch: 04, loss: -0.95873\n",
      "epoch: 05, loss: -0.96166\n",
      "epoch: 06, loss: -0.96394\n",
      "epoch: 07, loss: -0.96580\n",
      "epoch: 08, loss: -0.96735\n",
      "epoch: 09, loss: -0.96868\n",
      "torch.Size([1024, 64])\n"
     ]
    },
    {
     "name": "stderr",
     "output_type": "stream",
     "text": [
      " 53%|█████▎    | 525/999 [10:30:05<8:58:01, 68.10s/it]"
     ]
    },
    {
     "name": "stdout",
     "output_type": "stream",
     "text": [
      "eigenvalues shape torch.Size([5]) eigenvectors shape torch.Size([5, 1024])\n",
      "525 /home/phdcs2/Hard_Disk/Datasets/Deep-Spectral-Segmentation/data/object-segmentation/ECSSD/features/0527_resized.pth\n",
      "dict_keys(['k', 'indices', 'file', 'id', 'model_name', 'patch_size', 'shape'])\n",
      "0527_resized\n"
     ]
    },
    {
     "name": "stderr",
     "output_type": "stream",
     "text": [
      "/home/phdcs2/Hard_Disk/Projects/T2I/deep-spectral-segmentation/venv/lib/python3.8/site-packages/sklearn/decomposition/_pca.py:642: RuntimeWarning: invalid value encountered in divide\n",
      "  self.explained_variance_ratio_ = self.explained_variance_ / total_var\n"
     ]
    },
    {
     "name": "stdout",
     "output_type": "stream",
     "text": [
      "Starting Training\n",
      "epoch: 00, loss: -0.90450\n",
      "epoch: 01, loss: -0.94104\n",
      "epoch: 02, loss: -0.95032\n",
      "epoch: 03, loss: -0.95569\n",
      "epoch: 04, loss: -0.95941\n",
      "epoch: 05, loss: -0.96216\n",
      "epoch: 06, loss: -0.96434\n",
      "epoch: 07, loss: -0.96610\n",
      "epoch: 08, loss: -0.96758\n",
      "epoch: 09, loss: -0.96883\n",
      "torch.Size([1024, 64])\n"
     ]
    },
    {
     "name": "stderr",
     "output_type": "stream",
     "text": [
      " 53%|█████▎    | 526/999 [10:31:12<8:54:18, 67.78s/it]"
     ]
    },
    {
     "name": "stdout",
     "output_type": "stream",
     "text": [
      "eigenvalues shape torch.Size([5]) eigenvectors shape torch.Size([5, 1024])\n",
      "526 /home/phdcs2/Hard_Disk/Datasets/Deep-Spectral-Segmentation/data/object-segmentation/ECSSD/features/0528_resized.pth\n",
      "dict_keys(['k', 'indices', 'file', 'id', 'model_name', 'patch_size', 'shape'])\n",
      "0528_resized\n",
      "Starting Training\n",
      "epoch: 00, loss: -0.87663\n",
      "epoch: 01, loss: -0.92652\n",
      "epoch: 02, loss: -0.93941\n",
      "epoch: 03, loss: -0.94657\n",
      "epoch: 04, loss: -0.95150\n",
      "epoch: 05, loss: -0.95484\n",
      "epoch: 06, loss: -0.95751\n",
      "epoch: 07, loss: -0.95977\n",
      "epoch: 08, loss: -0.96158\n",
      "epoch: 09, loss: -0.96324\n",
      "torch.Size([1024, 64])\n"
     ]
    },
    {
     "name": "stderr",
     "output_type": "stream",
     "text": [
      " 53%|█████▎    | 527/999 [10:32:19<8:49:39, 67.33s/it]"
     ]
    },
    {
     "name": "stdout",
     "output_type": "stream",
     "text": [
      "eigenvalues shape torch.Size([5]) eigenvectors shape torch.Size([5, 1024])\n",
      "527 /home/phdcs2/Hard_Disk/Datasets/Deep-Spectral-Segmentation/data/object-segmentation/ECSSD/features/0529_resized.pth\n",
      "dict_keys(['k', 'indices', 'file', 'id', 'model_name', 'patch_size', 'shape'])\n",
      "0529_resized\n",
      "Starting Training\n",
      "epoch: 00, loss: -0.87280\n",
      "epoch: 01, loss: -0.92257\n",
      "epoch: 02, loss: -0.93537\n",
      "epoch: 03, loss: -0.94256\n",
      "epoch: 04, loss: -0.94750\n",
      "epoch: 05, loss: -0.95115\n",
      "epoch: 06, loss: -0.95394\n",
      "epoch: 07, loss: -0.95622\n",
      "epoch: 08, loss: -0.95808\n",
      "epoch: 09, loss: -0.95972\n",
      "torch.Size([1024, 64])\n"
     ]
    },
    {
     "name": "stderr",
     "output_type": "stream",
     "text": [
      " 53%|█████▎    | 528/999 [10:33:34<9:07:47, 69.78s/it]"
     ]
    },
    {
     "name": "stdout",
     "output_type": "stream",
     "text": [
      "eigenvalues shape torch.Size([5]) eigenvectors shape torch.Size([5, 1024])\n",
      "528 /home/phdcs2/Hard_Disk/Datasets/Deep-Spectral-Segmentation/data/object-segmentation/ECSSD/features/0530_resized.pth\n",
      "dict_keys(['k', 'indices', 'file', 'id', 'model_name', 'patch_size', 'shape'])\n",
      "0530_resized\n"
     ]
    },
    {
     "name": "stderr",
     "output_type": "stream",
     "text": [
      "/home/phdcs2/Hard_Disk/Projects/T2I/deep-spectral-segmentation/venv/lib/python3.8/site-packages/sklearn/decomposition/_pca.py:642: RuntimeWarning: invalid value encountered in divide\n",
      "  self.explained_variance_ratio_ = self.explained_variance_ / total_var\n"
     ]
    },
    {
     "name": "stdout",
     "output_type": "stream",
     "text": [
      "Starting Training\n",
      "epoch: 00, loss: -0.91362\n",
      "epoch: 01, loss: -0.94929\n",
      "epoch: 02, loss: -0.95754\n",
      "epoch: 03, loss: -0.96226\n",
      "epoch: 04, loss: -0.96545\n",
      "epoch: 05, loss: -0.96783\n",
      "epoch: 06, loss: -0.96971\n",
      "epoch: 07, loss: -0.97117\n",
      "epoch: 08, loss: -0.97244\n",
      "epoch: 09, loss: -0.97351\n",
      "torch.Size([1024, 64])\n"
     ]
    },
    {
     "name": "stderr",
     "output_type": "stream",
     "text": [
      " 53%|█████▎    | 529/999 [10:34:50<9:19:58, 71.49s/it]"
     ]
    },
    {
     "name": "stdout",
     "output_type": "stream",
     "text": [
      "eigenvalues shape torch.Size([5]) eigenvectors shape torch.Size([5, 1024])\n",
      "529 /home/phdcs2/Hard_Disk/Datasets/Deep-Spectral-Segmentation/data/object-segmentation/ECSSD/features/0531_resized.pth\n",
      "dict_keys(['k', 'indices', 'file', 'id', 'model_name', 'patch_size', 'shape'])\n",
      "0531_resized\n"
     ]
    },
    {
     "name": "stderr",
     "output_type": "stream",
     "text": [
      "/home/phdcs2/Hard_Disk/Projects/T2I/deep-spectral-segmentation/venv/lib/python3.8/site-packages/sklearn/decomposition/_pca.py:642: RuntimeWarning: invalid value encountered in divide\n",
      "  self.explained_variance_ratio_ = self.explained_variance_ / total_var\n"
     ]
    },
    {
     "name": "stdout",
     "output_type": "stream",
     "text": [
      "Starting Training\n",
      "epoch: 00, loss: -0.91307\n",
      "epoch: 01, loss: -0.94615\n",
      "epoch: 02, loss: -0.95440\n",
      "epoch: 03, loss: -0.95930\n",
      "epoch: 04, loss: -0.96260\n",
      "epoch: 05, loss: -0.96511\n",
      "epoch: 06, loss: -0.96706\n",
      "epoch: 07, loss: -0.96863\n",
      "epoch: 08, loss: -0.96996\n",
      "epoch: 09, loss: -0.97112\n",
      "torch.Size([1024, 64])\n"
     ]
    },
    {
     "name": "stderr",
     "output_type": "stream",
     "text": [
      " 53%|█████▎    | 530/999 [10:36:04<9:25:45, 72.38s/it]"
     ]
    },
    {
     "name": "stdout",
     "output_type": "stream",
     "text": [
      "eigenvalues shape torch.Size([5]) eigenvectors shape torch.Size([5, 1024])\n",
      "530 /home/phdcs2/Hard_Disk/Datasets/Deep-Spectral-Segmentation/data/object-segmentation/ECSSD/features/0532_resized.pth\n",
      "dict_keys(['k', 'indices', 'file', 'id', 'model_name', 'patch_size', 'shape'])\n",
      "0532_resized\n"
     ]
    },
    {
     "name": "stderr",
     "output_type": "stream",
     "text": [
      "/home/phdcs2/Hard_Disk/Projects/T2I/deep-spectral-segmentation/venv/lib/python3.8/site-packages/sklearn/decomposition/_pca.py:642: RuntimeWarning: invalid value encountered in divide\n",
      "  self.explained_variance_ratio_ = self.explained_variance_ / total_var\n"
     ]
    },
    {
     "name": "stdout",
     "output_type": "stream",
     "text": [
      "Starting Training\n",
      "epoch: 00, loss: -0.90476\n",
      "epoch: 01, loss: -0.94072\n",
      "epoch: 02, loss: -0.95057\n",
      "epoch: 03, loss: -0.95630\n",
      "epoch: 04, loss: -0.96018\n",
      "epoch: 05, loss: -0.96310\n",
      "epoch: 06, loss: -0.96536\n",
      "epoch: 07, loss: -0.96720\n",
      "epoch: 08, loss: -0.96871\n",
      "epoch: 09, loss: -0.97001\n",
      "torch.Size([1024, 64])\n"
     ]
    },
    {
     "name": "stderr",
     "output_type": "stream",
     "text": [
      " 53%|█████▎    | 531/999 [10:37:22<9:37:16, 74.01s/it]"
     ]
    },
    {
     "name": "stdout",
     "output_type": "stream",
     "text": [
      "eigenvalues shape torch.Size([5]) eigenvectors shape torch.Size([5, 1024])\n",
      "531 /home/phdcs2/Hard_Disk/Datasets/Deep-Spectral-Segmentation/data/object-segmentation/ECSSD/features/0533_resized.pth\n",
      "dict_keys(['k', 'indices', 'file', 'id', 'model_name', 'patch_size', 'shape'])\n",
      "0533_resized\n",
      "Starting Training\n",
      "epoch: 00, loss: -0.86765\n",
      "epoch: 01, loss: -0.91836\n",
      "epoch: 02, loss: -0.93152\n",
      "epoch: 03, loss: -0.93927\n",
      "epoch: 04, loss: -0.94439\n",
      "epoch: 05, loss: -0.94821\n",
      "epoch: 06, loss: -0.95123\n",
      "epoch: 07, loss: -0.95343\n",
      "epoch: 08, loss: -0.95552\n",
      "epoch: 09, loss: -0.95712\n",
      "torch.Size([1024, 64])\n"
     ]
    },
    {
     "name": "stderr",
     "output_type": "stream",
     "text": [
      " 53%|█████▎    | 532/999 [10:38:32<9:26:39, 72.80s/it]"
     ]
    },
    {
     "name": "stdout",
     "output_type": "stream",
     "text": [
      "eigenvalues shape torch.Size([5]) eigenvectors shape torch.Size([5, 1024])\n",
      "532 /home/phdcs2/Hard_Disk/Datasets/Deep-Spectral-Segmentation/data/object-segmentation/ECSSD/features/0534_resized.pth\n",
      "dict_keys(['k', 'indices', 'file', 'id', 'model_name', 'patch_size', 'shape'])\n",
      "0534_resized\n",
      "Starting Training\n",
      "epoch: 00, loss: -0.85716\n",
      "epoch: 01, loss: -0.91559\n",
      "epoch: 02, loss: -0.93120\n",
      "epoch: 03, loss: -0.93994\n",
      "epoch: 04, loss: -0.94574\n",
      "epoch: 05, loss: -0.95002\n",
      "epoch: 06, loss: -0.95327\n",
      "epoch: 07, loss: -0.95583\n",
      "epoch: 08, loss: -0.95800\n",
      "epoch: 09, loss: -0.95985\n",
      "torch.Size([1024, 64])\n"
     ]
    },
    {
     "name": "stderr",
     "output_type": "stream",
     "text": [
      " 53%|█████▎    | 533/999 [10:39:38<9:10:54, 70.93s/it]"
     ]
    },
    {
     "name": "stdout",
     "output_type": "stream",
     "text": [
      "eigenvalues shape torch.Size([5]) eigenvectors shape torch.Size([5, 1024])\n",
      "533 /home/phdcs2/Hard_Disk/Datasets/Deep-Spectral-Segmentation/data/object-segmentation/ECSSD/features/0535_resized.pth\n",
      "dict_keys(['k', 'indices', 'file', 'id', 'model_name', 'patch_size', 'shape'])\n",
      "0535_resized\n",
      "Starting Training\n",
      "epoch: 00, loss: -0.85631\n",
      "epoch: 01, loss: -0.91460\n",
      "epoch: 02, loss: -0.92860\n",
      "epoch: 03, loss: -0.93679\n",
      "epoch: 04, loss: -0.94217\n",
      "epoch: 05, loss: -0.94633\n",
      "epoch: 06, loss: -0.94958\n",
      "epoch: 07, loss: -0.95209\n",
      "epoch: 08, loss: -0.95424\n",
      "epoch: 09, loss: -0.95597\n",
      "torch.Size([1024, 64])\n"
     ]
    },
    {
     "name": "stderr",
     "output_type": "stream",
     "text": [
      " 53%|█████▎    | 534/999 [10:40:53<9:18:41, 72.09s/it]"
     ]
    },
    {
     "name": "stdout",
     "output_type": "stream",
     "text": [
      "eigenvalues shape torch.Size([5]) eigenvectors shape torch.Size([5, 1024])\n",
      "534 /home/phdcs2/Hard_Disk/Datasets/Deep-Spectral-Segmentation/data/object-segmentation/ECSSD/features/0536_resized.pth\n",
      "dict_keys(['k', 'indices', 'file', 'id', 'model_name', 'patch_size', 'shape'])\n",
      "0536_resized\n"
     ]
    },
    {
     "name": "stderr",
     "output_type": "stream",
     "text": [
      "/home/phdcs2/Hard_Disk/Projects/T2I/deep-spectral-segmentation/venv/lib/python3.8/site-packages/sklearn/decomposition/_pca.py:642: RuntimeWarning: invalid value encountered in divide\n",
      "  self.explained_variance_ratio_ = self.explained_variance_ / total_var\n"
     ]
    },
    {
     "name": "stdout",
     "output_type": "stream",
     "text": [
      "Starting Training\n",
      "epoch: 00, loss: -0.91625\n",
      "epoch: 01, loss: -0.94932\n",
      "epoch: 02, loss: -0.95758\n",
      "epoch: 03, loss: -0.96232\n",
      "epoch: 04, loss: -0.96558\n",
      "epoch: 05, loss: -0.96795\n",
      "epoch: 06, loss: -0.96986\n",
      "epoch: 07, loss: -0.97140\n",
      "epoch: 08, loss: -0.97268\n",
      "epoch: 09, loss: -0.97374\n",
      "torch.Size([1024, 64])\n"
     ]
    },
    {
     "name": "stderr",
     "output_type": "stream",
     "text": [
      " 54%|█████▎    | 535/999 [10:42:05<9:16:20, 71.94s/it]"
     ]
    },
    {
     "name": "stdout",
     "output_type": "stream",
     "text": [
      "eigenvalues shape torch.Size([5]) eigenvectors shape torch.Size([5, 1024])\n",
      "535 /home/phdcs2/Hard_Disk/Datasets/Deep-Spectral-Segmentation/data/object-segmentation/ECSSD/features/0537_resized.pth\n",
      "dict_keys(['k', 'indices', 'file', 'id', 'model_name', 'patch_size', 'shape'])\n",
      "0537_resized\n",
      "Starting Training\n",
      "epoch: 00, loss: -0.87309\n",
      "epoch: 01, loss: -0.92803\n",
      "epoch: 02, loss: -0.94119\n",
      "epoch: 03, loss: -0.94853\n",
      "epoch: 04, loss: -0.95338\n",
      "epoch: 05, loss: -0.95700\n",
      "epoch: 06, loss: -0.95954\n",
      "epoch: 07, loss: -0.96187\n",
      "epoch: 08, loss: -0.96381\n",
      "epoch: 09, loss: -0.96528\n",
      "torch.Size([1024, 64])\n"
     ]
    },
    {
     "name": "stderr",
     "output_type": "stream",
     "text": [
      " 54%|█████▎    | 536/999 [10:43:12<9:04:17, 70.53s/it]"
     ]
    },
    {
     "name": "stdout",
     "output_type": "stream",
     "text": [
      "eigenvalues shape torch.Size([5]) eigenvectors shape torch.Size([5, 1024])\n",
      "536 /home/phdcs2/Hard_Disk/Datasets/Deep-Spectral-Segmentation/data/object-segmentation/ECSSD/features/0538_resized.pth\n",
      "dict_keys(['k', 'indices', 'file', 'id', 'model_name', 'patch_size', 'shape'])\n",
      "0538_resized\n"
     ]
    },
    {
     "name": "stderr",
     "output_type": "stream",
     "text": [
      "/home/phdcs2/Hard_Disk/Projects/T2I/deep-spectral-segmentation/venv/lib/python3.8/site-packages/sklearn/decomposition/_pca.py:642: RuntimeWarning: invalid value encountered in divide\n",
      "  self.explained_variance_ratio_ = self.explained_variance_ / total_var\n"
     ]
    },
    {
     "name": "stdout",
     "output_type": "stream",
     "text": [
      "Starting Training\n",
      "epoch: 00, loss: -0.92224\n",
      "epoch: 01, loss: -0.95230\n",
      "epoch: 02, loss: -0.95980\n",
      "epoch: 03, loss: -0.96414\n",
      "epoch: 04, loss: -0.96713\n",
      "epoch: 05, loss: -0.96927\n",
      "epoch: 06, loss: -0.97102\n",
      "epoch: 07, loss: -0.97242\n",
      "epoch: 08, loss: -0.97358\n",
      "epoch: 09, loss: -0.97457\n",
      "torch.Size([1024, 64])\n"
     ]
    },
    {
     "name": "stderr",
     "output_type": "stream",
     "text": [
      " 54%|█████▍    | 537/999 [10:44:24<9:05:21, 70.83s/it]"
     ]
    },
    {
     "name": "stdout",
     "output_type": "stream",
     "text": [
      "eigenvalues shape torch.Size([5]) eigenvectors shape torch.Size([5, 1024])\n",
      "537 /home/phdcs2/Hard_Disk/Datasets/Deep-Spectral-Segmentation/data/object-segmentation/ECSSD/features/0539_resized.pth\n",
      "dict_keys(['k', 'indices', 'file', 'id', 'model_name', 'patch_size', 'shape'])\n",
      "0539_resized\n"
     ]
    },
    {
     "name": "stderr",
     "output_type": "stream",
     "text": [
      "/home/phdcs2/Hard_Disk/Projects/T2I/deep-spectral-segmentation/venv/lib/python3.8/site-packages/sklearn/decomposition/_pca.py:642: RuntimeWarning: invalid value encountered in divide\n",
      "  self.explained_variance_ratio_ = self.explained_variance_ / total_var\n"
     ]
    },
    {
     "name": "stdout",
     "output_type": "stream",
     "text": [
      "Starting Training\n",
      "epoch: 00, loss: -0.93251\n",
      "epoch: 01, loss: -0.96110\n",
      "epoch: 02, loss: -0.96730\n",
      "epoch: 03, loss: -0.97089\n",
      "epoch: 04, loss: -0.97327\n",
      "epoch: 05, loss: -0.97504\n",
      "epoch: 06, loss: -0.97645\n",
      "epoch: 07, loss: -0.97758\n",
      "epoch: 08, loss: -0.97854\n",
      "epoch: 09, loss: -0.97937\n",
      "torch.Size([1024, 64])\n"
     ]
    },
    {
     "name": "stderr",
     "output_type": "stream",
     "text": [
      " 54%|█████▍    | 538/999 [10:45:34<9:03:27, 70.73s/it]"
     ]
    },
    {
     "name": "stdout",
     "output_type": "stream",
     "text": [
      "eigenvalues shape torch.Size([5]) eigenvectors shape torch.Size([5, 1024])\n",
      "538 /home/phdcs2/Hard_Disk/Datasets/Deep-Spectral-Segmentation/data/object-segmentation/ECSSD/features/0540_resized.pth\n",
      "dict_keys(['k', 'indices', 'file', 'id', 'model_name', 'patch_size', 'shape'])\n",
      "0540_resized\n",
      "Starting Training\n",
      "epoch: 00, loss: -0.91894\n",
      "epoch: 01, loss: -0.95172\n",
      "epoch: 02, loss: -0.95940\n",
      "epoch: 03, loss: -0.96394\n",
      "epoch: 04, loss: -0.96693\n",
      "epoch: 05, loss: -0.96928\n",
      "epoch: 06, loss: -0.97105\n",
      "epoch: 07, loss: -0.97249\n",
      "epoch: 08, loss: -0.97370\n",
      "epoch: 09, loss: -0.97468\n",
      "torch.Size([1024, 64])\n"
     ]
    },
    {
     "name": "stderr",
     "output_type": "stream",
     "text": [
      " 54%|█████▍    | 539/999 [10:46:44<9:01:01, 70.57s/it]"
     ]
    },
    {
     "name": "stdout",
     "output_type": "stream",
     "text": [
      "eigenvalues shape torch.Size([5]) eigenvectors shape torch.Size([5, 1024])\n",
      "539 /home/phdcs2/Hard_Disk/Datasets/Deep-Spectral-Segmentation/data/object-segmentation/ECSSD/features/0541_resized.pth\n",
      "dict_keys(['k', 'indices', 'file', 'id', 'model_name', 'patch_size', 'shape'])\n",
      "0541_resized\n",
      "Starting Training\n",
      "epoch: 00, loss: -0.85884\n",
      "epoch: 01, loss: -0.91751\n",
      "epoch: 02, loss: -0.93257\n",
      "epoch: 03, loss: -0.94113\n",
      "epoch: 04, loss: -0.94661\n",
      "epoch: 05, loss: -0.95069\n",
      "epoch: 06, loss: -0.95378\n",
      "epoch: 07, loss: -0.95640\n",
      "epoch: 08, loss: -0.95846\n",
      "epoch: 09, loss: -0.96030\n",
      "torch.Size([1024, 64])\n"
     ]
    },
    {
     "name": "stderr",
     "output_type": "stream",
     "text": [
      " 54%|█████▍    | 540/999 [10:47:53<8:55:51, 70.05s/it]"
     ]
    },
    {
     "name": "stdout",
     "output_type": "stream",
     "text": [
      "eigenvalues shape torch.Size([5]) eigenvectors shape torch.Size([5, 1024])\n",
      "540 /home/phdcs2/Hard_Disk/Datasets/Deep-Spectral-Segmentation/data/object-segmentation/ECSSD/features/0542_resized.pth\n",
      "dict_keys(['k', 'indices', 'file', 'id', 'model_name', 'patch_size', 'shape'])\n",
      "0542_resized\n",
      "Starting Training\n",
      "epoch: 00, loss: -0.87739\n",
      "epoch: 01, loss: -0.92852\n",
      "epoch: 02, loss: -0.94066\n",
      "epoch: 03, loss: -0.94771\n",
      "epoch: 04, loss: -0.95239\n",
      "epoch: 05, loss: -0.95565\n",
      "epoch: 06, loss: -0.95837\n",
      "epoch: 07, loss: -0.96036\n",
      "epoch: 08, loss: -0.96217\n",
      "epoch: 09, loss: -0.96369\n",
      "torch.Size([1024, 64])\n"
     ]
    },
    {
     "name": "stderr",
     "output_type": "stream",
     "text": [
      " 54%|█████▍    | 541/999 [10:49:03<8:55:07, 70.10s/it]"
     ]
    },
    {
     "name": "stdout",
     "output_type": "stream",
     "text": [
      "eigenvalues shape torch.Size([5]) eigenvectors shape torch.Size([5, 1024])\n",
      "541 /home/phdcs2/Hard_Disk/Datasets/Deep-Spectral-Segmentation/data/object-segmentation/ECSSD/features/0543_resized.pth\n",
      "dict_keys(['k', 'indices', 'file', 'id', 'model_name', 'patch_size', 'shape'])\n",
      "0543_resized\n",
      "Starting Training\n",
      "epoch: 00, loss: -0.86660\n",
      "epoch: 01, loss: -0.92129\n",
      "epoch: 02, loss: -0.93490\n",
      "epoch: 03, loss: -0.94273\n",
      "epoch: 04, loss: -0.94789\n",
      "epoch: 05, loss: -0.95164\n",
      "epoch: 06, loss: -0.95457\n",
      "epoch: 07, loss: -0.95693\n",
      "epoch: 08, loss: -0.95898\n",
      "epoch: 09, loss: -0.96057\n",
      "torch.Size([1024, 64])\n"
     ]
    },
    {
     "name": "stderr",
     "output_type": "stream",
     "text": [
      " 54%|█████▍    | 542/999 [10:50:04<8:33:28, 67.41s/it]"
     ]
    },
    {
     "name": "stdout",
     "output_type": "stream",
     "text": [
      "eigenvalues shape torch.Size([5]) eigenvectors shape torch.Size([5, 1024])\n",
      "542 /home/phdcs2/Hard_Disk/Datasets/Deep-Spectral-Segmentation/data/object-segmentation/ECSSD/features/0544_resized.pth\n",
      "dict_keys(['k', 'indices', 'file', 'id', 'model_name', 'patch_size', 'shape'])\n",
      "0544_resized\n"
     ]
    },
    {
     "name": "stderr",
     "output_type": "stream",
     "text": [
      "/home/phdcs2/Hard_Disk/Projects/T2I/deep-spectral-segmentation/venv/lib/python3.8/site-packages/sklearn/decomposition/_pca.py:642: RuntimeWarning: invalid value encountered in divide\n",
      "  self.explained_variance_ratio_ = self.explained_variance_ / total_var\n"
     ]
    },
    {
     "name": "stdout",
     "output_type": "stream",
     "text": [
      "Starting Training\n",
      "epoch: 00, loss: -0.92023\n",
      "epoch: 01, loss: -0.95297\n",
      "epoch: 02, loss: -0.96008\n",
      "epoch: 03, loss: -0.96420\n",
      "epoch: 04, loss: -0.96705\n",
      "epoch: 05, loss: -0.96919\n",
      "epoch: 06, loss: -0.97086\n",
      "epoch: 07, loss: -0.97223\n",
      "epoch: 08, loss: -0.97336\n",
      "epoch: 09, loss: -0.97435\n",
      "torch.Size([1024, 64])\n"
     ]
    },
    {
     "name": "stderr",
     "output_type": "stream",
     "text": [
      " 54%|█████▍    | 543/999 [10:51:10<8:27:31, 66.78s/it]"
     ]
    },
    {
     "name": "stdout",
     "output_type": "stream",
     "text": [
      "eigenvalues shape torch.Size([5]) eigenvectors shape torch.Size([5, 1024])\n",
      "543 /home/phdcs2/Hard_Disk/Datasets/Deep-Spectral-Segmentation/data/object-segmentation/ECSSD/features/0545_resized.pth\n",
      "dict_keys(['k', 'indices', 'file', 'id', 'model_name', 'patch_size', 'shape'])\n",
      "0545_resized\n"
     ]
    },
    {
     "name": "stderr",
     "output_type": "stream",
     "text": [
      "/home/phdcs2/Hard_Disk/Projects/T2I/deep-spectral-segmentation/venv/lib/python3.8/site-packages/sklearn/decomposition/_pca.py:642: RuntimeWarning: invalid value encountered in divide\n",
      "  self.explained_variance_ratio_ = self.explained_variance_ / total_var\n"
     ]
    },
    {
     "name": "stdout",
     "output_type": "stream",
     "text": [
      "Starting Training\n",
      "epoch: 00, loss: -0.90911\n",
      "epoch: 01, loss: -0.94205\n",
      "epoch: 02, loss: -0.95070\n",
      "epoch: 03, loss: -0.95582\n",
      "epoch: 04, loss: -0.95936\n",
      "epoch: 05, loss: -0.96202\n",
      "epoch: 06, loss: -0.96412\n",
      "epoch: 07, loss: -0.96585\n",
      "epoch: 08, loss: -0.96728\n",
      "epoch: 09, loss: -0.96854\n",
      "torch.Size([1024, 64])\n"
     ]
    },
    {
     "name": "stderr",
     "output_type": "stream",
     "text": [
      " 54%|█████▍    | 544/999 [10:52:13<8:18:02, 65.68s/it]"
     ]
    },
    {
     "name": "stdout",
     "output_type": "stream",
     "text": [
      "eigenvalues shape torch.Size([5]) eigenvectors shape torch.Size([5, 1024])\n",
      "544 /home/phdcs2/Hard_Disk/Datasets/Deep-Spectral-Segmentation/data/object-segmentation/ECSSD/features/0546_resized.pth\n",
      "dict_keys(['k', 'indices', 'file', 'id', 'model_name', 'patch_size', 'shape'])\n",
      "0546_resized\n"
     ]
    },
    {
     "name": "stderr",
     "output_type": "stream",
     "text": [
      "/home/phdcs2/Hard_Disk/Projects/T2I/deep-spectral-segmentation/venv/lib/python3.8/site-packages/sklearn/decomposition/_pca.py:642: RuntimeWarning: invalid value encountered in divide\n",
      "  self.explained_variance_ratio_ = self.explained_variance_ / total_var\n"
     ]
    },
    {
     "name": "stdout",
     "output_type": "stream",
     "text": [
      "Starting Training\n",
      "epoch: 00, loss: -0.92463\n",
      "epoch: 01, loss: -0.95359\n",
      "epoch: 02, loss: -0.96072\n",
      "epoch: 03, loss: -0.96487\n",
      "epoch: 04, loss: -0.96771\n",
      "epoch: 05, loss: -0.96983\n",
      "epoch: 06, loss: -0.97148\n",
      "epoch: 07, loss: -0.97284\n",
      "epoch: 08, loss: -0.97395\n",
      "epoch: 09, loss: -0.97493\n",
      "torch.Size([1024, 64])\n"
     ]
    },
    {
     "name": "stderr",
     "output_type": "stream",
     "text": [
      " 55%|█████▍    | 545/999 [10:53:15<8:09:02, 64.63s/it]"
     ]
    },
    {
     "name": "stdout",
     "output_type": "stream",
     "text": [
      "eigenvalues shape torch.Size([5]) eigenvectors shape torch.Size([5, 1024])\n",
      "545 /home/phdcs2/Hard_Disk/Datasets/Deep-Spectral-Segmentation/data/object-segmentation/ECSSD/features/0547_resized.pth\n",
      "dict_keys(['k', 'indices', 'file', 'id', 'model_name', 'patch_size', 'shape'])\n",
      "0547_resized\n",
      "Starting Training\n",
      "epoch: 00, loss: -0.85776\n",
      "epoch: 01, loss: -0.91777\n",
      "epoch: 02, loss: -0.93244\n",
      "epoch: 03, loss: -0.94073\n",
      "epoch: 04, loss: -0.94634\n",
      "epoch: 05, loss: -0.95043\n",
      "epoch: 06, loss: -0.95381\n",
      "epoch: 07, loss: -0.95630\n",
      "epoch: 08, loss: -0.95844\n",
      "epoch: 09, loss: -0.96028\n",
      "torch.Size([1024, 64])\n"
     ]
    },
    {
     "name": "stderr",
     "output_type": "stream",
     "text": [
      " 55%|█████▍    | 546/999 [10:54:15<7:57:34, 63.25s/it]"
     ]
    },
    {
     "name": "stdout",
     "output_type": "stream",
     "text": [
      "eigenvalues shape torch.Size([5]) eigenvectors shape torch.Size([5, 1024])\n",
      "546 /home/phdcs2/Hard_Disk/Datasets/Deep-Spectral-Segmentation/data/object-segmentation/ECSSD/features/0548_resized.pth\n",
      "dict_keys(['k', 'indices', 'file', 'id', 'model_name', 'patch_size', 'shape'])\n",
      "0548_resized\n",
      "Starting Training\n",
      "epoch: 00, loss: -0.92018\n",
      "epoch: 01, loss: -0.95222\n",
      "epoch: 02, loss: -0.96009\n",
      "epoch: 03, loss: -0.96467\n",
      "epoch: 04, loss: -0.96781\n",
      "epoch: 05, loss: -0.97010\n",
      "epoch: 06, loss: -0.97191\n",
      "epoch: 07, loss: -0.97339\n",
      "epoch: 08, loss: -0.97462\n",
      "epoch: 09, loss: -0.97565\n",
      "torch.Size([1024, 64])\n"
     ]
    },
    {
     "name": "stderr",
     "output_type": "stream",
     "text": [
      " 55%|█████▍    | 547/999 [10:55:10<7:36:33, 60.60s/it]"
     ]
    },
    {
     "name": "stdout",
     "output_type": "stream",
     "text": [
      "eigenvalues shape torch.Size([5]) eigenvectors shape torch.Size([5, 1024])\n",
      "547 /home/phdcs2/Hard_Disk/Datasets/Deep-Spectral-Segmentation/data/object-segmentation/ECSSD/features/0549_resized.pth\n",
      "dict_keys(['k', 'indices', 'file', 'id', 'model_name', 'patch_size', 'shape'])\n",
      "0549_resized\n"
     ]
    },
    {
     "name": "stderr",
     "output_type": "stream",
     "text": [
      "/home/phdcs2/Hard_Disk/Projects/T2I/deep-spectral-segmentation/venv/lib/python3.8/site-packages/sklearn/decomposition/_pca.py:642: RuntimeWarning: invalid value encountered in divide\n",
      "  self.explained_variance_ratio_ = self.explained_variance_ / total_var\n"
     ]
    },
    {
     "name": "stdout",
     "output_type": "stream",
     "text": [
      "Starting Training\n",
      "epoch: 00, loss: -0.92190\n",
      "epoch: 01, loss: -0.95444\n",
      "epoch: 02, loss: -0.96146\n",
      "epoch: 03, loss: -0.96554\n",
      "epoch: 04, loss: -0.96835\n",
      "epoch: 05, loss: -0.97045\n",
      "epoch: 06, loss: -0.97210\n",
      "epoch: 07, loss: -0.97344\n",
      "epoch: 08, loss: -0.97453\n",
      "epoch: 09, loss: -0.97551\n",
      "torch.Size([1024, 64])\n"
     ]
    },
    {
     "name": "stderr",
     "output_type": "stream",
     "text": [
      " 55%|█████▍    | 548/999 [10:56:15<7:46:49, 62.11s/it]"
     ]
    },
    {
     "name": "stdout",
     "output_type": "stream",
     "text": [
      "eigenvalues shape torch.Size([5]) eigenvectors shape torch.Size([5, 1024])\n",
      "548 /home/phdcs2/Hard_Disk/Datasets/Deep-Spectral-Segmentation/data/object-segmentation/ECSSD/features/0550_resized.pth\n",
      "dict_keys(['k', 'indices', 'file', 'id', 'model_name', 'patch_size', 'shape'])\n",
      "0550_resized\n"
     ]
    },
    {
     "name": "stderr",
     "output_type": "stream",
     "text": [
      "/home/phdcs2/Hard_Disk/Projects/T2I/deep-spectral-segmentation/venv/lib/python3.8/site-packages/sklearn/decomposition/_pca.py:642: RuntimeWarning: invalid value encountered in divide\n",
      "  self.explained_variance_ratio_ = self.explained_variance_ / total_var\n"
     ]
    },
    {
     "name": "stdout",
     "output_type": "stream",
     "text": [
      "Starting Training\n",
      "epoch: 00, loss: -0.93106\n",
      "epoch: 01, loss: -0.95749\n",
      "epoch: 02, loss: -0.96438\n",
      "epoch: 03, loss: -0.96844\n",
      "epoch: 04, loss: -0.97113\n",
      "epoch: 05, loss: -0.97320\n",
      "epoch: 06, loss: -0.97479\n",
      "epoch: 07, loss: -0.97608\n",
      "epoch: 08, loss: -0.97718\n",
      "epoch: 09, loss: -0.97810\n",
      "torch.Size([1024, 64])\n"
     ]
    },
    {
     "name": "stderr",
     "output_type": "stream",
     "text": [
      " 55%|█████▍    | 549/999 [10:57:29<8:11:49, 65.58s/it]"
     ]
    },
    {
     "name": "stdout",
     "output_type": "stream",
     "text": [
      "eigenvalues shape torch.Size([5]) eigenvectors shape torch.Size([5, 1024])\n",
      "549 /home/phdcs2/Hard_Disk/Datasets/Deep-Spectral-Segmentation/data/object-segmentation/ECSSD/features/0551_resized.pth\n",
      "dict_keys(['k', 'indices', 'file', 'id', 'model_name', 'patch_size', 'shape'])\n",
      "0551_resized\n",
      "Starting Training\n",
      "epoch: 00, loss: -0.88092\n",
      "epoch: 01, loss: -0.93085\n",
      "epoch: 02, loss: -0.94291\n",
      "epoch: 03, loss: -0.94962\n",
      "epoch: 04, loss: -0.95425\n",
      "epoch: 05, loss: -0.95744\n",
      "epoch: 06, loss: -0.96003\n",
      "epoch: 07, loss: -0.96216\n",
      "epoch: 08, loss: -0.96393\n",
      "epoch: 09, loss: -0.96533\n",
      "torch.Size([1024, 64])\n"
     ]
    },
    {
     "name": "stderr",
     "output_type": "stream",
     "text": [
      " 55%|█████▌    | 550/999 [10:58:43<8:30:08, 68.17s/it]"
     ]
    },
    {
     "name": "stdout",
     "output_type": "stream",
     "text": [
      "eigenvalues shape torch.Size([5]) eigenvectors shape torch.Size([5, 1024])\n",
      "550 /home/phdcs2/Hard_Disk/Datasets/Deep-Spectral-Segmentation/data/object-segmentation/ECSSD/features/0552_resized.pth\n",
      "dict_keys(['k', 'indices', 'file', 'id', 'model_name', 'patch_size', 'shape'])\n",
      "0552_resized\n"
     ]
    },
    {
     "name": "stderr",
     "output_type": "stream",
     "text": [
      "/home/phdcs2/Hard_Disk/Projects/T2I/deep-spectral-segmentation/venv/lib/python3.8/site-packages/sklearn/decomposition/_pca.py:642: RuntimeWarning: invalid value encountered in divide\n",
      "  self.explained_variance_ratio_ = self.explained_variance_ / total_var\n"
     ]
    },
    {
     "name": "stdout",
     "output_type": "stream",
     "text": [
      "Starting Training\n",
      "epoch: 00, loss: -0.94619\n",
      "epoch: 01, loss: -0.96826\n",
      "epoch: 02, loss: -0.97285\n",
      "epoch: 03, loss: -0.97552\n",
      "epoch: 04, loss: -0.97738\n",
      "epoch: 05, loss: -0.97878\n",
      "epoch: 06, loss: -0.97986\n",
      "epoch: 07, loss: -0.98077\n",
      "epoch: 08, loss: -0.98154\n",
      "epoch: 09, loss: -0.98218\n",
      "torch.Size([1024, 64])\n"
     ]
    },
    {
     "name": "stderr",
     "output_type": "stream",
     "text": [
      " 55%|█████▌    | 551/999 [10:59:54<8:34:56, 68.97s/it]"
     ]
    },
    {
     "name": "stdout",
     "output_type": "stream",
     "text": [
      "eigenvalues shape torch.Size([5]) eigenvectors shape torch.Size([5, 1024])\n",
      "551 /home/phdcs2/Hard_Disk/Datasets/Deep-Spectral-Segmentation/data/object-segmentation/ECSSD/features/0553_resized.pth\n",
      "dict_keys(['k', 'indices', 'file', 'id', 'model_name', 'patch_size', 'shape'])\n",
      "0553_resized\n",
      "Starting Training\n",
      "epoch: 00, loss: -0.88366\n",
      "epoch: 01, loss: -0.92717\n",
      "epoch: 02, loss: -0.93933\n",
      "epoch: 03, loss: -0.94644\n",
      "epoch: 04, loss: -0.95107\n",
      "epoch: 05, loss: -0.95458\n",
      "epoch: 06, loss: -0.95731\n",
      "epoch: 07, loss: -0.95957\n",
      "epoch: 08, loss: -0.96136\n",
      "epoch: 09, loss: -0.96292\n",
      "torch.Size([1024, 64])\n"
     ]
    },
    {
     "name": "stderr",
     "output_type": "stream",
     "text": [
      " 55%|█████▌    | 552/999 [11:01:07<8:42:15, 70.10s/it]"
     ]
    },
    {
     "name": "stdout",
     "output_type": "stream",
     "text": [
      "eigenvalues shape torch.Size([5]) eigenvectors shape torch.Size([5, 1024])\n",
      "552 /home/phdcs2/Hard_Disk/Datasets/Deep-Spectral-Segmentation/data/object-segmentation/ECSSD/features/0554_resized.pth\n",
      "dict_keys(['k', 'indices', 'file', 'id', 'model_name', 'patch_size', 'shape'])\n",
      "0554_resized\n",
      "Starting Training\n",
      "epoch: 00, loss: -0.91909\n",
      "epoch: 01, loss: -0.95068\n",
      "epoch: 02, loss: -0.95795\n",
      "epoch: 03, loss: -0.96221\n",
      "epoch: 04, loss: -0.96517\n",
      "epoch: 05, loss: -0.96734\n",
      "epoch: 06, loss: -0.96909\n",
      "epoch: 07, loss: -0.97052\n",
      "epoch: 08, loss: -0.97172\n",
      "epoch: 09, loss: -0.97277\n",
      "torch.Size([1024, 64])\n"
     ]
    },
    {
     "name": "stderr",
     "output_type": "stream",
     "text": [
      " 55%|█████▌    | 553/999 [11:02:20<8:47:29, 70.96s/it]"
     ]
    },
    {
     "name": "stdout",
     "output_type": "stream",
     "text": [
      "eigenvalues shape torch.Size([5]) eigenvectors shape torch.Size([5, 1024])\n",
      "553 /home/phdcs2/Hard_Disk/Datasets/Deep-Spectral-Segmentation/data/object-segmentation/ECSSD/features/0555_resized.pth\n",
      "dict_keys(['k', 'indices', 'file', 'id', 'model_name', 'patch_size', 'shape'])\n",
      "0555_resized\n"
     ]
    },
    {
     "name": "stderr",
     "output_type": "stream",
     "text": [
      "/home/phdcs2/Hard_Disk/Projects/T2I/deep-spectral-segmentation/venv/lib/python3.8/site-packages/sklearn/decomposition/_pca.py:642: RuntimeWarning: invalid value encountered in divide\n",
      "  self.explained_variance_ratio_ = self.explained_variance_ / total_var\n"
     ]
    },
    {
     "name": "stdout",
     "output_type": "stream",
     "text": [
      "Starting Training\n",
      "epoch: 00, loss: -0.93343\n",
      "epoch: 01, loss: -0.95968\n",
      "epoch: 02, loss: -0.96597\n",
      "epoch: 03, loss: -0.96955\n",
      "epoch: 04, loss: -0.97203\n",
      "epoch: 05, loss: -0.97385\n",
      "epoch: 06, loss: -0.97531\n",
      "epoch: 07, loss: -0.97649\n",
      "epoch: 08, loss: -0.97745\n",
      "epoch: 09, loss: -0.97828\n",
      "torch.Size([1024, 64])\n"
     ]
    },
    {
     "name": "stderr",
     "output_type": "stream",
     "text": [
      " 55%|█████▌    | 554/999 [11:03:24<8:30:50, 68.88s/it]"
     ]
    },
    {
     "name": "stdout",
     "output_type": "stream",
     "text": [
      "eigenvalues shape torch.Size([5]) eigenvectors shape torch.Size([5, 1024])\n",
      "554 /home/phdcs2/Hard_Disk/Datasets/Deep-Spectral-Segmentation/data/object-segmentation/ECSSD/features/0556_resized.pth\n",
      "dict_keys(['k', 'indices', 'file', 'id', 'model_name', 'patch_size', 'shape'])\n",
      "0556_resized\n"
     ]
    },
    {
     "name": "stderr",
     "output_type": "stream",
     "text": [
      "/home/phdcs2/Hard_Disk/Projects/T2I/deep-spectral-segmentation/venv/lib/python3.8/site-packages/sklearn/decomposition/_pca.py:642: RuntimeWarning: invalid value encountered in divide\n",
      "  self.explained_variance_ratio_ = self.explained_variance_ / total_var\n"
     ]
    },
    {
     "name": "stdout",
     "output_type": "stream",
     "text": [
      "Starting Training\n",
      "epoch: 00, loss: -0.91356\n",
      "epoch: 01, loss: -0.94631\n",
      "epoch: 02, loss: -0.95446\n",
      "epoch: 03, loss: -0.95918\n",
      "epoch: 04, loss: -0.96239\n",
      "epoch: 05, loss: -0.96480\n",
      "epoch: 06, loss: -0.96670\n",
      "epoch: 07, loss: -0.96821\n",
      "epoch: 08, loss: -0.96952\n",
      "epoch: 09, loss: -0.97060\n",
      "torch.Size([1024, 64])\n"
     ]
    },
    {
     "name": "stderr",
     "output_type": "stream",
     "text": [
      " 56%|█████▌    | 555/999 [11:04:37<8:39:17, 70.17s/it]"
     ]
    },
    {
     "name": "stdout",
     "output_type": "stream",
     "text": [
      "eigenvalues shape torch.Size([5]) eigenvectors shape torch.Size([5, 1024])\n",
      "555 /home/phdcs2/Hard_Disk/Datasets/Deep-Spectral-Segmentation/data/object-segmentation/ECSSD/features/0557_resized.pth\n",
      "dict_keys(['k', 'indices', 'file', 'id', 'model_name', 'patch_size', 'shape'])\n",
      "0557_resized\n",
      "Starting Training\n",
      "epoch: 00, loss: -0.89976\n",
      "epoch: 01, loss: -0.93837\n",
      "epoch: 02, loss: -0.94808\n",
      "epoch: 03, loss: -0.95373\n",
      "epoch: 04, loss: -0.95763\n",
      "epoch: 05, loss: -0.96044\n",
      "epoch: 06, loss: -0.96270\n",
      "epoch: 07, loss: -0.96454\n",
      "epoch: 08, loss: -0.96604\n",
      "epoch: 09, loss: -0.96738\n",
      "torch.Size([1024, 64])\n"
     ]
    },
    {
     "name": "stderr",
     "output_type": "stream",
     "text": [
      " 56%|█████▌    | 556/999 [11:05:50<8:44:10, 70.99s/it]"
     ]
    },
    {
     "name": "stdout",
     "output_type": "stream",
     "text": [
      "eigenvalues shape torch.Size([5]) eigenvectors shape torch.Size([5, 1024])\n",
      "556 /home/phdcs2/Hard_Disk/Datasets/Deep-Spectral-Segmentation/data/object-segmentation/ECSSD/features/0558_resized.pth\n",
      "dict_keys(['k', 'indices', 'file', 'id', 'model_name', 'patch_size', 'shape'])\n",
      "0558_resized\n",
      "Starting Training\n",
      "epoch: 00, loss: -0.86553\n",
      "epoch: 01, loss: -0.91955\n",
      "epoch: 02, loss: -0.93359\n",
      "epoch: 03, loss: -0.94156\n",
      "epoch: 04, loss: -0.94682\n",
      "epoch: 05, loss: -0.95067\n",
      "epoch: 06, loss: -0.95380\n",
      "epoch: 07, loss: -0.95620\n",
      "epoch: 08, loss: -0.95827\n",
      "epoch: 09, loss: -0.95991\n",
      "torch.Size([1024, 64])\n"
     ]
    },
    {
     "name": "stderr",
     "output_type": "stream",
     "text": [
      " 56%|█████▌    | 557/999 [11:07:03<8:47:20, 71.58s/it]"
     ]
    },
    {
     "name": "stdout",
     "output_type": "stream",
     "text": [
      "eigenvalues shape torch.Size([5]) eigenvectors shape torch.Size([5, 1024])\n",
      "557 /home/phdcs2/Hard_Disk/Datasets/Deep-Spectral-Segmentation/data/object-segmentation/ECSSD/features/0559_resized.pth\n",
      "dict_keys(['k', 'indices', 'file', 'id', 'model_name', 'patch_size', 'shape'])\n",
      "0559_resized\n"
     ]
    },
    {
     "name": "stderr",
     "output_type": "stream",
     "text": [
      "/home/phdcs2/Hard_Disk/Projects/T2I/deep-spectral-segmentation/venv/lib/python3.8/site-packages/sklearn/decomposition/_pca.py:642: RuntimeWarning: invalid value encountered in divide\n",
      "  self.explained_variance_ratio_ = self.explained_variance_ / total_var\n"
     ]
    },
    {
     "name": "stdout",
     "output_type": "stream",
     "text": [
      "Starting Training\n",
      "epoch: 00, loss: -0.92216\n",
      "epoch: 01, loss: -0.95306\n",
      "epoch: 02, loss: -0.96033\n",
      "epoch: 03, loss: -0.96446\n",
      "epoch: 04, loss: -0.96737\n",
      "epoch: 05, loss: -0.96947\n",
      "epoch: 06, loss: -0.97112\n",
      "epoch: 07, loss: -0.97250\n",
      "epoch: 08, loss: -0.97365\n",
      "epoch: 09, loss: -0.97463\n",
      "torch.Size([1024, 64])\n"
     ]
    },
    {
     "name": "stderr",
     "output_type": "stream",
     "text": [
      " 56%|█████▌    | 558/999 [11:08:15<8:47:42, 71.80s/it]"
     ]
    },
    {
     "name": "stdout",
     "output_type": "stream",
     "text": [
      "eigenvalues shape torch.Size([5]) eigenvectors shape torch.Size([5, 1024])\n",
      "558 /home/phdcs2/Hard_Disk/Datasets/Deep-Spectral-Segmentation/data/object-segmentation/ECSSD/features/0560_resized.pth\n",
      "dict_keys(['k', 'indices', 'file', 'id', 'model_name', 'patch_size', 'shape'])\n",
      "0560_resized\n",
      "Starting Training\n",
      "epoch: 00, loss: -0.85977\n",
      "epoch: 01, loss: -0.91671\n",
      "epoch: 02, loss: -0.93173\n",
      "epoch: 03, loss: -0.94001\n",
      "epoch: 04, loss: -0.94565\n",
      "epoch: 05, loss: -0.94986\n",
      "epoch: 06, loss: -0.95301\n",
      "epoch: 07, loss: -0.95571\n",
      "epoch: 08, loss: -0.95779\n",
      "epoch: 09, loss: -0.95955\n",
      "torch.Size([1024, 64])\n"
     ]
    },
    {
     "name": "stderr",
     "output_type": "stream",
     "text": [
      " 56%|█████▌    | 559/999 [11:09:24<8:41:13, 71.08s/it]"
     ]
    },
    {
     "name": "stdout",
     "output_type": "stream",
     "text": [
      "eigenvalues shape torch.Size([5]) eigenvectors shape torch.Size([5, 1024])\n",
      "559 /home/phdcs2/Hard_Disk/Datasets/Deep-Spectral-Segmentation/data/object-segmentation/ECSSD/features/0561_resized.pth\n",
      "dict_keys(['k', 'indices', 'file', 'id', 'model_name', 'patch_size', 'shape'])\n",
      "0561_resized\n"
     ]
    },
    {
     "name": "stderr",
     "output_type": "stream",
     "text": [
      "/home/phdcs2/Hard_Disk/Projects/T2I/deep-spectral-segmentation/venv/lib/python3.8/site-packages/sklearn/decomposition/_pca.py:642: RuntimeWarning: invalid value encountered in divide\n",
      "  self.explained_variance_ratio_ = self.explained_variance_ / total_var\n"
     ]
    },
    {
     "name": "stdout",
     "output_type": "stream",
     "text": [
      "Starting Training\n",
      "epoch: 00, loss: -0.91928\n",
      "epoch: 01, loss: -0.95199\n",
      "epoch: 02, loss: -0.95971\n",
      "epoch: 03, loss: -0.96419\n",
      "epoch: 04, loss: -0.96728\n",
      "epoch: 05, loss: -0.96954\n",
      "epoch: 06, loss: -0.97131\n",
      "epoch: 07, loss: -0.97276\n",
      "epoch: 08, loss: -0.97395\n",
      "epoch: 09, loss: -0.97499\n",
      "torch.Size([1024, 64])\n"
     ]
    },
    {
     "name": "stderr",
     "output_type": "stream",
     "text": [
      " 56%|█████▌    | 560/999 [11:10:29<8:25:49, 69.13s/it]"
     ]
    },
    {
     "name": "stdout",
     "output_type": "stream",
     "text": [
      "eigenvalues shape torch.Size([5]) eigenvectors shape torch.Size([5, 1024])\n",
      "560 /home/phdcs2/Hard_Disk/Datasets/Deep-Spectral-Segmentation/data/object-segmentation/ECSSD/features/0562_resized.pth\n",
      "dict_keys(['k', 'indices', 'file', 'id', 'model_name', 'patch_size', 'shape'])\n",
      "0562_resized\n"
     ]
    },
    {
     "name": "stderr",
     "output_type": "stream",
     "text": [
      "/home/phdcs2/Hard_Disk/Projects/T2I/deep-spectral-segmentation/venv/lib/python3.8/site-packages/sklearn/decomposition/_pca.py:642: RuntimeWarning: invalid value encountered in divide\n",
      "  self.explained_variance_ratio_ = self.explained_variance_ / total_var\n"
     ]
    },
    {
     "name": "stdout",
     "output_type": "stream",
     "text": [
      "Starting Training\n",
      "epoch: 00, loss: -0.93298\n",
      "epoch: 01, loss: -0.96187\n",
      "epoch: 02, loss: -0.96801\n",
      "epoch: 03, loss: -0.97157\n",
      "epoch: 04, loss: -0.97400\n",
      "epoch: 05, loss: -0.97581\n",
      "epoch: 06, loss: -0.97723\n",
      "epoch: 07, loss: -0.97839\n",
      "epoch: 08, loss: -0.97935\n",
      "epoch: 09, loss: -0.98018\n",
      "torch.Size([1024, 64])\n"
     ]
    },
    {
     "name": "stderr",
     "output_type": "stream",
     "text": [
      " 56%|█████▌    | 561/999 [11:11:39<8:26:16, 69.35s/it]"
     ]
    },
    {
     "name": "stdout",
     "output_type": "stream",
     "text": [
      "eigenvalues shape torch.Size([5]) eigenvectors shape torch.Size([5, 1024])\n",
      "561 /home/phdcs2/Hard_Disk/Datasets/Deep-Spectral-Segmentation/data/object-segmentation/ECSSD/features/0563_resized.pth\n",
      "dict_keys(['k', 'indices', 'file', 'id', 'model_name', 'patch_size', 'shape'])\n",
      "0563_resized\n",
      "Starting Training\n",
      "epoch: 00, loss: -0.90070\n",
      "epoch: 01, loss: -0.94079\n",
      "epoch: 02, loss: -0.95068\n",
      "epoch: 03, loss: -0.95634\n",
      "epoch: 04, loss: -0.96030\n",
      "epoch: 05, loss: -0.96305\n",
      "epoch: 06, loss: -0.96545\n",
      "epoch: 07, loss: -0.96720\n",
      "epoch: 08, loss: -0.96875\n",
      "epoch: 09, loss: -0.97008\n",
      "torch.Size([1024, 64])\n"
     ]
    },
    {
     "name": "stderr",
     "output_type": "stream",
     "text": [
      " 56%|█████▋    | 562/999 [11:12:49<8:26:34, 69.55s/it]"
     ]
    },
    {
     "name": "stdout",
     "output_type": "stream",
     "text": [
      "eigenvalues shape torch.Size([5]) eigenvectors shape torch.Size([5, 1024])\n",
      "562 /home/phdcs2/Hard_Disk/Datasets/Deep-Spectral-Segmentation/data/object-segmentation/ECSSD/features/0564_resized.pth\n",
      "dict_keys(['k', 'indices', 'file', 'id', 'model_name', 'patch_size', 'shape'])\n",
      "0564_resized\n",
      "Starting Training\n",
      "epoch: 00, loss: -0.88749\n",
      "epoch: 01, loss: -0.93098\n",
      "epoch: 02, loss: -0.94228\n",
      "epoch: 03, loss: -0.94909\n",
      "epoch: 04, loss: -0.95367\n",
      "epoch: 05, loss: -0.95694\n",
      "epoch: 06, loss: -0.95951\n",
      "epoch: 07, loss: -0.96160\n",
      "epoch: 08, loss: -0.96332\n",
      "epoch: 09, loss: -0.96485\n",
      "torch.Size([1024, 64])\n"
     ]
    },
    {
     "name": "stderr",
     "output_type": "stream",
     "text": [
      " 56%|█████▋    | 563/999 [11:13:52<8:11:01, 67.57s/it]"
     ]
    },
    {
     "name": "stdout",
     "output_type": "stream",
     "text": [
      "eigenvalues shape torch.Size([5]) eigenvectors shape torch.Size([5, 1024])\n",
      "563 /home/phdcs2/Hard_Disk/Datasets/Deep-Spectral-Segmentation/data/object-segmentation/ECSSD/features/0565_resized.pth\n",
      "dict_keys(['k', 'indices', 'file', 'id', 'model_name', 'patch_size', 'shape'])\n",
      "0565_resized\n",
      "Starting Training\n",
      "epoch: 00, loss: -0.87238\n",
      "epoch: 01, loss: -0.92530\n",
      "epoch: 02, loss: -0.93879\n",
      "epoch: 03, loss: -0.94632\n",
      "epoch: 04, loss: -0.95149\n",
      "epoch: 05, loss: -0.95520\n",
      "epoch: 06, loss: -0.95809\n",
      "epoch: 07, loss: -0.96034\n",
      "epoch: 08, loss: -0.96223\n",
      "epoch: 09, loss: -0.96389\n",
      "torch.Size([1024, 64])\n"
     ]
    },
    {
     "name": "stderr",
     "output_type": "stream",
     "text": [
      " 56%|█████▋    | 564/999 [11:14:55<7:59:50, 66.19s/it]"
     ]
    },
    {
     "name": "stdout",
     "output_type": "stream",
     "text": [
      "eigenvalues shape torch.Size([5]) eigenvectors shape torch.Size([5, 1024])\n",
      "564 /home/phdcs2/Hard_Disk/Datasets/Deep-Spectral-Segmentation/data/object-segmentation/ECSSD/features/0566_resized.pth\n",
      "dict_keys(['k', 'indices', 'file', 'id', 'model_name', 'patch_size', 'shape'])\n",
      "0566_resized\n",
      "Starting Training\n",
      "epoch: 00, loss: -0.84225\n",
      "epoch: 01, loss: -0.90395\n",
      "epoch: 02, loss: -0.92088\n",
      "epoch: 03, loss: -0.93070\n",
      "epoch: 04, loss: -0.93715\n",
      "epoch: 05, loss: -0.94220\n",
      "epoch: 06, loss: -0.94582\n",
      "epoch: 07, loss: -0.94887\n",
      "epoch: 08, loss: -0.95129\n",
      "epoch: 09, loss: -0.95341\n",
      "torch.Size([1024, 64])\n"
     ]
    },
    {
     "name": "stderr",
     "output_type": "stream",
     "text": [
      " 57%|█████▋    | 565/999 [11:16:05<8:08:23, 67.52s/it]"
     ]
    },
    {
     "name": "stdout",
     "output_type": "stream",
     "text": [
      "eigenvalues shape torch.Size([5]) eigenvectors shape torch.Size([5, 1024])\n",
      "565 /home/phdcs2/Hard_Disk/Datasets/Deep-Spectral-Segmentation/data/object-segmentation/ECSSD/features/0567_resized.pth\n",
      "dict_keys(['k', 'indices', 'file', 'id', 'model_name', 'patch_size', 'shape'])\n",
      "0567_resized\n",
      "Starting Training\n",
      "epoch: 00, loss: -0.94206\n",
      "epoch: 01, loss: -0.96693\n",
      "epoch: 02, loss: -0.97213\n",
      "epoch: 03, loss: -0.97513\n",
      "epoch: 04, loss: -0.97721\n",
      "epoch: 05, loss: -0.97873\n",
      "epoch: 06, loss: -0.97996\n",
      "epoch: 07, loss: -0.98093\n",
      "epoch: 08, loss: -0.98176\n",
      "epoch: 09, loss: -0.98245\n",
      "torch.Size([1024, 64])\n"
     ]
    },
    {
     "name": "stderr",
     "output_type": "stream",
     "text": [
      " 57%|█████▋    | 566/999 [11:17:10<8:02:04, 66.80s/it]"
     ]
    },
    {
     "name": "stdout",
     "output_type": "stream",
     "text": [
      "eigenvalues shape torch.Size([5]) eigenvectors shape torch.Size([5, 1024])\n",
      "566 /home/phdcs2/Hard_Disk/Datasets/Deep-Spectral-Segmentation/data/object-segmentation/ECSSD/features/0568_resized.pth\n",
      "dict_keys(['k', 'indices', 'file', 'id', 'model_name', 'patch_size', 'shape'])\n",
      "0568_resized\n"
     ]
    },
    {
     "name": "stderr",
     "output_type": "stream",
     "text": [
      "/home/phdcs2/Hard_Disk/Projects/T2I/deep-spectral-segmentation/venv/lib/python3.8/site-packages/sklearn/decomposition/_pca.py:642: RuntimeWarning: invalid value encountered in divide\n",
      "  self.explained_variance_ratio_ = self.explained_variance_ / total_var\n"
     ]
    },
    {
     "name": "stdout",
     "output_type": "stream",
     "text": [
      "Starting Training\n",
      "epoch: 00, loss: -0.92902\n",
      "epoch: 01, loss: -0.96032\n",
      "epoch: 02, loss: -0.96698\n",
      "epoch: 03, loss: -0.97073\n",
      "epoch: 04, loss: -0.97330\n",
      "epoch: 05, loss: -0.97520\n",
      "epoch: 06, loss: -0.97664\n",
      "epoch: 07, loss: -0.97785\n",
      "epoch: 08, loss: -0.97883\n",
      "epoch: 09, loss: -0.97967\n",
      "torch.Size([1024, 64])\n"
     ]
    },
    {
     "name": "stderr",
     "output_type": "stream",
     "text": [
      " 57%|█████▋    | 567/999 [11:18:11<7:47:01, 64.86s/it]"
     ]
    },
    {
     "name": "stdout",
     "output_type": "stream",
     "text": [
      "eigenvalues shape torch.Size([5]) eigenvectors shape torch.Size([5, 1024])\n",
      "567 /home/phdcs2/Hard_Disk/Datasets/Deep-Spectral-Segmentation/data/object-segmentation/ECSSD/features/0569_resized.pth\n",
      "dict_keys(['k', 'indices', 'file', 'id', 'model_name', 'patch_size', 'shape'])\n",
      "0569_resized\n",
      "Starting Training\n",
      "epoch: 00, loss: -0.91302\n",
      "epoch: 01, loss: -0.94816\n",
      "epoch: 02, loss: -0.95666\n",
      "epoch: 03, loss: -0.96154\n",
      "epoch: 04, loss: -0.96488\n",
      "epoch: 05, loss: -0.96736\n",
      "epoch: 06, loss: -0.96927\n",
      "epoch: 07, loss: -0.97082\n",
      "epoch: 08, loss: -0.97212\n",
      "epoch: 09, loss: -0.97323\n",
      "torch.Size([1024, 64])\n"
     ]
    },
    {
     "name": "stderr",
     "output_type": "stream",
     "text": [
      " 57%|█████▋    | 568/999 [11:19:11<7:35:20, 63.39s/it]"
     ]
    },
    {
     "name": "stdout",
     "output_type": "stream",
     "text": [
      "eigenvalues shape torch.Size([5]) eigenvectors shape torch.Size([5, 1024])\n",
      "568 /home/phdcs2/Hard_Disk/Datasets/Deep-Spectral-Segmentation/data/object-segmentation/ECSSD/features/0570_resized.pth\n",
      "dict_keys(['k', 'indices', 'file', 'id', 'model_name', 'patch_size', 'shape'])\n",
      "0570_resized\n",
      "Starting Training\n",
      "epoch: 00, loss: -0.86509\n",
      "epoch: 01, loss: -0.92212\n",
      "epoch: 02, loss: -0.93588\n",
      "epoch: 03, loss: -0.94365\n",
      "epoch: 04, loss: -0.94873\n",
      "epoch: 05, loss: -0.95234\n",
      "epoch: 06, loss: -0.95527\n",
      "epoch: 07, loss: -0.95772\n",
      "epoch: 08, loss: -0.95963\n",
      "epoch: 09, loss: -0.96119\n",
      "torch.Size([1024, 64])\n"
     ]
    },
    {
     "name": "stderr",
     "output_type": "stream",
     "text": [
      " 57%|█████▋    | 569/999 [11:20:12<7:30:07, 62.81s/it]"
     ]
    },
    {
     "name": "stdout",
     "output_type": "stream",
     "text": [
      "eigenvalues shape torch.Size([5]) eigenvectors shape torch.Size([5, 1024])\n",
      "569 /home/phdcs2/Hard_Disk/Datasets/Deep-Spectral-Segmentation/data/object-segmentation/ECSSD/features/0571_resized.pth\n",
      "dict_keys(['k', 'indices', 'file', 'id', 'model_name', 'patch_size', 'shape'])\n",
      "0571_resized\n",
      "Starting Training\n",
      "epoch: 00, loss: -0.86905\n",
      "epoch: 01, loss: -0.92725\n",
      "epoch: 02, loss: -0.94056\n",
      "epoch: 03, loss: -0.94795\n",
      "epoch: 04, loss: -0.95296\n",
      "epoch: 05, loss: -0.95649\n",
      "epoch: 06, loss: -0.95929\n",
      "epoch: 07, loss: -0.96154\n",
      "epoch: 08, loss: -0.96330\n",
      "epoch: 09, loss: -0.96486\n",
      "torch.Size([1024, 64])\n"
     ]
    },
    {
     "name": "stderr",
     "output_type": "stream",
     "text": [
      " 57%|█████▋    | 570/999 [11:21:04<7:04:48, 59.41s/it]"
     ]
    },
    {
     "name": "stdout",
     "output_type": "stream",
     "text": [
      "eigenvalues shape torch.Size([5]) eigenvectors shape torch.Size([5, 1024])\n",
      "570 /home/phdcs2/Hard_Disk/Datasets/Deep-Spectral-Segmentation/data/object-segmentation/ECSSD/features/0572_resized.pth\n",
      "dict_keys(['k', 'indices', 'file', 'id', 'model_name', 'patch_size', 'shape'])\n",
      "0572_resized\n",
      "Starting Training\n",
      "epoch: 00, loss: -0.88283\n",
      "epoch: 01, loss: -0.93210\n",
      "epoch: 02, loss: -0.94311\n",
      "epoch: 03, loss: -0.94989\n",
      "epoch: 04, loss: -0.95419\n",
      "epoch: 05, loss: -0.95745\n",
      "epoch: 06, loss: -0.96001\n",
      "epoch: 07, loss: -0.96204\n",
      "epoch: 08, loss: -0.96375\n",
      "epoch: 09, loss: -0.96517\n",
      "torch.Size([1024, 64])\n"
     ]
    },
    {
     "name": "stderr",
     "output_type": "stream",
     "text": [
      " 57%|█████▋    | 571/999 [11:22:07<7:12:34, 60.64s/it]"
     ]
    },
    {
     "name": "stdout",
     "output_type": "stream",
     "text": [
      "eigenvalues shape torch.Size([5]) eigenvectors shape torch.Size([5, 1024])\n",
      "571 /home/phdcs2/Hard_Disk/Datasets/Deep-Spectral-Segmentation/data/object-segmentation/ECSSD/features/0573_resized.pth\n",
      "dict_keys(['k', 'indices', 'file', 'id', 'model_name', 'patch_size', 'shape'])\n",
      "0573_resized\n"
     ]
    },
    {
     "name": "stderr",
     "output_type": "stream",
     "text": [
      "/home/phdcs2/Hard_Disk/Projects/T2I/deep-spectral-segmentation/venv/lib/python3.8/site-packages/sklearn/decomposition/_pca.py:642: RuntimeWarning: invalid value encountered in divide\n",
      "  self.explained_variance_ratio_ = self.explained_variance_ / total_var\n"
     ]
    },
    {
     "name": "stdout",
     "output_type": "stream",
     "text": [
      "Starting Training\n",
      "epoch: 00, loss: -0.89840\n",
      "epoch: 01, loss: -0.94034\n",
      "epoch: 02, loss: -0.95059\n",
      "epoch: 03, loss: -0.95644\n",
      "epoch: 04, loss: -0.96041\n",
      "epoch: 05, loss: -0.96327\n",
      "epoch: 06, loss: -0.96552\n",
      "epoch: 07, loss: -0.96735\n",
      "epoch: 08, loss: -0.96884\n",
      "epoch: 09, loss: -0.97012\n",
      "torch.Size([1024, 64])\n"
     ]
    },
    {
     "name": "stderr",
     "output_type": "stream",
     "text": [
      " 57%|█████▋    | 572/999 [11:23:19<7:36:02, 64.08s/it]"
     ]
    },
    {
     "name": "stdout",
     "output_type": "stream",
     "text": [
      "eigenvalues shape torch.Size([5]) eigenvectors shape torch.Size([5, 1024])\n",
      "572 /home/phdcs2/Hard_Disk/Datasets/Deep-Spectral-Segmentation/data/object-segmentation/ECSSD/features/0574_resized.pth\n",
      "dict_keys(['k', 'indices', 'file', 'id', 'model_name', 'patch_size', 'shape'])\n",
      "0574_resized\n",
      "Starting Training\n",
      "epoch: 00, loss: -0.85924\n",
      "epoch: 01, loss: -0.91350\n",
      "epoch: 02, loss: -0.92812\n",
      "epoch: 03, loss: -0.93668\n",
      "epoch: 04, loss: -0.94231\n",
      "epoch: 05, loss: -0.94666\n",
      "epoch: 06, loss: -0.94984\n",
      "epoch: 07, loss: -0.95242\n",
      "epoch: 08, loss: -0.95462\n",
      "epoch: 09, loss: -0.95647\n",
      "torch.Size([1024, 64])\n"
     ]
    },
    {
     "name": "stderr",
     "output_type": "stream",
     "text": [
      " 57%|█████▋    | 573/999 [11:24:29<7:46:13, 65.66s/it]"
     ]
    },
    {
     "name": "stdout",
     "output_type": "stream",
     "text": [
      "eigenvalues shape torch.Size([5]) eigenvectors shape torch.Size([5, 1024])\n",
      "573 /home/phdcs2/Hard_Disk/Datasets/Deep-Spectral-Segmentation/data/object-segmentation/ECSSD/features/0575_resized.pth\n",
      "dict_keys(['k', 'indices', 'file', 'id', 'model_name', 'patch_size', 'shape'])\n",
      "0575_resized\n",
      "Starting Training\n",
      "epoch: 00, loss: -0.87286\n",
      "epoch: 01, loss: -0.92671\n",
      "epoch: 02, loss: -0.93931\n",
      "epoch: 03, loss: -0.94618\n",
      "epoch: 04, loss: -0.95128\n",
      "epoch: 05, loss: -0.95473\n",
      "epoch: 06, loss: -0.95741\n",
      "epoch: 07, loss: -0.95962\n",
      "epoch: 08, loss: -0.96146\n",
      "epoch: 09, loss: -0.96296\n",
      "torch.Size([1024, 64])\n"
     ]
    },
    {
     "name": "stderr",
     "output_type": "stream",
     "text": [
      " 57%|█████▋    | 574/999 [11:25:37<7:49:46, 66.32s/it]"
     ]
    },
    {
     "name": "stdout",
     "output_type": "stream",
     "text": [
      "eigenvalues shape torch.Size([5]) eigenvectors shape torch.Size([5, 1024])\n",
      "574 /home/phdcs2/Hard_Disk/Datasets/Deep-Spectral-Segmentation/data/object-segmentation/ECSSD/features/0576_resized.pth\n",
      "dict_keys(['k', 'indices', 'file', 'id', 'model_name', 'patch_size', 'shape'])\n",
      "0576_resized\n",
      "Starting Training\n",
      "epoch: 00, loss: -0.86006\n",
      "epoch: 01, loss: -0.91767\n",
      "epoch: 02, loss: -0.93201\n",
      "epoch: 03, loss: -0.94045\n",
      "epoch: 04, loss: -0.94598\n",
      "epoch: 05, loss: -0.95001\n",
      "epoch: 06, loss: -0.95314\n",
      "epoch: 07, loss: -0.95568\n",
      "epoch: 08, loss: -0.95784\n",
      "epoch: 09, loss: -0.95959\n",
      "torch.Size([1024, 64])\n"
     ]
    },
    {
     "name": "stderr",
     "output_type": "stream",
     "text": [
      " 58%|█████▊    | 575/999 [11:26:47<7:57:11, 67.53s/it]"
     ]
    },
    {
     "name": "stdout",
     "output_type": "stream",
     "text": [
      "eigenvalues shape torch.Size([5]) eigenvectors shape torch.Size([5, 1024])\n",
      "575 /home/phdcs2/Hard_Disk/Datasets/Deep-Spectral-Segmentation/data/object-segmentation/ECSSD/features/0577_resized.pth\n",
      "dict_keys(['k', 'indices', 'file', 'id', 'model_name', 'patch_size', 'shape'])\n",
      "0577_resized\n",
      "Starting Training\n",
      "epoch: 00, loss: -0.90415\n",
      "epoch: 01, loss: -0.94691\n",
      "epoch: 02, loss: -0.95582\n",
      "epoch: 03, loss: -0.96095\n",
      "epoch: 04, loss: -0.96441\n",
      "epoch: 05, loss: -0.96695\n",
      "epoch: 06, loss: -0.96896\n",
      "epoch: 07, loss: -0.97059\n",
      "epoch: 08, loss: -0.97194\n",
      "epoch: 09, loss: -0.97307\n",
      "torch.Size([1024, 64])\n"
     ]
    },
    {
     "name": "stderr",
     "output_type": "stream",
     "text": [
      " 58%|█████▊    | 576/999 [11:27:54<7:55:15, 67.41s/it]"
     ]
    },
    {
     "name": "stdout",
     "output_type": "stream",
     "text": [
      "eigenvalues shape torch.Size([5]) eigenvectors shape torch.Size([5, 1024])\n",
      "576 /home/phdcs2/Hard_Disk/Datasets/Deep-Spectral-Segmentation/data/object-segmentation/ECSSD/features/0578_resized.pth\n",
      "dict_keys(['k', 'indices', 'file', 'id', 'model_name', 'patch_size', 'shape'])\n",
      "0578_resized\n"
     ]
    },
    {
     "name": "stderr",
     "output_type": "stream",
     "text": [
      "/home/phdcs2/Hard_Disk/Projects/T2I/deep-spectral-segmentation/venv/lib/python3.8/site-packages/sklearn/decomposition/_pca.py:642: RuntimeWarning: invalid value encountered in divide\n",
      "  self.explained_variance_ratio_ = self.explained_variance_ / total_var\n"
     ]
    },
    {
     "name": "stdout",
     "output_type": "stream",
     "text": [
      "Starting Training\n",
      "epoch: 00, loss: -0.92110\n",
      "epoch: 01, loss: -0.95313\n",
      "epoch: 02, loss: -0.96051\n",
      "epoch: 03, loss: -0.96473\n",
      "epoch: 04, loss: -0.96762\n",
      "epoch: 05, loss: -0.96977\n",
      "epoch: 06, loss: -0.97145\n",
      "epoch: 07, loss: -0.97280\n",
      "epoch: 08, loss: -0.97394\n",
      "epoch: 09, loss: -0.97490\n",
      "torch.Size([1024, 64])\n"
     ]
    },
    {
     "name": "stderr",
     "output_type": "stream",
     "text": [
      " 58%|█████▊    | 577/999 [11:29:00<7:50:36, 66.91s/it]"
     ]
    },
    {
     "name": "stdout",
     "output_type": "stream",
     "text": [
      "eigenvalues shape torch.Size([5]) eigenvectors shape torch.Size([5, 1024])\n",
      "577 /home/phdcs2/Hard_Disk/Datasets/Deep-Spectral-Segmentation/data/object-segmentation/ECSSD/features/0579_resized.pth\n",
      "dict_keys(['k', 'indices', 'file', 'id', 'model_name', 'patch_size', 'shape'])\n",
      "0579_resized\n",
      "Starting Training\n",
      "epoch: 00, loss: -0.89208\n",
      "epoch: 01, loss: -0.93223\n",
      "epoch: 02, loss: -0.94258\n",
      "epoch: 03, loss: -0.94884\n",
      "epoch: 04, loss: -0.95289\n",
      "epoch: 05, loss: -0.95604\n",
      "epoch: 06, loss: -0.95838\n",
      "epoch: 07, loss: -0.96035\n",
      "epoch: 08, loss: -0.96202\n",
      "epoch: 09, loss: -0.96346\n",
      "torch.Size([1024, 64])\n"
     ]
    },
    {
     "name": "stderr",
     "output_type": "stream",
     "text": [
      " 58%|█████▊    | 578/999 [11:30:14<8:03:55, 68.97s/it]"
     ]
    },
    {
     "name": "stdout",
     "output_type": "stream",
     "text": [
      "eigenvalues shape torch.Size([5]) eigenvectors shape torch.Size([5, 1024])\n",
      "578 /home/phdcs2/Hard_Disk/Datasets/Deep-Spectral-Segmentation/data/object-segmentation/ECSSD/features/0580_resized.pth\n",
      "dict_keys(['k', 'indices', 'file', 'id', 'model_name', 'patch_size', 'shape'])\n",
      "0580_resized\n",
      "Starting Training\n",
      "epoch: 00, loss: -0.89037\n",
      "epoch: 01, loss: -0.93419\n",
      "epoch: 02, loss: -0.94494\n",
      "epoch: 03, loss: -0.95120\n",
      "epoch: 04, loss: -0.95537\n",
      "epoch: 05, loss: -0.95848\n",
      "epoch: 06, loss: -0.96094\n",
      "epoch: 07, loss: -0.96277\n",
      "epoch: 08, loss: -0.96450\n",
      "epoch: 09, loss: -0.96588\n",
      "torch.Size([1024, 64])\n"
     ]
    },
    {
     "name": "stderr",
     "output_type": "stream",
     "text": [
      " 58%|█████▊    | 579/999 [11:31:28<8:14:20, 70.62s/it]"
     ]
    },
    {
     "name": "stdout",
     "output_type": "stream",
     "text": [
      "eigenvalues shape torch.Size([5]) eigenvectors shape torch.Size([5, 1024])\n",
      "579 /home/phdcs2/Hard_Disk/Datasets/Deep-Spectral-Segmentation/data/object-segmentation/ECSSD/features/0581_resized.pth\n",
      "dict_keys(['k', 'indices', 'file', 'id', 'model_name', 'patch_size', 'shape'])\n",
      "0581_resized\n",
      "Starting Training\n",
      "epoch: 00, loss: -0.85281\n",
      "epoch: 01, loss: -0.91329\n",
      "epoch: 02, loss: -0.92844\n",
      "epoch: 03, loss: -0.93691\n",
      "epoch: 04, loss: -0.94221\n",
      "epoch: 05, loss: -0.94622\n",
      "epoch: 06, loss: -0.94932\n",
      "epoch: 07, loss: -0.95190\n",
      "epoch: 08, loss: -0.95396\n",
      "epoch: 09, loss: -0.95569\n",
      "torch.Size([1024, 64])\n"
     ]
    },
    {
     "name": "stderr",
     "output_type": "stream",
     "text": [
      " 58%|█████▊    | 580/999 [11:32:46<8:28:46, 72.86s/it]"
     ]
    },
    {
     "name": "stdout",
     "output_type": "stream",
     "text": [
      "eigenvalues shape torch.Size([5]) eigenvectors shape torch.Size([5, 1024])\n",
      "580 /home/phdcs2/Hard_Disk/Datasets/Deep-Spectral-Segmentation/data/object-segmentation/ECSSD/features/0582_resized.pth\n",
      "dict_keys(['k', 'indices', 'file', 'id', 'model_name', 'patch_size', 'shape'])\n",
      "0582_resized\n",
      "Starting Training\n",
      "epoch: 00, loss: -0.92771\n",
      "epoch: 01, loss: -0.95650\n",
      "epoch: 02, loss: -0.96327\n",
      "epoch: 03, loss: -0.96718\n",
      "epoch: 04, loss: -0.96985\n",
      "epoch: 05, loss: -0.97183\n",
      "epoch: 06, loss: -0.97338\n",
      "epoch: 07, loss: -0.97463\n",
      "epoch: 08, loss: -0.97570\n",
      "epoch: 09, loss: -0.97659\n",
      "torch.Size([1024, 64])\n"
     ]
    },
    {
     "name": "stderr",
     "output_type": "stream",
     "text": [
      " 58%|█████▊    | 581/999 [11:33:57<8:23:56, 72.34s/it]"
     ]
    },
    {
     "name": "stdout",
     "output_type": "stream",
     "text": [
      "eigenvalues shape torch.Size([5]) eigenvectors shape torch.Size([5, 1024])\n",
      "581 /home/phdcs2/Hard_Disk/Datasets/Deep-Spectral-Segmentation/data/object-segmentation/ECSSD/features/0583_resized.pth\n",
      "dict_keys(['k', 'indices', 'file', 'id', 'model_name', 'patch_size', 'shape'])\n",
      "0583_resized\n",
      "Starting Training\n",
      "epoch: 00, loss: -0.92076\n",
      "epoch: 01, loss: -0.95263\n",
      "epoch: 02, loss: -0.95991\n",
      "epoch: 03, loss: -0.96405\n",
      "epoch: 04, loss: -0.96693\n",
      "epoch: 05, loss: -0.96906\n",
      "epoch: 06, loss: -0.97075\n",
      "epoch: 07, loss: -0.97211\n",
      "epoch: 08, loss: -0.97327\n",
      "epoch: 09, loss: -0.97423\n",
      "torch.Size([1024, 64])\n"
     ]
    },
    {
     "name": "stderr",
     "output_type": "stream",
     "text": [
      " 58%|█████▊    | 582/999 [11:35:00<8:03:15, 69.53s/it]"
     ]
    },
    {
     "name": "stdout",
     "output_type": "stream",
     "text": [
      "eigenvalues shape torch.Size([5]) eigenvectors shape torch.Size([5, 1024])\n",
      "582 /home/phdcs2/Hard_Disk/Datasets/Deep-Spectral-Segmentation/data/object-segmentation/ECSSD/features/0584_resized.pth\n",
      "dict_keys(['k', 'indices', 'file', 'id', 'model_name', 'patch_size', 'shape'])\n",
      "0584_resized\n",
      "Starting Training\n",
      "epoch: 00, loss: -0.86442\n",
      "epoch: 01, loss: -0.92142\n",
      "epoch: 02, loss: -0.93460\n",
      "epoch: 03, loss: -0.94241\n",
      "epoch: 04, loss: -0.94735\n",
      "epoch: 05, loss: -0.95119\n",
      "epoch: 06, loss: -0.95398\n",
      "epoch: 07, loss: -0.95635\n",
      "epoch: 08, loss: -0.95826\n",
      "epoch: 09, loss: -0.95988\n",
      "torch.Size([1024, 64])\n"
     ]
    },
    {
     "name": "stderr",
     "output_type": "stream",
     "text": [
      " 58%|█████▊    | 583/999 [11:36:17<8:16:31, 71.61s/it]"
     ]
    },
    {
     "name": "stdout",
     "output_type": "stream",
     "text": [
      "eigenvalues shape torch.Size([5]) eigenvectors shape torch.Size([5, 1024])\n",
      "583 /home/phdcs2/Hard_Disk/Datasets/Deep-Spectral-Segmentation/data/object-segmentation/ECSSD/features/0585_resized.pth\n",
      "dict_keys(['k', 'indices', 'file', 'id', 'model_name', 'patch_size', 'shape'])\n",
      "0585_resized\n",
      "Starting Training\n",
      "epoch: 00, loss: -0.89376\n",
      "epoch: 01, loss: -0.93307\n",
      "epoch: 02, loss: -0.94384\n",
      "epoch: 03, loss: -0.95032\n",
      "epoch: 04, loss: -0.95459\n",
      "epoch: 05, loss: -0.95788\n",
      "epoch: 06, loss: -0.96041\n",
      "epoch: 07, loss: -0.96243\n",
      "epoch: 08, loss: -0.96414\n",
      "epoch: 09, loss: -0.96560\n",
      "torch.Size([1024, 64])\n"
     ]
    },
    {
     "name": "stderr",
     "output_type": "stream",
     "text": [
      " 58%|█████▊    | 584/999 [11:37:37<8:32:37, 74.11s/it]"
     ]
    },
    {
     "name": "stdout",
     "output_type": "stream",
     "text": [
      "eigenvalues shape torch.Size([5]) eigenvectors shape torch.Size([5, 1024])\n",
      "584 /home/phdcs2/Hard_Disk/Datasets/Deep-Spectral-Segmentation/data/object-segmentation/ECSSD/features/0586_resized.pth\n",
      "dict_keys(['k', 'indices', 'file', 'id', 'model_name', 'patch_size', 'shape'])\n",
      "0586_resized\n"
     ]
    },
    {
     "name": "stderr",
     "output_type": "stream",
     "text": [
      "/home/phdcs2/Hard_Disk/Projects/T2I/deep-spectral-segmentation/venv/lib/python3.8/site-packages/sklearn/decomposition/_pca.py:642: RuntimeWarning: invalid value encountered in divide\n",
      "  self.explained_variance_ratio_ = self.explained_variance_ / total_var\n"
     ]
    },
    {
     "name": "stdout",
     "output_type": "stream",
     "text": [
      "Starting Training\n",
      "epoch: 00, loss: -0.90098\n",
      "epoch: 01, loss: -0.94016\n",
      "epoch: 02, loss: -0.95006\n",
      "epoch: 03, loss: -0.95575\n",
      "epoch: 04, loss: -0.95967\n",
      "epoch: 05, loss: -0.96259\n",
      "epoch: 06, loss: -0.96484\n",
      "epoch: 07, loss: -0.96669\n",
      "epoch: 08, loss: -0.96820\n",
      "epoch: 09, loss: -0.96952\n",
      "torch.Size([1024, 64])\n"
     ]
    },
    {
     "name": "stderr",
     "output_type": "stream",
     "text": [
      " 59%|█████▊    | 585/999 [11:38:47<8:22:44, 72.86s/it]"
     ]
    },
    {
     "name": "stdout",
     "output_type": "stream",
     "text": [
      "eigenvalues shape torch.Size([5]) eigenvectors shape torch.Size([5, 1024])\n",
      "585 /home/phdcs2/Hard_Disk/Datasets/Deep-Spectral-Segmentation/data/object-segmentation/ECSSD/features/0587_resized.pth\n",
      "dict_keys(['k', 'indices', 'file', 'id', 'model_name', 'patch_size', 'shape'])\n",
      "0587_resized\n",
      "Starting Training\n",
      "epoch: 00, loss: -0.86150\n",
      "epoch: 01, loss: -0.91900\n",
      "epoch: 02, loss: -0.93347\n",
      "epoch: 03, loss: -0.94160\n",
      "epoch: 04, loss: -0.94733\n",
      "epoch: 05, loss: -0.95151\n",
      "epoch: 06, loss: -0.95457\n",
      "epoch: 07, loss: -0.95709\n",
      "epoch: 08, loss: -0.95927\n",
      "epoch: 09, loss: -0.96096\n",
      "torch.Size([1024, 64])\n"
     ]
    },
    {
     "name": "stderr",
     "output_type": "stream",
     "text": [
      " 59%|█████▊    | 586/999 [11:40:01<8:25:06, 73.38s/it]"
     ]
    },
    {
     "name": "stdout",
     "output_type": "stream",
     "text": [
      "eigenvalues shape torch.Size([5]) eigenvectors shape torch.Size([5, 1024])\n",
      "586 /home/phdcs2/Hard_Disk/Datasets/Deep-Spectral-Segmentation/data/object-segmentation/ECSSD/features/0588_resized.pth\n",
      "dict_keys(['k', 'indices', 'file', 'id', 'model_name', 'patch_size', 'shape'])\n",
      "0588_resized\n",
      "Starting Training\n",
      "epoch: 00, loss: -0.91519\n",
      "epoch: 01, loss: -0.95021\n",
      "epoch: 02, loss: -0.95813\n",
      "epoch: 03, loss: -0.96270\n",
      "epoch: 04, loss: -0.96580\n",
      "epoch: 05, loss: -0.96811\n",
      "epoch: 06, loss: -0.96995\n",
      "epoch: 07, loss: -0.97140\n",
      "epoch: 08, loss: -0.97262\n",
      "epoch: 09, loss: -0.97368\n",
      "torch.Size([1024, 64])\n"
     ]
    },
    {
     "name": "stderr",
     "output_type": "stream",
     "text": [
      " 59%|█████▉    | 587/999 [11:41:14<8:22:57, 73.25s/it]"
     ]
    },
    {
     "name": "stdout",
     "output_type": "stream",
     "text": [
      "eigenvalues shape torch.Size([5]) eigenvectors shape torch.Size([5, 1024])\n",
      "587 /home/phdcs2/Hard_Disk/Datasets/Deep-Spectral-Segmentation/data/object-segmentation/ECSSD/features/0589_resized.pth\n",
      "dict_keys(['k', 'indices', 'file', 'id', 'model_name', 'patch_size', 'shape'])\n",
      "0589_resized\n"
     ]
    },
    {
     "name": "stderr",
     "output_type": "stream",
     "text": [
      "/home/phdcs2/Hard_Disk/Projects/T2I/deep-spectral-segmentation/venv/lib/python3.8/site-packages/sklearn/decomposition/_pca.py:642: RuntimeWarning: invalid value encountered in divide\n",
      "  self.explained_variance_ratio_ = self.explained_variance_ / total_var\n"
     ]
    },
    {
     "name": "stdout",
     "output_type": "stream",
     "text": [
      "Starting Training\n",
      "epoch: 00, loss: -0.92340\n",
      "epoch: 01, loss: -0.95611\n",
      "epoch: 02, loss: -0.96285\n",
      "epoch: 03, loss: -0.96680\n",
      "epoch: 04, loss: -0.96951\n",
      "epoch: 05, loss: -0.97152\n",
      "epoch: 06, loss: -0.97310\n",
      "epoch: 07, loss: -0.97439\n",
      "epoch: 08, loss: -0.97545\n",
      "epoch: 09, loss: -0.97637\n",
      "torch.Size([1024, 64])\n"
     ]
    },
    {
     "name": "stderr",
     "output_type": "stream",
     "text": [
      " 59%|█████▉    | 588/999 [11:42:25<8:16:13, 72.44s/it]"
     ]
    },
    {
     "name": "stdout",
     "output_type": "stream",
     "text": [
      "eigenvalues shape torch.Size([5]) eigenvectors shape torch.Size([5, 1024])\n",
      "588 /home/phdcs2/Hard_Disk/Datasets/Deep-Spectral-Segmentation/data/object-segmentation/ECSSD/features/0590_resized.pth\n",
      "dict_keys(['k', 'indices', 'file', 'id', 'model_name', 'patch_size', 'shape'])\n",
      "0590_resized\n"
     ]
    },
    {
     "name": "stderr",
     "output_type": "stream",
     "text": [
      "/home/phdcs2/Hard_Disk/Projects/T2I/deep-spectral-segmentation/venv/lib/python3.8/site-packages/sklearn/decomposition/_pca.py:642: RuntimeWarning: invalid value encountered in divide\n",
      "  self.explained_variance_ratio_ = self.explained_variance_ / total_var\n"
     ]
    },
    {
     "name": "stdout",
     "output_type": "stream",
     "text": [
      "Starting Training\n",
      "epoch: 00, loss: -0.91831\n",
      "epoch: 01, loss: -0.95161\n",
      "epoch: 02, loss: -0.95952\n",
      "epoch: 03, loss: -0.96413\n",
      "epoch: 04, loss: -0.96720\n",
      "epoch: 05, loss: -0.96949\n",
      "epoch: 06, loss: -0.97129\n",
      "epoch: 07, loss: -0.97273\n",
      "epoch: 08, loss: -0.97395\n",
      "epoch: 09, loss: -0.97499\n",
      "torch.Size([1024, 64])\n"
     ]
    },
    {
     "name": "stderr",
     "output_type": "stream",
     "text": [
      " 59%|█████▉    | 589/999 [11:43:36<8:12:54, 72.13s/it]"
     ]
    },
    {
     "name": "stdout",
     "output_type": "stream",
     "text": [
      "eigenvalues shape torch.Size([5]) eigenvectors shape torch.Size([5, 1024])\n",
      "589 /home/phdcs2/Hard_Disk/Datasets/Deep-Spectral-Segmentation/data/object-segmentation/ECSSD/features/0591_resized.pth\n",
      "dict_keys(['k', 'indices', 'file', 'id', 'model_name', 'patch_size', 'shape'])\n",
      "0591_resized\n",
      "Starting Training\n",
      "epoch: 00, loss: -0.85746\n",
      "epoch: 01, loss: -0.91412\n",
      "epoch: 02, loss: -0.92889\n",
      "epoch: 03, loss: -0.93697\n",
      "epoch: 04, loss: -0.94253\n",
      "epoch: 05, loss: -0.94675\n",
      "epoch: 06, loss: -0.95003\n",
      "epoch: 07, loss: -0.95259\n",
      "epoch: 08, loss: -0.95462\n",
      "epoch: 09, loss: -0.95648\n",
      "torch.Size([1024, 64])\n"
     ]
    },
    {
     "name": "stderr",
     "output_type": "stream",
     "text": [
      " 59%|█████▉    | 590/999 [11:44:41<7:57:41, 70.08s/it]"
     ]
    },
    {
     "name": "stdout",
     "output_type": "stream",
     "text": [
      "eigenvalues shape torch.Size([5]) eigenvectors shape torch.Size([5, 1024])\n",
      "590 /home/phdcs2/Hard_Disk/Datasets/Deep-Spectral-Segmentation/data/object-segmentation/ECSSD/features/0592_resized.pth\n",
      "dict_keys(['k', 'indices', 'file', 'id', 'model_name', 'patch_size', 'shape'])\n",
      "0592_resized\n"
     ]
    },
    {
     "name": "stderr",
     "output_type": "stream",
     "text": [
      "/home/phdcs2/Hard_Disk/Projects/T2I/deep-spectral-segmentation/venv/lib/python3.8/site-packages/sklearn/decomposition/_pca.py:642: RuntimeWarning: invalid value encountered in divide\n",
      "  self.explained_variance_ratio_ = self.explained_variance_ / total_var\n"
     ]
    },
    {
     "name": "stdout",
     "output_type": "stream",
     "text": [
      "Starting Training\n",
      "epoch: 00, loss: -0.91234\n",
      "epoch: 01, loss: -0.94636\n",
      "epoch: 02, loss: -0.95492\n",
      "epoch: 03, loss: -0.95994\n",
      "epoch: 04, loss: -0.96333\n",
      "epoch: 05, loss: -0.96592\n",
      "epoch: 06, loss: -0.96787\n",
      "epoch: 07, loss: -0.96949\n",
      "epoch: 08, loss: -0.97084\n",
      "epoch: 09, loss: -0.97200\n",
      "torch.Size([1024, 64])\n"
     ]
    },
    {
     "name": "stderr",
     "output_type": "stream",
     "text": [
      " 59%|█████▉    | 591/999 [11:45:48<7:48:38, 68.92s/it]"
     ]
    },
    {
     "name": "stdout",
     "output_type": "stream",
     "text": [
      "eigenvalues shape torch.Size([5]) eigenvectors shape torch.Size([5, 1024])\n",
      "591 /home/phdcs2/Hard_Disk/Datasets/Deep-Spectral-Segmentation/data/object-segmentation/ECSSD/features/0593_resized.pth\n",
      "dict_keys(['k', 'indices', 'file', 'id', 'model_name', 'patch_size', 'shape'])\n",
      "0593_resized\n",
      "Starting Training\n",
      "epoch: 00, loss: -0.85941\n",
      "epoch: 01, loss: -0.91742\n",
      "epoch: 02, loss: -0.93110\n",
      "epoch: 03, loss: -0.93856\n",
      "epoch: 04, loss: -0.94355\n",
      "epoch: 05, loss: -0.94705\n",
      "epoch: 06, loss: -0.94993\n",
      "epoch: 07, loss: -0.95222\n",
      "epoch: 08, loss: -0.95412\n",
      "epoch: 09, loss: -0.95556\n",
      "torch.Size([1024, 64])\n"
     ]
    },
    {
     "name": "stderr",
     "output_type": "stream",
     "text": [
      " 59%|█████▉    | 592/999 [11:46:49<7:32:46, 66.75s/it]"
     ]
    },
    {
     "name": "stdout",
     "output_type": "stream",
     "text": [
      "eigenvalues shape torch.Size([5]) eigenvectors shape torch.Size([5, 1024])\n",
      "592 /home/phdcs2/Hard_Disk/Datasets/Deep-Spectral-Segmentation/data/object-segmentation/ECSSD/features/0594_resized.pth\n",
      "dict_keys(['k', 'indices', 'file', 'id', 'model_name', 'patch_size', 'shape'])\n",
      "0594_resized\n",
      "Starting Training\n",
      "epoch: 00, loss: -0.84407\n",
      "epoch: 01, loss: -0.90808\n",
      "epoch: 02, loss: -0.92448\n",
      "epoch: 03, loss: -0.93404\n",
      "epoch: 04, loss: -0.94008\n",
      "epoch: 05, loss: -0.94486\n",
      "epoch: 06, loss: -0.94830\n",
      "epoch: 07, loss: -0.95120\n",
      "epoch: 08, loss: -0.95356\n",
      "epoch: 09, loss: -0.95558\n",
      "torch.Size([1024, 64])\n"
     ]
    },
    {
     "name": "stderr",
     "output_type": "stream",
     "text": [
      " 59%|█████▉    | 593/999 [11:47:38<6:56:00, 61.48s/it]"
     ]
    },
    {
     "name": "stdout",
     "output_type": "stream",
     "text": [
      "eigenvalues shape torch.Size([5]) eigenvectors shape torch.Size([5, 1024])\n",
      "593 /home/phdcs2/Hard_Disk/Datasets/Deep-Spectral-Segmentation/data/object-segmentation/ECSSD/features/0595_resized.pth\n",
      "dict_keys(['k', 'indices', 'file', 'id', 'model_name', 'patch_size', 'shape'])\n",
      "0595_resized\n"
     ]
    },
    {
     "name": "stderr",
     "output_type": "stream",
     "text": [
      "/home/phdcs2/Hard_Disk/Projects/T2I/deep-spectral-segmentation/venv/lib/python3.8/site-packages/sklearn/decomposition/_pca.py:642: RuntimeWarning: invalid value encountered in divide\n",
      "  self.explained_variance_ratio_ = self.explained_variance_ / total_var\n"
     ]
    },
    {
     "name": "stdout",
     "output_type": "stream",
     "text": [
      "Starting Training\n",
      "epoch: 00, loss: -0.93461\n",
      "epoch: 01, loss: -0.96328\n",
      "epoch: 02, loss: -0.96892\n",
      "epoch: 03, loss: -0.97214\n",
      "epoch: 04, loss: -0.97439\n",
      "epoch: 05, loss: -0.97603\n",
      "epoch: 06, loss: -0.97731\n",
      "epoch: 07, loss: -0.97838\n",
      "epoch: 08, loss: -0.97926\n",
      "epoch: 09, loss: -0.98001\n",
      "torch.Size([1024, 64])\n"
     ]
    },
    {
     "name": "stderr",
     "output_type": "stream",
     "text": [
      " 59%|█████▉    | 594/999 [11:48:42<6:58:15, 61.96s/it]"
     ]
    },
    {
     "name": "stdout",
     "output_type": "stream",
     "text": [
      "eigenvalues shape torch.Size([5]) eigenvectors shape torch.Size([5, 1024])\n",
      "594 /home/phdcs2/Hard_Disk/Datasets/Deep-Spectral-Segmentation/data/object-segmentation/ECSSD/features/0596_resized.pth\n",
      "dict_keys(['k', 'indices', 'file', 'id', 'model_name', 'patch_size', 'shape'])\n",
      "0596_resized\n",
      "Starting Training\n",
      "epoch: 00, loss: -0.86369\n",
      "epoch: 01, loss: -0.92013\n",
      "epoch: 02, loss: -0.93423\n",
      "epoch: 03, loss: -0.94242\n",
      "epoch: 04, loss: -0.94798\n",
      "epoch: 05, loss: -0.95199\n",
      "epoch: 06, loss: -0.95507\n",
      "epoch: 07, loss: -0.95756\n",
      "epoch: 08, loss: -0.95962\n",
      "epoch: 09, loss: -0.96137\n",
      "torch.Size([1024, 64])\n"
     ]
    },
    {
     "name": "stderr",
     "output_type": "stream",
     "text": [
      " 60%|█████▉    | 595/999 [11:49:54<7:17:42, 65.01s/it]"
     ]
    },
    {
     "name": "stdout",
     "output_type": "stream",
     "text": [
      "eigenvalues shape torch.Size([5]) eigenvectors shape torch.Size([5, 1024])\n",
      "595 /home/phdcs2/Hard_Disk/Datasets/Deep-Spectral-Segmentation/data/object-segmentation/ECSSD/features/0597_resized.pth\n",
      "dict_keys(['k', 'indices', 'file', 'id', 'model_name', 'patch_size', 'shape'])\n",
      "0597_resized\n",
      "Starting Training\n",
      "epoch: 00, loss: -0.93057\n",
      "epoch: 01, loss: -0.96067\n",
      "epoch: 02, loss: -0.96709\n",
      "epoch: 03, loss: -0.97079\n",
      "epoch: 04, loss: -0.97333\n",
      "epoch: 05, loss: -0.97517\n",
      "epoch: 06, loss: -0.97664\n",
      "epoch: 07, loss: -0.97781\n",
      "epoch: 08, loss: -0.97880\n",
      "epoch: 09, loss: -0.97964\n",
      "torch.Size([1024, 64])\n"
     ]
    },
    {
     "name": "stderr",
     "output_type": "stream",
     "text": [
      " 60%|█████▉    | 596/999 [11:51:06<7:31:28, 67.22s/it]"
     ]
    },
    {
     "name": "stdout",
     "output_type": "stream",
     "text": [
      "eigenvalues shape torch.Size([5]) eigenvectors shape torch.Size([5, 1024])\n",
      "596 /home/phdcs2/Hard_Disk/Datasets/Deep-Spectral-Segmentation/data/object-segmentation/ECSSD/features/0598_resized.pth\n",
      "dict_keys(['k', 'indices', 'file', 'id', 'model_name', 'patch_size', 'shape'])\n",
      "0598_resized\n",
      "Starting Training\n",
      "epoch: 00, loss: -0.86357\n",
      "epoch: 01, loss: -0.91808\n",
      "epoch: 02, loss: -0.93254\n",
      "epoch: 03, loss: -0.94090\n",
      "epoch: 04, loss: -0.94638\n",
      "epoch: 05, loss: -0.95063\n",
      "epoch: 06, loss: -0.95379\n",
      "epoch: 07, loss: -0.95629\n",
      "epoch: 08, loss: -0.95846\n",
      "epoch: 09, loss: -0.96015\n",
      "torch.Size([1024, 64])\n"
     ]
    },
    {
     "name": "stderr",
     "output_type": "stream",
     "text": [
      " 60%|█████▉    | 597/999 [11:52:21<7:46:54, 69.69s/it]"
     ]
    },
    {
     "name": "stdout",
     "output_type": "stream",
     "text": [
      "eigenvalues shape torch.Size([5]) eigenvectors shape torch.Size([5, 1024])\n",
      "597 /home/phdcs2/Hard_Disk/Datasets/Deep-Spectral-Segmentation/data/object-segmentation/ECSSD/features/0599_resized.pth\n",
      "dict_keys(['k', 'indices', 'file', 'id', 'model_name', 'patch_size', 'shape'])\n",
      "0599_resized\n"
     ]
    },
    {
     "name": "stderr",
     "output_type": "stream",
     "text": [
      "/home/phdcs2/Hard_Disk/Projects/T2I/deep-spectral-segmentation/venv/lib/python3.8/site-packages/sklearn/decomposition/_pca.py:642: RuntimeWarning: invalid value encountered in divide\n",
      "  self.explained_variance_ratio_ = self.explained_variance_ / total_var\n"
     ]
    },
    {
     "name": "stdout",
     "output_type": "stream",
     "text": [
      "Starting Training\n",
      "epoch: 00, loss: -0.91046\n",
      "epoch: 01, loss: -0.94946\n",
      "epoch: 02, loss: -0.95785\n",
      "epoch: 03, loss: -0.96270\n",
      "epoch: 04, loss: -0.96595\n",
      "epoch: 05, loss: -0.96840\n",
      "epoch: 06, loss: -0.97028\n",
      "epoch: 07, loss: -0.97181\n",
      "epoch: 08, loss: -0.97308\n",
      "epoch: 09, loss: -0.97417\n",
      "torch.Size([1024, 64])\n"
     ]
    },
    {
     "name": "stderr",
     "output_type": "stream",
     "text": [
      " 60%|█████▉    | 598/999 [11:53:25<7:33:46, 67.90s/it]"
     ]
    },
    {
     "name": "stdout",
     "output_type": "stream",
     "text": [
      "eigenvalues shape torch.Size([5]) eigenvectors shape torch.Size([5, 1024])\n",
      "598 /home/phdcs2/Hard_Disk/Datasets/Deep-Spectral-Segmentation/data/object-segmentation/ECSSD/features/0600_resized.pth\n",
      "dict_keys(['k', 'indices', 'file', 'id', 'model_name', 'patch_size', 'shape'])\n",
      "0600_resized\n",
      "Starting Training\n",
      "epoch: 00, loss: -0.84360\n",
      "epoch: 01, loss: -0.90548\n",
      "epoch: 02, loss: -0.92173\n",
      "epoch: 03, loss: -0.93074\n",
      "epoch: 04, loss: -0.93698\n",
      "epoch: 05, loss: -0.94137\n",
      "epoch: 06, loss: -0.94494\n",
      "epoch: 07, loss: -0.94788\n",
      "epoch: 08, loss: -0.95023\n",
      "epoch: 09, loss: -0.95216\n",
      "torch.Size([1024, 64])\n"
     ]
    },
    {
     "name": "stderr",
     "output_type": "stream",
     "text": [
      " 60%|█████▉    | 599/999 [11:54:40<7:47:04, 70.06s/it]"
     ]
    },
    {
     "name": "stdout",
     "output_type": "stream",
     "text": [
      "eigenvalues shape torch.Size([5]) eigenvectors shape torch.Size([5, 1024])\n",
      "599 /home/phdcs2/Hard_Disk/Datasets/Deep-Spectral-Segmentation/data/object-segmentation/ECSSD/features/0601_resized.pth\n",
      "dict_keys(['k', 'indices', 'file', 'id', 'model_name', 'patch_size', 'shape'])\n",
      "0601_resized\n",
      "Starting Training\n",
      "epoch: 00, loss: -0.89645\n",
      "epoch: 01, loss: -0.93708\n",
      "epoch: 02, loss: -0.94704\n",
      "epoch: 03, loss: -0.95307\n",
      "epoch: 04, loss: -0.95706\n",
      "epoch: 05, loss: -0.96001\n",
      "epoch: 06, loss: -0.96237\n",
      "epoch: 07, loss: -0.96429\n",
      "epoch: 08, loss: -0.96580\n",
      "epoch: 09, loss: -0.96715\n",
      "torch.Size([1024, 64])\n"
     ]
    },
    {
     "name": "stderr",
     "output_type": "stream",
     "text": [
      " 60%|██████    | 600/999 [11:55:56<7:57:55, 71.87s/it]"
     ]
    },
    {
     "name": "stdout",
     "output_type": "stream",
     "text": [
      "eigenvalues shape torch.Size([5]) eigenvectors shape torch.Size([5, 1024])\n",
      "600 /home/phdcs2/Hard_Disk/Datasets/Deep-Spectral-Segmentation/data/object-segmentation/ECSSD/features/0602_resized.pth\n",
      "dict_keys(['k', 'indices', 'file', 'id', 'model_name', 'patch_size', 'shape'])\n",
      "0602_resized\n",
      "Starting Training\n",
      "epoch: 00, loss: -0.91556\n",
      "epoch: 01, loss: -0.95170\n",
      "epoch: 02, loss: -0.95952\n",
      "epoch: 03, loss: -0.96397\n",
      "epoch: 04, loss: -0.96704\n",
      "epoch: 05, loss: -0.96927\n",
      "epoch: 06, loss: -0.97104\n",
      "epoch: 07, loss: -0.97248\n",
      "epoch: 08, loss: -0.97367\n",
      "epoch: 09, loss: -0.97470\n",
      "torch.Size([1024, 64])\n"
     ]
    },
    {
     "name": "stderr",
     "output_type": "stream",
     "text": [
      " 60%|██████    | 601/999 [11:57:12<8:04:57, 73.11s/it]"
     ]
    },
    {
     "name": "stdout",
     "output_type": "stream",
     "text": [
      "eigenvalues shape torch.Size([5]) eigenvectors shape torch.Size([5, 1024])\n",
      "601 /home/phdcs2/Hard_Disk/Datasets/Deep-Spectral-Segmentation/data/object-segmentation/ECSSD/features/0603_resized.pth\n",
      "dict_keys(['k', 'indices', 'file', 'id', 'model_name', 'patch_size', 'shape'])\n",
      "0603_resized\n"
     ]
    },
    {
     "name": "stderr",
     "output_type": "stream",
     "text": [
      "/home/phdcs2/Hard_Disk/Projects/T2I/deep-spectral-segmentation/venv/lib/python3.8/site-packages/sklearn/decomposition/_pca.py:642: RuntimeWarning: invalid value encountered in divide\n",
      "  self.explained_variance_ratio_ = self.explained_variance_ / total_var\n"
     ]
    },
    {
     "name": "stdout",
     "output_type": "stream",
     "text": [
      "Starting Training\n",
      "epoch: 00, loss: -0.91257\n",
      "epoch: 01, loss: -0.94855\n",
      "epoch: 02, loss: -0.95672\n",
      "epoch: 03, loss: -0.96138\n",
      "epoch: 04, loss: -0.96454\n",
      "epoch: 05, loss: -0.96691\n",
      "epoch: 06, loss: -0.96875\n",
      "epoch: 07, loss: -0.97024\n",
      "epoch: 08, loss: -0.97148\n",
      "epoch: 09, loss: -0.97255\n",
      "torch.Size([1024, 64])\n"
     ]
    },
    {
     "name": "stderr",
     "output_type": "stream",
     "text": [
      " 60%|██████    | 602/999 [11:58:25<8:02:35, 72.94s/it]"
     ]
    },
    {
     "name": "stdout",
     "output_type": "stream",
     "text": [
      "eigenvalues shape torch.Size([5]) eigenvectors shape torch.Size([5, 1024])\n",
      "602 /home/phdcs2/Hard_Disk/Datasets/Deep-Spectral-Segmentation/data/object-segmentation/ECSSD/features/0604_resized.pth\n",
      "dict_keys(['k', 'indices', 'file', 'id', 'model_name', 'patch_size', 'shape'])\n",
      "0604_resized\n",
      "Starting Training\n",
      "epoch: 00, loss: -0.83858\n",
      "epoch: 01, loss: -0.90535\n",
      "epoch: 02, loss: -0.92319\n",
      "epoch: 03, loss: -0.93309\n",
      "epoch: 04, loss: -0.93962\n",
      "epoch: 05, loss: -0.94424\n",
      "epoch: 06, loss: -0.94806\n",
      "epoch: 07, loss: -0.95099\n",
      "epoch: 08, loss: -0.95340\n",
      "epoch: 09, loss: -0.95536\n",
      "torch.Size([1024, 64])\n"
     ]
    },
    {
     "name": "stderr",
     "output_type": "stream",
     "text": [
      " 60%|██████    | 603/999 [11:59:38<8:00:46, 72.84s/it]"
     ]
    },
    {
     "name": "stdout",
     "output_type": "stream",
     "text": [
      "eigenvalues shape torch.Size([5]) eigenvectors shape torch.Size([5, 1024])\n",
      "603 /home/phdcs2/Hard_Disk/Datasets/Deep-Spectral-Segmentation/data/object-segmentation/ECSSD/features/0605_resized.pth\n",
      "dict_keys(['k', 'indices', 'file', 'id', 'model_name', 'patch_size', 'shape'])\n",
      "0605_resized\n",
      "Starting Training\n",
      "epoch: 00, loss: -0.87063\n",
      "epoch: 01, loss: -0.92273\n",
      "epoch: 02, loss: -0.93715\n",
      "epoch: 03, loss: -0.94545\n",
      "epoch: 04, loss: -0.95085\n",
      "epoch: 05, loss: -0.95475\n",
      "epoch: 06, loss: -0.95776\n",
      "epoch: 07, loss: -0.96016\n",
      "epoch: 08, loss: -0.96208\n",
      "epoch: 09, loss: -0.96380\n",
      "torch.Size([1024, 64])\n"
     ]
    },
    {
     "name": "stderr",
     "output_type": "stream",
     "text": [
      " 60%|██████    | 604/999 [12:00:51<7:59:48, 72.88s/it]"
     ]
    },
    {
     "name": "stdout",
     "output_type": "stream",
     "text": [
      "eigenvalues shape torch.Size([5]) eigenvectors shape torch.Size([5, 1024])\n",
      "604 /home/phdcs2/Hard_Disk/Datasets/Deep-Spectral-Segmentation/data/object-segmentation/ECSSD/features/0606_resized.pth\n",
      "dict_keys(['k', 'indices', 'file', 'id', 'model_name', 'patch_size', 'shape'])\n",
      "0606_resized\n",
      "Starting Training\n",
      "epoch: 00, loss: -0.87017\n",
      "epoch: 01, loss: -0.92175\n",
      "epoch: 02, loss: -0.93585\n",
      "epoch: 03, loss: -0.94364\n",
      "epoch: 04, loss: -0.94909\n",
      "epoch: 05, loss: -0.95307\n",
      "epoch: 06, loss: -0.95603\n",
      "epoch: 07, loss: -0.95843\n",
      "epoch: 08, loss: -0.96042\n",
      "epoch: 09, loss: -0.96206\n",
      "torch.Size([1024, 64])\n"
     ]
    },
    {
     "name": "stderr",
     "output_type": "stream",
     "text": [
      " 61%|██████    | 605/999 [12:02:00<7:52:01, 71.88s/it]"
     ]
    },
    {
     "name": "stdout",
     "output_type": "stream",
     "text": [
      "eigenvalues shape torch.Size([5]) eigenvectors shape torch.Size([5, 1024])\n",
      "605 /home/phdcs2/Hard_Disk/Datasets/Deep-Spectral-Segmentation/data/object-segmentation/ECSSD/features/0607_resized.pth\n",
      "dict_keys(['k', 'indices', 'file', 'id', 'model_name', 'patch_size', 'shape'])\n",
      "0607_resized\n"
     ]
    },
    {
     "name": "stderr",
     "output_type": "stream",
     "text": [
      "/home/phdcs2/Hard_Disk/Projects/T2I/deep-spectral-segmentation/venv/lib/python3.8/site-packages/sklearn/decomposition/_pca.py:642: RuntimeWarning: invalid value encountered in divide\n",
      "  self.explained_variance_ratio_ = self.explained_variance_ / total_var\n"
     ]
    },
    {
     "name": "stdout",
     "output_type": "stream",
     "text": [
      "Starting Training\n",
      "epoch: 00, loss: -0.92586\n",
      "epoch: 01, loss: -0.95580\n",
      "epoch: 02, loss: -0.96238\n",
      "epoch: 03, loss: -0.96624\n",
      "epoch: 04, loss: -0.96888\n",
      "epoch: 05, loss: -0.97082\n",
      "epoch: 06, loss: -0.97237\n",
      "epoch: 07, loss: -0.97362\n",
      "epoch: 08, loss: -0.97468\n",
      "epoch: 09, loss: -0.97559\n",
      "torch.Size([1024, 64])\n"
     ]
    },
    {
     "name": "stderr",
     "output_type": "stream",
     "text": [
      " 61%|██████    | 606/999 [12:03:15<7:56:58, 72.82s/it]"
     ]
    },
    {
     "name": "stdout",
     "output_type": "stream",
     "text": [
      "eigenvalues shape torch.Size([5]) eigenvectors shape torch.Size([5, 1024])\n",
      "606 /home/phdcs2/Hard_Disk/Datasets/Deep-Spectral-Segmentation/data/object-segmentation/ECSSD/features/0608_resized.pth\n",
      "dict_keys(['k', 'indices', 'file', 'id', 'model_name', 'patch_size', 'shape'])\n",
      "0608_resized\n",
      "Starting Training\n",
      "epoch: 00, loss: -0.90012\n",
      "epoch: 01, loss: -0.94049\n",
      "epoch: 02, loss: -0.94997\n",
      "epoch: 03, loss: -0.95543\n",
      "epoch: 04, loss: -0.95918\n",
      "epoch: 05, loss: -0.96184\n",
      "epoch: 06, loss: -0.96399\n",
      "epoch: 07, loss: -0.96568\n",
      "epoch: 08, loss: -0.96712\n",
      "epoch: 09, loss: -0.96833\n",
      "torch.Size([1024, 64])\n"
     ]
    },
    {
     "name": "stderr",
     "output_type": "stream",
     "text": [
      " 61%|██████    | 607/999 [12:04:28<7:56:28, 72.93s/it]"
     ]
    },
    {
     "name": "stdout",
     "output_type": "stream",
     "text": [
      "eigenvalues shape torch.Size([5]) eigenvectors shape torch.Size([5, 1024])\n",
      "607 /home/phdcs2/Hard_Disk/Datasets/Deep-Spectral-Segmentation/data/object-segmentation/ECSSD/features/0609_resized.pth\n",
      "dict_keys(['k', 'indices', 'file', 'id', 'model_name', 'patch_size', 'shape'])\n",
      "0609_resized\n"
     ]
    },
    {
     "name": "stderr",
     "output_type": "stream",
     "text": [
      "/home/phdcs2/Hard_Disk/Projects/T2I/deep-spectral-segmentation/venv/lib/python3.8/site-packages/sklearn/decomposition/_pca.py:642: RuntimeWarning: invalid value encountered in divide\n",
      "  self.explained_variance_ratio_ = self.explained_variance_ / total_var\n"
     ]
    },
    {
     "name": "stdout",
     "output_type": "stream",
     "text": [
      "Starting Training\n",
      "epoch: 00, loss: -0.90907\n",
      "epoch: 01, loss: -0.94359\n",
      "epoch: 02, loss: -0.95263\n",
      "epoch: 03, loss: -0.95780\n",
      "epoch: 04, loss: -0.96141\n",
      "epoch: 05, loss: -0.96409\n",
      "epoch: 06, loss: -0.96619\n",
      "epoch: 07, loss: -0.96791\n",
      "epoch: 08, loss: -0.96933\n",
      "epoch: 09, loss: -0.97057\n",
      "torch.Size([1024, 64])\n"
     ]
    },
    {
     "name": "stderr",
     "output_type": "stream",
     "text": [
      " 61%|██████    | 608/999 [12:05:33<7:39:52, 70.57s/it]"
     ]
    },
    {
     "name": "stdout",
     "output_type": "stream",
     "text": [
      "eigenvalues shape torch.Size([5]) eigenvectors shape torch.Size([5, 1024])\n",
      "608 /home/phdcs2/Hard_Disk/Datasets/Deep-Spectral-Segmentation/data/object-segmentation/ECSSD/features/0610_resized.pth\n",
      "dict_keys(['k', 'indices', 'file', 'id', 'model_name', 'patch_size', 'shape'])\n",
      "0610_resized\n"
     ]
    },
    {
     "name": "stderr",
     "output_type": "stream",
     "text": [
      "/home/phdcs2/Hard_Disk/Projects/T2I/deep-spectral-segmentation/venv/lib/python3.8/site-packages/sklearn/decomposition/_pca.py:642: RuntimeWarning: invalid value encountered in divide\n",
      "  self.explained_variance_ratio_ = self.explained_variance_ / total_var\n"
     ]
    },
    {
     "name": "stdout",
     "output_type": "stream",
     "text": [
      "Starting Training\n",
      "epoch: 00, loss: -0.93918\n",
      "epoch: 01, loss: -0.96526\n",
      "epoch: 02, loss: -0.97049\n",
      "epoch: 03, loss: -0.97354\n",
      "epoch: 04, loss: -0.97563\n",
      "epoch: 05, loss: -0.97724\n",
      "epoch: 06, loss: -0.97847\n",
      "epoch: 07, loss: -0.97952\n",
      "epoch: 08, loss: -0.98036\n",
      "epoch: 09, loss: -0.98109\n",
      "torch.Size([1024, 64])\n"
     ]
    },
    {
     "name": "stderr",
     "output_type": "stream",
     "text": [
      " 61%|██████    | 609/999 [12:06:47<7:45:31, 71.62s/it]"
     ]
    },
    {
     "name": "stdout",
     "output_type": "stream",
     "text": [
      "eigenvalues shape torch.Size([5]) eigenvectors shape torch.Size([5, 1024])\n",
      "609 /home/phdcs2/Hard_Disk/Datasets/Deep-Spectral-Segmentation/data/object-segmentation/ECSSD/features/0611_resized.pth\n",
      "dict_keys(['k', 'indices', 'file', 'id', 'model_name', 'patch_size', 'shape'])\n",
      "0611_resized\n",
      "Starting Training\n",
      "epoch: 00, loss: -0.87560\n",
      "epoch: 01, loss: -0.92840\n",
      "epoch: 02, loss: -0.94110\n",
      "epoch: 03, loss: -0.94828\n",
      "epoch: 04, loss: -0.95317\n",
      "epoch: 05, loss: -0.95673\n",
      "epoch: 06, loss: -0.95954\n",
      "epoch: 07, loss: -0.96175\n",
      "epoch: 08, loss: -0.96359\n",
      "epoch: 09, loss: -0.96516\n",
      "torch.Size([1024, 64])\n"
     ]
    },
    {
     "name": "stderr",
     "output_type": "stream",
     "text": [
      " 61%|██████    | 610/999 [12:08:05<7:56:26, 73.49s/it]"
     ]
    },
    {
     "name": "stdout",
     "output_type": "stream",
     "text": [
      "eigenvalues shape torch.Size([5]) eigenvectors shape torch.Size([5, 1024])\n",
      "610 /home/phdcs2/Hard_Disk/Datasets/Deep-Spectral-Segmentation/data/object-segmentation/ECSSD/features/0612_resized.pth\n",
      "dict_keys(['k', 'indices', 'file', 'id', 'model_name', 'patch_size', 'shape'])\n",
      "0612_resized\n",
      "Starting Training\n",
      "epoch: 00, loss: -0.83477\n",
      "epoch: 01, loss: -0.90367\n",
      "epoch: 02, loss: -0.92207\n",
      "epoch: 03, loss: -0.93248\n",
      "epoch: 04, loss: -0.93900\n",
      "epoch: 05, loss: -0.94387\n",
      "epoch: 06, loss: -0.94753\n",
      "epoch: 07, loss: -0.95047\n",
      "epoch: 08, loss: -0.95296\n",
      "epoch: 09, loss: -0.95503\n",
      "torch.Size([1024, 64])\n"
     ]
    },
    {
     "name": "stderr",
     "output_type": "stream",
     "text": [
      " 61%|██████    | 611/999 [12:09:19<7:56:17, 73.65s/it]"
     ]
    },
    {
     "name": "stdout",
     "output_type": "stream",
     "text": [
      "eigenvalues shape torch.Size([5]) eigenvectors shape torch.Size([5, 1024])\n",
      "611 /home/phdcs2/Hard_Disk/Datasets/Deep-Spectral-Segmentation/data/object-segmentation/ECSSD/features/0613_resized.pth\n",
      "dict_keys(['k', 'indices', 'file', 'id', 'model_name', 'patch_size', 'shape'])\n",
      "0613_resized\n",
      "Starting Training\n",
      "epoch: 00, loss: -0.85679\n",
      "epoch: 01, loss: -0.91598\n",
      "epoch: 02, loss: -0.93053\n",
      "epoch: 03, loss: -0.93895\n",
      "epoch: 04, loss: -0.94460\n",
      "epoch: 05, loss: -0.94886\n",
      "epoch: 06, loss: -0.95200\n",
      "epoch: 07, loss: -0.95455\n",
      "epoch: 08, loss: -0.95658\n",
      "epoch: 09, loss: -0.95836\n",
      "torch.Size([1024, 64])\n"
     ]
    },
    {
     "name": "stderr",
     "output_type": "stream",
     "text": [
      " 61%|██████▏   | 612/999 [12:10:33<7:55:22, 73.70s/it]"
     ]
    },
    {
     "name": "stdout",
     "output_type": "stream",
     "text": [
      "eigenvalues shape torch.Size([5]) eigenvectors shape torch.Size([5, 1024])\n",
      "612 /home/phdcs2/Hard_Disk/Datasets/Deep-Spectral-Segmentation/data/object-segmentation/ECSSD/features/0614_resized.pth\n",
      "dict_keys(['k', 'indices', 'file', 'id', 'model_name', 'patch_size', 'shape'])\n",
      "0614_resized\n",
      "Starting Training\n",
      "epoch: 00, loss: -0.88310\n",
      "epoch: 01, loss: -0.93048\n",
      "epoch: 02, loss: -0.94240\n",
      "epoch: 03, loss: -0.94929\n",
      "epoch: 04, loss: -0.95394\n",
      "epoch: 05, loss: -0.95726\n",
      "epoch: 06, loss: -0.95987\n",
      "epoch: 07, loss: -0.96194\n",
      "epoch: 08, loss: -0.96381\n",
      "epoch: 09, loss: -0.96524\n",
      "torch.Size([1024, 64])\n"
     ]
    },
    {
     "name": "stderr",
     "output_type": "stream",
     "text": [
      " 61%|██████▏   | 613/999 [12:11:46<7:53:25, 73.59s/it]"
     ]
    },
    {
     "name": "stdout",
     "output_type": "stream",
     "text": [
      "eigenvalues shape torch.Size([5]) eigenvectors shape torch.Size([5, 1024])\n",
      "613 /home/phdcs2/Hard_Disk/Datasets/Deep-Spectral-Segmentation/data/object-segmentation/ECSSD/features/0615_resized.pth\n",
      "dict_keys(['k', 'indices', 'file', 'id', 'model_name', 'patch_size', 'shape'])\n",
      "0615_resized\n",
      "Starting Training\n",
      "epoch: 00, loss: -0.86188\n",
      "epoch: 01, loss: -0.91660\n",
      "epoch: 02, loss: -0.93125\n",
      "epoch: 03, loss: -0.93942\n",
      "epoch: 04, loss: -0.94474\n",
      "epoch: 05, loss: -0.94901\n",
      "epoch: 06, loss: -0.95193\n",
      "epoch: 07, loss: -0.95456\n",
      "epoch: 08, loss: -0.95658\n",
      "epoch: 09, loss: -0.95830\n",
      "torch.Size([1024, 64])\n"
     ]
    },
    {
     "name": "stderr",
     "output_type": "stream",
     "text": [
      " 61%|██████▏   | 614/999 [12:12:52<7:37:03, 71.23s/it]"
     ]
    },
    {
     "name": "stdout",
     "output_type": "stream",
     "text": [
      "eigenvalues shape torch.Size([5]) eigenvectors shape torch.Size([5, 1024])\n",
      "614 /home/phdcs2/Hard_Disk/Datasets/Deep-Spectral-Segmentation/data/object-segmentation/ECSSD/features/0616_resized.pth\n",
      "dict_keys(['k', 'indices', 'file', 'id', 'model_name', 'patch_size', 'shape'])\n",
      "0616_resized\n"
     ]
    },
    {
     "name": "stderr",
     "output_type": "stream",
     "text": [
      "/home/phdcs2/Hard_Disk/Projects/T2I/deep-spectral-segmentation/venv/lib/python3.8/site-packages/sklearn/decomposition/_pca.py:642: RuntimeWarning: invalid value encountered in divide\n",
      "  self.explained_variance_ratio_ = self.explained_variance_ / total_var\n"
     ]
    },
    {
     "name": "stdout",
     "output_type": "stream",
     "text": [
      "Starting Training\n",
      "epoch: 00, loss: -0.91740\n",
      "epoch: 01, loss: -0.95290\n",
      "epoch: 02, loss: -0.96095\n",
      "epoch: 03, loss: -0.96552\n",
      "epoch: 04, loss: -0.96862\n",
      "epoch: 05, loss: -0.97091\n",
      "epoch: 06, loss: -0.97268\n",
      "epoch: 07, loss: -0.97413\n",
      "epoch: 08, loss: -0.97531\n",
      "epoch: 09, loss: -0.97633\n",
      "torch.Size([1024, 64])\n"
     ]
    },
    {
     "name": "stderr",
     "output_type": "stream",
     "text": [
      " 62%|██████▏   | 615/999 [12:13:57<7:23:06, 69.24s/it]"
     ]
    },
    {
     "name": "stdout",
     "output_type": "stream",
     "text": [
      "eigenvalues shape torch.Size([5]) eigenvectors shape torch.Size([5, 1024])\n",
      "615 /home/phdcs2/Hard_Disk/Datasets/Deep-Spectral-Segmentation/data/object-segmentation/ECSSD/features/0617_resized.pth\n",
      "dict_keys(['k', 'indices', 'file', 'id', 'model_name', 'patch_size', 'shape'])\n",
      "0617_resized\n",
      "Starting Training\n",
      "epoch: 00, loss: -0.86177\n",
      "epoch: 01, loss: -0.91913\n",
      "epoch: 02, loss: -0.93363\n",
      "epoch: 03, loss: -0.94154\n",
      "epoch: 04, loss: -0.94694\n",
      "epoch: 05, loss: -0.95089\n",
      "epoch: 06, loss: -0.95410\n",
      "epoch: 07, loss: -0.95667\n",
      "epoch: 08, loss: -0.95874\n",
      "epoch: 09, loss: -0.96045\n",
      "torch.Size([1024, 64])\n"
     ]
    },
    {
     "name": "stderr",
     "output_type": "stream",
     "text": [
      " 62%|██████▏   | 616/999 [12:15:05<7:19:27, 68.84s/it]"
     ]
    },
    {
     "name": "stdout",
     "output_type": "stream",
     "text": [
      "eigenvalues shape torch.Size([5]) eigenvectors shape torch.Size([5, 1024])\n",
      "616 /home/phdcs2/Hard_Disk/Datasets/Deep-Spectral-Segmentation/data/object-segmentation/ECSSD/features/0618_resized.pth\n",
      "dict_keys(['k', 'indices', 'file', 'id', 'model_name', 'patch_size', 'shape'])\n",
      "0618_resized\n"
     ]
    },
    {
     "name": "stderr",
     "output_type": "stream",
     "text": [
      "/home/phdcs2/Hard_Disk/Projects/T2I/deep-spectral-segmentation/venv/lib/python3.8/site-packages/sklearn/decomposition/_pca.py:642: RuntimeWarning: invalid value encountered in divide\n",
      "  self.explained_variance_ratio_ = self.explained_variance_ / total_var\n"
     ]
    },
    {
     "name": "stdout",
     "output_type": "stream",
     "text": [
      "Starting Training\n",
      "epoch: 00, loss: -0.91162\n",
      "epoch: 01, loss: -0.94628\n",
      "epoch: 02, loss: -0.95453\n",
      "epoch: 03, loss: -0.95924\n",
      "epoch: 04, loss: -0.96251\n",
      "epoch: 05, loss: -0.96491\n",
      "epoch: 06, loss: -0.96685\n",
      "epoch: 07, loss: -0.96836\n",
      "epoch: 08, loss: -0.96967\n",
      "epoch: 09, loss: -0.97079\n",
      "torch.Size([1024, 64])\n"
     ]
    },
    {
     "name": "stderr",
     "output_type": "stream",
     "text": [
      " 62%|██████▏   | 617/999 [12:16:09<7:10:17, 67.59s/it]"
     ]
    },
    {
     "name": "stdout",
     "output_type": "stream",
     "text": [
      "eigenvalues shape torch.Size([5]) eigenvectors shape torch.Size([5, 1024])\n",
      "617 /home/phdcs2/Hard_Disk/Datasets/Deep-Spectral-Segmentation/data/object-segmentation/ECSSD/features/0619_resized.pth\n",
      "dict_keys(['k', 'indices', 'file', 'id', 'model_name', 'patch_size', 'shape'])\n",
      "0619_resized\n"
     ]
    },
    {
     "name": "stderr",
     "output_type": "stream",
     "text": [
      "/home/phdcs2/Hard_Disk/Projects/T2I/deep-spectral-segmentation/venv/lib/python3.8/site-packages/sklearn/decomposition/_pca.py:642: RuntimeWarning: invalid value encountered in divide\n",
      "  self.explained_variance_ratio_ = self.explained_variance_ / total_var\n"
     ]
    },
    {
     "name": "stdout",
     "output_type": "stream",
     "text": [
      "Starting Training\n",
      "epoch: 00, loss: -0.90712\n",
      "epoch: 01, loss: -0.94499\n",
      "epoch: 02, loss: -0.95377\n",
      "epoch: 03, loss: -0.95893\n",
      "epoch: 04, loss: -0.96247\n",
      "epoch: 05, loss: -0.96510\n",
      "epoch: 06, loss: -0.96716\n",
      "epoch: 07, loss: -0.96885\n",
      "epoch: 08, loss: -0.97028\n",
      "epoch: 09, loss: -0.97147\n",
      "torch.Size([1024, 64])\n"
     ]
    },
    {
     "name": "stderr",
     "output_type": "stream",
     "text": [
      " 62%|██████▏   | 618/999 [12:17:09<6:54:37, 65.30s/it]"
     ]
    },
    {
     "name": "stdout",
     "output_type": "stream",
     "text": [
      "eigenvalues shape torch.Size([5]) eigenvectors shape torch.Size([5, 1024])\n",
      "618 /home/phdcs2/Hard_Disk/Datasets/Deep-Spectral-Segmentation/data/object-segmentation/ECSSD/features/0620_resized.pth\n",
      "dict_keys(['k', 'indices', 'file', 'id', 'model_name', 'patch_size', 'shape'])\n",
      "0620_resized\n"
     ]
    },
    {
     "name": "stderr",
     "output_type": "stream",
     "text": [
      "/home/phdcs2/Hard_Disk/Projects/T2I/deep-spectral-segmentation/venv/lib/python3.8/site-packages/sklearn/decomposition/_pca.py:642: RuntimeWarning: invalid value encountered in divide\n",
      "  self.explained_variance_ratio_ = self.explained_variance_ / total_var\n"
     ]
    },
    {
     "name": "stdout",
     "output_type": "stream",
     "text": [
      "Starting Training\n",
      "epoch: 00, loss: -0.92503\n",
      "epoch: 01, loss: -0.95119\n",
      "epoch: 02, loss: -0.95852\n",
      "epoch: 03, loss: -0.96286\n",
      "epoch: 04, loss: -0.96577\n",
      "epoch: 05, loss: -0.96802\n",
      "epoch: 06, loss: -0.96979\n",
      "epoch: 07, loss: -0.97121\n",
      "epoch: 08, loss: -0.97240\n",
      "epoch: 09, loss: -0.97345\n",
      "torch.Size([1024, 64])\n"
     ]
    },
    {
     "name": "stderr",
     "output_type": "stream",
     "text": [
      " 62%|██████▏   | 619/999 [12:18:08<6:40:45, 63.28s/it]"
     ]
    },
    {
     "name": "stdout",
     "output_type": "stream",
     "text": [
      "eigenvalues shape torch.Size([5]) eigenvectors shape torch.Size([5, 1024])\n",
      "619 /home/phdcs2/Hard_Disk/Datasets/Deep-Spectral-Segmentation/data/object-segmentation/ECSSD/features/0621_resized.pth\n",
      "dict_keys(['k', 'indices', 'file', 'id', 'model_name', 'patch_size', 'shape'])\n",
      "0621_resized\n",
      "Starting Training\n",
      "epoch: 00, loss: -0.87781\n",
      "epoch: 01, loss: -0.92642\n",
      "epoch: 02, loss: -0.93935\n",
      "epoch: 03, loss: -0.94663\n",
      "epoch: 04, loss: -0.95155\n",
      "epoch: 05, loss: -0.95523\n",
      "epoch: 06, loss: -0.95798\n",
      "epoch: 07, loss: -0.96038\n",
      "epoch: 08, loss: -0.96219\n",
      "epoch: 09, loss: -0.96375\n",
      "torch.Size([1024, 64])\n"
     ]
    },
    {
     "name": "stderr",
     "output_type": "stream",
     "text": [
      " 62%|██████▏   | 620/999 [12:19:03<6:24:54, 60.94s/it]"
     ]
    },
    {
     "name": "stdout",
     "output_type": "stream",
     "text": [
      "eigenvalues shape torch.Size([5]) eigenvectors shape torch.Size([5, 1024])\n",
      "620 /home/phdcs2/Hard_Disk/Datasets/Deep-Spectral-Segmentation/data/object-segmentation/ECSSD/features/0622_resized.pth\n",
      "dict_keys(['k', 'indices', 'file', 'id', 'model_name', 'patch_size', 'shape'])\n",
      "0622_resized\n",
      "Starting Training\n",
      "epoch: 00, loss: -0.87568\n",
      "epoch: 01, loss: -0.92638\n",
      "epoch: 02, loss: -0.93883\n",
      "epoch: 03, loss: -0.94596\n",
      "epoch: 04, loss: -0.95091\n",
      "epoch: 05, loss: -0.95457\n",
      "epoch: 06, loss: -0.95737\n",
      "epoch: 07, loss: -0.95956\n",
      "epoch: 08, loss: -0.96156\n",
      "epoch: 09, loss: -0.96313\n",
      "torch.Size([1024, 64])\n"
     ]
    },
    {
     "name": "stderr",
     "output_type": "stream",
     "text": [
      " 62%|██████▏   | 621/999 [12:20:03<6:20:59, 60.48s/it]"
     ]
    },
    {
     "name": "stdout",
     "output_type": "stream",
     "text": [
      "eigenvalues shape torch.Size([5]) eigenvectors shape torch.Size([5, 1024])\n",
      "621 /home/phdcs2/Hard_Disk/Datasets/Deep-Spectral-Segmentation/data/object-segmentation/ECSSD/features/0623_resized.pth\n",
      "dict_keys(['k', 'indices', 'file', 'id', 'model_name', 'patch_size', 'shape'])\n",
      "0623_resized\n",
      "Starting Training\n",
      "epoch: 00, loss: -0.86531\n",
      "epoch: 01, loss: -0.92032\n",
      "epoch: 02, loss: -0.93407\n",
      "epoch: 03, loss: -0.94204\n",
      "epoch: 04, loss: -0.94723\n",
      "epoch: 05, loss: -0.95108\n",
      "epoch: 06, loss: -0.95409\n",
      "epoch: 07, loss: -0.95651\n",
      "epoch: 08, loss: -0.95855\n",
      "epoch: 09, loss: -0.96018\n",
      "torch.Size([1024, 64])\n"
     ]
    },
    {
     "name": "stderr",
     "output_type": "stream",
     "text": [
      " 62%|██████▏   | 622/999 [12:21:10<6:32:34, 62.48s/it]"
     ]
    },
    {
     "name": "stdout",
     "output_type": "stream",
     "text": [
      "eigenvalues shape torch.Size([5]) eigenvectors shape torch.Size([5, 1024])\n",
      "622 /home/phdcs2/Hard_Disk/Datasets/Deep-Spectral-Segmentation/data/object-segmentation/ECSSD/features/0624_resized.pth\n",
      "dict_keys(['k', 'indices', 'file', 'id', 'model_name', 'patch_size', 'shape'])\n",
      "0624_resized\n"
     ]
    },
    {
     "name": "stderr",
     "output_type": "stream",
     "text": [
      "/home/phdcs2/Hard_Disk/Projects/T2I/deep-spectral-segmentation/venv/lib/python3.8/site-packages/sklearn/decomposition/_pca.py:642: RuntimeWarning: invalid value encountered in divide\n",
      "  self.explained_variance_ratio_ = self.explained_variance_ / total_var\n"
     ]
    },
    {
     "name": "stdout",
     "output_type": "stream",
     "text": [
      "Starting Training\n",
      "epoch: 00, loss: -0.94368\n",
      "epoch: 01, loss: -0.96581\n",
      "epoch: 02, loss: -0.97103\n",
      "epoch: 03, loss: -0.97410\n",
      "epoch: 04, loss: -0.97624\n",
      "epoch: 05, loss: -0.97781\n",
      "epoch: 06, loss: -0.97906\n",
      "epoch: 07, loss: -0.98008\n",
      "epoch: 08, loss: -0.98094\n",
      "epoch: 09, loss: -0.98166\n",
      "torch.Size([1024, 64])\n"
     ]
    },
    {
     "name": "stderr",
     "output_type": "stream",
     "text": [
      " 62%|██████▏   | 623/999 [12:22:14<6:34:12, 62.90s/it]"
     ]
    },
    {
     "name": "stdout",
     "output_type": "stream",
     "text": [
      "eigenvalues shape torch.Size([5]) eigenvectors shape torch.Size([5, 1024])\n",
      "623 /home/phdcs2/Hard_Disk/Datasets/Deep-Spectral-Segmentation/data/object-segmentation/ECSSD/features/0625_resized.pth\n",
      "dict_keys(['k', 'indices', 'file', 'id', 'model_name', 'patch_size', 'shape'])\n",
      "0625_resized\n",
      "Starting Training\n",
      "epoch: 00, loss: -0.90428\n",
      "epoch: 01, loss: -0.94272\n",
      "epoch: 02, loss: -0.95207\n",
      "epoch: 03, loss: -0.95750\n",
      "epoch: 04, loss: -0.96117\n",
      "epoch: 05, loss: -0.96392\n",
      "epoch: 06, loss: -0.96607\n",
      "epoch: 07, loss: -0.96778\n",
      "epoch: 08, loss: -0.96925\n",
      "epoch: 09, loss: -0.97050\n",
      "torch.Size([1024, 64])\n"
     ]
    },
    {
     "name": "stderr",
     "output_type": "stream",
     "text": [
      " 62%|██████▏   | 624/999 [12:23:11<6:23:00, 61.28s/it]"
     ]
    },
    {
     "name": "stdout",
     "output_type": "stream",
     "text": [
      "eigenvalues shape torch.Size([5]) eigenvectors shape torch.Size([5, 1024])\n",
      "624 /home/phdcs2/Hard_Disk/Datasets/Deep-Spectral-Segmentation/data/object-segmentation/ECSSD/features/0626_resized.pth\n",
      "dict_keys(['k', 'indices', 'file', 'id', 'model_name', 'patch_size', 'shape'])\n",
      "0626_resized\n",
      "Starting Training\n",
      "epoch: 00, loss: -0.89309\n",
      "epoch: 01, loss: -0.93592\n",
      "epoch: 02, loss: -0.94702\n",
      "epoch: 03, loss: -0.95338\n",
      "epoch: 04, loss: -0.95751\n",
      "epoch: 05, loss: -0.96061\n",
      "epoch: 06, loss: -0.96298\n",
      "epoch: 07, loss: -0.96489\n",
      "epoch: 08, loss: -0.96648\n",
      "epoch: 09, loss: -0.96790\n",
      "torch.Size([1024, 64])\n"
     ]
    },
    {
     "name": "stderr",
     "output_type": "stream",
     "text": [
      " 63%|██████▎   | 625/999 [12:24:25<6:44:51, 64.95s/it]"
     ]
    },
    {
     "name": "stdout",
     "output_type": "stream",
     "text": [
      "eigenvalues shape torch.Size([5]) eigenvectors shape torch.Size([5, 1024])\n",
      "625 /home/phdcs2/Hard_Disk/Datasets/Deep-Spectral-Segmentation/data/object-segmentation/ECSSD/features/0627_resized.pth\n",
      "dict_keys(['k', 'indices', 'file', 'id', 'model_name', 'patch_size', 'shape'])\n",
      "0627_resized\n",
      "Starting Training\n",
      "epoch: 00, loss: -0.90844\n",
      "epoch: 01, loss: -0.94435\n",
      "epoch: 02, loss: -0.95354\n",
      "epoch: 03, loss: -0.95880\n",
      "epoch: 04, loss: -0.96239\n",
      "epoch: 05, loss: -0.96509\n",
      "epoch: 06, loss: -0.96715\n",
      "epoch: 07, loss: -0.96886\n",
      "epoch: 08, loss: -0.97026\n",
      "epoch: 09, loss: -0.97148\n",
      "torch.Size([1024, 64])\n"
     ]
    },
    {
     "name": "stderr",
     "output_type": "stream",
     "text": [
      " 63%|██████▎   | 626/999 [12:25:41<7:05:42, 68.48s/it]"
     ]
    },
    {
     "name": "stdout",
     "output_type": "stream",
     "text": [
      "eigenvalues shape torch.Size([5]) eigenvectors shape torch.Size([5, 1024])\n",
      "626 /home/phdcs2/Hard_Disk/Datasets/Deep-Spectral-Segmentation/data/object-segmentation/ECSSD/features/0628_resized.pth\n",
      "dict_keys(['k', 'indices', 'file', 'id', 'model_name', 'patch_size', 'shape'])\n",
      "0628_resized\n"
     ]
    },
    {
     "name": "stderr",
     "output_type": "stream",
     "text": [
      "/home/phdcs2/Hard_Disk/Projects/T2I/deep-spectral-segmentation/venv/lib/python3.8/site-packages/sklearn/decomposition/_pca.py:642: RuntimeWarning: invalid value encountered in divide\n",
      "  self.explained_variance_ratio_ = self.explained_variance_ / total_var\n"
     ]
    },
    {
     "name": "stdout",
     "output_type": "stream",
     "text": [
      "Starting Training\n",
      "epoch: 00, loss: -0.92281\n",
      "epoch: 01, loss: -0.95362\n",
      "epoch: 02, loss: -0.96099\n",
      "epoch: 03, loss: -0.96525\n",
      "epoch: 04, loss: -0.96817\n",
      "epoch: 05, loss: -0.97033\n",
      "epoch: 06, loss: -0.97206\n",
      "epoch: 07, loss: -0.97343\n",
      "epoch: 08, loss: -0.97461\n",
      "epoch: 09, loss: -0.97558\n",
      "torch.Size([1024, 64])\n"
     ]
    },
    {
     "name": "stderr",
     "output_type": "stream",
     "text": [
      " 63%|██████▎   | 627/999 [12:26:54<7:11:27, 69.59s/it]"
     ]
    },
    {
     "name": "stdout",
     "output_type": "stream",
     "text": [
      "eigenvalues shape torch.Size([5]) eigenvectors shape torch.Size([5, 1024])\n",
      "627 /home/phdcs2/Hard_Disk/Datasets/Deep-Spectral-Segmentation/data/object-segmentation/ECSSD/features/0629_resized.pth\n",
      "dict_keys(['k', 'indices', 'file', 'id', 'model_name', 'patch_size', 'shape'])\n",
      "0629_resized\n"
     ]
    },
    {
     "name": "stderr",
     "output_type": "stream",
     "text": [
      "/home/phdcs2/Hard_Disk/Projects/T2I/deep-spectral-segmentation/venv/lib/python3.8/site-packages/sklearn/decomposition/_pca.py:642: RuntimeWarning: invalid value encountered in divide\n",
      "  self.explained_variance_ratio_ = self.explained_variance_ / total_var\n"
     ]
    },
    {
     "name": "stdout",
     "output_type": "stream",
     "text": [
      "Starting Training\n",
      "epoch: 00, loss: -0.90974\n",
      "epoch: 01, loss: -0.94531\n",
      "epoch: 02, loss: -0.95371\n",
      "epoch: 03, loss: -0.95868\n",
      "epoch: 04, loss: -0.96205\n",
      "epoch: 05, loss: -0.96458\n",
      "epoch: 06, loss: -0.96654\n",
      "epoch: 07, loss: -0.96816\n",
      "epoch: 08, loss: -0.96951\n",
      "epoch: 09, loss: -0.97067\n",
      "torch.Size([1024, 64])\n"
     ]
    },
    {
     "name": "stderr",
     "output_type": "stream",
     "text": [
      " 63%|██████▎   | 628/999 [12:28:07<7:17:01, 70.68s/it]"
     ]
    },
    {
     "name": "stdout",
     "output_type": "stream",
     "text": [
      "eigenvalues shape torch.Size([5]) eigenvectors shape torch.Size([5, 1024])\n",
      "628 /home/phdcs2/Hard_Disk/Datasets/Deep-Spectral-Segmentation/data/object-segmentation/ECSSD/features/0630_resized.pth\n",
      "dict_keys(['k', 'indices', 'file', 'id', 'model_name', 'patch_size', 'shape'])\n",
      "0630_resized\n",
      "Starting Training\n",
      "epoch: 00, loss: -0.88939\n",
      "epoch: 01, loss: -0.93425\n",
      "epoch: 02, loss: -0.94567\n",
      "epoch: 03, loss: -0.95243\n",
      "epoch: 04, loss: -0.95678\n",
      "epoch: 05, loss: -0.96002\n",
      "epoch: 06, loss: -0.96254\n",
      "epoch: 07, loss: -0.96459\n",
      "epoch: 08, loss: -0.96629\n",
      "epoch: 09, loss: -0.96779\n",
      "torch.Size([1024, 64])\n"
     ]
    },
    {
     "name": "stderr",
     "output_type": "stream",
     "text": [
      " 63%|██████▎   | 629/999 [12:29:16<7:13:01, 70.22s/it]"
     ]
    },
    {
     "name": "stdout",
     "output_type": "stream",
     "text": [
      "eigenvalues shape torch.Size([5]) eigenvectors shape torch.Size([5, 1024])\n",
      "629 /home/phdcs2/Hard_Disk/Datasets/Deep-Spectral-Segmentation/data/object-segmentation/ECSSD/features/0631_resized.pth\n",
      "dict_keys(['k', 'indices', 'file', 'id', 'model_name', 'patch_size', 'shape'])\n",
      "0631_resized\n",
      "Starting Training\n",
      "epoch: 00, loss: -0.87196\n",
      "epoch: 01, loss: -0.92557\n",
      "epoch: 02, loss: -0.93844\n",
      "epoch: 03, loss: -0.94592\n",
      "epoch: 04, loss: -0.95089\n",
      "epoch: 05, loss: -0.95444\n",
      "epoch: 06, loss: -0.95724\n",
      "epoch: 07, loss: -0.95951\n",
      "epoch: 08, loss: -0.96143\n",
      "epoch: 09, loss: -0.96304\n",
      "torch.Size([1024, 64])\n"
     ]
    },
    {
     "name": "stderr",
     "output_type": "stream",
     "text": [
      " 63%|██████▎   | 630/999 [12:30:23<7:06:44, 69.39s/it]"
     ]
    },
    {
     "name": "stdout",
     "output_type": "stream",
     "text": [
      "eigenvalues shape torch.Size([5]) eigenvectors shape torch.Size([5, 1024])\n",
      "630 /home/phdcs2/Hard_Disk/Datasets/Deep-Spectral-Segmentation/data/object-segmentation/ECSSD/features/0632_resized.pth\n",
      "dict_keys(['k', 'indices', 'file', 'id', 'model_name', 'patch_size', 'shape'])\n",
      "0632_resized\n",
      "Starting Training\n",
      "epoch: 00, loss: -0.87571\n",
      "epoch: 01, loss: -0.92787\n",
      "epoch: 02, loss: -0.94067\n",
      "epoch: 03, loss: -0.94772\n",
      "epoch: 04, loss: -0.95256\n",
      "epoch: 05, loss: -0.95601\n",
      "epoch: 06, loss: -0.95877\n",
      "epoch: 07, loss: -0.96099\n",
      "epoch: 08, loss: -0.96279\n",
      "epoch: 09, loss: -0.96440\n",
      "torch.Size([1024, 64])\n"
     ]
    },
    {
     "name": "stderr",
     "output_type": "stream",
     "text": [
      " 63%|██████▎   | 631/999 [12:31:22<6:45:38, 66.14s/it]"
     ]
    },
    {
     "name": "stdout",
     "output_type": "stream",
     "text": [
      "eigenvalues shape torch.Size([5]) eigenvectors shape torch.Size([5, 1024])\n",
      "631 /home/phdcs2/Hard_Disk/Datasets/Deep-Spectral-Segmentation/data/object-segmentation/ECSSD/features/0633_resized.pth\n",
      "dict_keys(['k', 'indices', 'file', 'id', 'model_name', 'patch_size', 'shape'])\n",
      "0633_resized\n"
     ]
    },
    {
     "name": "stderr",
     "output_type": "stream",
     "text": [
      "/home/phdcs2/Hard_Disk/Projects/T2I/deep-spectral-segmentation/venv/lib/python3.8/site-packages/sklearn/decomposition/_pca.py:642: RuntimeWarning: invalid value encountered in divide\n",
      "  self.explained_variance_ratio_ = self.explained_variance_ / total_var\n"
     ]
    },
    {
     "name": "stdout",
     "output_type": "stream",
     "text": [
      "Starting Training\n",
      "epoch: 00, loss: -0.92803\n",
      "epoch: 01, loss: -0.95732\n",
      "epoch: 02, loss: -0.96398\n",
      "epoch: 03, loss: -0.96780\n",
      "epoch: 04, loss: -0.97043\n",
      "epoch: 05, loss: -0.97232\n",
      "epoch: 06, loss: -0.97385\n",
      "epoch: 07, loss: -0.97506\n",
      "epoch: 08, loss: -0.97611\n",
      "epoch: 09, loss: -0.97697\n",
      "torch.Size([1024, 64])\n"
     ]
    },
    {
     "name": "stderr",
     "output_type": "stream",
     "text": [
      " 63%|██████▎   | 632/999 [12:32:18<6:26:04, 63.12s/it]"
     ]
    },
    {
     "name": "stdout",
     "output_type": "stream",
     "text": [
      "eigenvalues shape torch.Size([5]) eigenvectors shape torch.Size([5, 1024])\n",
      "632 /home/phdcs2/Hard_Disk/Datasets/Deep-Spectral-Segmentation/data/object-segmentation/ECSSD/features/0634_resized.pth\n",
      "dict_keys(['k', 'indices', 'file', 'id', 'model_name', 'patch_size', 'shape'])\n",
      "0634_resized\n",
      "Starting Training\n",
      "epoch: 00, loss: -0.85258\n",
      "epoch: 01, loss: -0.91196\n",
      "epoch: 02, loss: -0.92629\n",
      "epoch: 03, loss: -0.93459\n",
      "epoch: 04, loss: -0.93987\n",
      "epoch: 05, loss: -0.94404\n",
      "epoch: 06, loss: -0.94711\n",
      "epoch: 07, loss: -0.94956\n",
      "epoch: 08, loss: -0.95164\n",
      "epoch: 09, loss: -0.95344\n",
      "torch.Size([1024, 64])\n"
     ]
    },
    {
     "name": "stderr",
     "output_type": "stream",
     "text": [
      " 63%|██████▎   | 633/999 [12:33:12<6:07:18, 60.21s/it]"
     ]
    },
    {
     "name": "stdout",
     "output_type": "stream",
     "text": [
      "eigenvalues shape torch.Size([5]) eigenvectors shape torch.Size([5, 1024])\n",
      "633 /home/phdcs2/Hard_Disk/Datasets/Deep-Spectral-Segmentation/data/object-segmentation/ECSSD/features/0635_resized.pth\n",
      "dict_keys(['k', 'indices', 'file', 'id', 'model_name', 'patch_size', 'shape'])\n",
      "0635_resized\n",
      "Starting Training\n",
      "epoch: 00, loss: -0.85610\n",
      "epoch: 01, loss: -0.91424\n",
      "epoch: 02, loss: -0.92983\n",
      "epoch: 03, loss: -0.93832\n",
      "epoch: 04, loss: -0.94427\n",
      "epoch: 05, loss: -0.94852\n",
      "epoch: 06, loss: -0.95196\n",
      "epoch: 07, loss: -0.95459\n",
      "epoch: 08, loss: -0.95684\n",
      "epoch: 09, loss: -0.95869\n",
      "torch.Size([1024, 64])\n"
     ]
    },
    {
     "name": "stderr",
     "output_type": "stream",
     "text": [
      " 63%|██████▎   | 634/999 [12:34:22<6:25:04, 63.30s/it]"
     ]
    },
    {
     "name": "stdout",
     "output_type": "stream",
     "text": [
      "eigenvalues shape torch.Size([5]) eigenvectors shape torch.Size([5, 1024])\n",
      "634 /home/phdcs2/Hard_Disk/Datasets/Deep-Spectral-Segmentation/data/object-segmentation/ECSSD/features/0636_resized.pth\n",
      "dict_keys(['k', 'indices', 'file', 'id', 'model_name', 'patch_size', 'shape'])\n",
      "0636_resized\n"
     ]
    },
    {
     "name": "stderr",
     "output_type": "stream",
     "text": [
      "/home/phdcs2/Hard_Disk/Projects/T2I/deep-spectral-segmentation/venv/lib/python3.8/site-packages/sklearn/decomposition/_pca.py:642: RuntimeWarning: invalid value encountered in divide\n",
      "  self.explained_variance_ratio_ = self.explained_variance_ / total_var\n"
     ]
    },
    {
     "name": "stdout",
     "output_type": "stream",
     "text": [
      "Starting Training\n",
      "epoch: 00, loss: -0.92076\n",
      "epoch: 01, loss: -0.95280\n",
      "epoch: 02, loss: -0.96030\n",
      "epoch: 03, loss: -0.96466\n",
      "epoch: 04, loss: -0.96761\n",
      "epoch: 05, loss: -0.96982\n",
      "epoch: 06, loss: -0.97152\n",
      "epoch: 07, loss: -0.97292\n",
      "epoch: 08, loss: -0.97408\n",
      "epoch: 09, loss: -0.97506\n",
      "torch.Size([1024, 64])\n"
     ]
    },
    {
     "name": "stderr",
     "output_type": "stream",
     "text": [
      " 64%|██████▎   | 635/999 [12:35:34<6:39:15, 65.81s/it]"
     ]
    },
    {
     "name": "stdout",
     "output_type": "stream",
     "text": [
      "eigenvalues shape torch.Size([5]) eigenvectors shape torch.Size([5, 1024])\n",
      "635 /home/phdcs2/Hard_Disk/Datasets/Deep-Spectral-Segmentation/data/object-segmentation/ECSSD/features/0637_resized.pth\n",
      "dict_keys(['k', 'indices', 'file', 'id', 'model_name', 'patch_size', 'shape'])\n",
      "0637_resized\n",
      "Starting Training\n",
      "epoch: 00, loss: -0.86922\n",
      "epoch: 01, loss: -0.92248\n",
      "epoch: 02, loss: -0.93587\n",
      "epoch: 03, loss: -0.94356\n",
      "epoch: 04, loss: -0.94859\n",
      "epoch: 05, loss: -0.95233\n",
      "epoch: 06, loss: -0.95539\n",
      "epoch: 07, loss: -0.95772\n",
      "epoch: 08, loss: -0.95965\n",
      "epoch: 09, loss: -0.96135\n",
      "torch.Size([1024, 64])\n"
     ]
    },
    {
     "name": "stderr",
     "output_type": "stream",
     "text": [
      " 64%|██████▎   | 636/999 [12:36:49<6:54:58, 68.59s/it]"
     ]
    },
    {
     "name": "stdout",
     "output_type": "stream",
     "text": [
      "eigenvalues shape torch.Size([5]) eigenvectors shape torch.Size([5, 1024])\n",
      "636 /home/phdcs2/Hard_Disk/Datasets/Deep-Spectral-Segmentation/data/object-segmentation/ECSSD/features/0638_resized.pth\n",
      "dict_keys(['k', 'indices', 'file', 'id', 'model_name', 'patch_size', 'shape'])\n",
      "0638_resized\n"
     ]
    },
    {
     "name": "stderr",
     "output_type": "stream",
     "text": [
      "/home/phdcs2/Hard_Disk/Projects/T2I/deep-spectral-segmentation/venv/lib/python3.8/site-packages/sklearn/decomposition/_pca.py:642: RuntimeWarning: invalid value encountered in divide\n",
      "  self.explained_variance_ratio_ = self.explained_variance_ / total_var\n"
     ]
    },
    {
     "name": "stdout",
     "output_type": "stream",
     "text": [
      "Starting Training\n",
      "epoch: 00, loss: -0.92570\n",
      "epoch: 01, loss: -0.95540\n",
      "epoch: 02, loss: -0.96242\n",
      "epoch: 03, loss: -0.96651\n",
      "epoch: 04, loss: -0.96927\n"
     ]
    }
   ],
   "source": [
    "pca_comp=64\n",
    "pca = PCA(n_components=pca_comp)\n",
    "utils.make_output_dir(output_dir)\n",
    "inputs = list(enumerate(sorted(Path(features_dir).iterdir())))\n",
    "for inp in tqdm(inputs):\n",
    "    index, features_file = inp\n",
    "    print(index, features_file)\n",
    "     # Load\n",
    "    data_dict = torch.load(features_file, map_location='cpu')\n",
    "    print(data_dict.keys())   #['k', 'indices', 'file', 'id', 'model_name', 'patch_size', 'shape']\n",
    "    # print(\"shape=\", data_dict['shape'], \"k shape\", data_dict['k'].shape, \"patch_size=\", data_dict['patch_size'])\n",
    "    image_id = data_dict['file'][:-4]\n",
    "    print(image_id)\n",
    "    # Load\n",
    "    output_file = str(Path(output_dir) / f'{image_id}.pth')\n",
    "    if Path(output_file).is_file():\n",
    "        print(f'Skipping existing file {str(output_file)}')\n",
    "        # break\n",
    "        # return  # skip because already generated\n",
    "\n",
    "    # Load affinity matrix\n",
    "    feats = data_dict[which_features].squeeze().cuda()\n",
    "    # print(\"Without normalizing, Features Shape is\",feats.shape)\n",
    "    if normalize:\n",
    "        feats = F.normalize(feats, p=2, dim=-1)\n",
    "    # print(\"After normalization, Features Shape\",feats.shape)\n",
    "    # print(\"which_matrix=\", which_matrix)\n",
    "    # Eigenvectors of affinity matrix\n",
    "    if which_matrix == 'affinity_torch':\n",
    "        W = feats @ feats.T\n",
    "        # W_feat=contrastive_affinity(feats, feats.T)\n",
    "        # print(\"W shape=\", W.shape)\n",
    "        if threshold_at_zero:\n",
    "            W = (W * (W > 0))\n",
    "            # print(\"W shape=\", W.shape)\n",
    "        eigenvalues, eigenvectors = torch.eig(W, eigenvectors=True)\n",
    "        eigenvalues = eigenvalues.cpu()\n",
    "        eigenvectors = eigenvectors.cpu()\n",
    "        print(\"which matrix=\",which_matrix, \"eigenvalues shape\", eigenvalues.shape, \"eigenvectors shape\", eigenvectors.shape)\n",
    "\n",
    "\n",
    "    # Eigenvectors of affinity matrix with scipy\n",
    "    elif which_matrix == 'affinity_svd':\n",
    "        USV = torch.linalg.svd(feats, full_matrices=False)\n",
    "        eigenvectors = USV[0][:, :K].T.to('cpu', non_blocking=True)\n",
    "        eigenvalues = USV[1][:K].to('cpu', non_blocking=True)\n",
    "        print(\"which matrix=\",which_matrix,\"eigenvalues shape\", eigenvalues.shape, \"eigenvectors shape\", eigenvectors.shape)\n",
    "\n",
    "    # Eigenvectors of affinity matrix with scipy\n",
    "    elif which_matrix == 'affinity':\n",
    "        # print(\"Without normalizing, Features Shape is\",feats.shape)\n",
    "        W = (feats @ feats.T)\n",
    "        # W_feat=contrastive_affinity(feats, feats.T)\n",
    "        # print(\"W shape=\", W.shape)\n",
    "        if threshold_at_zero:\n",
    "            W = (W * (W > 0))\n",
    "        W = W.cpu().numpy()\n",
    "        # print(\"W shape=\", W.shape)\n",
    "        eigenvalues, eigenvectors = eigsh(W, which='LM', k=K)\n",
    "        eigenvectors = torch.flip(torch.from_numpy(eigenvectors), dims=(-1,)).T\n",
    "        print(\"which matrix=\",which_matrix, \"eigenvalues shape\", eigenvalues.shape, \"eigenvectors shape\", eigenvectors.shape)\n",
    "\n",
    "    # Eigenvectors of matting laplacian matrix\n",
    "    elif which_matrix in ['matting_laplacian', 'laplacian']:\n",
    "\n",
    "        # Get sizes\n",
    "        B, C, H, W, P, H_patch, W_patch, H_pad, W_pad = utils.get_image_sizes(data_dict)\n",
    "        if image_downsample_factor is None:\n",
    "            image_downsample_factor = P\n",
    "        H_pad_lr, W_pad_lr = H_pad // image_downsample_factor, W_pad // image_downsample_factor\n",
    "\n",
    "        # Upscale features to match the resolution\n",
    "        if (H_patch, W_patch) != (H_pad_lr, W_pad_lr):\n",
    "            feats = F.interpolate(\n",
    "                feats.T.reshape(1, -1, H_patch, W_patch),\n",
    "                size=(H_pad_lr, W_pad_lr), mode='bilinear', align_corners=False\n",
    "            ).reshape(-1, H_pad_lr * W_pad_lr).T\n",
    "\n",
    "        ### Feature affinities\n",
    "        # print(\"Without normalizing, Features Shape is\",feats.shape)\n",
    "\n",
    "        W_feat_ds = (feats @ feats.T)\n",
    "        # print(\"shape of w_feat_ds\", W_feat_ds.shape)\n",
    "        max_wfeatds=torch.max(W_feat_ds).item()\n",
    "        alpha=3\n",
    "        # print(\"Before Subtraction\")\n",
    "        count_positive = torch.count_nonzero(torch.greater_equal(W_feat_ds, 0.))\n",
    "        # print(\"positive values=\", count_positive)\n",
    "        W_feat_ds_sum = torch.sum(W_feat_ds)\n",
    "        # print(\"w_feat_ds_sum=\", W_feat_ds_sum)\n",
    "        W_feat_ds_mean = torch.mean(W_feat_ds)\n",
    "        # print(\"Mean of W_feat\", W_feat_ds_mean)\n",
    "        W_feat_ds_median = torch.median(W_feat_ds)\n",
    "        # print(\"Median of W_feat\", W_feat_ds_median)\n",
    "        W_feat_ds_std = torch.std(W_feat_ds)\n",
    "        # print(\"Standard Deviation of W_feat\", W_feat_ds_std)\n",
    "        W_feat_ds_max = torch.max(W_feat_ds)\n",
    "        # print(\"Maximum of W_feat\", W_feat_ds_max)\n",
    "        W_feat_ds_min = torch.min(W_feat_ds)\n",
    "        # print(\"Minimum of W_feat\", W_feat_ds_min)\n",
    "        # print(\"Factor value\", (max_wfeatds / alpha))\n",
    "\n",
    "        W_feat_ds = W_feat_ds - (max_wfeatds / alpha)\n",
    "\n",
    "        # print(\"After Subtraction\")\n",
    "        count_positive = torch.count_nonzero(torch.greater_equal(W_feat_ds, 0.))\n",
    "        # print(\"positive values=\", count_positive)\n",
    "        W_feat_ds_sum = torch.sum(W_feat_ds)\n",
    "        # print(\"w_feat_ds_sum=\", W_feat_ds_sum)\n",
    "        W_feat_ds_mean = torch.mean(W_feat_ds)\n",
    "        # print(\"Mean of W_feat\", W_feat_ds_mean)\n",
    "        W_feat_ds_median = torch.median(W_feat_ds)\n",
    "        # print(\"Median of W_feat\", W_feat_ds_median)\n",
    "        W_feat_ds_std = torch.std(W_feat_ds)\n",
    "        # print(\"Standard Deviation of W_feat\", W_feat_ds_std)\n",
    "        W_feat_ds_max = torch.max(W_feat_ds)\n",
    "        # print(\"Maximum of W_feat\", W_feat_ds_max)\n",
    "        W_feat_ds_min = torch.min(W_feat_ds)\n",
    "        # print(\"Minimum of W_feat\", W_feat_ds_min)\n",
    "        proj_layer=nn.Linear(pca_comp,pca_comp).cuda()\n",
    "        elu = nn.ELU()\n",
    "        proj_model = nn.Sequential(proj_layer, elu ).cuda()\n",
    "        pred_layer=nn.Linear(pca_comp,pca_comp).cuda()\n",
    "        x0=feats\n",
    "\n",
    "        x0_arr=x0.cpu()\n",
    "        scale = np.random.uniform(0.8, 1.2)  # Random scaling factor between 0.8 and 1.2\n",
    "        translation = np.random.uniform(-10, 10, size=2)  # Random translation vector between -10 and 10 in both directions\n",
    "        rotation = np.random.uniform(-15, 15)  # Random rotation angle between -15 and 15 degrees\n",
    "        shear = np.random.uniform(-0.2, 0.2, size=2)  # Random shear factor between -0.2 and 0.2 in both directions\n",
    "\n",
    "        # Define the affine matrix\n",
    "        affine_matrix = np.array([[scale * np.cos(rotation), -shear[0] * scale * np.sin(rotation), translation[0]],\n",
    "                                  [shear[1] * scale * np.sin(rotation), scale * np.cos(rotation), translation[1]],\n",
    "                                  [0, 0, 1]])\n",
    "        # print(x0_arr.shape)\n",
    "        x1_arr=affine_transform(x0_arr, affine_matrix)\n",
    "\n",
    "        z0_arr= pca.fit_transform(x0_arr)\n",
    "        z1_arr= pca.fit_transform(x1_arr)\n",
    "        # Define the affine transformation parameters\n",
    "\n",
    "        # z1_arr=affine_transform(z0_arr, affine_matrix)\n",
    "#         z1_arr=pca.fit_transform(z1_arr)\n",
    "        z0 = torch.from_numpy(z0_arr).float()\n",
    "        z1 = torch.from_numpy(z1_arr).float()\n",
    "\n",
    "        # feat_list.append(feats)\n",
    "        feat_dataset_z0 = Feature_Dataset(z0)\n",
    "        if feats.shape[0]%2==0:\n",
    "            features_dataloader_z0 = DataLoader(feat_dataset_z0, batch_size=batch_size, shuffle=True)\n",
    "        else:\n",
    "            features_dataloader_z0 = DataLoader(feat_dataset_z0, batch_size=batch_size, shuffle=True, drop_last=True)\n",
    "\n",
    "        feat_dataset_z1 = Feature_Dataset(z1)\n",
    "        if feats.shape[0]%2==0:\n",
    "            features_dataloader_z1 = DataLoader(feat_dataset_z1, batch_size=batch_size, shuffle=True)\n",
    "        else:\n",
    "            features_dataloader_z1 = DataLoader(feat_dataset_z1, batch_size=batch_size, shuffle=True, drop_last=True)\n",
    "        device = \"cuda\" if torch.cuda.is_available() else \"cpu\"\n",
    "    \n",
    "        criterion = NegativeCosineSimilarity()\n",
    "        proj_optimizer = torch.optim.SGD(proj_layer.parameters(), lr=0.06)\n",
    "        pred_optimizer = torch.optim.SGD(pred_layer.parameters(), lr=0.06)\n",
    "        print(\"Starting Training\")\n",
    "        for epoch in range(epochs):\n",
    "            total_loss = 0\n",
    "            for z0_new,z1_new in zip(features_dataloader_z0,features_dataloader_z1):\n",
    "                z0_new = z0_new.to(device)\n",
    "                z1_new = z1_new.to(device)\n",
    "                # z0_new=proj_layer(z0_new)\n",
    "                z0_new=proj_model(z0_new)\n",
    "                # z1_new=proj_layer(z1_new)\n",
    "                # z1_new=proj_layer(z1_new)\n",
    "                z1_new=proj_model(z1_new)\n",
    "    #             print(\"z0_new.shape\", z0_new.shape)\n",
    "    #             print(\"z1_new.shape\", z1_new.shape)\n",
    "                p0=pred_layer(z0_new)\n",
    "                p1=pred_layer(z1_new)\n",
    "    #             print(\"p0.shape\", p0.shape)\n",
    "    #             print(\"p1.shape\", p1.shape)\n",
    "\n",
    "                z0_new=z0_new.detach()\n",
    "                z1_new=z1_new.detach()\n",
    "                loss = 0.5 * (criterion(z0_new, p1) + criterion(z1_new, p0))\n",
    "                total_loss += loss.detach()\n",
    "                loss.backward()\n",
    "                proj_optimizer.step()\n",
    "                pred_optimizer.step()\n",
    "                proj_optimizer.zero_grad()\n",
    "                pred_optimizer.zero_grad()\n",
    "            avg_loss = total_loss / len(features_dataloader_z0)\n",
    "            print(f\"epoch: {epoch:>02}, loss: {avg_loss:.5f}\")\n",
    "        # z0_projected=proj_layer(z0.to(device))\n",
    "        projected_feature=pred_layer(z0.to(device))\n",
    "        print(projected_feature.shape)\n",
    "        W_feat_siam=torch.matmul(projected_feature, projected_feature.t())\n",
    "        # max_wfeatsiam=torch.max(W_feat_siam).item()\n",
    "        # alpha=3\n",
    "        # W_feat_siam = W_feat_siam - (max_wfeatsiam / alpha)\n",
    "        # W_feat_siam=torch.matmul(projected_feature[0], projected_feature[0].t())\n",
    "        W_feat=W_feat_ds + 0.1*W_feat_siam\n",
    "#         W_feat=normalize_affinity_matrix(W_feat_unnorm, axis=1)\n",
    "        # print(\"W_feat.shape=\", W_feat.shape)\n",
    "        # print(\"W_feat.shape=\", W_feat.shape)\n",
    "        # W_feat=contrastive_affinity(feats, feats.T)\n",
    "        if threshold_at_zero:\n",
    "            W_feat = (W_feat * (W_feat > 0))\n",
    "        W_feat = W_feat / W_feat.max()  # NOTE: If features are normalized, this naturally does nothing\n",
    "        # W_feat = W_feat.cpu().numpy()\n",
    "        W_feat = W_feat.detach().cpu().numpy()\n",
    "        # print(\"W_feat shape=\",W_feat.shape)\n",
    "\n",
    "        ### Color affinities\n",
    "        # If we are fusing with color affinites, then load the image and compute\n",
    "        if image_color_lambda > 0:\n",
    "\n",
    "            # Load image\n",
    "            image_file = str(Path(images_root) / f'{image_id}.jpg')\n",
    "            image_lr = Image.open(image_file).resize((W_pad_lr, H_pad_lr), Image.BILINEAR)\n",
    "            image_lr = np.array(image_lr) / 255.\n",
    "\n",
    "            # Color affinities (of type scipy.sparse.csr_matrix)\n",
    "            if which_color_matrix == 'knn':\n",
    "                W_lr = utils.knn_affinity(image_lr / 255)\n",
    "            elif which_color_matrix == 'rw':\n",
    "                W_lr = utils.rw_affinity(image_lr / 255)\n",
    "\n",
    "            # Convert to dense numpy array\n",
    "            W_color = np.array(W_lr.todense().astype(np.float32))\n",
    "            # print(\"W_color shape\", W_color.shape)\n",
    "\n",
    "        else:\n",
    "\n",
    "            # No color affinity\n",
    "            W_color = 0\n",
    "\n",
    "        # Combine\n",
    "        W_comb = W_feat + W_color * image_color_lambda  # combination\n",
    "        D_comb = np.array(utils.get_diagonal(W_comb).todense())  # is dense or sparse faster? not sure, should check\n",
    "        # print(\"W_comb shape= \", W_comb.shape, \"D_comb shape\",  D_comb.shape)\n",
    "        if lapnorm:\n",
    "            try:\n",
    "                eigenvalues, eigenvectors = eigsh(D_comb - W_comb, k=K, sigma=0, which='LM', M=D_comb)\n",
    "            except:\n",
    "                eigenvalues, eigenvectors = eigsh(D_comb - W_comb, k=K, which='SM', M=D_comb)\n",
    "        else:\n",
    "            try:\n",
    "                eigenvalues, eigenvectors = eigsh(D_comb - W_comb, k=K, sigma=0, which='LM')\n",
    "            except:\n",
    "                eigenvalues, eigenvectors = eigsh(D_comb - W_comb, k=K, which='SM')\n",
    "        eigenvalues, eigenvectors = torch.from_numpy(eigenvalues), torch.from_numpy(eigenvectors.T).float()\n",
    "    print(\"eigenvalues shape\", eigenvalues.shape, \"eigenvectors shape\", eigenvectors.shape)\n",
    "    # Sign ambiguity\n",
    "    for k in range(eigenvectors.shape[0]):\n",
    "        if 0.5 < torch.mean((eigenvectors[k] > 0).float()).item() < 1.0:  # reverse segment\n",
    "            eigenvectors[k] = 0 - eigenvectors[k]\n",
    "\n",
    "    # Save dict\n",
    "    output_dict = {'eigenvalues': eigenvalues, 'eigenvectors': eigenvectors}\n",
    "    torch.save(output_dict, output_file)"
   ]
  }
 ],
 "metadata": {
  "kernelspec": {
   "display_name": "Python 3 (ipykernel)",
   "language": "python",
   "name": "python3"
  },
  "language_info": {
   "codemirror_mode": {
    "name": "ipython",
    "version": 3
   },
   "file_extension": ".py",
   "mimetype": "text/x-python",
   "name": "python",
   "nbconvert_exporter": "python",
   "pygments_lexer": "ipython3",
   "version": "3.8.10"
  }
 },
 "nbformat": 4,
 "nbformat_minor": 1
}