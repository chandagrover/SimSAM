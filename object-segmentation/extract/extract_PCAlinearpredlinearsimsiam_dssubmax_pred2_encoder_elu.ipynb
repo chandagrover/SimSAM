{
 "cells": [
  {
   "cell_type": "code",
   "execution_count": 1,
   "metadata": {
    "pycharm": {
     "name": "#%%\n"
    }
   },
   "outputs": [],
   "source": [
    "# from functools import partial\n",
    "from pathlib import Path\n",
    "# from typing import Optional, Tuple\n",
    "# import cv2\n",
    "# import fire\n",
    "import numpy as np\n",
    "import torch\n",
    "import torch.nn.functional as F\n",
    "from accelerate import Accelerator\n",
    "from PIL import Image\n",
    "from scipy.sparse.linalg import eigsh\n",
    "# from sklearn.cluster import KMeans, MiniBatchKMeans\n",
    "from sklearn.decomposition import PCA\n",
    "# from torchvision.utils import draw_bounding_boxes\n",
    "from tqdm import tqdm\n",
    "import extract_utils as utils\n",
    "from torch.utils.data import Dataset, DataLoader\n",
    "from lightly.loss import NegativeCosineSimilarity\n",
    "from lightly.models.modules import SimSiamPredictionHead, SimSiamProjectionHead\n",
    "from torch import nn\n",
    "import torchvision\n",
    "from scipy.ndimage import affine_transform"
   ]
  },
  {
   "cell_type": "markdown",
   "metadata": {
    "pycharm": {
     "name": "#%% md\n"
    }
   },
   "source": [
    "## Extract Eigen Vectors"
   ]
  },
  {
   "cell_type": "code",
   "execution_count": 2,
   "outputs": [],
   "source": [
    "images_root=\"/home/phdcs2/Hard_Disk/Datasets/Deep-Spectral-Segmentation/data/object-segmentation/ECSSD/images\"\n",
    "# features_dir=\"/home/phdcs2/Hard_Disk/Datasets/Deep-Spectral-Segmentation/data/object-segmentation/ECSSD_1/features/dino_vits16\"\n",
    "features_dir=\"/home/phdcs2/Hard_Disk/Datasets/Deep-Spectral-Segmentation/data/object-segmentation/ECSSD/features/\"\n",
    "output_dir=\"/home/phdcs2/Hard_Disk/Datasets/Deep-Spectral-Segmentation/data/object-segmentation/ECSSD/eigs_dot1PCA64linearpredlinear_dssubmax_pred2_encoder_elu_corr\""
   ],
   "metadata": {
    "collapsed": false,
    "pycharm": {
     "name": "#%%\n"
    }
   }
  },
  {
   "cell_type": "code",
   "execution_count": 3,
   "metadata": {
    "pycharm": {
     "name": "#%%\n"
    }
   },
   "outputs": [],
   "source": [
    "# images_root=\"/home/phdcs2/Hard_Disk/Datasets/Deep-Spectral-Segmentation/data/VOC2012/images/trainval/JPEGImages\"\n",
    "# # features_dir=\"/home/phdcs2/Hard_Disk/Datasets/Deep-Spectral-Segmentation/data/object-segmentation/ECSSD_1/features/dino_vits16\"\n",
    "# features_dir=\"/home/phdcs2/Hard_Disk/Datasets/Deep-Spectral-Segmentation/data/VOC2012/features/dino_vits16\"\n",
    "# output_dir=\"/home/phdcs2/Hard_Disk/Datasets/Deep-Spectral-Segmentation/data/VOC2012/eigs_test/laplacian\"\n",
    "which_matrix= 'laplacian'\n",
    "which_color_matrix= 'knn'\n",
    "which_features= 'k'\n",
    "normalize=True\n",
    "threshold_at_zero=True\n",
    "lapnorm= True\n",
    "K= 5\n",
    "image_downsample_factor = None\n",
    "image_color_lambda = 0.0\n",
    "multiprocessing = 0\n",
    "batch_size=2\n",
    "epochs=10"
   ]
  },
  {
   "cell_type": "markdown",
   "metadata": {
    "pycharm": {
     "name": "#%% md\n"
    }
   },
   "source": [
    "## Incorporating SimSiam"
   ]
  },
  {
   "cell_type": "code",
   "execution_count": 4,
   "metadata": {
    "pycharm": {
     "name": "#%%\n"
    }
   },
   "outputs": [],
   "source": [
    "# Define a custom dataset class\n",
    "class Feature_Dataset(Dataset):\n",
    "    def __init__(self, features):\n",
    "        self.features = features\n",
    "\n",
    "    def __getitem__(self, index):\n",
    "        return self.features[index]\n",
    "\n",
    "    def __len__(self):\n",
    "        return len(self.features)"
   ]
  },
  {
   "cell_type": "code",
   "execution_count": 5,
   "metadata": {
    "pycharm": {
     "name": "#%%\n"
    }
   },
   "outputs": [],
   "source": [
    "# class SimSiam(nn.Module):\n",
    "#     def __init__(self):\n",
    "#         super().__init__()\n",
    "#         self.projection_head = SimSiamProjectionHead(feats.shape[1], 128,feats.shape[1])\n",
    "#         self.prediction_head = SimSiamPredictionHead(feats.shape[1], 128, feats.shape[1])\n",
    "#\n",
    "#     def forward(self, x):\n",
    "#         z = self.projection_head(x)\n",
    "#         p = self.prediction_head(z)\n",
    "#         z = z.detach()\n",
    "#         return z, p"
   ]
  },
  {
   "cell_type": "code",
   "execution_count": 6,
   "metadata": {
    "pycharm": {
     "name": "#%%\n"
    }
   },
   "outputs": [],
   "source": [
    "# def normalize_affinity_matrix(affinity_matrix, axis=0):\n",
    "#     if axis == 1:\n",
    "#         # Normalize by row-wise sums\n",
    "#         row_sums = torch.sum(affinity_matrix, dim=1, keepdim=True)\n",
    "#         print(row_sums)\n",
    "#         normalized_matrix = affinity_matrix / row_sums\n",
    "#     elif axis == 0:\n",
    "#         # Normalize by column-wise sums\n",
    "#         col_sums = torch.sum(affinity_matrix, dim=0, keepdim=True)\n",
    "#         normalized_matrix = affinity_matrix / col_sums\n",
    "#     else:\n",
    "#         raise ValueError(\"Invalid axis. Axis must be either 0 or 1.\")\n",
    "\n",
    "#     return normalized_matrix"
   ]
  },
  {
   "cell_type": "code",
   "execution_count": null,
   "metadata": {
    "pycharm": {
     "name": "#%%\n",
     "is_executing": true
    }
   },
   "outputs": [
    {
     "name": "stderr",
     "output_type": "stream",
     "text": [
      "  0%|          | 0/999 [00:00<?, ?it/s]"
     ]
    },
    {
     "name": "stdout",
     "output_type": "stream",
     "text": [
      "0 /home/phdcs2/Hard_Disk/Datasets/Deep-Spectral-Segmentation/data/object-segmentation/ECSSD/features/0001_resized.pth\n",
      "dict_keys(['k', 'indices', 'file', 'id', 'model_name', 'patch_size', 'shape'])\n",
      "0001_resized\n"
     ]
    },
    {
     "name": "stderr",
     "output_type": "stream",
     "text": [
      "/home/phdcs2/Hard_Disk/Projects/T2I/deep-spectral-segmentation/venv/lib/python3.8/site-packages/sklearn/decomposition/_pca.py:642: RuntimeWarning: invalid value encountered in divide\n",
      "  self.explained_variance_ratio_ = self.explained_variance_ / total_var\n"
     ]
    },
    {
     "name": "stdout",
     "output_type": "stream",
     "text": [
      "Starting Training\n",
      "epoch: 00, loss: -0.90797\n",
      "epoch: 01, loss: -0.94530\n",
      "epoch: 02, loss: -0.95467\n",
      "epoch: 03, loss: -0.95994\n",
      "epoch: 04, loss: -0.96350\n",
      "epoch: 05, loss: -0.96612\n",
      "epoch: 06, loss: -0.96816\n",
      "epoch: 07, loss: -0.96982\n",
      "epoch: 08, loss: -0.97117\n",
      "epoch: 09, loss: -0.97235\n",
      "torch.Size([1024, 64])\n"
     ]
    },
    {
     "name": "stderr",
     "output_type": "stream",
     "text": [
      "  0%|          | 1/999 [00:44<12:23:16, 44.69s/it]"
     ]
    },
    {
     "name": "stdout",
     "output_type": "stream",
     "text": [
      "eigenvalues shape torch.Size([5]) eigenvectors shape torch.Size([5, 1024])\n",
      "1 /home/phdcs2/Hard_Disk/Datasets/Deep-Spectral-Segmentation/data/object-segmentation/ECSSD/features/0002_resized.pth\n",
      "dict_keys(['k', 'indices', 'file', 'id', 'model_name', 'patch_size', 'shape'])\n",
      "0002_resized\n",
      "Starting Training\n",
      "epoch: 00, loss: -0.87214\n",
      "epoch: 01, loss: -0.92568\n",
      "epoch: 02, loss: -0.93906\n",
      "epoch: 03, loss: -0.94659\n",
      "epoch: 04, loss: -0.95160\n",
      "epoch: 05, loss: -0.95526\n",
      "epoch: 06, loss: -0.95811\n",
      "epoch: 07, loss: -0.96037\n",
      "epoch: 08, loss: -0.96230\n",
      "epoch: 09, loss: -0.96389\n",
      "torch.Size([1024, 64])\n"
     ]
    },
    {
     "name": "stderr",
     "output_type": "stream",
     "text": [
      "  0%|          | 2/999 [01:33<13:03:08, 47.13s/it]"
     ]
    },
    {
     "name": "stdout",
     "output_type": "stream",
     "text": [
      "eigenvalues shape torch.Size([5]) eigenvectors shape torch.Size([5, 1024])\n",
      "2 /home/phdcs2/Hard_Disk/Datasets/Deep-Spectral-Segmentation/data/object-segmentation/ECSSD/features/0003_resized.pth\n",
      "dict_keys(['k', 'indices', 'file', 'id', 'model_name', 'patch_size', 'shape'])\n",
      "0003_resized\n"
     ]
    },
    {
     "name": "stderr",
     "output_type": "stream",
     "text": [
      "/home/phdcs2/Hard_Disk/Projects/T2I/deep-spectral-segmentation/venv/lib/python3.8/site-packages/sklearn/decomposition/_pca.py:642: RuntimeWarning: invalid value encountered in divide\n",
      "  self.explained_variance_ratio_ = self.explained_variance_ / total_var\n"
     ]
    },
    {
     "name": "stdout",
     "output_type": "stream",
     "text": [
      "Starting Training\n",
      "epoch: 00, loss: -0.91804\n",
      "epoch: 01, loss: -0.94910\n",
      "epoch: 02, loss: -0.95716\n",
      "epoch: 03, loss: -0.96181\n",
      "epoch: 04, loss: -0.96503\n",
      "epoch: 05, loss: -0.96740\n",
      "epoch: 06, loss: -0.96929\n",
      "epoch: 07, loss: -0.97081\n",
      "epoch: 08, loss: -0.97209\n",
      "epoch: 09, loss: -0.97319\n",
      "torch.Size([1024, 64])\n"
     ]
    },
    {
     "name": "stderr",
     "output_type": "stream",
     "text": [
      "  0%|          | 3/999 [02:25<13:36:59, 49.22s/it]"
     ]
    },
    {
     "name": "stdout",
     "output_type": "stream",
     "text": [
      "eigenvalues shape torch.Size([5]) eigenvectors shape torch.Size([5, 1024])\n",
      "3 /home/phdcs2/Hard_Disk/Datasets/Deep-Spectral-Segmentation/data/object-segmentation/ECSSD/features/0004_resized.pth\n",
      "dict_keys(['k', 'indices', 'file', 'id', 'model_name', 'patch_size', 'shape'])\n",
      "0004_resized\n"
     ]
    },
    {
     "name": "stderr",
     "output_type": "stream",
     "text": [
      "/home/phdcs2/Hard_Disk/Projects/T2I/deep-spectral-segmentation/venv/lib/python3.8/site-packages/sklearn/decomposition/_pca.py:642: RuntimeWarning: invalid value encountered in divide\n",
      "  self.explained_variance_ratio_ = self.explained_variance_ / total_var\n"
     ]
    },
    {
     "name": "stdout",
     "output_type": "stream",
     "text": [
      "Starting Training\n",
      "epoch: 00, loss: -0.91996\n",
      "epoch: 01, loss: -0.95298\n",
      "epoch: 02, loss: -0.96065\n",
      "epoch: 03, loss: -0.96507\n",
      "epoch: 04, loss: -0.96806\n",
      "epoch: 05, loss: -0.97028\n",
      "epoch: 06, loss: -0.97201\n",
      "epoch: 07, loss: -0.97343\n",
      "epoch: 08, loss: -0.97460\n",
      "epoch: 09, loss: -0.97560\n",
      "torch.Size([1024, 64])\n"
     ]
    },
    {
     "name": "stderr",
     "output_type": "stream",
     "text": [
      "  0%|          | 4/999 [03:15<13:45:37, 49.79s/it]"
     ]
    },
    {
     "name": "stdout",
     "output_type": "stream",
     "text": [
      "eigenvalues shape torch.Size([5]) eigenvectors shape torch.Size([5, 1024])\n",
      "4 /home/phdcs2/Hard_Disk/Datasets/Deep-Spectral-Segmentation/data/object-segmentation/ECSSD/features/0005_resized.pth\n",
      "dict_keys(['k', 'indices', 'file', 'id', 'model_name', 'patch_size', 'shape'])\n",
      "0005_resized\n"
     ]
    },
    {
     "name": "stderr",
     "output_type": "stream",
     "text": [
      "/home/phdcs2/Hard_Disk/Projects/T2I/deep-spectral-segmentation/venv/lib/python3.8/site-packages/sklearn/decomposition/_pca.py:642: RuntimeWarning: invalid value encountered in divide\n",
      "  self.explained_variance_ratio_ = self.explained_variance_ / total_var\n"
     ]
    },
    {
     "name": "stdout",
     "output_type": "stream",
     "text": [
      "Starting Training\n",
      "epoch: 00, loss: -0.91912\n",
      "epoch: 01, loss: -0.95523\n",
      "epoch: 02, loss: -0.96189\n",
      "epoch: 03, loss: -0.96584\n",
      "epoch: 04, loss: -0.96848\n",
      "epoch: 05, loss: -0.97048\n",
      "epoch: 06, loss: -0.97203\n",
      "epoch: 07, loss: -0.97331\n",
      "epoch: 08, loss: -0.97437\n",
      "epoch: 09, loss: -0.97531\n",
      "torch.Size([1024, 64])\n"
     ]
    },
    {
     "name": "stderr",
     "output_type": "stream",
     "text": [
      "  1%|          | 5/999 [04:06<13:47:49, 49.97s/it]"
     ]
    },
    {
     "name": "stdout",
     "output_type": "stream",
     "text": [
      "eigenvalues shape torch.Size([5]) eigenvectors shape torch.Size([5, 1024])\n",
      "5 /home/phdcs2/Hard_Disk/Datasets/Deep-Spectral-Segmentation/data/object-segmentation/ECSSD/features/0006_resized.pth\n",
      "dict_keys(['k', 'indices', 'file', 'id', 'model_name', 'patch_size', 'shape'])\n",
      "0006_resized\n",
      "Starting Training\n",
      "epoch: 00, loss: -0.86138\n",
      "epoch: 01, loss: -0.91865\n",
      "epoch: 02, loss: -0.93307\n",
      "epoch: 03, loss: -0.94126\n",
      "epoch: 04, loss: -0.94674\n",
      "epoch: 05, loss: -0.95089\n",
      "epoch: 06, loss: -0.95396\n",
      "epoch: 07, loss: -0.95651\n",
      "epoch: 08, loss: -0.95850\n",
      "epoch: 09, loss: -0.96026\n",
      "torch.Size([1024, 64])\n"
     ]
    },
    {
     "name": "stderr",
     "output_type": "stream",
     "text": [
      "  1%|          | 6/999 [05:07<14:50:16, 53.79s/it]"
     ]
    },
    {
     "name": "stdout",
     "output_type": "stream",
     "text": [
      "eigenvalues shape torch.Size([5]) eigenvectors shape torch.Size([5, 1024])\n",
      "6 /home/phdcs2/Hard_Disk/Datasets/Deep-Spectral-Segmentation/data/object-segmentation/ECSSD/features/0007_resized.pth\n",
      "dict_keys(['k', 'indices', 'file', 'id', 'model_name', 'patch_size', 'shape'])\n",
      "0007_resized\n",
      "Starting Training\n",
      "epoch: 00, loss: -0.84685\n",
      "epoch: 01, loss: -0.90703\n",
      "epoch: 02, loss: -0.92300\n",
      "epoch: 03, loss: -0.93214\n",
      "epoch: 04, loss: -0.93830\n",
      "epoch: 05, loss: -0.94294\n",
      "epoch: 06, loss: -0.94638\n",
      "epoch: 07, loss: -0.94915\n",
      "epoch: 08, loss: -0.95161\n",
      "epoch: 09, loss: -0.95361\n",
      "torch.Size([1024, 64])\n"
     ]
    },
    {
     "name": "stderr",
     "output_type": "stream",
     "text": [
      "  1%|          | 7/999 [06:05<15:13:46, 55.27s/it]"
     ]
    },
    {
     "name": "stdout",
     "output_type": "stream",
     "text": [
      "eigenvalues shape torch.Size([5]) eigenvectors shape torch.Size([5, 1024])\n",
      "7 /home/phdcs2/Hard_Disk/Datasets/Deep-Spectral-Segmentation/data/object-segmentation/ECSSD/features/0008_resized.pth\n",
      "dict_keys(['k', 'indices', 'file', 'id', 'model_name', 'patch_size', 'shape'])\n",
      "0008_resized\n",
      "Starting Training\n",
      "epoch: 00, loss: -0.86400\n",
      "epoch: 01, loss: -0.91818\n",
      "epoch: 02, loss: -0.93208\n",
      "epoch: 03, loss: -0.94009\n",
      "epoch: 04, loss: -0.94541\n",
      "epoch: 05, loss: -0.94919\n",
      "epoch: 06, loss: -0.95247\n",
      "epoch: 07, loss: -0.95491\n",
      "epoch: 08, loss: -0.95709\n",
      "epoch: 09, loss: -0.95875\n",
      "torch.Size([1024, 64])\n"
     ]
    },
    {
     "name": "stderr",
     "output_type": "stream",
     "text": [
      "  1%|          | 8/999 [07:04<15:32:19, 56.45s/it]"
     ]
    },
    {
     "name": "stdout",
     "output_type": "stream",
     "text": [
      "eigenvalues shape torch.Size([5]) eigenvectors shape torch.Size([5, 1024])\n",
      "8 /home/phdcs2/Hard_Disk/Datasets/Deep-Spectral-Segmentation/data/object-segmentation/ECSSD/features/0009_resized.pth\n",
      "dict_keys(['k', 'indices', 'file', 'id', 'model_name', 'patch_size', 'shape'])\n",
      "0009_resized\n",
      "Starting Training\n",
      "epoch: 00, loss: -0.88749\n",
      "epoch: 01, loss: -0.93347\n",
      "epoch: 02, loss: -0.94483\n",
      "epoch: 03, loss: -0.95104\n",
      "epoch: 04, loss: -0.95561\n",
      "epoch: 05, loss: -0.95876\n",
      "epoch: 06, loss: -0.96124\n",
      "epoch: 07, loss: -0.96331\n",
      "epoch: 08, loss: -0.96491\n",
      "epoch: 09, loss: -0.96633\n",
      "torch.Size([1024, 64])\n"
     ]
    },
    {
     "name": "stderr",
     "output_type": "stream",
     "text": [
      "  1%|          | 9/999 [08:01<15:34:56, 56.66s/it]"
     ]
    },
    {
     "name": "stdout",
     "output_type": "stream",
     "text": [
      "eigenvalues shape torch.Size([5]) eigenvectors shape torch.Size([5, 1024])\n",
      "9 /home/phdcs2/Hard_Disk/Datasets/Deep-Spectral-Segmentation/data/object-segmentation/ECSSD/features/0010_resized.pth\n",
      "dict_keys(['k', 'indices', 'file', 'id', 'model_name', 'patch_size', 'shape'])\n",
      "0010_resized\n",
      "Starting Training\n",
      "epoch: 00, loss: -0.93376\n",
      "epoch: 01, loss: -0.96001\n",
      "epoch: 02, loss: -0.96576\n",
      "epoch: 03, loss: -0.96916\n",
      "epoch: 04, loss: -0.97152\n",
      "epoch: 05, loss: -0.97334\n",
      "epoch: 06, loss: -0.97472\n",
      "epoch: 07, loss: -0.97585\n",
      "epoch: 08, loss: -0.97681\n",
      "epoch: 09, loss: -0.97765\n",
      "torch.Size([1024, 64])\n"
     ]
    },
    {
     "name": "stderr",
     "output_type": "stream",
     "text": [
      "  1%|          | 10/999 [08:59<15:40:35, 57.06s/it]"
     ]
    },
    {
     "name": "stdout",
     "output_type": "stream",
     "text": [
      "eigenvalues shape torch.Size([5]) eigenvectors shape torch.Size([5, 1024])\n",
      "10 /home/phdcs2/Hard_Disk/Datasets/Deep-Spectral-Segmentation/data/object-segmentation/ECSSD/features/0011_resized.pth\n",
      "dict_keys(['k', 'indices', 'file', 'id', 'model_name', 'patch_size', 'shape'])\n",
      "0011_resized\n",
      "Starting Training\n",
      "epoch: 00, loss: -0.88026\n",
      "epoch: 01, loss: -0.93120\n",
      "epoch: 02, loss: -0.94294\n",
      "epoch: 03, loss: -0.94949\n",
      "epoch: 04, loss: -0.95406\n",
      "epoch: 05, loss: -0.95744\n",
      "epoch: 06, loss: -0.96010\n",
      "epoch: 07, loss: -0.96221\n",
      "epoch: 08, loss: -0.96385\n",
      "epoch: 09, loss: -0.96528\n",
      "torch.Size([1024, 64])\n"
     ]
    },
    {
     "name": "stderr",
     "output_type": "stream",
     "text": [
      "  1%|          | 11/999 [10:10<16:46:57, 61.15s/it]"
     ]
    },
    {
     "name": "stdout",
     "output_type": "stream",
     "text": [
      "eigenvalues shape torch.Size([5]) eigenvectors shape torch.Size([5, 1024])\n",
      "11 /home/phdcs2/Hard_Disk/Datasets/Deep-Spectral-Segmentation/data/object-segmentation/ECSSD/features/0012_resized.pth\n",
      "dict_keys(['k', 'indices', 'file', 'id', 'model_name', 'patch_size', 'shape'])\n",
      "0012_resized\n"
     ]
    },
    {
     "name": "stderr",
     "output_type": "stream",
     "text": [
      "/home/phdcs2/Hard_Disk/Projects/T2I/deep-spectral-segmentation/venv/lib/python3.8/site-packages/sklearn/decomposition/_pca.py:642: RuntimeWarning: invalid value encountered in divide\n",
      "  self.explained_variance_ratio_ = self.explained_variance_ / total_var\n"
     ]
    },
    {
     "name": "stdout",
     "output_type": "stream",
     "text": [
      "Starting Training\n",
      "epoch: 00, loss: -0.93111\n",
      "epoch: 01, loss: -0.95794\n",
      "epoch: 02, loss: -0.96442\n",
      "epoch: 03, loss: -0.96820\n",
      "epoch: 04, loss: -0.97088\n",
      "epoch: 05, loss: -0.97284\n",
      "epoch: 06, loss: -0.97434\n",
      "epoch: 07, loss: -0.97562\n",
      "epoch: 08, loss: -0.97669\n",
      "epoch: 09, loss: -0.97758\n",
      "torch.Size([1024, 64])\n"
     ]
    },
    {
     "name": "stderr",
     "output_type": "stream",
     "text": [
      "  1%|          | 12/999 [11:22<17:43:29, 64.65s/it]"
     ]
    },
    {
     "name": "stdout",
     "output_type": "stream",
     "text": [
      "eigenvalues shape torch.Size([5]) eigenvectors shape torch.Size([5, 1024])\n",
      "12 /home/phdcs2/Hard_Disk/Datasets/Deep-Spectral-Segmentation/data/object-segmentation/ECSSD/features/0013_resized.pth\n",
      "dict_keys(['k', 'indices', 'file', 'id', 'model_name', 'patch_size', 'shape'])\n",
      "0013_resized\n",
      "Starting Training\n",
      "epoch: 00, loss: -0.86879\n",
      "epoch: 01, loss: -0.92204\n",
      "epoch: 02, loss: -0.93488\n",
      "epoch: 03, loss: -0.94225\n",
      "epoch: 04, loss: -0.94729\n",
      "epoch: 05, loss: -0.95095\n",
      "epoch: 06, loss: -0.95379\n",
      "epoch: 07, loss: -0.95612\n",
      "epoch: 08, loss: -0.95806\n",
      "epoch: 09, loss: -0.95971\n",
      "torch.Size([1024, 64])\n"
     ]
    },
    {
     "name": "stderr",
     "output_type": "stream",
     "text": [
      "  1%|▏         | 13/999 [12:33<18:13:57, 66.57s/it]"
     ]
    },
    {
     "name": "stdout",
     "output_type": "stream",
     "text": [
      "eigenvalues shape torch.Size([5]) eigenvectors shape torch.Size([5, 1024])\n",
      "13 /home/phdcs2/Hard_Disk/Datasets/Deep-Spectral-Segmentation/data/object-segmentation/ECSSD/features/0014_resized.pth\n",
      "dict_keys(['k', 'indices', 'file', 'id', 'model_name', 'patch_size', 'shape'])\n",
      "0014_resized\n"
     ]
    },
    {
     "name": "stderr",
     "output_type": "stream",
     "text": [
      "/home/phdcs2/Hard_Disk/Projects/T2I/deep-spectral-segmentation/venv/lib/python3.8/site-packages/sklearn/decomposition/_pca.py:642: RuntimeWarning: invalid value encountered in divide\n",
      "  self.explained_variance_ratio_ = self.explained_variance_ / total_var\n"
     ]
    },
    {
     "name": "stdout",
     "output_type": "stream",
     "text": [
      "Starting Training\n",
      "epoch: 00, loss: -0.90840\n",
      "epoch: 01, loss: -0.94429\n",
      "epoch: 02, loss: -0.95360\n",
      "epoch: 03, loss: -0.95890\n",
      "epoch: 04, loss: -0.96255\n",
      "epoch: 05, loss: -0.96525\n",
      "epoch: 06, loss: -0.96730\n",
      "epoch: 07, loss: -0.96902\n",
      "epoch: 08, loss: -0.97042\n",
      "epoch: 09, loss: -0.97161\n",
      "torch.Size([1024, 64])\n"
     ]
    },
    {
     "name": "stderr",
     "output_type": "stream",
     "text": [
      "  1%|▏         | 14/999 [13:45<18:35:56, 67.98s/it]"
     ]
    },
    {
     "name": "stdout",
     "output_type": "stream",
     "text": [
      "eigenvalues shape torch.Size([5]) eigenvectors shape torch.Size([5, 1024])\n",
      "14 /home/phdcs2/Hard_Disk/Datasets/Deep-Spectral-Segmentation/data/object-segmentation/ECSSD/features/0015_resized.pth\n",
      "dict_keys(['k', 'indices', 'file', 'id', 'model_name', 'patch_size', 'shape'])\n",
      "0015_resized\n",
      "Starting Training\n",
      "epoch: 00, loss: -0.88151\n",
      "epoch: 01, loss: -0.92698\n",
      "epoch: 02, loss: -0.93909\n",
      "epoch: 03, loss: -0.94571\n",
      "epoch: 04, loss: -0.95018\n",
      "epoch: 05, loss: -0.95359\n",
      "epoch: 06, loss: -0.95627\n",
      "epoch: 07, loss: -0.95832\n",
      "epoch: 08, loss: -0.96025\n",
      "epoch: 09, loss: -0.96169\n",
      "torch.Size([1024, 64])\n"
     ]
    },
    {
     "name": "stderr",
     "output_type": "stream",
     "text": [
      "  2%|▏         | 15/999 [14:59<19:08:57, 70.06s/it]"
     ]
    },
    {
     "name": "stdout",
     "output_type": "stream",
     "text": [
      "eigenvalues shape torch.Size([5]) eigenvectors shape torch.Size([5, 1024])\n",
      "15 /home/phdcs2/Hard_Disk/Datasets/Deep-Spectral-Segmentation/data/object-segmentation/ECSSD/features/0016_resized.pth\n",
      "dict_keys(['k', 'indices', 'file', 'id', 'model_name', 'patch_size', 'shape'])\n",
      "0016_resized\n",
      "Starting Training\n",
      "epoch: 00, loss: -0.86567\n",
      "epoch: 01, loss: -0.92462\n",
      "epoch: 02, loss: -0.93876\n",
      "epoch: 03, loss: -0.94651\n",
      "epoch: 04, loss: -0.95181\n",
      "epoch: 05, loss: -0.95553\n",
      "epoch: 06, loss: -0.95855\n",
      "epoch: 07, loss: -0.96089\n",
      "epoch: 08, loss: -0.96281\n",
      "epoch: 09, loss: -0.96438\n",
      "torch.Size([1024, 64])\n"
     ]
    },
    {
     "name": "stderr",
     "output_type": "stream",
     "text": [
      "  2%|▏         | 16/999 [16:17<19:46:09, 72.40s/it]"
     ]
    },
    {
     "name": "stdout",
     "output_type": "stream",
     "text": [
      "eigenvalues shape torch.Size([5]) eigenvectors shape torch.Size([5, 1024])\n",
      "16 /home/phdcs2/Hard_Disk/Datasets/Deep-Spectral-Segmentation/data/object-segmentation/ECSSD/features/0017_resized.pth\n",
      "dict_keys(['k', 'indices', 'file', 'id', 'model_name', 'patch_size', 'shape'])\n",
      "0017_resized\n"
     ]
    },
    {
     "name": "stderr",
     "output_type": "stream",
     "text": [
      "/home/phdcs2/Hard_Disk/Projects/T2I/deep-spectral-segmentation/venv/lib/python3.8/site-packages/sklearn/decomposition/_pca.py:642: RuntimeWarning: invalid value encountered in divide\n",
      "  self.explained_variance_ratio_ = self.explained_variance_ / total_var\n"
     ]
    },
    {
     "name": "stdout",
     "output_type": "stream",
     "text": [
      "Starting Training\n",
      "epoch: 00, loss: -0.91865\n",
      "epoch: 01, loss: -0.95076\n",
      "epoch: 02, loss: -0.95863\n",
      "epoch: 03, loss: -0.96323\n",
      "epoch: 04, loss: -0.96642\n",
      "epoch: 05, loss: -0.96878\n",
      "epoch: 06, loss: -0.97062\n",
      "epoch: 07, loss: -0.97213\n",
      "epoch: 08, loss: -0.97339\n",
      "epoch: 09, loss: -0.97447\n",
      "torch.Size([1024, 64])\n"
     ]
    },
    {
     "name": "stderr",
     "output_type": "stream",
     "text": [
      "  2%|▏         | 17/999 [17:36<20:13:52, 74.17s/it]"
     ]
    },
    {
     "name": "stdout",
     "output_type": "stream",
     "text": [
      "eigenvalues shape torch.Size([5]) eigenvectors shape torch.Size([5, 1024])\n",
      "17 /home/phdcs2/Hard_Disk/Datasets/Deep-Spectral-Segmentation/data/object-segmentation/ECSSD/features/0018_resized.pth\n",
      "dict_keys(['k', 'indices', 'file', 'id', 'model_name', 'patch_size', 'shape'])\n",
      "0018_resized\n",
      "Starting Training\n",
      "epoch: 00, loss: -0.89478\n",
      "epoch: 01, loss: -0.93696\n",
      "epoch: 02, loss: -0.94780\n",
      "epoch: 03, loss: -0.95407\n",
      "epoch: 04, loss: -0.95833\n",
      "epoch: 05, loss: -0.96145\n",
      "epoch: 06, loss: -0.96388\n",
      "epoch: 07, loss: -0.96583\n",
      "epoch: 08, loss: -0.96744\n",
      "epoch: 09, loss: -0.96886\n",
      "torch.Size([1024, 64])\n"
     ]
    },
    {
     "name": "stderr",
     "output_type": "stream",
     "text": [
      "  2%|▏         | 18/999 [18:50<20:15:55, 74.37s/it]"
     ]
    },
    {
     "name": "stdout",
     "output_type": "stream",
     "text": [
      "eigenvalues shape torch.Size([5]) eigenvectors shape torch.Size([5, 1024])\n",
      "18 /home/phdcs2/Hard_Disk/Datasets/Deep-Spectral-Segmentation/data/object-segmentation/ECSSD/features/0019_resized.pth\n",
      "dict_keys(['k', 'indices', 'file', 'id', 'model_name', 'patch_size', 'shape'])\n",
      "0019_resized\n",
      "Starting Training\n",
      "epoch: 00, loss: -0.90808\n",
      "epoch: 01, loss: -0.94213\n",
      "epoch: 02, loss: -0.95087\n",
      "epoch: 03, loss: -0.95603\n",
      "epoch: 04, loss: -0.95957\n",
      "epoch: 05, loss: -0.96216\n",
      "epoch: 06, loss: -0.96424\n",
      "epoch: 07, loss: -0.96589\n",
      "epoch: 08, loss: -0.96733\n",
      "epoch: 09, loss: -0.96852\n",
      "torch.Size([1024, 64])\n"
     ]
    },
    {
     "name": "stderr",
     "output_type": "stream",
     "text": [
      "  2%|▏         | 19/999 [20:06<20:19:05, 74.64s/it]"
     ]
    },
    {
     "name": "stdout",
     "output_type": "stream",
     "text": [
      "eigenvalues shape torch.Size([5]) eigenvectors shape torch.Size([5, 1024])\n",
      "19 /home/phdcs2/Hard_Disk/Datasets/Deep-Spectral-Segmentation/data/object-segmentation/ECSSD/features/0020_resized.pth\n",
      "dict_keys(['k', 'indices', 'file', 'id', 'model_name', 'patch_size', 'shape'])\n",
      "0020_resized\n",
      "Starting Training\n",
      "epoch: 00, loss: -0.84766\n",
      "epoch: 01, loss: -0.91351\n",
      "epoch: 02, loss: -0.92898\n",
      "epoch: 03, loss: -0.93765\n",
      "epoch: 04, loss: -0.94372\n",
      "epoch: 05, loss: -0.94799\n",
      "epoch: 06, loss: -0.95145\n",
      "epoch: 07, loss: -0.95416\n",
      "epoch: 08, loss: -0.95643\n",
      "epoch: 09, loss: -0.95827\n",
      "torch.Size([1024, 64])\n"
     ]
    },
    {
     "name": "stderr",
     "output_type": "stream",
     "text": [
      "  2%|▏         | 20/999 [21:22<20:27:10, 75.21s/it]"
     ]
    },
    {
     "name": "stdout",
     "output_type": "stream",
     "text": [
      "eigenvalues shape torch.Size([5]) eigenvectors shape torch.Size([5, 1024])\n",
      "20 /home/phdcs2/Hard_Disk/Datasets/Deep-Spectral-Segmentation/data/object-segmentation/ECSSD/features/0021_resized.pth\n",
      "dict_keys(['k', 'indices', 'file', 'id', 'model_name', 'patch_size', 'shape'])\n",
      "0021_resized\n",
      "Starting Training\n",
      "epoch: 00, loss: -0.85868\n",
      "epoch: 01, loss: -0.91503\n",
      "epoch: 02, loss: -0.93007\n",
      "epoch: 03, loss: -0.93854\n",
      "epoch: 04, loss: -0.94432\n",
      "epoch: 05, loss: -0.94852\n",
      "epoch: 06, loss: -0.95171\n",
      "epoch: 07, loss: -0.95454\n",
      "epoch: 08, loss: -0.95660\n",
      "epoch: 09, loss: -0.95848\n",
      "torch.Size([1024, 64])\n"
     ]
    },
    {
     "name": "stderr",
     "output_type": "stream",
     "text": [
      "  2%|▏         | 21/999 [22:35<20:16:13, 74.62s/it]"
     ]
    },
    {
     "name": "stdout",
     "output_type": "stream",
     "text": [
      "eigenvalues shape torch.Size([5]) eigenvectors shape torch.Size([5, 1024])\n",
      "21 /home/phdcs2/Hard_Disk/Datasets/Deep-Spectral-Segmentation/data/object-segmentation/ECSSD/features/0022_resized.pth\n",
      "dict_keys(['k', 'indices', 'file', 'id', 'model_name', 'patch_size', 'shape'])\n",
      "0022_resized\n",
      "Starting Training\n",
      "epoch: 00, loss: -0.85787\n",
      "epoch: 01, loss: -0.91958\n",
      "epoch: 02, loss: -0.93411\n",
      "epoch: 03, loss: -0.94238\n",
      "epoch: 04, loss: -0.94788\n",
      "epoch: 05, loss: -0.95187\n",
      "epoch: 06, loss: -0.95498\n",
      "epoch: 07, loss: -0.95735\n",
      "epoch: 08, loss: -0.95942\n",
      "epoch: 09, loss: -0.96114\n",
      "torch.Size([1024, 64])\n"
     ]
    },
    {
     "name": "stderr",
     "output_type": "stream",
     "text": [
      "  2%|▏         | 22/999 [23:46<19:56:56, 73.51s/it]"
     ]
    },
    {
     "name": "stdout",
     "output_type": "stream",
     "text": [
      "eigenvalues shape torch.Size([5]) eigenvectors shape torch.Size([5, 1024])\n",
      "22 /home/phdcs2/Hard_Disk/Datasets/Deep-Spectral-Segmentation/data/object-segmentation/ECSSD/features/0024_resized.pth\n",
      "dict_keys(['k', 'indices', 'file', 'id', 'model_name', 'patch_size', 'shape'])\n",
      "0024_resized\n",
      "Starting Training\n",
      "epoch: 00, loss: -0.91441\n",
      "epoch: 01, loss: -0.94719\n",
      "epoch: 02, loss: -0.95514\n",
      "epoch: 03, loss: -0.95971\n",
      "epoch: 04, loss: -0.96282\n",
      "epoch: 05, loss: -0.96518\n",
      "epoch: 06, loss: -0.96700\n",
      "epoch: 07, loss: -0.96849\n",
      "epoch: 08, loss: -0.96977\n",
      "epoch: 09, loss: -0.97086\n",
      "torch.Size([1024, 64])\n"
     ]
    },
    {
     "name": "stderr",
     "output_type": "stream",
     "text": [
      "  2%|▏         | 23/999 [24:53<19:23:36, 71.53s/it]"
     ]
    },
    {
     "name": "stdout",
     "output_type": "stream",
     "text": [
      "eigenvalues shape torch.Size([5]) eigenvectors shape torch.Size([5, 1024])\n",
      "23 /home/phdcs2/Hard_Disk/Datasets/Deep-Spectral-Segmentation/data/object-segmentation/ECSSD/features/0025_resized.pth\n",
      "dict_keys(['k', 'indices', 'file', 'id', 'model_name', 'patch_size', 'shape'])\n",
      "0025_resized\n",
      "Starting Training\n",
      "epoch: 00, loss: -0.87163\n",
      "epoch: 01, loss: -0.92436\n",
      "epoch: 02, loss: -0.93818\n",
      "epoch: 03, loss: -0.94587\n",
      "epoch: 04, loss: -0.95099\n",
      "epoch: 05, loss: -0.95475\n",
      "epoch: 06, loss: -0.95763\n",
      "epoch: 07, loss: -0.95992\n",
      "epoch: 08, loss: -0.96178\n",
      "epoch: 09, loss: -0.96339\n",
      "torch.Size([1024, 64])\n"
     ]
    },
    {
     "name": "stderr",
     "output_type": "stream",
     "text": [
      "  2%|▏         | 24/999 [26:06<19:28:25, 71.90s/it]"
     ]
    },
    {
     "name": "stdout",
     "output_type": "stream",
     "text": [
      "eigenvalues shape torch.Size([5]) eigenvectors shape torch.Size([5, 1024])\n",
      "24 /home/phdcs2/Hard_Disk/Datasets/Deep-Spectral-Segmentation/data/object-segmentation/ECSSD/features/0026_resized.pth\n",
      "dict_keys(['k', 'indices', 'file', 'id', 'model_name', 'patch_size', 'shape'])\n",
      "0026_resized\n",
      "Starting Training\n",
      "epoch: 00, loss: -0.87077\n",
      "epoch: 01, loss: -0.92537\n",
      "epoch: 02, loss: -0.93857\n",
      "epoch: 03, loss: -0.94610\n",
      "epoch: 04, loss: -0.95082\n",
      "epoch: 05, loss: -0.95437\n",
      "epoch: 06, loss: -0.95706\n",
      "epoch: 07, loss: -0.95931\n",
      "epoch: 08, loss: -0.96117\n",
      "epoch: 09, loss: -0.96285\n",
      "torch.Size([1024, 64])\n"
     ]
    },
    {
     "name": "stderr",
     "output_type": "stream",
     "text": [
      "  3%|▎         | 25/999 [27:18<19:25:24, 71.79s/it]"
     ]
    },
    {
     "name": "stdout",
     "output_type": "stream",
     "text": [
      "eigenvalues shape torch.Size([5]) eigenvectors shape torch.Size([5, 1024])\n",
      "25 /home/phdcs2/Hard_Disk/Datasets/Deep-Spectral-Segmentation/data/object-segmentation/ECSSD/features/0027_resized.pth\n",
      "dict_keys(['k', 'indices', 'file', 'id', 'model_name', 'patch_size', 'shape'])\n",
      "0027_resized\n",
      "Starting Training\n",
      "epoch: 00, loss: -0.85871\n",
      "epoch: 01, loss: -0.91573\n",
      "epoch: 02, loss: -0.93020\n",
      "epoch: 03, loss: -0.93830\n",
      "epoch: 04, loss: -0.94392\n",
      "epoch: 05, loss: -0.94792\n",
      "epoch: 06, loss: -0.95100\n",
      "epoch: 07, loss: -0.95345\n",
      "epoch: 08, loss: -0.95562\n",
      "epoch: 09, loss: -0.95740\n",
      "torch.Size([1024, 64])\n"
     ]
    },
    {
     "name": "stderr",
     "output_type": "stream",
     "text": [
      "  3%|▎         | 26/999 [28:30<19:27:39, 72.00s/it]"
     ]
    },
    {
     "name": "stdout",
     "output_type": "stream",
     "text": [
      "eigenvalues shape torch.Size([5]) eigenvectors shape torch.Size([5, 1024])\n",
      "26 /home/phdcs2/Hard_Disk/Datasets/Deep-Spectral-Segmentation/data/object-segmentation/ECSSD/features/0028_resized.pth\n",
      "dict_keys(['k', 'indices', 'file', 'id', 'model_name', 'patch_size', 'shape'])\n",
      "0028_resized\n"
     ]
    },
    {
     "name": "stderr",
     "output_type": "stream",
     "text": [
      "/home/phdcs2/Hard_Disk/Projects/T2I/deep-spectral-segmentation/venv/lib/python3.8/site-packages/sklearn/decomposition/_pca.py:642: RuntimeWarning: invalid value encountered in divide\n",
      "  self.explained_variance_ratio_ = self.explained_variance_ / total_var\n"
     ]
    },
    {
     "name": "stdout",
     "output_type": "stream",
     "text": [
      "Starting Training\n",
      "epoch: 00, loss: -0.93586\n",
      "epoch: 01, loss: -0.96329\n",
      "epoch: 02, loss: -0.96905\n",
      "epoch: 03, loss: -0.97237\n",
      "epoch: 04, loss: -0.97462\n",
      "epoch: 05, loss: -0.97632\n",
      "epoch: 06, loss: -0.97766\n",
      "epoch: 07, loss: -0.97873\n",
      "epoch: 08, loss: -0.97962\n",
      "epoch: 09, loss: -0.98039\n",
      "torch.Size([1024, 64])\n"
     ]
    },
    {
     "name": "stderr",
     "output_type": "stream",
     "text": [
      "  3%|▎         | 27/999 [29:42<19:23:52, 71.84s/it]"
     ]
    },
    {
     "name": "stdout",
     "output_type": "stream",
     "text": [
      "eigenvalues shape torch.Size([5]) eigenvectors shape torch.Size([5, 1024])\n",
      "27 /home/phdcs2/Hard_Disk/Datasets/Deep-Spectral-Segmentation/data/object-segmentation/ECSSD/features/0029_resized.pth\n",
      "dict_keys(['k', 'indices', 'file', 'id', 'model_name', 'patch_size', 'shape'])\n",
      "0029_resized\n"
     ]
    },
    {
     "name": "stderr",
     "output_type": "stream",
     "text": [
      "/home/phdcs2/Hard_Disk/Projects/T2I/deep-spectral-segmentation/venv/lib/python3.8/site-packages/sklearn/decomposition/_pca.py:642: RuntimeWarning: invalid value encountered in divide\n",
      "  self.explained_variance_ratio_ = self.explained_variance_ / total_var\n"
     ]
    },
    {
     "name": "stdout",
     "output_type": "stream",
     "text": [
      "Starting Training\n",
      "epoch: 00, loss: -0.91675\n",
      "epoch: 01, loss: -0.94996\n",
      "epoch: 02, loss: -0.95766\n",
      "epoch: 03, loss: -0.96220\n",
      "epoch: 04, loss: -0.96527\n",
      "epoch: 05, loss: -0.96756\n",
      "epoch: 06, loss: -0.96936\n",
      "epoch: 07, loss: -0.97084\n",
      "epoch: 08, loss: -0.97207\n",
      "epoch: 09, loss: -0.97310\n",
      "torch.Size([1024, 64])\n"
     ]
    },
    {
     "name": "stderr",
     "output_type": "stream",
     "text": [
      "  3%|▎         | 28/999 [30:49<19:01:54, 70.56s/it]"
     ]
    },
    {
     "name": "stdout",
     "output_type": "stream",
     "text": [
      "eigenvalues shape torch.Size([5]) eigenvectors shape torch.Size([5, 1024])\n",
      "28 /home/phdcs2/Hard_Disk/Datasets/Deep-Spectral-Segmentation/data/object-segmentation/ECSSD/features/0030_resized.pth\n",
      "dict_keys(['k', 'indices', 'file', 'id', 'model_name', 'patch_size', 'shape'])\n",
      "0030_resized\n"
     ]
    },
    {
     "name": "stderr",
     "output_type": "stream",
     "text": [
      "/home/phdcs2/Hard_Disk/Projects/T2I/deep-spectral-segmentation/venv/lib/python3.8/site-packages/sklearn/decomposition/_pca.py:642: RuntimeWarning: invalid value encountered in divide\n",
      "  self.explained_variance_ratio_ = self.explained_variance_ / total_var\n"
     ]
    },
    {
     "name": "stdout",
     "output_type": "stream",
     "text": [
      "Starting Training\n",
      "epoch: 00, loss: -0.91814\n",
      "epoch: 01, loss: -0.94845\n",
      "epoch: 02, loss: -0.95620\n",
      "epoch: 03, loss: -0.96078\n",
      "epoch: 04, loss: -0.96387\n",
      "epoch: 05, loss: -0.96622\n",
      "epoch: 06, loss: -0.96804\n",
      "epoch: 07, loss: -0.96954\n",
      "epoch: 08, loss: -0.97079\n",
      "epoch: 09, loss: -0.97187\n",
      "torch.Size([1024, 64])\n"
     ]
    },
    {
     "name": "stderr",
     "output_type": "stream",
     "text": [
      "  3%|▎         | 29/999 [31:56<18:42:41, 69.44s/it]"
     ]
    },
    {
     "name": "stdout",
     "output_type": "stream",
     "text": [
      "eigenvalues shape torch.Size([5]) eigenvectors shape torch.Size([5, 1024])\n",
      "29 /home/phdcs2/Hard_Disk/Datasets/Deep-Spectral-Segmentation/data/object-segmentation/ECSSD/features/0031_resized.pth\n",
      "dict_keys(['k', 'indices', 'file', 'id', 'model_name', 'patch_size', 'shape'])\n",
      "0031_resized\n",
      "Starting Training\n",
      "epoch: 00, loss: -0.87434\n",
      "epoch: 01, loss: -0.92663\n",
      "epoch: 02, loss: -0.93950\n",
      "epoch: 03, loss: -0.94675\n",
      "epoch: 04, loss: -0.95148\n",
      "epoch: 05, loss: -0.95510\n",
      "epoch: 06, loss: -0.95790\n",
      "epoch: 07, loss: -0.96012\n",
      "epoch: 08, loss: -0.96200\n",
      "epoch: 09, loss: -0.96368\n",
      "torch.Size([1024, 64])\n"
     ]
    },
    {
     "name": "stderr",
     "output_type": "stream",
     "text": [
      "  3%|▎         | 30/999 [32:55<17:53:04, 66.44s/it]"
     ]
    },
    {
     "name": "stdout",
     "output_type": "stream",
     "text": [
      "eigenvalues shape torch.Size([5]) eigenvectors shape torch.Size([5, 1024])\n",
      "30 /home/phdcs2/Hard_Disk/Datasets/Deep-Spectral-Segmentation/data/object-segmentation/ECSSD/features/0032_resized.pth\n",
      "dict_keys(['k', 'indices', 'file', 'id', 'model_name', 'patch_size', 'shape'])\n",
      "0032_resized\n"
     ]
    },
    {
     "name": "stderr",
     "output_type": "stream",
     "text": [
      "/home/phdcs2/Hard_Disk/Projects/T2I/deep-spectral-segmentation/venv/lib/python3.8/site-packages/sklearn/decomposition/_pca.py:642: RuntimeWarning: invalid value encountered in divide\n",
      "  self.explained_variance_ratio_ = self.explained_variance_ / total_var\n"
     ]
    },
    {
     "name": "stdout",
     "output_type": "stream",
     "text": [
      "Starting Training\n",
      "epoch: 00, loss: -0.91671\n",
      "epoch: 01, loss: -0.95285\n",
      "epoch: 02, loss: -0.96013\n",
      "epoch: 03, loss: -0.96431\n",
      "epoch: 04, loss: -0.96721\n",
      "epoch: 05, loss: -0.96936\n",
      "epoch: 06, loss: -0.97105\n",
      "epoch: 07, loss: -0.97245\n",
      "epoch: 08, loss: -0.97360\n",
      "epoch: 09, loss: -0.97461\n",
      "torch.Size([1024, 64])\n"
     ]
    },
    {
     "name": "stderr",
     "output_type": "stream",
     "text": [
      "  3%|▎         | 31/999 [34:03<17:55:37, 66.67s/it]"
     ]
    },
    {
     "name": "stdout",
     "output_type": "stream",
     "text": [
      "eigenvalues shape torch.Size([5]) eigenvectors shape torch.Size([5, 1024])\n",
      "31 /home/phdcs2/Hard_Disk/Datasets/Deep-Spectral-Segmentation/data/object-segmentation/ECSSD/features/0033_resized.pth\n",
      "dict_keys(['k', 'indices', 'file', 'id', 'model_name', 'patch_size', 'shape'])\n",
      "0033_resized\n"
     ]
    },
    {
     "name": "stderr",
     "output_type": "stream",
     "text": [
      "/home/phdcs2/Hard_Disk/Projects/T2I/deep-spectral-segmentation/venv/lib/python3.8/site-packages/sklearn/decomposition/_pca.py:642: RuntimeWarning: invalid value encountered in divide\n",
      "  self.explained_variance_ratio_ = self.explained_variance_ / total_var\n"
     ]
    },
    {
     "name": "stdout",
     "output_type": "stream",
     "text": [
      "Starting Training\n",
      "epoch: 00, loss: -0.91012\n",
      "epoch: 01, loss: -0.94774\n",
      "epoch: 02, loss: -0.95633\n",
      "epoch: 03, loss: -0.96128\n",
      "epoch: 04, loss: -0.96463\n",
      "epoch: 05, loss: -0.96712\n",
      "epoch: 06, loss: -0.96905\n",
      "epoch: 07, loss: -0.97065\n",
      "epoch: 08, loss: -0.97196\n",
      "epoch: 09, loss: -0.97308\n",
      "torch.Size([1024, 64])\n"
     ]
    },
    {
     "name": "stderr",
     "output_type": "stream",
     "text": [
      "  3%|▎         | 32/999 [35:13<18:14:21, 67.90s/it]"
     ]
    },
    {
     "name": "stdout",
     "output_type": "stream",
     "text": [
      "eigenvalues shape torch.Size([5]) eigenvectors shape torch.Size([5, 1024])\n",
      "32 /home/phdcs2/Hard_Disk/Datasets/Deep-Spectral-Segmentation/data/object-segmentation/ECSSD/features/0034_resized.pth\n",
      "dict_keys(['k', 'indices', 'file', 'id', 'model_name', 'patch_size', 'shape'])\n",
      "0034_resized\n",
      "Starting Training\n",
      "epoch: 00, loss: -0.86539\n",
      "epoch: 01, loss: -0.92022\n",
      "epoch: 02, loss: -0.93442\n",
      "epoch: 03, loss: -0.94245\n",
      "epoch: 04, loss: -0.94809\n",
      "epoch: 05, loss: -0.95199\n",
      "epoch: 06, loss: -0.95498\n",
      "epoch: 07, loss: -0.95750\n",
      "epoch: 08, loss: -0.95946\n",
      "epoch: 09, loss: -0.96117\n",
      "torch.Size([1024, 64])\n"
     ]
    },
    {
     "name": "stderr",
     "output_type": "stream",
     "text": [
      "  3%|▎         | 33/999 [36:16<17:47:02, 66.28s/it]"
     ]
    },
    {
     "name": "stdout",
     "output_type": "stream",
     "text": [
      "eigenvalues shape torch.Size([5]) eigenvectors shape torch.Size([5, 1024])\n",
      "33 /home/phdcs2/Hard_Disk/Datasets/Deep-Spectral-Segmentation/data/object-segmentation/ECSSD/features/0035_resized.pth\n",
      "dict_keys(['k', 'indices', 'file', 'id', 'model_name', 'patch_size', 'shape'])\n",
      "0035_resized\n"
     ]
    },
    {
     "name": "stderr",
     "output_type": "stream",
     "text": [
      "/home/phdcs2/Hard_Disk/Projects/T2I/deep-spectral-segmentation/venv/lib/python3.8/site-packages/sklearn/decomposition/_pca.py:642: RuntimeWarning: invalid value encountered in divide\n",
      "  self.explained_variance_ratio_ = self.explained_variance_ / total_var\n"
     ]
    },
    {
     "name": "stdout",
     "output_type": "stream",
     "text": [
      "Starting Training\n",
      "epoch: 00, loss: -0.92369\n",
      "epoch: 01, loss: -0.95354\n",
      "epoch: 02, loss: -0.96007\n",
      "epoch: 03, loss: -0.96402\n",
      "epoch: 04, loss: -0.96674\n",
      "epoch: 05, loss: -0.96877\n",
      "epoch: 06, loss: -0.97036\n",
      "epoch: 07, loss: -0.97169\n",
      "epoch: 08, loss: -0.97281\n",
      "epoch: 09, loss: -0.97377\n",
      "torch.Size([1024, 64])\n"
     ]
    },
    {
     "name": "stderr",
     "output_type": "stream",
     "text": [
      "  3%|▎         | 34/999 [37:24<17:53:18, 66.73s/it]"
     ]
    },
    {
     "name": "stdout",
     "output_type": "stream",
     "text": [
      "eigenvalues shape torch.Size([5]) eigenvectors shape torch.Size([5, 1024])\n",
      "34 /home/phdcs2/Hard_Disk/Datasets/Deep-Spectral-Segmentation/data/object-segmentation/ECSSD/features/0036_resized.pth\n",
      "dict_keys(['k', 'indices', 'file', 'id', 'model_name', 'patch_size', 'shape'])\n",
      "0036_resized\n"
     ]
    },
    {
     "name": "stderr",
     "output_type": "stream",
     "text": [
      "/home/phdcs2/Hard_Disk/Projects/T2I/deep-spectral-segmentation/venv/lib/python3.8/site-packages/sklearn/decomposition/_pca.py:642: RuntimeWarning: invalid value encountered in divide\n",
      "  self.explained_variance_ratio_ = self.explained_variance_ / total_var\n"
     ]
    },
    {
     "name": "stdout",
     "output_type": "stream",
     "text": [
      "Starting Training\n",
      "epoch: 00, loss: -0.92259\n",
      "epoch: 01, loss: -0.95452\n",
      "epoch: 02, loss: -0.96162\n",
      "epoch: 03, loss: -0.96564\n",
      "epoch: 04, loss: -0.96842\n",
      "epoch: 05, loss: -0.97048\n",
      "epoch: 06, loss: -0.97206\n",
      "epoch: 07, loss: -0.97339\n",
      "epoch: 08, loss: -0.97446\n",
      "epoch: 09, loss: -0.97539\n",
      "torch.Size([1024, 64])\n"
     ]
    },
    {
     "name": "stderr",
     "output_type": "stream",
     "text": [
      "  4%|▎         | 35/999 [38:28<17:42:58, 66.16s/it]"
     ]
    },
    {
     "name": "stdout",
     "output_type": "stream",
     "text": [
      "eigenvalues shape torch.Size([5]) eigenvectors shape torch.Size([5, 1024])\n",
      "35 /home/phdcs2/Hard_Disk/Datasets/Deep-Spectral-Segmentation/data/object-segmentation/ECSSD/features/0037_resized.pth\n",
      "dict_keys(['k', 'indices', 'file', 'id', 'model_name', 'patch_size', 'shape'])\n",
      "0037_resized\n",
      "Starting Training\n",
      "epoch: 00, loss: -0.91247\n",
      "epoch: 01, loss: -0.95104\n",
      "epoch: 02, loss: -0.95915\n",
      "epoch: 03, loss: -0.96370\n",
      "epoch: 04, loss: -0.96682\n",
      "epoch: 05, loss: -0.96916\n",
      "epoch: 06, loss: -0.97096\n",
      "epoch: 07, loss: -0.97243\n",
      "epoch: 08, loss: -0.97365\n",
      "epoch: 09, loss: -0.97469\n",
      "torch.Size([1024, 64])\n"
     ]
    },
    {
     "name": "stderr",
     "output_type": "stream",
     "text": [
      "  4%|▎         | 36/999 [39:33<17:32:10, 65.56s/it]"
     ]
    },
    {
     "name": "stdout",
     "output_type": "stream",
     "text": [
      "eigenvalues shape torch.Size([5]) eigenvectors shape torch.Size([5, 1024])\n",
      "36 /home/phdcs2/Hard_Disk/Datasets/Deep-Spectral-Segmentation/data/object-segmentation/ECSSD/features/0038_resized.pth\n",
      "dict_keys(['k', 'indices', 'file', 'id', 'model_name', 'patch_size', 'shape'])\n",
      "0038_resized\n",
      "Starting Training\n",
      "epoch: 00, loss: -0.88495\n",
      "epoch: 01, loss: -0.93489\n",
      "epoch: 02, loss: -0.94646\n",
      "epoch: 03, loss: -0.95296\n",
      "epoch: 04, loss: -0.95731\n",
      "epoch: 05, loss: -0.96050\n",
      "epoch: 06, loss: -0.96304\n",
      "epoch: 07, loss: -0.96504\n",
      "epoch: 08, loss: -0.96667\n",
      "epoch: 09, loss: -0.96803\n",
      "torch.Size([1024, 64])\n"
     ]
    },
    {
     "name": "stderr",
     "output_type": "stream",
     "text": [
      "  4%|▎         | 37/999 [40:30<16:50:20, 63.01s/it]"
     ]
    },
    {
     "name": "stdout",
     "output_type": "stream",
     "text": [
      "eigenvalues shape torch.Size([5]) eigenvectors shape torch.Size([5, 1024])\n",
      "37 /home/phdcs2/Hard_Disk/Datasets/Deep-Spectral-Segmentation/data/object-segmentation/ECSSD/features/0039_resized.pth\n",
      "dict_keys(['k', 'indices', 'file', 'id', 'model_name', 'patch_size', 'shape'])\n",
      "0039_resized\n",
      "Starting Training\n",
      "epoch: 00, loss: -0.87099\n",
      "epoch: 01, loss: -0.92205\n",
      "epoch: 02, loss: -0.93512\n",
      "epoch: 03, loss: -0.94247\n",
      "epoch: 04, loss: -0.94755\n",
      "epoch: 05, loss: -0.95129\n",
      "epoch: 06, loss: -0.95429\n",
      "epoch: 07, loss: -0.95663\n",
      "epoch: 08, loss: -0.95858\n",
      "epoch: 09, loss: -0.96020\n",
      "torch.Size([1024, 64])\n"
     ]
    },
    {
     "name": "stderr",
     "output_type": "stream",
     "text": [
      "  4%|▍         | 38/999 [41:30<16:34:00, 62.06s/it]"
     ]
    },
    {
     "name": "stdout",
     "output_type": "stream",
     "text": [
      "eigenvalues shape torch.Size([5]) eigenvectors shape torch.Size([5, 1024])\n",
      "38 /home/phdcs2/Hard_Disk/Datasets/Deep-Spectral-Segmentation/data/object-segmentation/ECSSD/features/0040_resized.pth\n",
      "dict_keys(['k', 'indices', 'file', 'id', 'model_name', 'patch_size', 'shape'])\n",
      "0040_resized\n",
      "Starting Training\n",
      "epoch: 00, loss: -0.92839\n",
      "epoch: 01, loss: -0.95551\n",
      "epoch: 02, loss: -0.96187\n",
      "epoch: 03, loss: -0.96552\n",
      "epoch: 04, loss: -0.96809\n",
      "epoch: 05, loss: -0.97000\n",
      "epoch: 06, loss: -0.97156\n",
      "epoch: 07, loss: -0.97281\n",
      "epoch: 08, loss: -0.97385\n",
      "epoch: 09, loss: -0.97475\n",
      "torch.Size([1024, 64])\n"
     ]
    },
    {
     "name": "stderr",
     "output_type": "stream",
     "text": [
      "  4%|▍         | 39/999 [42:35<16:47:43, 62.98s/it]"
     ]
    },
    {
     "name": "stdout",
     "output_type": "stream",
     "text": [
      "eigenvalues shape torch.Size([5]) eigenvectors shape torch.Size([5, 1024])\n",
      "39 /home/phdcs2/Hard_Disk/Datasets/Deep-Spectral-Segmentation/data/object-segmentation/ECSSD/features/0041_resized.pth\n",
      "dict_keys(['k', 'indices', 'file', 'id', 'model_name', 'patch_size', 'shape'])\n",
      "0041_resized\n"
     ]
    },
    {
     "name": "stderr",
     "output_type": "stream",
     "text": [
      "/home/phdcs2/Hard_Disk/Projects/T2I/deep-spectral-segmentation/venv/lib/python3.8/site-packages/sklearn/decomposition/_pca.py:642: RuntimeWarning: invalid value encountered in divide\n",
      "  self.explained_variance_ratio_ = self.explained_variance_ / total_var\n"
     ]
    },
    {
     "name": "stdout",
     "output_type": "stream",
     "text": [
      "Starting Training\n",
      "epoch: 00, loss: -0.92354\n",
      "epoch: 01, loss: -0.95466\n",
      "epoch: 02, loss: -0.96199\n",
      "epoch: 03, loss: -0.96624\n",
      "epoch: 04, loss: -0.96912\n",
      "epoch: 05, loss: -0.97127\n",
      "epoch: 06, loss: -0.97295\n",
      "epoch: 07, loss: -0.97431\n",
      "epoch: 08, loss: -0.97545\n",
      "epoch: 09, loss: -0.97641\n",
      "torch.Size([1024, 64])\n"
     ]
    },
    {
     "name": "stderr",
     "output_type": "stream",
     "text": [
      "  4%|▍         | 40/999 [43:47<17:31:29, 65.79s/it]"
     ]
    },
    {
     "name": "stdout",
     "output_type": "stream",
     "text": [
      "eigenvalues shape torch.Size([5]) eigenvectors shape torch.Size([5, 1024])\n",
      "40 /home/phdcs2/Hard_Disk/Datasets/Deep-Spectral-Segmentation/data/object-segmentation/ECSSD/features/0042_resized.pth\n",
      "dict_keys(['k', 'indices', 'file', 'id', 'model_name', 'patch_size', 'shape'])\n",
      "0042_resized\n",
      "Starting Training\n",
      "epoch: 00, loss: -0.86526\n",
      "epoch: 01, loss: -0.91526\n",
      "epoch: 02, loss: -0.92926\n",
      "epoch: 03, loss: -0.93770\n",
      "epoch: 04, loss: -0.94304\n",
      "epoch: 05, loss: -0.94712\n",
      "epoch: 06, loss: -0.95039\n",
      "epoch: 07, loss: -0.95297\n",
      "epoch: 08, loss: -0.95501\n",
      "epoch: 09, loss: -0.95687\n",
      "torch.Size([1024, 64])\n"
     ]
    },
    {
     "name": "stderr",
     "output_type": "stream",
     "text": [
      "  4%|▍         | 41/999 [45:05<18:29:20, 69.48s/it]"
     ]
    },
    {
     "name": "stdout",
     "output_type": "stream",
     "text": [
      "eigenvalues shape torch.Size([5]) eigenvectors shape torch.Size([5, 1024])\n",
      "41 /home/phdcs2/Hard_Disk/Datasets/Deep-Spectral-Segmentation/data/object-segmentation/ECSSD/features/0043_resized.pth\n",
      "dict_keys(['k', 'indices', 'file', 'id', 'model_name', 'patch_size', 'shape'])\n",
      "0043_resized\n"
     ]
    },
    {
     "name": "stderr",
     "output_type": "stream",
     "text": [
      "/home/phdcs2/Hard_Disk/Projects/T2I/deep-spectral-segmentation/venv/lib/python3.8/site-packages/sklearn/decomposition/_pca.py:642: RuntimeWarning: invalid value encountered in divide\n",
      "  self.explained_variance_ratio_ = self.explained_variance_ / total_var\n"
     ]
    },
    {
     "name": "stdout",
     "output_type": "stream",
     "text": [
      "Starting Training\n",
      "epoch: 00, loss: -0.93446\n",
      "epoch: 01, loss: -0.96231\n",
      "epoch: 02, loss: -0.96813\n",
      "epoch: 03, loss: -0.97151\n",
      "epoch: 04, loss: -0.97381\n",
      "epoch: 05, loss: -0.97553\n",
      "epoch: 06, loss: -0.97688\n",
      "epoch: 07, loss: -0.97798\n",
      "epoch: 08, loss: -0.97890\n",
      "epoch: 09, loss: -0.97969\n",
      "torch.Size([1024, 64])\n"
     ]
    },
    {
     "name": "stderr",
     "output_type": "stream",
     "text": [
      "  4%|▍         | 42/999 [46:26<19:20:37, 72.77s/it]"
     ]
    },
    {
     "name": "stdout",
     "output_type": "stream",
     "text": [
      "eigenvalues shape torch.Size([5]) eigenvectors shape torch.Size([5, 1024])\n",
      "42 /home/phdcs2/Hard_Disk/Datasets/Deep-Spectral-Segmentation/data/object-segmentation/ECSSD/features/0044_resized.pth\n",
      "dict_keys(['k', 'indices', 'file', 'id', 'model_name', 'patch_size', 'shape'])\n",
      "0044_resized\n"
     ]
    },
    {
     "name": "stderr",
     "output_type": "stream",
     "text": [
      "/home/phdcs2/Hard_Disk/Projects/T2I/deep-spectral-segmentation/venv/lib/python3.8/site-packages/sklearn/decomposition/_pca.py:642: RuntimeWarning: invalid value encountered in divide\n",
      "  self.explained_variance_ratio_ = self.explained_variance_ / total_var\n"
     ]
    },
    {
     "name": "stdout",
     "output_type": "stream",
     "text": [
      "Starting Training\n",
      "epoch: 00, loss: -0.91485\n",
      "epoch: 01, loss: -0.94888\n",
      "epoch: 02, loss: -0.95724\n",
      "epoch: 03, loss: -0.96197\n",
      "epoch: 04, loss: -0.96524\n",
      "epoch: 05, loss: -0.96764\n",
      "epoch: 06, loss: -0.96953\n",
      "epoch: 07, loss: -0.97104\n",
      "epoch: 08, loss: -0.97231\n",
      "epoch: 09, loss: -0.97340\n",
      "torch.Size([1024, 64])\n"
     ]
    },
    {
     "name": "stderr",
     "output_type": "stream",
     "text": [
      "  4%|▍         | 43/999 [47:40<19:27:57, 73.30s/it]"
     ]
    },
    {
     "name": "stdout",
     "output_type": "stream",
     "text": [
      "eigenvalues shape torch.Size([5]) eigenvectors shape torch.Size([5, 1024])\n",
      "43 /home/phdcs2/Hard_Disk/Datasets/Deep-Spectral-Segmentation/data/object-segmentation/ECSSD/features/0045_resized.pth\n",
      "dict_keys(['k', 'indices', 'file', 'id', 'model_name', 'patch_size', 'shape'])\n",
      "0045_resized\n"
     ]
    },
    {
     "name": "stderr",
     "output_type": "stream",
     "text": [
      "/home/phdcs2/Hard_Disk/Projects/T2I/deep-spectral-segmentation/venv/lib/python3.8/site-packages/sklearn/decomposition/_pca.py:642: RuntimeWarning: invalid value encountered in divide\n",
      "  self.explained_variance_ratio_ = self.explained_variance_ / total_var\n"
     ]
    },
    {
     "name": "stdout",
     "output_type": "stream",
     "text": [
      "Starting Training\n",
      "epoch: 00, loss: -0.92635\n",
      "epoch: 01, loss: -0.95784\n",
      "epoch: 02, loss: -0.96442\n",
      "epoch: 03, loss: -0.96820\n",
      "epoch: 04, loss: -0.97080\n",
      "epoch: 05, loss: -0.97271\n",
      "epoch: 06, loss: -0.97422\n",
      "epoch: 07, loss: -0.97546\n",
      "epoch: 08, loss: -0.97650\n",
      "epoch: 09, loss: -0.97737\n",
      "torch.Size([1024, 64])\n"
     ]
    },
    {
     "name": "stderr",
     "output_type": "stream",
     "text": [
      "  4%|▍         | 44/999 [48:56<19:38:31, 74.04s/it]"
     ]
    },
    {
     "name": "stdout",
     "output_type": "stream",
     "text": [
      "eigenvalues shape torch.Size([5]) eigenvectors shape torch.Size([5, 1024])\n",
      "44 /home/phdcs2/Hard_Disk/Datasets/Deep-Spectral-Segmentation/data/object-segmentation/ECSSD/features/0046_resized.pth\n",
      "dict_keys(['k', 'indices', 'file', 'id', 'model_name', 'patch_size', 'shape'])\n",
      "0046_resized\n",
      "Starting Training\n",
      "epoch: 00, loss: -0.88967\n",
      "epoch: 01, loss: -0.93500\n",
      "epoch: 02, loss: -0.94616\n",
      "epoch: 03, loss: -0.95255\n",
      "epoch: 04, loss: -0.95677\n",
      "epoch: 05, loss: -0.95990\n",
      "epoch: 06, loss: -0.96238\n",
      "epoch: 07, loss: -0.96425\n",
      "epoch: 08, loss: -0.96586\n",
      "epoch: 09, loss: -0.96728\n",
      "torch.Size([1024, 64])\n"
     ]
    },
    {
     "name": "stderr",
     "output_type": "stream",
     "text": [
      "  5%|▍         | 45/999 [50:13<19:50:10, 74.85s/it]"
     ]
    },
    {
     "name": "stdout",
     "output_type": "stream",
     "text": [
      "eigenvalues shape torch.Size([5]) eigenvectors shape torch.Size([5, 1024])\n",
      "45 /home/phdcs2/Hard_Disk/Datasets/Deep-Spectral-Segmentation/data/object-segmentation/ECSSD/features/0047_resized.pth\n",
      "dict_keys(['k', 'indices', 'file', 'id', 'model_name', 'patch_size', 'shape'])\n",
      "0047_resized\n",
      "Starting Training\n",
      "epoch: 00, loss: -0.92846\n",
      "epoch: 01, loss: -0.95684\n",
      "epoch: 02, loss: -0.96366\n",
      "epoch: 03, loss: -0.96772\n",
      "epoch: 04, loss: -0.97047\n",
      "epoch: 05, loss: -0.97256\n",
      "epoch: 06, loss: -0.97421\n",
      "epoch: 07, loss: -0.97550\n",
      "epoch: 08, loss: -0.97664\n",
      "epoch: 09, loss: -0.97758\n",
      "torch.Size([1024, 64])\n"
     ]
    },
    {
     "name": "stderr",
     "output_type": "stream",
     "text": [
      "  5%|▍         | 46/999 [51:30<20:02:28, 75.71s/it]"
     ]
    },
    {
     "name": "stdout",
     "output_type": "stream",
     "text": [
      "eigenvalues shape torch.Size([5]) eigenvectors shape torch.Size([5, 1024])\n",
      "46 /home/phdcs2/Hard_Disk/Datasets/Deep-Spectral-Segmentation/data/object-segmentation/ECSSD/features/0048_resized.pth\n",
      "dict_keys(['k', 'indices', 'file', 'id', 'model_name', 'patch_size', 'shape'])\n",
      "0048_resized\n"
     ]
    },
    {
     "name": "stderr",
     "output_type": "stream",
     "text": [
      "/home/phdcs2/Hard_Disk/Projects/T2I/deep-spectral-segmentation/venv/lib/python3.8/site-packages/sklearn/decomposition/_pca.py:642: RuntimeWarning: invalid value encountered in divide\n",
      "  self.explained_variance_ratio_ = self.explained_variance_ / total_var\n"
     ]
    },
    {
     "name": "stdout",
     "output_type": "stream",
     "text": [
      "Starting Training\n",
      "epoch: 00, loss: -0.91923\n",
      "epoch: 01, loss: -0.95192\n",
      "epoch: 02, loss: -0.95950\n",
      "epoch: 03, loss: -0.96394\n",
      "epoch: 04, loss: -0.96694\n",
      "epoch: 05, loss: -0.96918\n",
      "epoch: 06, loss: -0.97095\n",
      "epoch: 07, loss: -0.97237\n",
      "epoch: 08, loss: -0.97356\n",
      "epoch: 09, loss: -0.97457\n",
      "torch.Size([1024, 64])\n"
     ]
    },
    {
     "name": "stderr",
     "output_type": "stream",
     "text": [
      "  5%|▍         | 47/999 [52:47<20:06:58, 76.07s/it]"
     ]
    },
    {
     "name": "stdout",
     "output_type": "stream",
     "text": [
      "eigenvalues shape torch.Size([5]) eigenvectors shape torch.Size([5, 1024])\n",
      "47 /home/phdcs2/Hard_Disk/Datasets/Deep-Spectral-Segmentation/data/object-segmentation/ECSSD/features/0049_resized.pth\n",
      "dict_keys(['k', 'indices', 'file', 'id', 'model_name', 'patch_size', 'shape'])\n",
      "0049_resized\n"
     ]
    },
    {
     "name": "stderr",
     "output_type": "stream",
     "text": [
      "/home/phdcs2/Hard_Disk/Projects/T2I/deep-spectral-segmentation/venv/lib/python3.8/site-packages/sklearn/decomposition/_pca.py:642: RuntimeWarning: invalid value encountered in divide\n",
      "  self.explained_variance_ratio_ = self.explained_variance_ / total_var\n"
     ]
    },
    {
     "name": "stdout",
     "output_type": "stream",
     "text": [
      "Starting Training\n",
      "epoch: 00, loss: -0.92470\n",
      "epoch: 01, loss: -0.95534\n",
      "epoch: 02, loss: -0.96198\n",
      "epoch: 03, loss: -0.96583\n",
      "epoch: 04, loss: -0.96853\n",
      "epoch: 05, loss: -0.97052\n",
      "epoch: 06, loss: -0.97209\n",
      "epoch: 07, loss: -0.97336\n",
      "epoch: 08, loss: -0.97445\n",
      "epoch: 09, loss: -0.97537\n",
      "torch.Size([1024, 64])\n"
     ]
    },
    {
     "name": "stderr",
     "output_type": "stream",
     "text": [
      "  5%|▍         | 48/999 [54:01<19:54:15, 75.35s/it]"
     ]
    },
    {
     "name": "stdout",
     "output_type": "stream",
     "text": [
      "eigenvalues shape torch.Size([5]) eigenvectors shape torch.Size([5, 1024])\n",
      "48 /home/phdcs2/Hard_Disk/Datasets/Deep-Spectral-Segmentation/data/object-segmentation/ECSSD/features/0050_resized.pth\n",
      "dict_keys(['k', 'indices', 'file', 'id', 'model_name', 'patch_size', 'shape'])\n",
      "0050_resized\n",
      "Starting Training\n",
      "epoch: 00, loss: -0.89244\n",
      "epoch: 01, loss: -0.93799\n",
      "epoch: 02, loss: -0.94830\n",
      "epoch: 03, loss: -0.95422\n",
      "epoch: 04, loss: -0.95822\n",
      "epoch: 05, loss: -0.96110\n",
      "epoch: 06, loss: -0.96336\n",
      "epoch: 07, loss: -0.96514\n",
      "epoch: 08, loss: -0.96671\n",
      "epoch: 09, loss: -0.96795\n",
      "torch.Size([1024, 64])\n"
     ]
    },
    {
     "name": "stderr",
     "output_type": "stream",
     "text": [
      "  5%|▍         | 49/999 [55:13<19:36:04, 74.28s/it]"
     ]
    },
    {
     "name": "stdout",
     "output_type": "stream",
     "text": [
      "eigenvalues shape torch.Size([5]) eigenvectors shape torch.Size([5, 1024])\n",
      "49 /home/phdcs2/Hard_Disk/Datasets/Deep-Spectral-Segmentation/data/object-segmentation/ECSSD/features/0051_resized.pth\n",
      "dict_keys(['k', 'indices', 'file', 'id', 'model_name', 'patch_size', 'shape'])\n",
      "0051_resized\n",
      "Starting Training\n",
      "epoch: 00, loss: -0.83753\n",
      "epoch: 01, loss: -0.90495\n",
      "epoch: 02, loss: -0.92161\n",
      "epoch: 03, loss: -0.93093\n",
      "epoch: 04, loss: -0.93720\n",
      "epoch: 05, loss: -0.94156\n",
      "epoch: 06, loss: -0.94511\n",
      "epoch: 07, loss: -0.94804\n",
      "epoch: 08, loss: -0.95035\n",
      "epoch: 09, loss: -0.95241\n",
      "torch.Size([1024, 64])\n"
     ]
    },
    {
     "name": "stderr",
     "output_type": "stream",
     "text": [
      "  5%|▌         | 50/999 [56:25<19:26:04, 73.72s/it]"
     ]
    },
    {
     "name": "stdout",
     "output_type": "stream",
     "text": [
      "eigenvalues shape torch.Size([5]) eigenvectors shape torch.Size([5, 1024])\n",
      "50 /home/phdcs2/Hard_Disk/Datasets/Deep-Spectral-Segmentation/data/object-segmentation/ECSSD/features/0052_resized.pth\n",
      "dict_keys(['k', 'indices', 'file', 'id', 'model_name', 'patch_size', 'shape'])\n",
      "0052_resized\n",
      "Starting Training\n",
      "epoch: 00, loss: -0.90087\n",
      "epoch: 01, loss: -0.94057\n",
      "epoch: 02, loss: -0.95041\n",
      "epoch: 03, loss: -0.95592\n",
      "epoch: 04, loss: -0.95964\n",
      "epoch: 05, loss: -0.96242\n",
      "epoch: 06, loss: -0.96468\n",
      "epoch: 07, loss: -0.96642\n",
      "epoch: 08, loss: -0.96783\n",
      "epoch: 09, loss: -0.96912\n",
      "torch.Size([1024, 64])\n"
     ]
    },
    {
     "name": "stderr",
     "output_type": "stream",
     "text": [
      "  5%|▌         | 51/999 [57:30<18:44:56, 71.20s/it]"
     ]
    },
    {
     "name": "stdout",
     "output_type": "stream",
     "text": [
      "eigenvalues shape torch.Size([5]) eigenvectors shape torch.Size([5, 1024])\n",
      "51 /home/phdcs2/Hard_Disk/Datasets/Deep-Spectral-Segmentation/data/object-segmentation/ECSSD/features/0053_resized.pth\n",
      "dict_keys(['k', 'indices', 'file', 'id', 'model_name', 'patch_size', 'shape'])\n",
      "0053_resized\n",
      "Starting Training\n",
      "epoch: 00, loss: -0.83688\n",
      "epoch: 01, loss: -0.89602\n",
      "epoch: 02, loss: -0.91347\n",
      "epoch: 03, loss: -0.92373\n",
      "epoch: 04, loss: -0.93071\n",
      "epoch: 05, loss: -0.93585\n",
      "epoch: 06, loss: -0.93968\n",
      "epoch: 07, loss: -0.94300\n",
      "epoch: 08, loss: -0.94561\n",
      "epoch: 09, loss: -0.94785\n",
      "torch.Size([1024, 64])\n"
     ]
    },
    {
     "name": "stderr",
     "output_type": "stream",
     "text": [
      "  5%|▌         | 52/999 [58:39<18:33:32, 70.55s/it]"
     ]
    },
    {
     "name": "stdout",
     "output_type": "stream",
     "text": [
      "eigenvalues shape torch.Size([5]) eigenvectors shape torch.Size([5, 1024])\n",
      "52 /home/phdcs2/Hard_Disk/Datasets/Deep-Spectral-Segmentation/data/object-segmentation/ECSSD/features/0054_resized.pth\n",
      "dict_keys(['k', 'indices', 'file', 'id', 'model_name', 'patch_size', 'shape'])\n",
      "0054_resized\n"
     ]
    },
    {
     "name": "stderr",
     "output_type": "stream",
     "text": [
      "/home/phdcs2/Hard_Disk/Projects/T2I/deep-spectral-segmentation/venv/lib/python3.8/site-packages/sklearn/decomposition/_pca.py:642: RuntimeWarning: invalid value encountered in divide\n",
      "  self.explained_variance_ratio_ = self.explained_variance_ / total_var\n"
     ]
    },
    {
     "name": "stdout",
     "output_type": "stream",
     "text": [
      "Starting Training\n",
      "epoch: 00, loss: -0.92538\n",
      "epoch: 01, loss: -0.95638\n",
      "epoch: 02, loss: -0.96311\n",
      "epoch: 03, loss: -0.96697\n",
      "epoch: 04, loss: -0.96963\n",
      "epoch: 05, loss: -0.97160\n",
      "epoch: 06, loss: -0.97317\n",
      "epoch: 07, loss: -0.97446\n",
      "epoch: 08, loss: -0.97551\n",
      "epoch: 09, loss: -0.97640\n",
      "torch.Size([1024, 64])\n"
     ]
    },
    {
     "name": "stderr",
     "output_type": "stream",
     "text": [
      "  5%|▌         | 53/999 [59:51<18:37:22, 70.87s/it]"
     ]
    },
    {
     "name": "stdout",
     "output_type": "stream",
     "text": [
      "eigenvalues shape torch.Size([5]) eigenvectors shape torch.Size([5, 1024])\n",
      "53 /home/phdcs2/Hard_Disk/Datasets/Deep-Spectral-Segmentation/data/object-segmentation/ECSSD/features/0055_resized.pth\n",
      "dict_keys(['k', 'indices', 'file', 'id', 'model_name', 'patch_size', 'shape'])\n",
      "0055_resized\n",
      "Starting Training\n",
      "epoch: 00, loss: -0.87803\n",
      "epoch: 01, loss: -0.93015\n",
      "epoch: 02, loss: -0.94220\n",
      "epoch: 03, loss: -0.94904\n",
      "epoch: 04, loss: -0.95365\n",
      "epoch: 05, loss: -0.95695\n",
      "epoch: 06, loss: -0.95952\n",
      "epoch: 07, loss: -0.96157\n",
      "epoch: 08, loss: -0.96333\n",
      "epoch: 09, loss: -0.96482\n",
      "torch.Size([1024, 64])\n"
     ]
    },
    {
     "name": "stderr",
     "output_type": "stream",
     "text": [
      "  5%|▌         | 54/999 [1:01:06<18:55:38, 72.10s/it]"
     ]
    },
    {
     "name": "stdout",
     "output_type": "stream",
     "text": [
      "eigenvalues shape torch.Size([5]) eigenvectors shape torch.Size([5, 1024])\n",
      "54 /home/phdcs2/Hard_Disk/Datasets/Deep-Spectral-Segmentation/data/object-segmentation/ECSSD/features/0056_resized.pth\n",
      "dict_keys(['k', 'indices', 'file', 'id', 'model_name', 'patch_size', 'shape'])\n",
      "0056_resized\n"
     ]
    },
    {
     "name": "stderr",
     "output_type": "stream",
     "text": [
      "/home/phdcs2/Hard_Disk/Projects/T2I/deep-spectral-segmentation/venv/lib/python3.8/site-packages/sklearn/decomposition/_pca.py:642: RuntimeWarning: invalid value encountered in divide\n",
      "  self.explained_variance_ratio_ = self.explained_variance_ / total_var\n"
     ]
    },
    {
     "name": "stdout",
     "output_type": "stream",
     "text": [
      "Starting Training\n",
      "epoch: 00, loss: -0.91321\n",
      "epoch: 01, loss: -0.95071\n",
      "epoch: 02, loss: -0.95883\n",
      "epoch: 03, loss: -0.96350\n",
      "epoch: 04, loss: -0.96666\n",
      "epoch: 05, loss: -0.96896\n",
      "epoch: 06, loss: -0.97081\n",
      "epoch: 07, loss: -0.97226\n",
      "epoch: 08, loss: -0.97350\n",
      "epoch: 09, loss: -0.97455\n",
      "torch.Size([1024, 64])\n"
     ]
    },
    {
     "name": "stderr",
     "output_type": "stream",
     "text": [
      "  6%|▌         | 55/999 [1:02:21<19:07:51, 72.96s/it]"
     ]
    },
    {
     "name": "stdout",
     "output_type": "stream",
     "text": [
      "eigenvalues shape torch.Size([5]) eigenvectors shape torch.Size([5, 1024])\n",
      "55 /home/phdcs2/Hard_Disk/Datasets/Deep-Spectral-Segmentation/data/object-segmentation/ECSSD/features/0057_resized.pth\n",
      "dict_keys(['k', 'indices', 'file', 'id', 'model_name', 'patch_size', 'shape'])\n",
      "0057_resized\n"
     ]
    },
    {
     "name": "stderr",
     "output_type": "stream",
     "text": [
      "/home/phdcs2/Hard_Disk/Projects/T2I/deep-spectral-segmentation/venv/lib/python3.8/site-packages/sklearn/decomposition/_pca.py:642: RuntimeWarning: invalid value encountered in divide\n",
      "  self.explained_variance_ratio_ = self.explained_variance_ / total_var\n"
     ]
    },
    {
     "name": "stdout",
     "output_type": "stream",
     "text": [
      "Starting Training\n",
      "epoch: 00, loss: -0.91662\n",
      "epoch: 01, loss: -0.94982\n",
      "epoch: 02, loss: -0.95721\n",
      "epoch: 03, loss: -0.96157\n",
      "epoch: 04, loss: -0.96458\n",
      "epoch: 05, loss: -0.96683\n",
      "epoch: 06, loss: -0.96859\n",
      "epoch: 07, loss: -0.97006\n",
      "epoch: 08, loss: -0.97128\n",
      "epoch: 09, loss: -0.97231\n",
      "torch.Size([1024, 64])\n"
     ]
    },
    {
     "name": "stderr",
     "output_type": "stream",
     "text": [
      "  6%|▌         | 56/999 [1:03:29<18:45:32, 71.61s/it]"
     ]
    },
    {
     "name": "stdout",
     "output_type": "stream",
     "text": [
      "eigenvalues shape torch.Size([5]) eigenvectors shape torch.Size([5, 1024])\n",
      "56 /home/phdcs2/Hard_Disk/Datasets/Deep-Spectral-Segmentation/data/object-segmentation/ECSSD/features/0058_resized.pth\n",
      "dict_keys(['k', 'indices', 'file', 'id', 'model_name', 'patch_size', 'shape'])\n",
      "0058_resized\n"
     ]
    },
    {
     "name": "stderr",
     "output_type": "stream",
     "text": [
      "/home/phdcs2/Hard_Disk/Projects/T2I/deep-spectral-segmentation/venv/lib/python3.8/site-packages/sklearn/decomposition/_pca.py:642: RuntimeWarning: invalid value encountered in divide\n",
      "  self.explained_variance_ratio_ = self.explained_variance_ / total_var\n"
     ]
    },
    {
     "name": "stdout",
     "output_type": "stream",
     "text": [
      "Starting Training\n",
      "epoch: 00, loss: -0.92216\n",
      "epoch: 01, loss: -0.95222\n",
      "epoch: 02, loss: -0.95931\n",
      "epoch: 03, loss: -0.96342\n",
      "epoch: 04, loss: -0.96622\n",
      "epoch: 05, loss: -0.96834\n",
      "epoch: 06, loss: -0.97002\n",
      "epoch: 07, loss: -0.97141\n",
      "epoch: 08, loss: -0.97255\n",
      "epoch: 09, loss: -0.97352\n",
      "torch.Size([1024, 64])\n"
     ]
    },
    {
     "name": "stderr",
     "output_type": "stream",
     "text": [
      "  6%|▌         | 57/999 [1:04:37<18:23:47, 70.31s/it]"
     ]
    },
    {
     "name": "stdout",
     "output_type": "stream",
     "text": [
      "eigenvalues shape torch.Size([5]) eigenvectors shape torch.Size([5, 1024])\n",
      "57 /home/phdcs2/Hard_Disk/Datasets/Deep-Spectral-Segmentation/data/object-segmentation/ECSSD/features/0059_resized.pth\n",
      "dict_keys(['k', 'indices', 'file', 'id', 'model_name', 'patch_size', 'shape'])\n",
      "0059_resized\n"
     ]
    },
    {
     "name": "stderr",
     "output_type": "stream",
     "text": [
      "/home/phdcs2/Hard_Disk/Projects/T2I/deep-spectral-segmentation/venv/lib/python3.8/site-packages/sklearn/decomposition/_pca.py:642: RuntimeWarning: invalid value encountered in divide\n",
      "  self.explained_variance_ratio_ = self.explained_variance_ / total_var\n"
     ]
    },
    {
     "name": "stdout",
     "output_type": "stream",
     "text": [
      "Starting Training\n",
      "epoch: 00, loss: -0.92011\n",
      "epoch: 01, loss: -0.95324\n",
      "epoch: 02, loss: -0.96020\n",
      "epoch: 03, loss: -0.96423\n",
      "epoch: 04, loss: -0.96697\n",
      "epoch: 05, loss: -0.96905\n",
      "epoch: 06, loss: -0.97066\n",
      "epoch: 07, loss: -0.97200\n",
      "epoch: 08, loss: -0.97310\n",
      "epoch: 09, loss: -0.97404\n",
      "torch.Size([1024, 64])\n"
     ]
    },
    {
     "name": "stderr",
     "output_type": "stream",
     "text": [
      "  6%|▌         | 58/999 [1:05:49<18:31:16, 70.86s/it]"
     ]
    },
    {
     "name": "stdout",
     "output_type": "stream",
     "text": [
      "eigenvalues shape torch.Size([5]) eigenvectors shape torch.Size([5, 1024])\n",
      "58 /home/phdcs2/Hard_Disk/Datasets/Deep-Spectral-Segmentation/data/object-segmentation/ECSSD/features/0060_resized.pth\n",
      "dict_keys(['k', 'indices', 'file', 'id', 'model_name', 'patch_size', 'shape'])\n",
      "0060_resized\n",
      "Starting Training\n",
      "epoch: 00, loss: -0.87324\n",
      "epoch: 01, loss: -0.92672\n",
      "epoch: 02, loss: -0.93912\n",
      "epoch: 03, loss: -0.94581\n",
      "epoch: 04, loss: -0.95050\n",
      "epoch: 05, loss: -0.95391\n",
      "epoch: 06, loss: -0.95661\n",
      "epoch: 07, loss: -0.95868\n",
      "epoch: 08, loss: -0.96057\n",
      "epoch: 09, loss: -0.96200\n",
      "torch.Size([1024, 64])\n"
     ]
    },
    {
     "name": "stderr",
     "output_type": "stream",
     "text": [
      "  6%|▌         | 59/999 [1:07:04<18:49:36, 72.10s/it]"
     ]
    },
    {
     "name": "stdout",
     "output_type": "stream",
     "text": [
      "eigenvalues shape torch.Size([5]) eigenvectors shape torch.Size([5, 1024])\n",
      "59 /home/phdcs2/Hard_Disk/Datasets/Deep-Spectral-Segmentation/data/object-segmentation/ECSSD/features/0061_resized.pth\n",
      "dict_keys(['k', 'indices', 'file', 'id', 'model_name', 'patch_size', 'shape'])\n",
      "0061_resized\n"
     ]
    },
    {
     "name": "stderr",
     "output_type": "stream",
     "text": [
      "/home/phdcs2/Hard_Disk/Projects/T2I/deep-spectral-segmentation/venv/lib/python3.8/site-packages/sklearn/decomposition/_pca.py:642: RuntimeWarning: invalid value encountered in divide\n",
      "  self.explained_variance_ratio_ = self.explained_variance_ / total_var\n"
     ]
    },
    {
     "name": "stdout",
     "output_type": "stream",
     "text": [
      "Starting Training\n",
      "epoch: 00, loss: -0.91973\n",
      "epoch: 01, loss: -0.95298\n",
      "epoch: 02, loss: -0.96059\n",
      "epoch: 03, loss: -0.96498\n",
      "epoch: 04, loss: -0.96792\n",
      "epoch: 05, loss: -0.97014\n",
      "epoch: 06, loss: -0.97185\n",
      "epoch: 07, loss: -0.97324\n",
      "epoch: 08, loss: -0.97442\n",
      "epoch: 09, loss: -0.97538\n",
      "torch.Size([1024, 64])\n"
     ]
    },
    {
     "name": "stderr",
     "output_type": "stream",
     "text": [
      "  6%|▌         | 60/999 [1:08:17<18:52:05, 72.34s/it]"
     ]
    },
    {
     "name": "stdout",
     "output_type": "stream",
     "text": [
      "eigenvalues shape torch.Size([5]) eigenvectors shape torch.Size([5, 1024])\n",
      "60 /home/phdcs2/Hard_Disk/Datasets/Deep-Spectral-Segmentation/data/object-segmentation/ECSSD/features/0062_resized.pth\n",
      "dict_keys(['k', 'indices', 'file', 'id', 'model_name', 'patch_size', 'shape'])\n",
      "0062_resized\n",
      "Starting Training\n",
      "epoch: 00, loss: -0.87722\n",
      "epoch: 01, loss: -0.93166\n",
      "epoch: 02, loss: -0.94362\n",
      "epoch: 03, loss: -0.95026\n",
      "epoch: 04, loss: -0.95476\n",
      "epoch: 05, loss: -0.95810\n",
      "epoch: 06, loss: -0.96066\n",
      "epoch: 07, loss: -0.96273\n",
      "epoch: 08, loss: -0.96441\n",
      "epoch: 09, loss: -0.96589\n",
      "torch.Size([1024, 64])\n"
     ]
    },
    {
     "name": "stderr",
     "output_type": "stream",
     "text": [
      "  6%|▌         | 61/999 [1:09:29<18:50:55, 72.34s/it]"
     ]
    },
    {
     "name": "stdout",
     "output_type": "stream",
     "text": [
      "eigenvalues shape torch.Size([5]) eigenvectors shape torch.Size([5, 1024])\n",
      "61 /home/phdcs2/Hard_Disk/Datasets/Deep-Spectral-Segmentation/data/object-segmentation/ECSSD/features/0063_resized.pth\n",
      "dict_keys(['k', 'indices', 'file', 'id', 'model_name', 'patch_size', 'shape'])\n",
      "0063_resized\n",
      "Starting Training\n",
      "epoch: 00, loss: -0.88148\n",
      "epoch: 01, loss: -0.92937\n",
      "epoch: 02, loss: -0.94132\n",
      "epoch: 03, loss: -0.94798\n",
      "epoch: 04, loss: -0.95262\n",
      "epoch: 05, loss: -0.95602\n",
      "epoch: 06, loss: -0.95865\n",
      "epoch: 07, loss: -0.96078\n",
      "epoch: 08, loss: -0.96268\n",
      "epoch: 09, loss: -0.96408\n",
      "torch.Size([1024, 64])\n"
     ]
    },
    {
     "name": "stderr",
     "output_type": "stream",
     "text": [
      "  6%|▌         | 62/999 [1:10:36<18:23:53, 70.69s/it]"
     ]
    },
    {
     "name": "stdout",
     "output_type": "stream",
     "text": [
      "eigenvalues shape torch.Size([5]) eigenvectors shape torch.Size([5, 1024])\n",
      "62 /home/phdcs2/Hard_Disk/Datasets/Deep-Spectral-Segmentation/data/object-segmentation/ECSSD/features/0064_resized.pth\n",
      "dict_keys(['k', 'indices', 'file', 'id', 'model_name', 'patch_size', 'shape'])\n",
      "0064_resized\n",
      "Starting Training\n",
      "epoch: 00, loss: -0.84650\n",
      "epoch: 01, loss: -0.90761\n",
      "epoch: 02, loss: -0.92338\n",
      "epoch: 03, loss: -0.93227\n",
      "epoch: 04, loss: -0.93835\n",
      "epoch: 05, loss: -0.94284\n",
      "epoch: 06, loss: -0.94624\n",
      "epoch: 07, loss: -0.94902\n",
      "epoch: 08, loss: -0.95122\n",
      "epoch: 09, loss: -0.95326\n",
      "torch.Size([1024, 64])\n"
     ]
    },
    {
     "name": "stderr",
     "output_type": "stream",
     "text": [
      "  6%|▋         | 63/999 [1:11:49<18:35:25, 71.50s/it]"
     ]
    },
    {
     "name": "stdout",
     "output_type": "stream",
     "text": [
      "eigenvalues shape torch.Size([5]) eigenvectors shape torch.Size([5, 1024])\n",
      "63 /home/phdcs2/Hard_Disk/Datasets/Deep-Spectral-Segmentation/data/object-segmentation/ECSSD/features/0065_resized.pth\n",
      "dict_keys(['k', 'indices', 'file', 'id', 'model_name', 'patch_size', 'shape'])\n",
      "0065_resized\n",
      "Starting Training\n",
      "epoch: 00, loss: -0.85295\n",
      "epoch: 01, loss: -0.91243\n",
      "epoch: 02, loss: -0.92840\n",
      "epoch: 03, loss: -0.93744\n",
      "epoch: 04, loss: -0.94340\n",
      "epoch: 05, loss: -0.94773\n",
      "epoch: 06, loss: -0.95116\n",
      "epoch: 07, loss: -0.95375\n",
      "epoch: 08, loss: -0.95613\n",
      "epoch: 09, loss: -0.95802\n",
      "torch.Size([1024, 64])\n"
     ]
    },
    {
     "name": "stderr",
     "output_type": "stream",
     "text": [
      "  6%|▋         | 64/999 [1:13:07<19:04:13, 73.43s/it]"
     ]
    },
    {
     "name": "stdout",
     "output_type": "stream",
     "text": [
      "eigenvalues shape torch.Size([5]) eigenvectors shape torch.Size([5, 1024])\n",
      "64 /home/phdcs2/Hard_Disk/Datasets/Deep-Spectral-Segmentation/data/object-segmentation/ECSSD/features/0066_resized.pth\n",
      "dict_keys(['k', 'indices', 'file', 'id', 'model_name', 'patch_size', 'shape'])\n",
      "0066_resized\n",
      "Starting Training\n",
      "epoch: 00, loss: -0.88781\n",
      "epoch: 01, loss: -0.93531\n",
      "epoch: 02, loss: -0.94692\n",
      "epoch: 03, loss: -0.95367\n",
      "epoch: 04, loss: -0.95819\n",
      "epoch: 05, loss: -0.96144\n",
      "epoch: 06, loss: -0.96390\n",
      "epoch: 07, loss: -0.96597\n",
      "epoch: 08, loss: -0.96756\n",
      "epoch: 09, loss: -0.96901\n",
      "torch.Size([1024, 64])\n"
     ]
    },
    {
     "name": "stderr",
     "output_type": "stream",
     "text": [
      "  7%|▋         | 65/999 [1:14:24<19:18:04, 74.39s/it]"
     ]
    },
    {
     "name": "stdout",
     "output_type": "stream",
     "text": [
      "eigenvalues shape torch.Size([5]) eigenvectors shape torch.Size([5, 1024])\n",
      "65 /home/phdcs2/Hard_Disk/Datasets/Deep-Spectral-Segmentation/data/object-segmentation/ECSSD/features/0067_resized.pth\n",
      "dict_keys(['k', 'indices', 'file', 'id', 'model_name', 'patch_size', 'shape'])\n",
      "0067_resized\n",
      "Starting Training\n",
      "epoch: 00, loss: -0.92431\n",
      "epoch: 01, loss: -0.95334\n",
      "epoch: 02, loss: -0.96071\n",
      "epoch: 03, loss: -0.96498\n",
      "epoch: 04, loss: -0.96787\n",
      "epoch: 05, loss: -0.97007\n",
      "epoch: 06, loss: -0.97179\n",
      "epoch: 07, loss: -0.97319\n",
      "epoch: 08, loss: -0.97433\n",
      "epoch: 09, loss: -0.97535\n",
      "torch.Size([1024, 64])\n"
     ]
    },
    {
     "name": "stderr",
     "output_type": "stream",
     "text": [
      "  7%|▋         | 66/999 [1:15:37<19:11:26, 74.05s/it]"
     ]
    },
    {
     "name": "stdout",
     "output_type": "stream",
     "text": [
      "eigenvalues shape torch.Size([5]) eigenvectors shape torch.Size([5, 1024])\n",
      "66 /home/phdcs2/Hard_Disk/Datasets/Deep-Spectral-Segmentation/data/object-segmentation/ECSSD/features/0068_resized.pth\n",
      "dict_keys(['k', 'indices', 'file', 'id', 'model_name', 'patch_size', 'shape'])\n",
      "0068_resized\n",
      "Starting Training\n",
      "epoch: 00, loss: -0.92786\n",
      "epoch: 01, loss: -0.95646\n",
      "epoch: 02, loss: -0.96320\n",
      "epoch: 03, loss: -0.96714\n",
      "epoch: 04, loss: -0.96985\n",
      "epoch: 05, loss: -0.97186\n",
      "epoch: 06, loss: -0.97344\n",
      "epoch: 07, loss: -0.97473\n",
      "epoch: 08, loss: -0.97582\n",
      "epoch: 09, loss: -0.97675\n",
      "torch.Size([1024, 64])\n"
     ]
    },
    {
     "name": "stderr",
     "output_type": "stream",
     "text": [
      "  7%|▋         | 67/999 [1:16:47<18:49:41, 72.73s/it]"
     ]
    },
    {
     "name": "stdout",
     "output_type": "stream",
     "text": [
      "eigenvalues shape torch.Size([5]) eigenvectors shape torch.Size([5, 1024])\n",
      "67 /home/phdcs2/Hard_Disk/Datasets/Deep-Spectral-Segmentation/data/object-segmentation/ECSSD/features/0069_resized.pth\n",
      "dict_keys(['k', 'indices', 'file', 'id', 'model_name', 'patch_size', 'shape'])\n",
      "0069_resized\n"
     ]
    },
    {
     "name": "stderr",
     "output_type": "stream",
     "text": [
      "/home/phdcs2/Hard_Disk/Projects/T2I/deep-spectral-segmentation/venv/lib/python3.8/site-packages/sklearn/decomposition/_pca.py:642: RuntimeWarning: invalid value encountered in divide\n",
      "  self.explained_variance_ratio_ = self.explained_variance_ / total_var\n"
     ]
    },
    {
     "name": "stdout",
     "output_type": "stream",
     "text": [
      "Starting Training\n",
      "epoch: 00, loss: -0.93999\n",
      "epoch: 01, loss: -0.96345\n",
      "epoch: 02, loss: -0.96898\n",
      "epoch: 03, loss: -0.97221\n",
      "epoch: 04, loss: -0.97439\n",
      "epoch: 05, loss: -0.97605\n",
      "epoch: 06, loss: -0.97735\n",
      "epoch: 07, loss: -0.97838\n",
      "epoch: 08, loss: -0.97929\n",
      "epoch: 09, loss: -0.98002\n",
      "torch.Size([1024, 64])\n"
     ]
    },
    {
     "name": "stderr",
     "output_type": "stream",
     "text": [
      "  7%|▋         | 68/999 [1:17:56<18:31:49, 71.65s/it]"
     ]
    },
    {
     "name": "stdout",
     "output_type": "stream",
     "text": [
      "eigenvalues shape torch.Size([5]) eigenvectors shape torch.Size([5, 1024])\n",
      "68 /home/phdcs2/Hard_Disk/Datasets/Deep-Spectral-Segmentation/data/object-segmentation/ECSSD/features/0070_resized.pth\n",
      "dict_keys(['k', 'indices', 'file', 'id', 'model_name', 'patch_size', 'shape'])\n",
      "0070_resized\n",
      "Starting Training\n",
      "epoch: 00, loss: -0.92182\n",
      "epoch: 01, loss: -0.95261\n",
      "epoch: 02, loss: -0.95975\n",
      "epoch: 03, loss: -0.96390\n",
      "epoch: 04, loss: -0.96671\n",
      "epoch: 05, loss: -0.96886\n",
      "epoch: 06, loss: -0.97050\n",
      "epoch: 07, loss: -0.97186\n",
      "epoch: 08, loss: -0.97299\n",
      "epoch: 09, loss: -0.97397\n",
      "torch.Size([1024, 64])\n"
     ]
    },
    {
     "name": "stderr",
     "output_type": "stream",
     "text": [
      "  7%|▋         | 69/999 [1:19:09<18:37:43, 72.11s/it]"
     ]
    },
    {
     "name": "stdout",
     "output_type": "stream",
     "text": [
      "eigenvalues shape torch.Size([5]) eigenvectors shape torch.Size([5, 1024])\n",
      "69 /home/phdcs2/Hard_Disk/Datasets/Deep-Spectral-Segmentation/data/object-segmentation/ECSSD/features/0071_resized.pth\n",
      "dict_keys(['k', 'indices', 'file', 'id', 'model_name', 'patch_size', 'shape'])\n",
      "0071_resized\n"
     ]
    },
    {
     "name": "stderr",
     "output_type": "stream",
     "text": [
      "/home/phdcs2/Hard_Disk/Projects/T2I/deep-spectral-segmentation/venv/lib/python3.8/site-packages/sklearn/decomposition/_pca.py:642: RuntimeWarning: invalid value encountered in divide\n",
      "  self.explained_variance_ratio_ = self.explained_variance_ / total_var\n"
     ]
    },
    {
     "name": "stdout",
     "output_type": "stream",
     "text": [
      "Starting Training\n",
      "epoch: 00, loss: -0.91763\n",
      "epoch: 01, loss: -0.95086\n",
      "epoch: 02, loss: -0.95823\n",
      "epoch: 03, loss: -0.96256\n",
      "epoch: 04, loss: -0.96553\n",
      "epoch: 05, loss: -0.96772\n",
      "epoch: 06, loss: -0.96944\n",
      "epoch: 07, loss: -0.97085\n",
      "epoch: 08, loss: -0.97204\n",
      "epoch: 09, loss: -0.97306\n",
      "torch.Size([1024, 64])\n"
     ]
    },
    {
     "name": "stderr",
     "output_type": "stream",
     "text": [
      "  7%|▋         | 70/999 [1:20:23<18:44:09, 72.60s/it]"
     ]
    },
    {
     "name": "stdout",
     "output_type": "stream",
     "text": [
      "eigenvalues shape torch.Size([5]) eigenvectors shape torch.Size([5, 1024])\n",
      "70 /home/phdcs2/Hard_Disk/Datasets/Deep-Spectral-Segmentation/data/object-segmentation/ECSSD/features/0072_resized.pth\n",
      "dict_keys(['k', 'indices', 'file', 'id', 'model_name', 'patch_size', 'shape'])\n",
      "0072_resized\n",
      "Starting Training\n",
      "epoch: 00, loss: -0.88882\n",
      "epoch: 01, loss: -0.93300\n",
      "epoch: 02, loss: -0.94446\n",
      "epoch: 03, loss: -0.95090\n",
      "epoch: 04, loss: -0.95525\n",
      "epoch: 05, loss: -0.95841\n",
      "epoch: 06, loss: -0.96094\n",
      "epoch: 07, loss: -0.96302\n",
      "epoch: 08, loss: -0.96466\n",
      "epoch: 09, loss: -0.96613\n",
      "torch.Size([1024, 64])\n"
     ]
    },
    {
     "name": "stderr",
     "output_type": "stream",
     "text": [
      "  7%|▋         | 71/999 [1:21:33<18:32:41, 71.94s/it]"
     ]
    },
    {
     "name": "stdout",
     "output_type": "stream",
     "text": [
      "eigenvalues shape torch.Size([5]) eigenvectors shape torch.Size([5, 1024])\n",
      "71 /home/phdcs2/Hard_Disk/Datasets/Deep-Spectral-Segmentation/data/object-segmentation/ECSSD/features/0073_resized.pth\n",
      "dict_keys(['k', 'indices', 'file', 'id', 'model_name', 'patch_size', 'shape'])\n",
      "0073_resized\n",
      "Starting Training\n",
      "epoch: 00, loss: -0.86531\n",
      "epoch: 01, loss: -0.91796\n",
      "epoch: 02, loss: -0.93170\n",
      "epoch: 03, loss: -0.93975\n",
      "epoch: 04, loss: -0.94505\n",
      "epoch: 05, loss: -0.94899\n",
      "epoch: 06, loss: -0.95195\n",
      "epoch: 07, loss: -0.95443\n",
      "epoch: 08, loss: -0.95647\n",
      "epoch: 09, loss: -0.95822\n",
      "torch.Size([1024, 64])\n"
     ]
    },
    {
     "name": "stderr",
     "output_type": "stream",
     "text": [
      "  7%|▋         | 72/999 [1:22:48<18:42:09, 72.63s/it]"
     ]
    },
    {
     "name": "stdout",
     "output_type": "stream",
     "text": [
      "eigenvalues shape torch.Size([5]) eigenvectors shape torch.Size([5, 1024])\n",
      "72 /home/phdcs2/Hard_Disk/Datasets/Deep-Spectral-Segmentation/data/object-segmentation/ECSSD/features/0074_resized.pth\n",
      "dict_keys(['k', 'indices', 'file', 'id', 'model_name', 'patch_size', 'shape'])\n",
      "0074_resized\n"
     ]
    },
    {
     "name": "stderr",
     "output_type": "stream",
     "text": [
      "/home/phdcs2/Hard_Disk/Projects/T2I/deep-spectral-segmentation/venv/lib/python3.8/site-packages/sklearn/decomposition/_pca.py:642: RuntimeWarning: invalid value encountered in divide\n",
      "  self.explained_variance_ratio_ = self.explained_variance_ / total_var\n"
     ]
    },
    {
     "name": "stdout",
     "output_type": "stream",
     "text": [
      "Starting Training\n",
      "epoch: 00, loss: -0.90763\n",
      "epoch: 01, loss: -0.94502\n",
      "epoch: 02, loss: -0.95365\n",
      "epoch: 03, loss: -0.95856\n",
      "epoch: 04, loss: -0.96194\n",
      "epoch: 05, loss: -0.96446\n",
      "epoch: 06, loss: -0.96643\n",
      "epoch: 07, loss: -0.96800\n",
      "epoch: 08, loss: -0.96934\n",
      "epoch: 09, loss: -0.97045\n",
      "torch.Size([1024, 64])\n"
     ]
    },
    {
     "name": "stderr",
     "output_type": "stream",
     "text": [
      "  7%|▋         | 73/999 [1:24:00<18:40:39, 72.61s/it]"
     ]
    },
    {
     "name": "stdout",
     "output_type": "stream",
     "text": [
      "eigenvalues shape torch.Size([5]) eigenvectors shape torch.Size([5, 1024])\n",
      "73 /home/phdcs2/Hard_Disk/Datasets/Deep-Spectral-Segmentation/data/object-segmentation/ECSSD/features/0075_resized.pth\n",
      "dict_keys(['k', 'indices', 'file', 'id', 'model_name', 'patch_size', 'shape'])\n",
      "0075_resized\n",
      "Starting Training\n",
      "epoch: 00, loss: -0.87811\n",
      "epoch: 01, loss: -0.92646\n",
      "epoch: 02, loss: -0.93880\n",
      "epoch: 03, loss: -0.94570\n",
      "epoch: 04, loss: -0.95053\n",
      "epoch: 05, loss: -0.95402\n",
      "epoch: 06, loss: -0.95673\n",
      "epoch: 07, loss: -0.95891\n",
      "epoch: 08, loss: -0.96067\n",
      "epoch: 09, loss: -0.96225\n",
      "torch.Size([1024, 64])\n"
     ]
    },
    {
     "name": "stderr",
     "output_type": "stream",
     "text": [
      "  7%|▋         | 74/999 [1:25:11<18:30:59, 72.06s/it]"
     ]
    },
    {
     "name": "stdout",
     "output_type": "stream",
     "text": [
      "eigenvalues shape torch.Size([5]) eigenvectors shape torch.Size([5, 1024])\n",
      "74 /home/phdcs2/Hard_Disk/Datasets/Deep-Spectral-Segmentation/data/object-segmentation/ECSSD/features/0076_resized.pth\n",
      "dict_keys(['k', 'indices', 'file', 'id', 'model_name', 'patch_size', 'shape'])\n",
      "0076_resized\n",
      "Starting Training\n",
      "epoch: 00, loss: -0.87674\n",
      "epoch: 01, loss: -0.92625\n",
      "epoch: 02, loss: -0.93900\n",
      "epoch: 03, loss: -0.94646\n",
      "epoch: 04, loss: -0.95140\n",
      "epoch: 05, loss: -0.95508\n",
      "epoch: 06, loss: -0.95807\n",
      "epoch: 07, loss: -0.96035\n",
      "epoch: 08, loss: -0.96222\n",
      "epoch: 09, loss: -0.96380\n",
      "torch.Size([1024, 64])\n"
     ]
    },
    {
     "name": "stderr",
     "output_type": "stream",
     "text": [
      "  8%|▊         | 75/999 [1:26:18<18:06:21, 70.54s/it]"
     ]
    },
    {
     "name": "stdout",
     "output_type": "stream",
     "text": [
      "eigenvalues shape torch.Size([5]) eigenvectors shape torch.Size([5, 1024])\n",
      "75 /home/phdcs2/Hard_Disk/Datasets/Deep-Spectral-Segmentation/data/object-segmentation/ECSSD/features/0077_resized.pth\n",
      "dict_keys(['k', 'indices', 'file', 'id', 'model_name', 'patch_size', 'shape'])\n",
      "0077_resized\n"
     ]
    },
    {
     "name": "stderr",
     "output_type": "stream",
     "text": [
      "/home/phdcs2/Hard_Disk/Projects/T2I/deep-spectral-segmentation/venv/lib/python3.8/site-packages/sklearn/decomposition/_pca.py:642: RuntimeWarning: invalid value encountered in divide\n",
      "  self.explained_variance_ratio_ = self.explained_variance_ / total_var\n"
     ]
    },
    {
     "name": "stdout",
     "output_type": "stream",
     "text": [
      "Starting Training\n",
      "epoch: 00, loss: -0.92361\n",
      "epoch: 01, loss: -0.95454\n",
      "epoch: 02, loss: -0.96166\n",
      "epoch: 03, loss: -0.96576\n",
      "epoch: 04, loss: -0.96860\n",
      "epoch: 05, loss: -0.97070\n",
      "epoch: 06, loss: -0.97232\n",
      "epoch: 07, loss: -0.97366\n",
      "epoch: 08, loss: -0.97480\n",
      "epoch: 09, loss: -0.97575\n",
      "torch.Size([1024, 64])\n"
     ]
    },
    {
     "name": "stderr",
     "output_type": "stream",
     "text": [
      "  8%|▊         | 76/999 [1:27:18<17:18:16, 67.49s/it]"
     ]
    },
    {
     "name": "stdout",
     "output_type": "stream",
     "text": [
      "eigenvalues shape torch.Size([5]) eigenvectors shape torch.Size([5, 1024])\n",
      "76 /home/phdcs2/Hard_Disk/Datasets/Deep-Spectral-Segmentation/data/object-segmentation/ECSSD/features/0078_resized.pth\n",
      "dict_keys(['k', 'indices', 'file', 'id', 'model_name', 'patch_size', 'shape'])\n",
      "0078_resized\n",
      "Starting Training\n",
      "epoch: 00, loss: -0.88032\n",
      "epoch: 01, loss: -0.92722\n",
      "epoch: 02, loss: -0.93967\n",
      "epoch: 03, loss: -0.94662\n",
      "epoch: 04, loss: -0.95137\n",
      "epoch: 05, loss: -0.95470\n",
      "epoch: 06, loss: -0.95743\n",
      "epoch: 07, loss: -0.95959\n",
      "epoch: 08, loss: -0.96141\n",
      "epoch: 09, loss: -0.96288\n",
      "torch.Size([1024, 64])\n"
     ]
    },
    {
     "name": "stderr",
     "output_type": "stream",
     "text": [
      "  8%|▊         | 77/999 [1:28:31<17:40:12, 68.99s/it]"
     ]
    },
    {
     "name": "stdout",
     "output_type": "stream",
     "text": [
      "eigenvalues shape torch.Size([5]) eigenvectors shape torch.Size([5, 1024])\n",
      "77 /home/phdcs2/Hard_Disk/Datasets/Deep-Spectral-Segmentation/data/object-segmentation/ECSSD/features/0079_resized.pth\n",
      "dict_keys(['k', 'indices', 'file', 'id', 'model_name', 'patch_size', 'shape'])\n",
      "0079_resized\n"
     ]
    },
    {
     "name": "stderr",
     "output_type": "stream",
     "text": [
      "/home/phdcs2/Hard_Disk/Projects/T2I/deep-spectral-segmentation/venv/lib/python3.8/site-packages/sklearn/decomposition/_pca.py:642: RuntimeWarning: invalid value encountered in divide\n",
      "  self.explained_variance_ratio_ = self.explained_variance_ / total_var\n"
     ]
    },
    {
     "name": "stdout",
     "output_type": "stream",
     "text": [
      "Starting Training\n",
      "epoch: 00, loss: -0.93119\n",
      "epoch: 01, loss: -0.95822\n",
      "epoch: 02, loss: -0.96438\n",
      "epoch: 03, loss: -0.96797\n",
      "epoch: 04, loss: -0.97050\n",
      "epoch: 05, loss: -0.97229\n",
      "epoch: 06, loss: -0.97376\n",
      "epoch: 07, loss: -0.97498\n",
      "epoch: 08, loss: -0.97598\n",
      "epoch: 09, loss: -0.97685\n",
      "torch.Size([1024, 64])\n"
     ]
    },
    {
     "name": "stderr",
     "output_type": "stream",
     "text": [
      "  8%|▊         | 78/999 [1:29:39<17:37:04, 68.87s/it]"
     ]
    },
    {
     "name": "stdout",
     "output_type": "stream",
     "text": [
      "eigenvalues shape torch.Size([5]) eigenvectors shape torch.Size([5, 1024])\n",
      "78 /home/phdcs2/Hard_Disk/Datasets/Deep-Spectral-Segmentation/data/object-segmentation/ECSSD/features/0080_resized.pth\n",
      "dict_keys(['k', 'indices', 'file', 'id', 'model_name', 'patch_size', 'shape'])\n",
      "0080_resized\n",
      "Starting Training\n",
      "epoch: 00, loss: -0.87873\n",
      "epoch: 01, loss: -0.92761\n",
      "epoch: 02, loss: -0.94037\n",
      "epoch: 03, loss: -0.94780\n",
      "epoch: 04, loss: -0.95256\n",
      "epoch: 05, loss: -0.95604\n",
      "epoch: 06, loss: -0.95885\n",
      "epoch: 07, loss: -0.96096\n",
      "epoch: 08, loss: -0.96290\n",
      "epoch: 09, loss: -0.96446\n",
      "torch.Size([1024, 64])\n"
     ]
    },
    {
     "name": "stderr",
     "output_type": "stream",
     "text": [
      "  8%|▊         | 79/999 [1:30:49<17:38:34, 69.04s/it]"
     ]
    },
    {
     "name": "stdout",
     "output_type": "stream",
     "text": [
      "eigenvalues shape torch.Size([5]) eigenvectors shape torch.Size([5, 1024])\n",
      "79 /home/phdcs2/Hard_Disk/Datasets/Deep-Spectral-Segmentation/data/object-segmentation/ECSSD/features/0081_resized.pth\n",
      "dict_keys(['k', 'indices', 'file', 'id', 'model_name', 'patch_size', 'shape'])\n",
      "0081_resized\n",
      "Starting Training\n",
      "epoch: 00, loss: -0.88019\n",
      "epoch: 01, loss: -0.92786\n",
      "epoch: 02, loss: -0.93992\n",
      "epoch: 03, loss: -0.94671\n",
      "epoch: 04, loss: -0.95113\n",
      "epoch: 05, loss: -0.95465\n",
      "epoch: 06, loss: -0.95732\n",
      "epoch: 07, loss: -0.95945\n",
      "epoch: 08, loss: -0.96139\n",
      "epoch: 09, loss: -0.96279\n",
      "torch.Size([1024, 64])\n"
     ]
    },
    {
     "name": "stderr",
     "output_type": "stream",
     "text": [
      "  8%|▊         | 80/999 [1:31:52<17:09:14, 67.20s/it]"
     ]
    },
    {
     "name": "stdout",
     "output_type": "stream",
     "text": [
      "eigenvalues shape torch.Size([5]) eigenvectors shape torch.Size([5, 1024])\n",
      "80 /home/phdcs2/Hard_Disk/Datasets/Deep-Spectral-Segmentation/data/object-segmentation/ECSSD/features/0082_resized.pth\n",
      "dict_keys(['k', 'indices', 'file', 'id', 'model_name', 'patch_size', 'shape'])\n",
      "0082_resized\n"
     ]
    },
    {
     "name": "stderr",
     "output_type": "stream",
     "text": [
      "/home/phdcs2/Hard_Disk/Projects/T2I/deep-spectral-segmentation/venv/lib/python3.8/site-packages/sklearn/decomposition/_pca.py:642: RuntimeWarning: invalid value encountered in divide\n",
      "  self.explained_variance_ratio_ = self.explained_variance_ / total_var\n"
     ]
    },
    {
     "name": "stdout",
     "output_type": "stream",
     "text": [
      "Starting Training\n",
      "epoch: 00, loss: -0.91948\n",
      "epoch: 01, loss: -0.94988\n",
      "epoch: 02, loss: -0.95721\n",
      "epoch: 03, loss: -0.96151\n",
      "epoch: 04, loss: -0.96440\n",
      "epoch: 05, loss: -0.96660\n",
      "epoch: 06, loss: -0.96835\n",
      "epoch: 07, loss: -0.96974\n",
      "epoch: 08, loss: -0.97093\n",
      "epoch: 09, loss: -0.97196\n",
      "torch.Size([1024, 64])\n"
     ]
    },
    {
     "name": "stderr",
     "output_type": "stream",
     "text": [
      "  8%|▊         | 81/999 [1:32:53<16:39:55, 65.36s/it]"
     ]
    },
    {
     "name": "stdout",
     "output_type": "stream",
     "text": [
      "eigenvalues shape torch.Size([5]) eigenvectors shape torch.Size([5, 1024])\n",
      "81 /home/phdcs2/Hard_Disk/Datasets/Deep-Spectral-Segmentation/data/object-segmentation/ECSSD/features/0083_resized.pth\n",
      "dict_keys(['k', 'indices', 'file', 'id', 'model_name', 'patch_size', 'shape'])\n",
      "0083_resized\n"
     ]
    },
    {
     "name": "stderr",
     "output_type": "stream",
     "text": [
      "/home/phdcs2/Hard_Disk/Projects/T2I/deep-spectral-segmentation/venv/lib/python3.8/site-packages/sklearn/decomposition/_pca.py:642: RuntimeWarning: invalid value encountered in divide\n",
      "  self.explained_variance_ratio_ = self.explained_variance_ / total_var\n"
     ]
    },
    {
     "name": "stdout",
     "output_type": "stream",
     "text": [
      "Starting Training\n",
      "epoch: 00, loss: -0.90713\n",
      "epoch: 01, loss: -0.94296\n",
      "epoch: 02, loss: -0.95202\n",
      "epoch: 03, loss: -0.95724\n",
      "epoch: 04, loss: -0.96080\n",
      "epoch: 05, loss: -0.96347\n",
      "epoch: 06, loss: -0.96555\n",
      "epoch: 07, loss: -0.96725\n",
      "epoch: 08, loss: -0.96864\n",
      "epoch: 09, loss: -0.96985\n",
      "torch.Size([1024, 64])\n"
     ]
    },
    {
     "name": "stderr",
     "output_type": "stream",
     "text": [
      "  8%|▊         | 82/999 [1:33:52<16:10:09, 63.48s/it]"
     ]
    },
    {
     "name": "stdout",
     "output_type": "stream",
     "text": [
      "eigenvalues shape torch.Size([5]) eigenvectors shape torch.Size([5, 1024])\n",
      "82 /home/phdcs2/Hard_Disk/Datasets/Deep-Spectral-Segmentation/data/object-segmentation/ECSSD/features/0084_resized.pth\n",
      "dict_keys(['k', 'indices', 'file', 'id', 'model_name', 'patch_size', 'shape'])\n",
      "0084_resized\n",
      "Starting Training\n",
      "epoch: 00, loss: -0.93571\n",
      "epoch: 01, loss: -0.96006\n",
      "epoch: 02, loss: -0.96604\n",
      "epoch: 03, loss: -0.96954\n",
      "epoch: 04, loss: -0.97197\n",
      "epoch: 05, loss: -0.97378\n",
      "epoch: 06, loss: -0.97524\n",
      "epoch: 07, loss: -0.97643\n",
      "epoch: 08, loss: -0.97742\n",
      "epoch: 09, loss: -0.97827\n",
      "torch.Size([1024, 64])\n"
     ]
    },
    {
     "name": "stderr",
     "output_type": "stream",
     "text": [
      "  8%|▊         | 83/999 [1:34:48<15:37:36, 61.42s/it]"
     ]
    },
    {
     "name": "stdout",
     "output_type": "stream",
     "text": [
      "eigenvalues shape torch.Size([5]) eigenvectors shape torch.Size([5, 1024])\n",
      "83 /home/phdcs2/Hard_Disk/Datasets/Deep-Spectral-Segmentation/data/object-segmentation/ECSSD/features/0085_resized.pth\n",
      "dict_keys(['k', 'indices', 'file', 'id', 'model_name', 'patch_size', 'shape'])\n",
      "0085_resized\n",
      "Starting Training\n",
      "epoch: 00, loss: -0.84525\n",
      "epoch: 01, loss: -0.90663\n",
      "epoch: 02, loss: -0.92224\n",
      "epoch: 03, loss: -0.93128\n",
      "epoch: 04, loss: -0.93709\n",
      "epoch: 05, loss: -0.94120\n",
      "epoch: 06, loss: -0.94467\n",
      "epoch: 07, loss: -0.94741\n",
      "epoch: 08, loss: -0.94967\n",
      "epoch: 09, loss: -0.95158\n",
      "torch.Size([1024, 64])\n"
     ]
    },
    {
     "name": "stderr",
     "output_type": "stream",
     "text": [
      "  8%|▊         | 84/999 [1:35:52<15:45:30, 62.00s/it]"
     ]
    },
    {
     "name": "stdout",
     "output_type": "stream",
     "text": [
      "eigenvalues shape torch.Size([5]) eigenvectors shape torch.Size([5, 1024])\n",
      "84 /home/phdcs2/Hard_Disk/Datasets/Deep-Spectral-Segmentation/data/object-segmentation/ECSSD/features/0086_resized.pth\n",
      "dict_keys(['k', 'indices', 'file', 'id', 'model_name', 'patch_size', 'shape'])\n",
      "0086_resized\n",
      "Starting Training\n",
      "epoch: 00, loss: -0.91168\n",
      "epoch: 01, loss: -0.94942\n",
      "epoch: 02, loss: -0.95760\n",
      "epoch: 03, loss: -0.96227\n",
      "epoch: 04, loss: -0.96544\n",
      "epoch: 05, loss: -0.96777\n",
      "epoch: 06, loss: -0.96958\n",
      "epoch: 07, loss: -0.97104\n",
      "epoch: 08, loss: -0.97230\n",
      "epoch: 09, loss: -0.97331\n",
      "torch.Size([1024, 64])\n"
     ]
    },
    {
     "name": "stderr",
     "output_type": "stream",
     "text": [
      "  9%|▊         | 85/999 [1:37:04<16:29:11, 64.94s/it]"
     ]
    },
    {
     "name": "stdout",
     "output_type": "stream",
     "text": [
      "eigenvalues shape torch.Size([5]) eigenvectors shape torch.Size([5, 1024])\n",
      "85 /home/phdcs2/Hard_Disk/Datasets/Deep-Spectral-Segmentation/data/object-segmentation/ECSSD/features/0087_resized.pth\n",
      "dict_keys(['k', 'indices', 'file', 'id', 'model_name', 'patch_size', 'shape'])\n",
      "0087_resized\n",
      "Starting Training\n",
      "epoch: 00, loss: -0.89857\n",
      "epoch: 01, loss: -0.94131\n",
      "epoch: 02, loss: -0.95163\n",
      "epoch: 03, loss: -0.95736\n",
      "epoch: 04, loss: -0.96118\n",
      "epoch: 05, loss: -0.96405\n",
      "epoch: 06, loss: -0.96623\n",
      "epoch: 07, loss: -0.96802\n",
      "epoch: 08, loss: -0.96948\n",
      "epoch: 09, loss: -0.97073\n",
      "torch.Size([1024, 64])\n"
     ]
    },
    {
     "name": "stderr",
     "output_type": "stream",
     "text": [
      "  9%|▊         | 86/999 [1:38:20<17:18:25, 68.24s/it]"
     ]
    },
    {
     "name": "stdout",
     "output_type": "stream",
     "text": [
      "eigenvalues shape torch.Size([5]) eigenvectors shape torch.Size([5, 1024])\n",
      "86 /home/phdcs2/Hard_Disk/Datasets/Deep-Spectral-Segmentation/data/object-segmentation/ECSSD/features/0088_resized.pth\n",
      "dict_keys(['k', 'indices', 'file', 'id', 'model_name', 'patch_size', 'shape'])\n",
      "0088_resized\n"
     ]
    },
    {
     "name": "stderr",
     "output_type": "stream",
     "text": [
      "/home/phdcs2/Hard_Disk/Projects/T2I/deep-spectral-segmentation/venv/lib/python3.8/site-packages/sklearn/decomposition/_pca.py:642: RuntimeWarning: invalid value encountered in divide\n",
      "  self.explained_variance_ratio_ = self.explained_variance_ / total_var\n"
     ]
    },
    {
     "name": "stdout",
     "output_type": "stream",
     "text": [
      "Starting Training\n",
      "epoch: 00, loss: -0.92990\n",
      "epoch: 01, loss: -0.95750\n",
      "epoch: 02, loss: -0.96378\n",
      "epoch: 03, loss: -0.96744\n",
      "epoch: 04, loss: -0.96997\n",
      "epoch: 05, loss: -0.97186\n",
      "epoch: 06, loss: -0.97335\n",
      "epoch: 07, loss: -0.97457\n",
      "epoch: 08, loss: -0.97560\n",
      "epoch: 09, loss: -0.97648\n",
      "torch.Size([1024, 64])\n"
     ]
    },
    {
     "name": "stderr",
     "output_type": "stream",
     "text": [
      "  9%|▊         | 87/999 [1:39:31<17:31:43, 69.19s/it]"
     ]
    },
    {
     "name": "stdout",
     "output_type": "stream",
     "text": [
      "eigenvalues shape torch.Size([5]) eigenvectors shape torch.Size([5, 1024])\n",
      "87 /home/phdcs2/Hard_Disk/Datasets/Deep-Spectral-Segmentation/data/object-segmentation/ECSSD/features/0089_resized.pth\n",
      "dict_keys(['k', 'indices', 'file', 'id', 'model_name', 'patch_size', 'shape'])\n",
      "0089_resized\n",
      "Starting Training\n",
      "epoch: 00, loss: -0.93393\n",
      "epoch: 01, loss: -0.96127\n",
      "epoch: 02, loss: -0.96721\n",
      "epoch: 03, loss: -0.97067\n",
      "epoch: 04, loss: -0.97305\n",
      "epoch: 05, loss: -0.97482\n",
      "epoch: 06, loss: -0.97620\n",
      "epoch: 07, loss: -0.97732\n",
      "epoch: 08, loss: -0.97825\n",
      "epoch: 09, loss: -0.97906\n",
      "torch.Size([1024, 64])\n"
     ]
    },
    {
     "name": "stderr",
     "output_type": "stream",
     "text": [
      "  9%|▉         | 88/999 [1:40:48<18:05:23, 71.49s/it]"
     ]
    },
    {
     "name": "stdout",
     "output_type": "stream",
     "text": [
      "eigenvalues shape torch.Size([5]) eigenvectors shape torch.Size([5, 1024])\n",
      "88 /home/phdcs2/Hard_Disk/Datasets/Deep-Spectral-Segmentation/data/object-segmentation/ECSSD/features/0090_resized.pth\n",
      "dict_keys(['k', 'indices', 'file', 'id', 'model_name', 'patch_size', 'shape'])\n",
      "0090_resized\n"
     ]
    },
    {
     "name": "stderr",
     "output_type": "stream",
     "text": [
      "/home/phdcs2/Hard_Disk/Projects/T2I/deep-spectral-segmentation/venv/lib/python3.8/site-packages/sklearn/decomposition/_pca.py:642: RuntimeWarning: invalid value encountered in divide\n",
      "  self.explained_variance_ratio_ = self.explained_variance_ / total_var\n"
     ]
    },
    {
     "name": "stdout",
     "output_type": "stream",
     "text": [
      "Starting Training\n",
      "epoch: 00, loss: -0.92406\n",
      "epoch: 01, loss: -0.95480\n",
      "epoch: 02, loss: -0.96186\n",
      "epoch: 03, loss: -0.96597\n",
      "epoch: 04, loss: -0.96877\n",
      "epoch: 05, loss: -0.97083\n",
      "epoch: 06, loss: -0.97248\n",
      "epoch: 07, loss: -0.97382\n",
      "epoch: 08, loss: -0.97496\n",
      "epoch: 09, loss: -0.97591\n",
      "torch.Size([1024, 64])\n"
     ]
    },
    {
     "name": "stderr",
     "output_type": "stream",
     "text": [
      "  9%|▉         | 89/999 [1:41:57<17:53:43, 70.79s/it]"
     ]
    },
    {
     "name": "stdout",
     "output_type": "stream",
     "text": [
      "eigenvalues shape torch.Size([5]) eigenvectors shape torch.Size([5, 1024])\n",
      "89 /home/phdcs2/Hard_Disk/Datasets/Deep-Spectral-Segmentation/data/object-segmentation/ECSSD/features/0091_resized.pth\n",
      "dict_keys(['k', 'indices', 'file', 'id', 'model_name', 'patch_size', 'shape'])\n",
      "0091_resized\n",
      "Starting Training\n",
      "epoch: 00, loss: -0.87758\n",
      "epoch: 01, loss: -0.92929\n",
      "epoch: 02, loss: -0.94190\n",
      "epoch: 03, loss: -0.94904\n",
      "epoch: 04, loss: -0.95377\n",
      "epoch: 05, loss: -0.95734\n",
      "epoch: 06, loss: -0.96002\n",
      "epoch: 07, loss: -0.96215\n",
      "epoch: 08, loss: -0.96404\n",
      "epoch: 09, loss: -0.96551\n",
      "torch.Size([1024, 64])\n"
     ]
    },
    {
     "name": "stderr",
     "output_type": "stream",
     "text": [
      "  9%|▉         | 90/999 [1:43:06<17:46:50, 70.42s/it]"
     ]
    },
    {
     "name": "stdout",
     "output_type": "stream",
     "text": [
      "eigenvalues shape torch.Size([5]) eigenvectors shape torch.Size([5, 1024])\n",
      "90 /home/phdcs2/Hard_Disk/Datasets/Deep-Spectral-Segmentation/data/object-segmentation/ECSSD/features/0092_resized.pth\n",
      "dict_keys(['k', 'indices', 'file', 'id', 'model_name', 'patch_size', 'shape'])\n",
      "0092_resized\n"
     ]
    },
    {
     "name": "stderr",
     "output_type": "stream",
     "text": [
      "/home/phdcs2/Hard_Disk/Projects/T2I/deep-spectral-segmentation/venv/lib/python3.8/site-packages/sklearn/decomposition/_pca.py:642: RuntimeWarning: invalid value encountered in divide\n",
      "  self.explained_variance_ratio_ = self.explained_variance_ / total_var\n"
     ]
    },
    {
     "name": "stdout",
     "output_type": "stream",
     "text": [
      "Starting Training\n",
      "epoch: 00, loss: -0.91117\n",
      "epoch: 01, loss: -0.94485\n",
      "epoch: 02, loss: -0.95393\n",
      "epoch: 03, loss: -0.95914\n",
      "epoch: 04, loss: -0.96273\n",
      "epoch: 05, loss: -0.96534\n",
      "epoch: 06, loss: -0.96742\n",
      "epoch: 07, loss: -0.96909\n",
      "epoch: 08, loss: -0.97048\n",
      "epoch: 09, loss: -0.97166\n",
      "torch.Size([1024, 64])\n"
     ]
    },
    {
     "name": "stderr",
     "output_type": "stream",
     "text": [
      "  9%|▉         | 91/999 [1:44:12<17:22:17, 68.87s/it]"
     ]
    },
    {
     "name": "stdout",
     "output_type": "stream",
     "text": [
      "eigenvalues shape torch.Size([5]) eigenvectors shape torch.Size([5, 1024])\n",
      "91 /home/phdcs2/Hard_Disk/Datasets/Deep-Spectral-Segmentation/data/object-segmentation/ECSSD/features/0093_resized.pth\n",
      "dict_keys(['k', 'indices', 'file', 'id', 'model_name', 'patch_size', 'shape'])\n",
      "0093_resized\n"
     ]
    },
    {
     "name": "stderr",
     "output_type": "stream",
     "text": [
      "/home/phdcs2/Hard_Disk/Projects/T2I/deep-spectral-segmentation/venv/lib/python3.8/site-packages/sklearn/decomposition/_pca.py:642: RuntimeWarning: invalid value encountered in divide\n",
      "  self.explained_variance_ratio_ = self.explained_variance_ / total_var\n"
     ]
    },
    {
     "name": "stdout",
     "output_type": "stream",
     "text": [
      "Starting Training\n",
      "epoch: 00, loss: -0.91700\n",
      "epoch: 01, loss: -0.95131\n",
      "epoch: 02, loss: -0.95903\n",
      "epoch: 03, loss: -0.96352\n",
      "epoch: 04, loss: -0.96651\n",
      "epoch: 05, loss: -0.96876\n",
      "epoch: 06, loss: -0.97053\n",
      "epoch: 07, loss: -0.97195\n",
      "epoch: 08, loss: -0.97316\n",
      "epoch: 09, loss: -0.97418\n",
      "torch.Size([1024, 64])\n"
     ]
    },
    {
     "name": "stderr",
     "output_type": "stream",
     "text": [
      "  9%|▉         | 92/999 [1:45:30<18:05:09, 71.79s/it]"
     ]
    },
    {
     "name": "stdout",
     "output_type": "stream",
     "text": [
      "eigenvalues shape torch.Size([5]) eigenvectors shape torch.Size([5, 1024])\n",
      "92 /home/phdcs2/Hard_Disk/Datasets/Deep-Spectral-Segmentation/data/object-segmentation/ECSSD/features/0094_resized.pth\n",
      "dict_keys(['k', 'indices', 'file', 'id', 'model_name', 'patch_size', 'shape'])\n",
      "0094_resized\n"
     ]
    },
    {
     "name": "stderr",
     "output_type": "stream",
     "text": [
      "/home/phdcs2/Hard_Disk/Projects/T2I/deep-spectral-segmentation/venv/lib/python3.8/site-packages/sklearn/decomposition/_pca.py:642: RuntimeWarning: invalid value encountered in divide\n",
      "  self.explained_variance_ratio_ = self.explained_variance_ / total_var\n"
     ]
    },
    {
     "name": "stdout",
     "output_type": "stream",
     "text": [
      "Starting Training\n",
      "epoch: 00, loss: -0.91141\n",
      "epoch: 01, loss: -0.94709\n",
      "epoch: 02, loss: -0.95556\n",
      "epoch: 03, loss: -0.96048\n",
      "epoch: 04, loss: -0.96384\n",
      "epoch: 05, loss: -0.96631\n",
      "epoch: 06, loss: -0.96827\n",
      "epoch: 07, loss: -0.96986\n",
      "epoch: 08, loss: -0.97118\n",
      "epoch: 09, loss: -0.97232\n",
      "torch.Size([1024, 64])\n"
     ]
    },
    {
     "name": "stderr",
     "output_type": "stream",
     "text": [
      "  9%|▉         | 93/999 [1:46:44<18:10:34, 72.22s/it]"
     ]
    },
    {
     "name": "stdout",
     "output_type": "stream",
     "text": [
      "eigenvalues shape torch.Size([5]) eigenvectors shape torch.Size([5, 1024])\n",
      "93 /home/phdcs2/Hard_Disk/Datasets/Deep-Spectral-Segmentation/data/object-segmentation/ECSSD/features/0095_resized.pth\n",
      "dict_keys(['k', 'indices', 'file', 'id', 'model_name', 'patch_size', 'shape'])\n",
      "0095_resized\n",
      "Starting Training\n",
      "epoch: 00, loss: -0.89948\n",
      "epoch: 01, loss: -0.94011\n",
      "epoch: 02, loss: -0.95026\n",
      "epoch: 03, loss: -0.95599\n",
      "epoch: 04, loss: -0.95987\n",
      "epoch: 05, loss: -0.96274\n",
      "epoch: 06, loss: -0.96492\n",
      "epoch: 07, loss: -0.96670\n",
      "epoch: 08, loss: -0.96819\n",
      "epoch: 09, loss: -0.96941\n",
      "torch.Size([1024, 64])\n"
     ]
    },
    {
     "name": "stderr",
     "output_type": "stream",
     "text": [
      "  9%|▉         | 94/999 [1:47:58<18:18:43, 72.84s/it]"
     ]
    },
    {
     "name": "stdout",
     "output_type": "stream",
     "text": [
      "eigenvalues shape torch.Size([5]) eigenvectors shape torch.Size([5, 1024])\n",
      "94 /home/phdcs2/Hard_Disk/Datasets/Deep-Spectral-Segmentation/data/object-segmentation/ECSSD/features/0096_resized.pth\n",
      "dict_keys(['k', 'indices', 'file', 'id', 'model_name', 'patch_size', 'shape'])\n",
      "0096_resized\n",
      "Starting Training\n",
      "epoch: 00, loss: -0.86857\n",
      "epoch: 01, loss: -0.92297\n",
      "epoch: 02, loss: -0.93604\n",
      "epoch: 03, loss: -0.94341\n",
      "epoch: 04, loss: -0.94819\n",
      "epoch: 05, loss: -0.95193\n",
      "epoch: 06, loss: -0.95476\n",
      "epoch: 07, loss: -0.95700\n",
      "epoch: 08, loss: -0.95886\n",
      "epoch: 09, loss: -0.96047\n",
      "torch.Size([1024, 64])\n"
     ]
    },
    {
     "name": "stderr",
     "output_type": "stream",
     "text": [
      " 10%|▉         | 95/999 [1:49:16<18:41:50, 74.46s/it]"
     ]
    },
    {
     "name": "stdout",
     "output_type": "stream",
     "text": [
      "eigenvalues shape torch.Size([5]) eigenvectors shape torch.Size([5, 1024])\n",
      "95 /home/phdcs2/Hard_Disk/Datasets/Deep-Spectral-Segmentation/data/object-segmentation/ECSSD/features/0097_resized.pth\n",
      "dict_keys(['k', 'indices', 'file', 'id', 'model_name', 'patch_size', 'shape'])\n",
      "0097_resized\n",
      "Starting Training\n",
      "epoch: 00, loss: -0.92442\n",
      "epoch: 01, loss: -0.95529\n",
      "epoch: 02, loss: -0.96228\n",
      "epoch: 03, loss: -0.96628\n",
      "epoch: 04, loss: -0.96906\n",
      "epoch: 05, loss: -0.97110\n",
      "epoch: 06, loss: -0.97270\n",
      "epoch: 07, loss: -0.97402\n",
      "epoch: 08, loss: -0.97509\n",
      "epoch: 09, loss: -0.97604\n",
      "torch.Size([1024, 64])\n"
     ]
    },
    {
     "name": "stderr",
     "output_type": "stream",
     "text": [
      " 10%|▉         | 96/999 [1:50:24<18:09:59, 72.42s/it]"
     ]
    },
    {
     "name": "stdout",
     "output_type": "stream",
     "text": [
      "eigenvalues shape torch.Size([5]) eigenvectors shape torch.Size([5, 1024])\n",
      "96 /home/phdcs2/Hard_Disk/Datasets/Deep-Spectral-Segmentation/data/object-segmentation/ECSSD/features/0098_resized.pth\n",
      "dict_keys(['k', 'indices', 'file', 'id', 'model_name', 'patch_size', 'shape'])\n",
      "0098_resized\n"
     ]
    },
    {
     "name": "stderr",
     "output_type": "stream",
     "text": [
      "/home/phdcs2/Hard_Disk/Projects/T2I/deep-spectral-segmentation/venv/lib/python3.8/site-packages/sklearn/decomposition/_pca.py:642: RuntimeWarning: invalid value encountered in divide\n",
      "  self.explained_variance_ratio_ = self.explained_variance_ / total_var\n"
     ]
    },
    {
     "name": "stdout",
     "output_type": "stream",
     "text": [
      "Starting Training\n",
      "epoch: 00, loss: -0.90116\n",
      "epoch: 01, loss: -0.94297\n",
      "epoch: 02, loss: -0.95237\n",
      "epoch: 03, loss: -0.95775\n",
      "epoch: 04, loss: -0.96142\n",
      "epoch: 05, loss: -0.96413\n",
      "epoch: 06, loss: -0.96627\n",
      "epoch: 07, loss: -0.96800\n",
      "epoch: 08, loss: -0.96944\n",
      "epoch: 09, loss: -0.97066\n",
      "torch.Size([1024, 64])\n"
     ]
    },
    {
     "name": "stderr",
     "output_type": "stream",
     "text": [
      " 10%|▉         | 97/999 [1:51:42<18:34:33, 74.14s/it]"
     ]
    },
    {
     "name": "stdout",
     "output_type": "stream",
     "text": [
      "eigenvalues shape torch.Size([5]) eigenvectors shape torch.Size([5, 1024])\n",
      "97 /home/phdcs2/Hard_Disk/Datasets/Deep-Spectral-Segmentation/data/object-segmentation/ECSSD/features/0099_resized.pth\n",
      "dict_keys(['k', 'indices', 'file', 'id', 'model_name', 'patch_size', 'shape'])\n",
      "0099_resized\n"
     ]
    },
    {
     "name": "stderr",
     "output_type": "stream",
     "text": [
      "/home/phdcs2/Hard_Disk/Projects/T2I/deep-spectral-segmentation/venv/lib/python3.8/site-packages/sklearn/decomposition/_pca.py:642: RuntimeWarning: invalid value encountered in divide\n",
      "  self.explained_variance_ratio_ = self.explained_variance_ / total_var\n"
     ]
    },
    {
     "name": "stdout",
     "output_type": "stream",
     "text": [
      "Starting Training\n",
      "epoch: 00, loss: -0.91628\n",
      "epoch: 01, loss: -0.95061\n",
      "epoch: 02, loss: -0.95832\n",
      "epoch: 03, loss: -0.96279\n",
      "epoch: 04, loss: -0.96582\n",
      "epoch: 05, loss: -0.96806\n",
      "epoch: 06, loss: -0.96984\n",
      "epoch: 07, loss: -0.97129\n",
      "epoch: 08, loss: -0.97249\n",
      "epoch: 09, loss: -0.97352\n",
      "torch.Size([1024, 64])\n"
     ]
    },
    {
     "name": "stderr",
     "output_type": "stream",
     "text": [
      " 10%|▉         | 98/999 [1:53:02<18:59:44, 75.90s/it]"
     ]
    },
    {
     "name": "stdout",
     "output_type": "stream",
     "text": [
      "eigenvalues shape torch.Size([5]) eigenvectors shape torch.Size([5, 1024])\n",
      "98 /home/phdcs2/Hard_Disk/Datasets/Deep-Spectral-Segmentation/data/object-segmentation/ECSSD/features/0100_resized.pth\n",
      "dict_keys(['k', 'indices', 'file', 'id', 'model_name', 'patch_size', 'shape'])\n",
      "0100_resized\n"
     ]
    },
    {
     "name": "stderr",
     "output_type": "stream",
     "text": [
      "/home/phdcs2/Hard_Disk/Projects/T2I/deep-spectral-segmentation/venv/lib/python3.8/site-packages/sklearn/decomposition/_pca.py:642: RuntimeWarning: invalid value encountered in divide\n",
      "  self.explained_variance_ratio_ = self.explained_variance_ / total_var\n"
     ]
    },
    {
     "name": "stdout",
     "output_type": "stream",
     "text": [
      "Starting Training\n",
      "epoch: 00, loss: -0.91413\n",
      "epoch: 01, loss: -0.94674\n",
      "epoch: 02, loss: -0.95496\n",
      "epoch: 03, loss: -0.95968\n",
      "epoch: 04, loss: -0.96289\n",
      "epoch: 05, loss: -0.96529\n",
      "epoch: 06, loss: -0.96720\n",
      "epoch: 07, loss: -0.96874\n",
      "epoch: 08, loss: -0.97003\n",
      "epoch: 09, loss: -0.97115\n",
      "torch.Size([1024, 64])\n"
     ]
    },
    {
     "name": "stderr",
     "output_type": "stream",
     "text": [
      " 10%|▉         | 99/999 [1:54:26<19:35:58, 78.40s/it]"
     ]
    },
    {
     "name": "stdout",
     "output_type": "stream",
     "text": [
      "eigenvalues shape torch.Size([5]) eigenvectors shape torch.Size([5, 1024])\n",
      "99 /home/phdcs2/Hard_Disk/Datasets/Deep-Spectral-Segmentation/data/object-segmentation/ECSSD/features/0101_resized.pth\n",
      "dict_keys(['k', 'indices', 'file', 'id', 'model_name', 'patch_size', 'shape'])\n",
      "0101_resized\n",
      "Starting Training\n",
      "epoch: 00, loss: -0.88784\n",
      "epoch: 01, loss: -0.93482\n",
      "epoch: 02, loss: -0.94621\n",
      "epoch: 03, loss: -0.95257\n",
      "epoch: 04, loss: -0.95696\n",
      "epoch: 05, loss: -0.95997\n",
      "epoch: 06, loss: -0.96245\n",
      "epoch: 07, loss: -0.96445\n",
      "epoch: 08, loss: -0.96601\n",
      "epoch: 09, loss: -0.96739\n",
      "torch.Size([1024, 64])\n"
     ]
    },
    {
     "name": "stderr",
     "output_type": "stream",
     "text": [
      " 10%|█         | 100/999 [1:55:43<19:27:10, 77.90s/it]"
     ]
    },
    {
     "name": "stdout",
     "output_type": "stream",
     "text": [
      "eigenvalues shape torch.Size([5]) eigenvectors shape torch.Size([5, 1024])\n",
      "100 /home/phdcs2/Hard_Disk/Datasets/Deep-Spectral-Segmentation/data/object-segmentation/ECSSD/features/0102_resized.pth\n",
      "dict_keys(['k', 'indices', 'file', 'id', 'model_name', 'patch_size', 'shape'])\n",
      "0102_resized\n",
      "Starting Training\n",
      "epoch: 00, loss: -0.93684\n",
      "epoch: 01, loss: -0.96283\n",
      "epoch: 02, loss: -0.96880\n",
      "epoch: 03, loss: -0.97226\n",
      "epoch: 04, loss: -0.97458\n",
      "epoch: 05, loss: -0.97631\n",
      "epoch: 06, loss: -0.97768\n",
      "epoch: 07, loss: -0.97879\n",
      "epoch: 08, loss: -0.97971\n",
      "epoch: 09, loss: -0.98051\n",
      "torch.Size([1024, 64])\n"
     ]
    },
    {
     "name": "stderr",
     "output_type": "stream",
     "text": [
      " 10%|█         | 101/999 [1:56:53<18:49:19, 75.46s/it]"
     ]
    },
    {
     "name": "stdout",
     "output_type": "stream",
     "text": [
      "eigenvalues shape torch.Size([5]) eigenvectors shape torch.Size([5, 1024])\n",
      "101 /home/phdcs2/Hard_Disk/Datasets/Deep-Spectral-Segmentation/data/object-segmentation/ECSSD/features/0103_resized.pth\n",
      "dict_keys(['k', 'indices', 'file', 'id', 'model_name', 'patch_size', 'shape'])\n",
      "0103_resized\n",
      "Starting Training\n",
      "epoch: 00, loss: -0.87439\n",
      "epoch: 01, loss: -0.92489\n",
      "epoch: 02, loss: -0.93755\n",
      "epoch: 03, loss: -0.94516\n",
      "epoch: 04, loss: -0.94990\n",
      "epoch: 05, loss: -0.95340\n",
      "epoch: 06, loss: -0.95632\n",
      "epoch: 07, loss: -0.95854\n",
      "epoch: 08, loss: -0.96037\n",
      "epoch: 09, loss: -0.96203\n",
      "torch.Size([1024, 64])\n"
     ]
    },
    {
     "name": "stderr",
     "output_type": "stream",
     "text": [
      " 10%|█         | 102/999 [1:58:01<18:15:39, 73.29s/it]"
     ]
    },
    {
     "name": "stdout",
     "output_type": "stream",
     "text": [
      "eigenvalues shape torch.Size([5]) eigenvectors shape torch.Size([5, 1024])\n",
      "102 /home/phdcs2/Hard_Disk/Datasets/Deep-Spectral-Segmentation/data/object-segmentation/ECSSD/features/0104_resized.pth\n",
      "dict_keys(['k', 'indices', 'file', 'id', 'model_name', 'patch_size', 'shape'])\n",
      "0104_resized\n"
     ]
    },
    {
     "name": "stderr",
     "output_type": "stream",
     "text": [
      "/home/phdcs2/Hard_Disk/Projects/T2I/deep-spectral-segmentation/venv/lib/python3.8/site-packages/sklearn/decomposition/_pca.py:642: RuntimeWarning: invalid value encountered in divide\n",
      "  self.explained_variance_ratio_ = self.explained_variance_ / total_var\n"
     ]
    },
    {
     "name": "stdout",
     "output_type": "stream",
     "text": [
      "Starting Training\n",
      "epoch: 00, loss: -0.93323\n",
      "epoch: 01, loss: -0.96138\n",
      "epoch: 02, loss: -0.96723\n",
      "epoch: 03, loss: -0.97060\n",
      "epoch: 04, loss: -0.97290\n",
      "epoch: 05, loss: -0.97465\n",
      "epoch: 06, loss: -0.97601\n",
      "epoch: 07, loss: -0.97711\n",
      "epoch: 08, loss: -0.97805\n",
      "epoch: 09, loss: -0.97885\n",
      "torch.Size([1024, 64])\n"
     ]
    },
    {
     "name": "stderr",
     "output_type": "stream",
     "text": [
      " 10%|█         | 103/999 [1:59:00<17:12:21, 69.13s/it]"
     ]
    },
    {
     "name": "stdout",
     "output_type": "stream",
     "text": [
      "eigenvalues shape torch.Size([5]) eigenvectors shape torch.Size([5, 1024])\n",
      "103 /home/phdcs2/Hard_Disk/Datasets/Deep-Spectral-Segmentation/data/object-segmentation/ECSSD/features/0105_resized.pth\n",
      "dict_keys(['k', 'indices', 'file', 'id', 'model_name', 'patch_size', 'shape'])\n",
      "0105_resized\n",
      "Starting Training\n",
      "epoch: 00, loss: -0.83788\n",
      "epoch: 01, loss: -0.90048\n",
      "epoch: 02, loss: -0.91757\n",
      "epoch: 03, loss: -0.92754\n",
      "epoch: 04, loss: -0.93421\n",
      "epoch: 05, loss: -0.93886\n",
      "epoch: 06, loss: -0.94259\n",
      "epoch: 07, loss: -0.94559\n",
      "epoch: 08, loss: -0.94819\n",
      "epoch: 09, loss: -0.95028\n",
      "torch.Size([1024, 64])\n"
     ]
    },
    {
     "name": "stderr",
     "output_type": "stream",
     "text": [
      " 10%|█         | 104/999 [2:00:09<17:07:27, 68.88s/it]"
     ]
    },
    {
     "name": "stdout",
     "output_type": "stream",
     "text": [
      "eigenvalues shape torch.Size([5]) eigenvectors shape torch.Size([5, 1024])\n",
      "104 /home/phdcs2/Hard_Disk/Datasets/Deep-Spectral-Segmentation/data/object-segmentation/ECSSD/features/0106_resized.pth\n",
      "dict_keys(['k', 'indices', 'file', 'id', 'model_name', 'patch_size', 'shape'])\n",
      "0106_resized\n"
     ]
    },
    {
     "name": "stderr",
     "output_type": "stream",
     "text": [
      "/home/phdcs2/Hard_Disk/Projects/T2I/deep-spectral-segmentation/venv/lib/python3.8/site-packages/sklearn/decomposition/_pca.py:642: RuntimeWarning: invalid value encountered in divide\n",
      "  self.explained_variance_ratio_ = self.explained_variance_ / total_var\n"
     ]
    },
    {
     "name": "stdout",
     "output_type": "stream",
     "text": [
      "Starting Training\n",
      "epoch: 00, loss: -0.91682\n",
      "epoch: 01, loss: -0.94882\n",
      "epoch: 02, loss: -0.95622\n",
      "epoch: 03, loss: -0.96049\n",
      "epoch: 04, loss: -0.96349\n",
      "epoch: 05, loss: -0.96572\n",
      "epoch: 06, loss: -0.96744\n",
      "epoch: 07, loss: -0.96892\n",
      "epoch: 08, loss: -0.97012\n",
      "epoch: 09, loss: -0.97115\n",
      "torch.Size([1024, 64])\n"
     ]
    },
    {
     "name": "stderr",
     "output_type": "stream",
     "text": [
      " 11%|█         | 105/999 [2:01:18<17:06:40, 68.90s/it]"
     ]
    },
    {
     "name": "stdout",
     "output_type": "stream",
     "text": [
      "eigenvalues shape torch.Size([5]) eigenvectors shape torch.Size([5, 1024])\n",
      "105 /home/phdcs2/Hard_Disk/Datasets/Deep-Spectral-Segmentation/data/object-segmentation/ECSSD/features/0107_resized.pth\n",
      "dict_keys(['k', 'indices', 'file', 'id', 'model_name', 'patch_size', 'shape'])\n",
      "0107_resized\n",
      "Starting Training\n",
      "epoch: 00, loss: -0.86401\n",
      "epoch: 01, loss: -0.91776\n",
      "epoch: 02, loss: -0.93183\n",
      "epoch: 03, loss: -0.93987\n",
      "epoch: 04, loss: -0.94525\n",
      "epoch: 05, loss: -0.94925\n",
      "epoch: 06, loss: -0.95233\n",
      "epoch: 07, loss: -0.95473\n",
      "epoch: 08, loss: -0.95678\n",
      "epoch: 09, loss: -0.95863\n",
      "torch.Size([1024, 64])\n"
     ]
    },
    {
     "name": "stderr",
     "output_type": "stream",
     "text": [
      " 11%|█         | 106/999 [2:02:34<17:40:56, 71.28s/it]"
     ]
    },
    {
     "name": "stdout",
     "output_type": "stream",
     "text": [
      "eigenvalues shape torch.Size([5]) eigenvectors shape torch.Size([5, 1024])\n",
      "106 /home/phdcs2/Hard_Disk/Datasets/Deep-Spectral-Segmentation/data/object-segmentation/ECSSD/features/0108_resized.pth\n",
      "dict_keys(['k', 'indices', 'file', 'id', 'model_name', 'patch_size', 'shape'])\n",
      "0108_resized\n",
      "Starting Training\n",
      "epoch: 00, loss: -0.88022\n",
      "epoch: 01, loss: -0.92937\n",
      "epoch: 02, loss: -0.94093\n",
      "epoch: 03, loss: -0.94761\n",
      "epoch: 04, loss: -0.95238\n",
      "epoch: 05, loss: -0.95569\n",
      "epoch: 06, loss: -0.95840\n",
      "epoch: 07, loss: -0.96051\n",
      "epoch: 08, loss: -0.96218\n",
      "epoch: 09, loss: -0.96356\n",
      "torch.Size([1024, 64])\n"
     ]
    },
    {
     "name": "stderr",
     "output_type": "stream",
     "text": [
      " 11%|█         | 107/999 [2:03:43<17:26:29, 70.39s/it]"
     ]
    },
    {
     "name": "stdout",
     "output_type": "stream",
     "text": [
      "eigenvalues shape torch.Size([5]) eigenvectors shape torch.Size([5, 1024])\n",
      "107 /home/phdcs2/Hard_Disk/Datasets/Deep-Spectral-Segmentation/data/object-segmentation/ECSSD/features/0109_resized.pth\n",
      "dict_keys(['k', 'indices', 'file', 'id', 'model_name', 'patch_size', 'shape'])\n",
      "0109_resized\n"
     ]
    },
    {
     "name": "stderr",
     "output_type": "stream",
     "text": [
      "/home/phdcs2/Hard_Disk/Projects/T2I/deep-spectral-segmentation/venv/lib/python3.8/site-packages/sklearn/decomposition/_pca.py:642: RuntimeWarning: invalid value encountered in divide\n",
      "  self.explained_variance_ratio_ = self.explained_variance_ / total_var\n"
     ]
    },
    {
     "name": "stdout",
     "output_type": "stream",
     "text": [
      "Starting Training\n",
      "epoch: 00, loss: -0.92439\n",
      "epoch: 01, loss: -0.95445\n",
      "epoch: 02, loss: -0.96184\n",
      "epoch: 03, loss: -0.96610\n",
      "epoch: 04, loss: -0.96893\n",
      "epoch: 05, loss: -0.97106\n",
      "epoch: 06, loss: -0.97271\n",
      "epoch: 07, loss: -0.97406\n",
      "epoch: 08, loss: -0.97519\n",
      "epoch: 09, loss: -0.97614\n",
      "torch.Size([1024, 64])\n"
     ]
    },
    {
     "name": "stderr",
     "output_type": "stream",
     "text": [
      " 11%|█         | 108/999 [2:04:49<17:09:00, 69.29s/it]"
     ]
    },
    {
     "name": "stdout",
     "output_type": "stream",
     "text": [
      "eigenvalues shape torch.Size([5]) eigenvectors shape torch.Size([5, 1024])\n",
      "108 /home/phdcs2/Hard_Disk/Datasets/Deep-Spectral-Segmentation/data/object-segmentation/ECSSD/features/0110_resized.pth\n",
      "dict_keys(['k', 'indices', 'file', 'id', 'model_name', 'patch_size', 'shape'])\n",
      "0110_resized\n",
      "Starting Training\n",
      "epoch: 00, loss: -0.91910\n",
      "epoch: 01, loss: -0.95087\n",
      "epoch: 02, loss: -0.95843\n",
      "epoch: 03, loss: -0.96286\n",
      "epoch: 04, loss: -0.96593\n",
      "epoch: 05, loss: -0.96821\n",
      "epoch: 06, loss: -0.97000\n",
      "epoch: 07, loss: -0.97147\n",
      "epoch: 08, loss: -0.97271\n",
      "epoch: 09, loss: -0.97375\n",
      "torch.Size([1024, 64])\n"
     ]
    },
    {
     "name": "stderr",
     "output_type": "stream",
     "text": [
      " 11%|█         | 109/999 [2:06:13<18:12:11, 73.63s/it]"
     ]
    },
    {
     "name": "stdout",
     "output_type": "stream",
     "text": [
      "eigenvalues shape torch.Size([5]) eigenvectors shape torch.Size([5, 1024])\n",
      "109 /home/phdcs2/Hard_Disk/Datasets/Deep-Spectral-Segmentation/data/object-segmentation/ECSSD/features/0111_resized.pth\n",
      "dict_keys(['k', 'indices', 'file', 'id', 'model_name', 'patch_size', 'shape'])\n",
      "0111_resized\n",
      "Starting Training\n",
      "epoch: 00, loss: -0.91539\n",
      "epoch: 01, loss: -0.94836\n",
      "epoch: 02, loss: -0.95652\n",
      "epoch: 03, loss: -0.96121\n",
      "epoch: 04, loss: -0.96442\n",
      "epoch: 05, loss: -0.96680\n",
      "epoch: 06, loss: -0.96870\n",
      "epoch: 07, loss: -0.97024\n",
      "epoch: 08, loss: -0.97154\n",
      "epoch: 09, loss: -0.97262\n",
      "torch.Size([1024, 64])\n"
     ]
    },
    {
     "name": "stderr",
     "output_type": "stream",
     "text": [
      " 11%|█         | 110/999 [2:07:33<18:37:56, 75.45s/it]"
     ]
    },
    {
     "name": "stdout",
     "output_type": "stream",
     "text": [
      "eigenvalues shape torch.Size([5]) eigenvectors shape torch.Size([5, 1024])\n",
      "110 /home/phdcs2/Hard_Disk/Datasets/Deep-Spectral-Segmentation/data/object-segmentation/ECSSD/features/0112_resized.pth\n",
      "dict_keys(['k', 'indices', 'file', 'id', 'model_name', 'patch_size', 'shape'])\n",
      "0112_resized\n",
      "Starting Training\n",
      "epoch: 00, loss: -0.87508\n",
      "epoch: 01, loss: -0.92482\n",
      "epoch: 02, loss: -0.93801\n",
      "epoch: 03, loss: -0.94561\n",
      "epoch: 04, loss: -0.95057\n",
      "epoch: 05, loss: -0.95436\n",
      "epoch: 06, loss: -0.95725\n",
      "epoch: 07, loss: -0.95958\n",
      "epoch: 08, loss: -0.96153\n",
      "epoch: 09, loss: -0.96307\n",
      "torch.Size([1024, 64])\n"
     ]
    },
    {
     "name": "stderr",
     "output_type": "stream",
     "text": [
      " 11%|█         | 111/999 [2:08:48<18:33:46, 75.26s/it]"
     ]
    },
    {
     "name": "stdout",
     "output_type": "stream",
     "text": [
      "eigenvalues shape torch.Size([5]) eigenvectors shape torch.Size([5, 1024])\n",
      "111 /home/phdcs2/Hard_Disk/Datasets/Deep-Spectral-Segmentation/data/object-segmentation/ECSSD/features/0113_resized.pth\n",
      "dict_keys(['k', 'indices', 'file', 'id', 'model_name', 'patch_size', 'shape'])\n",
      "0113_resized\n",
      "Starting Training\n",
      "epoch: 00, loss: -0.88596\n",
      "epoch: 01, loss: -0.93274\n",
      "epoch: 02, loss: -0.94411\n",
      "epoch: 03, loss: -0.95065\n",
      "epoch: 04, loss: -0.95518\n",
      "epoch: 05, loss: -0.95833\n",
      "epoch: 06, loss: -0.96086\n",
      "epoch: 07, loss: -0.96290\n",
      "epoch: 08, loss: -0.96453\n",
      "epoch: 09, loss: -0.96610\n",
      "torch.Size([1024, 64])\n"
     ]
    },
    {
     "name": "stderr",
     "output_type": "stream",
     "text": [
      " 11%|█         | 112/999 [2:10:07<18:52:35, 76.61s/it]"
     ]
    },
    {
     "name": "stdout",
     "output_type": "stream",
     "text": [
      "eigenvalues shape torch.Size([5]) eigenvectors shape torch.Size([5, 1024])\n",
      "112 /home/phdcs2/Hard_Disk/Datasets/Deep-Spectral-Segmentation/data/object-segmentation/ECSSD/features/0114_resized.pth\n",
      "dict_keys(['k', 'indices', 'file', 'id', 'model_name', 'patch_size', 'shape'])\n",
      "0114_resized\n",
      "Starting Training\n",
      "epoch: 00, loss: -0.87777\n",
      "epoch: 01, loss: -0.92629\n",
      "epoch: 02, loss: -0.93871\n",
      "epoch: 03, loss: -0.94575\n",
      "epoch: 04, loss: -0.95068\n",
      "epoch: 05, loss: -0.95411\n",
      "epoch: 06, loss: -0.95679\n",
      "epoch: 07, loss: -0.95911\n",
      "epoch: 08, loss: -0.96085\n",
      "epoch: 09, loss: -0.96244\n",
      "torch.Size([1024, 64])\n"
     ]
    },
    {
     "name": "stderr",
     "output_type": "stream",
     "text": [
      " 11%|█▏        | 113/999 [2:11:18<18:22:34, 74.67s/it]"
     ]
    },
    {
     "name": "stdout",
     "output_type": "stream",
     "text": [
      "eigenvalues shape torch.Size([5]) eigenvectors shape torch.Size([5, 1024])\n",
      "113 /home/phdcs2/Hard_Disk/Datasets/Deep-Spectral-Segmentation/data/object-segmentation/ECSSD/features/0115_resized.pth\n",
      "dict_keys(['k', 'indices', 'file', 'id', 'model_name', 'patch_size', 'shape'])\n",
      "0115_resized\n",
      "Starting Training\n",
      "epoch: 00, loss: -0.93614\n",
      "epoch: 01, loss: -0.96250\n",
      "epoch: 02, loss: -0.96836\n",
      "epoch: 03, loss: -0.97175\n",
      "epoch: 04, loss: -0.97405\n",
      "epoch: 05, loss: -0.97579\n",
      "epoch: 06, loss: -0.97713\n",
      "epoch: 07, loss: -0.97823\n",
      "epoch: 08, loss: -0.97914\n",
      "epoch: 09, loss: -0.97993\n",
      "torch.Size([1024, 64])\n"
     ]
    },
    {
     "name": "stderr",
     "output_type": "stream",
     "text": [
      " 11%|█▏        | 114/999 [2:12:28<18:04:26, 73.52s/it]"
     ]
    },
    {
     "name": "stdout",
     "output_type": "stream",
     "text": [
      "eigenvalues shape torch.Size([5]) eigenvectors shape torch.Size([5, 1024])\n",
      "114 /home/phdcs2/Hard_Disk/Datasets/Deep-Spectral-Segmentation/data/object-segmentation/ECSSD/features/0116_resized.pth\n",
      "dict_keys(['k', 'indices', 'file', 'id', 'model_name', 'patch_size', 'shape'])\n",
      "0116_resized\n",
      "Starting Training\n",
      "epoch: 00, loss: -0.88748\n",
      "epoch: 01, loss: -0.93428\n",
      "epoch: 02, loss: -0.94525\n",
      "epoch: 03, loss: -0.95151\n",
      "epoch: 04, loss: -0.95571\n",
      "epoch: 05, loss: -0.95889\n",
      "epoch: 06, loss: -0.96136\n",
      "epoch: 07, loss: -0.96327\n",
      "epoch: 08, loss: -0.96503\n",
      "epoch: 09, loss: -0.96641\n",
      "torch.Size([1024, 64])\n"
     ]
    },
    {
     "name": "stderr",
     "output_type": "stream",
     "text": [
      " 12%|█▏        | 115/999 [2:13:47<18:26:37, 75.11s/it]"
     ]
    },
    {
     "name": "stdout",
     "output_type": "stream",
     "text": [
      "eigenvalues shape torch.Size([5]) eigenvectors shape torch.Size([5, 1024])\n",
      "115 /home/phdcs2/Hard_Disk/Datasets/Deep-Spectral-Segmentation/data/object-segmentation/ECSSD/features/0117_resized.pth\n",
      "dict_keys(['k', 'indices', 'file', 'id', 'model_name', 'patch_size', 'shape'])\n",
      "0117_resized\n"
     ]
    },
    {
     "name": "stderr",
     "output_type": "stream",
     "text": [
      "/home/phdcs2/Hard_Disk/Projects/T2I/deep-spectral-segmentation/venv/lib/python3.8/site-packages/sklearn/decomposition/_pca.py:642: RuntimeWarning: invalid value encountered in divide\n",
      "  self.explained_variance_ratio_ = self.explained_variance_ / total_var\n"
     ]
    },
    {
     "name": "stdout",
     "output_type": "stream",
     "text": [
      "Starting Training\n",
      "epoch: 00, loss: -0.91309\n",
      "epoch: 01, loss: -0.94826\n",
      "epoch: 02, loss: -0.95648\n",
      "epoch: 03, loss: -0.96118\n",
      "epoch: 04, loss: -0.96435\n",
      "epoch: 05, loss: -0.96670\n",
      "epoch: 06, loss: -0.96854\n",
      "epoch: 07, loss: -0.97005\n",
      "epoch: 08, loss: -0.97132\n",
      "epoch: 09, loss: -0.97236\n",
      "torch.Size([1024, 64])\n"
     ]
    },
    {
     "name": "stderr",
     "output_type": "stream",
     "text": [
      " 12%|█▏        | 116/999 [2:15:04<18:33:01, 75.63s/it]"
     ]
    },
    {
     "name": "stdout",
     "output_type": "stream",
     "text": [
      "eigenvalues shape torch.Size([5]) eigenvectors shape torch.Size([5, 1024])\n",
      "116 /home/phdcs2/Hard_Disk/Datasets/Deep-Spectral-Segmentation/data/object-segmentation/ECSSD/features/0118_resized.pth\n",
      "dict_keys(['k', 'indices', 'file', 'id', 'model_name', 'patch_size', 'shape'])\n",
      "0118_resized\n",
      "Starting Training\n",
      "epoch: 00, loss: -0.87547\n",
      "epoch: 01, loss: -0.92452\n",
      "epoch: 02, loss: -0.93685\n",
      "epoch: 03, loss: -0.94388\n",
      "epoch: 04, loss: -0.94871\n",
      "epoch: 05, loss: -0.95225\n",
      "epoch: 06, loss: -0.95500\n",
      "epoch: 07, loss: -0.95714\n",
      "epoch: 08, loss: -0.95894\n",
      "epoch: 09, loss: -0.96061\n",
      "torch.Size([1024, 64])\n"
     ]
    },
    {
     "name": "stderr",
     "output_type": "stream",
     "text": [
      " 12%|█▏        | 117/999 [2:16:23<18:46:28, 76.63s/it]"
     ]
    },
    {
     "name": "stdout",
     "output_type": "stream",
     "text": [
      "eigenvalues shape torch.Size([5]) eigenvectors shape torch.Size([5, 1024])\n",
      "117 /home/phdcs2/Hard_Disk/Datasets/Deep-Spectral-Segmentation/data/object-segmentation/ECSSD/features/0119_resized.pth\n",
      "dict_keys(['k', 'indices', 'file', 'id', 'model_name', 'patch_size', 'shape'])\n",
      "0119_resized\n"
     ]
    },
    {
     "name": "stderr",
     "output_type": "stream",
     "text": [
      "/home/phdcs2/Hard_Disk/Projects/T2I/deep-spectral-segmentation/venv/lib/python3.8/site-packages/sklearn/decomposition/_pca.py:642: RuntimeWarning: invalid value encountered in divide\n",
      "  self.explained_variance_ratio_ = self.explained_variance_ / total_var\n"
     ]
    },
    {
     "name": "stdout",
     "output_type": "stream",
     "text": [
      "Starting Training\n",
      "epoch: 00, loss: -0.92312\n",
      "epoch: 01, loss: -0.95320\n",
      "epoch: 02, loss: -0.96053\n",
      "epoch: 03, loss: -0.96475\n",
      "epoch: 04, loss: -0.96765\n",
      "epoch: 05, loss: -0.96981\n",
      "epoch: 06, loss: -0.97152\n",
      "epoch: 07, loss: -0.97289\n",
      "epoch: 08, loss: -0.97406\n",
      "epoch: 09, loss: -0.97506\n",
      "torch.Size([1024, 64])\n"
     ]
    },
    {
     "name": "stderr",
     "output_type": "stream",
     "text": [
      " 12%|█▏        | 118/999 [2:17:39<18:40:44, 76.33s/it]"
     ]
    },
    {
     "name": "stdout",
     "output_type": "stream",
     "text": [
      "eigenvalues shape torch.Size([5]) eigenvectors shape torch.Size([5, 1024])\n",
      "118 /home/phdcs2/Hard_Disk/Datasets/Deep-Spectral-Segmentation/data/object-segmentation/ECSSD/features/0120_resized.pth\n",
      "dict_keys(['k', 'indices', 'file', 'id', 'model_name', 'patch_size', 'shape'])\n",
      "0120_resized\n"
     ]
    },
    {
     "name": "stderr",
     "output_type": "stream",
     "text": [
      "/home/phdcs2/Hard_Disk/Projects/T2I/deep-spectral-segmentation/venv/lib/python3.8/site-packages/sklearn/decomposition/_pca.py:642: RuntimeWarning: invalid value encountered in divide\n",
      "  self.explained_variance_ratio_ = self.explained_variance_ / total_var\n"
     ]
    },
    {
     "name": "stdout",
     "output_type": "stream",
     "text": [
      "Starting Training\n",
      "epoch: 00, loss: -0.91504\n",
      "epoch: 01, loss: -0.95005\n",
      "epoch: 02, loss: -0.95811\n",
      "epoch: 03, loss: -0.96275\n",
      "epoch: 04, loss: -0.96591\n",
      "epoch: 05, loss: -0.96827\n",
      "epoch: 06, loss: -0.97007\n",
      "epoch: 07, loss: -0.97155\n",
      "epoch: 08, loss: -0.97280\n",
      "epoch: 09, loss: -0.97386\n",
      "torch.Size([1024, 64])\n"
     ]
    },
    {
     "name": "stderr",
     "output_type": "stream",
     "text": [
      " 12%|█▏        | 119/999 [2:18:53<18:32:03, 75.82s/it]"
     ]
    },
    {
     "name": "stdout",
     "output_type": "stream",
     "text": [
      "eigenvalues shape torch.Size([5]) eigenvectors shape torch.Size([5, 1024])\n",
      "119 /home/phdcs2/Hard_Disk/Datasets/Deep-Spectral-Segmentation/data/object-segmentation/ECSSD/features/0121_resized.pth\n",
      "dict_keys(['k', 'indices', 'file', 'id', 'model_name', 'patch_size', 'shape'])\n",
      "0121_resized\n",
      "Starting Training\n",
      "epoch: 00, loss: -0.91752\n",
      "epoch: 01, loss: -0.94996\n",
      "epoch: 02, loss: -0.95800\n",
      "epoch: 03, loss: -0.96271\n",
      "epoch: 04, loss: -0.96594\n",
      "epoch: 05, loss: -0.96834\n",
      "epoch: 06, loss: -0.97024\n",
      "epoch: 07, loss: -0.97176\n",
      "epoch: 08, loss: -0.97304\n",
      "epoch: 09, loss: -0.97415\n",
      "torch.Size([1024, 64])\n"
     ]
    },
    {
     "name": "stderr",
     "output_type": "stream",
     "text": [
      " 12%|█▏        | 120/999 [2:20:13<18:46:59, 76.93s/it]"
     ]
    },
    {
     "name": "stdout",
     "output_type": "stream",
     "text": [
      "eigenvalues shape torch.Size([5]) eigenvectors shape torch.Size([5, 1024])\n",
      "120 /home/phdcs2/Hard_Disk/Datasets/Deep-Spectral-Segmentation/data/object-segmentation/ECSSD/features/0122_resized.pth\n",
      "dict_keys(['k', 'indices', 'file', 'id', 'model_name', 'patch_size', 'shape'])\n",
      "0122_resized\n",
      "Starting Training\n",
      "epoch: 00, loss: -0.86877\n",
      "epoch: 01, loss: -0.92391\n",
      "epoch: 02, loss: -0.93726\n",
      "epoch: 03, loss: -0.94471\n",
      "epoch: 04, loss: -0.94976\n",
      "epoch: 05, loss: -0.95347\n",
      "epoch: 06, loss: -0.95621\n",
      "epoch: 07, loss: -0.95852\n",
      "epoch: 08, loss: -0.96049\n",
      "epoch: 09, loss: -0.96214\n",
      "torch.Size([1024, 64])\n"
     ]
    },
    {
     "name": "stderr",
     "output_type": "stream",
     "text": [
      " 12%|█▏        | 121/999 [2:21:27<18:34:01, 76.13s/it]"
     ]
    },
    {
     "name": "stdout",
     "output_type": "stream",
     "text": [
      "eigenvalues shape torch.Size([5]) eigenvectors shape torch.Size([5, 1024])\n",
      "121 /home/phdcs2/Hard_Disk/Datasets/Deep-Spectral-Segmentation/data/object-segmentation/ECSSD/features/0123_resized.pth\n",
      "dict_keys(['k', 'indices', 'file', 'id', 'model_name', 'patch_size', 'shape'])\n",
      "0123_resized\n",
      "Starting Training\n",
      "epoch: 00, loss: -0.84942\n",
      "epoch: 01, loss: -0.91118\n",
      "epoch: 02, loss: -0.92719\n",
      "epoch: 03, loss: -0.93640\n",
      "epoch: 04, loss: -0.94260\n",
      "epoch: 05, loss: -0.94716\n",
      "epoch: 06, loss: -0.95051\n",
      "epoch: 07, loss: -0.95318\n",
      "epoch: 08, loss: -0.95542\n",
      "epoch: 09, loss: -0.95736\n",
      "torch.Size([1024, 64])\n"
     ]
    },
    {
     "name": "stderr",
     "output_type": "stream",
     "text": [
      " 12%|█▏        | 122/999 [2:22:41<18:23:16, 75.48s/it]"
     ]
    },
    {
     "name": "stdout",
     "output_type": "stream",
     "text": [
      "eigenvalues shape torch.Size([5]) eigenvectors shape torch.Size([5, 1024])\n",
      "122 /home/phdcs2/Hard_Disk/Datasets/Deep-Spectral-Segmentation/data/object-segmentation/ECSSD/features/0124_resized.pth\n",
      "dict_keys(['k', 'indices', 'file', 'id', 'model_name', 'patch_size', 'shape'])\n",
      "0124_resized\n"
     ]
    },
    {
     "name": "stderr",
     "output_type": "stream",
     "text": [
      "/home/phdcs2/Hard_Disk/Projects/T2I/deep-spectral-segmentation/venv/lib/python3.8/site-packages/sklearn/decomposition/_pca.py:642: RuntimeWarning: invalid value encountered in divide\n",
      "  self.explained_variance_ratio_ = self.explained_variance_ / total_var\n"
     ]
    },
    {
     "name": "stdout",
     "output_type": "stream",
     "text": [
      "Starting Training\n",
      "epoch: 00, loss: -0.92400\n",
      "epoch: 01, loss: -0.95494\n",
      "epoch: 02, loss: -0.96228\n",
      "epoch: 03, loss: -0.96648\n",
      "epoch: 04, loss: -0.96937\n",
      "epoch: 05, loss: -0.97149\n",
      "epoch: 06, loss: -0.97315\n",
      "epoch: 07, loss: -0.97451\n",
      "epoch: 08, loss: -0.97564\n",
      "epoch: 09, loss: -0.97661\n",
      "torch.Size([1024, 64])\n"
     ]
    },
    {
     "name": "stderr",
     "output_type": "stream",
     "text": [
      " 12%|█▏        | 123/999 [2:23:50<17:51:35, 73.40s/it]"
     ]
    },
    {
     "name": "stdout",
     "output_type": "stream",
     "text": [
      "eigenvalues shape torch.Size([5]) eigenvectors shape torch.Size([5, 1024])\n",
      "123 /home/phdcs2/Hard_Disk/Datasets/Deep-Spectral-Segmentation/data/object-segmentation/ECSSD/features/0125_resized.pth\n",
      "dict_keys(['k', 'indices', 'file', 'id', 'model_name', 'patch_size', 'shape'])\n",
      "0125_resized\n"
     ]
    },
    {
     "name": "stderr",
     "output_type": "stream",
     "text": [
      "/home/phdcs2/Hard_Disk/Projects/T2I/deep-spectral-segmentation/venv/lib/python3.8/site-packages/sklearn/decomposition/_pca.py:642: RuntimeWarning: invalid value encountered in divide\n",
      "  self.explained_variance_ratio_ = self.explained_variance_ / total_var\n"
     ]
    },
    {
     "name": "stdout",
     "output_type": "stream",
     "text": [
      "Starting Training\n",
      "epoch: 00, loss: -0.93676\n",
      "epoch: 01, loss: -0.96250\n",
      "epoch: 02, loss: -0.96823\n",
      "epoch: 03, loss: -0.97157\n",
      "epoch: 04, loss: -0.97387\n",
      "epoch: 05, loss: -0.97556\n",
      "epoch: 06, loss: -0.97690\n",
      "epoch: 07, loss: -0.97799\n",
      "epoch: 08, loss: -0.97890\n",
      "epoch: 09, loss: -0.97967\n",
      "torch.Size([1024, 64])\n"
     ]
    },
    {
     "name": "stderr",
     "output_type": "stream",
     "text": [
      " 12%|█▏        | 124/999 [2:24:58<17:27:05, 71.80s/it]"
     ]
    },
    {
     "name": "stdout",
     "output_type": "stream",
     "text": [
      "eigenvalues shape torch.Size([5]) eigenvectors shape torch.Size([5, 1024])\n",
      "124 /home/phdcs2/Hard_Disk/Datasets/Deep-Spectral-Segmentation/data/object-segmentation/ECSSD/features/0126_resized.pth\n",
      "dict_keys(['k', 'indices', 'file', 'id', 'model_name', 'patch_size', 'shape'])\n",
      "0126_resized\n"
     ]
    },
    {
     "name": "stderr",
     "output_type": "stream",
     "text": [
      "/home/phdcs2/Hard_Disk/Projects/T2I/deep-spectral-segmentation/venv/lib/python3.8/site-packages/sklearn/decomposition/_pca.py:642: RuntimeWarning: invalid value encountered in divide\n",
      "  self.explained_variance_ratio_ = self.explained_variance_ / total_var\n"
     ]
    },
    {
     "name": "stdout",
     "output_type": "stream",
     "text": [
      "Starting Training\n",
      "epoch: 00, loss: -0.92200\n",
      "epoch: 01, loss: -0.95287\n",
      "epoch: 02, loss: -0.96058\n",
      "epoch: 03, loss: -0.96499\n",
      "epoch: 04, loss: -0.96800\n",
      "epoch: 05, loss: -0.97023\n",
      "epoch: 06, loss: -0.97196\n",
      "epoch: 07, loss: -0.97337\n",
      "epoch: 08, loss: -0.97454\n",
      "epoch: 09, loss: -0.97557\n",
      "torch.Size([1024, 64])\n"
     ]
    },
    {
     "name": "stderr",
     "output_type": "stream",
     "text": [
      " 13%|█▎        | 125/999 [2:26:03<16:58:45, 69.94s/it]"
     ]
    },
    {
     "name": "stdout",
     "output_type": "stream",
     "text": [
      "eigenvalues shape torch.Size([5]) eigenvectors shape torch.Size([5, 1024])\n",
      "125 /home/phdcs2/Hard_Disk/Datasets/Deep-Spectral-Segmentation/data/object-segmentation/ECSSD/features/0127_resized.pth\n",
      "dict_keys(['k', 'indices', 'file', 'id', 'model_name', 'patch_size', 'shape'])\n",
      "0127_resized\n",
      "Starting Training\n",
      "epoch: 00, loss: -0.86833\n",
      "epoch: 01, loss: -0.92350\n",
      "epoch: 02, loss: -0.93769\n",
      "epoch: 03, loss: -0.94538\n",
      "epoch: 04, loss: -0.95060\n",
      "epoch: 05, loss: -0.95448\n",
      "epoch: 06, loss: -0.95741\n",
      "epoch: 07, loss: -0.95980\n",
      "epoch: 08, loss: -0.96182\n",
      "epoch: 09, loss: -0.96338\n",
      "torch.Size([1024, 64])\n"
     ]
    },
    {
     "name": "stderr",
     "output_type": "stream",
     "text": [
      " 13%|█▎        | 126/999 [2:27:06<16:24:39, 67.67s/it]"
     ]
    },
    {
     "name": "stdout",
     "output_type": "stream",
     "text": [
      "eigenvalues shape torch.Size([5]) eigenvectors shape torch.Size([5, 1024])\n",
      "126 /home/phdcs2/Hard_Disk/Datasets/Deep-Spectral-Segmentation/data/object-segmentation/ECSSD/features/0128_resized.pth\n",
      "dict_keys(['k', 'indices', 'file', 'id', 'model_name', 'patch_size', 'shape'])\n",
      "0128_resized\n",
      "Starting Training\n",
      "epoch: 00, loss: -0.86072\n",
      "epoch: 01, loss: -0.91664\n",
      "epoch: 02, loss: -0.93063\n",
      "epoch: 03, loss: -0.93855\n",
      "epoch: 04, loss: -0.94407\n",
      "epoch: 05, loss: -0.94804\n",
      "epoch: 06, loss: -0.95126\n",
      "epoch: 07, loss: -0.95381\n",
      "epoch: 08, loss: -0.95590\n",
      "epoch: 09, loss: -0.95763\n",
      "torch.Size([1024, 64])\n"
     ]
    },
    {
     "name": "stderr",
     "output_type": "stream",
     "text": [
      " 13%|█▎        | 127/999 [2:28:07<15:55:29, 65.75s/it]"
     ]
    },
    {
     "name": "stdout",
     "output_type": "stream",
     "text": [
      "eigenvalues shape torch.Size([5]) eigenvectors shape torch.Size([5, 1024])\n",
      "127 /home/phdcs2/Hard_Disk/Datasets/Deep-Spectral-Segmentation/data/object-segmentation/ECSSD/features/0129_resized.pth\n",
      "dict_keys(['k', 'indices', 'file', 'id', 'model_name', 'patch_size', 'shape'])\n",
      "0129_resized\n",
      "Starting Training\n",
      "epoch: 00, loss: -0.87717\n",
      "epoch: 01, loss: -0.92973\n",
      "epoch: 02, loss: -0.94241\n",
      "epoch: 03, loss: -0.94938\n",
      "epoch: 04, loss: -0.95417\n",
      "epoch: 05, loss: -0.95759\n",
      "epoch: 06, loss: -0.96024\n",
      "epoch: 07, loss: -0.96248\n",
      "epoch: 08, loss: -0.96428\n",
      "epoch: 09, loss: -0.96576\n",
      "torch.Size([1024, 64])\n"
     ]
    },
    {
     "name": "stderr",
     "output_type": "stream",
     "text": [
      " 13%|█▎        | 128/999 [2:29:08<15:33:12, 64.29s/it]"
     ]
    },
    {
     "name": "stdout",
     "output_type": "stream",
     "text": [
      "eigenvalues shape torch.Size([5]) eigenvectors shape torch.Size([5, 1024])\n",
      "128 /home/phdcs2/Hard_Disk/Datasets/Deep-Spectral-Segmentation/data/object-segmentation/ECSSD/features/0130_resized.pth\n",
      "dict_keys(['k', 'indices', 'file', 'id', 'model_name', 'patch_size', 'shape'])\n",
      "0130_resized\n",
      "Starting Training\n",
      "epoch: 00, loss: -0.91605\n",
      "epoch: 01, loss: -0.94722\n",
      "epoch: 02, loss: -0.95574\n",
      "epoch: 03, loss: -0.96077\n",
      "epoch: 04, loss: -0.96421\n",
      "epoch: 05, loss: -0.96678\n",
      "epoch: 06, loss: -0.96882\n",
      "epoch: 07, loss: -0.97046\n",
      "epoch: 08, loss: -0.97182\n",
      "epoch: 09, loss: -0.97301\n",
      "torch.Size([1024, 64])\n"
     ]
    },
    {
     "name": "stderr",
     "output_type": "stream",
     "text": [
      " 13%|█▎        | 129/999 [2:30:11<15:26:24, 63.89s/it]"
     ]
    },
    {
     "name": "stdout",
     "output_type": "stream",
     "text": [
      "eigenvalues shape torch.Size([5]) eigenvectors shape torch.Size([5, 1024])\n",
      "129 /home/phdcs2/Hard_Disk/Datasets/Deep-Spectral-Segmentation/data/object-segmentation/ECSSD/features/0131_resized.pth\n",
      "dict_keys(['k', 'indices', 'file', 'id', 'model_name', 'patch_size', 'shape'])\n",
      "0131_resized\n"
     ]
    },
    {
     "name": "stderr",
     "output_type": "stream",
     "text": [
      "/home/phdcs2/Hard_Disk/Projects/T2I/deep-spectral-segmentation/venv/lib/python3.8/site-packages/sklearn/decomposition/_pca.py:642: RuntimeWarning: invalid value encountered in divide\n",
      "  self.explained_variance_ratio_ = self.explained_variance_ / total_var\n"
     ]
    },
    {
     "name": "stdout",
     "output_type": "stream",
     "text": [
      "Starting Training\n",
      "epoch: 00, loss: -0.92956\n",
      "epoch: 01, loss: -0.95617\n",
      "epoch: 02, loss: -0.96274\n",
      "epoch: 03, loss: -0.96658\n",
      "epoch: 04, loss: -0.96924\n",
      "epoch: 05, loss: -0.97117\n",
      "epoch: 06, loss: -0.97274\n",
      "epoch: 07, loss: -0.97401\n",
      "epoch: 08, loss: -0.97509\n",
      "epoch: 09, loss: -0.97599\n",
      "torch.Size([1024, 64])\n"
     ]
    },
    {
     "name": "stderr",
     "output_type": "stream",
     "text": [
      " 13%|█▎        | 130/999 [2:31:13<15:17:17, 63.33s/it]"
     ]
    },
    {
     "name": "stdout",
     "output_type": "stream",
     "text": [
      "eigenvalues shape torch.Size([5]) eigenvectors shape torch.Size([5, 1024])\n",
      "130 /home/phdcs2/Hard_Disk/Datasets/Deep-Spectral-Segmentation/data/object-segmentation/ECSSD/features/0132_resized.pth\n",
      "dict_keys(['k', 'indices', 'file', 'id', 'model_name', 'patch_size', 'shape'])\n",
      "0132_resized\n",
      "Starting Training\n",
      "epoch: 00, loss: -0.87109\n",
      "epoch: 01, loss: -0.92372\n",
      "epoch: 02, loss: -0.93645\n",
      "epoch: 03, loss: -0.94362\n",
      "epoch: 04, loss: -0.94836\n",
      "epoch: 05, loss: -0.95207\n",
      "epoch: 06, loss: -0.95489\n",
      "epoch: 07, loss: -0.95712\n",
      "epoch: 08, loss: -0.95899\n",
      "epoch: 09, loss: -0.96056\n",
      "torch.Size([1024, 64])\n"
     ]
    },
    {
     "name": "stderr",
     "output_type": "stream",
     "text": [
      " 13%|█▎        | 131/999 [2:32:22<15:42:03, 65.12s/it]"
     ]
    },
    {
     "name": "stdout",
     "output_type": "stream",
     "text": [
      "eigenvalues shape torch.Size([5]) eigenvectors shape torch.Size([5, 1024])\n",
      "131 /home/phdcs2/Hard_Disk/Datasets/Deep-Spectral-Segmentation/data/object-segmentation/ECSSD/features/0133_resized.pth\n",
      "dict_keys(['k', 'indices', 'file', 'id', 'model_name', 'patch_size', 'shape'])\n",
      "0133_resized\n",
      "Starting Training\n",
      "epoch: 00, loss: -0.92522\n",
      "epoch: 01, loss: -0.95468\n",
      "epoch: 02, loss: -0.96119\n",
      "epoch: 03, loss: -0.96501\n",
      "epoch: 04, loss: -0.96766\n",
      "epoch: 05, loss: -0.96967\n",
      "epoch: 06, loss: -0.97126\n",
      "epoch: 07, loss: -0.97261\n",
      "epoch: 08, loss: -0.97366\n",
      "epoch: 09, loss: -0.97466\n",
      "torch.Size([1024, 64])\n"
     ]
    },
    {
     "name": "stderr",
     "output_type": "stream",
     "text": [
      " 13%|█▎        | 132/999 [2:33:31<15:56:25, 66.19s/it]"
     ]
    },
    {
     "name": "stdout",
     "output_type": "stream",
     "text": [
      "eigenvalues shape torch.Size([5]) eigenvectors shape torch.Size([5, 1024])\n",
      "132 /home/phdcs2/Hard_Disk/Datasets/Deep-Spectral-Segmentation/data/object-segmentation/ECSSD/features/0134_resized.pth\n",
      "dict_keys(['k', 'indices', 'file', 'id', 'model_name', 'patch_size', 'shape'])\n",
      "0134_resized\n",
      "Starting Training\n",
      "epoch: 00, loss: -0.84164\n",
      "epoch: 01, loss: -0.90443\n",
      "epoch: 02, loss: -0.92139\n",
      "epoch: 03, loss: -0.93089\n",
      "epoch: 04, loss: -0.93736\n",
      "epoch: 05, loss: -0.94191\n",
      "epoch: 06, loss: -0.94546\n",
      "epoch: 07, loss: -0.94851\n",
      "epoch: 08, loss: -0.95091\n",
      "epoch: 09, loss: -0.95283\n",
      "torch.Size([1024, 64])\n"
     ]
    },
    {
     "name": "stderr",
     "output_type": "stream",
     "text": [
      " 13%|█▎        | 133/999 [2:34:35<15:47:08, 65.62s/it]"
     ]
    },
    {
     "name": "stdout",
     "output_type": "stream",
     "text": [
      "eigenvalues shape torch.Size([5]) eigenvectors shape torch.Size([5, 1024])\n",
      "133 /home/phdcs2/Hard_Disk/Datasets/Deep-Spectral-Segmentation/data/object-segmentation/ECSSD/features/0135_resized.pth\n",
      "dict_keys(['k', 'indices', 'file', 'id', 'model_name', 'patch_size', 'shape'])\n",
      "0135_resized\n"
     ]
    },
    {
     "name": "stderr",
     "output_type": "stream",
     "text": [
      "/home/phdcs2/Hard_Disk/Projects/T2I/deep-spectral-segmentation/venv/lib/python3.8/site-packages/sklearn/decomposition/_pca.py:642: RuntimeWarning: invalid value encountered in divide\n",
      "  self.explained_variance_ratio_ = self.explained_variance_ / total_var\n"
     ]
    },
    {
     "name": "stdout",
     "output_type": "stream",
     "text": [
      "Starting Training\n",
      "epoch: 00, loss: -0.92123\n",
      "epoch: 01, loss: -0.95176\n",
      "epoch: 02, loss: -0.95892\n",
      "epoch: 03, loss: -0.96311\n",
      "epoch: 04, loss: -0.96597\n",
      "epoch: 05, loss: -0.96815\n",
      "epoch: 06, loss: -0.96986\n",
      "epoch: 07, loss: -0.97125\n",
      "epoch: 08, loss: -0.97245\n",
      "epoch: 09, loss: -0.97349\n",
      "torch.Size([1024, 64])\n"
     ]
    },
    {
     "name": "stderr",
     "output_type": "stream",
     "text": [
      " 13%|█▎        | 134/999 [2:35:38<15:35:21, 64.88s/it]"
     ]
    },
    {
     "name": "stdout",
     "output_type": "stream",
     "text": [
      "eigenvalues shape torch.Size([5]) eigenvectors shape torch.Size([5, 1024])\n",
      "134 /home/phdcs2/Hard_Disk/Datasets/Deep-Spectral-Segmentation/data/object-segmentation/ECSSD/features/0136_resized.pth\n",
      "dict_keys(['k', 'indices', 'file', 'id', 'model_name', 'patch_size', 'shape'])\n",
      "0136_resized\n",
      "Starting Training\n",
      "epoch: 00, loss: -0.92237\n",
      "epoch: 01, loss: -0.95330\n",
      "epoch: 02, loss: -0.96055\n",
      "epoch: 03, loss: -0.96473\n",
      "epoch: 04, loss: -0.96763\n",
      "epoch: 05, loss: -0.96978\n",
      "epoch: 06, loss: -0.97144\n",
      "epoch: 07, loss: -0.97280\n",
      "epoch: 08, loss: -0.97395\n",
      "epoch: 09, loss: -0.97492\n",
      "torch.Size([1024, 64])\n"
     ]
    },
    {
     "name": "stderr",
     "output_type": "stream",
     "text": [
      " 14%|█▎        | 135/999 [2:36:44<15:39:51, 65.27s/it]"
     ]
    },
    {
     "name": "stdout",
     "output_type": "stream",
     "text": [
      "eigenvalues shape torch.Size([5]) eigenvectors shape torch.Size([5, 1024])\n",
      "135 /home/phdcs2/Hard_Disk/Datasets/Deep-Spectral-Segmentation/data/object-segmentation/ECSSD/features/0137_resized.pth\n",
      "dict_keys(['k', 'indices', 'file', 'id', 'model_name', 'patch_size', 'shape'])\n",
      "0137_resized\n",
      "Starting Training\n",
      "epoch: 00, loss: -0.92517\n",
      "epoch: 01, loss: -0.95720\n",
      "epoch: 02, loss: -0.96387\n",
      "epoch: 03, loss: -0.96771\n",
      "epoch: 04, loss: -0.97033\n",
      "epoch: 05, loss: -0.97228\n",
      "epoch: 06, loss: -0.97385\n",
      "epoch: 07, loss: -0.97507\n",
      "epoch: 08, loss: -0.97611\n",
      "epoch: 09, loss: -0.97700\n",
      "torch.Size([1024, 64])\n"
     ]
    },
    {
     "name": "stderr",
     "output_type": "stream",
     "text": [
      " 14%|█▎        | 136/999 [2:37:47<15:26:10, 64.39s/it]"
     ]
    },
    {
     "name": "stdout",
     "output_type": "stream",
     "text": [
      "eigenvalues shape torch.Size([5]) eigenvectors shape torch.Size([5, 1024])\n",
      "136 /home/phdcs2/Hard_Disk/Datasets/Deep-Spectral-Segmentation/data/object-segmentation/ECSSD/features/0138_resized.pth\n",
      "dict_keys(['k', 'indices', 'file', 'id', 'model_name', 'patch_size', 'shape'])\n",
      "0138_resized\n",
      "Starting Training\n",
      "epoch: 00, loss: -0.88579\n",
      "epoch: 01, loss: -0.93076\n",
      "epoch: 02, loss: -0.94247\n",
      "epoch: 03, loss: -0.94924\n",
      "epoch: 04, loss: -0.95367\n",
      "epoch: 05, loss: -0.95702\n",
      "epoch: 06, loss: -0.95974\n",
      "epoch: 07, loss: -0.96174\n",
      "epoch: 08, loss: -0.96354\n",
      "epoch: 09, loss: -0.96502\n",
      "torch.Size([1024, 64])\n"
     ]
    },
    {
     "name": "stderr",
     "output_type": "stream",
     "text": [
      " 14%|█▎        | 137/999 [2:38:58<15:56:49, 66.60s/it]"
     ]
    },
    {
     "name": "stdout",
     "output_type": "stream",
     "text": [
      "eigenvalues shape torch.Size([5]) eigenvectors shape torch.Size([5, 1024])\n",
      "137 /home/phdcs2/Hard_Disk/Datasets/Deep-Spectral-Segmentation/data/object-segmentation/ECSSD/features/0139_resized.pth\n",
      "dict_keys(['k', 'indices', 'file', 'id', 'model_name', 'patch_size', 'shape'])\n",
      "0139_resized\n",
      "Starting Training\n",
      "epoch: 00, loss: -0.91881\n",
      "epoch: 01, loss: -0.95180\n",
      "epoch: 02, loss: -0.95950\n",
      "epoch: 03, loss: -0.96400\n",
      "epoch: 04, loss: -0.96697\n",
      "epoch: 05, loss: -0.96915\n",
      "epoch: 06, loss: -0.97089\n",
      "epoch: 07, loss: -0.97233\n",
      "epoch: 08, loss: -0.97349\n",
      "epoch: 09, loss: -0.97458\n",
      "torch.Size([1024, 64])\n"
     ]
    },
    {
     "name": "stderr",
     "output_type": "stream",
     "text": [
      " 14%|█▍        | 138/999 [2:40:10<16:18:58, 68.22s/it]"
     ]
    },
    {
     "name": "stdout",
     "output_type": "stream",
     "text": [
      "eigenvalues shape torch.Size([5]) eigenvectors shape torch.Size([5, 1024])\n",
      "138 /home/phdcs2/Hard_Disk/Datasets/Deep-Spectral-Segmentation/data/object-segmentation/ECSSD/features/0140_resized.pth\n",
      "dict_keys(['k', 'indices', 'file', 'id', 'model_name', 'patch_size', 'shape'])\n",
      "0140_resized\n",
      "Starting Training\n",
      "epoch: 00, loss: -0.92152\n",
      "epoch: 01, loss: -0.95333\n",
      "epoch: 02, loss: -0.96039\n",
      "epoch: 03, loss: -0.96454\n",
      "epoch: 04, loss: -0.96730\n",
      "epoch: 05, loss: -0.96941\n",
      "epoch: 06, loss: -0.97104\n",
      "epoch: 07, loss: -0.97237\n",
      "epoch: 08, loss: -0.97351\n",
      "epoch: 09, loss: -0.97447\n",
      "torch.Size([1024, 64])\n"
     ]
    },
    {
     "name": "stderr",
     "output_type": "stream",
     "text": [
      " 14%|█▍        | 139/999 [2:41:24<16:41:25, 69.87s/it]"
     ]
    },
    {
     "name": "stdout",
     "output_type": "stream",
     "text": [
      "eigenvalues shape torch.Size([5]) eigenvectors shape torch.Size([5, 1024])\n",
      "139 /home/phdcs2/Hard_Disk/Datasets/Deep-Spectral-Segmentation/data/object-segmentation/ECSSD/features/0141_resized.pth\n",
      "dict_keys(['k', 'indices', 'file', 'id', 'model_name', 'patch_size', 'shape'])\n",
      "0141_resized\n"
     ]
    },
    {
     "name": "stderr",
     "output_type": "stream",
     "text": [
      "/home/phdcs2/Hard_Disk/Projects/T2I/deep-spectral-segmentation/venv/lib/python3.8/site-packages/sklearn/decomposition/_pca.py:642: RuntimeWarning: invalid value encountered in divide\n",
      "  self.explained_variance_ratio_ = self.explained_variance_ / total_var\n"
     ]
    },
    {
     "name": "stdout",
     "output_type": "stream",
     "text": [
      "Starting Training\n",
      "epoch: 00, loss: -0.92023\n",
      "epoch: 01, loss: -0.95315\n",
      "epoch: 02, loss: -0.96041\n",
      "epoch: 03, loss: -0.96459\n",
      "epoch: 04, loss: -0.96742\n",
      "epoch: 05, loss: -0.96953\n",
      "epoch: 06, loss: -0.97119\n",
      "epoch: 07, loss: -0.97252\n",
      "epoch: 08, loss: -0.97365\n",
      "epoch: 09, loss: -0.97461\n",
      "torch.Size([1024, 64])\n"
     ]
    },
    {
     "name": "stderr",
     "output_type": "stream",
     "text": [
      " 14%|█▍        | 140/999 [2:42:37<16:53:44, 70.81s/it]"
     ]
    },
    {
     "name": "stdout",
     "output_type": "stream",
     "text": [
      "eigenvalues shape torch.Size([5]) eigenvectors shape torch.Size([5, 1024])\n",
      "140 /home/phdcs2/Hard_Disk/Datasets/Deep-Spectral-Segmentation/data/object-segmentation/ECSSD/features/0142_resized.pth\n",
      "dict_keys(['k', 'indices', 'file', 'id', 'model_name', 'patch_size', 'shape'])\n",
      "0142_resized\n",
      "Starting Training\n",
      "epoch: 00, loss: -0.88725\n",
      "epoch: 01, loss: -0.93160\n",
      "epoch: 02, loss: -0.94297\n",
      "epoch: 03, loss: -0.94956\n",
      "epoch: 04, loss: -0.95399\n",
      "epoch: 05, loss: -0.95731\n",
      "epoch: 06, loss: -0.95982\n",
      "epoch: 07, loss: -0.96200\n",
      "epoch: 08, loss: -0.96372\n",
      "epoch: 09, loss: -0.96519\n",
      "torch.Size([1024, 64])\n"
     ]
    },
    {
     "name": "stderr",
     "output_type": "stream",
     "text": [
      " 14%|█▍        | 141/999 [2:43:44<16:34:08, 69.52s/it]"
     ]
    },
    {
     "name": "stdout",
     "output_type": "stream",
     "text": [
      "eigenvalues shape torch.Size([5]) eigenvectors shape torch.Size([5, 1024])\n",
      "141 /home/phdcs2/Hard_Disk/Datasets/Deep-Spectral-Segmentation/data/object-segmentation/ECSSD/features/0143_resized.pth\n",
      "dict_keys(['k', 'indices', 'file', 'id', 'model_name', 'patch_size', 'shape'])\n",
      "0143_resized\n",
      "Starting Training\n",
      "epoch: 00, loss: -0.91295\n",
      "epoch: 01, loss: -0.94692\n",
      "epoch: 02, loss: -0.95482\n",
      "epoch: 03, loss: -0.95943\n",
      "epoch: 04, loss: -0.96257\n",
      "epoch: 05, loss: -0.96494\n",
      "epoch: 06, loss: -0.96679\n",
      "epoch: 07, loss: -0.96831\n",
      "epoch: 08, loss: -0.96960\n",
      "epoch: 09, loss: -0.97066\n",
      "torch.Size([1024, 64])\n"
     ]
    },
    {
     "name": "stderr",
     "output_type": "stream",
     "text": [
      " 14%|█▍        | 142/999 [2:44:52<16:28:33, 69.21s/it]"
     ]
    },
    {
     "name": "stdout",
     "output_type": "stream",
     "text": [
      "eigenvalues shape torch.Size([5]) eigenvectors shape torch.Size([5, 1024])\n",
      "142 /home/phdcs2/Hard_Disk/Datasets/Deep-Spectral-Segmentation/data/object-segmentation/ECSSD/features/0144_resized.pth\n",
      "dict_keys(['k', 'indices', 'file', 'id', 'model_name', 'patch_size', 'shape'])\n",
      "0144_resized\n",
      "Starting Training\n",
      "epoch: 00, loss: -0.93740\n",
      "epoch: 01, loss: -0.96221\n",
      "epoch: 02, loss: -0.96809\n",
      "epoch: 03, loss: -0.97150\n",
      "epoch: 04, loss: -0.97388\n",
      "epoch: 05, loss: -0.97561\n",
      "epoch: 06, loss: -0.97700\n",
      "epoch: 07, loss: -0.97812\n",
      "epoch: 08, loss: -0.97907\n",
      "epoch: 09, loss: -0.97987\n",
      "torch.Size([1024, 64])\n"
     ]
    },
    {
     "name": "stderr",
     "output_type": "stream",
     "text": [
      " 14%|█▍        | 143/999 [2:45:58<16:14:09, 68.28s/it]"
     ]
    },
    {
     "name": "stdout",
     "output_type": "stream",
     "text": [
      "eigenvalues shape torch.Size([5]) eigenvectors shape torch.Size([5, 1024])\n",
      "143 /home/phdcs2/Hard_Disk/Datasets/Deep-Spectral-Segmentation/data/object-segmentation/ECSSD/features/0145_resized.pth\n",
      "dict_keys(['k', 'indices', 'file', 'id', 'model_name', 'patch_size', 'shape'])\n",
      "0145_resized\n",
      "Starting Training\n",
      "epoch: 00, loss: -0.89154\n",
      "epoch: 01, loss: -0.93643\n",
      "epoch: 02, loss: -0.94737\n",
      "epoch: 03, loss: -0.95374\n",
      "epoch: 04, loss: -0.95803\n",
      "epoch: 05, loss: -0.96104\n",
      "epoch: 06, loss: -0.96351\n",
      "epoch: 07, loss: -0.96543\n",
      "epoch: 08, loss: -0.96700\n",
      "epoch: 09, loss: -0.96836\n",
      "torch.Size([1024, 64])\n"
     ]
    },
    {
     "name": "stderr",
     "output_type": "stream",
     "text": [
      " 14%|█▍        | 144/999 [2:47:06<16:09:26, 68.03s/it]"
     ]
    },
    {
     "name": "stdout",
     "output_type": "stream",
     "text": [
      "eigenvalues shape torch.Size([5]) eigenvectors shape torch.Size([5, 1024])\n",
      "144 /home/phdcs2/Hard_Disk/Datasets/Deep-Spectral-Segmentation/data/object-segmentation/ECSSD/features/0146_resized.pth\n",
      "dict_keys(['k', 'indices', 'file', 'id', 'model_name', 'patch_size', 'shape'])\n",
      "0146_resized\n",
      "Starting Training\n",
      "epoch: 00, loss: -0.87972\n",
      "epoch: 01, loss: -0.92870\n",
      "epoch: 02, loss: -0.94118\n",
      "epoch: 03, loss: -0.94815\n",
      "epoch: 04, loss: -0.95293\n",
      "epoch: 05, loss: -0.95652\n",
      "epoch: 06, loss: -0.95916\n",
      "epoch: 07, loss: -0.96137\n",
      "epoch: 08, loss: -0.96308\n",
      "epoch: 09, loss: -0.96470\n",
      "torch.Size([1024, 64])\n"
     ]
    },
    {
     "name": "stderr",
     "output_type": "stream",
     "text": [
      " 15%|█▍        | 145/999 [2:48:09<15:47:45, 66.59s/it]"
     ]
    },
    {
     "name": "stdout",
     "output_type": "stream",
     "text": [
      "eigenvalues shape torch.Size([5]) eigenvectors shape torch.Size([5, 1024])\n",
      "145 /home/phdcs2/Hard_Disk/Datasets/Deep-Spectral-Segmentation/data/object-segmentation/ECSSD/features/0147_resized.pth\n",
      "dict_keys(['k', 'indices', 'file', 'id', 'model_name', 'patch_size', 'shape'])\n",
      "0147_resized\n"
     ]
    },
    {
     "name": "stderr",
     "output_type": "stream",
     "text": [
      "/home/phdcs2/Hard_Disk/Projects/T2I/deep-spectral-segmentation/venv/lib/python3.8/site-packages/sklearn/decomposition/_pca.py:642: RuntimeWarning: invalid value encountered in divide\n",
      "  self.explained_variance_ratio_ = self.explained_variance_ / total_var\n"
     ]
    },
    {
     "name": "stdout",
     "output_type": "stream",
     "text": [
      "Starting Training\n",
      "epoch: 00, loss: -0.91134\n",
      "epoch: 01, loss: -0.94743\n",
      "epoch: 02, loss: -0.95599\n",
      "epoch: 03, loss: -0.96083\n",
      "epoch: 04, loss: -0.96424\n",
      "epoch: 05, loss: -0.96664\n",
      "epoch: 06, loss: -0.96856\n",
      "epoch: 07, loss: -0.97014\n",
      "epoch: 08, loss: -0.97143\n",
      "epoch: 09, loss: -0.97253\n",
      "torch.Size([1024, 64])\n"
     ]
    },
    {
     "name": "stderr",
     "output_type": "stream",
     "text": [
      " 15%|█▍        | 146/999 [2:49:10<15:23:50, 64.98s/it]"
     ]
    },
    {
     "name": "stdout",
     "output_type": "stream",
     "text": [
      "eigenvalues shape torch.Size([5]) eigenvectors shape torch.Size([5, 1024])\n",
      "146 /home/phdcs2/Hard_Disk/Datasets/Deep-Spectral-Segmentation/data/object-segmentation/ECSSD/features/0148_resized.pth\n",
      "dict_keys(['k', 'indices', 'file', 'id', 'model_name', 'patch_size', 'shape'])\n",
      "0148_resized\n"
     ]
    },
    {
     "name": "stderr",
     "output_type": "stream",
     "text": [
      "/home/phdcs2/Hard_Disk/Projects/T2I/deep-spectral-segmentation/venv/lib/python3.8/site-packages/sklearn/decomposition/_pca.py:642: RuntimeWarning: invalid value encountered in divide\n",
      "  self.explained_variance_ratio_ = self.explained_variance_ / total_var\n"
     ]
    },
    {
     "name": "stdout",
     "output_type": "stream",
     "text": [
      "Starting Training\n",
      "epoch: 00, loss: -0.92152\n",
      "epoch: 01, loss: -0.95190\n",
      "epoch: 02, loss: -0.95916\n",
      "epoch: 03, loss: -0.96342\n",
      "epoch: 04, loss: -0.96633\n",
      "epoch: 05, loss: -0.96853\n",
      "epoch: 06, loss: -0.97026\n",
      "epoch: 07, loss: -0.97166\n",
      "epoch: 08, loss: -0.97283\n",
      "epoch: 09, loss: -0.97384\n",
      "torch.Size([1024, 64])\n"
     ]
    },
    {
     "name": "stderr",
     "output_type": "stream",
     "text": [
      " 15%|█▍        | 147/999 [2:50:08<14:53:41, 62.94s/it]"
     ]
    },
    {
     "name": "stdout",
     "output_type": "stream",
     "text": [
      "eigenvalues shape torch.Size([5]) eigenvectors shape torch.Size([5, 1024])\n",
      "147 /home/phdcs2/Hard_Disk/Datasets/Deep-Spectral-Segmentation/data/object-segmentation/ECSSD/features/0149_resized.pth\n",
      "dict_keys(['k', 'indices', 'file', 'id', 'model_name', 'patch_size', 'shape'])\n",
      "0149_resized\n"
     ]
    },
    {
     "name": "stderr",
     "output_type": "stream",
     "text": [
      "/home/phdcs2/Hard_Disk/Projects/T2I/deep-spectral-segmentation/venv/lib/python3.8/site-packages/sklearn/decomposition/_pca.py:642: RuntimeWarning: invalid value encountered in divide\n",
      "  self.explained_variance_ratio_ = self.explained_variance_ / total_var\n"
     ]
    },
    {
     "name": "stdout",
     "output_type": "stream",
     "text": [
      "Starting Training\n",
      "epoch: 00, loss: -0.94070\n",
      "epoch: 01, loss: -0.96403\n",
      "epoch: 02, loss: -0.96927\n",
      "epoch: 03, loss: -0.97227\n",
      "epoch: 04, loss: -0.97436\n",
      "epoch: 05, loss: -0.97591\n",
      "epoch: 06, loss: -0.97714\n",
      "epoch: 07, loss: -0.97818\n",
      "epoch: 08, loss: -0.97899\n",
      "epoch: 09, loss: -0.97972\n",
      "torch.Size([1024, 64])\n"
     ]
    },
    {
     "name": "stderr",
     "output_type": "stream",
     "text": [
      " 15%|█▍        | 148/999 [2:51:05<14:25:07, 61.00s/it]"
     ]
    },
    {
     "name": "stdout",
     "output_type": "stream",
     "text": [
      "eigenvalues shape torch.Size([5]) eigenvectors shape torch.Size([5, 1024])\n",
      "148 /home/phdcs2/Hard_Disk/Datasets/Deep-Spectral-Segmentation/data/object-segmentation/ECSSD/features/0150_resized.pth\n",
      "dict_keys(['k', 'indices', 'file', 'id', 'model_name', 'patch_size', 'shape'])\n",
      "0150_resized\n"
     ]
    },
    {
     "name": "stderr",
     "output_type": "stream",
     "text": [
      "/home/phdcs2/Hard_Disk/Projects/T2I/deep-spectral-segmentation/venv/lib/python3.8/site-packages/sklearn/decomposition/_pca.py:642: RuntimeWarning: invalid value encountered in divide\n",
      "  self.explained_variance_ratio_ = self.explained_variance_ / total_var\n"
     ]
    },
    {
     "name": "stdout",
     "output_type": "stream",
     "text": [
      "Starting Training\n",
      "epoch: 00, loss: -0.91875\n",
      "epoch: 01, loss: -0.95174\n",
      "epoch: 02, loss: -0.95941\n",
      "epoch: 03, loss: -0.96380\n",
      "epoch: 04, loss: -0.96676\n",
      "epoch: 05, loss: -0.96898\n",
      "epoch: 06, loss: -0.97067\n",
      "epoch: 07, loss: -0.97208\n",
      "epoch: 08, loss: -0.97326\n",
      "epoch: 09, loss: -0.97425\n",
      "torch.Size([1024, 64])\n"
     ]
    },
    {
     "name": "stderr",
     "output_type": "stream",
     "text": [
      " 15%|█▍        | 149/999 [2:52:07<14:30:39, 61.46s/it]"
     ]
    },
    {
     "name": "stdout",
     "output_type": "stream",
     "text": [
      "eigenvalues shape torch.Size([5]) eigenvectors shape torch.Size([5, 1024])\n",
      "149 /home/phdcs2/Hard_Disk/Datasets/Deep-Spectral-Segmentation/data/object-segmentation/ECSSD/features/0151_resized.pth\n",
      "dict_keys(['k', 'indices', 'file', 'id', 'model_name', 'patch_size', 'shape'])\n",
      "0151_resized\n",
      "Starting Training\n",
      "epoch: 00, loss: -0.93303\n",
      "epoch: 01, loss: -0.96167\n",
      "epoch: 02, loss: -0.96743\n",
      "epoch: 03, loss: -0.97079\n",
      "epoch: 04, loss: -0.97307\n",
      "epoch: 05, loss: -0.97481\n",
      "epoch: 06, loss: -0.97616\n",
      "epoch: 07, loss: -0.97729\n",
      "epoch: 08, loss: -0.97822\n",
      "epoch: 09, loss: -0.97900\n",
      "torch.Size([1024, 64])\n"
     ]
    },
    {
     "name": "stderr",
     "output_type": "stream",
     "text": [
      " 15%|█▌        | 150/999 [2:53:13<14:45:17, 62.56s/it]"
     ]
    },
    {
     "name": "stdout",
     "output_type": "stream",
     "text": [
      "eigenvalues shape torch.Size([5]) eigenvectors shape torch.Size([5, 1024])\n",
      "150 /home/phdcs2/Hard_Disk/Datasets/Deep-Spectral-Segmentation/data/object-segmentation/ECSSD/features/0152_resized.pth\n",
      "dict_keys(['k', 'indices', 'file', 'id', 'model_name', 'patch_size', 'shape'])\n",
      "0152_resized\n",
      "Starting Training\n",
      "epoch: 00, loss: -0.87749\n",
      "epoch: 01, loss: -0.92817\n",
      "epoch: 02, loss: -0.94040\n",
      "epoch: 03, loss: -0.94733\n",
      "epoch: 04, loss: -0.95176\n",
      "epoch: 05, loss: -0.95511\n",
      "epoch: 06, loss: -0.95783\n",
      "epoch: 07, loss: -0.95985\n",
      "epoch: 08, loss: -0.96176\n",
      "epoch: 09, loss: -0.96319\n",
      "torch.Size([1024, 64])\n"
     ]
    },
    {
     "name": "stderr",
     "output_type": "stream",
     "text": [
      " 15%|█▌        | 151/999 [2:54:13<14:35:55, 61.98s/it]"
     ]
    },
    {
     "name": "stdout",
     "output_type": "stream",
     "text": [
      "eigenvalues shape torch.Size([5]) eigenvectors shape torch.Size([5, 1024])\n",
      "151 /home/phdcs2/Hard_Disk/Datasets/Deep-Spectral-Segmentation/data/object-segmentation/ECSSD/features/0153_resized.pth\n",
      "dict_keys(['k', 'indices', 'file', 'id', 'model_name', 'patch_size', 'shape'])\n",
      "0153_resized\n",
      "Starting Training\n",
      "epoch: 00, loss: -0.92668\n",
      "epoch: 01, loss: -0.95740\n",
      "epoch: 02, loss: -0.96442\n",
      "epoch: 03, loss: -0.96838\n",
      "epoch: 04, loss: -0.97109\n",
      "epoch: 05, loss: -0.97310\n",
      "epoch: 06, loss: -0.97467\n",
      "epoch: 07, loss: -0.97595\n",
      "epoch: 08, loss: -0.97700\n",
      "epoch: 09, loss: -0.97790\n",
      "torch.Size([1024, 64])\n"
     ]
    },
    {
     "name": "stderr",
     "output_type": "stream",
     "text": [
      " 15%|█▌        | 152/999 [2:55:25<15:18:01, 65.03s/it]"
     ]
    },
    {
     "name": "stdout",
     "output_type": "stream",
     "text": [
      "eigenvalues shape torch.Size([5]) eigenvectors shape torch.Size([5, 1024])\n",
      "152 /home/phdcs2/Hard_Disk/Datasets/Deep-Spectral-Segmentation/data/object-segmentation/ECSSD/features/0154_resized.pth\n",
      "dict_keys(['k', 'indices', 'file', 'id', 'model_name', 'patch_size', 'shape'])\n",
      "0154_resized\n",
      "Starting Training\n",
      "epoch: 00, loss: -0.86503\n",
      "epoch: 01, loss: -0.91878\n",
      "epoch: 02, loss: -0.93252\n",
      "epoch: 03, loss: -0.94036\n",
      "epoch: 04, loss: -0.94550\n",
      "epoch: 05, loss: -0.94935\n",
      "epoch: 06, loss: -0.95238\n",
      "epoch: 07, loss: -0.95479\n",
      "epoch: 08, loss: -0.95677\n",
      "epoch: 09, loss: -0.95852\n",
      "torch.Size([1024, 64])\n"
     ]
    },
    {
     "name": "stderr",
     "output_type": "stream",
     "text": [
      " 15%|█▌        | 153/999 [2:56:30<15:13:51, 64.81s/it]"
     ]
    },
    {
     "name": "stdout",
     "output_type": "stream",
     "text": [
      "eigenvalues shape torch.Size([5]) eigenvectors shape torch.Size([5, 1024])\n",
      "153 /home/phdcs2/Hard_Disk/Datasets/Deep-Spectral-Segmentation/data/object-segmentation/ECSSD/features/0155_resized.pth\n",
      "dict_keys(['k', 'indices', 'file', 'id', 'model_name', 'patch_size', 'shape'])\n",
      "0155_resized\n"
     ]
    },
    {
     "name": "stderr",
     "output_type": "stream",
     "text": [
      "/home/phdcs2/Hard_Disk/Projects/T2I/deep-spectral-segmentation/venv/lib/python3.8/site-packages/sklearn/decomposition/_pca.py:642: RuntimeWarning: invalid value encountered in divide\n",
      "  self.explained_variance_ratio_ = self.explained_variance_ / total_var\n"
     ]
    },
    {
     "name": "stdout",
     "output_type": "stream",
     "text": [
      "Starting Training\n",
      "epoch: 00, loss: -0.90670\n",
      "epoch: 01, loss: -0.94349\n",
      "epoch: 02, loss: -0.95213\n",
      "epoch: 03, loss: -0.95714\n",
      "epoch: 04, loss: -0.96062\n",
      "epoch: 05, loss: -0.96319\n",
      "epoch: 06, loss: -0.96522\n",
      "epoch: 07, loss: -0.96687\n",
      "epoch: 08, loss: -0.96826\n",
      "epoch: 09, loss: -0.96946\n",
      "torch.Size([1024, 64])\n"
     ]
    },
    {
     "name": "stderr",
     "output_type": "stream",
     "text": [
      " 15%|█▌        | 154/999 [2:57:37<15:24:46, 65.66s/it]"
     ]
    },
    {
     "name": "stdout",
     "output_type": "stream",
     "text": [
      "eigenvalues shape torch.Size([5]) eigenvectors shape torch.Size([5, 1024])\n",
      "154 /home/phdcs2/Hard_Disk/Datasets/Deep-Spectral-Segmentation/data/object-segmentation/ECSSD/features/0156_resized.pth\n",
      "dict_keys(['k', 'indices', 'file', 'id', 'model_name', 'patch_size', 'shape'])\n",
      "0156_resized\n",
      "Starting Training\n",
      "epoch: 00, loss: -0.84357\n",
      "epoch: 01, loss: -0.90703\n",
      "epoch: 02, loss: -0.92372\n",
      "epoch: 03, loss: -0.93300\n",
      "epoch: 04, loss: -0.93889\n",
      "epoch: 05, loss: -0.94322\n",
      "epoch: 06, loss: -0.94664\n",
      "epoch: 07, loss: -0.94945\n",
      "epoch: 08, loss: -0.95171\n",
      "epoch: 09, loss: -0.95359\n",
      "torch.Size([1024, 64])\n"
     ]
    },
    {
     "name": "stderr",
     "output_type": "stream",
     "text": [
      " 16%|█▌        | 155/999 [2:58:50<15:52:20, 67.70s/it]"
     ]
    },
    {
     "name": "stdout",
     "output_type": "stream",
     "text": [
      "eigenvalues shape torch.Size([5]) eigenvectors shape torch.Size([5, 1024])\n",
      "155 /home/phdcs2/Hard_Disk/Datasets/Deep-Spectral-Segmentation/data/object-segmentation/ECSSD/features/0157_resized.pth\n",
      "dict_keys(['k', 'indices', 'file', 'id', 'model_name', 'patch_size', 'shape'])\n",
      "0157_resized\n",
      "Starting Training\n",
      "epoch: 00, loss: -0.87129\n",
      "epoch: 01, loss: -0.92237\n",
      "epoch: 02, loss: -0.93519\n",
      "epoch: 03, loss: -0.94238\n",
      "epoch: 04, loss: -0.94720\n",
      "epoch: 05, loss: -0.95083\n",
      "epoch: 06, loss: -0.95350\n",
      "epoch: 07, loss: -0.95578\n",
      "epoch: 08, loss: -0.95764\n",
      "epoch: 09, loss: -0.95917\n",
      "torch.Size([1024, 64])\n"
     ]
    },
    {
     "name": "stderr",
     "output_type": "stream",
     "text": [
      " 16%|█▌        | 156/999 [3:00:01<16:06:33, 68.79s/it]"
     ]
    },
    {
     "name": "stdout",
     "output_type": "stream",
     "text": [
      "eigenvalues shape torch.Size([5]) eigenvectors shape torch.Size([5, 1024])\n",
      "156 /home/phdcs2/Hard_Disk/Datasets/Deep-Spectral-Segmentation/data/object-segmentation/ECSSD/features/0158_resized.pth\n",
      "dict_keys(['k', 'indices', 'file', 'id', 'model_name', 'patch_size', 'shape'])\n",
      "0158_resized\n",
      "Starting Training\n",
      "epoch: 00, loss: -0.90830\n",
      "epoch: 01, loss: -0.94306\n",
      "epoch: 02, loss: -0.95067\n",
      "epoch: 03, loss: -0.95549\n",
      "epoch: 04, loss: -0.95884\n",
      "epoch: 05, loss: -0.96138\n",
      "epoch: 06, loss: -0.96337\n",
      "epoch: 07, loss: -0.96488\n",
      "epoch: 08, loss: -0.96628\n",
      "epoch: 09, loss: -0.96740\n",
      "torch.Size([1024, 64])\n"
     ]
    },
    {
     "name": "stderr",
     "output_type": "stream",
     "text": [
      " 16%|█▌        | 157/999 [3:01:10<16:06:39, 68.88s/it]"
     ]
    },
    {
     "name": "stdout",
     "output_type": "stream",
     "text": [
      "eigenvalues shape torch.Size([5]) eigenvectors shape torch.Size([5, 1024])\n",
      "157 /home/phdcs2/Hard_Disk/Datasets/Deep-Spectral-Segmentation/data/object-segmentation/ECSSD/features/0159_resized.pth\n",
      "dict_keys(['k', 'indices', 'file', 'id', 'model_name', 'patch_size', 'shape'])\n",
      "0159_resized\n"
     ]
    },
    {
     "name": "stderr",
     "output_type": "stream",
     "text": [
      "/home/phdcs2/Hard_Disk/Projects/T2I/deep-spectral-segmentation/venv/lib/python3.8/site-packages/sklearn/decomposition/_pca.py:642: RuntimeWarning: invalid value encountered in divide\n",
      "  self.explained_variance_ratio_ = self.explained_variance_ / total_var\n"
     ]
    },
    {
     "name": "stdout",
     "output_type": "stream",
     "text": [
      "Starting Training\n",
      "epoch: 00, loss: -0.91415\n",
      "epoch: 01, loss: -0.95116\n",
      "epoch: 02, loss: -0.95867\n",
      "epoch: 03, loss: -0.96296\n",
      "epoch: 04, loss: -0.96591\n",
      "epoch: 05, loss: -0.96810\n",
      "epoch: 06, loss: -0.96981\n",
      "epoch: 07, loss: -0.97118\n",
      "epoch: 08, loss: -0.97235\n",
      "epoch: 09, loss: -0.97332\n",
      "torch.Size([1024, 64])\n"
     ]
    },
    {
     "name": "stderr",
     "output_type": "stream",
     "text": [
      " 16%|█▌        | 158/999 [3:02:15<15:50:26, 67.81s/it]"
     ]
    },
    {
     "name": "stdout",
     "output_type": "stream",
     "text": [
      "eigenvalues shape torch.Size([5]) eigenvectors shape torch.Size([5, 1024])\n",
      "158 /home/phdcs2/Hard_Disk/Datasets/Deep-Spectral-Segmentation/data/object-segmentation/ECSSD/features/0160_resized.pth\n",
      "dict_keys(['k', 'indices', 'file', 'id', 'model_name', 'patch_size', 'shape'])\n",
      "0160_resized\n",
      "Starting Training\n",
      "epoch: 00, loss: -0.86721\n",
      "epoch: 01, loss: -0.92176\n",
      "epoch: 02, loss: -0.93548\n",
      "epoch: 03, loss: -0.94323\n",
      "epoch: 04, loss: -0.94836\n",
      "epoch: 05, loss: -0.95225\n",
      "epoch: 06, loss: -0.95518\n",
      "epoch: 07, loss: -0.95749\n",
      "epoch: 08, loss: -0.95948\n",
      "epoch: 09, loss: -0.96118\n",
      "torch.Size([1024, 64])\n"
     ]
    },
    {
     "name": "stderr",
     "output_type": "stream",
     "text": [
      " 16%|█▌        | 159/999 [3:03:20<15:36:42, 66.91s/it]"
     ]
    },
    {
     "name": "stdout",
     "output_type": "stream",
     "text": [
      "eigenvalues shape torch.Size([5]) eigenvectors shape torch.Size([5, 1024])\n",
      "159 /home/phdcs2/Hard_Disk/Datasets/Deep-Spectral-Segmentation/data/object-segmentation/ECSSD/features/0161_resized.pth\n",
      "dict_keys(['k', 'indices', 'file', 'id', 'model_name', 'patch_size', 'shape'])\n",
      "0161_resized\n",
      "Starting Training\n",
      "epoch: 00, loss: -0.91144\n",
      "epoch: 01, loss: -0.94540\n",
      "epoch: 02, loss: -0.95331\n",
      "epoch: 03, loss: -0.95793\n",
      "epoch: 04, loss: -0.96114\n",
      "epoch: 05, loss: -0.96359\n",
      "epoch: 06, loss: -0.96547\n",
      "epoch: 07, loss: -0.96700\n",
      "epoch: 08, loss: -0.96832\n",
      "epoch: 09, loss: -0.96945\n",
      "torch.Size([1024, 64])\n"
     ]
    },
    {
     "name": "stderr",
     "output_type": "stream",
     "text": [
      " 16%|█▌        | 160/999 [3:04:32<15:56:38, 68.41s/it]"
     ]
    },
    {
     "name": "stdout",
     "output_type": "stream",
     "text": [
      "eigenvalues shape torch.Size([5]) eigenvectors shape torch.Size([5, 1024])\n",
      "160 /home/phdcs2/Hard_Disk/Datasets/Deep-Spectral-Segmentation/data/object-segmentation/ECSSD/features/0162_resized.pth\n",
      "dict_keys(['k', 'indices', 'file', 'id', 'model_name', 'patch_size', 'shape'])\n",
      "0162_resized\n"
     ]
    },
    {
     "name": "stderr",
     "output_type": "stream",
     "text": [
      "/home/phdcs2/Hard_Disk/Projects/T2I/deep-spectral-segmentation/venv/lib/python3.8/site-packages/sklearn/decomposition/_pca.py:642: RuntimeWarning: invalid value encountered in divide\n",
      "  self.explained_variance_ratio_ = self.explained_variance_ / total_var\n"
     ]
    },
    {
     "name": "stdout",
     "output_type": "stream",
     "text": [
      "Starting Training\n",
      "epoch: 00, loss: -0.90700\n",
      "epoch: 01, loss: -0.94260\n",
      "epoch: 02, loss: -0.95108\n",
      "epoch: 03, loss: -0.95605\n",
      "epoch: 04, loss: -0.95952\n",
      "epoch: 05, loss: -0.96213\n",
      "epoch: 06, loss: -0.96420\n",
      "epoch: 07, loss: -0.96586\n",
      "epoch: 08, loss: -0.96729\n",
      "epoch: 09, loss: -0.96848\n",
      "torch.Size([1024, 64])\n"
     ]
    },
    {
     "name": "stderr",
     "output_type": "stream",
     "text": [
      " 16%|█▌        | 161/999 [3:05:46<16:19:09, 70.11s/it]"
     ]
    },
    {
     "name": "stdout",
     "output_type": "stream",
     "text": [
      "eigenvalues shape torch.Size([5]) eigenvectors shape torch.Size([5, 1024])\n",
      "161 /home/phdcs2/Hard_Disk/Datasets/Deep-Spectral-Segmentation/data/object-segmentation/ECSSD/features/0163_resized.pth\n",
      "dict_keys(['k', 'indices', 'file', 'id', 'model_name', 'patch_size', 'shape'])\n",
      "0163_resized\n"
     ]
    },
    {
     "name": "stderr",
     "output_type": "stream",
     "text": [
      "/home/phdcs2/Hard_Disk/Projects/T2I/deep-spectral-segmentation/venv/lib/python3.8/site-packages/sklearn/decomposition/_pca.py:642: RuntimeWarning: invalid value encountered in divide\n",
      "  self.explained_variance_ratio_ = self.explained_variance_ / total_var\n"
     ]
    },
    {
     "name": "stdout",
     "output_type": "stream",
     "text": [
      "Starting Training\n",
      "epoch: 00, loss: -0.92364\n",
      "epoch: 01, loss: -0.95380\n",
      "epoch: 02, loss: -0.96059\n",
      "epoch: 03, loss: -0.96460\n",
      "epoch: 04, loss: -0.96736\n",
      "epoch: 05, loss: -0.96945\n",
      "epoch: 06, loss: -0.97106\n",
      "epoch: 07, loss: -0.97239\n",
      "epoch: 08, loss: -0.97350\n",
      "epoch: 09, loss: -0.97446\n",
      "torch.Size([1024, 64])\n"
     ]
    },
    {
     "name": "stderr",
     "output_type": "stream",
     "text": [
      " 16%|█▌        | 162/999 [3:06:59<16:29:56, 70.96s/it]"
     ]
    },
    {
     "name": "stdout",
     "output_type": "stream",
     "text": [
      "eigenvalues shape torch.Size([5]) eigenvectors shape torch.Size([5, 1024])\n",
      "162 /home/phdcs2/Hard_Disk/Datasets/Deep-Spectral-Segmentation/data/object-segmentation/ECSSD/features/0164_resized.pth\n",
      "dict_keys(['k', 'indices', 'file', 'id', 'model_name', 'patch_size', 'shape'])\n",
      "0164_resized\n"
     ]
    },
    {
     "name": "stderr",
     "output_type": "stream",
     "text": [
      "/home/phdcs2/Hard_Disk/Projects/T2I/deep-spectral-segmentation/venv/lib/python3.8/site-packages/sklearn/decomposition/_pca.py:642: RuntimeWarning: invalid value encountered in divide\n",
      "  self.explained_variance_ratio_ = self.explained_variance_ / total_var\n"
     ]
    },
    {
     "name": "stdout",
     "output_type": "stream",
     "text": [
      "Starting Training\n",
      "epoch: 00, loss: -0.93122\n",
      "epoch: 01, loss: -0.95884\n",
      "epoch: 02, loss: -0.96502\n",
      "epoch: 03, loss: -0.96868\n",
      "epoch: 04, loss: -0.97126\n",
      "epoch: 05, loss: -0.97314\n",
      "epoch: 06, loss: -0.97466\n",
      "epoch: 07, loss: -0.97589\n",
      "epoch: 08, loss: -0.97694\n",
      "epoch: 09, loss: -0.97781\n",
      "torch.Size([1024, 64])\n"
     ]
    },
    {
     "name": "stderr",
     "output_type": "stream",
     "text": [
      " 16%|█▋        | 163/999 [3:08:11<16:32:40, 71.24s/it]"
     ]
    },
    {
     "name": "stdout",
     "output_type": "stream",
     "text": [
      "eigenvalues shape torch.Size([5]) eigenvectors shape torch.Size([5, 1024])\n",
      "163 /home/phdcs2/Hard_Disk/Datasets/Deep-Spectral-Segmentation/data/object-segmentation/ECSSD/features/0165_resized.pth\n",
      "dict_keys(['k', 'indices', 'file', 'id', 'model_name', 'patch_size', 'shape'])\n",
      "0165_resized\n",
      "Starting Training\n",
      "epoch: 00, loss: -0.86510\n",
      "epoch: 01, loss: -0.91816\n",
      "epoch: 02, loss: -0.93113\n",
      "epoch: 03, loss: -0.93847\n",
      "epoch: 04, loss: -0.94346\n",
      "epoch: 05, loss: -0.94726\n",
      "epoch: 06, loss: -0.95015\n",
      "epoch: 07, loss: -0.95234\n",
      "epoch: 08, loss: -0.95425\n",
      "epoch: 09, loss: -0.95580\n",
      "torch.Size([1024, 64])\n"
     ]
    },
    {
     "name": "stderr",
     "output_type": "stream",
     "text": [
      " 16%|█▋        | 164/999 [3:09:20<16:22:48, 70.62s/it]"
     ]
    },
    {
     "name": "stdout",
     "output_type": "stream",
     "text": [
      "eigenvalues shape torch.Size([5]) eigenvectors shape torch.Size([5, 1024])\n",
      "164 /home/phdcs2/Hard_Disk/Datasets/Deep-Spectral-Segmentation/data/object-segmentation/ECSSD/features/0166_resized.pth\n",
      "dict_keys(['k', 'indices', 'file', 'id', 'model_name', 'patch_size', 'shape'])\n",
      "0166_resized\n"
     ]
    },
    {
     "name": "stderr",
     "output_type": "stream",
     "text": [
      "/home/phdcs2/Hard_Disk/Projects/T2I/deep-spectral-segmentation/venv/lib/python3.8/site-packages/sklearn/decomposition/_pca.py:642: RuntimeWarning: invalid value encountered in divide\n",
      "  self.explained_variance_ratio_ = self.explained_variance_ / total_var\n"
     ]
    },
    {
     "name": "stdout",
     "output_type": "stream",
     "text": [
      "Starting Training\n",
      "epoch: 00, loss: -0.93852\n",
      "epoch: 01, loss: -0.96317\n",
      "epoch: 02, loss: -0.96882\n",
      "epoch: 03, loss: -0.97203\n",
      "epoch: 04, loss: -0.97421\n",
      "epoch: 05, loss: -0.97587\n",
      "epoch: 06, loss: -0.97717\n",
      "epoch: 07, loss: -0.97823\n",
      "epoch: 08, loss: -0.97911\n",
      "epoch: 09, loss: -0.97988\n",
      "torch.Size([1024, 64])\n"
     ]
    },
    {
     "name": "stderr",
     "output_type": "stream",
     "text": [
      " 17%|█▋        | 165/999 [3:10:29<16:11:46, 69.91s/it]"
     ]
    },
    {
     "name": "stdout",
     "output_type": "stream",
     "text": [
      "eigenvalues shape torch.Size([5]) eigenvectors shape torch.Size([5, 1024])\n",
      "165 /home/phdcs2/Hard_Disk/Datasets/Deep-Spectral-Segmentation/data/object-segmentation/ECSSD/features/0167_resized.pth\n",
      "dict_keys(['k', 'indices', 'file', 'id', 'model_name', 'patch_size', 'shape'])\n",
      "0167_resized\n",
      "Starting Training\n",
      "epoch: 00, loss: -0.88494\n",
      "epoch: 01, loss: -0.93168\n",
      "epoch: 02, loss: -0.94258\n",
      "epoch: 03, loss: -0.94875\n",
      "epoch: 04, loss: -0.95281\n",
      "epoch: 05, loss: -0.95578\n",
      "epoch: 06, loss: -0.95806\n",
      "epoch: 07, loss: -0.95991\n",
      "epoch: 08, loss: -0.96146\n",
      "epoch: 09, loss: -0.96282\n",
      "torch.Size([1024, 64])\n"
     ]
    },
    {
     "name": "stderr",
     "output_type": "stream",
     "text": [
      " 17%|█▋        | 166/999 [3:11:39<16:11:00, 69.94s/it]"
     ]
    },
    {
     "name": "stdout",
     "output_type": "stream",
     "text": [
      "eigenvalues shape torch.Size([5]) eigenvectors shape torch.Size([5, 1024])\n",
      "166 /home/phdcs2/Hard_Disk/Datasets/Deep-Spectral-Segmentation/data/object-segmentation/ECSSD/features/0168_resized.pth\n",
      "dict_keys(['k', 'indices', 'file', 'id', 'model_name', 'patch_size', 'shape'])\n",
      "0168_resized\n"
     ]
    },
    {
     "name": "stderr",
     "output_type": "stream",
     "text": [
      "/home/phdcs2/Hard_Disk/Projects/T2I/deep-spectral-segmentation/venv/lib/python3.8/site-packages/sklearn/decomposition/_pca.py:642: RuntimeWarning: invalid value encountered in divide\n",
      "  self.explained_variance_ratio_ = self.explained_variance_ / total_var\n"
     ]
    },
    {
     "name": "stdout",
     "output_type": "stream",
     "text": [
      "Starting Training\n",
      "epoch: 00, loss: -0.92662\n",
      "epoch: 01, loss: -0.95604\n",
      "epoch: 02, loss: -0.96276\n",
      "epoch: 03, loss: -0.96664\n",
      "epoch: 04, loss: -0.96935\n",
      "epoch: 05, loss: -0.97133\n",
      "epoch: 06, loss: -0.97293\n",
      "epoch: 07, loss: -0.97424\n",
      "epoch: 08, loss: -0.97532\n",
      "epoch: 09, loss: -0.97628\n",
      "torch.Size([1024, 64])\n"
     ]
    },
    {
     "name": "stderr",
     "output_type": "stream",
     "text": [
      " 17%|█▋        | 167/999 [3:12:48<16:06:16, 69.68s/it]"
     ]
    },
    {
     "name": "stdout",
     "output_type": "stream",
     "text": [
      "eigenvalues shape torch.Size([5]) eigenvectors shape torch.Size([5, 1024])\n",
      "167 /home/phdcs2/Hard_Disk/Datasets/Deep-Spectral-Segmentation/data/object-segmentation/ECSSD/features/0169_resized.pth\n",
      "dict_keys(['k', 'indices', 'file', 'id', 'model_name', 'patch_size', 'shape'])\n",
      "0169_resized\n"
     ]
    },
    {
     "name": "stderr",
     "output_type": "stream",
     "text": [
      "/home/phdcs2/Hard_Disk/Projects/T2I/deep-spectral-segmentation/venv/lib/python3.8/site-packages/sklearn/decomposition/_pca.py:642: RuntimeWarning: invalid value encountered in divide\n",
      "  self.explained_variance_ratio_ = self.explained_variance_ / total_var\n"
     ]
    },
    {
     "name": "stdout",
     "output_type": "stream",
     "text": [
      "Starting Training\n",
      "epoch: 00, loss: -0.92355\n",
      "epoch: 01, loss: -0.95450\n",
      "epoch: 02, loss: -0.96185\n",
      "epoch: 03, loss: -0.96600\n",
      "epoch: 04, loss: -0.96885\n",
      "epoch: 05, loss: -0.97096\n",
      "epoch: 06, loss: -0.97262\n",
      "epoch: 07, loss: -0.97395\n",
      "epoch: 08, loss: -0.97508\n",
      "epoch: 09, loss: -0.97602\n",
      "torch.Size([1024, 64])\n"
     ]
    },
    {
     "name": "stderr",
     "output_type": "stream",
     "text": [
      " 17%|█▋        | 168/999 [3:13:53<15:47:02, 68.38s/it]"
     ]
    },
    {
     "name": "stdout",
     "output_type": "stream",
     "text": [
      "eigenvalues shape torch.Size([5]) eigenvectors shape torch.Size([5, 1024])\n",
      "168 /home/phdcs2/Hard_Disk/Datasets/Deep-Spectral-Segmentation/data/object-segmentation/ECSSD/features/0170_resized.pth\n",
      "dict_keys(['k', 'indices', 'file', 'id', 'model_name', 'patch_size', 'shape'])\n",
      "0170_resized\n",
      "Starting Training\n",
      "epoch: 00, loss: -0.90995\n",
      "epoch: 01, loss: -0.94468\n",
      "epoch: 02, loss: -0.95267\n",
      "epoch: 03, loss: -0.95730\n",
      "epoch: 04, loss: -0.96059\n",
      "epoch: 05, loss: -0.96300\n",
      "epoch: 06, loss: -0.96496\n",
      "epoch: 07, loss: -0.96651\n",
      "epoch: 08, loss: -0.96785\n",
      "epoch: 09, loss: -0.96900\n",
      "torch.Size([1024, 64])\n"
     ]
    },
    {
     "name": "stderr",
     "output_type": "stream",
     "text": [
      " 17%|█▋        | 169/999 [3:14:54<15:16:35, 66.26s/it]"
     ]
    },
    {
     "name": "stdout",
     "output_type": "stream",
     "text": [
      "eigenvalues shape torch.Size([5]) eigenvectors shape torch.Size([5, 1024])\n",
      "169 /home/phdcs2/Hard_Disk/Datasets/Deep-Spectral-Segmentation/data/object-segmentation/ECSSD/features/0171_resized.pth\n",
      "dict_keys(['k', 'indices', 'file', 'id', 'model_name', 'patch_size', 'shape'])\n",
      "0171_resized\n",
      "Starting Training\n",
      "epoch: 00, loss: -0.87647\n",
      "epoch: 01, loss: -0.92497\n",
      "epoch: 02, loss: -0.93766\n",
      "epoch: 03, loss: -0.94501\n",
      "epoch: 04, loss: -0.95002\n",
      "epoch: 05, loss: -0.95353\n",
      "epoch: 06, loss: -0.95641\n",
      "epoch: 07, loss: -0.95867\n",
      "epoch: 08, loss: -0.96062\n",
      "epoch: 09, loss: -0.96224\n",
      "torch.Size([1024, 64])\n"
     ]
    },
    {
     "name": "stderr",
     "output_type": "stream",
     "text": [
      " 17%|█▋        | 170/999 [3:15:54<14:48:36, 64.31s/it]"
     ]
    },
    {
     "name": "stdout",
     "output_type": "stream",
     "text": [
      "eigenvalues shape torch.Size([5]) eigenvectors shape torch.Size([5, 1024])\n",
      "170 /home/phdcs2/Hard_Disk/Datasets/Deep-Spectral-Segmentation/data/object-segmentation/ECSSD/features/0172_resized.pth\n",
      "dict_keys(['k', 'indices', 'file', 'id', 'model_name', 'patch_size', 'shape'])\n",
      "0172_resized\n"
     ]
    },
    {
     "name": "stderr",
     "output_type": "stream",
     "text": [
      "/home/phdcs2/Hard_Disk/Projects/T2I/deep-spectral-segmentation/venv/lib/python3.8/site-packages/sklearn/decomposition/_pca.py:642: RuntimeWarning: invalid value encountered in divide\n",
      "  self.explained_variance_ratio_ = self.explained_variance_ / total_var\n"
     ]
    },
    {
     "name": "stdout",
     "output_type": "stream",
     "text": [
      "Starting Training\n",
      "epoch: 00, loss: -0.92710\n",
      "epoch: 01, loss: -0.95552\n",
      "epoch: 02, loss: -0.96222\n",
      "epoch: 03, loss: -0.96610\n",
      "epoch: 04, loss: -0.96879\n",
      "epoch: 05, loss: -0.97080\n",
      "epoch: 06, loss: -0.97240\n",
      "epoch: 07, loss: -0.97367\n",
      "epoch: 08, loss: -0.97475\n",
      "epoch: 09, loss: -0.97568\n",
      "torch.Size([1024, 64])\n"
     ]
    },
    {
     "name": "stderr",
     "output_type": "stream",
     "text": [
      " 17%|█▋        | 171/999 [3:16:51<14:16:16, 62.05s/it]"
     ]
    },
    {
     "name": "stdout",
     "output_type": "stream",
     "text": [
      "eigenvalues shape torch.Size([5]) eigenvectors shape torch.Size([5, 1024])\n",
      "171 /home/phdcs2/Hard_Disk/Datasets/Deep-Spectral-Segmentation/data/object-segmentation/ECSSD/features/0173_resized.pth\n",
      "dict_keys(['k', 'indices', 'file', 'id', 'model_name', 'patch_size', 'shape'])\n",
      "0173_resized\n",
      "Starting Training\n",
      "epoch: 00, loss: -0.85589\n",
      "epoch: 01, loss: -0.91312\n",
      "epoch: 02, loss: -0.92883\n",
      "epoch: 03, loss: -0.93739\n",
      "epoch: 04, loss: -0.94356\n",
      "epoch: 05, loss: -0.94787\n",
      "epoch: 06, loss: -0.95123\n",
      "epoch: 07, loss: -0.95400\n",
      "epoch: 08, loss: -0.95628\n",
      "epoch: 09, loss: -0.95815\n",
      "torch.Size([1024, 64])\n"
     ]
    },
    {
     "name": "stderr",
     "output_type": "stream",
     "text": [
      " 17%|█▋        | 172/999 [3:17:53<14:17:25, 62.21s/it]"
     ]
    },
    {
     "name": "stdout",
     "output_type": "stream",
     "text": [
      "eigenvalues shape torch.Size([5]) eigenvectors shape torch.Size([5, 1024])\n",
      "172 /home/phdcs2/Hard_Disk/Datasets/Deep-Spectral-Segmentation/data/object-segmentation/ECSSD/features/0174_resized.pth\n",
      "dict_keys(['k', 'indices', 'file', 'id', 'model_name', 'patch_size', 'shape'])\n",
      "0174_resized\n"
     ]
    },
    {
     "name": "stderr",
     "output_type": "stream",
     "text": [
      "/home/phdcs2/Hard_Disk/Projects/T2I/deep-spectral-segmentation/venv/lib/python3.8/site-packages/sklearn/decomposition/_pca.py:642: RuntimeWarning: invalid value encountered in divide\n",
      "  self.explained_variance_ratio_ = self.explained_variance_ / total_var\n"
     ]
    },
    {
     "name": "stdout",
     "output_type": "stream",
     "text": [
      "Starting Training\n",
      "epoch: 00, loss: -0.93967\n",
      "epoch: 01, loss: -0.96435\n",
      "epoch: 02, loss: -0.96964\n",
      "epoch: 03, loss: -0.97268\n",
      "epoch: 04, loss: -0.97477\n",
      "epoch: 05, loss: -0.97634\n",
      "epoch: 06, loss: -0.97759\n",
      "epoch: 07, loss: -0.97861\n",
      "epoch: 08, loss: -0.97947\n",
      "epoch: 09, loss: -0.98019\n",
      "torch.Size([1024, 64])\n"
     ]
    },
    {
     "name": "stderr",
     "output_type": "stream",
     "text": [
      " 17%|█▋        | 173/999 [3:19:01<14:38:54, 63.84s/it]"
     ]
    },
    {
     "name": "stdout",
     "output_type": "stream",
     "text": [
      "eigenvalues shape torch.Size([5]) eigenvectors shape torch.Size([5, 1024])\n",
      "173 /home/phdcs2/Hard_Disk/Datasets/Deep-Spectral-Segmentation/data/object-segmentation/ECSSD/features/0175_resized.pth\n",
      "dict_keys(['k', 'indices', 'file', 'id', 'model_name', 'patch_size', 'shape'])\n",
      "0175_resized\n",
      "Starting Training\n",
      "epoch: 00, loss: -0.89267\n",
      "epoch: 01, loss: -0.93781\n",
      "epoch: 02, loss: -0.94864\n",
      "epoch: 03, loss: -0.95480\n",
      "epoch: 04, loss: -0.95878\n",
      "epoch: 05, loss: -0.96178\n",
      "epoch: 06, loss: -0.96401\n",
      "epoch: 07, loss: -0.96597\n",
      "epoch: 08, loss: -0.96749\n",
      "epoch: 09, loss: -0.96883\n",
      "torch.Size([1024, 64])\n"
     ]
    },
    {
     "name": "stderr",
     "output_type": "stream",
     "text": [
      " 17%|█▋        | 174/999 [3:20:16<15:23:38, 67.17s/it]"
     ]
    },
    {
     "name": "stdout",
     "output_type": "stream",
     "text": [
      "eigenvalues shape torch.Size([5]) eigenvectors shape torch.Size([5, 1024])\n",
      "174 /home/phdcs2/Hard_Disk/Datasets/Deep-Spectral-Segmentation/data/object-segmentation/ECSSD/features/0176_resized.pth\n",
      "dict_keys(['k', 'indices', 'file', 'id', 'model_name', 'patch_size', 'shape'])\n",
      "0176_resized\n"
     ]
    },
    {
     "name": "stderr",
     "output_type": "stream",
     "text": [
      "/home/phdcs2/Hard_Disk/Projects/T2I/deep-spectral-segmentation/venv/lib/python3.8/site-packages/sklearn/decomposition/_pca.py:642: RuntimeWarning: invalid value encountered in divide\n",
      "  self.explained_variance_ratio_ = self.explained_variance_ / total_var\n"
     ]
    },
    {
     "name": "stdout",
     "output_type": "stream",
     "text": [
      "Starting Training\n",
      "epoch: 00, loss: -0.92362\n",
      "epoch: 01, loss: -0.95451\n",
      "epoch: 02, loss: -0.96149\n",
      "epoch: 03, loss: -0.96553\n",
      "epoch: 04, loss: -0.96830\n",
      "epoch: 05, loss: -0.97038\n",
      "epoch: 06, loss: -0.97199\n",
      "epoch: 07, loss: -0.97330\n",
      "epoch: 08, loss: -0.97440\n",
      "epoch: 09, loss: -0.97536\n",
      "torch.Size([1024, 64])\n"
     ]
    },
    {
     "name": "stderr",
     "output_type": "stream",
     "text": [
      " 18%|█▊        | 175/999 [3:21:29<15:45:42, 68.86s/it]"
     ]
    },
    {
     "name": "stdout",
     "output_type": "stream",
     "text": [
      "eigenvalues shape torch.Size([5]) eigenvectors shape torch.Size([5, 1024])\n",
      "175 /home/phdcs2/Hard_Disk/Datasets/Deep-Spectral-Segmentation/data/object-segmentation/ECSSD/features/0177_resized.pth\n",
      "dict_keys(['k', 'indices', 'file', 'id', 'model_name', 'patch_size', 'shape'])\n",
      "0177_resized\n"
     ]
    },
    {
     "name": "stderr",
     "output_type": "stream",
     "text": [
      "/home/phdcs2/Hard_Disk/Projects/T2I/deep-spectral-segmentation/venv/lib/python3.8/site-packages/sklearn/decomposition/_pca.py:642: RuntimeWarning: invalid value encountered in divide\n",
      "  self.explained_variance_ratio_ = self.explained_variance_ / total_var\n"
     ]
    },
    {
     "name": "stdout",
     "output_type": "stream",
     "text": [
      "Starting Training\n",
      "epoch: 00, loss: -0.93473\n",
      "epoch: 01, loss: -0.96129\n",
      "epoch: 02, loss: -0.96725\n",
      "epoch: 03, loss: -0.97070\n",
      "epoch: 04, loss: -0.97307\n",
      "epoch: 05, loss: -0.97485\n",
      "epoch: 06, loss: -0.97627\n",
      "epoch: 07, loss: -0.97741\n",
      "epoch: 08, loss: -0.97836\n",
      "epoch: 09, loss: -0.97919\n",
      "torch.Size([1024, 64])\n"
     ]
    },
    {
     "name": "stderr",
     "output_type": "stream",
     "text": [
      " 18%|█▊        | 176/999 [3:22:34<15:28:01, 67.66s/it]"
     ]
    },
    {
     "name": "stdout",
     "output_type": "stream",
     "text": [
      "eigenvalues shape torch.Size([5]) eigenvectors shape torch.Size([5, 1024])\n",
      "176 /home/phdcs2/Hard_Disk/Datasets/Deep-Spectral-Segmentation/data/object-segmentation/ECSSD/features/0178_resized.pth\n",
      "dict_keys(['k', 'indices', 'file', 'id', 'model_name', 'patch_size', 'shape'])\n",
      "0178_resized\n",
      "Starting Training\n",
      "epoch: 00, loss: -0.88918\n",
      "epoch: 01, loss: -0.93458\n",
      "epoch: 02, loss: -0.94559\n",
      "epoch: 03, loss: -0.95174\n",
      "epoch: 04, loss: -0.95599\n",
      "epoch: 05, loss: -0.95925\n",
      "epoch: 06, loss: -0.96156\n",
      "epoch: 07, loss: -0.96345\n",
      "epoch: 08, loss: -0.96511\n",
      "epoch: 09, loss: -0.96654\n",
      "torch.Size([1024, 64])\n"
     ]
    },
    {
     "name": "stderr",
     "output_type": "stream",
     "text": [
      " 18%|█▊        | 177/999 [3:23:46<15:45:38, 69.03s/it]"
     ]
    },
    {
     "name": "stdout",
     "output_type": "stream",
     "text": [
      "eigenvalues shape torch.Size([5]) eigenvectors shape torch.Size([5, 1024])\n",
      "177 /home/phdcs2/Hard_Disk/Datasets/Deep-Spectral-Segmentation/data/object-segmentation/ECSSD/features/0179_resized.pth\n",
      "dict_keys(['k', 'indices', 'file', 'id', 'model_name', 'patch_size', 'shape'])\n",
      "0179_resized\n"
     ]
    },
    {
     "name": "stderr",
     "output_type": "stream",
     "text": [
      "/home/phdcs2/Hard_Disk/Projects/T2I/deep-spectral-segmentation/venv/lib/python3.8/site-packages/sklearn/decomposition/_pca.py:642: RuntimeWarning: invalid value encountered in divide\n",
      "  self.explained_variance_ratio_ = self.explained_variance_ / total_var\n"
     ]
    },
    {
     "name": "stdout",
     "output_type": "stream",
     "text": [
      "Starting Training\n",
      "epoch: 00, loss: -0.91674\n",
      "epoch: 01, loss: -0.94747\n",
      "epoch: 02, loss: -0.95489\n",
      "epoch: 03, loss: -0.95932\n",
      "epoch: 04, loss: -0.96231\n",
      "epoch: 05, loss: -0.96459\n",
      "epoch: 06, loss: -0.96636\n",
      "epoch: 07, loss: -0.96785\n",
      "epoch: 08, loss: -0.96904\n",
      "epoch: 09, loss: -0.97015\n",
      "torch.Size([1024, 64])\n"
     ]
    },
    {
     "name": "stderr",
     "output_type": "stream",
     "text": [
      " 18%|█▊        | 178/999 [3:25:01<16:10:48, 70.95s/it]"
     ]
    },
    {
     "name": "stdout",
     "output_type": "stream",
     "text": [
      "eigenvalues shape torch.Size([5]) eigenvectors shape torch.Size([5, 1024])\n",
      "178 /home/phdcs2/Hard_Disk/Datasets/Deep-Spectral-Segmentation/data/object-segmentation/ECSSD/features/0180_resized.pth\n",
      "dict_keys(['k', 'indices', 'file', 'id', 'model_name', 'patch_size', 'shape'])\n",
      "0180_resized\n"
     ]
    },
    {
     "name": "stderr",
     "output_type": "stream",
     "text": [
      "/home/phdcs2/Hard_Disk/Projects/T2I/deep-spectral-segmentation/venv/lib/python3.8/site-packages/sklearn/decomposition/_pca.py:642: RuntimeWarning: invalid value encountered in divide\n",
      "  self.explained_variance_ratio_ = self.explained_variance_ / total_var\n"
     ]
    },
    {
     "name": "stdout",
     "output_type": "stream",
     "text": [
      "Starting Training\n",
      "epoch: 00, loss: -0.92598\n",
      "epoch: 01, loss: -0.95365\n",
      "epoch: 02, loss: -0.96041\n",
      "epoch: 03, loss: -0.96439\n",
      "epoch: 04, loss: -0.96712\n",
      "epoch: 05, loss: -0.96918\n",
      "epoch: 06, loss: -0.97081\n",
      "epoch: 07, loss: -0.97213\n",
      "epoch: 08, loss: -0.97325\n",
      "epoch: 09, loss: -0.97420\n",
      "torch.Size([1024, 64])\n"
     ]
    },
    {
     "name": "stderr",
     "output_type": "stream",
     "text": [
      " 18%|█▊        | 179/999 [3:26:15<16:21:33, 71.82s/it]"
     ]
    },
    {
     "name": "stdout",
     "output_type": "stream",
     "text": [
      "eigenvalues shape torch.Size([5]) eigenvectors shape torch.Size([5, 1024])\n",
      "179 /home/phdcs2/Hard_Disk/Datasets/Deep-Spectral-Segmentation/data/object-segmentation/ECSSD/features/0181_resized.pth\n",
      "dict_keys(['k', 'indices', 'file', 'id', 'model_name', 'patch_size', 'shape'])\n",
      "0181_resized\n"
     ]
    },
    {
     "name": "stderr",
     "output_type": "stream",
     "text": [
      "/home/phdcs2/Hard_Disk/Projects/T2I/deep-spectral-segmentation/venv/lib/python3.8/site-packages/sklearn/decomposition/_pca.py:642: RuntimeWarning: invalid value encountered in divide\n",
      "  self.explained_variance_ratio_ = self.explained_variance_ / total_var\n"
     ]
    },
    {
     "name": "stdout",
     "output_type": "stream",
     "text": [
      "Starting Training\n",
      "epoch: 00, loss: -0.91567\n",
      "epoch: 01, loss: -0.95076\n",
      "epoch: 02, loss: -0.95878\n",
      "epoch: 03, loss: -0.96334\n",
      "epoch: 04, loss: -0.96645\n",
      "epoch: 05, loss: -0.96876\n",
      "epoch: 06, loss: -0.97056\n",
      "epoch: 07, loss: -0.97205\n",
      "epoch: 08, loss: -0.97327\n",
      "epoch: 09, loss: -0.97431\n",
      "torch.Size([1024, 64])\n"
     ]
    },
    {
     "name": "stderr",
     "output_type": "stream",
     "text": [
      " 18%|█▊        | 180/999 [3:27:28<16:24:36, 72.13s/it]"
     ]
    },
    {
     "name": "stdout",
     "output_type": "stream",
     "text": [
      "eigenvalues shape torch.Size([5]) eigenvectors shape torch.Size([5, 1024])\n",
      "180 /home/phdcs2/Hard_Disk/Datasets/Deep-Spectral-Segmentation/data/object-segmentation/ECSSD/features/0182_resized.pth\n",
      "dict_keys(['k', 'indices', 'file', 'id', 'model_name', 'patch_size', 'shape'])\n",
      "0182_resized\n"
     ]
    },
    {
     "name": "stderr",
     "output_type": "stream",
     "text": [
      "/home/phdcs2/Hard_Disk/Projects/T2I/deep-spectral-segmentation/venv/lib/python3.8/site-packages/sklearn/decomposition/_pca.py:642: RuntimeWarning: invalid value encountered in divide\n",
      "  self.explained_variance_ratio_ = self.explained_variance_ / total_var\n"
     ]
    },
    {
     "name": "stdout",
     "output_type": "stream",
     "text": [
      "Starting Training\n",
      "epoch: 00, loss: -0.93195\n",
      "epoch: 01, loss: -0.95977\n",
      "epoch: 02, loss: -0.96600\n",
      "epoch: 03, loss: -0.96957\n",
      "epoch: 04, loss: -0.97207\n",
      "epoch: 05, loss: -0.97392\n",
      "epoch: 06, loss: -0.97536\n",
      "epoch: 07, loss: -0.97656\n",
      "epoch: 08, loss: -0.97753\n",
      "epoch: 09, loss: -0.97838\n",
      "torch.Size([1024, 64])\n"
     ]
    },
    {
     "name": "stderr",
     "output_type": "stream",
     "text": [
      " 18%|█▊        | 181/999 [3:28:41<16:26:36, 72.37s/it]"
     ]
    },
    {
     "name": "stdout",
     "output_type": "stream",
     "text": [
      "eigenvalues shape torch.Size([5]) eigenvectors shape torch.Size([5, 1024])\n",
      "181 /home/phdcs2/Hard_Disk/Datasets/Deep-Spectral-Segmentation/data/object-segmentation/ECSSD/features/0183_resized.pth\n",
      "dict_keys(['k', 'indices', 'file', 'id', 'model_name', 'patch_size', 'shape'])\n",
      "0183_resized\n",
      "Starting Training\n",
      "epoch: 00, loss: -0.89703\n",
      "epoch: 01, loss: -0.93973\n",
      "epoch: 02, loss: -0.95046\n",
      "epoch: 03, loss: -0.95650\n",
      "epoch: 04, loss: -0.96049\n",
      "epoch: 05, loss: -0.96341\n",
      "epoch: 06, loss: -0.96568\n",
      "epoch: 07, loss: -0.96757\n",
      "epoch: 08, loss: -0.96912\n",
      "epoch: 09, loss: -0.97040\n",
      "torch.Size([1024, 64])\n"
     ]
    },
    {
     "name": "stderr",
     "output_type": "stream",
     "text": [
      " 18%|█▊        | 182/999 [3:29:55<16:33:34, 72.97s/it]"
     ]
    },
    {
     "name": "stdout",
     "output_type": "stream",
     "text": [
      "eigenvalues shape torch.Size([5]) eigenvectors shape torch.Size([5, 1024])\n",
      "182 /home/phdcs2/Hard_Disk/Datasets/Deep-Spectral-Segmentation/data/object-segmentation/ECSSD/features/0184_resized.pth\n",
      "dict_keys(['k', 'indices', 'file', 'id', 'model_name', 'patch_size', 'shape'])\n",
      "0184_resized\n"
     ]
    },
    {
     "name": "stderr",
     "output_type": "stream",
     "text": [
      "/home/phdcs2/Hard_Disk/Projects/T2I/deep-spectral-segmentation/venv/lib/python3.8/site-packages/sklearn/decomposition/_pca.py:642: RuntimeWarning: invalid value encountered in divide\n",
      "  self.explained_variance_ratio_ = self.explained_variance_ / total_var\n"
     ]
    },
    {
     "name": "stdout",
     "output_type": "stream",
     "text": [
      "Starting Training\n",
      "epoch: 00, loss: -0.91928\n",
      "epoch: 01, loss: -0.94980\n",
      "epoch: 02, loss: -0.95662\n",
      "epoch: 03, loss: -0.96067\n",
      "epoch: 04, loss: -0.96353\n",
      "epoch: 05, loss: -0.96563\n",
      "epoch: 06, loss: -0.96736\n",
      "epoch: 07, loss: -0.96877\n",
      "epoch: 08, loss: -0.96992\n",
      "epoch: 09, loss: -0.97096\n",
      "torch.Size([1024, 64])\n"
     ]
    },
    {
     "name": "stderr",
     "output_type": "stream",
     "text": [
      " 18%|█▊        | 183/999 [3:31:02<16:05:06, 70.96s/it]"
     ]
    },
    {
     "name": "stdout",
     "output_type": "stream",
     "text": [
      "eigenvalues shape torch.Size([5]) eigenvectors shape torch.Size([5, 1024])\n",
      "183 /home/phdcs2/Hard_Disk/Datasets/Deep-Spectral-Segmentation/data/object-segmentation/ECSSD/features/0185_resized.pth\n",
      "dict_keys(['k', 'indices', 'file', 'id', 'model_name', 'patch_size', 'shape'])\n",
      "0185_resized\n",
      "Starting Training\n",
      "epoch: 00, loss: -0.92080\n",
      "epoch: 01, loss: -0.95356\n",
      "epoch: 02, loss: -0.96095\n",
      "epoch: 03, loss: -0.96520\n",
      "epoch: 04, loss: -0.96805\n",
      "epoch: 05, loss: -0.97019\n",
      "epoch: 06, loss: -0.97184\n",
      "epoch: 07, loss: -0.97319\n",
      "epoch: 08, loss: -0.97433\n",
      "epoch: 09, loss: -0.97531\n",
      "torch.Size([1024, 64])\n"
     ]
    },
    {
     "name": "stderr",
     "output_type": "stream",
     "text": [
      " 18%|█▊        | 184/999 [3:32:15<16:13:32, 71.67s/it]"
     ]
    },
    {
     "name": "stdout",
     "output_type": "stream",
     "text": [
      "eigenvalues shape torch.Size([5]) eigenvectors shape torch.Size([5, 1024])\n",
      "184 /home/phdcs2/Hard_Disk/Datasets/Deep-Spectral-Segmentation/data/object-segmentation/ECSSD/features/0186_resized.pth\n",
      "dict_keys(['k', 'indices', 'file', 'id', 'model_name', 'patch_size', 'shape'])\n",
      "0186_resized\n",
      "Starting Training\n",
      "epoch: 00, loss: -0.85454\n",
      "epoch: 01, loss: -0.91462\n",
      "epoch: 02, loss: -0.92998\n",
      "epoch: 03, loss: -0.93889\n",
      "epoch: 04, loss: -0.94475\n",
      "epoch: 05, loss: -0.94893\n",
      "epoch: 06, loss: -0.95219\n",
      "epoch: 07, loss: -0.95483\n",
      "epoch: 08, loss: -0.95698\n",
      "epoch: 09, loss: -0.95887\n",
      "torch.Size([1024, 64])\n"
     ]
    },
    {
     "name": "stderr",
     "output_type": "stream",
     "text": [
      " 19%|█▊        | 185/999 [3:33:29<16:21:27, 72.34s/it]"
     ]
    },
    {
     "name": "stdout",
     "output_type": "stream",
     "text": [
      "eigenvalues shape torch.Size([5]) eigenvectors shape torch.Size([5, 1024])\n",
      "185 /home/phdcs2/Hard_Disk/Datasets/Deep-Spectral-Segmentation/data/object-segmentation/ECSSD/features/0187_resized.pth\n",
      "dict_keys(['k', 'indices', 'file', 'id', 'model_name', 'patch_size', 'shape'])\n",
      "0187_resized\n"
     ]
    },
    {
     "name": "stderr",
     "output_type": "stream",
     "text": [
      "/home/phdcs2/Hard_Disk/Projects/T2I/deep-spectral-segmentation/venv/lib/python3.8/site-packages/sklearn/decomposition/_pca.py:642: RuntimeWarning: invalid value encountered in divide\n",
      "  self.explained_variance_ratio_ = self.explained_variance_ / total_var\n"
     ]
    },
    {
     "name": "stdout",
     "output_type": "stream",
     "text": [
      "Starting Training\n",
      "epoch: 00, loss: -0.91727\n",
      "epoch: 01, loss: -0.94924\n",
      "epoch: 02, loss: -0.95732\n",
      "epoch: 03, loss: -0.96201\n",
      "epoch: 04, loss: -0.96515\n",
      "epoch: 05, loss: -0.96748\n",
      "epoch: 06, loss: -0.96933\n",
      "epoch: 07, loss: -0.97082\n",
      "epoch: 08, loss: -0.97208\n",
      "epoch: 09, loss: -0.97314\n",
      "torch.Size([1024, 64])\n"
     ]
    },
    {
     "name": "stderr",
     "output_type": "stream",
     "text": [
      " 19%|█▊        | 186/999 [3:34:44<16:30:37, 73.11s/it]"
     ]
    },
    {
     "name": "stdout",
     "output_type": "stream",
     "text": [
      "eigenvalues shape torch.Size([5]) eigenvectors shape torch.Size([5, 1024])\n",
      "186 /home/phdcs2/Hard_Disk/Datasets/Deep-Spectral-Segmentation/data/object-segmentation/ECSSD/features/0188_resized.pth\n",
      "dict_keys(['k', 'indices', 'file', 'id', 'model_name', 'patch_size', 'shape'])\n",
      "0188_resized\n",
      "Starting Training\n",
      "epoch: 00, loss: -0.88376\n",
      "epoch: 01, loss: -0.93076\n",
      "epoch: 02, loss: -0.94289\n",
      "epoch: 03, loss: -0.94984\n",
      "epoch: 04, loss: -0.95438\n",
      "epoch: 05, loss: -0.95774\n",
      "epoch: 06, loss: -0.96034\n",
      "epoch: 07, loss: -0.96254\n",
      "epoch: 08, loss: -0.96416\n",
      "epoch: 09, loss: -0.96563\n",
      "torch.Size([1024, 64])\n"
     ]
    },
    {
     "name": "stderr",
     "output_type": "stream",
     "text": [
      " 19%|█▊        | 187/999 [3:35:50<15:59:56, 70.93s/it]"
     ]
    },
    {
     "name": "stdout",
     "output_type": "stream",
     "text": [
      "eigenvalues shape torch.Size([5]) eigenvectors shape torch.Size([5, 1024])\n",
      "187 /home/phdcs2/Hard_Disk/Datasets/Deep-Spectral-Segmentation/data/object-segmentation/ECSSD/features/0189_resized.pth\n",
      "dict_keys(['k', 'indices', 'file', 'id', 'model_name', 'patch_size', 'shape'])\n",
      "0189_resized\n",
      "Starting Training\n",
      "epoch: 00, loss: -0.86920\n",
      "epoch: 01, loss: -0.92368\n",
      "epoch: 02, loss: -0.93679\n",
      "epoch: 03, loss: -0.94414\n",
      "epoch: 04, loss: -0.94913\n",
      "epoch: 05, loss: -0.95273\n",
      "epoch: 06, loss: -0.95571\n",
      "epoch: 07, loss: -0.95802\n",
      "epoch: 08, loss: -0.95978\n",
      "epoch: 09, loss: -0.96148\n",
      "torch.Size([1024, 64])\n"
     ]
    },
    {
     "name": "stderr",
     "output_type": "stream",
     "text": [
      " 19%|█▉        | 188/999 [3:37:03<16:08:28, 71.65s/it]"
     ]
    },
    {
     "name": "stdout",
     "output_type": "stream",
     "text": [
      "eigenvalues shape torch.Size([5]) eigenvectors shape torch.Size([5, 1024])\n",
      "188 /home/phdcs2/Hard_Disk/Datasets/Deep-Spectral-Segmentation/data/object-segmentation/ECSSD/features/0190_resized.pth\n",
      "dict_keys(['k', 'indices', 'file', 'id', 'model_name', 'patch_size', 'shape'])\n",
      "0190_resized\n",
      "Starting Training\n",
      "epoch: 00, loss: -0.85070\n",
      "epoch: 01, loss: -0.91194\n",
      "epoch: 02, loss: -0.92808\n",
      "epoch: 03, loss: -0.93702\n",
      "epoch: 04, loss: -0.94311\n",
      "epoch: 05, loss: -0.94751\n",
      "epoch: 06, loss: -0.95103\n",
      "epoch: 07, loss: -0.95384\n",
      "epoch: 08, loss: -0.95609\n",
      "epoch: 09, loss: -0.95809\n",
      "torch.Size([1024, 64])\n"
     ]
    },
    {
     "name": "stderr",
     "output_type": "stream",
     "text": [
      " 19%|█▉        | 189/999 [3:38:17<16:18:30, 72.48s/it]"
     ]
    },
    {
     "name": "stdout",
     "output_type": "stream",
     "text": [
      "eigenvalues shape torch.Size([5]) eigenvectors shape torch.Size([5, 1024])\n",
      "189 /home/phdcs2/Hard_Disk/Datasets/Deep-Spectral-Segmentation/data/object-segmentation/ECSSD/features/0191_resized.pth\n",
      "dict_keys(['k', 'indices', 'file', 'id', 'model_name', 'patch_size', 'shape'])\n",
      "0191_resized\n",
      "Starting Training\n",
      "epoch: 00, loss: -0.87908\n",
      "epoch: 01, loss: -0.93105\n",
      "epoch: 02, loss: -0.94254\n",
      "epoch: 03, loss: -0.94918\n",
      "epoch: 04, loss: -0.95359\n",
      "epoch: 05, loss: -0.95675\n",
      "epoch: 06, loss: -0.95924\n",
      "epoch: 07, loss: -0.96109\n",
      "epoch: 08, loss: -0.96270\n",
      "epoch: 09, loss: -0.96413\n",
      "torch.Size([1024, 64])\n"
     ]
    },
    {
     "name": "stderr",
     "output_type": "stream",
     "text": [
      " 19%|█▉        | 190/999 [3:39:33<16:30:01, 73.43s/it]"
     ]
    },
    {
     "name": "stdout",
     "output_type": "stream",
     "text": [
      "eigenvalues shape torch.Size([5]) eigenvectors shape torch.Size([5, 1024])\n",
      "190 /home/phdcs2/Hard_Disk/Datasets/Deep-Spectral-Segmentation/data/object-segmentation/ECSSD/features/0192_resized.pth\n",
      "dict_keys(['k', 'indices', 'file', 'id', 'model_name', 'patch_size', 'shape'])\n",
      "0192_resized\n",
      "Starting Training\n",
      "epoch: 00, loss: -0.86567\n",
      "epoch: 01, loss: -0.91631\n",
      "epoch: 02, loss: -0.92935\n",
      "epoch: 03, loss: -0.93681\n",
      "epoch: 04, loss: -0.94157\n",
      "epoch: 05, loss: -0.94502\n",
      "epoch: 06, loss: -0.94792\n",
      "epoch: 07, loss: -0.95029\n",
      "epoch: 08, loss: -0.95211\n",
      "epoch: 09, loss: -0.95374\n",
      "torch.Size([1024, 64])\n"
     ]
    },
    {
     "name": "stderr",
     "output_type": "stream",
     "text": [
      " 19%|█▉        | 191/999 [3:40:57<17:12:33, 76.67s/it]"
     ]
    },
    {
     "name": "stdout",
     "output_type": "stream",
     "text": [
      "eigenvalues shape torch.Size([5]) eigenvectors shape torch.Size([5, 1024])\n",
      "191 /home/phdcs2/Hard_Disk/Datasets/Deep-Spectral-Segmentation/data/object-segmentation/ECSSD/features/0193_resized.pth\n",
      "dict_keys(['k', 'indices', 'file', 'id', 'model_name', 'patch_size', 'shape'])\n",
      "0193_resized\n"
     ]
    },
    {
     "name": "stderr",
     "output_type": "stream",
     "text": [
      "/home/phdcs2/Hard_Disk/Projects/T2I/deep-spectral-segmentation/venv/lib/python3.8/site-packages/sklearn/decomposition/_pca.py:642: RuntimeWarning: invalid value encountered in divide\n",
      "  self.explained_variance_ratio_ = self.explained_variance_ / total_var\n"
     ]
    },
    {
     "name": "stdout",
     "output_type": "stream",
     "text": [
      "Starting Training\n",
      "epoch: 00, loss: -0.90759\n",
      "epoch: 01, loss: -0.94376\n",
      "epoch: 02, loss: -0.95274\n",
      "epoch: 03, loss: -0.95794\n",
      "epoch: 04, loss: -0.96148\n",
      "epoch: 05, loss: -0.96412\n",
      "epoch: 06, loss: -0.96619\n",
      "epoch: 07, loss: -0.96786\n",
      "epoch: 08, loss: -0.96926\n",
      "epoch: 09, loss: -0.97044\n",
      "torch.Size([1024, 64])\n"
     ]
    },
    {
     "name": "stderr",
     "output_type": "stream",
     "text": [
      " 19%|█▉        | 192/999 [3:42:15<17:16:39, 77.07s/it]"
     ]
    },
    {
     "name": "stdout",
     "output_type": "stream",
     "text": [
      "eigenvalues shape torch.Size([5]) eigenvectors shape torch.Size([5, 1024])\n",
      "192 /home/phdcs2/Hard_Disk/Datasets/Deep-Spectral-Segmentation/data/object-segmentation/ECSSD/features/0194_resized.pth\n",
      "dict_keys(['k', 'indices', 'file', 'id', 'model_name', 'patch_size', 'shape'])\n",
      "0194_resized\n",
      "Starting Training\n",
      "epoch: 00, loss: -0.88122\n",
      "epoch: 01, loss: -0.92536\n",
      "epoch: 02, loss: -0.93737\n",
      "epoch: 03, loss: -0.94452\n",
      "epoch: 04, loss: -0.94944\n",
      "epoch: 05, loss: -0.95296\n",
      "epoch: 06, loss: -0.95571\n",
      "epoch: 07, loss: -0.95792\n",
      "epoch: 08, loss: -0.95975\n",
      "epoch: 09, loss: -0.96139\n",
      "torch.Size([1024, 64])\n"
     ]
    },
    {
     "name": "stderr",
     "output_type": "stream",
     "text": [
      " 19%|█▉        | 193/999 [3:43:26<16:50:00, 75.19s/it]"
     ]
    },
    {
     "name": "stdout",
     "output_type": "stream",
     "text": [
      "eigenvalues shape torch.Size([5]) eigenvectors shape torch.Size([5, 1024])\n",
      "193 /home/phdcs2/Hard_Disk/Datasets/Deep-Spectral-Segmentation/data/object-segmentation/ECSSD/features/0195_resized.pth\n",
      "dict_keys(['k', 'indices', 'file', 'id', 'model_name', 'patch_size', 'shape'])\n",
      "0195_resized\n",
      "Starting Training\n",
      "epoch: 00, loss: -0.87935\n",
      "epoch: 01, loss: -0.92766\n",
      "epoch: 02, loss: -0.94015\n",
      "epoch: 03, loss: -0.94706\n",
      "epoch: 04, loss: -0.95180\n",
      "epoch: 05, loss: -0.95533\n",
      "epoch: 06, loss: -0.95796\n",
      "epoch: 07, loss: -0.96024\n",
      "epoch: 08, loss: -0.96184\n",
      "epoch: 09, loss: -0.96346\n",
      "torch.Size([1024, 64])\n"
     ]
    },
    {
     "name": "stderr",
     "output_type": "stream",
     "text": [
      " 19%|█▉        | 194/999 [3:44:44<17:00:53, 76.09s/it]"
     ]
    },
    {
     "name": "stdout",
     "output_type": "stream",
     "text": [
      "eigenvalues shape torch.Size([5]) eigenvectors shape torch.Size([5, 1024])\n",
      "194 /home/phdcs2/Hard_Disk/Datasets/Deep-Spectral-Segmentation/data/object-segmentation/ECSSD/features/0196_resized.pth\n",
      "dict_keys(['k', 'indices', 'file', 'id', 'model_name', 'patch_size', 'shape'])\n",
      "0196_resized\n"
     ]
    },
    {
     "name": "stderr",
     "output_type": "stream",
     "text": [
      "/home/phdcs2/Hard_Disk/Projects/T2I/deep-spectral-segmentation/venv/lib/python3.8/site-packages/sklearn/decomposition/_pca.py:642: RuntimeWarning: invalid value encountered in divide\n",
      "  self.explained_variance_ratio_ = self.explained_variance_ / total_var\n"
     ]
    },
    {
     "name": "stdout",
     "output_type": "stream",
     "text": [
      "Starting Training\n",
      "epoch: 00, loss: -0.92605\n",
      "epoch: 01, loss: -0.95581\n",
      "epoch: 02, loss: -0.96262\n",
      "epoch: 03, loss: -0.96647\n",
      "epoch: 04, loss: -0.96917\n",
      "epoch: 05, loss: -0.97112\n",
      "epoch: 06, loss: -0.97270\n",
      "epoch: 07, loss: -0.97399\n",
      "epoch: 08, loss: -0.97505\n",
      "epoch: 09, loss: -0.97598\n",
      "torch.Size([1024, 64])\n"
     ]
    },
    {
     "name": "stderr",
     "output_type": "stream",
     "text": [
      " 20%|█▉        | 195/999 [3:46:13<17:50:59, 79.93s/it]"
     ]
    },
    {
     "name": "stdout",
     "output_type": "stream",
     "text": [
      "eigenvalues shape torch.Size([5]) eigenvectors shape torch.Size([5, 1024])\n",
      "195 /home/phdcs2/Hard_Disk/Datasets/Deep-Spectral-Segmentation/data/object-segmentation/ECSSD/features/0197_resized.pth\n",
      "dict_keys(['k', 'indices', 'file', 'id', 'model_name', 'patch_size', 'shape'])\n",
      "0197_resized\n"
     ]
    },
    {
     "name": "stderr",
     "output_type": "stream",
     "text": [
      "/home/phdcs2/Hard_Disk/Projects/T2I/deep-spectral-segmentation/venv/lib/python3.8/site-packages/sklearn/decomposition/_pca.py:642: RuntimeWarning: invalid value encountered in divide\n",
      "  self.explained_variance_ratio_ = self.explained_variance_ / total_var\n"
     ]
    },
    {
     "name": "stdout",
     "output_type": "stream",
     "text": [
      "Starting Training\n",
      "epoch: 00, loss: -0.92566\n",
      "epoch: 01, loss: -0.95857\n",
      "epoch: 02, loss: -0.96463\n",
      "epoch: 03, loss: -0.96814\n",
      "epoch: 04, loss: -0.97059\n",
      "epoch: 05, loss: -0.97239\n",
      "epoch: 06, loss: -0.97384\n",
      "epoch: 07, loss: -0.97499\n",
      "epoch: 08, loss: -0.97596\n",
      "epoch: 09, loss: -0.97683\n",
      "torch.Size([1024, 64])\n"
     ]
    },
    {
     "name": "stderr",
     "output_type": "stream",
     "text": [
      " 20%|█▉        | 196/999 [3:47:26<17:21:51, 77.85s/it]"
     ]
    },
    {
     "name": "stdout",
     "output_type": "stream",
     "text": [
      "eigenvalues shape torch.Size([5]) eigenvectors shape torch.Size([5, 1024])\n",
      "196 /home/phdcs2/Hard_Disk/Datasets/Deep-Spectral-Segmentation/data/object-segmentation/ECSSD/features/0198_resized.pth\n",
      "dict_keys(['k', 'indices', 'file', 'id', 'model_name', 'patch_size', 'shape'])\n",
      "0198_resized\n",
      "Starting Training\n",
      "epoch: 00, loss: -0.85411\n",
      "epoch: 01, loss: -0.91237\n",
      "epoch: 02, loss: -0.92743\n",
      "epoch: 03, loss: -0.93620\n",
      "epoch: 04, loss: -0.94207\n",
      "epoch: 05, loss: -0.94614\n",
      "epoch: 06, loss: -0.94933\n",
      "epoch: 07, loss: -0.95200\n",
      "epoch: 08, loss: -0.95416\n",
      "epoch: 09, loss: -0.95604\n",
      "torch.Size([1024, 64])\n"
     ]
    },
    {
     "name": "stderr",
     "output_type": "stream",
     "text": [
      " 20%|█▉        | 197/999 [3:48:52<17:54:58, 80.42s/it]"
     ]
    },
    {
     "name": "stdout",
     "output_type": "stream",
     "text": [
      "eigenvalues shape torch.Size([5]) eigenvectors shape torch.Size([5, 1024])\n",
      "197 /home/phdcs2/Hard_Disk/Datasets/Deep-Spectral-Segmentation/data/object-segmentation/ECSSD/features/0199_resized.pth\n",
      "dict_keys(['k', 'indices', 'file', 'id', 'model_name', 'patch_size', 'shape'])\n",
      "0199_resized\n",
      "Starting Training\n",
      "epoch: 00, loss: -0.86379\n",
      "epoch: 01, loss: -0.91906\n",
      "epoch: 02, loss: -0.93199\n",
      "epoch: 03, loss: -0.93930\n",
      "epoch: 04, loss: -0.94418\n",
      "epoch: 05, loss: -0.94763\n",
      "epoch: 06, loss: -0.95034\n",
      "epoch: 07, loss: -0.95248\n",
      "epoch: 08, loss: -0.95426\n",
      "epoch: 09, loss: -0.95588\n",
      "torch.Size([1024, 64])\n"
     ]
    },
    {
     "name": "stderr",
     "output_type": "stream",
     "text": [
      " 20%|█▉        | 198/999 [3:50:21<18:26:37, 82.89s/it]"
     ]
    },
    {
     "name": "stdout",
     "output_type": "stream",
     "text": [
      "eigenvalues shape torch.Size([5]) eigenvectors shape torch.Size([5, 1024])\n",
      "198 /home/phdcs2/Hard_Disk/Datasets/Deep-Spectral-Segmentation/data/object-segmentation/ECSSD/features/0200_resized.pth\n",
      "dict_keys(['k', 'indices', 'file', 'id', 'model_name', 'patch_size', 'shape'])\n",
      "0200_resized\n"
     ]
    },
    {
     "name": "stderr",
     "output_type": "stream",
     "text": [
      "/home/phdcs2/Hard_Disk/Projects/T2I/deep-spectral-segmentation/venv/lib/python3.8/site-packages/sklearn/decomposition/_pca.py:642: RuntimeWarning: invalid value encountered in divide\n",
      "  self.explained_variance_ratio_ = self.explained_variance_ / total_var\n"
     ]
    },
    {
     "name": "stdout",
     "output_type": "stream",
     "text": [
      "Starting Training\n",
      "epoch: 00, loss: -0.91743\n",
      "epoch: 01, loss: -0.94756\n",
      "epoch: 02, loss: -0.95481\n",
      "epoch: 03, loss: -0.95901\n",
      "epoch: 04, loss: -0.96193\n",
      "epoch: 05, loss: -0.96416\n",
      "epoch: 06, loss: -0.96589\n",
      "epoch: 07, loss: -0.96734\n",
      "epoch: 08, loss: -0.96857\n",
      "epoch: 09, loss: -0.96962\n",
      "torch.Size([1024, 64])\n"
     ]
    },
    {
     "name": "stderr",
     "output_type": "stream",
     "text": [
      " 20%|█▉        | 199/999 [3:51:48<18:39:27, 83.96s/it]"
     ]
    },
    {
     "name": "stdout",
     "output_type": "stream",
     "text": [
      "eigenvalues shape torch.Size([5]) eigenvectors shape torch.Size([5, 1024])\n",
      "199 /home/phdcs2/Hard_Disk/Datasets/Deep-Spectral-Segmentation/data/object-segmentation/ECSSD/features/0201_resized.pth\n",
      "dict_keys(['k', 'indices', 'file', 'id', 'model_name', 'patch_size', 'shape'])\n",
      "0201_resized\n"
     ]
    },
    {
     "name": "stderr",
     "output_type": "stream",
     "text": [
      "/home/phdcs2/Hard_Disk/Projects/T2I/deep-spectral-segmentation/venv/lib/python3.8/site-packages/sklearn/decomposition/_pca.py:642: RuntimeWarning: invalid value encountered in divide\n",
      "  self.explained_variance_ratio_ = self.explained_variance_ / total_var\n"
     ]
    },
    {
     "name": "stdout",
     "output_type": "stream",
     "text": [
      "Starting Training\n",
      "epoch: 00, loss: -0.93247\n",
      "epoch: 01, loss: -0.96174\n",
      "epoch: 02, loss: -0.96775\n",
      "epoch: 03, loss: -0.97129\n",
      "epoch: 04, loss: -0.97366\n",
      "epoch: 05, loss: -0.97546\n",
      "epoch: 06, loss: -0.97683\n",
      "epoch: 07, loss: -0.97797\n",
      "epoch: 08, loss: -0.97891\n",
      "epoch: 09, loss: -0.97971\n",
      "torch.Size([1024, 64])\n"
     ]
    },
    {
     "name": "stderr",
     "output_type": "stream",
     "text": [
      " 20%|██        | 200/999 [3:53:17<19:01:04, 85.69s/it]"
     ]
    },
    {
     "name": "stdout",
     "output_type": "stream",
     "text": [
      "eigenvalues shape torch.Size([5]) eigenvectors shape torch.Size([5, 1024])\n",
      "200 /home/phdcs2/Hard_Disk/Datasets/Deep-Spectral-Segmentation/data/object-segmentation/ECSSD/features/0202_resized.pth\n",
      "dict_keys(['k', 'indices', 'file', 'id', 'model_name', 'patch_size', 'shape'])\n",
      "0202_resized\n"
     ]
    },
    {
     "name": "stderr",
     "output_type": "stream",
     "text": [
      "/home/phdcs2/Hard_Disk/Projects/T2I/deep-spectral-segmentation/venv/lib/python3.8/site-packages/sklearn/decomposition/_pca.py:642: RuntimeWarning: invalid value encountered in divide\n",
      "  self.explained_variance_ratio_ = self.explained_variance_ / total_var\n"
     ]
    },
    {
     "name": "stdout",
     "output_type": "stream",
     "text": [
      "Starting Training\n",
      "epoch: 00, loss: -0.93333\n",
      "epoch: 01, loss: -0.96169\n",
      "epoch: 02, loss: -0.96718\n",
      "epoch: 03, loss: -0.97038\n",
      "epoch: 04, loss: -0.97259\n",
      "epoch: 05, loss: -0.97420\n",
      "epoch: 06, loss: -0.97551\n",
      "epoch: 07, loss: -0.97660\n",
      "epoch: 08, loss: -0.97750\n",
      "epoch: 09, loss: -0.97828\n",
      "torch.Size([1024, 64])\n"
     ]
    },
    {
     "name": "stderr",
     "output_type": "stream",
     "text": [
      " 20%|██        | 201/999 [3:54:39<18:44:24, 84.54s/it]"
     ]
    },
    {
     "name": "stdout",
     "output_type": "stream",
     "text": [
      "eigenvalues shape torch.Size([5]) eigenvectors shape torch.Size([5, 1024])\n",
      "201 /home/phdcs2/Hard_Disk/Datasets/Deep-Spectral-Segmentation/data/object-segmentation/ECSSD/features/0203_resized.pth\n",
      "dict_keys(['k', 'indices', 'file', 'id', 'model_name', 'patch_size', 'shape'])\n",
      "0203_resized\n",
      "Starting Training\n",
      "epoch: 00, loss: -0.87531\n",
      "epoch: 01, loss: -0.92499\n",
      "epoch: 02, loss: -0.93849\n",
      "epoch: 03, loss: -0.94601\n",
      "epoch: 04, loss: -0.95100\n",
      "epoch: 05, loss: -0.95454\n",
      "epoch: 06, loss: -0.95755\n",
      "epoch: 07, loss: -0.95988\n",
      "epoch: 08, loss: -0.96177\n",
      "epoch: 09, loss: -0.96341\n",
      "torch.Size([1024, 64])\n"
     ]
    },
    {
     "name": "stderr",
     "output_type": "stream",
     "text": [
      " 20%|██        | 202/999 [3:55:57<18:14:58, 82.43s/it]"
     ]
    },
    {
     "name": "stdout",
     "output_type": "stream",
     "text": [
      "eigenvalues shape torch.Size([5]) eigenvectors shape torch.Size([5, 1024])\n",
      "202 /home/phdcs2/Hard_Disk/Datasets/Deep-Spectral-Segmentation/data/object-segmentation/ECSSD/features/0204_resized.pth\n",
      "dict_keys(['k', 'indices', 'file', 'id', 'model_name', 'patch_size', 'shape'])\n",
      "0204_resized\n"
     ]
    },
    {
     "name": "stderr",
     "output_type": "stream",
     "text": [
      "/home/phdcs2/Hard_Disk/Projects/T2I/deep-spectral-segmentation/venv/lib/python3.8/site-packages/sklearn/decomposition/_pca.py:642: RuntimeWarning: invalid value encountered in divide\n",
      "  self.explained_variance_ratio_ = self.explained_variance_ / total_var\n"
     ]
    },
    {
     "name": "stdout",
     "output_type": "stream",
     "text": [
      "Starting Training\n",
      "epoch: 00, loss: -0.92203\n",
      "epoch: 01, loss: -0.95553\n",
      "epoch: 02, loss: -0.96280\n",
      "epoch: 03, loss: -0.96699\n",
      "epoch: 04, loss: -0.96983\n",
      "epoch: 05, loss: -0.97193\n",
      "epoch: 06, loss: -0.97359\n",
      "epoch: 07, loss: -0.97492\n",
      "epoch: 08, loss: -0.97604\n",
      "epoch: 09, loss: -0.97698\n",
      "torch.Size([1024, 64])\n"
     ]
    },
    {
     "name": "stderr",
     "output_type": "stream",
     "text": [
      " 20%|██        | 203/999 [3:57:11<17:43:08, 80.14s/it]"
     ]
    },
    {
     "name": "stdout",
     "output_type": "stream",
     "text": [
      "eigenvalues shape torch.Size([5]) eigenvectors shape torch.Size([5, 1024])\n",
      "203 /home/phdcs2/Hard_Disk/Datasets/Deep-Spectral-Segmentation/data/object-segmentation/ECSSD/features/0205_resized.pth\n",
      "dict_keys(['k', 'indices', 'file', 'id', 'model_name', 'patch_size', 'shape'])\n",
      "0205_resized\n",
      "Starting Training\n",
      "epoch: 00, loss: -0.92123\n",
      "epoch: 01, loss: -0.95082\n",
      "epoch: 02, loss: -0.95833\n",
      "epoch: 03, loss: -0.96272\n",
      "epoch: 04, loss: -0.96570\n",
      "epoch: 05, loss: -0.96793\n",
      "epoch: 06, loss: -0.96968\n",
      "epoch: 07, loss: -0.97109\n",
      "epoch: 08, loss: -0.97230\n",
      "epoch: 09, loss: -0.97331\n",
      "torch.Size([1024, 64])\n"
     ]
    },
    {
     "name": "stderr",
     "output_type": "stream",
     "text": [
      " 20%|██        | 204/999 [3:58:14<16:31:39, 74.84s/it]"
     ]
    },
    {
     "name": "stdout",
     "output_type": "stream",
     "text": [
      "eigenvalues shape torch.Size([5]) eigenvectors shape torch.Size([5, 1024])\n",
      "204 /home/phdcs2/Hard_Disk/Datasets/Deep-Spectral-Segmentation/data/object-segmentation/ECSSD/features/0206_resized.pth\n",
      "dict_keys(['k', 'indices', 'file', 'id', 'model_name', 'patch_size', 'shape'])\n",
      "0206_resized\n",
      "Starting Training\n",
      "epoch: 00, loss: -0.91097\n",
      "epoch: 01, loss: -0.94544\n",
      "epoch: 02, loss: -0.95396\n",
      "epoch: 03, loss: -0.95887\n",
      "epoch: 04, loss: -0.96227\n",
      "epoch: 05, loss: -0.96485\n",
      "epoch: 06, loss: -0.96682\n",
      "epoch: 07, loss: -0.96844\n",
      "epoch: 08, loss: -0.96979\n",
      "epoch: 09, loss: -0.97095\n",
      "torch.Size([1024, 64])\n"
     ]
    },
    {
     "name": "stderr",
     "output_type": "stream",
     "text": [
      " 21%|██        | 205/999 [3:59:24<16:12:37, 73.50s/it]"
     ]
    },
    {
     "name": "stdout",
     "output_type": "stream",
     "text": [
      "eigenvalues shape torch.Size([5]) eigenvectors shape torch.Size([5, 1024])\n",
      "205 /home/phdcs2/Hard_Disk/Datasets/Deep-Spectral-Segmentation/data/object-segmentation/ECSSD/features/0207_resized.pth\n",
      "dict_keys(['k', 'indices', 'file', 'id', 'model_name', 'patch_size', 'shape'])\n",
      "0207_resized\n",
      "Starting Training\n",
      "epoch: 00, loss: -0.87307\n",
      "epoch: 01, loss: -0.92356\n",
      "epoch: 02, loss: -0.93725\n",
      "epoch: 03, loss: -0.94488\n",
      "epoch: 04, loss: -0.94997\n",
      "epoch: 05, loss: -0.95375\n",
      "epoch: 06, loss: -0.95676\n",
      "epoch: 07, loss: -0.95907\n",
      "epoch: 08, loss: -0.96098\n",
      "epoch: 09, loss: -0.96274\n",
      "torch.Size([1024, 64])\n"
     ]
    },
    {
     "name": "stderr",
     "output_type": "stream",
     "text": [
      " 21%|██        | 206/999 [4:00:31<15:45:33, 71.54s/it]"
     ]
    },
    {
     "name": "stdout",
     "output_type": "stream",
     "text": [
      "eigenvalues shape torch.Size([5]) eigenvectors shape torch.Size([5, 1024])\n",
      "206 /home/phdcs2/Hard_Disk/Datasets/Deep-Spectral-Segmentation/data/object-segmentation/ECSSD/features/0208_resized.pth\n",
      "dict_keys(['k', 'indices', 'file', 'id', 'model_name', 'patch_size', 'shape'])\n",
      "0208_resized\n",
      "Starting Training\n",
      "epoch: 00, loss: -0.87540\n",
      "epoch: 01, loss: -0.92792\n",
      "epoch: 02, loss: -0.94045\n",
      "epoch: 03, loss: -0.94740\n",
      "epoch: 04, loss: -0.95205\n",
      "epoch: 05, loss: -0.95538\n",
      "epoch: 06, loss: -0.95817\n",
      "epoch: 07, loss: -0.96029\n",
      "epoch: 08, loss: -0.96211\n",
      "epoch: 09, loss: -0.96364\n",
      "torch.Size([1024, 64])\n"
     ]
    },
    {
     "name": "stderr",
     "output_type": "stream",
     "text": [
      " 21%|██        | 207/999 [4:01:40<15:33:14, 70.70s/it]"
     ]
    },
    {
     "name": "stdout",
     "output_type": "stream",
     "text": [
      "eigenvalues shape torch.Size([5]) eigenvectors shape torch.Size([5, 1024])\n",
      "207 /home/phdcs2/Hard_Disk/Datasets/Deep-Spectral-Segmentation/data/object-segmentation/ECSSD/features/0209_resized.pth\n",
      "dict_keys(['k', 'indices', 'file', 'id', 'model_name', 'patch_size', 'shape'])\n",
      "0209_resized\n"
     ]
    },
    {
     "name": "stderr",
     "output_type": "stream",
     "text": [
      "/home/phdcs2/Hard_Disk/Projects/T2I/deep-spectral-segmentation/venv/lib/python3.8/site-packages/sklearn/decomposition/_pca.py:642: RuntimeWarning: invalid value encountered in divide\n",
      "  self.explained_variance_ratio_ = self.explained_variance_ / total_var\n"
     ]
    },
    {
     "name": "stdout",
     "output_type": "stream",
     "text": [
      "Starting Training\n",
      "epoch: 00, loss: -0.92242\n",
      "epoch: 01, loss: -0.95348\n",
      "epoch: 02, loss: -0.96070\n",
      "epoch: 03, loss: -0.96492\n",
      "epoch: 04, loss: -0.96771\n",
      "epoch: 05, loss: -0.96985\n",
      "epoch: 06, loss: -0.97152\n",
      "epoch: 07, loss: -0.97287\n",
      "epoch: 08, loss: -0.97402\n",
      "epoch: 09, loss: -0.97498\n",
      "torch.Size([1024, 64])\n"
     ]
    },
    {
     "name": "stderr",
     "output_type": "stream",
     "text": [
      " 21%|██        | 208/999 [4:02:58<16:00:23, 72.85s/it]"
     ]
    },
    {
     "name": "stdout",
     "output_type": "stream",
     "text": [
      "eigenvalues shape torch.Size([5]) eigenvectors shape torch.Size([5, 1024])\n",
      "208 /home/phdcs2/Hard_Disk/Datasets/Deep-Spectral-Segmentation/data/object-segmentation/ECSSD/features/0210_resized.pth\n",
      "dict_keys(['k', 'indices', 'file', 'id', 'model_name', 'patch_size', 'shape'])\n",
      "0210_resized\n",
      "Starting Training\n",
      "epoch: 00, loss: -0.86111\n",
      "epoch: 01, loss: -0.91818\n",
      "epoch: 02, loss: -0.93239\n",
      "epoch: 03, loss: -0.94044\n",
      "epoch: 04, loss: -0.94561\n",
      "epoch: 05, loss: -0.94972\n",
      "epoch: 06, loss: -0.95271\n",
      "epoch: 07, loss: -0.95531\n",
      "epoch: 08, loss: -0.95738\n",
      "epoch: 09, loss: -0.95912\n",
      "torch.Size([1024, 64])\n"
     ]
    },
    {
     "name": "stderr",
     "output_type": "stream",
     "text": [
      " 21%|██        | 209/999 [4:04:17<16:25:34, 74.85s/it]"
     ]
    },
    {
     "name": "stdout",
     "output_type": "stream",
     "text": [
      "eigenvalues shape torch.Size([5]) eigenvectors shape torch.Size([5, 1024])\n",
      "209 /home/phdcs2/Hard_Disk/Datasets/Deep-Spectral-Segmentation/data/object-segmentation/ECSSD/features/0211_resized.pth\n",
      "dict_keys(['k', 'indices', 'file', 'id', 'model_name', 'patch_size', 'shape'])\n",
      "0211_resized\n"
     ]
    },
    {
     "name": "stderr",
     "output_type": "stream",
     "text": [
      "/home/phdcs2/Hard_Disk/Projects/T2I/deep-spectral-segmentation/venv/lib/python3.8/site-packages/sklearn/decomposition/_pca.py:642: RuntimeWarning: invalid value encountered in divide\n",
      "  self.explained_variance_ratio_ = self.explained_variance_ / total_var\n"
     ]
    },
    {
     "name": "stdout",
     "output_type": "stream",
     "text": [
      "Starting Training\n",
      "epoch: 00, loss: -0.92752\n",
      "epoch: 01, loss: -0.95440\n",
      "epoch: 02, loss: -0.96060\n",
      "epoch: 03, loss: -0.96429\n",
      "epoch: 04, loss: -0.96686\n",
      "epoch: 05, loss: -0.96883\n",
      "epoch: 06, loss: -0.97038\n",
      "epoch: 07, loss: -0.97167\n",
      "epoch: 08, loss: -0.97273\n",
      "epoch: 09, loss: -0.97367\n",
      "torch.Size([1024, 64])\n"
     ]
    },
    {
     "name": "stderr",
     "output_type": "stream",
     "text": [
      " 21%|██        | 210/999 [4:05:35<16:33:40, 75.56s/it]"
     ]
    },
    {
     "name": "stdout",
     "output_type": "stream",
     "text": [
      "eigenvalues shape torch.Size([5]) eigenvectors shape torch.Size([5, 1024])\n",
      "210 /home/phdcs2/Hard_Disk/Datasets/Deep-Spectral-Segmentation/data/object-segmentation/ECSSD/features/0212_resized.pth\n",
      "dict_keys(['k', 'indices', 'file', 'id', 'model_name', 'patch_size', 'shape'])\n",
      "0212_resized\n",
      "Starting Training\n",
      "epoch: 00, loss: -0.86822\n",
      "epoch: 01, loss: -0.92166\n",
      "epoch: 02, loss: -0.93487\n",
      "epoch: 03, loss: -0.94244\n",
      "epoch: 04, loss: -0.94769\n",
      "epoch: 05, loss: -0.95146\n",
      "epoch: 06, loss: -0.95443\n",
      "epoch: 07, loss: -0.95689\n",
      "epoch: 08, loss: -0.95889\n",
      "epoch: 09, loss: -0.96056\n",
      "torch.Size([1024, 64])\n"
     ]
    },
    {
     "name": "stderr",
     "output_type": "stream",
     "text": [
      " 21%|██        | 211/999 [4:06:53<16:41:43, 76.27s/it]"
     ]
    },
    {
     "name": "stdout",
     "output_type": "stream",
     "text": [
      "eigenvalues shape torch.Size([5]) eigenvectors shape torch.Size([5, 1024])\n",
      "211 /home/phdcs2/Hard_Disk/Datasets/Deep-Spectral-Segmentation/data/object-segmentation/ECSSD/features/0213_resized.pth\n",
      "dict_keys(['k', 'indices', 'file', 'id', 'model_name', 'patch_size', 'shape'])\n",
      "0213_resized\n",
      "Starting Training\n",
      "epoch: 00, loss: -0.88696\n",
      "epoch: 01, loss: -0.93454\n",
      "epoch: 02, loss: -0.94631\n",
      "epoch: 03, loss: -0.95276\n",
      "epoch: 04, loss: -0.95723\n",
      "epoch: 05, loss: -0.96045\n",
      "epoch: 06, loss: -0.96293\n",
      "epoch: 07, loss: -0.96498\n",
      "epoch: 08, loss: -0.96666\n",
      "epoch: 09, loss: -0.96816\n",
      "torch.Size([1024, 64])\n"
     ]
    },
    {
     "name": "stderr",
     "output_type": "stream",
     "text": [
      " 21%|██        | 212/999 [4:08:08<16:38:08, 76.10s/it]"
     ]
    },
    {
     "name": "stdout",
     "output_type": "stream",
     "text": [
      "eigenvalues shape torch.Size([5]) eigenvectors shape torch.Size([5, 1024])\n",
      "212 /home/phdcs2/Hard_Disk/Datasets/Deep-Spectral-Segmentation/data/object-segmentation/ECSSD/features/0214_resized.pth\n",
      "dict_keys(['k', 'indices', 'file', 'id', 'model_name', 'patch_size', 'shape'])\n",
      "0214_resized\n",
      "Starting Training\n",
      "epoch: 00, loss: -0.93422\n",
      "epoch: 01, loss: -0.96175\n",
      "epoch: 02, loss: -0.96754\n",
      "epoch: 03, loss: -0.97088\n",
      "epoch: 04, loss: -0.97323\n",
      "epoch: 05, loss: -0.97498\n",
      "epoch: 06, loss: -0.97638\n",
      "epoch: 07, loss: -0.97751\n",
      "epoch: 08, loss: -0.97846\n",
      "epoch: 09, loss: -0.97927\n",
      "torch.Size([1024, 64])\n"
     ]
    },
    {
     "name": "stderr",
     "output_type": "stream",
     "text": [
      " 21%|██▏       | 213/999 [4:09:21<16:22:02, 74.96s/it]"
     ]
    },
    {
     "name": "stdout",
     "output_type": "stream",
     "text": [
      "eigenvalues shape torch.Size([5]) eigenvectors shape torch.Size([5, 1024])\n",
      "213 /home/phdcs2/Hard_Disk/Datasets/Deep-Spectral-Segmentation/data/object-segmentation/ECSSD/features/0215_resized.pth\n",
      "dict_keys(['k', 'indices', 'file', 'id', 'model_name', 'patch_size', 'shape'])\n",
      "0215_resized\n",
      "Starting Training\n",
      "epoch: 00, loss: -0.86252\n",
      "epoch: 01, loss: -0.91990\n",
      "epoch: 02, loss: -0.93382\n",
      "epoch: 03, loss: -0.94160\n",
      "epoch: 04, loss: -0.94687\n",
      "epoch: 05, loss: -0.95087\n",
      "epoch: 06, loss: -0.95381\n",
      "epoch: 07, loss: -0.95633\n",
      "epoch: 08, loss: -0.95840\n",
      "epoch: 09, loss: -0.96007\n",
      "torch.Size([1024, 64])\n"
     ]
    },
    {
     "name": "stderr",
     "output_type": "stream",
     "text": [
      " 21%|██▏       | 214/999 [4:10:28<15:50:28, 72.65s/it]"
     ]
    },
    {
     "name": "stdout",
     "output_type": "stream",
     "text": [
      "eigenvalues shape torch.Size([5]) eigenvectors shape torch.Size([5, 1024])\n",
      "214 /home/phdcs2/Hard_Disk/Datasets/Deep-Spectral-Segmentation/data/object-segmentation/ECSSD/features/0216_resized.pth\n",
      "dict_keys(['k', 'indices', 'file', 'id', 'model_name', 'patch_size', 'shape'])\n",
      "0216_resized\n",
      "Starting Training\n",
      "epoch: 00, loss: -0.87130\n",
      "epoch: 01, loss: -0.92276\n",
      "epoch: 02, loss: -0.93552\n",
      "epoch: 03, loss: -0.94292\n",
      "epoch: 04, loss: -0.94781\n",
      "epoch: 05, loss: -0.95141\n",
      "epoch: 06, loss: -0.95430\n",
      "epoch: 07, loss: -0.95663\n",
      "epoch: 08, loss: -0.95850\n",
      "epoch: 09, loss: -0.96019\n",
      "torch.Size([1024, 64])\n"
     ]
    },
    {
     "name": "stderr",
     "output_type": "stream",
     "text": [
      " 22%|██▏       | 215/999 [4:11:45<16:06:59, 74.00s/it]"
     ]
    },
    {
     "name": "stdout",
     "output_type": "stream",
     "text": [
      "eigenvalues shape torch.Size([5]) eigenvectors shape torch.Size([5, 1024])\n",
      "215 /home/phdcs2/Hard_Disk/Datasets/Deep-Spectral-Segmentation/data/object-segmentation/ECSSD/features/0217_resized.pth\n",
      "dict_keys(['k', 'indices', 'file', 'id', 'model_name', 'patch_size', 'shape'])\n",
      "0217_resized\n"
     ]
    },
    {
     "name": "stderr",
     "output_type": "stream",
     "text": [
      "/home/phdcs2/Hard_Disk/Projects/T2I/deep-spectral-segmentation/venv/lib/python3.8/site-packages/sklearn/decomposition/_pca.py:642: RuntimeWarning: invalid value encountered in divide\n",
      "  self.explained_variance_ratio_ = self.explained_variance_ / total_var\n"
     ]
    },
    {
     "name": "stdout",
     "output_type": "stream",
     "text": [
      "Starting Training\n",
      "epoch: 00, loss: -0.91858\n",
      "epoch: 01, loss: -0.94949\n",
      "epoch: 02, loss: -0.95719\n",
      "epoch: 03, loss: -0.96170\n",
      "epoch: 04, loss: -0.96473\n",
      "epoch: 05, loss: -0.96703\n",
      "epoch: 06, loss: -0.96883\n",
      "epoch: 07, loss: -0.97029\n",
      "epoch: 08, loss: -0.97150\n",
      "epoch: 09, loss: -0.97257\n",
      "torch.Size([1024, 64])\n"
     ]
    },
    {
     "name": "stderr",
     "output_type": "stream",
     "text": [
      " 22%|██▏       | 216/999 [4:13:04<16:24:55, 75.47s/it]"
     ]
    },
    {
     "name": "stdout",
     "output_type": "stream",
     "text": [
      "eigenvalues shape torch.Size([5]) eigenvectors shape torch.Size([5, 1024])\n",
      "216 /home/phdcs2/Hard_Disk/Datasets/Deep-Spectral-Segmentation/data/object-segmentation/ECSSD/features/0218_resized.pth\n",
      "dict_keys(['k', 'indices', 'file', 'id', 'model_name', 'patch_size', 'shape'])\n",
      "0218_resized\n"
     ]
    },
    {
     "name": "stderr",
     "output_type": "stream",
     "text": [
      "/home/phdcs2/Hard_Disk/Projects/T2I/deep-spectral-segmentation/venv/lib/python3.8/site-packages/sklearn/decomposition/_pca.py:642: RuntimeWarning: invalid value encountered in divide\n",
      "  self.explained_variance_ratio_ = self.explained_variance_ / total_var\n"
     ]
    },
    {
     "name": "stdout",
     "output_type": "stream",
     "text": [
      "Starting Training\n",
      "epoch: 00, loss: -0.91193\n",
      "epoch: 01, loss: -0.94434\n",
      "epoch: 02, loss: -0.95253\n",
      "epoch: 03, loss: -0.95731\n",
      "epoch: 04, loss: -0.96068\n",
      "epoch: 05, loss: -0.96314\n",
      "epoch: 06, loss: -0.96512\n",
      "epoch: 07, loss: -0.96675\n",
      "epoch: 08, loss: -0.96808\n",
      "epoch: 09, loss: -0.96926\n",
      "torch.Size([1024, 64])\n"
     ]
    },
    {
     "name": "stderr",
     "output_type": "stream",
     "text": [
      " 22%|██▏       | 217/999 [4:14:29<16:59:28, 78.22s/it]"
     ]
    },
    {
     "name": "stdout",
     "output_type": "stream",
     "text": [
      "eigenvalues shape torch.Size([5]) eigenvectors shape torch.Size([5, 1024])\n",
      "217 /home/phdcs2/Hard_Disk/Datasets/Deep-Spectral-Segmentation/data/object-segmentation/ECSSD/features/0219_resized.pth\n",
      "dict_keys(['k', 'indices', 'file', 'id', 'model_name', 'patch_size', 'shape'])\n",
      "0219_resized\n"
     ]
    },
    {
     "name": "stderr",
     "output_type": "stream",
     "text": [
      "/home/phdcs2/Hard_Disk/Projects/T2I/deep-spectral-segmentation/venv/lib/python3.8/site-packages/sklearn/decomposition/_pca.py:642: RuntimeWarning: invalid value encountered in divide\n",
      "  self.explained_variance_ratio_ = self.explained_variance_ / total_var\n"
     ]
    },
    {
     "name": "stdout",
     "output_type": "stream",
     "text": [
      "Starting Training\n",
      "epoch: 00, loss: -0.93376\n",
      "epoch: 01, loss: -0.95990\n",
      "epoch: 02, loss: -0.96600\n",
      "epoch: 03, loss: -0.96958\n",
      "epoch: 04, loss: -0.97199\n",
      "epoch: 05, loss: -0.97382\n",
      "epoch: 06, loss: -0.97522\n",
      "epoch: 07, loss: -0.97638\n",
      "epoch: 08, loss: -0.97736\n",
      "epoch: 09, loss: -0.97819\n",
      "torch.Size([1024, 64])\n"
     ]
    },
    {
     "name": "stderr",
     "output_type": "stream",
     "text": [
      " 22%|██▏       | 218/999 [4:15:52<17:19:11, 79.84s/it]"
     ]
    },
    {
     "name": "stdout",
     "output_type": "stream",
     "text": [
      "eigenvalues shape torch.Size([5]) eigenvectors shape torch.Size([5, 1024])\n",
      "218 /home/phdcs2/Hard_Disk/Datasets/Deep-Spectral-Segmentation/data/object-segmentation/ECSSD/features/0220_resized.pth\n",
      "dict_keys(['k', 'indices', 'file', 'id', 'model_name', 'patch_size', 'shape'])\n",
      "0220_resized\n",
      "Starting Training\n",
      "epoch: 00, loss: -0.87724\n",
      "epoch: 01, loss: -0.92539\n",
      "epoch: 02, loss: -0.93873\n",
      "epoch: 03, loss: -0.94653\n",
      "epoch: 04, loss: -0.95168\n",
      "epoch: 05, loss: -0.95542\n",
      "epoch: 06, loss: -0.95829\n",
      "epoch: 07, loss: -0.96059\n",
      "epoch: 08, loss: -0.96256\n",
      "epoch: 09, loss: -0.96421\n",
      "torch.Size([1024, 64])\n"
     ]
    },
    {
     "name": "stderr",
     "output_type": "stream",
     "text": [
      " 22%|██▏       | 219/999 [4:17:13<17:20:39, 80.05s/it]"
     ]
    },
    {
     "name": "stdout",
     "output_type": "stream",
     "text": [
      "eigenvalues shape torch.Size([5]) eigenvectors shape torch.Size([5, 1024])\n",
      "219 /home/phdcs2/Hard_Disk/Datasets/Deep-Spectral-Segmentation/data/object-segmentation/ECSSD/features/0221_resized.pth\n",
      "dict_keys(['k', 'indices', 'file', 'id', 'model_name', 'patch_size', 'shape'])\n",
      "0221_resized\n",
      "Starting Training\n",
      "epoch: 00, loss: -0.86984\n",
      "epoch: 01, loss: -0.92553\n",
      "epoch: 02, loss: -0.93862\n",
      "epoch: 03, loss: -0.94586\n",
      "epoch: 04, loss: -0.95057\n",
      "epoch: 05, loss: -0.95407\n",
      "epoch: 06, loss: -0.95672\n",
      "epoch: 07, loss: -0.95888\n",
      "epoch: 08, loss: -0.96072\n",
      "epoch: 09, loss: -0.96218\n",
      "torch.Size([1024, 64])\n"
     ]
    },
    {
     "name": "stderr",
     "output_type": "stream",
     "text": [
      " 22%|██▏       | 220/999 [4:18:41<17:51:35, 82.54s/it]"
     ]
    },
    {
     "name": "stdout",
     "output_type": "stream",
     "text": [
      "eigenvalues shape torch.Size([5]) eigenvectors shape torch.Size([5, 1024])\n",
      "220 /home/phdcs2/Hard_Disk/Datasets/Deep-Spectral-Segmentation/data/object-segmentation/ECSSD/features/0222_resized.pth\n",
      "dict_keys(['k', 'indices', 'file', 'id', 'model_name', 'patch_size', 'shape'])\n",
      "0222_resized\n",
      "Starting Training\n",
      "epoch: 00, loss: -0.88178\n",
      "epoch: 01, loss: -0.92821\n",
      "epoch: 02, loss: -0.93976\n",
      "epoch: 03, loss: -0.94666\n",
      "epoch: 04, loss: -0.95121\n",
      "epoch: 05, loss: -0.95468\n",
      "epoch: 06, loss: -0.95728\n",
      "epoch: 07, loss: -0.95944\n",
      "epoch: 08, loss: -0.96116\n",
      "epoch: 09, loss: -0.96276\n",
      "torch.Size([1024, 64])\n"
     ]
    },
    {
     "name": "stderr",
     "output_type": "stream",
     "text": [
      " 22%|██▏       | 221/999 [4:20:04<17:50:40, 82.57s/it]"
     ]
    },
    {
     "name": "stdout",
     "output_type": "stream",
     "text": [
      "eigenvalues shape torch.Size([5]) eigenvectors shape torch.Size([5, 1024])\n",
      "221 /home/phdcs2/Hard_Disk/Datasets/Deep-Spectral-Segmentation/data/object-segmentation/ECSSD/features/0223_resized.pth\n",
      "dict_keys(['k', 'indices', 'file', 'id', 'model_name', 'patch_size', 'shape'])\n",
      "0223_resized\n",
      "Starting Training\n",
      "epoch: 00, loss: -0.93860\n",
      "epoch: 01, loss: -0.96474\n",
      "epoch: 02, loss: -0.97017\n",
      "epoch: 03, loss: -0.97331\n",
      "epoch: 04, loss: -0.97547\n",
      "epoch: 05, loss: -0.97706\n",
      "epoch: 06, loss: -0.97832\n",
      "epoch: 07, loss: -0.97936\n",
      "epoch: 08, loss: -0.98022\n",
      "epoch: 09, loss: -0.98095\n",
      "torch.Size([1024, 64])\n"
     ]
    },
    {
     "name": "stderr",
     "output_type": "stream",
     "text": [
      " 22%|██▏       | 222/999 [4:21:25<17:44:57, 82.24s/it]"
     ]
    },
    {
     "name": "stdout",
     "output_type": "stream",
     "text": [
      "eigenvalues shape torch.Size([5]) eigenvectors shape torch.Size([5, 1024])\n",
      "222 /home/phdcs2/Hard_Disk/Datasets/Deep-Spectral-Segmentation/data/object-segmentation/ECSSD/features/0224_resized.pth\n",
      "dict_keys(['k', 'indices', 'file', 'id', 'model_name', 'patch_size', 'shape'])\n",
      "0224_resized\n",
      "Starting Training\n",
      "epoch: 00, loss: -0.85927\n",
      "epoch: 01, loss: -0.92002\n",
      "epoch: 02, loss: -0.93410\n",
      "epoch: 03, loss: -0.94233\n",
      "epoch: 04, loss: -0.94781\n",
      "epoch: 05, loss: -0.95159\n",
      "epoch: 06, loss: -0.95465\n",
      "epoch: 07, loss: -0.95718\n",
      "epoch: 08, loss: -0.95900\n",
      "epoch: 09, loss: -0.96082\n",
      "torch.Size([1024, 64])\n"
     ]
    },
    {
     "name": "stderr",
     "output_type": "stream",
     "text": [
      " 22%|██▏       | 223/999 [4:22:49<17:49:38, 82.70s/it]"
     ]
    },
    {
     "name": "stdout",
     "output_type": "stream",
     "text": [
      "eigenvalues shape torch.Size([5]) eigenvectors shape torch.Size([5, 1024])\n",
      "223 /home/phdcs2/Hard_Disk/Datasets/Deep-Spectral-Segmentation/data/object-segmentation/ECSSD/features/0225_resized.pth\n",
      "dict_keys(['k', 'indices', 'file', 'id', 'model_name', 'patch_size', 'shape'])\n",
      "0225_resized\n"
     ]
    },
    {
     "name": "stderr",
     "output_type": "stream",
     "text": [
      "/home/phdcs2/Hard_Disk/Projects/T2I/deep-spectral-segmentation/venv/lib/python3.8/site-packages/sklearn/decomposition/_pca.py:642: RuntimeWarning: invalid value encountered in divide\n",
      "  self.explained_variance_ratio_ = self.explained_variance_ / total_var\n"
     ]
    },
    {
     "name": "stdout",
     "output_type": "stream",
     "text": [
      "Starting Training\n",
      "epoch: 00, loss: -0.90970\n",
      "epoch: 01, loss: -0.94369\n",
      "epoch: 02, loss: -0.95234\n",
      "epoch: 03, loss: -0.95748\n",
      "epoch: 04, loss: -0.96106\n",
      "epoch: 05, loss: -0.96370\n",
      "epoch: 06, loss: -0.96580\n",
      "epoch: 07, loss: -0.96749\n",
      "epoch: 08, loss: -0.96892\n",
      "epoch: 09, loss: -0.97016\n",
      "torch.Size([1024, 64])\n"
     ]
    },
    {
     "name": "stderr",
     "output_type": "stream",
     "text": [
      " 22%|██▏       | 224/999 [4:24:13<17:55:00, 83.23s/it]"
     ]
    },
    {
     "name": "stdout",
     "output_type": "stream",
     "text": [
      "eigenvalues shape torch.Size([5]) eigenvectors shape torch.Size([5, 1024])\n",
      "224 /home/phdcs2/Hard_Disk/Datasets/Deep-Spectral-Segmentation/data/object-segmentation/ECSSD/features/0226_resized.pth\n",
      "dict_keys(['k', 'indices', 'file', 'id', 'model_name', 'patch_size', 'shape'])\n",
      "0226_resized\n",
      "Starting Training\n",
      "epoch: 00, loss: -0.85100\n",
      "epoch: 01, loss: -0.91151\n",
      "epoch: 02, loss: -0.92769\n",
      "epoch: 03, loss: -0.93640\n",
      "epoch: 04, loss: -0.94236\n",
      "epoch: 05, loss: -0.94657\n",
      "epoch: 06, loss: -0.94995\n",
      "epoch: 07, loss: -0.95272\n",
      "epoch: 08, loss: -0.95504\n",
      "epoch: 09, loss: -0.95686\n",
      "torch.Size([1024, 64])\n"
     ]
    },
    {
     "name": "stderr",
     "output_type": "stream",
     "text": [
      " 23%|██▎       | 225/999 [4:25:36<17:50:48, 83.01s/it]"
     ]
    },
    {
     "name": "stdout",
     "output_type": "stream",
     "text": [
      "eigenvalues shape torch.Size([5]) eigenvectors shape torch.Size([5, 1024])\n",
      "225 /home/phdcs2/Hard_Disk/Datasets/Deep-Spectral-Segmentation/data/object-segmentation/ECSSD/features/0227_resized.pth\n",
      "dict_keys(['k', 'indices', 'file', 'id', 'model_name', 'patch_size', 'shape'])\n",
      "0227_resized\n",
      "Starting Training\n",
      "epoch: 00, loss: -0.87214\n",
      "epoch: 01, loss: -0.92524\n",
      "epoch: 02, loss: -0.93846\n",
      "epoch: 03, loss: -0.94601\n",
      "epoch: 04, loss: -0.95087\n",
      "epoch: 05, loss: -0.95447\n",
      "epoch: 06, loss: -0.95736\n",
      "epoch: 07, loss: -0.95965\n",
      "epoch: 08, loss: -0.96160\n",
      "epoch: 09, loss: -0.96316\n",
      "torch.Size([1024, 64])\n"
     ]
    },
    {
     "name": "stderr",
     "output_type": "stream",
     "text": [
      " 23%|██▎       | 226/999 [4:27:04<18:09:45, 84.59s/it]"
     ]
    },
    {
     "name": "stdout",
     "output_type": "stream",
     "text": [
      "eigenvalues shape torch.Size([5]) eigenvectors shape torch.Size([5, 1024])\n",
      "226 /home/phdcs2/Hard_Disk/Datasets/Deep-Spectral-Segmentation/data/object-segmentation/ECSSD/features/0228_resized.pth\n",
      "dict_keys(['k', 'indices', 'file', 'id', 'model_name', 'patch_size', 'shape'])\n",
      "0228_resized\n",
      "Starting Training\n",
      "epoch: 00, loss: -0.86276\n",
      "epoch: 01, loss: -0.91766\n",
      "epoch: 02, loss: -0.93172\n",
      "epoch: 03, loss: -0.93958\n",
      "epoch: 04, loss: -0.94508\n",
      "epoch: 05, loss: -0.94895\n",
      "epoch: 06, loss: -0.95196\n",
      "epoch: 07, loss: -0.95448\n",
      "epoch: 08, loss: -0.95654\n",
      "epoch: 09, loss: -0.95826\n",
      "torch.Size([1024, 64])\n"
     ]
    },
    {
     "name": "stderr",
     "output_type": "stream",
     "text": [
      " 23%|██▎       | 227/999 [4:28:34<18:30:31, 86.31s/it]"
     ]
    },
    {
     "name": "stdout",
     "output_type": "stream",
     "text": [
      "eigenvalues shape torch.Size([5]) eigenvectors shape torch.Size([5, 1024])\n",
      "227 /home/phdcs2/Hard_Disk/Datasets/Deep-Spectral-Segmentation/data/object-segmentation/ECSSD/features/0229_resized.pth\n",
      "dict_keys(['k', 'indices', 'file', 'id', 'model_name', 'patch_size', 'shape'])\n",
      "0229_resized\n"
     ]
    },
    {
     "name": "stderr",
     "output_type": "stream",
     "text": [
      "/home/phdcs2/Hard_Disk/Projects/T2I/deep-spectral-segmentation/venv/lib/python3.8/site-packages/sklearn/decomposition/_pca.py:642: RuntimeWarning: invalid value encountered in divide\n",
      "  self.explained_variance_ratio_ = self.explained_variance_ / total_var\n"
     ]
    },
    {
     "name": "stdout",
     "output_type": "stream",
     "text": [
      "Starting Training\n",
      "epoch: 00, loss: -0.90706\n",
      "epoch: 01, loss: -0.94357\n",
      "epoch: 02, loss: -0.95212\n",
      "epoch: 03, loss: -0.95700\n",
      "epoch: 04, loss: -0.96038\n",
      "epoch: 05, loss: -0.96295\n",
      "epoch: 06, loss: -0.96495\n",
      "epoch: 07, loss: -0.96656\n",
      "epoch: 08, loss: -0.96795\n",
      "epoch: 09, loss: -0.96913\n",
      "torch.Size([1024, 64])\n"
     ]
    },
    {
     "name": "stderr",
     "output_type": "stream",
     "text": [
      " 23%|██▎       | 228/999 [4:30:02<18:32:32, 86.58s/it]"
     ]
    },
    {
     "name": "stdout",
     "output_type": "stream",
     "text": [
      "eigenvalues shape torch.Size([5]) eigenvectors shape torch.Size([5, 1024])\n",
      "228 /home/phdcs2/Hard_Disk/Datasets/Deep-Spectral-Segmentation/data/object-segmentation/ECSSD/features/0230_resized.pth\n",
      "dict_keys(['k', 'indices', 'file', 'id', 'model_name', 'patch_size', 'shape'])\n",
      "0230_resized\n"
     ]
    },
    {
     "name": "stderr",
     "output_type": "stream",
     "text": [
      "/home/phdcs2/Hard_Disk/Projects/T2I/deep-spectral-segmentation/venv/lib/python3.8/site-packages/sklearn/decomposition/_pca.py:642: RuntimeWarning: invalid value encountered in divide\n",
      "  self.explained_variance_ratio_ = self.explained_variance_ / total_var\n"
     ]
    },
    {
     "name": "stdout",
     "output_type": "stream",
     "text": [
      "Starting Training\n",
      "epoch: 00, loss: -0.92435\n",
      "epoch: 01, loss: -0.95525\n",
      "epoch: 02, loss: -0.96177\n",
      "epoch: 03, loss: -0.96552\n",
      "epoch: 04, loss: -0.96819\n",
      "epoch: 05, loss: -0.97013\n",
      "epoch: 06, loss: -0.97164\n",
      "epoch: 07, loss: -0.97292\n",
      "epoch: 08, loss: -0.97400\n",
      "epoch: 09, loss: -0.97489\n",
      "torch.Size([1024, 64])\n"
     ]
    },
    {
     "name": "stderr",
     "output_type": "stream",
     "text": [
      " 23%|██▎       | 229/999 [4:31:31<18:41:07, 87.36s/it]"
     ]
    },
    {
     "name": "stdout",
     "output_type": "stream",
     "text": [
      "eigenvalues shape torch.Size([5]) eigenvectors shape torch.Size([5, 1024])\n",
      "229 /home/phdcs2/Hard_Disk/Datasets/Deep-Spectral-Segmentation/data/object-segmentation/ECSSD/features/0231_resized.pth\n",
      "dict_keys(['k', 'indices', 'file', 'id', 'model_name', 'patch_size', 'shape'])\n",
      "0231_resized\n"
     ]
    },
    {
     "name": "stderr",
     "output_type": "stream",
     "text": [
      "/home/phdcs2/Hard_Disk/Projects/T2I/deep-spectral-segmentation/venv/lib/python3.8/site-packages/sklearn/decomposition/_pca.py:642: RuntimeWarning: invalid value encountered in divide\n",
      "  self.explained_variance_ratio_ = self.explained_variance_ / total_var\n"
     ]
    },
    {
     "name": "stdout",
     "output_type": "stream",
     "text": [
      "Starting Training\n",
      "epoch: 00, loss: -0.92798\n",
      "epoch: 01, loss: -0.95886\n",
      "epoch: 02, loss: -0.96482\n",
      "epoch: 03, loss: -0.96829\n",
      "epoch: 04, loss: -0.97061\n",
      "epoch: 05, loss: -0.97239\n",
      "epoch: 06, loss: -0.97377\n",
      "epoch: 07, loss: -0.97490\n",
      "epoch: 08, loss: -0.97585\n",
      "epoch: 09, loss: -0.97665\n",
      "torch.Size([1024, 64])\n"
     ]
    },
    {
     "name": "stderr",
     "output_type": "stream",
     "text": [
      " 23%|██▎       | 230/999 [4:32:55<18:29:06, 86.54s/it]"
     ]
    },
    {
     "name": "stdout",
     "output_type": "stream",
     "text": [
      "eigenvalues shape torch.Size([5]) eigenvectors shape torch.Size([5, 1024])\n",
      "230 /home/phdcs2/Hard_Disk/Datasets/Deep-Spectral-Segmentation/data/object-segmentation/ECSSD/features/0232_resized.pth\n",
      "dict_keys(['k', 'indices', 'file', 'id', 'model_name', 'patch_size', 'shape'])\n",
      "0232_resized\n",
      "Starting Training\n",
      "epoch: 00, loss: -0.86878\n",
      "epoch: 01, loss: -0.92366\n",
      "epoch: 02, loss: -0.93714\n",
      "epoch: 03, loss: -0.94458\n",
      "epoch: 04, loss: -0.94948\n",
      "epoch: 05, loss: -0.95321\n",
      "epoch: 06, loss: -0.95614\n",
      "epoch: 07, loss: -0.95837\n",
      "epoch: 08, loss: -0.96033\n",
      "epoch: 09, loss: -0.96189\n",
      "torch.Size([1024, 64])\n"
     ]
    },
    {
     "name": "stderr",
     "output_type": "stream",
     "text": [
      " 23%|██▎       | 231/999 [4:34:25<18:40:18, 87.52s/it]"
     ]
    },
    {
     "name": "stdout",
     "output_type": "stream",
     "text": [
      "eigenvalues shape torch.Size([5]) eigenvectors shape torch.Size([5, 1024])\n",
      "231 /home/phdcs2/Hard_Disk/Datasets/Deep-Spectral-Segmentation/data/object-segmentation/ECSSD/features/0233_resized.pth\n",
      "dict_keys(['k', 'indices', 'file', 'id', 'model_name', 'patch_size', 'shape'])\n",
      "0233_resized\n"
     ]
    },
    {
     "name": "stderr",
     "output_type": "stream",
     "text": [
      "/home/phdcs2/Hard_Disk/Projects/T2I/deep-spectral-segmentation/venv/lib/python3.8/site-packages/sklearn/decomposition/_pca.py:642: RuntimeWarning: invalid value encountered in divide\n",
      "  self.explained_variance_ratio_ = self.explained_variance_ / total_var\n"
     ]
    },
    {
     "name": "stdout",
     "output_type": "stream",
     "text": [
      "Starting Training\n",
      "epoch: 00, loss: -0.91674\n",
      "epoch: 01, loss: -0.95024\n",
      "epoch: 02, loss: -0.95823\n",
      "epoch: 03, loss: -0.96288\n",
      "epoch: 04, loss: -0.96600\n",
      "epoch: 05, loss: -0.96833\n",
      "epoch: 06, loss: -0.97013\n",
      "epoch: 07, loss: -0.97162\n",
      "epoch: 08, loss: -0.97286\n",
      "epoch: 09, loss: -0.97392\n",
      "torch.Size([1024, 64])\n"
     ]
    },
    {
     "name": "stderr",
     "output_type": "stream",
     "text": [
      " 23%|██▎       | 232/999 [4:35:48<18:21:19, 86.15s/it]"
     ]
    },
    {
     "name": "stdout",
     "output_type": "stream",
     "text": [
      "eigenvalues shape torch.Size([5]) eigenvectors shape torch.Size([5, 1024])\n",
      "232 /home/phdcs2/Hard_Disk/Datasets/Deep-Spectral-Segmentation/data/object-segmentation/ECSSD/features/0234_resized.pth\n",
      "dict_keys(['k', 'indices', 'file', 'id', 'model_name', 'patch_size', 'shape'])\n",
      "0234_resized\n",
      "Starting Training\n",
      "epoch: 00, loss: -0.85424\n",
      "epoch: 01, loss: -0.91545\n",
      "epoch: 02, loss: -0.93105\n",
      "epoch: 03, loss: -0.94001\n",
      "epoch: 04, loss: -0.94563\n",
      "epoch: 05, loss: -0.94974\n",
      "epoch: 06, loss: -0.95304\n",
      "epoch: 07, loss: -0.95563\n",
      "epoch: 08, loss: -0.95789\n",
      "epoch: 09, loss: -0.95963\n",
      "torch.Size([1024, 64])\n"
     ]
    },
    {
     "name": "stderr",
     "output_type": "stream",
     "text": [
      " 23%|██▎       | 233/999 [4:37:08<17:56:59, 84.36s/it]"
     ]
    },
    {
     "name": "stdout",
     "output_type": "stream",
     "text": [
      "eigenvalues shape torch.Size([5]) eigenvectors shape torch.Size([5, 1024])\n",
      "233 /home/phdcs2/Hard_Disk/Datasets/Deep-Spectral-Segmentation/data/object-segmentation/ECSSD/features/0235_resized.pth\n",
      "dict_keys(['k', 'indices', 'file', 'id', 'model_name', 'patch_size', 'shape'])\n",
      "0235_resized\n",
      "Starting Training\n",
      "epoch: 00, loss: -0.87008\n",
      "epoch: 01, loss: -0.92305\n",
      "epoch: 02, loss: -0.93699\n",
      "epoch: 03, loss: -0.94485\n",
      "epoch: 04, loss: -0.95001\n",
      "epoch: 05, loss: -0.95392\n",
      "epoch: 06, loss: -0.95693\n",
      "epoch: 07, loss: -0.95929\n",
      "epoch: 08, loss: -0.96131\n",
      "epoch: 09, loss: -0.96298\n",
      "torch.Size([1024, 64])\n"
     ]
    },
    {
     "name": "stderr",
     "output_type": "stream",
     "text": [
      " 23%|██▎       | 234/999 [4:38:29<17:41:33, 83.26s/it]"
     ]
    },
    {
     "name": "stdout",
     "output_type": "stream",
     "text": [
      "eigenvalues shape torch.Size([5]) eigenvectors shape torch.Size([5, 1024])\n",
      "234 /home/phdcs2/Hard_Disk/Datasets/Deep-Spectral-Segmentation/data/object-segmentation/ECSSD/features/0236_resized.pth\n",
      "dict_keys(['k', 'indices', 'file', 'id', 'model_name', 'patch_size', 'shape'])\n",
      "0236_resized\n"
     ]
    },
    {
     "name": "stderr",
     "output_type": "stream",
     "text": [
      "/home/phdcs2/Hard_Disk/Projects/T2I/deep-spectral-segmentation/venv/lib/python3.8/site-packages/sklearn/decomposition/_pca.py:642: RuntimeWarning: invalid value encountered in divide\n",
      "  self.explained_variance_ratio_ = self.explained_variance_ / total_var\n"
     ]
    },
    {
     "name": "stdout",
     "output_type": "stream",
     "text": [
      "Starting Training\n",
      "epoch: 00, loss: -0.90998\n",
      "epoch: 01, loss: -0.94575\n",
      "epoch: 02, loss: -0.95419\n",
      "epoch: 03, loss: -0.95907\n",
      "epoch: 04, loss: -0.96241\n",
      "epoch: 05, loss: -0.96490\n",
      "epoch: 06, loss: -0.96687\n",
      "epoch: 07, loss: -0.96845\n",
      "epoch: 08, loss: -0.96981\n",
      "epoch: 09, loss: -0.97095\n",
      "torch.Size([1024, 64])\n"
     ]
    },
    {
     "name": "stderr",
     "output_type": "stream",
     "text": [
      " 24%|██▎       | 235/999 [4:39:49<17:27:30, 82.27s/it]"
     ]
    },
    {
     "name": "stdout",
     "output_type": "stream",
     "text": [
      "eigenvalues shape torch.Size([5]) eigenvectors shape torch.Size([5, 1024])\n",
      "235 /home/phdcs2/Hard_Disk/Datasets/Deep-Spectral-Segmentation/data/object-segmentation/ECSSD/features/0237_resized.pth\n",
      "dict_keys(['k', 'indices', 'file', 'id', 'model_name', 'patch_size', 'shape'])\n",
      "0237_resized\n",
      "Starting Training\n",
      "epoch: 00, loss: -0.89337\n",
      "epoch: 01, loss: -0.93577\n",
      "epoch: 02, loss: -0.94650\n",
      "epoch: 03, loss: -0.95271\n",
      "epoch: 04, loss: -0.95689\n",
      "epoch: 05, loss: -0.95995\n",
      "epoch: 06, loss: -0.96240\n",
      "epoch: 07, loss: -0.96435\n",
      "epoch: 08, loss: -0.96590\n",
      "epoch: 09, loss: -0.96736\n",
      "torch.Size([1024, 64])\n"
     ]
    },
    {
     "name": "stderr",
     "output_type": "stream",
     "text": [
      " 24%|██▎       | 236/999 [4:40:59<16:38:44, 78.54s/it]"
     ]
    },
    {
     "name": "stdout",
     "output_type": "stream",
     "text": [
      "eigenvalues shape torch.Size([5]) eigenvectors shape torch.Size([5, 1024])\n",
      "236 /home/phdcs2/Hard_Disk/Datasets/Deep-Spectral-Segmentation/data/object-segmentation/ECSSD/features/0238_resized.pth\n",
      "dict_keys(['k', 'indices', 'file', 'id', 'model_name', 'patch_size', 'shape'])\n",
      "0238_resized\n"
     ]
    },
    {
     "name": "stderr",
     "output_type": "stream",
     "text": [
      "/home/phdcs2/Hard_Disk/Projects/T2I/deep-spectral-segmentation/venv/lib/python3.8/site-packages/sklearn/decomposition/_pca.py:642: RuntimeWarning: invalid value encountered in divide\n",
      "  self.explained_variance_ratio_ = self.explained_variance_ / total_var\n"
     ]
    },
    {
     "name": "stdout",
     "output_type": "stream",
     "text": [
      "Starting Training\n",
      "epoch: 00, loss: -0.93966\n",
      "epoch: 01, loss: -0.96578\n",
      "epoch: 02, loss: -0.97138\n",
      "epoch: 03, loss: -0.97466\n",
      "epoch: 04, loss: -0.97692\n",
      "epoch: 05, loss: -0.97856\n",
      "epoch: 06, loss: -0.97986\n",
      "epoch: 07, loss: -0.98093\n",
      "epoch: 08, loss: -0.98181\n",
      "epoch: 09, loss: -0.98256\n",
      "torch.Size([1024, 64])\n"
     ]
    },
    {
     "name": "stderr",
     "output_type": "stream",
     "text": [
      " 24%|██▎       | 237/999 [4:42:12<16:16:31, 76.89s/it]"
     ]
    },
    {
     "name": "stdout",
     "output_type": "stream",
     "text": [
      "eigenvalues shape torch.Size([5]) eigenvectors shape torch.Size([5, 1024])\n",
      "237 /home/phdcs2/Hard_Disk/Datasets/Deep-Spectral-Segmentation/data/object-segmentation/ECSSD/features/0239_resized.pth\n",
      "dict_keys(['k', 'indices', 'file', 'id', 'model_name', 'patch_size', 'shape'])\n",
      "0239_resized\n",
      "Starting Training\n",
      "epoch: 00, loss: -0.86895\n",
      "epoch: 01, loss: -0.92240\n",
      "epoch: 02, loss: -0.93635\n",
      "epoch: 03, loss: -0.94420\n",
      "epoch: 04, loss: -0.94952\n",
      "epoch: 05, loss: -0.95346\n",
      "epoch: 06, loss: -0.95638\n",
      "epoch: 07, loss: -0.95873\n",
      "epoch: 08, loss: -0.96076\n",
      "epoch: 09, loss: -0.96247\n",
      "torch.Size([1024, 64])\n"
     ]
    },
    {
     "name": "stderr",
     "output_type": "stream",
     "text": [
      " 24%|██▍       | 238/999 [4:43:35<16:38:53, 78.76s/it]"
     ]
    },
    {
     "name": "stdout",
     "output_type": "stream",
     "text": [
      "eigenvalues shape torch.Size([5]) eigenvectors shape torch.Size([5, 1024])\n",
      "238 /home/phdcs2/Hard_Disk/Datasets/Deep-Spectral-Segmentation/data/object-segmentation/ECSSD/features/0240_resized.pth\n",
      "dict_keys(['k', 'indices', 'file', 'id', 'model_name', 'patch_size', 'shape'])\n",
      "0240_resized\n"
     ]
    },
    {
     "name": "stderr",
     "output_type": "stream",
     "text": [
      "/home/phdcs2/Hard_Disk/Projects/T2I/deep-spectral-segmentation/venv/lib/python3.8/site-packages/sklearn/decomposition/_pca.py:642: RuntimeWarning: invalid value encountered in divide\n",
      "  self.explained_variance_ratio_ = self.explained_variance_ / total_var\n"
     ]
    },
    {
     "name": "stdout",
     "output_type": "stream",
     "text": [
      "Starting Training\n",
      "epoch: 00, loss: -0.92735\n",
      "epoch: 01, loss: -0.95412\n",
      "epoch: 02, loss: -0.96056\n",
      "epoch: 03, loss: -0.96448\n",
      "epoch: 04, loss: -0.96708\n",
      "epoch: 05, loss: -0.96908\n",
      "epoch: 06, loss: -0.97067\n",
      "epoch: 07, loss: -0.97197\n",
      "epoch: 08, loss: -0.97303\n",
      "epoch: 09, loss: -0.97399\n",
      "torch.Size([1024, 64])\n"
     ]
    },
    {
     "name": "stderr",
     "output_type": "stream",
     "text": [
      " 24%|██▍       | 239/999 [4:44:56<16:45:55, 79.41s/it]"
     ]
    },
    {
     "name": "stdout",
     "output_type": "stream",
     "text": [
      "eigenvalues shape torch.Size([5]) eigenvectors shape torch.Size([5, 1024])\n",
      "239 /home/phdcs2/Hard_Disk/Datasets/Deep-Spectral-Segmentation/data/object-segmentation/ECSSD/features/0241_resized.pth\n",
      "dict_keys(['k', 'indices', 'file', 'id', 'model_name', 'patch_size', 'shape'])\n",
      "0241_resized\n"
     ]
    },
    {
     "name": "stderr",
     "output_type": "stream",
     "text": [
      "/home/phdcs2/Hard_Disk/Projects/T2I/deep-spectral-segmentation/venv/lib/python3.8/site-packages/sklearn/decomposition/_pca.py:642: RuntimeWarning: invalid value encountered in divide\n",
      "  self.explained_variance_ratio_ = self.explained_variance_ / total_var\n"
     ]
    },
    {
     "name": "stdout",
     "output_type": "stream",
     "text": [
      "Starting Training\n",
      "epoch: 00, loss: -0.92487\n",
      "epoch: 01, loss: -0.95595\n",
      "epoch: 02, loss: -0.96319\n",
      "epoch: 03, loss: -0.96739\n",
      "epoch: 04, loss: -0.97021\n",
      "epoch: 05, loss: -0.97228\n",
      "epoch: 06, loss: -0.97390\n",
      "epoch: 07, loss: -0.97524\n",
      "epoch: 08, loss: -0.97635\n",
      "epoch: 09, loss: -0.97727\n",
      "torch.Size([1024, 64])\n"
     ]
    },
    {
     "name": "stderr",
     "output_type": "stream",
     "text": [
      " 24%|██▍       | 240/999 [4:46:17<16:51:14, 79.94s/it]"
     ]
    },
    {
     "name": "stdout",
     "output_type": "stream",
     "text": [
      "eigenvalues shape torch.Size([5]) eigenvectors shape torch.Size([5, 1024])\n",
      "240 /home/phdcs2/Hard_Disk/Datasets/Deep-Spectral-Segmentation/data/object-segmentation/ECSSD/features/0242_resized.pth\n",
      "dict_keys(['k', 'indices', 'file', 'id', 'model_name', 'patch_size', 'shape'])\n",
      "0242_resized\n",
      "Starting Training\n",
      "epoch: 00, loss: -0.86547\n",
      "epoch: 01, loss: -0.91708\n",
      "epoch: 02, loss: -0.93135\n",
      "epoch: 03, loss: -0.93953\n",
      "epoch: 04, loss: -0.94519\n",
      "epoch: 05, loss: -0.94940\n",
      "epoch: 06, loss: -0.95248\n",
      "epoch: 07, loss: -0.95508\n",
      "epoch: 08, loss: -0.95728\n",
      "epoch: 09, loss: -0.95909\n",
      "torch.Size([1024, 64])\n"
     ]
    },
    {
     "name": "stderr",
     "output_type": "stream",
     "text": [
      " 24%|██▍       | 241/999 [4:47:41<17:04:05, 81.06s/it]"
     ]
    },
    {
     "name": "stdout",
     "output_type": "stream",
     "text": [
      "eigenvalues shape torch.Size([5]) eigenvectors shape torch.Size([5, 1024])\n",
      "241 /home/phdcs2/Hard_Disk/Datasets/Deep-Spectral-Segmentation/data/object-segmentation/ECSSD/features/0243_resized.pth\n",
      "dict_keys(['k', 'indices', 'file', 'id', 'model_name', 'patch_size', 'shape'])\n",
      "0243_resized\n",
      "Starting Training\n",
      "epoch: 00, loss: -0.89213\n",
      "epoch: 01, loss: -0.93495\n",
      "epoch: 02, loss: -0.94606\n",
      "epoch: 03, loss: -0.95240\n",
      "epoch: 04, loss: -0.95656\n",
      "epoch: 05, loss: -0.95971\n",
      "epoch: 06, loss: -0.96212\n",
      "epoch: 07, loss: -0.96406\n",
      "epoch: 08, loss: -0.96572\n",
      "epoch: 09, loss: -0.96711\n",
      "torch.Size([1024, 64])\n"
     ]
    },
    {
     "name": "stderr",
     "output_type": "stream",
     "text": [
      " 24%|██▍       | 242/999 [4:49:09<17:31:02, 83.31s/it]"
     ]
    },
    {
     "name": "stdout",
     "output_type": "stream",
     "text": [
      "eigenvalues shape torch.Size([5]) eigenvectors shape torch.Size([5, 1024])\n",
      "242 /home/phdcs2/Hard_Disk/Datasets/Deep-Spectral-Segmentation/data/object-segmentation/ECSSD/features/0244_resized.pth\n",
      "dict_keys(['k', 'indices', 'file', 'id', 'model_name', 'patch_size', 'shape'])\n",
      "0244_resized\n",
      "Starting Training\n",
      "epoch: 00, loss: -0.85672\n",
      "epoch: 01, loss: -0.91451\n",
      "epoch: 02, loss: -0.92978\n",
      "epoch: 03, loss: -0.93816\n",
      "epoch: 04, loss: -0.94398\n",
      "epoch: 05, loss: -0.94817\n",
      "epoch: 06, loss: -0.95136\n",
      "epoch: 07, loss: -0.95395\n",
      "epoch: 08, loss: -0.95598\n",
      "epoch: 09, loss: -0.95780\n",
      "torch.Size([1024, 64])\n"
     ]
    },
    {
     "name": "stderr",
     "output_type": "stream",
     "text": [
      " 24%|██▍       | 243/999 [4:50:45<18:14:33, 86.87s/it]"
     ]
    },
    {
     "name": "stdout",
     "output_type": "stream",
     "text": [
      "eigenvalues shape torch.Size([5]) eigenvectors shape torch.Size([5, 1024])\n",
      "243 /home/phdcs2/Hard_Disk/Datasets/Deep-Spectral-Segmentation/data/object-segmentation/ECSSD/features/0245_resized.pth\n",
      "dict_keys(['k', 'indices', 'file', 'id', 'model_name', 'patch_size', 'shape'])\n",
      "0245_resized\n"
     ]
    },
    {
     "name": "stderr",
     "output_type": "stream",
     "text": [
      "/home/phdcs2/Hard_Disk/Projects/T2I/deep-spectral-segmentation/venv/lib/python3.8/site-packages/sklearn/decomposition/_pca.py:642: RuntimeWarning: invalid value encountered in divide\n",
      "  self.explained_variance_ratio_ = self.explained_variance_ / total_var\n"
     ]
    },
    {
     "name": "stdout",
     "output_type": "stream",
     "text": [
      "Starting Training\n",
      "epoch: 00, loss: -0.92571\n",
      "epoch: 01, loss: -0.95475\n",
      "epoch: 02, loss: -0.96173\n",
      "epoch: 03, loss: -0.96582\n",
      "epoch: 04, loss: -0.96863\n",
      "epoch: 05, loss: -0.97071\n",
      "epoch: 06, loss: -0.97232\n",
      "epoch: 07, loss: -0.97366\n",
      "epoch: 08, loss: -0.97476\n",
      "epoch: 09, loss: -0.97573\n",
      "torch.Size([1024, 64])\n"
     ]
    },
    {
     "name": "stderr",
     "output_type": "stream",
     "text": [
      " 24%|██▍       | 244/999 [4:52:15<18:26:14, 87.91s/it]"
     ]
    },
    {
     "name": "stdout",
     "output_type": "stream",
     "text": [
      "eigenvalues shape torch.Size([5]) eigenvectors shape torch.Size([5, 1024])\n",
      "244 /home/phdcs2/Hard_Disk/Datasets/Deep-Spectral-Segmentation/data/object-segmentation/ECSSD/features/0246_resized.pth\n",
      "dict_keys(['k', 'indices', 'file', 'id', 'model_name', 'patch_size', 'shape'])\n",
      "0246_resized\n",
      "Starting Training\n",
      "epoch: 00, loss: -0.86011\n",
      "epoch: 01, loss: -0.91496\n",
      "epoch: 02, loss: -0.93009\n",
      "epoch: 03, loss: -0.93868\n",
      "epoch: 04, loss: -0.94412\n",
      "epoch: 05, loss: -0.94842\n",
      "epoch: 06, loss: -0.95180\n",
      "epoch: 07, loss: -0.95432\n",
      "epoch: 08, loss: -0.95655\n",
      "epoch: 09, loss: -0.95839\n",
      "torch.Size([1024, 64])\n"
     ]
    },
    {
     "name": "stderr",
     "output_type": "stream",
     "text": [
      " 25%|██▍       | 245/999 [4:53:47<18:40:54, 89.20s/it]"
     ]
    },
    {
     "name": "stdout",
     "output_type": "stream",
     "text": [
      "eigenvalues shape torch.Size([5]) eigenvectors shape torch.Size([5, 1024])\n",
      "245 /home/phdcs2/Hard_Disk/Datasets/Deep-Spectral-Segmentation/data/object-segmentation/ECSSD/features/0247_resized.pth\n",
      "dict_keys(['k', 'indices', 'file', 'id', 'model_name', 'patch_size', 'shape'])\n",
      "0247_resized\n"
     ]
    },
    {
     "name": "stderr",
     "output_type": "stream",
     "text": [
      "/home/phdcs2/Hard_Disk/Projects/T2I/deep-spectral-segmentation/venv/lib/python3.8/site-packages/sklearn/decomposition/_pca.py:642: RuntimeWarning: invalid value encountered in divide\n",
      "  self.explained_variance_ratio_ = self.explained_variance_ / total_var\n"
     ]
    },
    {
     "name": "stdout",
     "output_type": "stream",
     "text": [
      "Starting Training\n",
      "epoch: 00, loss: -0.92944\n",
      "epoch: 01, loss: -0.95835\n",
      "epoch: 02, loss: -0.96472\n",
      "epoch: 03, loss: -0.96840\n",
      "epoch: 04, loss: -0.97087\n",
      "epoch: 05, loss: -0.97271\n",
      "epoch: 06, loss: -0.97419\n",
      "epoch: 07, loss: -0.97537\n",
      "epoch: 08, loss: -0.97637\n",
      "epoch: 09, loss: -0.97723\n",
      "torch.Size([1024, 64])\n"
     ]
    },
    {
     "name": "stderr",
     "output_type": "stream",
     "text": [
      " 25%|██▍       | 246/999 [4:55:24<19:06:53, 91.39s/it]"
     ]
    },
    {
     "name": "stdout",
     "output_type": "stream",
     "text": [
      "eigenvalues shape torch.Size([5]) eigenvectors shape torch.Size([5, 1024])\n",
      "246 /home/phdcs2/Hard_Disk/Datasets/Deep-Spectral-Segmentation/data/object-segmentation/ECSSD/features/0248_resized.pth\n",
      "dict_keys(['k', 'indices', 'file', 'id', 'model_name', 'patch_size', 'shape'])\n",
      "0248_resized\n"
     ]
    },
    {
     "name": "stderr",
     "output_type": "stream",
     "text": [
      "/home/phdcs2/Hard_Disk/Projects/T2I/deep-spectral-segmentation/venv/lib/python3.8/site-packages/sklearn/decomposition/_pca.py:642: RuntimeWarning: invalid value encountered in divide\n",
      "  self.explained_variance_ratio_ = self.explained_variance_ / total_var\n"
     ]
    },
    {
     "name": "stdout",
     "output_type": "stream",
     "text": [
      "Starting Training\n",
      "epoch: 00, loss: -0.92220\n",
      "epoch: 01, loss: -0.95329\n",
      "epoch: 02, loss: -0.96084\n",
      "epoch: 03, loss: -0.96515\n",
      "epoch: 04, loss: -0.96810\n",
      "epoch: 05, loss: -0.97030\n",
      "epoch: 06, loss: -0.97200\n",
      "epoch: 07, loss: -0.97342\n",
      "epoch: 08, loss: -0.97455\n",
      "epoch: 09, loss: -0.97556\n",
      "torch.Size([1024, 64])\n"
     ]
    },
    {
     "name": "stderr",
     "output_type": "stream",
     "text": [
      " 25%|██▍       | 247/999 [4:56:44<18:25:06, 88.17s/it]"
     ]
    },
    {
     "name": "stdout",
     "output_type": "stream",
     "text": [
      "eigenvalues shape torch.Size([5]) eigenvectors shape torch.Size([5, 1024])\n",
      "247 /home/phdcs2/Hard_Disk/Datasets/Deep-Spectral-Segmentation/data/object-segmentation/ECSSD/features/0249_resized.pth\n",
      "dict_keys(['k', 'indices', 'file', 'id', 'model_name', 'patch_size', 'shape'])\n",
      "0249_resized\n"
     ]
    },
    {
     "name": "stderr",
     "output_type": "stream",
     "text": [
      "/home/phdcs2/Hard_Disk/Projects/T2I/deep-spectral-segmentation/venv/lib/python3.8/site-packages/sklearn/decomposition/_pca.py:642: RuntimeWarning: invalid value encountered in divide\n",
      "  self.explained_variance_ratio_ = self.explained_variance_ / total_var\n"
     ]
    },
    {
     "name": "stdout",
     "output_type": "stream",
     "text": [
      "Starting Training\n",
      "epoch: 00, loss: -0.92304\n",
      "epoch: 01, loss: -0.95547\n",
      "epoch: 02, loss: -0.96242\n",
      "epoch: 03, loss: -0.96642\n",
      "epoch: 04, loss: -0.96918\n",
      "epoch: 05, loss: -0.97123\n",
      "epoch: 06, loss: -0.97284\n",
      "epoch: 07, loss: -0.97415\n",
      "epoch: 08, loss: -0.97524\n",
      "epoch: 09, loss: -0.97616\n",
      "torch.Size([1024, 64])\n"
     ]
    },
    {
     "name": "stderr",
     "output_type": "stream",
     "text": [
      " 25%|██▍       | 248/999 [4:58:10<18:15:05, 87.49s/it]"
     ]
    },
    {
     "name": "stdout",
     "output_type": "stream",
     "text": [
      "eigenvalues shape torch.Size([5]) eigenvectors shape torch.Size([5, 1024])\n",
      "248 /home/phdcs2/Hard_Disk/Datasets/Deep-Spectral-Segmentation/data/object-segmentation/ECSSD/features/0250_resized.pth\n",
      "dict_keys(['k', 'indices', 'file', 'id', 'model_name', 'patch_size', 'shape'])\n",
      "0250_resized\n",
      "Starting Training\n",
      "epoch: 00, loss: -0.93092\n",
      "epoch: 01, loss: -0.96010\n",
      "epoch: 02, loss: -0.96622\n",
      "epoch: 03, loss: -0.96975\n",
      "epoch: 04, loss: -0.97220\n",
      "epoch: 05, loss: -0.97403\n",
      "epoch: 06, loss: -0.97547\n",
      "epoch: 07, loss: -0.97664\n",
      "epoch: 08, loss: -0.97761\n",
      "epoch: 09, loss: -0.97849\n",
      "torch.Size([1024, 64])\n"
     ]
    },
    {
     "name": "stderr",
     "output_type": "stream",
     "text": [
      " 25%|██▍       | 249/999 [4:59:36<18:08:39, 87.09s/it]"
     ]
    },
    {
     "name": "stdout",
     "output_type": "stream",
     "text": [
      "eigenvalues shape torch.Size([5]) eigenvectors shape torch.Size([5, 1024])\n",
      "249 /home/phdcs2/Hard_Disk/Datasets/Deep-Spectral-Segmentation/data/object-segmentation/ECSSD/features/0251_resized.pth\n",
      "dict_keys(['k', 'indices', 'file', 'id', 'model_name', 'patch_size', 'shape'])\n",
      "0251_resized\n",
      "Starting Training\n",
      "epoch: 00, loss: -0.93458\n",
      "epoch: 01, loss: -0.96064\n",
      "epoch: 02, loss: -0.96677\n",
      "epoch: 03, loss: -0.97030\n",
      "epoch: 04, loss: -0.97268\n",
      "epoch: 05, loss: -0.97447\n",
      "epoch: 06, loss: -0.97586\n",
      "epoch: 07, loss: -0.97699\n",
      "epoch: 08, loss: -0.97795\n",
      "epoch: 09, loss: -0.97874\n",
      "torch.Size([1024, 64])\n"
     ]
    },
    {
     "name": "stderr",
     "output_type": "stream",
     "text": [
      " 25%|██▌       | 250/999 [5:00:58<17:46:52, 85.46s/it]"
     ]
    },
    {
     "name": "stdout",
     "output_type": "stream",
     "text": [
      "eigenvalues shape torch.Size([5]) eigenvectors shape torch.Size([5, 1024])\n",
      "250 /home/phdcs2/Hard_Disk/Datasets/Deep-Spectral-Segmentation/data/object-segmentation/ECSSD/features/0252_resized.pth\n",
      "dict_keys(['k', 'indices', 'file', 'id', 'model_name', 'patch_size', 'shape'])\n",
      "0252_resized\n"
     ]
    },
    {
     "name": "stderr",
     "output_type": "stream",
     "text": [
      "/home/phdcs2/Hard_Disk/Projects/T2I/deep-spectral-segmentation/venv/lib/python3.8/site-packages/sklearn/decomposition/_pca.py:642: RuntimeWarning: invalid value encountered in divide\n",
      "  self.explained_variance_ratio_ = self.explained_variance_ / total_var\n"
     ]
    },
    {
     "name": "stdout",
     "output_type": "stream",
     "text": [
      "Starting Training\n",
      "epoch: 00, loss: -0.93054\n",
      "epoch: 01, loss: -0.95925\n",
      "epoch: 02, loss: -0.96543\n",
      "epoch: 03, loss: -0.96900\n",
      "epoch: 04, loss: -0.97147\n",
      "epoch: 05, loss: -0.97336\n",
      "epoch: 06, loss: -0.97479\n",
      "epoch: 07, loss: -0.97600\n",
      "epoch: 08, loss: -0.97698\n",
      "epoch: 09, loss: -0.97784\n",
      "torch.Size([1024, 64])\n"
     ]
    },
    {
     "name": "stderr",
     "output_type": "stream",
     "text": [
      " 25%|██▌       | 251/999 [5:02:23<17:41:59, 85.19s/it]"
     ]
    },
    {
     "name": "stdout",
     "output_type": "stream",
     "text": [
      "eigenvalues shape torch.Size([5]) eigenvectors shape torch.Size([5, 1024])\n",
      "251 /home/phdcs2/Hard_Disk/Datasets/Deep-Spectral-Segmentation/data/object-segmentation/ECSSD/features/0253_resized.pth\n",
      "dict_keys(['k', 'indices', 'file', 'id', 'model_name', 'patch_size', 'shape'])\n",
      "0253_resized\n",
      "Starting Training\n",
      "epoch: 00, loss: -0.86491\n",
      "epoch: 01, loss: -0.92079\n",
      "epoch: 02, loss: -0.93483\n",
      "epoch: 03, loss: -0.94273\n",
      "epoch: 04, loss: -0.94804\n",
      "epoch: 05, loss: -0.95194\n",
      "epoch: 06, loss: -0.95490\n",
      "epoch: 07, loss: -0.95725\n",
      "epoch: 08, loss: -0.95925\n",
      "epoch: 09, loss: -0.96095\n",
      "torch.Size([1024, 64])\n"
     ]
    },
    {
     "name": "stderr",
     "output_type": "stream",
     "text": [
      " 25%|██▌       | 252/999 [5:03:44<17:24:58, 83.93s/it]"
     ]
    },
    {
     "name": "stdout",
     "output_type": "stream",
     "text": [
      "eigenvalues shape torch.Size([5]) eigenvectors shape torch.Size([5, 1024])\n",
      "252 /home/phdcs2/Hard_Disk/Datasets/Deep-Spectral-Segmentation/data/object-segmentation/ECSSD/features/0254_resized.pth\n",
      "dict_keys(['k', 'indices', 'file', 'id', 'model_name', 'patch_size', 'shape'])\n",
      "0254_resized\n",
      "Starting Training\n",
      "epoch: 00, loss: -0.92299\n",
      "epoch: 01, loss: -0.95162\n",
      "epoch: 02, loss: -0.95889\n",
      "epoch: 03, loss: -0.96313\n",
      "epoch: 04, loss: -0.96609\n",
      "epoch: 05, loss: -0.96829\n",
      "epoch: 06, loss: -0.97003\n",
      "epoch: 07, loss: -0.97148\n",
      "epoch: 08, loss: -0.97265\n",
      "epoch: 09, loss: -0.97368\n",
      "torch.Size([1024, 64])\n"
     ]
    },
    {
     "name": "stderr",
     "output_type": "stream",
     "text": [
      " 25%|██▌       | 253/999 [5:05:09<17:28:01, 84.29s/it]"
     ]
    },
    {
     "name": "stdout",
     "output_type": "stream",
     "text": [
      "eigenvalues shape torch.Size([5]) eigenvectors shape torch.Size([5, 1024])\n",
      "253 /home/phdcs2/Hard_Disk/Datasets/Deep-Spectral-Segmentation/data/object-segmentation/ECSSD/features/0255_resized.pth\n",
      "dict_keys(['k', 'indices', 'file', 'id', 'model_name', 'patch_size', 'shape'])\n",
      "0255_resized\n",
      "Starting Training\n",
      "epoch: 00, loss: -0.90258\n",
      "epoch: 01, loss: -0.94061\n",
      "epoch: 02, loss: -0.94991\n",
      "epoch: 03, loss: -0.95527\n",
      "epoch: 04, loss: -0.95897\n",
      "epoch: 05, loss: -0.96168\n",
      "epoch: 06, loss: -0.96381\n",
      "epoch: 07, loss: -0.96562\n",
      "epoch: 08, loss: -0.96720\n",
      "epoch: 09, loss: -0.96844\n",
      "torch.Size([1024, 64])\n"
     ]
    },
    {
     "name": "stderr",
     "output_type": "stream",
     "text": [
      " 25%|██▌       | 254/999 [5:06:37<17:41:55, 85.52s/it]"
     ]
    },
    {
     "name": "stdout",
     "output_type": "stream",
     "text": [
      "eigenvalues shape torch.Size([5]) eigenvectors shape torch.Size([5, 1024])\n",
      "254 /home/phdcs2/Hard_Disk/Datasets/Deep-Spectral-Segmentation/data/object-segmentation/ECSSD/features/0256_resized.pth\n",
      "dict_keys(['k', 'indices', 'file', 'id', 'model_name', 'patch_size', 'shape'])\n",
      "0256_resized\n",
      "Starting Training\n",
      "epoch: 00, loss: -0.91798\n",
      "epoch: 01, loss: -0.94987\n",
      "epoch: 02, loss: -0.95825\n",
      "epoch: 03, loss: -0.96306\n",
      "epoch: 04, loss: -0.96635\n",
      "epoch: 05, loss: -0.96874\n",
      "epoch: 06, loss: -0.97070\n",
      "epoch: 07, loss: -0.97226\n",
      "epoch: 08, loss: -0.97356\n",
      "epoch: 09, loss: -0.97467\n",
      "torch.Size([1024, 64])\n"
     ]
    },
    {
     "name": "stderr",
     "output_type": "stream",
     "text": [
      " 26%|██▌       | 255/999 [5:08:01<17:33:10, 84.93s/it]"
     ]
    },
    {
     "name": "stdout",
     "output_type": "stream",
     "text": [
      "eigenvalues shape torch.Size([5]) eigenvectors shape torch.Size([5, 1024])\n",
      "255 /home/phdcs2/Hard_Disk/Datasets/Deep-Spectral-Segmentation/data/object-segmentation/ECSSD/features/0257_resized.pth\n",
      "dict_keys(['k', 'indices', 'file', 'id', 'model_name', 'patch_size', 'shape'])\n",
      "0257_resized\n"
     ]
    },
    {
     "name": "stderr",
     "output_type": "stream",
     "text": [
      "/home/phdcs2/Hard_Disk/Projects/T2I/deep-spectral-segmentation/venv/lib/python3.8/site-packages/sklearn/decomposition/_pca.py:642: RuntimeWarning: invalid value encountered in divide\n",
      "  self.explained_variance_ratio_ = self.explained_variance_ / total_var\n"
     ]
    },
    {
     "name": "stdout",
     "output_type": "stream",
     "text": [
      "Starting Training\n",
      "epoch: 00, loss: -0.91932\n",
      "epoch: 01, loss: -0.95310\n",
      "epoch: 02, loss: -0.96056\n",
      "epoch: 03, loss: -0.96492\n",
      "epoch: 04, loss: -0.96786\n",
      "epoch: 05, loss: -0.97007\n",
      "epoch: 06, loss: -0.97179\n",
      "epoch: 07, loss: -0.97320\n",
      "epoch: 08, loss: -0.97438\n",
      "epoch: 09, loss: -0.97537\n",
      "torch.Size([1024, 64])\n"
     ]
    },
    {
     "name": "stderr",
     "output_type": "stream",
     "text": [
      " 26%|██▌       | 256/999 [5:09:17<17:01:34, 82.50s/it]"
     ]
    },
    {
     "name": "stdout",
     "output_type": "stream",
     "text": [
      "eigenvalues shape torch.Size([5]) eigenvectors shape torch.Size([5, 1024])\n",
      "256 /home/phdcs2/Hard_Disk/Datasets/Deep-Spectral-Segmentation/data/object-segmentation/ECSSD/features/0258_resized.pth\n",
      "dict_keys(['k', 'indices', 'file', 'id', 'model_name', 'patch_size', 'shape'])\n",
      "0258_resized\n"
     ]
    },
    {
     "name": "stderr",
     "output_type": "stream",
     "text": [
      "/home/phdcs2/Hard_Disk/Projects/T2I/deep-spectral-segmentation/venv/lib/python3.8/site-packages/sklearn/decomposition/_pca.py:642: RuntimeWarning: invalid value encountered in divide\n",
      "  self.explained_variance_ratio_ = self.explained_variance_ / total_var\n"
     ]
    },
    {
     "name": "stdout",
     "output_type": "stream",
     "text": [
      "Starting Training\n",
      "epoch: 00, loss: -0.92714\n",
      "epoch: 01, loss: -0.95751\n",
      "epoch: 02, loss: -0.96435\n",
      "epoch: 03, loss: -0.96827\n",
      "epoch: 04, loss: -0.97093\n",
      "epoch: 05, loss: -0.97294\n",
      "epoch: 06, loss: -0.97449\n",
      "epoch: 07, loss: -0.97576\n",
      "epoch: 08, loss: -0.97681\n",
      "epoch: 09, loss: -0.97771\n",
      "torch.Size([1024, 64])\n"
     ]
    },
    {
     "name": "stderr",
     "output_type": "stream",
     "text": [
      " 26%|██▌       | 257/999 [5:10:38<16:51:26, 81.79s/it]"
     ]
    },
    {
     "name": "stdout",
     "output_type": "stream",
     "text": [
      "eigenvalues shape torch.Size([5]) eigenvectors shape torch.Size([5, 1024])\n",
      "257 /home/phdcs2/Hard_Disk/Datasets/Deep-Spectral-Segmentation/data/object-segmentation/ECSSD/features/0259_resized.pth\n",
      "dict_keys(['k', 'indices', 'file', 'id', 'model_name', 'patch_size', 'shape'])\n",
      "0259_resized\n",
      "Starting Training\n",
      "epoch: 00, loss: -0.86581\n",
      "epoch: 01, loss: -0.92270\n",
      "epoch: 02, loss: -0.93605\n",
      "epoch: 03, loss: -0.94362\n",
      "epoch: 04, loss: -0.94859\n",
      "epoch: 05, loss: -0.95232\n",
      "epoch: 06, loss: -0.95503\n",
      "epoch: 07, loss: -0.95734\n",
      "epoch: 08, loss: -0.95929\n",
      "epoch: 09, loss: -0.96088\n",
      "torch.Size([1024, 64])\n"
     ]
    },
    {
     "name": "stderr",
     "output_type": "stream",
     "text": [
      " 26%|██▌       | 258/999 [5:12:02<17:00:36, 82.64s/it]"
     ]
    },
    {
     "name": "stdout",
     "output_type": "stream",
     "text": [
      "eigenvalues shape torch.Size([5]) eigenvectors shape torch.Size([5, 1024])\n",
      "258 /home/phdcs2/Hard_Disk/Datasets/Deep-Spectral-Segmentation/data/object-segmentation/ECSSD/features/0260_resized.pth\n",
      "dict_keys(['k', 'indices', 'file', 'id', 'model_name', 'patch_size', 'shape'])\n",
      "0260_resized\n",
      "Starting Training\n",
      "epoch: 00, loss: -0.92248\n",
      "epoch: 01, loss: -0.95476\n",
      "epoch: 02, loss: -0.96195\n",
      "epoch: 03, loss: -0.96601\n",
      "epoch: 04, loss: -0.96880\n",
      "epoch: 05, loss: -0.97085\n",
      "epoch: 06, loss: -0.97258\n",
      "epoch: 07, loss: -0.97398\n",
      "epoch: 08, loss: -0.97510\n",
      "epoch: 09, loss: -0.97606\n",
      "torch.Size([1024, 64])\n"
     ]
    },
    {
     "name": "stderr",
     "output_type": "stream",
     "text": [
      " 26%|██▌       | 259/999 [5:13:23<16:52:57, 82.13s/it]"
     ]
    },
    {
     "name": "stdout",
     "output_type": "stream",
     "text": [
      "eigenvalues shape torch.Size([5]) eigenvectors shape torch.Size([5, 1024])\n",
      "259 /home/phdcs2/Hard_Disk/Datasets/Deep-Spectral-Segmentation/data/object-segmentation/ECSSD/features/0261_resized.pth\n",
      "dict_keys(['k', 'indices', 'file', 'id', 'model_name', 'patch_size', 'shape'])\n",
      "0261_resized\n"
     ]
    },
    {
     "name": "stderr",
     "output_type": "stream",
     "text": [
      "/home/phdcs2/Hard_Disk/Projects/T2I/deep-spectral-segmentation/venv/lib/python3.8/site-packages/sklearn/decomposition/_pca.py:642: RuntimeWarning: invalid value encountered in divide\n",
      "  self.explained_variance_ratio_ = self.explained_variance_ / total_var\n"
     ]
    },
    {
     "name": "stdout",
     "output_type": "stream",
     "text": [
      "Starting Training\n",
      "epoch: 00, loss: -0.93363\n",
      "epoch: 01, loss: -0.96096\n",
      "epoch: 02, loss: -0.96691\n",
      "epoch: 03, loss: -0.97036\n",
      "epoch: 04, loss: -0.97272\n",
      "epoch: 05, loss: -0.97449\n",
      "epoch: 06, loss: -0.97589\n",
      "epoch: 07, loss: -0.97704\n",
      "epoch: 08, loss: -0.97799\n",
      "epoch: 09, loss: -0.97881\n",
      "torch.Size([1024, 64])\n"
     ]
    },
    {
     "name": "stderr",
     "output_type": "stream",
     "text": [
      " 26%|██▌       | 260/999 [5:14:40<16:31:11, 80.48s/it]"
     ]
    },
    {
     "name": "stdout",
     "output_type": "stream",
     "text": [
      "eigenvalues shape torch.Size([5]) eigenvectors shape torch.Size([5, 1024])\n",
      "260 /home/phdcs2/Hard_Disk/Datasets/Deep-Spectral-Segmentation/data/object-segmentation/ECSSD/features/0262_resized.pth\n",
      "dict_keys(['k', 'indices', 'file', 'id', 'model_name', 'patch_size', 'shape'])\n",
      "0262_resized\n"
     ]
    },
    {
     "name": "stderr",
     "output_type": "stream",
     "text": [
      "/home/phdcs2/Hard_Disk/Projects/T2I/deep-spectral-segmentation/venv/lib/python3.8/site-packages/sklearn/decomposition/_pca.py:642: RuntimeWarning: invalid value encountered in divide\n",
      "  self.explained_variance_ratio_ = self.explained_variance_ / total_var\n"
     ]
    },
    {
     "name": "stdout",
     "output_type": "stream",
     "text": [
      "Starting Training\n",
      "epoch: 00, loss: -0.92201\n",
      "epoch: 01, loss: -0.95347\n",
      "epoch: 02, loss: -0.96050\n",
      "epoch: 03, loss: -0.96467\n",
      "epoch: 04, loss: -0.96748\n",
      "epoch: 05, loss: -0.96957\n",
      "epoch: 06, loss: -0.97125\n",
      "epoch: 07, loss: -0.97258\n",
      "epoch: 08, loss: -0.97371\n",
      "epoch: 09, loss: -0.97468\n",
      "torch.Size([1024, 64])\n"
     ]
    },
    {
     "name": "stderr",
     "output_type": "stream",
     "text": [
      " 26%|██▌       | 261/999 [5:15:49<15:46:50, 76.98s/it]"
     ]
    },
    {
     "name": "stdout",
     "output_type": "stream",
     "text": [
      "eigenvalues shape torch.Size([5]) eigenvectors shape torch.Size([5, 1024])\n",
      "261 /home/phdcs2/Hard_Disk/Datasets/Deep-Spectral-Segmentation/data/object-segmentation/ECSSD/features/0263_resized.pth\n",
      "dict_keys(['k', 'indices', 'file', 'id', 'model_name', 'patch_size', 'shape'])\n",
      "0263_resized\n",
      "Starting Training\n",
      "epoch: 00, loss: -0.86815\n",
      "epoch: 01, loss: -0.92164\n",
      "epoch: 02, loss: -0.93507\n",
      "epoch: 03, loss: -0.94296\n",
      "epoch: 04, loss: -0.94805\n",
      "epoch: 05, loss: -0.95189\n",
      "epoch: 06, loss: -0.95477\n",
      "epoch: 07, loss: -0.95718\n",
      "epoch: 08, loss: -0.95920\n",
      "epoch: 09, loss: -0.96084\n",
      "torch.Size([1024, 64])\n"
     ]
    },
    {
     "name": "stderr",
     "output_type": "stream",
     "text": [
      " 26%|██▌       | 262/999 [5:16:59<15:22:25, 75.10s/it]"
     ]
    },
    {
     "name": "stdout",
     "output_type": "stream",
     "text": [
      "eigenvalues shape torch.Size([5]) eigenvectors shape torch.Size([5, 1024])\n",
      "262 /home/phdcs2/Hard_Disk/Datasets/Deep-Spectral-Segmentation/data/object-segmentation/ECSSD/features/0264_resized.pth\n",
      "dict_keys(['k', 'indices', 'file', 'id', 'model_name', 'patch_size', 'shape'])\n",
      "0264_resized\n"
     ]
    },
    {
     "name": "stderr",
     "output_type": "stream",
     "text": [
      "/home/phdcs2/Hard_Disk/Projects/T2I/deep-spectral-segmentation/venv/lib/python3.8/site-packages/sklearn/decomposition/_pca.py:642: RuntimeWarning: invalid value encountered in divide\n",
      "  self.explained_variance_ratio_ = self.explained_variance_ / total_var\n"
     ]
    },
    {
     "name": "stdout",
     "output_type": "stream",
     "text": [
      "Starting Training\n",
      "epoch: 00, loss: -0.92081\n",
      "epoch: 01, loss: -0.95303\n",
      "epoch: 02, loss: -0.96052\n",
      "epoch: 03, loss: -0.96488\n",
      "epoch: 04, loss: -0.96783\n",
      "epoch: 05, loss: -0.97006\n",
      "epoch: 06, loss: -0.97178\n",
      "epoch: 07, loss: -0.97318\n",
      "epoch: 08, loss: -0.97435\n",
      "epoch: 09, loss: -0.97536\n",
      "torch.Size([1024, 64])\n"
     ]
    },
    {
     "name": "stderr",
     "output_type": "stream",
     "text": [
      " 26%|██▋       | 263/999 [5:18:16<15:27:58, 75.65s/it]"
     ]
    },
    {
     "name": "stdout",
     "output_type": "stream",
     "text": [
      "eigenvalues shape torch.Size([5]) eigenvectors shape torch.Size([5, 1024])\n",
      "263 /home/phdcs2/Hard_Disk/Datasets/Deep-Spectral-Segmentation/data/object-segmentation/ECSSD/features/0265_resized.pth\n",
      "dict_keys(['k', 'indices', 'file', 'id', 'model_name', 'patch_size', 'shape'])\n",
      "0265_resized\n",
      "Starting Training\n",
      "epoch: 00, loss: -0.92635\n",
      "epoch: 01, loss: -0.95637\n",
      "epoch: 02, loss: -0.96335\n",
      "epoch: 03, loss: -0.96740\n",
      "epoch: 04, loss: -0.97010\n",
      "epoch: 05, loss: -0.97214\n",
      "epoch: 06, loss: -0.97372\n",
      "epoch: 07, loss: -0.97502\n",
      "epoch: 08, loss: -0.97606\n",
      "epoch: 09, loss: -0.97700\n",
      "torch.Size([1024, 64])\n"
     ]
    },
    {
     "name": "stderr",
     "output_type": "stream",
     "text": [
      " 26%|██▋       | 264/999 [5:19:34<15:34:42, 76.30s/it]"
     ]
    },
    {
     "name": "stdout",
     "output_type": "stream",
     "text": [
      "eigenvalues shape torch.Size([5]) eigenvectors shape torch.Size([5, 1024])\n",
      "264 /home/phdcs2/Hard_Disk/Datasets/Deep-Spectral-Segmentation/data/object-segmentation/ECSSD/features/0266_resized.pth\n",
      "dict_keys(['k', 'indices', 'file', 'id', 'model_name', 'patch_size', 'shape'])\n",
      "0266_resized\n"
     ]
    },
    {
     "name": "stderr",
     "output_type": "stream",
     "text": [
      "/home/phdcs2/Hard_Disk/Projects/T2I/deep-spectral-segmentation/venv/lib/python3.8/site-packages/sklearn/decomposition/_pca.py:642: RuntimeWarning: invalid value encountered in divide\n",
      "  self.explained_variance_ratio_ = self.explained_variance_ / total_var\n"
     ]
    },
    {
     "name": "stdout",
     "output_type": "stream",
     "text": [
      "Starting Training\n",
      "epoch: 00, loss: -0.93169\n",
      "epoch: 01, loss: -0.95951\n",
      "epoch: 02, loss: -0.96589\n",
      "epoch: 03, loss: -0.96962\n",
      "epoch: 04, loss: -0.97214\n",
      "epoch: 05, loss: -0.97407\n",
      "epoch: 06, loss: -0.97556\n",
      "epoch: 07, loss: -0.97679\n",
      "epoch: 08, loss: -0.97781\n",
      "epoch: 09, loss: -0.97869\n",
      "torch.Size([1024, 64])\n"
     ]
    },
    {
     "name": "stderr",
     "output_type": "stream",
     "text": [
      " 27%|██▋       | 265/999 [5:20:48<15:23:20, 75.48s/it]"
     ]
    },
    {
     "name": "stdout",
     "output_type": "stream",
     "text": [
      "eigenvalues shape torch.Size([5]) eigenvectors shape torch.Size([5, 1024])\n",
      "265 /home/phdcs2/Hard_Disk/Datasets/Deep-Spectral-Segmentation/data/object-segmentation/ECSSD/features/0267_resized.pth\n",
      "dict_keys(['k', 'indices', 'file', 'id', 'model_name', 'patch_size', 'shape'])\n",
      "0267_resized\n",
      "Starting Training\n",
      "epoch: 00, loss: -0.85492\n",
      "epoch: 01, loss: -0.91459\n",
      "epoch: 02, loss: -0.92998\n",
      "epoch: 03, loss: -0.93860\n",
      "epoch: 04, loss: -0.94433\n",
      "epoch: 05, loss: -0.94857\n",
      "epoch: 06, loss: -0.95184\n",
      "epoch: 07, loss: -0.95463\n",
      "epoch: 08, loss: -0.95679\n",
      "epoch: 09, loss: -0.95857\n",
      "torch.Size([1024, 64])\n"
     ]
    },
    {
     "name": "stderr",
     "output_type": "stream",
     "text": [
      " 27%|██▋       | 266/999 [5:22:02<15:18:14, 75.16s/it]"
     ]
    },
    {
     "name": "stdout",
     "output_type": "stream",
     "text": [
      "eigenvalues shape torch.Size([5]) eigenvectors shape torch.Size([5, 1024])\n",
      "266 /home/phdcs2/Hard_Disk/Datasets/Deep-Spectral-Segmentation/data/object-segmentation/ECSSD/features/0268_resized.pth\n",
      "dict_keys(['k', 'indices', 'file', 'id', 'model_name', 'patch_size', 'shape'])\n",
      "0268_resized\n"
     ]
    },
    {
     "name": "stderr",
     "output_type": "stream",
     "text": [
      "/home/phdcs2/Hard_Disk/Projects/T2I/deep-spectral-segmentation/venv/lib/python3.8/site-packages/sklearn/decomposition/_pca.py:642: RuntimeWarning: invalid value encountered in divide\n",
      "  self.explained_variance_ratio_ = self.explained_variance_ / total_var\n"
     ]
    },
    {
     "name": "stdout",
     "output_type": "stream",
     "text": [
      "Starting Training\n",
      "epoch: 00, loss: -0.92345\n",
      "epoch: 01, loss: -0.95199\n",
      "epoch: 02, loss: -0.95919\n",
      "epoch: 03, loss: -0.96349\n",
      "epoch: 04, loss: -0.96642\n",
      "epoch: 05, loss: -0.96862\n",
      "epoch: 06, loss: -0.97036\n",
      "epoch: 07, loss: -0.97180\n",
      "epoch: 08, loss: -0.97297\n",
      "epoch: 09, loss: -0.97400\n",
      "torch.Size([1024, 64])\n"
     ]
    },
    {
     "name": "stderr",
     "output_type": "stream",
     "text": [
      " 27%|██▋       | 267/999 [5:23:11<14:55:57, 73.44s/it]"
     ]
    },
    {
     "name": "stdout",
     "output_type": "stream",
     "text": [
      "eigenvalues shape torch.Size([5]) eigenvectors shape torch.Size([5, 1024])\n",
      "267 /home/phdcs2/Hard_Disk/Datasets/Deep-Spectral-Segmentation/data/object-segmentation/ECSSD/features/0269_resized.pth\n",
      "dict_keys(['k', 'indices', 'file', 'id', 'model_name', 'patch_size', 'shape'])\n",
      "0269_resized\n"
     ]
    },
    {
     "name": "stderr",
     "output_type": "stream",
     "text": [
      "/home/phdcs2/Hard_Disk/Projects/T2I/deep-spectral-segmentation/venv/lib/python3.8/site-packages/sklearn/decomposition/_pca.py:642: RuntimeWarning: invalid value encountered in divide\n",
      "  self.explained_variance_ratio_ = self.explained_variance_ / total_var\n"
     ]
    },
    {
     "name": "stdout",
     "output_type": "stream",
     "text": [
      "Starting Training\n",
      "epoch: 00, loss: -0.91850\n",
      "epoch: 01, loss: -0.94953\n",
      "epoch: 02, loss: -0.95744\n",
      "epoch: 03, loss: -0.96208\n",
      "epoch: 04, loss: -0.96527\n",
      "epoch: 05, loss: -0.96765\n",
      "epoch: 06, loss: -0.96949\n",
      "epoch: 07, loss: -0.97102\n",
      "epoch: 08, loss: -0.97232\n",
      "epoch: 09, loss: -0.97338\n",
      "torch.Size([1024, 64])\n"
     ]
    },
    {
     "name": "stderr",
     "output_type": "stream",
     "text": [
      " 27%|██▋       | 268/999 [5:24:20<14:35:11, 71.83s/it]"
     ]
    },
    {
     "name": "stdout",
     "output_type": "stream",
     "text": [
      "eigenvalues shape torch.Size([5]) eigenvectors shape torch.Size([5, 1024])\n",
      "268 /home/phdcs2/Hard_Disk/Datasets/Deep-Spectral-Segmentation/data/object-segmentation/ECSSD/features/0270_resized.pth\n",
      "dict_keys(['k', 'indices', 'file', 'id', 'model_name', 'patch_size', 'shape'])\n",
      "0270_resized\n",
      "Starting Training\n",
      "epoch: 00, loss: -0.86564\n",
      "epoch: 01, loss: -0.92246\n",
      "epoch: 02, loss: -0.93689\n",
      "epoch: 03, loss: -0.94480\n",
      "epoch: 04, loss: -0.95001\n",
      "epoch: 05, loss: -0.95394\n",
      "epoch: 06, loss: -0.95689\n",
      "epoch: 07, loss: -0.95939\n",
      "epoch: 08, loss: -0.96132\n",
      "epoch: 09, loss: -0.96304\n",
      "torch.Size([1024, 64])\n"
     ]
    },
    {
     "name": "stderr",
     "output_type": "stream",
     "text": [
      " 27%|██▋       | 269/999 [5:25:29<14:24:34, 71.06s/it]"
     ]
    },
    {
     "name": "stdout",
     "output_type": "stream",
     "text": [
      "eigenvalues shape torch.Size([5]) eigenvectors shape torch.Size([5, 1024])\n",
      "269 /home/phdcs2/Hard_Disk/Datasets/Deep-Spectral-Segmentation/data/object-segmentation/ECSSD/features/0271_resized.pth\n",
      "dict_keys(['k', 'indices', 'file', 'id', 'model_name', 'patch_size', 'shape'])\n",
      "0271_resized\n",
      "Starting Training\n",
      "epoch: 00, loss: -0.85006\n",
      "epoch: 01, loss: -0.91245\n",
      "epoch: 02, loss: -0.92893\n",
      "epoch: 03, loss: -0.93811\n",
      "epoch: 04, loss: -0.94414\n",
      "epoch: 05, loss: -0.94843\n",
      "epoch: 06, loss: -0.95171\n",
      "epoch: 07, loss: -0.95440\n",
      "epoch: 08, loss: -0.95661\n",
      "epoch: 09, loss: -0.95846\n",
      "torch.Size([1024, 64])\n"
     ]
    },
    {
     "name": "stderr",
     "output_type": "stream",
     "text": [
      " 27%|██▋       | 270/999 [5:26:41<14:28:32, 71.49s/it]"
     ]
    },
    {
     "name": "stdout",
     "output_type": "stream",
     "text": [
      "eigenvalues shape torch.Size([5]) eigenvectors shape torch.Size([5, 1024])\n",
      "270 /home/phdcs2/Hard_Disk/Datasets/Deep-Spectral-Segmentation/data/object-segmentation/ECSSD/features/0272_resized.pth\n",
      "dict_keys(['k', 'indices', 'file', 'id', 'model_name', 'patch_size', 'shape'])\n",
      "0272_resized\n",
      "Starting Training\n",
      "epoch: 00, loss: -0.85925\n",
      "epoch: 01, loss: -0.91212\n",
      "epoch: 02, loss: -0.92553\n",
      "epoch: 03, loss: -0.93419\n",
      "epoch: 04, loss: -0.93978\n",
      "epoch: 05, loss: -0.94403\n",
      "epoch: 06, loss: -0.94718\n",
      "epoch: 07, loss: -0.94981\n",
      "epoch: 08, loss: -0.95205\n",
      "epoch: 09, loss: -0.95403\n",
      "torch.Size([1024, 64])\n"
     ]
    },
    {
     "name": "stderr",
     "output_type": "stream",
     "text": [
      " 27%|██▋       | 271/999 [5:27:57<14:43:01, 72.78s/it]"
     ]
    },
    {
     "name": "stdout",
     "output_type": "stream",
     "text": [
      "eigenvalues shape torch.Size([5]) eigenvectors shape torch.Size([5, 1024])\n",
      "271 /home/phdcs2/Hard_Disk/Datasets/Deep-Spectral-Segmentation/data/object-segmentation/ECSSD/features/0273_resized.pth\n",
      "dict_keys(['k', 'indices', 'file', 'id', 'model_name', 'patch_size', 'shape'])\n",
      "0273_resized\n"
     ]
    },
    {
     "name": "stderr",
     "output_type": "stream",
     "text": [
      "/home/phdcs2/Hard_Disk/Projects/T2I/deep-spectral-segmentation/venv/lib/python3.8/site-packages/sklearn/decomposition/_pca.py:642: RuntimeWarning: invalid value encountered in divide\n",
      "  self.explained_variance_ratio_ = self.explained_variance_ / total_var\n"
     ]
    },
    {
     "name": "stdout",
     "output_type": "stream",
     "text": [
      "Starting Training\n",
      "epoch: 00, loss: -0.91696\n",
      "epoch: 01, loss: -0.94903\n",
      "epoch: 02, loss: -0.95697\n",
      "epoch: 03, loss: -0.96169\n",
      "epoch: 04, loss: -0.96487\n",
      "epoch: 05, loss: -0.96732\n",
      "epoch: 06, loss: -0.96923\n",
      "epoch: 07, loss: -0.97078\n",
      "epoch: 08, loss: -0.97205\n",
      "epoch: 09, loss: -0.97316\n",
      "torch.Size([1024, 64])\n"
     ]
    },
    {
     "name": "stderr",
     "output_type": "stream",
     "text": [
      " 27%|██▋       | 272/999 [5:29:19<15:14:25, 75.47s/it]"
     ]
    },
    {
     "name": "stdout",
     "output_type": "stream",
     "text": [
      "eigenvalues shape torch.Size([5]) eigenvectors shape torch.Size([5, 1024])\n",
      "272 /home/phdcs2/Hard_Disk/Datasets/Deep-Spectral-Segmentation/data/object-segmentation/ECSSD/features/0274_resized.pth\n",
      "dict_keys(['k', 'indices', 'file', 'id', 'model_name', 'patch_size', 'shape'])\n",
      "0274_resized\n",
      "Starting Training\n",
      "epoch: 00, loss: -0.92197\n",
      "epoch: 01, loss: -0.95255\n",
      "epoch: 02, loss: -0.95950\n",
      "epoch: 03, loss: -0.96362\n",
      "epoch: 04, loss: -0.96650\n",
      "epoch: 05, loss: -0.96857\n",
      "epoch: 06, loss: -0.97024\n",
      "epoch: 07, loss: -0.97162\n",
      "epoch: 08, loss: -0.97277\n",
      "epoch: 09, loss: -0.97377\n",
      "torch.Size([1024, 64])\n"
     ]
    },
    {
     "name": "stderr",
     "output_type": "stream",
     "text": [
      " 27%|██▋       | 273/999 [5:30:38<15:27:14, 76.63s/it]"
     ]
    },
    {
     "name": "stdout",
     "output_type": "stream",
     "text": [
      "eigenvalues shape torch.Size([5]) eigenvectors shape torch.Size([5, 1024])\n",
      "273 /home/phdcs2/Hard_Disk/Datasets/Deep-Spectral-Segmentation/data/object-segmentation/ECSSD/features/0275_resized.pth\n",
      "dict_keys(['k', 'indices', 'file', 'id', 'model_name', 'patch_size', 'shape'])\n",
      "0275_resized\n",
      "Starting Training\n",
      "epoch: 00, loss: -0.87557\n",
      "epoch: 01, loss: -0.92748\n",
      "epoch: 02, loss: -0.93977\n",
      "epoch: 03, loss: -0.94668\n",
      "epoch: 04, loss: -0.95115\n",
      "epoch: 05, loss: -0.95448\n",
      "epoch: 06, loss: -0.95715\n",
      "epoch: 07, loss: -0.95918\n",
      "epoch: 08, loss: -0.96097\n",
      "epoch: 09, loss: -0.96246\n",
      "torch.Size([1024, 64])\n"
     ]
    },
    {
     "name": "stderr",
     "output_type": "stream",
     "text": [
      " 27%|██▋       | 274/999 [5:31:49<15:04:48, 74.88s/it]"
     ]
    },
    {
     "name": "stdout",
     "output_type": "stream",
     "text": [
      "eigenvalues shape torch.Size([5]) eigenvectors shape torch.Size([5, 1024])\n",
      "274 /home/phdcs2/Hard_Disk/Datasets/Deep-Spectral-Segmentation/data/object-segmentation/ECSSD/features/0276_resized.pth\n",
      "dict_keys(['k', 'indices', 'file', 'id', 'model_name', 'patch_size', 'shape'])\n",
      "0276_resized\n",
      "Starting Training\n",
      "epoch: 00, loss: -0.88169\n",
      "epoch: 01, loss: -0.93081\n",
      "epoch: 02, loss: -0.94260\n",
      "epoch: 03, loss: -0.94935\n",
      "epoch: 04, loss: -0.95391\n",
      "epoch: 05, loss: -0.95710\n",
      "epoch: 06, loss: -0.95969\n",
      "epoch: 07, loss: -0.96171\n",
      "epoch: 08, loss: -0.96339\n",
      "epoch: 09, loss: -0.96494\n",
      "torch.Size([1024, 64])\n"
     ]
    },
    {
     "name": "stderr",
     "output_type": "stream",
     "text": [
      " 28%|██▊       | 275/999 [5:33:21<16:06:23, 80.09s/it]"
     ]
    },
    {
     "name": "stdout",
     "output_type": "stream",
     "text": [
      "eigenvalues shape torch.Size([5]) eigenvectors shape torch.Size([5, 1024])\n",
      "275 /home/phdcs2/Hard_Disk/Datasets/Deep-Spectral-Segmentation/data/object-segmentation/ECSSD/features/0277_resized.pth\n",
      "dict_keys(['k', 'indices', 'file', 'id', 'model_name', 'patch_size', 'shape'])\n",
      "0277_resized\n"
     ]
    },
    {
     "name": "stderr",
     "output_type": "stream",
     "text": [
      "/home/phdcs2/Hard_Disk/Projects/T2I/deep-spectral-segmentation/venv/lib/python3.8/site-packages/sklearn/decomposition/_pca.py:642: RuntimeWarning: invalid value encountered in divide\n",
      "  self.explained_variance_ratio_ = self.explained_variance_ / total_var\n"
     ]
    },
    {
     "name": "stdout",
     "output_type": "stream",
     "text": [
      "Starting Training\n",
      "epoch: 00, loss: -0.92004\n",
      "epoch: 01, loss: -0.95395\n",
      "epoch: 02, loss: -0.96099\n",
      "epoch: 03, loss: -0.96508\n",
      "epoch: 04, loss: -0.96784\n",
      "epoch: 05, loss: -0.96992\n",
      "epoch: 06, loss: -0.97157\n",
      "epoch: 07, loss: -0.97291\n",
      "epoch: 08, loss: -0.97404\n",
      "epoch: 09, loss: -0.97499\n",
      "torch.Size([1024, 64])\n"
     ]
    },
    {
     "name": "stderr",
     "output_type": "stream",
     "text": [
      " 28%|██▊       | 276/999 [5:34:39<15:55:41, 79.31s/it]"
     ]
    },
    {
     "name": "stdout",
     "output_type": "stream",
     "text": [
      "eigenvalues shape torch.Size([5]) eigenvectors shape torch.Size([5, 1024])\n",
      "276 /home/phdcs2/Hard_Disk/Datasets/Deep-Spectral-Segmentation/data/object-segmentation/ECSSD/features/0278_resized.pth\n",
      "dict_keys(['k', 'indices', 'file', 'id', 'model_name', 'patch_size', 'shape'])\n",
      "0278_resized\n",
      "Starting Training\n",
      "epoch: 00, loss: -0.87978\n",
      "epoch: 01, loss: -0.92561\n",
      "epoch: 02, loss: -0.93716\n",
      "epoch: 03, loss: -0.94403\n",
      "epoch: 04, loss: -0.94873\n",
      "epoch: 05, loss: -0.95212\n",
      "epoch: 06, loss: -0.95463\n",
      "epoch: 07, loss: -0.95678\n",
      "epoch: 08, loss: -0.95860\n",
      "epoch: 09, loss: -0.96012\n",
      "torch.Size([1024, 64])\n"
     ]
    },
    {
     "name": "stderr",
     "output_type": "stream",
     "text": [
      " 28%|██▊       | 277/999 [5:35:54<15:38:39, 78.00s/it]"
     ]
    },
    {
     "name": "stdout",
     "output_type": "stream",
     "text": [
      "eigenvalues shape torch.Size([5]) eigenvectors shape torch.Size([5, 1024])\n",
      "277 /home/phdcs2/Hard_Disk/Datasets/Deep-Spectral-Segmentation/data/object-segmentation/ECSSD/features/0279_resized.pth\n",
      "dict_keys(['k', 'indices', 'file', 'id', 'model_name', 'patch_size', 'shape'])\n",
      "0279_resized\n",
      "Starting Training\n",
      "epoch: 00, loss: -0.89252\n",
      "epoch: 01, loss: -0.93340\n",
      "epoch: 02, loss: -0.94401\n",
      "epoch: 03, loss: -0.95027\n",
      "epoch: 04, loss: -0.95435\n",
      "epoch: 05, loss: -0.95734\n",
      "epoch: 06, loss: -0.95985\n",
      "epoch: 07, loss: -0.96167\n",
      "epoch: 08, loss: -0.96343\n",
      "epoch: 09, loss: -0.96479\n",
      "torch.Size([1024, 64])\n"
     ]
    },
    {
     "name": "stderr",
     "output_type": "stream",
     "text": [
      " 28%|██▊       | 278/999 [5:37:21<16:09:51, 80.71s/it]"
     ]
    },
    {
     "name": "stdout",
     "output_type": "stream",
     "text": [
      "eigenvalues shape torch.Size([5]) eigenvectors shape torch.Size([5, 1024])\n",
      "278 /home/phdcs2/Hard_Disk/Datasets/Deep-Spectral-Segmentation/data/object-segmentation/ECSSD/features/0280_resized.pth\n",
      "dict_keys(['k', 'indices', 'file', 'id', 'model_name', 'patch_size', 'shape'])\n",
      "0280_resized\n"
     ]
    },
    {
     "name": "stderr",
     "output_type": "stream",
     "text": [
      "/home/phdcs2/Hard_Disk/Projects/T2I/deep-spectral-segmentation/venv/lib/python3.8/site-packages/sklearn/decomposition/_pca.py:642: RuntimeWarning: invalid value encountered in divide\n",
      "  self.explained_variance_ratio_ = self.explained_variance_ / total_var\n"
     ]
    },
    {
     "name": "stdout",
     "output_type": "stream",
     "text": [
      "Starting Training\n",
      "epoch: 00, loss: -0.93186\n",
      "epoch: 01, loss: -0.95800\n",
      "epoch: 02, loss: -0.96415\n",
      "epoch: 03, loss: -0.96778\n",
      "epoch: 04, loss: -0.97027\n",
      "epoch: 05, loss: -0.97214\n",
      "epoch: 06, loss: -0.97363\n",
      "epoch: 07, loss: -0.97485\n",
      "epoch: 08, loss: -0.97587\n",
      "epoch: 09, loss: -0.97675\n",
      "torch.Size([1024, 64])\n"
     ]
    },
    {
     "name": "stderr",
     "output_type": "stream",
     "text": [
      " 28%|██▊       | 279/999 [5:38:32<15:35:48, 77.98s/it]"
     ]
    },
    {
     "name": "stdout",
     "output_type": "stream",
     "text": [
      "eigenvalues shape torch.Size([5]) eigenvectors shape torch.Size([5, 1024])\n",
      "279 /home/phdcs2/Hard_Disk/Datasets/Deep-Spectral-Segmentation/data/object-segmentation/ECSSD/features/0281_resized.pth\n",
      "dict_keys(['k', 'indices', 'file', 'id', 'model_name', 'patch_size', 'shape'])\n",
      "0281_resized\n",
      "Starting Training\n",
      "epoch: 00, loss: -0.84536\n",
      "epoch: 01, loss: -0.90957\n",
      "epoch: 02, loss: -0.92588\n",
      "epoch: 03, loss: -0.93526\n",
      "epoch: 04, loss: -0.94141\n",
      "epoch: 05, loss: -0.94578\n",
      "epoch: 06, loss: -0.94938\n",
      "epoch: 07, loss: -0.95232\n",
      "epoch: 08, loss: -0.95470\n",
      "epoch: 09, loss: -0.95659\n",
      "torch.Size([1024, 64])\n"
     ]
    },
    {
     "name": "stderr",
     "output_type": "stream",
     "text": [
      " 28%|██▊       | 280/999 [5:39:43<15:08:09, 75.79s/it]"
     ]
    },
    {
     "name": "stdout",
     "output_type": "stream",
     "text": [
      "eigenvalues shape torch.Size([5]) eigenvectors shape torch.Size([5, 1024])\n",
      "280 /home/phdcs2/Hard_Disk/Datasets/Deep-Spectral-Segmentation/data/object-segmentation/ECSSD/features/0282_resized.pth\n",
      "dict_keys(['k', 'indices', 'file', 'id', 'model_name', 'patch_size', 'shape'])\n",
      "0282_resized\n",
      "Starting Training\n",
      "epoch: 00, loss: -0.88478\n",
      "epoch: 01, loss: -0.93234\n",
      "epoch: 02, loss: -0.94386\n",
      "epoch: 03, loss: -0.95049\n",
      "epoch: 04, loss: -0.95496\n",
      "epoch: 05, loss: -0.95820\n",
      "epoch: 06, loss: -0.96066\n",
      "epoch: 07, loss: -0.96264\n",
      "epoch: 08, loss: -0.96447\n",
      "epoch: 09, loss: -0.96586\n",
      "torch.Size([1024, 64])\n"
     ]
    },
    {
     "name": "stderr",
     "output_type": "stream",
     "text": [
      " 28%|██▊       | 281/999 [5:40:55<14:53:44, 74.69s/it]"
     ]
    },
    {
     "name": "stdout",
     "output_type": "stream",
     "text": [
      "eigenvalues shape torch.Size([5]) eigenvectors shape torch.Size([5, 1024])\n",
      "281 /home/phdcs2/Hard_Disk/Datasets/Deep-Spectral-Segmentation/data/object-segmentation/ECSSD/features/0283_resized.pth\n",
      "dict_keys(['k', 'indices', 'file', 'id', 'model_name', 'patch_size', 'shape'])\n",
      "0283_resized\n",
      "epoch: 00, loss: -0.91481\n",
      "epoch: 01, loss: -0.94563\n",
      "epoch: 02, loss: -0.95388\n",
      "epoch: 03, loss: -0.95874\n",
      "epoch: 04, loss: -0.96206\n",
      "epoch: 05, loss: -0.96455\n",
      "epoch: 06, loss: -0.96650\n",
      "epoch: 07, loss: -0.96812\n",
      "epoch: 08, loss: -0.96945\n",
      "epoch: 09, loss: -0.97060\n",
      "torch.Size([1024, 64])\n"
     ]
    },
    {
     "name": "stderr",
     "output_type": "stream",
     "text": [
      " 30%|██▉       | 296/999 [6:00:40<13:30:04, 69.14s/it]"
     ]
    },
    {
     "name": "stdout",
     "output_type": "stream",
     "text": [
      "eigenvalues shape torch.Size([5]) eigenvectors shape torch.Size([5, 1024])\n",
      "296 /home/phdcs2/Hard_Disk/Datasets/Deep-Spectral-Segmentation/data/object-segmentation/ECSSD/features/0298_resized.pth\n",
      "dict_keys(['k', 'indices', 'file', 'id', 'model_name', 'patch_size', 'shape'])\n",
      "0298_resized\n",
      "Starting Training\n",
      "epoch: 00, loss: -0.84660\n",
      "epoch: 01, loss: -0.90565\n",
      "epoch: 02, loss: -0.91831\n",
      "epoch: 03, loss: -0.92615\n",
      "epoch: 04, loss: -0.93153\n",
      "epoch: 05, loss: -0.93558\n",
      "epoch: 06, loss: -0.93914\n",
      "epoch: 07, loss: -0.94190\n",
      "epoch: 08, loss: -0.94405\n",
      "epoch: 09, loss: -0.94609\n",
      "torch.Size([1024, 64])\n"
     ]
    },
    {
     "name": "stderr",
     "output_type": "stream",
     "text": [
      " 30%|██▉       | 297/999 [6:01:53<13:43:42, 70.40s/it]"
     ]
    },
    {
     "name": "stdout",
     "output_type": "stream",
     "text": [
      "eigenvalues shape torch.Size([5]) eigenvectors shape torch.Size([5, 1024])\n",
      "297 /home/phdcs2/Hard_Disk/Datasets/Deep-Spectral-Segmentation/data/object-segmentation/ECSSD/features/0299_resized.pth\n",
      "dict_keys(['k', 'indices', 'file', 'id', 'model_name', 'patch_size', 'shape'])\n",
      "0299_resized\n"
     ]
    },
    {
     "name": "stderr",
     "output_type": "stream",
     "text": [
      "/home/phdcs2/Hard_Disk/Projects/T2I/deep-spectral-segmentation/venv/lib/python3.8/site-packages/sklearn/decomposition/_pca.py:642: RuntimeWarning: invalid value encountered in divide\n",
      "  self.explained_variance_ratio_ = self.explained_variance_ / total_var\n"
     ]
    },
    {
     "name": "stdout",
     "output_type": "stream",
     "text": [
      "Starting Training\n",
      "epoch: 00, loss: -0.92516\n",
      "epoch: 01, loss: -0.95441\n",
      "epoch: 02, loss: -0.96099\n",
      "epoch: 03, loss: -0.96478\n",
      "epoch: 04, loss: -0.96743\n",
      "epoch: 05, loss: -0.96940\n",
      "epoch: 06, loss: -0.97099\n",
      "epoch: 07, loss: -0.97224\n",
      "epoch: 08, loss: -0.97332\n",
      "epoch: 09, loss: -0.97424\n",
      "torch.Size([1024, 64])\n"
     ]
    },
    {
     "name": "stderr",
     "output_type": "stream",
     "text": [
      " 30%|██▉       | 298/999 [6:03:06<13:50:51, 71.12s/it]"
     ]
    },
    {
     "name": "stdout",
     "output_type": "stream",
     "text": [
      "eigenvalues shape torch.Size([5]) eigenvectors shape torch.Size([5, 1024])\n",
      "298 /home/phdcs2/Hard_Disk/Datasets/Deep-Spectral-Segmentation/data/object-segmentation/ECSSD/features/0300_resized.pth\n",
      "dict_keys(['k', 'indices', 'file', 'id', 'model_name', 'patch_size', 'shape'])\n",
      "0300_resized\n",
      "Starting Training\n",
      "epoch: 00, loss: -0.86550\n",
      "epoch: 01, loss: -0.92267\n",
      "epoch: 02, loss: -0.93658\n",
      "epoch: 03, loss: -0.94437\n",
      "epoch: 04, loss: -0.94968\n",
      "epoch: 05, loss: -0.95336\n",
      "epoch: 06, loss: -0.95627\n",
      "epoch: 07, loss: -0.95854\n",
      "epoch: 08, loss: -0.96051\n",
      "epoch: 09, loss: -0.96225\n",
      "torch.Size([1024, 64])\n"
     ]
    },
    {
     "name": "stderr",
     "output_type": "stream",
     "text": [
      " 30%|██▉       | 299/999 [6:04:13<13:36:24, 69.98s/it]"
     ]
    },
    {
     "name": "stdout",
     "output_type": "stream",
     "text": [
      "eigenvalues shape torch.Size([5]) eigenvectors shape torch.Size([5, 1024])\n",
      "299 /home/phdcs2/Hard_Disk/Datasets/Deep-Spectral-Segmentation/data/object-segmentation/ECSSD/features/0301_resized.pth\n",
      "dict_keys(['k', 'indices', 'file', 'id', 'model_name', 'patch_size', 'shape'])\n",
      "0301_resized\n",
      "Starting Training\n",
      "epoch: 00, loss: -0.86686\n",
      "epoch: 01, loss: -0.92176\n",
      "epoch: 02, loss: -0.93559\n",
      "epoch: 03, loss: -0.94335\n",
      "epoch: 04, loss: -0.94847\n",
      "epoch: 05, loss: -0.95237\n",
      "epoch: 06, loss: -0.95534\n",
      "epoch: 07, loss: -0.95771\n",
      "epoch: 08, loss: -0.95976\n",
      "epoch: 09, loss: -0.96138\n",
      "torch.Size([1024, 64])\n"
     ]
    },
    {
     "name": "stderr",
     "output_type": "stream",
     "text": [
      " 30%|███       | 300/999 [6:05:24<13:39:14, 70.32s/it]"
     ]
    },
    {
     "name": "stdout",
     "output_type": "stream",
     "text": [
      "eigenvalues shape torch.Size([5]) eigenvectors shape torch.Size([5, 1024])\n",
      "300 /home/phdcs2/Hard_Disk/Datasets/Deep-Spectral-Segmentation/data/object-segmentation/ECSSD/features/0302_resized.pth\n",
      "dict_keys(['k', 'indices', 'file', 'id', 'model_name', 'patch_size', 'shape'])\n",
      "0302_resized\n"
     ]
    },
    {
     "name": "stderr",
     "output_type": "stream",
     "text": [
      "/home/phdcs2/Hard_Disk/Projects/T2I/deep-spectral-segmentation/venv/lib/python3.8/site-packages/sklearn/decomposition/_pca.py:642: RuntimeWarning: invalid value encountered in divide\n",
      "  self.explained_variance_ratio_ = self.explained_variance_ / total_var\n"
     ]
    },
    {
     "name": "stdout",
     "output_type": "stream",
     "text": [
      "Starting Training\n",
      "epoch: 00, loss: -0.92151\n",
      "epoch: 01, loss: -0.95392\n",
      "epoch: 02, loss: -0.96122\n",
      "epoch: 03, loss: -0.96544\n",
      "epoch: 04, loss: -0.96830\n",
      "epoch: 05, loss: -0.97045\n",
      "epoch: 06, loss: -0.97211\n",
      "epoch: 07, loss: -0.97344\n",
      "epoch: 08, loss: -0.97459\n",
      "epoch: 09, loss: -0.97554\n",
      "torch.Size([1024, 64])\n"
     ]
    },
    {
     "name": "stderr",
     "output_type": "stream",
     "text": [
      " 30%|███       | 301/999 [6:06:41<14:01:41, 72.35s/it]"
     ]
    },
    {
     "name": "stdout",
     "output_type": "stream",
     "text": [
      "eigenvalues shape torch.Size([5]) eigenvectors shape torch.Size([5, 1024])\n",
      "301 /home/phdcs2/Hard_Disk/Datasets/Deep-Spectral-Segmentation/data/object-segmentation/ECSSD/features/0303_resized.pth\n",
      "dict_keys(['k', 'indices', 'file', 'id', 'model_name', 'patch_size', 'shape'])\n",
      "0303_resized\n",
      "Starting Training\n",
      "epoch: 00, loss: -0.89857\n",
      "epoch: 01, loss: -0.93643\n",
      "epoch: 02, loss: -0.94660\n",
      "epoch: 03, loss: -0.95252\n",
      "epoch: 04, loss: -0.95657\n",
      "epoch: 05, loss: -0.95955\n",
      "epoch: 06, loss: -0.96192\n",
      "epoch: 07, loss: -0.96381\n",
      "epoch: 08, loss: -0.96543\n",
      "epoch: 09, loss: -0.96677\n",
      "torch.Size([1024, 64])\n"
     ]
    },
    {
     "name": "stderr",
     "output_type": "stream",
     "text": [
      " 30%|███       | 302/999 [6:07:52<13:55:58, 71.96s/it]"
     ]
    },
    {
     "name": "stdout",
     "output_type": "stream",
     "text": [
      "eigenvalues shape torch.Size([5]) eigenvectors shape torch.Size([5, 1024])\n",
      "302 /home/phdcs2/Hard_Disk/Datasets/Deep-Spectral-Segmentation/data/object-segmentation/ECSSD/features/0304_resized.pth\n",
      "dict_keys(['k', 'indices', 'file', 'id', 'model_name', 'patch_size', 'shape'])\n",
      "0304_resized\n",
      "Starting Training\n",
      "epoch: 00, loss: -0.83640\n",
      "epoch: 01, loss: -0.90665\n",
      "epoch: 02, loss: -0.92368\n",
      "epoch: 03, loss: -0.93283\n",
      "epoch: 04, loss: -0.93900\n",
      "epoch: 05, loss: -0.94360\n",
      "epoch: 06, loss: -0.94711\n",
      "epoch: 07, loss: -0.94978\n",
      "epoch: 08, loss: -0.95216\n",
      "epoch: 09, loss: -0.95407\n",
      "torch.Size([1024, 64])\n"
     ]
    },
    {
     "name": "stderr",
     "output_type": "stream",
     "text": [
      " 30%|███       | 303/999 [6:09:00<13:39:19, 70.63s/it]"
     ]
    },
    {
     "name": "stdout",
     "output_type": "stream",
     "text": [
      "eigenvalues shape torch.Size([5]) eigenvectors shape torch.Size([5, 1024])\n",
      "303 /home/phdcs2/Hard_Disk/Datasets/Deep-Spectral-Segmentation/data/object-segmentation/ECSSD/features/0305_resized.pth\n",
      "dict_keys(['k', 'indices', 'file', 'id', 'model_name', 'patch_size', 'shape'])\n",
      "0305_resized\n"
     ]
    },
    {
     "name": "stderr",
     "output_type": "stream",
     "text": [
      "/home/phdcs2/Hard_Disk/Projects/T2I/deep-spectral-segmentation/venv/lib/python3.8/site-packages/sklearn/decomposition/_pca.py:642: RuntimeWarning: invalid value encountered in divide\n",
      "  self.explained_variance_ratio_ = self.explained_variance_ / total_var\n"
     ]
    },
    {
     "name": "stdout",
     "output_type": "stream",
     "text": [
      "Starting Training\n",
      "epoch: 00, loss: -0.91385\n",
      "epoch: 01, loss: -0.95112\n",
      "epoch: 02, loss: -0.95903\n",
      "epoch: 03, loss: -0.96366\n",
      "epoch: 04, loss: -0.96676\n",
      "epoch: 05, loss: -0.96909\n",
      "epoch: 06, loss: -0.97091\n",
      "epoch: 07, loss: -0.97239\n",
      "epoch: 08, loss: -0.97362\n",
      "epoch: 09, loss: -0.97467\n",
      "torch.Size([1024, 64])\n"
     ]
    },
    {
     "name": "stderr",
     "output_type": "stream",
     "text": [
      " 30%|███       | 304/999 [6:10:06<13:24:09, 69.42s/it]"
     ]
    },
    {
     "name": "stdout",
     "output_type": "stream",
     "text": [
      "eigenvalues shape torch.Size([5]) eigenvectors shape torch.Size([5, 1024])\n",
      "304 /home/phdcs2/Hard_Disk/Datasets/Deep-Spectral-Segmentation/data/object-segmentation/ECSSD/features/0306_resized.pth\n",
      "dict_keys(['k', 'indices', 'file', 'id', 'model_name', 'patch_size', 'shape'])\n",
      "0306_resized\n",
      "Starting Training\n",
      "epoch: 00, loss: -0.85988\n",
      "epoch: 01, loss: -0.91383\n",
      "epoch: 02, loss: -0.92906\n",
      "epoch: 03, loss: -0.93773\n",
      "epoch: 04, loss: -0.94356\n",
      "epoch: 05, loss: -0.94793\n",
      "epoch: 06, loss: -0.95124\n",
      "epoch: 07, loss: -0.95393\n",
      "epoch: 08, loss: -0.95621\n",
      "epoch: 09, loss: -0.95799\n",
      "torch.Size([1024, 64])\n"
     ]
    },
    {
     "name": "stderr",
     "output_type": "stream",
     "text": [
      " 31%|███       | 305/999 [6:11:22<13:43:34, 71.20s/it]"
     ]
    },
    {
     "name": "stdout",
     "output_type": "stream",
     "text": [
      "eigenvalues shape torch.Size([5]) eigenvectors shape torch.Size([5, 1024])\n",
      "305 /home/phdcs2/Hard_Disk/Datasets/Deep-Spectral-Segmentation/data/object-segmentation/ECSSD/features/0307_resized.pth\n",
      "dict_keys(['k', 'indices', 'file', 'id', 'model_name', 'patch_size', 'shape'])\n",
      "0307_resized\n",
      "Starting Training\n",
      "epoch: 00, loss: -0.85222\n",
      "epoch: 01, loss: -0.91408\n",
      "epoch: 02, loss: -0.92998\n",
      "epoch: 03, loss: -0.93867\n",
      "epoch: 04, loss: -0.94461\n",
      "epoch: 05, loss: -0.94877\n",
      "epoch: 06, loss: -0.95199\n",
      "epoch: 07, loss: -0.95468\n",
      "epoch: 08, loss: -0.95691\n",
      "epoch: 09, loss: -0.95873\n",
      "torch.Size([1024, 64])\n"
     ]
    },
    {
     "name": "stderr",
     "output_type": "stream",
     "text": [
      " 31%|███       | 306/999 [6:12:35<13:49:59, 71.86s/it]"
     ]
    },
    {
     "name": "stdout",
     "output_type": "stream",
     "text": [
      "eigenvalues shape torch.Size([5]) eigenvectors shape torch.Size([5, 1024])\n",
      "306 /home/phdcs2/Hard_Disk/Datasets/Deep-Spectral-Segmentation/data/object-segmentation/ECSSD/features/0308_resized.pth\n",
      "dict_keys(['k', 'indices', 'file', 'id', 'model_name', 'patch_size', 'shape'])\n",
      "0308_resized\n",
      "Starting Training\n",
      "epoch: 00, loss: -0.87314\n",
      "epoch: 01, loss: -0.92403\n",
      "epoch: 02, loss: -0.93671\n",
      "epoch: 03, loss: -0.94374\n",
      "epoch: 04, loss: -0.94844\n",
      "epoch: 05, loss: -0.95190\n",
      "epoch: 06, loss: -0.95457\n",
      "epoch: 07, loss: -0.95673\n",
      "epoch: 08, loss: -0.95851\n",
      "epoch: 09, loss: -0.96007\n",
      "torch.Size([1024, 64])\n"
     ]
    },
    {
     "name": "stderr",
     "output_type": "stream",
     "text": [
      " 31%|███       | 307/999 [6:13:58<14:26:46, 75.15s/it]"
     ]
    },
    {
     "name": "stdout",
     "output_type": "stream",
     "text": [
      "eigenvalues shape torch.Size([5]) eigenvectors shape torch.Size([5, 1024])\n",
      "307 /home/phdcs2/Hard_Disk/Datasets/Deep-Spectral-Segmentation/data/object-segmentation/ECSSD/features/0309_resized.pth\n",
      "dict_keys(['k', 'indices', 'file', 'id', 'model_name', 'patch_size', 'shape'])\n",
      "0309_resized\n",
      "Starting Training\n",
      "epoch: 00, loss: -0.88331\n",
      "epoch: 01, loss: -0.93011\n",
      "epoch: 02, loss: -0.94073\n",
      "epoch: 03, loss: -0.94666\n",
      "epoch: 04, loss: -0.95086\n",
      "epoch: 05, loss: -0.95378\n",
      "epoch: 06, loss: -0.95606\n",
      "epoch: 07, loss: -0.95805\n",
      "epoch: 08, loss: -0.95966\n",
      "epoch: 09, loss: -0.96094\n",
      "torch.Size([1024, 64])\n"
     ]
    },
    {
     "name": "stderr",
     "output_type": "stream",
     "text": [
      " 31%|███       | 308/999 [6:15:15<14:31:24, 75.66s/it]"
     ]
    },
    {
     "name": "stdout",
     "output_type": "stream",
     "text": [
      "eigenvalues shape torch.Size([5]) eigenvectors shape torch.Size([5, 1024])\n",
      "308 /home/phdcs2/Hard_Disk/Datasets/Deep-Spectral-Segmentation/data/object-segmentation/ECSSD/features/0310_resized.pth\n",
      "dict_keys(['k', 'indices', 'file', 'id', 'model_name', 'patch_size', 'shape'])\n",
      "0310_resized\n"
     ]
    },
    {
     "name": "stderr",
     "output_type": "stream",
     "text": [
      "/home/phdcs2/Hard_Disk/Projects/T2I/deep-spectral-segmentation/venv/lib/python3.8/site-packages/sklearn/decomposition/_pca.py:642: RuntimeWarning: invalid value encountered in divide\n",
      "  self.explained_variance_ratio_ = self.explained_variance_ / total_var\n"
     ]
    },
    {
     "name": "stdout",
     "output_type": "stream",
     "text": [
      "Starting Training\n",
      "epoch: 00, loss: -0.92451\n",
      "epoch: 01, loss: -0.95488\n",
      "epoch: 02, loss: -0.96219\n",
      "epoch: 03, loss: -0.96640\n",
      "epoch: 04, loss: -0.96930\n",
      "epoch: 05, loss: -0.97145\n",
      "epoch: 06, loss: -0.97312\n",
      "epoch: 07, loss: -0.97447\n",
      "epoch: 08, loss: -0.97561\n",
      "epoch: 09, loss: -0.97658\n",
      "torch.Size([1024, 64])\n"
     ]
    },
    {
     "name": "stderr",
     "output_type": "stream",
     "text": [
      " 31%|███       | 309/999 [6:16:32<14:34:58, 76.09s/it]"
     ]
    },
    {
     "name": "stdout",
     "output_type": "stream",
     "text": [
      "eigenvalues shape torch.Size([5]) eigenvectors shape torch.Size([5, 1024])\n",
      "309 /home/phdcs2/Hard_Disk/Datasets/Deep-Spectral-Segmentation/data/object-segmentation/ECSSD/features/0311_resized.pth\n",
      "dict_keys(['k', 'indices', 'file', 'id', 'model_name', 'patch_size', 'shape'])\n",
      "0311_resized\n",
      "Starting Training\n",
      "epoch: 00, loss: -0.86445\n",
      "epoch: 01, loss: -0.92043\n",
      "epoch: 02, loss: -0.93379\n",
      "epoch: 03, loss: -0.94143\n",
      "epoch: 04, loss: -0.94638\n",
      "epoch: 05, loss: -0.95021\n",
      "epoch: 06, loss: -0.95312\n",
      "epoch: 07, loss: -0.95574\n",
      "epoch: 08, loss: -0.95770\n",
      "epoch: 09, loss: -0.95929\n",
      "torch.Size([1024, 64])\n"
     ]
    },
    {
     "name": "stderr",
     "output_type": "stream",
     "text": [
      " 31%|███       | 310/999 [6:17:50<14:41:51, 76.80s/it]"
     ]
    },
    {
     "name": "stdout",
     "output_type": "stream",
     "text": [
      "eigenvalues shape torch.Size([5]) eigenvectors shape torch.Size([5, 1024])\n",
      "310 /home/phdcs2/Hard_Disk/Datasets/Deep-Spectral-Segmentation/data/object-segmentation/ECSSD/features/0312_resized.pth\n",
      "dict_keys(['k', 'indices', 'file', 'id', 'model_name', 'patch_size', 'shape'])\n",
      "0312_resized\n",
      "Starting Training\n",
      "epoch: 00, loss: -0.86331\n",
      "epoch: 01, loss: -0.91725\n",
      "epoch: 02, loss: -0.93204\n",
      "epoch: 03, loss: -0.94029\n",
      "epoch: 04, loss: -0.94592\n",
      "epoch: 05, loss: -0.95013\n",
      "epoch: 06, loss: -0.95327\n",
      "epoch: 07, loss: -0.95576\n",
      "epoch: 08, loss: -0.95789\n",
      "epoch: 09, loss: -0.95972\n",
      "torch.Size([1024, 64])\n"
     ]
    },
    {
     "name": "stderr",
     "output_type": "stream",
     "text": [
      " 31%|███       | 311/999 [6:19:06<14:36:12, 76.41s/it]"
     ]
    },
    {
     "name": "stdout",
     "output_type": "stream",
     "text": [
      "eigenvalues shape torch.Size([5]) eigenvectors shape torch.Size([5, 1024])\n",
      "311 /home/phdcs2/Hard_Disk/Datasets/Deep-Spectral-Segmentation/data/object-segmentation/ECSSD/features/0313_resized.pth\n",
      "dict_keys(['k', 'indices', 'file', 'id', 'model_name', 'patch_size', 'shape'])\n",
      "0313_resized\n",
      "Starting Training\n",
      "epoch: 00, loss: -0.91282\n",
      "epoch: 01, loss: -0.94780\n",
      "epoch: 02, loss: -0.95603\n",
      "epoch: 03, loss: -0.96092\n",
      "epoch: 04, loss: -0.96416\n",
      "epoch: 05, loss: -0.96665\n",
      "epoch: 06, loss: -0.96853\n",
      "epoch: 07, loss: -0.97009\n",
      "epoch: 08, loss: -0.97140\n",
      "epoch: 09, loss: -0.97252\n",
      "torch.Size([1024, 64])\n"
     ]
    },
    {
     "name": "stderr",
     "output_type": "stream",
     "text": [
      " 31%|███       | 312/999 [6:20:19<14:22:56, 75.37s/it]"
     ]
    },
    {
     "name": "stdout",
     "output_type": "stream",
     "text": [
      "eigenvalues shape torch.Size([5]) eigenvectors shape torch.Size([5, 1024])\n",
      "312 /home/phdcs2/Hard_Disk/Datasets/Deep-Spectral-Segmentation/data/object-segmentation/ECSSD/features/0314_resized.pth\n",
      "dict_keys(['k', 'indices', 'file', 'id', 'model_name', 'patch_size', 'shape'])\n",
      "0314_resized\n"
     ]
    },
    {
     "name": "stderr",
     "output_type": "stream",
     "text": [
      "/home/phdcs2/Hard_Disk/Projects/T2I/deep-spectral-segmentation/venv/lib/python3.8/site-packages/sklearn/decomposition/_pca.py:642: RuntimeWarning: invalid value encountered in divide\n",
      "  self.explained_variance_ratio_ = self.explained_variance_ / total_var\n"
     ]
    },
    {
     "name": "stdout",
     "output_type": "stream",
     "text": [
      "Starting Training\n",
      "epoch: 00, loss: -0.91321\n",
      "epoch: 01, loss: -0.94735\n",
      "epoch: 02, loss: -0.95520\n",
      "epoch: 03, loss: -0.95978\n",
      "epoch: 04, loss: -0.96296\n",
      "epoch: 05, loss: -0.96533\n",
      "epoch: 06, loss: -0.96720\n",
      "epoch: 07, loss: -0.96875\n",
      "epoch: 08, loss: -0.97002\n",
      "epoch: 09, loss: -0.97113\n",
      "torch.Size([1024, 64])\n"
     ]
    },
    {
     "name": "stderr",
     "output_type": "stream",
     "text": [
      " 31%|███▏      | 313/999 [6:21:37<14:30:37, 76.15s/it]"
     ]
    },
    {
     "name": "stdout",
     "output_type": "stream",
     "text": [
      "eigenvalues shape torch.Size([5]) eigenvectors shape torch.Size([5, 1024])\n",
      "313 /home/phdcs2/Hard_Disk/Datasets/Deep-Spectral-Segmentation/data/object-segmentation/ECSSD/features/0315_resized.pth\n",
      "dict_keys(['k', 'indices', 'file', 'id', 'model_name', 'patch_size', 'shape'])\n",
      "0315_resized\n",
      "Starting Training\n",
      "epoch: 00, loss: -0.86104\n",
      "epoch: 01, loss: -0.91779\n",
      "epoch: 02, loss: -0.93214\n",
      "epoch: 03, loss: -0.94023\n",
      "epoch: 04, loss: -0.94557\n",
      "epoch: 05, loss: -0.94957\n",
      "epoch: 06, loss: -0.95272\n",
      "epoch: 07, loss: -0.95518\n",
      "epoch: 08, loss: -0.95721\n",
      "epoch: 09, loss: -0.95892\n",
      "torch.Size([1024, 64])\n"
     ]
    },
    {
     "name": "stderr",
     "output_type": "stream",
     "text": [
      " 31%|███▏      | 314/999 [6:22:54<14:34:30, 76.60s/it]"
     ]
    },
    {
     "name": "stdout",
     "output_type": "stream",
     "text": [
      "eigenvalues shape torch.Size([5]) eigenvectors shape torch.Size([5, 1024])\n",
      "314 /home/phdcs2/Hard_Disk/Datasets/Deep-Spectral-Segmentation/data/object-segmentation/ECSSD/features/0316_resized.pth\n",
      "dict_keys(['k', 'indices', 'file', 'id', 'model_name', 'patch_size', 'shape'])\n",
      "0316_resized\n"
     ]
    },
    {
     "name": "stderr",
     "output_type": "stream",
     "text": [
      "/home/phdcs2/Hard_Disk/Projects/T2I/deep-spectral-segmentation/venv/lib/python3.8/site-packages/sklearn/decomposition/_pca.py:642: RuntimeWarning: invalid value encountered in divide\n",
      "  self.explained_variance_ratio_ = self.explained_variance_ / total_var\n"
     ]
    },
    {
     "name": "stdout",
     "output_type": "stream",
     "text": [
      "Starting Training\n",
      "epoch: 00, loss: -0.90909\n",
      "epoch: 01, loss: -0.94548\n",
      "epoch: 02, loss: -0.95391\n",
      "epoch: 03, loss: -0.95879\n",
      "epoch: 04, loss: -0.96217\n",
      "epoch: 05, loss: -0.96467\n",
      "epoch: 06, loss: -0.96667\n",
      "epoch: 07, loss: -0.96830\n",
      "epoch: 08, loss: -0.96967\n",
      "epoch: 09, loss: -0.97080\n",
      "torch.Size([1024, 64])\n"
     ]
    },
    {
     "name": "stderr",
     "output_type": "stream",
     "text": [
      " 32%|███▏      | 315/999 [6:24:07<14:18:18, 75.29s/it]"
     ]
    },
    {
     "name": "stdout",
     "output_type": "stream",
     "text": [
      "eigenvalues shape torch.Size([5]) eigenvectors shape torch.Size([5, 1024])\n",
      "315 /home/phdcs2/Hard_Disk/Datasets/Deep-Spectral-Segmentation/data/object-segmentation/ECSSD/features/0317_resized.pth\n",
      "dict_keys(['k', 'indices', 'file', 'id', 'model_name', 'patch_size', 'shape'])\n",
      "0317_resized\n",
      "Starting Training\n",
      "epoch: 00, loss: -0.87631\n",
      "epoch: 01, loss: -0.92726\n",
      "epoch: 02, loss: -0.93985\n",
      "epoch: 03, loss: -0.94722\n",
      "epoch: 04, loss: -0.95181\n",
      "epoch: 05, loss: -0.95537\n",
      "epoch: 06, loss: -0.95802\n",
      "epoch: 07, loss: -0.96026\n",
      "epoch: 08, loss: -0.96208\n",
      "epoch: 09, loss: -0.96366\n",
      "torch.Size([1024, 64])\n"
     ]
    },
    {
     "name": "stderr",
     "output_type": "stream",
     "text": [
      " 32%|███▏      | 316/999 [6:25:18<14:03:42, 74.12s/it]"
     ]
    },
    {
     "name": "stdout",
     "output_type": "stream",
     "text": [
      "eigenvalues shape torch.Size([5]) eigenvectors shape torch.Size([5, 1024])\n",
      "316 /home/phdcs2/Hard_Disk/Datasets/Deep-Spectral-Segmentation/data/object-segmentation/ECSSD/features/0318_resized.pth\n",
      "dict_keys(['k', 'indices', 'file', 'id', 'model_name', 'patch_size', 'shape'])\n",
      "0318_resized\n",
      "Starting Training\n",
      "epoch: 00, loss: -0.87261\n",
      "epoch: 01, loss: -0.92394\n",
      "epoch: 02, loss: -0.93694\n",
      "epoch: 03, loss: -0.94451\n",
      "epoch: 04, loss: -0.94971\n",
      "epoch: 05, loss: -0.95330\n",
      "epoch: 06, loss: -0.95603\n",
      "epoch: 07, loss: -0.95859\n",
      "epoch: 08, loss: -0.96054\n",
      "epoch: 09, loss: -0.96226\n",
      "torch.Size([1024, 64])\n"
     ]
    },
    {
     "name": "stderr",
     "output_type": "stream",
     "text": [
      " 32%|███▏      | 317/999 [6:26:27<13:44:52, 72.57s/it]"
     ]
    },
    {
     "name": "stdout",
     "output_type": "stream",
     "text": [
      "eigenvalues shape torch.Size([5]) eigenvectors shape torch.Size([5, 1024])\n",
      "317 /home/phdcs2/Hard_Disk/Datasets/Deep-Spectral-Segmentation/data/object-segmentation/ECSSD/features/0319_resized.pth\n",
      "dict_keys(['k', 'indices', 'file', 'id', 'model_name', 'patch_size', 'shape'])\n",
      "0319_resized\n",
      "Starting Training\n",
      "epoch: 00, loss: -0.88490\n",
      "epoch: 01, loss: -0.93277\n",
      "epoch: 02, loss: -0.94468\n",
      "epoch: 03, loss: -0.95120\n",
      "epoch: 04, loss: -0.95564\n",
      "epoch: 05, loss: -0.95889\n",
      "epoch: 06, loss: -0.96132\n",
      "epoch: 07, loss: -0.96319\n",
      "epoch: 08, loss: -0.96484\n",
      "epoch: 09, loss: -0.96613\n",
      "torch.Size([1024, 64])\n"
     ]
    },
    {
     "name": "stderr",
     "output_type": "stream",
     "text": [
      " 32%|███▏      | 318/999 [6:27:29<13:07:52, 69.42s/it]"
     ]
    },
    {
     "name": "stdout",
     "output_type": "stream",
     "text": [
      "eigenvalues shape torch.Size([5]) eigenvectors shape torch.Size([5, 1024])\n",
      "318 /home/phdcs2/Hard_Disk/Datasets/Deep-Spectral-Segmentation/data/object-segmentation/ECSSD/features/0320_resized.pth\n",
      "dict_keys(['k', 'indices', 'file', 'id', 'model_name', 'patch_size', 'shape'])\n",
      "0320_resized\n",
      "Starting Training\n",
      "epoch: 00, loss: -0.86514\n",
      "epoch: 01, loss: -0.92014\n",
      "epoch: 02, loss: -0.93403\n",
      "epoch: 03, loss: -0.94204\n",
      "epoch: 04, loss: -0.94752\n",
      "epoch: 05, loss: -0.95142\n",
      "epoch: 06, loss: -0.95444\n",
      "epoch: 07, loss: -0.95682\n",
      "epoch: 08, loss: -0.95888\n",
      "epoch: 09, loss: -0.96064\n",
      "torch.Size([1024, 64])\n"
     ]
    },
    {
     "name": "stderr",
     "output_type": "stream",
     "text": [
      " 32%|███▏      | 319/999 [6:28:39<13:08:32, 69.58s/it]"
     ]
    },
    {
     "name": "stdout",
     "output_type": "stream",
     "text": [
      "eigenvalues shape torch.Size([5]) eigenvectors shape torch.Size([5, 1024])\n",
      "319 /home/phdcs2/Hard_Disk/Datasets/Deep-Spectral-Segmentation/data/object-segmentation/ECSSD/features/0321_resized.pth\n",
      "dict_keys(['k', 'indices', 'file', 'id', 'model_name', 'patch_size', 'shape'])\n",
      "0321_resized\n",
      "Starting Training\n",
      "epoch: 00, loss: -0.93629\n",
      "epoch: 01, loss: -0.96346\n",
      "epoch: 02, loss: -0.96907\n",
      "epoch: 03, loss: -0.97233\n",
      "epoch: 04, loss: -0.97457\n",
      "epoch: 05, loss: -0.97624\n",
      "epoch: 06, loss: -0.97754\n",
      "epoch: 07, loss: -0.97863\n",
      "epoch: 08, loss: -0.97951\n",
      "epoch: 09, loss: -0.98028\n",
      "torch.Size([1024, 64])\n"
     ]
    },
    {
     "name": "stderr",
     "output_type": "stream",
     "text": [
      " 32%|███▏      | 320/999 [6:29:46<12:57:09, 68.67s/it]"
     ]
    },
    {
     "name": "stdout",
     "output_type": "stream",
     "text": [
      "eigenvalues shape torch.Size([5]) eigenvectors shape torch.Size([5, 1024])\n",
      "320 /home/phdcs2/Hard_Disk/Datasets/Deep-Spectral-Segmentation/data/object-segmentation/ECSSD/features/0322_resized.pth\n",
      "dict_keys(['k', 'indices', 'file', 'id', 'model_name', 'patch_size', 'shape'])\n",
      "0322_resized\n"
     ]
    },
    {
     "name": "stderr",
     "output_type": "stream",
     "text": [
      "/home/phdcs2/Hard_Disk/Projects/T2I/deep-spectral-segmentation/venv/lib/python3.8/site-packages/sklearn/decomposition/_pca.py:642: RuntimeWarning: invalid value encountered in divide\n",
      "  self.explained_variance_ratio_ = self.explained_variance_ / total_var\n"
     ]
    },
    {
     "name": "stdout",
     "output_type": "stream",
     "text": [
      "Starting Training\n",
      "epoch: 00, loss: -0.94179\n",
      "epoch: 01, loss: -0.96536\n",
      "epoch: 02, loss: -0.97063\n",
      "epoch: 03, loss: -0.97377\n",
      "epoch: 04, loss: -0.97589\n",
      "epoch: 05, loss: -0.97748\n",
      "epoch: 06, loss: -0.97873\n",
      "epoch: 07, loss: -0.97976\n",
      "epoch: 08, loss: -0.98061\n",
      "epoch: 09, loss: -0.98136\n",
      "torch.Size([1024, 64])\n"
     ]
    },
    {
     "name": "stderr",
     "output_type": "stream",
     "text": [
      " 32%|███▏      | 321/999 [6:30:49<12:36:46, 66.97s/it]"
     ]
    },
    {
     "name": "stdout",
     "output_type": "stream",
     "text": [
      "eigenvalues shape torch.Size([5]) eigenvectors shape torch.Size([5, 1024])\n",
      "321 /home/phdcs2/Hard_Disk/Datasets/Deep-Spectral-Segmentation/data/object-segmentation/ECSSD/features/0323_resized.pth\n",
      "dict_keys(['k', 'indices', 'file', 'id', 'model_name', 'patch_size', 'shape'])\n",
      "0323_resized\n"
     ]
    },
    {
     "name": "stderr",
     "output_type": "stream",
     "text": [
      "/home/phdcs2/Hard_Disk/Projects/T2I/deep-spectral-segmentation/venv/lib/python3.8/site-packages/sklearn/decomposition/_pca.py:642: RuntimeWarning: invalid value encountered in divide\n",
      "  self.explained_variance_ratio_ = self.explained_variance_ / total_var\n"
     ]
    },
    {
     "name": "stdout",
     "output_type": "stream",
     "text": [
      "Starting Training\n",
      "epoch: 00, loss: -0.92444\n",
      "epoch: 01, loss: -0.95569\n",
      "epoch: 02, loss: -0.96271\n",
      "epoch: 03, loss: -0.96687\n",
      "epoch: 04, loss: -0.96968\n",
      "epoch: 05, loss: -0.97179\n",
      "epoch: 06, loss: -0.97342\n",
      "epoch: 07, loss: -0.97477\n",
      "epoch: 08, loss: -0.97589\n",
      "epoch: 09, loss: -0.97682\n",
      "torch.Size([1024, 64])\n"
     ]
    },
    {
     "name": "stderr",
     "output_type": "stream",
     "text": [
      " 32%|███▏      | 322/999 [6:31:54<12:30:33, 66.52s/it]"
     ]
    },
    {
     "name": "stdout",
     "output_type": "stream",
     "text": [
      "eigenvalues shape torch.Size([5]) eigenvectors shape torch.Size([5, 1024])\n",
      "322 /home/phdcs2/Hard_Disk/Datasets/Deep-Spectral-Segmentation/data/object-segmentation/ECSSD/features/0324_resized.pth\n",
      "dict_keys(['k', 'indices', 'file', 'id', 'model_name', 'patch_size', 'shape'])\n",
      "0324_resized\n",
      "Starting Training\n",
      "epoch: 00, loss: -0.84348\n",
      "epoch: 01, loss: -0.91064\n",
      "epoch: 02, loss: -0.92729\n",
      "epoch: 03, loss: -0.93634\n",
      "epoch: 04, loss: -0.94214\n",
      "epoch: 05, loss: -0.94657\n",
      "epoch: 06, loss: -0.95006\n",
      "epoch: 07, loss: -0.95292\n",
      "epoch: 08, loss: -0.95518\n",
      "epoch: 09, loss: -0.95707\n",
      "torch.Size([1024, 64])\n"
     ]
    },
    {
     "name": "stderr",
     "output_type": "stream",
     "text": [
      " 32%|███▏      | 323/999 [6:32:55<12:12:13, 64.99s/it]"
     ]
    },
    {
     "name": "stdout",
     "output_type": "stream",
     "text": [
      "eigenvalues shape torch.Size([5]) eigenvectors shape torch.Size([5, 1024])\n",
      "323 /home/phdcs2/Hard_Disk/Datasets/Deep-Spectral-Segmentation/data/object-segmentation/ECSSD/features/0325_resized.pth\n",
      "dict_keys(['k', 'indices', 'file', 'id', 'model_name', 'patch_size', 'shape'])\n",
      "0325_resized\n"
     ]
    },
    {
     "name": "stderr",
     "output_type": "stream",
     "text": [
      "/home/phdcs2/Hard_Disk/Projects/T2I/deep-spectral-segmentation/venv/lib/python3.8/site-packages/sklearn/decomposition/_pca.py:642: RuntimeWarning: invalid value encountered in divide\n",
      "  self.explained_variance_ratio_ = self.explained_variance_ / total_var\n"
     ]
    },
    {
     "name": "stdout",
     "output_type": "stream",
     "text": [
      "Starting Training\n",
      "epoch: 00, loss: -0.92911\n",
      "epoch: 01, loss: -0.96039\n",
      "epoch: 02, loss: -0.96629\n",
      "epoch: 03, loss: -0.96972\n",
      "epoch: 04, loss: -0.97208\n",
      "epoch: 05, loss: -0.97383\n",
      "epoch: 06, loss: -0.97522\n",
      "epoch: 07, loss: -0.97634\n",
      "epoch: 08, loss: -0.97728\n",
      "epoch: 09, loss: -0.97809\n",
      "torch.Size([1024, 64])\n"
     ]
    },
    {
     "name": "stderr",
     "output_type": "stream",
     "text": [
      " 32%|███▏      | 324/999 [6:33:54<11:47:36, 62.90s/it]"
     ]
    },
    {
     "name": "stdout",
     "output_type": "stream",
     "text": [
      "eigenvalues shape torch.Size([5]) eigenvectors shape torch.Size([5, 1024])\n",
      "324 /home/phdcs2/Hard_Disk/Datasets/Deep-Spectral-Segmentation/data/object-segmentation/ECSSD/features/0326_resized.pth\n",
      "dict_keys(['k', 'indices', 'file', 'id', 'model_name', 'patch_size', 'shape'])\n",
      "0326_resized\n"
     ]
    },
    {
     "name": "stderr",
     "output_type": "stream",
     "text": [
      "/home/phdcs2/Hard_Disk/Projects/T2I/deep-spectral-segmentation/venv/lib/python3.8/site-packages/sklearn/decomposition/_pca.py:642: RuntimeWarning: invalid value encountered in divide\n",
      "  self.explained_variance_ratio_ = self.explained_variance_ / total_var\n"
     ]
    },
    {
     "name": "stdout",
     "output_type": "stream",
     "text": [
      "Starting Training\n",
      "epoch: 00, loss: -0.92153\n",
      "epoch: 01, loss: -0.95044\n",
      "epoch: 02, loss: -0.95784\n",
      "epoch: 03, loss: -0.96222\n",
      "epoch: 04, loss: -0.96519\n",
      "epoch: 05, loss: -0.96748\n",
      "epoch: 06, loss: -0.96922\n",
      "epoch: 07, loss: -0.97067\n",
      "epoch: 08, loss: -0.97188\n",
      "epoch: 09, loss: -0.97294\n",
      "torch.Size([1024, 64])\n"
     ]
    },
    {
     "name": "stderr",
     "output_type": "stream",
     "text": [
      " 33%|███▎      | 325/999 [6:34:48<11:18:25, 60.39s/it]"
     ]
    },
    {
     "name": "stdout",
     "output_type": "stream",
     "text": [
      "eigenvalues shape torch.Size([5]) eigenvectors shape torch.Size([5, 1024])\n",
      "325 /home/phdcs2/Hard_Disk/Datasets/Deep-Spectral-Segmentation/data/object-segmentation/ECSSD/features/0327_resized.pth\n",
      "dict_keys(['k', 'indices', 'file', 'id', 'model_name', 'patch_size', 'shape'])\n",
      "0327_resized\n"
     ]
    },
    {
     "name": "stderr",
     "output_type": "stream",
     "text": [
      "/home/phdcs2/Hard_Disk/Projects/T2I/deep-spectral-segmentation/venv/lib/python3.8/site-packages/sklearn/decomposition/_pca.py:642: RuntimeWarning: invalid value encountered in divide\n",
      "  self.explained_variance_ratio_ = self.explained_variance_ / total_var\n"
     ]
    },
    {
     "name": "stdout",
     "output_type": "stream",
     "text": [
      "Starting Training\n",
      "epoch: 00, loss: -0.92149\n",
      "epoch: 01, loss: -0.95089\n",
      "epoch: 02, loss: -0.95828\n",
      "epoch: 03, loss: -0.96273\n",
      "epoch: 04, loss: -0.96576\n",
      "epoch: 05, loss: -0.96806\n",
      "epoch: 06, loss: -0.96985\n",
      "epoch: 07, loss: -0.97134\n",
      "epoch: 08, loss: -0.97257\n",
      "epoch: 09, loss: -0.97361\n",
      "torch.Size([1024, 64])\n"
     ]
    },
    {
     "name": "stderr",
     "output_type": "stream",
     "text": [
      " 33%|███▎      | 326/999 [6:35:56<11:44:21, 62.80s/it]"
     ]
    },
    {
     "name": "stdout",
     "output_type": "stream",
     "text": [
      "eigenvalues shape torch.Size([5]) eigenvectors shape torch.Size([5, 1024])\n",
      "326 /home/phdcs2/Hard_Disk/Datasets/Deep-Spectral-Segmentation/data/object-segmentation/ECSSD/features/0328_resized.pth\n",
      "dict_keys(['k', 'indices', 'file', 'id', 'model_name', 'patch_size', 'shape'])\n",
      "0328_resized\n"
     ]
    },
    {
     "name": "stderr",
     "output_type": "stream",
     "text": [
      "/home/phdcs2/Hard_Disk/Projects/T2I/deep-spectral-segmentation/venv/lib/python3.8/site-packages/sklearn/decomposition/_pca.py:642: RuntimeWarning: invalid value encountered in divide\n",
      "  self.explained_variance_ratio_ = self.explained_variance_ / total_var\n"
     ]
    },
    {
     "name": "stdout",
     "output_type": "stream",
     "text": [
      "Starting Training\n",
      "epoch: 00, loss: -0.91667\n",
      "epoch: 01, loss: -0.95064\n",
      "epoch: 02, loss: -0.95855\n",
      "epoch: 03, loss: -0.96308\n",
      "epoch: 04, loss: -0.96622\n",
      "epoch: 05, loss: -0.96848\n",
      "epoch: 06, loss: -0.97026\n",
      "epoch: 07, loss: -0.97174\n",
      "epoch: 08, loss: -0.97299\n",
      "epoch: 09, loss: -0.97398\n",
      "torch.Size([1024, 64])\n"
     ]
    },
    {
     "name": "stderr",
     "output_type": "stream",
     "text": [
      " 33%|███▎      | 327/999 [6:37:06<12:05:29, 64.78s/it]"
     ]
    },
    {
     "name": "stdout",
     "output_type": "stream",
     "text": [
      "eigenvalues shape torch.Size([5]) eigenvectors shape torch.Size([5, 1024])\n",
      "327 /home/phdcs2/Hard_Disk/Datasets/Deep-Spectral-Segmentation/data/object-segmentation/ECSSD/features/0329_resized.pth\n",
      "dict_keys(['k', 'indices', 'file', 'id', 'model_name', 'patch_size', 'shape'])\n",
      "0329_resized\n"
     ]
    },
    {
     "name": "stderr",
     "output_type": "stream",
     "text": [
      "/home/phdcs2/Hard_Disk/Projects/T2I/deep-spectral-segmentation/venv/lib/python3.8/site-packages/sklearn/decomposition/_pca.py:642: RuntimeWarning: invalid value encountered in divide\n",
      "  self.explained_variance_ratio_ = self.explained_variance_ / total_var\n"
     ]
    },
    {
     "name": "stdout",
     "output_type": "stream",
     "text": [
      "Starting Training\n",
      "epoch: 00, loss: -0.91148\n",
      "epoch: 01, loss: -0.94414\n",
      "epoch: 02, loss: -0.95271\n",
      "epoch: 03, loss: -0.95779\n",
      "epoch: 04, loss: -0.96122\n",
      "epoch: 05, loss: -0.96378\n",
      "epoch: 06, loss: -0.96584\n",
      "epoch: 07, loss: -0.96749\n",
      "epoch: 08, loss: -0.96888\n",
      "epoch: 09, loss: -0.97005\n",
      "torch.Size([1024, 64])\n"
     ]
    },
    {
     "name": "stderr",
     "output_type": "stream",
     "text": [
      " 33%|███▎      | 328/999 [6:38:12<12:10:00, 65.28s/it]"
     ]
    },
    {
     "name": "stdout",
     "output_type": "stream",
     "text": [
      "eigenvalues shape torch.Size([5]) eigenvectors shape torch.Size([5, 1024])\n",
      "328 /home/phdcs2/Hard_Disk/Datasets/Deep-Spectral-Segmentation/data/object-segmentation/ECSSD/features/0330_resized.pth\n",
      "dict_keys(['k', 'indices', 'file', 'id', 'model_name', 'patch_size', 'shape'])\n",
      "0330_resized\n",
      "Starting Training\n",
      "epoch: 00, loss: -0.86286\n",
      "epoch: 01, loss: -0.91812\n",
      "epoch: 02, loss: -0.93223\n",
      "epoch: 03, loss: -0.94067\n",
      "epoch: 04, loss: -0.94612\n",
      "epoch: 05, loss: -0.95025\n",
      "epoch: 06, loss: -0.95323\n",
      "epoch: 07, loss: -0.95579\n",
      "epoch: 08, loss: -0.95793\n",
      "epoch: 09, loss: -0.95961\n",
      "torch.Size([1024, 64])\n"
     ]
    },
    {
     "name": "stderr",
     "output_type": "stream",
     "text": [
      " 33%|███▎      | 329/999 [6:39:25<12:34:07, 67.53s/it]"
     ]
    },
    {
     "name": "stdout",
     "output_type": "stream",
     "text": [
      "eigenvalues shape torch.Size([5]) eigenvectors shape torch.Size([5, 1024])\n",
      "329 /home/phdcs2/Hard_Disk/Datasets/Deep-Spectral-Segmentation/data/object-segmentation/ECSSD/features/0331_resized.pth\n",
      "dict_keys(['k', 'indices', 'file', 'id', 'model_name', 'patch_size', 'shape'])\n",
      "0331_resized\n",
      "Starting Training\n",
      "epoch: 00, loss: -0.88762\n",
      "epoch: 01, loss: -0.93673\n",
      "epoch: 02, loss: -0.94732\n",
      "epoch: 03, loss: -0.95326\n",
      "epoch: 04, loss: -0.95727\n",
      "epoch: 05, loss: -0.96009\n",
      "epoch: 06, loss: -0.96229\n",
      "epoch: 07, loss: -0.96413\n",
      "epoch: 08, loss: -0.96562\n",
      "epoch: 09, loss: -0.96679\n",
      "torch.Size([1024, 64])\n"
     ]
    },
    {
     "name": "stderr",
     "output_type": "stream",
     "text": [
      " 33%|███▎      | 330/999 [6:40:27<12:15:38, 65.98s/it]"
     ]
    },
    {
     "name": "stdout",
     "output_type": "stream",
     "text": [
      "eigenvalues shape torch.Size([5]) eigenvectors shape torch.Size([5, 1024])\n",
      "330 /home/phdcs2/Hard_Disk/Datasets/Deep-Spectral-Segmentation/data/object-segmentation/ECSSD/features/0332_resized.pth\n",
      "dict_keys(['k', 'indices', 'file', 'id', 'model_name', 'patch_size', 'shape'])\n",
      "0332_resized\n",
      "Starting Training\n",
      "epoch: 00, loss: -0.87836\n",
      "epoch: 01, loss: -0.92702\n",
      "epoch: 02, loss: -0.93973\n",
      "epoch: 03, loss: -0.94697\n",
      "epoch: 04, loss: -0.95215\n",
      "epoch: 05, loss: -0.95566\n",
      "epoch: 06, loss: -0.95853\n",
      "epoch: 07, loss: -0.96071\n",
      "epoch: 08, loss: -0.96256\n",
      "epoch: 09, loss: -0.96414\n",
      "torch.Size([1024, 64])\n"
     ]
    },
    {
     "name": "stderr",
     "output_type": "stream",
     "text": [
      " 33%|███▎      | 331/999 [6:41:28<11:56:27, 64.35s/it]"
     ]
    },
    {
     "name": "stdout",
     "output_type": "stream",
     "text": [
      "eigenvalues shape torch.Size([5]) eigenvectors shape torch.Size([5, 1024])\n",
      "331 /home/phdcs2/Hard_Disk/Datasets/Deep-Spectral-Segmentation/data/object-segmentation/ECSSD/features/0333_resized.pth\n",
      "dict_keys(['k', 'indices', 'file', 'id', 'model_name', 'patch_size', 'shape'])\n",
      "0333_resized\n",
      "Starting Training\n",
      "epoch: 00, loss: -0.85575\n",
      "epoch: 01, loss: -0.91329\n",
      "epoch: 02, loss: -0.92901\n",
      "epoch: 03, loss: -0.93779\n",
      "epoch: 04, loss: -0.94390\n",
      "epoch: 05, loss: -0.94820\n",
      "epoch: 06, loss: -0.95148\n",
      "epoch: 07, loss: -0.95414\n",
      "epoch: 08, loss: -0.95638\n",
      "epoch: 09, loss: -0.95828\n",
      "torch.Size([1024, 64])\n"
     ]
    },
    {
     "name": "stderr",
     "output_type": "stream",
     "text": [
      " 33%|███▎      | 332/999 [6:42:33<11:59:00, 64.68s/it]"
     ]
    },
    {
     "name": "stdout",
     "output_type": "stream",
     "text": [
      "eigenvalues shape torch.Size([5]) eigenvectors shape torch.Size([5, 1024])\n",
      "332 /home/phdcs2/Hard_Disk/Datasets/Deep-Spectral-Segmentation/data/object-segmentation/ECSSD/features/0334_resized.pth\n",
      "dict_keys(['k', 'indices', 'file', 'id', 'model_name', 'patch_size', 'shape'])\n",
      "0334_resized\n",
      "Starting Training\n",
      "epoch: 00, loss: -0.87541\n",
      "epoch: 01, loss: -0.92563\n",
      "epoch: 02, loss: -0.93845\n",
      "epoch: 03, loss: -0.94583\n",
      "epoch: 04, loss: -0.95090\n",
      "epoch: 05, loss: -0.95458\n",
      "epoch: 06, loss: -0.95746\n",
      "epoch: 07, loss: -0.95968\n",
      "epoch: 08, loss: -0.96147\n",
      "epoch: 09, loss: -0.96315\n",
      "torch.Size([1024, 64])\n"
     ]
    },
    {
     "name": "stderr",
     "output_type": "stream",
     "text": [
      " 33%|███▎      | 333/999 [6:43:35<11:49:05, 63.88s/it]"
     ]
    },
    {
     "name": "stdout",
     "output_type": "stream",
     "text": [
      "eigenvalues shape torch.Size([5]) eigenvectors shape torch.Size([5, 1024])\n",
      "333 /home/phdcs2/Hard_Disk/Datasets/Deep-Spectral-Segmentation/data/object-segmentation/ECSSD/features/0335_resized.pth\n",
      "dict_keys(['k', 'indices', 'file', 'id', 'model_name', 'patch_size', 'shape'])\n",
      "0335_resized\n",
      "Starting Training\n",
      "epoch: 00, loss: -0.85015\n",
      "epoch: 01, loss: -0.90767\n",
      "epoch: 02, loss: -0.92355\n",
      "epoch: 03, loss: -0.93279\n",
      "epoch: 04, loss: -0.93921\n",
      "epoch: 05, loss: -0.94387\n",
      "epoch: 06, loss: -0.94756\n",
      "epoch: 07, loss: -0.95043\n",
      "epoch: 08, loss: -0.95284\n",
      "epoch: 09, loss: -0.95489\n",
      "torch.Size([1024, 64])\n"
     ]
    },
    {
     "name": "stderr",
     "output_type": "stream",
     "text": [
      " 33%|███▎      | 334/999 [6:44:49<12:19:19, 66.71s/it]"
     ]
    },
    {
     "name": "stdout",
     "output_type": "stream",
     "text": [
      "eigenvalues shape torch.Size([5]) eigenvectors shape torch.Size([5, 1024])\n",
      "334 /home/phdcs2/Hard_Disk/Datasets/Deep-Spectral-Segmentation/data/object-segmentation/ECSSD/features/0336_resized.pth\n",
      "dict_keys(['k', 'indices', 'file', 'id', 'model_name', 'patch_size', 'shape'])\n",
      "0336_resized\n",
      "Starting Training\n",
      "epoch: 00, loss: -0.89205\n",
      "epoch: 01, loss: -0.93218\n",
      "epoch: 02, loss: -0.94337\n",
      "epoch: 03, loss: -0.95000\n",
      "epoch: 04, loss: -0.95451\n",
      "epoch: 05, loss: -0.95769\n",
      "epoch: 06, loss: -0.96030\n",
      "epoch: 07, loss: -0.96242\n",
      "epoch: 08, loss: -0.96427\n",
      "epoch: 09, loss: -0.96581\n",
      "torch.Size([1024, 64])\n"
     ]
    },
    {
     "name": "stderr",
     "output_type": "stream",
     "text": [
      " 34%|███▎      | 335/999 [6:46:02<12:38:41, 68.56s/it]"
     ]
    },
    {
     "name": "stdout",
     "output_type": "stream",
     "text": [
      "eigenvalues shape torch.Size([5]) eigenvectors shape torch.Size([5, 1024])\n",
      "335 /home/phdcs2/Hard_Disk/Datasets/Deep-Spectral-Segmentation/data/object-segmentation/ECSSD/features/0337_resized.pth\n",
      "dict_keys(['k', 'indices', 'file', 'id', 'model_name', 'patch_size', 'shape'])\n",
      "0337_resized\n",
      "Starting Training\n",
      "epoch: 00, loss: -0.92943\n",
      "epoch: 01, loss: -0.95732\n",
      "epoch: 02, loss: -0.96390\n",
      "epoch: 03, loss: -0.96776\n",
      "epoch: 04, loss: -0.97039\n",
      "epoch: 05, loss: -0.97237\n",
      "epoch: 06, loss: -0.97393\n",
      "epoch: 07, loss: -0.97519\n",
      "epoch: 08, loss: -0.97624\n",
      "epoch: 09, loss: -0.97716\n",
      "torch.Size([1024, 64])\n"
     ]
    },
    {
     "name": "stderr",
     "output_type": "stream",
     "text": [
      " 34%|███▎      | 336/999 [6:47:12<12:42:08, 68.97s/it]"
     ]
    },
    {
     "name": "stdout",
     "output_type": "stream",
     "text": [
      "eigenvalues shape torch.Size([5]) eigenvectors shape torch.Size([5, 1024])\n",
      "336 /home/phdcs2/Hard_Disk/Datasets/Deep-Spectral-Segmentation/data/object-segmentation/ECSSD/features/0338_resized.pth\n",
      "dict_keys(['k', 'indices', 'file', 'id', 'model_name', 'patch_size', 'shape'])\n",
      "0338_resized\n",
      "Starting Training\n",
      "epoch: 00, loss: -0.85738\n",
      "epoch: 01, loss: -0.91506\n",
      "epoch: 02, loss: -0.93024\n",
      "epoch: 03, loss: -0.93886\n",
      "epoch: 04, loss: -0.94461\n",
      "epoch: 05, loss: -0.94886\n",
      "epoch: 06, loss: -0.95209\n",
      "epoch: 07, loss: -0.95477\n",
      "epoch: 08, loss: -0.95693\n",
      "epoch: 09, loss: -0.95881\n",
      "torch.Size([1024, 64])\n"
     ]
    },
    {
     "name": "stderr",
     "output_type": "stream",
     "text": [
      " 34%|███▎      | 337/999 [6:48:19<12:36:27, 68.56s/it]"
     ]
    },
    {
     "name": "stdout",
     "output_type": "stream",
     "text": [
      "eigenvalues shape torch.Size([5]) eigenvectors shape torch.Size([5, 1024])\n",
      "337 /home/phdcs2/Hard_Disk/Datasets/Deep-Spectral-Segmentation/data/object-segmentation/ECSSD/features/0339_resized.pth\n",
      "dict_keys(['k', 'indices', 'file', 'id', 'model_name', 'patch_size', 'shape'])\n",
      "0339_resized\n",
      "Starting Training\n",
      "epoch: 00, loss: -0.87042\n",
      "epoch: 01, loss: -0.92539\n",
      "epoch: 02, loss: -0.93907\n",
      "epoch: 03, loss: -0.94666\n",
      "epoch: 04, loss: -0.95170\n",
      "epoch: 05, loss: -0.95550\n",
      "epoch: 06, loss: -0.95842\n",
      "epoch: 07, loss: -0.96076\n",
      "epoch: 08, loss: -0.96272\n",
      "epoch: 09, loss: -0.96439\n",
      "torch.Size([1024, 64])\n"
     ]
    },
    {
     "name": "stderr",
     "output_type": "stream",
     "text": [
      " 34%|███▍      | 338/999 [6:49:33<12:51:36, 70.04s/it]"
     ]
    },
    {
     "name": "stdout",
     "output_type": "stream",
     "text": [
      "eigenvalues shape torch.Size([5]) eigenvectors shape torch.Size([5, 1024])\n",
      "338 /home/phdcs2/Hard_Disk/Datasets/Deep-Spectral-Segmentation/data/object-segmentation/ECSSD/features/0340_resized.pth\n",
      "dict_keys(['k', 'indices', 'file', 'id', 'model_name', 'patch_size', 'shape'])\n",
      "0340_resized\n",
      "Starting Training\n",
      "epoch: 00, loss: -0.87694\n",
      "epoch: 01, loss: -0.92537\n",
      "epoch: 02, loss: -0.93697\n",
      "epoch: 03, loss: -0.94385\n",
      "epoch: 04, loss: -0.94821\n",
      "epoch: 05, loss: -0.95148\n",
      "epoch: 06, loss: -0.95412\n",
      "epoch: 07, loss: -0.95624\n",
      "epoch: 08, loss: -0.95805\n",
      "epoch: 09, loss: -0.95956\n",
      "torch.Size([1024, 64])\n"
     ]
    },
    {
     "name": "stderr",
     "output_type": "stream",
     "text": [
      " 34%|███▍      | 339/999 [6:50:45<12:58:36, 70.78s/it]"
     ]
    },
    {
     "name": "stdout",
     "output_type": "stream",
     "text": [
      "eigenvalues shape torch.Size([5]) eigenvectors shape torch.Size([5, 1024])\n",
      "339 /home/phdcs2/Hard_Disk/Datasets/Deep-Spectral-Segmentation/data/object-segmentation/ECSSD/features/0341_resized.pth\n",
      "dict_keys(['k', 'indices', 'file', 'id', 'model_name', 'patch_size', 'shape'])\n",
      "0341_resized\n"
     ]
    },
    {
     "name": "stderr",
     "output_type": "stream",
     "text": [
      "/home/phdcs2/Hard_Disk/Projects/T2I/deep-spectral-segmentation/venv/lib/python3.8/site-packages/sklearn/decomposition/_pca.py:642: RuntimeWarning: invalid value encountered in divide\n",
      "  self.explained_variance_ratio_ = self.explained_variance_ / total_var\n"
     ]
    },
    {
     "name": "stdout",
     "output_type": "stream",
     "text": [
      "Starting Training\n",
      "epoch: 00, loss: -0.92436\n",
      "epoch: 01, loss: -0.95441\n",
      "epoch: 02, loss: -0.96121\n",
      "epoch: 03, loss: -0.96513\n",
      "epoch: 04, loss: -0.96783\n",
      "epoch: 05, loss: -0.96982\n",
      "epoch: 06, loss: -0.97143\n",
      "epoch: 07, loss: -0.97269\n",
      "epoch: 08, loss: -0.97380\n",
      "epoch: 09, loss: -0.97472\n",
      "torch.Size([1024, 64])\n"
     ]
    },
    {
     "name": "stderr",
     "output_type": "stream",
     "text": [
      " 34%|███▍      | 340/999 [6:51:54<12:50:35, 70.16s/it]"
     ]
    },
    {
     "name": "stdout",
     "output_type": "stream",
     "text": [
      "eigenvalues shape torch.Size([5]) eigenvectors shape torch.Size([5, 1024])\n",
      "340 /home/phdcs2/Hard_Disk/Datasets/Deep-Spectral-Segmentation/data/object-segmentation/ECSSD/features/0342_resized.pth\n",
      "dict_keys(['k', 'indices', 'file', 'id', 'model_name', 'patch_size', 'shape'])\n",
      "0342_resized\n",
      "Starting Training\n",
      "epoch: 00, loss: -0.86878\n",
      "epoch: 01, loss: -0.92285\n",
      "epoch: 02, loss: -0.93563\n",
      "epoch: 03, loss: -0.94289\n",
      "epoch: 04, loss: -0.94771\n",
      "epoch: 05, loss: -0.95133\n",
      "epoch: 06, loss: -0.95419\n",
      "epoch: 07, loss: -0.95641\n",
      "epoch: 08, loss: -0.95821\n",
      "epoch: 09, loss: -0.95977\n",
      "torch.Size([1024, 64])\n"
     ]
    },
    {
     "name": "stderr",
     "output_type": "stream",
     "text": [
      " 34%|███▍      | 341/999 [6:53:01<12:37:56, 69.11s/it]"
     ]
    },
    {
     "name": "stdout",
     "output_type": "stream",
     "text": [
      "eigenvalues shape torch.Size([5]) eigenvectors shape torch.Size([5, 1024])\n",
      "341 /home/phdcs2/Hard_Disk/Datasets/Deep-Spectral-Segmentation/data/object-segmentation/ECSSD/features/0343_resized.pth\n",
      "dict_keys(['k', 'indices', 'file', 'id', 'model_name', 'patch_size', 'shape'])\n",
      "0343_resized\n",
      "Starting Training\n",
      "epoch: 00, loss: -0.83620\n",
      "epoch: 01, loss: -0.90425\n",
      "epoch: 02, loss: -0.92200\n",
      "epoch: 03, loss: -0.93160\n",
      "epoch: 04, loss: -0.93803\n",
      "epoch: 05, loss: -0.94301\n",
      "epoch: 06, loss: -0.94688\n",
      "epoch: 07, loss: -0.94985\n",
      "epoch: 08, loss: -0.95221\n",
      "epoch: 09, loss: -0.95423\n",
      "torch.Size([1024, 64])\n"
     ]
    },
    {
     "name": "stderr",
     "output_type": "stream",
     "text": [
      " 34%|███▍      | 342/999 [6:54:03<12:16:15, 67.24s/it]"
     ]
    },
    {
     "name": "stdout",
     "output_type": "stream",
     "text": [
      "eigenvalues shape torch.Size([5]) eigenvectors shape torch.Size([5, 1024])\n",
      "342 /home/phdcs2/Hard_Disk/Datasets/Deep-Spectral-Segmentation/data/object-segmentation/ECSSD/features/0344_resized.pth\n",
      "dict_keys(['k', 'indices', 'file', 'id', 'model_name', 'patch_size', 'shape'])\n",
      "0344_resized\n",
      "Starting Training\n",
      "epoch: 00, loss: -0.89459\n",
      "epoch: 01, loss: -0.93853\n",
      "epoch: 02, loss: -0.94890\n",
      "epoch: 03, loss: -0.95489\n",
      "epoch: 04, loss: -0.95890\n",
      "epoch: 05, loss: -0.96191\n",
      "epoch: 06, loss: -0.96409\n",
      "epoch: 07, loss: -0.96602\n",
      "epoch: 08, loss: -0.96748\n",
      "epoch: 09, loss: -0.96874\n",
      "torch.Size([1024, 64])\n"
     ]
    },
    {
     "name": "stderr",
     "output_type": "stream",
     "text": [
      " 34%|███▍      | 343/999 [6:55:02<11:47:46, 64.74s/it]"
     ]
    },
    {
     "name": "stdout",
     "output_type": "stream",
     "text": [
      "eigenvalues shape torch.Size([5]) eigenvectors shape torch.Size([5, 1024])\n",
      "343 /home/phdcs2/Hard_Disk/Datasets/Deep-Spectral-Segmentation/data/object-segmentation/ECSSD/features/0345_resized.pth\n",
      "dict_keys(['k', 'indices', 'file', 'id', 'model_name', 'patch_size', 'shape'])\n",
      "0345_resized\n",
      "Starting Training\n",
      "epoch: 00, loss: -0.85327\n",
      "epoch: 01, loss: -0.91250\n",
      "epoch: 02, loss: -0.92832\n",
      "epoch: 03, loss: -0.93691\n",
      "epoch: 04, loss: -0.94278\n",
      "epoch: 05, loss: -0.94715\n",
      "epoch: 06, loss: -0.95047\n",
      "epoch: 07, loss: -0.95327\n",
      "epoch: 08, loss: -0.95553\n",
      "epoch: 09, loss: -0.95744\n",
      "torch.Size([1024, 64])\n"
     ]
    },
    {
     "name": "stderr",
     "output_type": "stream",
     "text": [
      " 34%|███▍      | 344/999 [6:55:57<11:14:40, 61.80s/it]"
     ]
    },
    {
     "name": "stdout",
     "output_type": "stream",
     "text": [
      "eigenvalues shape torch.Size([5]) eigenvectors shape torch.Size([5, 1024])\n",
      "344 /home/phdcs2/Hard_Disk/Datasets/Deep-Spectral-Segmentation/data/object-segmentation/ECSSD/features/0346_resized.pth\n",
      "dict_keys(['k', 'indices', 'file', 'id', 'model_name', 'patch_size', 'shape'])\n",
      "0346_resized\n"
     ]
    },
    {
     "name": "stderr",
     "output_type": "stream",
     "text": [
      "/home/phdcs2/Hard_Disk/Projects/T2I/deep-spectral-segmentation/venv/lib/python3.8/site-packages/sklearn/decomposition/_pca.py:642: RuntimeWarning: invalid value encountered in divide\n",
      "  self.explained_variance_ratio_ = self.explained_variance_ / total_var\n"
     ]
    },
    {
     "name": "stdout",
     "output_type": "stream",
     "text": [
      "Starting Training\n",
      "epoch: 00, loss: -0.93226\n",
      "epoch: 01, loss: -0.96048\n",
      "epoch: 02, loss: -0.96600\n",
      "epoch: 03, loss: -0.96921\n",
      "epoch: 04, loss: -0.97145\n",
      "epoch: 05, loss: -0.97315\n",
      "epoch: 06, loss: -0.97447\n",
      "epoch: 07, loss: -0.97557\n",
      "epoch: 08, loss: -0.97650\n",
      "epoch: 09, loss: -0.97726\n",
      "torch.Size([1024, 64])\n"
     ]
    },
    {
     "name": "stderr",
     "output_type": "stream",
     "text": [
      " 35%|███▍      | 345/999 [6:56:54<10:56:30, 60.23s/it]"
     ]
    },
    {
     "name": "stdout",
     "output_type": "stream",
     "text": [
      "eigenvalues shape torch.Size([5]) eigenvectors shape torch.Size([5, 1024])\n",
      "345 /home/phdcs2/Hard_Disk/Datasets/Deep-Spectral-Segmentation/data/object-segmentation/ECSSD/features/0347_resized.pth\n",
      "dict_keys(['k', 'indices', 'file', 'id', 'model_name', 'patch_size', 'shape'])\n",
      "0347_resized\n",
      "Starting Training\n",
      "epoch: 00, loss: -0.91779\n",
      "epoch: 01, loss: -0.94878\n",
      "epoch: 02, loss: -0.95651\n",
      "epoch: 03, loss: -0.96106\n",
      "epoch: 04, loss: -0.96414\n",
      "epoch: 05, loss: -0.96649\n",
      "epoch: 06, loss: -0.96832\n",
      "epoch: 07, loss: -0.96984\n",
      "epoch: 08, loss: -0.97108\n",
      "epoch: 09, loss: -0.97216\n",
      "torch.Size([1024, 64])\n"
     ]
    },
    {
     "name": "stderr",
     "output_type": "stream",
     "text": [
      " 35%|███▍      | 346/999 [6:58:06<11:33:40, 63.74s/it]"
     ]
    },
    {
     "name": "stdout",
     "output_type": "stream",
     "text": [
      "eigenvalues shape torch.Size([5]) eigenvectors shape torch.Size([5, 1024])\n",
      "346 /home/phdcs2/Hard_Disk/Datasets/Deep-Spectral-Segmentation/data/object-segmentation/ECSSD/features/0348_resized.pth\n",
      "dict_keys(['k', 'indices', 'file', 'id', 'model_name', 'patch_size', 'shape'])\n",
      "0348_resized\n",
      "Starting Training\n",
      "epoch: 00, loss: -0.86862\n",
      "epoch: 01, loss: -0.92245\n",
      "epoch: 02, loss: -0.93572\n",
      "epoch: 03, loss: -0.94319\n",
      "epoch: 04, loss: -0.94820\n",
      "epoch: 05, loss: -0.95182\n",
      "epoch: 06, loss: -0.95485\n",
      "epoch: 07, loss: -0.95692\n",
      "epoch: 08, loss: -0.95896\n",
      "epoch: 09, loss: -0.96049\n",
      "torch.Size([1024, 64])\n"
     ]
    },
    {
     "name": "stderr",
     "output_type": "stream",
     "text": [
      " 35%|███▍      | 347/999 [6:59:16<11:53:47, 65.69s/it]"
     ]
    },
    {
     "name": "stdout",
     "output_type": "stream",
     "text": [
      "eigenvalues shape torch.Size([5]) eigenvectors shape torch.Size([5, 1024])\n",
      "347 /home/phdcs2/Hard_Disk/Datasets/Deep-Spectral-Segmentation/data/object-segmentation/ECSSD/features/0349_resized.pth\n",
      "dict_keys(['k', 'indices', 'file', 'id', 'model_name', 'patch_size', 'shape'])\n",
      "0349_resized\n"
     ]
    },
    {
     "name": "stderr",
     "output_type": "stream",
     "text": [
      "/home/phdcs2/Hard_Disk/Projects/T2I/deep-spectral-segmentation/venv/lib/python3.8/site-packages/sklearn/decomposition/_pca.py:642: RuntimeWarning: invalid value encountered in divide\n",
      "  self.explained_variance_ratio_ = self.explained_variance_ / total_var\n"
     ]
    },
    {
     "name": "stdout",
     "output_type": "stream",
     "text": [
      "Starting Training\n",
      "epoch: 00, loss: -0.93083\n",
      "epoch: 01, loss: -0.95942\n",
      "epoch: 02, loss: -0.96549\n",
      "epoch: 03, loss: -0.96905\n",
      "epoch: 04, loss: -0.97146\n",
      "epoch: 05, loss: -0.97332\n",
      "epoch: 06, loss: -0.97479\n",
      "epoch: 07, loss: -0.97597\n",
      "epoch: 08, loss: -0.97696\n",
      "epoch: 09, loss: -0.97784\n",
      "torch.Size([1024, 64])\n"
     ]
    },
    {
     "name": "stderr",
     "output_type": "stream",
     "text": [
      " 35%|███▍      | 348/999 [7:00:24<12:01:49, 66.53s/it]"
     ]
    },
    {
     "name": "stdout",
     "output_type": "stream",
     "text": [
      "eigenvalues shape torch.Size([5]) eigenvectors shape torch.Size([5, 1024])\n",
      "348 /home/phdcs2/Hard_Disk/Datasets/Deep-Spectral-Segmentation/data/object-segmentation/ECSSD/features/0350_resized.pth\n",
      "dict_keys(['k', 'indices', 'file', 'id', 'model_name', 'patch_size', 'shape'])\n",
      "0350_resized\n"
     ]
    },
    {
     "name": "stderr",
     "output_type": "stream",
     "text": [
      "/home/phdcs2/Hard_Disk/Projects/T2I/deep-spectral-segmentation/venv/lib/python3.8/site-packages/sklearn/decomposition/_pca.py:642: RuntimeWarning: invalid value encountered in divide\n",
      "  self.explained_variance_ratio_ = self.explained_variance_ / total_var\n"
     ]
    },
    {
     "name": "stdout",
     "output_type": "stream",
     "text": [
      "Starting Training\n",
      "epoch: 00, loss: -0.91652\n",
      "epoch: 01, loss: -0.95105\n",
      "epoch: 02, loss: -0.95846\n",
      "epoch: 03, loss: -0.96277\n",
      "epoch: 04, loss: -0.96572\n",
      "epoch: 05, loss: -0.96791\n",
      "epoch: 06, loss: -0.96968\n",
      "epoch: 07, loss: -0.97108\n",
      "epoch: 08, loss: -0.97229\n",
      "epoch: 09, loss: -0.97330\n",
      "torch.Size([1024, 64])\n"
     ]
    },
    {
     "name": "stderr",
     "output_type": "stream",
     "text": [
      " 35%|███▍      | 349/999 [7:01:36<12:17:29, 68.08s/it]"
     ]
    },
    {
     "name": "stdout",
     "output_type": "stream",
     "text": [
      "eigenvalues shape torch.Size([5]) eigenvectors shape torch.Size([5, 1024])\n",
      "349 /home/phdcs2/Hard_Disk/Datasets/Deep-Spectral-Segmentation/data/object-segmentation/ECSSD/features/0351_resized.pth\n",
      "dict_keys(['k', 'indices', 'file', 'id', 'model_name', 'patch_size', 'shape'])\n",
      "0351_resized\n"
     ]
    },
    {
     "name": "stderr",
     "output_type": "stream",
     "text": [
      "/home/phdcs2/Hard_Disk/Projects/T2I/deep-spectral-segmentation/venv/lib/python3.8/site-packages/sklearn/decomposition/_pca.py:642: RuntimeWarning: invalid value encountered in divide\n",
      "  self.explained_variance_ratio_ = self.explained_variance_ / total_var\n"
     ]
    },
    {
     "name": "stdout",
     "output_type": "stream",
     "text": [
      "Starting Training\n",
      "epoch: 00, loss: -0.92067\n",
      "epoch: 01, loss: -0.95212\n",
      "epoch: 02, loss: -0.95934\n",
      "epoch: 03, loss: -0.96350\n",
      "epoch: 04, loss: -0.96641\n",
      "epoch: 05, loss: -0.96858\n",
      "epoch: 06, loss: -0.97035\n",
      "epoch: 07, loss: -0.97172\n",
      "epoch: 08, loss: -0.97289\n",
      "epoch: 09, loss: -0.97392\n",
      "torch.Size([1024, 64])\n"
     ]
    },
    {
     "name": "stderr",
     "output_type": "stream",
     "text": [
      " 35%|███▌      | 350/999 [7:02:47<12:26:52, 69.05s/it]"
     ]
    },
    {
     "name": "stdout",
     "output_type": "stream",
     "text": [
      "eigenvalues shape torch.Size([5]) eigenvectors shape torch.Size([5, 1024])\n",
      "350 /home/phdcs2/Hard_Disk/Datasets/Deep-Spectral-Segmentation/data/object-segmentation/ECSSD/features/0352_resized.pth\n",
      "dict_keys(['k', 'indices', 'file', 'id', 'model_name', 'patch_size', 'shape'])\n",
      "0352_resized\n",
      "Starting Training\n",
      "epoch: 00, loss: -0.88165\n",
      "epoch: 01, loss: -0.93013\n",
      "epoch: 02, loss: -0.94237\n",
      "epoch: 03, loss: -0.94915\n",
      "epoch: 04, loss: -0.95369\n",
      "epoch: 05, loss: -0.95702\n",
      "epoch: 06, loss: -0.95946\n",
      "epoch: 07, loss: -0.96165\n",
      "epoch: 08, loss: -0.96344\n",
      "epoch: 09, loss: -0.96486\n",
      "torch.Size([1024, 64])\n"
     ]
    },
    {
     "name": "stderr",
     "output_type": "stream",
     "text": [
      " 35%|███▌      | 351/999 [7:04:04<12:49:42, 71.27s/it]"
     ]
    },
    {
     "name": "stdout",
     "output_type": "stream",
     "text": [
      "eigenvalues shape torch.Size([5]) eigenvectors shape torch.Size([5, 1024])\n",
      "351 /home/phdcs2/Hard_Disk/Datasets/Deep-Spectral-Segmentation/data/object-segmentation/ECSSD/features/0353_resized.pth\n",
      "dict_keys(['k', 'indices', 'file', 'id', 'model_name', 'patch_size', 'shape'])\n",
      "0353_resized\n",
      "Starting Training\n",
      "epoch: 00, loss: -0.87861\n",
      "epoch: 01, loss: -0.92839\n",
      "epoch: 02, loss: -0.94009\n",
      "epoch: 03, loss: -0.94681\n",
      "epoch: 04, loss: -0.95119\n",
      "epoch: 05, loss: -0.95460\n",
      "epoch: 06, loss: -0.95714\n",
      "epoch: 07, loss: -0.95927\n",
      "epoch: 08, loss: -0.96094\n",
      "epoch: 09, loss: -0.96239\n",
      "torch.Size([1024, 64])\n"
     ]
    },
    {
     "name": "stderr",
     "output_type": "stream",
     "text": [
      " 35%|███▌      | 352/999 [7:05:13<12:41:17, 70.60s/it]"
     ]
    },
    {
     "name": "stdout",
     "output_type": "stream",
     "text": [
      "eigenvalues shape torch.Size([5]) eigenvectors shape torch.Size([5, 1024])\n",
      "352 /home/phdcs2/Hard_Disk/Datasets/Deep-Spectral-Segmentation/data/object-segmentation/ECSSD/features/0354_resized.pth\n",
      "dict_keys(['k', 'indices', 'file', 'id', 'model_name', 'patch_size', 'shape'])\n",
      "0354_resized\n"
     ]
    },
    {
     "name": "stderr",
     "output_type": "stream",
     "text": [
      "/home/phdcs2/Hard_Disk/Projects/T2I/deep-spectral-segmentation/venv/lib/python3.8/site-packages/sklearn/decomposition/_pca.py:642: RuntimeWarning: invalid value encountered in divide\n",
      "  self.explained_variance_ratio_ = self.explained_variance_ / total_var\n"
     ]
    },
    {
     "name": "stdout",
     "output_type": "stream",
     "text": [
      "Starting Training\n",
      "epoch: 00, loss: -0.91430\n",
      "epoch: 01, loss: -0.94626\n",
      "epoch: 02, loss: -0.95414\n",
      "epoch: 03, loss: -0.95878\n",
      "epoch: 04, loss: -0.96197\n",
      "epoch: 05, loss: -0.96436\n",
      "epoch: 06, loss: -0.96627\n",
      "epoch: 07, loss: -0.96780\n",
      "epoch: 08, loss: -0.96906\n",
      "epoch: 09, loss: -0.97019\n",
      "torch.Size([1024, 64])\n"
     ]
    },
    {
     "name": "stderr",
     "output_type": "stream",
     "text": [
      " 35%|███▌      | 353/999 [7:06:18<12:23:25, 69.05s/it]"
     ]
    },
    {
     "name": "stdout",
     "output_type": "stream",
     "text": [
      "eigenvalues shape torch.Size([5]) eigenvectors shape torch.Size([5, 1024])\n",
      "353 /home/phdcs2/Hard_Disk/Datasets/Deep-Spectral-Segmentation/data/object-segmentation/ECSSD/features/0355_resized.pth\n",
      "dict_keys(['k', 'indices', 'file', 'id', 'model_name', 'patch_size', 'shape'])\n",
      "0355_resized\n",
      "Starting Training\n",
      "epoch: 00, loss: -0.87845\n",
      "epoch: 01, loss: -0.92957\n",
      "epoch: 02, loss: -0.94211\n",
      "epoch: 03, loss: -0.94905\n",
      "epoch: 04, loss: -0.95364\n",
      "epoch: 05, loss: -0.95713\n",
      "epoch: 06, loss: -0.95984\n",
      "epoch: 07, loss: -0.96204\n",
      "epoch: 08, loss: -0.96376\n",
      "epoch: 09, loss: -0.96527\n",
      "torch.Size([1024, 64])\n"
     ]
    },
    {
     "name": "stderr",
     "output_type": "stream",
     "text": [
      " 35%|███▌      | 354/999 [7:07:26<12:16:57, 68.55s/it]"
     ]
    },
    {
     "name": "stdout",
     "output_type": "stream",
     "text": [
      "eigenvalues shape torch.Size([5]) eigenvectors shape torch.Size([5, 1024])\n",
      "354 /home/phdcs2/Hard_Disk/Datasets/Deep-Spectral-Segmentation/data/object-segmentation/ECSSD/features/0356_resized.pth\n",
      "dict_keys(['k', 'indices', 'file', 'id', 'model_name', 'patch_size', 'shape'])\n",
      "0356_resized\n",
      "Starting Training\n",
      "epoch: 00, loss: -0.87588\n",
      "Starting Training\n",
      "epoch: 00, loss: -0.88343\n",
      "epoch: 01, loss: -0.93039\n",
      "epoch: 02, loss: -0.94079\n",
      "epoch: 03, loss: -0.94661\n",
      "epoch: 04, loss: -0.95064\n",
      "epoch: 05, loss: -0.95369\n",
      "epoch: 06, loss: -0.95608\n",
      "epoch: 07, loss: -0.95786\n",
      "epoch: 08, loss: -0.95943\n",
      "epoch: 09, loss: -0.96091\n",
      "torch.Size([1024, 64])\n"
     ]
    },
    {
     "name": "stderr",
     "output_type": "stream",
     "text": [
      " 28%|██▊       | 282/999 [5:42:22<15:37:13, 78.43s/it]"
     ]
    },
    {
     "name": "stdout",
     "output_type": "stream",
     "text": [
      "eigenvalues shape torch.Size([5]) eigenvectors shape torch.Size([5, 1024])\n",
      "282 /home/phdcs2/Hard_Disk/Datasets/Deep-Spectral-Segmentation/data/object-segmentation/ECSSD/features/0284_resized.pth\n",
      "dict_keys(['k', 'indices', 'file', 'id', 'model_name', 'patch_size', 'shape'])\n",
      "0284_resized\n"
     ]
    },
    {
     "name": "stderr",
     "output_type": "stream",
     "text": [
      "/home/phdcs2/Hard_Disk/Projects/T2I/deep-spectral-segmentation/venv/lib/python3.8/site-packages/sklearn/decomposition/_pca.py:642: RuntimeWarning: invalid value encountered in divide\n",
      "  self.explained_variance_ratio_ = self.explained_variance_ / total_var\n"
     ]
    },
    {
     "name": "stdout",
     "output_type": "stream",
     "text": [
      "Starting Training\n",
      "epoch: 00, loss: -0.94069\n",
      "epoch: 01, loss: -0.96588\n",
      "epoch: 02, loss: -0.97097\n",
      "epoch: 03, loss: -0.97390\n",
      "epoch: 04, loss: -0.97591\n",
      "epoch: 05, loss: -0.97741\n",
      "epoch: 06, loss: -0.97860\n",
      "epoch: 07, loss: -0.97957\n",
      "epoch: 08, loss: -0.98038\n",
      "epoch: 09, loss: -0.98107\n",
      "torch.Size([1024, 64])\n"
     ]
    },
    {
     "name": "stderr",
     "output_type": "stream",
     "text": [
      " 28%|██▊       | 283/999 [5:43:46<15:53:53, 79.93s/it]"
     ]
    },
    {
     "name": "stdout",
     "output_type": "stream",
     "text": [
      "eigenvalues shape torch.Size([5]) eigenvectors shape torch.Size([5, 1024])\n",
      "283 /home/phdcs2/Hard_Disk/Datasets/Deep-Spectral-Segmentation/data/object-segmentation/ECSSD/features/0285_resized.pth\n",
      "dict_keys(['k', 'indices', 'file', 'id', 'model_name', 'patch_size', 'shape'])\n",
      "0285_resized\n"
     ]
    },
    {
     "name": "stderr",
     "output_type": "stream",
     "text": [
      "/home/phdcs2/Hard_Disk/Projects/T2I/deep-spectral-segmentation/venv/lib/python3.8/site-packages/sklearn/decomposition/_pca.py:642: RuntimeWarning: invalid value encountered in divide\n",
      "  self.explained_variance_ratio_ = self.explained_variance_ / total_var\n"
     ]
    },
    {
     "name": "stdout",
     "output_type": "stream",
     "text": [
      "Starting Training\n",
      "epoch: 00, loss: -0.92996\n",
      "epoch: 01, loss: -0.96113\n",
      "epoch: 02, loss: -0.96753\n",
      "epoch: 03, loss: -0.97123\n",
      "epoch: 04, loss: -0.97377\n",
      "epoch: 05, loss: -0.97564\n",
      "epoch: 06, loss: -0.97711\n",
      "epoch: 07, loss: -0.97829\n",
      "epoch: 08, loss: -0.97930\n",
      "epoch: 09, loss: -0.98015\n",
      "torch.Size([1024, 64])\n"
     ]
    },
    {
     "name": "stderr",
     "output_type": "stream",
     "text": [
      " 28%|██▊       | 284/999 [5:45:16<16:29:10, 83.01s/it]"
     ]
    },
    {
     "name": "stdout",
     "output_type": "stream",
     "text": [
      "eigenvalues shape torch.Size([5]) eigenvectors shape torch.Size([5, 1024])\n",
      "284 /home/phdcs2/Hard_Disk/Datasets/Deep-Spectral-Segmentation/data/object-segmentation/ECSSD/features/0286_resized.pth\n",
      "dict_keys(['k', 'indices', 'file', 'id', 'model_name', 'patch_size', 'shape'])\n",
      "0286_resized\n",
      "Starting Training\n",
      "epoch: 00, loss: -0.87491\n",
      "epoch: 01, loss: -0.93041\n",
      "epoch: 02, loss: -0.94294\n",
      "epoch: 03, loss: -0.94974\n",
      "epoch: 04, loss: -0.95433\n",
      "epoch: 05, loss: -0.95769\n",
      "epoch: 06, loss: -0.96039\n",
      "epoch: 07, loss: -0.96251\n",
      "epoch: 08, loss: -0.96427\n",
      "epoch: 09, loss: -0.96576\n",
      "torch.Size([1024, 64])\n"
     ]
    },
    {
     "name": "stderr",
     "output_type": "stream",
     "text": [
      " 29%|██▊       | 285/999 [5:46:45<16:49:28, 84.83s/it]"
     ]
    },
    {
     "name": "stdout",
     "output_type": "stream",
     "text": [
      "eigenvalues shape torch.Size([5]) eigenvectors shape torch.Size([5, 1024])\n",
      "285 /home/phdcs2/Hard_Disk/Datasets/Deep-Spectral-Segmentation/data/object-segmentation/ECSSD/features/0287_resized.pth\n",
      "dict_keys(['k', 'indices', 'file', 'id', 'model_name', 'patch_size', 'shape'])\n",
      "0287_resized\n",
      "Starting Training\n",
      "epoch: 00, loss: -0.92651\n",
      "epoch: 01, loss: -0.95498\n",
      "epoch: 02, loss: -0.96191\n",
      "epoch: 03, loss: -0.96592\n",
      "epoch: 04, loss: -0.96869\n",
      "epoch: 05, loss: -0.97076\n",
      "epoch: 06, loss: -0.97238\n",
      "epoch: 07, loss: -0.97371\n",
      "epoch: 08, loss: -0.97482\n",
      "epoch: 09, loss: -0.97577\n",
      "torch.Size([1024, 64])\n"
     ]
    },
    {
     "name": "stderr",
     "output_type": "stream",
     "text": [
      " 29%|██▊       | 286/999 [5:48:14<17:01:46, 85.98s/it]"
     ]
    },
    {
     "name": "stdout",
     "output_type": "stream",
     "text": [
      "eigenvalues shape torch.Size([5]) eigenvectors shape torch.Size([5, 1024])\n",
      "286 /home/phdcs2/Hard_Disk/Datasets/Deep-Spectral-Segmentation/data/object-segmentation/ECSSD/features/0288_resized.pth\n",
      "dict_keys(['k', 'indices', 'file', 'id', 'model_name', 'patch_size', 'shape'])\n",
      "0288_resized\n",
      "Starting Training\n",
      "epoch: 00, loss: -0.86882\n",
      "epoch: 01, loss: -0.92141\n",
      "epoch: 02, loss: -0.93532\n",
      "epoch: 03, loss: -0.94289\n",
      "epoch: 04, loss: -0.94828\n",
      "epoch: 05, loss: -0.95213\n",
      "epoch: 06, loss: -0.95504\n",
      "epoch: 07, loss: -0.95744\n",
      "epoch: 08, loss: -0.95938\n",
      "epoch: 09, loss: -0.96094\n",
      "torch.Size([1024, 64])\n"
     ]
    },
    {
     "name": "stderr",
     "output_type": "stream",
     "text": [
      " 29%|██▊       | 287/999 [5:49:39<16:59:56, 85.95s/it]"
     ]
    },
    {
     "name": "stdout",
     "output_type": "stream",
     "text": [
      "eigenvalues shape torch.Size([5]) eigenvectors shape torch.Size([5, 1024])\n",
      "287 /home/phdcs2/Hard_Disk/Datasets/Deep-Spectral-Segmentation/data/object-segmentation/ECSSD/features/0289_resized.pth\n",
      "dict_keys(['k', 'indices', 'file', 'id', 'model_name', 'patch_size', 'shape'])\n",
      "0289_resized\n",
      "Starting Training\n",
      "epoch: 00, loss: -0.92946\n",
      "epoch: 01, loss: -0.95720\n",
      "epoch: 02, loss: -0.96334\n",
      "epoch: 03, loss: -0.96693\n",
      "epoch: 04, loss: -0.96950\n",
      "epoch: 05, loss: -0.97138\n",
      "epoch: 06, loss: -0.97286\n",
      "epoch: 07, loss: -0.97408\n",
      "epoch: 08, loss: -0.97510\n",
      "epoch: 09, loss: -0.97600\n",
      "torch.Size([1024, 64])\n"
     ]
    },
    {
     "name": "stderr",
     "output_type": "stream",
     "text": [
      " 29%|██▉       | 288/999 [5:51:11<17:17:34, 87.56s/it]"
     ]
    },
    {
     "name": "stdout",
     "output_type": "stream",
     "text": [
      "eigenvalues shape torch.Size([5]) eigenvectors shape torch.Size([5, 1024])\n",
      "288 /home/phdcs2/Hard_Disk/Datasets/Deep-Spectral-Segmentation/data/object-segmentation/ECSSD/features/0290_resized.pth\n",
      "dict_keys(['k', 'indices', 'file', 'id', 'model_name', 'patch_size', 'shape'])\n",
      "0290_resized\n"
     ]
    },
    {
     "name": "stderr",
     "output_type": "stream",
     "text": [
      "/home/phdcs2/Hard_Disk/Projects/T2I/deep-spectral-segmentation/venv/lib/python3.8/site-packages/sklearn/decomposition/_pca.py:642: RuntimeWarning: invalid value encountered in divide\n",
      "  self.explained_variance_ratio_ = self.explained_variance_ / total_var\n"
     ]
    },
    {
     "name": "stdout",
     "output_type": "stream",
     "text": [
      "Starting Training\n",
      "epoch: 00, loss: -0.94553\n",
      "epoch: 01, loss: -0.96862\n",
      "epoch: 02, loss: -0.97342\n",
      "epoch: 03, loss: -0.97618\n",
      "epoch: 04, loss: -0.97808\n",
      "epoch: 05, loss: -0.97950\n",
      "epoch: 06, loss: -0.98060\n",
      "epoch: 07, loss: -0.98152\n",
      "epoch: 08, loss: -0.98229\n",
      "epoch: 09, loss: -0.98294\n",
      "torch.Size([1024, 64])\n"
     ]
    },
    {
     "name": "stderr",
     "output_type": "stream",
     "text": [
      " 29%|██▉       | 289/999 [5:52:40<17:21:21, 88.00s/it]"
     ]
    },
    {
     "name": "stdout",
     "output_type": "stream",
     "text": [
      "eigenvalues shape torch.Size([5]) eigenvectors shape torch.Size([5, 1024])\n",
      "289 /home/phdcs2/Hard_Disk/Datasets/Deep-Spectral-Segmentation/data/object-segmentation/ECSSD/features/0291_resized.pth\n",
      "dict_keys(['k', 'indices', 'file', 'id', 'model_name', 'patch_size', 'shape'])\n",
      "0291_resized\n",
      "Starting Training\n",
      "epoch: 00, loss: -0.84460\n",
      "epoch: 01, loss: -0.90786\n",
      "epoch: 02, loss: -0.92462\n",
      "epoch: 03, loss: -0.93420\n",
      "epoch: 04, loss: -0.94041\n",
      "epoch: 05, loss: -0.94516\n",
      "epoch: 06, loss: -0.94877\n",
      "epoch: 07, loss: -0.95155\n",
      "epoch: 08, loss: -0.95391\n",
      "epoch: 09, loss: -0.95593\n",
      "torch.Size([1024, 64])\n"
     ]
    },
    {
     "name": "stderr",
     "output_type": "stream",
     "text": [
      " 29%|██▉       | 290/999 [5:53:56<16:37:13, 84.39s/it]"
     ]
    },
    {
     "name": "stdout",
     "output_type": "stream",
     "text": [
      "eigenvalues shape torch.Size([5]) eigenvectors shape torch.Size([5, 1024])\n",
      "290 /home/phdcs2/Hard_Disk/Datasets/Deep-Spectral-Segmentation/data/object-segmentation/ECSSD/features/0292_resized.pth\n",
      "dict_keys(['k', 'indices', 'file', 'id', 'model_name', 'patch_size', 'shape'])\n",
      "0292_resized\n",
      "Starting Training\n",
      "epoch: 00, loss: -0.86038\n",
      "epoch: 01, loss: -0.91832\n",
      "epoch: 02, loss: -0.93297\n",
      "epoch: 03, loss: -0.94114\n",
      "epoch: 04, loss: -0.94667\n",
      "epoch: 05, loss: -0.95079\n",
      "epoch: 06, loss: -0.95375\n",
      "epoch: 07, loss: -0.95622\n",
      "epoch: 08, loss: -0.95827\n",
      "epoch: 09, loss: -0.95996\n",
      "torch.Size([1024, 64])\n"
     ]
    },
    {
     "name": "stderr",
     "output_type": "stream",
     "text": [
      " 29%|██▉       | 291/999 [5:54:59<15:21:03, 78.06s/it]"
     ]
    },
    {
     "name": "stdout",
     "output_type": "stream",
     "text": [
      "eigenvalues shape torch.Size([5]) eigenvectors shape torch.Size([5, 1024])\n",
      "291 /home/phdcs2/Hard_Disk/Datasets/Deep-Spectral-Segmentation/data/object-segmentation/ECSSD/features/0293_resized.pth\n",
      "dict_keys(['k', 'indices', 'file', 'id', 'model_name', 'patch_size', 'shape'])\n",
      "0293_resized\n",
      "Starting Training\n",
      "epoch: 00, loss: -0.88180\n",
      "epoch: 01, loss: -0.92872\n",
      "epoch: 02, loss: -0.94030\n",
      "epoch: 03, loss: -0.94696\n",
      "epoch: 04, loss: -0.95143\n",
      "epoch: 05, loss: -0.95459\n",
      "epoch: 06, loss: -0.95718\n",
      "epoch: 07, loss: -0.95939\n",
      "epoch: 08, loss: -0.96100\n",
      "epoch: 09, loss: -0.96240\n",
      "torch.Size([1024, 64])\n"
     ]
    },
    {
     "name": "stderr",
     "output_type": "stream",
     "text": [
      " 29%|██▉       | 292/999 [5:56:09<14:51:09, 75.63s/it]"
     ]
    },
    {
     "name": "stdout",
     "output_type": "stream",
     "text": [
      "eigenvalues shape torch.Size([5]) eigenvectors shape torch.Size([5, 1024])\n",
      "292 /home/phdcs2/Hard_Disk/Datasets/Deep-Spectral-Segmentation/data/object-segmentation/ECSSD/features/0294_resized.pth\n",
      "dict_keys(['k', 'indices', 'file', 'id', 'model_name', 'patch_size', 'shape'])\n",
      "0294_resized\n"
     ]
    },
    {
     "name": "stderr",
     "output_type": "stream",
     "text": [
      "/home/phdcs2/Hard_Disk/Projects/T2I/deep-spectral-segmentation/venv/lib/python3.8/site-packages/sklearn/decomposition/_pca.py:642: RuntimeWarning: invalid value encountered in divide\n",
      "  self.explained_variance_ratio_ = self.explained_variance_ / total_var\n"
     ]
    },
    {
     "name": "stdout",
     "output_type": "stream",
     "text": [
      "Starting Training\n",
      "epoch: 00, loss: -0.94488\n",
      "epoch: 01, loss: -0.96734\n",
      "epoch: 02, loss: -0.97244\n",
      "epoch: 03, loss: -0.97543\n",
      "epoch: 04, loss: -0.97746\n",
      "epoch: 05, loss: -0.97899\n",
      "epoch: 06, loss: -0.98019\n",
      "epoch: 07, loss: -0.98116\n",
      "epoch: 08, loss: -0.98198\n",
      "epoch: 09, loss: -0.98270\n",
      "torch.Size([1024, 64])\n"
     ]
    },
    {
     "name": "stderr",
     "output_type": "stream",
     "text": [
      " 29%|██▉       | 293/999 [5:57:19<14:30:07, 73.95s/it]"
     ]
    },
    {
     "name": "stdout",
     "output_type": "stream",
     "text": [
      "eigenvalues shape torch.Size([5]) eigenvectors shape torch.Size([5, 1024])\n",
      "293 /home/phdcs2/Hard_Disk/Datasets/Deep-Spectral-Segmentation/data/object-segmentation/ECSSD/features/0295_resized.pth\n",
      "dict_keys(['k', 'indices', 'file', 'id', 'model_name', 'patch_size', 'shape'])\n",
      "0295_resized\n"
     ]
    },
    {
     "name": "stderr",
     "output_type": "stream",
     "text": [
      "/home/phdcs2/Hard_Disk/Projects/T2I/deep-spectral-segmentation/venv/lib/python3.8/site-packages/sklearn/decomposition/_pca.py:642: RuntimeWarning: invalid value encountered in divide\n",
      "  self.explained_variance_ratio_ = self.explained_variance_ / total_var\n"
     ]
    },
    {
     "name": "stdout",
     "output_type": "stream",
     "text": [
      "Starting Training\n",
      "epoch: 00, loss: -0.92544\n",
      "epoch: 01, loss: -0.95319\n",
      "epoch: 02, loss: -0.96007\n",
      "epoch: 03, loss: -0.96416\n",
      "epoch: 04, loss: -0.96696\n",
      "epoch: 05, loss: -0.96907\n",
      "epoch: 06, loss: -0.97074\n",
      "epoch: 07, loss: -0.97212\n",
      "epoch: 08, loss: -0.97324\n",
      "epoch: 09, loss: -0.97426\n",
      "torch.Size([1024, 64])\n"
     ]
    },
    {
     "name": "stderr",
     "output_type": "stream",
     "text": [
      " 29%|██▉       | 294/999 [5:58:27<14:06:03, 72.01s/it]"
     ]
    },
    {
     "name": "stdout",
     "output_type": "stream",
     "text": [
      "eigenvalues shape torch.Size([5]) eigenvectors shape torch.Size([5, 1024])\n",
      "294 /home/phdcs2/Hard_Disk/Datasets/Deep-Spectral-Segmentation/data/object-segmentation/ECSSD/features/0296_resized.pth\n",
      "dict_keys(['k', 'indices', 'file', 'id', 'model_name', 'patch_size', 'shape'])\n",
      "0296_resized\n"
     ]
    },
    {
     "name": "stderr",
     "output_type": "stream",
     "text": [
      "/home/phdcs2/Hard_Disk/Projects/T2I/deep-spectral-segmentation/venv/lib/python3.8/site-packages/sklearn/decomposition/_pca.py:642: RuntimeWarning: invalid value encountered in divide\n",
      "  self.explained_variance_ratio_ = self.explained_variance_ / total_var\n"
     ]
    },
    {
     "name": "stdout",
     "output_type": "stream",
     "text": [
      "Starting Training\n",
      "epoch: 00, loss: -0.92094\n",
      "epoch: 01, loss: -0.95501\n",
      "epoch: 02, loss: -0.96227\n",
      "epoch: 03, loss: -0.96651\n",
      "epoch: 04, loss: -0.96937\n",
      "epoch: 05, loss: -0.97148\n",
      "epoch: 06, loss: -0.97315\n",
      "epoch: 07, loss: -0.97450\n",
      "epoch: 08, loss: -0.97565\n",
      "epoch: 09, loss: -0.97659\n",
      "torch.Size([1024, 64])\n"
     ]
    },
    {
     "name": "stderr",
     "output_type": "stream",
     "text": [
      " 30%|██▉       | 295/999 [5:59:34<13:48:05, 70.58s/it]"
     ]
    },
    {
     "name": "stdout",
     "output_type": "stream",
     "text": [
      "eigenvalues shape torch.Size([5]) eigenvectors shape torch.Size([5, 1024])\n",
      "295 /home/phdcs2/Hard_Disk/Datasets/Deep-Spectral-Segmentation/data/object-segmentation/ECSSD/features/0297_resized.pth\n",
      "dict_keys(['k', 'indices', 'file', 'id', 'model_name', 'patch_size', 'shape'])\n",
      "0297_resized\n"
     ]
    },
    {
     "name": "stderr",
     "output_type": "stream",
     "text": [
      "/home/phdcs2/Hard_Disk/Projects/T2I/deep-spectral-segmentation/venv/lib/python3.8/site-packages/sklearn/decomposition/_pca.py:642: RuntimeWarning: invalid value encountered in divide\n",
      "  self.explained_variance_ratio_ = self.explained_variance_ / total_var\n"
     ]
    },
    {
     "name": "stdout",
     "output_type": "stream",
     "text": [
      "Starting Training\n"
     ]
    }
   ],
   "source": [
    "pca_comp=64\n",
    "pca = PCA(n_components=pca_comp)\n",
    "utils.make_output_dir(output_dir)\n",
    "inputs = list(enumerate(sorted(Path(features_dir).iterdir())))\n",
    "for inp in tqdm(inputs):\n",
    "    index, features_file = inp\n",
    "    print(index, features_file)\n",
    "     # Load\n",
    "    data_dict = torch.load(features_file, map_location='cpu')\n",
    "    print(data_dict.keys())   #['k', 'indices', 'file', 'id', 'model_name', 'patch_size', 'shape']\n",
    "    # print(\"shape=\", data_dict['shape'], \"k shape\", data_dict['k'].shape, \"patch_size=\", data_dict['patch_size'])\n",
    "    image_id = data_dict['file'][:-4]\n",
    "    print(image_id)\n",
    "    # Load\n",
    "    output_file = str(Path(output_dir) / f'{image_id}.pth')\n",
    "    if Path(output_file).is_file():\n",
    "        print(f'Skipping existing file {str(output_file)}')\n",
    "        # break\n",
    "        # return  # skip because already generated\n",
    "\n",
    "    # Load affinity matrix\n",
    "    feats = data_dict[which_features].squeeze().cuda()\n",
    "    # print(\"Without normalizing, Features Shape is\",feats.shape)\n",
    "    if normalize:\n",
    "        feats = F.normalize(feats, p=2, dim=-1)\n",
    "    # print(\"After normalization, Features Shape\",feats.shape)\n",
    "    # print(\"which_matrix=\", which_matrix)\n",
    "    # Eigenvectors of affinity matrix\n",
    "    if which_matrix == 'affinity_torch':\n",
    "        W = feats @ feats.T\n",
    "        # W_feat=contrastive_affinity(feats, feats.T)\n",
    "        # print(\"W shape=\", W.shape)\n",
    "        if threshold_at_zero:\n",
    "            W = (W * (W > 0))\n",
    "            # print(\"W shape=\", W.shape)\n",
    "        eigenvalues, eigenvectors = torch.eig(W, eigenvectors=True)\n",
    "        eigenvalues = eigenvalues.cpu()\n",
    "        eigenvectors = eigenvectors.cpu()\n",
    "        print(\"which matrix=\",which_matrix, \"eigenvalues shape\", eigenvalues.shape, \"eigenvectors shape\", eigenvectors.shape)\n",
    "\n",
    "\n",
    "    # Eigenvectors of affinity matrix with scipy\n",
    "    elif which_matrix == 'affinity_svd':\n",
    "        USV = torch.linalg.svd(feats, full_matrices=False)\n",
    "        eigenvectors = USV[0][:, :K].T.to('cpu', non_blocking=True)\n",
    "        eigenvalues = USV[1][:K].to('cpu', non_blocking=True)\n",
    "        print(\"which matrix=\",which_matrix,\"eigenvalues shape\", eigenvalues.shape, \"eigenvectors shape\", eigenvectors.shape)\n",
    "\n",
    "    # Eigenvectors of affinity matrix with scipy\n",
    "    elif which_matrix == 'affinity':\n",
    "        # print(\"Without normalizing, Features Shape is\",feats.shape)\n",
    "        W = (feats @ feats.T)\n",
    "        # W_feat=contrastive_affinity(feats, feats.T)\n",
    "        # print(\"W shape=\", W.shape)\n",
    "        if threshold_at_zero:\n",
    "            W = (W * (W > 0))\n",
    "        W = W.cpu().numpy()\n",
    "        # print(\"W shape=\", W.shape)\n",
    "        eigenvalues, eigenvectors = eigsh(W, which='LM', k=K)\n",
    "        eigenvectors = torch.flip(torch.from_numpy(eigenvectors), dims=(-1,)).T\n",
    "        print(\"which matrix=\",which_matrix, \"eigenvalues shape\", eigenvalues.shape, \"eigenvectors shape\", eigenvectors.shape)\n",
    "\n",
    "    # Eigenvectors of matting laplacian matrix\n",
    "    elif which_matrix in ['matting_laplacian', 'laplacian']:\n",
    "\n",
    "        # Get sizes\n",
    "        B, C, H, W, P, H_patch, W_patch, H_pad, W_pad = utils.get_image_sizes(data_dict)\n",
    "        if image_downsample_factor is None:\n",
    "            image_downsample_factor = P\n",
    "        H_pad_lr, W_pad_lr = H_pad // image_downsample_factor, W_pad // image_downsample_factor\n",
    "\n",
    "        # Upscale features to match the resolution\n",
    "        if (H_patch, W_patch) != (H_pad_lr, W_pad_lr):\n",
    "            feats = F.interpolate(\n",
    "                feats.T.reshape(1, -1, H_patch, W_patch),\n",
    "                size=(H_pad_lr, W_pad_lr), mode='bilinear', align_corners=False\n",
    "            ).reshape(-1, H_pad_lr * W_pad_lr).T\n",
    "\n",
    "        ### Feature affinities\n",
    "        # print(\"Without normalizing, Features Shape is\",feats.shape)\n",
    "\n",
    "        W_feat_ds = (feats @ feats.T)\n",
    "        # print(\"shape of w_feat_ds\", W_feat_ds.shape)\n",
    "        max_wfeatds=torch.max(W_feat_ds).item()\n",
    "        alpha=3\n",
    "        # print(\"Before Subtraction\")\n",
    "        count_positive = torch.count_nonzero(torch.greater_equal(W_feat_ds, 0.))\n",
    "        # print(\"positive values=\", count_positive)\n",
    "        W_feat_ds_sum = torch.sum(W_feat_ds)\n",
    "        # print(\"w_feat_ds_sum=\", W_feat_ds_sum)\n",
    "        W_feat_ds_mean = torch.mean(W_feat_ds)\n",
    "        # print(\"Mean of W_feat\", W_feat_ds_mean)\n",
    "        W_feat_ds_median = torch.median(W_feat_ds)\n",
    "        # print(\"Median of W_feat\", W_feat_ds_median)\n",
    "        W_feat_ds_std = torch.std(W_feat_ds)\n",
    "        # print(\"Standard Deviation of W_feat\", W_feat_ds_std)\n",
    "        W_feat_ds_max = torch.max(W_feat_ds)\n",
    "        # print(\"Maximum of W_feat\", W_feat_ds_max)\n",
    "        W_feat_ds_min = torch.min(W_feat_ds)\n",
    "        # print(\"Minimum of W_feat\", W_feat_ds_min)\n",
    "        # print(\"Factor value\", (max_wfeatds / alpha))\n",
    "\n",
    "        W_feat_ds = W_feat_ds - (max_wfeatds / alpha)\n",
    "\n",
    "        # print(\"After Subtraction\")\n",
    "        count_positive = torch.count_nonzero(torch.greater_equal(W_feat_ds, 0.))\n",
    "        # print(\"positive values=\", count_positive)\n",
    "        W_feat_ds_sum = torch.sum(W_feat_ds)\n",
    "        # print(\"w_feat_ds_sum=\", W_feat_ds_sum)\n",
    "        W_feat_ds_mean = torch.mean(W_feat_ds)\n",
    "        # print(\"Mean of W_feat\", W_feat_ds_mean)\n",
    "        W_feat_ds_median = torch.median(W_feat_ds)\n",
    "        # print(\"Median of W_feat\", W_feat_ds_median)\n",
    "        W_feat_ds_std = torch.std(W_feat_ds)\n",
    "        # print(\"Standard Deviation of W_feat\", W_feat_ds_std)\n",
    "        W_feat_ds_max = torch.max(W_feat_ds)\n",
    "        # print(\"Maximum of W_feat\", W_feat_ds_max)\n",
    "        W_feat_ds_min = torch.min(W_feat_ds)\n",
    "        # print(\"Minimum of W_feat\", W_feat_ds_min)\n",
    "        proj_layer=nn.Linear(pca_comp,pca_comp).cuda()\n",
    "        elu = nn.ELU()\n",
    "        proj_model = nn.Sequential(proj_layer, elu ).cuda()\n",
    "        pred_layer=nn.Linear(pca_comp,pca_comp).cuda()\n",
    "        x0=feats\n",
    "\n",
    "        x0_arr=x0.cpu()\n",
    "        scale = np.random.uniform(0.8, 1.2)  # Random scaling factor between 0.8 and 1.2\n",
    "        translation = np.random.uniform(-10, 10, size=2)  # Random translation vector between -10 and 10 in both directions\n",
    "        rotation = np.random.uniform(-15, 15)  # Random rotation angle between -15 and 15 degrees\n",
    "        shear = np.random.uniform(-0.2, 0.2, size=2)  # Random shear factor between -0.2 and 0.2 in both directions\n",
    "\n",
    "        # Define the affine matrix\n",
    "        affine_matrix = np.array([[scale * np.cos(rotation), -shear[0] * scale * np.sin(rotation), translation[0]],\n",
    "                                  [shear[1] * scale * np.sin(rotation), scale * np.cos(rotation), translation[1]],\n",
    "                                  [0, 0, 1]])\n",
    "        # print(x0_arr.shape)\n",
    "        x1_arr=affine_transform(x0_arr, affine_matrix)\n",
    "\n",
    "        z0_arr= pca.fit_transform(x0_arr)\n",
    "        z1_arr= pca.fit_transform(x1_arr)\n",
    "        # Define the affine transformation parameters\n",
    "\n",
    "        # z1_arr=affine_transform(z0_arr, affine_matrix)\n",
    "#         z1_arr=pca.fit_transform(z1_arr)\n",
    "        z0 = torch.from_numpy(z0_arr).float()\n",
    "        z1 = torch.from_numpy(z1_arr).float()\n",
    "\n",
    "        # feat_list.append(feats)\n",
    "        feat_dataset_z0 = Feature_Dataset(z0)\n",
    "        if feats.shape[0]%2==0:\n",
    "            features_dataloader_z0 = DataLoader(feat_dataset_z0, batch_size=batch_size, shuffle=True)\n",
    "        else:\n",
    "            features_dataloader_z0 = DataLoader(feat_dataset_z0, batch_size=batch_size, shuffle=True, drop_last=True)\n",
    "\n",
    "        feat_dataset_z1 = Feature_Dataset(z1)\n",
    "        if feats.shape[0]%2==0:\n",
    "            features_dataloader_z1 = DataLoader(feat_dataset_z1, batch_size=batch_size, shuffle=True)\n",
    "        else:\n",
    "            features_dataloader_z1 = DataLoader(feat_dataset_z1, batch_size=batch_size, shuffle=True, drop_last=True)\n",
    "        device = \"cuda\" if torch.cuda.is_available() else \"cpu\"\n",
    "    \n",
    "        criterion = NegativeCosineSimilarity()\n",
    "        proj_optimizer = torch.optim.SGD(proj_layer.parameters(), lr=0.06)\n",
    "        pred_optimizer = torch.optim.SGD(pred_layer.parameters(), lr=0.06)\n",
    "        print(\"Starting Training\")\n",
    "        for epoch in range(epochs):\n",
    "            total_loss = 0\n",
    "            for z0_new,z1_new in zip(features_dataloader_z0,features_dataloader_z1):\n",
    "                z0_new = z0_new.to(device)\n",
    "                z1_new = z1_new.to(device)\n",
    "                # z0_new=proj_layer(z0_new)\n",
    "                z0_new=proj_model(z0_new)\n",
    "                # z1_new=proj_layer(z1_new)\n",
    "                # z1_new=proj_layer(z1_new)\n",
    "                z1_new=proj_model(z1_new)\n",
    "    #             print(\"z0_new.shape\", z0_new.shape)\n",
    "    #             print(\"z1_new.shape\", z1_new.shape)\n",
    "                p0=pred_layer(z0_new)\n",
    "                p1=pred_layer(z1_new)\n",
    "    #             print(\"p0.shape\", p0.shape)\n",
    "    #             print(\"p1.shape\", p1.shape)\n",
    "\n",
    "                z0_new=z0_new.detach()\n",
    "                z1_new=z1_new.detach()\n",
    "                loss = 0.5 * (criterion(z0_new, p1) + criterion(z1_new, p0))\n",
    "                total_loss += loss.detach()\n",
    "                loss.backward()\n",
    "                proj_optimizer.step()\n",
    "                pred_optimizer.step()\n",
    "                proj_optimizer.zero_grad()\n",
    "                pred_optimizer.zero_grad()\n",
    "            avg_loss = total_loss / len(features_dataloader_z0)\n",
    "            print(f\"epoch: {epoch:>02}, loss: {avg_loss:.5f}\")\n",
    "        # z0_projected=proj_layer(z0.to(device))\n",
    "        projected_feature=pred_layer(z0.to(device))\n",
    "        print(projected_feature.shape)\n",
    "        W_feat_siam=torch.matmul(projected_feature, projected_feature.t())\n",
    "        # max_wfeatsiam=torch.max(W_feat_siam).item()\n",
    "        # alpha=3\n",
    "        # W_feat_siam = W_feat_siam - (max_wfeatsiam / alpha)\n",
    "        # W_feat_siam=torch.matmul(projected_feature[0], projected_feature[0].t())\n",
    "        W_feat=W_feat_ds + 0.1*W_feat_siam\n",
    "#         W_feat=normalize_affinity_matrix(W_feat_unnorm, axis=1)\n",
    "        # print(\"W_feat.shape=\", W_feat.shape)\n",
    "        # print(\"W_feat.shape=\", W_feat.shape)\n",
    "        # W_feat=contrastive_affinity(feats, feats.T)\n",
    "        if threshold_at_zero:\n",
    "            W_feat = (W_feat * (W_feat > 0))\n",
    "        W_feat = W_feat / W_feat.max()  # NOTE: If features are normalized, this naturally does nothing\n",
    "        # W_feat = W_feat.cpu().numpy()\n",
    "        W_feat = W_feat.detach().cpu().numpy()\n",
    "        # print(\"W_feat shape=\",W_feat.shape)\n",
    "\n",
    "        ### Color affinities\n",
    "        # If we are fusing with color affinites, then load the image and compute\n",
    "        if image_color_lambda > 0:\n",
    "\n",
    "            # Load image\n",
    "            image_file = str(Path(images_root) / f'{image_id}.jpg')\n",
    "            image_lr = Image.open(image_file).resize((W_pad_lr, H_pad_lr), Image.BILINEAR)\n",
    "            image_lr = np.array(image_lr) / 255.\n",
    "\n",
    "            # Color affinities (of type scipy.sparse.csr_matrix)\n",
    "            if which_color_matrix == 'knn':\n",
    "                W_lr = utils.knn_affinity(image_lr / 255)\n",
    "            elif which_color_matrix == 'rw':\n",
    "                W_lr = utils.rw_affinity(image_lr / 255)\n",
    "\n",
    "            # Convert to dense numpy array\n",
    "            W_color = np.array(W_lr.todense().astype(np.float32))\n",
    "            # print(\"W_color shape\", W_color.shape)\n",
    "\n",
    "        else:\n",
    "\n",
    "            # No color affinity\n",
    "            W_color = 0\n",
    "\n",
    "        # Combine\n",
    "        W_comb = W_feat + W_color * image_color_lambda  # combination\n",
    "        D_comb = np.array(utils.get_diagonal(W_comb).todense())  # is dense or sparse faster? not sure, should check\n",
    "        # print(\"W_comb shape= \", W_comb.shape, \"D_comb shape\",  D_comb.shape)\n",
    "        if lapnorm:\n",
    "            try:\n",
    "                eigenvalues, eigenvectors = eigsh(D_comb - W_comb, k=K, sigma=0, which='LM', M=D_comb)\n",
    "            except:\n",
    "                eigenvalues, eigenvectors = eigsh(D_comb - W_comb, k=K, which='SM', M=D_comb)\n",
    "        else:\n",
    "            try:\n",
    "                eigenvalues, eigenvectors = eigsh(D_comb - W_comb, k=K, sigma=0, which='LM')\n",
    "            except:\n",
    "                eigenvalues, eigenvectors = eigsh(D_comb - W_comb, k=K, which='SM')\n",
    "        eigenvalues, eigenvectors = torch.from_numpy(eigenvalues), torch.from_numpy(eigenvectors.T).float()\n",
    "    print(\"eigenvalues shape\", eigenvalues.shape, \"eigenvectors shape\", eigenvectors.shape)\n",
    "    # Sign ambiguity\n",
    "    for k in range(eigenvectors.shape[0]):\n",
    "        if 0.5 < torch.mean((eigenvectors[k] > 0).float()).item() < 1.0:  # reverse segment\n",
    "            eigenvectors[k] = 0 - eigenvectors[k]\n",
    "\n",
    "    # Save dict\n",
    "    output_dict = {'eigenvalues': eigenvalues, 'eigenvectors': eigenvectors}\n",
    "    torch.save(output_dict, output_file)"
   ]
  }
 ],
 "metadata": {
  "kernelspec": {
   "display_name": "Python 3 (ipykernel)",
   "language": "python",
   "name": "python3"
  },
  "language_info": {
   "codemirror_mode": {
    "name": "ipython",
    "version": 3
   },
   "file_extension": ".py",
   "mimetype": "text/x-python",
   "name": "python",
   "nbconvert_exporter": "python",
   "pygments_lexer": "ipython3",
   "version": "3.8.10"
  }
 },
 "nbformat": 4,
 "nbformat_minor": 1
}