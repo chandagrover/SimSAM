{
 "cells": [
  {
   "cell_type": "code",
   "execution_count": 1,
   "metadata": {
    "pycharm": {
     "name": "#%%\n"
    }
   },
   "outputs": [],
   "source": [
    "# from functools import partial\n",
    "from pathlib import Path\n",
    "# from typing import Optional, Tuple\n",
    "# import cv2\n",
    "# import fire\n",
    "import numpy as np\n",
    "import torch\n",
    "import torch.nn.functional as F\n",
    "from accelerate import Accelerator\n",
    "from PIL import Image\n",
    "from scipy.sparse.linalg import eigsh\n",
    "# from sklearn.cluster import KMeans, MiniBatchKMeans\n",
    "# from sklearn.decomposition import PCA\n",
    "# from torchvision.utils import draw_bounding_boxes\n",
    "from tqdm import tqdm\n",
    "import extract_utils as utils\n",
    "from torch.utils.data import Dataset, DataLoader\n",
    "from lightly.loss import NegativeCosineSimilarity\n",
    "from lightly.models.modules import SimSiamPredictionHead, SimSiamProjectionHead\n",
    "from torch import nn\n",
    "import torchvision"
   ]
  },
  {
   "cell_type": "markdown",
   "metadata": {
    "pycharm": {
     "name": "#%% md\n"
    }
   },
   "source": [
    "## Extract Features"
   ]
  },
  {
   "cell_type": "code",
   "execution_count": 2,
   "metadata": {
    "pycharm": {
     "name": "#%%\n"
    }
   },
   "outputs": [],
   "source": [
    "# images_list=\"/home/phdcs2/Hard_Disk/Datasets/Deep-Spectral-Segmentation/data/object-segmentation/ECSSD/lists/images.txt\"\n",
    "# images_root=\"/home/phdcs2/Hard_Disk/Datasets/Deep-Spectral-Segmentation/data/object-segmentation/ECSSD/images\"\n",
    "# model_name=\"dino_vits16\"\n",
    "# batch_size=1\n",
    "# output_dir=\"//home/phdcs2/Hard_Disk/Datasets/Deep-Spectral-Segmentation/data/object-segmentation/ECSSD/features/dino_vits16\"\n",
    "# which_block=-1\n",
    "# # Output\n",
    "# utils.make_output_dir(output_dir)\n",
    "# # Models\n",
    "# model_name = model_name.lower()\n",
    "# model, val_transform, patch_size, num_heads = utils.get_model(model_name)    #patch size= 16 number of heads= 6\n",
    "# # print(\"patch size=\", patch_size, \"number of heads=\", num_heads)\n",
    "# # Add hook\n",
    "# if 'dino' in model_name or 'mocov3' in model_name:\n",
    "#     feat_out = {}\n",
    "#     def hook_fn_forward_qkv(module, input, output):\n",
    "#         # print(\"feat_out.keys()\", feat_out.keys())\n",
    "#         feat_out[\"qkv\"] = output\n",
    "#     model._modules[\"blocks\"][which_block]._modules[\"attn\"]._modules[\"qkv\"].register_forward_hook(hook_fn_forward_qkv)\n",
    "# else:\n",
    "#     raise ValueError(model_name)\n",
    "# # Dataset\n",
    "# filenames = Path(images_list).read_text().splitlines()\n",
    "# dataset = utils.ImagesDataset(filenames=filenames, images_root=images_root, transform=val_transform)\n",
    "# dataloader = torch.utils.data.DataLoader(dataset, batch_size=batch_size, num_workers=8)\n",
    "# # print(f'Dataset size: {len(dataset)=}')\n",
    "# # print(f'Dataloader size: {len(dataloader)=}')\n",
    "# # Prepare\n",
    "# # accelerator = Accelerator(fp16=True, cpu=False)\n",
    "# accelerator = Accelerator(cpu=False)\n",
    "# # model, dataloader = accelerator.prepare(model, dataloader)\n",
    "# model = model.to(accelerator.device)\n",
    "# model.num_features\n",
    "# # print(\"model.num_features=\", model.num_features)\n",
    "# # model.get_submodule\n",
    "# # Process\n",
    "# pbar = list(tqdm(dataloader, desc='Processing'))\n",
    "# # Process\n",
    "# # pbar = list(tqdm(dataloader, desc='Processing'))\n",
    "# # print(\"feat_out.keys()=\", feat_out.keys())\n",
    "# for i, (images, files, indices) in enumerate(pbar):\n",
    "#     output_dict = {}\n",
    "#     # print(\"images.shape=\", images.shape, \"files =\", files, \"indices\", indices)\n",
    "#\n",
    "#     # Check if file already exists\n",
    "#     id = Path(files[0]).stem\n",
    "#     # print(\"id=\", id)\n",
    "#     output_file = Path(output_dir) / f'{id}.pth'\n",
    "#     # if output_file.is_file():\n",
    "#     #     pbar.write(f'Skipping existing file {str(output_file)}')\n",
    "#     #     continue\n",
    "#\n",
    "#     # Reshape image\n",
    "#     P = patch_size\n",
    "#     B, C, H, W = images.shape\n",
    "#     H_patch, W_patch = H // P, W // P\n",
    "#     H_pad, W_pad = H_patch * P, W_patch * P\n",
    "#     T = H_patch * W_patch + 1  # number of tokens, add 1 for [CLS]\n",
    "#     # images = F.interpolate(images, size=(H_pad, W_pad), mode='bilinear')  # resize image\n",
    "#     images = images[:, :, :H_pad, :W_pad]\n",
    "#     images = images.to(accelerator.device)\n",
    "#     # print(\"images.shape after padding=\", images.shape)\n",
    "#\n",
    "#     # Forward and collect features into output dict\n",
    "#     if 'dino' in model_name or 'mocov3' in model_name:\n",
    "#         # accelerator.unwrap_model(model).get_intermediate_layers(images)[0].squeeze(0)\n",
    "#         model.get_intermediate_layers(images)[0].squeeze(0)\n",
    "#         # print(model.get_intermediate_layers(images)[0])\n",
    "#         # output_dict['out'] = out\n",
    "#         # print(\"feat_out.keys()=\", feat_out.keys())\n",
    "#         output_qkv = feat_out[\"qkv\"].reshape(B, T, 3, num_heads, -1 // num_heads).permute(2, 0, 3, 1, 4)\n",
    "#         # print(\"type(output_qkv)\", type(output_qkv))\n",
    "#         # print(\"output_qkv.shape\", output_qkv.shape)    #3, 1, 6, 931, 64]\n",
    "#         # print(\"output_qkv[0].shape\", output_qkv[0].shape)\n",
    "#         # print(\"output_qkv[1].shape\", output_qkv[1].shape)\n",
    "#         # print(\"output_qkv[2].shape\", output_qkv[2].shape)\n",
    "#         # output_dict['q'] = output_qkv[0].transpose(1, 2).reshape(B, T, -1)[:, 1:, :]\n",
    "#         output_dict['k'] = output_qkv[1].transpose(1, 2).reshape(B, T, -1)[:, 1:, :]\n",
    "#         # print(\"output_dict[k].shape=\", output_dict['k'].shape)\n",
    "#         # output_dict['v'] = output_qkv[2].transpose(1, 2).reshape(B, T, -1)[:, 1:, :]\n",
    "#     else:\n",
    "#         raise ValueError(model_name)\n",
    "#\n",
    "#     # print(\"output_dict.items=\", output_dict.items())\n",
    "#     # Metadata\n",
    "#     output_dict['indices'] = indices[0]\n",
    "#     output_dict['file'] = files[0]\n",
    "#     output_dict['id'] = id\n",
    "#     output_dict['model_name'] = model_name\n",
    "#     output_dict['patch_size'] = patch_size\n",
    "#     output_dict['shape'] = (B, C, H, W)\n",
    "#     output_dict = {k: (v.detach().cpu() if torch.is_tensor(v) else v) for k, v in output_dict.items()}\n",
    "#     # for k, v in output_dict.items():\n",
    "#     #     print(\"k=\", k)\n",
    "#     #     if torch.is_tensor(v):\n",
    "#     #         print(\"v.shape\", v.shape)\n",
    "#     #     else:\n",
    "#     #         print(\"v=\", v)\n",
    "#     # print(\"output_dict.keys()\", output_dict.keys())\n",
    "#     # print(\"output_dict['k'].shape=\", output_dict['k'].shape,\"output_dict['indices'] =\", indices[0],\"output_dict['file'] =\", files[0],\"output_dict['id']=\" , id, \"output_dict['model_name'] =\", model_name,\" output_dict['shape'] =(\", B, C, H, W,\")output_dict['patch_size'] =\",  patch_size )\n",
    "#     # Save\n",
    "#     accelerator.save(output_dict, str(output_file))\n",
    "#     accelerator.wait_for_everyone()\n",
    "# print(f'Saved features to {output_dir}')"
   ]
  },
  {
   "cell_type": "code",
   "execution_count": 3,
   "metadata": {
    "pycharm": {
     "name": "#%%\n"
    }
   },
   "outputs": [],
   "source": [
    "# output_dict = {k: (v.detach().cpu() if torch.is_tensor(v) else v) for k, v in output_dict.items()}\n",
    "# print(output_dict.keys())\n",
    "# for k, v in output_dict.items():\n",
    "#     print(\"k=\", k)\n",
    "#     print(\"v.shape=\", v.shape)\n"
   ]
  },
  {
   "cell_type": "markdown",
   "metadata": {
    "pycharm": {
     "name": "#%% md\n"
    }
   },
   "source": [
    "## Extract Eigen Vectors"
   ]
  },
  {
   "cell_type": "code",
   "execution_count": 4,
   "metadata": {
    "pycharm": {
     "name": "#%%\n"
    }
   },
   "outputs": [],
   "source": [
    "images_root=\"/home/phdcs2/Hard_Disk/Datasets/Deep-Spectral-Segmentation/data/object-segmentation/ECSSD/images\"\n",
    "features_dir=\"/home/phdcs2/Hard_Disk/Datasets/Deep-Spectral-Segmentation/data/object-segmentation/ECSSD/features/dino_vits16\"\n",
    "output_dir=\"//home/phdcs2/Hard_Disk/Datasets/Deep-Spectral-Segmentation/data/object-segmentation/ECSSD/eigs_onlysimsiam4_10\"\n",
    "which_matrix= 'laplacian'\n",
    "which_color_matrix= 'knn'\n",
    "which_features= 'k'\n",
    "normalize=True\n",
    "threshold_at_zero=True\n",
    "lapnorm= True\n",
    "K= 5\n",
    "image_downsample_factor = None\n",
    "image_color_lambda = 0.0\n",
    "multiprocessing = 0"
   ]
  },
  {
   "cell_type": "markdown",
   "source": [
    "## Incorporating SimSiam"
   ],
   "metadata": {
    "collapsed": false,
    "pycharm": {
     "name": "#%% md\n"
    }
   }
  },
  {
   "cell_type": "code",
   "execution_count": 5,
   "outputs": [],
   "source": [
    "# Define a custom dataset class\n",
    "class Feature_Dataset(Dataset):\n",
    "    def __init__(self, features):\n",
    "        self.features = features\n",
    "\n",
    "    def __getitem__(self, index):\n",
    "        return self.features[index]\n",
    "\n",
    "    def __len__(self):\n",
    "        return len(self.features)"
   ],
   "metadata": {
    "collapsed": false,
    "pycharm": {
     "name": "#%%\n"
    }
   }
  },
  {
   "cell_type": "code",
   "execution_count": 6,
   "outputs": [],
   "source": [
    "class SimSiam(nn.Module):\n",
    "    def __init__(self):\n",
    "        super().__init__()\n",
    "        self.projection_head = SimSiamProjectionHead(feats.shape[1], 128,feats.shape[1])\n",
    "        self.prediction_head = SimSiamPredictionHead(feats.shape[1], 128, feats.shape[1])\n",
    "\n",
    "    def forward(self, x):\n",
    "        z = self.projection_head(x)\n",
    "        p = self.prediction_head(z)\n",
    "        z = z.detach()\n",
    "        return z, p"
   ],
   "metadata": {
    "collapsed": false,
    "pycharm": {
     "name": "#%%\n"
    }
   }
  },
  {
   "cell_type": "code",
   "execution_count": null,
   "metadata": {
    "pycharm": {
     "name": "#%%\n",
     "is_executing": true
    }
   },
   "outputs": [
    {
     "name": "stderr",
     "output_type": "stream",
     "text": [
      "  0%|          | 0/1000 [00:00<?, ?it/s]"
     ]
    },
    {
     "name": "stdout",
     "output_type": "stream",
     "text": [
      "0 /home/phdcs2/Hard_Disk/Datasets/Deep-Spectral-Segmentation/data/object-segmentation/ECSSD/features/dino_vits16/0001.pth\n",
      "dict_keys(['k', 'indices', 'file', 'id', 'model_name', 'patch_size', 'shape'])\n",
      "0001\n",
      "Starting Training\n",
      "epoch: 00, loss: -0.30593\n",
      "epoch: 01, loss: -0.68952\n",
      "epoch: 02, loss: -0.76060\n",
      "epoch: 03, loss: -0.75889\n",
      "epoch: 04, loss: -0.79488\n",
      "epoch: 05, loss: -0.81154\n",
      "epoch: 06, loss: -0.79368\n",
      "epoch: 07, loss: -0.78710\n",
      "epoch: 08, loss: -0.79354\n",
      "epoch: 09, loss: -0.79763\n"
     ]
    },
    {
     "name": "stderr",
     "output_type": "stream",
     "text": [
      "  0%|          | 1/1000 [00:21<6:01:40, 21.72s/it]"
     ]
    },
    {
     "name": "stdout",
     "output_type": "stream",
     "text": [
      "eigenvalues shape torch.Size([5]) eigenvectors shape torch.Size([5, 400])\n",
      "1 /home/phdcs2/Hard_Disk/Datasets/Deep-Spectral-Segmentation/data/object-segmentation/ECSSD/features/dino_vits16/0002.pth\n",
      "dict_keys(['k', 'indices', 'file', 'id', 'model_name', 'patch_size', 'shape'])\n",
      "0002\n",
      "Starting Training\n",
      "epoch: 00, loss: -0.44589\n",
      "epoch: 01, loss: -0.72725\n",
      "epoch: 02, loss: -0.72758\n",
      "epoch: 03, loss: -0.75118\n",
      "epoch: 04, loss: -0.80909\n",
      "epoch: 05, loss: -0.82830\n",
      "epoch: 06, loss: -0.82996\n",
      "epoch: 07, loss: -0.82368\n",
      "epoch: 08, loss: -0.82042\n",
      "epoch: 09, loss: -0.82732\n"
     ]
    },
    {
     "name": "stderr",
     "output_type": "stream",
     "text": [
      "  0%|          | 2/1000 [00:41<5:45:32, 20.77s/it]"
     ]
    },
    {
     "name": "stdout",
     "output_type": "stream",
     "text": [
      "eigenvalues shape torch.Size([5]) eigenvectors shape torch.Size([5, 400])\n",
      "2 /home/phdcs2/Hard_Disk/Datasets/Deep-Spectral-Segmentation/data/object-segmentation/ECSSD/features/dino_vits16/0003.pth\n",
      "dict_keys(['k', 'indices', 'file', 'id', 'model_name', 'patch_size', 'shape'])\n",
      "0003\n",
      "Starting Training\n",
      "epoch: 00, loss: -0.32500\n",
      "epoch: 01, loss: -0.62140\n",
      "epoch: 02, loss: -0.68253\n",
      "epoch: 03, loss: -0.73085\n",
      "epoch: 04, loss: -0.72694\n",
      "epoch: 05, loss: -0.74551\n",
      "epoch: 06, loss: -0.72271\n",
      "epoch: 07, loss: -0.72546\n",
      "epoch: 08, loss: -0.73882\n",
      "epoch: 09, loss: -0.76960\n"
     ]
    },
    {
     "name": "stderr",
     "output_type": "stream",
     "text": [
      "  0%|          | 3/1000 [01:00<5:29:59, 19.86s/it]"
     ]
    },
    {
     "name": "stdout",
     "output_type": "stream",
     "text": [
      "eigenvalues shape torch.Size([5]) eigenvectors shape torch.Size([5, 400])\n",
      "3 /home/phdcs2/Hard_Disk/Datasets/Deep-Spectral-Segmentation/data/object-segmentation/ECSSD/features/dino_vits16/0004.pth\n",
      "dict_keys(['k', 'indices', 'file', 'id', 'model_name', 'patch_size', 'shape'])\n",
      "0004\n",
      "Starting Training\n",
      "epoch: 00, loss: -0.48683\n",
      "epoch: 01, loss: -0.84378\n",
      "epoch: 02, loss: -0.89744\n",
      "epoch: 03, loss: -0.89805\n",
      "epoch: 04, loss: -0.90459\n",
      "epoch: 05, loss: -0.88963\n",
      "epoch: 06, loss: -0.86598\n",
      "epoch: 07, loss: -0.86283\n",
      "epoch: 08, loss: -0.86222\n",
      "epoch: 09, loss: -0.85382\n"
     ]
    },
    {
     "name": "stderr",
     "output_type": "stream",
     "text": [
      "  0%|          | 4/1000 [01:17<5:11:26, 18.76s/it]"
     ]
    },
    {
     "name": "stdout",
     "output_type": "stream",
     "text": [
      "eigenvalues shape torch.Size([5]) eigenvectors shape torch.Size([5, 400])\n",
      "4 /home/phdcs2/Hard_Disk/Datasets/Deep-Spectral-Segmentation/data/object-segmentation/ECSSD/features/dino_vits16/0005.pth\n",
      "dict_keys(['k', 'indices', 'file', 'id', 'model_name', 'patch_size', 'shape'])\n",
      "0005\n",
      "Starting Training\n",
      "epoch: 00, loss: -0.43286\n",
      "epoch: 01, loss: -0.80986\n",
      "epoch: 02, loss: -0.81037\n",
      "epoch: 03, loss: -0.82123\n",
      "epoch: 04, loss: -0.81513\n",
      "epoch: 05, loss: -0.83386\n",
      "epoch: 06, loss: -0.84589\n",
      "epoch: 07, loss: -0.84691\n",
      "epoch: 08, loss: -0.85663\n",
      "epoch: 09, loss: -0.86865\n"
     ]
    },
    {
     "name": "stderr",
     "output_type": "stream",
     "text": [
      "  0%|          | 5/1000 [01:37<5:17:36, 19.15s/it]"
     ]
    },
    {
     "name": "stdout",
     "output_type": "stream",
     "text": [
      "eigenvalues shape torch.Size([5]) eigenvectors shape torch.Size([5, 400])\n",
      "5 /home/phdcs2/Hard_Disk/Datasets/Deep-Spectral-Segmentation/data/object-segmentation/ECSSD/features/dino_vits16/0006.pth\n",
      "dict_keys(['k', 'indices', 'file', 'id', 'model_name', 'patch_size', 'shape'])\n",
      "0006\n",
      "Starting Training\n",
      "epoch: 00, loss: -0.58039\n",
      "epoch: 01, loss: -0.83622\n",
      "epoch: 02, loss: -0.79921\n",
      "epoch: 03, loss: -0.79488\n",
      "epoch: 04, loss: -0.79855\n",
      "epoch: 05, loss: -0.80257\n",
      "epoch: 06, loss: -0.78590\n",
      "epoch: 07, loss: -0.77664\n",
      "epoch: 08, loss: -0.81225\n",
      "epoch: 09, loss: -0.84240\n"
     ]
    },
    {
     "name": "stderr",
     "output_type": "stream",
     "text": [
      "  1%|          | 6/1000 [01:56<5:18:15, 19.21s/it]"
     ]
    },
    {
     "name": "stdout",
     "output_type": "stream",
     "text": [
      "eigenvalues shape torch.Size([5]) eigenvectors shape torch.Size([5, 400])\n",
      "6 /home/phdcs2/Hard_Disk/Datasets/Deep-Spectral-Segmentation/data/object-segmentation/ECSSD/features/dino_vits16/0007.pth\n",
      "dict_keys(['k', 'indices', 'file', 'id', 'model_name', 'patch_size', 'shape'])\n",
      "0007\n",
      "Starting Training\n",
      "epoch: 00, loss: -0.31285\n",
      "epoch: 01, loss: -0.66890\n",
      "epoch: 02, loss: -0.73687\n",
      "epoch: 03, loss: -0.73040\n",
      "epoch: 04, loss: -0.73799\n",
      "epoch: 05, loss: -0.75877\n",
      "epoch: 06, loss: -0.79976\n",
      "epoch: 07, loss: -0.79561\n",
      "epoch: 08, loss: -0.80889\n",
      "epoch: 09, loss: -0.79535\n"
     ]
    },
    {
     "name": "stderr",
     "output_type": "stream",
     "text": [
      "  1%|          | 7/1000 [02:17<5:26:35, 19.73s/it]"
     ]
    },
    {
     "name": "stdout",
     "output_type": "stream",
     "text": [
      "eigenvalues shape torch.Size([5]) eigenvectors shape torch.Size([5, 400])\n",
      "7 /home/phdcs2/Hard_Disk/Datasets/Deep-Spectral-Segmentation/data/object-segmentation/ECSSD/features/dino_vits16/0008.pth\n",
      "dict_keys(['k', 'indices', 'file', 'id', 'model_name', 'patch_size', 'shape'])\n",
      "0008\n",
      "Starting Training\n",
      "epoch: 00, loss: -0.41619\n",
      "epoch: 01, loss: -0.74163\n",
      "epoch: 02, loss: -0.72960\n",
      "epoch: 03, loss: -0.65539\n",
      "epoch: 04, loss: -0.71824\n",
      "epoch: 05, loss: -0.75511\n",
      "epoch: 06, loss: -0.76597\n",
      "epoch: 07, loss: -0.78034\n",
      "epoch: 08, loss: -0.81465\n",
      "epoch: 09, loss: -0.81761\n"
     ]
    },
    {
     "name": "stderr",
     "output_type": "stream",
     "text": [
      "  1%|          | 8/1000 [02:37<5:25:41, 19.70s/it]"
     ]
    },
    {
     "name": "stdout",
     "output_type": "stream",
     "text": [
      "eigenvalues shape torch.Size([5]) eigenvectors shape torch.Size([5, 400])\n",
      "8 /home/phdcs2/Hard_Disk/Datasets/Deep-Spectral-Segmentation/data/object-segmentation/ECSSD/features/dino_vits16/0009.pth\n",
      "dict_keys(['k', 'indices', 'file', 'id', 'model_name', 'patch_size', 'shape'])\n",
      "0009\n",
      "Starting Training\n",
      "epoch: 00, loss: -0.68786\n",
      "epoch: 01, loss: -0.93013\n",
      "epoch: 02, loss: -0.92540\n",
      "epoch: 03, loss: -0.93717\n",
      "epoch: 04, loss: -0.93948\n",
      "epoch: 05, loss: -0.91850\n",
      "epoch: 06, loss: -0.89439\n",
      "epoch: 07, loss: -0.88349\n",
      "epoch: 08, loss: -0.89252\n",
      "epoch: 09, loss: -0.85897\n"
     ]
    },
    {
     "name": "stderr",
     "output_type": "stream",
     "text": [
      "  1%|          | 9/1000 [02:55<5:15:31, 19.10s/it]"
     ]
    },
    {
     "name": "stdout",
     "output_type": "stream",
     "text": [
      "eigenvalues shape torch.Size([5]) eigenvectors shape torch.Size([5, 400])\n",
      "9 /home/phdcs2/Hard_Disk/Datasets/Deep-Spectral-Segmentation/data/object-segmentation/ECSSD/features/dino_vits16/0010.pth\n",
      "dict_keys(['k', 'indices', 'file', 'id', 'model_name', 'patch_size', 'shape'])\n",
      "0010\n",
      "Starting Training\n",
      "epoch: 00, loss: -0.34304\n",
      "epoch: 01, loss: -0.78406\n",
      "epoch: 02, loss: -0.84475\n",
      "epoch: 03, loss: -0.84151\n",
      "epoch: 04, loss: -0.83763\n",
      "epoch: 05, loss: -0.86010\n",
      "epoch: 06, loss: -0.84810\n",
      "epoch: 07, loss: -0.72570\n",
      "epoch: 08, loss: -0.80104\n",
      "epoch: 09, loss: -0.80813\n"
     ]
    },
    {
     "name": "stderr",
     "output_type": "stream",
     "text": [
      "  1%|          | 10/1000 [03:15<5:23:13, 19.59s/it]"
     ]
    },
    {
     "name": "stdout",
     "output_type": "stream",
     "text": [
      "eigenvalues shape torch.Size([5]) eigenvectors shape torch.Size([5, 400])\n",
      "10 /home/phdcs2/Hard_Disk/Datasets/Deep-Spectral-Segmentation/data/object-segmentation/ECSSD/features/dino_vits16/0011.pth\n",
      "dict_keys(['k', 'indices', 'file', 'id', 'model_name', 'patch_size', 'shape'])\n",
      "0011\n",
      "Starting Training\n",
      "epoch: 00, loss: -0.41272\n",
      "epoch: 01, loss: -0.76945\n",
      "epoch: 02, loss: -0.81480\n",
      "epoch: 03, loss: -0.82936\n",
      "epoch: 04, loss: -0.86501\n",
      "epoch: 05, loss: -0.87360\n",
      "epoch: 06, loss: -0.89313\n",
      "epoch: 07, loss: -0.89682\n",
      "epoch: 08, loss: -0.88871\n",
      "epoch: 09, loss: -0.89997\n"
     ]
    },
    {
     "name": "stderr",
     "output_type": "stream",
     "text": [
      "  1%|          | 11/1000 [03:35<5:24:41, 19.70s/it]"
     ]
    },
    {
     "name": "stdout",
     "output_type": "stream",
     "text": [
      "eigenvalues shape torch.Size([5]) eigenvectors shape torch.Size([5, 400])\n",
      "11 /home/phdcs2/Hard_Disk/Datasets/Deep-Spectral-Segmentation/data/object-segmentation/ECSSD/features/dino_vits16/0012.pth\n",
      "dict_keys(['k', 'indices', 'file', 'id', 'model_name', 'patch_size', 'shape'])\n",
      "0012\n",
      "Starting Training\n",
      "epoch: 00, loss: -0.51335\n",
      "epoch: 01, loss: -0.83713\n",
      "epoch: 02, loss: -0.84948\n",
      "epoch: 03, loss: -0.84443\n",
      "epoch: 04, loss: -0.85724\n",
      "epoch: 05, loss: -0.83334\n",
      "epoch: 06, loss: -0.74988\n",
      "epoch: 07, loss: -0.76016\n",
      "epoch: 08, loss: -0.76100\n",
      "epoch: 09, loss: -0.79405\n"
     ]
    },
    {
     "name": "stderr",
     "output_type": "stream",
     "text": [
      "  1%|          | 12/1000 [03:58<5:41:21, 20.73s/it]"
     ]
    },
    {
     "name": "stdout",
     "output_type": "stream",
     "text": [
      "eigenvalues shape torch.Size([5]) eigenvectors shape torch.Size([5, 400])\n",
      "12 /home/phdcs2/Hard_Disk/Datasets/Deep-Spectral-Segmentation/data/object-segmentation/ECSSD/features/dino_vits16/0013.pth\n",
      "dict_keys(['k', 'indices', 'file', 'id', 'model_name', 'patch_size', 'shape'])\n",
      "0013\n",
      "Starting Training\n",
      "epoch: 00, loss: -0.46409\n",
      "epoch: 01, loss: -0.74547\n",
      "epoch: 02, loss: -0.76510\n",
      "epoch: 03, loss: -0.73726\n",
      "epoch: 04, loss: -0.74821\n",
      "epoch: 05, loss: -0.77896\n",
      "epoch: 06, loss: -0.77850\n",
      "epoch: 07, loss: -0.81514\n",
      "epoch: 08, loss: -0.79923\n",
      "epoch: 09, loss: -0.80302\n"
     ]
    },
    {
     "name": "stderr",
     "output_type": "stream",
     "text": [
      "  1%|▏         | 13/1000 [04:19<5:41:39, 20.77s/it]"
     ]
    },
    {
     "name": "stdout",
     "output_type": "stream",
     "text": [
      "eigenvalues shape torch.Size([5]) eigenvectors shape torch.Size([5, 400])\n",
      "13 /home/phdcs2/Hard_Disk/Datasets/Deep-Spectral-Segmentation/data/object-segmentation/ECSSD/features/dino_vits16/0014.pth\n",
      "dict_keys(['k', 'indices', 'file', 'id', 'model_name', 'patch_size', 'shape'])\n",
      "0014\n",
      "Starting Training\n",
      "epoch: 00, loss: -0.33023\n",
      "epoch: 01, loss: -0.80786\n",
      "epoch: 02, loss: -0.82383\n",
      "epoch: 03, loss: -0.83928\n",
      "epoch: 04, loss: -0.85259\n",
      "epoch: 05, loss: -0.86490\n",
      "epoch: 06, loss: -0.86562\n",
      "epoch: 07, loss: -0.86154\n",
      "epoch: 08, loss: -0.84259\n",
      "epoch: 09, loss: -0.77691\n"
     ]
    },
    {
     "name": "stderr",
     "output_type": "stream",
     "text": [
      "  1%|▏         | 14/1000 [04:37<5:27:45, 19.94s/it]"
     ]
    },
    {
     "name": "stdout",
     "output_type": "stream",
     "text": [
      "eigenvalues shape torch.Size([5]) eigenvectors shape torch.Size([5, 400])\n",
      "14 /home/phdcs2/Hard_Disk/Datasets/Deep-Spectral-Segmentation/data/object-segmentation/ECSSD/features/dino_vits16/0015.pth\n",
      "dict_keys(['k', 'indices', 'file', 'id', 'model_name', 'patch_size', 'shape'])\n",
      "0015\n",
      "Starting Training\n",
      "epoch: 00, loss: -0.30470\n",
      "epoch: 01, loss: -0.70900\n",
      "epoch: 02, loss: -0.76909\n",
      "epoch: 03, loss: -0.80475\n",
      "epoch: 04, loss: -0.81940\n",
      "epoch: 05, loss: -0.81046\n",
      "epoch: 06, loss: -0.84290\n",
      "epoch: 07, loss: -0.81064\n",
      "epoch: 08, loss: -0.77835\n",
      "epoch: 09, loss: -0.77696\n"
     ]
    },
    {
     "name": "stderr",
     "output_type": "stream",
     "text": [
      "  2%|▏         | 15/1000 [04:56<5:20:35, 19.53s/it]"
     ]
    },
    {
     "name": "stdout",
     "output_type": "stream",
     "text": [
      "eigenvalues shape torch.Size([5]) eigenvectors shape torch.Size([5, 400])\n",
      "15 /home/phdcs2/Hard_Disk/Datasets/Deep-Spectral-Segmentation/data/object-segmentation/ECSSD/features/dino_vits16/0016.pth\n",
      "dict_keys(['k', 'indices', 'file', 'id', 'model_name', 'patch_size', 'shape'])\n",
      "0016\n",
      "Starting Training\n",
      "epoch: 00, loss: -0.26232\n",
      "epoch: 01, loss: -0.58499\n",
      "epoch: 02, loss: -0.63378\n",
      "epoch: 03, loss: -0.67232\n",
      "epoch: 04, loss: -0.71433\n",
      "epoch: 05, loss: -0.74764\n",
      "epoch: 06, loss: -0.76153\n",
      "epoch: 07, loss: -0.77537\n",
      "epoch: 08, loss: -0.76915\n",
      "epoch: 09, loss: -0.76787\n"
     ]
    },
    {
     "name": "stderr",
     "output_type": "stream",
     "text": [
      "  2%|▏         | 16/1000 [05:15<5:18:07, 19.40s/it]"
     ]
    },
    {
     "name": "stdout",
     "output_type": "stream",
     "text": [
      "eigenvalues shape torch.Size([5]) eigenvectors shape torch.Size([5, 400])\n",
      "16 /home/phdcs2/Hard_Disk/Datasets/Deep-Spectral-Segmentation/data/object-segmentation/ECSSD/features/dino_vits16/0017.pth\n",
      "dict_keys(['k', 'indices', 'file', 'id', 'model_name', 'patch_size', 'shape'])\n",
      "0017\n",
      "Starting Training\n",
      "epoch: 00, loss: -0.33215\n",
      "epoch: 01, loss: -0.81116\n",
      "epoch: 02, loss: -0.91828\n",
      "epoch: 03, loss: -0.92317\n",
      "epoch: 04, loss: -0.91107\n",
      "epoch: 05, loss: -0.89905\n",
      "epoch: 06, loss: -0.91862\n",
      "epoch: 07, loss: -0.92640\n",
      "epoch: 08, loss: -0.91953\n",
      "epoch: 09, loss: -0.91733\n"
     ]
    },
    {
     "name": "stderr",
     "output_type": "stream",
     "text": [
      "  2%|▏         | 17/1000 [05:32<5:08:07, 18.81s/it]"
     ]
    },
    {
     "name": "stdout",
     "output_type": "stream",
     "text": [
      "eigenvalues shape torch.Size([5]) eigenvectors shape torch.Size([5, 400])\n",
      "17 /home/phdcs2/Hard_Disk/Datasets/Deep-Spectral-Segmentation/data/object-segmentation/ECSSD/features/dino_vits16/0018.pth\n",
      "dict_keys(['k', 'indices', 'file', 'id', 'model_name', 'patch_size', 'shape'])\n",
      "0018\n",
      "Starting Training\n",
      "epoch: 00, loss: -0.36044\n",
      "epoch: 01, loss: -0.69557\n",
      "epoch: 02, loss: -0.77713\n",
      "epoch: 03, loss: -0.80639\n",
      "epoch: 04, loss: -0.81663\n",
      "epoch: 05, loss: -0.82312\n",
      "epoch: 06, loss: -0.82871\n",
      "epoch: 07, loss: -0.81355\n",
      "epoch: 08, loss: -0.82909\n",
      "epoch: 09, loss: -0.85130\n"
     ]
    },
    {
     "name": "stderr",
     "output_type": "stream",
     "text": [
      "  2%|▏         | 18/1000 [05:51<5:08:43, 18.86s/it]"
     ]
    },
    {
     "name": "stdout",
     "output_type": "stream",
     "text": [
      "eigenvalues shape torch.Size([5]) eigenvectors shape torch.Size([5, 400])\n",
      "18 /home/phdcs2/Hard_Disk/Datasets/Deep-Spectral-Segmentation/data/object-segmentation/ECSSD/features/dino_vits16/0019.pth\n",
      "dict_keys(['k', 'indices', 'file', 'id', 'model_name', 'patch_size', 'shape'])\n",
      "0019\n",
      "Starting Training\n",
      "epoch: 00, loss: -0.31538\n",
      "epoch: 01, loss: -0.59670\n",
      "epoch: 02, loss: -0.70537\n",
      "epoch: 03, loss: -0.69713\n",
      "epoch: 04, loss: -0.75132\n",
      "epoch: 05, loss: -0.79076\n",
      "epoch: 06, loss: -0.79193\n",
      "epoch: 07, loss: -0.81977\n",
      "epoch: 08, loss: -0.80503\n",
      "epoch: 09, loss: -0.80452\n"
     ]
    },
    {
     "name": "stderr",
     "output_type": "stream",
     "text": [
      "  2%|▏         | 19/1000 [06:14<5:26:13, 19.95s/it]"
     ]
    },
    {
     "name": "stdout",
     "output_type": "stream",
     "text": [
      "eigenvalues shape torch.Size([5]) eigenvectors shape torch.Size([5, 400])\n",
      "19 /home/phdcs2/Hard_Disk/Datasets/Deep-Spectral-Segmentation/data/object-segmentation/ECSSD/features/dino_vits16/0020.pth\n",
      "dict_keys(['k', 'indices', 'file', 'id', 'model_name', 'patch_size', 'shape'])\n",
      "0020\n",
      "Starting Training\n",
      "epoch: 00, loss: -0.47891\n",
      "epoch: 01, loss: -0.83883\n",
      "epoch: 02, loss: -0.80891\n",
      "epoch: 03, loss: -0.77061\n",
      "epoch: 04, loss: -0.77557\n",
      "epoch: 05, loss: -0.80188\n",
      "epoch: 06, loss: -0.80850\n",
      "epoch: 07, loss: -0.80988\n",
      "epoch: 08, loss: -0.80488\n",
      "epoch: 09, loss: -0.78877\n"
     ]
    },
    {
     "name": "stderr",
     "output_type": "stream",
     "text": [
      "  2%|▏         | 20/1000 [06:31<5:14:24, 19.25s/it]"
     ]
    },
    {
     "name": "stdout",
     "output_type": "stream",
     "text": [
      "eigenvalues shape torch.Size([5]) eigenvectors shape torch.Size([5, 400])\n",
      "20 /home/phdcs2/Hard_Disk/Datasets/Deep-Spectral-Segmentation/data/object-segmentation/ECSSD/features/dino_vits16/0021.pth\n",
      "dict_keys(['k', 'indices', 'file', 'id', 'model_name', 'patch_size', 'shape'])\n",
      "0021\n",
      "Starting Training\n",
      "epoch: 00, loss: -0.40962\n",
      "epoch: 01, loss: -0.74732\n",
      "epoch: 02, loss: -0.81365\n",
      "epoch: 03, loss: -0.82756\n",
      "epoch: 04, loss: -0.83313\n",
      "epoch: 05, loss: -0.85158\n",
      "epoch: 06, loss: -0.84746\n",
      "epoch: 07, loss: -0.85561\n",
      "epoch: 08, loss: -0.84399\n",
      "epoch: 09, loss: -0.81956\n"
     ]
    },
    {
     "name": "stderr",
     "output_type": "stream",
     "text": [
      "  2%|▏         | 21/1000 [06:52<5:19:12, 19.56s/it]"
     ]
    },
    {
     "name": "stdout",
     "output_type": "stream",
     "text": [
      "eigenvalues shape torch.Size([5]) eigenvectors shape torch.Size([5, 400])\n",
      "21 /home/phdcs2/Hard_Disk/Datasets/Deep-Spectral-Segmentation/data/object-segmentation/ECSSD/features/dino_vits16/0022.pth\n",
      "dict_keys(['k', 'indices', 'file', 'id', 'model_name', 'patch_size', 'shape'])\n",
      "0022\n",
      "Starting Training\n",
      "epoch: 00, loss: -0.28786\n",
      "epoch: 01, loss: -0.55638\n",
      "epoch: 02, loss: -0.64369\n",
      "epoch: 03, loss: -0.67162\n",
      "epoch: 04, loss: -0.74989\n",
      "epoch: 05, loss: -0.76983\n",
      "epoch: 06, loss: -0.78958\n",
      "epoch: 07, loss: -0.78625\n",
      "epoch: 08, loss: -0.78757\n",
      "epoch: 09, loss: -0.77777\n"
     ]
    },
    {
     "name": "stderr",
     "output_type": "stream",
     "text": [
      "  2%|▏         | 22/1000 [07:11<5:16:25, 19.41s/it]"
     ]
    },
    {
     "name": "stdout",
     "output_type": "stream",
     "text": [
      "eigenvalues shape torch.Size([5]) eigenvectors shape torch.Size([5, 400])\n",
      "22 /home/phdcs2/Hard_Disk/Datasets/Deep-Spectral-Segmentation/data/object-segmentation/ECSSD/features/dino_vits16/0023.pth\n",
      "dict_keys(['k', 'indices', 'file', 'id', 'model_name', 'patch_size', 'shape'])\n",
      "0023\n",
      "Starting Training\n",
      "epoch: 00, loss: -0.53930\n",
      "epoch: 01, loss: -0.86016\n",
      "epoch: 02, loss: -0.86964\n",
      "epoch: 03, loss: -0.86177\n",
      "epoch: 04, loss: -0.83026\n",
      "epoch: 05, loss: -0.84732\n",
      "epoch: 06, loss: -0.76424\n",
      "epoch: 07, loss: -0.78232\n",
      "epoch: 08, loss: -0.81833\n",
      "epoch: 09, loss: -0.83832\n"
     ]
    },
    {
     "name": "stderr",
     "output_type": "stream",
     "text": [
      "  2%|▏         | 23/1000 [07:30<5:17:41, 19.51s/it]"
     ]
    },
    {
     "name": "stdout",
     "output_type": "stream",
     "text": [
      "eigenvalues shape torch.Size([5]) eigenvectors shape torch.Size([5, 400])\n",
      "23 /home/phdcs2/Hard_Disk/Datasets/Deep-Spectral-Segmentation/data/object-segmentation/ECSSD/features/dino_vits16/0024.pth\n",
      "dict_keys(['k', 'indices', 'file', 'id', 'model_name', 'patch_size', 'shape'])\n",
      "0024\n",
      "Starting Training\n",
      "epoch: 00, loss: -0.26046\n",
      "epoch: 01, loss: -0.64633\n",
      "epoch: 02, loss: -0.80947\n",
      "epoch: 03, loss: -0.85211\n",
      "epoch: 04, loss: -0.87002\n",
      "epoch: 05, loss: -0.87495\n",
      "epoch: 06, loss: -0.89267\n",
      "epoch: 07, loss: -0.89666\n",
      "epoch: 08, loss: -0.88513\n",
      "epoch: 09, loss: -0.88543\n"
     ]
    },
    {
     "name": "stderr",
     "output_type": "stream",
     "text": [
      "  2%|▏         | 24/1000 [07:52<5:26:03, 20.04s/it]"
     ]
    },
    {
     "name": "stdout",
     "output_type": "stream",
     "text": [
      "eigenvalues shape torch.Size([5]) eigenvectors shape torch.Size([5, 400])\n",
      "24 /home/phdcs2/Hard_Disk/Datasets/Deep-Spectral-Segmentation/data/object-segmentation/ECSSD/features/dino_vits16/0025.pth\n",
      "dict_keys(['k', 'indices', 'file', 'id', 'model_name', 'patch_size', 'shape'])\n",
      "0025\n",
      "Starting Training\n",
      "epoch: 00, loss: -0.53684\n",
      "epoch: 01, loss: -0.86168\n",
      "epoch: 02, loss: -0.85680\n",
      "epoch: 03, loss: -0.83122\n",
      "epoch: 04, loss: -0.83300\n",
      "epoch: 05, loss: -0.83646\n",
      "epoch: 06, loss: -0.82383\n",
      "epoch: 07, loss: -0.82761\n",
      "epoch: 08, loss: -0.83278\n",
      "epoch: 09, loss: -0.80915\n"
     ]
    },
    {
     "name": "stderr",
     "output_type": "stream",
     "text": [
      "  2%|▎         | 25/1000 [08:10<5:16:51, 19.50s/it]"
     ]
    },
    {
     "name": "stdout",
     "output_type": "stream",
     "text": [
      "eigenvalues shape torch.Size([5]) eigenvectors shape torch.Size([5, 400])\n",
      "25 /home/phdcs2/Hard_Disk/Datasets/Deep-Spectral-Segmentation/data/object-segmentation/ECSSD/features/dino_vits16/0026.pth\n",
      "dict_keys(['k', 'indices', 'file', 'id', 'model_name', 'patch_size', 'shape'])\n",
      "0026\n",
      "Starting Training\n",
      "epoch: 00, loss: -0.45025\n",
      "epoch: 01, loss: -0.78122\n",
      "epoch: 02, loss: -0.82274\n",
      "epoch: 03, loss: -0.85278\n",
      "epoch: 04, loss: -0.83194\n",
      "epoch: 05, loss: -0.83717\n",
      "epoch: 06, loss: -0.84938\n",
      "epoch: 07, loss: -0.84518\n",
      "epoch: 08, loss: -0.83226\n",
      "epoch: 09, loss: -0.83556\n"
     ]
    },
    {
     "name": "stderr",
     "output_type": "stream",
     "text": [
      "  3%|▎         | 26/1000 [08:31<5:22:26, 19.86s/it]"
     ]
    },
    {
     "name": "stdout",
     "output_type": "stream",
     "text": [
      "eigenvalues shape torch.Size([5]) eigenvectors shape torch.Size([5, 400])\n",
      "26 /home/phdcs2/Hard_Disk/Datasets/Deep-Spectral-Segmentation/data/object-segmentation/ECSSD/features/dino_vits16/0027.pth\n",
      "dict_keys(['k', 'indices', 'file', 'id', 'model_name', 'patch_size', 'shape'])\n",
      "0027\n",
      "Starting Training\n",
      "epoch: 00, loss: -0.40382\n",
      "epoch: 01, loss: -0.74643\n",
      "epoch: 02, loss: -0.84556\n",
      "epoch: 03, loss: -0.91434\n",
      "epoch: 04, loss: -0.90923\n",
      "epoch: 05, loss: -0.89304\n",
      "epoch: 06, loss: -0.89810\n",
      "epoch: 07, loss: -0.89193\n",
      "epoch: 08, loss: -0.80617\n",
      "epoch: 09, loss: -0.79985\n"
     ]
    },
    {
     "name": "stderr",
     "output_type": "stream",
     "text": [
      "  3%|▎         | 27/1000 [08:50<5:18:38, 19.65s/it]"
     ]
    },
    {
     "name": "stdout",
     "output_type": "stream",
     "text": [
      "eigenvalues shape torch.Size([5]) eigenvectors shape torch.Size([5, 400])\n",
      "27 /home/phdcs2/Hard_Disk/Datasets/Deep-Spectral-Segmentation/data/object-segmentation/ECSSD/features/dino_vits16/0028.pth\n",
      "dict_keys(['k', 'indices', 'file', 'id', 'model_name', 'patch_size', 'shape'])\n",
      "0028\n",
      "Starting Training\n",
      "epoch: 00, loss: -0.31653\n",
      "epoch: 01, loss: -0.67456\n",
      "epoch: 02, loss: -0.72465\n",
      "epoch: 03, loss: -0.75279\n",
      "epoch: 04, loss: -0.77785\n",
      "epoch: 05, loss: -0.77327\n",
      "epoch: 06, loss: -0.69476\n",
      "epoch: 07, loss: -0.70677\n",
      "epoch: 08, loss: -0.72460\n",
      "epoch: 09, loss: -0.72928\n"
     ]
    },
    {
     "name": "stderr",
     "output_type": "stream",
     "text": [
      "  3%|▎         | 28/1000 [09:09<5:15:53, 19.50s/it]"
     ]
    },
    {
     "name": "stdout",
     "output_type": "stream",
     "text": [
      "eigenvalues shape torch.Size([5]) eigenvectors shape torch.Size([5, 400])\n",
      "28 /home/phdcs2/Hard_Disk/Datasets/Deep-Spectral-Segmentation/data/object-segmentation/ECSSD/features/dino_vits16/0029.pth\n",
      "dict_keys(['k', 'indices', 'file', 'id', 'model_name', 'patch_size', 'shape'])\n",
      "0029\n",
      "Starting Training\n",
      "epoch: 00, loss: -0.39960\n",
      "epoch: 01, loss: -0.72138\n",
      "epoch: 02, loss: -0.76843\n",
      "epoch: 03, loss: -0.79362\n",
      "epoch: 04, loss: -0.78142\n",
      "epoch: 05, loss: -0.77257\n",
      "epoch: 06, loss: -0.71810\n",
      "epoch: 07, loss: -0.74691\n",
      "epoch: 08, loss: -0.76771\n",
      "epoch: 09, loss: -0.79336\n"
     ]
    },
    {
     "name": "stderr",
     "output_type": "stream",
     "text": [
      "  3%|▎         | 29/1000 [09:30<5:20:58, 19.83s/it]"
     ]
    },
    {
     "name": "stdout",
     "output_type": "stream",
     "text": [
      "eigenvalues shape torch.Size([5]) eigenvectors shape torch.Size([5, 400])\n",
      "29 /home/phdcs2/Hard_Disk/Datasets/Deep-Spectral-Segmentation/data/object-segmentation/ECSSD/features/dino_vits16/0030.pth\n",
      "dict_keys(['k', 'indices', 'file', 'id', 'model_name', 'patch_size', 'shape'])\n",
      "0030\n",
      "Starting Training\n",
      "epoch: 00, loss: -0.45342\n",
      "epoch: 01, loss: -0.81409\n",
      "epoch: 02, loss: -0.78706\n",
      "epoch: 03, loss: -0.74459\n",
      "epoch: 04, loss: -0.68518\n",
      "epoch: 05, loss: -0.76971\n",
      "epoch: 06, loss: -0.82947\n",
      "epoch: 07, loss: -0.82946\n",
      "epoch: 08, loss: -0.85031\n",
      "epoch: 09, loss: -0.86110\n"
     ]
    },
    {
     "name": "stderr",
     "output_type": "stream",
     "text": [
      "  3%|▎         | 30/1000 [09:48<5:13:43, 19.41s/it]"
     ]
    },
    {
     "name": "stdout",
     "output_type": "stream",
     "text": [
      "eigenvalues shape torch.Size([5]) eigenvectors shape torch.Size([5, 400])\n",
      "30 /home/phdcs2/Hard_Disk/Datasets/Deep-Spectral-Segmentation/data/object-segmentation/ECSSD/features/dino_vits16/0031.pth\n",
      "dict_keys(['k', 'indices', 'file', 'id', 'model_name', 'patch_size', 'shape'])\n",
      "0031\n",
      "Starting Training\n",
      "epoch: 00, loss: -0.46975\n",
      "epoch: 01, loss: -0.73353\n",
      "epoch: 02, loss: -0.78279\n",
      "epoch: 03, loss: -0.80621\n",
      "epoch: 04, loss: -0.80608\n",
      "epoch: 05, loss: -0.77233\n",
      "epoch: 06, loss: -0.73465\n",
      "epoch: 07, loss: -0.75492\n",
      "epoch: 08, loss: -0.76284\n",
      "epoch: 09, loss: -0.78452\n"
     ]
    },
    {
     "name": "stderr",
     "output_type": "stream",
     "text": [
      "  3%|▎         | 31/1000 [10:06<5:05:02, 18.89s/it]"
     ]
    },
    {
     "name": "stdout",
     "output_type": "stream",
     "text": [
      "eigenvalues shape torch.Size([5]) eigenvectors shape torch.Size([5, 400])\n",
      "31 /home/phdcs2/Hard_Disk/Datasets/Deep-Spectral-Segmentation/data/object-segmentation/ECSSD/features/dino_vits16/0032.pth\n",
      "dict_keys(['k', 'indices', 'file', 'id', 'model_name', 'patch_size', 'shape'])\n",
      "0032\n",
      "Starting Training\n",
      "epoch: 00, loss: -0.43480\n",
      "epoch: 01, loss: -0.70488\n",
      "epoch: 02, loss: -0.74243\n",
      "epoch: 03, loss: -0.70750\n",
      "epoch: 04, loss: -0.75871\n",
      "epoch: 05, loss: -0.84256\n",
      "epoch: 06, loss: -0.86059\n",
      "epoch: 07, loss: -0.86027\n",
      "epoch: 08, loss: -0.85435\n",
      "epoch: 09, loss: -0.86465\n"
     ]
    },
    {
     "name": "stderr",
     "output_type": "stream",
     "text": [
      "  3%|▎         | 32/1000 [10:25<5:06:04, 18.97s/it]"
     ]
    },
    {
     "name": "stdout",
     "output_type": "stream",
     "text": [
      "eigenvalues shape torch.Size([5]) eigenvectors shape torch.Size([5, 400])\n",
      "32 /home/phdcs2/Hard_Disk/Datasets/Deep-Spectral-Segmentation/data/object-segmentation/ECSSD/features/dino_vits16/0033.pth\n",
      "dict_keys(['k', 'indices', 'file', 'id', 'model_name', 'patch_size', 'shape'])\n",
      "0033\n",
      "Starting Training\n",
      "epoch: 00, loss: -0.28546\n",
      "epoch: 01, loss: -0.60004\n",
      "epoch: 02, loss: -0.60009\n",
      "epoch: 03, loss: -0.62682\n",
      "epoch: 04, loss: -0.66682\n",
      "epoch: 05, loss: -0.67323\n",
      "epoch: 06, loss: -0.70710\n",
      "epoch: 07, loss: -0.72452\n",
      "epoch: 08, loss: -0.68987\n",
      "epoch: 09, loss: -0.70024\n"
     ]
    },
    {
     "name": "stderr",
     "output_type": "stream",
     "text": [
      "  3%|▎         | 33/1000 [10:41<4:52:05, 18.12s/it]"
     ]
    },
    {
     "name": "stdout",
     "output_type": "stream",
     "text": [
      "eigenvalues shape torch.Size([5]) eigenvectors shape torch.Size([5, 400])\n",
      "33 /home/phdcs2/Hard_Disk/Datasets/Deep-Spectral-Segmentation/data/object-segmentation/ECSSD/features/dino_vits16/0034.pth\n",
      "dict_keys(['k', 'indices', 'file', 'id', 'model_name', 'patch_size', 'shape'])\n",
      "0034\n",
      "Starting Training\n",
      "epoch: 00, loss: -0.49199\n",
      "epoch: 01, loss: -0.84548\n",
      "epoch: 02, loss: -0.85675\n",
      "epoch: 03, loss: -0.85562\n",
      "epoch: 04, loss: -0.83945\n",
      "epoch: 05, loss: -0.87241\n",
      "epoch: 06, loss: -0.87304\n",
      "epoch: 07, loss: -0.82033\n",
      "epoch: 08, loss: -0.77781\n",
      "epoch: 09, loss: -0.80910\n"
     ]
    },
    {
     "name": "stderr",
     "output_type": "stream",
     "text": [
      "  3%|▎         | 34/1000 [11:00<4:55:32, 18.36s/it]"
     ]
    },
    {
     "name": "stdout",
     "output_type": "stream",
     "text": [
      "eigenvalues shape torch.Size([5]) eigenvectors shape torch.Size([5, 400])\n",
      "34 /home/phdcs2/Hard_Disk/Datasets/Deep-Spectral-Segmentation/data/object-segmentation/ECSSD/features/dino_vits16/0035.pth\n",
      "dict_keys(['k', 'indices', 'file', 'id', 'model_name', 'patch_size', 'shape'])\n",
      "0035\n",
      "Starting Training\n",
      "epoch: 00, loss: -0.44354\n",
      "epoch: 01, loss: -0.75836\n",
      "epoch: 02, loss: -0.72714\n",
      "epoch: 03, loss: -0.71023\n",
      "epoch: 04, loss: -0.68294\n",
      "epoch: 05, loss: -0.67754\n",
      "epoch: 06, loss: -0.69304\n",
      "epoch: 07, loss: -0.74181\n",
      "epoch: 08, loss: -0.74771\n",
      "epoch: 09, loss: -0.76990\n"
     ]
    },
    {
     "name": "stderr",
     "output_type": "stream",
     "text": [
      "  4%|▎         | 35/1000 [11:21<5:09:18, 19.23s/it]"
     ]
    },
    {
     "name": "stdout",
     "output_type": "stream",
     "text": [
      "eigenvalues shape torch.Size([5]) eigenvectors shape torch.Size([5, 400])\n",
      "35 /home/phdcs2/Hard_Disk/Datasets/Deep-Spectral-Segmentation/data/object-segmentation/ECSSD/features/dino_vits16/0036.pth\n",
      "dict_keys(['k', 'indices', 'file', 'id', 'model_name', 'patch_size', 'shape'])\n",
      "0036\n",
      "Starting Training\n",
      "epoch: 00, loss: -0.44938\n",
      "epoch: 01, loss: -0.73337\n",
      "epoch: 02, loss: -0.80104\n",
      "epoch: 03, loss: -0.78010\n",
      "epoch: 04, loss: -0.80898\n",
      "epoch: 05, loss: -0.81991\n",
      "epoch: 06, loss: -0.83923\n",
      "epoch: 07, loss: -0.80771\n",
      "epoch: 08, loss: -0.80657\n",
      "epoch: 09, loss: -0.83949\n"
     ]
    },
    {
     "name": "stderr",
     "output_type": "stream",
     "text": [
      "  4%|▎         | 36/1000 [11:42<5:18:12, 19.81s/it]"
     ]
    },
    {
     "name": "stdout",
     "output_type": "stream",
     "text": [
      "eigenvalues shape torch.Size([5]) eigenvectors shape torch.Size([5, 450])\n",
      "36 /home/phdcs2/Hard_Disk/Datasets/Deep-Spectral-Segmentation/data/object-segmentation/ECSSD/features/dino_vits16/0037.pth\n",
      "dict_keys(['k', 'indices', 'file', 'id', 'model_name', 'patch_size', 'shape'])\n",
      "0037\n",
      "Starting Training\n",
      "epoch: 00, loss: -0.68761\n",
      "epoch: 01, loss: -0.94069\n",
      "epoch: 02, loss: -0.94656\n",
      "epoch: 03, loss: -0.90412\n",
      "epoch: 04, loss: -0.88749\n",
      "epoch: 05, loss: -0.90189\n",
      "epoch: 06, loss: -0.90147\n",
      "epoch: 07, loss: -0.88994\n",
      "epoch: 08, loss: -0.89901\n",
      "epoch: 09, loss: -0.90028\n"
     ]
    },
    {
     "name": "stderr",
     "output_type": "stream",
     "text": [
      "  4%|▎         | 37/1000 [12:03<5:23:48, 20.17s/it]"
     ]
    },
    {
     "name": "stdout",
     "output_type": "stream",
     "text": [
      "eigenvalues shape torch.Size([5]) eigenvectors shape torch.Size([5, 450])\n",
      "37 /home/phdcs2/Hard_Disk/Datasets/Deep-Spectral-Segmentation/data/object-segmentation/ECSSD/features/dino_vits16/0038.pth\n",
      "dict_keys(['k', 'indices', 'file', 'id', 'model_name', 'patch_size', 'shape'])\n",
      "0038\n",
      "Starting Training\n",
      "epoch: 00, loss: -0.63684\n",
      "epoch: 01, loss: -0.88327\n",
      "epoch: 02, loss: -0.88454\n",
      "epoch: 03, loss: -0.90587\n",
      "epoch: 04, loss: -0.90041\n",
      "epoch: 05, loss: -0.90393\n",
      "epoch: 06, loss: -0.89194\n",
      "epoch: 07, loss: -0.88370\n",
      "epoch: 08, loss: -0.84201\n",
      "epoch: 09, loss: -0.85146\n"
     ]
    },
    {
     "name": "stderr",
     "output_type": "stream",
     "text": [
      "  4%|▍         | 38/1000 [12:22<5:13:40, 19.56s/it]"
     ]
    },
    {
     "name": "stdout",
     "output_type": "stream",
     "text": [
      "eigenvalues shape torch.Size([5]) eigenvectors shape torch.Size([5, 400])\n",
      "38 /home/phdcs2/Hard_Disk/Datasets/Deep-Spectral-Segmentation/data/object-segmentation/ECSSD/features/dino_vits16/0039.pth\n",
      "dict_keys(['k', 'indices', 'file', 'id', 'model_name', 'patch_size', 'shape'])\n",
      "0039\n",
      "Starting Training\n",
      "epoch: 00, loss: -0.43616\n",
      "epoch: 01, loss: -0.74297\n",
      "epoch: 02, loss: -0.74369\n",
      "epoch: 03, loss: -0.76573\n",
      "epoch: 04, loss: -0.75993\n",
      "epoch: 05, loss: -0.78974\n",
      "epoch: 06, loss: -0.79276\n",
      "epoch: 07, loss: -0.81300\n",
      "epoch: 08, loss: -0.82239\n",
      "epoch: 09, loss: -0.82801\n"
     ]
    },
    {
     "name": "stderr",
     "output_type": "stream",
     "text": [
      "  4%|▍         | 39/1000 [12:40<5:09:06, 19.30s/it]"
     ]
    },
    {
     "name": "stdout",
     "output_type": "stream",
     "text": [
      "eigenvalues shape torch.Size([5]) eigenvectors shape torch.Size([5, 400])\n",
      "39 /home/phdcs2/Hard_Disk/Datasets/Deep-Spectral-Segmentation/data/object-segmentation/ECSSD/features/dino_vits16/0040.pth\n",
      "dict_keys(['k', 'indices', 'file', 'id', 'model_name', 'patch_size', 'shape'])\n",
      "0040\n",
      "Starting Training\n",
      "epoch: 00, loss: -0.42948\n",
      "epoch: 01, loss: -0.76618\n",
      "epoch: 02, loss: -0.82762\n",
      "epoch: 03, loss: -0.85230\n",
      "epoch: 04, loss: -0.85814\n",
      "epoch: 05, loss: -0.85204\n",
      "epoch: 06, loss: -0.86194\n",
      "epoch: 07, loss: -0.86458\n",
      "epoch: 08, loss: -0.86730\n",
      "epoch: 09, loss: -0.86333\n"
     ]
    },
    {
     "name": "stderr",
     "output_type": "stream",
     "text": [
      "  4%|▍         | 40/1000 [12:58<5:03:34, 18.97s/it]"
     ]
    },
    {
     "name": "stdout",
     "output_type": "stream",
     "text": [
      "eigenvalues shape torch.Size([5]) eigenvectors shape torch.Size([5, 400])\n",
      "40 /home/phdcs2/Hard_Disk/Datasets/Deep-Spectral-Segmentation/data/object-segmentation/ECSSD/features/dino_vits16/0041.pth\n",
      "dict_keys(['k', 'indices', 'file', 'id', 'model_name', 'patch_size', 'shape'])\n",
      "0041\n",
      "Starting Training\n",
      "epoch: 00, loss: -0.60180\n",
      "epoch: 01, loss: -0.93383\n",
      "epoch: 02, loss: -0.91860\n",
      "epoch: 03, loss: -0.90377\n",
      "epoch: 04, loss: -0.82752\n",
      "epoch: 05, loss: -0.83928\n",
      "epoch: 06, loss: -0.83748\n",
      "epoch: 07, loss: -0.83103\n",
      "epoch: 08, loss: -0.84502\n",
      "epoch: 09, loss: -0.83273\n"
     ]
    },
    {
     "name": "stderr",
     "output_type": "stream",
     "text": [
      "  4%|▍         | 41/1000 [13:19<5:12:58, 19.58s/it]"
     ]
    },
    {
     "name": "stdout",
     "output_type": "stream",
     "text": [
      "eigenvalues shape torch.Size([5]) eigenvectors shape torch.Size([5, 450])\n",
      "41 /home/phdcs2/Hard_Disk/Datasets/Deep-Spectral-Segmentation/data/object-segmentation/ECSSD/features/dino_vits16/0042.pth\n",
      "dict_keys(['k', 'indices', 'file', 'id', 'model_name', 'patch_size', 'shape'])\n",
      "0042\n",
      "Starting Training\n",
      "epoch: 00, loss: -0.45424\n",
      "epoch: 01, loss: -0.76860\n",
      "epoch: 02, loss: -0.74696\n",
      "epoch: 03, loss: -0.78495\n",
      "epoch: 04, loss: -0.77175\n",
      "epoch: 05, loss: -0.76830\n",
      "epoch: 06, loss: -0.81167\n",
      "epoch: 07, loss: -0.81589\n",
      "epoch: 08, loss: -0.82769\n",
      "epoch: 09, loss: -0.84036\n"
     ]
    },
    {
     "name": "stderr",
     "output_type": "stream",
     "text": [
      "  4%|▍         | 42/1000 [13:38<5:06:55, 19.22s/it]"
     ]
    },
    {
     "name": "stdout",
     "output_type": "stream",
     "text": [
      "eigenvalues shape torch.Size([5]) eigenvectors shape torch.Size([5, 400])\n",
      "42 /home/phdcs2/Hard_Disk/Datasets/Deep-Spectral-Segmentation/data/object-segmentation/ECSSD/features/dino_vits16/0043.pth\n",
      "dict_keys(['k', 'indices', 'file', 'id', 'model_name', 'patch_size', 'shape'])\n",
      "0043\n",
      "Starting Training\n",
      "epoch: 00, loss: -0.62528\n",
      "epoch: 01, loss: -0.87546\n",
      "epoch: 02, loss: -0.85907\n",
      "epoch: 03, loss: -0.82578\n",
      "epoch: 04, loss: -0.85140\n",
      "epoch: 05, loss: -0.87251\n",
      "epoch: 06, loss: -0.87961\n",
      "epoch: 07, loss: -0.87382\n",
      "epoch: 08, loss: -0.90580\n",
      "epoch: 09, loss: -0.90664\n"
     ]
    },
    {
     "name": "stderr",
     "output_type": "stream",
     "text": [
      "  4%|▍         | 43/1000 [14:00<5:22:25, 20.21s/it]"
     ]
    },
    {
     "name": "stdout",
     "output_type": "stream",
     "text": [
      "eigenvalues shape torch.Size([5]) eigenvectors shape torch.Size([5, 450])\n",
      "43 /home/phdcs2/Hard_Disk/Datasets/Deep-Spectral-Segmentation/data/object-segmentation/ECSSD/features/dino_vits16/0044.pth\n",
      "dict_keys(['k', 'indices', 'file', 'id', 'model_name', 'patch_size', 'shape'])\n",
      "0044\n",
      "Starting Training\n",
      "epoch: 00, loss: -0.48131\n",
      "epoch: 01, loss: -0.71521\n",
      "epoch: 02, loss: -0.72864\n",
      "epoch: 03, loss: -0.80282\n",
      "epoch: 04, loss: -0.79099\n",
      "epoch: 05, loss: -0.72766\n",
      "epoch: 06, loss: -0.66344\n",
      "epoch: 07, loss: -0.69522\n",
      "epoch: 08, loss: -0.75041\n",
      "epoch: 09, loss: -0.74536\n"
     ]
    },
    {
     "name": "stderr",
     "output_type": "stream",
     "text": [
      "  4%|▍         | 44/1000 [14:25<5:45:17, 21.67s/it]"
     ]
    },
    {
     "name": "stdout",
     "output_type": "stream",
     "text": [
      "eigenvalues shape torch.Size([5]) eigenvectors shape torch.Size([5, 525])\n",
      "44 /home/phdcs2/Hard_Disk/Datasets/Deep-Spectral-Segmentation/data/object-segmentation/ECSSD/features/dino_vits16/0045.pth\n",
      "dict_keys(['k', 'indices', 'file', 'id', 'model_name', 'patch_size', 'shape'])\n",
      "0045\n",
      "Starting Training\n",
      "epoch: 00, loss: -0.44533\n",
      "epoch: 01, loss: -0.80515\n",
      "epoch: 02, loss: -0.80612\n",
      "epoch: 03, loss: -0.80808\n",
      "epoch: 04, loss: -0.80108\n",
      "epoch: 05, loss: -0.73751\n",
      "epoch: 06, loss: -0.78503\n",
      "epoch: 07, loss: -0.79504\n",
      "epoch: 08, loss: -0.80964\n",
      "epoch: 09, loss: -0.81651\n"
     ]
    },
    {
     "name": "stderr",
     "output_type": "stream",
     "text": [
      "  4%|▍         | 45/1000 [14:47<5:43:07, 21.56s/it]"
     ]
    },
    {
     "name": "stdout",
     "output_type": "stream",
     "text": [
      "eigenvalues shape torch.Size([5]) eigenvectors shape torch.Size([5, 450])\n",
      "45 /home/phdcs2/Hard_Disk/Datasets/Deep-Spectral-Segmentation/data/object-segmentation/ECSSD/features/dino_vits16/0046.pth\n",
      "dict_keys(['k', 'indices', 'file', 'id', 'model_name', 'patch_size', 'shape'])\n",
      "0046\n",
      "Starting Training\n",
      "epoch: 00, loss: -0.52847\n",
      "epoch: 01, loss: -0.81821\n",
      "epoch: 02, loss: -0.83573\n",
      "epoch: 03, loss: -0.84571\n",
      "epoch: 04, loss: -0.86089\n",
      "epoch: 05, loss: -0.84527\n",
      "epoch: 06, loss: -0.83655\n",
      "epoch: 07, loss: -0.82953\n",
      "epoch: 08, loss: -0.81592\n",
      "epoch: 09, loss: -0.79338\n"
     ]
    },
    {
     "name": "stderr",
     "output_type": "stream",
     "text": [
      "  5%|▍         | 46/1000 [15:09<5:47:39, 21.87s/it]"
     ]
    },
    {
     "name": "stdout",
     "output_type": "stream",
     "text": [
      "eigenvalues shape torch.Size([5]) eigenvectors shape torch.Size([5, 450])\n",
      "46 /home/phdcs2/Hard_Disk/Datasets/Deep-Spectral-Segmentation/data/object-segmentation/ECSSD/features/dino_vits16/0047.pth\n",
      "dict_keys(['k', 'indices', 'file', 'id', 'model_name', 'patch_size', 'shape'])\n",
      "0047\n",
      "Starting Training\n",
      "epoch: 00, loss: -0.35024\n",
      "epoch: 01, loss: -0.70324\n",
      "epoch: 02, loss: -0.70461\n",
      "epoch: 03, loss: -0.69542\n",
      "epoch: 04, loss: -0.74275\n",
      "epoch: 05, loss: -0.76867\n",
      "epoch: 06, loss: -0.74966\n",
      "epoch: 07, loss: -0.78767\n",
      "epoch: 08, loss: -0.78235\n",
      "epoch: 09, loss: -0.77058\n"
     ]
    },
    {
     "name": "stderr",
     "output_type": "stream",
     "text": [
      "  5%|▍         | 47/1000 [15:26<5:23:05, 20.34s/it]"
     ]
    },
    {
     "name": "stdout",
     "output_type": "stream",
     "text": [
      "eigenvalues shape torch.Size([5]) eigenvectors shape torch.Size([5, 400])\n",
      "47 /home/phdcs2/Hard_Disk/Datasets/Deep-Spectral-Segmentation/data/object-segmentation/ECSSD/features/dino_vits16/0048.pth\n",
      "dict_keys(['k', 'indices', 'file', 'id', 'model_name', 'patch_size', 'shape'])\n",
      "0048\n",
      "Starting Training\n",
      "epoch: 00, loss: -0.43231\n",
      "epoch: 01, loss: -0.72830\n",
      "epoch: 02, loss: -0.76685\n",
      "epoch: 03, loss: -0.81637\n",
      "epoch: 04, loss: -0.85174\n",
      "epoch: 05, loss: -0.85619\n",
      "epoch: 06, loss: -0.85238\n",
      "epoch: 07, loss: -0.85899\n",
      "epoch: 08, loss: -0.86680\n",
      "epoch: 09, loss: -0.87099\n"
     ]
    },
    {
     "name": "stderr",
     "output_type": "stream",
     "text": [
      "  5%|▍         | 48/1000 [15:45<5:14:13, 19.80s/it]"
     ]
    },
    {
     "name": "stdout",
     "output_type": "stream",
     "text": [
      "eigenvalues shape torch.Size([5]) eigenvectors shape torch.Size([5, 450])\n",
      "48 /home/phdcs2/Hard_Disk/Datasets/Deep-Spectral-Segmentation/data/object-segmentation/ECSSD/features/dino_vits16/0049.pth\n",
      "dict_keys(['k', 'indices', 'file', 'id', 'model_name', 'patch_size', 'shape'])\n",
      "0049\n",
      "Starting Training\n",
      "epoch: 00, loss: -0.63815\n",
      "epoch: 01, loss: -0.88702\n",
      "epoch: 02, loss: -0.87847\n",
      "epoch: 03, loss: -0.84088\n",
      "epoch: 04, loss: -0.83841\n",
      "epoch: 05, loss: -0.83117\n",
      "epoch: 06, loss: -0.85079\n",
      "epoch: 07, loss: -0.81635\n",
      "epoch: 08, loss: -0.83458\n",
      "epoch: 09, loss: -0.86704\n"
     ]
    },
    {
     "name": "stderr",
     "output_type": "stream",
     "text": [
      "  5%|▍         | 49/1000 [16:05<5:15:04, 19.88s/it]"
     ]
    },
    {
     "name": "stdout",
     "output_type": "stream",
     "text": [
      "eigenvalues shape torch.Size([5]) eigenvectors shape torch.Size([5, 450])\n",
      "49 /home/phdcs2/Hard_Disk/Datasets/Deep-Spectral-Segmentation/data/object-segmentation/ECSSD/features/dino_vits16/0050.pth\n",
      "dict_keys(['k', 'indices', 'file', 'id', 'model_name', 'patch_size', 'shape'])\n",
      "0050\n",
      "Starting Training\n",
      "epoch: 00, loss: -0.40538\n",
      "epoch: 01, loss: -0.69511\n",
      "epoch: 02, loss: -0.78293\n",
      "epoch: 03, loss: -0.82203\n",
      "epoch: 04, loss: -0.86184\n",
      "epoch: 05, loss: -0.88110\n",
      "epoch: 06, loss: -0.87853\n",
      "epoch: 07, loss: -0.88612\n",
      "epoch: 08, loss: -0.88881\n",
      "epoch: 09, loss: -0.89515\n"
     ]
    },
    {
     "name": "stderr",
     "output_type": "stream",
     "text": [
      "  5%|▌         | 50/1000 [16:25<5:17:01, 20.02s/it]"
     ]
    },
    {
     "name": "stdout",
     "output_type": "stream",
     "text": [
      "eigenvalues shape torch.Size([5]) eigenvectors shape torch.Size([5, 400])\n",
      "50 /home/phdcs2/Hard_Disk/Datasets/Deep-Spectral-Segmentation/data/object-segmentation/ECSSD/features/dino_vits16/0051.pth\n",
      "dict_keys(['k', 'indices', 'file', 'id', 'model_name', 'patch_size', 'shape'])\n",
      "0051\n",
      "Starting Training\n",
      "epoch: 00, loss: -0.69818\n",
      "epoch: 01, loss: -0.91074\n",
      "epoch: 02, loss: -0.91852\n",
      "epoch: 03, loss: -0.92931\n",
      "epoch: 04, loss: -0.93664\n",
      "epoch: 05, loss: -0.93527\n",
      "epoch: 06, loss: -0.93862\n",
      "epoch: 07, loss: -0.92861\n",
      "epoch: 08, loss: -0.92420\n",
      "epoch: 09, loss: -0.93273\n"
     ]
    },
    {
     "name": "stderr",
     "output_type": "stream",
     "text": [
      "  5%|▌         | 51/1000 [16:45<5:15:18, 19.94s/it]"
     ]
    },
    {
     "name": "stdout",
     "output_type": "stream",
     "text": [
      "eigenvalues shape torch.Size([5]) eigenvectors shape torch.Size([5, 450])\n",
      "51 /home/phdcs2/Hard_Disk/Datasets/Deep-Spectral-Segmentation/data/object-segmentation/ECSSD/features/dino_vits16/0052.pth\n",
      "dict_keys(['k', 'indices', 'file', 'id', 'model_name', 'patch_size', 'shape'])\n",
      "0052\n",
      "Starting Training\n",
      "epoch: 00, loss: -0.49295\n",
      "epoch: 01, loss: -0.68423\n",
      "epoch: 02, loss: -0.66232\n",
      "epoch: 03, loss: -0.72211\n",
      "epoch: 04, loss: -0.76970\n",
      "epoch: 05, loss: -0.80375\n",
      "epoch: 06, loss: -0.80662\n",
      "epoch: 07, loss: -0.79131\n",
      "epoch: 08, loss: -0.79672\n",
      "epoch: 09, loss: -0.80223\n"
     ]
    },
    {
     "name": "stderr",
     "output_type": "stream",
     "text": [
      "  5%|▌         | 52/1000 [17:07<5:26:03, 20.64s/it]"
     ]
    },
    {
     "name": "stdout",
     "output_type": "stream",
     "text": [
      "eigenvalues shape torch.Size([5]) eigenvectors shape torch.Size([5, 450])\n",
      "52 /home/phdcs2/Hard_Disk/Datasets/Deep-Spectral-Segmentation/data/object-segmentation/ECSSD/features/dino_vits16/0053.pth\n",
      "dict_keys(['k', 'indices', 'file', 'id', 'model_name', 'patch_size', 'shape'])\n",
      "0053\n",
      "Starting Training\n",
      "epoch: 00, loss: -0.38210\n",
      "epoch: 01, loss: -0.71517\n",
      "epoch: 02, loss: -0.66548\n",
      "epoch: 03, loss: -0.66206\n",
      "epoch: 04, loss: -0.69618\n",
      "epoch: 05, loss: -0.73026\n",
      "epoch: 06, loss: -0.84170\n",
      "epoch: 07, loss: -0.84984\n",
      "epoch: 08, loss: -0.84164\n",
      "epoch: 09, loss: -0.85219\n"
     ]
    },
    {
     "name": "stderr",
     "output_type": "stream",
     "text": [
      "  5%|▌         | 53/1000 [17:22<5:01:14, 19.09s/it]"
     ]
    },
    {
     "name": "stdout",
     "output_type": "stream",
     "text": [
      "eigenvalues shape torch.Size([5]) eigenvectors shape torch.Size([5, 375])\n",
      "53 /home/phdcs2/Hard_Disk/Datasets/Deep-Spectral-Segmentation/data/object-segmentation/ECSSD/features/dino_vits16/0054.pth\n",
      "dict_keys(['k', 'indices', 'file', 'id', 'model_name', 'patch_size', 'shape'])\n",
      "0054\n",
      "Starting Training\n",
      "epoch: 00, loss: -0.35704\n",
      "epoch: 01, loss: -0.70001\n",
      "epoch: 02, loss: -0.81183\n",
      "epoch: 03, loss: -0.82131\n",
      "epoch: 04, loss: -0.84483\n",
      "epoch: 05, loss: -0.83672\n",
      "epoch: 06, loss: -0.82557\n",
      "epoch: 07, loss: -0.81791\n",
      "epoch: 08, loss: -0.83327\n",
      "epoch: 09, loss: -0.86157\n"
     ]
    },
    {
     "name": "stderr",
     "output_type": "stream",
     "text": [
      "  5%|▌         | 54/1000 [17:43<5:07:19, 19.49s/it]"
     ]
    },
    {
     "name": "stdout",
     "output_type": "stream",
     "text": [
      "eigenvalues shape torch.Size([5]) eigenvectors shape torch.Size([5, 450])\n",
      "54 /home/phdcs2/Hard_Disk/Datasets/Deep-Spectral-Segmentation/data/object-segmentation/ECSSD/features/dino_vits16/0055.pth\n",
      "dict_keys(['k', 'indices', 'file', 'id', 'model_name', 'patch_size', 'shape'])\n",
      "0055\n",
      "Starting Training\n",
      "epoch: 00, loss: -0.63330\n",
      "epoch: 01, loss: -0.75980\n",
      "epoch: 02, loss: -0.74458\n",
      "epoch: 03, loss: -0.71078\n",
      "epoch: 04, loss: -0.78375\n",
      "epoch: 05, loss: -0.82080\n",
      "epoch: 06, loss: -0.82608\n",
      "epoch: 07, loss: -0.84345\n",
      "epoch: 08, loss: -0.84387\n",
      "epoch: 09, loss: -0.85337\n"
     ]
    },
    {
     "name": "stderr",
     "output_type": "stream",
     "text": [
      "  6%|▌         | 55/1000 [18:01<5:01:14, 19.13s/it]"
     ]
    },
    {
     "name": "stdout",
     "output_type": "stream",
     "text": [
      "eigenvalues shape torch.Size([5]) eigenvectors shape torch.Size([5, 450])\n",
      "55 /home/phdcs2/Hard_Disk/Datasets/Deep-Spectral-Segmentation/data/object-segmentation/ECSSD/features/dino_vits16/0056.pth\n",
      "dict_keys(['k', 'indices', 'file', 'id', 'model_name', 'patch_size', 'shape'])\n",
      "0056\n",
      "Starting Training\n",
      "epoch: 00, loss: -0.38853\n",
      "epoch: 01, loss: -0.84645\n",
      "epoch: 02, loss: -0.87979\n",
      "epoch: 03, loss: -0.87583\n",
      "epoch: 04, loss: -0.86620\n",
      "epoch: 05, loss: -0.86819\n",
      "epoch: 06, loss: -0.87416\n",
      "epoch: 07, loss: -0.86623\n",
      "epoch: 08, loss: -0.88673\n",
      "epoch: 09, loss: -0.88025\n"
     ]
    },
    {
     "name": "stderr",
     "output_type": "stream",
     "text": [
      "  6%|▌         | 56/1000 [18:17<4:44:20, 18.07s/it]"
     ]
    },
    {
     "name": "stdout",
     "output_type": "stream",
     "text": [
      "eigenvalues shape torch.Size([5]) eigenvectors shape torch.Size([5, 400])\n",
      "56 /home/phdcs2/Hard_Disk/Datasets/Deep-Spectral-Segmentation/data/object-segmentation/ECSSD/features/dino_vits16/0057.pth\n",
      "dict_keys(['k', 'indices', 'file', 'id', 'model_name', 'patch_size', 'shape'])\n",
      "0057\n",
      "Starting Training\n",
      "epoch: 00, loss: -0.38532\n",
      "epoch: 01, loss: -0.64206\n",
      "epoch: 02, loss: -0.69802\n",
      "epoch: 03, loss: -0.69629\n",
      "epoch: 04, loss: -0.72336\n",
      "epoch: 05, loss: -0.72933\n",
      "epoch: 06, loss: -0.71871\n",
      "epoch: 07, loss: -0.75070\n",
      "epoch: 08, loss: -0.74803\n",
      "epoch: 09, loss: -0.77150\n"
     ]
    },
    {
     "name": "stderr",
     "output_type": "stream",
     "text": [
      "  6%|▌         | 57/1000 [18:34<4:39:54, 17.81s/it]"
     ]
    },
    {
     "name": "stdout",
     "output_type": "stream",
     "text": [
      "eigenvalues shape torch.Size([5]) eigenvectors shape torch.Size([5, 400])\n",
      "57 /home/phdcs2/Hard_Disk/Datasets/Deep-Spectral-Segmentation/data/object-segmentation/ECSSD/features/dino_vits16/0058.pth\n",
      "dict_keys(['k', 'indices', 'file', 'id', 'model_name', 'patch_size', 'shape'])\n",
      "0058\n",
      "Starting Training\n",
      "epoch: 00, loss: -0.48025\n",
      "epoch: 01, loss: -0.78648\n",
      "epoch: 02, loss: -0.81314\n",
      "epoch: 03, loss: -0.79055\n",
      "epoch: 04, loss: -0.75974\n",
      "epoch: 05, loss: -0.73195\n",
      "epoch: 06, loss: -0.76002\n",
      "epoch: 07, loss: -0.76713\n",
      "epoch: 08, loss: -0.78868\n",
      "epoch: 09, loss: -0.77488\n"
     ]
    },
    {
     "name": "stderr",
     "output_type": "stream",
     "text": [
      "  6%|▌         | 58/1000 [18:52<4:40:08, 17.84s/it]"
     ]
    },
    {
     "name": "stdout",
     "output_type": "stream",
     "text": [
      "eigenvalues shape torch.Size([5]) eigenvectors shape torch.Size([5, 425])\n",
      "58 /home/phdcs2/Hard_Disk/Datasets/Deep-Spectral-Segmentation/data/object-segmentation/ECSSD/features/dino_vits16/0059.pth\n",
      "dict_keys(['k', 'indices', 'file', 'id', 'model_name', 'patch_size', 'shape'])\n",
      "0059\n",
      "Starting Training\n",
      "epoch: 00, loss: -0.29244\n",
      "epoch: 01, loss: -0.71349\n",
      "epoch: 02, loss: -0.73108\n",
      "epoch: 03, loss: -0.75934\n",
      "epoch: 04, loss: -0.72832\n",
      "epoch: 05, loss: -0.75317\n",
      "epoch: 06, loss: -0.76137\n",
      "epoch: 07, loss: -0.75489\n",
      "epoch: 08, loss: -0.74377\n",
      "epoch: 09, loss: -0.76525\n"
     ]
    },
    {
     "name": "stderr",
     "output_type": "stream",
     "text": [
      "  6%|▌         | 59/1000 [19:12<4:51:45, 18.60s/it]"
     ]
    },
    {
     "name": "stdout",
     "output_type": "stream",
     "text": [
      "eigenvalues shape torch.Size([5]) eigenvectors shape torch.Size([5, 450])\n",
      "59 /home/phdcs2/Hard_Disk/Datasets/Deep-Spectral-Segmentation/data/object-segmentation/ECSSD/features/dino_vits16/0060.pth\n",
      "dict_keys(['k', 'indices', 'file', 'id', 'model_name', 'patch_size', 'shape'])\n",
      "0060\n",
      "Starting Training\n",
      "epoch: 00, loss: -0.34127\n",
      "epoch: 01, loss: -0.62658\n",
      "epoch: 02, loss: -0.61422\n",
      "epoch: 03, loss: -0.58965\n",
      "epoch: 04, loss: -0.64814\n",
      "epoch: 05, loss: -0.67249\n",
      "epoch: 06, loss: -0.70241\n",
      "epoch: 07, loss: -0.73983\n",
      "epoch: 08, loss: -0.75569\n",
      "epoch: 09, loss: -0.77039\n"
     ]
    },
    {
     "name": "stderr",
     "output_type": "stream",
     "text": [
      "  6%|▌         | 60/1000 [19:30<4:49:21, 18.47s/it]"
     ]
    },
    {
     "name": "stdout",
     "output_type": "stream",
     "text": [
      "eigenvalues shape torch.Size([5]) eigenvectors shape torch.Size([5, 400])\n",
      "60 /home/phdcs2/Hard_Disk/Datasets/Deep-Spectral-Segmentation/data/object-segmentation/ECSSD/features/dino_vits16/0061.pth\n",
      "dict_keys(['k', 'indices', 'file', 'id', 'model_name', 'patch_size', 'shape'])\n",
      "0061\n",
      "Starting Training\n",
      "epoch: 00, loss: -0.61032\n",
      "epoch: 01, loss: -0.89217\n",
      "epoch: 02, loss: -0.90331\n",
      "epoch: 03, loss: -0.90373\n",
      "epoch: 04, loss: -0.87854\n",
      "epoch: 05, loss: -0.87851\n",
      "epoch: 06, loss: -0.88943\n",
      "epoch: 07, loss: -0.87552\n",
      "epoch: 08, loss: -0.87294\n",
      "epoch: 09, loss: -0.87503\n"
     ]
    },
    {
     "name": "stderr",
     "output_type": "stream",
     "text": [
      "  6%|▌         | 61/1000 [19:48<4:43:04, 18.09s/it]"
     ]
    },
    {
     "name": "stdout",
     "output_type": "stream",
     "text": [
      "eigenvalues shape torch.Size([5]) eigenvectors shape torch.Size([5, 425])\n",
      "61 /home/phdcs2/Hard_Disk/Datasets/Deep-Spectral-Segmentation/data/object-segmentation/ECSSD/features/dino_vits16/0062.pth\n",
      "dict_keys(['k', 'indices', 'file', 'id', 'model_name', 'patch_size', 'shape'])\n",
      "0062\n",
      "Starting Training\n",
      "epoch: 00, loss: -0.32144\n",
      "epoch: 01, loss: -0.59863\n",
      "epoch: 02, loss: -0.63926\n",
      "epoch: 03, loss: -0.63709\n",
      "epoch: 04, loss: -0.66273\n",
      "epoch: 05, loss: -0.69443\n",
      "epoch: 06, loss: -0.72184\n",
      "epoch: 07, loss: -0.73040\n",
      "epoch: 08, loss: -0.75606\n",
      "epoch: 09, loss: -0.77201\n"
     ]
    },
    {
     "name": "stderr",
     "output_type": "stream",
     "text": [
      "  6%|▌         | 62/1000 [20:06<4:45:02, 18.23s/it]"
     ]
    },
    {
     "name": "stdout",
     "output_type": "stream",
     "text": [
      "eigenvalues shape torch.Size([5]) eigenvectors shape torch.Size([5, 425])\n",
      "62 /home/phdcs2/Hard_Disk/Datasets/Deep-Spectral-Segmentation/data/object-segmentation/ECSSD/features/dino_vits16/0063.pth\n",
      "dict_keys(['k', 'indices', 'file', 'id', 'model_name', 'patch_size', 'shape'])\n",
      "0063\n",
      "Starting Training\n",
      "epoch: 00, loss: -0.30331\n",
      "epoch: 01, loss: -0.55565\n",
      "epoch: 02, loss: -0.62464\n",
      "epoch: 03, loss: -0.66608\n",
      "epoch: 04, loss: -0.65688\n",
      "epoch: 05, loss: -0.68541\n",
      "epoch: 06, loss: -0.70199\n",
      "epoch: 07, loss: -0.71391\n",
      "epoch: 08, loss: -0.70787\n",
      "epoch: 09, loss: -0.72291\n"
     ]
    },
    {
     "name": "stderr",
     "output_type": "stream",
     "text": [
      "  6%|▋         | 63/1000 [20:24<4:44:28, 18.22s/it]"
     ]
    },
    {
     "name": "stdout",
     "output_type": "stream",
     "text": [
      "eigenvalues shape torch.Size([5]) eigenvectors shape torch.Size([5, 400])\n",
      "63 /home/phdcs2/Hard_Disk/Datasets/Deep-Spectral-Segmentation/data/object-segmentation/ECSSD/features/dino_vits16/0064.pth\n",
      "dict_keys(['k', 'indices', 'file', 'id', 'model_name', 'patch_size', 'shape'])\n",
      "0064\n",
      "Starting Training\n",
      "epoch: 00, loss: -0.37766\n",
      "epoch: 01, loss: -0.71821\n",
      "epoch: 02, loss: -0.72203\n",
      "epoch: 03, loss: -0.73183\n",
      "epoch: 04, loss: -0.75849\n",
      "epoch: 05, loss: -0.75646\n",
      "epoch: 06, loss: -0.75758\n",
      "epoch: 07, loss: -0.79204\n",
      "epoch: 08, loss: -0.79203\n",
      "epoch: 09, loss: -0.79146\n"
     ]
    },
    {
     "name": "stderr",
     "output_type": "stream",
     "text": [
      "  6%|▋         | 64/1000 [20:45<4:53:37, 18.82s/it]"
     ]
    },
    {
     "name": "stdout",
     "output_type": "stream",
     "text": [
      "eigenvalues shape torch.Size([5]) eigenvectors shape torch.Size([5, 400])\n",
      "64 /home/phdcs2/Hard_Disk/Datasets/Deep-Spectral-Segmentation/data/object-segmentation/ECSSD/features/dino_vits16/0065.pth\n",
      "dict_keys(['k', 'indices', 'file', 'id', 'model_name', 'patch_size', 'shape'])\n",
      "0065\n",
      "Starting Training\n",
      "epoch: 00, loss: -0.63124\n",
      "epoch: 01, loss: -0.89054\n",
      "epoch: 02, loss: -0.85009\n",
      "epoch: 03, loss: -0.86045\n",
      "epoch: 04, loss: -0.80734\n",
      "epoch: 05, loss: -0.81438\n",
      "epoch: 06, loss: -0.82091\n",
      "epoch: 07, loss: -0.82195\n",
      "epoch: 08, loss: -0.84286\n",
      "epoch: 09, loss: -0.83583\n"
     ]
    },
    {
     "name": "stderr",
     "output_type": "stream",
     "text": [
      "  6%|▋         | 65/1000 [21:04<4:53:34, 18.84s/it]"
     ]
    },
    {
     "name": "stdout",
     "output_type": "stream",
     "text": [
      "eigenvalues shape torch.Size([5]) eigenvectors shape torch.Size([5, 450])\n",
      "65 /home/phdcs2/Hard_Disk/Datasets/Deep-Spectral-Segmentation/data/object-segmentation/ECSSD/features/dino_vits16/0066.pth\n",
      "dict_keys(['k', 'indices', 'file', 'id', 'model_name', 'patch_size', 'shape'])\n",
      "0066\n",
      "Starting Training\n",
      "epoch: 00, loss: -0.50853\n",
      "epoch: 01, loss: -0.74950\n",
      "epoch: 02, loss: -0.75620\n",
      "epoch: 03, loss: -0.79373\n",
      "epoch: 04, loss: -0.79757\n",
      "epoch: 05, loss: -0.79231\n",
      "epoch: 06, loss: -0.80396\n",
      "epoch: 07, loss: -0.80863\n",
      "epoch: 08, loss: -0.82243\n",
      "epoch: 09, loss: -0.82626\n"
     ]
    },
    {
     "name": "stderr",
     "output_type": "stream",
     "text": [
      "  7%|▋         | 66/1000 [21:21<4:45:13, 18.32s/it]"
     ]
    },
    {
     "name": "stdout",
     "output_type": "stream",
     "text": [
      "eigenvalues shape torch.Size([5]) eigenvectors shape torch.Size([5, 400])\n",
      "66 /home/phdcs2/Hard_Disk/Datasets/Deep-Spectral-Segmentation/data/object-segmentation/ECSSD/features/dino_vits16/0067.pth\n",
      "dict_keys(['k', 'indices', 'file', 'id', 'model_name', 'patch_size', 'shape'])\n",
      "0067\n",
      "Starting Training\n",
      "epoch: 00, loss: -0.43578\n",
      "epoch: 01, loss: -0.68024\n",
      "epoch: 02, loss: -0.68903\n",
      "epoch: 03, loss: -0.76106\n",
      "epoch: 04, loss: -0.75615\n",
      "epoch: 05, loss: -0.76347\n",
      "epoch: 06, loss: -0.76567\n",
      "epoch: 07, loss: -0.77480\n",
      "epoch: 08, loss: -0.74374\n",
      "epoch: 09, loss: -0.70764\n"
     ]
    },
    {
     "name": "stderr",
     "output_type": "stream",
     "text": [
      "  7%|▋         | 67/1000 [21:36<4:30:32, 17.40s/it]"
     ]
    },
    {
     "name": "stdout",
     "output_type": "stream",
     "text": [
      "eigenvalues shape torch.Size([5]) eigenvectors shape torch.Size([5, 350])\n",
      "67 /home/phdcs2/Hard_Disk/Datasets/Deep-Spectral-Segmentation/data/object-segmentation/ECSSD/features/dino_vits16/0068.pth\n",
      "dict_keys(['k', 'indices', 'file', 'id', 'model_name', 'patch_size', 'shape'])\n",
      "0068\n",
      "Starting Training\n",
      "epoch: 00, loss: -0.71259\n",
      "epoch: 01, loss: -0.88482\n",
      "epoch: 02, loss: -0.90321\n",
      "epoch: 03, loss: -0.88063\n",
      "epoch: 04, loss: -0.87475\n",
      "epoch: 05, loss: -0.88515\n",
      "epoch: 06, loss: -0.88447\n",
      "epoch: 07, loss: -0.87681\n",
      "epoch: 08, loss: -0.88835\n",
      "epoch: 09, loss: -0.89233\n"
     ]
    },
    {
     "name": "stderr",
     "output_type": "stream",
     "text": [
      "  7%|▋         | 68/1000 [21:58<4:54:35, 18.97s/it]"
     ]
    },
    {
     "name": "stdout",
     "output_type": "stream",
     "text": [
      "eigenvalues shape torch.Size([5]) eigenvectors shape torch.Size([5, 525])\n",
      "68 /home/phdcs2/Hard_Disk/Datasets/Deep-Spectral-Segmentation/data/object-segmentation/ECSSD/features/dino_vits16/0069.pth\n",
      "dict_keys(['k', 'indices', 'file', 'id', 'model_name', 'patch_size', 'shape'])\n",
      "0069\n",
      "Starting Training\n",
      "epoch: 00, loss: -0.71510\n",
      "epoch: 01, loss: -0.94790\n",
      "epoch: 02, loss: -0.93814\n",
      "epoch: 03, loss: -0.92344\n",
      "epoch: 04, loss: -0.93594\n",
      "epoch: 05, loss: -0.93047\n",
      "epoch: 06, loss: -0.93458\n",
      "epoch: 07, loss: -0.93644\n",
      "epoch: 08, loss: -0.92879\n",
      "epoch: 09, loss: -0.93892\n"
     ]
    },
    {
     "name": "stderr",
     "output_type": "stream",
     "text": [
      "  7%|▋         | 69/1000 [22:16<4:45:50, 18.42s/it]"
     ]
    },
    {
     "name": "stdout",
     "output_type": "stream",
     "text": [
      "eigenvalues shape torch.Size([5]) eigenvectors shape torch.Size([5, 425])\n",
      "69 /home/phdcs2/Hard_Disk/Datasets/Deep-Spectral-Segmentation/data/object-segmentation/ECSSD/features/dino_vits16/0070.pth\n",
      "dict_keys(['k', 'indices', 'file', 'id', 'model_name', 'patch_size', 'shape'])\n",
      "0070\n",
      "Starting Training\n",
      "epoch: 00, loss: -0.50033\n",
      "epoch: 01, loss: -0.64423\n",
      "epoch: 02, loss: -0.65089\n",
      "epoch: 03, loss: -0.68905\n",
      "epoch: 04, loss: -0.73768\n",
      "epoch: 05, loss: -0.75522\n",
      "epoch: 06, loss: -0.75463\n",
      "epoch: 07, loss: -0.76551\n",
      "epoch: 08, loss: -0.78073\n",
      "epoch: 09, loss: -0.79187\n"
     ]
    },
    {
     "name": "stderr",
     "output_type": "stream",
     "text": [
      "  7%|▋         | 70/1000 [22:39<5:08:55, 19.93s/it]"
     ]
    },
    {
     "name": "stdout",
     "output_type": "stream",
     "text": [
      "eigenvalues shape torch.Size([5]) eigenvectors shape torch.Size([5, 500])\n",
      "70 /home/phdcs2/Hard_Disk/Datasets/Deep-Spectral-Segmentation/data/object-segmentation/ECSSD/features/dino_vits16/0071.pth\n",
      "dict_keys(['k', 'indices', 'file', 'id', 'model_name', 'patch_size', 'shape'])\n",
      "0071\n",
      "Starting Training\n",
      "epoch: 00, loss: -0.36815\n",
      "epoch: 01, loss: -0.67922\n",
      "epoch: 02, loss: -0.73639\n",
      "epoch: 03, loss: -0.72658\n",
      "epoch: 04, loss: -0.77005\n",
      "epoch: 05, loss: -0.79468\n",
      "epoch: 06, loss: -0.81081\n",
      "epoch: 07, loss: -0.80650\n",
      "epoch: 08, loss: -0.81776\n",
      "epoch: 09, loss: -0.82628\n"
     ]
    },
    {
     "name": "stderr",
     "output_type": "stream",
     "text": [
      "  7%|▋         | 71/1000 [22:59<5:07:32, 19.86s/it]"
     ]
    },
    {
     "name": "stdout",
     "output_type": "stream",
     "text": [
      "eigenvalues shape torch.Size([5]) eigenvectors shape torch.Size([5, 450])\n",
      "71 /home/phdcs2/Hard_Disk/Datasets/Deep-Spectral-Segmentation/data/object-segmentation/ECSSD/features/dino_vits16/0072.pth\n",
      "dict_keys(['k', 'indices', 'file', 'id', 'model_name', 'patch_size', 'shape'])\n",
      "0072\n",
      "Starting Training\n",
      "epoch: 00, loss: -0.38888\n",
      "epoch: 01, loss: -0.72346\n",
      "epoch: 02, loss: -0.78227\n",
      "epoch: 03, loss: -0.83341\n",
      "epoch: 04, loss: -0.85531\n",
      "epoch: 05, loss: -0.87001\n",
      "epoch: 06, loss: -0.88185\n",
      "epoch: 07, loss: -0.88009\n",
      "epoch: 08, loss: -0.87426\n",
      "epoch: 09, loss: -0.89302\n"
     ]
    },
    {
     "name": "stderr",
     "output_type": "stream",
     "text": [
      "  7%|▋         | 72/1000 [23:17<4:58:55, 19.33s/it]"
     ]
    },
    {
     "name": "stdout",
     "output_type": "stream",
     "text": [
      "eigenvalues shape torch.Size([5]) eigenvectors shape torch.Size([5, 400])\n",
      "72 /home/phdcs2/Hard_Disk/Datasets/Deep-Spectral-Segmentation/data/object-segmentation/ECSSD/features/dino_vits16/0073.pth\n",
      "dict_keys(['k', 'indices', 'file', 'id', 'model_name', 'patch_size', 'shape'])\n",
      "0073\n",
      "Starting Training\n",
      "epoch: 00, loss: -0.41400\n",
      "epoch: 01, loss: -0.69644\n",
      "epoch: 02, loss: -0.72718\n",
      "epoch: 03, loss: -0.79922\n",
      "epoch: 04, loss: -0.79519\n",
      "epoch: 05, loss: -0.79765\n",
      "epoch: 06, loss: -0.80522\n",
      "epoch: 07, loss: -0.80429\n",
      "epoch: 08, loss: -0.82025\n",
      "epoch: 09, loss: -0.83693\n"
     ]
    },
    {
     "name": "stderr",
     "output_type": "stream",
     "text": [
      "  7%|▋         | 73/1000 [23:35<4:51:51, 18.89s/it]"
     ]
    },
    {
     "name": "stdout",
     "output_type": "stream",
     "text": [
      "eigenvalues shape torch.Size([5]) eigenvectors shape torch.Size([5, 450])\n",
      "73 /home/phdcs2/Hard_Disk/Datasets/Deep-Spectral-Segmentation/data/object-segmentation/ECSSD/features/dino_vits16/0074.pth\n",
      "dict_keys(['k', 'indices', 'file', 'id', 'model_name', 'patch_size', 'shape'])\n",
      "0074\n",
      "Starting Training\n",
      "epoch: 00, loss: -0.47267\n",
      "epoch: 01, loss: -0.80244\n",
      "epoch: 02, loss: -0.76845\n",
      "epoch: 03, loss: -0.80660\n",
      "epoch: 04, loss: -0.80874\n",
      "epoch: 05, loss: -0.81970\n",
      "epoch: 06, loss: -0.83213\n",
      "epoch: 07, loss: -0.84089\n",
      "epoch: 08, loss: -0.86730\n",
      "epoch: 09, loss: -0.86392\n"
     ]
    },
    {
     "name": "stderr",
     "output_type": "stream",
     "text": [
      "  7%|▋         | 74/1000 [23:55<4:56:13, 19.19s/it]"
     ]
    },
    {
     "name": "stdout",
     "output_type": "stream",
     "text": [
      "eigenvalues shape torch.Size([5]) eigenvectors shape torch.Size([5, 450])\n",
      "74 /home/phdcs2/Hard_Disk/Datasets/Deep-Spectral-Segmentation/data/object-segmentation/ECSSD/features/dino_vits16/0075.pth\n",
      "dict_keys(['k', 'indices', 'file', 'id', 'model_name', 'patch_size', 'shape'])\n",
      "0075\n",
      "Starting Training\n",
      "epoch: 00, loss: -0.40646\n",
      "epoch: 01, loss: -0.75930\n",
      "epoch: 02, loss: -0.79259\n",
      "epoch: 03, loss: -0.79097\n",
      "epoch: 04, loss: -0.80167\n",
      "epoch: 05, loss: -0.81881\n",
      "epoch: 06, loss: -0.80857\n",
      "epoch: 07, loss: -0.83007\n",
      "epoch: 08, loss: -0.84062\n",
      "epoch: 09, loss: -0.84428\n"
     ]
    },
    {
     "name": "stderr",
     "output_type": "stream",
     "text": [
      "  8%|▊         | 75/1000 [24:16<5:03:38, 19.70s/it]"
     ]
    },
    {
     "name": "stdout",
     "output_type": "stream",
     "text": [
      "eigenvalues shape torch.Size([5]) eigenvectors shape torch.Size([5, 450])\n",
      "75 /home/phdcs2/Hard_Disk/Datasets/Deep-Spectral-Segmentation/data/object-segmentation/ECSSD/features/dino_vits16/0076.pth\n",
      "dict_keys(['k', 'indices', 'file', 'id', 'model_name', 'patch_size', 'shape'])\n",
      "0076\n",
      "Starting Training\n",
      "epoch: 00, loss: -0.35323\n",
      "epoch: 01, loss: -0.62711\n",
      "epoch: 02, loss: -0.71973\n",
      "epoch: 03, loss: -0.73696\n",
      "epoch: 04, loss: -0.64747\n",
      "epoch: 05, loss: -0.65309\n",
      "epoch: 06, loss: -0.69286\n",
      "epoch: 07, loss: -0.73793\n",
      "epoch: 08, loss: -0.74129\n",
      "epoch: 09, loss: -0.74913\n"
     ]
    },
    {
     "name": "stderr",
     "output_type": "stream",
     "text": [
      "  8%|▊         | 76/1000 [24:33<4:52:28, 18.99s/it]"
     ]
    },
    {
     "name": "stdout",
     "output_type": "stream",
     "text": [
      "eigenvalues shape torch.Size([5]) eigenvectors shape torch.Size([5, 400])\n",
      "76 /home/phdcs2/Hard_Disk/Datasets/Deep-Spectral-Segmentation/data/object-segmentation/ECSSD/features/dino_vits16/0077.pth\n",
      "dict_keys(['k', 'indices', 'file', 'id', 'model_name', 'patch_size', 'shape'])\n",
      "0077\n",
      "Starting Training\n",
      "epoch: 00, loss: -0.56843\n",
      "epoch: 01, loss: -0.84091\n",
      "epoch: 02, loss: -0.76264\n",
      "epoch: 03, loss: -0.73862\n",
      "epoch: 04, loss: -0.75717\n",
      "epoch: 05, loss: -0.79758\n",
      "epoch: 06, loss: -0.81617\n",
      "epoch: 07, loss: -0.83990\n",
      "epoch: 08, loss: -0.86140\n",
      "epoch: 09, loss: -0.84491\n"
     ]
    },
    {
     "name": "stderr",
     "output_type": "stream",
     "text": [
      "  8%|▊         | 77/1000 [24:53<4:55:31, 19.21s/it]"
     ]
    },
    {
     "name": "stdout",
     "output_type": "stream",
     "text": [
      "eigenvalues shape torch.Size([5]) eigenvectors shape torch.Size([5, 450])\n",
      "77 /home/phdcs2/Hard_Disk/Datasets/Deep-Spectral-Segmentation/data/object-segmentation/ECSSD/features/dino_vits16/0078.pth\n",
      "dict_keys(['k', 'indices', 'file', 'id', 'model_name', 'patch_size', 'shape'])\n",
      "0078\n",
      "Starting Training\n",
      "epoch: 00, loss: -0.62836\n",
      "epoch: 01, loss: -0.86513\n",
      "epoch: 02, loss: -0.88026\n",
      "epoch: 03, loss: -0.87219\n",
      "epoch: 04, loss: -0.86095\n",
      "epoch: 05, loss: -0.85689\n",
      "epoch: 06, loss: -0.87360\n",
      "epoch: 07, loss: -0.87382\n",
      "epoch: 08, loss: -0.85533\n",
      "epoch: 09, loss: -0.85059\n"
     ]
    },
    {
     "name": "stderr",
     "output_type": "stream",
     "text": [
      "  8%|▊         | 78/1000 [25:09<4:41:47, 18.34s/it]"
     ]
    },
    {
     "name": "stdout",
     "output_type": "stream",
     "text": [
      "eigenvalues shape torch.Size([5]) eigenvectors shape torch.Size([5, 400])\n",
      "78 /home/phdcs2/Hard_Disk/Datasets/Deep-Spectral-Segmentation/data/object-segmentation/ECSSD/features/dino_vits16/0079.pth\n",
      "dict_keys(['k', 'indices', 'file', 'id', 'model_name', 'patch_size', 'shape'])\n",
      "0079\n",
      "Starting Training\n",
      "epoch: 00, loss: -0.52797\n",
      "epoch: 01, loss: -0.81649\n",
      "epoch: 02, loss: -0.82780\n",
      "epoch: 03, loss: -0.79301\n",
      "epoch: 04, loss: -0.78458\n",
      "epoch: 05, loss: -0.79114\n",
      "epoch: 06, loss: -0.82353\n",
      "epoch: 07, loss: -0.81783\n",
      "epoch: 08, loss: -0.80703\n",
      "epoch: 09, loss: -0.81800\n"
     ]
    },
    {
     "name": "stderr",
     "output_type": "stream",
     "text": [
      "  8%|▊         | 79/1000 [25:31<4:58:16, 19.43s/it]"
     ]
    },
    {
     "name": "stdout",
     "output_type": "stream",
     "text": [
      "eigenvalues shape torch.Size([5]) eigenvectors shape torch.Size([5, 525])\n",
      "79 /home/phdcs2/Hard_Disk/Datasets/Deep-Spectral-Segmentation/data/object-segmentation/ECSSD/features/dino_vits16/0080.pth\n",
      "dict_keys(['k', 'indices', 'file', 'id', 'model_name', 'patch_size', 'shape'])\n",
      "0080\n",
      "Starting Training\n",
      "epoch: 00, loss: -0.43696\n",
      "epoch: 01, loss: -0.69427\n",
      "epoch: 02, loss: -0.69912\n",
      "epoch: 03, loss: -0.72875\n",
      "epoch: 04, loss: -0.74606\n",
      "epoch: 05, loss: -0.78773\n",
      "epoch: 06, loss: -0.79642\n",
      "epoch: 07, loss: -0.77957\n",
      "epoch: 08, loss: -0.80339\n",
      "epoch: 09, loss: -0.81442\n"
     ]
    },
    {
     "name": "stderr",
     "output_type": "stream",
     "text": [
      "  8%|▊         | 80/1000 [25:55<5:18:08, 20.75s/it]"
     ]
    },
    {
     "name": "stdout",
     "output_type": "stream",
     "text": [
      "eigenvalues shape torch.Size([5]) eigenvectors shape torch.Size([5, 450])\n",
      "80 /home/phdcs2/Hard_Disk/Datasets/Deep-Spectral-Segmentation/data/object-segmentation/ECSSD/features/dino_vits16/0081.pth\n",
      "dict_keys(['k', 'indices', 'file', 'id', 'model_name', 'patch_size', 'shape'])\n",
      "0081\n",
      "Starting Training\n",
      "epoch: 00, loss: -0.28524\n",
      "epoch: 01, loss: -0.72910\n",
      "epoch: 02, loss: -0.79082\n",
      "epoch: 03, loss: -0.81740\n",
      "epoch: 04, loss: -0.84465\n",
      "epoch: 05, loss: -0.83843\n",
      "epoch: 06, loss: -0.85597\n",
      "epoch: 07, loss: -0.84993\n",
      "epoch: 08, loss: -0.86719\n",
      "epoch: 09, loss: -0.84419\n"
     ]
    },
    {
     "name": "stderr",
     "output_type": "stream",
     "text": [
      "  8%|▊         | 81/1000 [26:14<5:10:23, 20.27s/it]"
     ]
    },
    {
     "name": "stdout",
     "output_type": "stream",
     "text": [
      "eigenvalues shape torch.Size([5]) eigenvectors shape torch.Size([5, 450])\n",
      "81 /home/phdcs2/Hard_Disk/Datasets/Deep-Spectral-Segmentation/data/object-segmentation/ECSSD/features/dino_vits16/0082.pth\n",
      "dict_keys(['k', 'indices', 'file', 'id', 'model_name', 'patch_size', 'shape'])\n",
      "0082\n",
      "Starting Training\n",
      "epoch: 00, loss: -0.34340\n",
      "epoch: 01, loss: -0.72260\n",
      "epoch: 02, loss: -0.85326\n",
      "epoch: 03, loss: -0.90050\n",
      "epoch: 04, loss: -0.89141\n",
      "epoch: 05, loss: -0.87415\n",
      "epoch: 06, loss: -0.88438\n",
      "epoch: 07, loss: -0.87342\n",
      "epoch: 08, loss: -0.87677\n",
      "epoch: 09, loss: -0.87141\n"
     ]
    },
    {
     "name": "stderr",
     "output_type": "stream",
     "text": [
      "  8%|▊         | 82/1000 [26:33<5:04:49, 19.92s/it]"
     ]
    },
    {
     "name": "stdout",
     "output_type": "stream",
     "text": [
      "eigenvalues shape torch.Size([5]) eigenvectors shape torch.Size([5, 450])\n",
      "82 /home/phdcs2/Hard_Disk/Datasets/Deep-Spectral-Segmentation/data/object-segmentation/ECSSD/features/dino_vits16/0083.pth\n",
      "dict_keys(['k', 'indices', 'file', 'id', 'model_name', 'patch_size', 'shape'])\n",
      "0083\n",
      "Starting Training\n",
      "epoch: 00, loss: -0.43047\n",
      "epoch: 01, loss: -0.91412\n",
      "epoch: 02, loss: -0.93939\n",
      "epoch: 03, loss: -0.92603\n",
      "epoch: 04, loss: -0.92903\n",
      "epoch: 05, loss: -0.95149\n",
      "epoch: 06, loss: -0.93686\n",
      "epoch: 07, loss: -0.93016\n",
      "epoch: 08, loss: -0.93241\n",
      "epoch: 09, loss: -0.93373\n"
     ]
    },
    {
     "name": "stderr",
     "output_type": "stream",
     "text": [
      "  8%|▊         | 83/1000 [26:52<5:01:21, 19.72s/it]"
     ]
    },
    {
     "name": "stdout",
     "output_type": "stream",
     "text": [
      "eigenvalues shape torch.Size([5]) eigenvectors shape torch.Size([5, 450])\n",
      "83 /home/phdcs2/Hard_Disk/Datasets/Deep-Spectral-Segmentation/data/object-segmentation/ECSSD/features/dino_vits16/0084.pth\n",
      "dict_keys(['k', 'indices', 'file', 'id', 'model_name', 'patch_size', 'shape'])\n",
      "0084\n",
      "Starting Training\n",
      "epoch: 00, loss: -0.42554\n",
      "epoch: 01, loss: -0.69400\n",
      "epoch: 02, loss: -0.71597\n",
      "epoch: 03, loss: -0.73682\n",
      "epoch: 04, loss: -0.73741\n",
      "epoch: 05, loss: -0.74972\n",
      "epoch: 06, loss: -0.77519\n",
      "epoch: 07, loss: -0.78243\n",
      "epoch: 08, loss: -0.78299\n",
      "epoch: 09, loss: -0.78394\n"
     ]
    },
    {
     "name": "stderr",
     "output_type": "stream",
     "text": [
      "  8%|▊         | 84/1000 [27:14<5:11:41, 20.42s/it]"
     ]
    },
    {
     "name": "stdout",
     "output_type": "stream",
     "text": [
      "eigenvalues shape torch.Size([5]) eigenvectors shape torch.Size([5, 450])\n",
      "84 /home/phdcs2/Hard_Disk/Datasets/Deep-Spectral-Segmentation/data/object-segmentation/ECSSD/features/dino_vits16/0085.pth\n",
      "dict_keys(['k', 'indices', 'file', 'id', 'model_name', 'patch_size', 'shape'])\n",
      "0085\n",
      "Starting Training\n",
      "epoch: 00, loss: -0.60193\n",
      "epoch: 01, loss: -0.81264\n",
      "epoch: 02, loss: -0.78607\n",
      "epoch: 03, loss: -0.78116\n",
      "epoch: 04, loss: -0.79794\n",
      "epoch: 05, loss: -0.79997\n",
      "epoch: 06, loss: -0.79306\n",
      "epoch: 07, loss: -0.79335\n",
      "epoch: 08, loss: -0.83495\n",
      "epoch: 09, loss: -0.83547\n"
     ]
    },
    {
     "name": "stderr",
     "output_type": "stream",
     "text": [
      "  8%|▊         | 85/1000 [27:33<5:05:55, 20.06s/it]"
     ]
    },
    {
     "name": "stdout",
     "output_type": "stream",
     "text": [
      "eigenvalues shape torch.Size([5]) eigenvectors shape torch.Size([5, 450])\n",
      "85 /home/phdcs2/Hard_Disk/Datasets/Deep-Spectral-Segmentation/data/object-segmentation/ECSSD/features/dino_vits16/0086.pth\n",
      "dict_keys(['k', 'indices', 'file', 'id', 'model_name', 'patch_size', 'shape'])\n",
      "0086\n",
      "Starting Training\n",
      "epoch: 00, loss: -0.30243\n",
      "epoch: 01, loss: -0.72735\n",
      "epoch: 02, loss: -0.77676\n",
      "epoch: 03, loss: -0.77813\n",
      "epoch: 04, loss: -0.78840\n",
      "epoch: 05, loss: -0.73109\n",
      "epoch: 06, loss: -0.68233\n",
      "epoch: 07, loss: -0.71458\n",
      "epoch: 08, loss: -0.73841\n",
      "epoch: 09, loss: -0.74982\n"
     ]
    },
    {
     "name": "stderr",
     "output_type": "stream",
     "text": [
      "  9%|▊         | 86/1000 [27:54<5:06:53, 20.15s/it]"
     ]
    },
    {
     "name": "stdout",
     "output_type": "stream",
     "text": [
      "eigenvalues shape torch.Size([5]) eigenvectors shape torch.Size([5, 450])\n",
      "86 /home/phdcs2/Hard_Disk/Datasets/Deep-Spectral-Segmentation/data/object-segmentation/ECSSD/features/dino_vits16/0087.pth\n",
      "dict_keys(['k', 'indices', 'file', 'id', 'model_name', 'patch_size', 'shape'])\n",
      "0087\n",
      "Starting Training\n",
      "epoch: 00, loss: -0.53988\n",
      "epoch: 01, loss: -0.65555\n",
      "epoch: 02, loss: -0.69465\n",
      "epoch: 03, loss: -0.72221\n",
      "epoch: 04, loss: -0.75751\n",
      "epoch: 05, loss: -0.73204\n",
      "epoch: 06, loss: -0.77367\n",
      "epoch: 07, loss: -0.77338\n",
      "epoch: 08, loss: -0.77520\n",
      "epoch: 09, loss: -0.80583\n"
     ]
    },
    {
     "name": "stderr",
     "output_type": "stream",
     "text": [
      "  9%|▊         | 87/1000 [28:14<5:05:33, 20.08s/it]"
     ]
    },
    {
     "name": "stdout",
     "output_type": "stream",
     "text": [
      "eigenvalues shape torch.Size([5]) eigenvectors shape torch.Size([5, 450])\n",
      "87 /home/phdcs2/Hard_Disk/Datasets/Deep-Spectral-Segmentation/data/object-segmentation/ECSSD/features/dino_vits16/0088.pth\n",
      "dict_keys(['k', 'indices', 'file', 'id', 'model_name', 'patch_size', 'shape'])\n",
      "0088\n",
      "Starting Training\n",
      "epoch: 00, loss: -0.63401\n",
      "epoch: 01, loss: -0.92625\n",
      "epoch: 02, loss: -0.88930\n",
      "epoch: 03, loss: -0.91835\n",
      "epoch: 04, loss: -0.93138\n",
      "epoch: 05, loss: -0.91429\n",
      "epoch: 06, loss: -0.92057\n",
      "epoch: 07, loss: -0.91889\n",
      "epoch: 08, loss: -0.91246\n",
      "epoch: 09, loss: -0.90926\n"
     ]
    },
    {
     "name": "stderr",
     "output_type": "stream",
     "text": [
      "  9%|▉         | 88/1000 [28:34<5:06:48, 20.18s/it]"
     ]
    },
    {
     "name": "stdout",
     "output_type": "stream",
     "text": [
      "eigenvalues shape torch.Size([5]) eigenvectors shape torch.Size([5, 450])\n",
      "88 /home/phdcs2/Hard_Disk/Datasets/Deep-Spectral-Segmentation/data/object-segmentation/ECSSD/features/dino_vits16/0089.pth\n",
      "dict_keys(['k', 'indices', 'file', 'id', 'model_name', 'patch_size', 'shape'])\n",
      "0089\n",
      "Starting Training\n",
      "epoch: 00, loss: -0.47878\n",
      "epoch: 01, loss: -0.80587\n",
      "epoch: 02, loss: -0.82752\n",
      "epoch: 03, loss: -0.84968\n",
      "epoch: 04, loss: -0.84740\n",
      "epoch: 05, loss: -0.83782\n",
      "epoch: 06, loss: -0.83183\n",
      "epoch: 07, loss: -0.81937\n",
      "epoch: 08, loss: -0.84453\n",
      "epoch: 09, loss: -0.82824\n"
     ]
    },
    {
     "name": "stderr",
     "output_type": "stream",
     "text": [
      "  9%|▉         | 89/1000 [28:52<4:54:29, 19.40s/it]"
     ]
    },
    {
     "name": "stdout",
     "output_type": "stream",
     "text": [
      "eigenvalues shape torch.Size([5]) eigenvectors shape torch.Size([5, 400])\n",
      "89 /home/phdcs2/Hard_Disk/Datasets/Deep-Spectral-Segmentation/data/object-segmentation/ECSSD/features/dino_vits16/0090.pth\n",
      "dict_keys(['k', 'indices', 'file', 'id', 'model_name', 'patch_size', 'shape'])\n",
      "0090\n",
      "Starting Training\n",
      "epoch: 00, loss: -0.42004\n",
      "epoch: 01, loss: -0.71931\n",
      "epoch: 02, loss: -0.74546\n",
      "epoch: 03, loss: -0.78614\n",
      "epoch: 04, loss: -0.82759\n",
      "epoch: 05, loss: -0.83774\n",
      "epoch: 06, loss: -0.87166\n",
      "epoch: 07, loss: -0.87727\n",
      "epoch: 08, loss: -0.87997\n",
      "epoch: 09, loss: -0.89397\n"
     ]
    },
    {
     "name": "stderr",
     "output_type": "stream",
     "text": [
      "  9%|▉         | 90/1000 [29:10<4:50:40, 19.17s/it]"
     ]
    },
    {
     "name": "stdout",
     "output_type": "stream",
     "text": [
      "eigenvalues shape torch.Size([5]) eigenvectors shape torch.Size([5, 400])\n",
      "90 /home/phdcs2/Hard_Disk/Datasets/Deep-Spectral-Segmentation/data/object-segmentation/ECSSD/features/dino_vits16/0091.pth\n",
      "dict_keys(['k', 'indices', 'file', 'id', 'model_name', 'patch_size', 'shape'])\n",
      "0091\n",
      "Starting Training\n",
      "epoch: 00, loss: -0.43320\n",
      "epoch: 01, loss: -0.75073\n",
      "epoch: 02, loss: -0.71081\n",
      "epoch: 03, loss: -0.73688\n",
      "epoch: 04, loss: -0.75481\n",
      "epoch: 05, loss: -0.74717\n",
      "epoch: 06, loss: -0.78193\n",
      "epoch: 07, loss: -0.81512\n",
      "epoch: 08, loss: -0.81803\n",
      "epoch: 09, loss: -0.83073\n"
     ]
    },
    {
     "name": "stderr",
     "output_type": "stream",
     "text": [
      "  9%|▉         | 91/1000 [29:27<4:38:31, 18.38s/it]"
     ]
    },
    {
     "name": "stdout",
     "output_type": "stream",
     "text": [
      "eigenvalues shape torch.Size([5]) eigenvectors shape torch.Size([5, 400])\n",
      "91 /home/phdcs2/Hard_Disk/Datasets/Deep-Spectral-Segmentation/data/object-segmentation/ECSSD/features/dino_vits16/0092.pth\n",
      "dict_keys(['k', 'indices', 'file', 'id', 'model_name', 'patch_size', 'shape'])\n",
      "0092\n",
      "Starting Training\n",
      "epoch: 00, loss: -0.47511\n",
      "epoch: 01, loss: -0.78849\n",
      "epoch: 02, loss: -0.75826\n",
      "epoch: 03, loss: -0.78821\n",
      "epoch: 04, loss: -0.78476\n",
      "epoch: 05, loss: -0.82085\n",
      "epoch: 06, loss: -0.82990\n",
      "epoch: 07, loss: -0.83441\n",
      "epoch: 08, loss: -0.83782\n",
      "epoch: 09, loss: -0.84437\n"
     ]
    },
    {
     "name": "stderr",
     "output_type": "stream",
     "text": [
      "  9%|▉         | 92/1000 [29:45<4:36:25, 18.27s/it]"
     ]
    },
    {
     "name": "stdout",
     "output_type": "stream",
     "text": [
      "eigenvalues shape torch.Size([5]) eigenvectors shape torch.Size([5, 400])\n",
      "92 /home/phdcs2/Hard_Disk/Datasets/Deep-Spectral-Segmentation/data/object-segmentation/ECSSD/features/dino_vits16/0093.pth\n",
      "dict_keys(['k', 'indices', 'file', 'id', 'model_name', 'patch_size', 'shape'])\n",
      "0093\n",
      "Starting Training\n",
      "epoch: 00, loss: -0.47226\n",
      "epoch: 01, loss: -0.67300\n",
      "epoch: 02, loss: -0.66191\n",
      "epoch: 03, loss: -0.74290\n",
      "epoch: 04, loss: -0.76002\n",
      "epoch: 05, loss: -0.79165\n",
      "epoch: 06, loss: -0.76625\n",
      "epoch: 07, loss: -0.77745\n",
      "epoch: 08, loss: -0.78712\n",
      "epoch: 09, loss: -0.79839\n"
     ]
    },
    {
     "name": "stderr",
     "output_type": "stream",
     "text": [
      "  9%|▉         | 93/1000 [30:02<4:31:31, 17.96s/it]"
     ]
    },
    {
     "name": "stdout",
     "output_type": "stream",
     "text": [
      "eigenvalues shape torch.Size([5]) eigenvectors shape torch.Size([5, 400])\n",
      "93 /home/phdcs2/Hard_Disk/Datasets/Deep-Spectral-Segmentation/data/object-segmentation/ECSSD/features/dino_vits16/0094.pth\n",
      "dict_keys(['k', 'indices', 'file', 'id', 'model_name', 'patch_size', 'shape'])\n",
      "0094\n",
      "Starting Training\n",
      "epoch: 00, loss: -0.28739\n",
      "epoch: 01, loss: -0.62312\n",
      "epoch: 02, loss: -0.66325\n",
      "epoch: 03, loss: -0.72533\n",
      "epoch: 04, loss: -0.75947\n",
      "epoch: 05, loss: -0.75019\n",
      "epoch: 06, loss: -0.76039\n",
      "epoch: 07, loss: -0.79739\n",
      "epoch: 08, loss: -0.78454\n",
      "epoch: 09, loss: -0.73956\n"
     ]
    },
    {
     "name": "stderr",
     "output_type": "stream",
     "text": [
      "  9%|▉         | 94/1000 [30:19<4:27:09, 17.69s/it]"
     ]
    },
    {
     "name": "stdout",
     "output_type": "stream",
     "text": [
      "eigenvalues shape torch.Size([5]) eigenvectors shape torch.Size([5, 400])\n",
      "94 /home/phdcs2/Hard_Disk/Datasets/Deep-Spectral-Segmentation/data/object-segmentation/ECSSD/features/dino_vits16/0095.pth\n",
      "dict_keys(['k', 'indices', 'file', 'id', 'model_name', 'patch_size', 'shape'])\n",
      "0095\n",
      "Starting Training\n",
      "epoch: 00, loss: -0.38882\n",
      "epoch: 01, loss: -0.70961\n",
      "epoch: 02, loss: -0.70997\n",
      "epoch: 03, loss: -0.72580\n",
      "epoch: 04, loss: -0.71133\n",
      "epoch: 05, loss: -0.73546\n",
      "epoch: 06, loss: -0.74852\n",
      "epoch: 07, loss: -0.76053\n",
      "epoch: 08, loss: -0.72526\n",
      "epoch: 09, loss: -0.75268\n"
     ]
    },
    {
     "name": "stderr",
     "output_type": "stream",
     "text": [
      " 10%|▉         | 95/1000 [30:37<4:26:04, 17.64s/it]"
     ]
    },
    {
     "name": "stdout",
     "output_type": "stream",
     "text": [
      "eigenvalues shape torch.Size([5]) eigenvectors shape torch.Size([5, 400])\n",
      "95 /home/phdcs2/Hard_Disk/Datasets/Deep-Spectral-Segmentation/data/object-segmentation/ECSSD/features/dino_vits16/0096.pth\n",
      "dict_keys(['k', 'indices', 'file', 'id', 'model_name', 'patch_size', 'shape'])\n",
      "0096\n",
      "Starting Training\n",
      "epoch: 00, loss: -0.39612\n",
      "epoch: 01, loss: -0.75034\n",
      "epoch: 02, loss: -0.79500\n",
      "epoch: 03, loss: -0.79683\n",
      "epoch: 04, loss: -0.82567\n",
      "epoch: 05, loss: -0.80493\n",
      "epoch: 06, loss: -0.82568\n",
      "epoch: 07, loss: -0.80348\n",
      "epoch: 08, loss: -0.81287\n",
      "epoch: 09, loss: -0.81395\n"
     ]
    },
    {
     "name": "stderr",
     "output_type": "stream",
     "text": [
      " 10%|▉         | 96/1000 [30:54<4:23:30, 17.49s/it]"
     ]
    },
    {
     "name": "stdout",
     "output_type": "stream",
     "text": [
      "eigenvalues shape torch.Size([5]) eigenvectors shape torch.Size([5, 400])\n",
      "96 /home/phdcs2/Hard_Disk/Datasets/Deep-Spectral-Segmentation/data/object-segmentation/ECSSD/features/dino_vits16/0097.pth\n",
      "dict_keys(['k', 'indices', 'file', 'id', 'model_name', 'patch_size', 'shape'])\n",
      "0097\n",
      "Starting Training\n",
      "epoch: 00, loss: -0.52388\n",
      "epoch: 01, loss: -0.80316\n",
      "epoch: 02, loss: -0.77757\n",
      "epoch: 03, loss: -0.81056\n",
      "epoch: 04, loss: -0.80865\n",
      "epoch: 05, loss: -0.81600\n",
      "epoch: 06, loss: -0.80080\n",
      "epoch: 07, loss: -0.81320\n",
      "epoch: 08, loss: -0.83981\n",
      "epoch: 09, loss: -0.83912\n"
     ]
    },
    {
     "name": "stderr",
     "output_type": "stream",
     "text": [
      " 10%|▉         | 97/1000 [31:10<4:17:18, 17.10s/it]"
     ]
    },
    {
     "name": "stdout",
     "output_type": "stream",
     "text": [
      "eigenvalues shape torch.Size([5]) eigenvectors shape torch.Size([5, 400])\n",
      "97 /home/phdcs2/Hard_Disk/Datasets/Deep-Spectral-Segmentation/data/object-segmentation/ECSSD/features/dino_vits16/0098.pth\n",
      "dict_keys(['k', 'indices', 'file', 'id', 'model_name', 'patch_size', 'shape'])\n",
      "0098\n",
      "Starting Training\n",
      "epoch: 00, loss: -0.39598\n",
      "epoch: 01, loss: -0.70682\n",
      "epoch: 02, loss: -0.78265\n",
      "epoch: 03, loss: -0.80577\n",
      "epoch: 04, loss: -0.81719\n",
      "epoch: 05, loss: -0.84513\n",
      "epoch: 06, loss: -0.84478\n",
      "epoch: 07, loss: -0.84433\n",
      "epoch: 08, loss: -0.84852\n",
      "epoch: 09, loss: -0.83652\n"
     ]
    },
    {
     "name": "stderr",
     "output_type": "stream",
     "text": [
      " 10%|▉         | 98/1000 [31:28<4:21:02, 17.36s/it]"
     ]
    },
    {
     "name": "stdout",
     "output_type": "stream",
     "text": [
      "eigenvalues shape torch.Size([5]) eigenvectors shape torch.Size([5, 400])\n",
      "98 /home/phdcs2/Hard_Disk/Datasets/Deep-Spectral-Segmentation/data/object-segmentation/ECSSD/features/dino_vits16/0099.pth\n",
      "dict_keys(['k', 'indices', 'file', 'id', 'model_name', 'patch_size', 'shape'])\n",
      "0099\n",
      "Starting Training\n",
      "epoch: 00, loss: -0.44866\n",
      "epoch: 01, loss: -0.68335\n",
      "epoch: 02, loss: -0.70488\n",
      "epoch: 03, loss: -0.69965\n",
      "epoch: 04, loss: -0.74615\n",
      "epoch: 05, loss: -0.78824\n",
      "epoch: 06, loss: -0.79875\n",
      "epoch: 07, loss: -0.82245\n",
      "epoch: 08, loss: -0.82258\n",
      "epoch: 09, loss: -0.81696\n"
     ]
    },
    {
     "name": "stderr",
     "output_type": "stream",
     "text": [
      " 10%|▉         | 99/1000 [31:45<4:20:42, 17.36s/it]"
     ]
    },
    {
     "name": "stdout",
     "output_type": "stream",
     "text": [
      "eigenvalues shape torch.Size([5]) eigenvectors shape torch.Size([5, 400])\n",
      "99 /home/phdcs2/Hard_Disk/Datasets/Deep-Spectral-Segmentation/data/object-segmentation/ECSSD/features/dino_vits16/0100.pth\n",
      "dict_keys(['k', 'indices', 'file', 'id', 'model_name', 'patch_size', 'shape'])\n",
      "0100\n",
      "Starting Training\n",
      "epoch: 00, loss: -0.29467\n",
      "epoch: 01, loss: -0.69725\n",
      "epoch: 02, loss: -0.74039\n",
      "epoch: 03, loss: -0.74252\n",
      "epoch: 04, loss: -0.79113\n",
      "epoch: 05, loss: -0.78523\n",
      "epoch: 06, loss: -0.81158\n",
      "epoch: 07, loss: -0.81894\n",
      "epoch: 08, loss: -0.82682\n",
      "epoch: 09, loss: -0.82333\n"
     ]
    },
    {
     "name": "stderr",
     "output_type": "stream",
     "text": [
      " 10%|█         | 100/1000 [32:04<4:24:49, 17.66s/it]"
     ]
    },
    {
     "name": "stdout",
     "output_type": "stream",
     "text": [
      "eigenvalues shape torch.Size([5]) eigenvectors shape torch.Size([5, 400])\n",
      "100 /home/phdcs2/Hard_Disk/Datasets/Deep-Spectral-Segmentation/data/object-segmentation/ECSSD/features/dino_vits16/0101.pth\n",
      "dict_keys(['k', 'indices', 'file', 'id', 'model_name', 'patch_size', 'shape'])\n",
      "0101\n",
      "Starting Training\n",
      "epoch: 00, loss: -0.32914\n",
      "epoch: 01, loss: -0.63904\n",
      "epoch: 02, loss: -0.70259\n",
      "epoch: 03, loss: -0.69539\n",
      "epoch: 04, loss: -0.65300\n",
      "epoch: 05, loss: -0.69639\n",
      "epoch: 06, loss: -0.67928\n",
      "epoch: 07, loss: -0.67188\n",
      "epoch: 08, loss: -0.72267\n",
      "epoch: 09, loss: -0.74031\n"
     ]
    },
    {
     "name": "stderr",
     "output_type": "stream",
     "text": [
      " 10%|█         | 101/1000 [32:20<4:19:32, 17.32s/it]"
     ]
    },
    {
     "name": "stdout",
     "output_type": "stream",
     "text": [
      "eigenvalues shape torch.Size([5]) eigenvectors shape torch.Size([5, 400])\n",
      "101 /home/phdcs2/Hard_Disk/Datasets/Deep-Spectral-Segmentation/data/object-segmentation/ECSSD/features/dino_vits16/0102.pth\n",
      "dict_keys(['k', 'indices', 'file', 'id', 'model_name', 'patch_size', 'shape'])\n",
      "0102\n",
      "Starting Training\n",
      "epoch: 00, loss: -0.47026\n",
      "epoch: 01, loss: -0.76836\n",
      "epoch: 02, loss: -0.80985\n",
      "epoch: 03, loss: -0.80055\n",
      "epoch: 04, loss: -0.82176\n",
      "epoch: 05, loss: -0.85073\n",
      "epoch: 06, loss: -0.84963\n",
      "epoch: 07, loss: -0.86056\n",
      "epoch: 08, loss: -0.88801\n",
      "epoch: 09, loss: -0.90206\n"
     ]
    },
    {
     "name": "stderr",
     "output_type": "stream",
     "text": [
      " 10%|█         | 102/1000 [32:37<4:16:32, 17.14s/it]"
     ]
    },
    {
     "name": "stdout",
     "output_type": "stream",
     "text": [
      "eigenvalues shape torch.Size([5]) eigenvectors shape torch.Size([5, 400])\n",
      "102 /home/phdcs2/Hard_Disk/Datasets/Deep-Spectral-Segmentation/data/object-segmentation/ECSSD/features/dino_vits16/0103.pth\n",
      "dict_keys(['k', 'indices', 'file', 'id', 'model_name', 'patch_size', 'shape'])\n",
      "0103\n",
      "Starting Training\n",
      "epoch: 00, loss: -0.47588\n",
      "epoch: 01, loss: -0.77201\n",
      "epoch: 02, loss: -0.79536\n",
      "epoch: 03, loss: -0.79756\n",
      "epoch: 04, loss: -0.78483\n",
      "epoch: 05, loss: -0.76754\n",
      "epoch: 06, loss: -0.77415\n",
      "epoch: 07, loss: -0.82357\n",
      "epoch: 08, loss: -0.82996\n",
      "epoch: 09, loss: -0.83806\n"
     ]
    },
    {
     "name": "stderr",
     "output_type": "stream",
     "text": [
      " 10%|█         | 103/1000 [32:54<4:16:35, 17.16s/it]"
     ]
    },
    {
     "name": "stdout",
     "output_type": "stream",
     "text": [
      "eigenvalues shape torch.Size([5]) eigenvectors shape torch.Size([5, 400])\n",
      "103 /home/phdcs2/Hard_Disk/Datasets/Deep-Spectral-Segmentation/data/object-segmentation/ECSSD/features/dino_vits16/0104.pth\n",
      "dict_keys(['k', 'indices', 'file', 'id', 'model_name', 'patch_size', 'shape'])\n",
      "0104\n",
      "Starting Training\n"
     ]
    }
   ],
   "source": [
    "utils.make_output_dir(output_dir)\n",
    "feat_list=[]\n",
    "inputs = list(enumerate(sorted(Path(features_dir).iterdir())))\n",
    "for inp in tqdm(inputs):\n",
    "    index, features_file = inp\n",
    "    print(index, features_file)\n",
    "     # Load\n",
    "    data_dict = torch.load(features_file, map_location='cpu')\n",
    "    print(data_dict.keys())   #['k', 'indices', 'file', 'id', 'model_name', 'patch_size', 'shape']\n",
    "    # print(\"shape=\", data_dict['shape'], \"k shape\", data_dict['k'].shape, \"patch_size=\", data_dict['patch_size'])\n",
    "    image_id = data_dict['file'][:-4]\n",
    "    print(image_id)\n",
    "    # Load\n",
    "    output_file = str(Path(output_dir) / f'{image_id}.pth')\n",
    "    if Path(output_file).is_file():\n",
    "        print(f'Skipping existing file {str(output_file)}')\n",
    "        # break\n",
    "        # return  # skip because already generated\n",
    "\n",
    "    # Load affinity matrix\n",
    "    feats = data_dict[which_features].squeeze().cuda()\n",
    "    # print(\"Without normalizing, Features Shape is\",feats.shape)\n",
    "    if normalize:\n",
    "        feats = F.normalize(feats, p=2, dim=-1)\n",
    "    # print(\"After normalization, Features Shape\",feats.shape)\n",
    "    # print(\"which_matrix=\", which_matrix)\n",
    "    # Eigenvectors of affinity matrix\n",
    "    if which_matrix == 'affinity_torch':\n",
    "        W = feats @ feats.T\n",
    "        # W_feat=contrastive_affinity(feats, feats.T)\n",
    "        # print(\"W shape=\", W.shape)\n",
    "        if threshold_at_zero:\n",
    "            W = (W * (W > 0))\n",
    "            # print(\"W shape=\", W.shape)\n",
    "        eigenvalues, eigenvectors = torch.eig(W, eigenvectors=True)\n",
    "        eigenvalues = eigenvalues.cpu()\n",
    "        eigenvectors = eigenvectors.cpu()\n",
    "        print(\"which matrix=\",which_matrix, \"eigenvalues shape\", eigenvalues.shape, \"eigenvectors shape\", eigenvectors.shape)\n",
    "\n",
    "\n",
    "    # Eigenvectors of affinity matrix with scipy\n",
    "    elif which_matrix == 'affinity_svd':\n",
    "        USV = torch.linalg.svd(feats, full_matrices=False)\n",
    "        eigenvectors = USV[0][:, :K].T.to('cpu', non_blocking=True)\n",
    "        eigenvalues = USV[1][:K].to('cpu', non_blocking=True)\n",
    "        print(\"which matrix=\",which_matrix,\"eigenvalues shape\", eigenvalues.shape, \"eigenvectors shape\", eigenvectors.shape)\n",
    "\n",
    "    # Eigenvectors of affinity matrix with scipy\n",
    "    elif which_matrix == 'affinity':\n",
    "        # print(\"Without normalizing, Features Shape is\",feats.shape)\n",
    "        W = (feats @ feats.T)\n",
    "        # W_feat=contrastive_affinity(feats, feats.T)\n",
    "        # print(\"W shape=\", W.shape)\n",
    "        if threshold_at_zero:\n",
    "            W = (W * (W > 0))\n",
    "        W = W.cpu().numpy()\n",
    "        # print(\"W shape=\", W.shape)\n",
    "        eigenvalues, eigenvectors = eigsh(W, which='LM', k=K)\n",
    "        eigenvectors = torch.flip(torch.from_numpy(eigenvectors), dims=(-1,)).T\n",
    "        print(\"which matrix=\",which_matrix, \"eigenvalues shape\", eigenvalues.shape, \"eigenvectors shape\", eigenvectors.shape)\n",
    "\n",
    "    # Eigenvectors of matting laplacian matrix\n",
    "    elif which_matrix in ['matting_laplacian', 'laplacian']:\n",
    "\n",
    "        # Get sizes\n",
    "        B, C, H, W, P, H_patch, W_patch, H_pad, W_pad = utils.get_image_sizes(data_dict)\n",
    "        if image_downsample_factor is None:\n",
    "            image_downsample_factor = P\n",
    "        H_pad_lr, W_pad_lr = H_pad // image_downsample_factor, W_pad // image_downsample_factor\n",
    "\n",
    "        # Upscale features to match the resolution\n",
    "        if (H_patch, W_patch) != (H_pad_lr, W_pad_lr):\n",
    "            feats = F.interpolate(\n",
    "                feats.T.reshape(1, -1, H_patch, W_patch),\n",
    "                size=(H_pad_lr, W_pad_lr), mode='bilinear', align_corners=False\n",
    "            ).reshape(-1, H_pad_lr * W_pad_lr).T\n",
    "\n",
    "        ### Feature affinities\n",
    "        # print(\"Without normalizing, Features Shape is\",feats.shape)\n",
    "\n",
    "        # W_feat = (feats @ feats.T)\n",
    "        # feat_list.append(feats)\n",
    "        feat_dataset = Feature_Dataset(feats)\n",
    "        if feats.shape[0]%2==0:\n",
    "            features_dataloader = DataLoader(feat_dataset, batch_size=2, shuffle=True)\n",
    "        else:\n",
    "            features_dataloader = DataLoader(feat_dataset, batch_size=2, shuffle=True, drop_last=True)\n",
    "        model_simsiam = SimSiam()\n",
    "        device = \"cuda\" if torch.cuda.is_available() else \"cpu\"\n",
    "        model_simsiam.to(device)\n",
    "        criterion = NegativeCosineSimilarity()\n",
    "        optimizer = torch.optim.SGD(model_simsiam.parameters(), lr=0.06)\n",
    "        print(\"Starting Training\")\n",
    "        for epoch in range(10):\n",
    "            total_loss = 0\n",
    "            for x0 in features_dataloader:\n",
    "            # for (x0), _, _ in features_dataloader:\n",
    "                x0 = x0.unsqueeze(0).to(device)\n",
    "                # print(x0.shape)\n",
    "                x1=torchvision.transforms.RandomAffine(0)(x0)\n",
    "                # print(x1.shape)\n",
    "                x0 = x0.squeeze(0).to(device)\n",
    "                # print(\"x0.shape=\", x0.shape)\n",
    "                x1 = x1.squeeze(0).to(device)\n",
    "                # print(\"x1 shape=\", x1.shape)\n",
    "\n",
    "                z0, p0 = model_simsiam(x0)\n",
    "                z1, p1 = model_simsiam(x1)\n",
    "                loss = 0.5 * (criterion(z0, p1) + criterion(z1, p0))\n",
    "                total_loss += loss.detach()\n",
    "                loss.backward()\n",
    "                optimizer.step()\n",
    "                optimizer.zero_grad()\n",
    "            avg_loss = total_loss / len(features_dataloader)\n",
    "            print(f\"epoch: {epoch:>02}, loss: {avg_loss:.5f}\")\n",
    "        projected_feature=model_simsiam(feats)\n",
    "        W_feat=torch.matmul(projected_feature[0], projected_feature[0].t())\n",
    "        # print(\"W_feat.shape=\", W_feat.shape)\n",
    "        # print(\"W_feat.shape=\", W_feat.shape)\n",
    "        # W_feat=contrastive_affinity(feats, feats.T)\n",
    "        if threshold_at_zero:\n",
    "            W_feat = (W_feat * (W_feat > 0))\n",
    "        W_feat = W_feat / W_feat.max()  # NOTE: If features are normalized, this naturally does nothing\n",
    "        # W_feat = W_feat.cpu().numpy()\n",
    "        W_feat = W_feat.detach().cpu().numpy()\n",
    "        # print(\"W_feat shape=\",W_feat.shape)\n",
    "\n",
    "        ### Color affinities\n",
    "        # If we are fusing with color affinites, then load the image and compute\n",
    "        if image_color_lambda > 0:\n",
    "\n",
    "            # Load image\n",
    "            image_file = str(Path(images_root) / f'{image_id}.jpg')\n",
    "            image_lr = Image.open(image_file).resize((W_pad_lr, H_pad_lr), Image.BILINEAR)\n",
    "            image_lr = np.array(image_lr) / 255.\n",
    "\n",
    "            # Color affinities (of type scipy.sparse.csr_matrix)\n",
    "            if which_color_matrix == 'knn':\n",
    "                W_lr = utils.knn_affinity(image_lr / 255)\n",
    "            elif which_color_matrix == 'rw':\n",
    "                W_lr = utils.rw_affinity(image_lr / 255)\n",
    "\n",
    "            # Convert to dense numpy array\n",
    "            W_color = np.array(W_lr.todense().astype(np.float32))\n",
    "            # print(\"W_color shape\", W_color.shape)\n",
    "\n",
    "        else:\n",
    "\n",
    "            # No color affinity\n",
    "            W_color = 0\n",
    "\n",
    "        # Combine\n",
    "        W_comb = W_feat + W_color * image_color_lambda  # combination\n",
    "        D_comb = np.array(utils.get_diagonal(W_comb).todense())  # is dense or sparse faster? not sure, should check\n",
    "        # print(\"W_comb shape= \", W_comb.shape, \"D_comb shape\",  D_comb.shape)\n",
    "        if lapnorm:\n",
    "            try:\n",
    "                eigenvalues, eigenvectors = eigsh(D_comb - W_comb, k=K, sigma=0, which='LM', M=D_comb)\n",
    "            except:\n",
    "                eigenvalues, eigenvectors = eigsh(D_comb - W_comb, k=K, which='SM', M=D_comb)\n",
    "        else:\n",
    "            try:\n",
    "                eigenvalues, eigenvectors = eigsh(D_comb - W_comb, k=K, sigma=0, which='LM')\n",
    "            except:\n",
    "                eigenvalues, eigenvectors = eigsh(D_comb - W_comb, k=K, which='SM')\n",
    "        eigenvalues, eigenvectors = torch.from_numpy(eigenvalues), torch.from_numpy(eigenvectors.T).float()\n",
    "    print(\"eigenvalues shape\", eigenvalues.shape, \"eigenvectors shape\", eigenvectors.shape)\n",
    "    # Sign ambiguity\n",
    "    for k in range(eigenvectors.shape[0]):\n",
    "        if 0.5 < torch.mean((eigenvectors[k] > 0).float()).item() < 1.0:  # reverse segment\n",
    "            eigenvectors[k] = 0 - eigenvectors[k]\n",
    "\n",
    "    # Save dict\n",
    "    output_dict = {'eigenvalues': eigenvalues, 'eigenvectors': eigenvectors}\n",
    "    torch.save(output_dict, output_file)"
   ]
  }
 ],
 "metadata": {
  "kernelspec": {
   "display_name": "Python 3 (ipykernel)",
   "language": "python",
   "name": "python3"
  },
  "language_info": {
   "codemirror_mode": {
    "name": "ipython",
    "version": 3
   },
   "file_extension": ".py",
   "mimetype": "text/x-python",
   "name": "python",
   "nbconvert_exporter": "python",
   "pygments_lexer": "ipython3",
   "version": "3.8.10"
  }
 },
 "nbformat": 4,
 "nbformat_minor": 1
}