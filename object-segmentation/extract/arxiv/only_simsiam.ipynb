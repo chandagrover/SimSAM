{
 "cells": [
  {
   "cell_type": "code",
   "execution_count": 2,
   "outputs": [],
   "source": [
    "# # from functools import partial\n",
    "from pathlib import Path\n",
    "# from typing import Optional, Tuple\n",
    "# import cv2\n",
    "# import fire\n",
    "import numpy as np\n",
    "import torch\n",
    "import torch.nn.functional as F\n",
    "from accelerate import Accelerator\n",
    "from PIL import Image\n",
    "from scipy.sparse.linalg import eigsh\n",
    "# from sklearn.cluster import KMeans, MiniBatchKMeans\n",
    "# from sklearn.decomposition import PCA\n",
    "# from torchvision.utils import draw_bounding_boxes\n",
    "from tqdm import tqdm\n",
    "import extract_utils as utils\n",
    "from torch.utils.data import Dataset, DataLoader\n",
    "\n",
    "import torchvision\n",
    "from lightly.loss import NegativeCosineSimilarity\n",
    "from lightly.loss import NegativeCosineSimilarity\n",
    "from lightly.models.modules import SimSiamPredictionHead, SimSiamProjectionHead\n",
    "from lightly.transforms import SimSiamTransform\n",
    "from torch import nn"
   ],
   "metadata": {
    "collapsed": false,
    "pycharm": {
     "name": "#%%\n"
    }
   }
  },
  {
   "cell_type": "markdown",
   "source": [
    "## Importing Features"
   ],
   "metadata": {
    "collapsed": false,
    "pycharm": {
     "name": "#%% md\n"
    }
   }
  },
  {
   "cell_type": "code",
   "execution_count": 3,
   "metadata": {
    "collapsed": true,
    "pycharm": {
     "name": "#%%\n"
    }
   },
   "outputs": [],
   "source": [
    "features_dir=\"/home/phdcs2/Hard_Disk/Datasets/Deep-Spectral-Segmentation/data/object-segmentation/ECSSD/features/dino_vits16\"\n",
    "inputs = list(enumerate(sorted(Path(features_dir).iterdir())))\n",
    "which_features='k'"
   ]
  },
  {
   "cell_type": "code",
   "execution_count": 4,
   "outputs": [
    {
     "name": "stdout",
     "output_type": "stream",
     "text": [
      "len of inputs= 1000\n",
      "type of inputs[0] <class 'tuple'>\n",
      "length of inputs[0]= 2\n",
      "inputs[0][0]= 0\n",
      "inputs[0][1]= /home/phdcs2/Hard_Disk/Datasets/Deep-Spectral-Segmentation/data/object-segmentation/ECSSD/features/dino_vits16/0001.pth\n"
     ]
    }
   ],
   "source": [
    "# print(\"type of inputs=\", type(inputs))\n",
    "print(\"len of inputs=\",len(inputs))\n",
    "print(\"type of inputs[0]\", type(inputs[0]))\n",
    "print(\"length of inputs[0]=\",len(inputs[0]))\n",
    "print(\"inputs[0][0]=\",inputs[0][0])\n",
    "print(\"inputs[0][1]=\", inputs[0][1])"
   ],
   "metadata": {
    "collapsed": false,
    "pycharm": {
     "name": "#%%\n"
    }
   }
  },
  {
   "cell_type": "code",
   "execution_count": 5,
   "outputs": [
    {
     "name": "stderr",
     "output_type": "stream",
     "text": [
      "100%|██████████| 1000/1000 [00:01<00:00, 626.91it/s]\n"
     ]
    }
   ],
   "source": [
    "feat_list=[]\n",
    "for inp in tqdm(inputs):\n",
    "    index, features_file = inp\n",
    "    # print(index, features_file)\n",
    "     # Load\n",
    "    data_dict = torch.load(features_file, map_location='cpu')\n",
    "    feats = data_dict[which_features].squeeze().cuda()\n",
    "    # print(feats.shape)\n",
    "    # tensor_features=torch.stack(torch.tensor(feats))\n",
    "    feat_list.append(feats)\n",
    "    # print(\"data_dict.keys=\", data_dict.keys())\n",
    "    # print('data_dict[k]:', data_dict['k'])\n",
    "    # print('data_dict[k].shape=', data_dict['k'].shape)\n",
    "    # print('data_dict[indices]:', data_dict['indices'])\n",
    "    # print('data_dict[file]:', data_dict['file'])\n",
    "    # print('data_dict[model_name]:', data_dict['model_name'])\n",
    "    # print('data_dict[patch_size]:', data_dict['patch_size'])\n",
    "    # print('data_dict[shape]:', data_dict['shape'])\n",
    "    # print('type of data_dict[shape].shape=', type(data_dict['shape']))\n",
    "    # print('data_dict[shape][0]:', data_dict['shape'][0])\n",
    "    # print('data_dict[shape][1]:', data_dict['shape'][1])\n",
    "    # print('data_dict[shape][2]:', data_dict['shape'][2])\n",
    "    # print('data_dict[shape][3]:', data_dict['shape'][3])\n"
   ],
   "metadata": {
    "collapsed": false,
    "pycharm": {
     "name": "#%%\n"
    }
   }
  },
  {
   "cell_type": "markdown",
   "source": [
    "## Custom Dataset on FeatureSpace"
   ],
   "metadata": {
    "collapsed": false,
    "pycharm": {
     "name": "#%% md\n"
    }
   }
  },
  {
   "cell_type": "code",
   "execution_count": 6,
   "outputs": [
    {
     "name": "stdout",
     "output_type": "stream",
     "text": [
      "1000\n",
      "<class 'torch.Tensor'>\n",
      "torch.Size([400, 384])\n"
     ]
    }
   ],
   "source": [
    "print(len(feat_list))\n",
    "print(type(feat_list[0]))\n",
    "print(feat_list[0].shape)"
   ],
   "metadata": {
    "collapsed": false,
    "pycharm": {
     "name": "#%%\n"
    }
   }
  },
  {
   "cell_type": "code",
   "execution_count": 7,
   "outputs": [],
   "source": [
    "# Define a custom dataset class\n",
    "class Feature_Dataset(Dataset):\n",
    "    def __init__(self, features):\n",
    "        self.features = features\n",
    "\n",
    "    def __getitem__(self, index):\n",
    "        return self.features[index]\n",
    "\n",
    "    def __len__(self):\n",
    "        return len(self.features)"
   ],
   "metadata": {
    "collapsed": false,
    "pycharm": {
     "name": "#%%\n"
    }
   }
  },
  {
   "cell_type": "code",
   "execution_count": 8,
   "outputs": [
    {
     "name": "stdout",
     "output_type": "stream",
     "text": [
      "torch.Size([400, 384])\n"
     ]
    }
   ],
   "source": [
    "print(feat_list[1].shape)"
   ],
   "metadata": {
    "collapsed": false,
    "pycharm": {
     "name": "#%%\n"
    }
   }
  },
  {
   "cell_type": "code",
   "execution_count": 9,
   "outputs": [
    {
     "ename": "SyntaxError",
     "evalue": "invalid syntax (3892473385.py, line 4)",
     "output_type": "error",
     "traceback": [
      "\u001B[0;36m  Cell \u001B[0;32mIn[9], line 4\u001B[0;36m\u001B[0m\n\u001B[0;31m    if feat_list[0]%2!=0\u001B[0m\n\u001B[0m                        ^\u001B[0m\n\u001B[0;31mSyntaxError\u001B[0m\u001B[0;31m:\u001B[0m invalid syntax\n"
     ]
    }
   ],
   "source": [
    "# features=data_dict['k']\n",
    "# print(features.shape)\n",
    "feat_dataset = Feature_Dataset(feat_list[0])\n",
    "if feat_list[0]%2!=0\n",
    "    features_dataloader = DataLoader(feat_dataset, batch_size=2, shuffle=True, drop_last=True)\n",
    "else:\n",
    "    features_dataloader = DataLoader(feat_dataset, batch_size=2, shuffle=True)"
   ],
   "metadata": {
    "collapsed": false,
    "pycharm": {
     "name": "#%%\n"
    }
   }
  },
  {
   "cell_type": "code",
   "execution_count": null,
   "outputs": [],
   "source": [
    "class SimSiam(nn.Module):\n",
    "    def __init__(self):\n",
    "        super().__init__()\n",
    "        self.projection_head = SimSiamProjectionHead(feats.shape[1], 128,feats.shape[1])\n",
    "        self.prediction_head = SimSiamPredictionHead(feats.shape[1], 128, feats.shape[1])\n",
    "\n",
    "    def forward(self, x):\n",
    "        z = self.projection_head(x)\n",
    "        p = self.prediction_head(z)\n",
    "        z = z.detach()\n",
    "        return z, p"
   ],
   "metadata": {
    "collapsed": false,
    "pycharm": {
     "name": "#%%\n"
    }
   }
  },
  {
   "cell_type": "code",
   "execution_count": null,
   "outputs": [],
   "source": [
    "model_simsiam = SimSiam()\n",
    "device = \"cuda\" if torch.cuda.is_available() else \"cpu\"\n",
    "model_simsiam.to(device)"
   ],
   "metadata": {
    "collapsed": false,
    "pycharm": {
     "name": "#%%\n"
    }
   }
  },
  {
   "cell_type": "code",
   "execution_count": null,
   "outputs": [],
   "source": [
    "criterion = NegativeCosineSimilarity()\n",
    "optimizer = torch.optim.SGD(model_simsiam.parameters(), lr=0.06)"
   ],
   "metadata": {
    "collapsed": false,
    "pycharm": {
     "name": "#%%\n"
    }
   }
  },
  {
   "cell_type": "code",
   "execution_count": null,
   "outputs": [],
   "source": [
    "# print(\"Starting Training\")\n",
    "for epoch in range(10):\n",
    "    total_loss = 0\n",
    "    for x0 in features_dataloader:\n",
    "    # for (x0), _, _ in features_dataloader:\n",
    "        x0 = x0.unsqueeze(0).to(device)\n",
    "        # print(x0.shape)\n",
    "        x1=torchvision.transforms.RandomAffine(0)(x0)\n",
    "        # print(x1.shape)\n",
    "        x0 = x0.squeeze(0).to(device)\n",
    "        # print(\"x0.shape=\", x0.shape)\n",
    "        x1 = x1.squeeze(0).to(device)\n",
    "        # print(\"x1 shape=\", x1.shape)\n",
    "\n",
    "        z0, p0 = model_simsiam(x0)\n",
    "        z1, p1 = model_simsiam(x1)\n",
    "        loss = 0.5 * (criterion(z0, p1) + criterion(z1, p0))\n",
    "        total_loss += loss.detach()\n",
    "        loss.backward()\n",
    "        optimizer.step()\n",
    "        optimizer.zero_grad()\n",
    "    avg_loss = total_loss / len(features_dataloader)\n",
    "    print(f\"epoch: {epoch:>02}, loss: {avg_loss:.5f}\")"
   ],
   "metadata": {
    "collapsed": false,
    "pycharm": {
     "name": "#%%\n"
    }
   }
  },
  {
   "cell_type": "code",
   "execution_count": null,
   "outputs": [],
   "source": [
    "projected_feature=model_simsiam(feat_list[1])"
   ],
   "metadata": {
    "collapsed": false,
    "pycharm": {
     "name": "#%%\n"
    }
   }
  },
  {
   "cell_type": "code",
   "execution_count": null,
   "outputs": [],
   "source": [
    "print(type(projected_feature))\n",
    "print(len(projected_feature))\n",
    "print(projected_feature[0].shape)\n",
    "print(projected_feature[1].shape)\n",
    "print(projected_feature[1].t().shape)\n"
   ],
   "metadata": {
    "collapsed": false,
    "pycharm": {
     "name": "#%%\n"
    }
   }
  },
  {
   "cell_type": "code",
   "execution_count": null,
   "outputs": [],
   "source": [
    "W=torch.matmul(projected_feature[0], projected_feature[1].t())"
   ],
   "metadata": {
    "collapsed": false,
    "pycharm": {
     "name": "#%%\n"
    }
   }
  },
  {
   "cell_type": "code",
   "execution_count": null,
   "outputs": [],
   "source": [
    "print(W.shape)"
   ],
   "metadata": {
    "collapsed": false,
    "pycharm": {
     "name": "#%%\n"
    }
   }
  }
 ],
 "metadata": {
  "kernelspec": {
   "display_name": "Python 3",
   "language": "python",
   "name": "python3"
  },
  "language_info": {
   "codemirror_mode": {
    "name": "ipython",
    "version": 2
   },
   "file_extension": ".py",
   "mimetype": "text/x-python",
   "name": "python",
   "nbconvert_exporter": "python",
   "pygments_lexer": "ipython2",
   "version": "2.7.6"
  }
 },
 "nbformat": 4,
 "nbformat_minor": 0
}