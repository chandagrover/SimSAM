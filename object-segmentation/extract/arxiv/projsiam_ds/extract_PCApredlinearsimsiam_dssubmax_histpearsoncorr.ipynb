{
 "cells": [
  {
   "cell_type": "code",
   "execution_count": 6,
   "metadata": {
    "pycharm": {
     "name": "#%%\n"
    }
   },
   "outputs": [],
   "source": [
    "# from functools import partial\n",
    "from pathlib import Path\n",
    "# from typing import Optional, Tuple\n",
    "# import cv2\n",
    "# import fire\n",
    "import numpy as np\n",
    "import torch\n",
    "import torch.nn.functional as F\n",
    "from accelerate import Accelerator\n",
    "from PIL import Image\n",
    "from scipy.sparse.linalg import eigsh\n",
    "# from sklearn.cluster import KMeans, MiniBatchKMeans\n",
    "from sklearn.decomposition import PCA\n",
    "# from torchvision.utils import draw_bounding_boxes\n",
    "from tqdm import tqdm\n",
    "import extract_utils as utils\n",
    "from torch.utils.data import Dataset, DataLoader\n",
    "from lightly.loss import NegativeCosineSimilarity\n",
    "from lightly.models.modules import SimSiamPredictionHead, SimSiamProjectionHead\n",
    "from torch import nn\n",
    "import torchvision\n",
    "from scipy.ndimage import affine_transform\n",
    "from matplotlib import pyplot as plt"
   ]
  },
  {
   "cell_type": "markdown",
   "metadata": {
    "pycharm": {
     "name": "#%% md\n"
    }
   },
   "source": [
    "## Extract Eigen Vectors"
   ]
  },
  {
   "cell_type": "code",
   "execution_count": 7,
   "metadata": {
    "pycharm": {
     "name": "#%%\n"
    }
   },
   "outputs": [],
   "source": [
    "images_root=\"/home/phdcs2/Hard_Disk/Datasets/Deep-Spectral-Segmentation/data/object-segmentation/ECSSD/images\"\n",
    "features_dir=\"/home/phdcs2/Hard_Disk/Datasets/Deep-Spectral-Segmentation/data/object-segmentation/ECSSD/features/dino_vits16\"\n",
    "output_dir=\"/home/phdcs2/Hard_Disk/Datasets/Deep-Spectral-Segmentation/data/object-segmentation/ECSSD/eigs_dot1PCA64pred_dssubmax_10_histpearsoncorr\"\n",
    "which_matrix= 'laplacian'\n",
    "which_color_matrix= 'knn'\n",
    "which_features= 'k'\n",
    "normalize=True\n",
    "threshold_at_zero=True\n",
    "lapnorm= True\n",
    "K= 5\n",
    "image_downsample_factor = None\n",
    "image_color_lambda = 0.0\n",
    "multiprocessing = 0\n",
    "batch_size=2\n",
    "epochs=10"
   ]
  },
  {
   "cell_type": "markdown",
   "metadata": {
    "pycharm": {
     "name": "#%% md\n"
    }
   },
   "source": [
    "## Incorporating SimSiam with PCA projector and a predictor"
   ]
  },
  {
   "cell_type": "code",
   "execution_count": 8,
   "outputs": [],
   "source": [
    "def pearson_correlation(hist1, hist2):\n",
    "    \"\"\"\n",
    "    Compute the Pearson correlation coefficient between two histograms.\n",
    "    Args:\n",
    "        hist1 (torch.Tensor): Histogram 1.\n",
    "        hist2 (torch.Tensor): Histogram 2.\n",
    "    Returns:\n",
    "        torch.Tensor: Pearson correlation coefficient.\n",
    "    \"\"\"\n",
    "    mean1 = torch.mean(hist1)\n",
    "    mean2 = torch.mean(hist2)\n",
    "    std1 = torch.std(hist1)\n",
    "    std2 = torch.std(hist2)\n",
    "\n",
    "    correlation = torch.mean(((hist1 - mean1) / std1) * ((hist2 - mean2) / std2))\n",
    "    return correlation"
   ],
   "metadata": {
    "collapsed": false,
    "pycharm": {
     "name": "#%%\n"
    }
   }
  },
  {
   "cell_type": "code",
   "execution_count": 9,
   "outputs": [],
   "source": [
    "# inputs = list(enumerate(sorted(Path(features_dir).iterdir())))\n",
    "# for inp in tqdm(inputs[:1]):\n",
    "#     index, features_file = inp\n",
    "#     print(index, features_file)\n",
    "#      # Load\n",
    "#     data_dict = torch.load(features_file, map_location='cpu')\n",
    "#     # print(data_dict.keys())   #['k', 'indices', 'file', 'id', 'model_name', 'patch_size', 'shape']\n",
    "#     # print(\"shape=\", data_dict['shape'], \"k shape\", data_dict['k'].shape, \"patch_size=\", data_dict['patch_size'])\n",
    "#     image_id = data_dict['file'][:-4]\n",
    "#     print(image_id)\n",
    "#     # Load\n",
    "#     output_file = str(Path(output_dir) / f'{image_id}.pth')\n",
    "#     if Path(output_file).is_file():\n",
    "#         print(f'Skipping existing file {str(output_file)}')\n",
    "#         # break\n",
    "#         # return  # skip because already generated\n",
    "#\n",
    "#     # Load affinity matrix\n",
    "#     feats = data_dict[which_features].squeeze().cuda()\n",
    "#     # print(feats.shape)\n",
    "#     tanh_feats=torch.tanh(feats)\n",
    "#     print(\"tanh_feats.shape=\", tanh_feats.shape)\n",
    "#     rows=tanh_feats.shape[0]\n",
    "#     W_feat_jsd=torch.empty(rows, rows)\n",
    "#     for i in range(rows):\n",
    "#         t1=tanh_feats[i]\n",
    "#         # print(\"t1.shape=\", t1.shape)\n",
    "#         min_t1=torch.min(t1)\n",
    "#         max_t1=torch.max(t1)\n",
    "#         # print(\"minimum of t1=\", min_t1)\n",
    "#         # print(\"maximum of t1=\", max_t1)\n",
    "#         # Calculate the histogram\n",
    "#         hist1 = torch.histc(t1, bins=20, min=-1, max=1)\n",
    "#         # print(hist1)\n",
    "#         for j in range(rows):\n",
    "#             t2=tanh_feats[i]\n",
    "#             # t1_float = t1.float()\n",
    "#             # print(\"t1.shape=\", t1.shape)\n",
    "#             min_t1=torch.min(t2)\n",
    "#             max_t1=torch.max(t2)\n",
    "#             # print(\"minimum of t1=\", min_t1)\n",
    "#             # print(\"maximum of t1=\", max_t1)\n",
    "#             # print()\n",
    "#             # Calculate the histogram\n",
    "#             hist2 = torch.histc(t1, bins=20, min=-1, max=1)\n",
    "#             # print(hist2)\n",
    "#             jsd=js_divergence(hist1, hist2)\n",
    "#             W_feat_jsd[i,j]=jsd.item()\n",
    "#\n",
    "#\n",
    "#\n",
    "#     # hist = torch.histc(tanh_feats.cpu(), bins=20, min=-100, max=100)\n",
    "#     # x=np.linspace(-100, 100, 20)"
   ],
   "metadata": {
    "collapsed": false,
    "pycharm": {
     "name": "#%%\n"
    }
   }
  },
  {
   "cell_type": "code",
   "execution_count": 10,
   "metadata": {
    "pycharm": {
     "name": "#%%\n"
    }
   },
   "outputs": [
    {
     "name": "stderr",
     "output_type": "stream",
     "text": [
      "  0%|          | 0/1000 [00:00<?, ?it/s]"
     ]
    },
    {
     "name": "stdout",
     "output_type": "stream",
     "text": [
      "0 /home/phdcs2/Hard_Disk/Datasets/Deep-Spectral-Segmentation/data/object-segmentation/ECSSD/features/dino_vits16/0001.pth\n",
      "0001\n",
      "tanh_feats.shape= torch.Size([400, 384])\n",
      "W_feat_ds.shape= torch.Size([400, 400])\n",
      "W_feat_hist_pearsoncorr.shape= torch.Size([400, 400])\n",
      "<class 'torch.Tensor'>\n"
     ]
    },
    {
     "name": "stderr",
     "output_type": "stream",
     "text": [
      "  0%|          | 1/1000 [01:31<25:15:12, 91.00s/it]"
     ]
    },
    {
     "name": "stdout",
     "output_type": "stream",
     "text": [
      "eigenvalues shape torch.Size([5]) eigenvectors shape torch.Size([5, 400])\n",
      "1 /home/phdcs2/Hard_Disk/Datasets/Deep-Spectral-Segmentation/data/object-segmentation/ECSSD/features/dino_vits16/0002.pth\n",
      "0002\n",
      "tanh_feats.shape= torch.Size([400, 384])\n",
      "W_feat_ds.shape= torch.Size([400, 400])\n",
      "W_feat_hist_pearsoncorr.shape= torch.Size([400, 400])\n",
      "<class 'torch.Tensor'>\n"
     ]
    },
    {
     "name": "stderr",
     "output_type": "stream",
     "text": [
      "  0%|          | 2/1000 [02:54<23:55:53, 86.33s/it]"
     ]
    },
    {
     "name": "stdout",
     "output_type": "stream",
     "text": [
      "eigenvalues shape torch.Size([5]) eigenvectors shape torch.Size([5, 400])\n",
      "2 /home/phdcs2/Hard_Disk/Datasets/Deep-Spectral-Segmentation/data/object-segmentation/ECSSD/features/dino_vits16/0003.pth\n",
      "0003\n",
      "tanh_feats.shape= torch.Size([400, 384])\n",
      "W_feat_ds.shape= torch.Size([400, 400])\n",
      "W_feat_hist_pearsoncorr.shape= torch.Size([400, 400])\n",
      "<class 'torch.Tensor'>\n"
     ]
    },
    {
     "name": "stderr",
     "output_type": "stream",
     "text": [
      "  0%|          | 3/1000 [04:16<23:21:15, 84.33s/it]"
     ]
    },
    {
     "name": "stdout",
     "output_type": "stream",
     "text": [
      "eigenvalues shape torch.Size([5]) eigenvectors shape torch.Size([5, 400])\n",
      "3 /home/phdcs2/Hard_Disk/Datasets/Deep-Spectral-Segmentation/data/object-segmentation/ECSSD/features/dino_vits16/0004.pth\n",
      "0004\n",
      "tanh_feats.shape= torch.Size([400, 384])\n",
      "W_feat_ds.shape= torch.Size([400, 400])\n",
      "W_feat_hist_pearsoncorr.shape= torch.Size([400, 400])\n",
      "<class 'torch.Tensor'>\n"
     ]
    },
    {
     "name": "stderr",
     "output_type": "stream",
     "text": [
      "  0%|          | 4/1000 [05:41<23:26:21, 84.72s/it]"
     ]
    },
    {
     "name": "stdout",
     "output_type": "stream",
     "text": [
      "eigenvalues shape torch.Size([5]) eigenvectors shape torch.Size([5, 400])\n",
      "4 /home/phdcs2/Hard_Disk/Datasets/Deep-Spectral-Segmentation/data/object-segmentation/ECSSD/features/dino_vits16/0005.pth\n",
      "0005\n",
      "tanh_feats.shape= torch.Size([400, 384])\n",
      "W_feat_ds.shape= torch.Size([400, 400])\n",
      "W_feat_hist_pearsoncorr.shape= torch.Size([400, 400])\n",
      "<class 'torch.Tensor'>\n"
     ]
    },
    {
     "name": "stderr",
     "output_type": "stream",
     "text": [
      "  0%|          | 5/1000 [07:03<23:11:21, 83.90s/it]"
     ]
    },
    {
     "name": "stdout",
     "output_type": "stream",
     "text": [
      "eigenvalues shape torch.Size([5]) eigenvectors shape torch.Size([5, 400])\n",
      "5 /home/phdcs2/Hard_Disk/Datasets/Deep-Spectral-Segmentation/data/object-segmentation/ECSSD/features/dino_vits16/0006.pth\n",
      "0006\n",
      "tanh_feats.shape= torch.Size([400, 384])\n",
      "W_feat_ds.shape= torch.Size([400, 400])\n",
      "W_feat_hist_pearsoncorr.shape= torch.Size([400, 400])\n",
      "<class 'torch.Tensor'>\n"
     ]
    },
    {
     "name": "stderr",
     "output_type": "stream",
     "text": [
      "  1%|          | 6/1000 [08:26<23:04:00, 83.54s/it]"
     ]
    },
    {
     "name": "stdout",
     "output_type": "stream",
     "text": [
      "eigenvalues shape torch.Size([5]) eigenvectors shape torch.Size([5, 400])\n",
      "6 /home/phdcs2/Hard_Disk/Datasets/Deep-Spectral-Segmentation/data/object-segmentation/ECSSD/features/dino_vits16/0007.pth\n",
      "0007\n",
      "tanh_feats.shape= torch.Size([400, 384])\n",
      "W_feat_ds.shape= torch.Size([400, 400])\n",
      "W_feat_hist_pearsoncorr.shape= torch.Size([400, 400])\n",
      "<class 'torch.Tensor'>\n"
     ]
    },
    {
     "name": "stderr",
     "output_type": "stream",
     "text": [
      "  1%|          | 7/1000 [09:52<23:15:00, 84.29s/it]"
     ]
    },
    {
     "name": "stdout",
     "output_type": "stream",
     "text": [
      "eigenvalues shape torch.Size([5]) eigenvectors shape torch.Size([5, 400])\n",
      "7 /home/phdcs2/Hard_Disk/Datasets/Deep-Spectral-Segmentation/data/object-segmentation/ECSSD/features/dino_vits16/0008.pth\n",
      "0008\n",
      "tanh_feats.shape= torch.Size([400, 384])\n",
      "W_feat_ds.shape= torch.Size([400, 400])\n",
      "W_feat_hist_pearsoncorr.shape= torch.Size([400, 400])\n",
      "<class 'torch.Tensor'>\n"
     ]
    },
    {
     "name": "stderr",
     "output_type": "stream",
     "text": [
      "  1%|          | 8/1000 [11:21<23:40:50, 85.94s/it]"
     ]
    },
    {
     "name": "stdout",
     "output_type": "stream",
     "text": [
      "eigenvalues shape torch.Size([5]) eigenvectors shape torch.Size([5, 400])\n",
      "8 /home/phdcs2/Hard_Disk/Datasets/Deep-Spectral-Segmentation/data/object-segmentation/ECSSD/features/dino_vits16/0009.pth\n",
      "0009\n",
      "tanh_feats.shape= torch.Size([400, 384])\n"
     ]
    },
    {
     "name": "stderr",
     "output_type": "stream",
     "text": [
      "  1%|          | 9/1000 [12:50<23:53:08, 86.77s/it]"
     ]
    },
    {
     "name": "stdout",
     "output_type": "stream",
     "text": [
      "W_feat_ds.shape= torch.Size([400, 400])\n",
      "W_feat_hist_pearsoncorr.shape= torch.Size([400, 400])\n",
      "<class 'torch.Tensor'>\n",
      "eigenvalues shape torch.Size([5]) eigenvectors shape torch.Size([5, 400])\n",
      "9 /home/phdcs2/Hard_Disk/Datasets/Deep-Spectral-Segmentation/data/object-segmentation/ECSSD/features/dino_vits16/0010.pth\n",
      "0010\n",
      "tanh_feats.shape= torch.Size([400, 384])\n",
      "W_feat_ds.shape= torch.Size([400, 400])\n",
      "W_feat_hist_pearsoncorr.shape= torch.Size([400, 400])\n",
      "<class 'torch.Tensor'>\n"
     ]
    },
    {
     "name": "stderr",
     "output_type": "stream",
     "text": [
      "  1%|          | 10/1000 [14:17<23:55:15, 86.99s/it]"
     ]
    },
    {
     "name": "stdout",
     "output_type": "stream",
     "text": [
      "eigenvalues shape torch.Size([5]) eigenvectors shape torch.Size([5, 400])\n",
      "10 /home/phdcs2/Hard_Disk/Datasets/Deep-Spectral-Segmentation/data/object-segmentation/ECSSD/features/dino_vits16/0011.pth\n",
      "0011\n",
      "tanh_feats.shape= torch.Size([400, 384])\n",
      "W_feat_ds.shape= torch.Size([400, 400])\n",
      "W_feat_hist_pearsoncorr.shape= torch.Size([400, 400])\n",
      "<class 'torch.Tensor'>\n"
     ]
    },
    {
     "name": "stderr",
     "output_type": "stream",
     "text": [
      "  1%|          | 11/1000 [15:46<24:03:24, 87.57s/it]"
     ]
    },
    {
     "name": "stdout",
     "output_type": "stream",
     "text": [
      "eigenvalues shape torch.Size([5]) eigenvectors shape torch.Size([5, 400])\n",
      "11 /home/phdcs2/Hard_Disk/Datasets/Deep-Spectral-Segmentation/data/object-segmentation/ECSSD/features/dino_vits16/0012.pth\n",
      "0012\n",
      "tanh_feats.shape= torch.Size([400, 384])\n",
      "W_feat_ds.shape= torch.Size([400, 400])\n",
      "W_feat_hist_pearsoncorr.shape= torch.Size([400, 400])\n",
      "<class 'torch.Tensor'>\n"
     ]
    },
    {
     "name": "stderr",
     "output_type": "stream",
     "text": [
      "  1%|          | 12/1000 [17:16<24:12:40, 88.22s/it]"
     ]
    },
    {
     "name": "stdout",
     "output_type": "stream",
     "text": [
      "eigenvalues shape torch.Size([5]) eigenvectors shape torch.Size([5, 400])\n",
      "12 /home/phdcs2/Hard_Disk/Datasets/Deep-Spectral-Segmentation/data/object-segmentation/ECSSD/features/dino_vits16/0013.pth\n",
      "0013\n",
      "tanh_feats.shape= torch.Size([400, 384])\n",
      "W_feat_ds.shape= torch.Size([400, 400])\n",
      "W_feat_hist_pearsoncorr.shape= torch.Size([400, 400])\n",
      "<class 'torch.Tensor'>\n"
     ]
    },
    {
     "name": "stderr",
     "output_type": "stream",
     "text": [
      "  1%|▏         | 13/1000 [18:45<24:13:29, 88.36s/it]"
     ]
    },
    {
     "name": "stdout",
     "output_type": "stream",
     "text": [
      "eigenvalues shape torch.Size([5]) eigenvectors shape torch.Size([5, 400])\n",
      "13 /home/phdcs2/Hard_Disk/Datasets/Deep-Spectral-Segmentation/data/object-segmentation/ECSSD/features/dino_vits16/0014.pth\n",
      "0014\n",
      "tanh_feats.shape= torch.Size([400, 384])\n",
      "W_feat_ds.shape= torch.Size([400, 400])\n",
      "W_feat_hist_pearsoncorr.shape= torch.Size([400, 400])\n",
      "<class 'torch.Tensor'>\n"
     ]
    },
    {
     "name": "stderr",
     "output_type": "stream",
     "text": [
      "  1%|▏         | 14/1000 [20:09<23:50:04, 87.02s/it]"
     ]
    },
    {
     "name": "stdout",
     "output_type": "stream",
     "text": [
      "eigenvalues shape torch.Size([5]) eigenvectors shape torch.Size([5, 400])\n",
      "14 /home/phdcs2/Hard_Disk/Datasets/Deep-Spectral-Segmentation/data/object-segmentation/ECSSD/features/dino_vits16/0015.pth\n",
      "0015\n",
      "tanh_feats.shape= torch.Size([400, 384])\n",
      "W_feat_ds.shape= torch.Size([400, 400])\n",
      "W_feat_hist_pearsoncorr.shape= torch.Size([400, 400])\n",
      "<class 'torch.Tensor'>\n"
     ]
    },
    {
     "name": "stderr",
     "output_type": "stream",
     "text": [
      "  2%|▏         | 15/1000 [21:32<23:29:15, 85.84s/it]"
     ]
    },
    {
     "name": "stdout",
     "output_type": "stream",
     "text": [
      "eigenvalues shape torch.Size([5]) eigenvectors shape torch.Size([5, 400])\n",
      "15 /home/phdcs2/Hard_Disk/Datasets/Deep-Spectral-Segmentation/data/object-segmentation/ECSSD/features/dino_vits16/0016.pth\n",
      "0016\n",
      "tanh_feats.shape= torch.Size([400, 384])\n",
      "W_feat_ds.shape= torch.Size([400, 400])\n",
      "W_feat_hist_pearsoncorr.shape= torch.Size([400, 400])\n",
      "<class 'torch.Tensor'>\n"
     ]
    },
    {
     "name": "stderr",
     "output_type": "stream",
     "text": [
      "  2%|▏         | 16/1000 [23:02<23:48:23, 87.10s/it]"
     ]
    },
    {
     "name": "stdout",
     "output_type": "stream",
     "text": [
      "eigenvalues shape torch.Size([5]) eigenvectors shape torch.Size([5, 400])\n",
      "16 /home/phdcs2/Hard_Disk/Datasets/Deep-Spectral-Segmentation/data/object-segmentation/ECSSD/features/dino_vits16/0017.pth\n",
      "0017\n",
      "tanh_feats.shape= torch.Size([400, 384])\n",
      "W_feat_ds.shape= torch.Size([400, 400])\n",
      "W_feat_hist_pearsoncorr.shape= torch.Size([400, 400])\n",
      "<class 'torch.Tensor'>\n"
     ]
    },
    {
     "name": "stderr",
     "output_type": "stream",
     "text": [
      "  2%|▏         | 17/1000 [24:30<23:51:47, 87.39s/it]"
     ]
    },
    {
     "name": "stdout",
     "output_type": "stream",
     "text": [
      "eigenvalues shape torch.Size([5]) eigenvectors shape torch.Size([5, 400])\n",
      "17 /home/phdcs2/Hard_Disk/Datasets/Deep-Spectral-Segmentation/data/object-segmentation/ECSSD/features/dino_vits16/0018.pth\n",
      "0018\n",
      "tanh_feats.shape= torch.Size([400, 384])\n",
      "W_feat_ds.shape= torch.Size([400, 400])\n",
      "W_feat_hist_pearsoncorr.shape= torch.Size([400, 400])\n",
      "<class 'torch.Tensor'>\n"
     ]
    },
    {
     "name": "stderr",
     "output_type": "stream",
     "text": [
      "  2%|▏         | 18/1000 [26:01<24:07:36, 88.45s/it]"
     ]
    },
    {
     "name": "stdout",
     "output_type": "stream",
     "text": [
      "eigenvalues shape torch.Size([5]) eigenvectors shape torch.Size([5, 400])\n",
      "18 /home/phdcs2/Hard_Disk/Datasets/Deep-Spectral-Segmentation/data/object-segmentation/ECSSD/features/dino_vits16/0019.pth\n",
      "0019\n",
      "tanh_feats.shape= torch.Size([400, 384])\n",
      "W_feat_ds.shape= torch.Size([400, 400])\n",
      "W_feat_hist_pearsoncorr.shape= torch.Size([400, 400])\n",
      "<class 'torch.Tensor'>\n"
     ]
    },
    {
     "name": "stderr",
     "output_type": "stream",
     "text": [
      "  2%|▏         | 19/1000 [27:30<24:10:09, 88.69s/it]"
     ]
    },
    {
     "name": "stdout",
     "output_type": "stream",
     "text": [
      "eigenvalues shape torch.Size([5]) eigenvectors shape torch.Size([5, 400])\n",
      "19 /home/phdcs2/Hard_Disk/Datasets/Deep-Spectral-Segmentation/data/object-segmentation/ECSSD/features/dino_vits16/0020.pth\n",
      "0020\n",
      "tanh_feats.shape= torch.Size([400, 384])\n",
      "W_feat_ds.shape= torch.Size([400, 400])\n",
      "W_feat_hist_pearsoncorr.shape= torch.Size([400, 400])\n",
      "<class 'torch.Tensor'>\n"
     ]
    },
    {
     "name": "stderr",
     "output_type": "stream",
     "text": [
      "  2%|▏         | 20/1000 [29:05<24:39:53, 90.61s/it]"
     ]
    },
    {
     "name": "stdout",
     "output_type": "stream",
     "text": [
      "eigenvalues shape torch.Size([5]) eigenvectors shape torch.Size([5, 400])\n",
      "20 /home/phdcs2/Hard_Disk/Datasets/Deep-Spectral-Segmentation/data/object-segmentation/ECSSD/features/dino_vits16/0021.pth\n",
      "0021\n",
      "tanh_feats.shape= torch.Size([400, 384])\n",
      "W_feat_ds.shape= torch.Size([400, 400])\n",
      "W_feat_hist_pearsoncorr.shape= torch.Size([400, 400])\n",
      "<class 'torch.Tensor'>\n"
     ]
    },
    {
     "name": "stderr",
     "output_type": "stream",
     "text": [
      "  2%|▏         | 21/1000 [30:35<24:37:03, 90.52s/it]"
     ]
    },
    {
     "name": "stdout",
     "output_type": "stream",
     "text": [
      "eigenvalues shape torch.Size([5]) eigenvectors shape torch.Size([5, 400])\n",
      "21 /home/phdcs2/Hard_Disk/Datasets/Deep-Spectral-Segmentation/data/object-segmentation/ECSSD/features/dino_vits16/0022.pth\n",
      "0022\n",
      "tanh_feats.shape= torch.Size([400, 384])\n",
      "W_feat_ds.shape= torch.Size([400, 400])\n",
      "W_feat_hist_pearsoncorr.shape= torch.Size([400, 400])\n",
      "<class 'torch.Tensor'>\n"
     ]
    },
    {
     "name": "stderr",
     "output_type": "stream",
     "text": [
      "  2%|▏         | 22/1000 [32:11<25:00:32, 92.06s/it]"
     ]
    },
    {
     "name": "stdout",
     "output_type": "stream",
     "text": [
      "eigenvalues shape torch.Size([5]) eigenvectors shape torch.Size([5, 400])\n",
      "22 /home/phdcs2/Hard_Disk/Datasets/Deep-Spectral-Segmentation/data/object-segmentation/ECSSD/features/dino_vits16/0023.pth\n",
      "0023\n",
      "tanh_feats.shape= torch.Size([400, 384])\n",
      "W_feat_ds.shape= torch.Size([400, 400])\n",
      "W_feat_hist_pearsoncorr.shape= torch.Size([400, 400])\n",
      "<class 'torch.Tensor'>\n",
      "eigenvalues shape torch.Size([5]) eigenvectors shape torch.Size([5, 400])\n"
     ]
    },
    {
     "name": "stderr",
     "output_type": "stream",
     "text": [
      "  2%|▏         | 23/1000 [33:44<25:02:37, 92.28s/it]"
     ]
    },
    {
     "name": "stdout",
     "output_type": "stream",
     "text": [
      "23 /home/phdcs2/Hard_Disk/Datasets/Deep-Spectral-Segmentation/data/object-segmentation/ECSSD/features/dino_vits16/0024.pth\n",
      "0024\n",
      "tanh_feats.shape= torch.Size([400, 384])\n",
      "W_feat_ds.shape= torch.Size([400, 400])\n",
      "W_feat_hist_pearsoncorr.shape= torch.Size([400, 400])\n",
      "<class 'torch.Tensor'>\n"
     ]
    },
    {
     "name": "stderr",
     "output_type": "stream",
     "text": [
      "  2%|▏         | 24/1000 [35:11<24:34:45, 90.66s/it]"
     ]
    },
    {
     "name": "stdout",
     "output_type": "stream",
     "text": [
      "eigenvalues shape torch.Size([5]) eigenvectors shape torch.Size([5, 400])\n",
      "24 /home/phdcs2/Hard_Disk/Datasets/Deep-Spectral-Segmentation/data/object-segmentation/ECSSD/features/dino_vits16/0025.pth\n",
      "0025\n",
      "tanh_feats.shape= torch.Size([400, 384])\n"
     ]
    },
    {
     "name": "stderr",
     "output_type": "stream",
     "text": [
      "  2%|▎         | 25/1000 [36:36<24:05:03, 88.93s/it]"
     ]
    },
    {
     "name": "stdout",
     "output_type": "stream",
     "text": [
      "W_feat_ds.shape= torch.Size([400, 400])\n",
      "W_feat_hist_pearsoncorr.shape= torch.Size([400, 400])\n",
      "<class 'torch.Tensor'>\n",
      "eigenvalues shape torch.Size([5]) eigenvectors shape torch.Size([5, 400])\n",
      "25 /home/phdcs2/Hard_Disk/Datasets/Deep-Spectral-Segmentation/data/object-segmentation/ECSSD/features/dino_vits16/0026.pth\n",
      "0026\n",
      "tanh_feats.shape= torch.Size([400, 384])\n",
      "W_feat_ds.shape= torch.Size([400, 400])\n",
      "W_feat_hist_pearsoncorr.shape= torch.Size([400, 400])\n",
      "<class 'torch.Tensor'>\n"
     ]
    },
    {
     "name": "stderr",
     "output_type": "stream",
     "text": [
      "  3%|▎         | 26/1000 [38:19<25:12:15, 93.16s/it]"
     ]
    },
    {
     "name": "stdout",
     "output_type": "stream",
     "text": [
      "eigenvalues shape torch.Size([5]) eigenvectors shape torch.Size([5, 400])\n",
      "26 /home/phdcs2/Hard_Disk/Datasets/Deep-Spectral-Segmentation/data/object-segmentation/ECSSD/features/dino_vits16/0027.pth\n",
      "0027\n",
      "tanh_feats.shape= torch.Size([400, 384])\n",
      "W_feat_ds.shape= torch.Size([400, 400])\n",
      "W_feat_hist_pearsoncorr.shape= torch.Size([400, 400])\n",
      "<class 'torch.Tensor'>\n"
     ]
    },
    {
     "name": "stderr",
     "output_type": "stream",
     "text": [
      "  3%|▎         | 27/1000 [40:09<26:34:21, 98.32s/it]"
     ]
    },
    {
     "name": "stdout",
     "output_type": "stream",
     "text": [
      "eigenvalues shape torch.Size([5]) eigenvectors shape torch.Size([5, 400])\n",
      "27 /home/phdcs2/Hard_Disk/Datasets/Deep-Spectral-Segmentation/data/object-segmentation/ECSSD/features/dino_vits16/0028.pth\n",
      "0028\n",
      "tanh_feats.shape= torch.Size([400, 384])\n",
      "W_feat_ds.shape= torch.Size([400, 400])\n",
      "W_feat_hist_pearsoncorr.shape= torch.Size([400, 400])\n",
      "<class 'torch.Tensor'>\n"
     ]
    },
    {
     "name": "stderr",
     "output_type": "stream",
     "text": [
      "  3%|▎         | 28/1000 [41:45<26:21:06, 97.60s/it]"
     ]
    },
    {
     "name": "stdout",
     "output_type": "stream",
     "text": [
      "eigenvalues shape torch.Size([5]) eigenvectors shape torch.Size([5, 400])\n",
      "28 /home/phdcs2/Hard_Disk/Datasets/Deep-Spectral-Segmentation/data/object-segmentation/ECSSD/features/dino_vits16/0029.pth\n",
      "0029\n",
      "tanh_feats.shape= torch.Size([400, 384])\n",
      "W_feat_ds.shape= torch.Size([400, 400])\n",
      "W_feat_hist_pearsoncorr.shape= torch.Size([400, 400])\n",
      "<class 'torch.Tensor'>\n"
     ]
    },
    {
     "name": "stderr",
     "output_type": "stream",
     "text": [
      "  3%|▎         | 29/1000 [43:47<28:16:42, 104.84s/it]"
     ]
    },
    {
     "name": "stdout",
     "output_type": "stream",
     "text": [
      "eigenvalues shape torch.Size([5]) eigenvectors shape torch.Size([5, 400])\n",
      "29 /home/phdcs2/Hard_Disk/Datasets/Deep-Spectral-Segmentation/data/object-segmentation/ECSSD/features/dino_vits16/0030.pth\n",
      "0030\n",
      "tanh_feats.shape= torch.Size([400, 384])\n"
     ]
    },
    {
     "name": "stderr",
     "output_type": "stream",
     "text": [
      "  3%|▎         | 30/1000 [45:47<29:31:11, 109.56s/it]"
     ]
    },
    {
     "name": "stdout",
     "output_type": "stream",
     "text": [
      "W_feat_ds.shape= torch.Size([400, 400])\n",
      "W_feat_hist_pearsoncorr.shape= torch.Size([400, 400])\n",
      "<class 'torch.Tensor'>\n",
      "eigenvalues shape torch.Size([5]) eigenvectors shape torch.Size([5, 400])\n",
      "30 /home/phdcs2/Hard_Disk/Datasets/Deep-Spectral-Segmentation/data/object-segmentation/ECSSD/features/dino_vits16/0031.pth\n",
      "0031\n",
      "tanh_feats.shape= torch.Size([400, 384])\n",
      "W_feat_ds.shape= torch.Size([400, 400])\n",
      "W_feat_hist_pearsoncorr.shape= torch.Size([400, 400])\n",
      "<class 'torch.Tensor'>\n"
     ]
    },
    {
     "name": "stderr",
     "output_type": "stream",
     "text": [
      "  3%|▎         | 31/1000 [47:46<30:12:31, 112.23s/it]"
     ]
    },
    {
     "name": "stdout",
     "output_type": "stream",
     "text": [
      "eigenvalues shape torch.Size([5]) eigenvectors shape torch.Size([5, 400])\n",
      "31 /home/phdcs2/Hard_Disk/Datasets/Deep-Spectral-Segmentation/data/object-segmentation/ECSSD/features/dino_vits16/0032.pth\n",
      "0032\n",
      "tanh_feats.shape= torch.Size([400, 384])\n",
      "W_feat_ds.shape= torch.Size([400, 400])\n",
      "W_feat_hist_pearsoncorr.shape= torch.Size([400, 400])\n",
      "<class 'torch.Tensor'>\n",
      "eigenvalues shape torch.Size([5]) eigenvectors shape torch.Size([5, 400])\n"
     ]
    },
    {
     "name": "stderr",
     "output_type": "stream",
     "text": [
      "  3%|▎         | 32/1000 [49:45<30:42:43, 114.22s/it]"
     ]
    },
    {
     "name": "stdout",
     "output_type": "stream",
     "text": [
      "32 /home/phdcs2/Hard_Disk/Datasets/Deep-Spectral-Segmentation/data/object-segmentation/ECSSD/features/dino_vits16/0033.pth\n",
      "0033\n",
      "tanh_feats.shape= torch.Size([400, 384])\n",
      "W_feat_ds.shape= torch.Size([400, 400])\n",
      "W_feat_hist_pearsoncorr.shape= torch.Size([400, 400])\n",
      "<class 'torch.Tensor'>\n"
     ]
    },
    {
     "name": "stderr",
     "output_type": "stream",
     "text": [
      "  3%|▎         | 33/1000 [51:43<31:03:13, 115.61s/it]"
     ]
    },
    {
     "name": "stdout",
     "output_type": "stream",
     "text": [
      "eigenvalues shape torch.Size([5]) eigenvectors shape torch.Size([5, 400])\n",
      "33 /home/phdcs2/Hard_Disk/Datasets/Deep-Spectral-Segmentation/data/object-segmentation/ECSSD/features/dino_vits16/0034.pth\n",
      "0034\n",
      "tanh_feats.shape= torch.Size([400, 384])\n",
      "W_feat_ds.shape= torch.Size([400, 400])\n",
      "W_feat_hist_pearsoncorr.shape= torch.Size([400, 400])\n",
      "<class 'torch.Tensor'>\n"
     ]
    },
    {
     "name": "stderr",
     "output_type": "stream",
     "text": [
      "  3%|▎         | 34/1000 [53:39<31:02:10, 115.66s/it]"
     ]
    },
    {
     "name": "stdout",
     "output_type": "stream",
     "text": [
      "eigenvalues shape torch.Size([5]) eigenvectors shape torch.Size([5, 400])\n",
      "34 /home/phdcs2/Hard_Disk/Datasets/Deep-Spectral-Segmentation/data/object-segmentation/ECSSD/features/dino_vits16/0035.pth\n",
      "0035\n",
      "tanh_feats.shape= torch.Size([400, 384])\n",
      "W_feat_ds.shape= torch.Size([400, 400])\n",
      "W_feat_hist_pearsoncorr.shape= torch.Size([400, 400])\n",
      "<class 'torch.Tensor'>\n"
     ]
    },
    {
     "name": "stderr",
     "output_type": "stream",
     "text": [
      "  4%|▎         | 35/1000 [55:29<30:33:29, 114.00s/it]"
     ]
    },
    {
     "name": "stdout",
     "output_type": "stream",
     "text": [
      "eigenvalues shape torch.Size([5]) eigenvectors shape torch.Size([5, 400])\n",
      "35 /home/phdcs2/Hard_Disk/Datasets/Deep-Spectral-Segmentation/data/object-segmentation/ECSSD/features/dino_vits16/0036.pth\n",
      "0036\n",
      "tanh_feats.shape= torch.Size([450, 384])\n",
      "W_feat_ds.shape= torch.Size([450, 450])\n",
      "W_feat_hist_pearsoncorr.shape= torch.Size([450, 450])\n",
      "<class 'torch.Tensor'>\n"
     ]
    },
    {
     "name": "stderr",
     "output_type": "stream",
     "text": [
      "  4%|▎         | 36/1000 [57:51<32:43:23, 122.20s/it]"
     ]
    },
    {
     "name": "stdout",
     "output_type": "stream",
     "text": [
      "eigenvalues shape torch.Size([5]) eigenvectors shape torch.Size([5, 400])\n",
      "36 /home/phdcs2/Hard_Disk/Datasets/Deep-Spectral-Segmentation/data/object-segmentation/ECSSD/features/dino_vits16/0037.pth\n",
      "0037\n",
      "tanh_feats.shape= torch.Size([450, 384])\n"
     ]
    },
    {
     "name": "stderr",
     "output_type": "stream",
     "text": [
      "  4%|▎         | 37/1000 [1:00:17<34:37:09, 129.42s/it]"
     ]
    },
    {
     "name": "stdout",
     "output_type": "stream",
     "text": [
      "W_feat_ds.shape= torch.Size([450, 450])\n",
      "W_feat_hist_pearsoncorr.shape= torch.Size([450, 450])\n",
      "<class 'torch.Tensor'>\n",
      "eigenvalues shape torch.Size([5]) eigenvectors shape torch.Size([5, 400])\n",
      "37 /home/phdcs2/Hard_Disk/Datasets/Deep-Spectral-Segmentation/data/object-segmentation/ECSSD/features/dino_vits16/0038.pth\n",
      "0038\n",
      "tanh_feats.shape= torch.Size([400, 384])\n"
     ]
    },
    {
     "name": "stderr",
     "output_type": "stream",
     "text": [
      "  4%|▍         | 38/1000 [1:02:17<33:50:30, 126.64s/it]"
     ]
    },
    {
     "name": "stdout",
     "output_type": "stream",
     "text": [
      "W_feat_ds.shape= torch.Size([400, 400])\n",
      "W_feat_hist_pearsoncorr.shape= torch.Size([400, 400])\n",
      "<class 'torch.Tensor'>\n",
      "eigenvalues shape torch.Size([5]) eigenvectors shape torch.Size([5, 400])\n",
      "38 /home/phdcs2/Hard_Disk/Datasets/Deep-Spectral-Segmentation/data/object-segmentation/ECSSD/features/dino_vits16/0039.pth\n",
      "0039\n",
      "tanh_feats.shape= torch.Size([400, 384])\n"
     ]
    },
    {
     "name": "stderr",
     "output_type": "stream",
     "text": [
      "  4%|▍         | 39/1000 [1:04:37<34:52:36, 130.65s/it]"
     ]
    },
    {
     "name": "stdout",
     "output_type": "stream",
     "text": [
      "W_feat_ds.shape= torch.Size([400, 400])\n",
      "W_feat_hist_pearsoncorr.shape= torch.Size([400, 400])\n",
      "<class 'torch.Tensor'>\n",
      "eigenvalues shape torch.Size([5]) eigenvectors shape torch.Size([5, 400])\n",
      "39 /home/phdcs2/Hard_Disk/Datasets/Deep-Spectral-Segmentation/data/object-segmentation/ECSSD/features/dino_vits16/0040.pth\n",
      "0040\n",
      "tanh_feats.shape= torch.Size([400, 384])\n",
      "W_feat_ds.shape= torch.Size([400, 400])\n",
      "W_feat_hist_pearsoncorr.shape= torch.Size([400, 400])\n",
      "<class 'torch.Tensor'>\n"
     ]
    },
    {
     "name": "stderr",
     "output_type": "stream",
     "text": [
      "  4%|▍         | 40/1000 [1:06:47<34:46:24, 130.40s/it]"
     ]
    },
    {
     "name": "stdout",
     "output_type": "stream",
     "text": [
      "eigenvalues shape torch.Size([5]) eigenvectors shape torch.Size([5, 400])\n",
      "40 /home/phdcs2/Hard_Disk/Datasets/Deep-Spectral-Segmentation/data/object-segmentation/ECSSD/features/dino_vits16/0041.pth\n",
      "0041\n",
      "tanh_feats.shape= torch.Size([450, 384])\n",
      "W_feat_ds.shape= torch.Size([450, 450])\n",
      "W_feat_hist_pearsoncorr.shape= torch.Size([450, 450])\n",
      "<class 'torch.Tensor'>\n"
     ]
    },
    {
     "name": "stderr",
     "output_type": "stream",
     "text": [
      "  4%|▍         | 41/1000 [1:09:51<39:01:55, 146.52s/it]"
     ]
    },
    {
     "name": "stdout",
     "output_type": "stream",
     "text": [
      "eigenvalues shape torch.Size([5]) eigenvectors shape torch.Size([5, 400])\n",
      "41 /home/phdcs2/Hard_Disk/Datasets/Deep-Spectral-Segmentation/data/object-segmentation/ECSSD/features/dino_vits16/0042.pth\n",
      "0042\n",
      "tanh_feats.shape= torch.Size([400, 384])\n",
      "W_feat_ds.shape= torch.Size([400, 400])\n",
      "W_feat_hist_pearsoncorr.shape= torch.Size([400, 400])\n",
      "<class 'torch.Tensor'>\n"
     ]
    },
    {
     "name": "stderr",
     "output_type": "stream",
     "text": [
      "  4%|▍         | 42/1000 [1:11:46<36:29:23, 137.12s/it]"
     ]
    },
    {
     "name": "stdout",
     "output_type": "stream",
     "text": [
      "eigenvalues shape torch.Size([5]) eigenvectors shape torch.Size([5, 400])\n",
      "42 /home/phdcs2/Hard_Disk/Datasets/Deep-Spectral-Segmentation/data/object-segmentation/ECSSD/features/dino_vits16/0043.pth\n",
      "0043\n",
      "tanh_feats.shape= torch.Size([450, 384])\n",
      "W_feat_ds.shape= torch.Size([450, 450])\n",
      "W_feat_hist_pearsoncorr.shape= torch.Size([450, 450])\n",
      "<class 'torch.Tensor'>\n"
     ]
    },
    {
     "name": "stderr",
     "output_type": "stream",
     "text": [
      "  4%|▍         | 43/1000 [1:14:48<39:58:17, 150.36s/it]"
     ]
    },
    {
     "name": "stdout",
     "output_type": "stream",
     "text": [
      "eigenvalues shape torch.Size([5]) eigenvectors shape torch.Size([5, 400])\n",
      "43 /home/phdcs2/Hard_Disk/Datasets/Deep-Spectral-Segmentation/data/object-segmentation/ECSSD/features/dino_vits16/0044.pth\n",
      "0044\n",
      "tanh_feats.shape= torch.Size([525, 384])\n"
     ]
    },
    {
     "name": "stderr",
     "output_type": "stream",
     "text": [
      "  4%|▍         | 44/1000 [1:18:47<47:00:29, 177.02s/it]"
     ]
    },
    {
     "name": "stdout",
     "output_type": "stream",
     "text": [
      "W_feat_ds.shape= torch.Size([525, 525])\n",
      "W_feat_hist_pearsoncorr.shape= torch.Size([525, 525])\n",
      "<class 'torch.Tensor'>\n",
      "eigenvalues shape torch.Size([5]) eigenvectors shape torch.Size([5, 400])\n",
      "44 /home/phdcs2/Hard_Disk/Datasets/Deep-Spectral-Segmentation/data/object-segmentation/ECSSD/features/dino_vits16/0045.pth\n",
      "0045\n",
      "tanh_feats.shape= torch.Size([450, 384])\n",
      "W_feat_ds.shape= torch.Size([450, 450])\n",
      "W_feat_hist_pearsoncorr.shape= torch.Size([450, 450])\n",
      "<class 'torch.Tensor'>\n"
     ]
    },
    {
     "name": "stderr",
     "output_type": "stream",
     "text": [
      "  4%|▍         | 45/1000 [1:21:16<44:46:39, 168.80s/it]"
     ]
    },
    {
     "name": "stdout",
     "output_type": "stream",
     "text": [
      "eigenvalues shape torch.Size([5]) eigenvectors shape torch.Size([5, 400])\n",
      "45 /home/phdcs2/Hard_Disk/Datasets/Deep-Spectral-Segmentation/data/object-segmentation/ECSSD/features/dino_vits16/0046.pth\n",
      "0046\n",
      "tanh_feats.shape= torch.Size([450, 384])\n"
     ]
    },
    {
     "name": "stderr",
     "output_type": "stream",
     "text": [
      "  5%|▍         | 46/1000 [1:23:43<42:56:21, 162.04s/it]"
     ]
    },
    {
     "name": "stdout",
     "output_type": "stream",
     "text": [
      "W_feat_ds.shape= torch.Size([450, 450])\n",
      "W_feat_hist_pearsoncorr.shape= torch.Size([450, 450])\n",
      "<class 'torch.Tensor'>\n",
      "eigenvalues shape torch.Size([5]) eigenvectors shape torch.Size([5, 400])\n",
      "46 /home/phdcs2/Hard_Disk/Datasets/Deep-Spectral-Segmentation/data/object-segmentation/ECSSD/features/dino_vits16/0047.pth\n",
      "0047\n",
      "tanh_feats.shape= torch.Size([400, 384])\n",
      "W_feat_ds.shape= torch.Size([400, 400])\n",
      "W_feat_hist_pearsoncorr.shape= torch.Size([400, 400])\n",
      "<class 'torch.Tensor'>\n"
     ]
    },
    {
     "name": "stderr",
     "output_type": "stream",
     "text": [
      "  5%|▍         | 47/1000 [1:25:39<39:18:01, 148.46s/it]"
     ]
    },
    {
     "name": "stdout",
     "output_type": "stream",
     "text": [
      "eigenvalues shape torch.Size([5]) eigenvectors shape torch.Size([5, 400])\n",
      "47 /home/phdcs2/Hard_Disk/Datasets/Deep-Spectral-Segmentation/data/object-segmentation/ECSSD/features/dino_vits16/0048.pth\n",
      "0048\n",
      "tanh_feats.shape= torch.Size([450, 384])\n",
      "W_feat_ds.shape= torch.Size([450, 450])\n",
      "W_feat_hist_pearsoncorr.shape= torch.Size([450, 450])\n",
      "<class 'torch.Tensor'>\n"
     ]
    },
    {
     "name": "stderr",
     "output_type": "stream",
     "text": [
      "  5%|▍         | 48/1000 [1:28:22<40:25:02, 152.84s/it]"
     ]
    },
    {
     "name": "stdout",
     "output_type": "stream",
     "text": [
      "eigenvalues shape torch.Size([5]) eigenvectors shape torch.Size([5, 400])\n",
      "48 /home/phdcs2/Hard_Disk/Datasets/Deep-Spectral-Segmentation/data/object-segmentation/ECSSD/features/dino_vits16/0049.pth\n",
      "0049\n",
      "tanh_feats.shape= torch.Size([450, 384])\n",
      "W_feat_ds.shape= torch.Size([450, 450])\n",
      "W_feat_hist_pearsoncorr.shape= torch.Size([450, 450])\n",
      "<class 'torch.Tensor'>\n",
      "eigenvalues shape torch.Size([5]) eigenvectors shape torch.Size([5, 400])\n"
     ]
    },
    {
     "name": "stderr",
     "output_type": "stream",
     "text": [
      "  5%|▍         | 49/1000 [1:32:20<47:03:32, 178.14s/it]"
     ]
    },
    {
     "name": "stdout",
     "output_type": "stream",
     "text": [
      "49 /home/phdcs2/Hard_Disk/Datasets/Deep-Spectral-Segmentation/data/object-segmentation/ECSSD/features/dino_vits16/0050.pth\n",
      "0050\n",
      "tanh_feats.shape= torch.Size([400, 384])\n",
      "W_feat_ds.shape= torch.Size([400, 400])\n",
      "W_feat_hist_pearsoncorr.shape= torch.Size([400, 400])\n",
      "<class 'torch.Tensor'>\n"
     ]
    },
    {
     "name": "stderr",
     "output_type": "stream",
     "text": [
      "  5%|▌         | 50/1000 [1:34:43<44:13:12, 167.57s/it]"
     ]
    },
    {
     "name": "stdout",
     "output_type": "stream",
     "text": [
      "eigenvalues shape torch.Size([5]) eigenvectors shape torch.Size([5, 400])\n",
      "50 /home/phdcs2/Hard_Disk/Datasets/Deep-Spectral-Segmentation/data/object-segmentation/ECSSD/features/dino_vits16/0051.pth\n",
      "0051\n",
      "tanh_feats.shape= torch.Size([450, 384])\n"
     ]
    },
    {
     "name": "stderr",
     "output_type": "stream",
     "text": [
      "  5%|▌         | 51/1000 [1:37:41<45:01:26, 170.80s/it]"
     ]
    },
    {
     "name": "stdout",
     "output_type": "stream",
     "text": [
      "W_feat_ds.shape= torch.Size([450, 450])\n",
      "W_feat_hist_pearsoncorr.shape= torch.Size([450, 450])\n",
      "<class 'torch.Tensor'>\n",
      "eigenvalues shape torch.Size([5]) eigenvectors shape torch.Size([5, 400])\n",
      "51 /home/phdcs2/Hard_Disk/Datasets/Deep-Spectral-Segmentation/data/object-segmentation/ECSSD/features/dino_vits16/0052.pth\n",
      "0052\n",
      "tanh_feats.shape= torch.Size([450, 384])\n",
      "W_feat_ds.shape= torch.Size([450, 450])\n",
      "W_feat_hist_pearsoncorr.shape= torch.Size([450, 450])\n",
      "<class 'torch.Tensor'>\n"
     ]
    },
    {
     "name": "stderr",
     "output_type": "stream",
     "text": [
      "  5%|▌         | 52/1000 [1:40:41<45:43:44, 173.65s/it]"
     ]
    },
    {
     "name": "stdout",
     "output_type": "stream",
     "text": [
      "eigenvalues shape torch.Size([5]) eigenvectors shape torch.Size([5, 400])\n",
      "52 /home/phdcs2/Hard_Disk/Datasets/Deep-Spectral-Segmentation/data/object-segmentation/ECSSD/features/dino_vits16/0053.pth\n",
      "0053\n",
      "tanh_feats.shape= torch.Size([375, 384])\n"
     ]
    },
    {
     "name": "stderr",
     "output_type": "stream",
     "text": [
      "  5%|▌         | 53/1000 [1:42:43<41:35:55, 158.14s/it]"
     ]
    },
    {
     "name": "stdout",
     "output_type": "stream",
     "text": [
      "W_feat_ds.shape= torch.Size([375, 375])\n",
      "W_feat_hist_pearsoncorr.shape= torch.Size([375, 375])\n",
      "<class 'torch.Tensor'>\n",
      "eigenvalues shape torch.Size([5]) eigenvectors shape torch.Size([5, 400])\n",
      "53 /home/phdcs2/Hard_Disk/Datasets/Deep-Spectral-Segmentation/data/object-segmentation/ECSSD/features/dino_vits16/0054.pth\n",
      "0054\n",
      "tanh_feats.shape= torch.Size([450, 384])\n",
      "W_feat_ds.shape= torch.Size([450, 450])\n",
      "W_feat_hist_pearsoncorr.shape= torch.Size([450, 450])\n",
      "<class 'torch.Tensor'>\n"
     ]
    },
    {
     "name": "stderr",
     "output_type": "stream",
     "text": [
      "  5%|▌         | 54/1000 [1:45:39<42:54:59, 163.32s/it]"
     ]
    },
    {
     "name": "stdout",
     "output_type": "stream",
     "text": [
      "eigenvalues shape torch.Size([5]) eigenvectors shape torch.Size([5, 400])\n",
      "54 /home/phdcs2/Hard_Disk/Datasets/Deep-Spectral-Segmentation/data/object-segmentation/ECSSD/features/dino_vits16/0055.pth\n",
      "0055\n",
      "tanh_feats.shape= torch.Size([450, 384])\n",
      "W_feat_ds.shape= torch.Size([450, 450])\n",
      "W_feat_hist_pearsoncorr.shape= torch.Size([450, 450])\n",
      "<class 'torch.Tensor'>\n"
     ]
    },
    {
     "name": "stderr",
     "output_type": "stream",
     "text": [
      "  6%|▌         | 55/1000 [1:48:34<43:51:12, 167.06s/it]"
     ]
    },
    {
     "name": "stdout",
     "output_type": "stream",
     "text": [
      "eigenvalues shape torch.Size([5]) eigenvectors shape torch.Size([5, 400])\n",
      "55 /home/phdcs2/Hard_Disk/Datasets/Deep-Spectral-Segmentation/data/object-segmentation/ECSSD/features/dino_vits16/0056.pth\n",
      "0056\n",
      "tanh_feats.shape= torch.Size([400, 384])\n"
     ]
    },
    {
     "name": "stderr",
     "output_type": "stream",
     "text": [
      "  6%|▌         | 56/1000 [1:50:49<41:14:23, 157.27s/it]"
     ]
    },
    {
     "name": "stdout",
     "output_type": "stream",
     "text": [
      "W_feat_ds.shape= torch.Size([400, 400])\n",
      "W_feat_hist_pearsoncorr.shape= torch.Size([400, 400])\n",
      "<class 'torch.Tensor'>\n",
      "eigenvalues shape torch.Size([5]) eigenvectors shape torch.Size([5, 400])\n",
      "56 /home/phdcs2/Hard_Disk/Datasets/Deep-Spectral-Segmentation/data/object-segmentation/ECSSD/features/dino_vits16/0057.pth\n",
      "0057\n",
      "tanh_feats.shape= torch.Size([400, 384])\n",
      "W_feat_ds.shape= torch.Size([400, 400])\n",
      "W_feat_hist_pearsoncorr.shape= torch.Size([400, 400])\n",
      "<class 'torch.Tensor'>\n"
     ]
    },
    {
     "name": "stderr",
     "output_type": "stream",
     "text": [
      "  6%|▌         | 57/1000 [1:53:03<39:22:03, 150.29s/it]"
     ]
    },
    {
     "name": "stdout",
     "output_type": "stream",
     "text": [
      "eigenvalues shape torch.Size([5]) eigenvectors shape torch.Size([5, 400])\n",
      "57 /home/phdcs2/Hard_Disk/Datasets/Deep-Spectral-Segmentation/data/object-segmentation/ECSSD/features/dino_vits16/0058.pth\n",
      "0058\n",
      "tanh_feats.shape= torch.Size([425, 384])\n",
      "W_feat_ds.shape= torch.Size([425, 425])\n",
      "W_feat_hist_pearsoncorr.shape= torch.Size([425, 425])\n",
      "<class 'torch.Tensor'>\n"
     ]
    },
    {
     "name": "stderr",
     "output_type": "stream",
     "text": [
      "  6%|▌         | 58/1000 [1:55:40<39:50:15, 152.25s/it]"
     ]
    },
    {
     "name": "stdout",
     "output_type": "stream",
     "text": [
      "eigenvalues shape torch.Size([5]) eigenvectors shape torch.Size([5, 400])\n",
      "58 /home/phdcs2/Hard_Disk/Datasets/Deep-Spectral-Segmentation/data/object-segmentation/ECSSD/features/dino_vits16/0059.pth\n",
      "0059\n",
      "tanh_feats.shape= torch.Size([450, 384])\n",
      "W_feat_ds.shape= torch.Size([450, 450])\n",
      "W_feat_hist_pearsoncorr.shape= torch.Size([450, 450])\n",
      "<class 'torch.Tensor'>\n"
     ]
    },
    {
     "name": "stderr",
     "output_type": "stream",
     "text": [
      "  6%|▌         | 59/1000 [1:58:36<41:41:23, 159.49s/it]"
     ]
    },
    {
     "name": "stdout",
     "output_type": "stream",
     "text": [
      "eigenvalues shape torch.Size([5]) eigenvectors shape torch.Size([5, 400])\n",
      "59 /home/phdcs2/Hard_Disk/Datasets/Deep-Spectral-Segmentation/data/object-segmentation/ECSSD/features/dino_vits16/0060.pth\n",
      "0060\n",
      "tanh_feats.shape= torch.Size([400, 384])\n",
      "W_feat_ds.shape= torch.Size([400, 400])\n",
      "W_feat_hist_pearsoncorr.shape= torch.Size([400, 400])\n",
      "<class 'torch.Tensor'>\n"
     ]
    },
    {
     "name": "stderr",
     "output_type": "stream",
     "text": [
      "  6%|▌         | 60/1000 [2:00:53<39:51:53, 152.67s/it]"
     ]
    },
    {
     "name": "stdout",
     "output_type": "stream",
     "text": [
      "eigenvalues shape torch.Size([5]) eigenvectors shape torch.Size([5, 400])\n",
      "60 /home/phdcs2/Hard_Disk/Datasets/Deep-Spectral-Segmentation/data/object-segmentation/ECSSD/features/dino_vits16/0061.pth\n",
      "0061\n",
      "tanh_feats.shape= torch.Size([425, 384])\n"
     ]
    },
    {
     "name": "stderr",
     "output_type": "stream",
     "text": [
      "  6%|▌         | 61/1000 [2:02:55<37:25:08, 143.46s/it]"
     ]
    },
    {
     "name": "stdout",
     "output_type": "stream",
     "text": [
      "W_feat_ds.shape= torch.Size([425, 425])\n",
      "W_feat_hist_pearsoncorr.shape= torch.Size([425, 425])\n",
      "<class 'torch.Tensor'>\n",
      "eigenvalues shape torch.Size([5]) eigenvectors shape torch.Size([5, 400])\n",
      "61 /home/phdcs2/Hard_Disk/Datasets/Deep-Spectral-Segmentation/data/object-segmentation/ECSSD/features/dino_vits16/0062.pth\n",
      "0062\n",
      "tanh_feats.shape= torch.Size([425, 384])\n"
     ]
    },
    {
     "name": "stderr",
     "output_type": "stream",
     "text": [
      "  6%|▌         | 62/1000 [2:04:56<35:36:48, 136.68s/it]"
     ]
    },
    {
     "name": "stdout",
     "output_type": "stream",
     "text": [
      "W_feat_ds.shape= torch.Size([425, 425])\n",
      "W_feat_hist_pearsoncorr.shape= torch.Size([425, 425])\n",
      "<class 'torch.Tensor'>\n",
      "eigenvalues shape torch.Size([5]) eigenvectors shape torch.Size([5, 400])\n",
      "62 /home/phdcs2/Hard_Disk/Datasets/Deep-Spectral-Segmentation/data/object-segmentation/ECSSD/features/dino_vits16/0063.pth\n",
      "0063\n",
      "tanh_feats.shape= torch.Size([400, 384])\n",
      "W_feat_ds.shape= torch.Size([400, 400])\n",
      "W_feat_hist_pearsoncorr.shape= torch.Size([400, 400])\n",
      "<class 'torch.Tensor'>\n"
     ]
    },
    {
     "name": "stderr",
     "output_type": "stream",
     "text": [
      "  6%|▋         | 63/1000 [2:06:39<32:56:53, 126.59s/it]"
     ]
    },
    {
     "name": "stdout",
     "output_type": "stream",
     "text": [
      "eigenvalues shape torch.Size([5]) eigenvectors shape torch.Size([5, 400])\n",
      "63 /home/phdcs2/Hard_Disk/Datasets/Deep-Spectral-Segmentation/data/object-segmentation/ECSSD/features/dino_vits16/0064.pth\n",
      "0064\n",
      "tanh_feats.shape= torch.Size([400, 384])\n",
      "W_feat_ds.shape= torch.Size([400, 400])\n",
      "W_feat_hist_pearsoncorr.shape= torch.Size([400, 400])\n",
      "<class 'torch.Tensor'>\n"
     ]
    },
    {
     "name": "stderr",
     "output_type": "stream",
     "text": [
      "  6%|▋         | 64/1000 [2:08:20<30:57:59, 119.10s/it]"
     ]
    },
    {
     "name": "stdout",
     "output_type": "stream",
     "text": [
      "eigenvalues shape torch.Size([5]) eigenvectors shape torch.Size([5, 400])\n",
      "64 /home/phdcs2/Hard_Disk/Datasets/Deep-Spectral-Segmentation/data/object-segmentation/ECSSD/features/dino_vits16/0065.pth\n",
      "0065\n",
      "tanh_feats.shape= torch.Size([450, 384])\n"
     ]
    },
    {
     "name": "stderr",
     "output_type": "stream",
     "text": [
      "  6%|▋         | 65/1000 [2:10:28<31:38:17, 121.82s/it]"
     ]
    },
    {
     "name": "stdout",
     "output_type": "stream",
     "text": [
      "W_feat_ds.shape= torch.Size([450, 450])\n",
      "W_feat_hist_pearsoncorr.shape= torch.Size([450, 450])\n",
      "<class 'torch.Tensor'>\n",
      "eigenvalues shape torch.Size([5]) eigenvectors shape torch.Size([5, 400])\n",
      "65 /home/phdcs2/Hard_Disk/Datasets/Deep-Spectral-Segmentation/data/object-segmentation/ECSSD/features/dino_vits16/0066.pth\n",
      "0066\n",
      "tanh_feats.shape= torch.Size([400, 384])\n"
     ]
    },
    {
     "name": "stderr",
     "output_type": "stream",
     "text": [
      "  7%|▋         | 66/1000 [2:12:09<29:59:36, 115.61s/it]"
     ]
    },
    {
     "name": "stdout",
     "output_type": "stream",
     "text": [
      "W_feat_ds.shape= torch.Size([400, 400])\n",
      "W_feat_hist_pearsoncorr.shape= torch.Size([400, 400])\n",
      "<class 'torch.Tensor'>\n",
      "eigenvalues shape torch.Size([5]) eigenvectors shape torch.Size([5, 400])\n",
      "66 /home/phdcs2/Hard_Disk/Datasets/Deep-Spectral-Segmentation/data/object-segmentation/ECSSD/features/dino_vits16/0067.pth\n",
      "0067\n",
      "tanh_feats.shape= torch.Size([350, 384])\n"
     ]
    },
    {
     "name": "stderr",
     "output_type": "stream",
     "text": [
      "  7%|▋         | 67/1000 [2:13:27<26:59:34, 104.15s/it]"
     ]
    },
    {
     "name": "stdout",
     "output_type": "stream",
     "text": [
      "W_feat_ds.shape= torch.Size([350, 350])\n",
      "W_feat_hist_pearsoncorr.shape= torch.Size([350, 350])\n",
      "<class 'torch.Tensor'>\n",
      "eigenvalues shape torch.Size([5]) eigenvectors shape torch.Size([5, 400])\n",
      "67 /home/phdcs2/Hard_Disk/Datasets/Deep-Spectral-Segmentation/data/object-segmentation/ECSSD/features/dino_vits16/0068.pth\n",
      "0068\n",
      "tanh_feats.shape= torch.Size([525, 384])\n",
      "W_feat_ds.shape= torch.Size([525, 525])\n",
      "W_feat_hist_pearsoncorr.shape= torch.Size([525, 525])\n",
      "<class 'torch.Tensor'>\n"
     ]
    },
    {
     "name": "stderr",
     "output_type": "stream",
     "text": [
      "  7%|▋         | 68/1000 [2:16:22<32:26:41, 125.32s/it]"
     ]
    },
    {
     "name": "stdout",
     "output_type": "stream",
     "text": [
      "eigenvalues shape torch.Size([5]) eigenvectors shape torch.Size([5, 400])\n",
      "68 /home/phdcs2/Hard_Disk/Datasets/Deep-Spectral-Segmentation/data/object-segmentation/ECSSD/features/dino_vits16/0069.pth\n",
      "0069\n",
      "tanh_feats.shape= torch.Size([425, 384])\n",
      "W_feat_ds.shape= torch.Size([425, 425])\n",
      "W_feat_hist_pearsoncorr.shape= torch.Size([425, 425])\n",
      "<class 'torch.Tensor'>\n"
     ]
    },
    {
     "name": "stderr",
     "output_type": "stream",
     "text": [
      "  7%|▋         | 69/1000 [2:18:16<31:33:43, 122.04s/it]"
     ]
    },
    {
     "name": "stdout",
     "output_type": "stream",
     "text": [
      "eigenvalues shape torch.Size([5]) eigenvectors shape torch.Size([5, 400])\n",
      "69 /home/phdcs2/Hard_Disk/Datasets/Deep-Spectral-Segmentation/data/object-segmentation/ECSSD/features/dino_vits16/0070.pth\n",
      "0070\n",
      "tanh_feats.shape= torch.Size([500, 384])\n"
     ]
    },
    {
     "name": "stderr",
     "output_type": "stream",
     "text": [
      "  7%|▋         | 70/1000 [2:20:54<34:18:39, 132.82s/it]"
     ]
    },
    {
     "name": "stdout",
     "output_type": "stream",
     "text": [
      "W_feat_ds.shape= torch.Size([500, 500])\n",
      "W_feat_hist_pearsoncorr.shape= torch.Size([500, 500])\n",
      "<class 'torch.Tensor'>\n",
      "eigenvalues shape torch.Size([5]) eigenvectors shape torch.Size([5, 400])\n",
      "70 /home/phdcs2/Hard_Disk/Datasets/Deep-Spectral-Segmentation/data/object-segmentation/ECSSD/features/dino_vits16/0071.pth\n",
      "0071\n",
      "tanh_feats.shape= torch.Size([450, 384])\n",
      "W_feat_ds.shape= torch.Size([450, 450])\n",
      "W_feat_hist_pearsoncorr.shape= torch.Size([450, 450])\n",
      "<class 'torch.Tensor'>\n"
     ]
    },
    {
     "name": "stderr",
     "output_type": "stream",
     "text": [
      "  7%|▋         | 71/1000 [2:23:03<33:59:00, 131.69s/it]"
     ]
    },
    {
     "name": "stdout",
     "output_type": "stream",
     "text": [
      "eigenvalues shape torch.Size([5]) eigenvectors shape torch.Size([5, 400])\n",
      "71 /home/phdcs2/Hard_Disk/Datasets/Deep-Spectral-Segmentation/data/object-segmentation/ECSSD/features/dino_vits16/0072.pth\n",
      "0072\n",
      "tanh_feats.shape= torch.Size([400, 384])\n",
      "W_feat_ds.shape= torch.Size([400, 400])\n",
      "W_feat_hist_pearsoncorr.shape= torch.Size([400, 400])\n",
      "<class 'torch.Tensor'>\n"
     ]
    },
    {
     "name": "stderr",
     "output_type": "stream",
     "text": [
      "  7%|▋         | 72/1000 [2:24:44<31:35:09, 122.53s/it]"
     ]
    },
    {
     "name": "stdout",
     "output_type": "stream",
     "text": [
      "eigenvalues shape torch.Size([5]) eigenvectors shape torch.Size([5, 400])\n",
      "72 /home/phdcs2/Hard_Disk/Datasets/Deep-Spectral-Segmentation/data/object-segmentation/ECSSD/features/dino_vits16/0073.pth\n",
      "0073\n",
      "tanh_feats.shape= torch.Size([450, 384])\n",
      "W_feat_ds.shape= torch.Size([450, 450])\n",
      "W_feat_hist_pearsoncorr.shape= torch.Size([450, 450])\n",
      "<class 'torch.Tensor'>\n"
     ]
    },
    {
     "name": "stderr",
     "output_type": "stream",
     "text": [
      "  7%|▋         | 73/1000 [2:26:53<32:01:11, 124.35s/it]"
     ]
    },
    {
     "name": "stdout",
     "output_type": "stream",
     "text": [
      "eigenvalues shape torch.Size([5]) eigenvectors shape torch.Size([5, 400])\n",
      "73 /home/phdcs2/Hard_Disk/Datasets/Deep-Spectral-Segmentation/data/object-segmentation/ECSSD/features/dino_vits16/0074.pth\n",
      "0074\n",
      "tanh_feats.shape= torch.Size([450, 384])\n"
     ]
    },
    {
     "name": "stderr",
     "output_type": "stream",
     "text": [
      "  7%|▋         | 74/1000 [2:29:01<32:18:12, 125.59s/it]"
     ]
    },
    {
     "name": "stdout",
     "output_type": "stream",
     "text": [
      "W_feat_ds.shape= torch.Size([450, 450])\n",
      "W_feat_hist_pearsoncorr.shape= torch.Size([450, 450])\n",
      "<class 'torch.Tensor'>\n",
      "eigenvalues shape torch.Size([5]) eigenvectors shape torch.Size([5, 400])\n",
      "74 /home/phdcs2/Hard_Disk/Datasets/Deep-Spectral-Segmentation/data/object-segmentation/ECSSD/features/dino_vits16/0075.pth\n",
      "0075\n",
      "tanh_feats.shape= torch.Size([450, 384])\n"
     ]
    },
    {
     "name": "stderr",
     "output_type": "stream",
     "text": [
      "  8%|▊         | 75/1000 [2:31:10<32:30:38, 126.53s/it]"
     ]
    },
    {
     "name": "stdout",
     "output_type": "stream",
     "text": [
      "W_feat_ds.shape= torch.Size([450, 450])\n",
      "W_feat_hist_pearsoncorr.shape= torch.Size([450, 450])\n",
      "<class 'torch.Tensor'>\n",
      "eigenvalues shape torch.Size([5]) eigenvectors shape torch.Size([5, 400])\n",
      "75 /home/phdcs2/Hard_Disk/Datasets/Deep-Spectral-Segmentation/data/object-segmentation/ECSSD/features/dino_vits16/0076.pth\n",
      "0076\n",
      "tanh_feats.shape= torch.Size([400, 384])\n",
      "W_feat_ds.shape= torch.Size([400, 400])\n",
      "W_feat_hist_pearsoncorr.shape= torch.Size([400, 400])\n",
      "<class 'torch.Tensor'>\n"
     ]
    },
    {
     "name": "stderr",
     "output_type": "stream",
     "text": [
      "  8%|▊         | 76/1000 [2:32:54<30:46:38, 119.91s/it]"
     ]
    },
    {
     "name": "stdout",
     "output_type": "stream",
     "text": [
      "eigenvalues shape torch.Size([5]) eigenvectors shape torch.Size([5, 400])\n",
      "76 /home/phdcs2/Hard_Disk/Datasets/Deep-Spectral-Segmentation/data/object-segmentation/ECSSD/features/dino_vits16/0077.pth\n",
      "0077\n",
      "tanh_feats.shape= torch.Size([450, 384])\n",
      "W_feat_ds.shape= torch.Size([450, 450])\n",
      "W_feat_hist_pearsoncorr.shape= torch.Size([450, 450])\n",
      "<class 'torch.Tensor'>\n"
     ]
    },
    {
     "name": "stderr",
     "output_type": "stream",
     "text": [
      "  8%|▊         | 77/1000 [2:35:11<32:00:25, 124.84s/it]"
     ]
    },
    {
     "name": "stdout",
     "output_type": "stream",
     "text": [
      "eigenvalues shape torch.Size([5]) eigenvectors shape torch.Size([5, 400])\n",
      "77 /home/phdcs2/Hard_Disk/Datasets/Deep-Spectral-Segmentation/data/object-segmentation/ECSSD/features/dino_vits16/0078.pth\n",
      "0078\n",
      "tanh_feats.shape= torch.Size([400, 384])\n",
      "W_feat_ds.shape= torch.Size([400, 400])\n",
      "W_feat_hist_pearsoncorr.shape= torch.Size([400, 400])\n",
      "<class 'torch.Tensor'>\n"
     ]
    },
    {
     "name": "stderr",
     "output_type": "stream",
     "text": [
      "  8%|▊         | 78/1000 [2:36:57<30:30:58, 119.15s/it]"
     ]
    },
    {
     "name": "stdout",
     "output_type": "stream",
     "text": [
      "eigenvalues shape torch.Size([5]) eigenvectors shape torch.Size([5, 400])\n",
      "78 /home/phdcs2/Hard_Disk/Datasets/Deep-Spectral-Segmentation/data/object-segmentation/ECSSD/features/dino_vits16/0079.pth\n",
      "0079\n",
      "tanh_feats.shape= torch.Size([525, 384])\n",
      "W_feat_ds.shape= torch.Size([525, 525])\n",
      "W_feat_hist_pearsoncorr.shape= torch.Size([525, 525])\n",
      "<class 'torch.Tensor'>\n"
     ]
    },
    {
     "name": "stderr",
     "output_type": "stream",
     "text": [
      "  8%|▊         | 79/1000 [2:39:58<35:15:19, 137.81s/it]"
     ]
    },
    {
     "name": "stdout",
     "output_type": "stream",
     "text": [
      "eigenvalues shape torch.Size([5]) eigenvectors shape torch.Size([5, 400])\n",
      "79 /home/phdcs2/Hard_Disk/Datasets/Deep-Spectral-Segmentation/data/object-segmentation/ECSSD/features/dino_vits16/0080.pth\n",
      "0080\n",
      "tanh_feats.shape= torch.Size([450, 384])\n",
      "W_feat_ds.shape= torch.Size([450, 450])\n",
      "W_feat_hist_pearsoncorr.shape= torch.Size([450, 450])\n",
      "<class 'torch.Tensor'>\n",
      "eigenvalues shape torch.Size([5]) eigenvectors shape torch.Size([5, 400])\n"
     ]
    },
    {
     "name": "stderr",
     "output_type": "stream",
     "text": [
      "  8%|▊         | 80/1000 [2:42:12<34:54:10, 136.58s/it]"
     ]
    },
    {
     "name": "stdout",
     "output_type": "stream",
     "text": [
      "80 /home/phdcs2/Hard_Disk/Datasets/Deep-Spectral-Segmentation/data/object-segmentation/ECSSD/features/dino_vits16/0081.pth\n",
      "0081\n",
      "tanh_feats.shape= torch.Size([450, 384])\n",
      "W_feat_ds.shape= torch.Size([450, 450])\n",
      "W_feat_hist_pearsoncorr.shape= torch.Size([450, 450])\n",
      "<class 'torch.Tensor'>\n"
     ]
    },
    {
     "name": "stderr",
     "output_type": "stream",
     "text": [
      "  8%|▊         | 81/1000 [2:44:27<34:46:17, 136.21s/it]"
     ]
    },
    {
     "name": "stdout",
     "output_type": "stream",
     "text": [
      "eigenvalues shape torch.Size([5]) eigenvectors shape torch.Size([5, 400])\n",
      "81 /home/phdcs2/Hard_Disk/Datasets/Deep-Spectral-Segmentation/data/object-segmentation/ECSSD/features/dino_vits16/0082.pth\n",
      "0082\n",
      "tanh_feats.shape= torch.Size([450, 384])\n",
      "W_feat_ds.shape= torch.Size([450, 450])\n",
      "W_feat_hist_pearsoncorr.shape= torch.Size([450, 450])\n",
      "<class 'torch.Tensor'>\n"
     ]
    },
    {
     "name": "stderr",
     "output_type": "stream",
     "text": [
      "  8%|▊         | 82/1000 [2:46:31<33:48:17, 132.57s/it]"
     ]
    },
    {
     "name": "stdout",
     "output_type": "stream",
     "text": [
      "eigenvalues shape torch.Size([5]) eigenvectors shape torch.Size([5, 400])\n",
      "82 /home/phdcs2/Hard_Disk/Datasets/Deep-Spectral-Segmentation/data/object-segmentation/ECSSD/features/dino_vits16/0083.pth\n",
      "0083\n",
      "tanh_feats.shape= torch.Size([450, 384])\n",
      "W_feat_ds.shape= torch.Size([450, 450])\n",
      "W_feat_hist_pearsoncorr.shape= torch.Size([450, 450])\n",
      "<class 'torch.Tensor'>\n"
     ]
    },
    {
     "name": "stderr",
     "output_type": "stream",
     "text": [
      "  8%|▊         | 83/1000 [2:48:47<34:00:20, 133.50s/it]"
     ]
    },
    {
     "name": "stdout",
     "output_type": "stream",
     "text": [
      "eigenvalues shape torch.Size([5]) eigenvectors shape torch.Size([5, 400])\n",
      "83 /home/phdcs2/Hard_Disk/Datasets/Deep-Spectral-Segmentation/data/object-segmentation/ECSSD/features/dino_vits16/0084.pth\n",
      "0084\n",
      "tanh_feats.shape= torch.Size([450, 384])\n",
      "W_feat_ds.shape= torch.Size([450, 450])\n",
      "W_feat_hist_pearsoncorr.shape= torch.Size([450, 450])\n",
      "<class 'torch.Tensor'>\n"
     ]
    },
    {
     "name": "stderr",
     "output_type": "stream",
     "text": [
      "  8%|▊         | 84/1000 [2:50:50<33:11:08, 130.42s/it]"
     ]
    },
    {
     "name": "stdout",
     "output_type": "stream",
     "text": [
      "eigenvalues shape torch.Size([5]) eigenvectors shape torch.Size([5, 400])\n",
      "84 /home/phdcs2/Hard_Disk/Datasets/Deep-Spectral-Segmentation/data/object-segmentation/ECSSD/features/dino_vits16/0085.pth\n",
      "0085\n",
      "tanh_feats.shape= torch.Size([450, 384])\n",
      "W_feat_ds.shape= torch.Size([450, 450])\n",
      "W_feat_hist_pearsoncorr.shape= torch.Size([450, 450])\n",
      "<class 'torch.Tensor'>\n"
     ]
    },
    {
     "name": "stderr",
     "output_type": "stream",
     "text": [
      "  8%|▊         | 85/1000 [2:53:04<33:25:16, 131.49s/it]"
     ]
    },
    {
     "name": "stdout",
     "output_type": "stream",
     "text": [
      "eigenvalues shape torch.Size([5]) eigenvectors shape torch.Size([5, 400])\n",
      "85 /home/phdcs2/Hard_Disk/Datasets/Deep-Spectral-Segmentation/data/object-segmentation/ECSSD/features/dino_vits16/0086.pth\n",
      "0086\n",
      "tanh_feats.shape= torch.Size([450, 384])\n",
      "W_feat_ds.shape= torch.Size([450, 450])\n",
      "W_feat_hist_pearsoncorr.shape= torch.Size([450, 450])\n",
      "<class 'torch.Tensor'>\n"
     ]
    },
    {
     "name": "stderr",
     "output_type": "stream",
     "text": [
      "  9%|▊         | 86/1000 [2:54:59<32:09:07, 126.64s/it]"
     ]
    },
    {
     "name": "stdout",
     "output_type": "stream",
     "text": [
      "eigenvalues shape torch.Size([5]) eigenvectors shape torch.Size([5, 400])\n",
      "86 /home/phdcs2/Hard_Disk/Datasets/Deep-Spectral-Segmentation/data/object-segmentation/ECSSD/features/dino_vits16/0087.pth\n",
      "0087\n",
      "tanh_feats.shape= torch.Size([450, 384])\n",
      "W_feat_ds.shape= torch.Size([450, 450])\n",
      "W_feat_hist_pearsoncorr.shape= torch.Size([450, 450])\n",
      "<class 'torch.Tensor'>\n"
     ]
    },
    {
     "name": "stderr",
     "output_type": "stream",
     "text": [
      "  9%|▊         | 87/1000 [2:56:46<30:35:36, 120.63s/it]"
     ]
    },
    {
     "name": "stdout",
     "output_type": "stream",
     "text": [
      "eigenvalues shape torch.Size([5]) eigenvectors shape torch.Size([5, 400])\n",
      "87 /home/phdcs2/Hard_Disk/Datasets/Deep-Spectral-Segmentation/data/object-segmentation/ECSSD/features/dino_vits16/0088.pth\n",
      "0088\n",
      "tanh_feats.shape= torch.Size([450, 384])\n"
     ]
    },
    {
     "name": "stderr",
     "output_type": "stream",
     "text": [
      "  9%|▉         | 88/1000 [2:58:34<29:37:39, 116.95s/it]"
     ]
    },
    {
     "name": "stdout",
     "output_type": "stream",
     "text": [
      "W_feat_ds.shape= torch.Size([450, 450])\n",
      "W_feat_hist_pearsoncorr.shape= torch.Size([450, 450])\n",
      "<class 'torch.Tensor'>\n",
      "eigenvalues shape torch.Size([5]) eigenvectors shape torch.Size([5, 400])\n",
      "88 /home/phdcs2/Hard_Disk/Datasets/Deep-Spectral-Segmentation/data/object-segmentation/ECSSD/features/dino_vits16/0089.pth\n",
      "0089\n",
      "tanh_feats.shape= torch.Size([400, 384])\n"
     ]
    },
    {
     "name": "stderr",
     "output_type": "stream",
     "text": [
      "  9%|▉         | 89/1000 [3:00:01<27:18:14, 107.90s/it]"
     ]
    },
    {
     "name": "stdout",
     "output_type": "stream",
     "text": [
      "W_feat_ds.shape= torch.Size([400, 400])\n",
      "W_feat_hist_pearsoncorr.shape= torch.Size([400, 400])\n",
      "<class 'torch.Tensor'>\n",
      "eigenvalues shape torch.Size([5]) eigenvectors shape torch.Size([5, 400])\n",
      "89 /home/phdcs2/Hard_Disk/Datasets/Deep-Spectral-Segmentation/data/object-segmentation/ECSSD/features/dino_vits16/0090.pth\n",
      "0090\n",
      "tanh_feats.shape= torch.Size([400, 384])\n",
      "W_feat_ds.shape= torch.Size([400, 400])\n",
      "W_feat_hist_pearsoncorr.shape= torch.Size([400, 400])\n",
      "<class 'torch.Tensor'>\n"
     ]
    },
    {
     "name": "stderr",
     "output_type": "stream",
     "text": [
      "  9%|▉         | 90/1000 [3:01:29<25:45:25, 101.90s/it]"
     ]
    },
    {
     "name": "stdout",
     "output_type": "stream",
     "text": [
      "eigenvalues shape torch.Size([5]) eigenvectors shape torch.Size([5, 400])\n",
      "90 /home/phdcs2/Hard_Disk/Datasets/Deep-Spectral-Segmentation/data/object-segmentation/ECSSD/features/dino_vits16/0091.pth\n",
      "0091\n",
      "tanh_feats.shape= torch.Size([400, 384])\n",
      "W_feat_ds.shape= torch.Size([400, 400])\n",
      "W_feat_hist_pearsoncorr.shape= torch.Size([400, 400])\n",
      "<class 'torch.Tensor'>\n"
     ]
    },
    {
     "name": "stderr",
     "output_type": "stream",
     "text": [
      "  9%|▉         | 91/1000 [3:02:58<24:46:50, 98.14s/it] "
     ]
    },
    {
     "name": "stdout",
     "output_type": "stream",
     "text": [
      "eigenvalues shape torch.Size([5]) eigenvectors shape torch.Size([5, 400])\n",
      "91 /home/phdcs2/Hard_Disk/Datasets/Deep-Spectral-Segmentation/data/object-segmentation/ECSSD/features/dino_vits16/0092.pth\n",
      "0092\n",
      "tanh_feats.shape= torch.Size([400, 384])\n",
      "W_feat_ds.shape= torch.Size([400, 400])\n",
      "W_feat_hist_pearsoncorr.shape= torch.Size([400, 400])\n",
      "<class 'torch.Tensor'>\n"
     ]
    },
    {
     "name": "stderr",
     "output_type": "stream",
     "text": [
      "  9%|▉         | 92/1000 [3:04:21<23:34:03, 93.44s/it]"
     ]
    },
    {
     "name": "stdout",
     "output_type": "stream",
     "text": [
      "eigenvalues shape torch.Size([5]) eigenvectors shape torch.Size([5, 400])\n",
      "92 /home/phdcs2/Hard_Disk/Datasets/Deep-Spectral-Segmentation/data/object-segmentation/ECSSD/features/dino_vits16/0093.pth\n",
      "0093\n",
      "tanh_feats.shape= torch.Size([400, 384])\n"
     ]
    },
    {
     "name": "stderr",
     "output_type": "stream",
     "text": [
      "  9%|▉         | 93/1000 [3:05:43<22:43:06, 90.17s/it]"
     ]
    },
    {
     "name": "stdout",
     "output_type": "stream",
     "text": [
      "W_feat_ds.shape= torch.Size([400, 400])\n",
      "W_feat_hist_pearsoncorr.shape= torch.Size([400, 400])\n",
      "<class 'torch.Tensor'>\n",
      "eigenvalues shape torch.Size([5]) eigenvectors shape torch.Size([5, 400])\n",
      "93 /home/phdcs2/Hard_Disk/Datasets/Deep-Spectral-Segmentation/data/object-segmentation/ECSSD/features/dino_vits16/0094.pth\n",
      "0094\n",
      "tanh_feats.shape= torch.Size([400, 384])\n",
      "W_feat_ds.shape= torch.Size([400, 400])\n",
      "W_feat_hist_pearsoncorr.shape= torch.Size([400, 400])\n",
      "<class 'torch.Tensor'>\n"
     ]
    },
    {
     "name": "stderr",
     "output_type": "stream",
     "text": [
      "  9%|▉         | 94/1000 [3:07:05<22:04:00, 87.68s/it]"
     ]
    },
    {
     "name": "stdout",
     "output_type": "stream",
     "text": [
      "eigenvalues shape torch.Size([5]) eigenvectors shape torch.Size([5, 400])\n",
      "94 /home/phdcs2/Hard_Disk/Datasets/Deep-Spectral-Segmentation/data/object-segmentation/ECSSD/features/dino_vits16/0095.pth\n",
      "0095\n",
      "tanh_feats.shape= torch.Size([400, 384])\n",
      "W_feat_ds.shape= torch.Size([400, 400])\n",
      "W_feat_hist_pearsoncorr.shape= torch.Size([400, 400])\n",
      "<class 'torch.Tensor'>\n"
     ]
    },
    {
     "name": "stderr",
     "output_type": "stream",
     "text": [
      " 10%|▉         | 95/1000 [3:08:28<21:38:11, 86.07s/it]"
     ]
    },
    {
     "name": "stdout",
     "output_type": "stream",
     "text": [
      "eigenvalues shape torch.Size([5]) eigenvectors shape torch.Size([5, 400])\n",
      "95 /home/phdcs2/Hard_Disk/Datasets/Deep-Spectral-Segmentation/data/object-segmentation/ECSSD/features/dino_vits16/0096.pth\n",
      "0096\n",
      "tanh_feats.shape= torch.Size([400, 384])\n",
      "W_feat_ds.shape= torch.Size([400, 400])\n",
      "W_feat_hist_pearsoncorr.shape= torch.Size([400, 400])\n",
      "<class 'torch.Tensor'>\n"
     ]
    },
    {
     "name": "stderr",
     "output_type": "stream",
     "text": [
      " 10%|▉         | 96/1000 [3:09:51<21:22:31, 85.12s/it]"
     ]
    },
    {
     "name": "stdout",
     "output_type": "stream",
     "text": [
      "eigenvalues shape torch.Size([5]) eigenvectors shape torch.Size([5, 400])\n",
      "96 /home/phdcs2/Hard_Disk/Datasets/Deep-Spectral-Segmentation/data/object-segmentation/ECSSD/features/dino_vits16/0097.pth\n",
      "0097\n",
      "tanh_feats.shape= torch.Size([400, 384])\n"
     ]
    },
    {
     "name": "stderr",
     "output_type": "stream",
     "text": [
      " 10%|▉         | 97/1000 [3:11:13<21:07:01, 84.19s/it]"
     ]
    },
    {
     "name": "stdout",
     "output_type": "stream",
     "text": [
      "W_feat_ds.shape= torch.Size([400, 400])\n",
      "W_feat_hist_pearsoncorr.shape= torch.Size([400, 400])\n",
      "<class 'torch.Tensor'>\n",
      "eigenvalues shape torch.Size([5]) eigenvectors shape torch.Size([5, 400])\n",
      "97 /home/phdcs2/Hard_Disk/Datasets/Deep-Spectral-Segmentation/data/object-segmentation/ECSSD/features/dino_vits16/0098.pth\n",
      "0098\n",
      "tanh_feats.shape= torch.Size([400, 384])\n",
      "W_feat_ds.shape= torch.Size([400, 400])\n",
      "W_feat_hist_pearsoncorr.shape= torch.Size([400, 400])\n",
      "<class 'torch.Tensor'>\n"
     ]
    },
    {
     "name": "stderr",
     "output_type": "stream",
     "text": [
      " 10%|▉         | 98/1000 [3:12:35<20:56:49, 83.60s/it]"
     ]
    },
    {
     "name": "stdout",
     "output_type": "stream",
     "text": [
      "eigenvalues shape torch.Size([5]) eigenvectors shape torch.Size([5, 400])\n",
      "98 /home/phdcs2/Hard_Disk/Datasets/Deep-Spectral-Segmentation/data/object-segmentation/ECSSD/features/dino_vits16/0099.pth\n",
      "0099\n",
      "tanh_feats.shape= torch.Size([400, 384])\n",
      "W_feat_ds.shape= torch.Size([400, 400])\n",
      "W_feat_hist_pearsoncorr.shape= torch.Size([400, 400])\n",
      "<class 'torch.Tensor'>\n"
     ]
    },
    {
     "name": "stderr",
     "output_type": "stream",
     "text": [
      " 10%|▉         | 99/1000 [3:13:58<20:52:17, 83.39s/it]"
     ]
    },
    {
     "name": "stdout",
     "output_type": "stream",
     "text": [
      "eigenvalues shape torch.Size([5]) eigenvectors shape torch.Size([5, 400])\n",
      "99 /home/phdcs2/Hard_Disk/Datasets/Deep-Spectral-Segmentation/data/object-segmentation/ECSSD/features/dino_vits16/0100.pth\n",
      "0100\n",
      "tanh_feats.shape= torch.Size([400, 384])\n"
     ]
    },
    {
     "name": "stderr",
     "output_type": "stream",
     "text": [
      " 10%|█         | 100/1000 [3:15:20<20:47:19, 83.15s/it]"
     ]
    },
    {
     "name": "stdout",
     "output_type": "stream",
     "text": [
      "W_feat_ds.shape= torch.Size([400, 400])\n",
      "W_feat_hist_pearsoncorr.shape= torch.Size([400, 400])\n",
      "<class 'torch.Tensor'>\n",
      "eigenvalues shape torch.Size([5]) eigenvectors shape torch.Size([5, 400])\n",
      "100 /home/phdcs2/Hard_Disk/Datasets/Deep-Spectral-Segmentation/data/object-segmentation/ECSSD/features/dino_vits16/0101.pth\n",
      "0101\n",
      "tanh_feats.shape= torch.Size([400, 384])\n",
      "W_feat_ds.shape= torch.Size([400, 400])\n",
      "W_feat_hist_pearsoncorr.shape= torch.Size([400, 400])\n",
      "<class 'torch.Tensor'>\n"
     ]
    },
    {
     "name": "stderr",
     "output_type": "stream",
     "text": [
      " 10%|█         | 101/1000 [3:16:43<20:46:19, 83.18s/it]"
     ]
    },
    {
     "name": "stdout",
     "output_type": "stream",
     "text": [
      "eigenvalues shape torch.Size([5]) eigenvectors shape torch.Size([5, 400])\n",
      "101 /home/phdcs2/Hard_Disk/Datasets/Deep-Spectral-Segmentation/data/object-segmentation/ECSSD/features/dino_vits16/0102.pth\n",
      "0102\n",
      "tanh_feats.shape= torch.Size([400, 384])\n",
      "W_feat_ds.shape= torch.Size([400, 400])\n",
      "W_feat_hist_pearsoncorr.shape= torch.Size([400, 400])\n",
      "<class 'torch.Tensor'>\n"
     ]
    },
    {
     "name": "stderr",
     "output_type": "stream",
     "text": [
      " 10%|█         | 102/1000 [3:18:05<20:39:29, 82.82s/it]"
     ]
    },
    {
     "name": "stdout",
     "output_type": "stream",
     "text": [
      "eigenvalues shape torch.Size([5]) eigenvectors shape torch.Size([5, 400])\n",
      "102 /home/phdcs2/Hard_Disk/Datasets/Deep-Spectral-Segmentation/data/object-segmentation/ECSSD/features/dino_vits16/0103.pth\n",
      "0103\n",
      "tanh_feats.shape= torch.Size([400, 384])\n",
      "W_feat_ds.shape= torch.Size([400, 400])\n",
      "W_feat_hist_pearsoncorr.shape= torch.Size([400, 400])\n",
      "<class 'torch.Tensor'>\n"
     ]
    },
    {
     "name": "stderr",
     "output_type": "stream",
     "text": [
      " 10%|█         | 103/1000 [3:19:28<20:35:17, 82.63s/it]"
     ]
    },
    {
     "name": "stdout",
     "output_type": "stream",
     "text": [
      "eigenvalues shape torch.Size([5]) eigenvectors shape torch.Size([5, 400])\n",
      "103 /home/phdcs2/Hard_Disk/Datasets/Deep-Spectral-Segmentation/data/object-segmentation/ECSSD/features/dino_vits16/0104.pth\n",
      "0104\n",
      "tanh_feats.shape= torch.Size([400, 384])\n",
      "W_feat_ds.shape= torch.Size([400, 400])\n",
      "W_feat_hist_pearsoncorr.shape= torch.Size([400, 400])\n",
      "<class 'torch.Tensor'>\n"
     ]
    },
    {
     "name": "stderr",
     "output_type": "stream",
     "text": [
      " 10%|█         | 104/1000 [3:20:49<20:29:58, 82.36s/it]"
     ]
    },
    {
     "name": "stdout",
     "output_type": "stream",
     "text": [
      "eigenvalues shape torch.Size([5]) eigenvectors shape torch.Size([5, 400])\n",
      "104 /home/phdcs2/Hard_Disk/Datasets/Deep-Spectral-Segmentation/data/object-segmentation/ECSSD/features/dino_vits16/0105.pth\n",
      "0105\n",
      "tanh_feats.shape= torch.Size([400, 384])\n",
      "W_feat_ds.shape= torch.Size([400, 400])\n",
      "W_feat_hist_pearsoncorr.shape= torch.Size([400, 400])\n",
      "<class 'torch.Tensor'>\n"
     ]
    },
    {
     "name": "stderr",
     "output_type": "stream",
     "text": [
      " 10%|█         | 105/1000 [3:22:12<20:30:44, 82.51s/it]"
     ]
    },
    {
     "name": "stdout",
     "output_type": "stream",
     "text": [
      "eigenvalues shape torch.Size([5]) eigenvectors shape torch.Size([5, 400])\n",
      "105 /home/phdcs2/Hard_Disk/Datasets/Deep-Spectral-Segmentation/data/object-segmentation/ECSSD/features/dino_vits16/0106.pth\n",
      "0106\n",
      "tanh_feats.shape= torch.Size([400, 384])\n",
      "W_feat_ds.shape= torch.Size([400, 400])\n",
      "W_feat_hist_pearsoncorr.shape= torch.Size([400, 400])\n",
      "<class 'torch.Tensor'>\n"
     ]
    },
    {
     "name": "stderr",
     "output_type": "stream",
     "text": [
      " 11%|█         | 106/1000 [3:23:34<20:26:05, 82.29s/it]"
     ]
    },
    {
     "name": "stdout",
     "output_type": "stream",
     "text": [
      "eigenvalues shape torch.Size([5]) eigenvectors shape torch.Size([5, 400])\n",
      "106 /home/phdcs2/Hard_Disk/Datasets/Deep-Spectral-Segmentation/data/object-segmentation/ECSSD/features/dino_vits16/0107.pth\n",
      "0107\n",
      "tanh_feats.shape= torch.Size([400, 384])\n",
      "W_feat_ds.shape= torch.Size([400, 400])\n",
      "W_feat_hist_pearsoncorr.shape= torch.Size([400, 400])\n",
      "<class 'torch.Tensor'>\n"
     ]
    },
    {
     "name": "stderr",
     "output_type": "stream",
     "text": [
      " 11%|█         | 107/1000 [3:24:56<20:23:59, 82.24s/it]"
     ]
    },
    {
     "name": "stdout",
     "output_type": "stream",
     "text": [
      "eigenvalues shape torch.Size([5]) eigenvectors shape torch.Size([5, 400])\n",
      "107 /home/phdcs2/Hard_Disk/Datasets/Deep-Spectral-Segmentation/data/object-segmentation/ECSSD/features/dino_vits16/0108.pth\n",
      "0108\n",
      "tanh_feats.shape= torch.Size([400, 384])\n",
      "W_feat_ds.shape= torch.Size([400, 400])\n",
      "W_feat_hist_pearsoncorr.shape= torch.Size([400, 400])\n",
      "<class 'torch.Tensor'>\n"
     ]
    },
    {
     "name": "stderr",
     "output_type": "stream",
     "text": [
      " 11%|█         | 108/1000 [3:26:20<20:28:00, 82.60s/it]"
     ]
    },
    {
     "name": "stdout",
     "output_type": "stream",
     "text": [
      "eigenvalues shape torch.Size([5]) eigenvectors shape torch.Size([5, 400])\n",
      "108 /home/phdcs2/Hard_Disk/Datasets/Deep-Spectral-Segmentation/data/object-segmentation/ECSSD/features/dino_vits16/0109.pth\n",
      "0109\n",
      "tanh_feats.shape= torch.Size([400, 384])\n",
      "W_feat_ds.shape= torch.Size([400, 400])\n",
      "W_feat_hist_pearsoncorr.shape= torch.Size([400, 400])\n",
      "<class 'torch.Tensor'>\n"
     ]
    },
    {
     "name": "stderr",
     "output_type": "stream",
     "text": [
      " 11%|█         | 109/1000 [3:27:42<20:24:46, 82.48s/it]"
     ]
    },
    {
     "name": "stdout",
     "output_type": "stream",
     "text": [
      "eigenvalues shape torch.Size([5]) eigenvectors shape torch.Size([5, 400])\n",
      "109 /home/phdcs2/Hard_Disk/Datasets/Deep-Spectral-Segmentation/data/object-segmentation/ECSSD/features/dino_vits16/0110.pth\n",
      "0110\n",
      "tanh_feats.shape= torch.Size([400, 384])\n"
     ]
    },
    {
     "name": "stderr",
     "output_type": "stream",
     "text": [
      " 11%|█         | 110/1000 [3:29:04<20:21:35, 82.35s/it]"
     ]
    },
    {
     "name": "stdout",
     "output_type": "stream",
     "text": [
      "W_feat_ds.shape= torch.Size([400, 400])\n",
      "W_feat_hist_pearsoncorr.shape= torch.Size([400, 400])\n",
      "<class 'torch.Tensor'>\n",
      "eigenvalues shape torch.Size([5]) eigenvectors shape torch.Size([5, 400])\n",
      "110 /home/phdcs2/Hard_Disk/Datasets/Deep-Spectral-Segmentation/data/object-segmentation/ECSSD/features/dino_vits16/0111.pth\n",
      "0111\n",
      "tanh_feats.shape= torch.Size([400, 384])\n",
      "W_feat_ds.shape= torch.Size([400, 400])\n",
      "W_feat_hist_pearsoncorr.shape= torch.Size([400, 400])\n",
      "<class 'torch.Tensor'>\n"
     ]
    },
    {
     "name": "stderr",
     "output_type": "stream",
     "text": [
      " 11%|█         | 111/1000 [3:30:27<20:22:20, 82.50s/it]"
     ]
    },
    {
     "name": "stdout",
     "output_type": "stream",
     "text": [
      "eigenvalues shape torch.Size([5]) eigenvectors shape torch.Size([5, 400])\n",
      "111 /home/phdcs2/Hard_Disk/Datasets/Deep-Spectral-Segmentation/data/object-segmentation/ECSSD/features/dino_vits16/0112.pth\n",
      "0112\n",
      "tanh_feats.shape= torch.Size([400, 384])\n",
      "W_feat_ds.shape= torch.Size([400, 400])\n",
      "W_feat_hist_pearsoncorr.shape= torch.Size([400, 400])\n",
      "<class 'torch.Tensor'>\n"
     ]
    },
    {
     "name": "stderr",
     "output_type": "stream",
     "text": [
      " 11%|█         | 112/1000 [3:31:49<20:21:59, 82.57s/it]"
     ]
    },
    {
     "name": "stdout",
     "output_type": "stream",
     "text": [
      "eigenvalues shape torch.Size([5]) eigenvectors shape torch.Size([5, 400])\n",
      "112 /home/phdcs2/Hard_Disk/Datasets/Deep-Spectral-Segmentation/data/object-segmentation/ECSSD/features/dino_vits16/0113.pth\n",
      "0113\n",
      "tanh_feats.shape= torch.Size([400, 384])\n",
      "W_feat_ds.shape= torch.Size([400, 400])\n",
      "W_feat_hist_pearsoncorr.shape= torch.Size([400, 400])\n",
      "<class 'torch.Tensor'>\n"
     ]
    },
    {
     "name": "stderr",
     "output_type": "stream",
     "text": [
      " 11%|█▏        | 113/1000 [3:33:12<20:20:04, 82.53s/it]"
     ]
    },
    {
     "name": "stdout",
     "output_type": "stream",
     "text": [
      "eigenvalues shape torch.Size([5]) eigenvectors shape torch.Size([5, 400])\n",
      "113 /home/phdcs2/Hard_Disk/Datasets/Deep-Spectral-Segmentation/data/object-segmentation/ECSSD/features/dino_vits16/0114.pth\n",
      "0114\n",
      "tanh_feats.shape= torch.Size([400, 384])\n",
      "W_feat_ds.shape= torch.Size([400, 400])\n",
      "W_feat_hist_pearsoncorr.shape= torch.Size([400, 400])\n",
      "<class 'torch.Tensor'>\n"
     ]
    },
    {
     "name": "stderr",
     "output_type": "stream",
     "text": [
      " 11%|█▏        | 114/1000 [3:34:34<20:18:20, 82.51s/it]"
     ]
    },
    {
     "name": "stdout",
     "output_type": "stream",
     "text": [
      "eigenvalues shape torch.Size([5]) eigenvectors shape torch.Size([5, 400])\n",
      "114 /home/phdcs2/Hard_Disk/Datasets/Deep-Spectral-Segmentation/data/object-segmentation/ECSSD/features/dino_vits16/0115.pth\n",
      "0115\n",
      "tanh_feats.shape= torch.Size([400, 384])\n",
      "W_feat_ds.shape= torch.Size([400, 400])\n",
      "W_feat_hist_pearsoncorr.shape= torch.Size([400, 400])\n",
      "<class 'torch.Tensor'>\n"
     ]
    },
    {
     "name": "stderr",
     "output_type": "stream",
     "text": [
      " 12%|█▏        | 115/1000 [3:35:57<20:18:40, 82.62s/it]"
     ]
    },
    {
     "name": "stdout",
     "output_type": "stream",
     "text": [
      "eigenvalues shape torch.Size([5]) eigenvectors shape torch.Size([5, 400])\n",
      "115 /home/phdcs2/Hard_Disk/Datasets/Deep-Spectral-Segmentation/data/object-segmentation/ECSSD/features/dino_vits16/0116.pth\n",
      "0116\n",
      "tanh_feats.shape= torch.Size([400, 384])\n",
      "W_feat_ds.shape= torch.Size([400, 400])\n",
      "W_feat_hist_pearsoncorr.shape= torch.Size([400, 400])\n",
      "<class 'torch.Tensor'>\n"
     ]
    },
    {
     "name": "stderr",
     "output_type": "stream",
     "text": [
      " 12%|█▏        | 116/1000 [3:37:20<20:17:41, 82.65s/it]"
     ]
    },
    {
     "name": "stdout",
     "output_type": "stream",
     "text": [
      "eigenvalues shape torch.Size([5]) eigenvectors shape torch.Size([5, 400])\n",
      "116 /home/phdcs2/Hard_Disk/Datasets/Deep-Spectral-Segmentation/data/object-segmentation/ECSSD/features/dino_vits16/0117.pth\n",
      "0117\n",
      "tanh_feats.shape= torch.Size([400, 384])\n"
     ]
    },
    {
     "name": "stderr",
     "output_type": "stream",
     "text": [
      " 12%|█▏        | 117/1000 [3:38:42<20:14:03, 82.50s/it]"
     ]
    },
    {
     "name": "stdout",
     "output_type": "stream",
     "text": [
      "W_feat_ds.shape= torch.Size([400, 400])\n",
      "W_feat_hist_pearsoncorr.shape= torch.Size([400, 400])\n",
      "<class 'torch.Tensor'>\n",
      "eigenvalues shape torch.Size([5]) eigenvectors shape torch.Size([5, 400])\n",
      "117 /home/phdcs2/Hard_Disk/Datasets/Deep-Spectral-Segmentation/data/object-segmentation/ECSSD/features/dino_vits16/0118.pth\n",
      "0118\n",
      "tanh_feats.shape= torch.Size([400, 384])\n",
      "W_feat_ds.shape= torch.Size([400, 400])\n",
      "W_feat_hist_pearsoncorr.shape= torch.Size([400, 400])\n",
      "<class 'torch.Tensor'>\n"
     ]
    },
    {
     "name": "stderr",
     "output_type": "stream",
     "text": [
      " 12%|█▏        | 118/1000 [3:40:04<20:08:50, 82.23s/it]"
     ]
    },
    {
     "name": "stdout",
     "output_type": "stream",
     "text": [
      "eigenvalues shape torch.Size([5]) eigenvectors shape torch.Size([5, 400])\n",
      "118 /home/phdcs2/Hard_Disk/Datasets/Deep-Spectral-Segmentation/data/object-segmentation/ECSSD/features/dino_vits16/0119.pth\n",
      "0119\n",
      "tanh_feats.shape= torch.Size([400, 384])\n",
      "W_feat_ds.shape= torch.Size([400, 400])\n",
      "W_feat_hist_pearsoncorr.shape= torch.Size([400, 400])\n",
      "<class 'torch.Tensor'>\n"
     ]
    },
    {
     "name": "stderr",
     "output_type": "stream",
     "text": [
      " 12%|█▏        | 119/1000 [3:41:27<20:13:20, 82.63s/it]"
     ]
    },
    {
     "name": "stdout",
     "output_type": "stream",
     "text": [
      "eigenvalues shape torch.Size([5]) eigenvectors shape torch.Size([5, 400])\n",
      "119 /home/phdcs2/Hard_Disk/Datasets/Deep-Spectral-Segmentation/data/object-segmentation/ECSSD/features/dino_vits16/0120.pth\n",
      "0120\n",
      "tanh_feats.shape= torch.Size([400, 384])\n",
      "W_feat_ds.shape= torch.Size([400, 400])\n",
      "W_feat_hist_pearsoncorr.shape= torch.Size([400, 400])\n",
      "<class 'torch.Tensor'>\n"
     ]
    },
    {
     "name": "stderr",
     "output_type": "stream",
     "text": [
      " 12%|█▏        | 120/1000 [3:42:49<20:08:20, 82.39s/it]"
     ]
    },
    {
     "name": "stdout",
     "output_type": "stream",
     "text": [
      "eigenvalues shape torch.Size([5]) eigenvectors shape torch.Size([5, 400])\n",
      "120 /home/phdcs2/Hard_Disk/Datasets/Deep-Spectral-Segmentation/data/object-segmentation/ECSSD/features/dino_vits16/0121.pth\n",
      "0121\n",
      "tanh_feats.shape= torch.Size([400, 384])\n",
      "W_feat_ds.shape= torch.Size([400, 400])\n",
      "W_feat_hist_pearsoncorr.shape= torch.Size([400, 400])\n",
      "<class 'torch.Tensor'>\n"
     ]
    },
    {
     "name": "stderr",
     "output_type": "stream",
     "text": [
      " 12%|█▏        | 121/1000 [3:44:11<20:06:38, 82.36s/it]"
     ]
    },
    {
     "name": "stdout",
     "output_type": "stream",
     "text": [
      "eigenvalues shape torch.Size([5]) eigenvectors shape torch.Size([5, 400])\n",
      "121 /home/phdcs2/Hard_Disk/Datasets/Deep-Spectral-Segmentation/data/object-segmentation/ECSSD/features/dino_vits16/0122.pth\n",
      "0122\n",
      "tanh_feats.shape= torch.Size([400, 384])\n",
      "W_feat_ds.shape= torch.Size([400, 400])\n",
      "W_feat_hist_pearsoncorr.shape= torch.Size([400, 400])\n",
      "<class 'torch.Tensor'>\n"
     ]
    },
    {
     "name": "stderr",
     "output_type": "stream",
     "text": [
      " 12%|█▏        | 122/1000 [3:45:34<20:06:12, 82.43s/it]"
     ]
    },
    {
     "name": "stdout",
     "output_type": "stream",
     "text": [
      "eigenvalues shape torch.Size([5]) eigenvectors shape torch.Size([5, 400])\n",
      "122 /home/phdcs2/Hard_Disk/Datasets/Deep-Spectral-Segmentation/data/object-segmentation/ECSSD/features/dino_vits16/0123.pth\n",
      "0123\n",
      "tanh_feats.shape= torch.Size([400, 384])\n",
      "W_feat_ds.shape= torch.Size([400, 400])\n",
      "W_feat_hist_pearsoncorr.shape= torch.Size([400, 400])\n",
      "<class 'torch.Tensor'>\n"
     ]
    },
    {
     "name": "stderr",
     "output_type": "stream",
     "text": [
      " 12%|█▏        | 123/1000 [3:46:58<20:10:13, 82.80s/it]"
     ]
    },
    {
     "name": "stdout",
     "output_type": "stream",
     "text": [
      "eigenvalues shape torch.Size([5]) eigenvectors shape torch.Size([5, 400])\n",
      "123 /home/phdcs2/Hard_Disk/Datasets/Deep-Spectral-Segmentation/data/object-segmentation/ECSSD/features/dino_vits16/0124.pth\n",
      "0124\n",
      "tanh_feats.shape= torch.Size([400, 384])\n",
      "W_feat_ds.shape= torch.Size([400, 400])\n",
      "W_feat_hist_pearsoncorr.shape= torch.Size([400, 400])\n",
      "<class 'torch.Tensor'>\n"
     ]
    },
    {
     "name": "stderr",
     "output_type": "stream",
     "text": [
      " 12%|█▏        | 124/1000 [3:48:19<20:04:39, 82.51s/it]"
     ]
    },
    {
     "name": "stdout",
     "output_type": "stream",
     "text": [
      "eigenvalues shape torch.Size([5]) eigenvectors shape torch.Size([5, 400])\n",
      "124 /home/phdcs2/Hard_Disk/Datasets/Deep-Spectral-Segmentation/data/object-segmentation/ECSSD/features/dino_vits16/0125.pth\n",
      "0125\n",
      "tanh_feats.shape= torch.Size([400, 384])\n",
      "W_feat_ds.shape= torch.Size([400, 400])\n",
      "W_feat_hist_pearsoncorr.shape= torch.Size([400, 400])\n",
      "<class 'torch.Tensor'>\n"
     ]
    },
    {
     "name": "stderr",
     "output_type": "stream",
     "text": [
      " 12%|█▎        | 125/1000 [3:49:43<20:07:01, 82.77s/it]"
     ]
    },
    {
     "name": "stdout",
     "output_type": "stream",
     "text": [
      "eigenvalues shape torch.Size([5]) eigenvectors shape torch.Size([5, 400])\n",
      "125 /home/phdcs2/Hard_Disk/Datasets/Deep-Spectral-Segmentation/data/object-segmentation/ECSSD/features/dino_vits16/0126.pth\n",
      "0126\n",
      "tanh_feats.shape= torch.Size([400, 384])\n"
     ]
    },
    {
     "name": "stderr",
     "output_type": "stream",
     "text": [
      " 13%|█▎        | 126/1000 [3:51:06<20:05:55, 82.79s/it]"
     ]
    },
    {
     "name": "stdout",
     "output_type": "stream",
     "text": [
      "W_feat_ds.shape= torch.Size([400, 400])\n",
      "W_feat_hist_pearsoncorr.shape= torch.Size([400, 400])\n",
      "<class 'torch.Tensor'>\n",
      "eigenvalues shape torch.Size([5]) eigenvectors shape torch.Size([5, 400])\n",
      "126 /home/phdcs2/Hard_Disk/Datasets/Deep-Spectral-Segmentation/data/object-segmentation/ECSSD/features/dino_vits16/0127.pth\n",
      "0127\n",
      "tanh_feats.shape= torch.Size([400, 384])\n",
      "W_feat_ds.shape= torch.Size([400, 400])\n",
      "W_feat_hist_pearsoncorr.shape= torch.Size([400, 400])\n",
      "<class 'torch.Tensor'>\n"
     ]
    },
    {
     "name": "stderr",
     "output_type": "stream",
     "text": [
      " 13%|█▎        | 127/1000 [3:52:28<20:01:23, 82.57s/it]"
     ]
    },
    {
     "name": "stdout",
     "output_type": "stream",
     "text": [
      "eigenvalues shape torch.Size([5]) eigenvectors shape torch.Size([5, 400])\n",
      "127 /home/phdcs2/Hard_Disk/Datasets/Deep-Spectral-Segmentation/data/object-segmentation/ECSSD/features/dino_vits16/0128.pth\n",
      "0128\n",
      "tanh_feats.shape= torch.Size([400, 384])\n",
      "W_feat_ds.shape= torch.Size([400, 400])\n",
      "W_feat_hist_pearsoncorr.shape= torch.Size([400, 400])\n",
      "<class 'torch.Tensor'>\n"
     ]
    },
    {
     "name": "stderr",
     "output_type": "stream",
     "text": [
      " 13%|█▎        | 128/1000 [3:53:50<19:59:24, 82.53s/it]"
     ]
    },
    {
     "name": "stdout",
     "output_type": "stream",
     "text": [
      "eigenvalues shape torch.Size([5]) eigenvectors shape torch.Size([5, 400])\n",
      "128 /home/phdcs2/Hard_Disk/Datasets/Deep-Spectral-Segmentation/data/object-segmentation/ECSSD/features/dino_vits16/0129.pth\n",
      "0129\n",
      "tanh_feats.shape= torch.Size([425, 384])\n",
      "W_feat_ds.shape= torch.Size([425, 425])\n",
      "W_feat_hist_pearsoncorr.shape= torch.Size([425, 425])\n",
      "<class 'torch.Tensor'>\n"
     ]
    },
    {
     "name": "stderr",
     "output_type": "stream",
     "text": [
      " 13%|█▎        | 129/1000 [3:55:23<20:44:54, 85.76s/it]"
     ]
    },
    {
     "name": "stdout",
     "output_type": "stream",
     "text": [
      "eigenvalues shape torch.Size([5]) eigenvectors shape torch.Size([5, 400])\n",
      "129 /home/phdcs2/Hard_Disk/Datasets/Deep-Spectral-Segmentation/data/object-segmentation/ECSSD/features/dino_vits16/0130.pth\n",
      "0130\n",
      "tanh_feats.shape= torch.Size([425, 384])\n",
      "W_feat_ds.shape= torch.Size([425, 425])\n",
      "W_feat_hist_pearsoncorr.shape= torch.Size([425, 425])\n",
      "<class 'torch.Tensor'>\n"
     ]
    },
    {
     "name": "stderr",
     "output_type": "stream",
     "text": [
      " 13%|█▎        | 130/1000 [3:56:56<21:15:11, 87.94s/it]"
     ]
    },
    {
     "name": "stdout",
     "output_type": "stream",
     "text": [
      "eigenvalues shape torch.Size([5]) eigenvectors shape torch.Size([5, 400])\n",
      "130 /home/phdcs2/Hard_Disk/Datasets/Deep-Spectral-Segmentation/data/object-segmentation/ECSSD/features/dino_vits16/0131.pth\n",
      "0131\n",
      "tanh_feats.shape= torch.Size([450, 384])\n"
     ]
    },
    {
     "name": "stderr",
     "output_type": "stream",
     "text": [
      " 13%|█▎        | 131/1000 [3:58:40<22:20:39, 92.57s/it]"
     ]
    },
    {
     "name": "stdout",
     "output_type": "stream",
     "text": [
      "W_feat_ds.shape= torch.Size([450, 450])\n",
      "W_feat_hist_pearsoncorr.shape= torch.Size([450, 450])\n",
      "<class 'torch.Tensor'>\n",
      "eigenvalues shape torch.Size([5]) eigenvectors shape torch.Size([5, 400])\n",
      "131 /home/phdcs2/Hard_Disk/Datasets/Deep-Spectral-Segmentation/data/object-segmentation/ECSSD/features/dino_vits16/0132.pth\n",
      "0132\n",
      "tanh_feats.shape= torch.Size([400, 384])\n"
     ]
    },
    {
     "name": "stderr",
     "output_type": "stream",
     "text": [
      " 13%|█▎        | 132/1000 [4:00:02<21:32:08, 89.32s/it]"
     ]
    },
    {
     "name": "stdout",
     "output_type": "stream",
     "text": [
      "W_feat_ds.shape= torch.Size([400, 400])\n",
      "W_feat_hist_pearsoncorr.shape= torch.Size([400, 400])\n",
      "<class 'torch.Tensor'>\n",
      "eigenvalues shape torch.Size([5]) eigenvectors shape torch.Size([5, 400])\n",
      "132 /home/phdcs2/Hard_Disk/Datasets/Deep-Spectral-Segmentation/data/object-segmentation/ECSSD/features/dino_vits16/0133.pth\n",
      "0133\n",
      "tanh_feats.shape= torch.Size([525, 384])\n",
      "W_feat_ds.shape= torch.Size([525, 525])\n",
      "W_feat_hist_pearsoncorr.shape= torch.Size([525, 525])\n",
      "<class 'torch.Tensor'>\n"
     ]
    },
    {
     "name": "stderr",
     "output_type": "stream",
     "text": [
      " 13%|█▎        | 133/1000 [4:02:22<25:13:36, 104.75s/it]"
     ]
    },
    {
     "name": "stdout",
     "output_type": "stream",
     "text": [
      "eigenvalues shape torch.Size([5]) eigenvectors shape torch.Size([5, 400])\n",
      "133 /home/phdcs2/Hard_Disk/Datasets/Deep-Spectral-Segmentation/data/object-segmentation/ECSSD/features/dino_vits16/0134.pth\n",
      "0134\n",
      "tanh_feats.shape= torch.Size([400, 384])\n",
      "W_feat_ds.shape= torch.Size([400, 400])\n",
      "W_feat_hist_pearsoncorr.shape= torch.Size([400, 400])\n",
      "<class 'torch.Tensor'>\n"
     ]
    },
    {
     "name": "stderr",
     "output_type": "stream",
     "text": [
      " 13%|█▎        | 134/1000 [4:03:44<23:32:36, 97.87s/it] "
     ]
    },
    {
     "name": "stdout",
     "output_type": "stream",
     "text": [
      "eigenvalues shape torch.Size([5]) eigenvectors shape torch.Size([5, 400])\n",
      "134 /home/phdcs2/Hard_Disk/Datasets/Deep-Spectral-Segmentation/data/object-segmentation/ECSSD/features/dino_vits16/0135.pth\n",
      "0135\n",
      "tanh_feats.shape= torch.Size([450, 384])\n",
      "W_feat_ds.shape= torch.Size([450, 450])\n",
      "W_feat_hist_pearsoncorr.shape= torch.Size([450, 450])\n",
      "<class 'torch.Tensor'>\n"
     ]
    },
    {
     "name": "stderr",
     "output_type": "stream",
     "text": [
      " 14%|█▎        | 135/1000 [4:05:28<23:55:52, 99.60s/it]"
     ]
    },
    {
     "name": "stdout",
     "output_type": "stream",
     "text": [
      "eigenvalues shape torch.Size([5]) eigenvectors shape torch.Size([5, 400])\n",
      "135 /home/phdcs2/Hard_Disk/Datasets/Deep-Spectral-Segmentation/data/object-segmentation/ECSSD/features/dino_vits16/0136.pth\n",
      "0136\n",
      "tanh_feats.shape= torch.Size([450, 384])\n"
     ]
    },
    {
     "name": "stderr",
     "output_type": "stream",
     "text": [
      " 14%|█▎        | 136/1000 [4:07:10<24:07:11, 100.50s/it]"
     ]
    },
    {
     "name": "stdout",
     "output_type": "stream",
     "text": [
      "W_feat_ds.shape= torch.Size([450, 450])\n",
      "W_feat_hist_pearsoncorr.shape= torch.Size([450, 450])\n",
      "<class 'torch.Tensor'>\n",
      "eigenvalues shape torch.Size([5]) eigenvectors shape torch.Size([5, 400])\n",
      "136 /home/phdcs2/Hard_Disk/Datasets/Deep-Spectral-Segmentation/data/object-segmentation/ECSSD/features/dino_vits16/0137.pth\n",
      "0137\n",
      "tanh_feats.shape= torch.Size([475, 384])\n"
     ]
    },
    {
     "name": "stderr",
     "output_type": "stream",
     "text": [
      " 14%|█▎        | 137/1000 [4:09:05<25:07:08, 104.78s/it]"
     ]
    },
    {
     "name": "stdout",
     "output_type": "stream",
     "text": [
      "W_feat_ds.shape= torch.Size([475, 475])\n",
      "W_feat_hist_pearsoncorr.shape= torch.Size([475, 475])\n",
      "<class 'torch.Tensor'>\n",
      "eigenvalues shape torch.Size([5]) eigenvectors shape torch.Size([5, 400])\n",
      "137 /home/phdcs2/Hard_Disk/Datasets/Deep-Spectral-Segmentation/data/object-segmentation/ECSSD/features/dino_vits16/0138.pth\n",
      "0138\n",
      "tanh_feats.shape= torch.Size([450, 384])\n",
      "W_feat_ds.shape= torch.Size([450, 450])\n",
      "W_feat_hist_pearsoncorr.shape= torch.Size([450, 450])\n",
      "<class 'torch.Tensor'>\n"
     ]
    },
    {
     "name": "stderr",
     "output_type": "stream",
     "text": [
      " 14%|█▍        | 138/1000 [4:10:50<25:03:56, 104.68s/it]"
     ]
    },
    {
     "name": "stdout",
     "output_type": "stream",
     "text": [
      "eigenvalues shape torch.Size([5]) eigenvectors shape torch.Size([5, 400])\n",
      "138 /home/phdcs2/Hard_Disk/Datasets/Deep-Spectral-Segmentation/data/object-segmentation/ECSSD/features/dino_vits16/0139.pth\n",
      "0139\n",
      "tanh_feats.shape= torch.Size([450, 384])\n"
     ]
    },
    {
     "name": "stderr",
     "output_type": "stream",
     "text": [
      " 14%|█▍        | 139/1000 [4:12:33<24:57:37, 104.36s/it]"
     ]
    },
    {
     "name": "stdout",
     "output_type": "stream",
     "text": [
      "W_feat_ds.shape= torch.Size([450, 450])\n",
      "W_feat_hist_pearsoncorr.shape= torch.Size([450, 450])\n",
      "<class 'torch.Tensor'>\n",
      "eigenvalues shape torch.Size([5]) eigenvectors shape torch.Size([5, 400])\n",
      "139 /home/phdcs2/Hard_Disk/Datasets/Deep-Spectral-Segmentation/data/object-segmentation/ECSSD/features/dino_vits16/0140.pth\n",
      "0140\n",
      "tanh_feats.shape= torch.Size([450, 384])\n"
     ]
    },
    {
     "name": "stderr",
     "output_type": "stream",
     "text": [
      " 14%|█▍        | 140/1000 [4:14:16<24:49:03, 103.89s/it]"
     ]
    },
    {
     "name": "stdout",
     "output_type": "stream",
     "text": [
      "W_feat_ds.shape= torch.Size([450, 450])\n",
      "W_feat_hist_pearsoncorr.shape= torch.Size([450, 450])\n",
      "<class 'torch.Tensor'>\n",
      "eigenvalues shape torch.Size([5]) eigenvectors shape torch.Size([5, 400])\n",
      "140 /home/phdcs2/Hard_Disk/Datasets/Deep-Spectral-Segmentation/data/object-segmentation/ECSSD/features/dino_vits16/0141.pth\n",
      "0141\n",
      "tanh_feats.shape= torch.Size([350, 384])\n",
      "W_feat_ds.shape= torch.Size([350, 350])\n",
      "W_feat_hist_pearsoncorr.shape= torch.Size([350, 350])\n",
      "<class 'torch.Tensor'>\n"
     ]
    },
    {
     "name": "stderr",
     "output_type": "stream",
     "text": [
      " 14%|█▍        | 141/1000 [4:15:20<21:54:08, 91.79s/it] "
     ]
    },
    {
     "name": "stdout",
     "output_type": "stream",
     "text": [
      "eigenvalues shape torch.Size([5]) eigenvectors shape torch.Size([5, 400])\n",
      "141 /home/phdcs2/Hard_Disk/Datasets/Deep-Spectral-Segmentation/data/object-segmentation/ECSSD/features/dino_vits16/0142.pth\n",
      "0142\n",
      "tanh_feats.shape= torch.Size([450, 384])\n",
      "W_feat_ds.shape= torch.Size([450, 450])\n",
      "W_feat_hist_pearsoncorr.shape= torch.Size([450, 450])\n",
      "<class 'torch.Tensor'>\n"
     ]
    },
    {
     "name": "stderr",
     "output_type": "stream",
     "text": [
      " 14%|█▍        | 142/1000 [4:17:04<22:48:32, 95.70s/it]"
     ]
    },
    {
     "name": "stdout",
     "output_type": "stream",
     "text": [
      "eigenvalues shape torch.Size([5]) eigenvectors shape torch.Size([5, 400])\n",
      "142 /home/phdcs2/Hard_Disk/Datasets/Deep-Spectral-Segmentation/data/object-segmentation/ECSSD/features/dino_vits16/0143.pth\n",
      "0143\n",
      "tanh_feats.shape= torch.Size([450, 384])\n"
     ]
    },
    {
     "name": "stderr",
     "output_type": "stream",
     "text": [
      " 14%|█▍        | 143/1000 [4:18:49<23:24:11, 98.31s/it]"
     ]
    },
    {
     "name": "stdout",
     "output_type": "stream",
     "text": [
      "W_feat_ds.shape= torch.Size([450, 450])\n",
      "W_feat_hist_pearsoncorr.shape= torch.Size([450, 450])\n",
      "<class 'torch.Tensor'>\n",
      "eigenvalues shape torch.Size([5]) eigenvectors shape torch.Size([5, 400])\n",
      "143 /home/phdcs2/Hard_Disk/Datasets/Deep-Spectral-Segmentation/data/object-segmentation/ECSSD/features/dino_vits16/0144.pth\n",
      "0144\n",
      "tanh_feats.shape= torch.Size([425, 384])\n",
      "W_feat_ds.shape= torch.Size([425, 425])\n",
      "W_feat_hist_pearsoncorr.shape= torch.Size([425, 425])\n",
      "<class 'torch.Tensor'>\n"
     ]
    },
    {
     "name": "stderr",
     "output_type": "stream",
     "text": [
      " 14%|█▍        | 144/1000 [4:20:22<23:02:09, 96.88s/it]"
     ]
    },
    {
     "name": "stdout",
     "output_type": "stream",
     "text": [
      "eigenvalues shape torch.Size([5]) eigenvectors shape torch.Size([5, 400])\n",
      "144 /home/phdcs2/Hard_Disk/Datasets/Deep-Spectral-Segmentation/data/object-segmentation/ECSSD/features/dino_vits16/0145.pth\n",
      "0145\n",
      "tanh_feats.shape= torch.Size([450, 384])\n",
      "W_feat_ds.shape= torch.Size([450, 450])\n",
      "W_feat_hist_pearsoncorr.shape= torch.Size([450, 450])\n",
      "<class 'torch.Tensor'>\n"
     ]
    },
    {
     "name": "stderr",
     "output_type": "stream",
     "text": [
      " 14%|█▍        | 145/1000 [4:22:07<23:32:41, 99.14s/it]"
     ]
    },
    {
     "name": "stdout",
     "output_type": "stream",
     "text": [
      "eigenvalues shape torch.Size([5]) eigenvectors shape torch.Size([5, 400])\n",
      "145 /home/phdcs2/Hard_Disk/Datasets/Deep-Spectral-Segmentation/data/object-segmentation/ECSSD/features/dino_vits16/0146.pth\n",
      "0146\n",
      "tanh_feats.shape= torch.Size([400, 384])\n",
      "W_feat_ds.shape= torch.Size([400, 400])\n",
      "W_feat_hist_pearsoncorr.shape= torch.Size([400, 400])\n",
      "<class 'torch.Tensor'>\n"
     ]
    },
    {
     "name": "stderr",
     "output_type": "stream",
     "text": [
      " 15%|█▍        | 146/1000 [4:23:30<22:23:42, 94.41s/it]"
     ]
    },
    {
     "name": "stdout",
     "output_type": "stream",
     "text": [
      "eigenvalues shape torch.Size([5]) eigenvectors shape torch.Size([5, 400])\n",
      "146 /home/phdcs2/Hard_Disk/Datasets/Deep-Spectral-Segmentation/data/object-segmentation/ECSSD/features/dino_vits16/0147.pth\n",
      "0147\n",
      "tanh_feats.shape= torch.Size([550, 384])\n",
      "W_feat_ds.shape= torch.Size([550, 550])\n",
      "W_feat_hist_pearsoncorr.shape= torch.Size([550, 550])\n",
      "<class 'torch.Tensor'>\n"
     ]
    },
    {
     "name": "stderr",
     "output_type": "stream",
     "text": [
      " 15%|█▍        | 147/1000 [4:26:06<26:43:11, 112.77s/it]"
     ]
    },
    {
     "name": "stdout",
     "output_type": "stream",
     "text": [
      "eigenvalues shape torch.Size([5]) eigenvectors shape torch.Size([5, 400])\n",
      "147 /home/phdcs2/Hard_Disk/Datasets/Deep-Spectral-Segmentation/data/object-segmentation/ECSSD/features/dino_vits16/0148.pth\n",
      "0148\n",
      "tanh_feats.shape= torch.Size([400, 384])\n",
      "W_feat_ds.shape= torch.Size([400, 400])\n",
      "W_feat_hist_pearsoncorr.shape= torch.Size([400, 400])\n",
      "<class 'torch.Tensor'>\n"
     ]
    },
    {
     "name": "stderr",
     "output_type": "stream",
     "text": [
      " 15%|█▍        | 148/1000 [4:27:28<24:32:39, 103.71s/it]"
     ]
    },
    {
     "name": "stdout",
     "output_type": "stream",
     "text": [
      "eigenvalues shape torch.Size([5]) eigenvectors shape torch.Size([5, 400])\n",
      "148 /home/phdcs2/Hard_Disk/Datasets/Deep-Spectral-Segmentation/data/object-segmentation/ECSSD/features/dino_vits16/0149.pth\n",
      "0149\n",
      "tanh_feats.shape= torch.Size([400, 384])\n"
     ]
    },
    {
     "name": "stderr",
     "output_type": "stream",
     "text": [
      " 15%|█▍        | 149/1000 [4:28:51<23:00:26, 97.33s/it] "
     ]
    },
    {
     "name": "stdout",
     "output_type": "stream",
     "text": [
      "W_feat_ds.shape= torch.Size([400, 400])\n",
      "W_feat_hist_pearsoncorr.shape= torch.Size([400, 400])\n",
      "<class 'torch.Tensor'>\n",
      "eigenvalues shape torch.Size([5]) eigenvectors shape torch.Size([5, 400])\n",
      "149 /home/phdcs2/Hard_Disk/Datasets/Deep-Spectral-Segmentation/data/object-segmentation/ECSSD/features/dino_vits16/0150.pth\n",
      "0150\n",
      "tanh_feats.shape= torch.Size([450, 384])\n",
      "W_feat_ds.shape= torch.Size([450, 450])\n",
      "W_feat_hist_pearsoncorr.shape= torch.Size([450, 450])\n",
      "<class 'torch.Tensor'>\n"
     ]
    },
    {
     "name": "stderr",
     "output_type": "stream",
     "text": [
      " 15%|█▌        | 150/1000 [4:30:36<23:31:09, 99.61s/it]"
     ]
    },
    {
     "name": "stdout",
     "output_type": "stream",
     "text": [
      "eigenvalues shape torch.Size([5]) eigenvectors shape torch.Size([5, 400])\n",
      "150 /home/phdcs2/Hard_Disk/Datasets/Deep-Spectral-Segmentation/data/object-segmentation/ECSSD/features/dino_vits16/0151.pth\n",
      "0151\n",
      "tanh_feats.shape= torch.Size([525, 384])\n",
      "W_feat_ds.shape= torch.Size([525, 525])\n",
      "W_feat_hist_pearsoncorr.shape= torch.Size([525, 525])\n",
      "<class 'torch.Tensor'>\n"
     ]
    },
    {
     "name": "stderr",
     "output_type": "stream",
     "text": [
      " 15%|█▌        | 151/1000 [4:32:57<26:26:01, 112.09s/it]"
     ]
    },
    {
     "name": "stdout",
     "output_type": "stream",
     "text": [
      "eigenvalues shape torch.Size([5]) eigenvectors shape torch.Size([5, 400])\n",
      "151 /home/phdcs2/Hard_Disk/Datasets/Deep-Spectral-Segmentation/data/object-segmentation/ECSSD/features/dino_vits16/0152.pth\n",
      "0152\n",
      "tanh_feats.shape= torch.Size([450, 384])\n"
     ]
    },
    {
     "name": "stderr",
     "output_type": "stream",
     "text": [
      " 15%|█▌        | 152/1000 [4:34:40<25:45:42, 109.37s/it]"
     ]
    },
    {
     "name": "stdout",
     "output_type": "stream",
     "text": [
      "W_feat_ds.shape= torch.Size([450, 450])\n",
      "W_feat_hist_pearsoncorr.shape= torch.Size([450, 450])\n",
      "<class 'torch.Tensor'>\n",
      "eigenvalues shape torch.Size([5]) eigenvectors shape torch.Size([5, 400])\n",
      "152 /home/phdcs2/Hard_Disk/Datasets/Deep-Spectral-Segmentation/data/object-segmentation/ECSSD/features/dino_vits16/0153.pth\n",
      "0153\n",
      "tanh_feats.shape= torch.Size([450, 384])\n"
     ]
    },
    {
     "name": "stderr",
     "output_type": "stream",
     "text": [
      " 15%|█▌        | 153/1000 [4:36:23<25:18:53, 107.60s/it]"
     ]
    },
    {
     "name": "stdout",
     "output_type": "stream",
     "text": [
      "W_feat_ds.shape= torch.Size([450, 450])\n",
      "W_feat_hist_pearsoncorr.shape= torch.Size([450, 450])\n",
      "<class 'torch.Tensor'>\n",
      "eigenvalues shape torch.Size([5]) eigenvectors shape torch.Size([5, 400])\n",
      "153 /home/phdcs2/Hard_Disk/Datasets/Deep-Spectral-Segmentation/data/object-segmentation/ECSSD/features/dino_vits16/0154.pth\n",
      "0154\n",
      "tanh_feats.shape= torch.Size([450, 384])\n"
     ]
    },
    {
     "name": "stderr",
     "output_type": "stream",
     "text": [
      " 15%|█▌        | 154/1000 [4:38:06<24:56:14, 106.12s/it]"
     ]
    },
    {
     "name": "stdout",
     "output_type": "stream",
     "text": [
      "W_feat_ds.shape= torch.Size([450, 450])\n",
      "W_feat_hist_pearsoncorr.shape= torch.Size([450, 450])\n",
      "<class 'torch.Tensor'>\n",
      "eigenvalues shape torch.Size([5]) eigenvectors shape torch.Size([5, 400])\n",
      "154 /home/phdcs2/Hard_Disk/Datasets/Deep-Spectral-Segmentation/data/object-segmentation/ECSSD/features/dino_vits16/0155.pth\n",
      "0155\n",
      "tanh_feats.shape= torch.Size([475, 384])\n",
      "W_feat_ds.shape= torch.Size([475, 475])\n",
      "W_feat_hist_pearsoncorr.shape= torch.Size([475, 475])\n",
      "<class 'torch.Tensor'>\n"
     ]
    },
    {
     "name": "stderr",
     "output_type": "stream",
     "text": [
      " 16%|█▌        | 155/1000 [4:40:02<25:37:53, 109.20s/it]"
     ]
    },
    {
     "name": "stdout",
     "output_type": "stream",
     "text": [
      "eigenvalues shape torch.Size([5]) eigenvectors shape torch.Size([5, 400])\n",
      "155 /home/phdcs2/Hard_Disk/Datasets/Deep-Spectral-Segmentation/data/object-segmentation/ECSSD/features/dino_vits16/0156.pth\n",
      "0156\n",
      "tanh_feats.shape= torch.Size([400, 384])\n",
      "W_feat_ds.shape= torch.Size([400, 400])\n",
      "W_feat_hist_pearsoncorr.shape= torch.Size([400, 400])\n",
      "<class 'torch.Tensor'>\n"
     ]
    },
    {
     "name": "stderr",
     "output_type": "stream",
     "text": [
      " 16%|█▌        | 156/1000 [4:41:26<23:46:36, 101.42s/it]"
     ]
    },
    {
     "name": "stdout",
     "output_type": "stream",
     "text": [
      "eigenvalues shape torch.Size([5]) eigenvectors shape torch.Size([5, 400])\n",
      "156 /home/phdcs2/Hard_Disk/Datasets/Deep-Spectral-Segmentation/data/object-segmentation/ECSSD/features/dino_vits16/0157.pth\n",
      "0157\n",
      "tanh_feats.shape= torch.Size([375, 384])\n",
      "W_feat_ds.shape= torch.Size([375, 375])\n",
      "W_feat_hist_pearsoncorr.shape= torch.Size([375, 375])\n",
      "<class 'torch.Tensor'>\n"
     ]
    },
    {
     "name": "stderr",
     "output_type": "stream",
     "text": [
      " 16%|█▌        | 157/1000 [4:42:38<21:40:56, 92.59s/it] "
     ]
    },
    {
     "name": "stdout",
     "output_type": "stream",
     "text": [
      "eigenvalues shape torch.Size([5]) eigenvectors shape torch.Size([5, 400])\n",
      "157 /home/phdcs2/Hard_Disk/Datasets/Deep-Spectral-Segmentation/data/object-segmentation/ECSSD/features/dino_vits16/0158.pth\n",
      "0158\n",
      "tanh_feats.shape= torch.Size([300, 384])\n",
      "W_feat_ds.shape= torch.Size([300, 300])\n",
      "W_feat_hist_pearsoncorr.shape= torch.Size([300, 300])\n",
      "<class 'torch.Tensor'>\n"
     ]
    },
    {
     "name": "stderr",
     "output_type": "stream",
     "text": [
      " 16%|█▌        | 158/1000 [4:43:24<18:24:41, 78.72s/it]"
     ]
    },
    {
     "name": "stdout",
     "output_type": "stream",
     "text": [
      "eigenvalues shape torch.Size([5]) eigenvectors shape torch.Size([5, 400])\n",
      "158 /home/phdcs2/Hard_Disk/Datasets/Deep-Spectral-Segmentation/data/object-segmentation/ECSSD/features/dino_vits16/0159.pth\n",
      "0159\n",
      "tanh_feats.shape= torch.Size([425, 384])\n",
      "W_feat_ds.shape= torch.Size([425, 425])\n",
      "W_feat_hist_pearsoncorr.shape= torch.Size([425, 425])\n",
      "<class 'torch.Tensor'>\n"
     ]
    },
    {
     "name": "stderr",
     "output_type": "stream",
     "text": [
      " 16%|█▌        | 159/1000 [4:44:57<19:23:39, 83.02s/it]"
     ]
    },
    {
     "name": "stdout",
     "output_type": "stream",
     "text": [
      "eigenvalues shape torch.Size([5]) eigenvectors shape torch.Size([5, 400])\n",
      "159 /home/phdcs2/Hard_Disk/Datasets/Deep-Spectral-Segmentation/data/object-segmentation/ECSSD/features/dino_vits16/0160.pth\n",
      "0160\n",
      "tanh_feats.shape= torch.Size([400, 384])\n",
      "W_feat_ds.shape= torch.Size([400, 400])\n",
      "W_feat_hist_pearsoncorr.shape= torch.Size([400, 400])\n",
      "<class 'torch.Tensor'>\n"
     ]
    },
    {
     "name": "stderr",
     "output_type": "stream",
     "text": [
      " 16%|█▌        | 160/1000 [4:46:19<19:18:00, 82.71s/it]"
     ]
    },
    {
     "name": "stdout",
     "output_type": "stream",
     "text": [
      "eigenvalues shape torch.Size([5]) eigenvectors shape torch.Size([5, 400])\n",
      "160 /home/phdcs2/Hard_Disk/Datasets/Deep-Spectral-Segmentation/data/object-segmentation/ECSSD/features/dino_vits16/0161.pth\n",
      "0161\n",
      "tanh_feats.shape= torch.Size([450, 384])\n",
      "W_feat_ds.shape= torch.Size([450, 450])\n",
      "W_feat_hist_pearsoncorr.shape= torch.Size([450, 450])\n",
      "<class 'torch.Tensor'>\n"
     ]
    },
    {
     "name": "stderr",
     "output_type": "stream",
     "text": [
      " 16%|█▌        | 161/1000 [4:48:04<20:47:53, 89.24s/it]"
     ]
    },
    {
     "name": "stdout",
     "output_type": "stream",
     "text": [
      "eigenvalues shape torch.Size([5]) eigenvectors shape torch.Size([5, 400])\n",
      "161 /home/phdcs2/Hard_Disk/Datasets/Deep-Spectral-Segmentation/data/object-segmentation/ECSSD/features/dino_vits16/0162.pth\n",
      "0162\n",
      "tanh_feats.shape= torch.Size([450, 384])\n",
      "W_feat_ds.shape= torch.Size([450, 450])\n",
      "W_feat_hist_pearsoncorr.shape= torch.Size([450, 450])\n",
      "<class 'torch.Tensor'>\n"
     ]
    },
    {
     "name": "stderr",
     "output_type": "stream",
     "text": [
      " 16%|█▌        | 162/1000 [4:49:47<21:45:34, 93.48s/it]"
     ]
    },
    {
     "name": "stdout",
     "output_type": "stream",
     "text": [
      "eigenvalues shape torch.Size([5]) eigenvectors shape torch.Size([5, 400])\n",
      "162 /home/phdcs2/Hard_Disk/Datasets/Deep-Spectral-Segmentation/data/object-segmentation/ECSSD/features/dino_vits16/0163.pth\n",
      "0163\n",
      "tanh_feats.shape= torch.Size([400, 384])\n",
      "W_feat_ds.shape= torch.Size([400, 400])\n",
      "W_feat_hist_pearsoncorr.shape= torch.Size([400, 400])\n",
      "<class 'torch.Tensor'>\n"
     ]
    },
    {
     "name": "stderr",
     "output_type": "stream",
     "text": [
      " 16%|█▋        | 163/1000 [4:51:09<20:56:25, 90.07s/it]"
     ]
    },
    {
     "name": "stdout",
     "output_type": "stream",
     "text": [
      "eigenvalues shape torch.Size([5]) eigenvectors shape torch.Size([5, 400])\n",
      "163 /home/phdcs2/Hard_Disk/Datasets/Deep-Spectral-Segmentation/data/object-segmentation/ECSSD/features/dino_vits16/0164.pth\n",
      "0164\n",
      "tanh_feats.shape= torch.Size([550, 384])\n",
      "W_feat_ds.shape= torch.Size([550, 550])\n",
      "W_feat_hist_pearsoncorr.shape= torch.Size([550, 550])\n",
      "<class 'torch.Tensor'>\n"
     ]
    },
    {
     "name": "stderr",
     "output_type": "stream",
     "text": [
      " 16%|█▋        | 164/1000 [4:53:44<25:28:22, 109.69s/it]"
     ]
    },
    {
     "name": "stdout",
     "output_type": "stream",
     "text": [
      "eigenvalues shape torch.Size([5]) eigenvectors shape torch.Size([5, 400])\n",
      "164 /home/phdcs2/Hard_Disk/Datasets/Deep-Spectral-Segmentation/data/object-segmentation/ECSSD/features/dino_vits16/0165.pth\n",
      "0165\n",
      "tanh_feats.shape= torch.Size([450, 384])\n",
      "W_feat_ds.shape= torch.Size([450, 450])\n",
      "W_feat_hist_pearsoncorr.shape= torch.Size([450, 450])\n",
      "<class 'torch.Tensor'>\n"
     ]
    },
    {
     "name": "stderr",
     "output_type": "stream",
     "text": [
      " 16%|█▋        | 165/1000 [4:55:29<25:03:30, 108.04s/it]"
     ]
    },
    {
     "name": "stdout",
     "output_type": "stream",
     "text": [
      "eigenvalues shape torch.Size([5]) eigenvectors shape torch.Size([5, 400])\n",
      "165 /home/phdcs2/Hard_Disk/Datasets/Deep-Spectral-Segmentation/data/object-segmentation/ECSSD/features/dino_vits16/0166.pth\n",
      "0166\n",
      "tanh_feats.shape= torch.Size([400, 384])\n",
      "W_feat_ds.shape= torch.Size([400, 400])\n",
      "W_feat_hist_pearsoncorr.shape= torch.Size([400, 400])\n",
      "<class 'torch.Tensor'>\n"
     ]
    },
    {
     "name": "stderr",
     "output_type": "stream",
     "text": [
      " 17%|█▋        | 166/1000 [4:56:51<23:13:35, 100.26s/it]"
     ]
    },
    {
     "name": "stdout",
     "output_type": "stream",
     "text": [
      "eigenvalues shape torch.Size([5]) eigenvectors shape torch.Size([5, 400])\n",
      "166 /home/phdcs2/Hard_Disk/Datasets/Deep-Spectral-Segmentation/data/object-segmentation/ECSSD/features/dino_vits16/0167.pth\n",
      "0167\n",
      "tanh_feats.shape= torch.Size([450, 384])\n"
     ]
    },
    {
     "name": "stderr",
     "output_type": "stream",
     "text": [
      " 17%|█▋        | 167/1000 [4:58:35<23:28:23, 101.45s/it]"
     ]
    },
    {
     "name": "stdout",
     "output_type": "stream",
     "text": [
      "W_feat_ds.shape= torch.Size([450, 450])\n",
      "W_feat_hist_pearsoncorr.shape= torch.Size([450, 450])\n",
      "<class 'torch.Tensor'>\n",
      "eigenvalues shape torch.Size([5]) eigenvectors shape torch.Size([5, 400])\n",
      "167 /home/phdcs2/Hard_Disk/Datasets/Deep-Spectral-Segmentation/data/object-segmentation/ECSSD/features/dino_vits16/0168.pth\n",
      "0168\n",
      "tanh_feats.shape= torch.Size([400, 384])\n",
      "W_feat_ds.shape= torch.Size([400, 400])\n",
      "W_feat_hist_pearsoncorr.shape= torch.Size([400, 400])\n",
      "<class 'torch.Tensor'>\n"
     ]
    },
    {
     "name": "stderr",
     "output_type": "stream",
     "text": [
      " 17%|█▋        | 168/1000 [4:59:58<22:08:03, 95.77s/it] "
     ]
    },
    {
     "name": "stdout",
     "output_type": "stream",
     "text": [
      "eigenvalues shape torch.Size([5]) eigenvectors shape torch.Size([5, 400])\n",
      "168 /home/phdcs2/Hard_Disk/Datasets/Deep-Spectral-Segmentation/data/object-segmentation/ECSSD/features/dino_vits16/0169.pth\n",
      "0169\n",
      "tanh_feats.shape= torch.Size([400, 384])\n",
      "W_feat_ds.shape= torch.Size([400, 400])\n",
      "W_feat_hist_pearsoncorr.shape= torch.Size([400, 400])\n",
      "<class 'torch.Tensor'>\n"
     ]
    },
    {
     "name": "stderr",
     "output_type": "stream",
     "text": [
      " 17%|█▋        | 169/1000 [5:01:20<21:10:15, 91.72s/it]"
     ]
    },
    {
     "name": "stdout",
     "output_type": "stream",
     "text": [
      "eigenvalues shape torch.Size([5]) eigenvectors shape torch.Size([5, 400])\n",
      "169 /home/phdcs2/Hard_Disk/Datasets/Deep-Spectral-Segmentation/data/object-segmentation/ECSSD/features/dino_vits16/0170.pth\n",
      "0170\n",
      "tanh_feats.shape= torch.Size([450, 384])\n"
     ]
    },
    {
     "name": "stderr",
     "output_type": "stream",
     "text": [
      " 17%|█▋        | 170/1000 [5:03:03<21:57:44, 95.26s/it]"
     ]
    },
    {
     "name": "stdout",
     "output_type": "stream",
     "text": [
      "W_feat_ds.shape= torch.Size([450, 450])\n",
      "W_feat_hist_pearsoncorr.shape= torch.Size([450, 450])\n",
      "<class 'torch.Tensor'>\n",
      "eigenvalues shape torch.Size([5]) eigenvectors shape torch.Size([5, 400])\n",
      "170 /home/phdcs2/Hard_Disk/Datasets/Deep-Spectral-Segmentation/data/object-segmentation/ECSSD/features/dino_vits16/0171.pth\n",
      "0171\n",
      "tanh_feats.shape= torch.Size([375, 384])\n",
      "W_feat_ds.shape= torch.Size([375, 375])\n",
      "W_feat_hist_pearsoncorr.shape= torch.Size([375, 375])\n",
      "<class 'torch.Tensor'>\n"
     ]
    },
    {
     "name": "stderr",
     "output_type": "stream",
     "text": [
      " 17%|█▋        | 171/1000 [5:04:16<20:20:44, 88.35s/it]"
     ]
    },
    {
     "name": "stdout",
     "output_type": "stream",
     "text": [
      "eigenvalues shape torch.Size([5]) eigenvectors shape torch.Size([5, 400])\n",
      "171 /home/phdcs2/Hard_Disk/Datasets/Deep-Spectral-Segmentation/data/object-segmentation/ECSSD/features/dino_vits16/0172.pth\n",
      "0172\n",
      "tanh_feats.shape= torch.Size([375, 384])\n",
      "W_feat_ds.shape= torch.Size([375, 375])\n",
      "W_feat_hist_pearsoncorr.shape= torch.Size([375, 375])\n",
      "<class 'torch.Tensor'>\n"
     ]
    },
    {
     "name": "stderr",
     "output_type": "stream",
     "text": [
      " 17%|█▋        | 172/1000 [5:05:29<19:15:54, 83.76s/it]"
     ]
    },
    {
     "name": "stdout",
     "output_type": "stream",
     "text": [
      "eigenvalues shape torch.Size([5]) eigenvectors shape torch.Size([5, 400])\n",
      "172 /home/phdcs2/Hard_Disk/Datasets/Deep-Spectral-Segmentation/data/object-segmentation/ECSSD/features/dino_vits16/0173.pth\n",
      "0173\n",
      "tanh_feats.shape= torch.Size([450, 384])\n",
      "W_feat_ds.shape= torch.Size([450, 450])\n",
      "W_feat_hist_pearsoncorr.shape= torch.Size([450, 450])\n",
      "<class 'torch.Tensor'>\n"
     ]
    },
    {
     "name": "stderr",
     "output_type": "stream",
     "text": [
      " 17%|█▋        | 173/1000 [5:07:12<20:37:50, 89.81s/it]"
     ]
    },
    {
     "name": "stdout",
     "output_type": "stream",
     "text": [
      "eigenvalues shape torch.Size([5]) eigenvectors shape torch.Size([5, 400])\n",
      "173 /home/phdcs2/Hard_Disk/Datasets/Deep-Spectral-Segmentation/data/object-segmentation/ECSSD/features/dino_vits16/0174.pth\n",
      "0174\n",
      "tanh_feats.shape= torch.Size([375, 384])\n"
     ]
    },
    {
     "name": "stderr",
     "output_type": "stream",
     "text": [
      " 17%|█▋        | 174/1000 [5:08:25<19:26:28, 84.73s/it]"
     ]
    },
    {
     "name": "stdout",
     "output_type": "stream",
     "text": [
      "W_feat_ds.shape= torch.Size([375, 375])\n",
      "W_feat_hist_pearsoncorr.shape= torch.Size([375, 375])\n",
      "<class 'torch.Tensor'>\n",
      "eigenvalues shape torch.Size([5]) eigenvectors shape torch.Size([5, 400])\n",
      "174 /home/phdcs2/Hard_Disk/Datasets/Deep-Spectral-Segmentation/data/object-segmentation/ECSSD/features/dino_vits16/0175.pth\n",
      "0175\n",
      "tanh_feats.shape= torch.Size([450, 384])\n",
      "W_feat_ds.shape= torch.Size([450, 450])\n",
      "W_feat_hist_pearsoncorr.shape= torch.Size([450, 450])\n",
      "<class 'torch.Tensor'>\n"
     ]
    },
    {
     "name": "stderr",
     "output_type": "stream",
     "text": [
      " 18%|█▊        | 175/1000 [5:10:09<20:42:57, 90.40s/it]"
     ]
    },
    {
     "name": "stdout",
     "output_type": "stream",
     "text": [
      "eigenvalues shape torch.Size([5]) eigenvectors shape torch.Size([5, 400])\n",
      "175 /home/phdcs2/Hard_Disk/Datasets/Deep-Spectral-Segmentation/data/object-segmentation/ECSSD/features/dino_vits16/0176.pth\n",
      "0176\n",
      "tanh_feats.shape= torch.Size([550, 384])\n",
      "W_feat_ds.shape= torch.Size([550, 550])\n",
      "W_feat_hist_pearsoncorr.shape= torch.Size([550, 550])\n",
      "<class 'torch.Tensor'>\n"
     ]
    },
    {
     "name": "stderr",
     "output_type": "stream",
     "text": [
      " 18%|█▊        | 176/1000 [5:12:46<25:14:47, 110.30s/it]"
     ]
    },
    {
     "name": "stdout",
     "output_type": "stream",
     "text": [
      "eigenvalues shape torch.Size([5]) eigenvectors shape torch.Size([5, 400])\n",
      "176 /home/phdcs2/Hard_Disk/Datasets/Deep-Spectral-Segmentation/data/object-segmentation/ECSSD/features/dino_vits16/0177.pth\n",
      "0177\n",
      "tanh_feats.shape= torch.Size([400, 384])\n"
     ]
    },
    {
     "name": "stderr",
     "output_type": "stream",
     "text": [
      " 18%|█▊        | 177/1000 [5:14:09<23:19:59, 102.07s/it]"
     ]
    },
    {
     "name": "stdout",
     "output_type": "stream",
     "text": [
      "W_feat_ds.shape= torch.Size([400, 400])\n",
      "W_feat_hist_pearsoncorr.shape= torch.Size([400, 400])\n",
      "<class 'torch.Tensor'>\n",
      "eigenvalues shape torch.Size([5]) eigenvectors shape torch.Size([5, 400])\n",
      "177 /home/phdcs2/Hard_Disk/Datasets/Deep-Spectral-Segmentation/data/object-segmentation/ECSSD/features/dino_vits16/0178.pth\n",
      "0178\n",
      "tanh_feats.shape= torch.Size([450, 384])\n",
      "W_feat_ds.shape= torch.Size([450, 450])\n",
      "W_feat_hist_pearsoncorr.shape= torch.Size([450, 450])\n",
      "<class 'torch.Tensor'>\n"
     ]
    },
    {
     "name": "stderr",
     "output_type": "stream",
     "text": [
      " 18%|█▊        | 178/1000 [5:15:52<23:25:42, 102.61s/it]"
     ]
    },
    {
     "name": "stdout",
     "output_type": "stream",
     "text": [
      "eigenvalues shape torch.Size([5]) eigenvectors shape torch.Size([5, 400])\n",
      "178 /home/phdcs2/Hard_Disk/Datasets/Deep-Spectral-Segmentation/data/object-segmentation/ECSSD/features/dino_vits16/0179.pth\n",
      "0179\n",
      "tanh_feats.shape= torch.Size([400, 384])\n"
     ]
    },
    {
     "name": "stderr",
     "output_type": "stream",
     "text": [
      " 18%|█▊        | 179/1000 [5:17:14<21:59:10, 96.41s/it] "
     ]
    },
    {
     "name": "stdout",
     "output_type": "stream",
     "text": [
      "W_feat_ds.shape= torch.Size([400, 400])\n",
      "W_feat_hist_pearsoncorr.shape= torch.Size([400, 400])\n",
      "<class 'torch.Tensor'>\n",
      "eigenvalues shape torch.Size([5]) eigenvectors shape torch.Size([5, 400])\n",
      "179 /home/phdcs2/Hard_Disk/Datasets/Deep-Spectral-Segmentation/data/object-segmentation/ECSSD/features/dino_vits16/0180.pth\n",
      "0180\n",
      "tanh_feats.shape= torch.Size([400, 384])\n",
      "W_feat_ds.shape= torch.Size([400, 400])\n",
      "W_feat_hist_pearsoncorr.shape= torch.Size([400, 400])\n",
      "<class 'torch.Tensor'>\n"
     ]
    },
    {
     "name": "stderr",
     "output_type": "stream",
     "text": [
      " 18%|█▊        | 180/1000 [5:18:37<20:59:19, 92.15s/it]"
     ]
    },
    {
     "name": "stdout",
     "output_type": "stream",
     "text": [
      "eigenvalues shape torch.Size([5]) eigenvectors shape torch.Size([5, 400])\n",
      "180 /home/phdcs2/Hard_Disk/Datasets/Deep-Spectral-Segmentation/data/object-segmentation/ECSSD/features/dino_vits16/0181.pth\n",
      "0181\n",
      "tanh_feats.shape= torch.Size([375, 384])\n",
      "W_feat_ds.shape= torch.Size([375, 375])\n",
      "W_feat_hist_pearsoncorr.shape= torch.Size([375, 375])\n",
      "<class 'torch.Tensor'>\n"
     ]
    },
    {
     "name": "stderr",
     "output_type": "stream",
     "text": [
      " 18%|█▊        | 181/1000 [5:19:49<19:35:20, 86.11s/it]"
     ]
    },
    {
     "name": "stdout",
     "output_type": "stream",
     "text": [
      "eigenvalues shape torch.Size([5]) eigenvectors shape torch.Size([5, 400])\n",
      "181 /home/phdcs2/Hard_Disk/Datasets/Deep-Spectral-Segmentation/data/object-segmentation/ECSSD/features/dino_vits16/0182.pth\n",
      "0182\n",
      "tanh_feats.shape= torch.Size([625, 384])\n",
      "W_feat_ds.shape= torch.Size([625, 625])\n",
      "W_feat_hist_pearsoncorr.shape= torch.Size([625, 625])\n",
      "<class 'torch.Tensor'>\n"
     ]
    },
    {
     "name": "stderr",
     "output_type": "stream",
     "text": [
      " 18%|█▊        | 182/1000 [5:23:09<27:20:02, 120.30s/it]"
     ]
    },
    {
     "name": "stdout",
     "output_type": "stream",
     "text": [
      "eigenvalues shape torch.Size([5]) eigenvectors shape torch.Size([5, 400])\n",
      "182 /home/phdcs2/Hard_Disk/Datasets/Deep-Spectral-Segmentation/data/object-segmentation/ECSSD/features/dino_vits16/0183.pth\n",
      "0183\n",
      "tanh_feats.shape= torch.Size([400, 384])\n"
     ]
    },
    {
     "name": "stderr",
     "output_type": "stream",
     "text": [
      " 18%|█▊        | 183/1000 [5:24:31<24:41:33, 108.81s/it]"
     ]
    },
    {
     "name": "stdout",
     "output_type": "stream",
     "text": [
      "W_feat_ds.shape= torch.Size([400, 400])\n",
      "W_feat_hist_pearsoncorr.shape= torch.Size([400, 400])\n",
      "<class 'torch.Tensor'>\n",
      "eigenvalues shape torch.Size([5]) eigenvectors shape torch.Size([5, 400])\n",
      "183 /home/phdcs2/Hard_Disk/Datasets/Deep-Spectral-Segmentation/data/object-segmentation/ECSSD/features/dino_vits16/0184.pth\n",
      "0184\n",
      "tanh_feats.shape= torch.Size([625, 384])\n",
      "W_feat_ds.shape= torch.Size([625, 625])\n",
      "W_feat_hist_pearsoncorr.shape= torch.Size([625, 625])\n",
      "<class 'torch.Tensor'>\n"
     ]
    },
    {
     "name": "stderr",
     "output_type": "stream",
     "text": [
      " 18%|█▊        | 184/1000 [5:27:51<30:52:16, 136.20s/it]"
     ]
    },
    {
     "name": "stdout",
     "output_type": "stream",
     "text": [
      "eigenvalues shape torch.Size([5]) eigenvectors shape torch.Size([5, 400])\n",
      "184 /home/phdcs2/Hard_Disk/Datasets/Deep-Spectral-Segmentation/data/object-segmentation/ECSSD/features/dino_vits16/0185.pth\n",
      "0185\n",
      "tanh_feats.shape= torch.Size([625, 384])\n",
      "W_feat_ds.shape= torch.Size([625, 625])\n",
      "W_feat_hist_pearsoncorr.shape= torch.Size([625, 625])\n",
      "<class 'torch.Tensor'>\n"
     ]
    },
    {
     "name": "stderr",
     "output_type": "stream",
     "text": [
      " 18%|█▊        | 185/1000 [5:31:12<35:14:35, 155.68s/it]"
     ]
    },
    {
     "name": "stdout",
     "output_type": "stream",
     "text": [
      "eigenvalues shape torch.Size([5]) eigenvectors shape torch.Size([5, 400])\n",
      "185 /home/phdcs2/Hard_Disk/Datasets/Deep-Spectral-Segmentation/data/object-segmentation/ECSSD/features/dino_vits16/0186.pth\n",
      "0186\n",
      "tanh_feats.shape= torch.Size([625, 384])\n",
      "W_feat_ds.shape= torch.Size([625, 625])\n",
      "W_feat_hist_pearsoncorr.shape= torch.Size([625, 625])\n",
      "<class 'torch.Tensor'>\n"
     ]
    },
    {
     "name": "stderr",
     "output_type": "stream",
     "text": [
      " 19%|█▊        | 186/1000 [5:34:32<38:12:23, 168.97s/it]"
     ]
    },
    {
     "name": "stdout",
     "output_type": "stream",
     "text": [
      "eigenvalues shape torch.Size([5]) eigenvectors shape torch.Size([5, 400])\n",
      "186 /home/phdcs2/Hard_Disk/Datasets/Deep-Spectral-Segmentation/data/object-segmentation/ECSSD/features/dino_vits16/0187.pth\n",
      "0187\n",
      "tanh_feats.shape= torch.Size([200, 384])\n",
      "W_feat_ds.shape= torch.Size([200, 200])\n",
      "W_feat_hist_pearsoncorr.shape= torch.Size([200, 200])\n",
      "<class 'torch.Tensor'>\n"
     ]
    },
    {
     "name": "stderr",
     "output_type": "stream",
     "text": [
      " 19%|█▊        | 187/1000 [5:34:53<28:06:41, 124.48s/it]"
     ]
    },
    {
     "name": "stdout",
     "output_type": "stream",
     "text": [
      "eigenvalues shape torch.Size([5]) eigenvectors shape torch.Size([5, 400])\n",
      "187 /home/phdcs2/Hard_Disk/Datasets/Deep-Spectral-Segmentation/data/object-segmentation/ECSSD/features/dino_vits16/0188.pth\n",
      "0188\n",
      "tanh_feats.shape= torch.Size([400, 384])\n"
     ]
    },
    {
     "name": "stderr",
     "output_type": "stream",
     "text": [
      " 19%|█▉        | 188/1000 [5:36:14<25:11:15, 111.67s/it]"
     ]
    },
    {
     "name": "stdout",
     "output_type": "stream",
     "text": [
      "W_feat_ds.shape= torch.Size([400, 400])\n",
      "W_feat_hist_pearsoncorr.shape= torch.Size([400, 400])\n",
      "<class 'torch.Tensor'>\n",
      "eigenvalues shape torch.Size([5]) eigenvectors shape torch.Size([5, 400])\n",
      "188 /home/phdcs2/Hard_Disk/Datasets/Deep-Spectral-Segmentation/data/object-segmentation/ECSSD/features/dino_vits16/0189.pth\n",
      "0189\n",
      "tanh_feats.shape= torch.Size([400, 384])\n",
      "W_feat_ds.shape= torch.Size([400, 400])\n",
      "W_feat_hist_pearsoncorr.shape= torch.Size([400, 400])\n",
      "<class 'torch.Tensor'>\n"
     ]
    },
    {
     "name": "stderr",
     "output_type": "stream",
     "text": [
      " 19%|█▉        | 189/1000 [5:37:36<23:09:09, 102.77s/it]"
     ]
    },
    {
     "name": "stdout",
     "output_type": "stream",
     "text": [
      "eigenvalues shape torch.Size([5]) eigenvectors shape torch.Size([5, 400])\n",
      "189 /home/phdcs2/Hard_Disk/Datasets/Deep-Spectral-Segmentation/data/object-segmentation/ECSSD/features/dino_vits16/0190.pth\n",
      "0190\n",
      "tanh_feats.shape= torch.Size([450, 384])\n",
      "W_feat_ds.shape= torch.Size([450, 450])\n",
      "W_feat_hist_pearsoncorr.shape= torch.Size([450, 450])\n",
      "<class 'torch.Tensor'>\n"
     ]
    },
    {
     "name": "stderr",
     "output_type": "stream",
     "text": [
      " 19%|█▉        | 190/1000 [5:39:21<23:15:28, 103.37s/it]"
     ]
    },
    {
     "name": "stdout",
     "output_type": "stream",
     "text": [
      "eigenvalues shape torch.Size([5]) eigenvectors shape torch.Size([5, 400])\n",
      "190 /home/phdcs2/Hard_Disk/Datasets/Deep-Spectral-Segmentation/data/object-segmentation/ECSSD/features/dino_vits16/0191.pth\n",
      "0191\n",
      "tanh_feats.shape= torch.Size([450, 384])\n",
      "W_feat_ds.shape= torch.Size([450, 450])\n",
      "W_feat_hist_pearsoncorr.shape= torch.Size([450, 450])\n",
      "<class 'torch.Tensor'>\n"
     ]
    },
    {
     "name": "stderr",
     "output_type": "stream",
     "text": [
      " 19%|█▉        | 191/1000 [5:41:05<23:16:21, 103.56s/it]"
     ]
    },
    {
     "name": "stdout",
     "output_type": "stream",
     "text": [
      "eigenvalues shape torch.Size([5]) eigenvectors shape torch.Size([5, 400])\n",
      "191 /home/phdcs2/Hard_Disk/Datasets/Deep-Spectral-Segmentation/data/object-segmentation/ECSSD/features/dino_vits16/0192.pth\n",
      "0192\n",
      "tanh_feats.shape= torch.Size([400, 384])\n",
      "W_feat_ds.shape= torch.Size([400, 400])\n",
      "W_feat_hist_pearsoncorr.shape= torch.Size([400, 400])\n",
      "<class 'torch.Tensor'>\n"
     ]
    },
    {
     "name": "stderr",
     "output_type": "stream",
     "text": [
      " 19%|█▉        | 192/1000 [5:42:28<21:50:01, 97.28s/it] "
     ]
    },
    {
     "name": "stdout",
     "output_type": "stream",
     "text": [
      "eigenvalues shape torch.Size([5]) eigenvectors shape torch.Size([5, 400])\n",
      "192 /home/phdcs2/Hard_Disk/Datasets/Deep-Spectral-Segmentation/data/object-segmentation/ECSSD/features/dino_vits16/0193.pth\n",
      "0193\n",
      "tanh_feats.shape= torch.Size([450, 384])\n"
     ]
    },
    {
     "name": "stderr",
     "output_type": "stream",
     "text": [
      " 19%|█▉        | 193/1000 [5:44:12<22:16:28, 99.37s/it]"
     ]
    },
    {
     "name": "stdout",
     "output_type": "stream",
     "text": [
      "W_feat_ds.shape= torch.Size([450, 450])\n",
      "W_feat_hist_pearsoncorr.shape= torch.Size([450, 450])\n",
      "<class 'torch.Tensor'>\n",
      "eigenvalues shape torch.Size([5]) eigenvectors shape torch.Size([5, 400])\n",
      "193 /home/phdcs2/Hard_Disk/Datasets/Deep-Spectral-Segmentation/data/object-segmentation/ECSSD/features/dino_vits16/0194.pth\n",
      "0194\n",
      "tanh_feats.shape= torch.Size([450, 384])\n"
     ]
    },
    {
     "name": "stderr",
     "output_type": "stream",
     "text": [
      " 19%|█▉        | 194/1000 [5:45:56<22:32:49, 100.71s/it]"
     ]
    },
    {
     "name": "stdout",
     "output_type": "stream",
     "text": [
      "W_feat_ds.shape= torch.Size([450, 450])\n",
      "W_feat_hist_pearsoncorr.shape= torch.Size([450, 450])\n",
      "<class 'torch.Tensor'>\n",
      "eigenvalues shape torch.Size([5]) eigenvectors shape torch.Size([5, 400])\n",
      "194 /home/phdcs2/Hard_Disk/Datasets/Deep-Spectral-Segmentation/data/object-segmentation/ECSSD/features/dino_vits16/0195.pth\n",
      "0195\n",
      "tanh_feats.shape= torch.Size([400, 384])\n"
     ]
    },
    {
     "name": "stderr",
     "output_type": "stream",
     "text": [
      " 20%|█▉        | 195/1000 [5:47:18<21:17:42, 95.23s/it] "
     ]
    },
    {
     "name": "stdout",
     "output_type": "stream",
     "text": [
      "W_feat_ds.shape= torch.Size([400, 400])\n",
      "W_feat_hist_pearsoncorr.shape= torch.Size([400, 400])\n",
      "<class 'torch.Tensor'>\n",
      "eigenvalues shape torch.Size([5]) eigenvectors shape torch.Size([5, 400])\n",
      "195 /home/phdcs2/Hard_Disk/Datasets/Deep-Spectral-Segmentation/data/object-segmentation/ECSSD/features/dino_vits16/0196.pth\n",
      "0196\n",
      "tanh_feats.shape= torch.Size([625, 384])\n",
      "W_feat_ds.shape= torch.Size([625, 625])\n",
      "W_feat_hist_pearsoncorr.shape= torch.Size([625, 625])\n",
      "<class 'torch.Tensor'>\n"
     ]
    },
    {
     "name": "stderr",
     "output_type": "stream",
     "text": [
      " 20%|█▉        | 196/1000 [5:50:37<28:12:15, 126.29s/it]"
     ]
    },
    {
     "name": "stdout",
     "output_type": "stream",
     "text": [
      "eigenvalues shape torch.Size([5]) eigenvectors shape torch.Size([5, 400])\n",
      "196 /home/phdcs2/Hard_Disk/Datasets/Deep-Spectral-Segmentation/data/object-segmentation/ECSSD/features/dino_vits16/0197.pth\n",
      "0197\n",
      "tanh_feats.shape= torch.Size([400, 384])\n",
      "W_feat_ds.shape= torch.Size([400, 400])\n",
      "W_feat_hist_pearsoncorr.shape= torch.Size([400, 400])\n",
      "<class 'torch.Tensor'>\n"
     ]
    },
    {
     "name": "stderr",
     "output_type": "stream",
     "text": [
      " 20%|█▉        | 197/1000 [5:51:59<25:12:58, 113.05s/it]"
     ]
    },
    {
     "name": "stdout",
     "output_type": "stream",
     "text": [
      "eigenvalues shape torch.Size([5]) eigenvectors shape torch.Size([5, 400])\n",
      "197 /home/phdcs2/Hard_Disk/Datasets/Deep-Spectral-Segmentation/data/object-segmentation/ECSSD/features/dino_vits16/0198.pth\n",
      "0198\n",
      "tanh_feats.shape= torch.Size([425, 384])\n"
     ]
    },
    {
     "name": "stderr",
     "output_type": "stream",
     "text": [
      " 20%|█▉        | 198/1000 [5:53:31<23:46:54, 106.75s/it]"
     ]
    },
    {
     "name": "stdout",
     "output_type": "stream",
     "text": [
      "W_feat_ds.shape= torch.Size([425, 425])\n",
      "W_feat_hist_pearsoncorr.shape= torch.Size([425, 425])\n",
      "<class 'torch.Tensor'>\n",
      "eigenvalues shape torch.Size([5]) eigenvectors shape torch.Size([5, 400])\n",
      "198 /home/phdcs2/Hard_Disk/Datasets/Deep-Spectral-Segmentation/data/object-segmentation/ECSSD/features/dino_vits16/0199.pth\n",
      "0199\n",
      "tanh_feats.shape= torch.Size([450, 384])\n"
     ]
    },
    {
     "name": "stderr",
     "output_type": "stream",
     "text": [
      " 20%|█▉        | 199/1000 [5:55:15<23:31:32, 105.73s/it]"
     ]
    },
    {
     "name": "stdout",
     "output_type": "stream",
     "text": [
      "W_feat_ds.shape= torch.Size([450, 450])\n",
      "W_feat_hist_pearsoncorr.shape= torch.Size([450, 450])\n",
      "<class 'torch.Tensor'>\n",
      "eigenvalues shape torch.Size([5]) eigenvectors shape torch.Size([5, 400])\n",
      "199 /home/phdcs2/Hard_Disk/Datasets/Deep-Spectral-Segmentation/data/object-segmentation/ECSSD/features/dino_vits16/0200.pth\n",
      "0200\n",
      "tanh_feats.shape= torch.Size([450, 384])\n",
      "W_feat_ds.shape= torch.Size([450, 450])\n",
      "W_feat_hist_pearsoncorr.shape= torch.Size([450, 450])\n",
      "<class 'torch.Tensor'>\n"
     ]
    },
    {
     "name": "stderr",
     "output_type": "stream",
     "text": [
      " 20%|██        | 200/1000 [5:56:57<23:17:56, 104.85s/it]"
     ]
    },
    {
     "name": "stdout",
     "output_type": "stream",
     "text": [
      "eigenvalues shape torch.Size([5]) eigenvectors shape torch.Size([5, 400])\n",
      "200 /home/phdcs2/Hard_Disk/Datasets/Deep-Spectral-Segmentation/data/object-segmentation/ECSSD/features/dino_vits16/0201.pth\n",
      "0201\n",
      "tanh_feats.shape= torch.Size([425, 384])\n"
     ]
    },
    {
     "name": "stderr",
     "output_type": "stream",
     "text": [
      " 20%|██        | 201/1000 [5:58:29<22:24:54, 100.99s/it]"
     ]
    },
    {
     "name": "stdout",
     "output_type": "stream",
     "text": [
      "W_feat_ds.shape= torch.Size([425, 425])\n",
      "W_feat_hist_pearsoncorr.shape= torch.Size([425, 425])\n",
      "<class 'torch.Tensor'>\n",
      "eigenvalues shape torch.Size([5]) eigenvectors shape torch.Size([5, 400])\n",
      "201 /home/phdcs2/Hard_Disk/Datasets/Deep-Spectral-Segmentation/data/object-segmentation/ECSSD/features/dino_vits16/0202.pth\n",
      "0202\n",
      "tanh_feats.shape= torch.Size([400, 384])\n"
     ]
    },
    {
     "name": "stderr",
     "output_type": "stream",
     "text": [
      " 20%|██        | 202/1000 [5:59:51<21:04:34, 95.08s/it] "
     ]
    },
    {
     "name": "stdout",
     "output_type": "stream",
     "text": [
      "W_feat_ds.shape= torch.Size([400, 400])\n",
      "W_feat_hist_pearsoncorr.shape= torch.Size([400, 400])\n",
      "<class 'torch.Tensor'>\n",
      "eigenvalues shape torch.Size([5]) eigenvectors shape torch.Size([5, 400])\n",
      "202 /home/phdcs2/Hard_Disk/Datasets/Deep-Spectral-Segmentation/data/object-segmentation/ECSSD/features/dino_vits16/0203.pth\n",
      "0203\n",
      "tanh_feats.shape= torch.Size([400, 384])\n"
     ]
    },
    {
     "name": "stderr",
     "output_type": "stream",
     "text": [
      " 20%|██        | 203/1000 [6:01:13<20:10:21, 91.12s/it]"
     ]
    },
    {
     "name": "stdout",
     "output_type": "stream",
     "text": [
      "W_feat_ds.shape= torch.Size([400, 400])\n",
      "W_feat_hist_pearsoncorr.shape= torch.Size([400, 400])\n",
      "<class 'torch.Tensor'>\n",
      "eigenvalues shape torch.Size([5]) eigenvectors shape torch.Size([5, 400])\n",
      "203 /home/phdcs2/Hard_Disk/Datasets/Deep-Spectral-Segmentation/data/object-segmentation/ECSSD/features/dino_vits16/0204.pth\n",
      "0204\n",
      "tanh_feats.shape= torch.Size([450, 384])\n",
      "W_feat_ds.shape= torch.Size([450, 450])\n",
      "W_feat_hist_pearsoncorr.shape= torch.Size([450, 450])\n",
      "<class 'torch.Tensor'>\n"
     ]
    },
    {
     "name": "stderr",
     "output_type": "stream",
     "text": [
      " 20%|██        | 204/1000 [6:02:56<20:59:06, 94.91s/it]"
     ]
    },
    {
     "name": "stdout",
     "output_type": "stream",
     "text": [
      "eigenvalues shape torch.Size([5]) eigenvectors shape torch.Size([5, 400])\n",
      "204 /home/phdcs2/Hard_Disk/Datasets/Deep-Spectral-Segmentation/data/object-segmentation/ECSSD/features/dino_vits16/0205.pth\n",
      "0205\n",
      "tanh_feats.shape= torch.Size([450, 384])\n",
      "W_feat_ds.shape= torch.Size([450, 450])\n",
      "W_feat_hist_pearsoncorr.shape= torch.Size([450, 450])\n",
      "<class 'torch.Tensor'>\n"
     ]
    },
    {
     "name": "stderr",
     "output_type": "stream",
     "text": [
      " 20%|██        | 205/1000 [6:04:41<21:35:38, 97.78s/it]"
     ]
    },
    {
     "name": "stdout",
     "output_type": "stream",
     "text": [
      "eigenvalues shape torch.Size([5]) eigenvectors shape torch.Size([5, 400])\n",
      "205 /home/phdcs2/Hard_Disk/Datasets/Deep-Spectral-Segmentation/data/object-segmentation/ECSSD/features/dino_vits16/0206.pth\n",
      "0206\n",
      "tanh_feats.shape= torch.Size([400, 384])\n"
     ]
    },
    {
     "name": "stderr",
     "output_type": "stream",
     "text": [
      " 21%|██        | 206/1000 [6:06:03<20:31:51, 93.09s/it]"
     ]
    },
    {
     "name": "stdout",
     "output_type": "stream",
     "text": [
      "W_feat_ds.shape= torch.Size([400, 400])\n",
      "W_feat_hist_pearsoncorr.shape= torch.Size([400, 400])\n",
      "<class 'torch.Tensor'>\n",
      "eigenvalues shape torch.Size([5]) eigenvectors shape torch.Size([5, 400])\n",
      "206 /home/phdcs2/Hard_Disk/Datasets/Deep-Spectral-Segmentation/data/object-segmentation/ECSSD/features/dino_vits16/0207.pth\n",
      "0207\n",
      "tanh_feats.shape= torch.Size([400, 384])\n"
     ]
    },
    {
     "name": "stderr",
     "output_type": "stream",
     "text": [
      " 21%|██        | 207/1000 [6:07:24<19:44:25, 89.62s/it]"
     ]
    },
    {
     "name": "stdout",
     "output_type": "stream",
     "text": [
      "W_feat_ds.shape= torch.Size([400, 400])\n",
      "W_feat_hist_pearsoncorr.shape= torch.Size([400, 400])\n",
      "<class 'torch.Tensor'>\n",
      "eigenvalues shape torch.Size([5]) eigenvectors shape torch.Size([5, 400])\n",
      "207 /home/phdcs2/Hard_Disk/Datasets/Deep-Spectral-Segmentation/data/object-segmentation/ECSSD/features/dino_vits16/0208.pth\n",
      "0208\n",
      "tanh_feats.shape= torch.Size([450, 384])\n",
      "W_feat_ds.shape= torch.Size([450, 450])\n",
      "W_feat_hist_pearsoncorr.shape= torch.Size([450, 450])\n",
      "<class 'torch.Tensor'>\n"
     ]
    },
    {
     "name": "stderr",
     "output_type": "stream",
     "text": [
      " 21%|██        | 208/1000 [6:09:10<20:44:37, 94.29s/it]"
     ]
    },
    {
     "name": "stdout",
     "output_type": "stream",
     "text": [
      "eigenvalues shape torch.Size([5]) eigenvectors shape torch.Size([5, 400])\n",
      "208 /home/phdcs2/Hard_Disk/Datasets/Deep-Spectral-Segmentation/data/object-segmentation/ECSSD/features/dino_vits16/0209.pth\n",
      "0209\n",
      "tanh_feats.shape= torch.Size([500, 384])\n",
      "W_feat_ds.shape= torch.Size([500, 500])\n",
      "W_feat_hist_pearsoncorr.shape= torch.Size([500, 500])\n",
      "<class 'torch.Tensor'>\n"
     ]
    },
    {
     "name": "stderr",
     "output_type": "stream",
     "text": [
      " 21%|██        | 209/1000 [6:11:19<23:00:06, 104.69s/it]"
     ]
    },
    {
     "name": "stdout",
     "output_type": "stream",
     "text": [
      "eigenvalues shape torch.Size([5]) eigenvectors shape torch.Size([5, 400])\n",
      "209 /home/phdcs2/Hard_Disk/Datasets/Deep-Spectral-Segmentation/data/object-segmentation/ECSSD/features/dino_vits16/0210.pth\n",
      "0210\n",
      "tanh_feats.shape= torch.Size([425, 384])\n",
      "W_feat_ds.shape= torch.Size([425, 425])\n",
      "W_feat_hist_pearsoncorr.shape= torch.Size([425, 425])\n",
      "<class 'torch.Tensor'>\n"
     ]
    },
    {
     "name": "stderr",
     "output_type": "stream",
     "text": [
      " 21%|██        | 210/1000 [6:12:52<22:12:30, 101.20s/it]"
     ]
    },
    {
     "name": "stdout",
     "output_type": "stream",
     "text": [
      "eigenvalues shape torch.Size([5]) eigenvectors shape torch.Size([5, 400])\n",
      "210 /home/phdcs2/Hard_Disk/Datasets/Deep-Spectral-Segmentation/data/object-segmentation/ECSSD/features/dino_vits16/0211.pth\n",
      "0211\n",
      "tanh_feats.shape= torch.Size([500, 384])\n",
      "W_feat_ds.shape= torch.Size([500, 500])\n",
      "W_feat_hist_pearsoncorr.shape= torch.Size([500, 500])\n",
      "<class 'torch.Tensor'>\n"
     ]
    },
    {
     "name": "stderr",
     "output_type": "stream",
     "text": [
      " 21%|██        | 211/1000 [6:14:59<23:55:00, 109.13s/it]"
     ]
    },
    {
     "name": "stdout",
     "output_type": "stream",
     "text": [
      "eigenvalues shape torch.Size([5]) eigenvectors shape torch.Size([5, 400])\n",
      "211 /home/phdcs2/Hard_Disk/Datasets/Deep-Spectral-Segmentation/data/object-segmentation/ECSSD/features/dino_vits16/0212.pth\n",
      "0212\n",
      "tanh_feats.shape= torch.Size([625, 384])\n",
      "W_feat_ds.shape= torch.Size([625, 625])\n",
      "W_feat_hist_pearsoncorr.shape= torch.Size([625, 625])\n",
      "<class 'torch.Tensor'>\n",
      "eigenvalues shape torch.Size([5]) eigenvectors shape torch.Size([5, 400])\n"
     ]
    },
    {
     "name": "stderr",
     "output_type": "stream",
     "text": [
      " 21%|██        | 212/1000 [6:18:19<29:48:19, 136.17s/it]"
     ]
    },
    {
     "name": "stdout",
     "output_type": "stream",
     "text": [
      "212 /home/phdcs2/Hard_Disk/Datasets/Deep-Spectral-Segmentation/data/object-segmentation/ECSSD/features/dino_vits16/0213.pth\n",
      "0213\n",
      "tanh_feats.shape= torch.Size([450, 384])\n",
      "W_feat_ds.shape= torch.Size([450, 450])\n",
      "W_feat_hist_pearsoncorr.shape= torch.Size([450, 450])\n",
      "<class 'torch.Tensor'>\n"
     ]
    },
    {
     "name": "stderr",
     "output_type": "stream",
     "text": [
      " 21%|██▏       | 213/1000 [6:20:03<27:40:32, 126.60s/it]"
     ]
    },
    {
     "name": "stdout",
     "output_type": "stream",
     "text": [
      "eigenvalues shape torch.Size([5]) eigenvectors shape torch.Size([5, 400])\n",
      "213 /home/phdcs2/Hard_Disk/Datasets/Deep-Spectral-Segmentation/data/object-segmentation/ECSSD/features/dino_vits16/0214.pth\n",
      "0214\n",
      "tanh_feats.shape= torch.Size([350, 384])\n"
     ]
    },
    {
     "name": "stderr",
     "output_type": "stream",
     "text": [
      " 21%|██▏       | 214/1000 [6:21:05<23:27:15, 107.42s/it]"
     ]
    },
    {
     "name": "stdout",
     "output_type": "stream",
     "text": [
      "W_feat_ds.shape= torch.Size([350, 350])\n",
      "W_feat_hist_pearsoncorr.shape= torch.Size([350, 350])\n",
      "<class 'torch.Tensor'>\n",
      "eigenvalues shape torch.Size([5]) eigenvectors shape torch.Size([5, 400])\n",
      "214 /home/phdcs2/Hard_Disk/Datasets/Deep-Spectral-Segmentation/data/object-segmentation/ECSSD/features/dino_vits16/0215.pth\n",
      "0215\n",
      "tanh_feats.shape= torch.Size([425, 384])\n"
     ]
    },
    {
     "name": "stderr",
     "output_type": "stream",
     "text": [
      " 22%|██▏       | 215/1000 [6:22:38<22:28:42, 103.09s/it]"
     ]
    },
    {
     "name": "stdout",
     "output_type": "stream",
     "text": [
      "W_feat_ds.shape= torch.Size([425, 425])\n",
      "W_feat_hist_pearsoncorr.shape= torch.Size([425, 425])\n",
      "<class 'torch.Tensor'>\n",
      "eigenvalues shape torch.Size([5]) eigenvectors shape torch.Size([5, 400])\n",
      "215 /home/phdcs2/Hard_Disk/Datasets/Deep-Spectral-Segmentation/data/object-segmentation/ECSSD/features/dino_vits16/0216.pth\n",
      "0216\n",
      "tanh_feats.shape= torch.Size([450, 384])\n",
      "W_feat_ds.shape= torch.Size([450, 450])\n",
      "W_feat_hist_pearsoncorr.shape= torch.Size([450, 450])\n",
      "<class 'torch.Tensor'>\n"
     ]
    },
    {
     "name": "stderr",
     "output_type": "stream",
     "text": [
      " 22%|██▏       | 216/1000 [6:24:22<22:28:20, 103.19s/it]"
     ]
    },
    {
     "name": "stdout",
     "output_type": "stream",
     "text": [
      "eigenvalues shape torch.Size([5]) eigenvectors shape torch.Size([5, 400])\n",
      "216 /home/phdcs2/Hard_Disk/Datasets/Deep-Spectral-Segmentation/data/object-segmentation/ECSSD/features/dino_vits16/0217.pth\n",
      "0217\n",
      "tanh_feats.shape= torch.Size([450, 384])\n"
     ]
    },
    {
     "name": "stderr",
     "output_type": "stream",
     "text": [
      " 22%|██▏       | 217/1000 [6:26:06<22:28:56, 103.37s/it]"
     ]
    },
    {
     "name": "stdout",
     "output_type": "stream",
     "text": [
      "W_feat_ds.shape= torch.Size([450, 450])\n",
      "W_feat_hist_pearsoncorr.shape= torch.Size([450, 450])\n",
      "<class 'torch.Tensor'>\n",
      "eigenvalues shape torch.Size([5]) eigenvectors shape torch.Size([5, 400])\n",
      "217 /home/phdcs2/Hard_Disk/Datasets/Deep-Spectral-Segmentation/data/object-segmentation/ECSSD/features/dino_vits16/0218.pth\n",
      "0218\n",
      "tanh_feats.shape= torch.Size([500, 384])\n",
      "W_feat_ds.shape= torch.Size([500, 500])\n",
      "W_feat_hist_pearsoncorr.shape= torch.Size([500, 500])\n",
      "<class 'torch.Tensor'>\n"
     ]
    },
    {
     "name": "stderr",
     "output_type": "stream",
     "text": [
      " 22%|██▏       | 218/1000 [6:28:15<24:10:07, 111.26s/it]"
     ]
    },
    {
     "name": "stdout",
     "output_type": "stream",
     "text": [
      "eigenvalues shape torch.Size([5]) eigenvectors shape torch.Size([5, 400])\n",
      "218 /home/phdcs2/Hard_Disk/Datasets/Deep-Spectral-Segmentation/data/object-segmentation/ECSSD/features/dino_vits16/0219.pth\n",
      "0219\n",
      "tanh_feats.shape= torch.Size([450, 384])\n"
     ]
    },
    {
     "name": "stderr",
     "output_type": "stream",
     "text": [
      " 22%|██▏       | 219/1000 [6:29:58<23:35:46, 108.77s/it]"
     ]
    },
    {
     "name": "stdout",
     "output_type": "stream",
     "text": [
      "W_feat_ds.shape= torch.Size([450, 450])\n",
      "W_feat_hist_pearsoncorr.shape= torch.Size([450, 450])\n",
      "<class 'torch.Tensor'>\n",
      "eigenvalues shape torch.Size([5]) eigenvectors shape torch.Size([5, 400])\n",
      "219 /home/phdcs2/Hard_Disk/Datasets/Deep-Spectral-Segmentation/data/object-segmentation/ECSSD/features/dino_vits16/0220.pth\n",
      "0220\n",
      "tanh_feats.shape= torch.Size([500, 384])\n",
      "W_feat_ds.shape= torch.Size([500, 500])\n",
      "W_feat_hist_pearsoncorr.shape= torch.Size([500, 500])\n",
      "<class 'torch.Tensor'>\n"
     ]
    },
    {
     "name": "stderr",
     "output_type": "stream",
     "text": [
      " 22%|██▏       | 220/1000 [6:32:07<24:49:59, 114.61s/it]"
     ]
    },
    {
     "name": "stdout",
     "output_type": "stream",
     "text": [
      "eigenvalues shape torch.Size([5]) eigenvectors shape torch.Size([5, 400])\n",
      "220 /home/phdcs2/Hard_Disk/Datasets/Deep-Spectral-Segmentation/data/object-segmentation/ECSSD/features/dino_vits16/0221.pth\n",
      "0221\n",
      "tanh_feats.shape= torch.Size([400, 384])\n",
      "W_feat_ds.shape= torch.Size([400, 400])\n",
      "W_feat_hist_pearsoncorr.shape= torch.Size([400, 400])\n",
      "<class 'torch.Tensor'>\n"
     ]
    },
    {
     "name": "stderr",
     "output_type": "stream",
     "text": [
      " 22%|██▏       | 221/1000 [6:33:30<22:47:41, 105.34s/it]"
     ]
    },
    {
     "name": "stdout",
     "output_type": "stream",
     "text": [
      "eigenvalues shape torch.Size([5]) eigenvectors shape torch.Size([5, 400])\n",
      "221 /home/phdcs2/Hard_Disk/Datasets/Deep-Spectral-Segmentation/data/object-segmentation/ECSSD/features/dino_vits16/0222.pth\n",
      "0222\n",
      "tanh_feats.shape= torch.Size([500, 384])\n"
     ]
    },
    {
     "name": "stderr",
     "output_type": "stream",
     "text": [
      " 22%|██▏       | 222/1000 [6:35:38<24:12:42, 112.03s/it]"
     ]
    },
    {
     "name": "stdout",
     "output_type": "stream",
     "text": [
      "W_feat_ds.shape= torch.Size([500, 500])\n",
      "W_feat_hist_pearsoncorr.shape= torch.Size([500, 500])\n",
      "<class 'torch.Tensor'>\n",
      "eigenvalues shape torch.Size([5]) eigenvectors shape torch.Size([5, 400])\n",
      "222 /home/phdcs2/Hard_Disk/Datasets/Deep-Spectral-Segmentation/data/object-segmentation/ECSSD/features/dino_vits16/0223.pth\n",
      "0223\n",
      "tanh_feats.shape= torch.Size([500, 384])\n",
      "W_feat_ds.shape= torch.Size([500, 500])\n",
      "W_feat_hist_pearsoncorr.shape= torch.Size([500, 500])\n",
      "<class 'torch.Tensor'>\n"
     ]
    },
    {
     "name": "stderr",
     "output_type": "stream",
     "text": [
      " 22%|██▏       | 223/1000 [6:37:47<25:17:24, 117.17s/it]"
     ]
    },
    {
     "name": "stdout",
     "output_type": "stream",
     "text": [
      "eigenvalues shape torch.Size([5]) eigenvectors shape torch.Size([5, 400])\n",
      "223 /home/phdcs2/Hard_Disk/Datasets/Deep-Spectral-Segmentation/data/object-segmentation/ECSSD/features/dino_vits16/0224.pth\n",
      "0224\n",
      "tanh_feats.shape= torch.Size([500, 384])\n",
      "W_feat_ds.shape= torch.Size([500, 500])\n",
      "W_feat_hist_pearsoncorr.shape= torch.Size([500, 500])\n",
      "<class 'torch.Tensor'>\n"
     ]
    },
    {
     "name": "stderr",
     "output_type": "stream",
     "text": [
      " 22%|██▏       | 224/1000 [6:39:55<25:59:08, 120.55s/it]"
     ]
    },
    {
     "name": "stdout",
     "output_type": "stream",
     "text": [
      "eigenvalues shape torch.Size([5]) eigenvectors shape torch.Size([5, 400])\n",
      "224 /home/phdcs2/Hard_Disk/Datasets/Deep-Spectral-Segmentation/data/object-segmentation/ECSSD/features/dino_vits16/0225.pth\n",
      "0225\n",
      "tanh_feats.shape= torch.Size([450, 384])\n",
      "W_feat_ds.shape= torch.Size([450, 450])\n",
      "W_feat_hist_pearsoncorr.shape= torch.Size([450, 450])\n",
      "<class 'torch.Tensor'>\n"
     ]
    },
    {
     "name": "stderr",
     "output_type": "stream",
     "text": [
      " 22%|██▎       | 225/1000 [6:41:39<24:52:57, 115.58s/it]"
     ]
    },
    {
     "name": "stdout",
     "output_type": "stream",
     "text": [
      "eigenvalues shape torch.Size([5]) eigenvectors shape torch.Size([5, 400])\n",
      "225 /home/phdcs2/Hard_Disk/Datasets/Deep-Spectral-Segmentation/data/object-segmentation/ECSSD/features/dino_vits16/0226.pth\n",
      "0226\n",
      "tanh_feats.shape= torch.Size([400, 384])\n",
      "W_feat_ds.shape= torch.Size([400, 400])\n",
      "W_feat_hist_pearsoncorr.shape= torch.Size([400, 400])\n",
      "<class 'torch.Tensor'>\n"
     ]
    },
    {
     "name": "stderr",
     "output_type": "stream",
     "text": [
      " 23%|██▎       | 226/1000 [6:43:02<22:44:25, 105.77s/it]"
     ]
    },
    {
     "name": "stdout",
     "output_type": "stream",
     "text": [
      "eigenvalues shape torch.Size([5]) eigenvectors shape torch.Size([5, 400])\n",
      "226 /home/phdcs2/Hard_Disk/Datasets/Deep-Spectral-Segmentation/data/object-segmentation/ECSSD/features/dino_vits16/0227.pth\n",
      "0227\n",
      "tanh_feats.shape= torch.Size([375, 384])\n",
      "W_feat_ds.shape= torch.Size([375, 375])\n",
      "W_feat_hist_pearsoncorr.shape= torch.Size([375, 375])\n",
      "<class 'torch.Tensor'>\n"
     ]
    },
    {
     "name": "stderr",
     "output_type": "stream",
     "text": [
      " 23%|██▎       | 227/1000 [6:44:15<20:34:55, 95.85s/it] "
     ]
    },
    {
     "name": "stdout",
     "output_type": "stream",
     "text": [
      "eigenvalues shape torch.Size([5]) eigenvectors shape torch.Size([5, 400])\n",
      "227 /home/phdcs2/Hard_Disk/Datasets/Deep-Spectral-Segmentation/data/object-segmentation/ECSSD/features/dino_vits16/0228.pth\n",
      "0228\n",
      "tanh_feats.shape= torch.Size([375, 384])\n",
      "W_feat_ds.shape= torch.Size([375, 375])\n",
      "W_feat_hist_pearsoncorr.shape= torch.Size([375, 375])\n",
      "<class 'torch.Tensor'>\n"
     ]
    },
    {
     "name": "stderr",
     "output_type": "stream",
     "text": [
      " 23%|██▎       | 228/1000 [6:45:28<19:03:30, 88.87s/it]"
     ]
    },
    {
     "name": "stdout",
     "output_type": "stream",
     "text": [
      "eigenvalues shape torch.Size([5]) eigenvectors shape torch.Size([5, 400])\n",
      "228 /home/phdcs2/Hard_Disk/Datasets/Deep-Spectral-Segmentation/data/object-segmentation/ECSSD/features/dino_vits16/0229.pth\n",
      "0229\n",
      "tanh_feats.shape= torch.Size([400, 384])\n",
      "W_feat_ds.shape= torch.Size([400, 400])\n",
      "W_feat_hist_pearsoncorr.shape= torch.Size([400, 400])\n",
      "<class 'torch.Tensor'>\n"
     ]
    },
    {
     "name": "stderr",
     "output_type": "stream",
     "text": [
      " 23%|██▎       | 229/1000 [6:46:50<18:38:07, 87.01s/it]"
     ]
    },
    {
     "name": "stdout",
     "output_type": "stream",
     "text": [
      "eigenvalues shape torch.Size([5]) eigenvectors shape torch.Size([5, 400])\n",
      "229 /home/phdcs2/Hard_Disk/Datasets/Deep-Spectral-Segmentation/data/object-segmentation/ECSSD/features/dino_vits16/0230.pth\n",
      "0230\n",
      "tanh_feats.shape= torch.Size([450, 384])\n",
      "W_feat_ds.shape= torch.Size([450, 450])\n",
      "W_feat_hist_pearsoncorr.shape= torch.Size([450, 450])\n",
      "<class 'torch.Tensor'>\n"
     ]
    },
    {
     "name": "stderr",
     "output_type": "stream",
     "text": [
      " 23%|██▎       | 230/1000 [6:48:37<19:52:39, 92.93s/it]"
     ]
    },
    {
     "name": "stdout",
     "output_type": "stream",
     "text": [
      "eigenvalues shape torch.Size([5]) eigenvectors shape torch.Size([5, 400])\n",
      "230 /home/phdcs2/Hard_Disk/Datasets/Deep-Spectral-Segmentation/data/object-segmentation/ECSSD/features/dino_vits16/0231.pth\n",
      "0231\n",
      "tanh_feats.shape= torch.Size([525, 384])\n",
      "W_feat_ds.shape= torch.Size([525, 525])\n",
      "W_feat_hist_pearsoncorr.shape= torch.Size([525, 525])\n",
      "<class 'torch.Tensor'>\n"
     ]
    },
    {
     "name": "stderr",
     "output_type": "stream",
     "text": [
      " 23%|██▎       | 231/1000 [6:51:00<23:02:19, 107.85s/it]"
     ]
    },
    {
     "name": "stdout",
     "output_type": "stream",
     "text": [
      "eigenvalues shape torch.Size([5]) eigenvectors shape torch.Size([5, 400])\n",
      "231 /home/phdcs2/Hard_Disk/Datasets/Deep-Spectral-Segmentation/data/object-segmentation/ECSSD/features/dino_vits16/0232.pth\n",
      "0232\n",
      "tanh_feats.shape= torch.Size([500, 384])\n",
      "W_feat_ds.shape= torch.Size([500, 500])\n",
      "W_feat_hist_pearsoncorr.shape= torch.Size([500, 500])\n",
      "<class 'torch.Tensor'>\n"
     ]
    },
    {
     "name": "stderr",
     "output_type": "stream",
     "text": [
      " 23%|██▎       | 232/1000 [6:53:09<24:23:04, 114.30s/it]"
     ]
    },
    {
     "name": "stdout",
     "output_type": "stream",
     "text": [
      "eigenvalues shape torch.Size([5]) eigenvectors shape torch.Size([5, 400])\n",
      "232 /home/phdcs2/Hard_Disk/Datasets/Deep-Spectral-Segmentation/data/object-segmentation/ECSSD/features/dino_vits16/0233.pth\n",
      "0233\n",
      "tanh_feats.shape= torch.Size([475, 384])\n",
      "W_feat_ds.shape= torch.Size([475, 475])\n",
      "W_feat_hist_pearsoncorr.shape= torch.Size([475, 475])\n",
      "<class 'torch.Tensor'>\n"
     ]
    },
    {
     "name": "stderr",
     "output_type": "stream",
     "text": [
      " 23%|██▎       | 233/1000 [6:55:04<24:25:00, 114.60s/it]"
     ]
    },
    {
     "name": "stdout",
     "output_type": "stream",
     "text": [
      "eigenvalues shape torch.Size([5]) eigenvectors shape torch.Size([5, 400])\n",
      "233 /home/phdcs2/Hard_Disk/Datasets/Deep-Spectral-Segmentation/data/object-segmentation/ECSSD/features/dino_vits16/0234.pth\n",
      "0234\n",
      "tanh_feats.shape= torch.Size([400, 384])\n"
     ]
    },
    {
     "name": "stderr",
     "output_type": "stream",
     "text": [
      " 23%|██▎       | 234/1000 [6:56:27<22:19:40, 104.94s/it]"
     ]
    },
    {
     "name": "stdout",
     "output_type": "stream",
     "text": [
      "W_feat_ds.shape= torch.Size([400, 400])\n",
      "W_feat_hist_pearsoncorr.shape= torch.Size([400, 400])\n",
      "<class 'torch.Tensor'>\n",
      "eigenvalues shape torch.Size([5]) eigenvectors shape torch.Size([5, 400])\n",
      "234 /home/phdcs2/Hard_Disk/Datasets/Deep-Spectral-Segmentation/data/object-segmentation/ECSSD/features/dino_vits16/0235.pth\n",
      "0235\n",
      "tanh_feats.shape= torch.Size([400, 384])\n",
      "W_feat_ds.shape= torch.Size([400, 400])\n",
      "W_feat_hist_pearsoncorr.shape= torch.Size([400, 400])\n",
      "<class 'torch.Tensor'>\n"
     ]
    },
    {
     "name": "stderr",
     "output_type": "stream",
     "text": [
      " 24%|██▎       | 235/1000 [6:57:49<20:52:43, 98.25s/it] "
     ]
    },
    {
     "name": "stdout",
     "output_type": "stream",
     "text": [
      "eigenvalues shape torch.Size([5]) eigenvectors shape torch.Size([5, 400])\n",
      "235 /home/phdcs2/Hard_Disk/Datasets/Deep-Spectral-Segmentation/data/object-segmentation/ECSSD/features/dino_vits16/0236.pth\n",
      "0236\n",
      "tanh_feats.shape= torch.Size([400, 384])\n"
     ]
    },
    {
     "name": "stderr",
     "output_type": "stream",
     "text": [
      " 24%|██▎       | 236/1000 [6:59:11<19:48:18, 93.32s/it]"
     ]
    },
    {
     "name": "stdout",
     "output_type": "stream",
     "text": [
      "W_feat_ds.shape= torch.Size([400, 400])\n",
      "W_feat_hist_pearsoncorr.shape= torch.Size([400, 400])\n",
      "<class 'torch.Tensor'>\n",
      "eigenvalues shape torch.Size([5]) eigenvectors shape torch.Size([5, 400])\n",
      "236 /home/phdcs2/Hard_Disk/Datasets/Deep-Spectral-Segmentation/data/object-segmentation/ECSSD/features/dino_vits16/0237.pth\n",
      "0237\n",
      "tanh_feats.shape= torch.Size([400, 384])\n",
      "W_feat_ds.shape= torch.Size([400, 400])\n",
      "W_feat_hist_pearsoncorr.shape= torch.Size([400, 400])\n",
      "<class 'torch.Tensor'>\n"
     ]
    },
    {
     "name": "stderr",
     "output_type": "stream",
     "text": [
      " 24%|██▎       | 237/1000 [7:00:34<19:04:53, 90.03s/it]"
     ]
    },
    {
     "name": "stdout",
     "output_type": "stream",
     "text": [
      "eigenvalues shape torch.Size([5]) eigenvectors shape torch.Size([5, 400])\n",
      "237 /home/phdcs2/Hard_Disk/Datasets/Deep-Spectral-Segmentation/data/object-segmentation/ECSSD/features/dino_vits16/0238.pth\n",
      "0238\n",
      "tanh_feats.shape= torch.Size([400, 384])\n",
      "W_feat_ds.shape= torch.Size([400, 400])\n",
      "W_feat_hist_pearsoncorr.shape= torch.Size([400, 400])\n",
      "<class 'torch.Tensor'>\n"
     ]
    },
    {
     "name": "stderr",
     "output_type": "stream",
     "text": [
      " 24%|██▍       | 238/1000 [7:01:57<18:37:06, 87.96s/it]"
     ]
    },
    {
     "name": "stdout",
     "output_type": "stream",
     "text": [
      "eigenvalues shape torch.Size([5]) eigenvectors shape torch.Size([5, 400])\n",
      "238 /home/phdcs2/Hard_Disk/Datasets/Deep-Spectral-Segmentation/data/object-segmentation/ECSSD/features/dino_vits16/0239.pth\n",
      "0239\n",
      "tanh_feats.shape= torch.Size([400, 384])\n"
     ]
    },
    {
     "name": "stderr",
     "output_type": "stream",
     "text": [
      " 24%|██▍       | 239/1000 [7:03:19<18:13:24, 86.21s/it]"
     ]
    },
    {
     "name": "stdout",
     "output_type": "stream",
     "text": [
      "W_feat_ds.shape= torch.Size([400, 400])\n",
      "W_feat_hist_pearsoncorr.shape= torch.Size([400, 400])\n",
      "<class 'torch.Tensor'>\n",
      "eigenvalues shape torch.Size([5]) eigenvectors shape torch.Size([5, 400])\n",
      "239 /home/phdcs2/Hard_Disk/Datasets/Deep-Spectral-Segmentation/data/object-segmentation/ECSSD/features/dino_vits16/0240.pth\n",
      "0240\n",
      "tanh_feats.shape= torch.Size([350, 384])\n",
      "W_feat_ds.shape= torch.Size([350, 350])\n",
      "W_feat_hist_pearsoncorr.shape= torch.Size([350, 350])\n",
      "<class 'torch.Tensor'>\n"
     ]
    },
    {
     "name": "stderr",
     "output_type": "stream",
     "text": [
      " 24%|██▍       | 240/1000 [7:04:22<16:42:28, 79.14s/it]"
     ]
    },
    {
     "name": "stdout",
     "output_type": "stream",
     "text": [
      "eigenvalues shape torch.Size([5]) eigenvectors shape torch.Size([5, 400])\n",
      "240 /home/phdcs2/Hard_Disk/Datasets/Deep-Spectral-Segmentation/data/object-segmentation/ECSSD/features/dino_vits16/0241.pth\n",
      "0241\n",
      "tanh_feats.shape= torch.Size([400, 384])\n",
      "W_feat_ds.shape= torch.Size([400, 400])\n",
      "W_feat_hist_pearsoncorr.shape= torch.Size([400, 400])\n",
      "<class 'torch.Tensor'>\n"
     ]
    },
    {
     "name": "stderr",
     "output_type": "stream",
     "text": [
      " 24%|██▍       | 241/1000 [7:05:44<16:54:15, 80.18s/it]"
     ]
    },
    {
     "name": "stdout",
     "output_type": "stream",
     "text": [
      "eigenvalues shape torch.Size([5]) eigenvectors shape torch.Size([5, 400])\n",
      "241 /home/phdcs2/Hard_Disk/Datasets/Deep-Spectral-Segmentation/data/object-segmentation/ECSSD/features/dino_vits16/0242.pth\n",
      "0242\n",
      "tanh_feats.shape= torch.Size([325, 384])\n"
     ]
    },
    {
     "name": "stderr",
     "output_type": "stream",
     "text": [
      " 24%|██▍       | 242/1000 [7:06:39<15:18:17, 72.69s/it]"
     ]
    },
    {
     "name": "stdout",
     "output_type": "stream",
     "text": [
      "W_feat_ds.shape= torch.Size([325, 325])\n",
      "W_feat_hist_pearsoncorr.shape= torch.Size([325, 325])\n",
      "<class 'torch.Tensor'>\n",
      "eigenvalues shape torch.Size([5]) eigenvectors shape torch.Size([5, 400])\n",
      "242 /home/phdcs2/Hard_Disk/Datasets/Deep-Spectral-Segmentation/data/object-segmentation/ECSSD/features/dino_vits16/0243.pth\n",
      "0243\n",
      "tanh_feats.shape= torch.Size([400, 384])\n",
      "W_feat_ds.shape= torch.Size([400, 400])\n",
      "W_feat_hist_pearsoncorr.shape= torch.Size([400, 400])\n",
      "<class 'torch.Tensor'>\n"
     ]
    },
    {
     "name": "stderr",
     "output_type": "stream",
     "text": [
      " 24%|██▍       | 243/1000 [7:08:02<15:54:19, 75.64s/it]"
     ]
    },
    {
     "name": "stdout",
     "output_type": "stream",
     "text": [
      "eigenvalues shape torch.Size([5]) eigenvectors shape torch.Size([5, 400])\n",
      "243 /home/phdcs2/Hard_Disk/Datasets/Deep-Spectral-Segmentation/data/object-segmentation/ECSSD/features/dino_vits16/0244.pth\n",
      "0244\n",
      "tanh_feats.shape= torch.Size([400, 384])\n"
     ]
    },
    {
     "name": "stderr",
     "output_type": "stream",
     "text": [
      " 24%|██▍       | 244/1000 [7:09:23<16:15:23, 77.41s/it]"
     ]
    },
    {
     "name": "stdout",
     "output_type": "stream",
     "text": [
      "W_feat_ds.shape= torch.Size([400, 400])\n",
      "W_feat_hist_pearsoncorr.shape= torch.Size([400, 400])\n",
      "<class 'torch.Tensor'>\n",
      "eigenvalues shape torch.Size([5]) eigenvectors shape torch.Size([5, 400])\n",
      "244 /home/phdcs2/Hard_Disk/Datasets/Deep-Spectral-Segmentation/data/object-segmentation/ECSSD/features/dino_vits16/0245.pth\n",
      "0245\n",
      "tanh_feats.shape= torch.Size([400, 384])\n"
     ]
    },
    {
     "name": "stderr",
     "output_type": "stream",
     "text": [
      " 24%|██▍       | 245/1000 [7:10:45<16:31:03, 78.76s/it]"
     ]
    },
    {
     "name": "stdout",
     "output_type": "stream",
     "text": [
      "W_feat_ds.shape= torch.Size([400, 400])\n",
      "W_feat_hist_pearsoncorr.shape= torch.Size([400, 400])\n",
      "<class 'torch.Tensor'>\n",
      "eigenvalues shape torch.Size([5]) eigenvectors shape torch.Size([5, 400])\n",
      "245 /home/phdcs2/Hard_Disk/Datasets/Deep-Spectral-Segmentation/data/object-segmentation/ECSSD/features/dino_vits16/0246.pth\n",
      "0246\n",
      "tanh_feats.shape= torch.Size([400, 384])\n",
      "W_feat_ds.shape= torch.Size([400, 400])\n",
      "W_feat_hist_pearsoncorr.shape= torch.Size([400, 400])\n",
      "<class 'torch.Tensor'>\n"
     ]
    },
    {
     "name": "stderr",
     "output_type": "stream",
     "text": [
      " 25%|██▍       | 246/1000 [7:12:07<16:39:25, 79.53s/it]"
     ]
    },
    {
     "name": "stdout",
     "output_type": "stream",
     "text": [
      "eigenvalues shape torch.Size([5]) eigenvectors shape torch.Size([5, 400])\n",
      "246 /home/phdcs2/Hard_Disk/Datasets/Deep-Spectral-Segmentation/data/object-segmentation/ECSSD/features/dino_vits16/0247.pth\n",
      "0247\n",
      "tanh_feats.shape= torch.Size([400, 384])\n",
      "W_feat_ds.shape= torch.Size([400, 400])\n",
      "W_feat_hist_pearsoncorr.shape= torch.Size([400, 400])\n",
      "<class 'torch.Tensor'>\n"
     ]
    },
    {
     "name": "stderr",
     "output_type": "stream",
     "text": [
      " 25%|██▍       | 247/1000 [7:13:30<16:51:26, 80.59s/it]"
     ]
    },
    {
     "name": "stdout",
     "output_type": "stream",
     "text": [
      "eigenvalues shape torch.Size([5]) eigenvectors shape torch.Size([5, 400])\n",
      "247 /home/phdcs2/Hard_Disk/Datasets/Deep-Spectral-Segmentation/data/object-segmentation/ECSSD/features/dino_vits16/0248.pth\n",
      "0248\n",
      "tanh_feats.shape= torch.Size([450, 384])\n",
      "W_feat_ds.shape= torch.Size([450, 450])\n",
      "W_feat_hist_pearsoncorr.shape= torch.Size([450, 450])\n",
      "<class 'torch.Tensor'>\n"
     ]
    },
    {
     "name": "stderr",
     "output_type": "stream",
     "text": [
      " 25%|██▍       | 248/1000 [7:15:14<18:21:03, 87.85s/it]"
     ]
    },
    {
     "name": "stdout",
     "output_type": "stream",
     "text": [
      "eigenvalues shape torch.Size([5]) eigenvectors shape torch.Size([5, 400])\n",
      "248 /home/phdcs2/Hard_Disk/Datasets/Deep-Spectral-Segmentation/data/object-segmentation/ECSSD/features/dino_vits16/0249.pth\n",
      "0249\n",
      "tanh_feats.shape= torch.Size([425, 384])\n",
      "W_feat_ds.shape= torch.Size([425, 425])\n",
      "W_feat_hist_pearsoncorr.shape= torch.Size([425, 425])\n",
      "<class 'torch.Tensor'>\n"
     ]
    },
    {
     "name": "stderr",
     "output_type": "stream",
     "text": [
      " 25%|██▍       | 249/1000 [7:16:48<18:42:33, 89.68s/it]"
     ]
    },
    {
     "name": "stdout",
     "output_type": "stream",
     "text": [
      "eigenvalues shape torch.Size([5]) eigenvectors shape torch.Size([5, 400])\n",
      "249 /home/phdcs2/Hard_Disk/Datasets/Deep-Spectral-Segmentation/data/object-segmentation/ECSSD/features/dino_vits16/0250.pth\n",
      "0250\n",
      "tanh_feats.shape= torch.Size([400, 384])\n",
      "W_feat_ds.shape= torch.Size([400, 400])\n",
      "W_feat_hist_pearsoncorr.shape= torch.Size([400, 400])\n",
      "<class 'torch.Tensor'>\n"
     ]
    },
    {
     "name": "stderr",
     "output_type": "stream",
     "text": [
      " 25%|██▌       | 250/1000 [7:18:11<18:15:45, 87.66s/it]"
     ]
    },
    {
     "name": "stdout",
     "output_type": "stream",
     "text": [
      "eigenvalues shape torch.Size([5]) eigenvectors shape torch.Size([5, 400])\n",
      "250 /home/phdcs2/Hard_Disk/Datasets/Deep-Spectral-Segmentation/data/object-segmentation/ECSSD/features/dino_vits16/0251.pth\n",
      "0251\n",
      "tanh_feats.shape= torch.Size([450, 384])\n",
      "W_feat_ds.shape= torch.Size([450, 450])\n",
      "W_feat_hist_pearsoncorr.shape= torch.Size([450, 450])\n",
      "<class 'torch.Tensor'>\n"
     ]
    },
    {
     "name": "stderr",
     "output_type": "stream",
     "text": [
      " 25%|██▌       | 251/1000 [7:19:56<19:16:50, 92.67s/it]"
     ]
    },
    {
     "name": "stdout",
     "output_type": "stream",
     "text": [
      "eigenvalues shape torch.Size([5]) eigenvectors shape torch.Size([5, 400])\n",
      "251 /home/phdcs2/Hard_Disk/Datasets/Deep-Spectral-Segmentation/data/object-segmentation/ECSSD/features/dino_vits16/0252.pth\n",
      "0252\n",
      "tanh_feats.shape= torch.Size([450, 384])\n"
     ]
    },
    {
     "name": "stderr",
     "output_type": "stream",
     "text": [
      " 25%|██▌       | 252/1000 [7:21:38<19:51:39, 95.59s/it]"
     ]
    },
    {
     "name": "stdout",
     "output_type": "stream",
     "text": [
      "W_feat_ds.shape= torch.Size([450, 450])\n",
      "W_feat_hist_pearsoncorr.shape= torch.Size([450, 450])\n",
      "<class 'torch.Tensor'>\n",
      "eigenvalues shape torch.Size([5]) eigenvectors shape torch.Size([5, 400])\n",
      "252 /home/phdcs2/Hard_Disk/Datasets/Deep-Spectral-Segmentation/data/object-segmentation/ECSSD/features/dino_vits16/0253.pth\n",
      "0253\n",
      "tanh_feats.shape= torch.Size([450, 384])\n"
     ]
    },
    {
     "name": "stderr",
     "output_type": "stream",
     "text": [
      " 25%|██▌       | 253/1000 [7:23:22<20:21:27, 98.11s/it]"
     ]
    },
    {
     "name": "stdout",
     "output_type": "stream",
     "text": [
      "W_feat_ds.shape= torch.Size([450, 450])\n",
      "W_feat_hist_pearsoncorr.shape= torch.Size([450, 450])\n",
      "<class 'torch.Tensor'>\n",
      "eigenvalues shape torch.Size([5]) eigenvectors shape torch.Size([5, 400])\n",
      "253 /home/phdcs2/Hard_Disk/Datasets/Deep-Spectral-Segmentation/data/object-segmentation/ECSSD/features/dino_vits16/0254.pth\n",
      "0254\n",
      "tanh_feats.shape= torch.Size([525, 384])\n",
      "W_feat_ds.shape= torch.Size([525, 525])\n",
      "W_feat_hist_pearsoncorr.shape= torch.Size([525, 525])\n",
      "<class 'torch.Tensor'>\n"
     ]
    },
    {
     "name": "stderr",
     "output_type": "stream",
     "text": [
      " 25%|██▌       | 254/1000 [7:25:44<23:02:37, 111.20s/it]"
     ]
    },
    {
     "name": "stdout",
     "output_type": "stream",
     "text": [
      "eigenvalues shape torch.Size([5]) eigenvectors shape torch.Size([5, 400])\n",
      "254 /home/phdcs2/Hard_Disk/Datasets/Deep-Spectral-Segmentation/data/object-segmentation/ECSSD/features/dino_vits16/0255.pth\n",
      "0255\n",
      "tanh_feats.shape= torch.Size([575, 384])\n"
     ]
    },
    {
     "name": "stderr",
     "output_type": "stream",
     "text": [
      " 26%|██▌       | 255/1000 [7:28:33<26:36:15, 128.56s/it]"
     ]
    },
    {
     "name": "stdout",
     "output_type": "stream",
     "text": [
      "W_feat_ds.shape= torch.Size([575, 575])\n",
      "W_feat_hist_pearsoncorr.shape= torch.Size([575, 575])\n",
      "<class 'torch.Tensor'>\n",
      "eigenvalues shape torch.Size([5]) eigenvectors shape torch.Size([5, 400])\n",
      "255 /home/phdcs2/Hard_Disk/Datasets/Deep-Spectral-Segmentation/data/object-segmentation/ECSSD/features/dino_vits16/0256.pth\n",
      "0256\n",
      "tanh_feats.shape= torch.Size([375, 384])\n",
      "W_feat_ds.shape= torch.Size([375, 375])\n",
      "W_feat_hist_pearsoncorr.shape= torch.Size([375, 375])\n",
      "<class 'torch.Tensor'>\n"
     ]
    },
    {
     "name": "stderr",
     "output_type": "stream",
     "text": [
      " 26%|██▌       | 256/1000 [7:29:46<23:05:49, 111.76s/it]"
     ]
    },
    {
     "name": "stdout",
     "output_type": "stream",
     "text": [
      "eigenvalues shape torch.Size([5]) eigenvectors shape torch.Size([5, 400])\n",
      "256 /home/phdcs2/Hard_Disk/Datasets/Deep-Spectral-Segmentation/data/object-segmentation/ECSSD/features/dino_vits16/0257.pth\n",
      "0257\n",
      "tanh_feats.shape= torch.Size([475, 384])\n"
     ]
    },
    {
     "name": "stderr",
     "output_type": "stream",
     "text": [
      " 26%|██▌       | 257/1000 [7:31:41<23:19:05, 112.98s/it]"
     ]
    },
    {
     "name": "stdout",
     "output_type": "stream",
     "text": [
      "W_feat_ds.shape= torch.Size([475, 475])\n",
      "W_feat_hist_pearsoncorr.shape= torch.Size([475, 475])\n",
      "<class 'torch.Tensor'>\n",
      "eigenvalues shape torch.Size([5]) eigenvectors shape torch.Size([5, 400])\n",
      "257 /home/phdcs2/Hard_Disk/Datasets/Deep-Spectral-Segmentation/data/object-segmentation/ECSSD/features/dino_vits16/0258.pth\n",
      "0258\n",
      "tanh_feats.shape= torch.Size([400, 384])\n"
     ]
    },
    {
     "name": "stderr",
     "output_type": "stream",
     "text": [
      " 26%|██▌       | 258/1000 [7:33:04<21:24:40, 103.88s/it]"
     ]
    },
    {
     "name": "stdout",
     "output_type": "stream",
     "text": [
      "W_feat_ds.shape= torch.Size([400, 400])\n",
      "W_feat_hist_pearsoncorr.shape= torch.Size([400, 400])\n",
      "<class 'torch.Tensor'>\n",
      "eigenvalues shape torch.Size([5]) eigenvectors shape torch.Size([5, 400])\n",
      "258 /home/phdcs2/Hard_Disk/Datasets/Deep-Spectral-Segmentation/data/object-segmentation/ECSSD/features/dino_vits16/0259.pth\n",
      "0259\n",
      "tanh_feats.shape= torch.Size([450, 384])\n",
      "W_feat_ds.shape= torch.Size([450, 450])\n",
      "W_feat_hist_pearsoncorr.shape= torch.Size([450, 450])\n",
      "<class 'torch.Tensor'>\n"
     ]
    },
    {
     "name": "stderr",
     "output_type": "stream",
     "text": [
      " 26%|██▌       | 259/1000 [7:34:48<21:24:40, 104.02s/it]"
     ]
    },
    {
     "name": "stdout",
     "output_type": "stream",
     "text": [
      "eigenvalues shape torch.Size([5]) eigenvectors shape torch.Size([5, 400])\n",
      "259 /home/phdcs2/Hard_Disk/Datasets/Deep-Spectral-Segmentation/data/object-segmentation/ECSSD/features/dino_vits16/0260.pth\n",
      "0260\n",
      "tanh_feats.shape= torch.Size([450, 384])\n"
     ]
    },
    {
     "name": "stderr",
     "output_type": "stream",
     "text": [
      " 26%|██▌       | 260/1000 [7:36:31<21:17:30, 103.58s/it]"
     ]
    },
    {
     "name": "stdout",
     "output_type": "stream",
     "text": [
      "W_feat_ds.shape= torch.Size([450, 450])\n",
      "W_feat_hist_pearsoncorr.shape= torch.Size([450, 450])\n",
      "<class 'torch.Tensor'>\n",
      "eigenvalues shape torch.Size([5]) eigenvectors shape torch.Size([5, 400])\n",
      "260 /home/phdcs2/Hard_Disk/Datasets/Deep-Spectral-Segmentation/data/object-segmentation/ECSSD/features/dino_vits16/0261.pth\n",
      "0261\n",
      "tanh_feats.shape= torch.Size([400, 384])\n"
     ]
    },
    {
     "name": "stderr",
     "output_type": "stream",
     "text": [
      " 26%|██▌       | 261/1000 [7:37:53<19:55:13, 97.04s/it] "
     ]
    },
    {
     "name": "stdout",
     "output_type": "stream",
     "text": [
      "W_feat_ds.shape= torch.Size([400, 400])\n",
      "W_feat_hist_pearsoncorr.shape= torch.Size([400, 400])\n",
      "<class 'torch.Tensor'>\n",
      "eigenvalues shape torch.Size([5]) eigenvectors shape torch.Size([5, 400])\n",
      "261 /home/phdcs2/Hard_Disk/Datasets/Deep-Spectral-Segmentation/data/object-segmentation/ECSSD/features/dino_vits16/0262.pth\n",
      "0262\n",
      "tanh_feats.shape= torch.Size([450, 384])\n"
     ]
    },
    {
     "name": "stderr",
     "output_type": "stream",
     "text": [
      " 26%|██▌       | 262/1000 [7:39:37<20:20:12, 99.20s/it]"
     ]
    },
    {
     "name": "stdout",
     "output_type": "stream",
     "text": [
      "W_feat_ds.shape= torch.Size([450, 450])\n",
      "W_feat_hist_pearsoncorr.shape= torch.Size([450, 450])\n",
      "<class 'torch.Tensor'>\n",
      "eigenvalues shape torch.Size([5]) eigenvectors shape torch.Size([5, 400])\n",
      "262 /home/phdcs2/Hard_Disk/Datasets/Deep-Spectral-Segmentation/data/object-segmentation/ECSSD/features/dino_vits16/0263.pth\n",
      "0263\n",
      "tanh_feats.shape= torch.Size([450, 384])\n"
     ]
    },
    {
     "name": "stderr",
     "output_type": "stream",
     "text": [
      " 26%|██▋       | 263/1000 [7:41:22<20:38:37, 100.84s/it]"
     ]
    },
    {
     "name": "stdout",
     "output_type": "stream",
     "text": [
      "W_feat_ds.shape= torch.Size([450, 450])\n",
      "W_feat_hist_pearsoncorr.shape= torch.Size([450, 450])\n",
      "<class 'torch.Tensor'>\n",
      "eigenvalues shape torch.Size([5]) eigenvectors shape torch.Size([5, 400])\n",
      "263 /home/phdcs2/Hard_Disk/Datasets/Deep-Spectral-Segmentation/data/object-segmentation/ECSSD/features/dino_vits16/0264.pth\n",
      "0264\n",
      "tanh_feats.shape= torch.Size([400, 384])\n",
      "W_feat_ds.shape= torch.Size([400, 400])\n",
      "W_feat_hist_pearsoncorr.shape= torch.Size([400, 400])\n",
      "<class 'torch.Tensor'>\n"
     ]
    },
    {
     "name": "stderr",
     "output_type": "stream",
     "text": [
      " 26%|██▋       | 264/1000 [7:42:44<19:28:05, 95.23s/it] "
     ]
    },
    {
     "name": "stdout",
     "output_type": "stream",
     "text": [
      "eigenvalues shape torch.Size([5]) eigenvectors shape torch.Size([5, 400])\n",
      "264 /home/phdcs2/Hard_Disk/Datasets/Deep-Spectral-Segmentation/data/object-segmentation/ECSSD/features/dino_vits16/0265.pth\n",
      "0265\n",
      "tanh_feats.shape= torch.Size([525, 384])\n"
     ]
    },
    {
     "name": "stderr",
     "output_type": "stream",
     "text": [
      " 26%|██▋       | 265/1000 [7:45:04<22:13:46, 108.88s/it]"
     ]
    },
    {
     "name": "stdout",
     "output_type": "stream",
     "text": [
      "W_feat_ds.shape= torch.Size([525, 525])\n",
      "W_feat_hist_pearsoncorr.shape= torch.Size([525, 525])\n",
      "<class 'torch.Tensor'>\n",
      "eigenvalues shape torch.Size([5]) eigenvectors shape torch.Size([5, 400])\n",
      "265 /home/phdcs2/Hard_Disk/Datasets/Deep-Spectral-Segmentation/data/object-segmentation/ECSSD/features/dino_vits16/0266.pth\n",
      "0266\n",
      "tanh_feats.shape= torch.Size([425, 384])\n",
      "W_feat_ds.shape= torch.Size([425, 425])\n",
      "W_feat_hist_pearsoncorr.shape= torch.Size([425, 425])\n",
      "<class 'torch.Tensor'>\n"
     ]
    },
    {
     "name": "stderr",
     "output_type": "stream",
     "text": [
      " 27%|██▋       | 266/1000 [7:46:38<21:13:59, 104.14s/it]"
     ]
    },
    {
     "name": "stdout",
     "output_type": "stream",
     "text": [
      "eigenvalues shape torch.Size([5]) eigenvectors shape torch.Size([5, 400])\n",
      "266 /home/phdcs2/Hard_Disk/Datasets/Deep-Spectral-Segmentation/data/object-segmentation/ECSSD/features/dino_vits16/0267.pth\n",
      "0267\n",
      "tanh_feats.shape= torch.Size([400, 384])\n"
     ]
    },
    {
     "name": "stderr",
     "output_type": "stream",
     "text": [
      " 27%|██▋       | 267/1000 [7:48:00<19:52:38, 97.62s/it] "
     ]
    },
    {
     "name": "stdout",
     "output_type": "stream",
     "text": [
      "W_feat_ds.shape= torch.Size([400, 400])\n",
      "W_feat_hist_pearsoncorr.shape= torch.Size([400, 400])\n",
      "<class 'torch.Tensor'>\n",
      "eigenvalues shape torch.Size([5]) eigenvectors shape torch.Size([5, 400])\n",
      "267 /home/phdcs2/Hard_Disk/Datasets/Deep-Spectral-Segmentation/data/object-segmentation/ECSSD/features/dino_vits16/0268.pth\n",
      "0268\n",
      "tanh_feats.shape= torch.Size([600, 384])\n"
     ]
    },
    {
     "name": "stderr",
     "output_type": "stream",
     "text": [
      " 27%|██▋       | 268/1000 [7:51:04<25:06:31, 123.49s/it]"
     ]
    },
    {
     "name": "stdout",
     "output_type": "stream",
     "text": [
      "W_feat_ds.shape= torch.Size([600, 600])\n",
      "W_feat_hist_pearsoncorr.shape= torch.Size([600, 600])\n",
      "<class 'torch.Tensor'>\n",
      "eigenvalues shape torch.Size([5]) eigenvectors shape torch.Size([5, 400])\n",
      "268 /home/phdcs2/Hard_Disk/Datasets/Deep-Spectral-Segmentation/data/object-segmentation/ECSSD/features/dino_vits16/0269.pth\n",
      "0269\n",
      "tanh_feats.shape= torch.Size([400, 384])\n",
      "W_feat_ds.shape= torch.Size([400, 400])\n",
      "W_feat_hist_pearsoncorr.shape= torch.Size([400, 400])\n",
      "<class 'torch.Tensor'>\n"
     ]
    },
    {
     "name": "stderr",
     "output_type": "stream",
     "text": [
      " 27%|██▋       | 269/1000 [7:52:26<22:35:19, 111.24s/it]"
     ]
    },
    {
     "name": "stdout",
     "output_type": "stream",
     "text": [
      "eigenvalues shape torch.Size([5]) eigenvectors shape torch.Size([5, 400])\n",
      "269 /home/phdcs2/Hard_Disk/Datasets/Deep-Spectral-Segmentation/data/object-segmentation/ECSSD/features/dino_vits16/0270.pth\n",
      "0270\n",
      "tanh_feats.shape= torch.Size([375, 384])\n",
      "W_feat_ds.shape= torch.Size([375, 375])\n",
      "W_feat_hist_pearsoncorr.shape= torch.Size([375, 375])\n",
      "<class 'torch.Tensor'>\n"
     ]
    },
    {
     "name": "stderr",
     "output_type": "stream",
     "text": [
      " 27%|██▋       | 270/1000 [7:53:38<20:10:10, 99.47s/it] "
     ]
    },
    {
     "name": "stdout",
     "output_type": "stream",
     "text": [
      "eigenvalues shape torch.Size([5]) eigenvectors shape torch.Size([5, 400])\n",
      "270 /home/phdcs2/Hard_Disk/Datasets/Deep-Spectral-Segmentation/data/object-segmentation/ECSSD/features/dino_vits16/0271.pth\n",
      "0271\n",
      "tanh_feats.shape= torch.Size([450, 384])\n",
      "W_feat_ds.shape= torch.Size([450, 450])\n",
      "W_feat_hist_pearsoncorr.shape= torch.Size([450, 450])\n",
      "<class 'torch.Tensor'>\n"
     ]
    },
    {
     "name": "stderr",
     "output_type": "stream",
     "text": [
      " 27%|██▋       | 271/1000 [7:55:22<20:22:01, 100.58s/it]"
     ]
    },
    {
     "name": "stdout",
     "output_type": "stream",
     "text": [
      "eigenvalues shape torch.Size([5]) eigenvectors shape torch.Size([5, 400])\n",
      "271 /home/phdcs2/Hard_Disk/Datasets/Deep-Spectral-Segmentation/data/object-segmentation/ECSSD/features/dino_vits16/0272.pth\n",
      "0272\n",
      "tanh_feats.shape= torch.Size([500, 384])\n",
      "W_feat_ds.shape= torch.Size([500, 500])\n",
      "W_feat_hist_pearsoncorr.shape= torch.Size([500, 500])\n",
      "<class 'torch.Tensor'>\n"
     ]
    },
    {
     "name": "stderr",
     "output_type": "stream",
     "text": [
      " 27%|██▋       | 272/1000 [7:57:30<22:02:21, 108.99s/it]"
     ]
    },
    {
     "name": "stdout",
     "output_type": "stream",
     "text": [
      "eigenvalues shape torch.Size([5]) eigenvectors shape torch.Size([5, 400])\n",
      "272 /home/phdcs2/Hard_Disk/Datasets/Deep-Spectral-Segmentation/data/object-segmentation/ECSSD/features/dino_vits16/0273.pth\n",
      "0273\n",
      "tanh_feats.shape= torch.Size([400, 384])\n",
      "W_feat_ds.shape= torch.Size([400, 400])\n",
      "W_feat_hist_pearsoncorr.shape= torch.Size([400, 400])\n",
      "<class 'torch.Tensor'>\n"
     ]
    },
    {
     "name": "stderr",
     "output_type": "stream",
     "text": [
      " 27%|██▋       | 273/1000 [7:58:52<20:22:49, 100.92s/it]"
     ]
    },
    {
     "name": "stdout",
     "output_type": "stream",
     "text": [
      "eigenvalues shape torch.Size([5]) eigenvectors shape torch.Size([5, 400])\n",
      "273 /home/phdcs2/Hard_Disk/Datasets/Deep-Spectral-Segmentation/data/object-segmentation/ECSSD/features/dino_vits16/0274.pth\n",
      "0274\n",
      "tanh_feats.shape= torch.Size([575, 384])\n",
      "W_feat_ds.shape= torch.Size([575, 575])\n",
      "W_feat_hist_pearsoncorr.shape= torch.Size([575, 575])\n",
      "<class 'torch.Tensor'>\n"
     ]
    },
    {
     "name": "stderr",
     "output_type": "stream",
     "text": [
      " 27%|██▋       | 274/1000 [8:01:43<24:33:00, 121.74s/it]"
     ]
    },
    {
     "name": "stdout",
     "output_type": "stream",
     "text": [
      "eigenvalues shape torch.Size([5]) eigenvectors shape torch.Size([5, 400])\n",
      "274 /home/phdcs2/Hard_Disk/Datasets/Deep-Spectral-Segmentation/data/object-segmentation/ECSSD/features/dino_vits16/0275.pth\n",
      "0275\n",
      "tanh_feats.shape= torch.Size([400, 384])\n",
      "W_feat_ds.shape= torch.Size([400, 400])\n",
      "W_feat_hist_pearsoncorr.shape= torch.Size([400, 400])\n",
      "<class 'torch.Tensor'>\n"
     ]
    },
    {
     "name": "stderr",
     "output_type": "stream",
     "text": [
      " 28%|██▊       | 275/1000 [8:03:05<22:06:42, 109.80s/it]"
     ]
    },
    {
     "name": "stdout",
     "output_type": "stream",
     "text": [
      "eigenvalues shape torch.Size([5]) eigenvectors shape torch.Size([5, 400])\n",
      "275 /home/phdcs2/Hard_Disk/Datasets/Deep-Spectral-Segmentation/data/object-segmentation/ECSSD/features/dino_vits16/0276.pth\n",
      "0276\n",
      "tanh_feats.shape= torch.Size([525, 384])\n",
      "W_feat_ds.shape= torch.Size([525, 525])\n",
      "W_feat_hist_pearsoncorr.shape= torch.Size([525, 525])\n",
      "<class 'torch.Tensor'>\n"
     ]
    },
    {
     "name": "stderr",
     "output_type": "stream",
     "text": [
      " 28%|██▊       | 276/1000 [8:05:27<24:01:45, 119.48s/it]"
     ]
    },
    {
     "name": "stdout",
     "output_type": "stream",
     "text": [
      "eigenvalues shape torch.Size([5]) eigenvectors shape torch.Size([5, 400])\n",
      "276 /home/phdcs2/Hard_Disk/Datasets/Deep-Spectral-Segmentation/data/object-segmentation/ECSSD/features/dino_vits16/0277.pth\n",
      "0277\n",
      "tanh_feats.shape= torch.Size([400, 384])\n",
      "W_feat_ds.shape= torch.Size([400, 400])\n",
      "W_feat_hist_pearsoncorr.shape= torch.Size([400, 400])\n",
      "<class 'torch.Tensor'>\n"
     ]
    },
    {
     "name": "stderr",
     "output_type": "stream",
     "text": [
      " 28%|██▊       | 277/1000 [8:06:49<21:46:03, 108.39s/it]"
     ]
    },
    {
     "name": "stdout",
     "output_type": "stream",
     "text": [
      "eigenvalues shape torch.Size([5]) eigenvectors shape torch.Size([5, 400])\n",
      "277 /home/phdcs2/Hard_Disk/Datasets/Deep-Spectral-Segmentation/data/object-segmentation/ECSSD/features/dino_vits16/0278.pth\n",
      "0278\n",
      "tanh_feats.shape= torch.Size([550, 384])\n",
      "W_feat_ds.shape= torch.Size([550, 550])\n",
      "W_feat_hist_pearsoncorr.shape= torch.Size([550, 550])\n",
      "<class 'torch.Tensor'>\n"
     ]
    },
    {
     "name": "stderr",
     "output_type": "stream",
     "text": [
      " 28%|██▊       | 278/1000 [8:09:25<24:35:23, 122.61s/it]"
     ]
    },
    {
     "name": "stdout",
     "output_type": "stream",
     "text": [
      "eigenvalues shape torch.Size([5]) eigenvectors shape torch.Size([5, 400])\n",
      "278 /home/phdcs2/Hard_Disk/Datasets/Deep-Spectral-Segmentation/data/object-segmentation/ECSSD/features/dino_vits16/0279.pth\n",
      "0279\n",
      "tanh_feats.shape= torch.Size([450, 384])\n",
      "W_feat_ds.shape= torch.Size([450, 450])\n",
      "W_feat_hist_pearsoncorr.shape= torch.Size([450, 450])\n",
      "<class 'torch.Tensor'>\n"
     ]
    },
    {
     "name": "stderr",
     "output_type": "stream",
     "text": [
      " 28%|██▊       | 279/1000 [8:11:10<23:30:27, 117.37s/it]"
     ]
    },
    {
     "name": "stdout",
     "output_type": "stream",
     "text": [
      "eigenvalues shape torch.Size([5]) eigenvectors shape torch.Size([5, 400])\n",
      "279 /home/phdcs2/Hard_Disk/Datasets/Deep-Spectral-Segmentation/data/object-segmentation/ECSSD/features/dino_vits16/0280.pth\n",
      "0280\n",
      "tanh_feats.shape= torch.Size([625, 384])\n",
      "W_feat_ds.shape= torch.Size([625, 625])\n",
      "W_feat_hist_pearsoncorr.shape= torch.Size([625, 625])\n",
      "<class 'torch.Tensor'>\n"
     ]
    },
    {
     "name": "stderr",
     "output_type": "stream",
     "text": [
      " 28%|██▊       | 280/1000 [8:14:33<28:35:38, 142.97s/it]"
     ]
    },
    {
     "name": "stdout",
     "output_type": "stream",
     "text": [
      "eigenvalues shape torch.Size([5]) eigenvectors shape torch.Size([5, 400])\n",
      "280 /home/phdcs2/Hard_Disk/Datasets/Deep-Spectral-Segmentation/data/object-segmentation/ECSSD/features/dino_vits16/0281.pth\n",
      "0281\n",
      "tanh_feats.shape= torch.Size([450, 384])\n",
      "W_feat_ds.shape= torch.Size([450, 450])\n",
      "W_feat_hist_pearsoncorr.shape= torch.Size([450, 450])\n",
      "<class 'torch.Tensor'>\n"
     ]
    },
    {
     "name": "stderr",
     "output_type": "stream",
     "text": [
      " 28%|██▊       | 281/1000 [8:16:17<26:15:17, 131.46s/it]"
     ]
    },
    {
     "name": "stdout",
     "output_type": "stream",
     "text": [
      "eigenvalues shape torch.Size([5]) eigenvectors shape torch.Size([5, 400])\n",
      "281 /home/phdcs2/Hard_Disk/Datasets/Deep-Spectral-Segmentation/data/object-segmentation/ECSSD/features/dino_vits16/0282.pth\n",
      "0282\n",
      "tanh_feats.shape= torch.Size([400, 384])\n",
      "W_feat_ds.shape= torch.Size([400, 400])\n",
      "W_feat_hist_pearsoncorr.shape= torch.Size([400, 400])\n",
      "<class 'torch.Tensor'>\n"
     ]
    },
    {
     "name": "stderr",
     "output_type": "stream",
     "text": [
      " 28%|██▊       | 282/1000 [8:17:42<23:24:31, 117.37s/it]"
     ]
    },
    {
     "name": "stdout",
     "output_type": "stream",
     "text": [
      "eigenvalues shape torch.Size([5]) eigenvectors shape torch.Size([5, 400])\n",
      "282 /home/phdcs2/Hard_Disk/Datasets/Deep-Spectral-Segmentation/data/object-segmentation/ECSSD/features/dino_vits16/0283.pth\n",
      "0283\n",
      "tanh_feats.shape= torch.Size([400, 384])\n",
      "W_feat_ds.shape= torch.Size([400, 400])\n",
      "W_feat_hist_pearsoncorr.shape= torch.Size([400, 400])\n",
      "<class 'torch.Tensor'>\n"
     ]
    },
    {
     "name": "stderr",
     "output_type": "stream",
     "text": [
      " 28%|██▊       | 283/1000 [8:19:04<21:17:01, 106.86s/it]"
     ]
    },
    {
     "name": "stdout",
     "output_type": "stream",
     "text": [
      "eigenvalues shape torch.Size([5]) eigenvectors shape torch.Size([5, 400])\n",
      "283 /home/phdcs2/Hard_Disk/Datasets/Deep-Spectral-Segmentation/data/object-segmentation/ECSSD/features/dino_vits16/0284.pth\n",
      "0284\n",
      "tanh_feats.shape= torch.Size([400, 384])\n"
     ]
    },
    {
     "name": "stderr",
     "output_type": "stream",
     "text": [
      " 28%|██▊       | 284/1000 [8:20:26<19:44:43, 99.28s/it] "
     ]
    },
    {
     "name": "stdout",
     "output_type": "stream",
     "text": [
      "W_feat_ds.shape= torch.Size([400, 400])\n",
      "W_feat_hist_pearsoncorr.shape= torch.Size([400, 400])\n",
      "<class 'torch.Tensor'>\n",
      "eigenvalues shape torch.Size([5]) eigenvectors shape torch.Size([5, 400])\n",
      "284 /home/phdcs2/Hard_Disk/Datasets/Deep-Spectral-Segmentation/data/object-segmentation/ECSSD/features/dino_vits16/0285.pth\n",
      "0285\n",
      "tanh_feats.shape= torch.Size([400, 384])\n",
      "W_feat_ds.shape= torch.Size([400, 400])\n",
      "W_feat_hist_pearsoncorr.shape= torch.Size([400, 400])\n",
      "<class 'torch.Tensor'>\n"
     ]
    },
    {
     "name": "stderr",
     "output_type": "stream",
     "text": [
      " 28%|██▊       | 285/1000 [8:21:48<18:40:21, 94.02s/it]"
     ]
    },
    {
     "name": "stdout",
     "output_type": "stream",
     "text": [
      "eigenvalues shape torch.Size([5]) eigenvectors shape torch.Size([5, 400])\n",
      "285 /home/phdcs2/Hard_Disk/Datasets/Deep-Spectral-Segmentation/data/object-segmentation/ECSSD/features/dino_vits16/0286.pth\n",
      "0286\n",
      "tanh_feats.shape= torch.Size([450, 384])\n",
      "W_feat_ds.shape= torch.Size([450, 450])\n",
      "W_feat_hist_pearsoncorr.shape= torch.Size([450, 450])\n",
      "<class 'torch.Tensor'>\n"
     ]
    },
    {
     "name": "stderr",
     "output_type": "stream",
     "text": [
      " 29%|██▊       | 286/1000 [8:23:31<19:11:55, 96.80s/it]"
     ]
    },
    {
     "name": "stdout",
     "output_type": "stream",
     "text": [
      "eigenvalues shape torch.Size([5]) eigenvectors shape torch.Size([5, 400])\n",
      "286 /home/phdcs2/Hard_Disk/Datasets/Deep-Spectral-Segmentation/data/object-segmentation/ECSSD/features/dino_vits16/0287.pth\n",
      "0287\n",
      "tanh_feats.shape= torch.Size([375, 384])\n",
      "W_feat_ds.shape= torch.Size([375, 375])\n",
      "W_feat_hist_pearsoncorr.shape= torch.Size([375, 375])\n",
      "<class 'torch.Tensor'>\n"
     ]
    },
    {
     "name": "stderr",
     "output_type": "stream",
     "text": [
      " 29%|██▊       | 287/1000 [8:24:44<17:45:46, 89.69s/it]"
     ]
    },
    {
     "name": "stdout",
     "output_type": "stream",
     "text": [
      "eigenvalues shape torch.Size([5]) eigenvectors shape torch.Size([5, 400])\n",
      "287 /home/phdcs2/Hard_Disk/Datasets/Deep-Spectral-Segmentation/data/object-segmentation/ECSSD/features/dino_vits16/0288.pth\n",
      "0288\n",
      "tanh_feats.shape= torch.Size([450, 384])\n",
      "W_feat_ds.shape= torch.Size([450, 450])\n",
      "W_feat_hist_pearsoncorr.shape= torch.Size([450, 450])\n",
      "<class 'torch.Tensor'>\n"
     ]
    },
    {
     "name": "stderr",
     "output_type": "stream",
     "text": [
      " 29%|██▉       | 288/1000 [8:26:28<18:34:03, 93.88s/it]"
     ]
    },
    {
     "name": "stdout",
     "output_type": "stream",
     "text": [
      "eigenvalues shape torch.Size([5]) eigenvectors shape torch.Size([5, 400])\n",
      "288 /home/phdcs2/Hard_Disk/Datasets/Deep-Spectral-Segmentation/data/object-segmentation/ECSSD/features/dino_vits16/0289.pth\n",
      "0289\n",
      "tanh_feats.shape= torch.Size([450, 384])\n",
      "W_feat_ds.shape= torch.Size([450, 450])\n",
      "W_feat_hist_pearsoncorr.shape= torch.Size([450, 450])\n",
      "<class 'torch.Tensor'>\n"
     ]
    },
    {
     "name": "stderr",
     "output_type": "stream",
     "text": [
      " 29%|██▉       | 289/1000 [8:28:11<19:06:39, 96.76s/it]"
     ]
    },
    {
     "name": "stdout",
     "output_type": "stream",
     "text": [
      "eigenvalues shape torch.Size([5]) eigenvectors shape torch.Size([5, 400])\n",
      "289 /home/phdcs2/Hard_Disk/Datasets/Deep-Spectral-Segmentation/data/object-segmentation/ECSSD/features/dino_vits16/0290.pth\n",
      "0290\n",
      "tanh_feats.shape= torch.Size([375, 384])\n",
      "W_feat_ds.shape= torch.Size([375, 375])\n",
      "W_feat_hist_pearsoncorr.shape= torch.Size([375, 375])\n",
      "<class 'torch.Tensor'>\n"
     ]
    },
    {
     "name": "stderr",
     "output_type": "stream",
     "text": [
      " 29%|██▉       | 290/1000 [8:29:22<17:33:43, 89.05s/it]"
     ]
    },
    {
     "name": "stdout",
     "output_type": "stream",
     "text": [
      "eigenvalues shape torch.Size([5]) eigenvectors shape torch.Size([5, 400])\n",
      "290 /home/phdcs2/Hard_Disk/Datasets/Deep-Spectral-Segmentation/data/object-segmentation/ECSSD/features/dino_vits16/0291.pth\n",
      "0291\n",
      "tanh_feats.shape= torch.Size([475, 384])\n",
      "W_feat_ds.shape= torch.Size([475, 475])\n",
      "W_feat_hist_pearsoncorr.shape= torch.Size([475, 475])\n",
      "<class 'torch.Tensor'>\n"
     ]
    },
    {
     "name": "stderr",
     "output_type": "stream",
     "text": [
      " 29%|██▉       | 291/1000 [8:31:17<19:04:54, 96.89s/it]"
     ]
    },
    {
     "name": "stdout",
     "output_type": "stream",
     "text": [
      "eigenvalues shape torch.Size([5]) eigenvectors shape torch.Size([5, 400])\n",
      "291 /home/phdcs2/Hard_Disk/Datasets/Deep-Spectral-Segmentation/data/object-segmentation/ECSSD/features/dino_vits16/0292.pth\n",
      "0292\n",
      "tanh_feats.shape= torch.Size([400, 384])\n",
      "W_feat_ds.shape= torch.Size([400, 400])\n",
      "W_feat_hist_pearsoncorr.shape= torch.Size([400, 400])\n",
      "<class 'torch.Tensor'>\n"
     ]
    },
    {
     "name": "stderr",
     "output_type": "stream",
     "text": [
      " 29%|██▉       | 292/1000 [8:32:41<18:15:37, 92.85s/it]"
     ]
    },
    {
     "name": "stdout",
     "output_type": "stream",
     "text": [
      "eigenvalues shape torch.Size([5]) eigenvectors shape torch.Size([5, 400])\n",
      "292 /home/phdcs2/Hard_Disk/Datasets/Deep-Spectral-Segmentation/data/object-segmentation/ECSSD/features/dino_vits16/0293.pth\n",
      "0293\n",
      "tanh_feats.shape= torch.Size([425, 384])\n",
      "W_feat_ds.shape= torch.Size([425, 425])\n",
      "W_feat_hist_pearsoncorr.shape= torch.Size([425, 425])\n",
      "<class 'torch.Tensor'>\n"
     ]
    },
    {
     "name": "stderr",
     "output_type": "stream",
     "text": [
      " 29%|██▉       | 293/1000 [8:34:15<18:19:15, 93.29s/it]"
     ]
    },
    {
     "name": "stdout",
     "output_type": "stream",
     "text": [
      "eigenvalues shape torch.Size([5]) eigenvectors shape torch.Size([5, 400])\n",
      "293 /home/phdcs2/Hard_Disk/Datasets/Deep-Spectral-Segmentation/data/object-segmentation/ECSSD/features/dino_vits16/0294.pth\n",
      "0294\n",
      "tanh_feats.shape= torch.Size([425, 384])\n",
      "W_feat_ds.shape= torch.Size([425, 425])\n",
      "W_feat_hist_pearsoncorr.shape= torch.Size([425, 425])\n",
      "<class 'torch.Tensor'>\n"
     ]
    },
    {
     "name": "stderr",
     "output_type": "stream",
     "text": [
      " 29%|██▉       | 294/1000 [8:35:49<18:20:42, 93.54s/it]"
     ]
    },
    {
     "name": "stdout",
     "output_type": "stream",
     "text": [
      "eigenvalues shape torch.Size([5]) eigenvectors shape torch.Size([5, 400])\n",
      "294 /home/phdcs2/Hard_Disk/Datasets/Deep-Spectral-Segmentation/data/object-segmentation/ECSSD/features/dino_vits16/0295.pth\n",
      "0295\n",
      "tanh_feats.shape= torch.Size([425, 384])\n",
      "W_feat_ds.shape= torch.Size([425, 425])\n",
      "W_feat_hist_pearsoncorr.shape= torch.Size([425, 425])\n",
      "<class 'torch.Tensor'>\n"
     ]
    },
    {
     "name": "stderr",
     "output_type": "stream",
     "text": [
      " 30%|██▉       | 295/1000 [8:37:22<18:18:09, 93.46s/it]"
     ]
    },
    {
     "name": "stdout",
     "output_type": "stream",
     "text": [
      "eigenvalues shape torch.Size([5]) eigenvectors shape torch.Size([5, 400])\n",
      "295 /home/phdcs2/Hard_Disk/Datasets/Deep-Spectral-Segmentation/data/object-segmentation/ECSSD/features/dino_vits16/0296.pth\n",
      "0296\n",
      "tanh_feats.shape= torch.Size([425, 384])\n",
      "W_feat_ds.shape= torch.Size([425, 425])\n",
      "W_feat_hist_pearsoncorr.shape= torch.Size([425, 425])\n",
      "<class 'torch.Tensor'>\n"
     ]
    },
    {
     "name": "stderr",
     "output_type": "stream",
     "text": [
      " 30%|██▉       | 296/1000 [8:38:55<18:14:37, 93.29s/it]"
     ]
    },
    {
     "name": "stdout",
     "output_type": "stream",
     "text": [
      "eigenvalues shape torch.Size([5]) eigenvectors shape torch.Size([5, 400])\n",
      "296 /home/phdcs2/Hard_Disk/Datasets/Deep-Spectral-Segmentation/data/object-segmentation/ECSSD/features/dino_vits16/0297.pth\n",
      "0297\n",
      "tanh_feats.shape= torch.Size([475, 384])\n",
      "W_feat_ds.shape= torch.Size([475, 475])\n",
      "W_feat_hist_pearsoncorr.shape= torch.Size([475, 475])\n",
      "<class 'torch.Tensor'>\n"
     ]
    },
    {
     "name": "stderr",
     "output_type": "stream",
     "text": [
      " 30%|██▉       | 297/1000 [8:40:52<19:34:20, 100.23s/it]"
     ]
    },
    {
     "name": "stdout",
     "output_type": "stream",
     "text": [
      "eigenvalues shape torch.Size([5]) eigenvectors shape torch.Size([5, 400])\n",
      "297 /home/phdcs2/Hard_Disk/Datasets/Deep-Spectral-Segmentation/data/object-segmentation/ECSSD/features/dino_vits16/0298.pth\n",
      "0298\n",
      "tanh_feats.shape= torch.Size([400, 384])\n",
      "W_feat_ds.shape= torch.Size([400, 400])\n",
      "W_feat_hist_pearsoncorr.shape= torch.Size([400, 400])\n",
      "<class 'torch.Tensor'>\n"
     ]
    },
    {
     "name": "stderr",
     "output_type": "stream",
     "text": [
      " 30%|██▉       | 298/1000 [8:42:18<18:42:07, 95.91s/it] "
     ]
    },
    {
     "name": "stdout",
     "output_type": "stream",
     "text": [
      "eigenvalues shape torch.Size([5]) eigenvectors shape torch.Size([5, 400])\n",
      "298 /home/phdcs2/Hard_Disk/Datasets/Deep-Spectral-Segmentation/data/object-segmentation/ECSSD/features/dino_vits16/0299.pth\n",
      "0299\n",
      "tanh_feats.shape= torch.Size([450, 384])\n",
      "W_feat_ds.shape= torch.Size([450, 450])\n",
      "W_feat_hist_pearsoncorr.shape= torch.Size([450, 450])\n",
      "<class 'torch.Tensor'>\n"
     ]
    },
    {
     "name": "stderr",
     "output_type": "stream",
     "text": [
      " 30%|██▉       | 299/1000 [8:44:02<19:08:36, 98.31s/it]"
     ]
    },
    {
     "name": "stdout",
     "output_type": "stream",
     "text": [
      "eigenvalues shape torch.Size([5]) eigenvectors shape torch.Size([5, 400])\n",
      "299 /home/phdcs2/Hard_Disk/Datasets/Deep-Spectral-Segmentation/data/object-segmentation/ECSSD/features/dino_vits16/0300.pth\n",
      "0300\n",
      "tanh_feats.shape= torch.Size([475, 384])\n",
      "W_feat_ds.shape= torch.Size([475, 475])\n",
      "W_feat_hist_pearsoncorr.shape= torch.Size([475, 475])\n",
      "<class 'torch.Tensor'>\n"
     ]
    },
    {
     "name": "stderr",
     "output_type": "stream",
     "text": [
      " 30%|███       | 300/1000 [8:45:56<20:05:06, 103.30s/it]"
     ]
    },
    {
     "name": "stdout",
     "output_type": "stream",
     "text": [
      "eigenvalues shape torch.Size([5]) eigenvectors shape torch.Size([5, 400])\n",
      "300 /home/phdcs2/Hard_Disk/Datasets/Deep-Spectral-Segmentation/data/object-segmentation/ECSSD/features/dino_vits16/0301.pth\n",
      "0301\n",
      "tanh_feats.shape= torch.Size([400, 384])\n"
     ]
    },
    {
     "name": "stderr",
     "output_type": "stream",
     "text": [
      " 30%|███       | 301/1000 [8:47:19<18:50:38, 97.05s/it] "
     ]
    },
    {
     "name": "stdout",
     "output_type": "stream",
     "text": [
      "W_feat_ds.shape= torch.Size([400, 400])\n",
      "W_feat_hist_pearsoncorr.shape= torch.Size([400, 400])\n",
      "<class 'torch.Tensor'>\n",
      "eigenvalues shape torch.Size([5]) eigenvectors shape torch.Size([5, 400])\n",
      "301 /home/phdcs2/Hard_Disk/Datasets/Deep-Spectral-Segmentation/data/object-segmentation/ECSSD/features/dino_vits16/0302.pth\n",
      "0302\n",
      "tanh_feats.shape= torch.Size([450, 384])\n",
      "W_feat_ds.shape= torch.Size([450, 450])\n",
      "W_feat_hist_pearsoncorr.shape= torch.Size([450, 450])\n",
      "<class 'torch.Tensor'>\n"
     ]
    },
    {
     "name": "stderr",
     "output_type": "stream",
     "text": [
      " 30%|███       | 302/1000 [8:49:04<19:16:07, 99.38s/it]"
     ]
    },
    {
     "name": "stdout",
     "output_type": "stream",
     "text": [
      "eigenvalues shape torch.Size([5]) eigenvectors shape torch.Size([5, 400])\n",
      "302 /home/phdcs2/Hard_Disk/Datasets/Deep-Spectral-Segmentation/data/object-segmentation/ECSSD/features/dino_vits16/0303.pth\n",
      "0303\n",
      "tanh_feats.shape= torch.Size([450, 384])\n",
      "W_feat_ds.shape= torch.Size([450, 450])\n",
      "W_feat_hist_pearsoncorr.shape= torch.Size([450, 450])\n",
      "<class 'torch.Tensor'>\n"
     ]
    },
    {
     "name": "stderr",
     "output_type": "stream",
     "text": [
      " 30%|███       | 303/1000 [8:50:48<19:30:34, 100.77s/it]"
     ]
    },
    {
     "name": "stdout",
     "output_type": "stream",
     "text": [
      "eigenvalues shape torch.Size([5]) eigenvectors shape torch.Size([5, 400])\n",
      "303 /home/phdcs2/Hard_Disk/Datasets/Deep-Spectral-Segmentation/data/object-segmentation/ECSSD/features/dino_vits16/0304.pth\n",
      "0304\n",
      "tanh_feats.shape= torch.Size([400, 384])\n",
      "W_feat_ds.shape= torch.Size([400, 400])\n",
      "W_feat_hist_pearsoncorr.shape= torch.Size([400, 400])\n",
      "<class 'torch.Tensor'>\n"
     ]
    },
    {
     "name": "stderr",
     "output_type": "stream",
     "text": [
      " 30%|███       | 304/1000 [8:52:10<18:25:23, 95.29s/it] "
     ]
    },
    {
     "name": "stdout",
     "output_type": "stream",
     "text": [
      "eigenvalues shape torch.Size([5]) eigenvectors shape torch.Size([5, 400])\n",
      "304 /home/phdcs2/Hard_Disk/Datasets/Deep-Spectral-Segmentation/data/object-segmentation/ECSSD/features/dino_vits16/0305.pth\n",
      "0305\n",
      "tanh_feats.shape= torch.Size([400, 384])\n"
     ]
    },
    {
     "name": "stderr",
     "output_type": "stream",
     "text": [
      " 30%|███       | 305/1000 [8:53:32<17:38:02, 91.34s/it]"
     ]
    },
    {
     "name": "stdout",
     "output_type": "stream",
     "text": [
      "W_feat_ds.shape= torch.Size([400, 400])\n",
      "W_feat_hist_pearsoncorr.shape= torch.Size([400, 400])\n",
      "<class 'torch.Tensor'>\n",
      "eigenvalues shape torch.Size([5]) eigenvectors shape torch.Size([5, 400])\n",
      "305 /home/phdcs2/Hard_Disk/Datasets/Deep-Spectral-Segmentation/data/object-segmentation/ECSSD/features/dino_vits16/0306.pth\n",
      "0306\n",
      "tanh_feats.shape= torch.Size([400, 384])\n",
      "W_feat_ds.shape= torch.Size([400, 400])\n",
      "W_feat_hist_pearsoncorr.shape= torch.Size([400, 400])\n",
      "<class 'torch.Tensor'>\n"
     ]
    },
    {
     "name": "stderr",
     "output_type": "stream",
     "text": [
      " 31%|███       | 306/1000 [8:54:54<17:04:27, 88.57s/it]"
     ]
    },
    {
     "name": "stdout",
     "output_type": "stream",
     "text": [
      "eigenvalues shape torch.Size([5]) eigenvectors shape torch.Size([5, 400])\n",
      "306 /home/phdcs2/Hard_Disk/Datasets/Deep-Spectral-Segmentation/data/object-segmentation/ECSSD/features/dino_vits16/0307.pth\n",
      "0307\n",
      "tanh_feats.shape= torch.Size([450, 384])\n",
      "W_feat_ds.shape= torch.Size([450, 450])\n",
      "W_feat_hist_pearsoncorr.shape= torch.Size([450, 450])\n",
      "<class 'torch.Tensor'>\n"
     ]
    },
    {
     "name": "stderr",
     "output_type": "stream",
     "text": [
      " 31%|███       | 307/1000 [8:56:39<17:59:51, 93.49s/it]"
     ]
    },
    {
     "name": "stdout",
     "output_type": "stream",
     "text": [
      "eigenvalues shape torch.Size([5]) eigenvectors shape torch.Size([5, 400])\n",
      "307 /home/phdcs2/Hard_Disk/Datasets/Deep-Spectral-Segmentation/data/object-segmentation/ECSSD/features/dino_vits16/0308.pth\n",
      "0308\n",
      "tanh_feats.shape= torch.Size([450, 384])\n",
      "W_feat_ds.shape= torch.Size([450, 450])\n",
      "W_feat_hist_pearsoncorr.shape= torch.Size([450, 450])\n",
      "<class 'torch.Tensor'>\n"
     ]
    },
    {
     "name": "stderr",
     "output_type": "stream",
     "text": [
      " 31%|███       | 308/1000 [8:58:23<18:32:55, 96.50s/it]"
     ]
    },
    {
     "name": "stdout",
     "output_type": "stream",
     "text": [
      "eigenvalues shape torch.Size([5]) eigenvectors shape torch.Size([5, 400])\n",
      "308 /home/phdcs2/Hard_Disk/Datasets/Deep-Spectral-Segmentation/data/object-segmentation/ECSSD/features/dino_vits16/0309.pth\n",
      "0309\n",
      "tanh_feats.shape= torch.Size([400, 384])\n"
     ]
    },
    {
     "name": "stderr",
     "output_type": "stream",
     "text": [
      " 31%|███       | 309/1000 [8:59:45<17:41:14, 92.15s/it]"
     ]
    },
    {
     "name": "stdout",
     "output_type": "stream",
     "text": [
      "W_feat_ds.shape= torch.Size([400, 400])\n",
      "W_feat_hist_pearsoncorr.shape= torch.Size([400, 400])\n",
      "<class 'torch.Tensor'>\n",
      "eigenvalues shape torch.Size([5]) eigenvectors shape torch.Size([5, 400])\n",
      "309 /home/phdcs2/Hard_Disk/Datasets/Deep-Spectral-Segmentation/data/object-segmentation/ECSSD/features/dino_vits16/0310.pth\n",
      "0310\n",
      "tanh_feats.shape= torch.Size([450, 384])\n",
      "W_feat_ds.shape= torch.Size([450, 450])\n",
      "W_feat_hist_pearsoncorr.shape= torch.Size([450, 450])\n",
      "<class 'torch.Tensor'>\n"
     ]
    },
    {
     "name": "stderr",
     "output_type": "stream",
     "text": [
      " 31%|███       | 310/1000 [9:01:29<18:21:58, 95.82s/it]"
     ]
    },
    {
     "name": "stdout",
     "output_type": "stream",
     "text": [
      "eigenvalues shape torch.Size([5]) eigenvectors shape torch.Size([5, 400])\n",
      "310 /home/phdcs2/Hard_Disk/Datasets/Deep-Spectral-Segmentation/data/object-segmentation/ECSSD/features/dino_vits16/0311.pth\n",
      "0311\n",
      "tanh_feats.shape= torch.Size([400, 384])\n",
      "W_feat_ds.shape= torch.Size([400, 400])\n",
      "W_feat_hist_pearsoncorr.shape= torch.Size([400, 400])\n",
      "<class 'torch.Tensor'>\n"
     ]
    },
    {
     "name": "stderr",
     "output_type": "stream",
     "text": [
      " 31%|███       | 311/1000 [9:02:52<17:36:32, 92.01s/it]"
     ]
    },
    {
     "name": "stdout",
     "output_type": "stream",
     "text": [
      "eigenvalues shape torch.Size([5]) eigenvectors shape torch.Size([5, 400])\n",
      "311 /home/phdcs2/Hard_Disk/Datasets/Deep-Spectral-Segmentation/data/object-segmentation/ECSSD/features/dino_vits16/0312.pth\n",
      "0312\n",
      "tanh_feats.shape= torch.Size([400, 384])\n",
      "W_feat_ds.shape= torch.Size([400, 400])\n",
      "W_feat_hist_pearsoncorr.shape= torch.Size([400, 400])\n",
      "<class 'torch.Tensor'>\n"
     ]
    },
    {
     "name": "stderr",
     "output_type": "stream",
     "text": [
      " 31%|███       | 312/1000 [9:04:14<16:58:08, 88.79s/it]"
     ]
    },
    {
     "name": "stdout",
     "output_type": "stream",
     "text": [
      "eigenvalues shape torch.Size([5]) eigenvectors shape torch.Size([5, 400])\n",
      "312 /home/phdcs2/Hard_Disk/Datasets/Deep-Spectral-Segmentation/data/object-segmentation/ECSSD/features/dino_vits16/0313.pth\n",
      "0313\n",
      "tanh_feats.shape= torch.Size([400, 384])\n"
     ]
    },
    {
     "name": "stderr",
     "output_type": "stream",
     "text": [
      " 31%|███▏      | 313/1000 [9:05:35<16:32:21, 86.67s/it]"
     ]
    },
    {
     "name": "stdout",
     "output_type": "stream",
     "text": [
      "W_feat_ds.shape= torch.Size([400, 400])\n",
      "W_feat_hist_pearsoncorr.shape= torch.Size([400, 400])\n",
      "<class 'torch.Tensor'>\n",
      "eigenvalues shape torch.Size([5]) eigenvectors shape torch.Size([5, 400])\n",
      "313 /home/phdcs2/Hard_Disk/Datasets/Deep-Spectral-Segmentation/data/object-segmentation/ECSSD/features/dino_vits16/0314.pth\n",
      "0314\n",
      "tanh_feats.shape= torch.Size([400, 384])\n",
      "W_feat_ds.shape= torch.Size([400, 400])\n",
      "W_feat_hist_pearsoncorr.shape= torch.Size([400, 400])\n",
      "<class 'torch.Tensor'>\n"
     ]
    },
    {
     "name": "stderr",
     "output_type": "stream",
     "text": [
      " 31%|███▏      | 314/1000 [9:06:59<16:18:40, 85.60s/it]"
     ]
    },
    {
     "name": "stdout",
     "output_type": "stream",
     "text": [
      "eigenvalues shape torch.Size([5]) eigenvectors shape torch.Size([5, 400])\n",
      "314 /home/phdcs2/Hard_Disk/Datasets/Deep-Spectral-Segmentation/data/object-segmentation/ECSSD/features/dino_vits16/0315.pth\n",
      "0315\n",
      "tanh_feats.shape= torch.Size([450, 384])\n",
      "W_feat_ds.shape= torch.Size([450, 450])\n",
      "W_feat_hist_pearsoncorr.shape= torch.Size([450, 450])\n",
      "<class 'torch.Tensor'>\n"
     ]
    },
    {
     "name": "stderr",
     "output_type": "stream",
     "text": [
      " 32%|███▏      | 315/1000 [9:08:42<17:19:30, 91.05s/it]"
     ]
    },
    {
     "name": "stdout",
     "output_type": "stream",
     "text": [
      "eigenvalues shape torch.Size([5]) eigenvectors shape torch.Size([5, 400])\n",
      "315 /home/phdcs2/Hard_Disk/Datasets/Deep-Spectral-Segmentation/data/object-segmentation/ECSSD/features/dino_vits16/0316.pth\n",
      "0316\n",
      "tanh_feats.shape= torch.Size([450, 384])\n"
     ]
    },
    {
     "name": "stderr",
     "output_type": "stream",
     "text": [
      " 32%|███▏      | 316/1000 [9:10:26<18:02:28, 94.95s/it]"
     ]
    },
    {
     "name": "stdout",
     "output_type": "stream",
     "text": [
      "W_feat_ds.shape= torch.Size([450, 450])\n",
      "W_feat_hist_pearsoncorr.shape= torch.Size([450, 450])\n",
      "<class 'torch.Tensor'>\n",
      "eigenvalues shape torch.Size([5]) eigenvectors shape torch.Size([5, 400])\n",
      "316 /home/phdcs2/Hard_Disk/Datasets/Deep-Spectral-Segmentation/data/object-segmentation/ECSSD/features/dino_vits16/0317.pth\n",
      "0317\n",
      "tanh_feats.shape= torch.Size([450, 384])\n",
      "W_feat_ds.shape= torch.Size([450, 450])\n",
      "W_feat_hist_pearsoncorr.shape= torch.Size([450, 450])\n",
      "<class 'torch.Tensor'>\n"
     ]
    },
    {
     "name": "stderr",
     "output_type": "stream",
     "text": [
      " 32%|███▏      | 317/1000 [9:12:10<18:31:01, 97.60s/it]"
     ]
    },
    {
     "name": "stdout",
     "output_type": "stream",
     "text": [
      "eigenvalues shape torch.Size([5]) eigenvectors shape torch.Size([5, 400])\n",
      "317 /home/phdcs2/Hard_Disk/Datasets/Deep-Spectral-Segmentation/data/object-segmentation/ECSSD/features/dino_vits16/0318.pth\n",
      "0318\n",
      "tanh_feats.shape= torch.Size([450, 384])\n"
     ]
    },
    {
     "name": "stderr",
     "output_type": "stream",
     "text": [
      " 32%|███▏      | 318/1000 [9:13:55<18:53:09, 99.69s/it]"
     ]
    },
    {
     "name": "stdout",
     "output_type": "stream",
     "text": [
      "W_feat_ds.shape= torch.Size([450, 450])\n",
      "W_feat_hist_pearsoncorr.shape= torch.Size([450, 450])\n",
      "<class 'torch.Tensor'>\n",
      "eigenvalues shape torch.Size([5]) eigenvectors shape torch.Size([5, 400])\n",
      "318 /home/phdcs2/Hard_Disk/Datasets/Deep-Spectral-Segmentation/data/object-segmentation/ECSSD/features/dino_vits16/0319.pth\n",
      "0319\n",
      "tanh_feats.shape= torch.Size([450, 384])\n"
     ]
    },
    {
     "name": "stderr",
     "output_type": "stream",
     "text": [
      " 32%|███▏      | 319/1000 [9:15:39<19:07:08, 101.07s/it]"
     ]
    },
    {
     "name": "stdout",
     "output_type": "stream",
     "text": [
      "W_feat_ds.shape= torch.Size([450, 450])\n",
      "W_feat_hist_pearsoncorr.shape= torch.Size([450, 450])\n",
      "<class 'torch.Tensor'>\n",
      "eigenvalues shape torch.Size([5]) eigenvectors shape torch.Size([5, 400])\n",
      "319 /home/phdcs2/Hard_Disk/Datasets/Deep-Spectral-Segmentation/data/object-segmentation/ECSSD/features/dino_vits16/0320.pth\n",
      "0320\n",
      "tanh_feats.shape= torch.Size([450, 384])\n",
      "W_feat_ds.shape= torch.Size([450, 450])\n",
      "W_feat_hist_pearsoncorr.shape= torch.Size([450, 450])\n",
      "<class 'torch.Tensor'>\n"
     ]
    },
    {
     "name": "stderr",
     "output_type": "stream",
     "text": [
      " 32%|███▏      | 320/1000 [9:17:23<19:16:30, 102.04s/it]"
     ]
    },
    {
     "name": "stdout",
     "output_type": "stream",
     "text": [
      "eigenvalues shape torch.Size([5]) eigenvectors shape torch.Size([5, 400])\n",
      "320 /home/phdcs2/Hard_Disk/Datasets/Deep-Spectral-Segmentation/data/object-segmentation/ECSSD/features/dino_vits16/0321.pth\n",
      "0321\n",
      "tanh_feats.shape= torch.Size([500, 384])\n"
     ]
    },
    {
     "name": "stderr",
     "output_type": "stream",
     "text": [
      " 32%|███▏      | 321/1000 [9:19:30<20:39:13, 109.50s/it]"
     ]
    },
    {
     "name": "stdout",
     "output_type": "stream",
     "text": [
      "W_feat_ds.shape= torch.Size([500, 500])\n",
      "W_feat_hist_pearsoncorr.shape= torch.Size([500, 500])\n",
      "<class 'torch.Tensor'>\n",
      "eigenvalues shape torch.Size([5]) eigenvectors shape torch.Size([5, 400])\n",
      "321 /home/phdcs2/Hard_Disk/Datasets/Deep-Spectral-Segmentation/data/object-segmentation/ECSSD/features/dino_vits16/0322.pth\n",
      "0322\n",
      "tanh_feats.shape= torch.Size([450, 384])\n",
      "W_feat_ds.shape= torch.Size([450, 450])\n",
      "W_feat_hist_pearsoncorr.shape= torch.Size([450, 450])\n",
      "<class 'torch.Tensor'>\n"
     ]
    },
    {
     "name": "stderr",
     "output_type": "stream",
     "text": [
      " 32%|███▏      | 322/1000 [9:21:14<20:16:20, 107.64s/it]"
     ]
    },
    {
     "name": "stdout",
     "output_type": "stream",
     "text": [
      "eigenvalues shape torch.Size([5]) eigenvectors shape torch.Size([5, 400])\n",
      "322 /home/phdcs2/Hard_Disk/Datasets/Deep-Spectral-Segmentation/data/object-segmentation/ECSSD/features/dino_vits16/0323.pth\n",
      "0323\n",
      "tanh_feats.shape= torch.Size([450, 384])\n",
      "W_feat_ds.shape= torch.Size([450, 450])\n",
      "W_feat_hist_pearsoncorr.shape= torch.Size([450, 450])\n",
      "<class 'torch.Tensor'>\n"
     ]
    },
    {
     "name": "stderr",
     "output_type": "stream",
     "text": [
      " 32%|███▏      | 323/1000 [9:22:58<20:02:35, 106.58s/it]"
     ]
    },
    {
     "name": "stdout",
     "output_type": "stream",
     "text": [
      "eigenvalues shape torch.Size([5]) eigenvectors shape torch.Size([5, 400])\n",
      "323 /home/phdcs2/Hard_Disk/Datasets/Deep-Spectral-Segmentation/data/object-segmentation/ECSSD/features/dino_vits16/0324.pth\n",
      "0324\n",
      "tanh_feats.shape= torch.Size([450, 384])\n"
     ]
    },
    {
     "name": "stderr",
     "output_type": "stream",
     "text": [
      " 32%|███▏      | 324/1000 [9:24:42<19:54:22, 106.01s/it]"
     ]
    },
    {
     "name": "stdout",
     "output_type": "stream",
     "text": [
      "W_feat_ds.shape= torch.Size([450, 450])\n",
      "W_feat_hist_pearsoncorr.shape= torch.Size([450, 450])\n",
      "<class 'torch.Tensor'>\n",
      "eigenvalues shape torch.Size([5]) eigenvectors shape torch.Size([5, 400])\n",
      "324 /home/phdcs2/Hard_Disk/Datasets/Deep-Spectral-Segmentation/data/object-segmentation/ECSSD/features/dino_vits16/0325.pth\n",
      "0325\n",
      "tanh_feats.shape= torch.Size([450, 384])\n",
      "W_feat_ds.shape= torch.Size([450, 450])\n",
      "W_feat_hist_pearsoncorr.shape= torch.Size([450, 450])\n",
      "<class 'torch.Tensor'>\n"
     ]
    },
    {
     "name": "stderr",
     "output_type": "stream",
     "text": [
      " 32%|███▎      | 325/1000 [9:26:27<19:48:27, 105.64s/it]"
     ]
    },
    {
     "name": "stdout",
     "output_type": "stream",
     "text": [
      "eigenvalues shape torch.Size([5]) eigenvectors shape torch.Size([5, 400])\n",
      "325 /home/phdcs2/Hard_Disk/Datasets/Deep-Spectral-Segmentation/data/object-segmentation/ECSSD/features/dino_vits16/0326.pth\n",
      "0326\n",
      "tanh_feats.shape= torch.Size([425, 384])\n",
      "W_feat_ds.shape= torch.Size([425, 425])\n",
      "W_feat_hist_pearsoncorr.shape= torch.Size([425, 425])\n",
      "<class 'torch.Tensor'>\n"
     ]
    },
    {
     "name": "stderr",
     "output_type": "stream",
     "text": [
      " 33%|███▎      | 326/1000 [9:28:00<19:03:40, 101.81s/it]"
     ]
    },
    {
     "name": "stdout",
     "output_type": "stream",
     "text": [
      "eigenvalues shape torch.Size([5]) eigenvectors shape torch.Size([5, 400])\n",
      "326 /home/phdcs2/Hard_Disk/Datasets/Deep-Spectral-Segmentation/data/object-segmentation/ECSSD/features/dino_vits16/0327.pth\n",
      "0327\n",
      "tanh_feats.shape= torch.Size([450, 384])\n",
      "W_feat_ds.shape= torch.Size([450, 450])\n",
      "W_feat_hist_pearsoncorr.shape= torch.Size([450, 450])\n",
      "<class 'torch.Tensor'>\n"
     ]
    },
    {
     "name": "stderr",
     "output_type": "stream",
     "text": [
      " 33%|███▎      | 327/1000 [9:29:43<19:06:33, 102.22s/it]"
     ]
    },
    {
     "name": "stdout",
     "output_type": "stream",
     "text": [
      "eigenvalues shape torch.Size([5]) eigenvectors shape torch.Size([5, 400])\n",
      "327 /home/phdcs2/Hard_Disk/Datasets/Deep-Spectral-Segmentation/data/object-segmentation/ECSSD/features/dino_vits16/0328.pth\n",
      "0328\n",
      "tanh_feats.shape= torch.Size([475, 384])\n",
      "W_feat_ds.shape= torch.Size([475, 475])\n",
      "W_feat_hist_pearsoncorr.shape= torch.Size([475, 475])\n",
      "<class 'torch.Tensor'>\n"
     ]
    },
    {
     "name": "stderr",
     "output_type": "stream",
     "text": [
      " 33%|███▎      | 328/1000 [9:31:39<19:50:03, 106.26s/it]"
     ]
    },
    {
     "name": "stdout",
     "output_type": "stream",
     "text": [
      "eigenvalues shape torch.Size([5]) eigenvectors shape torch.Size([5, 400])\n",
      "328 /home/phdcs2/Hard_Disk/Datasets/Deep-Spectral-Segmentation/data/object-segmentation/ECSSD/features/dino_vits16/0329.pth\n",
      "0329\n",
      "tanh_feats.shape= torch.Size([500, 384])\n"
     ]
    },
    {
     "name": "stderr",
     "output_type": "stream",
     "text": [
      " 33%|███▎      | 329/1000 [9:33:46<20:59:05, 112.59s/it]"
     ]
    },
    {
     "name": "stdout",
     "output_type": "stream",
     "text": [
      "W_feat_ds.shape= torch.Size([500, 500])\n",
      "W_feat_hist_pearsoncorr.shape= torch.Size([500, 500])\n",
      "<class 'torch.Tensor'>\n",
      "eigenvalues shape torch.Size([5]) eigenvectors shape torch.Size([5, 400])\n",
      "329 /home/phdcs2/Hard_Disk/Datasets/Deep-Spectral-Segmentation/data/object-segmentation/ECSSD/features/dino_vits16/0330.pth\n",
      "0330\n",
      "tanh_feats.shape= torch.Size([450, 384])\n",
      "W_feat_ds.shape= torch.Size([450, 450])\n",
      "W_feat_hist_pearsoncorr.shape= torch.Size([450, 450])\n",
      "<class 'torch.Tensor'>\n"
     ]
    },
    {
     "name": "stderr",
     "output_type": "stream",
     "text": [
      " 33%|███▎      | 330/1000 [9:35:30<20:28:02, 109.97s/it]"
     ]
    },
    {
     "name": "stdout",
     "output_type": "stream",
     "text": [
      "eigenvalues shape torch.Size([5]) eigenvectors shape torch.Size([5, 400])\n",
      "330 /home/phdcs2/Hard_Disk/Datasets/Deep-Spectral-Segmentation/data/object-segmentation/ECSSD/features/dino_vits16/0331.pth\n",
      "0331\n",
      "tanh_feats.shape= torch.Size([450, 384])\n",
      "W_feat_ds.shape= torch.Size([450, 450])\n",
      "W_feat_hist_pearsoncorr.shape= torch.Size([450, 450])\n",
      "<class 'torch.Tensor'>\n"
     ]
    },
    {
     "name": "stderr",
     "output_type": "stream",
     "text": [
      " 33%|███▎      | 331/1000 [9:37:14<20:06:08, 108.17s/it]"
     ]
    },
    {
     "name": "stdout",
     "output_type": "stream",
     "text": [
      "eigenvalues shape torch.Size([5]) eigenvectors shape torch.Size([5, 400])\n",
      "331 /home/phdcs2/Hard_Disk/Datasets/Deep-Spectral-Segmentation/data/object-segmentation/ECSSD/features/dino_vits16/0332.pth\n",
      "0332\n",
      "tanh_feats.shape= torch.Size([400, 384])\n",
      "W_feat_ds.shape= torch.Size([400, 400])\n",
      "W_feat_hist_pearsoncorr.shape= torch.Size([400, 400])\n",
      "<class 'torch.Tensor'>\n"
     ]
    },
    {
     "name": "stderr",
     "output_type": "stream",
     "text": [
      " 33%|███▎      | 332/1000 [9:38:37<18:39:24, 100.54s/it]"
     ]
    },
    {
     "name": "stdout",
     "output_type": "stream",
     "text": [
      "eigenvalues shape torch.Size([5]) eigenvectors shape torch.Size([5, 400])\n",
      "332 /home/phdcs2/Hard_Disk/Datasets/Deep-Spectral-Segmentation/data/object-segmentation/ECSSD/features/dino_vits16/0333.pth\n",
      "0333\n",
      "tanh_feats.shape= torch.Size([400, 384])\n",
      "W_feat_ds.shape= torch.Size([400, 400])\n",
      "W_feat_hist_pearsoncorr.shape= torch.Size([400, 400])\n",
      "<class 'torch.Tensor'>\n"
     ]
    },
    {
     "name": "stderr",
     "output_type": "stream",
     "text": [
      " 33%|███▎      | 333/1000 [9:39:59<17:37:55, 95.17s/it] "
     ]
    },
    {
     "name": "stdout",
     "output_type": "stream",
     "text": [
      "eigenvalues shape torch.Size([5]) eigenvectors shape torch.Size([5, 400])\n",
      "333 /home/phdcs2/Hard_Disk/Datasets/Deep-Spectral-Segmentation/data/object-segmentation/ECSSD/features/dino_vits16/0334.pth\n",
      "0334\n",
      "tanh_feats.shape= torch.Size([450, 384])\n"
     ]
    },
    {
     "name": "stderr",
     "output_type": "stream",
     "text": [
      " 33%|███▎      | 334/1000 [9:41:43<18:02:58, 97.57s/it]"
     ]
    },
    {
     "name": "stdout",
     "output_type": "stream",
     "text": [
      "W_feat_ds.shape= torch.Size([450, 450])\n",
      "W_feat_hist_pearsoncorr.shape= torch.Size([450, 450])\n",
      "<class 'torch.Tensor'>\n",
      "eigenvalues shape torch.Size([5]) eigenvectors shape torch.Size([5, 400])\n",
      "334 /home/phdcs2/Hard_Disk/Datasets/Deep-Spectral-Segmentation/data/object-segmentation/ECSSD/features/dino_vits16/0335.pth\n",
      "0335\n",
      "tanh_feats.shape= torch.Size([400, 384])\n",
      "W_feat_ds.shape= torch.Size([400, 400])\n",
      "W_feat_hist_pearsoncorr.shape= torch.Size([400, 400])\n",
      "<class 'torch.Tensor'>\n"
     ]
    },
    {
     "name": "stderr",
     "output_type": "stream",
     "text": [
      " 34%|███▎      | 335/1000 [9:43:05<17:10:20, 92.96s/it]"
     ]
    },
    {
     "name": "stdout",
     "output_type": "stream",
     "text": [
      "eigenvalues shape torch.Size([5]) eigenvectors shape torch.Size([5, 400])\n",
      "335 /home/phdcs2/Hard_Disk/Datasets/Deep-Spectral-Segmentation/data/object-segmentation/ECSSD/features/dino_vits16/0336.pth\n",
      "0336\n",
      "tanh_feats.shape= torch.Size([450, 384])\n",
      "W_feat_ds.shape= torch.Size([450, 450])\n",
      "W_feat_hist_pearsoncorr.shape= torch.Size([450, 450])\n",
      "<class 'torch.Tensor'>\n"
     ]
    },
    {
     "name": "stderr",
     "output_type": "stream",
     "text": [
      " 34%|███▎      | 336/1000 [9:44:50<17:47:45, 96.48s/it]"
     ]
    },
    {
     "name": "stdout",
     "output_type": "stream",
     "text": [
      "eigenvalues shape torch.Size([5]) eigenvectors shape torch.Size([5, 400])\n",
      "336 /home/phdcs2/Hard_Disk/Datasets/Deep-Spectral-Segmentation/data/object-segmentation/ECSSD/features/dino_vits16/0337.pth\n",
      "0337\n",
      "tanh_feats.shape= torch.Size([450, 384])\n",
      "W_feat_ds.shape= torch.Size([450, 450])\n",
      "W_feat_hist_pearsoncorr.shape= torch.Size([450, 450])\n",
      "<class 'torch.Tensor'>\n"
     ]
    },
    {
     "name": "stderr",
     "output_type": "stream",
     "text": [
      " 34%|███▎      | 337/1000 [9:46:35<18:14:32, 99.05s/it]"
     ]
    },
    {
     "name": "stdout",
     "output_type": "stream",
     "text": [
      "eigenvalues shape torch.Size([5]) eigenvectors shape torch.Size([5, 400])\n",
      "337 /home/phdcs2/Hard_Disk/Datasets/Deep-Spectral-Segmentation/data/object-segmentation/ECSSD/features/dino_vits16/0338.pth\n",
      "0338\n",
      "tanh_feats.shape= torch.Size([450, 384])\n",
      "W_feat_ds.shape= torch.Size([450, 450])\n",
      "W_feat_hist_pearsoncorr.shape= torch.Size([450, 450])\n",
      "<class 'torch.Tensor'>\n"
     ]
    },
    {
     "name": "stderr",
     "output_type": "stream",
     "text": [
      " 34%|███▍      | 338/1000 [9:48:18<18:27:25, 100.37s/it]"
     ]
    },
    {
     "name": "stdout",
     "output_type": "stream",
     "text": [
      "eigenvalues shape torch.Size([5]) eigenvectors shape torch.Size([5, 400])\n",
      "338 /home/phdcs2/Hard_Disk/Datasets/Deep-Spectral-Segmentation/data/object-segmentation/ECSSD/features/dino_vits16/0339.pth\n",
      "0339\n",
      "tanh_feats.shape= torch.Size([450, 384])\n",
      "W_feat_ds.shape= torch.Size([450, 450])\n",
      "W_feat_hist_pearsoncorr.shape= torch.Size([450, 450])\n",
      "<class 'torch.Tensor'>\n"
     ]
    },
    {
     "name": "stderr",
     "output_type": "stream",
     "text": [
      " 34%|███▍      | 339/1000 [9:50:03<18:39:21, 101.61s/it]"
     ]
    },
    {
     "name": "stdout",
     "output_type": "stream",
     "text": [
      "eigenvalues shape torch.Size([5]) eigenvectors shape torch.Size([5, 400])\n",
      "339 /home/phdcs2/Hard_Disk/Datasets/Deep-Spectral-Segmentation/data/object-segmentation/ECSSD/features/dino_vits16/0340.pth\n",
      "0340\n",
      "tanh_feats.shape= torch.Size([375, 384])\n",
      "W_feat_ds.shape= torch.Size([375, 375])\n",
      "W_feat_hist_pearsoncorr.shape= torch.Size([375, 375])\n",
      "<class 'torch.Tensor'>\n"
     ]
    },
    {
     "name": "stderr",
     "output_type": "stream",
     "text": [
      " 34%|███▍      | 340/1000 [9:51:14<16:59:41, 92.70s/it] "
     ]
    },
    {
     "name": "stdout",
     "output_type": "stream",
     "text": [
      "eigenvalues shape torch.Size([5]) eigenvectors shape torch.Size([5, 400])\n",
      "340 /home/phdcs2/Hard_Disk/Datasets/Deep-Spectral-Segmentation/data/object-segmentation/ECSSD/features/dino_vits16/0341.pth\n",
      "0341\n",
      "tanh_feats.shape= torch.Size([375, 384])\n",
      "W_feat_ds.shape= torch.Size([375, 375])\n",
      "W_feat_hist_pearsoncorr.shape= torch.Size([375, 375])\n",
      "<class 'torch.Tensor'>\n"
     ]
    },
    {
     "name": "stderr",
     "output_type": "stream",
     "text": [
      " 34%|███▍      | 341/1000 [9:52:27<15:50:44, 86.56s/it]"
     ]
    },
    {
     "name": "stdout",
     "output_type": "stream",
     "text": [
      "eigenvalues shape torch.Size([5]) eigenvectors shape torch.Size([5, 400])\n",
      "341 /home/phdcs2/Hard_Disk/Datasets/Deep-Spectral-Segmentation/data/object-segmentation/ECSSD/features/dino_vits16/0342.pth\n",
      "0342\n",
      "tanh_feats.shape= torch.Size([450, 384])\n",
      "W_feat_ds.shape= torch.Size([450, 450])\n",
      "W_feat_hist_pearsoncorr.shape= torch.Size([450, 450])\n",
      "<class 'torch.Tensor'>\n",
      "eigenvalues shape torch.Size([5]) eigenvectors shape torch.Size([5, 400])\n"
     ]
    },
    {
     "name": "stderr",
     "output_type": "stream",
     "text": [
      " 34%|███▍      | 342/1000 [9:54:10<16:44:54, 91.63s/it]"
     ]
    },
    {
     "name": "stdout",
     "output_type": "stream",
     "text": [
      "342 /home/phdcs2/Hard_Disk/Datasets/Deep-Spectral-Segmentation/data/object-segmentation/ECSSD/features/dino_vits16/0343.pth\n",
      "0343\n",
      "tanh_feats.shape= torch.Size([500, 384])\n",
      "W_feat_ds.shape= torch.Size([500, 500])\n",
      "W_feat_hist_pearsoncorr.shape= torch.Size([500, 500])\n",
      "<class 'torch.Tensor'>\n"
     ]
    },
    {
     "name": "stderr",
     "output_type": "stream",
     "text": [
      " 34%|███▍      | 343/1000 [9:56:19<18:45:29, 102.79s/it]"
     ]
    },
    {
     "name": "stdout",
     "output_type": "stream",
     "text": [
      "eigenvalues shape torch.Size([5]) eigenvectors shape torch.Size([5, 400])\n",
      "343 /home/phdcs2/Hard_Disk/Datasets/Deep-Spectral-Segmentation/data/object-segmentation/ECSSD/features/dino_vits16/0344.pth\n",
      "0344\n",
      "tanh_feats.shape= torch.Size([450, 384])\n",
      "W_feat_ds.shape= torch.Size([450, 450])\n",
      "W_feat_hist_pearsoncorr.shape= torch.Size([450, 450])\n",
      "<class 'torch.Tensor'>\n"
     ]
    },
    {
     "name": "stderr",
     "output_type": "stream",
     "text": [
      " 34%|███▍      | 344/1000 [9:58:03<18:48:03, 103.18s/it]"
     ]
    },
    {
     "name": "stdout",
     "output_type": "stream",
     "text": [
      "eigenvalues shape torch.Size([5]) eigenvectors shape torch.Size([5, 400])\n",
      "344 /home/phdcs2/Hard_Disk/Datasets/Deep-Spectral-Segmentation/data/object-segmentation/ECSSD/features/dino_vits16/0345.pth\n",
      "0345\n",
      "tanh_feats.shape= torch.Size([500, 384])\n",
      "W_feat_ds.shape= torch.Size([500, 500])\n",
      "W_feat_hist_pearsoncorr.shape= torch.Size([500, 500])\n",
      "<class 'torch.Tensor'>\n"
     ]
    },
    {
     "name": "stderr",
     "output_type": "stream",
     "text": [
      " 34%|███▍      | 345/1000 [10:00:11<20:08:47, 110.73s/it]"
     ]
    },
    {
     "name": "stdout",
     "output_type": "stream",
     "text": [
      "eigenvalues shape torch.Size([5]) eigenvectors shape torch.Size([5, 400])\n",
      "345 /home/phdcs2/Hard_Disk/Datasets/Deep-Spectral-Segmentation/data/object-segmentation/ECSSD/features/dino_vits16/0346.pth\n",
      "0346\n",
      "tanh_feats.shape= torch.Size([450, 384])\n"
     ]
    },
    {
     "name": "stderr",
     "output_type": "stream",
     "text": [
      " 35%|███▍      | 346/1000 [10:01:55<19:43:37, 108.59s/it]"
     ]
    },
    {
     "name": "stdout",
     "output_type": "stream",
     "text": [
      "W_feat_ds.shape= torch.Size([450, 450])\n",
      "W_feat_hist_pearsoncorr.shape= torch.Size([450, 450])\n",
      "<class 'torch.Tensor'>\n",
      "eigenvalues shape torch.Size([5]) eigenvectors shape torch.Size([5, 400])\n",
      "346 /home/phdcs2/Hard_Disk/Datasets/Deep-Spectral-Segmentation/data/object-segmentation/ECSSD/features/dino_vits16/0347.pth\n",
      "0347\n",
      "tanh_feats.shape= torch.Size([450, 384])\n"
     ]
    },
    {
     "name": "stderr",
     "output_type": "stream",
     "text": [
      " 35%|███▍      | 347/1000 [10:03:39<19:28:02, 107.32s/it]"
     ]
    },
    {
     "name": "stdout",
     "output_type": "stream",
     "text": [
      "W_feat_ds.shape= torch.Size([450, 450])\n",
      "W_feat_hist_pearsoncorr.shape= torch.Size([450, 450])\n",
      "<class 'torch.Tensor'>\n",
      "eigenvalues shape torch.Size([5]) eigenvectors shape torch.Size([5, 400])\n",
      "347 /home/phdcs2/Hard_Disk/Datasets/Deep-Spectral-Segmentation/data/object-segmentation/ECSSD/features/dino_vits16/0348.pth\n",
      "0348\n",
      "tanh_feats.shape= torch.Size([400, 384])\n",
      "W_feat_ds.shape= torch.Size([400, 400])\n",
      "W_feat_hist_pearsoncorr.shape= torch.Size([400, 400])\n",
      "<class 'torch.Tensor'>\n"
     ]
    },
    {
     "name": "stderr",
     "output_type": "stream",
     "text": [
      " 35%|███▍      | 348/1000 [10:05:02<18:04:15, 99.78s/it] "
     ]
    },
    {
     "name": "stdout",
     "output_type": "stream",
     "text": [
      "eigenvalues shape torch.Size([5]) eigenvectors shape torch.Size([5, 400])\n",
      "348 /home/phdcs2/Hard_Disk/Datasets/Deep-Spectral-Segmentation/data/object-segmentation/ECSSD/features/dino_vits16/0349.pth\n",
      "0349\n",
      "tanh_feats.shape= torch.Size([400, 384])\n"
     ]
    },
    {
     "name": "stderr",
     "output_type": "stream",
     "text": [
      " 35%|███▍      | 349/1000 [10:06:24<17:06:05, 94.57s/it]"
     ]
    },
    {
     "name": "stdout",
     "output_type": "stream",
     "text": [
      "W_feat_ds.shape= torch.Size([400, 400])\n",
      "W_feat_hist_pearsoncorr.shape= torch.Size([400, 400])\n",
      "<class 'torch.Tensor'>\n",
      "eigenvalues shape torch.Size([5]) eigenvectors shape torch.Size([5, 400])\n",
      "349 /home/phdcs2/Hard_Disk/Datasets/Deep-Spectral-Segmentation/data/object-segmentation/ECSSD/features/dino_vits16/0350.pth\n",
      "0350\n",
      "tanh_feats.shape= torch.Size([475, 384])\n",
      "W_feat_ds.shape= torch.Size([475, 475])\n",
      "W_feat_hist_pearsoncorr.shape= torch.Size([475, 475])\n",
      "<class 'torch.Tensor'>\n"
     ]
    },
    {
     "name": "stderr",
     "output_type": "stream",
     "text": [
      " 35%|███▌      | 350/1000 [10:08:19<18:11:37, 100.77s/it]"
     ]
    },
    {
     "name": "stdout",
     "output_type": "stream",
     "text": [
      "eigenvalues shape torch.Size([5]) eigenvectors shape torch.Size([5, 400])\n",
      "350 /home/phdcs2/Hard_Disk/Datasets/Deep-Spectral-Segmentation/data/object-segmentation/ECSSD/features/dino_vits16/0351.pth\n",
      "0351\n",
      "tanh_feats.shape= torch.Size([450, 384])\n",
      "W_feat_ds.shape= torch.Size([450, 450])\n",
      "W_feat_hist_pearsoncorr.shape= torch.Size([450, 450])\n",
      "<class 'torch.Tensor'>\n"
     ]
    },
    {
     "name": "stderr",
     "output_type": "stream",
     "text": [
      " 35%|███▌      | 351/1000 [10:10:04<18:22:50, 101.96s/it]"
     ]
    },
    {
     "name": "stdout",
     "output_type": "stream",
     "text": [
      "eigenvalues shape torch.Size([5]) eigenvectors shape torch.Size([5, 400])\n",
      "351 /home/phdcs2/Hard_Disk/Datasets/Deep-Spectral-Segmentation/data/object-segmentation/ECSSD/features/dino_vits16/0352.pth\n",
      "0352\n",
      "tanh_feats.shape= torch.Size([400, 384])\n"
     ]
    },
    {
     "name": "stderr",
     "output_type": "stream",
     "text": [
      " 35%|███▌      | 352/1000 [10:11:26<17:17:02, 96.02s/it] "
     ]
    },
    {
     "name": "stdout",
     "output_type": "stream",
     "text": [
      "W_feat_ds.shape= torch.Size([400, 400])\n",
      "W_feat_hist_pearsoncorr.shape= torch.Size([400, 400])\n",
      "<class 'torch.Tensor'>\n",
      "eigenvalues shape torch.Size([5]) eigenvectors shape torch.Size([5, 400])\n",
      "352 /home/phdcs2/Hard_Disk/Datasets/Deep-Spectral-Segmentation/data/object-segmentation/ECSSD/features/dino_vits16/0353.pth\n",
      "0353\n",
      "tanh_feats.shape= torch.Size([425, 384])\n",
      "W_feat_ds.shape= torch.Size([425, 425])\n",
      "W_feat_hist_pearsoncorr.shape= torch.Size([425, 425])\n",
      "<class 'torch.Tensor'>\n"
     ]
    },
    {
     "name": "stderr",
     "output_type": "stream",
     "text": [
      " 35%|███▌      | 353/1000 [10:12:59<17:04:46, 95.03s/it]"
     ]
    },
    {
     "name": "stdout",
     "output_type": "stream",
     "text": [
      "eigenvalues shape torch.Size([5]) eigenvectors shape torch.Size([5, 400])\n",
      "353 /home/phdcs2/Hard_Disk/Datasets/Deep-Spectral-Segmentation/data/object-segmentation/ECSSD/features/dino_vits16/0354.pth\n",
      "0354\n",
      "tanh_feats.shape= torch.Size([575, 384])\n",
      "W_feat_ds.shape= torch.Size([575, 575])\n",
      "W_feat_hist_pearsoncorr.shape= torch.Size([575, 575])\n",
      "<class 'torch.Tensor'>\n"
     ]
    },
    {
     "name": "stderr",
     "output_type": "stream",
     "text": [
      " 35%|███▌      | 354/1000 [10:15:48<21:01:49, 117.20s/it]"
     ]
    },
    {
     "name": "stdout",
     "output_type": "stream",
     "text": [
      "eigenvalues shape torch.Size([5]) eigenvectors shape torch.Size([5, 400])\n",
      "354 /home/phdcs2/Hard_Disk/Datasets/Deep-Spectral-Segmentation/data/object-segmentation/ECSSD/features/dino_vits16/0355.pth\n",
      "0355\n",
      "tanh_feats.shape= torch.Size([450, 384])\n",
      "W_feat_ds.shape= torch.Size([450, 450])\n",
      "W_feat_hist_pearsoncorr.shape= torch.Size([450, 450])\n",
      "<class 'torch.Tensor'>\n"
     ]
    },
    {
     "name": "stderr",
     "output_type": "stream",
     "text": [
      " 36%|███▌      | 355/1000 [10:17:31<20:16:26, 113.16s/it]"
     ]
    },
    {
     "name": "stdout",
     "output_type": "stream",
     "text": [
      "eigenvalues shape torch.Size([5]) eigenvectors shape torch.Size([5, 400])\n",
      "355 /home/phdcs2/Hard_Disk/Datasets/Deep-Spectral-Segmentation/data/object-segmentation/ECSSD/features/dino_vits16/0356.pth\n",
      "0356\n",
      "tanh_feats.shape= torch.Size([450, 384])\n",
      "W_feat_ds.shape= torch.Size([450, 450])\n",
      "W_feat_hist_pearsoncorr.shape= torch.Size([450, 450])\n",
      "<class 'torch.Tensor'>\n"
     ]
    },
    {
     "name": "stderr",
     "output_type": "stream",
     "text": [
      " 36%|███▌      | 356/1000 [10:19:15<19:44:42, 110.38s/it]"
     ]
    },
    {
     "name": "stdout",
     "output_type": "stream",
     "text": [
      "eigenvalues shape torch.Size([5]) eigenvectors shape torch.Size([5, 400])\n",
      "356 /home/phdcs2/Hard_Disk/Datasets/Deep-Spectral-Segmentation/data/object-segmentation/ECSSD/features/dino_vits16/0357.pth\n",
      "0357\n",
      "tanh_feats.shape= torch.Size([475, 384])\n",
      "W_feat_ds.shape= torch.Size([475, 475])\n",
      "W_feat_hist_pearsoncorr.shape= torch.Size([475, 475])\n",
      "<class 'torch.Tensor'>\n"
     ]
    },
    {
     "name": "stderr",
     "output_type": "stream",
     "text": [
      " 36%|███▌      | 357/1000 [10:21:12<20:02:13, 112.18s/it]"
     ]
    },
    {
     "name": "stdout",
     "output_type": "stream",
     "text": [
      "eigenvalues shape torch.Size([5]) eigenvectors shape torch.Size([5, 400])\n",
      "357 /home/phdcs2/Hard_Disk/Datasets/Deep-Spectral-Segmentation/data/object-segmentation/ECSSD/features/dino_vits16/0358.pth\n",
      "0358\n",
      "tanh_feats.shape= torch.Size([400, 384])\n",
      "W_feat_ds.shape= torch.Size([400, 400])\n",
      "W_feat_hist_pearsoncorr.shape= torch.Size([400, 400])\n",
      "<class 'torch.Tensor'>\n"
     ]
    },
    {
     "name": "stderr",
     "output_type": "stream",
     "text": [
      " 36%|███▌      | 358/1000 [10:22:35<18:28:48, 103.63s/it]"
     ]
    },
    {
     "name": "stdout",
     "output_type": "stream",
     "text": [
      "eigenvalues shape torch.Size([5]) eigenvectors shape torch.Size([5, 400])\n",
      "358 /home/phdcs2/Hard_Disk/Datasets/Deep-Spectral-Segmentation/data/object-segmentation/ECSSD/features/dino_vits16/0359.pth\n",
      "0359\n",
      "tanh_feats.shape= torch.Size([350, 384])\n",
      "W_feat_ds.shape= torch.Size([350, 350])\n",
      "W_feat_hist_pearsoncorr.shape= torch.Size([350, 350])\n",
      "<class 'torch.Tensor'>\n"
     ]
    },
    {
     "name": "stderr",
     "output_type": "stream",
     "text": [
      " 36%|███▌      | 359/1000 [10:23:38<16:14:29, 91.22s/it] "
     ]
    },
    {
     "name": "stdout",
     "output_type": "stream",
     "text": [
      "eigenvalues shape torch.Size([5]) eigenvectors shape torch.Size([5, 400])\n",
      "359 /home/phdcs2/Hard_Disk/Datasets/Deep-Spectral-Segmentation/data/object-segmentation/ECSSD/features/dino_vits16/0360.pth\n",
      "0360\n",
      "tanh_feats.shape= torch.Size([400, 384])\n",
      "W_feat_ds.shape= torch.Size([400, 400])\n",
      "W_feat_hist_pearsoncorr.shape= torch.Size([400, 400])\n",
      "<class 'torch.Tensor'>\n"
     ]
    },
    {
     "name": "stderr",
     "output_type": "stream",
     "text": [
      " 36%|███▌      | 360/1000 [10:24:59<15:41:37, 88.28s/it]"
     ]
    },
    {
     "name": "stdout",
     "output_type": "stream",
     "text": [
      "eigenvalues shape torch.Size([5]) eigenvectors shape torch.Size([5, 400])\n",
      "360 /home/phdcs2/Hard_Disk/Datasets/Deep-Spectral-Segmentation/data/object-segmentation/ECSSD/features/dino_vits16/0361.pth\n",
      "0361\n",
      "tanh_feats.shape= torch.Size([400, 384])\n"
     ]
    },
    {
     "name": "stderr",
     "output_type": "stream",
     "text": [
      " 36%|███▌      | 361/1000 [10:26:20<15:17:44, 86.17s/it]"
     ]
    },
    {
     "name": "stdout",
     "output_type": "stream",
     "text": [
      "W_feat_ds.shape= torch.Size([400, 400])\n",
      "W_feat_hist_pearsoncorr.shape= torch.Size([400, 400])\n",
      "<class 'torch.Tensor'>\n",
      "eigenvalues shape torch.Size([5]) eigenvectors shape torch.Size([5, 400])\n",
      "361 /home/phdcs2/Hard_Disk/Datasets/Deep-Spectral-Segmentation/data/object-segmentation/ECSSD/features/dino_vits16/0362.pth\n",
      "0362\n",
      "tanh_feats.shape= torch.Size([500, 384])\n"
     ]
    },
    {
     "name": "stderr",
     "output_type": "stream",
     "text": [
      " 36%|███▌      | 362/1000 [10:28:28<17:28:29, 98.60s/it]"
     ]
    },
    {
     "name": "stdout",
     "output_type": "stream",
     "text": [
      "W_feat_ds.shape= torch.Size([500, 500])\n",
      "W_feat_hist_pearsoncorr.shape= torch.Size([500, 500])\n",
      "<class 'torch.Tensor'>\n",
      "eigenvalues shape torch.Size([5]) eigenvectors shape torch.Size([5, 400])\n",
      "362 /home/phdcs2/Hard_Disk/Datasets/Deep-Spectral-Segmentation/data/object-segmentation/ECSSD/features/dino_vits16/0363.pth\n",
      "0363\n",
      "tanh_feats.shape= torch.Size([625, 384])\n",
      "W_feat_ds.shape= torch.Size([625, 625])\n",
      "W_feat_hist_pearsoncorr.shape= torch.Size([625, 625])\n",
      "<class 'torch.Tensor'>\n"
     ]
    },
    {
     "name": "stderr",
     "output_type": "stream",
     "text": [
      " 36%|███▋      | 363/1000 [10:31:48<22:51:25, 129.18s/it]"
     ]
    },
    {
     "name": "stdout",
     "output_type": "stream",
     "text": [
      "eigenvalues shape torch.Size([5]) eigenvectors shape torch.Size([5, 400])\n",
      "363 /home/phdcs2/Hard_Disk/Datasets/Deep-Spectral-Segmentation/data/object-segmentation/ECSSD/features/dino_vits16/0364.pth\n",
      "0364\n",
      "tanh_feats.shape= torch.Size([450, 384])\n"
     ]
    },
    {
     "name": "stderr",
     "output_type": "stream",
     "text": [
      " 36%|███▋      | 364/1000 [10:33:33<21:30:05, 121.71s/it]"
     ]
    },
    {
     "name": "stdout",
     "output_type": "stream",
     "text": [
      "W_feat_ds.shape= torch.Size([450, 450])\n",
      "W_feat_hist_pearsoncorr.shape= torch.Size([450, 450])\n",
      "<class 'torch.Tensor'>\n",
      "eigenvalues shape torch.Size([5]) eigenvectors shape torch.Size([5, 400])\n",
      "364 /home/phdcs2/Hard_Disk/Datasets/Deep-Spectral-Segmentation/data/object-segmentation/ECSSD/features/dino_vits16/0365.pth\n",
      "0365\n",
      "tanh_feats.shape= torch.Size([450, 384])\n"
     ]
    },
    {
     "name": "stderr",
     "output_type": "stream",
     "text": [
      " 36%|███▋      | 365/1000 [10:35:17<20:32:46, 116.48s/it]"
     ]
    },
    {
     "name": "stdout",
     "output_type": "stream",
     "text": [
      "W_feat_ds.shape= torch.Size([450, 450])\n",
      "W_feat_hist_pearsoncorr.shape= torch.Size([450, 450])\n",
      "<class 'torch.Tensor'>\n",
      "eigenvalues shape torch.Size([5]) eigenvectors shape torch.Size([5, 400])\n",
      "365 /home/phdcs2/Hard_Disk/Datasets/Deep-Spectral-Segmentation/data/object-segmentation/ECSSD/features/dino_vits16/0366.pth\n",
      "0366\n",
      "tanh_feats.shape= torch.Size([500, 384])\n",
      "W_feat_ds.shape= torch.Size([500, 500])\n",
      "W_feat_hist_pearsoncorr.shape= torch.Size([500, 500])\n",
      "<class 'torch.Tensor'>\n"
     ]
    },
    {
     "name": "stderr",
     "output_type": "stream",
     "text": [
      " 37%|███▋      | 366/1000 [10:37:24<21:03:39, 119.59s/it]"
     ]
    },
    {
     "name": "stdout",
     "output_type": "stream",
     "text": [
      "eigenvalues shape torch.Size([5]) eigenvectors shape torch.Size([5, 400])\n",
      "366 /home/phdcs2/Hard_Disk/Datasets/Deep-Spectral-Segmentation/data/object-segmentation/ECSSD/features/dino_vits16/0367.pth\n",
      "0367\n",
      "tanh_feats.shape= torch.Size([400, 384])\n",
      "W_feat_ds.shape= torch.Size([400, 400])\n",
      "W_feat_hist_pearsoncorr.shape= torch.Size([400, 400])\n",
      "<class 'torch.Tensor'>\n"
     ]
    },
    {
     "name": "stderr",
     "output_type": "stream",
     "text": [
      " 37%|███▋      | 367/1000 [10:38:46<19:04:20, 108.47s/it]"
     ]
    },
    {
     "name": "stdout",
     "output_type": "stream",
     "text": [
      "eigenvalues shape torch.Size([5]) eigenvectors shape torch.Size([5, 400])\n",
      "367 /home/phdcs2/Hard_Disk/Datasets/Deep-Spectral-Segmentation/data/object-segmentation/ECSSD/features/dino_vits16/0368.pth\n",
      "0368\n",
      "tanh_feats.shape= torch.Size([400, 384])\n",
      "W_feat_ds.shape= torch.Size([400, 400])\n",
      "W_feat_hist_pearsoncorr.shape= torch.Size([400, 400])\n",
      "<class 'torch.Tensor'>\n"
     ]
    },
    {
     "name": "stderr",
     "output_type": "stream",
     "text": [
      " 37%|███▋      | 368/1000 [10:40:10<17:43:24, 100.96s/it]"
     ]
    },
    {
     "name": "stdout",
     "output_type": "stream",
     "text": [
      "eigenvalues shape torch.Size([5]) eigenvectors shape torch.Size([5, 400])\n",
      "368 /home/phdcs2/Hard_Disk/Datasets/Deep-Spectral-Segmentation/data/object-segmentation/ECSSD/features/dino_vits16/0369.pth\n",
      "0369\n",
      "tanh_feats.shape= torch.Size([400, 384])\n",
      "W_feat_ds.shape= torch.Size([400, 400])\n",
      "W_feat_hist_pearsoncorr.shape= torch.Size([400, 400])\n",
      "<class 'torch.Tensor'>\n"
     ]
    },
    {
     "name": "stderr",
     "output_type": "stream",
     "text": [
      " 37%|███▋      | 369/1000 [10:41:32<16:42:21, 95.31s/it] "
     ]
    },
    {
     "name": "stdout",
     "output_type": "stream",
     "text": [
      "eigenvalues shape torch.Size([5]) eigenvectors shape torch.Size([5, 400])\n",
      "369 /home/phdcs2/Hard_Disk/Datasets/Deep-Spectral-Segmentation/data/object-segmentation/ECSSD/features/dino_vits16/0370.pth\n",
      "0370\n",
      "tanh_feats.shape= torch.Size([600, 384])\n",
      "W_feat_ds.shape= torch.Size([600, 600])\n",
      "W_feat_hist_pearsoncorr.shape= torch.Size([600, 600])\n",
      "<class 'torch.Tensor'>\n"
     ]
    },
    {
     "name": "stderr",
     "output_type": "stream",
     "text": [
      " 37%|███▋      | 370/1000 [10:44:37<21:23:00, 122.19s/it]"
     ]
    },
    {
     "name": "stdout",
     "output_type": "stream",
     "text": [
      "eigenvalues shape torch.Size([5]) eigenvectors shape torch.Size([5, 400])\n",
      "370 /home/phdcs2/Hard_Disk/Datasets/Deep-Spectral-Segmentation/data/object-segmentation/ECSSD/features/dino_vits16/0371.pth\n",
      "0371\n",
      "tanh_feats.shape= torch.Size([550, 384])\n",
      "W_feat_ds.shape= torch.Size([550, 550])\n",
      "W_feat_hist_pearsoncorr.shape= torch.Size([550, 550])\n",
      "<class 'torch.Tensor'>\n"
     ]
    },
    {
     "name": "stderr",
     "output_type": "stream",
     "text": [
      " 37%|███▋      | 371/1000 [10:47:14<23:09:56, 132.59s/it]"
     ]
    },
    {
     "name": "stdout",
     "output_type": "stream",
     "text": [
      "eigenvalues shape torch.Size([5]) eigenvectors shape torch.Size([5, 400])\n",
      "371 /home/phdcs2/Hard_Disk/Datasets/Deep-Spectral-Segmentation/data/object-segmentation/ECSSD/features/dino_vits16/0372.pth\n",
      "0372\n",
      "tanh_feats.shape= torch.Size([600, 384])\n"
     ]
    },
    {
     "name": "stderr",
     "output_type": "stream",
     "text": [
      " 37%|███▋      | 372/1000 [10:50:18<25:49:43, 148.06s/it]"
     ]
    },
    {
     "name": "stdout",
     "output_type": "stream",
     "text": [
      "W_feat_ds.shape= torch.Size([600, 600])\n",
      "W_feat_hist_pearsoncorr.shape= torch.Size([600, 600])\n",
      "<class 'torch.Tensor'>\n",
      "eigenvalues shape torch.Size([5]) eigenvectors shape torch.Size([5, 400])\n",
      "372 /home/phdcs2/Hard_Disk/Datasets/Deep-Spectral-Segmentation/data/object-segmentation/ECSSD/features/dino_vits16/0373.pth\n",
      "0373\n",
      "tanh_feats.shape= torch.Size([400, 384])\n",
      "W_feat_ds.shape= torch.Size([400, 400])\n",
      "W_feat_hist_pearsoncorr.shape= torch.Size([400, 400])\n",
      "<class 'torch.Tensor'>\n"
     ]
    },
    {
     "name": "stderr",
     "output_type": "stream",
     "text": [
      " 37%|███▋      | 373/1000 [10:51:40<22:19:03, 128.14s/it]"
     ]
    },
    {
     "name": "stdout",
     "output_type": "stream",
     "text": [
      "eigenvalues shape torch.Size([5]) eigenvectors shape torch.Size([5, 400])\n",
      "373 /home/phdcs2/Hard_Disk/Datasets/Deep-Spectral-Segmentation/data/object-segmentation/ECSSD/features/dino_vits16/0374.pth\n",
      "0374\n",
      "tanh_feats.shape= torch.Size([450, 384])\n"
     ]
    },
    {
     "name": "stderr",
     "output_type": "stream",
     "text": [
      " 37%|███▋      | 374/1000 [10:53:24<21:01:24, 120.90s/it]"
     ]
    },
    {
     "name": "stdout",
     "output_type": "stream",
     "text": [
      "W_feat_ds.shape= torch.Size([450, 450])\n",
      "W_feat_hist_pearsoncorr.shape= torch.Size([450, 450])\n",
      "<class 'torch.Tensor'>\n",
      "eigenvalues shape torch.Size([5]) eigenvectors shape torch.Size([5, 400])\n",
      "374 /home/phdcs2/Hard_Disk/Datasets/Deep-Spectral-Segmentation/data/object-segmentation/ECSSD/features/dino_vits16/0375.pth\n",
      "0375\n",
      "tanh_feats.shape= torch.Size([475, 384])\n",
      "W_feat_ds.shape= torch.Size([475, 475])\n",
      "W_feat_hist_pearsoncorr.shape= torch.Size([475, 475])\n",
      "<class 'torch.Tensor'>\n"
     ]
    },
    {
     "name": "stderr",
     "output_type": "stream",
     "text": [
      " 38%|███▊      | 375/1000 [10:55:20<20:44:12, 119.44s/it]"
     ]
    },
    {
     "name": "stdout",
     "output_type": "stream",
     "text": [
      "eigenvalues shape torch.Size([5]) eigenvectors shape torch.Size([5, 400])\n",
      "375 /home/phdcs2/Hard_Disk/Datasets/Deep-Spectral-Segmentation/data/object-segmentation/ECSSD/features/dino_vits16/0376.pth\n",
      "0376\n",
      "tanh_feats.shape= torch.Size([625, 384])\n"
     ]
    },
    {
     "name": "stderr",
     "output_type": "stream",
     "text": [
      " 38%|███▊      | 376/1000 [10:58:41<24:57:10, 143.96s/it]"
     ]
    },
    {
     "name": "stdout",
     "output_type": "stream",
     "text": [
      "W_feat_ds.shape= torch.Size([625, 625])\n",
      "W_feat_hist_pearsoncorr.shape= torch.Size([625, 625])\n",
      "<class 'torch.Tensor'>\n",
      "eigenvalues shape torch.Size([5]) eigenvectors shape torch.Size([5, 400])\n",
      "376 /home/phdcs2/Hard_Disk/Datasets/Deep-Spectral-Segmentation/data/object-segmentation/ECSSD/features/dino_vits16/0377.pth\n",
      "0377\n",
      "tanh_feats.shape= torch.Size([400, 384])\n",
      "W_feat_ds.shape= torch.Size([400, 400])\n",
      "W_feat_hist_pearsoncorr.shape= torch.Size([400, 400])\n",
      "<class 'torch.Tensor'>\n"
     ]
    },
    {
     "name": "stderr",
     "output_type": "stream",
     "text": [
      " 38%|███▊      | 377/1000 [11:00:03<21:42:53, 125.48s/it]"
     ]
    },
    {
     "name": "stdout",
     "output_type": "stream",
     "text": [
      "eigenvalues shape torch.Size([5]) eigenvectors shape torch.Size([5, 400])\n",
      "377 /home/phdcs2/Hard_Disk/Datasets/Deep-Spectral-Segmentation/data/object-segmentation/ECSSD/features/dino_vits16/0378.pth\n",
      "0378\n",
      "tanh_feats.shape= torch.Size([450, 384])\n",
      "W_feat_ds.shape= torch.Size([450, 450])\n",
      "W_feat_hist_pearsoncorr.shape= torch.Size([450, 450])\n",
      "<class 'torch.Tensor'>\n"
     ]
    },
    {
     "name": "stderr",
     "output_type": "stream",
     "text": [
      " 38%|███▊      | 378/1000 [11:01:47<20:34:07, 119.05s/it]"
     ]
    },
    {
     "name": "stdout",
     "output_type": "stream",
     "text": [
      "eigenvalues shape torch.Size([5]) eigenvectors shape torch.Size([5, 400])\n",
      "378 /home/phdcs2/Hard_Disk/Datasets/Deep-Spectral-Segmentation/data/object-segmentation/ECSSD/features/dino_vits16/0379.pth\n",
      "0379\n",
      "tanh_feats.shape= torch.Size([450, 384])\n",
      "W_feat_ds.shape= torch.Size([450, 450])\n",
      "W_feat_hist_pearsoncorr.shape= torch.Size([450, 450])\n",
      "<class 'torch.Tensor'>\n"
     ]
    },
    {
     "name": "stderr",
     "output_type": "stream",
     "text": [
      " 38%|███▊      | 379/1000 [11:03:31<19:45:02, 114.50s/it]"
     ]
    },
    {
     "name": "stdout",
     "output_type": "stream",
     "text": [
      "eigenvalues shape torch.Size([5]) eigenvectors shape torch.Size([5, 400])\n",
      "379 /home/phdcs2/Hard_Disk/Datasets/Deep-Spectral-Segmentation/data/object-segmentation/ECSSD/features/dino_vits16/0380.pth\n",
      "0380\n",
      "tanh_feats.shape= torch.Size([425, 384])\n",
      "W_feat_ds.shape= torch.Size([425, 425])\n",
      "W_feat_hist_pearsoncorr.shape= torch.Size([425, 425])\n",
      "<class 'torch.Tensor'>\n"
     ]
    },
    {
     "name": "stderr",
     "output_type": "stream",
     "text": [
      " 38%|███▊      | 380/1000 [11:05:05<18:38:55, 108.28s/it]"
     ]
    },
    {
     "name": "stdout",
     "output_type": "stream",
     "text": [
      "eigenvalues shape torch.Size([5]) eigenvectors shape torch.Size([5, 400])\n",
      "380 /home/phdcs2/Hard_Disk/Datasets/Deep-Spectral-Segmentation/data/object-segmentation/ECSSD/features/dino_vits16/0381.pth\n",
      "0381\n",
      "tanh_feats.shape= torch.Size([450, 384])\n",
      "W_feat_ds.shape= torch.Size([450, 450])\n",
      "W_feat_hist_pearsoncorr.shape= torch.Size([450, 450])\n",
      "<class 'torch.Tensor'>\n"
     ]
    },
    {
     "name": "stderr",
     "output_type": "stream",
     "text": [
      " 38%|███▊      | 381/1000 [11:06:49<18:24:44, 107.08s/it]"
     ]
    },
    {
     "name": "stdout",
     "output_type": "stream",
     "text": [
      "eigenvalues shape torch.Size([5]) eigenvectors shape torch.Size([5, 400])\n",
      "381 /home/phdcs2/Hard_Disk/Datasets/Deep-Spectral-Segmentation/data/object-segmentation/ECSSD/features/dino_vits16/0382.pth\n",
      "0382\n",
      "tanh_feats.shape= torch.Size([425, 384])\n"
     ]
    },
    {
     "name": "stderr",
     "output_type": "stream",
     "text": [
      " 38%|███▊      | 382/1000 [11:08:23<17:41:24, 103.05s/it]"
     ]
    },
    {
     "name": "stdout",
     "output_type": "stream",
     "text": [
      "W_feat_ds.shape= torch.Size([425, 425])\n",
      "W_feat_hist_pearsoncorr.shape= torch.Size([425, 425])\n",
      "<class 'torch.Tensor'>\n",
      "eigenvalues shape torch.Size([5]) eigenvectors shape torch.Size([5, 400])\n",
      "382 /home/phdcs2/Hard_Disk/Datasets/Deep-Spectral-Segmentation/data/object-segmentation/ECSSD/features/dino_vits16/0383.pth\n",
      "0383\n",
      "tanh_feats.shape= torch.Size([350, 384])\n",
      "W_feat_ds.shape= torch.Size([350, 350])\n",
      "W_feat_hist_pearsoncorr.shape= torch.Size([350, 350])\n",
      "<class 'torch.Tensor'>\n"
     ]
    },
    {
     "name": "stderr",
     "output_type": "stream",
     "text": [
      " 38%|███▊      | 383/1000 [11:09:26<15:37:10, 91.13s/it] "
     ]
    },
    {
     "name": "stdout",
     "output_type": "stream",
     "text": [
      "eigenvalues shape torch.Size([5]) eigenvectors shape torch.Size([5, 400])\n",
      "383 /home/phdcs2/Hard_Disk/Datasets/Deep-Spectral-Segmentation/data/object-segmentation/ECSSD/features/dino_vits16/0384.pth\n",
      "0384\n",
      "tanh_feats.shape= torch.Size([475, 384])\n",
      "W_feat_ds.shape= torch.Size([475, 475])\n",
      "W_feat_hist_pearsoncorr.shape= torch.Size([475, 475])\n",
      "<class 'torch.Tensor'>\n"
     ]
    },
    {
     "name": "stderr",
     "output_type": "stream",
     "text": [
      " 38%|███▊      | 384/1000 [11:11:21<16:49:07, 98.29s/it]"
     ]
    },
    {
     "name": "stdout",
     "output_type": "stream",
     "text": [
      "eigenvalues shape torch.Size([5]) eigenvectors shape torch.Size([5, 400])\n",
      "384 /home/phdcs2/Hard_Disk/Datasets/Deep-Spectral-Segmentation/data/object-segmentation/ECSSD/features/dino_vits16/0385.pth\n",
      "0385\n",
      "tanh_feats.shape= torch.Size([600, 384])\n",
      "W_feat_ds.shape= torch.Size([600, 600])\n",
      "W_feat_hist_pearsoncorr.shape= torch.Size([600, 600])\n",
      "<class 'torch.Tensor'>\n"
     ]
    },
    {
     "name": "stderr",
     "output_type": "stream",
     "text": [
      " 38%|███▊      | 385/1000 [11:14:24<21:09:15, 123.83s/it]"
     ]
    },
    {
     "name": "stdout",
     "output_type": "stream",
     "text": [
      "eigenvalues shape torch.Size([5]) eigenvectors shape torch.Size([5, 400])\n",
      "385 /home/phdcs2/Hard_Disk/Datasets/Deep-Spectral-Segmentation/data/object-segmentation/ECSSD/features/dino_vits16/0386.pth\n",
      "0386\n",
      "tanh_feats.shape= torch.Size([400, 384])\n",
      "W_feat_ds.shape= torch.Size([400, 400])\n",
      "W_feat_hist_pearsoncorr.shape= torch.Size([400, 400])\n",
      "<class 'torch.Tensor'>\n"
     ]
    },
    {
     "name": "stderr",
     "output_type": "stream",
     "text": [
      " 39%|███▊      | 386/1000 [11:15:46<18:57:19, 111.14s/it]"
     ]
    },
    {
     "name": "stdout",
     "output_type": "stream",
     "text": [
      "eigenvalues shape torch.Size([5]) eigenvectors shape torch.Size([5, 400])\n",
      "386 /home/phdcs2/Hard_Disk/Datasets/Deep-Spectral-Segmentation/data/object-segmentation/ECSSD/features/dino_vits16/0387.pth\n",
      "0387\n",
      "tanh_feats.shape= torch.Size([450, 384])\n"
     ]
    },
    {
     "name": "stderr",
     "output_type": "stream",
     "text": [
      " 39%|███▊      | 387/1000 [11:17:30<18:32:52, 108.93s/it]"
     ]
    },
    {
     "name": "stdout",
     "output_type": "stream",
     "text": [
      "W_feat_ds.shape= torch.Size([450, 450])\n",
      "W_feat_hist_pearsoncorr.shape= torch.Size([450, 450])\n",
      "<class 'torch.Tensor'>\n",
      "eigenvalues shape torch.Size([5]) eigenvectors shape torch.Size([5, 400])\n",
      "387 /home/phdcs2/Hard_Disk/Datasets/Deep-Spectral-Segmentation/data/object-segmentation/ECSSD/features/dino_vits16/0388.pth\n",
      "0388\n",
      "tanh_feats.shape= torch.Size([500, 384])\n",
      "W_feat_ds.shape= torch.Size([500, 500])\n",
      "W_feat_hist_pearsoncorr.shape= torch.Size([500, 500])\n",
      "<class 'torch.Tensor'>\n"
     ]
    },
    {
     "name": "stderr",
     "output_type": "stream",
     "text": [
      " 39%|███▉      | 388/1000 [11:19:39<19:32:36, 114.96s/it]"
     ]
    },
    {
     "name": "stdout",
     "output_type": "stream",
     "text": [
      "eigenvalues shape torch.Size([5]) eigenvectors shape torch.Size([5, 400])\n",
      "388 /home/phdcs2/Hard_Disk/Datasets/Deep-Spectral-Segmentation/data/object-segmentation/ECSSD/features/dino_vits16/0389.pth\n",
      "0389\n",
      "tanh_feats.shape= torch.Size([450, 384])\n"
     ]
    },
    {
     "name": "stderr",
     "output_type": "stream",
     "text": [
      " 39%|███▉      | 389/1000 [11:21:22<18:55:52, 111.54s/it]"
     ]
    },
    {
     "name": "stdout",
     "output_type": "stream",
     "text": [
      "W_feat_ds.shape= torch.Size([450, 450])\n",
      "W_feat_hist_pearsoncorr.shape= torch.Size([450, 450])\n",
      "<class 'torch.Tensor'>\n",
      "eigenvalues shape torch.Size([5]) eigenvectors shape torch.Size([5, 400])\n",
      "389 /home/phdcs2/Hard_Disk/Datasets/Deep-Spectral-Segmentation/data/object-segmentation/ECSSD/features/dino_vits16/0390.pth\n",
      "0390\n",
      "tanh_feats.shape= torch.Size([450, 384])\n",
      "W_feat_ds.shape= torch.Size([450, 450])\n",
      "W_feat_hist_pearsoncorr.shape= torch.Size([450, 450])\n",
      "<class 'torch.Tensor'>\n"
     ]
    },
    {
     "name": "stderr",
     "output_type": "stream",
     "text": [
      " 39%|███▉      | 390/1000 [11:23:08<18:35:25, 109.71s/it]"
     ]
    },
    {
     "name": "stdout",
     "output_type": "stream",
     "text": [
      "eigenvalues shape torch.Size([5]) eigenvectors shape torch.Size([5, 400])\n",
      "390 /home/phdcs2/Hard_Disk/Datasets/Deep-Spectral-Segmentation/data/object-segmentation/ECSSD/features/dino_vits16/0391.pth\n",
      "0391\n",
      "tanh_feats.shape= torch.Size([400, 384])\n",
      "W_feat_ds.shape= torch.Size([400, 400])\n",
      "W_feat_hist_pearsoncorr.shape= torch.Size([400, 400])\n",
      "<class 'torch.Tensor'>\n"
     ]
    },
    {
     "name": "stderr",
     "output_type": "stream",
     "text": [
      " 39%|███▉      | 391/1000 [11:24:30<17:10:30, 101.53s/it]"
     ]
    },
    {
     "name": "stdout",
     "output_type": "stream",
     "text": [
      "eigenvalues shape torch.Size([5]) eigenvectors shape torch.Size([5, 400])\n",
      "391 /home/phdcs2/Hard_Disk/Datasets/Deep-Spectral-Segmentation/data/object-segmentation/ECSSD/features/dino_vits16/0392.pth\n",
      "0392\n",
      "tanh_feats.shape= torch.Size([400, 384])\n",
      "W_feat_ds.shape= torch.Size([400, 400])\n",
      "W_feat_hist_pearsoncorr.shape= torch.Size([400, 400])\n",
      "<class 'torch.Tensor'>\n"
     ]
    },
    {
     "name": "stderr",
     "output_type": "stream",
     "text": [
      " 39%|███▉      | 392/1000 [11:25:53<16:11:09, 95.84s/it] "
     ]
    },
    {
     "name": "stdout",
     "output_type": "stream",
     "text": [
      "eigenvalues shape torch.Size([5]) eigenvectors shape torch.Size([5, 400])\n",
      "392 /home/phdcs2/Hard_Disk/Datasets/Deep-Spectral-Segmentation/data/object-segmentation/ECSSD/features/dino_vits16/0393.pth\n",
      "0393\n",
      "tanh_feats.shape= torch.Size([400, 384])\n",
      "W_feat_ds.shape= torch.Size([400, 400])\n",
      "W_feat_hist_pearsoncorr.shape= torch.Size([400, 400])\n",
      "<class 'torch.Tensor'>\n"
     ]
    },
    {
     "name": "stderr",
     "output_type": "stream",
     "text": [
      " 39%|███▉      | 393/1000 [11:27:15<15:28:41, 91.80s/it]"
     ]
    },
    {
     "name": "stdout",
     "output_type": "stream",
     "text": [
      "eigenvalues shape torch.Size([5]) eigenvectors shape torch.Size([5, 400])\n",
      "393 /home/phdcs2/Hard_Disk/Datasets/Deep-Spectral-Segmentation/data/object-segmentation/ECSSD/features/dino_vits16/0394.pth\n",
      "0394\n",
      "tanh_feats.shape= torch.Size([400, 384])\n",
      "W_feat_ds.shape= torch.Size([400, 400])\n",
      "W_feat_hist_pearsoncorr.shape= torch.Size([400, 400])\n",
      "<class 'torch.Tensor'>\n"
     ]
    },
    {
     "name": "stderr",
     "output_type": "stream",
     "text": [
      " 39%|███▉      | 394/1000 [11:28:37<14:56:13, 88.74s/it]"
     ]
    },
    {
     "name": "stdout",
     "output_type": "stream",
     "text": [
      "eigenvalues shape torch.Size([5]) eigenvectors shape torch.Size([5, 400])\n",
      "394 /home/phdcs2/Hard_Disk/Datasets/Deep-Spectral-Segmentation/data/object-segmentation/ECSSD/features/dino_vits16/0395.pth\n",
      "0395\n",
      "tanh_feats.shape= torch.Size([400, 384])\n",
      "W_feat_ds.shape= torch.Size([400, 400])\n",
      "W_feat_hist_pearsoncorr.shape= torch.Size([400, 400])\n",
      "<class 'torch.Tensor'>\n"
     ]
    },
    {
     "name": "stderr",
     "output_type": "stream",
     "text": [
      " 40%|███▉      | 395/1000 [11:29:58<14:33:03, 86.58s/it]"
     ]
    },
    {
     "name": "stdout",
     "output_type": "stream",
     "text": [
      "eigenvalues shape torch.Size([5]) eigenvectors shape torch.Size([5, 400])\n",
      "395 /home/phdcs2/Hard_Disk/Datasets/Deep-Spectral-Segmentation/data/object-segmentation/ECSSD/features/dino_vits16/0396.pth\n",
      "0396\n",
      "tanh_feats.shape= torch.Size([450, 384])\n",
      "W_feat_ds.shape= torch.Size([450, 450])\n",
      "W_feat_hist_pearsoncorr.shape= torch.Size([450, 450])\n",
      "<class 'torch.Tensor'>\n"
     ]
    },
    {
     "name": "stderr",
     "output_type": "stream",
     "text": [
      " 40%|███▉      | 396/1000 [11:31:43<15:26:42, 92.06s/it]"
     ]
    },
    {
     "name": "stdout",
     "output_type": "stream",
     "text": [
      "eigenvalues shape torch.Size([5]) eigenvectors shape torch.Size([5, 400])\n",
      "396 /home/phdcs2/Hard_Disk/Datasets/Deep-Spectral-Segmentation/data/object-segmentation/ECSSD/features/dino_vits16/0397.pth\n",
      "0397\n",
      "tanh_feats.shape= torch.Size([400, 384])\n",
      "W_feat_ds.shape= torch.Size([400, 400])\n",
      "W_feat_hist_pearsoncorr.shape= torch.Size([400, 400])\n",
      "<class 'torch.Tensor'>\n"
     ]
    },
    {
     "name": "stderr",
     "output_type": "stream",
     "text": [
      " 40%|███▉      | 397/1000 [11:33:06<14:57:00, 89.25s/it]"
     ]
    },
    {
     "name": "stdout",
     "output_type": "stream",
     "text": [
      "eigenvalues shape torch.Size([5]) eigenvectors shape torch.Size([5, 400])\n",
      "397 /home/phdcs2/Hard_Disk/Datasets/Deep-Spectral-Segmentation/data/object-segmentation/ECSSD/features/dino_vits16/0398.pth\n",
      "0398\n",
      "tanh_feats.shape= torch.Size([400, 384])\n"
     ]
    },
    {
     "name": "stderr",
     "output_type": "stream",
     "text": [
      " 40%|███▉      | 398/1000 [11:34:28<14:34:24, 87.15s/it]"
     ]
    },
    {
     "name": "stdout",
     "output_type": "stream",
     "text": [
      "W_feat_ds.shape= torch.Size([400, 400])\n",
      "W_feat_hist_pearsoncorr.shape= torch.Size([400, 400])\n",
      "<class 'torch.Tensor'>\n",
      "eigenvalues shape torch.Size([5]) eigenvectors shape torch.Size([5, 400])\n",
      "398 /home/phdcs2/Hard_Disk/Datasets/Deep-Spectral-Segmentation/data/object-segmentation/ECSSD/features/dino_vits16/0399.pth\n",
      "0399\n",
      "tanh_feats.shape= torch.Size([400, 384])\n",
      "W_feat_ds.shape= torch.Size([400, 400])\n",
      "W_feat_hist_pearsoncorr.shape= torch.Size([400, 400])\n",
      "<class 'torch.Tensor'>\n"
     ]
    },
    {
     "name": "stderr",
     "output_type": "stream",
     "text": [
      " 40%|███▉      | 399/1000 [11:35:50<14:18:19, 85.69s/it]"
     ]
    },
    {
     "name": "stdout",
     "output_type": "stream",
     "text": [
      "eigenvalues shape torch.Size([5]) eigenvectors shape torch.Size([5, 400])\n",
      "399 /home/phdcs2/Hard_Disk/Datasets/Deep-Spectral-Segmentation/data/object-segmentation/ECSSD/features/dino_vits16/0400.pth\n",
      "0400\n",
      "tanh_feats.shape= torch.Size([400, 384])\n"
     ]
    },
    {
     "name": "stderr",
     "output_type": "stream",
     "text": [
      " 40%|████      | 400/1000 [11:37:13<14:07:16, 84.73s/it]"
     ]
    },
    {
     "name": "stdout",
     "output_type": "stream",
     "text": [
      "W_feat_ds.shape= torch.Size([400, 400])\n",
      "W_feat_hist_pearsoncorr.shape= torch.Size([400, 400])\n",
      "<class 'torch.Tensor'>\n",
      "eigenvalues shape torch.Size([5]) eigenvectors shape torch.Size([5, 400])\n",
      "400 /home/phdcs2/Hard_Disk/Datasets/Deep-Spectral-Segmentation/data/object-segmentation/ECSSD/features/dino_vits16/0401.pth\n",
      "0401\n",
      "tanh_feats.shape= torch.Size([400, 384])\n",
      "W_feat_ds.shape= torch.Size([400, 400])\n",
      "W_feat_hist_pearsoncorr.shape= torch.Size([400, 400])\n",
      "<class 'torch.Tensor'>\n"
     ]
    },
    {
     "name": "stderr",
     "output_type": "stream",
     "text": [
      " 40%|████      | 401/1000 [11:38:36<14:01:33, 84.30s/it]"
     ]
    },
    {
     "name": "stdout",
     "output_type": "stream",
     "text": [
      "eigenvalues shape torch.Size([5]) eigenvectors shape torch.Size([5, 400])\n",
      "401 /home/phdcs2/Hard_Disk/Datasets/Deep-Spectral-Segmentation/data/object-segmentation/ECSSD/features/dino_vits16/0402.pth\n",
      "0402\n",
      "tanh_feats.shape= torch.Size([400, 384])\n",
      "W_feat_ds.shape= torch.Size([400, 400])\n",
      "W_feat_hist_pearsoncorr.shape= torch.Size([400, 400])\n",
      "<class 'torch.Tensor'>\n"
     ]
    },
    {
     "name": "stderr",
     "output_type": "stream",
     "text": [
      " 40%|████      | 402/1000 [11:39:59<13:56:19, 83.91s/it]"
     ]
    },
    {
     "name": "stdout",
     "output_type": "stream",
     "text": [
      "eigenvalues shape torch.Size([5]) eigenvectors shape torch.Size([5, 400])\n",
      "402 /home/phdcs2/Hard_Disk/Datasets/Deep-Spectral-Segmentation/data/object-segmentation/ECSSD/features/dino_vits16/0403.pth\n",
      "0403\n",
      "tanh_feats.shape= torch.Size([400, 384])\n",
      "W_feat_ds.shape= torch.Size([400, 400])\n",
      "W_feat_hist_pearsoncorr.shape= torch.Size([400, 400])\n",
      "<class 'torch.Tensor'>\n"
     ]
    },
    {
     "name": "stderr",
     "output_type": "stream",
     "text": [
      " 40%|████      | 403/1000 [11:41:23<13:53:41, 83.79s/it]"
     ]
    },
    {
     "name": "stdout",
     "output_type": "stream",
     "text": [
      "eigenvalues shape torch.Size([5]) eigenvectors shape torch.Size([5, 400])\n",
      "403 /home/phdcs2/Hard_Disk/Datasets/Deep-Spectral-Segmentation/data/object-segmentation/ECSSD/features/dino_vits16/0404.pth\n",
      "0404\n",
      "tanh_feats.shape= torch.Size([400, 384])\n",
      "W_feat_ds.shape= torch.Size([400, 400])\n",
      "W_feat_hist_pearsoncorr.shape= torch.Size([400, 400])\n",
      "<class 'torch.Tensor'>\n"
     ]
    },
    {
     "name": "stderr",
     "output_type": "stream",
     "text": [
      " 40%|████      | 404/1000 [11:42:45<13:48:48, 83.44s/it]"
     ]
    },
    {
     "name": "stdout",
     "output_type": "stream",
     "text": [
      "eigenvalues shape torch.Size([5]) eigenvectors shape torch.Size([5, 400])\n",
      "404 /home/phdcs2/Hard_Disk/Datasets/Deep-Spectral-Segmentation/data/object-segmentation/ECSSD/features/dino_vits16/0405.pth\n",
      "0405\n",
      "tanh_feats.shape= torch.Size([400, 384])\n"
     ]
    },
    {
     "name": "stderr",
     "output_type": "stream",
     "text": [
      " 40%|████      | 405/1000 [11:44:08<13:44:16, 83.12s/it]"
     ]
    },
    {
     "name": "stdout",
     "output_type": "stream",
     "text": [
      "W_feat_ds.shape= torch.Size([400, 400])\n",
      "W_feat_hist_pearsoncorr.shape= torch.Size([400, 400])\n",
      "<class 'torch.Tensor'>\n",
      "eigenvalues shape torch.Size([5]) eigenvectors shape torch.Size([5, 400])\n",
      "405 /home/phdcs2/Hard_Disk/Datasets/Deep-Spectral-Segmentation/data/object-segmentation/ECSSD/features/dino_vits16/0406.pth\n",
      "0406\n",
      "tanh_feats.shape= torch.Size([400, 384])\n",
      "W_feat_ds.shape= torch.Size([400, 400])\n",
      "W_feat_hist_pearsoncorr.shape= torch.Size([400, 400])\n",
      "<class 'torch.Tensor'>\n"
     ]
    },
    {
     "name": "stderr",
     "output_type": "stream",
     "text": [
      " 41%|████      | 406/1000 [11:45:30<13:40:31, 82.88s/it]"
     ]
    },
    {
     "name": "stdout",
     "output_type": "stream",
     "text": [
      "eigenvalues shape torch.Size([5]) eigenvectors shape torch.Size([5, 400])\n",
      "406 /home/phdcs2/Hard_Disk/Datasets/Deep-Spectral-Segmentation/data/object-segmentation/ECSSD/features/dino_vits16/0407.pth\n",
      "0407\n",
      "tanh_feats.shape= torch.Size([400, 384])\n",
      "W_feat_ds.shape= torch.Size([400, 400])\n",
      "W_feat_hist_pearsoncorr.shape= torch.Size([400, 400])\n",
      "<class 'torch.Tensor'>\n"
     ]
    },
    {
     "name": "stderr",
     "output_type": "stream",
     "text": [
      " 41%|████      | 407/1000 [11:46:53<13:40:09, 82.98s/it]"
     ]
    },
    {
     "name": "stdout",
     "output_type": "stream",
     "text": [
      "eigenvalues shape torch.Size([5]) eigenvectors shape torch.Size([5, 400])\n",
      "407 /home/phdcs2/Hard_Disk/Datasets/Deep-Spectral-Segmentation/data/object-segmentation/ECSSD/features/dino_vits16/0408.pth\n",
      "0408\n",
      "tanh_feats.shape= torch.Size([400, 384])\n",
      "W_feat_ds.shape= torch.Size([400, 400])\n",
      "W_feat_hist_pearsoncorr.shape= torch.Size([400, 400])\n",
      "<class 'torch.Tensor'>\n"
     ]
    },
    {
     "name": "stderr",
     "output_type": "stream",
     "text": [
      " 41%|████      | 408/1000 [11:48:16<13:37:26, 82.85s/it]"
     ]
    },
    {
     "name": "stdout",
     "output_type": "stream",
     "text": [
      "eigenvalues shape torch.Size([5]) eigenvectors shape torch.Size([5, 400])\n",
      "408 /home/phdcs2/Hard_Disk/Datasets/Deep-Spectral-Segmentation/data/object-segmentation/ECSSD/features/dino_vits16/0409.pth\n",
      "0409\n",
      "tanh_feats.shape= torch.Size([450, 384])\n",
      "W_feat_ds.shape= torch.Size([450, 450])\n",
      "W_feat_hist_pearsoncorr.shape= torch.Size([450, 450])\n",
      "<class 'torch.Tensor'>\n"
     ]
    },
    {
     "name": "stderr",
     "output_type": "stream",
     "text": [
      " 41%|████      | 409/1000 [11:50:00<14:39:47, 89.32s/it]"
     ]
    },
    {
     "name": "stdout",
     "output_type": "stream",
     "text": [
      "eigenvalues shape torch.Size([5]) eigenvectors shape torch.Size([5, 400])\n",
      "409 /home/phdcs2/Hard_Disk/Datasets/Deep-Spectral-Segmentation/data/object-segmentation/ECSSD/features/dino_vits16/0410.pth\n",
      "0410\n",
      "tanh_feats.shape= torch.Size([325, 384])\n",
      "W_feat_ds.shape= torch.Size([325, 325])\n",
      "W_feat_hist_pearsoncorr.shape= torch.Size([325, 325])\n",
      "<class 'torch.Tensor'>\n"
     ]
    },
    {
     "name": "stderr",
     "output_type": "stream",
     "text": [
      " 41%|████      | 410/1000 [11:50:58<13:04:30, 79.78s/it]"
     ]
    },
    {
     "name": "stdout",
     "output_type": "stream",
     "text": [
      "eigenvalues shape torch.Size([5]) eigenvectors shape torch.Size([5, 400])\n",
      "410 /home/phdcs2/Hard_Disk/Datasets/Deep-Spectral-Segmentation/data/object-segmentation/ECSSD/features/dino_vits16/0411.pth\n",
      "0411\n",
      "tanh_feats.shape= torch.Size([450, 384])\n",
      "W_feat_ds.shape= torch.Size([450, 450])\n",
      "W_feat_hist_pearsoncorr.shape= torch.Size([450, 450])\n",
      "<class 'torch.Tensor'>\n"
     ]
    },
    {
     "name": "stderr",
     "output_type": "stream",
     "text": [
      " 41%|████      | 411/1000 [11:52:49<14:34:44, 89.11s/it]"
     ]
    },
    {
     "name": "stdout",
     "output_type": "stream",
     "text": [
      "eigenvalues shape torch.Size([5]) eigenvectors shape torch.Size([5, 400])\n",
      "411 /home/phdcs2/Hard_Disk/Datasets/Deep-Spectral-Segmentation/data/object-segmentation/ECSSD/features/dino_vits16/0412.pth\n",
      "0412\n",
      "tanh_feats.shape= torch.Size([450, 384])\n",
      "W_feat_ds.shape= torch.Size([450, 450])\n",
      "W_feat_hist_pearsoncorr.shape= torch.Size([450, 450])\n",
      "<class 'torch.Tensor'>\n"
     ]
    },
    {
     "name": "stderr",
     "output_type": "stream",
     "text": [
      " 41%|████      | 412/1000 [11:54:33<15:19:23, 93.81s/it]"
     ]
    },
    {
     "name": "stdout",
     "output_type": "stream",
     "text": [
      "eigenvalues shape torch.Size([5]) eigenvectors shape torch.Size([5, 400])\n",
      "412 /home/phdcs2/Hard_Disk/Datasets/Deep-Spectral-Segmentation/data/object-segmentation/ECSSD/features/dino_vits16/0413.pth\n",
      "0413\n",
      "tanh_feats.shape= torch.Size([450, 384])\n",
      "W_feat_ds.shape= torch.Size([450, 450])\n",
      "W_feat_hist_pearsoncorr.shape= torch.Size([450, 450])\n",
      "<class 'torch.Tensor'>\n"
     ]
    },
    {
     "name": "stderr",
     "output_type": "stream",
     "text": [
      " 41%|████▏     | 413/1000 [11:56:18<15:50:50, 97.19s/it]"
     ]
    },
    {
     "name": "stdout",
     "output_type": "stream",
     "text": [
      "eigenvalues shape torch.Size([5]) eigenvectors shape torch.Size([5, 400])\n",
      "413 /home/phdcs2/Hard_Disk/Datasets/Deep-Spectral-Segmentation/data/object-segmentation/ECSSD/features/dino_vits16/0414.pth\n",
      "0414\n",
      "tanh_feats.shape= torch.Size([450, 384])\n",
      "W_feat_ds.shape= torch.Size([450, 450])\n",
      "W_feat_hist_pearsoncorr.shape= torch.Size([450, 450])\n",
      "<class 'torch.Tensor'>\n"
     ]
    },
    {
     "name": "stderr",
     "output_type": "stream",
     "text": [
      " 41%|████▏     | 414/1000 [11:58:03<16:09:52, 99.30s/it]"
     ]
    },
    {
     "name": "stdout",
     "output_type": "stream",
     "text": [
      "eigenvalues shape torch.Size([5]) eigenvectors shape torch.Size([5, 400])\n",
      "414 /home/phdcs2/Hard_Disk/Datasets/Deep-Spectral-Segmentation/data/object-segmentation/ECSSD/features/dino_vits16/0415.pth\n",
      "0415\n",
      "tanh_feats.shape= torch.Size([450, 384])\n",
      "W_feat_ds.shape= torch.Size([450, 450])\n",
      "W_feat_hist_pearsoncorr.shape= torch.Size([450, 450])\n",
      "<class 'torch.Tensor'>\n"
     ]
    },
    {
     "name": "stderr",
     "output_type": "stream",
     "text": [
      " 42%|████▏     | 415/1000 [11:59:48<16:27:10, 101.25s/it]"
     ]
    },
    {
     "name": "stdout",
     "output_type": "stream",
     "text": [
      "eigenvalues shape torch.Size([5]) eigenvectors shape torch.Size([5, 400])\n",
      "415 /home/phdcs2/Hard_Disk/Datasets/Deep-Spectral-Segmentation/data/object-segmentation/ECSSD/features/dino_vits16/0416.pth\n",
      "0416\n",
      "tanh_feats.shape= torch.Size([450, 384])\n",
      "W_feat_ds.shape= torch.Size([450, 450])\n",
      "W_feat_hist_pearsoncorr.shape= torch.Size([450, 450])\n",
      "<class 'torch.Tensor'>\n"
     ]
    },
    {
     "name": "stderr",
     "output_type": "stream",
     "text": [
      " 42%|████▏     | 416/1000 [12:01:34<16:37:11, 102.45s/it]"
     ]
    },
    {
     "name": "stdout",
     "output_type": "stream",
     "text": [
      "eigenvalues shape torch.Size([5]) eigenvectors shape torch.Size([5, 400])\n",
      "416 /home/phdcs2/Hard_Disk/Datasets/Deep-Spectral-Segmentation/data/object-segmentation/ECSSD/features/dino_vits16/0417.pth\n",
      "0417\n",
      "tanh_feats.shape= torch.Size([450, 384])\n",
      "W_feat_ds.shape= torch.Size([450, 450])\n",
      "W_feat_hist_pearsoncorr.shape= torch.Size([450, 450])\n",
      "<class 'torch.Tensor'>\n"
     ]
    },
    {
     "name": "stderr",
     "output_type": "stream",
     "text": [
      " 42%|████▏     | 417/1000 [12:03:20<16:45:31, 103.49s/it]"
     ]
    },
    {
     "name": "stdout",
     "output_type": "stream",
     "text": [
      "eigenvalues shape torch.Size([5]) eigenvectors shape torch.Size([5, 400])\n",
      "417 /home/phdcs2/Hard_Disk/Datasets/Deep-Spectral-Segmentation/data/object-segmentation/ECSSD/features/dino_vits16/0418.pth\n",
      "0418\n",
      "tanh_feats.shape= torch.Size([450, 384])\n",
      "W_feat_ds.shape= torch.Size([450, 450])\n",
      "W_feat_hist_pearsoncorr.shape= torch.Size([450, 450])\n",
      "<class 'torch.Tensor'>\n"
     ]
    },
    {
     "name": "stderr",
     "output_type": "stream",
     "text": [
      " 42%|████▏     | 418/1000 [12:05:05<16:49:21, 104.06s/it]"
     ]
    },
    {
     "name": "stdout",
     "output_type": "stream",
     "text": [
      "eigenvalues shape torch.Size([5]) eigenvectors shape torch.Size([5, 400])\n",
      "418 /home/phdcs2/Hard_Disk/Datasets/Deep-Spectral-Segmentation/data/object-segmentation/ECSSD/features/dino_vits16/0419.pth\n",
      "0419\n",
      "tanh_feats.shape= torch.Size([450, 384])\n"
     ]
    },
    {
     "name": "stderr",
     "output_type": "stream",
     "text": [
      " 42%|████▏     | 419/1000 [12:06:49<16:47:55, 104.09s/it]"
     ]
    },
    {
     "name": "stdout",
     "output_type": "stream",
     "text": [
      "W_feat_ds.shape= torch.Size([450, 450])\n",
      "W_feat_hist_pearsoncorr.shape= torch.Size([450, 450])\n",
      "<class 'torch.Tensor'>\n",
      "eigenvalues shape torch.Size([5]) eigenvectors shape torch.Size([5, 400])\n",
      "419 /home/phdcs2/Hard_Disk/Datasets/Deep-Spectral-Segmentation/data/object-segmentation/ECSSD/features/dino_vits16/0420.pth\n",
      "0420\n",
      "tanh_feats.shape= torch.Size([575, 384])\n",
      "W_feat_ds.shape= torch.Size([575, 575])\n",
      "W_feat_hist_pearsoncorr.shape= torch.Size([575, 575])\n",
      "<class 'torch.Tensor'>\n"
     ]
    },
    {
     "name": "stderr",
     "output_type": "stream",
     "text": [
      " 42%|████▏     | 420/1000 [12:09:39<19:55:28, 123.67s/it]"
     ]
    },
    {
     "name": "stdout",
     "output_type": "stream",
     "text": [
      "eigenvalues shape torch.Size([5]) eigenvectors shape torch.Size([5, 400])\n",
      "420 /home/phdcs2/Hard_Disk/Datasets/Deep-Spectral-Segmentation/data/object-segmentation/ECSSD/features/dino_vits16/0421.pth\n",
      "0421\n",
      "tanh_feats.shape= torch.Size([525, 384])\n"
     ]
    },
    {
     "name": "stderr",
     "output_type": "stream",
     "text": [
      " 42%|████▏     | 421/1000 [12:12:01<20:46:32, 129.18s/it]"
     ]
    },
    {
     "name": "stdout",
     "output_type": "stream",
     "text": [
      "W_feat_ds.shape= torch.Size([525, 525])\n",
      "W_feat_hist_pearsoncorr.shape= torch.Size([525, 525])\n",
      "<class 'torch.Tensor'>\n",
      "eigenvalues shape torch.Size([5]) eigenvectors shape torch.Size([5, 400])\n",
      "421 /home/phdcs2/Hard_Disk/Datasets/Deep-Spectral-Segmentation/data/object-segmentation/ECSSD/features/dino_vits16/0422.pth\n",
      "0422\n",
      "tanh_feats.shape= torch.Size([450, 384])\n",
      "W_feat_ds.shape= torch.Size([450, 450])\n",
      "W_feat_hist_pearsoncorr.shape= torch.Size([450, 450])\n",
      "<class 'torch.Tensor'>\n"
     ]
    },
    {
     "name": "stderr",
     "output_type": "stream",
     "text": [
      " 42%|████▏     | 422/1000 [12:13:45<19:31:34, 121.62s/it]"
     ]
    },
    {
     "name": "stdout",
     "output_type": "stream",
     "text": [
      "eigenvalues shape torch.Size([5]) eigenvectors shape torch.Size([5, 400])\n",
      "422 /home/phdcs2/Hard_Disk/Datasets/Deep-Spectral-Segmentation/data/object-segmentation/ECSSD/features/dino_vits16/0423.pth\n",
      "0423\n",
      "tanh_feats.shape= torch.Size([425, 384])\n",
      "W_feat_ds.shape= torch.Size([425, 425])\n",
      "W_feat_hist_pearsoncorr.shape= torch.Size([425, 425])\n",
      "<class 'torch.Tensor'>\n"
     ]
    },
    {
     "name": "stderr",
     "output_type": "stream",
     "text": [
      " 42%|████▏     | 423/1000 [12:15:18<18:07:49, 113.12s/it]"
     ]
    },
    {
     "name": "stdout",
     "output_type": "stream",
     "text": [
      "eigenvalues shape torch.Size([5]) eigenvectors shape torch.Size([5, 400])\n",
      "423 /home/phdcs2/Hard_Disk/Datasets/Deep-Spectral-Segmentation/data/object-segmentation/ECSSD/features/dino_vits16/0424.pth\n",
      "0424\n",
      "tanh_feats.shape= torch.Size([550, 384])\n"
     ]
    },
    {
     "name": "stderr",
     "output_type": "stream",
     "text": [
      " 42%|████▏     | 424/1000 [12:17:53<20:06:45, 125.70s/it]"
     ]
    },
    {
     "name": "stdout",
     "output_type": "stream",
     "text": [
      "W_feat_ds.shape= torch.Size([550, 550])\n",
      "W_feat_hist_pearsoncorr.shape= torch.Size([550, 550])\n",
      "<class 'torch.Tensor'>\n",
      "eigenvalues shape torch.Size([5]) eigenvectors shape torch.Size([5, 400])\n",
      "424 /home/phdcs2/Hard_Disk/Datasets/Deep-Spectral-Segmentation/data/object-segmentation/ECSSD/features/dino_vits16/0425.pth\n",
      "0425\n",
      "tanh_feats.shape= torch.Size([475, 384])\n",
      "W_feat_ds.shape= torch.Size([475, 475])\n",
      "W_feat_hist_pearsoncorr.shape= torch.Size([475, 475])\n",
      "<class 'torch.Tensor'>\n"
     ]
    },
    {
     "name": "stderr",
     "output_type": "stream",
     "text": [
      " 42%|████▎     | 425/1000 [12:19:49<19:36:33, 122.77s/it]"
     ]
    },
    {
     "name": "stdout",
     "output_type": "stream",
     "text": [
      "eigenvalues shape torch.Size([5]) eigenvectors shape torch.Size([5, 400])\n",
      "425 /home/phdcs2/Hard_Disk/Datasets/Deep-Spectral-Segmentation/data/object-segmentation/ECSSD/features/dino_vits16/0426.pth\n",
      "0426\n",
      "tanh_feats.shape= torch.Size([500, 384])\n",
      "W_feat_ds.shape= torch.Size([500, 500])\n",
      "W_feat_hist_pearsoncorr.shape= torch.Size([500, 500])\n",
      "<class 'torch.Tensor'>\n"
     ]
    },
    {
     "name": "stderr",
     "output_type": "stream",
     "text": [
      " 43%|████▎     | 426/1000 [12:21:57<19:48:53, 124.27s/it]"
     ]
    },
    {
     "name": "stdout",
     "output_type": "stream",
     "text": [
      "eigenvalues shape torch.Size([5]) eigenvectors shape torch.Size([5, 400])\n",
      "426 /home/phdcs2/Hard_Disk/Datasets/Deep-Spectral-Segmentation/data/object-segmentation/ECSSD/features/dino_vits16/0427.pth\n",
      "0427\n",
      "tanh_feats.shape= torch.Size([450, 384])\n"
     ]
    },
    {
     "name": "stderr",
     "output_type": "stream",
     "text": [
      " 43%|████▎     | 427/1000 [12:23:40<18:45:56, 117.90s/it]"
     ]
    },
    {
     "name": "stdout",
     "output_type": "stream",
     "text": [
      "W_feat_ds.shape= torch.Size([450, 450])\n",
      "W_feat_hist_pearsoncorr.shape= torch.Size([450, 450])\n",
      "<class 'torch.Tensor'>\n",
      "eigenvalues shape torch.Size([5]) eigenvectors shape torch.Size([5, 400])\n",
      "427 /home/phdcs2/Hard_Disk/Datasets/Deep-Spectral-Segmentation/data/object-segmentation/ECSSD/features/dino_vits16/0428.pth\n",
      "0428\n",
      "tanh_feats.shape= torch.Size([400, 384])\n",
      "W_feat_ds.shape= torch.Size([400, 400])\n",
      "W_feat_hist_pearsoncorr.shape= torch.Size([400, 400])\n",
      "<class 'torch.Tensor'>\n"
     ]
    },
    {
     "name": "stderr",
     "output_type": "stream",
     "text": [
      " 43%|████▎     | 428/1000 [12:25:02<17:02:25, 107.25s/it]"
     ]
    },
    {
     "name": "stdout",
     "output_type": "stream",
     "text": [
      "eigenvalues shape torch.Size([5]) eigenvectors shape torch.Size([5, 400])\n",
      "428 /home/phdcs2/Hard_Disk/Datasets/Deep-Spectral-Segmentation/data/object-segmentation/ECSSD/features/dino_vits16/0429.pth\n",
      "0429\n",
      "tanh_feats.shape= torch.Size([375, 384])\n",
      "W_feat_ds.shape= torch.Size([375, 375])\n",
      "W_feat_hist_pearsoncorr.shape= torch.Size([375, 375])\n",
      "<class 'torch.Tensor'>\n"
     ]
    },
    {
     "name": "stderr",
     "output_type": "stream",
     "text": [
      " 43%|████▎     | 429/1000 [12:26:15<15:21:33, 96.84s/it] "
     ]
    },
    {
     "name": "stdout",
     "output_type": "stream",
     "text": [
      "eigenvalues shape torch.Size([5]) eigenvectors shape torch.Size([5, 400])\n",
      "429 /home/phdcs2/Hard_Disk/Datasets/Deep-Spectral-Segmentation/data/object-segmentation/ECSSD/features/dino_vits16/0430.pth\n",
      "0430\n",
      "tanh_feats.shape= torch.Size([500, 384])\n"
     ]
    },
    {
     "name": "stderr",
     "output_type": "stream",
     "text": [
      " 43%|████▎     | 430/1000 [12:28:22<16:47:52, 106.09s/it]"
     ]
    },
    {
     "name": "stdout",
     "output_type": "stream",
     "text": [
      "W_feat_ds.shape= torch.Size([500, 500])\n",
      "W_feat_hist_pearsoncorr.shape= torch.Size([500, 500])\n",
      "<class 'torch.Tensor'>\n",
      "eigenvalues shape torch.Size([5]) eigenvectors shape torch.Size([5, 400])\n",
      "430 /home/phdcs2/Hard_Disk/Datasets/Deep-Spectral-Segmentation/data/object-segmentation/ECSSD/features/dino_vits16/0431.pth\n",
      "0431\n",
      "tanh_feats.shape= torch.Size([400, 384])\n",
      "W_feat_ds.shape= torch.Size([400, 400])\n",
      "W_feat_hist_pearsoncorr.shape= torch.Size([400, 400])\n",
      "<class 'torch.Tensor'>\n"
     ]
    },
    {
     "name": "stderr",
     "output_type": "stream",
     "text": [
      " 43%|████▎     | 431/1000 [12:29:45<15:40:24, 99.16s/it] "
     ]
    },
    {
     "name": "stdout",
     "output_type": "stream",
     "text": [
      "eigenvalues shape torch.Size([5]) eigenvectors shape torch.Size([5, 400])\n",
      "431 /home/phdcs2/Hard_Disk/Datasets/Deep-Spectral-Segmentation/data/object-segmentation/ECSSD/features/dino_vits16/0432.pth\n",
      "0432\n",
      "tanh_feats.shape= torch.Size([425, 384])\n",
      "W_feat_ds.shape= torch.Size([425, 425])\n",
      "W_feat_hist_pearsoncorr.shape= torch.Size([425, 425])\n",
      "<class 'torch.Tensor'>\n"
     ]
    },
    {
     "name": "stderr",
     "output_type": "stream",
     "text": [
      " 43%|████▎     | 432/1000 [12:31:19<15:23:28, 97.55s/it]"
     ]
    },
    {
     "name": "stdout",
     "output_type": "stream",
     "text": [
      "eigenvalues shape torch.Size([5]) eigenvectors shape torch.Size([5, 400])\n",
      "432 /home/phdcs2/Hard_Disk/Datasets/Deep-Spectral-Segmentation/data/object-segmentation/ECSSD/features/dino_vits16/0433.pth\n",
      "0433\n",
      "tanh_feats.shape= torch.Size([475, 384])\n",
      "W_feat_ds.shape= torch.Size([475, 475])\n",
      "W_feat_hist_pearsoncorr.shape= torch.Size([475, 475])\n",
      "<class 'torch.Tensor'>\n"
     ]
    },
    {
     "name": "stderr",
     "output_type": "stream",
     "text": [
      " 43%|████▎     | 433/1000 [12:33:18<16:21:13, 103.83s/it]"
     ]
    },
    {
     "name": "stdout",
     "output_type": "stream",
     "text": [
      "eigenvalues shape torch.Size([5]) eigenvectors shape torch.Size([5, 400])\n",
      "433 /home/phdcs2/Hard_Disk/Datasets/Deep-Spectral-Segmentation/data/object-segmentation/ECSSD/features/dino_vits16/0434.pth\n",
      "0434\n",
      "tanh_feats.shape= torch.Size([450, 384])\n",
      "W_feat_ds.shape= torch.Size([450, 450])\n",
      "W_feat_hist_pearsoncorr.shape= torch.Size([450, 450])\n",
      "<class 'torch.Tensor'>\n"
     ]
    },
    {
     "name": "stderr",
     "output_type": "stream",
     "text": [
      " 43%|████▎     | 434/1000 [12:35:02<16:20:28, 103.94s/it]"
     ]
    },
    {
     "name": "stdout",
     "output_type": "stream",
     "text": [
      "eigenvalues shape torch.Size([5]) eigenvectors shape torch.Size([5, 400])\n",
      "434 /home/phdcs2/Hard_Disk/Datasets/Deep-Spectral-Segmentation/data/object-segmentation/ECSSD/features/dino_vits16/0435.pth\n",
      "0435\n",
      "tanh_feats.shape= torch.Size([450, 384])\n",
      "W_feat_ds.shape= torch.Size([450, 450])\n",
      "W_feat_hist_pearsoncorr.shape= torch.Size([450, 450])\n",
      "<class 'torch.Tensor'>\n"
     ]
    },
    {
     "name": "stderr",
     "output_type": "stream",
     "text": [
      " 44%|████▎     | 435/1000 [12:36:45<16:17:42, 103.83s/it]"
     ]
    },
    {
     "name": "stdout",
     "output_type": "stream",
     "text": [
      "eigenvalues shape torch.Size([5]) eigenvectors shape torch.Size([5, 400])\n",
      "435 /home/phdcs2/Hard_Disk/Datasets/Deep-Spectral-Segmentation/data/object-segmentation/ECSSD/features/dino_vits16/0436.pth\n",
      "0436\n",
      "tanh_feats.shape= torch.Size([475, 384])\n",
      "W_feat_ds.shape= torch.Size([475, 475])\n",
      "W_feat_hist_pearsoncorr.shape= torch.Size([475, 475])\n",
      "<class 'torch.Tensor'>\n"
     ]
    },
    {
     "name": "stderr",
     "output_type": "stream",
     "text": [
      " 44%|████▎     | 436/1000 [12:38:41<16:50:48, 107.53s/it]"
     ]
    },
    {
     "name": "stdout",
     "output_type": "stream",
     "text": [
      "eigenvalues shape torch.Size([5]) eigenvectors shape torch.Size([5, 400])\n",
      "436 /home/phdcs2/Hard_Disk/Datasets/Deep-Spectral-Segmentation/data/object-segmentation/ECSSD/features/dino_vits16/0437.pth\n",
      "0437\n",
      "tanh_feats.shape= torch.Size([450, 384])\n"
     ]
    },
    {
     "name": "stderr",
     "output_type": "stream",
     "text": [
      " 44%|████▎     | 437/1000 [12:40:25<16:38:25, 106.40s/it]"
     ]
    },
    {
     "name": "stdout",
     "output_type": "stream",
     "text": [
      "W_feat_ds.shape= torch.Size([450, 450])\n",
      "W_feat_hist_pearsoncorr.shape= torch.Size([450, 450])\n",
      "<class 'torch.Tensor'>\n",
      "eigenvalues shape torch.Size([5]) eigenvectors shape torch.Size([5, 400])\n",
      "437 /home/phdcs2/Hard_Disk/Datasets/Deep-Spectral-Segmentation/data/object-segmentation/ECSSD/features/dino_vits16/0438.pth\n",
      "0438\n",
      "tanh_feats.shape= torch.Size([450, 384])\n",
      "W_feat_ds.shape= torch.Size([450, 450])\n",
      "W_feat_hist_pearsoncorr.shape= torch.Size([450, 450])\n",
      "<class 'torch.Tensor'>\n"
     ]
    },
    {
     "name": "stderr",
     "output_type": "stream",
     "text": [
      " 44%|████▍     | 438/1000 [12:42:09<16:29:14, 105.61s/it]"
     ]
    },
    {
     "name": "stdout",
     "output_type": "stream",
     "text": [
      "eigenvalues shape torch.Size([5]) eigenvectors shape torch.Size([5, 400])\n",
      "438 /home/phdcs2/Hard_Disk/Datasets/Deep-Spectral-Segmentation/data/object-segmentation/ECSSD/features/dino_vits16/0439.pth\n",
      "0439\n",
      "tanh_feats.shape= torch.Size([575, 384])\n",
      "W_feat_ds.shape= torch.Size([575, 575])\n",
      "W_feat_hist_pearsoncorr.shape= torch.Size([575, 575])\n",
      "<class 'torch.Tensor'>\n"
     ]
    },
    {
     "name": "stderr",
     "output_type": "stream",
     "text": [
      " 44%|████▍     | 439/1000 [12:44:59<19:27:21, 124.85s/it]"
     ]
    },
    {
     "name": "stdout",
     "output_type": "stream",
     "text": [
      "eigenvalues shape torch.Size([5]) eigenvectors shape torch.Size([5, 400])\n",
      "439 /home/phdcs2/Hard_Disk/Datasets/Deep-Spectral-Segmentation/data/object-segmentation/ECSSD/features/dino_vits16/0440.pth\n",
      "0440\n",
      "tanh_feats.shape= torch.Size([450, 384])\n",
      "W_feat_ds.shape= torch.Size([450, 450])\n",
      "W_feat_hist_pearsoncorr.shape= torch.Size([450, 450])\n",
      "<class 'torch.Tensor'>\n"
     ]
    },
    {
     "name": "stderr",
     "output_type": "stream",
     "text": [
      " 44%|████▍     | 440/1000 [12:46:43<18:27:55, 118.71s/it]"
     ]
    },
    {
     "name": "stdout",
     "output_type": "stream",
     "text": [
      "eigenvalues shape torch.Size([5]) eigenvectors shape torch.Size([5, 400])\n",
      "440 /home/phdcs2/Hard_Disk/Datasets/Deep-Spectral-Segmentation/data/object-segmentation/ECSSD/features/dino_vits16/0441.pth\n",
      "0441\n",
      "tanh_feats.shape= torch.Size([450, 384])\n"
     ]
    },
    {
     "name": "stderr",
     "output_type": "stream",
     "text": [
      " 44%|████▍     | 441/1000 [12:48:26<17:42:46, 114.07s/it]"
     ]
    },
    {
     "name": "stdout",
     "output_type": "stream",
     "text": [
      "W_feat_ds.shape= torch.Size([450, 450])\n",
      "W_feat_hist_pearsoncorr.shape= torch.Size([450, 450])\n",
      "<class 'torch.Tensor'>\n",
      "eigenvalues shape torch.Size([5]) eigenvectors shape torch.Size([5, 400])\n",
      "441 /home/phdcs2/Hard_Disk/Datasets/Deep-Spectral-Segmentation/data/object-segmentation/ECSSD/features/dino_vits16/0442.pth\n",
      "0442\n",
      "tanh_feats.shape= torch.Size([475, 384])\n",
      "W_feat_ds.shape= torch.Size([475, 475])\n",
      "W_feat_hist_pearsoncorr.shape= torch.Size([475, 475])\n",
      "<class 'torch.Tensor'>\n"
     ]
    },
    {
     "name": "stderr",
     "output_type": "stream",
     "text": [
      " 44%|████▍     | 442/1000 [12:50:23<17:47:16, 114.76s/it]"
     ]
    },
    {
     "name": "stdout",
     "output_type": "stream",
     "text": [
      "eigenvalues shape torch.Size([5]) eigenvectors shape torch.Size([5, 400])\n",
      "442 /home/phdcs2/Hard_Disk/Datasets/Deep-Spectral-Segmentation/data/object-segmentation/ECSSD/features/dino_vits16/0443.pth\n",
      "0443\n",
      "tanh_feats.shape= torch.Size([450, 384])\n",
      "W_feat_ds.shape= torch.Size([450, 450])\n",
      "W_feat_hist_pearsoncorr.shape= torch.Size([450, 450])\n",
      "<class 'torch.Tensor'>\n"
     ]
    },
    {
     "name": "stderr",
     "output_type": "stream",
     "text": [
      " 44%|████▍     | 443/1000 [12:52:07<17:15:39, 111.56s/it]"
     ]
    },
    {
     "name": "stdout",
     "output_type": "stream",
     "text": [
      "eigenvalues shape torch.Size([5]) eigenvectors shape torch.Size([5, 400])\n",
      "443 /home/phdcs2/Hard_Disk/Datasets/Deep-Spectral-Segmentation/data/object-segmentation/ECSSD/features/dino_vits16/0444.pth\n",
      "0444\n",
      "tanh_feats.shape= torch.Size([450, 384])\n",
      "W_feat_ds.shape= torch.Size([450, 450])\n",
      "W_feat_hist_pearsoncorr.shape= torch.Size([450, 450])\n",
      "<class 'torch.Tensor'>\n"
     ]
    },
    {
     "name": "stderr",
     "output_type": "stream",
     "text": [
      " 44%|████▍     | 444/1000 [12:53:50<16:50:48, 109.08s/it]"
     ]
    },
    {
     "name": "stdout",
     "output_type": "stream",
     "text": [
      "eigenvalues shape torch.Size([5]) eigenvectors shape torch.Size([5, 400])\n",
      "444 /home/phdcs2/Hard_Disk/Datasets/Deep-Spectral-Segmentation/data/object-segmentation/ECSSD/features/dino_vits16/0445.pth\n",
      "0445\n",
      "tanh_feats.shape= torch.Size([400, 384])\n",
      "W_feat_ds.shape= torch.Size([400, 400])\n",
      "W_feat_hist_pearsoncorr.shape= torch.Size([400, 400])\n",
      "<class 'torch.Tensor'>\n"
     ]
    },
    {
     "name": "stderr",
     "output_type": "stream",
     "text": [
      " 44%|████▍     | 445/1000 [12:55:13<15:36:14, 101.22s/it]"
     ]
    },
    {
     "name": "stdout",
     "output_type": "stream",
     "text": [
      "eigenvalues shape torch.Size([5]) eigenvectors shape torch.Size([5, 400])\n",
      "445 /home/phdcs2/Hard_Disk/Datasets/Deep-Spectral-Segmentation/data/object-segmentation/ECSSD/features/dino_vits16/0446.pth\n",
      "0446\n",
      "tanh_feats.shape= torch.Size([400, 384])\n",
      "W_feat_ds.shape= torch.Size([400, 400])\n",
      "W_feat_hist_pearsoncorr.shape= torch.Size([400, 400])\n",
      "<class 'torch.Tensor'>\n"
     ]
    },
    {
     "name": "stderr",
     "output_type": "stream",
     "text": [
      " 45%|████▍     | 446/1000 [12:56:37<14:46:15, 95.98s/it] "
     ]
    },
    {
     "name": "stdout",
     "output_type": "stream",
     "text": [
      "eigenvalues shape torch.Size([5]) eigenvectors shape torch.Size([5, 400])\n",
      "446 /home/phdcs2/Hard_Disk/Datasets/Deep-Spectral-Segmentation/data/object-segmentation/ECSSD/features/dino_vits16/0447.pth\n",
      "0447\n",
      "tanh_feats.shape= torch.Size([400, 384])\n",
      "W_feat_ds.shape= torch.Size([400, 400])\n",
      "W_feat_hist_pearsoncorr.shape= torch.Size([400, 400])\n",
      "<class 'torch.Tensor'>\n"
     ]
    },
    {
     "name": "stderr",
     "output_type": "stream",
     "text": [
      " 45%|████▍     | 447/1000 [12:58:01<14:10:59, 92.33s/it]"
     ]
    },
    {
     "name": "stdout",
     "output_type": "stream",
     "text": [
      "eigenvalues shape torch.Size([5]) eigenvectors shape torch.Size([5, 400])\n",
      "447 /home/phdcs2/Hard_Disk/Datasets/Deep-Spectral-Segmentation/data/object-segmentation/ECSSD/features/dino_vits16/0448.pth\n",
      "0448\n",
      "tanh_feats.shape= torch.Size([350, 384])\n",
      "W_feat_ds.shape= torch.Size([350, 350])\n",
      "W_feat_hist_pearsoncorr.shape= torch.Size([350, 350])\n",
      "<class 'torch.Tensor'>\n"
     ]
    },
    {
     "name": "stderr",
     "output_type": "stream",
     "text": [
      " 45%|████▍     | 448/1000 [12:59:03<12:47:09, 83.39s/it]"
     ]
    },
    {
     "name": "stdout",
     "output_type": "stream",
     "text": [
      "eigenvalues shape torch.Size([5]) eigenvectors shape torch.Size([5, 400])\n",
      "448 /home/phdcs2/Hard_Disk/Datasets/Deep-Spectral-Segmentation/data/object-segmentation/ECSSD/features/dino_vits16/0449.pth\n",
      "0449\n",
      "tanh_feats.shape= torch.Size([475, 384])\n",
      "W_feat_ds.shape= torch.Size([475, 475])\n",
      "W_feat_hist_pearsoncorr.shape= torch.Size([475, 475])\n",
      "<class 'torch.Tensor'>\n"
     ]
    },
    {
     "name": "stderr",
     "output_type": "stream",
     "text": [
      " 45%|████▍     | 449/1000 [13:00:59<14:16:15, 93.24s/it]"
     ]
    },
    {
     "name": "stdout",
     "output_type": "stream",
     "text": [
      "eigenvalues shape torch.Size([5]) eigenvectors shape torch.Size([5, 400])\n",
      "449 /home/phdcs2/Hard_Disk/Datasets/Deep-Spectral-Segmentation/data/object-segmentation/ECSSD/features/dino_vits16/0450.pth\n",
      "0450\n",
      "tanh_feats.shape= torch.Size([400, 384])\n"
     ]
    },
    {
     "name": "stderr",
     "output_type": "stream",
     "text": [
      " 45%|████▌     | 450/1000 [13:02:21<13:42:44, 89.75s/it]"
     ]
    },
    {
     "name": "stdout",
     "output_type": "stream",
     "text": [
      "W_feat_ds.shape= torch.Size([400, 400])\n",
      "W_feat_hist_pearsoncorr.shape= torch.Size([400, 400])\n",
      "<class 'torch.Tensor'>\n",
      "eigenvalues shape torch.Size([5]) eigenvectors shape torch.Size([5, 400])\n",
      "450 /home/phdcs2/Hard_Disk/Datasets/Deep-Spectral-Segmentation/data/object-segmentation/ECSSD/features/dino_vits16/0451.pth\n",
      "0451\n",
      "tanh_feats.shape= torch.Size([450, 384])\n"
     ]
    },
    {
     "name": "stderr",
     "output_type": "stream",
     "text": [
      " 45%|████▌     | 451/1000 [13:04:06<14:22:59, 94.32s/it]"
     ]
    },
    {
     "name": "stdout",
     "output_type": "stream",
     "text": [
      "W_feat_ds.shape= torch.Size([450, 450])\n",
      "W_feat_hist_pearsoncorr.shape= torch.Size([450, 450])\n",
      "<class 'torch.Tensor'>\n",
      "eigenvalues shape torch.Size([5]) eigenvectors shape torch.Size([5, 400])\n",
      "451 /home/phdcs2/Hard_Disk/Datasets/Deep-Spectral-Segmentation/data/object-segmentation/ECSSD/features/dino_vits16/0452.pth\n",
      "0452\n",
      "tanh_feats.shape= torch.Size([475, 384])\n"
     ]
    },
    {
     "name": "stderr",
     "output_type": "stream",
     "text": [
      " 45%|████▌     | 452/1000 [13:06:03<15:23:30, 101.11s/it]"
     ]
    },
    {
     "name": "stdout",
     "output_type": "stream",
     "text": [
      "W_feat_ds.shape= torch.Size([475, 475])\n",
      "W_feat_hist_pearsoncorr.shape= torch.Size([475, 475])\n",
      "<class 'torch.Tensor'>\n",
      "eigenvalues shape torch.Size([5]) eigenvectors shape torch.Size([5, 400])\n",
      "452 /home/phdcs2/Hard_Disk/Datasets/Deep-Spectral-Segmentation/data/object-segmentation/ECSSD/features/dino_vits16/0453.pth\n",
      "0453\n",
      "tanh_feats.shape= torch.Size([400, 384])\n",
      "W_feat_ds.shape= torch.Size([400, 400])\n",
      "W_feat_hist_pearsoncorr.shape= torch.Size([400, 400])\n",
      "<class 'torch.Tensor'>\n"
     ]
    },
    {
     "name": "stderr",
     "output_type": "stream",
     "text": [
      " 45%|████▌     | 453/1000 [13:07:27<14:34:55, 95.97s/it] "
     ]
    },
    {
     "name": "stdout",
     "output_type": "stream",
     "text": [
      "eigenvalues shape torch.Size([5]) eigenvectors shape torch.Size([5, 400])\n",
      "453 /home/phdcs2/Hard_Disk/Datasets/Deep-Spectral-Segmentation/data/object-segmentation/ECSSD/features/dino_vits16/0454.pth\n",
      "0454\n",
      "tanh_feats.shape= torch.Size([400, 384])\n"
     ]
    },
    {
     "name": "stderr",
     "output_type": "stream",
     "text": [
      " 45%|████▌     | 454/1000 [13:08:50<13:58:34, 92.15s/it]"
     ]
    },
    {
     "name": "stdout",
     "output_type": "stream",
     "text": [
      "W_feat_ds.shape= torch.Size([400, 400])\n",
      "W_feat_hist_pearsoncorr.shape= torch.Size([400, 400])\n",
      "<class 'torch.Tensor'>\n",
      "eigenvalues shape torch.Size([5]) eigenvectors shape torch.Size([5, 400])\n",
      "454 /home/phdcs2/Hard_Disk/Datasets/Deep-Spectral-Segmentation/data/object-segmentation/ECSSD/features/dino_vits16/0455.pth\n",
      "0455\n",
      "tanh_feats.shape= torch.Size([400, 384])\n",
      "W_feat_ds.shape= torch.Size([400, 400])\n",
      "W_feat_hist_pearsoncorr.shape= torch.Size([400, 400])\n",
      "<class 'torch.Tensor'>\n"
     ]
    },
    {
     "name": "stderr",
     "output_type": "stream",
     "text": [
      " 46%|████▌     | 455/1000 [13:10:17<13:42:22, 90.54s/it]"
     ]
    },
    {
     "name": "stdout",
     "output_type": "stream",
     "text": [
      "eigenvalues shape torch.Size([5]) eigenvectors shape torch.Size([5, 400])\n",
      "455 /home/phdcs2/Hard_Disk/Datasets/Deep-Spectral-Segmentation/data/object-segmentation/ECSSD/features/dino_vits16/0456.pth\n",
      "0456\n",
      "tanh_feats.shape= torch.Size([425, 384])\n",
      "W_feat_ds.shape= torch.Size([425, 425])\n",
      "W_feat_hist_pearsoncorr.shape= torch.Size([425, 425])\n",
      "<class 'torch.Tensor'>\n"
     ]
    },
    {
     "name": "stderr",
     "output_type": "stream",
     "text": [
      " 46%|████▌     | 456/1000 [13:11:50<13:47:49, 91.30s/it]"
     ]
    },
    {
     "name": "stdout",
     "output_type": "stream",
     "text": [
      "eigenvalues shape torch.Size([5]) eigenvectors shape torch.Size([5, 400])\n",
      "456 /home/phdcs2/Hard_Disk/Datasets/Deep-Spectral-Segmentation/data/object-segmentation/ECSSD/features/dino_vits16/0457.pth\n",
      "0457\n",
      "tanh_feats.shape= torch.Size([400, 384])\n"
     ]
    },
    {
     "name": "stderr",
     "output_type": "stream",
     "text": [
      " 46%|████▌     | 457/1000 [13:13:12<13:20:47, 88.49s/it]"
     ]
    },
    {
     "name": "stdout",
     "output_type": "stream",
     "text": [
      "W_feat_ds.shape= torch.Size([400, 400])\n",
      "W_feat_hist_pearsoncorr.shape= torch.Size([400, 400])\n",
      "<class 'torch.Tensor'>\n",
      "eigenvalues shape torch.Size([5]) eigenvectors shape torch.Size([5, 400])\n",
      "457 /home/phdcs2/Hard_Disk/Datasets/Deep-Spectral-Segmentation/data/object-segmentation/ECSSD/features/dino_vits16/0458.pth\n",
      "0458\n",
      "tanh_feats.shape= torch.Size([450, 384])\n",
      "W_feat_ds.shape= torch.Size([450, 450])\n",
      "W_feat_hist_pearsoncorr.shape= torch.Size([450, 450])\n",
      "<class 'torch.Tensor'>\n"
     ]
    },
    {
     "name": "stderr",
     "output_type": "stream",
     "text": [
      " 46%|████▌     | 458/1000 [13:14:57<14:03:48, 93.41s/it]"
     ]
    },
    {
     "name": "stdout",
     "output_type": "stream",
     "text": [
      "eigenvalues shape torch.Size([5]) eigenvectors shape torch.Size([5, 400])\n",
      "458 /home/phdcs2/Hard_Disk/Datasets/Deep-Spectral-Segmentation/data/object-segmentation/ECSSD/features/dino_vits16/0459.pth\n",
      "0459\n",
      "tanh_feats.shape= torch.Size([400, 384])\n",
      "W_feat_ds.shape= torch.Size([400, 400])\n",
      "W_feat_hist_pearsoncorr.shape= torch.Size([400, 400])\n",
      "<class 'torch.Tensor'>\n"
     ]
    },
    {
     "name": "stderr",
     "output_type": "stream",
     "text": [
      " 46%|████▌     | 459/1000 [13:16:20<13:33:46, 90.25s/it]"
     ]
    },
    {
     "name": "stdout",
     "output_type": "stream",
     "text": [
      "eigenvalues shape torch.Size([5]) eigenvectors shape torch.Size([5, 400])\n",
      "459 /home/phdcs2/Hard_Disk/Datasets/Deep-Spectral-Segmentation/data/object-segmentation/ECSSD/features/dino_vits16/0460.pth\n",
      "0460\n",
      "tanh_feats.shape= torch.Size([450, 384])\n",
      "W_feat_ds.shape= torch.Size([450, 450])\n",
      "W_feat_hist_pearsoncorr.shape= torch.Size([450, 450])\n",
      "<class 'torch.Tensor'>\n"
     ]
    },
    {
     "name": "stderr",
     "output_type": "stream",
     "text": [
      " 46%|████▌     | 460/1000 [13:18:04<14:10:25, 94.49s/it]"
     ]
    },
    {
     "name": "stdout",
     "output_type": "stream",
     "text": [
      "eigenvalues shape torch.Size([5]) eigenvectors shape torch.Size([5, 400])\n",
      "460 /home/phdcs2/Hard_Disk/Datasets/Deep-Spectral-Segmentation/data/object-segmentation/ECSSD/features/dino_vits16/0461.pth\n",
      "0461\n",
      "tanh_feats.shape= torch.Size([450, 384])\n",
      "W_feat_ds.shape= torch.Size([450, 450])\n",
      "W_feat_hist_pearsoncorr.shape= torch.Size([450, 450])\n",
      "<class 'torch.Tensor'>\n"
     ]
    },
    {
     "name": "stderr",
     "output_type": "stream",
     "text": [
      " 46%|████▌     | 461/1000 [13:19:47<14:32:24, 97.11s/it]"
     ]
    },
    {
     "name": "stdout",
     "output_type": "stream",
     "text": [
      "eigenvalues shape torch.Size([5]) eigenvectors shape torch.Size([5, 400])\n",
      "461 /home/phdcs2/Hard_Disk/Datasets/Deep-Spectral-Segmentation/data/object-segmentation/ECSSD/features/dino_vits16/0462.pth\n",
      "0462\n",
      "tanh_feats.shape= torch.Size([400, 384])\n",
      "W_feat_ds.shape= torch.Size([400, 400])\n",
      "W_feat_hist_pearsoncorr.shape= torch.Size([400, 400])\n",
      "<class 'torch.Tensor'>\n"
     ]
    },
    {
     "name": "stderr",
     "output_type": "stream",
     "text": [
      " 46%|████▌     | 462/1000 [13:21:09<13:50:34, 92.63s/it]"
     ]
    },
    {
     "name": "stdout",
     "output_type": "stream",
     "text": [
      "eigenvalues shape torch.Size([5]) eigenvectors shape torch.Size([5, 400])\n",
      "462 /home/phdcs2/Hard_Disk/Datasets/Deep-Spectral-Segmentation/data/object-segmentation/ECSSD/features/dino_vits16/0463.pth\n",
      "0463\n",
      "tanh_feats.shape= torch.Size([450, 384])\n",
      "W_feat_ds.shape= torch.Size([450, 450])\n",
      "W_feat_hist_pearsoncorr.shape= torch.Size([450, 450])\n",
      "<class 'torch.Tensor'>\n"
     ]
    },
    {
     "name": "stderr",
     "output_type": "stream",
     "text": [
      " 46%|████▋     | 463/1000 [13:22:53<14:17:13, 95.78s/it]"
     ]
    },
    {
     "name": "stdout",
     "output_type": "stream",
     "text": [
      "eigenvalues shape torch.Size([5]) eigenvectors shape torch.Size([5, 400])\n",
      "463 /home/phdcs2/Hard_Disk/Datasets/Deep-Spectral-Segmentation/data/object-segmentation/ECSSD/features/dino_vits16/0464.pth\n",
      "0464\n",
      "tanh_feats.shape= torch.Size([450, 384])\n"
     ]
    },
    {
     "name": "stderr",
     "output_type": "stream",
     "text": [
      " 46%|████▋     | 464/1000 [13:24:36<14:36:22, 98.10s/it]"
     ]
    },
    {
     "name": "stdout",
     "output_type": "stream",
     "text": [
      "W_feat_ds.shape= torch.Size([450, 450])\n",
      "W_feat_hist_pearsoncorr.shape= torch.Size([450, 450])\n",
      "<class 'torch.Tensor'>\n",
      "eigenvalues shape torch.Size([5]) eigenvectors shape torch.Size([5, 400])\n",
      "464 /home/phdcs2/Hard_Disk/Datasets/Deep-Spectral-Segmentation/data/object-segmentation/ECSSD/features/dino_vits16/0465.pth\n",
      "0465\n",
      "tanh_feats.shape= torch.Size([450, 384])\n",
      "W_feat_ds.shape= torch.Size([450, 450])\n",
      "W_feat_hist_pearsoncorr.shape= torch.Size([450, 450])\n",
      "<class 'torch.Tensor'>\n"
     ]
    },
    {
     "name": "stderr",
     "output_type": "stream",
     "text": [
      " 46%|████▋     | 465/1000 [13:26:20<14:49:01, 99.70s/it]"
     ]
    },
    {
     "name": "stdout",
     "output_type": "stream",
     "text": [
      "eigenvalues shape torch.Size([5]) eigenvectors shape torch.Size([5, 400])\n",
      "465 /home/phdcs2/Hard_Disk/Datasets/Deep-Spectral-Segmentation/data/object-segmentation/ECSSD/features/dino_vits16/0466.pth\n",
      "0466\n",
      "tanh_feats.shape= torch.Size([400, 384])\n",
      "W_feat_ds.shape= torch.Size([400, 400])\n",
      "W_feat_hist_pearsoncorr.shape= torch.Size([400, 400])\n",
      "<class 'torch.Tensor'>\n"
     ]
    },
    {
     "name": "stderr",
     "output_type": "stream",
     "text": [
      " 47%|████▋     | 466/1000 [13:27:42<14:00:33, 94.45s/it]"
     ]
    },
    {
     "name": "stdout",
     "output_type": "stream",
     "text": [
      "eigenvalues shape torch.Size([5]) eigenvectors shape torch.Size([5, 400])\n",
      "466 /home/phdcs2/Hard_Disk/Datasets/Deep-Spectral-Segmentation/data/object-segmentation/ECSSD/features/dino_vits16/0467.pth\n",
      "0467\n",
      "tanh_feats.shape= torch.Size([425, 384])\n",
      "W_feat_ds.shape= torch.Size([425, 425])\n",
      "W_feat_hist_pearsoncorr.shape= torch.Size([425, 425])\n",
      "<class 'torch.Tensor'>\n"
     ]
    },
    {
     "name": "stderr",
     "output_type": "stream",
     "text": [
      " 47%|████▋     | 467/1000 [13:29:15<13:54:41, 93.96s/it]"
     ]
    },
    {
     "name": "stdout",
     "output_type": "stream",
     "text": [
      "eigenvalues shape torch.Size([5]) eigenvectors shape torch.Size([5, 400])\n",
      "467 /home/phdcs2/Hard_Disk/Datasets/Deep-Spectral-Segmentation/data/object-segmentation/ECSSD/features/dino_vits16/0468.pth\n",
      "0468\n",
      "tanh_feats.shape= torch.Size([450, 384])\n",
      "W_feat_ds.shape= torch.Size([450, 450])\n",
      "W_feat_hist_pearsoncorr.shape= torch.Size([450, 450])\n",
      "<class 'torch.Tensor'>\n"
     ]
    },
    {
     "name": "stderr",
     "output_type": "stream",
     "text": [
      " 47%|████▋     | 468/1000 [13:30:58<14:18:56, 96.87s/it]"
     ]
    },
    {
     "name": "stdout",
     "output_type": "stream",
     "text": [
      "eigenvalues shape torch.Size([5]) eigenvectors shape torch.Size([5, 400])\n",
      "468 /home/phdcs2/Hard_Disk/Datasets/Deep-Spectral-Segmentation/data/object-segmentation/ECSSD/features/dino_vits16/0469.pth\n",
      "0469\n",
      "tanh_feats.shape= torch.Size([400, 384])\n",
      "W_feat_ds.shape= torch.Size([400, 400])\n",
      "W_feat_hist_pearsoncorr.shape= torch.Size([400, 400])\n",
      "<class 'torch.Tensor'>\n"
     ]
    },
    {
     "name": "stderr",
     "output_type": "stream",
     "text": [
      " 47%|████▋     | 469/1000 [13:32:20<13:37:06, 92.33s/it]"
     ]
    },
    {
     "name": "stdout",
     "output_type": "stream",
     "text": [
      "eigenvalues shape torch.Size([5]) eigenvectors shape torch.Size([5, 400])\n",
      "469 /home/phdcs2/Hard_Disk/Datasets/Deep-Spectral-Segmentation/data/object-segmentation/ECSSD/features/dino_vits16/0470.pth\n",
      "0470\n",
      "tanh_feats.shape= torch.Size([400, 384])\n",
      "W_feat_ds.shape= torch.Size([400, 400])\n",
      "W_feat_hist_pearsoncorr.shape= torch.Size([400, 400])\n",
      "<class 'torch.Tensor'>\n"
     ]
    },
    {
     "name": "stderr",
     "output_type": "stream",
     "text": [
      " 47%|████▋     | 470/1000 [13:33:42<13:07:09, 89.11s/it]"
     ]
    },
    {
     "name": "stdout",
     "output_type": "stream",
     "text": [
      "eigenvalues shape torch.Size([5]) eigenvectors shape torch.Size([5, 400])\n",
      "470 /home/phdcs2/Hard_Disk/Datasets/Deep-Spectral-Segmentation/data/object-segmentation/ECSSD/features/dino_vits16/0471.pth\n",
      "0471\n",
      "tanh_feats.shape= torch.Size([450, 384])\n",
      "W_feat_ds.shape= torch.Size([450, 450])\n",
      "W_feat_hist_pearsoncorr.shape= torch.Size([450, 450])\n",
      "<class 'torch.Tensor'>\n"
     ]
    },
    {
     "name": "stderr",
     "output_type": "stream",
     "text": [
      " 47%|████▋     | 471/1000 [13:35:27<13:47:57, 93.91s/it]"
     ]
    },
    {
     "name": "stdout",
     "output_type": "stream",
     "text": [
      "eigenvalues shape torch.Size([5]) eigenvectors shape torch.Size([5, 400])\n",
      "471 /home/phdcs2/Hard_Disk/Datasets/Deep-Spectral-Segmentation/data/object-segmentation/ECSSD/features/dino_vits16/0472.pth\n",
      "0472\n",
      "tanh_feats.shape= torch.Size([400, 384])\n",
      "W_feat_ds.shape= torch.Size([400, 400])\n",
      "W_feat_hist_pearsoncorr.shape= torch.Size([400, 400])\n",
      "<class 'torch.Tensor'>\n",
      "eigenvalues shape torch.Size([5]) eigenvectors shape torch.Size([5, 400])\n"
     ]
    },
    {
     "name": "stderr",
     "output_type": "stream",
     "text": [
      " 47%|████▋     | 472/1000 [13:36:49<13:14:45, 90.31s/it]"
     ]
    },
    {
     "name": "stdout",
     "output_type": "stream",
     "text": [
      "472 /home/phdcs2/Hard_Disk/Datasets/Deep-Spectral-Segmentation/data/object-segmentation/ECSSD/features/dino_vits16/0473.pth\n",
      "0473\n",
      "tanh_feats.shape= torch.Size([425, 384])\n"
     ]
    },
    {
     "name": "stderr",
     "output_type": "stream",
     "text": [
      " 47%|████▋     | 473/1000 [13:38:22<13:20:32, 91.14s/it]"
     ]
    },
    {
     "name": "stdout",
     "output_type": "stream",
     "text": [
      "W_feat_ds.shape= torch.Size([425, 425])\n",
      "W_feat_hist_pearsoncorr.shape= torch.Size([425, 425])\n",
      "<class 'torch.Tensor'>\n",
      "eigenvalues shape torch.Size([5]) eigenvectors shape torch.Size([5, 400])\n",
      "473 /home/phdcs2/Hard_Disk/Datasets/Deep-Spectral-Segmentation/data/object-segmentation/ECSSD/features/dino_vits16/0474.pth\n",
      "0474\n",
      "tanh_feats.shape= torch.Size([400, 384])\n",
      "W_feat_ds.shape= torch.Size([400, 400])\n",
      "W_feat_hist_pearsoncorr.shape= torch.Size([400, 400])\n",
      "<class 'torch.Tensor'>\n"
     ]
    },
    {
     "name": "stderr",
     "output_type": "stream",
     "text": [
      " 47%|████▋     | 474/1000 [13:39:44<12:55:24, 88.45s/it]"
     ]
    },
    {
     "name": "stdout",
     "output_type": "stream",
     "text": [
      "eigenvalues shape torch.Size([5]) eigenvectors shape torch.Size([5, 400])\n",
      "474 /home/phdcs2/Hard_Disk/Datasets/Deep-Spectral-Segmentation/data/object-segmentation/ECSSD/features/dino_vits16/0475.pth\n",
      "0475\n",
      "tanh_feats.shape= torch.Size([400, 384])\n"
     ]
    },
    {
     "name": "stderr",
     "output_type": "stream",
     "text": [
      " 48%|████▊     | 475/1000 [13:41:06<12:37:09, 86.53s/it]"
     ]
    },
    {
     "name": "stdout",
     "output_type": "stream",
     "text": [
      "W_feat_ds.shape= torch.Size([400, 400])\n",
      "W_feat_hist_pearsoncorr.shape= torch.Size([400, 400])\n",
      "<class 'torch.Tensor'>\n",
      "eigenvalues shape torch.Size([5]) eigenvectors shape torch.Size([5, 400])\n",
      "475 /home/phdcs2/Hard_Disk/Datasets/Deep-Spectral-Segmentation/data/object-segmentation/ECSSD/features/dino_vits16/0476.pth\n",
      "0476\n",
      "tanh_feats.shape= torch.Size([400, 384])\n",
      "W_feat_ds.shape= torch.Size([400, 400])\n",
      "W_feat_hist_pearsoncorr.shape= torch.Size([400, 400])\n",
      "<class 'torch.Tensor'>\n"
     ]
    },
    {
     "name": "stderr",
     "output_type": "stream",
     "text": [
      " 48%|████▊     | 476/1000 [13:42:28<12:25:30, 85.36s/it]"
     ]
    },
    {
     "name": "stdout",
     "output_type": "stream",
     "text": [
      "eigenvalues shape torch.Size([5]) eigenvectors shape torch.Size([5, 400])\n",
      "476 /home/phdcs2/Hard_Disk/Datasets/Deep-Spectral-Segmentation/data/object-segmentation/ECSSD/features/dino_vits16/0477.pth\n",
      "0477\n",
      "tanh_feats.shape= torch.Size([450, 384])\n",
      "W_feat_ds.shape= torch.Size([450, 450])\n",
      "W_feat_hist_pearsoncorr.shape= torch.Size([450, 450])\n",
      "<class 'torch.Tensor'>\n"
     ]
    },
    {
     "name": "stderr",
     "output_type": "stream",
     "text": [
      " 48%|████▊     | 477/1000 [13:44:12<13:11:46, 90.84s/it]"
     ]
    },
    {
     "name": "stdout",
     "output_type": "stream",
     "text": [
      "eigenvalues shape torch.Size([5]) eigenvectors shape torch.Size([5, 400])\n",
      "477 /home/phdcs2/Hard_Disk/Datasets/Deep-Spectral-Segmentation/data/object-segmentation/ECSSD/features/dino_vits16/0478.pth\n",
      "0478\n",
      "tanh_feats.shape= torch.Size([400, 384])\n",
      "W_feat_ds.shape= torch.Size([400, 400])\n",
      "W_feat_hist_pearsoncorr.shape= torch.Size([400, 400])\n",
      "<class 'torch.Tensor'>\n"
     ]
    },
    {
     "name": "stderr",
     "output_type": "stream",
     "text": [
      " 48%|████▊     | 478/1000 [13:45:34<12:47:51, 88.26s/it]"
     ]
    },
    {
     "name": "stdout",
     "output_type": "stream",
     "text": [
      "eigenvalues shape torch.Size([5]) eigenvectors shape torch.Size([5, 400])\n",
      "478 /home/phdcs2/Hard_Disk/Datasets/Deep-Spectral-Segmentation/data/object-segmentation/ECSSD/features/dino_vits16/0479.pth\n",
      "0479\n",
      "tanh_feats.shape= torch.Size([450, 384])\n",
      "W_feat_ds.shape= torch.Size([450, 450])\n",
      "W_feat_hist_pearsoncorr.shape= torch.Size([450, 450])\n",
      "<class 'torch.Tensor'>\n"
     ]
    },
    {
     "name": "stderr",
     "output_type": "stream",
     "text": [
      " 48%|████▊     | 479/1000 [13:47:19<13:28:34, 93.12s/it]"
     ]
    },
    {
     "name": "stdout",
     "output_type": "stream",
     "text": [
      "eigenvalues shape torch.Size([5]) eigenvectors shape torch.Size([5, 400])\n",
      "479 /home/phdcs2/Hard_Disk/Datasets/Deep-Spectral-Segmentation/data/object-segmentation/ECSSD/features/dino_vits16/0480.pth\n",
      "0480\n",
      "tanh_feats.shape= torch.Size([625, 384])\n",
      "W_feat_ds.shape= torch.Size([625, 625])\n",
      "W_feat_hist_pearsoncorr.shape= torch.Size([625, 625])\n",
      "<class 'torch.Tensor'>\n"
     ]
    },
    {
     "name": "stderr",
     "output_type": "stream",
     "text": [
      " 48%|████▊     | 480/1000 [13:50:40<18:07:03, 125.43s/it]"
     ]
    },
    {
     "name": "stdout",
     "output_type": "stream",
     "text": [
      "eigenvalues shape torch.Size([5]) eigenvectors shape torch.Size([5, 400])\n",
      "480 /home/phdcs2/Hard_Disk/Datasets/Deep-Spectral-Segmentation/data/object-segmentation/ECSSD/features/dino_vits16/0481.pth\n",
      "0481\n",
      "tanh_feats.shape= torch.Size([450, 384])\n"
     ]
    },
    {
     "name": "stderr",
     "output_type": "stream",
     "text": [
      " 48%|████▊     | 481/1000 [13:52:23<17:08:40, 118.92s/it]"
     ]
    },
    {
     "name": "stdout",
     "output_type": "stream",
     "text": [
      "W_feat_ds.shape= torch.Size([450, 450])\n",
      "W_feat_hist_pearsoncorr.shape= torch.Size([450, 450])\n",
      "<class 'torch.Tensor'>\n",
      "eigenvalues shape torch.Size([5]) eigenvectors shape torch.Size([5, 400])\n",
      "481 /home/phdcs2/Hard_Disk/Datasets/Deep-Spectral-Segmentation/data/object-segmentation/ECSSD/features/dino_vits16/0482.pth\n",
      "0482\n",
      "tanh_feats.shape= torch.Size([450, 384])\n",
      "W_feat_ds.shape= torch.Size([450, 450])\n",
      "W_feat_hist_pearsoncorr.shape= torch.Size([450, 450])\n",
      "<class 'torch.Tensor'>\n"
     ]
    },
    {
     "name": "stderr",
     "output_type": "stream",
     "text": [
      " 48%|████▊     | 482/1000 [13:54:07<16:28:07, 114.45s/it]"
     ]
    },
    {
     "name": "stdout",
     "output_type": "stream",
     "text": [
      "eigenvalues shape torch.Size([5]) eigenvectors shape torch.Size([5, 400])\n",
      "482 /home/phdcs2/Hard_Disk/Datasets/Deep-Spectral-Segmentation/data/object-segmentation/ECSSD/features/dino_vits16/0483.pth\n",
      "0483\n",
      "tanh_feats.shape= torch.Size([400, 384])\n",
      "W_feat_ds.shape= torch.Size([400, 400])\n",
      "W_feat_hist_pearsoncorr.shape= torch.Size([400, 400])\n",
      "<class 'torch.Tensor'>\n"
     ]
    },
    {
     "name": "stderr",
     "output_type": "stream",
     "text": [
      " 48%|████▊     | 483/1000 [13:55:31<15:05:41, 105.11s/it]"
     ]
    },
    {
     "name": "stdout",
     "output_type": "stream",
     "text": [
      "eigenvalues shape torch.Size([5]) eigenvectors shape torch.Size([5, 400])\n",
      "483 /home/phdcs2/Hard_Disk/Datasets/Deep-Spectral-Segmentation/data/object-segmentation/ECSSD/features/dino_vits16/0484.pth\n",
      "0484\n",
      "tanh_feats.shape= torch.Size([450, 384])\n",
      "W_feat_ds.shape= torch.Size([450, 450])\n",
      "W_feat_hist_pearsoncorr.shape= torch.Size([450, 450])\n",
      "<class 'torch.Tensor'>\n"
     ]
    },
    {
     "name": "stderr",
     "output_type": "stream",
     "text": [
      " 48%|████▊     | 484/1000 [13:57:14<14:59:49, 104.63s/it]"
     ]
    },
    {
     "name": "stdout",
     "output_type": "stream",
     "text": [
      "eigenvalues shape torch.Size([5]) eigenvectors shape torch.Size([5, 400])\n",
      "484 /home/phdcs2/Hard_Disk/Datasets/Deep-Spectral-Segmentation/data/object-segmentation/ECSSD/features/dino_vits16/0485.pth\n",
      "0485\n",
      "tanh_feats.shape= torch.Size([400, 384])\n"
     ]
    },
    {
     "name": "stderr",
     "output_type": "stream",
     "text": [
      " 48%|████▊     | 485/1000 [13:58:36<13:59:47, 97.84s/it] "
     ]
    },
    {
     "name": "stdout",
     "output_type": "stream",
     "text": [
      "W_feat_ds.shape= torch.Size([400, 400])\n",
      "W_feat_hist_pearsoncorr.shape= torch.Size([400, 400])\n",
      "<class 'torch.Tensor'>\n",
      "eigenvalues shape torch.Size([5]) eigenvectors shape torch.Size([5, 400])\n",
      "485 /home/phdcs2/Hard_Disk/Datasets/Deep-Spectral-Segmentation/data/object-segmentation/ECSSD/features/dino_vits16/0486.pth\n",
      "0486\n",
      "tanh_feats.shape= torch.Size([450, 384])\n",
      "W_feat_ds.shape= torch.Size([450, 450])\n",
      "W_feat_hist_pearsoncorr.shape= torch.Size([450, 450])\n",
      "<class 'torch.Tensor'>\n"
     ]
    },
    {
     "name": "stderr",
     "output_type": "stream",
     "text": [
      " 49%|████▊     | 486/1000 [14:00:22<14:17:48, 100.13s/it]"
     ]
    },
    {
     "name": "stdout",
     "output_type": "stream",
     "text": [
      "eigenvalues shape torch.Size([5]) eigenvectors shape torch.Size([5, 400])\n",
      "486 /home/phdcs2/Hard_Disk/Datasets/Deep-Spectral-Segmentation/data/object-segmentation/ECSSD/features/dino_vits16/0487.pth\n",
      "0487\n",
      "tanh_feats.shape= torch.Size([400, 384])\n",
      "W_feat_ds.shape= torch.Size([400, 400])\n",
      "W_feat_hist_pearsoncorr.shape= torch.Size([400, 400])\n",
      "<class 'torch.Tensor'>\n"
     ]
    },
    {
     "name": "stderr",
     "output_type": "stream",
     "text": [
      " 49%|████▊     | 487/1000 [14:01:44<13:30:41, 94.82s/it] "
     ]
    },
    {
     "name": "stdout",
     "output_type": "stream",
     "text": [
      "eigenvalues shape torch.Size([5]) eigenvectors shape torch.Size([5, 400])\n",
      "487 /home/phdcs2/Hard_Disk/Datasets/Deep-Spectral-Segmentation/data/object-segmentation/ECSSD/features/dino_vits16/0488.pth\n",
      "0488\n",
      "tanh_feats.shape= torch.Size([400, 384])\n",
      "W_feat_ds.shape= torch.Size([400, 400])\n",
      "W_feat_hist_pearsoncorr.shape= torch.Size([400, 400])\n",
      "<class 'torch.Tensor'>\n"
     ]
    },
    {
     "name": "stderr",
     "output_type": "stream",
     "text": [
      " 49%|████▉     | 488/1000 [14:03:07<12:59:20, 91.33s/it]"
     ]
    },
    {
     "name": "stdout",
     "output_type": "stream",
     "text": [
      "eigenvalues shape torch.Size([5]) eigenvectors shape torch.Size([5, 400])\n",
      "488 /home/phdcs2/Hard_Disk/Datasets/Deep-Spectral-Segmentation/data/object-segmentation/ECSSD/features/dino_vits16/0489.pth\n",
      "0489\n",
      "tanh_feats.shape= torch.Size([550, 384])\n",
      "W_feat_ds.shape= torch.Size([550, 550])\n",
      "W_feat_hist_pearsoncorr.shape= torch.Size([550, 550])\n",
      "<class 'torch.Tensor'>\n"
     ]
    },
    {
     "name": "stderr",
     "output_type": "stream",
     "text": [
      " 49%|████▉     | 489/1000 [14:05:44<15:44:28, 110.90s/it]"
     ]
    },
    {
     "name": "stdout",
     "output_type": "stream",
     "text": [
      "eigenvalues shape torch.Size([5]) eigenvectors shape torch.Size([5, 400])\n",
      "489 /home/phdcs2/Hard_Disk/Datasets/Deep-Spectral-Segmentation/data/object-segmentation/ECSSD/features/dino_vits16/0490.pth\n",
      "0490\n",
      "tanh_feats.shape= torch.Size([400, 384])\n"
     ]
    },
    {
     "name": "stderr",
     "output_type": "stream",
     "text": [
      " 49%|████▉     | 490/1000 [14:07:06<14:30:32, 102.42s/it]"
     ]
    },
    {
     "name": "stdout",
     "output_type": "stream",
     "text": [
      "W_feat_ds.shape= torch.Size([400, 400])\n",
      "W_feat_hist_pearsoncorr.shape= torch.Size([400, 400])\n",
      "<class 'torch.Tensor'>\n",
      "eigenvalues shape torch.Size([5]) eigenvectors shape torch.Size([5, 400])\n",
      "490 /home/phdcs2/Hard_Disk/Datasets/Deep-Spectral-Segmentation/data/object-segmentation/ECSSD/features/dino_vits16/0491.pth\n",
      "0491\n",
      "tanh_feats.shape= torch.Size([500, 384])\n"
     ]
    },
    {
     "name": "stderr",
     "output_type": "stream",
     "text": [
      " 49%|████▉     | 491/1000 [14:09:17<15:39:56, 110.80s/it]"
     ]
    },
    {
     "name": "stdout",
     "output_type": "stream",
     "text": [
      "W_feat_ds.shape= torch.Size([500, 500])\n",
      "W_feat_hist_pearsoncorr.shape= torch.Size([500, 500])\n",
      "<class 'torch.Tensor'>\n",
      "eigenvalues shape torch.Size([5]) eigenvectors shape torch.Size([5, 400])\n",
      "491 /home/phdcs2/Hard_Disk/Datasets/Deep-Spectral-Segmentation/data/object-segmentation/ECSSD/features/dino_vits16/0492.pth\n",
      "0492\n",
      "tanh_feats.shape= torch.Size([450, 384])\n",
      "W_feat_ds.shape= torch.Size([450, 450])\n",
      "W_feat_hist_pearsoncorr.shape= torch.Size([450, 450])\n",
      "<class 'torch.Tensor'>\n"
     ]
    },
    {
     "name": "stderr",
     "output_type": "stream",
     "text": [
      " 49%|████▉     | 492/1000 [14:11:01<15:20:32, 108.72s/it]"
     ]
    },
    {
     "name": "stdout",
     "output_type": "stream",
     "text": [
      "eigenvalues shape torch.Size([5]) eigenvectors shape torch.Size([5, 400])\n",
      "492 /home/phdcs2/Hard_Disk/Datasets/Deep-Spectral-Segmentation/data/object-segmentation/ECSSD/features/dino_vits16/0493.pth\n",
      "0493\n",
      "tanh_feats.shape= torch.Size([400, 384])\n"
     ]
    },
    {
     "name": "stderr",
     "output_type": "stream",
     "text": [
      " 49%|████▉     | 493/1000 [14:12:24<14:13:58, 101.06s/it]"
     ]
    },
    {
     "name": "stdout",
     "output_type": "stream",
     "text": [
      "W_feat_ds.shape= torch.Size([400, 400])\n",
      "W_feat_hist_pearsoncorr.shape= torch.Size([400, 400])\n",
      "<class 'torch.Tensor'>\n",
      "eigenvalues shape torch.Size([5]) eigenvectors shape torch.Size([5, 400])\n",
      "493 /home/phdcs2/Hard_Disk/Datasets/Deep-Spectral-Segmentation/data/object-segmentation/ECSSD/features/dino_vits16/0494.pth\n",
      "0494\n",
      "tanh_feats.shape= torch.Size([400, 384])\n",
      "W_feat_ds.shape= torch.Size([400, 400])\n",
      "W_feat_hist_pearsoncorr.shape= torch.Size([400, 400])\n",
      "<class 'torch.Tensor'>\n"
     ]
    },
    {
     "name": "stderr",
     "output_type": "stream",
     "text": [
      " 49%|████▉     | 494/1000 [14:13:47<13:27:03, 95.70s/it] "
     ]
    },
    {
     "name": "stdout",
     "output_type": "stream",
     "text": [
      "eigenvalues shape torch.Size([5]) eigenvectors shape torch.Size([5, 400])\n",
      "494 /home/phdcs2/Hard_Disk/Datasets/Deep-Spectral-Segmentation/data/object-segmentation/ECSSD/features/dino_vits16/0495.pth\n",
      "0495\n",
      "tanh_feats.shape= torch.Size([400, 384])\n",
      "W_feat_ds.shape= torch.Size([400, 400])\n",
      "W_feat_hist_pearsoncorr.shape= torch.Size([400, 400])\n",
      "<class 'torch.Tensor'>\n"
     ]
    },
    {
     "name": "stderr",
     "output_type": "stream",
     "text": [
      " 50%|████▉     | 495/1000 [14:15:11<12:54:32, 92.02s/it]"
     ]
    },
    {
     "name": "stdout",
     "output_type": "stream",
     "text": [
      "eigenvalues shape torch.Size([5]) eigenvectors shape torch.Size([5, 400])\n",
      "495 /home/phdcs2/Hard_Disk/Datasets/Deep-Spectral-Segmentation/data/object-segmentation/ECSSD/features/dino_vits16/0496.pth\n",
      "0496\n",
      "tanh_feats.shape= torch.Size([450, 384])\n",
      "W_feat_ds.shape= torch.Size([450, 450])\n",
      "W_feat_hist_pearsoncorr.shape= torch.Size([450, 450])\n",
      "<class 'torch.Tensor'>\n"
     ]
    },
    {
     "name": "stderr",
     "output_type": "stream",
     "text": [
      " 50%|████▉     | 496/1000 [14:16:56<13:25:51, 95.94s/it]"
     ]
    },
    {
     "name": "stdout",
     "output_type": "stream",
     "text": [
      "eigenvalues shape torch.Size([5]) eigenvectors shape torch.Size([5, 400])\n",
      "496 /home/phdcs2/Hard_Disk/Datasets/Deep-Spectral-Segmentation/data/object-segmentation/ECSSD/features/dino_vits16/0497.pth\n",
      "0497\n",
      "tanh_feats.shape= torch.Size([450, 384])\n",
      "W_feat_ds.shape= torch.Size([450, 450])\n",
      "W_feat_hist_pearsoncorr.shape= torch.Size([450, 450])\n",
      "<class 'torch.Tensor'>\n"
     ]
    },
    {
     "name": "stderr",
     "output_type": "stream",
     "text": [
      " 50%|████▉     | 497/1000 [14:18:39<13:44:17, 98.32s/it]"
     ]
    },
    {
     "name": "stdout",
     "output_type": "stream",
     "text": [
      "eigenvalues shape torch.Size([5]) eigenvectors shape torch.Size([5, 400])\n",
      "497 /home/phdcs2/Hard_Disk/Datasets/Deep-Spectral-Segmentation/data/object-segmentation/ECSSD/features/dino_vits16/0498.pth\n",
      "0498\n",
      "tanh_feats.shape= torch.Size([400, 384])\n",
      "W_feat_ds.shape= torch.Size([400, 400])\n",
      "W_feat_hist_pearsoncorr.shape= torch.Size([400, 400])\n",
      "<class 'torch.Tensor'>\n"
     ]
    },
    {
     "name": "stderr",
     "output_type": "stream",
     "text": [
      " 50%|████▉     | 498/1000 [14:20:02<13:02:40, 93.55s/it]"
     ]
    },
    {
     "name": "stdout",
     "output_type": "stream",
     "text": [
      "eigenvalues shape torch.Size([5]) eigenvectors shape torch.Size([5, 400])\n",
      "498 /home/phdcs2/Hard_Disk/Datasets/Deep-Spectral-Segmentation/data/object-segmentation/ECSSD/features/dino_vits16/0499.pth\n",
      "0499\n",
      "tanh_feats.shape= torch.Size([450, 384])\n",
      "W_feat_ds.shape= torch.Size([450, 450])\n",
      "W_feat_hist_pearsoncorr.shape= torch.Size([450, 450])\n",
      "<class 'torch.Tensor'>\n"
     ]
    },
    {
     "name": "stderr",
     "output_type": "stream",
     "text": [
      " 50%|████▉     | 499/1000 [14:21:47<13:30:12, 97.03s/it]"
     ]
    },
    {
     "name": "stdout",
     "output_type": "stream",
     "text": [
      "eigenvalues shape torch.Size([5]) eigenvectors shape torch.Size([5, 400])\n",
      "499 /home/phdcs2/Hard_Disk/Datasets/Deep-Spectral-Segmentation/data/object-segmentation/ECSSD/features/dino_vits16/0500.pth\n",
      "0500\n",
      "tanh_feats.shape= torch.Size([450, 384])\n"
     ]
    },
    {
     "name": "stderr",
     "output_type": "stream",
     "text": [
      " 50%|█████     | 500/1000 [14:23:32<13:47:27, 99.30s/it]"
     ]
    },
    {
     "name": "stdout",
     "output_type": "stream",
     "text": [
      "W_feat_ds.shape= torch.Size([450, 450])\n",
      "W_feat_hist_pearsoncorr.shape= torch.Size([450, 450])\n",
      "<class 'torch.Tensor'>\n",
      "eigenvalues shape torch.Size([5]) eigenvectors shape torch.Size([5, 400])\n",
      "500 /home/phdcs2/Hard_Disk/Datasets/Deep-Spectral-Segmentation/data/object-segmentation/ECSSD/features/dino_vits16/0501.pth\n",
      "0501\n",
      "tanh_feats.shape= torch.Size([450, 384])\n",
      "W_feat_ds.shape= torch.Size([450, 450])\n",
      "W_feat_hist_pearsoncorr.shape= torch.Size([450, 450])\n",
      "<class 'torch.Tensor'>\n"
     ]
    },
    {
     "name": "stderr",
     "output_type": "stream",
     "text": [
      " 50%|█████     | 501/1000 [14:25:16<13:57:58, 100.76s/it]"
     ]
    },
    {
     "name": "stdout",
     "output_type": "stream",
     "text": [
      "eigenvalues shape torch.Size([5]) eigenvectors shape torch.Size([5, 400])\n",
      "501 /home/phdcs2/Hard_Disk/Datasets/Deep-Spectral-Segmentation/data/object-segmentation/ECSSD/features/dino_vits16/0502.pth\n",
      "0502\n",
      "tanh_feats.shape= torch.Size([625, 384])\n",
      "W_feat_ds.shape= torch.Size([625, 625])\n",
      "W_feat_hist_pearsoncorr.shape= torch.Size([625, 625])\n",
      "<class 'torch.Tensor'>\n"
     ]
    },
    {
     "name": "stderr",
     "output_type": "stream",
     "text": [
      " 50%|█████     | 502/1000 [14:28:35<18:00:59, 130.24s/it]"
     ]
    },
    {
     "name": "stdout",
     "output_type": "stream",
     "text": [
      "eigenvalues shape torch.Size([5]) eigenvectors shape torch.Size([5, 400])\n",
      "502 /home/phdcs2/Hard_Disk/Datasets/Deep-Spectral-Segmentation/data/object-segmentation/ECSSD/features/dino_vits16/0503.pth\n",
      "0503\n",
      "tanh_feats.shape= torch.Size([400, 384])\n",
      "W_feat_ds.shape= torch.Size([400, 400])\n",
      "W_feat_hist_pearsoncorr.shape= torch.Size([400, 400])\n",
      "<class 'torch.Tensor'>\n"
     ]
    },
    {
     "name": "stderr",
     "output_type": "stream",
     "text": [
      " 50%|█████     | 503/1000 [14:29:56<15:57:56, 115.65s/it]"
     ]
    },
    {
     "name": "stdout",
     "output_type": "stream",
     "text": [
      "eigenvalues shape torch.Size([5]) eigenvectors shape torch.Size([5, 400])\n",
      "503 /home/phdcs2/Hard_Disk/Datasets/Deep-Spectral-Segmentation/data/object-segmentation/ECSSD/features/dino_vits16/0504.pth\n",
      "0504\n",
      "tanh_feats.shape= torch.Size([400, 384])\n",
      "W_feat_ds.shape= torch.Size([400, 400])\n",
      "W_feat_hist_pearsoncorr.shape= torch.Size([400, 400])\n",
      "<class 'torch.Tensor'>\n"
     ]
    },
    {
     "name": "stderr",
     "output_type": "stream",
     "text": [
      " 50%|█████     | 504/1000 [14:31:19<14:33:14, 105.63s/it]"
     ]
    },
    {
     "name": "stdout",
     "output_type": "stream",
     "text": [
      "eigenvalues shape torch.Size([5]) eigenvectors shape torch.Size([5, 400])\n",
      "504 /home/phdcs2/Hard_Disk/Datasets/Deep-Spectral-Segmentation/data/object-segmentation/ECSSD/features/dino_vits16/0505.pth\n",
      "0505\n",
      "tanh_feats.shape= torch.Size([450, 384])\n",
      "W_feat_ds.shape= torch.Size([450, 450])\n",
      "W_feat_hist_pearsoncorr.shape= torch.Size([450, 450])\n",
      "<class 'torch.Tensor'>\n"
     ]
    },
    {
     "name": "stderr",
     "output_type": "stream",
     "text": [
      " 50%|█████     | 505/1000 [14:33:02<14:25:56, 104.96s/it]"
     ]
    },
    {
     "name": "stdout",
     "output_type": "stream",
     "text": [
      "eigenvalues shape torch.Size([5]) eigenvectors shape torch.Size([5, 400])\n",
      "505 /home/phdcs2/Hard_Disk/Datasets/Deep-Spectral-Segmentation/data/object-segmentation/ECSSD/features/dino_vits16/0506.pth\n",
      "0506\n",
      "tanh_feats.shape= torch.Size([400, 384])\n",
      "W_feat_ds.shape= torch.Size([400, 400])\n",
      "W_feat_hist_pearsoncorr.shape= torch.Size([400, 400])\n",
      "<class 'torch.Tensor'>\n"
     ]
    },
    {
     "name": "stderr",
     "output_type": "stream",
     "text": [
      " 51%|█████     | 506/1000 [14:34:25<13:29:11, 98.28s/it] "
     ]
    },
    {
     "name": "stdout",
     "output_type": "stream",
     "text": [
      "eigenvalues shape torch.Size([5]) eigenvectors shape torch.Size([5, 400])\n",
      "506 /home/phdcs2/Hard_Disk/Datasets/Deep-Spectral-Segmentation/data/object-segmentation/ECSSD/features/dino_vits16/0507.pth\n",
      "0507\n",
      "tanh_feats.shape= torch.Size([375, 384])\n",
      "W_feat_ds.shape= torch.Size([375, 375])\n",
      "W_feat_hist_pearsoncorr.shape= torch.Size([375, 375])\n",
      "<class 'torch.Tensor'>\n"
     ]
    },
    {
     "name": "stderr",
     "output_type": "stream",
     "text": [
      " 51%|█████     | 507/1000 [14:35:37<12:22:42, 90.39s/it]"
     ]
    },
    {
     "name": "stdout",
     "output_type": "stream",
     "text": [
      "eigenvalues shape torch.Size([5]) eigenvectors shape torch.Size([5, 400])\n",
      "507 /home/phdcs2/Hard_Disk/Datasets/Deep-Spectral-Segmentation/data/object-segmentation/ECSSD/features/dino_vits16/0508.pth\n",
      "0508\n",
      "tanh_feats.shape= torch.Size([400, 384])\n",
      "W_feat_ds.shape= torch.Size([400, 400])\n",
      "W_feat_hist_pearsoncorr.shape= torch.Size([400, 400])\n",
      "<class 'torch.Tensor'>\n"
     ]
    },
    {
     "name": "stderr",
     "output_type": "stream",
     "text": [
      " 51%|█████     | 508/1000 [14:36:59<12:02:00, 88.05s/it]"
     ]
    },
    {
     "name": "stdout",
     "output_type": "stream",
     "text": [
      "eigenvalues shape torch.Size([5]) eigenvectors shape torch.Size([5, 400])\n",
      "508 /home/phdcs2/Hard_Disk/Datasets/Deep-Spectral-Segmentation/data/object-segmentation/ECSSD/features/dino_vits16/0509.pth\n",
      "0509\n",
      "tanh_feats.shape= torch.Size([625, 384])\n",
      "W_feat_ds.shape= torch.Size([625, 625])\n",
      "W_feat_hist_pearsoncorr.shape= torch.Size([625, 625])\n",
      "<class 'torch.Tensor'>\n"
     ]
    },
    {
     "name": "stderr",
     "output_type": "stream",
     "text": [
      " 51%|█████     | 509/1000 [14:40:20<16:36:37, 121.79s/it]"
     ]
    },
    {
     "name": "stdout",
     "output_type": "stream",
     "text": [
      "eigenvalues shape torch.Size([5]) eigenvectors shape torch.Size([5, 400])\n",
      "509 /home/phdcs2/Hard_Disk/Datasets/Deep-Spectral-Segmentation/data/object-segmentation/ECSSD/features/dino_vits16/0510.pth\n",
      "0510\n",
      "tanh_feats.shape= torch.Size([400, 384])\n"
     ]
    },
    {
     "name": "stderr",
     "output_type": "stream",
     "text": [
      " 51%|█████     | 510/1000 [14:41:42<14:57:08, 109.85s/it]"
     ]
    },
    {
     "name": "stdout",
     "output_type": "stream",
     "text": [
      "W_feat_ds.shape= torch.Size([400, 400])\n",
      "W_feat_hist_pearsoncorr.shape= torch.Size([400, 400])\n",
      "<class 'torch.Tensor'>\n",
      "eigenvalues shape torch.Size([5]) eigenvectors shape torch.Size([5, 400])\n",
      "510 /home/phdcs2/Hard_Disk/Datasets/Deep-Spectral-Segmentation/data/object-segmentation/ECSSD/features/dino_vits16/0511.pth\n",
      "0511\n",
      "tanh_feats.shape= torch.Size([625, 384])\n",
      "W_feat_ds.shape= torch.Size([625, 625])\n",
      "W_feat_hist_pearsoncorr.shape= torch.Size([625, 625])\n",
      "<class 'torch.Tensor'>\n"
     ]
    },
    {
     "name": "stderr",
     "output_type": "stream",
     "text": [
      " 51%|█████     | 511/1000 [14:45:03<18:38:38, 137.26s/it]"
     ]
    },
    {
     "name": "stdout",
     "output_type": "stream",
     "text": [
      "eigenvalues shape torch.Size([5]) eigenvectors shape torch.Size([5, 400])\n",
      "511 /home/phdcs2/Hard_Disk/Datasets/Deep-Spectral-Segmentation/data/object-segmentation/ECSSD/features/dino_vits16/0512.pth\n",
      "0512\n",
      "tanh_feats.shape= torch.Size([400, 384])\n"
     ]
    },
    {
     "name": "stderr",
     "output_type": "stream",
     "text": [
      " 51%|█████     | 512/1000 [14:46:25<16:20:51, 120.60s/it]"
     ]
    },
    {
     "name": "stdout",
     "output_type": "stream",
     "text": [
      "W_feat_ds.shape= torch.Size([400, 400])\n",
      "W_feat_hist_pearsoncorr.shape= torch.Size([400, 400])\n",
      "<class 'torch.Tensor'>\n",
      "eigenvalues shape torch.Size([5]) eigenvectors shape torch.Size([5, 400])\n",
      "512 /home/phdcs2/Hard_Disk/Datasets/Deep-Spectral-Segmentation/data/object-segmentation/ECSSD/features/dino_vits16/0513.pth\n",
      "0513\n",
      "tanh_feats.shape= torch.Size([400, 384])\n",
      "W_feat_ds.shape= torch.Size([400, 400])\n",
      "W_feat_hist_pearsoncorr.shape= torch.Size([400, 400])\n",
      "<class 'torch.Tensor'>\n"
     ]
    },
    {
     "name": "stderr",
     "output_type": "stream",
     "text": [
      " 51%|█████▏    | 513/1000 [14:47:48<14:48:13, 109.43s/it]"
     ]
    },
    {
     "name": "stdout",
     "output_type": "stream",
     "text": [
      "eigenvalues shape torch.Size([5]) eigenvectors shape torch.Size([5, 400])\n",
      "513 /home/phdcs2/Hard_Disk/Datasets/Deep-Spectral-Segmentation/data/object-segmentation/ECSSD/features/dino_vits16/0514.pth\n",
      "0514\n",
      "tanh_feats.shape= torch.Size([450, 384])\n"
     ]
    },
    {
     "name": "stderr",
     "output_type": "stream",
     "text": [
      " 51%|█████▏    | 514/1000 [14:49:33<14:35:35, 108.10s/it]"
     ]
    },
    {
     "name": "stdout",
     "output_type": "stream",
     "text": [
      "W_feat_ds.shape= torch.Size([450, 450])\n",
      "W_feat_hist_pearsoncorr.shape= torch.Size([450, 450])\n",
      "<class 'torch.Tensor'>\n",
      "eigenvalues shape torch.Size([5]) eigenvectors shape torch.Size([5, 400])\n",
      "514 /home/phdcs2/Hard_Disk/Datasets/Deep-Spectral-Segmentation/data/object-segmentation/ECSSD/features/dino_vits16/0515.pth\n",
      "0515\n",
      "tanh_feats.shape= torch.Size([450, 384])\n",
      "W_feat_ds.shape= torch.Size([450, 450])\n",
      "W_feat_hist_pearsoncorr.shape= torch.Size([450, 450])\n",
      "<class 'torch.Tensor'>\n"
     ]
    },
    {
     "name": "stderr",
     "output_type": "stream",
     "text": [
      " 52%|█████▏    | 515/1000 [14:51:18<14:25:47, 107.11s/it]"
     ]
    },
    {
     "name": "stdout",
     "output_type": "stream",
     "text": [
      "eigenvalues shape torch.Size([5]) eigenvectors shape torch.Size([5, 400])\n",
      "515 /home/phdcs2/Hard_Disk/Datasets/Deep-Spectral-Segmentation/data/object-segmentation/ECSSD/features/dino_vits16/0516.pth\n",
      "0516\n",
      "tanh_feats.shape= torch.Size([450, 384])\n",
      "W_feat_ds.shape= torch.Size([450, 450])\n",
      "W_feat_hist_pearsoncorr.shape= torch.Size([450, 450])\n",
      "<class 'torch.Tensor'>\n"
     ]
    },
    {
     "name": "stderr",
     "output_type": "stream",
     "text": [
      " 52%|█████▏    | 516/1000 [14:53:03<14:19:57, 106.61s/it]"
     ]
    },
    {
     "name": "stdout",
     "output_type": "stream",
     "text": [
      "eigenvalues shape torch.Size([5]) eigenvectors shape torch.Size([5, 400])\n",
      "516 /home/phdcs2/Hard_Disk/Datasets/Deep-Spectral-Segmentation/data/object-segmentation/ECSSD/features/dino_vits16/0517.pth\n",
      "0517\n",
      "tanh_feats.shape= torch.Size([450, 384])\n",
      "W_feat_ds.shape= torch.Size([450, 450])\n",
      "W_feat_hist_pearsoncorr.shape= torch.Size([450, 450])\n",
      "<class 'torch.Tensor'>\n"
     ]
    },
    {
     "name": "stderr",
     "output_type": "stream",
     "text": [
      " 52%|█████▏    | 517/1000 [14:54:49<14:14:46, 106.18s/it]"
     ]
    },
    {
     "name": "stdout",
     "output_type": "stream",
     "text": [
      "eigenvalues shape torch.Size([5]) eigenvectors shape torch.Size([5, 400])\n",
      "517 /home/phdcs2/Hard_Disk/Datasets/Deep-Spectral-Segmentation/data/object-segmentation/ECSSD/features/dino_vits16/0518.pth\n",
      "0518\n",
      "tanh_feats.shape= torch.Size([400, 384])\n",
      "W_feat_ds.shape= torch.Size([400, 400])\n",
      "W_feat_hist_pearsoncorr.shape= torch.Size([400, 400])\n",
      "<class 'torch.Tensor'>\n"
     ]
    },
    {
     "name": "stderr",
     "output_type": "stream",
     "text": [
      " 52%|█████▏    | 518/1000 [14:56:11<13:15:45, 99.06s/it] "
     ]
    },
    {
     "name": "stdout",
     "output_type": "stream",
     "text": [
      "eigenvalues shape torch.Size([5]) eigenvectors shape torch.Size([5, 400])\n",
      "518 /home/phdcs2/Hard_Disk/Datasets/Deep-Spectral-Segmentation/data/object-segmentation/ECSSD/features/dino_vits16/0519.pth\n",
      "0519\n",
      "tanh_feats.shape= torch.Size([375, 384])\n",
      "W_feat_ds.shape= torch.Size([375, 375])\n",
      "W_feat_hist_pearsoncorr.shape= torch.Size([375, 375])\n",
      "<class 'torch.Tensor'>\n"
     ]
    },
    {
     "name": "stderr",
     "output_type": "stream",
     "text": [
      " 52%|█████▏    | 519/1000 [14:57:24<12:12:37, 91.39s/it]"
     ]
    },
    {
     "name": "stdout",
     "output_type": "stream",
     "text": [
      "eigenvalues shape torch.Size([5]) eigenvectors shape torch.Size([5, 400])\n",
      "519 /home/phdcs2/Hard_Disk/Datasets/Deep-Spectral-Segmentation/data/object-segmentation/ECSSD/features/dino_vits16/0520.pth\n",
      "0520\n",
      "tanh_feats.shape= torch.Size([450, 384])\n"
     ]
    },
    {
     "name": "stderr",
     "output_type": "stream",
     "text": [
      " 52%|█████▏    | 520/1000 [14:59:09<12:43:13, 95.40s/it]"
     ]
    },
    {
     "name": "stdout",
     "output_type": "stream",
     "text": [
      "W_feat_ds.shape= torch.Size([450, 450])\n",
      "W_feat_hist_pearsoncorr.shape= torch.Size([450, 450])\n",
      "<class 'torch.Tensor'>\n",
      "eigenvalues shape torch.Size([5]) eigenvectors shape torch.Size([5, 400])\n",
      "520 /home/phdcs2/Hard_Disk/Datasets/Deep-Spectral-Segmentation/data/object-segmentation/ECSSD/features/dino_vits16/0521.pth\n",
      "0521\n",
      "tanh_feats.shape= torch.Size([450, 384])\n",
      "W_feat_ds.shape= torch.Size([450, 450])\n",
      "W_feat_hist_pearsoncorr.shape= torch.Size([450, 450])\n",
      "<class 'torch.Tensor'>\n"
     ]
    },
    {
     "name": "stderr",
     "output_type": "stream",
     "text": [
      " 52%|█████▏    | 521/1000 [15:00:54<13:03:16, 98.11s/it]"
     ]
    },
    {
     "name": "stdout",
     "output_type": "stream",
     "text": [
      "eigenvalues shape torch.Size([5]) eigenvectors shape torch.Size([5, 400])\n",
      "521 /home/phdcs2/Hard_Disk/Datasets/Deep-Spectral-Segmentation/data/object-segmentation/ECSSD/features/dino_vits16/0522.pth\n",
      "0522\n",
      "tanh_feats.shape= torch.Size([450, 384])\n",
      "W_feat_ds.shape= torch.Size([450, 450])\n",
      "W_feat_hist_pearsoncorr.shape= torch.Size([450, 450])\n",
      "<class 'torch.Tensor'>\n"
     ]
    },
    {
     "name": "stderr",
     "output_type": "stream",
     "text": [
      " 52%|█████▏    | 522/1000 [15:02:38<13:15:30, 99.85s/it]"
     ]
    },
    {
     "name": "stdout",
     "output_type": "stream",
     "text": [
      "eigenvalues shape torch.Size([5]) eigenvectors shape torch.Size([5, 400])\n",
      "522 /home/phdcs2/Hard_Disk/Datasets/Deep-Spectral-Segmentation/data/object-segmentation/ECSSD/features/dino_vits16/0523.pth\n",
      "0523\n",
      "tanh_feats.shape= torch.Size([450, 384])\n",
      "W_feat_ds.shape= torch.Size([450, 450])\n",
      "W_feat_hist_pearsoncorr.shape= torch.Size([450, 450])\n",
      "<class 'torch.Tensor'>\n"
     ]
    },
    {
     "name": "stderr",
     "output_type": "stream",
     "text": [
      " 52%|█████▏    | 523/1000 [15:04:23<13:27:40, 101.59s/it]"
     ]
    },
    {
     "name": "stdout",
     "output_type": "stream",
     "text": [
      "eigenvalues shape torch.Size([5]) eigenvectors shape torch.Size([5, 400])\n",
      "523 /home/phdcs2/Hard_Disk/Datasets/Deep-Spectral-Segmentation/data/object-segmentation/ECSSD/features/dino_vits16/0524.pth\n",
      "0524\n",
      "tanh_feats.shape= torch.Size([475, 384])\n",
      "W_feat_ds.shape= torch.Size([475, 475])\n",
      "W_feat_hist_pearsoncorr.shape= torch.Size([475, 475])\n",
      "<class 'torch.Tensor'>\n"
     ]
    },
    {
     "name": "stderr",
     "output_type": "stream",
     "text": [
      " 52%|█████▏    | 524/1000 [15:06:19<13:59:20, 105.80s/it]"
     ]
    },
    {
     "name": "stdout",
     "output_type": "stream",
     "text": [
      "eigenvalues shape torch.Size([5]) eigenvectors shape torch.Size([5, 400])\n",
      "524 /home/phdcs2/Hard_Disk/Datasets/Deep-Spectral-Segmentation/data/object-segmentation/ECSSD/features/dino_vits16/0525.pth\n",
      "0525\n",
      "tanh_feats.shape= torch.Size([400, 384])\n",
      "W_feat_ds.shape= torch.Size([400, 400])\n",
      "W_feat_hist_pearsoncorr.shape= torch.Size([400, 400])\n",
      "<class 'torch.Tensor'>\n"
     ]
    },
    {
     "name": "stderr",
     "output_type": "stream",
     "text": [
      " 52%|█████▎    | 525/1000 [15:07:42<13:02:36, 98.86s/it] "
     ]
    },
    {
     "name": "stdout",
     "output_type": "stream",
     "text": [
      "eigenvalues shape torch.Size([5]) eigenvectors shape torch.Size([5, 400])\n",
      "525 /home/phdcs2/Hard_Disk/Datasets/Deep-Spectral-Segmentation/data/object-segmentation/ECSSD/features/dino_vits16/0526.pth\n",
      "0526\n",
      "tanh_feats.shape= torch.Size([500, 384])\n",
      "W_feat_ds.shape= torch.Size([500, 500])\n",
      "W_feat_hist_pearsoncorr.shape= torch.Size([500, 500])\n",
      "<class 'torch.Tensor'>\n"
     ]
    },
    {
     "name": "stderr",
     "output_type": "stream",
     "text": [
      " 53%|█████▎    | 526/1000 [15:09:50<14:11:24, 107.77s/it]"
     ]
    },
    {
     "name": "stdout",
     "output_type": "stream",
     "text": [
      "eigenvalues shape torch.Size([5]) eigenvectors shape torch.Size([5, 400])\n",
      "526 /home/phdcs2/Hard_Disk/Datasets/Deep-Spectral-Segmentation/data/object-segmentation/ECSSD/features/dino_vits16/0527.pth\n",
      "0527\n",
      "tanh_feats.shape= torch.Size([400, 384])\n"
     ]
    },
    {
     "name": "stderr",
     "output_type": "stream",
     "text": [
      " 53%|█████▎    | 527/1000 [15:11:12<13:09:29, 100.15s/it]"
     ]
    },
    {
     "name": "stdout",
     "output_type": "stream",
     "text": [
      "W_feat_ds.shape= torch.Size([400, 400])\n",
      "W_feat_hist_pearsoncorr.shape= torch.Size([400, 400])\n",
      "<class 'torch.Tensor'>\n",
      "eigenvalues shape torch.Size([5]) eigenvectors shape torch.Size([5, 400])\n",
      "527 /home/phdcs2/Hard_Disk/Datasets/Deep-Spectral-Segmentation/data/object-segmentation/ECSSD/features/dino_vits16/0528.pth\n",
      "0528\n",
      "tanh_feats.shape= torch.Size([400, 384])\n",
      "W_feat_ds.shape= torch.Size([400, 400])\n",
      "W_feat_hist_pearsoncorr.shape= torch.Size([400, 400])\n",
      "<class 'torch.Tensor'>\n"
     ]
    },
    {
     "name": "stderr",
     "output_type": "stream",
     "text": [
      " 53%|█████▎    | 528/1000 [15:12:35<12:25:13, 94.73s/it] "
     ]
    },
    {
     "name": "stdout",
     "output_type": "stream",
     "text": [
      "eigenvalues shape torch.Size([5]) eigenvectors shape torch.Size([5, 400])\n",
      "528 /home/phdcs2/Hard_Disk/Datasets/Deep-Spectral-Segmentation/data/object-segmentation/ECSSD/features/dino_vits16/0529.pth\n",
      "0529\n",
      "tanh_feats.shape= torch.Size([400, 384])\n",
      "W_feat_ds.shape= torch.Size([400, 400])\n",
      "W_feat_hist_pearsoncorr.shape= torch.Size([400, 400])\n",
      "<class 'torch.Tensor'>\n"
     ]
    },
    {
     "name": "stderr",
     "output_type": "stream",
     "text": [
      " 53%|█████▎    | 529/1000 [15:13:59<11:58:37, 91.54s/it]"
     ]
    },
    {
     "name": "stdout",
     "output_type": "stream",
     "text": [
      "eigenvalues shape torch.Size([5]) eigenvectors shape torch.Size([5, 400])\n",
      "529 /home/phdcs2/Hard_Disk/Datasets/Deep-Spectral-Segmentation/data/object-segmentation/ECSSD/features/dino_vits16/0530.pth\n",
      "0530\n",
      "tanh_feats.shape= torch.Size([500, 384])\n",
      "W_feat_ds.shape= torch.Size([500, 500])\n",
      "W_feat_hist_pearsoncorr.shape= torch.Size([500, 500])\n",
      "<class 'torch.Tensor'>\n"
     ]
    },
    {
     "name": "stderr",
     "output_type": "stream",
     "text": [
      " 53%|█████▎    | 530/1000 [15:16:06<13:22:19, 102.43s/it]"
     ]
    },
    {
     "name": "stdout",
     "output_type": "stream",
     "text": [
      "eigenvalues shape torch.Size([5]) eigenvectors shape torch.Size([5, 400])\n",
      "530 /home/phdcs2/Hard_Disk/Datasets/Deep-Spectral-Segmentation/data/object-segmentation/ECSSD/features/dino_vits16/0531.pth\n",
      "0531\n",
      "tanh_feats.shape= torch.Size([450, 384])\n",
      "W_feat_ds.shape= torch.Size([450, 450])\n",
      "W_feat_hist_pearsoncorr.shape= torch.Size([450, 450])\n",
      "<class 'torch.Tensor'>\n"
     ]
    },
    {
     "name": "stderr",
     "output_type": "stream",
     "text": [
      " 53%|█████▎    | 531/1000 [15:17:51<13:25:40, 103.07s/it]"
     ]
    },
    {
     "name": "stdout",
     "output_type": "stream",
     "text": [
      "eigenvalues shape torch.Size([5]) eigenvectors shape torch.Size([5, 400])\n",
      "531 /home/phdcs2/Hard_Disk/Datasets/Deep-Spectral-Segmentation/data/object-segmentation/ECSSD/features/dino_vits16/0532.pth\n",
      "0532\n",
      "tanh_feats.shape= torch.Size([450, 384])\n",
      "W_feat_ds.shape= torch.Size([450, 450])\n",
      "W_feat_hist_pearsoncorr.shape= torch.Size([450, 450])\n",
      "<class 'torch.Tensor'>\n"
     ]
    },
    {
     "name": "stderr",
     "output_type": "stream",
     "text": [
      " 53%|█████▎    | 532/1000 [15:19:35<13:26:34, 103.41s/it]"
     ]
    },
    {
     "name": "stdout",
     "output_type": "stream",
     "text": [
      "eigenvalues shape torch.Size([5]) eigenvectors shape torch.Size([5, 400])\n",
      "532 /home/phdcs2/Hard_Disk/Datasets/Deep-Spectral-Segmentation/data/object-segmentation/ECSSD/features/dino_vits16/0533.pth\n",
      "0533\n",
      "tanh_feats.shape= torch.Size([400, 384])\n"
     ]
    },
    {
     "name": "stderr",
     "output_type": "stream",
     "text": [
      " 53%|█████▎    | 533/1000 [15:20:58<12:37:42, 97.35s/it] "
     ]
    },
    {
     "name": "stdout",
     "output_type": "stream",
     "text": [
      "W_feat_ds.shape= torch.Size([400, 400])\n",
      "W_feat_hist_pearsoncorr.shape= torch.Size([400, 400])\n",
      "<class 'torch.Tensor'>\n",
      "eigenvalues shape torch.Size([5]) eigenvectors shape torch.Size([5, 400])\n",
      "533 /home/phdcs2/Hard_Disk/Datasets/Deep-Spectral-Segmentation/data/object-segmentation/ECSSD/features/dino_vits16/0534.pth\n",
      "0534\n",
      "tanh_feats.shape= torch.Size([450, 384])\n",
      "W_feat_ds.shape= torch.Size([450, 450])\n",
      "W_feat_hist_pearsoncorr.shape= torch.Size([450, 450])\n",
      "<class 'torch.Tensor'>\n"
     ]
    },
    {
     "name": "stderr",
     "output_type": "stream",
     "text": [
      " 53%|█████▎    | 534/1000 [15:22:43<12:53:36, 99.61s/it]"
     ]
    },
    {
     "name": "stdout",
     "output_type": "stream",
     "text": [
      "eigenvalues shape torch.Size([5]) eigenvectors shape torch.Size([5, 400])\n",
      "534 /home/phdcs2/Hard_Disk/Datasets/Deep-Spectral-Segmentation/data/object-segmentation/ECSSD/features/dino_vits16/0535.pth\n",
      "0535\n",
      "tanh_feats.shape= torch.Size([400, 384])\n"
     ]
    },
    {
     "name": "stderr",
     "output_type": "stream",
     "text": [
      " 54%|█████▎    | 535/1000 [15:24:07<12:13:44, 94.68s/it]"
     ]
    },
    {
     "name": "stdout",
     "output_type": "stream",
     "text": [
      "W_feat_ds.shape= torch.Size([400, 400])\n",
      "W_feat_hist_pearsoncorr.shape= torch.Size([400, 400])\n",
      "<class 'torch.Tensor'>\n",
      "eigenvalues shape torch.Size([5]) eigenvectors shape torch.Size([5, 400])\n",
      "535 /home/phdcs2/Hard_Disk/Datasets/Deep-Spectral-Segmentation/data/object-segmentation/ECSSD/features/dino_vits16/0536.pth\n",
      "0536\n",
      "tanh_feats.shape= torch.Size([450, 384])\n",
      "W_feat_ds.shape= torch.Size([450, 450])\n",
      "W_feat_hist_pearsoncorr.shape= torch.Size([450, 450])\n",
      "<class 'torch.Tensor'>\n"
     ]
    },
    {
     "name": "stderr",
     "output_type": "stream",
     "text": [
      " 54%|█████▎    | 536/1000 [15:25:52<12:36:39, 97.84s/it]"
     ]
    },
    {
     "name": "stdout",
     "output_type": "stream",
     "text": [
      "eigenvalues shape torch.Size([5]) eigenvectors shape torch.Size([5, 400])\n",
      "536 /home/phdcs2/Hard_Disk/Datasets/Deep-Spectral-Segmentation/data/object-segmentation/ECSSD/features/dino_vits16/0537.pth\n",
      "0537\n",
      "tanh_feats.shape= torch.Size([450, 384])\n",
      "W_feat_ds.shape= torch.Size([450, 450])\n",
      "W_feat_hist_pearsoncorr.shape= torch.Size([450, 450])\n",
      "<class 'torch.Tensor'>\n"
     ]
    },
    {
     "name": "stderr",
     "output_type": "stream",
     "text": [
      " 54%|█████▎    | 537/1000 [15:27:35<12:48:36, 99.60s/it]"
     ]
    },
    {
     "name": "stdout",
     "output_type": "stream",
     "text": [
      "eigenvalues shape torch.Size([5]) eigenvectors shape torch.Size([5, 400])\n",
      "537 /home/phdcs2/Hard_Disk/Datasets/Deep-Spectral-Segmentation/data/object-segmentation/ECSSD/features/dino_vits16/0538.pth\n",
      "0538\n",
      "tanh_feats.shape= torch.Size([400, 384])\n",
      "W_feat_ds.shape= torch.Size([400, 400])\n",
      "W_feat_hist_pearsoncorr.shape= torch.Size([400, 400])\n",
      "<class 'torch.Tensor'>\n"
     ]
    },
    {
     "name": "stderr",
     "output_type": "stream",
     "text": [
      " 54%|█████▍    | 538/1000 [15:28:58<12:08:15, 94.58s/it]"
     ]
    },
    {
     "name": "stdout",
     "output_type": "stream",
     "text": [
      "eigenvalues shape torch.Size([5]) eigenvectors shape torch.Size([5, 400])\n",
      "538 /home/phdcs2/Hard_Disk/Datasets/Deep-Spectral-Segmentation/data/object-segmentation/ECSSD/features/dino_vits16/0539.pth\n",
      "0539\n",
      "tanh_feats.shape= torch.Size([425, 384])\n",
      "W_feat_ds.shape= torch.Size([425, 425])\n",
      "W_feat_hist_pearsoncorr.shape= torch.Size([425, 425])\n",
      "<class 'torch.Tensor'>\n"
     ]
    },
    {
     "name": "stderr",
     "output_type": "stream",
     "text": [
      " 54%|█████▍    | 539/1000 [15:30:32<12:05:01, 94.36s/it]"
     ]
    },
    {
     "name": "stdout",
     "output_type": "stream",
     "text": [
      "eigenvalues shape torch.Size([5]) eigenvectors shape torch.Size([5, 400])\n",
      "539 /home/phdcs2/Hard_Disk/Datasets/Deep-Spectral-Segmentation/data/object-segmentation/ECSSD/features/dino_vits16/0540.pth\n",
      "0540\n",
      "tanh_feats.shape= torch.Size([450, 384])\n",
      "W_feat_ds.shape= torch.Size([450, 450])\n",
      "W_feat_hist_pearsoncorr.shape= torch.Size([450, 450])\n",
      "<class 'torch.Tensor'>\n"
     ]
    },
    {
     "name": "stderr",
     "output_type": "stream",
     "text": [
      " 54%|█████▍    | 540/1000 [15:32:17<12:27:44, 97.53s/it]"
     ]
    },
    {
     "name": "stdout",
     "output_type": "stream",
     "text": [
      "eigenvalues shape torch.Size([5]) eigenvectors shape torch.Size([5, 400])\n",
      "540 /home/phdcs2/Hard_Disk/Datasets/Deep-Spectral-Segmentation/data/object-segmentation/ECSSD/features/dino_vits16/0541.pth\n",
      "0541\n",
      "tanh_feats.shape= torch.Size([400, 384])\n"
     ]
    },
    {
     "name": "stderr",
     "output_type": "stream",
     "text": [
      " 54%|█████▍    | 541/1000 [15:33:40<11:51:39, 93.03s/it]"
     ]
    },
    {
     "name": "stdout",
     "output_type": "stream",
     "text": [
      "W_feat_ds.shape= torch.Size([400, 400])\n",
      "W_feat_hist_pearsoncorr.shape= torch.Size([400, 400])\n",
      "<class 'torch.Tensor'>\n",
      "eigenvalues shape torch.Size([5]) eigenvectors shape torch.Size([5, 400])\n",
      "541 /home/phdcs2/Hard_Disk/Datasets/Deep-Spectral-Segmentation/data/object-segmentation/ECSSD/features/dino_vits16/0542.pth\n",
      "0542\n",
      "tanh_feats.shape= torch.Size([450, 384])\n"
     ]
    },
    {
     "name": "stderr",
     "output_type": "stream",
     "text": [
      " 54%|█████▍    | 542/1000 [15:35:24<12:15:29, 96.35s/it]"
     ]
    },
    {
     "name": "stdout",
     "output_type": "stream",
     "text": [
      "W_feat_ds.shape= torch.Size([450, 450])\n",
      "W_feat_hist_pearsoncorr.shape= torch.Size([450, 450])\n",
      "<class 'torch.Tensor'>\n",
      "eigenvalues shape torch.Size([5]) eigenvectors shape torch.Size([5, 400])\n",
      "542 /home/phdcs2/Hard_Disk/Datasets/Deep-Spectral-Segmentation/data/object-segmentation/ECSSD/features/dino_vits16/0543.pth\n",
      "0543\n",
      "tanh_feats.shape= torch.Size([400, 384])\n",
      "W_feat_ds.shape= torch.Size([400, 400])\n",
      "W_feat_hist_pearsoncorr.shape= torch.Size([400, 400])\n",
      "<class 'torch.Tensor'>\n"
     ]
    },
    {
     "name": "stderr",
     "output_type": "stream",
     "text": [
      " 54%|█████▍    | 543/1000 [15:36:47<11:43:40, 92.39s/it]"
     ]
    },
    {
     "name": "stdout",
     "output_type": "stream",
     "text": [
      "eigenvalues shape torch.Size([5]) eigenvectors shape torch.Size([5, 400])\n",
      "543 /home/phdcs2/Hard_Disk/Datasets/Deep-Spectral-Segmentation/data/object-segmentation/ECSSD/features/dino_vits16/0544.pth\n",
      "0544\n",
      "tanh_feats.shape= torch.Size([400, 384])\n",
      "W_feat_ds.shape= torch.Size([400, 400])\n",
      "W_feat_hist_pearsoncorr.shape= torch.Size([400, 400])\n",
      "<class 'torch.Tensor'>\n"
     ]
    },
    {
     "name": "stderr",
     "output_type": "stream",
     "text": [
      " 54%|█████▍    | 544/1000 [15:38:09<11:18:52, 89.33s/it]"
     ]
    },
    {
     "name": "stdout",
     "output_type": "stream",
     "text": [
      "eigenvalues shape torch.Size([5]) eigenvectors shape torch.Size([5, 400])\n",
      "544 /home/phdcs2/Hard_Disk/Datasets/Deep-Spectral-Segmentation/data/object-segmentation/ECSSD/features/dino_vits16/0545.pth\n",
      "0545\n",
      "tanh_feats.shape= torch.Size([400, 384])\n",
      "W_feat_ds.shape= torch.Size([400, 400])\n",
      "W_feat_hist_pearsoncorr.shape= torch.Size([400, 400])\n",
      "<class 'torch.Tensor'>\n"
     ]
    },
    {
     "name": "stderr",
     "output_type": "stream",
     "text": [
      " 55%|█████▍    | 545/1000 [15:39:33<11:04:12, 87.59s/it]"
     ]
    },
    {
     "name": "stdout",
     "output_type": "stream",
     "text": [
      "eigenvalues shape torch.Size([5]) eigenvectors shape torch.Size([5, 400])\n",
      "545 /home/phdcs2/Hard_Disk/Datasets/Deep-Spectral-Segmentation/data/object-segmentation/ECSSD/features/dino_vits16/0546.pth\n",
      "0546\n",
      "tanh_feats.shape= torch.Size([450, 384])\n",
      "W_feat_ds.shape= torch.Size([450, 450])\n",
      "W_feat_hist_pearsoncorr.shape= torch.Size([450, 450])\n",
      "<class 'torch.Tensor'>\n"
     ]
    },
    {
     "name": "stderr",
     "output_type": "stream",
     "text": [
      " 55%|█████▍    | 546/1000 [15:41:18<11:43:30, 92.97s/it]"
     ]
    },
    {
     "name": "stdout",
     "output_type": "stream",
     "text": [
      "eigenvalues shape torch.Size([5]) eigenvectors shape torch.Size([5, 400])\n",
      "546 /home/phdcs2/Hard_Disk/Datasets/Deep-Spectral-Segmentation/data/object-segmentation/ECSSD/features/dino_vits16/0547.pth\n",
      "0547\n",
      "tanh_feats.shape= torch.Size([450, 384])\n",
      "W_feat_ds.shape= torch.Size([450, 450])\n",
      "W_feat_hist_pearsoncorr.shape= torch.Size([450, 450])\n",
      "<class 'torch.Tensor'>\n"
     ]
    },
    {
     "name": "stderr",
     "output_type": "stream",
     "text": [
      " 55%|█████▍    | 547/1000 [15:43:04<12:10:51, 96.80s/it]"
     ]
    },
    {
     "name": "stdout",
     "output_type": "stream",
     "text": [
      "eigenvalues shape torch.Size([5]) eigenvectors shape torch.Size([5, 400])\n",
      "547 /home/phdcs2/Hard_Disk/Datasets/Deep-Spectral-Segmentation/data/object-segmentation/ECSSD/features/dino_vits16/0548.pth\n",
      "0548\n",
      "tanh_feats.shape= torch.Size([425, 384])\n",
      "W_feat_ds.shape= torch.Size([425, 425])\n",
      "W_feat_hist_pearsoncorr.shape= torch.Size([425, 425])\n",
      "<class 'torch.Tensor'>\n"
     ]
    },
    {
     "name": "stderr",
     "output_type": "stream",
     "text": [
      " 55%|█████▍    | 548/1000 [15:44:38<12:04:12, 96.13s/it]"
     ]
    },
    {
     "name": "stdout",
     "output_type": "stream",
     "text": [
      "eigenvalues shape torch.Size([5]) eigenvectors shape torch.Size([5, 400])\n",
      "548 /home/phdcs2/Hard_Disk/Datasets/Deep-Spectral-Segmentation/data/object-segmentation/ECSSD/features/dino_vits16/0549.pth\n",
      "0549\n",
      "tanh_feats.shape= torch.Size([400, 384])\n"
     ]
    },
    {
     "name": "stderr",
     "output_type": "stream",
     "text": [
      " 55%|█████▍    | 549/1000 [15:46:02<11:33:31, 92.27s/it]"
     ]
    },
    {
     "name": "stdout",
     "output_type": "stream",
     "text": [
      "W_feat_ds.shape= torch.Size([400, 400])\n",
      "W_feat_hist_pearsoncorr.shape= torch.Size([400, 400])\n",
      "<class 'torch.Tensor'>\n",
      "eigenvalues shape torch.Size([5]) eigenvectors shape torch.Size([5, 400])\n",
      "549 /home/phdcs2/Hard_Disk/Datasets/Deep-Spectral-Segmentation/data/object-segmentation/ECSSD/features/dino_vits16/0550.pth\n",
      "0550\n",
      "tanh_feats.shape= torch.Size([425, 384])\n",
      "W_feat_ds.shape= torch.Size([425, 425])\n",
      "W_feat_hist_pearsoncorr.shape= torch.Size([425, 425])\n",
      "<class 'torch.Tensor'>\n"
     ]
    },
    {
     "name": "stderr",
     "output_type": "stream",
     "text": [
      " 55%|█████▌    | 550/1000 [15:47:36<11:35:33, 92.74s/it]"
     ]
    },
    {
     "name": "stdout",
     "output_type": "stream",
     "text": [
      "eigenvalues shape torch.Size([5]) eigenvectors shape torch.Size([5, 400])\n",
      "550 /home/phdcs2/Hard_Disk/Datasets/Deep-Spectral-Segmentation/data/object-segmentation/ECSSD/features/dino_vits16/0551.pth\n",
      "0551\n",
      "tanh_feats.shape= torch.Size([400, 384])\n",
      "W_feat_ds.shape= torch.Size([400, 400])\n",
      "W_feat_hist_pearsoncorr.shape= torch.Size([400, 400])\n",
      "<class 'torch.Tensor'>\n"
     ]
    },
    {
     "name": "stderr",
     "output_type": "stream",
     "text": [
      " 55%|█████▌    | 551/1000 [15:48:58<11:11:40, 89.76s/it]"
     ]
    },
    {
     "name": "stdout",
     "output_type": "stream",
     "text": [
      "eigenvalues shape torch.Size([5]) eigenvectors shape torch.Size([5, 400])\n",
      "551 /home/phdcs2/Hard_Disk/Datasets/Deep-Spectral-Segmentation/data/object-segmentation/ECSSD/features/dino_vits16/0552.pth\n",
      "0552\n",
      "tanh_feats.shape= torch.Size([400, 384])\n"
     ]
    },
    {
     "name": "stderr",
     "output_type": "stream",
     "text": [
      " 55%|█████▌    | 552/1000 [15:50:21<10:54:22, 87.64s/it]"
     ]
    },
    {
     "name": "stdout",
     "output_type": "stream",
     "text": [
      "W_feat_ds.shape= torch.Size([400, 400])\n",
      "W_feat_hist_pearsoncorr.shape= torch.Size([400, 400])\n",
      "<class 'torch.Tensor'>\n",
      "eigenvalues shape torch.Size([5]) eigenvectors shape torch.Size([5, 400])\n",
      "552 /home/phdcs2/Hard_Disk/Datasets/Deep-Spectral-Segmentation/data/object-segmentation/ECSSD/features/dino_vits16/0553.pth\n",
      "0553\n",
      "tanh_feats.shape= torch.Size([450, 384])\n",
      "W_feat_ds.shape= torch.Size([450, 450])\n",
      "W_feat_hist_pearsoncorr.shape= torch.Size([450, 450])\n",
      "<class 'torch.Tensor'>\n"
     ]
    },
    {
     "name": "stderr",
     "output_type": "stream",
     "text": [
      " 55%|█████▌    | 553/1000 [15:52:05<11:28:36, 92.43s/it]"
     ]
    },
    {
     "name": "stdout",
     "output_type": "stream",
     "text": [
      "eigenvalues shape torch.Size([5]) eigenvectors shape torch.Size([5, 400])\n",
      "553 /home/phdcs2/Hard_Disk/Datasets/Deep-Spectral-Segmentation/data/object-segmentation/ECSSD/features/dino_vits16/0554.pth\n",
      "0554\n",
      "tanh_feats.shape= torch.Size([450, 384])\n"
     ]
    },
    {
     "name": "stderr",
     "output_type": "stream",
     "text": [
      " 55%|█████▌    | 554/1000 [15:53:49<11:53:11, 95.95s/it]"
     ]
    },
    {
     "name": "stdout",
     "output_type": "stream",
     "text": [
      "W_feat_ds.shape= torch.Size([450, 450])\n",
      "W_feat_hist_pearsoncorr.shape= torch.Size([450, 450])\n",
      "<class 'torch.Tensor'>\n",
      "eigenvalues shape torch.Size([5]) eigenvectors shape torch.Size([5, 400])\n",
      "554 /home/phdcs2/Hard_Disk/Datasets/Deep-Spectral-Segmentation/data/object-segmentation/ECSSD/features/dino_vits16/0555.pth\n",
      "0555\n",
      "tanh_feats.shape= torch.Size([500, 384])\n",
      "W_feat_ds.shape= torch.Size([500, 500])\n",
      "W_feat_hist_pearsoncorr.shape= torch.Size([500, 500])\n",
      "<class 'torch.Tensor'>\n"
     ]
    },
    {
     "name": "stderr",
     "output_type": "stream",
     "text": [
      " 56%|█████▌    | 555/1000 [15:55:58<13:04:45, 105.81s/it]"
     ]
    },
    {
     "name": "stdout",
     "output_type": "stream",
     "text": [
      "eigenvalues shape torch.Size([5]) eigenvectors shape torch.Size([5, 400])\n",
      "555 /home/phdcs2/Hard_Disk/Datasets/Deep-Spectral-Segmentation/data/object-segmentation/ECSSD/features/dino_vits16/0556.pth\n",
      "0556\n",
      "tanh_feats.shape= torch.Size([525, 384])\n"
     ]
    },
    {
     "name": "stderr",
     "output_type": "stream",
     "text": [
      " 56%|█████▌    | 556/1000 [15:58:19<14:22:21, 116.54s/it]"
     ]
    },
    {
     "name": "stdout",
     "output_type": "stream",
     "text": [
      "W_feat_ds.shape= torch.Size([525, 525])\n",
      "W_feat_hist_pearsoncorr.shape= torch.Size([525, 525])\n",
      "<class 'torch.Tensor'>\n",
      "eigenvalues shape torch.Size([5]) eigenvectors shape torch.Size([5, 400])\n",
      "556 /home/phdcs2/Hard_Disk/Datasets/Deep-Spectral-Segmentation/data/object-segmentation/ECSSD/features/dino_vits16/0557.pth\n",
      "0557\n",
      "tanh_feats.shape= torch.Size([450, 384])\n",
      "W_feat_ds.shape= torch.Size([450, 450])\n",
      "W_feat_hist_pearsoncorr.shape= torch.Size([450, 450])\n",
      "<class 'torch.Tensor'>\n"
     ]
    },
    {
     "name": "stderr",
     "output_type": "stream",
     "text": [
      " 56%|█████▌    | 557/1000 [16:00:04<13:53:43, 112.92s/it]"
     ]
    },
    {
     "name": "stdout",
     "output_type": "stream",
     "text": [
      "eigenvalues shape torch.Size([5]) eigenvectors shape torch.Size([5, 400])\n",
      "557 /home/phdcs2/Hard_Disk/Datasets/Deep-Spectral-Segmentation/data/object-segmentation/ECSSD/features/dino_vits16/0558.pth\n",
      "0558\n",
      "tanh_feats.shape= torch.Size([400, 384])\n",
      "W_feat_ds.shape= torch.Size([400, 400])\n",
      "W_feat_hist_pearsoncorr.shape= torch.Size([400, 400])\n",
      "<class 'torch.Tensor'>\n"
     ]
    },
    {
     "name": "stderr",
     "output_type": "stream",
     "text": [
      " 56%|█████▌    | 558/1000 [16:01:26<12:44:21, 103.76s/it]"
     ]
    },
    {
     "name": "stdout",
     "output_type": "stream",
     "text": [
      "eigenvalues shape torch.Size([5]) eigenvectors shape torch.Size([5, 400])\n",
      "558 /home/phdcs2/Hard_Disk/Datasets/Deep-Spectral-Segmentation/data/object-segmentation/ECSSD/features/dino_vits16/0559.pth\n",
      "0559\n",
      "tanh_feats.shape= torch.Size([400, 384])\n",
      "W_feat_ds.shape= torch.Size([400, 400])\n",
      "W_feat_hist_pearsoncorr.shape= torch.Size([400, 400])\n",
      "<class 'torch.Tensor'>\n"
     ]
    },
    {
     "name": "stderr",
     "output_type": "stream",
     "text": [
      " 56%|█████▌    | 559/1000 [16:02:48<11:55:30, 97.35s/it] "
     ]
    },
    {
     "name": "stdout",
     "output_type": "stream",
     "text": [
      "eigenvalues shape torch.Size([5]) eigenvectors shape torch.Size([5, 400])\n",
      "559 /home/phdcs2/Hard_Disk/Datasets/Deep-Spectral-Segmentation/data/object-segmentation/ECSSD/features/dino_vits16/0560.pth\n",
      "0560\n",
      "tanh_feats.shape= torch.Size([400, 384])\n",
      "W_feat_ds.shape= torch.Size([400, 400])\n",
      "W_feat_hist_pearsoncorr.shape= torch.Size([400, 400])\n",
      "<class 'torch.Tensor'>\n"
     ]
    },
    {
     "name": "stderr",
     "output_type": "stream",
     "text": [
      " 56%|█████▌    | 560/1000 [16:04:11<11:21:30, 92.93s/it]"
     ]
    },
    {
     "name": "stdout",
     "output_type": "stream",
     "text": [
      "eigenvalues shape torch.Size([5]) eigenvectors shape torch.Size([5, 400])\n",
      "560 /home/phdcs2/Hard_Disk/Datasets/Deep-Spectral-Segmentation/data/object-segmentation/ECSSD/features/dino_vits16/0561.pth\n",
      "0561\n",
      "tanh_feats.shape= torch.Size([450, 384])\n",
      "W_feat_ds.shape= torch.Size([450, 450])\n",
      "W_feat_hist_pearsoncorr.shape= torch.Size([450, 450])\n",
      "<class 'torch.Tensor'>\n"
     ]
    },
    {
     "name": "stderr",
     "output_type": "stream",
     "text": [
      " 56%|█████▌    | 561/1000 [16:05:56<11:45:42, 96.45s/it]"
     ]
    },
    {
     "name": "stdout",
     "output_type": "stream",
     "text": [
      "eigenvalues shape torch.Size([5]) eigenvectors shape torch.Size([5, 400])\n",
      "561 /home/phdcs2/Hard_Disk/Datasets/Deep-Spectral-Segmentation/data/object-segmentation/ECSSD/features/dino_vits16/0562.pth\n",
      "0562\n",
      "tanh_feats.shape= torch.Size([400, 384])\n",
      "W_feat_ds.shape= torch.Size([400, 400])\n",
      "W_feat_hist_pearsoncorr.shape= torch.Size([400, 400])\n",
      "<class 'torch.Tensor'>\n"
     ]
    },
    {
     "name": "stderr",
     "output_type": "stream",
     "text": [
      " 56%|█████▌    | 562/1000 [16:07:19<11:15:05, 92.48s/it]"
     ]
    },
    {
     "name": "stdout",
     "output_type": "stream",
     "text": [
      "eigenvalues shape torch.Size([5]) eigenvectors shape torch.Size([5, 400])\n",
      "562 /home/phdcs2/Hard_Disk/Datasets/Deep-Spectral-Segmentation/data/object-segmentation/ECSSD/features/dino_vits16/0563.pth\n",
      "0563\n",
      "tanh_feats.shape= torch.Size([450, 384])\n",
      "W_feat_ds.shape= torch.Size([450, 450])\n",
      "W_feat_hist_pearsoncorr.shape= torch.Size([450, 450])\n",
      "<class 'torch.Tensor'>\n"
     ]
    },
    {
     "name": "stderr",
     "output_type": "stream",
     "text": [
      " 56%|█████▋    | 563/1000 [16:09:03<11:38:57, 95.97s/it]"
     ]
    },
    {
     "name": "stdout",
     "output_type": "stream",
     "text": [
      "eigenvalues shape torch.Size([5]) eigenvectors shape torch.Size([5, 400])\n",
      "563 /home/phdcs2/Hard_Disk/Datasets/Deep-Spectral-Segmentation/data/object-segmentation/ECSSD/features/dino_vits16/0564.pth\n",
      "0564\n",
      "tanh_feats.shape= torch.Size([450, 384])\n",
      "W_feat_ds.shape= torch.Size([450, 450])\n",
      "W_feat_hist_pearsoncorr.shape= torch.Size([450, 450])\n",
      "<class 'torch.Tensor'>\n"
     ]
    },
    {
     "name": "stderr",
     "output_type": "stream",
     "text": [
      " 56%|█████▋    | 564/1000 [16:10:47<11:54:56, 98.39s/it]"
     ]
    },
    {
     "name": "stdout",
     "output_type": "stream",
     "text": [
      "eigenvalues shape torch.Size([5]) eigenvectors shape torch.Size([5, 400])\n",
      "564 /home/phdcs2/Hard_Disk/Datasets/Deep-Spectral-Segmentation/data/object-segmentation/ECSSD/features/dino_vits16/0565.pth\n",
      "0565\n",
      "tanh_feats.shape= torch.Size([450, 384])\n",
      "W_feat_ds.shape= torch.Size([450, 450])\n",
      "W_feat_hist_pearsoncorr.shape= torch.Size([450, 450])\n",
      "<class 'torch.Tensor'>\n"
     ]
    },
    {
     "name": "stderr",
     "output_type": "stream",
     "text": [
      " 56%|█████▋    | 565/1000 [16:12:32<12:07:12, 100.30s/it]"
     ]
    },
    {
     "name": "stdout",
     "output_type": "stream",
     "text": [
      "eigenvalues shape torch.Size([5]) eigenvectors shape torch.Size([5, 400])\n",
      "565 /home/phdcs2/Hard_Disk/Datasets/Deep-Spectral-Segmentation/data/object-segmentation/ECSSD/features/dino_vits16/0566.pth\n",
      "0566\n",
      "tanh_feats.shape= torch.Size([450, 384])\n",
      "W_feat_ds.shape= torch.Size([450, 450])\n",
      "W_feat_hist_pearsoncorr.shape= torch.Size([450, 450])\n",
      "<class 'torch.Tensor'>\n"
     ]
    },
    {
     "name": "stderr",
     "output_type": "stream",
     "text": [
      " 57%|█████▋    | 566/1000 [16:14:16<12:14:28, 101.54s/it]"
     ]
    },
    {
     "name": "stdout",
     "output_type": "stream",
     "text": [
      "eigenvalues shape torch.Size([5]) eigenvectors shape torch.Size([5, 400])\n",
      "566 /home/phdcs2/Hard_Disk/Datasets/Deep-Spectral-Segmentation/data/object-segmentation/ECSSD/features/dino_vits16/0567.pth\n",
      "0567\n",
      "tanh_feats.shape= torch.Size([400, 384])\n"
     ]
    },
    {
     "name": "stderr",
     "output_type": "stream",
     "text": [
      " 57%|█████▋    | 567/1000 [16:15:39<11:31:13, 95.78s/it] "
     ]
    },
    {
     "name": "stdout",
     "output_type": "stream",
     "text": [
      "W_feat_ds.shape= torch.Size([400, 400])\n",
      "W_feat_hist_pearsoncorr.shape= torch.Size([400, 400])\n",
      "<class 'torch.Tensor'>\n",
      "eigenvalues shape torch.Size([5]) eigenvectors shape torch.Size([5, 400])\n",
      "567 /home/phdcs2/Hard_Disk/Datasets/Deep-Spectral-Segmentation/data/object-segmentation/ECSSD/features/dino_vits16/0568.pth\n",
      "0568\n",
      "tanh_feats.shape= torch.Size([375, 384])\n",
      "W_feat_ds.shape= torch.Size([375, 375])\n",
      "W_feat_hist_pearsoncorr.shape= torch.Size([375, 375])\n",
      "<class 'torch.Tensor'>\n"
     ]
    },
    {
     "name": "stderr",
     "output_type": "stream",
     "text": [
      " 57%|█████▋    | 568/1000 [16:16:51<10:40:08, 88.91s/it]"
     ]
    },
    {
     "name": "stdout",
     "output_type": "stream",
     "text": [
      "eigenvalues shape torch.Size([5]) eigenvectors shape torch.Size([5, 400])\n",
      "568 /home/phdcs2/Hard_Disk/Datasets/Deep-Spectral-Segmentation/data/object-segmentation/ECSSD/features/dino_vits16/0569.pth\n",
      "0569\n",
      "tanh_feats.shape= torch.Size([400, 384])\n",
      "W_feat_ds.shape= torch.Size([400, 400])\n",
      "W_feat_hist_pearsoncorr.shape= torch.Size([400, 400])\n",
      "<class 'torch.Tensor'>\n"
     ]
    },
    {
     "name": "stderr",
     "output_type": "stream",
     "text": [
      " 57%|█████▋    | 569/1000 [16:18:14<10:25:11, 87.03s/it]"
     ]
    },
    {
     "name": "stdout",
     "output_type": "stream",
     "text": [
      "eigenvalues shape torch.Size([5]) eigenvectors shape torch.Size([5, 400])\n",
      "569 /home/phdcs2/Hard_Disk/Datasets/Deep-Spectral-Segmentation/data/object-segmentation/ECSSD/features/dino_vits16/0570.pth\n",
      "0570\n",
      "tanh_feats.shape= torch.Size([450, 384])\n",
      "W_feat_ds.shape= torch.Size([450, 450])\n",
      "W_feat_hist_pearsoncorr.shape= torch.Size([450, 450])\n",
      "<class 'torch.Tensor'>\n"
     ]
    },
    {
     "name": "stderr",
     "output_type": "stream",
     "text": [
      " 57%|█████▋    | 570/1000 [16:19:59<11:02:17, 92.41s/it]"
     ]
    },
    {
     "name": "stdout",
     "output_type": "stream",
     "text": [
      "eigenvalues shape torch.Size([5]) eigenvectors shape torch.Size([5, 400])\n",
      "570 /home/phdcs2/Hard_Disk/Datasets/Deep-Spectral-Segmentation/data/object-segmentation/ECSSD/features/dino_vits16/0571.pth\n",
      "0571\n",
      "tanh_feats.shape= torch.Size([450, 384])\n",
      "W_feat_ds.shape= torch.Size([450, 450])\n",
      "W_feat_hist_pearsoncorr.shape= torch.Size([450, 450])\n",
      "<class 'torch.Tensor'>\n"
     ]
    },
    {
     "name": "stderr",
     "output_type": "stream",
     "text": [
      " 57%|█████▋    | 571/1000 [16:21:44<11:26:34, 96.03s/it]"
     ]
    },
    {
     "name": "stdout",
     "output_type": "stream",
     "text": [
      "eigenvalues shape torch.Size([5]) eigenvectors shape torch.Size([5, 400])\n",
      "571 /home/phdcs2/Hard_Disk/Datasets/Deep-Spectral-Segmentation/data/object-segmentation/ECSSD/features/dino_vits16/0572.pth\n",
      "0572\n",
      "tanh_feats.shape= torch.Size([400, 384])\n",
      "W_feat_ds.shape= torch.Size([400, 400])\n",
      "W_feat_hist_pearsoncorr.shape= torch.Size([400, 400])\n",
      "<class 'torch.Tensor'>\n"
     ]
    },
    {
     "name": "stderr",
     "output_type": "stream",
     "text": [
      " 57%|█████▋    | 572/1000 [16:23:05<10:53:52, 91.66s/it]"
     ]
    },
    {
     "name": "stdout",
     "output_type": "stream",
     "text": [
      "eigenvalues shape torch.Size([5]) eigenvectors shape torch.Size([5, 400])\n",
      "572 /home/phdcs2/Hard_Disk/Datasets/Deep-Spectral-Segmentation/data/object-segmentation/ECSSD/features/dino_vits16/0573.pth\n",
      "0573\n",
      "tanh_feats.shape= torch.Size([525, 384])\n",
      "W_feat_ds.shape= torch.Size([525, 525])\n",
      "W_feat_hist_pearsoncorr.shape= torch.Size([525, 525])\n",
      "<class 'torch.Tensor'>\n"
     ]
    },
    {
     "name": "stderr",
     "output_type": "stream",
     "text": [
      " 57%|█████▋    | 573/1000 [16:25:26<12:38:19, 106.56s/it]"
     ]
    },
    {
     "name": "stdout",
     "output_type": "stream",
     "text": [
      "eigenvalues shape torch.Size([5]) eigenvectors shape torch.Size([5, 400])\n",
      "573 /home/phdcs2/Hard_Disk/Datasets/Deep-Spectral-Segmentation/data/object-segmentation/ECSSD/features/dino_vits16/0574.pth\n",
      "0574\n",
      "tanh_feats.shape= torch.Size([400, 384])\n",
      "W_feat_ds.shape= torch.Size([400, 400])\n",
      "W_feat_hist_pearsoncorr.shape= torch.Size([400, 400])\n",
      "<class 'torch.Tensor'>\n"
     ]
    },
    {
     "name": "stderr",
     "output_type": "stream",
     "text": [
      " 57%|█████▋    | 574/1000 [16:26:49<11:45:38, 99.39s/it] "
     ]
    },
    {
     "name": "stdout",
     "output_type": "stream",
     "text": [
      "eigenvalues shape torch.Size([5]) eigenvectors shape torch.Size([5, 400])\n",
      "574 /home/phdcs2/Hard_Disk/Datasets/Deep-Spectral-Segmentation/data/object-segmentation/ECSSD/features/dino_vits16/0575.pth\n",
      "0575\n",
      "tanh_feats.shape= torch.Size([475, 384])\n",
      "W_feat_ds.shape= torch.Size([475, 475])\n",
      "W_feat_hist_pearsoncorr.shape= torch.Size([475, 475])\n",
      "<class 'torch.Tensor'>\n"
     ]
    },
    {
     "name": "stderr",
     "output_type": "stream",
     "text": [
      " 57%|█████▊    | 575/1000 [16:28:45<12:20:01, 104.47s/it]"
     ]
    },
    {
     "name": "stdout",
     "output_type": "stream",
     "text": [
      "eigenvalues shape torch.Size([5]) eigenvectors shape torch.Size([5, 400])\n",
      "575 /home/phdcs2/Hard_Disk/Datasets/Deep-Spectral-Segmentation/data/object-segmentation/ECSSD/features/dino_vits16/0576.pth\n",
      "0576\n",
      "tanh_feats.shape= torch.Size([475, 384])\n",
      "W_feat_ds.shape= torch.Size([475, 475])\n",
      "W_feat_hist_pearsoncorr.shape= torch.Size([475, 475])\n",
      "<class 'torch.Tensor'>\n"
     ]
    },
    {
     "name": "stderr",
     "output_type": "stream",
     "text": [
      " 58%|█████▊    | 576/1000 [16:30:42<12:43:10, 108.00s/it]"
     ]
    },
    {
     "name": "stdout",
     "output_type": "stream",
     "text": [
      "eigenvalues shape torch.Size([5]) eigenvectors shape torch.Size([5, 400])\n",
      "576 /home/phdcs2/Hard_Disk/Datasets/Deep-Spectral-Segmentation/data/object-segmentation/ECSSD/features/dino_vits16/0577.pth\n",
      "0577\n",
      "tanh_feats.shape= torch.Size([450, 384])\n",
      "W_feat_ds.shape= torch.Size([450, 450])\n",
      "W_feat_hist_pearsoncorr.shape= torch.Size([450, 450])\n",
      "<class 'torch.Tensor'>\n"
     ]
    },
    {
     "name": "stderr",
     "output_type": "stream",
     "text": [
      " 58%|█████▊    | 577/1000 [16:32:26<12:33:41, 106.91s/it]"
     ]
    },
    {
     "name": "stdout",
     "output_type": "stream",
     "text": [
      "eigenvalues shape torch.Size([5]) eigenvectors shape torch.Size([5, 400])\n",
      "577 /home/phdcs2/Hard_Disk/Datasets/Deep-Spectral-Segmentation/data/object-segmentation/ECSSD/features/dino_vits16/0578.pth\n",
      "0578\n",
      "tanh_feats.shape= torch.Size([625, 384])\n",
      "W_feat_ds.shape= torch.Size([625, 625])\n",
      "W_feat_hist_pearsoncorr.shape= torch.Size([625, 625])\n",
      "<class 'torch.Tensor'>\n"
     ]
    },
    {
     "name": "stderr",
     "output_type": "stream",
     "text": [
      " 58%|█████▊    | 578/1000 [16:35:47<15:50:47, 135.18s/it]"
     ]
    },
    {
     "name": "stdout",
     "output_type": "stream",
     "text": [
      "eigenvalues shape torch.Size([5]) eigenvectors shape torch.Size([5, 400])\n",
      "578 /home/phdcs2/Hard_Disk/Datasets/Deep-Spectral-Segmentation/data/object-segmentation/ECSSD/features/dino_vits16/0579.pth\n",
      "0579\n",
      "tanh_feats.shape= torch.Size([375, 384])\n",
      "W_feat_ds.shape= torch.Size([375, 375])\n",
      "W_feat_hist_pearsoncorr.shape= torch.Size([375, 375])\n",
      "<class 'torch.Tensor'>\n"
     ]
    },
    {
     "name": "stderr",
     "output_type": "stream",
     "text": [
      " 58%|█████▊    | 579/1000 [16:37:00<13:36:30, 116.37s/it]"
     ]
    },
    {
     "name": "stdout",
     "output_type": "stream",
     "text": [
      "eigenvalues shape torch.Size([5]) eigenvectors shape torch.Size([5, 400])\n",
      "579 /home/phdcs2/Hard_Disk/Datasets/Deep-Spectral-Segmentation/data/object-segmentation/ECSSD/features/dino_vits16/0580.pth\n",
      "0580\n",
      "tanh_feats.shape= torch.Size([400, 384])\n",
      "W_feat_ds.shape= torch.Size([400, 400])\n",
      "W_feat_hist_pearsoncorr.shape= torch.Size([400, 400])\n",
      "<class 'torch.Tensor'>\n"
     ]
    },
    {
     "name": "stderr",
     "output_type": "stream",
     "text": [
      " 58%|█████▊    | 580/1000 [16:38:23<12:24:41, 106.39s/it]"
     ]
    },
    {
     "name": "stdout",
     "output_type": "stream",
     "text": [
      "eigenvalues shape torch.Size([5]) eigenvectors shape torch.Size([5, 400])\n",
      "580 /home/phdcs2/Hard_Disk/Datasets/Deep-Spectral-Segmentation/data/object-segmentation/ECSSD/features/dino_vits16/0581.pth\n",
      "0581\n",
      "tanh_feats.shape= torch.Size([400, 384])\n"
     ]
    },
    {
     "name": "stderr",
     "output_type": "stream",
     "text": [
      " 58%|█████▊    | 581/1000 [16:39:45<11:32:37, 99.18s/it] "
     ]
    },
    {
     "name": "stdout",
     "output_type": "stream",
     "text": [
      "W_feat_ds.shape= torch.Size([400, 400])\n",
      "W_feat_hist_pearsoncorr.shape= torch.Size([400, 400])\n",
      "<class 'torch.Tensor'>\n",
      "eigenvalues shape torch.Size([5]) eigenvectors shape torch.Size([5, 400])\n",
      "581 /home/phdcs2/Hard_Disk/Datasets/Deep-Spectral-Segmentation/data/object-segmentation/ECSSD/features/dino_vits16/0582.pth\n",
      "0582\n",
      "tanh_feats.shape= torch.Size([400, 384])\n",
      "W_feat_ds.shape= torch.Size([400, 400])\n",
      "W_feat_hist_pearsoncorr.shape= torch.Size([400, 400])\n",
      "<class 'torch.Tensor'>\n"
     ]
    },
    {
     "name": "stderr",
     "output_type": "stream",
     "text": [
      " 58%|█████▊    | 582/1000 [16:41:08<10:56:51, 94.29s/it]"
     ]
    },
    {
     "name": "stdout",
     "output_type": "stream",
     "text": [
      "eigenvalues shape torch.Size([5]) eigenvectors shape torch.Size([5, 400])\n",
      "582 /home/phdcs2/Hard_Disk/Datasets/Deep-Spectral-Segmentation/data/object-segmentation/ECSSD/features/dino_vits16/0583.pth\n",
      "0583\n",
      "tanh_feats.shape= torch.Size([450, 384])\n",
      "W_feat_ds.shape= torch.Size([450, 450])\n",
      "W_feat_hist_pearsoncorr.shape= torch.Size([450, 450])\n",
      "<class 'torch.Tensor'>\n"
     ]
    },
    {
     "name": "stderr",
     "output_type": "stream",
     "text": [
      " 58%|█████▊    | 583/1000 [16:42:53<11:18:02, 97.56s/it]"
     ]
    },
    {
     "name": "stdout",
     "output_type": "stream",
     "text": [
      "eigenvalues shape torch.Size([5]) eigenvectors shape torch.Size([5, 400])\n",
      "583 /home/phdcs2/Hard_Disk/Datasets/Deep-Spectral-Segmentation/data/object-segmentation/ECSSD/features/dino_vits16/0584.pth\n",
      "0584\n",
      "tanh_feats.shape= torch.Size([450, 384])\n",
      "W_feat_ds.shape= torch.Size([450, 450])\n",
      "W_feat_hist_pearsoncorr.shape= torch.Size([450, 450])\n",
      "<class 'torch.Tensor'>\n"
     ]
    },
    {
     "name": "stderr",
     "output_type": "stream",
     "text": [
      " 58%|█████▊    | 584/1000 [16:44:38<11:31:37, 99.75s/it]"
     ]
    },
    {
     "name": "stdout",
     "output_type": "stream",
     "text": [
      "eigenvalues shape torch.Size([5]) eigenvectors shape torch.Size([5, 400])\n",
      "584 /home/phdcs2/Hard_Disk/Datasets/Deep-Spectral-Segmentation/data/object-segmentation/ECSSD/features/dino_vits16/0585.pth\n",
      "0585\n",
      "tanh_feats.shape= torch.Size([450, 384])\n",
      "W_feat_ds.shape= torch.Size([450, 450])\n",
      "W_feat_hist_pearsoncorr.shape= torch.Size([450, 450])\n",
      "<class 'torch.Tensor'>\n"
     ]
    },
    {
     "name": "stderr",
     "output_type": "stream",
     "text": [
      " 58%|█████▊    | 585/1000 [16:46:23<11:40:04, 101.21s/it]"
     ]
    },
    {
     "name": "stdout",
     "output_type": "stream",
     "text": [
      "eigenvalues shape torch.Size([5]) eigenvectors shape torch.Size([5, 400])\n",
      "585 /home/phdcs2/Hard_Disk/Datasets/Deep-Spectral-Segmentation/data/object-segmentation/ECSSD/features/dino_vits16/0586.pth\n",
      "0586\n",
      "tanh_feats.shape= torch.Size([425, 384])\n",
      "W_feat_ds.shape= torch.Size([425, 425])\n",
      "W_feat_hist_pearsoncorr.shape= torch.Size([425, 425])\n",
      "<class 'torch.Tensor'>\n"
     ]
    },
    {
     "name": "stderr",
     "output_type": "stream",
     "text": [
      " 59%|█████▊    | 586/1000 [16:47:57<11:24:32, 99.21s/it] "
     ]
    },
    {
     "name": "stdout",
     "output_type": "stream",
     "text": [
      "eigenvalues shape torch.Size([5]) eigenvectors shape torch.Size([5, 400])\n",
      "586 /home/phdcs2/Hard_Disk/Datasets/Deep-Spectral-Segmentation/data/object-segmentation/ECSSD/features/dino_vits16/0587.pth\n",
      "0587\n",
      "tanh_feats.shape= torch.Size([400, 384])\n",
      "W_feat_ds.shape= torch.Size([400, 400])\n",
      "W_feat_hist_pearsoncorr.shape= torch.Size([400, 400])\n",
      "<class 'torch.Tensor'>\n"
     ]
    },
    {
     "name": "stderr",
     "output_type": "stream",
     "text": [
      " 59%|█████▊    | 587/1000 [16:49:20<10:50:04, 94.44s/it]"
     ]
    },
    {
     "name": "stdout",
     "output_type": "stream",
     "text": [
      "eigenvalues shape torch.Size([5]) eigenvectors shape torch.Size([5, 400])\n",
      "587 /home/phdcs2/Hard_Disk/Datasets/Deep-Spectral-Segmentation/data/object-segmentation/ECSSD/features/dino_vits16/0588.pth\n",
      "0588\n",
      "tanh_feats.shape= torch.Size([400, 384])\n",
      "W_feat_ds.shape= torch.Size([400, 400])\n",
      "W_feat_hist_pearsoncorr.shape= torch.Size([400, 400])\n",
      "<class 'torch.Tensor'>\n"
     ]
    },
    {
     "name": "stderr",
     "output_type": "stream",
     "text": [
      " 59%|█████▉    | 588/1000 [16:50:44<10:25:20, 91.07s/it]"
     ]
    },
    {
     "name": "stdout",
     "output_type": "stream",
     "text": [
      "eigenvalues shape torch.Size([5]) eigenvectors shape torch.Size([5, 400])\n",
      "588 /home/phdcs2/Hard_Disk/Datasets/Deep-Spectral-Segmentation/data/object-segmentation/ECSSD/features/dino_vits16/0589.pth\n",
      "0589\n",
      "tanh_feats.shape= torch.Size([400, 384])\n"
     ]
    },
    {
     "name": "stderr",
     "output_type": "stream",
     "text": [
      " 59%|█████▉    | 589/1000 [16:52:06<10:06:31, 88.54s/it]"
     ]
    },
    {
     "name": "stdout",
     "output_type": "stream",
     "text": [
      "W_feat_ds.shape= torch.Size([400, 400])\n",
      "W_feat_hist_pearsoncorr.shape= torch.Size([400, 400])\n",
      "<class 'torch.Tensor'>\n",
      "eigenvalues shape torch.Size([5]) eigenvectors shape torch.Size([5, 400])\n",
      "589 /home/phdcs2/Hard_Disk/Datasets/Deep-Spectral-Segmentation/data/object-segmentation/ECSSD/features/dino_vits16/0590.pth\n",
      "0590\n",
      "tanh_feats.shape= torch.Size([400, 384])\n",
      "W_feat_ds.shape= torch.Size([400, 400])\n",
      "W_feat_hist_pearsoncorr.shape= torch.Size([400, 400])\n",
      "<class 'torch.Tensor'>\n"
     ]
    },
    {
     "name": "stderr",
     "output_type": "stream",
     "text": [
      " 59%|█████▉    | 590/1000 [16:53:29<9:53:19, 86.83s/it] "
     ]
    },
    {
     "name": "stdout",
     "output_type": "stream",
     "text": [
      "eigenvalues shape torch.Size([5]) eigenvectors shape torch.Size([5, 400])\n",
      "590 /home/phdcs2/Hard_Disk/Datasets/Deep-Spectral-Segmentation/data/object-segmentation/ECSSD/features/dino_vits16/0591.pth\n",
      "0591\n",
      "tanh_feats.shape= torch.Size([400, 384])\n",
      "W_feat_ds.shape= torch.Size([400, 400])\n",
      "W_feat_hist_pearsoncorr.shape= torch.Size([400, 400])\n",
      "<class 'torch.Tensor'>\n"
     ]
    },
    {
     "name": "stderr",
     "output_type": "stream",
     "text": [
      " 59%|█████▉    | 591/1000 [16:54:52<9:44:20, 85.72s/it]"
     ]
    },
    {
     "name": "stdout",
     "output_type": "stream",
     "text": [
      "eigenvalues shape torch.Size([5]) eigenvectors shape torch.Size([5, 400])\n",
      "591 /home/phdcs2/Hard_Disk/Datasets/Deep-Spectral-Segmentation/data/object-segmentation/ECSSD/features/dino_vits16/0592.pth\n",
      "0592\n",
      "tanh_feats.shape= torch.Size([475, 384])\n",
      "W_feat_ds.shape= torch.Size([475, 475])\n",
      "W_feat_hist_pearsoncorr.shape= torch.Size([475, 475])\n",
      "<class 'torch.Tensor'>\n"
     ]
    },
    {
     "name": "stderr",
     "output_type": "stream",
     "text": [
      " 59%|█████▉    | 592/1000 [16:56:50<10:47:34, 95.23s/it]"
     ]
    },
    {
     "name": "stdout",
     "output_type": "stream",
     "text": [
      "eigenvalues shape torch.Size([5]) eigenvectors shape torch.Size([5, 400])\n",
      "592 /home/phdcs2/Hard_Disk/Datasets/Deep-Spectral-Segmentation/data/object-segmentation/ECSSD/features/dino_vits16/0593.pth\n",
      "0593\n",
      "tanh_feats.shape= torch.Size([400, 384])\n",
      "W_feat_ds.shape= torch.Size([400, 400])\n",
      "W_feat_hist_pearsoncorr.shape= torch.Size([400, 400])\n",
      "<class 'torch.Tensor'>\n"
     ]
    },
    {
     "name": "stderr",
     "output_type": "stream",
     "text": [
      " 59%|█████▉    | 593/1000 [16:58:13<10:20:46, 91.52s/it]"
     ]
    },
    {
     "name": "stdout",
     "output_type": "stream",
     "text": [
      "eigenvalues shape torch.Size([5]) eigenvectors shape torch.Size([5, 400])\n",
      "593 /home/phdcs2/Hard_Disk/Datasets/Deep-Spectral-Segmentation/data/object-segmentation/ECSSD/features/dino_vits16/0594.pth\n",
      "0594\n",
      "tanh_feats.shape= torch.Size([400, 384])\n"
     ]
    },
    {
     "name": "stderr",
     "output_type": "stream",
     "text": [
      " 59%|█████▉    | 594/1000 [16:59:35<10:00:10, 88.70s/it]"
     ]
    },
    {
     "name": "stdout",
     "output_type": "stream",
     "text": [
      "W_feat_ds.shape= torch.Size([400, 400])\n",
      "W_feat_hist_pearsoncorr.shape= torch.Size([400, 400])\n",
      "<class 'torch.Tensor'>\n",
      "eigenvalues shape torch.Size([5]) eigenvectors shape torch.Size([5, 400])\n",
      "594 /home/phdcs2/Hard_Disk/Datasets/Deep-Spectral-Segmentation/data/object-segmentation/ECSSD/features/dino_vits16/0595.pth\n",
      "0595\n",
      "tanh_feats.shape= torch.Size([400, 384])\n",
      "W_feat_ds.shape= torch.Size([400, 400])\n",
      "W_feat_hist_pearsoncorr.shape= torch.Size([400, 400])\n",
      "<class 'torch.Tensor'>\n"
     ]
    },
    {
     "name": "stderr",
     "output_type": "stream",
     "text": [
      " 60%|█████▉    | 595/1000 [17:00:58<9:47:44, 87.07s/it] "
     ]
    },
    {
     "name": "stdout",
     "output_type": "stream",
     "text": [
      "eigenvalues shape torch.Size([5]) eigenvectors shape torch.Size([5, 400])\n",
      "595 /home/phdcs2/Hard_Disk/Datasets/Deep-Spectral-Segmentation/data/object-segmentation/ECSSD/features/dino_vits16/0596.pth\n",
      "0596\n",
      "tanh_feats.shape= torch.Size([450, 384])\n",
      "W_feat_ds.shape= torch.Size([450, 450])\n",
      "W_feat_hist_pearsoncorr.shape= torch.Size([450, 450])\n",
      "<class 'torch.Tensor'>\n"
     ]
    },
    {
     "name": "stderr",
     "output_type": "stream",
     "text": [
      " 60%|█████▉    | 596/1000 [17:02:42<10:20:18, 92.13s/it]"
     ]
    },
    {
     "name": "stdout",
     "output_type": "stream",
     "text": [
      "eigenvalues shape torch.Size([5]) eigenvectors shape torch.Size([5, 400])\n",
      "596 /home/phdcs2/Hard_Disk/Datasets/Deep-Spectral-Segmentation/data/object-segmentation/ECSSD/features/dino_vits16/0597.pth\n",
      "0597\n",
      "tanh_feats.shape= torch.Size([450, 384])\n",
      "W_feat_ds.shape= torch.Size([450, 450])\n",
      "W_feat_hist_pearsoncorr.shape= torch.Size([450, 450])\n",
      "<class 'torch.Tensor'>\n"
     ]
    },
    {
     "name": "stderr",
     "output_type": "stream",
     "text": [
      " 60%|█████▉    | 597/1000 [17:04:26<10:43:24, 95.79s/it]"
     ]
    },
    {
     "name": "stdout",
     "output_type": "stream",
     "text": [
      "eigenvalues shape torch.Size([5]) eigenvectors shape torch.Size([5, 400])\n",
      "597 /home/phdcs2/Hard_Disk/Datasets/Deep-Spectral-Segmentation/data/object-segmentation/ECSSD/features/dino_vits16/0598.pth\n",
      "0598\n",
      "tanh_feats.shape= torch.Size([400, 384])\n",
      "W_feat_ds.shape= torch.Size([400, 400])\n",
      "W_feat_hist_pearsoncorr.shape= torch.Size([400, 400])\n",
      "<class 'torch.Tensor'>\n"
     ]
    },
    {
     "name": "stderr",
     "output_type": "stream",
     "text": [
      " 60%|█████▉    | 598/1000 [17:05:50<10:17:05, 92.10s/it]"
     ]
    },
    {
     "name": "stdout",
     "output_type": "stream",
     "text": [
      "eigenvalues shape torch.Size([5]) eigenvectors shape torch.Size([5, 400])\n",
      "598 /home/phdcs2/Hard_Disk/Datasets/Deep-Spectral-Segmentation/data/object-segmentation/ECSSD/features/dino_vits16/0599.pth\n",
      "0599\n",
      "tanh_feats.shape= torch.Size([450, 384])\n",
      "W_feat_ds.shape= torch.Size([450, 450])\n",
      "W_feat_hist_pearsoncorr.shape= torch.Size([450, 450])\n",
      "<class 'torch.Tensor'>\n"
     ]
    },
    {
     "name": "stderr",
     "output_type": "stream",
     "text": [
      " 60%|█████▉    | 599/1000 [17:07:35<10:42:23, 96.12s/it]"
     ]
    },
    {
     "name": "stdout",
     "output_type": "stream",
     "text": [
      "eigenvalues shape torch.Size([5]) eigenvectors shape torch.Size([5, 400])\n",
      "599 /home/phdcs2/Hard_Disk/Datasets/Deep-Spectral-Segmentation/data/object-segmentation/ECSSD/features/dino_vits16/0600.pth\n",
      "0600\n",
      "tanh_feats.shape= torch.Size([425, 384])\n",
      "W_feat_ds.shape= torch.Size([425, 425])\n",
      "W_feat_hist_pearsoncorr.shape= torch.Size([425, 425])\n",
      "<class 'torch.Tensor'>\n"
     ]
    },
    {
     "name": "stderr",
     "output_type": "stream",
     "text": [
      " 60%|██████    | 600/1000 [17:09:09<10:35:42, 95.36s/it]"
     ]
    },
    {
     "name": "stdout",
     "output_type": "stream",
     "text": [
      "eigenvalues shape torch.Size([5]) eigenvectors shape torch.Size([5, 400])\n",
      "600 /home/phdcs2/Hard_Disk/Datasets/Deep-Spectral-Segmentation/data/object-segmentation/ECSSD/features/dino_vits16/0601.pth\n",
      "0601\n",
      "tanh_feats.shape= torch.Size([450, 384])\n",
      "W_feat_ds.shape= torch.Size([450, 450])\n",
      "W_feat_hist_pearsoncorr.shape= torch.Size([450, 450])\n",
      "<class 'torch.Tensor'>\n"
     ]
    },
    {
     "name": "stderr",
     "output_type": "stream",
     "text": [
      " 60%|██████    | 601/1000 [17:10:53<10:51:47, 98.01s/it]"
     ]
    },
    {
     "name": "stdout",
     "output_type": "stream",
     "text": [
      "eigenvalues shape torch.Size([5]) eigenvectors shape torch.Size([5, 400])\n",
      "601 /home/phdcs2/Hard_Disk/Datasets/Deep-Spectral-Segmentation/data/object-segmentation/ECSSD/features/dino_vits16/0602.pth\n",
      "0602\n",
      "tanh_feats.shape= torch.Size([450, 384])\n",
      "W_feat_ds.shape= torch.Size([450, 450])\n",
      "W_feat_hist_pearsoncorr.shape= torch.Size([450, 450])\n",
      "<class 'torch.Tensor'>\n"
     ]
    },
    {
     "name": "stderr",
     "output_type": "stream",
     "text": [
      " 60%|██████    | 602/1000 [17:12:37<11:02:37, 99.89s/it]"
     ]
    },
    {
     "name": "stdout",
     "output_type": "stream",
     "text": [
      "eigenvalues shape torch.Size([5]) eigenvectors shape torch.Size([5, 400])\n",
      "602 /home/phdcs2/Hard_Disk/Datasets/Deep-Spectral-Segmentation/data/object-segmentation/ECSSD/features/dino_vits16/0603.pth\n",
      "0603\n",
      "tanh_feats.shape= torch.Size([400, 384])\n",
      "W_feat_ds.shape= torch.Size([400, 400])\n",
      "W_feat_hist_pearsoncorr.shape= torch.Size([400, 400])\n",
      "<class 'torch.Tensor'>\n"
     ]
    },
    {
     "name": "stderr",
     "output_type": "stream",
     "text": [
      " 60%|██████    | 603/1000 [17:14:04<10:34:20, 95.87s/it]"
     ]
    },
    {
     "name": "stdout",
     "output_type": "stream",
     "text": [
      "eigenvalues shape torch.Size([5]) eigenvectors shape torch.Size([5, 400])\n",
      "603 /home/phdcs2/Hard_Disk/Datasets/Deep-Spectral-Segmentation/data/object-segmentation/ECSSD/features/dino_vits16/0604.pth\n",
      "0604\n",
      "tanh_feats.shape= torch.Size([400, 384])\n",
      "W_feat_ds.shape= torch.Size([400, 400])\n",
      "W_feat_hist_pearsoncorr.shape= torch.Size([400, 400])\n",
      "<class 'torch.Tensor'>\n"
     ]
    },
    {
     "name": "stderr",
     "output_type": "stream",
     "text": [
      " 60%|██████    | 604/1000 [17:15:26<10:06:21, 91.87s/it]"
     ]
    },
    {
     "name": "stdout",
     "output_type": "stream",
     "text": [
      "eigenvalues shape torch.Size([5]) eigenvectors shape torch.Size([5, 400])\n",
      "604 /home/phdcs2/Hard_Disk/Datasets/Deep-Spectral-Segmentation/data/object-segmentation/ECSSD/features/dino_vits16/0605.pth\n",
      "0605\n",
      "tanh_feats.shape= torch.Size([400, 384])\n",
      "W_feat_ds.shape= torch.Size([400, 400])\n",
      "W_feat_hist_pearsoncorr.shape= torch.Size([400, 400])\n",
      "<class 'torch.Tensor'>\n"
     ]
    },
    {
     "name": "stderr",
     "output_type": "stream",
     "text": [
      " 60%|██████    | 605/1000 [17:16:50<9:48:23, 89.37s/it] "
     ]
    },
    {
     "name": "stdout",
     "output_type": "stream",
     "text": [
      "eigenvalues shape torch.Size([5]) eigenvectors shape torch.Size([5, 400])\n",
      "605 /home/phdcs2/Hard_Disk/Datasets/Deep-Spectral-Segmentation/data/object-segmentation/ECSSD/features/dino_vits16/0606.pth\n",
      "0606\n",
      "tanh_feats.shape= torch.Size([400, 384])\n"
     ]
    },
    {
     "name": "stderr",
     "output_type": "stream",
     "text": [
      " 61%|██████    | 606/1000 [17:18:13<9:34:46, 87.53s/it]"
     ]
    },
    {
     "name": "stdout",
     "output_type": "stream",
     "text": [
      "W_feat_ds.shape= torch.Size([400, 400])\n",
      "W_feat_hist_pearsoncorr.shape= torch.Size([400, 400])\n",
      "<class 'torch.Tensor'>\n",
      "eigenvalues shape torch.Size([5]) eigenvectors shape torch.Size([5, 400])\n",
      "606 /home/phdcs2/Hard_Disk/Datasets/Deep-Spectral-Segmentation/data/object-segmentation/ECSSD/features/dino_vits16/0607.pth\n",
      "0607\n",
      "tanh_feats.shape= torch.Size([450, 384])\n"
     ]
    },
    {
     "name": "stderr",
     "output_type": "stream",
     "text": [
      " 61%|██████    | 607/1000 [17:19:57<10:04:48, 92.34s/it]"
     ]
    },
    {
     "name": "stdout",
     "output_type": "stream",
     "text": [
      "W_feat_ds.shape= torch.Size([450, 450])\n",
      "W_feat_hist_pearsoncorr.shape= torch.Size([450, 450])\n",
      "<class 'torch.Tensor'>\n",
      "eigenvalues shape torch.Size([5]) eigenvectors shape torch.Size([5, 400])\n",
      "607 /home/phdcs2/Hard_Disk/Datasets/Deep-Spectral-Segmentation/data/object-segmentation/ECSSD/features/dino_vits16/0608.pth\n",
      "0608\n",
      "tanh_feats.shape= torch.Size([450, 384])\n",
      "W_feat_ds.shape= torch.Size([450, 450])\n",
      "W_feat_hist_pearsoncorr.shape= torch.Size([450, 450])\n",
      "<class 'torch.Tensor'>\n"
     ]
    },
    {
     "name": "stderr",
     "output_type": "stream",
     "text": [
      " 61%|██████    | 608/1000 [17:21:43<10:29:54, 96.41s/it]"
     ]
    },
    {
     "name": "stdout",
     "output_type": "stream",
     "text": [
      "eigenvalues shape torch.Size([5]) eigenvectors shape torch.Size([5, 400])\n",
      "608 /home/phdcs2/Hard_Disk/Datasets/Deep-Spectral-Segmentation/data/object-segmentation/ECSSD/features/dino_vits16/0609.pth\n",
      "0609\n",
      "tanh_feats.shape= torch.Size([400, 384])\n",
      "W_feat_ds.shape= torch.Size([400, 400])\n",
      "W_feat_hist_pearsoncorr.shape= torch.Size([400, 400])\n",
      "<class 'torch.Tensor'>\n"
     ]
    },
    {
     "name": "stderr",
     "output_type": "stream",
     "text": [
      " 61%|██████    | 609/1000 [17:23:05<10:01:45, 92.34s/it]"
     ]
    },
    {
     "name": "stdout",
     "output_type": "stream",
     "text": [
      "eigenvalues shape torch.Size([5]) eigenvectors shape torch.Size([5, 400])\n",
      "609 /home/phdcs2/Hard_Disk/Datasets/Deep-Spectral-Segmentation/data/object-segmentation/ECSSD/features/dino_vits16/0610.pth\n",
      "0610\n",
      "tanh_feats.shape= torch.Size([450, 384])\n",
      "W_feat_ds.shape= torch.Size([450, 450])\n",
      "W_feat_hist_pearsoncorr.shape= torch.Size([450, 450])\n",
      "<class 'torch.Tensor'>\n"
     ]
    },
    {
     "name": "stderr",
     "output_type": "stream",
     "text": [
      " 61%|██████    | 610/1000 [17:24:50<10:24:39, 96.10s/it]"
     ]
    },
    {
     "name": "stdout",
     "output_type": "stream",
     "text": [
      "eigenvalues shape torch.Size([5]) eigenvectors shape torch.Size([5, 400])\n",
      "610 /home/phdcs2/Hard_Disk/Datasets/Deep-Spectral-Segmentation/data/object-segmentation/ECSSD/features/dino_vits16/0611.pth\n",
      "0611\n",
      "tanh_feats.shape= torch.Size([450, 384])\n",
      "W_feat_ds.shape= torch.Size([450, 450])\n",
      "W_feat_hist_pearsoncorr.shape= torch.Size([450, 450])\n",
      "<class 'torch.Tensor'>\n"
     ]
    },
    {
     "name": "stderr",
     "output_type": "stream",
     "text": [
      " 61%|██████    | 611/1000 [17:26:35<10:40:20, 98.77s/it]"
     ]
    },
    {
     "name": "stdout",
     "output_type": "stream",
     "text": [
      "eigenvalues shape torch.Size([5]) eigenvectors shape torch.Size([5, 400])\n",
      "611 /home/phdcs2/Hard_Disk/Datasets/Deep-Spectral-Segmentation/data/object-segmentation/ECSSD/features/dino_vits16/0612.pth\n",
      "0612\n",
      "tanh_feats.shape= torch.Size([450, 384])\n"
     ]
    },
    {
     "name": "stderr",
     "output_type": "stream",
     "text": [
      " 61%|██████    | 612/1000 [17:28:20<10:50:46, 100.64s/it]"
     ]
    },
    {
     "name": "stdout",
     "output_type": "stream",
     "text": [
      "W_feat_ds.shape= torch.Size([450, 450])\n",
      "W_feat_hist_pearsoncorr.shape= torch.Size([450, 450])\n",
      "<class 'torch.Tensor'>\n",
      "eigenvalues shape torch.Size([5]) eigenvectors shape torch.Size([5, 400])\n",
      "612 /home/phdcs2/Hard_Disk/Datasets/Deep-Spectral-Segmentation/data/object-segmentation/ECSSD/features/dino_vits16/0613.pth\n",
      "0613\n",
      "tanh_feats.shape= torch.Size([400, 384])\n"
     ]
    },
    {
     "name": "stderr",
     "output_type": "stream",
     "text": [
      " 61%|██████▏   | 613/1000 [17:29:43<10:13:42, 95.15s/it] "
     ]
    },
    {
     "name": "stdout",
     "output_type": "stream",
     "text": [
      "W_feat_ds.shape= torch.Size([400, 400])\n",
      "W_feat_hist_pearsoncorr.shape= torch.Size([400, 400])\n",
      "<class 'torch.Tensor'>\n",
      "eigenvalues shape torch.Size([5]) eigenvectors shape torch.Size([5, 400])\n",
      "613 /home/phdcs2/Hard_Disk/Datasets/Deep-Spectral-Segmentation/data/object-segmentation/ECSSD/features/dino_vits16/0614.pth\n",
      "0614\n",
      "tanh_feats.shape= torch.Size([450, 384])\n"
     ]
    },
    {
     "name": "stderr",
     "output_type": "stream",
     "text": [
      " 61%|██████▏   | 614/1000 [17:31:26<10:27:31, 97.54s/it]"
     ]
    },
    {
     "name": "stdout",
     "output_type": "stream",
     "text": [
      "W_feat_ds.shape= torch.Size([450, 450])\n",
      "W_feat_hist_pearsoncorr.shape= torch.Size([450, 450])\n",
      "<class 'torch.Tensor'>\n",
      "eigenvalues shape torch.Size([5]) eigenvectors shape torch.Size([5, 400])\n",
      "614 /home/phdcs2/Hard_Disk/Datasets/Deep-Spectral-Segmentation/data/object-segmentation/ECSSD/features/dino_vits16/0615.pth\n",
      "0615\n",
      "tanh_feats.shape= torch.Size([400, 384])\n",
      "W_feat_ds.shape= torch.Size([400, 400])\n",
      "W_feat_hist_pearsoncorr.shape= torch.Size([400, 400])\n",
      "<class 'torch.Tensor'>\n"
     ]
    },
    {
     "name": "stderr",
     "output_type": "stream",
     "text": [
      " 62%|██████▏   | 615/1000 [17:32:48<9:57:06, 93.06s/it] "
     ]
    },
    {
     "name": "stdout",
     "output_type": "stream",
     "text": [
      "eigenvalues shape torch.Size([5]) eigenvectors shape torch.Size([5, 400])\n",
      "615 /home/phdcs2/Hard_Disk/Datasets/Deep-Spectral-Segmentation/data/object-segmentation/ECSSD/features/dino_vits16/0616.pth\n",
      "0616\n",
      "tanh_feats.shape= torch.Size([400, 384])\n",
      "W_feat_ds.shape= torch.Size([400, 400])\n",
      "W_feat_hist_pearsoncorr.shape= torch.Size([400, 400])\n",
      "<class 'torch.Tensor'>\n"
     ]
    },
    {
     "name": "stderr",
     "output_type": "stream",
     "text": [
      " 62%|██████▏   | 616/1000 [17:34:11<9:35:59, 90.00s/it]"
     ]
    },
    {
     "name": "stdout",
     "output_type": "stream",
     "text": [
      "eigenvalues shape torch.Size([5]) eigenvectors shape torch.Size([5, 400])\n",
      "616 /home/phdcs2/Hard_Disk/Datasets/Deep-Spectral-Segmentation/data/object-segmentation/ECSSD/features/dino_vits16/0617.pth\n",
      "0617\n",
      "tanh_feats.shape= torch.Size([500, 384])\n",
      "W_feat_ds.shape= torch.Size([500, 500])\n",
      "W_feat_hist_pearsoncorr.shape= torch.Size([500, 500])\n",
      "<class 'torch.Tensor'>\n"
     ]
    },
    {
     "name": "stderr",
     "output_type": "stream",
     "text": [
      " 62%|██████▏   | 617/1000 [17:36:20<10:48:32, 101.60s/it]"
     ]
    },
    {
     "name": "stdout",
     "output_type": "stream",
     "text": [
      "eigenvalues shape torch.Size([5]) eigenvectors shape torch.Size([5, 400])\n",
      "617 /home/phdcs2/Hard_Disk/Datasets/Deep-Spectral-Segmentation/data/object-segmentation/ECSSD/features/dino_vits16/0618.pth\n",
      "0618\n",
      "tanh_feats.shape= torch.Size([425, 384])\n",
      "W_feat_ds.shape= torch.Size([425, 425])\n",
      "W_feat_hist_pearsoncorr.shape= torch.Size([425, 425])\n",
      "<class 'torch.Tensor'>\n"
     ]
    },
    {
     "name": "stderr",
     "output_type": "stream",
     "text": [
      " 62%|██████▏   | 618/1000 [17:37:53<10:30:25, 99.02s/it] "
     ]
    },
    {
     "name": "stdout",
     "output_type": "stream",
     "text": [
      "eigenvalues shape torch.Size([5]) eigenvectors shape torch.Size([5, 400])\n",
      "618 /home/phdcs2/Hard_Disk/Datasets/Deep-Spectral-Segmentation/data/object-segmentation/ECSSD/features/dino_vits16/0619.pth\n",
      "0619\n",
      "tanh_feats.shape= torch.Size([450, 384])\n",
      "W_feat_ds.shape= torch.Size([450, 450])\n",
      "W_feat_hist_pearsoncorr.shape= torch.Size([450, 450])\n",
      "<class 'torch.Tensor'>\n"
     ]
    },
    {
     "name": "stderr",
     "output_type": "stream",
     "text": [
      " 62%|██████▏   | 619/1000 [17:39:37<10:39:33, 100.72s/it]"
     ]
    },
    {
     "name": "stdout",
     "output_type": "stream",
     "text": [
      "eigenvalues shape torch.Size([5]) eigenvectors shape torch.Size([5, 400])\n",
      "619 /home/phdcs2/Hard_Disk/Datasets/Deep-Spectral-Segmentation/data/object-segmentation/ECSSD/features/dino_vits16/0620.pth\n",
      "0620\n",
      "tanh_feats.shape= torch.Size([525, 384])\n",
      "W_feat_ds.shape= torch.Size([525, 525])\n",
      "W_feat_hist_pearsoncorr.shape= torch.Size([525, 525])\n",
      "<class 'torch.Tensor'>\n"
     ]
    },
    {
     "name": "stderr",
     "output_type": "stream",
     "text": [
      " 62%|██████▏   | 620/1000 [17:41:58<11:54:06, 112.75s/it]"
     ]
    },
    {
     "name": "stdout",
     "output_type": "stream",
     "text": [
      "eigenvalues shape torch.Size([5]) eigenvectors shape torch.Size([5, 400])\n",
      "620 /home/phdcs2/Hard_Disk/Datasets/Deep-Spectral-Segmentation/data/object-segmentation/ECSSD/features/dino_vits16/0621.pth\n",
      "0621\n",
      "tanh_feats.shape= torch.Size([450, 384])\n"
     ]
    },
    {
     "name": "stderr",
     "output_type": "stream",
     "text": [
      " 62%|██████▏   | 621/1000 [17:43:44<11:38:13, 110.54s/it]"
     ]
    },
    {
     "name": "stdout",
     "output_type": "stream",
     "text": [
      "W_feat_ds.shape= torch.Size([450, 450])\n",
      "W_feat_hist_pearsoncorr.shape= torch.Size([450, 450])\n",
      "<class 'torch.Tensor'>\n",
      "eigenvalues shape torch.Size([5]) eigenvectors shape torch.Size([5, 400])\n",
      "621 /home/phdcs2/Hard_Disk/Datasets/Deep-Spectral-Segmentation/data/object-segmentation/ECSSD/features/dino_vits16/0622.pth\n",
      "0622\n",
      "tanh_feats.shape= torch.Size([250, 384])\n",
      "W_feat_ds.shape= torch.Size([250, 250])\n",
      "W_feat_hist_pearsoncorr.shape= torch.Size([250, 250])\n",
      "<class 'torch.Tensor'>\n"
     ]
    },
    {
     "name": "stderr",
     "output_type": "stream",
     "text": [
      " 62%|██████▏   | 622/1000 [17:44:17<9:10:02, 87.31s/it]  "
     ]
    },
    {
     "name": "stdout",
     "output_type": "stream",
     "text": [
      "eigenvalues shape torch.Size([5]) eigenvectors shape torch.Size([5, 400])\n",
      "622 /home/phdcs2/Hard_Disk/Datasets/Deep-Spectral-Segmentation/data/object-segmentation/ECSSD/features/dino_vits16/0623.pth\n",
      "0623\n",
      "tanh_feats.shape= torch.Size([450, 384])\n",
      "W_feat_ds.shape= torch.Size([450, 450])\n",
      "W_feat_hist_pearsoncorr.shape= torch.Size([450, 450])\n",
      "<class 'torch.Tensor'>\n"
     ]
    },
    {
     "name": "stderr",
     "output_type": "stream",
     "text": [
      " 62%|██████▏   | 623/1000 [17:46:02<9:42:16, 92.67s/it]"
     ]
    },
    {
     "name": "stdout",
     "output_type": "stream",
     "text": [
      "eigenvalues shape torch.Size([5]) eigenvectors shape torch.Size([5, 400])\n",
      "623 /home/phdcs2/Hard_Disk/Datasets/Deep-Spectral-Segmentation/data/object-segmentation/ECSSD/features/dino_vits16/0624.pth\n",
      "0624\n",
      "tanh_feats.shape= torch.Size([400, 384])\n",
      "W_feat_ds.shape= torch.Size([400, 400])\n",
      "W_feat_hist_pearsoncorr.shape= torch.Size([400, 400])\n",
      "<class 'torch.Tensor'>\n"
     ]
    },
    {
     "name": "stderr",
     "output_type": "stream",
     "text": [
      " 62%|██████▏   | 624/1000 [17:47:24<9:20:09, 89.39s/it]"
     ]
    },
    {
     "name": "stdout",
     "output_type": "stream",
     "text": [
      "eigenvalues shape torch.Size([5]) eigenvectors shape torch.Size([5, 400])\n",
      "624 /home/phdcs2/Hard_Disk/Datasets/Deep-Spectral-Segmentation/data/object-segmentation/ECSSD/features/dino_vits16/0625.pth\n",
      "0625\n",
      "tanh_feats.shape= torch.Size([400, 384])\n",
      "W_feat_ds.shape= torch.Size([400, 400])\n",
      "W_feat_hist_pearsoncorr.shape= torch.Size([400, 400])\n",
      "<class 'torch.Tensor'>\n"
     ]
    },
    {
     "name": "stderr",
     "output_type": "stream",
     "text": [
      " 62%|██████▎   | 625/1000 [17:48:46<9:05:55, 87.35s/it]"
     ]
    },
    {
     "name": "stdout",
     "output_type": "stream",
     "text": [
      "eigenvalues shape torch.Size([5]) eigenvectors shape torch.Size([5, 400])\n",
      "625 /home/phdcs2/Hard_Disk/Datasets/Deep-Spectral-Segmentation/data/object-segmentation/ECSSD/features/dino_vits16/0626.pth\n",
      "0626\n",
      "tanh_feats.shape= torch.Size([400, 384])\n",
      "W_feat_ds.shape= torch.Size([400, 400])\n",
      "W_feat_hist_pearsoncorr.shape= torch.Size([400, 400])\n",
      "<class 'torch.Tensor'>\n"
     ]
    },
    {
     "name": "stderr",
     "output_type": "stream",
     "text": [
      " 63%|██████▎   | 626/1000 [17:50:09<8:55:09, 85.85s/it]"
     ]
    },
    {
     "name": "stdout",
     "output_type": "stream",
     "text": [
      "eigenvalues shape torch.Size([5]) eigenvectors shape torch.Size([5, 400])\n",
      "626 /home/phdcs2/Hard_Disk/Datasets/Deep-Spectral-Segmentation/data/object-segmentation/ECSSD/features/dino_vits16/0627.pth\n",
      "0627\n",
      "tanh_feats.shape= torch.Size([600, 384])\n",
      "W_feat_ds.shape= torch.Size([600, 600])\n",
      "W_feat_hist_pearsoncorr.shape= torch.Size([600, 600])\n",
      "<class 'torch.Tensor'>\n"
     ]
    },
    {
     "name": "stderr",
     "output_type": "stream",
     "text": [
      " 63%|██████▎   | 627/1000 [17:53:15<12:00:28, 115.89s/it]"
     ]
    },
    {
     "name": "stdout",
     "output_type": "stream",
     "text": [
      "eigenvalues shape torch.Size([5]) eigenvectors shape torch.Size([5, 400])\n",
      "627 /home/phdcs2/Hard_Disk/Datasets/Deep-Spectral-Segmentation/data/object-segmentation/ECSSD/features/dino_vits16/0628.pth\n",
      "0628\n",
      "tanh_feats.shape= torch.Size([400, 384])\n",
      "W_feat_ds.shape= torch.Size([400, 400])\n",
      "W_feat_hist_pearsoncorr.shape= torch.Size([400, 400])\n",
      "<class 'torch.Tensor'>\n"
     ]
    },
    {
     "name": "stderr",
     "output_type": "stream",
     "text": [
      " 63%|██████▎   | 628/1000 [17:54:38<10:58:53, 106.27s/it]"
     ]
    },
    {
     "name": "stdout",
     "output_type": "stream",
     "text": [
      "eigenvalues shape torch.Size([5]) eigenvectors shape torch.Size([5, 400])\n",
      "628 /home/phdcs2/Hard_Disk/Datasets/Deep-Spectral-Segmentation/data/object-segmentation/ECSSD/features/dino_vits16/0629.pth\n",
      "0629\n",
      "tanh_feats.shape= torch.Size([500, 384])\n",
      "W_feat_ds.shape= torch.Size([500, 500])\n",
      "W_feat_hist_pearsoncorr.shape= torch.Size([500, 500])\n",
      "<class 'torch.Tensor'>\n"
     ]
    },
    {
     "name": "stderr",
     "output_type": "stream",
     "text": [
      " 63%|██████▎   | 629/1000 [17:56:49<11:41:35, 113.47s/it]"
     ]
    },
    {
     "name": "stdout",
     "output_type": "stream",
     "text": [
      "eigenvalues shape torch.Size([5]) eigenvectors shape torch.Size([5, 400])\n",
      "629 /home/phdcs2/Hard_Disk/Datasets/Deep-Spectral-Segmentation/data/object-segmentation/ECSSD/features/dino_vits16/0630.pth\n",
      "0630\n",
      "tanh_feats.shape= torch.Size([450, 384])\n",
      "W_feat_ds.shape= torch.Size([450, 450])\n",
      "W_feat_hist_pearsoncorr.shape= torch.Size([450, 450])\n",
      "<class 'torch.Tensor'>\n"
     ]
    },
    {
     "name": "stderr",
     "output_type": "stream",
     "text": [
      " 63%|██████▎   | 630/1000 [17:58:34<11:24:31, 111.01s/it]"
     ]
    },
    {
     "name": "stdout",
     "output_type": "stream",
     "text": [
      "eigenvalues shape torch.Size([5]) eigenvectors shape torch.Size([5, 400])\n",
      "630 /home/phdcs2/Hard_Disk/Datasets/Deep-Spectral-Segmentation/data/object-segmentation/ECSSD/features/dino_vits16/0631.pth\n",
      "0631\n",
      "tanh_feats.shape= torch.Size([450, 384])\n"
     ]
    },
    {
     "name": "stderr",
     "output_type": "stream",
     "text": [
      " 63%|██████▎   | 631/1000 [18:00:19<11:11:02, 109.11s/it]"
     ]
    },
    {
     "name": "stdout",
     "output_type": "stream",
     "text": [
      "W_feat_ds.shape= torch.Size([450, 450])\n",
      "W_feat_hist_pearsoncorr.shape= torch.Size([450, 450])\n",
      "<class 'torch.Tensor'>\n",
      "eigenvalues shape torch.Size([5]) eigenvectors shape torch.Size([5, 400])\n",
      "631 /home/phdcs2/Hard_Disk/Datasets/Deep-Spectral-Segmentation/data/object-segmentation/ECSSD/features/dino_vits16/0632.pth\n",
      "0632\n",
      "tanh_feats.shape= torch.Size([550, 384])\n",
      "W_feat_ds.shape= torch.Size([550, 550])\n",
      "W_feat_hist_pearsoncorr.shape= torch.Size([550, 550])\n",
      "<class 'torch.Tensor'>\n"
     ]
    },
    {
     "name": "stderr",
     "output_type": "stream",
     "text": [
      " 63%|██████▎   | 632/1000 [18:02:54<12:33:55, 122.92s/it]"
     ]
    },
    {
     "name": "stdout",
     "output_type": "stream",
     "text": [
      "eigenvalues shape torch.Size([5]) eigenvectors shape torch.Size([5, 400])\n",
      "632 /home/phdcs2/Hard_Disk/Datasets/Deep-Spectral-Segmentation/data/object-segmentation/ECSSD/features/dino_vits16/0633.pth\n",
      "0633\n",
      "tanh_feats.shape= torch.Size([425, 384])\n",
      "W_feat_ds.shape= torch.Size([425, 425])\n",
      "W_feat_hist_pearsoncorr.shape= torch.Size([425, 425])\n",
      "<class 'torch.Tensor'>\n"
     ]
    },
    {
     "name": "stderr",
     "output_type": "stream",
     "text": [
      " 63%|██████▎   | 633/1000 [18:04:30<11:42:27, 114.84s/it]"
     ]
    },
    {
     "name": "stdout",
     "output_type": "stream",
     "text": [
      "eigenvalues shape torch.Size([5]) eigenvectors shape torch.Size([5, 400])\n",
      "633 /home/phdcs2/Hard_Disk/Datasets/Deep-Spectral-Segmentation/data/object-segmentation/ECSSD/features/dino_vits16/0634.pth\n",
      "0634\n",
      "tanh_feats.shape= torch.Size([450, 384])\n",
      "W_feat_ds.shape= torch.Size([450, 450])\n",
      "W_feat_hist_pearsoncorr.shape= torch.Size([450, 450])\n",
      "<class 'torch.Tensor'>\n"
     ]
    },
    {
     "name": "stderr",
     "output_type": "stream",
     "text": [
      " 63%|██████▎   | 634/1000 [18:06:15<11:22:07, 111.82s/it]"
     ]
    },
    {
     "name": "stdout",
     "output_type": "stream",
     "text": [
      "eigenvalues shape torch.Size([5]) eigenvectors shape torch.Size([5, 400])\n",
      "634 /home/phdcs2/Hard_Disk/Datasets/Deep-Spectral-Segmentation/data/object-segmentation/ECSSD/features/dino_vits16/0635.pth\n",
      "0635\n",
      "tanh_feats.shape= torch.Size([450, 384])\n",
      "W_feat_ds.shape= torch.Size([450, 450])\n",
      "W_feat_hist_pearsoncorr.shape= torch.Size([450, 450])\n",
      "<class 'torch.Tensor'>\n"
     ]
    },
    {
     "name": "stderr",
     "output_type": "stream",
     "text": [
      " 64%|██████▎   | 635/1000 [18:07:59<11:06:04, 109.49s/it]"
     ]
    },
    {
     "name": "stdout",
     "output_type": "stream",
     "text": [
      "eigenvalues shape torch.Size([5]) eigenvectors shape torch.Size([5, 400])\n",
      "635 /home/phdcs2/Hard_Disk/Datasets/Deep-Spectral-Segmentation/data/object-segmentation/ECSSD/features/dino_vits16/0636.pth\n",
      "0636\n",
      "tanh_feats.shape= torch.Size([350, 384])\n",
      "W_feat_ds.shape= torch.Size([350, 350])\n",
      "W_feat_hist_pearsoncorr.shape= torch.Size([350, 350])\n",
      "<class 'torch.Tensor'>\n"
     ]
    },
    {
     "name": "stderr",
     "output_type": "stream",
     "text": [
      " 64%|██████▎   | 636/1000 [18:09:02<9:39:49, 95.58s/it]  "
     ]
    },
    {
     "name": "stdout",
     "output_type": "stream",
     "text": [
      "eigenvalues shape torch.Size([5]) eigenvectors shape torch.Size([5, 400])\n",
      "636 /home/phdcs2/Hard_Disk/Datasets/Deep-Spectral-Segmentation/data/object-segmentation/ECSSD/features/dino_vits16/0637.pth\n",
      "0637\n",
      "tanh_feats.shape= torch.Size([450, 384])\n",
      "W_feat_ds.shape= torch.Size([450, 450])\n",
      "W_feat_hist_pearsoncorr.shape= torch.Size([450, 450])\n",
      "<class 'torch.Tensor'>\n"
     ]
    },
    {
     "name": "stderr",
     "output_type": "stream",
     "text": [
      " 64%|██████▎   | 637/1000 [18:10:46<9:54:05, 98.20s/it]"
     ]
    },
    {
     "name": "stdout",
     "output_type": "stream",
     "text": [
      "eigenvalues shape torch.Size([5]) eigenvectors shape torch.Size([5, 400])\n",
      "637 /home/phdcs2/Hard_Disk/Datasets/Deep-Spectral-Segmentation/data/object-segmentation/ECSSD/features/dino_vits16/0638.pth\n",
      "0638\n",
      "tanh_feats.shape= torch.Size([450, 384])\n",
      "W_feat_ds.shape= torch.Size([450, 450])\n",
      "W_feat_hist_pearsoncorr.shape= torch.Size([450, 450])\n",
      "<class 'torch.Tensor'>\n"
     ]
    },
    {
     "name": "stderr",
     "output_type": "stream",
     "text": [
      " 64%|██████▍   | 638/1000 [18:12:30<10:02:50, 99.92s/it]"
     ]
    },
    {
     "name": "stdout",
     "output_type": "stream",
     "text": [
      "eigenvalues shape torch.Size([5]) eigenvectors shape torch.Size([5, 400])\n",
      "638 /home/phdcs2/Hard_Disk/Datasets/Deep-Spectral-Segmentation/data/object-segmentation/ECSSD/features/dino_vits16/0639.pth\n",
      "0639\n",
      "tanh_feats.shape= torch.Size([375, 384])\n"
     ]
    },
    {
     "name": "stderr",
     "output_type": "stream",
     "text": [
      " 64%|██████▍   | 639/1000 [18:13:42<9:10:45, 91.54s/it] "
     ]
    },
    {
     "name": "stdout",
     "output_type": "stream",
     "text": [
      "W_feat_ds.shape= torch.Size([375, 375])\n",
      "W_feat_hist_pearsoncorr.shape= torch.Size([375, 375])\n",
      "<class 'torch.Tensor'>\n",
      "eigenvalues shape torch.Size([5]) eigenvectors shape torch.Size([5, 400])\n",
      "639 /home/phdcs2/Hard_Disk/Datasets/Deep-Spectral-Segmentation/data/object-segmentation/ECSSD/features/dino_vits16/0640.pth\n",
      "0640\n",
      "tanh_feats.shape= torch.Size([375, 384])\n",
      "W_feat_ds.shape= torch.Size([375, 375])\n",
      "W_feat_hist_pearsoncorr.shape= torch.Size([375, 375])\n",
      "<class 'torch.Tensor'>\n"
     ]
    },
    {
     "name": "stderr",
     "output_type": "stream",
     "text": [
      " 64%|██████▍   | 640/1000 [18:14:54<8:34:49, 85.80s/it]"
     ]
    },
    {
     "name": "stdout",
     "output_type": "stream",
     "text": [
      "eigenvalues shape torch.Size([5]) eigenvectors shape torch.Size([5, 400])\n",
      "640 /home/phdcs2/Hard_Disk/Datasets/Deep-Spectral-Segmentation/data/object-segmentation/ECSSD/features/dino_vits16/0641.pth\n",
      "0641\n",
      "tanh_feats.shape= torch.Size([450, 384])\n",
      "W_feat_ds.shape= torch.Size([450, 450])\n",
      "W_feat_hist_pearsoncorr.shape= torch.Size([450, 450])\n",
      "<class 'torch.Tensor'>\n"
     ]
    },
    {
     "name": "stderr",
     "output_type": "stream",
     "text": [
      " 64%|██████▍   | 641/1000 [18:16:39<9:07:06, 91.44s/it]"
     ]
    },
    {
     "name": "stdout",
     "output_type": "stream",
     "text": [
      "eigenvalues shape torch.Size([5]) eigenvectors shape torch.Size([5, 400])\n",
      "641 /home/phdcs2/Hard_Disk/Datasets/Deep-Spectral-Segmentation/data/object-segmentation/ECSSD/features/dino_vits16/0642.pth\n",
      "0642\n",
      "tanh_feats.shape= torch.Size([450, 384])\n",
      "W_feat_ds.shape= torch.Size([450, 450])\n",
      "W_feat_hist_pearsoncorr.shape= torch.Size([450, 450])\n",
      "<class 'torch.Tensor'>\n"
     ]
    },
    {
     "name": "stderr",
     "output_type": "stream",
     "text": [
      " 64%|██████▍   | 642/1000 [18:18:23<9:27:34, 95.12s/it]"
     ]
    },
    {
     "name": "stdout",
     "output_type": "stream",
     "text": [
      "eigenvalues shape torch.Size([5]) eigenvectors shape torch.Size([5, 400])\n",
      "642 /home/phdcs2/Hard_Disk/Datasets/Deep-Spectral-Segmentation/data/object-segmentation/ECSSD/features/dino_vits16/0643.pth\n",
      "0643\n",
      "tanh_feats.shape= torch.Size([450, 384])\n",
      "W_feat_ds.shape= torch.Size([450, 450])\n",
      "W_feat_hist_pearsoncorr.shape= torch.Size([450, 450])\n",
      "<class 'torch.Tensor'>\n"
     ]
    },
    {
     "name": "stderr",
     "output_type": "stream",
     "text": [
      " 64%|██████▍   | 643/1000 [18:20:08<9:43:44, 98.11s/it]"
     ]
    },
    {
     "name": "stdout",
     "output_type": "stream",
     "text": [
      "eigenvalues shape torch.Size([5]) eigenvectors shape torch.Size([5, 400])\n",
      "643 /home/phdcs2/Hard_Disk/Datasets/Deep-Spectral-Segmentation/data/object-segmentation/ECSSD/features/dino_vits16/0644.pth\n",
      "0644\n",
      "tanh_feats.shape= torch.Size([450, 384])\n",
      "W_feat_ds.shape= torch.Size([450, 450])\n",
      "W_feat_hist_pearsoncorr.shape= torch.Size([450, 450])\n",
      "<class 'torch.Tensor'>\n"
     ]
    },
    {
     "name": "stderr",
     "output_type": "stream",
     "text": [
      " 64%|██████▍   | 644/1000 [18:21:53<9:53:55, 100.10s/it]"
     ]
    },
    {
     "name": "stdout",
     "output_type": "stream",
     "text": [
      "eigenvalues shape torch.Size([5]) eigenvectors shape torch.Size([5, 400])\n",
      "644 /home/phdcs2/Hard_Disk/Datasets/Deep-Spectral-Segmentation/data/object-segmentation/ECSSD/features/dino_vits16/0645.pth\n",
      "0645\n",
      "tanh_feats.shape= torch.Size([400, 384])\n",
      "W_feat_ds.shape= torch.Size([400, 400])\n",
      "W_feat_hist_pearsoncorr.shape= torch.Size([400, 400])\n",
      "<class 'torch.Tensor'>\n"
     ]
    },
    {
     "name": "stderr",
     "output_type": "stream",
     "text": [
      " 64%|██████▍   | 645/1000 [18:23:15<9:21:02, 94.82s/it] "
     ]
    },
    {
     "name": "stdout",
     "output_type": "stream",
     "text": [
      "eigenvalues shape torch.Size([5]) eigenvectors shape torch.Size([5, 400])\n",
      "645 /home/phdcs2/Hard_Disk/Datasets/Deep-Spectral-Segmentation/data/object-segmentation/ECSSD/features/dino_vits16/0646.pth\n",
      "0646\n",
      "tanh_feats.shape= torch.Size([475, 384])\n"
     ]
    },
    {
     "name": "stderr",
     "output_type": "stream",
     "text": [
      " 65%|██████▍   | 646/1000 [18:25:11<9:56:27, 101.10s/it]"
     ]
    },
    {
     "name": "stdout",
     "output_type": "stream",
     "text": [
      "W_feat_ds.shape= torch.Size([475, 475])\n",
      "W_feat_hist_pearsoncorr.shape= torch.Size([475, 475])\n",
      "<class 'torch.Tensor'>\n",
      "eigenvalues shape torch.Size([5]) eigenvectors shape torch.Size([5, 400])\n",
      "646 /home/phdcs2/Hard_Disk/Datasets/Deep-Spectral-Segmentation/data/object-segmentation/ECSSD/features/dino_vits16/0647.pth\n",
      "0647\n",
      "tanh_feats.shape= torch.Size([400, 384])\n",
      "W_feat_ds.shape= torch.Size([400, 400])\n",
      "W_feat_hist_pearsoncorr.shape= torch.Size([400, 400])\n",
      "<class 'torch.Tensor'>\n"
     ]
    },
    {
     "name": "stderr",
     "output_type": "stream",
     "text": [
      " 65%|██████▍   | 647/1000 [18:26:34<9:22:39, 95.63s/it] "
     ]
    },
    {
     "name": "stdout",
     "output_type": "stream",
     "text": [
      "eigenvalues shape torch.Size([5]) eigenvectors shape torch.Size([5, 400])\n",
      "647 /home/phdcs2/Hard_Disk/Datasets/Deep-Spectral-Segmentation/data/object-segmentation/ECSSD/features/dino_vits16/0648.pth\n",
      "0648\n",
      "tanh_feats.shape= torch.Size([525, 384])\n",
      "W_feat_ds.shape= torch.Size([525, 525])\n",
      "W_feat_hist_pearsoncorr.shape= torch.Size([525, 525])\n",
      "<class 'torch.Tensor'>\n"
     ]
    },
    {
     "name": "stderr",
     "output_type": "stream",
     "text": [
      " 65%|██████▍   | 648/1000 [18:28:56<10:43:20, 109.66s/it]"
     ]
    },
    {
     "name": "stdout",
     "output_type": "stream",
     "text": [
      "eigenvalues shape torch.Size([5]) eigenvectors shape torch.Size([5, 400])\n",
      "648 /home/phdcs2/Hard_Disk/Datasets/Deep-Spectral-Segmentation/data/object-segmentation/ECSSD/features/dino_vits16/0649.pth\n",
      "0649\n",
      "tanh_feats.shape= torch.Size([400, 384])\n",
      "W_feat_ds.shape= torch.Size([400, 400])\n",
      "W_feat_hist_pearsoncorr.shape= torch.Size([400, 400])\n",
      "<class 'torch.Tensor'>\n"
     ]
    },
    {
     "name": "stderr",
     "output_type": "stream",
     "text": [
      " 65%|██████▍   | 649/1000 [18:30:19<9:55:15, 101.75s/it] "
     ]
    },
    {
     "name": "stdout",
     "output_type": "stream",
     "text": [
      "eigenvalues shape torch.Size([5]) eigenvectors shape torch.Size([5, 400])\n",
      "649 /home/phdcs2/Hard_Disk/Datasets/Deep-Spectral-Segmentation/data/object-segmentation/ECSSD/features/dino_vits16/0650.pth\n",
      "0650\n",
      "tanh_feats.shape= torch.Size([400, 384])\n"
     ]
    },
    {
     "name": "stderr",
     "output_type": "stream",
     "text": [
      " 65%|██████▌   | 650/1000 [18:31:42<9:19:50, 95.97s/it] "
     ]
    },
    {
     "name": "stdout",
     "output_type": "stream",
     "text": [
      "W_feat_ds.shape= torch.Size([400, 400])\n",
      "W_feat_hist_pearsoncorr.shape= torch.Size([400, 400])\n",
      "<class 'torch.Tensor'>\n",
      "eigenvalues shape torch.Size([5]) eigenvectors shape torch.Size([5, 400])\n",
      "650 /home/phdcs2/Hard_Disk/Datasets/Deep-Spectral-Segmentation/data/object-segmentation/ECSSD/features/dino_vits16/0651.pth\n",
      "0651\n",
      "tanh_feats.shape= torch.Size([350, 384])\n",
      "W_feat_ds.shape= torch.Size([350, 350])\n",
      "W_feat_hist_pearsoncorr.shape= torch.Size([350, 350])\n",
      "<class 'torch.Tensor'>\n"
     ]
    },
    {
     "name": "stderr",
     "output_type": "stream",
     "text": [
      " 65%|██████▌   | 651/1000 [18:32:46<8:22:07, 86.32s/it]"
     ]
    },
    {
     "name": "stdout",
     "output_type": "stream",
     "text": [
      "eigenvalues shape torch.Size([5]) eigenvectors shape torch.Size([5, 400])\n",
      "651 /home/phdcs2/Hard_Disk/Datasets/Deep-Spectral-Segmentation/data/object-segmentation/ECSSD/features/dino_vits16/0652.pth\n",
      "0652\n",
      "tanh_feats.shape= torch.Size([400, 384])\n",
      "W_feat_ds.shape= torch.Size([400, 400])\n",
      "W_feat_hist_pearsoncorr.shape= torch.Size([400, 400])\n",
      "<class 'torch.Tensor'>\n"
     ]
    },
    {
     "name": "stderr",
     "output_type": "stream",
     "text": [
      " 65%|██████▌   | 652/1000 [18:34:09<8:14:44, 85.30s/it]"
     ]
    },
    {
     "name": "stdout",
     "output_type": "stream",
     "text": [
      "eigenvalues shape torch.Size([5]) eigenvectors shape torch.Size([5, 400])\n",
      "652 /home/phdcs2/Hard_Disk/Datasets/Deep-Spectral-Segmentation/data/object-segmentation/ECSSD/features/dino_vits16/0653.pth\n",
      "0653\n",
      "tanh_feats.shape= torch.Size([450, 384])\n"
     ]
    },
    {
     "name": "stderr",
     "output_type": "stream",
     "text": [
      " 65%|██████▌   | 653/1000 [18:35:53<8:46:27, 91.03s/it]"
     ]
    },
    {
     "name": "stdout",
     "output_type": "stream",
     "text": [
      "W_feat_ds.shape= torch.Size([450, 450])\n",
      "W_feat_hist_pearsoncorr.shape= torch.Size([450, 450])\n",
      "<class 'torch.Tensor'>\n",
      "eigenvalues shape torch.Size([5]) eigenvectors shape torch.Size([5, 400])\n",
      "653 /home/phdcs2/Hard_Disk/Datasets/Deep-Spectral-Segmentation/data/object-segmentation/ECSSD/features/dino_vits16/0654.pth\n",
      "0654\n",
      "tanh_feats.shape= torch.Size([400, 384])\n",
      "W_feat_ds.shape= torch.Size([400, 400])\n",
      "W_feat_hist_pearsoncorr.shape= torch.Size([400, 400])\n",
      "<class 'torch.Tensor'>\n"
     ]
    },
    {
     "name": "stderr",
     "output_type": "stream",
     "text": [
      " 65%|██████▌   | 654/1000 [18:37:16<8:30:29, 88.53s/it]"
     ]
    },
    {
     "name": "stdout",
     "output_type": "stream",
     "text": [
      "eigenvalues shape torch.Size([5]) eigenvectors shape torch.Size([5, 400])\n",
      "654 /home/phdcs2/Hard_Disk/Datasets/Deep-Spectral-Segmentation/data/object-segmentation/ECSSD/features/dino_vits16/0655.pth\n",
      "0655\n",
      "tanh_feats.shape= torch.Size([350, 384])\n",
      "W_feat_ds.shape= torch.Size([350, 350])\n",
      "W_feat_hist_pearsoncorr.shape= torch.Size([350, 350])\n",
      "<class 'torch.Tensor'>\n"
     ]
    },
    {
     "name": "stderr",
     "output_type": "stream",
     "text": [
      " 66%|██████▌   | 655/1000 [18:38:18<7:44:20, 80.75s/it]"
     ]
    },
    {
     "name": "stdout",
     "output_type": "stream",
     "text": [
      "eigenvalues shape torch.Size([5]) eigenvectors shape torch.Size([5, 400])\n",
      "655 /home/phdcs2/Hard_Disk/Datasets/Deep-Spectral-Segmentation/data/object-segmentation/ECSSD/features/dino_vits16/0656.pth\n",
      "0656\n",
      "tanh_feats.shape= torch.Size([400, 384])\n"
     ]
    },
    {
     "name": "stderr",
     "output_type": "stream",
     "text": [
      " 66%|██████▌   | 656/1000 [18:39:41<7:46:55, 81.44s/it]"
     ]
    },
    {
     "name": "stdout",
     "output_type": "stream",
     "text": [
      "W_feat_ds.shape= torch.Size([400, 400])\n",
      "W_feat_hist_pearsoncorr.shape= torch.Size([400, 400])\n",
      "<class 'torch.Tensor'>\n",
      "eigenvalues shape torch.Size([5]) eigenvectors shape torch.Size([5, 400])\n",
      "656 /home/phdcs2/Hard_Disk/Datasets/Deep-Spectral-Segmentation/data/object-segmentation/ECSSD/features/dino_vits16/0657.pth\n",
      "0657\n",
      "tanh_feats.shape= torch.Size([450, 384])\n",
      "W_feat_ds.shape= torch.Size([450, 450])\n",
      "W_feat_hist_pearsoncorr.shape= torch.Size([450, 450])\n",
      "<class 'torch.Tensor'>\n"
     ]
    },
    {
     "name": "stderr",
     "output_type": "stream",
     "text": [
      " 66%|██████▌   | 657/1000 [18:41:26<8:25:42, 88.46s/it]"
     ]
    },
    {
     "name": "stdout",
     "output_type": "stream",
     "text": [
      "eigenvalues shape torch.Size([5]) eigenvectors shape torch.Size([5, 400])\n",
      "657 /home/phdcs2/Hard_Disk/Datasets/Deep-Spectral-Segmentation/data/object-segmentation/ECSSD/features/dino_vits16/0658.pth\n",
      "0658\n",
      "tanh_feats.shape= torch.Size([575, 384])\n",
      "W_feat_ds.shape= torch.Size([575, 575])\n",
      "W_feat_hist_pearsoncorr.shape= torch.Size([575, 575])\n",
      "<class 'torch.Tensor'>\n"
     ]
    },
    {
     "name": "stderr",
     "output_type": "stream",
     "text": [
      " 66%|██████▌   | 658/1000 [18:44:16<10:44:00, 112.98s/it]"
     ]
    },
    {
     "name": "stdout",
     "output_type": "stream",
     "text": [
      "eigenvalues shape torch.Size([5]) eigenvectors shape torch.Size([5, 400])\n",
      "658 /home/phdcs2/Hard_Disk/Datasets/Deep-Spectral-Segmentation/data/object-segmentation/ECSSD/features/dino_vits16/0659.pth\n",
      "0659\n",
      "tanh_feats.shape= torch.Size([525, 384])\n",
      "W_feat_ds.shape= torch.Size([525, 525])\n",
      "W_feat_hist_pearsoncorr.shape= torch.Size([525, 525])\n",
      "<class 'torch.Tensor'>\n"
     ]
    },
    {
     "name": "stderr",
     "output_type": "stream",
     "text": [
      " 66%|██████▌   | 659/1000 [18:46:39<11:32:14, 121.80s/it]"
     ]
    },
    {
     "name": "stdout",
     "output_type": "stream",
     "text": [
      "eigenvalues shape torch.Size([5]) eigenvectors shape torch.Size([5, 400])\n",
      "659 /home/phdcs2/Hard_Disk/Datasets/Deep-Spectral-Segmentation/data/object-segmentation/ECSSD/features/dino_vits16/0660.pth\n",
      "0660\n",
      "tanh_feats.shape= torch.Size([600, 384])\n"
     ]
    },
    {
     "name": "stderr",
     "output_type": "stream",
     "text": [
      " 66%|██████▌   | 660/1000 [18:49:46<13:20:52, 141.33s/it]"
     ]
    },
    {
     "name": "stdout",
     "output_type": "stream",
     "text": [
      "W_feat_ds.shape= torch.Size([600, 600])\n",
      "W_feat_hist_pearsoncorr.shape= torch.Size([600, 600])\n",
      "<class 'torch.Tensor'>\n",
      "eigenvalues shape torch.Size([5]) eigenvectors shape torch.Size([5, 400])\n",
      "660 /home/phdcs2/Hard_Disk/Datasets/Deep-Spectral-Segmentation/data/object-segmentation/ECSSD/features/dino_vits16/0661.pth\n",
      "0661\n",
      "tanh_feats.shape= torch.Size([450, 384])\n"
     ]
    },
    {
     "name": "stderr",
     "output_type": "stream",
     "text": [
      " 66%|██████▌   | 661/1000 [18:51:30<12:16:29, 130.35s/it]"
     ]
    },
    {
     "name": "stdout",
     "output_type": "stream",
     "text": [
      "W_feat_ds.shape= torch.Size([450, 450])\n",
      "W_feat_hist_pearsoncorr.shape= torch.Size([450, 450])\n",
      "<class 'torch.Tensor'>\n",
      "eigenvalues shape torch.Size([5]) eigenvectors shape torch.Size([5, 400])\n",
      "661 /home/phdcs2/Hard_Disk/Datasets/Deep-Spectral-Segmentation/data/object-segmentation/ECSSD/features/dino_vits16/0662.pth\n",
      "0662\n",
      "tanh_feats.shape= torch.Size([400, 384])\n",
      "W_feat_ds.shape= torch.Size([400, 400])\n",
      "W_feat_hist_pearsoncorr.shape= torch.Size([400, 400])\n",
      "<class 'torch.Tensor'>\n"
     ]
    },
    {
     "name": "stderr",
     "output_type": "stream",
     "text": [
      " 66%|██████▌   | 662/1000 [18:52:52<10:52:48, 115.88s/it]"
     ]
    },
    {
     "name": "stdout",
     "output_type": "stream",
     "text": [
      "eigenvalues shape torch.Size([5]) eigenvectors shape torch.Size([5, 400])\n",
      "662 /home/phdcs2/Hard_Disk/Datasets/Deep-Spectral-Segmentation/data/object-segmentation/ECSSD/features/dino_vits16/0663.pth\n",
      "0663\n",
      "tanh_feats.shape= torch.Size([400, 384])\n"
     ]
    },
    {
     "name": "stderr",
     "output_type": "stream",
     "text": [
      " 66%|██████▋   | 663/1000 [18:54:14<9:52:33, 105.50s/it] "
     ]
    },
    {
     "name": "stdout",
     "output_type": "stream",
     "text": [
      "W_feat_ds.shape= torch.Size([400, 400])\n",
      "W_feat_hist_pearsoncorr.shape= torch.Size([400, 400])\n",
      "<class 'torch.Tensor'>\n",
      "eigenvalues shape torch.Size([5]) eigenvectors shape torch.Size([5, 400])\n",
      "663 /home/phdcs2/Hard_Disk/Datasets/Deep-Spectral-Segmentation/data/object-segmentation/ECSSD/features/dino_vits16/0664.pth\n",
      "0664\n",
      "tanh_feats.shape= torch.Size([400, 384])\n",
      "W_feat_ds.shape= torch.Size([400, 400])\n",
      "W_feat_hist_pearsoncorr.shape= torch.Size([400, 400])\n",
      "<class 'torch.Tensor'>\n"
     ]
    },
    {
     "name": "stderr",
     "output_type": "stream",
     "text": [
      " 66%|██████▋   | 664/1000 [18:55:36<9:12:22, 98.64s/it] "
     ]
    },
    {
     "name": "stdout",
     "output_type": "stream",
     "text": [
      "eigenvalues shape torch.Size([5]) eigenvectors shape torch.Size([5, 400])\n",
      "664 /home/phdcs2/Hard_Disk/Datasets/Deep-Spectral-Segmentation/data/object-segmentation/ECSSD/features/dino_vits16/0665.pth\n",
      "0665\n",
      "tanh_feats.shape= torch.Size([400, 384])\n",
      "W_feat_ds.shape= torch.Size([400, 400])\n",
      "W_feat_hist_pearsoncorr.shape= torch.Size([400, 400])\n",
      "<class 'torch.Tensor'>\n"
     ]
    },
    {
     "name": "stderr",
     "output_type": "stream",
     "text": [
      " 66%|██████▋   | 665/1000 [18:56:58<8:43:01, 93.68s/it]"
     ]
    },
    {
     "name": "stdout",
     "output_type": "stream",
     "text": [
      "eigenvalues shape torch.Size([5]) eigenvectors shape torch.Size([5, 400])\n",
      "665 /home/phdcs2/Hard_Disk/Datasets/Deep-Spectral-Segmentation/data/object-segmentation/ECSSD/features/dino_vits16/0666.pth\n",
      "0666\n",
      "tanh_feats.shape= torch.Size([525, 384])\n",
      "W_feat_ds.shape= torch.Size([525, 525])\n",
      "W_feat_hist_pearsoncorr.shape= torch.Size([525, 525])\n",
      "<class 'torch.Tensor'>\n"
     ]
    },
    {
     "name": "stderr",
     "output_type": "stream",
     "text": [
      " 67%|██████▋   | 666/1000 [18:59:20<10:01:51, 108.12s/it]"
     ]
    },
    {
     "name": "stdout",
     "output_type": "stream",
     "text": [
      "eigenvalues shape torch.Size([5]) eigenvectors shape torch.Size([5, 400])\n",
      "666 /home/phdcs2/Hard_Disk/Datasets/Deep-Spectral-Segmentation/data/object-segmentation/ECSSD/features/dino_vits16/0667.pth\n",
      "0667\n",
      "tanh_feats.shape= torch.Size([400, 384])\n",
      "W_feat_ds.shape= torch.Size([400, 400])\n",
      "W_feat_hist_pearsoncorr.shape= torch.Size([400, 400])\n",
      "<class 'torch.Tensor'>\n"
     ]
    },
    {
     "name": "stderr",
     "output_type": "stream",
     "text": [
      " 67%|██████▋   | 667/1000 [19:00:43<9:17:09, 100.39s/it] "
     ]
    },
    {
     "name": "stdout",
     "output_type": "stream",
     "text": [
      "eigenvalues shape torch.Size([5]) eigenvectors shape torch.Size([5, 400])\n",
      "667 /home/phdcs2/Hard_Disk/Datasets/Deep-Spectral-Segmentation/data/object-segmentation/ECSSD/features/dino_vits16/0668.pth\n",
      "0668\n",
      "tanh_feats.shape= torch.Size([400, 384])\n",
      "W_feat_ds.shape= torch.Size([400, 400])\n",
      "W_feat_hist_pearsoncorr.shape= torch.Size([400, 400])\n",
      "<class 'torch.Tensor'>\n"
     ]
    },
    {
     "name": "stderr",
     "output_type": "stream",
     "text": [
      " 67%|██████▋   | 668/1000 [19:02:06<8:46:45, 95.20s/it] "
     ]
    },
    {
     "name": "stdout",
     "output_type": "stream",
     "text": [
      "eigenvalues shape torch.Size([5]) eigenvectors shape torch.Size([5, 400])\n",
      "668 /home/phdcs2/Hard_Disk/Datasets/Deep-Spectral-Segmentation/data/object-segmentation/ECSSD/features/dino_vits16/0669.pth\n",
      "0669\n",
      "tanh_feats.shape= torch.Size([400, 384])\n",
      "W_feat_ds.shape= torch.Size([400, 400])\n",
      "W_feat_hist_pearsoncorr.shape= torch.Size([400, 400])\n",
      "<class 'torch.Tensor'>\n"
     ]
    },
    {
     "name": "stderr",
     "output_type": "stream",
     "text": [
      " 67%|██████▋   | 669/1000 [19:03:28<8:23:35, 91.29s/it]"
     ]
    },
    {
     "name": "stdout",
     "output_type": "stream",
     "text": [
      "eigenvalues shape torch.Size([5]) eigenvectors shape torch.Size([5, 400])\n",
      "669 /home/phdcs2/Hard_Disk/Datasets/Deep-Spectral-Segmentation/data/object-segmentation/ECSSD/features/dino_vits16/0670.pth\n",
      "0670\n",
      "tanh_feats.shape= torch.Size([400, 384])\n",
      "W_feat_ds.shape= torch.Size([400, 400])\n",
      "W_feat_hist_pearsoncorr.shape= torch.Size([400, 400])\n",
      "<class 'torch.Tensor'>\n"
     ]
    },
    {
     "name": "stderr",
     "output_type": "stream",
     "text": [
      " 67%|██████▋   | 670/1000 [19:04:51<8:08:08, 88.75s/it]"
     ]
    },
    {
     "name": "stdout",
     "output_type": "stream",
     "text": [
      "eigenvalues shape torch.Size([5]) eigenvectors shape torch.Size([5, 400])\n",
      "670 /home/phdcs2/Hard_Disk/Datasets/Deep-Spectral-Segmentation/data/object-segmentation/ECSSD/features/dino_vits16/0671.pth\n",
      "0671\n",
      "tanh_feats.shape= torch.Size([400, 384])\n",
      "W_feat_ds.shape= torch.Size([400, 400])\n",
      "W_feat_hist_pearsoncorr.shape= torch.Size([400, 400])\n",
      "<class 'torch.Tensor'>\n"
     ]
    },
    {
     "name": "stderr",
     "output_type": "stream",
     "text": [
      " 67%|██████▋   | 671/1000 [19:06:13<7:56:23, 86.88s/it]"
     ]
    },
    {
     "name": "stdout",
     "output_type": "stream",
     "text": [
      "eigenvalues shape torch.Size([5]) eigenvectors shape torch.Size([5, 400])\n",
      "671 /home/phdcs2/Hard_Disk/Datasets/Deep-Spectral-Segmentation/data/object-segmentation/ECSSD/features/dino_vits16/0672.pth\n",
      "0672\n",
      "tanh_feats.shape= torch.Size([450, 384])\n",
      "W_feat_ds.shape= torch.Size([450, 450])\n",
      "W_feat_hist_pearsoncorr.shape= torch.Size([450, 450])\n",
      "<class 'torch.Tensor'>\n"
     ]
    },
    {
     "name": "stderr",
     "output_type": "stream",
     "text": [
      " 67%|██████▋   | 672/1000 [19:07:58<8:23:26, 92.09s/it]"
     ]
    },
    {
     "name": "stdout",
     "output_type": "stream",
     "text": [
      "eigenvalues shape torch.Size([5]) eigenvectors shape torch.Size([5, 400])\n",
      "672 /home/phdcs2/Hard_Disk/Datasets/Deep-Spectral-Segmentation/data/object-segmentation/ECSSD/features/dino_vits16/0673.pth\n",
      "0673\n",
      "tanh_feats.shape= torch.Size([550, 384])\n"
     ]
    },
    {
     "name": "stderr",
     "output_type": "stream",
     "text": [
      " 67%|██████▋   | 673/1000 [19:10:34<10:06:23, 111.27s/it]"
     ]
    },
    {
     "name": "stdout",
     "output_type": "stream",
     "text": [
      "W_feat_ds.shape= torch.Size([550, 550])\n",
      "W_feat_hist_pearsoncorr.shape= torch.Size([550, 550])\n",
      "<class 'torch.Tensor'>\n",
      "eigenvalues shape torch.Size([5]) eigenvectors shape torch.Size([5, 400])\n",
      "673 /home/phdcs2/Hard_Disk/Datasets/Deep-Spectral-Segmentation/data/object-segmentation/ECSSD/features/dino_vits16/0674.pth\n",
      "0674\n",
      "tanh_feats.shape= torch.Size([400, 384])\n",
      "W_feat_ds.shape= torch.Size([400, 400])\n",
      "W_feat_hist_pearsoncorr.shape= torch.Size([400, 400])\n",
      "<class 'torch.Tensor'>\n"
     ]
    },
    {
     "name": "stderr",
     "output_type": "stream",
     "text": [
      " 67%|██████▋   | 674/1000 [19:11:56<9:17:56, 102.69s/it] "
     ]
    },
    {
     "name": "stdout",
     "output_type": "stream",
     "text": [
      "eigenvalues shape torch.Size([5]) eigenvectors shape torch.Size([5, 400])\n",
      "674 /home/phdcs2/Hard_Disk/Datasets/Deep-Spectral-Segmentation/data/object-segmentation/ECSSD/features/dino_vits16/0675.pth\n",
      "0675\n",
      "tanh_feats.shape= torch.Size([400, 384])\n"
     ]
    },
    {
     "name": "stderr",
     "output_type": "stream",
     "text": [
      " 68%|██████▊   | 675/1000 [19:13:18<8:41:45, 96.33s/it] "
     ]
    },
    {
     "name": "stdout",
     "output_type": "stream",
     "text": [
      "W_feat_ds.shape= torch.Size([400, 400])\n",
      "W_feat_hist_pearsoncorr.shape= torch.Size([400, 400])\n",
      "<class 'torch.Tensor'>\n",
      "eigenvalues shape torch.Size([5]) eigenvectors shape torch.Size([5, 400])\n",
      "675 /home/phdcs2/Hard_Disk/Datasets/Deep-Spectral-Segmentation/data/object-segmentation/ECSSD/features/dino_vits16/0676.pth\n",
      "0676\n",
      "tanh_feats.shape= torch.Size([400, 384])\n",
      "W_feat_ds.shape= torch.Size([400, 400])\n",
      "W_feat_hist_pearsoncorr.shape= torch.Size([400, 400])\n",
      "<class 'torch.Tensor'>\n"
     ]
    },
    {
     "name": "stderr",
     "output_type": "stream",
     "text": [
      " 68%|██████▊   | 676/1000 [19:14:41<8:18:32, 92.32s/it]"
     ]
    },
    {
     "name": "stdout",
     "output_type": "stream",
     "text": [
      "eigenvalues shape torch.Size([5]) eigenvectors shape torch.Size([5, 400])\n",
      "676 /home/phdcs2/Hard_Disk/Datasets/Deep-Spectral-Segmentation/data/object-segmentation/ECSSD/features/dino_vits16/0677.pth\n",
      "0677\n",
      "tanh_feats.shape= torch.Size([425, 384])\n"
     ]
    },
    {
     "name": "stderr",
     "output_type": "stream",
     "text": [
      " 68%|██████▊   | 677/1000 [19:16:14<8:18:13, 92.55s/it]"
     ]
    },
    {
     "name": "stdout",
     "output_type": "stream",
     "text": [
      "W_feat_ds.shape= torch.Size([425, 425])\n",
      "W_feat_hist_pearsoncorr.shape= torch.Size([425, 425])\n",
      "<class 'torch.Tensor'>\n",
      "eigenvalues shape torch.Size([5]) eigenvectors shape torch.Size([5, 400])\n",
      "677 /home/phdcs2/Hard_Disk/Datasets/Deep-Spectral-Segmentation/data/object-segmentation/ECSSD/features/dino_vits16/0678.pth\n",
      "0678\n",
      "tanh_feats.shape= torch.Size([400, 384])\n",
      "W_feat_ds.shape= torch.Size([400, 400])\n",
      "W_feat_hist_pearsoncorr.shape= torch.Size([400, 400])\n",
      "<class 'torch.Tensor'>\n"
     ]
    },
    {
     "name": "stderr",
     "output_type": "stream",
     "text": [
      " 68%|██████▊   | 678/1000 [19:17:35<7:58:23, 89.14s/it]"
     ]
    },
    {
     "name": "stdout",
     "output_type": "stream",
     "text": [
      "eigenvalues shape torch.Size([5]) eigenvectors shape torch.Size([5, 400])\n",
      "678 /home/phdcs2/Hard_Disk/Datasets/Deep-Spectral-Segmentation/data/object-segmentation/ECSSD/features/dino_vits16/0679.pth\n",
      "0679\n",
      "tanh_feats.shape= torch.Size([400, 384])\n"
     ]
    },
    {
     "name": "stderr",
     "output_type": "stream",
     "text": [
      " 68%|██████▊   | 679/1000 [19:18:56<7:43:44, 86.68s/it]"
     ]
    },
    {
     "name": "stdout",
     "output_type": "stream",
     "text": [
      "W_feat_ds.shape= torch.Size([400, 400])\n",
      "W_feat_hist_pearsoncorr.shape= torch.Size([400, 400])\n",
      "<class 'torch.Tensor'>\n",
      "eigenvalues shape torch.Size([5]) eigenvectors shape torch.Size([5, 400])\n",
      "679 /home/phdcs2/Hard_Disk/Datasets/Deep-Spectral-Segmentation/data/object-segmentation/ECSSD/features/dino_vits16/0680.pth\n",
      "0680\n",
      "tanh_feats.shape= torch.Size([400, 384])\n",
      "W_feat_ds.shape= torch.Size([400, 400])\n",
      "W_feat_hist_pearsoncorr.shape= torch.Size([400, 400])\n",
      "<class 'torch.Tensor'>\n"
     ]
    },
    {
     "name": "stderr",
     "output_type": "stream",
     "text": [
      " 68%|██████▊   | 680/1000 [19:20:18<7:34:27, 85.21s/it]"
     ]
    },
    {
     "name": "stdout",
     "output_type": "stream",
     "text": [
      "eigenvalues shape torch.Size([5]) eigenvectors shape torch.Size([5, 400])\n",
      "680 /home/phdcs2/Hard_Disk/Datasets/Deep-Spectral-Segmentation/data/object-segmentation/ECSSD/features/dino_vits16/0681.pth\n",
      "0681\n",
      "tanh_feats.shape= torch.Size([475, 384])\n",
      "W_feat_ds.shape= torch.Size([475, 475])\n",
      "W_feat_hist_pearsoncorr.shape= torch.Size([475, 475])\n",
      "<class 'torch.Tensor'>\n"
     ]
    },
    {
     "name": "stderr",
     "output_type": "stream",
     "text": [
      " 68%|██████▊   | 681/1000 [19:22:13<8:21:40, 94.36s/it]"
     ]
    },
    {
     "name": "stdout",
     "output_type": "stream",
     "text": [
      "eigenvalues shape torch.Size([5]) eigenvectors shape torch.Size([5, 400])\n",
      "681 /home/phdcs2/Hard_Disk/Datasets/Deep-Spectral-Segmentation/data/object-segmentation/ECSSD/features/dino_vits16/0682.pth\n",
      "0682\n",
      "tanh_feats.shape= torch.Size([400, 384])\n"
     ]
    },
    {
     "name": "stderr",
     "output_type": "stream",
     "text": [
      " 68%|██████▊   | 682/1000 [19:23:36<8:02:08, 90.97s/it]"
     ]
    },
    {
     "name": "stdout",
     "output_type": "stream",
     "text": [
      "W_feat_ds.shape= torch.Size([400, 400])\n",
      "W_feat_hist_pearsoncorr.shape= torch.Size([400, 400])\n",
      "<class 'torch.Tensor'>\n",
      "eigenvalues shape torch.Size([5]) eigenvectors shape torch.Size([5, 400])\n",
      "682 /home/phdcs2/Hard_Disk/Datasets/Deep-Spectral-Segmentation/data/object-segmentation/ECSSD/features/dino_vits16/0683.pth\n",
      "0683\n",
      "tanh_feats.shape= torch.Size([450, 384])\n",
      "W_feat_ds.shape= torch.Size([450, 450])\n",
      "W_feat_hist_pearsoncorr.shape= torch.Size([450, 450])\n",
      "<class 'torch.Tensor'>\n"
     ]
    },
    {
     "name": "stderr",
     "output_type": "stream",
     "text": [
      " 68%|██████▊   | 683/1000 [19:25:21<8:21:54, 95.00s/it]"
     ]
    },
    {
     "name": "stdout",
     "output_type": "stream",
     "text": [
      "eigenvalues shape torch.Size([5]) eigenvectors shape torch.Size([5, 400])\n",
      "683 /home/phdcs2/Hard_Disk/Datasets/Deep-Spectral-Segmentation/data/object-segmentation/ECSSD/features/dino_vits16/0684.pth\n",
      "0684\n",
      "tanh_feats.shape= torch.Size([400, 384])\n",
      "W_feat_ds.shape= torch.Size([400, 400])\n",
      "W_feat_hist_pearsoncorr.shape= torch.Size([400, 400])\n",
      "<class 'torch.Tensor'>\n"
     ]
    },
    {
     "name": "stderr",
     "output_type": "stream",
     "text": [
      " 68%|██████▊   | 684/1000 [19:26:44<8:01:03, 91.34s/it]"
     ]
    },
    {
     "name": "stdout",
     "output_type": "stream",
     "text": [
      "eigenvalues shape torch.Size([5]) eigenvectors shape torch.Size([5, 400])\n",
      "684 /home/phdcs2/Hard_Disk/Datasets/Deep-Spectral-Segmentation/data/object-segmentation/ECSSD/features/dino_vits16/0685.pth\n",
      "0685\n",
      "tanh_feats.shape= torch.Size([400, 384])\n",
      "W_feat_ds.shape= torch.Size([400, 400])\n",
      "W_feat_hist_pearsoncorr.shape= torch.Size([400, 400])\n",
      "<class 'torch.Tensor'>\n"
     ]
    },
    {
     "name": "stderr",
     "output_type": "stream",
     "text": [
      " 68%|██████▊   | 685/1000 [19:28:07<7:47:01, 88.96s/it]"
     ]
    },
    {
     "name": "stdout",
     "output_type": "stream",
     "text": [
      "eigenvalues shape torch.Size([5]) eigenvectors shape torch.Size([5, 400])\n",
      "685 /home/phdcs2/Hard_Disk/Datasets/Deep-Spectral-Segmentation/data/object-segmentation/ECSSD/features/dino_vits16/0686.pth\n",
      "0686\n",
      "tanh_feats.shape= torch.Size([400, 384])\n"
     ]
    },
    {
     "name": "stderr",
     "output_type": "stream",
     "text": [
      " 69%|██████▊   | 686/1000 [19:29:30<7:35:36, 87.06s/it]"
     ]
    },
    {
     "name": "stdout",
     "output_type": "stream",
     "text": [
      "W_feat_ds.shape= torch.Size([400, 400])\n",
      "W_feat_hist_pearsoncorr.shape= torch.Size([400, 400])\n",
      "<class 'torch.Tensor'>\n",
      "eigenvalues shape torch.Size([5]) eigenvectors shape torch.Size([5, 400])\n",
      "686 /home/phdcs2/Hard_Disk/Datasets/Deep-Spectral-Segmentation/data/object-segmentation/ECSSD/features/dino_vits16/0687.pth\n",
      "0687\n",
      "tanh_feats.shape= torch.Size([400, 384])\n",
      "W_feat_ds.shape= torch.Size([400, 400])\n",
      "W_feat_hist_pearsoncorr.shape= torch.Size([400, 400])\n",
      "<class 'torch.Tensor'>\n"
     ]
    },
    {
     "name": "stderr",
     "output_type": "stream",
     "text": [
      " 69%|██████▊   | 687/1000 [19:30:52<7:27:27, 85.78s/it]"
     ]
    },
    {
     "name": "stdout",
     "output_type": "stream",
     "text": [
      "eigenvalues shape torch.Size([5]) eigenvectors shape torch.Size([5, 400])\n",
      "687 /home/phdcs2/Hard_Disk/Datasets/Deep-Spectral-Segmentation/data/object-segmentation/ECSSD/features/dino_vits16/0688.pth\n",
      "0688\n",
      "tanh_feats.shape= torch.Size([425, 384])\n",
      "W_feat_ds.shape= torch.Size([425, 425])\n",
      "W_feat_hist_pearsoncorr.shape= torch.Size([425, 425])\n",
      "<class 'torch.Tensor'>\n"
     ]
    },
    {
     "name": "stderr",
     "output_type": "stream",
     "text": [
      " 69%|██████▉   | 688/1000 [19:32:26<7:37:55, 88.06s/it]"
     ]
    },
    {
     "name": "stdout",
     "output_type": "stream",
     "text": [
      "eigenvalues shape torch.Size([5]) eigenvectors shape torch.Size([5, 400])\n",
      "688 /home/phdcs2/Hard_Disk/Datasets/Deep-Spectral-Segmentation/data/object-segmentation/ECSSD/features/dino_vits16/0689.pth\n",
      "0689\n",
      "tanh_feats.shape= torch.Size([425, 384])\n",
      "W_feat_ds.shape= torch.Size([425, 425])\n",
      "W_feat_hist_pearsoncorr.shape= torch.Size([425, 425])\n",
      "<class 'torch.Tensor'>\n"
     ]
    },
    {
     "name": "stderr",
     "output_type": "stream",
     "text": [
      " 69%|██████▉   | 689/1000 [19:33:59<7:44:05, 89.53s/it]"
     ]
    },
    {
     "name": "stdout",
     "output_type": "stream",
     "text": [
      "eigenvalues shape torch.Size([5]) eigenvectors shape torch.Size([5, 400])\n",
      "689 /home/phdcs2/Hard_Disk/Datasets/Deep-Spectral-Segmentation/data/object-segmentation/ECSSD/features/dino_vits16/0690.pth\n",
      "0690\n",
      "tanh_feats.shape= torch.Size([450, 384])\n",
      "W_feat_ds.shape= torch.Size([450, 450])\n",
      "W_feat_hist_pearsoncorr.shape= torch.Size([450, 450])\n",
      "<class 'torch.Tensor'>\n"
     ]
    },
    {
     "name": "stderr",
     "output_type": "stream",
     "text": [
      " 69%|██████▉   | 690/1000 [19:35:43<8:05:42, 94.01s/it]"
     ]
    },
    {
     "name": "stdout",
     "output_type": "stream",
     "text": [
      "eigenvalues shape torch.Size([5]) eigenvectors shape torch.Size([5, 400])\n",
      "690 /home/phdcs2/Hard_Disk/Datasets/Deep-Spectral-Segmentation/data/object-segmentation/ECSSD/features/dino_vits16/0691.pth\n",
      "0691\n",
      "tanh_feats.shape= torch.Size([450, 384])\n",
      "W_feat_ds.shape= torch.Size([450, 450])\n",
      "W_feat_hist_pearsoncorr.shape= torch.Size([450, 450])\n",
      "<class 'torch.Tensor'>\n"
     ]
    },
    {
     "name": "stderr",
     "output_type": "stream",
     "text": [
      " 69%|██████▉   | 691/1000 [19:37:29<8:22:14, 97.52s/it]"
     ]
    },
    {
     "name": "stdout",
     "output_type": "stream",
     "text": [
      "eigenvalues shape torch.Size([5]) eigenvectors shape torch.Size([5, 400])\n",
      "691 /home/phdcs2/Hard_Disk/Datasets/Deep-Spectral-Segmentation/data/object-segmentation/ECSSD/features/dino_vits16/0692.pth\n",
      "0692\n",
      "tanh_feats.shape= torch.Size([400, 384])\n"
     ]
    },
    {
     "name": "stderr",
     "output_type": "stream",
     "text": [
      " 69%|██████▉   | 692/1000 [19:38:51<7:57:29, 93.02s/it]"
     ]
    },
    {
     "name": "stdout",
     "output_type": "stream",
     "text": [
      "W_feat_ds.shape= torch.Size([400, 400])\n",
      "W_feat_hist_pearsoncorr.shape= torch.Size([400, 400])\n",
      "<class 'torch.Tensor'>\n",
      "eigenvalues shape torch.Size([5]) eigenvectors shape torch.Size([5, 400])\n",
      "692 /home/phdcs2/Hard_Disk/Datasets/Deep-Spectral-Segmentation/data/object-segmentation/ECSSD/features/dino_vits16/0693.pth\n",
      "0693\n",
      "tanh_feats.shape= torch.Size([400, 384])\n"
     ]
    },
    {
     "name": "stderr",
     "output_type": "stream",
     "text": [
      " 69%|██████▉   | 693/1000 [19:40:13<7:38:54, 89.69s/it]"
     ]
    },
    {
     "name": "stdout",
     "output_type": "stream",
     "text": [
      "W_feat_ds.shape= torch.Size([400, 400])\n",
      "W_feat_hist_pearsoncorr.shape= torch.Size([400, 400])\n",
      "<class 'torch.Tensor'>\n",
      "eigenvalues shape torch.Size([5]) eigenvectors shape torch.Size([5, 400])\n",
      "693 /home/phdcs2/Hard_Disk/Datasets/Deep-Spectral-Segmentation/data/object-segmentation/ECSSD/features/dino_vits16/0694.pth\n",
      "0694\n",
      "tanh_feats.shape= torch.Size([500, 384])\n",
      "W_feat_ds.shape= torch.Size([500, 500])\n",
      "W_feat_hist_pearsoncorr.shape= torch.Size([500, 500])\n",
      "<class 'torch.Tensor'>\n"
     ]
    },
    {
     "name": "stderr",
     "output_type": "stream",
     "text": [
      " 69%|██████▉   | 694/1000 [19:42:22<8:36:24, 101.26s/it]"
     ]
    },
    {
     "name": "stdout",
     "output_type": "stream",
     "text": [
      "eigenvalues shape torch.Size([5]) eigenvectors shape torch.Size([5, 400])\n",
      "694 /home/phdcs2/Hard_Disk/Datasets/Deep-Spectral-Segmentation/data/object-segmentation/ECSSD/features/dino_vits16/0695.pth\n",
      "0695\n",
      "tanh_feats.shape= torch.Size([400, 384])\n",
      "W_feat_ds.shape= torch.Size([400, 400])\n",
      "W_feat_hist_pearsoncorr.shape= torch.Size([400, 400])\n",
      "<class 'torch.Tensor'>\n"
     ]
    },
    {
     "name": "stderr",
     "output_type": "stream",
     "text": [
      " 70%|██████▉   | 695/1000 [19:43:44<8:06:15, 95.66s/it] "
     ]
    },
    {
     "name": "stdout",
     "output_type": "stream",
     "text": [
      "eigenvalues shape torch.Size([5]) eigenvectors shape torch.Size([5, 400])\n",
      "695 /home/phdcs2/Hard_Disk/Datasets/Deep-Spectral-Segmentation/data/object-segmentation/ECSSD/features/dino_vits16/0696.pth\n",
      "0696\n",
      "tanh_feats.shape= torch.Size([575, 384])\n",
      "W_feat_ds.shape= torch.Size([575, 575])\n",
      "W_feat_hist_pearsoncorr.shape= torch.Size([575, 575])\n",
      "<class 'torch.Tensor'>\n"
     ]
    },
    {
     "name": "stderr",
     "output_type": "stream",
     "text": [
      " 70%|██████▉   | 696/1000 [19:46:36<10:00:01, 118.43s/it]"
     ]
    },
    {
     "name": "stdout",
     "output_type": "stream",
     "text": [
      "eigenvalues shape torch.Size([5]) eigenvectors shape torch.Size([5, 400])\n",
      "696 /home/phdcs2/Hard_Disk/Datasets/Deep-Spectral-Segmentation/data/object-segmentation/ECSSD/features/dino_vits16/0697.pth\n",
      "0697\n",
      "tanh_feats.shape= torch.Size([450, 384])\n",
      "W_feat_ds.shape= torch.Size([450, 450])\n",
      "W_feat_hist_pearsoncorr.shape= torch.Size([450, 450])\n",
      "<class 'torch.Tensor'>\n"
     ]
    },
    {
     "name": "stderr",
     "output_type": "stream",
     "text": [
      " 70%|██████▉   | 697/1000 [19:48:21<9:37:35, 114.37s/it] "
     ]
    },
    {
     "name": "stdout",
     "output_type": "stream",
     "text": [
      "eigenvalues shape torch.Size([5]) eigenvectors shape torch.Size([5, 400])\n",
      "697 /home/phdcs2/Hard_Disk/Datasets/Deep-Spectral-Segmentation/data/object-segmentation/ECSSD/features/dino_vits16/0698.pth\n",
      "0698\n",
      "tanh_feats.shape= torch.Size([450, 384])\n",
      "W_feat_ds.shape= torch.Size([450, 450])\n",
      "W_feat_hist_pearsoncorr.shape= torch.Size([450, 450])\n",
      "<class 'torch.Tensor'>\n"
     ]
    },
    {
     "name": "stderr",
     "output_type": "stream",
     "text": [
      " 70%|██████▉   | 698/1000 [19:50:05<9:19:56, 111.25s/it]"
     ]
    },
    {
     "name": "stdout",
     "output_type": "stream",
     "text": [
      "eigenvalues shape torch.Size([5]) eigenvectors shape torch.Size([5, 400])\n",
      "698 /home/phdcs2/Hard_Disk/Datasets/Deep-Spectral-Segmentation/data/object-segmentation/ECSSD/features/dino_vits16/0699.pth\n",
      "0699\n",
      "tanh_feats.shape= torch.Size([450, 384])\n",
      "W_feat_ds.shape= torch.Size([450, 450])\n",
      "W_feat_hist_pearsoncorr.shape= torch.Size([450, 450])\n",
      "<class 'torch.Tensor'>\n"
     ]
    },
    {
     "name": "stderr",
     "output_type": "stream",
     "text": [
      " 70%|██████▉   | 699/1000 [19:51:50<9:08:31, 109.34s/it]"
     ]
    },
    {
     "name": "stdout",
     "output_type": "stream",
     "text": [
      "eigenvalues shape torch.Size([5]) eigenvectors shape torch.Size([5, 400])\n",
      "699 /home/phdcs2/Hard_Disk/Datasets/Deep-Spectral-Segmentation/data/object-segmentation/ECSSD/features/dino_vits16/0700.pth\n",
      "0700\n",
      "tanh_feats.shape= torch.Size([450, 384])\n",
      "W_feat_ds.shape= torch.Size([450, 450])\n",
      "W_feat_hist_pearsoncorr.shape= torch.Size([450, 450])\n",
      "<class 'torch.Tensor'>\n"
     ]
    },
    {
     "name": "stderr",
     "output_type": "stream",
     "text": [
      " 70%|███████   | 700/1000 [19:53:35<9:00:23, 108.08s/it]"
     ]
    },
    {
     "name": "stdout",
     "output_type": "stream",
     "text": [
      "eigenvalues shape torch.Size([5]) eigenvectors shape torch.Size([5, 400])\n",
      "700 /home/phdcs2/Hard_Disk/Datasets/Deep-Spectral-Segmentation/data/object-segmentation/ECSSD/features/dino_vits16/0701.pth\n",
      "0701\n",
      "tanh_feats.shape= torch.Size([450, 384])\n",
      "W_feat_ds.shape= torch.Size([450, 450])\n",
      "W_feat_hist_pearsoncorr.shape= torch.Size([450, 450])\n",
      "<class 'torch.Tensor'>\n"
     ]
    },
    {
     "name": "stderr",
     "output_type": "stream",
     "text": [
      " 70%|███████   | 701/1000 [19:55:20<8:54:31, 107.26s/it]"
     ]
    },
    {
     "name": "stdout",
     "output_type": "stream",
     "text": [
      "eigenvalues shape torch.Size([5]) eigenvectors shape torch.Size([5, 400])\n",
      "701 /home/phdcs2/Hard_Disk/Datasets/Deep-Spectral-Segmentation/data/object-segmentation/ECSSD/features/dino_vits16/0702.pth\n",
      "0702\n",
      "tanh_feats.shape= torch.Size([425, 384])\n",
      "W_feat_ds.shape= torch.Size([425, 425])\n",
      "W_feat_hist_pearsoncorr.shape= torch.Size([425, 425])\n",
      "<class 'torch.Tensor'>\n"
     ]
    },
    {
     "name": "stderr",
     "output_type": "stream",
     "text": [
      " 70%|███████   | 702/1000 [19:56:54<8:32:41, 103.23s/it]"
     ]
    },
    {
     "name": "stdout",
     "output_type": "stream",
     "text": [
      "eigenvalues shape torch.Size([5]) eigenvectors shape torch.Size([5, 400])\n",
      "702 /home/phdcs2/Hard_Disk/Datasets/Deep-Spectral-Segmentation/data/object-segmentation/ECSSD/features/dino_vits16/0703.pth\n",
      "0703\n",
      "tanh_feats.shape= torch.Size([400, 384])\n",
      "W_feat_ds.shape= torch.Size([400, 400])\n",
      "W_feat_hist_pearsoncorr.shape= torch.Size([400, 400])\n",
      "<class 'torch.Tensor'>\n"
     ]
    },
    {
     "name": "stderr",
     "output_type": "stream",
     "text": [
      " 70%|███████   | 703/1000 [19:58:20<8:05:36, 98.10s/it] "
     ]
    },
    {
     "name": "stdout",
     "output_type": "stream",
     "text": [
      "eigenvalues shape torch.Size([5]) eigenvectors shape torch.Size([5, 400])\n",
      "703 /home/phdcs2/Hard_Disk/Datasets/Deep-Spectral-Segmentation/data/object-segmentation/ECSSD/features/dino_vits16/0704.pth\n",
      "0704\n",
      "tanh_feats.shape= torch.Size([500, 384])\n",
      "W_feat_ds.shape= torch.Size([500, 500])\n",
      "W_feat_hist_pearsoncorr.shape= torch.Size([500, 500])\n",
      "<class 'torch.Tensor'>\n"
     ]
    },
    {
     "name": "stderr",
     "output_type": "stream",
     "text": [
      " 70%|███████   | 704/1000 [20:00:28<8:48:46, 107.18s/it]"
     ]
    },
    {
     "name": "stdout",
     "output_type": "stream",
     "text": [
      "eigenvalues shape torch.Size([5]) eigenvectors shape torch.Size([5, 400])\n",
      "704 /home/phdcs2/Hard_Disk/Datasets/Deep-Spectral-Segmentation/data/object-segmentation/ECSSD/features/dino_vits16/0705.pth\n",
      "0705\n",
      "tanh_feats.shape= torch.Size([400, 384])\n"
     ]
    },
    {
     "name": "stderr",
     "output_type": "stream",
     "text": [
      " 70%|███████   | 705/1000 [20:01:51<8:10:30, 99.76s/it] "
     ]
    },
    {
     "name": "stdout",
     "output_type": "stream",
     "text": [
      "W_feat_ds.shape= torch.Size([400, 400])\n",
      "W_feat_hist_pearsoncorr.shape= torch.Size([400, 400])\n",
      "<class 'torch.Tensor'>\n",
      "eigenvalues shape torch.Size([5]) eigenvectors shape torch.Size([5, 400])\n",
      "705 /home/phdcs2/Hard_Disk/Datasets/Deep-Spectral-Segmentation/data/object-segmentation/ECSSD/features/dino_vits16/0706.pth\n",
      "0706\n",
      "tanh_feats.shape= torch.Size([500, 384])\n",
      "W_feat_ds.shape= torch.Size([500, 500])\n",
      "W_feat_hist_pearsoncorr.shape= torch.Size([500, 500])\n",
      "<class 'torch.Tensor'>\n"
     ]
    },
    {
     "name": "stderr",
     "output_type": "stream",
     "text": [
      " 71%|███████   | 706/1000 [20:04:00<8:52:19, 108.64s/it]"
     ]
    },
    {
     "name": "stdout",
     "output_type": "stream",
     "text": [
      "eigenvalues shape torch.Size([5]) eigenvectors shape torch.Size([5, 400])\n",
      "706 /home/phdcs2/Hard_Disk/Datasets/Deep-Spectral-Segmentation/data/object-segmentation/ECSSD/features/dino_vits16/0707.pth\n",
      "0707\n",
      "tanh_feats.shape= torch.Size([400, 384])\n"
     ]
    },
    {
     "name": "stderr",
     "output_type": "stream",
     "text": [
      " 71%|███████   | 707/1000 [20:05:22<8:11:07, 100.57s/it]"
     ]
    },
    {
     "name": "stdout",
     "output_type": "stream",
     "text": [
      "W_feat_ds.shape= torch.Size([400, 400])\n",
      "W_feat_hist_pearsoncorr.shape= torch.Size([400, 400])\n",
      "<class 'torch.Tensor'>\n",
      "eigenvalues shape torch.Size([5]) eigenvectors shape torch.Size([5, 400])\n",
      "707 /home/phdcs2/Hard_Disk/Datasets/Deep-Spectral-Segmentation/data/object-segmentation/ECSSD/features/dino_vits16/0708.pth\n",
      "0708\n",
      "tanh_feats.shape= torch.Size([400, 384])\n",
      "W_feat_ds.shape= torch.Size([400, 400])\n",
      "W_feat_hist_pearsoncorr.shape= torch.Size([400, 400])\n",
      "<class 'torch.Tensor'>\n"
     ]
    },
    {
     "name": "stderr",
     "output_type": "stream",
     "text": [
      " 71%|███████   | 708/1000 [20:06:45<7:44:16, 95.40s/it] "
     ]
    },
    {
     "name": "stdout",
     "output_type": "stream",
     "text": [
      "eigenvalues shape torch.Size([5]) eigenvectors shape torch.Size([5, 400])\n",
      "708 /home/phdcs2/Hard_Disk/Datasets/Deep-Spectral-Segmentation/data/object-segmentation/ECSSD/features/dino_vits16/0709.pth\n",
      "0709\n",
      "tanh_feats.shape= torch.Size([400, 384])\n",
      "W_feat_ds.shape= torch.Size([400, 400])\n",
      "W_feat_hist_pearsoncorr.shape= torch.Size([400, 400])\n",
      "<class 'torch.Tensor'>\n"
     ]
    },
    {
     "name": "stderr",
     "output_type": "stream",
     "text": [
      " 71%|███████   | 709/1000 [20:08:07<7:23:18, 91.40s/it]"
     ]
    },
    {
     "name": "stdout",
     "output_type": "stream",
     "text": [
      "eigenvalues shape torch.Size([5]) eigenvectors shape torch.Size([5, 400])\n",
      "709 /home/phdcs2/Hard_Disk/Datasets/Deep-Spectral-Segmentation/data/object-segmentation/ECSSD/features/dino_vits16/0710.pth\n",
      "0710\n",
      "tanh_feats.shape= torch.Size([400, 384])\n",
      "W_feat_ds.shape= torch.Size([400, 400])\n",
      "W_feat_hist_pearsoncorr.shape= torch.Size([400, 400])\n",
      "<class 'torch.Tensor'>\n"
     ]
    },
    {
     "name": "stderr",
     "output_type": "stream",
     "text": [
      " 71%|███████   | 710/1000 [20:09:30<7:08:51, 88.73s/it]"
     ]
    },
    {
     "name": "stdout",
     "output_type": "stream",
     "text": [
      "eigenvalues shape torch.Size([5]) eigenvectors shape torch.Size([5, 400])\n",
      "710 /home/phdcs2/Hard_Disk/Datasets/Deep-Spectral-Segmentation/data/object-segmentation/ECSSD/features/dino_vits16/0711.pth\n",
      "0711\n",
      "tanh_feats.shape= torch.Size([400, 384])\n"
     ]
    },
    {
     "name": "stderr",
     "output_type": "stream",
     "text": [
      " 71%|███████   | 711/1000 [20:10:51<6:56:49, 86.54s/it]"
     ]
    },
    {
     "name": "stdout",
     "output_type": "stream",
     "text": [
      "W_feat_ds.shape= torch.Size([400, 400])\n",
      "W_feat_hist_pearsoncorr.shape= torch.Size([400, 400])\n",
      "<class 'torch.Tensor'>\n",
      "eigenvalues shape torch.Size([5]) eigenvectors shape torch.Size([5, 400])\n",
      "711 /home/phdcs2/Hard_Disk/Datasets/Deep-Spectral-Segmentation/data/object-segmentation/ECSSD/features/dino_vits16/0712.pth\n",
      "0712\n",
      "tanh_feats.shape= torch.Size([400, 384])\n"
     ]
    },
    {
     "name": "stderr",
     "output_type": "stream",
     "text": [
      " 71%|███████   | 712/1000 [20:12:15<6:51:03, 85.64s/it]"
     ]
    },
    {
     "name": "stdout",
     "output_type": "stream",
     "text": [
      "W_feat_ds.shape= torch.Size([400, 400])\n",
      "W_feat_hist_pearsoncorr.shape= torch.Size([400, 400])\n",
      "<class 'torch.Tensor'>\n",
      "eigenvalues shape torch.Size([5]) eigenvectors shape torch.Size([5, 400])\n",
      "712 /home/phdcs2/Hard_Disk/Datasets/Deep-Spectral-Segmentation/data/object-segmentation/ECSSD/features/dino_vits16/0713.pth\n",
      "0713\n",
      "tanh_feats.shape= torch.Size([400, 384])\n",
      "W_feat_ds.shape= torch.Size([400, 400])\n",
      "W_feat_hist_pearsoncorr.shape= torch.Size([400, 400])\n",
      "<class 'torch.Tensor'>\n"
     ]
    },
    {
     "name": "stderr",
     "output_type": "stream",
     "text": [
      " 71%|███████▏  | 713/1000 [20:13:37<6:45:18, 84.73s/it]"
     ]
    },
    {
     "name": "stdout",
     "output_type": "stream",
     "text": [
      "eigenvalues shape torch.Size([5]) eigenvectors shape torch.Size([5, 400])\n",
      "713 /home/phdcs2/Hard_Disk/Datasets/Deep-Spectral-Segmentation/data/object-segmentation/ECSSD/features/dino_vits16/0714.pth\n",
      "0714\n",
      "tanh_feats.shape= torch.Size([400, 384])\n",
      "W_feat_ds.shape= torch.Size([400, 400])\n",
      "W_feat_hist_pearsoncorr.shape= torch.Size([400, 400])\n",
      "<class 'torch.Tensor'>\n"
     ]
    },
    {
     "name": "stderr",
     "output_type": "stream",
     "text": [
      " 71%|███████▏  | 714/1000 [20:15:00<6:41:06, 84.15s/it]"
     ]
    },
    {
     "name": "stdout",
     "output_type": "stream",
     "text": [
      "eigenvalues shape torch.Size([5]) eigenvectors shape torch.Size([5, 400])\n",
      "714 /home/phdcs2/Hard_Disk/Datasets/Deep-Spectral-Segmentation/data/object-segmentation/ECSSD/features/dino_vits16/0715.pth\n",
      "0715\n",
      "tanh_feats.shape= torch.Size([400, 384])\n",
      "W_feat_ds.shape= torch.Size([400, 400])\n",
      "W_feat_hist_pearsoncorr.shape= torch.Size([400, 400])\n",
      "<class 'torch.Tensor'>\n"
     ]
    },
    {
     "name": "stderr",
     "output_type": "stream",
     "text": [
      " 72%|███████▏  | 715/1000 [20:16:23<6:37:24, 83.67s/it]"
     ]
    },
    {
     "name": "stdout",
     "output_type": "stream",
     "text": [
      "eigenvalues shape torch.Size([5]) eigenvectors shape torch.Size([5, 400])\n",
      "715 /home/phdcs2/Hard_Disk/Datasets/Deep-Spectral-Segmentation/data/object-segmentation/ECSSD/features/dino_vits16/0716.pth\n",
      "0716\n",
      "tanh_feats.shape= torch.Size([450, 384])\n",
      "W_feat_ds.shape= torch.Size([450, 450])\n",
      "W_feat_hist_pearsoncorr.shape= torch.Size([450, 450])\n",
      "<class 'torch.Tensor'>\n"
     ]
    },
    {
     "name": "stderr",
     "output_type": "stream",
     "text": [
      " 72%|███████▏  | 716/1000 [20:18:06<7:04:24, 89.66s/it]"
     ]
    },
    {
     "name": "stdout",
     "output_type": "stream",
     "text": [
      "eigenvalues shape torch.Size([5]) eigenvectors shape torch.Size([5, 400])\n",
      "716 /home/phdcs2/Hard_Disk/Datasets/Deep-Spectral-Segmentation/data/object-segmentation/ECSSD/features/dino_vits16/0717.pth\n",
      "0717\n",
      "tanh_feats.shape= torch.Size([350, 384])\n",
      "W_feat_ds.shape= torch.Size([350, 350])\n",
      "W_feat_hist_pearsoncorr.shape= torch.Size([350, 350])\n",
      "<class 'torch.Tensor'>\n"
     ]
    },
    {
     "name": "stderr",
     "output_type": "stream",
     "text": [
      " 72%|███████▏  | 717/1000 [20:19:13<6:30:30, 82.79s/it]"
     ]
    },
    {
     "name": "stdout",
     "output_type": "stream",
     "text": [
      "eigenvalues shape torch.Size([5]) eigenvectors shape torch.Size([5, 400])\n",
      "717 /home/phdcs2/Hard_Disk/Datasets/Deep-Spectral-Segmentation/data/object-segmentation/ECSSD/features/dino_vits16/0718.pth\n",
      "0718\n",
      "tanh_feats.shape= torch.Size([450, 384])\n",
      "W_feat_ds.shape= torch.Size([450, 450])\n",
      "W_feat_hist_pearsoncorr.shape= torch.Size([450, 450])\n",
      "<class 'torch.Tensor'>\n"
     ]
    },
    {
     "name": "stderr",
     "output_type": "stream",
     "text": [
      " 72%|███████▏  | 718/1000 [20:20:57<6:58:44, 89.09s/it]"
     ]
    },
    {
     "name": "stdout",
     "output_type": "stream",
     "text": [
      "eigenvalues shape torch.Size([5]) eigenvectors shape torch.Size([5, 400])\n",
      "718 /home/phdcs2/Hard_Disk/Datasets/Deep-Spectral-Segmentation/data/object-segmentation/ECSSD/features/dino_vits16/0719.pth\n",
      "0719\n",
      "tanh_feats.shape= torch.Size([275, 384])\n"
     ]
    },
    {
     "name": "stderr",
     "output_type": "stream",
     "text": [
      " 72%|███████▏  | 719/1000 [20:21:36<5:46:34, 74.00s/it]"
     ]
    },
    {
     "name": "stdout",
     "output_type": "stream",
     "text": [
      "W_feat_ds.shape= torch.Size([275, 275])\n",
      "W_feat_hist_pearsoncorr.shape= torch.Size([275, 275])\n",
      "<class 'torch.Tensor'>\n",
      "eigenvalues shape torch.Size([5]) eigenvectors shape torch.Size([5, 400])\n",
      "719 /home/phdcs2/Hard_Disk/Datasets/Deep-Spectral-Segmentation/data/object-segmentation/ECSSD/features/dino_vits16/0720.pth\n",
      "0720\n",
      "tanh_feats.shape= torch.Size([400, 384])\n",
      "W_feat_ds.shape= torch.Size([400, 400])\n",
      "W_feat_hist_pearsoncorr.shape= torch.Size([400, 400])\n",
      "<class 'torch.Tensor'>\n"
     ]
    },
    {
     "name": "stderr",
     "output_type": "stream",
     "text": [
      " 72%|███████▏  | 720/1000 [20:22:58<5:57:18, 76.56s/it]"
     ]
    },
    {
     "name": "stdout",
     "output_type": "stream",
     "text": [
      "eigenvalues shape torch.Size([5]) eigenvectors shape torch.Size([5, 400])\n",
      "720 /home/phdcs2/Hard_Disk/Datasets/Deep-Spectral-Segmentation/data/object-segmentation/ECSSD/features/dino_vits16/0721.pth\n",
      "0721\n",
      "tanh_feats.shape= torch.Size([400, 384])\n",
      "W_feat_ds.shape= torch.Size([400, 400])\n",
      "W_feat_hist_pearsoncorr.shape= torch.Size([400, 400])\n",
      "<class 'torch.Tensor'>\n"
     ]
    },
    {
     "name": "stderr",
     "output_type": "stream",
     "text": [
      " 72%|███████▏  | 721/1000 [20:24:21<6:04:40, 78.42s/it]"
     ]
    },
    {
     "name": "stdout",
     "output_type": "stream",
     "text": [
      "eigenvalues shape torch.Size([5]) eigenvectors shape torch.Size([5, 400])\n",
      "721 /home/phdcs2/Hard_Disk/Datasets/Deep-Spectral-Segmentation/data/object-segmentation/ECSSD/features/dino_vits16/0722.pth\n",
      "0722\n",
      "tanh_feats.shape= torch.Size([575, 384])\n",
      "W_feat_ds.shape= torch.Size([575, 575])\n",
      "W_feat_hist_pearsoncorr.shape= torch.Size([575, 575])\n",
      "<class 'torch.Tensor'>\n"
     ]
    },
    {
     "name": "stderr",
     "output_type": "stream",
     "text": [
      " 72%|███████▏  | 722/1000 [20:27:11<8:10:50, 105.94s/it]"
     ]
    },
    {
     "name": "stdout",
     "output_type": "stream",
     "text": [
      "eigenvalues shape torch.Size([5]) eigenvectors shape torch.Size([5, 400])\n",
      "722 /home/phdcs2/Hard_Disk/Datasets/Deep-Spectral-Segmentation/data/object-segmentation/ECSSD/features/dino_vits16/0723.pth\n",
      "0723\n",
      "tanh_feats.shape= torch.Size([400, 384])\n",
      "W_feat_ds.shape= torch.Size([400, 400])\n",
      "W_feat_hist_pearsoncorr.shape= torch.Size([400, 400])\n",
      "<class 'torch.Tensor'>\n"
     ]
    },
    {
     "name": "stderr",
     "output_type": "stream",
     "text": [
      " 72%|███████▏  | 723/1000 [20:28:34<7:37:32, 99.11s/it] "
     ]
    },
    {
     "name": "stdout",
     "output_type": "stream",
     "text": [
      "eigenvalues shape torch.Size([5]) eigenvectors shape torch.Size([5, 400])\n",
      "723 /home/phdcs2/Hard_Disk/Datasets/Deep-Spectral-Segmentation/data/object-segmentation/ECSSD/features/dino_vits16/0724.pth\n",
      "0724\n",
      "tanh_feats.shape= torch.Size([400, 384])\n",
      "W_feat_ds.shape= torch.Size([400, 400])\n",
      "W_feat_hist_pearsoncorr.shape= torch.Size([400, 400])\n",
      "<class 'torch.Tensor'>\n"
     ]
    },
    {
     "name": "stderr",
     "output_type": "stream",
     "text": [
      " 72%|███████▏  | 724/1000 [20:29:57<7:12:51, 94.10s/it]"
     ]
    },
    {
     "name": "stdout",
     "output_type": "stream",
     "text": [
      "eigenvalues shape torch.Size([5]) eigenvectors shape torch.Size([5, 400])\n",
      "724 /home/phdcs2/Hard_Disk/Datasets/Deep-Spectral-Segmentation/data/object-segmentation/ECSSD/features/dino_vits16/0725.pth\n",
      "0725\n",
      "tanh_feats.shape= torch.Size([450, 384])\n"
     ]
    },
    {
     "name": "stderr",
     "output_type": "stream",
     "text": [
      " 72%|███████▎  | 725/1000 [20:31:40<7:23:47, 96.83s/it]"
     ]
    },
    {
     "name": "stdout",
     "output_type": "stream",
     "text": [
      "W_feat_ds.shape= torch.Size([450, 450])\n",
      "W_feat_hist_pearsoncorr.shape= torch.Size([450, 450])\n",
      "<class 'torch.Tensor'>\n",
      "eigenvalues shape torch.Size([5]) eigenvectors shape torch.Size([5, 400])\n",
      "725 /home/phdcs2/Hard_Disk/Datasets/Deep-Spectral-Segmentation/data/object-segmentation/ECSSD/features/dino_vits16/0726.pth\n",
      "0726\n",
      "tanh_feats.shape= torch.Size([450, 384])\n"
     ]
    },
    {
     "name": "stderr",
     "output_type": "stream",
     "text": [
      " 73%|███████▎  | 726/1000 [20:33:25<7:33:09, 99.23s/it]"
     ]
    },
    {
     "name": "stdout",
     "output_type": "stream",
     "text": [
      "W_feat_ds.shape= torch.Size([450, 450])\n",
      "W_feat_hist_pearsoncorr.shape= torch.Size([450, 450])\n",
      "<class 'torch.Tensor'>\n",
      "eigenvalues shape torch.Size([5]) eigenvectors shape torch.Size([5, 400])\n",
      "726 /home/phdcs2/Hard_Disk/Datasets/Deep-Spectral-Segmentation/data/object-segmentation/ECSSD/features/dino_vits16/0727.pth\n",
      "0727\n",
      "tanh_feats.shape= torch.Size([450, 384])\n"
     ]
    },
    {
     "name": "stderr",
     "output_type": "stream",
     "text": [
      " 73%|███████▎  | 727/1000 [20:35:09<7:38:59, 100.88s/it]"
     ]
    },
    {
     "name": "stdout",
     "output_type": "stream",
     "text": [
      "W_feat_ds.shape= torch.Size([450, 450])\n",
      "W_feat_hist_pearsoncorr.shape= torch.Size([450, 450])\n",
      "<class 'torch.Tensor'>\n",
      "eigenvalues shape torch.Size([5]) eigenvectors shape torch.Size([5, 400])\n",
      "727 /home/phdcs2/Hard_Disk/Datasets/Deep-Spectral-Segmentation/data/object-segmentation/ECSSD/features/dino_vits16/0728.pth\n",
      "0728\n",
      "tanh_feats.shape= torch.Size([450, 384])\n",
      "W_feat_ds.shape= torch.Size([450, 450])\n",
      "W_feat_hist_pearsoncorr.shape= torch.Size([450, 450])\n",
      "<class 'torch.Tensor'>\n"
     ]
    },
    {
     "name": "stderr",
     "output_type": "stream",
     "text": [
      " 73%|███████▎  | 728/1000 [20:36:54<7:42:16, 101.97s/it]"
     ]
    },
    {
     "name": "stdout",
     "output_type": "stream",
     "text": [
      "eigenvalues shape torch.Size([5]) eigenvectors shape torch.Size([5, 400])\n",
      "728 /home/phdcs2/Hard_Disk/Datasets/Deep-Spectral-Segmentation/data/object-segmentation/ECSSD/features/dino_vits16/0729.pth\n",
      "0729\n",
      "tanh_feats.shape= torch.Size([400, 384])\n",
      "W_feat_ds.shape= torch.Size([400, 400])\n",
      "W_feat_hist_pearsoncorr.shape= torch.Size([400, 400])\n",
      "<class 'torch.Tensor'>\n"
     ]
    },
    {
     "name": "stderr",
     "output_type": "stream",
     "text": [
      " 73%|███████▎  | 729/1000 [20:38:16<7:14:06, 96.11s/it] "
     ]
    },
    {
     "name": "stdout",
     "output_type": "stream",
     "text": [
      "eigenvalues shape torch.Size([5]) eigenvectors shape torch.Size([5, 400])\n",
      "729 /home/phdcs2/Hard_Disk/Datasets/Deep-Spectral-Segmentation/data/object-segmentation/ECSSD/features/dino_vits16/0730.pth\n",
      "0730\n",
      "tanh_feats.shape= torch.Size([450, 384])\n",
      "W_feat_ds.shape= torch.Size([450, 450])\n",
      "W_feat_hist_pearsoncorr.shape= torch.Size([450, 450])\n",
      "<class 'torch.Tensor'>\n"
     ]
    },
    {
     "name": "stderr",
     "output_type": "stream",
     "text": [
      " 73%|███████▎  | 730/1000 [20:40:05<7:28:48, 99.73s/it]"
     ]
    },
    {
     "name": "stdout",
     "output_type": "stream",
     "text": [
      "eigenvalues shape torch.Size([5]) eigenvectors shape torch.Size([5, 400])\n",
      "730 /home/phdcs2/Hard_Disk/Datasets/Deep-Spectral-Segmentation/data/object-segmentation/ECSSD/features/dino_vits16/0731.pth\n",
      "0731\n",
      "tanh_feats.shape= torch.Size([400, 384])\n",
      "W_feat_ds.shape= torch.Size([400, 400])\n",
      "W_feat_hist_pearsoncorr.shape= torch.Size([400, 400])\n",
      "<class 'torch.Tensor'>\n"
     ]
    },
    {
     "name": "stderr",
     "output_type": "stream",
     "text": [
      " 73%|███████▎  | 731/1000 [20:41:27<7:03:16, 94.41s/it]"
     ]
    },
    {
     "name": "stdout",
     "output_type": "stream",
     "text": [
      "eigenvalues shape torch.Size([5]) eigenvectors shape torch.Size([5, 400])\n",
      "731 /home/phdcs2/Hard_Disk/Datasets/Deep-Spectral-Segmentation/data/object-segmentation/ECSSD/features/dino_vits16/0732.pth\n",
      "0732\n",
      "tanh_feats.shape= torch.Size([525, 384])\n",
      "W_feat_ds.shape= torch.Size([525, 525])\n",
      "W_feat_hist_pearsoncorr.shape= torch.Size([525, 525])\n",
      "<class 'torch.Tensor'>\n"
     ]
    },
    {
     "name": "stderr",
     "output_type": "stream",
     "text": [
      " 73%|███████▎  | 732/1000 [20:43:48<8:04:44, 108.52s/it]"
     ]
    },
    {
     "name": "stdout",
     "output_type": "stream",
     "text": [
      "eigenvalues shape torch.Size([5]) eigenvectors shape torch.Size([5, 400])\n",
      "732 /home/phdcs2/Hard_Disk/Datasets/Deep-Spectral-Segmentation/data/object-segmentation/ECSSD/features/dino_vits16/0733.pth\n",
      "0733\n",
      "tanh_feats.shape= torch.Size([400, 384])\n",
      "W_feat_ds.shape= torch.Size([400, 400])\n",
      "W_feat_hist_pearsoncorr.shape= torch.Size([400, 400])\n",
      "<class 'torch.Tensor'>\n"
     ]
    },
    {
     "name": "stderr",
     "output_type": "stream",
     "text": [
      " 73%|███████▎  | 733/1000 [20:45:11<7:28:06, 100.70s/it]"
     ]
    },
    {
     "name": "stdout",
     "output_type": "stream",
     "text": [
      "eigenvalues shape torch.Size([5]) eigenvectors shape torch.Size([5, 400])\n",
      "733 /home/phdcs2/Hard_Disk/Datasets/Deep-Spectral-Segmentation/data/object-segmentation/ECSSD/features/dino_vits16/0734.pth\n",
      "0734\n",
      "tanh_feats.shape= torch.Size([425, 384])\n"
     ]
    },
    {
     "name": "stderr",
     "output_type": "stream",
     "text": [
      " 73%|███████▎  | 734/1000 [20:46:43<7:15:52, 98.32s/it] "
     ]
    },
    {
     "name": "stdout",
     "output_type": "stream",
     "text": [
      "W_feat_ds.shape= torch.Size([425, 425])\n",
      "W_feat_hist_pearsoncorr.shape= torch.Size([425, 425])\n",
      "<class 'torch.Tensor'>\n",
      "eigenvalues shape torch.Size([5]) eigenvectors shape torch.Size([5, 400])\n",
      "734 /home/phdcs2/Hard_Disk/Datasets/Deep-Spectral-Segmentation/data/object-segmentation/ECSSD/features/dino_vits16/0735.pth\n",
      "0735\n",
      "tanh_feats.shape= torch.Size([450, 384])\n"
     ]
    },
    {
     "name": "stderr",
     "output_type": "stream",
     "text": [
      " 74%|███████▎  | 735/1000 [20:48:28<7:22:38, 100.22s/it]"
     ]
    },
    {
     "name": "stdout",
     "output_type": "stream",
     "text": [
      "W_feat_ds.shape= torch.Size([450, 450])\n",
      "W_feat_hist_pearsoncorr.shape= torch.Size([450, 450])\n",
      "<class 'torch.Tensor'>\n",
      "eigenvalues shape torch.Size([5]) eigenvectors shape torch.Size([5, 400])\n",
      "735 /home/phdcs2/Hard_Disk/Datasets/Deep-Spectral-Segmentation/data/object-segmentation/ECSSD/features/dino_vits16/0736.pth\n",
      "0736\n",
      "tanh_feats.shape= torch.Size([450, 384])\n",
      "W_feat_ds.shape= torch.Size([450, 450])\n",
      "W_feat_hist_pearsoncorr.shape= torch.Size([450, 450])\n",
      "<class 'torch.Tensor'>\n"
     ]
    },
    {
     "name": "stderr",
     "output_type": "stream",
     "text": [
      " 74%|███████▎  | 736/1000 [20:50:14<7:28:34, 101.95s/it]"
     ]
    },
    {
     "name": "stdout",
     "output_type": "stream",
     "text": [
      "eigenvalues shape torch.Size([5]) eigenvectors shape torch.Size([5, 400])\n",
      "736 /home/phdcs2/Hard_Disk/Datasets/Deep-Spectral-Segmentation/data/object-segmentation/ECSSD/features/dino_vits16/0737.pth\n",
      "0737\n",
      "tanh_feats.shape= torch.Size([400, 384])\n",
      "W_feat_ds.shape= torch.Size([400, 400])\n",
      "W_feat_hist_pearsoncorr.shape= torch.Size([400, 400])\n",
      "<class 'torch.Tensor'>\n"
     ]
    },
    {
     "name": "stderr",
     "output_type": "stream",
     "text": [
      " 74%|███████▎  | 737/1000 [20:51:37<7:02:20, 96.35s/it] "
     ]
    },
    {
     "name": "stdout",
     "output_type": "stream",
     "text": [
      "eigenvalues shape torch.Size([5]) eigenvectors shape torch.Size([5, 400])\n",
      "737 /home/phdcs2/Hard_Disk/Datasets/Deep-Spectral-Segmentation/data/object-segmentation/ECSSD/features/dino_vits16/0738.pth\n",
      "0738\n",
      "tanh_feats.shape= torch.Size([450, 384])\n"
     ]
    },
    {
     "name": "stderr",
     "output_type": "stream",
     "text": [
      " 74%|███████▍  | 738/1000 [20:53:21<7:11:02, 98.71s/it]"
     ]
    },
    {
     "name": "stdout",
     "output_type": "stream",
     "text": [
      "W_feat_ds.shape= torch.Size([450, 450])\n",
      "W_feat_hist_pearsoncorr.shape= torch.Size([450, 450])\n",
      "<class 'torch.Tensor'>\n",
      "eigenvalues shape torch.Size([5]) eigenvectors shape torch.Size([5, 400])\n",
      "738 /home/phdcs2/Hard_Disk/Datasets/Deep-Spectral-Segmentation/data/object-segmentation/ECSSD/features/dino_vits16/0739.pth\n",
      "0739\n",
      "tanh_feats.shape= torch.Size([400, 384])\n",
      "W_feat_ds.shape= torch.Size([400, 400])\n",
      "W_feat_hist_pearsoncorr.shape= torch.Size([400, 400])\n",
      "<class 'torch.Tensor'>\n"
     ]
    },
    {
     "name": "stderr",
     "output_type": "stream",
     "text": [
      " 74%|███████▍  | 739/1000 [20:54:44<6:48:44, 93.97s/it]"
     ]
    },
    {
     "name": "stdout",
     "output_type": "stream",
     "text": [
      "eigenvalues shape torch.Size([5]) eigenvectors shape torch.Size([5, 400])\n",
      "739 /home/phdcs2/Hard_Disk/Datasets/Deep-Spectral-Segmentation/data/object-segmentation/ECSSD/features/dino_vits16/0740.pth\n",
      "0740\n",
      "tanh_feats.shape= torch.Size([400, 384])\n",
      "W_feat_ds.shape= torch.Size([400, 400])\n",
      "W_feat_hist_pearsoncorr.shape= torch.Size([400, 400])\n",
      "<class 'torch.Tensor'>\n"
     ]
    },
    {
     "name": "stderr",
     "output_type": "stream",
     "text": [
      " 74%|███████▍  | 740/1000 [20:56:07<6:32:13, 90.51s/it]"
     ]
    },
    {
     "name": "stdout",
     "output_type": "stream",
     "text": [
      "eigenvalues shape torch.Size([5]) eigenvectors shape torch.Size([5, 400])\n",
      "740 /home/phdcs2/Hard_Disk/Datasets/Deep-Spectral-Segmentation/data/object-segmentation/ECSSD/features/dino_vits16/0741.pth\n",
      "0741\n",
      "tanh_feats.shape= torch.Size([400, 384])\n",
      "W_feat_ds.shape= torch.Size([400, 400])\n",
      "W_feat_hist_pearsoncorr.shape= torch.Size([400, 400])\n",
      "<class 'torch.Tensor'>\n"
     ]
    },
    {
     "name": "stderr",
     "output_type": "stream",
     "text": [
      " 74%|███████▍  | 741/1000 [20:57:29<6:19:59, 88.03s/it]"
     ]
    },
    {
     "name": "stdout",
     "output_type": "stream",
     "text": [
      "eigenvalues shape torch.Size([5]) eigenvectors shape torch.Size([5, 400])\n",
      "741 /home/phdcs2/Hard_Disk/Datasets/Deep-Spectral-Segmentation/data/object-segmentation/ECSSD/features/dino_vits16/0742.pth\n",
      "0742\n",
      "tanh_feats.shape= torch.Size([400, 384])\n",
      "W_feat_ds.shape= torch.Size([400, 400])\n",
      "W_feat_hist_pearsoncorr.shape= torch.Size([400, 400])\n",
      "<class 'torch.Tensor'>\n"
     ]
    },
    {
     "name": "stderr",
     "output_type": "stream",
     "text": [
      " 74%|███████▍  | 742/1000 [20:58:52<6:11:22, 86.36s/it]"
     ]
    },
    {
     "name": "stdout",
     "output_type": "stream",
     "text": [
      "eigenvalues shape torch.Size([5]) eigenvectors shape torch.Size([5, 400])\n",
      "742 /home/phdcs2/Hard_Disk/Datasets/Deep-Spectral-Segmentation/data/object-segmentation/ECSSD/features/dino_vits16/0743.pth\n",
      "0743\n",
      "tanh_feats.shape= torch.Size([525, 384])\n",
      "W_feat_ds.shape= torch.Size([525, 525])\n",
      "W_feat_hist_pearsoncorr.shape= torch.Size([525, 525])\n",
      "<class 'torch.Tensor'>\n"
     ]
    },
    {
     "name": "stderr",
     "output_type": "stream",
     "text": [
      " 74%|███████▍  | 743/1000 [21:01:13<7:21:14, 103.01s/it]"
     ]
    },
    {
     "name": "stdout",
     "output_type": "stream",
     "text": [
      "eigenvalues shape torch.Size([5]) eigenvectors shape torch.Size([5, 400])\n",
      "743 /home/phdcs2/Hard_Disk/Datasets/Deep-Spectral-Segmentation/data/object-segmentation/ECSSD/features/dino_vits16/0744.pth\n",
      "0744\n",
      "tanh_feats.shape= torch.Size([475, 384])\n",
      "W_feat_ds.shape= torch.Size([475, 475])\n",
      "W_feat_hist_pearsoncorr.shape= torch.Size([475, 475])\n",
      "<class 'torch.Tensor'>\n"
     ]
    },
    {
     "name": "stderr",
     "output_type": "stream",
     "text": [
      " 74%|███████▍  | 744/1000 [21:03:09<7:35:27, 106.75s/it]"
     ]
    },
    {
     "name": "stdout",
     "output_type": "stream",
     "text": [
      "eigenvalues shape torch.Size([5]) eigenvectors shape torch.Size([5, 400])\n",
      "744 /home/phdcs2/Hard_Disk/Datasets/Deep-Spectral-Segmentation/data/object-segmentation/ECSSD/features/dino_vits16/0745.pth\n",
      "0745\n",
      "tanh_feats.shape= torch.Size([400, 384])\n",
      "W_feat_ds.shape= torch.Size([400, 400])\n",
      "W_feat_hist_pearsoncorr.shape= torch.Size([400, 400])\n",
      "<class 'torch.Tensor'>\n"
     ]
    },
    {
     "name": "stderr",
     "output_type": "stream",
     "text": [
      " 74%|███████▍  | 745/1000 [21:04:32<7:03:16, 99.59s/it] "
     ]
    },
    {
     "name": "stdout",
     "output_type": "stream",
     "text": [
      "eigenvalues shape torch.Size([5]) eigenvectors shape torch.Size([5, 400])\n",
      "745 /home/phdcs2/Hard_Disk/Datasets/Deep-Spectral-Segmentation/data/object-segmentation/ECSSD/features/dino_vits16/0746.pth\n",
      "0746\n",
      "tanh_feats.shape= torch.Size([400, 384])\n",
      "W_feat_ds.shape= torch.Size([400, 400])\n",
      "W_feat_hist_pearsoncorr.shape= torch.Size([400, 400])\n",
      "<class 'torch.Tensor'>\n"
     ]
    },
    {
     "name": "stderr",
     "output_type": "stream",
     "text": [
      " 75%|███████▍  | 746/1000 [21:05:53<6:38:34, 94.15s/it]"
     ]
    },
    {
     "name": "stdout",
     "output_type": "stream",
     "text": [
      "eigenvalues shape torch.Size([5]) eigenvectors shape torch.Size([5, 400])\n",
      "746 /home/phdcs2/Hard_Disk/Datasets/Deep-Spectral-Segmentation/data/object-segmentation/ECSSD/features/dino_vits16/0747.pth\n",
      "0747\n",
      "tanh_feats.shape= torch.Size([400, 384])\n"
     ]
    },
    {
     "name": "stderr",
     "output_type": "stream",
     "text": [
      " 75%|███████▍  | 747/1000 [21:07:15<6:21:34, 90.49s/it]"
     ]
    },
    {
     "name": "stdout",
     "output_type": "stream",
     "text": [
      "W_feat_ds.shape= torch.Size([400, 400])\n",
      "W_feat_hist_pearsoncorr.shape= torch.Size([400, 400])\n",
      "<class 'torch.Tensor'>\n",
      "eigenvalues shape torch.Size([5]) eigenvectors shape torch.Size([5, 400])\n",
      "747 /home/phdcs2/Hard_Disk/Datasets/Deep-Spectral-Segmentation/data/object-segmentation/ECSSD/features/dino_vits16/0748.pth\n",
      "0748\n",
      "tanh_feats.shape= torch.Size([400, 384])\n",
      "W_feat_ds.shape= torch.Size([400, 400])\n",
      "W_feat_hist_pearsoncorr.shape= torch.Size([400, 400])\n",
      "<class 'torch.Tensor'>\n"
     ]
    },
    {
     "name": "stderr",
     "output_type": "stream",
     "text": [
      " 75%|███████▍  | 748/1000 [21:08:37<6:08:41, 87.78s/it]"
     ]
    },
    {
     "name": "stdout",
     "output_type": "stream",
     "text": [
      "eigenvalues shape torch.Size([5]) eigenvectors shape torch.Size([5, 400])\n",
      "748 /home/phdcs2/Hard_Disk/Datasets/Deep-Spectral-Segmentation/data/object-segmentation/ECSSD/features/dino_vits16/0749.pth\n",
      "0749\n",
      "tanh_feats.shape= torch.Size([400, 384])\n",
      "W_feat_ds.shape= torch.Size([400, 400])\n",
      "W_feat_hist_pearsoncorr.shape= torch.Size([400, 400])\n",
      "<class 'torch.Tensor'>\n"
     ]
    },
    {
     "name": "stderr",
     "output_type": "stream",
     "text": [
      " 75%|███████▍  | 749/1000 [21:09:59<5:59:51, 86.02s/it]"
     ]
    },
    {
     "name": "stdout",
     "output_type": "stream",
     "text": [
      "eigenvalues shape torch.Size([5]) eigenvectors shape torch.Size([5, 400])\n",
      "749 /home/phdcs2/Hard_Disk/Datasets/Deep-Spectral-Segmentation/data/object-segmentation/ECSSD/features/dino_vits16/0750.pth\n",
      "0750\n",
      "tanh_feats.shape= torch.Size([400, 384])\n",
      "W_feat_ds.shape= torch.Size([400, 400])\n",
      "W_feat_hist_pearsoncorr.shape= torch.Size([400, 400])\n",
      "<class 'torch.Tensor'>\n"
     ]
    },
    {
     "name": "stderr",
     "output_type": "stream",
     "text": [
      " 75%|███████▌  | 750/1000 [21:11:20<5:53:12, 84.77s/it]"
     ]
    },
    {
     "name": "stdout",
     "output_type": "stream",
     "text": [
      "eigenvalues shape torch.Size([5]) eigenvectors shape torch.Size([5, 400])\n",
      "750 /home/phdcs2/Hard_Disk/Datasets/Deep-Spectral-Segmentation/data/object-segmentation/ECSSD/features/dino_vits16/0751.pth\n",
      "0751\n",
      "tanh_feats.shape= torch.Size([450, 384])\n",
      "W_feat_ds.shape= torch.Size([450, 450])\n",
      "W_feat_hist_pearsoncorr.shape= torch.Size([450, 450])\n",
      "<class 'torch.Tensor'>\n"
     ]
    },
    {
     "name": "stderr",
     "output_type": "stream",
     "text": [
      " 75%|███████▌  | 751/1000 [21:13:04<6:15:13, 90.42s/it]"
     ]
    },
    {
     "name": "stdout",
     "output_type": "stream",
     "text": [
      "eigenvalues shape torch.Size([5]) eigenvectors shape torch.Size([5, 400])\n",
      "751 /home/phdcs2/Hard_Disk/Datasets/Deep-Spectral-Segmentation/data/object-segmentation/ECSSD/features/dino_vits16/0752.pth\n",
      "0752\n",
      "tanh_feats.shape= torch.Size([450, 384])\n",
      "W_feat_ds.shape= torch.Size([450, 450])\n",
      "W_feat_hist_pearsoncorr.shape= torch.Size([450, 450])\n",
      "<class 'torch.Tensor'>\n"
     ]
    },
    {
     "name": "stderr",
     "output_type": "stream",
     "text": [
      " 75%|███████▌  | 752/1000 [21:14:48<6:31:09, 94.63s/it]"
     ]
    },
    {
     "name": "stdout",
     "output_type": "stream",
     "text": [
      "eigenvalues shape torch.Size([5]) eigenvectors shape torch.Size([5, 400])\n",
      "752 /home/phdcs2/Hard_Disk/Datasets/Deep-Spectral-Segmentation/data/object-segmentation/ECSSD/features/dino_vits16/0753.pth\n",
      "0753\n",
      "tanh_feats.shape= torch.Size([400, 384])\n"
     ]
    },
    {
     "name": "stderr",
     "output_type": "stream",
     "text": [
      " 75%|███████▌  | 753/1000 [21:16:11<6:14:26, 90.96s/it]"
     ]
    },
    {
     "name": "stdout",
     "output_type": "stream",
     "text": [
      "W_feat_ds.shape= torch.Size([400, 400])\n",
      "W_feat_hist_pearsoncorr.shape= torch.Size([400, 400])\n",
      "<class 'torch.Tensor'>\n",
      "eigenvalues shape torch.Size([5]) eigenvectors shape torch.Size([5, 400])\n",
      "753 /home/phdcs2/Hard_Disk/Datasets/Deep-Spectral-Segmentation/data/object-segmentation/ECSSD/features/dino_vits16/0754.pth\n",
      "0754\n",
      "tanh_feats.shape= torch.Size([400, 384])\n",
      "W_feat_ds.shape= torch.Size([400, 400])\n",
      "W_feat_hist_pearsoncorr.shape= torch.Size([400, 400])\n",
      "<class 'torch.Tensor'>\n"
     ]
    },
    {
     "name": "stderr",
     "output_type": "stream",
     "text": [
      " 75%|███████▌  | 754/1000 [21:17:33<6:01:51, 88.26s/it]"
     ]
    },
    {
     "name": "stdout",
     "output_type": "stream",
     "text": [
      "eigenvalues shape torch.Size([5]) eigenvectors shape torch.Size([5, 400])\n",
      "754 /home/phdcs2/Hard_Disk/Datasets/Deep-Spectral-Segmentation/data/object-segmentation/ECSSD/features/dino_vits16/0755.pth\n",
      "0755\n",
      "tanh_feats.shape= torch.Size([400, 384])\n",
      "W_feat_ds.shape= torch.Size([400, 400])\n",
      "W_feat_hist_pearsoncorr.shape= torch.Size([400, 400])\n",
      "<class 'torch.Tensor'>\n"
     ]
    },
    {
     "name": "stderr",
     "output_type": "stream",
     "text": [
      " 76%|███████▌  | 755/1000 [21:18:54<5:52:15, 86.27s/it]"
     ]
    },
    {
     "name": "stdout",
     "output_type": "stream",
     "text": [
      "eigenvalues shape torch.Size([5]) eigenvectors shape torch.Size([5, 400])\n",
      "755 /home/phdcs2/Hard_Disk/Datasets/Deep-Spectral-Segmentation/data/object-segmentation/ECSSD/features/dino_vits16/0756.pth\n",
      "0756\n",
      "tanh_feats.shape= torch.Size([400, 384])\n"
     ]
    },
    {
     "name": "stderr",
     "output_type": "stream",
     "text": [
      " 76%|███████▌  | 756/1000 [21:20:17<5:46:30, 85.21s/it]"
     ]
    },
    {
     "name": "stdout",
     "output_type": "stream",
     "text": [
      "W_feat_ds.shape= torch.Size([400, 400])\n",
      "W_feat_hist_pearsoncorr.shape= torch.Size([400, 400])\n",
      "<class 'torch.Tensor'>\n",
      "eigenvalues shape torch.Size([5]) eigenvectors shape torch.Size([5, 400])\n",
      "756 /home/phdcs2/Hard_Disk/Datasets/Deep-Spectral-Segmentation/data/object-segmentation/ECSSD/features/dino_vits16/0757.pth\n",
      "0757\n",
      "tanh_feats.shape= torch.Size([400, 384])\n",
      "W_feat_ds.shape= torch.Size([400, 400])\n",
      "W_feat_hist_pearsoncorr.shape= torch.Size([400, 400])\n",
      "<class 'torch.Tensor'>\n"
     ]
    },
    {
     "name": "stderr",
     "output_type": "stream",
     "text": [
      " 76%|███████▌  | 757/1000 [21:21:40<5:41:40, 84.36s/it]"
     ]
    },
    {
     "name": "stdout",
     "output_type": "stream",
     "text": [
      "eigenvalues shape torch.Size([5]) eigenvectors shape torch.Size([5, 400])\n",
      "757 /home/phdcs2/Hard_Disk/Datasets/Deep-Spectral-Segmentation/data/object-segmentation/ECSSD/features/dino_vits16/0758.pth\n",
      "0758\n",
      "tanh_feats.shape= torch.Size([450, 384])\n",
      "W_feat_ds.shape= torch.Size([450, 450])\n",
      "W_feat_hist_pearsoncorr.shape= torch.Size([450, 450])\n",
      "<class 'torch.Tensor'>\n"
     ]
    },
    {
     "name": "stderr",
     "output_type": "stream",
     "text": [
      " 76%|███████▌  | 758/1000 [21:23:24<6:04:09, 90.29s/it]"
     ]
    },
    {
     "name": "stdout",
     "output_type": "stream",
     "text": [
      "eigenvalues shape torch.Size([5]) eigenvectors shape torch.Size([5, 400])\n",
      "758 /home/phdcs2/Hard_Disk/Datasets/Deep-Spectral-Segmentation/data/object-segmentation/ECSSD/features/dino_vits16/0759.pth\n",
      "0759\n",
      "tanh_feats.shape= torch.Size([400, 384])\n"
     ]
    },
    {
     "name": "stderr",
     "output_type": "stream",
     "text": [
      " 76%|███████▌  | 759/1000 [21:24:45<5:51:31, 87.52s/it]"
     ]
    },
    {
     "name": "stdout",
     "output_type": "stream",
     "text": [
      "W_feat_ds.shape= torch.Size([400, 400])\n",
      "W_feat_hist_pearsoncorr.shape= torch.Size([400, 400])\n",
      "<class 'torch.Tensor'>\n",
      "eigenvalues shape torch.Size([5]) eigenvectors shape torch.Size([5, 400])\n",
      "759 /home/phdcs2/Hard_Disk/Datasets/Deep-Spectral-Segmentation/data/object-segmentation/ECSSD/features/dino_vits16/0760.pth\n",
      "0760\n",
      "tanh_feats.shape= torch.Size([450, 384])\n"
     ]
    },
    {
     "name": "stderr",
     "output_type": "stream",
     "text": [
      " 76%|███████▌  | 760/1000 [21:26:29<6:09:54, 92.48s/it]"
     ]
    },
    {
     "name": "stdout",
     "output_type": "stream",
     "text": [
      "W_feat_ds.shape= torch.Size([450, 450])\n",
      "W_feat_hist_pearsoncorr.shape= torch.Size([450, 450])\n",
      "<class 'torch.Tensor'>\n",
      "eigenvalues shape torch.Size([5]) eigenvectors shape torch.Size([5, 400])\n",
      "760 /home/phdcs2/Hard_Disk/Datasets/Deep-Spectral-Segmentation/data/object-segmentation/ECSSD/features/dino_vits16/0761.pth\n",
      "0761\n",
      "tanh_feats.shape= torch.Size([475, 384])\n",
      "W_feat_ds.shape= torch.Size([475, 475])\n",
      "W_feat_hist_pearsoncorr.shape= torch.Size([475, 475])\n",
      "<class 'torch.Tensor'>\n"
     ]
    },
    {
     "name": "stderr",
     "output_type": "stream",
     "text": [
      " 76%|███████▌  | 761/1000 [21:28:24<6:35:55, 99.39s/it]"
     ]
    },
    {
     "name": "stdout",
     "output_type": "stream",
     "text": [
      "eigenvalues shape torch.Size([5]) eigenvectors shape torch.Size([5, 400])\n",
      "761 /home/phdcs2/Hard_Disk/Datasets/Deep-Spectral-Segmentation/data/object-segmentation/ECSSD/features/dino_vits16/0762.pth\n",
      "0762\n",
      "tanh_feats.shape= torch.Size([600, 384])\n"
     ]
    },
    {
     "name": "stderr",
     "output_type": "stream",
     "text": [
      " 76%|███████▌  | 762/1000 [21:31:28<8:14:36, 124.69s/it]"
     ]
    },
    {
     "name": "stdout",
     "output_type": "stream",
     "text": [
      "W_feat_ds.shape= torch.Size([600, 600])\n",
      "W_feat_hist_pearsoncorr.shape= torch.Size([600, 600])\n",
      "<class 'torch.Tensor'>\n",
      "eigenvalues shape torch.Size([5]) eigenvectors shape torch.Size([5, 400])\n",
      "762 /home/phdcs2/Hard_Disk/Datasets/Deep-Spectral-Segmentation/data/object-segmentation/ECSSD/features/dino_vits16/0763.pth\n",
      "0763\n",
      "tanh_feats.shape= torch.Size([450, 384])\n",
      "W_feat_ds.shape= torch.Size([450, 450])\n",
      "W_feat_hist_pearsoncorr.shape= torch.Size([450, 450])\n",
      "<class 'torch.Tensor'>\n"
     ]
    },
    {
     "name": "stderr",
     "output_type": "stream",
     "text": [
      " 76%|███████▋  | 763/1000 [21:33:12<7:48:17, 118.55s/it]"
     ]
    },
    {
     "name": "stdout",
     "output_type": "stream",
     "text": [
      "eigenvalues shape torch.Size([5]) eigenvectors shape torch.Size([5, 400])\n",
      "763 /home/phdcs2/Hard_Disk/Datasets/Deep-Spectral-Segmentation/data/object-segmentation/ECSSD/features/dino_vits16/0764.pth\n",
      "0764\n",
      "tanh_feats.shape= torch.Size([400, 384])\n",
      "W_feat_ds.shape= torch.Size([400, 400])\n",
      "W_feat_hist_pearsoncorr.shape= torch.Size([400, 400])\n",
      "<class 'torch.Tensor'>\n"
     ]
    },
    {
     "name": "stderr",
     "output_type": "stream",
     "text": [
      " 76%|███████▋  | 764/1000 [21:34:35<7:03:42, 107.72s/it]"
     ]
    },
    {
     "name": "stdout",
     "output_type": "stream",
     "text": [
      "eigenvalues shape torch.Size([5]) eigenvectors shape torch.Size([5, 400])\n",
      "764 /home/phdcs2/Hard_Disk/Datasets/Deep-Spectral-Segmentation/data/object-segmentation/ECSSD/features/dino_vits16/0765.pth\n",
      "0765\n",
      "tanh_feats.shape= torch.Size([400, 384])\n",
      "W_feat_ds.shape= torch.Size([400, 400])\n",
      "W_feat_hist_pearsoncorr.shape= torch.Size([400, 400])\n",
      "<class 'torch.Tensor'>\n"
     ]
    },
    {
     "name": "stderr",
     "output_type": "stream",
     "text": [
      " 76%|███████▋  | 765/1000 [21:35:56<6:31:19, 99.91s/it] "
     ]
    },
    {
     "name": "stdout",
     "output_type": "stream",
     "text": [
      "eigenvalues shape torch.Size([5]) eigenvectors shape torch.Size([5, 400])\n",
      "765 /home/phdcs2/Hard_Disk/Datasets/Deep-Spectral-Segmentation/data/object-segmentation/ECSSD/features/dino_vits16/0766.pth\n",
      "0766\n",
      "tanh_feats.shape= torch.Size([500, 384])\n"
     ]
    },
    {
     "name": "stderr",
     "output_type": "stream",
     "text": [
      " 77%|███████▋  | 766/1000 [21:38:05<7:03:21, 108.55s/it]"
     ]
    },
    {
     "name": "stdout",
     "output_type": "stream",
     "text": [
      "W_feat_ds.shape= torch.Size([500, 500])\n",
      "W_feat_hist_pearsoncorr.shape= torch.Size([500, 500])\n",
      "<class 'torch.Tensor'>\n",
      "eigenvalues shape torch.Size([5]) eigenvectors shape torch.Size([5, 400])\n",
      "766 /home/phdcs2/Hard_Disk/Datasets/Deep-Spectral-Segmentation/data/object-segmentation/ECSSD/features/dino_vits16/0767.pth\n",
      "0767\n",
      "tanh_feats.shape= torch.Size([400, 384])\n",
      "W_feat_ds.shape= torch.Size([400, 400])\n",
      "W_feat_hist_pearsoncorr.shape= torch.Size([400, 400])\n",
      "<class 'torch.Tensor'>\n"
     ]
    },
    {
     "name": "stderr",
     "output_type": "stream",
     "text": [
      " 77%|███████▋  | 767/1000 [21:39:27<6:31:02, 100.70s/it]"
     ]
    },
    {
     "name": "stdout",
     "output_type": "stream",
     "text": [
      "eigenvalues shape torch.Size([5]) eigenvectors shape torch.Size([5, 400])\n",
      "767 /home/phdcs2/Hard_Disk/Datasets/Deep-Spectral-Segmentation/data/object-segmentation/ECSSD/features/dino_vits16/0768.pth\n",
      "0768\n",
      "tanh_feats.shape= torch.Size([475, 384])\n"
     ]
    },
    {
     "name": "stderr",
     "output_type": "stream",
     "text": [
      " 77%|███████▋  | 768/1000 [21:41:23<6:46:44, 105.19s/it]"
     ]
    },
    {
     "name": "stdout",
     "output_type": "stream",
     "text": [
      "W_feat_ds.shape= torch.Size([475, 475])\n",
      "W_feat_hist_pearsoncorr.shape= torch.Size([475, 475])\n",
      "<class 'torch.Tensor'>\n",
      "eigenvalues shape torch.Size([5]) eigenvectors shape torch.Size([5, 400])\n",
      "768 /home/phdcs2/Hard_Disk/Datasets/Deep-Spectral-Segmentation/data/object-segmentation/ECSSD/features/dino_vits16/0769.pth\n",
      "0769\n",
      "tanh_feats.shape= torch.Size([375, 384])\n",
      "W_feat_ds.shape= torch.Size([375, 375])\n",
      "W_feat_hist_pearsoncorr.shape= torch.Size([375, 375])\n",
      "<class 'torch.Tensor'>\n"
     ]
    },
    {
     "name": "stderr",
     "output_type": "stream",
     "text": [
      " 77%|███████▋  | 769/1000 [21:42:36<6:08:07, 95.62s/it] "
     ]
    },
    {
     "name": "stdout",
     "output_type": "stream",
     "text": [
      "eigenvalues shape torch.Size([5]) eigenvectors shape torch.Size([5, 400])\n",
      "769 /home/phdcs2/Hard_Disk/Datasets/Deep-Spectral-Segmentation/data/object-segmentation/ECSSD/features/dino_vits16/0770.pth\n",
      "0770\n",
      "tanh_feats.shape= torch.Size([400, 384])\n",
      "W_feat_ds.shape= torch.Size([400, 400])\n",
      "W_feat_hist_pearsoncorr.shape= torch.Size([400, 400])\n",
      "<class 'torch.Tensor'>\n"
     ]
    },
    {
     "name": "stderr",
     "output_type": "stream",
     "text": [
      " 77%|███████▋  | 770/1000 [21:43:59<5:51:05, 91.59s/it]"
     ]
    },
    {
     "name": "stdout",
     "output_type": "stream",
     "text": [
      "eigenvalues shape torch.Size([5]) eigenvectors shape torch.Size([5, 400])\n",
      "770 /home/phdcs2/Hard_Disk/Datasets/Deep-Spectral-Segmentation/data/object-segmentation/ECSSD/features/dino_vits16/0771.pth\n",
      "0771\n",
      "tanh_feats.shape= torch.Size([400, 384])\n",
      "W_feat_ds.shape= torch.Size([400, 400])\n",
      "W_feat_hist_pearsoncorr.shape= torch.Size([400, 400])\n",
      "<class 'torch.Tensor'>\n"
     ]
    },
    {
     "name": "stderr",
     "output_type": "stream",
     "text": [
      " 77%|███████▋  | 771/1000 [21:45:21<5:38:37, 88.72s/it]"
     ]
    },
    {
     "name": "stdout",
     "output_type": "stream",
     "text": [
      "eigenvalues shape torch.Size([5]) eigenvectors shape torch.Size([5, 400])\n",
      "771 /home/phdcs2/Hard_Disk/Datasets/Deep-Spectral-Segmentation/data/object-segmentation/ECSSD/features/dino_vits16/0772.pth\n",
      "0772\n",
      "tanh_feats.shape= torch.Size([475, 384])\n",
      "W_feat_ds.shape= torch.Size([475, 475])\n",
      "W_feat_hist_pearsoncorr.shape= torch.Size([475, 475])\n",
      "<class 'torch.Tensor'>\n"
     ]
    },
    {
     "name": "stderr",
     "output_type": "stream",
     "text": [
      " 77%|███████▋  | 772/1000 [21:47:17<6:08:24, 96.95s/it]"
     ]
    },
    {
     "name": "stdout",
     "output_type": "stream",
     "text": [
      "eigenvalues shape torch.Size([5]) eigenvectors shape torch.Size([5, 400])\n",
      "772 /home/phdcs2/Hard_Disk/Datasets/Deep-Spectral-Segmentation/data/object-segmentation/ECSSD/features/dino_vits16/0773.pth\n",
      "0773\n",
      "tanh_feats.shape= torch.Size([450, 384])\n",
      "W_feat_ds.shape= torch.Size([450, 450])\n",
      "W_feat_hist_pearsoncorr.shape= torch.Size([450, 450])\n",
      "<class 'torch.Tensor'>\n"
     ]
    },
    {
     "name": "stderr",
     "output_type": "stream",
     "text": [
      " 77%|███████▋  | 773/1000 [21:49:01<6:14:58, 99.11s/it]"
     ]
    },
    {
     "name": "stdout",
     "output_type": "stream",
     "text": [
      "eigenvalues shape torch.Size([5]) eigenvectors shape torch.Size([5, 400])\n",
      "773 /home/phdcs2/Hard_Disk/Datasets/Deep-Spectral-Segmentation/data/object-segmentation/ECSSD/features/dino_vits16/0774.pth\n",
      "0774\n",
      "tanh_feats.shape= torch.Size([425, 384])\n",
      "W_feat_ds.shape= torch.Size([425, 425])\n",
      "W_feat_hist_pearsoncorr.shape= torch.Size([425, 425])\n",
      "<class 'torch.Tensor'>\n"
     ]
    },
    {
     "name": "stderr",
     "output_type": "stream",
     "text": [
      " 77%|███████▋  | 774/1000 [21:50:34<6:06:41, 97.35s/it]"
     ]
    },
    {
     "name": "stdout",
     "output_type": "stream",
     "text": [
      "eigenvalues shape torch.Size([5]) eigenvectors shape torch.Size([5, 400])\n",
      "774 /home/phdcs2/Hard_Disk/Datasets/Deep-Spectral-Segmentation/data/object-segmentation/ECSSD/features/dino_vits16/0775.pth\n",
      "0775\n",
      "tanh_feats.shape= torch.Size([400, 384])\n",
      "W_feat_ds.shape= torch.Size([400, 400])\n",
      "W_feat_hist_pearsoncorr.shape= torch.Size([400, 400])\n",
      "<class 'torch.Tensor'>\n"
     ]
    },
    {
     "name": "stderr",
     "output_type": "stream",
     "text": [
      " 78%|███████▊  | 775/1000 [21:51:57<5:48:10, 92.85s/it]"
     ]
    },
    {
     "name": "stdout",
     "output_type": "stream",
     "text": [
      "eigenvalues shape torch.Size([5]) eigenvectors shape torch.Size([5, 400])\n",
      "775 /home/phdcs2/Hard_Disk/Datasets/Deep-Spectral-Segmentation/data/object-segmentation/ECSSD/features/dino_vits16/0776.pth\n",
      "0776\n",
      "tanh_feats.shape= torch.Size([400, 384])\n",
      "W_feat_ds.shape= torch.Size([400, 400])\n",
      "W_feat_hist_pearsoncorr.shape= torch.Size([400, 400])\n",
      "<class 'torch.Tensor'>\n"
     ]
    },
    {
     "name": "stderr",
     "output_type": "stream",
     "text": [
      " 78%|███████▊  | 776/1000 [21:53:18<5:34:16, 89.54s/it]"
     ]
    },
    {
     "name": "stdout",
     "output_type": "stream",
     "text": [
      "eigenvalues shape torch.Size([5]) eigenvectors shape torch.Size([5, 400])\n",
      "776 /home/phdcs2/Hard_Disk/Datasets/Deep-Spectral-Segmentation/data/object-segmentation/ECSSD/features/dino_vits16/0777.pth\n",
      "0777\n",
      "tanh_feats.shape= torch.Size([625, 384])\n",
      "W_feat_ds.shape= torch.Size([625, 625])\n",
      "W_feat_hist_pearsoncorr.shape= torch.Size([625, 625])\n",
      "<class 'torch.Tensor'>\n"
     ]
    },
    {
     "name": "stderr",
     "output_type": "stream",
     "text": [
      " 78%|███████▊  | 777/1000 [21:56:42<7:40:35, 123.92s/it]"
     ]
    },
    {
     "name": "stdout",
     "output_type": "stream",
     "text": [
      "eigenvalues shape torch.Size([5]) eigenvectors shape torch.Size([5, 400])\n",
      "777 /home/phdcs2/Hard_Disk/Datasets/Deep-Spectral-Segmentation/data/object-segmentation/ECSSD/features/dino_vits16/0778.pth\n",
      "0778\n",
      "tanh_feats.shape= torch.Size([450, 384])\n",
      "W_feat_ds.shape= torch.Size([450, 450])\n",
      "W_feat_hist_pearsoncorr.shape= torch.Size([450, 450])\n",
      "<class 'torch.Tensor'>\n"
     ]
    },
    {
     "name": "stderr",
     "output_type": "stream",
     "text": [
      " 78%|███████▊  | 778/1000 [21:58:29<7:18:57, 118.64s/it]"
     ]
    },
    {
     "name": "stdout",
     "output_type": "stream",
     "text": [
      "eigenvalues shape torch.Size([5]) eigenvectors shape torch.Size([5, 400])\n",
      "778 /home/phdcs2/Hard_Disk/Datasets/Deep-Spectral-Segmentation/data/object-segmentation/ECSSD/features/dino_vits16/0779.pth\n",
      "0779\n",
      "tanh_feats.shape= torch.Size([375, 384])\n",
      "W_feat_ds.shape= torch.Size([375, 375])\n",
      "W_feat_hist_pearsoncorr.shape= torch.Size([375, 375])\n",
      "<class 'torch.Tensor'>\n"
     ]
    },
    {
     "name": "stderr",
     "output_type": "stream",
     "text": [
      " 78%|███████▊  | 779/1000 [21:59:42<6:26:25, 104.91s/it]"
     ]
    },
    {
     "name": "stdout",
     "output_type": "stream",
     "text": [
      "eigenvalues shape torch.Size([5]) eigenvectors shape torch.Size([5, 400])\n",
      "779 /home/phdcs2/Hard_Disk/Datasets/Deep-Spectral-Segmentation/data/object-segmentation/ECSSD/features/dino_vits16/0780.pth\n",
      "0780\n",
      "tanh_feats.shape= torch.Size([400, 384])\n",
      "W_feat_ds.shape= torch.Size([400, 400])\n",
      "W_feat_hist_pearsoncorr.shape= torch.Size([400, 400])\n",
      "<class 'torch.Tensor'>\n"
     ]
    },
    {
     "name": "stderr",
     "output_type": "stream",
     "text": [
      " 78%|███████▊  | 780/1000 [22:01:04<5:59:55, 98.16s/it] "
     ]
    },
    {
     "name": "stdout",
     "output_type": "stream",
     "text": [
      "eigenvalues shape torch.Size([5]) eigenvectors shape torch.Size([5, 400])\n",
      "780 /home/phdcs2/Hard_Disk/Datasets/Deep-Spectral-Segmentation/data/object-segmentation/ECSSD/features/dino_vits16/0781.pth\n",
      "0781\n",
      "tanh_feats.shape= torch.Size([450, 384])\n",
      "W_feat_ds.shape= torch.Size([450, 450])\n",
      "W_feat_hist_pearsoncorr.shape= torch.Size([450, 450])\n",
      "<class 'torch.Tensor'>\n"
     ]
    },
    {
     "name": "stderr",
     "output_type": "stream",
     "text": [
      " 78%|███████▊  | 781/1000 [22:02:48<6:04:49, 99.95s/it]"
     ]
    },
    {
     "name": "stdout",
     "output_type": "stream",
     "text": [
      "eigenvalues shape torch.Size([5]) eigenvectors shape torch.Size([5, 400])\n",
      "781 /home/phdcs2/Hard_Disk/Datasets/Deep-Spectral-Segmentation/data/object-segmentation/ECSSD/features/dino_vits16/0782.pth\n",
      "0782\n",
      "tanh_feats.shape= torch.Size([400, 384])\n",
      "W_feat_ds.shape= torch.Size([400, 400])\n",
      "W_feat_hist_pearsoncorr.shape= torch.Size([400, 400])\n",
      "<class 'torch.Tensor'>\n"
     ]
    },
    {
     "name": "stderr",
     "output_type": "stream",
     "text": [
      " 78%|███████▊  | 782/1000 [22:04:10<5:43:39, 94.59s/it]"
     ]
    },
    {
     "name": "stdout",
     "output_type": "stream",
     "text": [
      "eigenvalues shape torch.Size([5]) eigenvectors shape torch.Size([5, 400])\n",
      "782 /home/phdcs2/Hard_Disk/Datasets/Deep-Spectral-Segmentation/data/object-segmentation/ECSSD/features/dino_vits16/0783.pth\n",
      "0783\n",
      "tanh_feats.shape= torch.Size([300, 384])\n",
      "W_feat_ds.shape= torch.Size([300, 300])\n",
      "W_feat_hist_pearsoncorr.shape= torch.Size([300, 300])\n",
      "<class 'torch.Tensor'>\n"
     ]
    },
    {
     "name": "stderr",
     "output_type": "stream",
     "text": [
      " 78%|███████▊  | 783/1000 [22:04:57<4:50:03, 80.20s/it]"
     ]
    },
    {
     "name": "stdout",
     "output_type": "stream",
     "text": [
      "eigenvalues shape torch.Size([5]) eigenvectors shape torch.Size([5, 400])\n",
      "783 /home/phdcs2/Hard_Disk/Datasets/Deep-Spectral-Segmentation/data/object-segmentation/ECSSD/features/dino_vits16/0784.pth\n",
      "0784\n",
      "tanh_feats.shape= torch.Size([525, 384])\n",
      "W_feat_ds.shape= torch.Size([525, 525])\n",
      "W_feat_hist_pearsoncorr.shape= torch.Size([525, 525])\n",
      "<class 'torch.Tensor'>\n"
     ]
    },
    {
     "name": "stderr",
     "output_type": "stream",
     "text": [
      " 78%|███████▊  | 784/1000 [22:07:19<5:55:29, 98.75s/it]"
     ]
    },
    {
     "name": "stdout",
     "output_type": "stream",
     "text": [
      "eigenvalues shape torch.Size([5]) eigenvectors shape torch.Size([5, 400])\n",
      "784 /home/phdcs2/Hard_Disk/Datasets/Deep-Spectral-Segmentation/data/object-segmentation/ECSSD/features/dino_vits16/0785.pth\n",
      "0785\n",
      "tanh_feats.shape= torch.Size([500, 384])\n",
      "W_feat_ds.shape= torch.Size([500, 500])\n",
      "W_feat_hist_pearsoncorr.shape= torch.Size([500, 500])\n",
      "<class 'torch.Tensor'>\n"
     ]
    },
    {
     "name": "stderr",
     "output_type": "stream",
     "text": [
      " 78%|███████▊  | 785/1000 [22:09:29<6:27:05, 108.03s/it]"
     ]
    },
    {
     "name": "stdout",
     "output_type": "stream",
     "text": [
      "eigenvalues shape torch.Size([5]) eigenvectors shape torch.Size([5, 400])\n",
      "785 /home/phdcs2/Hard_Disk/Datasets/Deep-Spectral-Segmentation/data/object-segmentation/ECSSD/features/dino_vits16/0786.pth\n",
      "0786\n",
      "tanh_feats.shape= torch.Size([450, 384])\n",
      "W_feat_ds.shape= torch.Size([450, 450])\n",
      "W_feat_hist_pearsoncorr.shape= torch.Size([450, 450])\n",
      "<class 'torch.Tensor'>\n"
     ]
    },
    {
     "name": "stderr",
     "output_type": "stream",
     "text": [
      " 79%|███████▊  | 786/1000 [22:11:13<6:21:18, 106.91s/it]"
     ]
    },
    {
     "name": "stdout",
     "output_type": "stream",
     "text": [
      "eigenvalues shape torch.Size([5]) eigenvectors shape torch.Size([5, 400])\n",
      "786 /home/phdcs2/Hard_Disk/Datasets/Deep-Spectral-Segmentation/data/object-segmentation/ECSSD/features/dino_vits16/0787.pth\n",
      "0787\n",
      "tanh_feats.shape= torch.Size([550, 384])\n",
      "W_feat_ds.shape= torch.Size([550, 550])\n",
      "W_feat_hist_pearsoncorr.shape= torch.Size([550, 550])\n",
      "<class 'torch.Tensor'>\n"
     ]
    },
    {
     "name": "stderr",
     "output_type": "stream",
     "text": [
      " 79%|███████▊  | 787/1000 [22:13:47<7:09:55, 121.11s/it]"
     ]
    },
    {
     "name": "stdout",
     "output_type": "stream",
     "text": [
      "eigenvalues shape torch.Size([5]) eigenvectors shape torch.Size([5, 400])\n",
      "787 /home/phdcs2/Hard_Disk/Datasets/Deep-Spectral-Segmentation/data/object-segmentation/ECSSD/features/dino_vits16/0788.pth\n",
      "0788\n",
      "tanh_feats.shape= torch.Size([400, 384])\n"
     ]
    },
    {
     "name": "stderr",
     "output_type": "stream",
     "text": [
      " 79%|███████▉  | 788/1000 [22:15:10<6:26:57, 109.52s/it]"
     ]
    },
    {
     "name": "stdout",
     "output_type": "stream",
     "text": [
      "W_feat_ds.shape= torch.Size([400, 400])\n",
      "W_feat_hist_pearsoncorr.shape= torch.Size([400, 400])\n",
      "<class 'torch.Tensor'>\n",
      "eigenvalues shape torch.Size([5]) eigenvectors shape torch.Size([5, 400])\n",
      "788 /home/phdcs2/Hard_Disk/Datasets/Deep-Spectral-Segmentation/data/object-segmentation/ECSSD/features/dino_vits16/0789.pth\n",
      "0789\n",
      "tanh_feats.shape= torch.Size([450, 384])\n",
      "W_feat_ds.shape= torch.Size([450, 450])\n",
      "W_feat_hist_pearsoncorr.shape= torch.Size([450, 450])\n",
      "<class 'torch.Tensor'>\n"
     ]
    },
    {
     "name": "stderr",
     "output_type": "stream",
     "text": [
      " 79%|███████▉  | 789/1000 [22:16:54<6:19:58, 108.05s/it]"
     ]
    },
    {
     "name": "stdout",
     "output_type": "stream",
     "text": [
      "eigenvalues shape torch.Size([5]) eigenvectors shape torch.Size([5, 400])\n",
      "789 /home/phdcs2/Hard_Disk/Datasets/Deep-Spectral-Segmentation/data/object-segmentation/ECSSD/features/dino_vits16/0790.pth\n",
      "0790\n",
      "tanh_feats.shape= torch.Size([525, 384])\n",
      "W_feat_ds.shape= torch.Size([525, 525])\n",
      "W_feat_hist_pearsoncorr.shape= torch.Size([525, 525])\n",
      "<class 'torch.Tensor'>\n"
     ]
    },
    {
     "name": "stderr",
     "output_type": "stream",
     "text": [
      " 79%|███████▉  | 790/1000 [22:19:16<6:53:20, 118.10s/it]"
     ]
    },
    {
     "name": "stdout",
     "output_type": "stream",
     "text": [
      "eigenvalues shape torch.Size([5]) eigenvectors shape torch.Size([5, 400])\n",
      "790 /home/phdcs2/Hard_Disk/Datasets/Deep-Spectral-Segmentation/data/object-segmentation/ECSSD/features/dino_vits16/0791.pth\n",
      "0791\n",
      "tanh_feats.shape= torch.Size([450, 384])\n",
      "W_feat_ds.shape= torch.Size([450, 450])\n",
      "W_feat_hist_pearsoncorr.shape= torch.Size([450, 450])\n",
      "<class 'torch.Tensor'>\n"
     ]
    },
    {
     "name": "stderr",
     "output_type": "stream",
     "text": [
      " 79%|███████▉  | 791/1000 [22:21:00<6:36:52, 113.94s/it]"
     ]
    },
    {
     "name": "stdout",
     "output_type": "stream",
     "text": [
      "eigenvalues shape torch.Size([5]) eigenvectors shape torch.Size([5, 400])\n",
      "791 /home/phdcs2/Hard_Disk/Datasets/Deep-Spectral-Segmentation/data/object-segmentation/ECSSD/features/dino_vits16/0792.pth\n",
      "0792\n",
      "tanh_feats.shape= torch.Size([450, 384])\n",
      "W_feat_ds.shape= torch.Size([450, 450])\n",
      "W_feat_hist_pearsoncorr.shape= torch.Size([450, 450])\n",
      "<class 'torch.Tensor'>\n"
     ]
    },
    {
     "name": "stderr",
     "output_type": "stream",
     "text": [
      " 79%|███████▉  | 792/1000 [22:22:44<6:24:49, 111.01s/it]"
     ]
    },
    {
     "name": "stdout",
     "output_type": "stream",
     "text": [
      "eigenvalues shape torch.Size([5]) eigenvectors shape torch.Size([5, 400])\n",
      "792 /home/phdcs2/Hard_Disk/Datasets/Deep-Spectral-Segmentation/data/object-segmentation/ECSSD/features/dino_vits16/0793.pth\n",
      "0793\n",
      "tanh_feats.shape= torch.Size([400, 384])\n",
      "W_feat_ds.shape= torch.Size([400, 400])\n",
      "W_feat_hist_pearsoncorr.shape= torch.Size([400, 400])\n",
      "<class 'torch.Tensor'>\n"
     ]
    },
    {
     "name": "stderr",
     "output_type": "stream",
     "text": [
      " 79%|███████▉  | 793/1000 [22:24:06<5:52:45, 102.25s/it]"
     ]
    },
    {
     "name": "stdout",
     "output_type": "stream",
     "text": [
      "eigenvalues shape torch.Size([5]) eigenvectors shape torch.Size([5, 400])\n",
      "793 /home/phdcs2/Hard_Disk/Datasets/Deep-Spectral-Segmentation/data/object-segmentation/ECSSD/features/dino_vits16/0794.pth\n",
      "0794\n",
      "tanh_feats.shape= torch.Size([400, 384])\n",
      "W_feat_ds.shape= torch.Size([400, 400])\n",
      "W_feat_hist_pearsoncorr.shape= torch.Size([400, 400])\n",
      "<class 'torch.Tensor'>\n"
     ]
    },
    {
     "name": "stderr",
     "output_type": "stream",
     "text": [
      " 79%|███████▉  | 794/1000 [22:25:28<5:30:35, 96.29s/it] "
     ]
    },
    {
     "name": "stdout",
     "output_type": "stream",
     "text": [
      "eigenvalues shape torch.Size([5]) eigenvectors shape torch.Size([5, 400])\n",
      "794 /home/phdcs2/Hard_Disk/Datasets/Deep-Spectral-Segmentation/data/object-segmentation/ECSSD/features/dino_vits16/0795.pth\n",
      "0795\n",
      "tanh_feats.shape= torch.Size([375, 384])\n",
      "W_feat_ds.shape= torch.Size([375, 375])\n",
      "W_feat_hist_pearsoncorr.shape= torch.Size([375, 375])\n",
      "<class 'torch.Tensor'>\n"
     ]
    },
    {
     "name": "stderr",
     "output_type": "stream",
     "text": [
      " 80%|███████▉  | 795/1000 [22:26:40<5:04:09, 89.02s/it]"
     ]
    },
    {
     "name": "stdout",
     "output_type": "stream",
     "text": [
      "eigenvalues shape torch.Size([5]) eigenvectors shape torch.Size([5, 400])\n",
      "795 /home/phdcs2/Hard_Disk/Datasets/Deep-Spectral-Segmentation/data/object-segmentation/ECSSD/features/dino_vits16/0796.pth\n",
      "0796\n",
      "tanh_feats.shape= torch.Size([500, 384])\n",
      "W_feat_ds.shape= torch.Size([500, 500])\n",
      "W_feat_hist_pearsoncorr.shape= torch.Size([500, 500])\n",
      "<class 'torch.Tensor'>\n"
     ]
    },
    {
     "name": "stderr",
     "output_type": "stream",
     "text": [
      " 80%|███████▉  | 796/1000 [22:28:48<5:42:15, 100.66s/it]"
     ]
    },
    {
     "name": "stdout",
     "output_type": "stream",
     "text": [
      "eigenvalues shape torch.Size([5]) eigenvectors shape torch.Size([5, 400])\n",
      "796 /home/phdcs2/Hard_Disk/Datasets/Deep-Spectral-Segmentation/data/object-segmentation/ECSSD/features/dino_vits16/0797.pth\n",
      "0797\n",
      "tanh_feats.shape= torch.Size([450, 384])\n",
      "W_feat_ds.shape= torch.Size([450, 450])\n",
      "W_feat_hist_pearsoncorr.shape= torch.Size([450, 450])\n",
      "<class 'torch.Tensor'>\n"
     ]
    },
    {
     "name": "stderr",
     "output_type": "stream",
     "text": [
      " 80%|███████▉  | 797/1000 [22:30:32<5:43:21, 101.49s/it]"
     ]
    },
    {
     "name": "stdout",
     "output_type": "stream",
     "text": [
      "eigenvalues shape torch.Size([5]) eigenvectors shape torch.Size([5, 400])\n",
      "797 /home/phdcs2/Hard_Disk/Datasets/Deep-Spectral-Segmentation/data/object-segmentation/ECSSD/features/dino_vits16/0798.pth\n",
      "0798\n",
      "tanh_feats.shape= torch.Size([350, 384])\n",
      "W_feat_ds.shape= torch.Size([350, 350])\n",
      "W_feat_hist_pearsoncorr.shape= torch.Size([350, 350])\n",
      "<class 'torch.Tensor'>\n"
     ]
    },
    {
     "name": "stderr",
     "output_type": "stream",
     "text": [
      " 80%|███████▉  | 798/1000 [22:31:35<5:02:42, 89.92s/it] "
     ]
    },
    {
     "name": "stdout",
     "output_type": "stream",
     "text": [
      "eigenvalues shape torch.Size([5]) eigenvectors shape torch.Size([5, 400])\n",
      "798 /home/phdcs2/Hard_Disk/Datasets/Deep-Spectral-Segmentation/data/object-segmentation/ECSSD/features/dino_vits16/0799.pth\n",
      "0799\n",
      "tanh_feats.shape= torch.Size([400, 384])\n",
      "W_feat_ds.shape= torch.Size([400, 400])\n",
      "W_feat_hist_pearsoncorr.shape= torch.Size([400, 400])\n",
      "<class 'torch.Tensor'>\n"
     ]
    },
    {
     "name": "stderr",
     "output_type": "stream",
     "text": [
      " 80%|███████▉  | 799/1000 [22:32:56<4:53:07, 87.50s/it]"
     ]
    },
    {
     "name": "stdout",
     "output_type": "stream",
     "text": [
      "eigenvalues shape torch.Size([5]) eigenvectors shape torch.Size([5, 400])\n",
      "799 /home/phdcs2/Hard_Disk/Datasets/Deep-Spectral-Segmentation/data/object-segmentation/ECSSD/features/dino_vits16/0800.pth\n",
      "0800\n",
      "tanh_feats.shape= torch.Size([350, 384])\n",
      "W_feat_ds.shape= torch.Size([350, 350])\n",
      "W_feat_hist_pearsoncorr.shape= torch.Size([350, 350])\n",
      "<class 'torch.Tensor'>\n"
     ]
    },
    {
     "name": "stderr",
     "output_type": "stream",
     "text": [
      " 80%|████████  | 800/1000 [22:34:00<4:27:15, 80.18s/it]"
     ]
    },
    {
     "name": "stdout",
     "output_type": "stream",
     "text": [
      "eigenvalues shape torch.Size([5]) eigenvectors shape torch.Size([5, 400])\n",
      "800 /home/phdcs2/Hard_Disk/Datasets/Deep-Spectral-Segmentation/data/object-segmentation/ECSSD/features/dino_vits16/0801.pth\n",
      "0801\n",
      "tanh_feats.shape= torch.Size([375, 384])\n",
      "W_feat_ds.shape= torch.Size([375, 375])\n",
      "W_feat_hist_pearsoncorr.shape= torch.Size([375, 375])\n",
      "<class 'torch.Tensor'>\n"
     ]
    },
    {
     "name": "stderr",
     "output_type": "stream",
     "text": [
      " 80%|████████  | 801/1000 [22:35:12<4:18:20, 77.89s/it]"
     ]
    },
    {
     "name": "stdout",
     "output_type": "stream",
     "text": [
      "eigenvalues shape torch.Size([5]) eigenvectors shape torch.Size([5, 400])\n",
      "801 /home/phdcs2/Hard_Disk/Datasets/Deep-Spectral-Segmentation/data/object-segmentation/ECSSD/features/dino_vits16/0802.pth\n",
      "0802\n",
      "tanh_feats.shape= torch.Size([625, 384])\n",
      "W_feat_ds.shape= torch.Size([625, 625])\n",
      "W_feat_hist_pearsoncorr.shape= torch.Size([625, 625])\n",
      "<class 'torch.Tensor'>\n"
     ]
    },
    {
     "name": "stderr",
     "output_type": "stream",
     "text": [
      " 80%|████████  | 802/1000 [22:38:35<6:21:05, 115.48s/it]"
     ]
    },
    {
     "name": "stdout",
     "output_type": "stream",
     "text": [
      "eigenvalues shape torch.Size([5]) eigenvectors shape torch.Size([5, 400])\n",
      "802 /home/phdcs2/Hard_Disk/Datasets/Deep-Spectral-Segmentation/data/object-segmentation/ECSSD/features/dino_vits16/0803.pth\n",
      "0803\n",
      "tanh_feats.shape= torch.Size([500, 384])\n",
      "W_feat_ds.shape= torch.Size([500, 500])\n",
      "W_feat_hist_pearsoncorr.shape= torch.Size([500, 500])\n",
      "<class 'torch.Tensor'>\n"
     ]
    },
    {
     "name": "stderr",
     "output_type": "stream",
     "text": [
      " 80%|████████  | 803/1000 [22:40:43<6:31:40, 119.29s/it]"
     ]
    },
    {
     "name": "stdout",
     "output_type": "stream",
     "text": [
      "eigenvalues shape torch.Size([5]) eigenvectors shape torch.Size([5, 400])\n",
      "803 /home/phdcs2/Hard_Disk/Datasets/Deep-Spectral-Segmentation/data/object-segmentation/ECSSD/features/dino_vits16/0804.pth\n",
      "0804\n",
      "tanh_feats.shape= torch.Size([500, 384])\n",
      "W_feat_ds.shape= torch.Size([500, 500])\n",
      "W_feat_hist_pearsoncorr.shape= torch.Size([500, 500])\n",
      "<class 'torch.Tensor'>\n"
     ]
    },
    {
     "name": "stderr",
     "output_type": "stream",
     "text": [
      " 80%|████████  | 804/1000 [22:42:53<6:39:49, 122.40s/it]"
     ]
    },
    {
     "name": "stdout",
     "output_type": "stream",
     "text": [
      "eigenvalues shape torch.Size([5]) eigenvectors shape torch.Size([5, 400])\n",
      "804 /home/phdcs2/Hard_Disk/Datasets/Deep-Spectral-Segmentation/data/object-segmentation/ECSSD/features/dino_vits16/0805.pth\n",
      "0805\n",
      "tanh_feats.shape= torch.Size([400, 384])\n",
      "W_feat_ds.shape= torch.Size([400, 400])\n",
      "W_feat_hist_pearsoncorr.shape= torch.Size([400, 400])\n",
      "<class 'torch.Tensor'>\n"
     ]
    },
    {
     "name": "stderr",
     "output_type": "stream",
     "text": [
      " 80%|████████  | 805/1000 [22:44:16<5:58:56, 110.44s/it]"
     ]
    },
    {
     "name": "stdout",
     "output_type": "stream",
     "text": [
      "eigenvalues shape torch.Size([5]) eigenvectors shape torch.Size([5, 400])\n",
      "805 /home/phdcs2/Hard_Disk/Datasets/Deep-Spectral-Segmentation/data/object-segmentation/ECSSD/features/dino_vits16/0806.pth\n",
      "0806\n",
      "tanh_feats.shape= torch.Size([425, 384])\n"
     ]
    },
    {
     "name": "stderr",
     "output_type": "stream",
     "text": [
      " 81%|████████  | 806/1000 [22:45:48<5:39:48, 105.10s/it]"
     ]
    },
    {
     "name": "stdout",
     "output_type": "stream",
     "text": [
      "W_feat_ds.shape= torch.Size([425, 425])\n",
      "W_feat_hist_pearsoncorr.shape= torch.Size([425, 425])\n",
      "<class 'torch.Tensor'>\n",
      "eigenvalues shape torch.Size([5]) eigenvectors shape torch.Size([5, 400])\n",
      "806 /home/phdcs2/Hard_Disk/Datasets/Deep-Spectral-Segmentation/data/object-segmentation/ECSSD/features/dino_vits16/0807.pth\n",
      "0807\n",
      "tanh_feats.shape= torch.Size([450, 384])\n",
      "W_feat_ds.shape= torch.Size([450, 450])\n",
      "W_feat_hist_pearsoncorr.shape= torch.Size([450, 450])\n",
      "<class 'torch.Tensor'>\n"
     ]
    },
    {
     "name": "stderr",
     "output_type": "stream",
     "text": [
      " 81%|████████  | 807/1000 [22:47:33<5:37:35, 104.95s/it]"
     ]
    },
    {
     "name": "stdout",
     "output_type": "stream",
     "text": [
      "eigenvalues shape torch.Size([5]) eigenvectors shape torch.Size([5, 400])\n",
      "807 /home/phdcs2/Hard_Disk/Datasets/Deep-Spectral-Segmentation/data/object-segmentation/ECSSD/features/dino_vits16/0808.pth\n",
      "0808\n",
      "tanh_feats.shape= torch.Size([450, 384])\n"
     ]
    },
    {
     "name": "stderr",
     "output_type": "stream",
     "text": [
      " 81%|████████  | 808/1000 [22:49:18<5:35:46, 104.93s/it]"
     ]
    },
    {
     "name": "stdout",
     "output_type": "stream",
     "text": [
      "W_feat_ds.shape= torch.Size([450, 450])\n",
      "W_feat_hist_pearsoncorr.shape= torch.Size([450, 450])\n",
      "<class 'torch.Tensor'>\n",
      "eigenvalues shape torch.Size([5]) eigenvectors shape torch.Size([5, 400])\n",
      "808 /home/phdcs2/Hard_Disk/Datasets/Deep-Spectral-Segmentation/data/object-segmentation/ECSSD/features/dino_vits16/0809.pth\n",
      "0809\n",
      "tanh_feats.shape= torch.Size([500, 384])\n",
      "W_feat_ds.shape= torch.Size([500, 500])\n",
      "W_feat_hist_pearsoncorr.shape= torch.Size([500, 500])\n",
      "<class 'torch.Tensor'>\n"
     ]
    },
    {
     "name": "stderr",
     "output_type": "stream",
     "text": [
      " 81%|████████  | 809/1000 [22:51:26<5:56:28, 111.98s/it]"
     ]
    },
    {
     "name": "stdout",
     "output_type": "stream",
     "text": [
      "eigenvalues shape torch.Size([5]) eigenvectors shape torch.Size([5, 400])\n",
      "809 /home/phdcs2/Hard_Disk/Datasets/Deep-Spectral-Segmentation/data/object-segmentation/ECSSD/features/dino_vits16/0810.pth\n",
      "0810\n",
      "tanh_feats.shape= torch.Size([450, 384])\n",
      "W_feat_ds.shape= torch.Size([450, 450])\n",
      "W_feat_hist_pearsoncorr.shape= torch.Size([450, 450])\n",
      "<class 'torch.Tensor'>\n"
     ]
    },
    {
     "name": "stderr",
     "output_type": "stream",
     "text": [
      " 81%|████████  | 810/1000 [22:53:10<5:47:03, 109.60s/it]"
     ]
    },
    {
     "name": "stdout",
     "output_type": "stream",
     "text": [
      "eigenvalues shape torch.Size([5]) eigenvectors shape torch.Size([5, 400])\n",
      "810 /home/phdcs2/Hard_Disk/Datasets/Deep-Spectral-Segmentation/data/object-segmentation/ECSSD/features/dino_vits16/0811.pth\n",
      "0811\n",
      "tanh_feats.shape= torch.Size([400, 384])\n"
     ]
    },
    {
     "name": "stderr",
     "output_type": "stream",
     "text": [
      " 81%|████████  | 811/1000 [22:54:32<5:18:55, 101.25s/it]"
     ]
    },
    {
     "name": "stdout",
     "output_type": "stream",
     "text": [
      "W_feat_ds.shape= torch.Size([400, 400])\n",
      "W_feat_hist_pearsoncorr.shape= torch.Size([400, 400])\n",
      "<class 'torch.Tensor'>\n",
      "eigenvalues shape torch.Size([5]) eigenvectors shape torch.Size([5, 400])\n",
      "811 /home/phdcs2/Hard_Disk/Datasets/Deep-Spectral-Segmentation/data/object-segmentation/ECSSD/features/dino_vits16/0812.pth\n",
      "0812\n",
      "tanh_feats.shape= torch.Size([400, 384])\n",
      "W_feat_ds.shape= torch.Size([400, 400])\n",
      "W_feat_hist_pearsoncorr.shape= torch.Size([400, 400])\n",
      "<class 'torch.Tensor'>\n"
     ]
    },
    {
     "name": "stderr",
     "output_type": "stream",
     "text": [
      " 81%|████████  | 812/1000 [22:55:54<4:59:02, 95.44s/it] "
     ]
    },
    {
     "name": "stdout",
     "output_type": "stream",
     "text": [
      "eigenvalues shape torch.Size([5]) eigenvectors shape torch.Size([5, 400])\n",
      "812 /home/phdcs2/Hard_Disk/Datasets/Deep-Spectral-Segmentation/data/object-segmentation/ECSSD/features/dino_vits16/0813.pth\n",
      "0813\n",
      "tanh_feats.shape= torch.Size([400, 384])\n",
      "W_feat_ds.shape= torch.Size([400, 400])\n",
      "W_feat_hist_pearsoncorr.shape= torch.Size([400, 400])\n",
      "<class 'torch.Tensor'>\n"
     ]
    },
    {
     "name": "stderr",
     "output_type": "stream",
     "text": [
      " 81%|████████▏ | 813/1000 [22:57:17<4:45:32, 91.62s/it]"
     ]
    },
    {
     "name": "stdout",
     "output_type": "stream",
     "text": [
      "eigenvalues shape torch.Size([5]) eigenvectors shape torch.Size([5, 400])\n",
      "813 /home/phdcs2/Hard_Disk/Datasets/Deep-Spectral-Segmentation/data/object-segmentation/ECSSD/features/dino_vits16/0814.pth\n",
      "0814\n",
      "tanh_feats.shape= torch.Size([400, 384])\n",
      "W_feat_ds.shape= torch.Size([400, 400])\n",
      "W_feat_hist_pearsoncorr.shape= torch.Size([400, 400])\n",
      "<class 'torch.Tensor'>\n"
     ]
    },
    {
     "name": "stderr",
     "output_type": "stream",
     "text": [
      " 81%|████████▏ | 814/1000 [22:58:39<4:35:31, 88.88s/it]"
     ]
    },
    {
     "name": "stdout",
     "output_type": "stream",
     "text": [
      "eigenvalues shape torch.Size([5]) eigenvectors shape torch.Size([5, 400])\n",
      "814 /home/phdcs2/Hard_Disk/Datasets/Deep-Spectral-Segmentation/data/object-segmentation/ECSSD/features/dino_vits16/0815.pth\n",
      "0815\n",
      "tanh_feats.shape= torch.Size([400, 384])\n",
      "W_feat_ds.shape= torch.Size([400, 400])\n",
      "W_feat_hist_pearsoncorr.shape= torch.Size([400, 400])\n",
      "<class 'torch.Tensor'>\n"
     ]
    },
    {
     "name": "stderr",
     "output_type": "stream",
     "text": [
      " 82%|████████▏ | 815/1000 [23:00:01<4:27:32, 86.77s/it]"
     ]
    },
    {
     "name": "stdout",
     "output_type": "stream",
     "text": [
      "eigenvalues shape torch.Size([5]) eigenvectors shape torch.Size([5, 400])\n",
      "815 /home/phdcs2/Hard_Disk/Datasets/Deep-Spectral-Segmentation/data/object-segmentation/ECSSD/features/dino_vits16/0816.pth\n",
      "0816\n",
      "tanh_feats.shape= torch.Size([450, 384])\n"
     ]
    },
    {
     "name": "stderr",
     "output_type": "stream",
     "text": [
      " 82%|████████▏ | 816/1000 [23:01:46<4:42:38, 92.16s/it]"
     ]
    },
    {
     "name": "stdout",
     "output_type": "stream",
     "text": [
      "W_feat_ds.shape= torch.Size([450, 450])\n",
      "W_feat_hist_pearsoncorr.shape= torch.Size([450, 450])\n",
      "<class 'torch.Tensor'>\n",
      "eigenvalues shape torch.Size([5]) eigenvectors shape torch.Size([5, 400])\n",
      "816 /home/phdcs2/Hard_Disk/Datasets/Deep-Spectral-Segmentation/data/object-segmentation/ECSSD/features/dino_vits16/0817.pth\n",
      "0817\n",
      "tanh_feats.shape= torch.Size([450, 384])\n",
      "W_feat_ds.shape= torch.Size([450, 450])\n",
      "W_feat_hist_pearsoncorr.shape= torch.Size([450, 450])\n",
      "<class 'torch.Tensor'>\n"
     ]
    },
    {
     "name": "stderr",
     "output_type": "stream",
     "text": [
      " 82%|████████▏ | 817/1000 [23:03:30<4:52:28, 95.89s/it]"
     ]
    },
    {
     "name": "stdout",
     "output_type": "stream",
     "text": [
      "eigenvalues shape torch.Size([5]) eigenvectors shape torch.Size([5, 400])\n",
      "817 /home/phdcs2/Hard_Disk/Datasets/Deep-Spectral-Segmentation/data/object-segmentation/ECSSD/features/dino_vits16/0818.pth\n",
      "0818\n",
      "tanh_feats.shape= torch.Size([525, 384])\n",
      "W_feat_ds.shape= torch.Size([525, 525])\n",
      "W_feat_hist_pearsoncorr.shape= torch.Size([525, 525])\n",
      "<class 'torch.Tensor'>\n"
     ]
    },
    {
     "name": "stderr",
     "output_type": "stream",
     "text": [
      " 82%|████████▏ | 818/1000 [23:05:51<5:32:00, 109.45s/it]"
     ]
    },
    {
     "name": "stdout",
     "output_type": "stream",
     "text": [
      "eigenvalues shape torch.Size([5]) eigenvectors shape torch.Size([5, 400])\n",
      "818 /home/phdcs2/Hard_Disk/Datasets/Deep-Spectral-Segmentation/data/object-segmentation/ECSSD/features/dino_vits16/0819.pth\n",
      "0819\n",
      "tanh_feats.shape= torch.Size([425, 384])\n",
      "W_feat_ds.shape= torch.Size([425, 425])\n",
      "W_feat_hist_pearsoncorr.shape= torch.Size([425, 425])\n",
      "<class 'torch.Tensor'>\n"
     ]
    },
    {
     "name": "stderr",
     "output_type": "stream",
     "text": [
      " 82%|████████▏ | 819/1000 [23:07:24<5:15:13, 104.50s/it]"
     ]
    },
    {
     "name": "stdout",
     "output_type": "stream",
     "text": [
      "eigenvalues shape torch.Size([5]) eigenvectors shape torch.Size([5, 400])\n",
      "819 /home/phdcs2/Hard_Disk/Datasets/Deep-Spectral-Segmentation/data/object-segmentation/ECSSD/features/dino_vits16/0820.pth\n",
      "0820\n",
      "tanh_feats.shape= torch.Size([450, 384])\n",
      "W_feat_ds.shape= torch.Size([450, 450])\n",
      "W_feat_hist_pearsoncorr.shape= torch.Size([450, 450])\n",
      "<class 'torch.Tensor'>\n"
     ]
    },
    {
     "name": "stderr",
     "output_type": "stream",
     "text": [
      " 82%|████████▏ | 820/1000 [23:09:09<5:14:02, 104.68s/it]"
     ]
    },
    {
     "name": "stdout",
     "output_type": "stream",
     "text": [
      "eigenvalues shape torch.Size([5]) eigenvectors shape torch.Size([5, 400])\n",
      "820 /home/phdcs2/Hard_Disk/Datasets/Deep-Spectral-Segmentation/data/object-segmentation/ECSSD/features/dino_vits16/0821.pth\n",
      "0821\n",
      "tanh_feats.shape= torch.Size([450, 384])\n",
      "W_feat_ds.shape= torch.Size([450, 450])\n",
      "W_feat_hist_pearsoncorr.shape= torch.Size([450, 450])\n",
      "<class 'torch.Tensor'>\n"
     ]
    },
    {
     "name": "stderr",
     "output_type": "stream",
     "text": [
      " 82%|████████▏ | 821/1000 [23:10:55<5:12:52, 104.87s/it]"
     ]
    },
    {
     "name": "stdout",
     "output_type": "stream",
     "text": [
      "eigenvalues shape torch.Size([5]) eigenvectors shape torch.Size([5, 400])\n",
      "821 /home/phdcs2/Hard_Disk/Datasets/Deep-Spectral-Segmentation/data/object-segmentation/ECSSD/features/dino_vits16/0822.pth\n",
      "0822\n",
      "tanh_feats.shape= torch.Size([450, 384])\n",
      "W_feat_ds.shape= torch.Size([450, 450])\n",
      "W_feat_hist_pearsoncorr.shape= torch.Size([450, 450])\n",
      "<class 'torch.Tensor'>\n"
     ]
    },
    {
     "name": "stderr",
     "output_type": "stream",
     "text": [
      " 82%|████████▏ | 822/1000 [23:12:39<5:10:42, 104.73s/it]"
     ]
    },
    {
     "name": "stdout",
     "output_type": "stream",
     "text": [
      "eigenvalues shape torch.Size([5]) eigenvectors shape torch.Size([5, 400])\n",
      "822 /home/phdcs2/Hard_Disk/Datasets/Deep-Spectral-Segmentation/data/object-segmentation/ECSSD/features/dino_vits16/0823.pth\n",
      "0823\n",
      "tanh_feats.shape= torch.Size([450, 384])\n",
      "W_feat_ds.shape= torch.Size([450, 450])\n",
      "W_feat_hist_pearsoncorr.shape= torch.Size([450, 450])\n",
      "<class 'torch.Tensor'>\n"
     ]
    },
    {
     "name": "stderr",
     "output_type": "stream",
     "text": [
      " 82%|████████▏ | 823/1000 [23:14:23<5:07:58, 104.40s/it]"
     ]
    },
    {
     "name": "stdout",
     "output_type": "stream",
     "text": [
      "eigenvalues shape torch.Size([5]) eigenvectors shape torch.Size([5, 400])\n",
      "823 /home/phdcs2/Hard_Disk/Datasets/Deep-Spectral-Segmentation/data/object-segmentation/ECSSD/features/dino_vits16/0824.pth\n",
      "0824\n",
      "tanh_feats.shape= torch.Size([400, 384])\n"
     ]
    },
    {
     "name": "stderr",
     "output_type": "stream",
     "text": [
      " 82%|████████▏ | 824/1000 [23:15:45<4:46:41, 97.73s/it] "
     ]
    },
    {
     "name": "stdout",
     "output_type": "stream",
     "text": [
      "W_feat_ds.shape= torch.Size([400, 400])\n",
      "W_feat_hist_pearsoncorr.shape= torch.Size([400, 400])\n",
      "<class 'torch.Tensor'>\n",
      "eigenvalues shape torch.Size([5]) eigenvectors shape torch.Size([5, 400])\n",
      "824 /home/phdcs2/Hard_Disk/Datasets/Deep-Spectral-Segmentation/data/object-segmentation/ECSSD/features/dino_vits16/0825.pth\n",
      "0825\n",
      "tanh_feats.shape= torch.Size([400, 384])\n",
      "W_feat_ds.shape= torch.Size([400, 400])\n",
      "W_feat_hist_pearsoncorr.shape= torch.Size([400, 400])\n",
      "<class 'torch.Tensor'>\n"
     ]
    },
    {
     "name": "stderr",
     "output_type": "stream",
     "text": [
      " 82%|████████▎ | 825/1000 [23:17:08<4:32:31, 93.44s/it]"
     ]
    },
    {
     "name": "stdout",
     "output_type": "stream",
     "text": [
      "eigenvalues shape torch.Size([5]) eigenvectors shape torch.Size([5, 400])\n",
      "825 /home/phdcs2/Hard_Disk/Datasets/Deep-Spectral-Segmentation/data/object-segmentation/ECSSD/features/dino_vits16/0826.pth\n",
      "0826\n",
      "tanh_feats.shape= torch.Size([400, 384])\n"
     ]
    },
    {
     "name": "stderr",
     "output_type": "stream",
     "text": [
      " 83%|████████▎ | 826/1000 [23:18:32<4:22:00, 90.35s/it]"
     ]
    },
    {
     "name": "stdout",
     "output_type": "stream",
     "text": [
      "W_feat_ds.shape= torch.Size([400, 400])\n",
      "W_feat_hist_pearsoncorr.shape= torch.Size([400, 400])\n",
      "<class 'torch.Tensor'>\n",
      "eigenvalues shape torch.Size([5]) eigenvectors shape torch.Size([5, 400])\n",
      "826 /home/phdcs2/Hard_Disk/Datasets/Deep-Spectral-Segmentation/data/object-segmentation/ECSSD/features/dino_vits16/0827.pth\n",
      "0827\n",
      "tanh_feats.shape= torch.Size([375, 384])\n",
      "W_feat_ds.shape= torch.Size([375, 375])\n",
      "W_feat_hist_pearsoncorr.shape= torch.Size([375, 375])\n",
      "<class 'torch.Tensor'>\n",
      "eigenvalues shape torch.Size([5]) eigenvectors shape torch.Size([5, 400])\n"
     ]
    },
    {
     "name": "stderr",
     "output_type": "stream",
     "text": [
      " 83%|████████▎ | 827/1000 [23:19:44<4:04:58, 84.96s/it]"
     ]
    },
    {
     "name": "stdout",
     "output_type": "stream",
     "text": [
      "827 /home/phdcs2/Hard_Disk/Datasets/Deep-Spectral-Segmentation/data/object-segmentation/ECSSD/features/dino_vits16/0828.pth\n",
      "0828\n",
      "tanh_feats.shape= torch.Size([425, 384])\n",
      "W_feat_ds.shape= torch.Size([425, 425])\n",
      "W_feat_hist_pearsoncorr.shape= torch.Size([425, 425])\n",
      "<class 'torch.Tensor'>\n"
     ]
    },
    {
     "name": "stderr",
     "output_type": "stream",
     "text": [
      " 83%|████████▎ | 828/1000 [23:21:17<4:10:23, 87.34s/it]"
     ]
    },
    {
     "name": "stdout",
     "output_type": "stream",
     "text": [
      "eigenvalues shape torch.Size([5]) eigenvectors shape torch.Size([5, 400])\n",
      "828 /home/phdcs2/Hard_Disk/Datasets/Deep-Spectral-Segmentation/data/object-segmentation/ECSSD/features/dino_vits16/0829.pth\n",
      "0829\n",
      "tanh_feats.shape= torch.Size([500, 384])\n",
      "W_feat_ds.shape= torch.Size([500, 500])\n",
      "W_feat_hist_pearsoncorr.shape= torch.Size([500, 500])\n",
      "<class 'torch.Tensor'>\n"
     ]
    },
    {
     "name": "stderr",
     "output_type": "stream",
     "text": [
      " 83%|████████▎ | 829/1000 [23:23:26<4:44:34, 99.85s/it]"
     ]
    },
    {
     "name": "stdout",
     "output_type": "stream",
     "text": [
      "eigenvalues shape torch.Size([5]) eigenvectors shape torch.Size([5, 400])\n",
      "829 /home/phdcs2/Hard_Disk/Datasets/Deep-Spectral-Segmentation/data/object-segmentation/ECSSD/features/dino_vits16/0830.pth\n",
      "0830\n",
      "tanh_feats.shape= torch.Size([400, 384])\n",
      "W_feat_ds.shape= torch.Size([400, 400])\n",
      "W_feat_hist_pearsoncorr.shape= torch.Size([400, 400])\n",
      "<class 'torch.Tensor'>\n"
     ]
    },
    {
     "name": "stderr",
     "output_type": "stream",
     "text": [
      " 83%|████████▎ | 830/1000 [23:24:49<4:28:21, 94.71s/it]"
     ]
    },
    {
     "name": "stdout",
     "output_type": "stream",
     "text": [
      "eigenvalues shape torch.Size([5]) eigenvectors shape torch.Size([5, 400])\n",
      "830 /home/phdcs2/Hard_Disk/Datasets/Deep-Spectral-Segmentation/data/object-segmentation/ECSSD/features/dino_vits16/0831.pth\n",
      "0831\n",
      "tanh_feats.shape= torch.Size([400, 384])\n",
      "W_feat_ds.shape= torch.Size([400, 400])\n",
      "W_feat_hist_pearsoncorr.shape= torch.Size([400, 400])\n",
      "<class 'torch.Tensor'>\n"
     ]
    },
    {
     "name": "stderr",
     "output_type": "stream",
     "text": [
      " 83%|████████▎ | 831/1000 [23:26:11<4:16:21, 91.01s/it]"
     ]
    },
    {
     "name": "stdout",
     "output_type": "stream",
     "text": [
      "eigenvalues shape torch.Size([5]) eigenvectors shape torch.Size([5, 400])\n",
      "831 /home/phdcs2/Hard_Disk/Datasets/Deep-Spectral-Segmentation/data/object-segmentation/ECSSD/features/dino_vits16/0832.pth\n",
      "0832\n",
      "tanh_feats.shape= torch.Size([500, 384])\n",
      "W_feat_ds.shape= torch.Size([500, 500])\n",
      "W_feat_hist_pearsoncorr.shape= torch.Size([500, 500])\n",
      "<class 'torch.Tensor'>\n"
     ]
    },
    {
     "name": "stderr",
     "output_type": "stream",
     "text": [
      " 83%|████████▎ | 832/1000 [23:28:18<4:44:57, 101.77s/it]"
     ]
    },
    {
     "name": "stdout",
     "output_type": "stream",
     "text": [
      "eigenvalues shape torch.Size([5]) eigenvectors shape torch.Size([5, 400])\n",
      "832 /home/phdcs2/Hard_Disk/Datasets/Deep-Spectral-Segmentation/data/object-segmentation/ECSSD/features/dino_vits16/0833.pth\n",
      "0833\n",
      "tanh_feats.shape= torch.Size([450, 384])\n"
     ]
    },
    {
     "name": "stderr",
     "output_type": "stream",
     "text": [
      " 83%|████████▎ | 833/1000 [23:30:01<4:44:26, 102.19s/it]"
     ]
    },
    {
     "name": "stdout",
     "output_type": "stream",
     "text": [
      "W_feat_ds.shape= torch.Size([450, 450])\n",
      "W_feat_hist_pearsoncorr.shape= torch.Size([450, 450])\n",
      "<class 'torch.Tensor'>\n",
      "eigenvalues shape torch.Size([5]) eigenvectors shape torch.Size([5, 400])\n",
      "833 /home/phdcs2/Hard_Disk/Datasets/Deep-Spectral-Segmentation/data/object-segmentation/ECSSD/features/dino_vits16/0834.pth\n",
      "0834\n",
      "tanh_feats.shape= torch.Size([375, 384])\n"
     ]
    },
    {
     "name": "stderr",
     "output_type": "stream",
     "text": [
      " 83%|████████▎ | 834/1000 [23:31:13<4:17:43, 93.15s/it] "
     ]
    },
    {
     "name": "stdout",
     "output_type": "stream",
     "text": [
      "W_feat_ds.shape= torch.Size([375, 375])\n",
      "W_feat_hist_pearsoncorr.shape= torch.Size([375, 375])\n",
      "<class 'torch.Tensor'>\n",
      "eigenvalues shape torch.Size([5]) eigenvectors shape torch.Size([5, 400])\n",
      "834 /home/phdcs2/Hard_Disk/Datasets/Deep-Spectral-Segmentation/data/object-segmentation/ECSSD/features/dino_vits16/0835.pth\n",
      "0835\n",
      "tanh_feats.shape= torch.Size([375, 384])\n",
      "W_feat_ds.shape= torch.Size([375, 375])\n",
      "W_feat_hist_pearsoncorr.shape= torch.Size([375, 375])\n",
      "<class 'torch.Tensor'>\n"
     ]
    },
    {
     "name": "stderr",
     "output_type": "stream",
     "text": [
      " 84%|████████▎ | 835/1000 [23:32:26<3:59:18, 87.02s/it]"
     ]
    },
    {
     "name": "stdout",
     "output_type": "stream",
     "text": [
      "eigenvalues shape torch.Size([5]) eigenvectors shape torch.Size([5, 400])\n",
      "835 /home/phdcs2/Hard_Disk/Datasets/Deep-Spectral-Segmentation/data/object-segmentation/ECSSD/features/dino_vits16/0836.pth\n",
      "0836\n",
      "tanh_feats.shape= torch.Size([475, 384])\n",
      "W_feat_ds.shape= torch.Size([475, 475])\n",
      "W_feat_hist_pearsoncorr.shape= torch.Size([475, 475])\n",
      "<class 'torch.Tensor'>\n"
     ]
    },
    {
     "name": "stderr",
     "output_type": "stream",
     "text": [
      " 84%|████████▎ | 836/1000 [23:34:22<4:22:08, 95.90s/it]"
     ]
    },
    {
     "name": "stdout",
     "output_type": "stream",
     "text": [
      "eigenvalues shape torch.Size([5]) eigenvectors shape torch.Size([5, 400])\n",
      "836 /home/phdcs2/Hard_Disk/Datasets/Deep-Spectral-Segmentation/data/object-segmentation/ECSSD/features/dino_vits16/0837.pth\n",
      "0837\n",
      "tanh_feats.shape= torch.Size([425, 384])\n"
     ]
    },
    {
     "name": "stderr",
     "output_type": "stream",
     "text": [
      " 84%|████████▎ | 837/1000 [23:35:55<4:17:47, 94.89s/it]"
     ]
    },
    {
     "name": "stdout",
     "output_type": "stream",
     "text": [
      "W_feat_ds.shape= torch.Size([425, 425])\n",
      "W_feat_hist_pearsoncorr.shape= torch.Size([425, 425])\n",
      "<class 'torch.Tensor'>\n",
      "eigenvalues shape torch.Size([5]) eigenvectors shape torch.Size([5, 400])\n",
      "837 /home/phdcs2/Hard_Disk/Datasets/Deep-Spectral-Segmentation/data/object-segmentation/ECSSD/features/dino_vits16/0838.pth\n",
      "0838\n",
      "tanh_feats.shape= torch.Size([400, 384])\n",
      "W_feat_ds.shape= torch.Size([400, 400])\n",
      "W_feat_hist_pearsoncorr.shape= torch.Size([400, 400])\n",
      "<class 'torch.Tensor'>\n"
     ]
    },
    {
     "name": "stderr",
     "output_type": "stream",
     "text": [
      " 84%|████████▍ | 838/1000 [23:37:17<4:06:03, 91.13s/it]"
     ]
    },
    {
     "name": "stdout",
     "output_type": "stream",
     "text": [
      "eigenvalues shape torch.Size([5]) eigenvectors shape torch.Size([5, 400])\n",
      "838 /home/phdcs2/Hard_Disk/Datasets/Deep-Spectral-Segmentation/data/object-segmentation/ECSSD/features/dino_vits16/0839.pth\n",
      "0839\n",
      "tanh_feats.shape= torch.Size([525, 384])\n"
     ]
    },
    {
     "name": "stderr",
     "output_type": "stream",
     "text": [
      " 84%|████████▍ | 839/1000 [23:39:39<4:45:33, 106.42s/it]"
     ]
    },
    {
     "name": "stdout",
     "output_type": "stream",
     "text": [
      "W_feat_ds.shape= torch.Size([525, 525])\n",
      "W_feat_hist_pearsoncorr.shape= torch.Size([525, 525])\n",
      "<class 'torch.Tensor'>\n",
      "eigenvalues shape torch.Size([5]) eigenvectors shape torch.Size([5, 400])\n",
      "839 /home/phdcs2/Hard_Disk/Datasets/Deep-Spectral-Segmentation/data/object-segmentation/ECSSD/features/dino_vits16/0840.pth\n",
      "0840\n",
      "tanh_feats.shape= torch.Size([450, 384])\n",
      "W_feat_ds.shape= torch.Size([450, 450])\n",
      "W_feat_hist_pearsoncorr.shape= torch.Size([450, 450])\n",
      "<class 'torch.Tensor'>\n"
     ]
    },
    {
     "name": "stderr",
     "output_type": "stream",
     "text": [
      " 84%|████████▍ | 840/1000 [23:41:24<4:42:27, 105.92s/it]"
     ]
    },
    {
     "name": "stdout",
     "output_type": "stream",
     "text": [
      "eigenvalues shape torch.Size([5]) eigenvectors shape torch.Size([5, 400])\n",
      "840 /home/phdcs2/Hard_Disk/Datasets/Deep-Spectral-Segmentation/data/object-segmentation/ECSSD/features/dino_vits16/0841.pth\n",
      "0841\n",
      "tanh_feats.shape= torch.Size([400, 384])\n",
      "W_feat_ds.shape= torch.Size([400, 400])\n",
      "W_feat_hist_pearsoncorr.shape= torch.Size([400, 400])\n",
      "<class 'torch.Tensor'>\n"
     ]
    },
    {
     "name": "stderr",
     "output_type": "stream",
     "text": [
      " 84%|████████▍ | 841/1000 [23:42:47<4:22:23, 99.01s/it] "
     ]
    },
    {
     "name": "stdout",
     "output_type": "stream",
     "text": [
      "eigenvalues shape torch.Size([5]) eigenvectors shape torch.Size([5, 400])\n",
      "841 /home/phdcs2/Hard_Disk/Datasets/Deep-Spectral-Segmentation/data/object-segmentation/ECSSD/features/dino_vits16/0842.pth\n",
      "0842\n",
      "tanh_feats.shape= torch.Size([400, 384])\n",
      "W_feat_ds.shape= torch.Size([400, 400])\n",
      "W_feat_hist_pearsoncorr.shape= torch.Size([400, 400])\n",
      "<class 'torch.Tensor'>\n"
     ]
    },
    {
     "name": "stderr",
     "output_type": "stream",
     "text": [
      " 84%|████████▍ | 842/1000 [23:44:09<4:07:06, 93.84s/it]"
     ]
    },
    {
     "name": "stdout",
     "output_type": "stream",
     "text": [
      "eigenvalues shape torch.Size([5]) eigenvectors shape torch.Size([5, 400])\n",
      "842 /home/phdcs2/Hard_Disk/Datasets/Deep-Spectral-Segmentation/data/object-segmentation/ECSSD/features/dino_vits16/0843.pth\n",
      "0843\n",
      "tanh_feats.shape= torch.Size([400, 384])\n",
      "W_feat_ds.shape= torch.Size([400, 400])\n",
      "W_feat_hist_pearsoncorr.shape= torch.Size([400, 400])\n",
      "<class 'torch.Tensor'>\n"
     ]
    },
    {
     "name": "stderr",
     "output_type": "stream",
     "text": [
      " 84%|████████▍ | 843/1000 [23:45:30<3:55:50, 90.13s/it]"
     ]
    },
    {
     "name": "stdout",
     "output_type": "stream",
     "text": [
      "eigenvalues shape torch.Size([5]) eigenvectors shape torch.Size([5, 400])\n",
      "843 /home/phdcs2/Hard_Disk/Datasets/Deep-Spectral-Segmentation/data/object-segmentation/ECSSD/features/dino_vits16/0844.pth\n",
      "0844\n",
      "tanh_feats.shape= torch.Size([400, 384])\n",
      "W_feat_ds.shape= torch.Size([400, 400])\n",
      "W_feat_hist_pearsoncorr.shape= torch.Size([400, 400])\n",
      "<class 'torch.Tensor'>\n"
     ]
    },
    {
     "name": "stderr",
     "output_type": "stream",
     "text": [
      " 84%|████████▍ | 844/1000 [23:46:53<3:48:24, 87.85s/it]"
     ]
    },
    {
     "name": "stdout",
     "output_type": "stream",
     "text": [
      "eigenvalues shape torch.Size([5]) eigenvectors shape torch.Size([5, 400])\n",
      "844 /home/phdcs2/Hard_Disk/Datasets/Deep-Spectral-Segmentation/data/object-segmentation/ECSSD/features/dino_vits16/0845.pth\n",
      "0845\n",
      "tanh_feats.shape= torch.Size([300, 384])\n",
      "W_feat_ds.shape= torch.Size([300, 300])\n",
      "W_feat_hist_pearsoncorr.shape= torch.Size([300, 300])\n",
      "<class 'torch.Tensor'>\n"
     ]
    },
    {
     "name": "stderr",
     "output_type": "stream",
     "text": [
      " 84%|████████▍ | 845/1000 [23:47:40<3:15:08, 75.54s/it]"
     ]
    },
    {
     "name": "stdout",
     "output_type": "stream",
     "text": [
      "eigenvalues shape torch.Size([5]) eigenvectors shape torch.Size([5, 400])\n",
      "845 /home/phdcs2/Hard_Disk/Datasets/Deep-Spectral-Segmentation/data/object-segmentation/ECSSD/features/dino_vits16/0846.pth\n",
      "0846\n",
      "tanh_feats.shape= torch.Size([400, 384])\n",
      "W_feat_ds.shape= torch.Size([400, 400])\n",
      "W_feat_hist_pearsoncorr.shape= torch.Size([400, 400])\n",
      "<class 'torch.Tensor'>\n"
     ]
    },
    {
     "name": "stderr",
     "output_type": "stream",
     "text": [
      " 85%|████████▍ | 846/1000 [23:49:03<3:19:59, 77.92s/it]"
     ]
    },
    {
     "name": "stdout",
     "output_type": "stream",
     "text": [
      "eigenvalues shape torch.Size([5]) eigenvectors shape torch.Size([5, 400])\n",
      "846 /home/phdcs2/Hard_Disk/Datasets/Deep-Spectral-Segmentation/data/object-segmentation/ECSSD/features/dino_vits16/0847.pth\n",
      "0847\n",
      "tanh_feats.shape= torch.Size([400, 384])\n"
     ]
    },
    {
     "name": "stderr",
     "output_type": "stream",
     "text": [
      " 85%|████████▍ | 847/1000 [23:50:25<3:21:44, 79.11s/it]"
     ]
    },
    {
     "name": "stdout",
     "output_type": "stream",
     "text": [
      "W_feat_ds.shape= torch.Size([400, 400])\n",
      "W_feat_hist_pearsoncorr.shape= torch.Size([400, 400])\n",
      "<class 'torch.Tensor'>\n",
      "eigenvalues shape torch.Size([5]) eigenvectors shape torch.Size([5, 400])\n",
      "847 /home/phdcs2/Hard_Disk/Datasets/Deep-Spectral-Segmentation/data/object-segmentation/ECSSD/features/dino_vits16/0848.pth\n",
      "0848\n",
      "tanh_feats.shape= torch.Size([400, 384])\n",
      "W_feat_ds.shape= torch.Size([400, 400])\n",
      "W_feat_hist_pearsoncorr.shape= torch.Size([400, 400])\n",
      "<class 'torch.Tensor'>\n"
     ]
    },
    {
     "name": "stderr",
     "output_type": "stream",
     "text": [
      " 85%|████████▍ | 848/1000 [23:51:48<3:23:26, 80.31s/it]"
     ]
    },
    {
     "name": "stdout",
     "output_type": "stream",
     "text": [
      "eigenvalues shape torch.Size([5]) eigenvectors shape torch.Size([5, 400])\n",
      "848 /home/phdcs2/Hard_Disk/Datasets/Deep-Spectral-Segmentation/data/object-segmentation/ECSSD/features/dino_vits16/0849.pth\n",
      "0849\n",
      "tanh_feats.shape= torch.Size([350, 384])\n",
      "W_feat_ds.shape= torch.Size([350, 350])\n",
      "W_feat_hist_pearsoncorr.shape= torch.Size([350, 350])\n",
      "<class 'torch.Tensor'>\n"
     ]
    },
    {
     "name": "stderr",
     "output_type": "stream",
     "text": [
      " 85%|████████▍ | 849/1000 [23:52:52<3:09:26, 75.27s/it]"
     ]
    },
    {
     "name": "stdout",
     "output_type": "stream",
     "text": [
      "eigenvalues shape torch.Size([5]) eigenvectors shape torch.Size([5, 400])\n",
      "849 /home/phdcs2/Hard_Disk/Datasets/Deep-Spectral-Segmentation/data/object-segmentation/ECSSD/features/dino_vits16/0850.pth\n",
      "0850\n",
      "tanh_feats.shape= torch.Size([400, 384])\n",
      "W_feat_ds.shape= torch.Size([400, 400])\n",
      "W_feat_hist_pearsoncorr.shape= torch.Size([400, 400])\n",
      "<class 'torch.Tensor'>\n"
     ]
    },
    {
     "name": "stderr",
     "output_type": "stream",
     "text": [
      " 85%|████████▌ | 850/1000 [23:54:14<3:13:29, 77.40s/it]"
     ]
    },
    {
     "name": "stdout",
     "output_type": "stream",
     "text": [
      "eigenvalues shape torch.Size([5]) eigenvectors shape torch.Size([5, 400])\n",
      "850 /home/phdcs2/Hard_Disk/Datasets/Deep-Spectral-Segmentation/data/object-segmentation/ECSSD/features/dino_vits16/0851.pth\n",
      "0851\n",
      "tanh_feats.shape= torch.Size([400, 384])\n",
      "W_feat_ds.shape= torch.Size([400, 400])\n",
      "W_feat_hist_pearsoncorr.shape= torch.Size([400, 400])\n",
      "<class 'torch.Tensor'>\n"
     ]
    },
    {
     "name": "stderr",
     "output_type": "stream",
     "text": [
      " 85%|████████▌ | 851/1000 [23:55:35<3:15:14, 78.62s/it]"
     ]
    },
    {
     "name": "stdout",
     "output_type": "stream",
     "text": [
      "eigenvalues shape torch.Size([5]) eigenvectors shape torch.Size([5, 400])\n",
      "851 /home/phdcs2/Hard_Disk/Datasets/Deep-Spectral-Segmentation/data/object-segmentation/ECSSD/features/dino_vits16/0852.pth\n",
      "0852\n",
      "tanh_feats.shape= torch.Size([425, 384])\n",
      "W_feat_ds.shape= torch.Size([425, 425])\n",
      "W_feat_hist_pearsoncorr.shape= torch.Size([425, 425])\n",
      "<class 'torch.Tensor'>\n"
     ]
    },
    {
     "name": "stderr",
     "output_type": "stream",
     "text": [
      " 85%|████████▌ | 852/1000 [23:57:08<3:24:37, 82.95s/it]"
     ]
    },
    {
     "name": "stdout",
     "output_type": "stream",
     "text": [
      "eigenvalues shape torch.Size([5]) eigenvectors shape torch.Size([5, 400])\n",
      "852 /home/phdcs2/Hard_Disk/Datasets/Deep-Spectral-Segmentation/data/object-segmentation/ECSSD/features/dino_vits16/0853.pth\n",
      "0853\n",
      "tanh_feats.shape= torch.Size([400, 384])\n",
      "W_feat_ds.shape= torch.Size([400, 400])\n",
      "W_feat_hist_pearsoncorr.shape= torch.Size([400, 400])\n",
      "<class 'torch.Tensor'>\n"
     ]
    },
    {
     "name": "stderr",
     "output_type": "stream",
     "text": [
      " 85%|████████▌ | 853/1000 [23:58:31<3:23:04, 82.89s/it]"
     ]
    },
    {
     "name": "stdout",
     "output_type": "stream",
     "text": [
      "eigenvalues shape torch.Size([5]) eigenvectors shape torch.Size([5, 400])\n",
      "853 /home/phdcs2/Hard_Disk/Datasets/Deep-Spectral-Segmentation/data/object-segmentation/ECSSD/features/dino_vits16/0854.pth\n",
      "0854\n",
      "tanh_feats.shape= torch.Size([400, 384])\n",
      "W_feat_ds.shape= torch.Size([400, 400])\n",
      "W_feat_hist_pearsoncorr.shape= torch.Size([400, 400])\n",
      "<class 'torch.Tensor'>\n"
     ]
    },
    {
     "name": "stderr",
     "output_type": "stream",
     "text": [
      " 85%|████████▌ | 854/1000 [23:59:54<3:21:18, 82.73s/it]"
     ]
    },
    {
     "name": "stdout",
     "output_type": "stream",
     "text": [
      "eigenvalues shape torch.Size([5]) eigenvectors shape torch.Size([5, 400])\n",
      "854 /home/phdcs2/Hard_Disk/Datasets/Deep-Spectral-Segmentation/data/object-segmentation/ECSSD/features/dino_vits16/0855.pth\n",
      "0855\n",
      "tanh_feats.shape= torch.Size([400, 384])\n"
     ]
    },
    {
     "name": "stderr",
     "output_type": "stream",
     "text": [
      " 86%|████████▌ | 855/1000 [24:01:15<3:19:01, 82.36s/it]"
     ]
    },
    {
     "name": "stdout",
     "output_type": "stream",
     "text": [
      "W_feat_ds.shape= torch.Size([400, 400])\n",
      "W_feat_hist_pearsoncorr.shape= torch.Size([400, 400])\n",
      "<class 'torch.Tensor'>\n",
      "eigenvalues shape torch.Size([5]) eigenvectors shape torch.Size([5, 400])\n",
      "855 /home/phdcs2/Hard_Disk/Datasets/Deep-Spectral-Segmentation/data/object-segmentation/ECSSD/features/dino_vits16/0856.pth\n",
      "0856\n",
      "tanh_feats.shape= torch.Size([400, 384])\n",
      "W_feat_ds.shape= torch.Size([400, 400])\n",
      "W_feat_hist_pearsoncorr.shape= torch.Size([400, 400])\n",
      "<class 'torch.Tensor'>\n"
     ]
    },
    {
     "name": "stderr",
     "output_type": "stream",
     "text": [
      " 86%|████████▌ | 856/1000 [24:02:38<3:18:05, 82.53s/it]"
     ]
    },
    {
     "name": "stdout",
     "output_type": "stream",
     "text": [
      "eigenvalues shape torch.Size([5]) eigenvectors shape torch.Size([5, 400])\n",
      "856 /home/phdcs2/Hard_Disk/Datasets/Deep-Spectral-Segmentation/data/object-segmentation/ECSSD/features/dino_vits16/0857.pth\n",
      "0857\n",
      "tanh_feats.shape= torch.Size([450, 384])\n",
      "W_feat_ds.shape= torch.Size([450, 450])\n",
      "W_feat_hist_pearsoncorr.shape= torch.Size([450, 450])\n",
      "<class 'torch.Tensor'>\n"
     ]
    },
    {
     "name": "stderr",
     "output_type": "stream",
     "text": [
      " 86%|████████▌ | 857/1000 [24:04:22<3:31:54, 88.91s/it]"
     ]
    },
    {
     "name": "stdout",
     "output_type": "stream",
     "text": [
      "eigenvalues shape torch.Size([5]) eigenvectors shape torch.Size([5, 400])\n",
      "857 /home/phdcs2/Hard_Disk/Datasets/Deep-Spectral-Segmentation/data/object-segmentation/ECSSD/features/dino_vits16/0858.pth\n",
      "0858\n",
      "tanh_feats.shape= torch.Size([425, 384])\n",
      "W_feat_ds.shape= torch.Size([425, 425])\n",
      "W_feat_hist_pearsoncorr.shape= torch.Size([425, 425])\n",
      "<class 'torch.Tensor'>\n"
     ]
    },
    {
     "name": "stderr",
     "output_type": "stream",
     "text": [
      " 86%|████████▌ | 858/1000 [24:05:54<3:33:00, 90.01s/it]"
     ]
    },
    {
     "name": "stdout",
     "output_type": "stream",
     "text": [
      "eigenvalues shape torch.Size([5]) eigenvectors shape torch.Size([5, 400])\n",
      "858 /home/phdcs2/Hard_Disk/Datasets/Deep-Spectral-Segmentation/data/object-segmentation/ECSSD/features/dino_vits16/0859.pth\n",
      "0859\n",
      "tanh_feats.shape= torch.Size([400, 384])\n",
      "W_feat_ds.shape= torch.Size([400, 400])\n",
      "W_feat_hist_pearsoncorr.shape= torch.Size([400, 400])\n",
      "<class 'torch.Tensor'>\n"
     ]
    },
    {
     "name": "stderr",
     "output_type": "stream",
     "text": [
      " 86%|████████▌ | 859/1000 [24:07:17<3:26:04, 87.69s/it]"
     ]
    },
    {
     "name": "stdout",
     "output_type": "stream",
     "text": [
      "eigenvalues shape torch.Size([5]) eigenvectors shape torch.Size([5, 400])\n",
      "859 /home/phdcs2/Hard_Disk/Datasets/Deep-Spectral-Segmentation/data/object-segmentation/ECSSD/features/dino_vits16/0860.pth\n",
      "0860\n",
      "tanh_feats.shape= torch.Size([400, 384])\n",
      "W_feat_ds.shape= torch.Size([400, 400])\n",
      "W_feat_hist_pearsoncorr.shape= torch.Size([400, 400])\n",
      "<class 'torch.Tensor'>\n"
     ]
    },
    {
     "name": "stderr",
     "output_type": "stream",
     "text": [
      " 86%|████████▌ | 860/1000 [24:08:38<3:20:08, 85.77s/it]"
     ]
    },
    {
     "name": "stdout",
     "output_type": "stream",
     "text": [
      "eigenvalues shape torch.Size([5]) eigenvectors shape torch.Size([5, 400])\n",
      "860 /home/phdcs2/Hard_Disk/Datasets/Deep-Spectral-Segmentation/data/object-segmentation/ECSSD/features/dino_vits16/0861.pth\n",
      "0861\n",
      "tanh_feats.shape= torch.Size([400, 384])\n",
      "W_feat_ds.shape= torch.Size([400, 400])\n",
      "W_feat_hist_pearsoncorr.shape= torch.Size([400, 400])\n",
      "<class 'torch.Tensor'>\n"
     ]
    },
    {
     "name": "stderr",
     "output_type": "stream",
     "text": [
      " 86%|████████▌ | 861/1000 [24:10:01<3:16:48, 84.96s/it]"
     ]
    },
    {
     "name": "stdout",
     "output_type": "stream",
     "text": [
      "eigenvalues shape torch.Size([5]) eigenvectors shape torch.Size([5, 400])\n",
      "861 /home/phdcs2/Hard_Disk/Datasets/Deep-Spectral-Segmentation/data/object-segmentation/ECSSD/features/dino_vits16/0862.pth\n",
      "0862\n",
      "tanh_feats.shape= torch.Size([625, 384])\n"
     ]
    },
    {
     "name": "stderr",
     "output_type": "stream",
     "text": [
      " 86%|████████▌ | 862/1000 [24:13:23<4:35:53, 119.95s/it]"
     ]
    },
    {
     "name": "stdout",
     "output_type": "stream",
     "text": [
      "W_feat_ds.shape= torch.Size([625, 625])\n",
      "W_feat_hist_pearsoncorr.shape= torch.Size([625, 625])\n",
      "<class 'torch.Tensor'>\n",
      "eigenvalues shape torch.Size([5]) eigenvectors shape torch.Size([5, 400])\n",
      "862 /home/phdcs2/Hard_Disk/Datasets/Deep-Spectral-Segmentation/data/object-segmentation/ECSSD/features/dino_vits16/0863.pth\n",
      "0863\n",
      "tanh_feats.shape= torch.Size([400, 384])\n",
      "W_feat_ds.shape= torch.Size([400, 400])\n",
      "W_feat_hist_pearsoncorr.shape= torch.Size([400, 400])\n",
      "<class 'torch.Tensor'>\n"
     ]
    },
    {
     "name": "stderr",
     "output_type": "stream",
     "text": [
      " 86%|████████▋ | 863/1000 [24:14:44<4:07:30, 108.40s/it]"
     ]
    },
    {
     "name": "stdout",
     "output_type": "stream",
     "text": [
      "eigenvalues shape torch.Size([5]) eigenvectors shape torch.Size([5, 400])\n",
      "863 /home/phdcs2/Hard_Disk/Datasets/Deep-Spectral-Segmentation/data/object-segmentation/ECSSD/features/dino_vits16/0864.pth\n",
      "0864\n",
      "tanh_feats.shape= torch.Size([350, 384])\n",
      "W_feat_ds.shape= torch.Size([350, 350])\n",
      "W_feat_hist_pearsoncorr.shape= torch.Size([350, 350])\n",
      "<class 'torch.Tensor'>\n"
     ]
    },
    {
     "name": "stderr",
     "output_type": "stream",
     "text": [
      " 86%|████████▋ | 864/1000 [24:15:47<3:34:49, 94.78s/it] "
     ]
    },
    {
     "name": "stdout",
     "output_type": "stream",
     "text": [
      "eigenvalues shape torch.Size([5]) eigenvectors shape torch.Size([5, 400])\n",
      "864 /home/phdcs2/Hard_Disk/Datasets/Deep-Spectral-Segmentation/data/object-segmentation/ECSSD/features/dino_vits16/0865.pth\n",
      "0865\n",
      "tanh_feats.shape= torch.Size([400, 384])\n",
      "W_feat_ds.shape= torch.Size([400, 400])\n",
      "W_feat_hist_pearsoncorr.shape= torch.Size([400, 400])\n",
      "<class 'torch.Tensor'>\n"
     ]
    },
    {
     "name": "stderr",
     "output_type": "stream",
     "text": [
      " 86%|████████▋ | 865/1000 [24:17:10<3:25:09, 91.18s/it]"
     ]
    },
    {
     "name": "stdout",
     "output_type": "stream",
     "text": [
      "eigenvalues shape torch.Size([5]) eigenvectors shape torch.Size([5, 400])\n",
      "865 /home/phdcs2/Hard_Disk/Datasets/Deep-Spectral-Segmentation/data/object-segmentation/ECSSD/features/dino_vits16/0866.pth\n",
      "0866\n",
      "tanh_feats.shape= torch.Size([400, 384])\n",
      "W_feat_ds.shape= torch.Size([400, 400])\n",
      "W_feat_hist_pearsoncorr.shape= torch.Size([400, 400])\n",
      "<class 'torch.Tensor'>\n"
     ]
    },
    {
     "name": "stderr",
     "output_type": "stream",
     "text": [
      " 87%|████████▋ | 866/1000 [24:18:32<3:17:48, 88.57s/it]"
     ]
    },
    {
     "name": "stdout",
     "output_type": "stream",
     "text": [
      "eigenvalues shape torch.Size([5]) eigenvectors shape torch.Size([5, 400])\n",
      "866 /home/phdcs2/Hard_Disk/Datasets/Deep-Spectral-Segmentation/data/object-segmentation/ECSSD/features/dino_vits16/0867.pth\n",
      "0867\n",
      "tanh_feats.shape= torch.Size([450, 384])\n",
      "W_feat_ds.shape= torch.Size([450, 450])\n",
      "W_feat_hist_pearsoncorr.shape= torch.Size([450, 450])\n",
      "<class 'torch.Tensor'>\n"
     ]
    },
    {
     "name": "stderr",
     "output_type": "stream",
     "text": [
      " 87%|████████▋ | 867/1000 [24:20:20<3:28:46, 94.19s/it]"
     ]
    },
    {
     "name": "stdout",
     "output_type": "stream",
     "text": [
      "eigenvalues shape torch.Size([5]) eigenvectors shape torch.Size([5, 400])\n",
      "867 /home/phdcs2/Hard_Disk/Datasets/Deep-Spectral-Segmentation/data/object-segmentation/ECSSD/features/dino_vits16/0868.pth\n",
      "0868\n",
      "tanh_feats.shape= torch.Size([450, 384])\n",
      "W_feat_ds.shape= torch.Size([450, 450])\n",
      "W_feat_hist_pearsoncorr.shape= torch.Size([450, 450])\n",
      "<class 'torch.Tensor'>\n"
     ]
    },
    {
     "name": "stderr",
     "output_type": "stream",
     "text": [
      " 87%|████████▋ | 868/1000 [24:22:03<3:33:30, 97.05s/it]"
     ]
    },
    {
     "name": "stdout",
     "output_type": "stream",
     "text": [
      "eigenvalues shape torch.Size([5]) eigenvectors shape torch.Size([5, 400])\n",
      "868 /home/phdcs2/Hard_Disk/Datasets/Deep-Spectral-Segmentation/data/object-segmentation/ECSSD/features/dino_vits16/0869.pth\n",
      "0869\n",
      "tanh_feats.shape= torch.Size([625, 384])\n",
      "W_feat_ds.shape= torch.Size([625, 625])\n",
      "W_feat_hist_pearsoncorr.shape= torch.Size([625, 625])\n",
      "<class 'torch.Tensor'>\n"
     ]
    },
    {
     "name": "stderr",
     "output_type": "stream",
     "text": [
      " 87%|████████▋ | 869/1000 [24:25:24<4:39:30, 128.02s/it]"
     ]
    },
    {
     "name": "stdout",
     "output_type": "stream",
     "text": [
      "eigenvalues shape torch.Size([5]) eigenvectors shape torch.Size([5, 400])\n",
      "869 /home/phdcs2/Hard_Disk/Datasets/Deep-Spectral-Segmentation/data/object-segmentation/ECSSD/features/dino_vits16/0870.pth\n",
      "0870\n",
      "tanh_feats.shape= torch.Size([400, 384])\n",
      "W_feat_ds.shape= torch.Size([400, 400])\n",
      "W_feat_hist_pearsoncorr.shape= torch.Size([400, 400])\n",
      "<class 'torch.Tensor'>\n"
     ]
    },
    {
     "name": "stderr",
     "output_type": "stream",
     "text": [
      " 87%|████████▋ | 870/1000 [24:26:45<4:07:21, 114.17s/it]"
     ]
    },
    {
     "name": "stdout",
     "output_type": "stream",
     "text": [
      "eigenvalues shape torch.Size([5]) eigenvectors shape torch.Size([5, 400])\n",
      "870 /home/phdcs2/Hard_Disk/Datasets/Deep-Spectral-Segmentation/data/object-segmentation/ECSSD/features/dino_vits16/0871.pth\n",
      "0871\n",
      "tanh_feats.shape= torch.Size([400, 384])\n"
     ]
    },
    {
     "name": "stderr",
     "output_type": "stream",
     "text": [
      " 87%|████████▋ | 871/1000 [24:28:08<3:44:46, 104.55s/it]"
     ]
    },
    {
     "name": "stdout",
     "output_type": "stream",
     "text": [
      "W_feat_ds.shape= torch.Size([400, 400])\n",
      "W_feat_hist_pearsoncorr.shape= torch.Size([400, 400])\n",
      "<class 'torch.Tensor'>\n",
      "eigenvalues shape torch.Size([5]) eigenvectors shape torch.Size([5, 400])\n",
      "871 /home/phdcs2/Hard_Disk/Datasets/Deep-Spectral-Segmentation/data/object-segmentation/ECSSD/features/dino_vits16/0872.pth\n",
      "0872\n",
      "tanh_feats.shape= torch.Size([450, 384])\n",
      "W_feat_ds.shape= torch.Size([450, 450])\n",
      "W_feat_hist_pearsoncorr.shape= torch.Size([450, 450])\n",
      "<class 'torch.Tensor'>\n"
     ]
    },
    {
     "name": "stderr",
     "output_type": "stream",
     "text": [
      " 87%|████████▋ | 872/1000 [24:29:51<3:42:16, 104.19s/it]"
     ]
    },
    {
     "name": "stdout",
     "output_type": "stream",
     "text": [
      "eigenvalues shape torch.Size([5]) eigenvectors shape torch.Size([5, 400])\n",
      "872 /home/phdcs2/Hard_Disk/Datasets/Deep-Spectral-Segmentation/data/object-segmentation/ECSSD/features/dino_vits16/0873.pth\n",
      "0873\n",
      "tanh_feats.shape= torch.Size([450, 384])\n",
      "W_feat_ds.shape= torch.Size([450, 450])\n",
      "W_feat_hist_pearsoncorr.shape= torch.Size([450, 450])\n",
      "<class 'torch.Tensor'>\n"
     ]
    },
    {
     "name": "stderr",
     "output_type": "stream",
     "text": [
      " 87%|████████▋ | 873/1000 [24:31:36<3:41:01, 104.42s/it]"
     ]
    },
    {
     "name": "stdout",
     "output_type": "stream",
     "text": [
      "eigenvalues shape torch.Size([5]) eigenvectors shape torch.Size([5, 400])\n",
      "873 /home/phdcs2/Hard_Disk/Datasets/Deep-Spectral-Segmentation/data/object-segmentation/ECSSD/features/dino_vits16/0874.pth\n",
      "0874\n",
      "tanh_feats.shape= torch.Size([400, 384])\n",
      "W_feat_ds.shape= torch.Size([400, 400])\n",
      "W_feat_hist_pearsoncorr.shape= torch.Size([400, 400])\n",
      "<class 'torch.Tensor'>\n"
     ]
    },
    {
     "name": "stderr",
     "output_type": "stream",
     "text": [
      " 87%|████████▋ | 874/1000 [24:32:59<3:25:44, 97.97s/it] "
     ]
    },
    {
     "name": "stdout",
     "output_type": "stream",
     "text": [
      "eigenvalues shape torch.Size([5]) eigenvectors shape torch.Size([5, 400])\n",
      "874 /home/phdcs2/Hard_Disk/Datasets/Deep-Spectral-Segmentation/data/object-segmentation/ECSSD/features/dino_vits16/0875.pth\n",
      "0875\n",
      "tanh_feats.shape= torch.Size([400, 384])\n",
      "W_feat_ds.shape= torch.Size([400, 400])\n",
      "W_feat_hist_pearsoncorr.shape= torch.Size([400, 400])\n",
      "<class 'torch.Tensor'>\n"
     ]
    },
    {
     "name": "stderr",
     "output_type": "stream",
     "text": [
      " 88%|████████▊ | 875/1000 [24:34:22<3:14:43, 93.47s/it]"
     ]
    },
    {
     "name": "stdout",
     "output_type": "stream",
     "text": [
      "eigenvalues shape torch.Size([5]) eigenvectors shape torch.Size([5, 400])\n",
      "875 /home/phdcs2/Hard_Disk/Datasets/Deep-Spectral-Segmentation/data/object-segmentation/ECSSD/features/dino_vits16/0876.pth\n",
      "0876\n",
      "tanh_feats.shape= torch.Size([400, 384])\n"
     ]
    },
    {
     "name": "stderr",
     "output_type": "stream",
     "text": [
      " 88%|████████▊ | 876/1000 [24:35:44<3:05:57, 89.98s/it]"
     ]
    },
    {
     "name": "stdout",
     "output_type": "stream",
     "text": [
      "W_feat_ds.shape= torch.Size([400, 400])\n",
      "W_feat_hist_pearsoncorr.shape= torch.Size([400, 400])\n",
      "<class 'torch.Tensor'>\n",
      "eigenvalues shape torch.Size([5]) eigenvectors shape torch.Size([5, 400])\n",
      "876 /home/phdcs2/Hard_Disk/Datasets/Deep-Spectral-Segmentation/data/object-segmentation/ECSSD/features/dino_vits16/0877.pth\n",
      "0877\n",
      "tanh_feats.shape= torch.Size([400, 384])\n",
      "W_feat_ds.shape= torch.Size([400, 400])\n",
      "W_feat_hist_pearsoncorr.shape= torch.Size([400, 400])\n",
      "<class 'torch.Tensor'>\n"
     ]
    },
    {
     "name": "stderr",
     "output_type": "stream",
     "text": [
      " 88%|████████▊ | 877/1000 [24:37:07<3:00:08, 87.87s/it]"
     ]
    },
    {
     "name": "stdout",
     "output_type": "stream",
     "text": [
      "eigenvalues shape torch.Size([5]) eigenvectors shape torch.Size([5, 400])\n",
      "877 /home/phdcs2/Hard_Disk/Datasets/Deep-Spectral-Segmentation/data/object-segmentation/ECSSD/features/dino_vits16/0878.pth\n",
      "0878\n",
      "tanh_feats.shape= torch.Size([525, 384])\n",
      "W_feat_ds.shape= torch.Size([525, 525])\n",
      "W_feat_hist_pearsoncorr.shape= torch.Size([525, 525])\n",
      "<class 'torch.Tensor'>\n"
     ]
    },
    {
     "name": "stderr",
     "output_type": "stream",
     "text": [
      " 88%|████████▊ | 878/1000 [24:39:29<3:32:10, 104.35s/it]"
     ]
    },
    {
     "name": "stdout",
     "output_type": "stream",
     "text": [
      "eigenvalues shape torch.Size([5]) eigenvectors shape torch.Size([5, 400])\n",
      "878 /home/phdcs2/Hard_Disk/Datasets/Deep-Spectral-Segmentation/data/object-segmentation/ECSSD/features/dino_vits16/0879.pth\n",
      "0879\n",
      "tanh_feats.shape= torch.Size([450, 384])\n",
      "W_feat_ds.shape= torch.Size([450, 450])\n",
      "W_feat_hist_pearsoncorr.shape= torch.Size([450, 450])\n",
      "<class 'torch.Tensor'>\n"
     ]
    },
    {
     "name": "stderr",
     "output_type": "stream",
     "text": [
      " 88%|████████▊ | 879/1000 [24:41:14<3:30:34, 104.41s/it]"
     ]
    },
    {
     "name": "stdout",
     "output_type": "stream",
     "text": [
      "eigenvalues shape torch.Size([5]) eigenvectors shape torch.Size([5, 400])\n",
      "879 /home/phdcs2/Hard_Disk/Datasets/Deep-Spectral-Segmentation/data/object-segmentation/ECSSD/features/dino_vits16/0880.pth\n",
      "0880\n",
      "tanh_feats.shape= torch.Size([400, 384])\n"
     ]
    },
    {
     "name": "stderr",
     "output_type": "stream",
     "text": [
      " 88%|████████▊ | 880/1000 [24:42:36<3:15:31, 97.76s/it] "
     ]
    },
    {
     "name": "stdout",
     "output_type": "stream",
     "text": [
      "W_feat_ds.shape= torch.Size([400, 400])\n",
      "W_feat_hist_pearsoncorr.shape= torch.Size([400, 400])\n",
      "<class 'torch.Tensor'>\n",
      "eigenvalues shape torch.Size([5]) eigenvectors shape torch.Size([5, 400])\n",
      "880 /home/phdcs2/Hard_Disk/Datasets/Deep-Spectral-Segmentation/data/object-segmentation/ECSSD/features/dino_vits16/0881.pth\n",
      "0881\n",
      "tanh_feats.shape= torch.Size([400, 384])\n",
      "W_feat_ds.shape= torch.Size([400, 400])\n",
      "W_feat_hist_pearsoncorr.shape= torch.Size([400, 400])\n",
      "<class 'torch.Tensor'>\n"
     ]
    },
    {
     "name": "stderr",
     "output_type": "stream",
     "text": [
      " 88%|████████▊ | 881/1000 [24:43:59<3:05:03, 93.31s/it]"
     ]
    },
    {
     "name": "stdout",
     "output_type": "stream",
     "text": [
      "eigenvalues shape torch.Size([5]) eigenvectors shape torch.Size([5, 400])\n",
      "881 /home/phdcs2/Hard_Disk/Datasets/Deep-Spectral-Segmentation/data/object-segmentation/ECSSD/features/dino_vits16/0882.pth\n",
      "0882\n",
      "tanh_feats.shape= torch.Size([400, 384])\n"
     ]
    },
    {
     "name": "stderr",
     "output_type": "stream",
     "text": [
      " 88%|████████▊ | 882/1000 [24:45:20<2:56:28, 89.73s/it]"
     ]
    },
    {
     "name": "stdout",
     "output_type": "stream",
     "text": [
      "W_feat_ds.shape= torch.Size([400, 400])\n",
      "W_feat_hist_pearsoncorr.shape= torch.Size([400, 400])\n",
      "<class 'torch.Tensor'>\n",
      "eigenvalues shape torch.Size([5]) eigenvectors shape torch.Size([5, 400])\n",
      "882 /home/phdcs2/Hard_Disk/Datasets/Deep-Spectral-Segmentation/data/object-segmentation/ECSSD/features/dino_vits16/0883.pth\n",
      "0883\n",
      "tanh_feats.shape= torch.Size([450, 384])\n",
      "W_feat_ds.shape= torch.Size([450, 450])\n",
      "W_feat_hist_pearsoncorr.shape= torch.Size([450, 450])\n",
      "<class 'torch.Tensor'>\n"
     ]
    },
    {
     "name": "stderr",
     "output_type": "stream",
     "text": [
      " 88%|████████▊ | 883/1000 [24:47:05<3:03:38, 94.18s/it]"
     ]
    },
    {
     "name": "stdout",
     "output_type": "stream",
     "text": [
      "eigenvalues shape torch.Size([5]) eigenvectors shape torch.Size([5, 400])\n",
      "883 /home/phdcs2/Hard_Disk/Datasets/Deep-Spectral-Segmentation/data/object-segmentation/ECSSD/features/dino_vits16/0884.pth\n",
      "0884\n",
      "tanh_feats.shape= torch.Size([425, 384])\n",
      "W_feat_ds.shape= torch.Size([425, 425])\n",
      "W_feat_hist_pearsoncorr.shape= torch.Size([425, 425])\n",
      "<class 'torch.Tensor'>\n"
     ]
    },
    {
     "name": "stderr",
     "output_type": "stream",
     "text": [
      " 88%|████████▊ | 884/1000 [24:48:39<3:01:46, 94.02s/it]"
     ]
    },
    {
     "name": "stdout",
     "output_type": "stream",
     "text": [
      "eigenvalues shape torch.Size([5]) eigenvectors shape torch.Size([5, 400])\n",
      "884 /home/phdcs2/Hard_Disk/Datasets/Deep-Spectral-Segmentation/data/object-segmentation/ECSSD/features/dino_vits16/0885.pth\n",
      "0885\n",
      "tanh_feats.shape= torch.Size([400, 384])\n",
      "W_feat_ds.shape= torch.Size([400, 400])\n",
      "W_feat_hist_pearsoncorr.shape= torch.Size([400, 400])\n",
      "<class 'torch.Tensor'>\n"
     ]
    },
    {
     "name": "stderr",
     "output_type": "stream",
     "text": [
      " 88%|████████▊ | 885/1000 [24:50:01<2:53:26, 90.49s/it]"
     ]
    },
    {
     "name": "stdout",
     "output_type": "stream",
     "text": [
      "eigenvalues shape torch.Size([5]) eigenvectors shape torch.Size([5, 400])\n",
      "885 /home/phdcs2/Hard_Disk/Datasets/Deep-Spectral-Segmentation/data/object-segmentation/ECSSD/features/dino_vits16/0886.pth\n",
      "0886\n",
      "tanh_feats.shape= torch.Size([400, 384])\n",
      "W_feat_ds.shape= torch.Size([400, 400])\n",
      "W_feat_hist_pearsoncorr.shape= torch.Size([400, 400])\n",
      "<class 'torch.Tensor'>\n"
     ]
    },
    {
     "name": "stderr",
     "output_type": "stream",
     "text": [
      " 89%|████████▊ | 886/1000 [24:51:23<2:47:16, 88.04s/it]"
     ]
    },
    {
     "name": "stdout",
     "output_type": "stream",
     "text": [
      "eigenvalues shape torch.Size([5]) eigenvectors shape torch.Size([5, 400])\n",
      "886 /home/phdcs2/Hard_Disk/Datasets/Deep-Spectral-Segmentation/data/object-segmentation/ECSSD/features/dino_vits16/0887.pth\n",
      "0887\n",
      "tanh_feats.shape= torch.Size([375, 384])\n",
      "W_feat_ds.shape= torch.Size([375, 375])\n",
      "W_feat_hist_pearsoncorr.shape= torch.Size([375, 375])\n",
      "<class 'torch.Tensor'>\n"
     ]
    },
    {
     "name": "stderr",
     "output_type": "stream",
     "text": [
      " 89%|████████▊ | 887/1000 [24:52:36<2:37:14, 83.49s/it]"
     ]
    },
    {
     "name": "stdout",
     "output_type": "stream",
     "text": [
      "eigenvalues shape torch.Size([5]) eigenvectors shape torch.Size([5, 400])\n",
      "887 /home/phdcs2/Hard_Disk/Datasets/Deep-Spectral-Segmentation/data/object-segmentation/ECSSD/features/dino_vits16/0888.pth\n",
      "0888\n",
      "tanh_feats.shape= torch.Size([625, 384])\n",
      "W_feat_ds.shape= torch.Size([625, 625])\n",
      "W_feat_hist_pearsoncorr.shape= torch.Size([625, 625])\n",
      "<class 'torch.Tensor'>\n"
     ]
    },
    {
     "name": "stderr",
     "output_type": "stream",
     "text": [
      " 89%|████████▉ | 888/1000 [24:55:57<3:41:25, 118.62s/it]"
     ]
    },
    {
     "name": "stdout",
     "output_type": "stream",
     "text": [
      "eigenvalues shape torch.Size([5]) eigenvectors shape torch.Size([5, 400])\n",
      "888 /home/phdcs2/Hard_Disk/Datasets/Deep-Spectral-Segmentation/data/object-segmentation/ECSSD/features/dino_vits16/0889.pth\n",
      "0889\n",
      "tanh_feats.shape= torch.Size([450, 384])\n"
     ]
    },
    {
     "name": "stderr",
     "output_type": "stream",
     "text": [
      " 89%|████████▉ | 889/1000 [24:57:41<3:31:46, 114.47s/it]"
     ]
    },
    {
     "name": "stdout",
     "output_type": "stream",
     "text": [
      "W_feat_ds.shape= torch.Size([450, 450])\n",
      "W_feat_hist_pearsoncorr.shape= torch.Size([450, 450])\n",
      "<class 'torch.Tensor'>\n",
      "eigenvalues shape torch.Size([5]) eigenvectors shape torch.Size([5, 400])\n",
      "889 /home/phdcs2/Hard_Disk/Datasets/Deep-Spectral-Segmentation/data/object-segmentation/ECSSD/features/dino_vits16/0890.pth\n",
      "0890\n",
      "tanh_feats.shape= torch.Size([500, 384])\n",
      "W_feat_ds.shape= torch.Size([500, 500])\n",
      "W_feat_hist_pearsoncorr.shape= torch.Size([500, 500])\n",
      "<class 'torch.Tensor'>\n"
     ]
    },
    {
     "name": "stderr",
     "output_type": "stream",
     "text": [
      " 89%|████████▉ | 890/1000 [24:59:50<3:37:44, 118.76s/it]"
     ]
    },
    {
     "name": "stdout",
     "output_type": "stream",
     "text": [
      "eigenvalues shape torch.Size([5]) eigenvectors shape torch.Size([5, 400])\n",
      "890 /home/phdcs2/Hard_Disk/Datasets/Deep-Spectral-Segmentation/data/object-segmentation/ECSSD/features/dino_vits16/0891.pth\n",
      "0891\n",
      "tanh_feats.shape= torch.Size([400, 384])\n",
      "W_feat_ds.shape= torch.Size([400, 400])\n",
      "W_feat_hist_pearsoncorr.shape= torch.Size([400, 400])\n",
      "<class 'torch.Tensor'>\n"
     ]
    },
    {
     "name": "stderr",
     "output_type": "stream",
     "text": [
      " 89%|████████▉ | 891/1000 [25:01:13<3:16:15, 108.04s/it]"
     ]
    },
    {
     "name": "stdout",
     "output_type": "stream",
     "text": [
      "eigenvalues shape torch.Size([5]) eigenvectors shape torch.Size([5, 400])\n",
      "891 /home/phdcs2/Hard_Disk/Datasets/Deep-Spectral-Segmentation/data/object-segmentation/ECSSD/features/dino_vits16/0892.pth\n",
      "0892\n",
      "tanh_feats.shape= torch.Size([350, 384])\n",
      "W_feat_ds.shape= torch.Size([350, 350])\n",
      "W_feat_hist_pearsoncorr.shape= torch.Size([350, 350])\n",
      "<class 'torch.Tensor'>\n"
     ]
    },
    {
     "name": "stderr",
     "output_type": "stream",
     "text": [
      " 89%|████████▉ | 892/1000 [25:02:17<2:50:28, 94.71s/it] "
     ]
    },
    {
     "name": "stdout",
     "output_type": "stream",
     "text": [
      "eigenvalues shape torch.Size([5]) eigenvectors shape torch.Size([5, 400])\n",
      "892 /home/phdcs2/Hard_Disk/Datasets/Deep-Spectral-Segmentation/data/object-segmentation/ECSSD/features/dino_vits16/0893.pth\n",
      "0893\n",
      "tanh_feats.shape= torch.Size([400, 384])\n",
      "W_feat_ds.shape= torch.Size([400, 400])\n",
      "W_feat_hist_pearsoncorr.shape= torch.Size([400, 400])\n",
      "<class 'torch.Tensor'>\n"
     ]
    },
    {
     "name": "stderr",
     "output_type": "stream",
     "text": [
      " 89%|████████▉ | 893/1000 [25:03:39<2:42:23, 91.06s/it]"
     ]
    },
    {
     "name": "stdout",
     "output_type": "stream",
     "text": [
      "eigenvalues shape torch.Size([5]) eigenvectors shape torch.Size([5, 400])\n",
      "893 /home/phdcs2/Hard_Disk/Datasets/Deep-Spectral-Segmentation/data/object-segmentation/ECSSD/features/dino_vits16/0894.pth\n",
      "0894\n",
      "tanh_feats.shape= torch.Size([450, 384])\n",
      "W_feat_ds.shape= torch.Size([450, 450])\n",
      "W_feat_hist_pearsoncorr.shape= torch.Size([450, 450])\n",
      "<class 'torch.Tensor'>\n"
     ]
    },
    {
     "name": "stderr",
     "output_type": "stream",
     "text": [
      " 89%|████████▉ | 894/1000 [25:05:23<2:47:32, 94.84s/it]"
     ]
    },
    {
     "name": "stdout",
     "output_type": "stream",
     "text": [
      "eigenvalues shape torch.Size([5]) eigenvectors shape torch.Size([5, 400])\n",
      "894 /home/phdcs2/Hard_Disk/Datasets/Deep-Spectral-Segmentation/data/object-segmentation/ECSSD/features/dino_vits16/0895.pth\n",
      "0895\n",
      "tanh_feats.shape= torch.Size([450, 384])\n",
      "W_feat_ds.shape= torch.Size([450, 450])\n",
      "W_feat_hist_pearsoncorr.shape= torch.Size([450, 450])\n",
      "<class 'torch.Tensor'>\n"
     ]
    },
    {
     "name": "stderr",
     "output_type": "stream",
     "text": [
      " 90%|████████▉ | 895/1000 [25:07:08<2:51:02, 97.74s/it]"
     ]
    },
    {
     "name": "stdout",
     "output_type": "stream",
     "text": [
      "eigenvalues shape torch.Size([5]) eigenvectors shape torch.Size([5, 400])\n",
      "895 /home/phdcs2/Hard_Disk/Datasets/Deep-Spectral-Segmentation/data/object-segmentation/ECSSD/features/dino_vits16/0896.pth\n",
      "0896\n",
      "tanh_feats.shape= torch.Size([450, 384])\n",
      "W_feat_ds.shape= torch.Size([450, 450])\n",
      "W_feat_hist_pearsoncorr.shape= torch.Size([450, 450])\n",
      "<class 'torch.Tensor'>\n"
     ]
    },
    {
     "name": "stderr",
     "output_type": "stream",
     "text": [
      " 90%|████████▉ | 896/1000 [25:08:52<2:52:59, 99.80s/it]"
     ]
    },
    {
     "name": "stdout",
     "output_type": "stream",
     "text": [
      "eigenvalues shape torch.Size([5]) eigenvectors shape torch.Size([5, 400])\n",
      "896 /home/phdcs2/Hard_Disk/Datasets/Deep-Spectral-Segmentation/data/object-segmentation/ECSSD/features/dino_vits16/0897.pth\n",
      "0897\n",
      "tanh_feats.shape= torch.Size([325, 384])\n"
     ]
    },
    {
     "name": "stderr",
     "output_type": "stream",
     "text": [
      " 90%|████████▉ | 897/1000 [25:09:46<2:27:40, 86.02s/it]"
     ]
    },
    {
     "name": "stdout",
     "output_type": "stream",
     "text": [
      "W_feat_ds.shape= torch.Size([325, 325])\n",
      "W_feat_hist_pearsoncorr.shape= torch.Size([325, 325])\n",
      "<class 'torch.Tensor'>\n",
      "eigenvalues shape torch.Size([5]) eigenvectors shape torch.Size([5, 400])\n",
      "897 /home/phdcs2/Hard_Disk/Datasets/Deep-Spectral-Segmentation/data/object-segmentation/ECSSD/features/dino_vits16/0898.pth\n",
      "0898\n",
      "tanh_feats.shape= torch.Size([350, 384])\n",
      "W_feat_ds.shape= torch.Size([350, 350])\n",
      "W_feat_hist_pearsoncorr.shape= torch.Size([350, 350])\n",
      "<class 'torch.Tensor'>\n"
     ]
    },
    {
     "name": "stderr",
     "output_type": "stream",
     "text": [
      " 90%|████████▉ | 898/1000 [25:10:50<2:14:43, 79.25s/it]"
     ]
    },
    {
     "name": "stdout",
     "output_type": "stream",
     "text": [
      "eigenvalues shape torch.Size([5]) eigenvectors shape torch.Size([5, 400])\n",
      "898 /home/phdcs2/Hard_Disk/Datasets/Deep-Spectral-Segmentation/data/object-segmentation/ECSSD/features/dino_vits16/0899.pth\n",
      "0899\n",
      "tanh_feats.shape= torch.Size([450, 384])\n",
      "W_feat_ds.shape= torch.Size([450, 450])\n",
      "W_feat_hist_pearsoncorr.shape= torch.Size([450, 450])\n",
      "<class 'torch.Tensor'>\n"
     ]
    },
    {
     "name": "stderr",
     "output_type": "stream",
     "text": [
      " 90%|████████▉ | 899/1000 [25:12:33<2:25:38, 86.52s/it]"
     ]
    },
    {
     "name": "stdout",
     "output_type": "stream",
     "text": [
      "eigenvalues shape torch.Size([5]) eigenvectors shape torch.Size([5, 400])\n",
      "899 /home/phdcs2/Hard_Disk/Datasets/Deep-Spectral-Segmentation/data/object-segmentation/ECSSD/features/dino_vits16/0900.pth\n",
      "0900\n",
      "tanh_feats.shape= torch.Size([400, 384])\n"
     ]
    },
    {
     "name": "stderr",
     "output_type": "stream",
     "text": [
      " 90%|█████████ | 900/1000 [25:13:55<2:21:46, 85.07s/it]"
     ]
    },
    {
     "name": "stdout",
     "output_type": "stream",
     "text": [
      "W_feat_ds.shape= torch.Size([400, 400])\n",
      "W_feat_hist_pearsoncorr.shape= torch.Size([400, 400])\n",
      "<class 'torch.Tensor'>\n",
      "eigenvalues shape torch.Size([5]) eigenvectors shape torch.Size([5, 400])\n",
      "900 /home/phdcs2/Hard_Disk/Datasets/Deep-Spectral-Segmentation/data/object-segmentation/ECSSD/features/dino_vits16/0901.pth\n",
      "0901\n",
      "tanh_feats.shape= torch.Size([400, 384])\n",
      "W_feat_ds.shape= torch.Size([400, 400])\n",
      "W_feat_hist_pearsoncorr.shape= torch.Size([400, 400])\n",
      "<class 'torch.Tensor'>\n"
     ]
    },
    {
     "name": "stderr",
     "output_type": "stream",
     "text": [
      " 90%|█████████ | 901/1000 [25:15:17<2:18:46, 84.11s/it]"
     ]
    },
    {
     "name": "stdout",
     "output_type": "stream",
     "text": [
      "eigenvalues shape torch.Size([5]) eigenvectors shape torch.Size([5, 400])\n",
      "901 /home/phdcs2/Hard_Disk/Datasets/Deep-Spectral-Segmentation/data/object-segmentation/ECSSD/features/dino_vits16/0902.pth\n",
      "0902\n",
      "tanh_feats.shape= torch.Size([450, 384])\n",
      "W_feat_ds.shape= torch.Size([450, 450])\n",
      "W_feat_hist_pearsoncorr.shape= torch.Size([450, 450])\n",
      "<class 'torch.Tensor'>\n"
     ]
    },
    {
     "name": "stderr",
     "output_type": "stream",
     "text": [
      " 90%|█████████ | 902/1000 [25:17:01<2:27:33, 90.34s/it]"
     ]
    },
    {
     "name": "stdout",
     "output_type": "stream",
     "text": [
      "eigenvalues shape torch.Size([5]) eigenvectors shape torch.Size([5, 400])\n",
      "902 /home/phdcs2/Hard_Disk/Datasets/Deep-Spectral-Segmentation/data/object-segmentation/ECSSD/features/dino_vits16/0903.pth\n",
      "0903\n",
      "tanh_feats.shape= torch.Size([500, 384])\n",
      "W_feat_ds.shape= torch.Size([500, 500])\n",
      "W_feat_hist_pearsoncorr.shape= torch.Size([500, 500])\n",
      "<class 'torch.Tensor'>\n"
     ]
    },
    {
     "name": "stderr",
     "output_type": "stream",
     "text": [
      " 90%|█████████ | 903/1000 [25:19:10<2:44:27, 101.73s/it]"
     ]
    },
    {
     "name": "stdout",
     "output_type": "stream",
     "text": [
      "eigenvalues shape torch.Size([5]) eigenvectors shape torch.Size([5, 400])\n",
      "903 /home/phdcs2/Hard_Disk/Datasets/Deep-Spectral-Segmentation/data/object-segmentation/ECSSD/features/dino_vits16/0904.pth\n",
      "0904\n",
      "tanh_feats.shape= torch.Size([375, 384])\n",
      "W_feat_ds.shape= torch.Size([375, 375])\n",
      "W_feat_hist_pearsoncorr.shape= torch.Size([375, 375])\n",
      "<class 'torch.Tensor'>\n"
     ]
    },
    {
     "name": "stderr",
     "output_type": "stream",
     "text": [
      " 90%|█████████ | 904/1000 [25:20:22<2:28:38, 92.91s/it] "
     ]
    },
    {
     "name": "stdout",
     "output_type": "stream",
     "text": [
      "eigenvalues shape torch.Size([5]) eigenvectors shape torch.Size([5, 400])\n",
      "904 /home/phdcs2/Hard_Disk/Datasets/Deep-Spectral-Segmentation/data/object-segmentation/ECSSD/features/dino_vits16/0905.pth\n",
      "0905\n",
      "tanh_feats.shape= torch.Size([400, 384])\n"
     ]
    },
    {
     "name": "stderr",
     "output_type": "stream",
     "text": [
      " 90%|█████████ | 905/1000 [25:21:46<2:22:52, 90.24s/it]"
     ]
    },
    {
     "name": "stdout",
     "output_type": "stream",
     "text": [
      "W_feat_ds.shape= torch.Size([400, 400])\n",
      "W_feat_hist_pearsoncorr.shape= torch.Size([400, 400])\n",
      "<class 'torch.Tensor'>\n",
      "eigenvalues shape torch.Size([5]) eigenvectors shape torch.Size([5, 400])\n",
      "905 /home/phdcs2/Hard_Disk/Datasets/Deep-Spectral-Segmentation/data/object-segmentation/ECSSD/features/dino_vits16/0906.pth\n",
      "0906\n",
      "tanh_feats.shape= torch.Size([350, 384])\n",
      "W_feat_ds.shape= torch.Size([350, 350])\n",
      "W_feat_hist_pearsoncorr.shape= torch.Size([350, 350])\n",
      "<class 'torch.Tensor'>\n"
     ]
    },
    {
     "name": "stderr",
     "output_type": "stream",
     "text": [
      " 91%|█████████ | 906/1000 [25:22:49<2:08:38, 82.11s/it]"
     ]
    },
    {
     "name": "stdout",
     "output_type": "stream",
     "text": [
      "eigenvalues shape torch.Size([5]) eigenvectors shape torch.Size([5, 400])\n",
      "906 /home/phdcs2/Hard_Disk/Datasets/Deep-Spectral-Segmentation/data/object-segmentation/ECSSD/features/dino_vits16/0907.pth\n",
      "0907\n",
      "tanh_feats.shape= torch.Size([400, 384])\n",
      "W_feat_ds.shape= torch.Size([400, 400])\n",
      "W_feat_hist_pearsoncorr.shape= torch.Size([400, 400])\n",
      "<class 'torch.Tensor'>\n"
     ]
    },
    {
     "name": "stderr",
     "output_type": "stream",
     "text": [
      " 91%|█████████ | 907/1000 [25:24:12<2:07:32, 82.29s/it]"
     ]
    },
    {
     "name": "stdout",
     "output_type": "stream",
     "text": [
      "eigenvalues shape torch.Size([5]) eigenvectors shape torch.Size([5, 400])\n",
      "907 /home/phdcs2/Hard_Disk/Datasets/Deep-Spectral-Segmentation/data/object-segmentation/ECSSD/features/dino_vits16/0908.pth\n",
      "0908\n",
      "tanh_feats.shape= torch.Size([400, 384])\n",
      "W_feat_ds.shape= torch.Size([400, 400])\n",
      "W_feat_hist_pearsoncorr.shape= torch.Size([400, 400])\n",
      "<class 'torch.Tensor'>\n"
     ]
    },
    {
     "name": "stderr",
     "output_type": "stream",
     "text": [
      " 91%|█████████ | 908/1000 [25:25:35<2:06:32, 82.53s/it]"
     ]
    },
    {
     "name": "stdout",
     "output_type": "stream",
     "text": [
      "eigenvalues shape torch.Size([5]) eigenvectors shape torch.Size([5, 400])\n",
      "908 /home/phdcs2/Hard_Disk/Datasets/Deep-Spectral-Segmentation/data/object-segmentation/ECSSD/features/dino_vits16/0909.pth\n",
      "0909\n",
      "tanh_feats.shape= torch.Size([400, 384])\n"
     ]
    },
    {
     "name": "stderr",
     "output_type": "stream",
     "text": [
      " 91%|█████████ | 909/1000 [25:26:58<2:05:22, 82.66s/it]"
     ]
    },
    {
     "name": "stdout",
     "output_type": "stream",
     "text": [
      "W_feat_ds.shape= torch.Size([400, 400])\n",
      "W_feat_hist_pearsoncorr.shape= torch.Size([400, 400])\n",
      "<class 'torch.Tensor'>\n",
      "eigenvalues shape torch.Size([5]) eigenvectors shape torch.Size([5, 400])\n",
      "909 /home/phdcs2/Hard_Disk/Datasets/Deep-Spectral-Segmentation/data/object-segmentation/ECSSD/features/dino_vits16/0910.pth\n",
      "0910\n",
      "tanh_feats.shape= torch.Size([400, 384])\n",
      "W_feat_ds.shape= torch.Size([400, 400])\n",
      "W_feat_hist_pearsoncorr.shape= torch.Size([400, 400])\n",
      "<class 'torch.Tensor'>\n"
     ]
    },
    {
     "name": "stderr",
     "output_type": "stream",
     "text": [
      " 91%|█████████ | 910/1000 [25:28:21<2:03:56, 82.62s/it]"
     ]
    },
    {
     "name": "stdout",
     "output_type": "stream",
     "text": [
      "eigenvalues shape torch.Size([5]) eigenvectors shape torch.Size([5, 400])\n",
      "910 /home/phdcs2/Hard_Disk/Datasets/Deep-Spectral-Segmentation/data/object-segmentation/ECSSD/features/dino_vits16/0911.pth\n",
      "0911\n",
      "tanh_feats.shape= torch.Size([625, 384])\n",
      "W_feat_ds.shape= torch.Size([625, 625])\n",
      "W_feat_hist_pearsoncorr.shape= torch.Size([625, 625])\n",
      "<class 'torch.Tensor'>\n"
     ]
    },
    {
     "name": "stderr",
     "output_type": "stream",
     "text": [
      " 91%|█████████ | 911/1000 [25:31:42<2:55:17, 118.18s/it]"
     ]
    },
    {
     "name": "stdout",
     "output_type": "stream",
     "text": [
      "eigenvalues shape torch.Size([5]) eigenvectors shape torch.Size([5, 400])\n",
      "911 /home/phdcs2/Hard_Disk/Datasets/Deep-Spectral-Segmentation/data/object-segmentation/ECSSD/features/dino_vits16/0912.pth\n",
      "0912\n",
      "tanh_feats.shape= torch.Size([450, 384])\n",
      "W_feat_ds.shape= torch.Size([450, 450])\n",
      "W_feat_hist_pearsoncorr.shape= torch.Size([450, 450])\n",
      "<class 'torch.Tensor'>\n"
     ]
    },
    {
     "name": "stderr",
     "output_type": "stream",
     "text": [
      " 91%|█████████ | 912/1000 [25:33:26<2:47:27, 114.18s/it]"
     ]
    },
    {
     "name": "stdout",
     "output_type": "stream",
     "text": [
      "eigenvalues shape torch.Size([5]) eigenvectors shape torch.Size([5, 400])\n",
      "912 /home/phdcs2/Hard_Disk/Datasets/Deep-Spectral-Segmentation/data/object-segmentation/ECSSD/features/dino_vits16/0913.pth\n",
      "0913\n",
      "tanh_feats.shape= torch.Size([400, 384])\n",
      "W_feat_ds.shape= torch.Size([400, 400])\n",
      "W_feat_hist_pearsoncorr.shape= torch.Size([400, 400])\n",
      "<class 'torch.Tensor'>\n"
     ]
    },
    {
     "name": "stderr",
     "output_type": "stream",
     "text": [
      " 91%|█████████▏| 913/1000 [25:34:49<2:31:37, 104.57s/it]"
     ]
    },
    {
     "name": "stdout",
     "output_type": "stream",
     "text": [
      "eigenvalues shape torch.Size([5]) eigenvectors shape torch.Size([5, 400])\n",
      "913 /home/phdcs2/Hard_Disk/Datasets/Deep-Spectral-Segmentation/data/object-segmentation/ECSSD/features/dino_vits16/0914.pth\n",
      "0914\n",
      "tanh_feats.shape= torch.Size([450, 384])\n",
      "W_feat_ds.shape= torch.Size([450, 450])\n",
      "W_feat_hist_pearsoncorr.shape= torch.Size([450, 450])\n",
      "<class 'torch.Tensor'>\n"
     ]
    },
    {
     "name": "stderr",
     "output_type": "stream",
     "text": [
      " 91%|█████████▏| 914/1000 [25:36:32<2:29:29, 104.30s/it]"
     ]
    },
    {
     "name": "stdout",
     "output_type": "stream",
     "text": [
      "eigenvalues shape torch.Size([5]) eigenvectors shape torch.Size([5, 400])\n",
      "914 /home/phdcs2/Hard_Disk/Datasets/Deep-Spectral-Segmentation/data/object-segmentation/ECSSD/features/dino_vits16/0915.pth\n",
      "0915\n",
      "tanh_feats.shape= torch.Size([300, 384])\n",
      "W_feat_ds.shape= torch.Size([300, 300])\n",
      "W_feat_hist_pearsoncorr.shape= torch.Size([300, 300])\n",
      "<class 'torch.Tensor'>\n"
     ]
    },
    {
     "name": "stderr",
     "output_type": "stream",
     "text": [
      " 92%|█████████▏| 915/1000 [25:37:21<2:03:56, 87.49s/it] "
     ]
    },
    {
     "name": "stdout",
     "output_type": "stream",
     "text": [
      "eigenvalues shape torch.Size([5]) eigenvectors shape torch.Size([5, 400])\n",
      "915 /home/phdcs2/Hard_Disk/Datasets/Deep-Spectral-Segmentation/data/object-segmentation/ECSSD/features/dino_vits16/0916.pth\n",
      "0916\n",
      "tanh_feats.shape= torch.Size([450, 384])\n"
     ]
    },
    {
     "name": "stderr",
     "output_type": "stream",
     "text": [
      " 92%|█████████▏| 916/1000 [25:39:05<2:09:32, 92.53s/it]"
     ]
    },
    {
     "name": "stdout",
     "output_type": "stream",
     "text": [
      "W_feat_ds.shape= torch.Size([450, 450])\n",
      "W_feat_hist_pearsoncorr.shape= torch.Size([450, 450])\n",
      "<class 'torch.Tensor'>\n",
      "eigenvalues shape torch.Size([5]) eigenvectors shape torch.Size([5, 400])\n",
      "916 /home/phdcs2/Hard_Disk/Datasets/Deep-Spectral-Segmentation/data/object-segmentation/ECSSD/features/dino_vits16/0917.pth\n",
      "0917\n",
      "tanh_feats.shape= torch.Size([425, 384])\n",
      "W_feat_ds.shape= torch.Size([425, 425])\n",
      "W_feat_hist_pearsoncorr.shape= torch.Size([425, 425])\n",
      "<class 'torch.Tensor'>\n"
     ]
    },
    {
     "name": "stderr",
     "output_type": "stream",
     "text": [
      " 92%|█████████▏| 917/1000 [25:40:38<2:08:19, 92.76s/it]"
     ]
    },
    {
     "name": "stdout",
     "output_type": "stream",
     "text": [
      "eigenvalues shape torch.Size([5]) eigenvectors shape torch.Size([5, 400])\n",
      "917 /home/phdcs2/Hard_Disk/Datasets/Deep-Spectral-Segmentation/data/object-segmentation/ECSSD/features/dino_vits16/0918.pth\n",
      "0918\n",
      "tanh_feats.shape= torch.Size([450, 384])\n",
      "W_feat_ds.shape= torch.Size([450, 450])\n",
      "W_feat_hist_pearsoncorr.shape= torch.Size([450, 450])\n",
      "<class 'torch.Tensor'>\n"
     ]
    },
    {
     "name": "stderr",
     "output_type": "stream",
     "text": [
      " 92%|█████████▏| 918/1000 [25:42:23<2:11:43, 96.38s/it]"
     ]
    },
    {
     "name": "stdout",
     "output_type": "stream",
     "text": [
      "eigenvalues shape torch.Size([5]) eigenvectors shape torch.Size([5, 400])\n",
      "918 /home/phdcs2/Hard_Disk/Datasets/Deep-Spectral-Segmentation/data/object-segmentation/ECSSD/features/dino_vits16/0919.pth\n",
      "0919\n",
      "tanh_feats.shape= torch.Size([450, 384])\n"
     ]
    },
    {
     "name": "stderr",
     "output_type": "stream",
     "text": [
      " 92%|█████████▏| 919/1000 [25:44:07<2:13:19, 98.76s/it]"
     ]
    },
    {
     "name": "stdout",
     "output_type": "stream",
     "text": [
      "W_feat_ds.shape= torch.Size([450, 450])\n",
      "W_feat_hist_pearsoncorr.shape= torch.Size([450, 450])\n",
      "<class 'torch.Tensor'>\n",
      "eigenvalues shape torch.Size([5]) eigenvectors shape torch.Size([5, 400])\n",
      "919 /home/phdcs2/Hard_Disk/Datasets/Deep-Spectral-Segmentation/data/object-segmentation/ECSSD/features/dino_vits16/0920.pth\n",
      "0920\n",
      "tanh_feats.shape= torch.Size([400, 384])\n",
      "W_feat_ds.shape= torch.Size([400, 400])\n",
      "W_feat_hist_pearsoncorr.shape= torch.Size([400, 400])\n",
      "<class 'torch.Tensor'>\n"
     ]
    },
    {
     "name": "stderr",
     "output_type": "stream",
     "text": [
      " 92%|█████████▏| 920/1000 [25:45:30<2:05:23, 94.05s/it]"
     ]
    },
    {
     "name": "stdout",
     "output_type": "stream",
     "text": [
      "eigenvalues shape torch.Size([5]) eigenvectors shape torch.Size([5, 400])\n",
      "920 /home/phdcs2/Hard_Disk/Datasets/Deep-Spectral-Segmentation/data/object-segmentation/ECSSD/features/dino_vits16/0921.pth\n",
      "0921\n",
      "tanh_feats.shape= torch.Size([400, 384])\n"
     ]
    },
    {
     "name": "stderr",
     "output_type": "stream",
     "text": [
      " 92%|█████████▏| 921/1000 [25:46:53<1:59:10, 90.51s/it]"
     ]
    },
    {
     "name": "stdout",
     "output_type": "stream",
     "text": [
      "W_feat_ds.shape= torch.Size([400, 400])\n",
      "W_feat_hist_pearsoncorr.shape= torch.Size([400, 400])\n",
      "<class 'torch.Tensor'>\n",
      "eigenvalues shape torch.Size([5]) eigenvectors shape torch.Size([5, 400])\n",
      "921 /home/phdcs2/Hard_Disk/Datasets/Deep-Spectral-Segmentation/data/object-segmentation/ECSSD/features/dino_vits16/0922.pth\n",
      "0922\n",
      "tanh_feats.shape= torch.Size([350, 384])\n",
      "W_feat_ds.shape= torch.Size([350, 350])\n",
      "W_feat_hist_pearsoncorr.shape= torch.Size([350, 350])\n",
      "<class 'torch.Tensor'>\n"
     ]
    },
    {
     "name": "stderr",
     "output_type": "stream",
     "text": [
      " 92%|█████████▏| 922/1000 [25:47:56<1:46:55, 82.25s/it]"
     ]
    },
    {
     "name": "stdout",
     "output_type": "stream",
     "text": [
      "eigenvalues shape torch.Size([5]) eigenvectors shape torch.Size([5, 400])\n",
      "922 /home/phdcs2/Hard_Disk/Datasets/Deep-Spectral-Segmentation/data/object-segmentation/ECSSD/features/dino_vits16/0923.pth\n",
      "0923\n",
      "tanh_feats.shape= torch.Size([400, 384])\n",
      "W_feat_ds.shape= torch.Size([400, 400])\n",
      "W_feat_hist_pearsoncorr.shape= torch.Size([400, 400])\n",
      "<class 'torch.Tensor'>\n"
     ]
    },
    {
     "name": "stderr",
     "output_type": "stream",
     "text": [
      " 92%|█████████▏| 923/1000 [25:49:18<1:45:39, 82.33s/it]"
     ]
    },
    {
     "name": "stdout",
     "output_type": "stream",
     "text": [
      "eigenvalues shape torch.Size([5]) eigenvectors shape torch.Size([5, 400])\n",
      "923 /home/phdcs2/Hard_Disk/Datasets/Deep-Spectral-Segmentation/data/object-segmentation/ECSSD/features/dino_vits16/0924.pth\n",
      "0924\n",
      "tanh_feats.shape= torch.Size([450, 384])\n",
      "W_feat_ds.shape= torch.Size([450, 450])\n",
      "W_feat_hist_pearsoncorr.shape= torch.Size([450, 450])\n",
      "<class 'torch.Tensor'>\n"
     ]
    },
    {
     "name": "stderr",
     "output_type": "stream",
     "text": [
      " 92%|█████████▏| 924/1000 [25:51:02<1:52:34, 88.87s/it]"
     ]
    },
    {
     "name": "stdout",
     "output_type": "stream",
     "text": [
      "eigenvalues shape torch.Size([5]) eigenvectors shape torch.Size([5, 400])\n",
      "924 /home/phdcs2/Hard_Disk/Datasets/Deep-Spectral-Segmentation/data/object-segmentation/ECSSD/features/dino_vits16/0925.pth\n",
      "0925\n",
      "tanh_feats.shape= torch.Size([450, 384])\n",
      "W_feat_ds.shape= torch.Size([450, 450])\n",
      "W_feat_hist_pearsoncorr.shape= torch.Size([450, 450])\n",
      "<class 'torch.Tensor'>\n"
     ]
    },
    {
     "name": "stderr",
     "output_type": "stream",
     "text": [
      " 92%|█████████▎| 925/1000 [25:52:47<1:57:06, 93.69s/it]"
     ]
    },
    {
     "name": "stdout",
     "output_type": "stream",
     "text": [
      "eigenvalues shape torch.Size([5]) eigenvectors shape torch.Size([5, 400])\n",
      "925 /home/phdcs2/Hard_Disk/Datasets/Deep-Spectral-Segmentation/data/object-segmentation/ECSSD/features/dino_vits16/0926.pth\n",
      "0926\n",
      "tanh_feats.shape= torch.Size([400, 384])\n",
      "W_feat_ds.shape= torch.Size([400, 400])\n",
      "W_feat_hist_pearsoncorr.shape= torch.Size([400, 400])\n",
      "<class 'torch.Tensor'>\n"
     ]
    },
    {
     "name": "stderr",
     "output_type": "stream",
     "text": [
      " 93%|█████████▎| 926/1000 [25:54:09<1:51:18, 90.26s/it]"
     ]
    },
    {
     "name": "stdout",
     "output_type": "stream",
     "text": [
      "eigenvalues shape torch.Size([5]) eigenvectors shape torch.Size([5, 400])\n",
      "926 /home/phdcs2/Hard_Disk/Datasets/Deep-Spectral-Segmentation/data/object-segmentation/ECSSD/features/dino_vits16/0927.pth\n",
      "0927\n",
      "tanh_feats.shape= torch.Size([450, 384])\n",
      "W_feat_ds.shape= torch.Size([450, 450])\n",
      "W_feat_hist_pearsoncorr.shape= torch.Size([450, 450])\n",
      "<class 'torch.Tensor'>\n"
     ]
    },
    {
     "name": "stderr",
     "output_type": "stream",
     "text": [
      " 93%|█████████▎| 927/1000 [25:55:54<1:54:55, 94.45s/it]"
     ]
    },
    {
     "name": "stdout",
     "output_type": "stream",
     "text": [
      "eigenvalues shape torch.Size([5]) eigenvectors shape torch.Size([5, 400])\n",
      "927 /home/phdcs2/Hard_Disk/Datasets/Deep-Spectral-Segmentation/data/object-segmentation/ECSSD/features/dino_vits16/0928.pth\n",
      "0928\n",
      "tanh_feats.shape= torch.Size([450, 384])\n",
      "W_feat_ds.shape= torch.Size([450, 450])\n",
      "W_feat_hist_pearsoncorr.shape= torch.Size([450, 450])\n",
      "<class 'torch.Tensor'>\n"
     ]
    },
    {
     "name": "stderr",
     "output_type": "stream",
     "text": [
      " 93%|█████████▎| 928/1000 [25:57:38<1:57:02, 97.54s/it]"
     ]
    },
    {
     "name": "stdout",
     "output_type": "stream",
     "text": [
      "eigenvalues shape torch.Size([5]) eigenvectors shape torch.Size([5, 400])\n",
      "928 /home/phdcs2/Hard_Disk/Datasets/Deep-Spectral-Segmentation/data/object-segmentation/ECSSD/features/dino_vits16/0929.pth\n",
      "0929\n",
      "tanh_feats.shape= torch.Size([450, 384])\n"
     ]
    },
    {
     "name": "stderr",
     "output_type": "stream",
     "text": [
      " 93%|█████████▎| 929/1000 [25:59:23<1:58:01, 99.74s/it]"
     ]
    },
    {
     "name": "stdout",
     "output_type": "stream",
     "text": [
      "W_feat_ds.shape= torch.Size([450, 450])\n",
      "W_feat_hist_pearsoncorr.shape= torch.Size([450, 450])\n",
      "<class 'torch.Tensor'>\n",
      "eigenvalues shape torch.Size([5]) eigenvectors shape torch.Size([5, 400])\n",
      "929 /home/phdcs2/Hard_Disk/Datasets/Deep-Spectral-Segmentation/data/object-segmentation/ECSSD/features/dino_vits16/0930.pth\n",
      "0930\n",
      "tanh_feats.shape= torch.Size([450, 384])\n",
      "W_feat_ds.shape= torch.Size([450, 450])\n",
      "W_feat_hist_pearsoncorr.shape= torch.Size([450, 450])\n",
      "<class 'torch.Tensor'>\n"
     ]
    },
    {
     "name": "stderr",
     "output_type": "stream",
     "text": [
      " 93%|█████████▎| 930/1000 [26:01:08<1:58:08, 101.26s/it]"
     ]
    },
    {
     "name": "stdout",
     "output_type": "stream",
     "text": [
      "eigenvalues shape torch.Size([5]) eigenvectors shape torch.Size([5, 400])\n",
      "930 /home/phdcs2/Hard_Disk/Datasets/Deep-Spectral-Segmentation/data/object-segmentation/ECSSD/features/dino_vits16/0931.pth\n",
      "0931\n",
      "tanh_feats.shape= torch.Size([525, 384])\n"
     ]
    },
    {
     "name": "stderr",
     "output_type": "stream",
     "text": [
      " 93%|█████████▎| 931/1000 [26:03:29<2:10:05, 113.12s/it]"
     ]
    },
    {
     "name": "stdout",
     "output_type": "stream",
     "text": [
      "W_feat_ds.shape= torch.Size([525, 525])\n",
      "W_feat_hist_pearsoncorr.shape= torch.Size([525, 525])\n",
      "<class 'torch.Tensor'>\n",
      "eigenvalues shape torch.Size([5]) eigenvectors shape torch.Size([5, 400])\n",
      "931 /home/phdcs2/Hard_Disk/Datasets/Deep-Spectral-Segmentation/data/object-segmentation/ECSSD/features/dino_vits16/0932.pth\n",
      "0932\n",
      "tanh_feats.shape= torch.Size([475, 384])\n",
      "W_feat_ds.shape= torch.Size([475, 475])\n",
      "W_feat_hist_pearsoncorr.shape= torch.Size([475, 475])\n",
      "<class 'torch.Tensor'>\n"
     ]
    },
    {
     "name": "stderr",
     "output_type": "stream",
     "text": [
      " 93%|█████████▎| 932/1000 [26:05:23<2:08:37, 113.49s/it]"
     ]
    },
    {
     "name": "stdout",
     "output_type": "stream",
     "text": [
      "eigenvalues shape torch.Size([5]) eigenvectors shape torch.Size([5, 400])\n",
      "932 /home/phdcs2/Hard_Disk/Datasets/Deep-Spectral-Segmentation/data/object-segmentation/ECSSD/features/dino_vits16/0933.pth\n",
      "0933\n",
      "tanh_feats.shape= torch.Size([425, 384])\n",
      "W_feat_ds.shape= torch.Size([425, 425])\n",
      "W_feat_hist_pearsoncorr.shape= torch.Size([425, 425])\n",
      "<class 'torch.Tensor'>\n",
      "eigenvalues shape torch.Size([5]) eigenvectors shape torch.Size([5, 400])\n"
     ]
    },
    {
     "name": "stderr",
     "output_type": "stream",
     "text": [
      " 93%|█████████▎| 933/1000 [26:06:55<1:59:36, 107.11s/it]"
     ]
    },
    {
     "name": "stdout",
     "output_type": "stream",
     "text": [
      "933 /home/phdcs2/Hard_Disk/Datasets/Deep-Spectral-Segmentation/data/object-segmentation/ECSSD/features/dino_vits16/0934.pth\n",
      "0934\n",
      "tanh_feats.shape= torch.Size([450, 384])\n",
      "W_feat_ds.shape= torch.Size([450, 450])\n",
      "W_feat_hist_pearsoncorr.shape= torch.Size([450, 450])\n",
      "<class 'torch.Tensor'>\n"
     ]
    },
    {
     "name": "stderr",
     "output_type": "stream",
     "text": [
      " 93%|█████████▎| 934/1000 [26:08:39<1:56:42, 106.10s/it]"
     ]
    },
    {
     "name": "stdout",
     "output_type": "stream",
     "text": [
      "eigenvalues shape torch.Size([5]) eigenvectors shape torch.Size([5, 400])\n",
      "934 /home/phdcs2/Hard_Disk/Datasets/Deep-Spectral-Segmentation/data/object-segmentation/ECSSD/features/dino_vits16/0935.pth\n",
      "0935\n",
      "tanh_feats.shape= torch.Size([450, 384])\n",
      "W_feat_ds.shape= torch.Size([450, 450])\n",
      "W_feat_hist_pearsoncorr.shape= torch.Size([450, 450])\n",
      "<class 'torch.Tensor'>\n"
     ]
    },
    {
     "name": "stderr",
     "output_type": "stream",
     "text": [
      " 94%|█████████▎| 935/1000 [26:10:24<1:54:24, 105.61s/it]"
     ]
    },
    {
     "name": "stdout",
     "output_type": "stream",
     "text": [
      "eigenvalues shape torch.Size([5]) eigenvectors shape torch.Size([5, 400])\n",
      "935 /home/phdcs2/Hard_Disk/Datasets/Deep-Spectral-Segmentation/data/object-segmentation/ECSSD/features/dino_vits16/0936.pth\n",
      "0936\n",
      "tanh_feats.shape= torch.Size([450, 384])\n",
      "W_feat_ds.shape= torch.Size([450, 450])\n",
      "W_feat_hist_pearsoncorr.shape= torch.Size([450, 450])\n",
      "<class 'torch.Tensor'>\n"
     ]
    },
    {
     "name": "stderr",
     "output_type": "stream",
     "text": [
      " 94%|█████████▎| 936/1000 [26:12:08<1:52:08, 105.14s/it]"
     ]
    },
    {
     "name": "stdout",
     "output_type": "stream",
     "text": [
      "eigenvalues shape torch.Size([5]) eigenvectors shape torch.Size([5, 400])\n",
      "936 /home/phdcs2/Hard_Disk/Datasets/Deep-Spectral-Segmentation/data/object-segmentation/ECSSD/features/dino_vits16/0937.pth\n",
      "0937\n",
      "tanh_feats.shape= torch.Size([450, 384])\n",
      "W_feat_ds.shape= torch.Size([450, 450])\n",
      "W_feat_hist_pearsoncorr.shape= torch.Size([450, 450])\n",
      "<class 'torch.Tensor'>\n"
     ]
    },
    {
     "name": "stderr",
     "output_type": "stream",
     "text": [
      " 94%|█████████▎| 937/1000 [26:13:50<1:49:35, 104.37s/it]"
     ]
    },
    {
     "name": "stdout",
     "output_type": "stream",
     "text": [
      "eigenvalues shape torch.Size([5]) eigenvectors shape torch.Size([5, 400])\n",
      "937 /home/phdcs2/Hard_Disk/Datasets/Deep-Spectral-Segmentation/data/object-segmentation/ECSSD/features/dino_vits16/0938.pth\n",
      "0938\n",
      "tanh_feats.shape= torch.Size([400, 384])\n",
      "W_feat_ds.shape= torch.Size([400, 400])\n",
      "W_feat_hist_pearsoncorr.shape= torch.Size([400, 400])\n",
      "<class 'torch.Tensor'>\n"
     ]
    },
    {
     "name": "stderr",
     "output_type": "stream",
     "text": [
      " 94%|█████████▍| 938/1000 [26:15:16<1:42:07, 98.83s/it] "
     ]
    },
    {
     "name": "stdout",
     "output_type": "stream",
     "text": [
      "eigenvalues shape torch.Size([5]) eigenvectors shape torch.Size([5, 400])\n",
      "938 /home/phdcs2/Hard_Disk/Datasets/Deep-Spectral-Segmentation/data/object-segmentation/ECSSD/features/dino_vits16/0939.pth\n",
      "0939\n",
      "tanh_feats.shape= torch.Size([500, 384])\n",
      "W_feat_ds.shape= torch.Size([500, 500])\n",
      "W_feat_hist_pearsoncorr.shape= torch.Size([500, 500])\n",
      "<class 'torch.Tensor'>\n"
     ]
    },
    {
     "name": "stderr",
     "output_type": "stream",
     "text": [
      " 94%|█████████▍| 939/1000 [26:17:24<1:49:26, 107.64s/it]"
     ]
    },
    {
     "name": "stdout",
     "output_type": "stream",
     "text": [
      "eigenvalues shape torch.Size([5]) eigenvectors shape torch.Size([5, 400])\n",
      "939 /home/phdcs2/Hard_Disk/Datasets/Deep-Spectral-Segmentation/data/object-segmentation/ECSSD/features/dino_vits16/0940.pth\n",
      "0940\n",
      "tanh_feats.shape= torch.Size([400, 384])\n",
      "W_feat_ds.shape= torch.Size([400, 400])\n",
      "W_feat_hist_pearsoncorr.shape= torch.Size([400, 400])\n",
      "<class 'torch.Tensor'>\n"
     ]
    },
    {
     "name": "stderr",
     "output_type": "stream",
     "text": [
      " 94%|█████████▍| 940/1000 [26:18:47<1:40:01, 100.02s/it]"
     ]
    },
    {
     "name": "stdout",
     "output_type": "stream",
     "text": [
      "eigenvalues shape torch.Size([5]) eigenvectors shape torch.Size([5, 400])\n",
      "940 /home/phdcs2/Hard_Disk/Datasets/Deep-Spectral-Segmentation/data/object-segmentation/ECSSD/features/dino_vits16/0941.pth\n",
      "0941\n",
      "tanh_feats.shape= torch.Size([400, 384])\n"
     ]
    },
    {
     "name": "stderr",
     "output_type": "stream",
     "text": [
      " 94%|█████████▍| 941/1000 [26:20:08<1:32:57, 94.54s/it] "
     ]
    },
    {
     "name": "stdout",
     "output_type": "stream",
     "text": [
      "W_feat_ds.shape= torch.Size([400, 400])\n",
      "W_feat_hist_pearsoncorr.shape= torch.Size([400, 400])\n",
      "<class 'torch.Tensor'>\n",
      "eigenvalues shape torch.Size([5]) eigenvectors shape torch.Size([5, 400])\n",
      "941 /home/phdcs2/Hard_Disk/Datasets/Deep-Spectral-Segmentation/data/object-segmentation/ECSSD/features/dino_vits16/0942.pth\n",
      "0942\n",
      "tanh_feats.shape= torch.Size([400, 384])\n"
     ]
    },
    {
     "name": "stderr",
     "output_type": "stream",
     "text": [
      " 94%|█████████▍| 942/1000 [26:21:30<1:27:44, 90.77s/it]"
     ]
    },
    {
     "name": "stdout",
     "output_type": "stream",
     "text": [
      "W_feat_ds.shape= torch.Size([400, 400])\n",
      "W_feat_hist_pearsoncorr.shape= torch.Size([400, 400])\n",
      "<class 'torch.Tensor'>\n",
      "eigenvalues shape torch.Size([5]) eigenvectors shape torch.Size([5, 400])\n",
      "942 /home/phdcs2/Hard_Disk/Datasets/Deep-Spectral-Segmentation/data/object-segmentation/ECSSD/features/dino_vits16/0943.pth\n",
      "0943\n",
      "tanh_feats.shape= torch.Size([475, 384])\n",
      "W_feat_ds.shape= torch.Size([475, 475])\n",
      "W_feat_hist_pearsoncorr.shape= torch.Size([475, 475])\n",
      "<class 'torch.Tensor'>\n"
     ]
    },
    {
     "name": "stderr",
     "output_type": "stream",
     "text": [
      " 94%|█████████▍| 943/1000 [26:23:27<1:33:42, 98.65s/it]"
     ]
    },
    {
     "name": "stdout",
     "output_type": "stream",
     "text": [
      "eigenvalues shape torch.Size([5]) eigenvectors shape torch.Size([5, 400])\n",
      "943 /home/phdcs2/Hard_Disk/Datasets/Deep-Spectral-Segmentation/data/object-segmentation/ECSSD/features/dino_vits16/0944.pth\n",
      "0944\n",
      "tanh_feats.shape= torch.Size([400, 384])\n"
     ]
    },
    {
     "name": "stderr",
     "output_type": "stream",
     "text": [
      " 94%|█████████▍| 944/1000 [26:24:50<1:27:38, 93.90s/it]"
     ]
    },
    {
     "name": "stdout",
     "output_type": "stream",
     "text": [
      "W_feat_ds.shape= torch.Size([400, 400])\n",
      "W_feat_hist_pearsoncorr.shape= torch.Size([400, 400])\n",
      "<class 'torch.Tensor'>\n",
      "eigenvalues shape torch.Size([5]) eigenvectors shape torch.Size([5, 400])\n",
      "944 /home/phdcs2/Hard_Disk/Datasets/Deep-Spectral-Segmentation/data/object-segmentation/ECSSD/features/dino_vits16/0945.pth\n",
      "0945\n",
      "tanh_feats.shape= torch.Size([450, 384])\n",
      "W_feat_ds.shape= torch.Size([450, 450])\n",
      "W_feat_hist_pearsoncorr.shape= torch.Size([450, 450])\n",
      "<class 'torch.Tensor'>\n"
     ]
    },
    {
     "name": "stderr",
     "output_type": "stream",
     "text": [
      " 94%|█████████▍| 945/1000 [26:26:35<1:29:09, 97.26s/it]"
     ]
    },
    {
     "name": "stdout",
     "output_type": "stream",
     "text": [
      "eigenvalues shape torch.Size([5]) eigenvectors shape torch.Size([5, 400])\n",
      "945 /home/phdcs2/Hard_Disk/Datasets/Deep-Spectral-Segmentation/data/object-segmentation/ECSSD/features/dino_vits16/0946.pth\n",
      "0946\n",
      "tanh_feats.shape= torch.Size([400, 384])\n",
      "W_feat_ds.shape= torch.Size([400, 400])\n",
      "W_feat_hist_pearsoncorr.shape= torch.Size([400, 400])\n",
      "<class 'torch.Tensor'>\n"
     ]
    },
    {
     "name": "stderr",
     "output_type": "stream",
     "text": [
      " 95%|█████████▍| 946/1000 [26:27:58<1:23:43, 93.03s/it]"
     ]
    },
    {
     "name": "stdout",
     "output_type": "stream",
     "text": [
      "eigenvalues shape torch.Size([5]) eigenvectors shape torch.Size([5, 400])\n",
      "946 /home/phdcs2/Hard_Disk/Datasets/Deep-Spectral-Segmentation/data/object-segmentation/ECSSD/features/dino_vits16/0947.pth\n",
      "0947\n",
      "tanh_feats.shape= torch.Size([500, 384])\n",
      "W_feat_ds.shape= torch.Size([500, 500])\n",
      "W_feat_hist_pearsoncorr.shape= torch.Size([500, 500])\n",
      "<class 'torch.Tensor'>\n"
     ]
    },
    {
     "name": "stderr",
     "output_type": "stream",
     "text": [
      " 95%|█████████▍| 947/1000 [26:30:07<1:31:31, 103.61s/it]"
     ]
    },
    {
     "name": "stdout",
     "output_type": "stream",
     "text": [
      "eigenvalues shape torch.Size([5]) eigenvectors shape torch.Size([5, 400])\n",
      "947 /home/phdcs2/Hard_Disk/Datasets/Deep-Spectral-Segmentation/data/object-segmentation/ECSSD/features/dino_vits16/0948.pth\n",
      "0948\n",
      "tanh_feats.shape= torch.Size([400, 384])\n",
      "W_feat_ds.shape= torch.Size([400, 400])\n",
      "W_feat_hist_pearsoncorr.shape= torch.Size([400, 400])\n",
      "<class 'torch.Tensor'>\n"
     ]
    },
    {
     "name": "stderr",
     "output_type": "stream",
     "text": [
      " 95%|█████████▍| 948/1000 [26:31:32<1:25:08, 98.24s/it] "
     ]
    },
    {
     "name": "stdout",
     "output_type": "stream",
     "text": [
      "eigenvalues shape torch.Size([5]) eigenvectors shape torch.Size([5, 400])\n",
      "948 /home/phdcs2/Hard_Disk/Datasets/Deep-Spectral-Segmentation/data/object-segmentation/ECSSD/features/dino_vits16/0949.pth\n",
      "0949\n",
      "tanh_feats.shape= torch.Size([400, 384])\n",
      "W_feat_ds.shape= torch.Size([400, 400])\n",
      "W_feat_hist_pearsoncorr.shape= torch.Size([400, 400])\n",
      "<class 'torch.Tensor'>\n"
     ]
    },
    {
     "name": "stderr",
     "output_type": "stream",
     "text": [
      " 95%|█████████▍| 949/1000 [26:32:55<1:19:24, 93.43s/it]"
     ]
    },
    {
     "name": "stdout",
     "output_type": "stream",
     "text": [
      "eigenvalues shape torch.Size([5]) eigenvectors shape torch.Size([5, 400])\n",
      "949 /home/phdcs2/Hard_Disk/Datasets/Deep-Spectral-Segmentation/data/object-segmentation/ECSSD/features/dino_vits16/0950.pth\n",
      "0950\n",
      "tanh_feats.shape= torch.Size([450, 384])\n",
      "W_feat_ds.shape= torch.Size([450, 450])\n",
      "W_feat_hist_pearsoncorr.shape= torch.Size([450, 450])\n",
      "<class 'torch.Tensor'>\n"
     ]
    },
    {
     "name": "stderr",
     "output_type": "stream",
     "text": [
      " 95%|█████████▌| 950/1000 [26:34:38<1:20:25, 96.51s/it]"
     ]
    },
    {
     "name": "stdout",
     "output_type": "stream",
     "text": [
      "eigenvalues shape torch.Size([5]) eigenvectors shape torch.Size([5, 400])\n",
      "950 /home/phdcs2/Hard_Disk/Datasets/Deep-Spectral-Segmentation/data/object-segmentation/ECSSD/features/dino_vits16/0951.pth\n",
      "0951\n",
      "tanh_feats.shape= torch.Size([400, 384])\n",
      "W_feat_ds.shape= torch.Size([400, 400])\n",
      "W_feat_hist_pearsoncorr.shape= torch.Size([400, 400])\n",
      "<class 'torch.Tensor'>\n"
     ]
    },
    {
     "name": "stderr",
     "output_type": "stream",
     "text": [
      " 95%|█████████▌| 951/1000 [26:36:00<1:15:14, 92.14s/it]"
     ]
    },
    {
     "name": "stdout",
     "output_type": "stream",
     "text": [
      "eigenvalues shape torch.Size([5]) eigenvectors shape torch.Size([5, 400])\n",
      "951 /home/phdcs2/Hard_Disk/Datasets/Deep-Spectral-Segmentation/data/object-segmentation/ECSSD/features/dino_vits16/0952.pth\n",
      "0952\n",
      "tanh_feats.shape= torch.Size([400, 384])\n",
      "W_feat_ds.shape= torch.Size([400, 400])\n",
      "W_feat_hist_pearsoncorr.shape= torch.Size([400, 400])\n",
      "<class 'torch.Tensor'>\n"
     ]
    },
    {
     "name": "stderr",
     "output_type": "stream",
     "text": [
      " 95%|█████████▌| 952/1000 [26:37:22<1:11:15, 89.08s/it]"
     ]
    },
    {
     "name": "stdout",
     "output_type": "stream",
     "text": [
      "eigenvalues shape torch.Size([5]) eigenvectors shape torch.Size([5, 400])\n",
      "952 /home/phdcs2/Hard_Disk/Datasets/Deep-Spectral-Segmentation/data/object-segmentation/ECSSD/features/dino_vits16/0953.pth\n",
      "0953\n",
      "tanh_feats.shape= torch.Size([450, 384])\n"
     ]
    },
    {
     "name": "stderr",
     "output_type": "stream",
     "text": [
      " 95%|█████████▌| 953/1000 [26:39:05<1:13:02, 93.25s/it]"
     ]
    },
    {
     "name": "stdout",
     "output_type": "stream",
     "text": [
      "W_feat_ds.shape= torch.Size([450, 450])\n",
      "W_feat_hist_pearsoncorr.shape= torch.Size([450, 450])\n",
      "<class 'torch.Tensor'>\n",
      "eigenvalues shape torch.Size([5]) eigenvectors shape torch.Size([5, 400])\n",
      "953 /home/phdcs2/Hard_Disk/Datasets/Deep-Spectral-Segmentation/data/object-segmentation/ECSSD/features/dino_vits16/0954.pth\n",
      "0954\n",
      "tanh_feats.shape= torch.Size([375, 384])\n",
      "W_feat_ds.shape= torch.Size([375, 375])\n",
      "W_feat_hist_pearsoncorr.shape= torch.Size([375, 375])\n",
      "<class 'torch.Tensor'>\n"
     ]
    },
    {
     "name": "stderr",
     "output_type": "stream",
     "text": [
      " 95%|█████████▌| 954/1000 [26:40:19<1:07:03, 87.46s/it]"
     ]
    },
    {
     "name": "stdout",
     "output_type": "stream",
     "text": [
      "eigenvalues shape torch.Size([5]) eigenvectors shape torch.Size([5, 400])\n",
      "954 /home/phdcs2/Hard_Disk/Datasets/Deep-Spectral-Segmentation/data/object-segmentation/ECSSD/features/dino_vits16/0955.pth\n",
      "0955\n",
      "tanh_feats.shape= torch.Size([450, 384])\n",
      "W_feat_ds.shape= torch.Size([450, 450])\n",
      "W_feat_hist_pearsoncorr.shape= torch.Size([450, 450])\n",
      "<class 'torch.Tensor'>\n"
     ]
    },
    {
     "name": "stderr",
     "output_type": "stream",
     "text": [
      " 96%|█████████▌| 955/1000 [26:42:04<1:09:26, 92.60s/it]"
     ]
    },
    {
     "name": "stdout",
     "output_type": "stream",
     "text": [
      "eigenvalues shape torch.Size([5]) eigenvectors shape torch.Size([5, 400])\n",
      "955 /home/phdcs2/Hard_Disk/Datasets/Deep-Spectral-Segmentation/data/object-segmentation/ECSSD/features/dino_vits16/0956.pth\n",
      "0956\n",
      "tanh_feats.shape= torch.Size([400, 384])\n"
     ]
    },
    {
     "name": "stderr",
     "output_type": "stream",
     "text": [
      " 96%|█████████▌| 956/1000 [26:43:25<1:05:28, 89.27s/it]"
     ]
    },
    {
     "name": "stdout",
     "output_type": "stream",
     "text": [
      "W_feat_ds.shape= torch.Size([400, 400])\n",
      "W_feat_hist_pearsoncorr.shape= torch.Size([400, 400])\n",
      "<class 'torch.Tensor'>\n",
      "eigenvalues shape torch.Size([5]) eigenvectors shape torch.Size([5, 400])\n",
      "956 /home/phdcs2/Hard_Disk/Datasets/Deep-Spectral-Segmentation/data/object-segmentation/ECSSD/features/dino_vits16/0957.pth\n",
      "0957\n",
      "tanh_feats.shape= torch.Size([400, 384])\n",
      "W_feat_ds.shape= torch.Size([400, 400])\n",
      "W_feat_hist_pearsoncorr.shape= torch.Size([400, 400])\n",
      "<class 'torch.Tensor'>\n"
     ]
    },
    {
     "name": "stderr",
     "output_type": "stream",
     "text": [
      " 96%|█████████▌| 957/1000 [26:44:47<1:02:24, 87.09s/it]"
     ]
    },
    {
     "name": "stdout",
     "output_type": "stream",
     "text": [
      "eigenvalues shape torch.Size([5]) eigenvectors shape torch.Size([5, 400])\n",
      "957 /home/phdcs2/Hard_Disk/Datasets/Deep-Spectral-Segmentation/data/object-segmentation/ECSSD/features/dino_vits16/0958.pth\n",
      "0958\n",
      "tanh_feats.shape= torch.Size([475, 384])\n",
      "W_feat_ds.shape= torch.Size([475, 475])\n",
      "W_feat_hist_pearsoncorr.shape= torch.Size([475, 475])\n",
      "<class 'torch.Tensor'>\n"
     ]
    },
    {
     "name": "stderr",
     "output_type": "stream",
     "text": [
      " 96%|█████████▌| 958/1000 [26:46:43<1:06:56, 95.62s/it]"
     ]
    },
    {
     "name": "stdout",
     "output_type": "stream",
     "text": [
      "eigenvalues shape torch.Size([5]) eigenvectors shape torch.Size([5, 400])\n",
      "958 /home/phdcs2/Hard_Disk/Datasets/Deep-Spectral-Segmentation/data/object-segmentation/ECSSD/features/dino_vits16/0959.pth\n",
      "0959\n",
      "tanh_feats.shape= torch.Size([450, 384])\n",
      "W_feat_ds.shape= torch.Size([450, 450])\n",
      "W_feat_hist_pearsoncorr.shape= torch.Size([450, 450])\n",
      "<class 'torch.Tensor'>\n"
     ]
    },
    {
     "name": "stderr",
     "output_type": "stream",
     "text": [
      " 96%|█████████▌| 959/1000 [26:48:28<1:07:17, 98.47s/it]"
     ]
    },
    {
     "name": "stdout",
     "output_type": "stream",
     "text": [
      "eigenvalues shape torch.Size([5]) eigenvectors shape torch.Size([5, 400])\n",
      "959 /home/phdcs2/Hard_Disk/Datasets/Deep-Spectral-Segmentation/data/object-segmentation/ECSSD/features/dino_vits16/0960.pth\n",
      "0960\n",
      "tanh_feats.shape= torch.Size([400, 384])\n"
     ]
    },
    {
     "name": "stderr",
     "output_type": "stream",
     "text": [
      " 96%|█████████▌| 960/1000 [26:49:49<1:02:10, 93.27s/it]"
     ]
    },
    {
     "name": "stdout",
     "output_type": "stream",
     "text": [
      "W_feat_ds.shape= torch.Size([400, 400])\n",
      "W_feat_hist_pearsoncorr.shape= torch.Size([400, 400])\n",
      "<class 'torch.Tensor'>\n",
      "eigenvalues shape torch.Size([5]) eigenvectors shape torch.Size([5, 400])\n",
      "960 /home/phdcs2/Hard_Disk/Datasets/Deep-Spectral-Segmentation/data/object-segmentation/ECSSD/features/dino_vits16/0961.pth\n",
      "0961\n",
      "tanh_feats.shape= torch.Size([400, 384])\n",
      "W_feat_ds.shape= torch.Size([400, 400])\n",
      "W_feat_hist_pearsoncorr.shape= torch.Size([400, 400])\n",
      "<class 'torch.Tensor'>\n"
     ]
    },
    {
     "name": "stderr",
     "output_type": "stream",
     "text": [
      " 96%|█████████▌| 961/1000 [26:51:11<58:23, 89.83s/it]  "
     ]
    },
    {
     "name": "stdout",
     "output_type": "stream",
     "text": [
      "eigenvalues shape torch.Size([5]) eigenvectors shape torch.Size([5, 400])\n",
      "961 /home/phdcs2/Hard_Disk/Datasets/Deep-Spectral-Segmentation/data/object-segmentation/ECSSD/features/dino_vits16/0962.pth\n",
      "0962\n",
      "tanh_feats.shape= torch.Size([375, 384])\n",
      "W_feat_ds.shape= torch.Size([375, 375])\n",
      "W_feat_hist_pearsoncorr.shape= torch.Size([375, 375])\n",
      "<class 'torch.Tensor'>\n"
     ]
    },
    {
     "name": "stderr",
     "output_type": "stream",
     "text": [
      " 96%|█████████▌| 962/1000 [26:52:23<53:32, 84.55s/it]"
     ]
    },
    {
     "name": "stdout",
     "output_type": "stream",
     "text": [
      "eigenvalues shape torch.Size([5]) eigenvectors shape torch.Size([5, 400])\n",
      "962 /home/phdcs2/Hard_Disk/Datasets/Deep-Spectral-Segmentation/data/object-segmentation/ECSSD/features/dino_vits16/0963.pth\n",
      "0963\n",
      "tanh_feats.shape= torch.Size([400, 384])\n"
     ]
    },
    {
     "name": "stderr",
     "output_type": "stream",
     "text": [
      " 96%|█████████▋| 963/1000 [26:53:45<51:40, 83.78s/it]"
     ]
    },
    {
     "name": "stdout",
     "output_type": "stream",
     "text": [
      "W_feat_ds.shape= torch.Size([400, 400])\n",
      "W_feat_hist_pearsoncorr.shape= torch.Size([400, 400])\n",
      "<class 'torch.Tensor'>\n",
      "eigenvalues shape torch.Size([5]) eigenvectors shape torch.Size([5, 400])\n",
      "963 /home/phdcs2/Hard_Disk/Datasets/Deep-Spectral-Segmentation/data/object-segmentation/ECSSD/features/dino_vits16/0964.pth\n",
      "0964\n",
      "tanh_feats.shape= torch.Size([400, 384])\n",
      "W_feat_ds.shape= torch.Size([400, 400])\n",
      "W_feat_hist_pearsoncorr.shape= torch.Size([400, 400])\n",
      "<class 'torch.Tensor'>\n"
     ]
    },
    {
     "name": "stderr",
     "output_type": "stream",
     "text": [
      " 96%|█████████▋| 964/1000 [26:55:08<50:08, 83.56s/it]"
     ]
    },
    {
     "name": "stdout",
     "output_type": "stream",
     "text": [
      "eigenvalues shape torch.Size([5]) eigenvectors shape torch.Size([5, 400])\n",
      "964 /home/phdcs2/Hard_Disk/Datasets/Deep-Spectral-Segmentation/data/object-segmentation/ECSSD/features/dino_vits16/0965.pth\n",
      "0965\n",
      "tanh_feats.shape= torch.Size([350, 384])\n",
      "W_feat_ds.shape= torch.Size([350, 350])\n",
      "W_feat_hist_pearsoncorr.shape= torch.Size([350, 350])\n",
      "<class 'torch.Tensor'>\n"
     ]
    },
    {
     "name": "stderr",
     "output_type": "stream",
     "text": [
      " 96%|█████████▋| 965/1000 [26:56:11<45:03, 77.23s/it]"
     ]
    },
    {
     "name": "stdout",
     "output_type": "stream",
     "text": [
      "eigenvalues shape torch.Size([5]) eigenvectors shape torch.Size([5, 400])\n",
      "965 /home/phdcs2/Hard_Disk/Datasets/Deep-Spectral-Segmentation/data/object-segmentation/ECSSD/features/dino_vits16/0966.pth\n",
      "0966\n",
      "tanh_feats.shape= torch.Size([475, 384])\n",
      "W_feat_ds.shape= torch.Size([475, 475])\n",
      "W_feat_hist_pearsoncorr.shape= torch.Size([475, 475])\n",
      "<class 'torch.Tensor'>\n"
     ]
    },
    {
     "name": "stderr",
     "output_type": "stream",
     "text": [
      " 97%|█████████▋| 966/1000 [26:58:06<50:13, 88.63s/it]"
     ]
    },
    {
     "name": "stdout",
     "output_type": "stream",
     "text": [
      "eigenvalues shape torch.Size([5]) eigenvectors shape torch.Size([5, 400])\n",
      "966 /home/phdcs2/Hard_Disk/Datasets/Deep-Spectral-Segmentation/data/object-segmentation/ECSSD/features/dino_vits16/0967.pth\n",
      "0967\n",
      "tanh_feats.shape= torch.Size([450, 384])\n",
      "W_feat_ds.shape= torch.Size([450, 450])\n",
      "W_feat_hist_pearsoncorr.shape= torch.Size([450, 450])\n",
      "<class 'torch.Tensor'>\n"
     ]
    },
    {
     "name": "stderr",
     "output_type": "stream",
     "text": [
      " 97%|█████████▋| 967/1000 [26:59:50<51:17, 93.25s/it]"
     ]
    },
    {
     "name": "stdout",
     "output_type": "stream",
     "text": [
      "eigenvalues shape torch.Size([5]) eigenvectors shape torch.Size([5, 400])\n",
      "967 /home/phdcs2/Hard_Disk/Datasets/Deep-Spectral-Segmentation/data/object-segmentation/ECSSD/features/dino_vits16/0968.pth\n",
      "0968\n",
      "tanh_feats.shape= torch.Size([400, 384])\n",
      "W_feat_ds.shape= torch.Size([400, 400])\n",
      "W_feat_hist_pearsoncorr.shape= torch.Size([400, 400])\n",
      "<class 'torch.Tensor'>\n"
     ]
    },
    {
     "name": "stderr",
     "output_type": "stream",
     "text": [
      " 97%|█████████▋| 968/1000 [27:01:11<47:48, 89.65s/it]"
     ]
    },
    {
     "name": "stdout",
     "output_type": "stream",
     "text": [
      "eigenvalues shape torch.Size([5]) eigenvectors shape torch.Size([5, 400])\n",
      "968 /home/phdcs2/Hard_Disk/Datasets/Deep-Spectral-Segmentation/data/object-segmentation/ECSSD/features/dino_vits16/0969.pth\n",
      "0969\n",
      "tanh_feats.shape= torch.Size([450, 384])\n",
      "W_feat_ds.shape= torch.Size([450, 450])\n",
      "W_feat_hist_pearsoncorr.shape= torch.Size([450, 450])\n",
      "<class 'torch.Tensor'>\n"
     ]
    },
    {
     "name": "stderr",
     "output_type": "stream",
     "text": [
      " 97%|█████████▋| 969/1000 [27:02:56<48:37, 94.11s/it]"
     ]
    },
    {
     "name": "stdout",
     "output_type": "stream",
     "text": [
      "eigenvalues shape torch.Size([5]) eigenvectors shape torch.Size([5, 400])\n",
      "969 /home/phdcs2/Hard_Disk/Datasets/Deep-Spectral-Segmentation/data/object-segmentation/ECSSD/features/dino_vits16/0970.pth\n",
      "0970\n",
      "tanh_feats.shape= torch.Size([400, 384])\n"
     ]
    },
    {
     "name": "stderr",
     "output_type": "stream",
     "text": [
      " 97%|█████████▋| 970/1000 [27:04:03<43:04, 86.16s/it]"
     ]
    },
    {
     "name": "stdout",
     "output_type": "stream",
     "text": [
      "W_feat_ds.shape= torch.Size([400, 400])\n",
      "W_feat_hist_pearsoncorr.shape= torch.Size([400, 400])\n",
      "<class 'torch.Tensor'>\n",
      "eigenvalues shape torch.Size([5]) eigenvectors shape torch.Size([5, 400])\n",
      "970 /home/phdcs2/Hard_Disk/Datasets/Deep-Spectral-Segmentation/data/object-segmentation/ECSSD/features/dino_vits16/0971.pth\n",
      "0971\n",
      "tanh_feats.shape= torch.Size([400, 384])\n",
      "W_feat_ds.shape= torch.Size([400, 400])\n",
      "W_feat_hist_pearsoncorr.shape= torch.Size([400, 400])\n",
      "<class 'torch.Tensor'>\n"
     ]
    },
    {
     "name": "stderr",
     "output_type": "stream",
     "text": [
      " 97%|█████████▋| 971/1000 [27:05:03<37:51, 78.32s/it]"
     ]
    },
    {
     "name": "stdout",
     "output_type": "stream",
     "text": [
      "eigenvalues shape torch.Size([5]) eigenvectors shape torch.Size([5, 400])\n",
      "971 /home/phdcs2/Hard_Disk/Datasets/Deep-Spectral-Segmentation/data/object-segmentation/ECSSD/features/dino_vits16/0972.pth\n",
      "0972\n",
      "tanh_feats.shape= torch.Size([525, 384])\n",
      "W_feat_ds.shape= torch.Size([525, 525])\n",
      "W_feat_hist_pearsoncorr.shape= torch.Size([525, 525])\n",
      "<class 'torch.Tensor'>\n"
     ]
    },
    {
     "name": "stderr",
     "output_type": "stream",
     "text": [
      " 97%|█████████▋| 972/1000 [27:06:46<39:58, 85.64s/it]"
     ]
    },
    {
     "name": "stdout",
     "output_type": "stream",
     "text": [
      "eigenvalues shape torch.Size([5]) eigenvectors shape torch.Size([5, 400])\n",
      "972 /home/phdcs2/Hard_Disk/Datasets/Deep-Spectral-Segmentation/data/object-segmentation/ECSSD/features/dino_vits16/0973.pth\n",
      "0973\n",
      "tanh_feats.shape= torch.Size([400, 384])\n",
      "W_feat_ds.shape= torch.Size([400, 400])\n",
      "W_feat_hist_pearsoncorr.shape= torch.Size([400, 400])\n",
      "<class 'torch.Tensor'>\n"
     ]
    },
    {
     "name": "stderr",
     "output_type": "stream",
     "text": [
      " 97%|█████████▋| 973/1000 [27:07:45<34:59, 77.76s/it]"
     ]
    },
    {
     "name": "stdout",
     "output_type": "stream",
     "text": [
      "eigenvalues shape torch.Size([5]) eigenvectors shape torch.Size([5, 400])\n",
      "973 /home/phdcs2/Hard_Disk/Datasets/Deep-Spectral-Segmentation/data/object-segmentation/ECSSD/features/dino_vits16/0974.pth\n",
      "0974\n",
      "tanh_feats.shape= torch.Size([500, 384])\n"
     ]
    },
    {
     "name": "stderr",
     "output_type": "stream",
     "text": [
      " 97%|█████████▋| 974/1000 [27:09:18<35:41, 82.37s/it]"
     ]
    },
    {
     "name": "stdout",
     "output_type": "stream",
     "text": [
      "W_feat_ds.shape= torch.Size([500, 500])\n",
      "W_feat_hist_pearsoncorr.shape= torch.Size([500, 500])\n",
      "<class 'torch.Tensor'>\n",
      "eigenvalues shape torch.Size([5]) eigenvectors shape torch.Size([5, 400])\n",
      "974 /home/phdcs2/Hard_Disk/Datasets/Deep-Spectral-Segmentation/data/object-segmentation/ECSSD/features/dino_vits16/0975.pth\n",
      "0975\n",
      "tanh_feats.shape= torch.Size([450, 384])\n",
      "W_feat_ds.shape= torch.Size([450, 450])\n",
      "W_feat_hist_pearsoncorr.shape= torch.Size([450, 450])\n",
      "<class 'torch.Tensor'>\n"
     ]
    },
    {
     "name": "stderr",
     "output_type": "stream",
     "text": [
      " 98%|█████████▊| 975/1000 [27:10:34<33:29, 80.39s/it]"
     ]
    },
    {
     "name": "stdout",
     "output_type": "stream",
     "text": [
      "eigenvalues shape torch.Size([5]) eigenvectors shape torch.Size([5, 400])\n",
      "975 /home/phdcs2/Hard_Disk/Datasets/Deep-Spectral-Segmentation/data/object-segmentation/ECSSD/features/dino_vits16/0976.pth\n",
      "0976\n",
      "tanh_feats.shape= torch.Size([400, 384])\n",
      "W_feat_ds.shape= torch.Size([400, 400])\n",
      "W_feat_hist_pearsoncorr.shape= torch.Size([400, 400])\n",
      "<class 'torch.Tensor'>\n"
     ]
    },
    {
     "name": "stderr",
     "output_type": "stream",
     "text": [
      " 98%|█████████▊| 976/1000 [27:11:35<29:48, 74.51s/it]"
     ]
    },
    {
     "name": "stdout",
     "output_type": "stream",
     "text": [
      "eigenvalues shape torch.Size([5]) eigenvectors shape torch.Size([5, 400])\n",
      "976 /home/phdcs2/Hard_Disk/Datasets/Deep-Spectral-Segmentation/data/object-segmentation/ECSSD/features/dino_vits16/0977.pth\n",
      "0977\n",
      "tanh_feats.shape= torch.Size([525, 384])\n",
      "W_feat_ds.shape= torch.Size([525, 525])\n",
      "W_feat_hist_pearsoncorr.shape= torch.Size([525, 525])\n",
      "<class 'torch.Tensor'>\n"
     ]
    },
    {
     "name": "stderr",
     "output_type": "stream",
     "text": [
      " 98%|█████████▊| 977/1000 [27:13:16<31:35, 82.41s/it]"
     ]
    },
    {
     "name": "stdout",
     "output_type": "stream",
     "text": [
      "eigenvalues shape torch.Size([5]) eigenvectors shape torch.Size([5, 400])\n",
      "977 /home/phdcs2/Hard_Disk/Datasets/Deep-Spectral-Segmentation/data/object-segmentation/ECSSD/features/dino_vits16/0978.pth\n",
      "0978\n",
      "tanh_feats.shape= torch.Size([400, 384])\n",
      "W_feat_ds.shape= torch.Size([400, 400])\n",
      "W_feat_hist_pearsoncorr.shape= torch.Size([400, 400])\n",
      "<class 'torch.Tensor'>\n"
     ]
    },
    {
     "name": "stderr",
     "output_type": "stream",
     "text": [
      " 98%|█████████▊| 978/1000 [27:14:17<27:49, 75.88s/it]"
     ]
    },
    {
     "name": "stdout",
     "output_type": "stream",
     "text": [
      "eigenvalues shape torch.Size([5]) eigenvectors shape torch.Size([5, 400])\n",
      "978 /home/phdcs2/Hard_Disk/Datasets/Deep-Spectral-Segmentation/data/object-segmentation/ECSSD/features/dino_vits16/0979.pth\n",
      "0979\n",
      "tanh_feats.shape= torch.Size([525, 384])\n",
      "W_feat_ds.shape= torch.Size([525, 525])\n",
      "W_feat_hist_pearsoncorr.shape= torch.Size([525, 525])\n",
      "<class 'torch.Tensor'>\n"
     ]
    },
    {
     "name": "stderr",
     "output_type": "stream",
     "text": [
      " 98%|█████████▊| 979/1000 [27:15:57<29:08, 83.24s/it]"
     ]
    },
    {
     "name": "stdout",
     "output_type": "stream",
     "text": [
      "eigenvalues shape torch.Size([5]) eigenvectors shape torch.Size([5, 400])\n",
      "979 /home/phdcs2/Hard_Disk/Datasets/Deep-Spectral-Segmentation/data/object-segmentation/ECSSD/features/dino_vits16/0980.pth\n",
      "0980\n",
      "tanh_feats.shape= torch.Size([550, 384])\n",
      "W_feat_ds.shape= torch.Size([550, 550])\n",
      "W_feat_hist_pearsoncorr.shape= torch.Size([550, 550])\n",
      "<class 'torch.Tensor'>\n"
     ]
    },
    {
     "name": "stderr",
     "output_type": "stream",
     "text": [
      " 98%|█████████▊| 980/1000 [27:17:47<30:26, 91.32s/it]"
     ]
    },
    {
     "name": "stdout",
     "output_type": "stream",
     "text": [
      "eigenvalues shape torch.Size([5]) eigenvectors shape torch.Size([5, 400])\n",
      "980 /home/phdcs2/Hard_Disk/Datasets/Deep-Spectral-Segmentation/data/object-segmentation/ECSSD/features/dino_vits16/0981.pth\n",
      "0981\n",
      "tanh_feats.shape= torch.Size([600, 384])\n",
      "W_feat_ds.shape= torch.Size([600, 600])\n",
      "W_feat_hist_pearsoncorr.shape= torch.Size([600, 600])\n",
      "<class 'torch.Tensor'>\n"
     ]
    },
    {
     "name": "stderr",
     "output_type": "stream",
     "text": [
      " 98%|█████████▊| 981/1000 [27:19:59<32:48, 103.62s/it]"
     ]
    },
    {
     "name": "stdout",
     "output_type": "stream",
     "text": [
      "eigenvalues shape torch.Size([5]) eigenvectors shape torch.Size([5, 400])\n",
      "981 /home/phdcs2/Hard_Disk/Datasets/Deep-Spectral-Segmentation/data/object-segmentation/ECSSD/features/dino_vits16/0982.pth\n",
      "0982\n",
      "tanh_feats.shape= torch.Size([408, 384])\n",
      "W_feat_ds.shape= torch.Size([408, 408])\n",
      "W_feat_hist_pearsoncorr.shape= torch.Size([408, 408])\n",
      "<class 'torch.Tensor'>\n"
     ]
    },
    {
     "name": "stderr",
     "output_type": "stream",
     "text": [
      " 98%|█████████▊| 982/1000 [27:21:02<27:22, 91.24s/it] "
     ]
    },
    {
     "name": "stdout",
     "output_type": "stream",
     "text": [
      "eigenvalues shape torch.Size([5]) eigenvectors shape torch.Size([5, 400])\n",
      "982 /home/phdcs2/Hard_Disk/Datasets/Deep-Spectral-Segmentation/data/object-segmentation/ECSSD/features/dino_vits16/0983.pth\n",
      "0983\n",
      "tanh_feats.shape= torch.Size([400, 384])\n"
     ]
    },
    {
     "name": "stderr",
     "output_type": "stream",
     "text": [
      " 98%|█████████▊| 983/1000 [27:22:01<23:10, 81.77s/it]"
     ]
    },
    {
     "name": "stdout",
     "output_type": "stream",
     "text": [
      "W_feat_ds.shape= torch.Size([400, 400])\n",
      "W_feat_hist_pearsoncorr.shape= torch.Size([400, 400])\n",
      "<class 'torch.Tensor'>\n",
      "eigenvalues shape torch.Size([5]) eigenvectors shape torch.Size([5, 400])\n",
      "983 /home/phdcs2/Hard_Disk/Datasets/Deep-Spectral-Segmentation/data/object-segmentation/ECSSD/features/dino_vits16/0984.pth\n",
      "0984\n",
      "tanh_feats.shape= torch.Size([400, 384])\n",
      "W_feat_ds.shape= torch.Size([400, 400])\n",
      "W_feat_hist_pearsoncorr.shape= torch.Size([400, 400])\n",
      "<class 'torch.Tensor'>\n"
     ]
    },
    {
     "name": "stderr",
     "output_type": "stream",
     "text": [
      " 98%|█████████▊| 984/1000 [27:23:01<20:02, 75.15s/it]"
     ]
    },
    {
     "name": "stdout",
     "output_type": "stream",
     "text": [
      "eigenvalues shape torch.Size([5]) eigenvectors shape torch.Size([5, 400])\n",
      "984 /home/phdcs2/Hard_Disk/Datasets/Deep-Spectral-Segmentation/data/object-segmentation/ECSSD/features/dino_vits16/0985.pth\n",
      "0985\n",
      "tanh_feats.shape= torch.Size([400, 384])\n"
     ]
    },
    {
     "name": "stderr",
     "output_type": "stream",
     "text": [
      " 98%|█████████▊| 985/1000 [27:24:00<17:35, 70.38s/it]"
     ]
    },
    {
     "name": "stdout",
     "output_type": "stream",
     "text": [
      "W_feat_ds.shape= torch.Size([400, 400])\n",
      "W_feat_hist_pearsoncorr.shape= torch.Size([400, 400])\n",
      "<class 'torch.Tensor'>\n",
      "eigenvalues shape torch.Size([5]) eigenvectors shape torch.Size([5, 400])\n",
      "985 /home/phdcs2/Hard_Disk/Datasets/Deep-Spectral-Segmentation/data/object-segmentation/ECSSD/features/dino_vits16/0986.pth\n",
      "0986\n",
      "tanh_feats.shape= torch.Size([375, 384])\n",
      "W_feat_ds.shape= torch.Size([375, 375])\n",
      "W_feat_hist_pearsoncorr.shape= torch.Size([375, 375])\n",
      "<class 'torch.Tensor'>\n"
     ]
    },
    {
     "name": "stderr",
     "output_type": "stream",
     "text": [
      " 99%|█████████▊| 986/1000 [27:24:49<14:52, 63.72s/it]"
     ]
    },
    {
     "name": "stdout",
     "output_type": "stream",
     "text": [
      "eigenvalues shape torch.Size([5]) eigenvectors shape torch.Size([5, 400])\n",
      "986 /home/phdcs2/Hard_Disk/Datasets/Deep-Spectral-Segmentation/data/object-segmentation/ECSSD/features/dino_vits16/0987.pth\n",
      "0987\n",
      "tanh_feats.shape= torch.Size([425, 384])\n",
      "W_feat_ds.shape= torch.Size([425, 425])\n",
      "W_feat_hist_pearsoncorr.shape= torch.Size([425, 425])\n",
      "<class 'torch.Tensor'>\n"
     ]
    },
    {
     "name": "stderr",
     "output_type": "stream",
     "text": [
      " 99%|█████████▊| 987/1000 [27:25:32<12:27, 57.52s/it]"
     ]
    },
    {
     "name": "stdout",
     "output_type": "stream",
     "text": [
      "eigenvalues shape torch.Size([5]) eigenvectors shape torch.Size([5, 400])\n",
      "987 /home/phdcs2/Hard_Disk/Datasets/Deep-Spectral-Segmentation/data/object-segmentation/ECSSD/features/dino_vits16/0988.pth\n",
      "0988\n",
      "tanh_feats.shape= torch.Size([400, 384])\n"
     ]
    },
    {
     "name": "stderr",
     "output_type": "stream",
     "text": [
      " 99%|█████████▉| 988/1000 [27:26:09<10:19, 51.59s/it]"
     ]
    },
    {
     "name": "stdout",
     "output_type": "stream",
     "text": [
      "W_feat_ds.shape= torch.Size([400, 400])\n",
      "W_feat_hist_pearsoncorr.shape= torch.Size([400, 400])\n",
      "<class 'torch.Tensor'>\n",
      "eigenvalues shape torch.Size([5]) eigenvectors shape torch.Size([5, 400])\n",
      "988 /home/phdcs2/Hard_Disk/Datasets/Deep-Spectral-Segmentation/data/object-segmentation/ECSSD/features/dino_vits16/0989.pth\n",
      "0989\n",
      "tanh_feats.shape= torch.Size([450, 384])\n"
     ]
    },
    {
     "name": "stderr",
     "output_type": "stream",
     "text": [
      " 99%|█████████▉| 989/1000 [27:26:57<09:14, 50.43s/it]"
     ]
    },
    {
     "name": "stdout",
     "output_type": "stream",
     "text": [
      "W_feat_ds.shape= torch.Size([450, 450])\n",
      "W_feat_hist_pearsoncorr.shape= torch.Size([450, 450])\n",
      "<class 'torch.Tensor'>\n",
      "eigenvalues shape torch.Size([5]) eigenvectors shape torch.Size([5, 400])\n",
      "989 /home/phdcs2/Hard_Disk/Datasets/Deep-Spectral-Segmentation/data/object-segmentation/ECSSD/features/dino_vits16/0990.pth\n",
      "0990\n",
      "tanh_feats.shape= torch.Size([450, 384])\n",
      "W_feat_ds.shape= torch.Size([450, 450])\n",
      "W_feat_hist_pearsoncorr.shape= torch.Size([450, 450])\n",
      "<class 'torch.Tensor'>\n",
      "eigenvalues shape torch.Size([5]) eigenvectors shape torch.Size([5, 400])\n"
     ]
    },
    {
     "name": "stderr",
     "output_type": "stream",
     "text": [
      " 99%|█████████▉| 990/1000 [27:27:45<08:16, 49.60s/it]"
     ]
    },
    {
     "name": "stdout",
     "output_type": "stream",
     "text": [
      "990 /home/phdcs2/Hard_Disk/Datasets/Deep-Spectral-Segmentation/data/object-segmentation/ECSSD/features/dino_vits16/0991.pth\n",
      "0991\n",
      "tanh_feats.shape= torch.Size([450, 384])\n",
      "W_feat_ds.shape= torch.Size([450, 450])\n",
      "W_feat_hist_pearsoncorr.shape= torch.Size([450, 450])\n",
      "<class 'torch.Tensor'>\n"
     ]
    },
    {
     "name": "stderr",
     "output_type": "stream",
     "text": [
      " 99%|█████████▉| 991/1000 [27:28:33<07:21, 49.08s/it]"
     ]
    },
    {
     "name": "stdout",
     "output_type": "stream",
     "text": [
      "eigenvalues shape torch.Size([5]) eigenvectors shape torch.Size([5, 400])\n",
      "991 /home/phdcs2/Hard_Disk/Datasets/Deep-Spectral-Segmentation/data/object-segmentation/ECSSD/features/dino_vits16/0992.pth\n",
      "0992\n",
      "tanh_feats.shape= torch.Size([400, 384])\n"
     ]
    },
    {
     "name": "stderr",
     "output_type": "stream",
     "text": [
      " 99%|█████████▉| 992/1000 [27:29:10<06:05, 45.69s/it]"
     ]
    },
    {
     "name": "stdout",
     "output_type": "stream",
     "text": [
      "W_feat_ds.shape= torch.Size([400, 400])\n",
      "W_feat_hist_pearsoncorr.shape= torch.Size([400, 400])\n",
      "<class 'torch.Tensor'>\n",
      "eigenvalues shape torch.Size([5]) eigenvectors shape torch.Size([5, 400])\n",
      "992 /home/phdcs2/Hard_Disk/Datasets/Deep-Spectral-Segmentation/data/object-segmentation/ECSSD/features/dino_vits16/0993.pth\n",
      "0993\n",
      "tanh_feats.shape= torch.Size([400, 384])\n",
      "W_feat_ds.shape= torch.Size([400, 400])\n",
      "W_feat_hist_pearsoncorr.shape= torch.Size([400, 400])\n",
      "<class 'torch.Tensor'>\n"
     ]
    },
    {
     "name": "stderr",
     "output_type": "stream",
     "text": [
      " 99%|█████████▉| 993/1000 [27:29:48<05:02, 43.17s/it]"
     ]
    },
    {
     "name": "stdout",
     "output_type": "stream",
     "text": [
      "eigenvalues shape torch.Size([5]) eigenvectors shape torch.Size([5, 400])\n",
      "993 /home/phdcs2/Hard_Disk/Datasets/Deep-Spectral-Segmentation/data/object-segmentation/ECSSD/features/dino_vits16/0994.pth\n",
      "0994\n",
      "tanh_feats.shape= torch.Size([400, 384])\n"
     ]
    },
    {
     "name": "stderr",
     "output_type": "stream",
     "text": [
      " 99%|█████████▉| 994/1000 [27:30:25<04:08, 41.39s/it]"
     ]
    },
    {
     "name": "stdout",
     "output_type": "stream",
     "text": [
      "W_feat_ds.shape= torch.Size([400, 400])\n",
      "W_feat_hist_pearsoncorr.shape= torch.Size([400, 400])\n",
      "<class 'torch.Tensor'>\n",
      "eigenvalues shape torch.Size([5]) eigenvectors shape torch.Size([5, 400])\n",
      "994 /home/phdcs2/Hard_Disk/Datasets/Deep-Spectral-Segmentation/data/object-segmentation/ECSSD/features/dino_vits16/0995.pth\n",
      "0995\n",
      "tanh_feats.shape= torch.Size([450, 384])\n"
     ]
    },
    {
     "name": "stderr",
     "output_type": "stream",
     "text": [
      "100%|█████████▉| 995/1000 [27:31:12<03:34, 42.98s/it]"
     ]
    },
    {
     "name": "stdout",
     "output_type": "stream",
     "text": [
      "W_feat_ds.shape= torch.Size([450, 450])\n",
      "W_feat_hist_pearsoncorr.shape= torch.Size([450, 450])\n",
      "<class 'torch.Tensor'>\n",
      "eigenvalues shape torch.Size([5]) eigenvectors shape torch.Size([5, 400])\n",
      "995 /home/phdcs2/Hard_Disk/Datasets/Deep-Spectral-Segmentation/data/object-segmentation/ECSSD/features/dino_vits16/0996.pth\n",
      "0996\n",
      "tanh_feats.shape= torch.Size([450, 384])\n"
     ]
    },
    {
     "name": "stderr",
     "output_type": "stream",
     "text": [
      "100%|█████████▉| 996/1000 [27:31:58<02:55, 43.94s/it]"
     ]
    },
    {
     "name": "stdout",
     "output_type": "stream",
     "text": [
      "W_feat_ds.shape= torch.Size([450, 450])\n",
      "W_feat_hist_pearsoncorr.shape= torch.Size([450, 450])\n",
      "<class 'torch.Tensor'>\n",
      "eigenvalues shape torch.Size([5]) eigenvectors shape torch.Size([5, 400])\n",
      "996 /home/phdcs2/Hard_Disk/Datasets/Deep-Spectral-Segmentation/data/object-segmentation/ECSSD/features/dino_vits16/0997.pth\n",
      "0997\n",
      "tanh_feats.shape= torch.Size([450, 384])\n",
      "W_feat_ds.shape= torch.Size([450, 450])\n",
      "W_feat_hist_pearsoncorr.shape= torch.Size([450, 450])\n",
      "<class 'torch.Tensor'>\n"
     ]
    },
    {
     "name": "stderr",
     "output_type": "stream",
     "text": [
      "100%|█████████▉| 997/1000 [27:32:45<02:14, 44.76s/it]"
     ]
    },
    {
     "name": "stdout",
     "output_type": "stream",
     "text": [
      "eigenvalues shape torch.Size([5]) eigenvectors shape torch.Size([5, 400])\n",
      "997 /home/phdcs2/Hard_Disk/Datasets/Deep-Spectral-Segmentation/data/object-segmentation/ECSSD/features/dino_vits16/0998.pth\n",
      "0998\n",
      "tanh_feats.shape= torch.Size([450, 384])\n"
     ]
    },
    {
     "name": "stderr",
     "output_type": "stream",
     "text": [
      "100%|█████████▉| 998/1000 [27:33:30<01:30, 45.04s/it]"
     ]
    },
    {
     "name": "stdout",
     "output_type": "stream",
     "text": [
      "W_feat_ds.shape= torch.Size([450, 450])\n",
      "W_feat_hist_pearsoncorr.shape= torch.Size([450, 450])\n",
      "<class 'torch.Tensor'>\n",
      "eigenvalues shape torch.Size([5]) eigenvectors shape torch.Size([5, 400])\n",
      "998 /home/phdcs2/Hard_Disk/Datasets/Deep-Spectral-Segmentation/data/object-segmentation/ECSSD/features/dino_vits16/0999.pth\n",
      "0999\n",
      "tanh_feats.shape= torch.Size([375, 384])\n",
      "W_feat_ds.shape= torch.Size([375, 375])\n",
      "W_feat_hist_pearsoncorr.shape= torch.Size([375, 375])\n",
      "<class 'torch.Tensor'>\n"
     ]
    },
    {
     "name": "stderr",
     "output_type": "stream",
     "text": [
      "100%|█████████▉| 999/1000 [27:34:02<00:41, 41.16s/it]"
     ]
    },
    {
     "name": "stdout",
     "output_type": "stream",
     "text": [
      "eigenvalues shape torch.Size([5]) eigenvectors shape torch.Size([5, 400])\n",
      "999 /home/phdcs2/Hard_Disk/Datasets/Deep-Spectral-Segmentation/data/object-segmentation/ECSSD/features/dino_vits16/1000.pth\n",
      "1000\n",
      "tanh_feats.shape= torch.Size([400, 384])\n"
     ]
    },
    {
     "name": "stderr",
     "output_type": "stream",
     "text": [
      "100%|██████████| 1000/1000 [27:34:40<00:00, 99.28s/it]"
     ]
    },
    {
     "name": "stdout",
     "output_type": "stream",
     "text": [
      "W_feat_ds.shape= torch.Size([400, 400])\n",
      "W_feat_hist_pearsoncorr.shape= torch.Size([400, 400])\n",
      "<class 'torch.Tensor'>\n",
      "eigenvalues shape torch.Size([5]) eigenvectors shape torch.Size([5, 400])\n"
     ]
    },
    {
     "name": "stderr",
     "output_type": "stream",
     "text": [
      "\n"
     ]
    }
   ],
   "source": [
    "#Incorporating JS-Divergence in addition to Cosine Affinity\n",
    "utils.make_output_dir(output_dir)\n",
    "inputs = list(enumerate(sorted(Path(features_dir).iterdir())))\n",
    "device = \"cuda\" if torch.cuda.is_available() else \"cpu\"\n",
    "for inp in tqdm(inputs):\n",
    "    index, features_file = inp\n",
    "    print(index, features_file)\n",
    "     # Load\n",
    "    data_dict = torch.load(features_file, map_location='cpu')\n",
    "    # print(data_dict.keys())   #['k', 'indices', 'file', 'id', 'model_name', 'patch_size', 'shape']\n",
    "    # print(\"shape=\", data_dict['shape'], \"k shape\", data_dict['k'].shape, \"patch_size=\", data_dict['patch_size'])\n",
    "    image_id = data_dict['file'][:-4]\n",
    "    print(image_id)\n",
    "    # Load\n",
    "    output_file = str(Path(output_dir) / f'{image_id}.pth')\n",
    "    if Path(output_file).is_file():\n",
    "        print(f'Skipping existing file {str(output_file)}')\n",
    "        # break\n",
    "        # return  # skip because already generated\n",
    "\n",
    "    # Load affinity matrix\n",
    "    feats = data_dict[which_features].squeeze().cuda()\n",
    "    # print(\"Without normalizing, Features Shape is\",feats.shape)\n",
    "    if normalize:\n",
    "        feats = F.normalize(feats, p=2, dim=-1)\n",
    "    # print(\"After normalization, Features Shape\",feats.shape)\n",
    "    # print(\"which_matrix=\", which_matrix)\n",
    "    # Eigenvectors of affinity matrix\n",
    "    if which_matrix == 'affinity_torch':\n",
    "        W = feats @ feats.T\n",
    "        # W_feat=contrastive_affinity(feats, feats.T)\n",
    "        # print(\"W shape=\", W.shape)\n",
    "        if threshold_at_zero:\n",
    "            W = (W * (W > 0))\n",
    "            # print(\"W shape=\", W.shape)\n",
    "        eigenvalues, eigenvectors = torch.eig(W, eigenvectors=True)\n",
    "        eigenvalues = eigenvalues.cpu()\n",
    "        eigenvectors = eigenvectors.cpu()\n",
    "        print(\"which matrix=\",which_matrix, \"eigenvalues shape\", eigenvalues.shape, \"eigenvectors shape\", eigenvectors.shape)\n",
    "\n",
    "\n",
    "    # Eigenvectors of affinity matrix with scipy\n",
    "    elif which_matrix == 'affinity_svd':\n",
    "        USV = torch.linalg.svd(feats, full_matrices=False)\n",
    "        eigenvectors = USV[0][:, :K].T.to('cpu', non_blocking=True)\n",
    "        eigenvalues = USV[1][:K].to('cpu', non_blocking=True)\n",
    "        print(\"which matrix=\",which_matrix,\"eigenvalues shape\", eigenvalues.shape, \"eigenvectors shape\", eigenvectors.shape)\n",
    "\n",
    "    # Eigenvectors of affinity matrix with scipy\n",
    "    elif which_matrix == 'affinity':\n",
    "        # print(\"Without normalizing, Features Shape is\",feats.shape)\n",
    "        W = (feats @ feats.T)\n",
    "        # W_feat=contrastive_affinity(feats, feats.T)\n",
    "        # print(\"W shape=\", W.shape)\n",
    "        if threshold_at_zero:\n",
    "            W = (W * (W > 0))\n",
    "        W = W.cpu().numpy()\n",
    "        # print(\"W shape=\", W.shape)\n",
    "        eigenvalues, eigenvectors = eigsh(W, which='LM', k=K)\n",
    "        eigenvectors = torch.flip(torch.from_numpy(eigenvectors), dims=(-1,)).T\n",
    "        print(\"which matrix=\",which_matrix, \"eigenvalues shape\", eigenvalues.shape, \"eigenvectors shape\", eigenvectors.shape)\n",
    "\n",
    "    # Eigenvectors of matting laplacian matrix\n",
    "    elif which_matrix in ['matting_laplacian', 'laplacian']:\n",
    "\n",
    "        # Get sizes\n",
    "        B, C, H, W, P, H_patch, W_patch, H_pad, W_pad = utils.get_image_sizes(data_dict)\n",
    "        if image_downsample_factor is None:\n",
    "            image_downsample_factor = P\n",
    "        H_pad_lr, W_pad_lr = H_pad // image_downsample_factor, W_pad // image_downsample_factor\n",
    "\n",
    "        # Upscale features to match the resolution\n",
    "        if (H_patch, W_patch) != (H_pad_lr, W_pad_lr):\n",
    "            feats = F.interpolate(\n",
    "                feats.T.reshape(1, -1, H_patch, W_patch),\n",
    "                size=(H_pad_lr, W_pad_lr), mode='bilinear', align_corners=False\n",
    "            ).reshape(-1, H_pad_lr * W_pad_lr).T\n",
    "\n",
    "        ### Feature affinities\n",
    "        # print(\"Without normalizing, Features Shape is\",feats.shape)\n",
    "\n",
    "        W_feat_ds = (feats @ feats.T)\n",
    "        tanh_feats=torch.tanh(feats)\n",
    "        print(\"tanh_feats.shape=\", tanh_feats.shape)\n",
    "        rows=tanh_feats.shape[0]\n",
    "        W_feat_hist_pearsoncorr=torch.zeros(rows, rows)\n",
    "        for i in range(rows):\n",
    "            t1=tanh_feats[i]\n",
    "            # print(\"t1.shape=\", t1.shape)\n",
    "            min_t1=torch.min(t1)\n",
    "            max_t1=torch.max(t1)\n",
    "            # print(\"minimum of t1=\", min_t1)\n",
    "            # print(\"maximum of t1=\", max_t1)\n",
    "            # Calculate the histogram\n",
    "            hist1 = torch.histc(t1, bins=20, min=-1, max=1)\n",
    "            # print(hist1)\n",
    "            for j in range(rows):\n",
    "                t2=tanh_feats[i]\n",
    "                # t1_float = t1.float()\n",
    "                # print(\"t1.shape=\", t1.shape)\n",
    "                min_t1=torch.min(t2)\n",
    "                max_t1=torch.max(t2)\n",
    "                # print(\"minimum of t1=\", min_t1)\n",
    "                # print(\"maximum of t1=\", max_t1)\n",
    "                # print()\n",
    "                # Calculate the histogram\n",
    "                hist2 = torch.histc(t1, bins=20, min=-1, max=1)\n",
    "                # print(hist2)\n",
    "                hist_pearsoncorr=pearson_correlation(hist1, hist2)\n",
    "                W_feat_hist_pearsoncorr[i,j]=hist_pearsoncorr.item()\n",
    "        W_feat_ds=W_feat_ds.to(device)\n",
    "        W_feat_hist_pearsoncorr=W_feat_hist_pearsoncorr.to(device)\n",
    "        print(\"W_feat_ds.shape=\", W_feat_ds.shape)\n",
    "        print(\"W_feat_hist_pearsoncorr.shape=\", W_feat_hist_pearsoncorr.shape)\n",
    "        W_feat=W_feat_ds+W_feat_hist_pearsoncorr\n",
    "        print(type(W_feat_hist_pearsoncorr))\n",
    "        # print(W_feat.shape)\n",
    "        # print(W_feat)\n",
    "        if threshold_at_zero:\n",
    "            W_feat = (W_feat * (W_feat > 0))\n",
    "        W_feat = W_feat / W_feat.max()  # NOTE: If features are normalized, this naturally does nothing\n",
    "        # W_feat = W_feat.cpu().numpy()\n",
    "        W_feat = W_feat.detach().cpu().numpy()\n",
    "        # print(\"W_feat shape=\",W_feat.shape)\n",
    "\n",
    "        ### Color affinities\n",
    "        # If we are fusing with color affinites, then load the image and compute\n",
    "        if image_color_lambda > 0:\n",
    "\n",
    "            # Load image\n",
    "            image_file = str(Path(images_root) / f'{image_id}.jpg')\n",
    "            image_lr = Image.open(image_file).resize((W_pad_lr, H_pad_lr), Image.BILINEAR)\n",
    "            image_lr = np.array(image_lr) / 255.\n",
    "\n",
    "            # Color affinities (of type scipy.sparse.csr_matrix)\n",
    "            if which_color_matrix == 'knn':\n",
    "                W_lr = utils.knn_affinity(image_lr / 255)\n",
    "            elif which_color_matrix == 'rw':\n",
    "                W_lr = utils.rw_affinity(image_lr / 255)\n",
    "\n",
    "            # Convert to dense numpy array\n",
    "            W_color = np.array(W_lr.todense().astype(np.float32))\n",
    "            # print(\"W_color shape\", W_color.shape)\n",
    "\n",
    "        else:\n",
    "\n",
    "            # No color affinity\n",
    "            W_color = 0\n",
    "\n",
    "        # Combine\n",
    "        W_comb = W_feat + W_color * image_color_lambda  # combination\n",
    "        D_comb = np.array(utils.get_diagonal(W_comb_tmp).todense())  # is dense or sparse faster? not sure, should check\n",
    "        # W_comb=np.nan_to_num(W_comb_tmp, nan=0.0)\n",
    "        # D_comb=np.nan_to_num(D_comb_tmp, nan=0.0)\n",
    "        # print(\"W_comb shape= \", W_comb.shape, \"D_comb shape\",  D_comb.shape)\n",
    "        if lapnorm:\n",
    "            try:\n",
    "                eigenvalues, eigenvectors = eigsh(D_comb - W_comb, k=K, sigma=0, which='LM', M=D_comb)\n",
    "            except:\n",
    "                eigenvalues, eigenvectors = eigsh(D_comb - W_comb, k=K, which='SM', M=D_comb)\n",
    "        else:\n",
    "            try:\n",
    "                eigenvalues, eigenvectors = eigsh(D_comb - W_comb, k=K, sigma=0, which='LM')\n",
    "            except:\n",
    "                eigenvalues, eigenvectors = eigsh(D_comb - W_comb, k=K, which='SM')\n",
    "        eigenvalues, eigenvectors = torch.from_numpy(eigenvalues), torch.from_numpy(eigenvectors.T).float()\n",
    "    print(\"eigenvalues shape\", eigenvalues.shape, \"eigenvectors shape\", eigenvectors.shape)\n",
    "    # Sign ambiguity\n",
    "    for k in range(eigenvectors.shape[0]):\n",
    "        if 0.5 < torch.mean((eigenvectors[k] > 0).float()).item() < 1.0:  # reverse segment\n",
    "            eigenvectors[k] = 0 - eigenvectors[k]\n",
    "\n",
    "    # Save dict\n",
    "    output_dict = {'eigenvalues': eigenvalues, 'eigenvectors': eigenvectors}\n",
    "    torch.save(output_dict, output_file)"
   ]
  }
 ],
 "metadata": {
  "kernelspec": {
   "display_name": "Python 3 (ipykernel)",
   "language": "python",
   "name": "python3"
  },
  "language_info": {
   "codemirror_mode": {
    "name": "ipython",
    "version": 3
   },
   "file_extension": ".py",
   "mimetype": "text/x-python",
   "name": "python",
   "nbconvert_exporter": "python",
   "pygments_lexer": "ipython3",
   "version": "3.8.10"
  }
 },
 "nbformat": 4,
 "nbformat_minor": 1
}