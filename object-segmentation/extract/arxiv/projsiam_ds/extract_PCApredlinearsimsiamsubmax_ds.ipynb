{
 "cells": [
  {
   "cell_type": "code",
   "execution_count": 1,
   "metadata": {
    "pycharm": {
     "name": "#%%\n"
    }
   },
   "outputs": [],
   "source": [
    "# from functools import partial\n",
    "from pathlib import Path\n",
    "# from typing import Optional, Tuple\n",
    "# import cv2\n",
    "# import fire\n",
    "import numpy as np\n",
    "import torch\n",
    "import torch.nn.functional as F\n",
    "from accelerate import Accelerator\n",
    "from PIL import Image\n",
    "from scipy.sparse.linalg import eigsh\n",
    "# from sklearn.cluster import KMeans, MiniBatchKMeans\n",
    "from sklearn.decomposition import PCA\n",
    "# from torchvision.utils import draw_bounding_boxes\n",
    "from tqdm import tqdm\n",
    "import extract_utils as utils\n",
    "from torch.utils.data import Dataset, DataLoader\n",
    "from lightly.loss import NegativeCosineSimilarity\n",
    "from lightly.models.modules import SimSiamPredictionHead, SimSiamProjectionHead\n",
    "from torch import nn\n",
    "import torchvision\n",
    "from scipy.ndimage import affine_transform"
   ]
  },
  {
   "cell_type": "markdown",
   "metadata": {
    "pycharm": {
     "name": "#%% md\n"
    }
   },
   "source": [
    "## Extract Eigen Vectors"
   ]
  },
  {
   "cell_type": "code",
   "execution_count": 2,
   "metadata": {
    "pycharm": {
     "name": "#%%\n"
    }
   },
   "outputs": [],
   "source": [
    "images_root=\"/home/phdcs2/Hard_Disk/Datasets/Deep-Spectral-Segmentation/data/object-segmentation/ECSSD/images\"\n",
    "features_dir=\"/home/phdcs2/Hard_Disk/Datasets/Deep-Spectral-Segmentation/data/object-segmentation/ECSSD/features/dino_vits16\"\n",
    "output_dir=\"/home/phdcs2/Hard_Disk/Datasets/Deep-Spectral-Segmentation/data/object-segmentation/ECSSD/eigs_dot1PCA64predsubmax_ds_10_color8\"\n",
    "which_matrix= 'laplacian'\n",
    "which_color_matrix= 'rw'\n",
    "which_features= 'k'\n",
    "normalize=True\n",
    "threshold_at_zero=True\n",
    "lapnorm= True\n",
    "K= 5\n",
    "image_downsample_factor = None\n",
    "image_color_lambda = 8.0\n",
    "multiprocessing = 0\n",
    "batch_size=2\n",
    "epochs=10"
   ]
  },
  {
   "cell_type": "markdown",
   "metadata": {
    "pycharm": {
     "name": "#%% md\n"
    }
   },
   "source": [
    "## Incorporating SimSiam"
   ]
  },
  {
   "cell_type": "code",
   "execution_count": 3,
   "metadata": {
    "pycharm": {
     "name": "#%%\n"
    }
   },
   "outputs": [],
   "source": [
    "# Define a custom dataset class\n",
    "class Feature_Dataset(Dataset):\n",
    "    def __init__(self, features):\n",
    "        self.features = features\n",
    "\n",
    "    def __getitem__(self, index):\n",
    "        return self.features[index]\n",
    "\n",
    "    def __len__(self):\n",
    "        return len(self.features)"
   ]
  },
  {
   "cell_type": "code",
   "execution_count": 4,
   "metadata": {
    "pycharm": {
     "name": "#%%\n"
    }
   },
   "outputs": [],
   "source": [
    "# class SimSiam(nn.Module):\n",
    "#     def __init__(self):\n",
    "#         super().__init__()\n",
    "#         self.projection_head = SimSiamProjectionHead(feats.shape[1], 128,feats.shape[1])\n",
    "#         self.prediction_head = SimSiamPredictionHead(feats.shape[1], 128, feats.shape[1])\n",
    "#\n",
    "#     def forward(self, x):\n",
    "#         z = self.projection_head(x)\n",
    "#         p = self.prediction_head(z)\n",
    "#         z = z.detach()\n",
    "#         return z, p"
   ]
  },
  {
   "cell_type": "code",
   "execution_count": 5,
   "metadata": {
    "pycharm": {
     "name": "#%%\n"
    }
   },
   "outputs": [],
   "source": [
    "# def normalize_affinity_matrix(affinity_matrix, axis=0):\n",
    "#     if axis == 1:\n",
    "#         # Normalize by row-wise sums\n",
    "#         row_sums = torch.sum(affinity_matrix, dim=1, keepdim=True)\n",
    "#         print(row_sums)\n",
    "#         normalized_matrix = affinity_matrix / row_sums\n",
    "#     elif axis == 0:\n",
    "#         # Normalize by column-wise sums\n",
    "#         col_sums = torch.sum(affinity_matrix, dim=0, keepdim=True)\n",
    "#         normalized_matrix = affinity_matrix / col_sums\n",
    "#     else:\n",
    "#         raise ValueError(\"Invalid axis. Axis must be either 0 or 1.\")\n",
    "\n",
    "#     return normalized_matrix"
   ]
  },
  {
   "cell_type": "code",
   "execution_count": 6,
   "metadata": {
    "pycharm": {
     "is_executing": true,
     "name": "#%%\n"
    }
   },
   "outputs": [
    {
     "name": "stderr",
     "output_type": "stream",
     "text": [
      "\r",
      "  0%|                                                                                                                                                                             | 0/1000 [00:00<?, ?it/s]"
     ]
    },
    {
     "name": "stdout",
     "output_type": "stream",
     "text": [
      "0 /home/phdcs2/Hard_Disk/Datasets/Deep-Spectral-Segmentation/data/object-segmentation/ECSSD/features/dino_vits16/0001.pth\n",
      "dict_keys(['k', 'indices', 'file', 'id', 'model_name', 'patch_size', 'shape'])\n",
      "0001\n",
      "Starting Training\n",
      "epoch: 00, loss: -0.01491\n",
      "epoch: 01, loss: -0.03109\n",
      "epoch: 02, loss: -0.03374\n",
      "epoch: 03, loss: -0.03456\n",
      "epoch: 04, loss: -0.03498\n",
      "epoch: 05, loss: -0.03526\n",
      "epoch: 06, loss: -0.03551\n",
      "epoch: 07, loss: -0.03561\n",
      "epoch: 08, loss: -0.03574\n",
      "epoch: 09, loss: -0.03594\n",
      "torch.Size([400, 64])\n"
     ]
    },
    {
     "name": "stderr",
     "output_type": "stream",
     "text": [
      "\r",
      "  0%|▏                                                                                                                                                                  | 1/1000 [00:17<4:44:44, 17.10s/it]"
     ]
    },
    {
     "name": "stdout",
     "output_type": "stream",
     "text": [
      "eigenvalues shape torch.Size([5]) eigenvectors shape torch.Size([5, 400])\n",
      "1 /home/phdcs2/Hard_Disk/Datasets/Deep-Spectral-Segmentation/data/object-segmentation/ECSSD/features/dino_vits16/0002.pth\n",
      "dict_keys(['k', 'indices', 'file', 'id', 'model_name', 'patch_size', 'shape'])\n",
      "0002\n",
      "Starting Training\n",
      "epoch: 00, loss: -0.02366\n",
      "epoch: 01, loss: -0.04245\n",
      "epoch: 02, loss: -0.04423\n",
      "epoch: 03, loss: -0.04483\n",
      "epoch: 04, loss: -0.04531\n",
      "epoch: 05, loss: -0.04526\n",
      "epoch: 06, loss: -0.04577\n",
      "epoch: 07, loss: -0.04568\n",
      "epoch: 08, loss: -0.04592\n",
      "epoch: 09, loss: -0.04611\n",
      "torch.Size([400, 64])\n"
     ]
    },
    {
     "name": "stderr",
     "output_type": "stream",
     "text": [
      "\r",
      "  0%|▎                                                                                                                                                                  | 2/1000 [00:33<4:34:09, 16.48s/it]"
     ]
    },
    {
     "name": "stdout",
     "output_type": "stream",
     "text": [
      "eigenvalues shape torch.Size([5]) eigenvectors shape torch.Size([5, 400])\n",
      "2 /home/phdcs2/Hard_Disk/Datasets/Deep-Spectral-Segmentation/data/object-segmentation/ECSSD/features/dino_vits16/0003.pth\n",
      "dict_keys(['k', 'indices', 'file', 'id', 'model_name', 'patch_size', 'shape'])\n",
      "0003\n",
      "Starting Training\n",
      "epoch: 00, loss: -0.01820\n",
      "epoch: 01, loss: -0.03694\n",
      "epoch: 02, loss: -0.03883\n",
      "epoch: 03, loss: -0.03946\n",
      "epoch: 04, loss: -0.04002\n",
      "epoch: 05, loss: -0.04025\n",
      "epoch: 06, loss: -0.04035\n",
      "epoch: 07, loss: -0.04050\n",
      "epoch: 08, loss: -0.04075\n",
      "epoch: 09, loss: -0.04084\n",
      "torch.Size([400, 64])\n"
     ]
    },
    {
     "name": "stderr",
     "output_type": "stream",
     "text": [
      "\r",
      "  0%|▍                                                                                                                                                                  | 3/1000 [00:49<4:34:49, 16.54s/it]"
     ]
    },
    {
     "name": "stdout",
     "output_type": "stream",
     "text": [
      "eigenvalues shape torch.Size([5]) eigenvectors shape torch.Size([5, 400])\n",
      "3 /home/phdcs2/Hard_Disk/Datasets/Deep-Spectral-Segmentation/data/object-segmentation/ECSSD/features/dino_vits16/0004.pth\n",
      "dict_keys(['k', 'indices', 'file', 'id', 'model_name', 'patch_size', 'shape'])\n",
      "0004\n",
      "Starting Training\n",
      "epoch: 00, loss: -0.03547\n",
      "epoch: 01, loss: -0.05796\n",
      "epoch: 02, loss: -0.06113\n",
      "epoch: 03, loss: -0.06389\n",
      "epoch: 04, loss: -0.06317\n",
      "epoch: 05, loss: -0.06544\n",
      "epoch: 06, loss: -0.06593\n",
      "epoch: 07, loss: -0.06687\n",
      "epoch: 08, loss: -0.06653\n",
      "epoch: 09, loss: -0.06493\n",
      "torch.Size([400, 64])\n"
     ]
    },
    {
     "name": "stderr",
     "output_type": "stream",
     "text": [
      "\r",
      "  0%|▋                                                                                                                                                                  | 4/1000 [01:09<4:52:18, 17.61s/it]"
     ]
    },
    {
     "name": "stdout",
     "output_type": "stream",
     "text": [
      "eigenvalues shape torch.Size([5]) eigenvectors shape torch.Size([5, 400])\n",
      "4 /home/phdcs2/Hard_Disk/Datasets/Deep-Spectral-Segmentation/data/object-segmentation/ECSSD/features/dino_vits16/0005.pth\n",
      "dict_keys(['k', 'indices', 'file', 'id', 'model_name', 'patch_size', 'shape'])\n",
      "0005\n",
      "Starting Training\n",
      "epoch: 00, loss: -0.01870\n",
      "epoch: 01, loss: -0.03782\n",
      "epoch: 02, loss: -0.04109\n",
      "epoch: 03, loss: -0.04160\n",
      "epoch: 04, loss: -0.04208\n",
      "epoch: 05, loss: -0.04219\n",
      "epoch: 06, loss: -0.04242\n",
      "epoch: 07, loss: -0.04266\n",
      "epoch: 08, loss: -0.04286\n",
      "epoch: 09, loss: -0.04281\n",
      "torch.Size([400, 64])\n"
     ]
    },
    {
     "name": "stderr",
     "output_type": "stream",
     "text": [
      "/home/phdcs2/Hard_Disk/Projects/T2I/deep-spectral-segmentation/venv/lib/python3.8/site-packages/scipy/sparse/linalg/_eigen/arpack/arpack.py:935: LinAlgWarning: Diagonal number 400 is exactly zero. Singular matrix.\n",
      "  self.M_lu = lu_factor(M)\n"
     ]
    },
    {
     "name": "stdout",
     "output_type": "stream",
     "text": [
      " ** On entry to SLASCL parameter number  4 had an illegal value\n",
      " ** On entry to SLASCL parameter number  4 had an illegal value\n"
     ]
    },
    {
     "name": "stderr",
     "output_type": "stream",
     "text": [
      "\r",
      "  0%|▊                                                                                                                                                                  | 5/1000 [01:34<5:39:05, 20.45s/it]"
     ]
    },
    {
     "name": "stdout",
     "output_type": "stream",
     "text": [
      "eigenvalues shape torch.Size([5]) eigenvectors shape torch.Size([5, 400])\n",
      "5 /home/phdcs2/Hard_Disk/Datasets/Deep-Spectral-Segmentation/data/object-segmentation/ECSSD/features/dino_vits16/0006.pth\n",
      "dict_keys(['k', 'indices', 'file', 'id', 'model_name', 'patch_size', 'shape'])\n",
      "0006\n",
      "Starting Training\n",
      "epoch: 00, loss: -0.03138\n",
      "epoch: 01, loss: -0.05353\n",
      "epoch: 02, loss: -0.05535\n",
      "epoch: 03, loss: -0.05572\n",
      "epoch: 04, loss: -0.05610\n",
      "epoch: 05, loss: -0.05655\n",
      "epoch: 06, loss: -0.05635\n",
      "epoch: 07, loss: -0.05657\n",
      "epoch: 08, loss: -0.05681\n",
      "epoch: 09, loss: -0.05679\n",
      "torch.Size([400, 64])\n"
     ]
    },
    {
     "name": "stderr",
     "output_type": "stream",
     "text": [
      "\r",
      "  1%|▉                                                                                                                                                                  | 6/1000 [01:51<5:20:07, 19.32s/it]"
     ]
    },
    {
     "name": "stdout",
     "output_type": "stream",
     "text": [
      "eigenvalues shape torch.Size([5]) eigenvectors shape torch.Size([5, 400])\n",
      "6 /home/phdcs2/Hard_Disk/Datasets/Deep-Spectral-Segmentation/data/object-segmentation/ECSSD/features/dino_vits16/0007.pth\n",
      "dict_keys(['k', 'indices', 'file', 'id', 'model_name', 'patch_size', 'shape'])\n",
      "0007\n",
      "Starting Training\n",
      "epoch: 00, loss: -0.02455\n",
      "epoch: 01, loss: -0.04651\n",
      "epoch: 02, loss: -0.04841\n",
      "epoch: 03, loss: -0.04912\n",
      "epoch: 04, loss: -0.04949\n",
      "epoch: 05, loss: -0.04970\n",
      "epoch: 06, loss: -0.04978\n",
      "epoch: 07, loss: -0.04971\n",
      "epoch: 08, loss: -0.04992\n",
      "epoch: 09, loss: -0.05003\n",
      "torch.Size([400, 64])\n"
     ]
    },
    {
     "name": "stderr",
     "output_type": "stream",
     "text": [
      "\r",
      "  1%|█▏                                                                                                                                                                 | 7/1000 [02:10<5:19:34, 19.31s/it]"
     ]
    },
    {
     "name": "stdout",
     "output_type": "stream",
     "text": [
      "eigenvalues shape torch.Size([5]) eigenvectors shape torch.Size([5, 400])\n",
      "7 /home/phdcs2/Hard_Disk/Datasets/Deep-Spectral-Segmentation/data/object-segmentation/ECSSD/features/dino_vits16/0008.pth\n",
      "dict_keys(['k', 'indices', 'file', 'id', 'model_name', 'patch_size', 'shape'])\n",
      "0008\n",
      "Starting Training\n",
      "epoch: 00, loss: -0.07693\n",
      "epoch: 01, loss: -0.11193\n",
      "epoch: 02, loss: -0.11396\n",
      "epoch: 03, loss: -0.12125\n",
      "epoch: 04, loss: -0.11936\n",
      "epoch: 05, loss: -0.12086\n",
      "epoch: 06, loss: -0.12696\n",
      "epoch: 07, loss: -0.12523\n",
      "epoch: 08, loss: -0.12297\n",
      "epoch: 09, loss: -0.12434\n",
      "torch.Size([400, 64])\n"
     ]
    },
    {
     "name": "stderr",
     "output_type": "stream",
     "text": [
      "\r",
      "  1%|█▎                                                                                                                                                                 | 8/1000 [02:29<5:15:44, 19.10s/it]"
     ]
    },
    {
     "name": "stdout",
     "output_type": "stream",
     "text": [
      "eigenvalues shape torch.Size([5]) eigenvectors shape torch.Size([5, 400])\n",
      "8 /home/phdcs2/Hard_Disk/Datasets/Deep-Spectral-Segmentation/data/object-segmentation/ECSSD/features/dino_vits16/0009.pth\n",
      "dict_keys(['k', 'indices', 'file', 'id', 'model_name', 'patch_size', 'shape'])\n",
      "0009\n",
      "Starting Training\n",
      "epoch: 00, loss: -0.02601\n",
      "epoch: 01, loss: -0.05514\n",
      "epoch: 02, loss: -0.05930\n",
      "epoch: 03, loss: -0.05972\n",
      "epoch: 04, loss: -0.06299\n",
      "epoch: 05, loss: -0.06403\n",
      "epoch: 06, loss: -0.06175\n",
      "epoch: 07, loss: -0.06201\n",
      "epoch: 08, loss: -0.06620\n",
      "epoch: 09, loss: -0.06344\n",
      "torch.Size([400, 64])\n"
     ]
    },
    {
     "name": "stderr",
     "output_type": "stream",
     "text": [
      "\r",
      "  1%|█▍                                                                                                                                                                 | 9/1000 [02:48<5:13:11, 18.96s/it]"
     ]
    },
    {
     "name": "stdout",
     "output_type": "stream",
     "text": [
      "eigenvalues shape torch.Size([5]) eigenvectors shape torch.Size([5, 400])\n",
      "9 /home/phdcs2/Hard_Disk/Datasets/Deep-Spectral-Segmentation/data/object-segmentation/ECSSD/features/dino_vits16/0010.pth\n",
      "dict_keys(['k', 'indices', 'file', 'id', 'model_name', 'patch_size', 'shape'])\n",
      "0010\n",
      "Starting Training\n",
      "epoch: 00, loss: -0.05800\n",
      "epoch: 01, loss: -0.08896\n",
      "epoch: 02, loss: -0.09543\n",
      "epoch: 03, loss: -0.09798\n",
      "epoch: 04, loss: -0.09947\n",
      "epoch: 05, loss: -0.10252\n",
      "epoch: 06, loss: -0.09740\n",
      "epoch: 07, loss: -0.09993\n",
      "epoch: 08, loss: -0.10293\n",
      "epoch: 09, loss: -0.10279\n",
      "torch.Size([400, 64])\n"
     ]
    },
    {
     "name": "stderr",
     "output_type": "stream",
     "text": [
      "\r",
      "  1%|█▌                                                                                                                                                                | 10/1000 [03:04<5:00:06, 18.19s/it]"
     ]
    },
    {
     "name": "stdout",
     "output_type": "stream",
     "text": [
      "eigenvalues shape torch.Size([5]) eigenvectors shape torch.Size([5, 400])\n",
      "10 /home/phdcs2/Hard_Disk/Datasets/Deep-Spectral-Segmentation/data/object-segmentation/ECSSD/features/dino_vits16/0011.pth\n",
      "dict_keys(['k', 'indices', 'file', 'id', 'model_name', 'patch_size', 'shape'])\n",
      "0011\n",
      "Starting Training\n",
      "epoch: 00, loss: -0.07309\n",
      "epoch: 01, loss: -0.10256\n",
      "epoch: 02, loss: -0.10713\n",
      "epoch: 03, loss: -0.10805\n",
      "epoch: 04, loss: -0.11132\n",
      "epoch: 05, loss: -0.11206\n",
      "epoch: 06, loss: -0.11261\n",
      "epoch: 07, loss: -0.11139\n",
      "epoch: 08, loss: -0.11232\n",
      "epoch: 09, loss: -0.11365\n",
      "torch.Size([400, 64])\n"
     ]
    },
    {
     "name": "stderr",
     "output_type": "stream",
     "text": [
      "\r",
      "  1%|█▊                                                                                                                                                                | 11/1000 [03:22<4:58:53, 18.13s/it]"
     ]
    },
    {
     "name": "stdout",
     "output_type": "stream",
     "text": [
      "eigenvalues shape torch.Size([5]) eigenvectors shape torch.Size([5, 400])\n",
      "11 /home/phdcs2/Hard_Disk/Datasets/Deep-Spectral-Segmentation/data/object-segmentation/ECSSD/features/dino_vits16/0012.pth\n",
      "dict_keys(['k', 'indices', 'file', 'id', 'model_name', 'patch_size', 'shape'])\n",
      "0012\n",
      "Starting Training\n",
      "epoch: 00, loss: -0.04151\n",
      "epoch: 01, loss: -0.08060\n",
      "epoch: 02, loss: -0.08304\n",
      "epoch: 03, loss: -0.08592\n",
      "epoch: 04, loss: -0.08661\n",
      "epoch: 05, loss: -0.08783\n",
      "epoch: 06, loss: -0.08850\n",
      "epoch: 07, loss: -0.08705\n",
      "epoch: 08, loss: -0.08962\n",
      "epoch: 09, loss: -0.08746\n",
      "torch.Size([400, 64])\n"
     ]
    },
    {
     "name": "stderr",
     "output_type": "stream",
     "text": [
      "\r",
      "  1%|█▉                                                                                                                                                                | 12/1000 [03:39<4:51:20, 17.69s/it]"
     ]
    },
    {
     "name": "stdout",
     "output_type": "stream",
     "text": [
      "eigenvalues shape torch.Size([5]) eigenvectors shape torch.Size([5, 400])\n",
      "12 /home/phdcs2/Hard_Disk/Datasets/Deep-Spectral-Segmentation/data/object-segmentation/ECSSD/features/dino_vits16/0013.pth\n",
      "dict_keys(['k', 'indices', 'file', 'id', 'model_name', 'patch_size', 'shape'])\n",
      "0013\n",
      "Starting Training\n",
      "epoch: 00, loss: -0.00296\n",
      "epoch: 01, loss: -0.02386\n",
      "epoch: 02, loss: -0.02943\n",
      "epoch: 03, loss: -0.03114\n",
      "epoch: 04, loss: -0.03176\n",
      "epoch: 05, loss: -0.03214\n",
      "epoch: 06, loss: -0.03242\n",
      "epoch: 07, loss: -0.03274\n",
      "epoch: 08, loss: -0.03276\n",
      "epoch: 09, loss: -0.03281\n",
      "torch.Size([400, 64])\n"
     ]
    },
    {
     "name": "stderr",
     "output_type": "stream",
     "text": [
      "\r",
      "  1%|██                                                                                                                                                                | 13/1000 [03:57<4:54:19, 17.89s/it]"
     ]
    },
    {
     "name": "stdout",
     "output_type": "stream",
     "text": [
      "eigenvalues shape torch.Size([5]) eigenvectors shape torch.Size([5, 400])\n",
      "13 /home/phdcs2/Hard_Disk/Datasets/Deep-Spectral-Segmentation/data/object-segmentation/ECSSD/features/dino_vits16/0014.pth\n",
      "dict_keys(['k', 'indices', 'file', 'id', 'model_name', 'patch_size', 'shape'])\n",
      "0014\n",
      "Starting Training\n",
      "epoch: 00, loss: -0.00123\n",
      "epoch: 01, loss: -0.00923\n",
      "epoch: 02, loss: -0.01246\n",
      "epoch: 03, loss: -0.01469\n",
      "epoch: 04, loss: -0.01615\n",
      "epoch: 05, loss: -0.01636\n",
      "epoch: 06, loss: -0.01667\n",
      "epoch: 07, loss: -0.01715\n",
      "epoch: 08, loss: -0.01727\n",
      "epoch: 09, loss: -0.01747\n",
      "torch.Size([400, 64])\n"
     ]
    },
    {
     "name": "stderr",
     "output_type": "stream",
     "text": [
      "\r",
      "  1%|██▎                                                                                                                                                               | 14/1000 [04:19<5:14:08, 19.12s/it]"
     ]
    },
    {
     "name": "stdout",
     "output_type": "stream",
     "text": [
      "eigenvalues shape torch.Size([5]) eigenvectors shape torch.Size([5, 400])\n",
      "14 /home/phdcs2/Hard_Disk/Datasets/Deep-Spectral-Segmentation/data/object-segmentation/ECSSD/features/dino_vits16/0015.pth\n",
      "dict_keys(['k', 'indices', 'file', 'id', 'model_name', 'patch_size', 'shape'])\n",
      "0015\n",
      "Starting Training\n",
      "epoch: 00, loss: -0.04556\n",
      "epoch: 01, loss: -0.07350\n",
      "epoch: 02, loss: -0.07870\n",
      "epoch: 03, loss: -0.07865\n",
      "epoch: 04, loss: -0.08057\n",
      "epoch: 05, loss: -0.08123\n",
      "epoch: 06, loss: -0.08586\n",
      "epoch: 07, loss: -0.08041\n",
      "epoch: 08, loss: -0.08333\n",
      "epoch: 09, loss: -0.07996\n",
      "torch.Size([400, 64])\n"
     ]
    },
    {
     "name": "stderr",
     "output_type": "stream",
     "text": [
      "\r",
      "  2%|██▍                                                                                                                                                               | 15/1000 [04:39<5:15:46, 19.23s/it]"
     ]
    },
    {
     "name": "stdout",
     "output_type": "stream",
     "text": [
      "eigenvalues shape torch.Size([5]) eigenvectors shape torch.Size([5, 400])\n",
      "15 /home/phdcs2/Hard_Disk/Datasets/Deep-Spectral-Segmentation/data/object-segmentation/ECSSD/features/dino_vits16/0016.pth\n",
      "dict_keys(['k', 'indices', 'file', 'id', 'model_name', 'patch_size', 'shape'])\n",
      "0016\n",
      "Starting Training\n",
      "epoch: 00, loss: -0.03838\n",
      "epoch: 01, loss: -0.06700\n",
      "epoch: 02, loss: -0.07203\n",
      "epoch: 03, loss: -0.07489\n",
      "epoch: 04, loss: -0.07695\n",
      "epoch: 05, loss: -0.07883\n",
      "epoch: 06, loss: -0.07674\n",
      "epoch: 07, loss: -0.07770\n",
      "epoch: 08, loss: -0.08082\n",
      "epoch: 09, loss: -0.07884\n",
      "torch.Size([400, 64])\n"
     ]
    },
    {
     "name": "stderr",
     "output_type": "stream",
     "text": [
      "\r",
      "  2%|██▌                                                                                                                                                               | 16/1000 [04:59<5:18:55, 19.45s/it]"
     ]
    },
    {
     "name": "stdout",
     "output_type": "stream",
     "text": [
      "eigenvalues shape torch.Size([5]) eigenvectors shape torch.Size([5, 400])\n",
      "16 /home/phdcs2/Hard_Disk/Datasets/Deep-Spectral-Segmentation/data/object-segmentation/ECSSD/features/dino_vits16/0017.pth\n",
      "dict_keys(['k', 'indices', 'file', 'id', 'model_name', 'patch_size', 'shape'])\n",
      "0017\n",
      "Starting Training\n",
      "epoch: 00, loss: -0.05181\n",
      "epoch: 01, loss: -0.07829\n",
      "epoch: 02, loss: -0.08107\n",
      "epoch: 03, loss: -0.08403\n",
      "epoch: 04, loss: -0.08458\n",
      "epoch: 05, loss: -0.08484\n",
      "epoch: 06, loss: -0.08390\n",
      "epoch: 07, loss: -0.08661\n",
      "epoch: 08, loss: -0.08727\n",
      "epoch: 09, loss: -0.08667\n",
      "torch.Size([400, 64])\n"
     ]
    },
    {
     "name": "stderr",
     "output_type": "stream",
     "text": [
      "\r",
      "  2%|██▊                                                                                                                                                               | 17/1000 [05:21<5:35:31, 20.48s/it]"
     ]
    },
    {
     "name": "stdout",
     "output_type": "stream",
     "text": [
      "eigenvalues shape torch.Size([5]) eigenvectors shape torch.Size([5, 400])\n",
      "17 /home/phdcs2/Hard_Disk/Datasets/Deep-Spectral-Segmentation/data/object-segmentation/ECSSD/features/dino_vits16/0018.pth\n",
      "dict_keys(['k', 'indices', 'file', 'id', 'model_name', 'patch_size', 'shape'])\n",
      "0018\n",
      "Starting Training\n",
      "epoch: 00, loss: -0.04456\n",
      "epoch: 01, loss: -0.07017\n",
      "epoch: 02, loss: -0.07153\n",
      "epoch: 03, loss: -0.07182\n",
      "epoch: 04, loss: -0.07229\n",
      "epoch: 05, loss: -0.07217\n",
      "epoch: 06, loss: -0.07249\n",
      "epoch: 07, loss: -0.07278\n",
      "epoch: 08, loss: -0.07265\n",
      "epoch: 09, loss: -0.07290\n",
      "torch.Size([400, 64])\n"
     ]
    },
    {
     "name": "stderr",
     "output_type": "stream",
     "text": [
      "\r",
      "  2%|██▉                                                                                                                                                               | 18/1000 [05:43<5:38:41, 20.69s/it]"
     ]
    },
    {
     "name": "stdout",
     "output_type": "stream",
     "text": [
      "eigenvalues shape torch.Size([5]) eigenvectors shape torch.Size([5, 400])\n",
      "18 /home/phdcs2/Hard_Disk/Datasets/Deep-Spectral-Segmentation/data/object-segmentation/ECSSD/features/dino_vits16/0019.pth\n",
      "dict_keys(['k', 'indices', 'file', 'id', 'model_name', 'patch_size', 'shape'])\n",
      "0019\n",
      "Starting Training\n",
      "epoch: 00, loss: -0.02047\n",
      "epoch: 01, loss: -0.04097\n",
      "epoch: 02, loss: -0.04405\n",
      "epoch: 03, loss: -0.04481\n",
      "epoch: 04, loss: -0.04505\n",
      "epoch: 05, loss: -0.04601\n",
      "epoch: 06, loss: -0.04581\n",
      "epoch: 07, loss: -0.04608\n",
      "epoch: 08, loss: -0.04646\n",
      "epoch: 09, loss: -0.04714\n",
      "torch.Size([400, 64])\n"
     ]
    },
    {
     "name": "stderr",
     "output_type": "stream",
     "text": [
      "\r",
      "  2%|███                                                                                                                                                               | 19/1000 [06:01<5:25:05, 19.88s/it]"
     ]
    },
    {
     "name": "stdout",
     "output_type": "stream",
     "text": [
      "eigenvalues shape torch.Size([5]) eigenvectors shape torch.Size([5, 400])\n",
      "19 /home/phdcs2/Hard_Disk/Datasets/Deep-Spectral-Segmentation/data/object-segmentation/ECSSD/features/dino_vits16/0020.pth\n",
      "dict_keys(['k', 'indices', 'file', 'id', 'model_name', 'patch_size', 'shape'])\n",
      "0020\n",
      "Starting Training\n",
      "epoch: 00, loss: -0.03292\n",
      "epoch: 01, loss: -0.06118\n",
      "epoch: 02, loss: -0.06288\n",
      "epoch: 03, loss: -0.06350\n",
      "epoch: 04, loss: -0.06376\n",
      "epoch: 05, loss: -0.06392\n",
      "epoch: 06, loss: -0.06399\n",
      "epoch: 07, loss: -0.06420\n",
      "epoch: 08, loss: -0.06433\n",
      "epoch: 09, loss: -0.06441\n",
      "torch.Size([400, 64])\n"
     ]
    },
    {
     "name": "stderr",
     "output_type": "stream",
     "text": [
      "\r",
      "  2%|███▏                                                                                                                                                              | 20/1000 [06:21<5:26:54, 20.01s/it]"
     ]
    },
    {
     "name": "stdout",
     "output_type": "stream",
     "text": [
      "eigenvalues shape torch.Size([5]) eigenvectors shape torch.Size([5, 400])\n",
      "20 /home/phdcs2/Hard_Disk/Datasets/Deep-Spectral-Segmentation/data/object-segmentation/ECSSD/features/dino_vits16/0021.pth\n",
      "dict_keys(['k', 'indices', 'file', 'id', 'model_name', 'patch_size', 'shape'])\n",
      "0021\n",
      "Starting Training\n",
      "epoch: 00, loss: -0.05428\n",
      "epoch: 01, loss: -0.08139\n",
      "epoch: 02, loss: -0.08270\n",
      "epoch: 03, loss: -0.08355\n",
      "epoch: 04, loss: -0.08345\n",
      "epoch: 05, loss: -0.08409\n",
      "epoch: 06, loss: -0.08428\n",
      "epoch: 07, loss: -0.08428\n",
      "epoch: 08, loss: -0.08436\n",
      "epoch: 09, loss: -0.08464\n",
      "torch.Size([400, 64])\n"
     ]
    },
    {
     "name": "stderr",
     "output_type": "stream",
     "text": [
      "\r",
      "  2%|███▍                                                                                                                                                              | 21/1000 [06:40<5:19:14, 19.57s/it]"
     ]
    },
    {
     "name": "stdout",
     "output_type": "stream",
     "text": [
      "eigenvalues shape torch.Size([5]) eigenvectors shape torch.Size([5, 400])\n",
      "21 /home/phdcs2/Hard_Disk/Datasets/Deep-Spectral-Segmentation/data/object-segmentation/ECSSD/features/dino_vits16/0022.pth\n",
      "dict_keys(['k', 'indices', 'file', 'id', 'model_name', 'patch_size', 'shape'])\n",
      "0022\n",
      "Starting Training\n",
      "epoch: 00, loss: -0.02917\n",
      "epoch: 01, loss: -0.04735\n",
      "epoch: 02, loss: -0.04916\n",
      "epoch: 03, loss: -0.04971\n",
      "epoch: 04, loss: -0.05007\n",
      "epoch: 05, loss: -0.05021\n",
      "epoch: 06, loss: -0.05040\n",
      "epoch: 07, loss: -0.05040\n",
      "epoch: 08, loss: -0.05053\n",
      "epoch: 09, loss: -0.05080\n",
      "torch.Size([400, 64])\n"
     ]
    },
    {
     "name": "stderr",
     "output_type": "stream",
     "text": [
      "\r",
      "  2%|███▌                                                                                                                                                              | 22/1000 [07:05<5:45:55, 21.22s/it]"
     ]
    },
    {
     "name": "stdout",
     "output_type": "stream",
     "text": [
      "eigenvalues shape torch.Size([5]) eigenvectors shape torch.Size([5, 400])\n",
      "22 /home/phdcs2/Hard_Disk/Datasets/Deep-Spectral-Segmentation/data/object-segmentation/ECSSD/features/dino_vits16/0023.pth\n",
      "dict_keys(['k', 'indices', 'file', 'id', 'model_name', 'patch_size', 'shape'])\n",
      "0023\n",
      "Starting Training\n",
      "epoch: 00, loss: -0.03290\n",
      "epoch: 01, loss: -0.04996\n",
      "epoch: 02, loss: -0.05200\n",
      "epoch: 03, loss: -0.05199\n",
      "epoch: 04, loss: -0.05276\n",
      "epoch: 05, loss: -0.05306\n",
      "epoch: 06, loss: -0.05305\n",
      "epoch: 07, loss: -0.05343\n",
      "epoch: 08, loss: -0.05376\n",
      "epoch: 09, loss: -0.05322\n",
      "torch.Size([400, 64])\n"
     ]
    },
    {
     "name": "stderr",
     "output_type": "stream",
     "text": [
      "\r",
      "  2%|███▋                                                                                                                                                              | 23/1000 [07:29<6:00:43, 22.15s/it]"
     ]
    },
    {
     "name": "stdout",
     "output_type": "stream",
     "text": [
      "eigenvalues shape torch.Size([5]) eigenvectors shape torch.Size([5, 400])\n",
      "23 /home/phdcs2/Hard_Disk/Datasets/Deep-Spectral-Segmentation/data/object-segmentation/ECSSD/features/dino_vits16/0024.pth\n",
      "dict_keys(['k', 'indices', 'file', 'id', 'model_name', 'patch_size', 'shape'])\n",
      "0024\n",
      "Starting Training\n",
      "epoch: 00, loss: -0.01836\n",
      "epoch: 01, loss: -0.03306\n",
      "epoch: 02, loss: -0.03500\n",
      "epoch: 03, loss: -0.03562\n",
      "epoch: 04, loss: -0.03608\n",
      "epoch: 05, loss: -0.03606\n",
      "epoch: 06, loss: -0.03653\n",
      "epoch: 07, loss: -0.03670\n",
      "epoch: 08, loss: -0.03671\n",
      "epoch: 09, loss: -0.03683\n",
      "torch.Size([400, 64])\n"
     ]
    },
    {
     "name": "stderr",
     "output_type": "stream",
     "text": [
      "\r",
      "  2%|███▉                                                                                                                                                              | 24/1000 [07:52<6:03:08, 22.32s/it]"
     ]
    },
    {
     "name": "stdout",
     "output_type": "stream",
     "text": [
      "eigenvalues shape torch.Size([5]) eigenvectors shape torch.Size([5, 400])\n",
      "24 /home/phdcs2/Hard_Disk/Datasets/Deep-Spectral-Segmentation/data/object-segmentation/ECSSD/features/dino_vits16/0025.pth\n",
      "dict_keys(['k', 'indices', 'file', 'id', 'model_name', 'patch_size', 'shape'])\n",
      "0025\n",
      "Starting Training\n",
      "epoch: 00, loss: -0.06031\n",
      "epoch: 01, loss: -0.08720\n",
      "epoch: 02, loss: -0.09220\n",
      "epoch: 03, loss: -0.09076\n",
      "epoch: 04, loss: -0.09067\n",
      "epoch: 05, loss: -0.09411\n",
      "epoch: 06, loss: -0.09336\n",
      "epoch: 07, loss: -0.09525\n",
      "epoch: 08, loss: -0.09679\n",
      "epoch: 09, loss: -0.09491\n",
      "torch.Size([400, 64])\n"
     ]
    },
    {
     "name": "stderr",
     "output_type": "stream",
     "text": [
      "\r",
      "  2%|████                                                                                                                                                              | 25/1000 [08:14<6:04:00, 22.40s/it]"
     ]
    },
    {
     "name": "stdout",
     "output_type": "stream",
     "text": [
      "eigenvalues shape torch.Size([5]) eigenvectors shape torch.Size([5, 400])\n",
      "25 /home/phdcs2/Hard_Disk/Datasets/Deep-Spectral-Segmentation/data/object-segmentation/ECSSD/features/dino_vits16/0026.pth\n",
      "dict_keys(['k', 'indices', 'file', 'id', 'model_name', 'patch_size', 'shape'])\n",
      "0026\n",
      "Starting Training\n",
      "epoch: 00, loss: -0.04805\n",
      "epoch: 01, loss: -0.07066\n",
      "epoch: 02, loss: -0.07179\n",
      "epoch: 03, loss: -0.07181\n",
      "epoch: 04, loss: -0.07235\n",
      "epoch: 05, loss: -0.07266\n",
      "epoch: 06, loss: -0.07258\n",
      "epoch: 07, loss: -0.07281\n",
      "epoch: 08, loss: -0.07316\n",
      "epoch: 09, loss: -0.07308\n",
      "torch.Size([400, 64])\n"
     ]
    },
    {
     "name": "stderr",
     "output_type": "stream",
     "text": [
      "\r",
      "  3%|████▏                                                                                                                                                             | 26/1000 [08:31<5:37:16, 20.78s/it]"
     ]
    },
    {
     "name": "stdout",
     "output_type": "stream",
     "text": [
      "eigenvalues shape torch.Size([5]) eigenvectors shape torch.Size([5, 400])\n",
      "26 /home/phdcs2/Hard_Disk/Datasets/Deep-Spectral-Segmentation/data/object-segmentation/ECSSD/features/dino_vits16/0027.pth\n",
      "dict_keys(['k', 'indices', 'file', 'id', 'model_name', 'patch_size', 'shape'])\n",
      "0027\n",
      "Starting Training\n",
      "epoch: 00, loss: -0.02258\n",
      "epoch: 01, loss: -0.03697\n",
      "epoch: 02, loss: -0.04224\n",
      "epoch: 03, loss: -0.04392\n",
      "epoch: 04, loss: -0.04260\n",
      "epoch: 05, loss: -0.04333\n",
      "epoch: 06, loss: -0.04381\n",
      "epoch: 07, loss: -0.04363\n",
      "epoch: 08, loss: -0.04530\n",
      "epoch: 09, loss: -0.04478\n",
      "torch.Size([400, 64])\n"
     ]
    },
    {
     "name": "stderr",
     "output_type": "stream",
     "text": [
      "\r",
      "  3%|████▎                                                                                                                                                             | 27/1000 [08:56<5:58:50, 22.13s/it]"
     ]
    },
    {
     "name": "stdout",
     "output_type": "stream",
     "text": [
      "eigenvalues shape torch.Size([5]) eigenvectors shape torch.Size([5, 400])\n",
      "27 /home/phdcs2/Hard_Disk/Datasets/Deep-Spectral-Segmentation/data/object-segmentation/ECSSD/features/dino_vits16/0028.pth\n",
      "dict_keys(['k', 'indices', 'file', 'id', 'model_name', 'patch_size', 'shape'])\n",
      "0028\n",
      "Starting Training\n",
      "epoch: 00, loss: -0.09249\n",
      "epoch: 01, loss: -0.12963\n",
      "epoch: 02, loss: -0.12816\n",
      "epoch: 03, loss: -0.13797\n",
      "epoch: 04, loss: -0.13688\n",
      "epoch: 05, loss: -0.13770\n",
      "epoch: 06, loss: -0.13810\n",
      "epoch: 07, loss: -0.13633\n",
      "epoch: 08, loss: -0.13928\n",
      "epoch: 09, loss: -0.13967\n",
      "torch.Size([400, 64])\n"
     ]
    },
    {
     "name": "stderr",
     "output_type": "stream",
     "text": [
      "\r",
      "  3%|████▌                                                                                                                                                             | 28/1000 [09:19<6:00:37, 22.26s/it]"
     ]
    },
    {
     "name": "stdout",
     "output_type": "stream",
     "text": [
      "eigenvalues shape torch.Size([5]) eigenvectors shape torch.Size([5, 400])\n",
      "28 /home/phdcs2/Hard_Disk/Datasets/Deep-Spectral-Segmentation/data/object-segmentation/ECSSD/features/dino_vits16/0029.pth\n",
      "dict_keys(['k', 'indices', 'file', 'id', 'model_name', 'patch_size', 'shape'])\n",
      "0029\n",
      "Starting Training\n",
      "epoch: 00, loss: -0.00998\n",
      "epoch: 01, loss: -0.02677\n",
      "epoch: 02, loss: -0.03076\n",
      "epoch: 03, loss: -0.03209\n",
      "epoch: 04, loss: -0.03258\n",
      "epoch: 05, loss: -0.03292\n",
      "epoch: 06, loss: -0.03315\n",
      "epoch: 07, loss: -0.03326\n",
      "epoch: 08, loss: -0.03346\n",
      "epoch: 09, loss: -0.03347\n",
      "torch.Size([400, 64])\n"
     ]
    },
    {
     "name": "stderr",
     "output_type": "stream",
     "text": [
      "\r",
      "  3%|████▋                                                                                                                                                             | 29/1000 [09:46<6:21:00, 23.54s/it]"
     ]
    },
    {
     "name": "stdout",
     "output_type": "stream",
     "text": [
      "eigenvalues shape torch.Size([5]) eigenvectors shape torch.Size([5, 400])\n",
      "29 /home/phdcs2/Hard_Disk/Datasets/Deep-Spectral-Segmentation/data/object-segmentation/ECSSD/features/dino_vits16/0030.pth\n",
      "dict_keys(['k', 'indices', 'file', 'id', 'model_name', 'patch_size', 'shape'])\n",
      "0030\n",
      "Starting Training\n",
      "epoch: 00, loss: -0.05594\n",
      "epoch: 01, loss: -0.08510\n",
      "epoch: 02, loss: -0.09122\n",
      "epoch: 03, loss: -0.09043\n",
      "epoch: 04, loss: -0.09236\n",
      "epoch: 05, loss: -0.09189\n",
      "epoch: 06, loss: -0.09200\n",
      "epoch: 07, loss: -0.09073\n",
      "epoch: 08, loss: -0.09367\n",
      "epoch: 09, loss: -0.09209\n",
      "torch.Size([400, 64])\n"
     ]
    },
    {
     "name": "stderr",
     "output_type": "stream",
     "text": [
      "\r",
      "  3%|████▊                                                                                                                                                             | 30/1000 [10:08<6:13:57, 23.13s/it]"
     ]
    },
    {
     "name": "stdout",
     "output_type": "stream",
     "text": [
      "eigenvalues shape torch.Size([5]) eigenvectors shape torch.Size([5, 400])\n",
      "30 /home/phdcs2/Hard_Disk/Datasets/Deep-Spectral-Segmentation/data/object-segmentation/ECSSD/features/dino_vits16/0031.pth\n",
      "dict_keys(['k', 'indices', 'file', 'id', 'model_name', 'patch_size', 'shape'])\n",
      "0031\n",
      "Starting Training\n",
      "epoch: 00, loss: -0.02202\n",
      "epoch: 01, loss: -0.05175\n",
      "epoch: 02, loss: -0.05997\n",
      "epoch: 03, loss: -0.06393\n",
      "epoch: 04, loss: -0.06316\n",
      "epoch: 05, loss: -0.06193\n",
      "epoch: 06, loss: -0.06445\n",
      "epoch: 07, loss: -0.06469\n",
      "epoch: 08, loss: -0.06461\n",
      "epoch: 09, loss: -0.06308\n",
      "torch.Size([400, 64])\n"
     ]
    },
    {
     "name": "stderr",
     "output_type": "stream",
     "text": [
      "\r",
      "  3%|█████                                                                                                                                                             | 31/1000 [10:37<6:42:38, 24.93s/it]"
     ]
    },
    {
     "name": "stdout",
     "output_type": "stream",
     "text": [
      "eigenvalues shape torch.Size([5]) eigenvectors shape torch.Size([5, 400])\n",
      "31 /home/phdcs2/Hard_Disk/Datasets/Deep-Spectral-Segmentation/data/object-segmentation/ECSSD/features/dino_vits16/0032.pth\n",
      "dict_keys(['k', 'indices', 'file', 'id', 'model_name', 'patch_size', 'shape'])\n",
      "0032\n",
      "Starting Training\n",
      "epoch: 00, loss: -0.02915\n",
      "epoch: 01, loss: -0.05345\n",
      "epoch: 02, loss: -0.05615\n",
      "epoch: 03, loss: -0.05680\n",
      "epoch: 04, loss: -0.06006\n",
      "epoch: 05, loss: -0.05885\n",
      "epoch: 06, loss: -0.06109\n",
      "epoch: 07, loss: -0.06213\n",
      "epoch: 08, loss: -0.06210\n",
      "epoch: 09, loss: -0.05945\n",
      "torch.Size([400, 64])\n"
     ]
    },
    {
     "name": "stderr",
     "output_type": "stream",
     "text": [
      "\r",
      "  3%|█████▏                                                                                                                                                            | 32/1000 [11:01<6:36:17, 24.56s/it]"
     ]
    },
    {
     "name": "stdout",
     "output_type": "stream",
     "text": [
      "eigenvalues shape torch.Size([5]) eigenvectors shape torch.Size([5, 400])\n",
      "32 /home/phdcs2/Hard_Disk/Datasets/Deep-Spectral-Segmentation/data/object-segmentation/ECSSD/features/dino_vits16/0033.pth\n",
      "dict_keys(['k', 'indices', 'file', 'id', 'model_name', 'patch_size', 'shape'])\n",
      "0033\n",
      "Starting Training\n",
      "epoch: 00, loss: 0.00159\n",
      "epoch: 01, loss: -0.01784\n",
      "epoch: 02, loss: -0.02393\n",
      "epoch: 03, loss: -0.02592\n",
      "epoch: 04, loss: -0.02700\n",
      "epoch: 05, loss: -0.02747\n",
      "epoch: 06, loss: -0.02773\n",
      "epoch: 07, loss: -0.02790\n",
      "epoch: 08, loss: -0.02827\n",
      "epoch: 09, loss: -0.02830\n",
      "torch.Size([400, 64])\n"
     ]
    },
    {
     "name": "stderr",
     "output_type": "stream",
     "text": [
      "\r",
      "  3%|█████▎                                                                                                                                                            | 33/1000 [11:23<6:24:08, 23.83s/it]"
     ]
    },
    {
     "name": "stdout",
     "output_type": "stream",
     "text": [
      "eigenvalues shape torch.Size([5]) eigenvectors shape torch.Size([5, 400])\n",
      "33 /home/phdcs2/Hard_Disk/Datasets/Deep-Spectral-Segmentation/data/object-segmentation/ECSSD/features/dino_vits16/0034.pth\n",
      "dict_keys(['k', 'indices', 'file', 'id', 'model_name', 'patch_size', 'shape'])\n",
      "0034\n",
      "Starting Training\n",
      "epoch: 00, loss: -0.02983\n",
      "epoch: 01, loss: -0.05683\n",
      "epoch: 02, loss: -0.05898\n",
      "epoch: 03, loss: -0.05958\n",
      "epoch: 04, loss: -0.05988\n",
      "epoch: 05, loss: -0.06008\n",
      "epoch: 06, loss: -0.06014\n",
      "epoch: 07, loss: -0.06036\n",
      "epoch: 08, loss: -0.06038\n",
      "epoch: 09, loss: -0.06051\n",
      "torch.Size([400, 64])\n"
     ]
    },
    {
     "name": "stderr",
     "output_type": "stream",
     "text": [
      "\r",
      "  3%|█████▌                                                                                                                                                            | 34/1000 [11:44<6:12:09, 23.12s/it]"
     ]
    },
    {
     "name": "stdout",
     "output_type": "stream",
     "text": [
      "eigenvalues shape torch.Size([5]) eigenvectors shape torch.Size([5, 400])\n",
      "34 /home/phdcs2/Hard_Disk/Datasets/Deep-Spectral-Segmentation/data/object-segmentation/ECSSD/features/dino_vits16/0035.pth\n",
      "dict_keys(['k', 'indices', 'file', 'id', 'model_name', 'patch_size', 'shape'])\n",
      "0035\n",
      "Starting Training\n",
      "epoch: 00, loss: -0.04882\n",
      "epoch: 01, loss: -0.08603\n",
      "epoch: 02, loss: -0.09012\n",
      "epoch: 03, loss: -0.09045\n",
      "epoch: 04, loss: -0.09252\n",
      "epoch: 05, loss: -0.09445\n",
      "epoch: 06, loss: -0.09577\n",
      "epoch: 07, loss: -0.09339\n",
      "epoch: 08, loss: -0.09702\n",
      "epoch: 09, loss: -0.09600\n",
      "torch.Size([400, 64])\n"
     ]
    },
    {
     "name": "stderr",
     "output_type": "stream",
     "text": [
      "\r",
      "  4%|█████▋                                                                                                                                                            | 35/1000 [12:09<6:21:48, 23.74s/it]"
     ]
    },
    {
     "name": "stdout",
     "output_type": "stream",
     "text": [
      "eigenvalues shape torch.Size([5]) eigenvectors shape torch.Size([5, 400])\n",
      "35 /home/phdcs2/Hard_Disk/Datasets/Deep-Spectral-Segmentation/data/object-segmentation/ECSSD/features/dino_vits16/0036.pth\n",
      "dict_keys(['k', 'indices', 'file', 'id', 'model_name', 'patch_size', 'shape'])\n",
      "0036\n",
      "Starting Training\n",
      "epoch: 00, loss: -0.02528\n",
      "epoch: 01, loss: -0.04374\n",
      "epoch: 02, loss: -0.04544\n",
      "epoch: 03, loss: -0.04607\n",
      "epoch: 04, loss: -0.04647\n",
      "epoch: 05, loss: -0.04671\n",
      "epoch: 06, loss: -0.04687\n",
      "epoch: 07, loss: -0.04688\n",
      "epoch: 08, loss: -0.04726\n",
      "epoch: 09, loss: -0.04719\n",
      "torch.Size([450, 64])\n"
     ]
    },
    {
     "name": "stderr",
     "output_type": "stream",
     "text": [
      "\r",
      "  4%|█████▊                                                                                                                                                            | 36/1000 [12:35<6:28:54, 24.21s/it]"
     ]
    },
    {
     "name": "stdout",
     "output_type": "stream",
     "text": [
      "eigenvalues shape torch.Size([5]) eigenvectors shape torch.Size([5, 450])\n",
      "36 /home/phdcs2/Hard_Disk/Datasets/Deep-Spectral-Segmentation/data/object-segmentation/ECSSD/features/dino_vits16/0037.pth\n",
      "dict_keys(['k', 'indices', 'file', 'id', 'model_name', 'patch_size', 'shape'])\n",
      "0037\n",
      "Starting Training\n",
      "epoch: 00, loss: -0.01297\n",
      "epoch: 01, loss: -0.03571\n",
      "epoch: 02, loss: -0.04206\n",
      "epoch: 03, loss: -0.04066\n",
      "epoch: 04, loss: -0.04084\n",
      "epoch: 05, loss: -0.04480\n",
      "epoch: 06, loss: -0.04507\n",
      "epoch: 07, loss: -0.04377\n",
      "epoch: 08, loss: -0.04653\n",
      "epoch: 09, loss: -0.04420\n",
      "torch.Size([450, 64])\n"
     ]
    },
    {
     "name": "stderr",
     "output_type": "stream",
     "text": [
      "\r",
      "  4%|█████▉                                                                                                                                                            | 37/1000 [13:02<6:45:22, 25.26s/it]"
     ]
    },
    {
     "name": "stdout",
     "output_type": "stream",
     "text": [
      "eigenvalues shape torch.Size([5]) eigenvectors shape torch.Size([5, 450])\n",
      "37 /home/phdcs2/Hard_Disk/Datasets/Deep-Spectral-Segmentation/data/object-segmentation/ECSSD/features/dino_vits16/0038.pth\n",
      "dict_keys(['k', 'indices', 'file', 'id', 'model_name', 'patch_size', 'shape'])\n",
      "0038\n",
      "Starting Training\n",
      "epoch: 00, loss: -0.01629\n",
      "epoch: 01, loss: -0.04383\n",
      "epoch: 02, loss: -0.04794\n",
      "epoch: 03, loss: -0.04874\n",
      "epoch: 04, loss: -0.04913\n",
      "epoch: 05, loss: -0.04929\n",
      "epoch: 06, loss: -0.04947\n",
      "epoch: 07, loss: -0.04961\n",
      "epoch: 08, loss: -0.04969\n",
      "epoch: 09, loss: -0.04995\n",
      "torch.Size([400, 64])\n"
     ]
    },
    {
     "name": "stderr",
     "output_type": "stream",
     "text": [
      "\r",
      "  4%|██████▏                                                                                                                                                           | 38/1000 [13:25<6:31:49, 24.44s/it]"
     ]
    },
    {
     "name": "stdout",
     "output_type": "stream",
     "text": [
      "eigenvalues shape torch.Size([5]) eigenvectors shape torch.Size([5, 400])\n",
      "38 /home/phdcs2/Hard_Disk/Datasets/Deep-Spectral-Segmentation/data/object-segmentation/ECSSD/features/dino_vits16/0039.pth\n",
      "dict_keys(['k', 'indices', 'file', 'id', 'model_name', 'patch_size', 'shape'])\n",
      "0039\n",
      "Starting Training\n",
      "epoch: 00, loss: -0.06453\n",
      "epoch: 01, loss: -0.09342\n",
      "epoch: 02, loss: -0.09999\n",
      "epoch: 03, loss: -0.09819\n",
      "epoch: 04, loss: -0.10238\n",
      "epoch: 05, loss: -0.10346\n",
      "epoch: 06, loss: -0.10398\n",
      "epoch: 07, loss: -0.10530\n",
      "epoch: 08, loss: -0.10457\n",
      "epoch: 09, loss: -0.10427\n",
      "torch.Size([400, 64])\n"
     ]
    },
    {
     "name": "stderr",
     "output_type": "stream",
     "text": [
      "\r",
      "  4%|██████▎                                                                                                                                                           | 39/1000 [13:46<6:16:09, 23.49s/it]"
     ]
    },
    {
     "name": "stdout",
     "output_type": "stream",
     "text": [
      "eigenvalues shape torch.Size([5]) eigenvectors shape torch.Size([5, 400])\n",
      "39 /home/phdcs2/Hard_Disk/Datasets/Deep-Spectral-Segmentation/data/object-segmentation/ECSSD/features/dino_vits16/0040.pth\n",
      "dict_keys(['k', 'indices', 'file', 'id', 'model_name', 'patch_size', 'shape'])\n",
      "0040\n",
      "Starting Training\n",
      "epoch: 00, loss: -0.06262\n",
      "epoch: 01, loss: -0.08664\n",
      "epoch: 02, loss: -0.08696\n",
      "epoch: 03, loss: -0.08754\n",
      "epoch: 04, loss: -0.08799\n",
      "epoch: 05, loss: -0.08801\n",
      "epoch: 06, loss: -0.08809\n",
      "epoch: 07, loss: -0.08827\n",
      "epoch: 08, loss: -0.08842\n",
      "epoch: 09, loss: -0.08861\n",
      "torch.Size([400, 64])\n"
     ]
    },
    {
     "name": "stderr",
     "output_type": "stream",
     "text": [
      "\r",
      "  4%|██████▍                                                                                                                                                           | 40/1000 [14:10<6:18:31, 23.66s/it]"
     ]
    },
    {
     "name": "stdout",
     "output_type": "stream",
     "text": [
      "eigenvalues shape torch.Size([5]) eigenvectors shape torch.Size([5, 400])\n",
      "40 /home/phdcs2/Hard_Disk/Datasets/Deep-Spectral-Segmentation/data/object-segmentation/ECSSD/features/dino_vits16/0041.pth\n",
      "dict_keys(['k', 'indices', 'file', 'id', 'model_name', 'patch_size', 'shape'])\n",
      "0041\n",
      "Starting Training\n",
      "epoch: 00, loss: -0.00047\n",
      "epoch: 01, loss: -0.01076\n",
      "epoch: 02, loss: -0.01468\n",
      "epoch: 03, loss: -0.01642\n",
      "epoch: 04, loss: -0.01731\n",
      "epoch: 05, loss: -0.01781\n",
      "epoch: 06, loss: -0.01816\n",
      "epoch: 07, loss: -0.01831\n",
      "epoch: 08, loss: -0.01864\n",
      "epoch: 09, loss: -0.01878\n",
      "torch.Size([450, 64])\n"
     ]
    },
    {
     "name": "stderr",
     "output_type": "stream",
     "text": [
      "\r",
      "  4%|██████▋                                                                                                                                                           | 41/1000 [14:44<7:04:45, 26.57s/it]"
     ]
    },
    {
     "name": "stdout",
     "output_type": "stream",
     "text": [
      "eigenvalues shape torch.Size([5]) eigenvectors shape torch.Size([5, 450])\n",
      "41 /home/phdcs2/Hard_Disk/Datasets/Deep-Spectral-Segmentation/data/object-segmentation/ECSSD/features/dino_vits16/0042.pth\n",
      "dict_keys(['k', 'indices', 'file', 'id', 'model_name', 'patch_size', 'shape'])\n",
      "0042\n",
      "Starting Training\n",
      "epoch: 00, loss: 0.00395\n",
      "epoch: 01, loss: -0.01917\n",
      "epoch: 02, loss: -0.02874\n",
      "epoch: 03, loss: -0.03122\n",
      "epoch: 04, loss: -0.03263\n",
      "epoch: 05, loss: -0.03483\n",
      "epoch: 06, loss: -0.03601\n",
      "epoch: 07, loss: -0.03023\n",
      "epoch: 08, loss: -0.03355\n",
      "epoch: 09, loss: -0.03430\n",
      "torch.Size([400, 64])\n"
     ]
    },
    {
     "name": "stderr",
     "output_type": "stream",
     "text": [
      "\r",
      "  4%|██████▊                                                                                                                                                           | 42/1000 [15:09<6:58:00, 26.18s/it]"
     ]
    },
    {
     "name": "stdout",
     "output_type": "stream",
     "text": [
      "eigenvalues shape torch.Size([5]) eigenvectors shape torch.Size([5, 400])\n",
      "42 /home/phdcs2/Hard_Disk/Datasets/Deep-Spectral-Segmentation/data/object-segmentation/ECSSD/features/dino_vits16/0043.pth\n",
      "dict_keys(['k', 'indices', 'file', 'id', 'model_name', 'patch_size', 'shape'])\n",
      "0043\n",
      "Starting Training\n",
      "epoch: 00, loss: -0.02381\n",
      "epoch: 01, loss: -0.04926\n",
      "epoch: 02, loss: -0.05083\n",
      "epoch: 03, loss: -0.05163\n",
      "epoch: 04, loss: -0.05126\n",
      "epoch: 05, loss: -0.05149\n",
      "epoch: 06, loss: -0.05195\n",
      "epoch: 07, loss: -0.05200\n",
      "epoch: 08, loss: -0.05220\n",
      "epoch: 09, loss: -0.05213\n",
      "torch.Size([450, 64])\n"
     ]
    },
    {
     "name": "stderr",
     "output_type": "stream",
     "text": [
      "\r",
      "  4%|██████▉                                                                                                                                                           | 43/1000 [15:38<7:11:59, 27.08s/it]"
     ]
    },
    {
     "name": "stdout",
     "output_type": "stream",
     "text": [
      "eigenvalues shape torch.Size([5]) eigenvectors shape torch.Size([5, 450])\n",
      "43 /home/phdcs2/Hard_Disk/Datasets/Deep-Spectral-Segmentation/data/object-segmentation/ECSSD/features/dino_vits16/0044.pth\n",
      "dict_keys(['k', 'indices', 'file', 'id', 'model_name', 'patch_size', 'shape'])\n",
      "0044\n",
      "Starting Training\n",
      "epoch: 00, loss: -0.00707\n",
      "epoch: 01, loss: -0.02388\n",
      "epoch: 02, loss: -0.02633\n",
      "epoch: 03, loss: -0.02795\n",
      "epoch: 04, loss: -0.02877\n",
      "epoch: 05, loss: -0.02853\n",
      "epoch: 06, loss: -0.02927\n",
      "epoch: 07, loss: -0.02903\n",
      "epoch: 08, loss: -0.02867\n",
      "epoch: 09, loss: -0.02940\n",
      "torch.Size([525, 64])\n"
     ]
    },
    {
     "name": "stderr",
     "output_type": "stream",
     "text": [
      "\r",
      "  4%|███████▏                                                                                                                                                          | 44/1000 [16:23<8:38:08, 32.52s/it]"
     ]
    },
    {
     "name": "stdout",
     "output_type": "stream",
     "text": [
      "eigenvalues shape torch.Size([5]) eigenvectors shape torch.Size([5, 525])\n",
      "44 /home/phdcs2/Hard_Disk/Datasets/Deep-Spectral-Segmentation/data/object-segmentation/ECSSD/features/dino_vits16/0045.pth\n",
      "dict_keys(['k', 'indices', 'file', 'id', 'model_name', 'patch_size', 'shape'])\n",
      "0045\n",
      "Starting Training\n",
      "epoch: 00, loss: -0.03699\n",
      "epoch: 01, loss: -0.05582\n",
      "epoch: 02, loss: -0.05740\n",
      "epoch: 03, loss: -0.05767\n",
      "epoch: 04, loss: -0.05796\n",
      "epoch: 05, loss: -0.05821\n",
      "epoch: 06, loss: -0.05843\n",
      "epoch: 07, loss: -0.05860\n",
      "epoch: 08, loss: -0.05867\n",
      "epoch: 09, loss: -0.05886\n",
      "torch.Size([450, 64])\n"
     ]
    },
    {
     "name": "stderr",
     "output_type": "stream",
     "text": [
      "\r",
      "  4%|███████▎                                                                                                                                                          | 45/1000 [16:55<8:35:31, 32.39s/it]"
     ]
    },
    {
     "name": "stdout",
     "output_type": "stream",
     "text": [
      "eigenvalues shape torch.Size([5]) eigenvectors shape torch.Size([5, 450])\n",
      "45 /home/phdcs2/Hard_Disk/Datasets/Deep-Spectral-Segmentation/data/object-segmentation/ECSSD/features/dino_vits16/0046.pth\n",
      "dict_keys(['k', 'indices', 'file', 'id', 'model_name', 'patch_size', 'shape'])\n",
      "0046\n",
      "Starting Training\n",
      "epoch: 00, loss: -0.04779\n",
      "epoch: 01, loss: -0.07216\n",
      "epoch: 02, loss: -0.07568\n",
      "epoch: 03, loss: -0.07523\n",
      "epoch: 04, loss: -0.07667\n",
      "epoch: 05, loss: -0.07753\n",
      "epoch: 06, loss: -0.07581\n",
      "epoch: 07, loss: -0.07666\n",
      "epoch: 08, loss: -0.07742\n",
      "epoch: 09, loss: -0.07785\n",
      "torch.Size([450, 64])\n"
     ]
    },
    {
     "name": "stderr",
     "output_type": "stream",
     "text": [
      "\r",
      "  5%|███████▍                                                                                                                                                          | 46/1000 [17:24<8:18:05, 31.33s/it]"
     ]
    },
    {
     "name": "stdout",
     "output_type": "stream",
     "text": [
      "eigenvalues shape torch.Size([5]) eigenvectors shape torch.Size([5, 450])\n",
      "46 /home/phdcs2/Hard_Disk/Datasets/Deep-Spectral-Segmentation/data/object-segmentation/ECSSD/features/dino_vits16/0047.pth\n",
      "dict_keys(['k', 'indices', 'file', 'id', 'model_name', 'patch_size', 'shape'])\n",
      "0047\n",
      "Starting Training\n",
      "epoch: 00, loss: -0.07935\n",
      "epoch: 01, loss: -0.10542\n",
      "epoch: 02, loss: -0.11087\n",
      "epoch: 03, loss: -0.11311\n",
      "epoch: 04, loss: -0.11603\n",
      "epoch: 05, loss: -0.11407\n",
      "epoch: 06, loss: -0.11573\n",
      "epoch: 07, loss: -0.11916\n",
      "epoch: 08, loss: -0.11785\n",
      "epoch: 09, loss: -0.11717\n",
      "torch.Size([400, 64])\n"
     ]
    },
    {
     "name": "stderr",
     "output_type": "stream",
     "text": [
      "\r",
      "  5%|███████▌                                                                                                                                                          | 47/1000 [17:49<7:44:36, 29.25s/it]"
     ]
    },
    {
     "name": "stdout",
     "output_type": "stream",
     "text": [
      "eigenvalues shape torch.Size([5]) eigenvectors shape torch.Size([5, 400])\n",
      "47 /home/phdcs2/Hard_Disk/Datasets/Deep-Spectral-Segmentation/data/object-segmentation/ECSSD/features/dino_vits16/0048.pth\n",
      "dict_keys(['k', 'indices', 'file', 'id', 'model_name', 'patch_size', 'shape'])\n",
      "0048\n",
      "Starting Training\n",
      "epoch: 00, loss: -0.04138\n",
      "epoch: 01, loss: -0.06477\n",
      "epoch: 02, loss: -0.06623\n",
      "epoch: 03, loss: -0.06662\n",
      "epoch: 04, loss: -0.06681\n",
      "epoch: 05, loss: -0.06720\n",
      "epoch: 06, loss: -0.06711\n",
      "epoch: 07, loss: -0.06731\n",
      "epoch: 08, loss: -0.06771\n",
      "epoch: 09, loss: -0.06754\n",
      "torch.Size([450, 64])\n"
     ]
    },
    {
     "name": "stderr",
     "output_type": "stream",
     "text": [
      "\r",
      "  5%|███████▊                                                                                                                                                          | 48/1000 [18:18<7:42:52, 29.17s/it]"
     ]
    },
    {
     "name": "stdout",
     "output_type": "stream",
     "text": [
      "eigenvalues shape torch.Size([5]) eigenvectors shape torch.Size([5, 450])\n",
      "48 /home/phdcs2/Hard_Disk/Datasets/Deep-Spectral-Segmentation/data/object-segmentation/ECSSD/features/dino_vits16/0049.pth\n",
      "dict_keys(['k', 'indices', 'file', 'id', 'model_name', 'patch_size', 'shape'])\n",
      "0049\n",
      "Starting Training\n",
      "epoch: 00, loss: -0.05538\n",
      "epoch: 01, loss: -0.08172\n",
      "epoch: 02, loss: -0.08242\n",
      "epoch: 03, loss: -0.08283\n",
      "epoch: 04, loss: -0.08291\n",
      "epoch: 05, loss: -0.08295\n",
      "epoch: 06, loss: -0.08343\n",
      "epoch: 07, loss: -0.08327\n",
      "epoch: 08, loss: -0.08337\n",
      "epoch: 09, loss: -0.08341\n",
      "torch.Size([450, 64])\n"
     ]
    },
    {
     "name": "stderr",
     "output_type": "stream",
     "text": [
      "\r",
      "  5%|███████▉                                                                                                                                                          | 49/1000 [18:48<7:47:13, 29.48s/it]"
     ]
    },
    {
     "name": "stdout",
     "output_type": "stream",
     "text": [
      "eigenvalues shape torch.Size([5]) eigenvectors shape torch.Size([5, 450])\n",
      "49 /home/phdcs2/Hard_Disk/Datasets/Deep-Spectral-Segmentation/data/object-segmentation/ECSSD/features/dino_vits16/0050.pth\n",
      "dict_keys(['k', 'indices', 'file', 'id', 'model_name', 'patch_size', 'shape'])\n",
      "0050\n",
      "Starting Training\n",
      "epoch: 00, loss: -0.03680\n",
      "epoch: 01, loss: -0.05806\n",
      "epoch: 02, loss: -0.06688\n",
      "epoch: 03, loss: -0.07167\n",
      "epoch: 04, loss: -0.06950\n",
      "epoch: 05, loss: -0.07001\n",
      "epoch: 06, loss: -0.07091\n",
      "epoch: 07, loss: -0.07279\n",
      "epoch: 08, loss: -0.07122\n",
      "epoch: 09, loss: -0.07299\n",
      "torch.Size([400, 64])\n"
     ]
    },
    {
     "name": "stderr",
     "output_type": "stream",
     "text": [
      "\r",
      "  5%|████████                                                                                                                                                          | 50/1000 [19:13<7:26:36, 28.21s/it]"
     ]
    },
    {
     "name": "stdout",
     "output_type": "stream",
     "text": [
      "eigenvalues shape torch.Size([5]) eigenvectors shape torch.Size([5, 400])\n",
      "50 /home/phdcs2/Hard_Disk/Datasets/Deep-Spectral-Segmentation/data/object-segmentation/ECSSD/features/dino_vits16/0051.pth\n",
      "dict_keys(['k', 'indices', 'file', 'id', 'model_name', 'patch_size', 'shape'])\n",
      "0051\n",
      "Starting Training\n",
      "epoch: 00, loss: -0.07421\n",
      "epoch: 01, loss: -0.09974\n",
      "epoch: 02, loss: -0.10003\n",
      "epoch: 03, loss: -0.10032\n",
      "epoch: 04, loss: -0.10049\n",
      "epoch: 05, loss: -0.10087\n",
      "epoch: 06, loss: -0.10086\n",
      "epoch: 07, loss: -0.10110\n",
      "epoch: 08, loss: -0.10123\n",
      "epoch: 09, loss: -0.10134\n",
      "torch.Size([450, 64])\n"
     ]
    },
    {
     "name": "stderr",
     "output_type": "stream",
     "text": [
      "\r",
      "  5%|████████▎                                                                                                                                                         | 51/1000 [19:43<7:33:03, 28.64s/it]"
     ]
    },
    {
     "name": "stdout",
     "output_type": "stream",
     "text": [
      "eigenvalues shape torch.Size([5]) eigenvectors shape torch.Size([5, 450])\n",
      "51 /home/phdcs2/Hard_Disk/Datasets/Deep-Spectral-Segmentation/data/object-segmentation/ECSSD/features/dino_vits16/0052.pth\n",
      "dict_keys(['k', 'indices', 'file', 'id', 'model_name', 'patch_size', 'shape'])\n",
      "0052\n",
      "Starting Training\n",
      "epoch: 00, loss: -0.05379\n",
      "epoch: 01, loss: -0.07506\n",
      "epoch: 02, loss: -0.07572\n",
      "epoch: 03, loss: -0.07599\n",
      "epoch: 04, loss: -0.07603\n",
      "epoch: 05, loss: -0.07641\n",
      "epoch: 06, loss: -0.07652\n",
      "epoch: 07, loss: -0.07687\n",
      "epoch: 08, loss: -0.07667\n",
      "epoch: 09, loss: -0.07687\n",
      "torch.Size([450, 64])\n"
     ]
    },
    {
     "name": "stderr",
     "output_type": "stream",
     "text": [
      "\r",
      "  5%|████████▍                                                                                                                                                         | 52/1000 [20:15<7:50:52, 29.80s/it]"
     ]
    },
    {
     "name": "stdout",
     "output_type": "stream",
     "text": [
      "eigenvalues shape torch.Size([5]) eigenvectors shape torch.Size([5, 450])\n",
      "52 /home/phdcs2/Hard_Disk/Datasets/Deep-Spectral-Segmentation/data/object-segmentation/ECSSD/features/dino_vits16/0053.pth\n",
      "dict_keys(['k', 'indices', 'file', 'id', 'model_name', 'patch_size', 'shape'])\n",
      "0053\n",
      "Starting Training\n",
      "epoch: 00, loss: -0.01520\n",
      "epoch: 01, loss: -0.02915\n",
      "epoch: 02, loss: -0.03238\n",
      "epoch: 03, loss: -0.03441\n",
      "epoch: 04, loss: -0.03323\n",
      "epoch: 05, loss: -0.03513\n",
      "epoch: 06, loss: -0.03535\n",
      "epoch: 07, loss: -0.03436\n",
      "epoch: 08, loss: -0.03401\n",
      "epoch: 09, loss: -0.03457\n",
      "torch.Size([375, 64])\n"
     ]
    },
    {
     "name": "stderr",
     "output_type": "stream",
     "text": [
      "\r",
      "  5%|████████▌                                                                                                                                                         | 53/1000 [20:41<7:31:48, 28.63s/it]"
     ]
    },
    {
     "name": "stdout",
     "output_type": "stream",
     "text": [
      "eigenvalues shape torch.Size([5]) eigenvectors shape torch.Size([5, 375])\n",
      "53 /home/phdcs2/Hard_Disk/Datasets/Deep-Spectral-Segmentation/data/object-segmentation/ECSSD/features/dino_vits16/0054.pth\n",
      "dict_keys(['k', 'indices', 'file', 'id', 'model_name', 'patch_size', 'shape'])\n",
      "0054\n",
      "Starting Training\n",
      "epoch: 00, loss: -0.03502\n",
      "epoch: 01, loss: -0.05714\n",
      "epoch: 02, loss: -0.05798\n",
      "epoch: 03, loss: -0.05845\n",
      "epoch: 04, loss: -0.05891\n",
      "epoch: 05, loss: -0.05957\n",
      "epoch: 06, loss: -0.06051\n",
      "epoch: 07, loss: -0.05984\n",
      "epoch: 08, loss: -0.05994\n",
      "epoch: 09, loss: -0.05990\n",
      "torch.Size([450, 64])\n"
     ]
    },
    {
     "name": "stderr",
     "output_type": "stream",
     "text": [
      "\r",
      "  5%|████████▋                                                                                                                                                         | 54/1000 [21:11<7:36:56, 28.98s/it]"
     ]
    },
    {
     "name": "stdout",
     "output_type": "stream",
     "text": [
      "eigenvalues shape torch.Size([5]) eigenvectors shape torch.Size([5, 450])\n",
      "54 /home/phdcs2/Hard_Disk/Datasets/Deep-Spectral-Segmentation/data/object-segmentation/ECSSD/features/dino_vits16/0055.pth\n",
      "dict_keys(['k', 'indices', 'file', 'id', 'model_name', 'patch_size', 'shape'])\n",
      "0055\n",
      "Starting Training\n",
      "epoch: 00, loss: -0.08630\n",
      "epoch: 01, loss: -0.10105\n",
      "epoch: 02, loss: -0.10104\n",
      "epoch: 03, loss: -0.10392\n",
      "epoch: 04, loss: -0.10324\n",
      "epoch: 05, loss: -0.10452\n",
      "epoch: 06, loss: -0.10381\n",
      "epoch: 07, loss: -0.10506\n",
      "epoch: 08, loss: -0.10459\n",
      "epoch: 09, loss: -0.10461\n",
      "torch.Size([450, 64])\n"
     ]
    },
    {
     "name": "stderr",
     "output_type": "stream",
     "text": [
      "\r",
      "  6%|████████▉                                                                                                                                                         | 55/1000 [21:40<7:38:27, 29.11s/it]"
     ]
    }
   ],
   "source": [
    "pca_comp=64\n",
    "pca = PCA(n_components=pca_comp)\n",
    "utils.make_output_dir(output_dir)\n",
    "inputs = list(enumerate(sorted(Path(features_dir).iterdir())))\n",
    "for inp in tqdm(inputs):\n",
    "    index, features_file = inp\n",
    "    print(index, features_file)\n",
    "     # Load\n",
    "    data_dict = torch.load(features_file, map_location='cpu')\n",
    "    print(data_dict.keys())   #['k', 'indices', 'file', 'id', 'model_name', 'patch_size', 'shape']\n",
    "    # print(\"shape=\", data_dict['shape'], \"k shape\", data_dict['k'].shape, \"patch_size=\", data_dict['patch_size'])\n",
    "    image_id = data_dict['file'][:-4]\n",
    "    print(image_id)\n",
    "    # Load\n",
    "    output_file = str(Path(output_dir) / f'{image_id}.pth')\n",
    "    if Path(output_file).is_file():\n",
    "        print(f'Skipping existing file {str(output_file)}')\n",
    "        # break\n",
    "        # return  # skip because already generated\n",
    "\n",
    "    # Load affinity matrix\n",
    "    feats = data_dict[which_features].squeeze().cuda()\n",
    "    # print(\"Without normalizing, Features Shape is\",feats.shape)\n",
    "    if normalize:\n",
    "        feats = F.normalize(feats, p=2, dim=-1)\n",
    "    # print(\"After normalization, Features Shape\",feats.shape)\n",
    "    # print(\"which_matrix=\", which_matrix)\n",
    "    # Eigenvectors of affinity matrix\n",
    "    if which_matrix == 'affinity_torch':\n",
    "        W = feats @ feats.T\n",
    "        # W_feat=contrastive_affinity(feats, feats.T)\n",
    "        # print(\"W shape=\", W.shape)\n",
    "        if threshold_at_zero:\n",
    "            W = (W * (W > 0))\n",
    "            # print(\"W shape=\", W.shape)\n",
    "        eigenvalues, eigenvectors = torch.eig(W, eigenvectors=True)\n",
    "        eigenvalues = eigenvalues.cpu()\n",
    "        eigenvectors = eigenvectors.cpu()\n",
    "        print(\"which matrix=\",which_matrix, \"eigenvalues shape\", eigenvalues.shape, \"eigenvectors shape\", eigenvectors.shape)\n",
    "\n",
    "\n",
    "    # Eigenvectors of affinity matrix with scipy\n",
    "    elif which_matrix == 'affinity_svd':\n",
    "        USV = torch.linalg.svd(feats, full_matrices=False)\n",
    "        eigenvectors = USV[0][:, :K].T.to('cpu', non_blocking=True)\n",
    "        eigenvalues = USV[1][:K].to('cpu', non_blocking=True)\n",
    "        print(\"which matrix=\",which_matrix,\"eigenvalues shape\", eigenvalues.shape, \"eigenvectors shape\", eigenvectors.shape)\n",
    "\n",
    "    # Eigenvectors of affinity matrix with scipy\n",
    "    elif which_matrix == 'affinity':\n",
    "        # print(\"Without normalizing, Features Shape is\",feats.shape)\n",
    "        W = (feats @ feats.T)\n",
    "        # W_feat=contrastive_affinity(feats, feats.T)\n",
    "        # print(\"W shape=\", W.shape)\n",
    "        if threshold_at_zero:\n",
    "            W = (W * (W > 0))\n",
    "        W = W.cpu().numpy()\n",
    "        # print(\"W shape=\", W.shape)\n",
    "        eigenvalues, eigenvectors = eigsh(W, which='LM', k=K)\n",
    "        eigenvectors = torch.flip(torch.from_numpy(eigenvectors), dims=(-1,)).T\n",
    "        print(\"which matrix=\",which_matrix, \"eigenvalues shape\", eigenvalues.shape, \"eigenvectors shape\", eigenvectors.shape)\n",
    "\n",
    "    # Eigenvectors of matting laplacian matrix\n",
    "    elif which_matrix in ['matting_laplacian', 'laplacian']:\n",
    "\n",
    "        # Get sizes\n",
    "        B, C, H, W, P, H_patch, W_patch, H_pad, W_pad = utils.get_image_sizes(data_dict)\n",
    "        if image_downsample_factor is None:\n",
    "            image_downsample_factor = P\n",
    "        H_pad_lr, W_pad_lr = H_pad // image_downsample_factor, W_pad // image_downsample_factor\n",
    "\n",
    "        # Upscale features to match the resolution\n",
    "        if (H_patch, W_patch) != (H_pad_lr, W_pad_lr):\n",
    "            feats = F.interpolate(\n",
    "                feats.T.reshape(1, -1, H_patch, W_patch),\n",
    "                size=(H_pad_lr, W_pad_lr), mode='bilinear', align_corners=False\n",
    "            ).reshape(-1, H_pad_lr * W_pad_lr).T\n",
    "\n",
    "        ### Feature affinities\n",
    "        # print(\"Without normalizing, Features Shape is\",feats.shape)\n",
    "\n",
    "        W_feat_ds = (feats @ feats.T)\n",
    "        # max_wfeatds=torch.max(W_feat_ds).item()\n",
    "        # alpha=3\n",
    "        # W_feat_ds = W_feat_ds - (max_wfeatds / alpha)\n",
    "        layer=nn.Linear(pca_comp,pca_comp).cuda()\n",
    "        x0=feats\n",
    "        x0_arr=x0.cpu()\n",
    "        # print(x0_arr.shape)\n",
    "        z0_arr= pca.fit_transform(x0_arr)\n",
    "\n",
    "        # Define the affine transformation parameters\n",
    "        scale = np.random.uniform(0.8, 1.2)  # Random scaling factor between 0.8 and 1.2\n",
    "        translation = np.random.uniform(-10, 10, size=2)  # Random translation vector between -10 and 10 in both directions\n",
    "        rotation = np.random.uniform(-15, 15)  # Random rotation angle between -15 and 15 degrees\n",
    "        shear = np.random.uniform(-0.2, 0.2, size=2)  # Random shear factor between -0.2 and 0.2 in both directions\n",
    "\n",
    "        # Define the affine matrix\n",
    "        affine_matrix = np.array([[scale * np.cos(rotation), -shear[0] * scale * np.sin(rotation), translation[0]],\n",
    "                                  [shear[1] * scale * np.sin(rotation), scale * np.cos(rotation), translation[1]],\n",
    "                                  [0, 0, 1]])\n",
    "        z1_arr=affine_transform(z0_arr, affine_matrix)\n",
    "#         z1_arr=pca.fit_transform(z1_arr)\n",
    "        z0 = torch.from_numpy(z0_arr).float()\n",
    "        z1 = torch.from_numpy(z1_arr).float()\n",
    "\n",
    "        # feat_list.append(feats)\n",
    "        feat_dataset_z0 = Feature_Dataset(z0)\n",
    "        if feats.shape[0]%2==0:\n",
    "            features_dataloader_z0 = DataLoader(feat_dataset_z0, batch_size=batch_size, shuffle=True)\n",
    "        else:\n",
    "            features_dataloader_z0 = DataLoader(feat_dataset_z0, batch_size=batch_size, shuffle=True, drop_last=True)\n",
    "\n",
    "        feat_dataset_z1 = Feature_Dataset(z1)\n",
    "        if feats.shape[0]%2==0:\n",
    "            features_dataloader_z1 = DataLoader(feat_dataset_z1, batch_size=batch_size, shuffle=True)\n",
    "        else:\n",
    "            features_dataloader_z1 = DataLoader(feat_dataset_z1, batch_size=batch_size, shuffle=True, drop_last=True)\n",
    "        device = \"cuda\" if torch.cuda.is_available() else \"cpu\"\n",
    "    \n",
    "        criterion = NegativeCosineSimilarity()\n",
    "        optimizer = torch.optim.SGD(layer.parameters(), lr=0.06)\n",
    "        print(\"Starting Training\")\n",
    "        for epoch in range(epochs):\n",
    "            total_loss = 0\n",
    "            for z0_new,z1_new in zip(features_dataloader_z0,features_dataloader_z1):\n",
    "                z0_new = z0_new.to(device)\n",
    "                z1_new = z1_new.to(device)\n",
    "    #             print(\"z0_new.shape\", z0_new.shape)\n",
    "    #             print(\"z1_new.shape\", z1_new.shape)\n",
    "                p0=layer(z0_new)\n",
    "                p1=layer(z1_new)\n",
    "    #             print(\"p0.shape\", p0.shape)\n",
    "    #             print(\"p1.shape\", p1.shape)\n",
    "                loss = 0.5 * (criterion(z0_new, p1) + criterion(z1_new, p0))\n",
    "                total_loss += loss.detach()\n",
    "                loss.backward()\n",
    "                optimizer.step()\n",
    "                optimizer.zero_grad()\n",
    "            avg_loss = total_loss / len(features_dataloader_z0)\n",
    "            print(f\"epoch: {epoch:>02}, loss: {avg_loss:.5f}\")\n",
    "        projected_feature=layer(z0.to(device))\n",
    "        print(projected_feature.shape)\n",
    "        W_feat_siam=torch.matmul(projected_feature, projected_feature.t())\n",
    "        max_wfeatsiam=torch.max(W_feat_siam).item()\n",
    "        alpha=3\n",
    "        W_feat_siam = W_feat_siam - (max_wfeatsiam / alpha)\n",
    "        # W_feat_siam=torch.matmul(projected_feature[0], projected_feature[0].t())\n",
    "        W_feat=W_feat_ds + 0.1*W_feat_siam\n",
    "#         W_feat=normalize_affinity_matrix(W_feat_unnorm, axis=1)\n",
    "        # print(\"W_feat.shape=\", W_feat.shape)\n",
    "        # print(\"W_feat.shape=\", W_feat.shape)\n",
    "        # W_feat=contrastive_affinity(feats, feats.T)\n",
    "        if threshold_at_zero:\n",
    "            W_feat = (W_feat * (W_feat > 0))\n",
    "        W_feat = W_feat / W_feat.max()  # NOTE: If features are normalized, this naturally does nothing\n",
    "        # W_feat = W_feat.cpu().numpy()\n",
    "        W_feat = W_feat.detach().cpu().numpy()\n",
    "        # print(\"W_feat shape=\",W_feat.shape)\n",
    "\n",
    "        ### Color affinities\n",
    "        # If we are fusing with color affinites, then load the image and compute\n",
    "        if image_color_lambda > 0:\n",
    "\n",
    "            # Load image\n",
    "            image_file = str(Path(images_root) / f'{image_id}.jpg')\n",
    "            image_lr = Image.open(image_file).resize((W_pad_lr, H_pad_lr), Image.BILINEAR)\n",
    "            image_lr = np.array(image_lr) / 255.\n",
    "\n",
    "            # Color affinities (of type scipy.sparse.csr_matrix)\n",
    "            if which_color_matrix == 'knn':\n",
    "                W_lr = utils.knn_affinity(image_lr / 255)\n",
    "            elif which_color_matrix == 'rw':\n",
    "                W_lr = utils.rw_affinity(image_lr / 255)\n",
    "\n",
    "            # Convert to dense numpy array\n",
    "            W_color = np.array(W_lr.todense().astype(np.float32))\n",
    "            # print(\"W_color shape\", W_color.shape)\n",
    "\n",
    "        else:\n",
    "\n",
    "            # No color affinity\n",
    "            W_color = 0\n",
    "\n",
    "        # Combine\n",
    "        W_comb = W_feat + W_color * image_color_lambda  # combination\n",
    "        D_comb = np.array(utils.get_diagonal(W_comb).todense())  # is dense or sparse faster? not sure, should check\n",
    "        # print(\"W_comb shape= \", W_comb.shape, \"D_comb shape\",  D_comb.shape)\n",
    "        if lapnorm:\n",
    "            try:\n",
    "                eigenvalues, eigenvectors = eigsh(D_comb - W_comb, k=K, sigma=0, which='LM', M=D_comb)\n",
    "            except:\n",
    "                eigenvalues, eigenvectors = eigsh(D_comb - W_comb, k=K, which='SM', M=D_comb)\n",
    "        else:\n",
    "            try:\n",
    "                eigenvalues, eigenvectors = eigsh(D_comb - W_comb, k=K, sigma=0, which='LM')\n",
    "            except:\n",
    "                eigenvalues, eigenvectors = eigsh(D_comb - W_comb, k=K, which='SM')\n",
    "        eigenvalues, eigenvectors = torch.from_numpy(eigenvalues), torch.from_numpy(eigenvectors.T).float()\n",
    "    print(\"eigenvalues shape\", eigenvalues.shape, \"eigenvectors shape\", eigenvectors.shape)\n",
    "    # Sign ambiguity\n",
    "    for k in range(eigenvectors.shape[0]):\n",
    "        if 0.5 < torch.mean((eigenvectors[k] > 0).float()).item() < 1.0:  # reverse segment\n",
    "            eigenvectors[k] = 0 - eigenvectors[k]\n",
    "\n",
    "    # Save dict\n",
    "    output_dict = {'eigenvalues': eigenvalues, 'eigenvectors': eigenvectors}\n",
    "    torch.save(output_dict, output_file)"
   ]
  }
 ],
 "metadata": {
  "kernelspec": {
   "display_name": "Python 3 (ipykernel)",
   "language": "python",
   "name": "python3"
  },
  "language_info": {
   "codemirror_mode": {
    "name": "ipython",
    "version": 3
   },
   "file_extension": ".py",
   "mimetype": "text/x-python",
   "name": "python",
   "nbconvert_exporter": "python",
   "pygments_lexer": "ipython3",
   "version": "3.8.10"
  }
 },
 "nbformat": 4,
 "nbformat_minor": 1
}
