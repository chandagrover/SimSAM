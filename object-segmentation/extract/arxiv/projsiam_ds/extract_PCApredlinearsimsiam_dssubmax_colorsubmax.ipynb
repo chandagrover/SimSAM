{
 "cells": [
  {
   "cell_type": "code",
   "execution_count": 1,
   "metadata": {
    "pycharm": {
     "name": "#%%\n"
    }
   },
   "outputs": [],
   "source": [
    "# from functools import partial\n",
    "from pathlib import Path\n",
    "# from typing import Optional, Tuple\n",
    "# import cv2\n",
    "# import fire\n",
    "import numpy as np\n",
    "import torch\n",
    "import torch.nn.functional as F\n",
    "from accelerate import Accelerator\n",
    "from PIL import Image\n",
    "from scipy.sparse.linalg import eigsh\n",
    "# from sklearn.cluster import KMeans, MiniBatchKMeans\n",
    "from sklearn.decomposition import PCA\n",
    "# from torchvision.utils import draw_bounding_boxes\n",
    "from tqdm import tqdm\n",
    "import extract_utils as utils\n",
    "from torch.utils.data import Dataset, DataLoader\n",
    "from lightly.loss import NegativeCosineSimilarity\n",
    "from lightly.models.modules import SimSiamPredictionHead, SimSiamProjectionHead\n",
    "from torch import nn\n",
    "import torchvision\n",
    "from scipy.ndimage import affine_transform"
   ]
  },
  {
   "cell_type": "markdown",
   "metadata": {
    "pycharm": {
     "name": "#%% md\n"
    }
   },
   "source": [
    "## Extract Eigen Vectors"
   ]
  },
  {
   "cell_type": "code",
   "execution_count": 2,
   "metadata": {
    "pycharm": {
     "name": "#%%\n"
    }
   },
   "outputs": [],
   "source": [
    "images_root=\"/home/phdcs2/Hard_Disk/Datasets/Deep-Spectral-Segmentation/data/object-segmentation/ECSSD/images\"\n",
    "features_dir=\"/home/phdcs2/Hard_Disk/Datasets/Deep-Spectral-Segmentation/data/object-segmentation/ECSSD/features/dino_vits16\"\n",
    "output_dir=\"/home/phdcs2/Hard_Disk/Datasets/Deep-Spectral-Segmentation/data/object-segmentation/ECSSD/eigs_dot1PCA64pred_dssubmax_10_colorsubmax\"\n",
    "which_matrix= 'laplacian'\n",
    "which_color_matrix= 'knn'\n",
    "which_features= 'k'\n",
    "normalize=True\n",
    "threshold_at_zero=True\n",
    "lapnorm= True\n",
    "K= 5\n",
    "image_downsample_factor = None\n",
    "image_color_lambda = 8.0\n",
    "multiprocessing = 0\n",
    "batch_size=2\n",
    "epochs=10"
   ]
  },
  {
   "cell_type": "markdown",
   "metadata": {
    "pycharm": {
     "name": "#%% md\n"
    }
   },
   "source": [
    "## Incorporating SimSiam"
   ]
  },
  {
   "cell_type": "code",
   "execution_count": 3,
   "metadata": {
    "pycharm": {
     "name": "#%%\n"
    }
   },
   "outputs": [],
   "source": [
    "# Define a custom dataset class\n",
    "class Feature_Dataset(Dataset):\n",
    "    def __init__(self, features):\n",
    "        self.features = features\n",
    "\n",
    "    def __getitem__(self, index):\n",
    "        return self.features[index]\n",
    "\n",
    "    def __len__(self):\n",
    "        return len(self.features)"
   ]
  },
  {
   "cell_type": "code",
   "execution_count": 4,
   "metadata": {
    "pycharm": {
     "name": "#%%\n"
    }
   },
   "outputs": [],
   "source": [
    "# class SimSiam(nn.Module):\n",
    "#     def __init__(self):\n",
    "#         super().__init__()\n",
    "#         self.projection_head = SimSiamProjectionHead(feats.shape[1], 128,feats.shape[1])\n",
    "#         self.prediction_head = SimSiamPredictionHead(feats.shape[1], 128, feats.shape[1])\n",
    "#\n",
    "#     def forward(self, x):\n",
    "#         z = self.projection_head(x)\n",
    "#         p = self.prediction_head(z)\n",
    "#         z = z.detach()\n",
    "#         return z, p"
   ]
  },
  {
   "cell_type": "code",
   "execution_count": 5,
   "metadata": {
    "pycharm": {
     "name": "#%%\n"
    }
   },
   "outputs": [],
   "source": [
    "# def normalize_affinity_matrix(affinity_matrix, axis=0):\n",
    "#     if axis == 1:\n",
    "#         # Normalize by row-wise sums\n",
    "#         row_sums = torch.sum(affinity_matrix, dim=1, keepdim=True)\n",
    "#         print(row_sums)\n",
    "#         normalized_matrix = affinity_matrix / row_sums\n",
    "#     elif axis == 0:\n",
    "#         # Normalize by column-wise sums\n",
    "#         col_sums = torch.sum(affinity_matrix, dim=0, keepdim=True)\n",
    "#         normalized_matrix = affinity_matrix / col_sums\n",
    "#     else:\n",
    "#         raise ValueError(\"Invalid axis. Axis must be either 0 or 1.\")\n",
    "\n",
    "#     return normalized_matrix"
   ]
  },
  {
   "cell_type": "code",
   "execution_count": 6,
   "metadata": {
    "pycharm": {
     "name": "#%%\n"
    }
   },
   "outputs": [
    {
     "name": "stderr",
     "output_type": "stream",
     "text": [
      "  0%|          | 0/1000 [00:00<?, ?it/s]"
     ]
    },
    {
     "name": "stdout",
     "output_type": "stream",
     "text": [
      "0 /home/phdcs2/Hard_Disk/Datasets/Deep-Spectral-Segmentation/data/object-segmentation/ECSSD/features/dino_vits16/0001.pth\n",
      "dict_keys(['k', 'indices', 'file', 'id', 'model_name', 'patch_size', 'shape'])\n",
      "0001\n",
      "Starting Training\n",
      "epoch: 00, loss: -0.02587\n",
      "epoch: 01, loss: -0.05152\n",
      "epoch: 02, loss: -0.06241\n",
      "epoch: 03, loss: -0.06097\n",
      "epoch: 04, loss: -0.06348\n",
      "epoch: 05, loss: -0.06551\n",
      "epoch: 06, loss: -0.06475\n",
      "epoch: 07, loss: -0.06757\n",
      "epoch: 08, loss: -0.06780\n",
      "epoch: 09, loss: -0.06653\n",
      "torch.Size([400, 64])\n"
     ]
    },
    {
     "name": "stderr",
     "output_type": "stream",
     "text": [
      "  0%|          | 1/1000 [00:18<5:00:37, 18.06s/it]"
     ]
    },
    {
     "name": "stdout",
     "output_type": "stream",
     "text": [
      "eigenvalues shape torch.Size([5]) eigenvectors shape torch.Size([5, 400])\n",
      "1 /home/phdcs2/Hard_Disk/Datasets/Deep-Spectral-Segmentation/data/object-segmentation/ECSSD/features/dino_vits16/0002.pth\n",
      "dict_keys(['k', 'indices', 'file', 'id', 'model_name', 'patch_size', 'shape'])\n",
      "0002\n",
      "Starting Training\n",
      "epoch: 00, loss: -0.00670\n",
      "epoch: 01, loss: -0.01950\n",
      "epoch: 02, loss: -0.02016\n",
      "epoch: 03, loss: -0.02248\n",
      "epoch: 04, loss: -0.02110\n",
      "epoch: 05, loss: -0.02627\n",
      "epoch: 06, loss: -0.02670\n",
      "epoch: 07, loss: -0.02867\n",
      "epoch: 08, loss: -0.02539\n",
      "epoch: 09, loss: -0.02612\n",
      "torch.Size([400, 64])\n"
     ]
    },
    {
     "name": "stderr",
     "output_type": "stream",
     "text": [
      "  0%|          | 2/1000 [00:26<3:28:29, 12.53s/it]"
     ]
    },
    {
     "name": "stdout",
     "output_type": "stream",
     "text": [
      "eigenvalues shape torch.Size([5]) eigenvectors shape torch.Size([5, 400])\n",
      "2 /home/phdcs2/Hard_Disk/Datasets/Deep-Spectral-Segmentation/data/object-segmentation/ECSSD/features/dino_vits16/0003.pth\n",
      "dict_keys(['k', 'indices', 'file', 'id', 'model_name', 'patch_size', 'shape'])\n",
      "0003\n",
      "Starting Training\n",
      "epoch: 00, loss: -0.07173\n",
      "epoch: 01, loss: -0.11353\n",
      "epoch: 02, loss: -0.11530\n",
      "epoch: 03, loss: -0.11632\n",
      "epoch: 04, loss: -0.11796\n",
      "epoch: 05, loss: -0.11735\n",
      "epoch: 06, loss: -0.12107\n",
      "epoch: 07, loss: -0.12112\n",
      "epoch: 08, loss: -0.11919\n",
      "epoch: 09, loss: -0.12074\n",
      "torch.Size([400, 64])\n"
     ]
    },
    {
     "name": "stderr",
     "output_type": "stream",
     "text": [
      "  0%|          | 3/1000 [00:37<3:17:44, 11.90s/it]"
     ]
    },
    {
     "name": "stdout",
     "output_type": "stream",
     "text": [
      "eigenvalues shape torch.Size([5]) eigenvectors shape torch.Size([5, 400])\n",
      "3 /home/phdcs2/Hard_Disk/Datasets/Deep-Spectral-Segmentation/data/object-segmentation/ECSSD/features/dino_vits16/0004.pth\n",
      "dict_keys(['k', 'indices', 'file', 'id', 'model_name', 'patch_size', 'shape'])\n",
      "0004\n",
      "Starting Training\n",
      "epoch: 00, loss: -0.06643\n",
      "epoch: 01, loss: -0.10157\n",
      "epoch: 02, loss: -0.10264\n",
      "epoch: 03, loss: -0.10847\n",
      "epoch: 04, loss: -0.10748\n",
      "epoch: 05, loss: -0.10969\n",
      "epoch: 06, loss: -0.10771\n",
      "epoch: 07, loss: -0.11022\n",
      "epoch: 08, loss: -0.11014\n",
      "epoch: 09, loss: -0.10999\n",
      "torch.Size([400, 64])\n"
     ]
    },
    {
     "name": "stderr",
     "output_type": "stream",
     "text": [
      "  0%|          | 4/1000 [00:46<2:53:54, 10.48s/it]"
     ]
    },
    {
     "name": "stdout",
     "output_type": "stream",
     "text": [
      "eigenvalues shape torch.Size([5]) eigenvectors shape torch.Size([5, 400])\n",
      "4 /home/phdcs2/Hard_Disk/Datasets/Deep-Spectral-Segmentation/data/object-segmentation/ECSSD/features/dino_vits16/0005.pth\n",
      "dict_keys(['k', 'indices', 'file', 'id', 'model_name', 'patch_size', 'shape'])\n",
      "0005\n",
      "Starting Training\n",
      "epoch: 00, loss: -0.01818\n",
      "epoch: 01, loss: -0.04004\n",
      "epoch: 02, loss: -0.04666\n",
      "epoch: 03, loss: -0.04804\n",
      "epoch: 04, loss: -0.05298\n",
      "epoch: 05, loss: -0.05032\n",
      "epoch: 06, loss: -0.05064\n",
      "epoch: 07, loss: -0.04948\n",
      "epoch: 08, loss: -0.04945\n",
      "epoch: 09, loss: -0.04993\n",
      "torch.Size([400, 64])\n"
     ]
    },
    {
     "name": "stderr",
     "output_type": "stream",
     "text": [
      "  0%|          | 5/1000 [00:57<2:57:45, 10.72s/it]"
     ]
    },
    {
     "name": "stdout",
     "output_type": "stream",
     "text": [
      "eigenvalues shape torch.Size([5]) eigenvectors shape torch.Size([5, 400])\n",
      "5 /home/phdcs2/Hard_Disk/Datasets/Deep-Spectral-Segmentation/data/object-segmentation/ECSSD/features/dino_vits16/0006.pth\n",
      "dict_keys(['k', 'indices', 'file', 'id', 'model_name', 'patch_size', 'shape'])\n",
      "0006\n",
      "Starting Training\n",
      "epoch: 00, loss: -0.04765\n",
      "epoch: 01, loss: -0.07433\n",
      "epoch: 02, loss: -0.07904\n",
      "epoch: 03, loss: -0.08294\n",
      "epoch: 04, loss: -0.08222\n",
      "epoch: 05, loss: -0.08155\n",
      "epoch: 06, loss: -0.08463\n",
      "epoch: 07, loss: -0.08303\n",
      "epoch: 08, loss: -0.08551\n",
      "epoch: 09, loss: -0.08455\n",
      "torch.Size([400, 64])\n"
     ]
    },
    {
     "name": "stderr",
     "output_type": "stream",
     "text": [
      "  1%|          | 6/1000 [01:03<2:33:01,  9.24s/it]"
     ]
    },
    {
     "name": "stdout",
     "output_type": "stream",
     "text": [
      "eigenvalues shape torch.Size([5]) eigenvectors shape torch.Size([5, 400])\n",
      "6 /home/phdcs2/Hard_Disk/Datasets/Deep-Spectral-Segmentation/data/object-segmentation/ECSSD/features/dino_vits16/0007.pth\n",
      "dict_keys(['k', 'indices', 'file', 'id', 'model_name', 'patch_size', 'shape'])\n",
      "0007\n",
      "Starting Training\n",
      "epoch: 00, loss: -0.01802\n",
      "epoch: 01, loss: -0.04503\n",
      "epoch: 02, loss: -0.04846\n",
      "epoch: 03, loss: -0.04914\n",
      "epoch: 04, loss: -0.04960\n",
      "epoch: 05, loss: -0.04939\n",
      "epoch: 06, loss: -0.04977\n",
      "epoch: 07, loss: -0.04988\n",
      "epoch: 08, loss: -0.04996\n",
      "epoch: 09, loss: -0.04993\n",
      "torch.Size([400, 64])\n"
     ]
    },
    {
     "name": "stderr",
     "output_type": "stream",
     "text": [
      "  1%|          | 7/1000 [01:11<2:24:35,  8.74s/it]"
     ]
    },
    {
     "name": "stdout",
     "output_type": "stream",
     "text": [
      "eigenvalues shape torch.Size([5]) eigenvectors shape torch.Size([5, 400])\n",
      "7 /home/phdcs2/Hard_Disk/Datasets/Deep-Spectral-Segmentation/data/object-segmentation/ECSSD/features/dino_vits16/0008.pth\n",
      "dict_keys(['k', 'indices', 'file', 'id', 'model_name', 'patch_size', 'shape'])\n",
      "0008\n",
      "Starting Training\n",
      "epoch: 00, loss: -0.00019\n",
      "epoch: 01, loss: -0.01563\n",
      "epoch: 02, loss: -0.02114\n",
      "epoch: 03, loss: -0.02316\n",
      "epoch: 04, loss: -0.02360\n",
      "epoch: 05, loss: -0.02455\n",
      "epoch: 06, loss: -0.02496\n",
      "epoch: 07, loss: -0.02525\n",
      "epoch: 08, loss: -0.02527\n",
      "epoch: 09, loss: -0.02545\n",
      "torch.Size([400, 64])\n"
     ]
    },
    {
     "name": "stderr",
     "output_type": "stream",
     "text": [
      "  1%|          | 8/1000 [01:20<2:26:38,  8.87s/it]"
     ]
    },
    {
     "name": "stdout",
     "output_type": "stream",
     "text": [
      "eigenvalues shape torch.Size([5]) eigenvectors shape torch.Size([5, 400])\n",
      "8 /home/phdcs2/Hard_Disk/Datasets/Deep-Spectral-Segmentation/data/object-segmentation/ECSSD/features/dino_vits16/0009.pth\n",
      "dict_keys(['k', 'indices', 'file', 'id', 'model_name', 'patch_size', 'shape'])\n",
      "0009\n",
      "Starting Training\n",
      "epoch: 00, loss: -0.02492\n",
      "epoch: 01, loss: -0.04847\n",
      "epoch: 02, loss: -0.05065\n",
      "epoch: 03, loss: -0.05129\n",
      "epoch: 04, loss: -0.05143\n",
      "epoch: 05, loss: -0.05150\n",
      "epoch: 06, loss: -0.05155\n",
      "epoch: 07, loss: -0.05188\n",
      "epoch: 08, loss: -0.05191\n",
      "epoch: 09, loss: -0.05190\n",
      "torch.Size([400, 64])\n"
     ]
    },
    {
     "name": "stderr",
     "output_type": "stream",
     "text": [
      "  1%|          | 9/1000 [01:33<2:49:53, 10.29s/it]"
     ]
    },
    {
     "name": "stdout",
     "output_type": "stream",
     "text": [
      "eigenvalues shape torch.Size([5]) eigenvectors shape torch.Size([5, 400])\n",
      "9 /home/phdcs2/Hard_Disk/Datasets/Deep-Spectral-Segmentation/data/object-segmentation/ECSSD/features/dino_vits16/0010.pth\n",
      "dict_keys(['k', 'indices', 'file', 'id', 'model_name', 'patch_size', 'shape'])\n",
      "0010\n",
      "Starting Training\n",
      "epoch: 00, loss: -0.00948\n",
      "epoch: 01, loss: -0.02225\n",
      "epoch: 02, loss: -0.02511\n",
      "epoch: 03, loss: -0.02613\n",
      "epoch: 04, loss: -0.02678\n",
      "epoch: 05, loss: -0.02692\n",
      "epoch: 06, loss: -0.02726\n",
      "epoch: 07, loss: -0.02730\n",
      "epoch: 08, loss: -0.02750\n",
      "epoch: 09, loss: -0.02768\n",
      "torch.Size([400, 64])\n"
     ]
    },
    {
     "name": "stderr",
     "output_type": "stream",
     "text": [
      "  1%|          | 10/1000 [01:44<2:52:50, 10.47s/it]"
     ]
    },
    {
     "name": "stdout",
     "output_type": "stream",
     "text": [
      "eigenvalues shape torch.Size([5]) eigenvectors shape torch.Size([5, 400])\n",
      "10 /home/phdcs2/Hard_Disk/Datasets/Deep-Spectral-Segmentation/data/object-segmentation/ECSSD/features/dino_vits16/0011.pth\n",
      "dict_keys(['k', 'indices', 'file', 'id', 'model_name', 'patch_size', 'shape'])\n",
      "0011\n",
      "Starting Training\n",
      "epoch: 00, loss: -0.03155\n",
      "epoch: 01, loss: -0.05739\n",
      "epoch: 02, loss: -0.05928\n",
      "epoch: 03, loss: -0.05923\n",
      "epoch: 04, loss: -0.06027\n",
      "epoch: 05, loss: -0.06001\n",
      "epoch: 06, loss: -0.06063\n",
      "epoch: 07, loss: -0.06050\n",
      "epoch: 08, loss: -0.06095\n",
      "epoch: 09, loss: -0.06082\n",
      "torch.Size([400, 64])\n"
     ]
    },
    {
     "name": "stderr",
     "output_type": "stream",
     "text": [
      "  1%|          | 11/1000 [01:54<2:46:41, 10.11s/it]"
     ]
    },
    {
     "name": "stdout",
     "output_type": "stream",
     "text": [
      "eigenvalues shape torch.Size([5]) eigenvectors shape torch.Size([5, 400])\n",
      "11 /home/phdcs2/Hard_Disk/Datasets/Deep-Spectral-Segmentation/data/object-segmentation/ECSSD/features/dino_vits16/0012.pth\n",
      "dict_keys(['k', 'indices', 'file', 'id', 'model_name', 'patch_size', 'shape'])\n",
      "0012\n",
      "Starting Training\n",
      "epoch: 00, loss: -0.02343\n",
      "epoch: 01, loss: -0.05751\n",
      "epoch: 02, loss: -0.06085\n",
      "epoch: 03, loss: -0.06634\n",
      "epoch: 04, loss: -0.06553\n",
      "epoch: 05, loss: -0.06605\n",
      "epoch: 06, loss: -0.06626\n",
      "epoch: 07, loss: -0.06691\n",
      "epoch: 08, loss: -0.06677\n",
      "epoch: 09, loss: -0.06848\n",
      "torch.Size([400, 64])\n"
     ]
    },
    {
     "name": "stderr",
     "output_type": "stream",
     "text": [
      "  1%|          | 12/1000 [02:06<2:58:38, 10.85s/it]"
     ]
    },
    {
     "name": "stdout",
     "output_type": "stream",
     "text": [
      "eigenvalues shape torch.Size([5]) eigenvectors shape torch.Size([5, 400])\n",
      "12 /home/phdcs2/Hard_Disk/Datasets/Deep-Spectral-Segmentation/data/object-segmentation/ECSSD/features/dino_vits16/0013.pth\n",
      "dict_keys(['k', 'indices', 'file', 'id', 'model_name', 'patch_size', 'shape'])\n",
      "0013\n",
      "Starting Training\n",
      "epoch: 00, loss: -0.01748\n",
      "epoch: 01, loss: -0.04473\n",
      "epoch: 02, loss: -0.05033\n",
      "epoch: 03, loss: -0.05182\n",
      "epoch: 04, loss: -0.05446\n",
      "epoch: 05, loss: -0.05418\n",
      "epoch: 06, loss: -0.05469\n",
      "epoch: 07, loss: -0.05734\n",
      "epoch: 08, loss: -0.05722\n",
      "epoch: 09, loss: -0.05731\n",
      "torch.Size([400, 64])\n"
     ]
    },
    {
     "name": "stderr",
     "output_type": "stream",
     "text": [
      "  1%|▏         | 13/1000 [02:15<2:48:09, 10.22s/it]"
     ]
    },
    {
     "name": "stdout",
     "output_type": "stream",
     "text": [
      "eigenvalues shape torch.Size([5]) eigenvectors shape torch.Size([5, 400])\n",
      "13 /home/phdcs2/Hard_Disk/Datasets/Deep-Spectral-Segmentation/data/object-segmentation/ECSSD/features/dino_vits16/0014.pth\n",
      "dict_keys(['k', 'indices', 'file', 'id', 'model_name', 'patch_size', 'shape'])\n",
      "0014\n",
      "Starting Training\n",
      "epoch: 00, loss: 0.00518\n",
      "epoch: 01, loss: -0.00437\n",
      "epoch: 02, loss: -0.00827\n",
      "epoch: 03, loss: -0.01045\n",
      "epoch: 04, loss: -0.01162\n",
      "epoch: 05, loss: -0.01240\n",
      "epoch: 06, loss: -0.01295\n",
      "epoch: 07, loss: -0.01328\n",
      "epoch: 08, loss: -0.01351\n",
      "epoch: 09, loss: -0.01379\n",
      "torch.Size([400, 64])\n"
     ]
    },
    {
     "name": "stderr",
     "output_type": "stream",
     "text": [
      "  1%|▏         | 14/1000 [02:22<2:32:57,  9.31s/it]"
     ]
    },
    {
     "name": "stdout",
     "output_type": "stream",
     "text": [
      "eigenvalues shape torch.Size([5]) eigenvectors shape torch.Size([5, 400])\n",
      "14 /home/phdcs2/Hard_Disk/Datasets/Deep-Spectral-Segmentation/data/object-segmentation/ECSSD/features/dino_vits16/0015.pth\n",
      "dict_keys(['k', 'indices', 'file', 'id', 'model_name', 'patch_size', 'shape'])\n",
      "0015\n",
      "Starting Training\n",
      "epoch: 00, loss: -0.02054\n",
      "epoch: 01, loss: -0.04372\n",
      "epoch: 02, loss: -0.04682\n",
      "epoch: 03, loss: -0.04740\n",
      "epoch: 04, loss: -0.04792\n",
      "epoch: 05, loss: -0.04807\n",
      "epoch: 06, loss: -0.04824\n",
      "epoch: 07, loss: -0.04838\n",
      "epoch: 08, loss: -0.04866\n",
      "epoch: 09, loss: -0.04855\n",
      "torch.Size([400, 64])\n"
     ]
    },
    {
     "name": "stderr",
     "output_type": "stream",
     "text": [
      "  2%|▏         | 15/1000 [02:27<2:13:02,  8.10s/it]"
     ]
    },
    {
     "name": "stdout",
     "output_type": "stream",
     "text": [
      "eigenvalues shape torch.Size([5]) eigenvectors shape torch.Size([5, 400])\n",
      "15 /home/phdcs2/Hard_Disk/Datasets/Deep-Spectral-Segmentation/data/object-segmentation/ECSSD/features/dino_vits16/0016.pth\n",
      "dict_keys(['k', 'indices', 'file', 'id', 'model_name', 'patch_size', 'shape'])\n",
      "0016\n",
      "Starting Training\n",
      "epoch: 00, loss: -0.00276\n",
      "epoch: 01, loss: -0.02026\n",
      "epoch: 02, loss: -0.02499\n",
      "epoch: 03, loss: -0.02676\n",
      "epoch: 04, loss: -0.02723\n",
      "epoch: 05, loss: -0.02760\n",
      "epoch: 06, loss: -0.02792\n",
      "epoch: 07, loss: -0.02815\n",
      "epoch: 08, loss: -0.02827\n",
      "epoch: 09, loss: -0.02838\n",
      "torch.Size([400, 64])\n"
     ]
    },
    {
     "name": "stderr",
     "output_type": "stream",
     "text": [
      "  2%|▏         | 16/1000 [02:39<2:31:44,  9.25s/it]"
     ]
    },
    {
     "name": "stdout",
     "output_type": "stream",
     "text": [
      "eigenvalues shape torch.Size([5]) eigenvectors shape torch.Size([5, 400])\n",
      "16 /home/phdcs2/Hard_Disk/Datasets/Deep-Spectral-Segmentation/data/object-segmentation/ECSSD/features/dino_vits16/0017.pth\n",
      "dict_keys(['k', 'indices', 'file', 'id', 'model_name', 'patch_size', 'shape'])\n",
      "0017\n",
      "Starting Training\n",
      "epoch: 00, loss: -0.16129\n",
      "epoch: 01, loss: -0.20168\n",
      "epoch: 02, loss: -0.20793\n",
      "epoch: 03, loss: -0.20943\n",
      "epoch: 04, loss: -0.20855\n",
      "epoch: 05, loss: -0.21415\n",
      "epoch: 06, loss: -0.21420\n",
      "epoch: 07, loss: -0.21575\n",
      "epoch: 08, loss: -0.21346\n",
      "epoch: 09, loss: -0.21643\n",
      "torch.Size([400, 64])\n"
     ]
    },
    {
     "name": "stderr",
     "output_type": "stream",
     "text": [
      "  2%|▏         | 17/1000 [02:51<2:44:50, 10.06s/it]"
     ]
    },
    {
     "name": "stdout",
     "output_type": "stream",
     "text": [
      "eigenvalues shape torch.Size([5]) eigenvectors shape torch.Size([5, 400])\n",
      "17 /home/phdcs2/Hard_Disk/Datasets/Deep-Spectral-Segmentation/data/object-segmentation/ECSSD/features/dino_vits16/0018.pth\n",
      "dict_keys(['k', 'indices', 'file', 'id', 'model_name', 'patch_size', 'shape'])\n",
      "0018\n",
      "Starting Training\n",
      "epoch: 00, loss: -0.05900\n",
      "epoch: 01, loss: -0.09048\n",
      "epoch: 02, loss: -0.09251\n",
      "epoch: 03, loss: -0.09448\n",
      "epoch: 04, loss: -0.09573\n",
      "epoch: 05, loss: -0.09804\n",
      "epoch: 06, loss: -0.09708\n",
      "epoch: 07, loss: -0.09734\n",
      "epoch: 08, loss: -0.09831\n",
      "epoch: 09, loss: -0.09986\n",
      "torch.Size([400, 64])\n"
     ]
    },
    {
     "name": "stderr",
     "output_type": "stream",
     "text": [
      "  2%|▏         | 18/1000 [02:59<2:32:57,  9.35s/it]"
     ]
    },
    {
     "name": "stdout",
     "output_type": "stream",
     "text": [
      "eigenvalues shape torch.Size([5]) eigenvectors shape torch.Size([5, 400])\n",
      "18 /home/phdcs2/Hard_Disk/Datasets/Deep-Spectral-Segmentation/data/object-segmentation/ECSSD/features/dino_vits16/0019.pth\n",
      "dict_keys(['k', 'indices', 'file', 'id', 'model_name', 'patch_size', 'shape'])\n",
      "0019\n",
      "Starting Training\n",
      "epoch: 00, loss: -0.05108\n",
      "epoch: 01, loss: -0.07785\n",
      "epoch: 02, loss: -0.07576\n",
      "epoch: 03, loss: -0.08067\n",
      "epoch: 04, loss: -0.08202\n",
      "epoch: 05, loss: -0.08328\n",
      "epoch: 06, loss: -0.08174\n",
      "epoch: 07, loss: -0.08256\n",
      "epoch: 08, loss: -0.08238\n",
      "epoch: 09, loss: -0.08180\n",
      "torch.Size([400, 64])\n"
     ]
    },
    {
     "name": "stderr",
     "output_type": "stream",
     "text": [
      "  2%|▏         | 19/1000 [03:10<2:38:43,  9.71s/it]"
     ]
    },
    {
     "name": "stdout",
     "output_type": "stream",
     "text": [
      "eigenvalues shape torch.Size([5]) eigenvectors shape torch.Size([5, 400])\n",
      "19 /home/phdcs2/Hard_Disk/Datasets/Deep-Spectral-Segmentation/data/object-segmentation/ECSSD/features/dino_vits16/0020.pth\n",
      "dict_keys(['k', 'indices', 'file', 'id', 'model_name', 'patch_size', 'shape'])\n",
      "0020\n",
      "Starting Training\n",
      "epoch: 00, loss: -0.05479\n",
      "epoch: 01, loss: -0.08373\n",
      "epoch: 02, loss: -0.08195\n",
      "epoch: 03, loss: -0.08686\n",
      "epoch: 04, loss: -0.08287\n",
      "epoch: 05, loss: -0.08550\n",
      "epoch: 06, loss: -0.08790\n",
      "epoch: 07, loss: -0.08693\n",
      "epoch: 08, loss: -0.08789\n",
      "epoch: 09, loss: -0.08843\n",
      "torch.Size([400, 64])\n"
     ]
    },
    {
     "name": "stderr",
     "output_type": "stream",
     "text": [
      "  2%|▏         | 20/1000 [03:22<2:51:06, 10.48s/it]"
     ]
    },
    {
     "name": "stdout",
     "output_type": "stream",
     "text": [
      "eigenvalues shape torch.Size([5]) eigenvectors shape torch.Size([5, 400])\n",
      "20 /home/phdcs2/Hard_Disk/Datasets/Deep-Spectral-Segmentation/data/object-segmentation/ECSSD/features/dino_vits16/0021.pth\n",
      "dict_keys(['k', 'indices', 'file', 'id', 'model_name', 'patch_size', 'shape'])\n",
      "0021\n",
      "Starting Training\n",
      "epoch: 00, loss: -0.07008\n",
      "epoch: 01, loss: -0.09631\n",
      "epoch: 02, loss: -0.09960\n",
      "epoch: 03, loss: -0.09905\n",
      "epoch: 04, loss: -0.09933\n",
      "epoch: 05, loss: -0.10186\n",
      "epoch: 06, loss: -0.10008\n",
      "epoch: 07, loss: -0.10035\n",
      "epoch: 08, loss: -0.10210\n",
      "epoch: 09, loss: -0.10375\n",
      "torch.Size([400, 64])\n"
     ]
    },
    {
     "name": "stderr",
     "output_type": "stream",
     "text": [
      "  2%|▏         | 21/1000 [03:32<2:51:44, 10.53s/it]"
     ]
    },
    {
     "name": "stdout",
     "output_type": "stream",
     "text": [
      "eigenvalues shape torch.Size([5]) eigenvectors shape torch.Size([5, 400])\n",
      "21 /home/phdcs2/Hard_Disk/Datasets/Deep-Spectral-Segmentation/data/object-segmentation/ECSSD/features/dino_vits16/0022.pth\n",
      "dict_keys(['k', 'indices', 'file', 'id', 'model_name', 'patch_size', 'shape'])\n",
      "0022\n",
      "Starting Training\n",
      "epoch: 00, loss: -0.02875\n",
      "epoch: 01, loss: -0.05911\n",
      "epoch: 02, loss: -0.05961\n",
      "epoch: 03, loss: -0.06216\n",
      "epoch: 04, loss: -0.06348\n",
      "epoch: 05, loss: -0.06122\n",
      "epoch: 06, loss: -0.06238\n",
      "epoch: 07, loss: -0.06485\n",
      "epoch: 08, loss: -0.06476\n",
      "epoch: 09, loss: -0.06612\n",
      "torch.Size([400, 64])\n"
     ]
    },
    {
     "name": "stderr",
     "output_type": "stream",
     "text": [
      "  2%|▏         | 22/1000 [03:38<2:26:10,  8.97s/it]"
     ]
    },
    {
     "name": "stdout",
     "output_type": "stream",
     "text": [
      "eigenvalues shape torch.Size([5]) eigenvectors shape torch.Size([5, 400])\n",
      "22 /home/phdcs2/Hard_Disk/Datasets/Deep-Spectral-Segmentation/data/object-segmentation/ECSSD/features/dino_vits16/0023.pth\n",
      "dict_keys(['k', 'indices', 'file', 'id', 'model_name', 'patch_size', 'shape'])\n",
      "0023\n",
      "Starting Training\n",
      "epoch: 00, loss: -0.02201\n",
      "epoch: 01, loss: -0.04938\n",
      "epoch: 02, loss: -0.05182\n",
      "epoch: 03, loss: -0.05233\n",
      "epoch: 04, loss: -0.05293\n",
      "epoch: 05, loss: -0.05271\n",
      "epoch: 06, loss: -0.05294\n",
      "epoch: 07, loss: -0.05307\n",
      "epoch: 08, loss: -0.05328\n",
      "epoch: 09, loss: -0.05336\n",
      "torch.Size([400, 64])\n"
     ]
    },
    {
     "name": "stderr",
     "output_type": "stream",
     "text": [
      "  2%|▏         | 23/1000 [03:46<2:21:41,  8.70s/it]"
     ]
    },
    {
     "name": "stdout",
     "output_type": "stream",
     "text": [
      "eigenvalues shape torch.Size([5]) eigenvectors shape torch.Size([5, 400])\n",
      "23 /home/phdcs2/Hard_Disk/Datasets/Deep-Spectral-Segmentation/data/object-segmentation/ECSSD/features/dino_vits16/0024.pth\n",
      "dict_keys(['k', 'indices', 'file', 'id', 'model_name', 'patch_size', 'shape'])\n",
      "0024\n",
      "Starting Training\n",
      "epoch: 00, loss: -0.10094\n",
      "epoch: 01, loss: -0.14327\n",
      "epoch: 02, loss: -0.14653\n",
      "epoch: 03, loss: -0.15031\n",
      "epoch: 04, loss: -0.15081\n",
      "epoch: 05, loss: -0.15081\n",
      "epoch: 06, loss: -0.15152\n",
      "epoch: 07, loss: -0.15438\n",
      "epoch: 08, loss: -0.15168\n",
      "epoch: 09, loss: -0.15239\n",
      "torch.Size([400, 64])\n"
     ]
    },
    {
     "name": "stderr",
     "output_type": "stream",
     "text": [
      "  2%|▏         | 24/1000 [03:57<2:33:04,  9.41s/it]"
     ]
    },
    {
     "name": "stdout",
     "output_type": "stream",
     "text": [
      "eigenvalues shape torch.Size([5]) eigenvectors shape torch.Size([5, 400])\n",
      "24 /home/phdcs2/Hard_Disk/Datasets/Deep-Spectral-Segmentation/data/object-segmentation/ECSSD/features/dino_vits16/0025.pth\n",
      "dict_keys(['k', 'indices', 'file', 'id', 'model_name', 'patch_size', 'shape'])\n",
      "0025\n",
      "Starting Training\n",
      "epoch: 00, loss: -0.02475\n",
      "epoch: 01, loss: -0.04014\n",
      "epoch: 02, loss: -0.04256\n",
      "epoch: 03, loss: -0.04320\n",
      "epoch: 04, loss: -0.04360\n",
      "epoch: 05, loss: -0.04372\n",
      "epoch: 06, loss: -0.04384\n",
      "epoch: 07, loss: -0.04402\n",
      "epoch: 08, loss: -0.04426\n",
      "epoch: 09, loss: -0.04424\n",
      "torch.Size([400, 64])\n"
     ]
    },
    {
     "name": "stderr",
     "output_type": "stream",
     "text": [
      "  2%|▎         | 25/1000 [04:09<2:44:06, 10.10s/it]"
     ]
    },
    {
     "name": "stdout",
     "output_type": "stream",
     "text": [
      "eigenvalues shape torch.Size([5]) eigenvectors shape torch.Size([5, 400])\n",
      "25 /home/phdcs2/Hard_Disk/Datasets/Deep-Spectral-Segmentation/data/object-segmentation/ECSSD/features/dino_vits16/0026.pth\n",
      "dict_keys(['k', 'indices', 'file', 'id', 'model_name', 'patch_size', 'shape'])\n",
      "0026\n",
      "Starting Training\n",
      "epoch: 00, loss: -0.15737\n",
      "epoch: 01, loss: -0.19811\n",
      "epoch: 02, loss: -0.20395\n",
      "epoch: 03, loss: -0.20522\n",
      "epoch: 04, loss: -0.20837\n",
      "epoch: 05, loss: -0.21052\n",
      "epoch: 06, loss: -0.21201\n",
      "epoch: 07, loss: -0.21358\n",
      "epoch: 08, loss: -0.21643\n",
      "epoch: 09, loss: -0.21796\n",
      "torch.Size([400, 64])\n"
     ]
    },
    {
     "name": "stderr",
     "output_type": "stream",
     "text": [
      "  3%|▎         | 26/1000 [04:21<2:53:10, 10.67s/it]"
     ]
    },
    {
     "name": "stdout",
     "output_type": "stream",
     "text": [
      "eigenvalues shape torch.Size([5]) eigenvectors shape torch.Size([5, 400])\n",
      "26 /home/phdcs2/Hard_Disk/Datasets/Deep-Spectral-Segmentation/data/object-segmentation/ECSSD/features/dino_vits16/0027.pth\n",
      "dict_keys(['k', 'indices', 'file', 'id', 'model_name', 'patch_size', 'shape'])\n",
      "0027\n",
      "Starting Training\n",
      "epoch: 00, loss: -0.02578\n",
      "epoch: 01, loss: -0.04885\n",
      "epoch: 02, loss: -0.05174\n",
      "epoch: 03, loss: -0.05471\n",
      "epoch: 04, loss: -0.05381\n",
      "epoch: 05, loss: -0.05809\n",
      "epoch: 06, loss: -0.05840\n",
      "epoch: 07, loss: -0.05584\n",
      "epoch: 08, loss: -0.05775\n",
      "epoch: 09, loss: -0.05675\n",
      "torch.Size([400, 64])\n"
     ]
    },
    {
     "name": "stderr",
     "output_type": "stream",
     "text": [
      "  3%|▎         | 27/1000 [04:34<3:08:30, 11.62s/it]"
     ]
    },
    {
     "name": "stdout",
     "output_type": "stream",
     "text": [
      "eigenvalues shape torch.Size([5]) eigenvectors shape torch.Size([5, 400])\n",
      "27 /home/phdcs2/Hard_Disk/Datasets/Deep-Spectral-Segmentation/data/object-segmentation/ECSSD/features/dino_vits16/0028.pth\n",
      "dict_keys(['k', 'indices', 'file', 'id', 'model_name', 'patch_size', 'shape'])\n",
      "0028\n",
      "Starting Training\n",
      "epoch: 00, loss: -0.05105\n",
      "epoch: 01, loss: -0.08288\n",
      "epoch: 02, loss: -0.08842\n",
      "epoch: 03, loss: -0.08661\n",
      "epoch: 04, loss: -0.08914\n",
      "epoch: 05, loss: -0.09127\n",
      "epoch: 06, loss: -0.09091\n",
      "epoch: 07, loss: -0.09316\n",
      "epoch: 08, loss: -0.09031\n",
      "epoch: 09, loss: -0.09310\n",
      "torch.Size([400, 64])\n"
     ]
    },
    {
     "name": "stderr",
     "output_type": "stream",
     "text": [
      "  3%|▎         | 28/1000 [04:47<3:10:19, 11.75s/it]"
     ]
    },
    {
     "name": "stdout",
     "output_type": "stream",
     "text": [
      "eigenvalues shape torch.Size([5]) eigenvectors shape torch.Size([5, 400])\n",
      "28 /home/phdcs2/Hard_Disk/Datasets/Deep-Spectral-Segmentation/data/object-segmentation/ECSSD/features/dino_vits16/0029.pth\n",
      "dict_keys(['k', 'indices', 'file', 'id', 'model_name', 'patch_size', 'shape'])\n",
      "0029\n",
      "Starting Training\n",
      "epoch: 00, loss: -0.00985\n",
      "epoch: 01, loss: -0.02677\n",
      "epoch: 02, loss: -0.03197\n",
      "epoch: 03, loss: -0.03265\n",
      "epoch: 04, loss: -0.03262\n",
      "epoch: 05, loss: -0.03364\n",
      "epoch: 06, loss: -0.03334\n",
      "epoch: 07, loss: -0.03374\n",
      "epoch: 08, loss: -0.03424\n",
      "epoch: 09, loss: -0.03378\n",
      "torch.Size([400, 64])\n"
     ]
    },
    {
     "name": "stderr",
     "output_type": "stream",
     "text": [
      "  3%|▎         | 29/1000 [04:58<3:09:29, 11.71s/it]"
     ]
    },
    {
     "name": "stdout",
     "output_type": "stream",
     "text": [
      "eigenvalues shape torch.Size([5]) eigenvectors shape torch.Size([5, 400])\n",
      "29 /home/phdcs2/Hard_Disk/Datasets/Deep-Spectral-Segmentation/data/object-segmentation/ECSSD/features/dino_vits16/0030.pth\n",
      "dict_keys(['k', 'indices', 'file', 'id', 'model_name', 'patch_size', 'shape'])\n",
      "0030\n",
      "Starting Training\n",
      "epoch: 00, loss: -0.03593\n",
      "epoch: 01, loss: -0.05321\n",
      "epoch: 02, loss: -0.05468\n",
      "epoch: 03, loss: -0.05506\n",
      "epoch: 04, loss: -0.05551\n",
      "epoch: 05, loss: -0.05590\n",
      "epoch: 06, loss: -0.05581\n",
      "epoch: 07, loss: -0.05632\n",
      "epoch: 08, loss: -0.05632\n",
      "epoch: 09, loss: -0.05627\n",
      "torch.Size([400, 64])\n"
     ]
    },
    {
     "name": "stderr",
     "output_type": "stream",
     "text": [
      "  3%|▎         | 30/1000 [05:16<3:41:09, 13.68s/it]"
     ]
    },
    {
     "name": "stdout",
     "output_type": "stream",
     "text": [
      "eigenvalues shape torch.Size([5]) eigenvectors shape torch.Size([5, 400])\n",
      "30 /home/phdcs2/Hard_Disk/Datasets/Deep-Spectral-Segmentation/data/object-segmentation/ECSSD/features/dino_vits16/0031.pth\n",
      "dict_keys(['k', 'indices', 'file', 'id', 'model_name', 'patch_size', 'shape'])\n",
      "0031\n",
      "Starting Training\n",
      "epoch: 00, loss: -0.01332\n",
      "epoch: 01, loss: -0.03773\n",
      "epoch: 02, loss: -0.04513\n",
      "epoch: 03, loss: -0.04693\n",
      "epoch: 04, loss: -0.04852\n",
      "epoch: 05, loss: -0.04548\n",
      "epoch: 06, loss: -0.05059\n",
      "epoch: 07, loss: -0.04849\n",
      "epoch: 08, loss: -0.04838\n",
      "epoch: 09, loss: -0.05114\n",
      "torch.Size([400, 64])\n"
     ]
    },
    {
     "name": "stderr",
     "output_type": "stream",
     "text": [
      "  3%|▎         | 31/1000 [05:32<3:49:33, 14.21s/it]"
     ]
    },
    {
     "name": "stdout",
     "output_type": "stream",
     "text": [
      "eigenvalues shape torch.Size([5]) eigenvectors shape torch.Size([5, 400])\n",
      "31 /home/phdcs2/Hard_Disk/Datasets/Deep-Spectral-Segmentation/data/object-segmentation/ECSSD/features/dino_vits16/0032.pth\n",
      "dict_keys(['k', 'indices', 'file', 'id', 'model_name', 'patch_size', 'shape'])\n",
      "0032\n",
      "Starting Training\n",
      "epoch: 00, loss: -0.02891\n",
      "epoch: 01, loss: -0.04560\n",
      "epoch: 02, loss: -0.04647\n",
      "epoch: 03, loss: -0.04728\n",
      "epoch: 04, loss: -0.04746\n",
      "epoch: 05, loss: -0.04784\n",
      "epoch: 06, loss: -0.04794\n",
      "epoch: 07, loss: -0.04811\n",
      "epoch: 08, loss: -0.04814\n",
      "epoch: 09, loss: -0.04835\n",
      "torch.Size([400, 64])\n"
     ]
    },
    {
     "name": "stderr",
     "output_type": "stream",
     "text": [
      "  3%|▎         | 32/1000 [05:47<3:53:54, 14.50s/it]"
     ]
    },
    {
     "name": "stdout",
     "output_type": "stream",
     "text": [
      "eigenvalues shape torch.Size([5]) eigenvectors shape torch.Size([5, 400])\n",
      "32 /home/phdcs2/Hard_Disk/Datasets/Deep-Spectral-Segmentation/data/object-segmentation/ECSSD/features/dino_vits16/0033.pth\n",
      "dict_keys(['k', 'indices', 'file', 'id', 'model_name', 'patch_size', 'shape'])\n",
      "0033\n",
      "Starting Training\n",
      "epoch: 00, loss: -0.01544\n",
      "epoch: 01, loss: -0.03905\n",
      "epoch: 02, loss: -0.04176\n",
      "epoch: 03, loss: -0.04709\n",
      "epoch: 04, loss: -0.04773\n",
      "epoch: 05, loss: -0.04695\n",
      "epoch: 06, loss: -0.04787\n",
      "epoch: 07, loss: -0.05060\n",
      "epoch: 08, loss: -0.04898\n",
      "epoch: 09, loss: -0.04886\n",
      "torch.Size([400, 64])\n"
     ]
    },
    {
     "name": "stderr",
     "output_type": "stream",
     "text": [
      "  3%|▎         | 33/1000 [06:03<4:00:32, 14.93s/it]"
     ]
    },
    {
     "name": "stdout",
     "output_type": "stream",
     "text": [
      "eigenvalues shape torch.Size([5]) eigenvectors shape torch.Size([5, 400])\n",
      "33 /home/phdcs2/Hard_Disk/Datasets/Deep-Spectral-Segmentation/data/object-segmentation/ECSSD/features/dino_vits16/0034.pth\n",
      "dict_keys(['k', 'indices', 'file', 'id', 'model_name', 'patch_size', 'shape'])\n",
      "0034\n",
      "Starting Training\n",
      "epoch: 00, loss: -0.03319\n",
      "epoch: 01, loss: -0.05733\n",
      "epoch: 02, loss: -0.05908\n",
      "epoch: 03, loss: -0.05918\n",
      "epoch: 04, loss: -0.05962\n",
      "epoch: 05, loss: -0.05983\n",
      "epoch: 06, loss: -0.06008\n",
      "epoch: 07, loss: -0.06045\n",
      "epoch: 08, loss: -0.06043\n",
      "epoch: 09, loss: -0.06050\n",
      "torch.Size([400, 64])\n"
     ]
    },
    {
     "name": "stderr",
     "output_type": "stream",
     "text": [
      "  3%|▎         | 34/1000 [06:19<4:05:49, 15.27s/it]"
     ]
    },
    {
     "name": "stdout",
     "output_type": "stream",
     "text": [
      "eigenvalues shape torch.Size([5]) eigenvectors shape torch.Size([5, 400])\n",
      "34 /home/phdcs2/Hard_Disk/Datasets/Deep-Spectral-Segmentation/data/object-segmentation/ECSSD/features/dino_vits16/0035.pth\n",
      "dict_keys(['k', 'indices', 'file', 'id', 'model_name', 'patch_size', 'shape'])\n",
      "0035\n",
      "Starting Training\n",
      "epoch: 00, loss: -0.01263\n",
      "epoch: 01, loss: -0.02848\n",
      "epoch: 02, loss: -0.03171\n",
      "epoch: 03, loss: -0.03248\n",
      "epoch: 04, loss: -0.03279\n",
      "epoch: 05, loss: -0.03301\n",
      "epoch: 06, loss: -0.03308\n",
      "epoch: 07, loss: -0.03325\n",
      "epoch: 08, loss: -0.03342\n",
      "epoch: 09, loss: -0.03354\n",
      "torch.Size([400, 64])\n"
     ]
    },
    {
     "name": "stderr",
     "output_type": "stream",
     "text": [
      "  4%|▎         | 35/1000 [06:33<3:59:43, 14.90s/it]"
     ]
    },
    {
     "name": "stdout",
     "output_type": "stream",
     "text": [
      "eigenvalues shape torch.Size([5]) eigenvectors shape torch.Size([5, 400])\n",
      "35 /home/phdcs2/Hard_Disk/Datasets/Deep-Spectral-Segmentation/data/object-segmentation/ECSSD/features/dino_vits16/0036.pth\n",
      "dict_keys(['k', 'indices', 'file', 'id', 'model_name', 'patch_size', 'shape'])\n",
      "0036\n",
      "Starting Training\n",
      "epoch: 00, loss: -0.02845\n",
      "epoch: 01, loss: -0.04436\n",
      "epoch: 02, loss: -0.04550\n",
      "epoch: 03, loss: -0.04622\n",
      "epoch: 04, loss: -0.04664\n",
      "epoch: 05, loss: -0.04675\n",
      "epoch: 06, loss: -0.04692\n",
      "epoch: 07, loss: -0.04706\n",
      "epoch: 08, loss: -0.04715\n",
      "epoch: 09, loss: -0.04724\n",
      "torch.Size([450, 64])\n"
     ]
    },
    {
     "name": "stderr",
     "output_type": "stream",
     "text": [
      "  4%|▎         | 36/1000 [06:51<4:14:17, 15.83s/it]"
     ]
    },
    {
     "name": "stdout",
     "output_type": "stream",
     "text": [
      "eigenvalues shape torch.Size([5]) eigenvectors shape torch.Size([5, 450])\n",
      "36 /home/phdcs2/Hard_Disk/Datasets/Deep-Spectral-Segmentation/data/object-segmentation/ECSSD/features/dino_vits16/0037.pth\n",
      "dict_keys(['k', 'indices', 'file', 'id', 'model_name', 'patch_size', 'shape'])\n",
      "0037\n",
      "Starting Training\n",
      "epoch: 00, loss: -0.00813\n",
      "epoch: 01, loss: -0.03012\n",
      "epoch: 02, loss: -0.03461\n",
      "epoch: 03, loss: -0.03590\n",
      "epoch: 04, loss: -0.03649\n",
      "epoch: 05, loss: -0.03680\n",
      "epoch: 06, loss: -0.03689\n",
      "epoch: 07, loss: -0.03689\n",
      "epoch: 08, loss: -0.03718\n",
      "epoch: 09, loss: -0.03717\n",
      "torch.Size([450, 64])\n"
     ]
    },
    {
     "name": "stderr",
     "output_type": "stream",
     "text": [
      "  4%|▎         | 37/1000 [07:06<4:07:47, 15.44s/it]"
     ]
    },
    {
     "name": "stdout",
     "output_type": "stream",
     "text": [
      "eigenvalues shape torch.Size([5]) eigenvectors shape torch.Size([5, 450])\n",
      "37 /home/phdcs2/Hard_Disk/Datasets/Deep-Spectral-Segmentation/data/object-segmentation/ECSSD/features/dino_vits16/0038.pth\n",
      "dict_keys(['k', 'indices', 'file', 'id', 'model_name', 'patch_size', 'shape'])\n",
      "0038\n",
      "Starting Training\n",
      "epoch: 00, loss: -0.01052\n",
      "epoch: 01, loss: -0.04050\n",
      "epoch: 02, loss: -0.04613\n",
      "epoch: 03, loss: -0.05014\n",
      "epoch: 04, loss: -0.04662\n",
      "epoch: 05, loss: -0.05177\n",
      "epoch: 06, loss: -0.05087\n",
      "epoch: 07, loss: -0.05201\n",
      "epoch: 08, loss: -0.05105\n",
      "epoch: 09, loss: -0.05317\n",
      "torch.Size([400, 64])\n"
     ]
    },
    {
     "name": "stderr",
     "output_type": "stream",
     "text": [
      "  4%|▍         | 38/1000 [07:20<4:03:16, 15.17s/it]"
     ]
    },
    {
     "name": "stdout",
     "output_type": "stream",
     "text": [
      "eigenvalues shape torch.Size([5]) eigenvectors shape torch.Size([5, 400])\n",
      "38 /home/phdcs2/Hard_Disk/Datasets/Deep-Spectral-Segmentation/data/object-segmentation/ECSSD/features/dino_vits16/0039.pth\n",
      "dict_keys(['k', 'indices', 'file', 'id', 'model_name', 'patch_size', 'shape'])\n",
      "0039\n",
      "Starting Training\n",
      "epoch: 00, loss: -0.04043\n",
      "epoch: 01, loss: -0.08070\n",
      "epoch: 02, loss: -0.08225\n",
      "epoch: 03, loss: -0.08402\n",
      "epoch: 04, loss: -0.08570\n",
      "epoch: 05, loss: -0.08475\n",
      "epoch: 06, loss: -0.08841\n",
      "epoch: 07, loss: -0.08607\n",
      "epoch: 08, loss: -0.09018\n",
      "epoch: 09, loss: -0.08741\n",
      "torch.Size([400, 64])\n"
     ]
    },
    {
     "name": "stderr",
     "output_type": "stream",
     "text": [
      "  4%|▍         | 39/1000 [07:36<4:04:53, 15.29s/it]"
     ]
    },
    {
     "name": "stdout",
     "output_type": "stream",
     "text": [
      "eigenvalues shape torch.Size([5]) eigenvectors shape torch.Size([5, 400])\n",
      "39 /home/phdcs2/Hard_Disk/Datasets/Deep-Spectral-Segmentation/data/object-segmentation/ECSSD/features/dino_vits16/0040.pth\n",
      "dict_keys(['k', 'indices', 'file', 'id', 'model_name', 'patch_size', 'shape'])\n",
      "0040\n",
      "Starting Training\n",
      "epoch: 00, loss: -0.04914\n",
      "epoch: 01, loss: -0.08190\n",
      "epoch: 02, loss: -0.08229\n",
      "epoch: 03, loss: -0.08553\n",
      "epoch: 04, loss: -0.08657\n",
      "epoch: 05, loss: -0.08791\n",
      "epoch: 06, loss: -0.08784\n",
      "epoch: 07, loss: -0.08764\n",
      "epoch: 08, loss: -0.08619\n",
      "epoch: 09, loss: -0.08805\n",
      "torch.Size([400, 64])\n"
     ]
    },
    {
     "name": "stderr",
     "output_type": "stream",
     "text": [
      "  4%|▍         | 40/1000 [07:50<3:59:11, 14.95s/it]"
     ]
    },
    {
     "name": "stdout",
     "output_type": "stream",
     "text": [
      "eigenvalues shape torch.Size([5]) eigenvectors shape torch.Size([5, 400])\n",
      "40 /home/phdcs2/Hard_Disk/Datasets/Deep-Spectral-Segmentation/data/object-segmentation/ECSSD/features/dino_vits16/0041.pth\n",
      "dict_keys(['k', 'indices', 'file', 'id', 'model_name', 'patch_size', 'shape'])\n",
      "0041\n",
      "Starting Training\n",
      "epoch: 00, loss: -0.01474\n",
      "epoch: 01, loss: -0.03622\n",
      "epoch: 02, loss: -0.04184\n",
      "epoch: 03, loss: -0.04208\n",
      "epoch: 04, loss: -0.04360\n",
      "epoch: 05, loss: -0.04659\n",
      "epoch: 06, loss: -0.04431\n",
      "epoch: 07, loss: -0.04665\n",
      "epoch: 08, loss: -0.04484\n",
      "epoch: 09, loss: -0.04529\n",
      "torch.Size([450, 64])\n"
     ]
    },
    {
     "name": "stderr",
     "output_type": "stream",
     "text": [
      "  4%|▍         | 41/1000 [08:06<4:03:51, 15.26s/it]"
     ]
    },
    {
     "name": "stdout",
     "output_type": "stream",
     "text": [
      "eigenvalues shape torch.Size([5]) eigenvectors shape torch.Size([5, 450])\n",
      "41 /home/phdcs2/Hard_Disk/Datasets/Deep-Spectral-Segmentation/data/object-segmentation/ECSSD/features/dino_vits16/0042.pth\n",
      "dict_keys(['k', 'indices', 'file', 'id', 'model_name', 'patch_size', 'shape'])\n",
      "0042\n",
      "Starting Training\n",
      "epoch: 00, loss: -0.02403\n",
      "epoch: 01, loss: -0.05186\n",
      "epoch: 02, loss: -0.05685\n",
      "epoch: 03, loss: -0.06163\n",
      "epoch: 04, loss: -0.05970\n",
      "epoch: 05, loss: -0.05931\n",
      "epoch: 06, loss: -0.06242\n",
      "epoch: 07, loss: -0.06138\n",
      "epoch: 08, loss: -0.06062\n",
      "epoch: 09, loss: -0.05970\n",
      "torch.Size([400, 64])\n"
     ]
    },
    {
     "name": "stderr",
     "output_type": "stream",
     "text": [
      "  4%|▍         | 42/1000 [08:23<4:11:36, 15.76s/it]"
     ]
    },
    {
     "name": "stdout",
     "output_type": "stream",
     "text": [
      "eigenvalues shape torch.Size([5]) eigenvectors shape torch.Size([5, 400])\n",
      "42 /home/phdcs2/Hard_Disk/Datasets/Deep-Spectral-Segmentation/data/object-segmentation/ECSSD/features/dino_vits16/0043.pth\n",
      "dict_keys(['k', 'indices', 'file', 'id', 'model_name', 'patch_size', 'shape'])\n",
      "0043\n",
      "Starting Training\n",
      "epoch: 00, loss: -0.03472\n",
      "epoch: 01, loss: -0.05665\n",
      "epoch: 02, loss: -0.05971\n",
      "epoch: 03, loss: -0.06269\n",
      "epoch: 04, loss: -0.06469\n",
      "epoch: 05, loss: -0.06347\n",
      "epoch: 06, loss: -0.06472\n",
      "epoch: 07, loss: -0.06472\n",
      "epoch: 08, loss: -0.06682\n",
      "epoch: 09, loss: -0.06562\n",
      "torch.Size([450, 64])\n"
     ]
    },
    {
     "name": "stderr",
     "output_type": "stream",
     "text": [
      "  4%|▍         | 43/1000 [08:41<4:22:07, 16.43s/it]"
     ]
    },
    {
     "name": "stdout",
     "output_type": "stream",
     "text": [
      "eigenvalues shape torch.Size([5]) eigenvectors shape torch.Size([5, 450])\n",
      "43 /home/phdcs2/Hard_Disk/Datasets/Deep-Spectral-Segmentation/data/object-segmentation/ECSSD/features/dino_vits16/0044.pth\n",
      "dict_keys(['k', 'indices', 'file', 'id', 'model_name', 'patch_size', 'shape'])\n",
      "0044\n",
      "Starting Training\n",
      "epoch: 00, loss: -0.01571\n",
      "epoch: 01, loss: -0.02643\n",
      "epoch: 02, loss: -0.02777\n",
      "epoch: 03, loss: -0.02732\n",
      "epoch: 04, loss: -0.02767\n",
      "epoch: 05, loss: -0.02782\n",
      "epoch: 06, loss: -0.02802\n",
      "epoch: 07, loss: -0.02944\n",
      "epoch: 08, loss: -0.02932\n",
      "epoch: 09, loss: -0.02908\n",
      "torch.Size([525, 64])\n"
     ]
    },
    {
     "name": "stderr",
     "output_type": "stream",
     "text": [
      "  4%|▍         | 44/1000 [09:01<4:38:56, 17.51s/it]"
     ]
    },
    {
     "name": "stdout",
     "output_type": "stream",
     "text": [
      "eigenvalues shape torch.Size([5]) eigenvectors shape torch.Size([5, 525])\n",
      "44 /home/phdcs2/Hard_Disk/Datasets/Deep-Spectral-Segmentation/data/object-segmentation/ECSSD/features/dino_vits16/0045.pth\n",
      "dict_keys(['k', 'indices', 'file', 'id', 'model_name', 'patch_size', 'shape'])\n",
      "0045\n",
      "Starting Training\n",
      "epoch: 00, loss: -0.03645\n",
      "epoch: 01, loss: -0.05620\n",
      "epoch: 02, loss: -0.05683\n",
      "epoch: 03, loss: -0.05788\n",
      "epoch: 04, loss: -0.05795\n",
      "epoch: 05, loss: -0.05812\n",
      "epoch: 06, loss: -0.05836\n",
      "epoch: 07, loss: -0.05857\n",
      "epoch: 08, loss: -0.05878\n",
      "epoch: 09, loss: -0.05888\n",
      "torch.Size([450, 64])\n"
     ]
    },
    {
     "name": "stderr",
     "output_type": "stream",
     "text": [
      "  4%|▍         | 45/1000 [09:15<4:22:40, 16.50s/it]"
     ]
    },
    {
     "name": "stdout",
     "output_type": "stream",
     "text": [
      "eigenvalues shape torch.Size([5]) eigenvectors shape torch.Size([5, 450])\n",
      "45 /home/phdcs2/Hard_Disk/Datasets/Deep-Spectral-Segmentation/data/object-segmentation/ECSSD/features/dino_vits16/0046.pth\n",
      "dict_keys(['k', 'indices', 'file', 'id', 'model_name', 'patch_size', 'shape'])\n",
      "0046\n",
      "Starting Training\n",
      "epoch: 00, loss: -0.04153\n",
      "epoch: 01, loss: -0.06948\n",
      "epoch: 02, loss: -0.07065\n",
      "epoch: 03, loss: -0.07120\n",
      "epoch: 04, loss: -0.07135\n",
      "epoch: 05, loss: -0.07168\n",
      "epoch: 06, loss: -0.07173\n",
      "epoch: 07, loss: -0.07180\n",
      "epoch: 08, loss: -0.07205\n",
      "epoch: 09, loss: -0.07216\n",
      "torch.Size([450, 64])\n"
     ]
    },
    {
     "name": "stderr",
     "output_type": "stream",
     "text": [
      "  5%|▍         | 46/1000 [09:33<4:30:53, 17.04s/it]"
     ]
    },
    {
     "name": "stdout",
     "output_type": "stream",
     "text": [
      "eigenvalues shape torch.Size([5]) eigenvectors shape torch.Size([5, 450])\n",
      "46 /home/phdcs2/Hard_Disk/Datasets/Deep-Spectral-Segmentation/data/object-segmentation/ECSSD/features/dino_vits16/0047.pth\n",
      "dict_keys(['k', 'indices', 'file', 'id', 'model_name', 'patch_size', 'shape'])\n",
      "0047\n",
      "Starting Training\n",
      "epoch: 00, loss: -0.03919\n",
      "epoch: 01, loss: -0.06573\n",
      "epoch: 02, loss: -0.06640\n",
      "epoch: 03, loss: -0.06762\n",
      "epoch: 04, loss: -0.06832\n",
      "epoch: 05, loss: -0.06839\n",
      "epoch: 06, loss: -0.06884\n",
      "epoch: 07, loss: -0.06990\n",
      "epoch: 08, loss: -0.06948\n",
      "epoch: 09, loss: -0.06948\n",
      "torch.Size([400, 64])\n"
     ]
    },
    {
     "name": "stderr",
     "output_type": "stream",
     "text": [
      "  5%|▍         | 47/1000 [09:48<4:20:57, 16.43s/it]"
     ]
    },
    {
     "name": "stdout",
     "output_type": "stream",
     "text": [
      "eigenvalues shape torch.Size([5]) eigenvectors shape torch.Size([5, 400])\n",
      "47 /home/phdcs2/Hard_Disk/Datasets/Deep-Spectral-Segmentation/data/object-segmentation/ECSSD/features/dino_vits16/0048.pth\n",
      "dict_keys(['k', 'indices', 'file', 'id', 'model_name', 'patch_size', 'shape'])\n",
      "0048\n",
      "Starting Training\n",
      "epoch: 00, loss: -0.02019\n",
      "epoch: 01, loss: -0.04278\n",
      "epoch: 02, loss: -0.04548\n",
      "epoch: 03, loss: -0.05088\n",
      "epoch: 04, loss: -0.05008\n",
      "epoch: 05, loss: -0.05133\n",
      "epoch: 06, loss: -0.05052\n",
      "epoch: 07, loss: -0.05025\n",
      "epoch: 08, loss: -0.05271\n",
      "epoch: 09, loss: -0.05047\n",
      "torch.Size([450, 64])\n"
     ]
    },
    {
     "name": "stderr",
     "output_type": "stream",
     "text": [
      "  5%|▍         | 48/1000 [10:08<4:34:26, 17.30s/it]"
     ]
    },
    {
     "name": "stdout",
     "output_type": "stream",
     "text": [
      "eigenvalues shape torch.Size([5]) eigenvectors shape torch.Size([5, 450])\n",
      "48 /home/phdcs2/Hard_Disk/Datasets/Deep-Spectral-Segmentation/data/object-segmentation/ECSSD/features/dino_vits16/0049.pth\n",
      "dict_keys(['k', 'indices', 'file', 'id', 'model_name', 'patch_size', 'shape'])\n",
      "0049\n",
      "Starting Training\n",
      "epoch: 00, loss: -0.06581\n",
      "epoch: 01, loss: -0.08129\n",
      "epoch: 02, loss: -0.08226\n",
      "epoch: 03, loss: -0.08294\n",
      "epoch: 04, loss: -0.08275\n",
      "epoch: 05, loss: -0.08285\n",
      "epoch: 06, loss: -0.08322\n",
      "epoch: 07, loss: -0.08322\n",
      "epoch: 08, loss: -0.08333\n",
      "epoch: 09, loss: -0.08333\n",
      "torch.Size([450, 64])\n"
     ]
    },
    {
     "name": "stderr",
     "output_type": "stream",
     "text": [
      "  5%|▍         | 49/1000 [10:27<4:42:07, 17.80s/it]"
     ]
    },
    {
     "name": "stdout",
     "output_type": "stream",
     "text": [
      "eigenvalues shape torch.Size([5]) eigenvectors shape torch.Size([5, 450])\n",
      "49 /home/phdcs2/Hard_Disk/Datasets/Deep-Spectral-Segmentation/data/object-segmentation/ECSSD/features/dino_vits16/0050.pth\n",
      "dict_keys(['k', 'indices', 'file', 'id', 'model_name', 'patch_size', 'shape'])\n",
      "0050\n",
      "Starting Training\n",
      "epoch: 00, loss: -0.08399\n",
      "epoch: 01, loss: -0.12743\n",
      "epoch: 02, loss: -0.12780\n",
      "epoch: 03, loss: -0.12917\n",
      "epoch: 04, loss: -0.13266\n",
      "epoch: 05, loss: -0.13201\n",
      "epoch: 06, loss: -0.13404\n",
      "epoch: 07, loss: -0.13224\n",
      "epoch: 08, loss: -0.13407\n",
      "epoch: 09, loss: -0.13431\n",
      "torch.Size([400, 64])\n"
     ]
    },
    {
     "name": "stderr",
     "output_type": "stream",
     "text": [
      "  5%|▌         | 50/1000 [10:44<4:38:05, 17.56s/it]"
     ]
    },
    {
     "name": "stdout",
     "output_type": "stream",
     "text": [
      "eigenvalues shape torch.Size([5]) eigenvectors shape torch.Size([5, 400])\n",
      "50 /home/phdcs2/Hard_Disk/Datasets/Deep-Spectral-Segmentation/data/object-segmentation/ECSSD/features/dino_vits16/0051.pth\n",
      "dict_keys(['k', 'indices', 'file', 'id', 'model_name', 'patch_size', 'shape'])\n",
      "0051\n",
      "Starting Training\n",
      "epoch: 00, loss: -0.08434\n",
      "epoch: 01, loss: -0.11636\n",
      "epoch: 02, loss: -0.11830\n",
      "epoch: 03, loss: -0.12205\n",
      "epoch: 04, loss: -0.12080\n",
      "epoch: 05, loss: -0.12259\n",
      "epoch: 06, loss: -0.12412\n",
      "epoch: 07, loss: -0.12483\n",
      "epoch: 08, loss: -0.12322\n",
      "epoch: 09, loss: -0.12335\n",
      "torch.Size([450, 64])\n"
     ]
    },
    {
     "name": "stderr",
     "output_type": "stream",
     "text": [
      "  5%|▌         | 51/1000 [11:02<4:41:05, 17.77s/it]"
     ]
    },
    {
     "name": "stdout",
     "output_type": "stream",
     "text": [
      "eigenvalues shape torch.Size([5]) eigenvectors shape torch.Size([5, 450])\n",
      "51 /home/phdcs2/Hard_Disk/Datasets/Deep-Spectral-Segmentation/data/object-segmentation/ECSSD/features/dino_vits16/0052.pth\n",
      "dict_keys(['k', 'indices', 'file', 'id', 'model_name', 'patch_size', 'shape'])\n",
      "0052\n",
      "Starting Training\n",
      "epoch: 00, loss: -0.05418\n",
      "epoch: 01, loss: -0.07216\n",
      "epoch: 02, loss: -0.07214\n",
      "epoch: 03, loss: -0.07285\n",
      "epoch: 04, loss: -0.07285\n",
      "epoch: 05, loss: -0.07353\n",
      "epoch: 06, loss: -0.07353\n",
      "epoch: 07, loss: -0.07366\n",
      "epoch: 08, loss: -0.07379\n",
      "epoch: 09, loss: -0.07342\n",
      "torch.Size([450, 64])\n"
     ]
    },
    {
     "name": "stderr",
     "output_type": "stream",
     "text": [
      "  5%|▌         | 52/1000 [11:21<4:46:04, 18.11s/it]"
     ]
    },
    {
     "name": "stdout",
     "output_type": "stream",
     "text": [
      "eigenvalues shape torch.Size([5]) eigenvectors shape torch.Size([5, 450])\n",
      "52 /home/phdcs2/Hard_Disk/Datasets/Deep-Spectral-Segmentation/data/object-segmentation/ECSSD/features/dino_vits16/0053.pth\n",
      "dict_keys(['k', 'indices', 'file', 'id', 'model_name', 'patch_size', 'shape'])\n",
      "0053\n",
      "Starting Training\n",
      "epoch: 00, loss: -0.05234\n",
      "epoch: 01, loss: -0.08510\n",
      "epoch: 02, loss: -0.08797\n",
      "epoch: 03, loss: -0.09371\n",
      "epoch: 04, loss: -0.09483\n",
      "epoch: 05, loss: -0.09438\n",
      "epoch: 06, loss: -0.09457\n",
      "epoch: 07, loss: -0.09546\n",
      "epoch: 08, loss: -0.09769\n",
      "epoch: 09, loss: -0.09864\n",
      "torch.Size([375, 64])\n"
     ]
    },
    {
     "name": "stderr",
     "output_type": "stream",
     "text": [
      "  5%|▌         | 53/1000 [11:39<4:46:52, 18.18s/it]"
     ]
    },
    {
     "name": "stdout",
     "output_type": "stream",
     "text": [
      "eigenvalues shape torch.Size([5]) eigenvectors shape torch.Size([5, 375])\n",
      "53 /home/phdcs2/Hard_Disk/Datasets/Deep-Spectral-Segmentation/data/object-segmentation/ECSSD/features/dino_vits16/0054.pth\n",
      "dict_keys(['k', 'indices', 'file', 'id', 'model_name', 'patch_size', 'shape'])\n",
      "0054\n",
      "Starting Training\n",
      "epoch: 00, loss: -0.03672\n",
      "epoch: 01, loss: -0.05964\n",
      "epoch: 02, loss: -0.06096\n",
      "epoch: 03, loss: -0.06130\n",
      "epoch: 04, loss: -0.06162\n",
      "epoch: 05, loss: -0.06220\n",
      "epoch: 06, loss: -0.06224\n",
      "epoch: 07, loss: -0.06194\n",
      "epoch: 08, loss: -0.06237\n",
      "epoch: 09, loss: -0.06259\n",
      "torch.Size([450, 64])\n"
     ]
    },
    {
     "name": "stderr",
     "output_type": "stream",
     "text": [
      "  5%|▌         | 54/1000 [12:03<5:14:22, 19.94s/it]"
     ]
    },
    {
     "name": "stdout",
     "output_type": "stream",
     "text": [
      "eigenvalues shape torch.Size([5]) eigenvectors shape torch.Size([5, 450])\n",
      "54 /home/phdcs2/Hard_Disk/Datasets/Deep-Spectral-Segmentation/data/object-segmentation/ECSSD/features/dino_vits16/0055.pth\n",
      "dict_keys(['k', 'indices', 'file', 'id', 'model_name', 'patch_size', 'shape'])\n",
      "0055\n",
      "Starting Training\n",
      "epoch: 00, loss: -0.07103\n",
      "epoch: 01, loss: -0.09915\n",
      "epoch: 02, loss: -0.10170\n",
      "epoch: 03, loss: -0.10595\n",
      "epoch: 04, loss: -0.10601\n",
      "epoch: 05, loss: -0.10547\n",
      "epoch: 06, loss: -0.10643\n",
      "epoch: 07, loss: -0.10607\n",
      "epoch: 08, loss: -0.10759\n",
      "epoch: 09, loss: -0.10786\n",
      "torch.Size([450, 64])\n"
     ]
    },
    {
     "name": "stderr",
     "output_type": "stream",
     "text": [
      "  6%|▌         | 55/1000 [12:22<5:07:07, 19.50s/it]"
     ]
    },
    {
     "name": "stdout",
     "output_type": "stream",
     "text": [
      "eigenvalues shape torch.Size([5]) eigenvectors shape torch.Size([5, 450])\n",
      "55 /home/phdcs2/Hard_Disk/Datasets/Deep-Spectral-Segmentation/data/object-segmentation/ECSSD/features/dino_vits16/0056.pth\n",
      "dict_keys(['k', 'indices', 'file', 'id', 'model_name', 'patch_size', 'shape'])\n",
      "0056\n",
      "Starting Training\n",
      "epoch: 00, loss: -0.03993\n",
      "epoch: 01, loss: -0.06238\n",
      "epoch: 02, loss: -0.06692\n",
      "epoch: 03, loss: -0.06965\n",
      "epoch: 04, loss: -0.07243\n",
      "epoch: 05, loss: -0.07129\n",
      "epoch: 06, loss: -0.07430\n",
      "epoch: 07, loss: -0.07424\n",
      "epoch: 08, loss: -0.07349\n",
      "epoch: 09, loss: -0.07418\n",
      "torch.Size([400, 64])\n"
     ]
    },
    {
     "name": "stderr",
     "output_type": "stream",
     "text": [
      "  6%|▌         | 56/1000 [12:41<5:08:07, 19.58s/it]"
     ]
    },
    {
     "name": "stdout",
     "output_type": "stream",
     "text": [
      "eigenvalues shape torch.Size([5]) eigenvectors shape torch.Size([5, 400])\n",
      "56 /home/phdcs2/Hard_Disk/Datasets/Deep-Spectral-Segmentation/data/object-segmentation/ECSSD/features/dino_vits16/0057.pth\n",
      "dict_keys(['k', 'indices', 'file', 'id', 'model_name', 'patch_size', 'shape'])\n",
      "0057\n",
      "Starting Training\n",
      "epoch: 00, loss: -0.05421\n",
      "epoch: 01, loss: -0.07888\n",
      "epoch: 02, loss: -0.07975\n",
      "epoch: 03, loss: -0.08018\n",
      "epoch: 04, loss: -0.08037\n",
      "epoch: 05, loss: -0.08059\n",
      "epoch: 06, loss: -0.08072\n",
      "epoch: 07, loss: -0.08088\n",
      "epoch: 08, loss: -0.08097\n",
      "epoch: 09, loss: -0.08125\n",
      "torch.Size([400, 64])\n"
     ]
    },
    {
     "name": "stderr",
     "output_type": "stream",
     "text": [
      "  6%|▌         | 57/1000 [13:01<5:07:49, 19.59s/it]"
     ]
    },
    {
     "name": "stdout",
     "output_type": "stream",
     "text": [
      "eigenvalues shape torch.Size([5]) eigenvectors shape torch.Size([5, 400])\n",
      "57 /home/phdcs2/Hard_Disk/Datasets/Deep-Spectral-Segmentation/data/object-segmentation/ECSSD/features/dino_vits16/0058.pth\n",
      "dict_keys(['k', 'indices', 'file', 'id', 'model_name', 'patch_size', 'shape'])\n",
      "0058\n",
      "Starting Training\n",
      "epoch: 00, loss: -0.03481\n",
      "epoch: 01, loss: -0.05803\n",
      "epoch: 02, loss: -0.06069\n",
      "epoch: 03, loss: -0.06015\n",
      "epoch: 04, loss: -0.06166\n",
      "epoch: 05, loss: -0.06185\n",
      "epoch: 06, loss: -0.06063\n",
      "epoch: 07, loss: -0.06180\n",
      "epoch: 08, loss: -0.06130\n",
      "epoch: 09, loss: -0.06144\n",
      "torch.Size([425, 64])\n"
     ]
    },
    {
     "name": "stderr",
     "output_type": "stream",
     "text": [
      "  6%|▌         | 58/1000 [13:21<5:07:44, 19.60s/it]"
     ]
    },
    {
     "name": "stdout",
     "output_type": "stream",
     "text": [
      "eigenvalues shape torch.Size([5]) eigenvectors shape torch.Size([5, 425])\n",
      "58 /home/phdcs2/Hard_Disk/Datasets/Deep-Spectral-Segmentation/data/object-segmentation/ECSSD/features/dino_vits16/0059.pth\n",
      "dict_keys(['k', 'indices', 'file', 'id', 'model_name', 'patch_size', 'shape'])\n",
      "0059\n",
      "Starting Training\n",
      "epoch: 00, loss: -0.04429\n",
      "epoch: 01, loss: -0.06197\n",
      "epoch: 02, loss: -0.06309\n",
      "epoch: 03, loss: -0.06361\n",
      "epoch: 04, loss: -0.06359\n",
      "epoch: 05, loss: -0.06382\n",
      "epoch: 06, loss: -0.06401\n",
      "epoch: 07, loss: -0.06426\n",
      "epoch: 08, loss: -0.06437\n",
      "epoch: 09, loss: -0.06423\n",
      "torch.Size([450, 64])\n"
     ]
    },
    {
     "name": "stderr",
     "output_type": "stream",
     "text": [
      "  6%|▌         | 59/1000 [13:39<5:04:02, 19.39s/it]"
     ]
    },
    {
     "name": "stdout",
     "output_type": "stream",
     "text": [
      "eigenvalues shape torch.Size([5]) eigenvectors shape torch.Size([5, 450])\n",
      "59 /home/phdcs2/Hard_Disk/Datasets/Deep-Spectral-Segmentation/data/object-segmentation/ECSSD/features/dino_vits16/0060.pth\n",
      "dict_keys(['k', 'indices', 'file', 'id', 'model_name', 'patch_size', 'shape'])\n",
      "0060\n",
      "Starting Training\n",
      "epoch: 00, loss: -0.07868\n",
      "epoch: 01, loss: -0.09825\n",
      "epoch: 02, loss: -0.09913\n",
      "epoch: 03, loss: -0.09961\n",
      "epoch: 04, loss: -0.09969\n",
      "epoch: 05, loss: -0.09994\n",
      "epoch: 06, loss: -0.10008\n",
      "epoch: 07, loss: -0.09998\n",
      "epoch: 08, loss: -0.10016\n",
      "epoch: 09, loss: -0.10020\n",
      "torch.Size([400, 64])\n"
     ]
    },
    {
     "name": "stderr",
     "output_type": "stream",
     "text": [
      "  6%|▌         | 60/1000 [13:57<4:55:12, 18.84s/it]"
     ]
    },
    {
     "name": "stdout",
     "output_type": "stream",
     "text": [
      "eigenvalues shape torch.Size([5]) eigenvectors shape torch.Size([5, 400])\n",
      "60 /home/phdcs2/Hard_Disk/Datasets/Deep-Spectral-Segmentation/data/object-segmentation/ECSSD/features/dino_vits16/0061.pth\n",
      "dict_keys(['k', 'indices', 'file', 'id', 'model_name', 'patch_size', 'shape'])\n",
      "0061\n",
      "Starting Training\n",
      "epoch: 00, loss: -0.03545\n",
      "epoch: 01, loss: -0.05960\n",
      "epoch: 02, loss: -0.06008\n",
      "epoch: 03, loss: -0.06097\n",
      "epoch: 04, loss: -0.06124\n",
      "epoch: 05, loss: -0.05986\n",
      "epoch: 06, loss: -0.06144\n",
      "epoch: 07, loss: -0.06088\n",
      "epoch: 08, loss: -0.06184\n",
      "epoch: 09, loss: -0.06041\n",
      "torch.Size([425, 64])\n"
     ]
    },
    {
     "name": "stderr",
     "output_type": "stream",
     "text": [
      "  6%|▌         | 61/1000 [14:14<4:48:23, 18.43s/it]"
     ]
    },
    {
     "name": "stdout",
     "output_type": "stream",
     "text": [
      "eigenvalues shape torch.Size([5]) eigenvectors shape torch.Size([5, 425])\n",
      "61 /home/phdcs2/Hard_Disk/Datasets/Deep-Spectral-Segmentation/data/object-segmentation/ECSSD/features/dino_vits16/0062.pth\n",
      "dict_keys(['k', 'indices', 'file', 'id', 'model_name', 'patch_size', 'shape'])\n",
      "0062\n",
      "Starting Training\n",
      "epoch: 00, loss: -0.02959\n",
      "epoch: 01, loss: -0.05313\n",
      "epoch: 02, loss: -0.05658\n",
      "epoch: 03, loss: -0.06053\n",
      "epoch: 04, loss: -0.05833\n",
      "epoch: 05, loss: -0.05889\n",
      "epoch: 06, loss: -0.06120\n",
      "epoch: 07, loss: -0.05990\n",
      "epoch: 08, loss: -0.06161\n",
      "epoch: 09, loss: -0.06169\n",
      "torch.Size([425, 64])\n"
     ]
    },
    {
     "name": "stderr",
     "output_type": "stream",
     "text": [
      "  6%|▌         | 62/1000 [14:32<4:43:54, 18.16s/it]"
     ]
    },
    {
     "name": "stdout",
     "output_type": "stream",
     "text": [
      "eigenvalues shape torch.Size([5]) eigenvectors shape torch.Size([5, 425])\n",
      "62 /home/phdcs2/Hard_Disk/Datasets/Deep-Spectral-Segmentation/data/object-segmentation/ECSSD/features/dino_vits16/0063.pth\n",
      "dict_keys(['k', 'indices', 'file', 'id', 'model_name', 'patch_size', 'shape'])\n",
      "0063\n",
      "Starting Training\n",
      "epoch: 00, loss: -0.04087\n",
      "epoch: 01, loss: -0.06531\n",
      "epoch: 02, loss: -0.06673\n",
      "epoch: 03, loss: -0.06697\n",
      "epoch: 04, loss: -0.06764\n",
      "epoch: 05, loss: -0.06744\n",
      "epoch: 06, loss: -0.06771\n",
      "epoch: 07, loss: -0.06800\n",
      "epoch: 08, loss: -0.06792\n",
      "epoch: 09, loss: -0.06819\n",
      "torch.Size([400, 64])\n"
     ]
    },
    {
     "name": "stderr",
     "output_type": "stream",
     "text": [
      "  6%|▋         | 63/1000 [14:54<5:02:00, 19.34s/it]"
     ]
    },
    {
     "name": "stdout",
     "output_type": "stream",
     "text": [
      "eigenvalues shape torch.Size([5]) eigenvectors shape torch.Size([5, 400])\n",
      "63 /home/phdcs2/Hard_Disk/Datasets/Deep-Spectral-Segmentation/data/object-segmentation/ECSSD/features/dino_vits16/0064.pth\n",
      "dict_keys(['k', 'indices', 'file', 'id', 'model_name', 'patch_size', 'shape'])\n",
      "0064\n",
      "Starting Training\n",
      "epoch: 00, loss: -0.03163\n",
      "epoch: 01, loss: -0.05217\n",
      "epoch: 02, loss: -0.05282\n",
      "epoch: 03, loss: -0.05411\n",
      "epoch: 04, loss: -0.05475\n",
      "epoch: 05, loss: -0.05465\n",
      "epoch: 06, loss: -0.05488\n",
      "epoch: 07, loss: -0.05481\n",
      "epoch: 08, loss: -0.05518\n",
      "epoch: 09, loss: -0.05522\n",
      "torch.Size([400, 64])\n"
     ]
    },
    {
     "name": "stderr",
     "output_type": "stream",
     "text": [
      "  6%|▋         | 64/1000 [15:12<4:55:25, 18.94s/it]"
     ]
    },
    {
     "name": "stdout",
     "output_type": "stream",
     "text": [
      "eigenvalues shape torch.Size([5]) eigenvectors shape torch.Size([5, 400])\n",
      "64 /home/phdcs2/Hard_Disk/Datasets/Deep-Spectral-Segmentation/data/object-segmentation/ECSSD/features/dino_vits16/0065.pth\n",
      "dict_keys(['k', 'indices', 'file', 'id', 'model_name', 'patch_size', 'shape'])\n",
      "0065\n",
      "Starting Training\n",
      "epoch: 00, loss: -0.00915\n",
      "epoch: 01, loss: -0.02331\n",
      "epoch: 02, loss: -0.02668\n",
      "epoch: 03, loss: -0.02766\n",
      "epoch: 04, loss: -0.02801\n",
      "epoch: 05, loss: -0.02822\n",
      "epoch: 06, loss: -0.02857\n",
      "epoch: 07, loss: -0.02853\n",
      "epoch: 08, loss: -0.02879\n",
      "epoch: 09, loss: -0.02884\n",
      "torch.Size([450, 64])\n"
     ]
    },
    {
     "name": "stderr",
     "output_type": "stream",
     "text": [
      "  6%|▋         | 65/1000 [15:34<5:09:02, 19.83s/it]"
     ]
    },
    {
     "name": "stdout",
     "output_type": "stream",
     "text": [
      "eigenvalues shape torch.Size([5]) eigenvectors shape torch.Size([5, 450])\n",
      "65 /home/phdcs2/Hard_Disk/Datasets/Deep-Spectral-Segmentation/data/object-segmentation/ECSSD/features/dino_vits16/0066.pth\n",
      "dict_keys(['k', 'indices', 'file', 'id', 'model_name', 'patch_size', 'shape'])\n",
      "0066\n",
      "Starting Training\n",
      "epoch: 00, loss: -0.02925\n",
      "epoch: 01, loss: -0.05041\n",
      "epoch: 02, loss: -0.05145\n",
      "epoch: 03, loss: -0.05211\n",
      "epoch: 04, loss: -0.05245\n",
      "epoch: 05, loss: -0.05273\n",
      "epoch: 06, loss: -0.05289\n",
      "epoch: 07, loss: -0.05282\n",
      "epoch: 08, loss: -0.05310\n",
      "epoch: 09, loss: -0.05327\n",
      "torch.Size([400, 64])\n"
     ]
    },
    {
     "name": "stderr",
     "output_type": "stream",
     "text": [
      "  7%|▋         | 66/1000 [15:53<5:03:29, 19.50s/it]"
     ]
    },
    {
     "name": "stdout",
     "output_type": "stream",
     "text": [
      "eigenvalues shape torch.Size([5]) eigenvectors shape torch.Size([5, 400])\n",
      "66 /home/phdcs2/Hard_Disk/Datasets/Deep-Spectral-Segmentation/data/object-segmentation/ECSSD/features/dino_vits16/0067.pth\n",
      "dict_keys(['k', 'indices', 'file', 'id', 'model_name', 'patch_size', 'shape'])\n",
      "0067\n",
      "Starting Training\n",
      "epoch: 00, loss: -0.03535\n",
      "epoch: 01, loss: -0.07994\n",
      "epoch: 02, loss: -0.08283\n",
      "epoch: 03, loss: -0.08820\n",
      "epoch: 04, loss: -0.08697\n",
      "epoch: 05, loss: -0.09262\n",
      "epoch: 06, loss: -0.09019\n",
      "epoch: 07, loss: -0.08980\n",
      "epoch: 08, loss: -0.09096\n",
      "epoch: 09, loss: -0.09118\n",
      "torch.Size([350, 64])\n"
     ]
    },
    {
     "name": "stderr",
     "output_type": "stream",
     "text": [
      "  7%|▋         | 67/1000 [16:10<4:50:59, 18.71s/it]"
     ]
    },
    {
     "name": "stdout",
     "output_type": "stream",
     "text": [
      "eigenvalues shape torch.Size([5]) eigenvectors shape torch.Size([5, 350])\n",
      "67 /home/phdcs2/Hard_Disk/Datasets/Deep-Spectral-Segmentation/data/object-segmentation/ECSSD/features/dino_vits16/0068.pth\n",
      "dict_keys(['k', 'indices', 'file', 'id', 'model_name', 'patch_size', 'shape'])\n",
      "0068\n",
      "Starting Training\n",
      "epoch: 00, loss: -0.03825\n",
      "epoch: 01, loss: -0.05288\n",
      "epoch: 02, loss: -0.05343\n",
      "epoch: 03, loss: -0.05344\n",
      "epoch: 04, loss: -0.05347\n",
      "epoch: 05, loss: -0.05486\n",
      "epoch: 06, loss: -0.05447\n",
      "epoch: 07, loss: -0.05418\n",
      "epoch: 08, loss: -0.05421\n",
      "epoch: 09, loss: -0.05411\n",
      "torch.Size([525, 64])\n"
     ]
    },
    {
     "name": "stderr",
     "output_type": "stream",
     "text": [
      "  7%|▋         | 68/1000 [16:49<6:27:23, 24.94s/it]"
     ]
    },
    {
     "name": "stdout",
     "output_type": "stream",
     "text": [
      "eigenvalues shape torch.Size([5]) eigenvectors shape torch.Size([5, 525])\n",
      "68 /home/phdcs2/Hard_Disk/Datasets/Deep-Spectral-Segmentation/data/object-segmentation/ECSSD/features/dino_vits16/0069.pth\n",
      "dict_keys(['k', 'indices', 'file', 'id', 'model_name', 'patch_size', 'shape'])\n",
      "0069\n",
      "Starting Training\n",
      "epoch: 00, loss: -0.06184\n",
      "epoch: 01, loss: -0.07907\n",
      "epoch: 02, loss: -0.08219\n",
      "epoch: 03, loss: -0.08172\n",
      "epoch: 04, loss: -0.08239\n",
      "epoch: 05, loss: -0.08296\n",
      "epoch: 06, loss: -0.08360\n",
      "epoch: 07, loss: -0.08266\n",
      "epoch: 08, loss: -0.08337\n",
      "epoch: 09, loss: -0.08314\n",
      "torch.Size([425, 64])\n"
     ]
    },
    {
     "name": "stderr",
     "output_type": "stream",
     "text": [
      "  7%|▋         | 69/1000 [17:14<6:26:07, 24.88s/it]"
     ]
    },
    {
     "name": "stdout",
     "output_type": "stream",
     "text": [
      "eigenvalues shape torch.Size([5]) eigenvectors shape torch.Size([5, 425])\n",
      "69 /home/phdcs2/Hard_Disk/Datasets/Deep-Spectral-Segmentation/data/object-segmentation/ECSSD/features/dino_vits16/0070.pth\n",
      "dict_keys(['k', 'indices', 'file', 'id', 'model_name', 'patch_size', 'shape'])\n",
      "0070\n",
      "Starting Training\n",
      "epoch: 00, loss: -0.04945\n",
      "epoch: 01, loss: -0.08013\n",
      "epoch: 02, loss: -0.08539\n",
      "epoch: 03, loss: -0.08739\n",
      "epoch: 04, loss: -0.08844\n",
      "epoch: 05, loss: -0.08855\n",
      "epoch: 06, loss: -0.08999\n",
      "epoch: 07, loss: -0.08930\n",
      "epoch: 08, loss: -0.08895\n",
      "epoch: 09, loss: -0.08934\n",
      "torch.Size([500, 64])\n"
     ]
    },
    {
     "name": "stderr",
     "output_type": "stream",
     "text": [
      "  7%|▋         | 70/1000 [17:44<6:51:04, 26.52s/it]"
     ]
    },
    {
     "name": "stdout",
     "output_type": "stream",
     "text": [
      "eigenvalues shape torch.Size([5]) eigenvectors shape torch.Size([5, 500])\n",
      "70 /home/phdcs2/Hard_Disk/Datasets/Deep-Spectral-Segmentation/data/object-segmentation/ECSSD/features/dino_vits16/0071.pth\n",
      "dict_keys(['k', 'indices', 'file', 'id', 'model_name', 'patch_size', 'shape'])\n",
      "0071\n",
      "Starting Training\n",
      "epoch: 00, loss: -0.04920\n",
      "epoch: 01, loss: -0.07255\n",
      "epoch: 02, loss: -0.07303\n",
      "epoch: 03, loss: -0.07135\n",
      "epoch: 04, loss: -0.07301\n",
      "epoch: 05, loss: -0.07393\n",
      "epoch: 06, loss: -0.07410\n",
      "epoch: 07, loss: -0.07613\n",
      "epoch: 08, loss: -0.07451\n",
      "epoch: 09, loss: -0.07482\n",
      "torch.Size([450, 64])\n"
     ]
    },
    {
     "name": "stderr",
     "output_type": "stream",
     "text": [
      "  7%|▋         | 71/1000 [18:13<7:02:18, 27.28s/it]"
     ]
    },
    {
     "name": "stdout",
     "output_type": "stream",
     "text": [
      "eigenvalues shape torch.Size([5]) eigenvectors shape torch.Size([5, 450])\n",
      "71 /home/phdcs2/Hard_Disk/Datasets/Deep-Spectral-Segmentation/data/object-segmentation/ECSSD/features/dino_vits16/0072.pth\n",
      "dict_keys(['k', 'indices', 'file', 'id', 'model_name', 'patch_size', 'shape'])\n",
      "0072\n",
      "Starting Training\n",
      "epoch: 00, loss: -0.04229\n",
      "epoch: 01, loss: -0.06005\n",
      "epoch: 02, loss: -0.06248\n",
      "epoch: 03, loss: -0.06299\n",
      "epoch: 04, loss: -0.06258\n",
      "epoch: 05, loss: -0.06346\n",
      "epoch: 06, loss: -0.06389\n",
      "epoch: 07, loss: -0.06422\n",
      "epoch: 08, loss: -0.06362\n",
      "epoch: 09, loss: -0.06424\n",
      "torch.Size([400, 64])\n"
     ]
    },
    {
     "name": "stderr",
     "output_type": "stream",
     "text": [
      "  7%|▋         | 72/1000 [18:37<6:43:42, 26.10s/it]"
     ]
    },
    {
     "name": "stdout",
     "output_type": "stream",
     "text": [
      "eigenvalues shape torch.Size([5]) eigenvectors shape torch.Size([5, 400])\n",
      "72 /home/phdcs2/Hard_Disk/Datasets/Deep-Spectral-Segmentation/data/object-segmentation/ECSSD/features/dino_vits16/0073.pth\n",
      "dict_keys(['k', 'indices', 'file', 'id', 'model_name', 'patch_size', 'shape'])\n",
      "0073\n",
      "Starting Training\n",
      "epoch: 00, loss: -0.02657\n",
      "epoch: 01, loss: -0.05209\n",
      "epoch: 02, loss: -0.05432\n",
      "epoch: 03, loss: -0.05497\n",
      "epoch: 04, loss: -0.05520\n",
      "epoch: 05, loss: -0.05547\n",
      "epoch: 06, loss: -0.05577\n",
      "epoch: 07, loss: -0.05614\n",
      "epoch: 08, loss: -0.05592\n",
      "epoch: 09, loss: -0.05615\n",
      "torch.Size([450, 64])\n"
     ]
    },
    {
     "name": "stderr",
     "output_type": "stream",
     "text": [
      "  7%|▋         | 73/1000 [18:59<6:26:03, 24.99s/it]"
     ]
    },
    {
     "name": "stdout",
     "output_type": "stream",
     "text": [
      "eigenvalues shape torch.Size([5]) eigenvectors shape torch.Size([5, 450])\n",
      "73 /home/phdcs2/Hard_Disk/Datasets/Deep-Spectral-Segmentation/data/object-segmentation/ECSSD/features/dino_vits16/0074.pth\n",
      "dict_keys(['k', 'indices', 'file', 'id', 'model_name', 'patch_size', 'shape'])\n",
      "0074\n",
      "Starting Training\n",
      "epoch: 00, loss: -0.00314\n",
      "epoch: 01, loss: -0.01861\n",
      "epoch: 02, loss: -0.02263\n",
      "epoch: 03, loss: -0.02405\n",
      "epoch: 04, loss: -0.02468\n",
      "epoch: 05, loss: -0.02498\n",
      "epoch: 06, loss: -0.02515\n",
      "epoch: 07, loss: -0.02531\n",
      "epoch: 08, loss: -0.02535\n",
      "epoch: 09, loss: -0.02560\n",
      "torch.Size([450, 64])\n"
     ]
    },
    {
     "name": "stderr",
     "output_type": "stream",
     "text": [
      "  7%|▋         | 74/1000 [19:27<6:38:58, 25.85s/it]"
     ]
    },
    {
     "name": "stdout",
     "output_type": "stream",
     "text": [
      "eigenvalues shape torch.Size([5]) eigenvectors shape torch.Size([5, 450])\n",
      "74 /home/phdcs2/Hard_Disk/Datasets/Deep-Spectral-Segmentation/data/object-segmentation/ECSSD/features/dino_vits16/0075.pth\n",
      "dict_keys(['k', 'indices', 'file', 'id', 'model_name', 'patch_size', 'shape'])\n",
      "0075\n",
      "Starting Training\n",
      "epoch: 00, loss: -0.07464\n",
      "epoch: 01, loss: -0.10550\n",
      "epoch: 02, loss: -0.10816\n",
      "epoch: 03, loss: -0.10621\n",
      "epoch: 04, loss: -0.10914\n",
      "epoch: 05, loss: -0.11109\n",
      "epoch: 06, loss: -0.11294\n",
      "epoch: 07, loss: -0.11021\n",
      "epoch: 08, loss: -0.11166\n",
      "epoch: 09, loss: -0.11362\n",
      "torch.Size([450, 64])\n"
     ]
    },
    {
     "name": "stderr",
     "output_type": "stream",
     "text": [
      "  8%|▊         | 75/1000 [19:53<6:39:26, 25.91s/it]"
     ]
    },
    {
     "name": "stdout",
     "output_type": "stream",
     "text": [
      "eigenvalues shape torch.Size([5]) eigenvectors shape torch.Size([5, 450])\n",
      "75 /home/phdcs2/Hard_Disk/Datasets/Deep-Spectral-Segmentation/data/object-segmentation/ECSSD/features/dino_vits16/0076.pth\n",
      "dict_keys(['k', 'indices', 'file', 'id', 'model_name', 'patch_size', 'shape'])\n",
      "0076\n",
      "Starting Training\n",
      "epoch: 00, loss: -0.06541\n",
      "epoch: 01, loss: -0.09740\n",
      "epoch: 02, loss: -0.10053\n",
      "epoch: 03, loss: -0.10416\n",
      "epoch: 04, loss: -0.10578\n",
      "epoch: 05, loss: -0.10586\n",
      "epoch: 06, loss: -0.10537\n",
      "epoch: 07, loss: -0.10586\n",
      "epoch: 08, loss: -0.10934\n",
      "epoch: 09, loss: -0.10738\n",
      "torch.Size([400, 64])\n"
     ]
    },
    {
     "name": "stderr",
     "output_type": "stream",
     "text": [
      "  8%|▊         | 76/1000 [20:19<6:39:36, 25.95s/it]"
     ]
    },
    {
     "name": "stdout",
     "output_type": "stream",
     "text": [
      "eigenvalues shape torch.Size([5]) eigenvectors shape torch.Size([5, 400])\n",
      "76 /home/phdcs2/Hard_Disk/Datasets/Deep-Spectral-Segmentation/data/object-segmentation/ECSSD/features/dino_vits16/0077.pth\n",
      "dict_keys(['k', 'indices', 'file', 'id', 'model_name', 'patch_size', 'shape'])\n",
      "0077\n",
      "Starting Training\n",
      "epoch: 00, loss: -0.04936\n",
      "epoch: 01, loss: -0.07854\n",
      "epoch: 02, loss: -0.08413\n",
      "epoch: 03, loss: -0.08363\n",
      "epoch: 04, loss: -0.08606\n",
      "epoch: 05, loss: -0.08688\n",
      "epoch: 06, loss: -0.08725\n",
      "epoch: 07, loss: -0.08599\n",
      "epoch: 08, loss: -0.08564\n",
      "epoch: 09, loss: -0.08811\n",
      "torch.Size([450, 64])\n"
     ]
    },
    {
     "name": "stderr",
     "output_type": "stream",
     "text": [
      "  8%|▊         | 77/1000 [20:47<6:50:31, 26.69s/it]"
     ]
    },
    {
     "name": "stdout",
     "output_type": "stream",
     "text": [
      "eigenvalues shape torch.Size([5]) eigenvectors shape torch.Size([5, 450])\n",
      "77 /home/phdcs2/Hard_Disk/Datasets/Deep-Spectral-Segmentation/data/object-segmentation/ECSSD/features/dino_vits16/0078.pth\n",
      "dict_keys(['k', 'indices', 'file', 'id', 'model_name', 'patch_size', 'shape'])\n",
      "0078\n",
      "Starting Training\n",
      "epoch: 00, loss: -0.04347\n",
      "epoch: 01, loss: -0.08404\n",
      "epoch: 02, loss: -0.09146\n",
      "epoch: 03, loss: -0.09213\n",
      "epoch: 04, loss: -0.09175\n",
      "epoch: 05, loss: -0.09332\n",
      "epoch: 06, loss: -0.09443\n",
      "epoch: 07, loss: -0.09262\n",
      "epoch: 08, loss: -0.09324\n",
      "epoch: 09, loss: -0.09118\n",
      "torch.Size([400, 64])\n"
     ]
    },
    {
     "name": "stderr",
     "output_type": "stream",
     "text": [
      "  8%|▊         | 78/1000 [21:09<6:28:27, 25.28s/it]"
     ]
    },
    {
     "name": "stdout",
     "output_type": "stream",
     "text": [
      "eigenvalues shape torch.Size([5]) eigenvectors shape torch.Size([5, 400])\n",
      "78 /home/phdcs2/Hard_Disk/Datasets/Deep-Spectral-Segmentation/data/object-segmentation/ECSSD/features/dino_vits16/0079.pth\n",
      "dict_keys(['k', 'indices', 'file', 'id', 'model_name', 'patch_size', 'shape'])\n",
      "0079\n",
      "Starting Training\n",
      "epoch: 00, loss: -0.04685\n",
      "epoch: 01, loss: -0.06865\n",
      "epoch: 02, loss: -0.06959\n",
      "epoch: 03, loss: -0.07015\n",
      "epoch: 04, loss: -0.07190\n",
      "epoch: 05, loss: -0.07060\n",
      "epoch: 06, loss: -0.07093\n",
      "epoch: 07, loss: -0.07145\n",
      "epoch: 08, loss: -0.07091\n",
      "epoch: 09, loss: -0.07095\n",
      "torch.Size([525, 64])\n"
     ]
    },
    {
     "name": "stderr",
     "output_type": "stream",
     "text": [
      "  8%|▊         | 79/1000 [21:56<8:08:25, 31.82s/it]"
     ]
    },
    {
     "name": "stdout",
     "output_type": "stream",
     "text": [
      "eigenvalues shape torch.Size([5]) eigenvectors shape torch.Size([5, 525])\n",
      "79 /home/phdcs2/Hard_Disk/Datasets/Deep-Spectral-Segmentation/data/object-segmentation/ECSSD/features/dino_vits16/0080.pth\n",
      "dict_keys(['k', 'indices', 'file', 'id', 'model_name', 'patch_size', 'shape'])\n",
      "0080\n",
      "Starting Training\n",
      "epoch: 00, loss: -0.03672\n",
      "epoch: 01, loss: -0.06809\n",
      "epoch: 02, loss: -0.06642\n",
      "epoch: 03, loss: -0.06885\n",
      "epoch: 04, loss: -0.07205\n",
      "epoch: 05, loss: -0.07021\n",
      "epoch: 06, loss: -0.07254\n",
      "epoch: 07, loss: -0.07264\n",
      "epoch: 08, loss: -0.07142\n",
      "epoch: 09, loss: -0.07421\n",
      "torch.Size([450, 64])\n"
     ]
    },
    {
     "name": "stderr",
     "output_type": "stream",
     "text": [
      "  8%|▊         | 80/1000 [22:22<7:39:56, 30.00s/it]"
     ]
    },
    {
     "name": "stdout",
     "output_type": "stream",
     "text": [
      "eigenvalues shape torch.Size([5]) eigenvectors shape torch.Size([5, 450])\n",
      "80 /home/phdcs2/Hard_Disk/Datasets/Deep-Spectral-Segmentation/data/object-segmentation/ECSSD/features/dino_vits16/0081.pth\n",
      "dict_keys(['k', 'indices', 'file', 'id', 'model_name', 'patch_size', 'shape'])\n",
      "0081\n",
      "Starting Training\n",
      "epoch: 00, loss: -0.09221\n",
      "epoch: 01, loss: -0.12290\n",
      "epoch: 02, loss: -0.12365\n",
      "epoch: 03, loss: -0.12471\n",
      "epoch: 04, loss: -0.12934\n",
      "epoch: 05, loss: -0.13003\n",
      "epoch: 06, loss: -0.12877\n",
      "epoch: 07, loss: -0.13041\n",
      "epoch: 08, loss: -0.12994\n",
      "epoch: 09, loss: -0.12920\n",
      "torch.Size([450, 64])\n"
     ]
    },
    {
     "name": "stderr",
     "output_type": "stream",
     "text": [
      "  8%|▊         | 81/1000 [22:45<7:08:07, 27.95s/it]"
     ]
    },
    {
     "name": "stdout",
     "output_type": "stream",
     "text": [
      "eigenvalues shape torch.Size([5]) eigenvectors shape torch.Size([5, 450])\n",
      "81 /home/phdcs2/Hard_Disk/Datasets/Deep-Spectral-Segmentation/data/object-segmentation/ECSSD/features/dino_vits16/0082.pth\n",
      "dict_keys(['k', 'indices', 'file', 'id', 'model_name', 'patch_size', 'shape'])\n",
      "0082\n",
      "Starting Training\n",
      "epoch: 00, loss: -0.02101\n",
      "epoch: 01, loss: -0.04750\n",
      "epoch: 02, loss: -0.05390\n",
      "epoch: 03, loss: -0.06052\n",
      "epoch: 04, loss: -0.05706\n",
      "epoch: 05, loss: -0.05953\n",
      "epoch: 06, loss: -0.06077\n",
      "epoch: 07, loss: -0.05885\n",
      "epoch: 08, loss: -0.05993\n",
      "epoch: 09, loss: -0.06038\n",
      "torch.Size([450, 64])\n"
     ]
    },
    {
     "name": "stderr",
     "output_type": "stream",
     "text": [
      "  8%|▊         | 82/1000 [23:09<6:46:58, 26.60s/it]"
     ]
    },
    {
     "name": "stdout",
     "output_type": "stream",
     "text": [
      "eigenvalues shape torch.Size([5]) eigenvectors shape torch.Size([5, 450])\n",
      "82 /home/phdcs2/Hard_Disk/Datasets/Deep-Spectral-Segmentation/data/object-segmentation/ECSSD/features/dino_vits16/0083.pth\n",
      "dict_keys(['k', 'indices', 'file', 'id', 'model_name', 'patch_size', 'shape'])\n",
      "0083\n",
      "Starting Training\n",
      "epoch: 00, loss: -0.03163\n",
      "epoch: 01, loss: -0.05120\n",
      "epoch: 02, loss: -0.05227\n",
      "epoch: 03, loss: -0.05266\n",
      "epoch: 04, loss: -0.05303\n",
      "epoch: 05, loss: -0.05321\n",
      "epoch: 06, loss: -0.05339\n",
      "epoch: 07, loss: -0.05357\n",
      "epoch: 08, loss: -0.05369\n",
      "epoch: 09, loss: -0.05364\n",
      "torch.Size([450, 64])\n"
     ]
    },
    {
     "name": "stderr",
     "output_type": "stream",
     "text": [
      "  8%|▊         | 83/1000 [23:36<6:47:37, 26.67s/it]"
     ]
    },
    {
     "name": "stdout",
     "output_type": "stream",
     "text": [
      "eigenvalues shape torch.Size([5]) eigenvectors shape torch.Size([5, 450])\n",
      "83 /home/phdcs2/Hard_Disk/Datasets/Deep-Spectral-Segmentation/data/object-segmentation/ECSSD/features/dino_vits16/0084.pth\n",
      "dict_keys(['k', 'indices', 'file', 'id', 'model_name', 'patch_size', 'shape'])\n",
      "0084\n",
      "Starting Training\n",
      "epoch: 00, loss: -0.03574\n",
      "epoch: 01, loss: -0.05591\n",
      "epoch: 02, loss: -0.05963\n",
      "epoch: 03, loss: -0.06029\n",
      "epoch: 04, loss: -0.06163\n",
      "epoch: 05, loss: -0.06510\n",
      "epoch: 06, loss: -0.06299\n",
      "epoch: 07, loss: -0.06558\n",
      "epoch: 08, loss: -0.06501\n",
      "epoch: 09, loss: -0.06563\n",
      "torch.Size([450, 64])\n"
     ]
    },
    {
     "name": "stderr",
     "output_type": "stream",
     "text": [
      "  8%|▊         | 84/1000 [24:00<6:36:45, 25.99s/it]"
     ]
    },
    {
     "name": "stdout",
     "output_type": "stream",
     "text": [
      "eigenvalues shape torch.Size([5]) eigenvectors shape torch.Size([5, 450])\n",
      "84 /home/phdcs2/Hard_Disk/Datasets/Deep-Spectral-Segmentation/data/object-segmentation/ECSSD/features/dino_vits16/0085.pth\n",
      "dict_keys(['k', 'indices', 'file', 'id', 'model_name', 'patch_size', 'shape'])\n",
      "0085\n",
      "Starting Training\n",
      "epoch: 00, loss: -0.13885\n",
      "epoch: 01, loss: -0.16932\n",
      "epoch: 02, loss: -0.17502\n",
      "epoch: 03, loss: -0.17322\n",
      "epoch: 04, loss: -0.17880\n",
      "epoch: 05, loss: -0.17976\n",
      "epoch: 06, loss: -0.17649\n",
      "epoch: 07, loss: -0.18001\n",
      "epoch: 08, loss: -0.17711\n",
      "epoch: 09, loss: -0.17866\n",
      "torch.Size([450, 64])\n"
     ]
    },
    {
     "name": "stderr",
     "output_type": "stream",
     "text": [
      "  8%|▊         | 85/1000 [24:24<6:25:32, 25.28s/it]"
     ]
    },
    {
     "name": "stdout",
     "output_type": "stream",
     "text": [
      "eigenvalues shape torch.Size([5]) eigenvectors shape torch.Size([5, 450])\n",
      "85 /home/phdcs2/Hard_Disk/Datasets/Deep-Spectral-Segmentation/data/object-segmentation/ECSSD/features/dino_vits16/0086.pth\n",
      "dict_keys(['k', 'indices', 'file', 'id', 'model_name', 'patch_size', 'shape'])\n",
      "0086\n",
      "Starting Training\n",
      "epoch: 00, loss: -0.05244\n",
      "epoch: 01, loss: -0.08002\n",
      "epoch: 02, loss: -0.08270\n",
      "epoch: 03, loss: -0.08374\n",
      "epoch: 04, loss: -0.08543\n",
      "epoch: 05, loss: -0.08927\n",
      "epoch: 06, loss: -0.08608\n",
      "epoch: 07, loss: -0.08876\n",
      "epoch: 08, loss: -0.08788\n",
      "epoch: 09, loss: -0.08850\n",
      "torch.Size([450, 64])\n"
     ]
    },
    {
     "name": "stderr",
     "output_type": "stream",
     "text": [
      "  9%|▊         | 86/1000 [24:53<6:41:40, 26.37s/it]"
     ]
    },
    {
     "name": "stdout",
     "output_type": "stream",
     "text": [
      "eigenvalues shape torch.Size([5]) eigenvectors shape torch.Size([5, 450])\n",
      "86 /home/phdcs2/Hard_Disk/Datasets/Deep-Spectral-Segmentation/data/object-segmentation/ECSSD/features/dino_vits16/0087.pth\n",
      "dict_keys(['k', 'indices', 'file', 'id', 'model_name', 'patch_size', 'shape'])\n",
      "0087\n",
      "Starting Training\n",
      "epoch: 00, loss: -0.07892\n",
      "epoch: 01, loss: -0.10128\n",
      "epoch: 02, loss: -0.10199\n",
      "epoch: 03, loss: -0.10218\n",
      "epoch: 04, loss: -0.10271\n",
      "epoch: 05, loss: -0.10320\n",
      "epoch: 06, loss: -0.10289\n",
      "epoch: 07, loss: -0.10308\n",
      "epoch: 08, loss: -0.10314\n",
      "epoch: 09, loss: -0.10309\n",
      "torch.Size([450, 64])\n"
     ]
    },
    {
     "name": "stderr",
     "output_type": "stream",
     "text": [
      "  9%|▊         | 87/1000 [25:22<6:57:02, 27.41s/it]"
     ]
    },
    {
     "name": "stdout",
     "output_type": "stream",
     "text": [
      "eigenvalues shape torch.Size([5]) eigenvectors shape torch.Size([5, 450])\n",
      "87 /home/phdcs2/Hard_Disk/Datasets/Deep-Spectral-Segmentation/data/object-segmentation/ECSSD/features/dino_vits16/0088.pth\n",
      "dict_keys(['k', 'indices', 'file', 'id', 'model_name', 'patch_size', 'shape'])\n",
      "0088\n",
      "Starting Training\n",
      "epoch: 00, loss: -0.00978\n",
      "epoch: 01, loss: -0.03580\n",
      "epoch: 02, loss: -0.04103\n",
      "epoch: 03, loss: -0.04395\n",
      "epoch: 04, loss: -0.04511\n",
      "epoch: 05, loss: -0.04583\n",
      "epoch: 06, loss: -0.04650\n",
      "epoch: 07, loss: -0.04847\n",
      "epoch: 08, loss: -0.04618\n",
      "epoch: 09, loss: -0.04808\n",
      "torch.Size([450, 64])\n"
     ]
    },
    {
     "name": "stderr",
     "output_type": "stream",
     "text": [
      "  9%|▉         | 88/1000 [25:50<6:59:40, 27.61s/it]"
     ]
    },
    {
     "name": "stdout",
     "output_type": "stream",
     "text": [
      "eigenvalues shape torch.Size([5]) eigenvectors shape torch.Size([5, 450])\n",
      "88 /home/phdcs2/Hard_Disk/Datasets/Deep-Spectral-Segmentation/data/object-segmentation/ECSSD/features/dino_vits16/0089.pth\n",
      "dict_keys(['k', 'indices', 'file', 'id', 'model_name', 'patch_size', 'shape'])\n",
      "0089\n",
      "Starting Training\n",
      "epoch: 00, loss: -0.04979\n",
      "epoch: 01, loss: -0.07766\n",
      "epoch: 02, loss: -0.07821\n",
      "epoch: 03, loss: -0.07872\n",
      "epoch: 04, loss: -0.07898\n",
      "epoch: 05, loss: -0.07909\n",
      "epoch: 06, loss: -0.07931\n",
      "epoch: 07, loss: -0.07944\n",
      "epoch: 08, loss: -0.07959\n",
      "epoch: 09, loss: -0.07964\n",
      "torch.Size([400, 64])\n"
     ]
    },
    {
     "name": "stderr",
     "output_type": "stream",
     "text": [
      "  9%|▉         | 89/1000 [26:15<6:44:49, 26.66s/it]"
     ]
    },
    {
     "name": "stdout",
     "output_type": "stream",
     "text": [
      "eigenvalues shape torch.Size([5]) eigenvectors shape torch.Size([5, 400])\n",
      "89 /home/phdcs2/Hard_Disk/Datasets/Deep-Spectral-Segmentation/data/object-segmentation/ECSSD/features/dino_vits16/0090.pth\n",
      "dict_keys(['k', 'indices', 'file', 'id', 'model_name', 'patch_size', 'shape'])\n",
      "0090\n",
      "Starting Training\n",
      "epoch: 00, loss: -0.01427\n",
      "epoch: 01, loss: -0.03564\n",
      "epoch: 02, loss: -0.04003\n",
      "epoch: 03, loss: -0.04105\n",
      "epoch: 04, loss: -0.04265\n",
      "epoch: 05, loss: -0.04401\n",
      "epoch: 06, loss: -0.04258\n",
      "epoch: 07, loss: -0.04267\n",
      "epoch: 08, loss: -0.04347\n",
      "epoch: 09, loss: -0.04292\n",
      "torch.Size([400, 64])\n"
     ]
    },
    {
     "name": "stderr",
     "output_type": "stream",
     "text": [
      "  9%|▉         | 90/1000 [26:39<6:32:40, 25.89s/it]"
     ]
    },
    {
     "name": "stdout",
     "output_type": "stream",
     "text": [
      "eigenvalues shape torch.Size([5]) eigenvectors shape torch.Size([5, 400])\n",
      "90 /home/phdcs2/Hard_Disk/Datasets/Deep-Spectral-Segmentation/data/object-segmentation/ECSSD/features/dino_vits16/0091.pth\n",
      "dict_keys(['k', 'indices', 'file', 'id', 'model_name', 'patch_size', 'shape'])\n",
      "0091\n",
      "Starting Training\n",
      "epoch: 00, loss: -0.01432\n",
      "epoch: 01, loss: -0.03140\n",
      "epoch: 02, loss: -0.03497\n",
      "epoch: 03, loss: -0.03616\n",
      "epoch: 04, loss: -0.03661\n",
      "epoch: 05, loss: -0.03686\n",
      "epoch: 06, loss: -0.03725\n",
      "epoch: 07, loss: -0.03733\n",
      "epoch: 08, loss: -0.03749\n",
      "epoch: 09, loss: -0.03761\n",
      "torch.Size([400, 64])\n"
     ]
    },
    {
     "name": "stderr",
     "output_type": "stream",
     "text": [
      "  9%|▉         | 91/1000 [27:05<6:31:14, 25.83s/it]"
     ]
    },
    {
     "name": "stdout",
     "output_type": "stream",
     "text": [
      "eigenvalues shape torch.Size([5]) eigenvectors shape torch.Size([5, 400])\n",
      "91 /home/phdcs2/Hard_Disk/Datasets/Deep-Spectral-Segmentation/data/object-segmentation/ECSSD/features/dino_vits16/0092.pth\n",
      "dict_keys(['k', 'indices', 'file', 'id', 'model_name', 'patch_size', 'shape'])\n",
      "0092\n",
      "Starting Training\n",
      "epoch: 00, loss: -0.01199\n",
      "epoch: 01, loss: -0.03600\n",
      "epoch: 02, loss: -0.04772\n",
      "epoch: 03, loss: -0.04921\n",
      "epoch: 04, loss: -0.05365\n",
      "epoch: 05, loss: -0.05062\n",
      "epoch: 06, loss: -0.05241\n",
      "epoch: 07, loss: -0.05268\n",
      "epoch: 08, loss: -0.05153\n",
      "epoch: 09, loss: -0.05156\n",
      "torch.Size([400, 64])\n"
     ]
    },
    {
     "name": "stderr",
     "output_type": "stream",
     "text": [
      "  9%|▉         | 92/1000 [27:27<6:16:34, 24.88s/it]"
     ]
    },
    {
     "name": "stdout",
     "output_type": "stream",
     "text": [
      "eigenvalues shape torch.Size([5]) eigenvectors shape torch.Size([5, 400])\n",
      "92 /home/phdcs2/Hard_Disk/Datasets/Deep-Spectral-Segmentation/data/object-segmentation/ECSSD/features/dino_vits16/0093.pth\n",
      "dict_keys(['k', 'indices', 'file', 'id', 'model_name', 'patch_size', 'shape'])\n",
      "0093\n",
      "Starting Training\n",
      "epoch: 00, loss: -0.01869\n",
      "epoch: 01, loss: -0.03957\n",
      "epoch: 02, loss: -0.04356\n",
      "epoch: 03, loss: -0.04501\n",
      "epoch: 04, loss: -0.04449\n",
      "epoch: 05, loss: -0.04408\n",
      "epoch: 06, loss: -0.04504\n",
      "epoch: 07, loss: -0.04488\n",
      "epoch: 08, loss: -0.04505\n",
      "epoch: 09, loss: -0.04537\n",
      "torch.Size([400, 64])\n"
     ]
    },
    {
     "name": "stderr",
     "output_type": "stream",
     "text": [
      "  9%|▉         | 93/1000 [27:52<6:14:56, 24.80s/it]"
     ]
    },
    {
     "name": "stdout",
     "output_type": "stream",
     "text": [
      "eigenvalues shape torch.Size([5]) eigenvectors shape torch.Size([5, 400])\n",
      "93 /home/phdcs2/Hard_Disk/Datasets/Deep-Spectral-Segmentation/data/object-segmentation/ECSSD/features/dino_vits16/0094.pth\n",
      "dict_keys(['k', 'indices', 'file', 'id', 'model_name', 'patch_size', 'shape'])\n",
      "0094\n",
      "Starting Training\n",
      "epoch: 00, loss: -0.01921\n",
      "epoch: 01, loss: -0.04098\n",
      "epoch: 02, loss: -0.04347\n",
      "epoch: 03, loss: -0.04425\n",
      "epoch: 04, loss: -0.04453\n",
      "epoch: 05, loss: -0.04471\n",
      "epoch: 06, loss: -0.04483\n",
      "epoch: 07, loss: -0.04499\n",
      "epoch: 08, loss: -0.04516\n",
      "epoch: 09, loss: -0.04518\n",
      "torch.Size([400, 64])\n"
     ]
    },
    {
     "name": "stderr",
     "output_type": "stream",
     "text": [
      "  9%|▉         | 94/1000 [28:15<6:05:49, 24.23s/it]"
     ]
    },
    {
     "name": "stdout",
     "output_type": "stream",
     "text": [
      "eigenvalues shape torch.Size([5]) eigenvectors shape torch.Size([5, 400])\n",
      "94 /home/phdcs2/Hard_Disk/Datasets/Deep-Spectral-Segmentation/data/object-segmentation/ECSSD/features/dino_vits16/0095.pth\n",
      "dict_keys(['k', 'indices', 'file', 'id', 'model_name', 'patch_size', 'shape'])\n",
      "0095\n",
      "Starting Training\n",
      "epoch: 00, loss: 0.00123\n",
      "epoch: 01, loss: -0.01522\n",
      "epoch: 02, loss: -0.02115\n",
      "epoch: 03, loss: -0.02321\n",
      "epoch: 04, loss: -0.02424\n",
      "epoch: 05, loss: -0.02492\n",
      "epoch: 06, loss: -0.02517\n",
      "epoch: 07, loss: -0.02542\n",
      "epoch: 08, loss: -0.02564\n",
      "epoch: 09, loss: -0.02567\n",
      "torch.Size([400, 64])\n"
     ]
    },
    {
     "name": "stderr",
     "output_type": "stream",
     "text": [
      " 10%|▉         | 95/1000 [28:42<6:18:56, 25.12s/it]"
     ]
    },
    {
     "name": "stdout",
     "output_type": "stream",
     "text": [
      "eigenvalues shape torch.Size([5]) eigenvectors shape torch.Size([5, 400])\n",
      "95 /home/phdcs2/Hard_Disk/Datasets/Deep-Spectral-Segmentation/data/object-segmentation/ECSSD/features/dino_vits16/0096.pth\n",
      "dict_keys(['k', 'indices', 'file', 'id', 'model_name', 'patch_size', 'shape'])\n",
      "0096\n",
      "Starting Training\n",
      "epoch: 00, loss: -0.00851\n",
      "epoch: 01, loss: -0.02536\n",
      "epoch: 02, loss: -0.02909\n",
      "epoch: 03, loss: -0.03051\n",
      "epoch: 04, loss: -0.03093\n",
      "epoch: 05, loss: -0.03132\n",
      "epoch: 06, loss: -0.03132\n",
      "epoch: 07, loss: -0.03171\n",
      "epoch: 08, loss: -0.03172\n",
      "epoch: 09, loss: -0.03178\n",
      "torch.Size([400, 64])\n"
     ]
    },
    {
     "name": "stderr",
     "output_type": "stream",
     "text": [
      " 10%|▉         | 96/1000 [29:07<6:19:30, 25.19s/it]"
     ]
    },
    {
     "name": "stdout",
     "output_type": "stream",
     "text": [
      "eigenvalues shape torch.Size([5]) eigenvectors shape torch.Size([5, 400])\n",
      "96 /home/phdcs2/Hard_Disk/Datasets/Deep-Spectral-Segmentation/data/object-segmentation/ECSSD/features/dino_vits16/0097.pth\n",
      "dict_keys(['k', 'indices', 'file', 'id', 'model_name', 'patch_size', 'shape'])\n",
      "0097\n",
      "Starting Training\n",
      "epoch: 00, loss: -0.03346\n",
      "epoch: 01, loss: -0.06571\n",
      "epoch: 02, loss: -0.07232\n",
      "epoch: 03, loss: -0.07547\n",
      "epoch: 04, loss: -0.07315\n",
      "epoch: 05, loss: -0.07802\n",
      "epoch: 06, loss: -0.07584\n",
      "epoch: 07, loss: -0.07910\n",
      "epoch: 08, loss: -0.07766\n",
      "epoch: 09, loss: -0.07717\n",
      "torch.Size([400, 64])\n"
     ]
    },
    {
     "name": "stderr",
     "output_type": "stream",
     "text": [
      " 10%|▉         | 97/1000 [29:33<6:21:32, 25.35s/it]"
     ]
    },
    {
     "name": "stdout",
     "output_type": "stream",
     "text": [
      "eigenvalues shape torch.Size([5]) eigenvectors shape torch.Size([5, 400])\n",
      "97 /home/phdcs2/Hard_Disk/Datasets/Deep-Spectral-Segmentation/data/object-segmentation/ECSSD/features/dino_vits16/0098.pth\n",
      "dict_keys(['k', 'indices', 'file', 'id', 'model_name', 'patch_size', 'shape'])\n",
      "0098\n",
      "Starting Training\n",
      "epoch: 00, loss: -0.02385\n",
      "epoch: 01, loss: -0.04519\n",
      "epoch: 02, loss: -0.04967\n",
      "epoch: 03, loss: -0.05194\n",
      "epoch: 04, loss: -0.05646\n",
      "epoch: 05, loss: -0.05816\n",
      "epoch: 06, loss: -0.05619\n",
      "epoch: 07, loss: -0.05750\n",
      "epoch: 08, loss: -0.05425\n",
      "epoch: 09, loss: -0.05967\n",
      "torch.Size([400, 64])\n"
     ]
    },
    {
     "name": "stderr",
     "output_type": "stream",
     "text": [
      " 10%|▉         | 98/1000 [29:56<6:09:35, 24.58s/it]"
     ]
    },
    {
     "name": "stdout",
     "output_type": "stream",
     "text": [
      "eigenvalues shape torch.Size([5]) eigenvectors shape torch.Size([5, 400])\n",
      "98 /home/phdcs2/Hard_Disk/Datasets/Deep-Spectral-Segmentation/data/object-segmentation/ECSSD/features/dino_vits16/0099.pth\n",
      "dict_keys(['k', 'indices', 'file', 'id', 'model_name', 'patch_size', 'shape'])\n",
      "0099\n",
      "Starting Training\n",
      "epoch: 00, loss: -0.00193\n",
      "epoch: 01, loss: -0.02799\n",
      "epoch: 02, loss: -0.03443\n",
      "epoch: 03, loss: -0.03523\n",
      "epoch: 04, loss: -0.03758\n",
      "epoch: 05, loss: -0.03901\n",
      "epoch: 06, loss: -0.04163\n",
      "epoch: 07, loss: -0.04155\n",
      "epoch: 08, loss: -0.03846\n",
      "epoch: 09, loss: -0.03974\n",
      "torch.Size([400, 64])\n"
     ]
    },
    {
     "name": "stderr",
     "output_type": "stream",
     "text": [
      " 10%|▉         | 99/1000 [30:22<6:17:35, 25.15s/it]"
     ]
    },
    {
     "name": "stdout",
     "output_type": "stream",
     "text": [
      "eigenvalues shape torch.Size([5]) eigenvectors shape torch.Size([5, 400])\n",
      "99 /home/phdcs2/Hard_Disk/Datasets/Deep-Spectral-Segmentation/data/object-segmentation/ECSSD/features/dino_vits16/0100.pth\n",
      "dict_keys(['k', 'indices', 'file', 'id', 'model_name', 'patch_size', 'shape'])\n",
      "0100\n",
      "Starting Training\n",
      "epoch: 00, loss: -0.01441\n",
      "epoch: 01, loss: -0.03595\n",
      "epoch: 02, loss: -0.04120\n",
      "epoch: 03, loss: -0.04313\n",
      "epoch: 04, loss: -0.04282\n",
      "epoch: 05, loss: -0.04422\n",
      "epoch: 06, loss: -0.04291\n",
      "epoch: 07, loss: -0.04576\n",
      "epoch: 08, loss: -0.04471\n",
      "epoch: 09, loss: -0.04593\n",
      "torch.Size([400, 64])\n"
     ]
    },
    {
     "name": "stderr",
     "output_type": "stream",
     "text": [
      " 10%|█         | 100/1000 [30:46<6:11:36, 24.77s/it]"
     ]
    },
    {
     "name": "stdout",
     "output_type": "stream",
     "text": [
      "eigenvalues shape torch.Size([5]) eigenvectors shape torch.Size([5, 400])\n",
      "100 /home/phdcs2/Hard_Disk/Datasets/Deep-Spectral-Segmentation/data/object-segmentation/ECSSD/features/dino_vits16/0101.pth\n",
      "dict_keys(['k', 'indices', 'file', 'id', 'model_name', 'patch_size', 'shape'])\n",
      "0101\n",
      "Starting Training\n",
      "epoch: 00, loss: -0.11193\n",
      "epoch: 01, loss: -0.14870\n",
      "epoch: 02, loss: -0.15451\n",
      "epoch: 03, loss: -0.15449\n",
      "epoch: 04, loss: -0.15700\n",
      "epoch: 05, loss: -0.15869\n",
      "epoch: 06, loss: -0.15573\n",
      "epoch: 07, loss: -0.16054\n",
      "epoch: 08, loss: -0.16195\n",
      "epoch: 09, loss: -0.15973\n",
      "torch.Size([400, 64])\n"
     ]
    },
    {
     "name": "stderr",
     "output_type": "stream",
     "text": [
      " 10%|█         | 101/1000 [31:11<6:09:45, 24.68s/it]"
     ]
    },
    {
     "name": "stdout",
     "output_type": "stream",
     "text": [
      "eigenvalues shape torch.Size([5]) eigenvectors shape torch.Size([5, 400])\n",
      "101 /home/phdcs2/Hard_Disk/Datasets/Deep-Spectral-Segmentation/data/object-segmentation/ECSSD/features/dino_vits16/0102.pth\n",
      "dict_keys(['k', 'indices', 'file', 'id', 'model_name', 'patch_size', 'shape'])\n",
      "0102\n",
      "Starting Training\n",
      "epoch: 00, loss: -0.02881\n",
      "epoch: 01, loss: -0.06075\n",
      "epoch: 02, loss: -0.06802\n",
      "epoch: 03, loss: -0.06958\n",
      "epoch: 04, loss: -0.07172\n",
      "epoch: 05, loss: -0.06882\n",
      "epoch: 06, loss: -0.07207\n",
      "epoch: 07, loss: -0.07098\n",
      "epoch: 08, loss: -0.07083\n",
      "epoch: 09, loss: -0.07334\n",
      "torch.Size([400, 64])\n"
     ]
    },
    {
     "name": "stderr",
     "output_type": "stream",
     "text": [
      " 10%|█         | 102/1000 [31:36<6:10:35, 24.76s/it]"
     ]
    },
    {
     "name": "stdout",
     "output_type": "stream",
     "text": [
      "eigenvalues shape torch.Size([5]) eigenvectors shape torch.Size([5, 400])\n",
      "102 /home/phdcs2/Hard_Disk/Datasets/Deep-Spectral-Segmentation/data/object-segmentation/ECSSD/features/dino_vits16/0103.pth\n",
      "dict_keys(['k', 'indices', 'file', 'id', 'model_name', 'patch_size', 'shape'])\n",
      "0103\n",
      "Starting Training\n",
      "epoch: 00, loss: -0.07404\n",
      "epoch: 01, loss: -0.10069\n",
      "epoch: 02, loss: -0.10548\n",
      "epoch: 03, loss: -0.10720\n",
      "epoch: 04, loss: -0.10963\n",
      "epoch: 05, loss: -0.10865\n",
      "epoch: 06, loss: -0.10942\n",
      "epoch: 07, loss: -0.11414\n",
      "epoch: 08, loss: -0.11328\n",
      "epoch: 09, loss: -0.11237\n",
      "torch.Size([400, 64])\n"
     ]
    },
    {
     "name": "stderr",
     "output_type": "stream",
     "text": [
      " 10%|█         | 103/1000 [32:05<6:31:26, 26.18s/it]"
     ]
    },
    {
     "name": "stdout",
     "output_type": "stream",
     "text": [
      "eigenvalues shape torch.Size([5]) eigenvectors shape torch.Size([5, 400])\n",
      "103 /home/phdcs2/Hard_Disk/Datasets/Deep-Spectral-Segmentation/data/object-segmentation/ECSSD/features/dino_vits16/0104.pth\n",
      "dict_keys(['k', 'indices', 'file', 'id', 'model_name', 'patch_size', 'shape'])\n",
      "0104\n",
      "Starting Training\n",
      "epoch: 00, loss: -0.04566\n",
      "epoch: 01, loss: -0.08176\n",
      "epoch: 02, loss: -0.08312\n",
      "epoch: 03, loss: -0.08176\n",
      "epoch: 04, loss: -0.08522\n",
      "epoch: 05, loss: -0.08397\n",
      "epoch: 06, loss: -0.08734\n",
      "epoch: 07, loss: -0.08538\n",
      "epoch: 08, loss: -0.08745\n",
      "epoch: 09, loss: -0.08662\n",
      "torch.Size([400, 64])\n"
     ]
    },
    {
     "name": "stderr",
     "output_type": "stream",
     "text": [
      " 10%|█         | 104/1000 [32:37<6:54:20, 27.75s/it]"
     ]
    },
    {
     "name": "stdout",
     "output_type": "stream",
     "text": [
      "eigenvalues shape torch.Size([5]) eigenvectors shape torch.Size([5, 400])\n",
      "104 /home/phdcs2/Hard_Disk/Datasets/Deep-Spectral-Segmentation/data/object-segmentation/ECSSD/features/dino_vits16/0105.pth\n",
      "dict_keys(['k', 'indices', 'file', 'id', 'model_name', 'patch_size', 'shape'])\n",
      "0105\n",
      "Starting Training\n",
      "epoch: 00, loss: -0.01943\n",
      "epoch: 01, loss: -0.04702\n",
      "epoch: 02, loss: -0.04998\n",
      "epoch: 03, loss: -0.05058\n",
      "epoch: 04, loss: -0.05092\n",
      "epoch: 05, loss: -0.05100\n",
      "epoch: 06, loss: -0.05112\n",
      "epoch: 07, loss: -0.05145\n",
      "epoch: 08, loss: -0.05152\n",
      "epoch: 09, loss: -0.05158\n",
      "torch.Size([400, 64])\n"
     ]
    },
    {
     "name": "stderr",
     "output_type": "stream",
     "text": [
      " 10%|█         | 105/1000 [33:00<6:35:23, 26.51s/it]"
     ]
    },
    {
     "name": "stdout",
     "output_type": "stream",
     "text": [
      "eigenvalues shape torch.Size([5]) eigenvectors shape torch.Size([5, 400])\n",
      "105 /home/phdcs2/Hard_Disk/Datasets/Deep-Spectral-Segmentation/data/object-segmentation/ECSSD/features/dino_vits16/0106.pth\n",
      "dict_keys(['k', 'indices', 'file', 'id', 'model_name', 'patch_size', 'shape'])\n",
      "0106\n",
      "Starting Training\n",
      "epoch: 00, loss: 0.00645\n",
      "epoch: 01, loss: -0.00391\n",
      "epoch: 02, loss: -0.00949\n",
      "epoch: 03, loss: -0.01210\n",
      "epoch: 04, loss: -0.01359\n",
      "epoch: 05, loss: -0.01462\n",
      "epoch: 06, loss: -0.01509\n",
      "epoch: 07, loss: -0.01571\n",
      "epoch: 08, loss: -0.01585\n",
      "epoch: 09, loss: -0.01625\n",
      "torch.Size([400, 64])\n"
     ]
    },
    {
     "name": "stderr",
     "output_type": "stream",
     "text": [
      " 11%|█         | 106/1000 [33:24<6:20:36, 25.54s/it]"
     ]
    },
    {
     "name": "stdout",
     "output_type": "stream",
     "text": [
      "eigenvalues shape torch.Size([5]) eigenvectors shape torch.Size([5, 400])\n",
      "106 /home/phdcs2/Hard_Disk/Datasets/Deep-Spectral-Segmentation/data/object-segmentation/ECSSD/features/dino_vits16/0107.pth\n",
      "dict_keys(['k', 'indices', 'file', 'id', 'model_name', 'patch_size', 'shape'])\n",
      "0107\n",
      "Starting Training\n",
      "epoch: 00, loss: -0.03737\n",
      "epoch: 01, loss: -0.07318\n",
      "epoch: 02, loss: -0.07895\n",
      "epoch: 03, loss: -0.07835\n",
      "epoch: 04, loss: -0.08317\n",
      "epoch: 05, loss: -0.08280\n",
      "epoch: 06, loss: -0.08357\n",
      "epoch: 07, loss: -0.08330\n",
      "epoch: 08, loss: -0.08392\n",
      "epoch: 09, loss: -0.08659\n",
      "torch.Size([400, 64])\n"
     ]
    },
    {
     "name": "stderr",
     "output_type": "stream",
     "text": [
      " 11%|█         | 107/1000 [33:50<6:24:41, 25.85s/it]"
     ]
    },
    {
     "name": "stdout",
     "output_type": "stream",
     "text": [
      "eigenvalues shape torch.Size([5]) eigenvectors shape torch.Size([5, 400])\n",
      "107 /home/phdcs2/Hard_Disk/Datasets/Deep-Spectral-Segmentation/data/object-segmentation/ECSSD/features/dino_vits16/0108.pth\n",
      "dict_keys(['k', 'indices', 'file', 'id', 'model_name', 'patch_size', 'shape'])\n",
      "0108\n",
      "Starting Training\n",
      "epoch: 00, loss: -0.04851\n",
      "epoch: 01, loss: -0.07701\n",
      "epoch: 02, loss: -0.08333\n",
      "epoch: 03, loss: -0.08196\n",
      "epoch: 04, loss: -0.08416\n",
      "epoch: 05, loss: -0.08490\n",
      "epoch: 06, loss: -0.08341\n",
      "epoch: 07, loss: -0.08564\n",
      "epoch: 08, loss: -0.08394\n",
      "epoch: 09, loss: -0.08504\n",
      "torch.Size([400, 64])\n"
     ]
    },
    {
     "name": "stderr",
     "output_type": "stream",
     "text": [
      " 11%|█         | 108/1000 [34:14<6:14:16, 25.18s/it]"
     ]
    },
    {
     "name": "stdout",
     "output_type": "stream",
     "text": [
      "eigenvalues shape torch.Size([5]) eigenvectors shape torch.Size([5, 400])\n",
      "108 /home/phdcs2/Hard_Disk/Datasets/Deep-Spectral-Segmentation/data/object-segmentation/ECSSD/features/dino_vits16/0109.pth\n",
      "dict_keys(['k', 'indices', 'file', 'id', 'model_name', 'patch_size', 'shape'])\n",
      "0109\n",
      "Starting Training\n",
      "epoch: 00, loss: 0.00937\n",
      "epoch: 01, loss: -0.00105\n",
      "epoch: 02, loss: -0.00674\n",
      "epoch: 03, loss: -0.00984\n",
      "epoch: 04, loss: -0.01173\n",
      "epoch: 05, loss: -0.01280\n",
      "epoch: 06, loss: -0.01355\n",
      "epoch: 07, loss: -0.01412\n",
      "epoch: 08, loss: -0.01446\n",
      "epoch: 09, loss: -0.01480\n",
      "torch.Size([400, 64])\n"
     ]
    },
    {
     "name": "stderr",
     "output_type": "stream",
     "text": [
      " 11%|█         | 109/1000 [34:37<6:03:50, 24.50s/it]"
     ]
    },
    {
     "name": "stdout",
     "output_type": "stream",
     "text": [
      "eigenvalues shape torch.Size([5]) eigenvectors shape torch.Size([5, 400])\n",
      "109 /home/phdcs2/Hard_Disk/Datasets/Deep-Spectral-Segmentation/data/object-segmentation/ECSSD/features/dino_vits16/0110.pth\n",
      "dict_keys(['k', 'indices', 'file', 'id', 'model_name', 'patch_size', 'shape'])\n",
      "0110\n",
      "Starting Training\n",
      "epoch: 00, loss: -0.00094\n",
      "epoch: 01, loss: -0.01992\n",
      "epoch: 02, loss: -0.02551\n",
      "epoch: 03, loss: -0.02750\n",
      "epoch: 04, loss: -0.02850\n",
      "epoch: 05, loss: -0.02899\n",
      "epoch: 06, loss: -0.02917\n",
      "epoch: 07, loss: -0.02948\n",
      "epoch: 08, loss: -0.02965\n",
      "epoch: 09, loss: -0.02973\n",
      "torch.Size([400, 64])\n"
     ]
    },
    {
     "name": "stderr",
     "output_type": "stream",
     "text": [
      " 11%|█         | 110/1000 [35:05<6:22:17, 25.77s/it]"
     ]
    },
    {
     "name": "stdout",
     "output_type": "stream",
     "text": [
      "eigenvalues shape torch.Size([5]) eigenvectors shape torch.Size([5, 400])\n",
      "110 /home/phdcs2/Hard_Disk/Datasets/Deep-Spectral-Segmentation/data/object-segmentation/ECSSD/features/dino_vits16/0111.pth\n",
      "dict_keys(['k', 'indices', 'file', 'id', 'model_name', 'patch_size', 'shape'])\n",
      "0111\n",
      "Starting Training\n",
      "epoch: 00, loss: -0.00967\n",
      "epoch: 01, loss: -0.02282\n",
      "epoch: 02, loss: -0.02653\n",
      "epoch: 03, loss: -0.02806\n",
      "epoch: 04, loss: -0.02845\n",
      "epoch: 05, loss: -0.02885\n",
      "epoch: 06, loss: -0.02901\n",
      "epoch: 07, loss: -0.02920\n",
      "epoch: 08, loss: -0.02942\n",
      "epoch: 09, loss: -0.02953\n",
      "torch.Size([400, 64])\n"
     ]
    },
    {
     "name": "stderr",
     "output_type": "stream",
     "text": [
      " 11%|█         | 111/1000 [35:36<6:45:15, 27.35s/it]"
     ]
    },
    {
     "name": "stdout",
     "output_type": "stream",
     "text": [
      "eigenvalues shape torch.Size([5]) eigenvectors shape torch.Size([5, 400])\n",
      "111 /home/phdcs2/Hard_Disk/Datasets/Deep-Spectral-Segmentation/data/object-segmentation/ECSSD/features/dino_vits16/0112.pth\n",
      "dict_keys(['k', 'indices', 'file', 'id', 'model_name', 'patch_size', 'shape'])\n",
      "0112\n",
      "Starting Training\n",
      "epoch: 00, loss: -0.01695\n",
      "epoch: 01, loss: -0.03915\n",
      "epoch: 02, loss: -0.04258\n",
      "epoch: 03, loss: -0.04339\n",
      "epoch: 04, loss: -0.04375\n",
      "epoch: 05, loss: -0.04385\n",
      "epoch: 06, loss: -0.04416\n",
      "epoch: 07, loss: -0.04433\n",
      "epoch: 08, loss: -0.04440\n",
      "epoch: 09, loss: -0.04460\n",
      "torch.Size([400, 64])\n"
     ]
    },
    {
     "name": "stderr",
     "output_type": "stream",
     "text": [
      " 11%|█         | 112/1000 [36:01<6:30:24, 26.38s/it]"
     ]
    },
    {
     "name": "stdout",
     "output_type": "stream",
     "text": [
      "eigenvalues shape torch.Size([5]) eigenvectors shape torch.Size([5, 400])\n",
      "112 /home/phdcs2/Hard_Disk/Datasets/Deep-Spectral-Segmentation/data/object-segmentation/ECSSD/features/dino_vits16/0113.pth\n",
      "dict_keys(['k', 'indices', 'file', 'id', 'model_name', 'patch_size', 'shape'])\n",
      "0113\n",
      "Starting Training\n",
      "epoch: 00, loss: -0.02628\n",
      "epoch: 01, loss: -0.04880\n",
      "epoch: 02, loss: -0.05672\n",
      "epoch: 03, loss: -0.05862\n",
      "epoch: 04, loss: -0.05870\n",
      "epoch: 05, loss: -0.05914\n",
      "epoch: 06, loss: -0.05888\n",
      "epoch: 07, loss: -0.06015\n",
      "epoch: 08, loss: -0.05884\n",
      "epoch: 09, loss: -0.06315\n",
      "torch.Size([400, 64])\n"
     ]
    },
    {
     "name": "stderr",
     "output_type": "stream",
     "text": [
      " 11%|█▏        | 113/1000 [36:30<6:42:12, 27.21s/it]"
     ]
    },
    {
     "name": "stdout",
     "output_type": "stream",
     "text": [
      "eigenvalues shape torch.Size([5]) eigenvectors shape torch.Size([5, 400])\n",
      "113 /home/phdcs2/Hard_Disk/Datasets/Deep-Spectral-Segmentation/data/object-segmentation/ECSSD/features/dino_vits16/0114.pth\n",
      "dict_keys(['k', 'indices', 'file', 'id', 'model_name', 'patch_size', 'shape'])\n",
      "0114\n",
      "Starting Training\n",
      "epoch: 00, loss: -0.03462\n",
      "epoch: 01, loss: -0.06230\n",
      "epoch: 02, loss: -0.06437\n",
      "epoch: 03, loss: -0.06987\n",
      "epoch: 04, loss: -0.06920\n",
      "epoch: 05, loss: -0.06982\n",
      "epoch: 06, loss: -0.06852\n",
      "epoch: 07, loss: -0.07288\n",
      "epoch: 08, loss: -0.07411\n",
      "epoch: 09, loss: -0.06872\n",
      "torch.Size([400, 64])\n"
     ]
    },
    {
     "name": "stderr",
     "output_type": "stream",
     "text": [
      " 11%|█▏        | 114/1000 [36:55<6:32:54, 26.61s/it]"
     ]
    },
    {
     "name": "stdout",
     "output_type": "stream",
     "text": [
      "eigenvalues shape torch.Size([5]) eigenvectors shape torch.Size([5, 400])\n",
      "114 /home/phdcs2/Hard_Disk/Datasets/Deep-Spectral-Segmentation/data/object-segmentation/ECSSD/features/dino_vits16/0115.pth\n",
      "dict_keys(['k', 'indices', 'file', 'id', 'model_name', 'patch_size', 'shape'])\n",
      "0115\n",
      "Starting Training\n",
      "epoch: 00, loss: -0.02725\n",
      "epoch: 01, loss: -0.05077\n",
      "epoch: 02, loss: -0.05158\n",
      "epoch: 03, loss: -0.05395\n",
      "epoch: 04, loss: -0.05476\n",
      "epoch: 05, loss: -0.05544\n",
      "epoch: 06, loss: -0.05631\n",
      "epoch: 07, loss: -0.05577\n",
      "epoch: 08, loss: -0.05514\n",
      "epoch: 09, loss: -0.05631\n",
      "torch.Size([400, 64])\n"
     ]
    },
    {
     "name": "stderr",
     "output_type": "stream",
     "text": [
      " 12%|█▏        | 115/1000 [37:21<6:29:20, 26.40s/it]"
     ]
    },
    {
     "name": "stdout",
     "output_type": "stream",
     "text": [
      "eigenvalues shape torch.Size([5]) eigenvectors shape torch.Size([5, 400])\n",
      "115 /home/phdcs2/Hard_Disk/Datasets/Deep-Spectral-Segmentation/data/object-segmentation/ECSSD/features/dino_vits16/0116.pth\n",
      "dict_keys(['k', 'indices', 'file', 'id', 'model_name', 'patch_size', 'shape'])\n",
      "0116\n",
      "Starting Training\n",
      "epoch: 00, loss: 0.00628\n",
      "epoch: 01, loss: -0.00743\n",
      "epoch: 02, loss: -0.01327\n",
      "epoch: 03, loss: -0.01573\n",
      "epoch: 04, loss: -0.01697\n",
      "epoch: 05, loss: -0.01772\n",
      "epoch: 06, loss: -0.01836\n",
      "epoch: 07, loss: -0.01868\n",
      "epoch: 08, loss: -0.01882\n",
      "epoch: 09, loss: -0.01898\n",
      "torch.Size([400, 64])\n"
     ]
    },
    {
     "name": "stderr",
     "output_type": "stream",
     "text": [
      " 12%|█▏        | 116/1000 [37:50<6:43:05, 27.36s/it]"
     ]
    },
    {
     "name": "stdout",
     "output_type": "stream",
     "text": [
      "eigenvalues shape torch.Size([5]) eigenvectors shape torch.Size([5, 400])\n",
      "116 /home/phdcs2/Hard_Disk/Datasets/Deep-Spectral-Segmentation/data/object-segmentation/ECSSD/features/dino_vits16/0117.pth\n",
      "dict_keys(['k', 'indices', 'file', 'id', 'model_name', 'patch_size', 'shape'])\n",
      "0117\n",
      "Starting Training\n",
      "epoch: 00, loss: -0.03085\n",
      "epoch: 01, loss: -0.05182\n",
      "epoch: 02, loss: -0.05918\n",
      "epoch: 03, loss: -0.05962\n",
      "epoch: 04, loss: -0.06074\n",
      "epoch: 05, loss: -0.06262\n",
      "epoch: 06, loss: -0.06176\n",
      "epoch: 07, loss: -0.06278\n",
      "epoch: 08, loss: -0.06336\n",
      "epoch: 09, loss: -0.06391\n",
      "torch.Size([400, 64])\n"
     ]
    },
    {
     "name": "stderr",
     "output_type": "stream",
     "text": [
      " 12%|█▏        | 117/1000 [38:17<6:41:14, 27.26s/it]"
     ]
    },
    {
     "name": "stdout",
     "output_type": "stream",
     "text": [
      "eigenvalues shape torch.Size([5]) eigenvectors shape torch.Size([5, 400])\n",
      "117 /home/phdcs2/Hard_Disk/Datasets/Deep-Spectral-Segmentation/data/object-segmentation/ECSSD/features/dino_vits16/0118.pth\n",
      "dict_keys(['k', 'indices', 'file', 'id', 'model_name', 'patch_size', 'shape'])\n",
      "0118\n",
      "Starting Training\n",
      "epoch: 00, loss: -0.01471\n",
      "epoch: 01, loss: -0.04156\n",
      "epoch: 02, loss: -0.04550\n",
      "epoch: 03, loss: -0.04659\n",
      "epoch: 04, loss: -0.04678\n",
      "epoch: 05, loss: -0.04724\n",
      "epoch: 06, loss: -0.04732\n",
      "epoch: 07, loss: -0.04750\n",
      "epoch: 08, loss: -0.04766\n",
      "epoch: 09, loss: -0.04786\n",
      "torch.Size([400, 64])\n"
     ]
    },
    {
     "name": "stderr",
     "output_type": "stream",
     "text": [
      " 12%|█▏        | 118/1000 [38:43<6:34:43, 26.85s/it]"
     ]
    },
    {
     "name": "stdout",
     "output_type": "stream",
     "text": [
      "eigenvalues shape torch.Size([5]) eigenvectors shape torch.Size([5, 400])\n",
      "118 /home/phdcs2/Hard_Disk/Datasets/Deep-Spectral-Segmentation/data/object-segmentation/ECSSD/features/dino_vits16/0119.pth\n",
      "dict_keys(['k', 'indices', 'file', 'id', 'model_name', 'patch_size', 'shape'])\n",
      "0119\n",
      "Starting Training\n",
      "epoch: 00, loss: -0.02406\n",
      "epoch: 01, loss: -0.05775\n",
      "epoch: 02, loss: -0.05911\n",
      "epoch: 03, loss: -0.06514\n",
      "epoch: 04, loss: -0.06741\n",
      "epoch: 05, loss: -0.06789\n",
      "epoch: 06, loss: -0.06814\n",
      "epoch: 07, loss: -0.06752\n",
      "epoch: 08, loss: -0.06797\n",
      "epoch: 09, loss: -0.06765\n",
      "torch.Size([400, 64])\n"
     ]
    },
    {
     "name": "stderr",
     "output_type": "stream",
     "text": [
      " 12%|█▏        | 119/1000 [39:12<6:43:48, 27.50s/it]"
     ]
    },
    {
     "name": "stdout",
     "output_type": "stream",
     "text": [
      "eigenvalues shape torch.Size([5]) eigenvectors shape torch.Size([5, 400])\n",
      "119 /home/phdcs2/Hard_Disk/Datasets/Deep-Spectral-Segmentation/data/object-segmentation/ECSSD/features/dino_vits16/0120.pth\n",
      "dict_keys(['k', 'indices', 'file', 'id', 'model_name', 'patch_size', 'shape'])\n",
      "0120\n",
      "Starting Training\n",
      "epoch: 00, loss: -0.01360\n",
      "epoch: 01, loss: -0.04797\n",
      "epoch: 02, loss: -0.05262\n",
      "epoch: 03, loss: -0.05577\n",
      "epoch: 04, loss: -0.06036\n",
      "epoch: 05, loss: -0.05914\n",
      "epoch: 06, loss: -0.05779\n",
      "epoch: 07, loss: -0.05879\n",
      "epoch: 08, loss: -0.06224\n",
      "epoch: 09, loss: -0.06375\n",
      "torch.Size([400, 64])\n"
     ]
    },
    {
     "name": "stderr",
     "output_type": "stream",
     "text": [
      " 12%|█▏        | 120/1000 [39:34<6:15:59, 25.64s/it]"
     ]
    },
    {
     "name": "stdout",
     "output_type": "stream",
     "text": [
      "eigenvalues shape torch.Size([5]) eigenvectors shape torch.Size([5, 400])\n",
      "120 /home/phdcs2/Hard_Disk/Datasets/Deep-Spectral-Segmentation/data/object-segmentation/ECSSD/features/dino_vits16/0121.pth\n",
      "dict_keys(['k', 'indices', 'file', 'id', 'model_name', 'patch_size', 'shape'])\n",
      "0121\n",
      "Starting Training\n",
      "epoch: 00, loss: -0.03806\n",
      "epoch: 01, loss: -0.05750\n",
      "epoch: 02, loss: -0.06062\n",
      "epoch: 03, loss: -0.06070\n",
      "epoch: 04, loss: -0.06021\n",
      "epoch: 05, loss: -0.06194\n",
      "epoch: 06, loss: -0.06226\n",
      "epoch: 07, loss: -0.06245\n",
      "epoch: 08, loss: -0.06172\n",
      "epoch: 09, loss: -0.06292\n",
      "torch.Size([400, 64])\n"
     ]
    },
    {
     "name": "stderr",
     "output_type": "stream",
     "text": [
      " 12%|█▏        | 121/1000 [40:02<6:28:14, 26.50s/it]"
     ]
    },
    {
     "name": "stdout",
     "output_type": "stream",
     "text": [
      "eigenvalues shape torch.Size([5]) eigenvectors shape torch.Size([5, 400])\n",
      "121 /home/phdcs2/Hard_Disk/Datasets/Deep-Spectral-Segmentation/data/object-segmentation/ECSSD/features/dino_vits16/0122.pth\n",
      "dict_keys(['k', 'indices', 'file', 'id', 'model_name', 'patch_size', 'shape'])\n",
      "0122\n",
      "Starting Training\n",
      "epoch: 00, loss: 0.00210\n",
      "epoch: 01, loss: -0.02575\n",
      "epoch: 02, loss: -0.03325\n",
      "epoch: 03, loss: -0.03570\n",
      "epoch: 04, loss: -0.03584\n",
      "epoch: 05, loss: -0.03900\n",
      "epoch: 06, loss: -0.03847\n",
      "epoch: 07, loss: -0.03887\n",
      "epoch: 08, loss: -0.03942\n",
      "epoch: 09, loss: -0.03858\n",
      "torch.Size([400, 64])\n"
     ]
    },
    {
     "name": "stderr",
     "output_type": "stream",
     "text": [
      " 12%|█▏        | 122/1000 [40:29<6:30:12, 26.67s/it]"
     ]
    },
    {
     "name": "stdout",
     "output_type": "stream",
     "text": [
      "eigenvalues shape torch.Size([5]) eigenvectors shape torch.Size([5, 400])\n",
      "122 /home/phdcs2/Hard_Disk/Datasets/Deep-Spectral-Segmentation/data/object-segmentation/ECSSD/features/dino_vits16/0123.pth\n",
      "dict_keys(['k', 'indices', 'file', 'id', 'model_name', 'patch_size', 'shape'])\n",
      "0123\n",
      "Starting Training\n",
      "epoch: 00, loss: -0.08912\n",
      "epoch: 01, loss: -0.13115\n",
      "epoch: 02, loss: -0.13193\n",
      "epoch: 03, loss: -0.12900\n",
      "epoch: 04, loss: -0.13423\n",
      "epoch: 05, loss: -0.13168\n",
      "epoch: 06, loss: -0.13477\n",
      "epoch: 07, loss: -0.13536\n",
      "epoch: 08, loss: -0.13923\n",
      "epoch: 09, loss: -0.13849\n",
      "torch.Size([400, 64])\n"
     ]
    },
    {
     "name": "stderr",
     "output_type": "stream",
     "text": [
      " 12%|█▏        | 123/1000 [40:53<6:17:00, 25.79s/it]"
     ]
    },
    {
     "name": "stdout",
     "output_type": "stream",
     "text": [
      "eigenvalues shape torch.Size([5]) eigenvectors shape torch.Size([5, 400])\n",
      "123 /home/phdcs2/Hard_Disk/Datasets/Deep-Spectral-Segmentation/data/object-segmentation/ECSSD/features/dino_vits16/0124.pth\n",
      "dict_keys(['k', 'indices', 'file', 'id', 'model_name', 'patch_size', 'shape'])\n",
      "0124\n",
      "Starting Training\n",
      "epoch: 00, loss: -0.01650\n",
      "epoch: 01, loss: -0.03642\n",
      "epoch: 02, loss: -0.03984\n",
      "epoch: 03, loss: -0.04069\n",
      "epoch: 04, loss: -0.04117\n",
      "epoch: 05, loss: -0.04142\n",
      "epoch: 06, loss: -0.04169\n",
      "epoch: 07, loss: -0.04186\n",
      "epoch: 08, loss: -0.04185\n",
      "epoch: 09, loss: -0.04191\n",
      "torch.Size([400, 64])\n"
     ]
    },
    {
     "name": "stderr",
     "output_type": "stream",
     "text": [
      " 12%|█▏        | 124/1000 [41:20<6:20:36, 26.07s/it]"
     ]
    },
    {
     "name": "stdout",
     "output_type": "stream",
     "text": [
      "eigenvalues shape torch.Size([5]) eigenvectors shape torch.Size([5, 400])\n",
      "124 /home/phdcs2/Hard_Disk/Datasets/Deep-Spectral-Segmentation/data/object-segmentation/ECSSD/features/dino_vits16/0125.pth\n",
      "dict_keys(['k', 'indices', 'file', 'id', 'model_name', 'patch_size', 'shape'])\n",
      "0125\n",
      "Starting Training\n",
      "epoch: 00, loss: -0.02669\n",
      "epoch: 01, loss: -0.04981\n",
      "epoch: 02, loss: -0.05352\n",
      "epoch: 03, loss: -0.05426\n",
      "epoch: 04, loss: -0.05414\n",
      "epoch: 05, loss: -0.05588\n",
      "epoch: 06, loss: -0.05724\n",
      "epoch: 07, loss: -0.05647\n",
      "epoch: 08, loss: -0.05771\n",
      "epoch: 09, loss: -0.05870\n",
      "torch.Size([400, 64])\n"
     ]
    },
    {
     "name": "stderr",
     "output_type": "stream",
     "text": [
      " 12%|█▎        | 125/1000 [41:42<6:02:45, 24.88s/it]"
     ]
    },
    {
     "name": "stdout",
     "output_type": "stream",
     "text": [
      "eigenvalues shape torch.Size([5]) eigenvectors shape torch.Size([5, 400])\n",
      "125 /home/phdcs2/Hard_Disk/Datasets/Deep-Spectral-Segmentation/data/object-segmentation/ECSSD/features/dino_vits16/0126.pth\n",
      "dict_keys(['k', 'indices', 'file', 'id', 'model_name', 'patch_size', 'shape'])\n",
      "0126\n",
      "Starting Training\n",
      "epoch: 00, loss: 0.00534\n",
      "epoch: 01, loss: -0.00600\n",
      "epoch: 02, loss: -0.01144\n",
      "epoch: 03, loss: -0.01443\n",
      "epoch: 04, loss: -0.01593\n",
      "epoch: 05, loss: -0.01705\n",
      "epoch: 06, loss: -0.01771\n",
      "epoch: 07, loss: -0.01808\n",
      "epoch: 08, loss: -0.01829\n",
      "epoch: 09, loss: -0.01849\n",
      "torch.Size([400, 64])\n"
     ]
    },
    {
     "name": "stderr",
     "output_type": "stream",
     "text": [
      " 13%|█▎        | 126/1000 [42:00<5:33:19, 22.88s/it]"
     ]
    },
    {
     "name": "stdout",
     "output_type": "stream",
     "text": [
      "eigenvalues shape torch.Size([5]) eigenvectors shape torch.Size([5, 400])\n",
      "126 /home/phdcs2/Hard_Disk/Datasets/Deep-Spectral-Segmentation/data/object-segmentation/ECSSD/features/dino_vits16/0127.pth\n",
      "dict_keys(['k', 'indices', 'file', 'id', 'model_name', 'patch_size', 'shape'])\n",
      "0127\n",
      "Starting Training\n",
      "epoch: 00, loss: -0.01745\n",
      "epoch: 01, loss: -0.04993\n",
      "epoch: 02, loss: -0.05451\n",
      "epoch: 03, loss: -0.05640\n",
      "epoch: 04, loss: -0.05741\n",
      "epoch: 05, loss: -0.05642\n",
      "epoch: 06, loss: -0.06094\n",
      "epoch: 07, loss: -0.05959\n",
      "epoch: 08, loss: -0.05784\n",
      "epoch: 09, loss: -0.05932\n",
      "torch.Size([400, 64])\n"
     ]
    },
    {
     "name": "stderr",
     "output_type": "stream",
     "text": [
      " 13%|█▎        | 127/1000 [42:26<5:46:28, 23.81s/it]"
     ]
    },
    {
     "name": "stdout",
     "output_type": "stream",
     "text": [
      "eigenvalues shape torch.Size([5]) eigenvectors shape torch.Size([5, 400])\n",
      "127 /home/phdcs2/Hard_Disk/Datasets/Deep-Spectral-Segmentation/data/object-segmentation/ECSSD/features/dino_vits16/0128.pth\n",
      "dict_keys(['k', 'indices', 'file', 'id', 'model_name', 'patch_size', 'shape'])\n",
      "0128\n",
      "Starting Training\n",
      "epoch: 00, loss: -0.00942\n",
      "epoch: 01, loss: -0.03434\n",
      "epoch: 02, loss: -0.03411\n",
      "epoch: 03, loss: -0.03520\n",
      "epoch: 04, loss: -0.03586\n",
      "epoch: 05, loss: -0.03809\n",
      "epoch: 06, loss: -0.03963\n",
      "epoch: 07, loss: -0.03813\n",
      "epoch: 08, loss: -0.04018\n",
      "epoch: 09, loss: -0.04008\n",
      "torch.Size([400, 64])\n"
     ]
    },
    {
     "name": "stderr",
     "output_type": "stream",
     "text": [
      " 13%|█▎        | 128/1000 [42:54<6:02:48, 24.96s/it]"
     ]
    },
    {
     "name": "stdout",
     "output_type": "stream",
     "text": [
      "eigenvalues shape torch.Size([5]) eigenvectors shape torch.Size([5, 400])\n",
      "128 /home/phdcs2/Hard_Disk/Datasets/Deep-Spectral-Segmentation/data/object-segmentation/ECSSD/features/dino_vits16/0129.pth\n",
      "dict_keys(['k', 'indices', 'file', 'id', 'model_name', 'patch_size', 'shape'])\n",
      "0129\n",
      "Starting Training\n",
      "epoch: 00, loss: -0.06279\n",
      "epoch: 01, loss: -0.08999\n",
      "epoch: 02, loss: -0.09558\n",
      "epoch: 03, loss: -0.09684\n",
      "epoch: 04, loss: -0.09710\n",
      "epoch: 05, loss: -0.10001\n",
      "epoch: 06, loss: -0.10024\n",
      "epoch: 07, loss: -0.09773\n",
      "epoch: 08, loss: -0.10161\n",
      "epoch: 09, loss: -0.10033\n",
      "torch.Size([425, 64])\n"
     ]
    },
    {
     "name": "stderr",
     "output_type": "stream",
     "text": [
      " 13%|█▎        | 129/1000 [43:21<6:13:27, 25.73s/it]"
     ]
    },
    {
     "name": "stdout",
     "output_type": "stream",
     "text": [
      "eigenvalues shape torch.Size([5]) eigenvectors shape torch.Size([5, 425])\n",
      "129 /home/phdcs2/Hard_Disk/Datasets/Deep-Spectral-Segmentation/data/object-segmentation/ECSSD/features/dino_vits16/0130.pth\n",
      "dict_keys(['k', 'indices', 'file', 'id', 'model_name', 'patch_size', 'shape'])\n",
      "0130\n",
      "Starting Training\n",
      "epoch: 00, loss: -0.00652\n",
      "epoch: 01, loss: -0.02849\n",
      "epoch: 02, loss: -0.03373\n",
      "epoch: 03, loss: -0.03827\n",
      "epoch: 04, loss: -0.03878\n",
      "epoch: 05, loss: -0.03946\n",
      "epoch: 06, loss: -0.03880\n",
      "epoch: 07, loss: -0.03820\n",
      "epoch: 08, loss: -0.03943\n",
      "epoch: 09, loss: -0.03971\n",
      "torch.Size([425, 64])\n"
     ]
    },
    {
     "name": "stderr",
     "output_type": "stream",
     "text": [
      " 13%|█▎        | 130/1000 [43:43<5:58:07, 24.70s/it]"
     ]
    },
    {
     "name": "stdout",
     "output_type": "stream",
     "text": [
      "eigenvalues shape torch.Size([5]) eigenvectors shape torch.Size([5, 425])\n",
      "130 /home/phdcs2/Hard_Disk/Datasets/Deep-Spectral-Segmentation/data/object-segmentation/ECSSD/features/dino_vits16/0131.pth\n",
      "dict_keys(['k', 'indices', 'file', 'id', 'model_name', 'patch_size', 'shape'])\n",
      "0131\n",
      "Starting Training\n",
      "epoch: 00, loss: -0.06150\n",
      "epoch: 01, loss: -0.08932\n",
      "epoch: 02, loss: -0.09134\n",
      "epoch: 03, loss: -0.09300\n",
      "epoch: 04, loss: -0.09412\n",
      "epoch: 05, loss: -0.09571\n",
      "epoch: 06, loss: -0.09583\n",
      "epoch: 07, loss: -0.09598\n",
      "epoch: 08, loss: -0.09592\n",
      "epoch: 09, loss: -0.09543\n",
      "torch.Size([450, 64])\n"
     ]
    },
    {
     "name": "stderr",
     "output_type": "stream",
     "text": [
      " 13%|█▎        | 131/1000 [44:15<6:29:24, 26.89s/it]"
     ]
    },
    {
     "name": "stdout",
     "output_type": "stream",
     "text": [
      "eigenvalues shape torch.Size([5]) eigenvectors shape torch.Size([5, 450])\n",
      "131 /home/phdcs2/Hard_Disk/Datasets/Deep-Spectral-Segmentation/data/object-segmentation/ECSSD/features/dino_vits16/0132.pth\n",
      "dict_keys(['k', 'indices', 'file', 'id', 'model_name', 'patch_size', 'shape'])\n",
      "0132\n",
      "Starting Training\n",
      "epoch: 00, loss: -0.02391\n",
      "epoch: 01, loss: -0.05761\n",
      "epoch: 02, loss: -0.06163\n",
      "epoch: 03, loss: -0.06249\n",
      "epoch: 04, loss: -0.06702\n",
      "epoch: 05, loss: -0.06974\n",
      "epoch: 06, loss: -0.06865\n",
      "epoch: 07, loss: -0.06734\n",
      "epoch: 08, loss: -0.06891\n",
      "epoch: 09, loss: -0.06947\n",
      "torch.Size([400, 64])\n"
     ]
    },
    {
     "name": "stderr",
     "output_type": "stream",
     "text": [
      " 13%|█▎        | 132/1000 [44:40<6:18:52, 26.19s/it]"
     ]
    },
    {
     "name": "stdout",
     "output_type": "stream",
     "text": [
      "eigenvalues shape torch.Size([5]) eigenvectors shape torch.Size([5, 400])\n",
      "132 /home/phdcs2/Hard_Disk/Datasets/Deep-Spectral-Segmentation/data/object-segmentation/ECSSD/features/dino_vits16/0133.pth\n",
      "dict_keys(['k', 'indices', 'file', 'id', 'model_name', 'patch_size', 'shape'])\n",
      "0133\n",
      "Starting Training\n",
      "epoch: 00, loss: -0.04368\n",
      "epoch: 01, loss: -0.06623\n",
      "epoch: 02, loss: -0.06836\n",
      "epoch: 03, loss: -0.06801\n",
      "epoch: 04, loss: -0.06912\n",
      "epoch: 05, loss: -0.06973\n",
      "epoch: 06, loss: -0.06813\n",
      "epoch: 07, loss: -0.06984\n",
      "epoch: 08, loss: -0.06944\n",
      "epoch: 09, loss: -0.06885\n",
      "torch.Size([525, 64])\n"
     ]
    },
    {
     "name": "stderr",
     "output_type": "stream",
     "text": [
      " 13%|█▎        | 133/1000 [45:26<7:46:16, 32.27s/it]"
     ]
    },
    {
     "name": "stdout",
     "output_type": "stream",
     "text": [
      "eigenvalues shape torch.Size([5]) eigenvectors shape torch.Size([5, 525])\n",
      "133 /home/phdcs2/Hard_Disk/Datasets/Deep-Spectral-Segmentation/data/object-segmentation/ECSSD/features/dino_vits16/0134.pth\n",
      "dict_keys(['k', 'indices', 'file', 'id', 'model_name', 'patch_size', 'shape'])\n",
      "0134\n",
      "Starting Training\n",
      "epoch: 00, loss: -0.03484\n",
      "epoch: 01, loss: -0.07047\n",
      "epoch: 02, loss: -0.07821\n",
      "epoch: 03, loss: -0.07501\n",
      "epoch: 04, loss: -0.08011\n",
      "epoch: 05, loss: -0.07705\n",
      "epoch: 06, loss: -0.08034\n",
      "epoch: 07, loss: -0.08102\n",
      "epoch: 08, loss: -0.08019\n",
      "epoch: 09, loss: -0.08145\n",
      "torch.Size([400, 64])\n"
     ]
    },
    {
     "name": "stderr",
     "output_type": "stream",
     "text": [
      " 13%|█▎        | 134/1000 [45:52<7:14:45, 30.12s/it]"
     ]
    },
    {
     "name": "stdout",
     "output_type": "stream",
     "text": [
      "eigenvalues shape torch.Size([5]) eigenvectors shape torch.Size([5, 400])\n",
      "134 /home/phdcs2/Hard_Disk/Datasets/Deep-Spectral-Segmentation/data/object-segmentation/ECSSD/features/dino_vits16/0135.pth\n",
      "dict_keys(['k', 'indices', 'file', 'id', 'model_name', 'patch_size', 'shape'])\n",
      "0135\n",
      "Starting Training\n",
      "epoch: 00, loss: -0.04308\n",
      "epoch: 01, loss: -0.06540\n",
      "epoch: 02, loss: -0.06612\n",
      "epoch: 03, loss: -0.06659\n",
      "epoch: 04, loss: -0.06698\n",
      "epoch: 05, loss: -0.06724\n",
      "epoch: 06, loss: -0.06729\n",
      "epoch: 07, loss: -0.06762\n",
      "epoch: 08, loss: -0.06761\n",
      "epoch: 09, loss: -0.06765\n",
      "torch.Size([450, 64])\n"
     ]
    },
    {
     "name": "stderr",
     "output_type": "stream",
     "text": [
      " 14%|█▎        | 135/1000 [46:23<7:22:04, 30.66s/it]"
     ]
    },
    {
     "name": "stdout",
     "output_type": "stream",
     "text": [
      "eigenvalues shape torch.Size([5]) eigenvectors shape torch.Size([5, 450])\n",
      "135 /home/phdcs2/Hard_Disk/Datasets/Deep-Spectral-Segmentation/data/object-segmentation/ECSSD/features/dino_vits16/0136.pth\n",
      "dict_keys(['k', 'indices', 'file', 'id', 'model_name', 'patch_size', 'shape'])\n",
      "0136\n",
      "Starting Training\n",
      "epoch: 00, loss: -0.02790\n",
      "epoch: 01, loss: -0.04407\n",
      "epoch: 02, loss: -0.04547\n",
      "epoch: 03, loss: -0.04569\n",
      "epoch: 04, loss: -0.04628\n",
      "epoch: 05, loss: -0.04635\n",
      "epoch: 06, loss: -0.04663\n",
      "epoch: 07, loss: -0.04669\n",
      "epoch: 08, loss: -0.04673\n",
      "epoch: 09, loss: -0.04690\n",
      "torch.Size([450, 64])\n"
     ]
    },
    {
     "name": "stderr",
     "output_type": "stream",
     "text": [
      " 14%|█▎        | 136/1000 [46:51<7:06:11, 29.60s/it]"
     ]
    },
    {
     "name": "stdout",
     "output_type": "stream",
     "text": [
      "eigenvalues shape torch.Size([5]) eigenvectors shape torch.Size([5, 450])\n",
      "136 /home/phdcs2/Hard_Disk/Datasets/Deep-Spectral-Segmentation/data/object-segmentation/ECSSD/features/dino_vits16/0137.pth\n",
      "dict_keys(['k', 'indices', 'file', 'id', 'model_name', 'patch_size', 'shape'])\n",
      "0137\n",
      "Starting Training\n",
      "epoch: 00, loss: -0.06016\n",
      "epoch: 01, loss: -0.08154\n",
      "epoch: 02, loss: -0.08295\n",
      "epoch: 03, loss: -0.08236\n",
      "epoch: 04, loss: -0.08248\n",
      "epoch: 05, loss: -0.08396\n",
      "epoch: 06, loss: -0.08412\n",
      "epoch: 07, loss: -0.08414\n",
      "epoch: 08, loss: -0.08320\n",
      "epoch: 09, loss: -0.08436\n",
      "torch.Size([475, 64])\n"
     ]
    },
    {
     "name": "stderr",
     "output_type": "stream",
     "text": [
      " 14%|█▎        | 137/1000 [47:16<6:46:58, 28.30s/it]"
     ]
    },
    {
     "name": "stdout",
     "output_type": "stream",
     "text": [
      "eigenvalues shape torch.Size([5]) eigenvectors shape torch.Size([5, 475])\n",
      "137 /home/phdcs2/Hard_Disk/Datasets/Deep-Spectral-Segmentation/data/object-segmentation/ECSSD/features/dino_vits16/0138.pth\n",
      "dict_keys(['k', 'indices', 'file', 'id', 'model_name', 'patch_size', 'shape'])\n",
      "0138\n",
      "Starting Training\n",
      "epoch: 00, loss: -0.06537\n",
      "epoch: 01, loss: -0.09588\n",
      "epoch: 02, loss: -0.10048\n",
      "epoch: 03, loss: -0.10242\n",
      "epoch: 04, loss: -0.10102\n",
      "epoch: 05, loss: -0.10228\n",
      "epoch: 06, loss: -0.10245\n",
      "epoch: 07, loss: -0.10349\n",
      "epoch: 08, loss: -0.10452\n",
      "epoch: 09, loss: -0.10467\n",
      "torch.Size([450, 64])\n"
     ]
    },
    {
     "name": "stderr",
     "output_type": "stream",
     "text": [
      " 14%|█▍        | 138/1000 [47:41<6:33:18, 27.38s/it]"
     ]
    },
    {
     "name": "stdout",
     "output_type": "stream",
     "text": [
      "eigenvalues shape torch.Size([5]) eigenvectors shape torch.Size([5, 450])\n",
      "138 /home/phdcs2/Hard_Disk/Datasets/Deep-Spectral-Segmentation/data/object-segmentation/ECSSD/features/dino_vits16/0139.pth\n",
      "dict_keys(['k', 'indices', 'file', 'id', 'model_name', 'patch_size', 'shape'])\n",
      "0139\n",
      "Starting Training\n",
      "epoch: 00, loss: -0.03636\n",
      "epoch: 01, loss: -0.06304\n",
      "epoch: 02, loss: -0.06631\n",
      "epoch: 03, loss: -0.06889\n",
      "epoch: 04, loss: -0.06782\n",
      "epoch: 05, loss: -0.06840\n",
      "epoch: 06, loss: -0.06918\n",
      "epoch: 07, loss: -0.06942\n",
      "epoch: 08, loss: -0.07032\n",
      "epoch: 09, loss: -0.07019\n",
      "torch.Size([450, 64])\n"
     ]
    },
    {
     "name": "stderr",
     "output_type": "stream",
     "text": [
      " 14%|█▍        | 139/1000 [48:05<6:17:06, 26.28s/it]"
     ]
    },
    {
     "name": "stdout",
     "output_type": "stream",
     "text": [
      "eigenvalues shape torch.Size([5]) eigenvectors shape torch.Size([5, 450])\n",
      "139 /home/phdcs2/Hard_Disk/Datasets/Deep-Spectral-Segmentation/data/object-segmentation/ECSSD/features/dino_vits16/0140.pth\n",
      "dict_keys(['k', 'indices', 'file', 'id', 'model_name', 'patch_size', 'shape'])\n",
      "0140\n",
      "Starting Training\n",
      "epoch: 00, loss: -0.02681\n",
      "epoch: 01, loss: -0.05285\n",
      "epoch: 02, loss: -0.05683\n",
      "epoch: 03, loss: -0.06089\n",
      "epoch: 04, loss: -0.06047\n",
      "epoch: 05, loss: -0.06010\n",
      "epoch: 06, loss: -0.06235\n",
      "epoch: 07, loss: -0.06320\n",
      "epoch: 08, loss: -0.06111\n",
      "epoch: 09, loss: -0.06238\n",
      "torch.Size([450, 64])\n"
     ]
    },
    {
     "name": "stderr",
     "output_type": "stream",
     "text": [
      " 14%|█▍        | 140/1000 [48:30<6:13:25, 26.05s/it]"
     ]
    },
    {
     "name": "stdout",
     "output_type": "stream",
     "text": [
      "eigenvalues shape torch.Size([5]) eigenvectors shape torch.Size([5, 450])\n",
      "140 /home/phdcs2/Hard_Disk/Datasets/Deep-Spectral-Segmentation/data/object-segmentation/ECSSD/features/dino_vits16/0141.pth\n",
      "dict_keys(['k', 'indices', 'file', 'id', 'model_name', 'patch_size', 'shape'])\n",
      "0141\n",
      "Starting Training\n",
      "epoch: 00, loss: -0.00770\n",
      "epoch: 01, loss: -0.02588\n",
      "epoch: 02, loss: -0.03064\n",
      "epoch: 03, loss: -0.03214\n",
      "epoch: 04, loss: -0.03274\n",
      "epoch: 05, loss: -0.03304\n",
      "epoch: 06, loss: -0.03325\n",
      "epoch: 07, loss: -0.03351\n",
      "epoch: 08, loss: -0.03356\n",
      "epoch: 09, loss: -0.03370\n",
      "torch.Size([350, 64])\n"
     ]
    },
    {
     "name": "stderr",
     "output_type": "stream",
     "text": [
      " 14%|█▍        | 141/1000 [48:50<5:47:02, 24.24s/it]"
     ]
    },
    {
     "name": "stdout",
     "output_type": "stream",
     "text": [
      "eigenvalues shape torch.Size([5]) eigenvectors shape torch.Size([5, 350])\n",
      "141 /home/phdcs2/Hard_Disk/Datasets/Deep-Spectral-Segmentation/data/object-segmentation/ECSSD/features/dino_vits16/0142.pth\n",
      "dict_keys(['k', 'indices', 'file', 'id', 'model_name', 'patch_size', 'shape'])\n",
      "0142\n",
      "Starting Training\n",
      "epoch: 00, loss: -0.07244\n",
      "epoch: 01, loss: -0.09971\n",
      "epoch: 02, loss: -0.10410\n",
      "epoch: 03, loss: -0.10636\n",
      "epoch: 04, loss: -0.10611\n",
      "epoch: 05, loss: -0.10814\n",
      "epoch: 06, loss: -0.10432\n",
      "epoch: 07, loss: -0.10716\n",
      "epoch: 08, loss: -0.10638\n",
      "epoch: 09, loss: -0.10758\n",
      "torch.Size([450, 64])\n"
     ]
    },
    {
     "name": "stderr",
     "output_type": "stream",
     "text": [
      " 14%|█▍        | 142/1000 [49:17<5:55:50, 24.88s/it]"
     ]
    },
    {
     "name": "stdout",
     "output_type": "stream",
     "text": [
      "eigenvalues shape torch.Size([5]) eigenvectors shape torch.Size([5, 450])\n",
      "142 /home/phdcs2/Hard_Disk/Datasets/Deep-Spectral-Segmentation/data/object-segmentation/ECSSD/features/dino_vits16/0143.pth\n",
      "dict_keys(['k', 'indices', 'file', 'id', 'model_name', 'patch_size', 'shape'])\n",
      "0143\n",
      "Starting Training\n",
      "epoch: 00, loss: -0.04492\n",
      "epoch: 01, loss: -0.06701\n",
      "epoch: 02, loss: -0.06840\n",
      "epoch: 03, loss: -0.06919\n",
      "epoch: 04, loss: -0.06954\n",
      "epoch: 05, loss: -0.06948\n",
      "epoch: 06, loss: -0.06990\n",
      "epoch: 07, loss: -0.06982\n",
      "epoch: 08, loss: -0.07001\n",
      "epoch: 09, loss: -0.07012\n",
      "torch.Size([450, 64])\n"
     ]
    },
    {
     "name": "stderr",
     "output_type": "stream",
     "text": [
      " 14%|█▍        | 143/1000 [49:41<5:54:22, 24.81s/it]"
     ]
    },
    {
     "name": "stdout",
     "output_type": "stream",
     "text": [
      "eigenvalues shape torch.Size([5]) eigenvectors shape torch.Size([5, 450])\n",
      "143 /home/phdcs2/Hard_Disk/Datasets/Deep-Spectral-Segmentation/data/object-segmentation/ECSSD/features/dino_vits16/0144.pth\n",
      "dict_keys(['k', 'indices', 'file', 'id', 'model_name', 'patch_size', 'shape'])\n",
      "0144\n",
      "Starting Training\n",
      "epoch: 00, loss: -0.04685\n",
      "epoch: 01, loss: -0.06921\n",
      "epoch: 02, loss: -0.06984\n",
      "epoch: 03, loss: -0.07083\n",
      "epoch: 04, loss: -0.07101\n",
      "epoch: 05, loss: -0.07126\n",
      "epoch: 06, loss: -0.07108\n",
      "epoch: 07, loss: -0.07131\n",
      "epoch: 08, loss: -0.07142\n",
      "epoch: 09, loss: -0.07196\n",
      "torch.Size([425, 64])\n"
     ]
    },
    {
     "name": "stderr",
     "output_type": "stream",
     "text": [
      " 14%|█▍        | 144/1000 [50:08<6:00:45, 25.29s/it]"
     ]
    },
    {
     "name": "stdout",
     "output_type": "stream",
     "text": [
      "eigenvalues shape torch.Size([5]) eigenvectors shape torch.Size([5, 425])\n",
      "144 /home/phdcs2/Hard_Disk/Datasets/Deep-Spectral-Segmentation/data/object-segmentation/ECSSD/features/dino_vits16/0145.pth\n",
      "dict_keys(['k', 'indices', 'file', 'id', 'model_name', 'patch_size', 'shape'])\n",
      "0145\n",
      "Starting Training\n",
      "epoch: 00, loss: -0.05444\n",
      "epoch: 01, loss: -0.09291\n",
      "epoch: 02, loss: -0.09818\n",
      "epoch: 03, loss: -0.10444\n",
      "epoch: 04, loss: -0.10453\n",
      "epoch: 05, loss: -0.10076\n",
      "epoch: 06, loss: -0.10166\n",
      "epoch: 07, loss: -0.10585\n",
      "epoch: 08, loss: -0.10568\n",
      "epoch: 09, loss: -0.10589\n",
      "torch.Size([450, 64])\n"
     ]
    },
    {
     "name": "stderr",
     "output_type": "stream",
     "text": [
      " 14%|█▍        | 145/1000 [50:35<6:07:48, 25.81s/it]"
     ]
    },
    {
     "name": "stdout",
     "output_type": "stream",
     "text": [
      "eigenvalues shape torch.Size([5]) eigenvectors shape torch.Size([5, 450])\n",
      "145 /home/phdcs2/Hard_Disk/Datasets/Deep-Spectral-Segmentation/data/object-segmentation/ECSSD/features/dino_vits16/0146.pth\n",
      "dict_keys(['k', 'indices', 'file', 'id', 'model_name', 'patch_size', 'shape'])\n",
      "0146\n",
      "Starting Training\n",
      "epoch: 00, loss: 0.00081\n",
      "epoch: 01, loss: -0.01616\n",
      "epoch: 02, loss: -0.02276\n",
      "epoch: 03, loss: -0.02499\n",
      "epoch: 04, loss: -0.02608\n",
      "epoch: 05, loss: -0.02654\n",
      "epoch: 06, loss: -0.02690\n",
      "epoch: 07, loss: -0.02705\n",
      "epoch: 08, loss: -0.02721\n",
      "epoch: 09, loss: -0.02734\n",
      "torch.Size([400, 64])\n"
     ]
    },
    {
     "name": "stderr",
     "output_type": "stream",
     "text": [
      " 15%|█▍        | 146/1000 [51:00<6:05:22, 25.67s/it]"
     ]
    },
    {
     "name": "stdout",
     "output_type": "stream",
     "text": [
      "eigenvalues shape torch.Size([5]) eigenvectors shape torch.Size([5, 400])\n",
      "146 /home/phdcs2/Hard_Disk/Datasets/Deep-Spectral-Segmentation/data/object-segmentation/ECSSD/features/dino_vits16/0147.pth\n",
      "dict_keys(['k', 'indices', 'file', 'id', 'model_name', 'patch_size', 'shape'])\n",
      "0147\n",
      "Starting Training\n",
      "epoch: 00, loss: -0.01954\n",
      "epoch: 01, loss: -0.04068\n",
      "epoch: 02, loss: -0.04232\n",
      "epoch: 03, loss: -0.04284\n",
      "epoch: 04, loss: -0.04337\n",
      "epoch: 05, loss: -0.04334\n",
      "epoch: 06, loss: -0.04361\n",
      "epoch: 07, loss: -0.04384\n",
      "epoch: 08, loss: -0.04385\n",
      "epoch: 09, loss: -0.04400\n",
      "torch.Size([550, 64])\n"
     ]
    },
    {
     "name": "stderr",
     "output_type": "stream",
     "text": [
      " 15%|█▍        | 147/1000 [51:44<7:24:19, 31.25s/it]"
     ]
    },
    {
     "name": "stdout",
     "output_type": "stream",
     "text": [
      "eigenvalues shape torch.Size([5]) eigenvectors shape torch.Size([5, 550])\n",
      "147 /home/phdcs2/Hard_Disk/Datasets/Deep-Spectral-Segmentation/data/object-segmentation/ECSSD/features/dino_vits16/0148.pth\n",
      "dict_keys(['k', 'indices', 'file', 'id', 'model_name', 'patch_size', 'shape'])\n",
      "0148\n",
      "Starting Training\n",
      "epoch: 00, loss: -0.05134\n",
      "epoch: 01, loss: -0.07464\n",
      "epoch: 02, loss: -0.07414\n",
      "epoch: 03, loss: -0.07560\n",
      "epoch: 04, loss: -0.07588\n",
      "epoch: 05, loss: -0.07591\n",
      "epoch: 06, loss: -0.07637\n",
      "epoch: 07, loss: -0.07589\n",
      "epoch: 08, loss: -0.07684\n",
      "epoch: 09, loss: -0.07592\n",
      "torch.Size([400, 64])\n"
     ]
    },
    {
     "name": "stderr",
     "output_type": "stream",
     "text": [
      " 15%|█▍        | 148/1000 [52:06<6:41:28, 28.27s/it]"
     ]
    },
    {
     "name": "stdout",
     "output_type": "stream",
     "text": [
      "eigenvalues shape torch.Size([5]) eigenvectors shape torch.Size([5, 400])\n",
      "148 /home/phdcs2/Hard_Disk/Datasets/Deep-Spectral-Segmentation/data/object-segmentation/ECSSD/features/dino_vits16/0149.pth\n",
      "dict_keys(['k', 'indices', 'file', 'id', 'model_name', 'patch_size', 'shape'])\n",
      "0149\n",
      "Starting Training\n",
      "epoch: 00, loss: -0.02489\n",
      "epoch: 01, loss: -0.05232\n",
      "epoch: 02, loss: -0.05452\n",
      "epoch: 03, loss: -0.05509\n",
      "epoch: 04, loss: -0.05543\n",
      "epoch: 05, loss: -0.05569\n",
      "epoch: 06, loss: -0.05563\n",
      "epoch: 07, loss: -0.05596\n",
      "epoch: 08, loss: -0.05622\n",
      "epoch: 09, loss: -0.05629\n",
      "torch.Size([400, 64])\n"
     ]
    },
    {
     "name": "stderr",
     "output_type": "stream",
     "text": [
      " 15%|█▍        | 149/1000 [52:28<6:16:45, 26.56s/it]"
     ]
    },
    {
     "name": "stdout",
     "output_type": "stream",
     "text": [
      "eigenvalues shape torch.Size([5]) eigenvectors shape torch.Size([5, 400])\n",
      "149 /home/phdcs2/Hard_Disk/Datasets/Deep-Spectral-Segmentation/data/object-segmentation/ECSSD/features/dino_vits16/0150.pth\n",
      "dict_keys(['k', 'indices', 'file', 'id', 'model_name', 'patch_size', 'shape'])\n",
      "0150\n",
      "Starting Training\n",
      "epoch: 00, loss: -0.02668\n",
      "epoch: 01, loss: -0.04230\n",
      "epoch: 02, loss: -0.04365\n",
      "epoch: 03, loss: -0.04424\n",
      "epoch: 04, loss: -0.04483\n",
      "epoch: 05, loss: -0.04481\n",
      "epoch: 06, loss: -0.04463\n",
      "epoch: 07, loss: -0.04474\n",
      "epoch: 08, loss: -0.04490\n",
      "epoch: 09, loss: -0.04507\n",
      "torch.Size([450, 64])\n"
     ]
    },
    {
     "name": "stderr",
     "output_type": "stream",
     "text": [
      " 15%|█▌        | 150/1000 [52:55<6:18:53, 26.75s/it]"
     ]
    },
    {
     "name": "stdout",
     "output_type": "stream",
     "text": [
      "eigenvalues shape torch.Size([5]) eigenvectors shape torch.Size([5, 450])\n",
      "150 /home/phdcs2/Hard_Disk/Datasets/Deep-Spectral-Segmentation/data/object-segmentation/ECSSD/features/dino_vits16/0151.pth\n",
      "dict_keys(['k', 'indices', 'file', 'id', 'model_name', 'patch_size', 'shape'])\n",
      "0151\n",
      "Starting Training\n",
      "epoch: 00, loss: -0.07111\n",
      "epoch: 01, loss: -0.09154\n",
      "epoch: 02, loss: -0.09258\n",
      "epoch: 03, loss: -0.09313\n",
      "epoch: 04, loss: -0.09350\n",
      "epoch: 05, loss: -0.09347\n",
      "epoch: 06, loss: -0.09368\n",
      "epoch: 07, loss: -0.09221\n",
      "epoch: 08, loss: -0.09245\n",
      "epoch: 09, loss: -0.09357\n",
      "torch.Size([525, 64])\n"
     ]
    },
    {
     "name": "stderr",
     "output_type": "stream",
     "text": [
      " 15%|█▌        | 151/1000 [53:24<6:28:01, 27.42s/it]"
     ]
    },
    {
     "name": "stdout",
     "output_type": "stream",
     "text": [
      "eigenvalues shape torch.Size([5]) eigenvectors shape torch.Size([5, 525])\n",
      "151 /home/phdcs2/Hard_Disk/Datasets/Deep-Spectral-Segmentation/data/object-segmentation/ECSSD/features/dino_vits16/0152.pth\n",
      "dict_keys(['k', 'indices', 'file', 'id', 'model_name', 'patch_size', 'shape'])\n",
      "0152\n",
      "Starting Training\n",
      "epoch: 00, loss: -0.05102\n",
      "epoch: 01, loss: -0.07409\n",
      "epoch: 02, loss: -0.07459\n",
      "epoch: 03, loss: -0.07484\n",
      "epoch: 04, loss: -0.07545\n",
      "epoch: 05, loss: -0.07576\n",
      "epoch: 06, loss: -0.07593\n",
      "epoch: 07, loss: -0.07595\n",
      "epoch: 08, loss: -0.07593\n",
      "epoch: 09, loss: -0.07599\n",
      "torch.Size([450, 64])\n"
     ]
    },
    {
     "name": "stderr",
     "output_type": "stream",
     "text": [
      " 15%|█▌        | 152/1000 [53:46<6:04:16, 25.77s/it]"
     ]
    },
    {
     "name": "stdout",
     "output_type": "stream",
     "text": [
      "eigenvalues shape torch.Size([5]) eigenvectors shape torch.Size([5, 450])\n",
      "152 /home/phdcs2/Hard_Disk/Datasets/Deep-Spectral-Segmentation/data/object-segmentation/ECSSD/features/dino_vits16/0153.pth\n",
      "dict_keys(['k', 'indices', 'file', 'id', 'model_name', 'patch_size', 'shape'])\n",
      "0153\n",
      "Starting Training\n",
      "epoch: 00, loss: -0.00651\n",
      "epoch: 01, loss: -0.02146\n",
      "epoch: 02, loss: -0.02498\n",
      "epoch: 03, loss: -0.02623\n",
      "epoch: 04, loss: -0.02698\n",
      "epoch: 05, loss: -0.02725\n",
      "epoch: 06, loss: -0.02750\n",
      "epoch: 07, loss: -0.02758\n",
      "epoch: 08, loss: -0.02776\n",
      "epoch: 09, loss: -0.02795\n",
      "torch.Size([450, 64])\n"
     ]
    },
    {
     "name": "stderr",
     "output_type": "stream",
     "text": [
      " 15%|█▌        | 153/1000 [54:09<5:51:50, 24.92s/it]"
     ]
    },
    {
     "name": "stdout",
     "output_type": "stream",
     "text": [
      "eigenvalues shape torch.Size([5]) eigenvectors shape torch.Size([5, 450])\n",
      "153 /home/phdcs2/Hard_Disk/Datasets/Deep-Spectral-Segmentation/data/object-segmentation/ECSSD/features/dino_vits16/0154.pth\n",
      "dict_keys(['k', 'indices', 'file', 'id', 'model_name', 'patch_size', 'shape'])\n",
      "0154\n",
      "Starting Training\n",
      "epoch: 00, loss: -0.03377\n",
      "epoch: 01, loss: -0.06574\n",
      "epoch: 02, loss: -0.07329\n",
      "epoch: 03, loss: -0.07509\n",
      "epoch: 04, loss: -0.07637\n",
      "epoch: 05, loss: -0.07607\n",
      "epoch: 06, loss: -0.07612\n",
      "epoch: 07, loss: -0.07777\n",
      "epoch: 08, loss: -0.07767\n",
      "epoch: 09, loss: -0.07810\n",
      "torch.Size([450, 64])\n"
     ]
    },
    {
     "name": "stderr",
     "output_type": "stream",
     "text": [
      " 15%|█▌        | 154/1000 [54:31<5:37:09, 23.91s/it]"
     ]
    },
    {
     "name": "stdout",
     "output_type": "stream",
     "text": [
      "eigenvalues shape torch.Size([5]) eigenvectors shape torch.Size([5, 450])\n",
      "154 /home/phdcs2/Hard_Disk/Datasets/Deep-Spectral-Segmentation/data/object-segmentation/ECSSD/features/dino_vits16/0155.pth\n",
      "dict_keys(['k', 'indices', 'file', 'id', 'model_name', 'patch_size', 'shape'])\n",
      "0155\n",
      "Starting Training\n",
      "epoch: 00, loss: -0.03155\n",
      "epoch: 01, loss: -0.04683\n",
      "epoch: 02, loss: -0.04854\n",
      "epoch: 03, loss: -0.04988\n",
      "epoch: 04, loss: -0.04956\n",
      "epoch: 05, loss: -0.04985\n",
      "epoch: 06, loss: -0.04943\n",
      "epoch: 07, loss: -0.04976\n",
      "epoch: 08, loss: -0.04980\n",
      "epoch: 09, loss: -0.05014\n",
      "torch.Size([475, 64])\n"
     ]
    },
    {
     "name": "stderr",
     "output_type": "stream",
     "text": [
      " 16%|█▌        | 155/1000 [55:00<5:57:28, 25.38s/it]"
     ]
    },
    {
     "name": "stdout",
     "output_type": "stream",
     "text": [
      "eigenvalues shape torch.Size([5]) eigenvectors shape torch.Size([5, 475])\n",
      "155 /home/phdcs2/Hard_Disk/Datasets/Deep-Spectral-Segmentation/data/object-segmentation/ECSSD/features/dino_vits16/0156.pth\n",
      "dict_keys(['k', 'indices', 'file', 'id', 'model_name', 'patch_size', 'shape'])\n",
      "0156\n",
      "Starting Training\n",
      "epoch: 00, loss: -0.05342\n",
      "epoch: 01, loss: -0.07444\n",
      "epoch: 02, loss: -0.07490\n",
      "epoch: 03, loss: -0.07510\n",
      "epoch: 04, loss: -0.07531\n",
      "epoch: 05, loss: -0.07606\n",
      "epoch: 06, loss: -0.07637\n",
      "epoch: 07, loss: -0.07644\n",
      "epoch: 08, loss: -0.07657\n",
      "epoch: 09, loss: -0.07633\n",
      "torch.Size([400, 64])\n"
     ]
    },
    {
     "name": "stderr",
     "output_type": "stream",
     "text": [
      " 16%|█▌        | 156/1000 [55:23<5:47:19, 24.69s/it]"
     ]
    },
    {
     "name": "stdout",
     "output_type": "stream",
     "text": [
      "eigenvalues shape torch.Size([5]) eigenvectors shape torch.Size([5, 400])\n",
      "156 /home/phdcs2/Hard_Disk/Datasets/Deep-Spectral-Segmentation/data/object-segmentation/ECSSD/features/dino_vits16/0157.pth\n",
      "dict_keys(['k', 'indices', 'file', 'id', 'model_name', 'patch_size', 'shape'])\n",
      "0157\n",
      "Starting Training\n",
      "epoch: 00, loss: -0.02367\n",
      "epoch: 01, loss: -0.04520\n",
      "epoch: 02, loss: -0.04776\n",
      "epoch: 03, loss: -0.05412\n",
      "epoch: 04, loss: -0.05182\n",
      "epoch: 05, loss: -0.05679\n",
      "epoch: 06, loss: -0.05637\n",
      "epoch: 07, loss: -0.05609\n",
      "epoch: 08, loss: -0.05501\n",
      "epoch: 09, loss: -0.05791\n",
      "torch.Size([375, 64])\n"
     ]
    },
    {
     "name": "stderr",
     "output_type": "stream",
     "text": [
      " 16%|█▌        | 157/1000 [55:46<5:39:38, 24.17s/it]"
     ]
    },
    {
     "name": "stdout",
     "output_type": "stream",
     "text": [
      "eigenvalues shape torch.Size([5]) eigenvectors shape torch.Size([5, 375])\n",
      "157 /home/phdcs2/Hard_Disk/Datasets/Deep-Spectral-Segmentation/data/object-segmentation/ECSSD/features/dino_vits16/0158.pth\n",
      "dict_keys(['k', 'indices', 'file', 'id', 'model_name', 'patch_size', 'shape'])\n",
      "0158\n",
      "Starting Training\n",
      "epoch: 00, loss: -0.13140\n",
      "epoch: 01, loss: -0.16715\n",
      "epoch: 02, loss: -0.16982\n",
      "epoch: 03, loss: -0.17240\n",
      "epoch: 04, loss: -0.17260\n",
      "epoch: 05, loss: -0.17327\n",
      "epoch: 06, loss: -0.17298\n",
      "epoch: 07, loss: -0.17197\n",
      "epoch: 08, loss: -0.17414\n",
      "epoch: 09, loss: -0.17450\n",
      "torch.Size([300, 64])\n"
     ]
    },
    {
     "name": "stderr",
     "output_type": "stream",
     "text": [
      " 16%|█▌        | 158/1000 [56:01<5:01:48, 21.51s/it]"
     ]
    },
    {
     "name": "stdout",
     "output_type": "stream",
     "text": [
      "eigenvalues shape torch.Size([5]) eigenvectors shape torch.Size([5, 300])\n",
      "158 /home/phdcs2/Hard_Disk/Datasets/Deep-Spectral-Segmentation/data/object-segmentation/ECSSD/features/dino_vits16/0159.pth\n",
      "dict_keys(['k', 'indices', 'file', 'id', 'model_name', 'patch_size', 'shape'])\n",
      "0159\n",
      "Starting Training\n",
      "epoch: 00, loss: -0.04161\n",
      "epoch: 01, loss: -0.07746\n",
      "epoch: 02, loss: -0.07781\n",
      "epoch: 03, loss: -0.08276\n",
      "epoch: 04, loss: -0.08321\n",
      "epoch: 05, loss: -0.07883\n",
      "epoch: 06, loss: -0.08337\n",
      "epoch: 07, loss: -0.08455\n",
      "epoch: 08, loss: -0.08310\n",
      "epoch: 09, loss: -0.08548\n",
      "torch.Size([425, 64])\n"
     ]
    },
    {
     "name": "stderr",
     "output_type": "stream",
     "text": [
      " 16%|█▌        | 159/1000 [56:31<5:37:11, 24.06s/it]"
     ]
    },
    {
     "name": "stdout",
     "output_type": "stream",
     "text": [
      "eigenvalues shape torch.Size([5]) eigenvectors shape torch.Size([5, 425])\n",
      "159 /home/phdcs2/Hard_Disk/Datasets/Deep-Spectral-Segmentation/data/object-segmentation/ECSSD/features/dino_vits16/0160.pth\n",
      "dict_keys(['k', 'indices', 'file', 'id', 'model_name', 'patch_size', 'shape'])\n",
      "0160\n",
      "Starting Training\n",
      "epoch: 00, loss: -0.03737\n",
      "epoch: 01, loss: -0.06610\n",
      "epoch: 02, loss: -0.07003\n",
      "epoch: 03, loss: -0.07091\n",
      "epoch: 04, loss: -0.07178\n",
      "epoch: 05, loss: -0.07253\n",
      "epoch: 06, loss: -0.07284\n",
      "epoch: 07, loss: -0.07249\n",
      "epoch: 08, loss: -0.07277\n",
      "epoch: 09, loss: -0.07296\n",
      "torch.Size([400, 64])\n"
     ]
    },
    {
     "name": "stderr",
     "output_type": "stream",
     "text": [
      " 16%|█▌        | 160/1000 [56:57<5:46:33, 24.75s/it]"
     ]
    },
    {
     "name": "stdout",
     "output_type": "stream",
     "text": [
      "eigenvalues shape torch.Size([5]) eigenvectors shape torch.Size([5, 400])\n",
      "160 /home/phdcs2/Hard_Disk/Datasets/Deep-Spectral-Segmentation/data/object-segmentation/ECSSD/features/dino_vits16/0161.pth\n",
      "dict_keys(['k', 'indices', 'file', 'id', 'model_name', 'patch_size', 'shape'])\n",
      "0161\n",
      "Starting Training\n",
      "epoch: 00, loss: -0.00055\n",
      "epoch: 01, loss: -0.01600\n",
      "epoch: 02, loss: -0.02093\n",
      "epoch: 03, loss: -0.02251\n",
      "epoch: 04, loss: -0.02329\n",
      "epoch: 05, loss: -0.02358\n",
      "epoch: 06, loss: -0.02399\n",
      "epoch: 07, loss: -0.02402\n",
      "epoch: 08, loss: -0.02421\n",
      "epoch: 09, loss: -0.02422\n",
      "torch.Size([450, 64])\n"
     ]
    },
    {
     "name": "stderr",
     "output_type": "stream",
     "text": [
      " 16%|█▌        | 161/1000 [57:26<6:00:31, 25.78s/it]"
     ]
    },
    {
     "name": "stdout",
     "output_type": "stream",
     "text": [
      "eigenvalues shape torch.Size([5]) eigenvectors shape torch.Size([5, 450])\n",
      "161 /home/phdcs2/Hard_Disk/Datasets/Deep-Spectral-Segmentation/data/object-segmentation/ECSSD/features/dino_vits16/0162.pth\n",
      "dict_keys(['k', 'indices', 'file', 'id', 'model_name', 'patch_size', 'shape'])\n",
      "0162\n",
      "Starting Training\n",
      "epoch: 00, loss: -0.04979\n",
      "epoch: 01, loss: -0.07008\n",
      "epoch: 02, loss: -0.07053\n",
      "epoch: 03, loss: -0.07108\n",
      "epoch: 04, loss: -0.07114\n",
      "epoch: 05, loss: -0.07150\n",
      "epoch: 06, loss: -0.07143\n",
      "epoch: 07, loss: -0.07164\n",
      "epoch: 08, loss: -0.07161\n",
      "epoch: 09, loss: -0.07187\n",
      "torch.Size([450, 64])\n"
     ]
    },
    {
     "name": "stderr",
     "output_type": "stream",
     "text": [
      " 16%|█▌        | 162/1000 [57:47<5:39:59, 24.34s/it]"
     ]
    },
    {
     "name": "stdout",
     "output_type": "stream",
     "text": [
      "eigenvalues shape torch.Size([5]) eigenvectors shape torch.Size([5, 450])\n",
      "162 /home/phdcs2/Hard_Disk/Datasets/Deep-Spectral-Segmentation/data/object-segmentation/ECSSD/features/dino_vits16/0163.pth\n",
      "dict_keys(['k', 'indices', 'file', 'id', 'model_name', 'patch_size', 'shape'])\n",
      "0163\n",
      "Starting Training\n",
      "epoch: 00, loss: -0.02835\n",
      "epoch: 01, loss: -0.06567\n",
      "epoch: 02, loss: -0.07003\n",
      "epoch: 03, loss: -0.06996\n",
      "epoch: 04, loss: -0.07489\n",
      "epoch: 05, loss: -0.07351\n",
      "epoch: 06, loss: -0.07944\n",
      "epoch: 07, loss: -0.07565\n",
      "epoch: 08, loss: -0.07568\n",
      "epoch: 09, loss: -0.07416\n",
      "torch.Size([400, 64])\n"
     ]
    },
    {
     "name": "stderr",
     "output_type": "stream",
     "text": [
      " 16%|█▋        | 163/1000 [58:08<5:27:43, 23.49s/it]"
     ]
    },
    {
     "name": "stdout",
     "output_type": "stream",
     "text": [
      "eigenvalues shape torch.Size([5]) eigenvectors shape torch.Size([5, 400])\n",
      "163 /home/phdcs2/Hard_Disk/Datasets/Deep-Spectral-Segmentation/data/object-segmentation/ECSSD/features/dino_vits16/0164.pth\n",
      "dict_keys(['k', 'indices', 'file', 'id', 'model_name', 'patch_size', 'shape'])\n",
      "0164\n",
      "Starting Training\n",
      "epoch: 00, loss: -0.08400\n",
      "epoch: 01, loss: -0.11103\n",
      "epoch: 02, loss: -0.11304\n",
      "epoch: 03, loss: -0.11515\n",
      "epoch: 04, loss: -0.11668\n",
      "epoch: 05, loss: -0.11533\n",
      "epoch: 06, loss: -0.11623\n",
      "epoch: 07, loss: -0.11837\n",
      "epoch: 08, loss: -0.11820\n",
      "epoch: 09, loss: -0.11960\n",
      "torch.Size([550, 64])\n"
     ]
    },
    {
     "name": "stderr",
     "output_type": "stream",
     "text": [
      " 16%|█▋        | 164/1000 [58:40<6:03:25, 26.08s/it]"
     ]
    },
    {
     "name": "stdout",
     "output_type": "stream",
     "text": [
      "eigenvalues shape torch.Size([5]) eigenvectors shape torch.Size([5, 550])\n",
      "164 /home/phdcs2/Hard_Disk/Datasets/Deep-Spectral-Segmentation/data/object-segmentation/ECSSD/features/dino_vits16/0165.pth\n",
      "dict_keys(['k', 'indices', 'file', 'id', 'model_name', 'patch_size', 'shape'])\n",
      "0165\n",
      "Starting Training\n",
      "epoch: 00, loss: -0.02476\n",
      "epoch: 01, loss: -0.04684\n",
      "epoch: 02, loss: -0.04888\n",
      "epoch: 03, loss: -0.05117\n",
      "epoch: 04, loss: -0.05133\n",
      "epoch: 05, loss: -0.05043\n",
      "epoch: 06, loss: -0.05185\n",
      "epoch: 07, loss: -0.05102\n",
      "epoch: 08, loss: -0.05117\n",
      "epoch: 09, loss: -0.05214\n",
      "torch.Size([450, 64])\n"
     ]
    },
    {
     "name": "stderr",
     "output_type": "stream",
     "text": [
      " 16%|█▋        | 165/1000 [59:14<6:36:29, 28.49s/it]"
     ]
    },
    {
     "name": "stdout",
     "output_type": "stream",
     "text": [
      "eigenvalues shape torch.Size([5]) eigenvectors shape torch.Size([5, 450])\n",
      "165 /home/phdcs2/Hard_Disk/Datasets/Deep-Spectral-Segmentation/data/object-segmentation/ECSSD/features/dino_vits16/0166.pth\n",
      "dict_keys(['k', 'indices', 'file', 'id', 'model_name', 'patch_size', 'shape'])\n",
      "0166\n",
      "Starting Training\n",
      "epoch: 00, loss: -0.01491\n",
      "epoch: 01, loss: -0.04024\n",
      "epoch: 02, loss: -0.04342\n",
      "epoch: 03, loss: -0.04406\n",
      "epoch: 04, loss: -0.04437\n",
      "epoch: 05, loss: -0.04480\n",
      "epoch: 06, loss: -0.04498\n",
      "epoch: 07, loss: -0.04520\n",
      "epoch: 08, loss: -0.04537\n",
      "epoch: 09, loss: -0.04545\n",
      "torch.Size([400, 64])\n"
     ]
    },
    {
     "name": "stderr",
     "output_type": "stream",
     "text": [
      " 17%|█▋        | 166/1000 [59:40<6:24:32, 27.66s/it]"
     ]
    },
    {
     "name": "stdout",
     "output_type": "stream",
     "text": [
      "eigenvalues shape torch.Size([5]) eigenvectors shape torch.Size([5, 400])\n",
      "166 /home/phdcs2/Hard_Disk/Datasets/Deep-Spectral-Segmentation/data/object-segmentation/ECSSD/features/dino_vits16/0167.pth\n",
      "dict_keys(['k', 'indices', 'file', 'id', 'model_name', 'patch_size', 'shape'])\n",
      "0167\n",
      "Starting Training\n",
      "epoch: 00, loss: -0.06253\n",
      "epoch: 01, loss: -0.08808\n",
      "epoch: 02, loss: -0.09221\n",
      "epoch: 03, loss: -0.09317\n",
      "epoch: 04, loss: -0.09359\n",
      "epoch: 05, loss: -0.09494\n",
      "epoch: 06, loss: -0.09475\n",
      "epoch: 07, loss: -0.09639\n",
      "epoch: 08, loss: -0.09590\n",
      "epoch: 09, loss: -0.09564\n",
      "torch.Size([450, 64])\n"
     ]
    },
    {
     "name": "stderr",
     "output_type": "stream",
     "text": [
      " 17%|█▋        | 167/1000 [1:00:06<6:16:22, 27.11s/it]"
     ]
    },
    {
     "name": "stdout",
     "output_type": "stream",
     "text": [
      "eigenvalues shape torch.Size([5]) eigenvectors shape torch.Size([5, 450])\n",
      "167 /home/phdcs2/Hard_Disk/Datasets/Deep-Spectral-Segmentation/data/object-segmentation/ECSSD/features/dino_vits16/0168.pth\n",
      "dict_keys(['k', 'indices', 'file', 'id', 'model_name', 'patch_size', 'shape'])\n",
      "0168\n",
      "Starting Training\n",
      "epoch: 00, loss: -0.05171\n",
      "epoch: 01, loss: -0.07566\n",
      "epoch: 02, loss: -0.07699\n",
      "epoch: 03, loss: -0.07742\n",
      "epoch: 04, loss: -0.07754\n",
      "epoch: 05, loss: -0.07781\n",
      "epoch: 06, loss: -0.07816\n",
      "epoch: 07, loss: -0.07817\n",
      "epoch: 08, loss: -0.07820\n",
      "epoch: 09, loss: -0.07825\n",
      "torch.Size([400, 64])\n"
     ]
    },
    {
     "name": "stderr",
     "output_type": "stream",
     "text": [
      " 17%|█▋        | 168/1000 [1:00:31<6:06:47, 26.45s/it]"
     ]
    },
    {
     "name": "stdout",
     "output_type": "stream",
     "text": [
      "eigenvalues shape torch.Size([5]) eigenvectors shape torch.Size([5, 400])\n",
      "168 /home/phdcs2/Hard_Disk/Datasets/Deep-Spectral-Segmentation/data/object-segmentation/ECSSD/features/dino_vits16/0169.pth\n",
      "dict_keys(['k', 'indices', 'file', 'id', 'model_name', 'patch_size', 'shape'])\n",
      "0169\n",
      "Starting Training\n",
      "epoch: 00, loss: -0.01194\n",
      "epoch: 01, loss: -0.03696\n",
      "epoch: 02, loss: -0.04095\n",
      "epoch: 03, loss: -0.04169\n",
      "epoch: 04, loss: -0.04233\n",
      "epoch: 05, loss: -0.04270\n",
      "epoch: 06, loss: -0.04288\n",
      "epoch: 07, loss: -0.04291\n",
      "epoch: 08, loss: -0.04306\n",
      "epoch: 09, loss: -0.04320\n",
      "torch.Size([400, 64])\n"
     ]
    },
    {
     "name": "stderr",
     "output_type": "stream",
     "text": [
      " 17%|█▋        | 169/1000 [1:00:52<5:46:09, 24.99s/it]"
     ]
    },
    {
     "name": "stdout",
     "output_type": "stream",
     "text": [
      "eigenvalues shape torch.Size([5]) eigenvectors shape torch.Size([5, 400])\n",
      "169 /home/phdcs2/Hard_Disk/Datasets/Deep-Spectral-Segmentation/data/object-segmentation/ECSSD/features/dino_vits16/0170.pth\n",
      "dict_keys(['k', 'indices', 'file', 'id', 'model_name', 'patch_size', 'shape'])\n",
      "0170\n",
      "Starting Training\n",
      "epoch: 00, loss: -0.04838\n",
      "epoch: 01, loss: -0.06301\n",
      "epoch: 02, loss: -0.06419\n",
      "epoch: 03, loss: -0.06423\n",
      "epoch: 04, loss: -0.06474\n",
      "epoch: 05, loss: -0.06487\n",
      "epoch: 06, loss: -0.06526\n",
      "epoch: 07, loss: -0.06558\n",
      "epoch: 08, loss: -0.06541\n",
      "epoch: 09, loss: -0.06542\n",
      "torch.Size([450, 64])\n"
     ]
    },
    {
     "name": "stderr",
     "output_type": "stream",
     "text": [
      " 17%|█▋        | 170/1000 [1:01:18<5:49:22, 25.26s/it]"
     ]
    },
    {
     "name": "stdout",
     "output_type": "stream",
     "text": [
      "eigenvalues shape torch.Size([5]) eigenvectors shape torch.Size([5, 450])\n",
      "170 /home/phdcs2/Hard_Disk/Datasets/Deep-Spectral-Segmentation/data/object-segmentation/ECSSD/features/dino_vits16/0171.pth\n",
      "dict_keys(['k', 'indices', 'file', 'id', 'model_name', 'patch_size', 'shape'])\n",
      "0171\n",
      "Starting Training\n",
      "epoch: 00, loss: -0.03247\n",
      "epoch: 01, loss: -0.06337\n",
      "epoch: 02, loss: -0.06309\n",
      "epoch: 03, loss: -0.06418\n",
      "epoch: 04, loss: -0.06546\n",
      "epoch: 05, loss: -0.06450\n",
      "epoch: 06, loss: -0.06410\n",
      "epoch: 07, loss: -0.06411\n",
      "epoch: 08, loss: -0.06582\n",
      "epoch: 09, loss: -0.06438\n",
      "torch.Size([375, 64])\n"
     ]
    },
    {
     "name": "stderr",
     "output_type": "stream",
     "text": [
      " 17%|█▋        | 171/1000 [1:01:35<5:15:39, 22.85s/it]"
     ]
    },
    {
     "name": "stdout",
     "output_type": "stream",
     "text": [
      "eigenvalues shape torch.Size([5]) eigenvectors shape torch.Size([5, 375])\n",
      "171 /home/phdcs2/Hard_Disk/Datasets/Deep-Spectral-Segmentation/data/object-segmentation/ECSSD/features/dino_vits16/0172.pth\n",
      "dict_keys(['k', 'indices', 'file', 'id', 'model_name', 'patch_size', 'shape'])\n",
      "0172\n",
      "Starting Training\n",
      "epoch: 00, loss: -0.03684\n",
      "epoch: 01, loss: -0.06701\n",
      "epoch: 02, loss: -0.06721\n",
      "epoch: 03, loss: -0.06874\n",
      "epoch: 04, loss: -0.06848\n",
      "epoch: 05, loss: -0.06845\n",
      "epoch: 06, loss: -0.07006\n",
      "epoch: 07, loss: -0.06936\n",
      "epoch: 08, loss: -0.06936\n",
      "epoch: 09, loss: -0.06921\n",
      "torch.Size([375, 64])\n"
     ]
    },
    {
     "name": "stderr",
     "output_type": "stream",
     "text": [
      " 17%|█▋        | 172/1000 [1:01:58<5:15:06, 22.83s/it]"
     ]
    },
    {
     "name": "stdout",
     "output_type": "stream",
     "text": [
      "eigenvalues shape torch.Size([5]) eigenvectors shape torch.Size([5, 375])\n",
      "172 /home/phdcs2/Hard_Disk/Datasets/Deep-Spectral-Segmentation/data/object-segmentation/ECSSD/features/dino_vits16/0173.pth\n",
      "dict_keys(['k', 'indices', 'file', 'id', 'model_name', 'patch_size', 'shape'])\n",
      "0173\n",
      "Starting Training\n",
      "epoch: 00, loss: -0.10428\n",
      "epoch: 01, loss: -0.13884\n",
      "epoch: 02, loss: -0.14272\n",
      "epoch: 03, loss: -0.14580\n",
      "epoch: 04, loss: -0.14891\n",
      "epoch: 05, loss: -0.14807\n",
      "epoch: 06, loss: -0.14652\n",
      "epoch: 07, loss: -0.14949\n",
      "epoch: 08, loss: -0.15091\n",
      "epoch: 09, loss: -0.14742\n",
      "torch.Size([450, 64])\n"
     ]
    },
    {
     "name": "stderr",
     "output_type": "stream",
     "text": [
      " 17%|█▋        | 173/1000 [1:02:22<5:20:31, 23.25s/it]"
     ]
    },
    {
     "name": "stdout",
     "output_type": "stream",
     "text": [
      "eigenvalues shape torch.Size([5]) eigenvectors shape torch.Size([5, 450])\n",
      "173 /home/phdcs2/Hard_Disk/Datasets/Deep-Spectral-Segmentation/data/object-segmentation/ECSSD/features/dino_vits16/0174.pth\n",
      "dict_keys(['k', 'indices', 'file', 'id', 'model_name', 'patch_size', 'shape'])\n",
      "0174\n",
      "Starting Training\n",
      "epoch: 00, loss: -0.02786\n",
      "epoch: 01, loss: -0.05573\n",
      "epoch: 02, loss: -0.05956\n",
      "epoch: 03, loss: -0.06074\n",
      "epoch: 04, loss: -0.06526\n",
      "epoch: 05, loss: -0.06497\n",
      "epoch: 06, loss: -0.06450\n",
      "epoch: 07, loss: -0.06575\n",
      "epoch: 08, loss: -0.06522\n",
      "epoch: 09, loss: -0.06794\n",
      "torch.Size([375, 64])\n"
     ]
    },
    {
     "name": "stderr",
     "output_type": "stream",
     "text": [
      " 17%|█▋        | 174/1000 [1:02:42<5:03:28, 22.04s/it]"
     ]
    },
    {
     "name": "stdout",
     "output_type": "stream",
     "text": [
      "eigenvalues shape torch.Size([5]) eigenvectors shape torch.Size([5, 375])\n",
      "174 /home/phdcs2/Hard_Disk/Datasets/Deep-Spectral-Segmentation/data/object-segmentation/ECSSD/features/dino_vits16/0175.pth\n",
      "dict_keys(['k', 'indices', 'file', 'id', 'model_name', 'patch_size', 'shape'])\n",
      "0175\n",
      "Starting Training\n",
      "epoch: 00, loss: -0.01980\n",
      "epoch: 01, loss: -0.03459\n",
      "epoch: 02, loss: -0.03718\n",
      "epoch: 03, loss: -0.03784\n",
      "epoch: 04, loss: -0.03820\n",
      "epoch: 05, loss: -0.03857\n",
      "epoch: 06, loss: -0.03886\n",
      "epoch: 07, loss: -0.03902\n",
      "epoch: 08, loss: -0.03906\n",
      "epoch: 09, loss: -0.03919\n",
      "torch.Size([450, 64])\n"
     ]
    },
    {
     "name": "stderr",
     "output_type": "stream",
     "text": [
      " 18%|█▊        | 175/1000 [1:03:10<5:27:33, 23.82s/it]"
     ]
    },
    {
     "name": "stdout",
     "output_type": "stream",
     "text": [
      "eigenvalues shape torch.Size([5]) eigenvectors shape torch.Size([5, 450])\n",
      "175 /home/phdcs2/Hard_Disk/Datasets/Deep-Spectral-Segmentation/data/object-segmentation/ECSSD/features/dino_vits16/0176.pth\n",
      "dict_keys(['k', 'indices', 'file', 'id', 'model_name', 'patch_size', 'shape'])\n",
      "0176\n",
      "Starting Training\n",
      "epoch: 00, loss: -0.02107\n",
      "epoch: 01, loss: -0.04397\n",
      "epoch: 02, loss: -0.04590\n",
      "epoch: 03, loss: -0.04659\n",
      "epoch: 04, loss: -0.04686\n",
      "epoch: 05, loss: -0.04688\n",
      "epoch: 06, loss: -0.04715\n",
      "epoch: 07, loss: -0.04736\n",
      "epoch: 08, loss: -0.04737\n",
      "epoch: 09, loss: -0.04756\n",
      "torch.Size([550, 64])\n"
     ]
    },
    {
     "name": "stderr",
     "output_type": "stream",
     "text": [
      " 18%|█▊        | 176/1000 [1:03:50<6:36:09, 28.85s/it]"
     ]
    },
    {
     "name": "stdout",
     "output_type": "stream",
     "text": [
      "eigenvalues shape torch.Size([5]) eigenvectors shape torch.Size([5, 550])\n",
      "176 /home/phdcs2/Hard_Disk/Datasets/Deep-Spectral-Segmentation/data/object-segmentation/ECSSD/features/dino_vits16/0177.pth\n",
      "dict_keys(['k', 'indices', 'file', 'id', 'model_name', 'patch_size', 'shape'])\n",
      "0177\n",
      "Starting Training\n",
      "epoch: 00, loss: -0.03413\n",
      "epoch: 01, loss: -0.06839\n",
      "epoch: 02, loss: -0.07392\n",
      "epoch: 03, loss: -0.07390\n",
      "epoch: 04, loss: -0.07583\n",
      "epoch: 05, loss: -0.07644\n",
      "epoch: 06, loss: -0.07752\n",
      "epoch: 07, loss: -0.07713\n",
      "epoch: 08, loss: -0.07910\n",
      "epoch: 09, loss: -0.07808\n",
      "torch.Size([400, 64])\n"
     ]
    },
    {
     "name": "stderr",
     "output_type": "stream",
     "text": [
      " 18%|█▊        | 177/1000 [1:04:15<6:17:48, 27.54s/it]"
     ]
    },
    {
     "name": "stdout",
     "output_type": "stream",
     "text": [
      "eigenvalues shape torch.Size([5]) eigenvectors shape torch.Size([5, 400])\n",
      "177 /home/phdcs2/Hard_Disk/Datasets/Deep-Spectral-Segmentation/data/object-segmentation/ECSSD/features/dino_vits16/0178.pth\n",
      "dict_keys(['k', 'indices', 'file', 'id', 'model_name', 'patch_size', 'shape'])\n",
      "0178\n",
      "Starting Training\n",
      "epoch: 00, loss: -0.03877\n",
      "epoch: 01, loss: -0.06275\n",
      "epoch: 02, loss: -0.06693\n",
      "epoch: 03, loss: -0.07051\n",
      "epoch: 04, loss: -0.07097\n",
      "epoch: 05, loss: -0.07136\n",
      "epoch: 06, loss: -0.07197\n",
      "epoch: 07, loss: -0.07104\n",
      "epoch: 08, loss: -0.07239\n",
      "epoch: 09, loss: -0.07321\n",
      "torch.Size([450, 64])\n"
     ]
    },
    {
     "name": "stderr",
     "output_type": "stream",
     "text": [
      " 18%|█▊        | 178/1000 [1:04:40<6:07:19, 26.81s/it]"
     ]
    },
    {
     "name": "stdout",
     "output_type": "stream",
     "text": [
      "eigenvalues shape torch.Size([5]) eigenvectors shape torch.Size([5, 450])\n",
      "178 /home/phdcs2/Hard_Disk/Datasets/Deep-Spectral-Segmentation/data/object-segmentation/ECSSD/features/dino_vits16/0179.pth\n",
      "dict_keys(['k', 'indices', 'file', 'id', 'model_name', 'patch_size', 'shape'])\n",
      "0179\n",
      "Starting Training\n",
      "epoch: 00, loss: -0.05662\n",
      "epoch: 01, loss: -0.08078\n",
      "epoch: 02, loss: -0.08344\n",
      "epoch: 03, loss: -0.08447\n",
      "epoch: 04, loss: -0.08758\n",
      "epoch: 05, loss: -0.08794\n",
      "epoch: 06, loss: -0.08887\n",
      "epoch: 07, loss: -0.08931\n",
      "epoch: 08, loss: -0.08698\n",
      "epoch: 09, loss: -0.09046\n",
      "torch.Size([400, 64])\n"
     ]
    },
    {
     "name": "stderr",
     "output_type": "stream",
     "text": [
      " 18%|█▊        | 179/1000 [1:05:00<5:40:27, 24.88s/it]"
     ]
    },
    {
     "name": "stdout",
     "output_type": "stream",
     "text": [
      "eigenvalues shape torch.Size([5]) eigenvectors shape torch.Size([5, 400])\n",
      "179 /home/phdcs2/Hard_Disk/Datasets/Deep-Spectral-Segmentation/data/object-segmentation/ECSSD/features/dino_vits16/0180.pth\n",
      "dict_keys(['k', 'indices', 'file', 'id', 'model_name', 'patch_size', 'shape'])\n",
      "0180\n",
      "Starting Training\n",
      "epoch: 00, loss: -0.05596\n",
      "epoch: 01, loss: -0.07891\n",
      "epoch: 02, loss: -0.07993\n",
      "epoch: 03, loss: -0.08039\n",
      "epoch: 04, loss: -0.08042\n",
      "epoch: 05, loss: -0.08064\n",
      "epoch: 06, loss: -0.08079\n",
      "epoch: 07, loss: -0.08100\n",
      "epoch: 08, loss: -0.08099\n",
      "epoch: 09, loss: -0.08109\n",
      "torch.Size([400, 64])\n"
     ]
    },
    {
     "name": "stderr",
     "output_type": "stream",
     "text": [
      " 18%|█▊        | 180/1000 [1:05:24<5:34:48, 24.50s/it]"
     ]
    },
    {
     "name": "stdout",
     "output_type": "stream",
     "text": [
      "eigenvalues shape torch.Size([5]) eigenvectors shape torch.Size([5, 400])\n",
      "180 /home/phdcs2/Hard_Disk/Datasets/Deep-Spectral-Segmentation/data/object-segmentation/ECSSD/features/dino_vits16/0181.pth\n",
      "dict_keys(['k', 'indices', 'file', 'id', 'model_name', 'patch_size', 'shape'])\n",
      "0181\n",
      "Starting Training\n",
      "epoch: 00, loss: -0.11305\n",
      "epoch: 01, loss: -0.14832\n",
      "epoch: 02, loss: -0.14907\n",
      "epoch: 03, loss: -0.15537\n",
      "epoch: 04, loss: -0.15339\n",
      "epoch: 05, loss: -0.15592\n",
      "epoch: 06, loss: -0.15857\n",
      "epoch: 07, loss: -0.15544\n",
      "epoch: 08, loss: -0.15507\n",
      "epoch: 09, loss: -0.15566\n",
      "torch.Size([375, 64])\n"
     ]
    },
    {
     "name": "stderr",
     "output_type": "stream",
     "text": [
      " 18%|█▊        | 181/1000 [1:05:43<5:13:32, 22.97s/it]"
     ]
    },
    {
     "name": "stdout",
     "output_type": "stream",
     "text": [
      "eigenvalues shape torch.Size([5]) eigenvectors shape torch.Size([5, 375])\n",
      "181 /home/phdcs2/Hard_Disk/Datasets/Deep-Spectral-Segmentation/data/object-segmentation/ECSSD/features/dino_vits16/0182.pth\n",
      "dict_keys(['k', 'indices', 'file', 'id', 'model_name', 'patch_size', 'shape'])\n",
      "0182\n",
      "Starting Training\n",
      "epoch: 00, loss: -0.01594\n",
      "epoch: 01, loss: -0.02716\n",
      "epoch: 02, loss: -0.02903\n",
      "epoch: 03, loss: -0.02880\n",
      "epoch: 04, loss: -0.02968\n",
      "epoch: 05, loss: -0.02983\n",
      "epoch: 06, loss: -0.02944\n",
      "epoch: 07, loss: -0.02957\n",
      "epoch: 08, loss: -0.02987\n",
      "epoch: 09, loss: -0.03031\n",
      "torch.Size([625, 64])\n"
     ]
    },
    {
     "name": "stderr",
     "output_type": "stream",
     "text": [
      " 18%|█▊        | 182/1000 [1:06:31<6:54:27, 30.40s/it]"
     ]
    },
    {
     "name": "stdout",
     "output_type": "stream",
     "text": [
      "eigenvalues shape torch.Size([5]) eigenvectors shape torch.Size([5, 625])\n",
      "182 /home/phdcs2/Hard_Disk/Datasets/Deep-Spectral-Segmentation/data/object-segmentation/ECSSD/features/dino_vits16/0183.pth\n",
      "dict_keys(['k', 'indices', 'file', 'id', 'model_name', 'patch_size', 'shape'])\n",
      "0183\n",
      "Starting Training\n",
      "epoch: 00, loss: 0.00530\n",
      "epoch: 01, loss: -0.00531\n",
      "epoch: 02, loss: -0.01031\n",
      "epoch: 03, loss: -0.01349\n",
      "epoch: 04, loss: -0.01536\n",
      "epoch: 05, loss: -0.01604\n",
      "epoch: 06, loss: -0.01670\n",
      "epoch: 07, loss: -0.01714\n",
      "epoch: 08, loss: -0.01743\n",
      "epoch: 09, loss: -0.01774\n",
      "torch.Size([400, 64])\n"
     ]
    },
    {
     "name": "stderr",
     "output_type": "stream",
     "text": [
      " 18%|█▊        | 183/1000 [1:06:49<6:02:25, 26.62s/it]"
     ]
    },
    {
     "name": "stdout",
     "output_type": "stream",
     "text": [
      "eigenvalues shape torch.Size([5]) eigenvectors shape torch.Size([5, 400])\n",
      "183 /home/phdcs2/Hard_Disk/Datasets/Deep-Spectral-Segmentation/data/object-segmentation/ECSSD/features/dino_vits16/0184.pth\n",
      "dict_keys(['k', 'indices', 'file', 'id', 'model_name', 'patch_size', 'shape'])\n",
      "0184\n",
      "Starting Training\n",
      "epoch: 00, loss: -0.06402\n",
      "epoch: 01, loss: -0.08146\n",
      "epoch: 02, loss: -0.08223\n",
      "epoch: 03, loss: -0.08229\n",
      "epoch: 04, loss: -0.08262\n",
      "epoch: 05, loss: -0.08364\n",
      "epoch: 06, loss: -0.08399\n",
      "epoch: 07, loss: -0.08289\n",
      "epoch: 08, loss: -0.08296\n",
      "epoch: 09, loss: -0.08392\n",
      "torch.Size([625, 64])\n"
     ]
    },
    {
     "name": "stderr",
     "output_type": "stream",
     "text": [
      " 18%|█▊        | 184/1000 [1:07:35<7:22:08, 32.51s/it]"
     ]
    },
    {
     "name": "stdout",
     "output_type": "stream",
     "text": [
      "eigenvalues shape torch.Size([5]) eigenvectors shape torch.Size([5, 625])\n",
      "184 /home/phdcs2/Hard_Disk/Datasets/Deep-Spectral-Segmentation/data/object-segmentation/ECSSD/features/dino_vits16/0185.pth\n",
      "dict_keys(['k', 'indices', 'file', 'id', 'model_name', 'patch_size', 'shape'])\n",
      "0185\n",
      "Starting Training\n",
      "epoch: 00, loss: -0.02299\n",
      "epoch: 01, loss: -0.04585\n",
      "epoch: 02, loss: -0.04728\n",
      "epoch: 03, loss: -0.04799\n",
      "epoch: 04, loss: -0.04811\n",
      "epoch: 05, loss: -0.04848\n",
      "epoch: 06, loss: -0.04881\n",
      "epoch: 07, loss: -0.04853\n",
      "epoch: 08, loss: -0.04808\n",
      "epoch: 09, loss: -0.04938\n",
      "torch.Size([625, 64])\n"
     ]
    },
    {
     "name": "stderr",
     "output_type": "stream",
     "text": [
      " 18%|█▊        | 185/1000 [1:08:28<8:44:37, 38.62s/it]"
     ]
    },
    {
     "name": "stdout",
     "output_type": "stream",
     "text": [
      "eigenvalues shape torch.Size([5]) eigenvectors shape torch.Size([5, 625])\n",
      "185 /home/phdcs2/Hard_Disk/Datasets/Deep-Spectral-Segmentation/data/object-segmentation/ECSSD/features/dino_vits16/0186.pth\n",
      "dict_keys(['k', 'indices', 'file', 'id', 'model_name', 'patch_size', 'shape'])\n",
      "0186\n",
      "Starting Training\n",
      "epoch: 00, loss: -0.01706\n",
      "epoch: 01, loss: -0.03456\n",
      "epoch: 02, loss: -0.03658\n",
      "epoch: 03, loss: -0.03727\n",
      "epoch: 04, loss: -0.03781\n",
      "epoch: 05, loss: -0.03845\n",
      "epoch: 06, loss: -0.03739\n",
      "epoch: 07, loss: -0.03800\n",
      "epoch: 08, loss: -0.03811\n",
      "epoch: 09, loss: -0.03794\n",
      "torch.Size([625, 64])\n"
     ]
    },
    {
     "name": "stderr",
     "output_type": "stream",
     "text": [
      " 19%|█▊        | 186/1000 [1:09:16<9:21:23, 41.38s/it]"
     ]
    },
    {
     "name": "stdout",
     "output_type": "stream",
     "text": [
      "eigenvalues shape torch.Size([5]) eigenvectors shape torch.Size([5, 625])\n",
      "186 /home/phdcs2/Hard_Disk/Datasets/Deep-Spectral-Segmentation/data/object-segmentation/ECSSD/features/dino_vits16/0187.pth\n",
      "dict_keys(['k', 'indices', 'file', 'id', 'model_name', 'patch_size', 'shape'])\n",
      "0187\n",
      "Starting Training\n",
      "epoch: 00, loss: 0.00010\n",
      "epoch: 01, loss: -0.01303\n",
      "epoch: 02, loss: -0.01935\n",
      "epoch: 03, loss: -0.02273\n",
      "epoch: 04, loss: -0.02444\n",
      "epoch: 05, loss: -0.02577\n",
      "epoch: 06, loss: -0.02654\n",
      "epoch: 07, loss: -0.02673\n",
      "epoch: 08, loss: -0.02720\n",
      "epoch: 09, loss: -0.02728\n",
      "torch.Size([200, 64])\n"
     ]
    },
    {
     "name": "stderr",
     "output_type": "stream",
     "text": [
      " 19%|█▊        | 187/1000 [1:09:24<7:06:36, 31.48s/it]"
     ]
    },
    {
     "name": "stdout",
     "output_type": "stream",
     "text": [
      "eigenvalues shape torch.Size([5]) eigenvectors shape torch.Size([5, 200])\n",
      "187 /home/phdcs2/Hard_Disk/Datasets/Deep-Spectral-Segmentation/data/object-segmentation/ECSSD/features/dino_vits16/0188.pth\n",
      "dict_keys(['k', 'indices', 'file', 'id', 'model_name', 'patch_size', 'shape'])\n",
      "0188\n",
      "Starting Training\n",
      "epoch: 00, loss: -0.02967\n",
      "epoch: 01, loss: -0.06280\n",
      "epoch: 02, loss: -0.06609\n",
      "epoch: 03, loss: -0.06951\n",
      "epoch: 04, loss: -0.07092\n",
      "epoch: 05, loss: -0.07031\n",
      "epoch: 06, loss: -0.07214\n",
      "epoch: 07, loss: -0.07284\n",
      "epoch: 08, loss: -0.07525\n",
      "epoch: 09, loss: -0.07380\n",
      "torch.Size([400, 64])\n"
     ]
    },
    {
     "name": "stderr",
     "output_type": "stream",
     "text": [
      " 19%|█▉        | 188/1000 [1:09:55<7:03:44, 31.31s/it]"
     ]
    },
    {
     "name": "stdout",
     "output_type": "stream",
     "text": [
      "eigenvalues shape torch.Size([5]) eigenvectors shape torch.Size([5, 400])\n",
      "188 /home/phdcs2/Hard_Disk/Datasets/Deep-Spectral-Segmentation/data/object-segmentation/ECSSD/features/dino_vits16/0189.pth\n",
      "dict_keys(['k', 'indices', 'file', 'id', 'model_name', 'patch_size', 'shape'])\n",
      "0189\n",
      "Starting Training\n",
      "epoch: 00, loss: -0.05161\n",
      "epoch: 01, loss: -0.08075\n",
      "epoch: 02, loss: -0.08420\n",
      "epoch: 03, loss: -0.08750\n",
      "epoch: 04, loss: -0.08683\n",
      "epoch: 05, loss: -0.08868\n",
      "epoch: 06, loss: -0.08993\n",
      "epoch: 07, loss: -0.08973\n",
      "epoch: 08, loss: -0.09230\n",
      "epoch: 09, loss: -0.09063\n",
      "torch.Size([400, 64])\n"
     ]
    },
    {
     "name": "stderr",
     "output_type": "stream",
     "text": [
      " 19%|█▉        | 189/1000 [1:10:16<6:20:23, 28.14s/it]"
     ]
    },
    {
     "name": "stdout",
     "output_type": "stream",
     "text": [
      "eigenvalues shape torch.Size([5]) eigenvectors shape torch.Size([5, 400])\n",
      "189 /home/phdcs2/Hard_Disk/Datasets/Deep-Spectral-Segmentation/data/object-segmentation/ECSSD/features/dino_vits16/0190.pth\n",
      "dict_keys(['k', 'indices', 'file', 'id', 'model_name', 'patch_size', 'shape'])\n",
      "0190\n",
      "Starting Training\n",
      "epoch: 00, loss: -0.04023\n",
      "epoch: 01, loss: -0.05857\n",
      "epoch: 02, loss: -0.05943\n",
      "epoch: 03, loss: -0.06016\n",
      "epoch: 04, loss: -0.06019\n",
      "epoch: 05, loss: -0.06047\n",
      "epoch: 06, loss: -0.06053\n",
      "epoch: 07, loss: -0.06054\n",
      "epoch: 08, loss: -0.06072\n",
      "epoch: 09, loss: -0.06090\n",
      "torch.Size([450, 64])\n"
     ]
    },
    {
     "name": "stderr",
     "output_type": "stream",
     "text": [
      " 19%|█▉        | 190/1000 [1:10:41<6:08:00, 27.26s/it]"
     ]
    },
    {
     "name": "stdout",
     "output_type": "stream",
     "text": [
      "eigenvalues shape torch.Size([5]) eigenvectors shape torch.Size([5, 450])\n",
      "190 /home/phdcs2/Hard_Disk/Datasets/Deep-Spectral-Segmentation/data/object-segmentation/ECSSD/features/dino_vits16/0191.pth\n",
      "dict_keys(['k', 'indices', 'file', 'id', 'model_name', 'patch_size', 'shape'])\n",
      "0191\n",
      "Starting Training\n",
      "epoch: 00, loss: -0.03292\n",
      "epoch: 01, loss: -0.06118\n",
      "epoch: 02, loss: -0.06551\n",
      "epoch: 03, loss: -0.06629\n",
      "epoch: 04, loss: -0.06673\n",
      "epoch: 05, loss: -0.06803\n",
      "epoch: 06, loss: -0.06839\n",
      "epoch: 07, loss: -0.06918\n",
      "epoch: 08, loss: -0.06972\n",
      "epoch: 09, loss: -0.07108\n",
      "torch.Size([450, 64])\n"
     ]
    },
    {
     "name": "stderr",
     "output_type": "stream",
     "text": [
      " 19%|█▉        | 191/1000 [1:11:08<6:05:15, 27.09s/it]"
     ]
    },
    {
     "name": "stdout",
     "output_type": "stream",
     "text": [
      "eigenvalues shape torch.Size([5]) eigenvectors shape torch.Size([5, 450])\n",
      "191 /home/phdcs2/Hard_Disk/Datasets/Deep-Spectral-Segmentation/data/object-segmentation/ECSSD/features/dino_vits16/0192.pth\n",
      "dict_keys(['k', 'indices', 'file', 'id', 'model_name', 'patch_size', 'shape'])\n",
      "0192\n",
      "Starting Training\n",
      "epoch: 00, loss: -0.03368\n",
      "epoch: 01, loss: -0.07007\n",
      "epoch: 02, loss: -0.07173\n",
      "epoch: 03, loss: -0.07670\n",
      "epoch: 04, loss: -0.07790\n",
      "epoch: 05, loss: -0.07923\n",
      "epoch: 06, loss: -0.08007\n",
      "epoch: 07, loss: -0.08088\n",
      "epoch: 08, loss: -0.08158\n",
      "epoch: 09, loss: -0.08277\n",
      "torch.Size([400, 64])\n"
     ]
    },
    {
     "name": "stderr",
     "output_type": "stream",
     "text": [
      " 19%|█▉        | 192/1000 [1:11:34<6:01:14, 26.82s/it]"
     ]
    },
    {
     "name": "stdout",
     "output_type": "stream",
     "text": [
      "eigenvalues shape torch.Size([5]) eigenvectors shape torch.Size([5, 400])\n",
      "192 /home/phdcs2/Hard_Disk/Datasets/Deep-Spectral-Segmentation/data/object-segmentation/ECSSD/features/dino_vits16/0193.pth\n",
      "dict_keys(['k', 'indices', 'file', 'id', 'model_name', 'patch_size', 'shape'])\n",
      "0193\n",
      "Starting Training\n",
      "epoch: 00, loss: -0.00316\n",
      "epoch: 01, loss: -0.01210\n",
      "epoch: 02, loss: -0.01540\n",
      "epoch: 03, loss: -0.01684\n",
      "epoch: 04, loss: -0.01740\n",
      "epoch: 05, loss: -0.01799\n",
      "epoch: 06, loss: -0.01821\n",
      "epoch: 07, loss: -0.01847\n",
      "epoch: 08, loss: -0.01856\n",
      "epoch: 09, loss: -0.01877\n",
      "torch.Size([450, 64])\n"
     ]
    },
    {
     "name": "stderr",
     "output_type": "stream",
     "text": [
      " 19%|█▉        | 193/1000 [1:12:00<5:58:06, 26.62s/it]"
     ]
    },
    {
     "name": "stdout",
     "output_type": "stream",
     "text": [
      "eigenvalues shape torch.Size([5]) eigenvectors shape torch.Size([5, 450])\n",
      "193 /home/phdcs2/Hard_Disk/Datasets/Deep-Spectral-Segmentation/data/object-segmentation/ECSSD/features/dino_vits16/0194.pth\n",
      "dict_keys(['k', 'indices', 'file', 'id', 'model_name', 'patch_size', 'shape'])\n",
      "0194\n",
      "Starting Training\n",
      "epoch: 00, loss: -0.00484\n",
      "epoch: 01, loss: -0.02262\n",
      "epoch: 02, loss: -0.02660\n",
      "epoch: 03, loss: -0.02818\n",
      "epoch: 04, loss: -0.02867\n",
      "epoch: 05, loss: -0.02904\n",
      "epoch: 06, loss: -0.02931\n",
      "epoch: 07, loss: -0.02949\n",
      "epoch: 08, loss: -0.02972\n",
      "epoch: 09, loss: -0.02986\n",
      "torch.Size([450, 64])\n"
     ]
    },
    {
     "name": "stderr",
     "output_type": "stream",
     "text": [
      " 19%|█▉        | 194/1000 [1:12:24<5:48:05, 25.91s/it]"
     ]
    },
    {
     "name": "stdout",
     "output_type": "stream",
     "text": [
      "eigenvalues shape torch.Size([5]) eigenvectors shape torch.Size([5, 450])\n",
      "194 /home/phdcs2/Hard_Disk/Datasets/Deep-Spectral-Segmentation/data/object-segmentation/ECSSD/features/dino_vits16/0195.pth\n",
      "dict_keys(['k', 'indices', 'file', 'id', 'model_name', 'patch_size', 'shape'])\n",
      "0195\n",
      "Starting Training\n",
      "epoch: 00, loss: -0.07589\n",
      "epoch: 01, loss: -0.11497\n",
      "epoch: 02, loss: -0.11832\n",
      "epoch: 03, loss: -0.11807\n",
      "epoch: 04, loss: -0.12025\n",
      "epoch: 05, loss: -0.11911\n",
      "epoch: 06, loss: -0.12057\n",
      "epoch: 07, loss: -0.12049\n",
      "epoch: 08, loss: -0.12205\n",
      "epoch: 09, loss: -0.12132\n",
      "torch.Size([400, 64])\n"
     ]
    },
    {
     "name": "stderr",
     "output_type": "stream",
     "text": [
      " 20%|█▉        | 195/1000 [1:12:44<5:23:13, 24.09s/it]"
     ]
    },
    {
     "name": "stdout",
     "output_type": "stream",
     "text": [
      "eigenvalues shape torch.Size([5]) eigenvectors shape torch.Size([5, 400])\n",
      "195 /home/phdcs2/Hard_Disk/Datasets/Deep-Spectral-Segmentation/data/object-segmentation/ECSSD/features/dino_vits16/0196.pth\n",
      "dict_keys(['k', 'indices', 'file', 'id', 'model_name', 'patch_size', 'shape'])\n",
      "0196\n",
      "Starting Training\n",
      "epoch: 00, loss: -0.04960\n",
      "epoch: 01, loss: -0.07100\n",
      "epoch: 02, loss: -0.07344\n",
      "epoch: 03, loss: -0.07381\n",
      "epoch: 04, loss: -0.07556\n",
      "epoch: 05, loss: -0.07473\n",
      "epoch: 06, loss: -0.07624\n",
      "epoch: 07, loss: -0.07789\n",
      "epoch: 08, loss: -0.07940\n",
      "epoch: 09, loss: -0.07882\n",
      "torch.Size([625, 64])\n"
     ]
    },
    {
     "name": "stderr",
     "output_type": "stream",
     "text": [
      " 20%|█▉        | 196/1000 [1:13:38<7:20:46, 32.89s/it]"
     ]
    },
    {
     "name": "stdout",
     "output_type": "stream",
     "text": [
      "eigenvalues shape torch.Size([5]) eigenvectors shape torch.Size([5, 625])\n",
      "196 /home/phdcs2/Hard_Disk/Datasets/Deep-Spectral-Segmentation/data/object-segmentation/ECSSD/features/dino_vits16/0197.pth\n",
      "dict_keys(['k', 'indices', 'file', 'id', 'model_name', 'patch_size', 'shape'])\n",
      "0197\n",
      "Starting Training\n",
      "epoch: 00, loss: -0.05120\n",
      "epoch: 01, loss: -0.07891\n",
      "epoch: 02, loss: -0.07971\n",
      "epoch: 03, loss: -0.08002\n",
      "epoch: 04, loss: -0.08020\n",
      "epoch: 05, loss: -0.08055\n",
      "epoch: 06, loss: -0.08052\n",
      "epoch: 07, loss: -0.08083\n",
      "epoch: 08, loss: -0.08136\n",
      "epoch: 09, loss: -0.08095\n",
      "torch.Size([400, 64])\n"
     ]
    },
    {
     "name": "stderr",
     "output_type": "stream",
     "text": [
      " 20%|█▉        | 197/1000 [1:14:01<6:41:57, 30.03s/it]"
     ]
    },
    {
     "name": "stdout",
     "output_type": "stream",
     "text": [
      "eigenvalues shape torch.Size([5]) eigenvectors shape torch.Size([5, 400])\n",
      "197 /home/phdcs2/Hard_Disk/Datasets/Deep-Spectral-Segmentation/data/object-segmentation/ECSSD/features/dino_vits16/0198.pth\n",
      "dict_keys(['k', 'indices', 'file', 'id', 'model_name', 'patch_size', 'shape'])\n",
      "0198\n",
      "Starting Training\n",
      "epoch: 00, loss: -0.00501\n",
      "epoch: 01, loss: -0.01778\n",
      "epoch: 02, loss: -0.02079\n",
      "epoch: 03, loss: -0.02395\n",
      "epoch: 04, loss: -0.02441\n",
      "epoch: 05, loss: -0.02388\n",
      "epoch: 06, loss: -0.02471\n",
      "epoch: 07, loss: -0.02400\n",
      "epoch: 08, loss: -0.02418\n",
      "epoch: 09, loss: -0.02378\n",
      "torch.Size([425, 64])\n"
     ]
    },
    {
     "name": "stderr",
     "output_type": "stream",
     "text": [
      " 20%|█▉        | 198/1000 [1:14:25<6:16:09, 28.14s/it]"
     ]
    },
    {
     "name": "stdout",
     "output_type": "stream",
     "text": [
      "eigenvalues shape torch.Size([5]) eigenvectors shape torch.Size([5, 425])\n",
      "198 /home/phdcs2/Hard_Disk/Datasets/Deep-Spectral-Segmentation/data/object-segmentation/ECSSD/features/dino_vits16/0199.pth\n",
      "dict_keys(['k', 'indices', 'file', 'id', 'model_name', 'patch_size', 'shape'])\n",
      "0199\n",
      "Starting Training\n",
      "epoch: 00, loss: -0.09730\n",
      "epoch: 01, loss: -0.13372\n",
      "epoch: 02, loss: -0.13767\n",
      "epoch: 03, loss: -0.13958\n",
      "epoch: 04, loss: -0.14011\n",
      "epoch: 05, loss: -0.14035\n",
      "epoch: 06, loss: -0.14331\n",
      "epoch: 07, loss: -0.14302\n",
      "epoch: 08, loss: -0.14274\n",
      "epoch: 09, loss: -0.14242\n",
      "torch.Size([450, 64])\n"
     ]
    },
    {
     "name": "stderr",
     "output_type": "stream",
     "text": [
      " 20%|█▉        | 199/1000 [1:14:47<5:51:58, 26.37s/it]"
     ]
    },
    {
     "name": "stdout",
     "output_type": "stream",
     "text": [
      "eigenvalues shape torch.Size([5]) eigenvectors shape torch.Size([5, 450])\n",
      "199 /home/phdcs2/Hard_Disk/Datasets/Deep-Spectral-Segmentation/data/object-segmentation/ECSSD/features/dino_vits16/0200.pth\n",
      "dict_keys(['k', 'indices', 'file', 'id', 'model_name', 'patch_size', 'shape'])\n",
      "0200\n",
      "Starting Training\n",
      "epoch: 00, loss: -0.03199\n",
      "epoch: 01, loss: -0.05148\n",
      "epoch: 02, loss: -0.05447\n",
      "epoch: 03, loss: -0.05950\n",
      "epoch: 04, loss: -0.05989\n",
      "epoch: 05, loss: -0.05934\n",
      "epoch: 06, loss: -0.06140\n",
      "epoch: 07, loss: -0.06046\n",
      "epoch: 08, loss: -0.06043\n",
      "epoch: 09, loss: -0.06166\n",
      "torch.Size([450, 64])\n"
     ]
    },
    {
     "name": "stderr",
     "output_type": "stream",
     "text": [
      " 20%|██        | 200/1000 [1:15:10<5:38:53, 25.42s/it]"
     ]
    },
    {
     "name": "stdout",
     "output_type": "stream",
     "text": [
      "eigenvalues shape torch.Size([5]) eigenvectors shape torch.Size([5, 450])\n",
      "200 /home/phdcs2/Hard_Disk/Datasets/Deep-Spectral-Segmentation/data/object-segmentation/ECSSD/features/dino_vits16/0201.pth\n",
      "dict_keys(['k', 'indices', 'file', 'id', 'model_name', 'patch_size', 'shape'])\n",
      "0201\n",
      "Starting Training\n",
      "epoch: 00, loss: -0.05606\n",
      "epoch: 01, loss: -0.07943\n",
      "epoch: 02, loss: -0.08111\n",
      "epoch: 03, loss: -0.08245\n",
      "epoch: 04, loss: -0.08375\n",
      "epoch: 05, loss: -0.08348\n",
      "epoch: 06, loss: -0.08635\n",
      "epoch: 07, loss: -0.08459\n",
      "epoch: 08, loss: -0.08551\n",
      "epoch: 09, loss: -0.08336\n",
      "torch.Size([425, 64])\n"
     ]
    },
    {
     "name": "stderr",
     "output_type": "stream",
     "text": [
      " 20%|██        | 201/1000 [1:15:33<5:28:43, 24.68s/it]"
     ]
    },
    {
     "name": "stdout",
     "output_type": "stream",
     "text": [
      "eigenvalues shape torch.Size([5]) eigenvectors shape torch.Size([5, 425])\n",
      "201 /home/phdcs2/Hard_Disk/Datasets/Deep-Spectral-Segmentation/data/object-segmentation/ECSSD/features/dino_vits16/0202.pth\n",
      "dict_keys(['k', 'indices', 'file', 'id', 'model_name', 'patch_size', 'shape'])\n",
      "0202\n",
      "Starting Training\n",
      "epoch: 00, loss: -0.03709\n",
      "epoch: 01, loss: -0.07162\n",
      "epoch: 02, loss: -0.07186\n",
      "epoch: 03, loss: -0.07658\n",
      "epoch: 04, loss: -0.07767\n",
      "epoch: 05, loss: -0.07838\n",
      "epoch: 06, loss: -0.07828\n",
      "epoch: 07, loss: -0.07890\n",
      "epoch: 08, loss: -0.07917\n",
      "epoch: 09, loss: -0.07841\n",
      "torch.Size([400, 64])\n"
     ]
    },
    {
     "name": "stderr",
     "output_type": "stream",
     "text": [
      " 20%|██        | 202/1000 [1:15:53<5:09:52, 23.30s/it]"
     ]
    },
    {
     "name": "stdout",
     "output_type": "stream",
     "text": [
      "eigenvalues shape torch.Size([5]) eigenvectors shape torch.Size([5, 400])\n",
      "202 /home/phdcs2/Hard_Disk/Datasets/Deep-Spectral-Segmentation/data/object-segmentation/ECSSD/features/dino_vits16/0203.pth\n",
      "dict_keys(['k', 'indices', 'file', 'id', 'model_name', 'patch_size', 'shape'])\n",
      "0203\n",
      "Starting Training\n",
      "epoch: 00, loss: -0.00288\n",
      "epoch: 01, loss: -0.01578\n",
      "epoch: 02, loss: -0.01960\n",
      "epoch: 03, loss: -0.02127\n",
      "epoch: 04, loss: -0.02182\n",
      "epoch: 05, loss: -0.02223\n",
      "epoch: 06, loss: -0.02256\n",
      "epoch: 07, loss: -0.02270\n",
      "epoch: 08, loss: -0.02289\n",
      "epoch: 09, loss: -0.02309\n",
      "torch.Size([400, 64])\n"
     ]
    },
    {
     "name": "stderr",
     "output_type": "stream",
     "text": [
      " 20%|██        | 203/1000 [1:16:19<5:18:34, 23.98s/it]"
     ]
    },
    {
     "name": "stdout",
     "output_type": "stream",
     "text": [
      "eigenvalues shape torch.Size([5]) eigenvectors shape torch.Size([5, 400])\n",
      "203 /home/phdcs2/Hard_Disk/Datasets/Deep-Spectral-Segmentation/data/object-segmentation/ECSSD/features/dino_vits16/0204.pth\n",
      "dict_keys(['k', 'indices', 'file', 'id', 'model_name', 'patch_size', 'shape'])\n",
      "0204\n",
      "Starting Training\n",
      "epoch: 00, loss: -0.17495\n",
      "epoch: 01, loss: -0.21245\n",
      "epoch: 02, loss: -0.22336\n",
      "epoch: 03, loss: -0.23031\n",
      "epoch: 04, loss: -0.23032\n",
      "epoch: 05, loss: -0.23424\n",
      "epoch: 06, loss: -0.23375\n",
      "epoch: 07, loss: -0.23248\n",
      "epoch: 08, loss: -0.23918\n",
      "epoch: 09, loss: -0.24334\n",
      "torch.Size([450, 64])\n"
     ]
    },
    {
     "name": "stderr",
     "output_type": "stream",
     "text": [
      " 20%|██        | 204/1000 [1:16:46<5:32:22, 25.05s/it]"
     ]
    },
    {
     "name": "stdout",
     "output_type": "stream",
     "text": [
      "eigenvalues shape torch.Size([5]) eigenvectors shape torch.Size([5, 450])\n",
      "204 /home/phdcs2/Hard_Disk/Datasets/Deep-Spectral-Segmentation/data/object-segmentation/ECSSD/features/dino_vits16/0205.pth\n",
      "dict_keys(['k', 'indices', 'file', 'id', 'model_name', 'patch_size', 'shape'])\n",
      "0205\n",
      "Starting Training\n",
      "epoch: 00, loss: -0.05150\n",
      "epoch: 01, loss: -0.07793\n",
      "epoch: 02, loss: -0.07978\n",
      "epoch: 03, loss: -0.08234\n",
      "epoch: 04, loss: -0.08333\n",
      "epoch: 05, loss: -0.08544\n",
      "epoch: 06, loss: -0.08580\n",
      "epoch: 07, loss: -0.08330\n",
      "epoch: 08, loss: -0.08658\n",
      "epoch: 09, loss: -0.08563\n",
      "torch.Size([450, 64])\n"
     ]
    },
    {
     "name": "stderr",
     "output_type": "stream",
     "text": [
      " 20%|██        | 205/1000 [1:17:12<5:36:27, 25.39s/it]"
     ]
    },
    {
     "name": "stdout",
     "output_type": "stream",
     "text": [
      "eigenvalues shape torch.Size([5]) eigenvectors shape torch.Size([5, 450])\n",
      "205 /home/phdcs2/Hard_Disk/Datasets/Deep-Spectral-Segmentation/data/object-segmentation/ECSSD/features/dino_vits16/0206.pth\n",
      "dict_keys(['k', 'indices', 'file', 'id', 'model_name', 'patch_size', 'shape'])\n",
      "0206\n",
      "Starting Training\n",
      "epoch: 00, loss: -0.04206\n",
      "epoch: 01, loss: -0.06740\n",
      "epoch: 02, loss: -0.06951\n",
      "epoch: 03, loss: -0.07016\n",
      "epoch: 04, loss: -0.07523\n",
      "epoch: 05, loss: -0.07637\n",
      "epoch: 06, loss: -0.07492\n",
      "epoch: 07, loss: -0.07349\n",
      "epoch: 08, loss: -0.07698\n",
      "epoch: 09, loss: -0.07328\n",
      "torch.Size([400, 64])\n"
     ]
    },
    {
     "name": "stderr",
     "output_type": "stream",
     "text": [
      " 21%|██        | 206/1000 [1:17:35<5:26:08, 24.65s/it]"
     ]
    },
    {
     "name": "stdout",
     "output_type": "stream",
     "text": [
      "eigenvalues shape torch.Size([5]) eigenvectors shape torch.Size([5, 400])\n",
      "206 /home/phdcs2/Hard_Disk/Datasets/Deep-Spectral-Segmentation/data/object-segmentation/ECSSD/features/dino_vits16/0207.pth\n",
      "dict_keys(['k', 'indices', 'file', 'id', 'model_name', 'patch_size', 'shape'])\n",
      "0207\n",
      "Starting Training\n",
      "epoch: 00, loss: -0.05258\n",
      "epoch: 01, loss: -0.08984\n",
      "epoch: 02, loss: -0.08254\n",
      "epoch: 03, loss: -0.08581\n",
      "epoch: 04, loss: -0.09059\n",
      "epoch: 05, loss: -0.08902\n",
      "epoch: 06, loss: -0.08620\n",
      "epoch: 07, loss: -0.08687\n",
      "epoch: 08, loss: -0.08954\n",
      "epoch: 09, loss: -0.08488\n",
      "torch.Size([400, 64])\n"
     ]
    },
    {
     "name": "stderr",
     "output_type": "stream",
     "text": [
      " 21%|██        | 207/1000 [1:17:56<5:09:59, 23.45s/it]"
     ]
    },
    {
     "name": "stdout",
     "output_type": "stream",
     "text": [
      "eigenvalues shape torch.Size([5]) eigenvectors shape torch.Size([5, 400])\n",
      "207 /home/phdcs2/Hard_Disk/Datasets/Deep-Spectral-Segmentation/data/object-segmentation/ECSSD/features/dino_vits16/0208.pth\n",
      "dict_keys(['k', 'indices', 'file', 'id', 'model_name', 'patch_size', 'shape'])\n",
      "0208\n",
      "Starting Training\n",
      "epoch: 00, loss: -0.05401\n",
      "epoch: 01, loss: -0.07973\n",
      "epoch: 02, loss: -0.08212\n",
      "epoch: 03, loss: -0.08253\n",
      "epoch: 04, loss: -0.08540\n",
      "epoch: 05, loss: -0.08598\n",
      "epoch: 06, loss: -0.08759\n",
      "epoch: 07, loss: -0.08519\n",
      "epoch: 08, loss: -0.08449\n",
      "epoch: 09, loss: -0.08732\n",
      "torch.Size([450, 64])\n"
     ]
    },
    {
     "name": "stderr",
     "output_type": "stream",
     "text": [
      " 21%|██        | 208/1000 [1:18:20<5:13:35, 23.76s/it]"
     ]
    },
    {
     "name": "stdout",
     "output_type": "stream",
     "text": [
      "eigenvalues shape torch.Size([5]) eigenvectors shape torch.Size([5, 450])\n",
      "208 /home/phdcs2/Hard_Disk/Datasets/Deep-Spectral-Segmentation/data/object-segmentation/ECSSD/features/dino_vits16/0209.pth\n",
      "dict_keys(['k', 'indices', 'file', 'id', 'model_name', 'patch_size', 'shape'])\n",
      "0209\n",
      "Starting Training\n",
      "epoch: 00, loss: -0.04611\n",
      "epoch: 01, loss: -0.06503\n",
      "epoch: 02, loss: -0.06763\n",
      "epoch: 03, loss: -0.06992\n",
      "epoch: 04, loss: -0.07029\n",
      "epoch: 05, loss: -0.07035\n",
      "epoch: 06, loss: -0.07181\n",
      "epoch: 07, loss: -0.07079\n",
      "epoch: 08, loss: -0.06842\n",
      "epoch: 09, loss: -0.07139\n",
      "torch.Size([500, 64])\n"
     ]
    },
    {
     "name": "stderr",
     "output_type": "stream",
     "text": [
      " 21%|██        | 209/1000 [1:18:47<5:26:04, 24.73s/it]"
     ]
    },
    {
     "name": "stdout",
     "output_type": "stream",
     "text": [
      "eigenvalues shape torch.Size([5]) eigenvectors shape torch.Size([5, 500])\n",
      "209 /home/phdcs2/Hard_Disk/Datasets/Deep-Spectral-Segmentation/data/object-segmentation/ECSSD/features/dino_vits16/0210.pth\n",
      "dict_keys(['k', 'indices', 'file', 'id', 'model_name', 'patch_size', 'shape'])\n",
      "0210\n",
      "Starting Training\n",
      "epoch: 00, loss: -0.02610\n",
      "epoch: 01, loss: -0.05076\n",
      "epoch: 02, loss: -0.05139\n",
      "epoch: 03, loss: -0.05286\n",
      "epoch: 04, loss: -0.05370\n",
      "epoch: 05, loss: -0.05273\n",
      "epoch: 06, loss: -0.05287\n",
      "epoch: 07, loss: -0.05354\n",
      "epoch: 08, loss: -0.05290\n",
      "epoch: 09, loss: -0.05465\n",
      "torch.Size([425, 64])\n"
     ]
    },
    {
     "name": "stderr",
     "output_type": "stream",
     "text": [
      " 21%|██        | 210/1000 [1:19:12<5:26:06, 24.77s/it]"
     ]
    },
    {
     "name": "stdout",
     "output_type": "stream",
     "text": [
      "eigenvalues shape torch.Size([5]) eigenvectors shape torch.Size([5, 425])\n",
      "210 /home/phdcs2/Hard_Disk/Datasets/Deep-Spectral-Segmentation/data/object-segmentation/ECSSD/features/dino_vits16/0211.pth\n",
      "dict_keys(['k', 'indices', 'file', 'id', 'model_name', 'patch_size', 'shape'])\n",
      "0211\n",
      "Starting Training\n",
      "epoch: 00, loss: -0.10106\n",
      "epoch: 01, loss: -0.11705\n",
      "epoch: 02, loss: -0.11798\n",
      "epoch: 03, loss: -0.11842\n",
      "epoch: 04, loss: -0.11829\n",
      "epoch: 05, loss: -0.11899\n",
      "epoch: 06, loss: -0.11893\n",
      "epoch: 07, loss: -0.11886\n",
      "epoch: 08, loss: -0.11888\n",
      "epoch: 09, loss: -0.11946\n",
      "torch.Size([500, 64])\n"
     ]
    },
    {
     "name": "stderr",
     "output_type": "stream",
     "text": [
      " 21%|██        | 211/1000 [1:19:41<5:41:05, 25.94s/it]"
     ]
    },
    {
     "name": "stdout",
     "output_type": "stream",
     "text": [
      "eigenvalues shape torch.Size([5]) eigenvectors shape torch.Size([5, 500])\n",
      "211 /home/phdcs2/Hard_Disk/Datasets/Deep-Spectral-Segmentation/data/object-segmentation/ECSSD/features/dino_vits16/0212.pth\n",
      "dict_keys(['k', 'indices', 'file', 'id', 'model_name', 'patch_size', 'shape'])\n",
      "0212\n",
      "Starting Training\n",
      "epoch: 00, loss: -0.04601\n",
      "epoch: 01, loss: -0.06369\n",
      "epoch: 02, loss: -0.06388\n",
      "epoch: 03, loss: -0.06411\n",
      "epoch: 04, loss: -0.06415\n",
      "epoch: 05, loss: -0.06461\n",
      "epoch: 06, loss: -0.06518\n",
      "epoch: 07, loss: -0.06475\n",
      "epoch: 08, loss: -0.06512\n",
      "epoch: 09, loss: -0.06471\n",
      "torch.Size([625, 64])\n"
     ]
    },
    {
     "name": "stderr",
     "output_type": "stream",
     "text": [
      " 21%|██        | 212/1000 [1:20:31<7:15:36, 33.17s/it]"
     ]
    },
    {
     "name": "stdout",
     "output_type": "stream",
     "text": [
      "eigenvalues shape torch.Size([5]) eigenvectors shape torch.Size([5, 625])\n",
      "212 /home/phdcs2/Hard_Disk/Datasets/Deep-Spectral-Segmentation/data/object-segmentation/ECSSD/features/dino_vits16/0213.pth\n",
      "dict_keys(['k', 'indices', 'file', 'id', 'model_name', 'patch_size', 'shape'])\n",
      "0213\n",
      "Starting Training\n",
      "epoch: 00, loss: -0.08014\n",
      "epoch: 01, loss: -0.09922\n",
      "epoch: 02, loss: -0.09948\n",
      "epoch: 03, loss: -0.10082\n",
      "epoch: 04, loss: -0.09991\n",
      "epoch: 05, loss: -0.10034\n",
      "epoch: 06, loss: -0.10049\n",
      "epoch: 07, loss: -0.10052\n",
      "epoch: 08, loss: -0.10075\n",
      "epoch: 09, loss: -0.10062\n",
      "torch.Size([450, 64])\n"
     ]
    },
    {
     "name": "stderr",
     "output_type": "stream",
     "text": [
      " 21%|██▏       | 213/1000 [1:20:59<6:53:10, 31.50s/it]"
     ]
    },
    {
     "name": "stdout",
     "output_type": "stream",
     "text": [
      "eigenvalues shape torch.Size([5]) eigenvectors shape torch.Size([5, 450])\n",
      "213 /home/phdcs2/Hard_Disk/Datasets/Deep-Spectral-Segmentation/data/object-segmentation/ECSSD/features/dino_vits16/0214.pth\n",
      "dict_keys(['k', 'indices', 'file', 'id', 'model_name', 'patch_size', 'shape'])\n",
      "0214\n",
      "Starting Training\n",
      "epoch: 00, loss: -0.02174\n",
      "epoch: 01, loss: -0.05364\n",
      "epoch: 02, loss: -0.05782\n",
      "epoch: 03, loss: -0.05855\n",
      "epoch: 04, loss: -0.05895\n",
      "epoch: 05, loss: -0.05926\n",
      "epoch: 06, loss: -0.05961\n",
      "epoch: 07, loss: -0.05936\n",
      "epoch: 08, loss: -0.05949\n",
      "epoch: 09, loss: -0.05967\n",
      "torch.Size([350, 64])\n"
     ]
    },
    {
     "name": "stderr",
     "output_type": "stream",
     "text": [
      " 21%|██▏       | 214/1000 [1:21:23<6:24:09, 29.33s/it]"
     ]
    },
    {
     "name": "stdout",
     "output_type": "stream",
     "text": [
      "eigenvalues shape torch.Size([5]) eigenvectors shape torch.Size([5, 350])\n",
      "214 /home/phdcs2/Hard_Disk/Datasets/Deep-Spectral-Segmentation/data/object-segmentation/ECSSD/features/dino_vits16/0215.pth\n",
      "dict_keys(['k', 'indices', 'file', 'id', 'model_name', 'patch_size', 'shape'])\n",
      "0215\n",
      "Starting Training\n",
      "epoch: 00, loss: -0.03017\n",
      "epoch: 01, loss: -0.05609\n",
      "epoch: 02, loss: -0.05782\n",
      "epoch: 03, loss: -0.05919\n",
      "epoch: 04, loss: -0.05984\n",
      "epoch: 05, loss: -0.05931\n",
      "epoch: 06, loss: -0.06020\n",
      "epoch: 07, loss: -0.06068\n",
      "epoch: 08, loss: -0.05992\n",
      "epoch: 09, loss: -0.05938\n",
      "torch.Size([425, 64])\n"
     ]
    },
    {
     "name": "stderr",
     "output_type": "stream",
     "text": [
      " 22%|██▏       | 215/1000 [1:21:46<5:59:09, 27.45s/it]"
     ]
    },
    {
     "name": "stdout",
     "output_type": "stream",
     "text": [
      "eigenvalues shape torch.Size([5]) eigenvectors shape torch.Size([5, 425])\n",
      "215 /home/phdcs2/Hard_Disk/Datasets/Deep-Spectral-Segmentation/data/object-segmentation/ECSSD/features/dino_vits16/0216.pth\n",
      "dict_keys(['k', 'indices', 'file', 'id', 'model_name', 'patch_size', 'shape'])\n",
      "0216\n",
      "Starting Training\n",
      "epoch: 00, loss: -0.00565\n",
      "epoch: 01, loss: -0.02249\n",
      "epoch: 02, loss: -0.02624\n",
      "epoch: 03, loss: -0.02783\n",
      "epoch: 04, loss: -0.02818\n",
      "epoch: 05, loss: -0.02862\n",
      "epoch: 06, loss: -0.02868\n",
      "epoch: 07, loss: -0.02909\n",
      "epoch: 08, loss: -0.02890\n",
      "epoch: 09, loss: -0.02914\n",
      "torch.Size([450, 64])\n"
     ]
    },
    {
     "name": "stderr",
     "output_type": "stream",
     "text": [
      " 22%|██▏       | 216/1000 [1:22:11<5:48:11, 26.65s/it]"
     ]
    },
    {
     "name": "stdout",
     "output_type": "stream",
     "text": [
      "eigenvalues shape torch.Size([5]) eigenvectors shape torch.Size([5, 450])\n",
      "216 /home/phdcs2/Hard_Disk/Datasets/Deep-Spectral-Segmentation/data/object-segmentation/ECSSD/features/dino_vits16/0217.pth\n",
      "dict_keys(['k', 'indices', 'file', 'id', 'model_name', 'patch_size', 'shape'])\n",
      "0217\n",
      "Starting Training\n",
      "epoch: 00, loss: -0.02598\n",
      "epoch: 01, loss: -0.05908\n",
      "epoch: 02, loss: -0.06729\n",
      "epoch: 03, loss: -0.06539\n",
      "epoch: 04, loss: -0.06771\n",
      "epoch: 05, loss: -0.06873\n",
      "epoch: 06, loss: -0.07036\n",
      "epoch: 07, loss: -0.06651\n",
      "epoch: 08, loss: -0.06868\n",
      "epoch: 09, loss: -0.06945\n",
      "torch.Size([450, 64])\n"
     ]
    },
    {
     "name": "stderr",
     "output_type": "stream",
     "text": [
      " 22%|██▏       | 217/1000 [1:22:36<5:42:49, 26.27s/it]"
     ]
    },
    {
     "name": "stdout",
     "output_type": "stream",
     "text": [
      "eigenvalues shape torch.Size([5]) eigenvectors shape torch.Size([5, 450])\n",
      "217 /home/phdcs2/Hard_Disk/Datasets/Deep-Spectral-Segmentation/data/object-segmentation/ECSSD/features/dino_vits16/0218.pth\n",
      "dict_keys(['k', 'indices', 'file', 'id', 'model_name', 'patch_size', 'shape'])\n",
      "0218\n",
      "Starting Training\n",
      "epoch: 00, loss: -0.05689\n",
      "epoch: 01, loss: -0.07198\n",
      "epoch: 02, loss: -0.07260\n",
      "epoch: 03, loss: -0.07290\n",
      "epoch: 04, loss: -0.07317\n",
      "epoch: 05, loss: -0.07347\n",
      "epoch: 06, loss: -0.07352\n",
      "epoch: 07, loss: -0.07370\n",
      "epoch: 08, loss: -0.07378\n",
      "epoch: 09, loss: -0.07395\n",
      "torch.Size([500, 64])\n"
     ]
    },
    {
     "name": "stderr",
     "output_type": "stream",
     "text": [
      " 22%|██▏       | 218/1000 [1:23:04<5:50:22, 26.88s/it]"
     ]
    },
    {
     "name": "stdout",
     "output_type": "stream",
     "text": [
      "eigenvalues shape torch.Size([5]) eigenvectors shape torch.Size([5, 500])\n",
      "218 /home/phdcs2/Hard_Disk/Datasets/Deep-Spectral-Segmentation/data/object-segmentation/ECSSD/features/dino_vits16/0219.pth\n",
      "dict_keys(['k', 'indices', 'file', 'id', 'model_name', 'patch_size', 'shape'])\n",
      "0219\n",
      "Starting Training\n",
      "epoch: 00, loss: -0.05511\n",
      "epoch: 01, loss: -0.07323\n",
      "epoch: 02, loss: -0.07393\n",
      "epoch: 03, loss: -0.07453\n",
      "epoch: 04, loss: -0.07469\n",
      "epoch: 05, loss: -0.07494\n",
      "epoch: 06, loss: -0.07527\n",
      "epoch: 07, loss: -0.07556\n",
      "epoch: 08, loss: -0.07535\n",
      "epoch: 09, loss: -0.07552\n",
      "torch.Size([450, 64])\n"
     ]
    },
    {
     "name": "stderr",
     "output_type": "stream",
     "text": [
      " 22%|██▏       | 219/1000 [1:23:31<5:47:29, 26.70s/it]"
     ]
    },
    {
     "name": "stdout",
     "output_type": "stream",
     "text": [
      "eigenvalues shape torch.Size([5]) eigenvectors shape torch.Size([5, 450])\n",
      "219 /home/phdcs2/Hard_Disk/Datasets/Deep-Spectral-Segmentation/data/object-segmentation/ECSSD/features/dino_vits16/0220.pth\n",
      "dict_keys(['k', 'indices', 'file', 'id', 'model_name', 'patch_size', 'shape'])\n",
      "0220\n",
      "Starting Training\n",
      "epoch: 00, loss: -0.12049\n",
      "epoch: 01, loss: -0.13874\n",
      "epoch: 02, loss: -0.13937\n",
      "epoch: 03, loss: -0.13953\n",
      "epoch: 04, loss: -0.13964\n",
      "epoch: 05, loss: -0.13991\n",
      "epoch: 06, loss: -0.13983\n",
      "epoch: 07, loss: -0.13999\n",
      "epoch: 08, loss: -0.14002\n",
      "epoch: 09, loss: -0.14030\n",
      "torch.Size([500, 64])\n"
     ]
    },
    {
     "name": "stderr",
     "output_type": "stream",
     "text": [
      " 22%|██▏       | 220/1000 [1:24:01<6:01:31, 27.81s/it]"
     ]
    },
    {
     "name": "stdout",
     "output_type": "stream",
     "text": [
      "eigenvalues shape torch.Size([5]) eigenvectors shape torch.Size([5, 500])\n",
      "220 /home/phdcs2/Hard_Disk/Datasets/Deep-Spectral-Segmentation/data/object-segmentation/ECSSD/features/dino_vits16/0221.pth\n",
      "dict_keys(['k', 'indices', 'file', 'id', 'model_name', 'patch_size', 'shape'])\n",
      "0221\n",
      "Starting Training\n",
      "epoch: 00, loss: -0.05103\n",
      "epoch: 01, loss: -0.07828\n",
      "epoch: 02, loss: -0.08354\n",
      "epoch: 03, loss: -0.08287\n",
      "epoch: 04, loss: -0.08906\n",
      "epoch: 05, loss: -0.08464\n",
      "epoch: 06, loss: -0.08824\n",
      "epoch: 07, loss: -0.08517\n",
      "epoch: 08, loss: -0.08690\n",
      "epoch: 09, loss: -0.08832\n",
      "torch.Size([400, 64])\n"
     ]
    },
    {
     "name": "stderr",
     "output_type": "stream",
     "text": [
      " 22%|██▏       | 221/1000 [1:24:22<5:33:08, 25.66s/it]"
     ]
    },
    {
     "name": "stdout",
     "output_type": "stream",
     "text": [
      "eigenvalues shape torch.Size([5]) eigenvectors shape torch.Size([5, 400])\n",
      "221 /home/phdcs2/Hard_Disk/Datasets/Deep-Spectral-Segmentation/data/object-segmentation/ECSSD/features/dino_vits16/0222.pth\n",
      "dict_keys(['k', 'indices', 'file', 'id', 'model_name', 'patch_size', 'shape'])\n",
      "0222\n",
      "Starting Training\n",
      "epoch: 00, loss: -0.02423\n",
      "epoch: 01, loss: -0.03989\n",
      "epoch: 02, loss: -0.04149\n",
      "epoch: 03, loss: -0.04209\n",
      "epoch: 04, loss: -0.04252\n",
      "epoch: 05, loss: -0.04240\n",
      "epoch: 06, loss: -0.04258\n",
      "epoch: 07, loss: -0.04276\n",
      "epoch: 08, loss: -0.04287\n",
      "epoch: 09, loss: -0.04299\n",
      "torch.Size([500, 64])\n"
     ]
    },
    {
     "name": "stderr",
     "output_type": "stream",
     "text": [
      " 22%|██▏       | 222/1000 [1:24:48<5:34:42, 25.81s/it]"
     ]
    },
    {
     "name": "stdout",
     "output_type": "stream",
     "text": [
      "eigenvalues shape torch.Size([5]) eigenvectors shape torch.Size([5, 500])\n",
      "222 /home/phdcs2/Hard_Disk/Datasets/Deep-Spectral-Segmentation/data/object-segmentation/ECSSD/features/dino_vits16/0223.pth\n",
      "dict_keys(['k', 'indices', 'file', 'id', 'model_name', 'patch_size', 'shape'])\n",
      "0223\n",
      "Starting Training\n",
      "epoch: 00, loss: -0.05978\n",
      "epoch: 01, loss: -0.08485\n",
      "epoch: 02, loss: -0.08545\n",
      "epoch: 03, loss: -0.08577\n",
      "epoch: 04, loss: -0.08573\n",
      "epoch: 05, loss: -0.08601\n",
      "epoch: 06, loss: -0.08613\n",
      "epoch: 07, loss: -0.08644\n",
      "epoch: 08, loss: -0.08647\n",
      "epoch: 09, loss: -0.08647\n",
      "torch.Size([500, 64])\n"
     ]
    },
    {
     "name": "stderr",
     "output_type": "stream",
     "text": [
      " 22%|██▏       | 223/1000 [1:25:14<5:33:59, 25.79s/it]"
     ]
    },
    {
     "name": "stdout",
     "output_type": "stream",
     "text": [
      "eigenvalues shape torch.Size([5]) eigenvectors shape torch.Size([5, 500])\n",
      "223 /home/phdcs2/Hard_Disk/Datasets/Deep-Spectral-Segmentation/data/object-segmentation/ECSSD/features/dino_vits16/0224.pth\n",
      "dict_keys(['k', 'indices', 'file', 'id', 'model_name', 'patch_size', 'shape'])\n",
      "0224\n",
      "Starting Training\n",
      "epoch: 00, loss: -0.03857\n",
      "epoch: 01, loss: -0.07189\n",
      "epoch: 02, loss: -0.07534\n",
      "epoch: 03, loss: -0.07946\n",
      "epoch: 04, loss: -0.07725\n",
      "epoch: 05, loss: -0.08255\n",
      "epoch: 06, loss: -0.07991\n",
      "epoch: 07, loss: -0.08064\n",
      "epoch: 08, loss: -0.08122\n",
      "epoch: 09, loss: -0.08293\n",
      "torch.Size([500, 64])\n"
     ]
    },
    {
     "name": "stderr",
     "output_type": "stream",
     "text": [
      " 22%|██▏       | 224/1000 [1:25:43<5:48:37, 26.96s/it]"
     ]
    },
    {
     "name": "stdout",
     "output_type": "stream",
     "text": [
      "eigenvalues shape torch.Size([5]) eigenvectors shape torch.Size([5, 500])\n",
      "224 /home/phdcs2/Hard_Disk/Datasets/Deep-Spectral-Segmentation/data/object-segmentation/ECSSD/features/dino_vits16/0225.pth\n",
      "dict_keys(['k', 'indices', 'file', 'id', 'model_name', 'patch_size', 'shape'])\n",
      "0225\n",
      "Starting Training\n",
      "epoch: 00, loss: -0.02959\n",
      "epoch: 01, loss: -0.04576\n",
      "epoch: 02, loss: -0.04771\n",
      "epoch: 03, loss: -0.04809\n",
      "epoch: 04, loss: -0.04847\n",
      "epoch: 05, loss: -0.04880\n",
      "epoch: 06, loss: -0.04875\n",
      "epoch: 07, loss: -0.04904\n",
      "epoch: 08, loss: -0.04911\n",
      "epoch: 09, loss: -0.04915\n",
      "torch.Size([450, 64])\n"
     ]
    },
    {
     "name": "stderr",
     "output_type": "stream",
     "text": [
      " 22%|██▎       | 225/1000 [1:26:15<6:04:30, 28.22s/it]"
     ]
    },
    {
     "name": "stdout",
     "output_type": "stream",
     "text": [
      "eigenvalues shape torch.Size([5]) eigenvectors shape torch.Size([5, 450])\n",
      "225 /home/phdcs2/Hard_Disk/Datasets/Deep-Spectral-Segmentation/data/object-segmentation/ECSSD/features/dino_vits16/0226.pth\n",
      "dict_keys(['k', 'indices', 'file', 'id', 'model_name', 'patch_size', 'shape'])\n",
      "0226\n",
      "Starting Training\n",
      "epoch: 00, loss: -0.08648\n",
      "epoch: 01, loss: -0.11529\n",
      "epoch: 02, loss: -0.12040\n",
      "epoch: 03, loss: -0.12506\n",
      "epoch: 04, loss: -0.12316\n",
      "epoch: 05, loss: -0.12302\n",
      "epoch: 06, loss: -0.12390\n",
      "epoch: 07, loss: -0.12554\n",
      "epoch: 08, loss: -0.12564\n",
      "epoch: 09, loss: -0.12696\n",
      "torch.Size([400, 64])\n"
     ]
    },
    {
     "name": "stderr",
     "output_type": "stream",
     "text": [
      " 23%|██▎       | 226/1000 [1:26:38<5:46:57, 26.90s/it]"
     ]
    },
    {
     "name": "stdout",
     "output_type": "stream",
     "text": [
      "eigenvalues shape torch.Size([5]) eigenvectors shape torch.Size([5, 400])\n",
      "226 /home/phdcs2/Hard_Disk/Datasets/Deep-Spectral-Segmentation/data/object-segmentation/ECSSD/features/dino_vits16/0227.pth\n",
      "dict_keys(['k', 'indices', 'file', 'id', 'model_name', 'patch_size', 'shape'])\n",
      "0227\n",
      "Starting Training\n",
      "epoch: 00, loss: -0.05089\n",
      "epoch: 01, loss: -0.08275\n",
      "epoch: 02, loss: -0.08542\n",
      "epoch: 03, loss: -0.08455\n",
      "epoch: 04, loss: -0.08580\n",
      "epoch: 05, loss: -0.08467\n",
      "epoch: 06, loss: -0.08466\n",
      "epoch: 07, loss: -0.08475\n",
      "epoch: 08, loss: -0.08489\n",
      "epoch: 09, loss: -0.08533\n",
      "torch.Size([375, 64])\n"
     ]
    },
    {
     "name": "stderr",
     "output_type": "stream",
     "text": [
      " 23%|██▎       | 227/1000 [1:27:02<5:34:20, 25.95s/it]"
     ]
    },
    {
     "name": "stdout",
     "output_type": "stream",
     "text": [
      "eigenvalues shape torch.Size([5]) eigenvectors shape torch.Size([5, 375])\n",
      "227 /home/phdcs2/Hard_Disk/Datasets/Deep-Spectral-Segmentation/data/object-segmentation/ECSSD/features/dino_vits16/0228.pth\n",
      "dict_keys(['k', 'indices', 'file', 'id', 'model_name', 'patch_size', 'shape'])\n",
      "0228\n",
      "Starting Training\n",
      "epoch: 00, loss: -0.05796\n",
      "epoch: 01, loss: -0.08651\n",
      "epoch: 02, loss: -0.08658\n",
      "epoch: 03, loss: -0.08559\n",
      "epoch: 04, loss: -0.08628\n",
      "epoch: 05, loss: -0.08619\n",
      "epoch: 06, loss: -0.08710\n",
      "epoch: 07, loss: -0.08609\n",
      "epoch: 08, loss: -0.08656\n",
      "epoch: 09, loss: -0.08817\n",
      "torch.Size([375, 64])\n"
     ]
    },
    {
     "name": "stderr",
     "output_type": "stream",
     "text": [
      " 23%|██▎       | 228/1000 [1:27:20<5:03:53, 23.62s/it]"
     ]
    },
    {
     "name": "stdout",
     "output_type": "stream",
     "text": [
      "eigenvalues shape torch.Size([5]) eigenvectors shape torch.Size([5, 375])\n",
      "228 /home/phdcs2/Hard_Disk/Datasets/Deep-Spectral-Segmentation/data/object-segmentation/ECSSD/features/dino_vits16/0229.pth\n",
      "dict_keys(['k', 'indices', 'file', 'id', 'model_name', 'patch_size', 'shape'])\n",
      "0229\n",
      "Starting Training\n",
      "epoch: 00, loss: -0.00454\n",
      "epoch: 01, loss: -0.02685\n",
      "epoch: 02, loss: -0.03198\n",
      "epoch: 03, loss: -0.03328\n",
      "epoch: 04, loss: -0.03396\n",
      "epoch: 05, loss: -0.03429\n",
      "epoch: 06, loss: -0.03431\n",
      "epoch: 07, loss: -0.03470\n",
      "epoch: 08, loss: -0.03462\n",
      "epoch: 09, loss: -0.03464\n",
      "torch.Size([400, 64])\n"
     ]
    },
    {
     "name": "stderr",
     "output_type": "stream",
     "text": [
      " 23%|██▎       | 229/1000 [1:27:41<4:50:54, 22.64s/it]"
     ]
    },
    {
     "name": "stdout",
     "output_type": "stream",
     "text": [
      "eigenvalues shape torch.Size([5]) eigenvectors shape torch.Size([5, 400])\n",
      "229 /home/phdcs2/Hard_Disk/Datasets/Deep-Spectral-Segmentation/data/object-segmentation/ECSSD/features/dino_vits16/0230.pth\n",
      "dict_keys(['k', 'indices', 'file', 'id', 'model_name', 'patch_size', 'shape'])\n",
      "0230\n",
      "Starting Training\n",
      "epoch: 00, loss: -0.04686\n",
      "epoch: 01, loss: -0.06376\n",
      "epoch: 02, loss: -0.06480\n",
      "epoch: 03, loss: -0.06758\n",
      "epoch: 04, loss: -0.06586\n",
      "epoch: 05, loss: -0.06550\n",
      "epoch: 06, loss: -0.06587\n",
      "epoch: 07, loss: -0.06548\n",
      "epoch: 08, loss: -0.06614\n",
      "epoch: 09, loss: -0.06483\n",
      "torch.Size([450, 64])\n"
     ]
    },
    {
     "name": "stderr",
     "output_type": "stream",
     "text": [
      " 23%|██▎       | 230/1000 [1:28:17<5:44:10, 26.82s/it]"
     ]
    },
    {
     "name": "stdout",
     "output_type": "stream",
     "text": [
      "eigenvalues shape torch.Size([5]) eigenvectors shape torch.Size([5, 450])\n",
      "230 /home/phdcs2/Hard_Disk/Datasets/Deep-Spectral-Segmentation/data/object-segmentation/ECSSD/features/dino_vits16/0231.pth\n",
      "dict_keys(['k', 'indices', 'file', 'id', 'model_name', 'patch_size', 'shape'])\n",
      "0231\n",
      "Starting Training\n",
      "epoch: 00, loss: -0.05837\n",
      "epoch: 01, loss: -0.09114\n",
      "epoch: 02, loss: -0.09330\n",
      "epoch: 03, loss: -0.09723\n",
      "epoch: 04, loss: -0.09618\n",
      "epoch: 05, loss: -0.09898\n",
      "epoch: 06, loss: -0.09876\n",
      "epoch: 07, loss: -0.09874\n",
      "epoch: 08, loss: -0.10086\n",
      "epoch: 09, loss: -0.09919\n",
      "torch.Size([525, 64])\n"
     ]
    },
    {
     "name": "stderr",
     "output_type": "stream",
     "text": [
      " 23%|██▎       | 231/1000 [1:29:01<6:49:44, 31.97s/it]"
     ]
    },
    {
     "name": "stdout",
     "output_type": "stream",
     "text": [
      "eigenvalues shape torch.Size([5]) eigenvectors shape torch.Size([5, 525])\n",
      "231 /home/phdcs2/Hard_Disk/Datasets/Deep-Spectral-Segmentation/data/object-segmentation/ECSSD/features/dino_vits16/0232.pth\n",
      "dict_keys(['k', 'indices', 'file', 'id', 'model_name', 'patch_size', 'shape'])\n",
      "0232\n",
      "Starting Training\n",
      "epoch: 00, loss: -0.03692\n",
      "epoch: 01, loss: -0.05986\n",
      "epoch: 02, loss: -0.06062\n",
      "epoch: 03, loss: -0.06081\n",
      "epoch: 04, loss: -0.06113\n",
      "epoch: 05, loss: -0.06139\n",
      "epoch: 06, loss: -0.06145\n",
      "epoch: 07, loss: -0.06155\n",
      "epoch: 08, loss: -0.06177\n",
      "epoch: 09, loss: -0.06171\n",
      "torch.Size([500, 64])\n"
     ]
    },
    {
     "name": "stderr",
     "output_type": "stream",
     "text": [
      " 23%|██▎       | 232/1000 [1:29:35<6:54:52, 32.41s/it]"
     ]
    },
    {
     "name": "stdout",
     "output_type": "stream",
     "text": [
      "eigenvalues shape torch.Size([5]) eigenvectors shape torch.Size([5, 500])\n",
      "232 /home/phdcs2/Hard_Disk/Datasets/Deep-Spectral-Segmentation/data/object-segmentation/ECSSD/features/dino_vits16/0233.pth\n",
      "dict_keys(['k', 'indices', 'file', 'id', 'model_name', 'patch_size', 'shape'])\n",
      "0233\n",
      "Starting Training\n",
      "epoch: 00, loss: -0.04420\n",
      "epoch: 01, loss: -0.06562\n",
      "epoch: 02, loss: -0.07018\n",
      "epoch: 03, loss: -0.07092\n",
      "epoch: 04, loss: -0.07237\n",
      "epoch: 05, loss: -0.07077\n",
      "epoch: 06, loss: -0.07386\n",
      "epoch: 07, loss: -0.07543\n",
      "epoch: 08, loss: -0.07412\n",
      "epoch: 09, loss: -0.07481\n",
      "torch.Size([475, 64])\n"
     ]
    },
    {
     "name": "stderr",
     "output_type": "stream",
     "text": [
      " 23%|██▎       | 233/1000 [1:30:01<6:30:16, 30.53s/it]"
     ]
    },
    {
     "name": "stdout",
     "output_type": "stream",
     "text": [
      "eigenvalues shape torch.Size([5]) eigenvectors shape torch.Size([5, 475])\n",
      "233 /home/phdcs2/Hard_Disk/Datasets/Deep-Spectral-Segmentation/data/object-segmentation/ECSSD/features/dino_vits16/0234.pth\n",
      "dict_keys(['k', 'indices', 'file', 'id', 'model_name', 'patch_size', 'shape'])\n",
      "0234\n",
      "Starting Training\n",
      "epoch: 00, loss: -0.06699\n",
      "epoch: 01, loss: -0.10963\n",
      "epoch: 02, loss: -0.11515\n",
      "epoch: 03, loss: -0.11577\n",
      "epoch: 04, loss: -0.11630\n",
      "epoch: 05, loss: -0.11824\n",
      "epoch: 06, loss: -0.11848\n",
      "epoch: 07, loss: -0.11977\n",
      "epoch: 08, loss: -0.12046\n",
      "epoch: 09, loss: -0.12007\n",
      "torch.Size([400, 64])\n"
     ]
    },
    {
     "name": "stderr",
     "output_type": "stream",
     "text": [
      " 23%|██▎       | 234/1000 [1:30:22<5:53:32, 27.69s/it]"
     ]
    },
    {
     "name": "stdout",
     "output_type": "stream",
     "text": [
      "eigenvalues shape torch.Size([5]) eigenvectors shape torch.Size([5, 400])\n",
      "234 /home/phdcs2/Hard_Disk/Datasets/Deep-Spectral-Segmentation/data/object-segmentation/ECSSD/features/dino_vits16/0235.pth\n",
      "dict_keys(['k', 'indices', 'file', 'id', 'model_name', 'patch_size', 'shape'])\n",
      "0235\n",
      "Starting Training\n",
      "epoch: 00, loss: -0.03968\n",
      "epoch: 01, loss: -0.06607\n",
      "epoch: 02, loss: -0.06510\n",
      "epoch: 03, loss: -0.07187\n",
      "epoch: 04, loss: -0.07058\n",
      "epoch: 05, loss: -0.07037\n",
      "epoch: 06, loss: -0.07272\n",
      "epoch: 07, loss: -0.07294\n",
      "epoch: 08, loss: -0.07235\n",
      "epoch: 09, loss: -0.07235\n",
      "torch.Size([400, 64])\n"
     ]
    },
    {
     "name": "stderr",
     "output_type": "stream",
     "text": [
      " 24%|██▎       | 235/1000 [1:30:46<5:38:26, 26.54s/it]"
     ]
    },
    {
     "name": "stdout",
     "output_type": "stream",
     "text": [
      "eigenvalues shape torch.Size([5]) eigenvectors shape torch.Size([5, 400])\n",
      "235 /home/phdcs2/Hard_Disk/Datasets/Deep-Spectral-Segmentation/data/object-segmentation/ECSSD/features/dino_vits16/0236.pth\n",
      "dict_keys(['k', 'indices', 'file', 'id', 'model_name', 'patch_size', 'shape'])\n",
      "0236\n",
      "Starting Training\n",
      "epoch: 00, loss: -0.05491\n",
      "epoch: 01, loss: -0.07906\n",
      "epoch: 02, loss: -0.07886\n",
      "epoch: 03, loss: -0.07926\n",
      "epoch: 04, loss: -0.07968\n",
      "epoch: 05, loss: -0.07964\n",
      "epoch: 06, loss: -0.07993\n",
      "epoch: 07, loss: -0.08014\n",
      "epoch: 08, loss: -0.08005\n",
      "epoch: 09, loss: -0.08010\n",
      "torch.Size([400, 64])\n"
     ]
    },
    {
     "name": "stderr",
     "output_type": "stream",
     "text": [
      " 24%|██▎       | 236/1000 [1:31:12<5:38:53, 26.62s/it]"
     ]
    },
    {
     "name": "stdout",
     "output_type": "stream",
     "text": [
      "eigenvalues shape torch.Size([5]) eigenvectors shape torch.Size([5, 400])\n",
      "236 /home/phdcs2/Hard_Disk/Datasets/Deep-Spectral-Segmentation/data/object-segmentation/ECSSD/features/dino_vits16/0237.pth\n",
      "dict_keys(['k', 'indices', 'file', 'id', 'model_name', 'patch_size', 'shape'])\n",
      "0237\n",
      "Starting Training\n",
      "epoch: 00, loss: -0.08231\n",
      "epoch: 01, loss: -0.10736\n",
      "epoch: 02, loss: -0.10689\n",
      "epoch: 03, loss: -0.11142\n",
      "epoch: 04, loss: -0.11326\n",
      "epoch: 05, loss: -0.11266\n",
      "epoch: 06, loss: -0.11373\n",
      "epoch: 07, loss: -0.11290\n",
      "epoch: 08, loss: -0.11591\n",
      "epoch: 09, loss: -0.11467\n",
      "torch.Size([400, 64])\n"
     ]
    },
    {
     "name": "stderr",
     "output_type": "stream",
     "text": [
      " 24%|██▎       | 237/1000 [1:31:38<5:32:42, 26.16s/it]"
     ]
    },
    {
     "name": "stdout",
     "output_type": "stream",
     "text": [
      "eigenvalues shape torch.Size([5]) eigenvectors shape torch.Size([5, 400])\n",
      "237 /home/phdcs2/Hard_Disk/Datasets/Deep-Spectral-Segmentation/data/object-segmentation/ECSSD/features/dino_vits16/0238.pth\n",
      "dict_keys(['k', 'indices', 'file', 'id', 'model_name', 'patch_size', 'shape'])\n",
      "0238\n",
      "Starting Training\n",
      "epoch: 00, loss: -0.00958\n",
      "epoch: 01, loss: -0.03108\n",
      "epoch: 02, loss: -0.03524\n",
      "epoch: 03, loss: -0.03645\n",
      "epoch: 04, loss: -0.03694\n",
      "epoch: 05, loss: -0.03729\n",
      "epoch: 06, loss: -0.03753\n",
      "epoch: 07, loss: -0.03765\n",
      "epoch: 08, loss: -0.03786\n",
      "epoch: 09, loss: -0.03798\n",
      "torch.Size([400, 64])\n"
     ]
    },
    {
     "name": "stderr",
     "output_type": "stream",
     "text": [
      " 24%|██▍       | 238/1000 [1:32:02<5:25:33, 25.63s/it]"
     ]
    },
    {
     "name": "stdout",
     "output_type": "stream",
     "text": [
      "eigenvalues shape torch.Size([5]) eigenvectors shape torch.Size([5, 400])\n",
      "238 /home/phdcs2/Hard_Disk/Datasets/Deep-Spectral-Segmentation/data/object-segmentation/ECSSD/features/dino_vits16/0239.pth\n",
      "dict_keys(['k', 'indices', 'file', 'id', 'model_name', 'patch_size', 'shape'])\n",
      "0239\n",
      "Starting Training\n",
      "epoch: 00, loss: -0.02987\n",
      "epoch: 01, loss: -0.05976\n",
      "epoch: 02, loss: -0.06262\n",
      "epoch: 03, loss: -0.06273\n",
      "epoch: 04, loss: -0.06291\n",
      "epoch: 05, loss: -0.06319\n",
      "epoch: 06, loss: -0.06350\n",
      "epoch: 07, loss: -0.06342\n",
      "epoch: 08, loss: -0.06364\n",
      "epoch: 09, loss: -0.06373\n",
      "torch.Size([400, 64])\n"
     ]
    },
    {
     "name": "stderr",
     "output_type": "stream",
     "text": [
      " 24%|██▍       | 239/1000 [1:32:25<5:13:39, 24.73s/it]"
     ]
    },
    {
     "name": "stdout",
     "output_type": "stream",
     "text": [
      "eigenvalues shape torch.Size([5]) eigenvectors shape torch.Size([5, 400])\n",
      "239 /home/phdcs2/Hard_Disk/Datasets/Deep-Spectral-Segmentation/data/object-segmentation/ECSSD/features/dino_vits16/0240.pth\n",
      "dict_keys(['k', 'indices', 'file', 'id', 'model_name', 'patch_size', 'shape'])\n",
      "0240\n",
      "Starting Training\n",
      "epoch: 00, loss: -0.02126\n",
      "epoch: 01, loss: -0.04390\n",
      "epoch: 02, loss: -0.04765\n",
      "epoch: 03, loss: -0.04873\n",
      "epoch: 04, loss: -0.04858\n",
      "epoch: 05, loss: -0.04885\n",
      "epoch: 06, loss: -0.04916\n",
      "epoch: 07, loss: -0.04914\n",
      "epoch: 08, loss: -0.04935\n",
      "epoch: 09, loss: -0.04933\n",
      "torch.Size([350, 64])\n"
     ]
    },
    {
     "name": "stderr",
     "output_type": "stream",
     "text": [
      " 24%|██▍       | 240/1000 [1:32:46<4:59:06, 23.61s/it]"
     ]
    },
    {
     "name": "stdout",
     "output_type": "stream",
     "text": [
      "eigenvalues shape torch.Size([5]) eigenvectors shape torch.Size([5, 350])\n",
      "240 /home/phdcs2/Hard_Disk/Datasets/Deep-Spectral-Segmentation/data/object-segmentation/ECSSD/features/dino_vits16/0241.pth\n",
      "dict_keys(['k', 'indices', 'file', 'id', 'model_name', 'patch_size', 'shape'])\n",
      "0241\n",
      "Starting Training\n",
      "epoch: 00, loss: -0.05928\n",
      "epoch: 01, loss: -0.07916\n",
      "epoch: 02, loss: -0.08062\n",
      "epoch: 03, loss: -0.08077\n",
      "epoch: 04, loss: -0.08077\n",
      "epoch: 05, loss: -0.08093\n",
      "epoch: 06, loss: -0.08113\n",
      "epoch: 07, loss: -0.08124\n",
      "epoch: 08, loss: -0.08154\n",
      "epoch: 09, loss: -0.08154\n",
      "torch.Size([400, 64])\n"
     ]
    },
    {
     "name": "stderr",
     "output_type": "stream",
     "text": [
      " 24%|██▍       | 241/1000 [1:33:10<5:02:51, 23.94s/it]"
     ]
    },
    {
     "name": "stdout",
     "output_type": "stream",
     "text": [
      "eigenvalues shape torch.Size([5]) eigenvectors shape torch.Size([5, 400])\n",
      "241 /home/phdcs2/Hard_Disk/Datasets/Deep-Spectral-Segmentation/data/object-segmentation/ECSSD/features/dino_vits16/0242.pth\n",
      "dict_keys(['k', 'indices', 'file', 'id', 'model_name', 'patch_size', 'shape'])\n",
      "0242\n",
      "Starting Training\n",
      "epoch: 00, loss: -0.01940\n",
      "epoch: 01, loss: -0.04399\n",
      "epoch: 02, loss: -0.04635\n",
      "epoch: 03, loss: -0.04690\n",
      "epoch: 04, loss: -0.04774\n",
      "epoch: 05, loss: -0.04714\n",
      "epoch: 06, loss: -0.04801\n",
      "epoch: 07, loss: -0.04755\n",
      "epoch: 08, loss: -0.04761\n",
      "epoch: 09, loss: -0.04864\n",
      "torch.Size([325, 64])\n"
     ]
    },
    {
     "name": "stderr",
     "output_type": "stream",
     "text": [
      " 24%|██▍       | 242/1000 [1:33:30<4:44:57, 22.56s/it]"
     ]
    },
    {
     "name": "stdout",
     "output_type": "stream",
     "text": [
      "eigenvalues shape torch.Size([5]) eigenvectors shape torch.Size([5, 325])\n",
      "242 /home/phdcs2/Hard_Disk/Datasets/Deep-Spectral-Segmentation/data/object-segmentation/ECSSD/features/dino_vits16/0243.pth\n",
      "dict_keys(['k', 'indices', 'file', 'id', 'model_name', 'patch_size', 'shape'])\n",
      "0243\n",
      "Starting Training\n",
      "epoch: 00, loss: -0.02872\n",
      "epoch: 01, loss: -0.05937\n",
      "epoch: 02, loss: -0.06150\n",
      "epoch: 03, loss: -0.06224\n",
      "epoch: 04, loss: -0.06286\n",
      "epoch: 05, loss: -0.06258\n",
      "epoch: 06, loss: -0.06285\n",
      "epoch: 07, loss: -0.06277\n",
      "epoch: 08, loss: -0.06313\n",
      "epoch: 09, loss: -0.06362\n",
      "torch.Size([400, 64])\n"
     ]
    },
    {
     "name": "stderr",
     "output_type": "stream",
     "text": [
      " 24%|██▍       | 243/1000 [1:33:56<4:58:24, 23.65s/it]"
     ]
    },
    {
     "name": "stdout",
     "output_type": "stream",
     "text": [
      "eigenvalues shape torch.Size([5]) eigenvectors shape torch.Size([5, 400])\n",
      "243 /home/phdcs2/Hard_Disk/Datasets/Deep-Spectral-Segmentation/data/object-segmentation/ECSSD/features/dino_vits16/0244.pth\n",
      "dict_keys(['k', 'indices', 'file', 'id', 'model_name', 'patch_size', 'shape'])\n",
      "0244\n",
      "Starting Training\n",
      "epoch: 00, loss: -0.11486\n",
      "epoch: 01, loss: -0.15438\n",
      "epoch: 02, loss: -0.16249\n",
      "epoch: 03, loss: -0.16425\n",
      "epoch: 04, loss: -0.16372\n",
      "epoch: 05, loss: -0.16795\n",
      "epoch: 06, loss: -0.16892\n",
      "epoch: 07, loss: -0.16542\n",
      "epoch: 08, loss: -0.16845\n",
      "epoch: 09, loss: -0.16892\n",
      "torch.Size([400, 64])\n"
     ]
    },
    {
     "name": "stderr",
     "output_type": "stream",
     "text": [
      " 24%|██▍       | 244/1000 [1:34:20<5:01:22, 23.92s/it]"
     ]
    },
    {
     "name": "stdout",
     "output_type": "stream",
     "text": [
      "eigenvalues shape torch.Size([5]) eigenvectors shape torch.Size([5, 400])\n",
      "244 /home/phdcs2/Hard_Disk/Datasets/Deep-Spectral-Segmentation/data/object-segmentation/ECSSD/features/dino_vits16/0245.pth\n",
      "dict_keys(['k', 'indices', 'file', 'id', 'model_name', 'patch_size', 'shape'])\n",
      "0245\n",
      "Starting Training\n",
      "epoch: 00, loss: -0.01661\n",
      "epoch: 01, loss: -0.03050\n",
      "epoch: 02, loss: -0.03843\n",
      "epoch: 03, loss: -0.04020\n",
      "epoch: 04, loss: -0.04097\n",
      "epoch: 05, loss: -0.04393\n",
      "epoch: 06, loss: -0.04400\n",
      "epoch: 07, loss: -0.04520\n",
      "epoch: 08, loss: -0.04361\n",
      "epoch: 09, loss: -0.04750\n",
      "torch.Size([400, 64])\n"
     ]
    },
    {
     "name": "stderr",
     "output_type": "stream",
     "text": [
      " 24%|██▍       | 245/1000 [1:34:49<5:19:59, 25.43s/it]"
     ]
    },
    {
     "name": "stdout",
     "output_type": "stream",
     "text": [
      "eigenvalues shape torch.Size([5]) eigenvectors shape torch.Size([5, 400])\n",
      "245 /home/phdcs2/Hard_Disk/Datasets/Deep-Spectral-Segmentation/data/object-segmentation/ECSSD/features/dino_vits16/0246.pth\n",
      "dict_keys(['k', 'indices', 'file', 'id', 'model_name', 'patch_size', 'shape'])\n",
      "0246\n",
      "Starting Training\n",
      "epoch: 00, loss: -0.02466\n",
      "epoch: 01, loss: -0.04122\n",
      "epoch: 02, loss: -0.04288\n",
      "epoch: 03, loss: -0.04619\n",
      "epoch: 04, loss: -0.04491\n",
      "epoch: 05, loss: -0.04644\n",
      "epoch: 06, loss: -0.04671\n",
      "epoch: 07, loss: -0.04785\n",
      "epoch: 08, loss: -0.04628\n",
      "epoch: 09, loss: -0.04696\n",
      "torch.Size([400, 64])\n"
     ]
    },
    {
     "name": "stderr",
     "output_type": "stream",
     "text": [
      " 25%|██▍       | 246/1000 [1:35:16<5:25:09, 25.87s/it]"
     ]
    },
    {
     "name": "stdout",
     "output_type": "stream",
     "text": [
      "eigenvalues shape torch.Size([5]) eigenvectors shape torch.Size([5, 400])\n",
      "246 /home/phdcs2/Hard_Disk/Datasets/Deep-Spectral-Segmentation/data/object-segmentation/ECSSD/features/dino_vits16/0247.pth\n",
      "dict_keys(['k', 'indices', 'file', 'id', 'model_name', 'patch_size', 'shape'])\n",
      "0247\n",
      "Starting Training\n",
      "epoch: 00, loss: -0.05571\n",
      "epoch: 01, loss: -0.08754\n",
      "epoch: 02, loss: -0.09246\n",
      "epoch: 03, loss: -0.09370\n",
      "epoch: 04, loss: -0.09256\n",
      "epoch: 05, loss: -0.09285\n",
      "epoch: 06, loss: -0.09330\n",
      "epoch: 07, loss: -0.09373\n",
      "epoch: 08, loss: -0.09445\n",
      "epoch: 09, loss: -0.09374\n",
      "torch.Size([400, 64])\n"
     ]
    },
    {
     "name": "stderr",
     "output_type": "stream",
     "text": [
      " 25%|██▍       | 247/1000 [1:35:47<5:41:56, 27.25s/it]"
     ]
    },
    {
     "name": "stdout",
     "output_type": "stream",
     "text": [
      "eigenvalues shape torch.Size([5]) eigenvectors shape torch.Size([5, 400])\n",
      "247 /home/phdcs2/Hard_Disk/Datasets/Deep-Spectral-Segmentation/data/object-segmentation/ECSSD/features/dino_vits16/0248.pth\n",
      "dict_keys(['k', 'indices', 'file', 'id', 'model_name', 'patch_size', 'shape'])\n",
      "0248\n",
      "Starting Training\n",
      "epoch: 00, loss: -0.00278\n",
      "epoch: 01, loss: -0.02247\n",
      "epoch: 02, loss: -0.02674\n",
      "epoch: 03, loss: -0.02796\n",
      "epoch: 04, loss: -0.02847\n",
      "epoch: 05, loss: -0.02906\n",
      "epoch: 06, loss: -0.02919\n",
      "epoch: 07, loss: -0.02926\n",
      "epoch: 08, loss: -0.02945\n",
      "epoch: 09, loss: -0.02961\n",
      "torch.Size([450, 64])\n"
     ]
    },
    {
     "name": "stderr",
     "output_type": "stream",
     "text": [
      " 25%|██▍       | 248/1000 [1:36:14<5:40:59, 27.21s/it]"
     ]
    },
    {
     "name": "stdout",
     "output_type": "stream",
     "text": [
      "eigenvalues shape torch.Size([5]) eigenvectors shape torch.Size([5, 450])\n",
      "248 /home/phdcs2/Hard_Disk/Datasets/Deep-Spectral-Segmentation/data/object-segmentation/ECSSD/features/dino_vits16/0249.pth\n",
      "dict_keys(['k', 'indices', 'file', 'id', 'model_name', 'patch_size', 'shape'])\n",
      "0249\n",
      "Starting Training\n",
      "epoch: 00, loss: -0.03321\n",
      "epoch: 01, loss: -0.06150\n",
      "epoch: 02, loss: -0.06283\n",
      "epoch: 03, loss: -0.06744\n",
      "epoch: 04, loss: -0.06725\n",
      "epoch: 05, loss: -0.07212\n",
      "epoch: 06, loss: -0.06880\n",
      "epoch: 07, loss: -0.06916\n",
      "epoch: 08, loss: -0.07166\n",
      "epoch: 09, loss: -0.07104\n",
      "torch.Size([425, 64])\n"
     ]
    },
    {
     "name": "stderr",
     "output_type": "stream",
     "text": [
      " 25%|██▍       | 249/1000 [1:36:40<5:35:09, 26.78s/it]"
     ]
    },
    {
     "name": "stdout",
     "output_type": "stream",
     "text": [
      "eigenvalues shape torch.Size([5]) eigenvectors shape torch.Size([5, 425])\n",
      "249 /home/phdcs2/Hard_Disk/Datasets/Deep-Spectral-Segmentation/data/object-segmentation/ECSSD/features/dino_vits16/0250.pth\n",
      "dict_keys(['k', 'indices', 'file', 'id', 'model_name', 'patch_size', 'shape'])\n",
      "0250\n",
      "Starting Training\n",
      "epoch: 00, loss: -0.08145\n",
      "epoch: 01, loss: -0.11022\n",
      "epoch: 02, loss: -0.11233\n",
      "epoch: 03, loss: -0.11495\n",
      "epoch: 04, loss: -0.11601\n",
      "epoch: 05, loss: -0.11487\n",
      "epoch: 06, loss: -0.11793\n",
      "epoch: 07, loss: -0.11718\n",
      "epoch: 08, loss: -0.11681\n",
      "epoch: 09, loss: -0.11695\n",
      "torch.Size([400, 64])\n"
     ]
    },
    {
     "name": "stderr",
     "output_type": "stream",
     "text": [
      " 25%|██▌       | 250/1000 [1:36:59<5:07:36, 24.61s/it]"
     ]
    },
    {
     "name": "stdout",
     "output_type": "stream",
     "text": [
      "eigenvalues shape torch.Size([5]) eigenvectors shape torch.Size([5, 400])\n",
      "250 /home/phdcs2/Hard_Disk/Datasets/Deep-Spectral-Segmentation/data/object-segmentation/ECSSD/features/dino_vits16/0251.pth\n",
      "dict_keys(['k', 'indices', 'file', 'id', 'model_name', 'patch_size', 'shape'])\n",
      "0251\n",
      "Starting Training\n",
      "epoch: 00, loss: -0.06285\n",
      "epoch: 01, loss: -0.09475\n",
      "epoch: 02, loss: -0.10244\n",
      "epoch: 03, loss: -0.09991\n",
      "epoch: 04, loss: -0.10338\n",
      "epoch: 05, loss: -0.10348\n",
      "epoch: 06, loss: -0.10535\n",
      "epoch: 07, loss: -0.10184\n",
      "epoch: 08, loss: -0.10238\n",
      "epoch: 09, loss: -0.10576\n",
      "torch.Size([450, 64])\n"
     ]
    },
    {
     "name": "stderr",
     "output_type": "stream",
     "text": [
      " 25%|██▌       | 251/1000 [1:37:26<5:14:45, 25.21s/it]"
     ]
    },
    {
     "name": "stdout",
     "output_type": "stream",
     "text": [
      "eigenvalues shape torch.Size([5]) eigenvectors shape torch.Size([5, 450])\n",
      "251 /home/phdcs2/Hard_Disk/Datasets/Deep-Spectral-Segmentation/data/object-segmentation/ECSSD/features/dino_vits16/0252.pth\n",
      "dict_keys(['k', 'indices', 'file', 'id', 'model_name', 'patch_size', 'shape'])\n",
      "0252\n",
      "Starting Training\n",
      "epoch: 00, loss: -0.02304\n",
      "epoch: 01, loss: -0.04328\n",
      "epoch: 02, loss: -0.04601\n",
      "epoch: 03, loss: -0.04641\n",
      "epoch: 04, loss: -0.04681\n",
      "epoch: 05, loss: -0.04700\n",
      "epoch: 06, loss: -0.04709\n",
      "epoch: 07, loss: -0.04747\n",
      "epoch: 08, loss: -0.04757\n",
      "epoch: 09, loss: -0.04761\n",
      "torch.Size([450, 64])\n"
     ]
    },
    {
     "name": "stderr",
     "output_type": "stream",
     "text": [
      " 25%|██▌       | 252/1000 [1:37:51<5:12:50, 25.09s/it]"
     ]
    },
    {
     "name": "stdout",
     "output_type": "stream",
     "text": [
      "eigenvalues shape torch.Size([5]) eigenvectors shape torch.Size([5, 450])\n",
      "252 /home/phdcs2/Hard_Disk/Datasets/Deep-Spectral-Segmentation/data/object-segmentation/ECSSD/features/dino_vits16/0253.pth\n",
      "dict_keys(['k', 'indices', 'file', 'id', 'model_name', 'patch_size', 'shape'])\n",
      "0253\n",
      "Starting Training\n",
      "epoch: 00, loss: -0.02272\n",
      "epoch: 01, loss: -0.04689\n",
      "epoch: 02, loss: -0.05080\n",
      "epoch: 03, loss: -0.05448\n",
      "epoch: 04, loss: -0.05405\n",
      "epoch: 05, loss: -0.05437\n",
      "epoch: 06, loss: -0.05540\n",
      "epoch: 07, loss: -0.05393\n",
      "epoch: 08, loss: -0.05598\n",
      "epoch: 09, loss: -0.05547\n",
      "torch.Size([450, 64])\n"
     ]
    },
    {
     "name": "stderr",
     "output_type": "stream",
     "text": [
      " 25%|██▌       | 253/1000 [1:38:13<5:03:19, 24.36s/it]"
     ]
    },
    {
     "name": "stdout",
     "output_type": "stream",
     "text": [
      "eigenvalues shape torch.Size([5]) eigenvectors shape torch.Size([5, 450])\n",
      "253 /home/phdcs2/Hard_Disk/Datasets/Deep-Spectral-Segmentation/data/object-segmentation/ECSSD/features/dino_vits16/0254.pth\n",
      "dict_keys(['k', 'indices', 'file', 'id', 'model_name', 'patch_size', 'shape'])\n",
      "0254\n",
      "Starting Training\n",
      "epoch: 00, loss: -0.04209\n",
      "epoch: 01, loss: -0.06527\n",
      "epoch: 02, loss: -0.07131\n",
      "epoch: 03, loss: -0.07293\n",
      "epoch: 04, loss: -0.07054\n",
      "epoch: 05, loss: -0.07250\n",
      "epoch: 06, loss: -0.07159\n",
      "epoch: 07, loss: -0.07040\n",
      "epoch: 08, loss: -0.07381\n",
      "epoch: 09, loss: -0.07556\n",
      "torch.Size([525, 64])\n"
     ]
    },
    {
     "name": "stderr",
     "output_type": "stream",
     "text": [
      " 25%|██▌       | 254/1000 [1:38:57<6:15:51, 30.23s/it]"
     ]
    },
    {
     "name": "stdout",
     "output_type": "stream",
     "text": [
      "eigenvalues shape torch.Size([5]) eigenvectors shape torch.Size([5, 525])\n",
      "254 /home/phdcs2/Hard_Disk/Datasets/Deep-Spectral-Segmentation/data/object-segmentation/ECSSD/features/dino_vits16/0255.pth\n",
      "dict_keys(['k', 'indices', 'file', 'id', 'model_name', 'patch_size', 'shape'])\n",
      "0255\n",
      "Starting Training\n",
      "epoch: 00, loss: -0.03086\n",
      "epoch: 01, loss: -0.05330\n",
      "epoch: 02, loss: -0.05666\n",
      "epoch: 03, loss: -0.05704\n",
      "epoch: 04, loss: -0.05779\n",
      "epoch: 05, loss: -0.05996\n",
      "epoch: 06, loss: -0.05947\n",
      "epoch: 07, loss: -0.05796\n",
      "epoch: 08, loss: -0.05934\n",
      "epoch: 09, loss: -0.05985\n",
      "torch.Size([575, 64])\n"
     ]
    },
    {
     "name": "stderr",
     "output_type": "stream",
     "text": [
      " 26%|██▌       | 255/1000 [1:39:43<7:12:01, 34.79s/it]"
     ]
    },
    {
     "name": "stdout",
     "output_type": "stream",
     "text": [
      "eigenvalues shape torch.Size([5]) eigenvectors shape torch.Size([5, 575])\n",
      "255 /home/phdcs2/Hard_Disk/Datasets/Deep-Spectral-Segmentation/data/object-segmentation/ECSSD/features/dino_vits16/0256.pth\n",
      "dict_keys(['k', 'indices', 'file', 'id', 'model_name', 'patch_size', 'shape'])\n",
      "0256\n",
      "Starting Training\n",
      "epoch: 00, loss: -0.05255\n",
      "epoch: 01, loss: -0.08580\n",
      "epoch: 02, loss: -0.08887\n",
      "epoch: 03, loss: -0.09226\n",
      "epoch: 04, loss: -0.09398\n",
      "epoch: 05, loss: -0.09184\n",
      "epoch: 06, loss: -0.09207\n",
      "epoch: 07, loss: -0.09335\n",
      "epoch: 08, loss: -0.09275\n",
      "epoch: 09, loss: -0.09346\n",
      "torch.Size([375, 64])\n"
     ]
    },
    {
     "name": "stderr",
     "output_type": "stream",
     "text": [
      " 26%|██▌       | 256/1000 [1:40:05<6:24:25, 31.00s/it]"
     ]
    },
    {
     "name": "stdout",
     "output_type": "stream",
     "text": [
      "eigenvalues shape torch.Size([5]) eigenvectors shape torch.Size([5, 375])\n",
      "256 /home/phdcs2/Hard_Disk/Datasets/Deep-Spectral-Segmentation/data/object-segmentation/ECSSD/features/dino_vits16/0257.pth\n",
      "dict_keys(['k', 'indices', 'file', 'id', 'model_name', 'patch_size', 'shape'])\n",
      "0257\n",
      "Starting Training\n",
      "epoch: 00, loss: -0.03691\n",
      "epoch: 01, loss: -0.06453\n",
      "epoch: 02, loss: -0.06471\n",
      "epoch: 03, loss: -0.06464\n",
      "epoch: 04, loss: -0.06659\n",
      "epoch: 05, loss: -0.06650\n",
      "epoch: 06, loss: -0.06677\n",
      "epoch: 07, loss: -0.06537\n",
      "epoch: 08, loss: -0.06566\n",
      "epoch: 09, loss: -0.06699\n",
      "torch.Size([475, 64])\n"
     ]
    },
    {
     "name": "stderr",
     "output_type": "stream",
     "text": [
      " 26%|██▌       | 257/1000 [1:40:34<6:18:47, 30.59s/it]"
     ]
    },
    {
     "name": "stdout",
     "output_type": "stream",
     "text": [
      "eigenvalues shape torch.Size([5]) eigenvectors shape torch.Size([5, 475])\n",
      "257 /home/phdcs2/Hard_Disk/Datasets/Deep-Spectral-Segmentation/data/object-segmentation/ECSSD/features/dino_vits16/0258.pth\n",
      "dict_keys(['k', 'indices', 'file', 'id', 'model_name', 'patch_size', 'shape'])\n",
      "0258\n",
      "Starting Training\n",
      "epoch: 00, loss: -0.01656\n",
      "epoch: 01, loss: -0.04564\n",
      "epoch: 02, loss: -0.04610\n",
      "epoch: 03, loss: -0.04475\n",
      "epoch: 04, loss: -0.04790\n",
      "epoch: 05, loss: -0.04998\n",
      "epoch: 06, loss: -0.05065\n",
      "epoch: 07, loss: -0.04739\n",
      "epoch: 08, loss: -0.04929\n",
      "epoch: 09, loss: -0.05091\n",
      "torch.Size([400, 64])\n"
     ]
    },
    {
     "name": "stderr",
     "output_type": "stream",
     "text": [
      " 26%|██▌       | 258/1000 [1:40:55<5:41:58, 27.65s/it]"
     ]
    },
    {
     "name": "stdout",
     "output_type": "stream",
     "text": [
      "eigenvalues shape torch.Size([5]) eigenvectors shape torch.Size([5, 400])\n",
      "258 /home/phdcs2/Hard_Disk/Datasets/Deep-Spectral-Segmentation/data/object-segmentation/ECSSD/features/dino_vits16/0259.pth\n",
      "dict_keys(['k', 'indices', 'file', 'id', 'model_name', 'patch_size', 'shape'])\n",
      "0259\n",
      "Starting Training\n",
      "epoch: 00, loss: -0.03444\n",
      "epoch: 01, loss: -0.05904\n",
      "epoch: 02, loss: -0.06010\n",
      "epoch: 03, loss: -0.06074\n",
      "epoch: 04, loss: -0.06067\n",
      "epoch: 05, loss: -0.06103\n",
      "epoch: 06, loss: -0.06107\n",
      "epoch: 07, loss: -0.06121\n",
      "epoch: 08, loss: -0.06127\n",
      "epoch: 09, loss: -0.06143\n",
      "torch.Size([450, 64])\n"
     ]
    },
    {
     "name": "stderr",
     "output_type": "stream",
     "text": [
      " 26%|██▌       | 259/1000 [1:41:19<5:26:20, 26.43s/it]"
     ]
    },
    {
     "name": "stdout",
     "output_type": "stream",
     "text": [
      "eigenvalues shape torch.Size([5]) eigenvectors shape torch.Size([5, 450])\n",
      "259 /home/phdcs2/Hard_Disk/Datasets/Deep-Spectral-Segmentation/data/object-segmentation/ECSSD/features/dino_vits16/0260.pth\n",
      "dict_keys(['k', 'indices', 'file', 'id', 'model_name', 'patch_size', 'shape'])\n",
      "0260\n",
      "Starting Training\n",
      "epoch: 00, loss: -0.07210\n",
      "epoch: 01, loss: -0.09635\n",
      "epoch: 02, loss: -0.09823\n",
      "epoch: 03, loss: -0.09913\n",
      "epoch: 04, loss: -0.09872\n",
      "epoch: 05, loss: -0.09825\n",
      "epoch: 06, loss: -0.10165\n",
      "epoch: 07, loss: -0.10146\n",
      "epoch: 08, loss: -0.10138\n",
      "epoch: 09, loss: -0.10168\n",
      "torch.Size([450, 64])\n"
     ]
    },
    {
     "name": "stderr",
     "output_type": "stream",
     "text": [
      " 26%|██▌       | 260/1000 [1:41:44<5:21:36, 26.08s/it]"
     ]
    },
    {
     "name": "stdout",
     "output_type": "stream",
     "text": [
      "eigenvalues shape torch.Size([5]) eigenvectors shape torch.Size([5, 450])\n",
      "260 /home/phdcs2/Hard_Disk/Datasets/Deep-Spectral-Segmentation/data/object-segmentation/ECSSD/features/dino_vits16/0261.pth\n",
      "dict_keys(['k', 'indices', 'file', 'id', 'model_name', 'patch_size', 'shape'])\n",
      "0261\n",
      "Starting Training\n",
      "epoch: 00, loss: -0.04885\n",
      "epoch: 01, loss: -0.07027\n",
      "epoch: 02, loss: -0.07120\n",
      "epoch: 03, loss: -0.07156\n",
      "epoch: 04, loss: -0.07180\n",
      "epoch: 05, loss: -0.07187\n",
      "epoch: 06, loss: -0.07221\n",
      "epoch: 07, loss: -0.07210\n",
      "epoch: 08, loss: -0.07220\n",
      "epoch: 09, loss: -0.07249\n",
      "torch.Size([400, 64])\n"
     ]
    },
    {
     "name": "stderr",
     "output_type": "stream",
     "text": [
      " 26%|██▌       | 261/1000 [1:42:05<5:01:06, 24.45s/it]"
     ]
    },
    {
     "name": "stdout",
     "output_type": "stream",
     "text": [
      "eigenvalues shape torch.Size([5]) eigenvectors shape torch.Size([5, 400])\n",
      "261 /home/phdcs2/Hard_Disk/Datasets/Deep-Spectral-Segmentation/data/object-segmentation/ECSSD/features/dino_vits16/0262.pth\n",
      "dict_keys(['k', 'indices', 'file', 'id', 'model_name', 'patch_size', 'shape'])\n",
      "0262\n",
      "Starting Training\n",
      "epoch: 00, loss: -0.04538\n",
      "epoch: 01, loss: -0.07195\n",
      "epoch: 02, loss: -0.07667\n",
      "epoch: 03, loss: -0.07790\n",
      "epoch: 04, loss: -0.08030\n",
      "epoch: 05, loss: -0.07884\n",
      "epoch: 06, loss: -0.08094\n",
      "epoch: 07, loss: -0.08034\n",
      "epoch: 08, loss: -0.08237\n",
      "epoch: 09, loss: -0.08320\n",
      "torch.Size([450, 64])\n"
     ]
    },
    {
     "name": "stderr",
     "output_type": "stream",
     "text": [
      " 26%|██▌       | 262/1000 [1:42:33<5:14:43, 25.59s/it]"
     ]
    },
    {
     "name": "stdout",
     "output_type": "stream",
     "text": [
      "eigenvalues shape torch.Size([5]) eigenvectors shape torch.Size([5, 450])\n",
      "262 /home/phdcs2/Hard_Disk/Datasets/Deep-Spectral-Segmentation/data/object-segmentation/ECSSD/features/dino_vits16/0263.pth\n",
      "dict_keys(['k', 'indices', 'file', 'id', 'model_name', 'patch_size', 'shape'])\n",
      "0263\n",
      "Starting Training\n",
      "epoch: 00, loss: -0.04111\n",
      "epoch: 01, loss: -0.08107\n",
      "epoch: 02, loss: -0.08808\n",
      "epoch: 03, loss: -0.08915\n",
      "epoch: 04, loss: -0.08997\n",
      "epoch: 05, loss: -0.08999\n",
      "epoch: 06, loss: -0.09008\n",
      "epoch: 07, loss: -0.08849\n",
      "epoch: 08, loss: -0.08983\n",
      "epoch: 09, loss: -0.09051\n",
      "torch.Size([450, 64])\n"
     ]
    },
    {
     "name": "stderr",
     "output_type": "stream",
     "text": [
      " 26%|██▋       | 263/1000 [1:42:57<5:10:02, 25.24s/it]"
     ]
    },
    {
     "name": "stdout",
     "output_type": "stream",
     "text": [
      "eigenvalues shape torch.Size([5]) eigenvectors shape torch.Size([5, 450])\n",
      "263 /home/phdcs2/Hard_Disk/Datasets/Deep-Spectral-Segmentation/data/object-segmentation/ECSSD/features/dino_vits16/0264.pth\n",
      "dict_keys(['k', 'indices', 'file', 'id', 'model_name', 'patch_size', 'shape'])\n",
      "0264\n",
      "Starting Training\n",
      "epoch: 00, loss: -0.02975\n",
      "epoch: 01, loss: -0.05249\n",
      "epoch: 02, loss: -0.05406\n",
      "epoch: 03, loss: -0.05480\n",
      "epoch: 04, loss: -0.05519\n",
      "epoch: 05, loss: -0.05524\n",
      "epoch: 06, loss: -0.05557\n",
      "epoch: 07, loss: -0.05561\n",
      "epoch: 08, loss: -0.05588\n",
      "epoch: 09, loss: -0.05598\n",
      "torch.Size([400, 64])\n"
     ]
    },
    {
     "name": "stderr",
     "output_type": "stream",
     "text": [
      " 26%|██▋       | 264/1000 [1:43:18<4:54:20, 23.99s/it]"
     ]
    },
    {
     "name": "stdout",
     "output_type": "stream",
     "text": [
      "eigenvalues shape torch.Size([5]) eigenvectors shape torch.Size([5, 400])\n",
      "264 /home/phdcs2/Hard_Disk/Datasets/Deep-Spectral-Segmentation/data/object-segmentation/ECSSD/features/dino_vits16/0265.pth\n",
      "dict_keys(['k', 'indices', 'file', 'id', 'model_name', 'patch_size', 'shape'])\n",
      "0265\n",
      "Starting Training\n",
      "epoch: 00, loss: -0.04127\n",
      "epoch: 01, loss: -0.05835\n",
      "epoch: 02, loss: -0.05979\n",
      "epoch: 03, loss: -0.05842\n",
      "epoch: 04, loss: -0.05912\n",
      "epoch: 05, loss: -0.06013\n",
      "epoch: 06, loss: -0.05927\n",
      "epoch: 07, loss: -0.06017\n",
      "epoch: 08, loss: -0.05849\n",
      "epoch: 09, loss: -0.05825\n",
      "torch.Size([525, 64])\n"
     ]
    },
    {
     "name": "stderr",
     "output_type": "stream",
     "text": [
      " 26%|██▋       | 265/1000 [1:43:59<5:53:12, 28.83s/it]"
     ]
    },
    {
     "name": "stdout",
     "output_type": "stream",
     "text": [
      "eigenvalues shape torch.Size([5]) eigenvectors shape torch.Size([5, 525])\n",
      "265 /home/phdcs2/Hard_Disk/Datasets/Deep-Spectral-Segmentation/data/object-segmentation/ECSSD/features/dino_vits16/0266.pth\n",
      "dict_keys(['k', 'indices', 'file', 'id', 'model_name', 'patch_size', 'shape'])\n",
      "0266\n",
      "Starting Training\n",
      "epoch: 00, loss: -0.03530\n",
      "epoch: 01, loss: -0.06058\n",
      "epoch: 02, loss: -0.06424\n",
      "epoch: 03, loss: -0.06269\n",
      "epoch: 04, loss: -0.06512\n",
      "epoch: 05, loss: -0.06380\n",
      "epoch: 06, loss: -0.06749\n",
      "epoch: 07, loss: -0.06593\n",
      "epoch: 08, loss: -0.06808\n",
      "epoch: 09, loss: -0.06632\n",
      "torch.Size([425, 64])\n"
     ]
    },
    {
     "name": "stderr",
     "output_type": "stream",
     "text": [
      " 27%|██▋       | 266/1000 [1:44:29<5:57:47, 29.25s/it]"
     ]
    },
    {
     "name": "stdout",
     "output_type": "stream",
     "text": [
      "eigenvalues shape torch.Size([5]) eigenvectors shape torch.Size([5, 425])\n",
      "266 /home/phdcs2/Hard_Disk/Datasets/Deep-Spectral-Segmentation/data/object-segmentation/ECSSD/features/dino_vits16/0267.pth\n",
      "dict_keys(['k', 'indices', 'file', 'id', 'model_name', 'patch_size', 'shape'])\n",
      "0267\n",
      "Starting Training\n",
      "epoch: 00, loss: -0.03361\n",
      "epoch: 01, loss: -0.05049\n",
      "epoch: 02, loss: -0.05190\n",
      "epoch: 03, loss: -0.05236\n",
      "epoch: 04, loss: -0.05258\n",
      "epoch: 05, loss: -0.05300\n",
      "epoch: 06, loss: -0.05302\n",
      "epoch: 07, loss: -0.05325\n",
      "epoch: 08, loss: -0.05341\n",
      "epoch: 09, loss: -0.05339\n",
      "torch.Size([400, 64])\n"
     ]
    },
    {
     "name": "stderr",
     "output_type": "stream",
     "text": [
      " 27%|██▋       | 267/1000 [1:44:48<5:20:30, 26.24s/it]"
     ]
    },
    {
     "name": "stdout",
     "output_type": "stream",
     "text": [
      "eigenvalues shape torch.Size([5]) eigenvectors shape torch.Size([5, 400])\n",
      "267 /home/phdcs2/Hard_Disk/Datasets/Deep-Spectral-Segmentation/data/object-segmentation/ECSSD/features/dino_vits16/0268.pth\n",
      "dict_keys(['k', 'indices', 'file', 'id', 'model_name', 'patch_size', 'shape'])\n",
      "0268\n",
      "Starting Training\n",
      "epoch: 00, loss: -0.05185\n",
      "epoch: 01, loss: -0.07122\n",
      "epoch: 02, loss: -0.07429\n",
      "epoch: 03, loss: -0.07449\n",
      "epoch: 04, loss: -0.07688\n",
      "epoch: 05, loss: -0.07485\n",
      "epoch: 06, loss: -0.07631\n",
      "epoch: 07, loss: -0.07639\n",
      "epoch: 08, loss: -0.07621\n",
      "epoch: 09, loss: -0.07673\n",
      "torch.Size([600, 64])\n"
     ]
    },
    {
     "name": "stderr",
     "output_type": "stream",
     "text": [
      " 27%|██▋       | 268/1000 [1:45:39<6:51:22, 33.72s/it]"
     ]
    },
    {
     "name": "stdout",
     "output_type": "stream",
     "text": [
      "eigenvalues shape torch.Size([5]) eigenvectors shape torch.Size([5, 600])\n",
      "268 /home/phdcs2/Hard_Disk/Datasets/Deep-Spectral-Segmentation/data/object-segmentation/ECSSD/features/dino_vits16/0269.pth\n",
      "dict_keys(['k', 'indices', 'file', 'id', 'model_name', 'patch_size', 'shape'])\n",
      "0269\n",
      "Starting Training\n",
      "epoch: 00, loss: -0.01980\n",
      "epoch: 01, loss: -0.03619\n",
      "epoch: 02, loss: -0.03845\n",
      "epoch: 03, loss: -0.03918\n",
      "epoch: 04, loss: -0.03974\n",
      "epoch: 05, loss: -0.04001\n",
      "epoch: 06, loss: -0.04027\n",
      "epoch: 07, loss: -0.04040\n",
      "epoch: 08, loss: -0.04071\n",
      "epoch: 09, loss: -0.04059\n",
      "torch.Size([400, 64])\n"
     ]
    },
    {
     "name": "stderr",
     "output_type": "stream",
     "text": [
      " 27%|██▋       | 269/1000 [1:45:59<6:00:23, 29.58s/it]"
     ]
    },
    {
     "name": "stdout",
     "output_type": "stream",
     "text": [
      "eigenvalues shape torch.Size([5]) eigenvectors shape torch.Size([5, 400])\n",
      "269 /home/phdcs2/Hard_Disk/Datasets/Deep-Spectral-Segmentation/data/object-segmentation/ECSSD/features/dino_vits16/0270.pth\n",
      "dict_keys(['k', 'indices', 'file', 'id', 'model_name', 'patch_size', 'shape'])\n",
      "0270\n",
      "Starting Training\n",
      "epoch: 00, loss: -0.02930\n",
      "epoch: 01, loss: -0.05267\n",
      "epoch: 02, loss: -0.05553\n",
      "epoch: 03, loss: -0.05624\n",
      "epoch: 04, loss: -0.05617\n",
      "epoch: 05, loss: -0.05518\n",
      "epoch: 06, loss: -0.05663\n",
      "epoch: 07, loss: -0.05634\n",
      "epoch: 08, loss: -0.05541\n",
      "epoch: 09, loss: -0.05726\n",
      "torch.Size([375, 64])\n"
     ]
    },
    {
     "name": "stderr",
     "output_type": "stream",
     "text": [
      " 27%|██▋       | 270/1000 [1:46:18<5:19:44, 26.28s/it]"
     ]
    },
    {
     "name": "stdout",
     "output_type": "stream",
     "text": [
      "eigenvalues shape torch.Size([5]) eigenvectors shape torch.Size([5, 375])\n",
      "270 /home/phdcs2/Hard_Disk/Datasets/Deep-Spectral-Segmentation/data/object-segmentation/ECSSD/features/dino_vits16/0271.pth\n",
      "dict_keys(['k', 'indices', 'file', 'id', 'model_name', 'patch_size', 'shape'])\n",
      "0271\n",
      "Starting Training\n",
      "epoch: 00, loss: -0.01909\n",
      "epoch: 01, loss: -0.03867\n",
      "epoch: 02, loss: -0.04536\n",
      "epoch: 03, loss: -0.04610\n",
      "epoch: 04, loss: -0.04530\n",
      "epoch: 05, loss: -0.04575\n",
      "epoch: 06, loss: -0.04699\n",
      "epoch: 07, loss: -0.04722\n",
      "epoch: 08, loss: -0.04755\n",
      "epoch: 09, loss: -0.04648\n",
      "torch.Size([450, 64])\n"
     ]
    },
    {
     "name": "stderr",
     "output_type": "stream",
     "text": [
      " 27%|██▋       | 271/1000 [1:46:42<5:13:00, 25.76s/it]"
     ]
    },
    {
     "name": "stdout",
     "output_type": "stream",
     "text": [
      "eigenvalues shape torch.Size([5]) eigenvectors shape torch.Size([5, 450])\n",
      "271 /home/phdcs2/Hard_Disk/Datasets/Deep-Spectral-Segmentation/data/object-segmentation/ECSSD/features/dino_vits16/0272.pth\n",
      "dict_keys(['k', 'indices', 'file', 'id', 'model_name', 'patch_size', 'shape'])\n",
      "0272\n",
      "Starting Training\n",
      "epoch: 00, loss: -0.03060\n",
      "epoch: 01, loss: -0.05681\n",
      "epoch: 02, loss: -0.05863\n",
      "epoch: 03, loss: -0.05952\n",
      "epoch: 04, loss: -0.05938\n",
      "epoch: 05, loss: -0.05974\n",
      "epoch: 06, loss: -0.05984\n",
      "epoch: 07, loss: -0.05975\n",
      "epoch: 08, loss: -0.05987\n",
      "epoch: 09, loss: -0.06003\n",
      "torch.Size([500, 64])\n"
     ]
    },
    {
     "name": "stderr",
     "output_type": "stream",
     "text": [
      " 27%|██▋       | 272/1000 [1:47:06<5:06:55, 25.30s/it]"
     ]
    },
    {
     "name": "stdout",
     "output_type": "stream",
     "text": [
      "eigenvalues shape torch.Size([5]) eigenvectors shape torch.Size([5, 500])\n",
      "272 /home/phdcs2/Hard_Disk/Datasets/Deep-Spectral-Segmentation/data/object-segmentation/ECSSD/features/dino_vits16/0273.pth\n",
      "dict_keys(['k', 'indices', 'file', 'id', 'model_name', 'patch_size', 'shape'])\n",
      "0273\n",
      "Starting Training\n",
      "epoch: 00, loss: -0.04726\n",
      "epoch: 01, loss: -0.07860\n",
      "epoch: 02, loss: -0.07988\n",
      "epoch: 03, loss: -0.08050\n",
      "epoch: 04, loss: -0.08012\n",
      "epoch: 05, loss: -0.08065\n",
      "epoch: 06, loss: -0.08073\n",
      "epoch: 07, loss: -0.08099\n",
      "epoch: 08, loss: -0.08081\n",
      "epoch: 09, loss: -0.08118\n",
      "torch.Size([400, 64])\n"
     ]
    },
    {
     "name": "stderr",
     "output_type": "stream",
     "text": [
      " 27%|██▋       | 273/1000 [1:47:27<4:50:28, 23.97s/it]"
     ]
    },
    {
     "name": "stdout",
     "output_type": "stream",
     "text": [
      "eigenvalues shape torch.Size([5]) eigenvectors shape torch.Size([5, 400])\n",
      "273 /home/phdcs2/Hard_Disk/Datasets/Deep-Spectral-Segmentation/data/object-segmentation/ECSSD/features/dino_vits16/0274.pth\n",
      "dict_keys(['k', 'indices', 'file', 'id', 'model_name', 'patch_size', 'shape'])\n",
      "0274\n",
      "Starting Training\n",
      "epoch: 00, loss: -0.02063\n",
      "epoch: 01, loss: -0.03946\n",
      "epoch: 02, loss: -0.04088\n",
      "epoch: 03, loss: -0.04179\n",
      "epoch: 04, loss: -0.04133\n",
      "epoch: 05, loss: -0.04232\n",
      "epoch: 06, loss: -0.04263\n",
      "epoch: 07, loss: -0.04262\n",
      "epoch: 08, loss: -0.04282\n",
      "epoch: 09, loss: -0.04223\n",
      "torch.Size([575, 64])\n"
     ]
    },
    {
     "name": "stderr",
     "output_type": "stream",
     "text": [
      " 27%|██▋       | 274/1000 [1:48:01<5:26:31, 26.99s/it]"
     ]
    },
    {
     "name": "stdout",
     "output_type": "stream",
     "text": [
      "eigenvalues shape torch.Size([5]) eigenvectors shape torch.Size([5, 575])\n",
      "274 /home/phdcs2/Hard_Disk/Datasets/Deep-Spectral-Segmentation/data/object-segmentation/ECSSD/features/dino_vits16/0275.pth\n",
      "dict_keys(['k', 'indices', 'file', 'id', 'model_name', 'patch_size', 'shape'])\n",
      "0275\n",
      "Starting Training\n",
      "epoch: 00, loss: -0.02553\n",
      "epoch: 01, loss: -0.04919\n",
      "epoch: 02, loss: -0.05088\n",
      "epoch: 03, loss: -0.05183\n",
      "epoch: 04, loss: -0.05209\n",
      "epoch: 05, loss: -0.05214\n",
      "epoch: 06, loss: -0.05245\n",
      "epoch: 07, loss: -0.05261\n",
      "epoch: 08, loss: -0.05252\n",
      "epoch: 09, loss: -0.05282\n",
      "torch.Size([400, 64])\n"
     ]
    },
    {
     "name": "stderr",
     "output_type": "stream",
     "text": [
      " 28%|██▊       | 275/1000 [1:48:27<5:21:03, 26.57s/it]"
     ]
    },
    {
     "name": "stdout",
     "output_type": "stream",
     "text": [
      "eigenvalues shape torch.Size([5]) eigenvectors shape torch.Size([5, 400])\n",
      "275 /home/phdcs2/Hard_Disk/Datasets/Deep-Spectral-Segmentation/data/object-segmentation/ECSSD/features/dino_vits16/0276.pth\n",
      "dict_keys(['k', 'indices', 'file', 'id', 'model_name', 'patch_size', 'shape'])\n",
      "0276\n",
      "Starting Training\n",
      "epoch: 00, loss: -0.07762\n",
      "epoch: 01, loss: -0.09669\n",
      "epoch: 02, loss: -0.09778\n",
      "epoch: 03, loss: -0.09711\n",
      "epoch: 04, loss: -0.09745\n",
      "epoch: 05, loss: -0.09754\n",
      "epoch: 06, loss: -0.09787\n",
      "epoch: 07, loss: -0.09906\n",
      "epoch: 08, loss: -0.09919\n",
      "epoch: 09, loss: -0.09786\n",
      "torch.Size([525, 64])\n"
     ]
    },
    {
     "name": "stderr",
     "output_type": "stream",
     "text": [
      " 28%|██▊       | 276/1000 [1:49:11<6:25:17, 31.93s/it]"
     ]
    },
    {
     "name": "stdout",
     "output_type": "stream",
     "text": [
      "eigenvalues shape torch.Size([5]) eigenvectors shape torch.Size([5, 525])\n",
      "276 /home/phdcs2/Hard_Disk/Datasets/Deep-Spectral-Segmentation/data/object-segmentation/ECSSD/features/dino_vits16/0277.pth\n",
      "dict_keys(['k', 'indices', 'file', 'id', 'model_name', 'patch_size', 'shape'])\n",
      "0277\n",
      "Starting Training\n",
      "epoch: 00, loss: -0.00521\n",
      "epoch: 01, loss: -0.03882\n",
      "epoch: 02, loss: -0.04378\n",
      "epoch: 03, loss: -0.04953\n",
      "epoch: 04, loss: -0.05210\n",
      "epoch: 05, loss: -0.05142\n",
      "epoch: 06, loss: -0.05218\n",
      "epoch: 07, loss: -0.05296\n",
      "epoch: 08, loss: -0.05524\n",
      "epoch: 09, loss: -0.05452\n",
      "torch.Size([400, 64])\n"
     ]
    },
    {
     "name": "stderr",
     "output_type": "stream",
     "text": [
      " 28%|██▊       | 277/1000 [1:49:41<6:15:19, 31.15s/it]"
     ]
    },
    {
     "name": "stdout",
     "output_type": "stream",
     "text": [
      "eigenvalues shape torch.Size([5]) eigenvectors shape torch.Size([5, 400])\n",
      "277 /home/phdcs2/Hard_Disk/Datasets/Deep-Spectral-Segmentation/data/object-segmentation/ECSSD/features/dino_vits16/0278.pth\n",
      "dict_keys(['k', 'indices', 'file', 'id', 'model_name', 'patch_size', 'shape'])\n",
      "0278\n",
      "Starting Training\n",
      "epoch: 00, loss: -0.05154\n",
      "epoch: 01, loss: -0.06930\n",
      "epoch: 02, loss: -0.07012\n",
      "epoch: 03, loss: -0.07082\n",
      "epoch: 04, loss: -0.07111\n",
      "epoch: 05, loss: -0.07104\n",
      "epoch: 06, loss: -0.07147\n",
      "epoch: 07, loss: -0.07151\n",
      "epoch: 08, loss: -0.07152\n",
      "epoch: 09, loss: -0.07160\n",
      "torch.Size([550, 64])\n"
     ]
    },
    {
     "name": "stderr",
     "output_type": "stream",
     "text": [
      " 28%|██▊       | 278/1000 [1:50:29<7:16:04, 36.24s/it]"
     ]
    },
    {
     "name": "stdout",
     "output_type": "stream",
     "text": [
      "eigenvalues shape torch.Size([5]) eigenvectors shape torch.Size([5, 550])\n",
      "278 /home/phdcs2/Hard_Disk/Datasets/Deep-Spectral-Segmentation/data/object-segmentation/ECSSD/features/dino_vits16/0279.pth\n",
      "dict_keys(['k', 'indices', 'file', 'id', 'model_name', 'patch_size', 'shape'])\n",
      "0279\n",
      "Starting Training\n",
      "epoch: 00, loss: -0.05510\n",
      "epoch: 01, loss: -0.07670\n",
      "epoch: 02, loss: -0.07760\n",
      "epoch: 03, loss: -0.07804\n",
      "epoch: 04, loss: -0.07804\n",
      "epoch: 05, loss: -0.07846\n",
      "epoch: 06, loss: -0.07829\n",
      "epoch: 07, loss: -0.07854\n",
      "epoch: 08, loss: -0.07852\n",
      "epoch: 09, loss: -0.07884\n",
      "torch.Size([450, 64])\n"
     ]
    },
    {
     "name": "stderr",
     "output_type": "stream",
     "text": [
      " 28%|██▊       | 279/1000 [1:50:52<6:28:28, 32.33s/it]"
     ]
    },
    {
     "name": "stdout",
     "output_type": "stream",
     "text": [
      "eigenvalues shape torch.Size([5]) eigenvectors shape torch.Size([5, 450])\n",
      "279 /home/phdcs2/Hard_Disk/Datasets/Deep-Spectral-Segmentation/data/object-segmentation/ECSSD/features/dino_vits16/0280.pth\n",
      "dict_keys(['k', 'indices', 'file', 'id', 'model_name', 'patch_size', 'shape'])\n",
      "0280\n",
      "Starting Training\n",
      "epoch: 00, loss: -0.03806\n",
      "epoch: 01, loss: -0.05542\n",
      "epoch: 02, loss: -0.05590\n",
      "epoch: 03, loss: -0.05726\n",
      "epoch: 04, loss: -0.05662\n",
      "epoch: 05, loss: -0.05711\n",
      "epoch: 06, loss: -0.05720\n",
      "epoch: 07, loss: -0.05832\n",
      "epoch: 08, loss: -0.05774\n",
      "epoch: 09, loss: -0.05741\n",
      "torch.Size([625, 64])\n"
     ]
    },
    {
     "name": "stderr",
     "output_type": "stream",
     "text": [
      " 28%|██▊       | 280/1000 [1:51:37<7:13:57, 36.16s/it]"
     ]
    },
    {
     "name": "stdout",
     "output_type": "stream",
     "text": [
      "eigenvalues shape torch.Size([5]) eigenvectors shape torch.Size([5, 625])\n",
      "280 /home/phdcs2/Hard_Disk/Datasets/Deep-Spectral-Segmentation/data/object-segmentation/ECSSD/features/dino_vits16/0281.pth\n",
      "dict_keys(['k', 'indices', 'file', 'id', 'model_name', 'patch_size', 'shape'])\n",
      "0281\n",
      "Starting Training\n",
      "epoch: 00, loss: -0.01891\n",
      "epoch: 01, loss: -0.04562\n",
      "epoch: 02, loss: -0.04840\n",
      "epoch: 03, loss: -0.04908\n",
      "epoch: 04, loss: -0.04939\n",
      "epoch: 05, loss: -0.04939\n",
      "epoch: 06, loss: -0.04965\n",
      "epoch: 07, loss: -0.04979\n",
      "epoch: 08, loss: -0.04993\n",
      "epoch: 09, loss: -0.04999\n",
      "torch.Size([450, 64])\n"
     ]
    },
    {
     "name": "stderr",
     "output_type": "stream",
     "text": [
      " 28%|██▊       | 281/1000 [1:52:08<6:55:59, 34.71s/it]"
     ]
    },
    {
     "name": "stdout",
     "output_type": "stream",
     "text": [
      "eigenvalues shape torch.Size([5]) eigenvectors shape torch.Size([5, 450])\n",
      "281 /home/phdcs2/Hard_Disk/Datasets/Deep-Spectral-Segmentation/data/object-segmentation/ECSSD/features/dino_vits16/0282.pth\n",
      "dict_keys(['k', 'indices', 'file', 'id', 'model_name', 'patch_size', 'shape'])\n",
      "0282\n",
      "Starting Training\n",
      "epoch: 00, loss: -0.05185\n",
      "epoch: 01, loss: -0.08480\n",
      "epoch: 02, loss: -0.09096\n",
      "epoch: 03, loss: -0.09088\n",
      "epoch: 04, loss: -0.09084\n",
      "epoch: 05, loss: -0.09149\n",
      "epoch: 06, loss: -0.09281\n",
      "epoch: 07, loss: -0.09450\n",
      "epoch: 08, loss: -0.09331\n",
      "epoch: 09, loss: -0.09418\n",
      "torch.Size([400, 64])\n"
     ]
    },
    {
     "name": "stderr",
     "output_type": "stream",
     "text": [
      " 28%|██▊       | 282/1000 [1:52:30<6:09:45, 30.90s/it]"
     ]
    },
    {
     "name": "stdout",
     "output_type": "stream",
     "text": [
      "eigenvalues shape torch.Size([5]) eigenvectors shape torch.Size([5, 400])\n",
      "282 /home/phdcs2/Hard_Disk/Datasets/Deep-Spectral-Segmentation/data/object-segmentation/ECSSD/features/dino_vits16/0283.pth\n",
      "dict_keys(['k', 'indices', 'file', 'id', 'model_name', 'patch_size', 'shape'])\n",
      "0283\n",
      "Starting Training\n",
      "epoch: 00, loss: -0.03435\n",
      "epoch: 01, loss: -0.05869\n",
      "epoch: 02, loss: -0.06029\n",
      "epoch: 03, loss: -0.06088\n",
      "epoch: 04, loss: -0.06120\n",
      "epoch: 05, loss: -0.06152\n",
      "epoch: 06, loss: -0.06165\n",
      "epoch: 07, loss: -0.06181\n",
      "epoch: 08, loss: -0.06189\n",
      "epoch: 09, loss: -0.06219\n",
      "torch.Size([400, 64])\n"
     ]
    },
    {
     "name": "stderr",
     "output_type": "stream",
     "text": [
      " 28%|██▊       | 283/1000 [1:52:51<5:30:28, 27.65s/it]"
     ]
    },
    {
     "name": "stdout",
     "output_type": "stream",
     "text": [
      "eigenvalues shape torch.Size([5]) eigenvectors shape torch.Size([5, 400])\n",
      "283 /home/phdcs2/Hard_Disk/Datasets/Deep-Spectral-Segmentation/data/object-segmentation/ECSSD/features/dino_vits16/0284.pth\n",
      "dict_keys(['k', 'indices', 'file', 'id', 'model_name', 'patch_size', 'shape'])\n",
      "0284\n",
      "Starting Training\n",
      "epoch: 00, loss: -0.07157\n",
      "epoch: 01, loss: -0.10622\n",
      "epoch: 02, loss: -0.10637\n",
      "epoch: 03, loss: -0.10765\n",
      "epoch: 04, loss: -0.11082\n",
      "epoch: 05, loss: -0.11044\n",
      "epoch: 06, loss: -0.11440\n",
      "epoch: 07, loss: -0.11263\n",
      "epoch: 08, loss: -0.11486\n",
      "epoch: 09, loss: -0.11461\n",
      "torch.Size([400, 64])\n"
     ]
    },
    {
     "name": "stderr",
     "output_type": "stream",
     "text": [
      " 28%|██▊       | 284/1000 [1:53:14<5:14:09, 26.33s/it]"
     ]
    },
    {
     "name": "stdout",
     "output_type": "stream",
     "text": [
      "eigenvalues shape torch.Size([5]) eigenvectors shape torch.Size([5, 400])\n",
      "284 /home/phdcs2/Hard_Disk/Datasets/Deep-Spectral-Segmentation/data/object-segmentation/ECSSD/features/dino_vits16/0285.pth\n",
      "dict_keys(['k', 'indices', 'file', 'id', 'model_name', 'patch_size', 'shape'])\n",
      "0285\n",
      "Starting Training\n",
      "epoch: 00, loss: -0.01111\n",
      "epoch: 01, loss: -0.02864\n",
      "epoch: 02, loss: -0.03592\n",
      "epoch: 03, loss: -0.03909\n",
      "epoch: 04, loss: -0.04060\n",
      "epoch: 05, loss: -0.04204\n",
      "epoch: 06, loss: -0.04274\n",
      "epoch: 07, loss: -0.04274\n",
      "epoch: 08, loss: -0.04266\n",
      "epoch: 09, loss: -0.04253\n",
      "torch.Size([400, 64])\n"
     ]
    },
    {
     "name": "stderr",
     "output_type": "stream",
     "text": [
      " 28%|██▊       | 285/1000 [1:53:37<5:04:02, 25.51s/it]"
     ]
    },
    {
     "name": "stdout",
     "output_type": "stream",
     "text": [
      "eigenvalues shape torch.Size([5]) eigenvectors shape torch.Size([5, 400])\n",
      "285 /home/phdcs2/Hard_Disk/Datasets/Deep-Spectral-Segmentation/data/object-segmentation/ECSSD/features/dino_vits16/0286.pth\n",
      "dict_keys(['k', 'indices', 'file', 'id', 'model_name', 'patch_size', 'shape'])\n",
      "0286\n",
      "Starting Training\n",
      "epoch: 00, loss: -0.05177\n",
      "epoch: 01, loss: -0.07597\n",
      "epoch: 02, loss: -0.07726\n",
      "epoch: 03, loss: -0.07761\n",
      "epoch: 04, loss: -0.07743\n",
      "epoch: 05, loss: -0.07773\n",
      "epoch: 06, loss: -0.07794\n",
      "epoch: 07, loss: -0.07801\n",
      "epoch: 08, loss: -0.07817\n",
      "epoch: 09, loss: -0.07822\n",
      "torch.Size([450, 64])\n"
     ]
    },
    {
     "name": "stderr",
     "output_type": "stream",
     "text": [
      " 29%|██▊       | 286/1000 [1:54:06<5:14:59, 26.47s/it]"
     ]
    },
    {
     "name": "stdout",
     "output_type": "stream",
     "text": [
      "eigenvalues shape torch.Size([5]) eigenvectors shape torch.Size([5, 450])\n",
      "286 /home/phdcs2/Hard_Disk/Datasets/Deep-Spectral-Segmentation/data/object-segmentation/ECSSD/features/dino_vits16/0287.pth\n",
      "dict_keys(['k', 'indices', 'file', 'id', 'model_name', 'patch_size', 'shape'])\n",
      "0287\n",
      "Starting Training\n",
      "epoch: 00, loss: -0.02331\n",
      "epoch: 01, loss: -0.04366\n",
      "epoch: 02, loss: -0.04658\n",
      "epoch: 03, loss: -0.04733\n",
      "epoch: 04, loss: -0.04900\n",
      "epoch: 05, loss: -0.04806\n",
      "epoch: 06, loss: -0.04817\n",
      "epoch: 07, loss: -0.04835\n",
      "epoch: 08, loss: -0.04829\n",
      "epoch: 09, loss: -0.05015\n",
      "torch.Size([375, 64])\n"
     ]
    },
    {
     "name": "stderr",
     "output_type": "stream",
     "text": [
      " 29%|██▊       | 287/1000 [1:54:25<4:46:35, 24.12s/it]"
     ]
    },
    {
     "name": "stdout",
     "output_type": "stream",
     "text": [
      "eigenvalues shape torch.Size([5]) eigenvectors shape torch.Size([5, 375])\n",
      "287 /home/phdcs2/Hard_Disk/Datasets/Deep-Spectral-Segmentation/data/object-segmentation/ECSSD/features/dino_vits16/0288.pth\n",
      "dict_keys(['k', 'indices', 'file', 'id', 'model_name', 'patch_size', 'shape'])\n",
      "0288\n",
      "Starting Training\n",
      "epoch: 00, loss: -0.05295\n",
      "epoch: 01, loss: -0.08197\n",
      "epoch: 02, loss: -0.08185\n",
      "epoch: 03, loss: -0.08329\n",
      "epoch: 04, loss: -0.08442\n",
      "epoch: 05, loss: -0.08430\n",
      "epoch: 06, loss: -0.08392\n",
      "epoch: 07, loss: -0.08441\n",
      "epoch: 08, loss: -0.08648\n",
      "epoch: 09, loss: -0.08711\n",
      "torch.Size([450, 64])\n"
     ]
    },
    {
     "name": "stderr",
     "output_type": "stream",
     "text": [
      " 29%|██▉       | 288/1000 [1:54:51<4:53:50, 24.76s/it]"
     ]
    },
    {
     "name": "stdout",
     "output_type": "stream",
     "text": [
      "eigenvalues shape torch.Size([5]) eigenvectors shape torch.Size([5, 450])\n",
      "288 /home/phdcs2/Hard_Disk/Datasets/Deep-Spectral-Segmentation/data/object-segmentation/ECSSD/features/dino_vits16/0289.pth\n",
      "dict_keys(['k', 'indices', 'file', 'id', 'model_name', 'patch_size', 'shape'])\n",
      "0289\n",
      "Starting Training\n",
      "epoch: 00, loss: -0.06488\n",
      "epoch: 01, loss: -0.09020\n",
      "epoch: 02, loss: -0.09079\n",
      "epoch: 03, loss: -0.09096\n",
      "epoch: 04, loss: -0.09124\n",
      "epoch: 05, loss: -0.09136\n",
      "epoch: 06, loss: -0.09157\n",
      "epoch: 07, loss: -0.09152\n",
      "epoch: 08, loss: -0.09181\n",
      "epoch: 09, loss: -0.09181\n",
      "torch.Size([450, 64])\n"
     ]
    },
    {
     "name": "stderr",
     "output_type": "stream",
     "text": [
      " 29%|██▉       | 289/1000 [1:55:16<4:54:44, 24.87s/it]"
     ]
    },
    {
     "name": "stdout",
     "output_type": "stream",
     "text": [
      "eigenvalues shape torch.Size([5]) eigenvectors shape torch.Size([5, 450])\n",
      "289 /home/phdcs2/Hard_Disk/Datasets/Deep-Spectral-Segmentation/data/object-segmentation/ECSSD/features/dino_vits16/0290.pth\n",
      "dict_keys(['k', 'indices', 'file', 'id', 'model_name', 'patch_size', 'shape'])\n",
      "0290\n",
      "Starting Training\n",
      "epoch: 00, loss: -0.04262\n",
      "epoch: 01, loss: -0.07404\n",
      "epoch: 02, loss: -0.07652\n",
      "epoch: 03, loss: -0.07710\n",
      "epoch: 04, loss: -0.07860\n",
      "epoch: 05, loss: -0.07916\n",
      "epoch: 06, loss: -0.07800\n",
      "epoch: 07, loss: -0.08087\n",
      "epoch: 08, loss: -0.08030\n",
      "epoch: 09, loss: -0.08313\n",
      "torch.Size([375, 64])\n"
     ]
    },
    {
     "name": "stderr",
     "output_type": "stream",
     "text": [
      " 29%|██▉       | 290/1000 [1:55:40<4:50:14, 24.53s/it]"
     ]
    },
    {
     "name": "stdout",
     "output_type": "stream",
     "text": [
      "eigenvalues shape torch.Size([5]) eigenvectors shape torch.Size([5, 375])\n",
      "290 /home/phdcs2/Hard_Disk/Datasets/Deep-Spectral-Segmentation/data/object-segmentation/ECSSD/features/dino_vits16/0291.pth\n",
      "dict_keys(['k', 'indices', 'file', 'id', 'model_name', 'patch_size', 'shape'])\n",
      "0291\n",
      "Starting Training\n",
      "epoch: 00, loss: -0.03919\n",
      "epoch: 01, loss: -0.06473\n",
      "epoch: 02, loss: -0.06583\n",
      "epoch: 03, loss: -0.06614\n",
      "epoch: 04, loss: -0.06679\n",
      "epoch: 05, loss: -0.06802\n",
      "epoch: 06, loss: -0.06715\n",
      "epoch: 07, loss: -0.06828\n",
      "epoch: 08, loss: -0.06737\n",
      "epoch: 09, loss: -0.06695\n",
      "torch.Size([475, 64])\n"
     ]
    },
    {
     "name": "stderr",
     "output_type": "stream",
     "text": [
      " 29%|██▉       | 291/1000 [1:56:06<4:55:21, 25.00s/it]"
     ]
    },
    {
     "name": "stdout",
     "output_type": "stream",
     "text": [
      "eigenvalues shape torch.Size([5]) eigenvectors shape torch.Size([5, 475])\n",
      "291 /home/phdcs2/Hard_Disk/Datasets/Deep-Spectral-Segmentation/data/object-segmentation/ECSSD/features/dino_vits16/0292.pth\n",
      "dict_keys(['k', 'indices', 'file', 'id', 'model_name', 'patch_size', 'shape'])\n",
      "0292\n",
      "Starting Training\n",
      "epoch: 00, loss: -0.05094\n",
      "epoch: 01, loss: -0.06927\n",
      "epoch: 02, loss: -0.06968\n",
      "epoch: 03, loss: -0.07030\n",
      "epoch: 04, loss: -0.07033\n",
      "epoch: 05, loss: -0.07048\n",
      "epoch: 06, loss: -0.07055\n",
      "epoch: 07, loss: -0.07075\n",
      "epoch: 08, loss: -0.07104\n",
      "epoch: 09, loss: -0.07111\n",
      "torch.Size([400, 64])\n"
     ]
    },
    {
     "name": "stderr",
     "output_type": "stream",
     "text": [
      " 29%|██▉       | 292/1000 [1:56:27<4:42:45, 23.96s/it]"
     ]
    },
    {
     "name": "stdout",
     "output_type": "stream",
     "text": [
      "eigenvalues shape torch.Size([5]) eigenvectors shape torch.Size([5, 400])\n",
      "292 /home/phdcs2/Hard_Disk/Datasets/Deep-Spectral-Segmentation/data/object-segmentation/ECSSD/features/dino_vits16/0293.pth\n",
      "dict_keys(['k', 'indices', 'file', 'id', 'model_name', 'patch_size', 'shape'])\n",
      "0293\n",
      "Starting Training\n",
      "epoch: 00, loss: -0.04600\n",
      "epoch: 01, loss: -0.07360\n",
      "epoch: 02, loss: -0.07396\n",
      "epoch: 03, loss: -0.07388\n",
      "epoch: 04, loss: -0.07462\n",
      "epoch: 05, loss: -0.07523\n",
      "epoch: 06, loss: -0.07495\n",
      "epoch: 07, loss: -0.07501\n",
      "epoch: 08, loss: -0.07534\n",
      "epoch: 09, loss: -0.07706\n",
      "torch.Size([425, 64])\n"
     ]
    },
    {
     "name": "stderr",
     "output_type": "stream",
     "text": [
      " 29%|██▉       | 293/1000 [1:56:50<4:36:05, 23.43s/it]"
     ]
    },
    {
     "name": "stdout",
     "output_type": "stream",
     "text": [
      "eigenvalues shape torch.Size([5]) eigenvectors shape torch.Size([5, 425])\n",
      "293 /home/phdcs2/Hard_Disk/Datasets/Deep-Spectral-Segmentation/data/object-segmentation/ECSSD/features/dino_vits16/0294.pth\n",
      "dict_keys(['k', 'indices', 'file', 'id', 'model_name', 'patch_size', 'shape'])\n",
      "0294\n",
      "Starting Training\n",
      "epoch: 00, loss: -0.06292\n",
      "epoch: 01, loss: -0.08962\n",
      "epoch: 02, loss: -0.09207\n",
      "epoch: 03, loss: -0.09616\n",
      "epoch: 04, loss: -0.09551\n",
      "epoch: 05, loss: -0.09647\n",
      "epoch: 06, loss: -0.09468\n",
      "epoch: 07, loss: -0.09465\n",
      "epoch: 08, loss: -0.09500\n",
      "epoch: 09, loss: -0.09602\n",
      "torch.Size([425, 64])\n"
     ]
    },
    {
     "name": "stderr",
     "output_type": "stream",
     "text": [
      " 29%|██▉       | 294/1000 [1:57:11<4:28:20, 22.81s/it]"
     ]
    },
    {
     "name": "stdout",
     "output_type": "stream",
     "text": [
      "eigenvalues shape torch.Size([5]) eigenvectors shape torch.Size([5, 425])\n",
      "294 /home/phdcs2/Hard_Disk/Datasets/Deep-Spectral-Segmentation/data/object-segmentation/ECSSD/features/dino_vits16/0295.pth\n",
      "dict_keys(['k', 'indices', 'file', 'id', 'model_name', 'patch_size', 'shape'])\n",
      "0295\n",
      "Starting Training\n",
      "epoch: 00, loss: -0.06256\n",
      "epoch: 01, loss: -0.09579\n",
      "epoch: 02, loss: -0.10115\n",
      "epoch: 03, loss: -0.10518\n",
      "epoch: 04, loss: -0.10490\n",
      "epoch: 05, loss: -0.10219\n",
      "epoch: 06, loss: -0.10833\n",
      "epoch: 07, loss: -0.10587\n",
      "epoch: 08, loss: -0.10865\n",
      "epoch: 09, loss: -0.10798\n",
      "torch.Size([425, 64])\n"
     ]
    },
    {
     "name": "stderr",
     "output_type": "stream",
     "text": [
      " 30%|██▉       | 295/1000 [1:57:35<4:33:38, 23.29s/it]"
     ]
    },
    {
     "name": "stdout",
     "output_type": "stream",
     "text": [
      "eigenvalues shape torch.Size([5]) eigenvectors shape torch.Size([5, 425])\n",
      "295 /home/phdcs2/Hard_Disk/Datasets/Deep-Spectral-Segmentation/data/object-segmentation/ECSSD/features/dino_vits16/0296.pth\n",
      "dict_keys(['k', 'indices', 'file', 'id', 'model_name', 'patch_size', 'shape'])\n",
      "0296\n",
      "Starting Training\n",
      "epoch: 00, loss: -0.02477\n",
      "epoch: 01, loss: -0.04212\n",
      "epoch: 02, loss: -0.04299\n",
      "epoch: 03, loss: -0.04365\n",
      "epoch: 04, loss: -0.04391\n",
      "epoch: 05, loss: -0.04373\n",
      "epoch: 06, loss: -0.04445\n",
      "epoch: 07, loss: -0.04428\n",
      "epoch: 08, loss: -0.04527\n",
      "epoch: 09, loss: -0.04479\n",
      "torch.Size([425, 64])\n"
     ]
    },
    {
     "name": "stderr",
     "output_type": "stream",
     "text": [
      " 30%|██▉       | 296/1000 [1:57:57<4:28:41, 22.90s/it]"
     ]
    },
    {
     "name": "stdout",
     "output_type": "stream",
     "text": [
      "eigenvalues shape torch.Size([5]) eigenvectors shape torch.Size([5, 425])\n",
      "296 /home/phdcs2/Hard_Disk/Datasets/Deep-Spectral-Segmentation/data/object-segmentation/ECSSD/features/dino_vits16/0297.pth\n",
      "dict_keys(['k', 'indices', 'file', 'id', 'model_name', 'patch_size', 'shape'])\n",
      "0297\n",
      "Starting Training\n",
      "epoch: 00, loss: -0.03730\n",
      "epoch: 01, loss: -0.05784\n",
      "epoch: 02, loss: -0.06066\n",
      "epoch: 03, loss: -0.06219\n",
      "epoch: 04, loss: -0.06176\n",
      "epoch: 05, loss: -0.06191\n",
      "epoch: 06, loss: -0.06472\n",
      "epoch: 07, loss: -0.06299\n",
      "epoch: 08, loss: -0.06593\n",
      "epoch: 09, loss: -0.06498\n",
      "torch.Size([475, 64])\n"
     ]
    },
    {
     "name": "stderr",
     "output_type": "stream",
     "text": [
      " 30%|██▉       | 297/1000 [1:58:21<4:31:26, 23.17s/it]"
     ]
    },
    {
     "name": "stdout",
     "output_type": "stream",
     "text": [
      "eigenvalues shape torch.Size([5]) eigenvectors shape torch.Size([5, 475])\n",
      "297 /home/phdcs2/Hard_Disk/Datasets/Deep-Spectral-Segmentation/data/object-segmentation/ECSSD/features/dino_vits16/0298.pth\n",
      "dict_keys(['k', 'indices', 'file', 'id', 'model_name', 'patch_size', 'shape'])\n",
      "0298\n",
      "Starting Training\n",
      "epoch: 00, loss: -0.06248\n",
      "epoch: 01, loss: -0.08700\n",
      "epoch: 02, loss: -0.08921\n",
      "epoch: 03, loss: -0.08878\n",
      "epoch: 04, loss: -0.08960\n",
      "epoch: 05, loss: -0.09019\n",
      "epoch: 06, loss: -0.08988\n",
      "epoch: 07, loss: -0.09056\n",
      "epoch: 08, loss: -0.09148\n",
      "epoch: 09, loss: -0.09167\n",
      "torch.Size([400, 64])\n"
     ]
    },
    {
     "name": "stderr",
     "output_type": "stream",
     "text": [
      " 30%|██▉       | 298/1000 [1:58:43<4:25:04, 22.66s/it]"
     ]
    },
    {
     "name": "stdout",
     "output_type": "stream",
     "text": [
      "eigenvalues shape torch.Size([5]) eigenvectors shape torch.Size([5, 400])\n",
      "298 /home/phdcs2/Hard_Disk/Datasets/Deep-Spectral-Segmentation/data/object-segmentation/ECSSD/features/dino_vits16/0299.pth\n",
      "dict_keys(['k', 'indices', 'file', 'id', 'model_name', 'patch_size', 'shape'])\n",
      "0299\n",
      "Starting Training\n",
      "epoch: 00, loss: -0.01268\n",
      "epoch: 01, loss: -0.03431\n",
      "epoch: 02, loss: -0.03809\n",
      "epoch: 03, loss: -0.03892\n",
      "epoch: 04, loss: -0.03953\n",
      "epoch: 05, loss: -0.03970\n",
      "epoch: 06, loss: -0.03991\n",
      "epoch: 07, loss: -0.04012\n",
      "epoch: 08, loss: -0.04022\n",
      "epoch: 09, loss: -0.04035\n",
      "torch.Size([450, 64])\n"
     ]
    },
    {
     "name": "stderr",
     "output_type": "stream",
     "text": [
      " 30%|██▉       | 299/1000 [1:59:09<4:38:16, 23.82s/it]"
     ]
    },
    {
     "name": "stdout",
     "output_type": "stream",
     "text": [
      "eigenvalues shape torch.Size([5]) eigenvectors shape torch.Size([5, 450])\n",
      "299 /home/phdcs2/Hard_Disk/Datasets/Deep-Spectral-Segmentation/data/object-segmentation/ECSSD/features/dino_vits16/0300.pth\n",
      "dict_keys(['k', 'indices', 'file', 'id', 'model_name', 'patch_size', 'shape'])\n",
      "0300\n",
      "Starting Training\n",
      "epoch: 00, loss: -0.01624\n",
      "epoch: 01, loss: -0.03947\n",
      "epoch: 02, loss: -0.04252\n",
      "epoch: 03, loss: -0.04599\n",
      "epoch: 04, loss: -0.04640\n",
      "epoch: 05, loss: -0.05033\n",
      "epoch: 06, loss: -0.04819\n",
      "epoch: 07, loss: -0.05064\n",
      "epoch: 08, loss: -0.04731\n",
      "epoch: 09, loss: -0.04947\n",
      "torch.Size([475, 64])\n"
     ]
    },
    {
     "name": "stderr",
     "output_type": "stream",
     "text": [
      " 30%|███       | 300/1000 [1:59:34<4:42:22, 24.20s/it]"
     ]
    },
    {
     "name": "stdout",
     "output_type": "stream",
     "text": [
      "eigenvalues shape torch.Size([5]) eigenvectors shape torch.Size([5, 475])\n",
      "300 /home/phdcs2/Hard_Disk/Datasets/Deep-Spectral-Segmentation/data/object-segmentation/ECSSD/features/dino_vits16/0301.pth\n",
      "dict_keys(['k', 'indices', 'file', 'id', 'model_name', 'patch_size', 'shape'])\n",
      "0301\n",
      "Starting Training\n",
      "epoch: 00, loss: -0.00440\n",
      "epoch: 01, loss: -0.02138\n",
      "epoch: 02, loss: -0.02639\n",
      "epoch: 03, loss: -0.02797\n",
      "epoch: 04, loss: -0.02866\n",
      "epoch: 05, loss: -0.02900\n",
      "epoch: 06, loss: -0.02946\n",
      "epoch: 07, loss: -0.02948\n",
      "epoch: 08, loss: -0.02975\n",
      "epoch: 09, loss: -0.02983\n",
      "torch.Size([400, 64])\n"
     ]
    },
    {
     "name": "stderr",
     "output_type": "stream",
     "text": [
      " 30%|███       | 301/1000 [1:59:56<4:33:30, 23.48s/it]"
     ]
    },
    {
     "name": "stdout",
     "output_type": "stream",
     "text": [
      "eigenvalues shape torch.Size([5]) eigenvectors shape torch.Size([5, 400])\n",
      "301 /home/phdcs2/Hard_Disk/Datasets/Deep-Spectral-Segmentation/data/object-segmentation/ECSSD/features/dino_vits16/0302.pth\n",
      "dict_keys(['k', 'indices', 'file', 'id', 'model_name', 'patch_size', 'shape'])\n",
      "0302\n",
      "Starting Training\n",
      "epoch: 00, loss: -0.02823\n",
      "epoch: 01, loss: -0.04676\n",
      "epoch: 02, loss: -0.04795\n",
      "epoch: 03, loss: -0.04872\n",
      "epoch: 04, loss: -0.04915\n",
      "epoch: 05, loss: -0.04932\n",
      "epoch: 06, loss: -0.04938\n",
      "epoch: 07, loss: -0.04963\n",
      "epoch: 08, loss: -0.04966\n",
      "epoch: 09, loss: -0.04993\n",
      "torch.Size([450, 64])\n"
     ]
    },
    {
     "name": "stderr",
     "output_type": "stream",
     "text": [
      " 30%|███       | 302/1000 [2:00:19<4:30:02, 23.21s/it]"
     ]
    },
    {
     "name": "stdout",
     "output_type": "stream",
     "text": [
      "eigenvalues shape torch.Size([5]) eigenvectors shape torch.Size([5, 450])\n",
      "302 /home/phdcs2/Hard_Disk/Datasets/Deep-Spectral-Segmentation/data/object-segmentation/ECSSD/features/dino_vits16/0303.pth\n",
      "dict_keys(['k', 'indices', 'file', 'id', 'model_name', 'patch_size', 'shape'])\n",
      "0303\n",
      "Starting Training\n",
      "epoch: 00, loss: 0.00213\n",
      "epoch: 01, loss: -0.00416\n",
      "epoch: 02, loss: -0.00690\n",
      "epoch: 03, loss: -0.00875\n",
      "epoch: 04, loss: -0.00966\n",
      "epoch: 05, loss: -0.01025\n",
      "epoch: 06, loss: -0.01078\n",
      "epoch: 07, loss: -0.01104\n",
      "epoch: 08, loss: -0.01134\n",
      "epoch: 09, loss: -0.01152\n",
      "torch.Size([450, 64])\n"
     ]
    },
    {
     "name": "stderr",
     "output_type": "stream",
     "text": [
      " 30%|███       | 303/1000 [2:00:41<4:28:14, 23.09s/it]"
     ]
    },
    {
     "name": "stdout",
     "output_type": "stream",
     "text": [
      "eigenvalues shape torch.Size([5]) eigenvectors shape torch.Size([5, 450])\n",
      "303 /home/phdcs2/Hard_Disk/Datasets/Deep-Spectral-Segmentation/data/object-segmentation/ECSSD/features/dino_vits16/0304.pth\n",
      "dict_keys(['k', 'indices', 'file', 'id', 'model_name', 'patch_size', 'shape'])\n",
      "0304\n",
      "Starting Training\n",
      "epoch: 00, loss: -0.00407\n",
      "epoch: 01, loss: -0.02039\n",
      "epoch: 02, loss: -0.02548\n",
      "epoch: 03, loss: -0.02728\n",
      "epoch: 04, loss: -0.02786\n",
      "epoch: 05, loss: -0.02830\n",
      "epoch: 06, loss: -0.02845\n",
      "epoch: 07, loss: -0.02863\n",
      "epoch: 08, loss: -0.02886\n",
      "epoch: 09, loss: -0.02897\n",
      "torch.Size([400, 64])\n"
     ]
    },
    {
     "name": "stderr",
     "output_type": "stream",
     "text": [
      " 30%|███       | 304/1000 [2:01:05<4:29:40, 23.25s/it]"
     ]
    },
    {
     "name": "stdout",
     "output_type": "stream",
     "text": [
      "eigenvalues shape torch.Size([5]) eigenvectors shape torch.Size([5, 400])\n",
      "304 /home/phdcs2/Hard_Disk/Datasets/Deep-Spectral-Segmentation/data/object-segmentation/ECSSD/features/dino_vits16/0305.pth\n",
      "dict_keys(['k', 'indices', 'file', 'id', 'model_name', 'patch_size', 'shape'])\n",
      "0305\n",
      "Starting Training\n",
      "epoch: 00, loss: -0.02708\n",
      "epoch: 01, loss: -0.04902\n",
      "epoch: 02, loss: -0.05924\n",
      "epoch: 03, loss: -0.05730\n",
      "epoch: 04, loss: -0.06106\n",
      "epoch: 05, loss: -0.05824\n",
      "epoch: 06, loss: -0.06211\n",
      "epoch: 07, loss: -0.06289\n",
      "epoch: 08, loss: -0.06103\n",
      "epoch: 09, loss: -0.06291\n",
      "torch.Size([400, 64])\n"
     ]
    },
    {
     "name": "stderr",
     "output_type": "stream",
     "text": [
      " 30%|███       | 305/1000 [2:01:30<4:33:59, 23.65s/it]"
     ]
    },
    {
     "name": "stdout",
     "output_type": "stream",
     "text": [
      "eigenvalues shape torch.Size([5]) eigenvectors shape torch.Size([5, 400])\n",
      "305 /home/phdcs2/Hard_Disk/Datasets/Deep-Spectral-Segmentation/data/object-segmentation/ECSSD/features/dino_vits16/0306.pth\n",
      "dict_keys(['k', 'indices', 'file', 'id', 'model_name', 'patch_size', 'shape'])\n",
      "0306\n",
      "Starting Training\n",
      "epoch: 00, loss: -0.00971\n",
      "epoch: 01, loss: -0.03474\n",
      "epoch: 02, loss: -0.03905\n",
      "epoch: 03, loss: -0.04039\n",
      "epoch: 04, loss: -0.04080\n",
      "epoch: 05, loss: -0.04118\n",
      "epoch: 06, loss: -0.04128\n",
      "epoch: 07, loss: -0.04146\n",
      "epoch: 08, loss: -0.04166\n",
      "epoch: 09, loss: -0.04167\n",
      "torch.Size([400, 64])\n"
     ]
    },
    {
     "name": "stderr",
     "output_type": "stream",
     "text": [
      " 31%|███       | 306/1000 [2:01:51<4:26:48, 23.07s/it]"
     ]
    },
    {
     "name": "stdout",
     "output_type": "stream",
     "text": [
      "eigenvalues shape torch.Size([5]) eigenvectors shape torch.Size([5, 400])\n",
      "306 /home/phdcs2/Hard_Disk/Datasets/Deep-Spectral-Segmentation/data/object-segmentation/ECSSD/features/dino_vits16/0307.pth\n",
      "dict_keys(['k', 'indices', 'file', 'id', 'model_name', 'patch_size', 'shape'])\n",
      "0307\n",
      "Starting Training\n",
      "epoch: 00, loss: -0.03086\n",
      "epoch: 01, loss: -0.05213\n",
      "epoch: 02, loss: -0.06010\n",
      "epoch: 03, loss: -0.06075\n",
      "epoch: 04, loss: -0.06233\n",
      "epoch: 05, loss: -0.06285\n",
      "epoch: 06, loss: -0.06472\n",
      "epoch: 07, loss: -0.06389\n",
      "epoch: 08, loss: -0.06579\n",
      "epoch: 09, loss: -0.06391\n",
      "torch.Size([450, 64])\n"
     ]
    },
    {
     "name": "stderr",
     "output_type": "stream",
     "text": [
      " 31%|███       | 307/1000 [2:02:14<4:26:07, 23.04s/it]"
     ]
    },
    {
     "name": "stdout",
     "output_type": "stream",
     "text": [
      "eigenvalues shape torch.Size([5]) eigenvectors shape torch.Size([5, 450])\n",
      "307 /home/phdcs2/Hard_Disk/Datasets/Deep-Spectral-Segmentation/data/object-segmentation/ECSSD/features/dino_vits16/0308.pth\n",
      "dict_keys(['k', 'indices', 'file', 'id', 'model_name', 'patch_size', 'shape'])\n",
      "0308\n",
      "Starting Training\n",
      "epoch: 00, loss: -0.11296\n",
      "epoch: 01, loss: -0.14454\n",
      "epoch: 02, loss: -0.15267\n",
      "epoch: 03, loss: -0.15666\n",
      "epoch: 04, loss: -0.15597\n",
      "epoch: 05, loss: -0.15646\n",
      "epoch: 06, loss: -0.15840\n",
      "epoch: 07, loss: -0.15975\n",
      "epoch: 08, loss: -0.16013\n",
      "epoch: 09, loss: -0.15981\n",
      "torch.Size([450, 64])\n"
     ]
    },
    {
     "name": "stderr",
     "output_type": "stream",
     "text": [
      " 31%|███       | 308/1000 [2:02:38<4:28:02, 23.24s/it]"
     ]
    },
    {
     "name": "stdout",
     "output_type": "stream",
     "text": [
      "eigenvalues shape torch.Size([5]) eigenvectors shape torch.Size([5, 450])\n",
      "308 /home/phdcs2/Hard_Disk/Datasets/Deep-Spectral-Segmentation/data/object-segmentation/ECSSD/features/dino_vits16/0309.pth\n",
      "dict_keys(['k', 'indices', 'file', 'id', 'model_name', 'patch_size', 'shape'])\n",
      "0309\n",
      "Starting Training\n",
      "epoch: 00, loss: -0.00728\n",
      "epoch: 01, loss: -0.02337\n",
      "epoch: 02, loss: -0.02756\n",
      "epoch: 03, loss: -0.02825\n",
      "epoch: 04, loss: -0.02975\n",
      "epoch: 05, loss: -0.03008\n",
      "epoch: 06, loss: -0.03006\n",
      "epoch: 07, loss: -0.03108\n",
      "epoch: 08, loss: -0.03121\n",
      "epoch: 09, loss: -0.03203\n",
      "torch.Size([400, 64])\n"
     ]
    },
    {
     "name": "stderr",
     "output_type": "stream",
     "text": [
      " 31%|███       | 309/1000 [2:03:01<4:25:19, 23.04s/it]"
     ]
    },
    {
     "name": "stdout",
     "output_type": "stream",
     "text": [
      "eigenvalues shape torch.Size([5]) eigenvectors shape torch.Size([5, 400])\n",
      "309 /home/phdcs2/Hard_Disk/Datasets/Deep-Spectral-Segmentation/data/object-segmentation/ECSSD/features/dino_vits16/0310.pth\n",
      "dict_keys(['k', 'indices', 'file', 'id', 'model_name', 'patch_size', 'shape'])\n",
      "0310\n",
      "Starting Training\n",
      "epoch: 00, loss: -0.01572\n",
      "epoch: 01, loss: -0.03168\n",
      "epoch: 02, loss: -0.03428\n",
      "epoch: 03, loss: -0.03515\n",
      "epoch: 04, loss: -0.03549\n",
      "epoch: 05, loss: -0.03590\n",
      "epoch: 06, loss: -0.03613\n",
      "epoch: 07, loss: -0.03615\n",
      "epoch: 08, loss: -0.03622\n",
      "epoch: 09, loss: -0.03653\n",
      "torch.Size([450, 64])\n"
     ]
    },
    {
     "name": "stderr",
     "output_type": "stream",
     "text": [
      " 31%|███       | 310/1000 [2:03:27<4:35:53, 23.99s/it]"
     ]
    },
    {
     "name": "stdout",
     "output_type": "stream",
     "text": [
      "eigenvalues shape torch.Size([5]) eigenvectors shape torch.Size([5, 450])\n",
      "310 /home/phdcs2/Hard_Disk/Datasets/Deep-Spectral-Segmentation/data/object-segmentation/ECSSD/features/dino_vits16/0311.pth\n",
      "dict_keys(['k', 'indices', 'file', 'id', 'model_name', 'patch_size', 'shape'])\n",
      "0311\n",
      "Starting Training\n",
      "epoch: 00, loss: -0.06334\n",
      "epoch: 01, loss: -0.10810\n",
      "epoch: 02, loss: -0.11609\n",
      "epoch: 03, loss: -0.11627\n",
      "epoch: 04, loss: -0.11367\n",
      "epoch: 05, loss: -0.11928\n",
      "epoch: 06, loss: -0.11808\n",
      "epoch: 07, loss: -0.11952\n",
      "epoch: 08, loss: -0.12007\n",
      "epoch: 09, loss: -0.11884\n",
      "torch.Size([400, 64])\n"
     ]
    },
    {
     "name": "stderr",
     "output_type": "stream",
     "text": [
      " 31%|███       | 311/1000 [2:03:47<4:23:52, 22.98s/it]"
     ]
    },
    {
     "name": "stdout",
     "output_type": "stream",
     "text": [
      "eigenvalues shape torch.Size([5]) eigenvectors shape torch.Size([5, 400])\n",
      "311 /home/phdcs2/Hard_Disk/Datasets/Deep-Spectral-Segmentation/data/object-segmentation/ECSSD/features/dino_vits16/0312.pth\n",
      "dict_keys(['k', 'indices', 'file', 'id', 'model_name', 'patch_size', 'shape'])\n",
      "0312\n",
      "Starting Training\n",
      "epoch: 00, loss: -0.02494\n",
      "epoch: 01, loss: -0.05237\n",
      "epoch: 02, loss: -0.05591\n",
      "epoch: 03, loss: -0.05780\n",
      "epoch: 04, loss: -0.06110\n",
      "epoch: 05, loss: -0.05982\n",
      "epoch: 06, loss: -0.06220\n",
      "epoch: 07, loss: -0.06198\n",
      "epoch: 08, loss: -0.06182\n",
      "epoch: 09, loss: -0.06356\n",
      "torch.Size([400, 64])\n"
     ]
    },
    {
     "name": "stderr",
     "output_type": "stream",
     "text": [
      " 31%|███       | 312/1000 [2:04:10<4:21:01, 22.76s/it]"
     ]
    },
    {
     "name": "stdout",
     "output_type": "stream",
     "text": [
      "eigenvalues shape torch.Size([5]) eigenvectors shape torch.Size([5, 400])\n",
      "312 /home/phdcs2/Hard_Disk/Datasets/Deep-Spectral-Segmentation/data/object-segmentation/ECSSD/features/dino_vits16/0313.pth\n",
      "dict_keys(['k', 'indices', 'file', 'id', 'model_name', 'patch_size', 'shape'])\n",
      "0313\n",
      "Starting Training\n",
      "epoch: 00, loss: -0.00465\n",
      "epoch: 01, loss: -0.02022\n",
      "epoch: 02, loss: -0.03007\n",
      "epoch: 03, loss: -0.02712\n",
      "epoch: 04, loss: -0.02926\n",
      "epoch: 05, loss: -0.03129\n",
      "epoch: 06, loss: -0.03257\n",
      "epoch: 07, loss: -0.03236\n",
      "epoch: 08, loss: -0.03298\n",
      "epoch: 09, loss: -0.03284\n",
      "torch.Size([400, 64])\n"
     ]
    },
    {
     "name": "stderr",
     "output_type": "stream",
     "text": [
      " 31%|███▏      | 313/1000 [2:04:34<4:26:42, 23.29s/it]"
     ]
    },
    {
     "name": "stdout",
     "output_type": "stream",
     "text": [
      "eigenvalues shape torch.Size([5]) eigenvectors shape torch.Size([5, 400])\n",
      "313 /home/phdcs2/Hard_Disk/Datasets/Deep-Spectral-Segmentation/data/object-segmentation/ECSSD/features/dino_vits16/0314.pth\n",
      "dict_keys(['k', 'indices', 'file', 'id', 'model_name', 'patch_size', 'shape'])\n",
      "0314\n",
      "Starting Training\n",
      "epoch: 00, loss: -0.01097\n",
      "epoch: 01, loss: -0.02784\n",
      "epoch: 02, loss: -0.03195\n",
      "epoch: 03, loss: -0.03274\n",
      "epoch: 04, loss: -0.03317\n",
      "epoch: 05, loss: -0.03354\n",
      "epoch: 06, loss: -0.03373\n",
      "epoch: 07, loss: -0.03389\n",
      "epoch: 08, loss: -0.03415\n",
      "epoch: 09, loss: -0.03422\n",
      "torch.Size([400, 64])\n"
     ]
    },
    {
     "name": "stderr",
     "output_type": "stream",
     "text": [
      " 31%|███▏      | 314/1000 [2:04:54<4:14:14, 22.24s/it]"
     ]
    },
    {
     "name": "stdout",
     "output_type": "stream",
     "text": [
      "eigenvalues shape torch.Size([5]) eigenvectors shape torch.Size([5, 400])\n",
      "314 /home/phdcs2/Hard_Disk/Datasets/Deep-Spectral-Segmentation/data/object-segmentation/ECSSD/features/dino_vits16/0315.pth\n",
      "dict_keys(['k', 'indices', 'file', 'id', 'model_name', 'patch_size', 'shape'])\n",
      "0315\n",
      "Starting Training\n",
      "epoch: 00, loss: -0.10936\n",
      "epoch: 01, loss: -0.14115\n",
      "epoch: 02, loss: -0.14473\n",
      "epoch: 03, loss: -0.14728\n",
      "epoch: 04, loss: -0.14871\n",
      "epoch: 05, loss: -0.14852\n",
      "epoch: 06, loss: -0.14773\n",
      "epoch: 07, loss: -0.15137\n",
      "epoch: 08, loss: -0.15244\n",
      "epoch: 09, loss: -0.15265\n",
      "torch.Size([450, 64])\n"
     ]
    },
    {
     "name": "stderr",
     "output_type": "stream",
     "text": [
      " 32%|███▏      | 315/1000 [2:05:19<4:22:43, 23.01s/it]"
     ]
    },
    {
     "name": "stdout",
     "output_type": "stream",
     "text": [
      "eigenvalues shape torch.Size([5]) eigenvectors shape torch.Size([5, 450])\n",
      "315 /home/phdcs2/Hard_Disk/Datasets/Deep-Spectral-Segmentation/data/object-segmentation/ECSSD/features/dino_vits16/0316.pth\n",
      "dict_keys(['k', 'indices', 'file', 'id', 'model_name', 'patch_size', 'shape'])\n",
      "0316\n",
      "Starting Training\n",
      "epoch: 00, loss: -0.02644\n",
      "epoch: 01, loss: -0.04911\n",
      "epoch: 02, loss: -0.05547\n",
      "epoch: 03, loss: -0.05676\n",
      "epoch: 04, loss: -0.05870\n",
      "epoch: 05, loss: -0.05993\n",
      "epoch: 06, loss: -0.05969\n",
      "epoch: 07, loss: -0.05898\n",
      "epoch: 08, loss: -0.05737\n",
      "epoch: 09, loss: -0.05813\n",
      "torch.Size([450, 64])\n"
     ]
    },
    {
     "name": "stderr",
     "output_type": "stream",
     "text": [
      " 32%|███▏      | 316/1000 [2:05:45<4:31:51, 23.85s/it]"
     ]
    },
    {
     "name": "stdout",
     "output_type": "stream",
     "text": [
      "eigenvalues shape torch.Size([5]) eigenvectors shape torch.Size([5, 450])\n",
      "316 /home/phdcs2/Hard_Disk/Datasets/Deep-Spectral-Segmentation/data/object-segmentation/ECSSD/features/dino_vits16/0317.pth\n",
      "dict_keys(['k', 'indices', 'file', 'id', 'model_name', 'patch_size', 'shape'])\n",
      "0317\n",
      "Starting Training\n",
      "epoch: 00, loss: -0.04680\n",
      "epoch: 01, loss: -0.06707\n",
      "epoch: 02, loss: -0.07844\n",
      "epoch: 03, loss: -0.07716\n",
      "epoch: 04, loss: -0.07947\n",
      "epoch: 05, loss: -0.07719\n",
      "epoch: 06, loss: -0.07765\n",
      "epoch: 07, loss: -0.07782\n",
      "epoch: 08, loss: -0.07839\n",
      "epoch: 09, loss: -0.07991\n",
      "torch.Size([450, 64])\n"
     ]
    },
    {
     "name": "stderr",
     "output_type": "stream",
     "text": [
      " 32%|███▏      | 317/1000 [2:06:12<4:44:10, 24.96s/it]"
     ]
    },
    {
     "name": "stdout",
     "output_type": "stream",
     "text": [
      "eigenvalues shape torch.Size([5]) eigenvectors shape torch.Size([5, 450])\n",
      "317 /home/phdcs2/Hard_Disk/Datasets/Deep-Spectral-Segmentation/data/object-segmentation/ECSSD/features/dino_vits16/0318.pth\n",
      "dict_keys(['k', 'indices', 'file', 'id', 'model_name', 'patch_size', 'shape'])\n",
      "0318\n",
      "Starting Training\n",
      "epoch: 00, loss: -0.17209\n",
      "epoch: 01, loss: -0.21047\n",
      "epoch: 02, loss: -0.21664\n",
      "epoch: 03, loss: -0.21983\n",
      "epoch: 04, loss: -0.22500\n",
      "epoch: 05, loss: -0.22551\n",
      "epoch: 06, loss: -0.22994\n",
      "epoch: 07, loss: -0.22805\n",
      "epoch: 08, loss: -0.23164\n",
      "epoch: 09, loss: -0.23720\n",
      "torch.Size([450, 64])\n"
     ]
    },
    {
     "name": "stderr",
     "output_type": "stream",
     "text": [
      " 32%|███▏      | 318/1000 [2:06:38<4:45:56, 25.16s/it]"
     ]
    },
    {
     "name": "stdout",
     "output_type": "stream",
     "text": [
      "eigenvalues shape torch.Size([5]) eigenvectors shape torch.Size([5, 450])\n",
      "318 /home/phdcs2/Hard_Disk/Datasets/Deep-Spectral-Segmentation/data/object-segmentation/ECSSD/features/dino_vits16/0319.pth\n",
      "dict_keys(['k', 'indices', 'file', 'id', 'model_name', 'patch_size', 'shape'])\n",
      "0319\n",
      "Starting Training\n",
      "epoch: 00, loss: -0.01997\n",
      "epoch: 01, loss: -0.04232\n",
      "epoch: 02, loss: -0.04626\n",
      "epoch: 03, loss: -0.04718\n",
      "epoch: 04, loss: -0.04773\n",
      "epoch: 05, loss: -0.04797\n",
      "epoch: 06, loss: -0.04795\n",
      "epoch: 07, loss: -0.04815\n",
      "epoch: 08, loss: -0.04910\n",
      "epoch: 09, loss: -0.04886\n",
      "torch.Size([450, 64])\n"
     ]
    },
    {
     "name": "stderr",
     "output_type": "stream",
     "text": [
      " 32%|███▏      | 319/1000 [2:07:02<4:43:41, 25.00s/it]"
     ]
    },
    {
     "name": "stdout",
     "output_type": "stream",
     "text": [
      "eigenvalues shape torch.Size([5]) eigenvectors shape torch.Size([5, 450])\n",
      "319 /home/phdcs2/Hard_Disk/Datasets/Deep-Spectral-Segmentation/data/object-segmentation/ECSSD/features/dino_vits16/0320.pth\n",
      "dict_keys(['k', 'indices', 'file', 'id', 'model_name', 'patch_size', 'shape'])\n",
      "0320\n",
      "Starting Training\n",
      "epoch: 00, loss: -0.07794\n",
      "epoch: 01, loss: -0.10525\n",
      "epoch: 02, loss: -0.10857\n",
      "epoch: 03, loss: -0.10927\n",
      "epoch: 04, loss: -0.11157\n",
      "epoch: 05, loss: -0.11436\n",
      "epoch: 06, loss: -0.11607\n",
      "epoch: 07, loss: -0.11275\n",
      "epoch: 08, loss: -0.11456\n",
      "epoch: 09, loss: -0.11499\n",
      "torch.Size([450, 64])\n"
     ]
    },
    {
     "name": "stderr",
     "output_type": "stream",
     "text": [
      " 32%|███▏      | 320/1000 [2:07:25<4:33:44, 24.15s/it]"
     ]
    },
    {
     "name": "stdout",
     "output_type": "stream",
     "text": [
      "eigenvalues shape torch.Size([5]) eigenvectors shape torch.Size([5, 450])\n",
      "320 /home/phdcs2/Hard_Disk/Datasets/Deep-Spectral-Segmentation/data/object-segmentation/ECSSD/features/dino_vits16/0321.pth\n",
      "dict_keys(['k', 'indices', 'file', 'id', 'model_name', 'patch_size', 'shape'])\n",
      "0321\n",
      "Starting Training\n",
      "epoch: 00, loss: -0.01521\n",
      "epoch: 01, loss: -0.03029\n",
      "epoch: 02, loss: -0.03541\n",
      "epoch: 03, loss: -0.03787\n",
      "epoch: 04, loss: -0.03876\n",
      "epoch: 05, loss: -0.03945\n",
      "epoch: 06, loss: -0.03984\n",
      "epoch: 07, loss: -0.03928\n",
      "epoch: 08, loss: -0.03955\n",
      "epoch: 09, loss: -0.03943\n",
      "torch.Size([500, 64])\n"
     ]
    },
    {
     "name": "stderr",
     "output_type": "stream",
     "text": [
      " 32%|███▏      | 321/1000 [2:07:50<4:37:54, 24.56s/it]"
     ]
    },
    {
     "name": "stdout",
     "output_type": "stream",
     "text": [
      "eigenvalues shape torch.Size([5]) eigenvectors shape torch.Size([5, 500])\n",
      "321 /home/phdcs2/Hard_Disk/Datasets/Deep-Spectral-Segmentation/data/object-segmentation/ECSSD/features/dino_vits16/0322.pth\n",
      "dict_keys(['k', 'indices', 'file', 'id', 'model_name', 'patch_size', 'shape'])\n",
      "0322\n",
      "Starting Training\n",
      "epoch: 00, loss: -0.03581\n",
      "epoch: 01, loss: -0.05590\n",
      "epoch: 02, loss: -0.05714\n",
      "epoch: 03, loss: -0.05765\n",
      "epoch: 04, loss: -0.05779\n",
      "epoch: 05, loss: -0.05810\n",
      "epoch: 06, loss: -0.05832\n",
      "epoch: 07, loss: -0.05843\n",
      "epoch: 08, loss: -0.05857\n",
      "epoch: 09, loss: -0.05875\n",
      "torch.Size([450, 64])\n"
     ]
    },
    {
     "name": "stderr",
     "output_type": "stream",
     "text": [
      " 32%|███▏      | 322/1000 [2:08:13<4:31:03, 23.99s/it]"
     ]
    },
    {
     "name": "stdout",
     "output_type": "stream",
     "text": [
      "eigenvalues shape torch.Size([5]) eigenvectors shape torch.Size([5, 450])\n",
      "322 /home/phdcs2/Hard_Disk/Datasets/Deep-Spectral-Segmentation/data/object-segmentation/ECSSD/features/dino_vits16/0323.pth\n",
      "dict_keys(['k', 'indices', 'file', 'id', 'model_name', 'patch_size', 'shape'])\n",
      "0323\n",
      "Starting Training\n",
      "epoch: 00, loss: -0.05263\n",
      "epoch: 01, loss: -0.08271\n",
      "epoch: 02, loss: -0.08615\n",
      "epoch: 03, loss: -0.08709\n",
      "epoch: 04, loss: -0.08873\n",
      "epoch: 05, loss: -0.09069\n",
      "epoch: 06, loss: -0.09156\n",
      "epoch: 07, loss: -0.09158\n",
      "epoch: 08, loss: -0.09093\n",
      "epoch: 09, loss: -0.09015\n",
      "torch.Size([450, 64])\n"
     ]
    },
    {
     "name": "stderr",
     "output_type": "stream",
     "text": [
      " 32%|███▏      | 323/1000 [2:08:35<4:24:09, 23.41s/it]"
     ]
    },
    {
     "name": "stdout",
     "output_type": "stream",
     "text": [
      "eigenvalues shape torch.Size([5]) eigenvectors shape torch.Size([5, 450])\n",
      "323 /home/phdcs2/Hard_Disk/Datasets/Deep-Spectral-Segmentation/data/object-segmentation/ECSSD/features/dino_vits16/0324.pth\n",
      "dict_keys(['k', 'indices', 'file', 'id', 'model_name', 'patch_size', 'shape'])\n",
      "0324\n",
      "Starting Training\n",
      "epoch: 00, loss: -0.03529\n",
      "epoch: 01, loss: -0.05337\n",
      "epoch: 02, loss: -0.06011\n",
      "epoch: 03, loss: -0.06230\n",
      "epoch: 04, loss: -0.06035\n",
      "epoch: 05, loss: -0.06177\n",
      "epoch: 06, loss: -0.06284\n",
      "epoch: 07, loss: -0.06244\n",
      "epoch: 08, loss: -0.06365\n",
      "epoch: 09, loss: -0.06354\n",
      "torch.Size([450, 64])\n"
     ]
    },
    {
     "name": "stderr",
     "output_type": "stream",
     "text": [
      " 32%|███▏      | 324/1000 [2:09:00<4:29:36, 23.93s/it]"
     ]
    },
    {
     "name": "stdout",
     "output_type": "stream",
     "text": [
      "eigenvalues shape torch.Size([5]) eigenvectors shape torch.Size([5, 450])\n",
      "324 /home/phdcs2/Hard_Disk/Datasets/Deep-Spectral-Segmentation/data/object-segmentation/ECSSD/features/dino_vits16/0325.pth\n",
      "dict_keys(['k', 'indices', 'file', 'id', 'model_name', 'patch_size', 'shape'])\n",
      "0325\n",
      "Starting Training\n",
      "epoch: 00, loss: -0.02935\n",
      "epoch: 01, loss: -0.05949\n",
      "epoch: 02, loss: -0.06280\n",
      "epoch: 03, loss: -0.06357\n",
      "epoch: 04, loss: -0.06844\n",
      "epoch: 05, loss: -0.06875\n",
      "epoch: 06, loss: -0.06863\n",
      "epoch: 07, loss: -0.06904\n",
      "epoch: 08, loss: -0.06851\n",
      "epoch: 09, loss: -0.06737\n",
      "torch.Size([450, 64])\n"
     ]
    },
    {
     "name": "stderr",
     "output_type": "stream",
     "text": [
      " 32%|███▎      | 325/1000 [2:09:28<4:42:10, 25.08s/it]"
     ]
    },
    {
     "name": "stdout",
     "output_type": "stream",
     "text": [
      "eigenvalues shape torch.Size([5]) eigenvectors shape torch.Size([5, 450])\n",
      "325 /home/phdcs2/Hard_Disk/Datasets/Deep-Spectral-Segmentation/data/object-segmentation/ECSSD/features/dino_vits16/0326.pth\n",
      "dict_keys(['k', 'indices', 'file', 'id', 'model_name', 'patch_size', 'shape'])\n",
      "0326\n",
      "Starting Training\n",
      "epoch: 00, loss: -0.00922\n",
      "epoch: 01, loss: -0.02705\n",
      "epoch: 02, loss: -0.03081\n",
      "epoch: 03, loss: -0.03220\n",
      "epoch: 04, loss: -0.03229\n",
      "epoch: 05, loss: -0.03255\n",
      "epoch: 06, loss: -0.03352\n",
      "epoch: 07, loss: -0.03279\n",
      "epoch: 08, loss: -0.03278\n",
      "epoch: 09, loss: -0.03318\n",
      "torch.Size([425, 64])\n"
     ]
    },
    {
     "name": "stderr",
     "output_type": "stream",
     "text": [
      " 33%|███▎      | 326/1000 [2:09:52<4:39:54, 24.92s/it]"
     ]
    },
    {
     "name": "stdout",
     "output_type": "stream",
     "text": [
      "eigenvalues shape torch.Size([5]) eigenvectors shape torch.Size([5, 425])\n",
      "326 /home/phdcs2/Hard_Disk/Datasets/Deep-Spectral-Segmentation/data/object-segmentation/ECSSD/features/dino_vits16/0327.pth\n",
      "dict_keys(['k', 'indices', 'file', 'id', 'model_name', 'patch_size', 'shape'])\n",
      "0327\n",
      "Starting Training\n",
      "epoch: 00, loss: -0.00802\n",
      "epoch: 01, loss: -0.02127\n",
      "epoch: 02, loss: -0.02445\n",
      "epoch: 03, loss: -0.02578\n",
      "epoch: 04, loss: -0.02615\n",
      "epoch: 05, loss: -0.02649\n",
      "epoch: 06, loss: -0.02679\n",
      "epoch: 07, loss: -0.02688\n",
      "epoch: 08, loss: -0.02714\n",
      "epoch: 09, loss: -0.02720\n",
      "torch.Size([450, 64])\n"
     ]
    },
    {
     "name": "stderr",
     "output_type": "stream",
     "text": [
      " 33%|███▎      | 327/1000 [2:10:14<4:28:37, 23.95s/it]"
     ]
    },
    {
     "name": "stdout",
     "output_type": "stream",
     "text": [
      "eigenvalues shape torch.Size([5]) eigenvectors shape torch.Size([5, 450])\n",
      "327 /home/phdcs2/Hard_Disk/Datasets/Deep-Spectral-Segmentation/data/object-segmentation/ECSSD/features/dino_vits16/0328.pth\n",
      "dict_keys(['k', 'indices', 'file', 'id', 'model_name', 'patch_size', 'shape'])\n",
      "0328\n",
      "Starting Training\n",
      "epoch: 00, loss: -0.06021\n",
      "epoch: 01, loss: -0.08949\n",
      "epoch: 02, loss: -0.09174\n",
      "epoch: 03, loss: -0.09298\n",
      "epoch: 04, loss: -0.09308\n",
      "epoch: 05, loss: -0.09773\n",
      "epoch: 06, loss: -0.09657\n",
      "epoch: 07, loss: -0.09634\n",
      "epoch: 08, loss: -0.09694\n",
      "epoch: 09, loss: -0.09619\n",
      "torch.Size([475, 64])\n"
     ]
    },
    {
     "name": "stderr",
     "output_type": "stream",
     "text": [
      " 33%|███▎      | 328/1000 [2:10:42<4:42:10, 25.19s/it]"
     ]
    },
    {
     "name": "stdout",
     "output_type": "stream",
     "text": [
      "eigenvalues shape torch.Size([5]) eigenvectors shape torch.Size([5, 475])\n",
      "328 /home/phdcs2/Hard_Disk/Datasets/Deep-Spectral-Segmentation/data/object-segmentation/ECSSD/features/dino_vits16/0329.pth\n",
      "dict_keys(['k', 'indices', 'file', 'id', 'model_name', 'patch_size', 'shape'])\n",
      "0329\n",
      "Starting Training\n",
      "epoch: 00, loss: -0.04043\n",
      "epoch: 01, loss: -0.06523\n",
      "epoch: 02, loss: -0.06507\n",
      "epoch: 03, loss: -0.06788\n",
      "epoch: 04, loss: -0.06857\n",
      "epoch: 05, loss: -0.06680\n",
      "epoch: 06, loss: -0.06913\n",
      "epoch: 07, loss: -0.06882\n",
      "epoch: 08, loss: -0.06999\n",
      "epoch: 09, loss: -0.07049\n",
      "torch.Size([500, 64])\n"
     ]
    },
    {
     "name": "stderr",
     "output_type": "stream",
     "text": [
      " 33%|███▎      | 329/1000 [2:11:10<4:50:49, 26.00s/it]"
     ]
    },
    {
     "name": "stdout",
     "output_type": "stream",
     "text": [
      "eigenvalues shape torch.Size([5]) eigenvectors shape torch.Size([5, 500])\n",
      "329 /home/phdcs2/Hard_Disk/Datasets/Deep-Spectral-Segmentation/data/object-segmentation/ECSSD/features/dino_vits16/0330.pth\n",
      "dict_keys(['k', 'indices', 'file', 'id', 'model_name', 'patch_size', 'shape'])\n",
      "0330\n",
      "Starting Training\n",
      "epoch: 00, loss: -0.04282\n",
      "epoch: 01, loss: -0.07517\n",
      "epoch: 02, loss: -0.07628\n",
      "epoch: 03, loss: -0.07981\n",
      "epoch: 04, loss: -0.08263\n",
      "epoch: 05, loss: -0.08017\n",
      "epoch: 06, loss: -0.08249\n",
      "epoch: 07, loss: -0.08150\n",
      "epoch: 08, loss: -0.08335\n",
      "epoch: 09, loss: -0.08276\n",
      "torch.Size([450, 64])\n"
     ]
    },
    {
     "name": "stderr",
     "output_type": "stream",
     "text": [
      " 33%|███▎      | 330/1000 [2:11:35<4:48:37, 25.85s/it]"
     ]
    },
    {
     "name": "stdout",
     "output_type": "stream",
     "text": [
      "eigenvalues shape torch.Size([5]) eigenvectors shape torch.Size([5, 450])\n",
      "330 /home/phdcs2/Hard_Disk/Datasets/Deep-Spectral-Segmentation/data/object-segmentation/ECSSD/features/dino_vits16/0331.pth\n",
      "dict_keys(['k', 'indices', 'file', 'id', 'model_name', 'patch_size', 'shape'])\n",
      "0331\n",
      "Starting Training\n",
      "epoch: 00, loss: -0.07870\n",
      "epoch: 01, loss: -0.10405\n",
      "epoch: 02, loss: -0.10484\n",
      "epoch: 03, loss: -0.10516\n",
      "epoch: 04, loss: -0.10527\n",
      "epoch: 05, loss: -0.10508\n",
      "epoch: 06, loss: -0.10527\n",
      "epoch: 07, loss: -0.10558\n",
      "epoch: 08, loss: -0.10549\n",
      "epoch: 09, loss: -0.10572\n",
      "torch.Size([450, 64])\n"
     ]
    },
    {
     "name": "stderr",
     "output_type": "stream",
     "text": [
      " 33%|███▎      | 331/1000 [2:12:04<4:58:02, 26.73s/it]"
     ]
    },
    {
     "name": "stdout",
     "output_type": "stream",
     "text": [
      "eigenvalues shape torch.Size([5]) eigenvectors shape torch.Size([5, 450])\n",
      "331 /home/phdcs2/Hard_Disk/Datasets/Deep-Spectral-Segmentation/data/object-segmentation/ECSSD/features/dino_vits16/0332.pth\n",
      "dict_keys(['k', 'indices', 'file', 'id', 'model_name', 'patch_size', 'shape'])\n",
      "0332\n",
      "Starting Training\n",
      "epoch: 00, loss: -0.02917\n",
      "epoch: 01, loss: -0.05931\n",
      "epoch: 02, loss: -0.06159\n",
      "epoch: 03, loss: -0.06226\n",
      "epoch: 04, loss: -0.06238\n",
      "epoch: 05, loss: -0.06269\n",
      "epoch: 06, loss: -0.06288\n",
      "epoch: 07, loss: -0.06302\n",
      "epoch: 08, loss: -0.06314\n",
      "epoch: 09, loss: -0.06317\n",
      "torch.Size([400, 64])\n"
     ]
    },
    {
     "name": "stderr",
     "output_type": "stream",
     "text": [
      " 33%|███▎      | 332/1000 [2:12:28<4:48:08, 25.88s/it]"
     ]
    },
    {
     "name": "stdout",
     "output_type": "stream",
     "text": [
      "eigenvalues shape torch.Size([5]) eigenvectors shape torch.Size([5, 400])\n",
      "332 /home/phdcs2/Hard_Disk/Datasets/Deep-Spectral-Segmentation/data/object-segmentation/ECSSD/features/dino_vits16/0333.pth\n",
      "dict_keys(['k', 'indices', 'file', 'id', 'model_name', 'patch_size', 'shape'])\n",
      "0333\n",
      "Starting Training\n",
      "epoch: 00, loss: -0.04287\n",
      "epoch: 01, loss: -0.06196\n",
      "epoch: 02, loss: -0.06323\n",
      "epoch: 03, loss: -0.06365\n",
      "epoch: 04, loss: -0.06398\n",
      "epoch: 05, loss: -0.06412\n",
      "epoch: 06, loss: -0.06416\n",
      "epoch: 07, loss: -0.06437\n",
      "epoch: 08, loss: -0.06454\n",
      "epoch: 09, loss: -0.06460\n",
      "torch.Size([400, 64])\n"
     ]
    },
    {
     "name": "stderr",
     "output_type": "stream",
     "text": [
      " 33%|███▎      | 333/1000 [2:12:54<4:47:41, 25.88s/it]"
     ]
    },
    {
     "name": "stdout",
     "output_type": "stream",
     "text": [
      "eigenvalues shape torch.Size([5]) eigenvectors shape torch.Size([5, 400])\n",
      "333 /home/phdcs2/Hard_Disk/Datasets/Deep-Spectral-Segmentation/data/object-segmentation/ECSSD/features/dino_vits16/0334.pth\n",
      "dict_keys(['k', 'indices', 'file', 'id', 'model_name', 'patch_size', 'shape'])\n",
      "0334\n",
      "Starting Training\n",
      "epoch: 00, loss: -0.04302\n",
      "epoch: 01, loss: -0.06693\n",
      "epoch: 02, loss: -0.07056\n",
      "epoch: 03, loss: -0.07174\n",
      "epoch: 04, loss: -0.07166\n",
      "epoch: 05, loss: -0.07195\n",
      "epoch: 06, loss: -0.07443\n",
      "epoch: 07, loss: -0.07398\n",
      "epoch: 08, loss: -0.07256\n",
      "epoch: 09, loss: -0.07539\n",
      "torch.Size([450, 64])\n"
     ]
    },
    {
     "name": "stderr",
     "output_type": "stream",
     "text": [
      " 33%|███▎      | 334/1000 [2:13:21<4:51:06, 26.23s/it]"
     ]
    },
    {
     "name": "stdout",
     "output_type": "stream",
     "text": [
      "eigenvalues shape torch.Size([5]) eigenvectors shape torch.Size([5, 450])\n",
      "334 /home/phdcs2/Hard_Disk/Datasets/Deep-Spectral-Segmentation/data/object-segmentation/ECSSD/features/dino_vits16/0335.pth\n",
      "dict_keys(['k', 'indices', 'file', 'id', 'model_name', 'patch_size', 'shape'])\n",
      "0335\n",
      "Starting Training\n",
      "epoch: 00, loss: -0.02068\n",
      "epoch: 01, loss: -0.04163\n",
      "epoch: 02, loss: -0.04467\n",
      "epoch: 03, loss: -0.04443\n",
      "epoch: 04, loss: -0.04554\n",
      "epoch: 05, loss: -0.04556\n",
      "epoch: 06, loss: -0.04556\n",
      "epoch: 07, loss: -0.04620\n",
      "epoch: 08, loss: -0.04603\n",
      "epoch: 09, loss: -0.04629\n",
      "torch.Size([400, 64])\n"
     ]
    },
    {
     "name": "stderr",
     "output_type": "stream",
     "text": [
      " 34%|███▎      | 335/1000 [2:13:44<4:41:19, 25.38s/it]"
     ]
    },
    {
     "name": "stdout",
     "output_type": "stream",
     "text": [
      "eigenvalues shape torch.Size([5]) eigenvectors shape torch.Size([5, 400])\n",
      "335 /home/phdcs2/Hard_Disk/Datasets/Deep-Spectral-Segmentation/data/object-segmentation/ECSSD/features/dino_vits16/0336.pth\n",
      "dict_keys(['k', 'indices', 'file', 'id', 'model_name', 'patch_size', 'shape'])\n",
      "0336\n",
      "Starting Training\n",
      "epoch: 00, loss: -0.12611\n",
      "epoch: 01, loss: -0.15782\n",
      "epoch: 02, loss: -0.16185\n",
      "epoch: 03, loss: -0.16229\n",
      "epoch: 04, loss: -0.16440\n",
      "epoch: 05, loss: -0.16487\n",
      "epoch: 06, loss: -0.16419\n",
      "epoch: 07, loss: -0.16500\n",
      "epoch: 08, loss: -0.16715\n",
      "epoch: 09, loss: -0.16625\n",
      "torch.Size([450, 64])\n"
     ]
    },
    {
     "name": "stderr",
     "output_type": "stream",
     "text": [
      " 34%|███▎      | 336/1000 [2:14:12<4:47:21, 25.97s/it]"
     ]
    },
    {
     "name": "stdout",
     "output_type": "stream",
     "text": [
      "eigenvalues shape torch.Size([5]) eigenvectors shape torch.Size([5, 450])\n",
      "336 /home/phdcs2/Hard_Disk/Datasets/Deep-Spectral-Segmentation/data/object-segmentation/ECSSD/features/dino_vits16/0337.pth\n",
      "dict_keys(['k', 'indices', 'file', 'id', 'model_name', 'patch_size', 'shape'])\n",
      "0337\n",
      "Starting Training\n",
      "epoch: 00, loss: -0.05068\n",
      "epoch: 01, loss: -0.06565\n",
      "epoch: 02, loss: -0.06680\n",
      "epoch: 03, loss: -0.06733\n",
      "epoch: 04, loss: -0.06765\n",
      "epoch: 05, loss: -0.06801\n",
      "epoch: 06, loss: -0.06822\n",
      "epoch: 07, loss: -0.06842\n",
      "epoch: 08, loss: -0.06864\n",
      "epoch: 09, loss: -0.06878\n",
      "torch.Size([450, 64])\n"
     ]
    },
    {
     "name": "stderr",
     "output_type": "stream",
     "text": [
      " 34%|███▎      | 337/1000 [2:14:37<4:43:19, 25.64s/it]"
     ]
    },
    {
     "name": "stdout",
     "output_type": "stream",
     "text": [
      "eigenvalues shape torch.Size([5]) eigenvectors shape torch.Size([5, 450])\n",
      "337 /home/phdcs2/Hard_Disk/Datasets/Deep-Spectral-Segmentation/data/object-segmentation/ECSSD/features/dino_vits16/0338.pth\n",
      "dict_keys(['k', 'indices', 'file', 'id', 'model_name', 'patch_size', 'shape'])\n",
      "0338\n",
      "Starting Training\n",
      "epoch: 00, loss: -0.01042\n",
      "epoch: 01, loss: -0.02534\n",
      "epoch: 02, loss: -0.02958\n",
      "epoch: 03, loss: -0.02987\n",
      "epoch: 04, loss: -0.03050\n",
      "epoch: 05, loss: -0.03093\n",
      "epoch: 06, loss: -0.03102\n",
      "epoch: 07, loss: -0.03076\n",
      "epoch: 08, loss: -0.03122\n",
      "epoch: 09, loss: -0.03168\n",
      "torch.Size([450, 64])\n"
     ]
    },
    {
     "name": "stderr",
     "output_type": "stream",
     "text": [
      " 34%|███▍      | 338/1000 [2:15:03<4:46:09, 25.94s/it]"
     ]
    },
    {
     "name": "stdout",
     "output_type": "stream",
     "text": [
      "eigenvalues shape torch.Size([5]) eigenvectors shape torch.Size([5, 450])\n",
      "338 /home/phdcs2/Hard_Disk/Datasets/Deep-Spectral-Segmentation/data/object-segmentation/ECSSD/features/dino_vits16/0339.pth\n",
      "dict_keys(['k', 'indices', 'file', 'id', 'model_name', 'patch_size', 'shape'])\n",
      "0339\n",
      "Starting Training\n",
      "epoch: 00, loss: -0.09420\n",
      "epoch: 01, loss: -0.11368\n",
      "epoch: 02, loss: -0.11422\n",
      "epoch: 03, loss: -0.11386\n",
      "epoch: 04, loss: -0.11469\n",
      "epoch: 05, loss: -0.11470\n",
      "epoch: 06, loss: -0.11488\n",
      "epoch: 07, loss: -0.11496\n",
      "epoch: 08, loss: -0.11535\n",
      "epoch: 09, loss: -0.11513\n",
      "torch.Size([450, 64])\n"
     ]
    },
    {
     "name": "stderr",
     "output_type": "stream",
     "text": [
      " 34%|███▍      | 339/1000 [2:15:35<5:04:12, 27.61s/it]"
     ]
    },
    {
     "name": "stdout",
     "output_type": "stream",
     "text": [
      "eigenvalues shape torch.Size([5]) eigenvectors shape torch.Size([5, 450])\n",
      "339 /home/phdcs2/Hard_Disk/Datasets/Deep-Spectral-Segmentation/data/object-segmentation/ECSSD/features/dino_vits16/0340.pth\n",
      "dict_keys(['k', 'indices', 'file', 'id', 'model_name', 'patch_size', 'shape'])\n",
      "0340\n",
      "Starting Training\n",
      "epoch: 00, loss: -0.06816\n",
      "epoch: 01, loss: -0.10485\n",
      "epoch: 02, loss: -0.11008\n",
      "epoch: 03, loss: -0.11095\n",
      "epoch: 04, loss: -0.11310\n",
      "epoch: 05, loss: -0.11262\n",
      "epoch: 06, loss: -0.11350\n",
      "epoch: 07, loss: -0.11578\n",
      "epoch: 08, loss: -0.11464\n",
      "epoch: 09, loss: -0.11492\n",
      "torch.Size([375, 64])\n"
     ]
    },
    {
     "name": "stderr",
     "output_type": "stream",
     "text": [
      " 34%|███▍      | 340/1000 [2:16:02<5:02:18, 27.48s/it]"
     ]
    },
    {
     "name": "stdout",
     "output_type": "stream",
     "text": [
      "eigenvalues shape torch.Size([5]) eigenvectors shape torch.Size([5, 375])\n",
      "340 /home/phdcs2/Hard_Disk/Datasets/Deep-Spectral-Segmentation/data/object-segmentation/ECSSD/features/dino_vits16/0341.pth\n",
      "dict_keys(['k', 'indices', 'file', 'id', 'model_name', 'patch_size', 'shape'])\n",
      "0341\n",
      "Starting Training\n",
      "epoch: 00, loss: -0.01320\n",
      "epoch: 01, loss: -0.03247\n",
      "epoch: 02, loss: -0.03595\n",
      "epoch: 03, loss: -0.03881\n",
      "epoch: 04, loss: -0.03719\n",
      "epoch: 05, loss: -0.04067\n",
      "epoch: 06, loss: -0.03939\n",
      "epoch: 07, loss: -0.03816\n",
      "epoch: 08, loss: -0.03834\n",
      "epoch: 09, loss: -0.04012\n",
      "torch.Size([375, 64])\n"
     ]
    },
    {
     "name": "stderr",
     "output_type": "stream",
     "text": [
      " 34%|███▍      | 341/1000 [2:16:32<5:10:39, 28.28s/it]"
     ]
    },
    {
     "name": "stdout",
     "output_type": "stream",
     "text": [
      "eigenvalues shape torch.Size([5]) eigenvectors shape torch.Size([5, 375])\n",
      "341 /home/phdcs2/Hard_Disk/Datasets/Deep-Spectral-Segmentation/data/object-segmentation/ECSSD/features/dino_vits16/0342.pth\n",
      "dict_keys(['k', 'indices', 'file', 'id', 'model_name', 'patch_size', 'shape'])\n",
      "0342\n",
      "Starting Training\n",
      "epoch: 00, loss: -0.04586\n",
      "epoch: 01, loss: -0.06435\n",
      "epoch: 02, loss: -0.06529\n",
      "epoch: 03, loss: -0.06576\n",
      "epoch: 04, loss: -0.06604\n",
      "epoch: 05, loss: -0.06599\n",
      "epoch: 06, loss: -0.06624\n",
      "epoch: 07, loss: -0.06616\n",
      "epoch: 08, loss: -0.06617\n",
      "epoch: 09, loss: -0.06655\n",
      "torch.Size([450, 64])\n"
     ]
    },
    {
     "name": "stderr",
     "output_type": "stream",
     "text": [
      " 34%|███▍      | 342/1000 [2:17:01<5:11:29, 28.40s/it]"
     ]
    },
    {
     "name": "stdout",
     "output_type": "stream",
     "text": [
      "eigenvalues shape torch.Size([5]) eigenvectors shape torch.Size([5, 450])\n",
      "342 /home/phdcs2/Hard_Disk/Datasets/Deep-Spectral-Segmentation/data/object-segmentation/ECSSD/features/dino_vits16/0343.pth\n",
      "dict_keys(['k', 'indices', 'file', 'id', 'model_name', 'patch_size', 'shape'])\n",
      "0343\n",
      "Starting Training\n",
      "epoch: 00, loss: -0.04946\n",
      "epoch: 01, loss: -0.07807\n",
      "epoch: 02, loss: -0.08130\n",
      "epoch: 03, loss: -0.08234\n",
      "epoch: 04, loss: -0.08545\n",
      "epoch: 05, loss: -0.08319\n",
      "epoch: 06, loss: -0.08627\n",
      "epoch: 07, loss: -0.08613\n",
      "epoch: 08, loss: -0.08627\n",
      "epoch: 09, loss: -0.08599\n",
      "torch.Size([500, 64])\n"
     ]
    },
    {
     "name": "stderr",
     "output_type": "stream",
     "text": [
      " 34%|███▍      | 343/1000 [2:17:38<5:40:38, 31.11s/it]"
     ]
    },
    {
     "name": "stdout",
     "output_type": "stream",
     "text": [
      "eigenvalues shape torch.Size([5]) eigenvectors shape torch.Size([5, 500])\n",
      "343 /home/phdcs2/Hard_Disk/Datasets/Deep-Spectral-Segmentation/data/object-segmentation/ECSSD/features/dino_vits16/0344.pth\n",
      "dict_keys(['k', 'indices', 'file', 'id', 'model_name', 'patch_size', 'shape'])\n",
      "0344\n",
      "Starting Training\n",
      "epoch: 00, loss: -0.01499\n",
      "epoch: 01, loss: -0.02836\n",
      "epoch: 02, loss: -0.03104\n",
      "epoch: 03, loss: -0.03196\n",
      "epoch: 04, loss: -0.03269\n",
      "epoch: 05, loss: -0.03265\n",
      "epoch: 06, loss: -0.03296\n",
      "epoch: 07, loss: -0.03305\n",
      "epoch: 08, loss: -0.03325\n",
      "epoch: 09, loss: -0.03345\n",
      "torch.Size([450, 64])\n"
     ]
    },
    {
     "name": "stderr",
     "output_type": "stream",
     "text": [
      " 34%|███▍      | 344/1000 [2:18:00<5:10:24, 28.39s/it]"
     ]
    },
    {
     "name": "stdout",
     "output_type": "stream",
     "text": [
      "eigenvalues shape torch.Size([5]) eigenvectors shape torch.Size([5, 450])\n",
      "344 /home/phdcs2/Hard_Disk/Datasets/Deep-Spectral-Segmentation/data/object-segmentation/ECSSD/features/dino_vits16/0345.pth\n",
      "dict_keys(['k', 'indices', 'file', 'id', 'model_name', 'patch_size', 'shape'])\n",
      "0345\n",
      "Starting Training\n",
      "epoch: 00, loss: 0.00308\n",
      "epoch: 01, loss: -0.00329\n",
      "epoch: 02, loss: -0.00603\n",
      "epoch: 03, loss: -0.00763\n",
      "epoch: 04, loss: -0.00858\n",
      "epoch: 05, loss: -0.00920\n",
      "epoch: 06, loss: -0.00971\n",
      "epoch: 07, loss: -0.01005\n",
      "epoch: 08, loss: -0.01022\n",
      "epoch: 09, loss: -0.01045\n",
      "torch.Size([500, 64])\n"
     ]
    },
    {
     "name": "stderr",
     "output_type": "stream",
     "text": [
      " 34%|███▍      | 345/1000 [2:18:30<5:13:22, 28.71s/it]"
     ]
    },
    {
     "name": "stdout",
     "output_type": "stream",
     "text": [
      "eigenvalues shape torch.Size([5]) eigenvectors shape torch.Size([5, 500])\n",
      "345 /home/phdcs2/Hard_Disk/Datasets/Deep-Spectral-Segmentation/data/object-segmentation/ECSSD/features/dino_vits16/0346.pth\n",
      "dict_keys(['k', 'indices', 'file', 'id', 'model_name', 'patch_size', 'shape'])\n",
      "0346\n",
      "Starting Training\n",
      "epoch: 00, loss: -0.04584\n",
      "epoch: 01, loss: -0.07800\n",
      "epoch: 02, loss: -0.08662\n",
      "epoch: 03, loss: -0.08566\n",
      "epoch: 04, loss: -0.09022\n",
      "epoch: 05, loss: -0.09040\n",
      "epoch: 06, loss: -0.08893\n",
      "epoch: 07, loss: -0.08969\n",
      "epoch: 08, loss: -0.09012\n",
      "epoch: 09, loss: -0.09095\n",
      "torch.Size([450, 64])\n"
     ]
    },
    {
     "name": "stderr",
     "output_type": "stream",
     "text": [
      " 35%|███▍      | 346/1000 [2:18:54<4:59:55, 27.52s/it]"
     ]
    },
    {
     "name": "stdout",
     "output_type": "stream",
     "text": [
      "eigenvalues shape torch.Size([5]) eigenvectors shape torch.Size([5, 450])\n",
      "346 /home/phdcs2/Hard_Disk/Datasets/Deep-Spectral-Segmentation/data/object-segmentation/ECSSD/features/dino_vits16/0347.pth\n",
      "dict_keys(['k', 'indices', 'file', 'id', 'model_name', 'patch_size', 'shape'])\n",
      "0347\n",
      "Starting Training\n",
      "epoch: 00, loss: -0.01327\n",
      "epoch: 01, loss: -0.02607\n",
      "epoch: 02, loss: -0.02875\n",
      "epoch: 03, loss: -0.02970\n",
      "epoch: 04, loss: -0.02963\n",
      "epoch: 05, loss: -0.03010\n",
      "epoch: 06, loss: -0.03023\n",
      "epoch: 07, loss: -0.03045\n",
      "epoch: 08, loss: -0.03068\n",
      "epoch: 09, loss: -0.03068\n",
      "torch.Size([450, 64])\n"
     ]
    },
    {
     "name": "stderr",
     "output_type": "stream",
     "text": [
      " 35%|███▍      | 347/1000 [2:19:20<4:53:23, 26.96s/it]"
     ]
    },
    {
     "name": "stdout",
     "output_type": "stream",
     "text": [
      "eigenvalues shape torch.Size([5]) eigenvectors shape torch.Size([5, 450])\n",
      "347 /home/phdcs2/Hard_Disk/Datasets/Deep-Spectral-Segmentation/data/object-segmentation/ECSSD/features/dino_vits16/0348.pth\n",
      "dict_keys(['k', 'indices', 'file', 'id', 'model_name', 'patch_size', 'shape'])\n",
      "0348\n",
      "Starting Training\n",
      "epoch: 00, loss: -0.06826\n",
      "epoch: 01, loss: -0.10209\n",
      "epoch: 02, loss: -0.10773\n",
      "epoch: 03, loss: -0.10744\n",
      "epoch: 04, loss: -0.11014\n",
      "epoch: 05, loss: -0.11166\n",
      "epoch: 06, loss: -0.11123\n",
      "epoch: 07, loss: -0.11031\n",
      "epoch: 08, loss: -0.11076\n",
      "epoch: 09, loss: -0.11169\n",
      "torch.Size([400, 64])\n"
     ]
    },
    {
     "name": "stderr",
     "output_type": "stream",
     "text": [
      " 35%|███▍      | 348/1000 [2:19:45<4:46:03, 26.32s/it]"
     ]
    },
    {
     "name": "stdout",
     "output_type": "stream",
     "text": [
      "eigenvalues shape torch.Size([5]) eigenvectors shape torch.Size([5, 400])\n",
      "348 /home/phdcs2/Hard_Disk/Datasets/Deep-Spectral-Segmentation/data/object-segmentation/ECSSD/features/dino_vits16/0349.pth\n",
      "dict_keys(['k', 'indices', 'file', 'id', 'model_name', 'patch_size', 'shape'])\n",
      "0349\n",
      "Starting Training\n",
      "epoch: 00, loss: -0.09896\n",
      "epoch: 01, loss: -0.13759\n",
      "epoch: 02, loss: -0.14128\n",
      "epoch: 03, loss: -0.14442\n",
      "epoch: 04, loss: -0.14359\n",
      "epoch: 05, loss: -0.14722\n",
      "epoch: 06, loss: -0.14840\n",
      "epoch: 07, loss: -0.14683\n",
      "epoch: 08, loss: -0.14981\n",
      "epoch: 09, loss: -0.14666\n",
      "torch.Size([400, 64])\n"
     ]
    },
    {
     "name": "stderr",
     "output_type": "stream",
     "text": [
      " 35%|███▍      | 349/1000 [2:20:09<4:39:27, 25.76s/it]"
     ]
    },
    {
     "name": "stdout",
     "output_type": "stream",
     "text": [
      "eigenvalues shape torch.Size([5]) eigenvectors shape torch.Size([5, 400])\n",
      "349 /home/phdcs2/Hard_Disk/Datasets/Deep-Spectral-Segmentation/data/object-segmentation/ECSSD/features/dino_vits16/0350.pth\n",
      "dict_keys(['k', 'indices', 'file', 'id', 'model_name', 'patch_size', 'shape'])\n",
      "0350\n",
      "Starting Training\n",
      "epoch: 00, loss: -0.03160\n",
      "epoch: 01, loss: -0.05356\n",
      "epoch: 02, loss: -0.05786\n",
      "epoch: 03, loss: -0.06143\n",
      "epoch: 04, loss: -0.06011\n",
      "epoch: 05, loss: -0.06005\n",
      "epoch: 06, loss: -0.05998\n",
      "epoch: 07, loss: -0.06444\n",
      "epoch: 08, loss: -0.06271\n",
      "epoch: 09, loss: -0.06274\n",
      "torch.Size([475, 64])\n"
     ]
    },
    {
     "name": "stderr",
     "output_type": "stream",
     "text": [
      " 35%|███▌      | 350/1000 [2:20:38<4:47:42, 26.56s/it]"
     ]
    },
    {
     "name": "stdout",
     "output_type": "stream",
     "text": [
      "eigenvalues shape torch.Size([5]) eigenvectors shape torch.Size([5, 475])\n",
      "350 /home/phdcs2/Hard_Disk/Datasets/Deep-Spectral-Segmentation/data/object-segmentation/ECSSD/features/dino_vits16/0351.pth\n",
      "dict_keys(['k', 'indices', 'file', 'id', 'model_name', 'patch_size', 'shape'])\n",
      "0351\n",
      "Starting Training\n",
      "epoch: 00, loss: -0.06567\n",
      "epoch: 01, loss: -0.08408\n",
      "epoch: 02, loss: -0.08792\n",
      "epoch: 03, loss: -0.08801\n",
      "epoch: 04, loss: -0.08779\n",
      "epoch: 05, loss: -0.08806\n",
      "epoch: 06, loss: -0.08852\n",
      "epoch: 07, loss: -0.08926\n",
      "epoch: 08, loss: -0.08975\n",
      "epoch: 09, loss: -0.08997\n",
      "torch.Size([450, 64])\n"
     ]
    },
    {
     "name": "stderr",
     "output_type": "stream",
     "text": [
      " 35%|███▌      | 351/1000 [2:21:04<4:45:25, 26.39s/it]"
     ]
    },
    {
     "name": "stdout",
     "output_type": "stream",
     "text": [
      "eigenvalues shape torch.Size([5]) eigenvectors shape torch.Size([5, 450])\n",
      "351 /home/phdcs2/Hard_Disk/Datasets/Deep-Spectral-Segmentation/data/object-segmentation/ECSSD/features/dino_vits16/0352.pth\n",
      "dict_keys(['k', 'indices', 'file', 'id', 'model_name', 'patch_size', 'shape'])\n",
      "0352\n",
      "Starting Training\n",
      "epoch: 00, loss: -0.00625\n",
      "epoch: 01, loss: -0.02376\n",
      "epoch: 02, loss: -0.02806\n",
      "epoch: 03, loss: -0.02962\n",
      "epoch: 04, loss: -0.03068\n",
      "epoch: 05, loss: -0.03067\n",
      "epoch: 06, loss: -0.03089\n",
      "epoch: 07, loss: -0.03103\n",
      "epoch: 08, loss: -0.03117\n",
      "epoch: 09, loss: -0.03135\n",
      "torch.Size([400, 64])\n"
     ]
    },
    {
     "name": "stderr",
     "output_type": "stream",
     "text": [
      " 35%|███▌      | 352/1000 [2:21:26<4:32:46, 25.26s/it]"
     ]
    },
    {
     "name": "stdout",
     "output_type": "stream",
     "text": [
      "eigenvalues shape torch.Size([5]) eigenvectors shape torch.Size([5, 400])\n",
      "352 /home/phdcs2/Hard_Disk/Datasets/Deep-Spectral-Segmentation/data/object-segmentation/ECSSD/features/dino_vits16/0353.pth\n",
      "dict_keys(['k', 'indices', 'file', 'id', 'model_name', 'patch_size', 'shape'])\n",
      "0353\n",
      "Starting Training\n",
      "epoch: 00, loss: -0.03201\n",
      "epoch: 01, loss: -0.04890\n",
      "epoch: 02, loss: -0.04948\n",
      "epoch: 03, loss: -0.04938\n",
      "epoch: 04, loss: -0.05037\n",
      "epoch: 05, loss: -0.05231\n",
      "epoch: 06, loss: -0.05160\n",
      "epoch: 07, loss: -0.05249\n",
      "epoch: 08, loss: -0.05189\n",
      "epoch: 09, loss: -0.05268\n",
      "torch.Size([425, 64])\n"
     ]
    },
    {
     "name": "stderr",
     "output_type": "stream",
     "text": [
      " 35%|███▌      | 353/1000 [2:21:50<4:26:08, 24.68s/it]"
     ]
    },
    {
     "name": "stdout",
     "output_type": "stream",
     "text": [
      "eigenvalues shape torch.Size([5]) eigenvectors shape torch.Size([5, 425])\n",
      "353 /home/phdcs2/Hard_Disk/Datasets/Deep-Spectral-Segmentation/data/object-segmentation/ECSSD/features/dino_vits16/0354.pth\n",
      "dict_keys(['k', 'indices', 'file', 'id', 'model_name', 'patch_size', 'shape'])\n",
      "0354\n",
      "Starting Training\n",
      "epoch: 00, loss: -0.05808\n",
      "epoch: 01, loss: -0.07520\n",
      "epoch: 02, loss: -0.07489\n",
      "epoch: 03, loss: -0.07586\n",
      "epoch: 04, loss: -0.07596\n",
      "epoch: 05, loss: -0.07631\n",
      "epoch: 06, loss: -0.07648\n",
      "epoch: 07, loss: -0.07689\n",
      "epoch: 08, loss: -0.07589\n",
      "epoch: 09, loss: -0.07677\n",
      "torch.Size([575, 64])\n"
     ]
    },
    {
     "name": "stderr",
     "output_type": "stream",
     "text": [
      " 35%|███▌      | 354/1000 [2:22:26<5:02:43, 28.12s/it]"
     ]
    },
    {
     "name": "stdout",
     "output_type": "stream",
     "text": [
      "eigenvalues shape torch.Size([5]) eigenvectors shape torch.Size([5, 575])\n",
      "354 /home/phdcs2/Hard_Disk/Datasets/Deep-Spectral-Segmentation/data/object-segmentation/ECSSD/features/dino_vits16/0355.pth\n",
      "dict_keys(['k', 'indices', 'file', 'id', 'model_name', 'patch_size', 'shape'])\n",
      "0355\n",
      "Starting Training\n",
      "epoch: 00, loss: -0.02015\n",
      "epoch: 01, loss: -0.04357\n",
      "epoch: 02, loss: -0.04621\n",
      "epoch: 03, loss: -0.04685\n",
      "epoch: 04, loss: -0.04713\n",
      "epoch: 05, loss: -0.04736\n",
      "epoch: 06, loss: -0.04748\n",
      "epoch: 07, loss: -0.04758\n",
      "epoch: 08, loss: -0.04772\n",
      "epoch: 09, loss: -0.04785\n",
      "torch.Size([450, 64])\n"
     ]
    },
    {
     "name": "stderr",
     "output_type": "stream",
     "text": [
      " 36%|███▌      | 355/1000 [2:22:57<5:10:27, 28.88s/it]"
     ]
    },
    {
     "name": "stdout",
     "output_type": "stream",
     "text": [
      "eigenvalues shape torch.Size([5]) eigenvectors shape torch.Size([5, 450])\n",
      "355 /home/phdcs2/Hard_Disk/Datasets/Deep-Spectral-Segmentation/data/object-segmentation/ECSSD/features/dino_vits16/0356.pth\n",
      "dict_keys(['k', 'indices', 'file', 'id', 'model_name', 'patch_size', 'shape'])\n",
      "0356\n",
      "Starting Training\n",
      "epoch: 00, loss: -0.01779\n",
      "epoch: 01, loss: -0.04841\n",
      "epoch: 02, loss: -0.05760\n",
      "epoch: 03, loss: -0.05966\n",
      "epoch: 04, loss: -0.05912\n",
      "epoch: 05, loss: -0.06182\n",
      "epoch: 06, loss: -0.06242\n",
      "epoch: 07, loss: -0.06174\n",
      "epoch: 08, loss: -0.06265\n",
      "epoch: 09, loss: -0.06265\n",
      "torch.Size([450, 64])\n"
     ]
    },
    {
     "name": "stderr",
     "output_type": "stream",
     "text": [
      " 36%|███▌      | 356/1000 [2:23:29<5:22:30, 30.05s/it]"
     ]
    },
    {
     "name": "stdout",
     "output_type": "stream",
     "text": [
      "eigenvalues shape torch.Size([5]) eigenvectors shape torch.Size([5, 450])\n",
      "356 /home/phdcs2/Hard_Disk/Datasets/Deep-Spectral-Segmentation/data/object-segmentation/ECSSD/features/dino_vits16/0357.pth\n",
      "dict_keys(['k', 'indices', 'file', 'id', 'model_name', 'patch_size', 'shape'])\n",
      "0357\n",
      "Starting Training\n",
      "epoch: 00, loss: -0.02506\n",
      "epoch: 01, loss: -0.03961\n",
      "epoch: 02, loss: -0.04043\n",
      "epoch: 03, loss: -0.04162\n",
      "epoch: 04, loss: -0.04134\n",
      "epoch: 05, loss: -0.04200\n",
      "epoch: 06, loss: -0.04245\n",
      "epoch: 07, loss: -0.04222\n",
      "epoch: 08, loss: -0.04242\n",
      "epoch: 09, loss: -0.04239\n",
      "torch.Size([475, 64])\n"
     ]
    },
    {
     "name": "stderr",
     "output_type": "stream",
     "text": [
      " 36%|███▌      | 357/1000 [2:23:59<5:19:20, 29.80s/it]"
     ]
    },
    {
     "name": "stdout",
     "output_type": "stream",
     "text": [
      "eigenvalues shape torch.Size([5]) eigenvectors shape torch.Size([5, 475])\n",
      "357 /home/phdcs2/Hard_Disk/Datasets/Deep-Spectral-Segmentation/data/object-segmentation/ECSSD/features/dino_vits16/0358.pth\n",
      "dict_keys(['k', 'indices', 'file', 'id', 'model_name', 'patch_size', 'shape'])\n",
      "0358\n",
      "Starting Training\n",
      "epoch: 00, loss: -0.02318\n",
      "epoch: 01, loss: -0.04135\n",
      "epoch: 02, loss: -0.04449\n",
      "epoch: 03, loss: -0.04857\n",
      "epoch: 04, loss: -0.04760\n",
      "epoch: 05, loss: -0.04514\n",
      "epoch: 06, loss: -0.04910\n",
      "epoch: 07, loss: -0.04740\n",
      "epoch: 08, loss: -0.04793\n",
      "epoch: 09, loss: -0.04816\n",
      "torch.Size([400, 64])\n"
     ]
    },
    {
     "name": "stderr",
     "output_type": "stream",
     "text": [
      " 36%|███▌      | 358/1000 [2:24:21<4:55:44, 27.64s/it]"
     ]
    },
    {
     "name": "stdout",
     "output_type": "stream",
     "text": [
      "eigenvalues shape torch.Size([5]) eigenvectors shape torch.Size([5, 400])\n",
      "358 /home/phdcs2/Hard_Disk/Datasets/Deep-Spectral-Segmentation/data/object-segmentation/ECSSD/features/dino_vits16/0359.pth\n",
      "dict_keys(['k', 'indices', 'file', 'id', 'model_name', 'patch_size', 'shape'])\n",
      "0359\n",
      "Starting Training\n",
      "epoch: 00, loss: -0.01962\n",
      "epoch: 01, loss: -0.04288\n",
      "epoch: 02, loss: -0.05092\n",
      "epoch: 03, loss: -0.05051\n",
      "epoch: 04, loss: -0.05444\n",
      "epoch: 05, loss: -0.05522\n",
      "epoch: 06, loss: -0.05444\n",
      "epoch: 07, loss: -0.05841\n",
      "epoch: 08, loss: -0.05417\n",
      "epoch: 09, loss: -0.05843\n",
      "torch.Size([350, 64])\n"
     ]
    },
    {
     "name": "stderr",
     "output_type": "stream",
     "text": [
      " 36%|███▌      | 359/1000 [2:24:41<4:28:37, 25.14s/it]"
     ]
    },
    {
     "name": "stdout",
     "output_type": "stream",
     "text": [
      "eigenvalues shape torch.Size([5]) eigenvectors shape torch.Size([5, 350])\n",
      "359 /home/phdcs2/Hard_Disk/Datasets/Deep-Spectral-Segmentation/data/object-segmentation/ECSSD/features/dino_vits16/0360.pth\n",
      "dict_keys(['k', 'indices', 'file', 'id', 'model_name', 'patch_size', 'shape'])\n",
      "0360\n",
      "Starting Training\n",
      "epoch: 00, loss: -0.01203\n",
      "epoch: 01, loss: -0.04302\n",
      "epoch: 02, loss: -0.05125\n",
      "epoch: 03, loss: -0.05421\n",
      "epoch: 04, loss: -0.05353\n",
      "epoch: 05, loss: -0.05446\n",
      "epoch: 06, loss: -0.05475\n",
      "epoch: 07, loss: -0.05700\n",
      "epoch: 08, loss: -0.05854\n",
      "epoch: 09, loss: -0.05855\n",
      "torch.Size([400, 64])\n"
     ]
    },
    {
     "name": "stderr",
     "output_type": "stream",
     "text": [
      " 36%|███▌      | 360/1000 [2:25:04<4:22:42, 24.63s/it]"
     ]
    },
    {
     "name": "stdout",
     "output_type": "stream",
     "text": [
      "eigenvalues shape torch.Size([5]) eigenvectors shape torch.Size([5, 400])\n",
      "360 /home/phdcs2/Hard_Disk/Datasets/Deep-Spectral-Segmentation/data/object-segmentation/ECSSD/features/dino_vits16/0361.pth\n",
      "dict_keys(['k', 'indices', 'file', 'id', 'model_name', 'patch_size', 'shape'])\n",
      "0361\n",
      "Starting Training\n",
      "epoch: 00, loss: -0.05388\n",
      "epoch: 01, loss: -0.07824\n",
      "epoch: 02, loss: -0.07825\n",
      "epoch: 03, loss: -0.07855\n",
      "epoch: 04, loss: -0.07949\n",
      "epoch: 05, loss: -0.08252\n",
      "epoch: 06, loss: -0.08044\n",
      "epoch: 07, loss: -0.08416\n",
      "epoch: 08, loss: -0.08389\n",
      "epoch: 09, loss: -0.08099\n",
      "torch.Size([400, 64])\n"
     ]
    },
    {
     "name": "stderr",
     "output_type": "stream",
     "text": [
      " 36%|███▌      | 361/1000 [2:25:27<4:16:10, 24.05s/it]"
     ]
    },
    {
     "name": "stdout",
     "output_type": "stream",
     "text": [
      "eigenvalues shape torch.Size([5]) eigenvectors shape torch.Size([5, 400])\n",
      "361 /home/phdcs2/Hard_Disk/Datasets/Deep-Spectral-Segmentation/data/object-segmentation/ECSSD/features/dino_vits16/0362.pth\n",
      "dict_keys(['k', 'indices', 'file', 'id', 'model_name', 'patch_size', 'shape'])\n",
      "0362\n",
      "Starting Training\n",
      "epoch: 00, loss: -0.08238\n",
      "epoch: 01, loss: -0.10371\n",
      "epoch: 02, loss: -0.10416\n",
      "epoch: 03, loss: -0.10364\n",
      "epoch: 04, loss: -0.10440\n",
      "epoch: 05, loss: -0.10423\n",
      "epoch: 06, loss: -0.10519\n",
      "epoch: 07, loss: -0.10457\n",
      "epoch: 08, loss: -0.10454\n",
      "epoch: 09, loss: -0.10554\n",
      "torch.Size([500, 64])\n"
     ]
    },
    {
     "name": "stderr",
     "output_type": "stream",
     "text": [
      " 36%|███▌      | 362/1000 [2:26:04<4:57:44, 28.00s/it]"
     ]
    },
    {
     "name": "stdout",
     "output_type": "stream",
     "text": [
      "eigenvalues shape torch.Size([5]) eigenvectors shape torch.Size([5, 500])\n",
      "362 /home/phdcs2/Hard_Disk/Datasets/Deep-Spectral-Segmentation/data/object-segmentation/ECSSD/features/dino_vits16/0363.pth\n",
      "dict_keys(['k', 'indices', 'file', 'id', 'model_name', 'patch_size', 'shape'])\n",
      "0363\n",
      "Starting Training\n",
      "epoch: 00, loss: -0.10190\n",
      "epoch: 01, loss: -0.12924\n",
      "epoch: 02, loss: -0.13430\n",
      "epoch: 03, loss: -0.13423\n",
      "epoch: 04, loss: -0.13437\n",
      "epoch: 05, loss: -0.13459\n",
      "epoch: 06, loss: -0.13411\n",
      "epoch: 07, loss: -0.13500\n",
      "epoch: 08, loss: -0.13737\n",
      "epoch: 09, loss: -0.13737\n",
      "torch.Size([625, 64])\n"
     ]
    },
    {
     "name": "stderr",
     "output_type": "stream",
     "text": [
      " 36%|███▋      | 363/1000 [2:26:32<4:59:09, 28.18s/it]"
     ]
    },
    {
     "name": "stdout",
     "output_type": "stream",
     "text": [
      "eigenvalues shape torch.Size([5]) eigenvectors shape torch.Size([5, 625])\n",
      "363 /home/phdcs2/Hard_Disk/Datasets/Deep-Spectral-Segmentation/data/object-segmentation/ECSSD/features/dino_vits16/0364.pth\n",
      "dict_keys(['k', 'indices', 'file', 'id', 'model_name', 'patch_size', 'shape'])\n",
      "0364\n",
      "Starting Training\n",
      "epoch: 00, loss: -0.01251\n",
      "epoch: 01, loss: -0.02944\n",
      "epoch: 02, loss: -0.03252\n",
      "epoch: 03, loss: -0.03367\n",
      "epoch: 04, loss: -0.03407\n",
      "epoch: 05, loss: -0.03431\n",
      "epoch: 06, loss: -0.03470\n",
      "epoch: 07, loss: -0.03487\n",
      "epoch: 08, loss: -0.03496\n",
      "epoch: 09, loss: -0.03510\n",
      "torch.Size([450, 64])\n"
     ]
    },
    {
     "name": "stderr",
     "output_type": "stream",
     "text": [
      " 36%|███▋      | 364/1000 [2:26:57<4:47:17, 27.10s/it]"
     ]
    },
    {
     "name": "stdout",
     "output_type": "stream",
     "text": [
      "eigenvalues shape torch.Size([5]) eigenvectors shape torch.Size([5, 450])\n",
      "364 /home/phdcs2/Hard_Disk/Datasets/Deep-Spectral-Segmentation/data/object-segmentation/ECSSD/features/dino_vits16/0365.pth\n",
      "dict_keys(['k', 'indices', 'file', 'id', 'model_name', 'patch_size', 'shape'])\n",
      "0365\n",
      "Starting Training\n",
      "epoch: 00, loss: -0.05186\n",
      "epoch: 01, loss: -0.07281\n",
      "epoch: 02, loss: -0.07744\n",
      "epoch: 03, loss: -0.08017\n",
      "epoch: 04, loss: -0.07891\n",
      "epoch: 05, loss: -0.07953\n",
      "epoch: 06, loss: -0.07997\n",
      "epoch: 07, loss: -0.08088\n",
      "epoch: 08, loss: -0.08064\n",
      "epoch: 09, loss: -0.08139\n",
      "torch.Size([450, 64])\n"
     ]
    },
    {
     "name": "stderr",
     "output_type": "stream",
     "text": [
      " 36%|███▋      | 365/1000 [2:27:20<4:32:06, 25.71s/it]"
     ]
    },
    {
     "name": "stdout",
     "output_type": "stream",
     "text": [
      "eigenvalues shape torch.Size([5]) eigenvectors shape torch.Size([5, 450])\n",
      "365 /home/phdcs2/Hard_Disk/Datasets/Deep-Spectral-Segmentation/data/object-segmentation/ECSSD/features/dino_vits16/0366.pth\n",
      "dict_keys(['k', 'indices', 'file', 'id', 'model_name', 'patch_size', 'shape'])\n",
      "0366\n",
      "Starting Training\n",
      "epoch: 00, loss: -0.05070\n",
      "epoch: 01, loss: -0.07669\n",
      "epoch: 02, loss: -0.07739\n",
      "epoch: 03, loss: -0.07723\n",
      "epoch: 04, loss: -0.07753\n",
      "epoch: 05, loss: -0.07772\n",
      "epoch: 06, loss: -0.07736\n",
      "epoch: 07, loss: -0.07872\n",
      "epoch: 08, loss: -0.07856\n",
      "epoch: 09, loss: -0.07861\n",
      "torch.Size([500, 64])\n"
     ]
    },
    {
     "name": "stderr",
     "output_type": "stream",
     "text": [
      " 37%|███▋      | 366/1000 [2:27:41<4:18:29, 24.46s/it]"
     ]
    },
    {
     "name": "stdout",
     "output_type": "stream",
     "text": [
      "eigenvalues shape torch.Size([5]) eigenvectors shape torch.Size([5, 500])\n",
      "366 /home/phdcs2/Hard_Disk/Datasets/Deep-Spectral-Segmentation/data/object-segmentation/ECSSD/features/dino_vits16/0367.pth\n",
      "dict_keys(['k', 'indices', 'file', 'id', 'model_name', 'patch_size', 'shape'])\n",
      "0367\n",
      "Starting Training\n",
      "epoch: 00, loss: -0.03937\n",
      "epoch: 01, loss: -0.06347\n",
      "epoch: 02, loss: -0.06594\n",
      "epoch: 03, loss: -0.06651\n",
      "epoch: 04, loss: -0.06826\n",
      "epoch: 05, loss: -0.06779\n",
      "epoch: 06, loss: -0.06902\n",
      "epoch: 07, loss: -0.07033\n",
      "epoch: 08, loss: -0.06988\n",
      "epoch: 09, loss: -0.07121\n",
      "torch.Size([400, 64])\n"
     ]
    },
    {
     "name": "stderr",
     "output_type": "stream",
     "text": [
      " 37%|███▋      | 367/1000 [2:28:07<4:21:53, 24.82s/it]"
     ]
    },
    {
     "name": "stdout",
     "output_type": "stream",
     "text": [
      "eigenvalues shape torch.Size([5]) eigenvectors shape torch.Size([5, 400])\n",
      "367 /home/phdcs2/Hard_Disk/Datasets/Deep-Spectral-Segmentation/data/object-segmentation/ECSSD/features/dino_vits16/0368.pth\n",
      "dict_keys(['k', 'indices', 'file', 'id', 'model_name', 'patch_size', 'shape'])\n",
      "0368\n",
      "Starting Training\n",
      "epoch: 00, loss: -0.08230\n",
      "epoch: 01, loss: -0.11373\n",
      "epoch: 02, loss: -0.12031\n",
      "epoch: 03, loss: -0.12169\n",
      "epoch: 04, loss: -0.12307\n",
      "epoch: 05, loss: -0.12469\n",
      "epoch: 06, loss: -0.12574\n",
      "epoch: 07, loss: -0.12525\n",
      "epoch: 08, loss: -0.12486\n",
      "epoch: 09, loss: -0.12611\n",
      "torch.Size([400, 64])\n"
     ]
    },
    {
     "name": "stderr",
     "output_type": "stream",
     "text": [
      " 37%|███▋      | 368/1000 [2:28:31<4:18:51, 24.58s/it]"
     ]
    },
    {
     "name": "stdout",
     "output_type": "stream",
     "text": [
      "eigenvalues shape torch.Size([5]) eigenvectors shape torch.Size([5, 400])\n",
      "368 /home/phdcs2/Hard_Disk/Datasets/Deep-Spectral-Segmentation/data/object-segmentation/ECSSD/features/dino_vits16/0369.pth\n",
      "dict_keys(['k', 'indices', 'file', 'id', 'model_name', 'patch_size', 'shape'])\n",
      "0369\n",
      "Starting Training\n",
      "epoch: 00, loss: -0.00660\n",
      "epoch: 01, loss: -0.02007\n",
      "epoch: 02, loss: -0.02384\n",
      "epoch: 03, loss: -0.02511\n",
      "epoch: 04, loss: -0.02584\n",
      "epoch: 05, loss: -0.02605\n",
      "epoch: 06, loss: -0.02640\n",
      "epoch: 07, loss: -0.02675\n",
      "epoch: 08, loss: -0.02685\n",
      "epoch: 09, loss: -0.02692\n",
      "torch.Size([400, 64])\n"
     ]
    },
    {
     "name": "stderr",
     "output_type": "stream",
     "text": [
      " 37%|███▋      | 369/1000 [2:28:52<4:08:16, 23.61s/it]"
     ]
    },
    {
     "name": "stdout",
     "output_type": "stream",
     "text": [
      "eigenvalues shape torch.Size([5]) eigenvectors shape torch.Size([5, 400])\n",
      "369 /home/phdcs2/Hard_Disk/Datasets/Deep-Spectral-Segmentation/data/object-segmentation/ECSSD/features/dino_vits16/0370.pth\n",
      "dict_keys(['k', 'indices', 'file', 'id', 'model_name', 'patch_size', 'shape'])\n",
      "0370\n",
      "Starting Training\n",
      "epoch: 00, loss: 0.00344\n",
      "epoch: 01, loss: -0.00334\n",
      "epoch: 02, loss: -0.00639\n",
      "epoch: 03, loss: -0.00874\n",
      "epoch: 04, loss: -0.00860\n",
      "epoch: 05, loss: -0.00995\n",
      "epoch: 06, loss: -0.01011\n",
      "epoch: 07, loss: -0.01039\n",
      "epoch: 08, loss: -0.01057\n",
      "epoch: 09, loss: -0.01124\n",
      "torch.Size([600, 64])\n"
     ]
    },
    {
     "name": "stderr",
     "output_type": "stream",
     "text": [
      " 37%|███▋      | 370/1000 [2:29:34<5:05:02, 29.05s/it]"
     ]
    },
    {
     "name": "stdout",
     "output_type": "stream",
     "text": [
      "eigenvalues shape torch.Size([5]) eigenvectors shape torch.Size([5, 600])\n",
      "370 /home/phdcs2/Hard_Disk/Datasets/Deep-Spectral-Segmentation/data/object-segmentation/ECSSD/features/dino_vits16/0371.pth\n",
      "dict_keys(['k', 'indices', 'file', 'id', 'model_name', 'patch_size', 'shape'])\n",
      "0371\n",
      "Starting Training\n",
      "epoch: 00, loss: -0.03006\n",
      "epoch: 01, loss: -0.05560\n",
      "epoch: 02, loss: -0.05670\n",
      "epoch: 03, loss: -0.05711\n",
      "epoch: 04, loss: -0.05745\n",
      "epoch: 05, loss: -0.05772\n",
      "epoch: 06, loss: -0.05768\n",
      "epoch: 07, loss: -0.05784\n",
      "epoch: 08, loss: -0.05779\n",
      "epoch: 09, loss: -0.05802\n",
      "torch.Size([550, 64])\n"
     ]
    },
    {
     "name": "stderr",
     "output_type": "stream",
     "text": [
      " 37%|███▋      | 371/1000 [2:30:22<6:05:25, 34.86s/it]"
     ]
    },
    {
     "name": "stdout",
     "output_type": "stream",
     "text": [
      "eigenvalues shape torch.Size([5]) eigenvectors shape torch.Size([5, 550])\n",
      "371 /home/phdcs2/Hard_Disk/Datasets/Deep-Spectral-Segmentation/data/object-segmentation/ECSSD/features/dino_vits16/0372.pth\n",
      "dict_keys(['k', 'indices', 'file', 'id', 'model_name', 'patch_size', 'shape'])\n",
      "0372\n",
      "Starting Training\n",
      "epoch: 00, loss: -0.04215\n",
      "epoch: 01, loss: -0.06293\n",
      "epoch: 02, loss: -0.06434\n",
      "epoch: 03, loss: -0.06659\n",
      "epoch: 04, loss: -0.06764\n",
      "epoch: 05, loss: -0.06585\n",
      "epoch: 06, loss: -0.06831\n",
      "epoch: 07, loss: -0.06848\n",
      "epoch: 08, loss: -0.06866\n",
      "epoch: 09, loss: -0.06911\n",
      "torch.Size([600, 64])\n"
     ]
    },
    {
     "name": "stderr",
     "output_type": "stream",
     "text": [
      " 37%|███▋      | 372/1000 [2:31:12<6:50:05, 39.18s/it]"
     ]
    },
    {
     "name": "stdout",
     "output_type": "stream",
     "text": [
      "eigenvalues shape torch.Size([5]) eigenvectors shape torch.Size([5, 600])\n",
      "372 /home/phdcs2/Hard_Disk/Datasets/Deep-Spectral-Segmentation/data/object-segmentation/ECSSD/features/dino_vits16/0373.pth\n",
      "dict_keys(['k', 'indices', 'file', 'id', 'model_name', 'patch_size', 'shape'])\n",
      "0373\n",
      "Starting Training\n",
      "epoch: 00, loss: -0.05514\n",
      "epoch: 01, loss: -0.07234\n",
      "epoch: 02, loss: -0.07330\n",
      "epoch: 03, loss: -0.07392\n",
      "epoch: 04, loss: -0.07393\n",
      "epoch: 05, loss: -0.07420\n",
      "epoch: 06, loss: -0.07443\n",
      "epoch: 07, loss: -0.07457\n",
      "epoch: 08, loss: -0.07462\n",
      "epoch: 09, loss: -0.07483\n",
      "torch.Size([400, 64])\n"
     ]
    },
    {
     "name": "stderr",
     "output_type": "stream",
     "text": [
      " 37%|███▋      | 373/1000 [2:31:36<6:04:27, 34.88s/it]"
     ]
    },
    {
     "name": "stdout",
     "output_type": "stream",
     "text": [
      "eigenvalues shape torch.Size([5]) eigenvectors shape torch.Size([5, 400])\n",
      "373 /home/phdcs2/Hard_Disk/Datasets/Deep-Spectral-Segmentation/data/object-segmentation/ECSSD/features/dino_vits16/0374.pth\n",
      "dict_keys(['k', 'indices', 'file', 'id', 'model_name', 'patch_size', 'shape'])\n",
      "0374\n",
      "Starting Training\n",
      "epoch: 00, loss: -0.04650\n",
      "epoch: 01, loss: -0.06188\n",
      "epoch: 02, loss: -0.06269\n",
      "epoch: 03, loss: -0.06310\n",
      "epoch: 04, loss: -0.06337\n",
      "epoch: 05, loss: -0.06336\n",
      "epoch: 06, loss: -0.06372\n",
      "epoch: 07, loss: -0.06365\n",
      "epoch: 08, loss: -0.06409\n",
      "epoch: 09, loss: -0.06406\n",
      "torch.Size([450, 64])\n"
     ]
    },
    {
     "name": "stderr",
     "output_type": "stream",
     "text": [
      " 37%|███▋      | 374/1000 [2:32:02<5:35:26, 32.15s/it]"
     ]
    },
    {
     "name": "stdout",
     "output_type": "stream",
     "text": [
      "eigenvalues shape torch.Size([5]) eigenvectors shape torch.Size([5, 450])\n",
      "374 /home/phdcs2/Hard_Disk/Datasets/Deep-Spectral-Segmentation/data/object-segmentation/ECSSD/features/dino_vits16/0375.pth\n",
      "dict_keys(['k', 'indices', 'file', 'id', 'model_name', 'patch_size', 'shape'])\n",
      "0375\n",
      "Starting Training\n",
      "epoch: 00, loss: -0.06971\n",
      "epoch: 01, loss: -0.09981\n",
      "epoch: 02, loss: -0.10254\n",
      "epoch: 03, loss: -0.10492\n",
      "epoch: 04, loss: -0.10224\n",
      "epoch: 05, loss: -0.10491\n",
      "epoch: 06, loss: -0.10530\n",
      "epoch: 07, loss: -0.10699\n",
      "epoch: 08, loss: -0.10778\n",
      "epoch: 09, loss: -0.10452\n",
      "torch.Size([475, 64])\n"
     ]
    },
    {
     "name": "stderr",
     "output_type": "stream",
     "text": [
      " 38%|███▊      | 375/1000 [2:32:30<5:20:16, 30.75s/it]"
     ]
    },
    {
     "name": "stdout",
     "output_type": "stream",
     "text": [
      "eigenvalues shape torch.Size([5]) eigenvectors shape torch.Size([5, 475])\n",
      "375 /home/phdcs2/Hard_Disk/Datasets/Deep-Spectral-Segmentation/data/object-segmentation/ECSSD/features/dino_vits16/0376.pth\n",
      "dict_keys(['k', 'indices', 'file', 'id', 'model_name', 'patch_size', 'shape'])\n",
      "0376\n",
      "Starting Training\n",
      "epoch: 00, loss: -0.04044\n",
      "epoch: 01, loss: -0.05882\n",
      "epoch: 02, loss: -0.06371\n",
      "epoch: 03, loss: -0.06348\n",
      "epoch: 04, loss: -0.06609\n",
      "epoch: 05, loss: -0.06458\n",
      "epoch: 06, loss: -0.06486\n",
      "epoch: 07, loss: -0.06514\n",
      "epoch: 08, loss: -0.06583\n",
      "epoch: 09, loss: -0.06706\n",
      "torch.Size([625, 64])\n"
     ]
    },
    {
     "name": "stderr",
     "output_type": "stream",
     "text": [
      " 38%|███▊      | 376/1000 [2:33:15<6:05:16, 35.12s/it]"
     ]
    },
    {
     "name": "stdout",
     "output_type": "stream",
     "text": [
      "eigenvalues shape torch.Size([5]) eigenvectors shape torch.Size([5, 625])\n",
      "376 /home/phdcs2/Hard_Disk/Datasets/Deep-Spectral-Segmentation/data/object-segmentation/ECSSD/features/dino_vits16/0377.pth\n",
      "dict_keys(['k', 'indices', 'file', 'id', 'model_name', 'patch_size', 'shape'])\n",
      "0377\n",
      "Starting Training\n",
      "epoch: 00, loss: -0.01536\n",
      "epoch: 01, loss: -0.04011\n",
      "epoch: 02, loss: -0.04489\n",
      "epoch: 03, loss: -0.04706\n",
      "epoch: 04, loss: -0.04696\n",
      "epoch: 05, loss: -0.04735\n",
      "epoch: 06, loss: -0.04885\n",
      "epoch: 07, loss: -0.04890\n",
      "epoch: 08, loss: -0.04901\n",
      "epoch: 09, loss: -0.05006\n",
      "torch.Size([400, 64])\n"
     ]
    },
    {
     "name": "stderr",
     "output_type": "stream",
     "text": [
      " 38%|███▊      | 377/1000 [2:33:41<5:36:20, 32.39s/it]"
     ]
    },
    {
     "name": "stdout",
     "output_type": "stream",
     "text": [
      "eigenvalues shape torch.Size([5]) eigenvectors shape torch.Size([5, 400])\n",
      "377 /home/phdcs2/Hard_Disk/Datasets/Deep-Spectral-Segmentation/data/object-segmentation/ECSSD/features/dino_vits16/0378.pth\n",
      "dict_keys(['k', 'indices', 'file', 'id', 'model_name', 'patch_size', 'shape'])\n",
      "0378\n",
      "Starting Training\n",
      "epoch: 00, loss: -0.03707\n",
      "epoch: 01, loss: -0.05552\n",
      "epoch: 02, loss: -0.06080\n",
      "epoch: 03, loss: -0.06386\n",
      "epoch: 04, loss: -0.06374\n",
      "epoch: 05, loss: -0.06347\n",
      "epoch: 06, loss: -0.06451\n",
      "epoch: 07, loss: -0.06593\n",
      "epoch: 08, loss: -0.06707\n",
      "epoch: 09, loss: -0.06758\n",
      "torch.Size([450, 64])\n"
     ]
    },
    {
     "name": "stderr",
     "output_type": "stream",
     "text": [
      " 38%|███▊      | 378/1000 [2:34:13<5:36:10, 32.43s/it]"
     ]
    },
    {
     "name": "stdout",
     "output_type": "stream",
     "text": [
      "eigenvalues shape torch.Size([5]) eigenvectors shape torch.Size([5, 450])\n",
      "378 /home/phdcs2/Hard_Disk/Datasets/Deep-Spectral-Segmentation/data/object-segmentation/ECSSD/features/dino_vits16/0379.pth\n",
      "dict_keys(['k', 'indices', 'file', 'id', 'model_name', 'patch_size', 'shape'])\n",
      "0379\n",
      "Starting Training\n",
      "epoch: 00, loss: -0.04996\n",
      "epoch: 01, loss: -0.06485\n",
      "epoch: 02, loss: -0.06547\n",
      "epoch: 03, loss: -0.06592\n",
      "epoch: 04, loss: -0.06610\n",
      "epoch: 05, loss: -0.06644\n",
      "epoch: 06, loss: -0.06639\n",
      "epoch: 07, loss: -0.06659\n",
      "epoch: 08, loss: -0.06671\n",
      "epoch: 09, loss: -0.06691\n",
      "torch.Size([450, 64])\n"
     ]
    },
    {
     "name": "stderr",
     "output_type": "stream",
     "text": [
      " 38%|███▊      | 379/1000 [2:34:40<5:17:14, 30.65s/it]"
     ]
    },
    {
     "name": "stdout",
     "output_type": "stream",
     "text": [
      "eigenvalues shape torch.Size([5]) eigenvectors shape torch.Size([5, 450])\n",
      "379 /home/phdcs2/Hard_Disk/Datasets/Deep-Spectral-Segmentation/data/object-segmentation/ECSSD/features/dino_vits16/0380.pth\n",
      "dict_keys(['k', 'indices', 'file', 'id', 'model_name', 'patch_size', 'shape'])\n",
      "0380\n",
      "Starting Training\n",
      "epoch: 00, loss: -0.02752\n",
      "epoch: 01, loss: -0.05738\n",
      "epoch: 02, loss: -0.06061\n",
      "epoch: 03, loss: -0.06276\n",
      "epoch: 04, loss: -0.06082\n",
      "epoch: 05, loss: -0.06520\n",
      "epoch: 06, loss: -0.06556\n",
      "epoch: 07, loss: -0.06299\n",
      "epoch: 08, loss: -0.06243\n",
      "epoch: 09, loss: -0.06637\n",
      "torch.Size([425, 64])\n"
     ]
    },
    {
     "name": "stderr",
     "output_type": "stream",
     "text": [
      " 38%|███▊      | 380/1000 [2:35:06<5:02:49, 29.31s/it]"
     ]
    },
    {
     "name": "stdout",
     "output_type": "stream",
     "text": [
      "eigenvalues shape torch.Size([5]) eigenvectors shape torch.Size([5, 425])\n",
      "380 /home/phdcs2/Hard_Disk/Datasets/Deep-Spectral-Segmentation/data/object-segmentation/ECSSD/features/dino_vits16/0381.pth\n",
      "dict_keys(['k', 'indices', 'file', 'id', 'model_name', 'patch_size', 'shape'])\n",
      "0381\n",
      "Starting Training\n",
      "epoch: 00, loss: -0.03400\n",
      "epoch: 01, loss: -0.05157\n",
      "epoch: 02, loss: -0.05281\n",
      "epoch: 03, loss: -0.05322\n",
      "epoch: 04, loss: -0.05349\n",
      "epoch: 05, loss: -0.05333\n",
      "epoch: 06, loss: -0.05367\n",
      "epoch: 07, loss: -0.05374\n",
      "epoch: 08, loss: -0.05374\n",
      "epoch: 09, loss: -0.05384\n",
      "torch.Size([450, 64])\n"
     ]
    },
    {
     "name": "stderr",
     "output_type": "stream",
     "text": [
      " 38%|███▊      | 381/1000 [2:35:32<4:50:48, 28.19s/it]"
     ]
    },
    {
     "name": "stdout",
     "output_type": "stream",
     "text": [
      "eigenvalues shape torch.Size([5]) eigenvectors shape torch.Size([5, 450])\n",
      "381 /home/phdcs2/Hard_Disk/Datasets/Deep-Spectral-Segmentation/data/object-segmentation/ECSSD/features/dino_vits16/0382.pth\n",
      "dict_keys(['k', 'indices', 'file', 'id', 'model_name', 'patch_size', 'shape'])\n",
      "0382\n",
      "Starting Training\n",
      "epoch: 00, loss: -0.01030\n",
      "epoch: 01, loss: -0.02384\n",
      "epoch: 02, loss: -0.02513\n",
      "epoch: 03, loss: -0.02786\n",
      "epoch: 04, loss: -0.02691\n",
      "epoch: 05, loss: -0.02744\n",
      "epoch: 06, loss: -0.02887\n",
      "epoch: 07, loss: -0.02811\n",
      "epoch: 08, loss: -0.02758\n",
      "epoch: 09, loss: -0.02914\n",
      "torch.Size([425, 64])\n"
     ]
    },
    {
     "name": "stderr",
     "output_type": "stream",
     "text": [
      " 38%|███▊      | 382/1000 [2:35:55<4:36:30, 26.84s/it]"
     ]
    },
    {
     "name": "stdout",
     "output_type": "stream",
     "text": [
      "eigenvalues shape torch.Size([5]) eigenvectors shape torch.Size([5, 425])\n",
      "382 /home/phdcs2/Hard_Disk/Datasets/Deep-Spectral-Segmentation/data/object-segmentation/ECSSD/features/dino_vits16/0383.pth\n",
      "dict_keys(['k', 'indices', 'file', 'id', 'model_name', 'patch_size', 'shape'])\n",
      "0383\n",
      "Starting Training\n",
      "epoch: 00, loss: -0.01360\n",
      "epoch: 01, loss: -0.03139\n",
      "epoch: 02, loss: -0.04245\n",
      "epoch: 03, loss: -0.04174\n",
      "epoch: 04, loss: -0.04066\n",
      "epoch: 05, loss: -0.04171\n",
      "epoch: 06, loss: -0.04272\n",
      "epoch: 07, loss: -0.04364\n",
      "epoch: 08, loss: -0.04440\n",
      "epoch: 09, loss: -0.04408\n",
      "torch.Size([350, 64])\n"
     ]
    },
    {
     "name": "stderr",
     "output_type": "stream",
     "text": [
      " 38%|███▊      | 383/1000 [2:36:16<4:18:09, 25.11s/it]"
     ]
    },
    {
     "name": "stdout",
     "output_type": "stream",
     "text": [
      "eigenvalues shape torch.Size([5]) eigenvectors shape torch.Size([5, 350])\n",
      "383 /home/phdcs2/Hard_Disk/Datasets/Deep-Spectral-Segmentation/data/object-segmentation/ECSSD/features/dino_vits16/0384.pth\n",
      "dict_keys(['k', 'indices', 'file', 'id', 'model_name', 'patch_size', 'shape'])\n",
      "0384\n",
      "Starting Training\n",
      "epoch: 00, loss: -0.02359\n",
      "epoch: 01, loss: -0.05261\n",
      "epoch: 02, loss: -0.05596\n",
      "epoch: 03, loss: -0.05740\n",
      "epoch: 04, loss: -0.05626\n",
      "epoch: 05, loss: -0.05681\n",
      "epoch: 06, loss: -0.05814\n",
      "epoch: 07, loss: -0.05851\n",
      "epoch: 08, loss: -0.05762\n",
      "epoch: 09, loss: -0.06043\n",
      "torch.Size([475, 64])\n"
     ]
    },
    {
     "name": "stderr",
     "output_type": "stream",
     "text": [
      " 38%|███▊      | 384/1000 [2:36:46<4:30:07, 26.31s/it]"
     ]
    },
    {
     "name": "stdout",
     "output_type": "stream",
     "text": [
      "eigenvalues shape torch.Size([5]) eigenvectors shape torch.Size([5, 475])\n",
      "384 /home/phdcs2/Hard_Disk/Datasets/Deep-Spectral-Segmentation/data/object-segmentation/ECSSD/features/dino_vits16/0385.pth\n",
      "dict_keys(['k', 'indices', 'file', 'id', 'model_name', 'patch_size', 'shape'])\n",
      "0385\n",
      "Starting Training\n",
      "epoch: 00, loss: -0.05459\n",
      "epoch: 01, loss: -0.08032\n",
      "epoch: 02, loss: -0.08294\n",
      "epoch: 03, loss: -0.08105\n",
      "epoch: 04, loss: -0.08347\n",
      "epoch: 05, loss: -0.08112\n",
      "epoch: 06, loss: -0.08380\n",
      "epoch: 07, loss: -0.08334\n",
      "epoch: 08, loss: -0.08447\n",
      "epoch: 09, loss: -0.08499\n",
      "torch.Size([600, 64])\n"
     ]
    },
    {
     "name": "stderr",
     "output_type": "stream",
     "text": [
      " 38%|███▊      | 385/1000 [2:37:31<5:28:43, 32.07s/it]"
     ]
    },
    {
     "name": "stdout",
     "output_type": "stream",
     "text": [
      "eigenvalues shape torch.Size([5]) eigenvectors shape torch.Size([5, 600])\n",
      "385 /home/phdcs2/Hard_Disk/Datasets/Deep-Spectral-Segmentation/data/object-segmentation/ECSSD/features/dino_vits16/0386.pth\n",
      "dict_keys(['k', 'indices', 'file', 'id', 'model_name', 'patch_size', 'shape'])\n",
      "0386\n",
      "Starting Training\n",
      "epoch: 00, loss: -0.03670\n",
      "epoch: 01, loss: -0.06195\n",
      "epoch: 02, loss: -0.06965\n",
      "epoch: 03, loss: -0.06978\n",
      "epoch: 04, loss: -0.07217\n",
      "epoch: 05, loss: -0.07279\n",
      "epoch: 06, loss: -0.07318\n",
      "epoch: 07, loss: -0.07380\n",
      "epoch: 08, loss: -0.07205\n",
      "epoch: 09, loss: -0.07228\n",
      "torch.Size([400, 64])\n"
     ]
    },
    {
     "name": "stderr",
     "output_type": "stream",
     "text": [
      " 39%|███▊      | 386/1000 [2:37:52<4:53:30, 28.68s/it]"
     ]
    },
    {
     "name": "stdout",
     "output_type": "stream",
     "text": [
      "eigenvalues shape torch.Size([5]) eigenvectors shape torch.Size([5, 400])\n",
      "386 /home/phdcs2/Hard_Disk/Datasets/Deep-Spectral-Segmentation/data/object-segmentation/ECSSD/features/dino_vits16/0387.pth\n",
      "dict_keys(['k', 'indices', 'file', 'id', 'model_name', 'patch_size', 'shape'])\n",
      "0387\n",
      "Starting Training\n",
      "epoch: 00, loss: -0.07155\n",
      "epoch: 01, loss: -0.10572\n",
      "epoch: 02, loss: -0.11047\n",
      "epoch: 03, loss: -0.11298\n",
      "epoch: 04, loss: -0.11520\n",
      "epoch: 05, loss: -0.11175\n",
      "epoch: 06, loss: -0.11667\n",
      "epoch: 07, loss: -0.11769\n",
      "epoch: 08, loss: -0.11549\n",
      "epoch: 09, loss: -0.12233\n",
      "torch.Size([450, 64])\n"
     ]
    },
    {
     "name": "stderr",
     "output_type": "stream",
     "text": [
      " 39%|███▊      | 387/1000 [2:38:19<4:48:50, 28.27s/it]"
     ]
    },
    {
     "name": "stdout",
     "output_type": "stream",
     "text": [
      "eigenvalues shape torch.Size([5]) eigenvectors shape torch.Size([5, 450])\n",
      "387 /home/phdcs2/Hard_Disk/Datasets/Deep-Spectral-Segmentation/data/object-segmentation/ECSSD/features/dino_vits16/0388.pth\n",
      "dict_keys(['k', 'indices', 'file', 'id', 'model_name', 'patch_size', 'shape'])\n",
      "0388\n",
      "Starting Training\n",
      "epoch: 00, loss: 0.00298\n",
      "epoch: 01, loss: -0.00945\n",
      "epoch: 02, loss: -0.01328\n",
      "epoch: 03, loss: -0.01470\n",
      "epoch: 04, loss: -0.01555\n",
      "epoch: 05, loss: -0.01606\n",
      "epoch: 06, loss: -0.01648\n",
      "epoch: 07, loss: -0.01670\n",
      "epoch: 08, loss: -0.01662\n",
      "epoch: 09, loss: -0.01691\n",
      "torch.Size([500, 64])\n"
     ]
    },
    {
     "name": "stderr",
     "output_type": "stream",
     "text": [
      " 39%|███▉      | 388/1000 [2:38:42<4:32:45, 26.74s/it]"
     ]
    },
    {
     "name": "stdout",
     "output_type": "stream",
     "text": [
      "eigenvalues shape torch.Size([5]) eigenvectors shape torch.Size([5, 500])\n",
      "388 /home/phdcs2/Hard_Disk/Datasets/Deep-Spectral-Segmentation/data/object-segmentation/ECSSD/features/dino_vits16/0389.pth\n",
      "dict_keys(['k', 'indices', 'file', 'id', 'model_name', 'patch_size', 'shape'])\n",
      "0389\n",
      "Starting Training\n",
      "epoch: 00, loss: -0.03769\n",
      "epoch: 01, loss: -0.05774\n",
      "epoch: 02, loss: -0.05911\n",
      "epoch: 03, loss: -0.05972\n",
      "epoch: 04, loss: -0.06029\n",
      "epoch: 05, loss: -0.06016\n",
      "epoch: 06, loss: -0.06060\n",
      "epoch: 07, loss: -0.06063\n",
      "epoch: 08, loss: -0.06071\n",
      "epoch: 09, loss: -0.06080\n",
      "torch.Size([450, 64])\n"
     ]
    },
    {
     "name": "stderr",
     "output_type": "stream",
     "text": [
      " 39%|███▉      | 389/1000 [2:39:05<4:19:26, 25.48s/it]"
     ]
    },
    {
     "name": "stdout",
     "output_type": "stream",
     "text": [
      "eigenvalues shape torch.Size([5]) eigenvectors shape torch.Size([5, 450])\n",
      "389 /home/phdcs2/Hard_Disk/Datasets/Deep-Spectral-Segmentation/data/object-segmentation/ECSSD/features/dino_vits16/0390.pth\n",
      "dict_keys(['k', 'indices', 'file', 'id', 'model_name', 'patch_size', 'shape'])\n",
      "0390\n",
      "Starting Training\n",
      "epoch: 00, loss: -0.02741\n",
      "epoch: 01, loss: -0.05229\n",
      "epoch: 02, loss: -0.05400\n",
      "epoch: 03, loss: -0.05458\n",
      "epoch: 04, loss: -0.05504\n",
      "epoch: 05, loss: -0.05499\n",
      "epoch: 06, loss: -0.05520\n",
      "epoch: 07, loss: -0.05531\n",
      "epoch: 08, loss: -0.05546\n",
      "epoch: 09, loss: -0.05562\n",
      "torch.Size([450, 64])\n"
     ]
    },
    {
     "name": "stderr",
     "output_type": "stream",
     "text": [
      " 39%|███▉      | 390/1000 [2:39:30<4:16:25, 25.22s/it]"
     ]
    },
    {
     "name": "stdout",
     "output_type": "stream",
     "text": [
      "eigenvalues shape torch.Size([5]) eigenvectors shape torch.Size([5, 450])\n",
      "390 /home/phdcs2/Hard_Disk/Datasets/Deep-Spectral-Segmentation/data/object-segmentation/ECSSD/features/dino_vits16/0391.pth\n",
      "dict_keys(['k', 'indices', 'file', 'id', 'model_name', 'patch_size', 'shape'])\n",
      "0391\n",
      "Starting Training\n",
      "epoch: 00, loss: -0.06733\n",
      "epoch: 01, loss: -0.08925\n",
      "epoch: 02, loss: -0.10043\n",
      "epoch: 03, loss: -0.09765\n",
      "epoch: 04, loss: -0.10266\n",
      "epoch: 05, loss: -0.09913\n",
      "epoch: 06, loss: -0.10261\n",
      "epoch: 07, loss: -0.10049\n",
      "epoch: 08, loss: -0.10392\n",
      "epoch: 09, loss: -0.10451\n",
      "torch.Size([400, 64])\n"
     ]
    },
    {
     "name": "stderr",
     "output_type": "stream",
     "text": [
      " 39%|███▉      | 391/1000 [2:39:54<4:13:09, 24.94s/it]"
     ]
    },
    {
     "name": "stdout",
     "output_type": "stream",
     "text": [
      "eigenvalues shape torch.Size([5]) eigenvectors shape torch.Size([5, 400])\n",
      "391 /home/phdcs2/Hard_Disk/Datasets/Deep-Spectral-Segmentation/data/object-segmentation/ECSSD/features/dino_vits16/0392.pth\n",
      "dict_keys(['k', 'indices', 'file', 'id', 'model_name', 'patch_size', 'shape'])\n",
      "0392\n",
      "Starting Training\n",
      "epoch: 00, loss: -0.02825\n",
      "epoch: 01, loss: -0.04576\n",
      "epoch: 02, loss: -0.04775\n",
      "epoch: 03, loss: -0.04836\n",
      "epoch: 04, loss: -0.04853\n",
      "epoch: 05, loss: -0.04873\n",
      "epoch: 06, loss: -0.04911\n",
      "epoch: 07, loss: -0.04910\n",
      "epoch: 08, loss: -0.04927\n",
      "epoch: 09, loss: -0.04934\n",
      "torch.Size([400, 64])\n"
     ]
    },
    {
     "name": "stderr",
     "output_type": "stream",
     "text": [
      " 39%|███▉      | 392/1000 [2:40:19<4:12:38, 24.93s/it]"
     ]
    },
    {
     "name": "stdout",
     "output_type": "stream",
     "text": [
      "eigenvalues shape torch.Size([5]) eigenvectors shape torch.Size([5, 400])\n",
      "392 /home/phdcs2/Hard_Disk/Datasets/Deep-Spectral-Segmentation/data/object-segmentation/ECSSD/features/dino_vits16/0393.pth\n",
      "dict_keys(['k', 'indices', 'file', 'id', 'model_name', 'patch_size', 'shape'])\n",
      "0393\n",
      "Starting Training\n",
      "epoch: 00, loss: -0.03051\n",
      "epoch: 01, loss: -0.04608\n",
      "epoch: 02, loss: -0.04754\n",
      "epoch: 03, loss: -0.04793\n",
      "epoch: 04, loss: -0.04812\n",
      "epoch: 05, loss: -0.04859\n",
      "epoch: 06, loss: -0.04879\n",
      "epoch: 07, loss: -0.04890\n",
      "epoch: 08, loss: -0.04915\n",
      "epoch: 09, loss: -0.04912\n",
      "torch.Size([400, 64])\n"
     ]
    },
    {
     "name": "stderr",
     "output_type": "stream",
     "text": [
      " 39%|███▉      | 393/1000 [2:40:42<4:07:31, 24.47s/it]"
     ]
    },
    {
     "name": "stdout",
     "output_type": "stream",
     "text": [
      "eigenvalues shape torch.Size([5]) eigenvectors shape torch.Size([5, 400])\n",
      "393 /home/phdcs2/Hard_Disk/Datasets/Deep-Spectral-Segmentation/data/object-segmentation/ECSSD/features/dino_vits16/0394.pth\n",
      "dict_keys(['k', 'indices', 'file', 'id', 'model_name', 'patch_size', 'shape'])\n",
      "0394\n",
      "Starting Training\n",
      "epoch: 00, loss: -0.03840\n",
      "epoch: 01, loss: -0.06324\n",
      "epoch: 02, loss: -0.06472\n",
      "epoch: 03, loss: -0.06521\n",
      "epoch: 04, loss: -0.06544\n",
      "epoch: 05, loss: -0.06566\n",
      "epoch: 06, loss: -0.06565\n",
      "epoch: 07, loss: -0.06587\n",
      "epoch: 08, loss: -0.06600\n",
      "epoch: 09, loss: -0.06600\n",
      "torch.Size([400, 64])\n"
     ]
    },
    {
     "name": "stderr",
     "output_type": "stream",
     "text": [
      " 39%|███▉      | 394/1000 [2:40:58<3:40:23, 21.82s/it]"
     ]
    },
    {
     "name": "stdout",
     "output_type": "stream",
     "text": [
      "eigenvalues shape torch.Size([5]) eigenvectors shape torch.Size([5, 400])\n",
      "394 /home/phdcs2/Hard_Disk/Datasets/Deep-Spectral-Segmentation/data/object-segmentation/ECSSD/features/dino_vits16/0395.pth\n",
      "dict_keys(['k', 'indices', 'file', 'id', 'model_name', 'patch_size', 'shape'])\n",
      "0395\n",
      "Starting Training\n",
      "epoch: 00, loss: -0.02126\n",
      "epoch: 01, loss: -0.04356\n",
      "epoch: 02, loss: -0.04662\n",
      "epoch: 03, loss: -0.04743\n",
      "epoch: 04, loss: -0.04781\n",
      "epoch: 05, loss: -0.04811\n",
      "epoch: 06, loss: -0.04828\n",
      "epoch: 07, loss: -0.04829\n",
      "epoch: 08, loss: -0.04856\n",
      "epoch: 09, loss: -0.04855\n",
      "torch.Size([400, 64])\n"
     ]
    },
    {
     "name": "stderr",
     "output_type": "stream",
     "text": [
      " 40%|███▉      | 395/1000 [2:41:27<4:01:36, 23.96s/it]"
     ]
    },
    {
     "name": "stdout",
     "output_type": "stream",
     "text": [
      "eigenvalues shape torch.Size([5]) eigenvectors shape torch.Size([5, 400])\n",
      "395 /home/phdcs2/Hard_Disk/Datasets/Deep-Spectral-Segmentation/data/object-segmentation/ECSSD/features/dino_vits16/0396.pth\n",
      "dict_keys(['k', 'indices', 'file', 'id', 'model_name', 'patch_size', 'shape'])\n",
      "0396\n",
      "Starting Training\n",
      "epoch: 00, loss: -0.09567\n",
      "epoch: 01, loss: -0.11211\n",
      "epoch: 02, loss: -0.11256\n",
      "epoch: 03, loss: -0.11551\n",
      "epoch: 04, loss: -0.11411\n",
      "epoch: 05, loss: -0.11494\n",
      "epoch: 06, loss: -0.11559\n",
      "epoch: 07, loss: -0.11697\n",
      "epoch: 08, loss: -0.11595\n",
      "epoch: 09, loss: -0.11623\n",
      "torch.Size([450, 64])\n"
     ]
    },
    {
     "name": "stderr",
     "output_type": "stream",
     "text": [
      " 40%|███▉      | 396/1000 [2:42:00<4:28:29, 26.67s/it]"
     ]
    },
    {
     "name": "stdout",
     "output_type": "stream",
     "text": [
      "eigenvalues shape torch.Size([5]) eigenvectors shape torch.Size([5, 450])\n",
      "396 /home/phdcs2/Hard_Disk/Datasets/Deep-Spectral-Segmentation/data/object-segmentation/ECSSD/features/dino_vits16/0397.pth\n",
      "dict_keys(['k', 'indices', 'file', 'id', 'model_name', 'patch_size', 'shape'])\n",
      "0397\n",
      "Starting Training\n",
      "epoch: 00, loss: -0.02331\n",
      "epoch: 01, loss: -0.05139\n",
      "epoch: 02, loss: -0.05407\n",
      "epoch: 03, loss: -0.05617\n",
      "epoch: 04, loss: -0.05697\n",
      "epoch: 05, loss: -0.05659\n",
      "epoch: 06, loss: -0.05895\n",
      "epoch: 07, loss: -0.05662\n",
      "epoch: 08, loss: -0.05745\n",
      "epoch: 09, loss: -0.05826\n",
      "torch.Size([400, 64])\n"
     ]
    },
    {
     "name": "stderr",
     "output_type": "stream",
     "text": [
      " 40%|███▉      | 397/1000 [2:42:22<4:14:06, 25.28s/it]"
     ]
    },
    {
     "name": "stdout",
     "output_type": "stream",
     "text": [
      "eigenvalues shape torch.Size([5]) eigenvectors shape torch.Size([5, 400])\n",
      "397 /home/phdcs2/Hard_Disk/Datasets/Deep-Spectral-Segmentation/data/object-segmentation/ECSSD/features/dino_vits16/0398.pth\n",
      "dict_keys(['k', 'indices', 'file', 'id', 'model_name', 'patch_size', 'shape'])\n",
      "0398\n",
      "Starting Training\n",
      "epoch: 00, loss: -0.03817\n",
      "epoch: 01, loss: -0.06703\n",
      "epoch: 02, loss: -0.06878\n",
      "epoch: 03, loss: -0.06893\n",
      "epoch: 04, loss: -0.06930\n",
      "epoch: 05, loss: -0.06952\n",
      "epoch: 06, loss: -0.06981\n",
      "epoch: 07, loss: -0.06994\n",
      "epoch: 08, loss: -0.07000\n",
      "epoch: 09, loss: -0.07007\n",
      "torch.Size([400, 64])\n"
     ]
    },
    {
     "name": "stderr",
     "output_type": "stream",
     "text": [
      " 40%|███▉      | 398/1000 [2:42:49<4:18:27, 25.76s/it]"
     ]
    },
    {
     "name": "stdout",
     "output_type": "stream",
     "text": [
      "eigenvalues shape torch.Size([5]) eigenvectors shape torch.Size([5, 400])\n",
      "398 /home/phdcs2/Hard_Disk/Datasets/Deep-Spectral-Segmentation/data/object-segmentation/ECSSD/features/dino_vits16/0399.pth\n",
      "dict_keys(['k', 'indices', 'file', 'id', 'model_name', 'patch_size', 'shape'])\n",
      "0399\n",
      "Starting Training\n",
      "epoch: 00, loss: -0.03650\n",
      "epoch: 01, loss: -0.06760\n",
      "epoch: 02, loss: -0.06968\n",
      "epoch: 03, loss: -0.07058\n",
      "epoch: 04, loss: -0.07144\n",
      "epoch: 05, loss: -0.07438\n",
      "epoch: 06, loss: -0.07344\n",
      "epoch: 07, loss: -0.07478\n",
      "epoch: 08, loss: -0.07614\n",
      "epoch: 09, loss: -0.07412\n",
      "torch.Size([400, 64])\n"
     ]
    },
    {
     "name": "stderr",
     "output_type": "stream",
     "text": [
      " 40%|███▉      | 399/1000 [2:43:12<4:11:08, 25.07s/it]"
     ]
    },
    {
     "name": "stdout",
     "output_type": "stream",
     "text": [
      "eigenvalues shape torch.Size([5]) eigenvectors shape torch.Size([5, 400])\n",
      "399 /home/phdcs2/Hard_Disk/Datasets/Deep-Spectral-Segmentation/data/object-segmentation/ECSSD/features/dino_vits16/0400.pth\n",
      "dict_keys(['k', 'indices', 'file', 'id', 'model_name', 'patch_size', 'shape'])\n",
      "0400\n",
      "Starting Training\n",
      "epoch: 00, loss: -0.02349\n",
      "epoch: 01, loss: -0.04314\n",
      "epoch: 02, loss: -0.04917\n",
      "epoch: 03, loss: -0.04879\n",
      "epoch: 04, loss: -0.05134\n",
      "epoch: 05, loss: -0.05109\n",
      "epoch: 06, loss: -0.05147\n",
      "epoch: 07, loss: -0.04886\n",
      "epoch: 08, loss: -0.05200\n",
      "epoch: 09, loss: -0.05268\n",
      "torch.Size([400, 64])\n"
     ]
    },
    {
     "name": "stderr",
     "output_type": "stream",
     "text": [
      " 40%|████      | 400/1000 [2:43:41<4:22:51, 26.29s/it]"
     ]
    },
    {
     "name": "stdout",
     "output_type": "stream",
     "text": [
      "eigenvalues shape torch.Size([5]) eigenvectors shape torch.Size([5, 400])\n",
      "400 /home/phdcs2/Hard_Disk/Datasets/Deep-Spectral-Segmentation/data/object-segmentation/ECSSD/features/dino_vits16/0401.pth\n",
      "dict_keys(['k', 'indices', 'file', 'id', 'model_name', 'patch_size', 'shape'])\n",
      "0401\n",
      "Starting Training\n",
      "epoch: 00, loss: -0.03372\n",
      "epoch: 01, loss: -0.06856\n",
      "epoch: 02, loss: -0.07227\n",
      "epoch: 03, loss: -0.07799\n",
      "epoch: 04, loss: -0.07798\n",
      "epoch: 05, loss: -0.07834\n",
      "epoch: 06, loss: -0.07345\n",
      "epoch: 07, loss: -0.07981\n",
      "epoch: 08, loss: -0.07746\n",
      "epoch: 09, loss: -0.07618\n",
      "torch.Size([400, 64])\n"
     ]
    },
    {
     "name": "stderr",
     "output_type": "stream",
     "text": [
      " 40%|████      | 401/1000 [2:44:10<4:29:50, 27.03s/it]"
     ]
    },
    {
     "name": "stdout",
     "output_type": "stream",
     "text": [
      "eigenvalues shape torch.Size([5]) eigenvectors shape torch.Size([5, 400])\n",
      "401 /home/phdcs2/Hard_Disk/Datasets/Deep-Spectral-Segmentation/data/object-segmentation/ECSSD/features/dino_vits16/0402.pth\n",
      "dict_keys(['k', 'indices', 'file', 'id', 'model_name', 'patch_size', 'shape'])\n",
      "0402\n",
      "Starting Training\n",
      "epoch: 00, loss: -0.01568\n",
      "epoch: 01, loss: -0.04492\n",
      "epoch: 02, loss: -0.04813\n",
      "epoch: 03, loss: -0.04922\n",
      "epoch: 04, loss: -0.04958\n",
      "epoch: 05, loss: -0.04984\n",
      "epoch: 06, loss: -0.05009\n",
      "epoch: 07, loss: -0.05017\n",
      "epoch: 08, loss: -0.05023\n",
      "epoch: 09, loss: -0.05067\n",
      "torch.Size([400, 64])\n"
     ]
    },
    {
     "name": "stderr",
     "output_type": "stream",
     "text": [
      " 40%|████      | 402/1000 [2:44:29<4:04:50, 24.57s/it]"
     ]
    },
    {
     "name": "stdout",
     "output_type": "stream",
     "text": [
      "eigenvalues shape torch.Size([5]) eigenvectors shape torch.Size([5, 400])\n",
      "402 /home/phdcs2/Hard_Disk/Datasets/Deep-Spectral-Segmentation/data/object-segmentation/ECSSD/features/dino_vits16/0403.pth\n",
      "dict_keys(['k', 'indices', 'file', 'id', 'model_name', 'patch_size', 'shape'])\n",
      "0403\n",
      "Starting Training\n",
      "epoch: 00, loss: -0.03871\n",
      "epoch: 01, loss: -0.07145\n",
      "epoch: 02, loss: -0.07250\n",
      "epoch: 03, loss: -0.07285\n",
      "epoch: 04, loss: -0.07705\n",
      "epoch: 05, loss: -0.08011\n",
      "epoch: 06, loss: -0.07639\n",
      "epoch: 07, loss: -0.08015\n",
      "epoch: 08, loss: -0.08025\n",
      "epoch: 09, loss: -0.08237\n",
      "torch.Size([400, 64])\n"
     ]
    },
    {
     "name": "stderr",
     "output_type": "stream",
     "text": [
      " 40%|████      | 403/1000 [2:44:57<4:16:03, 25.73s/it]"
     ]
    },
    {
     "name": "stdout",
     "output_type": "stream",
     "text": [
      "eigenvalues shape torch.Size([5]) eigenvectors shape torch.Size([5, 400])\n",
      "403 /home/phdcs2/Hard_Disk/Datasets/Deep-Spectral-Segmentation/data/object-segmentation/ECSSD/features/dino_vits16/0404.pth\n",
      "dict_keys(['k', 'indices', 'file', 'id', 'model_name', 'patch_size', 'shape'])\n",
      "0404\n",
      "Starting Training\n",
      "epoch: 00, loss: -0.04047\n",
      "epoch: 01, loss: -0.06950\n",
      "epoch: 02, loss: -0.07529\n",
      "epoch: 03, loss: -0.07368\n",
      "epoch: 04, loss: -0.07686\n",
      "epoch: 05, loss: -0.07796\n",
      "epoch: 06, loss: -0.08067\n",
      "epoch: 07, loss: -0.07993\n",
      "epoch: 08, loss: -0.07810\n",
      "epoch: 09, loss: -0.08141\n",
      "torch.Size([400, 64])\n"
     ]
    },
    {
     "name": "stderr",
     "output_type": "stream",
     "text": [
      " 40%|████      | 404/1000 [2:45:22<4:11:26, 25.31s/it]"
     ]
    },
    {
     "name": "stdout",
     "output_type": "stream",
     "text": [
      "eigenvalues shape torch.Size([5]) eigenvectors shape torch.Size([5, 400])\n",
      "404 /home/phdcs2/Hard_Disk/Datasets/Deep-Spectral-Segmentation/data/object-segmentation/ECSSD/features/dino_vits16/0405.pth\n",
      "dict_keys(['k', 'indices', 'file', 'id', 'model_name', 'patch_size', 'shape'])\n",
      "0405\n",
      "Starting Training\n",
      "epoch: 00, loss: -0.00993\n",
      "epoch: 01, loss: -0.02755\n",
      "epoch: 02, loss: -0.03530\n",
      "epoch: 03, loss: -0.03786\n",
      "epoch: 04, loss: -0.04005\n",
      "epoch: 05, loss: -0.03942\n",
      "epoch: 06, loss: -0.03960\n",
      "epoch: 07, loss: -0.03800\n",
      "epoch: 08, loss: -0.04119\n",
      "epoch: 09, loss: -0.03749\n",
      "torch.Size([400, 64])\n"
     ]
    },
    {
     "name": "stderr",
     "output_type": "stream",
     "text": [
      " 40%|████      | 405/1000 [2:45:47<4:12:17, 25.44s/it]"
     ]
    },
    {
     "name": "stdout",
     "output_type": "stream",
     "text": [
      "eigenvalues shape torch.Size([5]) eigenvectors shape torch.Size([5, 400])\n",
      "405 /home/phdcs2/Hard_Disk/Datasets/Deep-Spectral-Segmentation/data/object-segmentation/ECSSD/features/dino_vits16/0406.pth\n",
      "dict_keys(['k', 'indices', 'file', 'id', 'model_name', 'patch_size', 'shape'])\n",
      "0406\n",
      "Starting Training\n",
      "epoch: 00, loss: -0.03501\n",
      "epoch: 01, loss: -0.05818\n",
      "epoch: 02, loss: -0.05987\n",
      "epoch: 03, loss: -0.06041\n",
      "epoch: 04, loss: -0.06042\n",
      "epoch: 05, loss: -0.06082\n",
      "epoch: 06, loss: -0.06084\n",
      "epoch: 07, loss: -0.06085\n",
      "epoch: 08, loss: -0.06106\n",
      "epoch: 09, loss: -0.06113\n",
      "torch.Size([400, 64])\n"
     ]
    },
    {
     "name": "stderr",
     "output_type": "stream",
     "text": [
      " 41%|████      | 406/1000 [2:46:09<4:00:41, 24.31s/it]"
     ]
    },
    {
     "name": "stdout",
     "output_type": "stream",
     "text": [
      "eigenvalues shape torch.Size([5]) eigenvectors shape torch.Size([5, 400])\n",
      "406 /home/phdcs2/Hard_Disk/Datasets/Deep-Spectral-Segmentation/data/object-segmentation/ECSSD/features/dino_vits16/0407.pth\n",
      "dict_keys(['k', 'indices', 'file', 'id', 'model_name', 'patch_size', 'shape'])\n",
      "0407\n",
      "Starting Training\n",
      "epoch: 00, loss: 0.00811\n",
      "epoch: 01, loss: 0.00324\n",
      "epoch: 02, loss: 0.00001\n",
      "epoch: 03, loss: -0.00193\n",
      "epoch: 04, loss: -0.00347\n",
      "epoch: 05, loss: -0.00436\n",
      "epoch: 06, loss: -0.00532\n",
      "epoch: 07, loss: -0.00595\n",
      "epoch: 08, loss: -0.00645\n",
      "epoch: 09, loss: -0.00690\n",
      "torch.Size([400, 64])\n"
     ]
    },
    {
     "name": "stderr",
     "output_type": "stream",
     "text": [
      " 41%|████      | 407/1000 [2:46:32<3:55:52, 23.87s/it]"
     ]
    },
    {
     "name": "stdout",
     "output_type": "stream",
     "text": [
      "eigenvalues shape torch.Size([5]) eigenvectors shape torch.Size([5, 400])\n",
      "407 /home/phdcs2/Hard_Disk/Datasets/Deep-Spectral-Segmentation/data/object-segmentation/ECSSD/features/dino_vits16/0408.pth\n",
      "dict_keys(['k', 'indices', 'file', 'id', 'model_name', 'patch_size', 'shape'])\n",
      "0408\n",
      "Starting Training\n",
      "epoch: 00, loss: -0.01256\n",
      "epoch: 01, loss: -0.02593\n",
      "epoch: 02, loss: -0.02853\n",
      "epoch: 03, loss: -0.02949\n",
      "epoch: 04, loss: -0.03032\n",
      "epoch: 05, loss: -0.03029\n",
      "epoch: 06, loss: -0.03054\n",
      "epoch: 07, loss: -0.03074\n",
      "epoch: 08, loss: -0.03082\n",
      "epoch: 09, loss: -0.03092\n",
      "torch.Size([400, 64])\n"
     ]
    },
    {
     "name": "stderr",
     "output_type": "stream",
     "text": [
      " 41%|████      | 408/1000 [2:46:54<3:50:57, 23.41s/it]"
     ]
    },
    {
     "name": "stdout",
     "output_type": "stream",
     "text": [
      "eigenvalues shape torch.Size([5]) eigenvectors shape torch.Size([5, 400])\n",
      "408 /home/phdcs2/Hard_Disk/Datasets/Deep-Spectral-Segmentation/data/object-segmentation/ECSSD/features/dino_vits16/0409.pth\n",
      "dict_keys(['k', 'indices', 'file', 'id', 'model_name', 'patch_size', 'shape'])\n",
      "0409\n",
      "Starting Training\n",
      "epoch: 00, loss: -0.01278\n",
      "epoch: 01, loss: -0.02788\n",
      "epoch: 02, loss: -0.03039\n",
      "epoch: 03, loss: -0.03120\n",
      "epoch: 04, loss: -0.03163\n",
      "epoch: 05, loss: -0.03182\n",
      "epoch: 06, loss: -0.03202\n",
      "epoch: 07, loss: -0.03214\n",
      "epoch: 08, loss: -0.03235\n",
      "epoch: 09, loss: -0.03238\n",
      "torch.Size([450, 64])\n"
     ]
    },
    {
     "name": "stderr",
     "output_type": "stream",
     "text": [
      " 41%|████      | 409/1000 [2:47:21<3:59:55, 24.36s/it]"
     ]
    },
    {
     "name": "stdout",
     "output_type": "stream",
     "text": [
      "eigenvalues shape torch.Size([5]) eigenvectors shape torch.Size([5, 450])\n",
      "409 /home/phdcs2/Hard_Disk/Datasets/Deep-Spectral-Segmentation/data/object-segmentation/ECSSD/features/dino_vits16/0410.pth\n",
      "dict_keys(['k', 'indices', 'file', 'id', 'model_name', 'patch_size', 'shape'])\n",
      "0410\n",
      "Starting Training\n",
      "epoch: 00, loss: 0.00080\n",
      "epoch: 01, loss: -0.01446\n",
      "epoch: 02, loss: -0.01993\n",
      "epoch: 03, loss: -0.02288\n",
      "epoch: 04, loss: -0.02522\n",
      "epoch: 05, loss: -0.02477\n",
      "epoch: 06, loss: -0.02536\n",
      "epoch: 07, loss: -0.02711\n",
      "epoch: 08, loss: -0.02629\n",
      "epoch: 09, loss: -0.02582\n",
      "torch.Size([325, 64])\n"
     ]
    },
    {
     "name": "stderr",
     "output_type": "stream",
     "text": [
      " 41%|████      | 410/1000 [2:47:34<3:27:05, 21.06s/it]"
     ]
    },
    {
     "name": "stdout",
     "output_type": "stream",
     "text": [
      "eigenvalues shape torch.Size([5]) eigenvectors shape torch.Size([5, 325])\n",
      "410 /home/phdcs2/Hard_Disk/Datasets/Deep-Spectral-Segmentation/data/object-segmentation/ECSSD/features/dino_vits16/0411.pth\n",
      "dict_keys(['k', 'indices', 'file', 'id', 'model_name', 'patch_size', 'shape'])\n",
      "0411\n",
      "Starting Training\n",
      "epoch: 00, loss: -0.01612\n",
      "epoch: 01, loss: -0.04055\n",
      "epoch: 02, loss: -0.04299\n",
      "epoch: 03, loss: -0.04371\n",
      "epoch: 04, loss: -0.04406\n",
      "epoch: 05, loss: -0.04433\n",
      "epoch: 06, loss: -0.04452\n",
      "epoch: 07, loss: -0.04472\n",
      "epoch: 08, loss: -0.04483\n",
      "epoch: 09, loss: -0.04487\n",
      "torch.Size([450, 64])\n"
     ]
    },
    {
     "name": "stderr",
     "output_type": "stream",
     "text": [
      " 41%|████      | 411/1000 [2:47:56<3:27:54, 21.18s/it]"
     ]
    },
    {
     "name": "stdout",
     "output_type": "stream",
     "text": [
      "eigenvalues shape torch.Size([5]) eigenvectors shape torch.Size([5, 450])\n",
      "411 /home/phdcs2/Hard_Disk/Datasets/Deep-Spectral-Segmentation/data/object-segmentation/ECSSD/features/dino_vits16/0412.pth\n",
      "dict_keys(['k', 'indices', 'file', 'id', 'model_name', 'patch_size', 'shape'])\n",
      "0412\n",
      "Starting Training\n",
      "epoch: 00, loss: -0.02202\n",
      "epoch: 01, loss: -0.04617\n",
      "epoch: 02, loss: -0.04803\n",
      "epoch: 03, loss: -0.04877\n",
      "epoch: 04, loss: -0.04887\n",
      "epoch: 05, loss: -0.04936\n",
      "epoch: 06, loss: -0.04961\n",
      "epoch: 07, loss: -0.04949\n",
      "epoch: 08, loss: -0.04987\n",
      "epoch: 09, loss: -0.04983\n",
      "torch.Size([450, 64])\n"
     ]
    },
    {
     "name": "stderr",
     "output_type": "stream",
     "text": [
      " 41%|████      | 412/1000 [2:48:19<3:35:12, 21.96s/it]"
     ]
    },
    {
     "name": "stdout",
     "output_type": "stream",
     "text": [
      "eigenvalues shape torch.Size([5]) eigenvectors shape torch.Size([5, 450])\n",
      "412 /home/phdcs2/Hard_Disk/Datasets/Deep-Spectral-Segmentation/data/object-segmentation/ECSSD/features/dino_vits16/0413.pth\n",
      "dict_keys(['k', 'indices', 'file', 'id', 'model_name', 'patch_size', 'shape'])\n",
      "0413\n",
      "Starting Training\n",
      "epoch: 00, loss: -0.04564\n",
      "epoch: 01, loss: -0.06299\n",
      "epoch: 02, loss: -0.06441\n",
      "epoch: 03, loss: -0.06452\n",
      "epoch: 04, loss: -0.06488\n",
      "epoch: 05, loss: -0.06489\n",
      "epoch: 06, loss: -0.06533\n",
      "epoch: 07, loss: -0.06542\n",
      "epoch: 08, loss: -0.06545\n",
      "epoch: 09, loss: -0.06561\n",
      "torch.Size([450, 64])\n"
     ]
    },
    {
     "name": "stderr",
     "output_type": "stream",
     "text": [
      " 41%|████▏     | 413/1000 [2:48:44<3:42:38, 22.76s/it]"
     ]
    },
    {
     "name": "stdout",
     "output_type": "stream",
     "text": [
      "eigenvalues shape torch.Size([5]) eigenvectors shape torch.Size([5, 450])\n",
      "413 /home/phdcs2/Hard_Disk/Datasets/Deep-Spectral-Segmentation/data/object-segmentation/ECSSD/features/dino_vits16/0414.pth\n",
      "dict_keys(['k', 'indices', 'file', 'id', 'model_name', 'patch_size', 'shape'])\n",
      "0414\n",
      "Starting Training\n",
      "epoch: 00, loss: -0.05242\n",
      "epoch: 01, loss: -0.06814\n",
      "epoch: 02, loss: -0.06946\n",
      "epoch: 03, loss: -0.06972\n",
      "epoch: 04, loss: -0.06993\n",
      "epoch: 05, loss: -0.07024\n",
      "epoch: 06, loss: -0.07031\n",
      "epoch: 07, loss: -0.07059\n",
      "epoch: 08, loss: -0.07058\n",
      "epoch: 09, loss: -0.07068\n",
      "torch.Size([450, 64])\n"
     ]
    },
    {
     "name": "stderr",
     "output_type": "stream",
     "text": [
      " 41%|████▏     | 414/1000 [2:49:07<3:44:09, 22.95s/it]"
     ]
    },
    {
     "name": "stdout",
     "output_type": "stream",
     "text": [
      "eigenvalues shape torch.Size([5]) eigenvectors shape torch.Size([5, 450])\n",
      "414 /home/phdcs2/Hard_Disk/Datasets/Deep-Spectral-Segmentation/data/object-segmentation/ECSSD/features/dino_vits16/0415.pth\n",
      "dict_keys(['k', 'indices', 'file', 'id', 'model_name', 'patch_size', 'shape'])\n",
      "0415\n",
      "Starting Training\n",
      "epoch: 00, loss: -0.02791\n",
      "epoch: 01, loss: -0.05369\n",
      "epoch: 02, loss: -0.05635\n",
      "epoch: 03, loss: -0.05572\n",
      "epoch: 04, loss: -0.05634\n",
      "epoch: 05, loss: -0.05650\n",
      "epoch: 06, loss: -0.05663\n",
      "epoch: 07, loss: -0.05693\n",
      "epoch: 08, loss: -0.05705\n",
      "epoch: 09, loss: -0.05727\n",
      "torch.Size([450, 64])\n"
     ]
    },
    {
     "name": "stderr",
     "output_type": "stream",
     "text": [
      " 42%|████▏     | 415/1000 [2:49:37<4:04:17, 25.06s/it]"
     ]
    },
    {
     "name": "stdout",
     "output_type": "stream",
     "text": [
      "eigenvalues shape torch.Size([5]) eigenvectors shape torch.Size([5, 450])\n",
      "415 /home/phdcs2/Hard_Disk/Datasets/Deep-Spectral-Segmentation/data/object-segmentation/ECSSD/features/dino_vits16/0416.pth\n",
      "dict_keys(['k', 'indices', 'file', 'id', 'model_name', 'patch_size', 'shape'])\n",
      "0416\n",
      "Starting Training\n",
      "epoch: 00, loss: -0.03571\n",
      "epoch: 01, loss: -0.06667\n",
      "epoch: 02, loss: -0.06819\n",
      "epoch: 03, loss: -0.06861\n",
      "epoch: 04, loss: -0.06825\n",
      "epoch: 05, loss: -0.06840\n",
      "epoch: 06, loss: -0.06856\n",
      "epoch: 07, loss: -0.06875\n",
      "epoch: 08, loss: -0.06837\n",
      "epoch: 09, loss: -0.06917\n",
      "torch.Size([450, 64])\n"
     ]
    },
    {
     "name": "stderr",
     "output_type": "stream",
     "text": [
      " 42%|████▏     | 416/1000 [2:50:03<4:04:28, 25.12s/it]"
     ]
    },
    {
     "name": "stdout",
     "output_type": "stream",
     "text": [
      "eigenvalues shape torch.Size([5]) eigenvectors shape torch.Size([5, 450])\n",
      "416 /home/phdcs2/Hard_Disk/Datasets/Deep-Spectral-Segmentation/data/object-segmentation/ECSSD/features/dino_vits16/0417.pth\n",
      "dict_keys(['k', 'indices', 'file', 'id', 'model_name', 'patch_size', 'shape'])\n",
      "0417\n",
      "Starting Training\n",
      "epoch: 00, loss: -0.02488\n",
      "epoch: 01, loss: -0.04081\n",
      "epoch: 02, loss: -0.04309\n",
      "epoch: 03, loss: -0.04440\n",
      "epoch: 04, loss: -0.04532\n",
      "epoch: 05, loss: -0.04504\n",
      "epoch: 06, loss: -0.04532\n",
      "epoch: 07, loss: -0.04563\n",
      "epoch: 08, loss: -0.04555\n",
      "epoch: 09, loss: -0.04599\n",
      "torch.Size([450, 64])\n"
     ]
    },
    {
     "name": "stderr",
     "output_type": "stream",
     "text": [
      " 42%|████▏     | 417/1000 [2:50:30<4:09:43, 25.70s/it]"
     ]
    },
    {
     "name": "stdout",
     "output_type": "stream",
     "text": [
      "eigenvalues shape torch.Size([5]) eigenvectors shape torch.Size([5, 450])\n",
      "417 /home/phdcs2/Hard_Disk/Datasets/Deep-Spectral-Segmentation/data/object-segmentation/ECSSD/features/dino_vits16/0418.pth\n",
      "dict_keys(['k', 'indices', 'file', 'id', 'model_name', 'patch_size', 'shape'])\n",
      "0418\n",
      "Starting Training\n",
      "epoch: 00, loss: -0.05844\n",
      "epoch: 01, loss: -0.09365\n",
      "epoch: 02, loss: -0.09732\n",
      "epoch: 03, loss: -0.09868\n",
      "epoch: 04, loss: -0.09960\n",
      "epoch: 05, loss: -0.09670\n",
      "epoch: 06, loss: -0.10073\n",
      "epoch: 07, loss: -0.09956\n",
      "epoch: 08, loss: -0.10006\n",
      "epoch: 09, loss: -0.10006\n",
      "torch.Size([450, 64])\n"
     ]
    },
    {
     "name": "stderr",
     "output_type": "stream",
     "text": [
      " 42%|████▏     | 418/1000 [2:50:54<4:05:20, 25.29s/it]"
     ]
    },
    {
     "name": "stdout",
     "output_type": "stream",
     "text": [
      "eigenvalues shape torch.Size([5]) eigenvectors shape torch.Size([5, 450])\n",
      "418 /home/phdcs2/Hard_Disk/Datasets/Deep-Spectral-Segmentation/data/object-segmentation/ECSSD/features/dino_vits16/0419.pth\n",
      "dict_keys(['k', 'indices', 'file', 'id', 'model_name', 'patch_size', 'shape'])\n",
      "0419\n",
      "Starting Training\n",
      "epoch: 00, loss: -0.02714\n",
      "epoch: 01, loss: -0.04643\n",
      "epoch: 02, loss: -0.05113\n",
      "epoch: 03, loss: -0.05163\n",
      "epoch: 04, loss: -0.05113\n",
      "epoch: 05, loss: -0.05140\n",
      "epoch: 06, loss: -0.05227\n",
      "epoch: 07, loss: -0.05110\n",
      "epoch: 08, loss: -0.05283\n",
      "epoch: 09, loss: -0.05202\n",
      "torch.Size([450, 64])\n"
     ]
    },
    {
     "name": "stderr",
     "output_type": "stream",
     "text": [
      " 42%|████▏     | 419/1000 [2:51:22<4:14:06, 26.24s/it]"
     ]
    },
    {
     "name": "stdout",
     "output_type": "stream",
     "text": [
      "eigenvalues shape torch.Size([5]) eigenvectors shape torch.Size([5, 450])\n",
      "419 /home/phdcs2/Hard_Disk/Datasets/Deep-Spectral-Segmentation/data/object-segmentation/ECSSD/features/dino_vits16/0420.pth\n",
      "dict_keys(['k', 'indices', 'file', 'id', 'model_name', 'patch_size', 'shape'])\n",
      "0420\n",
      "Starting Training\n",
      "epoch: 00, loss: -0.04437\n",
      "epoch: 01, loss: -0.06825\n",
      "epoch: 02, loss: -0.06797\n",
      "epoch: 03, loss: -0.06939\n",
      "epoch: 04, loss: -0.06916\n",
      "epoch: 05, loss: -0.06853\n",
      "epoch: 06, loss: -0.06921\n",
      "epoch: 07, loss: -0.06869\n",
      "epoch: 08, loss: -0.06885\n",
      "epoch: 09, loss: -0.07014\n",
      "torch.Size([575, 64])\n"
     ]
    },
    {
     "name": "stderr",
     "output_type": "stream",
     "text": [
      " 42%|████▏     | 420/1000 [2:52:08<5:10:25, 32.11s/it]"
     ]
    },
    {
     "name": "stdout",
     "output_type": "stream",
     "text": [
      "eigenvalues shape torch.Size([5]) eigenvectors shape torch.Size([5, 575])\n",
      "420 /home/phdcs2/Hard_Disk/Datasets/Deep-Spectral-Segmentation/data/object-segmentation/ECSSD/features/dino_vits16/0421.pth\n",
      "dict_keys(['k', 'indices', 'file', 'id', 'model_name', 'patch_size', 'shape'])\n",
      "0421\n",
      "Starting Training\n",
      "epoch: 00, loss: -0.05257\n",
      "epoch: 01, loss: -0.09147\n",
      "epoch: 02, loss: -0.09494\n",
      "epoch: 03, loss: -0.09551\n",
      "epoch: 04, loss: -0.09814\n",
      "epoch: 05, loss: -0.09938\n",
      "epoch: 06, loss: -0.09898\n",
      "epoch: 07, loss: -0.09822\n",
      "epoch: 08, loss: -0.09933\n",
      "epoch: 09, loss: -0.09885\n",
      "torch.Size([525, 64])\n"
     ]
    },
    {
     "name": "stderr",
     "output_type": "stream",
     "text": [
      " 42%|████▏     | 421/1000 [2:52:54<5:49:58, 36.27s/it]"
     ]
    },
    {
     "name": "stdout",
     "output_type": "stream",
     "text": [
      "eigenvalues shape torch.Size([5]) eigenvectors shape torch.Size([5, 525])\n",
      "421 /home/phdcs2/Hard_Disk/Datasets/Deep-Spectral-Segmentation/data/object-segmentation/ECSSD/features/dino_vits16/0422.pth\n",
      "dict_keys(['k', 'indices', 'file', 'id', 'model_name', 'patch_size', 'shape'])\n",
      "0422\n",
      "Starting Training\n",
      "epoch: 00, loss: -0.02445\n",
      "epoch: 01, loss: -0.05231\n",
      "epoch: 02, loss: -0.05607\n",
      "epoch: 03, loss: -0.05676\n",
      "epoch: 04, loss: -0.05888\n",
      "epoch: 05, loss: -0.05685\n",
      "epoch: 06, loss: -0.06022\n",
      "epoch: 07, loss: -0.05657\n",
      "epoch: 08, loss: -0.05965\n",
      "epoch: 09, loss: -0.05861\n",
      "torch.Size([450, 64])\n"
     ]
    },
    {
     "name": "stderr",
     "output_type": "stream",
     "text": [
      " 42%|████▏     | 422/1000 [2:53:24<5:30:37, 34.32s/it]"
     ]
    },
    {
     "name": "stdout",
     "output_type": "stream",
     "text": [
      "eigenvalues shape torch.Size([5]) eigenvectors shape torch.Size([5, 450])\n",
      "422 /home/phdcs2/Hard_Disk/Datasets/Deep-Spectral-Segmentation/data/object-segmentation/ECSSD/features/dino_vits16/0423.pth\n",
      "dict_keys(['k', 'indices', 'file', 'id', 'model_name', 'patch_size', 'shape'])\n",
      "0423\n",
      "Starting Training\n",
      "epoch: 00, loss: 0.00221\n",
      "epoch: 01, loss: -0.01333\n",
      "epoch: 02, loss: -0.01767\n",
      "epoch: 03, loss: -0.01901\n",
      "epoch: 04, loss: -0.02311\n",
      "epoch: 05, loss: -0.02351\n",
      "epoch: 06, loss: -0.02688\n",
      "epoch: 07, loss: -0.02456\n",
      "epoch: 08, loss: -0.02500\n",
      "epoch: 09, loss: -0.02536\n",
      "torch.Size([425, 64])\n"
     ]
    },
    {
     "name": "stderr",
     "output_type": "stream",
     "text": [
      " 42%|████▏     | 423/1000 [2:53:43<4:46:29, 29.79s/it]"
     ]
    },
    {
     "name": "stdout",
     "output_type": "stream",
     "text": [
      "eigenvalues shape torch.Size([5]) eigenvectors shape torch.Size([5, 425])\n",
      "423 /home/phdcs2/Hard_Disk/Datasets/Deep-Spectral-Segmentation/data/object-segmentation/ECSSD/features/dino_vits16/0424.pth\n",
      "dict_keys(['k', 'indices', 'file', 'id', 'model_name', 'patch_size', 'shape'])\n",
      "0424\n",
      "Starting Training\n",
      "epoch: 00, loss: -0.00021\n",
      "epoch: 01, loss: -0.02516\n",
      "epoch: 02, loss: -0.03197\n",
      "epoch: 03, loss: -0.03233\n",
      "epoch: 04, loss: -0.03096\n",
      "epoch: 05, loss: -0.03329\n",
      "epoch: 06, loss: -0.03359\n",
      "epoch: 07, loss: -0.03400\n",
      "epoch: 08, loss: -0.03525\n",
      "epoch: 09, loss: -0.03550\n",
      "torch.Size([550, 64])\n"
     ]
    },
    {
     "name": "stderr",
     "output_type": "stream",
     "text": [
      " 42%|████▏     | 424/1000 [2:54:25<5:20:28, 33.38s/it]"
     ]
    },
    {
     "name": "stdout",
     "output_type": "stream",
     "text": [
      "eigenvalues shape torch.Size([5]) eigenvectors shape torch.Size([5, 550])\n",
      "424 /home/phdcs2/Hard_Disk/Datasets/Deep-Spectral-Segmentation/data/object-segmentation/ECSSD/features/dino_vits16/0425.pth\n",
      "dict_keys(['k', 'indices', 'file', 'id', 'model_name', 'patch_size', 'shape'])\n",
      "0425\n",
      "Starting Training\n",
      "epoch: 00, loss: 0.00438\n",
      "epoch: 01, loss: -0.00327\n",
      "epoch: 02, loss: -0.00607\n",
      "epoch: 03, loss: -0.00837\n",
      "epoch: 04, loss: -0.00917\n",
      "epoch: 05, loss: -0.00888\n",
      "epoch: 06, loss: -0.00933\n",
      "epoch: 07, loss: -0.00945\n",
      "epoch: 08, loss: -0.00956\n",
      "epoch: 09, loss: -0.01091\n",
      "torch.Size([475, 64])\n"
     ]
    },
    {
     "name": "stderr",
     "output_type": "stream",
     "text": [
      " 42%|████▎     | 425/1000 [2:54:52<5:03:00, 31.62s/it]"
     ]
    },
    {
     "name": "stdout",
     "output_type": "stream",
     "text": [
      "eigenvalues shape torch.Size([5]) eigenvectors shape torch.Size([5, 475])\n",
      "425 /home/phdcs2/Hard_Disk/Datasets/Deep-Spectral-Segmentation/data/object-segmentation/ECSSD/features/dino_vits16/0426.pth\n",
      "dict_keys(['k', 'indices', 'file', 'id', 'model_name', 'patch_size', 'shape'])\n",
      "0426\n",
      "Starting Training\n",
      "epoch: 00, loss: -0.03138\n",
      "epoch: 01, loss: -0.05676\n",
      "epoch: 02, loss: -0.06274\n",
      "epoch: 03, loss: -0.06511\n",
      "epoch: 04, loss: -0.06414\n",
      "epoch: 05, loss: -0.06423\n",
      "epoch: 06, loss: -0.06588\n",
      "epoch: 07, loss: -0.06566\n",
      "epoch: 08, loss: -0.06612\n",
      "epoch: 09, loss: -0.06683\n",
      "torch.Size([500, 64])\n"
     ]
    },
    {
     "name": "stderr",
     "output_type": "stream",
     "text": [
      " 43%|████▎     | 426/1000 [2:55:22<4:57:19, 31.08s/it]"
     ]
    },
    {
     "name": "stdout",
     "output_type": "stream",
     "text": [
      "eigenvalues shape torch.Size([5]) eigenvectors shape torch.Size([5, 500])\n",
      "426 /home/phdcs2/Hard_Disk/Datasets/Deep-Spectral-Segmentation/data/object-segmentation/ECSSD/features/dino_vits16/0427.pth\n",
      "dict_keys(['k', 'indices', 'file', 'id', 'model_name', 'patch_size', 'shape'])\n",
      "0427\n",
      "Starting Training\n",
      "epoch: 00, loss: -0.07302\n",
      "epoch: 01, loss: -0.09738\n",
      "epoch: 02, loss: -0.09908\n",
      "epoch: 03, loss: -0.09888\n",
      "epoch: 04, loss: -0.10092\n",
      "epoch: 05, loss: -0.10077\n",
      "epoch: 06, loss: -0.10229\n",
      "epoch: 07, loss: -0.10235\n",
      "epoch: 08, loss: -0.10128\n",
      "epoch: 09, loss: -0.10289\n",
      "torch.Size([450, 64])\n"
     ]
    },
    {
     "name": "stderr",
     "output_type": "stream",
     "text": [
      " 43%|████▎     | 427/1000 [2:55:51<4:48:52, 30.25s/it]"
     ]
    },
    {
     "name": "stdout",
     "output_type": "stream",
     "text": [
      "eigenvalues shape torch.Size([5]) eigenvectors shape torch.Size([5, 450])\n",
      "427 /home/phdcs2/Hard_Disk/Datasets/Deep-Spectral-Segmentation/data/object-segmentation/ECSSD/features/dino_vits16/0428.pth\n",
      "dict_keys(['k', 'indices', 'file', 'id', 'model_name', 'patch_size', 'shape'])\n",
      "0428\n",
      "Starting Training\n",
      "epoch: 00, loss: -0.04730\n",
      "epoch: 01, loss: -0.07089\n",
      "epoch: 02, loss: -0.07148\n",
      "epoch: 03, loss: -0.07206\n",
      "epoch: 04, loss: -0.07217\n",
      "epoch: 05, loss: -0.07235\n",
      "epoch: 06, loss: -0.07253\n",
      "epoch: 07, loss: -0.07271\n",
      "epoch: 08, loss: -0.07273\n",
      "epoch: 09, loss: -0.07274\n",
      "torch.Size([400, 64])\n"
     ]
    },
    {
     "name": "stderr",
     "output_type": "stream",
     "text": [
      " 43%|████▎     | 428/1000 [2:56:15<4:32:19, 28.57s/it]"
     ]
    },
    {
     "name": "stdout",
     "output_type": "stream",
     "text": [
      "eigenvalues shape torch.Size([5]) eigenvectors shape torch.Size([5, 400])\n",
      "428 /home/phdcs2/Hard_Disk/Datasets/Deep-Spectral-Segmentation/data/object-segmentation/ECSSD/features/dino_vits16/0429.pth\n",
      "dict_keys(['k', 'indices', 'file', 'id', 'model_name', 'patch_size', 'shape'])\n",
      "0429\n",
      "Starting Training\n",
      "epoch: 00, loss: -0.03012\n",
      "epoch: 01, loss: -0.05830\n",
      "epoch: 02, loss: -0.06173\n",
      "epoch: 03, loss: -0.06434\n",
      "epoch: 04, loss: -0.06719\n",
      "epoch: 05, loss: -0.06289\n",
      "epoch: 06, loss: -0.06589\n",
      "epoch: 07, loss: -0.06383\n",
      "epoch: 08, loss: -0.06364\n",
      "epoch: 09, loss: -0.06575\n",
      "torch.Size([375, 64])\n"
     ]
    },
    {
     "name": "stderr",
     "output_type": "stream",
     "text": [
      " 43%|████▎     | 429/1000 [2:56:39<4:18:01, 27.11s/it]"
     ]
    },
    {
     "name": "stdout",
     "output_type": "stream",
     "text": [
      "eigenvalues shape torch.Size([5]) eigenvectors shape torch.Size([5, 375])\n",
      "429 /home/phdcs2/Hard_Disk/Datasets/Deep-Spectral-Segmentation/data/object-segmentation/ECSSD/features/dino_vits16/0430.pth\n",
      "dict_keys(['k', 'indices', 'file', 'id', 'model_name', 'patch_size', 'shape'])\n",
      "0430\n",
      "Starting Training\n",
      "epoch: 00, loss: -0.04163\n",
      "epoch: 01, loss: -0.05824\n",
      "epoch: 02, loss: -0.05930\n",
      "epoch: 03, loss: -0.05934\n",
      "epoch: 04, loss: -0.06003\n",
      "epoch: 05, loss: -0.05969\n",
      "epoch: 06, loss: -0.06009\n",
      "epoch: 07, loss: -0.06038\n",
      "epoch: 08, loss: -0.06038\n",
      "epoch: 09, loss: -0.06044\n",
      "torch.Size([500, 64])\n"
     ]
    },
    {
     "name": "stderr",
     "output_type": "stream",
     "text": [
      " 43%|████▎     | 430/1000 [2:57:10<4:28:32, 28.27s/it]"
     ]
    },
    {
     "name": "stdout",
     "output_type": "stream",
     "text": [
      "eigenvalues shape torch.Size([5]) eigenvectors shape torch.Size([5, 500])\n",
      "430 /home/phdcs2/Hard_Disk/Datasets/Deep-Spectral-Segmentation/data/object-segmentation/ECSSD/features/dino_vits16/0431.pth\n",
      "dict_keys(['k', 'indices', 'file', 'id', 'model_name', 'patch_size', 'shape'])\n",
      "0431\n",
      "Starting Training\n",
      "epoch: 00, loss: 0.00473\n",
      "epoch: 01, loss: -0.00960\n",
      "epoch: 02, loss: -0.01682\n",
      "epoch: 03, loss: -0.02035\n",
      "epoch: 04, loss: -0.02211\n",
      "epoch: 05, loss: -0.02275\n",
      "epoch: 06, loss: -0.02345\n",
      "epoch: 07, loss: -0.02391\n",
      "epoch: 08, loss: -0.02414\n",
      "epoch: 09, loss: -0.02412\n",
      "torch.Size([400, 64])\n"
     ]
    },
    {
     "name": "stderr",
     "output_type": "stream",
     "text": [
      " 43%|████▎     | 431/1000 [2:57:32<4:11:17, 26.50s/it]"
     ]
    },
    {
     "name": "stdout",
     "output_type": "stream",
     "text": [
      "eigenvalues shape torch.Size([5]) eigenvectors shape torch.Size([5, 400])\n",
      "431 /home/phdcs2/Hard_Disk/Datasets/Deep-Spectral-Segmentation/data/object-segmentation/ECSSD/features/dino_vits16/0432.pth\n",
      "dict_keys(['k', 'indices', 'file', 'id', 'model_name', 'patch_size', 'shape'])\n",
      "0432\n",
      "Starting Training\n",
      "epoch: 00, loss: -0.01254\n",
      "epoch: 01, loss: -0.03527\n",
      "epoch: 02, loss: -0.03704\n",
      "epoch: 03, loss: -0.03780\n",
      "epoch: 04, loss: -0.03895\n",
      "epoch: 05, loss: -0.03992\n",
      "epoch: 06, loss: -0.03899\n",
      "epoch: 07, loss: -0.03995\n",
      "epoch: 08, loss: -0.04052\n",
      "epoch: 09, loss: -0.04031\n",
      "torch.Size([425, 64])\n"
     ]
    },
    {
     "name": "stderr",
     "output_type": "stream",
     "text": [
      " 43%|████▎     | 432/1000 [2:57:58<4:08:44, 26.27s/it]"
     ]
    },
    {
     "name": "stdout",
     "output_type": "stream",
     "text": [
      "eigenvalues shape torch.Size([5]) eigenvectors shape torch.Size([5, 425])\n",
      "432 /home/phdcs2/Hard_Disk/Datasets/Deep-Spectral-Segmentation/data/object-segmentation/ECSSD/features/dino_vits16/0433.pth\n",
      "dict_keys(['k', 'indices', 'file', 'id', 'model_name', 'patch_size', 'shape'])\n",
      "0433\n",
      "Starting Training\n",
      "epoch: 00, loss: -0.02412\n",
      "epoch: 01, loss: -0.05291\n",
      "epoch: 02, loss: -0.05762\n",
      "epoch: 03, loss: -0.05561\n",
      "epoch: 04, loss: -0.06295\n",
      "epoch: 05, loss: -0.06015\n",
      "epoch: 06, loss: -0.06148\n",
      "epoch: 07, loss: -0.05999\n",
      "epoch: 08, loss: -0.06262\n",
      "epoch: 09, loss: -0.06188\n",
      "torch.Size([475, 64])\n"
     ]
    },
    {
     "name": "stderr",
     "output_type": "stream",
     "text": [
      " 43%|████▎     | 433/1000 [2:58:24<4:08:02, 26.25s/it]"
     ]
    },
    {
     "name": "stdout",
     "output_type": "stream",
     "text": [
      "eigenvalues shape torch.Size([5]) eigenvectors shape torch.Size([5, 475])\n",
      "433 /home/phdcs2/Hard_Disk/Datasets/Deep-Spectral-Segmentation/data/object-segmentation/ECSSD/features/dino_vits16/0434.pth\n",
      "dict_keys(['k', 'indices', 'file', 'id', 'model_name', 'patch_size', 'shape'])\n",
      "0434\n",
      "Starting Training\n",
      "epoch: 00, loss: -0.03290\n",
      "epoch: 01, loss: -0.04918\n",
      "epoch: 02, loss: -0.05047\n",
      "epoch: 03, loss: -0.05106\n",
      "epoch: 04, loss: -0.05093\n",
      "epoch: 05, loss: -0.05174\n",
      "epoch: 06, loss: -0.05163\n",
      "epoch: 07, loss: -0.05173\n",
      "epoch: 08, loss: -0.05187\n",
      "epoch: 09, loss: -0.05178\n",
      "torch.Size([450, 64])\n"
     ]
    },
    {
     "name": "stderr",
     "output_type": "stream",
     "text": [
      " 43%|████▎     | 434/1000 [2:58:50<4:07:20, 26.22s/it]"
     ]
    },
    {
     "name": "stdout",
     "output_type": "stream",
     "text": [
      "eigenvalues shape torch.Size([5]) eigenvectors shape torch.Size([5, 450])\n",
      "434 /home/phdcs2/Hard_Disk/Datasets/Deep-Spectral-Segmentation/data/object-segmentation/ECSSD/features/dino_vits16/0435.pth\n",
      "dict_keys(['k', 'indices', 'file', 'id', 'model_name', 'patch_size', 'shape'])\n",
      "0435\n",
      "Starting Training\n",
      "epoch: 00, loss: -0.05976\n",
      "epoch: 01, loss: -0.07814\n",
      "epoch: 02, loss: -0.08354\n",
      "epoch: 03, loss: -0.08277\n",
      "epoch: 04, loss: -0.08396\n",
      "epoch: 05, loss: -0.08740\n",
      "epoch: 06, loss: -0.08523\n",
      "epoch: 07, loss: -0.08691\n",
      "epoch: 08, loss: -0.08745\n",
      "epoch: 09, loss: -0.08656\n",
      "torch.Size([450, 64])\n"
     ]
    },
    {
     "name": "stderr",
     "output_type": "stream",
     "text": [
      " 44%|████▎     | 435/1000 [2:59:12<3:54:08, 24.86s/it]"
     ]
    },
    {
     "name": "stdout",
     "output_type": "stream",
     "text": [
      "eigenvalues shape torch.Size([5]) eigenvectors shape torch.Size([5, 450])\n",
      "435 /home/phdcs2/Hard_Disk/Datasets/Deep-Spectral-Segmentation/data/object-segmentation/ECSSD/features/dino_vits16/0436.pth\n",
      "dict_keys(['k', 'indices', 'file', 'id', 'model_name', 'patch_size', 'shape'])\n",
      "0436\n",
      "Starting Training\n",
      "epoch: 00, loss: -0.06728\n",
      "epoch: 01, loss: -0.09556\n",
      "epoch: 02, loss: -0.09863\n",
      "epoch: 03, loss: -0.09836\n",
      "epoch: 04, loss: -0.10118\n",
      "epoch: 05, loss: -0.09955\n",
      "epoch: 06, loss: -0.10124\n",
      "epoch: 07, loss: -0.09994\n",
      "epoch: 08, loss: -0.10216\n",
      "epoch: 09, loss: -0.10182\n",
      "torch.Size([475, 64])\n"
     ]
    },
    {
     "name": "stderr",
     "output_type": "stream",
     "text": [
      " 44%|████▎     | 436/1000 [2:59:39<3:59:22, 25.47s/it]"
     ]
    },
    {
     "name": "stdout",
     "output_type": "stream",
     "text": [
      "eigenvalues shape torch.Size([5]) eigenvectors shape torch.Size([5, 475])\n",
      "436 /home/phdcs2/Hard_Disk/Datasets/Deep-Spectral-Segmentation/data/object-segmentation/ECSSD/features/dino_vits16/0437.pth\n",
      "dict_keys(['k', 'indices', 'file', 'id', 'model_name', 'patch_size', 'shape'])\n",
      "0437\n",
      "Starting Training\n",
      "epoch: 00, loss: 0.00544\n",
      "epoch: 01, loss: -0.00170\n",
      "epoch: 02, loss: -0.00515\n",
      "epoch: 03, loss: -0.00687\n",
      "epoch: 04, loss: -0.00817\n",
      "epoch: 05, loss: -0.00895\n",
      "epoch: 06, loss: -0.00934\n",
      "epoch: 07, loss: -0.00987\n",
      "epoch: 08, loss: -0.01017\n",
      "epoch: 09, loss: -0.01043\n",
      "torch.Size([450, 64])\n"
     ]
    },
    {
     "name": "stderr",
     "output_type": "stream",
     "text": [
      " 44%|████▎     | 437/1000 [3:00:02<3:52:52, 24.82s/it]"
     ]
    },
    {
     "name": "stdout",
     "output_type": "stream",
     "text": [
      "eigenvalues shape torch.Size([5]) eigenvectors shape torch.Size([5, 450])\n",
      "437 /home/phdcs2/Hard_Disk/Datasets/Deep-Spectral-Segmentation/data/object-segmentation/ECSSD/features/dino_vits16/0438.pth\n",
      "dict_keys(['k', 'indices', 'file', 'id', 'model_name', 'patch_size', 'shape'])\n",
      "0438\n",
      "Starting Training\n",
      "epoch: 00, loss: -0.02634\n",
      "epoch: 01, loss: -0.05497\n",
      "epoch: 02, loss: -0.06138\n",
      "epoch: 03, loss: -0.06052\n",
      "epoch: 04, loss: -0.06224\n",
      "epoch: 05, loss: -0.06182\n",
      "epoch: 06, loss: -0.06324\n",
      "epoch: 07, loss: -0.06432\n",
      "epoch: 08, loss: -0.06333\n",
      "epoch: 09, loss: -0.06387\n",
      "torch.Size([450, 64])\n"
     ]
    },
    {
     "name": "stderr",
     "output_type": "stream",
     "text": [
      " 44%|████▍     | 438/1000 [3:00:29<3:58:59, 25.51s/it]"
     ]
    },
    {
     "name": "stdout",
     "output_type": "stream",
     "text": [
      "eigenvalues shape torch.Size([5]) eigenvectors shape torch.Size([5, 450])\n",
      "438 /home/phdcs2/Hard_Disk/Datasets/Deep-Spectral-Segmentation/data/object-segmentation/ECSSD/features/dino_vits16/0439.pth\n",
      "dict_keys(['k', 'indices', 'file', 'id', 'model_name', 'patch_size', 'shape'])\n",
      "0439\n",
      "Starting Training\n",
      "epoch: 00, loss: -0.01697\n",
      "epoch: 01, loss: -0.03671\n",
      "epoch: 02, loss: -0.04111\n",
      "epoch: 03, loss: -0.04197\n",
      "epoch: 04, loss: -0.04337\n",
      "epoch: 05, loss: -0.04220\n",
      "epoch: 06, loss: -0.04280\n",
      "epoch: 07, loss: -0.04307\n",
      "epoch: 08, loss: -0.04540\n",
      "epoch: 09, loss: -0.04352\n",
      "torch.Size([575, 64])\n"
     ]
    },
    {
     "name": "stderr",
     "output_type": "stream",
     "text": [
      " 44%|████▍     | 439/1000 [3:01:18<5:02:08, 32.32s/it]"
     ]
    },
    {
     "name": "stdout",
     "output_type": "stream",
     "text": [
      "eigenvalues shape torch.Size([5]) eigenvectors shape torch.Size([5, 575])\n",
      "439 /home/phdcs2/Hard_Disk/Datasets/Deep-Spectral-Segmentation/data/object-segmentation/ECSSD/features/dino_vits16/0440.pth\n",
      "dict_keys(['k', 'indices', 'file', 'id', 'model_name', 'patch_size', 'shape'])\n",
      "0440\n",
      "Starting Training\n",
      "epoch: 00, loss: -0.02916\n",
      "epoch: 01, loss: -0.05463\n",
      "epoch: 02, loss: -0.06127\n",
      "epoch: 03, loss: -0.06475\n",
      "epoch: 04, loss: -0.06152\n",
      "epoch: 05, loss: -0.06250\n",
      "epoch: 06, loss: -0.06387\n",
      "epoch: 07, loss: -0.06399\n",
      "epoch: 08, loss: -0.06282\n",
      "epoch: 09, loss: -0.06169\n",
      "torch.Size([450, 64])\n"
     ]
    },
    {
     "name": "stderr",
     "output_type": "stream",
     "text": [
      " 44%|████▍     | 440/1000 [3:01:44<4:43:50, 30.41s/it]"
     ]
    },
    {
     "name": "stdout",
     "output_type": "stream",
     "text": [
      "eigenvalues shape torch.Size([5]) eigenvectors shape torch.Size([5, 450])\n",
      "440 /home/phdcs2/Hard_Disk/Datasets/Deep-Spectral-Segmentation/data/object-segmentation/ECSSD/features/dino_vits16/0441.pth\n",
      "dict_keys(['k', 'indices', 'file', 'id', 'model_name', 'patch_size', 'shape'])\n",
      "0441\n",
      "Starting Training\n",
      "epoch: 00, loss: -0.04552\n",
      "epoch: 01, loss: -0.06210\n",
      "epoch: 02, loss: -0.06336\n",
      "epoch: 03, loss: -0.06351\n",
      "epoch: 04, loss: -0.06393\n",
      "epoch: 05, loss: -0.06398\n",
      "epoch: 06, loss: -0.06443\n",
      "epoch: 07, loss: -0.06453\n",
      "epoch: 08, loss: -0.06452\n",
      "epoch: 09, loss: -0.06479\n",
      "torch.Size([450, 64])\n"
     ]
    },
    {
     "name": "stderr",
     "output_type": "stream",
     "text": [
      " 44%|████▍     | 441/1000 [3:02:09<4:30:19, 29.01s/it]"
     ]
    },
    {
     "name": "stdout",
     "output_type": "stream",
     "text": [
      "eigenvalues shape torch.Size([5]) eigenvectors shape torch.Size([5, 450])\n",
      "441 /home/phdcs2/Hard_Disk/Datasets/Deep-Spectral-Segmentation/data/object-segmentation/ECSSD/features/dino_vits16/0442.pth\n",
      "dict_keys(['k', 'indices', 'file', 'id', 'model_name', 'patch_size', 'shape'])\n",
      "0442\n",
      "Starting Training\n",
      "epoch: 00, loss: -0.01302\n",
      "epoch: 01, loss: -0.03265\n",
      "epoch: 02, loss: -0.03575\n",
      "epoch: 03, loss: -0.03706\n",
      "epoch: 04, loss: -0.03684\n",
      "epoch: 05, loss: -0.03717\n",
      "epoch: 06, loss: -0.03792\n",
      "epoch: 07, loss: -0.03783\n",
      "epoch: 08, loss: -0.03765\n",
      "epoch: 09, loss: -0.03896\n",
      "torch.Size([475, 64])\n"
     ]
    },
    {
     "name": "stderr",
     "output_type": "stream",
     "text": [
      " 44%|████▍     | 442/1000 [3:02:36<4:24:41, 28.46s/it]"
     ]
    },
    {
     "name": "stdout",
     "output_type": "stream",
     "text": [
      "eigenvalues shape torch.Size([5]) eigenvectors shape torch.Size([5, 475])\n",
      "442 /home/phdcs2/Hard_Disk/Datasets/Deep-Spectral-Segmentation/data/object-segmentation/ECSSD/features/dino_vits16/0443.pth\n",
      "dict_keys(['k', 'indices', 'file', 'id', 'model_name', 'patch_size', 'shape'])\n",
      "0443\n",
      "Starting Training\n",
      "epoch: 00, loss: -0.05110\n",
      "epoch: 01, loss: -0.07342\n",
      "epoch: 02, loss: -0.07670\n",
      "epoch: 03, loss: -0.07922\n",
      "epoch: 04, loss: -0.07691\n",
      "epoch: 05, loss: -0.07765\n",
      "epoch: 06, loss: -0.08031\n",
      "epoch: 07, loss: -0.07967\n",
      "epoch: 08, loss: -0.07951\n",
      "epoch: 09, loss: -0.08047\n",
      "torch.Size([450, 64])\n"
     ]
    },
    {
     "name": "stderr",
     "output_type": "stream",
     "text": [
      " 44%|████▍     | 443/1000 [3:02:57<4:01:17, 25.99s/it]"
     ]
    },
    {
     "name": "stdout",
     "output_type": "stream",
     "text": [
      "eigenvalues shape torch.Size([5]) eigenvectors shape torch.Size([5, 450])\n",
      "443 /home/phdcs2/Hard_Disk/Datasets/Deep-Spectral-Segmentation/data/object-segmentation/ECSSD/features/dino_vits16/0444.pth\n",
      "dict_keys(['k', 'indices', 'file', 'id', 'model_name', 'patch_size', 'shape'])\n",
      "0444\n",
      "Starting Training\n",
      "epoch: 00, loss: -0.03817\n",
      "epoch: 01, loss: -0.06868\n",
      "epoch: 02, loss: -0.07272\n",
      "epoch: 03, loss: -0.07490\n",
      "epoch: 04, loss: -0.07892\n",
      "epoch: 05, loss: -0.07782\n",
      "epoch: 06, loss: -0.07563\n",
      "epoch: 07, loss: -0.07645\n",
      "epoch: 08, loss: -0.07673\n",
      "epoch: 09, loss: -0.07806\n",
      "torch.Size([450, 64])\n"
     ]
    },
    {
     "name": "stderr",
     "output_type": "stream",
     "text": [
      " 44%|████▍     | 444/1000 [3:03:23<4:01:53, 26.10s/it]"
     ]
    },
    {
     "name": "stdout",
     "output_type": "stream",
     "text": [
      "eigenvalues shape torch.Size([5]) eigenvectors shape torch.Size([5, 450])\n",
      "444 /home/phdcs2/Hard_Disk/Datasets/Deep-Spectral-Segmentation/data/object-segmentation/ECSSD/features/dino_vits16/0445.pth\n",
      "dict_keys(['k', 'indices', 'file', 'id', 'model_name', 'patch_size', 'shape'])\n",
      "0445\n",
      "Starting Training\n",
      "epoch: 00, loss: -0.00983\n",
      "epoch: 01, loss: -0.03514\n",
      "epoch: 02, loss: -0.04017\n",
      "epoch: 03, loss: -0.04181\n",
      "epoch: 04, loss: -0.04175\n",
      "epoch: 05, loss: -0.04206\n",
      "epoch: 06, loss: -0.04223\n",
      "epoch: 07, loss: -0.04221\n",
      "epoch: 08, loss: -0.04236\n",
      "epoch: 09, loss: -0.04252\n",
      "torch.Size([400, 64])\n"
     ]
    },
    {
     "name": "stderr",
     "output_type": "stream",
     "text": [
      " 44%|████▍     | 445/1000 [3:03:41<3:38:28, 23.62s/it]"
     ]
    },
    {
     "name": "stdout",
     "output_type": "stream",
     "text": [
      "eigenvalues shape torch.Size([5]) eigenvectors shape torch.Size([5, 400])\n",
      "445 /home/phdcs2/Hard_Disk/Datasets/Deep-Spectral-Segmentation/data/object-segmentation/ECSSD/features/dino_vits16/0446.pth\n",
      "dict_keys(['k', 'indices', 'file', 'id', 'model_name', 'patch_size', 'shape'])\n",
      "0446\n",
      "Starting Training\n",
      "epoch: 00, loss: -0.03909\n",
      "epoch: 01, loss: -0.06688\n",
      "epoch: 02, loss: -0.06788\n",
      "epoch: 03, loss: -0.06851\n",
      "epoch: 04, loss: -0.06867\n",
      "epoch: 05, loss: -0.06881\n",
      "epoch: 06, loss: -0.06900\n",
      "epoch: 07, loss: -0.06912\n",
      "epoch: 08, loss: -0.06941\n",
      "epoch: 09, loss: -0.06926\n",
      "torch.Size([400, 64])\n"
     ]
    },
    {
     "name": "stderr",
     "output_type": "stream",
     "text": [
      " 45%|████▍     | 446/1000 [3:04:02<3:29:48, 22.72s/it]"
     ]
    },
    {
     "name": "stdout",
     "output_type": "stream",
     "text": [
      "eigenvalues shape torch.Size([5]) eigenvectors shape torch.Size([5, 400])\n",
      "446 /home/phdcs2/Hard_Disk/Datasets/Deep-Spectral-Segmentation/data/object-segmentation/ECSSD/features/dino_vits16/0447.pth\n",
      "dict_keys(['k', 'indices', 'file', 'id', 'model_name', 'patch_size', 'shape'])\n",
      "0447\n",
      "Starting Training\n",
      "epoch: 00, loss: -0.02504\n",
      "epoch: 01, loss: -0.04892\n",
      "epoch: 02, loss: -0.05030\n",
      "epoch: 03, loss: -0.05514\n",
      "epoch: 04, loss: -0.05214\n",
      "epoch: 05, loss: -0.05479\n",
      "epoch: 06, loss: -0.05558\n",
      "epoch: 07, loss: -0.05581\n",
      "epoch: 08, loss: -0.05395\n",
      "epoch: 09, loss: -0.05498\n",
      "torch.Size([400, 64])\n"
     ]
    },
    {
     "name": "stderr",
     "output_type": "stream",
     "text": [
      " 45%|████▍     | 447/1000 [3:04:19<3:13:56, 21.04s/it]"
     ]
    },
    {
     "name": "stdout",
     "output_type": "stream",
     "text": [
      "eigenvalues shape torch.Size([5]) eigenvectors shape torch.Size([5, 400])\n",
      "447 /home/phdcs2/Hard_Disk/Datasets/Deep-Spectral-Segmentation/data/object-segmentation/ECSSD/features/dino_vits16/0448.pth\n",
      "dict_keys(['k', 'indices', 'file', 'id', 'model_name', 'patch_size', 'shape'])\n",
      "0448\n",
      "Starting Training\n",
      "epoch: 00, loss: -0.03902\n",
      "epoch: 01, loss: -0.05662\n",
      "epoch: 02, loss: -0.05859\n",
      "epoch: 03, loss: -0.05907\n",
      "epoch: 04, loss: -0.05925\n",
      "epoch: 05, loss: -0.05950\n",
      "epoch: 06, loss: -0.05963\n",
      "epoch: 07, loss: -0.05967\n",
      "epoch: 08, loss: -0.05980\n",
      "epoch: 09, loss: -0.05995\n",
      "torch.Size([350, 64])\n"
     ]
    },
    {
     "name": "stderr",
     "output_type": "stream",
     "text": [
      " 45%|████▍     | 448/1000 [3:04:38<3:09:15, 20.57s/it]"
     ]
    },
    {
     "name": "stdout",
     "output_type": "stream",
     "text": [
      "eigenvalues shape torch.Size([5]) eigenvectors shape torch.Size([5, 350])\n",
      "448 /home/phdcs2/Hard_Disk/Datasets/Deep-Spectral-Segmentation/data/object-segmentation/ECSSD/features/dino_vits16/0449.pth\n",
      "dict_keys(['k', 'indices', 'file', 'id', 'model_name', 'patch_size', 'shape'])\n",
      "0449\n",
      "Starting Training\n",
      "epoch: 00, loss: -0.06685\n",
      "epoch: 01, loss: -0.09699\n",
      "epoch: 02, loss: -0.10273\n",
      "epoch: 03, loss: -0.09947\n",
      "epoch: 04, loss: -0.10185\n",
      "epoch: 05, loss: -0.10252\n",
      "epoch: 06, loss: -0.10457\n",
      "epoch: 07, loss: -0.10214\n",
      "epoch: 08, loss: -0.10736\n",
      "epoch: 09, loss: -0.10548\n",
      "torch.Size([475, 64])\n"
     ]
    },
    {
     "name": "stderr",
     "output_type": "stream",
     "text": [
      " 45%|████▍     | 449/1000 [3:05:03<3:20:52, 21.87s/it]"
     ]
    },
    {
     "name": "stdout",
     "output_type": "stream",
     "text": [
      "eigenvalues shape torch.Size([5]) eigenvectors shape torch.Size([5, 475])\n",
      "449 /home/phdcs2/Hard_Disk/Datasets/Deep-Spectral-Segmentation/data/object-segmentation/ECSSD/features/dino_vits16/0450.pth\n",
      "dict_keys(['k', 'indices', 'file', 'id', 'model_name', 'patch_size', 'shape'])\n",
      "0450\n",
      "Starting Training\n",
      "epoch: 00, loss: -0.04485\n",
      "epoch: 01, loss: -0.06750\n",
      "epoch: 02, loss: -0.06875\n",
      "epoch: 03, loss: -0.06897\n",
      "epoch: 04, loss: -0.06914\n",
      "epoch: 05, loss: -0.06956\n",
      "epoch: 06, loss: -0.06961\n",
      "epoch: 07, loss: -0.06966\n",
      "epoch: 08, loss: -0.06976\n",
      "epoch: 09, loss: -0.06989\n",
      "torch.Size([400, 64])\n"
     ]
    },
    {
     "name": "stderr",
     "output_type": "stream",
     "text": [
      " 45%|████▌     | 450/1000 [3:05:21<3:10:25, 20.77s/it]"
     ]
    },
    {
     "name": "stdout",
     "output_type": "stream",
     "text": [
      "eigenvalues shape torch.Size([5]) eigenvectors shape torch.Size([5, 400])\n",
      "450 /home/phdcs2/Hard_Disk/Datasets/Deep-Spectral-Segmentation/data/object-segmentation/ECSSD/features/dino_vits16/0451.pth\n",
      "dict_keys(['k', 'indices', 'file', 'id', 'model_name', 'patch_size', 'shape'])\n",
      "0451\n",
      "Starting Training\n",
      "epoch: 00, loss: -0.05072\n",
      "epoch: 01, loss: -0.07661\n",
      "epoch: 02, loss: -0.07748\n",
      "epoch: 03, loss: -0.07784\n",
      "epoch: 04, loss: -0.07879\n",
      "epoch: 05, loss: -0.07831\n",
      "epoch: 06, loss: -0.07894\n",
      "epoch: 07, loss: -0.07880\n",
      "epoch: 08, loss: -0.07912\n",
      "epoch: 09, loss: -0.07898\n",
      "torch.Size([450, 64])\n"
     ]
    },
    {
     "name": "stderr",
     "output_type": "stream",
     "text": [
      " 45%|████▌     | 451/1000 [3:05:41<3:06:08, 20.34s/it]"
     ]
    },
    {
     "name": "stdout",
     "output_type": "stream",
     "text": [
      "eigenvalues shape torch.Size([5]) eigenvectors shape torch.Size([5, 450])\n",
      "451 /home/phdcs2/Hard_Disk/Datasets/Deep-Spectral-Segmentation/data/object-segmentation/ECSSD/features/dino_vits16/0452.pth\n",
      "dict_keys(['k', 'indices', 'file', 'id', 'model_name', 'patch_size', 'shape'])\n",
      "0452\n",
      "Starting Training\n",
      "epoch: 00, loss: -0.02881\n",
      "epoch: 01, loss: -0.06248\n",
      "epoch: 02, loss: -0.06518\n",
      "epoch: 03, loss: -0.06626\n",
      "epoch: 04, loss: -0.06618\n",
      "epoch: 05, loss: -0.06784\n",
      "epoch: 06, loss: -0.06947\n",
      "epoch: 07, loss: -0.06873\n",
      "epoch: 08, loss: -0.07030\n",
      "epoch: 09, loss: -0.07230\n",
      "torch.Size([475, 64])\n"
     ]
    },
    {
     "name": "stderr",
     "output_type": "stream",
     "text": [
      " 45%|████▌     | 452/1000 [3:06:06<3:19:11, 21.81s/it]"
     ]
    },
    {
     "name": "stdout",
     "output_type": "stream",
     "text": [
      "eigenvalues shape torch.Size([5]) eigenvectors shape torch.Size([5, 475])\n",
      "452 /home/phdcs2/Hard_Disk/Datasets/Deep-Spectral-Segmentation/data/object-segmentation/ECSSD/features/dino_vits16/0453.pth\n",
      "dict_keys(['k', 'indices', 'file', 'id', 'model_name', 'patch_size', 'shape'])\n",
      "0453\n",
      "Starting Training\n",
      "epoch: 00, loss: -0.01371\n",
      "epoch: 01, loss: -0.04729\n",
      "epoch: 02, loss: -0.05022\n",
      "epoch: 03, loss: -0.05400\n",
      "epoch: 04, loss: -0.05503\n",
      "epoch: 05, loss: -0.05434\n",
      "epoch: 06, loss: -0.05771\n",
      "epoch: 07, loss: -0.05768\n",
      "epoch: 08, loss: -0.05753\n",
      "epoch: 09, loss: -0.05607\n",
      "torch.Size([400, 64])\n"
     ]
    },
    {
     "name": "stderr",
     "output_type": "stream",
     "text": [
      " 45%|████▌     | 453/1000 [3:06:27<3:18:06, 21.73s/it]"
     ]
    },
    {
     "name": "stdout",
     "output_type": "stream",
     "text": [
      "eigenvalues shape torch.Size([5]) eigenvectors shape torch.Size([5, 400])\n",
      "453 /home/phdcs2/Hard_Disk/Datasets/Deep-Spectral-Segmentation/data/object-segmentation/ECSSD/features/dino_vits16/0454.pth\n",
      "dict_keys(['k', 'indices', 'file', 'id', 'model_name', 'patch_size', 'shape'])\n",
      "0454\n",
      "Starting Training\n",
      "epoch: 00, loss: -0.02614\n",
      "epoch: 01, loss: -0.05305\n",
      "epoch: 02, loss: -0.06176\n",
      "epoch: 03, loss: -0.06322\n",
      "epoch: 04, loss: -0.06584\n",
      "epoch: 05, loss: -0.06443\n",
      "epoch: 06, loss: -0.06674\n",
      "epoch: 07, loss: -0.06448\n",
      "epoch: 08, loss: -0.06749\n",
      "epoch: 09, loss: -0.06725\n",
      "torch.Size([400, 64])\n"
     ]
    },
    {
     "name": "stderr",
     "output_type": "stream",
     "text": [
      " 45%|████▌     | 454/1000 [3:06:50<3:21:13, 22.11s/it]"
     ]
    },
    {
     "name": "stdout",
     "output_type": "stream",
     "text": [
      "eigenvalues shape torch.Size([5]) eigenvectors shape torch.Size([5, 400])\n",
      "454 /home/phdcs2/Hard_Disk/Datasets/Deep-Spectral-Segmentation/data/object-segmentation/ECSSD/features/dino_vits16/0455.pth\n",
      "dict_keys(['k', 'indices', 'file', 'id', 'model_name', 'patch_size', 'shape'])\n",
      "0455\n",
      "Starting Training\n",
      "epoch: 00, loss: -0.02468\n",
      "epoch: 01, loss: -0.05016\n",
      "epoch: 02, loss: -0.05308\n",
      "epoch: 03, loss: -0.05332\n",
      "epoch: 04, loss: -0.05376\n",
      "epoch: 05, loss: -0.05397\n",
      "epoch: 06, loss: -0.05401\n",
      "epoch: 07, loss: -0.05426\n",
      "epoch: 08, loss: -0.05433\n",
      "epoch: 09, loss: -0.05441\n",
      "torch.Size([400, 64])\n"
     ]
    },
    {
     "name": "stderr",
     "output_type": "stream",
     "text": [
      " 46%|████▌     | 455/1000 [3:07:07<3:07:13, 20.61s/it]"
     ]
    },
    {
     "name": "stdout",
     "output_type": "stream",
     "text": [
      "eigenvalues shape torch.Size([5]) eigenvectors shape torch.Size([5, 400])\n",
      "455 /home/phdcs2/Hard_Disk/Datasets/Deep-Spectral-Segmentation/data/object-segmentation/ECSSD/features/dino_vits16/0456.pth\n",
      "dict_keys(['k', 'indices', 'file', 'id', 'model_name', 'patch_size', 'shape'])\n",
      "0456\n",
      "Starting Training\n",
      "epoch: 00, loss: -0.03591\n",
      "epoch: 01, loss: -0.07203\n",
      "epoch: 02, loss: -0.07234\n",
      "epoch: 03, loss: -0.07489\n",
      "epoch: 04, loss: -0.07932\n",
      "epoch: 05, loss: -0.07775\n",
      "epoch: 06, loss: -0.07645\n",
      "epoch: 07, loss: -0.07860\n",
      "epoch: 08, loss: -0.08053\n",
      "epoch: 09, loss: -0.07963\n",
      "torch.Size([425, 64])\n"
     ]
    },
    {
     "name": "stderr",
     "output_type": "stream",
     "text": [
      " 46%|████▌     | 456/1000 [3:07:28<3:07:14, 20.65s/it]"
     ]
    },
    {
     "name": "stdout",
     "output_type": "stream",
     "text": [
      "eigenvalues shape torch.Size([5]) eigenvectors shape torch.Size([5, 425])\n",
      "456 /home/phdcs2/Hard_Disk/Datasets/Deep-Spectral-Segmentation/data/object-segmentation/ECSSD/features/dino_vits16/0457.pth\n",
      "dict_keys(['k', 'indices', 'file', 'id', 'model_name', 'patch_size', 'shape'])\n",
      "0457\n",
      "Starting Training\n",
      "epoch: 00, loss: 0.01083\n",
      "epoch: 01, loss: 0.00441\n",
      "epoch: 02, loss: 0.00054\n",
      "epoch: 03, loss: -0.00184\n",
      "epoch: 04, loss: -0.00345\n",
      "epoch: 05, loss: -0.00486\n",
      "epoch: 06, loss: -0.00624\n",
      "epoch: 07, loss: -0.00685\n",
      "epoch: 08, loss: -0.00755\n",
      "epoch: 09, loss: -0.00803\n",
      "torch.Size([400, 64])\n"
     ]
    },
    {
     "name": "stderr",
     "output_type": "stream",
     "text": [
      " 46%|████▌     | 457/1000 [3:07:49<3:06:14, 20.58s/it]"
     ]
    },
    {
     "name": "stdout",
     "output_type": "stream",
     "text": [
      "eigenvalues shape torch.Size([5]) eigenvectors shape torch.Size([5, 400])\n",
      "457 /home/phdcs2/Hard_Disk/Datasets/Deep-Spectral-Segmentation/data/object-segmentation/ECSSD/features/dino_vits16/0458.pth\n",
      "dict_keys(['k', 'indices', 'file', 'id', 'model_name', 'patch_size', 'shape'])\n",
      "0458\n",
      "Starting Training\n",
      "epoch: 00, loss: -0.04030\n",
      "epoch: 01, loss: -0.06019\n",
      "epoch: 02, loss: -0.06188\n",
      "epoch: 03, loss: -0.06138\n",
      "epoch: 04, loss: -0.06208\n",
      "epoch: 05, loss: -0.06180\n",
      "epoch: 06, loss: -0.06281\n",
      "epoch: 07, loss: -0.06234\n",
      "epoch: 08, loss: -0.06294\n",
      "epoch: 09, loss: -0.06285\n",
      "torch.Size([450, 64])\n"
     ]
    },
    {
     "name": "stderr",
     "output_type": "stream",
     "text": [
      " 46%|████▌     | 458/1000 [3:08:12<3:12:32, 21.32s/it]"
     ]
    },
    {
     "name": "stdout",
     "output_type": "stream",
     "text": [
      "eigenvalues shape torch.Size([5]) eigenvectors shape torch.Size([5, 450])\n",
      "458 /home/phdcs2/Hard_Disk/Datasets/Deep-Spectral-Segmentation/data/object-segmentation/ECSSD/features/dino_vits16/0459.pth\n",
      "dict_keys(['k', 'indices', 'file', 'id', 'model_name', 'patch_size', 'shape'])\n",
      "0459\n",
      "Starting Training\n",
      "epoch: 00, loss: -0.05094\n",
      "epoch: 01, loss: -0.07968\n",
      "epoch: 02, loss: -0.08258\n",
      "epoch: 03, loss: -0.07935\n",
      "epoch: 04, loss: -0.08083\n",
      "epoch: 05, loss: -0.08306\n",
      "epoch: 06, loss: -0.08240\n",
      "epoch: 07, loss: -0.08370\n",
      "epoch: 08, loss: -0.08524\n",
      "epoch: 09, loss: -0.08433\n",
      "torch.Size([400, 64])\n"
     ]
    },
    {
     "name": "stderr",
     "output_type": "stream",
     "text": [
      " 46%|████▌     | 459/1000 [3:08:31<3:06:46, 20.71s/it]"
     ]
    },
    {
     "name": "stdout",
     "output_type": "stream",
     "text": [
      "eigenvalues shape torch.Size([5]) eigenvectors shape torch.Size([5, 400])\n",
      "459 /home/phdcs2/Hard_Disk/Datasets/Deep-Spectral-Segmentation/data/object-segmentation/ECSSD/features/dino_vits16/0460.pth\n",
      "dict_keys(['k', 'indices', 'file', 'id', 'model_name', 'patch_size', 'shape'])\n",
      "0460\n",
      "Starting Training\n",
      "epoch: 00, loss: -0.07299\n",
      "epoch: 01, loss: -0.10293\n",
      "epoch: 02, loss: -0.10479\n",
      "epoch: 03, loss: -0.10534\n",
      "epoch: 04, loss: -0.10648\n",
      "epoch: 05, loss: -0.10662\n",
      "epoch: 06, loss: -0.10682\n",
      "epoch: 07, loss: -0.10912\n",
      "epoch: 08, loss: -0.10831\n",
      "epoch: 09, loss: -0.10959\n",
      "torch.Size([450, 64])\n"
     ]
    },
    {
     "name": "stderr",
     "output_type": "stream",
     "text": [
      " 46%|████▌     | 460/1000 [3:08:54<3:11:27, 21.27s/it]"
     ]
    },
    {
     "name": "stdout",
     "output_type": "stream",
     "text": [
      "eigenvalues shape torch.Size([5]) eigenvectors shape torch.Size([5, 450])\n",
      "460 /home/phdcs2/Hard_Disk/Datasets/Deep-Spectral-Segmentation/data/object-segmentation/ECSSD/features/dino_vits16/0461.pth\n",
      "dict_keys(['k', 'indices', 'file', 'id', 'model_name', 'patch_size', 'shape'])\n",
      "0461\n",
      "Starting Training\n",
      "epoch: 00, loss: -0.04617\n",
      "epoch: 01, loss: -0.07914\n",
      "epoch: 02, loss: -0.08098\n",
      "epoch: 03, loss: -0.08426\n",
      "epoch: 04, loss: -0.08758\n",
      "epoch: 05, loss: -0.08809\n",
      "epoch: 06, loss: -0.08497\n",
      "epoch: 07, loss: -0.08614\n",
      "epoch: 08, loss: -0.08552\n",
      "epoch: 09, loss: -0.08826\n",
      "torch.Size([450, 64])\n"
     ]
    },
    {
     "name": "stderr",
     "output_type": "stream",
     "text": [
      " 46%|████▌     | 461/1000 [3:09:16<3:15:03, 21.71s/it]"
     ]
    },
    {
     "name": "stdout",
     "output_type": "stream",
     "text": [
      "eigenvalues shape torch.Size([5]) eigenvectors shape torch.Size([5, 450])\n",
      "461 /home/phdcs2/Hard_Disk/Datasets/Deep-Spectral-Segmentation/data/object-segmentation/ECSSD/features/dino_vits16/0462.pth\n",
      "dict_keys(['k', 'indices', 'file', 'id', 'model_name', 'patch_size', 'shape'])\n",
      "0462\n",
      "Starting Training\n",
      "epoch: 00, loss: -0.03993\n",
      "epoch: 01, loss: -0.07160\n",
      "epoch: 02, loss: -0.07677\n",
      "epoch: 03, loss: -0.07950\n",
      "epoch: 04, loss: -0.08250\n",
      "epoch: 05, loss: -0.07802\n",
      "epoch: 06, loss: -0.08184\n",
      "epoch: 07, loss: -0.08172\n",
      "epoch: 08, loss: -0.08555\n",
      "epoch: 09, loss: -0.08121\n",
      "torch.Size([400, 64])\n"
     ]
    },
    {
     "name": "stderr",
     "output_type": "stream",
     "text": [
      " 46%|████▌     | 462/1000 [3:09:37<3:12:25, 21.46s/it]"
     ]
    },
    {
     "name": "stdout",
     "output_type": "stream",
     "text": [
      "eigenvalues shape torch.Size([5]) eigenvectors shape torch.Size([5, 400])\n",
      "462 /home/phdcs2/Hard_Disk/Datasets/Deep-Spectral-Segmentation/data/object-segmentation/ECSSD/features/dino_vits16/0463.pth\n",
      "dict_keys(['k', 'indices', 'file', 'id', 'model_name', 'patch_size', 'shape'])\n",
      "0463\n",
      "Starting Training\n",
      "epoch: 00, loss: -0.01219\n",
      "epoch: 01, loss: -0.03331\n",
      "epoch: 02, loss: -0.03707\n",
      "epoch: 03, loss: -0.03813\n",
      "epoch: 04, loss: -0.03880\n",
      "epoch: 05, loss: -0.03895\n",
      "epoch: 06, loss: -0.03907\n",
      "epoch: 07, loss: -0.03920\n",
      "epoch: 08, loss: -0.03939\n",
      "epoch: 09, loss: -0.03944\n",
      "torch.Size([450, 64])\n"
     ]
    },
    {
     "name": "stderr",
     "output_type": "stream",
     "text": [
      " 46%|████▋     | 463/1000 [3:10:02<3:20:22, 22.39s/it]"
     ]
    },
    {
     "name": "stdout",
     "output_type": "stream",
     "text": [
      "eigenvalues shape torch.Size([5]) eigenvectors shape torch.Size([5, 450])\n",
      "463 /home/phdcs2/Hard_Disk/Datasets/Deep-Spectral-Segmentation/data/object-segmentation/ECSSD/features/dino_vits16/0464.pth\n",
      "dict_keys(['k', 'indices', 'file', 'id', 'model_name', 'patch_size', 'shape'])\n",
      "0464\n",
      "Starting Training\n",
      "epoch: 00, loss: -0.03195\n",
      "epoch: 01, loss: -0.05206\n",
      "epoch: 02, loss: -0.05499\n",
      "epoch: 03, loss: -0.05818\n",
      "epoch: 04, loss: -0.05995\n",
      "epoch: 05, loss: -0.05982\n",
      "epoch: 06, loss: -0.06029\n",
      "epoch: 07, loss: -0.05920\n",
      "epoch: 08, loss: -0.05947\n",
      "epoch: 09, loss: -0.06216\n",
      "torch.Size([450, 64])\n"
     ]
    },
    {
     "name": "stderr",
     "output_type": "stream",
     "text": [
      " 46%|████▋     | 464/1000 [3:10:23<3:15:58, 21.94s/it]"
     ]
    },
    {
     "name": "stdout",
     "output_type": "stream",
     "text": [
      "eigenvalues shape torch.Size([5]) eigenvectors shape torch.Size([5, 450])\n",
      "464 /home/phdcs2/Hard_Disk/Datasets/Deep-Spectral-Segmentation/data/object-segmentation/ECSSD/features/dino_vits16/0465.pth\n",
      "dict_keys(['k', 'indices', 'file', 'id', 'model_name', 'patch_size', 'shape'])\n",
      "0465\n",
      "Starting Training\n",
      "epoch: 00, loss: -0.02109\n",
      "epoch: 01, loss: -0.03878\n",
      "epoch: 02, loss: -0.04081\n",
      "epoch: 03, loss: -0.04231\n",
      "epoch: 04, loss: -0.04231\n",
      "epoch: 05, loss: -0.04241\n",
      "epoch: 06, loss: -0.04240\n",
      "epoch: 07, loss: -0.04330\n",
      "epoch: 08, loss: -0.04287\n",
      "epoch: 09, loss: -0.04326\n",
      "torch.Size([450, 64])\n"
     ]
    },
    {
     "name": "stderr",
     "output_type": "stream",
     "text": [
      " 46%|████▋     | 465/1000 [3:10:44<3:12:56, 21.64s/it]"
     ]
    },
    {
     "name": "stdout",
     "output_type": "stream",
     "text": [
      "eigenvalues shape torch.Size([5]) eigenvectors shape torch.Size([5, 450])\n",
      "465 /home/phdcs2/Hard_Disk/Datasets/Deep-Spectral-Segmentation/data/object-segmentation/ECSSD/features/dino_vits16/0466.pth\n",
      "dict_keys(['k', 'indices', 'file', 'id', 'model_name', 'patch_size', 'shape'])\n",
      "0466\n",
      "Starting Training\n",
      "epoch: 00, loss: 0.00097\n",
      "epoch: 01, loss: -0.01352\n",
      "epoch: 02, loss: -0.01894\n",
      "epoch: 03, loss: -0.02099\n",
      "epoch: 04, loss: -0.02194\n",
      "epoch: 05, loss: -0.02249\n",
      "epoch: 06, loss: -0.02284\n",
      "epoch: 07, loss: -0.02306\n",
      "epoch: 08, loss: -0.02323\n",
      "epoch: 09, loss: -0.02341\n",
      "torch.Size([400, 64])\n"
     ]
    },
    {
     "name": "stderr",
     "output_type": "stream",
     "text": [
      " 47%|████▋     | 466/1000 [3:11:03<3:05:38, 20.86s/it]"
     ]
    },
    {
     "name": "stdout",
     "output_type": "stream",
     "text": [
      "eigenvalues shape torch.Size([5]) eigenvectors shape torch.Size([5, 400])\n",
      "466 /home/phdcs2/Hard_Disk/Datasets/Deep-Spectral-Segmentation/data/object-segmentation/ECSSD/features/dino_vits16/0467.pth\n",
      "dict_keys(['k', 'indices', 'file', 'id', 'model_name', 'patch_size', 'shape'])\n",
      "0467\n",
      "Starting Training\n",
      "epoch: 00, loss: -0.03372\n",
      "epoch: 01, loss: -0.05575\n",
      "epoch: 02, loss: -0.05719\n",
      "epoch: 03, loss: -0.06051\n",
      "epoch: 04, loss: -0.06158\n",
      "epoch: 05, loss: -0.06064\n",
      "epoch: 06, loss: -0.06032\n",
      "epoch: 07, loss: -0.06338\n",
      "epoch: 08, loss: -0.06428\n",
      "epoch: 09, loss: -0.06273\n",
      "torch.Size([425, 64])\n"
     ]
    },
    {
     "name": "stderr",
     "output_type": "stream",
     "text": [
      " 47%|████▋     | 467/1000 [3:11:28<3:16:51, 22.16s/it]"
     ]
    },
    {
     "name": "stdout",
     "output_type": "stream",
     "text": [
      "eigenvalues shape torch.Size([5]) eigenvectors shape torch.Size([5, 425])\n",
      "467 /home/phdcs2/Hard_Disk/Datasets/Deep-Spectral-Segmentation/data/object-segmentation/ECSSD/features/dino_vits16/0468.pth\n",
      "dict_keys(['k', 'indices', 'file', 'id', 'model_name', 'patch_size', 'shape'])\n",
      "0468\n",
      "Starting Training\n",
      "epoch: 00, loss: -0.04147\n",
      "epoch: 01, loss: -0.06464\n",
      "epoch: 02, loss: -0.07206\n",
      "epoch: 03, loss: -0.07452\n",
      "epoch: 04, loss: -0.07450\n",
      "epoch: 05, loss: -0.07409\n",
      "epoch: 06, loss: -0.07527\n",
      "epoch: 07, loss: -0.07608\n",
      "epoch: 08, loss: -0.07519\n",
      "epoch: 09, loss: -0.07694\n",
      "torch.Size([450, 64])\n"
     ]
    },
    {
     "name": "stderr",
     "output_type": "stream",
     "text": [
      " 47%|████▋     | 468/1000 [3:11:50<3:16:02, 22.11s/it]"
     ]
    },
    {
     "name": "stdout",
     "output_type": "stream",
     "text": [
      "eigenvalues shape torch.Size([5]) eigenvectors shape torch.Size([5, 450])\n",
      "468 /home/phdcs2/Hard_Disk/Datasets/Deep-Spectral-Segmentation/data/object-segmentation/ECSSD/features/dino_vits16/0469.pth\n",
      "dict_keys(['k', 'indices', 'file', 'id', 'model_name', 'patch_size', 'shape'])\n",
      "0469\n",
      "Starting Training\n",
      "epoch: 00, loss: -0.03512\n",
      "epoch: 01, loss: -0.07349\n",
      "epoch: 02, loss: -0.07813\n",
      "epoch: 03, loss: -0.07735\n",
      "epoch: 04, loss: -0.07972\n",
      "epoch: 05, loss: -0.08066\n",
      "epoch: 06, loss: -0.07985\n",
      "epoch: 07, loss: -0.07982\n",
      "epoch: 08, loss: -0.08207\n",
      "epoch: 09, loss: -0.08090\n",
      "torch.Size([400, 64])\n"
     ]
    },
    {
     "name": "stderr",
     "output_type": "stream",
     "text": [
      " 47%|████▋     | 469/1000 [3:12:11<3:14:06, 21.93s/it]"
     ]
    },
    {
     "name": "stdout",
     "output_type": "stream",
     "text": [
      "eigenvalues shape torch.Size([5]) eigenvectors shape torch.Size([5, 400])\n",
      "469 /home/phdcs2/Hard_Disk/Datasets/Deep-Spectral-Segmentation/data/object-segmentation/ECSSD/features/dino_vits16/0470.pth\n",
      "dict_keys(['k', 'indices', 'file', 'id', 'model_name', 'patch_size', 'shape'])\n",
      "0470\n",
      "Starting Training\n",
      "epoch: 00, loss: -0.03555\n",
      "epoch: 01, loss: -0.05692\n",
      "epoch: 02, loss: -0.05893\n",
      "epoch: 03, loss: -0.05916\n",
      "epoch: 04, loss: -0.05958\n",
      "epoch: 05, loss: -0.05980\n",
      "epoch: 06, loss: -0.06002\n",
      "epoch: 07, loss: -0.06013\n",
      "epoch: 08, loss: -0.06040\n",
      "epoch: 09, loss: -0.06051\n",
      "torch.Size([400, 64])\n"
     ]
    },
    {
     "name": "stderr",
     "output_type": "stream",
     "text": [
      " 47%|████▋     | 470/1000 [3:12:33<3:12:20, 21.77s/it]"
     ]
    },
    {
     "name": "stdout",
     "output_type": "stream",
     "text": [
      "eigenvalues shape torch.Size([5]) eigenvectors shape torch.Size([5, 400])\n",
      "470 /home/phdcs2/Hard_Disk/Datasets/Deep-Spectral-Segmentation/data/object-segmentation/ECSSD/features/dino_vits16/0471.pth\n",
      "dict_keys(['k', 'indices', 'file', 'id', 'model_name', 'patch_size', 'shape'])\n",
      "0471\n",
      "Starting Training\n",
      "epoch: 00, loss: -0.00644\n",
      "epoch: 01, loss: -0.02747\n",
      "epoch: 02, loss: -0.03143\n",
      "epoch: 03, loss: -0.03644\n",
      "epoch: 04, loss: -0.03761\n",
      "epoch: 05, loss: -0.03654\n",
      "epoch: 06, loss: -0.03864\n",
      "epoch: 07, loss: -0.04197\n",
      "epoch: 08, loss: -0.03965\n",
      "epoch: 09, loss: -0.03951\n",
      "torch.Size([450, 64])\n"
     ]
    },
    {
     "name": "stderr",
     "output_type": "stream",
     "text": [
      " 47%|████▋     | 471/1000 [3:13:03<3:34:43, 24.35s/it]"
     ]
    },
    {
     "name": "stdout",
     "output_type": "stream",
     "text": [
      "eigenvalues shape torch.Size([5]) eigenvectors shape torch.Size([5, 450])\n",
      "471 /home/phdcs2/Hard_Disk/Datasets/Deep-Spectral-Segmentation/data/object-segmentation/ECSSD/features/dino_vits16/0472.pth\n",
      "dict_keys(['k', 'indices', 'file', 'id', 'model_name', 'patch_size', 'shape'])\n",
      "0472\n",
      "Starting Training\n",
      "epoch: 00, loss: -0.01775\n",
      "epoch: 01, loss: -0.03780\n",
      "epoch: 02, loss: -0.04180\n",
      "epoch: 03, loss: -0.04249\n",
      "epoch: 04, loss: -0.04574\n",
      "epoch: 05, loss: -0.04594\n",
      "epoch: 06, loss: -0.04691\n",
      "epoch: 07, loss: -0.04668\n",
      "epoch: 08, loss: -0.04500\n",
      "epoch: 09, loss: -0.04605\n",
      "torch.Size([400, 64])\n"
     ]
    },
    {
     "name": "stderr",
     "output_type": "stream",
     "text": [
      " 47%|████▋     | 472/1000 [3:13:23<3:21:43, 22.92s/it]"
     ]
    },
    {
     "name": "stdout",
     "output_type": "stream",
     "text": [
      "eigenvalues shape torch.Size([5]) eigenvectors shape torch.Size([5, 400])\n",
      "472 /home/phdcs2/Hard_Disk/Datasets/Deep-Spectral-Segmentation/data/object-segmentation/ECSSD/features/dino_vits16/0473.pth\n",
      "dict_keys(['k', 'indices', 'file', 'id', 'model_name', 'patch_size', 'shape'])\n",
      "0473\n",
      "Starting Training\n",
      "epoch: 00, loss: -0.00887\n",
      "epoch: 01, loss: -0.02737\n",
      "epoch: 02, loss: -0.03120\n",
      "epoch: 03, loss: -0.03241\n",
      "epoch: 04, loss: -0.03263\n",
      "epoch: 05, loss: -0.03468\n",
      "epoch: 06, loss: -0.03315\n",
      "epoch: 07, loss: -0.03388\n",
      "epoch: 08, loss: -0.03371\n",
      "epoch: 09, loss: -0.03372\n",
      "torch.Size([425, 64])\n"
     ]
    },
    {
     "name": "stderr",
     "output_type": "stream",
     "text": [
      " 47%|████▋     | 473/1000 [3:13:47<3:26:05, 23.46s/it]"
     ]
    },
    {
     "name": "stdout",
     "output_type": "stream",
     "text": [
      "eigenvalues shape torch.Size([5]) eigenvectors shape torch.Size([5, 425])\n",
      "473 /home/phdcs2/Hard_Disk/Datasets/Deep-Spectral-Segmentation/data/object-segmentation/ECSSD/features/dino_vits16/0474.pth\n",
      "dict_keys(['k', 'indices', 'file', 'id', 'model_name', 'patch_size', 'shape'])\n",
      "0474\n",
      "Starting Training\n",
      "epoch: 00, loss: -0.02005\n",
      "epoch: 01, loss: -0.03663\n",
      "epoch: 02, loss: -0.03934\n",
      "epoch: 03, loss: -0.04042\n",
      "epoch: 04, loss: -0.04049\n",
      "epoch: 05, loss: -0.04099\n",
      "epoch: 06, loss: -0.04095\n",
      "epoch: 07, loss: -0.04121\n",
      "epoch: 08, loss: -0.04120\n",
      "epoch: 09, loss: -0.04154\n",
      "torch.Size([400, 64])\n"
     ]
    },
    {
     "name": "stderr",
     "output_type": "stream",
     "text": [
      " 47%|████▋     | 474/1000 [3:14:07<3:15:28, 22.30s/it]"
     ]
    },
    {
     "name": "stdout",
     "output_type": "stream",
     "text": [
      "eigenvalues shape torch.Size([5]) eigenvectors shape torch.Size([5, 400])\n",
      "474 /home/phdcs2/Hard_Disk/Datasets/Deep-Spectral-Segmentation/data/object-segmentation/ECSSD/features/dino_vits16/0475.pth\n",
      "dict_keys(['k', 'indices', 'file', 'id', 'model_name', 'patch_size', 'shape'])\n",
      "0475\n",
      "Starting Training\n",
      "epoch: 00, loss: -0.04968\n",
      "epoch: 01, loss: -0.07277\n",
      "epoch: 02, loss: -0.07416\n",
      "epoch: 03, loss: -0.07401\n",
      "epoch: 04, loss: -0.07423\n",
      "epoch: 05, loss: -0.07450\n",
      "epoch: 06, loss: -0.07454\n",
      "epoch: 07, loss: -0.07478\n",
      "epoch: 08, loss: -0.07480\n",
      "epoch: 09, loss: -0.07491\n",
      "torch.Size([400, 64])\n"
     ]
    },
    {
     "name": "stderr",
     "output_type": "stream",
     "text": [
      " 48%|████▊     | 475/1000 [3:14:28<3:12:56, 22.05s/it]"
     ]
    },
    {
     "name": "stdout",
     "output_type": "stream",
     "text": [
      "eigenvalues shape torch.Size([5]) eigenvectors shape torch.Size([5, 400])\n",
      "475 /home/phdcs2/Hard_Disk/Datasets/Deep-Spectral-Segmentation/data/object-segmentation/ECSSD/features/dino_vits16/0476.pth\n",
      "dict_keys(['k', 'indices', 'file', 'id', 'model_name', 'patch_size', 'shape'])\n",
      "0476\n",
      "Starting Training\n",
      "epoch: 00, loss: -0.00657\n",
      "epoch: 01, loss: -0.03067\n",
      "epoch: 02, loss: -0.03437\n",
      "epoch: 03, loss: -0.03548\n",
      "epoch: 04, loss: -0.03581\n",
      "epoch: 05, loss: -0.03614\n",
      "epoch: 06, loss: -0.03638\n",
      "epoch: 07, loss: -0.03648\n",
      "epoch: 08, loss: -0.03659\n",
      "epoch: 09, loss: -0.03668\n",
      "torch.Size([400, 64])\n"
     ]
    },
    {
     "name": "stderr",
     "output_type": "stream",
     "text": [
      " 48%|████▊     | 476/1000 [3:14:50<3:11:19, 21.91s/it]"
     ]
    },
    {
     "name": "stdout",
     "output_type": "stream",
     "text": [
      "eigenvalues shape torch.Size([5]) eigenvectors shape torch.Size([5, 400])\n",
      "476 /home/phdcs2/Hard_Disk/Datasets/Deep-Spectral-Segmentation/data/object-segmentation/ECSSD/features/dino_vits16/0477.pth\n",
      "dict_keys(['k', 'indices', 'file', 'id', 'model_name', 'patch_size', 'shape'])\n",
      "0477\n",
      "Starting Training\n",
      "epoch: 00, loss: -0.01944\n",
      "epoch: 01, loss: -0.03657\n",
      "epoch: 02, loss: -0.03952\n",
      "epoch: 03, loss: -0.04020\n",
      "epoch: 04, loss: -0.04035\n",
      "epoch: 05, loss: -0.04080\n",
      "epoch: 06, loss: -0.04100\n",
      "epoch: 07, loss: -0.04110\n",
      "epoch: 08, loss: -0.04127\n",
      "epoch: 09, loss: -0.04130\n",
      "torch.Size([450, 64])\n"
     ]
    },
    {
     "name": "stderr",
     "output_type": "stream",
     "text": [
      " 48%|████▊     | 477/1000 [3:15:15<3:17:45, 22.69s/it]"
     ]
    },
    {
     "name": "stdout",
     "output_type": "stream",
     "text": [
      "eigenvalues shape torch.Size([5]) eigenvectors shape torch.Size([5, 450])\n",
      "477 /home/phdcs2/Hard_Disk/Datasets/Deep-Spectral-Segmentation/data/object-segmentation/ECSSD/features/dino_vits16/0478.pth\n",
      "dict_keys(['k', 'indices', 'file', 'id', 'model_name', 'patch_size', 'shape'])\n",
      "0478\n",
      "Starting Training\n",
      "epoch: 00, loss: -0.03341\n",
      "epoch: 01, loss: -0.05894\n",
      "epoch: 02, loss: -0.06517\n",
      "epoch: 03, loss: -0.06754\n",
      "epoch: 04, loss: -0.06849\n",
      "epoch: 05, loss: -0.06939\n",
      "epoch: 06, loss: -0.06818\n",
      "epoch: 07, loss: -0.06887\n",
      "epoch: 08, loss: -0.07152\n",
      "epoch: 09, loss: -0.07118\n",
      "torch.Size([400, 64])\n"
     ]
    },
    {
     "name": "stderr",
     "output_type": "stream",
     "text": [
      " 48%|████▊     | 478/1000 [3:15:33<3:07:19, 21.53s/it]"
     ]
    },
    {
     "name": "stdout",
     "output_type": "stream",
     "text": [
      "eigenvalues shape torch.Size([5]) eigenvectors shape torch.Size([5, 400])\n",
      "478 /home/phdcs2/Hard_Disk/Datasets/Deep-Spectral-Segmentation/data/object-segmentation/ECSSD/features/dino_vits16/0479.pth\n",
      "dict_keys(['k', 'indices', 'file', 'id', 'model_name', 'patch_size', 'shape'])\n",
      "0479\n",
      "Starting Training\n",
      "epoch: 00, loss: -0.04057\n",
      "epoch: 01, loss: -0.06439\n",
      "epoch: 02, loss: -0.06608\n",
      "epoch: 03, loss: -0.06580\n",
      "epoch: 04, loss: -0.06630\n",
      "epoch: 05, loss: -0.06644\n",
      "epoch: 06, loss: -0.06655\n",
      "epoch: 07, loss: -0.06657\n",
      "epoch: 08, loss: -0.06684\n",
      "epoch: 09, loss: -0.06684\n",
      "torch.Size([450, 64])\n"
     ]
    },
    {
     "name": "stderr",
     "output_type": "stream",
     "text": [
      " 48%|████▊     | 479/1000 [3:15:57<3:11:58, 22.11s/it]"
     ]
    },
    {
     "name": "stdout",
     "output_type": "stream",
     "text": [
      "eigenvalues shape torch.Size([5]) eigenvectors shape torch.Size([5, 450])\n",
      "479 /home/phdcs2/Hard_Disk/Datasets/Deep-Spectral-Segmentation/data/object-segmentation/ECSSD/features/dino_vits16/0480.pth\n",
      "dict_keys(['k', 'indices', 'file', 'id', 'model_name', 'patch_size', 'shape'])\n",
      "0480\n",
      "Starting Training\n",
      "epoch: 00, loss: -0.04665\n",
      "epoch: 01, loss: -0.06240\n",
      "epoch: 02, loss: -0.06257\n",
      "epoch: 03, loss: -0.06290\n",
      "epoch: 04, loss: -0.06408\n",
      "epoch: 05, loss: -0.06393\n",
      "epoch: 06, loss: -0.06403\n",
      "epoch: 07, loss: -0.06341\n",
      "epoch: 08, loss: -0.06428\n",
      "epoch: 09, loss: -0.06357\n",
      "torch.Size([625, 64])\n"
     ]
    },
    {
     "name": "stderr",
     "output_type": "stream",
     "text": [
      " 48%|████▊     | 480/1000 [3:16:53<4:39:13, 32.22s/it]"
     ]
    },
    {
     "name": "stdout",
     "output_type": "stream",
     "text": [
      "eigenvalues shape torch.Size([5]) eigenvectors shape torch.Size([5, 625])\n",
      "480 /home/phdcs2/Hard_Disk/Datasets/Deep-Spectral-Segmentation/data/object-segmentation/ECSSD/features/dino_vits16/0481.pth\n",
      "dict_keys(['k', 'indices', 'file', 'id', 'model_name', 'patch_size', 'shape'])\n",
      "0481\n",
      "Starting Training\n",
      "epoch: 00, loss: -0.07157\n",
      "epoch: 01, loss: -0.09962\n",
      "epoch: 02, loss: -0.10354\n",
      "epoch: 03, loss: -0.10469\n",
      "epoch: 04, loss: -0.10452\n",
      "epoch: 05, loss: -0.10660\n",
      "epoch: 06, loss: -0.10469\n",
      "epoch: 07, loss: -0.10726\n",
      "epoch: 08, loss: -0.10802\n",
      "epoch: 09, loss: -0.10829\n",
      "torch.Size([450, 64])\n"
     ]
    },
    {
     "name": "stderr",
     "output_type": "stream",
     "text": [
      " 48%|████▊     | 481/1000 [3:17:16<4:14:37, 29.44s/it]"
     ]
    },
    {
     "name": "stdout",
     "output_type": "stream",
     "text": [
      "eigenvalues shape torch.Size([5]) eigenvectors shape torch.Size([5, 450])\n",
      "481 /home/phdcs2/Hard_Disk/Datasets/Deep-Spectral-Segmentation/data/object-segmentation/ECSSD/features/dino_vits16/0482.pth\n",
      "dict_keys(['k', 'indices', 'file', 'id', 'model_name', 'patch_size', 'shape'])\n",
      "0482\n",
      "Starting Training\n",
      "epoch: 00, loss: -0.08867\n",
      "epoch: 01, loss: -0.14437\n",
      "epoch: 02, loss: -0.14562\n",
      "epoch: 03, loss: -0.14591\n",
      "epoch: 04, loss: -0.14833\n",
      "epoch: 05, loss: -0.15022\n",
      "epoch: 06, loss: -0.15175\n",
      "epoch: 07, loss: -0.15251\n",
      "epoch: 08, loss: -0.15459\n",
      "epoch: 09, loss: -0.15187\n",
      "torch.Size([450, 64])\n"
     ]
    },
    {
     "name": "stderr",
     "output_type": "stream",
     "text": [
      " 48%|████▊     | 482/1000 [3:17:40<4:00:05, 27.81s/it]"
     ]
    },
    {
     "name": "stdout",
     "output_type": "stream",
     "text": [
      "eigenvalues shape torch.Size([5]) eigenvectors shape torch.Size([5, 450])\n",
      "482 /home/phdcs2/Hard_Disk/Datasets/Deep-Spectral-Segmentation/data/object-segmentation/ECSSD/features/dino_vits16/0483.pth\n",
      "dict_keys(['k', 'indices', 'file', 'id', 'model_name', 'patch_size', 'shape'])\n",
      "0483\n",
      "Starting Training\n",
      "epoch: 00, loss: 0.00754\n",
      "epoch: 01, loss: 0.00084\n",
      "epoch: 02, loss: -0.00251\n",
      "epoch: 03, loss: -0.00463\n",
      "epoch: 04, loss: -0.00613\n",
      "epoch: 05, loss: -0.00707\n",
      "epoch: 06, loss: -0.00779\n",
      "epoch: 07, loss: -0.00846\n",
      "epoch: 08, loss: -0.00877\n",
      "epoch: 09, loss: -0.00911\n",
      "torch.Size([400, 64])\n"
     ]
    },
    {
     "name": "stderr",
     "output_type": "stream",
     "text": [
      " 48%|████▊     | 483/1000 [3:18:04<3:52:07, 26.94s/it]"
     ]
    },
    {
     "name": "stdout",
     "output_type": "stream",
     "text": [
      "eigenvalues shape torch.Size([5]) eigenvectors shape torch.Size([5, 400])\n",
      "483 /home/phdcs2/Hard_Disk/Datasets/Deep-Spectral-Segmentation/data/object-segmentation/ECSSD/features/dino_vits16/0484.pth\n",
      "dict_keys(['k', 'indices', 'file', 'id', 'model_name', 'patch_size', 'shape'])\n",
      "0484\n",
      "Starting Training\n",
      "epoch: 00, loss: -0.00150\n",
      "epoch: 01, loss: -0.01653\n",
      "epoch: 02, loss: -0.02142\n",
      "epoch: 03, loss: -0.02428\n",
      "epoch: 04, loss: -0.02561\n",
      "epoch: 05, loss: -0.02678\n",
      "epoch: 06, loss: -0.02647\n",
      "epoch: 07, loss: -0.02725\n",
      "epoch: 08, loss: -0.02742\n",
      "epoch: 09, loss: -0.02789\n",
      "torch.Size([450, 64])\n"
     ]
    },
    {
     "name": "stderr",
     "output_type": "stream",
     "text": [
      " 48%|████▊     | 484/1000 [3:18:27<3:40:00, 25.58s/it]"
     ]
    },
    {
     "name": "stdout",
     "output_type": "stream",
     "text": [
      "eigenvalues shape torch.Size([5]) eigenvectors shape torch.Size([5, 450])\n",
      "484 /home/phdcs2/Hard_Disk/Datasets/Deep-Spectral-Segmentation/data/object-segmentation/ECSSD/features/dino_vits16/0485.pth\n",
      "dict_keys(['k', 'indices', 'file', 'id', 'model_name', 'patch_size', 'shape'])\n",
      "0485\n",
      "Starting Training\n",
      "epoch: 00, loss: -0.02916\n",
      "epoch: 01, loss: -0.05330\n",
      "epoch: 02, loss: -0.05564\n",
      "epoch: 03, loss: -0.05608\n",
      "epoch: 04, loss: -0.05642\n",
      "epoch: 05, loss: -0.05657\n",
      "epoch: 06, loss: -0.05678\n",
      "epoch: 07, loss: -0.05689\n",
      "epoch: 08, loss: -0.05712\n",
      "epoch: 09, loss: -0.05725\n",
      "torch.Size([400, 64])\n"
     ]
    },
    {
     "name": "stderr",
     "output_type": "stream",
     "text": [
      " 48%|████▊     | 485/1000 [3:18:49<3:30:14, 24.49s/it]"
     ]
    },
    {
     "name": "stdout",
     "output_type": "stream",
     "text": [
      "eigenvalues shape torch.Size([5]) eigenvectors shape torch.Size([5, 400])\n",
      "485 /home/phdcs2/Hard_Disk/Datasets/Deep-Spectral-Segmentation/data/object-segmentation/ECSSD/features/dino_vits16/0486.pth\n",
      "dict_keys(['k', 'indices', 'file', 'id', 'model_name', 'patch_size', 'shape'])\n",
      "0486\n",
      "Starting Training\n",
      "epoch: 00, loss: -0.05478\n",
      "epoch: 01, loss: -0.08432\n",
      "epoch: 02, loss: -0.09031\n",
      "epoch: 03, loss: -0.08965\n",
      "epoch: 04, loss: -0.09277\n",
      "epoch: 05, loss: -0.09282\n",
      "epoch: 06, loss: -0.09360\n",
      "epoch: 07, loss: -0.09374\n",
      "epoch: 08, loss: -0.09517\n",
      "epoch: 09, loss: -0.09842\n",
      "torch.Size([450, 64])\n"
     ]
    },
    {
     "name": "stderr",
     "output_type": "stream",
     "text": [
      " 49%|████▊     | 486/1000 [3:19:13<3:29:49, 24.49s/it]"
     ]
    },
    {
     "name": "stdout",
     "output_type": "stream",
     "text": [
      "eigenvalues shape torch.Size([5]) eigenvectors shape torch.Size([5, 450])\n",
      "486 /home/phdcs2/Hard_Disk/Datasets/Deep-Spectral-Segmentation/data/object-segmentation/ECSSD/features/dino_vits16/0487.pth\n",
      "dict_keys(['k', 'indices', 'file', 'id', 'model_name', 'patch_size', 'shape'])\n",
      "0487\n",
      "Starting Training\n",
      "epoch: 00, loss: -0.06187\n",
      "epoch: 01, loss: -0.09811\n",
      "epoch: 02, loss: -0.10222\n",
      "epoch: 03, loss: -0.10405\n",
      "epoch: 04, loss: -0.10589\n",
      "epoch: 05, loss: -0.10638\n",
      "epoch: 06, loss: -0.10690\n",
      "epoch: 07, loss: -0.10838\n",
      "epoch: 08, loss: -0.10896\n",
      "epoch: 09, loss: -0.10883\n",
      "torch.Size([400, 64])\n"
     ]
    },
    {
     "name": "stderr",
     "output_type": "stream",
     "text": [
      " 49%|████▊     | 487/1000 [3:19:35<3:21:19, 23.55s/it]"
     ]
    },
    {
     "name": "stdout",
     "output_type": "stream",
     "text": [
      "eigenvalues shape torch.Size([5]) eigenvectors shape torch.Size([5, 400])\n",
      "487 /home/phdcs2/Hard_Disk/Datasets/Deep-Spectral-Segmentation/data/object-segmentation/ECSSD/features/dino_vits16/0488.pth\n",
      "dict_keys(['k', 'indices', 'file', 'id', 'model_name', 'patch_size', 'shape'])\n",
      "0488\n",
      "Starting Training\n",
      "epoch: 00, loss: -0.03853\n",
      "epoch: 01, loss: -0.06115\n",
      "epoch: 02, loss: -0.06646\n",
      "epoch: 03, loss: -0.06940\n",
      "epoch: 04, loss: -0.06942\n",
      "epoch: 05, loss: -0.07230\n",
      "epoch: 06, loss: -0.06853\n",
      "epoch: 07, loss: -0.07024\n",
      "epoch: 08, loss: -0.07142\n",
      "epoch: 09, loss: -0.07071\n",
      "torch.Size([400, 64])\n"
     ]
    },
    {
     "name": "stderr",
     "output_type": "stream",
     "text": [
      " 49%|████▉     | 488/1000 [3:19:55<3:12:36, 22.57s/it]"
     ]
    },
    {
     "name": "stdout",
     "output_type": "stream",
     "text": [
      "eigenvalues shape torch.Size([5]) eigenvectors shape torch.Size([5, 400])\n",
      "488 /home/phdcs2/Hard_Disk/Datasets/Deep-Spectral-Segmentation/data/object-segmentation/ECSSD/features/dino_vits16/0489.pth\n",
      "dict_keys(['k', 'indices', 'file', 'id', 'model_name', 'patch_size', 'shape'])\n",
      "0489\n",
      "Starting Training\n",
      "epoch: 00, loss: -0.02227\n",
      "epoch: 01, loss: -0.03667\n",
      "epoch: 02, loss: -0.03856\n",
      "epoch: 03, loss: -0.03928\n",
      "epoch: 04, loss: -0.03945\n",
      "epoch: 05, loss: -0.03954\n",
      "epoch: 06, loss: -0.03983\n",
      "epoch: 07, loss: -0.03982\n",
      "epoch: 08, loss: -0.03996\n",
      "epoch: 09, loss: -0.04021\n",
      "torch.Size([550, 64])\n"
     ]
    },
    {
     "name": "stderr",
     "output_type": "stream",
     "text": [
      " 49%|████▉     | 489/1000 [3:20:38<4:04:41, 28.73s/it]"
     ]
    },
    {
     "name": "stdout",
     "output_type": "stream",
     "text": [
      "eigenvalues shape torch.Size([5]) eigenvectors shape torch.Size([5, 550])\n",
      "489 /home/phdcs2/Hard_Disk/Datasets/Deep-Spectral-Segmentation/data/object-segmentation/ECSSD/features/dino_vits16/0490.pth\n",
      "dict_keys(['k', 'indices', 'file', 'id', 'model_name', 'patch_size', 'shape'])\n",
      "0490\n",
      "Starting Training\n",
      "epoch: 00, loss: -0.01343\n",
      "epoch: 01, loss: -0.03509\n",
      "epoch: 02, loss: -0.03931\n",
      "epoch: 03, loss: -0.04062\n",
      "epoch: 04, loss: -0.04075\n",
      "epoch: 05, loss: -0.04118\n",
      "epoch: 06, loss: -0.04147\n",
      "epoch: 07, loss: -0.04156\n",
      "epoch: 08, loss: -0.04175\n",
      "epoch: 09, loss: -0.04189\n",
      "torch.Size([400, 64])\n"
     ]
    },
    {
     "name": "stderr",
     "output_type": "stream",
     "text": [
      " 49%|████▉     | 490/1000 [3:20:57<3:39:58, 25.88s/it]"
     ]
    },
    {
     "name": "stdout",
     "output_type": "stream",
     "text": [
      "eigenvalues shape torch.Size([5]) eigenvectors shape torch.Size([5, 400])\n",
      "490 /home/phdcs2/Hard_Disk/Datasets/Deep-Spectral-Segmentation/data/object-segmentation/ECSSD/features/dino_vits16/0491.pth\n",
      "dict_keys(['k', 'indices', 'file', 'id', 'model_name', 'patch_size', 'shape'])\n",
      "0491\n",
      "Starting Training\n",
      "epoch: 00, loss: -0.05815\n",
      "epoch: 01, loss: -0.08248\n",
      "epoch: 02, loss: -0.08572\n",
      "epoch: 03, loss: -0.08670\n",
      "epoch: 04, loss: -0.08978\n",
      "epoch: 05, loss: -0.08733\n",
      "epoch: 06, loss: -0.09130\n",
      "epoch: 07, loss: -0.08810\n",
      "epoch: 08, loss: -0.09174\n",
      "epoch: 09, loss: -0.09226\n",
      "torch.Size([500, 64])\n"
     ]
    },
    {
     "name": "stderr",
     "output_type": "stream",
     "text": [
      " 49%|████▉     | 491/1000 [3:21:21<3:32:52, 25.09s/it]"
     ]
    },
    {
     "name": "stdout",
     "output_type": "stream",
     "text": [
      "eigenvalues shape torch.Size([5]) eigenvectors shape torch.Size([5, 500])\n",
      "491 /home/phdcs2/Hard_Disk/Datasets/Deep-Spectral-Segmentation/data/object-segmentation/ECSSD/features/dino_vits16/0492.pth\n",
      "dict_keys(['k', 'indices', 'file', 'id', 'model_name', 'patch_size', 'shape'])\n",
      "0492\n",
      "Starting Training\n",
      "epoch: 00, loss: -0.06395\n",
      "epoch: 01, loss: -0.09414\n",
      "epoch: 02, loss: -0.09612\n",
      "epoch: 03, loss: -0.09734\n",
      "epoch: 04, loss: -0.10027\n",
      "epoch: 05, loss: -0.10008\n",
      "epoch: 06, loss: -0.10106\n",
      "epoch: 07, loss: -0.10046\n",
      "epoch: 08, loss: -0.10196\n",
      "epoch: 09, loss: -0.10137\n",
      "torch.Size([450, 64])\n"
     ]
    },
    {
     "name": "stderr",
     "output_type": "stream",
     "text": [
      " 49%|████▉     | 492/1000 [3:21:42<3:23:31, 24.04s/it]"
     ]
    },
    {
     "name": "stdout",
     "output_type": "stream",
     "text": [
      "eigenvalues shape torch.Size([5]) eigenvectors shape torch.Size([5, 450])\n",
      "492 /home/phdcs2/Hard_Disk/Datasets/Deep-Spectral-Segmentation/data/object-segmentation/ECSSD/features/dino_vits16/0493.pth\n",
      "dict_keys(['k', 'indices', 'file', 'id', 'model_name', 'patch_size', 'shape'])\n",
      "0493\n",
      "Starting Training\n",
      "epoch: 00, loss: -0.00995\n",
      "epoch: 01, loss: -0.02817\n",
      "epoch: 02, loss: -0.03230\n",
      "epoch: 03, loss: -0.03317\n",
      "epoch: 04, loss: -0.03362\n",
      "epoch: 05, loss: -0.03416\n",
      "epoch: 06, loss: -0.03430\n",
      "epoch: 07, loss: -0.03455\n",
      "epoch: 08, loss: -0.03458\n",
      "epoch: 09, loss: -0.03487\n",
      "torch.Size([400, 64])\n"
     ]
    },
    {
     "name": "stderr",
     "output_type": "stream",
     "text": [
      " 49%|████▉     | 493/1000 [3:21:59<3:05:30, 21.95s/it]"
     ]
    },
    {
     "name": "stdout",
     "output_type": "stream",
     "text": [
      "eigenvalues shape torch.Size([5]) eigenvectors shape torch.Size([5, 400])\n",
      "493 /home/phdcs2/Hard_Disk/Datasets/Deep-Spectral-Segmentation/data/object-segmentation/ECSSD/features/dino_vits16/0494.pth\n",
      "dict_keys(['k', 'indices', 'file', 'id', 'model_name', 'patch_size', 'shape'])\n",
      "0494\n",
      "Starting Training\n",
      "epoch: 00, loss: -0.00294\n",
      "epoch: 01, loss: -0.01727\n",
      "epoch: 02, loss: -0.02200\n",
      "epoch: 03, loss: -0.02335\n",
      "epoch: 04, loss: -0.02407\n",
      "epoch: 05, loss: -0.02464\n",
      "epoch: 06, loss: -0.02482\n",
      "epoch: 07, loss: -0.02503\n",
      "epoch: 08, loss: -0.02520\n",
      "epoch: 09, loss: -0.02522\n",
      "torch.Size([400, 64])\n"
     ]
    },
    {
     "name": "stderr",
     "output_type": "stream",
     "text": [
      " 49%|████▉     | 494/1000 [3:22:18<2:58:05, 21.12s/it]"
     ]
    },
    {
     "name": "stdout",
     "output_type": "stream",
     "text": [
      "eigenvalues shape torch.Size([5]) eigenvectors shape torch.Size([5, 400])\n",
      "494 /home/phdcs2/Hard_Disk/Datasets/Deep-Spectral-Segmentation/data/object-segmentation/ECSSD/features/dino_vits16/0495.pth\n",
      "dict_keys(['k', 'indices', 'file', 'id', 'model_name', 'patch_size', 'shape'])\n",
      "0495\n",
      "Starting Training\n",
      "epoch: 00, loss: -0.01798\n",
      "epoch: 01, loss: -0.03679\n",
      "epoch: 02, loss: -0.04070\n",
      "epoch: 03, loss: -0.04220\n",
      "epoch: 04, loss: -0.04432\n",
      "epoch: 05, loss: -0.04467\n",
      "epoch: 06, loss: -0.04498\n",
      "epoch: 07, loss: -0.04394\n",
      "epoch: 08, loss: -0.04384\n",
      "epoch: 09, loss: -0.04448\n",
      "torch.Size([400, 64])\n"
     ]
    },
    {
     "name": "stderr",
     "output_type": "stream",
     "text": [
      " 50%|████▉     | 495/1000 [3:22:40<2:58:35, 21.22s/it]"
     ]
    },
    {
     "name": "stdout",
     "output_type": "stream",
     "text": [
      "eigenvalues shape torch.Size([5]) eigenvectors shape torch.Size([5, 400])\n",
      "495 /home/phdcs2/Hard_Disk/Datasets/Deep-Spectral-Segmentation/data/object-segmentation/ECSSD/features/dino_vits16/0496.pth\n",
      "dict_keys(['k', 'indices', 'file', 'id', 'model_name', 'patch_size', 'shape'])\n",
      "0496\n",
      "Starting Training\n",
      "epoch: 00, loss: -0.01710\n",
      "epoch: 01, loss: -0.04689\n",
      "epoch: 02, loss: -0.05317\n",
      "epoch: 03, loss: -0.05235\n",
      "epoch: 04, loss: -0.05467\n",
      "epoch: 05, loss: -0.05812\n",
      "epoch: 06, loss: -0.05793\n",
      "epoch: 07, loss: -0.05768\n",
      "epoch: 08, loss: -0.05909\n",
      "epoch: 09, loss: -0.05924\n",
      "torch.Size([450, 64])\n"
     ]
    },
    {
     "name": "stderr",
     "output_type": "stream",
     "text": [
      " 50%|████▉     | 496/1000 [3:23:05<3:07:45, 22.35s/it]"
     ]
    },
    {
     "name": "stdout",
     "output_type": "stream",
     "text": [
      "eigenvalues shape torch.Size([5]) eigenvectors shape torch.Size([5, 450])\n",
      "496 /home/phdcs2/Hard_Disk/Datasets/Deep-Spectral-Segmentation/data/object-segmentation/ECSSD/features/dino_vits16/0497.pth\n",
      "dict_keys(['k', 'indices', 'file', 'id', 'model_name', 'patch_size', 'shape'])\n",
      "0497\n",
      "Starting Training\n",
      "epoch: 00, loss: -0.02803\n",
      "epoch: 01, loss: -0.04782\n",
      "epoch: 02, loss: -0.05188\n",
      "epoch: 03, loss: -0.05276\n",
      "epoch: 04, loss: -0.05249\n",
      "epoch: 05, loss: -0.05200\n",
      "epoch: 06, loss: -0.05264\n",
      "epoch: 07, loss: -0.05238\n",
      "epoch: 08, loss: -0.05374\n",
      "epoch: 09, loss: -0.05627\n",
      "torch.Size([450, 64])\n"
     ]
    },
    {
     "name": "stderr",
     "output_type": "stream",
     "text": [
      " 50%|████▉     | 497/1000 [3:23:28<3:09:26, 22.60s/it]"
     ]
    },
    {
     "name": "stdout",
     "output_type": "stream",
     "text": [
      "eigenvalues shape torch.Size([5]) eigenvectors shape torch.Size([5, 450])\n",
      "497 /home/phdcs2/Hard_Disk/Datasets/Deep-Spectral-Segmentation/data/object-segmentation/ECSSD/features/dino_vits16/0498.pth\n",
      "dict_keys(['k', 'indices', 'file', 'id', 'model_name', 'patch_size', 'shape'])\n",
      "0498\n",
      "Starting Training\n",
      "epoch: 00, loss: -0.04826\n",
      "epoch: 01, loss: -0.08428\n",
      "epoch: 02, loss: -0.09182\n",
      "epoch: 03, loss: -0.09313\n",
      "epoch: 04, loss: -0.09618\n",
      "epoch: 05, loss: -0.09438\n",
      "epoch: 06, loss: -0.09514\n",
      "epoch: 07, loss: -0.09648\n",
      "epoch: 08, loss: -0.09663\n",
      "epoch: 09, loss: -0.09822\n",
      "torch.Size([400, 64])\n"
     ]
    },
    {
     "name": "stderr",
     "output_type": "stream",
     "text": [
      " 50%|████▉     | 498/1000 [3:23:46<2:58:22, 21.32s/it]"
     ]
    },
    {
     "name": "stdout",
     "output_type": "stream",
     "text": [
      "eigenvalues shape torch.Size([5]) eigenvectors shape torch.Size([5, 400])\n",
      "498 /home/phdcs2/Hard_Disk/Datasets/Deep-Spectral-Segmentation/data/object-segmentation/ECSSD/features/dino_vits16/0499.pth\n",
      "dict_keys(['k', 'indices', 'file', 'id', 'model_name', 'patch_size', 'shape'])\n",
      "0499\n",
      "Starting Training\n",
      "epoch: 00, loss: -0.01092\n",
      "epoch: 01, loss: -0.03189\n",
      "epoch: 02, loss: -0.03568\n",
      "epoch: 03, loss: -0.03631\n",
      "epoch: 04, loss: -0.03653\n",
      "epoch: 05, loss: -0.03715\n",
      "epoch: 06, loss: -0.03717\n",
      "epoch: 07, loss: -0.03795\n",
      "epoch: 08, loss: -0.03650\n",
      "epoch: 09, loss: -0.03799\n",
      "torch.Size([450, 64])\n"
     ]
    },
    {
     "name": "stderr",
     "output_type": "stream",
     "text": [
      " 50%|████▉     | 499/1000 [3:24:09<3:02:14, 21.82s/it]"
     ]
    },
    {
     "name": "stdout",
     "output_type": "stream",
     "text": [
      "eigenvalues shape torch.Size([5]) eigenvectors shape torch.Size([5, 450])\n",
      "499 /home/phdcs2/Hard_Disk/Datasets/Deep-Spectral-Segmentation/data/object-segmentation/ECSSD/features/dino_vits16/0500.pth\n",
      "dict_keys(['k', 'indices', 'file', 'id', 'model_name', 'patch_size', 'shape'])\n",
      "0500\n",
      "Starting Training\n",
      "epoch: 00, loss: -0.01042\n",
      "epoch: 01, loss: -0.03556\n",
      "epoch: 02, loss: -0.03972\n",
      "epoch: 03, loss: -0.04037\n",
      "epoch: 04, loss: -0.04089\n",
      "epoch: 05, loss: -0.04113\n",
      "epoch: 06, loss: -0.04144\n",
      "epoch: 07, loss: -0.04137\n",
      "epoch: 08, loss: -0.04161\n",
      "epoch: 09, loss: -0.04167\n",
      "torch.Size([450, 64])\n"
     ]
    },
    {
     "name": "stderr",
     "output_type": "stream",
     "text": [
      " 50%|█████     | 500/1000 [3:24:32<3:03:40, 22.04s/it]"
     ]
    },
    {
     "name": "stdout",
     "output_type": "stream",
     "text": [
      "eigenvalues shape torch.Size([5]) eigenvectors shape torch.Size([5, 450])\n",
      "500 /home/phdcs2/Hard_Disk/Datasets/Deep-Spectral-Segmentation/data/object-segmentation/ECSSD/features/dino_vits16/0501.pth\n",
      "dict_keys(['k', 'indices', 'file', 'id', 'model_name', 'patch_size', 'shape'])\n",
      "0501\n",
      "Starting Training\n",
      "epoch: 00, loss: -0.03062\n",
      "epoch: 01, loss: -0.05770\n",
      "epoch: 02, loss: -0.06454\n",
      "epoch: 03, loss: -0.06534\n",
      "epoch: 04, loss: -0.06425\n",
      "epoch: 05, loss: -0.06669\n",
      "epoch: 06, loss: -0.06690\n",
      "epoch: 07, loss: -0.06657\n",
      "epoch: 08, loss: -0.06657\n",
      "epoch: 09, loss: -0.06727\n",
      "torch.Size([450, 64])\n"
     ]
    },
    {
     "name": "stderr",
     "output_type": "stream",
     "text": [
      " 50%|█████     | 501/1000 [3:24:54<3:02:11, 21.91s/it]"
     ]
    },
    {
     "name": "stdout",
     "output_type": "stream",
     "text": [
      "eigenvalues shape torch.Size([5]) eigenvectors shape torch.Size([5, 450])\n",
      "501 /home/phdcs2/Hard_Disk/Datasets/Deep-Spectral-Segmentation/data/object-segmentation/ECSSD/features/dino_vits16/0502.pth\n",
      "dict_keys(['k', 'indices', 'file', 'id', 'model_name', 'patch_size', 'shape'])\n",
      "0502\n",
      "Starting Training\n",
      "epoch: 00, loss: -0.03718\n",
      "epoch: 01, loss: -0.05825\n",
      "epoch: 02, loss: -0.05892\n",
      "epoch: 03, loss: -0.05931\n",
      "epoch: 04, loss: -0.05934\n",
      "epoch: 05, loss: -0.06013\n",
      "epoch: 06, loss: -0.05959\n",
      "epoch: 07, loss: -0.05988\n",
      "epoch: 08, loss: -0.06003\n",
      "epoch: 09, loss: -0.06104\n",
      "torch.Size([625, 64])\n"
     ]
    },
    {
     "name": "stderr",
     "output_type": "stream",
     "text": [
      " 50%|█████     | 502/1000 [3:25:34<3:48:35, 27.54s/it]"
     ]
    },
    {
     "name": "stdout",
     "output_type": "stream",
     "text": [
      "eigenvalues shape torch.Size([5]) eigenvectors shape torch.Size([5, 625])\n",
      "502 /home/phdcs2/Hard_Disk/Datasets/Deep-Spectral-Segmentation/data/object-segmentation/ECSSD/features/dino_vits16/0503.pth\n",
      "dict_keys(['k', 'indices', 'file', 'id', 'model_name', 'patch_size', 'shape'])\n",
      "0503\n",
      "Starting Training\n",
      "epoch: 00, loss: -0.05605\n",
      "epoch: 01, loss: -0.07552\n",
      "epoch: 02, loss: -0.07660\n",
      "epoch: 03, loss: -0.07683\n",
      "epoch: 04, loss: -0.07707\n",
      "epoch: 05, loss: -0.07740\n",
      "epoch: 06, loss: -0.07723\n",
      "epoch: 07, loss: -0.07793\n",
      "epoch: 08, loss: -0.07756\n",
      "epoch: 09, loss: -0.07775\n",
      "torch.Size([400, 64])\n"
     ]
    },
    {
     "name": "stderr",
     "output_type": "stream",
     "text": [
      " 50%|█████     | 503/1000 [3:25:53<3:25:51, 24.85s/it]"
     ]
    },
    {
     "name": "stdout",
     "output_type": "stream",
     "text": [
      "eigenvalues shape torch.Size([5]) eigenvectors shape torch.Size([5, 400])\n",
      "503 /home/phdcs2/Hard_Disk/Datasets/Deep-Spectral-Segmentation/data/object-segmentation/ECSSD/features/dino_vits16/0504.pth\n",
      "dict_keys(['k', 'indices', 'file', 'id', 'model_name', 'patch_size', 'shape'])\n",
      "0504\n",
      "Starting Training\n",
      "epoch: 00, loss: -0.02702\n",
      "epoch: 01, loss: -0.06019\n",
      "epoch: 02, loss: -0.06598\n",
      "epoch: 03, loss: -0.06789\n",
      "epoch: 04, loss: -0.06759\n",
      "epoch: 05, loss: -0.06854\n",
      "epoch: 06, loss: -0.06977\n",
      "epoch: 07, loss: -0.06795\n",
      "epoch: 08, loss: -0.06823\n",
      "epoch: 09, loss: -0.06947\n",
      "torch.Size([400, 64])\n"
     ]
    },
    {
     "name": "stderr",
     "output_type": "stream",
     "text": [
      " 50%|█████     | 504/1000 [3:26:11<3:09:24, 22.91s/it]"
     ]
    },
    {
     "name": "stdout",
     "output_type": "stream",
     "text": [
      "eigenvalues shape torch.Size([5]) eigenvectors shape torch.Size([5, 400])\n",
      "504 /home/phdcs2/Hard_Disk/Datasets/Deep-Spectral-Segmentation/data/object-segmentation/ECSSD/features/dino_vits16/0505.pth\n",
      "dict_keys(['k', 'indices', 'file', 'id', 'model_name', 'patch_size', 'shape'])\n",
      "0505\n",
      "Starting Training\n",
      "epoch: 00, loss: -0.03463\n",
      "epoch: 01, loss: -0.05806\n",
      "epoch: 02, loss: -0.06082\n",
      "epoch: 03, loss: -0.06325\n",
      "epoch: 04, loss: -0.06524\n",
      "epoch: 05, loss: -0.06378\n",
      "epoch: 06, loss: -0.06330\n",
      "epoch: 07, loss: -0.06296\n",
      "epoch: 08, loss: -0.06421\n",
      "epoch: 09, loss: -0.06730\n",
      "torch.Size([450, 64])\n"
     ]
    },
    {
     "name": "stderr",
     "output_type": "stream",
     "text": [
      " 50%|█████     | 505/1000 [3:26:33<3:06:51, 22.65s/it]"
     ]
    },
    {
     "name": "stdout",
     "output_type": "stream",
     "text": [
      "eigenvalues shape torch.Size([5]) eigenvectors shape torch.Size([5, 450])\n",
      "505 /home/phdcs2/Hard_Disk/Datasets/Deep-Spectral-Segmentation/data/object-segmentation/ECSSD/features/dino_vits16/0506.pth\n",
      "dict_keys(['k', 'indices', 'file', 'id', 'model_name', 'patch_size', 'shape'])\n",
      "0506\n",
      "Starting Training\n",
      "epoch: 00, loss: -0.02246\n",
      "epoch: 01, loss: -0.03788\n",
      "epoch: 02, loss: -0.04105\n",
      "epoch: 03, loss: -0.04149\n",
      "epoch: 04, loss: -0.04223\n",
      "epoch: 05, loss: -0.04261\n",
      "epoch: 06, loss: -0.04263\n",
      "epoch: 07, loss: -0.04318\n",
      "epoch: 08, loss: -0.04296\n",
      "epoch: 09, loss: -0.04294\n",
      "torch.Size([400, 64])\n"
     ]
    },
    {
     "name": "stderr",
     "output_type": "stream",
     "text": [
      " 51%|█████     | 506/1000 [3:26:54<3:01:50, 22.09s/it]"
     ]
    },
    {
     "name": "stdout",
     "output_type": "stream",
     "text": [
      "eigenvalues shape torch.Size([5]) eigenvectors shape torch.Size([5, 400])\n",
      "506 /home/phdcs2/Hard_Disk/Datasets/Deep-Spectral-Segmentation/data/object-segmentation/ECSSD/features/dino_vits16/0507.pth\n",
      "dict_keys(['k', 'indices', 'file', 'id', 'model_name', 'patch_size', 'shape'])\n",
      "0507\n",
      "Starting Training\n",
      "epoch: 00, loss: 0.00082\n",
      "epoch: 01, loss: -0.01666\n",
      "epoch: 02, loss: -0.02149\n",
      "epoch: 03, loss: -0.02381\n",
      "epoch: 04, loss: -0.02591\n",
      "epoch: 05, loss: -0.02680\n",
      "epoch: 06, loss: -0.02713\n",
      "epoch: 07, loss: -0.02706\n",
      "epoch: 08, loss: -0.02733\n",
      "epoch: 09, loss: -0.02649\n",
      "torch.Size([375, 64])\n"
     ]
    },
    {
     "name": "stderr",
     "output_type": "stream",
     "text": [
      " 51%|█████     | 507/1000 [3:27:13<2:54:15, 21.21s/it]"
     ]
    },
    {
     "name": "stdout",
     "output_type": "stream",
     "text": [
      "eigenvalues shape torch.Size([5]) eigenvectors shape torch.Size([5, 375])\n",
      "507 /home/phdcs2/Hard_Disk/Datasets/Deep-Spectral-Segmentation/data/object-segmentation/ECSSD/features/dino_vits16/0508.pth\n",
      "dict_keys(['k', 'indices', 'file', 'id', 'model_name', 'patch_size', 'shape'])\n",
      "0508\n",
      "Starting Training\n",
      "epoch: 00, loss: -0.01738\n",
      "epoch: 01, loss: -0.03417\n",
      "epoch: 02, loss: -0.03677\n",
      "epoch: 03, loss: -0.03728\n",
      "epoch: 04, loss: -0.03779\n",
      "epoch: 05, loss: -0.03825\n",
      "epoch: 06, loss: -0.03833\n",
      "epoch: 07, loss: -0.03849\n",
      "epoch: 08, loss: -0.03866\n",
      "epoch: 09, loss: -0.03874\n",
      "torch.Size([400, 64])\n"
     ]
    },
    {
     "name": "stderr",
     "output_type": "stream",
     "text": [
      " 51%|█████     | 508/1000 [3:27:36<2:57:58, 21.70s/it]"
     ]
    },
    {
     "name": "stdout",
     "output_type": "stream",
     "text": [
      "eigenvalues shape torch.Size([5]) eigenvectors shape torch.Size([5, 400])\n",
      "508 /home/phdcs2/Hard_Disk/Datasets/Deep-Spectral-Segmentation/data/object-segmentation/ECSSD/features/dino_vits16/0509.pth\n",
      "dict_keys(['k', 'indices', 'file', 'id', 'model_name', 'patch_size', 'shape'])\n",
      "0509\n",
      "Starting Training\n",
      "epoch: 00, loss: -0.01287\n",
      "epoch: 01, loss: -0.02648\n",
      "epoch: 02, loss: -0.02769\n",
      "epoch: 03, loss: -0.02852\n",
      "epoch: 04, loss: -0.02924\n",
      "epoch: 05, loss: -0.02922\n",
      "epoch: 06, loss: -0.02955\n",
      "epoch: 07, loss: -0.03020\n",
      "epoch: 08, loss: -0.03046\n",
      "epoch: 09, loss: -0.03014\n",
      "torch.Size([625, 64])\n"
     ]
    },
    {
     "name": "stderr",
     "output_type": "stream",
     "text": [
      " 51%|█████     | 509/1000 [3:28:06<3:18:41, 24.28s/it]"
     ]
    },
    {
     "name": "stdout",
     "output_type": "stream",
     "text": [
      "eigenvalues shape torch.Size([5]) eigenvectors shape torch.Size([5, 625])\n",
      "509 /home/phdcs2/Hard_Disk/Datasets/Deep-Spectral-Segmentation/data/object-segmentation/ECSSD/features/dino_vits16/0510.pth\n",
      "dict_keys(['k', 'indices', 'file', 'id', 'model_name', 'patch_size', 'shape'])\n",
      "0510\n",
      "Starting Training\n",
      "epoch: 00, loss: -0.00249\n",
      "epoch: 01, loss: -0.01743\n",
      "epoch: 02, loss: -0.02246\n",
      "epoch: 03, loss: -0.02392\n",
      "epoch: 04, loss: -0.02504\n",
      "epoch: 05, loss: -0.02542\n",
      "epoch: 06, loss: -0.02560\n",
      "epoch: 07, loss: -0.02594\n",
      "epoch: 08, loss: -0.02601\n",
      "epoch: 09, loss: -0.02619\n",
      "torch.Size([400, 64])\n"
     ]
    },
    {
     "name": "stderr",
     "output_type": "stream",
     "text": [
      " 51%|█████     | 510/1000 [3:28:29<3:15:34, 23.95s/it]"
     ]
    },
    {
     "name": "stdout",
     "output_type": "stream",
     "text": [
      "eigenvalues shape torch.Size([5]) eigenvectors shape torch.Size([5, 400])\n",
      "510 /home/phdcs2/Hard_Disk/Datasets/Deep-Spectral-Segmentation/data/object-segmentation/ECSSD/features/dino_vits16/0511.pth\n",
      "dict_keys(['k', 'indices', 'file', 'id', 'model_name', 'patch_size', 'shape'])\n",
      "0511\n",
      "Starting Training\n",
      "epoch: 00, loss: -0.02665\n",
      "epoch: 01, loss: -0.03707\n",
      "epoch: 02, loss: -0.03861\n",
      "epoch: 03, loss: -0.03894\n",
      "epoch: 04, loss: -0.03959\n",
      "epoch: 05, loss: -0.03989\n",
      "epoch: 06, loss: -0.03973\n",
      "epoch: 07, loss: -0.03945\n",
      "epoch: 08, loss: -0.03984\n",
      "epoch: 09, loss: -0.03962\n",
      "torch.Size([625, 64])\n"
     ]
    },
    {
     "name": "stderr",
     "output_type": "stream",
     "text": [
      " 51%|█████     | 511/1000 [3:29:06<3:46:30, 27.79s/it]"
     ]
    },
    {
     "name": "stdout",
     "output_type": "stream",
     "text": [
      "eigenvalues shape torch.Size([5]) eigenvectors shape torch.Size([5, 625])\n",
      "511 /home/phdcs2/Hard_Disk/Datasets/Deep-Spectral-Segmentation/data/object-segmentation/ECSSD/features/dino_vits16/0512.pth\n",
      "dict_keys(['k', 'indices', 'file', 'id', 'model_name', 'patch_size', 'shape'])\n",
      "0512\n",
      "Starting Training\n",
      "epoch: 00, loss: -0.01622\n",
      "epoch: 01, loss: -0.04325\n",
      "epoch: 02, loss: -0.04756\n",
      "epoch: 03, loss: -0.04870\n",
      "epoch: 04, loss: -0.04985\n",
      "epoch: 05, loss: -0.05048\n",
      "epoch: 06, loss: -0.05089\n",
      "epoch: 07, loss: -0.05055\n",
      "epoch: 08, loss: -0.04940\n",
      "epoch: 09, loss: -0.05259\n",
      "torch.Size([400, 64])\n"
     ]
    },
    {
     "name": "stderr",
     "output_type": "stream",
     "text": [
      " 51%|█████     | 512/1000 [3:29:29<3:34:10, 26.33s/it]"
     ]
    },
    {
     "name": "stdout",
     "output_type": "stream",
     "text": [
      "eigenvalues shape torch.Size([5]) eigenvectors shape torch.Size([5, 400])\n",
      "512 /home/phdcs2/Hard_Disk/Datasets/Deep-Spectral-Segmentation/data/object-segmentation/ECSSD/features/dino_vits16/0513.pth\n",
      "dict_keys(['k', 'indices', 'file', 'id', 'model_name', 'patch_size', 'shape'])\n",
      "0513\n",
      "Starting Training\n",
      "epoch: 00, loss: -0.00859\n",
      "epoch: 01, loss: -0.02636\n",
      "epoch: 02, loss: -0.03095\n",
      "epoch: 03, loss: -0.03228\n",
      "epoch: 04, loss: -0.03303\n",
      "epoch: 05, loss: -0.03336\n",
      "epoch: 06, loss: -0.03345\n",
      "epoch: 07, loss: -0.03378\n",
      "epoch: 08, loss: -0.03397\n",
      "epoch: 09, loss: -0.03402\n",
      "torch.Size([400, 64])\n"
     ]
    },
    {
     "name": "stderr",
     "output_type": "stream",
     "text": [
      " 51%|█████▏    | 513/1000 [3:29:47<3:13:51, 23.88s/it]"
     ]
    },
    {
     "name": "stdout",
     "output_type": "stream",
     "text": [
      "eigenvalues shape torch.Size([5]) eigenvectors shape torch.Size([5, 400])\n",
      "513 /home/phdcs2/Hard_Disk/Datasets/Deep-Spectral-Segmentation/data/object-segmentation/ECSSD/features/dino_vits16/0514.pth\n",
      "dict_keys(['k', 'indices', 'file', 'id', 'model_name', 'patch_size', 'shape'])\n",
      "0514\n",
      "Starting Training\n",
      "epoch: 00, loss: -0.01230\n",
      "epoch: 01, loss: -0.02726\n",
      "epoch: 02, loss: -0.03389\n",
      "epoch: 03, loss: -0.03433\n",
      "epoch: 04, loss: -0.03807\n",
      "epoch: 05, loss: -0.03872\n",
      "epoch: 06, loss: -0.03998\n",
      "epoch: 07, loss: -0.03977\n",
      "epoch: 08, loss: -0.04129\n",
      "epoch: 09, loss: -0.04224\n",
      "torch.Size([450, 64])\n"
     ]
    },
    {
     "name": "stderr",
     "output_type": "stream",
     "text": [
      " 51%|█████▏    | 514/1000 [3:30:09<3:08:45, 23.30s/it]"
     ]
    },
    {
     "name": "stdout",
     "output_type": "stream",
     "text": [
      "eigenvalues shape torch.Size([5]) eigenvectors shape torch.Size([5, 450])\n",
      "514 /home/phdcs2/Hard_Disk/Datasets/Deep-Spectral-Segmentation/data/object-segmentation/ECSSD/features/dino_vits16/0515.pth\n",
      "dict_keys(['k', 'indices', 'file', 'id', 'model_name', 'patch_size', 'shape'])\n",
      "0515\n",
      "Starting Training\n",
      "epoch: 00, loss: -0.00640\n",
      "epoch: 01, loss: -0.02938\n",
      "epoch: 02, loss: -0.03436\n",
      "epoch: 03, loss: -0.03544\n",
      "epoch: 04, loss: -0.03594\n",
      "epoch: 05, loss: -0.03675\n",
      "epoch: 06, loss: -0.03701\n",
      "epoch: 07, loss: -0.03735\n",
      "epoch: 08, loss: -0.03678\n",
      "epoch: 09, loss: -0.03755\n",
      "torch.Size([450, 64])\n"
     ]
    },
    {
     "name": "stderr",
     "output_type": "stream",
     "text": [
      " 52%|█████▏    | 515/1000 [3:30:29<2:59:27, 22.20s/it]"
     ]
    },
    {
     "name": "stdout",
     "output_type": "stream",
     "text": [
      "eigenvalues shape torch.Size([5]) eigenvectors shape torch.Size([5, 450])\n",
      "515 /home/phdcs2/Hard_Disk/Datasets/Deep-Spectral-Segmentation/data/object-segmentation/ECSSD/features/dino_vits16/0516.pth\n",
      "dict_keys(['k', 'indices', 'file', 'id', 'model_name', 'patch_size', 'shape'])\n",
      "0516\n",
      "Starting Training\n",
      "epoch: 00, loss: -0.02024\n",
      "epoch: 01, loss: -0.03881\n",
      "epoch: 02, loss: -0.04478\n",
      "epoch: 03, loss: -0.04664\n",
      "epoch: 04, loss: -0.04596\n",
      "epoch: 05, loss: -0.04667\n",
      "epoch: 06, loss: -0.04803\n",
      "epoch: 07, loss: -0.04951\n",
      "epoch: 08, loss: -0.04784\n",
      "epoch: 09, loss: -0.04950\n",
      "torch.Size([450, 64])\n"
     ]
    },
    {
     "name": "stderr",
     "output_type": "stream",
     "text": [
      " 52%|█████▏    | 516/1000 [3:30:51<2:57:57, 22.06s/it]"
     ]
    },
    {
     "name": "stdout",
     "output_type": "stream",
     "text": [
      "eigenvalues shape torch.Size([5]) eigenvectors shape torch.Size([5, 450])\n",
      "516 /home/phdcs2/Hard_Disk/Datasets/Deep-Spectral-Segmentation/data/object-segmentation/ECSSD/features/dino_vits16/0517.pth\n",
      "dict_keys(['k', 'indices', 'file', 'id', 'model_name', 'patch_size', 'shape'])\n",
      "0517\n",
      "Starting Training\n",
      "epoch: 00, loss: -0.01052\n",
      "epoch: 01, loss: -0.03085\n",
      "epoch: 02, loss: -0.03463\n",
      "epoch: 03, loss: -0.03579\n",
      "epoch: 04, loss: -0.03626\n",
      "epoch: 05, loss: -0.03666\n",
      "epoch: 06, loss: -0.03677\n",
      "epoch: 07, loss: -0.03694\n",
      "epoch: 08, loss: -0.03714\n",
      "epoch: 09, loss: -0.03705\n",
      "torch.Size([450, 64])\n"
     ]
    },
    {
     "name": "stderr",
     "output_type": "stream",
     "text": [
      " 52%|█████▏    | 517/1000 [3:31:14<3:00:11, 22.38s/it]"
     ]
    },
    {
     "name": "stdout",
     "output_type": "stream",
     "text": [
      "eigenvalues shape torch.Size([5]) eigenvectors shape torch.Size([5, 450])\n",
      "517 /home/phdcs2/Hard_Disk/Datasets/Deep-Spectral-Segmentation/data/object-segmentation/ECSSD/features/dino_vits16/0518.pth\n",
      "dict_keys(['k', 'indices', 'file', 'id', 'model_name', 'patch_size', 'shape'])\n",
      "0518\n",
      "Starting Training\n",
      "epoch: 00, loss: -0.01656\n",
      "epoch: 01, loss: -0.04732\n",
      "epoch: 02, loss: -0.05495\n",
      "epoch: 03, loss: -0.05899\n",
      "epoch: 04, loss: -0.06259\n",
      "epoch: 05, loss: -0.06157\n",
      "epoch: 06, loss: -0.06374\n",
      "epoch: 07, loss: -0.06214\n",
      "epoch: 08, loss: -0.06352\n",
      "epoch: 09, loss: -0.06582\n",
      "torch.Size([400, 64])\n"
     ]
    },
    {
     "name": "stderr",
     "output_type": "stream",
     "text": [
      " 52%|█████▏    | 518/1000 [3:31:33<2:53:14, 21.57s/it]"
     ]
    },
    {
     "name": "stdout",
     "output_type": "stream",
     "text": [
      "eigenvalues shape torch.Size([5]) eigenvectors shape torch.Size([5, 400])\n",
      "518 /home/phdcs2/Hard_Disk/Datasets/Deep-Spectral-Segmentation/data/object-segmentation/ECSSD/features/dino_vits16/0519.pth\n",
      "dict_keys(['k', 'indices', 'file', 'id', 'model_name', 'patch_size', 'shape'])\n",
      "0519\n",
      "Starting Training\n",
      "epoch: 00, loss: -0.02431\n",
      "epoch: 01, loss: -0.04248\n",
      "epoch: 02, loss: -0.04550\n",
      "epoch: 03, loss: -0.04641\n",
      "epoch: 04, loss: -0.04653\n",
      "epoch: 05, loss: -0.04686\n",
      "epoch: 06, loss: -0.04639\n",
      "epoch: 07, loss: -0.04728\n",
      "epoch: 08, loss: -0.04705\n",
      "epoch: 09, loss: -0.04805\n",
      "torch.Size([375, 64])\n"
     ]
    },
    {
     "name": "stderr",
     "output_type": "stream",
     "text": [
      " 52%|█████▏    | 519/1000 [3:31:51<2:43:19, 20.37s/it]"
     ]
    },
    {
     "name": "stdout",
     "output_type": "stream",
     "text": [
      "eigenvalues shape torch.Size([5]) eigenvectors shape torch.Size([5, 375])\n",
      "519 /home/phdcs2/Hard_Disk/Datasets/Deep-Spectral-Segmentation/data/object-segmentation/ECSSD/features/dino_vits16/0520.pth\n",
      "dict_keys(['k', 'indices', 'file', 'id', 'model_name', 'patch_size', 'shape'])\n",
      "0520\n",
      "Starting Training\n",
      "epoch: 00, loss: -0.00607\n",
      "epoch: 01, loss: -0.01922\n",
      "epoch: 02, loss: -0.02262\n",
      "epoch: 03, loss: -0.02403\n",
      "epoch: 04, loss: -0.02463\n",
      "epoch: 05, loss: -0.02484\n",
      "epoch: 06, loss: -0.02511\n",
      "epoch: 07, loss: -0.02535\n",
      "epoch: 08, loss: -0.02542\n",
      "epoch: 09, loss: -0.02549\n",
      "torch.Size([450, 64])\n"
     ]
    },
    {
     "name": "stderr",
     "output_type": "stream",
     "text": [
      " 52%|█████▏    | 520/1000 [3:32:13<2:47:10, 20.90s/it]"
     ]
    },
    {
     "name": "stdout",
     "output_type": "stream",
     "text": [
      "eigenvalues shape torch.Size([5]) eigenvectors shape torch.Size([5, 450])\n",
      "520 /home/phdcs2/Hard_Disk/Datasets/Deep-Spectral-Segmentation/data/object-segmentation/ECSSD/features/dino_vits16/0521.pth\n",
      "dict_keys(['k', 'indices', 'file', 'id', 'model_name', 'patch_size', 'shape'])\n",
      "0521\n",
      "Starting Training\n",
      "epoch: 00, loss: -0.04009\n",
      "epoch: 01, loss: -0.05788\n",
      "epoch: 02, loss: -0.06039\n",
      "epoch: 03, loss: -0.06303\n",
      "epoch: 04, loss: -0.06553\n",
      "epoch: 05, loss: -0.06415\n",
      "epoch: 06, loss: -0.06298\n",
      "epoch: 07, loss: -0.06398\n",
      "epoch: 08, loss: -0.06404\n",
      "epoch: 09, loss: -0.06686\n",
      "torch.Size([450, 64])\n"
     ]
    },
    {
     "name": "stderr",
     "output_type": "stream",
     "text": [
      " 52%|█████▏    | 521/1000 [3:32:37<2:52:46, 21.64s/it]"
     ]
    },
    {
     "name": "stdout",
     "output_type": "stream",
     "text": [
      "eigenvalues shape torch.Size([5]) eigenvectors shape torch.Size([5, 450])\n",
      "521 /home/phdcs2/Hard_Disk/Datasets/Deep-Spectral-Segmentation/data/object-segmentation/ECSSD/features/dino_vits16/0522.pth\n",
      "dict_keys(['k', 'indices', 'file', 'id', 'model_name', 'patch_size', 'shape'])\n",
      "0522\n",
      "Starting Training\n",
      "epoch: 00, loss: -0.02604\n",
      "epoch: 01, loss: -0.04463\n",
      "epoch: 02, loss: -0.04631\n",
      "epoch: 03, loss: -0.04703\n",
      "epoch: 04, loss: -0.04742\n",
      "epoch: 05, loss: -0.04739\n",
      "epoch: 06, loss: -0.04764\n",
      "epoch: 07, loss: -0.04789\n",
      "epoch: 08, loss: -0.04791\n",
      "epoch: 09, loss: -0.04819\n",
      "torch.Size([450, 64])\n"
     ]
    },
    {
     "name": "stderr",
     "output_type": "stream",
     "text": [
      " 52%|█████▏    | 522/1000 [3:32:58<2:51:48, 21.57s/it]"
     ]
    },
    {
     "name": "stdout",
     "output_type": "stream",
     "text": [
      "eigenvalues shape torch.Size([5]) eigenvectors shape torch.Size([5, 450])\n",
      "522 /home/phdcs2/Hard_Disk/Datasets/Deep-Spectral-Segmentation/data/object-segmentation/ECSSD/features/dino_vits16/0523.pth\n",
      "dict_keys(['k', 'indices', 'file', 'id', 'model_name', 'patch_size', 'shape'])\n",
      "0523\n",
      "Starting Training\n",
      "epoch: 00, loss: -0.01967\n",
      "epoch: 01, loss: -0.04377\n",
      "epoch: 02, loss: -0.04637\n",
      "epoch: 03, loss: -0.04735\n",
      "epoch: 04, loss: -0.04798\n",
      "epoch: 05, loss: -0.04828\n",
      "epoch: 06, loss: -0.04840\n",
      "epoch: 07, loss: -0.04860\n",
      "epoch: 08, loss: -0.04878\n",
      "epoch: 09, loss: -0.04884\n",
      "torch.Size([450, 64])\n"
     ]
    },
    {
     "name": "stderr",
     "output_type": "stream",
     "text": [
      " 52%|█████▏    | 523/1000 [3:33:19<2:51:12, 21.54s/it]"
     ]
    },
    {
     "name": "stdout",
     "output_type": "stream",
     "text": [
      "eigenvalues shape torch.Size([5]) eigenvectors shape torch.Size([5, 450])\n",
      "523 /home/phdcs2/Hard_Disk/Datasets/Deep-Spectral-Segmentation/data/object-segmentation/ECSSD/features/dino_vits16/0524.pth\n",
      "dict_keys(['k', 'indices', 'file', 'id', 'model_name', 'patch_size', 'shape'])\n",
      "0524\n",
      "Starting Training\n",
      "epoch: 00, loss: 0.00000\n",
      "epoch: 01, loss: -0.02225\n",
      "epoch: 02, loss: -0.02465\n",
      "epoch: 03, loss: -0.02817\n",
      "epoch: 04, loss: -0.03348\n",
      "epoch: 05, loss: -0.02968\n",
      "epoch: 06, loss: -0.03255\n",
      "epoch: 07, loss: -0.03178\n",
      "epoch: 08, loss: -0.03104\n",
      "epoch: 09, loss: -0.03482\n",
      "torch.Size([475, 64])\n"
     ]
    },
    {
     "name": "stderr",
     "output_type": "stream",
     "text": [
      " 52%|█████▏    | 524/1000 [3:33:42<2:54:25, 21.99s/it]"
     ]
    },
    {
     "name": "stdout",
     "output_type": "stream",
     "text": [
      "eigenvalues shape torch.Size([5]) eigenvectors shape torch.Size([5, 475])\n",
      "524 /home/phdcs2/Hard_Disk/Datasets/Deep-Spectral-Segmentation/data/object-segmentation/ECSSD/features/dino_vits16/0525.pth\n",
      "dict_keys(['k', 'indices', 'file', 'id', 'model_name', 'patch_size', 'shape'])\n",
      "0525\n",
      "Starting Training\n",
      "epoch: 00, loss: -0.05864\n",
      "epoch: 01, loss: -0.09101\n",
      "epoch: 02, loss: -0.09971\n",
      "epoch: 03, loss: -0.10314\n",
      "epoch: 04, loss: -0.10040\n",
      "epoch: 05, loss: -0.10351\n",
      "epoch: 06, loss: -0.10378\n",
      "epoch: 07, loss: -0.10546\n",
      "epoch: 08, loss: -0.10686\n",
      "epoch: 09, loss: -0.10449\n",
      "torch.Size([400, 64])\n"
     ]
    },
    {
     "name": "stderr",
     "output_type": "stream",
     "text": [
      " 52%|█████▎    | 525/1000 [3:34:01<2:45:22, 20.89s/it]"
     ]
    },
    {
     "name": "stdout",
     "output_type": "stream",
     "text": [
      "eigenvalues shape torch.Size([5]) eigenvectors shape torch.Size([5, 400])\n",
      "525 /home/phdcs2/Hard_Disk/Datasets/Deep-Spectral-Segmentation/data/object-segmentation/ECSSD/features/dino_vits16/0526.pth\n",
      "dict_keys(['k', 'indices', 'file', 'id', 'model_name', 'patch_size', 'shape'])\n",
      "0526\n",
      "Starting Training\n",
      "epoch: 00, loss: -0.01496\n",
      "epoch: 01, loss: -0.03262\n",
      "epoch: 02, loss: -0.04029\n",
      "epoch: 03, loss: -0.04108\n",
      "epoch: 04, loss: -0.04093\n",
      "epoch: 05, loss: -0.04334\n",
      "epoch: 06, loss: -0.04279\n",
      "epoch: 07, loss: -0.04638\n",
      "epoch: 08, loss: -0.04293\n",
      "epoch: 09, loss: -0.04433\n",
      "torch.Size([500, 64])\n"
     ]
    },
    {
     "name": "stderr",
     "output_type": "stream",
     "text": [
      " 53%|█████▎    | 526/1000 [3:34:26<2:55:52, 22.26s/it]"
     ]
    },
    {
     "name": "stdout",
     "output_type": "stream",
     "text": [
      "eigenvalues shape torch.Size([5]) eigenvectors shape torch.Size([5, 500])\n",
      "526 /home/phdcs2/Hard_Disk/Datasets/Deep-Spectral-Segmentation/data/object-segmentation/ECSSD/features/dino_vits16/0527.pth\n",
      "dict_keys(['k', 'indices', 'file', 'id', 'model_name', 'patch_size', 'shape'])\n",
      "0527\n",
      "Starting Training\n",
      "epoch: 00, loss: -0.03845\n",
      "epoch: 01, loss: -0.06774\n",
      "epoch: 02, loss: -0.07511\n",
      "epoch: 03, loss: -0.07635\n",
      "epoch: 04, loss: -0.07841\n",
      "epoch: 05, loss: -0.07915\n",
      "epoch: 06, loss: -0.07843\n",
      "epoch: 07, loss: -0.07945\n",
      "epoch: 08, loss: -0.07858\n",
      "epoch: 09, loss: -0.07934\n",
      "torch.Size([400, 64])\n"
     ]
    },
    {
     "name": "stderr",
     "output_type": "stream",
     "text": [
      " 53%|█████▎    | 527/1000 [3:34:47<2:52:52, 21.93s/it]"
     ]
    },
    {
     "name": "stdout",
     "output_type": "stream",
     "text": [
      "eigenvalues shape torch.Size([5]) eigenvectors shape torch.Size([5, 400])\n",
      "527 /home/phdcs2/Hard_Disk/Datasets/Deep-Spectral-Segmentation/data/object-segmentation/ECSSD/features/dino_vits16/0528.pth\n",
      "dict_keys(['k', 'indices', 'file', 'id', 'model_name', 'patch_size', 'shape'])\n",
      "0528\n",
      "Starting Training\n",
      "epoch: 00, loss: -0.02046\n",
      "epoch: 01, loss: -0.04132\n",
      "epoch: 02, loss: -0.04406\n",
      "epoch: 03, loss: -0.04467\n",
      "epoch: 04, loss: -0.04528\n",
      "epoch: 05, loss: -0.04544\n",
      "epoch: 06, loss: -0.04585\n",
      "epoch: 07, loss: -0.04590\n",
      "epoch: 08, loss: -0.04590\n",
      "epoch: 09, loss: -0.04599\n",
      "torch.Size([400, 64])\n"
     ]
    },
    {
     "name": "stderr",
     "output_type": "stream",
     "text": [
      " 53%|█████▎    | 528/1000 [3:35:06<2:44:04, 20.86s/it]"
     ]
    },
    {
     "name": "stdout",
     "output_type": "stream",
     "text": [
      "eigenvalues shape torch.Size([5]) eigenvectors shape torch.Size([5, 400])\n",
      "528 /home/phdcs2/Hard_Disk/Datasets/Deep-Spectral-Segmentation/data/object-segmentation/ECSSD/features/dino_vits16/0529.pth\n",
      "dict_keys(['k', 'indices', 'file', 'id', 'model_name', 'patch_size', 'shape'])\n",
      "0529\n",
      "Starting Training\n",
      "epoch: 00, loss: -0.06969\n",
      "epoch: 01, loss: -0.08914\n",
      "epoch: 02, loss: -0.08992\n",
      "epoch: 03, loss: -0.09039\n",
      "epoch: 04, loss: -0.09050\n",
      "epoch: 05, loss: -0.09077\n",
      "epoch: 06, loss: -0.09109\n",
      "epoch: 07, loss: -0.09109\n",
      "epoch: 08, loss: -0.09122\n",
      "epoch: 09, loss: -0.09129\n",
      "torch.Size([400, 64])\n"
     ]
    },
    {
     "name": "stderr",
     "output_type": "stream",
     "text": [
      " 53%|█████▎    | 529/1000 [3:35:27<2:44:15, 20.92s/it]"
     ]
    },
    {
     "name": "stdout",
     "output_type": "stream",
     "text": [
      "eigenvalues shape torch.Size([5]) eigenvectors shape torch.Size([5, 400])\n",
      "529 /home/phdcs2/Hard_Disk/Datasets/Deep-Spectral-Segmentation/data/object-segmentation/ECSSD/features/dino_vits16/0530.pth\n",
      "dict_keys(['k', 'indices', 'file', 'id', 'model_name', 'patch_size', 'shape'])\n",
      "0530\n",
      "Starting Training\n",
      "epoch: 00, loss: 0.00718\n",
      "epoch: 01, loss: -0.02634\n",
      "epoch: 02, loss: -0.03436\n",
      "epoch: 03, loss: -0.03502\n",
      "epoch: 04, loss: -0.03755\n",
      "epoch: 05, loss: -0.04010\n",
      "epoch: 06, loss: -0.03917\n",
      "epoch: 07, loss: -0.04312\n",
      "epoch: 08, loss: -0.04120\n",
      "epoch: 09, loss: -0.04057\n",
      "torch.Size([500, 64])\n"
     ]
    },
    {
     "name": "stderr",
     "output_type": "stream",
     "text": [
      " 53%|█████▎    | 530/1000 [3:35:53<2:56:23, 22.52s/it]"
     ]
    },
    {
     "name": "stdout",
     "output_type": "stream",
     "text": [
      "eigenvalues shape torch.Size([5]) eigenvectors shape torch.Size([5, 500])\n",
      "530 /home/phdcs2/Hard_Disk/Datasets/Deep-Spectral-Segmentation/data/object-segmentation/ECSSD/features/dino_vits16/0531.pth\n",
      "dict_keys(['k', 'indices', 'file', 'id', 'model_name', 'patch_size', 'shape'])\n",
      "0531\n",
      "Starting Training\n",
      "epoch: 00, loss: -0.00936\n",
      "epoch: 01, loss: -0.02657\n",
      "epoch: 02, loss: -0.02977\n",
      "epoch: 03, loss: -0.03070\n",
      "epoch: 04, loss: -0.03124\n",
      "epoch: 05, loss: -0.03152\n",
      "epoch: 06, loss: -0.03166\n",
      "epoch: 07, loss: -0.03185\n",
      "epoch: 08, loss: -0.03204\n",
      "epoch: 09, loss: -0.03217\n",
      "torch.Size([450, 64])\n"
     ]
    },
    {
     "name": "stderr",
     "output_type": "stream",
     "text": [
      " 53%|█████▎    | 531/1000 [3:36:13<2:49:37, 21.70s/it]"
     ]
    },
    {
     "name": "stdout",
     "output_type": "stream",
     "text": [
      "eigenvalues shape torch.Size([5]) eigenvectors shape torch.Size([5, 450])\n",
      "531 /home/phdcs2/Hard_Disk/Datasets/Deep-Spectral-Segmentation/data/object-segmentation/ECSSD/features/dino_vits16/0532.pth\n",
      "dict_keys(['k', 'indices', 'file', 'id', 'model_name', 'patch_size', 'shape'])\n",
      "0532\n",
      "Starting Training\n",
      "epoch: 00, loss: 0.00637\n",
      "epoch: 01, loss: -0.00273\n",
      "epoch: 02, loss: -0.00738\n",
      "epoch: 03, loss: -0.01030\n",
      "epoch: 04, loss: -0.01203\n",
      "epoch: 05, loss: -0.01300\n",
      "epoch: 06, loss: -0.01379\n",
      "epoch: 07, loss: -0.01428\n",
      "epoch: 08, loss: -0.01464\n",
      "epoch: 09, loss: -0.01492\n",
      "torch.Size([450, 64])\n"
     ]
    },
    {
     "name": "stderr",
     "output_type": "stream",
     "text": [
      " 53%|█████▎    | 532/1000 [3:36:33<2:45:54, 21.27s/it]"
     ]
    },
    {
     "name": "stdout",
     "output_type": "stream",
     "text": [
      "eigenvalues shape torch.Size([5]) eigenvectors shape torch.Size([5, 450])\n",
      "532 /home/phdcs2/Hard_Disk/Datasets/Deep-Spectral-Segmentation/data/object-segmentation/ECSSD/features/dino_vits16/0533.pth\n",
      "dict_keys(['k', 'indices', 'file', 'id', 'model_name', 'patch_size', 'shape'])\n",
      "0533\n",
      "Starting Training\n",
      "epoch: 00, loss: -0.04038\n",
      "epoch: 01, loss: -0.07047\n",
      "epoch: 02, loss: -0.07187\n",
      "epoch: 03, loss: -0.07217\n",
      "epoch: 04, loss: -0.07259\n",
      "epoch: 05, loss: -0.07284\n",
      "epoch: 06, loss: -0.07282\n",
      "epoch: 07, loss: -0.07316\n",
      "epoch: 08, loss: -0.07322\n",
      "epoch: 09, loss: -0.07319\n",
      "torch.Size([400, 64])\n"
     ]
    },
    {
     "name": "stderr",
     "output_type": "stream",
     "text": [
      " 53%|█████▎    | 533/1000 [3:36:52<2:40:11, 20.58s/it]"
     ]
    },
    {
     "name": "stdout",
     "output_type": "stream",
     "text": [
      "eigenvalues shape torch.Size([5]) eigenvectors shape torch.Size([5, 400])\n",
      "533 /home/phdcs2/Hard_Disk/Datasets/Deep-Spectral-Segmentation/data/object-segmentation/ECSSD/features/dino_vits16/0534.pth\n",
      "dict_keys(['k', 'indices', 'file', 'id', 'model_name', 'patch_size', 'shape'])\n",
      "0534\n",
      "Starting Training\n",
      "epoch: 00, loss: -0.09617\n",
      "epoch: 01, loss: -0.12524\n",
      "epoch: 02, loss: -0.12945\n",
      "epoch: 03, loss: -0.13210\n",
      "epoch: 04, loss: -0.13231\n",
      "epoch: 05, loss: -0.13338\n",
      "epoch: 06, loss: -0.13300\n",
      "epoch: 07, loss: -0.13470\n",
      "epoch: 08, loss: -0.13484\n",
      "epoch: 09, loss: -0.13539\n",
      "torch.Size([450, 64])\n"
     ]
    },
    {
     "name": "stderr",
     "output_type": "stream",
     "text": [
      " 53%|█████▎    | 534/1000 [3:37:14<2:43:24, 21.04s/it]"
     ]
    },
    {
     "name": "stdout",
     "output_type": "stream",
     "text": [
      "eigenvalues shape torch.Size([5]) eigenvectors shape torch.Size([5, 450])\n",
      "534 /home/phdcs2/Hard_Disk/Datasets/Deep-Spectral-Segmentation/data/object-segmentation/ECSSD/features/dino_vits16/0535.pth\n",
      "dict_keys(['k', 'indices', 'file', 'id', 'model_name', 'patch_size', 'shape'])\n",
      "0535\n",
      "Starting Training\n",
      "epoch: 00, loss: 0.00787\n",
      "epoch: 01, loss: 0.00056\n",
      "epoch: 02, loss: -0.00272\n",
      "epoch: 03, loss: -0.00462\n",
      "epoch: 04, loss: -0.00601\n",
      "epoch: 05, loss: -0.00705\n",
      "epoch: 06, loss: -0.00777\n",
      "epoch: 07, loss: -0.00839\n",
      "epoch: 08, loss: -0.00866\n",
      "epoch: 09, loss: -0.00898\n",
      "torch.Size([400, 64])\n"
     ]
    },
    {
     "name": "stderr",
     "output_type": "stream",
     "text": [
      " 54%|█████▎    | 535/1000 [3:37:35<2:42:27, 20.96s/it]"
     ]
    },
    {
     "name": "stdout",
     "output_type": "stream",
     "text": [
      "eigenvalues shape torch.Size([5]) eigenvectors shape torch.Size([5, 400])\n",
      "535 /home/phdcs2/Hard_Disk/Datasets/Deep-Spectral-Segmentation/data/object-segmentation/ECSSD/features/dino_vits16/0536.pth\n",
      "dict_keys(['k', 'indices', 'file', 'id', 'model_name', 'patch_size', 'shape'])\n",
      "0536\n",
      "Starting Training\n",
      "epoch: 00, loss: -0.00604\n",
      "epoch: 01, loss: -0.02155\n",
      "epoch: 02, loss: -0.02544\n",
      "epoch: 03, loss: -0.02682\n",
      "epoch: 04, loss: -0.02734\n",
      "epoch: 05, loss: -0.02770\n",
      "epoch: 06, loss: -0.02797\n",
      "epoch: 07, loss: -0.02809\n",
      "epoch: 08, loss: -0.02820\n",
      "epoch: 09, loss: -0.02835\n",
      "torch.Size([450, 64])\n"
     ]
    },
    {
     "name": "stderr",
     "output_type": "stream",
     "text": [
      " 54%|█████▎    | 536/1000 [3:37:57<2:44:46, 21.31s/it]"
     ]
    },
    {
     "name": "stdout",
     "output_type": "stream",
     "text": [
      "eigenvalues shape torch.Size([5]) eigenvectors shape torch.Size([5, 450])\n",
      "536 /home/phdcs2/Hard_Disk/Datasets/Deep-Spectral-Segmentation/data/object-segmentation/ECSSD/features/dino_vits16/0537.pth\n",
      "dict_keys(['k', 'indices', 'file', 'id', 'model_name', 'patch_size', 'shape'])\n",
      "0537\n",
      "Starting Training\n",
      "epoch: 00, loss: -0.04483\n",
      "epoch: 01, loss: -0.05963\n",
      "epoch: 02, loss: -0.06027\n",
      "epoch: 03, loss: -0.06083\n",
      "epoch: 04, loss: -0.06117\n",
      "epoch: 05, loss: -0.06126\n",
      "epoch: 06, loss: -0.06141\n",
      "epoch: 07, loss: -0.06157\n",
      "epoch: 08, loss: -0.06163\n",
      "epoch: 09, loss: -0.06172\n",
      "torch.Size([450, 64])\n"
     ]
    },
    {
     "name": "stderr",
     "output_type": "stream",
     "text": [
      " 54%|█████▎    | 537/1000 [3:38:19<2:45:35, 21.46s/it]"
     ]
    },
    {
     "name": "stdout",
     "output_type": "stream",
     "text": [
      "eigenvalues shape torch.Size([5]) eigenvectors shape torch.Size([5, 450])\n",
      "537 /home/phdcs2/Hard_Disk/Datasets/Deep-Spectral-Segmentation/data/object-segmentation/ECSSD/features/dino_vits16/0538.pth\n",
      "dict_keys(['k', 'indices', 'file', 'id', 'model_name', 'patch_size', 'shape'])\n",
      "0538\n",
      "Starting Training\n",
      "epoch: 00, loss: 0.00759\n",
      "epoch: 01, loss: 0.00292\n",
      "epoch: 02, loss: 0.00094\n",
      "epoch: 03, loss: -0.00052\n",
      "epoch: 04, loss: -0.00179\n",
      "epoch: 05, loss: -0.00251\n",
      "epoch: 06, loss: -0.00319\n",
      "epoch: 07, loss: -0.00373\n",
      "epoch: 08, loss: -0.00414\n",
      "epoch: 09, loss: -0.00452\n",
      "torch.Size([400, 64])\n"
     ]
    },
    {
     "name": "stderr",
     "output_type": "stream",
     "text": [
      " 54%|█████▍    | 538/1000 [3:38:37<2:38:21, 20.57s/it]"
     ]
    },
    {
     "name": "stdout",
     "output_type": "stream",
     "text": [
      "eigenvalues shape torch.Size([5]) eigenvectors shape torch.Size([5, 400])\n",
      "538 /home/phdcs2/Hard_Disk/Datasets/Deep-Spectral-Segmentation/data/object-segmentation/ECSSD/features/dino_vits16/0539.pth\n",
      "dict_keys(['k', 'indices', 'file', 'id', 'model_name', 'patch_size', 'shape'])\n",
      "0539\n",
      "Starting Training\n",
      "epoch: 00, loss: -0.01001\n",
      "epoch: 01, loss: -0.02776\n",
      "epoch: 02, loss: -0.03258\n",
      "epoch: 03, loss: -0.03413\n",
      "epoch: 04, loss: -0.03409\n",
      "epoch: 05, loss: -0.03473\n",
      "epoch: 06, loss: -0.03577\n",
      "epoch: 07, loss: -0.03474\n",
      "epoch: 08, loss: -0.03502\n",
      "epoch: 09, loss: -0.03488\n",
      "torch.Size([425, 64])\n"
     ]
    },
    {
     "name": "stderr",
     "output_type": "stream",
     "text": [
      " 54%|█████▍    | 539/1000 [3:38:58<2:37:35, 20.51s/it]"
     ]
    },
    {
     "name": "stdout",
     "output_type": "stream",
     "text": [
      "eigenvalues shape torch.Size([5]) eigenvectors shape torch.Size([5, 425])\n",
      "539 /home/phdcs2/Hard_Disk/Datasets/Deep-Spectral-Segmentation/data/object-segmentation/ECSSD/features/dino_vits16/0540.pth\n",
      "dict_keys(['k', 'indices', 'file', 'id', 'model_name', 'patch_size', 'shape'])\n",
      "0540\n",
      "Starting Training\n",
      "epoch: 00, loss: -0.04313\n",
      "epoch: 01, loss: -0.06803\n",
      "epoch: 02, loss: -0.07252\n",
      "epoch: 03, loss: -0.07495\n",
      "epoch: 04, loss: -0.07254\n",
      "epoch: 05, loss: -0.07521\n",
      "epoch: 06, loss: -0.07655\n",
      "epoch: 07, loss: -0.07827\n",
      "epoch: 08, loss: -0.07964\n",
      "epoch: 09, loss: -0.07851\n",
      "torch.Size([450, 64])\n"
     ]
    },
    {
     "name": "stderr",
     "output_type": "stream",
     "text": [
      " 54%|█████▍    | 540/1000 [3:39:18<2:37:02, 20.48s/it]"
     ]
    },
    {
     "name": "stdout",
     "output_type": "stream",
     "text": [
      "eigenvalues shape torch.Size([5]) eigenvectors shape torch.Size([5, 450])\n",
      "540 /home/phdcs2/Hard_Disk/Datasets/Deep-Spectral-Segmentation/data/object-segmentation/ECSSD/features/dino_vits16/0541.pth\n",
      "dict_keys(['k', 'indices', 'file', 'id', 'model_name', 'patch_size', 'shape'])\n",
      "0541\n",
      "Starting Training\n",
      "epoch: 00, loss: -0.00600\n",
      "epoch: 01, loss: -0.02714\n",
      "epoch: 02, loss: -0.03230\n",
      "epoch: 03, loss: -0.03394\n",
      "epoch: 04, loss: -0.03443\n",
      "epoch: 05, loss: -0.03479\n",
      "epoch: 06, loss: -0.03486\n",
      "epoch: 07, loss: -0.03522\n",
      "epoch: 08, loss: -0.03527\n",
      "epoch: 09, loss: -0.03528\n",
      "torch.Size([400, 64])\n"
     ]
    },
    {
     "name": "stderr",
     "output_type": "stream",
     "text": [
      " 54%|█████▍    | 541/1000 [3:39:35<2:27:16, 19.25s/it]"
     ]
    },
    {
     "name": "stdout",
     "output_type": "stream",
     "text": [
      "eigenvalues shape torch.Size([5]) eigenvectors shape torch.Size([5, 400])\n",
      "541 /home/phdcs2/Hard_Disk/Datasets/Deep-Spectral-Segmentation/data/object-segmentation/ECSSD/features/dino_vits16/0542.pth\n",
      "dict_keys(['k', 'indices', 'file', 'id', 'model_name', 'patch_size', 'shape'])\n",
      "0542\n",
      "Starting Training\n",
      "epoch: 00, loss: -0.24030\n",
      "epoch: 01, loss: -0.28537\n",
      "epoch: 02, loss: -0.28919\n",
      "epoch: 03, loss: -0.29455\n",
      "epoch: 04, loss: -0.29676\n",
      "epoch: 05, loss: -0.30043\n",
      "epoch: 06, loss: -0.30314\n",
      "epoch: 07, loss: -0.30551\n",
      "epoch: 08, loss: -0.30642\n",
      "epoch: 09, loss: -0.30900\n",
      "torch.Size([450, 64])\n"
     ]
    },
    {
     "name": "stderr",
     "output_type": "stream",
     "text": [
      " 54%|█████▍    | 542/1000 [3:39:58<2:36:25, 20.49s/it]"
     ]
    },
    {
     "name": "stdout",
     "output_type": "stream",
     "text": [
      "eigenvalues shape torch.Size([5]) eigenvectors shape torch.Size([5, 450])\n",
      "542 /home/phdcs2/Hard_Disk/Datasets/Deep-Spectral-Segmentation/data/object-segmentation/ECSSD/features/dino_vits16/0543.pth\n",
      "dict_keys(['k', 'indices', 'file', 'id', 'model_name', 'patch_size', 'shape'])\n",
      "0543\n",
      "Starting Training\n",
      "epoch: 00, loss: -0.01978\n",
      "epoch: 01, loss: -0.04326\n",
      "epoch: 02, loss: -0.05150\n",
      "epoch: 03, loss: -0.05652\n",
      "epoch: 04, loss: -0.05573\n",
      "epoch: 05, loss: -0.05641\n",
      "epoch: 06, loss: -0.05993\n",
      "epoch: 07, loss: -0.05602\n",
      "epoch: 08, loss: -0.05781\n",
      "epoch: 09, loss: -0.05927\n",
      "torch.Size([400, 64])\n"
     ]
    },
    {
     "name": "stderr",
     "output_type": "stream",
     "text": [
      " 54%|█████▍    | 543/1000 [3:40:15<2:28:33, 19.51s/it]"
     ]
    },
    {
     "name": "stdout",
     "output_type": "stream",
     "text": [
      "eigenvalues shape torch.Size([5]) eigenvectors shape torch.Size([5, 400])\n",
      "543 /home/phdcs2/Hard_Disk/Datasets/Deep-Spectral-Segmentation/data/object-segmentation/ECSSD/features/dino_vits16/0544.pth\n",
      "dict_keys(['k', 'indices', 'file', 'id', 'model_name', 'patch_size', 'shape'])\n",
      "0544\n",
      "Starting Training\n",
      "epoch: 00, loss: -0.00775\n",
      "epoch: 01, loss: -0.02029\n",
      "epoch: 02, loss: -0.02308\n",
      "epoch: 03, loss: -0.02449\n",
      "epoch: 04, loss: -0.02511\n",
      "epoch: 05, loss: -0.02542\n",
      "epoch: 06, loss: -0.02564\n",
      "epoch: 07, loss: -0.02594\n",
      "epoch: 08, loss: -0.02602\n",
      "epoch: 09, loss: -0.02620\n",
      "torch.Size([400, 64])\n"
     ]
    },
    {
     "name": "stderr",
     "output_type": "stream",
     "text": [
      " 54%|█████▍    | 544/1000 [3:40:32<2:21:33, 18.63s/it]"
     ]
    },
    {
     "name": "stdout",
     "output_type": "stream",
     "text": [
      "eigenvalues shape torch.Size([5]) eigenvectors shape torch.Size([5, 400])\n",
      "544 /home/phdcs2/Hard_Disk/Datasets/Deep-Spectral-Segmentation/data/object-segmentation/ECSSD/features/dino_vits16/0545.pth\n",
      "dict_keys(['k', 'indices', 'file', 'id', 'model_name', 'patch_size', 'shape'])\n",
      "0545\n",
      "Starting Training\n",
      "epoch: 00, loss: 0.01138\n",
      "epoch: 01, loss: 0.00054\n",
      "epoch: 02, loss: -0.00491\n",
      "epoch: 03, loss: -0.00801\n",
      "epoch: 04, loss: -0.01000\n",
      "epoch: 05, loss: -0.01142\n",
      "epoch: 06, loss: -0.01237\n",
      "epoch: 07, loss: -0.01292\n",
      "epoch: 08, loss: -0.01331\n",
      "epoch: 09, loss: -0.01362\n",
      "torch.Size([400, 64])\n"
     ]
    },
    {
     "name": "stderr",
     "output_type": "stream",
     "text": [
      " 55%|█████▍    | 545/1000 [3:40:56<2:34:08, 20.33s/it]"
     ]
    },
    {
     "name": "stdout",
     "output_type": "stream",
     "text": [
      "eigenvalues shape torch.Size([5]) eigenvectors shape torch.Size([5, 400])\n",
      "545 /home/phdcs2/Hard_Disk/Datasets/Deep-Spectral-Segmentation/data/object-segmentation/ECSSD/features/dino_vits16/0546.pth\n",
      "dict_keys(['k', 'indices', 'file', 'id', 'model_name', 'patch_size', 'shape'])\n",
      "0546\n",
      "Starting Training\n",
      "epoch: 00, loss: 0.00423\n",
      "epoch: 01, loss: -0.00468\n",
      "epoch: 02, loss: -0.00888\n",
      "epoch: 03, loss: -0.01109\n",
      "epoch: 04, loss: -0.01232\n",
      "epoch: 05, loss: -0.01308\n",
      "epoch: 06, loss: -0.01372\n",
      "epoch: 07, loss: -0.01396\n",
      "epoch: 08, loss: -0.01434\n",
      "epoch: 09, loss: -0.01448\n",
      "torch.Size([450, 64])\n"
     ]
    },
    {
     "name": "stderr",
     "output_type": "stream",
     "text": [
      " 55%|█████▍    | 546/1000 [3:41:21<2:45:25, 21.86s/it]"
     ]
    },
    {
     "name": "stdout",
     "output_type": "stream",
     "text": [
      "eigenvalues shape torch.Size([5]) eigenvectors shape torch.Size([5, 450])\n",
      "546 /home/phdcs2/Hard_Disk/Datasets/Deep-Spectral-Segmentation/data/object-segmentation/ECSSD/features/dino_vits16/0547.pth\n",
      "dict_keys(['k', 'indices', 'file', 'id', 'model_name', 'patch_size', 'shape'])\n",
      "0547\n",
      "Starting Training\n",
      "epoch: 00, loss: -0.03163\n",
      "epoch: 01, loss: -0.05305\n",
      "epoch: 02, loss: -0.05581\n",
      "epoch: 03, loss: -0.05750\n",
      "epoch: 04, loss: -0.06206\n",
      "epoch: 05, loss: -0.06105\n",
      "epoch: 06, loss: -0.06059\n",
      "epoch: 07, loss: -0.06354\n",
      "epoch: 08, loss: -0.06278\n",
      "epoch: 09, loss: -0.06462\n",
      "torch.Size([450, 64])\n"
     ]
    },
    {
     "name": "stderr",
     "output_type": "stream",
     "text": [
      " 55%|█████▍    | 547/1000 [3:41:44<2:45:58, 21.98s/it]"
     ]
    },
    {
     "name": "stdout",
     "output_type": "stream",
     "text": [
      "eigenvalues shape torch.Size([5]) eigenvectors shape torch.Size([5, 450])\n",
      "547 /home/phdcs2/Hard_Disk/Datasets/Deep-Spectral-Segmentation/data/object-segmentation/ECSSD/features/dino_vits16/0548.pth\n",
      "dict_keys(['k', 'indices', 'file', 'id', 'model_name', 'patch_size', 'shape'])\n",
      "0548\n",
      "Starting Training\n",
      "epoch: 00, loss: -0.05180\n",
      "epoch: 01, loss: -0.08198\n",
      "epoch: 02, loss: -0.08663\n",
      "epoch: 03, loss: -0.08316\n",
      "epoch: 04, loss: -0.08461\n",
      "epoch: 05, loss: -0.08757\n",
      "epoch: 06, loss: -0.08866\n",
      "epoch: 07, loss: -0.08766\n",
      "epoch: 08, loss: -0.08924\n",
      "epoch: 09, loss: -0.08733\n",
      "torch.Size([425, 64])\n"
     ]
    },
    {
     "name": "stderr",
     "output_type": "stream",
     "text": [
      " 55%|█████▍    | 548/1000 [3:42:03<2:39:13, 21.14s/it]"
     ]
    },
    {
     "name": "stdout",
     "output_type": "stream",
     "text": [
      "eigenvalues shape torch.Size([5]) eigenvectors shape torch.Size([5, 425])\n",
      "548 /home/phdcs2/Hard_Disk/Datasets/Deep-Spectral-Segmentation/data/object-segmentation/ECSSD/features/dino_vits16/0549.pth\n",
      "dict_keys(['k', 'indices', 'file', 'id', 'model_name', 'patch_size', 'shape'])\n",
      "0549\n",
      "Starting Training\n",
      "epoch: 00, loss: -0.01693\n",
      "epoch: 01, loss: -0.03864\n",
      "epoch: 02, loss: -0.04090\n",
      "epoch: 03, loss: -0.04090\n",
      "epoch: 04, loss: -0.04040\n",
      "epoch: 05, loss: -0.04172\n",
      "epoch: 06, loss: -0.04360\n",
      "epoch: 07, loss: -0.04166\n",
      "epoch: 08, loss: -0.04275\n",
      "epoch: 09, loss: -0.04147\n",
      "torch.Size([400, 64])\n"
     ]
    },
    {
     "name": "stderr",
     "output_type": "stream",
     "text": [
      " 55%|█████▍    | 549/1000 [3:42:21<2:32:23, 20.27s/it]"
     ]
    },
    {
     "name": "stdout",
     "output_type": "stream",
     "text": [
      "eigenvalues shape torch.Size([5]) eigenvectors shape torch.Size([5, 400])\n",
      "549 /home/phdcs2/Hard_Disk/Datasets/Deep-Spectral-Segmentation/data/object-segmentation/ECSSD/features/dino_vits16/0550.pth\n",
      "dict_keys(['k', 'indices', 'file', 'id', 'model_name', 'patch_size', 'shape'])\n",
      "0550\n",
      "Starting Training\n",
      "epoch: 00, loss: -0.03403\n",
      "epoch: 01, loss: -0.05148\n",
      "epoch: 02, loss: -0.05545\n",
      "epoch: 03, loss: -0.05483\n",
      "epoch: 04, loss: -0.05411\n",
      "epoch: 05, loss: -0.05479\n",
      "epoch: 06, loss: -0.05507\n",
      "epoch: 07, loss: -0.05515\n",
      "epoch: 08, loss: -0.05515\n",
      "epoch: 09, loss: -0.05532\n",
      "torch.Size([425, 64])\n"
     ]
    },
    {
     "name": "stderr",
     "output_type": "stream",
     "text": [
      " 55%|█████▌    | 550/1000 [3:42:43<2:36:39, 20.89s/it]"
     ]
    },
    {
     "name": "stdout",
     "output_type": "stream",
     "text": [
      "eigenvalues shape torch.Size([5]) eigenvectors shape torch.Size([5, 425])\n",
      "550 /home/phdcs2/Hard_Disk/Datasets/Deep-Spectral-Segmentation/data/object-segmentation/ECSSD/features/dino_vits16/0551.pth\n",
      "dict_keys(['k', 'indices', 'file', 'id', 'model_name', 'patch_size', 'shape'])\n",
      "0551\n",
      "Starting Training\n",
      "epoch: 00, loss: -0.04278\n",
      "epoch: 01, loss: -0.06821\n",
      "epoch: 02, loss: -0.07240\n",
      "epoch: 03, loss: -0.07362\n",
      "epoch: 04, loss: -0.07441\n",
      "epoch: 05, loss: -0.07636\n",
      "epoch: 06, loss: -0.07543\n",
      "epoch: 07, loss: -0.07723\n",
      "epoch: 08, loss: -0.07618\n",
      "epoch: 09, loss: -0.07764\n",
      "torch.Size([400, 64])\n"
     ]
    },
    {
     "name": "stderr",
     "output_type": "stream",
     "text": [
      " 55%|█████▌    | 551/1000 [3:43:06<2:40:22, 21.43s/it]"
     ]
    },
    {
     "name": "stdout",
     "output_type": "stream",
     "text": [
      "eigenvalues shape torch.Size([5]) eigenvectors shape torch.Size([5, 400])\n",
      "551 /home/phdcs2/Hard_Disk/Datasets/Deep-Spectral-Segmentation/data/object-segmentation/ECSSD/features/dino_vits16/0552.pth\n",
      "dict_keys(['k', 'indices', 'file', 'id', 'model_name', 'patch_size', 'shape'])\n",
      "0552\n",
      "Starting Training\n",
      "epoch: 00, loss: -0.09129\n",
      "epoch: 01, loss: -0.12675\n",
      "epoch: 02, loss: -0.12982\n",
      "epoch: 03, loss: -0.12848\n",
      "epoch: 04, loss: -0.13062\n",
      "epoch: 05, loss: -0.13180\n",
      "epoch: 06, loss: -0.13441\n",
      "epoch: 07, loss: -0.13626\n",
      "epoch: 08, loss: -0.13509\n",
      "epoch: 09, loss: -0.13476\n",
      "torch.Size([400, 64])\n"
     ]
    },
    {
     "name": "stderr",
     "output_type": "stream",
     "text": [
      " 55%|█████▌    | 552/1000 [3:43:27<2:38:43, 21.26s/it]"
     ]
    },
    {
     "name": "stdout",
     "output_type": "stream",
     "text": [
      "eigenvalues shape torch.Size([5]) eigenvectors shape torch.Size([5, 400])\n",
      "552 /home/phdcs2/Hard_Disk/Datasets/Deep-Spectral-Segmentation/data/object-segmentation/ECSSD/features/dino_vits16/0553.pth\n",
      "dict_keys(['k', 'indices', 'file', 'id', 'model_name', 'patch_size', 'shape'])\n",
      "0553\n",
      "Starting Training\n",
      "epoch: 00, loss: -0.06838\n",
      "epoch: 01, loss: -0.09881\n",
      "epoch: 02, loss: -0.10545\n",
      "epoch: 03, loss: -0.10261\n",
      "epoch: 04, loss: -0.10525\n",
      "epoch: 05, loss: -0.10776\n",
      "epoch: 06, loss: -0.10886\n",
      "epoch: 07, loss: -0.10653\n",
      "epoch: 08, loss: -0.10565\n",
      "epoch: 09, loss: -0.10947\n",
      "torch.Size([450, 64])\n"
     ]
    },
    {
     "name": "stderr",
     "output_type": "stream",
     "text": [
      " 55%|█████▌    | 553/1000 [3:43:51<2:44:20, 22.06s/it]"
     ]
    },
    {
     "name": "stdout",
     "output_type": "stream",
     "text": [
      "eigenvalues shape torch.Size([5]) eigenvectors shape torch.Size([5, 450])\n",
      "553 /home/phdcs2/Hard_Disk/Datasets/Deep-Spectral-Segmentation/data/object-segmentation/ECSSD/features/dino_vits16/0554.pth\n",
      "dict_keys(['k', 'indices', 'file', 'id', 'model_name', 'patch_size', 'shape'])\n",
      "0554\n",
      "Starting Training\n",
      "epoch: 00, loss: -0.02392\n",
      "epoch: 01, loss: -0.03966\n",
      "epoch: 02, loss: -0.04131\n",
      "epoch: 03, loss: -0.04189\n",
      "epoch: 04, loss: -0.04254\n",
      "epoch: 05, loss: -0.04239\n",
      "epoch: 06, loss: -0.04261\n",
      "epoch: 07, loss: -0.04279\n",
      "epoch: 08, loss: -0.04287\n",
      "epoch: 09, loss: -0.04295\n",
      "torch.Size([450, 64])\n"
     ]
    },
    {
     "name": "stderr",
     "output_type": "stream",
     "text": [
      " 55%|█████▌    | 554/1000 [3:44:13<2:44:51, 22.18s/it]"
     ]
    },
    {
     "name": "stdout",
     "output_type": "stream",
     "text": [
      "eigenvalues shape torch.Size([5]) eigenvectors shape torch.Size([5, 450])\n",
      "554 /home/phdcs2/Hard_Disk/Datasets/Deep-Spectral-Segmentation/data/object-segmentation/ECSSD/features/dino_vits16/0555.pth\n",
      "dict_keys(['k', 'indices', 'file', 'id', 'model_name', 'patch_size', 'shape'])\n",
      "0555\n",
      "Starting Training\n",
      "epoch: 00, loss: -0.05233\n",
      "epoch: 01, loss: -0.07275\n",
      "epoch: 02, loss: -0.07239\n",
      "epoch: 03, loss: -0.07339\n",
      "epoch: 04, loss: -0.07444\n",
      "epoch: 05, loss: -0.07625\n",
      "epoch: 06, loss: -0.07463\n",
      "epoch: 07, loss: -0.07654\n",
      "epoch: 08, loss: -0.07639\n",
      "epoch: 09, loss: -0.07668\n",
      "torch.Size([500, 64])\n"
     ]
    },
    {
     "name": "stderr",
     "output_type": "stream",
     "text": [
      " 56%|█████▌    | 555/1000 [3:44:39<2:52:55, 23.32s/it]"
     ]
    },
    {
     "name": "stdout",
     "output_type": "stream",
     "text": [
      "eigenvalues shape torch.Size([5]) eigenvectors shape torch.Size([5, 500])\n",
      "555 /home/phdcs2/Hard_Disk/Datasets/Deep-Spectral-Segmentation/data/object-segmentation/ECSSD/features/dino_vits16/0556.pth\n",
      "dict_keys(['k', 'indices', 'file', 'id', 'model_name', 'patch_size', 'shape'])\n",
      "0556\n",
      "Starting Training\n",
      "epoch: 00, loss: 0.00508\n",
      "epoch: 01, loss: -0.00465\n",
      "epoch: 02, loss: -0.00846\n",
      "epoch: 03, loss: -0.01169\n",
      "epoch: 04, loss: -0.01247\n",
      "epoch: 05, loss: -0.01365\n",
      "epoch: 06, loss: -0.01409\n",
      "epoch: 07, loss: -0.01448\n",
      "epoch: 08, loss: -0.01343\n",
      "epoch: 09, loss: -0.01444\n",
      "torch.Size([525, 64])\n"
     ]
    },
    {
     "name": "stderr",
     "output_type": "stream",
     "text": [
      " 56%|█████▌    | 556/1000 [3:45:20<3:30:17, 28.42s/it]"
     ]
    },
    {
     "name": "stdout",
     "output_type": "stream",
     "text": [
      "eigenvalues shape torch.Size([5]) eigenvectors shape torch.Size([5, 525])\n",
      "556 /home/phdcs2/Hard_Disk/Datasets/Deep-Spectral-Segmentation/data/object-segmentation/ECSSD/features/dino_vits16/0557.pth\n",
      "dict_keys(['k', 'indices', 'file', 'id', 'model_name', 'patch_size', 'shape'])\n",
      "0557\n",
      "Starting Training\n",
      "epoch: 00, loss: -0.01765\n",
      "epoch: 01, loss: -0.04972\n",
      "epoch: 02, loss: -0.05664\n",
      "epoch: 03, loss: -0.06113\n",
      "epoch: 04, loss: -0.06396\n",
      "epoch: 05, loss: -0.06295\n",
      "epoch: 06, loss: -0.06416\n",
      "epoch: 07, loss: -0.06635\n",
      "epoch: 08, loss: -0.06593\n"
     ]
    },
    {
     "name": "stderr",
     "output_type": "stream",
     "text": [
      " 56%|█████▌    | 556/1000 [3:45:30<3:00:04, 24.33s/it]"
     ]
    },
    {
     "name": "stdout",
     "output_type": "stream",
     "text": [
      "epoch: 09, loss: -0.06568\n",
      "torch.Size([450, 64])\n"
     ]
    },
    {
     "name": "stderr",
     "output_type": "stream",
     "text": [
      "\n"
     ]
    },
    {
     "ename": "ValueError",
     "evalue": "all input arrays must have the same shape",
     "output_type": "error",
     "traceback": [
      "\u001B[0;31m---------------------------------------------------------------------------\u001B[0m",
      "\u001B[0;31mValueError\u001B[0m                                Traceback (most recent call last)",
      "Cell \u001B[0;32mIn[6], line 172\u001B[0m\n\u001B[1;32m    170\u001B[0m \u001B[38;5;66;03m# Color affinities (of type scipy.sparse.csr_matrix)\u001B[39;00m\n\u001B[1;32m    171\u001B[0m \u001B[38;5;28;01mif\u001B[39;00m which_color_matrix \u001B[38;5;241m==\u001B[39m \u001B[38;5;124m'\u001B[39m\u001B[38;5;124mknn\u001B[39m\u001B[38;5;124m'\u001B[39m:\n\u001B[0;32m--> 172\u001B[0m     W_lr \u001B[38;5;241m=\u001B[39m \u001B[43mutils\u001B[49m\u001B[38;5;241;43m.\u001B[39;49m\u001B[43mknn_affinity\u001B[49m\u001B[43m(\u001B[49m\u001B[43mimage_lr\u001B[49m\u001B[43m \u001B[49m\u001B[38;5;241;43m/\u001B[39;49m\u001B[43m \u001B[49m\u001B[38;5;241;43m255\u001B[39;49m\u001B[43m)\u001B[49m\n\u001B[1;32m    173\u001B[0m \u001B[38;5;28;01melif\u001B[39;00m which_color_matrix \u001B[38;5;241m==\u001B[39m \u001B[38;5;124m'\u001B[39m\u001B[38;5;124mrw\u001B[39m\u001B[38;5;124m'\u001B[39m:\n\u001B[1;32m    174\u001B[0m     W_lr \u001B[38;5;241m=\u001B[39m utils\u001B[38;5;241m.\u001B[39mrw_affinity(image_lr \u001B[38;5;241m/\u001B[39m \u001B[38;5;241m255\u001B[39m)\n",
      "File \u001B[0;32m~/Hard_Disk/Projects/T2I/deep-spectral-segmentation/extract/extract_utils.py:171\u001B[0m, in \u001B[0;36mknn_affinity\u001B[0;34m(image, n_neighbors, distance_weights)\u001B[0m\n\u001B[1;32m    168\u001B[0m i, j \u001B[38;5;241m=\u001B[39m [], []\n\u001B[1;32m    170\u001B[0m \u001B[38;5;28;01mfor\u001B[39;00m k, distance_weight \u001B[38;5;129;01min\u001B[39;00m \u001B[38;5;28mzip\u001B[39m(n_neighbors, distance_weights):\n\u001B[0;32m--> 171\u001B[0m     f \u001B[38;5;241m=\u001B[39m \u001B[43mnp\u001B[49m\u001B[38;5;241;43m.\u001B[39;49m\u001B[43mstack\u001B[49m\u001B[43m(\u001B[49m\n\u001B[1;32m    172\u001B[0m \u001B[43m        \u001B[49m\u001B[43m[\u001B[49m\u001B[43mr\u001B[49m\u001B[43m,\u001B[49m\u001B[43m \u001B[49m\u001B[43mg\u001B[49m\u001B[43m,\u001B[49m\u001B[43m \u001B[49m\u001B[43mb\u001B[49m\u001B[43m,\u001B[49m\u001B[43m \u001B[49m\u001B[43mdistance_weight\u001B[49m\u001B[43m \u001B[49m\u001B[38;5;241;43m*\u001B[39;49m\u001B[43m \u001B[49m\u001B[43mx\u001B[49m\u001B[43m,\u001B[49m\u001B[43m \u001B[49m\u001B[43mdistance_weight\u001B[49m\u001B[43m \u001B[49m\u001B[38;5;241;43m*\u001B[39;49m\u001B[43m \u001B[49m\u001B[43my\u001B[49m\u001B[43m]\u001B[49m\u001B[43m,\u001B[49m\n\u001B[1;32m    173\u001B[0m \u001B[43m        \u001B[49m\u001B[43maxis\u001B[49m\u001B[38;5;241;43m=\u001B[39;49m\u001B[38;5;241;43m1\u001B[39;49m\u001B[43m,\u001B[49m\n\u001B[1;32m    174\u001B[0m \u001B[43m        \u001B[49m\u001B[43mout\u001B[49m\u001B[38;5;241;43m=\u001B[39;49m\u001B[43mnp\u001B[49m\u001B[38;5;241;43m.\u001B[39;49m\u001B[43mzeros\u001B[49m\u001B[43m(\u001B[49m\u001B[43m(\u001B[49m\u001B[43mn\u001B[49m\u001B[43m,\u001B[49m\u001B[43m \u001B[49m\u001B[38;5;241;43m5\u001B[39;49m\u001B[43m)\u001B[49m\u001B[43m,\u001B[49m\u001B[43m \u001B[49m\u001B[43mdtype\u001B[49m\u001B[38;5;241;43m=\u001B[39;49m\u001B[43mnp\u001B[49m\u001B[38;5;241;43m.\u001B[39;49m\u001B[43mfloat32\u001B[49m\u001B[43m)\u001B[49m\u001B[43m,\u001B[49m\n\u001B[1;32m    175\u001B[0m \u001B[43m    \u001B[49m\u001B[43m)\u001B[49m\n\u001B[1;32m    177\u001B[0m     distances, neighbors \u001B[38;5;241m=\u001B[39m knn(f, f, k\u001B[38;5;241m=\u001B[39mk)\n\u001B[1;32m    179\u001B[0m     i\u001B[38;5;241m.\u001B[39mappend(np\u001B[38;5;241m.\u001B[39mrepeat(np\u001B[38;5;241m.\u001B[39marange(n), k))\n",
      "File \u001B[0;32m<__array_function__ internals>:180\u001B[0m, in \u001B[0;36mstack\u001B[0;34m(*args, **kwargs)\u001B[0m\n",
      "File \u001B[0;32m~/Hard_Disk/Projects/T2I/deep-spectral-segmentation/venv/lib/python3.8/site-packages/numpy/core/shape_base.py:426\u001B[0m, in \u001B[0;36mstack\u001B[0;34m(arrays, axis, out)\u001B[0m\n\u001B[1;32m    424\u001B[0m shapes \u001B[38;5;241m=\u001B[39m {arr\u001B[38;5;241m.\u001B[39mshape \u001B[38;5;28;01mfor\u001B[39;00m arr \u001B[38;5;129;01min\u001B[39;00m arrays}\n\u001B[1;32m    425\u001B[0m \u001B[38;5;28;01mif\u001B[39;00m \u001B[38;5;28mlen\u001B[39m(shapes) \u001B[38;5;241m!=\u001B[39m \u001B[38;5;241m1\u001B[39m:\n\u001B[0;32m--> 426\u001B[0m     \u001B[38;5;28;01mraise\u001B[39;00m \u001B[38;5;167;01mValueError\u001B[39;00m(\u001B[38;5;124m'\u001B[39m\u001B[38;5;124mall input arrays must have the same shape\u001B[39m\u001B[38;5;124m'\u001B[39m)\n\u001B[1;32m    428\u001B[0m result_ndim \u001B[38;5;241m=\u001B[39m arrays[\u001B[38;5;241m0\u001B[39m]\u001B[38;5;241m.\u001B[39mndim \u001B[38;5;241m+\u001B[39m \u001B[38;5;241m1\u001B[39m\n\u001B[1;32m    429\u001B[0m axis \u001B[38;5;241m=\u001B[39m normalize_axis_index(axis, result_ndim)\n",
      "\u001B[0;31mValueError\u001B[0m: all input arrays must have the same shape"
     ]
    }
   ],
   "source": [
    "pca_comp=64\n",
    "pca = PCA(n_components=pca_comp)\n",
    "utils.make_output_dir(output_dir)\n",
    "inputs = list(enumerate(sorted(Path(features_dir).iterdir())))\n",
    "for inp in tqdm(inputs):\n",
    "    index, features_file = inp\n",
    "    print(index, features_file)\n",
    "     # Load\n",
    "    data_dict = torch.load(features_file, map_location='cpu')\n",
    "    print(data_dict.keys())   #['k', 'indices', 'file', 'id', 'model_name', 'patch_size', 'shape']\n",
    "    # print(\"shape=\", data_dict['shape'], \"k shape\", data_dict['k'].shape, \"patch_size=\", data_dict['patch_size'])\n",
    "    image_id = data_dict['file'][:-4]\n",
    "    print(image_id)\n",
    "    # Load\n",
    "    output_file = str(Path(output_dir) / f'{image_id}.pth')\n",
    "    if Path(output_file).is_file():\n",
    "        print(f'Skipping existing file {str(output_file)}')\n",
    "        # break\n",
    "        # return  # skip because already generated\n",
    "\n",
    "    # Load affinity matrix\n",
    "    feats = data_dict[which_features].squeeze().cuda()\n",
    "    # print(\"Without normalizing, Features Shape is\",feats.shape)\n",
    "    if normalize:\n",
    "        feats = F.normalize(feats, p=2, dim=-1)\n",
    "    # print(\"After normalization, Features Shape\",feats.shape)\n",
    "    # print(\"which_matrix=\", which_matrix)\n",
    "    # Eigenvectors of affinity matrix\n",
    "    if which_matrix == 'affinity_torch':\n",
    "        W = feats @ feats.T\n",
    "        # W_feat=contrastive_affinity(feats, feats.T)\n",
    "        # print(\"W shape=\", W.shape)\n",
    "        if threshold_at_zero:\n",
    "            W = (W * (W > 0))\n",
    "            # print(\"W shape=\", W.shape)\n",
    "        eigenvalues, eigenvectors = torch.eig(W, eigenvectors=True)\n",
    "        eigenvalues = eigenvalues.cpu()\n",
    "        eigenvectors = eigenvectors.cpu()\n",
    "        print(\"which matrix=\",which_matrix, \"eigenvalues shape\", eigenvalues.shape, \"eigenvectors shape\", eigenvectors.shape)\n",
    "\n",
    "\n",
    "    # Eigenvectors of affinity matrix with scipy\n",
    "    elif which_matrix == 'affinity_svd':\n",
    "        USV = torch.linalg.svd(feats, full_matrices=False)\n",
    "        eigenvectors = USV[0][:, :K].T.to('cpu', non_blocking=True)\n",
    "        eigenvalues = USV[1][:K].to('cpu', non_blocking=True)\n",
    "        print(\"which matrix=\",which_matrix,\"eigenvalues shape\", eigenvalues.shape, \"eigenvectors shape\", eigenvectors.shape)\n",
    "\n",
    "    # Eigenvectors of affinity matrix with scipy\n",
    "    elif which_matrix == 'affinity':\n",
    "        # print(\"Without normalizing, Features Shape is\",feats.shape)\n",
    "        W = (feats @ feats.T)\n",
    "        # W_feat=contrastive_affinity(feats, feats.T)\n",
    "        # print(\"W shape=\", W.shape)\n",
    "        if threshold_at_zero:\n",
    "            W = (W * (W > 0))\n",
    "        W = W.cpu().numpy()\n",
    "        # print(\"W shape=\", W.shape)\n",
    "        eigenvalues, eigenvectors = eigsh(W, which='LM', k=K)\n",
    "        eigenvectors = torch.flip(torch.from_numpy(eigenvectors), dims=(-1,)).T\n",
    "        print(\"which matrix=\",which_matrix, \"eigenvalues shape\", eigenvalues.shape, \"eigenvectors shape\", eigenvectors.shape)\n",
    "\n",
    "    # Eigenvectors of matting laplacian matrix\n",
    "    elif which_matrix in ['matting_laplacian', 'laplacian']:\n",
    "\n",
    "        # Get sizes\n",
    "        B, C, H, W, P, H_patch, W_patch, H_pad, W_pad = utils.get_image_sizes(data_dict)\n",
    "        if image_downsample_factor is None:\n",
    "            image_downsample_factor = P\n",
    "        H_pad_lr, W_pad_lr = H_pad // image_downsample_factor, W_pad // image_downsample_factor\n",
    "\n",
    "        # Upscale features to match the resolution\n",
    "        if (H_patch, W_patch) != (H_pad_lr, W_pad_lr):\n",
    "            feats = F.interpolate(\n",
    "                feats.T.reshape(1, -1, H_patch, W_patch),\n",
    "                size=(H_pad_lr, W_pad_lr), mode='bilinear', align_corners=False\n",
    "            ).reshape(-1, H_pad_lr * W_pad_lr).T\n",
    "\n",
    "        ### Feature affinities\n",
    "        # print(\"Without normalizing, Features Shape is\",feats.shape)\n",
    "\n",
    "        W_feat_ds = (feats @ feats.T)\n",
    "        max_wfeatds=torch.max(W_feat_ds).item()\n",
    "        alpha=3\n",
    "        W_feat_ds = W_feat_ds - (max_wfeatds / alpha)\n",
    "        layer=nn.Linear(pca_comp,pca_comp).cuda()\n",
    "        x0=feats\n",
    "        x0_arr=x0.cpu()\n",
    "        # print(x0_arr.shape)\n",
    "        z0_arr= pca.fit_transform(x0_arr)\n",
    "\n",
    "        # Define the affine transformation parameters\n",
    "        scale = np.random.uniform(0.8, 1.2)  # Random scaling factor between 0.8 and 1.2\n",
    "        translation = np.random.uniform(-10, 10, size=2)  # Random translation vector between -10 and 10 in both directions\n",
    "        rotation = np.random.uniform(-15, 15)  # Random rotation angle between -15 and 15 degrees\n",
    "        shear = np.random.uniform(-0.2, 0.2, size=2)  # Random shear factor between -0.2 and 0.2 in both directions\n",
    "\n",
    "        # Define the affine matrix\n",
    "        affine_matrix = np.array([[scale * np.cos(rotation), -shear[0] * scale * np.sin(rotation), translation[0]],\n",
    "                                  [shear[1] * scale * np.sin(rotation), scale * np.cos(rotation), translation[1]],\n",
    "                                  [0, 0, 1]])\n",
    "        z1_arr=affine_transform(z0_arr, affine_matrix)\n",
    "#         z1_arr=pca.fit_transform(z1_arr)\n",
    "        z0 = torch.from_numpy(z0_arr).float()\n",
    "        z1 = torch.from_numpy(z1_arr).float()\n",
    "\n",
    "        # feat_list.append(feats)\n",
    "        feat_dataset_z0 = Feature_Dataset(z0)\n",
    "        if feats.shape[0]%2==0:\n",
    "            features_dataloader_z0 = DataLoader(feat_dataset_z0, batch_size=batch_size, shuffle=True)\n",
    "        else:\n",
    "            features_dataloader_z0 = DataLoader(feat_dataset_z0, batch_size=batch_size, shuffle=True, drop_last=True)\n",
    "\n",
    "        feat_dataset_z1 = Feature_Dataset(z1)\n",
    "        if feats.shape[0]%2==0:\n",
    "            features_dataloader_z1 = DataLoader(feat_dataset_z1, batch_size=batch_size, shuffle=True)\n",
    "        else:\n",
    "            features_dataloader_z1 = DataLoader(feat_dataset_z1, batch_size=batch_size, shuffle=True, drop_last=True)\n",
    "        device = \"cuda\" if torch.cuda.is_available() else \"cpu\"\n",
    "    \n",
    "        criterion = NegativeCosineSimilarity()\n",
    "        optimizer = torch.optim.SGD(layer.parameters(), lr=0.06)\n",
    "        print(\"Starting Training\")\n",
    "        for epoch in range(epochs):\n",
    "            total_loss = 0\n",
    "            for z0_new,z1_new in zip(features_dataloader_z0,features_dataloader_z1):\n",
    "                z0_new = z0_new.to(device)\n",
    "                z1_new = z1_new.to(device)\n",
    "    #             print(\"z0_new.shape\", z0_new.shape)\n",
    "    #             print(\"z1_new.shape\", z1_new.shape)\n",
    "                p0=layer(z0_new)\n",
    "                p1=layer(z1_new)\n",
    "    #             print(\"p0.shape\", p0.shape)\n",
    "    #             print(\"p1.shape\", p1.shape)\n",
    "                loss = 0.5 * (criterion(z0_new, p1) + criterion(z1_new, p0))\n",
    "                total_loss += loss.detach()\n",
    "                loss.backward()\n",
    "                optimizer.step()\n",
    "                optimizer.zero_grad()\n",
    "            avg_loss = total_loss / len(features_dataloader_z0)\n",
    "            print(f\"epoch: {epoch:>02}, loss: {avg_loss:.5f}\")\n",
    "        projected_feature=layer(z0.to(device))\n",
    "        print(projected_feature.shape)\n",
    "        W_feat_siam=torch.matmul(projected_feature, projected_feature.t())\n",
    "        # max_wfeatsiam=torch.max(W_feat_siam).item()\n",
    "        # alpha=3\n",
    "        # W_feat_siam = W_feat_siam - (max_wfeatsiam / alpha)\n",
    "        # W_feat_siam=torch.matmul(projected_feature[0], projected_feature[0].t())\n",
    "        W_feat=W_feat_ds + 0.1*W_feat_siam\n",
    "#         W_feat=normalize_affinity_matrix(W_feat_unnorm, axis=1)\n",
    "        # print(\"W_feat.shape=\", W_feat.shape)\n",
    "        # print(\"W_feat.shape=\", W_feat.shape)\n",
    "        # W_feat=contrastive_affinity(feats, feats.T)\n",
    "        if threshold_at_zero:\n",
    "            W_feat = (W_feat * (W_feat > 0))\n",
    "        W_feat = W_feat / W_feat.max()  # NOTE: If features are normalized, this naturally does nothing\n",
    "        # W_feat = W_feat.cpu().numpy()\n",
    "        W_feat = W_feat.detach().cpu().numpy()\n",
    "        # print(\"W_feat shape=\",W_feat.shape)\n",
    "\n",
    "        ### Color affinities\n",
    "        # If we are fusing with color affinites, then load the image and compute\n",
    "        if image_color_lambda > 0:\n",
    "\n",
    "            # Load image\n",
    "            image_file = str(Path(images_root) / f'{image_id}.jpg')\n",
    "            image_lr = Image.open(image_file).resize((W_pad_lr, H_pad_lr), Image.BILINEAR)\n",
    "            image_lr = np.array(image_lr) / 255.\n",
    "\n",
    "            # Color affinities (of type scipy.sparse.csr_matrix)\n",
    "            if which_color_matrix == 'knn':\n",
    "                W_lr = utils.knn_affinity(image_lr / 255)\n",
    "            elif which_color_matrix == 'rw':\n",
    "                W_lr = utils.rw_affinity(image_lr / 255)\n",
    "\n",
    "            # Convert to dense numpy array\n",
    "            W_color = np.array(W_lr.todense().astype(np.float32))\n",
    "            # print(\"W_color shape\", W_color.shape)\n",
    "\n",
    "        else:\n",
    "\n",
    "            # No color affinity\n",
    "            W_color = 0\n",
    "\n",
    "        W_color2=W_color\n",
    "        max_color2=np.max(W_color2)\n",
    "        alpha=3\n",
    "        W_color2 = W_color2 - (max_color2 / alpha)\n",
    "\n",
    "        # Combine\n",
    "        W_comb = W_feat + W_color * image_color_lambda + W_color2 * image_color_lambda  # combination\n",
    "        D_comb = np.array(utils.get_diagonal(W_comb).todense())  # is dense or sparse faster? not sure, should check\n",
    "        # print(\"W_comb shape= \", W_comb.shape, \"D_comb shape\",  D_comb.shape)\n",
    "        if lapnorm:\n",
    "            try:\n",
    "                eigenvalues, eigenvectors = eigsh(D_comb - W_comb, k=K, sigma=0, which='LM', M=D_comb)\n",
    "            except:\n",
    "                eigenvalues, eigenvectors = eigsh(D_comb - W_comb, k=K, which='SM', M=D_comb)\n",
    "        else:\n",
    "            try:\n",
    "                eigenvalues, eigenvectors = eigsh(D_comb - W_comb, k=K, sigma=0, which='LM')\n",
    "            except:\n",
    "                eigenvalues, eigenvectors = eigsh(D_comb - W_comb, k=K, which='SM')\n",
    "        eigenvalues, eigenvectors = torch.from_numpy(eigenvalues), torch.from_numpy(eigenvectors.T).float()\n",
    "    print(\"eigenvalues shape\", eigenvalues.shape, \"eigenvectors shape\", eigenvectors.shape)\n",
    "    # Sign ambiguity\n",
    "    for k in range(eigenvectors.shape[0]):\n",
    "        if 0.5 < torch.mean((eigenvectors[k] > 0).float()).item() < 1.0:  # reverse segment\n",
    "            eigenvectors[k] = 0 - eigenvectors[k]\n",
    "\n",
    "    # Save dict\n",
    "    output_dict = {'eigenvalues': eigenvalues, 'eigenvectors': eigenvectors}\n",
    "    torch.save(output_dict, output_file)"
   ]
  }
 ],
 "metadata": {
  "kernelspec": {
   "display_name": "Python 3 (ipykernel)",
   "language": "python",
   "name": "python3"
  },
  "language_info": {
   "codemirror_mode": {
    "name": "ipython",
    "version": 3
   },
   "file_extension": ".py",
   "mimetype": "text/x-python",
   "name": "python",
   "nbconvert_exporter": "python",
   "pygments_lexer": "ipython3",
   "version": "3.8.10"
  }
 },
 "nbformat": 4,
 "nbformat_minor": 1
}