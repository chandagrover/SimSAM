{
 "cells": [
  {
   "cell_type": "code",
   "execution_count": 1,
   "metadata": {
    "pycharm": {
     "name": "#%%\n"
    }
   },
   "outputs": [],
   "source": [
    "# from functools import partial\n",
    "from pathlib import Path\n",
    "# from typing import Optional, Tuple\n",
    "# import cv2\n",
    "# import fire\n",
    "import numpy as np\n",
    "import torch\n",
    "import torch.nn.functional as F\n",
    "from accelerate import Accelerator\n",
    "from PIL import Image\n",
    "from scipy.sparse.linalg import eigsh\n",
    "# from sklearn.cluster import KMeans, MiniBatchKMeans\n",
    "# from sklearn.decomposition import PCA\n",
    "from sklearn.manifold import TSNE\n",
    "# from torchvision.utils import draw_bounding_boxes\n",
    "from tqdm import tqdm\n",
    "import extract_utils as utils\n",
    "from torch.utils.data import Dataset, DataLoader\n",
    "from lightly.loss import NegativeCosineSimilarity\n",
    "from lightly.models.modules import SimSiamPredictionHead, SimSiamProjectionHead\n",
    "from torch import nn\n",
    "import torchvision\n",
    "from scipy.ndimage import affine_transform"
   ]
  },
  {
   "cell_type": "markdown",
   "metadata": {
    "pycharm": {
     "name": "#%% md\n"
    }
   },
   "source": [
    "## Extract Eigen Vectors"
   ]
  },
  {
   "cell_type": "code",
   "execution_count": 2,
   "metadata": {
    "pycharm": {
     "name": "#%%\n"
    }
   },
   "outputs": [],
   "source": [
    "images_root=\"/home/phdcs2/Hard_Disk/Datasets/Deep-Spectral-Segmentation/data/object-segmentation/ECSSD/images\"\n",
    "features_dir=\"/home/phdcs2/Hard_Disk/Datasets/Deep-Spectral-Segmentation/data/object-segmentation/ECSSD/features/dino_vits16\"\n",
    "output_dir=\"/home/phdcs2/Hard_Disk/Datasets/Deep-Spectral-Segmentation/data/object-segmentation/ECSSD/eigs_dot1tsne32pred_ds_10\"\n",
    "which_matrix= 'laplacian'\n",
    "which_color_matrix= 'knn'\n",
    "which_features= 'k'\n",
    "normalize=True\n",
    "threshold_at_zero=True\n",
    "lapnorm= True\n",
    "K= 5\n",
    "image_downsample_factor = None\n",
    "image_color_lambda = 0.0\n",
    "multiprocessing = 0\n",
    "batch_size=2\n",
    "epochs=10"
   ]
  },
  {
   "cell_type": "markdown",
   "metadata": {
    "pycharm": {
     "name": "#%% md\n"
    }
   },
   "source": [
    "## Incorporating SimSiam"
   ]
  },
  {
   "cell_type": "code",
   "execution_count": 3,
   "metadata": {
    "pycharm": {
     "name": "#%%\n"
    }
   },
   "outputs": [],
   "source": [
    "# Define a custom dataset class\n",
    "class Feature_Dataset(Dataset):\n",
    "    def __init__(self, features):\n",
    "        self.features = features\n",
    "\n",
    "    def __getitem__(self, index):\n",
    "        return self.features[index]\n",
    "\n",
    "    def __len__(self):\n",
    "        return len(self.features)"
   ]
  },
  {
   "cell_type": "code",
   "execution_count": 4,
   "metadata": {
    "pycharm": {
     "name": "#%%\n"
    }
   },
   "outputs": [],
   "source": [
    "class SimSiam(nn.Module):\n",
    "    def __init__(self):\n",
    "        super().__init__()\n",
    "        self.projection_head = SimSiamProjectionHead(feats.shape[1], 128,feats.shape[1])\n",
    "        self.prediction_head = SimSiamPredictionHead(feats.shape[1], 128, feats.shape[1])\n",
    "\n",
    "    def forward(self, x):\n",
    "        z = self.projection_head(x)\n",
    "        p = self.prediction_head(z)\n",
    "        z = z.detach()\n",
    "        return z, p"
   ]
  },
  {
   "cell_type": "code",
   "execution_count": 5,
   "metadata": {
    "pycharm": {
     "name": "#%%\n"
    }
   },
   "outputs": [],
   "source": [
    "# def normalize_affinity_matrix(affinity_matrix, axis=0):\n",
    "#     if axis == 1:\n",
    "#         # Normalize by row-wise sums\n",
    "#         row_sums = torch.sum(affinity_matrix, dim=1, keepdim=True)\n",
    "#         print(row_sums)\n",
    "#         normalized_matrix = affinity_matrix / row_sums\n",
    "#     elif axis == 0:\n",
    "#         # Normalize by column-wise sums\n",
    "#         col_sums = torch.sum(affinity_matrix, dim=0, keepdim=True)\n",
    "#         normalized_matrix = affinity_matrix / col_sums\n",
    "#     else:\n",
    "#         raise ValueError(\"Invalid axis. Axis must be either 0 or 1.\")\n",
    "\n",
    "#     return normalized_matrix"
   ]
  },
  {
   "cell_type": "code",
   "execution_count": 6,
   "metadata": {
    "pycharm": {
     "name": "#%%\n"
    }
   },
   "outputs": [
    {
     "name": "stderr",
     "output_type": "stream",
     "text": [
      "  0%|          | 0/1000 [00:00<?, ?it/s]"
     ]
    },
    {
     "name": "stdout",
     "output_type": "stream",
     "text": [
      "0 /home/phdcs2/Hard_Disk/Datasets/Deep-Spectral-Segmentation/data/object-segmentation/ECSSD/features/dino_vits16/0001.pth\n",
      "dict_keys(['k', 'indices', 'file', 'id', 'model_name', 'patch_size', 'shape'])\n",
      "0001\n",
      "Starting Training\n",
      "epoch: 00, loss: 0.00881\n",
      "epoch: 01, loss: 0.00332\n",
      "epoch: 02, loss: 0.00125\n",
      "epoch: 03, loss: -0.00059\n",
      "epoch: 04, loss: -0.00130\n",
      "epoch: 05, loss: -0.00227\n",
      "epoch: 06, loss: -0.00268\n",
      "epoch: 07, loss: -0.00324\n",
      "epoch: 08, loss: -0.00358\n",
      "epoch: 09, loss: -0.00411\n",
      "torch.Size([400, 32])\n"
     ]
    },
    {
     "name": "stderr",
     "output_type": "stream",
     "text": [
      "  0%|          | 1/1000 [00:40<11:13:14, 40.44s/it]"
     ]
    },
    {
     "name": "stdout",
     "output_type": "stream",
     "text": [
      "eigenvalues shape torch.Size([5]) eigenvectors shape torch.Size([5, 400])\n",
      "1 /home/phdcs2/Hard_Disk/Datasets/Deep-Spectral-Segmentation/data/object-segmentation/ECSSD/features/dino_vits16/0002.pth\n",
      "dict_keys(['k', 'indices', 'file', 'id', 'model_name', 'patch_size', 'shape'])\n",
      "0002\n",
      "Starting Training\n",
      "epoch: 00, loss: 0.00513\n",
      "epoch: 01, loss: 0.00033\n",
      "epoch: 02, loss: -0.00212\n",
      "epoch: 03, loss: -0.00293\n",
      "epoch: 04, loss: -0.00425\n",
      "epoch: 05, loss: -0.00484\n",
      "epoch: 06, loss: -0.00721\n",
      "epoch: 07, loss: -0.00633\n",
      "epoch: 08, loss: -0.00990\n",
      "epoch: 09, loss: -0.00646\n",
      "torch.Size([400, 32])\n"
     ]
    },
    {
     "name": "stderr",
     "output_type": "stream",
     "text": [
      "  0%|          | 2/1000 [01:04<8:34:30, 30.93s/it] "
     ]
    },
    {
     "name": "stdout",
     "output_type": "stream",
     "text": [
      "eigenvalues shape torch.Size([5]) eigenvectors shape torch.Size([5, 400])\n",
      "2 /home/phdcs2/Hard_Disk/Datasets/Deep-Spectral-Segmentation/data/object-segmentation/ECSSD/features/dino_vits16/0003.pth\n",
      "dict_keys(['k', 'indices', 'file', 'id', 'model_name', 'patch_size', 'shape'])\n",
      "0003\n",
      "Starting Training\n",
      "epoch: 00, loss: 0.00874\n",
      "epoch: 01, loss: 0.00525\n",
      "epoch: 02, loss: 0.00369\n",
      "epoch: 03, loss: 0.00261\n",
      "epoch: 04, loss: 0.00196\n",
      "epoch: 05, loss: 0.00129\n",
      "epoch: 06, loss: 0.00076\n",
      "epoch: 07, loss: 0.00050\n",
      "epoch: 08, loss: -0.00004\n",
      "epoch: 09, loss: -0.00023\n",
      "torch.Size([400, 32])\n"
     ]
    },
    {
     "name": "stderr",
     "output_type": "stream",
     "text": [
      "  0%|          | 3/1000 [01:28<7:38:40, 27.60s/it]"
     ]
    },
    {
     "name": "stdout",
     "output_type": "stream",
     "text": [
      "eigenvalues shape torch.Size([5]) eigenvectors shape torch.Size([5, 400])\n",
      "3 /home/phdcs2/Hard_Disk/Datasets/Deep-Spectral-Segmentation/data/object-segmentation/ECSSD/features/dino_vits16/0004.pth\n",
      "dict_keys(['k', 'indices', 'file', 'id', 'model_name', 'patch_size', 'shape'])\n",
      "0004\n",
      "Starting Training\n",
      "epoch: 00, loss: 0.00544\n",
      "epoch: 01, loss: -0.00683\n",
      "epoch: 02, loss: -0.01243\n",
      "epoch: 03, loss: -0.01398\n",
      "epoch: 04, loss: -0.01013\n",
      "epoch: 05, loss: -0.01489\n",
      "epoch: 06, loss: -0.02295\n",
      "epoch: 07, loss: -0.01839\n",
      "epoch: 08, loss: -0.01341\n",
      "epoch: 09, loss: -0.00706\n",
      "torch.Size([400, 32])\n"
     ]
    },
    {
     "name": "stderr",
     "output_type": "stream",
     "text": [
      "  0%|          | 4/1000 [01:52<7:13:10, 26.09s/it]"
     ]
    },
    {
     "name": "stdout",
     "output_type": "stream",
     "text": [
      "eigenvalues shape torch.Size([5]) eigenvectors shape torch.Size([5, 400])\n",
      "4 /home/phdcs2/Hard_Disk/Datasets/Deep-Spectral-Segmentation/data/object-segmentation/ECSSD/features/dino_vits16/0005.pth\n",
      "dict_keys(['k', 'indices', 'file', 'id', 'model_name', 'patch_size', 'shape'])\n",
      "0005\n",
      "Starting Training\n",
      "epoch: 00, loss: 0.00573\n",
      "epoch: 01, loss: -0.00075\n",
      "epoch: 02, loss: -0.00367\n",
      "epoch: 03, loss: -0.00567\n",
      "epoch: 04, loss: -0.00672\n",
      "epoch: 05, loss: -0.00748\n",
      "epoch: 06, loss: -0.00838\n",
      "epoch: 07, loss: -0.00868\n",
      "epoch: 08, loss: -0.00903\n",
      "epoch: 09, loss: -0.00945\n",
      "torch.Size([400, 32])\n"
     ]
    },
    {
     "name": "stderr",
     "output_type": "stream",
     "text": [
      "  0%|          | 5/1000 [02:16<7:02:45, 25.49s/it]"
     ]
    },
    {
     "name": "stdout",
     "output_type": "stream",
     "text": [
      "eigenvalues shape torch.Size([5]) eigenvectors shape torch.Size([5, 400])\n",
      "5 /home/phdcs2/Hard_Disk/Datasets/Deep-Spectral-Segmentation/data/object-segmentation/ECSSD/features/dino_vits16/0006.pth\n",
      "dict_keys(['k', 'indices', 'file', 'id', 'model_name', 'patch_size', 'shape'])\n",
      "0006\n",
      "Starting Training\n",
      "epoch: 00, loss: -0.01798\n",
      "epoch: 01, loss: -0.01801\n",
      "epoch: 02, loss: -0.04062\n",
      "epoch: 03, loss: -0.03208\n",
      "epoch: 04, loss: -0.04228\n",
      "epoch: 05, loss: -0.03444\n",
      "epoch: 06, loss: -0.05846\n",
      "epoch: 07, loss: -0.06625\n",
      "epoch: 08, loss: -0.07163\n",
      "epoch: 09, loss: -0.08357\n",
      "torch.Size([400, 32])\n"
     ]
    },
    {
     "name": "stderr",
     "output_type": "stream",
     "text": [
      "  1%|          | 6/1000 [02:48<7:37:56, 27.64s/it]"
     ]
    },
    {
     "name": "stdout",
     "output_type": "stream",
     "text": [
      "eigenvalues shape torch.Size([5]) eigenvectors shape torch.Size([5, 400])\n",
      "6 /home/phdcs2/Hard_Disk/Datasets/Deep-Spectral-Segmentation/data/object-segmentation/ECSSD/features/dino_vits16/0007.pth\n",
      "dict_keys(['k', 'indices', 'file', 'id', 'model_name', 'patch_size', 'shape'])\n",
      "0007\n",
      "Starting Training\n",
      "epoch: 00, loss: 0.00596\n",
      "epoch: 01, loss: -0.00501\n",
      "epoch: 02, loss: -0.00420\n",
      "epoch: 03, loss: -0.00764\n",
      "epoch: 04, loss: 0.00796\n",
      "epoch: 05, loss: -0.01122\n",
      "epoch: 06, loss: -0.00226\n",
      "epoch: 07, loss: -0.00824\n",
      "epoch: 08, loss: -0.01612\n",
      "epoch: 09, loss: -0.01888\n",
      "torch.Size([400, 32])\n"
     ]
    },
    {
     "name": "stderr",
     "output_type": "stream",
     "text": [
      "  1%|          | 7/1000 [03:19<7:58:54, 28.94s/it]"
     ]
    },
    {
     "name": "stdout",
     "output_type": "stream",
     "text": [
      "eigenvalues shape torch.Size([5]) eigenvectors shape torch.Size([5, 400])\n",
      "7 /home/phdcs2/Hard_Disk/Datasets/Deep-Spectral-Segmentation/data/object-segmentation/ECSSD/features/dino_vits16/0008.pth\n",
      "dict_keys(['k', 'indices', 'file', 'id', 'model_name', 'patch_size', 'shape'])\n",
      "0008\n",
      "Starting Training\n",
      "epoch: 00, loss: 0.00353\n",
      "epoch: 01, loss: -0.00057\n",
      "epoch: 02, loss: -0.00296\n",
      "epoch: 03, loss: 0.00283\n",
      "epoch: 04, loss: 0.00622\n",
      "epoch: 05, loss: -0.00666\n",
      "epoch: 06, loss: -0.00128\n",
      "epoch: 07, loss: -0.01090\n",
      "epoch: 08, loss: 0.00749\n",
      "epoch: 09, loss: 0.00012\n",
      "torch.Size([400, 32])\n"
     ]
    },
    {
     "name": "stderr",
     "output_type": "stream",
     "text": [
      "  1%|          | 8/1000 [03:52<8:19:06, 30.19s/it]"
     ]
    },
    {
     "name": "stdout",
     "output_type": "stream",
     "text": [
      "eigenvalues shape torch.Size([5]) eigenvectors shape torch.Size([5, 400])\n",
      "8 /home/phdcs2/Hard_Disk/Datasets/Deep-Spectral-Segmentation/data/object-segmentation/ECSSD/features/dino_vits16/0009.pth\n",
      "dict_keys(['k', 'indices', 'file', 'id', 'model_name', 'patch_size', 'shape'])\n",
      "0009\n",
      "Starting Training\n",
      "epoch: 00, loss: 0.00843\n",
      "epoch: 01, loss: 0.00197\n",
      "epoch: 02, loss: -0.00081\n",
      "epoch: 03, loss: -0.00281\n",
      "epoch: 04, loss: -0.00413\n",
      "epoch: 05, loss: -0.00457\n",
      "epoch: 06, loss: -0.00534\n",
      "epoch: 07, loss: -0.00593\n",
      "epoch: 08, loss: -0.00615\n",
      "epoch: 09, loss: -0.00666\n",
      "torch.Size([400, 32])\n"
     ]
    },
    {
     "name": "stderr",
     "output_type": "stream",
     "text": [
      "  1%|          | 9/1000 [04:14<7:36:54, 27.66s/it]"
     ]
    },
    {
     "name": "stdout",
     "output_type": "stream",
     "text": [
      "eigenvalues shape torch.Size([5]) eigenvectors shape torch.Size([5, 400])\n",
      "9 /home/phdcs2/Hard_Disk/Datasets/Deep-Spectral-Segmentation/data/object-segmentation/ECSSD/features/dino_vits16/0010.pth\n",
      "dict_keys(['k', 'indices', 'file', 'id', 'model_name', 'patch_size', 'shape'])\n",
      "0010\n",
      "Starting Training\n",
      "epoch: 00, loss: 0.00438\n",
      "epoch: 01, loss: -0.00035\n",
      "epoch: 02, loss: -0.00008\n",
      "epoch: 03, loss: 0.00807\n",
      "epoch: 04, loss: -0.00320\n",
      "epoch: 05, loss: -0.01045\n",
      "epoch: 06, loss: -0.00033\n",
      "epoch: 07, loss: -0.00336\n",
      "epoch: 08, loss: -0.00499\n",
      "epoch: 09, loss: -0.00711\n",
      "torch.Size([400, 32])\n"
     ]
    },
    {
     "name": "stderr",
     "output_type": "stream",
     "text": [
      "  1%|          | 10/1000 [04:46<7:54:23, 28.75s/it]"
     ]
    },
    {
     "name": "stdout",
     "output_type": "stream",
     "text": [
      "eigenvalues shape torch.Size([5]) eigenvectors shape torch.Size([5, 400])\n",
      "10 /home/phdcs2/Hard_Disk/Datasets/Deep-Spectral-Segmentation/data/object-segmentation/ECSSD/features/dino_vits16/0011.pth\n",
      "dict_keys(['k', 'indices', 'file', 'id', 'model_name', 'patch_size', 'shape'])\n",
      "0011\n",
      "Starting Training\n",
      "epoch: 00, loss: 0.00301\n",
      "epoch: 01, loss: 0.00170\n",
      "epoch: 02, loss: -0.00126\n",
      "epoch: 03, loss: -0.00024\n",
      "epoch: 04, loss: -0.00252\n",
      "epoch: 05, loss: -0.00909\n",
      "epoch: 06, loss: -0.00737\n",
      "epoch: 07, loss: -0.00550\n",
      "epoch: 08, loss: -0.00438\n",
      "epoch: 09, loss: -0.00989\n",
      "torch.Size([400, 32])\n"
     ]
    },
    {
     "name": "stderr",
     "output_type": "stream",
     "text": [
      "/home/phdcs2/Hard_Disk/Projects/T2I/deep-spectral-segmentation/venv/lib/python3.8/site-packages/scipy/sparse/linalg/_eigen/arpack/arpack.py:935: LinAlgWarning: Diagonal number 400 is exactly zero. Singular matrix.\n",
      "  self.M_lu = lu_factor(M)\n"
     ]
    },
    {
     "name": "stdout",
     "output_type": "stream",
     "text": [
      " ** On entry to SLASCL parameter number  4 had an illegal value\n",
      " ** On entry to SLASCL parameter number  4 had an illegal value\n"
     ]
    },
    {
     "name": "stderr",
     "output_type": "stream",
     "text": [
      "  1%|          | 11/1000 [05:12<7:42:50, 28.08s/it]"
     ]
    },
    {
     "name": "stdout",
     "output_type": "stream",
     "text": [
      "eigenvalues shape torch.Size([5]) eigenvectors shape torch.Size([5, 400])\n",
      "11 /home/phdcs2/Hard_Disk/Datasets/Deep-Spectral-Segmentation/data/object-segmentation/ECSSD/features/dino_vits16/0012.pth\n",
      "dict_keys(['k', 'indices', 'file', 'id', 'model_name', 'patch_size', 'shape'])\n",
      "0012\n",
      "Starting Training\n",
      "epoch: 00, loss: -0.00140\n",
      "epoch: 01, loss: 0.00187\n",
      "epoch: 02, loss: -0.01522\n",
      "epoch: 03, loss: -0.00143\n",
      "epoch: 04, loss: -0.00645\n",
      "epoch: 05, loss: -0.00369\n",
      "epoch: 06, loss: 0.00618\n",
      "epoch: 07, loss: -0.00838\n",
      "epoch: 08, loss: -0.01459\n",
      "epoch: 09, loss: -0.00856\n",
      "torch.Size([400, 32])\n"
     ]
    },
    {
     "name": "stderr",
     "output_type": "stream",
     "text": [
      "  1%|          | 12/1000 [05:44<7:59:07, 29.10s/it]"
     ]
    },
    {
     "name": "stdout",
     "output_type": "stream",
     "text": [
      "eigenvalues shape torch.Size([5]) eigenvectors shape torch.Size([5, 400])\n",
      "12 /home/phdcs2/Hard_Disk/Datasets/Deep-Spectral-Segmentation/data/object-segmentation/ECSSD/features/dino_vits16/0013.pth\n",
      "dict_keys(['k', 'indices', 'file', 'id', 'model_name', 'patch_size', 'shape'])\n",
      "0013\n",
      "Starting Training\n",
      "epoch: 00, loss: -0.00171\n",
      "epoch: 01, loss: -0.01058\n",
      "epoch: 02, loss: -0.01446\n",
      "epoch: 03, loss: -0.01615\n",
      "epoch: 04, loss: -0.01765\n",
      "epoch: 05, loss: -0.01796\n",
      "epoch: 06, loss: -0.01844\n",
      "epoch: 07, loss: -0.01859\n",
      "epoch: 08, loss: -0.01882\n",
      "epoch: 09, loss: -0.01898\n",
      "torch.Size([400, 32])\n"
     ]
    },
    {
     "name": "stderr",
     "output_type": "stream",
     "text": [
      "  1%|▏         | 13/1000 [06:16<8:16:57, 30.21s/it]"
     ]
    },
    {
     "name": "stdout",
     "output_type": "stream",
     "text": [
      "eigenvalues shape torch.Size([5]) eigenvectors shape torch.Size([5, 400])\n",
      "13 /home/phdcs2/Hard_Disk/Datasets/Deep-Spectral-Segmentation/data/object-segmentation/ECSSD/features/dino_vits16/0014.pth\n",
      "dict_keys(['k', 'indices', 'file', 'id', 'model_name', 'patch_size', 'shape'])\n",
      "0014\n",
      "Starting Training\n",
      "epoch: 00, loss: 0.00970\n",
      "epoch: 01, loss: 0.00466\n",
      "epoch: 02, loss: 0.00134\n",
      "epoch: 03, loss: -0.00061\n",
      "epoch: 04, loss: -0.00213\n",
      "epoch: 05, loss: -0.00317\n",
      "epoch: 06, loss: -0.00425\n",
      "epoch: 07, loss: -0.00491\n",
      "epoch: 08, loss: -0.00560\n",
      "epoch: 09, loss: -0.00594\n",
      "torch.Size([400, 32])\n"
     ]
    },
    {
     "name": "stderr",
     "output_type": "stream",
     "text": [
      "  1%|▏         | 14/1000 [06:40<7:44:16, 28.25s/it]"
     ]
    },
    {
     "name": "stdout",
     "output_type": "stream",
     "text": [
      "eigenvalues shape torch.Size([5]) eigenvectors shape torch.Size([5, 400])\n",
      "14 /home/phdcs2/Hard_Disk/Datasets/Deep-Spectral-Segmentation/data/object-segmentation/ECSSD/features/dino_vits16/0015.pth\n",
      "dict_keys(['k', 'indices', 'file', 'id', 'model_name', 'patch_size', 'shape'])\n",
      "0015\n",
      "Starting Training\n",
      "epoch: 00, loss: 0.00177\n",
      "epoch: 01, loss: 0.00701\n",
      "epoch: 02, loss: -0.01141\n",
      "epoch: 03, loss: -0.01493\n",
      "epoch: 04, loss: -0.01713\n",
      "epoch: 05, loss: 0.00467\n",
      "epoch: 06, loss: -0.02245\n",
      "epoch: 07, loss: 0.03206\n",
      "epoch: 08, loss: -0.02936\n",
      "epoch: 09, loss: -0.02066\n",
      "torch.Size([400, 32])\n"
     ]
    },
    {
     "name": "stderr",
     "output_type": "stream",
     "text": [
      "  2%|▏         | 15/1000 [07:04<7:20:03, 26.81s/it]"
     ]
    },
    {
     "name": "stdout",
     "output_type": "stream",
     "text": [
      "eigenvalues shape torch.Size([5]) eigenvectors shape torch.Size([5, 400])\n",
      "15 /home/phdcs2/Hard_Disk/Datasets/Deep-Spectral-Segmentation/data/object-segmentation/ECSSD/features/dino_vits16/0016.pth\n",
      "dict_keys(['k', 'indices', 'file', 'id', 'model_name', 'patch_size', 'shape'])\n",
      "0016\n",
      "Starting Training\n",
      "epoch: 00, loss: 0.01060\n",
      "epoch: 01, loss: 0.00441\n",
      "epoch: 02, loss: -0.00104\n",
      "epoch: 03, loss: 0.00198\n",
      "epoch: 04, loss: -0.00482\n",
      "epoch: 05, loss: -0.00557\n",
      "epoch: 06, loss: -0.00572\n",
      "epoch: 07, loss: -0.00726\n",
      "epoch: 08, loss: -0.00384\n",
      "epoch: 09, loss: -0.00664\n",
      "torch.Size([400, 32])\n"
     ]
    },
    {
     "name": "stderr",
     "output_type": "stream",
     "text": [
      "  2%|▏         | 16/1000 [07:34<7:38:37, 27.97s/it]"
     ]
    },
    {
     "name": "stdout",
     "output_type": "stream",
     "text": [
      "eigenvalues shape torch.Size([5]) eigenvectors shape torch.Size([5, 400])\n",
      "16 /home/phdcs2/Hard_Disk/Datasets/Deep-Spectral-Segmentation/data/object-segmentation/ECSSD/features/dino_vits16/0017.pth\n",
      "dict_keys(['k', 'indices', 'file', 'id', 'model_name', 'patch_size', 'shape'])\n",
      "0017\n",
      "Starting Training\n",
      "epoch: 00, loss: 0.00276\n",
      "epoch: 01, loss: -0.00130\n",
      "epoch: 02, loss: -0.00226\n",
      "epoch: 03, loss: -0.00504\n",
      "epoch: 04, loss: -0.00919\n",
      "epoch: 05, loss: -0.00466\n",
      "epoch: 06, loss: -0.01005\n",
      "epoch: 07, loss: -0.00905\n",
      "epoch: 08, loss: -0.01216\n",
      "epoch: 09, loss: -0.00954\n",
      "torch.Size([400, 32])\n"
     ]
    },
    {
     "name": "stderr",
     "output_type": "stream",
     "text": [
      "  2%|▏         | 17/1000 [07:57<7:12:48, 26.42s/it]"
     ]
    },
    {
     "name": "stdout",
     "output_type": "stream",
     "text": [
      "eigenvalues shape torch.Size([5]) eigenvectors shape torch.Size([5, 400])\n",
      "17 /home/phdcs2/Hard_Disk/Datasets/Deep-Spectral-Segmentation/data/object-segmentation/ECSSD/features/dino_vits16/0018.pth\n",
      "dict_keys(['k', 'indices', 'file', 'id', 'model_name', 'patch_size', 'shape'])\n",
      "0018\n",
      "Starting Training\n",
      "epoch: 00, loss: 0.00616\n",
      "epoch: 01, loss: -0.00253\n",
      "epoch: 02, loss: -0.00778\n",
      "epoch: 03, loss: -0.01068\n",
      "epoch: 04, loss: -0.01260\n",
      "epoch: 05, loss: -0.01350\n",
      "epoch: 06, loss: -0.01424\n",
      "epoch: 07, loss: -0.01487\n",
      "epoch: 08, loss: -0.01505\n",
      "epoch: 09, loss: -0.01545\n",
      "torch.Size([400, 32])\n"
     ]
    },
    {
     "name": "stderr",
     "output_type": "stream",
     "text": [
      "  2%|▏         | 18/1000 [08:22<7:03:16, 25.86s/it]"
     ]
    },
    {
     "name": "stdout",
     "output_type": "stream",
     "text": [
      "eigenvalues shape torch.Size([5]) eigenvectors shape torch.Size([5, 400])\n",
      "18 /home/phdcs2/Hard_Disk/Datasets/Deep-Spectral-Segmentation/data/object-segmentation/ECSSD/features/dino_vits16/0019.pth\n",
      "dict_keys(['k', 'indices', 'file', 'id', 'model_name', 'patch_size', 'shape'])\n",
      "0019\n",
      "Starting Training\n",
      "epoch: 00, loss: -0.00793\n",
      "epoch: 01, loss: -0.01888\n",
      "epoch: 02, loss: 0.00906\n",
      "epoch: 03, loss: -0.01373\n",
      "epoch: 04, loss: 0.00617\n",
      "epoch: 05, loss: -0.01937\n",
      "epoch: 06, loss: 0.00423\n",
      "epoch: 07, loss: -0.00931\n",
      "epoch: 08, loss: 0.00308\n",
      "epoch: 09, loss: -0.01561\n",
      "torch.Size([400, 32])\n"
     ]
    },
    {
     "name": "stderr",
     "output_type": "stream",
     "text": [
      "  2%|▏         | 19/1000 [08:55<7:40:01, 28.14s/it]"
     ]
    },
    {
     "name": "stdout",
     "output_type": "stream",
     "text": [
      "eigenvalues shape torch.Size([5]) eigenvectors shape torch.Size([5, 400])\n",
      "19 /home/phdcs2/Hard_Disk/Datasets/Deep-Spectral-Segmentation/data/object-segmentation/ECSSD/features/dino_vits16/0020.pth\n",
      "dict_keys(['k', 'indices', 'file', 'id', 'model_name', 'patch_size', 'shape'])\n",
      "0020\n",
      "Starting Training\n",
      "epoch: 00, loss: 0.00783\n",
      "epoch: 01, loss: 0.00575\n",
      "epoch: 02, loss: 0.00325\n",
      "epoch: 03, loss: 0.00246\n",
      "epoch: 04, loss: 0.00100\n",
      "epoch: 05, loss: -0.00151\n",
      "epoch: 06, loss: -0.00164\n",
      "epoch: 07, loss: -0.00313\n",
      "epoch: 08, loss: -0.00201\n",
      "epoch: 09, loss: -0.00231\n",
      "torch.Size([400, 32])\n"
     ]
    },
    {
     "name": "stderr",
     "output_type": "stream",
     "text": [
      "  2%|▏         | 20/1000 [09:27<8:00:07, 29.40s/it]"
     ]
    },
    {
     "name": "stdout",
     "output_type": "stream",
     "text": [
      "eigenvalues shape torch.Size([5]) eigenvectors shape torch.Size([5, 400])\n",
      "20 /home/phdcs2/Hard_Disk/Datasets/Deep-Spectral-Segmentation/data/object-segmentation/ECSSD/features/dino_vits16/0021.pth\n",
      "dict_keys(['k', 'indices', 'file', 'id', 'model_name', 'patch_size', 'shape'])\n",
      "0021\n",
      "Starting Training\n",
      "epoch: 00, loss: 0.00805\n",
      "epoch: 01, loss: 0.00433\n",
      "epoch: 02, loss: 0.00188\n",
      "epoch: 03, loss: -0.00023\n",
      "epoch: 04, loss: -0.00162\n",
      "epoch: 05, loss: -0.00251\n",
      "epoch: 06, loss: -0.00362\n",
      "epoch: 07, loss: -0.00439\n",
      "epoch: 08, loss: -0.00499\n",
      "epoch: 09, loss: -0.00527\n",
      "torch.Size([400, 32])\n"
     ]
    },
    {
     "name": "stderr",
     "output_type": "stream",
     "text": [
      "  2%|▏         | 21/1000 [09:52<7:34:48, 27.87s/it]"
     ]
    },
    {
     "name": "stdout",
     "output_type": "stream",
     "text": [
      "eigenvalues shape torch.Size([5]) eigenvectors shape torch.Size([5, 400])\n",
      "21 /home/phdcs2/Hard_Disk/Datasets/Deep-Spectral-Segmentation/data/object-segmentation/ECSSD/features/dino_vits16/0022.pth\n",
      "dict_keys(['k', 'indices', 'file', 'id', 'model_name', 'patch_size', 'shape'])\n",
      "0022\n",
      "Starting Training\n",
      "epoch: 00, loss: -0.00159\n",
      "epoch: 01, loss: 0.02273\n",
      "epoch: 02, loss: 0.00465\n",
      "epoch: 03, loss: -0.00276\n",
      "epoch: 04, loss: 0.00360\n",
      "epoch: 05, loss: -0.00162\n",
      "epoch: 06, loss: 0.00248\n",
      "epoch: 07, loss: 0.01763\n",
      "epoch: 08, loss: -0.01124\n",
      "epoch: 09, loss: 0.00133\n",
      "torch.Size([400, 32])\n"
     ]
    },
    {
     "name": "stderr",
     "output_type": "stream",
     "text": [
      "  2%|▏         | 22/1000 [10:24<7:55:20, 29.16s/it]"
     ]
    },
    {
     "name": "stdout",
     "output_type": "stream",
     "text": [
      "eigenvalues shape torch.Size([5]) eigenvectors shape torch.Size([5, 400])\n",
      "22 /home/phdcs2/Hard_Disk/Datasets/Deep-Spectral-Segmentation/data/object-segmentation/ECSSD/features/dino_vits16/0023.pth\n",
      "dict_keys(['k', 'indices', 'file', 'id', 'model_name', 'patch_size', 'shape'])\n",
      "0023\n",
      "Starting Training\n",
      "epoch: 00, loss: 0.01106\n",
      "epoch: 01, loss: -0.00233\n",
      "epoch: 02, loss: -0.01093\n",
      "epoch: 03, loss: -0.01169\n",
      "epoch: 04, loss: -0.02098\n",
      "epoch: 05, loss: -0.01736\n",
      "epoch: 06, loss: -0.00227\n",
      "epoch: 07, loss: -0.01938\n",
      "epoch: 08, loss: -0.01508\n",
      "epoch: 09, loss: -0.02590\n",
      "torch.Size([400, 32])\n"
     ]
    },
    {
     "name": "stderr",
     "output_type": "stream",
     "text": [
      "  2%|▏         | 23/1000 [10:56<8:07:31, 29.94s/it]"
     ]
    },
    {
     "name": "stdout",
     "output_type": "stream",
     "text": [
      "eigenvalues shape torch.Size([5]) eigenvectors shape torch.Size([5, 400])\n",
      "23 /home/phdcs2/Hard_Disk/Datasets/Deep-Spectral-Segmentation/data/object-segmentation/ECSSD/features/dino_vits16/0024.pth\n",
      "dict_keys(['k', 'indices', 'file', 'id', 'model_name', 'patch_size', 'shape'])\n",
      "0024\n",
      "Starting Training\n",
      "epoch: 00, loss: 0.00741\n",
      "epoch: 01, loss: 0.00398\n",
      "epoch: 02, loss: 0.00217\n",
      "epoch: 03, loss: 0.00079\n",
      "epoch: 04, loss: 0.00016\n",
      "epoch: 05, loss: -0.00066\n",
      "epoch: 06, loss: -0.00120\n",
      "epoch: 07, loss: -0.00162\n",
      "epoch: 08, loss: -0.00198\n",
      "epoch: 09, loss: -0.00221\n",
      "torch.Size([400, 32])\n"
     ]
    },
    {
     "name": "stderr",
     "output_type": "stream",
     "text": [
      "  2%|▏         | 24/1000 [11:20<7:39:16, 28.23s/it]"
     ]
    },
    {
     "name": "stdout",
     "output_type": "stream",
     "text": [
      "eigenvalues shape torch.Size([5]) eigenvectors shape torch.Size([5, 400])\n",
      "24 /home/phdcs2/Hard_Disk/Datasets/Deep-Spectral-Segmentation/data/object-segmentation/ECSSD/features/dino_vits16/0025.pth\n",
      "dict_keys(['k', 'indices', 'file', 'id', 'model_name', 'patch_size', 'shape'])\n",
      "0025\n",
      "Starting Training\n",
      "epoch: 00, loss: 0.00472\n",
      "epoch: 01, loss: 0.00108\n",
      "epoch: 02, loss: -0.00084\n",
      "epoch: 03, loss: -0.00214\n",
      "epoch: 04, loss: -0.00306\n",
      "epoch: 05, loss: -0.00362\n",
      "epoch: 06, loss: -0.00412\n",
      "epoch: 07, loss: -0.00448\n",
      "epoch: 08, loss: -0.00484\n",
      "epoch: 09, loss: -0.00511\n",
      "torch.Size([400, 32])\n"
     ]
    },
    {
     "name": "stderr",
     "output_type": "stream",
     "text": [
      "  2%|▎         | 25/1000 [11:43<7:15:43, 26.81s/it]"
     ]
    },
    {
     "name": "stdout",
     "output_type": "stream",
     "text": [
      "eigenvalues shape torch.Size([5]) eigenvectors shape torch.Size([5, 400])\n",
      "25 /home/phdcs2/Hard_Disk/Datasets/Deep-Spectral-Segmentation/data/object-segmentation/ECSSD/features/dino_vits16/0026.pth\n",
      "dict_keys(['k', 'indices', 'file', 'id', 'model_name', 'patch_size', 'shape'])\n",
      "0026\n",
      "Starting Training\n",
      "epoch: 00, loss: 0.00410\n",
      "epoch: 01, loss: 0.00512\n",
      "epoch: 02, loss: 0.00127\n",
      "epoch: 03, loss: 0.00060\n",
      "epoch: 04, loss: 0.01557\n",
      "epoch: 05, loss: -0.00444\n",
      "epoch: 06, loss: -0.00663\n",
      "epoch: 07, loss: -0.00959\n",
      "epoch: 08, loss: -0.00801\n",
      "epoch: 09, loss: -0.01382\n",
      "torch.Size([400, 32])\n"
     ]
    },
    {
     "name": "stderr",
     "output_type": "stream",
     "text": [
      "  3%|▎         | 26/1000 [12:08<7:03:12, 26.07s/it]"
     ]
    },
    {
     "name": "stdout",
     "output_type": "stream",
     "text": [
      "eigenvalues shape torch.Size([5]) eigenvectors shape torch.Size([5, 400])\n",
      "26 /home/phdcs2/Hard_Disk/Datasets/Deep-Spectral-Segmentation/data/object-segmentation/ECSSD/features/dino_vits16/0027.pth\n",
      "dict_keys(['k', 'indices', 'file', 'id', 'model_name', 'patch_size', 'shape'])\n",
      "0027\n",
      "Starting Training\n",
      "epoch: 00, loss: 0.00313\n",
      "epoch: 01, loss: -0.00272\n",
      "epoch: 02, loss: -0.00514\n",
      "epoch: 03, loss: -0.00662\n",
      "epoch: 04, loss: -0.00758\n",
      "epoch: 05, loss: -0.00832\n",
      "epoch: 06, loss: -0.00882\n",
      "epoch: 07, loss: -0.00906\n",
      "epoch: 08, loss: -0.00943\n",
      "epoch: 09, loss: -0.00966\n",
      "torch.Size([400, 32])\n"
     ]
    },
    {
     "name": "stderr",
     "output_type": "stream",
     "text": [
      "  3%|▎         | 27/1000 [12:32<6:52:01, 25.41s/it]"
     ]
    },
    {
     "name": "stdout",
     "output_type": "stream",
     "text": [
      "eigenvalues shape torch.Size([5]) eigenvectors shape torch.Size([5, 400])\n",
      "27 /home/phdcs2/Hard_Disk/Datasets/Deep-Spectral-Segmentation/data/object-segmentation/ECSSD/features/dino_vits16/0028.pth\n",
      "dict_keys(['k', 'indices', 'file', 'id', 'model_name', 'patch_size', 'shape'])\n",
      "0028\n",
      "Starting Training\n",
      "epoch: 00, loss: 0.00553\n",
      "epoch: 01, loss: -0.00061\n",
      "epoch: 02, loss: -0.00375\n",
      "epoch: 03, loss: -0.00562\n",
      "epoch: 04, loss: -0.00700\n",
      "epoch: 05, loss: -0.00777\n",
      "epoch: 06, loss: -0.00831\n",
      "epoch: 07, loss: -0.00893\n",
      "epoch: 08, loss: -0.00933\n",
      "epoch: 09, loss: -0.00943\n",
      "torch.Size([400, 32])\n"
     ]
    },
    {
     "name": "stderr",
     "output_type": "stream",
     "text": [
      "  3%|▎         | 28/1000 [13:02<7:18:05, 27.04s/it]"
     ]
    },
    {
     "name": "stdout",
     "output_type": "stream",
     "text": [
      "eigenvalues shape torch.Size([5]) eigenvectors shape torch.Size([5, 400])\n",
      "28 /home/phdcs2/Hard_Disk/Datasets/Deep-Spectral-Segmentation/data/object-segmentation/ECSSD/features/dino_vits16/0029.pth\n",
      "dict_keys(['k', 'indices', 'file', 'id', 'model_name', 'patch_size', 'shape'])\n",
      "0029\n",
      "Starting Training\n",
      "epoch: 00, loss: 0.00409\n",
      "epoch: 01, loss: -0.01047\n",
      "epoch: 02, loss: -0.03733\n",
      "epoch: 03, loss: -0.01480\n",
      "epoch: 04, loss: -0.02275\n",
      "epoch: 05, loss: -0.01895\n",
      "epoch: 06, loss: -0.03401\n",
      "epoch: 07, loss: -0.04352\n",
      "epoch: 08, loss: -0.04278\n",
      "epoch: 09, loss: -0.06951\n",
      "torch.Size([400, 32])\n"
     ]
    },
    {
     "name": "stderr",
     "output_type": "stream",
     "text": [
      "  3%|▎         | 29/1000 [13:26<6:59:43, 25.94s/it]"
     ]
    },
    {
     "name": "stdout",
     "output_type": "stream",
     "text": [
      "eigenvalues shape torch.Size([5]) eigenvectors shape torch.Size([5, 400])\n",
      "29 /home/phdcs2/Hard_Disk/Datasets/Deep-Spectral-Segmentation/data/object-segmentation/ECSSD/features/dino_vits16/0030.pth\n",
      "dict_keys(['k', 'indices', 'file', 'id', 'model_name', 'patch_size', 'shape'])\n",
      "0030\n",
      "Starting Training\n",
      "epoch: 00, loss: 0.00866\n",
      "epoch: 01, loss: 0.00315\n",
      "epoch: 02, loss: -0.00715\n",
      "epoch: 03, loss: -0.01854\n",
      "epoch: 04, loss: -0.01414\n",
      "epoch: 05, loss: -0.00426\n",
      "epoch: 06, loss: -0.01732\n",
      "epoch: 07, loss: -0.01560\n",
      "epoch: 08, loss: -0.02137\n",
      "epoch: 09, loss: -0.02385\n",
      "torch.Size([400, 32])\n"
     ]
    },
    {
     "name": "stderr",
     "output_type": "stream",
     "text": [
      "  3%|▎         | 30/1000 [13:58<7:31:16, 27.91s/it]"
     ]
    },
    {
     "name": "stdout",
     "output_type": "stream",
     "text": [
      "eigenvalues shape torch.Size([5]) eigenvectors shape torch.Size([5, 400])\n",
      "30 /home/phdcs2/Hard_Disk/Datasets/Deep-Spectral-Segmentation/data/object-segmentation/ECSSD/features/dino_vits16/0031.pth\n",
      "dict_keys(['k', 'indices', 'file', 'id', 'model_name', 'patch_size', 'shape'])\n",
      "0031\n",
      "Starting Training\n",
      "epoch: 00, loss: -0.01132\n",
      "epoch: 01, loss: 0.01383\n",
      "epoch: 02, loss: 0.00459\n",
      "epoch: 03, loss: 0.01052\n",
      "epoch: 04, loss: 0.00792\n",
      "epoch: 05, loss: 0.00685\n",
      "epoch: 06, loss: 0.01599\n",
      "epoch: 07, loss: 0.00312\n",
      "epoch: 08, loss: -0.00387\n",
      "epoch: 09, loss: -0.00521\n",
      "torch.Size([400, 32])\n"
     ]
    },
    {
     "name": "stderr",
     "output_type": "stream",
     "text": [
      "  3%|▎         | 31/1000 [14:31<7:52:22, 29.25s/it]"
     ]
    },
    {
     "name": "stdout",
     "output_type": "stream",
     "text": [
      "eigenvalues shape torch.Size([5]) eigenvectors shape torch.Size([5, 400])\n",
      "31 /home/phdcs2/Hard_Disk/Datasets/Deep-Spectral-Segmentation/data/object-segmentation/ECSSD/features/dino_vits16/0032.pth\n",
      "dict_keys(['k', 'indices', 'file', 'id', 'model_name', 'patch_size', 'shape'])\n",
      "0032\n",
      "Starting Training\n",
      "epoch: 00, loss: 0.00959\n",
      "epoch: 01, loss: -0.01327\n",
      "epoch: 02, loss: -0.00159\n",
      "epoch: 03, loss: -0.00736\n",
      "epoch: 04, loss: -0.01267\n",
      "epoch: 05, loss: -0.00487\n",
      "epoch: 06, loss: -0.00906\n",
      "epoch: 07, loss: -0.01267\n",
      "epoch: 08, loss: 0.00049\n",
      "epoch: 09, loss: -0.00814\n",
      "torch.Size([400, 32])\n"
     ]
    },
    {
     "name": "stderr",
     "output_type": "stream",
     "text": [
      "  3%|▎         | 32/1000 [15:03<8:08:57, 30.31s/it]"
     ]
    },
    {
     "name": "stdout",
     "output_type": "stream",
     "text": [
      "eigenvalues shape torch.Size([5]) eigenvectors shape torch.Size([5, 400])\n",
      "32 /home/phdcs2/Hard_Disk/Datasets/Deep-Spectral-Segmentation/data/object-segmentation/ECSSD/features/dino_vits16/0033.pth\n",
      "dict_keys(['k', 'indices', 'file', 'id', 'model_name', 'patch_size', 'shape'])\n",
      "0033\n",
      "Starting Training\n",
      "epoch: 00, loss: 0.00465\n",
      "epoch: 01, loss: 0.00089\n",
      "epoch: 02, loss: -0.00120\n",
      "epoch: 03, loss: -0.00257\n",
      "epoch: 04, loss: -0.00391\n",
      "epoch: 05, loss: -0.00453\n",
      "epoch: 06, loss: -0.00527\n",
      "epoch: 07, loss: -0.00586\n",
      "epoch: 08, loss: -0.00606\n",
      "epoch: 09, loss: -0.00659\n",
      "torch.Size([400, 32])\n"
     ]
    },
    {
     "name": "stderr",
     "output_type": "stream",
     "text": [
      "  3%|▎         | 33/1000 [15:28<7:39:16, 28.50s/it]"
     ]
    },
    {
     "name": "stdout",
     "output_type": "stream",
     "text": [
      "eigenvalues shape torch.Size([5]) eigenvectors shape torch.Size([5, 400])\n",
      "33 /home/phdcs2/Hard_Disk/Datasets/Deep-Spectral-Segmentation/data/object-segmentation/ECSSD/features/dino_vits16/0034.pth\n",
      "dict_keys(['k', 'indices', 'file', 'id', 'model_name', 'patch_size', 'shape'])\n",
      "0034\n",
      "Starting Training\n",
      "epoch: 00, loss: -0.01057\n",
      "epoch: 01, loss: -0.00585\n",
      "epoch: 02, loss: 0.00666\n",
      "epoch: 03, loss: -0.00134\n",
      "epoch: 04, loss: -0.02428\n",
      "epoch: 05, loss: -0.00012\n",
      "epoch: 06, loss: 0.00664\n",
      "epoch: 07, loss: -0.01146\n",
      "epoch: 08, loss: -0.00187\n",
      "epoch: 09, loss: -0.01907\n",
      "torch.Size([400, 32])\n"
     ]
    },
    {
     "name": "stderr",
     "output_type": "stream",
     "text": [
      "  3%|▎         | 34/1000 [15:52<7:15:56, 27.08s/it]"
     ]
    },
    {
     "name": "stdout",
     "output_type": "stream",
     "text": [
      "eigenvalues shape torch.Size([5]) eigenvectors shape torch.Size([5, 400])\n",
      "34 /home/phdcs2/Hard_Disk/Datasets/Deep-Spectral-Segmentation/data/object-segmentation/ECSSD/features/dino_vits16/0035.pth\n",
      "dict_keys(['k', 'indices', 'file', 'id', 'model_name', 'patch_size', 'shape'])\n",
      "0035\n",
      "Starting Training\n",
      "epoch: 00, loss: 0.00893\n",
      "epoch: 01, loss: 0.00473\n",
      "epoch: 02, loss: 0.00300\n",
      "epoch: 03, loss: 0.00143\n",
      "epoch: 04, loss: 0.00062\n",
      "epoch: 05, loss: 0.00002\n",
      "epoch: 06, loss: -0.00048\n",
      "epoch: 07, loss: -0.00121\n",
      "epoch: 08, loss: -0.00152\n",
      "epoch: 09, loss: -0.00183\n",
      "torch.Size([400, 32])\n"
     ]
    },
    {
     "name": "stderr",
     "output_type": "stream",
     "text": [
      "  4%|▎         | 35/1000 [16:15<6:58:50, 26.04s/it]"
     ]
    },
    {
     "name": "stdout",
     "output_type": "stream",
     "text": [
      "eigenvalues shape torch.Size([5]) eigenvectors shape torch.Size([5, 400])\n",
      "35 /home/phdcs2/Hard_Disk/Datasets/Deep-Spectral-Segmentation/data/object-segmentation/ECSSD/features/dino_vits16/0036.pth\n",
      "dict_keys(['k', 'indices', 'file', 'id', 'model_name', 'patch_size', 'shape'])\n",
      "0036\n",
      "Starting Training\n",
      "epoch: 00, loss: -0.00347\n",
      "epoch: 01, loss: 0.00654\n",
      "epoch: 02, loss: -0.00812\n",
      "epoch: 03, loss: 0.00238\n",
      "epoch: 04, loss: 0.00393\n",
      "epoch: 05, loss: 0.00331\n",
      "epoch: 06, loss: -0.01215\n",
      "epoch: 07, loss: 0.00392\n",
      "epoch: 08, loss: -0.03154\n",
      "epoch: 09, loss: -0.01899\n",
      "torch.Size([450, 32])\n"
     ]
    },
    {
     "name": "stderr",
     "output_type": "stream",
     "text": [
      "  4%|▎         | 36/1000 [16:43<7:09:13, 26.72s/it]"
     ]
    },
    {
     "name": "stdout",
     "output_type": "stream",
     "text": [
      "eigenvalues shape torch.Size([5]) eigenvectors shape torch.Size([5, 450])\n",
      "36 /home/phdcs2/Hard_Disk/Datasets/Deep-Spectral-Segmentation/data/object-segmentation/ECSSD/features/dino_vits16/0037.pth\n",
      "dict_keys(['k', 'indices', 'file', 'id', 'model_name', 'patch_size', 'shape'])\n",
      "0037\n",
      "Starting Training\n",
      "epoch: 00, loss: 0.00479\n",
      "epoch: 01, loss: -0.00124\n",
      "epoch: 02, loss: -0.00350\n",
      "epoch: 03, loss: -0.00556\n",
      "epoch: 04, loss: -0.00658\n",
      "epoch: 05, loss: -0.00747\n",
      "epoch: 06, loss: -0.00798\n",
      "epoch: 07, loss: -0.00830\n",
      "epoch: 08, loss: -0.00860\n",
      "epoch: 09, loss: -0.00879\n",
      "torch.Size([450, 32])\n"
     ]
    },
    {
     "name": "stderr",
     "output_type": "stream",
     "text": [
      "  4%|▎         | 37/1000 [17:11<7:12:44, 26.96s/it]"
     ]
    },
    {
     "name": "stdout",
     "output_type": "stream",
     "text": [
      "eigenvalues shape torch.Size([5]) eigenvectors shape torch.Size([5, 450])\n",
      "37 /home/phdcs2/Hard_Disk/Datasets/Deep-Spectral-Segmentation/data/object-segmentation/ECSSD/features/dino_vits16/0038.pth\n",
      "dict_keys(['k', 'indices', 'file', 'id', 'model_name', 'patch_size', 'shape'])\n",
      "0038\n",
      "Starting Training\n",
      "epoch: 00, loss: 0.00991\n",
      "epoch: 01, loss: -0.00328\n",
      "epoch: 02, loss: 0.00163\n",
      "epoch: 03, loss: -0.01221\n",
      "epoch: 04, loss: -0.00722\n",
      "epoch: 05, loss: -0.00675\n",
      "epoch: 06, loss: -0.02710\n",
      "epoch: 07, loss: -0.01621\n",
      "epoch: 08, loss: -0.01325\n",
      "epoch: 09, loss: -0.01132\n",
      "torch.Size([400, 32])\n"
     ]
    },
    {
     "name": "stderr",
     "output_type": "stream",
     "text": [
      "  4%|▍         | 38/1000 [17:35<6:57:42, 26.05s/it]"
     ]
    },
    {
     "name": "stdout",
     "output_type": "stream",
     "text": [
      "eigenvalues shape torch.Size([5]) eigenvectors shape torch.Size([5, 400])\n",
      "38 /home/phdcs2/Hard_Disk/Datasets/Deep-Spectral-Segmentation/data/object-segmentation/ECSSD/features/dino_vits16/0039.pth\n",
      "dict_keys(['k', 'indices', 'file', 'id', 'model_name', 'patch_size', 'shape'])\n",
      "0039\n",
      "Starting Training\n",
      "epoch: 00, loss: -0.00653\n",
      "epoch: 01, loss: -0.00761\n",
      "epoch: 02, loss: 0.00567\n",
      "epoch: 03, loss: -0.00884\n",
      "epoch: 04, loss: -0.00607\n",
      "epoch: 05, loss: 0.00341\n",
      "epoch: 06, loss: -0.01169\n",
      "epoch: 07, loss: 0.00499\n",
      "epoch: 08, loss: 0.00481\n",
      "epoch: 09, loss: -0.00552\n",
      "torch.Size([400, 32])\n"
     ]
    },
    {
     "name": "stderr",
     "output_type": "stream",
     "text": [
      "  4%|▍         | 39/1000 [18:06<7:20:33, 27.51s/it]"
     ]
    },
    {
     "name": "stdout",
     "output_type": "stream",
     "text": [
      "eigenvalues shape torch.Size([5]) eigenvectors shape torch.Size([5, 400])\n",
      "39 /home/phdcs2/Hard_Disk/Datasets/Deep-Spectral-Segmentation/data/object-segmentation/ECSSD/features/dino_vits16/0040.pth\n",
      "dict_keys(['k', 'indices', 'file', 'id', 'model_name', 'patch_size', 'shape'])\n",
      "0040\n",
      "Starting Training\n",
      "epoch: 00, loss: 0.01468\n",
      "epoch: 01, loss: 0.00463\n",
      "epoch: 02, loss: -0.00185\n",
      "epoch: 03, loss: -0.00897\n",
      "epoch: 04, loss: 0.00694\n",
      "epoch: 05, loss: -0.00866\n",
      "epoch: 06, loss: -0.01379\n",
      "epoch: 07, loss: 0.00668\n",
      "epoch: 08, loss: -0.01143\n",
      "epoch: 09, loss: -0.01089\n",
      "torch.Size([400, 32])\n"
     ]
    },
    {
     "name": "stderr",
     "output_type": "stream",
     "text": [
      "  4%|▍         | 40/1000 [18:28<6:54:07, 25.88s/it]"
     ]
    },
    {
     "name": "stdout",
     "output_type": "stream",
     "text": [
      "eigenvalues shape torch.Size([5]) eigenvectors shape torch.Size([5, 400])\n",
      "40 /home/phdcs2/Hard_Disk/Datasets/Deep-Spectral-Segmentation/data/object-segmentation/ECSSD/features/dino_vits16/0041.pth\n",
      "dict_keys(['k', 'indices', 'file', 'id', 'model_name', 'patch_size', 'shape'])\n",
      "0041\n",
      "Starting Training\n",
      "epoch: 00, loss: -0.00573\n",
      "epoch: 01, loss: -0.00143\n",
      "epoch: 02, loss: 0.00102\n",
      "epoch: 03, loss: 0.00077\n",
      "epoch: 04, loss: 0.00225\n",
      "epoch: 05, loss: 0.00447\n",
      "epoch: 06, loss: 0.01118\n",
      "epoch: 07, loss: 0.00305\n",
      "epoch: 08, loss: 0.00191\n",
      "epoch: 09, loss: -0.01026\n",
      "torch.Size([450, 32])\n"
     ]
    },
    {
     "name": "stderr",
     "output_type": "stream",
     "text": [
      "  4%|▍         | 41/1000 [19:06<7:54:39, 29.70s/it]"
     ]
    },
    {
     "name": "stdout",
     "output_type": "stream",
     "text": [
      "eigenvalues shape torch.Size([5]) eigenvectors shape torch.Size([5, 450])\n",
      "41 /home/phdcs2/Hard_Disk/Datasets/Deep-Spectral-Segmentation/data/object-segmentation/ECSSD/features/dino_vits16/0042.pth\n",
      "dict_keys(['k', 'indices', 'file', 'id', 'model_name', 'patch_size', 'shape'])\n",
      "0042\n",
      "Starting Training\n",
      "epoch: 00, loss: 0.00507\n",
      "epoch: 01, loss: -0.00449\n",
      "epoch: 02, loss: -0.01140\n",
      "epoch: 03, loss: -0.00973\n",
      "epoch: 04, loss: -0.00126\n",
      "epoch: 05, loss: -0.00419\n",
      "epoch: 06, loss: -0.01303\n",
      "epoch: 07, loss: -0.01104\n",
      "epoch: 08, loss: 0.00089\n",
      "epoch: 09, loss: -0.01187\n",
      "torch.Size([400, 32])\n"
     ]
    },
    {
     "name": "stderr",
     "output_type": "stream",
     "text": [
      "  4%|▍         | 42/1000 [19:40<8:12:42, 30.86s/it]"
     ]
    },
    {
     "name": "stdout",
     "output_type": "stream",
     "text": [
      "eigenvalues shape torch.Size([5]) eigenvectors shape torch.Size([5, 400])\n",
      "42 /home/phdcs2/Hard_Disk/Datasets/Deep-Spectral-Segmentation/data/object-segmentation/ECSSD/features/dino_vits16/0043.pth\n",
      "dict_keys(['k', 'indices', 'file', 'id', 'model_name', 'patch_size', 'shape'])\n",
      "0043\n",
      "Starting Training\n",
      "epoch: 00, loss: 0.00381\n",
      "epoch: 01, loss: -0.00173\n",
      "epoch: 02, loss: -0.00401\n",
      "epoch: 03, loss: -0.00566\n",
      "epoch: 04, loss: -0.00669\n",
      "epoch: 05, loss: -0.00741\n",
      "epoch: 06, loss: -0.00793\n",
      "epoch: 07, loss: -0.00834\n",
      "epoch: 08, loss: -0.00860\n",
      "epoch: 09, loss: -0.00884\n",
      "torch.Size([450, 32])\n"
     ]
    },
    {
     "name": "stderr",
     "output_type": "stream",
     "text": [
      "  4%|▍         | 43/1000 [20:09<8:00:56, 30.15s/it]"
     ]
    },
    {
     "name": "stdout",
     "output_type": "stream",
     "text": [
      "eigenvalues shape torch.Size([5]) eigenvectors shape torch.Size([5, 450])\n",
      "43 /home/phdcs2/Hard_Disk/Datasets/Deep-Spectral-Segmentation/data/object-segmentation/ECSSD/features/dino_vits16/0044.pth\n",
      "dict_keys(['k', 'indices', 'file', 'id', 'model_name', 'patch_size', 'shape'])\n",
      "0044\n",
      "Starting Training\n",
      "epoch: 00, loss: 0.00313\n",
      "epoch: 01, loss: -0.00508\n",
      "epoch: 02, loss: -0.00317\n",
      "epoch: 03, loss: -0.00582\n",
      "epoch: 04, loss: -0.00394\n",
      "epoch: 05, loss: -0.01224\n",
      "epoch: 06, loss: -0.01198\n",
      "epoch: 07, loss: -0.01202\n",
      "epoch: 08, loss: -0.00875\n",
      "epoch: 09, loss: -0.00794\n",
      "torch.Size([525, 32])\n"
     ]
    },
    {
     "name": "stderr",
     "output_type": "stream",
     "text": [
      "  4%|▍         | 44/1000 [20:44<8:25:57, 31.75s/it]"
     ]
    },
    {
     "name": "stdout",
     "output_type": "stream",
     "text": [
      "eigenvalues shape torch.Size([5]) eigenvectors shape torch.Size([5, 525])\n",
      "44 /home/phdcs2/Hard_Disk/Datasets/Deep-Spectral-Segmentation/data/object-segmentation/ECSSD/features/dino_vits16/0045.pth\n",
      "dict_keys(['k', 'indices', 'file', 'id', 'model_name', 'patch_size', 'shape'])\n",
      "0045\n",
      "Starting Training\n",
      "epoch: 00, loss: 0.00616\n",
      "epoch: 01, loss: 0.00171\n",
      "epoch: 02, loss: -0.00312\n",
      "epoch: 03, loss: -0.01244\n",
      "epoch: 04, loss: -0.00493\n",
      "epoch: 05, loss: -0.00157\n",
      "epoch: 06, loss: -0.00606\n",
      "epoch: 07, loss: -0.02115\n",
      "epoch: 08, loss: 0.00401\n",
      "epoch: 09, loss: -0.01269\n",
      "torch.Size([450, 32])\n"
     ]
    },
    {
     "name": "stderr",
     "output_type": "stream",
     "text": [
      "  4%|▍         | 45/1000 [21:13<8:13:42, 31.02s/it]"
     ]
    },
    {
     "name": "stdout",
     "output_type": "stream",
     "text": [
      "eigenvalues shape torch.Size([5]) eigenvectors shape torch.Size([5, 450])\n",
      "45 /home/phdcs2/Hard_Disk/Datasets/Deep-Spectral-Segmentation/data/object-segmentation/ECSSD/features/dino_vits16/0046.pth\n",
      "dict_keys(['k', 'indices', 'file', 'id', 'model_name', 'patch_size', 'shape'])\n",
      "0046\n",
      "Starting Training\n",
      "epoch: 00, loss: -0.02096\n",
      "epoch: 01, loss: -0.02284\n",
      "epoch: 02, loss: -0.01146\n",
      "epoch: 03, loss: -0.02792\n",
      "epoch: 04, loss: -0.03851\n",
      "epoch: 05, loss: -0.03991\n",
      "epoch: 06, loss: -0.06211\n",
      "epoch: 07, loss: -0.05635\n",
      "epoch: 08, loss: -0.06430\n",
      "epoch: 09, loss: -0.08623\n",
      "torch.Size([450, 32])\n"
     ]
    },
    {
     "name": "stderr",
     "output_type": "stream",
     "text": [
      "  5%|▍         | 46/1000 [21:42<8:03:42, 30.42s/it]"
     ]
    },
    {
     "name": "stdout",
     "output_type": "stream",
     "text": [
      "eigenvalues shape torch.Size([5]) eigenvectors shape torch.Size([5, 450])\n",
      "46 /home/phdcs2/Hard_Disk/Datasets/Deep-Spectral-Segmentation/data/object-segmentation/ECSSD/features/dino_vits16/0047.pth\n",
      "dict_keys(['k', 'indices', 'file', 'id', 'model_name', 'patch_size', 'shape'])\n",
      "0047\n",
      "Starting Training\n",
      "epoch: 00, loss: 0.00661\n",
      "epoch: 01, loss: -0.00571\n",
      "epoch: 02, loss: -0.02538\n",
      "epoch: 03, loss: -0.00744\n",
      "epoch: 04, loss: -0.01919\n",
      "epoch: 05, loss: -0.02286\n",
      "epoch: 06, loss: -0.02977\n",
      "epoch: 07, loss: -0.03074\n",
      "epoch: 08, loss: -0.03945\n",
      "epoch: 09, loss: -0.03689\n",
      "torch.Size([400, 32])\n"
     ]
    },
    {
     "name": "stderr",
     "output_type": "stream",
     "text": [
      "  5%|▍         | 47/1000 [22:04<7:22:17, 27.85s/it]"
     ]
    },
    {
     "name": "stdout",
     "output_type": "stream",
     "text": [
      "eigenvalues shape torch.Size([5]) eigenvectors shape torch.Size([5, 400])\n",
      "47 /home/phdcs2/Hard_Disk/Datasets/Deep-Spectral-Segmentation/data/object-segmentation/ECSSD/features/dino_vits16/0048.pth\n",
      "dict_keys(['k', 'indices', 'file', 'id', 'model_name', 'patch_size', 'shape'])\n",
      "0048\n",
      "Starting Training\n",
      "epoch: 00, loss: 0.00564\n",
      "epoch: 01, loss: 0.00096\n",
      "epoch: 02, loss: -0.00389\n",
      "epoch: 03, loss: -0.00400\n",
      "epoch: 04, loss: -0.01116\n",
      "epoch: 05, loss: -0.01639\n",
      "epoch: 06, loss: -0.01341\n",
      "epoch: 07, loss: -0.00734\n",
      "epoch: 08, loss: -0.00794\n",
      "epoch: 09, loss: -0.01438\n",
      "torch.Size([450, 32])\n"
     ]
    },
    {
     "name": "stderr",
     "output_type": "stream",
     "text": [
      "  5%|▍         | 48/1000 [22:30<7:12:57, 27.29s/it]"
     ]
    },
    {
     "name": "stdout",
     "output_type": "stream",
     "text": [
      "eigenvalues shape torch.Size([5]) eigenvectors shape torch.Size([5, 450])\n",
      "48 /home/phdcs2/Hard_Disk/Datasets/Deep-Spectral-Segmentation/data/object-segmentation/ECSSD/features/dino_vits16/0049.pth\n",
      "dict_keys(['k', 'indices', 'file', 'id', 'model_name', 'patch_size', 'shape'])\n",
      "0049\n",
      "Starting Training\n",
      "epoch: 00, loss: 0.00760\n",
      "epoch: 01, loss: 0.00389\n",
      "epoch: 02, loss: 0.00166\n",
      "epoch: 03, loss: 0.00014\n",
      "epoch: 04, loss: -0.00116\n",
      "epoch: 05, loss: -0.00182\n",
      "epoch: 06, loss: -0.00254\n",
      "epoch: 07, loss: -0.00318\n",
      "epoch: 08, loss: -0.00349\n",
      "epoch: 09, loss: -0.00395\n",
      "torch.Size([450, 32])\n"
     ]
    },
    {
     "name": "stderr",
     "output_type": "stream",
     "text": [
      "  5%|▍         | 49/1000 [22:55<7:01:16, 26.58s/it]"
     ]
    },
    {
     "name": "stdout",
     "output_type": "stream",
     "text": [
      "eigenvalues shape torch.Size([5]) eigenvectors shape torch.Size([5, 450])\n",
      "49 /home/phdcs2/Hard_Disk/Datasets/Deep-Spectral-Segmentation/data/object-segmentation/ECSSD/features/dino_vits16/0050.pth\n",
      "dict_keys(['k', 'indices', 'file', 'id', 'model_name', 'patch_size', 'shape'])\n",
      "0050\n",
      "Starting Training\n",
      "epoch: 00, loss: -0.00360\n",
      "epoch: 01, loss: -0.01456\n",
      "epoch: 02, loss: -0.00087\n",
      "epoch: 03, loss: -0.01074\n",
      "epoch: 04, loss: -0.00243\n",
      "epoch: 05, loss: -0.01626\n",
      "epoch: 06, loss: 0.00210\n",
      "epoch: 07, loss: -0.01835\n",
      "epoch: 08, loss: -0.00292\n",
      "epoch: 09, loss: -0.00412\n",
      "torch.Size([400, 32])\n"
     ]
    },
    {
     "name": "stderr",
     "output_type": "stream",
     "text": [
      "  5%|▌         | 50/1000 [23:18<6:43:06, 25.46s/it]"
     ]
    },
    {
     "name": "stdout",
     "output_type": "stream",
     "text": [
      "eigenvalues shape torch.Size([5]) eigenvectors shape torch.Size([5, 400])\n",
      "50 /home/phdcs2/Hard_Disk/Datasets/Deep-Spectral-Segmentation/data/object-segmentation/ECSSD/features/dino_vits16/0051.pth\n",
      "dict_keys(['k', 'indices', 'file', 'id', 'model_name', 'patch_size', 'shape'])\n",
      "0051\n",
      "Starting Training\n",
      "epoch: 00, loss: 0.00715\n",
      "epoch: 01, loss: 0.00094\n",
      "epoch: 02, loss: -0.00247\n",
      "epoch: 03, loss: -0.00465\n",
      "epoch: 04, loss: -0.00581\n",
      "epoch: 05, loss: -0.00698\n",
      "epoch: 06, loss: -0.00770\n",
      "epoch: 07, loss: -0.00817\n",
      "epoch: 08, loss: -0.00856\n",
      "epoch: 09, loss: -0.00891\n",
      "torch.Size([450, 32])\n"
     ]
    },
    {
     "name": "stderr",
     "output_type": "stream",
     "text": [
      "  5%|▌         | 51/1000 [23:44<6:47:06, 25.74s/it]"
     ]
    },
    {
     "name": "stdout",
     "output_type": "stream",
     "text": [
      "eigenvalues shape torch.Size([5]) eigenvectors shape torch.Size([5, 450])\n",
      "51 /home/phdcs2/Hard_Disk/Datasets/Deep-Spectral-Segmentation/data/object-segmentation/ECSSD/features/dino_vits16/0052.pth\n",
      "dict_keys(['k', 'indices', 'file', 'id', 'model_name', 'patch_size', 'shape'])\n",
      "0052\n",
      "Starting Training\n",
      "epoch: 00, loss: 0.00744\n",
      "epoch: 01, loss: 0.00424\n",
      "epoch: 02, loss: -0.00310\n",
      "epoch: 03, loss: -0.00630\n",
      "epoch: 04, loss: -0.00125\n",
      "epoch: 05, loss: -0.00442\n",
      "epoch: 06, loss: -0.00438\n",
      "epoch: 07, loss: -0.00187\n",
      "epoch: 08, loss: 0.00079\n",
      "epoch: 09, loss: -0.00929\n",
      "torch.Size([450, 32])\n"
     ]
    },
    {
     "name": "stderr",
     "output_type": "stream",
     "text": [
      "  5%|▌         | 52/1000 [24:13<6:59:12, 26.53s/it]"
     ]
    },
    {
     "name": "stdout",
     "output_type": "stream",
     "text": [
      "eigenvalues shape torch.Size([5]) eigenvectors shape torch.Size([5, 450])\n",
      "52 /home/phdcs2/Hard_Disk/Datasets/Deep-Spectral-Segmentation/data/object-segmentation/ECSSD/features/dino_vits16/0053.pth\n",
      "dict_keys(['k', 'indices', 'file', 'id', 'model_name', 'patch_size', 'shape'])\n",
      "0053\n",
      "Starting Training\n",
      "epoch: 00, loss: -0.00270\n",
      "epoch: 01, loss: -0.00587\n",
      "epoch: 02, loss: -0.00084\n",
      "epoch: 03, loss: -0.00433\n",
      "epoch: 04, loss: -0.00952\n",
      "epoch: 05, loss: -0.00864\n",
      "epoch: 06, loss: -0.01753\n",
      "epoch: 07, loss: -0.01911\n",
      "epoch: 08, loss: -0.01758\n",
      "epoch: 09, loss: -0.00205\n",
      "torch.Size([375, 32])\n"
     ]
    },
    {
     "name": "stderr",
     "output_type": "stream",
     "text": [
      "  5%|▌         | 53/1000 [24:42<7:12:00, 27.37s/it]"
     ]
    },
    {
     "name": "stdout",
     "output_type": "stream",
     "text": [
      "eigenvalues shape torch.Size([5]) eigenvectors shape torch.Size([5, 375])\n",
      "53 /home/phdcs2/Hard_Disk/Datasets/Deep-Spectral-Segmentation/data/object-segmentation/ECSSD/features/dino_vits16/0054.pth\n",
      "dict_keys(['k', 'indices', 'file', 'id', 'model_name', 'patch_size', 'shape'])\n",
      "0054\n",
      "Starting Training\n",
      "epoch: 00, loss: 0.00440\n",
      "epoch: 01, loss: -0.00510\n",
      "epoch: 02, loss: -0.00872\n",
      "epoch: 03, loss: -0.01069\n",
      "epoch: 04, loss: -0.01163\n",
      "epoch: 05, loss: -0.01229\n",
      "epoch: 06, loss: -0.01282\n",
      "epoch: 07, loss: -0.01302\n",
      "epoch: 08, loss: -0.01325\n",
      "epoch: 09, loss: -0.01355\n",
      "torch.Size([450, 32])\n"
     ]
    },
    {
     "name": "stderr",
     "output_type": "stream",
     "text": [
      "  5%|▌         | 54/1000 [25:09<7:10:57, 27.33s/it]"
     ]
    },
    {
     "name": "stdout",
     "output_type": "stream",
     "text": [
      "eigenvalues shape torch.Size([5]) eigenvectors shape torch.Size([5, 450])\n",
      "54 /home/phdcs2/Hard_Disk/Datasets/Deep-Spectral-Segmentation/data/object-segmentation/ECSSD/features/dino_vits16/0055.pth\n",
      "dict_keys(['k', 'indices', 'file', 'id', 'model_name', 'patch_size', 'shape'])\n",
      "0055\n",
      "Starting Training\n",
      "epoch: 00, loss: 0.00188\n",
      "epoch: 01, loss: -0.00611\n",
      "epoch: 02, loss: -0.01970\n",
      "epoch: 03, loss: -0.02422\n",
      "epoch: 04, loss: -0.04468\n",
      "epoch: 05, loss: -0.03762\n",
      "epoch: 06, loss: -0.03092\n",
      "epoch: 07, loss: -0.05686\n",
      "epoch: 08, loss: -0.05734\n",
      "epoch: 09, loss: -0.07722\n",
      "torch.Size([450, 32])\n"
     ]
    },
    {
     "name": "stderr",
     "output_type": "stream",
     "text": [
      "  6%|▌         | 55/1000 [25:37<7:11:55, 27.42s/it]"
     ]
    },
    {
     "name": "stdout",
     "output_type": "stream",
     "text": [
      "eigenvalues shape torch.Size([5]) eigenvectors shape torch.Size([5, 450])\n",
      "55 /home/phdcs2/Hard_Disk/Datasets/Deep-Spectral-Segmentation/data/object-segmentation/ECSSD/features/dino_vits16/0056.pth\n",
      "dict_keys(['k', 'indices', 'file', 'id', 'model_name', 'patch_size', 'shape'])\n",
      "0056\n",
      "Starting Training\n",
      "epoch: 00, loss: 0.00419\n",
      "epoch: 01, loss: 0.00340\n",
      "epoch: 02, loss: 0.00089\n",
      "epoch: 03, loss: 0.00034\n",
      "epoch: 04, loss: 0.00340\n",
      "epoch: 05, loss: -0.00492\n",
      "epoch: 06, loss: -0.01670\n",
      "epoch: 07, loss: 0.00320\n",
      "epoch: 08, loss: 0.00873\n",
      "epoch: 09, loss: -0.00335\n",
      "torch.Size([400, 32])\n"
     ]
    },
    {
     "name": "stderr",
     "output_type": "stream",
     "text": [
      "  6%|▌         | 56/1000 [25:59<6:48:00, 25.93s/it]"
     ]
    },
    {
     "name": "stdout",
     "output_type": "stream",
     "text": [
      "eigenvalues shape torch.Size([5]) eigenvectors shape torch.Size([5, 400])\n",
      "56 /home/phdcs2/Hard_Disk/Datasets/Deep-Spectral-Segmentation/data/object-segmentation/ECSSD/features/dino_vits16/0057.pth\n",
      "dict_keys(['k', 'indices', 'file', 'id', 'model_name', 'patch_size', 'shape'])\n",
      "0057\n",
      "Starting Training\n",
      "epoch: 00, loss: 0.00192\n",
      "epoch: 01, loss: 0.00637\n",
      "epoch: 02, loss: -0.00737\n",
      "epoch: 03, loss: 0.00040\n",
      "epoch: 04, loss: -0.00299\n",
      "epoch: 05, loss: -0.01194\n",
      "epoch: 06, loss: 0.00084\n",
      "epoch: 07, loss: -0.00056\n",
      "epoch: 08, loss: -0.01100\n",
      "epoch: 09, loss: -0.00142\n",
      "torch.Size([400, 32])\n"
     ]
    },
    {
     "name": "stderr",
     "output_type": "stream",
     "text": [
      "  6%|▌         | 57/1000 [26:31<7:15:14, 27.69s/it]"
     ]
    },
    {
     "name": "stdout",
     "output_type": "stream",
     "text": [
      "eigenvalues shape torch.Size([5]) eigenvectors shape torch.Size([5, 400])\n",
      "57 /home/phdcs2/Hard_Disk/Datasets/Deep-Spectral-Segmentation/data/object-segmentation/ECSSD/features/dino_vits16/0058.pth\n",
      "dict_keys(['k', 'indices', 'file', 'id', 'model_name', 'patch_size', 'shape'])\n",
      "0058\n",
      "Starting Training\n",
      "epoch: 00, loss: 0.00622\n",
      "epoch: 01, loss: -0.00008\n",
      "epoch: 02, loss: -0.00334\n",
      "epoch: 03, loss: -0.00555\n",
      "epoch: 04, loss: -0.00847\n",
      "epoch: 05, loss: -0.00890\n",
      "epoch: 06, loss: -0.00995\n",
      "epoch: 07, loss: -0.00958\n",
      "epoch: 08, loss: -0.00996\n",
      "epoch: 09, loss: -0.01110\n",
      "torch.Size([425, 32])\n"
     ]
    },
    {
     "name": "stderr",
     "output_type": "stream",
     "text": [
      "  6%|▌         | 58/1000 [27:07<7:51:22, 30.02s/it]"
     ]
    },
    {
     "name": "stdout",
     "output_type": "stream",
     "text": [
      "eigenvalues shape torch.Size([5]) eigenvectors shape torch.Size([5, 425])\n",
      "58 /home/phdcs2/Hard_Disk/Datasets/Deep-Spectral-Segmentation/data/object-segmentation/ECSSD/features/dino_vits16/0059.pth\n",
      "dict_keys(['k', 'indices', 'file', 'id', 'model_name', 'patch_size', 'shape'])\n",
      "0059\n",
      "Starting Training\n",
      "epoch: 00, loss: 0.00992\n",
      "epoch: 01, loss: -0.00874\n",
      "epoch: 02, loss: -0.01244\n",
      "epoch: 03, loss: -0.02251\n",
      "epoch: 04, loss: -0.03287\n",
      "epoch: 05, loss: -0.03130\n",
      "epoch: 06, loss: -0.03628\n",
      "epoch: 07, loss: -0.05004\n",
      "epoch: 08, loss: -0.06126\n",
      "epoch: 09, loss: -0.07414\n",
      "torch.Size([450, 32])\n"
     ]
    },
    {
     "name": "stderr",
     "output_type": "stream",
     "text": [
      "  6%|▌         | 59/1000 [27:35<7:42:23, 29.48s/it]"
     ]
    },
    {
     "name": "stdout",
     "output_type": "stream",
     "text": [
      "eigenvalues shape torch.Size([5]) eigenvectors shape torch.Size([5, 450])\n",
      "59 /home/phdcs2/Hard_Disk/Datasets/Deep-Spectral-Segmentation/data/object-segmentation/ECSSD/features/dino_vits16/0060.pth\n",
      "dict_keys(['k', 'indices', 'file', 'id', 'model_name', 'patch_size', 'shape'])\n",
      "0060\n",
      "Starting Training\n",
      "epoch: 00, loss: 0.00239\n",
      "epoch: 01, loss: -0.00565\n",
      "epoch: 02, loss: -0.00899\n",
      "epoch: 03, loss: -0.01121\n",
      "epoch: 04, loss: -0.01194\n",
      "epoch: 05, loss: -0.01222\n",
      "epoch: 06, loss: -0.01339\n",
      "epoch: 07, loss: -0.01341\n",
      "epoch: 08, loss: -0.01223\n",
      "epoch: 09, loss: -0.01346\n",
      "torch.Size([400, 32])\n"
     ]
    },
    {
     "name": "stderr",
     "output_type": "stream",
     "text": [
      "  6%|▌         | 60/1000 [28:07<7:53:08, 30.20s/it]"
     ]
    },
    {
     "name": "stdout",
     "output_type": "stream",
     "text": [
      "eigenvalues shape torch.Size([5]) eigenvectors shape torch.Size([5, 400])\n",
      "60 /home/phdcs2/Hard_Disk/Datasets/Deep-Spectral-Segmentation/data/object-segmentation/ECSSD/features/dino_vits16/0061.pth\n",
      "dict_keys(['k', 'indices', 'file', 'id', 'model_name', 'patch_size', 'shape'])\n",
      "0061\n",
      "Starting Training\n",
      "epoch: 00, loss: 0.00763\n",
      "epoch: 01, loss: 0.00082\n",
      "epoch: 02, loss: -0.00150\n",
      "epoch: 03, loss: -0.00419\n",
      "epoch: 04, loss: -0.00380\n",
      "epoch: 05, loss: -0.00446\n",
      "epoch: 06, loss: -0.00486\n",
      "epoch: 07, loss: -0.00588\n",
      "epoch: 08, loss: -0.00596\n",
      "epoch: 09, loss: -0.00705\n",
      "torch.Size([425, 32])\n"
     ]
    },
    {
     "name": "stderr",
     "output_type": "stream",
     "text": [
      "  6%|▌         | 61/1000 [28:33<7:34:59, 29.07s/it]"
     ]
    },
    {
     "name": "stdout",
     "output_type": "stream",
     "text": [
      "eigenvalues shape torch.Size([5]) eigenvectors shape torch.Size([5, 425])\n",
      "61 /home/phdcs2/Hard_Disk/Datasets/Deep-Spectral-Segmentation/data/object-segmentation/ECSSD/features/dino_vits16/0062.pth\n",
      "dict_keys(['k', 'indices', 'file', 'id', 'model_name', 'patch_size', 'shape'])\n",
      "0062\n",
      "Starting Training\n",
      "epoch: 00, loss: 0.00920\n",
      "epoch: 01, loss: 0.00411\n",
      "epoch: 02, loss: 0.00221\n",
      "epoch: 03, loss: 0.00032\n",
      "epoch: 04, loss: -0.00022\n",
      "epoch: 05, loss: -0.00181\n",
      "epoch: 06, loss: -0.00262\n",
      "epoch: 07, loss: -0.00232\n",
      "epoch: 08, loss: -0.00219\n",
      "epoch: 09, loss: -0.00269\n",
      "torch.Size([425, 32])\n"
     ]
    },
    {
     "name": "stderr",
     "output_type": "stream",
     "text": [
      "  6%|▌         | 62/1000 [28:59<7:18:21, 28.04s/it]"
     ]
    },
    {
     "name": "stdout",
     "output_type": "stream",
     "text": [
      "eigenvalues shape torch.Size([5]) eigenvectors shape torch.Size([5, 425])\n",
      "62 /home/phdcs2/Hard_Disk/Datasets/Deep-Spectral-Segmentation/data/object-segmentation/ECSSD/features/dino_vits16/0063.pth\n",
      "dict_keys(['k', 'indices', 'file', 'id', 'model_name', 'patch_size', 'shape'])\n",
      "0063\n",
      "Starting Training\n",
      "epoch: 00, loss: 0.00428\n",
      "epoch: 01, loss: -0.00102\n",
      "epoch: 02, loss: -0.00375\n",
      "epoch: 03, loss: -0.00586\n",
      "epoch: 04, loss: -0.00701\n",
      "epoch: 05, loss: -0.00805\n",
      "epoch: 06, loss: -0.00842\n",
      "epoch: 07, loss: -0.00915\n",
      "epoch: 08, loss: -0.00948\n",
      "epoch: 09, loss: -0.00965\n",
      "torch.Size([400, 32])\n"
     ]
    },
    {
     "name": "stderr",
     "output_type": "stream",
     "text": [
      "  6%|▋         | 63/1000 [29:30<7:31:22, 28.90s/it]"
     ]
    },
    {
     "name": "stdout",
     "output_type": "stream",
     "text": [
      "eigenvalues shape torch.Size([5]) eigenvectors shape torch.Size([5, 400])\n",
      "63 /home/phdcs2/Hard_Disk/Datasets/Deep-Spectral-Segmentation/data/object-segmentation/ECSSD/features/dino_vits16/0064.pth\n",
      "dict_keys(['k', 'indices', 'file', 'id', 'model_name', 'patch_size', 'shape'])\n",
      "0064\n",
      "Starting Training\n",
      "epoch: 00, loss: 0.00762\n",
      "epoch: 01, loss: 0.00066\n",
      "epoch: 02, loss: -0.00221\n",
      "epoch: 03, loss: -0.00395\n",
      "epoch: 04, loss: -0.00530\n",
      "epoch: 05, loss: -0.00624\n",
      "epoch: 06, loss: -0.00722\n",
      "epoch: 07, loss: -0.00760\n",
      "epoch: 08, loss: -0.00793\n",
      "epoch: 09, loss: -0.00817\n",
      "torch.Size([400, 32])\n"
     ]
    },
    {
     "name": "stderr",
     "output_type": "stream",
     "text": [
      "  6%|▋         | 64/1000 [29:55<7:11:36, 27.67s/it]"
     ]
    },
    {
     "name": "stdout",
     "output_type": "stream",
     "text": [
      "eigenvalues shape torch.Size([5]) eigenvectors shape torch.Size([5, 400])\n",
      "64 /home/phdcs2/Hard_Disk/Datasets/Deep-Spectral-Segmentation/data/object-segmentation/ECSSD/features/dino_vits16/0065.pth\n",
      "dict_keys(['k', 'indices', 'file', 'id', 'model_name', 'patch_size', 'shape'])\n",
      "0065\n",
      "Starting Training\n",
      "epoch: 00, loss: 0.00808\n",
      "epoch: 01, loss: 0.00399\n",
      "epoch: 02, loss: 0.00181\n",
      "epoch: 03, loss: 0.00014\n",
      "epoch: 04, loss: -0.00096\n",
      "epoch: 05, loss: -0.00179\n",
      "epoch: 06, loss: -0.00251\n",
      "epoch: 07, loss: -0.00310\n",
      "epoch: 08, loss: -0.00359\n",
      "epoch: 09, loss: -0.00394\n",
      "torch.Size([450, 32])\n"
     ]
    },
    {
     "name": "stderr",
     "output_type": "stream",
     "text": [
      "  6%|▋         | 65/1000 [30:21<7:06:11, 27.35s/it]"
     ]
    },
    {
     "name": "stdout",
     "output_type": "stream",
     "text": [
      "eigenvalues shape torch.Size([5]) eigenvectors shape torch.Size([5, 450])\n",
      "65 /home/phdcs2/Hard_Disk/Datasets/Deep-Spectral-Segmentation/data/object-segmentation/ECSSD/features/dino_vits16/0066.pth\n",
      "dict_keys(['k', 'indices', 'file', 'id', 'model_name', 'patch_size', 'shape'])\n",
      "0066\n",
      "Starting Training\n",
      "epoch: 00, loss: 0.00763\n",
      "epoch: 01, loss: 0.00161\n",
      "epoch: 02, loss: -0.00198\n",
      "epoch: 03, loss: -0.00410\n",
      "epoch: 04, loss: -0.00575\n",
      "epoch: 05, loss: -0.00678\n",
      "epoch: 06, loss: -0.00781\n",
      "epoch: 07, loss: -0.00837\n",
      "epoch: 08, loss: -0.00892\n",
      "epoch: 09, loss: -0.00923\n",
      "torch.Size([400, 32])\n"
     ]
    },
    {
     "name": "stderr",
     "output_type": "stream",
     "text": [
      "  7%|▋         | 66/1000 [30:53<7:28:50, 28.83s/it]"
     ]
    },
    {
     "name": "stdout",
     "output_type": "stream",
     "text": [
      "eigenvalues shape torch.Size([5]) eigenvectors shape torch.Size([5, 400])\n",
      "66 /home/phdcs2/Hard_Disk/Datasets/Deep-Spectral-Segmentation/data/object-segmentation/ECSSD/features/dino_vits16/0067.pth\n",
      "dict_keys(['k', 'indices', 'file', 'id', 'model_name', 'patch_size', 'shape'])\n",
      "0067\n",
      "Starting Training\n",
      "epoch: 00, loss: -0.01004\n",
      "epoch: 01, loss: 0.01787\n",
      "epoch: 02, loss: -0.02446\n",
      "epoch: 03, loss: -0.00337\n",
      "epoch: 04, loss: -0.00974\n",
      "epoch: 05, loss: -0.01118\n",
      "epoch: 06, loss: -0.01614\n",
      "epoch: 07, loss: -0.02257\n",
      "epoch: 08, loss: 0.00168\n",
      "epoch: 09, loss: -0.01856\n",
      "torch.Size([350, 32])\n"
     ]
    },
    {
     "name": "stderr",
     "output_type": "stream",
     "text": [
      "  7%|▋         | 67/1000 [31:14<6:49:51, 26.36s/it]"
     ]
    },
    {
     "name": "stdout",
     "output_type": "stream",
     "text": [
      "eigenvalues shape torch.Size([5]) eigenvectors shape torch.Size([5, 350])\n",
      "67 /home/phdcs2/Hard_Disk/Datasets/Deep-Spectral-Segmentation/data/object-segmentation/ECSSD/features/dino_vits16/0068.pth\n",
      "dict_keys(['k', 'indices', 'file', 'id', 'model_name', 'patch_size', 'shape'])\n",
      "0068\n",
      "Starting Training\n",
      "epoch: 00, loss: 0.01020\n",
      "epoch: 01, loss: -0.01528\n",
      "epoch: 02, loss: -0.02069\n",
      "epoch: 03, loss: 0.00037\n",
      "epoch: 04, loss: 0.01334\n",
      "epoch: 05, loss: 0.01117\n",
      "epoch: 06, loss: -0.02377\n",
      "epoch: 07, loss: -0.01155\n",
      "epoch: 08, loss: -0.02116\n",
      "epoch: 09, loss: -0.03020\n",
      "torch.Size([525, 32])\n"
     ]
    },
    {
     "name": "stderr",
     "output_type": "stream",
     "text": [
      "  7%|▋         | 68/1000 [31:49<7:29:29, 28.94s/it]"
     ]
    },
    {
     "name": "stdout",
     "output_type": "stream",
     "text": [
      "eigenvalues shape torch.Size([5]) eigenvectors shape torch.Size([5, 525])\n",
      "68 /home/phdcs2/Hard_Disk/Datasets/Deep-Spectral-Segmentation/data/object-segmentation/ECSSD/features/dino_vits16/0069.pth\n",
      "dict_keys(['k', 'indices', 'file', 'id', 'model_name', 'patch_size', 'shape'])\n",
      "0069\n",
      "Starting Training\n",
      "epoch: 00, loss: -0.00101\n",
      "epoch: 01, loss: -0.00666\n",
      "epoch: 02, loss: -0.00934\n",
      "epoch: 03, loss: -0.01023\n",
      "epoch: 04, loss: -0.01135\n",
      "epoch: 05, loss: -0.01152\n",
      "epoch: 06, loss: -0.01149\n",
      "epoch: 07, loss: -0.01240\n",
      "epoch: 08, loss: -0.01198\n",
      "epoch: 09, loss: -0.01288\n",
      "torch.Size([425, 32])\n"
     ]
    },
    {
     "name": "stderr",
     "output_type": "stream",
     "text": [
      "  7%|▋         | 69/1000 [32:15<7:17:16, 28.18s/it]"
     ]
    },
    {
     "name": "stdout",
     "output_type": "stream",
     "text": [
      "eigenvalues shape torch.Size([5]) eigenvectors shape torch.Size([5, 425])\n",
      "69 /home/phdcs2/Hard_Disk/Datasets/Deep-Spectral-Segmentation/data/object-segmentation/ECSSD/features/dino_vits16/0070.pth\n",
      "dict_keys(['k', 'indices', 'file', 'id', 'model_name', 'patch_size', 'shape'])\n",
      "0070\n",
      "Starting Training\n",
      "epoch: 00, loss: 0.00625\n",
      "epoch: 01, loss: 0.00202\n",
      "epoch: 02, loss: 0.00026\n",
      "epoch: 03, loss: -0.00122\n",
      "epoch: 04, loss: -0.00231\n",
      "epoch: 05, loss: -0.00305\n",
      "epoch: 06, loss: -0.00361\n",
      "epoch: 07, loss: -0.00416\n",
      "epoch: 08, loss: -0.00456\n",
      "epoch: 09, loss: -0.00486\n",
      "torch.Size([500, 32])\n"
     ]
    },
    {
     "name": "stderr",
     "output_type": "stream",
     "text": [
      "  7%|▋         | 70/1000 [32:48<7:35:32, 29.39s/it]"
     ]
    },
    {
     "name": "stdout",
     "output_type": "stream",
     "text": [
      "eigenvalues shape torch.Size([5]) eigenvectors shape torch.Size([5, 500])\n",
      "70 /home/phdcs2/Hard_Disk/Datasets/Deep-Spectral-Segmentation/data/object-segmentation/ECSSD/features/dino_vits16/0071.pth\n",
      "dict_keys(['k', 'indices', 'file', 'id', 'model_name', 'patch_size', 'shape'])\n",
      "0071\n",
      "Starting Training\n",
      "epoch: 00, loss: 0.00821\n",
      "epoch: 01, loss: -0.01496\n",
      "epoch: 02, loss: -0.01326\n",
      "epoch: 03, loss: -0.01185\n",
      "epoch: 04, loss: -0.01190\n",
      "epoch: 05, loss: -0.01212\n",
      "epoch: 06, loss: -0.02042\n",
      "epoch: 07, loss: -0.02637\n",
      "epoch: 08, loss: -0.01941\n",
      "epoch: 09, loss: -0.01122\n",
      "torch.Size([450, 32])\n"
     ]
    },
    {
     "name": "stderr",
     "output_type": "stream",
     "text": [
      "  7%|▋         | 71/1000 [33:16<7:31:05, 29.13s/it]"
     ]
    },
    {
     "name": "stdout",
     "output_type": "stream",
     "text": [
      "eigenvalues shape torch.Size([5]) eigenvectors shape torch.Size([5, 450])\n",
      "71 /home/phdcs2/Hard_Disk/Datasets/Deep-Spectral-Segmentation/data/object-segmentation/ECSSD/features/dino_vits16/0072.pth\n",
      "dict_keys(['k', 'indices', 'file', 'id', 'model_name', 'patch_size', 'shape'])\n",
      "0072\n",
      "Starting Training\n",
      "epoch: 00, loss: 0.00438\n",
      "epoch: 01, loss: -0.00204\n",
      "epoch: 02, loss: -0.00470\n",
      "epoch: 03, loss: -0.00638\n",
      "epoch: 04, loss: -0.00689\n",
      "epoch: 05, loss: -0.00758\n",
      "epoch: 06, loss: -0.00770\n",
      "epoch: 07, loss: -0.00809\n",
      "epoch: 08, loss: -0.00858\n",
      "epoch: 09, loss: -0.00858\n",
      "torch.Size([400, 32])\n"
     ]
    },
    {
     "name": "stderr",
     "output_type": "stream",
     "text": [
      "  7%|▋         | 72/1000 [33:38<6:55:30, 26.86s/it]"
     ]
    },
    {
     "name": "stdout",
     "output_type": "stream",
     "text": [
      "eigenvalues shape torch.Size([5]) eigenvectors shape torch.Size([5, 400])\n",
      "72 /home/phdcs2/Hard_Disk/Datasets/Deep-Spectral-Segmentation/data/object-segmentation/ECSSD/features/dino_vits16/0073.pth\n",
      "dict_keys(['k', 'indices', 'file', 'id', 'model_name', 'patch_size', 'shape'])\n",
      "0073\n",
      "Starting Training\n",
      "epoch: 00, loss: -0.00179\n",
      "epoch: 01, loss: 0.00026\n",
      "epoch: 02, loss: 0.00541\n",
      "epoch: 03, loss: -0.01261\n",
      "epoch: 04, loss: 0.00480\n",
      "epoch: 05, loss: 0.00382\n",
      "epoch: 06, loss: 0.00877\n",
      "epoch: 07, loss: -0.00375\n",
      "epoch: 08, loss: -0.00430\n",
      "epoch: 09, loss: -0.02063\n",
      "torch.Size([450, 32])\n"
     ]
    },
    {
     "name": "stderr",
     "output_type": "stream",
     "text": [
      "  7%|▋         | 73/1000 [34:16<7:45:56, 30.16s/it]"
     ]
    },
    {
     "name": "stdout",
     "output_type": "stream",
     "text": [
      "eigenvalues shape torch.Size([5]) eigenvectors shape torch.Size([5, 450])\n",
      "73 /home/phdcs2/Hard_Disk/Datasets/Deep-Spectral-Segmentation/data/object-segmentation/ECSSD/features/dino_vits16/0074.pth\n",
      "dict_keys(['k', 'indices', 'file', 'id', 'model_name', 'patch_size', 'shape'])\n",
      "0074\n",
      "Starting Training\n",
      "epoch: 00, loss: 0.00207\n",
      "epoch: 01, loss: -0.00389\n",
      "epoch: 02, loss: -0.00729\n",
      "epoch: 03, loss: -0.00906\n",
      "epoch: 04, loss: -0.01014\n",
      "epoch: 05, loss: -0.01092\n",
      "epoch: 06, loss: -0.01140\n",
      "epoch: 07, loss: -0.01175\n",
      "epoch: 08, loss: -0.01205\n",
      "epoch: 09, loss: -0.01218\n",
      "torch.Size([450, 32])\n"
     ]
    },
    {
     "name": "stderr",
     "output_type": "stream",
     "text": [
      "  7%|▋         | 74/1000 [34:43<7:33:17, 29.37s/it]"
     ]
    },
    {
     "name": "stdout",
     "output_type": "stream",
     "text": [
      "eigenvalues shape torch.Size([5]) eigenvectors shape torch.Size([5, 450])\n",
      "74 /home/phdcs2/Hard_Disk/Datasets/Deep-Spectral-Segmentation/data/object-segmentation/ECSSD/features/dino_vits16/0075.pth\n",
      "dict_keys(['k', 'indices', 'file', 'id', 'model_name', 'patch_size', 'shape'])\n",
      "0075\n",
      "Starting Training\n",
      "epoch: 00, loss: 0.00385\n",
      "epoch: 01, loss: 0.00068\n",
      "epoch: 02, loss: -0.00673\n",
      "epoch: 03, loss: -0.00846\n",
      "epoch: 04, loss: -0.01915\n",
      "epoch: 05, loss: -0.01597\n",
      "epoch: 06, loss: 0.00597\n",
      "epoch: 07, loss: -0.01272\n",
      "epoch: 08, loss: -0.01397\n",
      "epoch: 09, loss: -0.01783\n",
      "torch.Size([450, 32])\n"
     ]
    },
    {
     "name": "stderr",
     "output_type": "stream",
     "text": [
      "  8%|▊         | 75/1000 [35:21<8:13:24, 32.01s/it]"
     ]
    },
    {
     "name": "stdout",
     "output_type": "stream",
     "text": [
      "eigenvalues shape torch.Size([5]) eigenvectors shape torch.Size([5, 450])\n",
      "75 /home/phdcs2/Hard_Disk/Datasets/Deep-Spectral-Segmentation/data/object-segmentation/ECSSD/features/dino_vits16/0076.pth\n",
      "dict_keys(['k', 'indices', 'file', 'id', 'model_name', 'patch_size', 'shape'])\n",
      "0076\n",
      "Starting Training\n",
      "epoch: 00, loss: 0.00379\n",
      "epoch: 01, loss: -0.00447\n",
      "epoch: 02, loss: -0.00808\n",
      "epoch: 03, loss: -0.00967\n",
      "epoch: 04, loss: -0.01044\n",
      "epoch: 05, loss: -0.01145\n",
      "epoch: 06, loss: -0.01171\n",
      "epoch: 07, loss: -0.01217\n",
      "epoch: 08, loss: -0.01243\n",
      "epoch: 09, loss: -0.01235\n",
      "torch.Size([400, 32])\n"
     ]
    },
    {
     "name": "stderr",
     "output_type": "stream",
     "text": [
      "  8%|▊         | 76/1000 [35:52<8:08:28, 31.72s/it]"
     ]
    },
    {
     "name": "stdout",
     "output_type": "stream",
     "text": [
      "eigenvalues shape torch.Size([5]) eigenvectors shape torch.Size([5, 400])\n",
      "76 /home/phdcs2/Hard_Disk/Datasets/Deep-Spectral-Segmentation/data/object-segmentation/ECSSD/features/dino_vits16/0077.pth\n",
      "dict_keys(['k', 'indices', 'file', 'id', 'model_name', 'patch_size', 'shape'])\n",
      "0077\n",
      "Starting Training\n",
      "epoch: 00, loss: 0.00962\n",
      "epoch: 01, loss: 0.00353\n",
      "epoch: 02, loss: 0.00227\n",
      "epoch: 03, loss: -0.00025\n",
      "epoch: 04, loss: -0.00091\n",
      "epoch: 05, loss: -0.00207\n",
      "epoch: 06, loss: -0.00269\n",
      "epoch: 07, loss: -0.00326\n",
      "epoch: 08, loss: -0.00066\n",
      "epoch: 09, loss: -0.00375\n",
      "torch.Size([450, 32])\n"
     ]
    },
    {
     "name": "stderr",
     "output_type": "stream",
     "text": [
      "  8%|▊         | 77/1000 [36:20<7:47:55, 30.42s/it]"
     ]
    },
    {
     "name": "stdout",
     "output_type": "stream",
     "text": [
      "eigenvalues shape torch.Size([5]) eigenvectors shape torch.Size([5, 450])\n",
      "77 /home/phdcs2/Hard_Disk/Datasets/Deep-Spectral-Segmentation/data/object-segmentation/ECSSD/features/dino_vits16/0078.pth\n",
      "dict_keys(['k', 'indices', 'file', 'id', 'model_name', 'patch_size', 'shape'])\n",
      "0078\n",
      "Starting Training\n",
      "epoch: 00, loss: 0.01042\n",
      "epoch: 01, loss: 0.00283\n",
      "epoch: 02, loss: -0.00163\n",
      "epoch: 03, loss: -0.00446\n",
      "epoch: 04, loss: -0.00649\n",
      "epoch: 05, loss: -0.00777\n",
      "epoch: 06, loss: -0.00876\n",
      "epoch: 07, loss: -0.00946\n",
      "epoch: 08, loss: -0.01006\n",
      "epoch: 09, loss: -0.01042\n",
      "torch.Size([400, 32])\n"
     ]
    },
    {
     "name": "stderr",
     "output_type": "stream",
     "text": [
      "  8%|▊         | 78/1000 [36:51<7:49:22, 30.55s/it]"
     ]
    },
    {
     "name": "stdout",
     "output_type": "stream",
     "text": [
      "eigenvalues shape torch.Size([5]) eigenvectors shape torch.Size([5, 400])\n",
      "78 /home/phdcs2/Hard_Disk/Datasets/Deep-Spectral-Segmentation/data/object-segmentation/ECSSD/features/dino_vits16/0079.pth\n",
      "dict_keys(['k', 'indices', 'file', 'id', 'model_name', 'patch_size', 'shape'])\n",
      "0079\n",
      "Starting Training\n",
      "epoch: 00, loss: -0.00021\n",
      "epoch: 01, loss: -0.00406\n",
      "epoch: 02, loss: -0.00516\n",
      "epoch: 03, loss: -0.00467\n",
      "epoch: 04, loss: -0.00209\n",
      "epoch: 05, loss: -0.00674\n",
      "epoch: 06, loss: -0.02055\n",
      "epoch: 07, loss: -0.01537\n",
      "epoch: 08, loss: -0.00872\n",
      "epoch: 09, loss: -0.00583\n",
      "torch.Size([525, 32])\n"
     ]
    },
    {
     "name": "stderr",
     "output_type": "stream",
     "text": [
      "  8%|▊         | 79/1000 [37:27<8:14:12, 32.20s/it]"
     ]
    },
    {
     "name": "stdout",
     "output_type": "stream",
     "text": [
      "eigenvalues shape torch.Size([5]) eigenvectors shape torch.Size([5, 525])\n",
      "79 /home/phdcs2/Hard_Disk/Datasets/Deep-Spectral-Segmentation/data/object-segmentation/ECSSD/features/dino_vits16/0080.pth\n",
      "dict_keys(['k', 'indices', 'file', 'id', 'model_name', 'patch_size', 'shape'])\n",
      "0080\n",
      "Starting Training\n",
      "epoch: 00, loss: 0.00467\n",
      "epoch: 01, loss: -0.00350\n",
      "epoch: 02, loss: -0.00684\n",
      "epoch: 03, loss: -0.00860\n",
      "epoch: 04, loss: -0.00949\n",
      "epoch: 05, loss: -0.01003\n",
      "epoch: 06, loss: -0.01056\n",
      "epoch: 07, loss: -0.01081\n",
      "epoch: 08, loss: -0.01098\n",
      "epoch: 09, loss: -0.01120\n",
      "torch.Size([450, 32])\n"
     ]
    },
    {
     "name": "stderr",
     "output_type": "stream",
     "text": [
      "  8%|▊         | 80/1000 [37:54<7:52:59, 30.85s/it]"
     ]
    },
    {
     "name": "stdout",
     "output_type": "stream",
     "text": [
      "eigenvalues shape torch.Size([5]) eigenvectors shape torch.Size([5, 450])\n",
      "80 /home/phdcs2/Hard_Disk/Datasets/Deep-Spectral-Segmentation/data/object-segmentation/ECSSD/features/dino_vits16/0081.pth\n",
      "dict_keys(['k', 'indices', 'file', 'id', 'model_name', 'patch_size', 'shape'])\n",
      "0081\n",
      "Starting Training\n",
      "epoch: 00, loss: 0.00821\n",
      "epoch: 01, loss: 0.00472\n",
      "epoch: 02, loss: 0.00303\n",
      "epoch: 03, loss: 0.00182\n",
      "epoch: 04, loss: 0.00077\n",
      "epoch: 05, loss: -0.00021\n",
      "epoch: 06, loss: -0.00079\n",
      "epoch: 07, loss: -0.00121\n",
      "epoch: 08, loss: -0.00168\n",
      "epoch: 09, loss: -0.00206\n",
      "torch.Size([450, 32])\n"
     ]
    },
    {
     "name": "stderr",
     "output_type": "stream",
     "text": [
      "  8%|▊         | 81/1000 [38:22<7:38:08, 29.91s/it]"
     ]
    },
    {
     "name": "stdout",
     "output_type": "stream",
     "text": [
      "eigenvalues shape torch.Size([5]) eigenvectors shape torch.Size([5, 450])\n",
      "81 /home/phdcs2/Hard_Disk/Datasets/Deep-Spectral-Segmentation/data/object-segmentation/ECSSD/features/dino_vits16/0082.pth\n",
      "dict_keys(['k', 'indices', 'file', 'id', 'model_name', 'patch_size', 'shape'])\n",
      "0082\n",
      "Starting Training\n",
      "epoch: 00, loss: 0.00499\n",
      "epoch: 01, loss: 0.00136\n",
      "epoch: 02, loss: -0.00034\n",
      "epoch: 03, loss: -0.00137\n",
      "epoch: 04, loss: -0.00214\n",
      "epoch: 05, loss: -0.00267\n",
      "epoch: 06, loss: -0.00310\n",
      "epoch: 07, loss: -0.00347\n",
      "epoch: 08, loss: -0.00386\n",
      "epoch: 09, loss: -0.00387\n",
      "torch.Size([450, 32])\n"
     ]
    },
    {
     "name": "stderr",
     "output_type": "stream",
     "text": [
      "  8%|▊         | 82/1000 [38:50<7:30:05, 29.42s/it]"
     ]
    },
    {
     "name": "stdout",
     "output_type": "stream",
     "text": [
      "eigenvalues shape torch.Size([5]) eigenvectors shape torch.Size([5, 450])\n",
      "82 /home/phdcs2/Hard_Disk/Datasets/Deep-Spectral-Segmentation/data/object-segmentation/ECSSD/features/dino_vits16/0083.pth\n",
      "dict_keys(['k', 'indices', 'file', 'id', 'model_name', 'patch_size', 'shape'])\n",
      "0083\n",
      "Starting Training\n",
      "epoch: 00, loss: 0.00332\n",
      "epoch: 01, loss: -0.00387\n",
      "epoch: 02, loss: -0.00685\n",
      "epoch: 03, loss: -0.00885\n",
      "epoch: 04, loss: -0.00997\n",
      "epoch: 05, loss: -0.01065\n",
      "epoch: 06, loss: -0.01111\n",
      "epoch: 07, loss: -0.01163\n",
      "epoch: 08, loss: -0.01176\n",
      "epoch: 09, loss: -0.01186\n",
      "torch.Size([450, 32])\n"
     ]
    },
    {
     "name": "stderr",
     "output_type": "stream",
     "text": [
      "  8%|▊         | 83/1000 [39:16<7:12:17, 28.29s/it]"
     ]
    },
    {
     "name": "stdout",
     "output_type": "stream",
     "text": [
      "eigenvalues shape torch.Size([5]) eigenvectors shape torch.Size([5, 450])\n",
      "83 /home/phdcs2/Hard_Disk/Datasets/Deep-Spectral-Segmentation/data/object-segmentation/ECSSD/features/dino_vits16/0084.pth\n",
      "dict_keys(['k', 'indices', 'file', 'id', 'model_name', 'patch_size', 'shape'])\n",
      "0084\n",
      "Starting Training\n",
      "epoch: 00, loss: 0.00005\n",
      "epoch: 01, loss: -0.00106\n",
      "epoch: 02, loss: -0.02218\n",
      "epoch: 03, loss: 0.01119\n",
      "epoch: 04, loss: -0.00187\n",
      "epoch: 05, loss: -0.00427\n",
      "epoch: 06, loss: -0.01524\n",
      "epoch: 07, loss: -0.02350\n",
      "epoch: 08, loss: -0.02803\n",
      "epoch: 09, loss: -0.00065\n",
      "torch.Size([450, 32])\n"
     ]
    },
    {
     "name": "stderr",
     "output_type": "stream",
     "text": [
      "  8%|▊         | 84/1000 [39:44<7:11:33, 28.27s/it]"
     ]
    },
    {
     "name": "stdout",
     "output_type": "stream",
     "text": [
      "eigenvalues shape torch.Size([5]) eigenvectors shape torch.Size([5, 450])\n",
      "84 /home/phdcs2/Hard_Disk/Datasets/Deep-Spectral-Segmentation/data/object-segmentation/ECSSD/features/dino_vits16/0085.pth\n",
      "dict_keys(['k', 'indices', 'file', 'id', 'model_name', 'patch_size', 'shape'])\n",
      "0085\n",
      "Starting Training\n",
      "epoch: 00, loss: 0.00950\n",
      "epoch: 01, loss: 0.00440\n",
      "epoch: 02, loss: 0.00235\n",
      "epoch: 03, loss: 0.00087\n",
      "epoch: 04, loss: -0.00004\n",
      "epoch: 05, loss: -0.00076\n",
      "epoch: 06, loss: -0.00132\n",
      "epoch: 07, loss: -0.00195\n",
      "epoch: 08, loss: -0.00245\n",
      "epoch: 09, loss: -0.00270\n",
      "torch.Size([450, 32])\n"
     ]
    },
    {
     "name": "stderr",
     "output_type": "stream",
     "text": [
      "  8%|▊         | 85/1000 [40:12<7:11:22, 28.29s/it]"
     ]
    },
    {
     "name": "stdout",
     "output_type": "stream",
     "text": [
      "eigenvalues shape torch.Size([5]) eigenvectors shape torch.Size([5, 450])\n",
      "85 /home/phdcs2/Hard_Disk/Datasets/Deep-Spectral-Segmentation/data/object-segmentation/ECSSD/features/dino_vits16/0086.pth\n",
      "dict_keys(['k', 'indices', 'file', 'id', 'model_name', 'patch_size', 'shape'])\n",
      "0086\n",
      "Starting Training\n",
      "epoch: 00, loss: 0.00881\n",
      "epoch: 01, loss: 0.00457\n",
      "epoch: 02, loss: 0.00245\n",
      "epoch: 03, loss: 0.00106\n",
      "epoch: 04, loss: -0.00004\n",
      "epoch: 05, loss: -0.00084\n",
      "epoch: 06, loss: -0.00166\n",
      "epoch: 07, loss: -0.00223\n",
      "epoch: 08, loss: -0.00268\n",
      "epoch: 09, loss: -0.00296\n",
      "torch.Size([450, 32])\n"
     ]
    },
    {
     "name": "stderr",
     "output_type": "stream",
     "text": [
      "  9%|▊         | 86/1000 [40:50<7:54:43, 31.16s/it]"
     ]
    },
    {
     "name": "stdout",
     "output_type": "stream",
     "text": [
      "eigenvalues shape torch.Size([5]) eigenvectors shape torch.Size([5, 450])\n",
      "86 /home/phdcs2/Hard_Disk/Datasets/Deep-Spectral-Segmentation/data/object-segmentation/ECSSD/features/dino_vits16/0087.pth\n",
      "dict_keys(['k', 'indices', 'file', 'id', 'model_name', 'patch_size', 'shape'])\n",
      "0087\n",
      "Starting Training\n",
      "epoch: 00, loss: 0.00419\n",
      "epoch: 01, loss: -0.00968\n",
      "epoch: 02, loss: -0.00131\n",
      "epoch: 03, loss: -0.00610\n",
      "epoch: 04, loss: -0.01360\n",
      "epoch: 05, loss: 0.00078\n",
      "epoch: 06, loss: 0.00015\n",
      "epoch: 07, loss: 0.00599\n",
      "epoch: 08, loss: -0.01420\n",
      "epoch: 09, loss: 0.00758\n",
      "torch.Size([450, 32])\n"
     ]
    },
    {
     "name": "stderr",
     "output_type": "stream",
     "text": [
      "  9%|▊         | 87/1000 [41:29<8:27:28, 33.35s/it]"
     ]
    },
    {
     "name": "stdout",
     "output_type": "stream",
     "text": [
      "eigenvalues shape torch.Size([5]) eigenvectors shape torch.Size([5, 450])\n",
      "87 /home/phdcs2/Hard_Disk/Datasets/Deep-Spectral-Segmentation/data/object-segmentation/ECSSD/features/dino_vits16/0088.pth\n",
      "dict_keys(['k', 'indices', 'file', 'id', 'model_name', 'patch_size', 'shape'])\n",
      "0088\n",
      "Starting Training\n",
      "epoch: 00, loss: 0.00652\n",
      "epoch: 01, loss: 0.00433\n",
      "epoch: 02, loss: 0.00271\n",
      "epoch: 03, loss: 0.00204\n",
      "epoch: 04, loss: 0.00130\n",
      "epoch: 05, loss: 0.00085\n",
      "epoch: 06, loss: 0.00035\n",
      "epoch: 07, loss: 0.00005\n",
      "epoch: 08, loss: -0.00010\n",
      "epoch: 09, loss: -0.00043\n",
      "torch.Size([450, 32])\n"
     ]
    },
    {
     "name": "stderr",
     "output_type": "stream",
     "text": [
      "  9%|▉         | 88/1000 [41:57<8:04:31, 31.88s/it]"
     ]
    },
    {
     "name": "stdout",
     "output_type": "stream",
     "text": [
      "eigenvalues shape torch.Size([5]) eigenvectors shape torch.Size([5, 450])\n",
      "88 /home/phdcs2/Hard_Disk/Datasets/Deep-Spectral-Segmentation/data/object-segmentation/ECSSD/features/dino_vits16/0089.pth\n",
      "dict_keys(['k', 'indices', 'file', 'id', 'model_name', 'patch_size', 'shape'])\n",
      "0089\n",
      "Starting Training\n",
      "epoch: 00, loss: 0.00761\n",
      "epoch: 01, loss: 0.00177\n",
      "epoch: 02, loss: -0.00104\n",
      "epoch: 03, loss: -0.00327\n",
      "epoch: 04, loss: -0.00488\n",
      "epoch: 05, loss: -0.00583\n",
      "epoch: 06, loss: -0.00666\n",
      "epoch: 07, loss: -0.00731\n",
      "epoch: 08, loss: -0.00789\n",
      "epoch: 09, loss: -0.00811\n",
      "torch.Size([400, 32])\n"
     ]
    },
    {
     "name": "stderr",
     "output_type": "stream",
     "text": [
      "  9%|▉         | 89/1000 [42:18<7:13:38, 28.56s/it]"
     ]
    },
    {
     "name": "stdout",
     "output_type": "stream",
     "text": [
      "eigenvalues shape torch.Size([5]) eigenvectors shape torch.Size([5, 400])\n",
      "89 /home/phdcs2/Hard_Disk/Datasets/Deep-Spectral-Segmentation/data/object-segmentation/ECSSD/features/dino_vits16/0090.pth\n",
      "dict_keys(['k', 'indices', 'file', 'id', 'model_name', 'patch_size', 'shape'])\n",
      "0090\n",
      "Starting Training\n",
      "epoch: 00, loss: 0.00333\n",
      "epoch: 01, loss: -0.00040\n",
      "epoch: 02, loss: -0.00451\n",
      "epoch: 03, loss: -0.00602\n",
      "epoch: 04, loss: -0.00698\n",
      "epoch: 05, loss: -0.00796\n",
      "epoch: 06, loss: -0.00737\n",
      "epoch: 07, loss: -0.00910\n",
      "epoch: 08, loss: -0.01067\n",
      "epoch: 09, loss: -0.01019\n",
      "torch.Size([400, 32])\n"
     ]
    },
    {
     "name": "stderr",
     "output_type": "stream",
     "text": [
      "  9%|▉         | 90/1000 [42:50<7:30:00, 29.67s/it]"
     ]
    },
    {
     "name": "stdout",
     "output_type": "stream",
     "text": [
      "eigenvalues shape torch.Size([5]) eigenvectors shape torch.Size([5, 400])\n",
      "90 /home/phdcs2/Hard_Disk/Datasets/Deep-Spectral-Segmentation/data/object-segmentation/ECSSD/features/dino_vits16/0091.pth\n",
      "dict_keys(['k', 'indices', 'file', 'id', 'model_name', 'patch_size', 'shape'])\n",
      "0091\n",
      "Starting Training\n",
      "epoch: 00, loss: 0.00130\n",
      "epoch: 01, loss: -0.01167\n",
      "epoch: 02, loss: -0.01539\n",
      "epoch: 03, loss: -0.01679\n",
      "epoch: 04, loss: -0.01788\n",
      "epoch: 05, loss: -0.01823\n",
      "epoch: 06, loss: -0.01857\n",
      "epoch: 07, loss: -0.01878\n",
      "epoch: 08, loss: -0.01908\n",
      "epoch: 09, loss: -0.01890\n",
      "torch.Size([400, 32])\n"
     ]
    },
    {
     "name": "stderr",
     "output_type": "stream",
     "text": [
      "  9%|▉         | 91/1000 [43:11<6:50:36, 27.10s/it]"
     ]
    },
    {
     "name": "stdout",
     "output_type": "stream",
     "text": [
      "eigenvalues shape torch.Size([5]) eigenvectors shape torch.Size([5, 400])\n",
      "91 /home/phdcs2/Hard_Disk/Datasets/Deep-Spectral-Segmentation/data/object-segmentation/ECSSD/features/dino_vits16/0092.pth\n",
      "dict_keys(['k', 'indices', 'file', 'id', 'model_name', 'patch_size', 'shape'])\n",
      "0092\n",
      "Starting Training\n",
      "epoch: 00, loss: 0.00524\n",
      "epoch: 01, loss: -0.00654\n",
      "epoch: 02, loss: -0.01203\n",
      "epoch: 03, loss: -0.01476\n",
      "epoch: 04, loss: -0.01600\n",
      "epoch: 05, loss: -0.01674\n",
      "epoch: 06, loss: -0.01718\n",
      "epoch: 07, loss: -0.01749\n",
      "epoch: 08, loss: -0.01762\n",
      "epoch: 09, loss: -0.01771\n",
      "torch.Size([400, 32])\n"
     ]
    },
    {
     "name": "stderr",
     "output_type": "stream",
     "text": [
      "  9%|▉         | 92/1000 [43:35<6:34:43, 26.08s/it]"
     ]
    },
    {
     "name": "stdout",
     "output_type": "stream",
     "text": [
      "eigenvalues shape torch.Size([5]) eigenvectors shape torch.Size([5, 400])\n",
      "92 /home/phdcs2/Hard_Disk/Datasets/Deep-Spectral-Segmentation/data/object-segmentation/ECSSD/features/dino_vits16/0093.pth\n",
      "dict_keys(['k', 'indices', 'file', 'id', 'model_name', 'patch_size', 'shape'])\n",
      "0093\n",
      "Starting Training\n",
      "epoch: 00, loss: 0.00443\n",
      "epoch: 01, loss: 0.00084\n",
      "epoch: 02, loss: -0.00132\n",
      "epoch: 03, loss: -0.00263\n",
      "epoch: 04, loss: -0.00414\n",
      "epoch: 05, loss: -0.00485\n",
      "epoch: 06, loss: -0.00568\n",
      "epoch: 07, loss: -0.00600\n",
      "epoch: 08, loss: -0.00666\n",
      "epoch: 09, loss: -0.00675\n",
      "torch.Size([400, 32])\n"
     ]
    },
    {
     "name": "stderr",
     "output_type": "stream",
     "text": [
      "  9%|▉         | 93/1000 [43:58<6:19:54, 25.13s/it]"
     ]
    },
    {
     "name": "stdout",
     "output_type": "stream",
     "text": [
      "eigenvalues shape torch.Size([5]) eigenvectors shape torch.Size([5, 400])\n",
      "93 /home/phdcs2/Hard_Disk/Datasets/Deep-Spectral-Segmentation/data/object-segmentation/ECSSD/features/dino_vits16/0094.pth\n",
      "dict_keys(['k', 'indices', 'file', 'id', 'model_name', 'patch_size', 'shape'])\n",
      "0094\n",
      "Starting Training\n",
      "epoch: 00, loss: -0.00239\n",
      "epoch: 01, loss: 0.00465\n",
      "epoch: 02, loss: 0.00733\n",
      "epoch: 03, loss: -0.01470\n",
      "epoch: 04, loss: 0.00829\n",
      "epoch: 05, loss: -0.00401\n",
      "epoch: 06, loss: 0.00826\n",
      "epoch: 07, loss: 0.00428\n",
      "epoch: 08, loss: 0.00727\n",
      "epoch: 09, loss: -0.00367\n",
      "torch.Size([400, 32])\n"
     ]
    },
    {
     "name": "stderr",
     "output_type": "stream",
     "text": [
      "  9%|▉         | 94/1000 [44:31<6:55:52, 27.54s/it]"
     ]
    },
    {
     "name": "stdout",
     "output_type": "stream",
     "text": [
      "eigenvalues shape torch.Size([5]) eigenvectors shape torch.Size([5, 400])\n",
      "94 /home/phdcs2/Hard_Disk/Datasets/Deep-Spectral-Segmentation/data/object-segmentation/ECSSD/features/dino_vits16/0095.pth\n",
      "dict_keys(['k', 'indices', 'file', 'id', 'model_name', 'patch_size', 'shape'])\n",
      "0095\n",
      "Starting Training\n",
      "epoch: 00, loss: -0.00130\n",
      "epoch: 01, loss: 0.00099\n",
      "epoch: 02, loss: -0.00551\n",
      "epoch: 03, loss: -0.00956\n",
      "epoch: 04, loss: -0.01875\n",
      "epoch: 05, loss: -0.01393\n",
      "epoch: 06, loss: -0.02405\n",
      "epoch: 07, loss: -0.00661\n",
      "epoch: 08, loss: -0.01670\n",
      "epoch: 09, loss: -0.01046\n",
      "torch.Size([400, 32])\n"
     ]
    },
    {
     "name": "stderr",
     "output_type": "stream",
     "text": [
      " 10%|▉         | 95/1000 [45:03<7:14:28, 28.81s/it]"
     ]
    },
    {
     "name": "stdout",
     "output_type": "stream",
     "text": [
      "eigenvalues shape torch.Size([5]) eigenvectors shape torch.Size([5, 400])\n",
      "95 /home/phdcs2/Hard_Disk/Datasets/Deep-Spectral-Segmentation/data/object-segmentation/ECSSD/features/dino_vits16/0096.pth\n",
      "dict_keys(['k', 'indices', 'file', 'id', 'model_name', 'patch_size', 'shape'])\n",
      "0096\n",
      "Starting Training\n",
      "epoch: 00, loss: 0.00943\n",
      "epoch: 01, loss: 0.00450\n",
      "epoch: 02, loss: 0.00178\n",
      "epoch: 03, loss: -0.00014\n",
      "epoch: 04, loss: -0.00169\n",
      "epoch: 05, loss: -0.00304\n",
      "epoch: 06, loss: -0.00375\n",
      "epoch: 07, loss: -0.00439\n",
      "epoch: 08, loss: -0.00487\n",
      "epoch: 09, loss: -0.00546\n",
      "torch.Size([400, 32])\n"
     ]
    },
    {
     "name": "stderr",
     "output_type": "stream",
     "text": [
      " 10%|▉         | 96/1000 [45:35<7:28:52, 29.79s/it]"
     ]
    },
    {
     "name": "stdout",
     "output_type": "stream",
     "text": [
      "eigenvalues shape torch.Size([5]) eigenvectors shape torch.Size([5, 400])\n",
      "96 /home/phdcs2/Hard_Disk/Datasets/Deep-Spectral-Segmentation/data/object-segmentation/ECSSD/features/dino_vits16/0097.pth\n",
      "dict_keys(['k', 'indices', 'file', 'id', 'model_name', 'patch_size', 'shape'])\n",
      "0097\n",
      "Starting Training\n",
      "epoch: 00, loss: 0.00988\n",
      "epoch: 01, loss: 0.00520\n",
      "epoch: 02, loss: 0.00359\n",
      "epoch: 03, loss: 0.00253\n",
      "epoch: 04, loss: 0.00160\n",
      "epoch: 05, loss: 0.00107\n",
      "epoch: 06, loss: 0.00060\n",
      "epoch: 07, loss: 0.00021\n",
      "epoch: 08, loss: -0.00009\n",
      "epoch: 09, loss: -0.00046\n",
      "torch.Size([400, 32])\n"
     ]
    },
    {
     "name": "stderr",
     "output_type": "stream",
     "text": [
      " 10%|▉         | 97/1000 [45:56<6:50:34, 27.28s/it]"
     ]
    },
    {
     "name": "stdout",
     "output_type": "stream",
     "text": [
      "eigenvalues shape torch.Size([5]) eigenvectors shape torch.Size([5, 400])\n",
      "97 /home/phdcs2/Hard_Disk/Datasets/Deep-Spectral-Segmentation/data/object-segmentation/ECSSD/features/dino_vits16/0098.pth\n",
      "dict_keys(['k', 'indices', 'file', 'id', 'model_name', 'patch_size', 'shape'])\n",
      "0098\n",
      "Starting Training\n",
      "epoch: 00, loss: 0.00088\n",
      "epoch: 01, loss: 0.00310\n",
      "epoch: 02, loss: 0.00634\n",
      "epoch: 03, loss: -0.02883\n",
      "epoch: 04, loss: 0.00520\n",
      "epoch: 05, loss: -0.00649\n",
      "epoch: 06, loss: -0.01173\n",
      "epoch: 07, loss: -0.00883\n",
      "epoch: 08, loss: -0.02052\n",
      "epoch: 09, loss: -0.01120\n",
      "torch.Size([400, 32])\n"
     ]
    },
    {
     "name": "stderr",
     "output_type": "stream",
     "text": [
      " 10%|▉         | 98/1000 [46:17<6:20:50, 25.33s/it]"
     ]
    },
    {
     "name": "stdout",
     "output_type": "stream",
     "text": [
      "eigenvalues shape torch.Size([5]) eigenvectors shape torch.Size([5, 400])\n",
      "98 /home/phdcs2/Hard_Disk/Datasets/Deep-Spectral-Segmentation/data/object-segmentation/ECSSD/features/dino_vits16/0099.pth\n",
      "dict_keys(['k', 'indices', 'file', 'id', 'model_name', 'patch_size', 'shape'])\n",
      "0099\n",
      "Starting Training\n",
      "epoch: 00, loss: 0.00236\n",
      "epoch: 01, loss: 0.00222\n",
      "epoch: 02, loss: -0.01256\n",
      "epoch: 03, loss: -0.00213\n",
      "epoch: 04, loss: -0.00446\n",
      "epoch: 05, loss: -0.01961\n",
      "epoch: 06, loss: -0.01535\n",
      "epoch: 07, loss: -0.01510\n",
      "epoch: 08, loss: -0.02046\n",
      "epoch: 09, loss: -0.00914\n",
      "torch.Size([400, 32])\n"
     ]
    },
    {
     "name": "stderr",
     "output_type": "stream",
     "text": [
      " 10%|▉         | 99/1000 [46:41<6:15:07, 24.98s/it]"
     ]
    },
    {
     "name": "stdout",
     "output_type": "stream",
     "text": [
      "eigenvalues shape torch.Size([5]) eigenvectors shape torch.Size([5, 400])\n",
      "99 /home/phdcs2/Hard_Disk/Datasets/Deep-Spectral-Segmentation/data/object-segmentation/ECSSD/features/dino_vits16/0100.pth\n",
      "dict_keys(['k', 'indices', 'file', 'id', 'model_name', 'patch_size', 'shape'])\n",
      "0100\n",
      "Starting Training\n",
      "epoch: 00, loss: 0.00550\n",
      "epoch: 01, loss: 0.00302\n",
      "epoch: 02, loss: -0.00347\n",
      "epoch: 03, loss: -0.00666\n",
      "epoch: 04, loss: -0.00155\n",
      "epoch: 05, loss: -0.00020\n",
      "epoch: 06, loss: -0.00909\n",
      "epoch: 07, loss: -0.00622\n",
      "epoch: 08, loss: -0.01048\n",
      "epoch: 09, loss: -0.00353\n",
      "torch.Size([400, 32])\n"
     ]
    },
    {
     "name": "stderr",
     "output_type": "stream",
     "text": [
      " 10%|█         | 100/1000 [47:09<6:25:10, 25.68s/it]"
     ]
    },
    {
     "name": "stdout",
     "output_type": "stream",
     "text": [
      "eigenvalues shape torch.Size([5]) eigenvectors shape torch.Size([5, 400])\n",
      "100 /home/phdcs2/Hard_Disk/Datasets/Deep-Spectral-Segmentation/data/object-segmentation/ECSSD/features/dino_vits16/0101.pth\n",
      "dict_keys(['k', 'indices', 'file', 'id', 'model_name', 'patch_size', 'shape'])\n",
      "0101\n",
      "Starting Training\n",
      "epoch: 00, loss: 0.00686\n",
      "epoch: 01, loss: 0.00013\n",
      "epoch: 02, loss: -0.01506\n",
      "epoch: 03, loss: -0.00405\n",
      "epoch: 04, loss: -0.01055\n",
      "epoch: 05, loss: -0.00718\n",
      "epoch: 06, loss: -0.00876\n",
      "epoch: 07, loss: -0.01732\n",
      "epoch: 08, loss: -0.01506\n",
      "epoch: 09, loss: -0.00806\n",
      "torch.Size([400, 32])\n"
     ]
    },
    {
     "name": "stderr",
     "output_type": "stream",
     "text": [
      " 10%|█         | 101/1000 [47:39<6:46:39, 27.14s/it]"
     ]
    },
    {
     "name": "stdout",
     "output_type": "stream",
     "text": [
      "eigenvalues shape torch.Size([5]) eigenvectors shape torch.Size([5, 400])\n",
      "101 /home/phdcs2/Hard_Disk/Datasets/Deep-Spectral-Segmentation/data/object-segmentation/ECSSD/features/dino_vits16/0102.pth\n",
      "dict_keys(['k', 'indices', 'file', 'id', 'model_name', 'patch_size', 'shape'])\n",
      "0102\n",
      "Starting Training\n",
      "epoch: 00, loss: 0.00556\n",
      "epoch: 01, loss: -0.00391\n",
      "epoch: 02, loss: -0.00871\n",
      "epoch: 03, loss: -0.00834\n",
      "epoch: 04, loss: -0.00927\n",
      "epoch: 05, loss: -0.01292\n",
      "epoch: 06, loss: -0.01101\n",
      "epoch: 07, loss: -0.01438\n",
      "epoch: 08, loss: -0.01240\n",
      "epoch: 09, loss: -0.01068\n",
      "torch.Size([400, 32])\n"
     ]
    },
    {
     "name": "stderr",
     "output_type": "stream",
     "text": [
      " 10%|█         | 102/1000 [48:11<7:05:04, 28.40s/it]"
     ]
    },
    {
     "name": "stdout",
     "output_type": "stream",
     "text": [
      "eigenvalues shape torch.Size([5]) eigenvectors shape torch.Size([5, 400])\n",
      "102 /home/phdcs2/Hard_Disk/Datasets/Deep-Spectral-Segmentation/data/object-segmentation/ECSSD/features/dino_vits16/0103.pth\n",
      "dict_keys(['k', 'indices', 'file', 'id', 'model_name', 'patch_size', 'shape'])\n",
      "0103\n",
      "Starting Training\n",
      "epoch: 00, loss: 0.00732\n",
      "epoch: 01, loss: -0.00175\n",
      "epoch: 02, loss: -0.00644\n",
      "epoch: 03, loss: -0.00934\n",
      "epoch: 04, loss: -0.01100\n",
      "epoch: 05, loss: -0.01200\n",
      "epoch: 06, loss: -0.01281\n",
      "epoch: 07, loss: -0.01320\n",
      "epoch: 08, loss: -0.01363\n",
      "epoch: 09, loss: -0.01389\n",
      "torch.Size([400, 32])\n"
     ]
    },
    {
     "name": "stderr",
     "output_type": "stream",
     "text": [
      "/home/phdcs2/Hard_Disk/Projects/T2I/deep-spectral-segmentation/venv/lib/python3.8/site-packages/scipy/sparse/linalg/_eigen/arpack/arpack.py:935: LinAlgWarning: Diagonal number 400 is exactly zero. Singular matrix.\n",
      "  self.M_lu = lu_factor(M)\n"
     ]
    },
    {
     "name": "stdout",
     "output_type": "stream",
     "text": [
      " ** On entry to SLASCL parameter number  4 had an illegal value\n",
      " ** On entry to SLASCL parameter number  4 had an illegal value\n"
     ]
    },
    {
     "name": "stderr",
     "output_type": "stream",
     "text": [
      " 10%|█         | 103/1000 [48:41<7:12:48, 28.95s/it]"
     ]
    },
    {
     "name": "stdout",
     "output_type": "stream",
     "text": [
      "eigenvalues shape torch.Size([5]) eigenvectors shape torch.Size([5, 400])\n",
      "103 /home/phdcs2/Hard_Disk/Datasets/Deep-Spectral-Segmentation/data/object-segmentation/ECSSD/features/dino_vits16/0104.pth\n",
      "dict_keys(['k', 'indices', 'file', 'id', 'model_name', 'patch_size', 'shape'])\n",
      "0104\n",
      "Starting Training\n",
      "epoch: 00, loss: 0.00604\n",
      "epoch: 01, loss: -0.00080\n",
      "epoch: 02, loss: -0.01012\n",
      "epoch: 03, loss: -0.00614\n",
      "epoch: 04, loss: 0.01947\n",
      "epoch: 05, loss: -0.00291\n",
      "epoch: 06, loss: -0.00078\n",
      "epoch: 07, loss: 0.00209\n",
      "epoch: 08, loss: 0.00747\n",
      "epoch: 09, loss: -0.00070\n",
      "torch.Size([400, 32])\n"
     ]
    },
    {
     "name": "stderr",
     "output_type": "stream",
     "text": [
      " 10%|█         | 104/1000 [49:15<7:35:46, 30.52s/it]"
     ]
    },
    {
     "name": "stdout",
     "output_type": "stream",
     "text": [
      "eigenvalues shape torch.Size([5]) eigenvectors shape torch.Size([5, 400])\n",
      "104 /home/phdcs2/Hard_Disk/Datasets/Deep-Spectral-Segmentation/data/object-segmentation/ECSSD/features/dino_vits16/0105.pth\n",
      "dict_keys(['k', 'indices', 'file', 'id', 'model_name', 'patch_size', 'shape'])\n",
      "0105\n",
      "Starting Training\n",
      "epoch: 00, loss: 0.00520\n",
      "epoch: 01, loss: 0.00266\n",
      "epoch: 02, loss: -0.00601\n",
      "epoch: 03, loss: 0.00202\n",
      "epoch: 04, loss: 0.00367\n",
      "epoch: 05, loss: -0.00985\n",
      "epoch: 06, loss: -0.01819\n",
      "epoch: 07, loss: -0.02038\n",
      "epoch: 08, loss: 0.00155\n",
      "epoch: 09, loss: -0.00714\n",
      "torch.Size([400, 32])\n"
     ]
    },
    {
     "name": "stderr",
     "output_type": "stream",
     "text": [
      " 10%|█         | 105/1000 [49:37<6:56:06, 27.90s/it]"
     ]
    },
    {
     "name": "stdout",
     "output_type": "stream",
     "text": [
      "eigenvalues shape torch.Size([5]) eigenvectors shape torch.Size([5, 400])\n",
      "105 /home/phdcs2/Hard_Disk/Datasets/Deep-Spectral-Segmentation/data/object-segmentation/ECSSD/features/dino_vits16/0106.pth\n",
      "dict_keys(['k', 'indices', 'file', 'id', 'model_name', 'patch_size', 'shape'])\n",
      "0106\n",
      "Starting Training\n",
      "epoch: 00, loss: 0.00852\n",
      "epoch: 01, loss: 0.00249\n",
      "epoch: 02, loss: -0.00098\n",
      "epoch: 03, loss: -0.00329\n",
      "epoch: 04, loss: -0.00501\n",
      "epoch: 05, loss: -0.00644\n",
      "epoch: 06, loss: -0.00744\n",
      "epoch: 07, loss: -0.00815\n",
      "epoch: 08, loss: -0.00859\n",
      "epoch: 09, loss: -0.00909\n",
      "torch.Size([400, 32])\n"
     ]
    },
    {
     "name": "stderr",
     "output_type": "stream",
     "text": [
      " 11%|█         | 106/1000 [50:01<6:40:49, 26.90s/it]"
     ]
    },
    {
     "name": "stdout",
     "output_type": "stream",
     "text": [
      "eigenvalues shape torch.Size([5]) eigenvectors shape torch.Size([5, 400])\n",
      "106 /home/phdcs2/Hard_Disk/Datasets/Deep-Spectral-Segmentation/data/object-segmentation/ECSSD/features/dino_vits16/0107.pth\n",
      "dict_keys(['k', 'indices', 'file', 'id', 'model_name', 'patch_size', 'shape'])\n",
      "0107\n",
      "Starting Training\n",
      "epoch: 00, loss: 0.00212\n",
      "epoch: 01, loss: -0.00377\n",
      "epoch: 02, loss: 0.01077\n",
      "epoch: 03, loss: 0.00443\n",
      "epoch: 04, loss: 0.01491\n",
      "epoch: 05, loss: -0.00695\n",
      "epoch: 06, loss: 0.00090\n",
      "epoch: 07, loss: -0.00024\n",
      "epoch: 08, loss: 0.02577\n",
      "epoch: 09, loss: 0.00362\n",
      "torch.Size([400, 32])\n"
     ]
    },
    {
     "name": "stderr",
     "output_type": "stream",
     "text": [
      " 11%|█         | 107/1000 [50:26<6:31:41, 26.32s/it]"
     ]
    },
    {
     "name": "stdout",
     "output_type": "stream",
     "text": [
      "eigenvalues shape torch.Size([5]) eigenvectors shape torch.Size([5, 400])\n",
      "107 /home/phdcs2/Hard_Disk/Datasets/Deep-Spectral-Segmentation/data/object-segmentation/ECSSD/features/dino_vits16/0108.pth\n",
      "dict_keys(['k', 'indices', 'file', 'id', 'model_name', 'patch_size', 'shape'])\n",
      "0108\n",
      "Starting Training\n",
      "epoch: 00, loss: 0.00650\n",
      "epoch: 01, loss: 0.00186\n",
      "epoch: 02, loss: -0.00074\n",
      "epoch: 03, loss: -0.00305\n",
      "epoch: 04, loss: -0.00463\n",
      "epoch: 05, loss: -0.00551\n",
      "epoch: 06, loss: -0.00623\n",
      "epoch: 07, loss: -0.00692\n",
      "epoch: 08, loss: -0.00739\n",
      "epoch: 09, loss: -0.00787\n",
      "torch.Size([400, 32])\n"
     ]
    },
    {
     "name": "stderr",
     "output_type": "stream",
     "text": [
      " 11%|█         | 108/1000 [51:00<7:05:40, 28.63s/it]"
     ]
    },
    {
     "name": "stdout",
     "output_type": "stream",
     "text": [
      "eigenvalues shape torch.Size([5]) eigenvectors shape torch.Size([5, 400])\n",
      "108 /home/phdcs2/Hard_Disk/Datasets/Deep-Spectral-Segmentation/data/object-segmentation/ECSSD/features/dino_vits16/0109.pth\n",
      "dict_keys(['k', 'indices', 'file', 'id', 'model_name', 'patch_size', 'shape'])\n",
      "0109\n",
      "Starting Training\n",
      "epoch: 00, loss: -0.00288\n",
      "epoch: 01, loss: -0.00393\n",
      "epoch: 02, loss: -0.01289\n",
      "epoch: 03, loss: -0.01684\n",
      "epoch: 04, loss: -0.02155\n",
      "epoch: 05, loss: -0.01193\n",
      "epoch: 06, loss: -0.02830\n",
      "epoch: 07, loss: -0.03074\n",
      "epoch: 08, loss: -0.02495\n",
      "epoch: 09, loss: -0.03161\n",
      "torch.Size([400, 32])\n"
     ]
    },
    {
     "name": "stderr",
     "output_type": "stream",
     "text": [
      " 11%|█         | 109/1000 [51:33<7:25:11, 29.98s/it]"
     ]
    },
    {
     "name": "stdout",
     "output_type": "stream",
     "text": [
      "eigenvalues shape torch.Size([5]) eigenvectors shape torch.Size([5, 400])\n",
      "109 /home/phdcs2/Hard_Disk/Datasets/Deep-Spectral-Segmentation/data/object-segmentation/ECSSD/features/dino_vits16/0110.pth\n",
      "dict_keys(['k', 'indices', 'file', 'id', 'model_name', 'patch_size', 'shape'])\n",
      "0110\n",
      "Starting Training\n",
      "epoch: 00, loss: 0.01786\n",
      "epoch: 01, loss: 0.00268\n",
      "epoch: 02, loss: -0.00276\n",
      "epoch: 03, loss: -0.02207\n",
      "epoch: 04, loss: 0.00034\n",
      "epoch: 05, loss: -0.01733\n",
      "epoch: 06, loss: -0.02004\n",
      "epoch: 07, loss: -0.01610\n",
      "epoch: 08, loss: -0.01037\n",
      "epoch: 09, loss: -0.00021\n",
      "torch.Size([400, 32])\n"
     ]
    },
    {
     "name": "stderr",
     "output_type": "stream",
     "text": [
      " 11%|█         | 110/1000 [51:57<6:57:45, 28.16s/it]"
     ]
    },
    {
     "name": "stdout",
     "output_type": "stream",
     "text": [
      "eigenvalues shape torch.Size([5]) eigenvectors shape torch.Size([5, 400])\n",
      "110 /home/phdcs2/Hard_Disk/Datasets/Deep-Spectral-Segmentation/data/object-segmentation/ECSSD/features/dino_vits16/0111.pth\n",
      "dict_keys(['k', 'indices', 'file', 'id', 'model_name', 'patch_size', 'shape'])\n",
      "0111\n",
      "Starting Training\n",
      "epoch: 00, loss: 0.00765\n",
      "epoch: 01, loss: 0.00269\n",
      "epoch: 02, loss: 0.00040\n",
      "epoch: 03, loss: -0.00127\n",
      "epoch: 04, loss: -0.00194\n",
      "epoch: 05, loss: -0.00299\n",
      "epoch: 06, loss: -0.00366\n",
      "epoch: 07, loss: -0.00412\n",
      "epoch: 08, loss: -0.00441\n",
      "epoch: 09, loss: -0.00493\n",
      "torch.Size([400, 32])\n"
     ]
    },
    {
     "name": "stderr",
     "output_type": "stream",
     "text": [
      " 11%|█         | 111/1000 [52:30<7:16:06, 29.43s/it]"
     ]
    },
    {
     "name": "stdout",
     "output_type": "stream",
     "text": [
      "eigenvalues shape torch.Size([5]) eigenvectors shape torch.Size([5, 400])\n",
      "111 /home/phdcs2/Hard_Disk/Datasets/Deep-Spectral-Segmentation/data/object-segmentation/ECSSD/features/dino_vits16/0112.pth\n",
      "dict_keys(['k', 'indices', 'file', 'id', 'model_name', 'patch_size', 'shape'])\n",
      "0112\n",
      "Starting Training\n",
      "epoch: 00, loss: -0.00034\n",
      "epoch: 01, loss: -0.02764\n",
      "epoch: 02, loss: -0.04297\n",
      "epoch: 03, loss: -0.06437\n",
      "epoch: 04, loss: -0.07564\n",
      "epoch: 05, loss: -0.10317\n",
      "epoch: 06, loss: -0.12399\n",
      "epoch: 07, loss: -0.12831\n",
      "epoch: 08, loss: -0.13731\n",
      "epoch: 09, loss: -0.14140\n",
      "torch.Size([400, 32])\n"
     ]
    },
    {
     "name": "stderr",
     "output_type": "stream",
     "text": [
      " 11%|█         | 112/1000 [52:54<6:53:25, 27.93s/it]"
     ]
    },
    {
     "name": "stdout",
     "output_type": "stream",
     "text": [
      "eigenvalues shape torch.Size([5]) eigenvectors shape torch.Size([5, 400])\n",
      "112 /home/phdcs2/Hard_Disk/Datasets/Deep-Spectral-Segmentation/data/object-segmentation/ECSSD/features/dino_vits16/0113.pth\n",
      "dict_keys(['k', 'indices', 'file', 'id', 'model_name', 'patch_size', 'shape'])\n",
      "0113\n",
      "Starting Training\n",
      "epoch: 00, loss: 0.00213\n",
      "epoch: 01, loss: 0.01054\n",
      "epoch: 02, loss: -0.00177\n",
      "epoch: 03, loss: -0.01229\n",
      "epoch: 04, loss: -0.00903\n",
      "epoch: 05, loss: -0.01549\n",
      "epoch: 06, loss: 0.00184\n",
      "epoch: 07, loss: -0.00415\n",
      "epoch: 08, loss: -0.00135\n",
      "epoch: 09, loss: -0.00565\n",
      "torch.Size([400, 32])\n"
     ]
    },
    {
     "name": "stderr",
     "output_type": "stream",
     "text": [
      " 11%|█▏        | 113/1000 [53:26<7:11:40, 29.20s/it]"
     ]
    },
    {
     "name": "stdout",
     "output_type": "stream",
     "text": [
      "eigenvalues shape torch.Size([5]) eigenvectors shape torch.Size([5, 400])\n",
      "113 /home/phdcs2/Hard_Disk/Datasets/Deep-Spectral-Segmentation/data/object-segmentation/ECSSD/features/dino_vits16/0114.pth\n",
      "dict_keys(['k', 'indices', 'file', 'id', 'model_name', 'patch_size', 'shape'])\n",
      "0114\n",
      "Starting Training\n",
      "epoch: 00, loss: 0.00164\n",
      "epoch: 01, loss: -0.00972\n",
      "epoch: 02, loss: -0.01352\n",
      "epoch: 03, loss: -0.01534\n",
      "epoch: 04, loss: -0.01663\n",
      "epoch: 05, loss: -0.01700\n",
      "epoch: 06, loss: -0.01727\n",
      "epoch: 07, loss: -0.01752\n",
      "epoch: 08, loss: -0.01783\n",
      "epoch: 09, loss: -0.01779\n",
      "torch.Size([400, 32])\n"
     ]
    },
    {
     "name": "stderr",
     "output_type": "stream",
     "text": [
      " 11%|█▏        | 114/1000 [53:51<6:50:30, 27.80s/it]"
     ]
    },
    {
     "name": "stdout",
     "output_type": "stream",
     "text": [
      "eigenvalues shape torch.Size([5]) eigenvectors shape torch.Size([5, 400])\n",
      "114 /home/phdcs2/Hard_Disk/Datasets/Deep-Spectral-Segmentation/data/object-segmentation/ECSSD/features/dino_vits16/0115.pth\n",
      "dict_keys(['k', 'indices', 'file', 'id', 'model_name', 'patch_size', 'shape'])\n",
      "0115\n",
      "Starting Training\n",
      "epoch: 00, loss: 0.01076\n",
      "epoch: 01, loss: -0.00673\n",
      "epoch: 02, loss: -0.00479\n",
      "epoch: 03, loss: 0.01140\n",
      "epoch: 04, loss: -0.00050\n",
      "epoch: 05, loss: -0.01651\n",
      "epoch: 06, loss: -0.00967\n",
      "epoch: 07, loss: -0.00064\n",
      "epoch: 08, loss: 0.00256\n",
      "epoch: 09, loss: -0.00490\n",
      "torch.Size([400, 32])\n"
     ]
    },
    {
     "name": "stderr",
     "output_type": "stream",
     "text": [
      " 12%|█▏        | 115/1000 [54:14<6:27:22, 26.26s/it]"
     ]
    },
    {
     "name": "stdout",
     "output_type": "stream",
     "text": [
      "eigenvalues shape torch.Size([5]) eigenvectors shape torch.Size([5, 400])\n",
      "115 /home/phdcs2/Hard_Disk/Datasets/Deep-Spectral-Segmentation/data/object-segmentation/ECSSD/features/dino_vits16/0116.pth\n",
      "dict_keys(['k', 'indices', 'file', 'id', 'model_name', 'patch_size', 'shape'])\n",
      "0116\n",
      "Starting Training\n",
      "epoch: 00, loss: 0.00620\n",
      "epoch: 01, loss: 0.00202\n",
      "epoch: 02, loss: -0.00514\n",
      "epoch: 03, loss: -0.00004\n",
      "epoch: 04, loss: -0.00100\n",
      "epoch: 05, loss: -0.00847\n",
      "epoch: 06, loss: -0.00677\n",
      "epoch: 07, loss: 0.00353\n",
      "epoch: 08, loss: 0.00588\n",
      "epoch: 09, loss: 0.01419\n",
      "torch.Size([400, 32])\n"
     ]
    },
    {
     "name": "stderr",
     "output_type": "stream",
     "text": [
      " 12%|█▏        | 116/1000 [54:46<6:55:11, 28.18s/it]"
     ]
    },
    {
     "name": "stdout",
     "output_type": "stream",
     "text": [
      "eigenvalues shape torch.Size([5]) eigenvectors shape torch.Size([5, 400])\n",
      "116 /home/phdcs2/Hard_Disk/Datasets/Deep-Spectral-Segmentation/data/object-segmentation/ECSSD/features/dino_vits16/0117.pth\n",
      "dict_keys(['k', 'indices', 'file', 'id', 'model_name', 'patch_size', 'shape'])\n",
      "0117\n",
      "Starting Training\n",
      "epoch: 00, loss: 0.00101\n",
      "epoch: 01, loss: -0.00659\n",
      "epoch: 02, loss: -0.01560\n",
      "epoch: 03, loss: -0.00530\n",
      "epoch: 04, loss: -0.03362\n",
      "epoch: 05, loss: -0.05176\n",
      "epoch: 06, loss: -0.03705\n",
      "epoch: 07, loss: -0.03147\n",
      "epoch: 08, loss: -0.04586\n",
      "epoch: 09, loss: -0.06320\n",
      "torch.Size([400, 32])\n"
     ]
    },
    {
     "name": "stderr",
     "output_type": "stream",
     "text": [
      " 12%|█▏        | 117/1000 [55:18<7:10:43, 29.27s/it]"
     ]
    },
    {
     "name": "stdout",
     "output_type": "stream",
     "text": [
      "eigenvalues shape torch.Size([5]) eigenvectors shape torch.Size([5, 400])\n",
      "117 /home/phdcs2/Hard_Disk/Datasets/Deep-Spectral-Segmentation/data/object-segmentation/ECSSD/features/dino_vits16/0118.pth\n",
      "dict_keys(['k', 'indices', 'file', 'id', 'model_name', 'patch_size', 'shape'])\n",
      "0118\n",
      "Starting Training\n",
      "epoch: 00, loss: -0.00134\n",
      "epoch: 01, loss: -0.01054\n",
      "epoch: 02, loss: -0.00493\n",
      "epoch: 03, loss: -0.00947\n",
      "epoch: 04, loss: -0.02233\n",
      "epoch: 05, loss: -0.01985\n",
      "epoch: 06, loss: 0.00305\n",
      "epoch: 07, loss: -0.00772\n",
      "epoch: 08, loss: 0.00187\n",
      "epoch: 09, loss: 0.00604\n",
      "torch.Size([400, 32])\n"
     ]
    },
    {
     "name": "stderr",
     "output_type": "stream",
     "text": [
      " 12%|█▏        | 118/1000 [55:52<7:32:11, 30.76s/it]"
     ]
    },
    {
     "name": "stdout",
     "output_type": "stream",
     "text": [
      "eigenvalues shape torch.Size([5]) eigenvectors shape torch.Size([5, 400])\n",
      "118 /home/phdcs2/Hard_Disk/Datasets/Deep-Spectral-Segmentation/data/object-segmentation/ECSSD/features/dino_vits16/0119.pth\n",
      "dict_keys(['k', 'indices', 'file', 'id', 'model_name', 'patch_size', 'shape'])\n",
      "0119\n",
      "Starting Training\n",
      "epoch: 00, loss: 0.00955\n",
      "epoch: 01, loss: -0.01278\n",
      "epoch: 02, loss: -0.01035\n",
      "epoch: 03, loss: -0.01143\n",
      "epoch: 04, loss: -0.01465\n",
      "epoch: 05, loss: -0.00343\n",
      "epoch: 06, loss: -0.00203\n",
      "epoch: 07, loss: 0.00019\n",
      "epoch: 08, loss: -0.01801\n",
      "epoch: 09, loss: -0.02338\n",
      "torch.Size([400, 32])\n"
     ]
    },
    {
     "name": "stderr",
     "output_type": "stream",
     "text": [
      " 12%|█▏        | 119/1000 [56:26<7:43:25, 31.56s/it]"
     ]
    },
    {
     "name": "stdout",
     "output_type": "stream",
     "text": [
      "eigenvalues shape torch.Size([5]) eigenvectors shape torch.Size([5, 400])\n",
      "119 /home/phdcs2/Hard_Disk/Datasets/Deep-Spectral-Segmentation/data/object-segmentation/ECSSD/features/dino_vits16/0120.pth\n",
      "dict_keys(['k', 'indices', 'file', 'id', 'model_name', 'patch_size', 'shape'])\n",
      "0120\n",
      "Starting Training\n",
      "epoch: 00, loss: -0.00150\n",
      "epoch: 01, loss: -0.00663\n",
      "epoch: 02, loss: 0.01320\n",
      "epoch: 03, loss: -0.01096\n",
      "epoch: 04, loss: 0.00109\n",
      "epoch: 05, loss: -0.01986\n",
      "epoch: 06, loss: -0.00291\n",
      "epoch: 07, loss: -0.00965\n",
      "epoch: 08, loss: -0.01206\n",
      "epoch: 09, loss: -0.01444\n",
      "torch.Size([400, 32])\n"
     ]
    },
    {
     "name": "stderr",
     "output_type": "stream",
     "text": [
      " 12%|█▏        | 120/1000 [56:59<7:49:35, 32.02s/it]"
     ]
    },
    {
     "name": "stdout",
     "output_type": "stream",
     "text": [
      "eigenvalues shape torch.Size([5]) eigenvectors shape torch.Size([5, 400])\n",
      "120 /home/phdcs2/Hard_Disk/Datasets/Deep-Spectral-Segmentation/data/object-segmentation/ECSSD/features/dino_vits16/0121.pth\n",
      "dict_keys(['k', 'indices', 'file', 'id', 'model_name', 'patch_size', 'shape'])\n",
      "0121\n",
      "Starting Training\n",
      "epoch: 00, loss: 0.00456\n",
      "epoch: 01, loss: 0.00201\n",
      "epoch: 02, loss: -0.00321\n",
      "epoch: 03, loss: -0.00527\n",
      "epoch: 04, loss: -0.00538\n",
      "epoch: 05, loss: -0.00543\n",
      "epoch: 06, loss: -0.00777\n",
      "epoch: 07, loss: -0.00806\n",
      "epoch: 08, loss: -0.01061\n",
      "epoch: 09, loss: -0.00843\n",
      "torch.Size([400, 32])\n"
     ]
    },
    {
     "name": "stderr",
     "output_type": "stream",
     "text": [
      " 12%|█▏        | 121/1000 [57:23<7:12:21, 29.51s/it]"
     ]
    },
    {
     "name": "stdout",
     "output_type": "stream",
     "text": [
      "eigenvalues shape torch.Size([5]) eigenvectors shape torch.Size([5, 400])\n",
      "121 /home/phdcs2/Hard_Disk/Datasets/Deep-Spectral-Segmentation/data/object-segmentation/ECSSD/features/dino_vits16/0122.pth\n",
      "dict_keys(['k', 'indices', 'file', 'id', 'model_name', 'patch_size', 'shape'])\n",
      "0122\n",
      "Starting Training\n",
      "epoch: 00, loss: -0.00062\n",
      "epoch: 01, loss: 0.00147\n",
      "epoch: 02, loss: -0.00936\n",
      "epoch: 03, loss: -0.00325\n",
      "epoch: 04, loss: -0.01893\n",
      "epoch: 05, loss: -0.01367\n",
      "epoch: 06, loss: 0.00880\n",
      "epoch: 07, loss: -0.02660\n",
      "epoch: 08, loss: -0.01832\n",
      "epoch: 09, loss: -0.00624\n",
      "torch.Size([400, 32])\n"
     ]
    },
    {
     "name": "stderr",
     "output_type": "stream",
     "text": [
      " 12%|█▏        | 122/1000 [57:47<6:47:51, 27.87s/it]"
     ]
    },
    {
     "name": "stdout",
     "output_type": "stream",
     "text": [
      "eigenvalues shape torch.Size([5]) eigenvectors shape torch.Size([5, 400])\n",
      "122 /home/phdcs2/Hard_Disk/Datasets/Deep-Spectral-Segmentation/data/object-segmentation/ECSSD/features/dino_vits16/0123.pth\n",
      "dict_keys(['k', 'indices', 'file', 'id', 'model_name', 'patch_size', 'shape'])\n",
      "0123\n",
      "Starting Training\n",
      "epoch: 00, loss: 0.00620\n",
      "epoch: 01, loss: 0.00172\n",
      "epoch: 02, loss: -0.00026\n",
      "epoch: 03, loss: -0.00192\n",
      "epoch: 04, loss: -0.00292\n",
      "epoch: 05, loss: -0.00364\n",
      "epoch: 06, loss: -0.00428\n",
      "epoch: 07, loss: -0.00473\n",
      "epoch: 08, loss: -0.00514\n",
      "epoch: 09, loss: -0.00553\n",
      "torch.Size([400, 32])\n"
     ]
    },
    {
     "name": "stderr",
     "output_type": "stream",
     "text": [
      " 12%|█▏        | 123/1000 [58:20<7:10:46, 29.47s/it]"
     ]
    },
    {
     "name": "stdout",
     "output_type": "stream",
     "text": [
      "eigenvalues shape torch.Size([5]) eigenvectors shape torch.Size([5, 400])\n",
      "123 /home/phdcs2/Hard_Disk/Datasets/Deep-Spectral-Segmentation/data/object-segmentation/ECSSD/features/dino_vits16/0124.pth\n",
      "dict_keys(['k', 'indices', 'file', 'id', 'model_name', 'patch_size', 'shape'])\n",
      "0124\n",
      "Starting Training\n",
      "epoch: 00, loss: 0.01506\n",
      "epoch: 01, loss: 0.01674\n",
      "epoch: 02, loss: -0.00034\n",
      "epoch: 03, loss: -0.00609\n",
      "epoch: 04, loss: -0.00279\n",
      "epoch: 05, loss: -0.01977\n",
      "epoch: 06, loss: -0.02100\n",
      "epoch: 07, loss: -0.01762\n",
      "epoch: 08, loss: -0.01222\n",
      "epoch: 09, loss: -0.00155\n",
      "torch.Size([400, 32])\n"
     ]
    },
    {
     "name": "stderr",
     "output_type": "stream",
     "text": [
      " 12%|█▏        | 124/1000 [58:44<6:47:16, 27.90s/it]"
     ]
    },
    {
     "name": "stdout",
     "output_type": "stream",
     "text": [
      "eigenvalues shape torch.Size([5]) eigenvectors shape torch.Size([5, 400])\n",
      "124 /home/phdcs2/Hard_Disk/Datasets/Deep-Spectral-Segmentation/data/object-segmentation/ECSSD/features/dino_vits16/0125.pth\n",
      "dict_keys(['k', 'indices', 'file', 'id', 'model_name', 'patch_size', 'shape'])\n",
      "0125\n",
      "Starting Training\n",
      "epoch: 00, loss: 0.00088\n",
      "epoch: 01, loss: -0.00101\n",
      "epoch: 02, loss: -0.00196\n",
      "epoch: 03, loss: -0.00192\n",
      "epoch: 04, loss: -0.00003\n",
      "epoch: 05, loss: -0.00058\n",
      "epoch: 06, loss: -0.00813\n",
      "epoch: 07, loss: -0.00592\n",
      "epoch: 08, loss: 0.00731\n",
      "epoch: 09, loss: 0.00190\n",
      "torch.Size([400, 32])\n"
     ]
    },
    {
     "name": "stderr",
     "output_type": "stream",
     "text": [
      " 12%|█▎        | 125/1000 [59:05<6:16:35, 25.82s/it]"
     ]
    },
    {
     "name": "stdout",
     "output_type": "stream",
     "text": [
      "eigenvalues shape torch.Size([5]) eigenvectors shape torch.Size([5, 400])\n",
      "125 /home/phdcs2/Hard_Disk/Datasets/Deep-Spectral-Segmentation/data/object-segmentation/ECSSD/features/dino_vits16/0126.pth\n",
      "dict_keys(['k', 'indices', 'file', 'id', 'model_name', 'patch_size', 'shape'])\n",
      "0126\n",
      "Starting Training\n",
      "epoch: 00, loss: 0.00179\n",
      "epoch: 01, loss: 0.00049\n",
      "epoch: 02, loss: -0.00923\n",
      "epoch: 03, loss: -0.00548\n",
      "epoch: 04, loss: -0.00806\n",
      "epoch: 05, loss: -0.00640\n",
      "epoch: 06, loss: -0.01417\n",
      "epoch: 07, loss: -0.00393\n",
      "epoch: 08, loss: -0.01802\n",
      "epoch: 09, loss: 0.00143\n",
      "torch.Size([400, 32])\n"
     ]
    },
    {
     "name": "stderr",
     "output_type": "stream",
     "text": [
      " 13%|█▎        | 126/1000 [59:30<6:11:23, 25.50s/it]"
     ]
    },
    {
     "name": "stdout",
     "output_type": "stream",
     "text": [
      "eigenvalues shape torch.Size([5]) eigenvectors shape torch.Size([5, 400])\n",
      "126 /home/phdcs2/Hard_Disk/Datasets/Deep-Spectral-Segmentation/data/object-segmentation/ECSSD/features/dino_vits16/0127.pth\n",
      "dict_keys(['k', 'indices', 'file', 'id', 'model_name', 'patch_size', 'shape'])\n",
      "0127\n",
      "Starting Training\n",
      "epoch: 00, loss: 0.00400\n",
      "epoch: 01, loss: -0.00223\n",
      "epoch: 02, loss: -0.00489\n",
      "epoch: 03, loss: -0.00609\n",
      "epoch: 04, loss: -0.00696\n",
      "epoch: 05, loss: -0.00778\n",
      "epoch: 06, loss: -0.00812\n",
      "epoch: 07, loss: -0.00856\n",
      "epoch: 08, loss: -0.00878\n",
      "epoch: 09, loss: -0.00902\n",
      "torch.Size([400, 32])\n"
     ]
    },
    {
     "name": "stderr",
     "output_type": "stream",
     "text": [
      " 13%|█▎        | 127/1000 [1:00:02<6:41:12, 27.57s/it]"
     ]
    },
    {
     "name": "stdout",
     "output_type": "stream",
     "text": [
      "eigenvalues shape torch.Size([5]) eigenvectors shape torch.Size([5, 400])\n",
      "127 /home/phdcs2/Hard_Disk/Datasets/Deep-Spectral-Segmentation/data/object-segmentation/ECSSD/features/dino_vits16/0128.pth\n",
      "dict_keys(['k', 'indices', 'file', 'id', 'model_name', 'patch_size', 'shape'])\n",
      "0128\n",
      "Starting Training\n",
      "epoch: 00, loss: 0.01195\n",
      "epoch: 01, loss: 0.00059\n",
      "epoch: 02, loss: 0.00129\n",
      "epoch: 03, loss: -0.00483\n",
      "epoch: 04, loss: -0.00535\n",
      "epoch: 05, loss: -0.00375\n",
      "epoch: 06, loss: -0.00619\n",
      "epoch: 07, loss: -0.00870\n",
      "epoch: 08, loss: -0.00795\n",
      "epoch: 09, loss: -0.01403\n",
      "torch.Size([400, 32])\n"
     ]
    },
    {
     "name": "stderr",
     "output_type": "stream",
     "text": [
      " 13%|█▎        | 128/1000 [1:00:24<6:16:38, 25.92s/it]"
     ]
    },
    {
     "name": "stdout",
     "output_type": "stream",
     "text": [
      "eigenvalues shape torch.Size([5]) eigenvectors shape torch.Size([5, 400])\n",
      "128 /home/phdcs2/Hard_Disk/Datasets/Deep-Spectral-Segmentation/data/object-segmentation/ECSSD/features/dino_vits16/0129.pth\n",
      "dict_keys(['k', 'indices', 'file', 'id', 'model_name', 'patch_size', 'shape'])\n",
      "0129\n",
      "Starting Training\n",
      "epoch: 00, loss: 0.00455\n",
      "epoch: 01, loss: -0.00162\n",
      "epoch: 02, loss: 0.00004\n",
      "epoch: 03, loss: -0.00393\n",
      "epoch: 04, loss: -0.00585\n",
      "epoch: 05, loss: -0.02230\n",
      "epoch: 06, loss: -0.00102\n",
      "epoch: 07, loss: -0.01078\n",
      "epoch: 08, loss: -0.00870\n",
      "epoch: 09, loss: -0.00516\n",
      "torch.Size([425, 32])\n"
     ]
    },
    {
     "name": "stderr",
     "output_type": "stream",
     "text": [
      " 13%|█▎        | 129/1000 [1:00:51<6:18:05, 26.04s/it]"
     ]
    },
    {
     "name": "stdout",
     "output_type": "stream",
     "text": [
      "eigenvalues shape torch.Size([5]) eigenvectors shape torch.Size([5, 425])\n",
      "129 /home/phdcs2/Hard_Disk/Datasets/Deep-Spectral-Segmentation/data/object-segmentation/ECSSD/features/dino_vits16/0130.pth\n",
      "dict_keys(['k', 'indices', 'file', 'id', 'model_name', 'patch_size', 'shape'])\n",
      "0130\n",
      "Starting Training\n",
      "epoch: 00, loss: -0.00164\n",
      "epoch: 01, loss: -0.01381\n",
      "epoch: 02, loss: -0.01670\n",
      "epoch: 03, loss: -0.01805\n",
      "epoch: 04, loss: -0.01857\n",
      "epoch: 05, loss: -0.01940\n",
      "epoch: 06, loss: -0.01953\n",
      "epoch: 07, loss: -0.01942\n",
      "epoch: 08, loss: -0.01992\n",
      "epoch: 09, loss: -0.02098\n",
      "torch.Size([425, 32])\n"
     ]
    },
    {
     "name": "stderr",
     "output_type": "stream",
     "text": [
      " 13%|█▎        | 130/1000 [1:01:14<6:08:03, 25.38s/it]"
     ]
    },
    {
     "name": "stdout",
     "output_type": "stream",
     "text": [
      "eigenvalues shape torch.Size([5]) eigenvectors shape torch.Size([5, 425])\n",
      "130 /home/phdcs2/Hard_Disk/Datasets/Deep-Spectral-Segmentation/data/object-segmentation/ECSSD/features/dino_vits16/0131.pth\n",
      "dict_keys(['k', 'indices', 'file', 'id', 'model_name', 'patch_size', 'shape'])\n",
      "0131\n",
      "Starting Training\n",
      "epoch: 00, loss: -0.01125\n",
      "epoch: 01, loss: -0.00842\n",
      "epoch: 02, loss: 0.01424\n",
      "epoch: 03, loss: 0.00677\n",
      "epoch: 04, loss: -0.00500\n",
      "epoch: 05, loss: -0.00636\n",
      "epoch: 06, loss: 0.00036\n",
      "epoch: 07, loss: -0.01324\n",
      "epoch: 08, loss: 0.01108\n",
      "epoch: 09, loss: -0.00684\n",
      "torch.Size([450, 32])\n"
     ]
    },
    {
     "name": "stderr",
     "output_type": "stream",
     "text": [
      " 13%|█▎        | 131/1000 [1:01:44<6:24:30, 26.55s/it]"
     ]
    },
    {
     "name": "stdout",
     "output_type": "stream",
     "text": [
      "eigenvalues shape torch.Size([5]) eigenvectors shape torch.Size([5, 450])\n",
      "131 /home/phdcs2/Hard_Disk/Datasets/Deep-Spectral-Segmentation/data/object-segmentation/ECSSD/features/dino_vits16/0132.pth\n",
      "dict_keys(['k', 'indices', 'file', 'id', 'model_name', 'patch_size', 'shape'])\n",
      "0132\n",
      "Starting Training\n",
      "epoch: 00, loss: 0.00657\n",
      "epoch: 01, loss: 0.00101\n",
      "epoch: 02, loss: -0.02129\n",
      "epoch: 03, loss: -0.02770\n",
      "epoch: 04, loss: -0.02666\n",
      "epoch: 05, loss: -0.01309\n",
      "epoch: 06, loss: -0.00367\n",
      "epoch: 07, loss: -0.01361\n",
      "epoch: 08, loss: -0.01751\n",
      "epoch: 09, loss: -0.01073\n",
      "torch.Size([400, 32])\n"
     ]
    },
    {
     "name": "stderr",
     "output_type": "stream",
     "text": [
      " 13%|█▎        | 132/1000 [1:02:06<6:04:11, 25.17s/it]"
     ]
    },
    {
     "name": "stdout",
     "output_type": "stream",
     "text": [
      "eigenvalues shape torch.Size([5]) eigenvectors shape torch.Size([5, 400])\n",
      "132 /home/phdcs2/Hard_Disk/Datasets/Deep-Spectral-Segmentation/data/object-segmentation/ECSSD/features/dino_vits16/0133.pth\n",
      "dict_keys(['k', 'indices', 'file', 'id', 'model_name', 'patch_size', 'shape'])\n",
      "0133\n",
      "Starting Training\n",
      "epoch: 00, loss: 0.00540\n",
      "epoch: 01, loss: -0.00452\n",
      "epoch: 02, loss: 0.00130\n",
      "epoch: 03, loss: 0.00298\n",
      "epoch: 04, loss: -0.01376\n",
      "epoch: 05, loss: -0.01962\n",
      "epoch: 06, loss: 0.00002\n",
      "epoch: 07, loss: -0.00492\n",
      "epoch: 08, loss: 0.00201\n",
      "epoch: 09, loss: -0.00909\n",
      "torch.Size([525, 32])\n"
     ]
    },
    {
     "name": "stderr",
     "output_type": "stream",
     "text": [
      " 13%|█▎        | 133/1000 [1:02:42<6:50:26, 28.40s/it]"
     ]
    },
    {
     "name": "stdout",
     "output_type": "stream",
     "text": [
      "eigenvalues shape torch.Size([5]) eigenvectors shape torch.Size([5, 525])\n",
      "133 /home/phdcs2/Hard_Disk/Datasets/Deep-Spectral-Segmentation/data/object-segmentation/ECSSD/features/dino_vits16/0134.pth\n",
      "dict_keys(['k', 'indices', 'file', 'id', 'model_name', 'patch_size', 'shape'])\n",
      "0134\n",
      "Starting Training\n",
      "epoch: 00, loss: 0.00923\n",
      "epoch: 01, loss: 0.00436\n",
      "epoch: 02, loss: 0.00215\n",
      "epoch: 03, loss: 0.00003\n",
      "epoch: 04, loss: -0.00118\n",
      "epoch: 05, loss: -0.00212\n",
      "epoch: 06, loss: -0.00280\n",
      "epoch: 07, loss: -0.00333\n",
      "epoch: 08, loss: -0.00369\n",
      "epoch: 09, loss: -0.00424\n",
      "torch.Size([400, 32])\n"
     ]
    },
    {
     "name": "stderr",
     "output_type": "stream",
     "text": [
      " 13%|█▎        | 134/1000 [1:03:14<7:08:27, 29.68s/it]"
     ]
    },
    {
     "name": "stdout",
     "output_type": "stream",
     "text": [
      "eigenvalues shape torch.Size([5]) eigenvectors shape torch.Size([5, 400])\n",
      "134 /home/phdcs2/Hard_Disk/Datasets/Deep-Spectral-Segmentation/data/object-segmentation/ECSSD/features/dino_vits16/0135.pth\n",
      "dict_keys(['k', 'indices', 'file', 'id', 'model_name', 'patch_size', 'shape'])\n",
      "0135\n",
      "Starting Training\n",
      "epoch: 00, loss: 0.00121\n",
      "epoch: 01, loss: -0.00278\n",
      "epoch: 02, loss: -0.00582\n",
      "epoch: 03, loss: -0.00616\n",
      "epoch: 04, loss: -0.00585\n",
      "epoch: 05, loss: -0.00938\n",
      "epoch: 06, loss: -0.00940\n",
      "epoch: 07, loss: -0.00859\n",
      "epoch: 08, loss: -0.00834\n",
      "epoch: 09, loss: -0.00965\n",
      "torch.Size([450, 32])\n"
     ]
    },
    {
     "name": "stderr",
     "output_type": "stream",
     "text": [
      " 14%|█▎        | 135/1000 [1:03:41<6:55:20, 28.81s/it]"
     ]
    },
    {
     "name": "stdout",
     "output_type": "stream",
     "text": [
      "eigenvalues shape torch.Size([5]) eigenvectors shape torch.Size([5, 450])\n",
      "135 /home/phdcs2/Hard_Disk/Datasets/Deep-Spectral-Segmentation/data/object-segmentation/ECSSD/features/dino_vits16/0136.pth\n",
      "dict_keys(['k', 'indices', 'file', 'id', 'model_name', 'patch_size', 'shape'])\n",
      "0136\n",
      "Starting Training\n",
      "epoch: 00, loss: -0.00565\n",
      "epoch: 01, loss: -0.00151\n",
      "epoch: 02, loss: -0.00439\n",
      "epoch: 03, loss: -0.01558\n",
      "epoch: 04, loss: -0.00243\n",
      "epoch: 05, loss: 0.00263\n",
      "epoch: 06, loss: -0.01211\n",
      "epoch: 07, loss: -0.00046\n",
      "epoch: 08, loss: -0.00799\n",
      "epoch: 09, loss: 0.00043\n",
      "torch.Size([450, 32])\n"
     ]
    },
    {
     "name": "stderr",
     "output_type": "stream",
     "text": [
      " 14%|█▎        | 136/1000 [1:04:10<6:56:42, 28.94s/it]"
     ]
    },
    {
     "name": "stdout",
     "output_type": "stream",
     "text": [
      "eigenvalues shape torch.Size([5]) eigenvectors shape torch.Size([5, 450])\n",
      "136 /home/phdcs2/Hard_Disk/Datasets/Deep-Spectral-Segmentation/data/object-segmentation/ECSSD/features/dino_vits16/0137.pth\n",
      "dict_keys(['k', 'indices', 'file', 'id', 'model_name', 'patch_size', 'shape'])\n",
      "0137\n",
      "Starting Training\n",
      "epoch: 00, loss: 0.01069\n",
      "epoch: 01, loss: 0.00383\n",
      "epoch: 02, loss: 0.00135\n",
      "epoch: 03, loss: -0.00013\n",
      "epoch: 04, loss: -0.00152\n",
      "epoch: 05, loss: -0.00247\n",
      "epoch: 06, loss: -0.00371\n",
      "epoch: 07, loss: -0.00405\n",
      "epoch: 08, loss: -0.00463\n",
      "epoch: 09, loss: -0.00500\n",
      "torch.Size([475, 32])\n"
     ]
    },
    {
     "name": "stderr",
     "output_type": "stream",
     "text": [
      " 14%|█▎        | 137/1000 [1:04:41<7:04:58, 29.55s/it]"
     ]
    },
    {
     "name": "stdout",
     "output_type": "stream",
     "text": [
      "eigenvalues shape torch.Size([5]) eigenvectors shape torch.Size([5, 475])\n",
      "137 /home/phdcs2/Hard_Disk/Datasets/Deep-Spectral-Segmentation/data/object-segmentation/ECSSD/features/dino_vits16/0138.pth\n",
      "dict_keys(['k', 'indices', 'file', 'id', 'model_name', 'patch_size', 'shape'])\n",
      "0138\n",
      "Starting Training\n",
      "epoch: 00, loss: 0.00978\n",
      "epoch: 01, loss: 0.00633\n",
      "epoch: 02, loss: 0.00446\n",
      "epoch: 03, loss: 0.00336\n",
      "epoch: 04, loss: 0.00215\n",
      "epoch: 05, loss: 0.00119\n",
      "epoch: 06, loss: 0.00042\n",
      "epoch: 07, loss: -0.00006\n",
      "epoch: 08, loss: -0.00053\n",
      "epoch: 09, loss: -0.00092\n",
      "torch.Size([450, 32])\n"
     ]
    },
    {
     "name": "stderr",
     "output_type": "stream",
     "text": [
      " 14%|█▍        | 138/1000 [1:05:11<7:04:14, 29.53s/it]"
     ]
    },
    {
     "name": "stdout",
     "output_type": "stream",
     "text": [
      "eigenvalues shape torch.Size([5]) eigenvectors shape torch.Size([5, 450])\n",
      "138 /home/phdcs2/Hard_Disk/Datasets/Deep-Spectral-Segmentation/data/object-segmentation/ECSSD/features/dino_vits16/0139.pth\n",
      "dict_keys(['k', 'indices', 'file', 'id', 'model_name', 'patch_size', 'shape'])\n",
      "0139\n",
      "Starting Training\n",
      "epoch: 00, loss: -0.00308\n",
      "epoch: 01, loss: -0.01846\n",
      "epoch: 02, loss: -0.01823\n",
      "epoch: 03, loss: -0.01121\n",
      "epoch: 04, loss: -0.01452\n",
      "epoch: 05, loss: -0.01894\n",
      "epoch: 06, loss: -0.01718\n",
      "epoch: 07, loss: -0.01977\n",
      "epoch: 08, loss: -0.01829\n",
      "epoch: 09, loss: -0.01763\n",
      "torch.Size([450, 32])\n"
     ]
    },
    {
     "name": "stderr",
     "output_type": "stream",
     "text": [
      " 14%|█▍        | 139/1000 [1:05:38<6:52:45, 28.76s/it]"
     ]
    },
    {
     "name": "stdout",
     "output_type": "stream",
     "text": [
      "eigenvalues shape torch.Size([5]) eigenvectors shape torch.Size([5, 450])\n",
      "139 /home/phdcs2/Hard_Disk/Datasets/Deep-Spectral-Segmentation/data/object-segmentation/ECSSD/features/dino_vits16/0140.pth\n",
      "dict_keys(['k', 'indices', 'file', 'id', 'model_name', 'patch_size', 'shape'])\n",
      "0140\n",
      "Starting Training\n",
      "epoch: 00, loss: 0.00468\n",
      "epoch: 01, loss: -0.00456\n",
      "epoch: 02, loss: -0.00741\n",
      "epoch: 03, loss: -0.01052\n",
      "epoch: 04, loss: -0.00657\n",
      "epoch: 05, loss: -0.01297\n",
      "epoch: 06, loss: -0.01193\n",
      "epoch: 07, loss: -0.00948\n",
      "epoch: 08, loss: -0.01267\n",
      "epoch: 09, loss: -0.01215\n",
      "torch.Size([450, 32])\n"
     ]
    },
    {
     "name": "stderr",
     "output_type": "stream",
     "text": [
      " 14%|█▍        | 140/1000 [1:06:04<6:42:27, 28.08s/it]"
     ]
    },
    {
     "name": "stdout",
     "output_type": "stream",
     "text": [
      "eigenvalues shape torch.Size([5]) eigenvectors shape torch.Size([5, 450])\n",
      "140 /home/phdcs2/Hard_Disk/Datasets/Deep-Spectral-Segmentation/data/object-segmentation/ECSSD/features/dino_vits16/0141.pth\n",
      "dict_keys(['k', 'indices', 'file', 'id', 'model_name', 'patch_size', 'shape'])\n",
      "0141\n",
      "Starting Training\n",
      "epoch: 00, loss: 0.01369\n",
      "epoch: 01, loss: -0.00032\n",
      "epoch: 02, loss: 0.00432\n",
      "epoch: 03, loss: -0.00403\n",
      "epoch: 04, loss: -0.00032\n",
      "epoch: 05, loss: -0.00410\n",
      "epoch: 06, loss: -0.01894\n",
      "epoch: 07, loss: -0.00975\n",
      "epoch: 08, loss: -0.01735\n",
      "epoch: 09, loss: -0.01016\n",
      "torch.Size([350, 32])\n"
     ]
    },
    {
     "name": "stderr",
     "output_type": "stream",
     "text": [
      " 14%|█▍        | 141/1000 [1:06:25<6:11:11, 25.93s/it]"
     ]
    },
    {
     "name": "stdout",
     "output_type": "stream",
     "text": [
      "eigenvalues shape torch.Size([5]) eigenvectors shape torch.Size([5, 350])\n",
      "141 /home/phdcs2/Hard_Disk/Datasets/Deep-Spectral-Segmentation/data/object-segmentation/ECSSD/features/dino_vits16/0142.pth\n",
      "dict_keys(['k', 'indices', 'file', 'id', 'model_name', 'patch_size', 'shape'])\n",
      "0142\n",
      "Starting Training\n",
      "epoch: 00, loss: -0.00244\n",
      "epoch: 01, loss: -0.01697\n",
      "epoch: 02, loss: -0.01541\n",
      "epoch: 03, loss: -0.00447\n",
      "epoch: 04, loss: -0.01607\n",
      "epoch: 05, loss: 0.00036\n",
      "epoch: 06, loss: -0.00371\n",
      "epoch: 07, loss: -0.00636\n",
      "epoch: 08, loss: -0.00986\n",
      "epoch: 09, loss: -0.01000\n",
      "torch.Size([450, 32])\n"
     ]
    },
    {
     "name": "stderr",
     "output_type": "stream",
     "text": [
      " 14%|█▍        | 142/1000 [1:06:51<6:10:32, 25.91s/it]"
     ]
    },
    {
     "name": "stdout",
     "output_type": "stream",
     "text": [
      "eigenvalues shape torch.Size([5]) eigenvectors shape torch.Size([5, 450])\n",
      "142 /home/phdcs2/Hard_Disk/Datasets/Deep-Spectral-Segmentation/data/object-segmentation/ECSSD/features/dino_vits16/0143.pth\n",
      "dict_keys(['k', 'indices', 'file', 'id', 'model_name', 'patch_size', 'shape'])\n",
      "0143\n",
      "Starting Training\n",
      "epoch: 00, loss: -0.00972\n",
      "epoch: 01, loss: -0.00487\n",
      "epoch: 02, loss: -0.00364\n",
      "epoch: 03, loss: -0.01834\n",
      "epoch: 04, loss: -0.02384\n",
      "epoch: 05, loss: -0.02509\n",
      "epoch: 06, loss: -0.02077\n",
      "epoch: 07, loss: -0.02068\n",
      "epoch: 08, loss: -0.02904\n",
      "epoch: 09, loss: -0.02562\n",
      "torch.Size([450, 32])\n"
     ]
    },
    {
     "name": "stderr",
     "output_type": "stream",
     "text": [
      " 14%|█▍        | 143/1000 [1:07:19<6:20:02, 26.61s/it]"
     ]
    },
    {
     "name": "stdout",
     "output_type": "stream",
     "text": [
      "eigenvalues shape torch.Size([5]) eigenvectors shape torch.Size([5, 450])\n",
      "143 /home/phdcs2/Hard_Disk/Datasets/Deep-Spectral-Segmentation/data/object-segmentation/ECSSD/features/dino_vits16/0144.pth\n",
      "dict_keys(['k', 'indices', 'file', 'id', 'model_name', 'patch_size', 'shape'])\n",
      "0144\n",
      "Starting Training\n",
      "epoch: 00, loss: 0.00213\n",
      "epoch: 01, loss: -0.00354\n",
      "epoch: 02, loss: -0.00693\n",
      "epoch: 03, loss: -0.00910\n",
      "epoch: 04, loss: -0.00929\n",
      "epoch: 05, loss: -0.00982\n",
      "epoch: 06, loss: -0.01060\n",
      "epoch: 07, loss: -0.01112\n",
      "epoch: 08, loss: -0.01059\n",
      "epoch: 09, loss: -0.01029\n",
      "torch.Size([425, 32])\n"
     ]
    },
    {
     "name": "stderr",
     "output_type": "stream",
     "text": [
      " 14%|█▍        | 144/1000 [1:07:55<6:58:09, 29.31s/it]"
     ]
    },
    {
     "name": "stdout",
     "output_type": "stream",
     "text": [
      "eigenvalues shape torch.Size([5]) eigenvectors shape torch.Size([5, 425])\n",
      "144 /home/phdcs2/Hard_Disk/Datasets/Deep-Spectral-Segmentation/data/object-segmentation/ECSSD/features/dino_vits16/0145.pth\n",
      "dict_keys(['k', 'indices', 'file', 'id', 'model_name', 'patch_size', 'shape'])\n",
      "0145\n",
      "Starting Training\n",
      "epoch: 00, loss: 0.00339\n",
      "epoch: 01, loss: -0.00233\n",
      "epoch: 02, loss: -0.00602\n",
      "epoch: 03, loss: -0.00940\n",
      "epoch: 04, loss: -0.00556\n",
      "epoch: 05, loss: -0.00734\n",
      "epoch: 06, loss: -0.00971\n",
      "epoch: 07, loss: -0.00857\n",
      "epoch: 08, loss: -0.00897\n",
      "epoch: 09, loss: -0.00894\n",
      "torch.Size([450, 32])\n"
     ]
    },
    {
     "name": "stderr",
     "output_type": "stream",
     "text": [
      " 14%|█▍        | 145/1000 [1:08:23<6:55:14, 29.14s/it]"
     ]
    },
    {
     "name": "stdout",
     "output_type": "stream",
     "text": [
      "eigenvalues shape torch.Size([5]) eigenvectors shape torch.Size([5, 450])\n",
      "145 /home/phdcs2/Hard_Disk/Datasets/Deep-Spectral-Segmentation/data/object-segmentation/ECSSD/features/dino_vits16/0146.pth\n",
      "dict_keys(['k', 'indices', 'file', 'id', 'model_name', 'patch_size', 'shape'])\n",
      "0146\n",
      "Starting Training\n",
      "epoch: 00, loss: -0.00582\n",
      "epoch: 01, loss: -0.00799\n",
      "epoch: 02, loss: -0.00632\n",
      "epoch: 03, loss: -0.01833\n",
      "epoch: 04, loss: -0.02347\n",
      "epoch: 05, loss: -0.02165\n",
      "epoch: 06, loss: -0.01651\n",
      "epoch: 07, loss: 0.00412\n",
      "epoch: 08, loss: -0.02113\n",
      "epoch: 09, loss: -0.01473\n",
      "torch.Size([400, 32])\n"
     ]
    },
    {
     "name": "stderr",
     "output_type": "stream",
     "text": [
      " 15%|█▍        | 146/1000 [1:08:57<7:12:01, 30.35s/it]"
     ]
    },
    {
     "name": "stdout",
     "output_type": "stream",
     "text": [
      "eigenvalues shape torch.Size([5]) eigenvectors shape torch.Size([5, 400])\n",
      "146 /home/phdcs2/Hard_Disk/Datasets/Deep-Spectral-Segmentation/data/object-segmentation/ECSSD/features/dino_vits16/0147.pth\n",
      "dict_keys(['k', 'indices', 'file', 'id', 'model_name', 'patch_size', 'shape'])\n",
      "0147\n",
      "Starting Training\n",
      "epoch: 00, loss: 0.00889\n",
      "epoch: 01, loss: -0.00041\n",
      "epoch: 02, loss: -0.00577\n",
      "epoch: 03, loss: -0.00889\n",
      "epoch: 04, loss: -0.01069\n",
      "epoch: 05, loss: -0.01174\n",
      "epoch: 06, loss: -0.01254\n",
      "epoch: 07, loss: -0.01295\n",
      "epoch: 08, loss: -0.01319\n",
      "epoch: 09, loss: -0.01339\n",
      "torch.Size([550, 32])\n"
     ]
    },
    {
     "name": "stderr",
     "output_type": "stream",
     "text": [
      " 15%|█▍        | 147/1000 [1:09:36<7:49:41, 33.04s/it]"
     ]
    },
    {
     "name": "stdout",
     "output_type": "stream",
     "text": [
      "eigenvalues shape torch.Size([5]) eigenvectors shape torch.Size([5, 550])\n",
      "147 /home/phdcs2/Hard_Disk/Datasets/Deep-Spectral-Segmentation/data/object-segmentation/ECSSD/features/dino_vits16/0148.pth\n",
      "dict_keys(['k', 'indices', 'file', 'id', 'model_name', 'patch_size', 'shape'])\n",
      "0148\n",
      "Starting Training\n",
      "epoch: 00, loss: -0.00226\n",
      "epoch: 01, loss: -0.00504\n",
      "epoch: 02, loss: -0.00998\n",
      "epoch: 03, loss: -0.00189\n",
      "epoch: 04, loss: -0.01510\n",
      "epoch: 05, loss: -0.00743\n",
      "epoch: 06, loss: 0.00736\n",
      "epoch: 07, loss: -0.01324\n",
      "epoch: 08, loss: -0.00842\n",
      "epoch: 09, loss: 0.00004\n",
      "torch.Size([400, 32])\n"
     ]
    },
    {
     "name": "stderr",
     "output_type": "stream",
     "text": [
      " 15%|█▍        | 148/1000 [1:10:01<7:14:07, 30.57s/it]"
     ]
    },
    {
     "name": "stdout",
     "output_type": "stream",
     "text": [
      "eigenvalues shape torch.Size([5]) eigenvectors shape torch.Size([5, 400])\n",
      "148 /home/phdcs2/Hard_Disk/Datasets/Deep-Spectral-Segmentation/data/object-segmentation/ECSSD/features/dino_vits16/0149.pth\n",
      "dict_keys(['k', 'indices', 'file', 'id', 'model_name', 'patch_size', 'shape'])\n",
      "0149\n",
      "Starting Training\n",
      "epoch: 00, loss: -0.00295\n",
      "epoch: 01, loss: 0.01088\n",
      "epoch: 02, loss: -0.00244\n",
      "epoch: 03, loss: 0.00529\n",
      "epoch: 04, loss: -0.00895\n",
      "epoch: 05, loss: -0.01013\n",
      "epoch: 06, loss: 0.00617\n",
      "epoch: 07, loss: -0.00058\n",
      "epoch: 08, loss: 0.00931\n",
      "epoch: 09, loss: -0.00131\n",
      "torch.Size([400, 32])\n"
     ]
    },
    {
     "name": "stderr",
     "output_type": "stream",
     "text": [
      " 15%|█▍        | 149/1000 [1:10:25<6:47:57, 28.76s/it]"
     ]
    },
    {
     "name": "stdout",
     "output_type": "stream",
     "text": [
      "eigenvalues shape torch.Size([5]) eigenvectors shape torch.Size([5, 400])\n",
      "149 /home/phdcs2/Hard_Disk/Datasets/Deep-Spectral-Segmentation/data/object-segmentation/ECSSD/features/dino_vits16/0150.pth\n",
      "dict_keys(['k', 'indices', 'file', 'id', 'model_name', 'patch_size', 'shape'])\n",
      "0150\n",
      "Starting Training\n",
      "epoch: 00, loss: 0.00472\n",
      "epoch: 01, loss: -0.00571\n",
      "epoch: 02, loss: -0.01059\n",
      "epoch: 03, loss: -0.01321\n",
      "epoch: 04, loss: -0.01430\n",
      "epoch: 05, loss: -0.01482\n",
      "epoch: 06, loss: -0.01537\n",
      "epoch: 07, loss: -0.01545\n",
      "epoch: 08, loss: -0.01595\n",
      "epoch: 09, loss: -0.01603\n",
      "torch.Size([450, 32])\n"
     ]
    },
    {
     "name": "stderr",
     "output_type": "stream",
     "text": [
      " 15%|█▌        | 150/1000 [1:10:55<6:50:23, 28.97s/it]"
     ]
    },
    {
     "name": "stdout",
     "output_type": "stream",
     "text": [
      "eigenvalues shape torch.Size([5]) eigenvectors shape torch.Size([5, 450])\n",
      "150 /home/phdcs2/Hard_Disk/Datasets/Deep-Spectral-Segmentation/data/object-segmentation/ECSSD/features/dino_vits16/0151.pth\n",
      "dict_keys(['k', 'indices', 'file', 'id', 'model_name', 'patch_size', 'shape'])\n",
      "0151\n",
      "Starting Training\n",
      "epoch: 00, loss: 0.00977\n",
      "epoch: 01, loss: 0.00579\n",
      "epoch: 02, loss: 0.00409\n",
      "epoch: 03, loss: 0.00354\n",
      "epoch: 04, loss: 0.00192\n",
      "epoch: 05, loss: 0.00140\n",
      "epoch: 06, loss: 0.00092\n",
      "epoch: 07, loss: 0.00118\n",
      "epoch: 08, loss: 0.00090\n",
      "epoch: 09, loss: 0.00018\n",
      "torch.Size([525, 32])\n"
     ]
    },
    {
     "name": "stderr",
     "output_type": "stream",
     "text": [
      " 15%|█▌        | 151/1000 [1:11:28<7:09:04, 30.32s/it]"
     ]
    },
    {
     "name": "stdout",
     "output_type": "stream",
     "text": [
      "eigenvalues shape torch.Size([5]) eigenvectors shape torch.Size([5, 525])\n",
      "151 /home/phdcs2/Hard_Disk/Datasets/Deep-Spectral-Segmentation/data/object-segmentation/ECSSD/features/dino_vits16/0152.pth\n",
      "dict_keys(['k', 'indices', 'file', 'id', 'model_name', 'patch_size', 'shape'])\n",
      "0152\n",
      "Starting Training\n",
      "epoch: 00, loss: -0.00790\n",
      "epoch: 01, loss: -0.01495\n",
      "epoch: 02, loss: -0.00088\n",
      "epoch: 03, loss: 0.01005\n",
      "epoch: 04, loss: 0.01238\n",
      "epoch: 05, loss: 0.00309\n",
      "epoch: 06, loss: -0.02667\n",
      "epoch: 07, loss: 0.00140\n",
      "epoch: 08, loss: 0.00230\n",
      "epoch: 09, loss: -0.00886\n",
      "torch.Size([450, 32])\n"
     ]
    },
    {
     "name": "stderr",
     "output_type": "stream",
     "text": [
      " 15%|█▌        | 152/1000 [1:11:56<6:57:13, 29.52s/it]"
     ]
    },
    {
     "name": "stdout",
     "output_type": "stream",
     "text": [
      "eigenvalues shape torch.Size([5]) eigenvectors shape torch.Size([5, 450])\n",
      "152 /home/phdcs2/Hard_Disk/Datasets/Deep-Spectral-Segmentation/data/object-segmentation/ECSSD/features/dino_vits16/0153.pth\n",
      "dict_keys(['k', 'indices', 'file', 'id', 'model_name', 'patch_size', 'shape'])\n",
      "0153\n",
      "Starting Training\n",
      "epoch: 00, loss: -0.00081\n",
      "epoch: 01, loss: 0.00701\n",
      "epoch: 02, loss: 0.00112\n",
      "epoch: 03, loss: -0.00226\n",
      "epoch: 04, loss: -0.02280\n",
      "epoch: 05, loss: -0.01256\n",
      "epoch: 06, loss: -0.01107\n",
      "epoch: 07, loss: -0.00654\n",
      "epoch: 08, loss: -0.01252\n",
      "epoch: 09, loss: -0.02340\n",
      "torch.Size([450, 32])\n"
     ]
    },
    {
     "name": "stderr",
     "output_type": "stream",
     "text": [
      " 15%|█▌        | 153/1000 [1:12:35<7:38:57, 32.51s/it]"
     ]
    },
    {
     "name": "stdout",
     "output_type": "stream",
     "text": [
      "eigenvalues shape torch.Size([5]) eigenvectors shape torch.Size([5, 450])\n",
      "153 /home/phdcs2/Hard_Disk/Datasets/Deep-Spectral-Segmentation/data/object-segmentation/ECSSD/features/dino_vits16/0154.pth\n",
      "dict_keys(['k', 'indices', 'file', 'id', 'model_name', 'patch_size', 'shape'])\n",
      "0154\n",
      "Starting Training\n",
      "epoch: 00, loss: 0.00848\n",
      "epoch: 01, loss: 0.00367\n",
      "epoch: 02, loss: 0.00117\n",
      "epoch: 03, loss: -0.00082\n",
      "epoch: 04, loss: -0.00229\n",
      "epoch: 05, loss: -0.00349\n",
      "epoch: 06, loss: -0.00419\n",
      "epoch: 07, loss: -0.00473\n",
      "epoch: 08, loss: -0.00537\n",
      "epoch: 09, loss: -0.00570\n",
      "torch.Size([450, 32])\n"
     ]
    },
    {
     "name": "stderr",
     "output_type": "stream",
     "text": [
      " 15%|█▌        | 154/1000 [1:13:05<7:26:33, 31.67s/it]"
     ]
    },
    {
     "name": "stdout",
     "output_type": "stream",
     "text": [
      "eigenvalues shape torch.Size([5]) eigenvectors shape torch.Size([5, 450])\n",
      "154 /home/phdcs2/Hard_Disk/Datasets/Deep-Spectral-Segmentation/data/object-segmentation/ECSSD/features/dino_vits16/0155.pth\n",
      "dict_keys(['k', 'indices', 'file', 'id', 'model_name', 'patch_size', 'shape'])\n",
      "0155\n",
      "Starting Training\n",
      "epoch: 00, loss: 0.00071\n",
      "epoch: 01, loss: -0.00419\n",
      "epoch: 02, loss: -0.01429\n",
      "epoch: 03, loss: -0.01139\n",
      "epoch: 04, loss: -0.00969\n",
      "epoch: 05, loss: -0.01699\n",
      "epoch: 06, loss: -0.01059\n",
      "epoch: 07, loss: -0.01466\n",
      "epoch: 08, loss: -0.01145\n",
      "epoch: 09, loss: -0.01502\n",
      "torch.Size([475, 32])\n"
     ]
    },
    {
     "name": "stderr",
     "output_type": "stream",
     "text": [
      " 16%|█▌        | 155/1000 [1:13:36<7:21:39, 31.36s/it]"
     ]
    },
    {
     "name": "stdout",
     "output_type": "stream",
     "text": [
      "eigenvalues shape torch.Size([5]) eigenvectors shape torch.Size([5, 475])\n",
      "155 /home/phdcs2/Hard_Disk/Datasets/Deep-Spectral-Segmentation/data/object-segmentation/ECSSD/features/dino_vits16/0156.pth\n",
      "dict_keys(['k', 'indices', 'file', 'id', 'model_name', 'patch_size', 'shape'])\n",
      "0156\n",
      "Starting Training\n",
      "epoch: 00, loss: 0.01112\n",
      "epoch: 01, loss: 0.00522\n",
      "epoch: 02, loss: 0.00208\n",
      "epoch: 03, loss: -0.00032\n",
      "epoch: 04, loss: -0.00224\n",
      "epoch: 05, loss: -0.00334\n",
      "epoch: 06, loss: -0.00466\n",
      "epoch: 07, loss: -0.00534\n",
      "epoch: 08, loss: -0.00587\n",
      "epoch: 09, loss: -0.00658\n",
      "torch.Size([400, 32])\n"
     ]
    },
    {
     "name": "stderr",
     "output_type": "stream",
     "text": [
      " 16%|█▌        | 156/1000 [1:14:10<7:32:44, 32.19s/it]"
     ]
    },
    {
     "name": "stdout",
     "output_type": "stream",
     "text": [
      "eigenvalues shape torch.Size([5]) eigenvectors shape torch.Size([5, 400])\n",
      "156 /home/phdcs2/Hard_Disk/Datasets/Deep-Spectral-Segmentation/data/object-segmentation/ECSSD/features/dino_vits16/0157.pth\n",
      "dict_keys(['k', 'indices', 'file', 'id', 'model_name', 'patch_size', 'shape'])\n",
      "0157\n",
      "Starting Training\n",
      "epoch: 00, loss: 0.01053\n",
      "epoch: 01, loss: 0.00681\n",
      "epoch: 02, loss: 0.00683\n",
      "epoch: 03, loss: 0.00912\n",
      "epoch: 04, loss: -0.00433\n",
      "epoch: 05, loss: 0.00920\n",
      "epoch: 06, loss: -0.00496\n",
      "epoch: 07, loss: 0.00286\n",
      "epoch: 08, loss: 0.00807\n",
      "epoch: 09, loss: -0.00097\n",
      "torch.Size([375, 32])\n"
     ]
    },
    {
     "name": "stderr",
     "output_type": "stream",
     "text": [
      " 16%|█▌        | 157/1000 [1:14:40<7:22:43, 31.51s/it]"
     ]
    },
    {
     "name": "stdout",
     "output_type": "stream",
     "text": [
      "eigenvalues shape torch.Size([5]) eigenvectors shape torch.Size([5, 375])\n",
      "157 /home/phdcs2/Hard_Disk/Datasets/Deep-Spectral-Segmentation/data/object-segmentation/ECSSD/features/dino_vits16/0158.pth\n",
      "dict_keys(['k', 'indices', 'file', 'id', 'model_name', 'patch_size', 'shape'])\n",
      "0158\n",
      "Starting Training\n",
      "epoch: 00, loss: 0.01275\n",
      "epoch: 01, loss: 0.00387\n",
      "epoch: 02, loss: -0.00282\n",
      "epoch: 03, loss: -0.00007\n",
      "epoch: 04, loss: -0.00845\n",
      "epoch: 05, loss: -0.01006\n",
      "epoch: 06, loss: 0.00473\n",
      "epoch: 07, loss: -0.00904\n",
      "epoch: 08, loss: -0.01042\n",
      "epoch: 09, loss: -0.00634\n",
      "torch.Size([300, 32])\n"
     ]
    },
    {
     "name": "stderr",
     "output_type": "stream",
     "text": [
      " 16%|█▌        | 158/1000 [1:15:02<6:44:23, 28.82s/it]"
     ]
    },
    {
     "name": "stdout",
     "output_type": "stream",
     "text": [
      "eigenvalues shape torch.Size([5]) eigenvectors shape torch.Size([5, 300])\n",
      "158 /home/phdcs2/Hard_Disk/Datasets/Deep-Spectral-Segmentation/data/object-segmentation/ECSSD/features/dino_vits16/0159.pth\n",
      "dict_keys(['k', 'indices', 'file', 'id', 'model_name', 'patch_size', 'shape'])\n",
      "0159\n",
      "Starting Training\n",
      "epoch: 00, loss: 0.01190\n",
      "epoch: 01, loss: 0.00618\n",
      "epoch: 02, loss: 0.00386\n",
      "epoch: 03, loss: 0.00235\n",
      "epoch: 04, loss: 0.00093\n",
      "epoch: 05, loss: -0.00023\n",
      "epoch: 06, loss: -0.00084\n",
      "epoch: 07, loss: -0.00135\n",
      "epoch: 08, loss: -0.00198\n",
      "epoch: 09, loss: -0.00218\n",
      "torch.Size([425, 32])\n"
     ]
    },
    {
     "name": "stderr",
     "output_type": "stream",
     "text": [
      " 16%|█▌        | 159/1000 [1:15:30<6:37:43, 28.38s/it]"
     ]
    },
    {
     "name": "stdout",
     "output_type": "stream",
     "text": [
      "eigenvalues shape torch.Size([5]) eigenvectors shape torch.Size([5, 425])\n",
      "159 /home/phdcs2/Hard_Disk/Datasets/Deep-Spectral-Segmentation/data/object-segmentation/ECSSD/features/dino_vits16/0160.pth\n",
      "dict_keys(['k', 'indices', 'file', 'id', 'model_name', 'patch_size', 'shape'])\n",
      "0160\n",
      "Starting Training\n",
      "epoch: 00, loss: 0.00886\n",
      "epoch: 01, loss: 0.00527\n",
      "epoch: 02, loss: 0.00373\n",
      "epoch: 03, loss: 0.00252\n",
      "epoch: 04, loss: 0.00192\n",
      "epoch: 05, loss: 0.00161\n",
      "epoch: 06, loss: 0.00080\n",
      "epoch: 07, loss: 0.00031\n",
      "epoch: 08, loss: 0.00015\n",
      "epoch: 09, loss: -0.00026\n",
      "torch.Size([400, 32])\n"
     ]
    },
    {
     "name": "stderr",
     "output_type": "stream",
     "text": [
      " 16%|█▌        | 160/1000 [1:15:55<6:25:29, 27.54s/it]"
     ]
    },
    {
     "name": "stdout",
     "output_type": "stream",
     "text": [
      "eigenvalues shape torch.Size([5]) eigenvectors shape torch.Size([5, 400])\n",
      "160 /home/phdcs2/Hard_Disk/Datasets/Deep-Spectral-Segmentation/data/object-segmentation/ECSSD/features/dino_vits16/0161.pth\n",
      "dict_keys(['k', 'indices', 'file', 'id', 'model_name', 'patch_size', 'shape'])\n",
      "0161\n",
      "Starting Training\n",
      "epoch: 00, loss: 0.00594\n",
      "epoch: 01, loss: 0.00156\n",
      "epoch: 02, loss: -0.00070\n",
      "epoch: 03, loss: -0.00221\n",
      "epoch: 04, loss: -0.00304\n",
      "epoch: 05, loss: -0.00387\n",
      "epoch: 06, loss: -0.00444\n",
      "epoch: 07, loss: -0.00467\n",
      "epoch: 08, loss: -0.00510\n",
      "epoch: 09, loss: -0.00563\n",
      "torch.Size([450, 32])\n"
     ]
    },
    {
     "name": "stderr",
     "output_type": "stream",
     "text": [
      " 16%|█▌        | 161/1000 [1:16:23<6:27:52, 27.74s/it]"
     ]
    },
    {
     "name": "stdout",
     "output_type": "stream",
     "text": [
      "eigenvalues shape torch.Size([5]) eigenvectors shape torch.Size([5, 450])\n",
      "161 /home/phdcs2/Hard_Disk/Datasets/Deep-Spectral-Segmentation/data/object-segmentation/ECSSD/features/dino_vits16/0162.pth\n",
      "dict_keys(['k', 'indices', 'file', 'id', 'model_name', 'patch_size', 'shape'])\n",
      "0162\n",
      "Starting Training\n",
      "epoch: 00, loss: 0.00229\n",
      "epoch: 01, loss: 0.00094\n",
      "epoch: 02, loss: -0.00042\n",
      "epoch: 03, loss: 0.00378\n",
      "epoch: 04, loss: -0.01481\n",
      "epoch: 05, loss: -0.01496\n",
      "epoch: 06, loss: -0.02759\n",
      "epoch: 07, loss: -0.01254\n",
      "epoch: 08, loss: -0.00612\n",
      "epoch: 09, loss: -0.00568\n",
      "torch.Size([450, 32])\n"
     ]
    },
    {
     "name": "stderr",
     "output_type": "stream",
     "text": [
      " 16%|█▌        | 162/1000 [1:16:51<6:27:53, 27.77s/it]"
     ]
    },
    {
     "name": "stdout",
     "output_type": "stream",
     "text": [
      "eigenvalues shape torch.Size([5]) eigenvectors shape torch.Size([5, 450])\n",
      "162 /home/phdcs2/Hard_Disk/Datasets/Deep-Spectral-Segmentation/data/object-segmentation/ECSSD/features/dino_vits16/0163.pth\n",
      "dict_keys(['k', 'indices', 'file', 'id', 'model_name', 'patch_size', 'shape'])\n",
      "0163\n",
      "Starting Training\n",
      "epoch: 00, loss: 0.00904\n",
      "epoch: 01, loss: -0.01641\n",
      "epoch: 02, loss: -0.01338\n",
      "epoch: 03, loss: -0.02953\n",
      "epoch: 04, loss: -0.02370\n",
      "epoch: 05, loss: -0.04133\n",
      "epoch: 06, loss: -0.05023\n",
      "epoch: 07, loss: -0.05723\n",
      "epoch: 08, loss: -0.06668\n",
      "epoch: 09, loss: -0.07655\n",
      "torch.Size([400, 32])\n"
     ]
    },
    {
     "name": "stderr",
     "output_type": "stream",
     "text": [
      " 16%|█▋        | 163/1000 [1:17:24<6:48:11, 29.26s/it]"
     ]
    },
    {
     "name": "stdout",
     "output_type": "stream",
     "text": [
      "eigenvalues shape torch.Size([5]) eigenvectors shape torch.Size([5, 400])\n",
      "163 /home/phdcs2/Hard_Disk/Datasets/Deep-Spectral-Segmentation/data/object-segmentation/ECSSD/features/dino_vits16/0164.pth\n",
      "dict_keys(['k', 'indices', 'file', 'id', 'model_name', 'patch_size', 'shape'])\n",
      "0164\n",
      "Starting Training\n",
      "epoch: 00, loss: 0.00022\n",
      "epoch: 01, loss: -0.01089\n",
      "epoch: 02, loss: -0.01494\n",
      "epoch: 03, loss: -0.02017\n",
      "epoch: 04, loss: -0.01576\n",
      "epoch: 05, loss: -0.02060\n",
      "epoch: 06, loss: -0.01539\n",
      "epoch: 07, loss: -0.01532\n",
      "epoch: 08, loss: -0.01483\n",
      "epoch: 09, loss: -0.02410\n",
      "torch.Size([550, 32])\n"
     ]
    },
    {
     "name": "stderr",
     "output_type": "stream",
     "text": [
      " 16%|█▋        | 164/1000 [1:18:01<7:21:13, 31.67s/it]"
     ]
    },
    {
     "name": "stdout",
     "output_type": "stream",
     "text": [
      "eigenvalues shape torch.Size([5]) eigenvectors shape torch.Size([5, 550])\n",
      "164 /home/phdcs2/Hard_Disk/Datasets/Deep-Spectral-Segmentation/data/object-segmentation/ECSSD/features/dino_vits16/0165.pth\n",
      "dict_keys(['k', 'indices', 'file', 'id', 'model_name', 'patch_size', 'shape'])\n",
      "0165\n",
      "Starting Training\n",
      "epoch: 00, loss: 0.00061\n",
      "epoch: 01, loss: -0.01356\n",
      "epoch: 02, loss: -0.00129\n",
      "epoch: 03, loss: -0.00688\n",
      "epoch: 04, loss: -0.01234\n",
      "epoch: 05, loss: -0.03047\n",
      "epoch: 06, loss: -0.02877\n",
      "epoch: 07, loss: -0.01117\n",
      "epoch: 08, loss: -0.01489\n",
      "epoch: 09, loss: -0.03205\n",
      "torch.Size([450, 32])\n"
     ]
    },
    {
     "name": "stderr",
     "output_type": "stream",
     "text": [
      " 16%|█▋        | 165/1000 [1:18:30<7:08:24, 30.78s/it]"
     ]
    },
    {
     "name": "stdout",
     "output_type": "stream",
     "text": [
      "eigenvalues shape torch.Size([5]) eigenvectors shape torch.Size([5, 450])\n",
      "165 /home/phdcs2/Hard_Disk/Datasets/Deep-Spectral-Segmentation/data/object-segmentation/ECSSD/features/dino_vits16/0166.pth\n",
      "dict_keys(['k', 'indices', 'file', 'id', 'model_name', 'patch_size', 'shape'])\n",
      "0166\n",
      "Starting Training\n",
      "epoch: 00, loss: 0.00529\n",
      "epoch: 01, loss: -0.00549\n",
      "epoch: 02, loss: -0.00514\n",
      "epoch: 03, loss: -0.00683\n",
      "epoch: 04, loss: -0.00898\n",
      "epoch: 05, loss: -0.00636\n",
      "epoch: 06, loss: -0.00903\n",
      "epoch: 07, loss: -0.01490\n",
      "epoch: 08, loss: -0.00837\n",
      "epoch: 09, loss: -0.01183\n",
      "torch.Size([400, 32])\n"
     ]
    },
    {
     "name": "stderr",
     "output_type": "stream",
     "text": [
      " 17%|█▋        | 166/1000 [1:19:02<7:13:36, 31.19s/it]"
     ]
    },
    {
     "name": "stdout",
     "output_type": "stream",
     "text": [
      "eigenvalues shape torch.Size([5]) eigenvectors shape torch.Size([5, 400])\n",
      "166 /home/phdcs2/Hard_Disk/Datasets/Deep-Spectral-Segmentation/data/object-segmentation/ECSSD/features/dino_vits16/0167.pth\n",
      "dict_keys(['k', 'indices', 'file', 'id', 'model_name', 'patch_size', 'shape'])\n",
      "0167\n",
      "Starting Training\n",
      "epoch: 00, loss: 0.00739\n",
      "epoch: 01, loss: 0.00255\n",
      "epoch: 02, loss: 0.00152\n",
      "epoch: 03, loss: 0.00006\n",
      "epoch: 04, loss: -0.00213\n",
      "epoch: 05, loss: 0.00032\n",
      "epoch: 06, loss: -0.00350\n",
      "epoch: 07, loss: -0.00104\n",
      "epoch: 08, loss: -0.00128\n",
      "epoch: 09, loss: -0.00302\n",
      "torch.Size([450, 32])\n"
     ]
    },
    {
     "name": "stderr",
     "output_type": "stream",
     "text": [
      " 17%|█▋        | 167/1000 [1:19:41<7:43:46, 33.40s/it]"
     ]
    },
    {
     "name": "stdout",
     "output_type": "stream",
     "text": [
      "eigenvalues shape torch.Size([5]) eigenvectors shape torch.Size([5, 450])\n",
      "167 /home/phdcs2/Hard_Disk/Datasets/Deep-Spectral-Segmentation/data/object-segmentation/ECSSD/features/dino_vits16/0168.pth\n",
      "dict_keys(['k', 'indices', 'file', 'id', 'model_name', 'patch_size', 'shape'])\n",
      "0168\n",
      "Starting Training\n",
      "epoch: 00, loss: 0.00052\n",
      "epoch: 01, loss: -0.00661\n",
      "epoch: 02, loss: -0.00959\n",
      "epoch: 03, loss: -0.01139\n",
      "epoch: 04, loss: -0.01234\n",
      "epoch: 05, loss: -0.01289\n",
      "epoch: 06, loss: -0.01323\n",
      "epoch: 07, loss: -0.01363\n",
      "epoch: 08, loss: -0.01387\n",
      "epoch: 09, loss: -0.01404\n",
      "torch.Size([400, 32])\n"
     ]
    },
    {
     "name": "stderr",
     "output_type": "stream",
     "text": [
      " 17%|█▋        | 168/1000 [1:20:12<7:35:28, 32.85s/it]"
     ]
    },
    {
     "name": "stdout",
     "output_type": "stream",
     "text": [
      "eigenvalues shape torch.Size([5]) eigenvectors shape torch.Size([5, 400])\n",
      "168 /home/phdcs2/Hard_Disk/Datasets/Deep-Spectral-Segmentation/data/object-segmentation/ECSSD/features/dino_vits16/0169.pth\n",
      "dict_keys(['k', 'indices', 'file', 'id', 'model_name', 'patch_size', 'shape'])\n",
      "0169\n",
      "Starting Training\n",
      "epoch: 00, loss: -0.00648\n",
      "epoch: 01, loss: -0.00223\n",
      "epoch: 02, loss: -0.03322\n",
      "epoch: 03, loss: -0.04208\n",
      "epoch: 04, loss: -0.05837\n",
      "epoch: 05, loss: -0.06442\n",
      "epoch: 06, loss: -0.08669\n",
      "epoch: 07, loss: -0.11229\n",
      "epoch: 08, loss: -0.10923\n",
      "epoch: 09, loss: -0.09146\n",
      "torch.Size([400, 32])\n"
     ]
    },
    {
     "name": "stderr",
     "output_type": "stream",
     "text": [
      " 17%|█▋        | 169/1000 [1:20:36<6:55:09, 29.98s/it]"
     ]
    },
    {
     "name": "stdout",
     "output_type": "stream",
     "text": [
      "eigenvalues shape torch.Size([5]) eigenvectors shape torch.Size([5, 400])\n",
      "169 /home/phdcs2/Hard_Disk/Datasets/Deep-Spectral-Segmentation/data/object-segmentation/ECSSD/features/dino_vits16/0170.pth\n",
      "dict_keys(['k', 'indices', 'file', 'id', 'model_name', 'patch_size', 'shape'])\n",
      "0170\n",
      "Starting Training\n",
      "epoch: 00, loss: 0.00399\n",
      "epoch: 01, loss: -0.00157\n",
      "epoch: 02, loss: -0.00452\n",
      "epoch: 03, loss: -0.00585\n",
      "epoch: 04, loss: -0.00697\n",
      "epoch: 05, loss: -0.00762\n",
      "epoch: 06, loss: -0.00840\n",
      "epoch: 07, loss: -0.00874\n",
      "epoch: 08, loss: -0.00912\n",
      "epoch: 09, loss: -0.00930\n",
      "torch.Size([450, 32])\n"
     ]
    },
    {
     "name": "stderr",
     "output_type": "stream",
     "text": [
      " 17%|█▋        | 170/1000 [1:21:14<7:29:14, 32.48s/it]"
     ]
    },
    {
     "name": "stdout",
     "output_type": "stream",
     "text": [
      "eigenvalues shape torch.Size([5]) eigenvectors shape torch.Size([5, 450])\n",
      "170 /home/phdcs2/Hard_Disk/Datasets/Deep-Spectral-Segmentation/data/object-segmentation/ECSSD/features/dino_vits16/0171.pth\n",
      "dict_keys(['k', 'indices', 'file', 'id', 'model_name', 'patch_size', 'shape'])\n",
      "0171\n",
      "Starting Training\n",
      "epoch: 00, loss: 0.01223\n",
      "epoch: 01, loss: 0.00645\n",
      "epoch: 02, loss: 0.00408\n",
      "epoch: 03, loss: 0.00102\n",
      "epoch: 04, loss: -0.00058\n",
      "epoch: 05, loss: -0.00170\n",
      "epoch: 06, loss: -0.00302\n",
      "epoch: 07, loss: -0.00399\n",
      "epoch: 08, loss: -0.00538\n",
      "epoch: 09, loss: -0.00561\n",
      "torch.Size([375, 32])\n"
     ]
    },
    {
     "name": "stderr",
     "output_type": "stream",
     "text": [
      " 17%|█▋        | 171/1000 [1:21:33<6:34:41, 28.57s/it]"
     ]
    },
    {
     "name": "stdout",
     "output_type": "stream",
     "text": [
      "eigenvalues shape torch.Size([5]) eigenvectors shape torch.Size([5, 375])\n",
      "171 /home/phdcs2/Hard_Disk/Datasets/Deep-Spectral-Segmentation/data/object-segmentation/ECSSD/features/dino_vits16/0172.pth\n",
      "dict_keys(['k', 'indices', 'file', 'id', 'model_name', 'patch_size', 'shape'])\n",
      "0172\n",
      "Starting Training\n",
      "epoch: 00, loss: 0.00843\n",
      "epoch: 01, loss: 0.00115\n",
      "epoch: 02, loss: 0.00294\n",
      "epoch: 03, loss: -0.00456\n",
      "epoch: 04, loss: -0.00545\n",
      "epoch: 05, loss: -0.00342\n",
      "epoch: 06, loss: -0.00562\n",
      "epoch: 07, loss: -0.00768\n",
      "epoch: 08, loss: -0.00938\n",
      "epoch: 09, loss: -0.00397\n",
      "torch.Size([375, 32])\n"
     ]
    },
    {
     "name": "stderr",
     "output_type": "stream",
     "text": [
      " 17%|█▋        | 172/1000 [1:21:55<6:05:56, 26.52s/it]"
     ]
    },
    {
     "name": "stdout",
     "output_type": "stream",
     "text": [
      "eigenvalues shape torch.Size([5]) eigenvectors shape torch.Size([5, 375])\n",
      "172 /home/phdcs2/Hard_Disk/Datasets/Deep-Spectral-Segmentation/data/object-segmentation/ECSSD/features/dino_vits16/0173.pth\n",
      "dict_keys(['k', 'indices', 'file', 'id', 'model_name', 'patch_size', 'shape'])\n",
      "0173\n",
      "Starting Training\n",
      "epoch: 00, loss: -0.00140\n",
      "epoch: 01, loss: 0.00294\n",
      "epoch: 02, loss: 0.00132\n",
      "epoch: 03, loss: -0.00905\n",
      "epoch: 04, loss: -0.00419\n",
      "epoch: 05, loss: -0.00734\n",
      "epoch: 06, loss: -0.00674\n",
      "epoch: 07, loss: -0.00619\n",
      "epoch: 08, loss: -0.01256\n",
      "epoch: 09, loss: -0.00642\n",
      "torch.Size([450, 32])\n"
     ]
    },
    {
     "name": "stderr",
     "output_type": "stream",
     "text": [
      " 17%|█▋        | 173/1000 [1:22:24<6:17:05, 27.36s/it]"
     ]
    },
    {
     "name": "stdout",
     "output_type": "stream",
     "text": [
      "eigenvalues shape torch.Size([5]) eigenvectors shape torch.Size([5, 450])\n",
      "173 /home/phdcs2/Hard_Disk/Datasets/Deep-Spectral-Segmentation/data/object-segmentation/ECSSD/features/dino_vits16/0174.pth\n",
      "dict_keys(['k', 'indices', 'file', 'id', 'model_name', 'patch_size', 'shape'])\n",
      "0174\n",
      "Starting Training\n",
      "epoch: 00, loss: 0.00433\n",
      "epoch: 01, loss: 0.01040\n",
      "epoch: 02, loss: -0.00068\n",
      "epoch: 03, loss: -0.00645\n",
      "epoch: 04, loss: -0.00785\n",
      "epoch: 05, loss: 0.00125\n",
      "epoch: 06, loss: -0.00896\n",
      "epoch: 07, loss: -0.00967\n",
      "epoch: 08, loss: -0.01905\n",
      "epoch: 09, loss: -0.02542\n",
      "torch.Size([375, 32])\n"
     ]
    },
    {
     "name": "stderr",
     "output_type": "stream",
     "text": [
      " 17%|█▋        | 174/1000 [1:22:44<5:45:29, 25.10s/it]"
     ]
    },
    {
     "name": "stdout",
     "output_type": "stream",
     "text": [
      "eigenvalues shape torch.Size([5]) eigenvectors shape torch.Size([5, 375])\n",
      "174 /home/phdcs2/Hard_Disk/Datasets/Deep-Spectral-Segmentation/data/object-segmentation/ECSSD/features/dino_vits16/0175.pth\n",
      "dict_keys(['k', 'indices', 'file', 'id', 'model_name', 'patch_size', 'shape'])\n",
      "0175\n",
      "Starting Training\n",
      "epoch: 00, loss: 0.00566\n",
      "epoch: 01, loss: 0.00740\n",
      "epoch: 02, loss: 0.00484\n",
      "epoch: 03, loss: -0.00257\n",
      "epoch: 04, loss: 0.00868\n",
      "epoch: 05, loss: 0.00039\n",
      "epoch: 06, loss: -0.01049\n",
      "epoch: 07, loss: 0.00090\n",
      "epoch: 08, loss: -0.00012\n",
      "epoch: 09, loss: -0.00166\n",
      "torch.Size([450, 32])\n"
     ]
    },
    {
     "name": "stderr",
     "output_type": "stream",
     "text": [
      " 18%|█▊        | 175/1000 [1:23:12<5:56:19, 25.91s/it]"
     ]
    },
    {
     "name": "stdout",
     "output_type": "stream",
     "text": [
      "eigenvalues shape torch.Size([5]) eigenvectors shape torch.Size([5, 450])\n",
      "175 /home/phdcs2/Hard_Disk/Datasets/Deep-Spectral-Segmentation/data/object-segmentation/ECSSD/features/dino_vits16/0176.pth\n",
      "dict_keys(['k', 'indices', 'file', 'id', 'model_name', 'patch_size', 'shape'])\n",
      "0176\n",
      "Starting Training\n",
      "epoch: 00, loss: -0.00684\n",
      "epoch: 01, loss: -0.01082\n",
      "epoch: 02, loss: -0.01489\n",
      "epoch: 03, loss: -0.02350\n",
      "epoch: 04, loss: -0.01226\n",
      "epoch: 05, loss: -0.03836\n",
      "epoch: 06, loss: -0.05044\n",
      "epoch: 07, loss: -0.04307\n",
      "epoch: 08, loss: -0.04327\n",
      "epoch: 09, loss: -0.05454\n",
      "torch.Size([550, 32])\n"
     ]
    },
    {
     "name": "stderr",
     "output_type": "stream",
     "text": [
      " 18%|█▊        | 176/1000 [1:23:50<6:43:47, 29.40s/it]"
     ]
    },
    {
     "name": "stdout",
     "output_type": "stream",
     "text": [
      "eigenvalues shape torch.Size([5]) eigenvectors shape torch.Size([5, 550])\n",
      "176 /home/phdcs2/Hard_Disk/Datasets/Deep-Spectral-Segmentation/data/object-segmentation/ECSSD/features/dino_vits16/0177.pth\n",
      "dict_keys(['k', 'indices', 'file', 'id', 'model_name', 'patch_size', 'shape'])\n",
      "0177\n",
      "Starting Training\n",
      "epoch: 00, loss: 0.00565\n",
      "epoch: 01, loss: 0.00129\n",
      "epoch: 02, loss: -0.00032\n",
      "epoch: 03, loss: -0.00201\n",
      "epoch: 04, loss: -0.00281\n",
      "epoch: 05, loss: -0.00381\n",
      "epoch: 06, loss: -0.00429\n",
      "epoch: 07, loss: -0.00462\n",
      "epoch: 08, loss: -0.00517\n",
      "epoch: 09, loss: -0.00538\n",
      "torch.Size([400, 32])\n"
     ]
    },
    {
     "name": "stderr",
     "output_type": "stream",
     "text": [
      " 18%|█▊        | 177/1000 [1:24:13<6:19:36, 27.67s/it]"
     ]
    },
    {
     "name": "stdout",
     "output_type": "stream",
     "text": [
      "eigenvalues shape torch.Size([5]) eigenvectors shape torch.Size([5, 400])\n",
      "177 /home/phdcs2/Hard_Disk/Datasets/Deep-Spectral-Segmentation/data/object-segmentation/ECSSD/features/dino_vits16/0178.pth\n",
      "dict_keys(['k', 'indices', 'file', 'id', 'model_name', 'patch_size', 'shape'])\n",
      "0178\n",
      "Starting Training\n",
      "epoch: 00, loss: -0.00808\n",
      "epoch: 01, loss: 0.00461\n",
      "epoch: 02, loss: -0.00083\n",
      "epoch: 03, loss: -0.00044\n",
      "epoch: 04, loss: -0.00147\n",
      "epoch: 05, loss: -0.01265\n",
      "epoch: 06, loss: -0.01315\n",
      "epoch: 07, loss: -0.00661\n",
      "epoch: 08, loss: -0.00589\n",
      "epoch: 09, loss: -0.01516\n",
      "torch.Size([450, 32])\n"
     ]
    },
    {
     "name": "stderr",
     "output_type": "stream",
     "text": [
      " 18%|█▊        | 178/1000 [1:24:43<6:28:46, 28.38s/it]"
     ]
    },
    {
     "name": "stdout",
     "output_type": "stream",
     "text": [
      "eigenvalues shape torch.Size([5]) eigenvectors shape torch.Size([5, 450])\n",
      "178 /home/phdcs2/Hard_Disk/Datasets/Deep-Spectral-Segmentation/data/object-segmentation/ECSSD/features/dino_vits16/0179.pth\n",
      "dict_keys(['k', 'indices', 'file', 'id', 'model_name', 'patch_size', 'shape'])\n",
      "0179\n",
      "Starting Training\n",
      "epoch: 00, loss: 0.00787\n",
      "epoch: 01, loss: -0.00777\n",
      "epoch: 02, loss: -0.00906\n",
      "epoch: 03, loss: -0.00082\n",
      "epoch: 04, loss: 0.00297\n",
      "epoch: 05, loss: -0.01177\n",
      "epoch: 06, loss: 0.00189\n",
      "epoch: 07, loss: 0.00294\n",
      "epoch: 08, loss: -0.00467\n",
      "epoch: 09, loss: -0.00648\n",
      "torch.Size([400, 32])\n"
     ]
    },
    {
     "name": "stderr",
     "output_type": "stream",
     "text": [
      " 18%|█▊        | 179/1000 [1:25:08<6:11:46, 27.17s/it]"
     ]
    },
    {
     "name": "stdout",
     "output_type": "stream",
     "text": [
      "eigenvalues shape torch.Size([5]) eigenvectors shape torch.Size([5, 400])\n",
      "179 /home/phdcs2/Hard_Disk/Datasets/Deep-Spectral-Segmentation/data/object-segmentation/ECSSD/features/dino_vits16/0180.pth\n",
      "dict_keys(['k', 'indices', 'file', 'id', 'model_name', 'patch_size', 'shape'])\n",
      "0180\n",
      "Starting Training\n",
      "epoch: 00, loss: 0.00446\n",
      "epoch: 01, loss: -0.00475\n",
      "epoch: 02, loss: -0.00227\n",
      "epoch: 03, loss: -0.00612\n",
      "epoch: 04, loss: 0.00918\n",
      "epoch: 05, loss: -0.00254\n",
      "epoch: 06, loss: 0.00740\n",
      "epoch: 07, loss: -0.00263\n",
      "epoch: 08, loss: -0.00133\n",
      "epoch: 09, loss: -0.00461\n",
      "torch.Size([400, 32])\n"
     ]
    },
    {
     "name": "stderr",
     "output_type": "stream",
     "text": [
      " 18%|█▊        | 180/1000 [1:25:30<5:50:11, 25.62s/it]"
     ]
    },
    {
     "name": "stdout",
     "output_type": "stream",
     "text": [
      "eigenvalues shape torch.Size([5]) eigenvectors shape torch.Size([5, 400])\n",
      "180 /home/phdcs2/Hard_Disk/Datasets/Deep-Spectral-Segmentation/data/object-segmentation/ECSSD/features/dino_vits16/0181.pth\n",
      "dict_keys(['k', 'indices', 'file', 'id', 'model_name', 'patch_size', 'shape'])\n",
      "0181\n",
      "Starting Training\n",
      "epoch: 00, loss: 0.00391\n",
      "epoch: 01, loss: -0.00094\n",
      "epoch: 02, loss: -0.00494\n",
      "epoch: 03, loss: -0.00689\n",
      "epoch: 04, loss: -0.00710\n",
      "epoch: 05, loss: -0.00965\n",
      "epoch: 06, loss: -0.00816\n",
      "epoch: 07, loss: -0.01026\n",
      "epoch: 08, loss: -0.01024\n",
      "epoch: 09, loss: -0.01108\n",
      "torch.Size([375, 32])\n"
     ]
    },
    {
     "name": "stderr",
     "output_type": "stream",
     "text": [
      " 18%|█▊        | 181/1000 [1:26:00<6:08:26, 26.99s/it]"
     ]
    },
    {
     "name": "stdout",
     "output_type": "stream",
     "text": [
      "eigenvalues shape torch.Size([5]) eigenvectors shape torch.Size([5, 375])\n",
      "181 /home/phdcs2/Hard_Disk/Datasets/Deep-Spectral-Segmentation/data/object-segmentation/ECSSD/features/dino_vits16/0182.pth\n",
      "dict_keys(['k', 'indices', 'file', 'id', 'model_name', 'patch_size', 'shape'])\n",
      "0182\n",
      "Starting Training\n",
      "epoch: 00, loss: 0.00775\n",
      "epoch: 01, loss: 0.00257\n",
      "epoch: 02, loss: -0.00008\n",
      "epoch: 03, loss: -0.00246\n",
      "epoch: 04, loss: -0.00347\n",
      "epoch: 05, loss: -0.00471\n",
      "epoch: 06, loss: -0.00576\n",
      "epoch: 07, loss: -0.00623\n",
      "epoch: 08, loss: -0.00594\n",
      "epoch: 09, loss: -0.00719\n",
      "torch.Size([625, 32])\n"
     ]
    },
    {
     "name": "stderr",
     "output_type": "stream",
     "text": [
      " 18%|█▊        | 182/1000 [1:26:48<7:35:27, 33.41s/it]"
     ]
    },
    {
     "name": "stdout",
     "output_type": "stream",
     "text": [
      "eigenvalues shape torch.Size([5]) eigenvectors shape torch.Size([5, 625])\n",
      "182 /home/phdcs2/Hard_Disk/Datasets/Deep-Spectral-Segmentation/data/object-segmentation/ECSSD/features/dino_vits16/0183.pth\n",
      "dict_keys(['k', 'indices', 'file', 'id', 'model_name', 'patch_size', 'shape'])\n",
      "0183\n",
      "Starting Training\n",
      "epoch: 00, loss: 0.00868\n",
      "epoch: 01, loss: 0.00310\n",
      "epoch: 02, loss: 0.00055\n",
      "epoch: 03, loss: -0.00092\n",
      "epoch: 04, loss: -0.00202\n",
      "epoch: 05, loss: -0.00271\n",
      "epoch: 06, loss: -0.00331\n",
      "epoch: 07, loss: -0.00388\n",
      "epoch: 08, loss: -0.00425\n",
      "epoch: 09, loss: -0.00465\n",
      "torch.Size([400, 32])\n"
     ]
    },
    {
     "name": "stderr",
     "output_type": "stream",
     "text": [
      " 18%|█▊        | 183/1000 [1:27:22<7:35:06, 33.42s/it]"
     ]
    },
    {
     "name": "stdout",
     "output_type": "stream",
     "text": [
      "eigenvalues shape torch.Size([5]) eigenvectors shape torch.Size([5, 400])\n",
      "183 /home/phdcs2/Hard_Disk/Datasets/Deep-Spectral-Segmentation/data/object-segmentation/ECSSD/features/dino_vits16/0184.pth\n",
      "dict_keys(['k', 'indices', 'file', 'id', 'model_name', 'patch_size', 'shape'])\n",
      "0184\n",
      "Starting Training\n",
      "epoch: 00, loss: -0.00183\n",
      "epoch: 01, loss: -0.00728\n",
      "epoch: 02, loss: -0.00163\n",
      "epoch: 03, loss: 0.00045\n",
      "epoch: 04, loss: -0.00707\n",
      "epoch: 05, loss: -0.00826\n",
      "epoch: 06, loss: -0.00943\n",
      "epoch: 07, loss: -0.00452\n",
      "epoch: 08, loss: -0.01860\n",
      "epoch: 09, loss: -0.01060\n",
      "torch.Size([625, 32])\n"
     ]
    },
    {
     "name": "stderr",
     "output_type": "stream",
     "text": [
      " 18%|█▊        | 184/1000 [1:28:06<8:17:50, 36.61s/it]"
     ]
    },
    {
     "name": "stdout",
     "output_type": "stream",
     "text": [
      "eigenvalues shape torch.Size([5]) eigenvectors shape torch.Size([5, 625])\n",
      "184 /home/phdcs2/Hard_Disk/Datasets/Deep-Spectral-Segmentation/data/object-segmentation/ECSSD/features/dino_vits16/0185.pth\n",
      "dict_keys(['k', 'indices', 'file', 'id', 'model_name', 'patch_size', 'shape'])\n",
      "0185\n",
      "Starting Training\n",
      "epoch: 00, loss: 0.00320\n",
      "epoch: 01, loss: -0.01342\n",
      "epoch: 02, loss: -0.01034\n",
      "epoch: 03, loss: -0.01496\n",
      "epoch: 04, loss: -0.01675\n",
      "epoch: 05, loss: -0.02293\n",
      "epoch: 06, loss: -0.02838\n",
      "epoch: 07, loss: -0.03341\n",
      "epoch: 08, loss: -0.04204\n",
      "epoch: 09, loss: -0.03510\n",
      "torch.Size([625, 32])\n"
     ]
    },
    {
     "name": "stderr",
     "output_type": "stream",
     "text": [
      " 18%|█▊        | 185/1000 [1:28:53<8:59:06, 39.69s/it]"
     ]
    },
    {
     "name": "stdout",
     "output_type": "stream",
     "text": [
      "eigenvalues shape torch.Size([5]) eigenvectors shape torch.Size([5, 625])\n",
      "185 /home/phdcs2/Hard_Disk/Datasets/Deep-Spectral-Segmentation/data/object-segmentation/ECSSD/features/dino_vits16/0186.pth\n",
      "dict_keys(['k', 'indices', 'file', 'id', 'model_name', 'patch_size', 'shape'])\n",
      "0186\n",
      "Starting Training\n",
      "epoch: 00, loss: -0.00005\n",
      "epoch: 01, loss: -0.00853\n",
      "epoch: 02, loss: -0.00605\n",
      "epoch: 03, loss: -0.00300\n",
      "epoch: 04, loss: -0.01101\n",
      "epoch: 05, loss: -0.01548\n",
      "epoch: 06, loss: -0.02237\n",
      "epoch: 07, loss: -0.01916\n",
      "epoch: 08, loss: -0.02660\n",
      "epoch: 09, loss: -0.02706\n",
      "torch.Size([625, 32])\n"
     ]
    },
    {
     "name": "stderr",
     "output_type": "stream",
     "text": [
      " 19%|█▊        | 186/1000 [1:29:41<9:33:34, 42.28s/it]"
     ]
    },
    {
     "name": "stdout",
     "output_type": "stream",
     "text": [
      "eigenvalues shape torch.Size([5]) eigenvectors shape torch.Size([5, 625])\n",
      "186 /home/phdcs2/Hard_Disk/Datasets/Deep-Spectral-Segmentation/data/object-segmentation/ECSSD/features/dino_vits16/0187.pth\n",
      "dict_keys(['k', 'indices', 'file', 'id', 'model_name', 'patch_size', 'shape'])\n",
      "0187\n",
      "Starting Training\n",
      "epoch: 00, loss: -0.00040\n",
      "epoch: 01, loss: -0.00857\n",
      "epoch: 02, loss: -0.01369\n",
      "epoch: 03, loss: -0.01672\n",
      "epoch: 04, loss: -0.01868\n",
      "epoch: 05, loss: -0.01959\n",
      "epoch: 06, loss: -0.02047\n",
      "epoch: 07, loss: -0.02085\n",
      "epoch: 08, loss: -0.02122\n",
      "epoch: 09, loss: -0.02160\n",
      "torch.Size([200, 32])\n"
     ]
    },
    {
     "name": "stderr",
     "output_type": "stream",
     "text": [
      " 19%|█▊        | 187/1000 [1:29:52<7:25:34, 32.88s/it]"
     ]
    },
    {
     "name": "stdout",
     "output_type": "stream",
     "text": [
      "eigenvalues shape torch.Size([5]) eigenvectors shape torch.Size([5, 200])\n",
      "187 /home/phdcs2/Hard_Disk/Datasets/Deep-Spectral-Segmentation/data/object-segmentation/ECSSD/features/dino_vits16/0188.pth\n",
      "dict_keys(['k', 'indices', 'file', 'id', 'model_name', 'patch_size', 'shape'])\n",
      "0188\n",
      "Starting Training\n",
      "epoch: 00, loss: 0.00887\n",
      "epoch: 01, loss: 0.00544\n",
      "epoch: 02, loss: 0.00356\n",
      "epoch: 03, loss: 0.00230\n",
      "epoch: 04, loss: 0.00126\n",
      "epoch: 05, loss: 0.00058\n",
      "epoch: 06, loss: 0.00016\n",
      "epoch: 07, loss: -0.00066\n",
      "epoch: 08, loss: -0.00094\n",
      "epoch: 09, loss: -0.00123\n",
      "torch.Size([400, 32])\n"
     ]
    },
    {
     "name": "stderr",
     "output_type": "stream",
     "text": [
      " 19%|█▉        | 188/1000 [1:30:18<6:56:26, 30.77s/it]"
     ]
    },
    {
     "name": "stdout",
     "output_type": "stream",
     "text": [
      "eigenvalues shape torch.Size([5]) eigenvectors shape torch.Size([5, 400])\n",
      "188 /home/phdcs2/Hard_Disk/Datasets/Deep-Spectral-Segmentation/data/object-segmentation/ECSSD/features/dino_vits16/0189.pth\n",
      "dict_keys(['k', 'indices', 'file', 'id', 'model_name', 'patch_size', 'shape'])\n",
      "0189\n",
      "Starting Training\n",
      "epoch: 00, loss: 0.00005\n",
      "epoch: 01, loss: 0.00007\n",
      "epoch: 02, loss: 0.00257\n",
      "epoch: 03, loss: -0.00532\n",
      "epoch: 04, loss: -0.01295\n",
      "epoch: 05, loss: -0.00290\n",
      "epoch: 06, loss: -0.02292\n",
      "epoch: 07, loss: -0.02546\n",
      "epoch: 08, loss: -0.00919\n",
      "epoch: 09, loss: -0.00024\n",
      "torch.Size([400, 32])\n"
     ]
    },
    {
     "name": "stderr",
     "output_type": "stream",
     "text": [
      " 19%|█▉        | 189/1000 [1:30:42<6:30:39, 28.90s/it]"
     ]
    },
    {
     "name": "stdout",
     "output_type": "stream",
     "text": [
      "eigenvalues shape torch.Size([5]) eigenvectors shape torch.Size([5, 400])\n",
      "189 /home/phdcs2/Hard_Disk/Datasets/Deep-Spectral-Segmentation/data/object-segmentation/ECSSD/features/dino_vits16/0190.pth\n",
      "dict_keys(['k', 'indices', 'file', 'id', 'model_name', 'patch_size', 'shape'])\n",
      "0190\n",
      "Starting Training\n",
      "epoch: 00, loss: -0.01407\n",
      "epoch: 01, loss: -0.03403\n",
      "epoch: 02, loss: -0.04536\n",
      "epoch: 03, loss: -0.09149\n",
      "epoch: 04, loss: -0.11135\n",
      "epoch: 05, loss: -0.12731\n",
      "epoch: 06, loss: -0.13318\n",
      "epoch: 07, loss: -0.13890\n",
      "epoch: 08, loss: -0.14786\n",
      "epoch: 09, loss: -0.15929\n",
      "torch.Size([450, 32])\n"
     ]
    },
    {
     "name": "stderr",
     "output_type": "stream",
     "text": [
      " 19%|█▉        | 190/1000 [1:31:11<6:29:50, 28.88s/it]"
     ]
    },
    {
     "name": "stdout",
     "output_type": "stream",
     "text": [
      "eigenvalues shape torch.Size([5]) eigenvectors shape torch.Size([5, 450])\n",
      "190 /home/phdcs2/Hard_Disk/Datasets/Deep-Spectral-Segmentation/data/object-segmentation/ECSSD/features/dino_vits16/0191.pth\n",
      "dict_keys(['k', 'indices', 'file', 'id', 'model_name', 'patch_size', 'shape'])\n",
      "0191\n",
      "Starting Training\n",
      "epoch: 00, loss: 0.01094\n",
      "epoch: 01, loss: 0.00153\n",
      "epoch: 02, loss: 0.00028\n",
      "epoch: 03, loss: -0.00249\n",
      "epoch: 04, loss: -0.00805\n",
      "epoch: 05, loss: -0.00645\n",
      "epoch: 06, loss: -0.00389\n",
      "epoch: 07, loss: -0.01504\n",
      "epoch: 08, loss: -0.00608\n",
      "epoch: 09, loss: -0.00416\n",
      "torch.Size([450, 32])\n"
     ]
    },
    {
     "name": "stderr",
     "output_type": "stream",
     "text": [
      " 19%|█▉        | 191/1000 [1:31:49<7:07:52, 31.73s/it]"
     ]
    },
    {
     "name": "stdout",
     "output_type": "stream",
     "text": [
      "eigenvalues shape torch.Size([5]) eigenvectors shape torch.Size([5, 450])\n",
      "191 /home/phdcs2/Hard_Disk/Datasets/Deep-Spectral-Segmentation/data/object-segmentation/ECSSD/features/dino_vits16/0192.pth\n",
      "dict_keys(['k', 'indices', 'file', 'id', 'model_name', 'patch_size', 'shape'])\n",
      "0192\n",
      "Starting Training\n",
      "epoch: 00, loss: 0.01202\n",
      "epoch: 01, loss: 0.00572\n",
      "epoch: 02, loss: 0.00247\n",
      "epoch: 03, loss: -0.00083\n",
      "epoch: 04, loss: -0.00282\n",
      "epoch: 05, loss: -0.00421\n",
      "epoch: 06, loss: -0.00450\n",
      "epoch: 07, loss: -0.00544\n",
      "epoch: 08, loss: -0.00595\n",
      "epoch: 09, loss: -0.00871\n",
      "torch.Size([400, 32])\n"
     ]
    },
    {
     "name": "stderr",
     "output_type": "stream",
     "text": [
      " 19%|█▉        | 192/1000 [1:32:22<7:12:37, 32.13s/it]"
     ]
    },
    {
     "name": "stdout",
     "output_type": "stream",
     "text": [
      "eigenvalues shape torch.Size([5]) eigenvectors shape torch.Size([5, 400])\n",
      "192 /home/phdcs2/Hard_Disk/Datasets/Deep-Spectral-Segmentation/data/object-segmentation/ECSSD/features/dino_vits16/0193.pth\n",
      "dict_keys(['k', 'indices', 'file', 'id', 'model_name', 'patch_size', 'shape'])\n",
      "0193\n",
      "Starting Training\n",
      "epoch: 00, loss: -0.00147\n",
      "epoch: 01, loss: 0.00925\n",
      "epoch: 02, loss: -0.01558\n",
      "epoch: 03, loss: 0.00364\n",
      "epoch: 04, loss: -0.00631\n",
      "epoch: 05, loss: -0.00361\n",
      "epoch: 06, loss: -0.00272\n",
      "epoch: 07, loss: -0.00907\n",
      "epoch: 08, loss: -0.00223\n",
      "epoch: 09, loss: -0.02610\n",
      "torch.Size([450, 32])\n"
     ]
    },
    {
     "name": "stderr",
     "output_type": "stream",
     "text": [
      " 19%|█▉        | 193/1000 [1:32:50<6:54:44, 30.84s/it]"
     ]
    },
    {
     "name": "stdout",
     "output_type": "stream",
     "text": [
      "eigenvalues shape torch.Size([5]) eigenvectors shape torch.Size([5, 450])\n",
      "193 /home/phdcs2/Hard_Disk/Datasets/Deep-Spectral-Segmentation/data/object-segmentation/ECSSD/features/dino_vits16/0194.pth\n",
      "dict_keys(['k', 'indices', 'file', 'id', 'model_name', 'patch_size', 'shape'])\n",
      "0194\n",
      "Starting Training\n",
      "epoch: 00, loss: 0.00596\n",
      "epoch: 01, loss: 0.00146\n",
      "epoch: 02, loss: -0.00057\n",
      "epoch: 03, loss: -0.00231\n",
      "epoch: 04, loss: -0.00316\n",
      "epoch: 05, loss: -0.00405\n",
      "epoch: 06, loss: -0.00466\n",
      "epoch: 07, loss: -0.00511\n",
      "epoch: 08, loss: -0.00551\n",
      "epoch: 09, loss: -0.00578\n",
      "torch.Size([450, 32])\n"
     ]
    },
    {
     "name": "stderr",
     "output_type": "stream",
     "text": [
      " 19%|█▉        | 194/1000 [1:33:19<6:45:54, 30.22s/it]"
     ]
    },
    {
     "name": "stdout",
     "output_type": "stream",
     "text": [
      "eigenvalues shape torch.Size([5]) eigenvectors shape torch.Size([5, 450])\n",
      "194 /home/phdcs2/Hard_Disk/Datasets/Deep-Spectral-Segmentation/data/object-segmentation/ECSSD/features/dino_vits16/0195.pth\n",
      "dict_keys(['k', 'indices', 'file', 'id', 'model_name', 'patch_size', 'shape'])\n",
      "0195\n",
      "Starting Training\n",
      "epoch: 00, loss: 0.00591\n",
      "epoch: 01, loss: 0.00330\n",
      "epoch: 02, loss: 0.00133\n",
      "epoch: 03, loss: -0.00004\n",
      "epoch: 04, loss: -0.00089\n",
      "epoch: 05, loss: -0.00167\n",
      "epoch: 06, loss: -0.00222\n",
      "epoch: 07, loss: -0.00256\n",
      "epoch: 08, loss: -0.00295\n",
      "epoch: 09, loss: -0.00334\n",
      "torch.Size([400, 32])\n"
     ]
    },
    {
     "name": "stderr",
     "output_type": "stream",
     "text": [
      " 20%|█▉        | 195/1000 [1:33:43<6:21:41, 28.45s/it]"
     ]
    },
    {
     "name": "stdout",
     "output_type": "stream",
     "text": [
      "eigenvalues shape torch.Size([5]) eigenvectors shape torch.Size([5, 400])\n",
      "195 /home/phdcs2/Hard_Disk/Datasets/Deep-Spectral-Segmentation/data/object-segmentation/ECSSD/features/dino_vits16/0196.pth\n",
      "dict_keys(['k', 'indices', 'file', 'id', 'model_name', 'patch_size', 'shape'])\n",
      "0196\n",
      "Starting Training\n",
      "epoch: 00, loss: -0.00399\n",
      "epoch: 01, loss: -0.00474\n",
      "epoch: 02, loss: 0.00590\n",
      "epoch: 03, loss: -0.01094\n",
      "epoch: 04, loss: 0.00557\n",
      "epoch: 05, loss: -0.02372\n",
      "epoch: 06, loss: -0.01834\n",
      "epoch: 07, loss: -0.01944\n",
      "epoch: 08, loss: -0.01471\n",
      "epoch: 09, loss: -0.01773\n",
      "torch.Size([625, 32])\n"
     ]
    },
    {
     "name": "stderr",
     "output_type": "stream",
     "text": [
      " 20%|█▉        | 196/1000 [1:34:31<7:36:24, 34.06s/it]"
     ]
    },
    {
     "name": "stdout",
     "output_type": "stream",
     "text": [
      "eigenvalues shape torch.Size([5]) eigenvectors shape torch.Size([5, 625])\n",
      "196 /home/phdcs2/Hard_Disk/Datasets/Deep-Spectral-Segmentation/data/object-segmentation/ECSSD/features/dino_vits16/0197.pth\n",
      "dict_keys(['k', 'indices', 'file', 'id', 'model_name', 'patch_size', 'shape'])\n",
      "0197\n",
      "Starting Training\n",
      "epoch: 00, loss: -0.00350\n",
      "epoch: 01, loss: -0.01744\n",
      "epoch: 02, loss: -0.00396\n",
      "epoch: 03, loss: -0.00916\n",
      "epoch: 04, loss: -0.01415\n",
      "epoch: 05, loss: -0.00873\n",
      "epoch: 06, loss: -0.00427\n",
      "epoch: 07, loss: -0.00949\n",
      "epoch: 08, loss: -0.02365\n",
      "epoch: 09, loss: -0.00539\n",
      "torch.Size([400, 32])\n"
     ]
    },
    {
     "name": "stderr",
     "output_type": "stream",
     "text": [
      " 20%|█▉        | 197/1000 [1:35:04<7:32:37, 33.82s/it]"
     ]
    },
    {
     "name": "stdout",
     "output_type": "stream",
     "text": [
      "eigenvalues shape torch.Size([5]) eigenvectors shape torch.Size([5, 400])\n",
      "197 /home/phdcs2/Hard_Disk/Datasets/Deep-Spectral-Segmentation/data/object-segmentation/ECSSD/features/dino_vits16/0198.pth\n",
      "dict_keys(['k', 'indices', 'file', 'id', 'model_name', 'patch_size', 'shape'])\n",
      "0198\n",
      "Starting Training\n",
      "epoch: 00, loss: 0.00521\n",
      "epoch: 01, loss: 0.00123\n",
      "epoch: 02, loss: -0.00131\n",
      "epoch: 03, loss: -0.00273\n",
      "epoch: 04, loss: -0.00368\n",
      "epoch: 05, loss: -0.00499\n",
      "epoch: 06, loss: -0.00522\n",
      "epoch: 07, loss: -0.00630\n",
      "epoch: 08, loss: -0.00611\n",
      "epoch: 09, loss: -0.00606\n",
      "torch.Size([425, 32])\n"
     ]
    },
    {
     "name": "stderr",
     "output_type": "stream",
     "text": [
      " 20%|█▉        | 198/1000 [1:35:32<7:08:12, 32.04s/it]"
     ]
    },
    {
     "name": "stdout",
     "output_type": "stream",
     "text": [
      "eigenvalues shape torch.Size([5]) eigenvectors shape torch.Size([5, 425])\n",
      "198 /home/phdcs2/Hard_Disk/Datasets/Deep-Spectral-Segmentation/data/object-segmentation/ECSSD/features/dino_vits16/0199.pth\n",
      "dict_keys(['k', 'indices', 'file', 'id', 'model_name', 'patch_size', 'shape'])\n",
      "0199\n",
      "Starting Training\n",
      "epoch: 00, loss: -0.00594\n",
      "epoch: 01, loss: 0.00527\n",
      "epoch: 02, loss: -0.00246\n",
      "epoch: 03, loss: -0.00948\n",
      "epoch: 04, loss: -0.00371\n",
      "epoch: 05, loss: 0.00128\n",
      "epoch: 06, loss: -0.00389\n",
      "epoch: 07, loss: -0.00635\n",
      "epoch: 08, loss: -0.01018\n",
      "epoch: 09, loss: -0.01693\n",
      "torch.Size([450, 32])\n"
     ]
    },
    {
     "name": "stderr",
     "output_type": "stream",
     "text": [
      " 20%|█▉        | 199/1000 [1:36:00<6:54:15, 31.03s/it]"
     ]
    },
    {
     "name": "stdout",
     "output_type": "stream",
     "text": [
      "eigenvalues shape torch.Size([5]) eigenvectors shape torch.Size([5, 450])\n",
      "199 /home/phdcs2/Hard_Disk/Datasets/Deep-Spectral-Segmentation/data/object-segmentation/ECSSD/features/dino_vits16/0200.pth\n",
      "dict_keys(['k', 'indices', 'file', 'id', 'model_name', 'patch_size', 'shape'])\n",
      "0200\n",
      "Starting Training\n",
      "epoch: 00, loss: 0.00071\n",
      "epoch: 01, loss: 0.00095\n",
      "epoch: 02, loss: 0.00714\n",
      "epoch: 03, loss: -0.00530\n",
      "epoch: 04, loss: -0.01182\n",
      "epoch: 05, loss: 0.00111\n",
      "epoch: 06, loss: -0.00539\n",
      "epoch: 07, loss: -0.00603\n",
      "epoch: 08, loss: -0.01152\n",
      "epoch: 09, loss: -0.01074\n",
      "torch.Size([450, 32])\n"
     ]
    },
    {
     "name": "stderr",
     "output_type": "stream",
     "text": [
      " 20%|██        | 200/1000 [1:36:29<6:43:39, 30.27s/it]"
     ]
    },
    {
     "name": "stdout",
     "output_type": "stream",
     "text": [
      "eigenvalues shape torch.Size([5]) eigenvectors shape torch.Size([5, 450])\n",
      "200 /home/phdcs2/Hard_Disk/Datasets/Deep-Spectral-Segmentation/data/object-segmentation/ECSSD/features/dino_vits16/0201.pth\n",
      "dict_keys(['k', 'indices', 'file', 'id', 'model_name', 'patch_size', 'shape'])\n",
      "0201\n",
      "Starting Training\n",
      "epoch: 00, loss: 0.00993\n",
      "epoch: 01, loss: 0.00267\n",
      "epoch: 02, loss: -0.00189\n",
      "epoch: 03, loss: -0.00404\n",
      "epoch: 04, loss: -0.00557\n",
      "epoch: 05, loss: -0.00722\n",
      "epoch: 06, loss: -0.00741\n",
      "epoch: 07, loss: -0.00771\n",
      "epoch: 08, loss: -0.00943\n",
      "epoch: 09, loss: -0.00986\n",
      "torch.Size([425, 32])\n"
     ]
    },
    {
     "name": "stderr",
     "output_type": "stream",
     "text": [
      " 20%|██        | 201/1000 [1:37:05<7:06:34, 32.03s/it]"
     ]
    },
    {
     "name": "stdout",
     "output_type": "stream",
     "text": [
      "eigenvalues shape torch.Size([5]) eigenvectors shape torch.Size([5, 425])\n",
      "201 /home/phdcs2/Hard_Disk/Datasets/Deep-Spectral-Segmentation/data/object-segmentation/ECSSD/features/dino_vits16/0202.pth\n",
      "dict_keys(['k', 'indices', 'file', 'id', 'model_name', 'patch_size', 'shape'])\n",
      "0202\n",
      "Starting Training\n",
      "epoch: 00, loss: 0.00636\n",
      "epoch: 01, loss: 0.00243\n",
      "epoch: 02, loss: -0.00102\n",
      "epoch: 03, loss: -0.00131\n",
      "epoch: 04, loss: -0.00225\n",
      "epoch: 05, loss: -0.00322\n",
      "epoch: 06, loss: -0.00453\n",
      "epoch: 07, loss: -0.00425\n",
      "epoch: 08, loss: -0.00482\n",
      "epoch: 09, loss: -0.00517\n",
      "torch.Size([400, 32])\n"
     ]
    },
    {
     "name": "stderr",
     "output_type": "stream",
     "text": [
      " 20%|██        | 202/1000 [1:37:29<6:35:49, 29.76s/it]"
     ]
    },
    {
     "name": "stdout",
     "output_type": "stream",
     "text": [
      "eigenvalues shape torch.Size([5]) eigenvectors shape torch.Size([5, 400])\n",
      "202 /home/phdcs2/Hard_Disk/Datasets/Deep-Spectral-Segmentation/data/object-segmentation/ECSSD/features/dino_vits16/0203.pth\n",
      "dict_keys(['k', 'indices', 'file', 'id', 'model_name', 'patch_size', 'shape'])\n",
      "0203\n",
      "Starting Training\n",
      "epoch: 00, loss: 0.00883\n",
      "epoch: 01, loss: 0.00252\n",
      "epoch: 02, loss: -0.00125\n",
      "epoch: 03, loss: -0.00378\n",
      "epoch: 04, loss: -0.00556\n",
      "epoch: 05, loss: -0.00663\n",
      "epoch: 06, loss: -0.00749\n",
      "epoch: 07, loss: -0.00826\n",
      "epoch: 08, loss: -0.00874\n",
      "epoch: 09, loss: -0.00915\n",
      "torch.Size([400, 32])\n"
     ]
    },
    {
     "name": "stderr",
     "output_type": "stream",
     "text": [
      " 20%|██        | 203/1000 [1:38:03<6:49:26, 30.82s/it]"
     ]
    },
    {
     "name": "stdout",
     "output_type": "stream",
     "text": [
      "eigenvalues shape torch.Size([5]) eigenvectors shape torch.Size([5, 400])\n",
      "203 /home/phdcs2/Hard_Disk/Datasets/Deep-Spectral-Segmentation/data/object-segmentation/ECSSD/features/dino_vits16/0204.pth\n",
      "dict_keys(['k', 'indices', 'file', 'id', 'model_name', 'patch_size', 'shape'])\n",
      "0204\n",
      "Starting Training\n",
      "epoch: 00, loss: 0.00914\n",
      "epoch: 01, loss: -0.01162\n",
      "epoch: 02, loss: -0.00291\n",
      "epoch: 03, loss: -0.01681\n",
      "epoch: 04, loss: 0.02459\n",
      "epoch: 05, loss: 0.00908\n",
      "epoch: 06, loss: -0.01084\n",
      "epoch: 07, loss: -0.00715\n",
      "epoch: 08, loss: -0.00606\n",
      "epoch: 09, loss: -0.01082\n",
      "torch.Size([450, 32])\n"
     ]
    },
    {
     "name": "stderr",
     "output_type": "stream",
     "text": [
      " 20%|██        | 204/1000 [1:38:28<6:28:28, 29.28s/it]"
     ]
    },
    {
     "name": "stdout",
     "output_type": "stream",
     "text": [
      "eigenvalues shape torch.Size([5]) eigenvectors shape torch.Size([5, 450])\n",
      "204 /home/phdcs2/Hard_Disk/Datasets/Deep-Spectral-Segmentation/data/object-segmentation/ECSSD/features/dino_vits16/0205.pth\n",
      "dict_keys(['k', 'indices', 'file', 'id', 'model_name', 'patch_size', 'shape'])\n",
      "0205\n",
      "Starting Training\n",
      "epoch: 00, loss: -0.00748\n",
      "epoch: 01, loss: -0.00324\n",
      "epoch: 02, loss: -0.00101\n",
      "epoch: 03, loss: -0.03312\n",
      "epoch: 04, loss: 0.01871\n",
      "epoch: 05, loss: -0.01118\n",
      "epoch: 06, loss: 0.00615\n",
      "epoch: 07, loss: 0.00077\n",
      "epoch: 08, loss: 0.00268\n",
      "epoch: 09, loss: 0.00121\n",
      "torch.Size([450, 32])\n"
     ]
    },
    {
     "name": "stderr",
     "output_type": "stream",
     "text": [
      " 20%|██        | 205/1000 [1:38:57<6:25:30, 29.09s/it]"
     ]
    },
    {
     "name": "stdout",
     "output_type": "stream",
     "text": [
      "eigenvalues shape torch.Size([5]) eigenvectors shape torch.Size([5, 450])\n",
      "205 /home/phdcs2/Hard_Disk/Datasets/Deep-Spectral-Segmentation/data/object-segmentation/ECSSD/features/dino_vits16/0206.pth\n",
      "dict_keys(['k', 'indices', 'file', 'id', 'model_name', 'patch_size', 'shape'])\n",
      "0206\n",
      "Starting Training\n",
      "epoch: 00, loss: 0.00928\n",
      "epoch: 01, loss: 0.00222\n",
      "epoch: 02, loss: -0.00031\n",
      "epoch: 03, loss: -0.00212\n",
      "epoch: 04, loss: -0.00369\n",
      "epoch: 05, loss: -0.00457\n",
      "epoch: 06, loss: -0.00519\n",
      "epoch: 07, loss: -0.00582\n",
      "epoch: 08, loss: -0.00632\n",
      "epoch: 09, loss: -0.00665\n",
      "torch.Size([400, 32])\n"
     ]
    },
    {
     "name": "stderr",
     "output_type": "stream",
     "text": [
      " 21%|██        | 206/1000 [1:39:21<6:05:50, 27.65s/it]"
     ]
    },
    {
     "name": "stdout",
     "output_type": "stream",
     "text": [
      "eigenvalues shape torch.Size([5]) eigenvectors shape torch.Size([5, 400])\n",
      "206 /home/phdcs2/Hard_Disk/Datasets/Deep-Spectral-Segmentation/data/object-segmentation/ECSSD/features/dino_vits16/0207.pth\n",
      "dict_keys(['k', 'indices', 'file', 'id', 'model_name', 'patch_size', 'shape'])\n",
      "0207\n",
      "Starting Training\n",
      "epoch: 00, loss: 0.01257\n",
      "epoch: 01, loss: 0.00608\n",
      "epoch: 02, loss: 0.00218\n",
      "epoch: 03, loss: -0.00088\n",
      "epoch: 04, loss: -0.00279\n",
      "epoch: 05, loss: -0.00446\n",
      "epoch: 06, loss: -0.00561\n",
      "epoch: 07, loss: -0.00652\n",
      "epoch: 08, loss: -0.00727\n",
      "epoch: 09, loss: -0.00793\n",
      "torch.Size([400, 32])\n"
     ]
    },
    {
     "name": "stderr",
     "output_type": "stream",
     "text": [
      " 21%|██        | 207/1000 [1:39:53<6:22:47, 28.96s/it]"
     ]
    },
    {
     "name": "stdout",
     "output_type": "stream",
     "text": [
      "eigenvalues shape torch.Size([5]) eigenvectors shape torch.Size([5, 400])\n",
      "207 /home/phdcs2/Hard_Disk/Datasets/Deep-Spectral-Segmentation/data/object-segmentation/ECSSD/features/dino_vits16/0208.pth\n",
      "dict_keys(['k', 'indices', 'file', 'id', 'model_name', 'patch_size', 'shape'])\n",
      "0208\n",
      "Starting Training\n",
      "epoch: 00, loss: 0.00917\n",
      "epoch: 01, loss: 0.00229\n",
      "epoch: 02, loss: -0.00180\n",
      "epoch: 03, loss: -0.00414\n",
      "epoch: 04, loss: -0.00575\n",
      "epoch: 05, loss: -0.00702\n",
      "epoch: 06, loss: -0.00769\n",
      "epoch: 07, loss: -0.00837\n",
      "epoch: 08, loss: -0.00876\n",
      "epoch: 09, loss: -0.00912\n",
      "torch.Size([450, 32])\n"
     ]
    },
    {
     "name": "stderr",
     "output_type": "stream",
     "text": [
      " 21%|██        | 208/1000 [1:40:23<6:26:16, 29.26s/it]"
     ]
    },
    {
     "name": "stdout",
     "output_type": "stream",
     "text": [
      "eigenvalues shape torch.Size([5]) eigenvectors shape torch.Size([5, 450])\n",
      "208 /home/phdcs2/Hard_Disk/Datasets/Deep-Spectral-Segmentation/data/object-segmentation/ECSSD/features/dino_vits16/0209.pth\n",
      "dict_keys(['k', 'indices', 'file', 'id', 'model_name', 'patch_size', 'shape'])\n",
      "0209\n",
      "Starting Training\n",
      "epoch: 00, loss: 0.00286\n",
      "epoch: 01, loss: -0.00271\n",
      "epoch: 02, loss: -0.00350\n",
      "epoch: 03, loss: 0.00245\n",
      "epoch: 04, loss: 0.01374\n",
      "epoch: 05, loss: -0.02321\n",
      "epoch: 06, loss: -0.00631\n",
      "epoch: 07, loss: -0.00835\n",
      "epoch: 08, loss: 0.01170\n",
      "epoch: 09, loss: -0.00336\n",
      "torch.Size([500, 32])\n"
     ]
    },
    {
     "name": "stderr",
     "output_type": "stream",
     "text": [
      " 21%|██        | 209/1000 [1:40:56<6:41:02, 30.42s/it]"
     ]
    },
    {
     "name": "stdout",
     "output_type": "stream",
     "text": [
      "eigenvalues shape torch.Size([5]) eigenvectors shape torch.Size([5, 500])\n",
      "209 /home/phdcs2/Hard_Disk/Datasets/Deep-Spectral-Segmentation/data/object-segmentation/ECSSD/features/dino_vits16/0210.pth\n",
      "dict_keys(['k', 'indices', 'file', 'id', 'model_name', 'patch_size', 'shape'])\n",
      "0210\n",
      "Starting Training\n",
      "epoch: 00, loss: 0.00782\n",
      "epoch: 01, loss: 0.00303\n",
      "epoch: 02, loss: -0.00128\n",
      "epoch: 03, loss: -0.00265\n",
      "epoch: 04, loss: -0.01110\n",
      "epoch: 05, loss: -0.00129\n",
      "epoch: 06, loss: -0.00939\n",
      "epoch: 07, loss: -0.01232\n",
      "epoch: 08, loss: -0.00898\n",
      "epoch: 09, loss: -0.01088\n",
      "torch.Size([425, 32])\n"
     ]
    },
    {
     "name": "stderr",
     "output_type": "stream",
     "text": [
      " 21%|██        | 210/1000 [1:41:21<6:19:02, 28.79s/it]"
     ]
    },
    {
     "name": "stdout",
     "output_type": "stream",
     "text": [
      "eigenvalues shape torch.Size([5]) eigenvectors shape torch.Size([5, 425])\n",
      "210 /home/phdcs2/Hard_Disk/Datasets/Deep-Spectral-Segmentation/data/object-segmentation/ECSSD/features/dino_vits16/0211.pth\n",
      "dict_keys(['k', 'indices', 'file', 'id', 'model_name', 'patch_size', 'shape'])\n",
      "0211\n",
      "Starting Training\n",
      "epoch: 00, loss: 0.00380\n",
      "epoch: 01, loss: 0.00167\n",
      "epoch: 02, loss: 0.00611\n",
      "epoch: 03, loss: 0.00242\n",
      "epoch: 04, loss: -0.00051\n",
      "epoch: 05, loss: -0.00055\n",
      "epoch: 06, loss: -0.00429\n",
      "epoch: 07, loss: -0.00578\n",
      "epoch: 08, loss: 0.00132\n",
      "epoch: 09, loss: -0.00727\n",
      "torch.Size([500, 32])\n"
     ]
    },
    {
     "name": "stderr",
     "output_type": "stream",
     "text": [
      " 21%|██        | 211/1000 [1:42:09<7:30:57, 34.29s/it]"
     ]
    },
    {
     "name": "stdout",
     "output_type": "stream",
     "text": [
      "eigenvalues shape torch.Size([5]) eigenvectors shape torch.Size([5, 500])\n",
      "211 /home/phdcs2/Hard_Disk/Datasets/Deep-Spectral-Segmentation/data/object-segmentation/ECSSD/features/dino_vits16/0212.pth\n",
      "dict_keys(['k', 'indices', 'file', 'id', 'model_name', 'patch_size', 'shape'])\n",
      "0212\n",
      "Starting Training\n",
      "epoch: 00, loss: 0.00467\n",
      "epoch: 01, loss: -0.00906\n",
      "epoch: 02, loss: -0.01646\n",
      "epoch: 03, loss: -0.01057\n",
      "epoch: 04, loss: -0.01739\n",
      "epoch: 05, loss: -0.01871\n",
      "epoch: 06, loss: -0.01842\n",
      "epoch: 07, loss: -0.03704\n",
      "epoch: 08, loss: -0.04417\n",
      "epoch: 09, loss: -0.02934\n",
      "torch.Size([625, 32])\n"
     ]
    },
    {
     "name": "stderr",
     "output_type": "stream",
     "text": [
      " 21%|██        | 212/1000 [1:42:56<8:21:21, 38.17s/it]"
     ]
    },
    {
     "name": "stdout",
     "output_type": "stream",
     "text": [
      "eigenvalues shape torch.Size([5]) eigenvectors shape torch.Size([5, 625])\n",
      "212 /home/phdcs2/Hard_Disk/Datasets/Deep-Spectral-Segmentation/data/object-segmentation/ECSSD/features/dino_vits16/0213.pth\n",
      "dict_keys(['k', 'indices', 'file', 'id', 'model_name', 'patch_size', 'shape'])\n",
      "0213\n",
      "Starting Training\n",
      "epoch: 00, loss: 0.01102\n",
      "epoch: 01, loss: 0.00616\n",
      "epoch: 02, loss: 0.00860\n",
      "epoch: 03, loss: -0.01102\n",
      "epoch: 04, loss: -0.00995\n",
      "epoch: 05, loss: -0.00483\n",
      "epoch: 06, loss: -0.00578\n",
      "epoch: 07, loss: -0.00227\n",
      "epoch: 08, loss: -0.01116\n",
      "epoch: 09, loss: -0.01409\n",
      "torch.Size([450, 32])\n"
     ]
    },
    {
     "name": "stderr",
     "output_type": "stream",
     "text": [
      " 21%|██▏       | 213/1000 [1:43:25<7:43:46, 35.36s/it]"
     ]
    },
    {
     "name": "stdout",
     "output_type": "stream",
     "text": [
      "eigenvalues shape torch.Size([5]) eigenvectors shape torch.Size([5, 450])\n",
      "213 /home/phdcs2/Hard_Disk/Datasets/Deep-Spectral-Segmentation/data/object-segmentation/ECSSD/features/dino_vits16/0214.pth\n",
      "dict_keys(['k', 'indices', 'file', 'id', 'model_name', 'patch_size', 'shape'])\n",
      "0214\n",
      "Starting Training\n",
      "epoch: 00, loss: 0.00614\n",
      "epoch: 01, loss: -0.00112\n",
      "epoch: 02, loss: -0.00477\n",
      "epoch: 03, loss: -0.00647\n",
      "epoch: 04, loss: -0.01010\n",
      "epoch: 05, loss: -0.00945\n",
      "epoch: 06, loss: -0.00983\n",
      "epoch: 07, loss: -0.01154\n",
      "epoch: 08, loss: -0.01192\n",
      "epoch: 09, loss: -0.01263\n",
      "torch.Size([350, 32])\n"
     ]
    },
    {
     "name": "stderr",
     "output_type": "stream",
     "text": [
      " 21%|██▏       | 214/1000 [1:43:52<7:13:06, 33.06s/it]"
     ]
    },
    {
     "name": "stdout",
     "output_type": "stream",
     "text": [
      "eigenvalues shape torch.Size([5]) eigenvectors shape torch.Size([5, 350])\n",
      "214 /home/phdcs2/Hard_Disk/Datasets/Deep-Spectral-Segmentation/data/object-segmentation/ECSSD/features/dino_vits16/0215.pth\n",
      "dict_keys(['k', 'indices', 'file', 'id', 'model_name', 'patch_size', 'shape'])\n",
      "0215\n",
      "Starting Training\n",
      "epoch: 00, loss: -0.00531\n",
      "epoch: 01, loss: 0.00016\n",
      "epoch: 02, loss: 0.01267\n",
      "epoch: 03, loss: 0.00468\n",
      "epoch: 04, loss: -0.00167\n",
      "epoch: 05, loss: -0.00160\n",
      "epoch: 06, loss: 0.00222\n",
      "epoch: 07, loss: 0.00657\n",
      "epoch: 08, loss: 0.00677\n",
      "epoch: 09, loss: -0.00919\n",
      "torch.Size([425, 32])\n"
     ]
    },
    {
     "name": "stderr",
     "output_type": "stream",
     "text": [
      " 22%|██▏       | 215/1000 [1:44:19<6:49:15, 31.28s/it]"
     ]
    },
    {
     "name": "stdout",
     "output_type": "stream",
     "text": [
      "eigenvalues shape torch.Size([5]) eigenvectors shape torch.Size([5, 425])\n",
      "215 /home/phdcs2/Hard_Disk/Datasets/Deep-Spectral-Segmentation/data/object-segmentation/ECSSD/features/dino_vits16/0216.pth\n",
      "dict_keys(['k', 'indices', 'file', 'id', 'model_name', 'patch_size', 'shape'])\n",
      "0216\n",
      "Starting Training\n",
      "epoch: 00, loss: 0.00944\n",
      "epoch: 01, loss: 0.00140\n",
      "epoch: 02, loss: -0.00318\n",
      "epoch: 03, loss: -0.00587\n",
      "epoch: 04, loss: -0.00795\n",
      "epoch: 05, loss: -0.00910\n",
      "epoch: 06, loss: -0.01006\n",
      "epoch: 07, loss: -0.01056\n",
      "epoch: 08, loss: -0.01119\n",
      "epoch: 09, loss: -0.01139\n",
      "torch.Size([450, 32])\n"
     ]
    },
    {
     "name": "stderr",
     "output_type": "stream",
     "text": [
      " 22%|██▏       | 216/1000 [1:44:48<6:39:36, 30.58s/it]"
     ]
    },
    {
     "name": "stdout",
     "output_type": "stream",
     "text": [
      "eigenvalues shape torch.Size([5]) eigenvectors shape torch.Size([5, 450])\n",
      "216 /home/phdcs2/Hard_Disk/Datasets/Deep-Spectral-Segmentation/data/object-segmentation/ECSSD/features/dino_vits16/0217.pth\n",
      "dict_keys(['k', 'indices', 'file', 'id', 'model_name', 'patch_size', 'shape'])\n",
      "0217\n",
      "Starting Training\n",
      "epoch: 00, loss: -0.00040\n",
      "epoch: 01, loss: -0.00796\n",
      "epoch: 02, loss: -0.00319\n",
      "epoch: 03, loss: -0.00498\n",
      "epoch: 04, loss: 0.00122\n",
      "epoch: 05, loss: -0.00993\n",
      "epoch: 06, loss: -0.02207\n",
      "epoch: 07, loss: -0.00777\n",
      "epoch: 08, loss: 0.00482\n",
      "epoch: 09, loss: -0.01381\n",
      "torch.Size([450, 32])\n"
     ]
    },
    {
     "name": "stderr",
     "output_type": "stream",
     "text": [
      " 22%|██▏       | 217/1000 [1:45:17<6:29:34, 29.85s/it]"
     ]
    },
    {
     "name": "stdout",
     "output_type": "stream",
     "text": [
      "eigenvalues shape torch.Size([5]) eigenvectors shape torch.Size([5, 450])\n",
      "217 /home/phdcs2/Hard_Disk/Datasets/Deep-Spectral-Segmentation/data/object-segmentation/ECSSD/features/dino_vits16/0218.pth\n",
      "dict_keys(['k', 'indices', 'file', 'id', 'model_name', 'patch_size', 'shape'])\n",
      "0218\n",
      "Starting Training\n",
      "epoch: 00, loss: 0.00147\n",
      "epoch: 01, loss: -0.00234\n",
      "epoch: 02, loss: -0.00542\n",
      "epoch: 03, loss: -0.00417\n",
      "epoch: 04, loss: -0.01697\n",
      "epoch: 05, loss: -0.01089\n",
      "epoch: 06, loss: -0.00522\n",
      "epoch: 07, loss: -0.02524\n",
      "epoch: 08, loss: -0.00871\n",
      "epoch: 09, loss: -0.02039\n",
      "torch.Size([500, 32])\n"
     ]
    },
    {
     "name": "stderr",
     "output_type": "stream",
     "text": [
      " 22%|██▏       | 218/1000 [1:45:51<6:48:36, 31.35s/it]"
     ]
    },
    {
     "name": "stdout",
     "output_type": "stream",
     "text": [
      "eigenvalues shape torch.Size([5]) eigenvectors shape torch.Size([5, 500])\n",
      "218 /home/phdcs2/Hard_Disk/Datasets/Deep-Spectral-Segmentation/data/object-segmentation/ECSSD/features/dino_vits16/0219.pth\n",
      "dict_keys(['k', 'indices', 'file', 'id', 'model_name', 'patch_size', 'shape'])\n",
      "0219\n",
      "Starting Training\n",
      "epoch: 00, loss: 0.00664\n",
      "epoch: 01, loss: 0.00088\n",
      "epoch: 02, loss: -0.00184\n",
      "epoch: 03, loss: -0.00365\n",
      "epoch: 04, loss: -0.00474\n",
      "epoch: 05, loss: -0.00526\n",
      "epoch: 06, loss: -0.00591\n",
      "epoch: 07, loss: -0.00641\n",
      "epoch: 07, loss: -0.00641\n",
      "epoch: 08, loss: -0.00684\n",
      "epoch: 09, loss: -0.00722\n",
      "torch.Size([450, 32])\n"
     ]
    },
    {
     "name": "stderr",
     "output_type": "stream",
     "text": [
      " 22%|██▏       | 219/1000 [1:46:30<7:17:55, 33.64s/it]"
     ]
    },
    {
     "name": "stdout",
     "output_type": "stream",
     "text": [
      "eigenvalues shape torch.Size([5]) eigenvectors shape torch.Size([5, 450])\n",
      "219 /home/phdcs2/Hard_Disk/Datasets/Deep-Spectral-Segmentation/data/object-segmentation/ECSSD/features/dino_vits16/0220.pth\n",
      "dict_keys(['k', 'indices', 'file', 'id', 'model_name', 'patch_size', 'shape'])\n",
      "0220\n",
      "Starting Training\n",
      "epoch: 00, loss: 0.00787\n",
      "epoch: 01, loss: 0.00141\n",
      "epoch: 02, loss: -0.00121\n",
      "epoch: 03, loss: -0.00301\n",
      "epoch: 04, loss: -0.00414\n",
      "epoch: 05, loss: -0.00491\n",
      "epoch: 06, loss: -0.00581\n",
      "epoch: 07, loss: -0.00633\n",
      "epoch: 08, loss: -0.00667\n",
      "epoch: 09, loss: -0.00707\n",
      "torch.Size([500, 32])\n"
     ]
    },
    {
     "name": "stderr",
     "output_type": "stream",
     "text": [
      " 22%|██▏       | 220/1000 [1:47:04<7:15:59, 33.54s/it]"
     ]
    },
    {
     "name": "stdout",
     "output_type": "stream",
     "text": [
      "eigenvalues shape torch.Size([5]) eigenvectors shape torch.Size([5, 500])\n",
      "220 /home/phdcs2/Hard_Disk/Datasets/Deep-Spectral-Segmentation/data/object-segmentation/ECSSD/features/dino_vits16/0221.pth\n",
      "dict_keys(['k', 'indices', 'file', 'id', 'model_name', 'patch_size', 'shape'])\n",
      "0221\n",
      "Starting Training\n",
      "epoch: 00, loss: 0.00517\n",
      "epoch: 01, loss: 0.00235\n",
      "epoch: 02, loss: 0.00063\n",
      "epoch: 03, loss: -0.00200\n",
      "epoch: 04, loss: -0.00429\n",
      "epoch: 05, loss: -0.00357\n",
      "epoch: 06, loss: -0.00676\n",
      "epoch: 07, loss: -0.00497\n",
      "epoch: 08, loss: -0.00663\n",
      "epoch: 09, loss: -0.00666\n",
      "torch.Size([400, 32])\n"
     ]
    },
    {
     "name": "stderr",
     "output_type": "stream",
     "text": [
      " 22%|██▏       | 221/1000 [1:47:28<6:41:19, 30.91s/it]"
     ]
    },
    {
     "name": "stdout",
     "output_type": "stream",
     "text": [
      "eigenvalues shape torch.Size([5]) eigenvectors shape torch.Size([5, 400])\n",
      "221 /home/phdcs2/Hard_Disk/Datasets/Deep-Spectral-Segmentation/data/object-segmentation/ECSSD/features/dino_vits16/0222.pth\n",
      "dict_keys(['k', 'indices', 'file', 'id', 'model_name', 'patch_size', 'shape'])\n",
      "0222\n",
      "Starting Training\n",
      "epoch: 00, loss: -0.00216\n",
      "epoch: 01, loss: 0.00602\n",
      "epoch: 02, loss: 0.00088\n",
      "epoch: 03, loss: 0.00292\n",
      "epoch: 04, loss: -0.00354\n",
      "epoch: 05, loss: -0.01048\n",
      "epoch: 06, loss: -0.01335\n",
      "epoch: 07, loss: -0.00075\n",
      "epoch: 08, loss: -0.00545\n",
      "epoch: 09, loss: -0.01104\n",
      "torch.Size([500, 32])\n"
     ]
    },
    {
     "name": "stderr",
     "output_type": "stream",
     "text": [
      " 22%|██▏       | 222/1000 [1:48:03<6:54:20, 31.95s/it]"
     ]
    },
    {
     "name": "stdout",
     "output_type": "stream",
     "text": [
      "eigenvalues shape torch.Size([5]) eigenvectors shape torch.Size([5, 500])\n",
      "222 /home/phdcs2/Hard_Disk/Datasets/Deep-Spectral-Segmentation/data/object-segmentation/ECSSD/features/dino_vits16/0223.pth\n",
      "dict_keys(['k', 'indices', 'file', 'id', 'model_name', 'patch_size', 'shape'])\n",
      "0223\n",
      "Starting Training\n",
      "epoch: 00, loss: -0.00022\n",
      "epoch: 01, loss: -0.01469\n",
      "epoch: 02, loss: -0.01160\n",
      "epoch: 03, loss: -0.02559\n",
      "epoch: 04, loss: 0.00789\n",
      "epoch: 05, loss: -0.01188\n",
      "epoch: 06, loss: -0.00871\n",
      "epoch: 07, loss: -0.00171\n",
      "epoch: 08, loss: 0.00040\n",
      "epoch: 09, loss: -0.00940\n",
      "torch.Size([500, 32])\n"
     ]
    },
    {
     "name": "stderr",
     "output_type": "stream",
     "text": [
      " 22%|██▏       | 223/1000 [1:48:37<7:01:16, 32.53s/it]"
     ]
    },
    {
     "name": "stdout",
     "output_type": "stream",
     "text": [
      "eigenvalues shape torch.Size([5]) eigenvectors shape torch.Size([5, 500])\n",
      "223 /home/phdcs2/Hard_Disk/Datasets/Deep-Spectral-Segmentation/data/object-segmentation/ECSSD/features/dino_vits16/0224.pth\n",
      "dict_keys(['k', 'indices', 'file', 'id', 'model_name', 'patch_size', 'shape'])\n",
      "0224\n",
      "Starting Training\n",
      "epoch: 00, loss: 0.00528\n",
      "epoch: 01, loss: 0.00341\n",
      "epoch: 02, loss: -0.00210\n",
      "epoch: 03, loss: -0.01679\n",
      "epoch: 04, loss: -0.00848\n",
      "epoch: 05, loss: -0.00255\n",
      "epoch: 06, loss: -0.02613\n",
      "epoch: 07, loss: -0.01008\n",
      "epoch: 08, loss: -0.00461\n",
      "epoch: 09, loss: -0.00596\n",
      "torch.Size([500, 32])\n"
     ]
    },
    {
     "name": "stderr",
     "output_type": "stream",
     "text": [
      " 22%|██▏       | 224/1000 [1:49:11<7:09:00, 33.17s/it]"
     ]
    },
    {
     "name": "stdout",
     "output_type": "stream",
     "text": [
      "eigenvalues shape torch.Size([5]) eigenvectors shape torch.Size([5, 500])\n",
      "224 /home/phdcs2/Hard_Disk/Datasets/Deep-Spectral-Segmentation/data/object-segmentation/ECSSD/features/dino_vits16/0225.pth\n",
      "dict_keys(['k', 'indices', 'file', 'id', 'model_name', 'patch_size', 'shape'])\n",
      "0225\n",
      "Starting Training\n",
      "epoch: 00, loss: 0.00428\n",
      "epoch: 01, loss: -0.00443\n",
      "epoch: 02, loss: -0.00530\n",
      "epoch: 03, loss: 0.00750\n",
      "epoch: 04, loss: -0.01050\n",
      "epoch: 05, loss: 0.01054\n",
      "epoch: 06, loss: 0.00224\n",
      "epoch: 07, loss: 0.01600\n",
      "epoch: 08, loss: 0.00170\n",
      "epoch: 09, loss: 0.01521\n",
      "torch.Size([450, 32])\n"
     ]
    },
    {
     "name": "stderr",
     "output_type": "stream",
     "text": [
      " 22%|██▎       | 225/1000 [1:49:41<6:55:34, 32.17s/it]"
     ]
    },
    {
     "name": "stdout",
     "output_type": "stream",
     "text": [
      "eigenvalues shape torch.Size([5]) eigenvectors shape torch.Size([5, 450])\n",
      "225 /home/phdcs2/Hard_Disk/Datasets/Deep-Spectral-Segmentation/data/object-segmentation/ECSSD/features/dino_vits16/0226.pth\n",
      "dict_keys(['k', 'indices', 'file', 'id', 'model_name', 'patch_size', 'shape'])\n",
      "0226\n",
      "Starting Training\n",
      "epoch: 00, loss: 0.00723\n",
      "epoch: 01, loss: 0.00324\n",
      "epoch: 02, loss: 0.00098\n",
      "epoch: 03, loss: -0.00033\n",
      "epoch: 04, loss: -0.00134\n",
      "epoch: 05, loss: -0.00235\n",
      "epoch: 06, loss: -0.00306\n",
      "epoch: 07, loss: -0.00357\n",
      "epoch: 08, loss: -0.00407\n",
      "epoch: 09, loss: -0.00426\n",
      "torch.Size([400, 32])\n"
     ]
    },
    {
     "name": "stderr",
     "output_type": "stream",
     "text": [
      " 23%|██▎       | 226/1000 [1:50:14<6:58:10, 32.42s/it]"
     ]
    },
    {
     "name": "stdout",
     "output_type": "stream",
     "text": [
      "eigenvalues shape torch.Size([5]) eigenvectors shape torch.Size([5, 400])\n",
      "226 /home/phdcs2/Hard_Disk/Datasets/Deep-Spectral-Segmentation/data/object-segmentation/ECSSD/features/dino_vits16/0227.pth\n",
      "dict_keys(['k', 'indices', 'file', 'id', 'model_name', 'patch_size', 'shape'])\n",
      "0227\n",
      "Starting Training\n",
      "epoch: 00, loss: 0.00602\n",
      "epoch: 01, loss: 0.00013\n",
      "epoch: 02, loss: -0.00432\n",
      "epoch: 03, loss: -0.00565\n",
      "epoch: 04, loss: -0.00795\n",
      "epoch: 05, loss: -0.00778\n",
      "epoch: 06, loss: -0.00819\n",
      "epoch: 07, loss: -0.00950\n",
      "epoch: 08, loss: -0.00902\n",
      "epoch: 09, loss: -0.00992\n",
      "torch.Size([375, 32])\n"
     ]
    },
    {
     "name": "stderr",
     "output_type": "stream",
     "text": [
      " 23%|██▎       | 227/1000 [1:50:43<6:44:34, 31.40s/it]"
     ]
    },
    {
     "name": "stdout",
     "output_type": "stream",
     "text": [
      "eigenvalues shape torch.Size([5]) eigenvectors shape torch.Size([5, 375])\n",
      "227 /home/phdcs2/Hard_Disk/Datasets/Deep-Spectral-Segmentation/data/object-segmentation/ECSSD/features/dino_vits16/0228.pth\n",
      "dict_keys(['k', 'indices', 'file', 'id', 'model_name', 'patch_size', 'shape'])\n",
      "0228\n",
      "Starting Training\n",
      "epoch: 00, loss: 0.00269\n",
      "epoch: 01, loss: 0.00209\n",
      "epoch: 02, loss: -0.01470\n",
      "epoch: 03, loss: -0.00837\n",
      "epoch: 04, loss: -0.01888\n",
      "epoch: 05, loss: -0.00134\n",
      "epoch: 06, loss: -0.00159\n",
      "epoch: 07, loss: -0.01077\n",
      "epoch: 08, loss: -0.01114\n",
      "epoch: 09, loss: -0.01795\n",
      "torch.Size([375, 32])\n"
     ]
    },
    {
     "name": "stderr",
     "output_type": "stream",
     "text": [
      " 23%|██▎       | 228/1000 [1:51:13<6:39:15, 31.03s/it]"
     ]
    },
    {
     "name": "stdout",
     "output_type": "stream",
     "text": [
      "eigenvalues shape torch.Size([5]) eigenvectors shape torch.Size([5, 375])\n",
      "228 /home/phdcs2/Hard_Disk/Datasets/Deep-Spectral-Segmentation/data/object-segmentation/ECSSD/features/dino_vits16/0229.pth\n",
      "dict_keys(['k', 'indices', 'file', 'id', 'model_name', 'patch_size', 'shape'])\n",
      "0229\n",
      "Starting Training\n",
      "epoch: 00, loss: 0.00446\n",
      "epoch: 01, loss: -0.00478\n",
      "epoch: 02, loss: -0.00394\n",
      "epoch: 03, loss: -0.01047\n",
      "epoch: 04, loss: 0.01383\n",
      "epoch: 05, loss: -0.02045\n",
      "epoch: 06, loss: -0.01639\n",
      "epoch: 07, loss: -0.01166\n",
      "epoch: 08, loss: -0.00817\n",
      "epoch: 09, loss: -0.01749\n",
      "torch.Size([400, 32])\n"
     ]
    },
    {
     "name": "stderr",
     "output_type": "stream",
     "text": [
      " 23%|██▎       | 229/1000 [1:51:38<6:12:46, 29.01s/it]"
     ]
    },
    {
     "name": "stdout",
     "output_type": "stream",
     "text": [
      "eigenvalues shape torch.Size([5]) eigenvectors shape torch.Size([5, 400])\n",
      "229 /home/phdcs2/Hard_Disk/Datasets/Deep-Spectral-Segmentation/data/object-segmentation/ECSSD/features/dino_vits16/0230.pth\n",
      "dict_keys(['k', 'indices', 'file', 'id', 'model_name', 'patch_size', 'shape'])\n",
      "0230\n",
      "Starting Training\n",
      "epoch: 00, loss: 0.00456\n",
      "epoch: 01, loss: 0.00277\n",
      "epoch: 02, loss: -0.00141\n",
      "epoch: 03, loss: 0.00300\n",
      "epoch: 04, loss: 0.00851\n",
      "epoch: 05, loss: -0.01198\n",
      "epoch: 06, loss: -0.00625\n",
      "epoch: 07, loss: 0.00395\n",
      "epoch: 08, loss: -0.00669\n",
      "epoch: 09, loss: -0.00400\n",
      "torch.Size([450, 32])\n"
     ]
    },
    {
     "name": "stderr",
     "output_type": "stream",
     "text": [
      " 23%|██▎       | 230/1000 [1:52:06<6:07:47, 28.66s/it]"
     ]
    },
    {
     "name": "stdout",
     "output_type": "stream",
     "text": [
      "eigenvalues shape torch.Size([5]) eigenvectors shape torch.Size([5, 450])\n",
      "230 /home/phdcs2/Hard_Disk/Datasets/Deep-Spectral-Segmentation/data/object-segmentation/ECSSD/features/dino_vits16/0231.pth\n",
      "dict_keys(['k', 'indices', 'file', 'id', 'model_name', 'patch_size', 'shape'])\n",
      "0231\n",
      "Starting Training\n",
      "epoch: 00, loss: 0.00117\n",
      "epoch: 01, loss: -0.00731\n",
      "epoch: 02, loss: -0.01478\n",
      "epoch: 03, loss: -0.02081\n",
      "epoch: 04, loss: -0.02812\n",
      "epoch: 05, loss: -0.03102\n",
      "epoch: 06, loss: -0.04779\n",
      "epoch: 07, loss: -0.05264\n",
      "epoch: 08, loss: -0.06230\n",
      "epoch: 09, loss: -0.06313\n",
      "torch.Size([525, 32])\n"
     ]
    },
    {
     "name": "stderr",
     "output_type": "stream",
     "text": [
      " 23%|██▎       | 231/1000 [1:52:40<6:31:21, 30.54s/it]"
     ]
    },
    {
     "name": "stdout",
     "output_type": "stream",
     "text": [
      "eigenvalues shape torch.Size([5]) eigenvectors shape torch.Size([5, 525])\n",
      "231 /home/phdcs2/Hard_Disk/Datasets/Deep-Spectral-Segmentation/data/object-segmentation/ECSSD/features/dino_vits16/0232.pth\n",
      "dict_keys(['k', 'indices', 'file', 'id', 'model_name', 'patch_size', 'shape'])\n",
      "0232\n",
      "Starting Training\n",
      "epoch: 00, loss: 0.00272\n",
      "epoch: 01, loss: -0.00340\n",
      "epoch: 02, loss: -0.01477\n",
      "epoch: 03, loss: -0.01264\n",
      "epoch: 04, loss: -0.00626\n",
      "epoch: 05, loss: -0.01224\n",
      "epoch: 06, loss: -0.01782\n",
      "epoch: 07, loss: -0.01057\n",
      "epoch: 08, loss: -0.01393\n",
      "epoch: 09, loss: -0.01488\n",
      "torch.Size([500, 32])\n"
     ]
    },
    {
     "name": "stderr",
     "output_type": "stream",
     "text": [
      " 23%|██▎       | 232/1000 [1:53:13<6:36:56, 31.01s/it]"
     ]
    },
    {
     "name": "stdout",
     "output_type": "stream",
     "text": [
      "eigenvalues shape torch.Size([5]) eigenvectors shape torch.Size([5, 500])\n",
      "232 /home/phdcs2/Hard_Disk/Datasets/Deep-Spectral-Segmentation/data/object-segmentation/ECSSD/features/dino_vits16/0233.pth\n",
      "dict_keys(['k', 'indices', 'file', 'id', 'model_name', 'patch_size', 'shape'])\n",
      "0233\n",
      "Starting Training\n",
      "epoch: 00, loss: 0.00815\n",
      "epoch: 01, loss: 0.00390\n",
      "epoch: 02, loss: -0.00204\n",
      "epoch: 03, loss: 0.00947\n",
      "epoch: 04, loss: -0.00094\n",
      "epoch: 05, loss: -0.01023\n",
      "epoch: 06, loss: -0.00297\n",
      "epoch: 07, loss: -0.00709\n",
      "epoch: 08, loss: -0.00317\n",
      "epoch: 09, loss: -0.02169\n",
      "torch.Size([475, 32])\n"
     ]
    },
    {
     "name": "stderr",
     "output_type": "stream",
     "text": [
      " 23%|██▎       | 233/1000 [1:53:54<7:16:18, 34.13s/it]"
     ]
    },
    {
     "name": "stdout",
     "output_type": "stream",
     "text": [
      "eigenvalues shape torch.Size([5]) eigenvectors shape torch.Size([5, 475])\n",
      "233 /home/phdcs2/Hard_Disk/Datasets/Deep-Spectral-Segmentation/data/object-segmentation/ECSSD/features/dino_vits16/0234.pth\n",
      "dict_keys(['k', 'indices', 'file', 'id', 'model_name', 'patch_size', 'shape'])\n",
      "0234\n",
      "Starting Training\n",
      "epoch: 00, loss: 0.00086\n",
      "epoch: 01, loss: -0.00836\n",
      "epoch: 02, loss: -0.00253\n",
      "epoch: 03, loss: -0.01648\n",
      "epoch: 04, loss: -0.02043\n",
      "epoch: 05, loss: -0.01422\n",
      "epoch: 06, loss: -0.01159\n",
      "epoch: 07, loss: -0.02579\n",
      "epoch: 08, loss: -0.02833\n",
      "epoch: 09, loss: -0.03579\n",
      "torch.Size([400, 32])\n"
     ]
    },
    {
     "name": "stderr",
     "output_type": "stream",
     "text": [
      " 23%|██▎       | 234/1000 [1:54:18<6:37:13, 31.11s/it]"
     ]
    },
    {
     "name": "stdout",
     "output_type": "stream",
     "text": [
      "eigenvalues shape torch.Size([5]) eigenvectors shape torch.Size([5, 400])\n",
      "234 /home/phdcs2/Hard_Disk/Datasets/Deep-Spectral-Segmentation/data/object-segmentation/ECSSD/features/dino_vits16/0235.pth\n",
      "dict_keys(['k', 'indices', 'file', 'id', 'model_name', 'patch_size', 'shape'])\n",
      "0235\n",
      "Starting Training\n",
      "epoch: 00, loss: -0.01145\n",
      "epoch: 01, loss: -0.00948\n",
      "epoch: 02, loss: 0.00389\n",
      "epoch: 03, loss: 0.00314\n",
      "epoch: 04, loss: 0.00729\n",
      "epoch: 05, loss: -0.00648\n",
      "epoch: 06, loss: 0.00051\n",
      "epoch: 07, loss: -0.01208\n",
      "epoch: 08, loss: -0.03390\n",
      "epoch: 09, loss: -0.00683\n",
      "torch.Size([400, 32])\n"
     ]
    },
    {
     "name": "stderr",
     "output_type": "stream",
     "text": [
      " 24%|██▎       | 235/1000 [1:54:50<6:39:37, 31.34s/it]"
     ]
    },
    {
     "name": "stdout",
     "output_type": "stream",
     "text": [
      "eigenvalues shape torch.Size([5]) eigenvectors shape torch.Size([5, 400])\n",
      "235 /home/phdcs2/Hard_Disk/Datasets/Deep-Spectral-Segmentation/data/object-segmentation/ECSSD/features/dino_vits16/0236.pth\n",
      "dict_keys(['k', 'indices', 'file', 'id', 'model_name', 'patch_size', 'shape'])\n",
      "0236\n",
      "Starting Training\n",
      "epoch: 00, loss: -0.00061\n",
      "epoch: 01, loss: -0.00823\n",
      "epoch: 02, loss: -0.00284\n",
      "epoch: 03, loss: 0.00419\n",
      "epoch: 04, loss: -0.00662\n",
      "epoch: 05, loss: -0.01893\n",
      "epoch: 06, loss: -0.00511\n",
      "epoch: 07, loss: -0.00933\n",
      "epoch: 08, loss: -0.01435\n",
      "epoch: 09, loss: -0.01165\n",
      "torch.Size([400, 32])\n"
     ]
    },
    {
     "name": "stderr",
     "output_type": "stream",
     "text": [
      " 24%|██▎       | 236/1000 [1:55:12<6:04:44, 28.64s/it]"
     ]
    },
    {
     "name": "stdout",
     "output_type": "stream",
     "text": [
      "eigenvalues shape torch.Size([5]) eigenvectors shape torch.Size([5, 400])\n",
      "236 /home/phdcs2/Hard_Disk/Datasets/Deep-Spectral-Segmentation/data/object-segmentation/ECSSD/features/dino_vits16/0237.pth\n",
      "dict_keys(['k', 'indices', 'file', 'id', 'model_name', 'patch_size', 'shape'])\n",
      "0237\n",
      "Starting Training\n",
      "epoch: 00, loss: -0.00499\n",
      "epoch: 01, loss: 0.00235\n",
      "epoch: 02, loss: -0.01677\n",
      "epoch: 03, loss: 0.02151\n",
      "epoch: 04, loss: -0.02030\n",
      "epoch: 05, loss: 0.00494\n",
      "epoch: 06, loss: -0.00360\n",
      "epoch: 07, loss: -0.01588\n",
      "epoch: 08, loss: -0.01209\n",
      "epoch: 09, loss: -0.01549\n",
      "torch.Size([400, 32])\n"
     ]
    },
    {
     "name": "stderr",
     "output_type": "stream",
     "text": [
      " 24%|██▎       | 237/1000 [1:55:46<6:22:43, 30.10s/it]"
     ]
    },
    {
     "name": "stdout",
     "output_type": "stream",
     "text": [
      "eigenvalues shape torch.Size([5]) eigenvectors shape torch.Size([5, 400])\n",
      "237 /home/phdcs2/Hard_Disk/Datasets/Deep-Spectral-Segmentation/data/object-segmentation/ECSSD/features/dino_vits16/0238.pth\n",
      "dict_keys(['k', 'indices', 'file', 'id', 'model_name', 'patch_size', 'shape'])\n",
      "0238\n",
      "Starting Training\n",
      "epoch: 00, loss: -0.00268\n",
      "epoch: 01, loss: -0.00154\n",
      "epoch: 02, loss: -0.00917\n",
      "epoch: 03, loss: -0.00418\n",
      "epoch: 04, loss: 0.00227\n",
      "epoch: 05, loss: -0.00375\n",
      "epoch: 06, loss: -0.00763\n",
      "epoch: 07, loss: -0.01372\n",
      "epoch: 08, loss: -0.00987\n",
      "epoch: 09, loss: -0.01323\n",
      "torch.Size([400, 32])\n"
     ]
    },
    {
     "name": "stderr",
     "output_type": "stream",
     "text": [
      " 24%|██▍       | 238/1000 [1:56:18<6:29:59, 30.71s/it]"
     ]
    },
    {
     "name": "stdout",
     "output_type": "stream",
     "text": [
      "eigenvalues shape torch.Size([5]) eigenvectors shape torch.Size([5, 400])\n",
      "238 /home/phdcs2/Hard_Disk/Datasets/Deep-Spectral-Segmentation/data/object-segmentation/ECSSD/features/dino_vits16/0239.pth\n",
      "dict_keys(['k', 'indices', 'file', 'id', 'model_name', 'patch_size', 'shape'])\n",
      "0239\n",
      "Starting Training\n",
      "epoch: 00, loss: 0.00339\n",
      "epoch: 01, loss: -0.00242\n",
      "epoch: 02, loss: 0.00320\n",
      "epoch: 03, loss: -0.00127\n",
      "epoch: 04, loss: -0.01559\n",
      "epoch: 05, loss: -0.00572\n",
      "epoch: 06, loss: -0.00311\n",
      "epoch: 07, loss: -0.00757\n",
      "epoch: 08, loss: -0.00608\n",
      "epoch: 09, loss: -0.01324\n",
      "torch.Size([400, 32])\n"
     ]
    },
    {
     "name": "stderr",
     "output_type": "stream",
     "text": [
      " 24%|██▍       | 239/1000 [1:56:51<6:38:46, 31.44s/it]"
     ]
    },
    {
     "name": "stdout",
     "output_type": "stream",
     "text": [
      "eigenvalues shape torch.Size([5]) eigenvectors shape torch.Size([5, 400])\n",
      "239 /home/phdcs2/Hard_Disk/Datasets/Deep-Spectral-Segmentation/data/object-segmentation/ECSSD/features/dino_vits16/0240.pth\n",
      "dict_keys(['k', 'indices', 'file', 'id', 'model_name', 'patch_size', 'shape'])\n",
      "0240\n",
      "Starting Training\n",
      "epoch: 00, loss: 0.00807\n",
      "epoch: 01, loss: -0.01297\n",
      "epoch: 02, loss: 0.00069\n",
      "epoch: 03, loss: -0.00952\n",
      "epoch: 04, loss: -0.01702\n",
      "epoch: 05, loss: -0.02247\n",
      "epoch: 06, loss: -0.02248\n",
      "epoch: 07, loss: -0.00648\n",
      "epoch: 08, loss: -0.02163\n",
      "epoch: 09, loss: -0.01179\n",
      "torch.Size([350, 32])\n"
     ]
    },
    {
     "name": "stderr",
     "output_type": "stream",
     "text": [
      " 24%|██▍       | 240/1000 [1:57:18<6:21:15, 30.10s/it]"
     ]
    },
    {
     "name": "stdout",
     "output_type": "stream",
     "text": [
      "eigenvalues shape torch.Size([5]) eigenvectors shape torch.Size([5, 350])\n",
      "240 /home/phdcs2/Hard_Disk/Datasets/Deep-Spectral-Segmentation/data/object-segmentation/ECSSD/features/dino_vits16/0241.pth\n",
      "dict_keys(['k', 'indices', 'file', 'id', 'model_name', 'patch_size', 'shape'])\n",
      "0241\n",
      "Starting Training\n",
      "epoch: 00, loss: -0.01161\n",
      "epoch: 01, loss: 0.00545\n",
      "epoch: 02, loss: 0.00027\n",
      "epoch: 03, loss: 0.00981\n",
      "epoch: 04, loss: -0.00885\n",
      "epoch: 05, loss: 0.00705\n",
      "epoch: 06, loss: -0.02695\n",
      "epoch: 07, loss: -0.01483\n",
      "epoch: 08, loss: 0.02056\n",
      "epoch: 09, loss: -0.00459\n",
      "torch.Size([400, 32])\n"
     ]
    },
    {
     "name": "stderr",
     "output_type": "stream",
     "text": [
      " 24%|██▍       | 241/1000 [1:57:40<5:50:53, 27.74s/it]"
     ]
    },
    {
     "name": "stdout",
     "output_type": "stream",
     "text": [
      "eigenvalues shape torch.Size([5]) eigenvectors shape torch.Size([5, 400])\n",
      "241 /home/phdcs2/Hard_Disk/Datasets/Deep-Spectral-Segmentation/data/object-segmentation/ECSSD/features/dino_vits16/0242.pth\n",
      "dict_keys(['k', 'indices', 'file', 'id', 'model_name', 'patch_size', 'shape'])\n",
      "0242\n",
      "Starting Training\n",
      "epoch: 00, loss: 0.00726\n",
      "epoch: 01, loss: 0.00052\n",
      "epoch: 02, loss: -0.00297\n",
      "epoch: 03, loss: -0.00739\n",
      "epoch: 04, loss: -0.00892\n",
      "epoch: 05, loss: -0.00983\n",
      "epoch: 06, loss: -0.01004\n",
      "epoch: 07, loss: -0.01221\n",
      "epoch: 08, loss: -0.01088\n",
      "epoch: 09, loss: -0.01361\n",
      "torch.Size([325, 32])\n"
     ]
    },
    {
     "name": "stderr",
     "output_type": "stream",
     "text": [
      " 24%|██▍       | 242/1000 [1:58:06<5:41:07, 27.00s/it]"
     ]
    },
    {
     "name": "stdout",
     "output_type": "stream",
     "text": [
      "eigenvalues shape torch.Size([5]) eigenvectors shape torch.Size([5, 325])\n",
      "242 /home/phdcs2/Hard_Disk/Datasets/Deep-Spectral-Segmentation/data/object-segmentation/ECSSD/features/dino_vits16/0243.pth\n",
      "dict_keys(['k', 'indices', 'file', 'id', 'model_name', 'patch_size', 'shape'])\n",
      "0243\n",
      "Starting Training\n",
      "epoch: 00, loss: 0.00433\n",
      "epoch: 01, loss: -0.00522\n",
      "epoch: 02, loss: -0.01303\n",
      "epoch: 03, loss: -0.01183\n",
      "epoch: 04, loss: -0.01458\n",
      "epoch: 05, loss: -0.01911\n",
      "epoch: 06, loss: -0.01558\n",
      "epoch: 07, loss: -0.01815\n",
      "epoch: 08, loss: -0.01501\n",
      "epoch: 09, loss: -0.02019\n",
      "torch.Size([400, 32])\n"
     ]
    },
    {
     "name": "stderr",
     "output_type": "stream",
     "text": [
      " 24%|██▍       | 243/1000 [1:58:30<5:32:29, 26.35s/it]"
     ]
    },
    {
     "name": "stdout",
     "output_type": "stream",
     "text": [
      "eigenvalues shape torch.Size([5]) eigenvectors shape torch.Size([5, 400])\n",
      "243 /home/phdcs2/Hard_Disk/Datasets/Deep-Spectral-Segmentation/data/object-segmentation/ECSSD/features/dino_vits16/0244.pth\n",
      "dict_keys(['k', 'indices', 'file', 'id', 'model_name', 'patch_size', 'shape'])\n",
      "0244\n",
      "Starting Training\n",
      "epoch: 00, loss: 0.00970\n",
      "epoch: 01, loss: 0.00193\n",
      "epoch: 02, loss: -0.00171\n",
      "epoch: 03, loss: -0.00351\n",
      "epoch: 04, loss: -0.00473\n",
      "epoch: 05, loss: -0.00567\n",
      "epoch: 06, loss: -0.00635\n",
      "epoch: 07, loss: -0.00662\n",
      "epoch: 08, loss: -0.00717\n",
      "epoch: 09, loss: -0.00748\n",
      "torch.Size([400, 32])\n"
     ]
    },
    {
     "name": "stderr",
     "output_type": "stream",
     "text": [
      " 24%|██▍       | 244/1000 [1:58:54<5:22:30, 25.60s/it]"
     ]
    },
    {
     "name": "stdout",
     "output_type": "stream",
     "text": [
      "eigenvalues shape torch.Size([5]) eigenvectors shape torch.Size([5, 400])\n",
      "244 /home/phdcs2/Hard_Disk/Datasets/Deep-Spectral-Segmentation/data/object-segmentation/ECSSD/features/dino_vits16/0245.pth\n",
      "dict_keys(['k', 'indices', 'file', 'id', 'model_name', 'patch_size', 'shape'])\n",
      "0245\n",
      "Starting Training\n",
      "epoch: 00, loss: 0.00122\n",
      "epoch: 01, loss: -0.00157\n",
      "epoch: 02, loss: 0.00266\n",
      "epoch: 03, loss: 0.00095\n",
      "epoch: 04, loss: -0.02393\n",
      "epoch: 05, loss: -0.00349\n",
      "epoch: 06, loss: -0.00945\n",
      "epoch: 07, loss: -0.01069\n",
      "epoch: 08, loss: -0.01512\n",
      "epoch: 09, loss: -0.01250\n",
      "torch.Size([400, 32])\n"
     ]
    },
    {
     "name": "stderr",
     "output_type": "stream",
     "text": [
      " 24%|██▍       | 245/1000 [1:59:19<5:18:49, 25.34s/it]"
     ]
    },
    {
     "name": "stdout",
     "output_type": "stream",
     "text": [
      "eigenvalues shape torch.Size([5]) eigenvectors shape torch.Size([5, 400])\n",
      "245 /home/phdcs2/Hard_Disk/Datasets/Deep-Spectral-Segmentation/data/object-segmentation/ECSSD/features/dino_vits16/0246.pth\n",
      "dict_keys(['k', 'indices', 'file', 'id', 'model_name', 'patch_size', 'shape'])\n",
      "0246\n",
      "Starting Training\n",
      "epoch: 00, loss: 0.00646\n",
      "epoch: 01, loss: 0.00109\n",
      "epoch: 02, loss: -0.00163\n",
      "epoch: 03, loss: -0.00372\n",
      "epoch: 04, loss: -0.00508\n",
      "epoch: 05, loss: -0.00608\n",
      "epoch: 06, loss: -0.00681\n",
      "epoch: 07, loss: -0.00740\n",
      "epoch: 08, loss: -0.00783\n",
      "epoch: 09, loss: -0.00813\n",
      "torch.Size([400, 32])\n"
     ]
    },
    {
     "name": "stderr",
     "output_type": "stream",
     "text": [
      " 25%|██▍       | 246/1000 [1:59:50<5:40:49, 27.12s/it]"
     ]
    },
    {
     "name": "stdout",
     "output_type": "stream",
     "text": [
      "eigenvalues shape torch.Size([5]) eigenvectors shape torch.Size([5, 400])\n",
      "246 /home/phdcs2/Hard_Disk/Datasets/Deep-Spectral-Segmentation/data/object-segmentation/ECSSD/features/dino_vits16/0247.pth\n",
      "dict_keys(['k', 'indices', 'file', 'id', 'model_name', 'patch_size', 'shape'])\n",
      "0247\n",
      "Starting Training\n",
      "epoch: 00, loss: -0.00029\n",
      "epoch: 01, loss: 0.00732\n",
      "epoch: 02, loss: -0.00402\n",
      "epoch: 03, loss: -0.01113\n",
      "epoch: 04, loss: -0.00811\n",
      "epoch: 05, loss: -0.01581\n",
      "epoch: 06, loss: -0.02022\n",
      "epoch: 07, loss: -0.01063\n",
      "epoch: 08, loss: -0.01930\n",
      "epoch: 09, loss: -0.03211\n",
      "torch.Size([400, 32])\n"
     ]
    },
    {
     "name": "stderr",
     "output_type": "stream",
     "text": [
      " 25%|██▍       | 247/1000 [2:00:15<5:33:06, 26.54s/it]"
     ]
    },
    {
     "name": "stdout",
     "output_type": "stream",
     "text": [
      "eigenvalues shape torch.Size([5]) eigenvectors shape torch.Size([5, 400])\n",
      "247 /home/phdcs2/Hard_Disk/Datasets/Deep-Spectral-Segmentation/data/object-segmentation/ECSSD/features/dino_vits16/0248.pth\n",
      "dict_keys(['k', 'indices', 'file', 'id', 'model_name', 'patch_size', 'shape'])\n",
      "0248\n",
      "Starting Training\n",
      "epoch: 00, loss: 0.00826\n",
      "epoch: 01, loss: 0.00471\n",
      "epoch: 02, loss: 0.00450\n",
      "epoch: 03, loss: 0.00462\n",
      "epoch: 04, loss: 0.00248\n",
      "epoch: 05, loss: 0.00196\n",
      "epoch: 06, loss: -0.00086\n",
      "epoch: 07, loss: -0.00140\n",
      "epoch: 08, loss: 0.00091\n",
      "epoch: 09, loss: -0.00113\n",
      "torch.Size([450, 32])\n"
     ]
    },
    {
     "name": "stderr",
     "output_type": "stream",
     "text": [
      " 25%|██▍       | 248/1000 [2:00:54<6:19:41, 30.29s/it]"
     ]
    },
    {
     "name": "stdout",
     "output_type": "stream",
     "text": [
      "eigenvalues shape torch.Size([5]) eigenvectors shape torch.Size([5, 450])\n",
      "248 /home/phdcs2/Hard_Disk/Datasets/Deep-Spectral-Segmentation/data/object-segmentation/ECSSD/features/dino_vits16/0249.pth\n",
      "dict_keys(['k', 'indices', 'file', 'id', 'model_name', 'patch_size', 'shape'])\n",
      "0249\n",
      "Starting Training\n",
      "epoch: 00, loss: -0.00168\n",
      "epoch: 01, loss: 0.00063\n",
      "epoch: 02, loss: 0.00809\n",
      "epoch: 03, loss: -0.00685\n",
      "epoch: 04, loss: -0.02589\n",
      "epoch: 05, loss: -0.00637\n",
      "epoch: 06, loss: -0.02869\n",
      "epoch: 07, loss: -0.01950\n",
      "epoch: 08, loss: -0.00903\n",
      "epoch: 09, loss: -0.02420\n",
      "torch.Size([425, 32])\n"
     ]
    },
    {
     "name": "stderr",
     "output_type": "stream",
     "text": [
      " 25%|██▍       | 249/1000 [2:01:21<6:04:11, 29.10s/it]"
     ]
    },
    {
     "name": "stdout",
     "output_type": "stream",
     "text": [
      "eigenvalues shape torch.Size([5]) eigenvectors shape torch.Size([5, 425])\n",
      "249 /home/phdcs2/Hard_Disk/Datasets/Deep-Spectral-Segmentation/data/object-segmentation/ECSSD/features/dino_vits16/0250.pth\n",
      "dict_keys(['k', 'indices', 'file', 'id', 'model_name', 'patch_size', 'shape'])\n",
      "0250\n",
      "Starting Training\n",
      "epoch: 00, loss: 0.00572\n",
      "epoch: 01, loss: 0.00402\n",
      "epoch: 02, loss: -0.00882\n",
      "epoch: 03, loss: 0.01431\n",
      "epoch: 04, loss: -0.00489\n",
      "epoch: 05, loss: 0.00397\n",
      "epoch: 06, loss: -0.00402\n",
      "epoch: 07, loss: -0.01253\n",
      "epoch: 08, loss: -0.00470\n",
      "epoch: 09, loss: -0.01759\n",
      "torch.Size([400, 32])\n"
     ]
    },
    {
     "name": "stderr",
     "output_type": "stream",
     "text": [
      " 25%|██▌       | 250/1000 [2:01:46<5:50:53, 28.07s/it]"
     ]
    },
    {
     "name": "stdout",
     "output_type": "stream",
     "text": [
      "eigenvalues shape torch.Size([5]) eigenvectors shape torch.Size([5, 400])\n",
      "250 /home/phdcs2/Hard_Disk/Datasets/Deep-Spectral-Segmentation/data/object-segmentation/ECSSD/features/dino_vits16/0251.pth\n",
      "dict_keys(['k', 'indices', 'file', 'id', 'model_name', 'patch_size', 'shape'])\n",
      "0251\n",
      "Starting Training\n",
      "epoch: 00, loss: -0.00146\n",
      "epoch: 01, loss: -0.01074\n",
      "epoch: 02, loss: 0.00438\n",
      "epoch: 03, loss: 0.00026\n",
      "epoch: 04, loss: -0.01735\n",
      "epoch: 05, loss: 0.00353\n",
      "epoch: 06, loss: 0.00533\n",
      "epoch: 07, loss: -0.01853\n",
      "epoch: 08, loss: 0.00809\n",
      "epoch: 09, loss: -0.01061\n",
      "torch.Size([450, 32])\n"
     ]
    },
    {
     "name": "stderr",
     "output_type": "stream",
     "text": [
      " 25%|██▌       | 251/1000 [2:02:25<6:28:12, 31.10s/it]"
     ]
    },
    {
     "name": "stdout",
     "output_type": "stream",
     "text": [
      "eigenvalues shape torch.Size([5]) eigenvectors shape torch.Size([5, 450])\n",
      "251 /home/phdcs2/Hard_Disk/Datasets/Deep-Spectral-Segmentation/data/object-segmentation/ECSSD/features/dino_vits16/0252.pth\n",
      "dict_keys(['k', 'indices', 'file', 'id', 'model_name', 'patch_size', 'shape'])\n",
      "0252\n",
      "Starting Training\n",
      "epoch: 00, loss: 0.00022\n",
      "epoch: 01, loss: 0.00474\n",
      "epoch: 02, loss: -0.00287\n",
      "epoch: 03, loss: -0.01039\n",
      "epoch: 04, loss: -0.02921\n",
      "epoch: 05, loss: -0.01616\n",
      "epoch: 06, loss: -0.03968\n",
      "epoch: 07, loss: -0.03685\n",
      "epoch: 08, loss: -0.03542\n",
      "epoch: 09, loss: -0.05672\n",
      "torch.Size([450, 32])\n"
     ]
    },
    {
     "name": "stderr",
     "output_type": "stream",
     "text": [
      " 25%|██▌       | 252/1000 [2:03:03<6:55:24, 33.32s/it]"
     ]
    },
    {
     "name": "stdout",
     "output_type": "stream",
     "text": [
      "eigenvalues shape torch.Size([5]) eigenvectors shape torch.Size([5, 450])\n",
      "252 /home/phdcs2/Hard_Disk/Datasets/Deep-Spectral-Segmentation/data/object-segmentation/ECSSD/features/dino_vits16/0253.pth\n",
      "dict_keys(['k', 'indices', 'file', 'id', 'model_name', 'patch_size', 'shape'])\n",
      "0253\n",
      "Starting Training\n",
      "epoch: 00, loss: 0.00859\n",
      "epoch: 01, loss: 0.00055\n",
      "epoch: 02, loss: -0.00369\n",
      "epoch: 03, loss: -0.00653\n",
      "epoch: 04, loss: -0.00802\n",
      "epoch: 05, loss: -0.00942\n",
      "epoch: 06, loss: -0.01012\n",
      "epoch: 07, loss: -0.01063\n",
      "epoch: 08, loss: -0.01087\n",
      "epoch: 09, loss: -0.01133\n",
      "torch.Size([450, 32])\n"
     ]
    },
    {
     "name": "stderr",
     "output_type": "stream",
     "text": [
      " 25%|██▌       | 253/1000 [2:03:32<6:38:59, 32.05s/it]"
     ]
    },
    {
     "name": "stdout",
     "output_type": "stream",
     "text": [
      "eigenvalues shape torch.Size([5]) eigenvectors shape torch.Size([5, 450])\n",
      "253 /home/phdcs2/Hard_Disk/Datasets/Deep-Spectral-Segmentation/data/object-segmentation/ECSSD/features/dino_vits16/0254.pth\n",
      "dict_keys(['k', 'indices', 'file', 'id', 'model_name', 'patch_size', 'shape'])\n",
      "0254\n",
      "Starting Training\n",
      "epoch: 00, loss: -0.00356\n",
      "epoch: 01, loss: -0.00253\n",
      "epoch: 02, loss: -0.01261\n",
      "epoch: 03, loss: -0.02711\n",
      "epoch: 04, loss: -0.00179\n",
      "epoch: 05, loss: 0.00382\n",
      "epoch: 06, loss: -0.01471\n",
      "epoch: 07, loss: -0.03167\n",
      "epoch: 08, loss: -0.03525\n",
      "epoch: 09, loss: -0.01860\n",
      "torch.Size([525, 32])\n"
     ]
    },
    {
     "name": "stderr",
     "output_type": "stream",
     "text": [
      " 25%|██▌       | 254/1000 [2:04:07<6:49:44, 32.95s/it]"
     ]
    },
    {
     "name": "stdout",
     "output_type": "stream",
     "text": [
      "eigenvalues shape torch.Size([5]) eigenvectors shape torch.Size([5, 525])\n",
      "254 /home/phdcs2/Hard_Disk/Datasets/Deep-Spectral-Segmentation/data/object-segmentation/ECSSD/features/dino_vits16/0255.pth\n",
      "dict_keys(['k', 'indices', 'file', 'id', 'model_name', 'patch_size', 'shape'])\n",
      "0255\n",
      "Starting Training\n",
      "epoch: 00, loss: 0.00435\n",
      "epoch: 01, loss: -0.00355\n",
      "epoch: 02, loss: -0.00622\n",
      "epoch: 03, loss: -0.00804\n",
      "epoch: 04, loss: -0.00879\n",
      "epoch: 05, loss: -0.01016\n",
      "epoch: 06, loss: -0.01008\n",
      "epoch: 07, loss: -0.01057\n",
      "epoch: 08, loss: -0.01062\n",
      "epoch: 09, loss: -0.01034\n",
      "torch.Size([575, 32])\n"
     ]
    },
    {
     "name": "stderr",
     "output_type": "stream",
     "text": [
      " 26%|██▌       | 255/1000 [2:04:49<7:23:31, 35.72s/it]"
     ]
    },
    {
     "name": "stdout",
     "output_type": "stream",
     "text": [
      "eigenvalues shape torch.Size([5]) eigenvectors shape torch.Size([5, 575])\n",
      "255 /home/phdcs2/Hard_Disk/Datasets/Deep-Spectral-Segmentation/data/object-segmentation/ECSSD/features/dino_vits16/0256.pth\n",
      "dict_keys(['k', 'indices', 'file', 'id', 'model_name', 'patch_size', 'shape'])\n",
      "0256\n",
      "Starting Training\n",
      "epoch: 00, loss: 0.01051\n",
      "epoch: 01, loss: 0.00151\n",
      "epoch: 02, loss: -0.00468\n",
      "epoch: 03, loss: -0.00776\n",
      "epoch: 04, loss: -0.00883\n",
      "epoch: 05, loss: -0.01047\n",
      "epoch: 06, loss: -0.01178\n",
      "epoch: 07, loss: -0.01224\n",
      "epoch: 08, loss: -0.01301\n",
      "epoch: 09, loss: -0.01323\n",
      "torch.Size([375, 32])\n"
     ]
    },
    {
     "name": "stderr",
     "output_type": "stream",
     "text": [
      " 26%|██▌       | 256/1000 [2:05:13<6:37:21, 32.05s/it]"
     ]
    },
    {
     "name": "stdout",
     "output_type": "stream",
     "text": [
      "eigenvalues shape torch.Size([5]) eigenvectors shape torch.Size([5, 375])\n",
      "256 /home/phdcs2/Hard_Disk/Datasets/Deep-Spectral-Segmentation/data/object-segmentation/ECSSD/features/dino_vits16/0257.pth\n",
      "dict_keys(['k', 'indices', 'file', 'id', 'model_name', 'patch_size', 'shape'])\n",
      "0257\n",
      "Starting Training\n",
      "epoch: 00, loss: 0.00356\n",
      "epoch: 01, loss: -0.00277\n",
      "epoch: 02, loss: -0.00393\n",
      "epoch: 03, loss: -0.00540\n",
      "epoch: 04, loss: -0.00633\n",
      "epoch: 05, loss: -0.00768\n",
      "epoch: 06, loss: -0.00741\n",
      "epoch: 07, loss: -0.00794\n",
      "epoch: 08, loss: -0.00705\n",
      "epoch: 09, loss: -0.00747\n",
      "torch.Size([475, 32])\n"
     ]
    },
    {
     "name": "stderr",
     "output_type": "stream",
     "text": [
      " 26%|██▌       | 257/1000 [2:05:41<6:21:32, 30.81s/it]"
     ]
    },
    {
     "name": "stdout",
     "output_type": "stream",
     "text": [
      "eigenvalues shape torch.Size([5]) eigenvectors shape torch.Size([5, 475])\n",
      "257 /home/phdcs2/Hard_Disk/Datasets/Deep-Spectral-Segmentation/data/object-segmentation/ECSSD/features/dino_vits16/0258.pth\n",
      "dict_keys(['k', 'indices', 'file', 'id', 'model_name', 'patch_size', 'shape'])\n",
      "0258\n",
      "Starting Training\n",
      "epoch: 00, loss: 0.00878\n",
      "epoch: 01, loss: -0.01283\n",
      "epoch: 02, loss: -0.01744\n",
      "epoch: 03, loss: -0.00043\n",
      "epoch: 04, loss: -0.00245\n",
      "epoch: 05, loss: 0.00538\n",
      "epoch: 06, loss: -0.00762\n",
      "epoch: 07, loss: -0.02472\n",
      "epoch: 08, loss: -0.00959\n",
      "epoch: 09, loss: -0.01278\n",
      "torch.Size([400, 32])\n"
     ]
    },
    {
     "name": "stderr",
     "output_type": "stream",
     "text": [
      " 26%|██▌       | 258/1000 [2:06:06<5:59:17, 29.05s/it]"
     ]
    },
    {
     "name": "stdout",
     "output_type": "stream",
     "text": [
      "eigenvalues shape torch.Size([5]) eigenvectors shape torch.Size([5, 400])\n",
      "258 /home/phdcs2/Hard_Disk/Datasets/Deep-Spectral-Segmentation/data/object-segmentation/ECSSD/features/dino_vits16/0259.pth\n",
      "dict_keys(['k', 'indices', 'file', 'id', 'model_name', 'patch_size', 'shape'])\n",
      "0259\n",
      "Starting Training\n",
      "epoch: 00, loss: 0.00474\n",
      "epoch: 01, loss: -0.00473\n",
      "epoch: 02, loss: -0.00942\n",
      "epoch: 03, loss: -0.01180\n",
      "epoch: 04, loss: -0.01313\n",
      "epoch: 05, loss: -0.01408\n",
      "epoch: 06, loss: -0.01451\n",
      "epoch: 07, loss: -0.01487\n",
      "epoch: 08, loss: -0.01517\n",
      "epoch: 09, loss: -0.01525\n",
      "torch.Size([450, 32])\n"
     ]
    },
    {
     "name": "stderr",
     "output_type": "stream",
     "text": [
      " 26%|██▌       | 259/1000 [2:06:45<6:37:18, 32.17s/it]"
     ]
    },
    {
     "name": "stdout",
     "output_type": "stream",
     "text": [
      "eigenvalues shape torch.Size([5]) eigenvectors shape torch.Size([5, 450])\n",
      "259 /home/phdcs2/Hard_Disk/Datasets/Deep-Spectral-Segmentation/data/object-segmentation/ECSSD/features/dino_vits16/0260.pth\n",
      "dict_keys(['k', 'indices', 'file', 'id', 'model_name', 'patch_size', 'shape'])\n",
      "0260\n",
      "Starting Training\n",
      "epoch: 00, loss: 0.01103\n",
      "epoch: 01, loss: 0.00541\n",
      "epoch: 02, loss: 0.00323\n",
      "epoch: 03, loss: 0.00219\n",
      "epoch: 04, loss: 0.00131\n",
      "epoch: 05, loss: 0.00069\n",
      "epoch: 06, loss: 0.00013\n",
      "epoch: 07, loss: -0.00037\n",
      "epoch: 08, loss: -0.00066\n",
      "epoch: 09, loss: -0.00105\n",
      "torch.Size([450, 32])\n"
     ]
    },
    {
     "name": "stderr",
     "output_type": "stream",
     "text": [
      " 26%|██▌       | 260/1000 [2:07:24<7:00:59, 34.14s/it]"
     ]
    },
    {
     "name": "stdout",
     "output_type": "stream",
     "text": [
      "eigenvalues shape torch.Size([5]) eigenvectors shape torch.Size([5, 450])\n",
      "260 /home/phdcs2/Hard_Disk/Datasets/Deep-Spectral-Segmentation/data/object-segmentation/ECSSD/features/dino_vits16/0261.pth\n",
      "dict_keys(['k', 'indices', 'file', 'id', 'model_name', 'patch_size', 'shape'])\n",
      "0261\n",
      "Starting Training\n",
      "epoch: 00, loss: 0.00951\n",
      "epoch: 01, loss: 0.00542\n",
      "epoch: 02, loss: 0.00327\n",
      "epoch: 03, loss: 0.00164\n",
      "epoch: 04, loss: 0.00085\n",
      "epoch: 05, loss: -0.00051\n",
      "epoch: 06, loss: -0.00103\n",
      "epoch: 07, loss: -0.00170\n",
      "epoch: 08, loss: -0.00215\n",
      "epoch: 09, loss: -0.00251\n",
      "torch.Size([400, 32])\n"
     ]
    },
    {
     "name": "stderr",
     "output_type": "stream",
     "text": [
      " 26%|██▌       | 261/1000 [2:07:57<6:55:17, 33.72s/it]"
     ]
    },
    {
     "name": "stdout",
     "output_type": "stream",
     "text": [
      "eigenvalues shape torch.Size([5]) eigenvectors shape torch.Size([5, 400])\n",
      "261 /home/phdcs2/Hard_Disk/Datasets/Deep-Spectral-Segmentation/data/object-segmentation/ECSSD/features/dino_vits16/0262.pth\n",
      "dict_keys(['k', 'indices', 'file', 'id', 'model_name', 'patch_size', 'shape'])\n",
      "0262\n",
      "Starting Training\n",
      "epoch: 00, loss: 0.00647\n",
      "epoch: 01, loss: 0.00052\n",
      "epoch: 02, loss: -0.00210\n",
      "epoch: 03, loss: -0.00416\n",
      "epoch: 04, loss: -0.00502\n",
      "epoch: 05, loss: -0.00571\n",
      "epoch: 06, loss: -0.00640\n",
      "epoch: 07, loss: -0.00694\n",
      "epoch: 08, loss: -0.00714\n",
      "epoch: 09, loss: -0.00738\n",
      "torch.Size([450, 32])\n"
     ]
    },
    {
     "name": "stderr",
     "output_type": "stream",
     "text": [
      " 26%|██▌       | 262/1000 [2:08:22<6:24:58, 31.30s/it]"
     ]
    },
    {
     "name": "stdout",
     "output_type": "stream",
     "text": [
      "eigenvalues shape torch.Size([5]) eigenvectors shape torch.Size([5, 450])\n",
      "262 /home/phdcs2/Hard_Disk/Datasets/Deep-Spectral-Segmentation/data/object-segmentation/ECSSD/features/dino_vits16/0263.pth\n",
      "dict_keys(['k', 'indices', 'file', 'id', 'model_name', 'patch_size', 'shape'])\n",
      "0263\n",
      "Starting Training\n",
      "epoch: 00, loss: 0.00677\n",
      "epoch: 01, loss: 0.00227\n",
      "epoch: 02, loss: -0.00003\n",
      "epoch: 03, loss: -0.00147\n",
      "epoch: 04, loss: -0.00242\n",
      "epoch: 05, loss: -0.00315\n",
      "epoch: 06, loss: -0.00372\n",
      "epoch: 07, loss: -0.00395\n",
      "epoch: 08, loss: -0.00436\n",
      "epoch: 09, loss: -0.00446\n",
      "torch.Size([450, 32])\n"
     ]
    },
    {
     "name": "stderr",
     "output_type": "stream",
     "text": [
      " 26%|██▋       | 263/1000 [2:08:50<6:12:07, 30.30s/it]"
     ]
    },
    {
     "name": "stdout",
     "output_type": "stream",
     "text": [
      "eigenvalues shape torch.Size([5]) eigenvectors shape torch.Size([5, 450])\n",
      "263 /home/phdcs2/Hard_Disk/Datasets/Deep-Spectral-Segmentation/data/object-segmentation/ECSSD/features/dino_vits16/0264.pth\n",
      "dict_keys(['k', 'indices', 'file', 'id', 'model_name', 'patch_size', 'shape'])\n",
      "0264\n",
      "Starting Training\n",
      "epoch: 00, loss: 0.00225\n",
      "epoch: 01, loss: -0.00064\n",
      "epoch: 02, loss: -0.01170\n",
      "epoch: 03, loss: -0.01892\n",
      "epoch: 04, loss: -0.01909\n",
      "epoch: 05, loss: 0.00127\n",
      "epoch: 06, loss: 0.00260\n",
      "epoch: 07, loss: -0.01356\n",
      "epoch: 08, loss: -0.01389\n",
      "epoch: 09, loss: 0.00432\n",
      "torch.Size([400, 32])\n"
     ]
    },
    {
     "name": "stderr",
     "output_type": "stream",
     "text": [
      " 26%|██▋       | 264/1000 [2:09:25<6:26:08, 31.48s/it]"
     ]
    },
    {
     "name": "stdout",
     "output_type": "stream",
     "text": [
      "eigenvalues shape torch.Size([5]) eigenvectors shape torch.Size([5, 400])\n",
      "264 /home/phdcs2/Hard_Disk/Datasets/Deep-Spectral-Segmentation/data/object-segmentation/ECSSD/features/dino_vits16/0265.pth\n",
      "dict_keys(['k', 'indices', 'file', 'id', 'model_name', 'patch_size', 'shape'])\n",
      "0265\n",
      "Starting Training\n",
      "epoch: 00, loss: 0.00776\n",
      "epoch: 01, loss: 0.00357\n",
      "epoch: 02, loss: 0.00086\n",
      "epoch: 03, loss: 0.00020\n",
      "epoch: 04, loss: -0.00289\n",
      "epoch: 05, loss: -0.00291\n",
      "epoch: 06, loss: -0.00365\n",
      "epoch: 07, loss: -0.00404\n",
      "epoch: 08, loss: -0.00460\n",
      "epoch: 09, loss: -0.00471\n",
      "torch.Size([525, 32])\n"
     ]
    },
    {
     "name": "stderr",
     "output_type": "stream",
     "text": [
      " 26%|██▋       | 265/1000 [2:10:01<6:45:09, 33.07s/it]"
     ]
    },
    {
     "name": "stdout",
     "output_type": "stream",
     "text": [
      "eigenvalues shape torch.Size([5]) eigenvectors shape torch.Size([5, 525])\n",
      "265 /home/phdcs2/Hard_Disk/Datasets/Deep-Spectral-Segmentation/data/object-segmentation/ECSSD/features/dino_vits16/0266.pth\n",
      "dict_keys(['k', 'indices', 'file', 'id', 'model_name', 'patch_size', 'shape'])\n",
      "0266\n",
      "Starting Training\n",
      "epoch: 00, loss: -0.00990\n",
      "epoch: 01, loss: -0.01541\n",
      "epoch: 02, loss: -0.03525\n",
      "epoch: 03, loss: -0.03881\n",
      "epoch: 04, loss: -0.06987\n",
      "epoch: 05, loss: -0.08017\n",
      "epoch: 06, loss: -0.09962\n",
      "epoch: 07, loss: -0.09691\n",
      "epoch: 08, loss: -0.09696\n",
      "epoch: 09, loss: -0.10303\n",
      "torch.Size([425, 32])\n"
     ]
    },
    {
     "name": "stderr",
     "output_type": "stream",
     "text": [
      " 27%|██▋       | 266/1000 [2:10:27<6:15:36, 30.70s/it]"
     ]
    },
    {
     "name": "stdout",
     "output_type": "stream",
     "text": [
      "eigenvalues shape torch.Size([5]) eigenvectors shape torch.Size([5, 425])\n",
      "266 /home/phdcs2/Hard_Disk/Datasets/Deep-Spectral-Segmentation/data/object-segmentation/ECSSD/features/dino_vits16/0267.pth\n",
      "dict_keys(['k', 'indices', 'file', 'id', 'model_name', 'patch_size', 'shape'])\n",
      "0267\n",
      "Starting Training\n",
      "epoch: 00, loss: 0.00015\n",
      "epoch: 01, loss: -0.00367\n",
      "epoch: 02, loss: -0.00633\n",
      "epoch: 03, loss: -0.00795\n",
      "epoch: 04, loss: -0.00869\n",
      "epoch: 05, loss: -0.00944\n",
      "epoch: 06, loss: -0.00996\n",
      "epoch: 07, loss: -0.01031\n",
      "epoch: 08, loss: -0.01052\n",
      "epoch: 09, loss: -0.01069\n",
      "torch.Size([400, 32])\n"
     ]
    },
    {
     "name": "stderr",
     "output_type": "stream",
     "text": [
      " 27%|██▋       | 267/1000 [2:10:52<5:56:32, 29.19s/it]"
     ]
    },
    {
     "name": "stdout",
     "output_type": "stream",
     "text": [
      "eigenvalues shape torch.Size([5]) eigenvectors shape torch.Size([5, 400])\n",
      "267 /home/phdcs2/Hard_Disk/Datasets/Deep-Spectral-Segmentation/data/object-segmentation/ECSSD/features/dino_vits16/0268.pth\n",
      "dict_keys(['k', 'indices', 'file', 'id', 'model_name', 'patch_size', 'shape'])\n",
      "0268\n",
      "Starting Training\n",
      "epoch: 00, loss: 0.00541\n",
      "epoch: 01, loss: 0.00066\n",
      "epoch: 02, loss: -0.00217\n",
      "epoch: 03, loss: -0.00449\n",
      "epoch: 04, loss: -0.00520\n",
      "epoch: 05, loss: -0.00639\n",
      "epoch: 06, loss: -0.00770\n",
      "epoch: 07, loss: -0.00474\n",
      "epoch: 08, loss: -0.00594\n",
      "epoch: 09, loss: -0.00556\n",
      "torch.Size([600, 32])\n"
     ]
    },
    {
     "name": "stderr",
     "output_type": "stream",
     "text": [
      " 27%|██▋       | 268/1000 [2:11:37<6:52:12, 33.79s/it]"
     ]
    },
    {
     "name": "stdout",
     "output_type": "stream",
     "text": [
      "eigenvalues shape torch.Size([5]) eigenvectors shape torch.Size([5, 600])\n",
      "268 /home/phdcs2/Hard_Disk/Datasets/Deep-Spectral-Segmentation/data/object-segmentation/ECSSD/features/dino_vits16/0269.pth\n",
      "dict_keys(['k', 'indices', 'file', 'id', 'model_name', 'patch_size', 'shape'])\n",
      "0269\n",
      "Starting Training\n",
      "epoch: 00, loss: 0.00388\n",
      "epoch: 01, loss: -0.00429\n",
      "epoch: 02, loss: -0.00815\n",
      "epoch: 03, loss: -0.01024\n",
      "epoch: 04, loss: -0.01145\n",
      "epoch: 05, loss: -0.01235\n",
      "epoch: 06, loss: -0.01269\n",
      "epoch: 07, loss: -0.01315\n",
      "epoch: 08, loss: -0.01338\n",
      "epoch: 09, loss: -0.01360\n",
      "torch.Size([400, 32])\n"
     ]
    },
    {
     "name": "stderr",
     "output_type": "stream",
     "text": [
      " 27%|██▋       | 269/1000 [2:12:11<6:54:12, 34.00s/it]"
     ]
    },
    {
     "name": "stdout",
     "output_type": "stream",
     "text": [
      "eigenvalues shape torch.Size([5]) eigenvectors shape torch.Size([5, 400])\n",
      "269 /home/phdcs2/Hard_Disk/Datasets/Deep-Spectral-Segmentation/data/object-segmentation/ECSSD/features/dino_vits16/0270.pth\n",
      "dict_keys(['k', 'indices', 'file', 'id', 'model_name', 'patch_size', 'shape'])\n",
      "0270\n",
      "Starting Training\n",
      "epoch: 00, loss: -0.00250\n",
      "epoch: 01, loss: 0.01091\n",
      "epoch: 02, loss: 0.00639\n",
      "epoch: 03, loss: -0.00951\n",
      "epoch: 04, loss: 0.00044\n",
      "epoch: 05, loss: -0.00516\n",
      "epoch: 06, loss: 0.00691\n",
      "epoch: 07, loss: -0.02534\n",
      "epoch: 08, loss: -0.01006\n",
      "epoch: 09, loss: 0.00207\n",
      "torch.Size([375, 32])\n"
     ]
    },
    {
     "name": "stderr",
     "output_type": "stream",
     "text": [
      " 27%|██▋       | 270/1000 [2:12:32<6:04:34, 29.96s/it]"
     ]
    },
    {
     "name": "stdout",
     "output_type": "stream",
     "text": [
      "eigenvalues shape torch.Size([5]) eigenvectors shape torch.Size([5, 375])\n",
      "270 /home/phdcs2/Hard_Disk/Datasets/Deep-Spectral-Segmentation/data/object-segmentation/ECSSD/features/dino_vits16/0271.pth\n",
      "dict_keys(['k', 'indices', 'file', 'id', 'model_name', 'patch_size', 'shape'])\n",
      "0271\n",
      "Starting Training\n",
      "epoch: 00, loss: 0.00802\n",
      "epoch: 01, loss: 0.00431\n",
      "epoch: 02, loss: 0.00180\n",
      "epoch: 03, loss: 0.00005\n",
      "epoch: 04, loss: -0.00005\n",
      "epoch: 05, loss: -0.00170\n",
      "epoch: 06, loss: 0.00099\n",
      "epoch: 07, loss: -0.00527\n",
      "epoch: 08, loss: -0.00667\n",
      "epoch: 09, loss: -0.00435\n",
      "torch.Size([450, 32])\n"
     ]
    },
    {
     "name": "stderr",
     "output_type": "stream",
     "text": [
      " 27%|██▋       | 271/1000 [2:12:59<5:54:43, 29.20s/it]"
     ]
    },
    {
     "name": "stdout",
     "output_type": "stream",
     "text": [
      "eigenvalues shape torch.Size([5]) eigenvectors shape torch.Size([5, 450])\n",
      "271 /home/phdcs2/Hard_Disk/Datasets/Deep-Spectral-Segmentation/data/object-segmentation/ECSSD/features/dino_vits16/0272.pth\n",
      "dict_keys(['k', 'indices', 'file', 'id', 'model_name', 'patch_size', 'shape'])\n",
      "0272\n",
      "Starting Training\n",
      "epoch: 00, loss: 0.00647\n",
      "epoch: 01, loss: -0.00198\n",
      "epoch: 02, loss: -0.00654\n",
      "epoch: 03, loss: -0.00918\n",
      "epoch: 04, loss: -0.01073\n",
      "epoch: 05, loss: -0.01159\n",
      "epoch: 06, loss: -0.01208\n",
      "epoch: 07, loss: -0.01259\n",
      "epoch: 08, loss: -0.01294\n",
      "epoch: 09, loss: -0.01316\n",
      "torch.Size([500, 32])\n"
     ]
    },
    {
     "name": "stderr",
     "output_type": "stream",
     "text": [
      " 27%|██▋       | 272/1000 [2:13:28<5:53:41, 29.15s/it]"
     ]
    },
    {
     "name": "stdout",
     "output_type": "stream",
     "text": [
      "eigenvalues shape torch.Size([5]) eigenvectors shape torch.Size([5, 500])\n",
      "272 /home/phdcs2/Hard_Disk/Datasets/Deep-Spectral-Segmentation/data/object-segmentation/ECSSD/features/dino_vits16/0273.pth\n",
      "dict_keys(['k', 'indices', 'file', 'id', 'model_name', 'patch_size', 'shape'])\n",
      "0273\n",
      "Starting Training\n",
      "epoch: 00, loss: 0.00179\n",
      "epoch: 01, loss: -0.00446\n",
      "epoch: 02, loss: -0.02241\n",
      "epoch: 03, loss: -0.04752\n",
      "epoch: 04, loss: -0.00381\n",
      "epoch: 05, loss: -0.05590\n",
      "epoch: 06, loss: -0.05240\n",
      "epoch: 07, loss: -0.05458\n",
      "epoch: 08, loss: -0.08354\n",
      "epoch: 09, loss: -0.07525\n",
      "torch.Size([400, 32])\n"
     ]
    },
    {
     "name": "stderr",
     "output_type": "stream",
     "text": [
      " 27%|██▋       | 273/1000 [2:13:51<5:29:59, 27.23s/it]"
     ]
    },
    {
     "name": "stdout",
     "output_type": "stream",
     "text": [
      "eigenvalues shape torch.Size([5]) eigenvectors shape torch.Size([5, 400])\n",
      "273 /home/phdcs2/Hard_Disk/Datasets/Deep-Spectral-Segmentation/data/object-segmentation/ECSSD/features/dino_vits16/0274.pth\n",
      "dict_keys(['k', 'indices', 'file', 'id', 'model_name', 'patch_size', 'shape'])\n",
      "0274\n",
      "Starting Training\n",
      "epoch: 00, loss: 0.00274\n",
      "epoch: 01, loss: 0.00223\n",
      "epoch: 02, loss: -0.01354\n",
      "epoch: 03, loss: -0.00437\n",
      "epoch: 04, loss: -0.00601\n",
      "epoch: 05, loss: -0.00005\n",
      "epoch: 06, loss: -0.01268\n",
      "epoch: 07, loss: -0.01314\n",
      "epoch: 08, loss: -0.01454\n",
      "epoch: 09, loss: -0.03123\n",
      "torch.Size([575, 32])\n"
     ]
    },
    {
     "name": "stderr",
     "output_type": "stream",
     "text": [
      " 27%|██▋       | 274/1000 [2:14:32<6:18:27, 31.28s/it]"
     ]
    },
    {
     "name": "stdout",
     "output_type": "stream",
     "text": [
      "eigenvalues shape torch.Size([5]) eigenvectors shape torch.Size([5, 575])\n",
      "274 /home/phdcs2/Hard_Disk/Datasets/Deep-Spectral-Segmentation/data/object-segmentation/ECSSD/features/dino_vits16/0275.pth\n",
      "dict_keys(['k', 'indices', 'file', 'id', 'model_name', 'patch_size', 'shape'])\n",
      "0275\n",
      "Starting Training\n",
      "epoch: 00, loss: -0.01215\n",
      "epoch: 01, loss: -0.00106\n",
      "epoch: 02, loss: -0.01340\n",
      "epoch: 03, loss: 0.00036\n",
      "epoch: 04, loss: -0.00760\n",
      "epoch: 05, loss: -0.01926\n",
      "epoch: 06, loss: 0.01179\n",
      "epoch: 07, loss: -0.00476\n",
      "epoch: 08, loss: -0.00092\n",
      "epoch: 09, loss: -0.00444\n",
      "torch.Size([400, 32])\n"
     ]
    },
    {
     "name": "stderr",
     "output_type": "stream",
     "text": [
      " 28%|██▊       | 275/1000 [2:14:55<5:49:30, 28.93s/it]"
     ]
    },
    {
     "name": "stdout",
     "output_type": "stream",
     "text": [
      "eigenvalues shape torch.Size([5]) eigenvectors shape torch.Size([5, 400])\n",
      "275 /home/phdcs2/Hard_Disk/Datasets/Deep-Spectral-Segmentation/data/object-segmentation/ECSSD/features/dino_vits16/0276.pth\n",
      "dict_keys(['k', 'indices', 'file', 'id', 'model_name', 'patch_size', 'shape'])\n",
      "0276\n",
      "Starting Training\n",
      "epoch: 00, loss: 0.00648\n",
      "epoch: 01, loss: 0.00257\n",
      "epoch: 02, loss: 0.00003\n",
      "epoch: 03, loss: -0.00145\n",
      "epoch: 04, loss: -0.00249\n",
      "epoch: 05, loss: -0.00325\n",
      "epoch: 06, loss: -0.00372\n",
      "epoch: 07, loss: -0.00388\n",
      "epoch: 08, loss: -0.00517\n",
      "epoch: 09, loss: -0.00462\n",
      "torch.Size([525, 32])\n"
     ]
    },
    {
     "name": "stderr",
     "output_type": "stream",
     "text": [
      " 28%|██▊       | 276/1000 [2:15:31<6:15:31, 31.12s/it]"
     ]
    },
    {
     "name": "stdout",
     "output_type": "stream",
     "text": [
      "eigenvalues shape torch.Size([5]) eigenvectors shape torch.Size([5, 525])\n",
      "276 /home/phdcs2/Hard_Disk/Datasets/Deep-Spectral-Segmentation/data/object-segmentation/ECSSD/features/dino_vits16/0277.pth\n",
      "dict_keys(['k', 'indices', 'file', 'id', 'model_name', 'patch_size', 'shape'])\n",
      "0277\n",
      "Starting Training\n",
      "epoch: 00, loss: 0.01002\n",
      "epoch: 01, loss: 0.00094\n",
      "epoch: 02, loss: -0.00411\n",
      "epoch: 03, loss: -0.00815\n",
      "epoch: 04, loss: -0.01070\n",
      "epoch: 05, loss: -0.01234\n",
      "epoch: 06, loss: -0.01332\n",
      "epoch: 07, loss: -0.01419\n",
      "epoch: 08, loss: -0.01453\n",
      "epoch: 09, loss: -0.01496\n",
      "torch.Size([400, 32])\n"
     ]
    },
    {
     "name": "stderr",
     "output_type": "stream",
     "text": [
      " 28%|██▊       | 277/1000 [2:15:52<5:38:23, 28.08s/it]"
     ]
    },
    {
     "name": "stdout",
     "output_type": "stream",
     "text": [
      "eigenvalues shape torch.Size([5]) eigenvectors shape torch.Size([5, 400])\n",
      "277 /home/phdcs2/Hard_Disk/Datasets/Deep-Spectral-Segmentation/data/object-segmentation/ECSSD/features/dino_vits16/0278.pth\n",
      "dict_keys(['k', 'indices', 'file', 'id', 'model_name', 'patch_size', 'shape'])\n",
      "0278\n",
      "Starting Training\n",
      "epoch: 00, loss: -0.00086\n",
      "epoch: 01, loss: -0.00661\n",
      "epoch: 02, loss: -0.00913\n",
      "epoch: 03, loss: -0.01096\n",
      "epoch: 04, loss: -0.01499\n",
      "epoch: 05, loss: -0.01538\n",
      "epoch: 06, loss: -0.00915\n",
      "epoch: 07, loss: -0.01414\n",
      "epoch: 08, loss: -0.00830\n",
      "epoch: 09, loss: -0.01367\n",
      "torch.Size([550, 32])\n"
     ]
    },
    {
     "name": "stderr",
     "output_type": "stream",
     "text": [
      " 28%|██▊       | 278/1000 [2:16:30<6:11:46, 30.90s/it]"
     ]
    },
    {
     "name": "stdout",
     "output_type": "stream",
     "text": [
      "eigenvalues shape torch.Size([5]) eigenvectors shape torch.Size([5, 550])\n",
      "278 /home/phdcs2/Hard_Disk/Datasets/Deep-Spectral-Segmentation/data/object-segmentation/ECSSD/features/dino_vits16/0279.pth\n",
      "dict_keys(['k', 'indices', 'file', 'id', 'model_name', 'patch_size', 'shape'])\n",
      "0279\n",
      "Starting Training\n",
      "epoch: 00, loss: 0.00243\n",
      "epoch: 01, loss: -0.00551\n",
      "epoch: 02, loss: -0.00874\n",
      "epoch: 03, loss: -0.01008\n",
      "epoch: 04, loss: -0.01093\n",
      "epoch: 05, loss: -0.01137\n",
      "epoch: 06, loss: -0.01180\n",
      "epoch: 07, loss: -0.01219\n",
      "epoch: 08, loss: -0.01218\n",
      "epoch: 09, loss: -0.01246\n",
      "torch.Size([450, 32])\n"
     ]
    },
    {
     "name": "stderr",
     "output_type": "stream",
     "text": [
      " 28%|██▊       | 279/1000 [2:16:57<5:58:42, 29.85s/it]"
     ]
    },
    {
     "name": "stdout",
     "output_type": "stream",
     "text": [
      "eigenvalues shape torch.Size([5]) eigenvectors shape torch.Size([5, 450])\n",
      "279 /home/phdcs2/Hard_Disk/Datasets/Deep-Spectral-Segmentation/data/object-segmentation/ECSSD/features/dino_vits16/0280.pth\n",
      "dict_keys(['k', 'indices', 'file', 'id', 'model_name', 'patch_size', 'shape'])\n",
      "0280\n",
      "Starting Training\n",
      "epoch: 00, loss: -0.00242\n",
      "epoch: 01, loss: 0.00742\n",
      "epoch: 02, loss: -0.00430\n",
      "epoch: 03, loss: 0.00317\n",
      "epoch: 04, loss: -0.00479\n",
      "epoch: 05, loss: -0.00138\n",
      "epoch: 06, loss: -0.01750\n",
      "epoch: 07, loss: -0.01457\n",
      "epoch: 08, loss: -0.01642\n",
      "epoch: 09, loss: -0.01612\n",
      "torch.Size([625, 32])\n"
     ]
    },
    {
     "name": "stderr",
     "output_type": "stream",
     "text": [
      " 28%|██▊       | 280/1000 [2:17:43<6:56:56, 34.75s/it]"
     ]
    },
    {
     "name": "stdout",
     "output_type": "stream",
     "text": [
      "eigenvalues shape torch.Size([5]) eigenvectors shape torch.Size([5, 625])\n",
      "280 /home/phdcs2/Hard_Disk/Datasets/Deep-Spectral-Segmentation/data/object-segmentation/ECSSD/features/dino_vits16/0281.pth\n",
      "dict_keys(['k', 'indices', 'file', 'id', 'model_name', 'patch_size', 'shape'])\n",
      "0281\n",
      "Starting Training\n",
      "epoch: 00, loss: 0.00136\n",
      "epoch: 01, loss: -0.00723\n",
      "epoch: 02, loss: -0.00981\n",
      "epoch: 03, loss: -0.01232\n",
      "epoch: 04, loss: -0.01277\n",
      "epoch: 05, loss: -0.01341\n",
      "epoch: 06, loss: -0.01386\n",
      "epoch: 07, loss: -0.01368\n",
      "epoch: 08, loss: -0.01424\n",
      "epoch: 09, loss: -0.01356\n",
      "torch.Size([450, 32])\n"
     ]
    },
    {
     "name": "stderr",
     "output_type": "stream",
     "text": [
      " 28%|██▊       | 281/1000 [2:18:12<6:34:58, 32.96s/it]"
     ]
    },
    {
     "name": "stdout",
     "output_type": "stream",
     "text": [
      "eigenvalues shape torch.Size([5]) eigenvectors shape torch.Size([5, 450])\n",
      "281 /home/phdcs2/Hard_Disk/Datasets/Deep-Spectral-Segmentation/data/object-segmentation/ECSSD/features/dino_vits16/0282.pth\n",
      "dict_keys(['k', 'indices', 'file', 'id', 'model_name', 'patch_size', 'shape'])\n",
      "0282\n",
      "Starting Training\n",
      "epoch: 00, loss: -0.00038\n",
      "epoch: 01, loss: -0.00583\n",
      "epoch: 02, loss: -0.01728\n",
      "epoch: 03, loss: 0.00093\n",
      "epoch: 04, loss: -0.01221\n",
      "epoch: 05, loss: 0.00251\n",
      "epoch: 06, loss: -0.02236\n",
      "epoch: 07, loss: -0.01329\n",
      "epoch: 08, loss: -0.01204\n",
      "epoch: 09, loss: -0.01125\n",
      "torch.Size([400, 32])\n"
     ]
    },
    {
     "name": "stderr",
     "output_type": "stream",
     "text": [
      " 28%|██▊       | 282/1000 [2:18:36<6:02:31, 30.29s/it]"
     ]
    },
    {
     "name": "stdout",
     "output_type": "stream",
     "text": [
      "eigenvalues shape torch.Size([5]) eigenvectors shape torch.Size([5, 400])\n",
      "282 /home/phdcs2/Hard_Disk/Datasets/Deep-Spectral-Segmentation/data/object-segmentation/ECSSD/features/dino_vits16/0283.pth\n",
      "dict_keys(['k', 'indices', 'file', 'id', 'model_name', 'patch_size', 'shape'])\n",
      "0283\n",
      "Starting Training\n",
      "epoch: 00, loss: 0.00701\n",
      "epoch: 01, loss: -0.00208\n",
      "epoch: 02, loss: -0.00658\n",
      "epoch: 03, loss: -0.00907\n",
      "epoch: 04, loss: -0.01069\n",
      "epoch: 05, loss: -0.01169\n",
      "epoch: 06, loss: -0.01262\n",
      "epoch: 07, loss: -0.01317\n",
      "epoch: 08, loss: -0.01326\n",
      "epoch: 09, loss: -0.01371\n",
      "torch.Size([400, 32])\n"
     ]
    },
    {
     "name": "stderr",
     "output_type": "stream",
     "text": [
      " 28%|██▊       | 283/1000 [2:19:00<5:38:08, 28.30s/it]"
     ]
    },
    {
     "name": "stdout",
     "output_type": "stream",
     "text": [
      "eigenvalues shape torch.Size([5]) eigenvectors shape torch.Size([5, 400])\n",
      "283 /home/phdcs2/Hard_Disk/Datasets/Deep-Spectral-Segmentation/data/object-segmentation/ECSSD/features/dino_vits16/0284.pth\n",
      "dict_keys(['k', 'indices', 'file', 'id', 'model_name', 'patch_size', 'shape'])\n",
      "0284\n",
      "Starting Training\n",
      "epoch: 00, loss: 0.01041\n",
      "epoch: 01, loss: 0.00433\n",
      "epoch: 02, loss: 0.00147\n",
      "epoch: 03, loss: 0.00008\n",
      "epoch: 04, loss: -0.00115\n",
      "epoch: 05, loss: -0.00208\n",
      "epoch: 06, loss: -0.00261\n",
      "epoch: 07, loss: -0.00315\n",
      "epoch: 08, loss: -0.00370\n",
      "epoch: 09, loss: -0.00411\n",
      "torch.Size([400, 32])\n"
     ]
    },
    {
     "name": "stderr",
     "output_type": "stream",
     "text": [
      " 28%|██▊       | 284/1000 [2:19:24<5:22:14, 27.00s/it]"
     ]
    },
    {
     "name": "stdout",
     "output_type": "stream",
     "text": [
      "eigenvalues shape torch.Size([5]) eigenvectors shape torch.Size([5, 400])\n",
      "284 /home/phdcs2/Hard_Disk/Datasets/Deep-Spectral-Segmentation/data/object-segmentation/ECSSD/features/dino_vits16/0285.pth\n",
      "dict_keys(['k', 'indices', 'file', 'id', 'model_name', 'patch_size', 'shape'])\n",
      "0285\n",
      "Starting Training\n",
      "epoch: 00, loss: -0.00096\n",
      "epoch: 01, loss: 0.00701\n",
      "epoch: 02, loss: 0.00325\n",
      "epoch: 03, loss: -0.03334\n",
      "epoch: 04, loss: -0.05269\n",
      "epoch: 05, loss: -0.03093\n",
      "epoch: 06, loss: -0.04943\n",
      "epoch: 07, loss: -0.06433\n",
      "epoch: 08, loss: -0.05839\n",
      "epoch: 09, loss: -0.07746\n",
      "torch.Size([400, 32])\n"
     ]
    },
    {
     "name": "stderr",
     "output_type": "stream",
     "text": [
      " 28%|██▊       | 285/1000 [2:19:47<5:06:11, 25.69s/it]"
     ]
    },
    {
     "name": "stdout",
     "output_type": "stream",
     "text": [
      "eigenvalues shape torch.Size([5]) eigenvectors shape torch.Size([5, 400])\n",
      "285 /home/phdcs2/Hard_Disk/Datasets/Deep-Spectral-Segmentation/data/object-segmentation/ECSSD/features/dino_vits16/0286.pth\n",
      "dict_keys(['k', 'indices', 'file', 'id', 'model_name', 'patch_size', 'shape'])\n",
      "0286\n",
      "Starting Training\n",
      "epoch: 00, loss: 0.00272\n",
      "epoch: 01, loss: -0.00592\n",
      "epoch: 02, loss: -0.00882\n",
      "epoch: 03, loss: -0.01043\n",
      "epoch: 04, loss: -0.01141\n",
      "epoch: 05, loss: -0.01226\n",
      "epoch: 06, loss: -0.01250\n",
      "epoch: 07, loss: -0.01283\n",
      "epoch: 08, loss: -0.01315\n",
      "epoch: 09, loss: -0.01306\n",
      "torch.Size([450, 32])\n"
     ]
    },
    {
     "name": "stderr",
     "output_type": "stream",
     "text": [
      " 29%|██▊       | 286/1000 [2:20:17<5:21:09, 26.99s/it]"
     ]
    },
    {
     "name": "stdout",
     "output_type": "stream",
     "text": [
      "eigenvalues shape torch.Size([5]) eigenvectors shape torch.Size([5, 450])\n",
      "286 /home/phdcs2/Hard_Disk/Datasets/Deep-Spectral-Segmentation/data/object-segmentation/ECSSD/features/dino_vits16/0287.pth\n",
      "dict_keys(['k', 'indices', 'file', 'id', 'model_name', 'patch_size', 'shape'])\n",
      "0287\n",
      "Starting Training\n",
      "epoch: 00, loss: -0.00519\n",
      "epoch: 01, loss: -0.00739\n",
      "epoch: 02, loss: -0.01284\n",
      "epoch: 03, loss: 0.00346\n",
      "epoch: 04, loss: 0.00522\n",
      "epoch: 05, loss: -0.00381\n",
      "epoch: 06, loss: -0.01404\n",
      "epoch: 07, loss: 0.00554\n",
      "epoch: 08, loss: -0.02030\n",
      "epoch: 09, loss: -0.00705\n",
      "torch.Size([375, 32])\n"
     ]
    },
    {
     "name": "stderr",
     "output_type": "stream",
     "text": [
      " 29%|██▊       | 287/1000 [2:20:46<5:30:59, 27.85s/it]"
     ]
    },
    {
     "name": "stdout",
     "output_type": "stream",
     "text": [
      "eigenvalues shape torch.Size([5]) eigenvectors shape torch.Size([5, 375])\n",
      "287 /home/phdcs2/Hard_Disk/Datasets/Deep-Spectral-Segmentation/data/object-segmentation/ECSSD/features/dino_vits16/0288.pth\n",
      "dict_keys(['k', 'indices', 'file', 'id', 'model_name', 'patch_size', 'shape'])\n",
      "0288\n",
      "Starting Training\n",
      "epoch: 00, loss: -0.00297\n",
      "epoch: 01, loss: -0.00472\n",
      "epoch: 02, loss: -0.01063\n",
      "epoch: 03, loss: -0.00548\n",
      "epoch: 04, loss: -0.00811\n",
      "epoch: 05, loss: -0.01181\n",
      "epoch: 06, loss: -0.00192\n",
      "epoch: 07, loss: -0.00106\n",
      "epoch: 08, loss: -0.01056\n",
      "epoch: 09, loss: -0.00849\n",
      "torch.Size([450, 32])\n"
     ]
    },
    {
     "name": "stderr",
     "output_type": "stream",
     "text": [
      " 29%|██▉       | 288/1000 [2:21:25<6:08:40, 31.07s/it]"
     ]
    },
    {
     "name": "stdout",
     "output_type": "stream",
     "text": [
      "eigenvalues shape torch.Size([5]) eigenvectors shape torch.Size([5, 450])\n",
      "288 /home/phdcs2/Hard_Disk/Datasets/Deep-Spectral-Segmentation/data/object-segmentation/ECSSD/features/dino_vits16/0289.pth\n",
      "dict_keys(['k', 'indices', 'file', 'id', 'model_name', 'patch_size', 'shape'])\n",
      "0289\n",
      "Starting Training\n",
      "epoch: 00, loss: 0.00760\n",
      "epoch: 01, loss: 0.01111\n",
      "epoch: 02, loss: 0.00286\n",
      "epoch: 03, loss: -0.00606\n",
      "epoch: 04, loss: -0.00132\n",
      "epoch: 05, loss: 0.00142\n",
      "epoch: 06, loss: -0.00185\n",
      "epoch: 07, loss: -0.01488\n",
      "epoch: 08, loss: -0.00090\n",
      "epoch: 09, loss: -0.02195\n",
      "torch.Size([450, 32])\n"
     ]
    },
    {
     "name": "stderr",
     "output_type": "stream",
     "text": [
      " 29%|██▉       | 289/1000 [2:21:50<5:47:37, 29.34s/it]"
     ]
    },
    {
     "name": "stdout",
     "output_type": "stream",
     "text": [
      "eigenvalues shape torch.Size([5]) eigenvectors shape torch.Size([5, 450])\n",
      "289 /home/phdcs2/Hard_Disk/Datasets/Deep-Spectral-Segmentation/data/object-segmentation/ECSSD/features/dino_vits16/0290.pth\n",
      "dict_keys(['k', 'indices', 'file', 'id', 'model_name', 'patch_size', 'shape'])\n",
      "0290\n",
      "Starting Training\n",
      "epoch: 00, loss: 0.00740\n",
      "epoch: 01, loss: 0.00445\n",
      "epoch: 02, loss: 0.00180\n",
      "epoch: 03, loss: 0.00107\n",
      "epoch: 04, loss: 0.00045\n",
      "epoch: 05, loss: -0.00084\n",
      "epoch: 06, loss: -0.00099\n",
      "epoch: 07, loss: -0.00162\n",
      "epoch: 08, loss: -0.00174\n",
      "epoch: 09, loss: -0.00286\n",
      "torch.Size([375, 32])\n"
     ]
    },
    {
     "name": "stderr",
     "output_type": "stream",
     "text": [
      " 29%|██▉       | 290/1000 [2:22:21<5:50:52, 29.65s/it]"
     ]
    },
    {
     "name": "stdout",
     "output_type": "stream",
     "text": [
      "eigenvalues shape torch.Size([5]) eigenvectors shape torch.Size([5, 375])\n",
      "290 /home/phdcs2/Hard_Disk/Datasets/Deep-Spectral-Segmentation/data/object-segmentation/ECSSD/features/dino_vits16/0291.pth\n",
      "dict_keys(['k', 'indices', 'file', 'id', 'model_name', 'patch_size', 'shape'])\n",
      "0291\n",
      "Starting Training\n",
      "epoch: 00, loss: 0.00873\n",
      "epoch: 01, loss: 0.00236\n",
      "epoch: 02, loss: -0.00079\n",
      "epoch: 03, loss: -0.00218\n",
      "epoch: 04, loss: -0.00351\n",
      "epoch: 05, loss: -0.00426\n",
      "epoch: 06, loss: -0.00514\n",
      "epoch: 07, loss: -0.00593\n",
      "epoch: 08, loss: -0.00599\n",
      "epoch: 09, loss: -0.00717\n",
      "torch.Size([475, 32])\n"
     ]
    },
    {
     "name": "stderr",
     "output_type": "stream",
     "text": [
      " 29%|██▉       | 291/1000 [2:22:49<5:44:35, 29.16s/it]"
     ]
    },
    {
     "name": "stdout",
     "output_type": "stream",
     "text": [
      "eigenvalues shape torch.Size([5]) eigenvectors shape torch.Size([5, 475])\n",
      "291 /home/phdcs2/Hard_Disk/Datasets/Deep-Spectral-Segmentation/data/object-segmentation/ECSSD/features/dino_vits16/0292.pth\n",
      "dict_keys(['k', 'indices', 'file', 'id', 'model_name', 'patch_size', 'shape'])\n",
      "0292\n",
      "Starting Training\n",
      "epoch: 00, loss: -0.00538\n",
      "epoch: 01, loss: -0.00477\n",
      "epoch: 02, loss: -0.00673\n",
      "epoch: 03, loss: -0.02069\n",
      "epoch: 04, loss: 0.00179\n",
      "epoch: 05, loss: -0.01796\n",
      "epoch: 06, loss: -0.00938\n",
      "epoch: 07, loss: -0.01446\n",
      "epoch: 08, loss: -0.01203\n",
      "epoch: 09, loss: -0.01443\n",
      "torch.Size([400, 32])\n"
     ]
    },
    {
     "name": "stderr",
     "output_type": "stream",
     "text": [
      " 29%|██▉       | 292/1000 [2:23:21<5:54:49, 30.07s/it]"
     ]
    },
    {
     "name": "stdout",
     "output_type": "stream",
     "text": [
      "eigenvalues shape torch.Size([5]) eigenvectors shape torch.Size([5, 400])\n",
      "292 /home/phdcs2/Hard_Disk/Datasets/Deep-Spectral-Segmentation/data/object-segmentation/ECSSD/features/dino_vits16/0293.pth\n",
      "dict_keys(['k', 'indices', 'file', 'id', 'model_name', 'patch_size', 'shape'])\n",
      "0293\n",
      "Starting Training\n",
      "epoch: 00, loss: 0.00064\n",
      "epoch: 01, loss: 0.02145\n",
      "epoch: 02, loss: -0.01638\n",
      "epoch: 03, loss: -0.01632\n",
      "epoch: 04, loss: -0.01093\n",
      "epoch: 05, loss: 0.00193\n",
      "epoch: 06, loss: -0.00549\n",
      "epoch: 07, loss: -0.01957\n",
      "epoch: 08, loss: -0.00331\n",
      "epoch: 09, loss: -0.02146\n",
      "torch.Size([425, 32])\n"
     ]
    },
    {
     "name": "stderr",
     "output_type": "stream",
     "text": [
      " 29%|██▉       | 293/1000 [2:23:44<5:31:34, 28.14s/it]"
     ]
    },
    {
     "name": "stdout",
     "output_type": "stream",
     "text": [
      "eigenvalues shape torch.Size([5]) eigenvectors shape torch.Size([5, 425])\n",
      "293 /home/phdcs2/Hard_Disk/Datasets/Deep-Spectral-Segmentation/data/object-segmentation/ECSSD/features/dino_vits16/0294.pth\n",
      "dict_keys(['k', 'indices', 'file', 'id', 'model_name', 'patch_size', 'shape'])\n",
      "0294\n",
      "Starting Training\n",
      "epoch: 00, loss: 0.00670\n",
      "epoch: 01, loss: -0.00117\n",
      "epoch: 02, loss: -0.00693\n",
      "epoch: 03, loss: -0.00708\n",
      "epoch: 04, loss: -0.01362\n",
      "epoch: 05, loss: -0.01288\n",
      "epoch: 06, loss: -0.02085\n",
      "epoch: 07, loss: -0.02403\n",
      "epoch: 08, loss: -0.02830\n",
      "epoch: 09, loss: 0.00885\n",
      "torch.Size([425, 32])\n"
     ]
    },
    {
     "name": "stderr",
     "output_type": "stream",
     "text": [
      "/home/phdcs2/Hard_Disk/Projects/T2I/deep-spectral-segmentation/venv/lib/python3.8/site-packages/scipy/sparse/linalg/_eigen/arpack/arpack.py:935: LinAlgWarning: Diagonal number 425 is exactly zero. Singular matrix.\n",
      "  self.M_lu = lu_factor(M)\n"
     ]
    },
    {
     "name": "stdout",
     "output_type": "stream",
     "text": [
      " ** On entry to SLASCL parameter number  4 had an illegal value\n",
      " ** On entry to SLASCL parameter number  4 had an illegal value\n"
     ]
    },
    {
     "name": "stderr",
     "output_type": "stream",
     "text": [
      " 29%|██▉       | 294/1000 [2:24:14<5:34:11, 28.40s/it]"
     ]
    },
    {
     "name": "stdout",
     "output_type": "stream",
     "text": [
      "eigenvalues shape torch.Size([5]) eigenvectors shape torch.Size([5, 425])\n",
      "294 /home/phdcs2/Hard_Disk/Datasets/Deep-Spectral-Segmentation/data/object-segmentation/ECSSD/features/dino_vits16/0295.pth\n",
      "dict_keys(['k', 'indices', 'file', 'id', 'model_name', 'patch_size', 'shape'])\n",
      "0295\n",
      "Starting Training\n",
      "epoch: 00, loss: 0.00961\n",
      "epoch: 01, loss: -0.00111\n",
      "epoch: 02, loss: -0.00130\n",
      "epoch: 03, loss: -0.00964\n",
      "epoch: 04, loss: -0.01086\n",
      "epoch: 05, loss: -0.01183\n",
      "epoch: 06, loss: -0.01458\n",
      "epoch: 07, loss: -0.00916\n",
      "epoch: 08, loss: -0.01167\n",
      "epoch: 09, loss: -0.01254\n",
      "torch.Size([425, 32])\n"
     ]
    },
    {
     "name": "stderr",
     "output_type": "stream",
     "text": [
      " 30%|██▉       | 295/1000 [2:24:38<5:18:14, 27.08s/it]"
     ]
    },
    {
     "name": "stdout",
     "output_type": "stream",
     "text": [
      "eigenvalues shape torch.Size([5]) eigenvectors shape torch.Size([5, 425])\n",
      "295 /home/phdcs2/Hard_Disk/Datasets/Deep-Spectral-Segmentation/data/object-segmentation/ECSSD/features/dino_vits16/0296.pth\n",
      "dict_keys(['k', 'indices', 'file', 'id', 'model_name', 'patch_size', 'shape'])\n",
      "0296\n",
      "Starting Training\n",
      "epoch: 00, loss: -0.00911\n",
      "epoch: 01, loss: -0.02164\n",
      "epoch: 02, loss: -0.04101\n",
      "epoch: 03, loss: -0.05532\n",
      "epoch: 04, loss: -0.03835\n",
      "epoch: 05, loss: -0.06856\n",
      "epoch: 06, loss: -0.07854\n",
      "epoch: 07, loss: -0.07263\n",
      "epoch: 08, loss: -0.08228\n",
      "epoch: 09, loss: -0.09408\n",
      "torch.Size([425, 32])\n"
     ]
    },
    {
     "name": "stderr",
     "output_type": "stream",
     "text": [
      " 30%|██▉       | 296/1000 [2:25:01<5:05:53, 26.07s/it]"
     ]
    },
    {
     "name": "stdout",
     "output_type": "stream",
     "text": [
      "eigenvalues shape torch.Size([5]) eigenvectors shape torch.Size([5, 425])\n",
      "296 /home/phdcs2/Hard_Disk/Datasets/Deep-Spectral-Segmentation/data/object-segmentation/ECSSD/features/dino_vits16/0297.pth\n",
      "dict_keys(['k', 'indices', 'file', 'id', 'model_name', 'patch_size', 'shape'])\n",
      "0297\n",
      "Starting Training\n",
      "epoch: 00, loss: 0.00838\n",
      "epoch: 01, loss: 0.00395\n",
      "epoch: 02, loss: 0.00127\n",
      "epoch: 03, loss: -0.00118\n",
      "epoch: 04, loss: -0.00257\n",
      "epoch: 05, loss: -0.00371\n",
      "epoch: 06, loss: -0.00458\n",
      "epoch: 07, loss: -0.00588\n",
      "epoch: 08, loss: -0.00536\n",
      "epoch: 09, loss: -0.00642\n",
      "torch.Size([475, 32])\n"
     ]
    },
    {
     "name": "stderr",
     "output_type": "stream",
     "text": [
      " 30%|██▉       | 297/1000 [2:25:28<5:09:02, 26.38s/it]"
     ]
    },
    {
     "name": "stdout",
     "output_type": "stream",
     "text": [
      "eigenvalues shape torch.Size([5]) eigenvectors shape torch.Size([5, 475])\n",
      "297 /home/phdcs2/Hard_Disk/Datasets/Deep-Spectral-Segmentation/data/object-segmentation/ECSSD/features/dino_vits16/0298.pth\n",
      "dict_keys(['k', 'indices', 'file', 'id', 'model_name', 'patch_size', 'shape'])\n",
      "0298\n",
      "Starting Training\n",
      "epoch: 00, loss: 0.00745\n",
      "epoch: 01, loss: 0.00481\n",
      "epoch: 02, loss: 0.00175\n",
      "epoch: 03, loss: -0.00107\n",
      "epoch: 04, loss: -0.00201\n",
      "epoch: 05, loss: 0.00101\n",
      "epoch: 06, loss: 0.00060\n",
      "epoch: 07, loss: -0.00101\n",
      "epoch: 08, loss: -0.00116\n",
      "epoch: 09, loss: -0.00348\n",
      "torch.Size([400, 32])\n"
     ]
    },
    {
     "name": "stderr",
     "output_type": "stream",
     "text": [
      " 30%|██▉       | 298/1000 [2:25:49<4:47:54, 24.61s/it]"
     ]
    },
    {
     "name": "stdout",
     "output_type": "stream",
     "text": [
      "eigenvalues shape torch.Size([5]) eigenvectors shape torch.Size([5, 400])\n",
      "298 /home/phdcs2/Hard_Disk/Datasets/Deep-Spectral-Segmentation/data/object-segmentation/ECSSD/features/dino_vits16/0299.pth\n",
      "dict_keys(['k', 'indices', 'file', 'id', 'model_name', 'patch_size', 'shape'])\n",
      "0299\n",
      "Starting Training\n",
      "epoch: 00, loss: 0.00918\n",
      "epoch: 01, loss: 0.00446\n",
      "epoch: 02, loss: 0.00181\n",
      "epoch: 03, loss: 0.00020\n",
      "epoch: 04, loss: -0.00107\n",
      "epoch: 05, loss: -0.00198\n",
      "epoch: 06, loss: -0.00293\n",
      "epoch: 07, loss: -0.00345\n",
      "epoch: 08, loss: -0.00407\n",
      "epoch: 09, loss: -0.00443\n",
      "torch.Size([450, 32])\n"
     ]
    },
    {
     "name": "stderr",
     "output_type": "stream",
     "text": [
      " 30%|██▉       | 299/1000 [2:26:16<4:58:12, 25.52s/it]"
     ]
    },
    {
     "name": "stdout",
     "output_type": "stream",
     "text": [
      "eigenvalues shape torch.Size([5]) eigenvectors shape torch.Size([5, 450])\n",
      "299 /home/phdcs2/Hard_Disk/Datasets/Deep-Spectral-Segmentation/data/object-segmentation/ECSSD/features/dino_vits16/0300.pth\n",
      "dict_keys(['k', 'indices', 'file', 'id', 'model_name', 'patch_size', 'shape'])\n",
      "0300\n",
      "Starting Training\n",
      "epoch: 00, loss: -0.00848\n",
      "epoch: 01, loss: 0.00179\n",
      "epoch: 02, loss: 0.00353\n",
      "epoch: 03, loss: -0.00243\n",
      "epoch: 04, loss: 0.00236\n",
      "epoch: 05, loss: 0.00251\n",
      "epoch: 06, loss: -0.01129\n",
      "epoch: 07, loss: 0.00271\n",
      "epoch: 08, loss: -0.00841\n",
      "epoch: 09, loss: -0.01101\n",
      "torch.Size([475, 32])\n"
     ]
    },
    {
     "name": "stderr",
     "output_type": "stream",
     "text": [
      " 30%|███       | 300/1000 [2:26:47<5:14:12, 26.93s/it]"
     ]
    },
    {
     "name": "stdout",
     "output_type": "stream",
     "text": [
      "eigenvalues shape torch.Size([5]) eigenvectors shape torch.Size([5, 475])\n",
      "300 /home/phdcs2/Hard_Disk/Datasets/Deep-Spectral-Segmentation/data/object-segmentation/ECSSD/features/dino_vits16/0301.pth\n",
      "dict_keys(['k', 'indices', 'file', 'id', 'model_name', 'patch_size', 'shape'])\n",
      "0301\n",
      "Starting Training\n",
      "epoch: 00, loss: 0.00969\n",
      "epoch: 01, loss: 0.00479\n",
      "epoch: 02, loss: 0.00240\n",
      "epoch: 03, loss: 0.00056\n",
      "epoch: 04, loss: -0.00038\n",
      "epoch: 05, loss: -0.00113\n",
      "epoch: 06, loss: -0.00192\n",
      "epoch: 07, loss: -0.00249\n",
      "epoch: 08, loss: -0.00312\n",
      "epoch: 09, loss: -0.00349\n",
      "torch.Size([400, 32])\n"
     ]
    },
    {
     "name": "stderr",
     "output_type": "stream",
     "text": [
      " 30%|███       | 301/1000 [2:27:11<5:04:48, 26.16s/it]"
     ]
    },
    {
     "name": "stdout",
     "output_type": "stream",
     "text": [
      "eigenvalues shape torch.Size([5]) eigenvectors shape torch.Size([5, 400])\n",
      "301 /home/phdcs2/Hard_Disk/Datasets/Deep-Spectral-Segmentation/data/object-segmentation/ECSSD/features/dino_vits16/0302.pth\n",
      "dict_keys(['k', 'indices', 'file', 'id', 'model_name', 'patch_size', 'shape'])\n",
      "0302\n",
      "Starting Training\n",
      "epoch: 00, loss: 0.00371\n",
      "epoch: 01, loss: -0.00358\n",
      "epoch: 02, loss: -0.00673\n",
      "epoch: 03, loss: -0.00872\n",
      "epoch: 04, loss: -0.00966\n",
      "epoch: 05, loss: -0.01026\n",
      "epoch: 06, loss: -0.01079\n",
      "epoch: 07, loss: -0.01114\n",
      "epoch: 08, loss: -0.01132\n",
      "epoch: 09, loss: -0.01164\n",
      "torch.Size([450, 32])\n"
     ]
    },
    {
     "name": "stderr",
     "output_type": "stream",
     "text": [
      " 30%|███       | 302/1000 [2:27:49<5:45:36, 29.71s/it]"
     ]
    },
    {
     "name": "stdout",
     "output_type": "stream",
     "text": [
      "eigenvalues shape torch.Size([5]) eigenvectors shape torch.Size([5, 450])\n",
      "302 /home/phdcs2/Hard_Disk/Datasets/Deep-Spectral-Segmentation/data/object-segmentation/ECSSD/features/dino_vits16/0303.pth\n",
      "dict_keys(['k', 'indices', 'file', 'id', 'model_name', 'patch_size', 'shape'])\n",
      "0303\n",
      "Starting Training\n",
      "epoch: 00, loss: 0.00446\n",
      "epoch: 01, loss: -0.00217\n",
      "epoch: 02, loss: -0.00389\n",
      "epoch: 03, loss: -0.00513\n",
      "epoch: 04, loss: -0.00566\n",
      "epoch: 05, loss: -0.00614\n",
      "epoch: 06, loss: -0.00661\n",
      "epoch: 07, loss: -0.00689\n",
      "epoch: 08, loss: -0.00698\n",
      "epoch: 09, loss: -0.00716\n",
      "torch.Size([450, 32])\n"
     ]
    },
    {
     "name": "stderr",
     "output_type": "stream",
     "text": [
      " 30%|███       | 303/1000 [2:28:16<5:37:07, 29.02s/it]"
     ]
    },
    {
     "name": "stdout",
     "output_type": "stream",
     "text": [
      "eigenvalues shape torch.Size([5]) eigenvectors shape torch.Size([5, 450])\n",
      "303 /home/phdcs2/Hard_Disk/Datasets/Deep-Spectral-Segmentation/data/object-segmentation/ECSSD/features/dino_vits16/0304.pth\n",
      "dict_keys(['k', 'indices', 'file', 'id', 'model_name', 'patch_size', 'shape'])\n",
      "0304\n",
      "Starting Training\n",
      "epoch: 00, loss: 0.01006\n",
      "epoch: 01, loss: -0.01008\n",
      "epoch: 02, loss: -0.01218\n",
      "epoch: 03, loss: -0.00245\n",
      "epoch: 04, loss: -0.01219\n",
      "epoch: 05, loss: 0.00445\n",
      "epoch: 06, loss: 0.00456\n",
      "epoch: 07, loss: -0.00360\n",
      "epoch: 08, loss: 0.00570\n",
      "epoch: 09, loss: 0.00175\n",
      "torch.Size([400, 32])\n"
     ]
    },
    {
     "name": "stderr",
     "output_type": "stream",
     "text": [
      " 30%|███       | 304/1000 [2:28:48<5:46:28, 29.87s/it]"
     ]
    },
    {
     "name": "stdout",
     "output_type": "stream",
     "text": [
      "eigenvalues shape torch.Size([5]) eigenvectors shape torch.Size([5, 400])\n",
      "304 /home/phdcs2/Hard_Disk/Datasets/Deep-Spectral-Segmentation/data/object-segmentation/ECSSD/features/dino_vits16/0305.pth\n",
      "dict_keys(['k', 'indices', 'file', 'id', 'model_name', 'patch_size', 'shape'])\n",
      "0305\n",
      "Starting Training\n",
      "epoch: 00, loss: 0.00715\n",
      "epoch: 01, loss: 0.00402\n",
      "epoch: 02, loss: 0.00181\n",
      "epoch: 03, loss: 0.00058\n",
      "epoch: 04, loss: -0.00029\n",
      "epoch: 05, loss: -0.00136\n",
      "epoch: 06, loss: -0.00189\n",
      "epoch: 07, loss: -0.00239\n",
      "epoch: 08, loss: -0.00284\n",
      "epoch: 09, loss: -0.00334\n",
      "torch.Size([400, 32])\n"
     ]
    },
    {
     "name": "stderr",
     "output_type": "stream",
     "text": [
      " 30%|███       | 305/1000 [2:29:21<5:56:16, 30.76s/it]"
     ]
    },
    {
     "name": "stdout",
     "output_type": "stream",
     "text": [
      "eigenvalues shape torch.Size([5]) eigenvectors shape torch.Size([5, 400])\n",
      "305 /home/phdcs2/Hard_Disk/Datasets/Deep-Spectral-Segmentation/data/object-segmentation/ECSSD/features/dino_vits16/0306.pth\n",
      "dict_keys(['k', 'indices', 'file', 'id', 'model_name', 'patch_size', 'shape'])\n",
      "0306\n",
      "Starting Training\n",
      "epoch: 00, loss: 0.00256\n",
      "epoch: 01, loss: 0.00191\n",
      "epoch: 02, loss: -0.00219\n",
      "epoch: 03, loss: -0.00243\n",
      "epoch: 04, loss: -0.00331\n",
      "epoch: 05, loss: -0.00359\n",
      "epoch: 06, loss: -0.00720\n",
      "epoch: 07, loss: -0.00414\n",
      "epoch: 08, loss: -0.00658\n",
      "epoch: 09, loss: -0.00538\n",
      "torch.Size([400, 32])\n"
     ]
    },
    {
     "name": "stderr",
     "output_type": "stream",
     "text": [
      " 31%|███       | 306/1000 [2:29:54<6:01:36, 31.26s/it]"
     ]
    },
    {
     "name": "stdout",
     "output_type": "stream",
     "text": [
      "eigenvalues shape torch.Size([5]) eigenvectors shape torch.Size([5, 400])\n",
      "306 /home/phdcs2/Hard_Disk/Datasets/Deep-Spectral-Segmentation/data/object-segmentation/ECSSD/features/dino_vits16/0307.pth\n",
      "dict_keys(['k', 'indices', 'file', 'id', 'model_name', 'patch_size', 'shape'])\n",
      "0307\n",
      "Starting Training\n",
      "epoch: 00, loss: 0.00198\n",
      "epoch: 01, loss: 0.00219\n",
      "epoch: 02, loss: -0.00092\n",
      "epoch: 03, loss: -0.01228\n",
      "epoch: 04, loss: -0.01663\n",
      "epoch: 05, loss: -0.01791\n",
      "epoch: 06, loss: -0.00956\n",
      "epoch: 07, loss: -0.01426\n",
      "epoch: 08, loss: -0.01429\n",
      "epoch: 09, loss: -0.01755\n",
      "torch.Size([450, 32])\n"
     ]
    },
    {
     "name": "stderr",
     "output_type": "stream",
     "text": [
      " 31%|███       | 307/1000 [2:30:21<5:48:22, 30.16s/it]"
     ]
    },
    {
     "name": "stdout",
     "output_type": "stream",
     "text": [
      "eigenvalues shape torch.Size([5]) eigenvectors shape torch.Size([5, 450])\n",
      "307 /home/phdcs2/Hard_Disk/Datasets/Deep-Spectral-Segmentation/data/object-segmentation/ECSSD/features/dino_vits16/0308.pth\n",
      "dict_keys(['k', 'indices', 'file', 'id', 'model_name', 'patch_size', 'shape'])\n",
      "0308\n",
      "Starting Training\n",
      "epoch: 00, loss: 0.00992\n",
      "epoch: 01, loss: 0.00487\n",
      "epoch: 02, loss: 0.00215\n",
      "epoch: 03, loss: 0.00001\n",
      "epoch: 04, loss: -0.00140\n",
      "epoch: 05, loss: -0.00251\n",
      "epoch: 06, loss: -0.00342\n",
      "epoch: 07, loss: -0.00420\n",
      "epoch: 08, loss: -0.00470\n",
      "epoch: 09, loss: -0.00523\n",
      "torch.Size([450, 32])\n"
     ]
    },
    {
     "name": "stderr",
     "output_type": "stream",
     "text": [
      " 31%|███       | 308/1000 [2:30:49<5:39:27, 29.43s/it]"
     ]
    },
    {
     "name": "stdout",
     "output_type": "stream",
     "text": [
      "eigenvalues shape torch.Size([5]) eigenvectors shape torch.Size([5, 450])\n",
      "308 /home/phdcs2/Hard_Disk/Datasets/Deep-Spectral-Segmentation/data/object-segmentation/ECSSD/features/dino_vits16/0309.pth\n",
      "dict_keys(['k', 'indices', 'file', 'id', 'model_name', 'patch_size', 'shape'])\n",
      "0309\n",
      "Starting Training\n",
      "epoch: 00, loss: -0.00513\n",
      "epoch: 01, loss: -0.00002\n",
      "epoch: 02, loss: 0.00111\n",
      "epoch: 03, loss: -0.00049\n",
      "epoch: 04, loss: 0.01193\n",
      "epoch: 05, loss: -0.01409\n",
      "epoch: 06, loss: -0.00554\n",
      "epoch: 07, loss: -0.00821\n",
      "epoch: 08, loss: -0.00747\n",
      "epoch: 09, loss: -0.00978\n",
      "torch.Size([400, 32])\n"
     ]
    },
    {
     "name": "stderr",
     "output_type": "stream",
     "text": [
      " 31%|███       | 309/1000 [2:31:12<5:16:00, 27.44s/it]"
     ]
    },
    {
     "name": "stdout",
     "output_type": "stream",
     "text": [
      "eigenvalues shape torch.Size([5]) eigenvectors shape torch.Size([5, 400])\n",
      "309 /home/phdcs2/Hard_Disk/Datasets/Deep-Spectral-Segmentation/data/object-segmentation/ECSSD/features/dino_vits16/0310.pth\n",
      "dict_keys(['k', 'indices', 'file', 'id', 'model_name', 'patch_size', 'shape'])\n",
      "0310\n",
      "Starting Training\n",
      "epoch: 00, loss: 0.00620\n",
      "epoch: 01, loss: 0.00549\n",
      "epoch: 02, loss: 0.00650\n",
      "epoch: 03, loss: 0.00307\n",
      "epoch: 04, loss: -0.00180\n",
      "epoch: 05, loss: 0.00058\n",
      "epoch: 06, loss: 0.00018\n",
      "epoch: 07, loss: 0.00147\n",
      "epoch: 08, loss: -0.00654\n",
      "epoch: 09, loss: 0.00055\n",
      "torch.Size([450, 32])\n"
     ]
    },
    {
     "name": "stderr",
     "output_type": "stream",
     "text": [
      " 31%|███       | 310/1000 [2:31:39<5:15:04, 27.40s/it]"
     ]
    },
    {
     "name": "stdout",
     "output_type": "stream",
     "text": [
      "eigenvalues shape torch.Size([5]) eigenvectors shape torch.Size([5, 450])\n",
      "310 /home/phdcs2/Hard_Disk/Datasets/Deep-Spectral-Segmentation/data/object-segmentation/ECSSD/features/dino_vits16/0311.pth\n",
      "dict_keys(['k', 'indices', 'file', 'id', 'model_name', 'patch_size', 'shape'])\n",
      "0311\n",
      "Starting Training\n",
      "epoch: 00, loss: 0.00849\n",
      "epoch: 01, loss: 0.00485\n",
      "epoch: 02, loss: 0.00037\n",
      "epoch: 03, loss: 0.00202\n",
      "epoch: 04, loss: -0.00202\n",
      "epoch: 05, loss: 0.00102\n",
      "epoch: 06, loss: -0.00600\n",
      "epoch: 07, loss: -0.00722\n",
      "epoch: 08, loss: -0.00540\n",
      "epoch: 09, loss: -0.00238\n",
      "torch.Size([400, 32])\n"
     ]
    },
    {
     "name": "stderr",
     "output_type": "stream",
     "text": [
      " 31%|███       | 311/1000 [2:32:03<5:02:53, 26.38s/it]"
     ]
    },
    {
     "name": "stdout",
     "output_type": "stream",
     "text": [
      "eigenvalues shape torch.Size([5]) eigenvectors shape torch.Size([5, 400])\n",
      "311 /home/phdcs2/Hard_Disk/Datasets/Deep-Spectral-Segmentation/data/object-segmentation/ECSSD/features/dino_vits16/0312.pth\n",
      "dict_keys(['k', 'indices', 'file', 'id', 'model_name', 'patch_size', 'shape'])\n",
      "0312\n",
      "Starting Training\n",
      "epoch: 00, loss: 0.00971\n",
      "epoch: 01, loss: 0.00188\n",
      "epoch: 02, loss: -0.00104\n",
      "epoch: 03, loss: -0.00391\n",
      "epoch: 04, loss: -0.00534\n",
      "epoch: 05, loss: -0.00614\n",
      "epoch: 06, loss: -0.00697\n",
      "epoch: 07, loss: -0.00740\n",
      "epoch: 08, loss: -0.00866\n",
      "epoch: 09, loss: -0.00846\n",
      "torch.Size([400, 32])\n"
     ]
    },
    {
     "name": "stderr",
     "output_type": "stream",
     "text": [
      " 31%|███       | 312/1000 [2:32:26<4:52:19, 25.49s/it]"
     ]
    },
    {
     "name": "stdout",
     "output_type": "stream",
     "text": [
      "eigenvalues shape torch.Size([5]) eigenvectors shape torch.Size([5, 400])\n",
      "312 /home/phdcs2/Hard_Disk/Datasets/Deep-Spectral-Segmentation/data/object-segmentation/ECSSD/features/dino_vits16/0313.pth\n",
      "dict_keys(['k', 'indices', 'file', 'id', 'model_name', 'patch_size', 'shape'])\n",
      "0313\n",
      "Starting Training\n",
      "epoch: 00, loss: 0.00437\n",
      "epoch: 01, loss: -0.00446\n",
      "epoch: 02, loss: -0.01603\n",
      "epoch: 03, loss: -0.01325\n",
      "epoch: 04, loss: -0.00210\n",
      "epoch: 05, loss: -0.00751\n",
      "epoch: 06, loss: -0.01349\n",
      "epoch: 07, loss: -0.01644\n",
      "epoch: 08, loss: -0.01483\n",
      "epoch: 09, loss: -0.01042\n",
      "torch.Size([400, 32])\n"
     ]
    },
    {
     "name": "stderr",
     "output_type": "stream",
     "text": [
      " 31%|███▏      | 313/1000 [2:32:49<4:41:19, 24.57s/it]"
     ]
    },
    {
     "name": "stdout",
     "output_type": "stream",
     "text": [
      "eigenvalues shape torch.Size([5]) eigenvectors shape torch.Size([5, 400])\n",
      "313 /home/phdcs2/Hard_Disk/Datasets/Deep-Spectral-Segmentation/data/object-segmentation/ECSSD/features/dino_vits16/0314.pth\n",
      "dict_keys(['k', 'indices', 'file', 'id', 'model_name', 'patch_size', 'shape'])\n",
      "0314\n",
      "Starting Training\n",
      "epoch: 00, loss: 0.00765\n",
      "epoch: 01, loss: 0.00292\n",
      "epoch: 02, loss: 0.00129\n",
      "epoch: 03, loss: -0.00071\n",
      "epoch: 04, loss: -0.00175\n",
      "epoch: 05, loss: -0.00267\n",
      "epoch: 06, loss: -0.00147\n",
      "epoch: 07, loss: -0.00275\n",
      "epoch: 08, loss: -0.00323\n",
      "epoch: 09, loss: -0.00290\n",
      "torch.Size([400, 32])\n"
     ]
    },
    {
     "name": "stderr",
     "output_type": "stream",
     "text": [
      " 31%|███▏      | 314/1000 [2:33:13<4:40:11, 24.51s/it]"
     ]
    },
    {
     "name": "stdout",
     "output_type": "stream",
     "text": [
      "eigenvalues shape torch.Size([5]) eigenvectors shape torch.Size([5, 400])\n",
      "314 /home/phdcs2/Hard_Disk/Datasets/Deep-Spectral-Segmentation/data/object-segmentation/ECSSD/features/dino_vits16/0315.pth\n",
      "dict_keys(['k', 'indices', 'file', 'id', 'model_name', 'patch_size', 'shape'])\n",
      "0315\n",
      "Starting Training\n",
      "epoch: 00, loss: 0.00772\n",
      "epoch: 01, loss: 0.00288\n",
      "epoch: 02, loss: -0.00117\n",
      "epoch: 03, loss: -0.00248\n",
      "epoch: 04, loss: -0.00156\n",
      "epoch: 05, loss: -0.00124\n",
      "epoch: 06, loss: -0.00509\n",
      "epoch: 07, loss: -0.00601\n",
      "epoch: 08, loss: -0.00359\n",
      "epoch: 09, loss: -0.00617\n",
      "torch.Size([450, 32])\n"
     ]
    },
    {
     "name": "stderr",
     "output_type": "stream",
     "text": [
      " 32%|███▏      | 315/1000 [2:33:41<4:49:38, 25.37s/it]"
     ]
    },
    {
     "name": "stdout",
     "output_type": "stream",
     "text": [
      "eigenvalues shape torch.Size([5]) eigenvectors shape torch.Size([5, 450])\n",
      "315 /home/phdcs2/Hard_Disk/Datasets/Deep-Spectral-Segmentation/data/object-segmentation/ECSSD/features/dino_vits16/0316.pth\n",
      "dict_keys(['k', 'indices', 'file', 'id', 'model_name', 'patch_size', 'shape'])\n",
      "0316\n",
      "Starting Training\n",
      "epoch: 00, loss: 0.00467\n",
      "epoch: 01, loss: 0.00660\n",
      "epoch: 02, loss: 0.00393\n",
      "epoch: 03, loss: 0.00246\n",
      "epoch: 04, loss: -0.00380\n",
      "epoch: 05, loss: -0.01313\n",
      "epoch: 06, loss: -0.01189\n",
      "epoch: 07, loss: -0.00022\n",
      "epoch: 08, loss: -0.01086\n",
      "epoch: 09, loss: -0.01298\n",
      "torch.Size([450, 32])\n"
     ]
    },
    {
     "name": "stderr",
     "output_type": "stream",
     "text": [
      " 32%|███▏      | 316/1000 [2:34:09<4:58:05, 26.15s/it]"
     ]
    },
    {
     "name": "stdout",
     "output_type": "stream",
     "text": [
      "eigenvalues shape torch.Size([5]) eigenvectors shape torch.Size([5, 450])\n",
      "316 /home/phdcs2/Hard_Disk/Datasets/Deep-Spectral-Segmentation/data/object-segmentation/ECSSD/features/dino_vits16/0317.pth\n",
      "dict_keys(['k', 'indices', 'file', 'id', 'model_name', 'patch_size', 'shape'])\n",
      "0317\n",
      "Starting Training\n",
      "epoch: 00, loss: -0.00241\n",
      "epoch: 01, loss: -0.00066\n",
      "epoch: 02, loss: -0.00091\n",
      "epoch: 03, loss: -0.00567\n",
      "epoch: 04, loss: -0.00696\n",
      "epoch: 05, loss: -0.00611\n",
      "epoch: 06, loss: -0.00799\n",
      "epoch: 07, loss: -0.00948\n",
      "epoch: 08, loss: -0.01234\n",
      "epoch: 09, loss: -0.01398\n",
      "torch.Size([450, 32])\n"
     ]
    },
    {
     "name": "stderr",
     "output_type": "stream",
     "text": [
      " 32%|███▏      | 317/1000 [2:34:36<5:00:37, 26.41s/it]"
     ]
    },
    {
     "name": "stdout",
     "output_type": "stream",
     "text": [
      "eigenvalues shape torch.Size([5]) eigenvectors shape torch.Size([5, 450])\n",
      "317 /home/phdcs2/Hard_Disk/Datasets/Deep-Spectral-Segmentation/data/object-segmentation/ECSSD/features/dino_vits16/0318.pth\n",
      "dict_keys(['k', 'indices', 'file', 'id', 'model_name', 'patch_size', 'shape'])\n",
      "0318\n",
      "Starting Training\n",
      "epoch: 00, loss: 0.00127\n",
      "epoch: 01, loss: -0.00841\n",
      "epoch: 02, loss: -0.00425\n",
      "epoch: 03, loss: -0.00756\n",
      "epoch: 04, loss: 0.01154\n",
      "epoch: 05, loss: -0.00690\n",
      "epoch: 06, loss: -0.00060\n",
      "epoch: 07, loss: -0.00236\n",
      "epoch: 08, loss: 0.00974\n",
      "epoch: 09, loss: -0.00602\n",
      "torch.Size([450, 32])\n"
     ]
    },
    {
     "name": "stderr",
     "output_type": "stream",
     "text": [
      " 32%|███▏      | 318/1000 [2:35:03<5:04:03, 26.75s/it]"
     ]
    },
    {
     "name": "stdout",
     "output_type": "stream",
     "text": [
      "eigenvalues shape torch.Size([5]) eigenvectors shape torch.Size([5, 450])\n",
      "318 /home/phdcs2/Hard_Disk/Datasets/Deep-Spectral-Segmentation/data/object-segmentation/ECSSD/features/dino_vits16/0319.pth\n",
      "dict_keys(['k', 'indices', 'file', 'id', 'model_name', 'patch_size', 'shape'])\n",
      "0319\n",
      "Starting Training\n",
      "epoch: 00, loss: 0.00900\n",
      "epoch: 01, loss: 0.00489\n",
      "epoch: 02, loss: 0.00336\n",
      "epoch: 03, loss: 0.00219\n",
      "epoch: 04, loss: 0.00122\n",
      "epoch: 05, loss: 0.00056\n",
      "epoch: 06, loss: 0.00019\n",
      "epoch: 07, loss: -0.00016\n",
      "epoch: 08, loss: -0.00061\n",
      "epoch: 09, loss: -0.00075\n",
      "torch.Size([450, 32])\n"
     ]
    },
    {
     "name": "stderr",
     "output_type": "stream",
     "text": [
      " 32%|███▏      | 319/1000 [2:35:31<5:06:37, 27.02s/it]"
     ]
    },
    {
     "name": "stdout",
     "output_type": "stream",
     "text": [
      "eigenvalues shape torch.Size([5]) eigenvectors shape torch.Size([5, 450])\n",
      "319 /home/phdcs2/Hard_Disk/Datasets/Deep-Spectral-Segmentation/data/object-segmentation/ECSSD/features/dino_vits16/0320.pth\n",
      "dict_keys(['k', 'indices', 'file', 'id', 'model_name', 'patch_size', 'shape'])\n",
      "0320\n",
      "Starting Training\n",
      "epoch: 00, loss: 0.00989\n",
      "epoch: 01, loss: 0.00602\n",
      "epoch: 02, loss: 0.00321\n",
      "epoch: 03, loss: 0.00148\n",
      "epoch: 04, loss: -0.00016\n",
      "epoch: 05, loss: -0.00146\n",
      "epoch: 06, loss: -0.00217\n",
      "epoch: 07, loss: -0.00354\n",
      "epoch: 08, loss: -0.00310\n",
      "epoch: 09, loss: -0.00448\n",
      "torch.Size([450, 32])\n"
     ]
    },
    {
     "name": "stderr",
     "output_type": "stream",
     "text": [
      " 32%|███▏      | 320/1000 [2:36:08<5:40:40, 30.06s/it]"
     ]
    },
    {
     "name": "stdout",
     "output_type": "stream",
     "text": [
      "eigenvalues shape torch.Size([5]) eigenvectors shape torch.Size([5, 450])\n",
      "320 /home/phdcs2/Hard_Disk/Datasets/Deep-Spectral-Segmentation/data/object-segmentation/ECSSD/features/dino_vits16/0321.pth\n",
      "dict_keys(['k', 'indices', 'file', 'id', 'model_name', 'patch_size', 'shape'])\n",
      "0321\n",
      "Starting Training\n",
      "epoch: 00, loss: -0.00555\n",
      "epoch: 01, loss: 0.00229\n",
      "epoch: 02, loss: 0.00558\n",
      "epoch: 03, loss: -0.01374\n",
      "epoch: 04, loss: -0.02205\n",
      "epoch: 05, loss: -0.02207\n",
      "epoch: 06, loss: -0.01366\n",
      "epoch: 07, loss: -0.00409\n",
      "epoch: 08, loss: 0.00487\n",
      "epoch: 09, loss: 0.00814\n",
      "torch.Size([500, 32])\n"
     ]
    },
    {
     "name": "stderr",
     "output_type": "stream",
     "text": [
      " 32%|███▏      | 321/1000 [2:36:40<5:46:11, 30.59s/it]"
     ]
    },
    {
     "name": "stdout",
     "output_type": "stream",
     "text": [
      "eigenvalues shape torch.Size([5]) eigenvectors shape torch.Size([5, 500])\n",
      "321 /home/phdcs2/Hard_Disk/Datasets/Deep-Spectral-Segmentation/data/object-segmentation/ECSSD/features/dino_vits16/0322.pth\n",
      "dict_keys(['k', 'indices', 'file', 'id', 'model_name', 'patch_size', 'shape'])\n",
      "0322\n",
      "Starting Training\n",
      "epoch: 00, loss: 0.00031\n",
      "epoch: 01, loss: -0.01234\n",
      "epoch: 02, loss: -0.00616\n",
      "epoch: 03, loss: -0.01667\n",
      "epoch: 04, loss: -0.01866\n",
      "epoch: 05, loss: -0.01569\n",
      "epoch: 06, loss: -0.02603\n",
      "epoch: 07, loss: -0.01574\n",
      "epoch: 08, loss: -0.02578\n",
      "epoch: 09, loss: -0.01915\n",
      "torch.Size([450, 32])\n"
     ]
    },
    {
     "name": "stderr",
     "output_type": "stream",
     "text": [
      " 32%|███▏      | 322/1000 [2:37:09<5:39:43, 30.06s/it]"
     ]
    },
    {
     "name": "stdout",
     "output_type": "stream",
     "text": [
      "eigenvalues shape torch.Size([5]) eigenvectors shape torch.Size([5, 450])\n",
      "322 /home/phdcs2/Hard_Disk/Datasets/Deep-Spectral-Segmentation/data/object-segmentation/ECSSD/features/dino_vits16/0323.pth\n",
      "dict_keys(['k', 'indices', 'file', 'id', 'model_name', 'patch_size', 'shape'])\n",
      "0323\n",
      "Starting Training\n",
      "epoch: 00, loss: 0.00659\n",
      "epoch: 01, loss: 0.00236\n",
      "epoch: 02, loss: 0.00101\n",
      "epoch: 03, loss: -0.00855\n",
      "epoch: 04, loss: -0.00473\n",
      "epoch: 05, loss: 0.01021\n",
      "epoch: 06, loss: 0.01261\n",
      "epoch: 07, loss: -0.01824\n",
      "epoch: 08, loss: -0.00972\n",
      "epoch: 09, loss: -0.02184\n",
      "torch.Size([450, 32])\n"
     ]
    },
    {
     "name": "stderr",
     "output_type": "stream",
     "text": [
      " 32%|███▏      | 323/1000 [2:37:46<6:03:17, 32.20s/it]"
     ]
    },
    {
     "name": "stdout",
     "output_type": "stream",
     "text": [
      "eigenvalues shape torch.Size([5]) eigenvectors shape torch.Size([5, 450])\n",
      "323 /home/phdcs2/Hard_Disk/Datasets/Deep-Spectral-Segmentation/data/object-segmentation/ECSSD/features/dino_vits16/0324.pth\n",
      "dict_keys(['k', 'indices', 'file', 'id', 'model_name', 'patch_size', 'shape'])\n",
      "0324\n",
      "Starting Training\n",
      "epoch: 00, loss: 0.00599\n",
      "epoch: 01, loss: -0.00211\n",
      "epoch: 02, loss: -0.00605\n",
      "epoch: 03, loss: -0.00783\n",
      "epoch: 04, loss: -0.00913\n",
      "epoch: 05, loss: -0.00990\n",
      "epoch: 06, loss: -0.01040\n",
      "epoch: 07, loss: -0.01070\n",
      "epoch: 08, loss: -0.01113\n",
      "epoch: 09, loss: -0.01128\n",
      "torch.Size([450, 32])\n"
     ]
    },
    {
     "name": "stderr",
     "output_type": "stream",
     "text": [
      " 32%|███▏      | 324/1000 [2:38:23<6:21:24, 33.85s/it]"
     ]
    },
    {
     "name": "stdout",
     "output_type": "stream",
     "text": [
      "eigenvalues shape torch.Size([5]) eigenvectors shape torch.Size([5, 450])\n",
      "324 /home/phdcs2/Hard_Disk/Datasets/Deep-Spectral-Segmentation/data/object-segmentation/ECSSD/features/dino_vits16/0325.pth\n",
      "dict_keys(['k', 'indices', 'file', 'id', 'model_name', 'patch_size', 'shape'])\n",
      "0325\n",
      "Starting Training\n",
      "epoch: 00, loss: 0.00675\n",
      "epoch: 01, loss: 0.00393\n",
      "epoch: 02, loss: 0.00265\n",
      "epoch: 03, loss: 0.00579\n",
      "epoch: 04, loss: 0.00257\n",
      "epoch: 05, loss: 0.00160\n",
      "epoch: 06, loss: -0.00336\n",
      "epoch: 07, loss: 0.00051\n",
      "epoch: 08, loss: -0.00379\n",
      "epoch: 09, loss: -0.00706\n",
      "torch.Size([450, 32])\n"
     ]
    },
    {
     "name": "stderr",
     "output_type": "stream",
     "text": [
      " 32%|███▎      | 325/1000 [2:38:51<6:01:03, 32.09s/it]"
     ]
    },
    {
     "name": "stdout",
     "output_type": "stream",
     "text": [
      "eigenvalues shape torch.Size([5]) eigenvectors shape torch.Size([5, 450])\n",
      "325 /home/phdcs2/Hard_Disk/Datasets/Deep-Spectral-Segmentation/data/object-segmentation/ECSSD/features/dino_vits16/0326.pth\n",
      "dict_keys(['k', 'indices', 'file', 'id', 'model_name', 'patch_size', 'shape'])\n",
      "0326\n",
      "Starting Training\n",
      "epoch: 00, loss: 0.00362\n",
      "epoch: 01, loss: -0.00064\n",
      "epoch: 02, loss: -0.00233\n",
      "epoch: 03, loss: -0.00358\n",
      "epoch: 04, loss: -0.00451\n",
      "epoch: 05, loss: -0.00528\n",
      "epoch: 06, loss: -0.00626\n",
      "epoch: 07, loss: -0.00625\n",
      "epoch: 08, loss: -0.00684\n",
      "epoch: 09, loss: -0.00793\n",
      "torch.Size([425, 32])\n"
     ]
    },
    {
     "name": "stderr",
     "output_type": "stream",
     "text": [
      " 33%|███▎      | 326/1000 [2:39:18<5:40:56, 30.35s/it]"
     ]
    },
    {
     "name": "stdout",
     "output_type": "stream",
     "text": [
      "eigenvalues shape torch.Size([5]) eigenvectors shape torch.Size([5, 425])\n",
      "326 /home/phdcs2/Hard_Disk/Datasets/Deep-Spectral-Segmentation/data/object-segmentation/ECSSD/features/dino_vits16/0327.pth\n",
      "dict_keys(['k', 'indices', 'file', 'id', 'model_name', 'patch_size', 'shape'])\n",
      "0327\n",
      "Starting Training\n",
      "epoch: 00, loss: -0.01016\n",
      "epoch: 01, loss: 0.01075\n",
      "epoch: 02, loss: -0.00314\n",
      "epoch: 03, loss: 0.00089\n",
      "epoch: 04, loss: -0.00584\n",
      "epoch: 05, loss: 0.00267\n",
      "epoch: 06, loss: -0.00068\n",
      "epoch: 07, loss: -0.01358\n",
      "epoch: 08, loss: -0.00048\n",
      "epoch: 09, loss: -0.01587\n",
      "torch.Size([450, 32])\n"
     ]
    },
    {
     "name": "stderr",
     "output_type": "stream",
     "text": [
      " 33%|███▎      | 327/1000 [2:39:46<5:34:23, 29.81s/it]"
     ]
    },
    {
     "name": "stdout",
     "output_type": "stream",
     "text": [
      "eigenvalues shape torch.Size([5]) eigenvectors shape torch.Size([5, 450])\n",
      "327 /home/phdcs2/Hard_Disk/Datasets/Deep-Spectral-Segmentation/data/object-segmentation/ECSSD/features/dino_vits16/0328.pth\n",
      "dict_keys(['k', 'indices', 'file', 'id', 'model_name', 'patch_size', 'shape'])\n",
      "0328\n",
      "Starting Training\n",
      "epoch: 00, loss: 0.00336\n",
      "epoch: 01, loss: -0.00555\n",
      "epoch: 02, loss: -0.00953\n",
      "epoch: 03, loss: -0.01184\n",
      "epoch: 04, loss: -0.01475\n",
      "epoch: 05, loss: -0.01335\n",
      "epoch: 06, loss: -0.01397\n",
      "epoch: 07, loss: -0.01448\n",
      "epoch: 08, loss: -0.01389\n",
      "epoch: 09, loss: -0.01602\n",
      "torch.Size([475, 32])\n"
     ]
    },
    {
     "name": "stderr",
     "output_type": "stream",
     "text": [
      " 33%|███▎      | 328/1000 [2:40:17<5:35:30, 29.96s/it]"
     ]
    },
    {
     "name": "stdout",
     "output_type": "stream",
     "text": [
      "eigenvalues shape torch.Size([5]) eigenvectors shape torch.Size([5, 475])\n",
      "328 /home/phdcs2/Hard_Disk/Datasets/Deep-Spectral-Segmentation/data/object-segmentation/ECSSD/features/dino_vits16/0329.pth\n",
      "dict_keys(['k', 'indices', 'file', 'id', 'model_name', 'patch_size', 'shape'])\n",
      "0329\n",
      "Starting Training\n",
      "epoch: 00, loss: 0.00016\n",
      "epoch: 01, loss: -0.02489\n",
      "epoch: 02, loss: -0.01095\n",
      "epoch: 03, loss: -0.03066\n",
      "epoch: 04, loss: -0.04430\n",
      "epoch: 05, loss: -0.07548\n",
      "epoch: 06, loss: -0.06125\n",
      "epoch: 07, loss: -0.08933\n",
      "epoch: 08, loss: -0.09068\n",
      "epoch: 09, loss: -0.09023\n",
      "torch.Size([500, 32])\n"
     ]
    },
    {
     "name": "stderr",
     "output_type": "stream",
     "text": [
      " 33%|███▎      | 329/1000 [2:40:49<5:42:35, 30.63s/it]"
     ]
    },
    {
     "name": "stdout",
     "output_type": "stream",
     "text": [
      "eigenvalues shape torch.Size([5]) eigenvectors shape torch.Size([5, 500])\n",
      "329 /home/phdcs2/Hard_Disk/Datasets/Deep-Spectral-Segmentation/data/object-segmentation/ECSSD/features/dino_vits16/0330.pth\n",
      "dict_keys(['k', 'indices', 'file', 'id', 'model_name', 'patch_size', 'shape'])\n",
      "0330\n",
      "Starting Training\n",
      "epoch: 00, loss: 0.00700\n",
      "epoch: 01, loss: 0.00409\n",
      "epoch: 02, loss: 0.00219\n",
      "epoch: 03, loss: 0.00135\n",
      "epoch: 04, loss: 0.00043\n",
      "epoch: 05, loss: 0.00000\n",
      "epoch: 06, loss: -0.00069\n",
      "epoch: 07, loss: -0.00087\n",
      "epoch: 08, loss: -0.00135\n",
      "epoch: 09, loss: -0.00156\n",
      "torch.Size([450, 32])\n"
     ]
    },
    {
     "name": "stderr",
     "output_type": "stream",
     "text": [
      " 33%|███▎      | 330/1000 [2:41:18<5:38:49, 30.34s/it]"
     ]
    },
    {
     "name": "stdout",
     "output_type": "stream",
     "text": [
      "eigenvalues shape torch.Size([5]) eigenvectors shape torch.Size([5, 450])\n",
      "330 /home/phdcs2/Hard_Disk/Datasets/Deep-Spectral-Segmentation/data/object-segmentation/ECSSD/features/dino_vits16/0331.pth\n",
      "dict_keys(['k', 'indices', 'file', 'id', 'model_name', 'patch_size', 'shape'])\n",
      "0331\n",
      "Starting Training\n",
      "epoch: 00, loss: 0.00457\n",
      "epoch: 01, loss: -0.00055\n",
      "epoch: 02, loss: -0.00307\n",
      "epoch: 03, loss: -0.00444\n",
      "epoch: 04, loss: -0.00562\n",
      "epoch: 05, loss: -0.00628\n",
      "epoch: 06, loss: -0.00679\n",
      "epoch: 07, loss: -0.00722\n",
      "epoch: 08, loss: -0.00742\n",
      "epoch: 09, loss: -0.00768\n",
      "torch.Size([450, 32])\n"
     ]
    },
    {
     "name": "stderr",
     "output_type": "stream",
     "text": [
      " 33%|███▎      | 331/1000 [2:41:46<5:29:38, 29.56s/it]"
     ]
    },
    {
     "name": "stdout",
     "output_type": "stream",
     "text": [
      "eigenvalues shape torch.Size([5]) eigenvectors shape torch.Size([5, 450])\n",
      "331 /home/phdcs2/Hard_Disk/Datasets/Deep-Spectral-Segmentation/data/object-segmentation/ECSSD/features/dino_vits16/0332.pth\n",
      "dict_keys(['k', 'indices', 'file', 'id', 'model_name', 'patch_size', 'shape'])\n",
      "0332\n",
      "Starting Training\n",
      "epoch: 00, loss: 0.00442\n",
      "epoch: 01, loss: 0.00159\n",
      "epoch: 02, loss: -0.00013\n",
      "epoch: 03, loss: -0.00106\n",
      "epoch: 04, loss: -0.00185\n",
      "epoch: 05, loss: -0.00267\n",
      "epoch: 06, loss: -0.00302\n",
      "epoch: 07, loss: -0.00339\n",
      "epoch: 08, loss: -0.00378\n",
      "epoch: 09, loss: -0.00388\n",
      "torch.Size([400, 32])\n"
     ]
    },
    {
     "name": "stderr",
     "output_type": "stream",
     "text": [
      " 33%|███▎      | 332/1000 [2:42:09<5:08:06, 27.67s/it]"
     ]
    },
    {
     "name": "stdout",
     "output_type": "stream",
     "text": [
      "eigenvalues shape torch.Size([5]) eigenvectors shape torch.Size([5, 400])\n",
      "332 /home/phdcs2/Hard_Disk/Datasets/Deep-Spectral-Segmentation/data/object-segmentation/ECSSD/features/dino_vits16/0333.pth\n",
      "dict_keys(['k', 'indices', 'file', 'id', 'model_name', 'patch_size', 'shape'])\n",
      "0333\n",
      "Starting Training\n",
      "epoch: 00, loss: 0.01043\n",
      "epoch: 01, loss: -0.00106\n",
      "epoch: 02, loss: -0.00694\n",
      "epoch: 03, loss: -0.01039\n",
      "epoch: 04, loss: -0.01218\n",
      "epoch: 05, loss: -0.01346\n",
      "epoch: 06, loss: -0.01422\n",
      "epoch: 07, loss: -0.01469\n",
      "epoch: 08, loss: -0.01509\n",
      "epoch: 09, loss: -0.01525\n",
      "torch.Size([400, 32])\n"
     ]
    },
    {
     "name": "stderr",
     "output_type": "stream",
     "text": [
      " 33%|███▎      | 333/1000 [2:42:33<4:54:30, 26.49s/it]"
     ]
    },
    {
     "name": "stdout",
     "output_type": "stream",
     "text": [
      "eigenvalues shape torch.Size([5]) eigenvectors shape torch.Size([5, 400])\n",
      "333 /home/phdcs2/Hard_Disk/Datasets/Deep-Spectral-Segmentation/data/object-segmentation/ECSSD/features/dino_vits16/0334.pth\n",
      "dict_keys(['k', 'indices', 'file', 'id', 'model_name', 'patch_size', 'shape'])\n",
      "0334\n",
      "Starting Training\n",
      "epoch: 00, loss: 0.00591\n",
      "epoch: 01, loss: 0.00022\n",
      "epoch: 02, loss: -0.00242\n",
      "epoch: 03, loss: -0.00405\n",
      "epoch: 04, loss: -0.00506\n",
      "epoch: 05, loss: -0.00594\n",
      "epoch: 06, loss: -0.00659\n",
      "epoch: 07, loss: -0.00680\n",
      "epoch: 08, loss: -0.00717\n",
      "epoch: 09, loss: -0.00737\n",
      "torch.Size([450, 32])\n"
     ]
    },
    {
     "name": "stderr",
     "output_type": "stream",
     "text": [
      " 33%|███▎      | 334/1000 [2:42:58<4:48:41, 26.01s/it]"
     ]
    },
    {
     "name": "stdout",
     "output_type": "stream",
     "text": [
      "eigenvalues shape torch.Size([5]) eigenvectors shape torch.Size([5, 450])\n",
      "334 /home/phdcs2/Hard_Disk/Datasets/Deep-Spectral-Segmentation/data/object-segmentation/ECSSD/features/dino_vits16/0335.pth\n",
      "dict_keys(['k', 'indices', 'file', 'id', 'model_name', 'patch_size', 'shape'])\n",
      "0335\n",
      "Starting Training\n",
      "epoch: 00, loss: 0.00446\n",
      "epoch: 01, loss: 0.00941\n",
      "epoch: 02, loss: -0.00244\n",
      "epoch: 03, loss: -0.00285\n",
      "epoch: 04, loss: 0.00278\n",
      "epoch: 05, loss: -0.00566\n",
      "epoch: 06, loss: -0.00071\n",
      "epoch: 07, loss: 0.00535\n",
      "epoch: 08, loss: 0.00412\n",
      "epoch: 09, loss: -0.01427\n",
      "torch.Size([400, 32])\n"
     ]
    },
    {
     "name": "stderr",
     "output_type": "stream",
     "text": [
      " 34%|███▎      | 335/1000 [2:43:21<4:38:41, 25.14s/it]"
     ]
    },
    {
     "name": "stdout",
     "output_type": "stream",
     "text": [
      "eigenvalues shape torch.Size([5]) eigenvectors shape torch.Size([5, 400])\n",
      "335 /home/phdcs2/Hard_Disk/Datasets/Deep-Spectral-Segmentation/data/object-segmentation/ECSSD/features/dino_vits16/0336.pth\n",
      "dict_keys(['k', 'indices', 'file', 'id', 'model_name', 'patch_size', 'shape'])\n",
      "0336\n",
      "Starting Training\n",
      "epoch: 00, loss: 0.00190\n",
      "epoch: 01, loss: -0.01074\n",
      "epoch: 02, loss: -0.00600\n",
      "epoch: 03, loss: -0.00326\n",
      "epoch: 04, loss: -0.01041\n",
      "epoch: 05, loss: 0.00238\n",
      "epoch: 06, loss: -0.00978\n",
      "epoch: 07, loss: -0.00464\n",
      "epoch: 08, loss: -0.00696\n",
      "epoch: 09, loss: -0.00738\n",
      "torch.Size([450, 32])\n"
     ]
    },
    {
     "name": "stderr",
     "output_type": "stream",
     "text": [
      " 34%|███▎      | 336/1000 [2:43:50<4:48:58, 26.11s/it]"
     ]
    },
    {
     "name": "stdout",
     "output_type": "stream",
     "text": [
      "eigenvalues shape torch.Size([5]) eigenvectors shape torch.Size([5, 450])\n",
      "336 /home/phdcs2/Hard_Disk/Datasets/Deep-Spectral-Segmentation/data/object-segmentation/ECSSD/features/dino_vits16/0337.pth\n",
      "dict_keys(['k', 'indices', 'file', 'id', 'model_name', 'patch_size', 'shape'])\n",
      "0337\n",
      "Starting Training\n",
      "epoch: 00, loss: 0.00443\n",
      "epoch: 01, loss: 0.00009\n",
      "epoch: 02, loss: -0.00258\n",
      "epoch: 03, loss: -0.00741\n",
      "epoch: 04, loss: -0.01228\n",
      "epoch: 05, loss: -0.02016\n",
      "epoch: 06, loss: -0.01488\n",
      "epoch: 07, loss: -0.01400\n",
      "epoch: 08, loss: -0.01611\n",
      "epoch: 09, loss: -0.01671\n",
      "torch.Size([450, 32])\n"
     ]
    },
    {
     "name": "stderr",
     "output_type": "stream",
     "text": [
      " 34%|███▎      | 337/1000 [2:44:17<4:52:18, 26.45s/it]"
     ]
    },
    {
     "name": "stdout",
     "output_type": "stream",
     "text": [
      "eigenvalues shape torch.Size([5]) eigenvectors shape torch.Size([5, 450])\n",
      "337 /home/phdcs2/Hard_Disk/Datasets/Deep-Spectral-Segmentation/data/object-segmentation/ECSSD/features/dino_vits16/0338.pth\n",
      "dict_keys(['k', 'indices', 'file', 'id', 'model_name', 'patch_size', 'shape'])\n",
      "0338\n",
      "Starting Training\n",
      "epoch: 00, loss: 0.00748\n",
      "epoch: 01, loss: 0.00196\n",
      "epoch: 02, loss: -0.00099\n",
      "epoch: 03, loss: -0.00263\n",
      "epoch: 04, loss: -0.00418\n",
      "epoch: 05, loss: -0.00498\n",
      "epoch: 06, loss: -0.00569\n",
      "epoch: 07, loss: -0.00644\n",
      "epoch: 08, loss: -0.00674\n",
      "epoch: 09, loss: -0.00709\n",
      "torch.Size([450, 32])\n"
     ]
    },
    {
     "name": "stderr",
     "output_type": "stream",
     "text": [
      " 34%|███▍      | 338/1000 [2:44:44<4:55:38, 26.80s/it]"
     ]
    },
    {
     "name": "stdout",
     "output_type": "stream",
     "text": [
      "eigenvalues shape torch.Size([5]) eigenvectors shape torch.Size([5, 450])\n",
      "338 /home/phdcs2/Hard_Disk/Datasets/Deep-Spectral-Segmentation/data/object-segmentation/ECSSD/features/dino_vits16/0339.pth\n",
      "dict_keys(['k', 'indices', 'file', 'id', 'model_name', 'patch_size', 'shape'])\n",
      "0339\n",
      "Starting Training\n",
      "epoch: 00, loss: -0.01549\n",
      "epoch: 01, loss: -0.01672\n",
      "epoch: 02, loss: 0.00065\n",
      "epoch: 03, loss: -0.00809\n",
      "epoch: 04, loss: 0.00507\n",
      "epoch: 05, loss: -0.00511\n",
      "epoch: 06, loss: -0.00543\n",
      "epoch: 07, loss: -0.02689\n",
      "epoch: 08, loss: -0.01160\n",
      "epoch: 09, loss: -0.01366\n",
      "torch.Size([450, 32])\n"
     ]
    },
    {
     "name": "stderr",
     "output_type": "stream",
     "text": [
      " 34%|███▍      | 339/1000 [2:45:22<5:29:34, 29.92s/it]"
     ]
    },
    {
     "name": "stdout",
     "output_type": "stream",
     "text": [
      "eigenvalues shape torch.Size([5]) eigenvectors shape torch.Size([5, 450])\n",
      "339 /home/phdcs2/Hard_Disk/Datasets/Deep-Spectral-Segmentation/data/object-segmentation/ECSSD/features/dino_vits16/0340.pth\n",
      "dict_keys(['k', 'indices', 'file', 'id', 'model_name', 'patch_size', 'shape'])\n",
      "0340\n",
      "Starting Training\n",
      "epoch: 00, loss: 0.00724\n",
      "epoch: 01, loss: 0.00779\n",
      "epoch: 02, loss: 0.00851\n",
      "epoch: 03, loss: 0.00562\n",
      "epoch: 04, loss: -0.01649\n",
      "epoch: 05, loss: -0.02010\n",
      "epoch: 06, loss: 0.00101\n",
      "epoch: 07, loss: -0.02557\n",
      "epoch: 08, loss: 0.00134\n",
      "epoch: 09, loss: -0.00909\n",
      "torch.Size([375, 32])\n"
     ]
    },
    {
     "name": "stderr",
     "output_type": "stream",
     "text": [
      " 34%|███▍      | 340/1000 [2:45:52<5:29:24, 29.95s/it]"
     ]
    },
    {
     "name": "stdout",
     "output_type": "stream",
     "text": [
      "eigenvalues shape torch.Size([5]) eigenvectors shape torch.Size([5, 375])\n",
      "340 /home/phdcs2/Hard_Disk/Datasets/Deep-Spectral-Segmentation/data/object-segmentation/ECSSD/features/dino_vits16/0341.pth\n",
      "dict_keys(['k', 'indices', 'file', 'id', 'model_name', 'patch_size', 'shape'])\n",
      "0341\n",
      "Starting Training\n",
      "epoch: 00, loss: 0.00095\n",
      "epoch: 01, loss: -0.00227\n",
      "epoch: 02, loss: -0.00543\n",
      "epoch: 03, loss: 0.00555\n",
      "epoch: 04, loss: 0.00494\n",
      "epoch: 05, loss: -0.00066\n",
      "epoch: 06, loss: 0.00138\n",
      "epoch: 07, loss: 0.01217\n",
      "epoch: 08, loss: -0.00666\n",
      "epoch: 09, loss: -0.02451\n",
      "torch.Size([375, 32])\n"
     ]
    },
    {
     "name": "stderr",
     "output_type": "stream",
     "text": [
      " 34%|███▍      | 341/1000 [2:46:14<5:03:03, 27.59s/it]"
     ]
    },
    {
     "name": "stdout",
     "output_type": "stream",
     "text": [
      "eigenvalues shape torch.Size([5]) eigenvectors shape torch.Size([5, 375])\n",
      "341 /home/phdcs2/Hard_Disk/Datasets/Deep-Spectral-Segmentation/data/object-segmentation/ECSSD/features/dino_vits16/0342.pth\n",
      "dict_keys(['k', 'indices', 'file', 'id', 'model_name', 'patch_size', 'shape'])\n",
      "0342\n",
      "Starting Training\n",
      "epoch: 00, loss: -0.00113\n",
      "epoch: 01, loss: 0.00553\n",
      "epoch: 02, loss: -0.00987\n",
      "epoch: 03, loss: -0.00490\n",
      "epoch: 04, loss: -0.01674\n",
      "epoch: 05, loss: -0.00424\n",
      "epoch: 06, loss: -0.00338\n",
      "epoch: 07, loss: -0.01106\n",
      "epoch: 08, loss: -0.01264\n",
      "epoch: 09, loss: -0.00256\n",
      "torch.Size([450, 32])\n"
     ]
    },
    {
     "name": "stderr",
     "output_type": "stream",
     "text": [
      " 34%|███▍      | 342/1000 [2:46:42<5:05:01, 27.81s/it]"
     ]
    },
    {
     "name": "stdout",
     "output_type": "stream",
     "text": [
      "eigenvalues shape torch.Size([5]) eigenvectors shape torch.Size([5, 450])\n",
      "342 /home/phdcs2/Hard_Disk/Datasets/Deep-Spectral-Segmentation/data/object-segmentation/ECSSD/features/dino_vits16/0343.pth\n",
      "dict_keys(['k', 'indices', 'file', 'id', 'model_name', 'patch_size', 'shape'])\n",
      "0343\n",
      "Starting Training\n",
      "epoch: 00, loss: 0.00730\n",
      "epoch: 01, loss: 0.00407\n",
      "epoch: 02, loss: 0.00196\n",
      "epoch: 03, loss: 0.00062\n",
      "epoch: 04, loss: -0.00048\n",
      "epoch: 05, loss: -0.00121\n",
      "epoch: 06, loss: -0.00180\n",
      "epoch: 07, loss: -0.00227\n",
      "epoch: 08, loss: -0.00268\n",
      "epoch: 09, loss: -0.00305\n",
      "torch.Size([500, 32])\n"
     ]
    },
    {
     "name": "stderr",
     "output_type": "stream",
     "text": [
      " 34%|███▍      | 343/1000 [2:47:15<5:23:04, 29.50s/it]"
     ]
    },
    {
     "name": "stdout",
     "output_type": "stream",
     "text": [
      "eigenvalues shape torch.Size([5]) eigenvectors shape torch.Size([5, 500])\n",
      "343 /home/phdcs2/Hard_Disk/Datasets/Deep-Spectral-Segmentation/data/object-segmentation/ECSSD/features/dino_vits16/0344.pth\n",
      "dict_keys(['k', 'indices', 'file', 'id', 'model_name', 'patch_size', 'shape'])\n",
      "0344\n",
      "Starting Training\n",
      "epoch: 00, loss: 0.00463\n",
      "epoch: 01, loss: -0.00426\n",
      "epoch: 02, loss: -0.00370\n",
      "epoch: 03, loss: -0.00645\n",
      "epoch: 04, loss: -0.00573\n",
      "epoch: 05, loss: -0.00757\n",
      "epoch: 06, loss: -0.01068\n",
      "epoch: 07, loss: -0.00733\n",
      "epoch: 08, loss: -0.00446\n",
      "epoch: 09, loss: -0.00629\n",
      "torch.Size([450, 32])\n"
     ]
    },
    {
     "name": "stderr",
     "output_type": "stream",
     "text": [
      " 34%|███▍      | 344/1000 [2:47:44<5:18:03, 29.09s/it]"
     ]
    },
    {
     "name": "stdout",
     "output_type": "stream",
     "text": [
      "eigenvalues shape torch.Size([5]) eigenvectors shape torch.Size([5, 450])\n",
      "344 /home/phdcs2/Hard_Disk/Datasets/Deep-Spectral-Segmentation/data/object-segmentation/ECSSD/features/dino_vits16/0345.pth\n",
      "dict_keys(['k', 'indices', 'file', 'id', 'model_name', 'patch_size', 'shape'])\n",
      "0345\n",
      "Starting Training\n",
      "epoch: 00, loss: 0.00425\n",
      "epoch: 01, loss: -0.00632\n",
      "epoch: 02, loss: -0.01051\n",
      "epoch: 03, loss: -0.01226\n",
      "epoch: 04, loss: -0.01313\n",
      "epoch: 05, loss: -0.01378\n",
      "epoch: 06, loss: -0.01407\n",
      "epoch: 07, loss: -0.01437\n",
      "epoch: 08, loss: -0.01445\n",
      "epoch: 09, loss: -0.01462\n",
      "torch.Size([500, 32])\n"
     ]
    },
    {
     "name": "stderr",
     "output_type": "stream",
     "text": [
      " 34%|███▍      | 345/1000 [2:48:27<6:03:22, 33.29s/it]"
     ]
    },
    {
     "name": "stdout",
     "output_type": "stream",
     "text": [
      "eigenvalues shape torch.Size([5]) eigenvectors shape torch.Size([5, 500])\n",
      "345 /home/phdcs2/Hard_Disk/Datasets/Deep-Spectral-Segmentation/data/object-segmentation/ECSSD/features/dino_vits16/0346.pth\n",
      "dict_keys(['k', 'indices', 'file', 'id', 'model_name', 'patch_size', 'shape'])\n",
      "0346\n",
      "Starting Training\n",
      "epoch: 00, loss: 0.00619\n",
      "epoch: 01, loss: 0.00149\n",
      "epoch: 02, loss: -0.00061\n",
      "epoch: 03, loss: -0.00215\n",
      "epoch: 04, loss: -0.00300\n",
      "epoch: 05, loss: -0.00371\n",
      "epoch: 06, loss: -0.00413\n",
      "epoch: 07, loss: -0.00448\n",
      "epoch: 08, loss: -0.00505\n",
      "epoch: 09, loss: -0.00523\n",
      "torch.Size([450, 32])\n"
     ]
    },
    {
     "name": "stderr",
     "output_type": "stream",
     "text": [
      " 35%|███▍      | 346/1000 [2:48:55<5:47:08, 31.85s/it]"
     ]
    },
    {
     "name": "stdout",
     "output_type": "stream",
     "text": [
      "eigenvalues shape torch.Size([5]) eigenvectors shape torch.Size([5, 450])\n",
      "346 /home/phdcs2/Hard_Disk/Datasets/Deep-Spectral-Segmentation/data/object-segmentation/ECSSD/features/dino_vits16/0347.pth\n",
      "dict_keys(['k', 'indices', 'file', 'id', 'model_name', 'patch_size', 'shape'])\n",
      "0347\n",
      "Starting Training\n",
      "epoch: 00, loss: -0.00067\n",
      "epoch: 01, loss: 0.00339\n",
      "epoch: 02, loss: -0.00239\n",
      "epoch: 03, loss: -0.01179\n",
      "epoch: 04, loss: -0.00429\n",
      "epoch: 05, loss: 0.00089\n",
      "epoch: 06, loss: 0.00308\n",
      "epoch: 07, loss: 0.00975\n",
      "epoch: 08, loss: -0.00216\n",
      "epoch: 09, loss: 0.00249\n",
      "torch.Size([450, 32])\n"
     ]
    },
    {
     "name": "stderr",
     "output_type": "stream",
     "text": [
      " 35%|███▍      | 347/1000 [2:49:21<5:26:23, 29.99s/it]"
     ]
    },
    {
     "name": "stdout",
     "output_type": "stream",
     "text": [
      "eigenvalues shape torch.Size([5]) eigenvectors shape torch.Size([5, 450])\n",
      "347 /home/phdcs2/Hard_Disk/Datasets/Deep-Spectral-Segmentation/data/object-segmentation/ECSSD/features/dino_vits16/0348.pth\n",
      "dict_keys(['k', 'indices', 'file', 'id', 'model_name', 'patch_size', 'shape'])\n",
      "0348\n",
      "Starting Training\n",
      "epoch: 00, loss: -0.00597\n",
      "epoch: 01, loss: 0.00028\n",
      "epoch: 02, loss: -0.00815\n",
      "epoch: 03, loss: -0.01300\n",
      "epoch: 04, loss: -0.01683\n",
      "epoch: 05, loss: -0.00982\n",
      "epoch: 06, loss: 0.00741\n",
      "epoch: 07, loss: -0.01360\n",
      "epoch: 08, loss: -0.00551\n",
      "epoch: 09, loss: -0.03166\n",
      "torch.Size([400, 32])\n"
     ]
    },
    {
     "name": "stderr",
     "output_type": "stream",
     "text": [
      " 35%|███▍      | 348/1000 [2:49:53<5:33:00, 30.64s/it]"
     ]
    },
    {
     "name": "stdout",
     "output_type": "stream",
     "text": [
      "eigenvalues shape torch.Size([5]) eigenvectors shape torch.Size([5, 400])\n",
      "348 /home/phdcs2/Hard_Disk/Datasets/Deep-Spectral-Segmentation/data/object-segmentation/ECSSD/features/dino_vits16/0349.pth\n",
      "dict_keys(['k', 'indices', 'file', 'id', 'model_name', 'patch_size', 'shape'])\n",
      "0349\n",
      "Starting Training\n",
      "epoch: 00, loss: 0.01165\n",
      "epoch: 01, loss: 0.00073\n",
      "epoch: 02, loss: 0.00368\n",
      "epoch: 03, loss: -0.00608\n",
      "epoch: 04, loss: -0.01416\n",
      "epoch: 05, loss: -0.00509\n",
      "epoch: 06, loss: -0.00796\n",
      "epoch: 07, loss: -0.01762\n",
      "epoch: 08, loss: -0.01125\n",
      "epoch: 09, loss: -0.01972\n",
      "torch.Size([400, 32])\n"
     ]
    },
    {
     "name": "stderr",
     "output_type": "stream",
     "text": [
      " 35%|███▍      | 349/1000 [2:50:17<5:09:32, 28.53s/it]"
     ]
    },
    {
     "name": "stdout",
     "output_type": "stream",
     "text": [
      "eigenvalues shape torch.Size([5]) eigenvectors shape torch.Size([5, 400])\n",
      "349 /home/phdcs2/Hard_Disk/Datasets/Deep-Spectral-Segmentation/data/object-segmentation/ECSSD/features/dino_vits16/0350.pth\n",
      "dict_keys(['k', 'indices', 'file', 'id', 'model_name', 'patch_size', 'shape'])\n",
      "0350\n",
      "Starting Training\n",
      "epoch: 00, loss: 0.00324\n",
      "epoch: 01, loss: 0.00029\n",
      "epoch: 02, loss: -0.00199\n",
      "epoch: 03, loss: -0.00782\n",
      "epoch: 04, loss: -0.00567\n",
      "epoch: 05, loss: -0.01298\n",
      "epoch: 06, loss: -0.00715\n",
      "epoch: 07, loss: -0.01087\n",
      "epoch: 08, loss: -0.01573\n",
      "epoch: 09, loss: -0.00885\n",
      "torch.Size([475, 32])\n"
     ]
    },
    {
     "name": "stderr",
     "output_type": "stream",
     "text": [
      " 35%|███▌      | 350/1000 [2:50:44<5:04:43, 28.13s/it]"
     ]
    },
    {
     "name": "stdout",
     "output_type": "stream",
     "text": [
      "eigenvalues shape torch.Size([5]) eigenvectors shape torch.Size([5, 475])\n",
      "350 /home/phdcs2/Hard_Disk/Datasets/Deep-Spectral-Segmentation/data/object-segmentation/ECSSD/features/dino_vits16/0351.pth\n",
      "dict_keys(['k', 'indices', 'file', 'id', 'model_name', 'patch_size', 'shape'])\n",
      "0351\n",
      "Starting Training\n",
      "epoch: 00, loss: -0.00821\n",
      "epoch: 01, loss: 0.00078\n",
      "epoch: 02, loss: 0.00212\n",
      "epoch: 03, loss: -0.00332\n",
      "epoch: 04, loss: -0.00435\n",
      "epoch: 05, loss: -0.00654\n",
      "epoch: 06, loss: -0.00262\n",
      "epoch: 07, loss: -0.00179\n",
      "epoch: 08, loss: 0.00583\n",
      "epoch: 09, loss: -0.00667\n",
      "torch.Size([450, 32])\n"
     ]
    },
    {
     "name": "stderr",
     "output_type": "stream",
     "text": [
      " 35%|███▌      | 351/1000 [2:51:11<5:01:34, 27.88s/it]"
     ]
    },
    {
     "name": "stdout",
     "output_type": "stream",
     "text": [
      "eigenvalues shape torch.Size([5]) eigenvectors shape torch.Size([5, 450])\n",
      "351 /home/phdcs2/Hard_Disk/Datasets/Deep-Spectral-Segmentation/data/object-segmentation/ECSSD/features/dino_vits16/0352.pth\n",
      "dict_keys(['k', 'indices', 'file', 'id', 'model_name', 'patch_size', 'shape'])\n",
      "0352\n",
      "Starting Training\n",
      "epoch: 00, loss: 0.01091\n",
      "epoch: 01, loss: -0.00483\n",
      "epoch: 02, loss: -0.02705\n",
      "epoch: 03, loss: -0.04570\n",
      "epoch: 04, loss: -0.06600\n",
      "epoch: 05, loss: -0.07032\n",
      "epoch: 06, loss: -0.09169\n",
      "epoch: 07, loss: -0.09214\n",
      "epoch: 08, loss: -0.10124\n",
      "epoch: 09, loss: -0.09948\n",
      "torch.Size([400, 32])\n"
     ]
    },
    {
     "name": "stderr",
     "output_type": "stream",
     "text": [
      " 35%|███▌      | 352/1000 [2:51:35<4:49:27, 26.80s/it]"
     ]
    },
    {
     "name": "stdout",
     "output_type": "stream",
     "text": [
      "eigenvalues shape torch.Size([5]) eigenvectors shape torch.Size([5, 400])\n",
      "352 /home/phdcs2/Hard_Disk/Datasets/Deep-Spectral-Segmentation/data/object-segmentation/ECSSD/features/dino_vits16/0353.pth\n",
      "dict_keys(['k', 'indices', 'file', 'id', 'model_name', 'patch_size', 'shape'])\n",
      "0353\n",
      "Starting Training\n",
      "epoch: 00, loss: 0.00918\n",
      "epoch: 01, loss: 0.00294\n",
      "epoch: 02, loss: -0.00087\n",
      "epoch: 03, loss: -0.00211\n",
      "epoch: 04, loss: -0.00447\n",
      "epoch: 05, loss: -0.00680\n",
      "epoch: 06, loss: -0.00743\n",
      "epoch: 07, loss: -0.00729\n",
      "epoch: 08, loss: -0.00904\n",
      "epoch: 09, loss: -0.00861\n",
      "torch.Size([425, 32])\n"
     ]
    },
    {
     "name": "stderr",
     "output_type": "stream",
     "text": [
      " 35%|███▌      | 353/1000 [2:52:03<4:50:14, 26.92s/it]"
     ]
    },
    {
     "name": "stdout",
     "output_type": "stream",
     "text": [
      "eigenvalues shape torch.Size([5]) eigenvectors shape torch.Size([5, 425])\n",
      "353 /home/phdcs2/Hard_Disk/Datasets/Deep-Spectral-Segmentation/data/object-segmentation/ECSSD/features/dino_vits16/0354.pth\n",
      "dict_keys(['k', 'indices', 'file', 'id', 'model_name', 'patch_size', 'shape'])\n",
      "0354\n",
      "Starting Training\n",
      "epoch: 00, loss: 0.00755\n",
      "epoch: 01, loss: 0.00238\n",
      "epoch: 02, loss: -0.00868\n",
      "epoch: 03, loss: -0.00995\n",
      "epoch: 04, loss: -0.01716\n",
      "epoch: 05, loss: 0.00114\n",
      "epoch: 06, loss: -0.00489\n",
      "epoch: 07, loss: -0.02317\n",
      "epoch: 08, loss: 0.00573\n",
      "epoch: 09, loss: 0.00271\n",
      "torch.Size([575, 32])\n"
     ]
    },
    {
     "name": "stderr",
     "output_type": "stream",
     "text": [
      " 35%|███▌      | 354/1000 [2:52:42<5:30:17, 30.68s/it]"
     ]
    },
    {
     "name": "stdout",
     "output_type": "stream",
     "text": [
      "eigenvalues shape torch.Size([5]) eigenvectors shape torch.Size([5, 575])\n",
      "354 /home/phdcs2/Hard_Disk/Datasets/Deep-Spectral-Segmentation/data/object-segmentation/ECSSD/features/dino_vits16/0355.pth\n",
      "dict_keys(['k', 'indices', 'file', 'id', 'model_name', 'patch_size', 'shape'])\n",
      "0355\n",
      "Starting Training\n",
      "epoch: 00, loss: 0.00278\n",
      "epoch: 01, loss: -0.00579\n",
      "epoch: 02, loss: -0.01041\n",
      "epoch: 03, loss: -0.01260\n",
      "epoch: 04, loss: -0.01361\n",
      "epoch: 05, loss: -0.01452\n",
      "epoch: 06, loss: -0.01492\n",
      "epoch: 07, loss: -0.01519\n",
      "epoch: 08, loss: -0.01526\n",
      "epoch: 09, loss: -0.01543\n",
      "torch.Size([450, 32])\n"
     ]
    },
    {
     "name": "stderr",
     "output_type": "stream",
     "text": [
      " 36%|███▌      | 355/1000 [2:53:07<5:11:39, 28.99s/it]"
     ]
    },
    {
     "name": "stdout",
     "output_type": "stream",
     "text": [
      "eigenvalues shape torch.Size([5]) eigenvectors shape torch.Size([5, 450])\n",
      "355 /home/phdcs2/Hard_Disk/Datasets/Deep-Spectral-Segmentation/data/object-segmentation/ECSSD/features/dino_vits16/0356.pth\n",
      "dict_keys(['k', 'indices', 'file', 'id', 'model_name', 'patch_size', 'shape'])\n",
      "0356\n",
      "Starting Training\n",
      "epoch: 00, loss: 0.00769\n",
      "epoch: 01, loss: 0.00310\n",
      "epoch: 02, loss: 0.00057\n",
      "epoch: 03, loss: -0.00179\n",
      "epoch: 04, loss: -0.00280\n",
      "epoch: 05, loss: -0.00365\n",
      "epoch: 06, loss: -0.00436\n",
      "epoch: 07, loss: -0.00497\n",
      "epoch: 08, loss: -0.00555\n",
      "epoch: 09, loss: -0.00590\n",
      "torch.Size([450, 32])\n"
     ]
    },
    {
     "name": "stderr",
     "output_type": "stream",
     "text": [
      " 36%|███▌      | 356/1000 [2:53:32<4:59:03, 27.86s/it]"
     ]
    },
    {
     "name": "stdout",
     "output_type": "stream",
     "text": [
      "eigenvalues shape torch.Size([5]) eigenvectors shape torch.Size([5, 450])\n",
      "356 /home/phdcs2/Hard_Disk/Datasets/Deep-Spectral-Segmentation/data/object-segmentation/ECSSD/features/dino_vits16/0357.pth\n",
      "dict_keys(['k', 'indices', 'file', 'id', 'model_name', 'patch_size', 'shape'])\n",
      "0357\n",
      "Starting Training\n",
      "epoch: 00, loss: 0.00701\n",
      "epoch: 01, loss: 0.00088\n",
      "epoch: 02, loss: -0.00191\n",
      "epoch: 03, loss: -0.00439\n",
      "epoch: 04, loss: -0.00597\n",
      "epoch: 05, loss: -0.00598\n",
      "epoch: 06, loss: -0.00616\n",
      "epoch: 07, loss: -0.00642\n",
      "epoch: 08, loss: -0.00703\n",
      "epoch: 09, loss: -0.00851\n",
      "torch.Size([475, 32])\n"
     ]
    },
    {
     "name": "stderr",
     "output_type": "stream",
     "text": [
      " 36%|███▌      | 357/1000 [2:54:02<5:03:24, 28.31s/it]"
     ]
    },
    {
     "name": "stdout",
     "output_type": "stream",
     "text": [
      "eigenvalues shape torch.Size([5]) eigenvectors shape torch.Size([5, 475])\n",
      "357 /home/phdcs2/Hard_Disk/Datasets/Deep-Spectral-Segmentation/data/object-segmentation/ECSSD/features/dino_vits16/0358.pth\n",
      "dict_keys(['k', 'indices', 'file', 'id', 'model_name', 'patch_size', 'shape'])\n",
      "0358\n",
      "Starting Training\n",
      "epoch: 00, loss: 0.00819\n",
      "epoch: 01, loss: 0.00348\n",
      "epoch: 02, loss: 0.00094\n",
      "epoch: 03, loss: 0.00009\n",
      "epoch: 04, loss: -0.00072\n",
      "epoch: 05, loss: -0.00111\n",
      "epoch: 06, loss: -0.00170\n",
      "epoch: 07, loss: -0.00201\n",
      "epoch: 08, loss: -0.00224\n",
      "epoch: 09, loss: -0.00226\n",
      "torch.Size([400, 32])\n"
     ]
    },
    {
     "name": "stderr",
     "output_type": "stream",
     "text": [
      " 36%|███▌      | 358/1000 [2:54:33<5:13:54, 29.34s/it]"
     ]
    },
    {
     "name": "stdout",
     "output_type": "stream",
     "text": [
      "eigenvalues shape torch.Size([5]) eigenvectors shape torch.Size([5, 400])\n",
      "358 /home/phdcs2/Hard_Disk/Datasets/Deep-Spectral-Segmentation/data/object-segmentation/ECSSD/features/dino_vits16/0359.pth\n",
      "dict_keys(['k', 'indices', 'file', 'id', 'model_name', 'patch_size', 'shape'])\n",
      "0359\n",
      "Starting Training\n",
      "epoch: 00, loss: -0.00131\n",
      "epoch: 01, loss: -0.00240\n",
      "epoch: 02, loss: -0.00519\n",
      "epoch: 03, loss: -0.00998\n",
      "epoch: 04, loss: -0.01026\n",
      "epoch: 05, loss: -0.01628\n",
      "epoch: 06, loss: -0.01019\n",
      "epoch: 07, loss: -0.00456\n",
      "epoch: 08, loss: -0.01317\n",
      "epoch: 09, loss: -0.01412\n",
      "torch.Size([350, 32])\n"
     ]
    },
    {
     "name": "stderr",
     "output_type": "stream",
     "text": [
      "/home/phdcs2/Hard_Disk/Projects/T2I/deep-spectral-segmentation/venv/lib/python3.8/site-packages/scipy/sparse/linalg/_eigen/arpack/arpack.py:935: LinAlgWarning: Diagonal number 350 is exactly zero. Singular matrix.\n",
      "  self.M_lu = lu_factor(M)\n"
     ]
    },
    {
     "name": "stdout",
     "output_type": "stream",
     "text": [
      " ** On entry to SLASCL parameter number  4 had an illegal value\n",
      " ** On entry to SLASCL parameter number  4 had an illegal value\n"
     ]
    },
    {
     "name": "stderr",
     "output_type": "stream",
     "text": [
      " 36%|███▌      | 359/1000 [2:54:56<4:52:16, 27.36s/it]"
     ]
    },
    {
     "name": "stdout",
     "output_type": "stream",
     "text": [
      "eigenvalues shape torch.Size([5]) eigenvectors shape torch.Size([5, 350])\n",
      "359 /home/phdcs2/Hard_Disk/Datasets/Deep-Spectral-Segmentation/data/object-segmentation/ECSSD/features/dino_vits16/0360.pth\n",
      "dict_keys(['k', 'indices', 'file', 'id', 'model_name', 'patch_size', 'shape'])\n",
      "0360\n",
      "Starting Training\n",
      "epoch: 00, loss: 0.00983\n",
      "epoch: 01, loss: 0.00138\n",
      "epoch: 02, loss: -0.00161\n",
      "epoch: 03, loss: -0.00376\n",
      "epoch: 04, loss: -0.00474\n",
      "epoch: 05, loss: -0.00574\n",
      "epoch: 06, loss: -0.00642\n",
      "epoch: 07, loss: -0.00677\n",
      "epoch: 08, loss: -0.00712\n",
      "epoch: 09, loss: -0.00753\n",
      "torch.Size([400, 32])\n"
     ]
    },
    {
     "name": "stderr",
     "output_type": "stream",
     "text": [
      " 36%|███▌      | 360/1000 [2:55:27<5:02:45, 28.38s/it]"
     ]
    },
    {
     "name": "stdout",
     "output_type": "stream",
     "text": [
      "eigenvalues shape torch.Size([5]) eigenvectors shape torch.Size([5, 400])\n",
      "360 /home/phdcs2/Hard_Disk/Datasets/Deep-Spectral-Segmentation/data/object-segmentation/ECSSD/features/dino_vits16/0361.pth\n",
      "dict_keys(['k', 'indices', 'file', 'id', 'model_name', 'patch_size', 'shape'])\n",
      "0361\n",
      "Starting Training\n",
      "epoch: 00, loss: 0.00021\n",
      "epoch: 01, loss: 0.01558\n",
      "epoch: 02, loss: -0.00304\n",
      "epoch: 03, loss: -0.00848\n",
      "epoch: 04, loss: 0.00454\n",
      "epoch: 05, loss: 0.01053\n",
      "epoch: 06, loss: -0.00783\n",
      "epoch: 07, loss: -0.01234\n",
      "epoch: 08, loss: -0.01791\n",
      "epoch: 09, loss: -0.01067\n",
      "torch.Size([400, 32])\n"
     ]
    },
    {
     "name": "stderr",
     "output_type": "stream",
     "text": [
      " 36%|███▌      | 361/1000 [2:55:59<5:15:12, 29.60s/it]"
     ]
    },
    {
     "name": "stdout",
     "output_type": "stream",
     "text": [
      "eigenvalues shape torch.Size([5]) eigenvectors shape torch.Size([5, 400])\n",
      "361 /home/phdcs2/Hard_Disk/Datasets/Deep-Spectral-Segmentation/data/object-segmentation/ECSSD/features/dino_vits16/0362.pth\n",
      "dict_keys(['k', 'indices', 'file', 'id', 'model_name', 'patch_size', 'shape'])\n",
      "0362\n",
      "Starting Training\n",
      "epoch: 00, loss: 0.00659\n",
      "epoch: 01, loss: -0.00068\n",
      "epoch: 02, loss: -0.00479\n",
      "epoch: 03, loss: -0.00724\n",
      "epoch: 04, loss: -0.00884\n",
      "epoch: 05, loss: -0.00980\n",
      "epoch: 06, loss: -0.01054\n",
      "epoch: 07, loss: -0.01100\n",
      "epoch: 08, loss: -0.01137\n",
      "epoch: 09, loss: -0.01167\n",
      "torch.Size([500, 32])\n"
     ]
    },
    {
     "name": "stderr",
     "output_type": "stream",
     "text": [
      " 36%|███▌      | 362/1000 [2:56:32<5:23:06, 30.39s/it]"
     ]
    },
    {
     "name": "stdout",
     "output_type": "stream",
     "text": [
      "eigenvalues shape torch.Size([5]) eigenvectors shape torch.Size([5, 500])\n",
      "362 /home/phdcs2/Hard_Disk/Datasets/Deep-Spectral-Segmentation/data/object-segmentation/ECSSD/features/dino_vits16/0363.pth\n",
      "dict_keys(['k', 'indices', 'file', 'id', 'model_name', 'patch_size', 'shape'])\n",
      "0363\n",
      "Starting Training\n",
      "epoch: 00, loss: 0.01064\n",
      "epoch: 01, loss: 0.00895\n",
      "epoch: 02, loss: -0.00632\n",
      "epoch: 03, loss: -0.00299\n",
      "epoch: 04, loss: -0.00844\n",
      "epoch: 05, loss: -0.01023\n",
      "epoch: 06, loss: 0.00109\n",
      "epoch: 07, loss: -0.00250\n",
      "epoch: 08, loss: -0.00648\n",
      "epoch: 09, loss: -0.00084\n",
      "torch.Size([625, 32])\n"
     ]
    },
    {
     "name": "stderr",
     "output_type": "stream",
     "text": [
      " 36%|███▋      | 363/1000 [2:57:16<6:06:44, 34.54s/it]"
     ]
    },
    {
     "name": "stdout",
     "output_type": "stream",
     "text": [
      "eigenvalues shape torch.Size([5]) eigenvectors shape torch.Size([5, 625])\n",
      "363 /home/phdcs2/Hard_Disk/Datasets/Deep-Spectral-Segmentation/data/object-segmentation/ECSSD/features/dino_vits16/0364.pth\n",
      "dict_keys(['k', 'indices', 'file', 'id', 'model_name', 'patch_size', 'shape'])\n",
      "0364\n",
      "Starting Training\n",
      "epoch: 00, loss: 0.00757\n",
      "epoch: 01, loss: 0.00417\n",
      "epoch: 02, loss: 0.00263\n",
      "epoch: 03, loss: 0.00159\n",
      "epoch: 04, loss: 0.00061\n",
      "epoch: 05, loss: -0.00001\n",
      "epoch: 06, loss: -0.00025\n",
      "epoch: 07, loss: -0.00071\n",
      "epoch: 08, loss: -0.00101\n",
      "epoch: 09, loss: -0.00134\n",
      "torch.Size([450, 32])\n"
     ]
    },
    {
     "name": "stderr",
     "output_type": "stream",
     "text": [
      " 36%|███▋      | 364/1000 [2:57:44<5:45:53, 32.63s/it]"
     ]
    },
    {
     "name": "stdout",
     "output_type": "stream",
     "text": [
      "eigenvalues shape torch.Size([5]) eigenvectors shape torch.Size([5, 450])\n",
      "364 /home/phdcs2/Hard_Disk/Datasets/Deep-Spectral-Segmentation/data/object-segmentation/ECSSD/features/dino_vits16/0365.pth\n",
      "dict_keys(['k', 'indices', 'file', 'id', 'model_name', 'patch_size', 'shape'])\n",
      "0365\n",
      "Starting Training\n",
      "epoch: 00, loss: 0.00536\n",
      "epoch: 01, loss: 0.00112\n",
      "epoch: 02, loss: -0.00151\n",
      "epoch: 03, loss: -0.00282\n",
      "epoch: 04, loss: -0.00368\n",
      "epoch: 05, loss: -0.00432\n",
      "epoch: 06, loss: -0.00507\n",
      "epoch: 07, loss: -0.00529\n",
      "epoch: 08, loss: -0.00556\n",
      "epoch: 09, loss: -0.00599\n",
      "torch.Size([450, 32])\n"
     ]
    },
    {
     "name": "stderr",
     "output_type": "stream",
     "text": [
      " 36%|███▋      | 365/1000 [2:58:21<5:57:47, 33.81s/it]"
     ]
    },
    {
     "name": "stdout",
     "output_type": "stream",
     "text": [
      "eigenvalues shape torch.Size([5]) eigenvectors shape torch.Size([5, 450])\n",
      "365 /home/phdcs2/Hard_Disk/Datasets/Deep-Spectral-Segmentation/data/object-segmentation/ECSSD/features/dino_vits16/0366.pth\n",
      "dict_keys(['k', 'indices', 'file', 'id', 'model_name', 'patch_size', 'shape'])\n",
      "0366\n",
      "Starting Training\n",
      "epoch: 00, loss: -0.00542\n",
      "epoch: 01, loss: -0.00420\n",
      "epoch: 02, loss: -0.01327\n",
      "epoch: 03, loss: -0.01285\n",
      "epoch: 04, loss: -0.02580\n",
      "epoch: 05, loss: -0.04257\n",
      "epoch: 06, loss: -0.05765\n",
      "epoch: 07, loss: -0.05319\n",
      "epoch: 08, loss: -0.05777\n",
      "epoch: 09, loss: -0.06929\n",
      "torch.Size([500, 32])\n"
     ]
    },
    {
     "name": "stderr",
     "output_type": "stream",
     "text": [
      " 37%|███▋      | 366/1000 [2:58:53<5:51:35, 33.27s/it]"
     ]
    },
    {
     "name": "stdout",
     "output_type": "stream",
     "text": [
      "eigenvalues shape torch.Size([5]) eigenvectors shape torch.Size([5, 500])\n",
      "366 /home/phdcs2/Hard_Disk/Datasets/Deep-Spectral-Segmentation/data/object-segmentation/ECSSD/features/dino_vits16/0367.pth\n",
      "dict_keys(['k', 'indices', 'file', 'id', 'model_name', 'patch_size', 'shape'])\n",
      "0367\n",
      "Starting Training\n",
      "epoch: 00, loss: 0.00600\n",
      "epoch: 01, loss: -0.00013\n",
      "epoch: 02, loss: -0.00276\n",
      "epoch: 03, loss: -0.00701\n",
      "epoch: 04, loss: -0.00616\n",
      "epoch: 05, loss: -0.00785\n",
      "epoch: 06, loss: -0.00737\n",
      "epoch: 07, loss: -0.00892\n",
      "epoch: 08, loss: -0.00990\n",
      "epoch: 09, loss: -0.00916\n",
      "torch.Size([400, 32])\n"
     ]
    },
    {
     "name": "stderr",
     "output_type": "stream",
     "text": [
      " 37%|███▋      | 367/1000 [2:59:16<5:21:23, 30.46s/it]"
     ]
    },
    {
     "name": "stdout",
     "output_type": "stream",
     "text": [
      "eigenvalues shape torch.Size([5]) eigenvectors shape torch.Size([5, 400])\n",
      "367 /home/phdcs2/Hard_Disk/Datasets/Deep-Spectral-Segmentation/data/object-segmentation/ECSSD/features/dino_vits16/0368.pth\n",
      "dict_keys(['k', 'indices', 'file', 'id', 'model_name', 'patch_size', 'shape'])\n",
      "0368\n",
      "Starting Training\n",
      "epoch: 00, loss: 0.00545\n",
      "epoch: 01, loss: 0.00003\n",
      "epoch: 02, loss: -0.00288\n",
      "epoch: 03, loss: -0.00448\n",
      "epoch: 04, loss: -0.00553\n",
      "epoch: 05, loss: -0.00658\n",
      "epoch: 06, loss: -0.00698\n",
      "epoch: 07, loss: -0.00768\n",
      "epoch: 08, loss: -0.00781\n",
      "epoch: 09, loss: -0.00834\n",
      "torch.Size([400, 32])\n"
     ]
    },
    {
     "name": "stderr",
     "output_type": "stream",
     "text": [
      " 37%|███▋      | 368/1000 [2:59:38<4:51:18, 27.66s/it]"
     ]
    },
    {
     "name": "stdout",
     "output_type": "stream",
     "text": [
      "eigenvalues shape torch.Size([5]) eigenvectors shape torch.Size([5, 400])\n",
      "368 /home/phdcs2/Hard_Disk/Datasets/Deep-Spectral-Segmentation/data/object-segmentation/ECSSD/features/dino_vits16/0369.pth\n",
      "dict_keys(['k', 'indices', 'file', 'id', 'model_name', 'patch_size', 'shape'])\n",
      "0369\n",
      "Starting Training\n",
      "epoch: 00, loss: 0.01439\n",
      "epoch: 01, loss: 0.00363\n",
      "epoch: 02, loss: -0.00182\n",
      "epoch: 03, loss: 0.00250\n",
      "epoch: 04, loss: -0.00389\n",
      "epoch: 05, loss: -0.00218\n",
      "epoch: 06, loss: -0.00491\n",
      "epoch: 07, loss: -0.00416\n",
      "epoch: 08, loss: -0.00299\n",
      "epoch: 09, loss: -0.00467\n",
      "torch.Size([400, 32])\n"
     ]
    },
    {
     "name": "stderr",
     "output_type": "stream",
     "text": [
      " 37%|███▋      | 369/1000 [3:00:01<4:38:14, 26.46s/it]"
     ]
    },
    {
     "name": "stdout",
     "output_type": "stream",
     "text": [
      "eigenvalues shape torch.Size([5]) eigenvectors shape torch.Size([5, 400])\n",
      "369 /home/phdcs2/Hard_Disk/Datasets/Deep-Spectral-Segmentation/data/object-segmentation/ECSSD/features/dino_vits16/0370.pth\n",
      "dict_keys(['k', 'indices', 'file', 'id', 'model_name', 'patch_size', 'shape'])\n",
      "0370\n",
      "Starting Training\n",
      "epoch: 00, loss: 0.00730\n",
      "epoch: 01, loss: 0.00237\n",
      "epoch: 02, loss: 0.00103\n",
      "epoch: 03, loss: -0.00065\n",
      "epoch: 04, loss: -0.00128\n",
      "epoch: 05, loss: -0.00171\n",
      "epoch: 06, loss: -0.00214\n",
      "epoch: 07, loss: -0.00251\n",
      "epoch: 08, loss: -0.00288\n",
      "epoch: 09, loss: -0.00314\n",
      "torch.Size([600, 32])\n"
     ]
    },
    {
     "name": "stderr",
     "output_type": "stream",
     "text": [
      " 37%|███▋      | 370/1000 [3:00:44<5:29:54, 31.42s/it]"
     ]
    },
    {
     "name": "stdout",
     "output_type": "stream",
     "text": [
      "eigenvalues shape torch.Size([5]) eigenvectors shape torch.Size([5, 600])\n",
      "370 /home/phdcs2/Hard_Disk/Datasets/Deep-Spectral-Segmentation/data/object-segmentation/ECSSD/features/dino_vits16/0371.pth\n",
      "dict_keys(['k', 'indices', 'file', 'id', 'model_name', 'patch_size', 'shape'])\n",
      "0371\n",
      "Starting Training\n",
      "epoch: 00, loss: 0.00338\n",
      "epoch: 01, loss: -0.00078\n",
      "epoch: 02, loss: -0.00280\n",
      "epoch: 03, loss: -0.00415\n",
      "epoch: 04, loss: -0.00485\n",
      "epoch: 05, loss: -0.00556\n",
      "epoch: 06, loss: -0.00603\n",
      "epoch: 07, loss: -0.00630\n",
      "epoch: 08, loss: -0.00674\n",
      "epoch: 09, loss: -0.00693\n",
      "torch.Size([550, 32])\n"
     ]
    },
    {
     "name": "stderr",
     "output_type": "stream",
     "text": [
      " 37%|███▋      | 371/1000 [3:01:23<5:52:30, 33.63s/it]"
     ]
    },
    {
     "name": "stdout",
     "output_type": "stream",
     "text": [
      "eigenvalues shape torch.Size([5]) eigenvectors shape torch.Size([5, 550])\n",
      "371 /home/phdcs2/Hard_Disk/Datasets/Deep-Spectral-Segmentation/data/object-segmentation/ECSSD/features/dino_vits16/0372.pth\n",
      "dict_keys(['k', 'indices', 'file', 'id', 'model_name', 'patch_size', 'shape'])\n",
      "0372\n",
      "Starting Training\n",
      "epoch: 00, loss: 0.00175\n",
      "epoch: 01, loss: -0.01429\n",
      "epoch: 02, loss: -0.00111\n",
      "epoch: 03, loss: -0.02192\n",
      "epoch: 04, loss: -0.00907\n",
      "epoch: 05, loss: -0.02046\n",
      "epoch: 06, loss: -0.01423\n",
      "epoch: 07, loss: -0.02106\n",
      "epoch: 08, loss: -0.02943\n",
      "epoch: 09, loss: -0.03127\n",
      "torch.Size([600, 32])\n"
     ]
    },
    {
     "name": "stderr",
     "output_type": "stream",
     "text": [
      " 37%|███▋      | 372/1000 [3:02:06<6:20:22, 36.34s/it]"
     ]
    },
    {
     "name": "stdout",
     "output_type": "stream",
     "text": [
      "eigenvalues shape torch.Size([5]) eigenvectors shape torch.Size([5, 600])\n",
      "372 /home/phdcs2/Hard_Disk/Datasets/Deep-Spectral-Segmentation/data/object-segmentation/ECSSD/features/dino_vits16/0373.pth\n",
      "dict_keys(['k', 'indices', 'file', 'id', 'model_name', 'patch_size', 'shape'])\n",
      "0373\n",
      "Starting Training\n",
      "epoch: 00, loss: 0.01035\n",
      "epoch: 01, loss: 0.00361\n",
      "epoch: 02, loss: -0.00037\n",
      "epoch: 03, loss: -0.00369\n",
      "epoch: 04, loss: -0.00584\n",
      "epoch: 05, loss: -0.00718\n",
      "epoch: 06, loss: -0.00806\n",
      "epoch: 07, loss: -0.00889\n",
      "epoch: 08, loss: -0.00943\n",
      "epoch: 09, loss: -0.00995\n",
      "torch.Size([400, 32])\n"
     ]
    },
    {
     "name": "stderr",
     "output_type": "stream",
     "text": [
      " 37%|███▋      | 373/1000 [3:02:31<5:44:41, 32.99s/it]"
     ]
    },
    {
     "name": "stdout",
     "output_type": "stream",
     "text": [
      "eigenvalues shape torch.Size([5]) eigenvectors shape torch.Size([5, 400])\n",
      "373 /home/phdcs2/Hard_Disk/Datasets/Deep-Spectral-Segmentation/data/object-segmentation/ECSSD/features/dino_vits16/0374.pth\n",
      "dict_keys(['k', 'indices', 'file', 'id', 'model_name', 'patch_size', 'shape'])\n",
      "0374\n",
      "Starting Training\n",
      "epoch: 00, loss: 0.01134\n",
      "epoch: 01, loss: 0.00375\n",
      "epoch: 02, loss: -0.00061\n",
      "epoch: 03, loss: -0.00423\n",
      "epoch: 04, loss: -0.00644\n",
      "epoch: 05, loss: -0.00852\n",
      "epoch: 06, loss: -0.01075\n",
      "epoch: 07, loss: -0.01204\n",
      "epoch: 08, loss: -0.00790\n",
      "epoch: 09, loss: -0.01070\n",
      "torch.Size([450, 32])\n"
     ]
    },
    {
     "name": "stderr",
     "output_type": "stream",
     "text": [
      " 37%|███▋      | 374/1000 [3:02:56<5:19:49, 30.65s/it]"
     ]
    },
    {
     "name": "stdout",
     "output_type": "stream",
     "text": [
      "eigenvalues shape torch.Size([5]) eigenvectors shape torch.Size([5, 450])\n",
      "374 /home/phdcs2/Hard_Disk/Datasets/Deep-Spectral-Segmentation/data/object-segmentation/ECSSD/features/dino_vits16/0375.pth\n",
      "dict_keys(['k', 'indices', 'file', 'id', 'model_name', 'patch_size', 'shape'])\n",
      "0375\n",
      "Starting Training\n",
      "epoch: 00, loss: -0.00506\n",
      "epoch: 01, loss: -0.00165\n",
      "epoch: 02, loss: -0.00671\n",
      "epoch: 03, loss: -0.01489\n",
      "epoch: 04, loss: -0.01465\n",
      "epoch: 05, loss: 0.00625\n",
      "epoch: 06, loss: 0.00136\n",
      "epoch: 07, loss: 0.01070\n",
      "epoch: 08, loss: -0.01599\n",
      "epoch: 09, loss: -0.00436\n",
      "torch.Size([475, 32])\n"
     ]
    },
    {
     "name": "stderr",
     "output_type": "stream",
     "text": [
      " 38%|███▊      | 375/1000 [3:03:26<5:18:03, 30.53s/it]"
     ]
    },
    {
     "name": "stdout",
     "output_type": "stream",
     "text": [
      "eigenvalues shape torch.Size([5]) eigenvectors shape torch.Size([5, 475])\n",
      "375 /home/phdcs2/Hard_Disk/Datasets/Deep-Spectral-Segmentation/data/object-segmentation/ECSSD/features/dino_vits16/0376.pth\n",
      "dict_keys(['k', 'indices', 'file', 'id', 'model_name', 'patch_size', 'shape'])\n",
      "0376\n",
      "Starting Training\n",
      "epoch: 00, loss: 0.00751\n",
      "epoch: 01, loss: 0.00383\n",
      "epoch: 02, loss: 0.00146\n",
      "epoch: 03, loss: 0.00062\n",
      "epoch: 04, loss: -0.00038\n",
      "epoch: 05, loss: -0.00093\n",
      "epoch: 06, loss: -0.00201\n",
      "epoch: 07, loss: -0.00179\n",
      "epoch: 08, loss: -0.00218\n",
      "epoch: 09, loss: -0.00305\n",
      "torch.Size([625, 32])\n"
     ]
    },
    {
     "name": "stderr",
     "output_type": "stream",
     "text": [
      " 38%|███▊      | 376/1000 [3:04:10<5:57:20, 34.36s/it]"
     ]
    },
    {
     "name": "stdout",
     "output_type": "stream",
     "text": [
      "eigenvalues shape torch.Size([5]) eigenvectors shape torch.Size([5, 625])\n",
      "376 /home/phdcs2/Hard_Disk/Datasets/Deep-Spectral-Segmentation/data/object-segmentation/ECSSD/features/dino_vits16/0377.pth\n",
      "dict_keys(['k', 'indices', 'file', 'id', 'model_name', 'patch_size', 'shape'])\n",
      "0377\n",
      "Starting Training\n",
      "epoch: 00, loss: -0.00117\n",
      "epoch: 01, loss: -0.00190\n",
      "epoch: 02, loss: -0.00570\n",
      "epoch: 03, loss: 0.00132\n",
      "epoch: 04, loss: -0.01385\n",
      "epoch: 05, loss: -0.00294\n",
      "epoch: 06, loss: -0.01171\n",
      "epoch: 07, loss: -0.00154\n",
      "epoch: 08, loss: -0.01634\n",
      "epoch: 09, loss: 0.00344\n",
      "torch.Size([400, 32])\n"
     ]
    },
    {
     "name": "stderr",
     "output_type": "stream",
     "text": [
      " 38%|███▊      | 377/1000 [3:04:43<5:52:26, 33.94s/it]"
     ]
    },
    {
     "name": "stdout",
     "output_type": "stream",
     "text": [
      "eigenvalues shape torch.Size([5]) eigenvectors shape torch.Size([5, 400])\n",
      "377 /home/phdcs2/Hard_Disk/Datasets/Deep-Spectral-Segmentation/data/object-segmentation/ECSSD/features/dino_vits16/0378.pth\n",
      "dict_keys(['k', 'indices', 'file', 'id', 'model_name', 'patch_size', 'shape'])\n",
      "0378\n",
      "Starting Training\n",
      "epoch: 00, loss: -0.00048\n",
      "epoch: 01, loss: -0.00212\n",
      "epoch: 02, loss: -0.00334\n",
      "epoch: 03, loss: -0.00959\n",
      "epoch: 04, loss: 0.00024\n",
      "epoch: 05, loss: -0.01113\n",
      "epoch: 06, loss: -0.00989\n",
      "epoch: 07, loss: -0.00391\n",
      "epoch: 08, loss: -0.01330\n",
      "epoch: 09, loss: -0.01003\n",
      "torch.Size([450, 32])\n"
     ]
    },
    {
     "name": "stderr",
     "output_type": "stream",
     "text": [
      " 38%|███▊      | 378/1000 [3:05:13<5:40:42, 32.87s/it]"
     ]
    },
    {
     "name": "stdout",
     "output_type": "stream",
     "text": [
      "eigenvalues shape torch.Size([5]) eigenvectors shape torch.Size([5, 450])\n",
      "378 /home/phdcs2/Hard_Disk/Datasets/Deep-Spectral-Segmentation/data/object-segmentation/ECSSD/features/dino_vits16/0379.pth\n",
      "dict_keys(['k', 'indices', 'file', 'id', 'model_name', 'patch_size', 'shape'])\n",
      "0379\n",
      "Starting Training\n",
      "epoch: 00, loss: -0.00581\n",
      "epoch: 01, loss: 0.00141\n",
      "epoch: 02, loss: -0.00444\n",
      "epoch: 03, loss: -0.00987\n",
      "epoch: 04, loss: 0.01048\n",
      "epoch: 05, loss: -0.00431\n",
      "epoch: 06, loss: 0.00438\n",
      "epoch: 07, loss: -0.01804\n",
      "epoch: 08, loss: -0.01137\n",
      "epoch: 09, loss: -0.01674\n",
      "torch.Size([450, 32])\n"
     ]
    },
    {
     "name": "stderr",
     "output_type": "stream",
     "text": [
      " 38%|███▊      | 379/1000 [3:05:38<5:17:30, 30.68s/it]"
     ]
    },
    {
     "name": "stdout",
     "output_type": "stream",
     "text": [
      "eigenvalues shape torch.Size([5]) eigenvectors shape torch.Size([5, 450])\n",
      "379 /home/phdcs2/Hard_Disk/Datasets/Deep-Spectral-Segmentation/data/object-segmentation/ECSSD/features/dino_vits16/0380.pth\n",
      "dict_keys(['k', 'indices', 'file', 'id', 'model_name', 'patch_size', 'shape'])\n",
      "0380\n",
      "Starting Training\n",
      "epoch: 00, loss: 0.00802\n",
      "epoch: 01, loss: 0.00824\n",
      "epoch: 02, loss: 0.00572\n",
      "epoch: 03, loss: 0.00717\n",
      "epoch: 04, loss: -0.00281\n",
      "epoch: 05, loss: 0.00797\n",
      "epoch: 06, loss: 0.00523\n",
      "epoch: 07, loss: -0.00489\n",
      "epoch: 08, loss: 0.00942\n",
      "epoch: 09, loss: -0.00140\n",
      "torch.Size([425, 32])\n"
     ]
    },
    {
     "name": "stderr",
     "output_type": "stream",
     "text": [
      " 38%|███▊      | 380/1000 [3:06:06<5:08:29, 29.85s/it]"
     ]
    },
    {
     "name": "stdout",
     "output_type": "stream",
     "text": [
      "eigenvalues shape torch.Size([5]) eigenvectors shape torch.Size([5, 425])\n",
      "380 /home/phdcs2/Hard_Disk/Datasets/Deep-Spectral-Segmentation/data/object-segmentation/ECSSD/features/dino_vits16/0381.pth\n",
      "dict_keys(['k', 'indices', 'file', 'id', 'model_name', 'patch_size', 'shape'])\n",
      "0381\n",
      "Starting Training\n",
      "epoch: 00, loss: 0.00340\n",
      "epoch: 01, loss: 0.00297\n",
      "epoch: 02, loss: 0.00446\n",
      "epoch: 03, loss: 0.00853\n",
      "epoch: 04, loss: -0.00589\n",
      "epoch: 05, loss: -0.00723\n",
      "epoch: 06, loss: -0.00099\n",
      "epoch: 07, loss: 0.00591\n",
      "epoch: 08, loss: -0.00277\n",
      "epoch: 09, loss: -0.01346\n",
      "torch.Size([450, 32])\n"
     ]
    },
    {
     "name": "stderr",
     "output_type": "stream",
     "text": [
      " 38%|███▊      | 381/1000 [3:06:34<5:01:10, 29.19s/it]"
     ]
    },
    {
     "name": "stdout",
     "output_type": "stream",
     "text": [
      "eigenvalues shape torch.Size([5]) eigenvectors shape torch.Size([5, 450])\n",
      "381 /home/phdcs2/Hard_Disk/Datasets/Deep-Spectral-Segmentation/data/object-segmentation/ECSSD/features/dino_vits16/0382.pth\n",
      "dict_keys(['k', 'indices', 'file', 'id', 'model_name', 'patch_size', 'shape'])\n",
      "0382\n",
      "Starting Training\n",
      "epoch: 00, loss: 0.00198\n",
      "epoch: 01, loss: -0.00550\n",
      "epoch: 02, loss: -0.00861\n",
      "epoch: 03, loss: -0.00958\n",
      "epoch: 04, loss: -0.00977\n",
      "epoch: 05, loss: -0.01039\n",
      "epoch: 06, loss: -0.01114\n",
      "epoch: 07, loss: -0.01200\n",
      "epoch: 08, loss: -0.01197\n",
      "epoch: 09, loss: -0.01223\n",
      "torch.Size([425, 32])\n"
     ]
    },
    {
     "name": "stderr",
     "output_type": "stream",
     "text": [
      " 38%|███▊      | 382/1000 [3:07:00<4:51:26, 28.30s/it]"
     ]
    },
    {
     "name": "stdout",
     "output_type": "stream",
     "text": [
      "eigenvalues shape torch.Size([5]) eigenvectors shape torch.Size([5, 425])\n",
      "382 /home/phdcs2/Hard_Disk/Datasets/Deep-Spectral-Segmentation/data/object-segmentation/ECSSD/features/dino_vits16/0383.pth\n",
      "dict_keys(['k', 'indices', 'file', 'id', 'model_name', 'patch_size', 'shape'])\n",
      "0383\n",
      "Starting Training\n",
      "epoch: 00, loss: 0.01054\n",
      "epoch: 01, loss: 0.00574\n",
      "epoch: 02, loss: 0.00354\n",
      "epoch: 03, loss: 0.00129\n",
      "epoch: 04, loss: 0.00009\n",
      "epoch: 05, loss: -0.00123\n",
      "epoch: 06, loss: -0.00145\n",
      "epoch: 07, loss: -0.00345\n",
      "epoch: 08, loss: -0.00206\n",
      "epoch: 09, loss: -0.00365\n",
      "torch.Size([350, 32])\n"
     ]
    },
    {
     "name": "stderr",
     "output_type": "stream",
     "text": [
      " 38%|███▊      | 383/1000 [3:07:28<4:47:41, 27.98s/it]"
     ]
    },
    {
     "name": "stdout",
     "output_type": "stream",
     "text": [
      "eigenvalues shape torch.Size([5]) eigenvectors shape torch.Size([5, 350])\n",
      "383 /home/phdcs2/Hard_Disk/Datasets/Deep-Spectral-Segmentation/data/object-segmentation/ECSSD/features/dino_vits16/0384.pth\n",
      "dict_keys(['k', 'indices', 'file', 'id', 'model_name', 'patch_size', 'shape'])\n",
      "0384\n",
      "Starting Training\n",
      "epoch: 00, loss: 0.00564\n",
      "epoch: 01, loss: 0.00279\n",
      "epoch: 02, loss: 0.00095\n",
      "epoch: 03, loss: 0.00002\n",
      "epoch: 04, loss: -0.00030\n",
      "epoch: 05, loss: -0.00104\n",
      "epoch: 06, loss: -0.00210\n",
      "epoch: 07, loss: -0.00155\n",
      "epoch: 08, loss: -0.00290\n",
      "epoch: 09, loss: -0.00237\n",
      "torch.Size([475, 32])\n"
     ]
    },
    {
     "name": "stderr",
     "output_type": "stream",
     "text": [
      " 38%|███▊      | 384/1000 [3:08:00<4:59:39, 29.19s/it]"
     ]
    },
    {
     "name": "stdout",
     "output_type": "stream",
     "text": [
      "eigenvalues shape torch.Size([5]) eigenvectors shape torch.Size([5, 475])\n",
      "384 /home/phdcs2/Hard_Disk/Datasets/Deep-Spectral-Segmentation/data/object-segmentation/ECSSD/features/dino_vits16/0385.pth\n",
      "dict_keys(['k', 'indices', 'file', 'id', 'model_name', 'patch_size', 'shape'])\n",
      "0385\n",
      "Starting Training\n",
      "epoch: 00, loss: -0.00211\n",
      "epoch: 01, loss: -0.00964\n",
      "epoch: 02, loss: -0.01309\n",
      "epoch: 03, loss: -0.00716\n",
      "epoch: 04, loss: -0.00720\n",
      "epoch: 05, loss: -0.00412\n",
      "epoch: 06, loss: -0.01293\n",
      "epoch: 07, loss: -0.02049\n",
      "epoch: 08, loss: -0.02792\n",
      "epoch: 09, loss: -0.02656\n",
      "torch.Size([600, 32])\n"
     ]
    },
    {
     "name": "stderr",
     "output_type": "stream",
     "text": [
      " 38%|███▊      | 385/1000 [3:08:44<5:46:12, 33.78s/it]"
     ]
    },
    {
     "name": "stdout",
     "output_type": "stream",
     "text": [
      "eigenvalues shape torch.Size([5]) eigenvectors shape torch.Size([5, 600])\n",
      "385 /home/phdcs2/Hard_Disk/Datasets/Deep-Spectral-Segmentation/data/object-segmentation/ECSSD/features/dino_vits16/0386.pth\n",
      "dict_keys(['k', 'indices', 'file', 'id', 'model_name', 'patch_size', 'shape'])\n",
      "0386\n",
      "Starting Training\n",
      "epoch: 00, loss: -0.00404\n",
      "epoch: 01, loss: -0.00763\n",
      "epoch: 02, loss: -0.00134\n",
      "epoch: 03, loss: -0.01959\n",
      "epoch: 04, loss: -0.00015\n",
      "epoch: 05, loss: -0.02303\n",
      "epoch: 06, loss: -0.01971\n",
      "epoch: 07, loss: -0.02523\n",
      "epoch: 08, loss: -0.02052\n",
      "epoch: 09, loss: -0.01446\n",
      "torch.Size([400, 32])\n"
     ]
    },
    {
     "name": "stderr",
     "output_type": "stream",
     "text": [
      " 39%|███▊      | 386/1000 [3:09:05<5:07:10, 30.02s/it]"
     ]
    },
    {
     "name": "stdout",
     "output_type": "stream",
     "text": [
      "eigenvalues shape torch.Size([5]) eigenvectors shape torch.Size([5, 400])\n",
      "386 /home/phdcs2/Hard_Disk/Datasets/Deep-Spectral-Segmentation/data/object-segmentation/ECSSD/features/dino_vits16/0387.pth\n",
      "dict_keys(['k', 'indices', 'file', 'id', 'model_name', 'patch_size', 'shape'])\n",
      "0387\n",
      "Starting Training\n",
      "epoch: 00, loss: -0.00706\n",
      "epoch: 01, loss: -0.00327\n",
      "epoch: 02, loss: 0.00131\n",
      "epoch: 03, loss: -0.02278\n",
      "epoch: 04, loss: 0.00327\n",
      "epoch: 05, loss: -0.00702\n",
      "epoch: 06, loss: -0.01819\n",
      "epoch: 07, loss: -0.01524\n",
      "epoch: 08, loss: -0.00247\n",
      "epoch: 09, loss: -0.02385\n",
      "torch.Size([450, 32])\n"
     ]
    },
    {
     "name": "stderr",
     "output_type": "stream",
     "text": [
      " 39%|███▊      | 387/1000 [3:09:34<5:02:31, 29.61s/it]"
     ]
    },
    {
     "name": "stdout",
     "output_type": "stream",
     "text": [
      "eigenvalues shape torch.Size([5]) eigenvectors shape torch.Size([5, 450])\n",
      "387 /home/phdcs2/Hard_Disk/Datasets/Deep-Spectral-Segmentation/data/object-segmentation/ECSSD/features/dino_vits16/0388.pth\n",
      "dict_keys(['k', 'indices', 'file', 'id', 'model_name', 'patch_size', 'shape'])\n",
      "0388\n",
      "Starting Training\n",
      "epoch: 00, loss: 0.00499\n",
      "epoch: 01, loss: 0.00207\n",
      "epoch: 02, loss: -0.00041\n",
      "epoch: 03, loss: -0.00174\n",
      "epoch: 04, loss: -0.00245\n",
      "epoch: 05, loss: -0.00323\n",
      "epoch: 06, loss: -0.00349\n",
      "epoch: 07, loss: -0.00404\n",
      "epoch: 08, loss: -0.00436\n",
      "epoch: 09, loss: -0.00456\n",
      "torch.Size([500, 32])\n"
     ]
    },
    {
     "name": "stderr",
     "output_type": "stream",
     "text": [
      " 39%|███▉      | 388/1000 [3:10:08<5:16:35, 31.04s/it]"
     ]
    },
    {
     "name": "stdout",
     "output_type": "stream",
     "text": [
      "eigenvalues shape torch.Size([5]) eigenvectors shape torch.Size([5, 500])\n",
      "388 /home/phdcs2/Hard_Disk/Datasets/Deep-Spectral-Segmentation/data/object-segmentation/ECSSD/features/dino_vits16/0389.pth\n",
      "dict_keys(['k', 'indices', 'file', 'id', 'model_name', 'patch_size', 'shape'])\n",
      "0389\n",
      "Starting Training\n",
      "epoch: 00, loss: -0.00095\n",
      "epoch: 01, loss: -0.00550\n",
      "epoch: 02, loss: -0.01604\n",
      "epoch: 03, loss: -0.00415\n",
      "epoch: 04, loss: -0.01204\n",
      "epoch: 05, loss: -0.02512\n",
      "epoch: 06, loss: -0.01403\n",
      "epoch: 07, loss: -0.01890\n",
      "epoch: 08, loss: -0.01444\n",
      "epoch: 09, loss: -0.02775\n",
      "torch.Size([450, 32])\n"
     ]
    },
    {
     "name": "stderr",
     "output_type": "stream",
     "text": [
      " 39%|███▉      | 389/1000 [3:10:38<5:10:32, 30.49s/it]"
     ]
    },
    {
     "name": "stdout",
     "output_type": "stream",
     "text": [
      "eigenvalues shape torch.Size([5]) eigenvectors shape torch.Size([5, 450])\n",
      "389 /home/phdcs2/Hard_Disk/Datasets/Deep-Spectral-Segmentation/data/object-segmentation/ECSSD/features/dino_vits16/0390.pth\n",
      "dict_keys(['k', 'indices', 'file', 'id', 'model_name', 'patch_size', 'shape'])\n",
      "0390\n",
      "Starting Training\n",
      "epoch: 00, loss: 0.00316\n",
      "epoch: 01, loss: -0.00945\n",
      "epoch: 02, loss: -0.01456\n",
      "epoch: 03, loss: -0.01686\n",
      "epoch: 04, loss: -0.01776\n",
      "epoch: 05, loss: -0.01837\n",
      "epoch: 06, loss: -0.01893\n",
      "epoch: 07, loss: -0.01906\n",
      "epoch: 08, loss: -0.01913\n",
      "epoch: 09, loss: -0.01947\n",
      "torch.Size([450, 32])\n"
     ]
    },
    {
     "name": "stderr",
     "output_type": "stream",
     "text": [
      " 39%|███▉      | 390/1000 [3:11:05<5:00:29, 29.56s/it]"
     ]
    },
    {
     "name": "stdout",
     "output_type": "stream",
     "text": [
      "eigenvalues shape torch.Size([5]) eigenvectors shape torch.Size([5, 450])\n",
      "390 /home/phdcs2/Hard_Disk/Datasets/Deep-Spectral-Segmentation/data/object-segmentation/ECSSD/features/dino_vits16/0391.pth\n",
      "dict_keys(['k', 'indices', 'file', 'id', 'model_name', 'patch_size', 'shape'])\n",
      "0391\n",
      "Starting Training\n",
      "epoch: 00, loss: -0.00044\n",
      "epoch: 01, loss: -0.00558\n",
      "epoch: 02, loss: -0.03578\n",
      "epoch: 03, loss: -0.04779\n",
      "epoch: 04, loss: -0.06018\n",
      "epoch: 05, loss: -0.07202\n",
      "epoch: 06, loss: -0.10084\n",
      "epoch: 07, loss: -0.10217\n",
      "epoch: 08, loss: -0.11634\n",
      "epoch: 09, loss: -0.11582\n",
      "torch.Size([400, 32])\n"
     ]
    },
    {
     "name": "stderr",
     "output_type": "stream",
     "text": [
      " 39%|███▉      | 391/1000 [3:11:29<4:43:35, 27.94s/it]"
     ]
    },
    {
     "name": "stdout",
     "output_type": "stream",
     "text": [
      "eigenvalues shape torch.Size([5]) eigenvectors shape torch.Size([5, 400])\n",
      "391 /home/phdcs2/Hard_Disk/Datasets/Deep-Spectral-Segmentation/data/object-segmentation/ECSSD/features/dino_vits16/0392.pth\n",
      "dict_keys(['k', 'indices', 'file', 'id', 'model_name', 'patch_size', 'shape'])\n",
      "0392\n",
      "Starting Training\n",
      "epoch: 00, loss: 0.01049\n",
      "epoch: 01, loss: 0.00481\n",
      "epoch: 02, loss: 0.00244\n",
      "epoch: 03, loss: 0.00014\n",
      "epoch: 04, loss: -0.00132\n",
      "epoch: 05, loss: -0.00291\n",
      "epoch: 06, loss: -0.00211\n",
      "epoch: 07, loss: -0.00295\n",
      "epoch: 08, loss: -0.00502\n",
      "epoch: 09, loss: -0.00581\n",
      "torch.Size([400, 32])\n"
     ]
    },
    {
     "name": "stderr",
     "output_type": "stream",
     "text": [
      " 39%|███▉      | 392/1000 [3:11:53<4:29:46, 26.62s/it]"
     ]
    },
    {
     "name": "stdout",
     "output_type": "stream",
     "text": [
      "eigenvalues shape torch.Size([5]) eigenvectors shape torch.Size([5, 400])\n",
      "392 /home/phdcs2/Hard_Disk/Datasets/Deep-Spectral-Segmentation/data/object-segmentation/ECSSD/features/dino_vits16/0393.pth\n",
      "dict_keys(['k', 'indices', 'file', 'id', 'model_name', 'patch_size', 'shape'])\n",
      "0393\n",
      "Starting Training\n",
      "epoch: 00, loss: 0.00688\n",
      "epoch: 01, loss: -0.00210\n",
      "epoch: 02, loss: -0.00565\n",
      "epoch: 03, loss: -0.00726\n",
      "epoch: 04, loss: -0.00850\n",
      "epoch: 05, loss: -0.00938\n",
      "epoch: 06, loss: -0.00986\n",
      "epoch: 07, loss: -0.01016\n",
      "epoch: 08, loss: -0.01046\n",
      "epoch: 09, loss: -0.01077\n",
      "torch.Size([400, 32])\n"
     ]
    },
    {
     "name": "stderr",
     "output_type": "stream",
     "text": [
      " 39%|███▉      | 393/1000 [3:12:25<4:45:25, 28.21s/it]"
     ]
    },
    {
     "name": "stdout",
     "output_type": "stream",
     "text": [
      "eigenvalues shape torch.Size([5]) eigenvectors shape torch.Size([5, 400])\n",
      "393 /home/phdcs2/Hard_Disk/Datasets/Deep-Spectral-Segmentation/data/object-segmentation/ECSSD/features/dino_vits16/0394.pth\n",
      "dict_keys(['k', 'indices', 'file', 'id', 'model_name', 'patch_size', 'shape'])\n",
      "0394\n",
      "Starting Training\n",
      "epoch: 00, loss: 0.00502\n",
      "epoch: 01, loss: 0.00074\n",
      "epoch: 02, loss: -0.00128\n",
      "epoch: 03, loss: -0.00291\n",
      "epoch: 04, loss: -0.00401\n",
      "epoch: 05, loss: -0.00494\n",
      "epoch: 06, loss: -0.00563\n",
      "epoch: 07, loss: -0.00637\n",
      "epoch: 08, loss: -0.00653\n",
      "epoch: 09, loss: -0.00695\n",
      "torch.Size([400, 32])\n"
     ]
    },
    {
     "name": "stderr",
     "output_type": "stream",
     "text": [
      " 39%|███▉      | 394/1000 [3:12:46<4:25:32, 26.29s/it]"
     ]
    },
    {
     "name": "stdout",
     "output_type": "stream",
     "text": [
      "eigenvalues shape torch.Size([5]) eigenvectors shape torch.Size([5, 400])\n",
      "394 /home/phdcs2/Hard_Disk/Datasets/Deep-Spectral-Segmentation/data/object-segmentation/ECSSD/features/dino_vits16/0395.pth\n",
      "dict_keys(['k', 'indices', 'file', 'id', 'model_name', 'patch_size', 'shape'])\n",
      "0395\n",
      "Starting Training\n",
      "epoch: 00, loss: -0.01049\n",
      "epoch: 01, loss: -0.00985\n",
      "epoch: 02, loss: -0.00432\n",
      "epoch: 03, loss: -0.00217\n",
      "epoch: 04, loss: -0.00126\n",
      "epoch: 05, loss: -0.00697\n",
      "epoch: 06, loss: -0.01593\n",
      "epoch: 07, loss: 0.00264\n",
      "epoch: 08, loss: -0.01300\n",
      "epoch: 09, loss: -0.01726\n",
      "torch.Size([400, 32])\n"
     ]
    },
    {
     "name": "stderr",
     "output_type": "stream",
     "text": [
      " 40%|███▉      | 395/1000 [3:13:19<4:45:03, 28.27s/it]"
     ]
    },
    {
     "name": "stdout",
     "output_type": "stream",
     "text": [
      "eigenvalues shape torch.Size([5]) eigenvectors shape torch.Size([5, 400])\n",
      "395 /home/phdcs2/Hard_Disk/Datasets/Deep-Spectral-Segmentation/data/object-segmentation/ECSSD/features/dino_vits16/0396.pth\n",
      "dict_keys(['k', 'indices', 'file', 'id', 'model_name', 'patch_size', 'shape'])\n",
      "0396\n",
      "Starting Training\n",
      "epoch: 00, loss: 0.00770\n",
      "epoch: 01, loss: 0.00184\n",
      "epoch: 02, loss: 0.00219\n",
      "epoch: 03, loss: 0.00294\n",
      "epoch: 04, loss: 0.00071\n",
      "epoch: 05, loss: -0.00269\n",
      "epoch: 06, loss: -0.00178\n",
      "epoch: 07, loss: -0.00155\n",
      "epoch: 08, loss: -0.00235\n",
      "epoch: 09, loss: -0.00107\n",
      "torch.Size([450, 32])\n"
     ]
    },
    {
     "name": "stderr",
     "output_type": "stream",
     "text": [
      " 40%|███▉      | 396/1000 [3:13:48<4:44:45, 28.29s/it]"
     ]
    },
    {
     "name": "stdout",
     "output_type": "stream",
     "text": [
      "eigenvalues shape torch.Size([5]) eigenvectors shape torch.Size([5, 450])\n",
      "396 /home/phdcs2/Hard_Disk/Datasets/Deep-Spectral-Segmentation/data/object-segmentation/ECSSD/features/dino_vits16/0397.pth\n",
      "dict_keys(['k', 'indices', 'file', 'id', 'model_name', 'patch_size', 'shape'])\n",
      "0397\n",
      "Starting Training\n",
      "epoch: 00, loss: 0.00627\n",
      "epoch: 01, loss: 0.00158\n",
      "epoch: 02, loss: -0.00075\n",
      "epoch: 03, loss: -0.00191\n",
      "epoch: 04, loss: -0.00331\n",
      "epoch: 05, loss: -0.00396\n",
      "epoch: 06, loss: -0.00460\n",
      "epoch: 07, loss: -0.00512\n",
      "epoch: 08, loss: -0.00549\n",
      "epoch: 09, loss: -0.00583\n",
      "torch.Size([400, 32])\n"
     ]
    },
    {
     "name": "stderr",
     "output_type": "stream",
     "text": [
      " 40%|███▉      | 397/1000 [3:14:11<4:29:48, 26.85s/it]"
     ]
    },
    {
     "name": "stdout",
     "output_type": "stream",
     "text": [
      "eigenvalues shape torch.Size([5]) eigenvectors shape torch.Size([5, 400])\n",
      "397 /home/phdcs2/Hard_Disk/Datasets/Deep-Spectral-Segmentation/data/object-segmentation/ECSSD/features/dino_vits16/0398.pth\n",
      "dict_keys(['k', 'indices', 'file', 'id', 'model_name', 'patch_size', 'shape'])\n",
      "0398\n",
      "Starting Training\n",
      "epoch: 00, loss: 0.00246\n",
      "epoch: 01, loss: 0.00141\n",
      "epoch: 02, loss: 0.00205\n",
      "epoch: 03, loss: 0.00125\n",
      "epoch: 04, loss: -0.01827\n",
      "epoch: 05, loss: -0.01583\n",
      "epoch: 06, loss: -0.00278\n",
      "epoch: 07, loss: 0.00260\n",
      "epoch: 08, loss: -0.00307\n",
      "epoch: 09, loss: -0.01550\n",
      "torch.Size([400, 32])\n"
     ]
    },
    {
     "name": "stderr",
     "output_type": "stream",
     "text": [
      " 40%|███▉      | 398/1000 [3:14:43<4:43:45, 28.28s/it]"
     ]
    },
    {
     "name": "stdout",
     "output_type": "stream",
     "text": [
      "eigenvalues shape torch.Size([5]) eigenvectors shape torch.Size([5, 400])\n",
      "398 /home/phdcs2/Hard_Disk/Datasets/Deep-Spectral-Segmentation/data/object-segmentation/ECSSD/features/dino_vits16/0399.pth\n",
      "dict_keys(['k', 'indices', 'file', 'id', 'model_name', 'patch_size', 'shape'])\n",
      "0399\n",
      "Starting Training\n",
      "epoch: 00, loss: 0.00631\n",
      "epoch: 01, loss: -0.00422\n",
      "epoch: 02, loss: -0.00797\n",
      "epoch: 03, loss: 0.00638\n",
      "epoch: 04, loss: -0.00342\n",
      "epoch: 05, loss: -0.00433\n",
      "epoch: 06, loss: -0.01101\n",
      "epoch: 07, loss: -0.00043\n",
      "epoch: 08, loss: -0.01022\n",
      "epoch: 09, loss: -0.00191\n",
      "torch.Size([400, 32])\n"
     ]
    },
    {
     "name": "stderr",
     "output_type": "stream",
     "text": [
      " 40%|███▉      | 399/1000 [3:15:07<4:31:09, 27.07s/it]"
     ]
    },
    {
     "name": "stdout",
     "output_type": "stream",
     "text": [
      "eigenvalues shape torch.Size([5]) eigenvectors shape torch.Size([5, 400])\n",
      "399 /home/phdcs2/Hard_Disk/Datasets/Deep-Spectral-Segmentation/data/object-segmentation/ECSSD/features/dino_vits16/0400.pth\n",
      "dict_keys(['k', 'indices', 'file', 'id', 'model_name', 'patch_size', 'shape'])\n",
      "0400\n",
      "Starting Training\n",
      "epoch: 00, loss: 0.00432\n",
      "epoch: 01, loss: -0.00454\n",
      "epoch: 02, loss: 0.00319\n",
      "epoch: 03, loss: -0.00492\n",
      "epoch: 04, loss: -0.00683\n",
      "epoch: 05, loss: -0.01230\n",
      "epoch: 06, loss: -0.00690\n",
      "epoch: 07, loss: -0.01172\n",
      "epoch: 08, loss: -0.00562\n",
      "epoch: 09, loss: 0.00014\n",
      "torch.Size([400, 32])\n"
     ]
    },
    {
     "name": "stderr",
     "output_type": "stream",
     "text": [
      " 40%|████      | 400/1000 [3:15:29<4:16:46, 25.68s/it]"
     ]
    },
    {
     "name": "stdout",
     "output_type": "stream",
     "text": [
      "eigenvalues shape torch.Size([5]) eigenvectors shape torch.Size([5, 400])\n",
      "400 /home/phdcs2/Hard_Disk/Datasets/Deep-Spectral-Segmentation/data/object-segmentation/ECSSD/features/dino_vits16/0401.pth\n",
      "dict_keys(['k', 'indices', 'file', 'id', 'model_name', 'patch_size', 'shape'])\n",
      "0401\n",
      "Starting Training\n",
      "epoch: 00, loss: 0.00619\n",
      "epoch: 01, loss: -0.01001\n",
      "epoch: 02, loss: 0.00514\n",
      "epoch: 03, loss: 0.01069\n",
      "epoch: 04, loss: -0.00139\n",
      "epoch: 05, loss: -0.00366\n",
      "epoch: 06, loss: -0.00491\n",
      "epoch: 07, loss: 0.00428\n",
      "epoch: 08, loss: 0.00084\n",
      "epoch: 09, loss: -0.02499\n",
      "torch.Size([400, 32])\n"
     ]
    },
    {
     "name": "stderr",
     "output_type": "stream",
     "text": [
      " 40%|████      | 401/1000 [3:15:53<4:09:04, 24.95s/it]"
     ]
    },
    {
     "name": "stdout",
     "output_type": "stream",
     "text": [
      "eigenvalues shape torch.Size([5]) eigenvectors shape torch.Size([5, 400])\n",
      "401 /home/phdcs2/Hard_Disk/Datasets/Deep-Spectral-Segmentation/data/object-segmentation/ECSSD/features/dino_vits16/0402.pth\n",
      "dict_keys(['k', 'indices', 'file', 'id', 'model_name', 'patch_size', 'shape'])\n",
      "0402\n",
      "Starting Training\n",
      "epoch: 00, loss: -0.00181\n",
      "epoch: 01, loss: 0.00290\n",
      "epoch: 02, loss: -0.01615\n",
      "epoch: 03, loss: -0.01451\n",
      "epoch: 04, loss: -0.01430\n",
      "epoch: 05, loss: -0.01086\n",
      "epoch: 06, loss: -0.02236\n",
      "epoch: 07, loss: -0.00374\n",
      "epoch: 08, loss: -0.00598\n",
      "epoch: 09, loss: -0.01914\n",
      "torch.Size([400, 32])\n"
     ]
    },
    {
     "name": "stderr",
     "output_type": "stream",
     "text": [
      " 40%|████      | 402/1000 [3:16:18<4:10:23, 25.12s/it]"
     ]
    },
    {
     "name": "stdout",
     "output_type": "stream",
     "text": [
      "eigenvalues shape torch.Size([5]) eigenvectors shape torch.Size([5, 400])\n",
      "402 /home/phdcs2/Hard_Disk/Datasets/Deep-Spectral-Segmentation/data/object-segmentation/ECSSD/features/dino_vits16/0403.pth\n",
      "dict_keys(['k', 'indices', 'file', 'id', 'model_name', 'patch_size', 'shape'])\n",
      "0403\n",
      "Starting Training\n",
      "epoch: 00, loss: -0.00440\n",
      "epoch: 01, loss: -0.00702\n",
      "epoch: 02, loss: -0.00203\n",
      "epoch: 03, loss: -0.00455\n",
      "epoch: 04, loss: 0.00019\n",
      "epoch: 05, loss: -0.00261\n",
      "epoch: 06, loss: 0.00019\n",
      "epoch: 07, loss: -0.01891\n",
      "epoch: 08, loss: -0.00090\n",
      "epoch: 09, loss: -0.01791\n",
      "torch.Size([400, 32])\n"
     ]
    },
    {
     "name": "stderr",
     "output_type": "stream",
     "text": [
      " 40%|████      | 403/1000 [3:16:40<4:00:26, 24.17s/it]"
     ]
    },
    {
     "name": "stdout",
     "output_type": "stream",
     "text": [
      "eigenvalues shape torch.Size([5]) eigenvectors shape torch.Size([5, 400])\n",
      "403 /home/phdcs2/Hard_Disk/Datasets/Deep-Spectral-Segmentation/data/object-segmentation/ECSSD/features/dino_vits16/0404.pth\n",
      "dict_keys(['k', 'indices', 'file', 'id', 'model_name', 'patch_size', 'shape'])\n",
      "0404\n",
      "Starting Training\n",
      "epoch: 00, loss: 0.00857\n",
      "epoch: 01, loss: 0.00144\n",
      "epoch: 02, loss: -0.00498\n",
      "epoch: 03, loss: -0.01311\n",
      "epoch: 04, loss: -0.01310\n",
      "epoch: 05, loss: 0.00983\n",
      "epoch: 06, loss: 0.00684\n",
      "epoch: 07, loss: 0.01337\n",
      "epoch: 08, loss: -0.00358\n",
      "epoch: 09, loss: -0.00464\n",
      "torch.Size([400, 32])\n"
     ]
    },
    {
     "name": "stderr",
     "output_type": "stream",
     "text": [
      " 40%|████      | 404/1000 [3:17:04<4:00:40, 24.23s/it]"
     ]
    },
    {
     "name": "stdout",
     "output_type": "stream",
     "text": [
      "eigenvalues shape torch.Size([5]) eigenvectors shape torch.Size([5, 400])\n",
      "404 /home/phdcs2/Hard_Disk/Datasets/Deep-Spectral-Segmentation/data/object-segmentation/ECSSD/features/dino_vits16/0405.pth\n",
      "dict_keys(['k', 'indices', 'file', 'id', 'model_name', 'patch_size', 'shape'])\n",
      "0405\n",
      "Starting Training\n",
      "epoch: 00, loss: 0.01163\n",
      "epoch: 01, loss: 0.00251\n",
      "epoch: 02, loss: 0.00779\n",
      "epoch: 03, loss: -0.00050\n",
      "epoch: 04, loss: -0.00521\n",
      "epoch: 05, loss: -0.03113\n",
      "epoch: 06, loss: -0.00515\n",
      "epoch: 07, loss: -0.00810\n",
      "epoch: 08, loss: 0.00360\n",
      "epoch: 09, loss: -0.00045\n",
      "torch.Size([400, 32])\n"
     ]
    },
    {
     "name": "stderr",
     "output_type": "stream",
     "text": [
      " 40%|████      | 405/1000 [3:17:36<4:23:23, 26.56s/it]"
     ]
    },
    {
     "name": "stdout",
     "output_type": "stream",
     "text": [
      "eigenvalues shape torch.Size([5]) eigenvectors shape torch.Size([5, 400])\n",
      "405 /home/phdcs2/Hard_Disk/Datasets/Deep-Spectral-Segmentation/data/object-segmentation/ECSSD/features/dino_vits16/0406.pth\n",
      "dict_keys(['k', 'indices', 'file', 'id', 'model_name', 'patch_size', 'shape'])\n",
      "0406\n",
      "Starting Training\n",
      "epoch: 00, loss: 0.00400\n",
      "epoch: 01, loss: -0.00049\n",
      "epoch: 02, loss: -0.00343\n",
      "epoch: 03, loss: -0.00482\n",
      "epoch: 04, loss: -0.00632\n",
      "epoch: 05, loss: -0.00739\n",
      "epoch: 06, loss: -0.00775\n",
      "epoch: 07, loss: -0.00818\n",
      "epoch: 08, loss: -0.00852\n",
      "epoch: 09, loss: -0.00887\n",
      "torch.Size([400, 32])\n"
     ]
    },
    {
     "name": "stderr",
     "output_type": "stream",
     "text": [
      " 41%|████      | 406/1000 [3:18:07<4:35:36, 27.84s/it]"
     ]
    },
    {
     "name": "stdout",
     "output_type": "stream",
     "text": [
      "eigenvalues shape torch.Size([5]) eigenvectors shape torch.Size([5, 400])\n",
      "406 /home/phdcs2/Hard_Disk/Datasets/Deep-Spectral-Segmentation/data/object-segmentation/ECSSD/features/dino_vits16/0407.pth\n",
      "dict_keys(['k', 'indices', 'file', 'id', 'model_name', 'patch_size', 'shape'])\n",
      "0407\n",
      "Starting Training\n",
      "epoch: 00, loss: -0.01597\n",
      "epoch: 01, loss: 0.00841\n",
      "epoch: 02, loss: -0.01613\n",
      "epoch: 03, loss: -0.00199\n",
      "epoch: 04, loss: -0.00914\n",
      "epoch: 05, loss: -0.00019\n",
      "epoch: 06, loss: -0.02210\n",
      "epoch: 07, loss: 0.00573\n",
      "epoch: 08, loss: -0.01894\n",
      "epoch: 09, loss: -0.01050\n",
      "torch.Size([400, 32])\n"
     ]
    },
    {
     "name": "stderr",
     "output_type": "stream",
     "text": [
      " 41%|████      | 407/1000 [3:18:31<4:24:02, 26.72s/it]"
     ]
    },
    {
     "name": "stdout",
     "output_type": "stream",
     "text": [
      "eigenvalues shape torch.Size([5]) eigenvectors shape torch.Size([5, 400])\n",
      "407 /home/phdcs2/Hard_Disk/Datasets/Deep-Spectral-Segmentation/data/object-segmentation/ECSSD/features/dino_vits16/0408.pth\n",
      "dict_keys(['k', 'indices', 'file', 'id', 'model_name', 'patch_size', 'shape'])\n",
      "0408\n",
      "Starting Training\n",
      "epoch: 00, loss: 0.01287\n",
      "epoch: 01, loss: 0.00671\n",
      "epoch: 02, loss: 0.00414\n",
      "epoch: 03, loss: 0.00292\n",
      "epoch: 04, loss: 0.00189\n",
      "epoch: 05, loss: 0.00117\n",
      "epoch: 06, loss: 0.00063\n",
      "epoch: 07, loss: 0.00005\n",
      "epoch: 08, loss: -0.00051\n",
      "epoch: 09, loss: -0.00095\n",
      "torch.Size([400, 32])\n"
     ]
    },
    {
     "name": "stderr",
     "output_type": "stream",
     "text": [
      " 41%|████      | 408/1000 [3:18:55<4:15:08, 25.86s/it]"
     ]
    },
    {
     "name": "stdout",
     "output_type": "stream",
     "text": [
      "eigenvalues shape torch.Size([5]) eigenvectors shape torch.Size([5, 400])\n",
      "408 /home/phdcs2/Hard_Disk/Datasets/Deep-Spectral-Segmentation/data/object-segmentation/ECSSD/features/dino_vits16/0409.pth\n",
      "dict_keys(['k', 'indices', 'file', 'id', 'model_name', 'patch_size', 'shape'])\n",
      "0409\n",
      "Starting Training\n",
      "epoch: 00, loss: 0.00899\n",
      "epoch: 01, loss: 0.00387\n",
      "epoch: 02, loss: 0.00276\n",
      "epoch: 03, loss: 0.00207\n",
      "epoch: 04, loss: 0.00172\n",
      "epoch: 05, loss: -0.00010\n",
      "epoch: 06, loss: -0.00009\n",
      "epoch: 07, loss: -0.00245\n",
      "epoch: 08, loss: -0.00166\n",
      "epoch: 09, loss: -0.00338\n",
      "torch.Size([450, 32])\n"
     ]
    },
    {
     "name": "stderr",
     "output_type": "stream",
     "text": [
      " 41%|████      | 409/1000 [3:19:35<4:55:22, 29.99s/it]"
     ]
    },
    {
     "name": "stdout",
     "output_type": "stream",
     "text": [
      "eigenvalues shape torch.Size([5]) eigenvectors shape torch.Size([5, 450])\n",
      "409 /home/phdcs2/Hard_Disk/Datasets/Deep-Spectral-Segmentation/data/object-segmentation/ECSSD/features/dino_vits16/0410.pth\n",
      "dict_keys(['k', 'indices', 'file', 'id', 'model_name', 'patch_size', 'shape'])\n",
      "0410\n",
      "Starting Training\n",
      "epoch: 00, loss: 0.00974\n",
      "epoch: 01, loss: 0.00278\n",
      "epoch: 02, loss: 0.00696\n",
      "epoch: 03, loss: 0.00699\n",
      "epoch: 04, loss: -0.00687\n",
      "epoch: 05, loss: 0.01441\n",
      "epoch: 06, loss: -0.00198\n",
      "epoch: 07, loss: -0.00358\n",
      "epoch: 08, loss: -0.00506\n",
      "epoch: 09, loss: -0.00129\n",
      "torch.Size([325, 32])\n"
     ]
    },
    {
     "name": "stderr",
     "output_type": "stream",
     "text": [
      " 41%|████      | 410/1000 [3:20:00<4:40:30, 28.53s/it]"
     ]
    },
    {
     "name": "stdout",
     "output_type": "stream",
     "text": [
      "eigenvalues shape torch.Size([5]) eigenvectors shape torch.Size([5, 325])\n",
      "410 /home/phdcs2/Hard_Disk/Datasets/Deep-Spectral-Segmentation/data/object-segmentation/ECSSD/features/dino_vits16/0411.pth\n",
      "dict_keys(['k', 'indices', 'file', 'id', 'model_name', 'patch_size', 'shape'])\n",
      "0411\n",
      "Starting Training\n",
      "epoch: 00, loss: 0.00546\n",
      "epoch: 01, loss: 0.00323\n",
      "epoch: 02, loss: 0.00063\n",
      "epoch: 03, loss: -0.00120\n",
      "epoch: 04, loss: 0.00023\n",
      "epoch: 05, loss: -0.00247\n",
      "epoch: 06, loss: -0.00392\n",
      "epoch: 07, loss: -0.00350\n",
      "epoch: 08, loss: -0.00415\n",
      "epoch: 09, loss: -0.00476\n",
      "torch.Size([450, 32])\n"
     ]
    },
    {
     "name": "stderr",
     "output_type": "stream",
     "text": [
      " 41%|████      | 411/1000 [3:20:38<5:09:15, 31.50s/it]"
     ]
    },
    {
     "name": "stdout",
     "output_type": "stream",
     "text": [
      "eigenvalues shape torch.Size([5]) eigenvectors shape torch.Size([5, 450])\n",
      "411 /home/phdcs2/Hard_Disk/Datasets/Deep-Spectral-Segmentation/data/object-segmentation/ECSSD/features/dino_vits16/0412.pth\n",
      "dict_keys(['k', 'indices', 'file', 'id', 'model_name', 'patch_size', 'shape'])\n",
      "0412\n",
      "Starting Training\n",
      "epoch: 00, loss: 0.00473\n",
      "epoch: 01, loss: -0.00099\n",
      "epoch: 02, loss: -0.00301\n",
      "epoch: 03, loss: -0.00436\n",
      "epoch: 04, loss: -0.00530\n",
      "epoch: 05, loss: -0.00606\n",
      "epoch: 06, loss: -0.00643\n",
      "epoch: 07, loss: -0.00694\n",
      "epoch: 08, loss: -0.00701\n",
      "epoch: 09, loss: -0.00725\n",
      "torch.Size([450, 32])\n"
     ]
    },
    {
     "name": "stderr",
     "output_type": "stream",
     "text": [
      " 41%|████      | 412/1000 [3:21:05<4:55:48, 30.18s/it]"
     ]
    },
    {
     "name": "stdout",
     "output_type": "stream",
     "text": [
      "eigenvalues shape torch.Size([5]) eigenvectors shape torch.Size([5, 450])\n",
      "412 /home/phdcs2/Hard_Disk/Datasets/Deep-Spectral-Segmentation/data/object-segmentation/ECSSD/features/dino_vits16/0413.pth\n",
      "dict_keys(['k', 'indices', 'file', 'id', 'model_name', 'patch_size', 'shape'])\n",
      "0413\n",
      "Starting Training\n",
      "epoch: 00, loss: -0.00121\n",
      "epoch: 01, loss: -0.00216\n",
      "epoch: 02, loss: -0.00471\n",
      "epoch: 03, loss: 0.00221\n",
      "epoch: 04, loss: 0.00042\n",
      "epoch: 05, loss: -0.00311\n",
      "epoch: 06, loss: -0.00154\n",
      "epoch: 07, loss: -0.01123\n",
      "epoch: 08, loss: 0.00128\n",
      "epoch: 09, loss: -0.00105\n",
      "torch.Size([450, 32])\n"
     ]
    },
    {
     "name": "stderr",
     "output_type": "stream",
     "text": [
      " 41%|████▏     | 413/1000 [3:21:35<4:52:54, 29.94s/it]"
     ]
    },
    {
     "name": "stdout",
     "output_type": "stream",
     "text": [
      "eigenvalues shape torch.Size([5]) eigenvectors shape torch.Size([5, 450])\n",
      "413 /home/phdcs2/Hard_Disk/Datasets/Deep-Spectral-Segmentation/data/object-segmentation/ECSSD/features/dino_vits16/0414.pth\n",
      "dict_keys(['k', 'indices', 'file', 'id', 'model_name', 'patch_size', 'shape'])\n",
      "0414\n",
      "Starting Training\n",
      "epoch: 00, loss: 0.00445\n",
      "epoch: 01, loss: -0.00366\n",
      "epoch: 02, loss: -0.00732\n",
      "epoch: 03, loss: -0.00977\n",
      "epoch: 04, loss: -0.01056\n",
      "epoch: 05, loss: -0.00969\n",
      "epoch: 06, loss: -0.01077\n",
      "epoch: 07, loss: -0.01208\n",
      "epoch: 08, loss: -0.01120\n",
      "epoch: 09, loss: -0.01171\n",
      "torch.Size([450, 32])\n"
     ]
    },
    {
     "name": "stderr",
     "output_type": "stream",
     "text": [
      " 41%|████▏     | 414/1000 [3:22:04<4:48:59, 29.59s/it]"
     ]
    },
    {
     "name": "stdout",
     "output_type": "stream",
     "text": [
      "eigenvalues shape torch.Size([5]) eigenvectors shape torch.Size([5, 450])\n",
      "414 /home/phdcs2/Hard_Disk/Datasets/Deep-Spectral-Segmentation/data/object-segmentation/ECSSD/features/dino_vits16/0415.pth\n",
      "dict_keys(['k', 'indices', 'file', 'id', 'model_name', 'patch_size', 'shape'])\n",
      "0415\n",
      "Starting Training\n",
      "epoch: 00, loss: 0.00001\n",
      "epoch: 01, loss: 0.00207\n",
      "epoch: 02, loss: -0.00783\n",
      "epoch: 03, loss: -0.00534\n",
      "epoch: 04, loss: -0.00215\n",
      "epoch: 05, loss: -0.02054\n",
      "epoch: 06, loss: -0.00091\n",
      "epoch: 07, loss: 0.02067\n",
      "epoch: 08, loss: -0.01057\n",
      "epoch: 09, loss: -0.00965\n",
      "torch.Size([450, 32])\n"
     ]
    },
    {
     "name": "stderr",
     "output_type": "stream",
     "text": [
      " 42%|████▏     | 415/1000 [3:22:38<5:03:38, 31.14s/it]"
     ]
    },
    {
     "name": "stdout",
     "output_type": "stream",
     "text": [
      "eigenvalues shape torch.Size([5]) eigenvectors shape torch.Size([5, 450])\n",
      "415 /home/phdcs2/Hard_Disk/Datasets/Deep-Spectral-Segmentation/data/object-segmentation/ECSSD/features/dino_vits16/0416.pth\n",
      "dict_keys(['k', 'indices', 'file', 'id', 'model_name', 'patch_size', 'shape'])\n",
      "0416\n",
      "Starting Training\n",
      "epoch: 00, loss: 0.00518\n",
      "epoch: 01, loss: -0.00087\n",
      "epoch: 02, loss: -0.00297\n",
      "epoch: 03, loss: -0.00463\n",
      "epoch: 04, loss: -0.00546\n",
      "epoch: 05, loss: -0.00623\n",
      "epoch: 06, loss: -0.00681\n",
      "epoch: 07, loss: -0.00722\n",
      "epoch: 08, loss: -0.00740\n",
      "epoch: 09, loss: -0.00782\n",
      "torch.Size([450, 32])\n"
     ]
    },
    {
     "name": "stderr",
     "output_type": "stream",
     "text": [
      " 42%|████▏     | 416/1000 [3:23:07<4:56:05, 30.42s/it]"
     ]
    },
    {
     "name": "stdout",
     "output_type": "stream",
     "text": [
      "eigenvalues shape torch.Size([5]) eigenvectors shape torch.Size([5, 450])\n",
      "416 /home/phdcs2/Hard_Disk/Datasets/Deep-Spectral-Segmentation/data/object-segmentation/ECSSD/features/dino_vits16/0417.pth\n",
      "dict_keys(['k', 'indices', 'file', 'id', 'model_name', 'patch_size', 'shape'])\n",
      "0417\n",
      "Starting Training\n",
      "epoch: 00, loss: 0.00545\n",
      "epoch: 01, loss: 0.00122\n",
      "epoch: 02, loss: 0.00021\n",
      "epoch: 03, loss: -0.00145\n",
      "epoch: 04, loss: -0.00160\n",
      "epoch: 05, loss: -0.00359\n",
      "epoch: 06, loss: -0.00291\n",
      "epoch: 07, loss: -0.00318\n",
      "epoch: 08, loss: -0.00481\n",
      "epoch: 09, loss: -0.00432\n",
      "torch.Size([450, 32])\n"
     ]
    },
    {
     "name": "stderr",
     "output_type": "stream",
     "text": [
      " 42%|████▏     | 417/1000 [3:23:36<4:51:27, 30.00s/it]"
     ]
    },
    {
     "name": "stdout",
     "output_type": "stream",
     "text": [
      "eigenvalues shape torch.Size([5]) eigenvectors shape torch.Size([5, 450])\n",
      "417 /home/phdcs2/Hard_Disk/Datasets/Deep-Spectral-Segmentation/data/object-segmentation/ECSSD/features/dino_vits16/0418.pth\n",
      "dict_keys(['k', 'indices', 'file', 'id', 'model_name', 'patch_size', 'shape'])\n",
      "0418\n",
      "Starting Training\n",
      "epoch: 00, loss: -0.00027\n",
      "epoch: 01, loss: -0.00323\n",
      "epoch: 02, loss: 0.00598\n",
      "epoch: 03, loss: -0.00099\n",
      "epoch: 04, loss: -0.00096\n",
      "epoch: 05, loss: -0.00211\n",
      "epoch: 06, loss: -0.01147\n",
      "epoch: 07, loss: 0.00002\n",
      "epoch: 08, loss: -0.01034\n",
      "epoch: 09, loss: -0.00834\n",
      "torch.Size([450, 32])\n"
     ]
    },
    {
     "name": "stderr",
     "output_type": "stream",
     "text": [
      " 42%|████▏     | 418/1000 [3:24:15<5:17:24, 32.72s/it]"
     ]
    },
    {
     "name": "stdout",
     "output_type": "stream",
     "text": [
      "eigenvalues shape torch.Size([5]) eigenvectors shape torch.Size([5, 450])\n",
      "418 /home/phdcs2/Hard_Disk/Datasets/Deep-Spectral-Segmentation/data/object-segmentation/ECSSD/features/dino_vits16/0419.pth\n",
      "dict_keys(['k', 'indices', 'file', 'id', 'model_name', 'patch_size', 'shape'])\n",
      "0419\n",
      "Starting Training\n",
      "epoch: 00, loss: -0.00303\n",
      "epoch: 01, loss: -0.01674\n",
      "epoch: 02, loss: -0.00507\n",
      "epoch: 03, loss: -0.00485\n",
      "epoch: 04, loss: -0.00861\n",
      "epoch: 05, loss: -0.02257\n",
      "epoch: 06, loss: -0.00263\n",
      "epoch: 07, loss: -0.03805\n",
      "epoch: 08, loss: -0.02390\n",
      "epoch: 09, loss: 0.01173\n",
      "torch.Size([450, 32])\n"
     ]
    },
    {
     "name": "stderr",
     "output_type": "stream",
     "text": [
      " 42%|████▏     | 419/1000 [3:24:46<5:11:40, 32.19s/it]"
     ]
    },
    {
     "name": "stdout",
     "output_type": "stream",
     "text": [
      "eigenvalues shape torch.Size([5]) eigenvectors shape torch.Size([5, 450])\n",
      "419 /home/phdcs2/Hard_Disk/Datasets/Deep-Spectral-Segmentation/data/object-segmentation/ECSSD/features/dino_vits16/0420.pth\n",
      "dict_keys(['k', 'indices', 'file', 'id', 'model_name', 'patch_size', 'shape'])\n",
      "0420\n",
      "Starting Training\n",
      "epoch: 00, loss: 0.00778\n",
      "epoch: 01, loss: 0.00028\n",
      "epoch: 02, loss: -0.00315\n",
      "epoch: 03, loss: -0.00459\n",
      "epoch: 04, loss: -0.00594\n",
      "epoch: 05, loss: -0.00673\n",
      "epoch: 06, loss: -0.00789\n",
      "epoch: 07, loss: -0.00756\n",
      "epoch: 08, loss: -0.00851\n",
      "epoch: 09, loss: -0.00856\n",
      "torch.Size([575, 32])\n"
     ]
    },
    {
     "name": "stderr",
     "output_type": "stream",
     "text": [
      " 42%|████▏     | 420/1000 [3:25:26<5:33:27, 34.50s/it]"
     ]
    },
    {
     "name": "stdout",
     "output_type": "stream",
     "text": [
      "eigenvalues shape torch.Size([5]) eigenvectors shape torch.Size([5, 575])\n",
      "420 /home/phdcs2/Hard_Disk/Datasets/Deep-Spectral-Segmentation/data/object-segmentation/ECSSD/features/dino_vits16/0421.pth\n",
      "dict_keys(['k', 'indices', 'file', 'id', 'model_name', 'patch_size', 'shape'])\n",
      "0421\n",
      "Starting Training\n",
      "epoch: 00, loss: 0.00099\n",
      "epoch: 01, loss: -0.00574\n",
      "epoch: 02, loss: -0.01500\n",
      "epoch: 03, loss: -0.00210\n",
      "epoch: 04, loss: 0.00171\n",
      "epoch: 05, loss: -0.00091\n",
      "epoch: 06, loss: -0.00118\n",
      "epoch: 07, loss: 0.01029\n",
      "epoch: 08, loss: -0.00972\n",
      "epoch: 09, loss: 0.00142\n",
      "torch.Size([525, 32])\n"
     ]
    },
    {
     "name": "stderr",
     "output_type": "stream",
     "text": [
      " 42%|████▏     | 421/1000 [3:26:03<5:41:13, 35.36s/it]"
     ]
    },
    {
     "name": "stdout",
     "output_type": "stream",
     "text": [
      "eigenvalues shape torch.Size([5]) eigenvectors shape torch.Size([5, 525])\n",
      "421 /home/phdcs2/Hard_Disk/Datasets/Deep-Spectral-Segmentation/data/object-segmentation/ECSSD/features/dino_vits16/0422.pth\n",
      "dict_keys(['k', 'indices', 'file', 'id', 'model_name', 'patch_size', 'shape'])\n",
      "0422\n",
      "Starting Training\n",
      "epoch: 00, loss: 0.01014\n",
      "epoch: 01, loss: 0.00416\n",
      "epoch: 02, loss: 0.00191\n",
      "epoch: 03, loss: 0.00041\n",
      "epoch: 04, loss: -0.00078\n",
      "epoch: 05, loss: -0.00163\n",
      "epoch: 06, loss: -0.00217\n",
      "epoch: 07, loss: -0.00276\n",
      "epoch: 08, loss: -0.00315\n",
      "epoch: 09, loss: -0.00363\n",
      "torch.Size([450, 32])\n"
     ]
    },
    {
     "name": "stderr",
     "output_type": "stream",
     "text": [
      " 42%|████▏     | 422/1000 [3:26:31<5:18:42, 33.08s/it]"
     ]
    },
    {
     "name": "stdout",
     "output_type": "stream",
     "text": [
      "eigenvalues shape torch.Size([5]) eigenvectors shape torch.Size([5, 450])\n",
      "422 /home/phdcs2/Hard_Disk/Datasets/Deep-Spectral-Segmentation/data/object-segmentation/ECSSD/features/dino_vits16/0423.pth\n",
      "dict_keys(['k', 'indices', 'file', 'id', 'model_name', 'patch_size', 'shape'])\n",
      "0423\n",
      "Starting Training\n",
      "epoch: 00, loss: 0.00717\n",
      "epoch: 01, loss: 0.00487\n",
      "epoch: 02, loss: 0.00340\n",
      "epoch: 03, loss: 0.00275\n",
      "epoch: 04, loss: 0.00213\n",
      "epoch: 05, loss: 0.00163\n",
      "epoch: 06, loss: 0.00132\n",
      "epoch: 07, loss: 0.00051\n",
      "epoch: 08, loss: 0.00043\n",
      "epoch: 09, loss: 0.00016\n",
      "torch.Size([425, 32])\n"
     ]
    },
    {
     "name": "stderr",
     "output_type": "stream",
     "text": [
      " 42%|████▏     | 423/1000 [3:26:58<4:59:24, 31.14s/it]"
     ]
    },
    {
     "name": "stdout",
     "output_type": "stream",
     "text": [
      "eigenvalues shape torch.Size([5]) eigenvectors shape torch.Size([5, 425])\n",
      "423 /home/phdcs2/Hard_Disk/Datasets/Deep-Spectral-Segmentation/data/object-segmentation/ECSSD/features/dino_vits16/0424.pth\n",
      "dict_keys(['k', 'indices', 'file', 'id', 'model_name', 'patch_size', 'shape'])\n",
      "0424\n",
      "Starting Training\n",
      "epoch: 00, loss: 0.00739\n",
      "epoch: 01, loss: 0.00311\n",
      "epoch: 02, loss: -0.00084\n",
      "epoch: 03, loss: -0.00431\n",
      "epoch: 04, loss: -0.00178\n",
      "epoch: 05, loss: -0.00426\n",
      "epoch: 06, loss: -0.00555\n",
      "epoch: 07, loss: -0.00687\n",
      "epoch: 08, loss: -0.00538\n",
      "epoch: 09, loss: -0.00755\n",
      "torch.Size([550, 32])\n"
     ]
    },
    {
     "name": "stderr",
     "output_type": "stream",
     "text": [
      " 42%|████▏     | 424/1000 [3:27:32<5:08:10, 32.10s/it]"
     ]
    },
    {
     "name": "stdout",
     "output_type": "stream",
     "text": [
      "eigenvalues shape torch.Size([5]) eigenvectors shape torch.Size([5, 550])\n",
      "424 /home/phdcs2/Hard_Disk/Datasets/Deep-Spectral-Segmentation/data/object-segmentation/ECSSD/features/dino_vits16/0425.pth\n",
      "dict_keys(['k', 'indices', 'file', 'id', 'model_name', 'patch_size', 'shape'])\n",
      "0425\n",
      "Starting Training\n",
      "epoch: 00, loss: 0.01332\n",
      "epoch: 01, loss: 0.00286\n",
      "epoch: 02, loss: 0.00354\n",
      "epoch: 03, loss: 0.00176\n",
      "epoch: 04, loss: 0.00308\n",
      "epoch: 05, loss: -0.00867\n",
      "epoch: 06, loss: 0.00325\n",
      "epoch: 07, loss: 0.00018\n",
      "epoch: 08, loss: -0.00229\n",
      "epoch: 09, loss: -0.00678\n",
      "torch.Size([475, 32])\n"
     ]
    },
    {
     "name": "stderr",
     "output_type": "stream",
     "text": [
      " 42%|████▎     | 425/1000 [3:28:03<5:03:42, 31.69s/it]"
     ]
    },
    {
     "name": "stdout",
     "output_type": "stream",
     "text": [
      "eigenvalues shape torch.Size([5]) eigenvectors shape torch.Size([5, 475])\n",
      "425 /home/phdcs2/Hard_Disk/Datasets/Deep-Spectral-Segmentation/data/object-segmentation/ECSSD/features/dino_vits16/0426.pth\n",
      "dict_keys(['k', 'indices', 'file', 'id', 'model_name', 'patch_size', 'shape'])\n",
      "0426\n",
      "Starting Training\n",
      "epoch: 00, loss: 0.00640\n",
      "epoch: 01, loss: -0.00118\n",
      "epoch: 02, loss: 0.00363\n",
      "epoch: 03, loss: -0.01265\n",
      "epoch: 04, loss: 0.00657\n",
      "epoch: 05, loss: 0.00397\n",
      "epoch: 06, loss: -0.01044\n",
      "epoch: 07, loss: -0.00607\n",
      "epoch: 08, loss: -0.01073\n",
      "epoch: 09, loss: -0.01365\n",
      "torch.Size([500, 32])\n"
     ]
    },
    {
     "name": "stderr",
     "output_type": "stream",
     "text": [
      " 43%|████▎     | 426/1000 [3:28:37<5:09:09, 32.32s/it]"
     ]
    },
    {
     "name": "stdout",
     "output_type": "stream",
     "text": [
      "eigenvalues shape torch.Size([5]) eigenvectors shape torch.Size([5, 500])\n",
      "426 /home/phdcs2/Hard_Disk/Datasets/Deep-Spectral-Segmentation/data/object-segmentation/ECSSD/features/dino_vits16/0427.pth\n",
      "dict_keys(['k', 'indices', 'file', 'id', 'model_name', 'patch_size', 'shape'])\n",
      "0427\n",
      "Starting Training\n",
      "epoch: 00, loss: 0.00552\n",
      "epoch: 01, loss: 0.00213\n",
      "epoch: 02, loss: -0.00131\n",
      "epoch: 03, loss: -0.00179\n",
      "epoch: 04, loss: -0.00350\n",
      "epoch: 05, loss: -0.00427\n",
      "epoch: 06, loss: -0.00463\n",
      "epoch: 07, loss: -0.00425\n",
      "epoch: 08, loss: -0.00536\n",
      "epoch: 09, loss: -0.00509\n",
      "torch.Size([450, 32])\n"
     ]
    },
    {
     "name": "stderr",
     "output_type": "stream",
     "text": [
      " 43%|████▎     | 427/1000 [3:29:03<4:51:58, 30.57s/it]"
     ]
    },
    {
     "name": "stdout",
     "output_type": "stream",
     "text": [
      "eigenvalues shape torch.Size([5]) eigenvectors shape torch.Size([5, 450])\n",
      "427 /home/phdcs2/Hard_Disk/Datasets/Deep-Spectral-Segmentation/data/object-segmentation/ECSSD/features/dino_vits16/0428.pth\n",
      "dict_keys(['k', 'indices', 'file', 'id', 'model_name', 'patch_size', 'shape'])\n",
      "0428\n",
      "Starting Training\n",
      "epoch: 00, loss: 0.00768\n",
      "epoch: 01, loss: 0.00393\n",
      "epoch: 02, loss: -0.00125\n",
      "epoch: 03, loss: -0.00615\n",
      "epoch: 04, loss: -0.00920\n",
      "epoch: 05, loss: -0.00873\n",
      "epoch: 06, loss: -0.01003\n",
      "epoch: 07, loss: -0.01054\n",
      "epoch: 08, loss: -0.01139\n",
      "epoch: 09, loss: -0.01218\n",
      "torch.Size([400, 32])\n"
     ]
    },
    {
     "name": "stderr",
     "output_type": "stream",
     "text": [
      " 43%|████▎     | 428/1000 [3:29:29<4:39:00, 29.27s/it]"
     ]
    },
    {
     "name": "stdout",
     "output_type": "stream",
     "text": [
      "eigenvalues shape torch.Size([5]) eigenvectors shape torch.Size([5, 400])\n",
      "428 /home/phdcs2/Hard_Disk/Datasets/Deep-Spectral-Segmentation/data/object-segmentation/ECSSD/features/dino_vits16/0429.pth\n",
      "dict_keys(['k', 'indices', 'file', 'id', 'model_name', 'patch_size', 'shape'])\n",
      "0429\n",
      "Starting Training\n",
      "epoch: 00, loss: 0.00705\n",
      "epoch: 01, loss: 0.00160\n",
      "epoch: 02, loss: -0.00139\n",
      "epoch: 03, loss: -0.00384\n",
      "epoch: 04, loss: -0.00495\n",
      "epoch: 05, loss: -0.00599\n",
      "epoch: 06, loss: -0.00633\n",
      "epoch: 07, loss: -0.00731\n",
      "epoch: 08, loss: -0.00813\n",
      "epoch: 09, loss: -0.00853\n",
      "torch.Size([375, 32])\n"
     ]
    },
    {
     "name": "stderr",
     "output_type": "stream",
     "text": [
      " 43%|████▎     | 429/1000 [3:29:59<4:38:59, 29.32s/it]"
     ]
    },
    {
     "name": "stdout",
     "output_type": "stream",
     "text": [
      "eigenvalues shape torch.Size([5]) eigenvectors shape torch.Size([5, 375])\n",
      "429 /home/phdcs2/Hard_Disk/Datasets/Deep-Spectral-Segmentation/data/object-segmentation/ECSSD/features/dino_vits16/0430.pth\n",
      "dict_keys(['k', 'indices', 'file', 'id', 'model_name', 'patch_size', 'shape'])\n",
      "0430\n",
      "Starting Training\n",
      "epoch: 00, loss: 0.00254\n",
      "epoch: 01, loss: -0.00203\n",
      "epoch: 02, loss: -0.00654\n",
      "epoch: 03, loss: -0.01318\n",
      "epoch: 04, loss: -0.00966\n",
      "epoch: 05, loss: -0.01121\n",
      "epoch: 06, loss: -0.01720\n",
      "epoch: 07, loss: -0.01004\n",
      "epoch: 08, loss: -0.01263\n",
      "epoch: 09, loss: -0.01550\n",
      "torch.Size([500, 32])\n"
     ]
    },
    {
     "name": "stderr",
     "output_type": "stream",
     "text": [
      " 43%|████▎     | 430/1000 [3:30:33<4:51:12, 30.65s/it]"
     ]
    },
    {
     "name": "stdout",
     "output_type": "stream",
     "text": [
      "eigenvalues shape torch.Size([5]) eigenvectors shape torch.Size([5, 500])\n",
      "430 /home/phdcs2/Hard_Disk/Datasets/Deep-Spectral-Segmentation/data/object-segmentation/ECSSD/features/dino_vits16/0431.pth\n",
      "dict_keys(['k', 'indices', 'file', 'id', 'model_name', 'patch_size', 'shape'])\n",
      "0431\n",
      "Starting Training\n",
      "epoch: 00, loss: 0.00695\n",
      "epoch: 01, loss: 0.00298\n",
      "epoch: 02, loss: 0.00124\n",
      "epoch: 03, loss: 0.00017\n",
      "epoch: 04, loss: -0.00092\n",
      "epoch: 05, loss: -0.00150\n",
      "epoch: 06, loss: -0.00232\n",
      "epoch: 07, loss: -0.00243\n",
      "epoch: 08, loss: -0.00280\n",
      "epoch: 09, loss: -0.00316\n",
      "torch.Size([400, 32])\n"
     ]
    },
    {
     "name": "stderr",
     "output_type": "stream",
     "text": [
      " 43%|████▎     | 431/1000 [3:31:05<4:56:43, 31.29s/it]"
     ]
    },
    {
     "name": "stdout",
     "output_type": "stream",
     "text": [
      "eigenvalues shape torch.Size([5]) eigenvectors shape torch.Size([5, 400])\n",
      "431 /home/phdcs2/Hard_Disk/Datasets/Deep-Spectral-Segmentation/data/object-segmentation/ECSSD/features/dino_vits16/0432.pth\n",
      "dict_keys(['k', 'indices', 'file', 'id', 'model_name', 'patch_size', 'shape'])\n",
      "0432\n",
      "Starting Training\n",
      "epoch: 00, loss: 0.00863\n",
      "epoch: 01, loss: 0.00539\n",
      "epoch: 02, loss: 0.00401\n",
      "epoch: 03, loss: 0.00324\n",
      "epoch: 04, loss: 0.00206\n",
      "epoch: 05, loss: 0.00115\n",
      "epoch: 06, loss: 0.00079\n",
      "epoch: 07, loss: 0.00023\n",
      "epoch: 08, loss: -0.00058\n",
      "epoch: 09, loss: -0.00052\n",
      "torch.Size([425, 32])\n"
     ]
    },
    {
     "name": "stderr",
     "output_type": "stream",
     "text": [
      " 43%|████▎     | 432/1000 [3:31:40<5:05:30, 32.27s/it]"
     ]
    },
    {
     "name": "stdout",
     "output_type": "stream",
     "text": [
      "eigenvalues shape torch.Size([5]) eigenvectors shape torch.Size([5, 425])\n",
      "432 /home/phdcs2/Hard_Disk/Datasets/Deep-Spectral-Segmentation/data/object-segmentation/ECSSD/features/dino_vits16/0433.pth\n",
      "dict_keys(['k', 'indices', 'file', 'id', 'model_name', 'patch_size', 'shape'])\n",
      "0433\n",
      "Starting Training\n",
      "epoch: 00, loss: 0.00931\n",
      "epoch: 01, loss: 0.00378\n",
      "epoch: 02, loss: 0.00107\n",
      "epoch: 03, loss: -0.00132\n",
      "epoch: 04, loss: -0.00316\n",
      "epoch: 05, loss: -0.00410\n",
      "epoch: 06, loss: -0.00461\n",
      "epoch: 07, loss: -0.00544\n",
      "epoch: 08, loss: -0.00685\n",
      "epoch: 09, loss: -0.00709\n",
      "torch.Size([475, 32])\n"
     ]
    },
    {
     "name": "stderr",
     "output_type": "stream",
     "text": [
      " 43%|████▎     | 433/1000 [3:32:10<4:58:28, 31.58s/it]"
     ]
    },
    {
     "name": "stdout",
     "output_type": "stream",
     "text": [
      "eigenvalues shape torch.Size([5]) eigenvectors shape torch.Size([5, 475])\n",
      "433 /home/phdcs2/Hard_Disk/Datasets/Deep-Spectral-Segmentation/data/object-segmentation/ECSSD/features/dino_vits16/0434.pth\n",
      "dict_keys(['k', 'indices', 'file', 'id', 'model_name', 'patch_size', 'shape'])\n",
      "0434\n",
      "Starting Training\n",
      "epoch: 00, loss: 0.00258\n",
      "epoch: 01, loss: -0.00496\n",
      "epoch: 02, loss: -0.00891\n",
      "epoch: 03, loss: -0.01084\n",
      "epoch: 04, loss: -0.01187\n",
      "epoch: 05, loss: -0.01246\n",
      "epoch: 06, loss: -0.01300\n",
      "epoch: 07, loss: -0.01323\n",
      "epoch: 08, loss: -0.01360\n",
      "epoch: 09, loss: -0.01370\n",
      "torch.Size([450, 32])\n"
     ]
    },
    {
     "name": "stderr",
     "output_type": "stream",
     "text": [
      " 43%|████▎     | 434/1000 [3:32:38<4:48:58, 30.63s/it]"
     ]
    },
    {
     "name": "stdout",
     "output_type": "stream",
     "text": [
      "eigenvalues shape torch.Size([5]) eigenvectors shape torch.Size([5, 450])\n",
      "434 /home/phdcs2/Hard_Disk/Datasets/Deep-Spectral-Segmentation/data/object-segmentation/ECSSD/features/dino_vits16/0435.pth\n",
      "dict_keys(['k', 'indices', 'file', 'id', 'model_name', 'patch_size', 'shape'])\n",
      "0435\n",
      "Starting Training\n",
      "epoch: 00, loss: -0.01117\n",
      "epoch: 01, loss: -0.02101\n",
      "epoch: 02, loss: -0.02359\n",
      "epoch: 03, loss: -0.02473\n",
      "epoch: 04, loss: -0.02504\n",
      "epoch: 05, loss: -0.02548\n",
      "epoch: 06, loss: -0.02565\n",
      "epoch: 07, loss: -0.02582\n",
      "epoch: 08, loss: -0.02598\n",
      "epoch: 09, loss: -0.02618\n",
      "torch.Size([450, 32])\n"
     ]
    },
    {
     "name": "stderr",
     "output_type": "stream",
     "text": [
      " 44%|████▎     | 435/1000 [3:33:09<4:47:50, 30.57s/it]"
     ]
    },
    {
     "name": "stdout",
     "output_type": "stream",
     "text": [
      "eigenvalues shape torch.Size([5]) eigenvectors shape torch.Size([5, 450])\n",
      "435 /home/phdcs2/Hard_Disk/Datasets/Deep-Spectral-Segmentation/data/object-segmentation/ECSSD/features/dino_vits16/0436.pth\n",
      "dict_keys(['k', 'indices', 'file', 'id', 'model_name', 'patch_size', 'shape'])\n",
      "0436\n",
      "Starting Training\n",
      "epoch: 00, loss: 0.00050\n",
      "epoch: 01, loss: -0.00630\n",
      "epoch: 02, loss: -0.01230\n",
      "epoch: 03, loss: -0.00036\n",
      "epoch: 04, loss: -0.00321\n",
      "epoch: 05, loss: 0.00041\n",
      "epoch: 06, loss: 0.00153\n",
      "epoch: 07, loss: -0.01891\n",
      "epoch: 08, loss: 0.00808\n",
      "epoch: 09, loss: -0.00831\n",
      "torch.Size([475, 32])\n"
     ]
    },
    {
     "name": "stderr",
     "output_type": "stream",
     "text": [
      " 44%|████▎     | 436/1000 [3:33:39<4:45:43, 30.40s/it]"
     ]
    },
    {
     "name": "stdout",
     "output_type": "stream",
     "text": [
      "eigenvalues shape torch.Size([5]) eigenvectors shape torch.Size([5, 475])\n",
      "436 /home/phdcs2/Hard_Disk/Datasets/Deep-Spectral-Segmentation/data/object-segmentation/ECSSD/features/dino_vits16/0437.pth\n",
      "dict_keys(['k', 'indices', 'file', 'id', 'model_name', 'patch_size', 'shape'])\n",
      "0437\n",
      "Starting Training\n",
      "epoch: 00, loss: 0.00693\n",
      "epoch: 01, loss: 0.00052\n",
      "epoch: 02, loss: -0.00410\n",
      "epoch: 03, loss: -0.01030\n",
      "epoch: 04, loss: -0.01588\n",
      "epoch: 05, loss: -0.01435\n",
      "epoch: 06, loss: -0.01053\n",
      "epoch: 07, loss: -0.02014\n",
      "epoch: 08, loss: -0.01700\n",
      "epoch: 09, loss: -0.02399\n",
      "torch.Size([450, 32])\n"
     ]
    },
    {
     "name": "stderr",
     "output_type": "stream",
     "text": [
      " 44%|████▎     | 437/1000 [3:34:10<4:48:06, 30.70s/it]"
     ]
    },
    {
     "name": "stdout",
     "output_type": "stream",
     "text": [
      "eigenvalues shape torch.Size([5]) eigenvectors shape torch.Size([5, 450])\n",
      "437 /home/phdcs2/Hard_Disk/Datasets/Deep-Spectral-Segmentation/data/object-segmentation/ECSSD/features/dino_vits16/0438.pth\n",
      "dict_keys(['k', 'indices', 'file', 'id', 'model_name', 'patch_size', 'shape'])\n",
      "0438\n",
      "Starting Training\n",
      "epoch: 00, loss: -0.00361\n",
      "epoch: 01, loss: 0.00351\n",
      "epoch: 02, loss: -0.01055\n",
      "epoch: 03, loss: -0.02014\n",
      "epoch: 04, loss: -0.02884\n",
      "epoch: 05, loss: -0.02779\n",
      "epoch: 06, loss: -0.03985\n",
      "epoch: 07, loss: -0.06110\n",
      "epoch: 08, loss: -0.05924\n",
      "epoch: 09, loss: -0.07459\n",
      "torch.Size([450, 32])\n"
     ]
    },
    {
     "name": "stderr",
     "output_type": "stream",
     "text": [
      " 44%|████▍     | 438/1000 [3:34:39<4:43:33, 30.27s/it]"
     ]
    },
    {
     "name": "stdout",
     "output_type": "stream",
     "text": [
      "eigenvalues shape torch.Size([5]) eigenvectors shape torch.Size([5, 450])\n",
      "438 /home/phdcs2/Hard_Disk/Datasets/Deep-Spectral-Segmentation/data/object-segmentation/ECSSD/features/dino_vits16/0439.pth\n",
      "dict_keys(['k', 'indices', 'file', 'id', 'model_name', 'patch_size', 'shape'])\n",
      "0439\n",
      "Starting Training\n",
      "epoch: 00, loss: -0.00627\n",
      "epoch: 01, loss: -0.00283\n",
      "epoch: 02, loss: -0.00365\n",
      "epoch: 03, loss: -0.01071\n",
      "epoch: 04, loss: -0.01730\n",
      "epoch: 05, loss: -0.01915\n",
      "epoch: 06, loss: -0.02884\n",
      "epoch: 07, loss: -0.02094\n",
      "epoch: 08, loss: -0.02591\n",
      "epoch: 09, loss: -0.03609\n",
      "torch.Size([575, 32])\n"
     ]
    },
    {
     "name": "stderr",
     "output_type": "stream",
     "text": [
      " 44%|████▍     | 439/1000 [3:35:21<5:15:37, 33.76s/it]"
     ]
    },
    {
     "name": "stdout",
     "output_type": "stream",
     "text": [
      "eigenvalues shape torch.Size([5]) eigenvectors shape torch.Size([5, 575])\n",
      "439 /home/phdcs2/Hard_Disk/Datasets/Deep-Spectral-Segmentation/data/object-segmentation/ECSSD/features/dino_vits16/0440.pth\n",
      "dict_keys(['k', 'indices', 'file', 'id', 'model_name', 'patch_size', 'shape'])\n",
      "0440\n",
      "Starting Training\n",
      "epoch: 00, loss: -0.01077\n",
      "epoch: 01, loss: -0.00086\n",
      "epoch: 02, loss: 0.00693\n",
      "epoch: 03, loss: -0.01306\n",
      "epoch: 04, loss: -0.02119\n",
      "epoch: 05, loss: 0.00644\n",
      "epoch: 06, loss: -0.04070\n",
      "epoch: 07, loss: 0.00758\n",
      "epoch: 08, loss: -0.01851\n",
      "epoch: 09, loss: -0.02484\n",
      "torch.Size([450, 32])\n"
     ]
    },
    {
     "name": "stderr",
     "output_type": "stream",
     "text": [
      " 44%|████▍     | 440/1000 [3:36:00<5:30:08, 35.37s/it]"
     ]
    },
    {
     "name": "stdout",
     "output_type": "stream",
     "text": [
      "eigenvalues shape torch.Size([5]) eigenvectors shape torch.Size([5, 450])\n",
      "440 /home/phdcs2/Hard_Disk/Datasets/Deep-Spectral-Segmentation/data/object-segmentation/ECSSD/features/dino_vits16/0441.pth\n",
      "dict_keys(['k', 'indices', 'file', 'id', 'model_name', 'patch_size', 'shape'])\n",
      "0441\n",
      "Starting Training\n",
      "epoch: 00, loss: 0.00923\n",
      "epoch: 01, loss: 0.00511\n",
      "epoch: 02, loss: 0.00290\n",
      "epoch: 03, loss: 0.00086\n",
      "epoch: 04, loss: -0.00017\n",
      "epoch: 05, loss: -0.00113\n",
      "epoch: 06, loss: -0.00184\n",
      "epoch: 07, loss: -0.00249\n",
      "epoch: 08, loss: -0.00295\n",
      "epoch: 09, loss: -0.00324\n",
      "torch.Size([450, 32])\n"
     ]
    },
    {
     "name": "stderr",
     "output_type": "stream",
     "text": [
      " 44%|████▍     | 441/1000 [3:36:29<5:10:04, 33.28s/it]"
     ]
    },
    {
     "name": "stdout",
     "output_type": "stream",
     "text": [
      "eigenvalues shape torch.Size([5]) eigenvectors shape torch.Size([5, 450])\n",
      "441 /home/phdcs2/Hard_Disk/Datasets/Deep-Spectral-Segmentation/data/object-segmentation/ECSSD/features/dino_vits16/0442.pth\n",
      "dict_keys(['k', 'indices', 'file', 'id', 'model_name', 'patch_size', 'shape'])\n",
      "0442\n",
      "Starting Training\n",
      "epoch: 00, loss: 0.00783\n",
      "epoch: 01, loss: 0.00053\n",
      "epoch: 02, loss: -0.00314\n",
      "epoch: 03, loss: -0.00464\n",
      "epoch: 04, loss: -0.00677\n",
      "epoch: 05, loss: -0.00790\n",
      "epoch: 06, loss: -0.00820\n",
      "epoch: 07, loss: -0.00796\n",
      "epoch: 08, loss: -0.00956\n",
      "epoch: 09, loss: -0.00871\n",
      "torch.Size([475, 32])\n"
     ]
    },
    {
     "name": "stderr",
     "output_type": "stream",
     "text": [
      " 44%|████▍     | 442/1000 [3:36:59<5:00:04, 32.27s/it]"
     ]
    },
    {
     "name": "stdout",
     "output_type": "stream",
     "text": [
      "eigenvalues shape torch.Size([5]) eigenvectors shape torch.Size([5, 475])\n",
      "442 /home/phdcs2/Hard_Disk/Datasets/Deep-Spectral-Segmentation/data/object-segmentation/ECSSD/features/dino_vits16/0443.pth\n",
      "dict_keys(['k', 'indices', 'file', 'id', 'model_name', 'patch_size', 'shape'])\n",
      "0443\n",
      "Starting Training\n",
      "epoch: 00, loss: 0.00241\n",
      "epoch: 01, loss: -0.01098\n",
      "epoch: 02, loss: -0.02041\n",
      "epoch: 03, loss: -0.01001\n",
      "epoch: 04, loss: -0.00055\n",
      "epoch: 05, loss: -0.00791\n",
      "epoch: 06, loss: -0.00367\n",
      "epoch: 07, loss: -0.01370\n",
      "epoch: 08, loss: -0.00313\n",
      "epoch: 09, loss: -0.01365\n",
      "torch.Size([450, 32])\n"
     ]
    },
    {
     "name": "stderr",
     "output_type": "stream",
     "text": [
      " 44%|████▍     | 443/1000 [3:37:27<4:48:48, 31.11s/it]"
     ]
    },
    {
     "name": "stdout",
     "output_type": "stream",
     "text": [
      "eigenvalues shape torch.Size([5]) eigenvectors shape torch.Size([5, 450])\n",
      "443 /home/phdcs2/Hard_Disk/Datasets/Deep-Spectral-Segmentation/data/object-segmentation/ECSSD/features/dino_vits16/0444.pth\n",
      "dict_keys(['k', 'indices', 'file', 'id', 'model_name', 'patch_size', 'shape'])\n",
      "0444\n",
      "Starting Training\n",
      "epoch: 00, loss: 0.00945\n",
      "epoch: 01, loss: 0.00172\n",
      "epoch: 02, loss: -0.00136\n",
      "epoch: 03, loss: -0.00392\n",
      "epoch: 04, loss: -0.00655\n",
      "epoch: 05, loss: -0.00386\n",
      "epoch: 06, loss: -0.00587\n",
      "epoch: 07, loss: -0.00156\n",
      "epoch: 08, loss: -0.00621\n",
      "epoch: 09, loss: -0.00281\n",
      "torch.Size([450, 32])\n"
     ]
    },
    {
     "name": "stderr",
     "output_type": "stream",
     "text": [
      " 44%|████▍     | 444/1000 [3:37:54<4:35:23, 29.72s/it]"
     ]
    },
    {
     "name": "stdout",
     "output_type": "stream",
     "text": [
      "eigenvalues shape torch.Size([5]) eigenvectors shape torch.Size([5, 450])\n",
      "444 /home/phdcs2/Hard_Disk/Datasets/Deep-Spectral-Segmentation/data/object-segmentation/ECSSD/features/dino_vits16/0445.pth\n",
      "dict_keys(['k', 'indices', 'file', 'id', 'model_name', 'patch_size', 'shape'])\n",
      "0445\n",
      "Starting Training\n",
      "epoch: 00, loss: -0.01563\n",
      "epoch: 01, loss: -0.00047\n",
      "epoch: 02, loss: -0.01606\n",
      "epoch: 03, loss: 0.00233\n",
      "epoch: 04, loss: -0.01886\n",
      "epoch: 05, loss: -0.01953\n",
      "epoch: 06, loss: -0.01061\n",
      "epoch: 07, loss: -0.01953\n",
      "epoch: 08, loss: -0.01175\n",
      "epoch: 09, loss: -0.02410\n",
      "torch.Size([400, 32])\n"
     ]
    },
    {
     "name": "stderr",
     "output_type": "stream",
     "text": [
      " 44%|████▍     | 445/1000 [3:38:25<4:39:40, 30.24s/it]"
     ]
    },
    {
     "name": "stdout",
     "output_type": "stream",
     "text": [
      "eigenvalues shape torch.Size([5]) eigenvectors shape torch.Size([5, 400])\n",
      "445 /home/phdcs2/Hard_Disk/Datasets/Deep-Spectral-Segmentation/data/object-segmentation/ECSSD/features/dino_vits16/0446.pth\n",
      "dict_keys(['k', 'indices', 'file', 'id', 'model_name', 'patch_size', 'shape'])\n",
      "0446\n",
      "Starting Training\n",
      "epoch: 00, loss: 0.00794\n",
      "epoch: 01, loss: 0.00131\n",
      "epoch: 02, loss: -0.00141\n",
      "epoch: 03, loss: -0.00309\n",
      "epoch: 04, loss: -0.00613\n",
      "epoch: 05, loss: -0.00947\n",
      "epoch: 06, loss: -0.00998\n",
      "epoch: 07, loss: -0.01032\n",
      "epoch: 08, loss: -0.00912\n",
      "epoch: 09, loss: -0.01096\n",
      "torch.Size([400, 32])\n"
     ]
    },
    {
     "name": "stderr",
     "output_type": "stream",
     "text": [
      " 45%|████▍     | 446/1000 [3:38:49<4:21:24, 28.31s/it]"
     ]
    },
    {
     "name": "stdout",
     "output_type": "stream",
     "text": [
      "eigenvalues shape torch.Size([5]) eigenvectors shape torch.Size([5, 400])\n",
      "446 /home/phdcs2/Hard_Disk/Datasets/Deep-Spectral-Segmentation/data/object-segmentation/ECSSD/features/dino_vits16/0447.pth\n",
      "dict_keys(['k', 'indices', 'file', 'id', 'model_name', 'patch_size', 'shape'])\n",
      "0447\n",
      "Starting Training\n",
      "epoch: 00, loss: 0.00667\n",
      "epoch: 01, loss: 0.00183\n",
      "epoch: 02, loss: -0.00117\n",
      "epoch: 03, loss: -0.00301\n",
      "epoch: 04, loss: -0.00424\n",
      "epoch: 05, loss: -0.00518\n",
      "epoch: 06, loss: -0.00590\n",
      "epoch: 07, loss: -0.00645\n",
      "epoch: 08, loss: -0.00685\n",
      "epoch: 09, loss: -0.00714\n",
      "torch.Size([400, 32])\n"
     ]
    },
    {
     "name": "stderr",
     "output_type": "stream",
     "text": [
      " 45%|████▍     | 447/1000 [3:39:12<4:06:19, 26.73s/it]"
     ]
    },
    {
     "name": "stdout",
     "output_type": "stream",
     "text": [
      "eigenvalues shape torch.Size([5]) eigenvectors shape torch.Size([5, 400])\n",
      "447 /home/phdcs2/Hard_Disk/Datasets/Deep-Spectral-Segmentation/data/object-segmentation/ECSSD/features/dino_vits16/0448.pth\n",
      "dict_keys(['k', 'indices', 'file', 'id', 'model_name', 'patch_size', 'shape'])\n",
      "0448\n",
      "Starting Training\n",
      "epoch: 00, loss: 0.00227\n",
      "epoch: 01, loss: -0.01194\n",
      "epoch: 02, loss: 0.00266\n",
      "epoch: 03, loss: -0.01096\n",
      "epoch: 04, loss: -0.00750\n",
      "epoch: 05, loss: 0.00948\n",
      "epoch: 06, loss: -0.00719\n",
      "epoch: 07, loss: -0.00721\n",
      "epoch: 08, loss: -0.00218\n",
      "epoch: 09, loss: 0.01592\n",
      "torch.Size([350, 32])\n"
     ]
    },
    {
     "name": "stderr",
     "output_type": "stream",
     "text": [
      " 45%|████▍     | 448/1000 [3:39:33<3:50:39, 25.07s/it]"
     ]
    },
    {
     "name": "stdout",
     "output_type": "stream",
     "text": [
      "eigenvalues shape torch.Size([5]) eigenvectors shape torch.Size([5, 350])\n",
      "448 /home/phdcs2/Hard_Disk/Datasets/Deep-Spectral-Segmentation/data/object-segmentation/ECSSD/features/dino_vits16/0449.pth\n",
      "dict_keys(['k', 'indices', 'file', 'id', 'model_name', 'patch_size', 'shape'])\n",
      "0449\n",
      "Starting Training\n",
      "epoch: 00, loss: 0.00322\n",
      "epoch: 01, loss: -0.00950\n",
      "epoch: 02, loss: -0.00951\n",
      "epoch: 03, loss: -0.01202\n",
      "epoch: 04, loss: -0.01423\n",
      "epoch: 05, loss: -0.01719\n",
      "epoch: 06, loss: -0.01196\n",
      "epoch: 07, loss: -0.01787\n",
      "epoch: 08, loss: -0.01133\n",
      "epoch: 09, loss: -0.01285\n",
      "torch.Size([475, 32])\n"
     ]
    },
    {
     "name": "stderr",
     "output_type": "stream",
     "text": [
      " 45%|████▍     | 449/1000 [3:40:04<4:05:51, 26.77s/it]"
     ]
    },
    {
     "name": "stdout",
     "output_type": "stream",
     "text": [
      "eigenvalues shape torch.Size([5]) eigenvectors shape torch.Size([5, 475])\n",
      "449 /home/phdcs2/Hard_Disk/Datasets/Deep-Spectral-Segmentation/data/object-segmentation/ECSSD/features/dino_vits16/0450.pth\n",
      "dict_keys(['k', 'indices', 'file', 'id', 'model_name', 'patch_size', 'shape'])\n",
      "0450\n",
      "Starting Training\n",
      "epoch: 00, loss: -0.00721\n"
     ]
    },
    {
     "name": "stderr",
     "output_type": "stream",
     "text": [
      "IOPub message rate exceeded.\n",
      "The notebook server will temporarily stop sending output\n",
      "to the client in order to avoid crashing it.\n",
      "To change this limit, set the config variable\n",
      "`--NotebookApp.iopub_msg_rate_limit`.\n",
      "\n",
      "Current values:\n",
      "NotebookApp.iopub_msg_rate_limit=1000.0 (msgs/sec)\n",
      "NotebookApp.rate_limit_window=3.0 (secs)\n",
      "\n"
     ]
    }
   ],
   "source": [
    "comp=32\n",
    "tsne = TSNE(n_components=comp, perplexity=30.0, random_state=42, method='exact')\n",
    "utils.make_output_dir(output_dir)\n",
    "inputs = list(enumerate(sorted(Path(features_dir).iterdir())))\n",
    "for inp in tqdm(inputs):\n",
    "    index, features_file = inp\n",
    "    print(index, features_file)\n",
    "     # Load\n",
    "    data_dict = torch.load(features_file, map_location='cpu')\n",
    "    print(data_dict.keys())   #['k', 'indices', 'file', 'id', 'model_name', 'patch_size', 'shape']\n",
    "    # print(\"shape=\", data_dict['shape'], \"k shape\", data_dict['k'].shape, \"patch_size=\", data_dict['patch_size'])\n",
    "    image_id = data_dict['file'][:-4]\n",
    "    print(image_id)\n",
    "    # Load\n",
    "    output_file = str(Path(output_dir) / f'{image_id}.pth')\n",
    "    if Path(output_file).is_file():\n",
    "        print(f'Skipping existing file {str(output_file)}')\n",
    "        # break\n",
    "        # return  # skip because already generated\n",
    "\n",
    "    # Load affinity matrix\n",
    "    feats = data_dict[which_features].squeeze().cuda()\n",
    "    # print(\"Without normalizing, Features Shape is\",feats.shape)\n",
    "    if normalize:\n",
    "        feats = F.normalize(feats, p=2, dim=-1)\n",
    "    # print(\"After normalization, Features Shape\",feats.shape)\n",
    "    # print(\"which_matrix=\", which_matrix)\n",
    "    # Eigenvectors of affinity matrix\n",
    "    if which_matrix == 'affinity_torch':\n",
    "        W = feats @ feats.T\n",
    "        # W_feat=contrastive_affinity(feats, feats.T)\n",
    "        # print(\"W shape=\", W.shape)\n",
    "        if threshold_at_zero:\n",
    "            W = (W * (W > 0))\n",
    "            # print(\"W shape=\", W.shape)\n",
    "        eigenvalues, eigenvectors = torch.eig(W, eigenvectors=True)\n",
    "        eigenvalues = eigenvalues.cpu()\n",
    "        eigenvectors = eigenvectors.cpu()\n",
    "        print(\"which matrix=\",which_matrix, \"eigenvalues shape\", eigenvalues.shape, \"eigenvectors shape\", eigenvectors.shape)\n",
    "\n",
    "\n",
    "    # Eigenvectors of affinity matrix with scipy\n",
    "    elif which_matrix == 'affinity_svd':\n",
    "        USV = torch.linalg.svd(feats, full_matrices=False)\n",
    "        eigenvectors = USV[0][:, :K].T.to('cpu', non_blocking=True)\n",
    "        eigenvalues = USV[1][:K].to('cpu', non_blocking=True)\n",
    "        print(\"which matrix=\",which_matrix,\"eigenvalues shape\", eigenvalues.shape, \"eigenvectors shape\", eigenvectors.shape)\n",
    "\n",
    "    # Eigenvectors of affinity matrix with scipy\n",
    "    elif which_matrix == 'affinity':\n",
    "        # print(\"Without normalizing, Features Shape is\",feats.shape)\n",
    "        W = (feats @ feats.T)\n",
    "        # W_feat=contrastive_affinity(feats, feats.T)\n",
    "        # print(\"W shape=\", W.shape)\n",
    "        if threshold_at_zero:\n",
    "            W = (W * (W > 0))\n",
    "        W = W.cpu().numpy()\n",
    "        # print(\"W shape=\", W.shape)\n",
    "        eigenvalues, eigenvectors = eigsh(W, which='LM', k=K)\n",
    "        eigenvectors = torch.flip(torch.from_numpy(eigenvectors), dims=(-1,)).T\n",
    "        print(\"which matrix=\",which_matrix, \"eigenvalues shape\", eigenvalues.shape, \"eigenvectors shape\", eigenvectors.shape)\n",
    "\n",
    "    # Eigenvectors of matting laplacian matrix\n",
    "    elif which_matrix in ['matting_laplacian', 'laplacian']:\n",
    "\n",
    "        # Get sizes\n",
    "        B, C, H, W, P, H_patch, W_patch, H_pad, W_pad = utils.get_image_sizes(data_dict)\n",
    "        if image_downsample_factor is None:\n",
    "            image_downsample_factor = P\n",
    "        H_pad_lr, W_pad_lr = H_pad // image_downsample_factor, W_pad // image_downsample_factor\n",
    "\n",
    "        # Upscale features to match the resolution\n",
    "        if (H_patch, W_patch) != (H_pad_lr, W_pad_lr):\n",
    "            feats = F.interpolate(\n",
    "                feats.T.reshape(1, -1, H_patch, W_patch),\n",
    "                size=(H_pad_lr, W_pad_lr), mode='bilinear', align_corners=False\n",
    "            ).reshape(-1, H_pad_lr * W_pad_lr).T\n",
    "\n",
    "        ### Feature affinities\n",
    "        # print(\"Without normalizing, Features Shape is\",feats.shape)\n",
    "\n",
    "        W_feat_ds = (feats @ feats.T)\n",
    "        layer=nn.Linear(comp,comp).cuda()\n",
    "        x0=feats\n",
    "        x0_arr=x0.cpu()\n",
    "        # print(x0_arr.shape)\n",
    "        z0_arr= tsne.fit_transform(x0_arr)\n",
    "\n",
    "        # Define the affine transformation parameters\n",
    "        scale = np.random.uniform(0.8, 1.2)  # Random scaling factor between 0.8 and 1.2\n",
    "        translation = np.random.uniform(-10, 10, size=2)  # Random translation vector between -10 and 10 in both directions\n",
    "        rotation = np.random.uniform(-15, 15)  # Random rotation angle between -15 and 15 degrees\n",
    "        shear = np.random.uniform(-0.2, 0.2, size=2)  # Random shear factor between -0.2 and 0.2 in both directions\n",
    "\n",
    "        # Define the affine matrix\n",
    "        affine_matrix = np.array([[scale * np.cos(rotation), -shear[0] * scale * np.sin(rotation), translation[0]],\n",
    "                                  [shear[1] * scale * np.sin(rotation), scale * np.cos(rotation), translation[1]],\n",
    "                                  [0, 0, 1]])\n",
    "        z1_arr=affine_transform(z0_arr, affine_matrix)\n",
    "        # z1_arr=tsne.fit_transform(x1_arr)\n",
    "        z0 = torch.from_numpy(z0_arr).float()\n",
    "        z1 = torch.from_numpy(z1_arr).float()\n",
    "#         z0 = torch.from_numpy(z0_arr).float()\n",
    "#         z1 = torch.from_numpy(z1_arr).float()\n",
    "\n",
    "        # feat_list.append(feats)\n",
    "        feat_dataset_z0 = Feature_Dataset(z0)\n",
    "        if feats.shape[0]%2==0:\n",
    "            features_dataloader_z0 = DataLoader(feat_dataset_z0, batch_size=batch_size, shuffle=True)\n",
    "        else:\n",
    "            features_dataloader_z0 = DataLoader(feat_dataset_z0, batch_size=batch_size, shuffle=True, drop_last=True)\n",
    "\n",
    "        feat_dataset_z1 = Feature_Dataset(z1)\n",
    "        if feats.shape[0]%2==0:\n",
    "            features_dataloader_z1 = DataLoader(feat_dataset_z1, batch_size=batch_size, shuffle=True)\n",
    "        else:\n",
    "            features_dataloader_z1 = DataLoader(feat_dataset_z1, batch_size=batch_size, shuffle=True, drop_last=True)\n",
    "        device = \"cuda\" if torch.cuda.is_available() else \"cpu\"\n",
    "        layer=nn.Linear(comp,comp).cuda()\n",
    "        criterion = NegativeCosineSimilarity()\n",
    "        optimizer = torch.optim.SGD(layer.parameters(), lr=0.06)\n",
    "        print(\"Starting Training\")\n",
    "        for epoch in range(epochs):\n",
    "            total_loss = 0\n",
    "            for z0_new,z1_new in zip(features_dataloader_z0,features_dataloader_z1):\n",
    "                z0_new = z0_new.to(device)\n",
    "                z1_new = z1_new.to(device)\n",
    "    #             print(\"z0_new.shape\", z0_new.shape)\n",
    "    #             print(\"z1_new.shape\", z1_new.shape)\n",
    "                p0=layer(z0_new)\n",
    "                p1=layer(z1_new)\n",
    "    #             print(\"p0.shape\", p0.shape)\n",
    "    #             print(\"p1.shape\", p1.shape)\n",
    "    #             print(\"type(z0)\", type(z0_new))\n",
    "    #             print(\"type(p0)\", type(p0))\n",
    "                loss = 0.5 * (criterion(z0_new, p1) + criterion(z1_new, p0))\n",
    "                total_loss += loss.detach()\n",
    "                loss.backward()\n",
    "                optimizer.step()\n",
    "                optimizer.zero_grad()\n",
    "            avg_loss = total_loss / len(features_dataloader_z0)\n",
    "            print(f\"epoch: {epoch:>02}, loss: {avg_loss:.5f}\")\n",
    "        # x0=feats\n",
    "        # x0_arr=x0.cpu()\n",
    "        # z0_arr = tsne.fit_transform(x0_arr)\n",
    "        z0 = torch.from_numpy(z0_arr).float()\n",
    "        projected_feature=layer(z0.to(device))\n",
    "        print(projected_feature.shape)\n",
    "        W_feat_siam=torch.matmul(projected_feature, projected_feature.t())\n",
    "        W_feat_siam=torch.matmul(projected_feature[0], projected_feature[0].t())\n",
    "        W_feat=W_feat_ds + 0.1*W_feat_siam\n",
    "#         W_feat=normalize_affinity_matrix(W_feat_unnorm, axis=1)\n",
    "        # print(\"W_feat.shape=\", W_feat.shape)\n",
    "        # print(\"W_feat.shape=\", W_feat.shape)\n",
    "        # W_feat=contrastive_affinity(feats, feats.T)\n",
    "        if threshold_at_zero:\n",
    "            W_feat = (W_feat * (W_feat > 0))\n",
    "        W_feat = W_feat / W_feat.max()  # NOTE: If features are normalized, this naturally does nothing\n",
    "        # W_feat = W_feat.cpu().numpy()\n",
    "        W_feat = W_feat.detach().cpu().numpy()\n",
    "        # print(\"W_feat shape=\",W_feat.shape)\n",
    "\n",
    "        ### Color affinities\n",
    "        # If we are fusing with color affinites, then load the image and compute\n",
    "        if image_color_lambda > 0:\n",
    "\n",
    "            # Load image\n",
    "            image_file = str(Path(images_root) / f'{image_id}.jpg')\n",
    "            image_lr = Image.open(image_file).resize((W_pad_lr, H_pad_lr), Image.BILINEAR)\n",
    "            image_lr = np.array(image_lr) / 255.\n",
    "\n",
    "            # Color affinities (of type scipy.sparse.csr_matrix)\n",
    "            if which_color_matrix == 'knn':\n",
    "                W_lr = utils.knn_affinity(image_lr / 255)\n",
    "            elif which_color_matrix == 'rw':\n",
    "                W_lr = utils.rw_affinity(image_lr / 255)\n",
    "\n",
    "            # Convert to dense numpy array\n",
    "            W_color = np.array(W_lr.todense().astype(np.float32))\n",
    "            # print(\"W_color shape\", W_color.shape)\n",
    "\n",
    "        else:\n",
    "\n",
    "            # No color affinity\n",
    "            W_color = 0\n",
    "\n",
    "        # Combine\n",
    "        W_comb = W_feat + W_color * image_color_lambda  # combination\n",
    "        D_comb = np.array(utils.get_diagonal(W_comb).todense())  # is dense or sparse faster? not sure, should check\n",
    "        # print(\"W_comb shape= \", W_comb.shape, \"D_comb shape\",  D_comb.shape)\n",
    "        if lapnorm:\n",
    "            try:\n",
    "                eigenvalues, eigenvectors = eigsh(D_comb - W_comb, k=K, sigma=0, which='LM', M=D_comb)\n",
    "            except:\n",
    "                eigenvalues, eigenvectors = eigsh(D_comb - W_comb, k=K, which='SM', M=D_comb)\n",
    "        else:\n",
    "            try:\n",
    "                eigenvalues, eigenvectors = eigsh(D_comb - W_comb, k=K, sigma=0, which='LM')\n",
    "            except:\n",
    "                eigenvalues, eigenvectors = eigsh(D_comb - W_comb, k=K, which='SM')\n",
    "        eigenvalues, eigenvectors = torch.from_numpy(eigenvalues), torch.from_numpy(eigenvectors.T).float()\n",
    "    print(\"eigenvalues shape\", eigenvalues.shape, \"eigenvectors shape\", eigenvectors.shape)\n",
    "    # Sign ambiguity\n",
    "    for k in range(eigenvectors.shape[0]):\n",
    "        if 0.5 < torch.mean((eigenvectors[k] > 0).float()).item() < 1.0:  # reverse segment\n",
    "            eigenvectors[k] = 0 - eigenvectors[k]\n",
    "\n",
    "    # Save dict\n",
    "    output_dict = {'eigenvalues': eigenvalues, 'eigenvectors': eigenvectors}\n",
    "    torch.save(output_dict, output_file)"
   ]
  }
 ],
 "metadata": {
  "kernelspec": {
   "display_name": "Python 3 (ipykernel)",
   "language": "python",
   "name": "python3"
  },
  "language_info": {
   "codemirror_mode": {
    "name": "ipython",
    "version": 3
   },
   "file_extension": ".py",
   "mimetype": "text/x-python",
   "name": "python",
   "nbconvert_exporter": "python",
   "pygments_lexer": "ipython3",
   "version": "3.8.10"
  }
 },
 "nbformat": 4,
 "nbformat_minor": 1
}