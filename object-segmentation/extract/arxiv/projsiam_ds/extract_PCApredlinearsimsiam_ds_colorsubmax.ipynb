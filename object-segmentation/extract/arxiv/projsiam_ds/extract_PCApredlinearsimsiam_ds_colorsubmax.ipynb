{
 "cells": [
  {
   "cell_type": "code",
   "execution_count": 1,
   "metadata": {
    "pycharm": {
     "name": "#%%\n"
    }
   },
   "outputs": [],
   "source": [
    "# from functools import partial\n",
    "from pathlib import Path\n",
    "# from typing import Optional, Tuple\n",
    "# import cv2\n",
    "# import fire\n",
    "import numpy as np\n",
    "import torch\n",
    "import torch.nn.functional as F\n",
    "from accelerate import Accelerator\n",
    "from PIL import Image\n",
    "from scipy.sparse.linalg import eigsh\n",
    "# from sklearn.cluster import KMeans, MiniBatchKMeans\n",
    "from sklearn.decomposition import PCA\n",
    "# from torchvision.utils import draw_bounding_boxes\n",
    "from tqdm import tqdm\n",
    "import extract_utils as utils\n",
    "from torch.utils.data import Dataset, DataLoader\n",
    "from lightly.loss import NegativeCosineSimilarity\n",
    "from lightly.models.modules import SimSiamPredictionHead, SimSiamProjectionHead\n",
    "from torch import nn\n",
    "import torchvision\n",
    "from scipy.ndimage import affine_transform"
   ]
  },
  {
   "cell_type": "markdown",
   "metadata": {
    "pycharm": {
     "name": "#%% md\n"
    }
   },
   "source": [
    "## Extract Eigen Vectors"
   ]
  },
  {
   "cell_type": "code",
   "execution_count": 2,
   "metadata": {
    "pycharm": {
     "name": "#%%\n"
    }
   },
   "outputs": [],
   "source": [
    "images_root=\"/home/phdcs2/Hard_Disk/Datasets/Deep-Spectral-Segmentation/data/object-segmentation/ECSSD/images\"\n",
    "features_dir=\"/home/phdcs2/Hard_Disk/Datasets/Deep-Spectral-Segmentation/data/object-segmentation/ECSSD/features/dino_vits16\"\n",
    "output_dir=\"/home/phdcs2/Hard_Disk/Datasets/Deep-Spectral-Segmentation/data/object-segmentation/ECSSD/eigs_dot1PCA64pred_ds_10_colorsubmax\"\n",
    "which_matrix= 'laplacian'\n",
    "which_color_matrix= 'rw'      #'knn'\n",
    "which_features= 'k'\n",
    "normalize=True\n",
    "threshold_at_zero=True\n",
    "lapnorm= True\n",
    "K= 5\n",
    "image_downsample_factor = None\n",
    "image_color_lambda = 8.0\n",
    "multiprocessing = 0\n",
    "batch_size=2\n",
    "epochs=10"
   ]
  },
  {
   "cell_type": "markdown",
   "metadata": {
    "pycharm": {
     "name": "#%% md\n"
    }
   },
   "source": [
    "## Incorporating SimSiam"
   ]
  },
  {
   "cell_type": "code",
   "execution_count": 3,
   "metadata": {
    "pycharm": {
     "name": "#%%\n"
    }
   },
   "outputs": [],
   "source": [
    "# Define a custom dataset class\n",
    "class Feature_Dataset(Dataset):\n",
    "    def __init__(self, features):\n",
    "        self.features = features\n",
    "\n",
    "    def __getitem__(self, index):\n",
    "        return self.features[index]\n",
    "\n",
    "    def __len__(self):\n",
    "        return len(self.features)"
   ]
  },
  {
   "cell_type": "code",
   "execution_count": 4,
   "metadata": {
    "pycharm": {
     "name": "#%%\n"
    }
   },
   "outputs": [],
   "source": [
    "# class SimSiam(nn.Module):\n",
    "#     def __init__(self):\n",
    "#         super().__init__()\n",
    "#         self.projection_head = SimSiamProjectionHead(feats.shape[1], 128,feats.shape[1])\n",
    "#         self.prediction_head = SimSiamPredictionHead(feats.shape[1], 128, feats.shape[1])\n",
    "#\n",
    "#     def forward(self, x):\n",
    "#         z = self.projection_head(x)\n",
    "#         p = self.prediction_head(z)\n",
    "#         z = z.detach()\n",
    "#         return z, p"
   ]
  },
  {
   "cell_type": "code",
   "execution_count": 5,
   "metadata": {
    "pycharm": {
     "name": "#%%\n"
    }
   },
   "outputs": [],
   "source": [
    "# def normalize_affinity_matrix(affinity_matrix, axis=0):\n",
    "#     if axis == 1:\n",
    "#         # Normalize by row-wise sums\n",
    "#         row_sums = torch.sum(affinity_matrix, dim=1, keepdim=True)\n",
    "#         print(row_sums)\n",
    "#         normalized_matrix = affinity_matrix / row_sums\n",
    "#     elif axis == 0:\n",
    "#         # Normalize by column-wise sums\n",
    "#         col_sums = torch.sum(affinity_matrix, dim=0, keepdim=True)\n",
    "#         normalized_matrix = affinity_matrix / col_sums\n",
    "#     else:\n",
    "#         raise ValueError(\"Invalid axis. Axis must be either 0 or 1.\")\n",
    "\n",
    "#     return normalized_matrix"
   ]
  },
  {
   "cell_type": "code",
   "execution_count": 7,
   "metadata": {
    "pycharm": {
     "name": "#%%\n"
    }
   },
   "outputs": [
    {
     "name": "stderr",
     "output_type": "stream",
     "text": [
      "  0%|          | 0/1000 [00:00<?, ?it/s]"
     ]
    },
    {
     "name": "stdout",
     "output_type": "stream",
     "text": [
      "0 /home/phdcs2/Hard_Disk/Datasets/Deep-Spectral-Segmentation/data/object-segmentation/ECSSD/features/dino_vits16/0001.pth\n",
      "dict_keys(['k', 'indices', 'file', 'id', 'model_name', 'patch_size', 'shape'])\n",
      "0001\n",
      "Starting Training\n",
      "epoch: 00, loss: -0.00277\n",
      "epoch: 01, loss: -0.01984\n",
      "epoch: 02, loss: -0.02589\n",
      "epoch: 03, loss: -0.02951\n",
      "epoch: 04, loss: -0.02991\n",
      "epoch: 05, loss: -0.03190\n",
      "epoch: 06, loss: -0.03352\n",
      "epoch: 07, loss: -0.03485\n",
      "epoch: 08, loss: -0.03520\n",
      "epoch: 09, loss: -0.03279\n",
      "torch.Size([400, 64])\n",
      "<class 'numpy.ndarray'>\n"
     ]
    },
    {
     "name": "stderr",
     "output_type": "stream",
     "text": [
      "  0%|          | 1/1000 [00:09<2:31:49,  9.12s/it]"
     ]
    },
    {
     "name": "stdout",
     "output_type": "stream",
     "text": [
      "eigenvalues shape torch.Size([5]) eigenvectors shape torch.Size([5, 400])\n",
      "1 /home/phdcs2/Hard_Disk/Datasets/Deep-Spectral-Segmentation/data/object-segmentation/ECSSD/features/dino_vits16/0002.pth\n",
      "dict_keys(['k', 'indices', 'file', 'id', 'model_name', 'patch_size', 'shape'])\n",
      "0002\n",
      "Starting Training\n",
      "epoch: 00, loss: -0.01792\n",
      "epoch: 01, loss: -0.04289\n",
      "epoch: 02, loss: -0.04886\n",
      "epoch: 03, loss: -0.05025\n",
      "epoch: 04, loss: -0.05042\n",
      "epoch: 05, loss: -0.05217\n",
      "epoch: 06, loss: -0.05577\n",
      "epoch: 07, loss: -0.05635\n",
      "epoch: 08, loss: -0.05590\n",
      "epoch: 09, loss: -0.05642\n",
      "torch.Size([400, 64])\n",
      "<class 'numpy.ndarray'>\n"
     ]
    },
    {
     "name": "stderr",
     "output_type": "stream",
     "text": [
      "  0%|          | 2/1000 [00:17<2:22:47,  8.58s/it]"
     ]
    },
    {
     "name": "stdout",
     "output_type": "stream",
     "text": [
      "eigenvalues shape torch.Size([5]) eigenvectors shape torch.Size([5, 400])\n",
      "2 /home/phdcs2/Hard_Disk/Datasets/Deep-Spectral-Segmentation/data/object-segmentation/ECSSD/features/dino_vits16/0003.pth\n",
      "dict_keys(['k', 'indices', 'file', 'id', 'model_name', 'patch_size', 'shape'])\n",
      "0003\n",
      "Starting Training\n",
      "epoch: 00, loss: -0.02328\n",
      "epoch: 01, loss: -0.04298\n",
      "epoch: 02, loss: -0.04721\n",
      "epoch: 03, loss: -0.04488\n",
      "epoch: 04, loss: -0.04680\n",
      "epoch: 05, loss: -0.04760\n",
      "epoch: 06, loss: -0.04831\n",
      "epoch: 07, loss: -0.04719\n",
      "epoch: 08, loss: -0.04849\n",
      "epoch: 09, loss: -0.04728\n",
      "torch.Size([400, 64])\n",
      "<class 'numpy.ndarray'>\n"
     ]
    },
    {
     "name": "stderr",
     "output_type": "stream",
     "text": [
      "  0%|          | 3/1000 [00:25<2:19:15,  8.38s/it]"
     ]
    },
    {
     "name": "stdout",
     "output_type": "stream",
     "text": [
      "eigenvalues shape torch.Size([5]) eigenvectors shape torch.Size([5, 400])\n",
      "3 /home/phdcs2/Hard_Disk/Datasets/Deep-Spectral-Segmentation/data/object-segmentation/ECSSD/features/dino_vits16/0004.pth\n",
      "dict_keys(['k', 'indices', 'file', 'id', 'model_name', 'patch_size', 'shape'])\n",
      "0004\n",
      "Starting Training\n",
      "epoch: 00, loss: -0.03627\n",
      "epoch: 01, loss: -0.05286\n",
      "epoch: 02, loss: -0.05392\n",
      "epoch: 03, loss: -0.05442\n",
      "epoch: 04, loss: -0.05473\n",
      "epoch: 05, loss: -0.05507\n",
      "epoch: 06, loss: -0.05532\n",
      "epoch: 07, loss: -0.05546\n",
      "epoch: 08, loss: -0.05555\n"
     ]
    },
    {
     "name": "stderr",
     "output_type": "stream",
     "text": [
      "  0%|          | 4/1000 [00:33<2:15:00,  8.13s/it]"
     ]
    },
    {
     "name": "stdout",
     "output_type": "stream",
     "text": [
      "epoch: 09, loss: -0.05584\n",
      "torch.Size([400, 64])\n",
      "<class 'numpy.ndarray'>\n",
      "eigenvalues shape torch.Size([5]) eigenvectors shape torch.Size([5, 400])\n",
      "4 /home/phdcs2/Hard_Disk/Datasets/Deep-Spectral-Segmentation/data/object-segmentation/ECSSD/features/dino_vits16/0005.pth\n",
      "dict_keys(['k', 'indices', 'file', 'id', 'model_name', 'patch_size', 'shape'])\n",
      "0005\n",
      "Starting Training\n",
      "epoch: 00, loss: -0.01447\n",
      "epoch: 01, loss: -0.03381\n",
      "epoch: 02, loss: -0.03730\n",
      "epoch: 03, loss: -0.03837\n",
      "epoch: 04, loss: -0.03843\n",
      "epoch: 05, loss: -0.03919\n",
      "epoch: 06, loss: -0.04099\n",
      "epoch: 07, loss: -0.04128\n",
      "epoch: 08, loss: -0.04035\n",
      "epoch: 09, loss: -0.04136\n",
      "torch.Size([400, 64])\n",
      "<class 'numpy.ndarray'>\n"
     ]
    },
    {
     "name": "stderr",
     "output_type": "stream",
     "text": [
      "  0%|          | 5/1000 [00:41<2:14:01,  8.08s/it]"
     ]
    },
    {
     "name": "stdout",
     "output_type": "stream",
     "text": [
      "eigenvalues shape torch.Size([5]) eigenvectors shape torch.Size([5, 400])\n",
      "5 /home/phdcs2/Hard_Disk/Datasets/Deep-Spectral-Segmentation/data/object-segmentation/ECSSD/features/dino_vits16/0006.pth\n",
      "dict_keys(['k', 'indices', 'file', 'id', 'model_name', 'patch_size', 'shape'])\n",
      "0006\n",
      "Starting Training\n",
      "epoch: 00, loss: -0.02891\n",
      "epoch: 01, loss: -0.05899\n",
      "epoch: 02, loss: -0.06107\n",
      "epoch: 03, loss: -0.06225\n",
      "epoch: 04, loss: -0.06424\n",
      "epoch: 05, loss: -0.06473\n",
      "epoch: 06, loss: -0.06458\n",
      "epoch: 07, loss: -0.06468\n",
      "epoch: 08, loss: -0.06471\n",
      "epoch: 09, loss: -0.06491\n",
      "torch.Size([400, 64])\n",
      "<class 'numpy.ndarray'>\n"
     ]
    },
    {
     "name": "stderr",
     "output_type": "stream",
     "text": [
      "  1%|          | 6/1000 [00:50<2:18:55,  8.39s/it]"
     ]
    },
    {
     "name": "stdout",
     "output_type": "stream",
     "text": [
      "eigenvalues shape torch.Size([5]) eigenvectors shape torch.Size([5, 400])\n",
      "6 /home/phdcs2/Hard_Disk/Datasets/Deep-Spectral-Segmentation/data/object-segmentation/ECSSD/features/dino_vits16/0007.pth\n",
      "dict_keys(['k', 'indices', 'file', 'id', 'model_name', 'patch_size', 'shape'])\n",
      "0007\n",
      "Starting Training\n",
      "epoch: 00, loss: -0.03610\n",
      "epoch: 01, loss: -0.06149\n",
      "epoch: 02, loss: -0.06905\n",
      "epoch: 03, loss: -0.07241\n",
      "epoch: 04, loss: -0.07207\n",
      "epoch: 05, loss: -0.07285\n",
      "epoch: 06, loss: -0.07129\n",
      "epoch: 07, loss: -0.07078\n",
      "epoch: 08, loss: -0.07064\n",
      "epoch: 09, loss: -0.07221\n",
      "torch.Size([400, 64])\n",
      "<class 'numpy.ndarray'>\n"
     ]
    },
    {
     "name": "stderr",
     "output_type": "stream",
     "text": [
      "  1%|          | 7/1000 [00:58<2:16:29,  8.25s/it]"
     ]
    },
    {
     "name": "stdout",
     "output_type": "stream",
     "text": [
      "eigenvalues shape torch.Size([5]) eigenvectors shape torch.Size([5, 400])\n",
      "7 /home/phdcs2/Hard_Disk/Datasets/Deep-Spectral-Segmentation/data/object-segmentation/ECSSD/features/dino_vits16/0008.pth\n",
      "dict_keys(['k', 'indices', 'file', 'id', 'model_name', 'patch_size', 'shape'])\n",
      "0008\n",
      "Starting Training\n",
      "epoch: 00, loss: -0.02815\n",
      "epoch: 01, loss: -0.06324\n",
      "epoch: 02, loss: -0.06834\n",
      "epoch: 03, loss: -0.06800\n",
      "epoch: 04, loss: -0.07005\n",
      "epoch: 05, loss: -0.07232\n",
      "epoch: 06, loss: -0.07412\n",
      "epoch: 07, loss: -0.07430\n",
      "epoch: 08, loss: -0.07379\n",
      "epoch: 09, loss: -0.07670\n",
      "torch.Size([400, 64])\n",
      "<class 'numpy.ndarray'>\n"
     ]
    },
    {
     "name": "stderr",
     "output_type": "stream",
     "text": [
      "  1%|          | 8/1000 [01:06<2:19:02,  8.41s/it]"
     ]
    },
    {
     "name": "stdout",
     "output_type": "stream",
     "text": [
      "eigenvalues shape torch.Size([5]) eigenvectors shape torch.Size([5, 400])\n",
      "8 /home/phdcs2/Hard_Disk/Datasets/Deep-Spectral-Segmentation/data/object-segmentation/ECSSD/features/dino_vits16/0009.pth\n",
      "dict_keys(['k', 'indices', 'file', 'id', 'model_name', 'patch_size', 'shape'])\n",
      "0009\n",
      "Starting Training\n",
      "epoch: 00, loss: -0.03092\n",
      "epoch: 01, loss: -0.05038\n",
      "epoch: 02, loss: -0.05218\n",
      "epoch: 03, loss: -0.05230\n",
      "epoch: 04, loss: -0.05267\n",
      "epoch: 05, loss: -0.05269\n",
      "epoch: 06, loss: -0.05285\n",
      "epoch: 07, loss: -0.05315\n",
      "epoch: 08, loss: -0.05311\n",
      "epoch: 09, loss: -0.05321\n",
      "torch.Size([400, 64])\n",
      "<class 'numpy.ndarray'>\n"
     ]
    },
    {
     "name": "stderr",
     "output_type": "stream",
     "text": [
      "  1%|          | 9/1000 [01:15<2:22:00,  8.60s/it]"
     ]
    },
    {
     "name": "stdout",
     "output_type": "stream",
     "text": [
      "eigenvalues shape torch.Size([5]) eigenvectors shape torch.Size([5, 400])\n",
      "9 /home/phdcs2/Hard_Disk/Datasets/Deep-Spectral-Segmentation/data/object-segmentation/ECSSD/features/dino_vits16/0010.pth\n",
      "dict_keys(['k', 'indices', 'file', 'id', 'model_name', 'patch_size', 'shape'])\n",
      "0010\n",
      "Starting Training\n",
      "epoch: 00, loss: -0.00160\n",
      "epoch: 01, loss: -0.01976\n",
      "epoch: 02, loss: -0.02548\n",
      "epoch: 03, loss: -0.02681\n",
      "epoch: 04, loss: -0.02784\n",
      "epoch: 05, loss: -0.02826\n",
      "epoch: 06, loss: -0.02811\n",
      "epoch: 07, loss: -0.02861\n",
      "epoch: 08, loss: -0.02860\n",
      "epoch: 09, loss: -0.02877\n",
      "torch.Size([400, 64])\n",
      "<class 'numpy.ndarray'>\n"
     ]
    },
    {
     "name": "stderr",
     "output_type": "stream",
     "text": [
      "  1%|          | 10/1000 [01:23<2:14:26,  8.15s/it]"
     ]
    },
    {
     "name": "stdout",
     "output_type": "stream",
     "text": [
      "eigenvalues shape torch.Size([5]) eigenvectors shape torch.Size([5, 400])\n",
      "10 /home/phdcs2/Hard_Disk/Datasets/Deep-Spectral-Segmentation/data/object-segmentation/ECSSD/features/dino_vits16/0011.pth\n",
      "dict_keys(['k', 'indices', 'file', 'id', 'model_name', 'patch_size', 'shape'])\n",
      "0011\n",
      "Starting Training\n",
      "epoch: 00, loss: -0.02563\n",
      "epoch: 01, loss: -0.05530\n",
      "epoch: 02, loss: -0.05846\n",
      "epoch: 03, loss: -0.05891\n",
      "epoch: 04, loss: -0.05935\n",
      "epoch: 05, loss: -0.05929\n",
      "epoch: 06, loss: -0.05944\n",
      "epoch: 07, loss: -0.05957\n",
      "epoch: 08, loss: -0.05976\n"
     ]
    },
    {
     "name": "stderr",
     "output_type": "stream",
     "text": [
      "  1%|          | 11/1000 [01:30<2:13:07,  8.08s/it]"
     ]
    },
    {
     "name": "stdout",
     "output_type": "stream",
     "text": [
      "epoch: 09, loss: -0.06000\n",
      "torch.Size([400, 64])\n",
      "<class 'numpy.ndarray'>\n",
      "eigenvalues shape torch.Size([5]) eigenvectors shape torch.Size([5, 400])\n",
      "11 /home/phdcs2/Hard_Disk/Datasets/Deep-Spectral-Segmentation/data/object-segmentation/ECSSD/features/dino_vits16/0012.pth\n",
      "dict_keys(['k', 'indices', 'file', 'id', 'model_name', 'patch_size', 'shape'])\n",
      "0012\n",
      "Starting Training\n",
      "epoch: 00, loss: -0.01532\n",
      "epoch: 01, loss: -0.04434\n",
      "epoch: 02, loss: -0.04811\n",
      "epoch: 03, loss: -0.04899\n",
      "epoch: 04, loss: -0.04930\n",
      "epoch: 05, loss: -0.04961\n",
      "epoch: 06, loss: -0.04985\n",
      "epoch: 07, loss: -0.04998\n",
      "epoch: 08, loss: -0.05005\n",
      "epoch: 09, loss: -0.05023\n",
      "torch.Size([400, 64])\n",
      "<class 'numpy.ndarray'>\n"
     ]
    },
    {
     "name": "stderr",
     "output_type": "stream",
     "text": [
      "  1%|          | 12/1000 [01:39<2:13:55,  8.13s/it]"
     ]
    },
    {
     "name": "stdout",
     "output_type": "stream",
     "text": [
      "eigenvalues shape torch.Size([5]) eigenvectors shape torch.Size([5, 400])\n",
      "12 /home/phdcs2/Hard_Disk/Datasets/Deep-Spectral-Segmentation/data/object-segmentation/ECSSD/features/dino_vits16/0013.pth\n",
      "dict_keys(['k', 'indices', 'file', 'id', 'model_name', 'patch_size', 'shape'])\n",
      "0013\n",
      "Starting Training\n",
      "epoch: 00, loss: -0.00958\n",
      "epoch: 01, loss: -0.02631\n",
      "epoch: 02, loss: -0.02990\n",
      "epoch: 03, loss: -0.03211\n",
      "epoch: 04, loss: -0.03215\n",
      "epoch: 05, loss: -0.03212\n",
      "epoch: 06, loss: -0.03225\n",
      "epoch: 07, loss: -0.03293\n",
      "epoch: 08, loss: -0.03267\n",
      "epoch: 09, loss: -0.03308\n",
      "torch.Size([400, 64])\n",
      "<class 'numpy.ndarray'>\n"
     ]
    },
    {
     "name": "stderr",
     "output_type": "stream",
     "text": [
      "  1%|▏         | 13/1000 [01:46<2:11:13,  7.98s/it]"
     ]
    },
    {
     "name": "stdout",
     "output_type": "stream",
     "text": [
      "eigenvalues shape torch.Size([5]) eigenvectors shape torch.Size([5, 400])\n",
      "13 /home/phdcs2/Hard_Disk/Datasets/Deep-Spectral-Segmentation/data/object-segmentation/ECSSD/features/dino_vits16/0014.pth\n",
      "dict_keys(['k', 'indices', 'file', 'id', 'model_name', 'patch_size', 'shape'])\n",
      "0014\n",
      "Starting Training\n",
      "epoch: 00, loss: 0.00290\n",
      "epoch: 01, loss: -0.00470\n",
      "epoch: 02, loss: -0.00836\n",
      "epoch: 03, loss: -0.01042\n",
      "epoch: 04, loss: -0.01162\n",
      "epoch: 05, loss: -0.01243\n",
      "epoch: 06, loss: -0.01288\n",
      "epoch: 07, loss: -0.01313\n",
      "epoch: 08, loss: -0.01367\n",
      "epoch: 09, loss: -0.01378\n",
      "torch.Size([400, 64])\n",
      "<class 'numpy.ndarray'>\n"
     ]
    },
    {
     "name": "stderr",
     "output_type": "stream",
     "text": [
      "  1%|▏         | 14/1000 [01:54<2:11:16,  7.99s/it]"
     ]
    },
    {
     "name": "stdout",
     "output_type": "stream",
     "text": [
      "eigenvalues shape torch.Size([5]) eigenvectors shape torch.Size([5, 400])\n",
      "14 /home/phdcs2/Hard_Disk/Datasets/Deep-Spectral-Segmentation/data/object-segmentation/ECSSD/features/dino_vits16/0015.pth\n",
      "dict_keys(['k', 'indices', 'file', 'id', 'model_name', 'patch_size', 'shape'])\n",
      "0015\n",
      "Starting Training\n",
      "epoch: 00, loss: -0.02967\n",
      "epoch: 01, loss: -0.05525\n",
      "epoch: 02, loss: -0.05869\n",
      "epoch: 03, loss: -0.06267\n",
      "epoch: 04, loss: -0.06222\n",
      "epoch: 05, loss: -0.06092\n",
      "epoch: 06, loss: -0.06070\n",
      "epoch: 07, loss: -0.06605\n",
      "epoch: 08, loss: -0.06529\n",
      "epoch: 09, loss: -0.06508\n",
      "torch.Size([400, 64])\n",
      "<class 'numpy.ndarray'>\n"
     ]
    },
    {
     "name": "stderr",
     "output_type": "stream",
     "text": [
      "  2%|▏         | 15/1000 [02:03<2:16:37,  8.32s/it]"
     ]
    },
    {
     "name": "stdout",
     "output_type": "stream",
     "text": [
      "eigenvalues shape torch.Size([5]) eigenvectors shape torch.Size([5, 400])\n",
      "15 /home/phdcs2/Hard_Disk/Datasets/Deep-Spectral-Segmentation/data/object-segmentation/ECSSD/features/dino_vits16/0016.pth\n",
      "dict_keys(['k', 'indices', 'file', 'id', 'model_name', 'patch_size', 'shape'])\n",
      "0016\n",
      "Starting Training\n",
      "epoch: 00, loss: -0.00122\n",
      "epoch: 01, loss: -0.01828\n",
      "epoch: 02, loss: -0.02403\n",
      "epoch: 03, loss: -0.02624\n",
      "epoch: 04, loss: -0.02722\n",
      "epoch: 05, loss: -0.02746\n",
      "epoch: 06, loss: -0.02792\n",
      "epoch: 07, loss: -0.02813\n",
      "epoch: 08, loss: -0.02834\n",
      "epoch: 09, loss: -0.02852\n",
      "torch.Size([400, 64])\n",
      "<class 'numpy.ndarray'>\n"
     ]
    },
    {
     "name": "stderr",
     "output_type": "stream",
     "text": [
      "  2%|▏         | 16/1000 [02:11<2:14:19,  8.19s/it]"
     ]
    },
    {
     "name": "stdout",
     "output_type": "stream",
     "text": [
      "eigenvalues shape torch.Size([5]) eigenvectors shape torch.Size([5, 400])\n",
      "16 /home/phdcs2/Hard_Disk/Datasets/Deep-Spectral-Segmentation/data/object-segmentation/ECSSD/features/dino_vits16/0017.pth\n",
      "dict_keys(['k', 'indices', 'file', 'id', 'model_name', 'patch_size', 'shape'])\n",
      "0017\n",
      "Starting Training\n",
      "epoch: 00, loss: -0.01864\n",
      "epoch: 01, loss: -0.03210\n",
      "epoch: 02, loss: -0.03462\n",
      "epoch: 03, loss: -0.03574\n",
      "epoch: 04, loss: -0.03618\n",
      "epoch: 05, loss: -0.03664\n",
      "epoch: 06, loss: -0.03669\n",
      "epoch: 07, loss: -0.03681\n",
      "epoch: 08, loss: -0.03688\n",
      "epoch: 09, loss: -0.03706\n",
      "torch.Size([400, 64])\n",
      "<class 'numpy.ndarray'>\n"
     ]
    },
    {
     "name": "stderr",
     "output_type": "stream",
     "text": [
      "  2%|▏         | 17/1000 [02:18<2:04:38,  7.61s/it]"
     ]
    },
    {
     "name": "stdout",
     "output_type": "stream",
     "text": [
      "eigenvalues shape torch.Size([5]) eigenvectors shape torch.Size([5, 400])\n",
      "17 /home/phdcs2/Hard_Disk/Datasets/Deep-Spectral-Segmentation/data/object-segmentation/ECSSD/features/dino_vits16/0018.pth\n",
      "dict_keys(['k', 'indices', 'file', 'id', 'model_name', 'patch_size', 'shape'])\n",
      "0018\n",
      "Starting Training\n",
      "epoch: 00, loss: -0.05140\n",
      "epoch: 01, loss: -0.07015\n",
      "epoch: 02, loss: -0.07116\n",
      "epoch: 03, loss: -0.07169\n",
      "epoch: 04, loss: -0.07219\n",
      "epoch: 05, loss: -0.07228\n",
      "epoch: 06, loss: -0.07245\n",
      "epoch: 07, loss: -0.07268\n",
      "epoch: 08, loss: -0.07279\n"
     ]
    },
    {
     "name": "stderr",
     "output_type": "stream",
     "text": [
      "  2%|▏         | 18/1000 [02:24<1:56:35,  7.12s/it]"
     ]
    },
    {
     "name": "stdout",
     "output_type": "stream",
     "text": [
      "epoch: 09, loss: -0.07283\n",
      "torch.Size([400, 64])\n",
      "<class 'numpy.ndarray'>\n",
      "eigenvalues shape torch.Size([5]) eigenvectors shape torch.Size([5, 400])\n",
      "18 /home/phdcs2/Hard_Disk/Datasets/Deep-Spectral-Segmentation/data/object-segmentation/ECSSD/features/dino_vits16/0019.pth\n",
      "dict_keys(['k', 'indices', 'file', 'id', 'model_name', 'patch_size', 'shape'])\n",
      "0019\n",
      "Starting Training\n",
      "epoch: 00, loss: -0.02670\n",
      "epoch: 01, loss: -0.04896\n",
      "epoch: 02, loss: -0.05217\n",
      "epoch: 03, loss: -0.05191\n",
      "epoch: 04, loss: -0.05217\n",
      "epoch: 05, loss: -0.05245\n",
      "epoch: 06, loss: -0.05344\n",
      "epoch: 07, loss: -0.05342\n",
      "epoch: 08, loss: -0.05356\n",
      "epoch: 09, loss: -0.05327\n",
      "torch.Size([400, 64])\n",
      "<class 'numpy.ndarray'>\n"
     ]
    },
    {
     "name": "stderr",
     "output_type": "stream",
     "text": [
      "  2%|▏         | 19/1000 [02:31<1:59:28,  7.31s/it]"
     ]
    },
    {
     "name": "stdout",
     "output_type": "stream",
     "text": [
      "eigenvalues shape torch.Size([5]) eigenvectors shape torch.Size([5, 400])\n",
      "19 /home/phdcs2/Hard_Disk/Datasets/Deep-Spectral-Segmentation/data/object-segmentation/ECSSD/features/dino_vits16/0020.pth\n",
      "dict_keys(['k', 'indices', 'file', 'id', 'model_name', 'patch_size', 'shape'])\n",
      "0020\n",
      "Starting Training\n",
      "epoch: 00, loss: -0.05159\n",
      "epoch: 01, loss: -0.10271\n",
      "epoch: 02, loss: -0.10193\n",
      "epoch: 03, loss: -0.10291\n",
      "epoch: 04, loss: -0.10674\n",
      "epoch: 05, loss: -0.10605\n",
      "epoch: 06, loss: -0.10819\n",
      "epoch: 07, loss: -0.11003\n",
      "epoch: 08, loss: -0.10913\n",
      "epoch: 09, loss: -0.10791\n",
      "torch.Size([400, 64])\n",
      "<class 'numpy.ndarray'>\n"
     ]
    },
    {
     "name": "stderr",
     "output_type": "stream",
     "text": [
      "  2%|▏         | 20/1000 [02:38<1:56:05,  7.11s/it]"
     ]
    },
    {
     "name": "stdout",
     "output_type": "stream",
     "text": [
      "eigenvalues shape torch.Size([5]) eigenvectors shape torch.Size([5, 400])\n",
      "20 /home/phdcs2/Hard_Disk/Datasets/Deep-Spectral-Segmentation/data/object-segmentation/ECSSD/features/dino_vits16/0021.pth\n",
      "dict_keys(['k', 'indices', 'file', 'id', 'model_name', 'patch_size', 'shape'])\n",
      "0021\n",
      "Starting Training\n",
      "epoch: 00, loss: -0.05031\n",
      "epoch: 01, loss: -0.08140\n",
      "epoch: 02, loss: -0.08288\n",
      "epoch: 03, loss: -0.08272\n",
      "epoch: 04, loss: -0.08321\n",
      "epoch: 05, loss: -0.08323\n",
      "epoch: 06, loss: -0.08335\n",
      "epoch: 07, loss: -0.08350\n",
      "epoch: 08, loss: -0.08368\n",
      "epoch: 09, loss: -0.08365\n",
      "torch.Size([400, 64])\n",
      "<class 'numpy.ndarray'>\n"
     ]
    },
    {
     "name": "stderr",
     "output_type": "stream",
     "text": [
      "  2%|▏         | 21/1000 [02:45<1:55:08,  7.06s/it]"
     ]
    },
    {
     "name": "stdout",
     "output_type": "stream",
     "text": [
      "eigenvalues shape torch.Size([5]) eigenvectors shape torch.Size([5, 400])\n",
      "21 /home/phdcs2/Hard_Disk/Datasets/Deep-Spectral-Segmentation/data/object-segmentation/ECSSD/features/dino_vits16/0022.pth\n",
      "dict_keys(['k', 'indices', 'file', 'id', 'model_name', 'patch_size', 'shape'])\n",
      "0022\n",
      "Starting Training\n",
      "epoch: 00, loss: -0.02722\n",
      "epoch: 01, loss: -0.04719\n",
      "epoch: 02, loss: -0.04893\n",
      "epoch: 03, loss: -0.04950\n",
      "epoch: 04, loss: -0.05012\n",
      "epoch: 05, loss: -0.05003\n",
      "epoch: 06, loss: -0.05042\n",
      "epoch: 07, loss: -0.05052\n",
      "epoch: 08, loss: -0.05058\n",
      "epoch: 09, loss: -0.05068\n",
      "torch.Size([400, 64])\n",
      "<class 'numpy.ndarray'>\n"
     ]
    },
    {
     "name": "stderr",
     "output_type": "stream",
     "text": [
      "  2%|▏         | 22/1000 [02:52<1:53:54,  6.99s/it]"
     ]
    },
    {
     "name": "stdout",
     "output_type": "stream",
     "text": [
      "eigenvalues shape torch.Size([5]) eigenvectors shape torch.Size([5, 400])\n",
      "22 /home/phdcs2/Hard_Disk/Datasets/Deep-Spectral-Segmentation/data/object-segmentation/ECSSD/features/dino_vits16/0023.pth\n",
      "dict_keys(['k', 'indices', 'file', 'id', 'model_name', 'patch_size', 'shape'])\n",
      "0023\n",
      "Starting Training\n",
      "epoch: 00, loss: -0.02097\n",
      "epoch: 01, loss: -0.04923\n",
      "epoch: 02, loss: -0.05261\n",
      "epoch: 03, loss: -0.05363\n",
      "epoch: 04, loss: -0.05337\n",
      "epoch: 05, loss: -0.05411\n",
      "epoch: 06, loss: -0.05383\n",
      "epoch: 07, loss: -0.05410\n",
      "epoch: 08, loss: -0.05434\n",
      "epoch: 09, loss: -0.05430\n",
      "torch.Size([400, 64])\n",
      "<class 'numpy.ndarray'>\n"
     ]
    },
    {
     "name": "stderr",
     "output_type": "stream",
     "text": [
      "  2%|▏         | 23/1000 [02:58<1:49:02,  6.70s/it]"
     ]
    },
    {
     "name": "stdout",
     "output_type": "stream",
     "text": [
      "eigenvalues shape torch.Size([5]) eigenvectors shape torch.Size([5, 400])\n",
      "23 /home/phdcs2/Hard_Disk/Datasets/Deep-Spectral-Segmentation/data/object-segmentation/ECSSD/features/dino_vits16/0024.pth\n",
      "dict_keys(['k', 'indices', 'file', 'id', 'model_name', 'patch_size', 'shape'])\n",
      "0024\n",
      "Starting Training\n",
      "epoch: 00, loss: -0.01205\n",
      "epoch: 01, loss: -0.03149\n",
      "epoch: 02, loss: -0.03461\n",
      "epoch: 03, loss: -0.03591\n",
      "epoch: 04, loss: -0.03612\n",
      "epoch: 05, loss: -0.03619\n",
      "epoch: 06, loss: -0.03649\n",
      "epoch: 07, loss: -0.03659\n",
      "epoch: 08, loss: -0.03668\n",
      "epoch: 09, loss: -0.03683\n",
      "torch.Size([400, 64])\n",
      "<class 'numpy.ndarray'>\n"
     ]
    },
    {
     "name": "stderr",
     "output_type": "stream",
     "text": [
      "  2%|▏         | 24/1000 [03:04<1:47:55,  6.64s/it]"
     ]
    },
    {
     "name": "stdout",
     "output_type": "stream",
     "text": [
      "eigenvalues shape torch.Size([5]) eigenvectors shape torch.Size([5, 400])\n",
      "24 /home/phdcs2/Hard_Disk/Datasets/Deep-Spectral-Segmentation/data/object-segmentation/ECSSD/features/dino_vits16/0025.pth\n",
      "dict_keys(['k', 'indices', 'file', 'id', 'model_name', 'patch_size', 'shape'])\n",
      "0025\n",
      "Starting Training\n",
      "epoch: 00, loss: -0.01607\n",
      "epoch: 01, loss: -0.03929\n",
      "epoch: 02, loss: -0.04261\n",
      "epoch: 03, loss: -0.04366\n",
      "epoch: 04, loss: -0.04400\n",
      "epoch: 05, loss: -0.04423\n",
      "epoch: 06, loss: -0.04435\n",
      "epoch: 07, loss: -0.04462\n",
      "epoch: 08, loss: -0.04480\n",
      "epoch: 09, loss: -0.04481\n",
      "torch.Size([400, 64])\n",
      "<class 'numpy.ndarray'>\n"
     ]
    },
    {
     "name": "stderr",
     "output_type": "stream",
     "text": [
      "  2%|▎         | 25/1000 [03:10<1:44:31,  6.43s/it]"
     ]
    },
    {
     "name": "stdout",
     "output_type": "stream",
     "text": [
      "eigenvalues shape torch.Size([5]) eigenvectors shape torch.Size([5, 400])\n",
      "25 /home/phdcs2/Hard_Disk/Datasets/Deep-Spectral-Segmentation/data/object-segmentation/ECSSD/features/dino_vits16/0026.pth\n",
      "dict_keys(['k', 'indices', 'file', 'id', 'model_name', 'patch_size', 'shape'])\n",
      "0026\n",
      "Starting Training\n",
      "epoch: 00, loss: -0.05748\n",
      "epoch: 01, loss: -0.09113\n",
      "epoch: 02, loss: -0.09275\n",
      "epoch: 03, loss: -0.09834\n",
      "epoch: 04, loss: -0.09866\n",
      "epoch: 05, loss: -0.09811\n",
      "epoch: 06, loss: -0.09712\n",
      "epoch: 07, loss: -0.10138\n",
      "epoch: 08, loss: -0.09898\n",
      "epoch: 09, loss: -0.09966\n",
      "torch.Size([400, 64])\n",
      "<class 'numpy.ndarray'>\n"
     ]
    },
    {
     "name": "stderr",
     "output_type": "stream",
     "text": [
      "  3%|▎         | 26/1000 [03:17<1:47:32,  6.62s/it]"
     ]
    },
    {
     "name": "stdout",
     "output_type": "stream",
     "text": [
      "eigenvalues shape torch.Size([5]) eigenvectors shape torch.Size([5, 400])\n",
      "26 /home/phdcs2/Hard_Disk/Datasets/Deep-Spectral-Segmentation/data/object-segmentation/ECSSD/features/dino_vits16/0027.pth\n",
      "dict_keys(['k', 'indices', 'file', 'id', 'model_name', 'patch_size', 'shape'])\n",
      "0027\n",
      "Starting Training\n",
      "epoch: 00, loss: -0.01988\n",
      "epoch: 01, loss: -0.04155\n",
      "epoch: 02, loss: -0.04585\n",
      "epoch: 03, loss: -0.04699\n",
      "epoch: 04, loss: -0.04695\n",
      "epoch: 05, loss: -0.04716\n",
      "epoch: 06, loss: -0.04805\n",
      "epoch: 07, loss: -0.04801\n",
      "epoch: 08, loss: -0.04802\n",
      "epoch: 09, loss: -0.04783\n",
      "torch.Size([400, 64])\n",
      "<class 'numpy.ndarray'>\n"
     ]
    },
    {
     "name": "stderr",
     "output_type": "stream",
     "text": [
      "  3%|▎         | 27/1000 [03:24<1:49:27,  6.75s/it]"
     ]
    },
    {
     "name": "stdout",
     "output_type": "stream",
     "text": [
      "eigenvalues shape torch.Size([5]) eigenvectors shape torch.Size([5, 400])\n",
      "27 /home/phdcs2/Hard_Disk/Datasets/Deep-Spectral-Segmentation/data/object-segmentation/ECSSD/features/dino_vits16/0028.pth\n",
      "dict_keys(['k', 'indices', 'file', 'id', 'model_name', 'patch_size', 'shape'])\n",
      "0028\n",
      "Starting Training\n",
      "epoch: 00, loss: -0.02446\n",
      "epoch: 01, loss: -0.04996\n",
      "epoch: 02, loss: -0.05218\n",
      "epoch: 03, loss: -0.05262\n",
      "epoch: 04, loss: -0.05305\n",
      "epoch: 05, loss: -0.05319\n",
      "epoch: 06, loss: -0.05360\n",
      "epoch: 07, loss: -0.05378\n",
      "epoch: 08, loss: -0.05369\n",
      "epoch: 09, loss: -0.05404\n",
      "torch.Size([400, 64])\n",
      "<class 'numpy.ndarray'>\n"
     ]
    },
    {
     "name": "stderr",
     "output_type": "stream",
     "text": [
      "  3%|▎         | 28/1000 [03:32<1:52:43,  6.96s/it]"
     ]
    },
    {
     "name": "stdout",
     "output_type": "stream",
     "text": [
      "eigenvalues shape torch.Size([5]) eigenvectors shape torch.Size([5, 400])\n",
      "28 /home/phdcs2/Hard_Disk/Datasets/Deep-Spectral-Segmentation/data/object-segmentation/ECSSD/features/dino_vits16/0029.pth\n",
      "dict_keys(['k', 'indices', 'file', 'id', 'model_name', 'patch_size', 'shape'])\n",
      "0029\n",
      "Starting Training\n",
      "epoch: 00, loss: -0.03392\n",
      "epoch: 01, loss: -0.07044\n",
      "epoch: 02, loss: -0.07536\n",
      "epoch: 03, loss: -0.07697\n",
      "epoch: 04, loss: -0.07911\n",
      "epoch: 05, loss: -0.08003\n",
      "epoch: 06, loss: -0.07918\n",
      "epoch: 07, loss: -0.08019\n",
      "epoch: 08, loss: -0.08002\n",
      "epoch: 09, loss: -0.08107\n",
      "torch.Size([400, 64])\n",
      "<class 'numpy.ndarray'>\n"
     ]
    },
    {
     "name": "stderr",
     "output_type": "stream",
     "text": [
      "  3%|▎         | 29/1000 [03:39<1:52:16,  6.94s/it]"
     ]
    },
    {
     "name": "stdout",
     "output_type": "stream",
     "text": [
      "eigenvalues shape torch.Size([5]) eigenvectors shape torch.Size([5, 400])\n",
      "29 /home/phdcs2/Hard_Disk/Datasets/Deep-Spectral-Segmentation/data/object-segmentation/ECSSD/features/dino_vits16/0030.pth\n",
      "dict_keys(['k', 'indices', 'file', 'id', 'model_name', 'patch_size', 'shape'])\n",
      "0030\n",
      "Starting Training\n",
      "epoch: 00, loss: -0.03244\n",
      "epoch: 01, loss: -0.05269\n",
      "epoch: 02, loss: -0.05485\n",
      "epoch: 03, loss: -0.05503\n",
      "epoch: 04, loss: -0.05555\n",
      "epoch: 05, loss: -0.05563\n",
      "epoch: 06, loss: -0.05589\n",
      "epoch: 07, loss: -0.05630\n",
      "epoch: 08, loss: -0.05610\n",
      "epoch: 09, loss: -0.05633\n",
      "torch.Size([400, 64])\n",
      "<class 'numpy.ndarray'>\n"
     ]
    },
    {
     "name": "stderr",
     "output_type": "stream",
     "text": [
      "  3%|▎         | 30/1000 [03:46<1:52:56,  6.99s/it]"
     ]
    },
    {
     "name": "stdout",
     "output_type": "stream",
     "text": [
      "eigenvalues shape torch.Size([5]) eigenvectors shape torch.Size([5, 400])\n",
      "30 /home/phdcs2/Hard_Disk/Datasets/Deep-Spectral-Segmentation/data/object-segmentation/ECSSD/features/dino_vits16/0031.pth\n",
      "dict_keys(['k', 'indices', 'file', 'id', 'model_name', 'patch_size', 'shape'])\n",
      "0031\n",
      "Starting Training\n",
      "epoch: 00, loss: 0.00207\n",
      "epoch: 01, loss: -0.01056\n",
      "epoch: 02, loss: -0.01612\n",
      "epoch: 03, loss: -0.01856\n",
      "epoch: 04, loss: -0.01957\n",
      "epoch: 05, loss: -0.02058\n",
      "epoch: 06, loss: -0.02075\n",
      "epoch: 07, loss: -0.02111\n",
      "epoch: 08, loss: -0.02118\n",
      "epoch: 09, loss: -0.02136\n",
      "torch.Size([400, 64])\n",
      "<class 'numpy.ndarray'>\n"
     ]
    },
    {
     "name": "stderr",
     "output_type": "stream",
     "text": [
      "  3%|▎         | 31/1000 [03:53<1:55:38,  7.16s/it]"
     ]
    },
    {
     "name": "stdout",
     "output_type": "stream",
     "text": [
      "eigenvalues shape torch.Size([5]) eigenvectors shape torch.Size([5, 400])\n",
      "31 /home/phdcs2/Hard_Disk/Datasets/Deep-Spectral-Segmentation/data/object-segmentation/ECSSD/features/dino_vits16/0032.pth\n",
      "dict_keys(['k', 'indices', 'file', 'id', 'model_name', 'patch_size', 'shape'])\n",
      "0032\n",
      "Starting Training\n",
      "epoch: 00, loss: -0.06011\n",
      "epoch: 01, loss: -0.09414\n",
      "epoch: 02, loss: -0.09704\n",
      "epoch: 03, loss: -0.10122\n",
      "epoch: 04, loss: -0.10093\n",
      "epoch: 05, loss: -0.10352\n",
      "epoch: 06, loss: -0.10321\n",
      "epoch: 07, loss: -0.10593\n",
      "epoch: 08, loss: -0.10446\n",
      "epoch: 09, loss: -0.10652\n",
      "torch.Size([400, 64])\n",
      "<class 'numpy.ndarray'>\n"
     ]
    },
    {
     "name": "stderr",
     "output_type": "stream",
     "text": [
      "  3%|▎         | 32/1000 [04:00<1:51:57,  6.94s/it]"
     ]
    },
    {
     "name": "stdout",
     "output_type": "stream",
     "text": [
      "eigenvalues shape torch.Size([5]) eigenvectors shape torch.Size([5, 400])\n",
      "32 /home/phdcs2/Hard_Disk/Datasets/Deep-Spectral-Segmentation/data/object-segmentation/ECSSD/features/dino_vits16/0033.pth\n",
      "dict_keys(['k', 'indices', 'file', 'id', 'model_name', 'patch_size', 'shape'])\n",
      "0033\n",
      "Starting Training\n",
      "epoch: 00, loss: -0.02201\n",
      "epoch: 01, loss: -0.04775\n",
      "epoch: 02, loss: -0.05133\n",
      "epoch: 03, loss: -0.05767\n",
      "epoch: 04, loss: -0.05490\n",
      "epoch: 05, loss: -0.05661\n",
      "epoch: 06, loss: -0.05732\n",
      "epoch: 07, loss: -0.05766\n",
      "epoch: 08, loss: -0.05736\n",
      "epoch: 09, loss: -0.05848\n",
      "torch.Size([400, 64])\n",
      "<class 'numpy.ndarray'>\n"
     ]
    },
    {
     "name": "stderr",
     "output_type": "stream",
     "text": [
      "  3%|▎         | 33/1000 [04:07<1:53:31,  7.04s/it]"
     ]
    },
    {
     "name": "stdout",
     "output_type": "stream",
     "text": [
      "eigenvalues shape torch.Size([5]) eigenvectors shape torch.Size([5, 400])\n",
      "33 /home/phdcs2/Hard_Disk/Datasets/Deep-Spectral-Segmentation/data/object-segmentation/ECSSD/features/dino_vits16/0034.pth\n",
      "dict_keys(['k', 'indices', 'file', 'id', 'model_name', 'patch_size', 'shape'])\n",
      "0034\n",
      "Starting Training\n",
      "epoch: 00, loss: -0.06696\n",
      "epoch: 01, loss: -0.08138\n",
      "epoch: 02, loss: -0.08854\n",
      "epoch: 03, loss: -0.08661\n",
      "epoch: 04, loss: -0.08740\n",
      "epoch: 05, loss: -0.08875\n",
      "epoch: 06, loss: -0.08992\n",
      "epoch: 07, loss: -0.08814\n",
      "epoch: 08, loss: -0.08880\n",
      "epoch: 09, loss: -0.09130\n",
      "torch.Size([400, 64])\n",
      "<class 'numpy.ndarray'>\n"
     ]
    },
    {
     "name": "stderr",
     "output_type": "stream",
     "text": [
      "  3%|▎         | 34/1000 [04:13<1:49:52,  6.82s/it]"
     ]
    },
    {
     "name": "stdout",
     "output_type": "stream",
     "text": [
      "eigenvalues shape torch.Size([5]) eigenvectors shape torch.Size([5, 400])\n",
      "34 /home/phdcs2/Hard_Disk/Datasets/Deep-Spectral-Segmentation/data/object-segmentation/ECSSD/features/dino_vits16/0035.pth\n",
      "dict_keys(['k', 'indices', 'file', 'id', 'model_name', 'patch_size', 'shape'])\n",
      "0035\n",
      "Starting Training\n",
      "epoch: 00, loss: -0.01147\n",
      "epoch: 01, loss: -0.02761\n",
      "epoch: 02, loss: -0.03110\n",
      "epoch: 03, loss: -0.03258\n",
      "epoch: 04, loss: -0.03270\n",
      "epoch: 05, loss: -0.03303\n",
      "epoch: 06, loss: -0.03315\n",
      "epoch: 07, loss: -0.03326\n",
      "epoch: 08, loss: -0.03342\n",
      "epoch: 09, loss: -0.03354\n",
      "torch.Size([400, 64])\n",
      "<class 'numpy.ndarray'>\n"
     ]
    },
    {
     "name": "stderr",
     "output_type": "stream",
     "text": [
      "  4%|▎         | 35/1000 [04:20<1:50:11,  6.85s/it]"
     ]
    },
    {
     "name": "stdout",
     "output_type": "stream",
     "text": [
      "eigenvalues shape torch.Size([5]) eigenvectors shape torch.Size([5, 400])\n",
      "35 /home/phdcs2/Hard_Disk/Datasets/Deep-Spectral-Segmentation/data/object-segmentation/ECSSD/features/dino_vits16/0036.pth\n",
      "dict_keys(['k', 'indices', 'file', 'id', 'model_name', 'patch_size', 'shape'])\n",
      "0036\n",
      "Starting Training\n",
      "epoch: 00, loss: -0.10943\n",
      "epoch: 01, loss: -0.13967\n",
      "epoch: 02, loss: -0.14517\n",
      "epoch: 03, loss: -0.14445\n",
      "epoch: 04, loss: -0.14852\n",
      "epoch: 05, loss: -0.15145\n",
      "epoch: 06, loss: -0.15502\n",
      "epoch: 07, loss: -0.14998\n",
      "epoch: 08, loss: -0.15315\n",
      "epoch: 09, loss: -0.15541\n",
      "torch.Size([450, 64])\n",
      "<class 'numpy.ndarray'>\n"
     ]
    },
    {
     "name": "stderr",
     "output_type": "stream",
     "text": [
      "  4%|▎         | 36/1000 [04:31<2:08:10,  7.98s/it]"
     ]
    },
    {
     "name": "stdout",
     "output_type": "stream",
     "text": [
      "eigenvalues shape torch.Size([5]) eigenvectors shape torch.Size([5, 450])\n",
      "36 /home/phdcs2/Hard_Disk/Datasets/Deep-Spectral-Segmentation/data/object-segmentation/ECSSD/features/dino_vits16/0037.pth\n",
      "dict_keys(['k', 'indices', 'file', 'id', 'model_name', 'patch_size', 'shape'])\n",
      "0037\n",
      "Starting Training\n",
      "epoch: 00, loss: -0.06766\n",
      "epoch: 01, loss: -0.09460\n",
      "epoch: 02, loss: -0.09887\n",
      "epoch: 03, loss: -0.10056\n",
      "epoch: 04, loss: -0.10036\n",
      "epoch: 05, loss: -0.10208\n",
      "epoch: 06, loss: -0.10285\n",
      "epoch: 07, loss: -0.10379\n",
      "epoch: 08, loss: -0.10463\n",
      "epoch: 09, loss: -0.10463\n",
      "torch.Size([450, 64])\n",
      "<class 'numpy.ndarray'>\n"
     ]
    },
    {
     "name": "stderr",
     "output_type": "stream",
     "text": [
      "  4%|▎         | 37/1000 [04:40<2:14:54,  8.41s/it]"
     ]
    },
    {
     "name": "stdout",
     "output_type": "stream",
     "text": [
      "eigenvalues shape torch.Size([5]) eigenvectors shape torch.Size([5, 450])\n",
      "37 /home/phdcs2/Hard_Disk/Datasets/Deep-Spectral-Segmentation/data/object-segmentation/ECSSD/features/dino_vits16/0038.pth\n",
      "dict_keys(['k', 'indices', 'file', 'id', 'model_name', 'patch_size', 'shape'])\n",
      "0038\n",
      "Starting Training\n",
      "epoch: 00, loss: -0.02054\n",
      "epoch: 01, loss: -0.04415\n",
      "epoch: 02, loss: -0.04792\n",
      "epoch: 03, loss: -0.04884\n",
      "epoch: 04, loss: -0.04924\n",
      "epoch: 05, loss: -0.04936\n",
      "epoch: 06, loss: -0.04956\n",
      "epoch: 07, loss: -0.04953\n",
      "epoch: 08, loss: -0.04982\n",
      "epoch: 09, loss: -0.04995\n",
      "torch.Size([400, 64])\n",
      "<class 'numpy.ndarray'>\n"
     ]
    },
    {
     "name": "stderr",
     "output_type": "stream",
     "text": [
      "  4%|▍         | 38/1000 [04:48<2:11:53,  8.23s/it]"
     ]
    },
    {
     "name": "stdout",
     "output_type": "stream",
     "text": [
      "eigenvalues shape torch.Size([5]) eigenvectors shape torch.Size([5, 400])\n",
      "38 /home/phdcs2/Hard_Disk/Datasets/Deep-Spectral-Segmentation/data/object-segmentation/ECSSD/features/dino_vits16/0039.pth\n",
      "dict_keys(['k', 'indices', 'file', 'id', 'model_name', 'patch_size', 'shape'])\n",
      "0039\n",
      "Starting Training\n",
      "epoch: 00, loss: -0.04494\n",
      "epoch: 01, loss: -0.06293\n",
      "epoch: 02, loss: -0.06339\n",
      "epoch: 03, loss: -0.06445\n",
      "epoch: 04, loss: -0.06454\n",
      "epoch: 05, loss: -0.06488\n",
      "epoch: 06, loss: -0.06505\n",
      "epoch: 07, loss: -0.06516\n",
      "epoch: 08, loss: -0.06515\n",
      "epoch: 09, loss: -0.06538\n",
      "torch.Size([400, 64])\n",
      "<class 'numpy.ndarray'>\n"
     ]
    },
    {
     "name": "stderr",
     "output_type": "stream",
     "text": [
      "  4%|▍         | 39/1000 [04:56<2:09:47,  8.10s/it]"
     ]
    },
    {
     "name": "stdout",
     "output_type": "stream",
     "text": [
      "eigenvalues shape torch.Size([5]) eigenvectors shape torch.Size([5, 400])\n",
      "39 /home/phdcs2/Hard_Disk/Datasets/Deep-Spectral-Segmentation/data/object-segmentation/ECSSD/features/dino_vits16/0040.pth\n",
      "dict_keys(['k', 'indices', 'file', 'id', 'model_name', 'patch_size', 'shape'])\n",
      "0040\n",
      "Starting Training\n",
      "epoch: 00, loss: -0.05581\n",
      "epoch: 01, loss: -0.08653\n",
      "epoch: 02, loss: -0.08705\n",
      "epoch: 03, loss: -0.08756\n",
      "epoch: 04, loss: -0.08800\n",
      "epoch: 05, loss: -0.08803\n",
      "epoch: 06, loss: -0.08807\n",
      "epoch: 07, loss: -0.08817\n",
      "epoch: 08, loss: -0.08840\n",
      "epoch: 09, loss: -0.08874\n",
      "torch.Size([400, 64])\n",
      "<class 'numpy.ndarray'>\n"
     ]
    },
    {
     "name": "stderr",
     "output_type": "stream",
     "text": [
      "  4%|▍         | 40/1000 [05:04<2:09:48,  8.11s/it]"
     ]
    },
    {
     "name": "stdout",
     "output_type": "stream",
     "text": [
      "eigenvalues shape torch.Size([5]) eigenvectors shape torch.Size([5, 400])\n",
      "40 /home/phdcs2/Hard_Disk/Datasets/Deep-Spectral-Segmentation/data/object-segmentation/ECSSD/features/dino_vits16/0041.pth\n",
      "dict_keys(['k', 'indices', 'file', 'id', 'model_name', 'patch_size', 'shape'])\n",
      "0041\n",
      "Starting Training\n",
      "epoch: 00, loss: 0.00771\n",
      "epoch: 01, loss: -0.00395\n",
      "epoch: 02, loss: -0.00823\n",
      "epoch: 03, loss: -0.01048\n",
      "epoch: 04, loss: -0.01224\n",
      "epoch: 05, loss: -0.01268\n",
      "epoch: 06, loss: -0.01313\n",
      "epoch: 07, loss: -0.01377\n",
      "epoch: 08, loss: -0.01417\n",
      "epoch: 09, loss: -0.01444\n",
      "torch.Size([450, 64])\n",
      "<class 'numpy.ndarray'>\n"
     ]
    },
    {
     "name": "stderr",
     "output_type": "stream",
     "text": [
      "  4%|▍         | 41/1000 [05:13<2:11:25,  8.22s/it]"
     ]
    },
    {
     "name": "stdout",
     "output_type": "stream",
     "text": [
      "eigenvalues shape torch.Size([5]) eigenvectors shape torch.Size([5, 450])\n",
      "41 /home/phdcs2/Hard_Disk/Datasets/Deep-Spectral-Segmentation/data/object-segmentation/ECSSD/features/dino_vits16/0042.pth\n",
      "dict_keys(['k', 'indices', 'file', 'id', 'model_name', 'patch_size', 'shape'])\n",
      "0042\n",
      "Starting Training\n",
      "epoch: 00, loss: -0.06387\n",
      "epoch: 01, loss: -0.10243\n",
      "epoch: 02, loss: -0.10645\n",
      "epoch: 03, loss: -0.10820\n",
      "epoch: 04, loss: -0.10821\n",
      "epoch: 05, loss: -0.11194\n",
      "epoch: 06, loss: -0.11035\n",
      "epoch: 07, loss: -0.11218\n",
      "epoch: 08, loss: -0.11275\n",
      "epoch: 09, loss: -0.11290\n",
      "torch.Size([400, 64])\n",
      "<class 'numpy.ndarray'>\n"
     ]
    },
    {
     "name": "stderr",
     "output_type": "stream",
     "text": [
      "  4%|▍         | 42/1000 [05:20<2:09:24,  8.10s/it]"
     ]
    },
    {
     "name": "stdout",
     "output_type": "stream",
     "text": [
      "eigenvalues shape torch.Size([5]) eigenvectors shape torch.Size([5, 400])\n",
      "42 /home/phdcs2/Hard_Disk/Datasets/Deep-Spectral-Segmentation/data/object-segmentation/ECSSD/features/dino_vits16/0043.pth\n",
      "dict_keys(['k', 'indices', 'file', 'id', 'model_name', 'patch_size', 'shape'])\n",
      "0043\n",
      "Starting Training\n",
      "epoch: 00, loss: -0.02571\n",
      "epoch: 01, loss: -0.05624\n",
      "epoch: 02, loss: -0.05778\n",
      "epoch: 03, loss: -0.06015\n",
      "epoch: 04, loss: -0.06042\n",
      "epoch: 05, loss: -0.05944\n",
      "epoch: 06, loss: -0.06120\n",
      "epoch: 07, loss: -0.06194\n",
      "epoch: 08, loss: -0.06143\n",
      "epoch: 09, loss: -0.06021\n",
      "torch.Size([450, 64])\n",
      "<class 'numpy.ndarray'>\n"
     ]
    },
    {
     "name": "stderr",
     "output_type": "stream",
     "text": [
      "  4%|▍         | 43/1000 [05:27<2:02:42,  7.69s/it]"
     ]
    },
    {
     "name": "stdout",
     "output_type": "stream",
     "text": [
      "eigenvalues shape torch.Size([5]) eigenvectors shape torch.Size([5, 450])\n",
      "43 /home/phdcs2/Hard_Disk/Datasets/Deep-Spectral-Segmentation/data/object-segmentation/ECSSD/features/dino_vits16/0044.pth\n",
      "dict_keys(['k', 'indices', 'file', 'id', 'model_name', 'patch_size', 'shape'])\n",
      "0044\n",
      "Starting Training\n",
      "epoch: 00, loss: -0.01261\n",
      "epoch: 01, loss: -0.02506\n",
      "epoch: 02, loss: -0.02812\n",
      "epoch: 03, loss: -0.02784\n",
      "epoch: 04, loss: -0.02815\n",
      "epoch: 05, loss: -0.02961\n",
      "epoch: 06, loss: -0.02867\n",
      "epoch: 07, loss: -0.02876\n",
      "epoch: 08, loss: -0.02976\n",
      "epoch: 09, loss: -0.03026\n",
      "torch.Size([525, 64])\n",
      "<class 'numpy.ndarray'>\n"
     ]
    },
    {
     "name": "stderr",
     "output_type": "stream",
     "text": [
      "  4%|▍         | 44/1000 [05:38<2:16:23,  8.56s/it]"
     ]
    },
    {
     "name": "stdout",
     "output_type": "stream",
     "text": [
      "eigenvalues shape torch.Size([5]) eigenvectors shape torch.Size([5, 525])\n",
      "44 /home/phdcs2/Hard_Disk/Datasets/Deep-Spectral-Segmentation/data/object-segmentation/ECSSD/features/dino_vits16/0045.pth\n",
      "dict_keys(['k', 'indices', 'file', 'id', 'model_name', 'patch_size', 'shape'])\n",
      "0045\n",
      "Starting Training\n",
      "epoch: 00, loss: -0.04840\n",
      "epoch: 01, loss: -0.07474\n",
      "epoch: 02, loss: -0.08372\n",
      "epoch: 03, loss: -0.08442\n",
      "epoch: 04, loss: -0.08423\n",
      "epoch: 05, loss: -0.08558\n",
      "epoch: 06, loss: -0.08627\n",
      "epoch: 07, loss: -0.08485\n",
      "epoch: 08, loss: -0.08636\n",
      "epoch: 09, loss: -0.08746\n",
      "torch.Size([450, 64])\n",
      "<class 'numpy.ndarray'>\n"
     ]
    },
    {
     "name": "stderr",
     "output_type": "stream",
     "text": [
      "  4%|▍         | 45/1000 [05:47<2:21:10,  8.87s/it]"
     ]
    },
    {
     "name": "stdout",
     "output_type": "stream",
     "text": [
      "eigenvalues shape torch.Size([5]) eigenvectors shape torch.Size([5, 450])\n",
      "45 /home/phdcs2/Hard_Disk/Datasets/Deep-Spectral-Segmentation/data/object-segmentation/ECSSD/features/dino_vits16/0046.pth\n",
      "dict_keys(['k', 'indices', 'file', 'id', 'model_name', 'patch_size', 'shape'])\n",
      "0046\n",
      "Starting Training\n",
      "epoch: 00, loss: -0.06696\n",
      "epoch: 01, loss: -0.09357\n",
      "epoch: 02, loss: -0.09828\n",
      "epoch: 03, loss: -0.09969\n",
      "epoch: 04, loss: -0.09891\n",
      "epoch: 05, loss: -0.09907\n",
      "epoch: 06, loss: -0.10102\n",
      "epoch: 07, loss: -0.10041\n",
      "epoch: 08, loss: -0.10303\n",
      "epoch: 09, loss: -0.10325\n",
      "torch.Size([450, 64])\n",
      "<class 'numpy.ndarray'>\n"
     ]
    },
    {
     "name": "stderr",
     "output_type": "stream",
     "text": [
      "  5%|▍         | 46/1000 [05:56<2:18:40,  8.72s/it]"
     ]
    },
    {
     "name": "stdout",
     "output_type": "stream",
     "text": [
      "eigenvalues shape torch.Size([5]) eigenvectors shape torch.Size([5, 450])\n",
      "46 /home/phdcs2/Hard_Disk/Datasets/Deep-Spectral-Segmentation/data/object-segmentation/ECSSD/features/dino_vits16/0047.pth\n",
      "dict_keys(['k', 'indices', 'file', 'id', 'model_name', 'patch_size', 'shape'])\n",
      "0047\n",
      "Starting Training\n",
      "epoch: 00, loss: -0.03762\n",
      "epoch: 01, loss: -0.06791\n",
      "epoch: 02, loss: -0.07006\n",
      "epoch: 03, loss: -0.07044\n",
      "epoch: 04, loss: -0.07040\n",
      "epoch: 05, loss: -0.07098\n",
      "epoch: 06, loss: -0.07097\n",
      "epoch: 07, loss: -0.07103\n",
      "epoch: 08, loss: -0.07124\n",
      "epoch: 09, loss: -0.07131\n",
      "torch.Size([400, 64])\n",
      "<class 'numpy.ndarray'>\n"
     ]
    },
    {
     "name": "stderr",
     "output_type": "stream",
     "text": [
      "  5%|▍         | 47/1000 [06:04<2:16:43,  8.61s/it]"
     ]
    },
    {
     "name": "stdout",
     "output_type": "stream",
     "text": [
      "eigenvalues shape torch.Size([5]) eigenvectors shape torch.Size([5, 400])\n",
      "47 /home/phdcs2/Hard_Disk/Datasets/Deep-Spectral-Segmentation/data/object-segmentation/ECSSD/features/dino_vits16/0048.pth\n",
      "dict_keys(['k', 'indices', 'file', 'id', 'model_name', 'patch_size', 'shape'])\n",
      "0048\n",
      "Starting Training\n",
      "epoch: 00, loss: -0.04704\n",
      "epoch: 01, loss: -0.06465\n",
      "epoch: 02, loss: -0.06625\n",
      "epoch: 03, loss: -0.06611\n",
      "epoch: 04, loss: -0.06611\n",
      "epoch: 05, loss: -0.06645\n",
      "epoch: 06, loss: -0.06676\n",
      "epoch: 07, loss: -0.06704\n",
      "epoch: 08, loss: -0.06695\n",
      "epoch: 09, loss: -0.06688\n",
      "torch.Size([450, 64])\n",
      "<class 'numpy.ndarray'>\n"
     ]
    },
    {
     "name": "stderr",
     "output_type": "stream",
     "text": [
      "  5%|▍         | 48/1000 [06:14<2:22:10,  8.96s/it]"
     ]
    },
    {
     "name": "stdout",
     "output_type": "stream",
     "text": [
      "eigenvalues shape torch.Size([5]) eigenvectors shape torch.Size([5, 450])\n",
      "48 /home/phdcs2/Hard_Disk/Datasets/Deep-Spectral-Segmentation/data/object-segmentation/ECSSD/features/dino_vits16/0049.pth\n",
      "dict_keys(['k', 'indices', 'file', 'id', 'model_name', 'patch_size', 'shape'])\n",
      "0049\n",
      "Starting Training\n",
      "epoch: 00, loss: -0.05655\n",
      "epoch: 01, loss: -0.08171\n",
      "epoch: 02, loss: -0.08241\n",
      "epoch: 03, loss: -0.08267\n",
      "epoch: 04, loss: -0.08304\n",
      "epoch: 05, loss: -0.08318\n",
      "epoch: 06, loss: -0.08316\n",
      "epoch: 07, loss: -0.08335\n",
      "epoch: 08, loss: -0.08335\n",
      "epoch: 09, loss: -0.08348\n",
      "torch.Size([450, 64])\n",
      "<class 'numpy.ndarray'>\n"
     ]
    },
    {
     "name": "stderr",
     "output_type": "stream",
     "text": [
      "  5%|▍         | 49/1000 [06:26<2:37:44,  9.95s/it]"
     ]
    },
    {
     "name": "stdout",
     "output_type": "stream",
     "text": [
      "eigenvalues shape torch.Size([5]) eigenvectors shape torch.Size([5, 450])\n",
      "49 /home/phdcs2/Hard_Disk/Datasets/Deep-Spectral-Segmentation/data/object-segmentation/ECSSD/features/dino_vits16/0050.pth\n",
      "dict_keys(['k', 'indices', 'file', 'id', 'model_name', 'patch_size', 'shape'])\n",
      "0050\n",
      "Starting Training\n",
      "epoch: 00, loss: -0.02262\n",
      "epoch: 01, loss: -0.04970\n",
      "epoch: 02, loss: -0.05243\n",
      "epoch: 03, loss: -0.05291\n",
      "epoch: 04, loss: -0.05367\n",
      "epoch: 05, loss: -0.05367\n",
      "epoch: 06, loss: -0.05388\n",
      "epoch: 07, loss: -0.05412\n",
      "epoch: 08, loss: -0.05416\n",
      "epoch: 09, loss: -0.05426\n",
      "torch.Size([400, 64])\n",
      "<class 'numpy.ndarray'>\n"
     ]
    },
    {
     "name": "stderr",
     "output_type": "stream",
     "text": [
      "  5%|▌         | 50/1000 [06:35<2:33:00,  9.66s/it]"
     ]
    },
    {
     "name": "stdout",
     "output_type": "stream",
     "text": [
      "eigenvalues shape torch.Size([5]) eigenvectors shape torch.Size([5, 400])\n",
      "50 /home/phdcs2/Hard_Disk/Datasets/Deep-Spectral-Segmentation/data/object-segmentation/ECSSD/features/dino_vits16/0051.pth\n",
      "dict_keys(['k', 'indices', 'file', 'id', 'model_name', 'patch_size', 'shape'])\n",
      "0051\n",
      "Starting Training\n",
      "epoch: 00, loss: -0.06883\n",
      "epoch: 01, loss: -0.08555\n",
      "epoch: 02, loss: -0.08970\n",
      "epoch: 03, loss: -0.08752\n",
      "epoch: 04, loss: -0.08989\n",
      "epoch: 05, loss: -0.08887\n",
      "epoch: 06, loss: -0.09139\n",
      "epoch: 07, loss: -0.09048\n",
      "epoch: 08, loss: -0.09054\n",
      "epoch: 09, loss: -0.09072\n",
      "torch.Size([450, 64])\n",
      "<class 'numpy.ndarray'>\n"
     ]
    },
    {
     "name": "stderr",
     "output_type": "stream",
     "text": [
      "  5%|▌         | 51/1000 [06:44<2:28:16,  9.37s/it]"
     ]
    },
    {
     "name": "stdout",
     "output_type": "stream",
     "text": [
      "eigenvalues shape torch.Size([5]) eigenvectors shape torch.Size([5, 450])\n",
      "51 /home/phdcs2/Hard_Disk/Datasets/Deep-Spectral-Segmentation/data/object-segmentation/ECSSD/features/dino_vits16/0052.pth\n",
      "dict_keys(['k', 'indices', 'file', 'id', 'model_name', 'patch_size', 'shape'])\n",
      "0052\n",
      "Starting Training\n",
      "epoch: 00, loss: -0.03974\n",
      "epoch: 01, loss: -0.07387\n",
      "epoch: 02, loss: -0.07825\n",
      "epoch: 03, loss: -0.07875\n",
      "epoch: 04, loss: -0.07768\n",
      "epoch: 05, loss: -0.08007\n",
      "epoch: 06, loss: -0.08092\n",
      "epoch: 07, loss: -0.08076\n",
      "epoch: 08, loss: -0.07882\n",
      "epoch: 09, loss: -0.08194\n",
      "torch.Size([450, 64])\n",
      "<class 'numpy.ndarray'>\n"
     ]
    },
    {
     "name": "stderr",
     "output_type": "stream",
     "text": [
      "  5%|▌         | 52/1000 [06:53<2:28:00,  9.37s/it]"
     ]
    },
    {
     "name": "stdout",
     "output_type": "stream",
     "text": [
      "eigenvalues shape torch.Size([5]) eigenvectors shape torch.Size([5, 450])\n",
      "52 /home/phdcs2/Hard_Disk/Datasets/Deep-Spectral-Segmentation/data/object-segmentation/ECSSD/features/dino_vits16/0053.pth\n",
      "dict_keys(['k', 'indices', 'file', 'id', 'model_name', 'patch_size', 'shape'])\n",
      "0053\n",
      "Starting Training\n",
      "epoch: 00, loss: -0.01696\n",
      "epoch: 01, loss: -0.03132\n",
      "epoch: 02, loss: -0.03820\n",
      "epoch: 03, loss: -0.04062\n",
      "epoch: 04, loss: -0.04097\n",
      "epoch: 05, loss: -0.03971\n",
      "epoch: 06, loss: -0.03979\n",
      "epoch: 07, loss: -0.04152\n",
      "epoch: 08, loss: -0.04532\n",
      "epoch: 09, loss: -0.04332\n",
      "torch.Size([375, 64])\n",
      "<class 'numpy.ndarray'>\n"
     ]
    },
    {
     "name": "stderr",
     "output_type": "stream",
     "text": [
      "  5%|▌         | 53/1000 [06:59<2:12:57,  8.42s/it]"
     ]
    },
    {
     "name": "stdout",
     "output_type": "stream",
     "text": [
      "eigenvalues shape torch.Size([5]) eigenvectors shape torch.Size([5, 375])\n",
      "53 /home/phdcs2/Hard_Disk/Datasets/Deep-Spectral-Segmentation/data/object-segmentation/ECSSD/features/dino_vits16/0054.pth\n",
      "dict_keys(['k', 'indices', 'file', 'id', 'model_name', 'patch_size', 'shape'])\n",
      "0054\n",
      "Starting Training\n",
      "epoch: 00, loss: -0.03508\n",
      "epoch: 01, loss: -0.05500\n",
      "epoch: 02, loss: -0.05600\n",
      "epoch: 03, loss: -0.05649\n",
      "epoch: 04, loss: -0.05674\n",
      "epoch: 05, loss: -0.05690\n",
      "epoch: 06, loss: -0.05729\n",
      "epoch: 07, loss: -0.05733\n",
      "epoch: 08, loss: -0.05746\n",
      "epoch: 09, loss: -0.05749\n",
      "torch.Size([450, 64])\n",
      "<class 'numpy.ndarray'>\n"
     ]
    },
    {
     "name": "stderr",
     "output_type": "stream",
     "text": [
      "  5%|▌         | 54/1000 [07:09<2:17:20,  8.71s/it]"
     ]
    },
    {
     "name": "stdout",
     "output_type": "stream",
     "text": [
      "eigenvalues shape torch.Size([5]) eigenvectors shape torch.Size([5, 450])\n",
      "54 /home/phdcs2/Hard_Disk/Datasets/Deep-Spectral-Segmentation/data/object-segmentation/ECSSD/features/dino_vits16/0055.pth\n",
      "dict_keys(['k', 'indices', 'file', 'id', 'model_name', 'patch_size', 'shape'])\n",
      "0055\n",
      "Starting Training\n",
      "epoch: 00, loss: -0.08470\n",
      "epoch: 01, loss: -0.10180\n",
      "epoch: 02, loss: -0.10222\n",
      "epoch: 03, loss: -0.10553\n",
      "epoch: 04, loss: -0.10432\n",
      "epoch: 05, loss: -0.10676\n",
      "epoch: 06, loss: -0.10403\n",
      "epoch: 07, loss: -0.10646\n",
      "epoch: 08, loss: -0.10671\n",
      "epoch: 09, loss: -0.10559\n",
      "torch.Size([450, 64])\n",
      "<class 'numpy.ndarray'>\n"
     ]
    },
    {
     "name": "stderr",
     "output_type": "stream",
     "text": [
      "  6%|▌         | 55/1000 [07:16<2:11:52,  8.37s/it]"
     ]
    },
    {
     "name": "stdout",
     "output_type": "stream",
     "text": [
      "eigenvalues shape torch.Size([5]) eigenvectors shape torch.Size([5, 450])\n",
      "55 /home/phdcs2/Hard_Disk/Datasets/Deep-Spectral-Segmentation/data/object-segmentation/ECSSD/features/dino_vits16/0056.pth\n",
      "dict_keys(['k', 'indices', 'file', 'id', 'model_name', 'patch_size', 'shape'])\n",
      "0056\n",
      "Starting Training\n",
      "epoch: 00, loss: -0.00861\n",
      "epoch: 01, loss: -0.03337\n",
      "epoch: 02, loss: -0.03911\n",
      "epoch: 03, loss: -0.04010\n",
      "epoch: 04, loss: -0.04061\n",
      "epoch: 05, loss: -0.04054\n",
      "epoch: 06, loss: -0.04078\n",
      "epoch: 07, loss: -0.04137\n",
      "epoch: 08, loss: -0.04123\n",
      "epoch: 09, loss: -0.04144\n",
      "torch.Size([400, 64])\n",
      "<class 'numpy.ndarray'>\n"
     ]
    },
    {
     "name": "stderr",
     "output_type": "stream",
     "text": [
      "  6%|▌         | 56/1000 [07:28<2:29:04,  9.48s/it]"
     ]
    },
    {
     "name": "stdout",
     "output_type": "stream",
     "text": [
      "eigenvalues shape torch.Size([5]) eigenvectors shape torch.Size([5, 400])\n",
      "56 /home/phdcs2/Hard_Disk/Datasets/Deep-Spectral-Segmentation/data/object-segmentation/ECSSD/features/dino_vits16/0057.pth\n",
      "dict_keys(['k', 'indices', 'file', 'id', 'model_name', 'patch_size', 'shape'])\n",
      "0057\n",
      "Starting Training\n",
      "epoch: 00, loss: -0.05954\n",
      "epoch: 01, loss: -0.07541\n",
      "epoch: 02, loss: -0.07556\n",
      "epoch: 03, loss: -0.07594\n",
      "epoch: 04, loss: -0.07587\n",
      "epoch: 05, loss: -0.07652\n",
      "epoch: 06, loss: -0.07675\n",
      "epoch: 07, loss: -0.07657\n",
      "epoch: 08, loss: -0.07631\n",
      "epoch: 09, loss: -0.07684\n",
      "torch.Size([400, 64])\n",
      "<class 'numpy.ndarray'>\n"
     ]
    },
    {
     "name": "stderr",
     "output_type": "stream",
     "text": [
      "  6%|▌         | 57/1000 [07:38<2:30:06,  9.55s/it]"
     ]
    },
    {
     "name": "stdout",
     "output_type": "stream",
     "text": [
      "eigenvalues shape torch.Size([5]) eigenvectors shape torch.Size([5, 400])\n",
      "57 /home/phdcs2/Hard_Disk/Datasets/Deep-Spectral-Segmentation/data/object-segmentation/ECSSD/features/dino_vits16/0058.pth\n",
      "dict_keys(['k', 'indices', 'file', 'id', 'model_name', 'patch_size', 'shape'])\n",
      "0058\n",
      "Starting Training\n",
      "epoch: 00, loss: -0.03459\n",
      "epoch: 01, loss: -0.06002\n",
      "epoch: 02, loss: -0.06401\n",
      "epoch: 03, loss: -0.06595\n",
      "epoch: 04, loss: -0.06565\n",
      "epoch: 05, loss: -0.06591\n",
      "epoch: 06, loss: -0.06737\n",
      "epoch: 07, loss: -0.06617\n",
      "epoch: 08, loss: -0.06859\n",
      "epoch: 09, loss: -0.06856\n",
      "torch.Size([425, 64])\n",
      "<class 'numpy.ndarray'>\n"
     ]
    },
    {
     "name": "stderr",
     "output_type": "stream",
     "text": [
      "  6%|▌         | 58/1000 [07:45<2:15:39,  8.64s/it]"
     ]
    },
    {
     "name": "stdout",
     "output_type": "stream",
     "text": [
      "eigenvalues shape torch.Size([5]) eigenvectors shape torch.Size([5, 425])\n",
      "58 /home/phdcs2/Hard_Disk/Datasets/Deep-Spectral-Segmentation/data/object-segmentation/ECSSD/features/dino_vits16/0059.pth\n",
      "dict_keys(['k', 'indices', 'file', 'id', 'model_name', 'patch_size', 'shape'])\n",
      "0059\n",
      "Starting Training\n",
      "epoch: 00, loss: -0.03947\n",
      "epoch: 01, loss: -0.06158\n",
      "epoch: 02, loss: -0.06327\n",
      "epoch: 03, loss: -0.06352\n",
      "epoch: 04, loss: -0.06387\n",
      "epoch: 05, loss: -0.06398\n",
      "epoch: 06, loss: -0.06452\n",
      "epoch: 07, loss: -0.06432\n",
      "epoch: 08, loss: -0.06439\n",
      "epoch: 09, loss: -0.06442\n",
      "torch.Size([450, 64])\n",
      "<class 'numpy.ndarray'>\n"
     ]
    },
    {
     "name": "stderr",
     "output_type": "stream",
     "text": [
      "  6%|▌         | 59/1000 [07:55<2:23:32,  9.15s/it]"
     ]
    },
    {
     "name": "stdout",
     "output_type": "stream",
     "text": [
      "eigenvalues shape torch.Size([5]) eigenvectors shape torch.Size([5, 450])\n",
      "59 /home/phdcs2/Hard_Disk/Datasets/Deep-Spectral-Segmentation/data/object-segmentation/ECSSD/features/dino_vits16/0060.pth\n",
      "dict_keys(['k', 'indices', 'file', 'id', 'model_name', 'patch_size', 'shape'])\n",
      "0060\n",
      "Starting Training\n",
      "epoch: 00, loss: -0.06791\n",
      "epoch: 01, loss: -0.09856\n",
      "epoch: 02, loss: -0.09904\n",
      "epoch: 03, loss: -0.09929\n",
      "epoch: 04, loss: -0.09951\n",
      "epoch: 05, loss: -0.09983\n",
      "epoch: 06, loss: -0.09998\n",
      "epoch: 07, loss: -0.10005\n",
      "epoch: 08, loss: -0.10009\n",
      "epoch: 09, loss: -0.10025\n",
      "torch.Size([400, 64])\n",
      "<class 'numpy.ndarray'>\n"
     ]
    },
    {
     "name": "stderr",
     "output_type": "stream",
     "text": [
      "  6%|▌         | 60/1000 [08:03<2:19:56,  8.93s/it]"
     ]
    },
    {
     "name": "stdout",
     "output_type": "stream",
     "text": [
      "eigenvalues shape torch.Size([5]) eigenvectors shape torch.Size([5, 400])\n",
      "60 /home/phdcs2/Hard_Disk/Datasets/Deep-Spectral-Segmentation/data/object-segmentation/ECSSD/features/dino_vits16/0061.pth\n",
      "dict_keys(['k', 'indices', 'file', 'id', 'model_name', 'patch_size', 'shape'])\n",
      "0061\n",
      "Starting Training\n",
      "epoch: 00, loss: -0.03928\n",
      "epoch: 01, loss: -0.05857\n",
      "epoch: 02, loss: -0.05905\n",
      "epoch: 03, loss: -0.05954\n",
      "epoch: 04, loss: -0.06183\n",
      "epoch: 05, loss: -0.06146\n",
      "epoch: 06, loss: -0.06040\n",
      "epoch: 07, loss: -0.06020\n",
      "epoch: 08, loss: -0.06172\n",
      "epoch: 09, loss: -0.06054\n",
      "torch.Size([425, 64])\n",
      "<class 'numpy.ndarray'>\n"
     ]
    },
    {
     "name": "stderr",
     "output_type": "stream",
     "text": [
      "  6%|▌         | 61/1000 [08:14<2:27:38,  9.43s/it]"
     ]
    },
    {
     "name": "stdout",
     "output_type": "stream",
     "text": [
      "eigenvalues shape torch.Size([5]) eigenvectors shape torch.Size([5, 425])\n",
      "61 /home/phdcs2/Hard_Disk/Datasets/Deep-Spectral-Segmentation/data/object-segmentation/ECSSD/features/dino_vits16/0062.pth\n",
      "dict_keys(['k', 'indices', 'file', 'id', 'model_name', 'patch_size', 'shape'])\n",
      "0062\n",
      "Starting Training\n",
      "epoch: 00, loss: -0.02054\n",
      "epoch: 01, loss: -0.04047\n",
      "epoch: 02, loss: -0.04468\n",
      "epoch: 03, loss: -0.04718\n",
      "epoch: 04, loss: -0.04858\n",
      "epoch: 05, loss: -0.04760\n",
      "epoch: 06, loss: -0.04901\n",
      "epoch: 07, loss: -0.04691\n",
      "epoch: 08, loss: -0.04802\n",
      "epoch: 09, loss: -0.04997\n",
      "torch.Size([425, 64])\n",
      "<class 'numpy.ndarray'>\n"
     ]
    },
    {
     "name": "stderr",
     "output_type": "stream",
     "text": [
      "  6%|▌         | 62/1000 [08:21<2:17:52,  8.82s/it]"
     ]
    },
    {
     "name": "stdout",
     "output_type": "stream",
     "text": [
      "eigenvalues shape torch.Size([5]) eigenvectors shape torch.Size([5, 425])\n",
      "62 /home/phdcs2/Hard_Disk/Datasets/Deep-Spectral-Segmentation/data/object-segmentation/ECSSD/features/dino_vits16/0063.pth\n",
      "dict_keys(['k', 'indices', 'file', 'id', 'model_name', 'patch_size', 'shape'])\n",
      "0063\n",
      "Starting Training\n",
      "epoch: 00, loss: -0.04106\n",
      "epoch: 01, loss: -0.06886\n",
      "epoch: 02, loss: -0.07743\n",
      "epoch: 03, loss: -0.07413\n",
      "epoch: 04, loss: -0.07505\n",
      "epoch: 05, loss: -0.07689\n",
      "epoch: 06, loss: -0.07972\n",
      "epoch: 07, loss: -0.07957\n",
      "epoch: 08, loss: -0.07945\n",
      "epoch: 09, loss: -0.07976\n",
      "torch.Size([400, 64])\n",
      "<class 'numpy.ndarray'>\n"
     ]
    },
    {
     "name": "stderr",
     "output_type": "stream",
     "text": [
      "  6%|▋         | 63/1000 [08:28<2:08:58,  8.26s/it]"
     ]
    },
    {
     "name": "stdout",
     "output_type": "stream",
     "text": [
      "eigenvalues shape torch.Size([5]) eigenvectors shape torch.Size([5, 400])\n",
      "63 /home/phdcs2/Hard_Disk/Datasets/Deep-Spectral-Segmentation/data/object-segmentation/ECSSD/features/dino_vits16/0064.pth\n",
      "dict_keys(['k', 'indices', 'file', 'id', 'model_name', 'patch_size', 'shape'])\n",
      "0064\n",
      "Starting Training\n",
      "epoch: 00, loss: -0.03180\n",
      "epoch: 01, loss: -0.05188\n",
      "epoch: 02, loss: -0.05371\n",
      "epoch: 03, loss: -0.05439\n",
      "epoch: 04, loss: -0.05442\n",
      "epoch: 05, loss: -0.05485\n",
      "epoch: 06, loss: -0.05500\n",
      "epoch: 07, loss: -0.05501\n",
      "epoch: 08, loss: -0.05515\n",
      "epoch: 09, loss: -0.05523\n",
      "torch.Size([400, 64])\n",
      "<class 'numpy.ndarray'>\n"
     ]
    },
    {
     "name": "stderr",
     "output_type": "stream",
     "text": [
      "  6%|▋         | 64/1000 [08:36<2:05:17,  8.03s/it]"
     ]
    },
    {
     "name": "stdout",
     "output_type": "stream",
     "text": [
      "eigenvalues shape torch.Size([5]) eigenvectors shape torch.Size([5, 400])\n",
      "64 /home/phdcs2/Hard_Disk/Datasets/Deep-Spectral-Segmentation/data/object-segmentation/ECSSD/features/dino_vits16/0065.pth\n",
      "dict_keys(['k', 'indices', 'file', 'id', 'model_name', 'patch_size', 'shape'])\n",
      "0065\n",
      "Starting Training\n",
      "epoch: 00, loss: -0.01052\n",
      "epoch: 01, loss: -0.03339\n",
      "epoch: 02, loss: -0.03555\n",
      "epoch: 03, loss: -0.03660\n",
      "epoch: 04, loss: -0.03441\n",
      "epoch: 05, loss: -0.03856\n",
      "epoch: 06, loss: -0.03907\n",
      "epoch: 07, loss: -0.03931\n",
      "epoch: 08, loss: -0.03960\n",
      "epoch: 09, loss: -0.03812\n",
      "torch.Size([450, 64])\n",
      "<class 'numpy.ndarray'>\n"
     ]
    },
    {
     "name": "stderr",
     "output_type": "stream",
     "text": [
      "  6%|▋         | 65/1000 [08:45<2:10:02,  8.34s/it]"
     ]
    },
    {
     "name": "stdout",
     "output_type": "stream",
     "text": [
      "eigenvalues shape torch.Size([5]) eigenvectors shape torch.Size([5, 450])\n",
      "65 /home/phdcs2/Hard_Disk/Datasets/Deep-Spectral-Segmentation/data/object-segmentation/ECSSD/features/dino_vits16/0066.pth\n",
      "dict_keys(['k', 'indices', 'file', 'id', 'model_name', 'patch_size', 'shape'])\n",
      "0066\n",
      "Starting Training\n",
      "epoch: 00, loss: -0.03077\n",
      "epoch: 01, loss: -0.04955\n",
      "epoch: 02, loss: -0.05146\n",
      "epoch: 03, loss: -0.05192\n",
      "epoch: 04, loss: -0.05243\n",
      "epoch: 05, loss: -0.05265\n",
      "epoch: 06, loss: -0.05284\n",
      "epoch: 07, loss: -0.05307\n",
      "epoch: 08, loss: -0.05329\n",
      "epoch: 09, loss: -0.05326\n",
      "torch.Size([400, 64])\n",
      "<class 'numpy.ndarray'>\n"
     ]
    },
    {
     "name": "stderr",
     "output_type": "stream",
     "text": [
      "  7%|▋         | 66/1000 [08:52<2:04:06,  7.97s/it]"
     ]
    },
    {
     "name": "stdout",
     "output_type": "stream",
     "text": [
      "eigenvalues shape torch.Size([5]) eigenvectors shape torch.Size([5, 400])\n",
      "66 /home/phdcs2/Hard_Disk/Datasets/Deep-Spectral-Segmentation/data/object-segmentation/ECSSD/features/dino_vits16/0067.pth\n",
      "dict_keys(['k', 'indices', 'file', 'id', 'model_name', 'patch_size', 'shape'])\n",
      "0067\n",
      "Starting Training\n",
      "epoch: 00, loss: -0.00045\n",
      "epoch: 01, loss: -0.01817\n",
      "epoch: 02, loss: -0.02374\n",
      "epoch: 03, loss: -0.02592\n",
      "epoch: 04, loss: -0.02664\n",
      "epoch: 05, loss: -0.02730\n",
      "epoch: 06, loss: -0.02758\n",
      "epoch: 07, loss: -0.02783\n",
      "epoch: 08, loss: -0.02800\n",
      "epoch: 09, loss: -0.02809\n",
      "torch.Size([350, 64])\n",
      "<class 'numpy.ndarray'>\n"
     ]
    },
    {
     "name": "stderr",
     "output_type": "stream",
     "text": [
      "  7%|▋         | 67/1000 [08:59<2:00:04,  7.72s/it]"
     ]
    },
    {
     "name": "stdout",
     "output_type": "stream",
     "text": [
      "eigenvalues shape torch.Size([5]) eigenvectors shape torch.Size([5, 350])\n",
      "67 /home/phdcs2/Hard_Disk/Datasets/Deep-Spectral-Segmentation/data/object-segmentation/ECSSD/features/dino_vits16/0068.pth\n",
      "dict_keys(['k', 'indices', 'file', 'id', 'model_name', 'patch_size', 'shape'])\n",
      "0068\n",
      "Starting Training\n",
      "epoch: 00, loss: -0.10197\n",
      "epoch: 01, loss: -0.12599\n",
      "epoch: 02, loss: -0.12798\n",
      "epoch: 03, loss: -0.13240\n",
      "epoch: 04, loss: -0.13247\n",
      "epoch: 05, loss: -0.13466\n",
      "epoch: 06, loss: -0.13390\n",
      "epoch: 07, loss: -0.13340\n",
      "epoch: 08, loss: -0.13533\n",
      "epoch: 09, loss: -0.13355\n",
      "torch.Size([525, 64])\n",
      "<class 'numpy.ndarray'>\n"
     ]
    },
    {
     "name": "stderr",
     "output_type": "stream",
     "text": [
      "  7%|▋         | 68/1000 [09:11<2:18:04,  8.89s/it]"
     ]
    },
    {
     "name": "stdout",
     "output_type": "stream",
     "text": [
      "eigenvalues shape torch.Size([5]) eigenvectors shape torch.Size([5, 525])\n",
      "68 /home/phdcs2/Hard_Disk/Datasets/Deep-Spectral-Segmentation/data/object-segmentation/ECSSD/features/dino_vits16/0069.pth\n",
      "dict_keys(['k', 'indices', 'file', 'id', 'model_name', 'patch_size', 'shape'])\n",
      "0069\n",
      "Starting Training\n",
      "epoch: 00, loss: -0.05729\n",
      "epoch: 01, loss: -0.07673\n",
      "epoch: 02, loss: -0.07785\n",
      "epoch: 03, loss: -0.07878\n",
      "epoch: 04, loss: -0.07850\n",
      "epoch: 05, loss: -0.07984\n",
      "epoch: 06, loss: -0.08001\n",
      "epoch: 07, loss: -0.07882\n",
      "epoch: 08, loss: -0.07893\n",
      "epoch: 09, loss: -0.08035\n",
      "torch.Size([425, 64])\n",
      "<class 'numpy.ndarray'>\n"
     ]
    },
    {
     "name": "stderr",
     "output_type": "stream",
     "text": [
      "  7%|▋         | 69/1000 [09:19<2:17:09,  8.84s/it]"
     ]
    },
    {
     "name": "stdout",
     "output_type": "stream",
     "text": [
      "eigenvalues shape torch.Size([5]) eigenvectors shape torch.Size([5, 425])\n",
      "69 /home/phdcs2/Hard_Disk/Datasets/Deep-Spectral-Segmentation/data/object-segmentation/ECSSD/features/dino_vits16/0070.pth\n",
      "dict_keys(['k', 'indices', 'file', 'id', 'model_name', 'patch_size', 'shape'])\n",
      "0070\n",
      "Starting Training\n",
      "epoch: 00, loss: -0.06723\n",
      "epoch: 01, loss: -0.09956\n",
      "epoch: 02, loss: -0.10490\n",
      "epoch: 03, loss: -0.10820\n",
      "epoch: 04, loss: -0.10900\n",
      "epoch: 05, loss: -0.10818\n",
      "epoch: 06, loss: -0.10786\n",
      "epoch: 07, loss: -0.10894\n",
      "epoch: 08, loss: -0.11055\n",
      "epoch: 09, loss: -0.11111\n",
      "torch.Size([500, 64])\n",
      "<class 'numpy.ndarray'>\n"
     ]
    },
    {
     "name": "stderr",
     "output_type": "stream",
     "text": [
      "  7%|▋         | 70/1000 [09:29<2:19:06,  8.97s/it]"
     ]
    },
    {
     "name": "stdout",
     "output_type": "stream",
     "text": [
      "eigenvalues shape torch.Size([5]) eigenvectors shape torch.Size([5, 500])\n",
      "70 /home/phdcs2/Hard_Disk/Datasets/Deep-Spectral-Segmentation/data/object-segmentation/ECSSD/features/dino_vits16/0071.pth\n",
      "dict_keys(['k', 'indices', 'file', 'id', 'model_name', 'patch_size', 'shape'])\n",
      "0071\n",
      "Starting Training\n",
      "epoch: 00, loss: -0.05189\n",
      "epoch: 01, loss: -0.07265\n",
      "epoch: 02, loss: -0.07543\n",
      "epoch: 03, loss: -0.07381\n",
      "epoch: 04, loss: -0.07621\n",
      "epoch: 05, loss: -0.07548\n",
      "epoch: 06, loss: -0.07867\n",
      "epoch: 07, loss: -0.07638\n",
      "epoch: 08, loss: -0.07433\n",
      "epoch: 09, loss: -0.07772\n",
      "torch.Size([450, 64])\n",
      "<class 'numpy.ndarray'>\n"
     ]
    },
    {
     "name": "stderr",
     "output_type": "stream",
     "text": [
      "  7%|▋         | 71/1000 [09:38<2:19:36,  9.02s/it]"
     ]
    },
    {
     "name": "stdout",
     "output_type": "stream",
     "text": [
      "eigenvalues shape torch.Size([5]) eigenvectors shape torch.Size([5, 450])\n",
      "71 /home/phdcs2/Hard_Disk/Datasets/Deep-Spectral-Segmentation/data/object-segmentation/ECSSD/features/dino_vits16/0072.pth\n",
      "dict_keys(['k', 'indices', 'file', 'id', 'model_name', 'patch_size', 'shape'])\n",
      "0072\n",
      "Starting Training\n",
      "epoch: 00, loss: -0.03897\n",
      "epoch: 01, loss: -0.05922\n",
      "epoch: 02, loss: -0.06046\n",
      "epoch: 03, loss: -0.06070\n",
      "epoch: 04, loss: -0.06105\n",
      "epoch: 05, loss: -0.06138\n",
      "epoch: 06, loss: -0.06168\n",
      "epoch: 07, loss: -0.06160\n",
      "epoch: 08, loss: -0.06172\n",
      "epoch: 09, loss: -0.06185\n",
      "torch.Size([400, 64])\n",
      "<class 'numpy.ndarray'>\n"
     ]
    },
    {
     "name": "stderr",
     "output_type": "stream",
     "text": [
      "  7%|▋         | 72/1000 [09:45<2:12:14,  8.55s/it]"
     ]
    },
    {
     "name": "stdout",
     "output_type": "stream",
     "text": [
      "eigenvalues shape torch.Size([5]) eigenvectors shape torch.Size([5, 400])\n",
      "72 /home/phdcs2/Hard_Disk/Datasets/Deep-Spectral-Segmentation/data/object-segmentation/ECSSD/features/dino_vits16/0073.pth\n",
      "dict_keys(['k', 'indices', 'file', 'id', 'model_name', 'patch_size', 'shape'])\n",
      "0073\n",
      "Starting Training\n",
      "epoch: 00, loss: -0.03522\n",
      "epoch: 01, loss: -0.05340\n",
      "epoch: 02, loss: -0.05506\n",
      "epoch: 03, loss: -0.05580\n",
      "epoch: 04, loss: -0.05616\n",
      "epoch: 05, loss: -0.05614\n",
      "epoch: 06, loss: -0.05675\n",
      "epoch: 07, loss: -0.05663\n",
      "epoch: 08, loss: -0.05666\n",
      "epoch: 09, loss: -0.05685\n",
      "torch.Size([450, 64])\n",
      "<class 'numpy.ndarray'>\n"
     ]
    },
    {
     "name": "stderr",
     "output_type": "stream",
     "text": [
      "  7%|▋         | 73/1000 [09:54<2:14:33,  8.71s/it]"
     ]
    },
    {
     "name": "stdout",
     "output_type": "stream",
     "text": [
      "eigenvalues shape torch.Size([5]) eigenvectors shape torch.Size([5, 450])\n",
      "73 /home/phdcs2/Hard_Disk/Datasets/Deep-Spectral-Segmentation/data/object-segmentation/ECSSD/features/dino_vits16/0074.pth\n",
      "dict_keys(['k', 'indices', 'file', 'id', 'model_name', 'patch_size', 'shape'])\n",
      "0074\n",
      "Starting Training\n",
      "epoch: 00, loss: -0.02872\n",
      "epoch: 01, loss: -0.04899\n",
      "epoch: 02, loss: -0.05474\n",
      "epoch: 03, loss: -0.05631\n",
      "epoch: 04, loss: -0.05756\n",
      "epoch: 05, loss: -0.05746\n",
      "epoch: 06, loss: -0.05704\n",
      "epoch: 07, loss: -0.05814\n",
      "epoch: 08, loss: -0.05952\n",
      "epoch: 09, loss: -0.05926\n",
      "torch.Size([450, 64])\n",
      "<class 'numpy.ndarray'>\n"
     ]
    },
    {
     "name": "stderr",
     "output_type": "stream",
     "text": [
      "  7%|▋         | 74/1000 [10:04<2:17:05,  8.88s/it]"
     ]
    },
    {
     "name": "stdout",
     "output_type": "stream",
     "text": [
      "eigenvalues shape torch.Size([5]) eigenvectors shape torch.Size([5, 450])\n",
      "74 /home/phdcs2/Hard_Disk/Datasets/Deep-Spectral-Segmentation/data/object-segmentation/ECSSD/features/dino_vits16/0075.pth\n",
      "dict_keys(['k', 'indices', 'file', 'id', 'model_name', 'patch_size', 'shape'])\n",
      "0075\n",
      "Starting Training\n",
      "epoch: 00, loss: -0.07650\n",
      "epoch: 01, loss: -0.09450\n",
      "epoch: 02, loss: -0.09494\n",
      "epoch: 03, loss: -0.09538\n",
      "epoch: 04, loss: -0.09542\n",
      "epoch: 05, loss: -0.09558\n",
      "epoch: 06, loss: -0.09570\n",
      "epoch: 07, loss: -0.09592\n",
      "epoch: 08, loss: -0.09587\n",
      "epoch: 09, loss: -0.09598\n",
      "torch.Size([450, 64])\n",
      "<class 'numpy.ndarray'>\n"
     ]
    },
    {
     "name": "stderr",
     "output_type": "stream",
     "text": [
      "  8%|▊         | 75/1000 [10:14<2:24:39,  9.38s/it]"
     ]
    },
    {
     "name": "stdout",
     "output_type": "stream",
     "text": [
      "eigenvalues shape torch.Size([5]) eigenvectors shape torch.Size([5, 450])\n",
      "75 /home/phdcs2/Hard_Disk/Datasets/Deep-Spectral-Segmentation/data/object-segmentation/ECSSD/features/dino_vits16/0076.pth\n",
      "dict_keys(['k', 'indices', 'file', 'id', 'model_name', 'patch_size', 'shape'])\n",
      "0076\n",
      "Starting Training\n",
      "epoch: 00, loss: -0.04111\n",
      "epoch: 01, loss: -0.06214\n",
      "epoch: 02, loss: -0.06214\n",
      "epoch: 03, loss: -0.06548\n",
      "epoch: 04, loss: -0.06545\n",
      "epoch: 05, loss: -0.06483\n",
      "epoch: 06, loss: -0.06483\n",
      "epoch: 07, loss: -0.06828\n",
      "epoch: 08, loss: -0.06818\n",
      "epoch: 09, loss: -0.06637\n",
      "torch.Size([400, 64])\n",
      "<class 'numpy.ndarray'>\n"
     ]
    },
    {
     "name": "stderr",
     "output_type": "stream",
     "text": [
      "  8%|▊         | 76/1000 [10:20<2:10:14,  8.46s/it]"
     ]
    },
    {
     "name": "stdout",
     "output_type": "stream",
     "text": [
      "eigenvalues shape torch.Size([5]) eigenvectors shape torch.Size([5, 400])\n",
      "76 /home/phdcs2/Hard_Disk/Datasets/Deep-Spectral-Segmentation/data/object-segmentation/ECSSD/features/dino_vits16/0077.pth\n",
      "dict_keys(['k', 'indices', 'file', 'id', 'model_name', 'patch_size', 'shape'])\n",
      "0077\n",
      "Starting Training\n",
      "epoch: 00, loss: -0.04105\n",
      "epoch: 01, loss: -0.06819\n",
      "epoch: 02, loss: -0.06946\n",
      "epoch: 03, loss: -0.06972\n",
      "epoch: 04, loss: -0.06987\n",
      "epoch: 05, loss: -0.07019\n",
      "epoch: 06, loss: -0.07031\n",
      "epoch: 07, loss: -0.07025\n",
      "epoch: 08, loss: -0.07031\n",
      "epoch: 09, loss: -0.07043\n",
      "torch.Size([450, 64])\n",
      "<class 'numpy.ndarray'>\n"
     ]
    },
    {
     "name": "stderr",
     "output_type": "stream",
     "text": [
      "  8%|▊         | 77/1000 [10:32<2:24:29,  9.39s/it]"
     ]
    },
    {
     "name": "stdout",
     "output_type": "stream",
     "text": [
      "eigenvalues shape torch.Size([5]) eigenvectors shape torch.Size([5, 450])\n",
      "77 /home/phdcs2/Hard_Disk/Datasets/Deep-Spectral-Segmentation/data/object-segmentation/ECSSD/features/dino_vits16/0078.pth\n",
      "dict_keys(['k', 'indices', 'file', 'id', 'model_name', 'patch_size', 'shape'])\n",
      "0078\n",
      "Starting Training\n",
      "epoch: 00, loss: -0.03766\n",
      "epoch: 01, loss: -0.06013\n",
      "epoch: 02, loss: -0.06148\n",
      "epoch: 03, loss: -0.06185\n",
      "epoch: 04, loss: -0.06206\n",
      "epoch: 05, loss: -0.06238\n",
      "epoch: 06, loss: -0.06238\n",
      "epoch: 07, loss: -0.06261\n",
      "epoch: 08, loss: -0.06267\n",
      "epoch: 09, loss: -0.06299\n",
      "torch.Size([400, 64])\n",
      "<class 'numpy.ndarray'>\n"
     ]
    },
    {
     "name": "stderr",
     "output_type": "stream",
     "text": [
      "  8%|▊         | 78/1000 [10:38<2:10:23,  8.48s/it]"
     ]
    },
    {
     "name": "stdout",
     "output_type": "stream",
     "text": [
      "eigenvalues shape torch.Size([5]) eigenvectors shape torch.Size([5, 400])\n",
      "78 /home/phdcs2/Hard_Disk/Datasets/Deep-Spectral-Segmentation/data/object-segmentation/ECSSD/features/dino_vits16/0079.pth\n",
      "dict_keys(['k', 'indices', 'file', 'id', 'model_name', 'patch_size', 'shape'])\n",
      "0079\n",
      "Starting Training\n",
      "epoch: 00, loss: -0.13749\n",
      "epoch: 01, loss: -0.16784\n",
      "epoch: 02, loss: -0.17506\n",
      "epoch: 03, loss: -0.17353\n",
      "epoch: 04, loss: -0.17752\n",
      "epoch: 05, loss: -0.17844\n",
      "epoch: 06, loss: -0.17687\n",
      "epoch: 07, loss: -0.17914\n",
      "epoch: 08, loss: -0.18230\n",
      "epoch: 09, loss: -0.17842\n",
      "torch.Size([525, 64])\n",
      "<class 'numpy.ndarray'>\n"
     ]
    },
    {
     "name": "stderr",
     "output_type": "stream",
     "text": [
      "  8%|▊         | 79/1000 [10:53<2:36:51, 10.22s/it]"
     ]
    },
    {
     "name": "stdout",
     "output_type": "stream",
     "text": [
      "eigenvalues shape torch.Size([5]) eigenvectors shape torch.Size([5, 525])\n",
      "79 /home/phdcs2/Hard_Disk/Datasets/Deep-Spectral-Segmentation/data/object-segmentation/ECSSD/features/dino_vits16/0080.pth\n",
      "dict_keys(['k', 'indices', 'file', 'id', 'model_name', 'patch_size', 'shape'])\n",
      "0080\n",
      "Starting Training\n",
      "epoch: 00, loss: -0.04519\n",
      "epoch: 01, loss: -0.07520\n",
      "epoch: 02, loss: -0.08117\n",
      "epoch: 03, loss: -0.08137\n",
      "epoch: 04, loss: -0.08256\n",
      "epoch: 05, loss: -0.08065\n",
      "epoch: 06, loss: -0.08411\n",
      "epoch: 07, loss: -0.08362\n",
      "epoch: 08, loss: -0.08422\n",
      "epoch: 09, loss: -0.08516\n",
      "torch.Size([450, 64])\n",
      "<class 'numpy.ndarray'>\n"
     ]
    },
    {
     "name": "stderr",
     "output_type": "stream",
     "text": [
      "  8%|▊         | 80/1000 [11:06<2:53:05, 11.29s/it]"
     ]
    },
    {
     "name": "stdout",
     "output_type": "stream",
     "text": [
      "eigenvalues shape torch.Size([5]) eigenvectors shape torch.Size([5, 450])\n",
      "80 /home/phdcs2/Hard_Disk/Datasets/Deep-Spectral-Segmentation/data/object-segmentation/ECSSD/features/dino_vits16/0081.pth\n",
      "dict_keys(['k', 'indices', 'file', 'id', 'model_name', 'patch_size', 'shape'])\n",
      "0081\n",
      "Starting Training\n",
      "epoch: 00, loss: -0.06344\n",
      "epoch: 01, loss: -0.08380\n",
      "epoch: 02, loss: -0.08420\n",
      "epoch: 03, loss: -0.08446\n",
      "epoch: 04, loss: -0.08466\n",
      "epoch: 05, loss: -0.08470\n",
      "epoch: 06, loss: -0.08525\n",
      "epoch: 07, loss: -0.08513\n",
      "epoch: 08, loss: -0.08511\n",
      "epoch: 09, loss: -0.08530\n",
      "torch.Size([450, 64])\n",
      "<class 'numpy.ndarray'>\n"
     ]
    },
    {
     "name": "stderr",
     "output_type": "stream",
     "text": [
      "  8%|▊         | 81/1000 [11:19<2:57:52, 11.61s/it]"
     ]
    },
    {
     "name": "stdout",
     "output_type": "stream",
     "text": [
      "eigenvalues shape torch.Size([5]) eigenvectors shape torch.Size([5, 450])\n",
      "81 /home/phdcs2/Hard_Disk/Datasets/Deep-Spectral-Segmentation/data/object-segmentation/ECSSD/features/dino_vits16/0082.pth\n",
      "dict_keys(['k', 'indices', 'file', 'id', 'model_name', 'patch_size', 'shape'])\n",
      "0082\n",
      "Starting Training\n",
      "epoch: 00, loss: -0.01303\n",
      "epoch: 01, loss: -0.02579\n",
      "epoch: 02, loss: -0.02905\n",
      "epoch: 03, loss: -0.02921\n",
      "epoch: 04, loss: -0.02964\n",
      "epoch: 05, loss: -0.03097\n",
      "epoch: 06, loss: -0.03071\n",
      "epoch: 07, loss: -0.03101\n",
      "epoch: 08, loss: -0.03100\n",
      "epoch: 09, loss: -0.03040\n",
      "torch.Size([450, 64])\n",
      "<class 'numpy.ndarray'>\n"
     ]
    },
    {
     "name": "stderr",
     "output_type": "stream",
     "text": [
      "  8%|▊         | 82/1000 [11:28<2:46:17, 10.87s/it]"
     ]
    },
    {
     "name": "stdout",
     "output_type": "stream",
     "text": [
      "eigenvalues shape torch.Size([5]) eigenvectors shape torch.Size([5, 450])\n",
      "82 /home/phdcs2/Hard_Disk/Datasets/Deep-Spectral-Segmentation/data/object-segmentation/ECSSD/features/dino_vits16/0083.pth\n",
      "dict_keys(['k', 'indices', 'file', 'id', 'model_name', 'patch_size', 'shape'])\n",
      "0083\n",
      "Starting Training\n",
      "epoch: 00, loss: -0.04333\n",
      "epoch: 01, loss: -0.07356\n",
      "epoch: 02, loss: -0.07588\n",
      "epoch: 03, loss: -0.07827\n",
      "epoch: 04, loss: -0.08099\n",
      "epoch: 05, loss: -0.07890\n",
      "epoch: 06, loss: -0.07922\n",
      "epoch: 07, loss: -0.08054\n",
      "epoch: 08, loss: -0.08189\n",
      "epoch: 09, loss: -0.08396\n",
      "torch.Size([450, 64])\n",
      "<class 'numpy.ndarray'>\n"
     ]
    },
    {
     "name": "stderr",
     "output_type": "stream",
     "text": [
      "  8%|▊         | 83/1000 [11:38<2:41:14, 10.55s/it]"
     ]
    },
    {
     "name": "stdout",
     "output_type": "stream",
     "text": [
      "eigenvalues shape torch.Size([5]) eigenvectors shape torch.Size([5, 450])\n",
      "83 /home/phdcs2/Hard_Disk/Datasets/Deep-Spectral-Segmentation/data/object-segmentation/ECSSD/features/dino_vits16/0084.pth\n",
      "dict_keys(['k', 'indices', 'file', 'id', 'model_name', 'patch_size', 'shape'])\n",
      "0084\n",
      "Starting Training\n",
      "epoch: 00, loss: -0.02138\n",
      "epoch: 01, loss: -0.04950\n",
      "epoch: 02, loss: -0.05331\n",
      "epoch: 03, loss: -0.05604\n",
      "epoch: 04, loss: -0.05810\n",
      "epoch: 05, loss: -0.05873\n",
      "epoch: 06, loss: -0.06012\n",
      "epoch: 07, loss: -0.05917\n",
      "epoch: 08, loss: -0.05987\n",
      "epoch: 09, loss: -0.06041\n",
      "torch.Size([450, 64])\n",
      "<class 'numpy.ndarray'>\n"
     ]
    },
    {
     "name": "stderr",
     "output_type": "stream",
     "text": [
      "  8%|▊         | 84/1000 [11:47<2:33:24, 10.05s/it]"
     ]
    },
    {
     "name": "stdout",
     "output_type": "stream",
     "text": [
      "eigenvalues shape torch.Size([5]) eigenvectors shape torch.Size([5, 450])\n",
      "84 /home/phdcs2/Hard_Disk/Datasets/Deep-Spectral-Segmentation/data/object-segmentation/ECSSD/features/dino_vits16/0085.pth\n",
      "dict_keys(['k', 'indices', 'file', 'id', 'model_name', 'patch_size', 'shape'])\n",
      "0085\n",
      "Starting Training\n",
      "epoch: 00, loss: -0.01085\n",
      "epoch: 01, loss: -0.02997\n",
      "epoch: 02, loss: -0.03467\n",
      "epoch: 03, loss: -0.03423\n",
      "epoch: 04, loss: -0.03601\n",
      "epoch: 05, loss: -0.03604\n",
      "epoch: 06, loss: -0.03638\n",
      "epoch: 07, loss: -0.03700\n",
      "epoch: 08, loss: -0.03669\n",
      "epoch: 09, loss: -0.03681\n",
      "torch.Size([450, 64])\n",
      "<class 'numpy.ndarray'>\n"
     ]
    },
    {
     "name": "stderr",
     "output_type": "stream",
     "text": [
      "  8%|▊         | 85/1000 [11:56<2:29:30,  9.80s/it]"
     ]
    },
    {
     "name": "stdout",
     "output_type": "stream",
     "text": [
      "eigenvalues shape torch.Size([5]) eigenvectors shape torch.Size([5, 450])\n",
      "85 /home/phdcs2/Hard_Disk/Datasets/Deep-Spectral-Segmentation/data/object-segmentation/ECSSD/features/dino_vits16/0086.pth\n",
      "dict_keys(['k', 'indices', 'file', 'id', 'model_name', 'patch_size', 'shape'])\n",
      "0086\n",
      "Starting Training\n",
      "epoch: 00, loss: -0.02891\n",
      "epoch: 01, loss: -0.04818\n",
      "epoch: 02, loss: -0.05455\n",
      "epoch: 03, loss: -0.05407\n",
      "epoch: 04, loss: -0.05669\n",
      "epoch: 05, loss: -0.05920\n",
      "epoch: 06, loss: -0.05912\n",
      "epoch: 07, loss: -0.05786\n",
      "epoch: 08, loss: -0.05920\n",
      "epoch: 09, loss: -0.06106\n",
      "torch.Size([450, 64])\n",
      "<class 'numpy.ndarray'>\n"
     ]
    },
    {
     "name": "stderr",
     "output_type": "stream",
     "text": [
      "  9%|▊         | 86/1000 [12:05<2:24:30,  9.49s/it]"
     ]
    },
    {
     "name": "stdout",
     "output_type": "stream",
     "text": [
      "eigenvalues shape torch.Size([5]) eigenvectors shape torch.Size([5, 450])\n",
      "86 /home/phdcs2/Hard_Disk/Datasets/Deep-Spectral-Segmentation/data/object-segmentation/ECSSD/features/dino_vits16/0087.pth\n",
      "dict_keys(['k', 'indices', 'file', 'id', 'model_name', 'patch_size', 'shape'])\n",
      "0087\n",
      "Starting Training\n",
      "epoch: 00, loss: -0.07594\n",
      "epoch: 01, loss: -0.10093\n",
      "epoch: 02, loss: -0.10183\n",
      "epoch: 03, loss: -0.10247\n",
      "epoch: 04, loss: -0.10237\n",
      "epoch: 05, loss: -0.10259\n",
      "epoch: 06, loss: -0.10321\n",
      "epoch: 07, loss: -0.10281\n",
      "epoch: 08, loss: -0.10311\n",
      "epoch: 09, loss: -0.10321\n",
      "torch.Size([450, 64])\n",
      "<class 'numpy.ndarray'>\n"
     ]
    },
    {
     "name": "stderr",
     "output_type": "stream",
     "text": [
      "  9%|▊         | 87/1000 [12:17<2:37:04, 10.32s/it]"
     ]
    },
    {
     "name": "stdout",
     "output_type": "stream",
     "text": [
      "eigenvalues shape torch.Size([5]) eigenvectors shape torch.Size([5, 450])\n",
      "87 /home/phdcs2/Hard_Disk/Datasets/Deep-Spectral-Segmentation/data/object-segmentation/ECSSD/features/dino_vits16/0088.pth\n",
      "dict_keys(['k', 'indices', 'file', 'id', 'model_name', 'patch_size', 'shape'])\n",
      "0088\n",
      "Starting Training\n",
      "epoch: 00, loss: -0.00333\n",
      "epoch: 01, loss: -0.01749\n",
      "epoch: 02, loss: -0.02186\n",
      "epoch: 03, loss: -0.02362\n",
      "epoch: 04, loss: -0.02432\n",
      "epoch: 05, loss: -0.02495\n",
      "epoch: 06, loss: -0.02518\n",
      "epoch: 07, loss: -0.02527\n",
      "epoch: 08, loss: -0.02553\n",
      "epoch: 09, loss: -0.02554\n",
      "torch.Size([450, 64])\n",
      "<class 'numpy.ndarray'>\n"
     ]
    },
    {
     "name": "stderr",
     "output_type": "stream",
     "text": [
      "  9%|▉         | 88/1000 [12:29<2:45:05, 10.86s/it]"
     ]
    },
    {
     "name": "stdout",
     "output_type": "stream",
     "text": [
      "eigenvalues shape torch.Size([5]) eigenvectors shape torch.Size([5, 450])\n",
      "88 /home/phdcs2/Hard_Disk/Datasets/Deep-Spectral-Segmentation/data/object-segmentation/ECSSD/features/dino_vits16/0089.pth\n",
      "dict_keys(['k', 'indices', 'file', 'id', 'model_name', 'patch_size', 'shape'])\n",
      "0089\n",
      "Starting Training\n",
      "epoch: 00, loss: -0.05848\n",
      "epoch: 01, loss: -0.07723\n",
      "epoch: 02, loss: -0.07820\n",
      "epoch: 03, loss: -0.07872\n",
      "epoch: 04, loss: -0.07898\n",
      "epoch: 05, loss: -0.07911\n",
      "epoch: 06, loss: -0.07918\n",
      "epoch: 07, loss: -0.07940\n",
      "epoch: 08, loss: -0.07953\n",
      "epoch: 09, loss: -0.07963\n",
      "torch.Size([400, 64])\n",
      "<class 'numpy.ndarray'>\n"
     ]
    },
    {
     "name": "stderr",
     "output_type": "stream",
     "text": [
      "  9%|▉         | 89/1000 [12:42<2:54:31, 11.49s/it]"
     ]
    },
    {
     "name": "stdout",
     "output_type": "stream",
     "text": [
      "eigenvalues shape torch.Size([5]) eigenvectors shape torch.Size([5, 400])\n",
      "89 /home/phdcs2/Hard_Disk/Datasets/Deep-Spectral-Segmentation/data/object-segmentation/ECSSD/features/dino_vits16/0090.pth\n",
      "dict_keys(['k', 'indices', 'file', 'id', 'model_name', 'patch_size', 'shape'])\n",
      "0090\n",
      "Starting Training\n",
      "epoch: 00, loss: -0.02265\n",
      "epoch: 01, loss: -0.03989\n",
      "epoch: 02, loss: -0.04263\n",
      "epoch: 03, loss: -0.04356\n",
      "epoch: 04, loss: -0.04387\n",
      "epoch: 05, loss: -0.04441\n",
      "epoch: 06, loss: -0.04467\n",
      "epoch: 07, loss: -0.04470\n",
      "epoch: 08, loss: -0.04499\n",
      "epoch: 09, loss: -0.04497\n",
      "torch.Size([400, 64])\n",
      "<class 'numpy.ndarray'>\n"
     ]
    },
    {
     "name": "stderr",
     "output_type": "stream",
     "text": [
      "  9%|▉         | 90/1000 [12:50<2:37:59, 10.42s/it]"
     ]
    },
    {
     "name": "stdout",
     "output_type": "stream",
     "text": [
      "eigenvalues shape torch.Size([5]) eigenvectors shape torch.Size([5, 400])\n",
      "90 /home/phdcs2/Hard_Disk/Datasets/Deep-Spectral-Segmentation/data/object-segmentation/ECSSD/features/dino_vits16/0091.pth\n",
      "dict_keys(['k', 'indices', 'file', 'id', 'model_name', 'patch_size', 'shape'])\n",
      "0091\n",
      "Starting Training\n",
      "epoch: 00, loss: -0.01667\n",
      "epoch: 01, loss: -0.04904\n",
      "epoch: 02, loss: -0.05352\n",
      "epoch: 03, loss: -0.05457\n",
      "epoch: 04, loss: -0.05662\n",
      "epoch: 05, loss: -0.05928\n",
      "epoch: 06, loss: -0.05855\n",
      "epoch: 07, loss: -0.05905\n",
      "epoch: 08, loss: -0.05859\n",
      "epoch: 09, loss: -0.05872\n",
      "torch.Size([400, 64])\n",
      "<class 'numpy.ndarray'>\n"
     ]
    },
    {
     "name": "stderr",
     "output_type": "stream",
     "text": [
      "  9%|▉         | 91/1000 [12:56<2:17:18,  9.06s/it]"
     ]
    },
    {
     "name": "stdout",
     "output_type": "stream",
     "text": [
      "eigenvalues shape torch.Size([5]) eigenvectors shape torch.Size([5, 400])\n",
      "91 /home/phdcs2/Hard_Disk/Datasets/Deep-Spectral-Segmentation/data/object-segmentation/ECSSD/features/dino_vits16/0092.pth\n",
      "dict_keys(['k', 'indices', 'file', 'id', 'model_name', 'patch_size', 'shape'])\n",
      "0092\n",
      "Starting Training\n",
      "epoch: 00, loss: -0.03479\n",
      "epoch: 01, loss: -0.05919\n",
      "epoch: 02, loss: -0.05989\n",
      "epoch: 03, loss: -0.06122\n",
      "epoch: 04, loss: -0.06337\n",
      "epoch: 05, loss: -0.06567\n",
      "epoch: 06, loss: -0.06364\n",
      "epoch: 07, loss: -0.06453\n",
      "epoch: 08, loss: -0.06377\n",
      "epoch: 09, loss: -0.06488\n",
      "torch.Size([400, 64])\n",
      "<class 'numpy.ndarray'>\n"
     ]
    },
    {
     "name": "stderr",
     "output_type": "stream",
     "text": [
      "  9%|▉         | 92/1000 [13:04<2:11:20,  8.68s/it]"
     ]
    },
    {
     "name": "stdout",
     "output_type": "stream",
     "text": [
      "eigenvalues shape torch.Size([5]) eigenvectors shape torch.Size([5, 400])\n",
      "92 /home/phdcs2/Hard_Disk/Datasets/Deep-Spectral-Segmentation/data/object-segmentation/ECSSD/features/dino_vits16/0093.pth\n",
      "dict_keys(['k', 'indices', 'file', 'id', 'model_name', 'patch_size', 'shape'])\n",
      "0093\n",
      "Starting Training\n",
      "epoch: 00, loss: -0.02694\n",
      "epoch: 01, loss: -0.04488\n",
      "epoch: 02, loss: -0.04660\n",
      "epoch: 03, loss: -0.04712\n",
      "epoch: 04, loss: -0.04745\n",
      "epoch: 05, loss: -0.04755\n",
      "epoch: 06, loss: -0.04784\n",
      "epoch: 07, loss: -0.04786\n",
      "epoch: 08, loss: -0.04808\n",
      "epoch: 09, loss: -0.04819\n",
      "torch.Size([400, 64])\n",
      "<class 'numpy.ndarray'>\n"
     ]
    },
    {
     "name": "stderr",
     "output_type": "stream",
     "text": [
      "  9%|▉         | 93/1000 [13:15<2:22:18,  9.41s/it]"
     ]
    },
    {
     "name": "stdout",
     "output_type": "stream",
     "text": [
      "eigenvalues shape torch.Size([5]) eigenvectors shape torch.Size([5, 400])\n",
      "93 /home/phdcs2/Hard_Disk/Datasets/Deep-Spectral-Segmentation/data/object-segmentation/ECSSD/features/dino_vits16/0094.pth\n",
      "dict_keys(['k', 'indices', 'file', 'id', 'model_name', 'patch_size', 'shape'])\n",
      "0094\n",
      "Starting Training\n",
      "epoch: 00, loss: -0.13120\n",
      "epoch: 01, loss: -0.16927\n",
      "epoch: 02, loss: -0.17364\n",
      "epoch: 03, loss: -0.17361\n",
      "epoch: 04, loss: -0.17653\n",
      "epoch: 05, loss: -0.17589\n",
      "epoch: 06, loss: -0.17694\n",
      "epoch: 07, loss: -0.17979\n",
      "epoch: 08, loss: -0.17915\n",
      "epoch: 09, loss: -0.17919\n",
      "torch.Size([400, 64])\n",
      "<class 'numpy.ndarray'>\n"
     ]
    },
    {
     "name": "stderr",
     "output_type": "stream",
     "text": [
      "  9%|▉         | 94/1000 [13:25<2:24:54,  9.60s/it]"
     ]
    },
    {
     "name": "stdout",
     "output_type": "stream",
     "text": [
      "eigenvalues shape torch.Size([5]) eigenvectors shape torch.Size([5, 400])\n",
      "94 /home/phdcs2/Hard_Disk/Datasets/Deep-Spectral-Segmentation/data/object-segmentation/ECSSD/features/dino_vits16/0095.pth\n",
      "dict_keys(['k', 'indices', 'file', 'id', 'model_name', 'patch_size', 'shape'])\n",
      "0095\n",
      "Starting Training\n",
      "epoch: 00, loss: -0.01655\n",
      "epoch: 01, loss: -0.04433\n",
      "epoch: 02, loss: -0.05296\n",
      "epoch: 03, loss: -0.05594\n",
      "epoch: 04, loss: -0.05596\n",
      "epoch: 05, loss: -0.05850\n",
      "epoch: 06, loss: -0.05811\n",
      "epoch: 07, loss: -0.05719\n",
      "epoch: 08, loss: -0.05793\n",
      "epoch: 09, loss: -0.05877\n",
      "torch.Size([400, 64])\n",
      "<class 'numpy.ndarray'>\n"
     ]
    },
    {
     "name": "stderr",
     "output_type": "stream",
     "text": [
      " 10%|▉         | 95/1000 [13:31<2:08:05,  8.49s/it]"
     ]
    },
    {
     "name": "stdout",
     "output_type": "stream",
     "text": [
      "eigenvalues shape torch.Size([5]) eigenvectors shape torch.Size([5, 400])\n",
      "95 /home/phdcs2/Hard_Disk/Datasets/Deep-Spectral-Segmentation/data/object-segmentation/ECSSD/features/dino_vits16/0096.pth\n",
      "dict_keys(['k', 'indices', 'file', 'id', 'model_name', 'patch_size', 'shape'])\n",
      "0096\n",
      "Starting Training\n",
      "epoch: 00, loss: -0.01338\n",
      "epoch: 01, loss: -0.02686\n",
      "epoch: 02, loss: -0.02951\n",
      "epoch: 03, loss: -0.03033\n",
      "epoch: 04, loss: -0.03091\n",
      "epoch: 05, loss: -0.03122\n",
      "epoch: 06, loss: -0.03143\n",
      "epoch: 07, loss: -0.03162\n",
      "epoch: 08, loss: -0.03155\n",
      "epoch: 09, loss: -0.03179\n",
      "torch.Size([400, 64])\n",
      "<class 'numpy.ndarray'>\n"
     ]
    },
    {
     "name": "stderr",
     "output_type": "stream",
     "text": [
      " 10%|▉         | 96/1000 [13:37<2:00:03,  7.97s/it]"
     ]
    },
    {
     "name": "stdout",
     "output_type": "stream",
     "text": [
      "eigenvalues shape torch.Size([5]) eigenvectors shape torch.Size([5, 400])\n",
      "96 /home/phdcs2/Hard_Disk/Datasets/Deep-Spectral-Segmentation/data/object-segmentation/ECSSD/features/dino_vits16/0097.pth\n",
      "dict_keys(['k', 'indices', 'file', 'id', 'model_name', 'patch_size', 'shape'])\n",
      "0097\n",
      "Starting Training\n",
      "epoch: 00, loss: -0.01548\n",
      "epoch: 01, loss: -0.04539\n",
      "epoch: 02, loss: -0.04829\n",
      "epoch: 03, loss: -0.04905\n",
      "epoch: 04, loss: -0.04936\n",
      "epoch: 05, loss: -0.04938\n",
      "epoch: 06, loss: -0.04942\n",
      "epoch: 07, loss: -0.04967\n",
      "epoch: 08, loss: -0.04985\n",
      "epoch: 09, loss: -0.04984\n",
      "torch.Size([400, 64])\n",
      "<class 'numpy.ndarray'>\n"
     ]
    },
    {
     "name": "stderr",
     "output_type": "stream",
     "text": [
      " 10%|▉         | 97/1000 [13:45<1:57:16,  7.79s/it]"
     ]
    },
    {
     "name": "stdout",
     "output_type": "stream",
     "text": [
      "eigenvalues shape torch.Size([5]) eigenvectors shape torch.Size([5, 400])\n",
      "97 /home/phdcs2/Hard_Disk/Datasets/Deep-Spectral-Segmentation/data/object-segmentation/ECSSD/features/dino_vits16/0098.pth\n",
      "dict_keys(['k', 'indices', 'file', 'id', 'model_name', 'patch_size', 'shape'])\n",
      "0098\n",
      "Starting Training\n",
      "epoch: 00, loss: -0.00054\n",
      "epoch: 01, loss: -0.00890\n",
      "epoch: 02, loss: -0.01226\n",
      "epoch: 03, loss: -0.01394\n",
      "epoch: 04, loss: -0.01479\n",
      "epoch: 05, loss: -0.01542\n",
      "epoch: 06, loss: -0.01590\n",
      "epoch: 07, loss: -0.01614\n",
      "epoch: 08, loss: -0.01640\n",
      "epoch: 09, loss: -0.01664\n",
      "torch.Size([400, 64])\n",
      "<class 'numpy.ndarray'>\n"
     ]
    },
    {
     "name": "stderr",
     "output_type": "stream",
     "text": [
      " 10%|▉         | 98/1000 [13:51<1:51:47,  7.44s/it]"
     ]
    },
    {
     "name": "stdout",
     "output_type": "stream",
     "text": [
      "eigenvalues shape torch.Size([5]) eigenvectors shape torch.Size([5, 400])\n",
      "98 /home/phdcs2/Hard_Disk/Datasets/Deep-Spectral-Segmentation/data/object-segmentation/ECSSD/features/dino_vits16/0099.pth\n",
      "dict_keys(['k', 'indices', 'file', 'id', 'model_name', 'patch_size', 'shape'])\n",
      "0099\n",
      "Starting Training\n",
      "epoch: 00, loss: -0.00033\n",
      "epoch: 01, loss: -0.01419\n",
      "epoch: 02, loss: -0.02192\n",
      "epoch: 03, loss: -0.02467\n",
      "epoch: 04, loss: -0.02894\n",
      "epoch: 05, loss: -0.02513\n",
      "epoch: 06, loss: -0.02550\n",
      "epoch: 07, loss: -0.03048\n",
      "epoch: 08, loss: -0.03033\n",
      "epoch: 09, loss: -0.02601\n",
      "torch.Size([400, 64])\n",
      "<class 'numpy.ndarray'>\n"
     ]
    },
    {
     "name": "stderr",
     "output_type": "stream",
     "text": [
      " 10%|▉         | 99/1000 [13:59<1:52:56,  7.52s/it]"
     ]
    },
    {
     "name": "stdout",
     "output_type": "stream",
     "text": [
      "eigenvalues shape torch.Size([5]) eigenvectors shape torch.Size([5, 400])\n",
      "99 /home/phdcs2/Hard_Disk/Datasets/Deep-Spectral-Segmentation/data/object-segmentation/ECSSD/features/dino_vits16/0100.pth\n",
      "dict_keys(['k', 'indices', 'file', 'id', 'model_name', 'patch_size', 'shape'])\n",
      "0100\n",
      "Starting Training\n",
      "epoch: 00, loss: -0.00786\n",
      "epoch: 01, loss: -0.02211\n",
      "epoch: 02, loss: -0.02587\n",
      "epoch: 03, loss: -0.02699\n",
      "epoch: 04, loss: -0.02749\n",
      "epoch: 05, loss: -0.02783\n",
      "epoch: 06, loss: -0.02807\n",
      "epoch: 07, loss: -0.02821\n",
      "epoch: 08, loss: -0.02830\n",
      "epoch: 09, loss: -0.02841\n",
      "torch.Size([400, 64])\n",
      "<class 'numpy.ndarray'>\n"
     ]
    },
    {
     "name": "stderr",
     "output_type": "stream",
     "text": [
      " 10%|█         | 100/1000 [14:07<1:55:44,  7.72s/it]"
     ]
    },
    {
     "name": "stdout",
     "output_type": "stream",
     "text": [
      "eigenvalues shape torch.Size([5]) eigenvectors shape torch.Size([5, 400])\n",
      "100 /home/phdcs2/Hard_Disk/Datasets/Deep-Spectral-Segmentation/data/object-segmentation/ECSSD/features/dino_vits16/0101.pth\n",
      "dict_keys(['k', 'indices', 'file', 'id', 'model_name', 'patch_size', 'shape'])\n",
      "0101\n",
      "Starting Training\n",
      "epoch: 00, loss: -0.06397\n",
      "epoch: 01, loss: -0.09281\n",
      "epoch: 02, loss: -0.09425\n",
      "epoch: 03, loss: -0.10180\n",
      "epoch: 04, loss: -0.10162\n",
      "epoch: 05, loss: -0.09911\n",
      "epoch: 06, loss: -0.09985\n",
      "epoch: 07, loss: -0.10133\n",
      "epoch: 08, loss: -0.10349\n",
      "epoch: 09, loss: -0.10310\n",
      "torch.Size([400, 64])\n",
      "<class 'numpy.ndarray'>\n"
     ]
    },
    {
     "name": "stderr",
     "output_type": "stream",
     "text": [
      " 10%|█         | 101/1000 [14:19<2:13:29,  8.91s/it]"
     ]
    },
    {
     "name": "stdout",
     "output_type": "stream",
     "text": [
      "eigenvalues shape torch.Size([5]) eigenvectors shape torch.Size([5, 400])\n",
      "101 /home/phdcs2/Hard_Disk/Datasets/Deep-Spectral-Segmentation/data/object-segmentation/ECSSD/features/dino_vits16/0102.pth\n",
      "dict_keys(['k', 'indices', 'file', 'id', 'model_name', 'patch_size', 'shape'])\n",
      "0102\n",
      "Starting Training\n",
      "epoch: 00, loss: -0.02081\n",
      "epoch: 01, loss: -0.04009\n",
      "epoch: 02, loss: -0.04301\n",
      "epoch: 03, loss: -0.04390\n",
      "epoch: 04, loss: -0.04432\n",
      "epoch: 05, loss: -0.04443\n",
      "epoch: 06, loss: -0.04471\n",
      "epoch: 07, loss: -0.04502\n",
      "epoch: 08, loss: -0.04496\n",
      "epoch: 09, loss: -0.04519\n",
      "torch.Size([400, 64])\n",
      "<class 'numpy.ndarray'>\n"
     ]
    },
    {
     "name": "stderr",
     "output_type": "stream",
     "text": [
      " 10%|█         | 102/1000 [14:28<2:11:51,  8.81s/it]"
     ]
    },
    {
     "name": "stdout",
     "output_type": "stream",
     "text": [
      "eigenvalues shape torch.Size([5]) eigenvectors shape torch.Size([5, 400])\n",
      "102 /home/phdcs2/Hard_Disk/Datasets/Deep-Spectral-Segmentation/data/object-segmentation/ECSSD/features/dino_vits16/0103.pth\n",
      "dict_keys(['k', 'indices', 'file', 'id', 'model_name', 'patch_size', 'shape'])\n",
      "0103\n",
      "Starting Training\n",
      "epoch: 00, loss: -0.02418\n",
      "epoch: 01, loss: -0.04965\n",
      "epoch: 02, loss: -0.05127\n",
      "epoch: 03, loss: -0.05207\n",
      "epoch: 04, loss: -0.05225\n",
      "epoch: 05, loss: -0.05265\n",
      "epoch: 06, loss: -0.05271\n",
      "epoch: 07, loss: -0.05299\n",
      "epoch: 08, loss: -0.05310\n",
      "epoch: 09, loss: -0.05302\n",
      "torch.Size([400, 64])\n",
      "<class 'numpy.ndarray'>\n"
     ]
    },
    {
     "name": "stderr",
     "output_type": "stream",
     "text": [
      " 10%|█         | 103/1000 [14:35<2:04:37,  8.34s/it]"
     ]
    },
    {
     "name": "stdout",
     "output_type": "stream",
     "text": [
      "eigenvalues shape torch.Size([5]) eigenvectors shape torch.Size([5, 400])\n",
      "103 /home/phdcs2/Hard_Disk/Datasets/Deep-Spectral-Segmentation/data/object-segmentation/ECSSD/features/dino_vits16/0104.pth\n",
      "dict_keys(['k', 'indices', 'file', 'id', 'model_name', 'patch_size', 'shape'])\n",
      "0104\n",
      "Starting Training\n",
      "epoch: 00, loss: -0.02906\n",
      "epoch: 01, loss: -0.05793\n",
      "epoch: 02, loss: -0.06301\n",
      "epoch: 03, loss: -0.06338\n",
      "epoch: 04, loss: -0.06260\n",
      "epoch: 05, loss: -0.06529\n",
      "epoch: 06, loss: -0.06496\n",
      "epoch: 07, loss: -0.06518\n",
      "epoch: 08, loss: -0.06541\n",
      "epoch: 09, loss: -0.06589\n",
      "torch.Size([400, 64])\n",
      "<class 'numpy.ndarray'>\n"
     ]
    },
    {
     "name": "stderr",
     "output_type": "stream",
     "text": [
      " 10%|█         | 104/1000 [14:43<2:03:38,  8.28s/it]"
     ]
    },
    {
     "name": "stdout",
     "output_type": "stream",
     "text": [
      "eigenvalues shape torch.Size([5]) eigenvectors shape torch.Size([5, 400])\n",
      "104 /home/phdcs2/Hard_Disk/Datasets/Deep-Spectral-Segmentation/data/object-segmentation/ECSSD/features/dino_vits16/0105.pth\n",
      "dict_keys(['k', 'indices', 'file', 'id', 'model_name', 'patch_size', 'shape'])\n",
      "0105\n",
      "Starting Training\n",
      "epoch: 00, loss: -0.03376\n",
      "epoch: 01, loss: -0.07830\n",
      "epoch: 02, loss: -0.08112\n",
      "epoch: 03, loss: -0.08395\n",
      "epoch: 04, loss: -0.08940\n",
      "epoch: 05, loss: -0.08760\n",
      "epoch: 06, loss: -0.08698\n",
      "epoch: 07, loss: -0.08846\n",
      "epoch: 08, loss: -0.08736\n",
      "epoch: 09, loss: -0.08725\n",
      "torch.Size([400, 64])\n",
      "<class 'numpy.ndarray'>\n"
     ]
    },
    {
     "name": "stderr",
     "output_type": "stream",
     "text": [
      " 10%|█         | 105/1000 [14:53<2:11:34,  8.82s/it]"
     ]
    },
    {
     "name": "stdout",
     "output_type": "stream",
     "text": [
      "eigenvalues shape torch.Size([5]) eigenvectors shape torch.Size([5, 400])\n",
      "105 /home/phdcs2/Hard_Disk/Datasets/Deep-Spectral-Segmentation/data/object-segmentation/ECSSD/features/dino_vits16/0106.pth\n",
      "dict_keys(['k', 'indices', 'file', 'id', 'model_name', 'patch_size', 'shape'])\n",
      "0106\n",
      "Starting Training\n",
      "epoch: 00, loss: -0.04563\n",
      "epoch: 01, loss: -0.07087\n",
      "epoch: 02, loss: -0.07847\n",
      "epoch: 03, loss: -0.07989\n",
      "epoch: 04, loss: -0.08260\n",
      "epoch: 05, loss: -0.08239\n",
      "epoch: 06, loss: -0.08348\n",
      "epoch: 07, loss: -0.08339\n",
      "epoch: 08, loss: -0.08523\n",
      "epoch: 09, loss: -0.08751\n",
      "torch.Size([400, 64])\n",
      "<class 'numpy.ndarray'>\n"
     ]
    },
    {
     "name": "stderr",
     "output_type": "stream",
     "text": [
      " 11%|█         | 106/1000 [15:02<2:10:43,  8.77s/it]"
     ]
    },
    {
     "name": "stdout",
     "output_type": "stream",
     "text": [
      "eigenvalues shape torch.Size([5]) eigenvectors shape torch.Size([5, 400])\n",
      "106 /home/phdcs2/Hard_Disk/Datasets/Deep-Spectral-Segmentation/data/object-segmentation/ECSSD/features/dino_vits16/0107.pth\n",
      "dict_keys(['k', 'indices', 'file', 'id', 'model_name', 'patch_size', 'shape'])\n",
      "0107\n",
      "Starting Training\n",
      "epoch: 00, loss: -0.01019\n",
      "epoch: 01, loss: -0.03130\n",
      "epoch: 02, loss: -0.03462\n",
      "epoch: 03, loss: -0.03575\n",
      "epoch: 04, loss: -0.03633\n",
      "epoch: 05, loss: -0.03636\n",
      "epoch: 06, loss: -0.03701\n",
      "epoch: 07, loss: -0.03697\n",
      "epoch: 08, loss: -0.03718\n",
      "epoch: 09, loss: -0.03725\n",
      "torch.Size([400, 64])\n",
      "<class 'numpy.ndarray'>\n"
     ]
    },
    {
     "name": "stderr",
     "output_type": "stream",
     "text": [
      " 11%|█         | 107/1000 [15:13<2:20:43,  9.46s/it]"
     ]
    },
    {
     "name": "stdout",
     "output_type": "stream",
     "text": [
      "eigenvalues shape torch.Size([5]) eigenvectors shape torch.Size([5, 400])\n",
      "107 /home/phdcs2/Hard_Disk/Datasets/Deep-Spectral-Segmentation/data/object-segmentation/ECSSD/features/dino_vits16/0108.pth\n",
      "dict_keys(['k', 'indices', 'file', 'id', 'model_name', 'patch_size', 'shape'])\n",
      "0108\n",
      "Starting Training\n",
      "epoch: 00, loss: -0.03550\n",
      "epoch: 01, loss: -0.05840\n",
      "epoch: 02, loss: -0.05904\n",
      "epoch: 03, loss: -0.05957\n",
      "epoch: 04, loss: -0.05992\n",
      "epoch: 05, loss: -0.06012\n",
      "epoch: 06, loss: -0.06024\n",
      "epoch: 07, loss: -0.06033\n",
      "epoch: 08, loss: -0.06047\n",
      "epoch: 09, loss: -0.06064\n",
      "torch.Size([400, 64])\n",
      "<class 'numpy.ndarray'>\n"
     ]
    },
    {
     "name": "stderr",
     "output_type": "stream",
     "text": [
      " 11%|█         | 108/1000 [15:22<2:18:00,  9.28s/it]"
     ]
    },
    {
     "name": "stdout",
     "output_type": "stream",
     "text": [
      "eigenvalues shape torch.Size([5]) eigenvectors shape torch.Size([5, 400])\n",
      "108 /home/phdcs2/Hard_Disk/Datasets/Deep-Spectral-Segmentation/data/object-segmentation/ECSSD/features/dino_vits16/0109.pth\n",
      "dict_keys(['k', 'indices', 'file', 'id', 'model_name', 'patch_size', 'shape'])\n",
      "0109\n",
      "Starting Training\n",
      "epoch: 00, loss: 0.00571\n",
      "epoch: 01, loss: -0.00338\n",
      "epoch: 02, loss: -0.00798\n",
      "epoch: 03, loss: -0.01077\n",
      "epoch: 04, loss: -0.01217\n",
      "epoch: 05, loss: -0.01314\n",
      "epoch: 06, loss: -0.01394\n",
      "epoch: 07, loss: -0.01436\n",
      "epoch: 08, loss: -0.01451\n",
      "epoch: 09, loss: -0.01479\n",
      "torch.Size([400, 64])\n",
      "<class 'numpy.ndarray'>\n"
     ]
    },
    {
     "name": "stderr",
     "output_type": "stream",
     "text": [
      " 11%|█         | 109/1000 [15:30<2:14:40,  9.07s/it]"
     ]
    },
    {
     "name": "stdout",
     "output_type": "stream",
     "text": [
      "eigenvalues shape torch.Size([5]) eigenvectors shape torch.Size([5, 400])\n",
      "109 /home/phdcs2/Hard_Disk/Datasets/Deep-Spectral-Segmentation/data/object-segmentation/ECSSD/features/dino_vits16/0110.pth\n",
      "dict_keys(['k', 'indices', 'file', 'id', 'model_name', 'patch_size', 'shape'])\n",
      "0110\n",
      "Starting Training\n",
      "epoch: 00, loss: -0.00859\n",
      "epoch: 01, loss: -0.02390\n",
      "epoch: 02, loss: -0.02707\n",
      "epoch: 03, loss: -0.02796\n",
      "epoch: 04, loss: -0.02875\n",
      "epoch: 05, loss: -0.02904\n",
      "epoch: 06, loss: -0.02924\n",
      "epoch: 07, loss: -0.02943\n",
      "epoch: 08, loss: -0.02952\n",
      "epoch: 09, loss: -0.02965\n",
      "torch.Size([400, 64])\n",
      "<class 'numpy.ndarray'>\n"
     ]
    },
    {
     "name": "stderr",
     "output_type": "stream",
     "text": [
      " 11%|█         | 110/1000 [15:40<2:17:01,  9.24s/it]"
     ]
    },
    {
     "name": "stdout",
     "output_type": "stream",
     "text": [
      "eigenvalues shape torch.Size([5]) eigenvectors shape torch.Size([5, 400])\n",
      "110 /home/phdcs2/Hard_Disk/Datasets/Deep-Spectral-Segmentation/data/object-segmentation/ECSSD/features/dino_vits16/0111.pth\n",
      "dict_keys(['k', 'indices', 'file', 'id', 'model_name', 'patch_size', 'shape'])\n",
      "0111\n",
      "Starting Training\n",
      "epoch: 00, loss: -0.00292\n",
      "epoch: 01, loss: -0.02049\n",
      "epoch: 02, loss: -0.02571\n",
      "epoch: 03, loss: -0.02770\n",
      "epoch: 04, loss: -0.02835\n",
      "epoch: 05, loss: -0.02880\n",
      "epoch: 06, loss: -0.02903\n",
      "epoch: 07, loss: -0.02918\n",
      "epoch: 08, loss: -0.02943\n",
      "epoch: 09, loss: -0.02952\n",
      "torch.Size([400, 64])\n",
      "<class 'numpy.ndarray'>\n"
     ]
    },
    {
     "name": "stderr",
     "output_type": "stream",
     "text": [
      " 11%|█         | 111/1000 [15:49<2:16:47,  9.23s/it]"
     ]
    },
    {
     "name": "stdout",
     "output_type": "stream",
     "text": [
      "eigenvalues shape torch.Size([5]) eigenvectors shape torch.Size([5, 400])\n",
      "111 /home/phdcs2/Hard_Disk/Datasets/Deep-Spectral-Segmentation/data/object-segmentation/ECSSD/features/dino_vits16/0112.pth\n",
      "dict_keys(['k', 'indices', 'file', 'id', 'model_name', 'patch_size', 'shape'])\n",
      "0112\n",
      "Starting Training\n",
      "epoch: 00, loss: -0.01831\n",
      "epoch: 01, loss: -0.03954\n",
      "epoch: 02, loss: -0.04215\n",
      "epoch: 03, loss: -0.04279\n",
      "epoch: 04, loss: -0.04368\n",
      "epoch: 05, loss: -0.04367\n",
      "epoch: 06, loss: -0.04353\n",
      "epoch: 07, loss: -0.04381\n",
      "epoch: 08, loss: -0.04372\n",
      "epoch: 09, loss: -0.04403\n",
      "torch.Size([400, 64])\n",
      "<class 'numpy.ndarray'>\n"
     ]
    },
    {
     "name": "stderr",
     "output_type": "stream",
     "text": [
      " 11%|█         | 112/1000 [15:56<2:06:51,  8.57s/it]"
     ]
    },
    {
     "name": "stdout",
     "output_type": "stream",
     "text": [
      "eigenvalues shape torch.Size([5]) eigenvectors shape torch.Size([5, 400])\n",
      "112 /home/phdcs2/Hard_Disk/Datasets/Deep-Spectral-Segmentation/data/object-segmentation/ECSSD/features/dino_vits16/0113.pth\n",
      "dict_keys(['k', 'indices', 'file', 'id', 'model_name', 'patch_size', 'shape'])\n",
      "0113\n",
      "Starting Training\n",
      "epoch: 00, loss: -0.02604\n",
      "epoch: 01, loss: -0.05489\n",
      "epoch: 02, loss: -0.05784\n",
      "epoch: 03, loss: -0.05983\n",
      "epoch: 04, loss: -0.06166\n",
      "epoch: 05, loss: -0.06080\n",
      "epoch: 06, loss: -0.06235\n",
      "epoch: 07, loss: -0.06252\n",
      "epoch: 08, loss: -0.06202\n",
      "epoch: 09, loss: -0.06322\n",
      "torch.Size([400, 64])\n",
      "<class 'numpy.ndarray'>\n"
     ]
    },
    {
     "name": "stderr",
     "output_type": "stream",
     "text": [
      " 11%|█▏        | 113/1000 [16:07<2:18:23,  9.36s/it]"
     ]
    },
    {
     "name": "stdout",
     "output_type": "stream",
     "text": [
      "eigenvalues shape torch.Size([5]) eigenvectors shape torch.Size([5, 400])\n",
      "113 /home/phdcs2/Hard_Disk/Datasets/Deep-Spectral-Segmentation/data/object-segmentation/ECSSD/features/dino_vits16/0114.pth\n",
      "dict_keys(['k', 'indices', 'file', 'id', 'model_name', 'patch_size', 'shape'])\n",
      "0114\n",
      "Starting Training\n",
      "epoch: 00, loss: -0.00085\n",
      "epoch: 01, loss: -0.01660\n",
      "epoch: 02, loss: -0.02361\n",
      "epoch: 03, loss: -0.02072\n",
      "epoch: 04, loss: -0.02630\n",
      "epoch: 05, loss: -0.02749\n",
      "epoch: 06, loss: -0.02576\n",
      "epoch: 07, loss: -0.02980\n",
      "epoch: 08, loss: -0.02885\n",
      "epoch: 09, loss: -0.02845\n",
      "torch.Size([400, 64])\n",
      "<class 'numpy.ndarray'>\n"
     ]
    },
    {
     "name": "stderr",
     "output_type": "stream",
     "text": [
      " 11%|█▏        | 114/1000 [16:15<2:12:49,  8.99s/it]"
     ]
    },
    {
     "name": "stdout",
     "output_type": "stream",
     "text": [
      "eigenvalues shape torch.Size([5]) eigenvectors shape torch.Size([5, 400])\n",
      "114 /home/phdcs2/Hard_Disk/Datasets/Deep-Spectral-Segmentation/data/object-segmentation/ECSSD/features/dino_vits16/0115.pth\n",
      "dict_keys(['k', 'indices', 'file', 'id', 'model_name', 'patch_size', 'shape'])\n",
      "0115\n",
      "Starting Training\n",
      "epoch: 00, loss: -0.04028\n",
      "epoch: 01, loss: -0.06491\n",
      "epoch: 02, loss: -0.06778\n",
      "epoch: 03, loss: -0.06868\n",
      "epoch: 04, loss: -0.07063\n",
      "epoch: 05, loss: -0.07012\n",
      "epoch: 06, loss: -0.06944\n",
      "epoch: 07, loss: -0.07115\n",
      "epoch: 08, loss: -0.07008\n",
      "epoch: 09, loss: -0.07159\n",
      "torch.Size([400, 64])\n",
      "<class 'numpy.ndarray'>\n"
     ]
    },
    {
     "name": "stderr",
     "output_type": "stream",
     "text": [
      " 12%|█▏        | 115/1000 [16:24<2:12:25,  8.98s/it]"
     ]
    },
    {
     "name": "stdout",
     "output_type": "stream",
     "text": [
      "eigenvalues shape torch.Size([5]) eigenvectors shape torch.Size([5, 400])\n",
      "115 /home/phdcs2/Hard_Disk/Datasets/Deep-Spectral-Segmentation/data/object-segmentation/ECSSD/features/dino_vits16/0116.pth\n",
      "dict_keys(['k', 'indices', 'file', 'id', 'model_name', 'patch_size', 'shape'])\n",
      "0116\n",
      "Starting Training\n",
      "epoch: 00, loss: -0.01894\n",
      "epoch: 01, loss: -0.05701\n",
      "epoch: 02, loss: -0.05906\n",
      "epoch: 03, loss: -0.06355\n",
      "epoch: 04, loss: -0.06503\n",
      "epoch: 05, loss: -0.06815\n",
      "epoch: 06, loss: -0.06732\n",
      "epoch: 07, loss: -0.06681\n",
      "epoch: 08, loss: -0.06730\n",
      "epoch: 09, loss: -0.06782\n",
      "torch.Size([400, 64])\n",
      "<class 'numpy.ndarray'>\n"
     ]
    },
    {
     "name": "stderr",
     "output_type": "stream",
     "text": [
      " 12%|█▏        | 116/1000 [16:34<2:17:28,  9.33s/it]"
     ]
    },
    {
     "name": "stdout",
     "output_type": "stream",
     "text": [
      "eigenvalues shape torch.Size([5]) eigenvectors shape torch.Size([5, 400])\n",
      "116 /home/phdcs2/Hard_Disk/Datasets/Deep-Spectral-Segmentation/data/object-segmentation/ECSSD/features/dino_vits16/0117.pth\n",
      "dict_keys(['k', 'indices', 'file', 'id', 'model_name', 'patch_size', 'shape'])\n",
      "0117\n",
      "Starting Training\n",
      "epoch: 00, loss: -0.03000\n",
      "epoch: 01, loss: -0.07288\n",
      "epoch: 02, loss: -0.07704\n",
      "epoch: 03, loss: -0.08449\n",
      "epoch: 04, loss: -0.08305\n",
      "epoch: 05, loss: -0.08292\n",
      "epoch: 06, loss: -0.08427\n",
      "epoch: 07, loss: -0.08499\n",
      "epoch: 08, loss: -0.08671\n",
      "epoch: 09, loss: -0.08757\n",
      "torch.Size([400, 64])\n",
      "<class 'numpy.ndarray'>\n"
     ]
    },
    {
     "name": "stderr",
     "output_type": "stream",
     "text": [
      " 12%|█▏        | 117/1000 [16:46<2:25:08,  9.86s/it]"
     ]
    },
    {
     "name": "stdout",
     "output_type": "stream",
     "text": [
      "eigenvalues shape torch.Size([5]) eigenvectors shape torch.Size([5, 400])\n",
      "117 /home/phdcs2/Hard_Disk/Datasets/Deep-Spectral-Segmentation/data/object-segmentation/ECSSD/features/dino_vits16/0118.pth\n",
      "dict_keys(['k', 'indices', 'file', 'id', 'model_name', 'patch_size', 'shape'])\n",
      "0118\n",
      "Starting Training\n",
      "epoch: 00, loss: -0.02298\n",
      "epoch: 01, loss: -0.04320\n",
      "epoch: 02, loss: -0.04581\n",
      "epoch: 03, loss: -0.04656\n",
      "epoch: 04, loss: -0.04698\n",
      "epoch: 05, loss: -0.04732\n",
      "epoch: 06, loss: -0.04734\n",
      "epoch: 07, loss: -0.04732\n",
      "epoch: 08, loss: -0.04756\n",
      "epoch: 09, loss: -0.04767\n",
      "torch.Size([400, 64])\n",
      "<class 'numpy.ndarray'>\n"
     ]
    },
    {
     "name": "stderr",
     "output_type": "stream",
     "text": [
      " 12%|█▏        | 118/1000 [16:57<2:33:19, 10.43s/it]"
     ]
    },
    {
     "name": "stdout",
     "output_type": "stream",
     "text": [
      "eigenvalues shape torch.Size([5]) eigenvectors shape torch.Size([5, 400])\n",
      "118 /home/phdcs2/Hard_Disk/Datasets/Deep-Spectral-Segmentation/data/object-segmentation/ECSSD/features/dino_vits16/0119.pth\n",
      "dict_keys(['k', 'indices', 'file', 'id', 'model_name', 'patch_size', 'shape'])\n",
      "0119\n",
      "Starting Training\n",
      "epoch: 00, loss: 0.00133\n",
      "epoch: 01, loss: -0.00564\n",
      "epoch: 02, loss: -0.00916\n",
      "epoch: 03, loss: -0.01114\n",
      "epoch: 04, loss: -0.01215\n",
      "epoch: 05, loss: -0.01302\n",
      "epoch: 06, loss: -0.01344\n",
      "epoch: 07, loss: -0.01381\n",
      "epoch: 08, loss: -0.01414\n",
      "epoch: 09, loss: -0.01423\n",
      "torch.Size([400, 64])\n",
      "<class 'numpy.ndarray'>\n"
     ]
    },
    {
     "name": "stderr",
     "output_type": "stream",
     "text": [
      " 12%|█▏        | 119/1000 [17:07<2:27:39, 10.06s/it]"
     ]
    },
    {
     "name": "stdout",
     "output_type": "stream",
     "text": [
      "eigenvalues shape torch.Size([5]) eigenvectors shape torch.Size([5, 400])\n",
      "119 /home/phdcs2/Hard_Disk/Datasets/Deep-Spectral-Segmentation/data/object-segmentation/ECSSD/features/dino_vits16/0120.pth\n",
      "dict_keys(['k', 'indices', 'file', 'id', 'model_name', 'patch_size', 'shape'])\n",
      "0120\n",
      "Starting Training\n",
      "epoch: 00, loss: -0.01625\n",
      "epoch: 01, loss: -0.03593\n",
      "epoch: 02, loss: -0.03834\n",
      "epoch: 03, loss: -0.03897\n",
      "epoch: 04, loss: -0.03954\n",
      "epoch: 05, loss: -0.03978\n",
      "epoch: 06, loss: -0.03984\n",
      "epoch: 07, loss: -0.04012\n",
      "epoch: 08, loss: -0.04003\n",
      "epoch: 09, loss: -0.04032\n",
      "torch.Size([400, 64])\n",
      "<class 'numpy.ndarray'>\n"
     ]
    },
    {
     "name": "stderr",
     "output_type": "stream",
     "text": [
      " 12%|█▏        | 120/1000 [17:15<2:20:27,  9.58s/it]"
     ]
    },
    {
     "name": "stdout",
     "output_type": "stream",
     "text": [
      "eigenvalues shape torch.Size([5]) eigenvectors shape torch.Size([5, 400])\n",
      "120 /home/phdcs2/Hard_Disk/Datasets/Deep-Spectral-Segmentation/data/object-segmentation/ECSSD/features/dino_vits16/0121.pth\n",
      "dict_keys(['k', 'indices', 'file', 'id', 'model_name', 'patch_size', 'shape'])\n",
      "0121\n",
      "Starting Training\n",
      "epoch: 00, loss: -0.02905\n",
      "epoch: 01, loss: -0.05389\n",
      "epoch: 02, loss: -0.05575\n",
      "epoch: 03, loss: -0.05647\n",
      "epoch: 04, loss: -0.05683\n",
      "epoch: 05, loss: -0.05707\n",
      "epoch: 06, loss: -0.05723\n",
      "epoch: 07, loss: -0.05715\n",
      "epoch: 08, loss: -0.05737\n",
      "epoch: 09, loss: -0.05755\n",
      "torch.Size([400, 64])\n",
      "<class 'numpy.ndarray'>\n"
     ]
    },
    {
     "name": "stderr",
     "output_type": "stream",
     "text": [
      " 12%|█▏        | 121/1000 [17:23<2:11:40,  8.99s/it]"
     ]
    },
    {
     "name": "stdout",
     "output_type": "stream",
     "text": [
      "eigenvalues shape torch.Size([5]) eigenvectors shape torch.Size([5, 400])\n",
      "121 /home/phdcs2/Hard_Disk/Datasets/Deep-Spectral-Segmentation/data/object-segmentation/ECSSD/features/dino_vits16/0122.pth\n",
      "dict_keys(['k', 'indices', 'file', 'id', 'model_name', 'patch_size', 'shape'])\n",
      "0122\n",
      "Starting Training\n",
      "epoch: 00, loss: 0.00139\n",
      "epoch: 01, loss: -0.01635\n",
      "epoch: 02, loss: -0.01836\n",
      "epoch: 03, loss: -0.02405\n",
      "epoch: 04, loss: -0.02680\n",
      "epoch: 05, loss: -0.02813\n",
      "epoch: 06, loss: -0.02829\n",
      "epoch: 07, loss: -0.02639\n",
      "epoch: 08, loss: -0.02853\n",
      "epoch: 09, loss: -0.03280\n",
      "torch.Size([400, 64])\n",
      "<class 'numpy.ndarray'>\n"
     ]
    },
    {
     "name": "stderr",
     "output_type": "stream",
     "text": [
      " 12%|█▏        | 122/1000 [17:30<2:05:09,  8.55s/it]"
     ]
    },
    {
     "name": "stdout",
     "output_type": "stream",
     "text": [
      "eigenvalues shape torch.Size([5]) eigenvectors shape torch.Size([5, 400])\n",
      "122 /home/phdcs2/Hard_Disk/Datasets/Deep-Spectral-Segmentation/data/object-segmentation/ECSSD/features/dino_vits16/0123.pth\n",
      "dict_keys(['k', 'indices', 'file', 'id', 'model_name', 'patch_size', 'shape'])\n",
      "0123\n",
      "Starting Training\n",
      "epoch: 00, loss: -0.02918\n",
      "epoch: 01, loss: -0.05904\n",
      "epoch: 02, loss: -0.06460\n",
      "epoch: 03, loss: -0.06849\n",
      "epoch: 04, loss: -0.06892\n",
      "epoch: 05, loss: -0.07051\n",
      "epoch: 06, loss: -0.07363\n",
      "epoch: 07, loss: -0.07142\n",
      "epoch: 08, loss: -0.07196\n",
      "epoch: 09, loss: -0.07343\n",
      "torch.Size([400, 64])\n",
      "<class 'numpy.ndarray'>\n"
     ]
    },
    {
     "name": "stderr",
     "output_type": "stream",
     "text": [
      " 12%|█▏        | 123/1000 [17:39<2:04:18,  8.50s/it]"
     ]
    },
    {
     "name": "stdout",
     "output_type": "stream",
     "text": [
      "eigenvalues shape torch.Size([5]) eigenvectors shape torch.Size([5, 400])\n",
      "123 /home/phdcs2/Hard_Disk/Datasets/Deep-Spectral-Segmentation/data/object-segmentation/ECSSD/features/dino_vits16/0124.pth\n",
      "dict_keys(['k', 'indices', 'file', 'id', 'model_name', 'patch_size', 'shape'])\n",
      "0124\n",
      "Starting Training\n",
      "epoch: 00, loss: -0.01626\n",
      "epoch: 01, loss: -0.04420\n",
      "epoch: 02, loss: -0.04981\n",
      "epoch: 03, loss: -0.04984\n",
      "epoch: 04, loss: -0.05412\n",
      "epoch: 05, loss: -0.05492\n",
      "epoch: 06, loss: -0.05523\n",
      "epoch: 07, loss: -0.05419\n",
      "epoch: 08, loss: -0.05643\n",
      "epoch: 09, loss: -0.05647\n",
      "torch.Size([400, 64])\n",
      "<class 'numpy.ndarray'>\n"
     ]
    },
    {
     "name": "stderr",
     "output_type": "stream",
     "text": [
      " 12%|█▏        | 124/1000 [17:46<1:59:57,  8.22s/it]"
     ]
    },
    {
     "name": "stdout",
     "output_type": "stream",
     "text": [
      "eigenvalues shape torch.Size([5]) eigenvectors shape torch.Size([5, 400])\n",
      "124 /home/phdcs2/Hard_Disk/Datasets/Deep-Spectral-Segmentation/data/object-segmentation/ECSSD/features/dino_vits16/0125.pth\n",
      "dict_keys(['k', 'indices', 'file', 'id', 'model_name', 'patch_size', 'shape'])\n",
      "0125\n",
      "Starting Training\n",
      "epoch: 00, loss: -0.03476\n",
      "epoch: 01, loss: -0.04897\n",
      "epoch: 02, loss: -0.05033\n",
      "epoch: 03, loss: -0.05084\n",
      "epoch: 04, loss: -0.05118\n",
      "epoch: 05, loss: -0.05126\n",
      "epoch: 06, loss: -0.05174\n",
      "epoch: 07, loss: -0.05188\n",
      "epoch: 08, loss: -0.05193\n",
      "epoch: 09, loss: -0.05212\n",
      "torch.Size([400, 64])\n",
      "<class 'numpy.ndarray'>\n"
     ]
    },
    {
     "name": "stderr",
     "output_type": "stream",
     "text": [
      " 12%|█▎        | 125/1000 [17:54<1:59:37,  8.20s/it]"
     ]
    },
    {
     "name": "stdout",
     "output_type": "stream",
     "text": [
      "eigenvalues shape torch.Size([5]) eigenvectors shape torch.Size([5, 400])\n",
      "125 /home/phdcs2/Hard_Disk/Datasets/Deep-Spectral-Segmentation/data/object-segmentation/ECSSD/features/dino_vits16/0126.pth\n",
      "dict_keys(['k', 'indices', 'file', 'id', 'model_name', 'patch_size', 'shape'])\n",
      "0126\n",
      "Starting Training\n",
      "epoch: 00, loss: 0.00324\n",
      "epoch: 01, loss: -0.00892\n",
      "epoch: 02, loss: -0.01348\n",
      "epoch: 03, loss: -0.01575\n",
      "epoch: 04, loss: -0.01987\n",
      "epoch: 05, loss: -0.01906\n",
      "epoch: 06, loss: -0.01984\n",
      "epoch: 07, loss: -0.01735\n",
      "epoch: 08, loss: -0.02124\n",
      "epoch: 09, loss: -0.01965\n",
      "torch.Size([400, 64])\n",
      "<class 'numpy.ndarray'>\n"
     ]
    },
    {
     "name": "stderr",
     "output_type": "stream",
     "text": [
      " 13%|█▎        | 126/1000 [18:01<1:54:39,  7.87s/it]"
     ]
    },
    {
     "name": "stdout",
     "output_type": "stream",
     "text": [
      "eigenvalues shape torch.Size([5]) eigenvectors shape torch.Size([5, 400])\n",
      "126 /home/phdcs2/Hard_Disk/Datasets/Deep-Spectral-Segmentation/data/object-segmentation/ECSSD/features/dino_vits16/0127.pth\n",
      "dict_keys(['k', 'indices', 'file', 'id', 'model_name', 'patch_size', 'shape'])\n",
      "0127\n",
      "Starting Training\n",
      "epoch: 00, loss: -0.02398\n",
      "epoch: 01, loss: -0.05139\n",
      "epoch: 02, loss: -0.05287\n",
      "epoch: 03, loss: -0.05505\n",
      "epoch: 04, loss: -0.05537\n",
      "epoch: 05, loss: -0.05526\n",
      "epoch: 06, loss: -0.05554\n",
      "epoch: 07, loss: -0.05521\n",
      "epoch: 08, loss: -0.05553\n"
     ]
    },
    {
     "name": "stderr",
     "output_type": "stream",
     "text": [
      " 13%|█▎        | 127/1000 [18:09<1:52:02,  7.70s/it]"
     ]
    },
    {
     "name": "stdout",
     "output_type": "stream",
     "text": [
      "epoch: 09, loss: -0.05616\n",
      "torch.Size([400, 64])\n",
      "<class 'numpy.ndarray'>\n",
      "eigenvalues shape torch.Size([5]) eigenvectors shape torch.Size([5, 400])\n",
      "127 /home/phdcs2/Hard_Disk/Datasets/Deep-Spectral-Segmentation/data/object-segmentation/ECSSD/features/dino_vits16/0128.pth\n",
      "dict_keys(['k', 'indices', 'file', 'id', 'model_name', 'patch_size', 'shape'])\n",
      "0128\n",
      "Starting Training\n",
      "epoch: 00, loss: -0.06129\n",
      "epoch: 01, loss: -0.08935\n",
      "epoch: 02, loss: -0.09494\n",
      "epoch: 03, loss: -0.09612\n",
      "epoch: 04, loss: -0.09509\n",
      "epoch: 05, loss: -0.09708\n",
      "epoch: 06, loss: -0.09809\n",
      "epoch: 07, loss: -0.09946\n",
      "epoch: 08, loss: -0.09933\n",
      "epoch: 09, loss: -0.09916\n",
      "torch.Size([400, 64])\n",
      "<class 'numpy.ndarray'>\n"
     ]
    },
    {
     "name": "stderr",
     "output_type": "stream",
     "text": [
      " 13%|█▎        | 128/1000 [18:16<1:50:39,  7.61s/it]"
     ]
    },
    {
     "name": "stdout",
     "output_type": "stream",
     "text": [
      "eigenvalues shape torch.Size([5]) eigenvectors shape torch.Size([5, 400])\n",
      "128 /home/phdcs2/Hard_Disk/Datasets/Deep-Spectral-Segmentation/data/object-segmentation/ECSSD/features/dino_vits16/0129.pth\n",
      "dict_keys(['k', 'indices', 'file', 'id', 'model_name', 'patch_size', 'shape'])\n",
      "0129\n",
      "Starting Training\n",
      "epoch: 00, loss: -0.09267\n",
      "epoch: 01, loss: -0.12473\n",
      "epoch: 02, loss: -0.12903\n",
      "epoch: 03, loss: -0.12937\n",
      "epoch: 04, loss: -0.13156\n",
      "epoch: 05, loss: -0.13191\n",
      "epoch: 06, loss: -0.13141\n",
      "epoch: 07, loss: -0.13008\n",
      "epoch: 08, loss: -0.13283\n",
      "epoch: 09, loss: -0.13124\n",
      "torch.Size([425, 64])\n",
      "<class 'numpy.ndarray'>\n"
     ]
    },
    {
     "name": "stderr",
     "output_type": "stream",
     "text": [
      " 13%|█▎        | 129/1000 [18:23<1:49:36,  7.55s/it]"
     ]
    },
    {
     "name": "stdout",
     "output_type": "stream",
     "text": [
      "eigenvalues shape torch.Size([5]) eigenvectors shape torch.Size([5, 425])\n",
      "129 /home/phdcs2/Hard_Disk/Datasets/Deep-Spectral-Segmentation/data/object-segmentation/ECSSD/features/dino_vits16/0130.pth\n",
      "dict_keys(['k', 'indices', 'file', 'id', 'model_name', 'patch_size', 'shape'])\n",
      "0130\n",
      "Starting Training\n",
      "epoch: 00, loss: -0.00675\n",
      "epoch: 01, loss: -0.02316\n",
      "epoch: 02, loss: -0.02701\n",
      "epoch: 03, loss: -0.02827\n",
      "epoch: 04, loss: -0.02776\n",
      "epoch: 05, loss: -0.02913\n",
      "epoch: 06, loss: -0.02920\n",
      "epoch: 07, loss: -0.02775\n",
      "epoch: 08, loss: -0.02801\n",
      "epoch: 09, loss: -0.02912\n",
      "torch.Size([425, 64])\n",
      "<class 'numpy.ndarray'>\n"
     ]
    },
    {
     "name": "stderr",
     "output_type": "stream",
     "text": [
      " 13%|█▎        | 130/1000 [18:30<1:47:10,  7.39s/it]"
     ]
    },
    {
     "name": "stdout",
     "output_type": "stream",
     "text": [
      "eigenvalues shape torch.Size([5]) eigenvectors shape torch.Size([5, 425])\n",
      "130 /home/phdcs2/Hard_Disk/Datasets/Deep-Spectral-Segmentation/data/object-segmentation/ECSSD/features/dino_vits16/0131.pth\n",
      "dict_keys(['k', 'indices', 'file', 'id', 'model_name', 'patch_size', 'shape'])\n",
      "0131\n",
      "Starting Training\n",
      "epoch: 00, loss: -0.07254\n",
      "epoch: 01, loss: -0.09229\n",
      "epoch: 02, loss: -0.09508\n",
      "epoch: 03, loss: -0.09492\n",
      "epoch: 04, loss: -0.09730\n",
      "epoch: 05, loss: -0.09595\n",
      "epoch: 06, loss: -0.09663\n",
      "epoch: 07, loss: -0.09643\n",
      "epoch: 08, loss: -0.09781\n",
      "epoch: 09, loss: -0.09795\n",
      "torch.Size([450, 64])\n",
      "<class 'numpy.ndarray'>\n"
     ]
    },
    {
     "name": "stderr",
     "output_type": "stream",
     "text": [
      " 13%|█▎        | 131/1000 [18:38<1:46:47,  7.37s/it]"
     ]
    },
    {
     "name": "stdout",
     "output_type": "stream",
     "text": [
      "eigenvalues shape torch.Size([5]) eigenvectors shape torch.Size([5, 450])\n",
      "131 /home/phdcs2/Hard_Disk/Datasets/Deep-Spectral-Segmentation/data/object-segmentation/ECSSD/features/dino_vits16/0132.pth\n",
      "dict_keys(['k', 'indices', 'file', 'id', 'model_name', 'patch_size', 'shape'])\n",
      "0132\n",
      "Starting Training\n",
      "epoch: 00, loss: -0.04188\n",
      "epoch: 01, loss: -0.05959\n",
      "epoch: 02, loss: -0.06120\n",
      "epoch: 03, loss: -0.06148\n",
      "epoch: 04, loss: -0.06189\n",
      "epoch: 05, loss: -0.06196\n",
      "epoch: 06, loss: -0.06243\n",
      "epoch: 07, loss: -0.06239\n",
      "epoch: 08, loss: -0.06245\n",
      "epoch: 09, loss: -0.06260\n",
      "torch.Size([400, 64])\n",
      "<class 'numpy.ndarray'>\n"
     ]
    },
    {
     "name": "stderr",
     "output_type": "stream",
     "text": [
      " 13%|█▎        | 132/1000 [18:44<1:43:39,  7.17s/it]"
     ]
    },
    {
     "name": "stdout",
     "output_type": "stream",
     "text": [
      "eigenvalues shape torch.Size([5]) eigenvectors shape torch.Size([5, 400])\n",
      "132 /home/phdcs2/Hard_Disk/Datasets/Deep-Spectral-Segmentation/data/object-segmentation/ECSSD/features/dino_vits16/0133.pth\n",
      "dict_keys(['k', 'indices', 'file', 'id', 'model_name', 'patch_size', 'shape'])\n",
      "0133\n",
      "Starting Training\n",
      "epoch: 00, loss: -0.05247\n",
      "epoch: 01, loss: -0.06784\n",
      "epoch: 02, loss: -0.06809\n",
      "epoch: 03, loss: -0.06888\n",
      "epoch: 04, loss: -0.06890\n",
      "epoch: 05, loss: -0.06874\n",
      "epoch: 06, loss: -0.06991\n",
      "epoch: 07, loss: -0.06888\n",
      "epoch: 08, loss: -0.06969\n",
      "epoch: 09, loss: -0.06924\n",
      "torch.Size([525, 64])\n",
      "<class 'numpy.ndarray'>\n"
     ]
    },
    {
     "name": "stderr",
     "output_type": "stream",
     "text": [
      " 13%|█▎        | 133/1000 [18:55<1:59:27,  8.27s/it]"
     ]
    },
    {
     "name": "stdout",
     "output_type": "stream",
     "text": [
      "eigenvalues shape torch.Size([5]) eigenvectors shape torch.Size([5, 525])\n",
      "133 /home/phdcs2/Hard_Disk/Datasets/Deep-Spectral-Segmentation/data/object-segmentation/ECSSD/features/dino_vits16/0134.pth\n",
      "dict_keys(['k', 'indices', 'file', 'id', 'model_name', 'patch_size', 'shape'])\n",
      "0134\n",
      "Starting Training\n",
      "epoch: 00, loss: -0.04105\n",
      "epoch: 01, loss: -0.06257\n",
      "epoch: 02, loss: -0.06335\n",
      "epoch: 03, loss: -0.06393\n",
      "epoch: 04, loss: -0.06432\n",
      "epoch: 05, loss: -0.06456\n",
      "epoch: 06, loss: -0.06471\n",
      "epoch: 07, loss: -0.06479\n",
      "epoch: 08, loss: -0.06479\n",
      "epoch: 09, loss: -0.06500\n",
      "torch.Size([400, 64])\n",
      "<class 'numpy.ndarray'>\n"
     ]
    },
    {
     "name": "stderr",
     "output_type": "stream",
     "text": [
      " 13%|█▎        | 134/1000 [19:03<1:57:17,  8.13s/it]"
     ]
    },
    {
     "name": "stdout",
     "output_type": "stream",
     "text": [
      "eigenvalues shape torch.Size([5]) eigenvectors shape torch.Size([5, 400])\n",
      "134 /home/phdcs2/Hard_Disk/Datasets/Deep-Spectral-Segmentation/data/object-segmentation/ECSSD/features/dino_vits16/0135.pth\n",
      "dict_keys(['k', 'indices', 'file', 'id', 'model_name', 'patch_size', 'shape'])\n",
      "0135\n",
      "Starting Training\n",
      "epoch: 00, loss: -0.05976\n",
      "epoch: 01, loss: -0.08662\n",
      "epoch: 02, loss: -0.08900\n",
      "epoch: 03, loss: -0.09099\n",
      "epoch: 04, loss: -0.09025\n",
      "epoch: 05, loss: -0.09018\n",
      "epoch: 06, loss: -0.09070\n",
      "epoch: 07, loss: -0.09215\n",
      "epoch: 08, loss: -0.09131\n",
      "epoch: 09, loss: -0.09331\n",
      "torch.Size([450, 64])\n",
      "<class 'numpy.ndarray'>\n"
     ]
    },
    {
     "name": "stderr",
     "output_type": "stream",
     "text": [
      " 14%|█▎        | 135/1000 [19:11<1:56:37,  8.09s/it]"
     ]
    },
    {
     "name": "stdout",
     "output_type": "stream",
     "text": [
      "eigenvalues shape torch.Size([5]) eigenvectors shape torch.Size([5, 450])\n",
      "135 /home/phdcs2/Hard_Disk/Datasets/Deep-Spectral-Segmentation/data/object-segmentation/ECSSD/features/dino_vits16/0136.pth\n",
      "dict_keys(['k', 'indices', 'file', 'id', 'model_name', 'patch_size', 'shape'])\n",
      "0136\n",
      "Starting Training\n",
      "epoch: 00, loss: -0.03061\n",
      "epoch: 01, loss: -0.04440\n",
      "epoch: 02, loss: -0.04534\n",
      "epoch: 03, loss: -0.04594\n",
      "epoch: 04, loss: -0.04632\n",
      "epoch: 05, loss: -0.04644\n",
      "epoch: 06, loss: -0.04655\n",
      "epoch: 07, loss: -0.04669\n",
      "epoch: 08, loss: -0.04689\n",
      "epoch: 09, loss: -0.04698\n",
      "torch.Size([450, 64])\n",
      "<class 'numpy.ndarray'>\n"
     ]
    },
    {
     "name": "stderr",
     "output_type": "stream",
     "text": [
      " 14%|█▎        | 136/1000 [19:19<1:53:42,  7.90s/it]"
     ]
    },
    {
     "name": "stdout",
     "output_type": "stream",
     "text": [
      "eigenvalues shape torch.Size([5]) eigenvectors shape torch.Size([5, 450])\n",
      "136 /home/phdcs2/Hard_Disk/Datasets/Deep-Spectral-Segmentation/data/object-segmentation/ECSSD/features/dino_vits16/0137.pth\n",
      "dict_keys(['k', 'indices', 'file', 'id', 'model_name', 'patch_size', 'shape'])\n",
      "0137\n",
      "Starting Training\n",
      "epoch: 00, loss: -0.06414\n",
      "epoch: 01, loss: -0.09857\n",
      "epoch: 02, loss: -0.09832\n",
      "epoch: 03, loss: -0.10072\n",
      "epoch: 04, loss: -0.10059\n",
      "epoch: 05, loss: -0.10290\n",
      "epoch: 06, loss: -0.10079\n",
      "epoch: 07, loss: -0.10327\n",
      "epoch: 08, loss: -0.10221\n",
      "epoch: 09, loss: -0.10468\n",
      "torch.Size([475, 64])\n",
      "<class 'numpy.ndarray'>\n"
     ]
    },
    {
     "name": "stderr",
     "output_type": "stream",
     "text": [
      " 14%|█▎        | 137/1000 [19:26<1:52:05,  7.79s/it]"
     ]
    },
    {
     "name": "stdout",
     "output_type": "stream",
     "text": [
      "eigenvalues shape torch.Size([5]) eigenvectors shape torch.Size([5, 475])\n",
      "137 /home/phdcs2/Hard_Disk/Datasets/Deep-Spectral-Segmentation/data/object-segmentation/ECSSD/features/dino_vits16/0138.pth\n",
      "dict_keys(['k', 'indices', 'file', 'id', 'model_name', 'patch_size', 'shape'])\n",
      "0138\n",
      "Starting Training\n",
      "epoch: 00, loss: -0.06337\n",
      "epoch: 01, loss: -0.08567\n",
      "epoch: 02, loss: -0.08828\n",
      "epoch: 03, loss: -0.08965\n",
      "epoch: 04, loss: -0.09172\n",
      "epoch: 05, loss: -0.09136\n",
      "epoch: 06, loss: -0.09303\n",
      "epoch: 07, loss: -0.09142\n",
      "epoch: 08, loss: -0.09202\n",
      "epoch: 09, loss: -0.09116\n",
      "torch.Size([450, 64])\n",
      "<class 'numpy.ndarray'>\n"
     ]
    },
    {
     "name": "stderr",
     "output_type": "stream",
     "text": [
      " 14%|█▍        | 138/1000 [19:35<1:58:12,  8.23s/it]"
     ]
    },
    {
     "name": "stdout",
     "output_type": "stream",
     "text": [
      "eigenvalues shape torch.Size([5]) eigenvectors shape torch.Size([5, 450])\n",
      "138 /home/phdcs2/Hard_Disk/Datasets/Deep-Spectral-Segmentation/data/object-segmentation/ECSSD/features/dino_vits16/0139.pth\n",
      "dict_keys(['k', 'indices', 'file', 'id', 'model_name', 'patch_size', 'shape'])\n",
      "0139\n",
      "Starting Training\n",
      "epoch: 00, loss: -0.02703\n",
      "epoch: 01, loss: -0.05254\n",
      "epoch: 02, loss: -0.05706\n",
      "epoch: 03, loss: -0.05630\n",
      "epoch: 04, loss: -0.05864\n",
      "epoch: 05, loss: -0.05816\n",
      "epoch: 06, loss: -0.05955\n",
      "epoch: 07, loss: -0.05969\n",
      "epoch: 08, loss: -0.05989\n",
      "epoch: 09, loss: -0.05926\n",
      "torch.Size([450, 64])\n",
      "<class 'numpy.ndarray'>\n"
     ]
    },
    {
     "name": "stderr",
     "output_type": "stream",
     "text": [
      " 14%|█▍        | 139/1000 [19:47<2:11:04,  9.13s/it]"
     ]
    },
    {
     "name": "stdout",
     "output_type": "stream",
     "text": [
      "eigenvalues shape torch.Size([5]) eigenvectors shape torch.Size([5, 450])\n",
      "139 /home/phdcs2/Hard_Disk/Datasets/Deep-Spectral-Segmentation/data/object-segmentation/ECSSD/features/dino_vits16/0140.pth\n",
      "dict_keys(['k', 'indices', 'file', 'id', 'model_name', 'patch_size', 'shape'])\n",
      "0140\n",
      "Starting Training\n",
      "epoch: 00, loss: 0.00123\n",
      "epoch: 01, loss: -0.00914\n",
      "epoch: 02, loss: -0.01429\n",
      "epoch: 03, loss: -0.01633\n",
      "epoch: 04, loss: -0.01753\n",
      "epoch: 05, loss: -0.01839\n",
      "epoch: 06, loss: -0.01885\n",
      "epoch: 07, loss: -0.01912\n",
      "epoch: 08, loss: -0.01925\n",
      "epoch: 09, loss: -0.01957\n",
      "torch.Size([450, 64])\n",
      "<class 'numpy.ndarray'>\n"
     ]
    },
    {
     "name": "stderr",
     "output_type": "stream",
     "text": [
      " 14%|█▍        | 140/1000 [19:56<2:10:23,  9.10s/it]"
     ]
    },
    {
     "name": "stdout",
     "output_type": "stream",
     "text": [
      "eigenvalues shape torch.Size([5]) eigenvectors shape torch.Size([5, 450])\n",
      "140 /home/phdcs2/Hard_Disk/Datasets/Deep-Spectral-Segmentation/data/object-segmentation/ECSSD/features/dino_vits16/0141.pth\n",
      "dict_keys(['k', 'indices', 'file', 'id', 'model_name', 'patch_size', 'shape'])\n",
      "0141\n",
      "Starting Training\n",
      "epoch: 00, loss: -0.05677\n",
      "epoch: 01, loss: -0.08819\n",
      "epoch: 02, loss: -0.09578\n",
      "epoch: 03, loss: -0.10064\n",
      "epoch: 04, loss: -0.09900\n",
      "epoch: 05, loss: -0.10158\n",
      "epoch: 06, loss: -0.10051\n",
      "epoch: 07, loss: -0.10200\n",
      "epoch: 08, loss: -0.10165\n",
      "epoch: 09, loss: -0.10206\n",
      "torch.Size([350, 64])\n",
      "<class 'numpy.ndarray'>\n"
     ]
    },
    {
     "name": "stderr",
     "output_type": "stream",
     "text": [
      " 14%|█▍        | 141/1000 [20:03<2:04:49,  8.72s/it]"
     ]
    },
    {
     "name": "stdout",
     "output_type": "stream",
     "text": [
      "eigenvalues shape torch.Size([5]) eigenvectors shape torch.Size([5, 350])\n",
      "141 /home/phdcs2/Hard_Disk/Datasets/Deep-Spectral-Segmentation/data/object-segmentation/ECSSD/features/dino_vits16/0142.pth\n",
      "dict_keys(['k', 'indices', 'file', 'id', 'model_name', 'patch_size', 'shape'])\n",
      "0142\n",
      "Starting Training\n",
      "epoch: 00, loss: -0.11037\n",
      "epoch: 01, loss: -0.14351\n",
      "epoch: 02, loss: -0.14553\n",
      "epoch: 03, loss: -0.14913\n",
      "epoch: 04, loss: -0.14870\n",
      "epoch: 05, loss: -0.14864\n",
      "epoch: 06, loss: -0.14933\n",
      "epoch: 07, loss: -0.14896\n",
      "epoch: 08, loss: -0.15046\n",
      "epoch: 09, loss: -0.15019\n",
      "torch.Size([450, 64])\n",
      "<class 'numpy.ndarray'>\n"
     ]
    },
    {
     "name": "stderr",
     "output_type": "stream",
     "text": [
      " 14%|█▍        | 142/1000 [20:15<2:16:53,  9.57s/it]"
     ]
    },
    {
     "name": "stdout",
     "output_type": "stream",
     "text": [
      "eigenvalues shape torch.Size([5]) eigenvectors shape torch.Size([5, 450])\n",
      "142 /home/phdcs2/Hard_Disk/Datasets/Deep-Spectral-Segmentation/data/object-segmentation/ECSSD/features/dino_vits16/0143.pth\n",
      "dict_keys(['k', 'indices', 'file', 'id', 'model_name', 'patch_size', 'shape'])\n",
      "0143\n",
      "Starting Training\n",
      "epoch: 00, loss: -0.03576\n",
      "epoch: 01, loss: -0.05897\n",
      "epoch: 02, loss: -0.06035\n",
      "epoch: 03, loss: -0.06107\n",
      "epoch: 04, loss: -0.06060\n",
      "epoch: 05, loss: -0.06120\n",
      "epoch: 06, loss: -0.06120\n",
      "epoch: 07, loss: -0.06110\n",
      "epoch: 08, loss: -0.06153\n",
      "epoch: 09, loss: -0.06168\n",
      "torch.Size([450, 64])\n",
      "<class 'numpy.ndarray'>\n"
     ]
    },
    {
     "name": "stderr",
     "output_type": "stream",
     "text": [
      " 14%|█▍        | 143/1000 [20:26<2:24:51, 10.14s/it]"
     ]
    },
    {
     "name": "stdout",
     "output_type": "stream",
     "text": [
      "eigenvalues shape torch.Size([5]) eigenvectors shape torch.Size([5, 450])\n",
      "143 /home/phdcs2/Hard_Disk/Datasets/Deep-Spectral-Segmentation/data/object-segmentation/ECSSD/features/dino_vits16/0144.pth\n",
      "dict_keys(['k', 'indices', 'file', 'id', 'model_name', 'patch_size', 'shape'])\n",
      "0144\n",
      "Starting Training\n",
      "epoch: 00, loss: -0.04796\n",
      "epoch: 01, loss: -0.07978\n",
      "epoch: 02, loss: -0.08218\n",
      "epoch: 03, loss: -0.08426\n",
      "epoch: 04, loss: -0.08619\n",
      "epoch: 05, loss: -0.08649\n",
      "epoch: 06, loss: -0.08765\n",
      "epoch: 07, loss: -0.08546\n",
      "epoch: 08, loss: -0.08769\n",
      "epoch: 09, loss: -0.08769\n",
      "torch.Size([425, 64])\n",
      "<class 'numpy.ndarray'>\n"
     ]
    },
    {
     "name": "stderr",
     "output_type": "stream",
     "text": [
      " 14%|█▍        | 144/1000 [20:35<2:19:04,  9.75s/it]"
     ]
    },
    {
     "name": "stdout",
     "output_type": "stream",
     "text": [
      "eigenvalues shape torch.Size([5]) eigenvectors shape torch.Size([5, 425])\n",
      "144 /home/phdcs2/Hard_Disk/Datasets/Deep-Spectral-Segmentation/data/object-segmentation/ECSSD/features/dino_vits16/0145.pth\n",
      "dict_keys(['k', 'indices', 'file', 'id', 'model_name', 'patch_size', 'shape'])\n",
      "0145\n",
      "Starting Training\n",
      "epoch: 00, loss: -0.02140\n",
      "epoch: 01, loss: -0.04599\n",
      "epoch: 02, loss: -0.05015\n",
      "epoch: 03, loss: -0.05385\n",
      "epoch: 04, loss: -0.05288\n",
      "epoch: 05, loss: -0.05618\n",
      "epoch: 06, loss: -0.05568\n",
      "epoch: 07, loss: -0.05578\n",
      "epoch: 08, loss: -0.05588\n",
      "epoch: 09, loss: -0.05507\n",
      "torch.Size([450, 64])\n",
      "<class 'numpy.ndarray'>\n"
     ]
    },
    {
     "name": "stderr",
     "output_type": "stream",
     "text": [
      " 14%|█▍        | 145/1000 [20:47<2:26:02, 10.25s/it]"
     ]
    },
    {
     "name": "stdout",
     "output_type": "stream",
     "text": [
      "eigenvalues shape torch.Size([5]) eigenvectors shape torch.Size([5, 450])\n",
      "145 /home/phdcs2/Hard_Disk/Datasets/Deep-Spectral-Segmentation/data/object-segmentation/ECSSD/features/dino_vits16/0146.pth\n",
      "dict_keys(['k', 'indices', 'file', 'id', 'model_name', 'patch_size', 'shape'])\n",
      "0146\n",
      "Starting Training\n",
      "epoch: 00, loss: -0.00920\n",
      "epoch: 01, loss: -0.02123\n",
      "epoch: 02, loss: -0.02462\n",
      "epoch: 03, loss: -0.02578\n",
      "epoch: 04, loss: -0.02637\n",
      "epoch: 05, loss: -0.02671\n",
      "epoch: 06, loss: -0.02686\n",
      "epoch: 07, loss: -0.02714\n",
      "epoch: 08, loss: -0.02723\n",
      "epoch: 09, loss: -0.02729\n",
      "torch.Size([400, 64])\n",
      "<class 'numpy.ndarray'>\n"
     ]
    },
    {
     "name": "stderr",
     "output_type": "stream",
     "text": [
      " 15%|█▍        | 146/1000 [20:57<2:26:51, 10.32s/it]"
     ]
    },
    {
     "name": "stdout",
     "output_type": "stream",
     "text": [
      "eigenvalues shape torch.Size([5]) eigenvectors shape torch.Size([5, 400])\n",
      "146 /home/phdcs2/Hard_Disk/Datasets/Deep-Spectral-Segmentation/data/object-segmentation/ECSSD/features/dino_vits16/0147.pth\n",
      "dict_keys(['k', 'indices', 'file', 'id', 'model_name', 'patch_size', 'shape'])\n",
      "0147\n",
      "Starting Training\n",
      "epoch: 00, loss: -0.02691\n",
      "epoch: 01, loss: -0.04163\n",
      "epoch: 02, loss: -0.04260\n",
      "epoch: 03, loss: -0.04338\n",
      "epoch: 04, loss: -0.04352\n",
      "epoch: 05, loss: -0.04396\n",
      "epoch: 06, loss: -0.04391\n",
      "epoch: 07, loss: -0.04395\n",
      "epoch: 08, loss: -0.04431\n",
      "epoch: 09, loss: -0.04420\n",
      "torch.Size([550, 64])\n",
      "<class 'numpy.ndarray'>\n"
     ]
    },
    {
     "name": "stderr",
     "output_type": "stream",
     "text": [
      " 15%|█▍        | 147/1000 [21:14<2:52:57, 12.17s/it]"
     ]
    },
    {
     "name": "stdout",
     "output_type": "stream",
     "text": [
      "eigenvalues shape torch.Size([5]) eigenvectors shape torch.Size([5, 550])\n",
      "147 /home/phdcs2/Hard_Disk/Datasets/Deep-Spectral-Segmentation/data/object-segmentation/ECSSD/features/dino_vits16/0148.pth\n",
      "dict_keys(['k', 'indices', 'file', 'id', 'model_name', 'patch_size', 'shape'])\n",
      "0148\n",
      "Starting Training\n",
      "epoch: 00, loss: -0.05661\n",
      "epoch: 01, loss: -0.08606\n",
      "epoch: 02, loss: -0.08639\n",
      "epoch: 03, loss: -0.09320\n",
      "epoch: 04, loss: -0.09388\n",
      "epoch: 05, loss: -0.08690\n",
      "epoch: 06, loss: -0.09300\n",
      "epoch: 07, loss: -0.09087\n",
      "epoch: 08, loss: -0.09220\n",
      "epoch: 09, loss: -0.09482\n",
      "torch.Size([400, 64])\n",
      "<class 'numpy.ndarray'>\n"
     ]
    },
    {
     "name": "stderr",
     "output_type": "stream",
     "text": [
      " 15%|█▍        | 148/1000 [21:21<2:32:57, 10.77s/it]"
     ]
    },
    {
     "name": "stdout",
     "output_type": "stream",
     "text": [
      "eigenvalues shape torch.Size([5]) eigenvectors shape torch.Size([5, 400])\n",
      "148 /home/phdcs2/Hard_Disk/Datasets/Deep-Spectral-Segmentation/data/object-segmentation/ECSSD/features/dino_vits16/0149.pth\n",
      "dict_keys(['k', 'indices', 'file', 'id', 'model_name', 'patch_size', 'shape'])\n",
      "0149\n",
      "Starting Training\n",
      "epoch: 00, loss: -0.03512\n",
      "epoch: 01, loss: -0.06620\n",
      "epoch: 02, loss: -0.07247\n",
      "epoch: 03, loss: -0.06953\n",
      "epoch: 04, loss: -0.07232\n",
      "epoch: 05, loss: -0.07177\n",
      "epoch: 06, loss: -0.07348\n",
      "epoch: 07, loss: -0.07342\n",
      "epoch: 08, loss: -0.07334\n",
      "epoch: 09, loss: -0.07328\n",
      "torch.Size([400, 64])\n",
      "<class 'numpy.ndarray'>\n"
     ]
    },
    {
     "name": "stderr",
     "output_type": "stream",
     "text": [
      " 15%|█▍        | 149/1000 [21:28<2:17:18,  9.68s/it]"
     ]
    },
    {
     "name": "stdout",
     "output_type": "stream",
     "text": [
      "eigenvalues shape torch.Size([5]) eigenvectors shape torch.Size([5, 400])\n",
      "149 /home/phdcs2/Hard_Disk/Datasets/Deep-Spectral-Segmentation/data/object-segmentation/ECSSD/features/dino_vits16/0150.pth\n",
      "dict_keys(['k', 'indices', 'file', 'id', 'model_name', 'patch_size', 'shape'])\n",
      "0150\n",
      "Starting Training\n",
      "epoch: 00, loss: -0.02083\n",
      "epoch: 01, loss: -0.04144\n",
      "epoch: 02, loss: -0.04361\n",
      "epoch: 03, loss: -0.04411\n",
      "epoch: 04, loss: -0.04427\n",
      "epoch: 05, loss: -0.04441\n",
      "epoch: 06, loss: -0.04475\n",
      "epoch: 07, loss: -0.04479\n",
      "epoch: 08, loss: -0.04487\n",
      "epoch: 09, loss: -0.04510\n",
      "torch.Size([450, 64])\n",
      "<class 'numpy.ndarray'>\n"
     ]
    },
    {
     "name": "stderr",
     "output_type": "stream",
     "text": [
      " 15%|█▌        | 150/1000 [21:38<2:16:51,  9.66s/it]"
     ]
    },
    {
     "name": "stdout",
     "output_type": "stream",
     "text": [
      "eigenvalues shape torch.Size([5]) eigenvectors shape torch.Size([5, 450])\n",
      "150 /home/phdcs2/Hard_Disk/Datasets/Deep-Spectral-Segmentation/data/object-segmentation/ECSSD/features/dino_vits16/0151.pth\n",
      "dict_keys(['k', 'indices', 'file', 'id', 'model_name', 'patch_size', 'shape'])\n",
      "0151\n",
      "Starting Training\n",
      "epoch: 00, loss: -0.08227\n",
      "epoch: 01, loss: -0.10025\n",
      "epoch: 02, loss: -0.09994\n",
      "epoch: 03, loss: -0.10243\n",
      "epoch: 04, loss: -0.10210\n",
      "epoch: 05, loss: -0.10133\n",
      "epoch: 06, loss: -0.10236\n",
      "epoch: 07, loss: -0.10296\n",
      "epoch: 08, loss: -0.10327\n",
      "epoch: 09, loss: -0.10404\n",
      "torch.Size([525, 64])\n",
      "<class 'numpy.ndarray'>\n"
     ]
    },
    {
     "name": "stderr",
     "output_type": "stream",
     "text": [
      " 15%|█▌        | 151/1000 [21:49<2:21:17,  9.99s/it]"
     ]
    },
    {
     "name": "stdout",
     "output_type": "stream",
     "text": [
      "eigenvalues shape torch.Size([5]) eigenvectors shape torch.Size([5, 525])\n",
      "151 /home/phdcs2/Hard_Disk/Datasets/Deep-Spectral-Segmentation/data/object-segmentation/ECSSD/features/dino_vits16/0152.pth\n",
      "dict_keys(['k', 'indices', 'file', 'id', 'model_name', 'patch_size', 'shape'])\n",
      "0152\n",
      "Starting Training\n",
      "epoch: 00, loss: -0.09234\n",
      "epoch: 01, loss: -0.12198\n",
      "epoch: 02, loss: -0.12227\n",
      "epoch: 03, loss: -0.12541\n",
      "epoch: 04, loss: -0.12571\n",
      "epoch: 05, loss: -0.12628\n",
      "epoch: 06, loss: -0.12696\n",
      "epoch: 07, loss: -0.12751\n",
      "epoch: 08, loss: -0.12793\n",
      "epoch: 09, loss: -0.12834\n",
      "torch.Size([450, 64])\n",
      "<class 'numpy.ndarray'>\n"
     ]
    },
    {
     "name": "stderr",
     "output_type": "stream",
     "text": [
      " 15%|█▌        | 152/1000 [21:59<2:21:53, 10.04s/it]"
     ]
    },
    {
     "name": "stdout",
     "output_type": "stream",
     "text": [
      "eigenvalues shape torch.Size([5]) eigenvectors shape torch.Size([5, 450])\n",
      "152 /home/phdcs2/Hard_Disk/Datasets/Deep-Spectral-Segmentation/data/object-segmentation/ECSSD/features/dino_vits16/0153.pth\n",
      "dict_keys(['k', 'indices', 'file', 'id', 'model_name', 'patch_size', 'shape'])\n",
      "0153\n",
      "Starting Training\n",
      "epoch: 00, loss: -0.00584\n",
      "epoch: 01, loss: -0.02102\n",
      "epoch: 02, loss: -0.02489\n",
      "epoch: 03, loss: -0.02616\n",
      "epoch: 04, loss: -0.02686\n",
      "epoch: 05, loss: -0.02727\n",
      "epoch: 06, loss: -0.02747\n",
      "epoch: 07, loss: -0.02763\n",
      "epoch: 08, loss: -0.02779\n",
      "epoch: 09, loss: -0.02791\n",
      "torch.Size([450, 64])\n",
      "<class 'numpy.ndarray'>\n"
     ]
    },
    {
     "name": "stderr",
     "output_type": "stream",
     "text": [
      " 15%|█▌        | 153/1000 [22:08<2:19:47,  9.90s/it]"
     ]
    },
    {
     "name": "stdout",
     "output_type": "stream",
     "text": [
      "eigenvalues shape torch.Size([5]) eigenvectors shape torch.Size([5, 450])\n",
      "153 /home/phdcs2/Hard_Disk/Datasets/Deep-Spectral-Segmentation/data/object-segmentation/ECSSD/features/dino_vits16/0154.pth\n",
      "dict_keys(['k', 'indices', 'file', 'id', 'model_name', 'patch_size', 'shape'])\n",
      "0154\n",
      "Starting Training\n",
      "epoch: 00, loss: -0.02469\n",
      "epoch: 01, loss: -0.04978\n",
      "epoch: 02, loss: -0.05190\n",
      "epoch: 03, loss: -0.05270\n",
      "epoch: 04, loss: -0.05273\n",
      "epoch: 05, loss: -0.05307\n",
      "epoch: 06, loss: -0.05327\n",
      "epoch: 07, loss: -0.05335\n",
      "epoch: 08, loss: -0.05348\n",
      "epoch: 09, loss: -0.05370\n",
      "torch.Size([450, 64])\n",
      "<class 'numpy.ndarray'>\n"
     ]
    },
    {
     "name": "stderr",
     "output_type": "stream",
     "text": [
      " 15%|█▌        | 154/1000 [22:17<2:14:24,  9.53s/it]"
     ]
    },
    {
     "name": "stdout",
     "output_type": "stream",
     "text": [
      "eigenvalues shape torch.Size([5]) eigenvectors shape torch.Size([5, 450])\n",
      "154 /home/phdcs2/Hard_Disk/Datasets/Deep-Spectral-Segmentation/data/object-segmentation/ECSSD/features/dino_vits16/0155.pth\n",
      "dict_keys(['k', 'indices', 'file', 'id', 'model_name', 'patch_size', 'shape'])\n",
      "0155\n",
      "Starting Training\n",
      "epoch: 00, loss: -0.03553\n",
      "epoch: 01, loss: -0.05691\n",
      "epoch: 02, loss: -0.05631\n",
      "epoch: 03, loss: -0.05905\n",
      "epoch: 04, loss: -0.05782\n",
      "epoch: 05, loss: -0.05909\n",
      "epoch: 06, loss: -0.05795\n",
      "epoch: 07, loss: -0.05971\n",
      "epoch: 08, loss: -0.05987\n",
      "epoch: 09, loss: -0.05934\n",
      "torch.Size([475, 64])\n",
      "<class 'numpy.ndarray'>\n"
     ]
    },
    {
     "name": "stderr",
     "output_type": "stream",
     "text": [
      " 16%|█▌        | 155/1000 [22:26<2:13:09,  9.45s/it]"
     ]
    },
    {
     "name": "stdout",
     "output_type": "stream",
     "text": [
      "eigenvalues shape torch.Size([5]) eigenvectors shape torch.Size([5, 475])\n",
      "155 /home/phdcs2/Hard_Disk/Datasets/Deep-Spectral-Segmentation/data/object-segmentation/ECSSD/features/dino_vits16/0156.pth\n",
      "dict_keys(['k', 'indices', 'file', 'id', 'model_name', 'patch_size', 'shape'])\n",
      "0156\n",
      "Starting Training\n",
      "epoch: 00, loss: -0.04933\n",
      "epoch: 01, loss: -0.07445\n",
      "epoch: 02, loss: -0.07541\n",
      "epoch: 03, loss: -0.07603\n",
      "epoch: 04, loss: -0.07607\n",
      "epoch: 05, loss: -0.07644\n",
      "epoch: 06, loss: -0.07678\n",
      "epoch: 07, loss: -0.07668\n",
      "epoch: 08, loss: -0.07660\n",
      "epoch: 09, loss: -0.07674\n",
      "torch.Size([400, 64])\n",
      "<class 'numpy.ndarray'>\n"
     ]
    },
    {
     "name": "stderr",
     "output_type": "stream",
     "text": [
      " 16%|█▌        | 156/1000 [22:33<2:02:17,  8.69s/it]"
     ]
    },
    {
     "name": "stdout",
     "output_type": "stream",
     "text": [
      "eigenvalues shape torch.Size([5]) eigenvectors shape torch.Size([5, 400])\n",
      "156 /home/phdcs2/Hard_Disk/Datasets/Deep-Spectral-Segmentation/data/object-segmentation/ECSSD/features/dino_vits16/0157.pth\n",
      "dict_keys(['k', 'indices', 'file', 'id', 'model_name', 'patch_size', 'shape'])\n",
      "0157\n",
      "Starting Training\n",
      "epoch: 00, loss: -0.04503\n",
      "epoch: 01, loss: -0.09038\n",
      "epoch: 02, loss: -0.09580\n",
      "epoch: 03, loss: -0.09577\n",
      "epoch: 04, loss: -0.09774\n",
      "epoch: 05, loss: -0.10216\n",
      "epoch: 06, loss: -0.09837\n",
      "epoch: 07, loss: -0.10243\n",
      "epoch: 08, loss: -0.10186\n",
      "epoch: 09, loss: -0.09911\n",
      "torch.Size([375, 64])\n",
      "<class 'numpy.ndarray'>\n"
     ]
    },
    {
     "name": "stderr",
     "output_type": "stream",
     "text": [
      " 16%|█▌        | 157/1000 [22:40<1:54:28,  8.15s/it]"
     ]
    },
    {
     "name": "stdout",
     "output_type": "stream",
     "text": [
      "eigenvalues shape torch.Size([5]) eigenvectors shape torch.Size([5, 375])\n",
      "157 /home/phdcs2/Hard_Disk/Datasets/Deep-Spectral-Segmentation/data/object-segmentation/ECSSD/features/dino_vits16/0158.pth\n",
      "dict_keys(['k', 'indices', 'file', 'id', 'model_name', 'patch_size', 'shape'])\n",
      "0158\n",
      "Starting Training\n",
      "epoch: 00, loss: -0.15471\n",
      "epoch: 01, loss: -0.17387\n",
      "epoch: 02, loss: -0.17386\n",
      "epoch: 03, loss: -0.17457\n",
      "epoch: 04, loss: -0.17447\n",
      "epoch: 05, loss: -0.17451\n",
      "epoch: 06, loss: -0.17533\n",
      "epoch: 07, loss: -0.17508\n",
      "epoch: 08, loss: -0.17504\n",
      "epoch: 09, loss: -0.17517\n",
      "torch.Size([300, 64])\n",
      "<class 'numpy.ndarray'>\n"
     ]
    },
    {
     "name": "stderr",
     "output_type": "stream",
     "text": [
      " 16%|█▌        | 158/1000 [22:46<1:44:16,  7.43s/it]"
     ]
    },
    {
     "name": "stdout",
     "output_type": "stream",
     "text": [
      "eigenvalues shape torch.Size([5]) eigenvectors shape torch.Size([5, 300])\n",
      "158 /home/phdcs2/Hard_Disk/Datasets/Deep-Spectral-Segmentation/data/object-segmentation/ECSSD/features/dino_vits16/0159.pth\n",
      "dict_keys(['k', 'indices', 'file', 'id', 'model_name', 'patch_size', 'shape'])\n",
      "0159\n",
      "Starting Training\n",
      "epoch: 00, loss: -0.05460\n",
      "epoch: 01, loss: -0.09278\n",
      "epoch: 02, loss: -0.09879\n",
      "epoch: 03, loss: -0.10015\n",
      "epoch: 04, loss: -0.10075\n",
      "epoch: 05, loss: -0.10062\n",
      "epoch: 06, loss: -0.10127\n",
      "epoch: 07, loss: -0.10169\n",
      "epoch: 08, loss: -0.10410\n",
      "epoch: 09, loss: -0.10171\n",
      "torch.Size([425, 64])\n",
      "<class 'numpy.ndarray'>\n"
     ]
    },
    {
     "name": "stderr",
     "output_type": "stream",
     "text": [
      " 16%|█▌        | 159/1000 [22:55<1:51:12,  7.93s/it]"
     ]
    },
    {
     "name": "stdout",
     "output_type": "stream",
     "text": [
      "eigenvalues shape torch.Size([5]) eigenvectors shape torch.Size([5, 425])\n",
      "159 /home/phdcs2/Hard_Disk/Datasets/Deep-Spectral-Segmentation/data/object-segmentation/ECSSD/features/dino_vits16/0160.pth\n",
      "dict_keys(['k', 'indices', 'file', 'id', 'model_name', 'patch_size', 'shape'])\n",
      "0160\n",
      "Starting Training\n",
      "epoch: 00, loss: -0.02906\n",
      "epoch: 01, loss: -0.06927\n",
      "epoch: 02, loss: -0.07482\n",
      "epoch: 03, loss: -0.07608\n",
      "epoch: 04, loss: -0.07993\n",
      "epoch: 05, loss: -0.08151\n",
      "epoch: 06, loss: -0.07803\n",
      "epoch: 07, loss: -0.07657\n",
      "epoch: 08, loss: -0.07894\n",
      "epoch: 09, loss: -0.07917\n",
      "torch.Size([400, 64])\n",
      "<class 'numpy.ndarray'>\n"
     ]
    },
    {
     "name": "stderr",
     "output_type": "stream",
     "text": [
      " 16%|█▌        | 160/1000 [23:04<1:55:12,  8.23s/it]"
     ]
    },
    {
     "name": "stdout",
     "output_type": "stream",
     "text": [
      "eigenvalues shape torch.Size([5]) eigenvectors shape torch.Size([5, 400])\n",
      "160 /home/phdcs2/Hard_Disk/Datasets/Deep-Spectral-Segmentation/data/object-segmentation/ECSSD/features/dino_vits16/0161.pth\n",
      "dict_keys(['k', 'indices', 'file', 'id', 'model_name', 'patch_size', 'shape'])\n",
      "0161\n",
      "Starting Training\n",
      "epoch: 00, loss: -0.00279\n",
      "epoch: 01, loss: -0.02029\n",
      "epoch: 02, loss: -0.02472\n",
      "epoch: 03, loss: -0.02681\n",
      "epoch: 04, loss: -0.02709\n",
      "epoch: 05, loss: -0.02708\n",
      "epoch: 06, loss: -0.02767\n",
      "epoch: 07, loss: -0.02761\n",
      "epoch: 08, loss: -0.02804\n",
      "epoch: 09, loss: -0.02815\n",
      "torch.Size([450, 64])\n",
      "<class 'numpy.ndarray'>\n"
     ]
    },
    {
     "name": "stderr",
     "output_type": "stream",
     "text": [
      " 16%|█▌        | 161/1000 [23:14<2:02:19,  8.75s/it]"
     ]
    },
    {
     "name": "stdout",
     "output_type": "stream",
     "text": [
      "eigenvalues shape torch.Size([5]) eigenvectors shape torch.Size([5, 450])\n",
      "161 /home/phdcs2/Hard_Disk/Datasets/Deep-Spectral-Segmentation/data/object-segmentation/ECSSD/features/dino_vits16/0162.pth\n",
      "dict_keys(['k', 'indices', 'file', 'id', 'model_name', 'patch_size', 'shape'])\n",
      "0162\n",
      "Starting Training\n",
      "epoch: 00, loss: -0.04276\n",
      "epoch: 01, loss: -0.06961\n",
      "epoch: 02, loss: -0.07076\n",
      "epoch: 03, loss: -0.07125\n",
      "epoch: 04, loss: -0.07126\n",
      "epoch: 05, loss: -0.07133\n",
      "epoch: 06, loss: -0.07148\n",
      "epoch: 07, loss: -0.07152\n",
      "epoch: 08, loss: -0.07183\n",
      "epoch: 09, loss: -0.07173\n",
      "torch.Size([450, 64])\n",
      "<class 'numpy.ndarray'>\n"
     ]
    },
    {
     "name": "stderr",
     "output_type": "stream",
     "text": [
      " 16%|█▌        | 162/1000 [23:23<2:03:29,  8.84s/it]"
     ]
    },
    {
     "name": "stdout",
     "output_type": "stream",
     "text": [
      "eigenvalues shape torch.Size([5]) eigenvectors shape torch.Size([5, 450])\n",
      "162 /home/phdcs2/Hard_Disk/Datasets/Deep-Spectral-Segmentation/data/object-segmentation/ECSSD/features/dino_vits16/0163.pth\n",
      "dict_keys(['k', 'indices', 'file', 'id', 'model_name', 'patch_size', 'shape'])\n",
      "0163\n",
      "Starting Training\n",
      "epoch: 00, loss: -0.04807\n",
      "epoch: 01, loss: -0.06648\n",
      "epoch: 02, loss: -0.06773\n",
      "epoch: 03, loss: -0.06791\n",
      "epoch: 04, loss: -0.06849\n",
      "epoch: 05, loss: -0.06849\n",
      "epoch: 06, loss: -0.06872\n",
      "epoch: 07, loss: -0.06879\n",
      "epoch: 08, loss: -0.06892\n",
      "epoch: 09, loss: -0.06889\n",
      "torch.Size([400, 64])\n",
      "<class 'numpy.ndarray'>\n"
     ]
    },
    {
     "name": "stderr",
     "output_type": "stream",
     "text": [
      " 16%|█▋        | 163/1000 [23:30<1:56:53,  8.38s/it]"
     ]
    },
    {
     "name": "stdout",
     "output_type": "stream",
     "text": [
      "eigenvalues shape torch.Size([5]) eigenvectors shape torch.Size([5, 400])\n",
      "163 /home/phdcs2/Hard_Disk/Datasets/Deep-Spectral-Segmentation/data/object-segmentation/ECSSD/features/dino_vits16/0164.pth\n",
      "dict_keys(['k', 'indices', 'file', 'id', 'model_name', 'patch_size', 'shape'])\n",
      "0164\n",
      "Starting Training\n",
      "epoch: 00, loss: -0.08046\n",
      "epoch: 01, loss: -0.09672\n",
      "epoch: 02, loss: -0.09707\n",
      "epoch: 03, loss: -0.09757\n",
      "epoch: 04, loss: -0.09774\n",
      "epoch: 05, loss: -0.09783\n",
      "epoch: 06, loss: -0.09788\n",
      "epoch: 07, loss: -0.09795\n",
      "epoch: 08, loss: -0.09815\n",
      "epoch: 09, loss: -0.09819\n",
      "torch.Size([550, 64])\n",
      "<class 'numpy.ndarray'>\n"
     ]
    },
    {
     "name": "stderr",
     "output_type": "stream",
     "text": [
      " 16%|█▋        | 164/1000 [23:41<2:07:06,  9.12s/it]"
     ]
    },
    {
     "name": "stdout",
     "output_type": "stream",
     "text": [
      "eigenvalues shape torch.Size([5]) eigenvectors shape torch.Size([5, 550])\n",
      "164 /home/phdcs2/Hard_Disk/Datasets/Deep-Spectral-Segmentation/data/object-segmentation/ECSSD/features/dino_vits16/0165.pth\n",
      "dict_keys(['k', 'indices', 'file', 'id', 'model_name', 'patch_size', 'shape'])\n",
      "0165\n",
      "Starting Training\n",
      "epoch: 00, loss: -0.02551\n",
      "epoch: 01, loss: -0.04484\n",
      "epoch: 02, loss: -0.04647\n",
      "epoch: 03, loss: -0.04713\n",
      "epoch: 04, loss: -0.04747\n",
      "epoch: 05, loss: -0.04783\n",
      "epoch: 06, loss: -0.04812\n",
      "epoch: 07, loss: -0.04826\n",
      "epoch: 08, loss: -0.04827\n",
      "epoch: 09, loss: -0.04832\n",
      "torch.Size([450, 64])\n",
      "<class 'numpy.ndarray'>\n"
     ]
    },
    {
     "name": "stderr",
     "output_type": "stream",
     "text": [
      " 16%|█▋        | 165/1000 [23:50<2:05:14,  9.00s/it]"
     ]
    },
    {
     "name": "stdout",
     "output_type": "stream",
     "text": [
      "eigenvalues shape torch.Size([5]) eigenvectors shape torch.Size([5, 450])\n",
      "165 /home/phdcs2/Hard_Disk/Datasets/Deep-Spectral-Segmentation/data/object-segmentation/ECSSD/features/dino_vits16/0166.pth\n",
      "dict_keys(['k', 'indices', 'file', 'id', 'model_name', 'patch_size', 'shape'])\n",
      "0166\n",
      "Starting Training\n",
      "epoch: 00, loss: -0.03315\n",
      "epoch: 01, loss: -0.06106\n",
      "epoch: 02, loss: -0.06203\n",
      "epoch: 03, loss: -0.06724\n",
      "epoch: 04, loss: -0.06599\n",
      "epoch: 05, loss: -0.06760\n",
      "epoch: 06, loss: -0.06707\n",
      "epoch: 07, loss: -0.06720\n",
      "epoch: 08, loss: -0.06582\n",
      "epoch: 09, loss: -0.06729\n",
      "torch.Size([400, 64])\n",
      "<class 'numpy.ndarray'>\n"
     ]
    },
    {
     "name": "stderr",
     "output_type": "stream",
     "text": [
      " 17%|█▋        | 166/1000 [23:59<2:06:59,  9.14s/it]"
     ]
    },
    {
     "name": "stdout",
     "output_type": "stream",
     "text": [
      "eigenvalues shape torch.Size([5]) eigenvectors shape torch.Size([5, 400])\n",
      "166 /home/phdcs2/Hard_Disk/Datasets/Deep-Spectral-Segmentation/data/object-segmentation/ECSSD/features/dino_vits16/0167.pth\n",
      "dict_keys(['k', 'indices', 'file', 'id', 'model_name', 'patch_size', 'shape'])\n",
      "0167\n",
      "Starting Training\n",
      "epoch: 00, loss: -0.03087\n",
      "epoch: 01, loss: -0.04996\n",
      "epoch: 02, loss: -0.05142\n",
      "epoch: 03, loss: -0.05173\n",
      "epoch: 04, loss: -0.05250\n",
      "epoch: 05, loss: -0.05310\n",
      "epoch: 06, loss: -0.05310\n",
      "epoch: 07, loss: -0.05330\n",
      "epoch: 08, loss: -0.05325\n",
      "epoch: 09, loss: -0.05337\n",
      "torch.Size([450, 64])\n",
      "<class 'numpy.ndarray'>\n"
     ]
    },
    {
     "name": "stderr",
     "output_type": "stream",
     "text": [
      " 17%|█▋        | 167/1000 [24:10<2:12:53,  9.57s/it]"
     ]
    },
    {
     "name": "stdout",
     "output_type": "stream",
     "text": [
      "eigenvalues shape torch.Size([5]) eigenvectors shape torch.Size([5, 450])\n",
      "167 /home/phdcs2/Hard_Disk/Datasets/Deep-Spectral-Segmentation/data/object-segmentation/ECSSD/features/dino_vits16/0168.pth\n",
      "dict_keys(['k', 'indices', 'file', 'id', 'model_name', 'patch_size', 'shape'])\n",
      "0168\n",
      "Starting Training\n",
      "epoch: 00, loss: -0.05239\n",
      "epoch: 01, loss: -0.08499\n",
      "epoch: 02, loss: -0.08813\n",
      "epoch: 03, loss: -0.08903\n",
      "epoch: 04, loss: -0.09110\n",
      "epoch: 05, loss: -0.09138\n",
      "epoch: 06, loss: -0.09069\n",
      "epoch: 07, loss: -0.09448\n",
      "epoch: 08, loss: -0.09118\n",
      "epoch: 09, loss: -0.09324\n",
      "torch.Size([400, 64])\n",
      "<class 'numpy.ndarray'>\n"
     ]
    },
    {
     "name": "stderr",
     "output_type": "stream",
     "text": [
      " 17%|█▋        | 168/1000 [24:16<1:59:20,  8.61s/it]"
     ]
    },
    {
     "name": "stdout",
     "output_type": "stream",
     "text": [
      "eigenvalues shape torch.Size([5]) eigenvectors shape torch.Size([5, 400])\n",
      "168 /home/phdcs2/Hard_Disk/Datasets/Deep-Spectral-Segmentation/data/object-segmentation/ECSSD/features/dino_vits16/0169.pth\n",
      "dict_keys(['k', 'indices', 'file', 'id', 'model_name', 'patch_size', 'shape'])\n",
      "0169\n",
      "Starting Training\n",
      "epoch: 00, loss: -0.01963\n",
      "epoch: 01, loss: -0.04000\n",
      "epoch: 02, loss: -0.04173\n",
      "epoch: 03, loss: -0.04306\n",
      "epoch: 04, loss: -0.04315\n",
      "epoch: 05, loss: -0.04338\n",
      "epoch: 06, loss: -0.04384\n",
      "epoch: 07, loss: -0.04408\n",
      "epoch: 08, loss: -0.04427\n",
      "epoch: 09, loss: -0.04460\n",
      "torch.Size([400, 64])\n",
      "<class 'numpy.ndarray'>\n"
     ]
    },
    {
     "name": "stderr",
     "output_type": "stream",
     "text": [
      " 17%|█▋        | 169/1000 [24:24<1:56:21,  8.40s/it]"
     ]
    },
    {
     "name": "stdout",
     "output_type": "stream",
     "text": [
      "eigenvalues shape torch.Size([5]) eigenvectors shape torch.Size([5, 400])\n",
      "169 /home/phdcs2/Hard_Disk/Datasets/Deep-Spectral-Segmentation/data/object-segmentation/ECSSD/features/dino_vits16/0170.pth\n",
      "dict_keys(['k', 'indices', 'file', 'id', 'model_name', 'patch_size', 'shape'])\n",
      "0170\n",
      "Starting Training\n",
      "epoch: 00, loss: -0.04499\n",
      "epoch: 01, loss: -0.06300\n",
      "epoch: 02, loss: -0.06418\n",
      "epoch: 03, loss: -0.06447\n",
      "epoch: 04, loss: -0.06477\n",
      "epoch: 05, loss: -0.06493\n",
      "epoch: 06, loss: -0.06503\n",
      "epoch: 07, loss: -0.06543\n",
      "epoch: 08, loss: -0.06539\n",
      "epoch: 09, loss: -0.06549\n",
      "torch.Size([450, 64])\n",
      "<class 'numpy.ndarray'>\n"
     ]
    },
    {
     "name": "stderr",
     "output_type": "stream",
     "text": [
      " 17%|█▋        | 170/1000 [24:32<1:52:26,  8.13s/it]"
     ]
    },
    {
     "name": "stdout",
     "output_type": "stream",
     "text": [
      "eigenvalues shape torch.Size([5]) eigenvectors shape torch.Size([5, 450])\n",
      "170 /home/phdcs2/Hard_Disk/Datasets/Deep-Spectral-Segmentation/data/object-segmentation/ECSSD/features/dino_vits16/0171.pth\n",
      "dict_keys(['k', 'indices', 'file', 'id', 'model_name', 'patch_size', 'shape'])\n",
      "0171\n",
      "Starting Training\n",
      "epoch: 00, loss: -0.10225\n",
      "epoch: 01, loss: -0.14458\n",
      "epoch: 02, loss: -0.14741\n",
      "epoch: 03, loss: -0.15183\n",
      "epoch: 04, loss: -0.15383\n",
      "epoch: 05, loss: -0.15344\n",
      "epoch: 06, loss: -0.15881\n",
      "epoch: 07, loss: -0.15766\n",
      "epoch: 08, loss: -0.15537\n",
      "epoch: 09, loss: -0.15633\n",
      "torch.Size([375, 64])\n",
      "<class 'numpy.ndarray'>\n"
     ]
    },
    {
     "name": "stderr",
     "output_type": "stream",
     "text": [
      " 17%|█▋        | 171/1000 [24:43<2:05:46,  9.10s/it]"
     ]
    },
    {
     "name": "stdout",
     "output_type": "stream",
     "text": [
      "eigenvalues shape torch.Size([5]) eigenvectors shape torch.Size([5, 375])\n",
      "171 /home/phdcs2/Hard_Disk/Datasets/Deep-Spectral-Segmentation/data/object-segmentation/ECSSD/features/dino_vits16/0172.pth\n",
      "dict_keys(['k', 'indices', 'file', 'id', 'model_name', 'patch_size', 'shape'])\n",
      "0172\n",
      "Starting Training\n",
      "epoch: 00, loss: -0.05105\n",
      "epoch: 01, loss: -0.07503\n",
      "epoch: 02, loss: -0.08498\n",
      "epoch: 03, loss: -0.08381\n",
      "epoch: 04, loss: -0.08144\n",
      "epoch: 05, loss: -0.08749\n",
      "epoch: 06, loss: -0.08454\n",
      "epoch: 07, loss: -0.08307\n",
      "epoch: 08, loss: -0.08537\n",
      "epoch: 09, loss: -0.08574\n",
      "torch.Size([375, 64])\n",
      "<class 'numpy.ndarray'>\n"
     ]
    },
    {
     "name": "stderr",
     "output_type": "stream",
     "text": [
      " 17%|█▋        | 172/1000 [24:53<2:10:12,  9.43s/it]"
     ]
    },
    {
     "name": "stdout",
     "output_type": "stream",
     "text": [
      "eigenvalues shape torch.Size([5]) eigenvectors shape torch.Size([5, 375])\n",
      "172 /home/phdcs2/Hard_Disk/Datasets/Deep-Spectral-Segmentation/data/object-segmentation/ECSSD/features/dino_vits16/0173.pth\n",
      "dict_keys(['k', 'indices', 'file', 'id', 'model_name', 'patch_size', 'shape'])\n",
      "0173\n",
      "Starting Training\n",
      "epoch: 00, loss: -0.08993\n",
      "epoch: 01, loss: -0.12242\n",
      "epoch: 02, loss: -0.12309\n",
      "epoch: 03, loss: -0.12725\n",
      "epoch: 04, loss: -0.12710\n",
      "epoch: 05, loss: -0.12833\n",
      "epoch: 06, loss: -0.12762\n",
      "epoch: 07, loss: -0.12705\n",
      "epoch: 08, loss: -0.12821\n",
      "epoch: 09, loss: -0.12988\n",
      "torch.Size([450, 64])\n",
      "<class 'numpy.ndarray'>\n"
     ]
    },
    {
     "name": "stderr",
     "output_type": "stream",
     "text": [
      " 17%|█▋        | 173/1000 [25:03<2:10:06,  9.44s/it]"
     ]
    },
    {
     "name": "stdout",
     "output_type": "stream",
     "text": [
      "eigenvalues shape torch.Size([5]) eigenvectors shape torch.Size([5, 450])\n",
      "173 /home/phdcs2/Hard_Disk/Datasets/Deep-Spectral-Segmentation/data/object-segmentation/ECSSD/features/dino_vits16/0174.pth\n",
      "dict_keys(['k', 'indices', 'file', 'id', 'model_name', 'patch_size', 'shape'])\n",
      "0174\n",
      "Starting Training\n",
      "epoch: 00, loss: -0.02065\n",
      "epoch: 01, loss: -0.04312\n",
      "epoch: 02, loss: -0.04642\n",
      "epoch: 03, loss: -0.04802\n",
      "epoch: 04, loss: -0.04776\n",
      "epoch: 05, loss: -0.04823\n",
      "epoch: 06, loss: -0.04670\n",
      "epoch: 07, loss: -0.04742\n",
      "epoch: 08, loss: -0.04915\n",
      "epoch: 09, loss: -0.04807\n",
      "torch.Size([375, 64])\n",
      "<class 'numpy.ndarray'>\n",
      "eigenvalues shape torch.Size([5]) eigenvectors shape torch.Size([5, 375])\n"
     ]
    },
    {
     "name": "stderr",
     "output_type": "stream",
     "text": [
      " 17%|█▋        | 174/1000 [25:08<1:54:01,  8.28s/it]"
     ]
    },
    {
     "name": "stdout",
     "output_type": "stream",
     "text": [
      "174 /home/phdcs2/Hard_Disk/Datasets/Deep-Spectral-Segmentation/data/object-segmentation/ECSSD/features/dino_vits16/0175.pth\n",
      "dict_keys(['k', 'indices', 'file', 'id', 'model_name', 'patch_size', 'shape'])\n",
      "0175\n",
      "Starting Training\n",
      "epoch: 00, loss: -0.05182\n",
      "epoch: 01, loss: -0.09111\n",
      "epoch: 02, loss: -0.09700\n",
      "epoch: 03, loss: -0.09568\n",
      "epoch: 04, loss: -0.09833\n",
      "epoch: 05, loss: -0.09871\n",
      "epoch: 06, loss: -0.09992\n",
      "epoch: 07, loss: -0.10200\n",
      "epoch: 08, loss: -0.10013\n",
      "epoch: 09, loss: -0.10337\n",
      "torch.Size([450, 64])\n",
      "<class 'numpy.ndarray'>\n"
     ]
    },
    {
     "name": "stderr",
     "output_type": "stream",
     "text": [
      " 18%|█▊        | 175/1000 [25:18<2:01:45,  8.85s/it]"
     ]
    },
    {
     "name": "stdout",
     "output_type": "stream",
     "text": [
      "eigenvalues shape torch.Size([5]) eigenvectors shape torch.Size([5, 450])\n",
      "175 /home/phdcs2/Hard_Disk/Datasets/Deep-Spectral-Segmentation/data/object-segmentation/ECSSD/features/dino_vits16/0176.pth\n",
      "dict_keys(['k', 'indices', 'file', 'id', 'model_name', 'patch_size', 'shape'])\n",
      "0176\n",
      "Starting Training\n",
      "epoch: 00, loss: -0.07282\n",
      "epoch: 01, loss: -0.10222\n",
      "epoch: 02, loss: -0.10359\n",
      "epoch: 03, loss: -0.10475\n",
      "epoch: 04, loss: -0.10489\n",
      "epoch: 05, loss: -0.10648\n",
      "epoch: 06, loss: -0.10677\n",
      "epoch: 07, loss: -0.10861\n",
      "epoch: 08, loss: -0.10697\n",
      "epoch: 09, loss: -0.10923\n",
      "torch.Size([550, 64])\n",
      "<class 'numpy.ndarray'>\n"
     ]
    },
    {
     "name": "stderr",
     "output_type": "stream",
     "text": [
      " 18%|█▊        | 176/1000 [25:35<2:31:58, 11.07s/it]"
     ]
    },
    {
     "name": "stdout",
     "output_type": "stream",
     "text": [
      "eigenvalues shape torch.Size([5]) eigenvectors shape torch.Size([5, 550])\n",
      "176 /home/phdcs2/Hard_Disk/Datasets/Deep-Spectral-Segmentation/data/object-segmentation/ECSSD/features/dino_vits16/0177.pth\n",
      "dict_keys(['k', 'indices', 'file', 'id', 'model_name', 'patch_size', 'shape'])\n",
      "0177\n",
      "Starting Training\n",
      "epoch: 00, loss: -0.03206\n",
      "epoch: 01, loss: -0.05462\n",
      "epoch: 02, loss: -0.05892\n",
      "epoch: 03, loss: -0.05977\n",
      "epoch: 04, loss: -0.06032\n",
      "epoch: 05, loss: -0.06134\n",
      "epoch: 06, loss: -0.06210\n",
      "epoch: 07, loss: -0.05990\n",
      "epoch: 08, loss: -0.06084\n",
      "epoch: 09, loss: -0.06289\n",
      "torch.Size([400, 64])\n",
      "<class 'numpy.ndarray'>\n"
     ]
    },
    {
     "name": "stderr",
     "output_type": "stream",
     "text": [
      " 18%|█▊        | 177/1000 [25:48<2:40:02, 11.67s/it]"
     ]
    },
    {
     "name": "stdout",
     "output_type": "stream",
     "text": [
      "eigenvalues shape torch.Size([5]) eigenvectors shape torch.Size([5, 400])\n",
      "177 /home/phdcs2/Hard_Disk/Datasets/Deep-Spectral-Segmentation/data/object-segmentation/ECSSD/features/dino_vits16/0178.pth\n",
      "dict_keys(['k', 'indices', 'file', 'id', 'model_name', 'patch_size', 'shape'])\n",
      "0178\n",
      "Starting Training\n",
      "epoch: 00, loss: -0.03281\n",
      "epoch: 01, loss: -0.05635\n",
      "epoch: 02, loss: -0.06135\n",
      "epoch: 03, loss: -0.06215\n",
      "epoch: 04, loss: -0.06242\n",
      "epoch: 05, loss: -0.06295\n",
      "epoch: 06, loss: -0.06396\n",
      "epoch: 07, loss: -0.06602\n",
      "epoch: 08, loss: -0.06424\n",
      "epoch: 09, loss: -0.06340\n",
      "torch.Size([450, 64])\n",
      "<class 'numpy.ndarray'>\n"
     ]
    },
    {
     "name": "stderr",
     "output_type": "stream",
     "text": [
      " 18%|█▊        | 178/1000 [25:58<2:34:46, 11.30s/it]"
     ]
    },
    {
     "name": "stdout",
     "output_type": "stream",
     "text": [
      "eigenvalues shape torch.Size([5]) eigenvectors shape torch.Size([5, 450])\n",
      "178 /home/phdcs2/Hard_Disk/Datasets/Deep-Spectral-Segmentation/data/object-segmentation/ECSSD/features/dino_vits16/0179.pth\n",
      "dict_keys(['k', 'indices', 'file', 'id', 'model_name', 'patch_size', 'shape'])\n",
      "0179\n",
      "Starting Training\n",
      "epoch: 00, loss: -0.03621\n",
      "epoch: 01, loss: -0.05508\n",
      "epoch: 02, loss: -0.05687\n",
      "epoch: 03, loss: -0.05795\n",
      "epoch: 04, loss: -0.05739\n",
      "epoch: 05, loss: -0.05774\n",
      "epoch: 06, loss: -0.05800\n",
      "epoch: 07, loss: -0.05805\n",
      "epoch: 08, loss: -0.05830\n",
      "epoch: 09, loss: -0.05817\n",
      "torch.Size([400, 64])\n",
      "<class 'numpy.ndarray'>\n"
     ]
    },
    {
     "name": "stderr",
     "output_type": "stream",
     "text": [
      " 18%|█▊        | 179/1000 [26:08<2:26:26, 10.70s/it]"
     ]
    },
    {
     "name": "stdout",
     "output_type": "stream",
     "text": [
      "eigenvalues shape torch.Size([5]) eigenvectors shape torch.Size([5, 400])\n",
      "179 /home/phdcs2/Hard_Disk/Datasets/Deep-Spectral-Segmentation/data/object-segmentation/ECSSD/features/dino_vits16/0180.pth\n",
      "dict_keys(['k', 'indices', 'file', 'id', 'model_name', 'patch_size', 'shape'])\n",
      "0180\n",
      "Starting Training\n",
      "epoch: 00, loss: -0.09551\n",
      "epoch: 01, loss: -0.12312\n",
      "epoch: 02, loss: -0.13170\n",
      "epoch: 03, loss: -0.12997\n",
      "epoch: 04, loss: -0.13344\n",
      "epoch: 05, loss: -0.13363\n",
      "epoch: 06, loss: -0.13392\n",
      "epoch: 07, loss: -0.13227\n",
      "epoch: 08, loss: -0.13642\n",
      "epoch: 09, loss: -0.13236\n",
      "torch.Size([400, 64])\n",
      "<class 'numpy.ndarray'>\n"
     ]
    },
    {
     "name": "stderr",
     "output_type": "stream",
     "text": [
      " 18%|█▊        | 180/1000 [26:16<2:17:47, 10.08s/it]"
     ]
    },
    {
     "name": "stdout",
     "output_type": "stream",
     "text": [
      "eigenvalues shape torch.Size([5]) eigenvectors shape torch.Size([5, 400])\n",
      "180 /home/phdcs2/Hard_Disk/Datasets/Deep-Spectral-Segmentation/data/object-segmentation/ECSSD/features/dino_vits16/0181.pth\n",
      "dict_keys(['k', 'indices', 'file', 'id', 'model_name', 'patch_size', 'shape'])\n",
      "0181\n",
      "Starting Training\n",
      "epoch: 00, loss: -0.00794\n",
      "epoch: 01, loss: -0.02460\n",
      "epoch: 02, loss: -0.02479\n",
      "epoch: 03, loss: -0.02368\n",
      "epoch: 04, loss: -0.03221\n",
      "epoch: 05, loss: -0.02992\n",
      "epoch: 06, loss: -0.03182\n",
      "epoch: 07, loss: -0.02756\n",
      "epoch: 08, loss: -0.03072\n",
      "epoch: 09, loss: -0.02571\n",
      "torch.Size([375, 64])\n",
      "<class 'numpy.ndarray'>\n"
     ]
    },
    {
     "name": "stderr",
     "output_type": "stream",
     "text": [
      " 18%|█▊        | 181/1000 [26:23<2:02:49,  9.00s/it]"
     ]
    },
    {
     "name": "stdout",
     "output_type": "stream",
     "text": [
      "eigenvalues shape torch.Size([5]) eigenvectors shape torch.Size([5, 375])\n",
      "181 /home/phdcs2/Hard_Disk/Datasets/Deep-Spectral-Segmentation/data/object-segmentation/ECSSD/features/dino_vits16/0182.pth\n",
      "dict_keys(['k', 'indices', 'file', 'id', 'model_name', 'patch_size', 'shape'])\n",
      "0182\n",
      "Starting Training\n",
      "epoch: 00, loss: -0.01503\n",
      "epoch: 01, loss: -0.02654\n",
      "epoch: 02, loss: -0.02895\n",
      "epoch: 03, loss: -0.02941\n",
      "epoch: 04, loss: -0.02973\n",
      "epoch: 05, loss: -0.02924\n",
      "epoch: 06, loss: -0.02949\n",
      "epoch: 07, loss: -0.03017\n",
      "epoch: 08, loss: -0.02983\n",
      "epoch: 09, loss: -0.02974\n",
      "torch.Size([625, 64])\n",
      "<class 'numpy.ndarray'>\n"
     ]
    },
    {
     "name": "stderr",
     "output_type": "stream",
     "text": [
      " 18%|█▊        | 182/1000 [26:38<2:29:09, 10.94s/it]"
     ]
    },
    {
     "name": "stdout",
     "output_type": "stream",
     "text": [
      "eigenvalues shape torch.Size([5]) eigenvectors shape torch.Size([5, 625])\n",
      "182 /home/phdcs2/Hard_Disk/Datasets/Deep-Spectral-Segmentation/data/object-segmentation/ECSSD/features/dino_vits16/0183.pth\n",
      "dict_keys(['k', 'indices', 'file', 'id', 'model_name', 'patch_size', 'shape'])\n",
      "0183\n",
      "Starting Training\n",
      "epoch: 00, loss: 0.00108\n",
      "epoch: 01, loss: -0.00890\n",
      "epoch: 02, loss: -0.01304\n",
      "epoch: 03, loss: -0.01488\n",
      "epoch: 04, loss: -0.01600\n",
      "epoch: 05, loss: -0.01678\n",
      "epoch: 06, loss: -0.01700\n",
      "epoch: 07, loss: -0.01727\n",
      "epoch: 08, loss: -0.01760\n",
      "epoch: 09, loss: -0.01774\n",
      "torch.Size([400, 64])\n",
      "<class 'numpy.ndarray'>\n"
     ]
    },
    {
     "name": "stderr",
     "output_type": "stream",
     "text": [
      " 18%|█▊        | 183/1000 [26:48<2:26:14, 10.74s/it]"
     ]
    },
    {
     "name": "stdout",
     "output_type": "stream",
     "text": [
      "eigenvalues shape torch.Size([5]) eigenvectors shape torch.Size([5, 400])\n",
      "183 /home/phdcs2/Hard_Disk/Datasets/Deep-Spectral-Segmentation/data/object-segmentation/ECSSD/features/dino_vits16/0184.pth\n",
      "dict_keys(['k', 'indices', 'file', 'id', 'model_name', 'patch_size', 'shape'])\n",
      "0184\n",
      "Starting Training\n",
      "epoch: 00, loss: -0.13804\n",
      "epoch: 01, loss: -0.16249\n",
      "epoch: 02, loss: -0.16592\n",
      "epoch: 03, loss: -0.16572\n",
      "epoch: 04, loss: -0.16772\n",
      "epoch: 05, loss: -0.16827\n",
      "epoch: 06, loss: -0.16933\n",
      "epoch: 07, loss: -0.16828\n",
      "epoch: 08, loss: -0.16880\n",
      "epoch: 09, loss: -0.16904\n",
      "torch.Size([625, 64])\n",
      "<class 'numpy.ndarray'>\n"
     ]
    },
    {
     "name": "stderr",
     "output_type": "stream",
     "text": [
      " 18%|█▊        | 184/1000 [27:11<3:16:13, 14.43s/it]"
     ]
    },
    {
     "name": "stdout",
     "output_type": "stream",
     "text": [
      "eigenvalues shape torch.Size([5]) eigenvectors shape torch.Size([5, 625])\n",
      "184 /home/phdcs2/Hard_Disk/Datasets/Deep-Spectral-Segmentation/data/object-segmentation/ECSSD/features/dino_vits16/0185.pth\n",
      "dict_keys(['k', 'indices', 'file', 'id', 'model_name', 'patch_size', 'shape'])\n",
      "0185\n",
      "Starting Training\n",
      "epoch: 00, loss: -0.01633\n",
      "epoch: 01, loss: -0.03356\n",
      "epoch: 02, loss: -0.03965\n",
      "epoch: 03, loss: -0.03976\n",
      "epoch: 04, loss: -0.04123\n",
      "epoch: 05, loss: -0.04176\n",
      "epoch: 06, loss: -0.04089\n",
      "epoch: 07, loss: -0.04100\n",
      "epoch: 08, loss: -0.04227\n",
      "epoch: 09, loss: -0.04147\n",
      "torch.Size([625, 64])\n",
      "<class 'numpy.ndarray'>\n"
     ]
    },
    {
     "name": "stderr",
     "output_type": "stream",
     "text": [
      " 18%|█▊        | 185/1000 [27:31<3:36:57, 15.97s/it]"
     ]
    },
    {
     "name": "stdout",
     "output_type": "stream",
     "text": [
      "eigenvalues shape torch.Size([5]) eigenvectors shape torch.Size([5, 625])\n",
      "185 /home/phdcs2/Hard_Disk/Datasets/Deep-Spectral-Segmentation/data/object-segmentation/ECSSD/features/dino_vits16/0186.pth\n",
      "dict_keys(['k', 'indices', 'file', 'id', 'model_name', 'patch_size', 'shape'])\n",
      "0186\n",
      "Starting Training\n",
      "epoch: 00, loss: -0.02155\n",
      "epoch: 01, loss: -0.03860\n",
      "epoch: 02, loss: -0.04040\n",
      "epoch: 03, loss: -0.04141\n",
      "epoch: 04, loss: -0.04191\n",
      "epoch: 05, loss: -0.04167\n",
      "epoch: 06, loss: -0.04225\n",
      "epoch: 07, loss: -0.04265\n",
      "epoch: 08, loss: -0.04271\n",
      "epoch: 09, loss: -0.04254\n",
      "torch.Size([625, 64])\n",
      "<class 'numpy.ndarray'>\n"
     ]
    },
    {
     "name": "stderr",
     "output_type": "stream",
     "text": [
      " 19%|█▊        | 186/1000 [27:52<3:56:03, 17.40s/it]"
     ]
    },
    {
     "name": "stdout",
     "output_type": "stream",
     "text": [
      "eigenvalues shape torch.Size([5]) eigenvectors shape torch.Size([5, 625])\n",
      "186 /home/phdcs2/Hard_Disk/Datasets/Deep-Spectral-Segmentation/data/object-segmentation/ECSSD/features/dino_vits16/0187.pth\n",
      "dict_keys(['k', 'indices', 'file', 'id', 'model_name', 'patch_size', 'shape'])\n",
      "0187\n",
      "Starting Training\n",
      "epoch: 00, loss: -0.01612\n",
      "epoch: 01, loss: -0.04744\n",
      "epoch: 02, loss: -0.06392\n",
      "epoch: 03, loss: -0.06772\n",
      "epoch: 04, loss: -0.07346\n",
      "epoch: 05, loss: -0.07061\n",
      "epoch: 06, loss: -0.07073\n",
      "epoch: 07, loss: -0.07446\n",
      "epoch: 08, loss: -0.07681\n",
      "epoch: 09, loss: -0.07361\n",
      "torch.Size([200, 64])\n",
      "<class 'numpy.ndarray'>\n"
     ]
    },
    {
     "name": "stderr",
     "output_type": "stream",
     "text": [
      " 19%|█▊        | 187/1000 [27:56<3:03:41, 13.56s/it]"
     ]
    },
    {
     "name": "stdout",
     "output_type": "stream",
     "text": [
      "eigenvalues shape torch.Size([5]) eigenvectors shape torch.Size([5, 200])\n",
      "187 /home/phdcs2/Hard_Disk/Datasets/Deep-Spectral-Segmentation/data/object-segmentation/ECSSD/features/dino_vits16/0188.pth\n",
      "dict_keys(['k', 'indices', 'file', 'id', 'model_name', 'patch_size', 'shape'])\n",
      "0188\n",
      "Starting Training\n",
      "epoch: 00, loss: -0.01975\n",
      "epoch: 01, loss: -0.03786\n",
      "epoch: 02, loss: -0.04083\n",
      "epoch: 03, loss: -0.04182\n",
      "epoch: 04, loss: -0.04206\n",
      "epoch: 05, loss: -0.04244\n",
      "epoch: 06, loss: -0.04254\n",
      "epoch: 07, loss: -0.04277\n",
      "epoch: 08, loss: -0.04267\n",
      "epoch: 09, loss: -0.04303\n",
      "torch.Size([400, 64])\n",
      "<class 'numpy.ndarray'>\n"
     ]
    },
    {
     "name": "stderr",
     "output_type": "stream",
     "text": [
      " 19%|█▉        | 188/1000 [28:09<3:01:01, 13.38s/it]"
     ]
    },
    {
     "name": "stdout",
     "output_type": "stream",
     "text": [
      "eigenvalues shape torch.Size([5]) eigenvectors shape torch.Size([5, 400])\n",
      "188 /home/phdcs2/Hard_Disk/Datasets/Deep-Spectral-Segmentation/data/object-segmentation/ECSSD/features/dino_vits16/0189.pth\n",
      "dict_keys(['k', 'indices', 'file', 'id', 'model_name', 'patch_size', 'shape'])\n",
      "0189\n",
      "Starting Training\n",
      "epoch: 00, loss: -0.03186\n",
      "epoch: 01, loss: -0.06181\n",
      "epoch: 02, loss: -0.06610\n",
      "epoch: 03, loss: -0.06975\n",
      "epoch: 04, loss: -0.07126\n",
      "epoch: 05, loss: -0.07238\n",
      "epoch: 06, loss: -0.07267\n",
      "epoch: 07, loss: -0.07256\n",
      "epoch: 08, loss: -0.07449\n",
      "epoch: 09, loss: -0.07366\n",
      "torch.Size([400, 64])\n",
      "<class 'numpy.ndarray'>\n"
     ]
    },
    {
     "name": "stderr",
     "output_type": "stream",
     "text": [
      " 19%|█▉        | 189/1000 [28:22<2:57:05, 13.10s/it]"
     ]
    },
    {
     "name": "stdout",
     "output_type": "stream",
     "text": [
      "eigenvalues shape torch.Size([5]) eigenvectors shape torch.Size([5, 400])\n",
      "189 /home/phdcs2/Hard_Disk/Datasets/Deep-Spectral-Segmentation/data/object-segmentation/ECSSD/features/dino_vits16/0190.pth\n",
      "dict_keys(['k', 'indices', 'file', 'id', 'model_name', 'patch_size', 'shape'])\n",
      "0190\n",
      "Starting Training\n",
      "epoch: 00, loss: -0.03749\n",
      "epoch: 01, loss: -0.05859\n",
      "epoch: 02, loss: -0.05947\n",
      "epoch: 03, loss: -0.05983\n",
      "epoch: 04, loss: -0.06010\n",
      "epoch: 05, loss: -0.06029\n",
      "epoch: 06, loss: -0.06051\n",
      "epoch: 07, loss: -0.06064\n",
      "epoch: 08, loss: -0.06065\n",
      "epoch: 09, loss: -0.06075\n",
      "torch.Size([450, 64])\n",
      "<class 'numpy.ndarray'>\n"
     ]
    },
    {
     "name": "stderr",
     "output_type": "stream",
     "text": [
      " 19%|█▉        | 190/1000 [28:32<2:46:55, 12.37s/it]"
     ]
    },
    {
     "name": "stdout",
     "output_type": "stream",
     "text": [
      "eigenvalues shape torch.Size([5]) eigenvectors shape torch.Size([5, 450])\n",
      "190 /home/phdcs2/Hard_Disk/Datasets/Deep-Spectral-Segmentation/data/object-segmentation/ECSSD/features/dino_vits16/0191.pth\n",
      "dict_keys(['k', 'indices', 'file', 'id', 'model_name', 'patch_size', 'shape'])\n",
      "0191\n",
      "Starting Training\n",
      "epoch: 00, loss: -0.04137\n",
      "epoch: 01, loss: -0.07086\n",
      "epoch: 02, loss: -0.07358\n",
      "epoch: 03, loss: -0.07392\n",
      "epoch: 04, loss: -0.07427\n",
      "epoch: 05, loss: -0.07461\n",
      "epoch: 06, loss: -0.07786\n",
      "epoch: 07, loss: -0.07554\n",
      "epoch: 08, loss: -0.07635\n",
      "epoch: 09, loss: -0.07772\n",
      "torch.Size([450, 64])\n",
      "<class 'numpy.ndarray'>\n"
     ]
    },
    {
     "name": "stderr",
     "output_type": "stream",
     "text": [
      " 19%|█▉        | 191/1000 [28:46<2:51:53, 12.75s/it]"
     ]
    },
    {
     "name": "stdout",
     "output_type": "stream",
     "text": [
      "eigenvalues shape torch.Size([5]) eigenvectors shape torch.Size([5, 450])\n",
      "191 /home/phdcs2/Hard_Disk/Datasets/Deep-Spectral-Segmentation/data/object-segmentation/ECSSD/features/dino_vits16/0192.pth\n",
      "dict_keys(['k', 'indices', 'file', 'id', 'model_name', 'patch_size', 'shape'])\n",
      "0192\n",
      "Starting Training\n",
      "epoch: 00, loss: -0.04611\n",
      "epoch: 01, loss: -0.06847\n",
      "epoch: 02, loss: -0.06955\n",
      "epoch: 03, loss: -0.06985\n",
      "epoch: 04, loss: -0.07025\n",
      "epoch: 05, loss: -0.07042\n",
      "epoch: 06, loss: -0.07063\n",
      "epoch: 07, loss: -0.07069\n",
      "epoch: 08, loss: -0.07075\n",
      "epoch: 09, loss: -0.07097\n",
      "torch.Size([400, 64])\n",
      "<class 'numpy.ndarray'>\n"
     ]
    },
    {
     "name": "stderr",
     "output_type": "stream",
     "text": [
      " 19%|█▉        | 192/1000 [28:54<2:33:22, 11.39s/it]"
     ]
    },
    {
     "name": "stdout",
     "output_type": "stream",
     "text": [
      "eigenvalues shape torch.Size([5]) eigenvectors shape torch.Size([5, 400])\n",
      "192 /home/phdcs2/Hard_Disk/Datasets/Deep-Spectral-Segmentation/data/object-segmentation/ECSSD/features/dino_vits16/0193.pth\n",
      "dict_keys(['k', 'indices', 'file', 'id', 'model_name', 'patch_size', 'shape'])\n",
      "0193\n",
      "Starting Training\n",
      "epoch: 00, loss: -0.00161\n",
      "epoch: 01, loss: -0.01892\n",
      "epoch: 02, loss: -0.03033\n",
      "epoch: 03, loss: -0.03183\n",
      "epoch: 04, loss: -0.03080\n",
      "epoch: 05, loss: -0.03332\n",
      "epoch: 06, loss: -0.03329\n",
      "epoch: 07, loss: -0.03241\n",
      "epoch: 08, loss: -0.03456\n",
      "epoch: 09, loss: -0.03404\n",
      "torch.Size([450, 64])\n",
      "<class 'numpy.ndarray'>\n"
     ]
    },
    {
     "name": "stderr",
     "output_type": "stream",
     "text": [
      " 19%|█▉        | 193/1000 [29:02<2:19:28, 10.37s/it]"
     ]
    },
    {
     "name": "stdout",
     "output_type": "stream",
     "text": [
      "eigenvalues shape torch.Size([5]) eigenvectors shape torch.Size([5, 450])\n",
      "193 /home/phdcs2/Hard_Disk/Datasets/Deep-Spectral-Segmentation/data/object-segmentation/ECSSD/features/dino_vits16/0194.pth\n",
      "dict_keys(['k', 'indices', 'file', 'id', 'model_name', 'patch_size', 'shape'])\n",
      "0194\n",
      "Starting Training\n",
      "epoch: 00, loss: -0.01069\n",
      "epoch: 01, loss: -0.03432\n",
      "epoch: 02, loss: -0.03842\n",
      "epoch: 03, loss: -0.04011\n",
      "epoch: 04, loss: -0.04237\n",
      "epoch: 05, loss: -0.04107\n",
      "epoch: 06, loss: -0.04096\n",
      "epoch: 07, loss: -0.04181\n",
      "epoch: 08, loss: -0.04285\n",
      "epoch: 09, loss: -0.04168\n",
      "torch.Size([450, 64])\n",
      "<class 'numpy.ndarray'>\n"
     ]
    },
    {
     "name": "stderr",
     "output_type": "stream",
     "text": [
      " 19%|█▉        | 194/1000 [29:15<2:28:48, 11.08s/it]"
     ]
    },
    {
     "name": "stdout",
     "output_type": "stream",
     "text": [
      "eigenvalues shape torch.Size([5]) eigenvectors shape torch.Size([5, 450])\n",
      "194 /home/phdcs2/Hard_Disk/Datasets/Deep-Spectral-Segmentation/data/object-segmentation/ECSSD/features/dino_vits16/0195.pth\n",
      "dict_keys(['k', 'indices', 'file', 'id', 'model_name', 'patch_size', 'shape'])\n",
      "0195\n",
      "Starting Training\n",
      "epoch: 00, loss: -0.06252\n",
      "epoch: 01, loss: -0.09611\n",
      "epoch: 02, loss: -0.09888\n",
      "epoch: 03, loss: -0.10158\n",
      "epoch: 04, loss: -0.10189\n",
      "epoch: 05, loss: -0.10315\n",
      "epoch: 06, loss: -0.10408\n",
      "epoch: 07, loss: -0.10457\n",
      "epoch: 08, loss: -0.10313\n",
      "epoch: 09, loss: -0.10370\n",
      "torch.Size([400, 64])\n",
      "<class 'numpy.ndarray'>\n"
     ]
    },
    {
     "name": "stderr",
     "output_type": "stream",
     "text": [
      " 20%|█▉        | 195/1000 [29:28<2:37:17, 11.72s/it]"
     ]
    },
    {
     "name": "stdout",
     "output_type": "stream",
     "text": [
      "eigenvalues shape torch.Size([5]) eigenvectors shape torch.Size([5, 400])\n",
      "195 /home/phdcs2/Hard_Disk/Datasets/Deep-Spectral-Segmentation/data/object-segmentation/ECSSD/features/dino_vits16/0196.pth\n",
      "dict_keys(['k', 'indices', 'file', 'id', 'model_name', 'patch_size', 'shape'])\n",
      "0196\n",
      "Starting Training\n",
      "epoch: 00, loss: -0.02904\n",
      "epoch: 01, loss: -0.04937\n",
      "epoch: 02, loss: -0.05151\n",
      "epoch: 03, loss: -0.05105\n",
      "epoch: 04, loss: -0.05123\n",
      "epoch: 05, loss: -0.05131\n",
      "epoch: 06, loss: -0.05235\n",
      "epoch: 07, loss: -0.05267\n",
      "epoch: 08, loss: -0.05182\n",
      "epoch: 09, loss: -0.05247\n",
      "torch.Size([625, 64])\n",
      "<class 'numpy.ndarray'>\n"
     ]
    },
    {
     "name": "stderr",
     "output_type": "stream",
     "text": [
      " 20%|█▉        | 196/1000 [29:45<2:55:33, 13.10s/it]"
     ]
    },
    {
     "name": "stdout",
     "output_type": "stream",
     "text": [
      "eigenvalues shape torch.Size([5]) eigenvectors shape torch.Size([5, 625])\n",
      "196 /home/phdcs2/Hard_Disk/Datasets/Deep-Spectral-Segmentation/data/object-segmentation/ECSSD/features/dino_vits16/0197.pth\n",
      "dict_keys(['k', 'indices', 'file', 'id', 'model_name', 'patch_size', 'shape'])\n",
      "0197\n",
      "Starting Training\n",
      "epoch: 00, loss: -0.07435\n",
      "epoch: 01, loss: -0.10880\n",
      "epoch: 02, loss: -0.11386\n",
      "epoch: 03, loss: -0.11437\n",
      "epoch: 04, loss: -0.11513\n",
      "epoch: 05, loss: -0.11709\n",
      "epoch: 06, loss: -0.11762\n",
      "epoch: 07, loss: -0.11779\n",
      "epoch: 08, loss: -0.11859\n",
      "epoch: 09, loss: -0.11764\n",
      "torch.Size([400, 64])\n",
      "<class 'numpy.ndarray'>\n"
     ]
    },
    {
     "name": "stderr",
     "output_type": "stream",
     "text": [
      " 20%|█▉        | 197/1000 [29:56<2:49:30, 12.67s/it]"
     ]
    },
    {
     "name": "stdout",
     "output_type": "stream",
     "text": [
      "eigenvalues shape torch.Size([5]) eigenvectors shape torch.Size([5, 400])\n",
      "197 /home/phdcs2/Hard_Disk/Datasets/Deep-Spectral-Segmentation/data/object-segmentation/ECSSD/features/dino_vits16/0198.pth\n",
      "dict_keys(['k', 'indices', 'file', 'id', 'model_name', 'patch_size', 'shape'])\n",
      "0198\n",
      "Starting Training\n",
      "epoch: 00, loss: -0.00405\n",
      "epoch: 01, loss: -0.01789\n",
      "epoch: 02, loss: -0.02226\n",
      "epoch: 03, loss: -0.02218\n",
      "epoch: 04, loss: -0.02302\n",
      "epoch: 05, loss: -0.02314\n",
      "epoch: 06, loss: -0.02352\n",
      "epoch: 07, loss: -0.02522\n",
      "epoch: 08, loss: -0.02510\n",
      "epoch: 09, loss: -0.02380\n",
      "torch.Size([425, 64])\n",
      "<class 'numpy.ndarray'>\n"
     ]
    },
    {
     "name": "stderr",
     "output_type": "stream",
     "text": [
      " 20%|█▉        | 198/1000 [30:06<2:38:30, 11.86s/it]"
     ]
    },
    {
     "name": "stdout",
     "output_type": "stream",
     "text": [
      "eigenvalues shape torch.Size([5]) eigenvectors shape torch.Size([5, 425])\n",
      "198 /home/phdcs2/Hard_Disk/Datasets/Deep-Spectral-Segmentation/data/object-segmentation/ECSSD/features/dino_vits16/0199.pth\n",
      "dict_keys(['k', 'indices', 'file', 'id', 'model_name', 'patch_size', 'shape'])\n",
      "0199\n",
      "Starting Training\n",
      "epoch: 00, loss: -0.02739\n",
      "epoch: 01, loss: -0.04486\n",
      "epoch: 02, loss: -0.04672\n",
      "epoch: 03, loss: -0.04714\n",
      "epoch: 04, loss: -0.04762\n",
      "epoch: 05, loss: -0.04791\n",
      "epoch: 06, loss: -0.04799\n",
      "epoch: 07, loss: -0.04819\n",
      "epoch: 08, loss: -0.04818\n",
      "epoch: 09, loss: -0.04819\n",
      "torch.Size([450, 64])\n",
      "<class 'numpy.ndarray'>\n"
     ]
    },
    {
     "name": "stderr",
     "output_type": "stream",
     "text": [
      " 20%|█▉        | 199/1000 [30:13<2:18:16, 10.36s/it]"
     ]
    },
    {
     "name": "stdout",
     "output_type": "stream",
     "text": [
      "eigenvalues shape torch.Size([5]) eigenvectors shape torch.Size([5, 450])\n",
      "199 /home/phdcs2/Hard_Disk/Datasets/Deep-Spectral-Segmentation/data/object-segmentation/ECSSD/features/dino_vits16/0200.pth\n",
      "dict_keys(['k', 'indices', 'file', 'id', 'model_name', 'patch_size', 'shape'])\n",
      "0200\n",
      "Starting Training\n",
      "epoch: 00, loss: -0.02234\n",
      "epoch: 01, loss: -0.04550\n",
      "epoch: 02, loss: -0.04734\n",
      "epoch: 03, loss: -0.04812\n",
      "epoch: 04, loss: -0.04822\n",
      "epoch: 05, loss: -0.04879\n",
      "epoch: 06, loss: -0.04899\n",
      "epoch: 07, loss: -0.04930\n",
      "epoch: 08, loss: -0.04940\n",
      "epoch: 09, loss: -0.04983\n",
      "torch.Size([450, 64])\n",
      "<class 'numpy.ndarray'>\n"
     ]
    },
    {
     "name": "stderr",
     "output_type": "stream",
     "text": [
      " 20%|██        | 200/1000 [30:21<2:09:20,  9.70s/it]"
     ]
    },
    {
     "name": "stdout",
     "output_type": "stream",
     "text": [
      "eigenvalues shape torch.Size([5]) eigenvectors shape torch.Size([5, 450])\n",
      "200 /home/phdcs2/Hard_Disk/Datasets/Deep-Spectral-Segmentation/data/object-segmentation/ECSSD/features/dino_vits16/0201.pth\n",
      "dict_keys(['k', 'indices', 'file', 'id', 'model_name', 'patch_size', 'shape'])\n",
      "0201\n",
      "Starting Training\n",
      "epoch: 00, loss: -0.04194\n",
      "epoch: 01, loss: -0.06632\n",
      "epoch: 02, loss: -0.07019\n",
      "epoch: 03, loss: -0.06744\n",
      "epoch: 04, loss: -0.07157\n",
      "epoch: 05, loss: -0.07012\n",
      "epoch: 06, loss: -0.07182\n",
      "epoch: 07, loss: -0.07157\n",
      "epoch: 08, loss: -0.07169\n",
      "epoch: 09, loss: -0.07129\n",
      "torch.Size([425, 64])\n",
      "<class 'numpy.ndarray'>\n"
     ]
    },
    {
     "name": "stderr",
     "output_type": "stream",
     "text": [
      " 20%|██        | 201/1000 [30:33<2:19:42, 10.49s/it]"
     ]
    },
    {
     "name": "stdout",
     "output_type": "stream",
     "text": [
      "eigenvalues shape torch.Size([5]) eigenvectors shape torch.Size([5, 425])\n",
      "201 /home/phdcs2/Hard_Disk/Datasets/Deep-Spectral-Segmentation/data/object-segmentation/ECSSD/features/dino_vits16/0202.pth\n",
      "dict_keys(['k', 'indices', 'file', 'id', 'model_name', 'patch_size', 'shape'])\n",
      "0202\n",
      "Starting Training\n",
      "epoch: 00, loss: -0.13501\n",
      "epoch: 01, loss: -0.17405\n",
      "epoch: 02, loss: -0.17903\n",
      "epoch: 03, loss: -0.18437\n",
      "epoch: 04, loss: -0.18354\n",
      "epoch: 05, loss: -0.18464\n",
      "epoch: 06, loss: -0.18623\n",
      "epoch: 07, loss: -0.18921\n",
      "epoch: 08, loss: -0.18425\n",
      "epoch: 09, loss: -0.18508\n",
      "torch.Size([400, 64])\n",
      "<class 'numpy.ndarray'>\n"
     ]
    },
    {
     "name": "stderr",
     "output_type": "stream",
     "text": [
      " 20%|██        | 202/1000 [30:45<2:24:22, 10.86s/it]"
     ]
    },
    {
     "name": "stdout",
     "output_type": "stream",
     "text": [
      "eigenvalues shape torch.Size([5]) eigenvectors shape torch.Size([5, 400])\n",
      "202 /home/phdcs2/Hard_Disk/Datasets/Deep-Spectral-Segmentation/data/object-segmentation/ECSSD/features/dino_vits16/0203.pth\n",
      "dict_keys(['k', 'indices', 'file', 'id', 'model_name', 'patch_size', 'shape'])\n",
      "0203\n",
      "Starting Training\n",
      "epoch: 00, loss: -0.00843\n",
      "epoch: 01, loss: -0.03445\n",
      "epoch: 02, loss: -0.03826\n",
      "epoch: 03, loss: -0.04426\n",
      "epoch: 04, loss: -0.04409\n",
      "epoch: 05, loss: -0.04715\n",
      "epoch: 06, loss: -0.04549\n",
      "epoch: 07, loss: -0.04747\n",
      "epoch: 08, loss: -0.04543\n",
      "epoch: 09, loss: -0.04756\n",
      "torch.Size([400, 64])\n",
      "<class 'numpy.ndarray'>\n"
     ]
    },
    {
     "name": "stderr",
     "output_type": "stream",
     "text": [
      " 20%|██        | 203/1000 [30:57<2:29:07, 11.23s/it]"
     ]
    },
    {
     "name": "stdout",
     "output_type": "stream",
     "text": [
      "eigenvalues shape torch.Size([5]) eigenvectors shape torch.Size([5, 400])\n",
      "203 /home/phdcs2/Hard_Disk/Datasets/Deep-Spectral-Segmentation/data/object-segmentation/ECSSD/features/dino_vits16/0204.pth\n",
      "dict_keys(['k', 'indices', 'file', 'id', 'model_name', 'patch_size', 'shape'])\n",
      "0204\n",
      "Starting Training\n",
      "epoch: 00, loss: -0.03929\n",
      "epoch: 01, loss: -0.07464\n",
      "epoch: 02, loss: -0.07734\n",
      "epoch: 03, loss: -0.07973\n",
      "epoch: 04, loss: -0.07864\n",
      "epoch: 05, loss: -0.08107\n",
      "epoch: 06, loss: -0.08046\n",
      "epoch: 07, loss: -0.08148\n",
      "epoch: 08, loss: -0.08084\n",
      "epoch: 09, loss: -0.08133\n",
      "torch.Size([450, 64])\n",
      "<class 'numpy.ndarray'>\n"
     ]
    },
    {
     "name": "stderr",
     "output_type": "stream",
     "text": [
      " 20%|██        | 204/1000 [31:12<2:41:06, 12.14s/it]"
     ]
    },
    {
     "name": "stdout",
     "output_type": "stream",
     "text": [
      "eigenvalues shape torch.Size([5]) eigenvectors shape torch.Size([5, 450])\n",
      "204 /home/phdcs2/Hard_Disk/Datasets/Deep-Spectral-Segmentation/data/object-segmentation/ECSSD/features/dino_vits16/0205.pth\n",
      "dict_keys(['k', 'indices', 'file', 'id', 'model_name', 'patch_size', 'shape'])\n",
      "0205\n",
      "Starting Training\n",
      "epoch: 00, loss: -0.24196\n",
      "epoch: 01, loss: -0.28843\n",
      "epoch: 02, loss: -0.29658\n",
      "epoch: 03, loss: -0.30158\n",
      "epoch: 04, loss: -0.30565\n",
      "epoch: 05, loss: -0.30652\n",
      "epoch: 06, loss: -0.30809\n",
      "epoch: 07, loss: -0.30913\n",
      "epoch: 08, loss: -0.30651\n",
      "epoch: 09, loss: -0.31677\n",
      "torch.Size([450, 64])\n",
      "<class 'numpy.ndarray'>\n"
     ]
    },
    {
     "name": "stderr",
     "output_type": "stream",
     "text": [
      " 20%|██        | 205/1000 [31:26<2:48:51, 12.74s/it]"
     ]
    },
    {
     "name": "stdout",
     "output_type": "stream",
     "text": [
      "eigenvalues shape torch.Size([5]) eigenvectors shape torch.Size([5, 450])\n",
      "205 /home/phdcs2/Hard_Disk/Datasets/Deep-Spectral-Segmentation/data/object-segmentation/ECSSD/features/dino_vits16/0206.pth\n",
      "dict_keys(['k', 'indices', 'file', 'id', 'model_name', 'patch_size', 'shape'])\n",
      "0206\n",
      "Starting Training\n",
      "epoch: 00, loss: -0.03545\n",
      "epoch: 01, loss: -0.05323\n",
      "epoch: 02, loss: -0.05473\n",
      "epoch: 03, loss: -0.05507\n",
      "epoch: 04, loss: -0.05533\n",
      "epoch: 05, loss: -0.05558\n",
      "epoch: 06, loss: -0.05565\n",
      "epoch: 07, loss: -0.05589\n",
      "epoch: 08, loss: -0.05586\n",
      "epoch: 09, loss: -0.05606\n",
      "torch.Size([400, 64])\n",
      "<class 'numpy.ndarray'>\n"
     ]
    },
    {
     "name": "stderr",
     "output_type": "stream",
     "text": [
      " 21%|██        | 206/1000 [31:39<2:49:46, 12.83s/it]"
     ]
    },
    {
     "name": "stdout",
     "output_type": "stream",
     "text": [
      "eigenvalues shape torch.Size([5]) eigenvectors shape torch.Size([5, 400])\n",
      "206 /home/phdcs2/Hard_Disk/Datasets/Deep-Spectral-Segmentation/data/object-segmentation/ECSSD/features/dino_vits16/0207.pth\n",
      "dict_keys(['k', 'indices', 'file', 'id', 'model_name', 'patch_size', 'shape'])\n",
      "0207\n",
      "Starting Training\n",
      "epoch: 00, loss: -0.05787\n",
      "epoch: 01, loss: -0.08874\n",
      "epoch: 02, loss: -0.09005\n",
      "epoch: 03, loss: -0.09244\n",
      "epoch: 04, loss: -0.09046\n",
      "epoch: 05, loss: -0.09438\n",
      "epoch: 06, loss: -0.09634\n",
      "epoch: 07, loss: -0.09399\n",
      "epoch: 08, loss: -0.09475\n",
      "epoch: 09, loss: -0.09562\n",
      "torch.Size([400, 64])\n",
      "<class 'numpy.ndarray'>\n"
     ]
    },
    {
     "name": "stderr",
     "output_type": "stream",
     "text": [
      " 21%|██        | 207/1000 [31:54<2:57:41, 13.44s/it]"
     ]
    },
    {
     "name": "stdout",
     "output_type": "stream",
     "text": [
      "eigenvalues shape torch.Size([5]) eigenvectors shape torch.Size([5, 400])\n",
      "207 /home/phdcs2/Hard_Disk/Datasets/Deep-Spectral-Segmentation/data/object-segmentation/ECSSD/features/dino_vits16/0208.pth\n",
      "dict_keys(['k', 'indices', 'file', 'id', 'model_name', 'patch_size', 'shape'])\n",
      "0208\n",
      "Starting Training\n",
      "epoch: 00, loss: -0.04048\n",
      "epoch: 01, loss: -0.06157\n",
      "epoch: 02, loss: -0.06706\n",
      "epoch: 03, loss: -0.06928\n",
      "epoch: 04, loss: -0.06646\n",
      "epoch: 05, loss: -0.06908\n",
      "epoch: 06, loss: -0.07168\n",
      "epoch: 07, loss: -0.07014\n",
      "epoch: 08, loss: -0.07201\n",
      "epoch: 09, loss: -0.06984\n",
      "torch.Size([450, 64])\n",
      "<class 'numpy.ndarray'>\n"
     ]
    },
    {
     "name": "stderr",
     "output_type": "stream",
     "text": [
      " 21%|██        | 208/1000 [32:09<3:06:21, 14.12s/it]"
     ]
    },
    {
     "name": "stdout",
     "output_type": "stream",
     "text": [
      "eigenvalues shape torch.Size([5]) eigenvectors shape torch.Size([5, 450])\n",
      "208 /home/phdcs2/Hard_Disk/Datasets/Deep-Spectral-Segmentation/data/object-segmentation/ECSSD/features/dino_vits16/0209.pth\n",
      "dict_keys(['k', 'indices', 'file', 'id', 'model_name', 'patch_size', 'shape'])\n",
      "0209\n",
      "Starting Training\n",
      "epoch: 00, loss: -0.04545\n",
      "epoch: 01, loss: -0.06641\n",
      "epoch: 02, loss: -0.06749\n",
      "epoch: 03, loss: -0.06780\n",
      "epoch: 04, loss: -0.06794\n",
      "epoch: 05, loss: -0.06856\n",
      "epoch: 06, loss: -0.06809\n",
      "epoch: 07, loss: -0.06846\n",
      "epoch: 08, loss: -0.06855\n",
      "epoch: 09, loss: -0.06853\n",
      "torch.Size([500, 64])\n",
      "<class 'numpy.ndarray'>\n"
     ]
    },
    {
     "name": "stderr",
     "output_type": "stream",
     "text": [
      " 21%|██        | 209/1000 [32:27<3:21:37, 15.29s/it]"
     ]
    },
    {
     "name": "stdout",
     "output_type": "stream",
     "text": [
      "eigenvalues shape torch.Size([5]) eigenvectors shape torch.Size([5, 500])\n",
      "209 /home/phdcs2/Hard_Disk/Datasets/Deep-Spectral-Segmentation/data/object-segmentation/ECSSD/features/dino_vits16/0210.pth\n",
      "dict_keys(['k', 'indices', 'file', 'id', 'model_name', 'patch_size', 'shape'])\n",
      "0210\n",
      "Starting Training\n",
      "epoch: 00, loss: -0.02931\n",
      "epoch: 01, loss: -0.05031\n",
      "epoch: 02, loss: -0.05351\n",
      "epoch: 03, loss: -0.05631\n",
      "epoch: 04, loss: -0.05825\n",
      "epoch: 05, loss: -0.05606\n",
      "epoch: 06, loss: -0.05731\n",
      "epoch: 07, loss: -0.05671\n",
      "epoch: 08, loss: -0.05732\n",
      "epoch: 09, loss: -0.05872\n",
      "torch.Size([425, 64])\n",
      "<class 'numpy.ndarray'>\n"
     ]
    },
    {
     "name": "stderr",
     "output_type": "stream",
     "text": [
      " 21%|██        | 210/1000 [32:44<3:25:27, 15.61s/it]"
     ]
    },
    {
     "name": "stdout",
     "output_type": "stream",
     "text": [
      "eigenvalues shape torch.Size([5]) eigenvectors shape torch.Size([5, 425])\n",
      "210 /home/phdcs2/Hard_Disk/Datasets/Deep-Spectral-Segmentation/data/object-segmentation/ECSSD/features/dino_vits16/0211.pth\n",
      "dict_keys(['k', 'indices', 'file', 'id', 'model_name', 'patch_size', 'shape'])\n",
      "0211\n",
      "Starting Training\n",
      "epoch: 00, loss: -0.09481\n",
      "epoch: 01, loss: -0.11491\n",
      "epoch: 02, loss: -0.11481\n",
      "epoch: 03, loss: -0.11525\n",
      "epoch: 04, loss: -0.11537\n",
      "epoch: 05, loss: -0.11525\n",
      "epoch: 06, loss: -0.11524\n",
      "epoch: 07, loss: -0.11559\n",
      "epoch: 08, loss: -0.11573\n",
      "epoch: 09, loss: -0.11591\n",
      "torch.Size([500, 64])\n",
      "<class 'numpy.ndarray'>\n"
     ]
    },
    {
     "name": "stderr",
     "output_type": "stream",
     "text": [
      " 21%|██        | 211/1000 [33:03<3:39:39, 16.70s/it]"
     ]
    },
    {
     "name": "stdout",
     "output_type": "stream",
     "text": [
      "eigenvalues shape torch.Size([5]) eigenvectors shape torch.Size([5, 500])\n",
      "211 /home/phdcs2/Hard_Disk/Datasets/Deep-Spectral-Segmentation/data/object-segmentation/ECSSD/features/dino_vits16/0212.pth\n",
      "dict_keys(['k', 'indices', 'file', 'id', 'model_name', 'patch_size', 'shape'])\n",
      "0212\n",
      "Starting Training\n",
      "epoch: 00, loss: -0.04821\n",
      "epoch: 01, loss: -0.06586\n",
      "epoch: 02, loss: -0.07080\n",
      "epoch: 03, loss: -0.07097\n",
      "epoch: 04, loss: -0.06972\n",
      "epoch: 05, loss: -0.07246\n",
      "epoch: 06, loss: -0.07302\n",
      "epoch: 07, loss: -0.07143\n",
      "epoch: 08, loss: -0.07095\n",
      "epoch: 09, loss: -0.07253\n",
      "torch.Size([625, 64])\n",
      "<class 'numpy.ndarray'>\n"
     ]
    },
    {
     "name": "stderr",
     "output_type": "stream",
     "text": [
      " 21%|██        | 212/1000 [33:32<4:28:24, 20.44s/it]"
     ]
    },
    {
     "name": "stdout",
     "output_type": "stream",
     "text": [
      "eigenvalues shape torch.Size([5]) eigenvectors shape torch.Size([5, 625])\n",
      "212 /home/phdcs2/Hard_Disk/Datasets/Deep-Spectral-Segmentation/data/object-segmentation/ECSSD/features/dino_vits16/0213.pth\n",
      "dict_keys(['k', 'indices', 'file', 'id', 'model_name', 'patch_size', 'shape'])\n",
      "0213\n",
      "Starting Training\n",
      "epoch: 00, loss: -0.08050\n",
      "epoch: 01, loss: -0.10538\n",
      "epoch: 02, loss: -0.10812\n",
      "epoch: 03, loss: -0.10602\n",
      "epoch: 04, loss: -0.11016\n",
      "epoch: 05, loss: -0.10994\n",
      "epoch: 06, loss: -0.11105\n",
      "epoch: 07, loss: -0.11098\n",
      "epoch: 08, loss: -0.10969\n",
      "epoch: 09, loss: -0.11045\n",
      "torch.Size([450, 64])\n",
      "<class 'numpy.ndarray'>\n"
     ]
    },
    {
     "name": "stderr",
     "output_type": "stream",
     "text": [
      " 21%|██▏       | 213/1000 [33:45<3:58:59, 18.22s/it]"
     ]
    },
    {
     "name": "stdout",
     "output_type": "stream",
     "text": [
      "eigenvalues shape torch.Size([5]) eigenvectors shape torch.Size([5, 450])\n",
      "213 /home/phdcs2/Hard_Disk/Datasets/Deep-Spectral-Segmentation/data/object-segmentation/ECSSD/features/dino_vits16/0214.pth\n",
      "dict_keys(['k', 'indices', 'file', 'id', 'model_name', 'patch_size', 'shape'])\n",
      "0214\n",
      "Starting Training\n",
      "epoch: 00, loss: -0.04050\n",
      "epoch: 01, loss: -0.06883\n",
      "epoch: 02, loss: -0.07422\n",
      "epoch: 03, loss: -0.07556\n",
      "epoch: 04, loss: -0.07548\n",
      "epoch: 05, loss: -0.07472\n",
      "epoch: 06, loss: -0.07830\n",
      "epoch: 07, loss: -0.07449\n",
      "epoch: 08, loss: -0.07825\n",
      "epoch: 09, loss: -0.07774\n",
      "torch.Size([350, 64])\n",
      "<class 'numpy.ndarray'>\n"
     ]
    },
    {
     "name": "stderr",
     "output_type": "stream",
     "text": [
      " 21%|██▏       | 214/1000 [33:57<3:35:19, 16.44s/it]"
     ]
    },
    {
     "name": "stdout",
     "output_type": "stream",
     "text": [
      "eigenvalues shape torch.Size([5]) eigenvectors shape torch.Size([5, 350])\n",
      "214 /home/phdcs2/Hard_Disk/Datasets/Deep-Spectral-Segmentation/data/object-segmentation/ECSSD/features/dino_vits16/0215.pth\n",
      "dict_keys(['k', 'indices', 'file', 'id', 'model_name', 'patch_size', 'shape'])\n",
      "0215\n",
      "Starting Training\n",
      "epoch: 00, loss: -0.03808\n",
      "epoch: 01, loss: -0.06549\n",
      "epoch: 02, loss: -0.06828\n",
      "epoch: 03, loss: -0.06809\n",
      "epoch: 04, loss: -0.07220\n",
      "epoch: 05, loss: -0.07253\n",
      "epoch: 06, loss: -0.07282\n",
      "epoch: 07, loss: -0.07352\n",
      "epoch: 08, loss: -0.07168\n",
      "epoch: 09, loss: -0.07140\n",
      "torch.Size([425, 64])\n",
      "<class 'numpy.ndarray'>\n"
     ]
    },
    {
     "name": "stderr",
     "output_type": "stream",
     "text": [
      " 22%|██▏       | 215/1000 [34:15<3:40:13, 16.83s/it]"
     ]
    },
    {
     "name": "stdout",
     "output_type": "stream",
     "text": [
      "eigenvalues shape torch.Size([5]) eigenvectors shape torch.Size([5, 425])\n",
      "215 /home/phdcs2/Hard_Disk/Datasets/Deep-Spectral-Segmentation/data/object-segmentation/ECSSD/features/dino_vits16/0216.pth\n",
      "dict_keys(['k', 'indices', 'file', 'id', 'model_name', 'patch_size', 'shape'])\n",
      "0216\n",
      "Starting Training\n",
      "epoch: 00, loss: -0.02089\n",
      "epoch: 01, loss: -0.03841\n",
      "epoch: 02, loss: -0.04266\n",
      "epoch: 03, loss: -0.04572\n",
      "epoch: 04, loss: -0.04648\n",
      "epoch: 05, loss: -0.04602\n",
      "epoch: 06, loss: -0.04673\n",
      "epoch: 07, loss: -0.04749\n",
      "epoch: 08, loss: -0.04768\n",
      "epoch: 09, loss: -0.04877\n",
      "torch.Size([450, 64])\n",
      "<class 'numpy.ndarray'>\n"
     ]
    },
    {
     "name": "stderr",
     "output_type": "stream",
     "text": [
      " 22%|██▏       | 216/1000 [34:28<3:24:39, 15.66s/it]"
     ]
    },
    {
     "name": "stdout",
     "output_type": "stream",
     "text": [
      "eigenvalues shape torch.Size([5]) eigenvectors shape torch.Size([5, 450])\n",
      "216 /home/phdcs2/Hard_Disk/Datasets/Deep-Spectral-Segmentation/data/object-segmentation/ECSSD/features/dino_vits16/0217.pth\n",
      "dict_keys(['k', 'indices', 'file', 'id', 'model_name', 'patch_size', 'shape'])\n",
      "0217\n",
      "Starting Training\n",
      "epoch: 00, loss: -0.02147\n",
      "epoch: 01, loss: -0.06061\n",
      "epoch: 02, loss: -0.06526\n",
      "epoch: 03, loss: -0.06633\n",
      "epoch: 04, loss: -0.06651\n",
      "epoch: 05, loss: -0.06850\n",
      "epoch: 06, loss: -0.07100\n",
      "epoch: 07, loss: -0.06937\n",
      "epoch: 08, loss: -0.07136\n",
      "epoch: 09, loss: -0.07209\n",
      "torch.Size([450, 64])\n",
      "<class 'numpy.ndarray'>\n"
     ]
    },
    {
     "name": "stderr",
     "output_type": "stream",
     "text": [
      " 22%|██▏       | 217/1000 [34:43<3:21:22, 15.43s/it]"
     ]
    },
    {
     "name": "stdout",
     "output_type": "stream",
     "text": [
      "eigenvalues shape torch.Size([5]) eigenvectors shape torch.Size([5, 450])\n",
      "217 /home/phdcs2/Hard_Disk/Datasets/Deep-Spectral-Segmentation/data/object-segmentation/ECSSD/features/dino_vits16/0218.pth\n",
      "dict_keys(['k', 'indices', 'file', 'id', 'model_name', 'patch_size', 'shape'])\n",
      "0218\n",
      "Starting Training\n",
      "epoch: 00, loss: -0.05708\n",
      "epoch: 01, loss: -0.07219\n",
      "epoch: 02, loss: -0.07263\n",
      "epoch: 03, loss: -0.07300\n",
      "epoch: 04, loss: -0.07333\n",
      "epoch: 05, loss: -0.07343\n",
      "epoch: 06, loss: -0.07341\n",
      "epoch: 07, loss: -0.07367\n",
      "epoch: 08, loss: -0.07370\n",
      "epoch: 09, loss: -0.07388\n",
      "torch.Size([500, 64])\n",
      "<class 'numpy.ndarray'>\n"
     ]
    },
    {
     "name": "stderr",
     "output_type": "stream",
     "text": [
      " 22%|██▏       | 218/1000 [35:01<3:31:14, 16.21s/it]"
     ]
    },
    {
     "name": "stdout",
     "output_type": "stream",
     "text": [
      "eigenvalues shape torch.Size([5]) eigenvectors shape torch.Size([5, 500])\n",
      "218 /home/phdcs2/Hard_Disk/Datasets/Deep-Spectral-Segmentation/data/object-segmentation/ECSSD/features/dino_vits16/0219.pth\n",
      "dict_keys(['k', 'indices', 'file', 'id', 'model_name', 'patch_size', 'shape'])\n",
      "0219\n",
      "Starting Training\n",
      "epoch: 00, loss: -0.03847\n",
      "epoch: 01, loss: -0.06625\n",
      "epoch: 02, loss: -0.07164\n",
      "epoch: 03, loss: -0.07238\n",
      "epoch: 04, loss: -0.07599\n",
      "epoch: 05, loss: -0.07636\n",
      "epoch: 06, loss: -0.07546\n",
      "epoch: 07, loss: -0.07436\n",
      "epoch: 08, loss: -0.07583\n",
      "epoch: 09, loss: -0.07686\n",
      "torch.Size([450, 64])\n",
      "<class 'numpy.ndarray'>\n"
     ]
    },
    {
     "name": "stderr",
     "output_type": "stream",
     "text": [
      " 22%|██▏       | 219/1000 [35:18<3:32:33, 16.33s/it]"
     ]
    },
    {
     "name": "stdout",
     "output_type": "stream",
     "text": [
      "eigenvalues shape torch.Size([5]) eigenvectors shape torch.Size([5, 450])\n",
      "219 /home/phdcs2/Hard_Disk/Datasets/Deep-Spectral-Segmentation/data/object-segmentation/ECSSD/features/dino_vits16/0220.pth\n",
      "dict_keys(['k', 'indices', 'file', 'id', 'model_name', 'patch_size', 'shape'])\n",
      "0220\n",
      "Starting Training\n",
      "epoch: 00, loss: -0.11895\n",
      "epoch: 01, loss: -0.13875\n",
      "epoch: 02, loss: -0.14040\n",
      "epoch: 03, loss: -0.14158\n",
      "epoch: 04, loss: -0.14037\n",
      "epoch: 05, loss: -0.13994\n",
      "epoch: 06, loss: -0.14136\n",
      "epoch: 07, loss: -0.14407\n",
      "epoch: 08, loss: -0.14408\n",
      "epoch: 09, loss: -0.14170\n",
      "torch.Size([500, 64])\n",
      "<class 'numpy.ndarray'>\n"
     ]
    },
    {
     "name": "stderr",
     "output_type": "stream",
     "text": [
      " 22%|██▏       | 220/1000 [35:34<3:31:43, 16.29s/it]"
     ]
    },
    {
     "name": "stdout",
     "output_type": "stream",
     "text": [
      "eigenvalues shape torch.Size([5]) eigenvectors shape torch.Size([5, 500])\n",
      "220 /home/phdcs2/Hard_Disk/Datasets/Deep-Spectral-Segmentation/data/object-segmentation/ECSSD/features/dino_vits16/0221.pth\n",
      "dict_keys(['k', 'indices', 'file', 'id', 'model_name', 'patch_size', 'shape'])\n",
      "0221\n",
      "Starting Training\n",
      "epoch: 00, loss: -0.02183\n",
      "epoch: 01, loss: -0.05430\n",
      "epoch: 02, loss: -0.05995\n",
      "epoch: 03, loss: -0.06176\n",
      "epoch: 04, loss: -0.06224\n",
      "epoch: 05, loss: -0.06364\n",
      "epoch: 06, loss: -0.06417\n",
      "epoch: 07, loss: -0.06302\n",
      "epoch: 08, loss: -0.06439\n",
      "epoch: 09, loss: -0.06651\n",
      "torch.Size([400, 64])\n",
      "<class 'numpy.ndarray'>\n"
     ]
    },
    {
     "name": "stderr",
     "output_type": "stream",
     "text": [
      " 22%|██▏       | 221/1000 [35:46<3:15:36, 15.07s/it]"
     ]
    },
    {
     "name": "stdout",
     "output_type": "stream",
     "text": [
      "eigenvalues shape torch.Size([5]) eigenvectors shape torch.Size([5, 400])\n",
      "221 /home/phdcs2/Hard_Disk/Datasets/Deep-Spectral-Segmentation/data/object-segmentation/ECSSD/features/dino_vits16/0222.pth\n",
      "dict_keys(['k', 'indices', 'file', 'id', 'model_name', 'patch_size', 'shape'])\n",
      "0222\n",
      "Starting Training\n",
      "epoch: 00, loss: -0.01793\n",
      "epoch: 01, loss: -0.04013\n",
      "epoch: 02, loss: -0.04187\n",
      "epoch: 03, loss: -0.04241\n",
      "epoch: 04, loss: -0.04270\n",
      "epoch: 05, loss: -0.04292\n",
      "epoch: 06, loss: -0.04307\n",
      "epoch: 07, loss: -0.04323\n",
      "epoch: 08, loss: -0.04330\n",
      "epoch: 09, loss: -0.04349\n",
      "torch.Size([500, 64])\n",
      "<class 'numpy.ndarray'>\n"
     ]
    },
    {
     "name": "stderr",
     "output_type": "stream",
     "text": [
      " 22%|██▏       | 222/1000 [36:04<3:24:56, 15.81s/it]"
     ]
    },
    {
     "name": "stdout",
     "output_type": "stream",
     "text": [
      "eigenvalues shape torch.Size([5]) eigenvectors shape torch.Size([5, 500])\n",
      "222 /home/phdcs2/Hard_Disk/Datasets/Deep-Spectral-Segmentation/data/object-segmentation/ECSSD/features/dino_vits16/0223.pth\n",
      "dict_keys(['k', 'indices', 'file', 'id', 'model_name', 'patch_size', 'shape'])\n",
      "0223\n",
      "Starting Training\n",
      "epoch: 00, loss: -0.08075\n",
      "epoch: 01, loss: -0.10243\n",
      "epoch: 02, loss: -0.10599\n",
      "epoch: 03, loss: -0.10618\n",
      "epoch: 04, loss: -0.10977\n",
      "epoch: 05, loss: -0.10881\n",
      "epoch: 06, loss: -0.10968\n",
      "epoch: 07, loss: -0.10863\n",
      "epoch: 08, loss: -0.10900\n",
      "epoch: 09, loss: -0.10975\n",
      "torch.Size([500, 64])\n",
      "<class 'numpy.ndarray'>\n"
     ]
    },
    {
     "name": "stderr",
     "output_type": "stream",
     "text": [
      " 22%|██▏       | 223/1000 [36:25<3:47:28, 17.57s/it]"
     ]
    },
    {
     "name": "stdout",
     "output_type": "stream",
     "text": [
      "eigenvalues shape torch.Size([5]) eigenvectors shape torch.Size([5, 500])\n",
      "223 /home/phdcs2/Hard_Disk/Datasets/Deep-Spectral-Segmentation/data/object-segmentation/ECSSD/features/dino_vits16/0224.pth\n",
      "dict_keys(['k', 'indices', 'file', 'id', 'model_name', 'patch_size', 'shape'])\n",
      "0224\n",
      "Starting Training\n",
      "epoch: 00, loss: -0.00773\n",
      "epoch: 01, loss: -0.02667\n",
      "epoch: 02, loss: -0.03055\n",
      "epoch: 03, loss: -0.03172\n",
      "epoch: 04, loss: -0.03205\n",
      "epoch: 05, loss: -0.03250\n",
      "epoch: 06, loss: -0.03246\n",
      "epoch: 07, loss: -0.03267\n",
      "epoch: 08, loss: -0.03274\n",
      "epoch: 09, loss: -0.03300\n",
      "torch.Size([500, 64])\n",
      "<class 'numpy.ndarray'>\n"
     ]
    },
    {
     "name": "stderr",
     "output_type": "stream",
     "text": [
      " 22%|██▏       | 224/1000 [36:47<4:03:34, 18.83s/it]"
     ]
    },
    {
     "name": "stdout",
     "output_type": "stream",
     "text": [
      "eigenvalues shape torch.Size([5]) eigenvectors shape torch.Size([5, 500])\n",
      "224 /home/phdcs2/Hard_Disk/Datasets/Deep-Spectral-Segmentation/data/object-segmentation/ECSSD/features/dino_vits16/0225.pth\n",
      "dict_keys(['k', 'indices', 'file', 'id', 'model_name', 'patch_size', 'shape'])\n",
      "0225\n",
      "Starting Training\n",
      "epoch: 00, loss: -0.07883\n",
      "epoch: 01, loss: -0.11192\n",
      "epoch: 02, loss: -0.11391\n",
      "epoch: 03, loss: -0.11766\n",
      "epoch: 04, loss: -0.11901\n",
      "epoch: 05, loss: -0.11804\n",
      "epoch: 06, loss: -0.11983\n",
      "epoch: 07, loss: -0.12040\n",
      "epoch: 08, loss: -0.12200\n",
      "epoch: 09, loss: -0.12436\n",
      "torch.Size([450, 64])\n",
      "<class 'numpy.ndarray'>\n"
     ]
    },
    {
     "name": "stderr",
     "output_type": "stream",
     "text": [
      " 22%|██▎       | 225/1000 [37:03<3:53:51, 18.10s/it]"
     ]
    },
    {
     "name": "stdout",
     "output_type": "stream",
     "text": [
      "eigenvalues shape torch.Size([5]) eigenvectors shape torch.Size([5, 450])\n",
      "225 /home/phdcs2/Hard_Disk/Datasets/Deep-Spectral-Segmentation/data/object-segmentation/ECSSD/features/dino_vits16/0226.pth\n",
      "dict_keys(['k', 'indices', 'file', 'id', 'model_name', 'patch_size', 'shape'])\n",
      "0226\n",
      "Starting Training\n",
      "epoch: 00, loss: -0.02946\n",
      "epoch: 01, loss: -0.04695\n",
      "epoch: 02, loss: -0.04856\n",
      "epoch: 03, loss: -0.04918\n",
      "epoch: 04, loss: -0.04949\n",
      "epoch: 05, loss: -0.04975\n",
      "epoch: 06, loss: -0.04993\n",
      "epoch: 07, loss: -0.05015\n",
      "epoch: 08, loss: -0.05027\n",
      "epoch: 09, loss: -0.05065\n",
      "torch.Size([400, 64])\n",
      "<class 'numpy.ndarray'>\n"
     ]
    },
    {
     "name": "stderr",
     "output_type": "stream",
     "text": [
      " 23%|██▎       | 226/1000 [37:21<3:50:42, 17.88s/it]"
     ]
    },
    {
     "name": "stdout",
     "output_type": "stream",
     "text": [
      "eigenvalues shape torch.Size([5]) eigenvectors shape torch.Size([5, 400])\n",
      "226 /home/phdcs2/Hard_Disk/Datasets/Deep-Spectral-Segmentation/data/object-segmentation/ECSSD/features/dino_vits16/0227.pth\n",
      "dict_keys(['k', 'indices', 'file', 'id', 'model_name', 'patch_size', 'shape'])\n",
      "0227\n",
      "Starting Training\n",
      "epoch: 00, loss: -0.06368\n",
      "epoch: 01, loss: -0.08630\n",
      "epoch: 02, loss: -0.08562\n",
      "epoch: 03, loss: -0.08655\n",
      "epoch: 04, loss: -0.08653\n",
      "epoch: 05, loss: -0.08686\n",
      "epoch: 06, loss: -0.08728\n",
      "epoch: 07, loss: -0.08757\n",
      "epoch: 08, loss: -0.08911\n",
      "epoch: 09, loss: -0.08788\n",
      "torch.Size([375, 64])\n",
      "<class 'numpy.ndarray'>\n"
     ]
    },
    {
     "name": "stderr",
     "output_type": "stream",
     "text": [
      " 23%|██▎       | 227/1000 [37:34<3:34:06, 16.62s/it]"
     ]
    },
    {
     "name": "stdout",
     "output_type": "stream",
     "text": [
      "eigenvalues shape torch.Size([5]) eigenvectors shape torch.Size([5, 375])\n",
      "227 /home/phdcs2/Hard_Disk/Datasets/Deep-Spectral-Segmentation/data/object-segmentation/ECSSD/features/dino_vits16/0228.pth\n",
      "dict_keys(['k', 'indices', 'file', 'id', 'model_name', 'patch_size', 'shape'])\n",
      "0228\n",
      "Starting Training\n",
      "epoch: 00, loss: -0.05964\n",
      "epoch: 01, loss: -0.10051\n",
      "epoch: 02, loss: -0.10167\n",
      "epoch: 03, loss: -0.10656\n",
      "epoch: 04, loss: -0.10652\n",
      "epoch: 05, loss: -0.10694\n",
      "epoch: 06, loss: -0.10606\n",
      "epoch: 07, loss: -0.10669\n",
      "epoch: 08, loss: -0.10931\n",
      "epoch: 09, loss: -0.10596\n",
      "torch.Size([375, 64])\n",
      "<class 'numpy.ndarray'>\n"
     ]
    },
    {
     "name": "stderr",
     "output_type": "stream",
     "text": [
      " 23%|██▎       | 228/1000 [37:48<3:22:10, 15.71s/it]"
     ]
    },
    {
     "name": "stdout",
     "output_type": "stream",
     "text": [
      "eigenvalues shape torch.Size([5]) eigenvectors shape torch.Size([5, 375])\n",
      "228 /home/phdcs2/Hard_Disk/Datasets/Deep-Spectral-Segmentation/data/object-segmentation/ECSSD/features/dino_vits16/0229.pth\n",
      "dict_keys(['k', 'indices', 'file', 'id', 'model_name', 'patch_size', 'shape'])\n",
      "0229\n",
      "Starting Training\n",
      "epoch: 00, loss: -0.01345\n",
      "epoch: 01, loss: -0.02921\n",
      "epoch: 02, loss: -0.03252\n",
      "epoch: 03, loss: -0.03371\n",
      "epoch: 04, loss: -0.03383\n",
      "epoch: 05, loss: -0.03417\n",
      "epoch: 06, loss: -0.03439\n",
      "epoch: 07, loss: -0.03453\n",
      "epoch: 08, loss: -0.03464\n",
      "epoch: 09, loss: -0.03464\n",
      "torch.Size([400, 64])\n",
      "<class 'numpy.ndarray'>\n"
     ]
    },
    {
     "name": "stderr",
     "output_type": "stream",
     "text": [
      " 23%|██▎       | 229/1000 [38:04<3:22:19, 15.74s/it]"
     ]
    },
    {
     "name": "stdout",
     "output_type": "stream",
     "text": [
      "eigenvalues shape torch.Size([5]) eigenvectors shape torch.Size([5, 400])\n",
      "229 /home/phdcs2/Hard_Disk/Datasets/Deep-Spectral-Segmentation/data/object-segmentation/ECSSD/features/dino_vits16/0230.pth\n",
      "dict_keys(['k', 'indices', 'file', 'id', 'model_name', 'patch_size', 'shape'])\n",
      "0230\n",
      "Starting Training\n",
      "epoch: 00, loss: -0.05092\n",
      "epoch: 01, loss: -0.07834\n",
      "epoch: 02, loss: -0.08259\n",
      "epoch: 03, loss: -0.08423\n",
      "epoch: 04, loss: -0.08289\n",
      "epoch: 05, loss: -0.08322\n",
      "epoch: 06, loss: -0.08514\n",
      "epoch: 07, loss: -0.08711\n",
      "epoch: 08, loss: -0.08572\n",
      "epoch: 09, loss: -0.08497\n",
      "torch.Size([450, 64])\n",
      "<class 'numpy.ndarray'>\n"
     ]
    },
    {
     "name": "stderr",
     "output_type": "stream",
     "text": [
      " 23%|██▎       | 230/1000 [38:24<3:39:10, 17.08s/it]"
     ]
    },
    {
     "name": "stdout",
     "output_type": "stream",
     "text": [
      "eigenvalues shape torch.Size([5]) eigenvectors shape torch.Size([5, 450])\n",
      "230 /home/phdcs2/Hard_Disk/Datasets/Deep-Spectral-Segmentation/data/object-segmentation/ECSSD/features/dino_vits16/0231.pth\n",
      "dict_keys(['k', 'indices', 'file', 'id', 'model_name', 'patch_size', 'shape'])\n",
      "0231\n",
      "Starting Training\n",
      "epoch: 00, loss: -0.03845\n",
      "epoch: 01, loss: -0.06448\n",
      "epoch: 02, loss: -0.06517\n",
      "epoch: 03, loss: -0.06492\n",
      "epoch: 04, loss: -0.06492\n",
      "epoch: 05, loss: -0.06554\n",
      "epoch: 06, loss: -0.06562\n",
      "epoch: 07, loss: -0.06574\n",
      "epoch: 08, loss: -0.06692\n",
      "epoch: 09, loss: -0.06589\n",
      "torch.Size([525, 64])\n",
      "<class 'numpy.ndarray'>\n"
     ]
    },
    {
     "name": "stderr",
     "output_type": "stream",
     "text": [
      " 23%|██▎       | 231/1000 [38:50<4:14:41, 19.87s/it]"
     ]
    },
    {
     "name": "stdout",
     "output_type": "stream",
     "text": [
      "eigenvalues shape torch.Size([5]) eigenvectors shape torch.Size([5, 525])\n",
      "231 /home/phdcs2/Hard_Disk/Datasets/Deep-Spectral-Segmentation/data/object-segmentation/ECSSD/features/dino_vits16/0232.pth\n",
      "dict_keys(['k', 'indices', 'file', 'id', 'model_name', 'patch_size', 'shape'])\n",
      "0232\n",
      "Starting Training\n",
      "epoch: 00, loss: -0.04352\n",
      "epoch: 01, loss: -0.05979\n",
      "epoch: 02, loss: -0.06049\n",
      "epoch: 03, loss: -0.06096\n",
      "epoch: 04, loss: -0.06112\n",
      "epoch: 05, loss: -0.06129\n",
      "epoch: 06, loss: -0.06149\n",
      "epoch: 07, loss: -0.06153\n",
      "epoch: 08, loss: -0.06160\n",
      "epoch: 09, loss: -0.06180\n",
      "torch.Size([500, 64])\n",
      "<class 'numpy.ndarray'>\n"
     ]
    },
    {
     "name": "stderr",
     "output_type": "stream",
     "text": [
      " 23%|██▎       | 232/1000 [39:20<4:49:46, 22.64s/it]"
     ]
    },
    {
     "name": "stdout",
     "output_type": "stream",
     "text": [
      "eigenvalues shape torch.Size([5]) eigenvectors shape torch.Size([5, 500])\n",
      "232 /home/phdcs2/Hard_Disk/Datasets/Deep-Spectral-Segmentation/data/object-segmentation/ECSSD/features/dino_vits16/0233.pth\n",
      "dict_keys(['k', 'indices', 'file', 'id', 'model_name', 'patch_size', 'shape'])\n",
      "0233\n",
      "Starting Training\n",
      "epoch: 00, loss: -0.03902\n",
      "epoch: 01, loss: -0.05981\n",
      "epoch: 02, loss: -0.06001\n",
      "epoch: 03, loss: -0.06037\n",
      "epoch: 04, loss: -0.06052\n",
      "epoch: 05, loss: -0.05975\n",
      "epoch: 06, loss: -0.06136\n",
      "epoch: 07, loss: -0.06137\n",
      "epoch: 08, loss: -0.06016\n",
      "epoch: 09, loss: -0.06173\n",
      "torch.Size([475, 64])\n",
      "<class 'numpy.ndarray'>\n"
     ]
    },
    {
     "name": "stderr",
     "output_type": "stream",
     "text": [
      " 23%|██▎       | 233/1000 [39:40<4:40:54, 21.97s/it]"
     ]
    },
    {
     "name": "stdout",
     "output_type": "stream",
     "text": [
      "eigenvalues shape torch.Size([5]) eigenvectors shape torch.Size([5, 475])\n",
      "233 /home/phdcs2/Hard_Disk/Datasets/Deep-Spectral-Segmentation/data/object-segmentation/ECSSD/features/dino_vits16/0234.pth\n",
      "dict_keys(['k', 'indices', 'file', 'id', 'model_name', 'patch_size', 'shape'])\n",
      "0234\n",
      "Starting Training\n",
      "epoch: 00, loss: -0.02010\n",
      "epoch: 01, loss: -0.04086\n",
      "epoch: 02, loss: -0.04314\n",
      "epoch: 03, loss: -0.04482\n",
      "epoch: 04, loss: -0.04736\n",
      "epoch: 05, loss: -0.04905\n",
      "epoch: 06, loss: -0.05106\n",
      "epoch: 07, loss: -0.04916\n",
      "epoch: 08, loss: -0.04939\n",
      "epoch: 09, loss: -0.05040\n",
      "torch.Size([400, 64])\n",
      "<class 'numpy.ndarray'>\n"
     ]
    },
    {
     "name": "stderr",
     "output_type": "stream",
     "text": [
      " 23%|██▎       | 234/1000 [39:58<4:23:51, 20.67s/it]"
     ]
    },
    {
     "name": "stdout",
     "output_type": "stream",
     "text": [
      "eigenvalues shape torch.Size([5]) eigenvectors shape torch.Size([5, 400])\n",
      "234 /home/phdcs2/Hard_Disk/Datasets/Deep-Spectral-Segmentation/data/object-segmentation/ECSSD/features/dino_vits16/0235.pth\n",
      "dict_keys(['k', 'indices', 'file', 'id', 'model_name', 'patch_size', 'shape'])\n",
      "0235\n",
      "Starting Training\n",
      "epoch: 00, loss: -0.03867\n",
      "epoch: 01, loss: -0.05941\n",
      "epoch: 02, loss: -0.06088\n",
      "epoch: 03, loss: -0.06169\n",
      "epoch: 04, loss: -0.06150\n",
      "epoch: 05, loss: -0.06201\n",
      "epoch: 06, loss: -0.06196\n",
      "epoch: 07, loss: -0.06217\n",
      "epoch: 08, loss: -0.06230\n",
      "epoch: 09, loss: -0.06246\n",
      "torch.Size([400, 64])\n",
      "<class 'numpy.ndarray'>\n"
     ]
    },
    {
     "name": "stderr",
     "output_type": "stream",
     "text": [
      " 24%|██▎       | 235/1000 [40:14<4:08:33, 19.50s/it]"
     ]
    },
    {
     "name": "stdout",
     "output_type": "stream",
     "text": [
      "eigenvalues shape torch.Size([5]) eigenvectors shape torch.Size([5, 400])\n",
      "235 /home/phdcs2/Hard_Disk/Datasets/Deep-Spectral-Segmentation/data/object-segmentation/ECSSD/features/dino_vits16/0236.pth\n",
      "dict_keys(['k', 'indices', 'file', 'id', 'model_name', 'patch_size', 'shape'])\n",
      "0236\n",
      "Starting Training\n",
      "epoch: 00, loss: -0.04934\n",
      "epoch: 01, loss: -0.07862\n",
      "epoch: 02, loss: -0.07946\n",
      "epoch: 03, loss: -0.07939\n",
      "epoch: 04, loss: -0.07963\n",
      "epoch: 05, loss: -0.07972\n",
      "epoch: 06, loss: -0.07992\n",
      "epoch: 07, loss: -0.07991\n",
      "epoch: 08, loss: -0.08021\n",
      "epoch: 09, loss: -0.08024\n",
      "torch.Size([400, 64])\n",
      "<class 'numpy.ndarray'>\n"
     ]
    },
    {
     "name": "stderr",
     "output_type": "stream",
     "text": [
      " 24%|██▎       | 236/1000 [40:30<3:53:50, 18.36s/it]"
     ]
    },
    {
     "name": "stdout",
     "output_type": "stream",
     "text": [
      "eigenvalues shape torch.Size([5]) eigenvectors shape torch.Size([5, 400])\n",
      "236 /home/phdcs2/Hard_Disk/Datasets/Deep-Spectral-Segmentation/data/object-segmentation/ECSSD/features/dino_vits16/0237.pth\n",
      "dict_keys(['k', 'indices', 'file', 'id', 'model_name', 'patch_size', 'shape'])\n",
      "0237\n",
      "Starting Training\n",
      "epoch: 00, loss: -0.05199\n",
      "epoch: 01, loss: -0.07120\n",
      "epoch: 02, loss: -0.07199\n",
      "epoch: 03, loss: -0.07268\n",
      "epoch: 04, loss: -0.07253\n",
      "epoch: 05, loss: -0.07294\n",
      "epoch: 06, loss: -0.07294\n",
      "epoch: 07, loss: -0.07343\n",
      "epoch: 08, loss: -0.07356\n",
      "epoch: 09, loss: -0.07366\n",
      "torch.Size([400, 64])\n",
      "<class 'numpy.ndarray'>\n"
     ]
    },
    {
     "name": "stderr",
     "output_type": "stream",
     "text": [
      " 24%|██▎       | 237/1000 [40:48<3:50:42, 18.14s/it]"
     ]
    },
    {
     "name": "stdout",
     "output_type": "stream",
     "text": [
      "eigenvalues shape torch.Size([5]) eigenvectors shape torch.Size([5, 400])\n",
      "237 /home/phdcs2/Hard_Disk/Datasets/Deep-Spectral-Segmentation/data/object-segmentation/ECSSD/features/dino_vits16/0238.pth\n",
      "dict_keys(['k', 'indices', 'file', 'id', 'model_name', 'patch_size', 'shape'])\n",
      "0238\n",
      "Starting Training\n",
      "epoch: 00, loss: -0.01156\n",
      "epoch: 01, loss: -0.02867\n",
      "epoch: 02, loss: -0.03224\n",
      "epoch: 03, loss: -0.03353\n",
      "epoch: 04, loss: -0.03396\n",
      "epoch: 05, loss: -0.03475\n",
      "epoch: 06, loss: -0.03479\n",
      "epoch: 07, loss: -0.03512\n",
      "epoch: 08, loss: -0.03506\n",
      "epoch: 09, loss: -0.03505\n",
      "torch.Size([400, 64])\n",
      "<class 'numpy.ndarray'>\n"
     ]
    },
    {
     "name": "stderr",
     "output_type": "stream",
     "text": [
      " 24%|██▍       | 238/1000 [41:05<3:47:28, 17.91s/it]"
     ]
    },
    {
     "name": "stdout",
     "output_type": "stream",
     "text": [
      "eigenvalues shape torch.Size([5]) eigenvectors shape torch.Size([5, 400])\n",
      "238 /home/phdcs2/Hard_Disk/Datasets/Deep-Spectral-Segmentation/data/object-segmentation/ECSSD/features/dino_vits16/0239.pth\n",
      "dict_keys(['k', 'indices', 'file', 'id', 'model_name', 'patch_size', 'shape'])\n",
      "0239\n",
      "Starting Training\n",
      "epoch: 00, loss: -0.05889\n",
      "epoch: 01, loss: -0.08894\n",
      "epoch: 02, loss: -0.09104\n",
      "epoch: 03, loss: -0.09290\n",
      "epoch: 04, loss: -0.09451\n",
      "epoch: 05, loss: -0.09579\n",
      "epoch: 06, loss: -0.09537\n",
      "epoch: 07, loss: -0.09616\n",
      "epoch: 08, loss: -0.09866\n",
      "epoch: 09, loss: -0.09580\n",
      "torch.Size([400, 64])\n",
      "<class 'numpy.ndarray'>\n"
     ]
    },
    {
     "name": "stderr",
     "output_type": "stream",
     "text": [
      " 24%|██▍       | 239/1000 [41:28<4:04:59, 19.32s/it]"
     ]
    },
    {
     "name": "stdout",
     "output_type": "stream",
     "text": [
      "eigenvalues shape torch.Size([5]) eigenvectors shape torch.Size([5, 400])\n",
      "239 /home/phdcs2/Hard_Disk/Datasets/Deep-Spectral-Segmentation/data/object-segmentation/ECSSD/features/dino_vits16/0240.pth\n",
      "dict_keys(['k', 'indices', 'file', 'id', 'model_name', 'patch_size', 'shape'])\n",
      "0240\n",
      "Starting Training\n",
      "epoch: 00, loss: -0.04632\n",
      "epoch: 01, loss: -0.08066\n",
      "epoch: 02, loss: -0.08952\n",
      "epoch: 03, loss: -0.09299\n",
      "epoch: 04, loss: -0.09383\n",
      "epoch: 05, loss: -0.09155\n",
      "epoch: 06, loss: -0.09520\n",
      "epoch: 07, loss: -0.09509\n",
      "epoch: 08, loss: -0.09776\n",
      "epoch: 09, loss: -0.09595\n",
      "torch.Size([350, 64])\n",
      "<class 'numpy.ndarray'>\n"
     ]
    },
    {
     "name": "stderr",
     "output_type": "stream",
     "text": [
      " 24%|██▍       | 240/1000 [41:46<3:59:23, 18.90s/it]"
     ]
    },
    {
     "name": "stdout",
     "output_type": "stream",
     "text": [
      "eigenvalues shape torch.Size([5]) eigenvectors shape torch.Size([5, 350])\n",
      "240 /home/phdcs2/Hard_Disk/Datasets/Deep-Spectral-Segmentation/data/object-segmentation/ECSSD/features/dino_vits16/0241.pth\n",
      "dict_keys(['k', 'indices', 'file', 'id', 'model_name', 'patch_size', 'shape'])\n",
      "0241\n",
      "Starting Training\n",
      "epoch: 00, loss: -0.05017\n",
      "epoch: 01, loss: -0.08305\n",
      "epoch: 02, loss: -0.08991\n",
      "epoch: 03, loss: -0.08717\n",
      "epoch: 04, loss: -0.09033\n",
      "epoch: 05, loss: -0.09183\n",
      "epoch: 06, loss: -0.09005\n",
      "epoch: 07, loss: -0.09166\n",
      "epoch: 08, loss: -0.09329\n",
      "epoch: 09, loss: -0.09154\n",
      "torch.Size([400, 64])\n",
      "<class 'numpy.ndarray'>\n"
     ]
    },
    {
     "name": "stderr",
     "output_type": "stream",
     "text": [
      " 24%|██▍       | 241/1000 [42:07<4:08:23, 19.64s/it]"
     ]
    },
    {
     "name": "stdout",
     "output_type": "stream",
     "text": [
      "eigenvalues shape torch.Size([5]) eigenvectors shape torch.Size([5, 400])\n",
      "241 /home/phdcs2/Hard_Disk/Datasets/Deep-Spectral-Segmentation/data/object-segmentation/ECSSD/features/dino_vits16/0242.pth\n",
      "dict_keys(['k', 'indices', 'file', 'id', 'model_name', 'patch_size', 'shape'])\n",
      "0242\n",
      "Starting Training\n",
      "epoch: 00, loss: -0.01687\n",
      "epoch: 01, loss: -0.04477\n",
      "epoch: 02, loss: -0.05096\n",
      "epoch: 03, loss: -0.05238\n",
      "epoch: 04, loss: -0.05290\n",
      "epoch: 05, loss: -0.05347\n",
      "epoch: 06, loss: -0.05328\n",
      "epoch: 07, loss: -0.05222\n",
      "epoch: 08, loss: -0.05239\n",
      "epoch: 09, loss: -0.05213\n",
      "torch.Size([325, 64])\n",
      "<class 'numpy.ndarray'>\n"
     ]
    },
    {
     "name": "stderr",
     "output_type": "stream",
     "text": [
      " 24%|██▍       | 242/1000 [42:23<3:56:05, 18.69s/it]"
     ]
    },
    {
     "name": "stdout",
     "output_type": "stream",
     "text": [
      "eigenvalues shape torch.Size([5]) eigenvectors shape torch.Size([5, 325])\n",
      "242 /home/phdcs2/Hard_Disk/Datasets/Deep-Spectral-Segmentation/data/object-segmentation/ECSSD/features/dino_vits16/0243.pth\n",
      "dict_keys(['k', 'indices', 'file', 'id', 'model_name', 'patch_size', 'shape'])\n",
      "0243\n",
      "Starting Training\n",
      "epoch: 00, loss: -0.03702\n",
      "epoch: 01, loss: -0.06057\n",
      "epoch: 02, loss: -0.06147\n",
      "epoch: 03, loss: -0.06209\n",
      "epoch: 04, loss: -0.06242\n",
      "epoch: 05, loss: -0.06273\n",
      "epoch: 06, loss: -0.06306\n",
      "epoch: 07, loss: -0.06315\n",
      "epoch: 08, loss: -0.06345\n",
      "epoch: 09, loss: -0.06333\n",
      "torch.Size([400, 64])\n",
      "<class 'numpy.ndarray'>\n"
     ]
    },
    {
     "name": "stderr",
     "output_type": "stream",
     "text": [
      " 24%|██▍       | 243/1000 [42:49<4:21:02, 20.69s/it]"
     ]
    },
    {
     "name": "stdout",
     "output_type": "stream",
     "text": [
      "eigenvalues shape torch.Size([5]) eigenvectors shape torch.Size([5, 400])\n",
      "243 /home/phdcs2/Hard_Disk/Datasets/Deep-Spectral-Segmentation/data/object-segmentation/ECSSD/features/dino_vits16/0244.pth\n",
      "dict_keys(['k', 'indices', 'file', 'id', 'model_name', 'patch_size', 'shape'])\n",
      "0244\n",
      "Starting Training\n",
      "epoch: 00, loss: -0.00580\n",
      "epoch: 01, loss: -0.02940\n",
      "epoch: 02, loss: -0.03450\n",
      "epoch: 03, loss: -0.03581\n",
      "epoch: 04, loss: -0.03634\n",
      "epoch: 05, loss: -0.03654\n",
      "epoch: 06, loss: -0.03678\n",
      "epoch: 07, loss: -0.03721\n",
      "epoch: 08, loss: -0.03718\n",
      "epoch: 09, loss: -0.03732\n",
      "torch.Size([400, 64])\n",
      "<class 'numpy.ndarray'>\n"
     ]
    },
    {
     "name": "stderr",
     "output_type": "stream",
     "text": [
      " 24%|██▍       | 244/1000 [43:09<4:18:45, 20.54s/it]"
     ]
    },
    {
     "name": "stdout",
     "output_type": "stream",
     "text": [
      "eigenvalues shape torch.Size([5]) eigenvectors shape torch.Size([5, 400])\n",
      "244 /home/phdcs2/Hard_Disk/Datasets/Deep-Spectral-Segmentation/data/object-segmentation/ECSSD/features/dino_vits16/0245.pth\n",
      "dict_keys(['k', 'indices', 'file', 'id', 'model_name', 'patch_size', 'shape'])\n",
      "0245\n",
      "Starting Training\n",
      "epoch: 00, loss: -0.01276\n",
      "epoch: 01, loss: -0.03146\n",
      "epoch: 02, loss: -0.03562\n",
      "epoch: 03, loss: -0.03696\n",
      "epoch: 04, loss: -0.03741\n",
      "epoch: 05, loss: -0.03773\n",
      "epoch: 06, loss: -0.03800\n",
      "epoch: 07, loss: -0.03809\n",
      "epoch: 08, loss: -0.03829\n",
      "epoch: 09, loss: -0.03841\n",
      "torch.Size([400, 64])\n",
      "<class 'numpy.ndarray'>\n"
     ]
    },
    {
     "name": "stderr",
     "output_type": "stream",
     "text": [
      " 24%|██▍       | 245/1000 [43:28<4:11:06, 19.96s/it]"
     ]
    },
    {
     "name": "stdout",
     "output_type": "stream",
     "text": [
      "eigenvalues shape torch.Size([5]) eigenvectors shape torch.Size([5, 400])\n",
      "245 /home/phdcs2/Hard_Disk/Datasets/Deep-Spectral-Segmentation/data/object-segmentation/ECSSD/features/dino_vits16/0246.pth\n",
      "dict_keys(['k', 'indices', 'file', 'id', 'model_name', 'patch_size', 'shape'])\n",
      "0246\n",
      "Starting Training\n",
      "epoch: 00, loss: -0.03601\n",
      "epoch: 01, loss: -0.07747\n",
      "epoch: 02, loss: -0.07968\n",
      "epoch: 03, loss: -0.08374\n",
      "epoch: 04, loss: -0.08363\n",
      "epoch: 05, loss: -0.08505\n",
      "epoch: 06, loss: -0.08572\n",
      "epoch: 07, loss: -0.08762\n",
      "epoch: 08, loss: -0.08526\n",
      "epoch: 09, loss: -0.08782\n",
      "torch.Size([400, 64])\n",
      "<class 'numpy.ndarray'>\n"
     ]
    },
    {
     "name": "stderr",
     "output_type": "stream",
     "text": [
      " 25%|██▍       | 246/1000 [43:48<4:13:56, 20.21s/it]"
     ]
    },
    {
     "name": "stdout",
     "output_type": "stream",
     "text": [
      "eigenvalues shape torch.Size([5]) eigenvectors shape torch.Size([5, 400])\n",
      "246 /home/phdcs2/Hard_Disk/Datasets/Deep-Spectral-Segmentation/data/object-segmentation/ECSSD/features/dino_vits16/0247.pth\n",
      "dict_keys(['k', 'indices', 'file', 'id', 'model_name', 'patch_size', 'shape'])\n",
      "0247\n",
      "Starting Training\n",
      "epoch: 00, loss: -0.06354\n",
      "epoch: 01, loss: -0.08238\n",
      "epoch: 02, loss: -0.08220\n",
      "epoch: 03, loss: -0.08301\n",
      "epoch: 04, loss: -0.08320\n",
      "epoch: 05, loss: -0.08315\n",
      "epoch: 06, loss: -0.08329\n",
      "epoch: 07, loss: -0.08359\n",
      "epoch: 08, loss: -0.08356\n",
      "epoch: 09, loss: -0.08374\n",
      "torch.Size([400, 64])\n",
      "<class 'numpy.ndarray'>\n"
     ]
    },
    {
     "name": "stderr",
     "output_type": "stream",
     "text": [
      " 25%|██▍       | 247/1000 [44:11<4:23:47, 21.02s/it]"
     ]
    },
    {
     "name": "stdout",
     "output_type": "stream",
     "text": [
      "eigenvalues shape torch.Size([5]) eigenvectors shape torch.Size([5, 400])\n",
      "247 /home/phdcs2/Hard_Disk/Datasets/Deep-Spectral-Segmentation/data/object-segmentation/ECSSD/features/dino_vits16/0248.pth\n",
      "dict_keys(['k', 'indices', 'file', 'id', 'model_name', 'patch_size', 'shape'])\n",
      "0248\n",
      "Starting Training\n",
      "epoch: 00, loss: -0.01584\n",
      "epoch: 01, loss: -0.03942\n",
      "epoch: 02, loss: -0.04796\n",
      "epoch: 03, loss: -0.04890\n",
      "epoch: 04, loss: -0.04812\n",
      "epoch: 05, loss: -0.05149\n",
      "epoch: 06, loss: -0.05186\n",
      "epoch: 07, loss: -0.05317\n",
      "epoch: 08, loss: -0.05094\n",
      "epoch: 09, loss: -0.05234\n",
      "torch.Size([450, 64])\n",
      "<class 'numpy.ndarray'>\n"
     ]
    },
    {
     "name": "stderr",
     "output_type": "stream",
     "text": [
      " 25%|██▍       | 248/1000 [44:42<4:58:44, 23.84s/it]"
     ]
    },
    {
     "name": "stdout",
     "output_type": "stream",
     "text": [
      "eigenvalues shape torch.Size([5]) eigenvectors shape torch.Size([5, 450])\n",
      "248 /home/phdcs2/Hard_Disk/Datasets/Deep-Spectral-Segmentation/data/object-segmentation/ECSSD/features/dino_vits16/0249.pth\n",
      "dict_keys(['k', 'indices', 'file', 'id', 'model_name', 'patch_size', 'shape'])\n",
      "0249\n",
      "Starting Training\n",
      "epoch: 00, loss: -0.03988\n",
      "epoch: 01, loss: -0.06463\n",
      "epoch: 02, loss: -0.06899\n",
      "epoch: 03, loss: -0.07230\n",
      "epoch: 04, loss: -0.07122\n",
      "epoch: 05, loss: -0.07207\n",
      "epoch: 06, loss: -0.07111\n",
      "epoch: 07, loss: -0.07397\n",
      "epoch: 08, loss: -0.07324\n",
      "epoch: 09, loss: -0.07418\n",
      "torch.Size([425, 64])\n",
      "<class 'numpy.ndarray'>\n"
     ]
    },
    {
     "name": "stderr",
     "output_type": "stream",
     "text": [
      " 25%|██▍       | 249/1000 [45:07<5:02:41, 24.18s/it]"
     ]
    },
    {
     "name": "stdout",
     "output_type": "stream",
     "text": [
      "eigenvalues shape torch.Size([5]) eigenvectors shape torch.Size([5, 425])\n",
      "249 /home/phdcs2/Hard_Disk/Datasets/Deep-Spectral-Segmentation/data/object-segmentation/ECSSD/features/dino_vits16/0250.pth\n",
      "dict_keys(['k', 'indices', 'file', 'id', 'model_name', 'patch_size', 'shape'])\n",
      "0250\n",
      "Starting Training\n",
      "epoch: 00, loss: -0.09436\n",
      "epoch: 01, loss: -0.12103\n",
      "epoch: 02, loss: -0.12470\n",
      "epoch: 03, loss: -0.12529\n",
      "epoch: 04, loss: -0.12833\n",
      "epoch: 05, loss: -0.12910\n",
      "epoch: 06, loss: -0.12919\n",
      "epoch: 07, loss: -0.13072\n",
      "epoch: 08, loss: -0.13047\n",
      "epoch: 09, loss: -0.13116\n",
      "torch.Size([400, 64])\n",
      "<class 'numpy.ndarray'>\n"
     ]
    },
    {
     "name": "stderr",
     "output_type": "stream",
     "text": [
      " 25%|██▌       | 250/1000 [45:29<4:56:09, 23.69s/it]"
     ]
    },
    {
     "name": "stdout",
     "output_type": "stream",
     "text": [
      "eigenvalues shape torch.Size([5]) eigenvectors shape torch.Size([5, 400])\n",
      "250 /home/phdcs2/Hard_Disk/Datasets/Deep-Spectral-Segmentation/data/object-segmentation/ECSSD/features/dino_vits16/0251.pth\n",
      "dict_keys(['k', 'indices', 'file', 'id', 'model_name', 'patch_size', 'shape'])\n",
      "0251\n",
      "Starting Training\n",
      "epoch: 00, loss: -0.04504\n",
      "epoch: 01, loss: -0.06572\n",
      "epoch: 02, loss: -0.06695\n",
      "epoch: 03, loss: -0.06700\n",
      "epoch: 04, loss: -0.06724\n",
      "epoch: 05, loss: -0.06815\n",
      "epoch: 06, loss: -0.06774\n",
      "epoch: 07, loss: -0.06781\n",
      "epoch: 08, loss: -0.06795\n",
      "epoch: 09, loss: -0.06811\n",
      "torch.Size([450, 64])\n",
      "<class 'numpy.ndarray'>\n"
     ]
    },
    {
     "name": "stderr",
     "output_type": "stream",
     "text": [
      " 25%|██▌       | 251/1000 [45:54<4:57:55, 23.87s/it]"
     ]
    },
    {
     "name": "stdout",
     "output_type": "stream",
     "text": [
      "eigenvalues shape torch.Size([5]) eigenvectors shape torch.Size([5, 450])\n",
      "251 /home/phdcs2/Hard_Disk/Datasets/Deep-Spectral-Segmentation/data/object-segmentation/ECSSD/features/dino_vits16/0252.pth\n",
      "dict_keys(['k', 'indices', 'file', 'id', 'model_name', 'patch_size', 'shape'])\n",
      "0252\n",
      "Starting Training\n",
      "epoch: 00, loss: -0.02650\n",
      "epoch: 01, loss: -0.04458\n",
      "epoch: 02, loss: -0.04579\n",
      "epoch: 03, loss: -0.04634\n",
      "epoch: 04, loss: -0.04685\n",
      "epoch: 05, loss: -0.04694\n",
      "epoch: 06, loss: -0.04713\n",
      "epoch: 07, loss: -0.04721\n",
      "epoch: 08, loss: -0.04729\n",
      "epoch: 09, loss: -0.04752\n",
      "torch.Size([450, 64])\n",
      "<class 'numpy.ndarray'>\n"
     ]
    },
    {
     "name": "stderr",
     "output_type": "stream",
     "text": [
      " 25%|██▌       | 252/1000 [46:16<4:52:15, 23.44s/it]"
     ]
    },
    {
     "name": "stdout",
     "output_type": "stream",
     "text": [
      "eigenvalues shape torch.Size([5]) eigenvectors shape torch.Size([5, 450])\n",
      "252 /home/phdcs2/Hard_Disk/Datasets/Deep-Spectral-Segmentation/data/object-segmentation/ECSSD/features/dino_vits16/0253.pth\n",
      "dict_keys(['k', 'indices', 'file', 'id', 'model_name', 'patch_size', 'shape'])\n",
      "0253\n",
      "Starting Training\n",
      "epoch: 00, loss: -0.01500\n",
      "epoch: 01, loss: -0.02643\n",
      "epoch: 02, loss: -0.03038\n",
      "epoch: 03, loss: -0.03242\n",
      "epoch: 04, loss: -0.03260\n",
      "epoch: 05, loss: -0.03359\n",
      "epoch: 06, loss: -0.03390\n",
      "epoch: 07, loss: -0.03291\n",
      "epoch: 08, loss: -0.03415\n",
      "epoch: 09, loss: -0.03430\n",
      "torch.Size([450, 64])\n",
      "<class 'numpy.ndarray'>\n"
     ]
    },
    {
     "name": "stderr",
     "output_type": "stream",
     "text": [
      " 25%|██▌       | 253/1000 [46:40<4:55:30, 23.74s/it]"
     ]
    },
    {
     "name": "stdout",
     "output_type": "stream",
     "text": [
      "eigenvalues shape torch.Size([5]) eigenvectors shape torch.Size([5, 450])\n",
      "253 /home/phdcs2/Hard_Disk/Datasets/Deep-Spectral-Segmentation/data/object-segmentation/ECSSD/features/dino_vits16/0254.pth\n",
      "dict_keys(['k', 'indices', 'file', 'id', 'model_name', 'patch_size', 'shape'])\n",
      "0254\n",
      "Starting Training\n",
      "epoch: 00, loss: -0.02852\n",
      "epoch: 01, loss: -0.05225\n",
      "epoch: 02, loss: -0.05284\n",
      "epoch: 03, loss: -0.05393\n",
      "epoch: 04, loss: -0.05475\n",
      "epoch: 05, loss: -0.05514\n",
      "epoch: 06, loss: -0.05407\n",
      "epoch: 07, loss: -0.05398\n",
      "epoch: 08, loss: -0.05442\n",
      "epoch: 09, loss: -0.05432\n",
      "torch.Size([525, 64])\n",
      "<class 'numpy.ndarray'>\n"
     ]
    },
    {
     "name": "stderr",
     "output_type": "stream",
     "text": [
      " 25%|██▌       | 254/1000 [47:20<5:54:36, 28.52s/it]"
     ]
    },
    {
     "name": "stdout",
     "output_type": "stream",
     "text": [
      "eigenvalues shape torch.Size([5]) eigenvectors shape torch.Size([5, 525])\n",
      "254 /home/phdcs2/Hard_Disk/Datasets/Deep-Spectral-Segmentation/data/object-segmentation/ECSSD/features/dino_vits16/0255.pth\n",
      "dict_keys(['k', 'indices', 'file', 'id', 'model_name', 'patch_size', 'shape'])\n",
      "0255\n",
      "Starting Training\n",
      "epoch: 00, loss: -0.10127\n",
      "epoch: 01, loss: -0.12460\n",
      "epoch: 02, loss: -0.13078\n",
      "epoch: 03, loss: -0.13117\n",
      "epoch: 04, loss: -0.13039\n",
      "epoch: 05, loss: -0.13058\n",
      "epoch: 06, loss: -0.13259\n",
      "epoch: 07, loss: -0.13109\n",
      "epoch: 08, loss: -0.13198\n",
      "epoch: 09, loss: -0.13424\n",
      "torch.Size([575, 64])\n",
      "<class 'numpy.ndarray'>\n"
     ]
    },
    {
     "name": "stderr",
     "output_type": "stream",
     "text": [
      " 26%|██▌       | 255/1000 [48:03<6:48:29, 32.90s/it]"
     ]
    },
    {
     "name": "stdout",
     "output_type": "stream",
     "text": [
      "eigenvalues shape torch.Size([5]) eigenvectors shape torch.Size([5, 575])\n",
      "255 /home/phdcs2/Hard_Disk/Datasets/Deep-Spectral-Segmentation/data/object-segmentation/ECSSD/features/dino_vits16/0256.pth\n",
      "dict_keys(['k', 'indices', 'file', 'id', 'model_name', 'patch_size', 'shape'])\n",
      "0256\n",
      "Starting Training\n",
      "epoch: 00, loss: -0.06150\n",
      "epoch: 01, loss: -0.08963\n",
      "epoch: 02, loss: -0.09202\n",
      "epoch: 03, loss: -0.09346\n",
      "epoch: 04, loss: -0.09485\n",
      "epoch: 05, loss: -0.09587\n",
      "epoch: 06, loss: -0.09559\n",
      "epoch: 07, loss: -0.09436\n",
      "epoch: 08, loss: -0.09549\n",
      "epoch: 09, loss: -0.09507\n",
      "torch.Size([375, 64])\n",
      "<class 'numpy.ndarray'>\n"
     ]
    },
    {
     "name": "stderr",
     "output_type": "stream",
     "text": [
      " 26%|██▌       | 256/1000 [48:27<6:12:45, 30.06s/it]"
     ]
    },
    {
     "name": "stdout",
     "output_type": "stream",
     "text": [
      "eigenvalues shape torch.Size([5]) eigenvectors shape torch.Size([5, 375])\n",
      "256 /home/phdcs2/Hard_Disk/Datasets/Deep-Spectral-Segmentation/data/object-segmentation/ECSSD/features/dino_vits16/0257.pth\n",
      "dict_keys(['k', 'indices', 'file', 'id', 'model_name', 'patch_size', 'shape'])\n",
      "0257\n",
      "Starting Training\n",
      "epoch: 00, loss: -0.05413\n",
      "epoch: 01, loss: -0.07081\n",
      "epoch: 02, loss: -0.07934\n",
      "epoch: 03, loss: -0.07919\n",
      "epoch: 04, loss: -0.07696\n",
      "epoch: 05, loss: -0.08310\n",
      "epoch: 06, loss: -0.07950\n",
      "epoch: 07, loss: -0.08182\n",
      "epoch: 08, loss: -0.08001\n",
      "epoch: 09, loss: -0.08055\n",
      "torch.Size([475, 64])\n",
      "<class 'numpy.ndarray'>\n"
     ]
    },
    {
     "name": "stderr",
     "output_type": "stream",
     "text": [
      " 26%|██▌       | 257/1000 [48:58<6:15:59, 30.36s/it]"
     ]
    },
    {
     "name": "stdout",
     "output_type": "stream",
     "text": [
      "eigenvalues shape torch.Size([5]) eigenvectors shape torch.Size([5, 475])\n",
      "257 /home/phdcs2/Hard_Disk/Datasets/Deep-Spectral-Segmentation/data/object-segmentation/ECSSD/features/dino_vits16/0258.pth\n",
      "dict_keys(['k', 'indices', 'file', 'id', 'model_name', 'patch_size', 'shape'])\n",
      "0258\n",
      "Starting Training\n",
      "epoch: 00, loss: -0.02275\n",
      "epoch: 01, loss: -0.04944\n",
      "epoch: 02, loss: -0.05227\n",
      "epoch: 03, loss: -0.05310\n",
      "epoch: 04, loss: -0.05379\n",
      "epoch: 05, loss: -0.05365\n",
      "epoch: 06, loss: -0.05397\n",
      "epoch: 07, loss: -0.05402\n",
      "epoch: 08, loss: -0.05419\n",
      "epoch: 09, loss: -0.05464\n",
      "torch.Size([400, 64])\n",
      "<class 'numpy.ndarray'>\n"
     ]
    },
    {
     "name": "stderr",
     "output_type": "stream",
     "text": [
      " 26%|██▌       | 258/1000 [49:17<5:35:24, 27.12s/it]"
     ]
    },
    {
     "name": "stdout",
     "output_type": "stream",
     "text": [
      "eigenvalues shape torch.Size([5]) eigenvectors shape torch.Size([5, 400])\n",
      "258 /home/phdcs2/Hard_Disk/Datasets/Deep-Spectral-Segmentation/data/object-segmentation/ECSSD/features/dino_vits16/0259.pth\n",
      "dict_keys(['k', 'indices', 'file', 'id', 'model_name', 'patch_size', 'shape'])\n",
      "0259\n",
      "Starting Training\n",
      "epoch: 00, loss: -0.04024\n",
      "epoch: 01, loss: -0.05881\n",
      "epoch: 02, loss: -0.05986\n",
      "epoch: 03, loss: -0.06039\n",
      "epoch: 04, loss: -0.06063\n",
      "epoch: 05, loss: -0.06079\n",
      "epoch: 06, loss: -0.06109\n",
      "epoch: 07, loss: -0.06124\n",
      "epoch: 08, loss: -0.06137\n",
      "epoch: 09, loss: -0.06135\n",
      "torch.Size([450, 64])\n",
      "<class 'numpy.ndarray'>\n"
     ]
    },
    {
     "name": "stderr",
     "output_type": "stream",
     "text": [
      " 26%|██▌       | 259/1000 [49:42<5:25:21, 26.35s/it]"
     ]
    },
    {
     "name": "stdout",
     "output_type": "stream",
     "text": [
      "eigenvalues shape torch.Size([5]) eigenvectors shape torch.Size([5, 450])\n",
      "259 /home/phdcs2/Hard_Disk/Datasets/Deep-Spectral-Segmentation/data/object-segmentation/ECSSD/features/dino_vits16/0260.pth\n",
      "dict_keys(['k', 'indices', 'file', 'id', 'model_name', 'patch_size', 'shape'])\n",
      "0260\n",
      "Starting Training\n",
      "epoch: 00, loss: -0.06774\n",
      "epoch: 01, loss: -0.08770\n",
      "epoch: 02, loss: -0.08839\n",
      "epoch: 03, loss: -0.08893\n",
      "epoch: 04, loss: -0.08925\n",
      "epoch: 05, loss: -0.08924\n",
      "epoch: 06, loss: -0.08940\n",
      "epoch: 07, loss: -0.08942\n",
      "epoch: 08, loss: -0.08946\n",
      "epoch: 09, loss: -0.08973\n",
      "torch.Size([450, 64])\n",
      "<class 'numpy.ndarray'>\n"
     ]
    },
    {
     "name": "stderr",
     "output_type": "stream",
     "text": [
      " 26%|██▌       | 260/1000 [50:07<5:19:48, 25.93s/it]"
     ]
    },
    {
     "name": "stdout",
     "output_type": "stream",
     "text": [
      "eigenvalues shape torch.Size([5]) eigenvectors shape torch.Size([5, 450])\n",
      "260 /home/phdcs2/Hard_Disk/Datasets/Deep-Spectral-Segmentation/data/object-segmentation/ECSSD/features/dino_vits16/0261.pth\n",
      "dict_keys(['k', 'indices', 'file', 'id', 'model_name', 'patch_size', 'shape'])\n",
      "0261\n",
      "Starting Training\n",
      "epoch: 00, loss: -0.04211\n",
      "epoch: 01, loss: -0.07160\n",
      "epoch: 02, loss: -0.07323\n",
      "epoch: 03, loss: -0.07390\n",
      "epoch: 04, loss: -0.07387\n",
      "epoch: 05, loss: -0.07471\n",
      "epoch: 06, loss: -0.07422\n",
      "epoch: 07, loss: -0.07442\n",
      "epoch: 08, loss: -0.07566\n",
      "epoch: 09, loss: -0.07483\n",
      "torch.Size([400, 64])\n",
      "<class 'numpy.ndarray'>\n"
     ]
    },
    {
     "name": "stderr",
     "output_type": "stream",
     "text": [
      " 26%|██▌       | 261/1000 [50:30<5:11:02, 25.25s/it]"
     ]
    },
    {
     "name": "stdout",
     "output_type": "stream",
     "text": [
      "eigenvalues shape torch.Size([5]) eigenvectors shape torch.Size([5, 400])\n",
      "261 /home/phdcs2/Hard_Disk/Datasets/Deep-Spectral-Segmentation/data/object-segmentation/ECSSD/features/dino_vits16/0262.pth\n",
      "dict_keys(['k', 'indices', 'file', 'id', 'model_name', 'patch_size', 'shape'])\n",
      "0262\n",
      "Starting Training\n",
      "epoch: 00, loss: -0.02328\n",
      "epoch: 01, loss: -0.05913\n",
      "epoch: 02, loss: -0.06231\n",
      "epoch: 03, loss: -0.06039\n",
      "epoch: 04, loss: -0.06379\n",
      "epoch: 05, loss: -0.06196\n",
      "epoch: 06, loss: -0.06414\n",
      "epoch: 07, loss: -0.06593\n",
      "epoch: 08, loss: -0.06560\n",
      "epoch: 09, loss: -0.06369\n",
      "torch.Size([450, 64])\n",
      "<class 'numpy.ndarray'>\n"
     ]
    },
    {
     "name": "stderr",
     "output_type": "stream",
     "text": [
      " 26%|██▌       | 262/1000 [50:57<5:15:29, 25.65s/it]"
     ]
    },
    {
     "name": "stdout",
     "output_type": "stream",
     "text": [
      "eigenvalues shape torch.Size([5]) eigenvectors shape torch.Size([5, 450])\n",
      "262 /home/phdcs2/Hard_Disk/Datasets/Deep-Spectral-Segmentation/data/object-segmentation/ECSSD/features/dino_vits16/0263.pth\n",
      "dict_keys(['k', 'indices', 'file', 'id', 'model_name', 'patch_size', 'shape'])\n",
      "0263\n",
      "Starting Training\n",
      "epoch: 00, loss: -0.03499\n",
      "epoch: 01, loss: -0.05182\n",
      "epoch: 02, loss: -0.05320\n",
      "epoch: 03, loss: -0.05329\n",
      "epoch: 04, loss: -0.05400\n",
      "epoch: 05, loss: -0.05406\n",
      "epoch: 06, loss: -0.05433\n",
      "epoch: 07, loss: -0.05468\n",
      "epoch: 08, loss: -0.05486\n",
      "epoch: 09, loss: -0.05483\n",
      "torch.Size([450, 64])\n",
      "<class 'numpy.ndarray'>\n"
     ]
    },
    {
     "name": "stderr",
     "output_type": "stream",
     "text": [
      " 26%|██▋       | 263/1000 [51:25<5:24:09, 26.39s/it]"
     ]
    },
    {
     "name": "stdout",
     "output_type": "stream",
     "text": [
      "eigenvalues shape torch.Size([5]) eigenvectors shape torch.Size([5, 450])\n",
      "263 /home/phdcs2/Hard_Disk/Datasets/Deep-Spectral-Segmentation/data/object-segmentation/ECSSD/features/dino_vits16/0264.pth\n",
      "dict_keys(['k', 'indices', 'file', 'id', 'model_name', 'patch_size', 'shape'])\n",
      "0264\n",
      "Starting Training\n",
      "epoch: 00, loss: -0.02971\n",
      "epoch: 01, loss: -0.05471\n",
      "epoch: 02, loss: -0.05768\n",
      "epoch: 03, loss: -0.05778\n",
      "epoch: 04, loss: -0.05820\n",
      "epoch: 05, loss: -0.05875\n",
      "epoch: 06, loss: -0.05830\n",
      "epoch: 07, loss: -0.05895\n",
      "epoch: 08, loss: -0.05939\n",
      "epoch: 09, loss: -0.05938\n",
      "torch.Size([400, 64])\n",
      "<class 'numpy.ndarray'>\n"
     ]
    },
    {
     "name": "stderr",
     "output_type": "stream",
     "text": [
      " 26%|██▋       | 264/1000 [51:53<5:28:41, 26.80s/it]"
     ]
    },
    {
     "name": "stdout",
     "output_type": "stream",
     "text": [
      "eigenvalues shape torch.Size([5]) eigenvectors shape torch.Size([5, 400])\n",
      "264 /home/phdcs2/Hard_Disk/Datasets/Deep-Spectral-Segmentation/data/object-segmentation/ECSSD/features/dino_vits16/0265.pth\n",
      "dict_keys(['k', 'indices', 'file', 'id', 'model_name', 'patch_size', 'shape'])\n",
      "0265\n",
      "Starting Training\n",
      "epoch: 00, loss: -0.04415\n",
      "epoch: 01, loss: -0.06160\n",
      "epoch: 02, loss: -0.06199\n",
      "epoch: 03, loss: -0.06209\n",
      "epoch: 04, loss: -0.06254\n",
      "epoch: 05, loss: -0.06260\n",
      "epoch: 06, loss: -0.06208\n",
      "epoch: 07, loss: -0.06346\n",
      "epoch: 08, loss: -0.06367\n",
      "epoch: 09, loss: -0.06279\n",
      "torch.Size([525, 64])\n",
      "<class 'numpy.ndarray'>\n"
     ]
    },
    {
     "name": "stderr",
     "output_type": "stream",
     "text": [
      " 26%|██▋       | 265/1000 [52:32<6:14:56, 30.61s/it]"
     ]
    },
    {
     "name": "stdout",
     "output_type": "stream",
     "text": [
      "eigenvalues shape torch.Size([5]) eigenvectors shape torch.Size([5, 525])\n",
      "265 /home/phdcs2/Hard_Disk/Datasets/Deep-Spectral-Segmentation/data/object-segmentation/ECSSD/features/dino_vits16/0266.pth\n",
      "dict_keys(['k', 'indices', 'file', 'id', 'model_name', 'patch_size', 'shape'])\n",
      "0266\n",
      "Starting Training\n",
      "epoch: 00, loss: -0.05531\n",
      "epoch: 01, loss: -0.07026\n",
      "epoch: 02, loss: -0.07109\n",
      "epoch: 03, loss: -0.07260\n",
      "epoch: 04, loss: -0.07303\n",
      "epoch: 05, loss: -0.07209\n",
      "epoch: 06, loss: -0.07215\n",
      "epoch: 07, loss: -0.07362\n",
      "epoch: 08, loss: -0.07276\n",
      "epoch: 09, loss: -0.07265\n",
      "torch.Size([425, 64])\n",
      "<class 'numpy.ndarray'>\n"
     ]
    },
    {
     "name": "stderr",
     "output_type": "stream",
     "text": [
      " 27%|██▋       | 266/1000 [52:59<6:01:02, 29.51s/it]"
     ]
    },
    {
     "name": "stdout",
     "output_type": "stream",
     "text": [
      "eigenvalues shape torch.Size([5]) eigenvectors shape torch.Size([5, 425])\n",
      "266 /home/phdcs2/Hard_Disk/Datasets/Deep-Spectral-Segmentation/data/object-segmentation/ECSSD/features/dino_vits16/0267.pth\n",
      "dict_keys(['k', 'indices', 'file', 'id', 'model_name', 'patch_size', 'shape'])\n",
      "0267\n",
      "Starting Training\n",
      "epoch: 00, loss: -0.05968\n",
      "epoch: 01, loss: -0.08684\n",
      "epoch: 02, loss: -0.09516\n",
      "epoch: 03, loss: -0.09464\n",
      "epoch: 04, loss: -0.09991\n",
      "epoch: 05, loss: -0.09563\n",
      "epoch: 06, loss: -0.09679\n",
      "epoch: 07, loss: -0.10003\n",
      "epoch: 08, loss: -0.10021\n",
      "epoch: 09, loss: -0.09948\n",
      "torch.Size([400, 64])\n",
      "<class 'numpy.ndarray'>\n"
     ]
    },
    {
     "name": "stderr",
     "output_type": "stream",
     "text": [
      " 27%|██▋       | 267/1000 [53:25<5:46:21, 28.35s/it]"
     ]
    },
    {
     "name": "stdout",
     "output_type": "stream",
     "text": [
      "eigenvalues shape torch.Size([5]) eigenvectors shape torch.Size([5, 400])\n",
      "267 /home/phdcs2/Hard_Disk/Datasets/Deep-Spectral-Segmentation/data/object-segmentation/ECSSD/features/dino_vits16/0268.pth\n",
      "dict_keys(['k', 'indices', 'file', 'id', 'model_name', 'patch_size', 'shape'])\n",
      "0268\n",
      "Starting Training\n",
      "epoch: 00, loss: -0.04910\n",
      "epoch: 01, loss: -0.07096\n",
      "epoch: 02, loss: -0.07165\n",
      "epoch: 03, loss: -0.07222\n",
      "epoch: 04, loss: -0.07231\n",
      "epoch: 05, loss: -0.07259\n",
      "epoch: 06, loss: -0.07275\n",
      "epoch: 07, loss: -0.07293\n",
      "epoch: 08, loss: -0.07297\n",
      "epoch: 09, loss: -0.07304\n",
      "torch.Size([600, 64])\n",
      "<class 'numpy.ndarray'>\n"
     ]
    },
    {
     "name": "stderr",
     "output_type": "stream",
     "text": [
      " 27%|██▋       | 268/1000 [54:19<7:20:32, 36.11s/it]"
     ]
    },
    {
     "name": "stdout",
     "output_type": "stream",
     "text": [
      "eigenvalues shape torch.Size([5]) eigenvectors shape torch.Size([5, 600])\n",
      "268 /home/phdcs2/Hard_Disk/Datasets/Deep-Spectral-Segmentation/data/object-segmentation/ECSSD/features/dino_vits16/0269.pth\n",
      "dict_keys(['k', 'indices', 'file', 'id', 'model_name', 'patch_size', 'shape'])\n",
      "0269\n",
      "Starting Training\n",
      "epoch: 00, loss: -0.04160\n",
      "epoch: 01, loss: -0.07766\n",
      "epoch: 02, loss: -0.07896\n",
      "epoch: 03, loss: -0.08119\n",
      "epoch: 04, loss: -0.08201\n",
      "epoch: 05, loss: -0.08651\n",
      "epoch: 06, loss: -0.08648\n",
      "epoch: 07, loss: -0.08723\n",
      "epoch: 08, loss: -0.08596\n",
      "epoch: 09, loss: -0.08845\n",
      "torch.Size([400, 64])\n",
      "<class 'numpy.ndarray'>\n"
     ]
    },
    {
     "name": "stderr",
     "output_type": "stream",
     "text": [
      " 27%|██▋       | 269/1000 [54:52<7:08:01, 35.13s/it]"
     ]
    },
    {
     "name": "stdout",
     "output_type": "stream",
     "text": [
      "eigenvalues shape torch.Size([5]) eigenvectors shape torch.Size([5, 400])\n",
      "269 /home/phdcs2/Hard_Disk/Datasets/Deep-Spectral-Segmentation/data/object-segmentation/ECSSD/features/dino_vits16/0270.pth\n",
      "dict_keys(['k', 'indices', 'file', 'id', 'model_name', 'patch_size', 'shape'])\n",
      "0270\n",
      "Starting Training\n",
      "epoch: 00, loss: -0.04651\n",
      "epoch: 01, loss: -0.08530\n",
      "epoch: 02, loss: -0.08674\n",
      "epoch: 03, loss: -0.09274\n",
      "epoch: 04, loss: -0.08988\n",
      "epoch: 05, loss: -0.09382\n",
      "epoch: 06, loss: -0.09658\n",
      "epoch: 07, loss: -0.09516\n",
      "epoch: 08, loss: -0.09310\n",
      "epoch: 09, loss: -0.09694\n",
      "torch.Size([375, 64])\n",
      "<class 'numpy.ndarray'>\n"
     ]
    },
    {
     "name": "stderr",
     "output_type": "stream",
     "text": [
      " 27%|██▋       | 270/1000 [55:18<6:34:52, 32.46s/it]"
     ]
    },
    {
     "name": "stdout",
     "output_type": "stream",
     "text": [
      "eigenvalues shape torch.Size([5]) eigenvectors shape torch.Size([5, 375])\n",
      "270 /home/phdcs2/Hard_Disk/Datasets/Deep-Spectral-Segmentation/data/object-segmentation/ECSSD/features/dino_vits16/0271.pth\n",
      "dict_keys(['k', 'indices', 'file', 'id', 'model_name', 'patch_size', 'shape'])\n",
      "0271\n",
      "Starting Training\n",
      "epoch: 00, loss: -0.02753\n",
      "epoch: 01, loss: -0.04416\n",
      "epoch: 02, loss: -0.04898\n",
      "epoch: 03, loss: -0.05252\n",
      "epoch: 04, loss: -0.05058\n",
      "epoch: 05, loss: -0.05620\n",
      "epoch: 06, loss: -0.05161\n",
      "epoch: 07, loss: -0.05212\n",
      "epoch: 08, loss: -0.05347\n",
      "epoch: 09, loss: -0.05377\n",
      "torch.Size([450, 64])\n",
      "<class 'numpy.ndarray'>\n"
     ]
    },
    {
     "name": "stderr",
     "output_type": "stream",
     "text": [
      " 27%|██▋       | 271/1000 [55:47<6:21:11, 31.37s/it]"
     ]
    },
    {
     "name": "stdout",
     "output_type": "stream",
     "text": [
      "eigenvalues shape torch.Size([5]) eigenvectors shape torch.Size([5, 450])\n",
      "271 /home/phdcs2/Hard_Disk/Datasets/Deep-Spectral-Segmentation/data/object-segmentation/ECSSD/features/dino_vits16/0272.pth\n",
      "dict_keys(['k', 'indices', 'file', 'id', 'model_name', 'patch_size', 'shape'])\n",
      "0272\n",
      "Starting Training\n",
      "epoch: 00, loss: -0.04122\n",
      "epoch: 01, loss: -0.08191\n",
      "epoch: 02, loss: -0.08221\n",
      "epoch: 03, loss: -0.08433\n",
      "epoch: 04, loss: -0.08626\n",
      "epoch: 05, loss: -0.08467\n",
      "epoch: 06, loss: -0.08638\n",
      "epoch: 07, loss: -0.08592\n",
      "epoch: 08, loss: -0.08541\n",
      "epoch: 09, loss: -0.08662\n",
      "torch.Size([500, 64])\n",
      "<class 'numpy.ndarray'>\n"
     ]
    },
    {
     "name": "stderr",
     "output_type": "stream",
     "text": [
      " 27%|██▋       | 272/1000 [56:18<6:19:13, 31.26s/it]"
     ]
    },
    {
     "name": "stdout",
     "output_type": "stream",
     "text": [
      "eigenvalues shape torch.Size([5]) eigenvectors shape torch.Size([5, 500])\n",
      "272 /home/phdcs2/Hard_Disk/Datasets/Deep-Spectral-Segmentation/data/object-segmentation/ECSSD/features/dino_vits16/0273.pth\n",
      "dict_keys(['k', 'indices', 'file', 'id', 'model_name', 'patch_size', 'shape'])\n",
      "0273\n",
      "Starting Training\n",
      "epoch: 00, loss: -0.05279\n",
      "epoch: 01, loss: -0.07893\n",
      "epoch: 02, loss: -0.07983\n",
      "epoch: 03, loss: -0.08025\n",
      "epoch: 04, loss: -0.08030\n",
      "epoch: 05, loss: -0.08049\n",
      "epoch: 06, loss: -0.08051\n",
      "epoch: 07, loss: -0.08090\n",
      "epoch: 08, loss: -0.08089\n",
      "epoch: 09, loss: -0.08094\n",
      "torch.Size([400, 64])\n",
      "<class 'numpy.ndarray'>\n"
     ]
    },
    {
     "name": "stderr",
     "output_type": "stream",
     "text": [
      " 27%|██▋       | 273/1000 [56:42<5:53:15, 29.15s/it]"
     ]
    },
    {
     "name": "stdout",
     "output_type": "stream",
     "text": [
      "eigenvalues shape torch.Size([5]) eigenvectors shape torch.Size([5, 400])\n",
      "273 /home/phdcs2/Hard_Disk/Datasets/Deep-Spectral-Segmentation/data/object-segmentation/ECSSD/features/dino_vits16/0274.pth\n",
      "dict_keys(['k', 'indices', 'file', 'id', 'model_name', 'patch_size', 'shape'])\n",
      "0274\n",
      "Starting Training\n",
      "epoch: 00, loss: -0.02176\n",
      "epoch: 01, loss: -0.03914\n",
      "epoch: 02, loss: -0.04117\n",
      "epoch: 03, loss: -0.04090\n",
      "epoch: 04, loss: -0.04139\n",
      "epoch: 05, loss: -0.04232\n",
      "epoch: 06, loss: -0.04170\n",
      "epoch: 07, loss: -0.04133\n",
      "epoch: 08, loss: -0.04200\n",
      "epoch: 09, loss: -0.04174\n",
      "torch.Size([575, 64])\n",
      "<class 'numpy.ndarray'>\n"
     ]
    },
    {
     "name": "stderr",
     "output_type": "stream",
     "text": [
      " 27%|██▋       | 274/1000 [57:29<6:56:33, 34.43s/it]"
     ]
    },
    {
     "name": "stdout",
     "output_type": "stream",
     "text": [
      "eigenvalues shape torch.Size([5]) eigenvectors shape torch.Size([5, 575])\n",
      "274 /home/phdcs2/Hard_Disk/Datasets/Deep-Spectral-Segmentation/data/object-segmentation/ECSSD/features/dino_vits16/0275.pth\n",
      "dict_keys(['k', 'indices', 'file', 'id', 'model_name', 'patch_size', 'shape'])\n",
      "0275\n",
      "Starting Training\n",
      "epoch: 00, loss: -0.02280\n",
      "epoch: 01, loss: -0.05180\n",
      "epoch: 02, loss: -0.05779\n",
      "epoch: 03, loss: -0.05963\n",
      "epoch: 04, loss: -0.05864\n",
      "epoch: 05, loss: -0.05866\n",
      "epoch: 06, loss: -0.06067\n",
      "epoch: 07, loss: -0.06099\n",
      "epoch: 08, loss: -0.05976\n",
      "epoch: 09, loss: -0.05977\n",
      "torch.Size([400, 64])\n",
      "<class 'numpy.ndarray'>\n"
     ]
    },
    {
     "name": "stderr",
     "output_type": "stream",
     "text": [
      " 28%|██▊       | 275/1000 [57:51<6:09:10, 30.55s/it]"
     ]
    },
    {
     "name": "stdout",
     "output_type": "stream",
     "text": [
      "eigenvalues shape torch.Size([5]) eigenvectors shape torch.Size([5, 400])\n",
      "275 /home/phdcs2/Hard_Disk/Datasets/Deep-Spectral-Segmentation/data/object-segmentation/ECSSD/features/dino_vits16/0276.pth\n",
      "dict_keys(['k', 'indices', 'file', 'id', 'model_name', 'patch_size', 'shape'])\n",
      "0276\n",
      "Starting Training\n",
      "epoch: 00, loss: -0.07679\n",
      "epoch: 01, loss: -0.09773\n",
      "epoch: 02, loss: -0.10161\n",
      "epoch: 03, loss: -0.10334\n",
      "epoch: 04, loss: -0.10367\n",
      "epoch: 05, loss: -0.10263\n",
      "epoch: 06, loss: -0.10501\n",
      "epoch: 07, loss: -0.10531\n",
      "epoch: 08, loss: -0.10673\n",
      "epoch: 09, loss: -0.10678\n",
      "torch.Size([525, 64])\n",
      "<class 'numpy.ndarray'>\n"
     ]
    },
    {
     "name": "stderr",
     "output_type": "stream",
     "text": [
      " 28%|██▊       | 276/1000 [58:37<7:04:53, 35.21s/it]"
     ]
    },
    {
     "name": "stdout",
     "output_type": "stream",
     "text": [
      "eigenvalues shape torch.Size([5]) eigenvectors shape torch.Size([5, 525])\n",
      "276 /home/phdcs2/Hard_Disk/Datasets/Deep-Spectral-Segmentation/data/object-segmentation/ECSSD/features/dino_vits16/0277.pth\n",
      "dict_keys(['k', 'indices', 'file', 'id', 'model_name', 'patch_size', 'shape'])\n",
      "0277\n",
      "Starting Training\n",
      "epoch: 00, loss: -0.02363\n",
      "epoch: 01, loss: -0.04158\n",
      "epoch: 02, loss: -0.03941\n",
      "epoch: 03, loss: -0.04377\n",
      "epoch: 04, loss: -0.04425\n",
      "epoch: 05, loss: -0.04581\n",
      "epoch: 06, loss: -0.04566\n",
      "epoch: 07, loss: -0.04546\n",
      "epoch: 08, loss: -0.04673\n",
      "epoch: 09, loss: -0.04627\n",
      "torch.Size([400, 64])\n",
      "<class 'numpy.ndarray'>\n"
     ]
    },
    {
     "name": "stderr",
     "output_type": "stream",
     "text": [
      " 28%|██▊       | 277/1000 [59:03<6:32:57, 32.61s/it]"
     ]
    },
    {
     "name": "stdout",
     "output_type": "stream",
     "text": [
      "eigenvalues shape torch.Size([5]) eigenvectors shape torch.Size([5, 400])\n",
      "277 /home/phdcs2/Hard_Disk/Datasets/Deep-Spectral-Segmentation/data/object-segmentation/ECSSD/features/dino_vits16/0278.pth\n",
      "dict_keys(['k', 'indices', 'file', 'id', 'model_name', 'patch_size', 'shape'])\n",
      "0278\n",
      "Starting Training\n",
      "epoch: 00, loss: -0.06751\n",
      "epoch: 01, loss: -0.10339\n",
      "epoch: 02, loss: -0.10609\n",
      "epoch: 03, loss: -0.10609\n",
      "epoch: 04, loss: -0.10763\n",
      "epoch: 05, loss: -0.10855\n",
      "epoch: 06, loss: -0.10907\n",
      "epoch: 07, loss: -0.10998\n",
      "epoch: 08, loss: -0.10756\n",
      "epoch: 09, loss: -0.10961\n",
      "torch.Size([550, 64])\n",
      "<class 'numpy.ndarray'>\n"
     ]
    },
    {
     "name": "stderr",
     "output_type": "stream",
     "text": [
      " 28%|██▊       | 278/1000 [59:52<7:31:05, 37.49s/it]"
     ]
    },
    {
     "name": "stdout",
     "output_type": "stream",
     "text": [
      "eigenvalues shape torch.Size([5]) eigenvectors shape torch.Size([5, 550])\n",
      "278 /home/phdcs2/Hard_Disk/Datasets/Deep-Spectral-Segmentation/data/object-segmentation/ECSSD/features/dino_vits16/0279.pth\n",
      "dict_keys(['k', 'indices', 'file', 'id', 'model_name', 'patch_size', 'shape'])\n",
      "0279\n",
      "Starting Training\n",
      "epoch: 00, loss: -0.05372\n",
      "epoch: 01, loss: -0.07673\n",
      "epoch: 02, loss: -0.07754\n",
      "epoch: 03, loss: -0.07767\n",
      "epoch: 04, loss: -0.07816\n",
      "epoch: 05, loss: -0.07819\n",
      "epoch: 06, loss: -0.07841\n",
      "epoch: 07, loss: -0.07881\n",
      "epoch: 08, loss: -0.07872\n",
      "epoch: 09, loss: -0.07866\n",
      "torch.Size([450, 64])\n",
      "<class 'numpy.ndarray'>\n"
     ]
    },
    {
     "name": "stderr",
     "output_type": "stream",
     "text": [
      " 28%|██▊       | 279/1000 [1:00:24<7:10:05, 35.79s/it]"
     ]
    },
    {
     "name": "stdout",
     "output_type": "stream",
     "text": [
      "eigenvalues shape torch.Size([5]) eigenvectors shape torch.Size([5, 450])\n",
      "279 /home/phdcs2/Hard_Disk/Datasets/Deep-Spectral-Segmentation/data/object-segmentation/ECSSD/features/dino_vits16/0280.pth\n",
      "dict_keys(['k', 'indices', 'file', 'id', 'model_name', 'patch_size', 'shape'])\n",
      "0280\n",
      "Starting Training\n",
      "epoch: 00, loss: -0.04078\n",
      "epoch: 01, loss: -0.05517\n",
      "epoch: 02, loss: -0.05582\n",
      "epoch: 03, loss: -0.05664\n",
      "epoch: 04, loss: -0.05610\n",
      "epoch: 05, loss: -0.05740\n",
      "epoch: 06, loss: -0.05764\n",
      "epoch: 07, loss: -0.05688\n",
      "epoch: 08, loss: -0.05798\n",
      "epoch: 09, loss: -0.05781\n",
      "torch.Size([625, 64])\n",
      "<class 'numpy.ndarray'>\n"
     ]
    },
    {
     "name": "stderr",
     "output_type": "stream",
     "text": [
      " 28%|██▊       | 280/1000 [1:01:19<8:20:31, 41.71s/it]"
     ]
    },
    {
     "name": "stdout",
     "output_type": "stream",
     "text": [
      "eigenvalues shape torch.Size([5]) eigenvectors shape torch.Size([5, 625])\n",
      "280 /home/phdcs2/Hard_Disk/Datasets/Deep-Spectral-Segmentation/data/object-segmentation/ECSSD/features/dino_vits16/0281.pth\n",
      "dict_keys(['k', 'indices', 'file', 'id', 'model_name', 'patch_size', 'shape'])\n",
      "0281\n",
      "Starting Training\n",
      "epoch: 00, loss: -0.02857\n",
      "epoch: 01, loss: -0.04623\n",
      "epoch: 02, loss: -0.04770\n",
      "epoch: 03, loss: -0.04827\n",
      "epoch: 04, loss: -0.04865\n",
      "epoch: 05, loss: -0.04884\n",
      "epoch: 06, loss: -0.04906\n",
      "epoch: 07, loss: -0.04903\n",
      "epoch: 08, loss: -0.04937\n",
      "epoch: 09, loss: -0.04932\n",
      "torch.Size([450, 64])\n",
      "<class 'numpy.ndarray'>\n"
     ]
    },
    {
     "name": "stderr",
     "output_type": "stream",
     "text": [
      " 28%|██▊       | 281/1000 [1:01:54<7:54:47, 39.62s/it]"
     ]
    },
    {
     "name": "stdout",
     "output_type": "stream",
     "text": [
      "eigenvalues shape torch.Size([5]) eigenvectors shape torch.Size([5, 450])\n",
      "281 /home/phdcs2/Hard_Disk/Datasets/Deep-Spectral-Segmentation/data/object-segmentation/ECSSD/features/dino_vits16/0282.pth\n",
      "dict_keys(['k', 'indices', 'file', 'id', 'model_name', 'patch_size', 'shape'])\n",
      "0282\n",
      "Starting Training\n",
      "epoch: 00, loss: -0.02486\n",
      "epoch: 01, loss: -0.04427\n",
      "epoch: 02, loss: -0.04668\n",
      "epoch: 03, loss: -0.04717\n",
      "epoch: 04, loss: -0.04727\n",
      "epoch: 05, loss: -0.04749\n",
      "epoch: 06, loss: -0.04768\n",
      "epoch: 07, loss: -0.04797\n",
      "epoch: 08, loss: -0.04783\n",
      "epoch: 09, loss: -0.04798\n",
      "torch.Size([400, 64])\n",
      "<class 'numpy.ndarray'>\n"
     ]
    },
    {
     "name": "stderr",
     "output_type": "stream",
     "text": [
      " 28%|██▊       | 282/1000 [1:02:18<6:55:58, 34.76s/it]"
     ]
    },
    {
     "name": "stdout",
     "output_type": "stream",
     "text": [
      "eigenvalues shape torch.Size([5]) eigenvectors shape torch.Size([5, 400])\n",
      "282 /home/phdcs2/Hard_Disk/Datasets/Deep-Spectral-Segmentation/data/object-segmentation/ECSSD/features/dino_vits16/0283.pth\n",
      "dict_keys(['k', 'indices', 'file', 'id', 'model_name', 'patch_size', 'shape'])\n",
      "0283\n",
      "Starting Training\n",
      "epoch: 00, loss: -0.03164\n",
      "epoch: 01, loss: -0.05880\n",
      "epoch: 02, loss: -0.06006\n",
      "epoch: 03, loss: -0.06085\n",
      "epoch: 04, loss: -0.06137\n",
      "epoch: 05, loss: -0.06138\n",
      "epoch: 06, loss: -0.06170\n",
      "epoch: 07, loss: -0.06179\n",
      "epoch: 08, loss: -0.06198\n",
      "epoch: 09, loss: -0.06207\n",
      "torch.Size([400, 64])\n",
      "<class 'numpy.ndarray'>\n"
     ]
    },
    {
     "name": "stderr",
     "output_type": "stream",
     "text": [
      " 28%|██▊       | 283/1000 [1:02:42<6:18:01, 31.63s/it]"
     ]
    },
    {
     "name": "stdout",
     "output_type": "stream",
     "text": [
      "eigenvalues shape torch.Size([5]) eigenvectors shape torch.Size([5, 400])\n",
      "283 /home/phdcs2/Hard_Disk/Datasets/Deep-Spectral-Segmentation/data/object-segmentation/ECSSD/features/dino_vits16/0284.pth\n",
      "dict_keys(['k', 'indices', 'file', 'id', 'model_name', 'patch_size', 'shape'])\n",
      "0284\n",
      "Starting Training\n",
      "epoch: 00, loss: -0.01857\n",
      "epoch: 01, loss: -0.04772\n",
      "epoch: 02, loss: -0.05471\n",
      "epoch: 03, loss: -0.05537\n",
      "epoch: 04, loss: -0.05509\n",
      "epoch: 05, loss: -0.05923\n",
      "epoch: 06, loss: -0.05761\n",
      "epoch: 07, loss: -0.05649\n",
      "epoch: 08, loss: -0.05868\n",
      "epoch: 09, loss: -0.05778\n",
      "torch.Size([400, 64])\n",
      "<class 'numpy.ndarray'>\n"
     ]
    },
    {
     "name": "stderr",
     "output_type": "stream",
     "text": [
      " 28%|██▊       | 284/1000 [1:03:06<5:50:14, 29.35s/it]"
     ]
    },
    {
     "name": "stdout",
     "output_type": "stream",
     "text": [
      "eigenvalues shape torch.Size([5]) eigenvectors shape torch.Size([5, 400])\n",
      "284 /home/phdcs2/Hard_Disk/Datasets/Deep-Spectral-Segmentation/data/object-segmentation/ECSSD/features/dino_vits16/0285.pth\n",
      "dict_keys(['k', 'indices', 'file', 'id', 'model_name', 'patch_size', 'shape'])\n",
      "0285\n",
      "Starting Training\n",
      "epoch: 00, loss: -0.16723\n",
      "epoch: 01, loss: -0.20974\n",
      "epoch: 02, loss: -0.21395\n",
      "epoch: 03, loss: -0.21941\n",
      "epoch: 04, loss: -0.21881\n",
      "epoch: 05, loss: -0.22019\n",
      "epoch: 06, loss: -0.22078\n",
      "epoch: 07, loss: -0.22376\n",
      "epoch: 08, loss: -0.22518\n",
      "epoch: 09, loss: -0.22538\n",
      "torch.Size([400, 64])\n",
      "<class 'numpy.ndarray'>\n"
     ]
    },
    {
     "name": "stderr",
     "output_type": "stream",
     "text": [
      " 28%|██▊       | 285/1000 [1:03:33<5:40:44, 28.59s/it]"
     ]
    },
    {
     "name": "stdout",
     "output_type": "stream",
     "text": [
      "eigenvalues shape torch.Size([5]) eigenvectors shape torch.Size([5, 400])\n",
      "285 /home/phdcs2/Hard_Disk/Datasets/Deep-Spectral-Segmentation/data/object-segmentation/ECSSD/features/dino_vits16/0286.pth\n",
      "dict_keys(['k', 'indices', 'file', 'id', 'model_name', 'patch_size', 'shape'])\n",
      "0286\n",
      "Starting Training\n",
      "epoch: 00, loss: -0.05006\n",
      "epoch: 01, loss: -0.07669\n",
      "epoch: 02, loss: -0.07676\n",
      "epoch: 03, loss: -0.07764\n",
      "epoch: 04, loss: -0.07775\n",
      "epoch: 05, loss: -0.07810\n",
      "epoch: 06, loss: -0.07832\n",
      "epoch: 07, loss: -0.07820\n",
      "epoch: 08, loss: -0.07864\n",
      "epoch: 09, loss: -0.07852\n",
      "torch.Size([450, 64])\n",
      "<class 'numpy.ndarray'>\n"
     ]
    },
    {
     "name": "stderr",
     "output_type": "stream",
     "text": [
      " 29%|██▊       | 286/1000 [1:04:04<5:50:15, 29.43s/it]"
     ]
    },
    {
     "name": "stdout",
     "output_type": "stream",
     "text": [
      "eigenvalues shape torch.Size([5]) eigenvectors shape torch.Size([5, 450])\n",
      "286 /home/phdcs2/Hard_Disk/Datasets/Deep-Spectral-Segmentation/data/object-segmentation/ECSSD/features/dino_vits16/0287.pth\n",
      "dict_keys(['k', 'indices', 'file', 'id', 'model_name', 'patch_size', 'shape'])\n",
      "0287\n",
      "Starting Training\n",
      "epoch: 00, loss: -0.01881\n",
      "epoch: 01, loss: -0.04435\n",
      "epoch: 02, loss: -0.04746\n",
      "epoch: 03, loss: -0.04832\n",
      "epoch: 04, loss: -0.05071\n",
      "epoch: 05, loss: -0.04937\n",
      "epoch: 06, loss: -0.05014\n",
      "epoch: 07, loss: -0.05135\n",
      "epoch: 08, loss: -0.05150\n",
      "epoch: 09, loss: -0.05041\n",
      "torch.Size([375, 64])\n",
      "<class 'numpy.ndarray'>\n"
     ]
    },
    {
     "name": "stderr",
     "output_type": "stream",
     "text": [
      " 29%|██▊       | 287/1000 [1:04:25<5:20:54, 27.00s/it]"
     ]
    },
    {
     "name": "stdout",
     "output_type": "stream",
     "text": [
      "eigenvalues shape torch.Size([5]) eigenvectors shape torch.Size([5, 375])\n",
      "287 /home/phdcs2/Hard_Disk/Datasets/Deep-Spectral-Segmentation/data/object-segmentation/ECSSD/features/dino_vits16/0288.pth\n",
      "dict_keys(['k', 'indices', 'file', 'id', 'model_name', 'patch_size', 'shape'])\n",
      "0288\n",
      "Starting Training\n",
      "epoch: 00, loss: -0.02370\n",
      "epoch: 01, loss: -0.05612\n",
      "epoch: 02, loss: -0.06259\n",
      "epoch: 03, loss: -0.06446\n",
      "epoch: 04, loss: -0.06492\n",
      "epoch: 05, loss: -0.06540\n",
      "epoch: 06, loss: -0.06467\n",
      "epoch: 07, loss: -0.06371\n",
      "epoch: 08, loss: -0.06829\n",
      "epoch: 09, loss: -0.06509\n",
      "torch.Size([450, 64])\n",
      "<class 'numpy.ndarray'>\n"
     ]
    },
    {
     "name": "stderr",
     "output_type": "stream",
     "text": [
      " 29%|██▉       | 288/1000 [1:04:58<5:41:09, 28.75s/it]"
     ]
    },
    {
     "name": "stdout",
     "output_type": "stream",
     "text": [
      "eigenvalues shape torch.Size([5]) eigenvectors shape torch.Size([5, 450])\n",
      "288 /home/phdcs2/Hard_Disk/Datasets/Deep-Spectral-Segmentation/data/object-segmentation/ECSSD/features/dino_vits16/0289.pth\n",
      "dict_keys(['k', 'indices', 'file', 'id', 'model_name', 'patch_size', 'shape'])\n",
      "0289\n",
      "Starting Training\n",
      "epoch: 00, loss: -0.08461\n",
      "epoch: 01, loss: -0.12505\n",
      "epoch: 02, loss: -0.12985\n",
      "epoch: 03, loss: -0.12723\n",
      "epoch: 04, loss: -0.13250\n",
      "epoch: 05, loss: -0.13205\n",
      "epoch: 06, loss: -0.13456\n",
      "epoch: 07, loss: -0.13287\n",
      "epoch: 08, loss: -0.13336\n",
      "epoch: 09, loss: -0.13638\n",
      "torch.Size([450, 64])\n",
      "<class 'numpy.ndarray'>\n"
     ]
    },
    {
     "name": "stderr",
     "output_type": "stream",
     "text": [
      " 29%|██▉       | 289/1000 [1:05:28<5:44:49, 29.10s/it]"
     ]
    },
    {
     "name": "stdout",
     "output_type": "stream",
     "text": [
      "eigenvalues shape torch.Size([5]) eigenvectors shape torch.Size([5, 450])\n",
      "289 /home/phdcs2/Hard_Disk/Datasets/Deep-Spectral-Segmentation/data/object-segmentation/ECSSD/features/dino_vits16/0290.pth\n",
      "dict_keys(['k', 'indices', 'file', 'id', 'model_name', 'patch_size', 'shape'])\n",
      "0290\n",
      "Starting Training\n",
      "epoch: 00, loss: -0.05051\n",
      "epoch: 01, loss: -0.06928\n",
      "epoch: 02, loss: -0.06980\n",
      "epoch: 03, loss: -0.07141\n",
      "epoch: 04, loss: -0.07089\n",
      "epoch: 05, loss: -0.07108\n",
      "epoch: 06, loss: -0.07134\n",
      "epoch: 07, loss: -0.07139\n",
      "epoch: 08, loss: -0.07172\n",
      "epoch: 09, loss: -0.07195\n",
      "torch.Size([375, 64])\n",
      "<class 'numpy.ndarray'>\n"
     ]
    },
    {
     "name": "stderr",
     "output_type": "stream",
     "text": [
      " 29%|██▉       | 290/1000 [1:05:47<5:08:32, 26.07s/it]"
     ]
    },
    {
     "name": "stdout",
     "output_type": "stream",
     "text": [
      "eigenvalues shape torch.Size([5]) eigenvectors shape torch.Size([5, 375])\n",
      "290 /home/phdcs2/Hard_Disk/Datasets/Deep-Spectral-Segmentation/data/object-segmentation/ECSSD/features/dino_vits16/0291.pth\n",
      "dict_keys(['k', 'indices', 'file', 'id', 'model_name', 'patch_size', 'shape'])\n",
      "0291\n",
      "Starting Training\n",
      "epoch: 00, loss: -0.10783\n",
      "epoch: 01, loss: -0.14176\n",
      "epoch: 02, loss: -0.14767\n",
      "epoch: 03, loss: -0.14881\n",
      "epoch: 04, loss: -0.14904\n",
      "epoch: 05, loss: -0.14776\n",
      "epoch: 06, loss: -0.15156\n",
      "epoch: 07, loss: -0.15281\n",
      "epoch: 08, loss: -0.15225\n",
      "epoch: 09, loss: -0.15136\n",
      "torch.Size([475, 64])\n",
      "<class 'numpy.ndarray'>\n"
     ]
    },
    {
     "name": "stderr",
     "output_type": "stream",
     "text": [
      " 29%|██▉       | 291/1000 [1:06:16<5:17:21, 26.86s/it]"
     ]
    },
    {
     "name": "stdout",
     "output_type": "stream",
     "text": [
      "eigenvalues shape torch.Size([5]) eigenvectors shape torch.Size([5, 475])\n",
      "291 /home/phdcs2/Hard_Disk/Datasets/Deep-Spectral-Segmentation/data/object-segmentation/ECSSD/features/dino_vits16/0292.pth\n",
      "dict_keys(['k', 'indices', 'file', 'id', 'model_name', 'patch_size', 'shape'])\n",
      "0292\n",
      "Starting Training\n",
      "epoch: 00, loss: -0.11137\n",
      "epoch: 01, loss: -0.14388\n",
      "epoch: 02, loss: -0.14389\n",
      "epoch: 03, loss: -0.14653\n",
      "epoch: 04, loss: -0.15028\n",
      "epoch: 05, loss: -0.15055\n",
      "epoch: 06, loss: -0.15366\n",
      "epoch: 07, loss: -0.15334\n",
      "epoch: 08, loss: -0.15778\n",
      "epoch: 09, loss: -0.15794\n",
      "torch.Size([400, 64])\n",
      "<class 'numpy.ndarray'>\n"
     ]
    },
    {
     "name": "stderr",
     "output_type": "stream",
     "text": [
      " 29%|██▉       | 292/1000 [1:06:39<5:04:04, 25.77s/it]"
     ]
    },
    {
     "name": "stdout",
     "output_type": "stream",
     "text": [
      "eigenvalues shape torch.Size([5]) eigenvectors shape torch.Size([5, 400])\n",
      "292 /home/phdcs2/Hard_Disk/Datasets/Deep-Spectral-Segmentation/data/object-segmentation/ECSSD/features/dino_vits16/0293.pth\n",
      "dict_keys(['k', 'indices', 'file', 'id', 'model_name', 'patch_size', 'shape'])\n",
      "0293\n",
      "Starting Training\n",
      "epoch: 00, loss: -0.04434\n",
      "epoch: 01, loss: -0.07157\n",
      "epoch: 02, loss: -0.07358\n",
      "epoch: 03, loss: -0.07443\n",
      "epoch: 04, loss: -0.07564\n",
      "epoch: 05, loss: -0.07865\n",
      "epoch: 06, loss: -0.07778\n",
      "epoch: 07, loss: -0.07624\n",
      "epoch: 08, loss: -0.07714\n",
      "epoch: 09, loss: -0.07558\n",
      "torch.Size([425, 64])\n",
      "<class 'numpy.ndarray'>\n"
     ]
    },
    {
     "name": "stderr",
     "output_type": "stream",
     "text": [
      " 29%|██▉       | 293/1000 [1:07:06<5:08:21, 26.17s/it]"
     ]
    },
    {
     "name": "stdout",
     "output_type": "stream",
     "text": [
      "eigenvalues shape torch.Size([5]) eigenvectors shape torch.Size([5, 425])\n",
      "293 /home/phdcs2/Hard_Disk/Datasets/Deep-Spectral-Segmentation/data/object-segmentation/ECSSD/features/dino_vits16/0294.pth\n",
      "dict_keys(['k', 'indices', 'file', 'id', 'model_name', 'patch_size', 'shape'])\n",
      "0294\n",
      "Starting Training\n",
      "epoch: 00, loss: -0.07765\n",
      "epoch: 01, loss: -0.10058\n",
      "epoch: 02, loss: -0.10485\n",
      "epoch: 03, loss: -0.10751\n",
      "epoch: 04, loss: -0.10988\n",
      "epoch: 05, loss: -0.10920\n",
      "epoch: 06, loss: -0.10827\n",
      "epoch: 07, loss: -0.11140\n",
      "epoch: 08, loss: -0.10882\n",
      "epoch: 09, loss: -0.11019\n",
      "torch.Size([425, 64])\n",
      "<class 'numpy.ndarray'>\n"
     ]
    },
    {
     "name": "stderr",
     "output_type": "stream",
     "text": [
      " 29%|██▉       | 294/1000 [1:07:31<5:04:24, 25.87s/it]"
     ]
    },
    {
     "name": "stdout",
     "output_type": "stream",
     "text": [
      "eigenvalues shape torch.Size([5]) eigenvectors shape torch.Size([5, 425])\n",
      "294 /home/phdcs2/Hard_Disk/Datasets/Deep-Spectral-Segmentation/data/object-segmentation/ECSSD/features/dino_vits16/0295.pth\n",
      "dict_keys(['k', 'indices', 'file', 'id', 'model_name', 'patch_size', 'shape'])\n",
      "0295\n",
      "Starting Training\n",
      "epoch: 00, loss: -0.05479\n",
      "epoch: 01, loss: -0.07242\n",
      "epoch: 02, loss: -0.07594\n",
      "epoch: 03, loss: -0.07952\n",
      "epoch: 04, loss: -0.08084\n",
      "epoch: 05, loss: -0.07968\n",
      "epoch: 06, loss: -0.08139\n",
      "epoch: 07, loss: -0.08259\n",
      "epoch: 08, loss: -0.07985\n",
      "epoch: 09, loss: -0.08138\n",
      "torch.Size([425, 64])\n",
      "<class 'numpy.ndarray'>\n"
     ]
    },
    {
     "name": "stderr",
     "output_type": "stream",
     "text": [
      " 30%|██▉       | 295/1000 [1:07:58<5:08:06, 26.22s/it]"
     ]
    },
    {
     "name": "stdout",
     "output_type": "stream",
     "text": [
      "eigenvalues shape torch.Size([5]) eigenvectors shape torch.Size([5, 425])\n",
      "295 /home/phdcs2/Hard_Disk/Datasets/Deep-Spectral-Segmentation/data/object-segmentation/ECSSD/features/dino_vits16/0296.pth\n",
      "dict_keys(['k', 'indices', 'file', 'id', 'model_name', 'patch_size', 'shape'])\n",
      "0296\n",
      "Starting Training\n",
      "epoch: 00, loss: -0.02400\n",
      "epoch: 01, loss: -0.04612\n",
      "epoch: 02, loss: -0.05104\n",
      "epoch: 03, loss: -0.05054\n",
      "epoch: 04, loss: -0.05340\n",
      "epoch: 05, loss: -0.05079\n",
      "epoch: 06, loss: -0.05018\n",
      "epoch: 07, loss: -0.05176\n",
      "epoch: 08, loss: -0.05238\n",
      "epoch: 09, loss: -0.05281\n",
      "torch.Size([425, 64])\n",
      "<class 'numpy.ndarray'>\n"
     ]
    },
    {
     "name": "stderr",
     "output_type": "stream",
     "text": [
      " 30%|██▉       | 296/1000 [1:08:26<5:11:17, 26.53s/it]"
     ]
    },
    {
     "name": "stdout",
     "output_type": "stream",
     "text": [
      "eigenvalues shape torch.Size([5]) eigenvectors shape torch.Size([5, 425])\n",
      "296 /home/phdcs2/Hard_Disk/Datasets/Deep-Spectral-Segmentation/data/object-segmentation/ECSSD/features/dino_vits16/0297.pth\n",
      "dict_keys(['k', 'indices', 'file', 'id', 'model_name', 'patch_size', 'shape'])\n",
      "0297\n",
      "Starting Training\n",
      "epoch: 00, loss: -0.03081\n",
      "epoch: 01, loss: -0.04666\n",
      "epoch: 02, loss: -0.05006\n",
      "epoch: 03, loss: -0.05208\n",
      "epoch: 04, loss: -0.05126\n",
      "epoch: 05, loss: -0.05310\n",
      "epoch: 06, loss: -0.05208\n",
      "epoch: 07, loss: -0.05373\n",
      "epoch: 08, loss: -0.05231\n",
      "epoch: 09, loss: -0.05121\n",
      "torch.Size([475, 64])\n",
      "<class 'numpy.ndarray'>\n"
     ]
    },
    {
     "name": "stderr",
     "output_type": "stream",
     "text": [
      " 30%|██▉       | 297/1000 [1:08:52<5:09:41, 26.43s/it]"
     ]
    },
    {
     "name": "stdout",
     "output_type": "stream",
     "text": [
      "eigenvalues shape torch.Size([5]) eigenvectors shape torch.Size([5, 475])\n",
      "297 /home/phdcs2/Hard_Disk/Datasets/Deep-Spectral-Segmentation/data/object-segmentation/ECSSD/features/dino_vits16/0298.pth\n",
      "dict_keys(['k', 'indices', 'file', 'id', 'model_name', 'patch_size', 'shape'])\n",
      "0298\n",
      "Starting Training\n",
      "epoch: 00, loss: -0.07196\n",
      "epoch: 01, loss: -0.09938\n",
      "epoch: 02, loss: -0.10131\n",
      "epoch: 03, loss: -0.10252\n",
      "epoch: 04, loss: -0.10445\n",
      "epoch: 05, loss: -0.10554\n",
      "epoch: 06, loss: -0.10448\n",
      "epoch: 07, loss: -0.10490\n",
      "epoch: 08, loss: -0.10542\n",
      "epoch: 09, loss: -0.10604\n",
      "torch.Size([400, 64])\n",
      "<class 'numpy.ndarray'>\n"
     ]
    },
    {
     "name": "stderr",
     "output_type": "stream",
     "text": [
      " 30%|██▉       | 298/1000 [1:09:17<5:04:28, 26.02s/it]"
     ]
    },
    {
     "name": "stdout",
     "output_type": "stream",
     "text": [
      "eigenvalues shape torch.Size([5]) eigenvectors shape torch.Size([5, 400])\n",
      "298 /home/phdcs2/Hard_Disk/Datasets/Deep-Spectral-Segmentation/data/object-segmentation/ECSSD/features/dino_vits16/0299.pth\n",
      "dict_keys(['k', 'indices', 'file', 'id', 'model_name', 'patch_size', 'shape'])\n",
      "0299\n",
      "Starting Training\n",
      "epoch: 00, loss: -0.01676\n",
      "epoch: 01, loss: -0.03494\n",
      "epoch: 02, loss: -0.03803\n",
      "epoch: 03, loss: -0.03869\n",
      "epoch: 04, loss: -0.03945\n",
      "epoch: 05, loss: -0.03962\n",
      "epoch: 06, loss: -0.03960\n",
      "epoch: 07, loss: -0.03981\n",
      "epoch: 08, loss: -0.03979\n",
      "epoch: 09, loss: -0.03987\n",
      "torch.Size([450, 64])\n",
      "<class 'numpy.ndarray'>\n"
     ]
    },
    {
     "name": "stderr",
     "output_type": "stream",
     "text": [
      " 30%|██▉       | 299/1000 [1:09:46<5:14:39, 26.93s/it]"
     ]
    },
    {
     "name": "stdout",
     "output_type": "stream",
     "text": [
      "eigenvalues shape torch.Size([5]) eigenvectors shape torch.Size([5, 450])\n",
      "299 /home/phdcs2/Hard_Disk/Datasets/Deep-Spectral-Segmentation/data/object-segmentation/ECSSD/features/dino_vits16/0300.pth\n",
      "dict_keys(['k', 'indices', 'file', 'id', 'model_name', 'patch_size', 'shape'])\n",
      "0300\n",
      "Starting Training\n",
      "epoch: 00, loss: 0.00422\n",
      "epoch: 01, loss: -0.00649\n",
      "epoch: 02, loss: -0.01008\n",
      "epoch: 03, loss: -0.01202\n",
      "epoch: 04, loss: -0.01247\n",
      "epoch: 05, loss: -0.01398\n",
      "epoch: 06, loss: -0.01361\n",
      "epoch: 07, loss: -0.01439\n",
      "epoch: 08, loss: -0.01394\n",
      "epoch: 09, loss: -0.01496\n",
      "torch.Size([475, 64])\n",
      "<class 'numpy.ndarray'>\n"
     ]
    },
    {
     "name": "stderr",
     "output_type": "stream",
     "text": [
      " 30%|███       | 300/1000 [1:10:12<5:10:03, 26.58s/it]"
     ]
    },
    {
     "name": "stdout",
     "output_type": "stream",
     "text": [
      "eigenvalues shape torch.Size([5]) eigenvectors shape torch.Size([5, 475])\n",
      "300 /home/phdcs2/Hard_Disk/Datasets/Deep-Spectral-Segmentation/data/object-segmentation/ECSSD/features/dino_vits16/0301.pth\n",
      "dict_keys(['k', 'indices', 'file', 'id', 'model_name', 'patch_size', 'shape'])\n",
      "0301\n",
      "Starting Training\n",
      "epoch: 00, loss: -0.01889\n",
      "epoch: 01, loss: -0.04597\n",
      "epoch: 02, loss: -0.05335\n",
      "epoch: 03, loss: -0.05361\n",
      "epoch: 04, loss: -0.05547\n",
      "epoch: 05, loss: -0.05510\n",
      "epoch: 06, loss: -0.05836\n",
      "epoch: 07, loss: -0.05572\n",
      "epoch: 08, loss: -0.05731\n",
      "epoch: 09, loss: -0.05749\n",
      "torch.Size([400, 64])\n",
      "<class 'numpy.ndarray'>\n"
     ]
    },
    {
     "name": "stderr",
     "output_type": "stream",
     "text": [
      " 30%|███       | 301/1000 [1:10:36<5:00:13, 25.77s/it]"
     ]
    },
    {
     "name": "stdout",
     "output_type": "stream",
     "text": [
      "eigenvalues shape torch.Size([5]) eigenvectors shape torch.Size([5, 400])\n",
      "301 /home/phdcs2/Hard_Disk/Datasets/Deep-Spectral-Segmentation/data/object-segmentation/ECSSD/features/dino_vits16/0302.pth\n",
      "dict_keys(['k', 'indices', 'file', 'id', 'model_name', 'patch_size', 'shape'])\n",
      "0302\n",
      "Starting Training\n",
      "epoch: 00, loss: -0.01654\n",
      "epoch: 01, loss: -0.03890\n",
      "epoch: 02, loss: -0.04305\n",
      "epoch: 03, loss: -0.04268\n",
      "epoch: 04, loss: -0.04642\n",
      "epoch: 05, loss: -0.04651\n",
      "epoch: 06, loss: -0.04714\n",
      "epoch: 07, loss: -0.04725\n",
      "epoch: 08, loss: -0.04875\n",
      "epoch: 09, loss: -0.04810\n",
      "torch.Size([450, 64])\n",
      "<class 'numpy.ndarray'>\n"
     ]
    },
    {
     "name": "stderr",
     "output_type": "stream",
     "text": [
      " 30%|███       | 302/1000 [1:11:02<5:01:13, 25.89s/it]"
     ]
    },
    {
     "name": "stdout",
     "output_type": "stream",
     "text": [
      "eigenvalues shape torch.Size([5]) eigenvectors shape torch.Size([5, 450])\n",
      "302 /home/phdcs2/Hard_Disk/Datasets/Deep-Spectral-Segmentation/data/object-segmentation/ECSSD/features/dino_vits16/0303.pth\n",
      "dict_keys(['k', 'indices', 'file', 'id', 'model_name', 'patch_size', 'shape'])\n",
      "0303\n",
      "Starting Training\n",
      "epoch: 00, loss: 0.00532\n",
      "epoch: 01, loss: -0.00331\n",
      "epoch: 02, loss: -0.00689\n",
      "epoch: 03, loss: -0.01008\n",
      "epoch: 04, loss: -0.01122\n",
      "epoch: 05, loss: -0.01251\n",
      "epoch: 06, loss: -0.01286\n",
      "epoch: 07, loss: -0.01366\n",
      "epoch: 08, loss: -0.01403\n",
      "epoch: 09, loss: -0.01413\n",
      "torch.Size([450, 64])\n",
      "<class 'numpy.ndarray'>\n"
     ]
    },
    {
     "name": "stderr",
     "output_type": "stream",
     "text": [
      " 30%|███       | 303/1000 [1:11:29<5:05:20, 26.29s/it]"
     ]
    },
    {
     "name": "stdout",
     "output_type": "stream",
     "text": [
      "eigenvalues shape torch.Size([5]) eigenvectors shape torch.Size([5, 450])\n",
      "303 /home/phdcs2/Hard_Disk/Datasets/Deep-Spectral-Segmentation/data/object-segmentation/ECSSD/features/dino_vits16/0304.pth\n",
      "dict_keys(['k', 'indices', 'file', 'id', 'model_name', 'patch_size', 'shape'])\n",
      "0304\n",
      "Starting Training\n",
      "epoch: 00, loss: -0.01344\n",
      "epoch: 01, loss: -0.02930\n",
      "epoch: 02, loss: -0.03336\n",
      "epoch: 03, loss: -0.03468\n",
      "epoch: 04, loss: -0.03581\n",
      "epoch: 05, loss: -0.03598\n",
      "epoch: 06, loss: -0.03621\n",
      "epoch: 07, loss: -0.03692\n",
      "epoch: 08, loss: -0.03742\n",
      "epoch: 09, loss: -0.03696\n",
      "torch.Size([400, 64])\n",
      "<class 'numpy.ndarray'>\n"
     ]
    },
    {
     "name": "stderr",
     "output_type": "stream",
     "text": [
      " 30%|███       | 304/1000 [1:11:55<5:04:10, 26.22s/it]"
     ]
    },
    {
     "name": "stdout",
     "output_type": "stream",
     "text": [
      "eigenvalues shape torch.Size([5]) eigenvectors shape torch.Size([5, 400])\n",
      "304 /home/phdcs2/Hard_Disk/Datasets/Deep-Spectral-Segmentation/data/object-segmentation/ECSSD/features/dino_vits16/0305.pth\n",
      "dict_keys(['k', 'indices', 'file', 'id', 'model_name', 'patch_size', 'shape'])\n",
      "0305\n",
      "Starting Training\n",
      "epoch: 00, loss: -0.10696\n",
      "epoch: 01, loss: -0.13603\n",
      "epoch: 02, loss: -0.14063\n",
      "epoch: 03, loss: -0.14294\n",
      "epoch: 04, loss: -0.14744\n",
      "epoch: 05, loss: -0.14626\n",
      "epoch: 06, loss: -0.14583\n",
      "epoch: 07, loss: -0.14784\n",
      "epoch: 08, loss: -0.14453\n",
      "epoch: 09, loss: -0.14676\n",
      "torch.Size([400, 64])\n",
      "<class 'numpy.ndarray'>\n"
     ]
    },
    {
     "name": "stderr",
     "output_type": "stream",
     "text": [
      " 30%|███       | 305/1000 [1:12:20<5:00:02, 25.90s/it]"
     ]
    },
    {
     "name": "stdout",
     "output_type": "stream",
     "text": [
      "eigenvalues shape torch.Size([5]) eigenvectors shape torch.Size([5, 400])\n",
      "305 /home/phdcs2/Hard_Disk/Datasets/Deep-Spectral-Segmentation/data/object-segmentation/ECSSD/features/dino_vits16/0306.pth\n",
      "dict_keys(['k', 'indices', 'file', 'id', 'model_name', 'patch_size', 'shape'])\n",
      "0306\n",
      "Starting Training\n",
      "epoch: 00, loss: -0.02830\n",
      "epoch: 01, loss: -0.06094\n",
      "epoch: 02, loss: -0.06719\n",
      "epoch: 03, loss: -0.06629\n",
      "epoch: 04, loss: -0.06912\n",
      "epoch: 05, loss: -0.06899\n",
      "epoch: 06, loss: -0.07221\n",
      "epoch: 07, loss: -0.07030\n",
      "epoch: 08, loss: -0.06792\n",
      "epoch: 09, loss: -0.07072\n",
      "torch.Size([400, 64])\n",
      "<class 'numpy.ndarray'>\n"
     ]
    },
    {
     "name": "stderr",
     "output_type": "stream",
     "text": [
      " 31%|███       | 306/1000 [1:12:49<5:08:07, 26.64s/it]"
     ]
    },
    {
     "name": "stdout",
     "output_type": "stream",
     "text": [
      "eigenvalues shape torch.Size([5]) eigenvectors shape torch.Size([5, 400])\n",
      "306 /home/phdcs2/Hard_Disk/Datasets/Deep-Spectral-Segmentation/data/object-segmentation/ECSSD/features/dino_vits16/0307.pth\n",
      "dict_keys(['k', 'indices', 'file', 'id', 'model_name', 'patch_size', 'shape'])\n",
      "0307\n",
      "Starting Training\n",
      "epoch: 00, loss: -0.01625\n",
      "epoch: 01, loss: -0.03795\n",
      "epoch: 02, loss: -0.04108\n",
      "epoch: 03, loss: -0.04181\n",
      "epoch: 04, loss: -0.04200\n",
      "epoch: 05, loss: -0.04227\n",
      "epoch: 06, loss: -0.04244\n",
      "epoch: 07, loss: -0.04247\n",
      "epoch: 08, loss: -0.04267\n",
      "epoch: 09, loss: -0.04278\n",
      "torch.Size([450, 64])\n",
      "<class 'numpy.ndarray'>\n"
     ]
    },
    {
     "name": "stderr",
     "output_type": "stream",
     "text": [
      " 31%|███       | 307/1000 [1:13:17<5:12:23, 27.05s/it]"
     ]
    },
    {
     "name": "stdout",
     "output_type": "stream",
     "text": [
      "eigenvalues shape torch.Size([5]) eigenvectors shape torch.Size([5, 450])\n",
      "307 /home/phdcs2/Hard_Disk/Datasets/Deep-Spectral-Segmentation/data/object-segmentation/ECSSD/features/dino_vits16/0308.pth\n",
      "dict_keys(['k', 'indices', 'file', 'id', 'model_name', 'patch_size', 'shape'])\n",
      "0308\n",
      "Starting Training\n",
      "epoch: 00, loss: -0.03065\n",
      "epoch: 01, loss: -0.05168\n",
      "epoch: 02, loss: -0.05292\n",
      "epoch: 03, loss: -0.05358\n",
      "epoch: 04, loss: -0.05393\n",
      "epoch: 05, loss: -0.05403\n",
      "epoch: 06, loss: -0.05404\n",
      "epoch: 07, loss: -0.05444\n",
      "epoch: 08, loss: -0.05451\n",
      "epoch: 09, loss: -0.05452\n",
      "torch.Size([450, 64])\n",
      "<class 'numpy.ndarray'>\n"
     ]
    },
    {
     "name": "stderr",
     "output_type": "stream",
     "text": [
      " 31%|███       | 308/1000 [1:13:47<5:23:03, 28.01s/it]"
     ]
    },
    {
     "name": "stdout",
     "output_type": "stream",
     "text": [
      "eigenvalues shape torch.Size([5]) eigenvectors shape torch.Size([5, 450])\n",
      "308 /home/phdcs2/Hard_Disk/Datasets/Deep-Spectral-Segmentation/data/object-segmentation/ECSSD/features/dino_vits16/0309.pth\n",
      "dict_keys(['k', 'indices', 'file', 'id', 'model_name', 'patch_size', 'shape'])\n",
      "0309\n",
      "Starting Training\n",
      "epoch: 00, loss: -0.01490\n",
      "epoch: 01, loss: -0.04432\n",
      "epoch: 02, loss: -0.04994\n",
      "epoch: 03, loss: -0.05556\n",
      "epoch: 04, loss: -0.05626\n",
      "epoch: 05, loss: -0.05886\n",
      "epoch: 06, loss: -0.05601\n",
      "epoch: 07, loss: -0.05788\n",
      "epoch: 08, loss: -0.05800\n",
      "epoch: 09, loss: -0.05933\n",
      "torch.Size([400, 64])\n",
      "<class 'numpy.ndarray'>\n"
     ]
    },
    {
     "name": "stderr",
     "output_type": "stream",
     "text": [
      " 31%|███       | 309/1000 [1:14:07<4:53:50, 25.51s/it]"
     ]
    },
    {
     "name": "stdout",
     "output_type": "stream",
     "text": [
      "eigenvalues shape torch.Size([5]) eigenvectors shape torch.Size([5, 400])\n",
      "309 /home/phdcs2/Hard_Disk/Datasets/Deep-Spectral-Segmentation/data/object-segmentation/ECSSD/features/dino_vits16/0310.pth\n",
      "dict_keys(['k', 'indices', 'file', 'id', 'model_name', 'patch_size', 'shape'])\n",
      "0310\n",
      "Starting Training\n",
      "epoch: 00, loss: -0.07834\n",
      "epoch: 01, loss: -0.11398\n",
      "epoch: 02, loss: -0.11989\n",
      "epoch: 03, loss: -0.11898\n",
      "epoch: 04, loss: -0.11809\n",
      "epoch: 05, loss: -0.11950\n",
      "epoch: 06, loss: -0.11884\n",
      "epoch: 07, loss: -0.12178\n",
      "epoch: 08, loss: -0.12069\n",
      "epoch: 09, loss: -0.12190\n",
      "torch.Size([450, 64])\n",
      "<class 'numpy.ndarray'>\n"
     ]
    },
    {
     "name": "stderr",
     "output_type": "stream",
     "text": [
      " 31%|███       | 310/1000 [1:14:36<5:06:55, 26.69s/it]"
     ]
    },
    {
     "name": "stdout",
     "output_type": "stream",
     "text": [
      "eigenvalues shape torch.Size([5]) eigenvectors shape torch.Size([5, 450])\n",
      "310 /home/phdcs2/Hard_Disk/Datasets/Deep-Spectral-Segmentation/data/object-segmentation/ECSSD/features/dino_vits16/0311.pth\n",
      "dict_keys(['k', 'indices', 'file', 'id', 'model_name', 'patch_size', 'shape'])\n",
      "0311\n",
      "Starting Training\n",
      "epoch: 00, loss: -0.06216\n",
      "epoch: 01, loss: -0.09188\n",
      "epoch: 02, loss: -0.09559\n",
      "epoch: 03, loss: -0.09872\n",
      "epoch: 04, loss: -0.09778\n",
      "epoch: 05, loss: -0.09937\n",
      "epoch: 06, loss: -0.10030\n",
      "epoch: 07, loss: -0.09973\n",
      "epoch: 08, loss: -0.09787\n",
      "epoch: 09, loss: -0.09804\n",
      "torch.Size([400, 64])\n",
      "<class 'numpy.ndarray'>\n"
     ]
    },
    {
     "name": "stderr",
     "output_type": "stream",
     "text": [
      " 31%|███       | 311/1000 [1:15:00<4:57:22, 25.90s/it]"
     ]
    },
    {
     "name": "stdout",
     "output_type": "stream",
     "text": [
      "eigenvalues shape torch.Size([5]) eigenvectors shape torch.Size([5, 400])\n",
      "311 /home/phdcs2/Hard_Disk/Datasets/Deep-Spectral-Segmentation/data/object-segmentation/ECSSD/features/dino_vits16/0312.pth\n",
      "dict_keys(['k', 'indices', 'file', 'id', 'model_name', 'patch_size', 'shape'])\n",
      "0312\n",
      "Starting Training\n",
      "epoch: 00, loss: -0.01813\n",
      "epoch: 01, loss: -0.03763\n",
      "epoch: 02, loss: -0.04388\n",
      "epoch: 03, loss: -0.04412\n",
      "epoch: 04, loss: -0.04555\n",
      "epoch: 05, loss: -0.04416\n",
      "epoch: 06, loss: -0.04667\n",
      "epoch: 07, loss: -0.04536\n",
      "epoch: 08, loss: -0.04502\n",
      "epoch: 09, loss: -0.04791\n",
      "torch.Size([400, 64])\n",
      "<class 'numpy.ndarray'>\n"
     ]
    },
    {
     "name": "stderr",
     "output_type": "stream",
     "text": [
      " 31%|███       | 312/1000 [1:15:24<4:49:59, 25.29s/it]"
     ]
    },
    {
     "name": "stdout",
     "output_type": "stream",
     "text": [
      "eigenvalues shape torch.Size([5]) eigenvectors shape torch.Size([5, 400])\n",
      "312 /home/phdcs2/Hard_Disk/Datasets/Deep-Spectral-Segmentation/data/object-segmentation/ECSSD/features/dino_vits16/0313.pth\n",
      "dict_keys(['k', 'indices', 'file', 'id', 'model_name', 'patch_size', 'shape'])\n",
      "0313\n",
      "Starting Training\n",
      "epoch: 00, loss: -0.00022\n",
      "epoch: 01, loss: -0.01884\n",
      "epoch: 02, loss: -0.02447\n",
      "epoch: 03, loss: -0.02623\n",
      "epoch: 04, loss: -0.02746\n",
      "epoch: 05, loss: -0.02778\n",
      "epoch: 06, loss: -0.02816\n",
      "epoch: 07, loss: -0.02842\n",
      "epoch: 08, loss: -0.02843\n",
      "epoch: 09, loss: -0.02869\n",
      "torch.Size([400, 64])\n",
      "<class 'numpy.ndarray'>\n"
     ]
    },
    {
     "name": "stderr",
     "output_type": "stream",
     "text": [
      " 31%|███▏      | 313/1000 [1:15:52<4:58:23, 26.06s/it]"
     ]
    },
    {
     "name": "stdout",
     "output_type": "stream",
     "text": [
      "eigenvalues shape torch.Size([5]) eigenvectors shape torch.Size([5, 400])\n",
      "313 /home/phdcs2/Hard_Disk/Datasets/Deep-Spectral-Segmentation/data/object-segmentation/ECSSD/features/dino_vits16/0314.pth\n",
      "dict_keys(['k', 'indices', 'file', 'id', 'model_name', 'patch_size', 'shape'])\n",
      "0314\n",
      "Starting Training\n",
      "epoch: 00, loss: -0.01814\n",
      "epoch: 01, loss: -0.03763\n",
      "epoch: 02, loss: -0.04040\n",
      "epoch: 03, loss: -0.04410\n",
      "epoch: 04, loss: -0.04355\n",
      "epoch: 05, loss: -0.04458\n",
      "epoch: 06, loss: -0.04478\n",
      "epoch: 07, loss: -0.04480\n",
      "epoch: 08, loss: -0.04438\n",
      "epoch: 09, loss: -0.04552\n",
      "torch.Size([400, 64])\n",
      "<class 'numpy.ndarray'>\n"
     ]
    },
    {
     "name": "stderr",
     "output_type": "stream",
     "text": [
      " 31%|███▏      | 314/1000 [1:16:15<4:47:20, 25.13s/it]"
     ]
    },
    {
     "name": "stdout",
     "output_type": "stream",
     "text": [
      "eigenvalues shape torch.Size([5]) eigenvectors shape torch.Size([5, 400])\n",
      "314 /home/phdcs2/Hard_Disk/Datasets/Deep-Spectral-Segmentation/data/object-segmentation/ECSSD/features/dino_vits16/0315.pth\n",
      "dict_keys(['k', 'indices', 'file', 'id', 'model_name', 'patch_size', 'shape'])\n",
      "0315\n",
      "Starting Training\n",
      "epoch: 00, loss: -0.04053\n",
      "epoch: 01, loss: -0.06149\n",
      "epoch: 02, loss: -0.06248\n",
      "epoch: 03, loss: -0.06285\n",
      "epoch: 04, loss: -0.06297\n",
      "epoch: 05, loss: -0.06327\n",
      "epoch: 06, loss: -0.06356\n",
      "epoch: 07, loss: -0.06355\n",
      "epoch: 08, loss: -0.06378\n",
      "epoch: 09, loss: -0.06386\n",
      "torch.Size([450, 64])\n",
      "<class 'numpy.ndarray'>\n"
     ]
    },
    {
     "name": "stderr",
     "output_type": "stream",
     "text": [
      " 32%|███▏      | 315/1000 [1:16:41<4:49:38, 25.37s/it]"
     ]
    },
    {
     "name": "stdout",
     "output_type": "stream",
     "text": [
      "eigenvalues shape torch.Size([5]) eigenvectors shape torch.Size([5, 450])\n",
      "315 /home/phdcs2/Hard_Disk/Datasets/Deep-Spectral-Segmentation/data/object-segmentation/ECSSD/features/dino_vits16/0316.pth\n",
      "dict_keys(['k', 'indices', 'file', 'id', 'model_name', 'patch_size', 'shape'])\n",
      "0316\n",
      "Starting Training\n",
      "epoch: 00, loss: -0.01747\n",
      "epoch: 01, loss: -0.03565\n",
      "epoch: 02, loss: -0.03841\n",
      "epoch: 03, loss: -0.03898\n",
      "epoch: 04, loss: -0.03920\n",
      "epoch: 05, loss: -0.03939\n",
      "epoch: 06, loss: -0.03949\n",
      "epoch: 07, loss: -0.03966\n",
      "epoch: 08, loss: -0.03975\n",
      "epoch: 09, loss: -0.03995\n",
      "torch.Size([450, 64])\n",
      "<class 'numpy.ndarray'>\n"
     ]
    },
    {
     "name": "stderr",
     "output_type": "stream",
     "text": [
      " 32%|███▏      | 316/1000 [1:17:10<5:02:36, 26.54s/it]"
     ]
    },
    {
     "name": "stdout",
     "output_type": "stream",
     "text": [
      "eigenvalues shape torch.Size([5]) eigenvectors shape torch.Size([5, 450])\n",
      "316 /home/phdcs2/Hard_Disk/Datasets/Deep-Spectral-Segmentation/data/object-segmentation/ECSSD/features/dino_vits16/0317.pth\n",
      "dict_keys(['k', 'indices', 'file', 'id', 'model_name', 'patch_size', 'shape'])\n",
      "0317\n",
      "Starting Training\n",
      "epoch: 00, loss: -0.02294\n",
      "epoch: 01, loss: -0.05143\n",
      "epoch: 02, loss: -0.05014\n",
      "epoch: 03, loss: -0.05294\n",
      "epoch: 04, loss: -0.05370\n",
      "epoch: 05, loss: -0.05459\n",
      "epoch: 06, loss: -0.05784\n",
      "epoch: 07, loss: -0.05550\n",
      "epoch: 08, loss: -0.05396\n",
      "epoch: 09, loss: -0.05723\n",
      "torch.Size([450, 64])\n",
      "<class 'numpy.ndarray'>\n"
     ]
    },
    {
     "name": "stderr",
     "output_type": "stream",
     "text": [
      " 32%|███▏      | 317/1000 [1:17:40<5:12:28, 27.45s/it]"
     ]
    },
    {
     "name": "stdout",
     "output_type": "stream",
     "text": [
      "eigenvalues shape torch.Size([5]) eigenvectors shape torch.Size([5, 450])\n",
      "317 /home/phdcs2/Hard_Disk/Datasets/Deep-Spectral-Segmentation/data/object-segmentation/ECSSD/features/dino_vits16/0318.pth\n",
      "dict_keys(['k', 'indices', 'file', 'id', 'model_name', 'patch_size', 'shape'])\n",
      "0318\n",
      "Starting Training\n",
      "epoch: 00, loss: -0.05535\n",
      "epoch: 01, loss: -0.07984\n",
      "epoch: 02, loss: -0.08014\n",
      "epoch: 03, loss: -0.08096\n",
      "epoch: 04, loss: -0.08092\n",
      "epoch: 05, loss: -0.08096\n",
      "epoch: 06, loss: -0.08119\n",
      "epoch: 07, loss: -0.08115\n",
      "epoch: 08, loss: -0.08126\n",
      "epoch: 09, loss: -0.08139\n",
      "torch.Size([450, 64])\n",
      "<class 'numpy.ndarray'>\n"
     ]
    },
    {
     "name": "stderr",
     "output_type": "stream",
     "text": [
      " 32%|███▏      | 318/1000 [1:18:05<5:04:53, 26.82s/it]"
     ]
    },
    {
     "name": "stdout",
     "output_type": "stream",
     "text": [
      "eigenvalues shape torch.Size([5]) eigenvectors shape torch.Size([5, 450])\n",
      "318 /home/phdcs2/Hard_Disk/Datasets/Deep-Spectral-Segmentation/data/object-segmentation/ECSSD/features/dino_vits16/0319.pth\n",
      "dict_keys(['k', 'indices', 'file', 'id', 'model_name', 'patch_size', 'shape'])\n",
      "0319\n",
      "Starting Training\n",
      "epoch: 00, loss: -0.02252\n",
      "epoch: 01, loss: -0.04586\n",
      "epoch: 02, loss: -0.05056\n",
      "epoch: 03, loss: -0.05627\n",
      "epoch: 04, loss: -0.05578\n",
      "epoch: 05, loss: -0.05352\n",
      "epoch: 06, loss: -0.05661\n",
      "epoch: 07, loss: -0.05731\n",
      "epoch: 08, loss: -0.05838\n",
      "epoch: 09, loss: -0.05555\n",
      "torch.Size([450, 64])\n",
      "<class 'numpy.ndarray'>\n"
     ]
    },
    {
     "name": "stderr",
     "output_type": "stream",
     "text": [
      " 32%|███▏      | 319/1000 [1:18:31<5:03:08, 26.71s/it]"
     ]
    },
    {
     "name": "stdout",
     "output_type": "stream",
     "text": [
      "eigenvalues shape torch.Size([5]) eigenvectors shape torch.Size([5, 450])\n",
      "319 /home/phdcs2/Hard_Disk/Datasets/Deep-Spectral-Segmentation/data/object-segmentation/ECSSD/features/dino_vits16/0320.pth\n",
      "dict_keys(['k', 'indices', 'file', 'id', 'model_name', 'patch_size', 'shape'])\n",
      "0320\n",
      "Starting Training\n",
      "epoch: 00, loss: -0.07346\n",
      "epoch: 01, loss: -0.09997\n",
      "epoch: 02, loss: -0.10355\n",
      "epoch: 03, loss: -0.10564\n",
      "epoch: 04, loss: -0.10748\n",
      "epoch: 05, loss: -0.10443\n",
      "epoch: 06, loss: -0.10800\n",
      "epoch: 07, loss: -0.10986\n",
      "epoch: 08, loss: -0.10911\n",
      "epoch: 09, loss: -0.10905\n",
      "torch.Size([450, 64])\n",
      "<class 'numpy.ndarray'>\n"
     ]
    },
    {
     "name": "stderr",
     "output_type": "stream",
     "text": [
      " 32%|███▏      | 320/1000 [1:19:00<5:10:06, 27.36s/it]"
     ]
    },
    {
     "name": "stdout",
     "output_type": "stream",
     "text": [
      "eigenvalues shape torch.Size([5]) eigenvectors shape torch.Size([5, 450])\n",
      "320 /home/phdcs2/Hard_Disk/Datasets/Deep-Spectral-Segmentation/data/object-segmentation/ECSSD/features/dino_vits16/0321.pth\n",
      "dict_keys(['k', 'indices', 'file', 'id', 'model_name', 'patch_size', 'shape'])\n",
      "0321\n",
      "Starting Training\n",
      "epoch: 00, loss: -0.00596\n",
      "epoch: 01, loss: -0.02158\n",
      "epoch: 02, loss: -0.02257\n",
      "epoch: 03, loss: -0.02666\n",
      "epoch: 04, loss: -0.02689\n",
      "epoch: 05, loss: -0.02641\n",
      "epoch: 06, loss: -0.02863\n",
      "epoch: 07, loss: -0.03052\n",
      "epoch: 08, loss: -0.02775\n",
      "epoch: 09, loss: -0.02882\n",
      "torch.Size([500, 64])\n",
      "<class 'numpy.ndarray'>\n"
     ]
    },
    {
     "name": "stderr",
     "output_type": "stream",
     "text": [
      " 32%|███▏      | 321/1000 [1:19:33<5:27:47, 28.96s/it]"
     ]
    },
    {
     "name": "stdout",
     "output_type": "stream",
     "text": [
      "eigenvalues shape torch.Size([5]) eigenvectors shape torch.Size([5, 500])\n",
      "321 /home/phdcs2/Hard_Disk/Datasets/Deep-Spectral-Segmentation/data/object-segmentation/ECSSD/features/dino_vits16/0322.pth\n",
      "dict_keys(['k', 'indices', 'file', 'id', 'model_name', 'patch_size', 'shape'])\n",
      "0322\n",
      "Starting Training\n",
      "epoch: 00, loss: -0.04497\n",
      "epoch: 01, loss: -0.07498\n",
      "epoch: 02, loss: -0.08082\n",
      "epoch: 03, loss: -0.08206\n",
      "epoch: 04, loss: -0.08165\n",
      "epoch: 05, loss: -0.08238\n",
      "epoch: 06, loss: -0.08430\n",
      "epoch: 07, loss: -0.08511\n",
      "epoch: 08, loss: -0.08417\n",
      "epoch: 09, loss: -0.08245\n",
      "torch.Size([450, 64])\n",
      "<class 'numpy.ndarray'>\n"
     ]
    },
    {
     "name": "stderr",
     "output_type": "stream",
     "text": [
      " 32%|███▏      | 322/1000 [1:19:55<5:04:43, 26.97s/it]"
     ]
    },
    {
     "name": "stdout",
     "output_type": "stream",
     "text": [
      "eigenvalues shape torch.Size([5]) eigenvectors shape torch.Size([5, 450])\n",
      "322 /home/phdcs2/Hard_Disk/Datasets/Deep-Spectral-Segmentation/data/object-segmentation/ECSSD/features/dino_vits16/0323.pth\n",
      "dict_keys(['k', 'indices', 'file', 'id', 'model_name', 'patch_size', 'shape'])\n",
      "0323\n",
      "Starting Training\n",
      "epoch: 00, loss: -0.04869\n",
      "epoch: 01, loss: -0.06519\n",
      "epoch: 02, loss: -0.06569\n",
      "epoch: 03, loss: -0.06580\n",
      "epoch: 04, loss: -0.06625\n",
      "epoch: 05, loss: -0.06648\n",
      "epoch: 06, loss: -0.06673\n",
      "epoch: 07, loss: -0.06668\n",
      "epoch: 08, loss: -0.06680\n",
      "epoch: 09, loss: -0.06705\n",
      "torch.Size([450, 64])\n",
      "<class 'numpy.ndarray'>\n"
     ]
    },
    {
     "name": "stderr",
     "output_type": "stream",
     "text": [
      " 32%|███▏      | 323/1000 [1:20:20<4:58:16, 26.44s/it]"
     ]
    },
    {
     "name": "stdout",
     "output_type": "stream",
     "text": [
      "eigenvalues shape torch.Size([5]) eigenvectors shape torch.Size([5, 450])\n",
      "323 /home/phdcs2/Hard_Disk/Datasets/Deep-Spectral-Segmentation/data/object-segmentation/ECSSD/features/dino_vits16/0324.pth\n",
      "dict_keys(['k', 'indices', 'file', 'id', 'model_name', 'patch_size', 'shape'])\n",
      "0324\n",
      "Starting Training\n",
      "epoch: 00, loss: -0.02949\n",
      "epoch: 01, loss: -0.05379\n",
      "epoch: 02, loss: -0.05489\n",
      "epoch: 03, loss: -0.05593\n",
      "epoch: 04, loss: -0.05582\n",
      "epoch: 05, loss: -0.05635\n",
      "epoch: 06, loss: -0.05641\n",
      "epoch: 07, loss: -0.05665\n",
      "epoch: 08, loss: -0.05668\n",
      "epoch: 09, loss: -0.05679\n",
      "torch.Size([450, 64])\n",
      "<class 'numpy.ndarray'>\n"
     ]
    },
    {
     "name": "stderr",
     "output_type": "stream",
     "text": [
      " 32%|███▏      | 324/1000 [1:20:45<4:49:55, 25.73s/it]"
     ]
    },
    {
     "name": "stdout",
     "output_type": "stream",
     "text": [
      "eigenvalues shape torch.Size([5]) eigenvectors shape torch.Size([5, 450])\n",
      "324 /home/phdcs2/Hard_Disk/Datasets/Deep-Spectral-Segmentation/data/object-segmentation/ECSSD/features/dino_vits16/0325.pth\n",
      "dict_keys(['k', 'indices', 'file', 'id', 'model_name', 'patch_size', 'shape'])\n",
      "0325\n",
      "Starting Training\n",
      "epoch: 00, loss: -0.01495\n",
      "epoch: 01, loss: -0.02705\n",
      "epoch: 02, loss: -0.02937\n",
      "epoch: 03, loss: -0.03015\n",
      "epoch: 04, loss: -0.03060\n",
      "epoch: 05, loss: -0.03089\n",
      "epoch: 06, loss: -0.03125\n",
      "epoch: 07, loss: -0.03129\n",
      "epoch: 08, loss: -0.03140\n",
      "epoch: 09, loss: -0.03146\n",
      "torch.Size([450, 64])\n",
      "<class 'numpy.ndarray'>\n"
     ]
    },
    {
     "name": "stderr",
     "output_type": "stream",
     "text": [
      " 32%|███▎      | 325/1000 [1:21:07<4:37:36, 24.68s/it]"
     ]
    },
    {
     "name": "stdout",
     "output_type": "stream",
     "text": [
      "eigenvalues shape torch.Size([5]) eigenvectors shape torch.Size([5, 450])\n",
      "325 /home/phdcs2/Hard_Disk/Datasets/Deep-Spectral-Segmentation/data/object-segmentation/ECSSD/features/dino_vits16/0326.pth\n",
      "dict_keys(['k', 'indices', 'file', 'id', 'model_name', 'patch_size', 'shape'])\n",
      "0326\n",
      "Starting Training\n",
      "epoch: 00, loss: -0.00710\n",
      "epoch: 01, loss: -0.03222\n",
      "epoch: 02, loss: -0.03807\n",
      "epoch: 03, loss: -0.03940\n",
      "epoch: 04, loss: -0.04326\n",
      "epoch: 05, loss: -0.04101\n",
      "epoch: 06, loss: -0.03977\n",
      "epoch: 07, loss: -0.04237\n",
      "epoch: 08, loss: -0.03959\n",
      "epoch: 09, loss: -0.04366\n",
      "torch.Size([425, 64])\n",
      "<class 'numpy.ndarray'>\n"
     ]
    },
    {
     "name": "stderr",
     "output_type": "stream",
     "text": [
      " 33%|███▎      | 326/1000 [1:21:33<4:42:30, 25.15s/it]"
     ]
    },
    {
     "name": "stdout",
     "output_type": "stream",
     "text": [
      "eigenvalues shape torch.Size([5]) eigenvectors shape torch.Size([5, 425])\n",
      "326 /home/phdcs2/Hard_Disk/Datasets/Deep-Spectral-Segmentation/data/object-segmentation/ECSSD/features/dino_vits16/0327.pth\n",
      "dict_keys(['k', 'indices', 'file', 'id', 'model_name', 'patch_size', 'shape'])\n",
      "0327\n",
      "Starting Training\n",
      "epoch: 00, loss: -0.00448\n",
      "epoch: 01, loss: -0.02000\n",
      "epoch: 02, loss: -0.02409\n",
      "epoch: 03, loss: -0.02549\n",
      "epoch: 04, loss: -0.02607\n",
      "epoch: 05, loss: -0.02645\n",
      "epoch: 06, loss: -0.02679\n",
      "epoch: 07, loss: -0.02692\n",
      "epoch: 08, loss: -0.02713\n",
      "epoch: 09, loss: -0.02720\n",
      "torch.Size([450, 64])\n",
      "<class 'numpy.ndarray'>\n"
     ]
    },
    {
     "name": "stderr",
     "output_type": "stream",
     "text": [
      " 33%|███▎      | 327/1000 [1:21:59<4:43:21, 25.26s/it]"
     ]
    },
    {
     "name": "stdout",
     "output_type": "stream",
     "text": [
      "eigenvalues shape torch.Size([5]) eigenvectors shape torch.Size([5, 450])\n",
      "327 /home/phdcs2/Hard_Disk/Datasets/Deep-Spectral-Segmentation/data/object-segmentation/ECSSD/features/dino_vits16/0328.pth\n",
      "dict_keys(['k', 'indices', 'file', 'id', 'model_name', 'patch_size', 'shape'])\n",
      "0328\n",
      "Starting Training\n",
      "epoch: 00, loss: -0.02349\n",
      "epoch: 01, loss: -0.03888\n",
      "epoch: 02, loss: -0.04087\n",
      "epoch: 03, loss: -0.04023\n",
      "epoch: 04, loss: -0.04054\n",
      "epoch: 05, loss: -0.04076\n",
      "epoch: 06, loss: -0.04087\n",
      "epoch: 07, loss: -0.04189\n",
      "epoch: 08, loss: -0.04200\n",
      "epoch: 09, loss: -0.04235\n",
      "torch.Size([475, 64])\n",
      "<class 'numpy.ndarray'>\n"
     ]
    },
    {
     "name": "stderr",
     "output_type": "stream",
     "text": [
      " 33%|███▎      | 328/1000 [1:22:24<4:43:14, 25.29s/it]"
     ]
    },
    {
     "name": "stdout",
     "output_type": "stream",
     "text": [
      "eigenvalues shape torch.Size([5]) eigenvectors shape torch.Size([5, 475])\n",
      "328 /home/phdcs2/Hard_Disk/Datasets/Deep-Spectral-Segmentation/data/object-segmentation/ECSSD/features/dino_vits16/0329.pth\n",
      "dict_keys(['k', 'indices', 'file', 'id', 'model_name', 'patch_size', 'shape'])\n",
      "0329\n",
      "Starting Training\n",
      "epoch: 00, loss: -0.02965\n",
      "epoch: 01, loss: -0.05436\n",
      "epoch: 02, loss: -0.05533\n",
      "epoch: 03, loss: -0.05568\n",
      "epoch: 04, loss: -0.05610\n",
      "epoch: 05, loss: -0.05617\n",
      "epoch: 06, loss: -0.05624\n",
      "epoch: 07, loss: -0.05651\n",
      "epoch: 08, loss: -0.05671\n",
      "epoch: 09, loss: -0.05665\n",
      "torch.Size([500, 64])\n",
      "<class 'numpy.ndarray'>\n"
     ]
    },
    {
     "name": "stderr",
     "output_type": "stream",
     "text": [
      " 33%|███▎      | 329/1000 [1:22:49<4:43:44, 25.37s/it]"
     ]
    },
    {
     "name": "stdout",
     "output_type": "stream",
     "text": [
      "eigenvalues shape torch.Size([5]) eigenvectors shape torch.Size([5, 500])\n",
      "329 /home/phdcs2/Hard_Disk/Datasets/Deep-Spectral-Segmentation/data/object-segmentation/ECSSD/features/dino_vits16/0330.pth\n",
      "dict_keys(['k', 'indices', 'file', 'id', 'model_name', 'patch_size', 'shape'])\n",
      "0330\n",
      "Starting Training\n",
      "epoch: 00, loss: -0.00597\n",
      "epoch: 01, loss: -0.02565\n",
      "epoch: 02, loss: -0.02958\n",
      "epoch: 03, loss: -0.03084\n",
      "epoch: 04, loss: -0.03131\n",
      "epoch: 05, loss: -0.03161\n",
      "epoch: 06, loss: -0.03194\n",
      "epoch: 07, loss: -0.03207\n",
      "epoch: 08, loss: -0.03219\n",
      "epoch: 09, loss: -0.03242\n",
      "torch.Size([450, 64])\n",
      "<class 'numpy.ndarray'>\n"
     ]
    },
    {
     "name": "stderr",
     "output_type": "stream",
     "text": [
      " 33%|███▎      | 330/1000 [1:23:17<4:51:20, 26.09s/it]"
     ]
    },
    {
     "name": "stdout",
     "output_type": "stream",
     "text": [
      "eigenvalues shape torch.Size([5]) eigenvectors shape torch.Size([5, 450])\n",
      "330 /home/phdcs2/Hard_Disk/Datasets/Deep-Spectral-Segmentation/data/object-segmentation/ECSSD/features/dino_vits16/0331.pth\n",
      "dict_keys(['k', 'indices', 'file', 'id', 'model_name', 'patch_size', 'shape'])\n",
      "0331\n",
      "Starting Training\n",
      "epoch: 00, loss: -0.07642\n",
      "epoch: 01, loss: -0.10452\n",
      "epoch: 02, loss: -0.10456\n",
      "epoch: 03, loss: -0.10479\n",
      "epoch: 04, loss: -0.10493\n",
      "epoch: 05, loss: -0.10531\n",
      "epoch: 06, loss: -0.10529\n",
      "epoch: 07, loss: -0.10536\n",
      "epoch: 08, loss: -0.10554\n",
      "epoch: 09, loss: -0.10558\n",
      "torch.Size([450, 64])\n",
      "<class 'numpy.ndarray'>\n"
     ]
    },
    {
     "name": "stderr",
     "output_type": "stream",
     "text": [
      " 33%|███▎      | 331/1000 [1:23:39<4:35:19, 24.69s/it]"
     ]
    },
    {
     "name": "stdout",
     "output_type": "stream",
     "text": [
      "eigenvalues shape torch.Size([5]) eigenvectors shape torch.Size([5, 450])\n",
      "331 /home/phdcs2/Hard_Disk/Datasets/Deep-Spectral-Segmentation/data/object-segmentation/ECSSD/features/dino_vits16/0332.pth\n",
      "dict_keys(['k', 'indices', 'file', 'id', 'model_name', 'patch_size', 'shape'])\n",
      "0332\n",
      "Starting Training\n",
      "epoch: 00, loss: -0.04308\n",
      "epoch: 01, loss: -0.07474\n",
      "epoch: 02, loss: -0.07729\n",
      "epoch: 03, loss: -0.07975\n",
      "epoch: 04, loss: -0.07914\n",
      "epoch: 05, loss: -0.08052\n",
      "epoch: 06, loss: -0.08161\n",
      "epoch: 07, loss: -0.08232\n",
      "epoch: 08, loss: -0.08108\n",
      "epoch: 09, loss: -0.08209\n",
      "torch.Size([400, 64])\n",
      "<class 'numpy.ndarray'>\n"
     ]
    },
    {
     "name": "stderr",
     "output_type": "stream",
     "text": [
      " 33%|███▎      | 332/1000 [1:23:59<4:20:38, 23.41s/it]"
     ]
    },
    {
     "name": "stdout",
     "output_type": "stream",
     "text": [
      "eigenvalues shape torch.Size([5]) eigenvectors shape torch.Size([5, 400])\n",
      "332 /home/phdcs2/Hard_Disk/Datasets/Deep-Spectral-Segmentation/data/object-segmentation/ECSSD/features/dino_vits16/0333.pth\n",
      "dict_keys(['k', 'indices', 'file', 'id', 'model_name', 'patch_size', 'shape'])\n",
      "0333\n",
      "Starting Training\n",
      "epoch: 00, loss: -0.03463\n",
      "epoch: 01, loss: -0.06154\n",
      "epoch: 02, loss: -0.06342\n",
      "epoch: 03, loss: -0.06352\n",
      "epoch: 04, loss: -0.06405\n",
      "epoch: 05, loss: -0.06400\n",
      "epoch: 06, loss: -0.06415\n",
      "epoch: 07, loss: -0.06428\n",
      "epoch: 08, loss: -0.06451\n",
      "epoch: 09, loss: -0.06452\n",
      "torch.Size([400, 64])\n",
      "<class 'numpy.ndarray'>\n"
     ]
    },
    {
     "name": "stderr",
     "output_type": "stream",
     "text": [
      " 33%|███▎      | 333/1000 [1:24:20<4:11:20, 22.61s/it]"
     ]
    },
    {
     "name": "stdout",
     "output_type": "stream",
     "text": [
      "eigenvalues shape torch.Size([5]) eigenvectors shape torch.Size([5, 400])\n",
      "333 /home/phdcs2/Hard_Disk/Datasets/Deep-Spectral-Segmentation/data/object-segmentation/ECSSD/features/dino_vits16/0334.pth\n",
      "dict_keys(['k', 'indices', 'file', 'id', 'model_name', 'patch_size', 'shape'])\n",
      "0334\n",
      "Starting Training\n",
      "epoch: 00, loss: -0.04018\n",
      "epoch: 01, loss: -0.05537\n",
      "epoch: 02, loss: -0.05608\n",
      "epoch: 03, loss: -0.05701\n",
      "epoch: 04, loss: -0.05692\n",
      "epoch: 05, loss: -0.05701\n",
      "epoch: 06, loss: -0.05727\n",
      "epoch: 07, loss: -0.05753\n",
      "epoch: 08, loss: -0.05751\n",
      "epoch: 09, loss: -0.05765\n",
      "torch.Size([450, 64])\n",
      "<class 'numpy.ndarray'>\n"
     ]
    },
    {
     "name": "stderr",
     "output_type": "stream",
     "text": [
      " 33%|███▎      | 334/1000 [1:24:42<4:09:26, 22.47s/it]"
     ]
    },
    {
     "name": "stdout",
     "output_type": "stream",
     "text": [
      "eigenvalues shape torch.Size([5]) eigenvectors shape torch.Size([5, 450])\n",
      "334 /home/phdcs2/Hard_Disk/Datasets/Deep-Spectral-Segmentation/data/object-segmentation/ECSSD/features/dino_vits16/0335.pth\n",
      "dict_keys(['k', 'indices', 'file', 'id', 'model_name', 'patch_size', 'shape'])\n",
      "0335\n",
      "Starting Training\n",
      "epoch: 00, loss: -0.00627\n",
      "epoch: 01, loss: -0.03449\n",
      "epoch: 02, loss: -0.04062\n",
      "epoch: 03, loss: -0.04217\n",
      "epoch: 04, loss: -0.04240\n",
      "epoch: 05, loss: -0.04280\n",
      "epoch: 06, loss: -0.04288\n",
      "epoch: 07, loss: -0.04311\n",
      "epoch: 08, loss: -0.04316\n",
      "epoch: 09, loss: -0.04337\n",
      "torch.Size([400, 64])\n",
      "<class 'numpy.ndarray'>\n"
     ]
    },
    {
     "name": "stderr",
     "output_type": "stream",
     "text": [
      " 34%|███▎      | 335/1000 [1:25:05<4:10:13, 22.58s/it]"
     ]
    },
    {
     "name": "stdout",
     "output_type": "stream",
     "text": [
      "eigenvalues shape torch.Size([5]) eigenvectors shape torch.Size([5, 400])\n",
      "335 /home/phdcs2/Hard_Disk/Datasets/Deep-Spectral-Segmentation/data/object-segmentation/ECSSD/features/dino_vits16/0336.pth\n",
      "dict_keys(['k', 'indices', 'file', 'id', 'model_name', 'patch_size', 'shape'])\n",
      "0336\n",
      "Starting Training\n",
      "epoch: 00, loss: -0.13947\n",
      "epoch: 01, loss: -0.17474\n",
      "epoch: 02, loss: -0.17807\n",
      "epoch: 03, loss: -0.17795\n",
      "epoch: 04, loss: -0.17909\n",
      "epoch: 05, loss: -0.18081\n",
      "epoch: 06, loss: -0.18119\n",
      "epoch: 07, loss: -0.18074\n",
      "epoch: 08, loss: -0.18071\n",
      "epoch: 09, loss: -0.18125\n",
      "torch.Size([450, 64])\n",
      "<class 'numpy.ndarray'>\n"
     ]
    },
    {
     "name": "stderr",
     "output_type": "stream",
     "text": [
      " 34%|███▎      | 336/1000 [1:25:28<4:12:22, 22.80s/it]"
     ]
    },
    {
     "name": "stdout",
     "output_type": "stream",
     "text": [
      "eigenvalues shape torch.Size([5]) eigenvectors shape torch.Size([5, 450])\n",
      "336 /home/phdcs2/Hard_Disk/Datasets/Deep-Spectral-Segmentation/data/object-segmentation/ECSSD/features/dino_vits16/0337.pth\n",
      "dict_keys(['k', 'indices', 'file', 'id', 'model_name', 'patch_size', 'shape'])\n",
      "0337\n",
      "Starting Training\n",
      "epoch: 00, loss: -0.06611\n",
      "epoch: 01, loss: -0.10196\n",
      "epoch: 02, loss: -0.10527\n",
      "epoch: 03, loss: -0.10702\n",
      "epoch: 04, loss: -0.10649\n",
      "epoch: 05, loss: -0.10877\n",
      "epoch: 06, loss: -0.11175\n",
      "epoch: 07, loss: -0.10993\n",
      "epoch: 08, loss: -0.11013\n",
      "epoch: 09, loss: -0.11227\n",
      "torch.Size([450, 64])\n",
      "<class 'numpy.ndarray'>\n"
     ]
    },
    {
     "name": "stderr",
     "output_type": "stream",
     "text": [
      " 34%|███▎      | 337/1000 [1:25:54<4:23:14, 23.82s/it]"
     ]
    },
    {
     "name": "stdout",
     "output_type": "stream",
     "text": [
      "eigenvalues shape torch.Size([5]) eigenvectors shape torch.Size([5, 450])\n",
      "337 /home/phdcs2/Hard_Disk/Datasets/Deep-Spectral-Segmentation/data/object-segmentation/ECSSD/features/dino_vits16/0338.pth\n",
      "dict_keys(['k', 'indices', 'file', 'id', 'model_name', 'patch_size', 'shape'])\n",
      "0338\n",
      "Starting Training\n",
      "epoch: 00, loss: -0.01255\n",
      "epoch: 01, loss: -0.03708\n",
      "epoch: 02, loss: -0.04135\n",
      "epoch: 03, loss: -0.04463\n",
      "epoch: 04, loss: -0.04759\n",
      "epoch: 05, loss: -0.04939\n",
      "epoch: 06, loss: -0.04835\n",
      "epoch: 07, loss: -0.05030\n",
      "epoch: 08, loss: -0.04837\n",
      "epoch: 09, loss: -0.05271\n",
      "torch.Size([450, 64])\n",
      "<class 'numpy.ndarray'>\n"
     ]
    },
    {
     "name": "stderr",
     "output_type": "stream",
     "text": [
      " 34%|███▍      | 338/1000 [1:26:18<4:22:10, 23.76s/it]"
     ]
    },
    {
     "name": "stdout",
     "output_type": "stream",
     "text": [
      "eigenvalues shape torch.Size([5]) eigenvectors shape torch.Size([5, 450])\n",
      "338 /home/phdcs2/Hard_Disk/Datasets/Deep-Spectral-Segmentation/data/object-segmentation/ECSSD/features/dino_vits16/0339.pth\n",
      "dict_keys(['k', 'indices', 'file', 'id', 'model_name', 'patch_size', 'shape'])\n",
      "0339\n",
      "Starting Training\n",
      "epoch: 00, loss: -0.09580\n",
      "epoch: 01, loss: -0.12175\n",
      "epoch: 02, loss: -0.12247\n",
      "epoch: 03, loss: -0.12267\n",
      "epoch: 04, loss: -0.12329\n",
      "epoch: 05, loss: -0.12347\n",
      "epoch: 06, loss: -0.12328\n",
      "epoch: 07, loss: -0.12349\n",
      "epoch: 08, loss: -0.12387\n",
      "epoch: 09, loss: -0.12398\n",
      "torch.Size([450, 64])\n",
      "<class 'numpy.ndarray'>\n"
     ]
    },
    {
     "name": "stderr",
     "output_type": "stream",
     "text": [
      " 34%|███▍      | 339/1000 [1:26:42<4:23:48, 23.95s/it]"
     ]
    },
    {
     "name": "stdout",
     "output_type": "stream",
     "text": [
      "eigenvalues shape torch.Size([5]) eigenvectors shape torch.Size([5, 450])\n",
      "339 /home/phdcs2/Hard_Disk/Datasets/Deep-Spectral-Segmentation/data/object-segmentation/ECSSD/features/dino_vits16/0340.pth\n",
      "dict_keys(['k', 'indices', 'file', 'id', 'model_name', 'patch_size', 'shape'])\n",
      "0340\n",
      "Starting Training\n",
      "epoch: 00, loss: -0.05134\n",
      "epoch: 01, loss: -0.08262\n",
      "epoch: 02, loss: -0.08666\n",
      "epoch: 03, loss: -0.09447\n",
      "epoch: 04, loss: -0.09085\n",
      "epoch: 05, loss: -0.09259\n",
      "epoch: 06, loss: -0.09390\n",
      "epoch: 07, loss: -0.09178\n",
      "epoch: 08, loss: -0.09422\n",
      "epoch: 09, loss: -0.09346\n",
      "torch.Size([375, 64])\n",
      "<class 'numpy.ndarray'>\n"
     ]
    },
    {
     "name": "stderr",
     "output_type": "stream",
     "text": [
      " 34%|███▍      | 340/1000 [1:27:06<4:23:09, 23.92s/it]"
     ]
    },
    {
     "name": "stdout",
     "output_type": "stream",
     "text": [
      "eigenvalues shape torch.Size([5]) eigenvectors shape torch.Size([5, 375])\n",
      "340 /home/phdcs2/Hard_Disk/Datasets/Deep-Spectral-Segmentation/data/object-segmentation/ECSSD/features/dino_vits16/0341.pth\n",
      "dict_keys(['k', 'indices', 'file', 'id', 'model_name', 'patch_size', 'shape'])\n",
      "0341\n",
      "Starting Training\n",
      "epoch: 00, loss: -0.02476\n",
      "epoch: 01, loss: -0.04922\n",
      "epoch: 02, loss: -0.05257\n",
      "epoch: 03, loss: -0.05260\n",
      "epoch: 04, loss: -0.05330\n",
      "epoch: 05, loss: -0.05503\n",
      "epoch: 06, loss: -0.05586\n",
      "epoch: 07, loss: -0.05606\n",
      "epoch: 08, loss: -0.05588\n",
      "epoch: 09, loss: -0.05668\n",
      "torch.Size([375, 64])\n",
      "<class 'numpy.ndarray'>\n"
     ]
    },
    {
     "name": "stderr",
     "output_type": "stream",
     "text": [
      " 34%|███▍      | 341/1000 [1:27:27<4:13:07, 23.05s/it]"
     ]
    },
    {
     "name": "stdout",
     "output_type": "stream",
     "text": [
      "eigenvalues shape torch.Size([5]) eigenvectors shape torch.Size([5, 375])\n",
      "341 /home/phdcs2/Hard_Disk/Datasets/Deep-Spectral-Segmentation/data/object-segmentation/ECSSD/features/dino_vits16/0342.pth\n",
      "dict_keys(['k', 'indices', 'file', 'id', 'model_name', 'patch_size', 'shape'])\n",
      "0342\n",
      "Starting Training\n",
      "epoch: 00, loss: -0.04560\n",
      "epoch: 01, loss: -0.06240\n",
      "epoch: 02, loss: -0.06338\n",
      "epoch: 03, loss: -0.06397\n",
      "epoch: 04, loss: -0.06406\n",
      "epoch: 05, loss: -0.06424\n",
      "epoch: 06, loss: -0.06461\n",
      "epoch: 07, loss: -0.06450\n",
      "epoch: 08, loss: -0.06466\n",
      "epoch: 09, loss: -0.06458\n",
      "torch.Size([450, 64])\n",
      "<class 'numpy.ndarray'>\n"
     ]
    },
    {
     "name": "stderr",
     "output_type": "stream",
     "text": [
      " 34%|███▍      | 342/1000 [1:27:55<4:26:50, 24.33s/it]"
     ]
    },
    {
     "name": "stdout",
     "output_type": "stream",
     "text": [
      "eigenvalues shape torch.Size([5]) eigenvectors shape torch.Size([5, 450])\n",
      "342 /home/phdcs2/Hard_Disk/Datasets/Deep-Spectral-Segmentation/data/object-segmentation/ECSSD/features/dino_vits16/0343.pth\n",
      "dict_keys(['k', 'indices', 'file', 'id', 'model_name', 'patch_size', 'shape'])\n",
      "0343\n",
      "Starting Training\n",
      "epoch: 00, loss: 0.00098\n",
      "epoch: 01, loss: -0.01047\n",
      "epoch: 02, loss: -0.01451\n",
      "epoch: 03, loss: -0.01651\n",
      "epoch: 04, loss: -0.01736\n",
      "epoch: 05, loss: -0.01786\n",
      "epoch: 06, loss: -0.01820\n",
      "epoch: 07, loss: -0.01845\n",
      "epoch: 08, loss: -0.01862\n",
      "epoch: 09, loss: -0.01876\n",
      "torch.Size([500, 64])\n",
      "<class 'numpy.ndarray'>\n"
     ]
    },
    {
     "name": "stderr",
     "output_type": "stream",
     "text": [
      " 34%|███▍      | 343/1000 [1:28:19<4:26:06, 24.30s/it]"
     ]
    },
    {
     "name": "stdout",
     "output_type": "stream",
     "text": [
      "eigenvalues shape torch.Size([5]) eigenvectors shape torch.Size([5, 500])\n",
      "343 /home/phdcs2/Hard_Disk/Datasets/Deep-Spectral-Segmentation/data/object-segmentation/ECSSD/features/dino_vits16/0344.pth\n",
      "dict_keys(['k', 'indices', 'file', 'id', 'model_name', 'patch_size', 'shape'])\n",
      "0344\n",
      "Starting Training\n",
      "epoch: 00, loss: -0.01292\n",
      "epoch: 01, loss: -0.02966\n",
      "epoch: 02, loss: -0.03200\n",
      "epoch: 03, loss: -0.03294\n",
      "epoch: 04, loss: -0.03351\n",
      "epoch: 05, loss: -0.03374\n",
      "epoch: 06, loss: -0.03387\n",
      "epoch: 07, loss: -0.03412\n",
      "epoch: 08, loss: -0.03427\n",
      "epoch: 09, loss: -0.03439\n",
      "torch.Size([450, 64])\n",
      "<class 'numpy.ndarray'>\n"
     ]
    },
    {
     "name": "stderr",
     "output_type": "stream",
     "text": [
      " 34%|███▍      | 344/1000 [1:28:43<4:25:29, 24.28s/it]"
     ]
    },
    {
     "name": "stdout",
     "output_type": "stream",
     "text": [
      "eigenvalues shape torch.Size([5]) eigenvectors shape torch.Size([5, 450])\n",
      "344 /home/phdcs2/Hard_Disk/Datasets/Deep-Spectral-Segmentation/data/object-segmentation/ECSSD/features/dino_vits16/0345.pth\n",
      "dict_keys(['k', 'indices', 'file', 'id', 'model_name', 'patch_size', 'shape'])\n",
      "0345\n",
      "Starting Training\n",
      "epoch: 00, loss: -0.03234\n",
      "epoch: 01, loss: -0.06316\n",
      "epoch: 02, loss: -0.07040\n",
      "epoch: 03, loss: -0.07455\n",
      "epoch: 04, loss: -0.07333\n",
      "epoch: 05, loss: -0.07390\n",
      "epoch: 06, loss: -0.07462\n",
      "epoch: 07, loss: -0.07523\n",
      "epoch: 08, loss: -0.07541\n",
      "epoch: 09, loss: -0.07473\n",
      "torch.Size([500, 64])\n",
      "<class 'numpy.ndarray'>\n"
     ]
    },
    {
     "name": "stderr",
     "output_type": "stream",
     "text": [
      " 34%|███▍      | 345/1000 [1:29:10<4:34:13, 25.12s/it]"
     ]
    },
    {
     "name": "stdout",
     "output_type": "stream",
     "text": [
      "eigenvalues shape torch.Size([5]) eigenvectors shape torch.Size([5, 500])\n",
      "345 /home/phdcs2/Hard_Disk/Datasets/Deep-Spectral-Segmentation/data/object-segmentation/ECSSD/features/dino_vits16/0346.pth\n",
      "dict_keys(['k', 'indices', 'file', 'id', 'model_name', 'patch_size', 'shape'])\n",
      "0346\n",
      "Starting Training\n",
      "epoch: 00, loss: -0.12334\n",
      "epoch: 01, loss: -0.15781\n",
      "epoch: 02, loss: -0.16302\n",
      "epoch: 03, loss: -0.16345\n",
      "epoch: 04, loss: -0.16363\n",
      "epoch: 05, loss: -0.16506\n",
      "epoch: 06, loss: -0.16640\n",
      "epoch: 07, loss: -0.16612\n",
      "epoch: 08, loss: -0.16676\n",
      "epoch: 09, loss: -0.16964\n",
      "torch.Size([450, 64])\n",
      "<class 'numpy.ndarray'>\n"
     ]
    },
    {
     "name": "stderr",
     "output_type": "stream",
     "text": [
      " 35%|███▍      | 346/1000 [1:29:45<5:06:03, 28.08s/it]"
     ]
    },
    {
     "name": "stdout",
     "output_type": "stream",
     "text": [
      "eigenvalues shape torch.Size([5]) eigenvectors shape torch.Size([5, 450])\n",
      "346 /home/phdcs2/Hard_Disk/Datasets/Deep-Spectral-Segmentation/data/object-segmentation/ECSSD/features/dino_vits16/0347.pth\n",
      "dict_keys(['k', 'indices', 'file', 'id', 'model_name', 'patch_size', 'shape'])\n",
      "0347\n",
      "Starting Training\n",
      "epoch: 00, loss: -0.05205\n",
      "epoch: 01, loss: -0.08596\n",
      "epoch: 02, loss: -0.09023\n",
      "epoch: 03, loss: -0.09141\n",
      "epoch: 04, loss: -0.09248\n",
      "epoch: 05, loss: -0.09350\n",
      "epoch: 06, loss: -0.09239\n",
      "epoch: 07, loss: -0.09480\n",
      "epoch: 08, loss: -0.09439\n",
      "epoch: 09, loss: -0.09275\n",
      "torch.Size([450, 64])\n",
      "<class 'numpy.ndarray'>\n"
     ]
    },
    {
     "name": "stderr",
     "output_type": "stream",
     "text": [
      " 35%|███▍      | 347/1000 [1:30:07<4:45:34, 26.24s/it]"
     ]
    },
    {
     "name": "stdout",
     "output_type": "stream",
     "text": [
      "eigenvalues shape torch.Size([5]) eigenvectors shape torch.Size([5, 450])\n",
      "347 /home/phdcs2/Hard_Disk/Datasets/Deep-Spectral-Segmentation/data/object-segmentation/ECSSD/features/dino_vits16/0348.pth\n",
      "dict_keys(['k', 'indices', 'file', 'id', 'model_name', 'patch_size', 'shape'])\n",
      "0348\n",
      "Starting Training\n",
      "epoch: 00, loss: -0.03170\n",
      "epoch: 01, loss: -0.05075\n",
      "epoch: 02, loss: -0.05259\n",
      "epoch: 03, loss: -0.05323\n",
      "epoch: 04, loss: -0.05370\n",
      "epoch: 05, loss: -0.05380\n",
      "epoch: 06, loss: -0.05392\n",
      "epoch: 07, loss: -0.05415\n",
      "epoch: 08, loss: -0.05425\n",
      "epoch: 09, loss: -0.05449\n",
      "torch.Size([400, 64])\n",
      "<class 'numpy.ndarray'>\n"
     ]
    },
    {
     "name": "stderr",
     "output_type": "stream",
     "text": [
      " 35%|███▍      | 348/1000 [1:30:27<4:23:59, 24.29s/it]"
     ]
    },
    {
     "name": "stdout",
     "output_type": "stream",
     "text": [
      "eigenvalues shape torch.Size([5]) eigenvectors shape torch.Size([5, 400])\n",
      "348 /home/phdcs2/Hard_Disk/Datasets/Deep-Spectral-Segmentation/data/object-segmentation/ECSSD/features/dino_vits16/0349.pth\n",
      "dict_keys(['k', 'indices', 'file', 'id', 'model_name', 'patch_size', 'shape'])\n",
      "0349\n",
      "Starting Training\n",
      "epoch: 00, loss: -0.08429\n",
      "epoch: 01, loss: -0.10656\n",
      "epoch: 02, loss: -0.10821\n",
      "epoch: 03, loss: -0.10957\n",
      "epoch: 04, loss: -0.11131\n",
      "epoch: 05, loss: -0.10974\n",
      "epoch: 06, loss: -0.10880\n",
      "epoch: 07, loss: -0.11148\n",
      "epoch: 08, loss: -0.11158\n",
      "epoch: 09, loss: -0.11071\n",
      "torch.Size([400, 64])\n",
      "<class 'numpy.ndarray'>\n"
     ]
    },
    {
     "name": "stderr",
     "output_type": "stream",
     "text": [
      " 35%|███▍      | 349/1000 [1:30:49<4:16:40, 23.66s/it]"
     ]
    },
    {
     "name": "stdout",
     "output_type": "stream",
     "text": [
      "eigenvalues shape torch.Size([5]) eigenvectors shape torch.Size([5, 400])\n",
      "349 /home/phdcs2/Hard_Disk/Datasets/Deep-Spectral-Segmentation/data/object-segmentation/ECSSD/features/dino_vits16/0350.pth\n",
      "dict_keys(['k', 'indices', 'file', 'id', 'model_name', 'patch_size', 'shape'])\n",
      "0350\n",
      "Starting Training\n",
      "epoch: 00, loss: -0.01668\n",
      "epoch: 01, loss: -0.03344\n",
      "epoch: 02, loss: -0.03497\n",
      "epoch: 03, loss: -0.03575\n",
      "epoch: 04, loss: -0.03581\n",
      "epoch: 05, loss: -0.03694\n",
      "epoch: 06, loss: -0.03650\n",
      "epoch: 07, loss: -0.03732\n",
      "epoch: 08, loss: -0.03745\n",
      "epoch: 09, loss: -0.03821\n",
      "torch.Size([475, 64])\n",
      "<class 'numpy.ndarray'>\n"
     ]
    },
    {
     "name": "stderr",
     "output_type": "stream",
     "text": [
      " 35%|███▌      | 350/1000 [1:31:17<4:31:35, 25.07s/it]"
     ]
    },
    {
     "name": "stdout",
     "output_type": "stream",
     "text": [
      "eigenvalues shape torch.Size([5]) eigenvectors shape torch.Size([5, 475])\n",
      "350 /home/phdcs2/Hard_Disk/Datasets/Deep-Spectral-Segmentation/data/object-segmentation/ECSSD/features/dino_vits16/0351.pth\n",
      "dict_keys(['k', 'indices', 'file', 'id', 'model_name', 'patch_size', 'shape'])\n",
      "0351\n",
      "Starting Training\n",
      "epoch: 00, loss: -0.05221\n",
      "epoch: 01, loss: -0.07734\n",
      "epoch: 02, loss: -0.07820\n",
      "epoch: 03, loss: -0.07785\n",
      "epoch: 04, loss: -0.07826\n",
      "epoch: 05, loss: -0.07873\n",
      "epoch: 06, loss: -0.07940\n",
      "epoch: 07, loss: -0.07913\n",
      "epoch: 08, loss: -0.07905\n",
      "epoch: 09, loss: -0.07934\n",
      "torch.Size([450, 64])\n",
      "<class 'numpy.ndarray'>\n"
     ]
    },
    {
     "name": "stderr",
     "output_type": "stream",
     "text": [
      " 35%|███▌      | 351/1000 [1:31:41<4:25:18, 24.53s/it]"
     ]
    },
    {
     "name": "stdout",
     "output_type": "stream",
     "text": [
      "eigenvalues shape torch.Size([5]) eigenvectors shape torch.Size([5, 450])\n",
      "351 /home/phdcs2/Hard_Disk/Datasets/Deep-Spectral-Segmentation/data/object-segmentation/ECSSD/features/dino_vits16/0352.pth\n",
      "dict_keys(['k', 'indices', 'file', 'id', 'model_name', 'patch_size', 'shape'])\n",
      "0352\n",
      "Starting Training\n",
      "epoch: 00, loss: -0.00707\n",
      "epoch: 01, loss: -0.02652\n",
      "epoch: 02, loss: -0.03131\n",
      "epoch: 03, loss: -0.03227\n",
      "epoch: 04, loss: -0.03275\n",
      "epoch: 05, loss: -0.03430\n",
      "epoch: 06, loss: -0.03447\n",
      "epoch: 07, loss: -0.03430\n",
      "epoch: 08, loss: -0.03358\n",
      "epoch: 09, loss: -0.03489\n",
      "torch.Size([400, 64])\n",
      "<class 'numpy.ndarray'>\n"
     ]
    },
    {
     "name": "stderr",
     "output_type": "stream",
     "text": [
      " 35%|███▌      | 352/1000 [1:32:03<4:17:55, 23.88s/it]"
     ]
    },
    {
     "name": "stdout",
     "output_type": "stream",
     "text": [
      "eigenvalues shape torch.Size([5]) eigenvectors shape torch.Size([5, 400])\n",
      "352 /home/phdcs2/Hard_Disk/Datasets/Deep-Spectral-Segmentation/data/object-segmentation/ECSSD/features/dino_vits16/0353.pth\n",
      "dict_keys(['k', 'indices', 'file', 'id', 'model_name', 'patch_size', 'shape'])\n",
      "0353\n",
      "Starting Training\n",
      "epoch: 00, loss: -0.02199\n",
      "epoch: 01, loss: -0.04824\n",
      "epoch: 02, loss: -0.04885\n",
      "epoch: 03, loss: -0.05068\n",
      "epoch: 04, loss: -0.04994\n",
      "epoch: 05, loss: -0.05123\n",
      "epoch: 06, loss: -0.05038\n",
      "epoch: 07, loss: -0.05137\n",
      "epoch: 08, loss: -0.05143\n",
      "epoch: 09, loss: -0.05173\n",
      "torch.Size([425, 64])\n",
      "<class 'numpy.ndarray'>\n"
     ]
    },
    {
     "name": "stderr",
     "output_type": "stream",
     "text": [
      " 35%|███▌      | 353/1000 [1:32:25<4:10:58, 23.28s/it]"
     ]
    },
    {
     "name": "stdout",
     "output_type": "stream",
     "text": [
      "eigenvalues shape torch.Size([5]) eigenvectors shape torch.Size([5, 425])\n",
      "353 /home/phdcs2/Hard_Disk/Datasets/Deep-Spectral-Segmentation/data/object-segmentation/ECSSD/features/dino_vits16/0354.pth\n",
      "dict_keys(['k', 'indices', 'file', 'id', 'model_name', 'patch_size', 'shape'])\n",
      "0354\n",
      "Starting Training\n",
      "epoch: 00, loss: -0.06397\n",
      "epoch: 01, loss: -0.08663\n",
      "epoch: 02, loss: -0.09123\n",
      "epoch: 03, loss: -0.09259\n",
      "epoch: 04, loss: -0.09222\n",
      "epoch: 05, loss: -0.09235\n",
      "epoch: 06, loss: -0.09267\n",
      "epoch: 07, loss: -0.09335\n",
      "epoch: 08, loss: -0.09224\n",
      "epoch: 09, loss: -0.09508\n",
      "torch.Size([575, 64])\n",
      "<class 'numpy.ndarray'>\n"
     ]
    },
    {
     "name": "stderr",
     "output_type": "stream",
     "text": [
      " 35%|███▌      | 354/1000 [1:33:11<5:25:29, 30.23s/it]"
     ]
    },
    {
     "name": "stdout",
     "output_type": "stream",
     "text": [
      "eigenvalues shape torch.Size([5]) eigenvectors shape torch.Size([5, 575])\n",
      "354 /home/phdcs2/Hard_Disk/Datasets/Deep-Spectral-Segmentation/data/object-segmentation/ECSSD/features/dino_vits16/0355.pth\n",
      "dict_keys(['k', 'indices', 'file', 'id', 'model_name', 'patch_size', 'shape'])\n",
      "0355\n",
      "Starting Training\n",
      "epoch: 00, loss: -0.02693\n",
      "epoch: 01, loss: -0.04444\n",
      "epoch: 02, loss: -0.04610\n",
      "epoch: 03, loss: -0.04674\n",
      "epoch: 04, loss: -0.04709\n",
      "epoch: 05, loss: -0.04733\n",
      "epoch: 06, loss: -0.04742\n",
      "epoch: 07, loss: -0.04756\n",
      "epoch: 08, loss: -0.04779\n",
      "epoch: 09, loss: -0.04778\n",
      "torch.Size([450, 64])\n",
      "<class 'numpy.ndarray'>\n"
     ]
    },
    {
     "name": "stderr",
     "output_type": "stream",
     "text": [
      " 36%|███▌      | 355/1000 [1:33:35<5:04:22, 28.31s/it]"
     ]
    },
    {
     "name": "stdout",
     "output_type": "stream",
     "text": [
      "eigenvalues shape torch.Size([5]) eigenvectors shape torch.Size([5, 450])\n",
      "355 /home/phdcs2/Hard_Disk/Datasets/Deep-Spectral-Segmentation/data/object-segmentation/ECSSD/features/dino_vits16/0356.pth\n",
      "dict_keys(['k', 'indices', 'file', 'id', 'model_name', 'patch_size', 'shape'])\n",
      "0356\n",
      "Starting Training\n",
      "epoch: 00, loss: -0.00876\n",
      "epoch: 01, loss: -0.02095\n",
      "epoch: 02, loss: -0.02395\n",
      "epoch: 03, loss: -0.02534\n",
      "epoch: 04, loss: -0.02589\n",
      "epoch: 05, loss: -0.02617\n",
      "epoch: 06, loss: -0.02644\n",
      "epoch: 07, loss: -0.02666\n",
      "epoch: 08, loss: -0.02663\n",
      "epoch: 09, loss: -0.02687\n",
      "torch.Size([450, 64])\n",
      "<class 'numpy.ndarray'>\n"
     ]
    },
    {
     "name": "stderr",
     "output_type": "stream",
     "text": [
      " 36%|███▌      | 356/1000 [1:33:58<4:46:25, 26.69s/it]"
     ]
    },
    {
     "name": "stdout",
     "output_type": "stream",
     "text": [
      "eigenvalues shape torch.Size([5]) eigenvectors shape torch.Size([5, 450])\n",
      "356 /home/phdcs2/Hard_Disk/Datasets/Deep-Spectral-Segmentation/data/object-segmentation/ECSSD/features/dino_vits16/0357.pth\n",
      "dict_keys(['k', 'indices', 'file', 'id', 'model_name', 'patch_size', 'shape'])\n",
      "0357\n",
      "Starting Training\n",
      "epoch: 00, loss: -0.04320\n",
      "epoch: 01, loss: -0.06821\n",
      "epoch: 02, loss: -0.07526\n",
      "epoch: 03, loss: -0.07862\n",
      "epoch: 04, loss: -0.07940\n",
      "epoch: 05, loss: -0.07803\n",
      "epoch: 06, loss: -0.07907\n",
      "epoch: 07, loss: -0.08062\n",
      "epoch: 08, loss: -0.08176\n",
      "epoch: 09, loss: -0.08051\n",
      "torch.Size([475, 64])\n",
      "<class 'numpy.ndarray'>\n"
     ]
    },
    {
     "name": "stderr",
     "output_type": "stream",
     "text": [
      " 36%|███▌      | 357/1000 [1:34:24<4:44:57, 26.59s/it]"
     ]
    },
    {
     "name": "stdout",
     "output_type": "stream",
     "text": [
      "eigenvalues shape torch.Size([5]) eigenvectors shape torch.Size([5, 475])\n",
      "357 /home/phdcs2/Hard_Disk/Datasets/Deep-Spectral-Segmentation/data/object-segmentation/ECSSD/features/dino_vits16/0358.pth\n",
      "dict_keys(['k', 'indices', 'file', 'id', 'model_name', 'patch_size', 'shape'])\n",
      "0358\n",
      "Starting Training\n",
      "epoch: 00, loss: -0.02214\n",
      "epoch: 01, loss: -0.03943\n",
      "epoch: 02, loss: -0.04222\n",
      "epoch: 03, loss: -0.04328\n",
      "epoch: 04, loss: -0.04380\n",
      "epoch: 05, loss: -0.04385\n",
      "epoch: 06, loss: -0.04392\n",
      "epoch: 07, loss: -0.04418\n",
      "epoch: 08, loss: -0.04442\n",
      "epoch: 09, loss: -0.04472\n",
      "torch.Size([400, 64])\n",
      "<class 'numpy.ndarray'>\n"
     ]
    },
    {
     "name": "stderr",
     "output_type": "stream",
     "text": [
      " 36%|███▌      | 358/1000 [1:34:44<4:22:27, 24.53s/it]"
     ]
    },
    {
     "name": "stdout",
     "output_type": "stream",
     "text": [
      "eigenvalues shape torch.Size([5]) eigenvectors shape torch.Size([5, 400])\n",
      "358 /home/phdcs2/Hard_Disk/Datasets/Deep-Spectral-Segmentation/data/object-segmentation/ECSSD/features/dino_vits16/0359.pth\n",
      "dict_keys(['k', 'indices', 'file', 'id', 'model_name', 'patch_size', 'shape'])\n",
      "0359\n",
      "Starting Training\n",
      "epoch: 00, loss: -0.01187\n",
      "epoch: 01, loss: -0.03999\n",
      "epoch: 02, loss: -0.04985\n",
      "epoch: 03, loss: -0.05245\n",
      "epoch: 04, loss: -0.04448\n",
      "epoch: 05, loss: -0.04020\n",
      "epoch: 06, loss: -0.04733\n",
      "epoch: 07, loss: -0.04763\n",
      "epoch: 08, loss: -0.05027\n",
      "epoch: 09, loss: -0.04690\n",
      "torch.Size([350, 64])\n",
      "<class 'numpy.ndarray'>\n"
     ]
    },
    {
     "name": "stderr",
     "output_type": "stream",
     "text": [
      " 36%|███▌      | 359/1000 [1:35:06<4:13:28, 23.73s/it]"
     ]
    },
    {
     "name": "stdout",
     "output_type": "stream",
     "text": [
      "eigenvalues shape torch.Size([5]) eigenvectors shape torch.Size([5, 350])\n",
      "359 /home/phdcs2/Hard_Disk/Datasets/Deep-Spectral-Segmentation/data/object-segmentation/ECSSD/features/dino_vits16/0360.pth\n",
      "dict_keys(['k', 'indices', 'file', 'id', 'model_name', 'patch_size', 'shape'])\n",
      "0360\n",
      "Starting Training\n",
      "epoch: 00, loss: -0.04131\n",
      "epoch: 01, loss: -0.05957\n",
      "epoch: 02, loss: -0.06643\n",
      "epoch: 03, loss: -0.06812\n",
      "epoch: 04, loss: -0.07094\n",
      "epoch: 05, loss: -0.06990\n",
      "epoch: 06, loss: -0.06802\n",
      "epoch: 07, loss: -0.06988\n",
      "epoch: 08, loss: -0.06898\n",
      "epoch: 09, loss: -0.07041\n",
      "torch.Size([400, 64])\n",
      "<class 'numpy.ndarray'>\n"
     ]
    },
    {
     "name": "stderr",
     "output_type": "stream",
     "text": [
      " 36%|███▌      | 360/1000 [1:35:25<3:58:58, 22.40s/it]"
     ]
    },
    {
     "name": "stdout",
     "output_type": "stream",
     "text": [
      "eigenvalues shape torch.Size([5]) eigenvectors shape torch.Size([5, 400])\n",
      "360 /home/phdcs2/Hard_Disk/Datasets/Deep-Spectral-Segmentation/data/object-segmentation/ECSSD/features/dino_vits16/0361.pth\n",
      "dict_keys(['k', 'indices', 'file', 'id', 'model_name', 'patch_size', 'shape'])\n",
      "0361\n",
      "Starting Training\n",
      "epoch: 00, loss: -0.05348\n",
      "epoch: 01, loss: -0.07924\n",
      "epoch: 02, loss: -0.07996\n",
      "epoch: 03, loss: -0.08100\n",
      "epoch: 04, loss: -0.08094\n",
      "epoch: 05, loss: -0.08155\n",
      "epoch: 06, loss: -0.08179\n",
      "epoch: 07, loss: -0.08209\n",
      "epoch: 08, loss: -0.08184\n",
      "epoch: 09, loss: -0.08230\n",
      "torch.Size([400, 64])\n",
      "<class 'numpy.ndarray'>\n"
     ]
    },
    {
     "name": "stderr",
     "output_type": "stream",
     "text": [
      " 36%|███▌      | 361/1000 [1:35:49<4:02:56, 22.81s/it]"
     ]
    },
    {
     "name": "stdout",
     "output_type": "stream",
     "text": [
      "eigenvalues shape torch.Size([5]) eigenvectors shape torch.Size([5, 400])\n",
      "361 /home/phdcs2/Hard_Disk/Datasets/Deep-Spectral-Segmentation/data/object-segmentation/ECSSD/features/dino_vits16/0362.pth\n",
      "dict_keys(['k', 'indices', 'file', 'id', 'model_name', 'patch_size', 'shape'])\n",
      "0362\n",
      "Starting Training\n",
      "epoch: 00, loss: -0.06566\n",
      "epoch: 01, loss: -0.09416\n",
      "epoch: 02, loss: -0.09708\n",
      "epoch: 03, loss: -0.09743\n",
      "epoch: 04, loss: -0.09698\n",
      "epoch: 05, loss: -0.09974\n",
      "epoch: 06, loss: -0.10039\n",
      "epoch: 07, loss: -0.10148\n",
      "epoch: 08, loss: -0.10006\n",
      "epoch: 09, loss: -0.09929\n",
      "torch.Size([500, 64])\n",
      "<class 'numpy.ndarray'>\n"
     ]
    },
    {
     "name": "stderr",
     "output_type": "stream",
     "text": [
      " 36%|███▌      | 362/1000 [1:36:16<4:16:27, 24.12s/it]"
     ]
    },
    {
     "name": "stdout",
     "output_type": "stream",
     "text": [
      "eigenvalues shape torch.Size([5]) eigenvectors shape torch.Size([5, 500])\n",
      "362 /home/phdcs2/Hard_Disk/Datasets/Deep-Spectral-Segmentation/data/object-segmentation/ECSSD/features/dino_vits16/0363.pth\n",
      "dict_keys(['k', 'indices', 'file', 'id', 'model_name', 'patch_size', 'shape'])\n",
      "0363\n",
      "Starting Training\n",
      "epoch: 00, loss: -0.09207\n",
      "epoch: 01, loss: -0.11126\n",
      "epoch: 02, loss: -0.11131\n",
      "epoch: 03, loss: -0.11234\n",
      "epoch: 04, loss: -0.11139\n",
      "epoch: 05, loss: -0.11098\n",
      "epoch: 06, loss: -0.11114\n",
      "epoch: 07, loss: -0.11137\n",
      "epoch: 08, loss: -0.11265\n",
      "epoch: 09, loss: -0.11269\n",
      "torch.Size([625, 64])\n",
      "<class 'numpy.ndarray'>\n"
     ]
    },
    {
     "name": "stderr",
     "output_type": "stream",
     "text": [
      " 36%|███▋      | 363/1000 [1:37:03<5:28:26, 30.94s/it]"
     ]
    },
    {
     "name": "stdout",
     "output_type": "stream",
     "text": [
      "eigenvalues shape torch.Size([5]) eigenvectors shape torch.Size([5, 625])\n",
      "363 /home/phdcs2/Hard_Disk/Datasets/Deep-Spectral-Segmentation/data/object-segmentation/ECSSD/features/dino_vits16/0364.pth\n",
      "dict_keys(['k', 'indices', 'file', 'id', 'model_name', 'patch_size', 'shape'])\n",
      "0364\n",
      "Starting Training\n",
      "epoch: 00, loss: -0.01219\n",
      "epoch: 01, loss: -0.02931\n",
      "epoch: 02, loss: -0.03260\n",
      "epoch: 03, loss: -0.03358\n",
      "epoch: 04, loss: -0.03412\n",
      "epoch: 05, loss: -0.03434\n",
      "epoch: 06, loss: -0.03469\n",
      "epoch: 07, loss: -0.03484\n",
      "epoch: 08, loss: -0.03487\n",
      "epoch: 09, loss: -0.03512\n",
      "torch.Size([450, 64])\n",
      "<class 'numpy.ndarray'>\n"
     ]
    },
    {
     "name": "stderr",
     "output_type": "stream",
     "text": [
      " 36%|███▋      | 364/1000 [1:37:30<5:15:03, 29.72s/it]"
     ]
    },
    {
     "name": "stdout",
     "output_type": "stream",
     "text": [
      "eigenvalues shape torch.Size([5]) eigenvectors shape torch.Size([5, 450])\n",
      "364 /home/phdcs2/Hard_Disk/Datasets/Deep-Spectral-Segmentation/data/object-segmentation/ECSSD/features/dino_vits16/0365.pth\n",
      "dict_keys(['k', 'indices', 'file', 'id', 'model_name', 'patch_size', 'shape'])\n",
      "0365\n",
      "Starting Training\n",
      "epoch: 00, loss: -0.04741\n",
      "epoch: 01, loss: -0.06840\n",
      "epoch: 02, loss: -0.06910\n",
      "epoch: 03, loss: -0.06934\n",
      "epoch: 04, loss: -0.06975\n",
      "epoch: 05, loss: -0.06967\n",
      "epoch: 06, loss: -0.07003\n",
      "epoch: 07, loss: -0.07022\n",
      "epoch: 08, loss: -0.07017\n",
      "epoch: 09, loss: -0.07031\n",
      "torch.Size([450, 64])\n",
      "<class 'numpy.ndarray'>\n"
     ]
    },
    {
     "name": "stderr",
     "output_type": "stream",
     "text": [
      " 36%|███▋      | 365/1000 [1:37:54<4:57:06, 28.07s/it]"
     ]
    },
    {
     "name": "stdout",
     "output_type": "stream",
     "text": [
      "eigenvalues shape torch.Size([5]) eigenvectors shape torch.Size([5, 450])\n",
      "365 /home/phdcs2/Hard_Disk/Datasets/Deep-Spectral-Segmentation/data/object-segmentation/ECSSD/features/dino_vits16/0366.pth\n",
      "dict_keys(['k', 'indices', 'file', 'id', 'model_name', 'patch_size', 'shape'])\n",
      "0366\n",
      "Starting Training\n",
      "epoch: 00, loss: -0.04485\n",
      "epoch: 01, loss: -0.06763\n",
      "epoch: 02, loss: -0.06838\n",
      "epoch: 03, loss: -0.06917\n",
      "epoch: 04, loss: -0.06894\n",
      "epoch: 05, loss: -0.06941\n",
      "epoch: 06, loss: -0.06939\n",
      "epoch: 07, loss: -0.06969\n",
      "epoch: 08, loss: -0.06970\n",
      "epoch: 09, loss: -0.06984\n",
      "torch.Size([500, 64])\n",
      "<class 'numpy.ndarray'>\n"
     ]
    },
    {
     "name": "stderr",
     "output_type": "stream",
     "text": [
      " 37%|███▋      | 366/1000 [1:38:19<4:45:20, 27.00s/it]"
     ]
    },
    {
     "name": "stdout",
     "output_type": "stream",
     "text": [
      "eigenvalues shape torch.Size([5]) eigenvectors shape torch.Size([5, 500])\n",
      "366 /home/phdcs2/Hard_Disk/Datasets/Deep-Spectral-Segmentation/data/object-segmentation/ECSSD/features/dino_vits16/0367.pth\n",
      "dict_keys(['k', 'indices', 'file', 'id', 'model_name', 'patch_size', 'shape'])\n",
      "0367\n",
      "Starting Training\n",
      "epoch: 00, loss: -0.08398\n",
      "epoch: 01, loss: -0.12070\n",
      "epoch: 02, loss: -0.12448\n",
      "epoch: 03, loss: -0.12711\n",
      "epoch: 04, loss: -0.12990\n",
      "epoch: 05, loss: -0.13015\n",
      "epoch: 06, loss: -0.13114\n",
      "epoch: 07, loss: -0.12929\n",
      "epoch: 08, loss: -0.13323\n",
      "epoch: 09, loss: -0.13170\n",
      "torch.Size([400, 64])\n",
      "<class 'numpy.ndarray'>\n"
     ]
    },
    {
     "name": "stderr",
     "output_type": "stream",
     "text": [
      " 37%|███▋      | 367/1000 [1:38:41<4:29:46, 25.57s/it]"
     ]
    },
    {
     "name": "stdout",
     "output_type": "stream",
     "text": [
      "eigenvalues shape torch.Size([5]) eigenvectors shape torch.Size([5, 400])\n",
      "367 /home/phdcs2/Hard_Disk/Datasets/Deep-Spectral-Segmentation/data/object-segmentation/ECSSD/features/dino_vits16/0368.pth\n",
      "dict_keys(['k', 'indices', 'file', 'id', 'model_name', 'patch_size', 'shape'])\n",
      "0368\n",
      "Starting Training\n",
      "epoch: 00, loss: -0.00255\n",
      "epoch: 01, loss: -0.02703\n",
      "epoch: 02, loss: -0.03306\n",
      "epoch: 03, loss: -0.03571\n",
      "epoch: 04, loss: -0.03948\n",
      "epoch: 05, loss: -0.04010\n",
      "epoch: 06, loss: -0.04127\n",
      "epoch: 07, loss: -0.04110\n",
      "epoch: 08, loss: -0.04015\n",
      "epoch: 09, loss: -0.04214\n",
      "torch.Size([400, 64])\n",
      "<class 'numpy.ndarray'>\n"
     ]
    },
    {
     "name": "stderr",
     "output_type": "stream",
     "text": [
      " 37%|███▋      | 368/1000 [1:39:03<4:19:47, 24.66s/it]"
     ]
    },
    {
     "name": "stdout",
     "output_type": "stream",
     "text": [
      "eigenvalues shape torch.Size([5]) eigenvectors shape torch.Size([5, 400])\n",
      "368 /home/phdcs2/Hard_Disk/Datasets/Deep-Spectral-Segmentation/data/object-segmentation/ECSSD/features/dino_vits16/0369.pth\n",
      "dict_keys(['k', 'indices', 'file', 'id', 'model_name', 'patch_size', 'shape'])\n",
      "0369\n",
      "Starting Training\n",
      "epoch: 00, loss: -0.00883\n",
      "epoch: 01, loss: -0.03650\n",
      "epoch: 02, loss: -0.04142\n",
      "epoch: 03, loss: -0.04096\n",
      "epoch: 04, loss: -0.04497\n",
      "epoch: 05, loss: -0.04883\n",
      "epoch: 06, loss: -0.04527\n",
      "epoch: 07, loss: -0.04641\n",
      "epoch: 08, loss: -0.04910\n",
      "epoch: 09, loss: -0.04886\n",
      "torch.Size([400, 64])\n",
      "<class 'numpy.ndarray'>\n"
     ]
    },
    {
     "name": "stderr",
     "output_type": "stream",
     "text": [
      " 37%|███▋      | 369/1000 [1:39:21<3:57:32, 22.59s/it]"
     ]
    },
    {
     "name": "stdout",
     "output_type": "stream",
     "text": [
      "eigenvalues shape torch.Size([5]) eigenvectors shape torch.Size([5, 400])\n",
      "369 /home/phdcs2/Hard_Disk/Datasets/Deep-Spectral-Segmentation/data/object-segmentation/ECSSD/features/dino_vits16/0370.pth\n",
      "dict_keys(['k', 'indices', 'file', 'id', 'model_name', 'patch_size', 'shape'])\n",
      "0370\n",
      "Starting Training\n",
      "epoch: 00, loss: 0.00685\n",
      "epoch: 01, loss: -0.00102\n",
      "epoch: 02, loss: -0.00470\n",
      "epoch: 03, loss: -0.00653\n",
      "epoch: 04, loss: -0.00762\n",
      "epoch: 05, loss: -0.00836\n",
      "epoch: 06, loss: -0.00873\n",
      "epoch: 07, loss: -0.00906\n",
      "epoch: 08, loss: -0.00943\n",
      "epoch: 09, loss: -0.00955\n",
      "torch.Size([600, 64])\n",
      "<class 'numpy.ndarray'>\n"
     ]
    },
    {
     "name": "stderr",
     "output_type": "stream",
     "text": [
      " 37%|███▋      | 370/1000 [1:40:14<5:31:16, 31.55s/it]"
     ]
    },
    {
     "name": "stdout",
     "output_type": "stream",
     "text": [
      "eigenvalues shape torch.Size([5]) eigenvectors shape torch.Size([5, 600])\n",
      "370 /home/phdcs2/Hard_Disk/Datasets/Deep-Spectral-Segmentation/data/object-segmentation/ECSSD/features/dino_vits16/0371.pth\n",
      "dict_keys(['k', 'indices', 'file', 'id', 'model_name', 'patch_size', 'shape'])\n",
      "0371\n",
      "Starting Training\n",
      "epoch: 00, loss: -0.03724\n",
      "epoch: 01, loss: -0.05713\n",
      "epoch: 02, loss: -0.05991\n",
      "epoch: 03, loss: -0.05923\n",
      "epoch: 04, loss: -0.06255\n",
      "epoch: 05, loss: -0.06048\n",
      "epoch: 06, loss: -0.06139\n",
      "epoch: 07, loss: -0.06221\n",
      "epoch: 08, loss: -0.06188\n",
      "epoch: 09, loss: -0.06129\n",
      "torch.Size([550, 64])\n",
      "<class 'numpy.ndarray'>\n"
     ]
    },
    {
     "name": "stderr",
     "output_type": "stream",
     "text": [
      " 37%|███▋      | 371/1000 [1:41:01<6:20:24, 36.29s/it]"
     ]
    },
    {
     "name": "stdout",
     "output_type": "stream",
     "text": [
      "eigenvalues shape torch.Size([5]) eigenvectors shape torch.Size([5, 550])\n",
      "371 /home/phdcs2/Hard_Disk/Datasets/Deep-Spectral-Segmentation/data/object-segmentation/ECSSD/features/dino_vits16/0372.pth\n",
      "dict_keys(['k', 'indices', 'file', 'id', 'model_name', 'patch_size', 'shape'])\n",
      "0372\n",
      "Starting Training\n",
      "epoch: 00, loss: -0.04319\n",
      "epoch: 01, loss: -0.06385\n",
      "epoch: 02, loss: -0.06556\n",
      "epoch: 03, loss: -0.06880\n",
      "epoch: 04, loss: -0.06821\n",
      "epoch: 05, loss: -0.06831\n",
      "epoch: 06, loss: -0.06815\n",
      "epoch: 07, loss: -0.06866\n",
      "epoch: 08, loss: -0.06920\n",
      "epoch: 09, loss: -0.06932\n",
      "torch.Size([600, 64])\n",
      "<class 'numpy.ndarray'>\n"
     ]
    },
    {
     "name": "stderr",
     "output_type": "stream",
     "text": [
      " 37%|███▋      | 372/1000 [1:41:49<6:57:46, 39.91s/it]"
     ]
    },
    {
     "name": "stdout",
     "output_type": "stream",
     "text": [
      "eigenvalues shape torch.Size([5]) eigenvectors shape torch.Size([5, 600])\n",
      "372 /home/phdcs2/Hard_Disk/Datasets/Deep-Spectral-Segmentation/data/object-segmentation/ECSSD/features/dino_vits16/0373.pth\n",
      "dict_keys(['k', 'indices', 'file', 'id', 'model_name', 'patch_size', 'shape'])\n",
      "0373\n",
      "Starting Training\n",
      "epoch: 00, loss: -0.04958\n",
      "epoch: 01, loss: -0.07283\n",
      "epoch: 02, loss: -0.07332\n",
      "epoch: 03, loss: -0.07379\n",
      "epoch: 04, loss: -0.07391\n",
      "epoch: 05, loss: -0.07443\n",
      "epoch: 06, loss: -0.07460\n",
      "epoch: 07, loss: -0.07502\n",
      "epoch: 08, loss: -0.07473\n",
      "epoch: 09, loss: -0.07476\n",
      "torch.Size([400, 64])\n",
      "<class 'numpy.ndarray'>\n"
     ]
    },
    {
     "name": "stderr",
     "output_type": "stream",
     "text": [
      " 37%|███▋      | 373/1000 [1:42:11<6:00:59, 34.54s/it]"
     ]
    },
    {
     "name": "stdout",
     "output_type": "stream",
     "text": [
      "eigenvalues shape torch.Size([5]) eigenvectors shape torch.Size([5, 400])\n",
      "373 /home/phdcs2/Hard_Disk/Datasets/Deep-Spectral-Segmentation/data/object-segmentation/ECSSD/features/dino_vits16/0374.pth\n",
      "dict_keys(['k', 'indices', 'file', 'id', 'model_name', 'patch_size', 'shape'])\n",
      "0374\n",
      "Starting Training\n",
      "epoch: 00, loss: -0.08587\n",
      "epoch: 01, loss: -0.11762\n",
      "epoch: 02, loss: -0.12101\n",
      "epoch: 03, loss: -0.12344\n",
      "epoch: 04, loss: -0.12352\n",
      "epoch: 05, loss: -0.12545\n",
      "epoch: 06, loss: -0.12514\n",
      "epoch: 07, loss: -0.12624\n",
      "epoch: 08, loss: -0.12760\n",
      "epoch: 09, loss: -0.12641\n",
      "torch.Size([450, 64])\n",
      "<class 'numpy.ndarray'>\n"
     ]
    },
    {
     "name": "stderr",
     "output_type": "stream",
     "text": [
      " 37%|███▋      | 374/1000 [1:42:36<5:30:26, 31.67s/it]"
     ]
    },
    {
     "name": "stdout",
     "output_type": "stream",
     "text": [
      "eigenvalues shape torch.Size([5]) eigenvectors shape torch.Size([5, 450])\n",
      "374 /home/phdcs2/Hard_Disk/Datasets/Deep-Spectral-Segmentation/data/object-segmentation/ECSSD/features/dino_vits16/0375.pth\n",
      "dict_keys(['k', 'indices', 'file', 'id', 'model_name', 'patch_size', 'shape'])\n",
      "0375\n",
      "Starting Training\n",
      "epoch: 00, loss: -0.05590\n",
      "epoch: 01, loss: -0.07978\n",
      "epoch: 02, loss: -0.08513\n",
      "epoch: 03, loss: -0.08939\n",
      "epoch: 04, loss: -0.08915\n",
      "epoch: 05, loss: -0.09021\n",
      "epoch: 06, loss: -0.09049\n",
      "epoch: 07, loss: -0.09186\n",
      "epoch: 08, loss: -0.09159\n",
      "epoch: 09, loss: -0.09278\n",
      "torch.Size([475, 64])\n",
      "<class 'numpy.ndarray'>\n"
     ]
    },
    {
     "name": "stderr",
     "output_type": "stream",
     "text": [
      " 38%|███▊      | 375/1000 [1:43:02<5:12:43, 30.02s/it]"
     ]
    },
    {
     "name": "stdout",
     "output_type": "stream",
     "text": [
      "eigenvalues shape torch.Size([5]) eigenvectors shape torch.Size([5, 475])\n",
      "375 /home/phdcs2/Hard_Disk/Datasets/Deep-Spectral-Segmentation/data/object-segmentation/ECSSD/features/dino_vits16/0376.pth\n",
      "dict_keys(['k', 'indices', 'file', 'id', 'model_name', 'patch_size', 'shape'])\n",
      "0376\n",
      "Starting Training\n",
      "epoch: 00, loss: -0.05335\n",
      "epoch: 01, loss: -0.07842\n",
      "epoch: 02, loss: -0.08138\n",
      "epoch: 03, loss: -0.08380\n",
      "epoch: 04, loss: -0.08469\n",
      "epoch: 05, loss: -0.08357\n",
      "epoch: 06, loss: -0.08449\n",
      "epoch: 07, loss: -0.08471\n",
      "epoch: 08, loss: -0.08471\n",
      "epoch: 09, loss: -0.08390\n",
      "torch.Size([625, 64])\n",
      "<class 'numpy.ndarray'>\n"
     ]
    },
    {
     "name": "stderr",
     "output_type": "stream",
     "text": [
      " 38%|███▊      | 376/1000 [1:43:51<6:09:41, 35.55s/it]"
     ]
    },
    {
     "name": "stdout",
     "output_type": "stream",
     "text": [
      "eigenvalues shape torch.Size([5]) eigenvectors shape torch.Size([5, 625])\n",
      "376 /home/phdcs2/Hard_Disk/Datasets/Deep-Spectral-Segmentation/data/object-segmentation/ECSSD/features/dino_vits16/0377.pth\n",
      "dict_keys(['k', 'indices', 'file', 'id', 'model_name', 'patch_size', 'shape'])\n",
      "0377\n",
      "Starting Training\n",
      "epoch: 00, loss: -0.02068\n",
      "epoch: 01, loss: -0.03513\n",
      "epoch: 02, loss: -0.03727\n",
      "epoch: 03, loss: -0.03815\n",
      "epoch: 04, loss: -0.03853\n",
      "epoch: 05, loss: -0.03900\n",
      "epoch: 06, loss: -0.03905\n",
      "epoch: 07, loss: -0.03941\n",
      "epoch: 08, loss: -0.03926\n",
      "epoch: 09, loss: -0.03941\n",
      "torch.Size([400, 64])\n",
      "<class 'numpy.ndarray'>\n"
     ]
    },
    {
     "name": "stderr",
     "output_type": "stream",
     "text": [
      " 38%|███▊      | 377/1000 [1:44:13<5:26:47, 31.47s/it]"
     ]
    },
    {
     "name": "stdout",
     "output_type": "stream",
     "text": [
      "eigenvalues shape torch.Size([5]) eigenvectors shape torch.Size([5, 400])\n",
      "377 /home/phdcs2/Hard_Disk/Datasets/Deep-Spectral-Segmentation/data/object-segmentation/ECSSD/features/dino_vits16/0378.pth\n",
      "dict_keys(['k', 'indices', 'file', 'id', 'model_name', 'patch_size', 'shape'])\n",
      "0378\n",
      "Starting Training\n",
      "epoch: 00, loss: -0.01855\n",
      "epoch: 01, loss: -0.03397\n",
      "epoch: 02, loss: -0.04091\n",
      "epoch: 03, loss: -0.04184\n",
      "epoch: 04, loss: -0.04236\n",
      "epoch: 05, loss: -0.04199\n",
      "epoch: 06, loss: -0.04277\n",
      "epoch: 07, loss: -0.04486\n",
      "epoch: 08, loss: -0.04558\n",
      "epoch: 09, loss: -0.04403\n",
      "torch.Size([450, 64])\n",
      "<class 'numpy.ndarray'>\n"
     ]
    },
    {
     "name": "stderr",
     "output_type": "stream",
     "text": [
      " 38%|███▊      | 378/1000 [1:44:37<5:02:27, 29.18s/it]"
     ]
    },
    {
     "name": "stdout",
     "output_type": "stream",
     "text": [
      "eigenvalues shape torch.Size([5]) eigenvectors shape torch.Size([5, 450])\n",
      "378 /home/phdcs2/Hard_Disk/Datasets/Deep-Spectral-Segmentation/data/object-segmentation/ECSSD/features/dino_vits16/0379.pth\n",
      "dict_keys(['k', 'indices', 'file', 'id', 'model_name', 'patch_size', 'shape'])\n",
      "0379\n",
      "Starting Training\n",
      "epoch: 00, loss: -0.04447\n",
      "epoch: 01, loss: -0.07908\n",
      "epoch: 02, loss: -0.08442\n",
      "epoch: 03, loss: -0.08209\n",
      "epoch: 04, loss: -0.08485\n",
      "epoch: 05, loss: -0.08315\n",
      "epoch: 06, loss: -0.08848\n",
      "epoch: 07, loss: -0.08696\n",
      "epoch: 08, loss: -0.08565\n",
      "epoch: 09, loss: -0.08650\n",
      "torch.Size([450, 64])\n",
      "<class 'numpy.ndarray'>\n"
     ]
    },
    {
     "name": "stderr",
     "output_type": "stream",
     "text": [
      " 38%|███▊      | 379/1000 [1:45:02<4:50:24, 28.06s/it]"
     ]
    },
    {
     "name": "stdout",
     "output_type": "stream",
     "text": [
      "eigenvalues shape torch.Size([5]) eigenvectors shape torch.Size([5, 450])\n",
      "379 /home/phdcs2/Hard_Disk/Datasets/Deep-Spectral-Segmentation/data/object-segmentation/ECSSD/features/dino_vits16/0380.pth\n",
      "dict_keys(['k', 'indices', 'file', 'id', 'model_name', 'patch_size', 'shape'])\n",
      "0380\n",
      "Starting Training\n",
      "epoch: 00, loss: -0.04448\n",
      "epoch: 01, loss: -0.06967\n",
      "epoch: 02, loss: -0.07262\n",
      "epoch: 03, loss: -0.07302\n",
      "epoch: 04, loss: -0.07434\n",
      "epoch: 05, loss: -0.07631\n",
      "epoch: 06, loss: -0.07689\n",
      "epoch: 07, loss: -0.07655\n",
      "epoch: 08, loss: -0.07707\n",
      "epoch: 09, loss: -0.07474\n",
      "torch.Size([425, 64])\n",
      "<class 'numpy.ndarray'>\n"
     ]
    },
    {
     "name": "stderr",
     "output_type": "stream",
     "text": [
      " 38%|███▊      | 380/1000 [1:45:25<4:35:11, 26.63s/it]"
     ]
    },
    {
     "name": "stdout",
     "output_type": "stream",
     "text": [
      "eigenvalues shape torch.Size([5]) eigenvectors shape torch.Size([5, 425])\n",
      "380 /home/phdcs2/Hard_Disk/Datasets/Deep-Spectral-Segmentation/data/object-segmentation/ECSSD/features/dino_vits16/0381.pth\n",
      "dict_keys(['k', 'indices', 'file', 'id', 'model_name', 'patch_size', 'shape'])\n",
      "0381\n",
      "Starting Training\n",
      "epoch: 00, loss: -0.03332\n",
      "epoch: 01, loss: -0.05110\n",
      "epoch: 02, loss: -0.05272\n",
      "epoch: 03, loss: -0.05313\n",
      "epoch: 04, loss: -0.05335\n",
      "epoch: 05, loss: -0.05347\n",
      "epoch: 06, loss: -0.05356\n",
      "epoch: 07, loss: -0.05366\n",
      "epoch: 08, loss: -0.05378\n",
      "epoch: 09, loss: -0.05388\n",
      "torch.Size([450, 64])\n",
      "<class 'numpy.ndarray'>\n"
     ]
    },
    {
     "name": "stderr",
     "output_type": "stream",
     "text": [
      " 38%|███▊      | 381/1000 [1:45:50<4:29:28, 26.12s/it]"
     ]
    },
    {
     "name": "stdout",
     "output_type": "stream",
     "text": [
      "eigenvalues shape torch.Size([5]) eigenvectors shape torch.Size([5, 450])\n",
      "381 /home/phdcs2/Hard_Disk/Datasets/Deep-Spectral-Segmentation/data/object-segmentation/ECSSD/features/dino_vits16/0382.pth\n",
      "dict_keys(['k', 'indices', 'file', 'id', 'model_name', 'patch_size', 'shape'])\n",
      "0382\n",
      "Starting Training\n",
      "epoch: 00, loss: -0.00030\n",
      "epoch: 01, loss: -0.01945\n",
      "epoch: 02, loss: -0.02829\n",
      "epoch: 03, loss: -0.03032\n",
      "epoch: 04, loss: -0.03167\n",
      "epoch: 05, loss: -0.03254\n",
      "epoch: 06, loss: -0.03064\n",
      "epoch: 07, loss: -0.03135\n",
      "epoch: 08, loss: -0.03280\n",
      "epoch: 09, loss: -0.03072\n",
      "torch.Size([425, 64])\n",
      "<class 'numpy.ndarray'>\n"
     ]
    },
    {
     "name": "stderr",
     "output_type": "stream",
     "text": [
      " 38%|███▊      | 382/1000 [1:46:12<4:13:46, 24.64s/it]"
     ]
    },
    {
     "name": "stdout",
     "output_type": "stream",
     "text": [
      "eigenvalues shape torch.Size([5]) eigenvectors shape torch.Size([5, 425])\n",
      "382 /home/phdcs2/Hard_Disk/Datasets/Deep-Spectral-Segmentation/data/object-segmentation/ECSSD/features/dino_vits16/0383.pth\n",
      "dict_keys(['k', 'indices', 'file', 'id', 'model_name', 'patch_size', 'shape'])\n",
      "0383\n",
      "Starting Training\n",
      "epoch: 00, loss: -0.00925\n",
      "epoch: 01, loss: -0.02558\n",
      "epoch: 02, loss: -0.03116\n",
      "epoch: 03, loss: -0.03268\n",
      "epoch: 04, loss: -0.03321\n",
      "epoch: 05, loss: -0.03397\n",
      "epoch: 06, loss: -0.03429\n",
      "epoch: 07, loss: -0.03425\n",
      "epoch: 08, loss: -0.03450\n",
      "epoch: 09, loss: -0.03491\n",
      "torch.Size([350, 64])\n",
      "<class 'numpy.ndarray'>\n"
     ]
    },
    {
     "name": "stderr",
     "output_type": "stream",
     "text": [
      " 38%|███▊      | 383/1000 [1:46:33<4:04:11, 23.75s/it]"
     ]
    },
    {
     "name": "stdout",
     "output_type": "stream",
     "text": [
      "eigenvalues shape torch.Size([5]) eigenvectors shape torch.Size([5, 350])\n",
      "383 /home/phdcs2/Hard_Disk/Datasets/Deep-Spectral-Segmentation/data/object-segmentation/ECSSD/features/dino_vits16/0384.pth\n",
      "dict_keys(['k', 'indices', 'file', 'id', 'model_name', 'patch_size', 'shape'])\n",
      "0384\n",
      "Starting Training\n",
      "epoch: 00, loss: -0.03947\n",
      "epoch: 01, loss: -0.06975\n",
      "epoch: 02, loss: -0.07014\n",
      "epoch: 03, loss: -0.07108\n",
      "epoch: 04, loss: -0.07036\n",
      "epoch: 05, loss: -0.07045\n",
      "epoch: 06, loss: -0.07120\n",
      "epoch: 07, loss: -0.07065\n",
      "epoch: 08, loss: -0.07093\n",
      "epoch: 09, loss: -0.07096\n",
      "torch.Size([475, 64])\n",
      "<class 'numpy.ndarray'>\n"
     ]
    },
    {
     "name": "stderr",
     "output_type": "stream",
     "text": [
      " 38%|███▊      | 384/1000 [1:47:03<4:23:20, 25.65s/it]"
     ]
    },
    {
     "name": "stdout",
     "output_type": "stream",
     "text": [
      "eigenvalues shape torch.Size([5]) eigenvectors shape torch.Size([5, 475])\n",
      "384 /home/phdcs2/Hard_Disk/Datasets/Deep-Spectral-Segmentation/data/object-segmentation/ECSSD/features/dino_vits16/0385.pth\n",
      "dict_keys(['k', 'indices', 'file', 'id', 'model_name', 'patch_size', 'shape'])\n",
      "0385\n",
      "Starting Training\n",
      "epoch: 00, loss: -0.03963\n",
      "epoch: 01, loss: -0.05996\n",
      "epoch: 02, loss: -0.06036\n",
      "epoch: 03, loss: -0.06174\n",
      "epoch: 04, loss: -0.06115\n",
      "epoch: 05, loss: -0.06139\n",
      "epoch: 06, loss: -0.06148\n",
      "epoch: 07, loss: -0.06182\n",
      "epoch: 08, loss: -0.06203\n",
      "epoch: 09, loss: -0.06184\n",
      "torch.Size([600, 64])\n",
      "<class 'numpy.ndarray'>\n"
     ]
    },
    {
     "name": "stderr",
     "output_type": "stream",
     "text": [
      " 38%|███▊      | 385/1000 [1:47:53<5:36:05, 32.79s/it]"
     ]
    },
    {
     "name": "stdout",
     "output_type": "stream",
     "text": [
      "eigenvalues shape torch.Size([5]) eigenvectors shape torch.Size([5, 600])\n",
      "385 /home/phdcs2/Hard_Disk/Datasets/Deep-Spectral-Segmentation/data/object-segmentation/ECSSD/features/dino_vits16/0386.pth\n",
      "dict_keys(['k', 'indices', 'file', 'id', 'model_name', 'patch_size', 'shape'])\n",
      "0386\n",
      "Starting Training\n",
      "epoch: 00, loss: -0.04171\n",
      "epoch: 01, loss: -0.07792\n",
      "epoch: 02, loss: -0.08232\n",
      "epoch: 03, loss: -0.08109\n",
      "epoch: 04, loss: -0.08650\n",
      "epoch: 05, loss: -0.08757\n",
      "epoch: 06, loss: -0.08697\n",
      "epoch: 07, loss: -0.08650\n",
      "epoch: 08, loss: -0.08696\n",
      "epoch: 09, loss: -0.08863\n",
      "torch.Size([400, 64])\n",
      "<class 'numpy.ndarray'>\n"
     ]
    },
    {
     "name": "stderr",
     "output_type": "stream",
     "text": [
      " 39%|███▊      | 386/1000 [1:48:17<5:09:42, 30.26s/it]"
     ]
    },
    {
     "name": "stdout",
     "output_type": "stream",
     "text": [
      "eigenvalues shape torch.Size([5]) eigenvectors shape torch.Size([5, 400])\n",
      "386 /home/phdcs2/Hard_Disk/Datasets/Deep-Spectral-Segmentation/data/object-segmentation/ECSSD/features/dino_vits16/0387.pth\n",
      "dict_keys(['k', 'indices', 'file', 'id', 'model_name', 'patch_size', 'shape'])\n",
      "0387\n",
      "Starting Training\n",
      "epoch: 00, loss: -0.01918\n",
      "epoch: 01, loss: -0.04907\n",
      "epoch: 02, loss: -0.05280\n",
      "epoch: 03, loss: -0.05430\n",
      "epoch: 04, loss: -0.05604\n",
      "epoch: 05, loss: -0.05572\n",
      "epoch: 06, loss: -0.05708\n",
      "epoch: 07, loss: -0.05786\n",
      "epoch: 08, loss: -0.05627\n",
      "epoch: 09, loss: -0.05653\n",
      "torch.Size([450, 64])\n",
      "<class 'numpy.ndarray'>\n"
     ]
    },
    {
     "name": "stderr",
     "output_type": "stream",
     "text": [
      " 39%|███▊      | 387/1000 [1:48:46<5:03:53, 29.74s/it]"
     ]
    },
    {
     "name": "stdout",
     "output_type": "stream",
     "text": [
      "eigenvalues shape torch.Size([5]) eigenvectors shape torch.Size([5, 450])\n",
      "387 /home/phdcs2/Hard_Disk/Datasets/Deep-Spectral-Segmentation/data/object-segmentation/ECSSD/features/dino_vits16/0388.pth\n",
      "dict_keys(['k', 'indices', 'file', 'id', 'model_name', 'patch_size', 'shape'])\n",
      "0388\n",
      "Starting Training\n",
      "epoch: 00, loss: 0.00592\n",
      "epoch: 01, loss: -0.00627\n",
      "epoch: 02, loss: -0.01156\n",
      "epoch: 03, loss: -0.01402\n",
      "epoch: 04, loss: -0.01513\n",
      "epoch: 05, loss: -0.01587\n",
      "epoch: 06, loss: -0.01632\n",
      "epoch: 07, loss: -0.01671\n",
      "epoch: 08, loss: -0.01680\n",
      "epoch: 09, loss: -0.01694\n",
      "torch.Size([500, 64])\n",
      "<class 'numpy.ndarray'>\n"
     ]
    },
    {
     "name": "stderr",
     "output_type": "stream",
     "text": [
      " 39%|███▉      | 388/1000 [1:49:16<5:04:38, 29.87s/it]"
     ]
    },
    {
     "name": "stdout",
     "output_type": "stream",
     "text": [
      "eigenvalues shape torch.Size([5]) eigenvectors shape torch.Size([5, 500])\n",
      "388 /home/phdcs2/Hard_Disk/Datasets/Deep-Spectral-Segmentation/data/object-segmentation/ECSSD/features/dino_vits16/0389.pth\n",
      "dict_keys(['k', 'indices', 'file', 'id', 'model_name', 'patch_size', 'shape'])\n",
      "0389\n",
      "Starting Training\n",
      "epoch: 00, loss: -0.04426\n",
      "epoch: 01, loss: -0.06816\n",
      "epoch: 02, loss: -0.07120\n",
      "epoch: 03, loss: -0.07320\n",
      "epoch: 04, loss: -0.07437\n",
      "epoch: 05, loss: -0.07252\n",
      "epoch: 06, loss: -0.07361\n",
      "epoch: 07, loss: -0.07641\n",
      "epoch: 08, loss: -0.07529\n",
      "epoch: 09, loss: -0.07465\n",
      "torch.Size([450, 64])\n",
      "<class 'numpy.ndarray'>\n"
     ]
    },
    {
     "name": "stderr",
     "output_type": "stream",
     "text": [
      " 39%|███▉      | 389/1000 [1:49:44<4:57:37, 29.23s/it]"
     ]
    },
    {
     "name": "stdout",
     "output_type": "stream",
     "text": [
      "eigenvalues shape torch.Size([5]) eigenvectors shape torch.Size([5, 450])\n",
      "389 /home/phdcs2/Hard_Disk/Datasets/Deep-Spectral-Segmentation/data/object-segmentation/ECSSD/features/dino_vits16/0390.pth\n",
      "dict_keys(['k', 'indices', 'file', 'id', 'model_name', 'patch_size', 'shape'])\n",
      "0390\n",
      "Starting Training\n",
      "epoch: 00, loss: -0.02646\n",
      "epoch: 01, loss: -0.04991\n",
      "epoch: 02, loss: -0.05180\n",
      "epoch: 03, loss: -0.05255\n",
      "epoch: 04, loss: -0.05265\n",
      "epoch: 05, loss: -0.05273\n",
      "epoch: 06, loss: -0.05322\n",
      "epoch: 07, loss: -0.05326\n",
      "epoch: 08, loss: -0.05345\n",
      "epoch: 09, loss: -0.05354\n",
      "torch.Size([450, 64])\n",
      "<class 'numpy.ndarray'>\n"
     ]
    },
    {
     "name": "stderr",
     "output_type": "stream",
     "text": [
      " 39%|███▉      | 390/1000 [1:50:13<4:58:46, 29.39s/it]"
     ]
    },
    {
     "name": "stdout",
     "output_type": "stream",
     "text": [
      "eigenvalues shape torch.Size([5]) eigenvectors shape torch.Size([5, 450])\n",
      "390 /home/phdcs2/Hard_Disk/Datasets/Deep-Spectral-Segmentation/data/object-segmentation/ECSSD/features/dino_vits16/0391.pth\n",
      "dict_keys(['k', 'indices', 'file', 'id', 'model_name', 'patch_size', 'shape'])\n",
      "0391\n",
      "Starting Training\n",
      "epoch: 00, loss: -0.04754\n",
      "epoch: 01, loss: -0.08958\n",
      "epoch: 02, loss: -0.09130\n",
      "epoch: 03, loss: -0.09813\n",
      "epoch: 04, loss: -0.09952\n",
      "epoch: 05, loss: -0.09653\n",
      "epoch: 06, loss: -0.10174\n",
      "epoch: 07, loss: -0.10069\n",
      "epoch: 08, loss: -0.10297\n",
      "epoch: 09, loss: -0.09936\n",
      "torch.Size([400, 64])\n",
      "<class 'numpy.ndarray'>\n"
     ]
    },
    {
     "name": "stderr",
     "output_type": "stream",
     "text": [
      " 39%|███▉      | 391/1000 [1:50:36<4:36:33, 27.25s/it]"
     ]
    },
    {
     "name": "stdout",
     "output_type": "stream",
     "text": [
      "eigenvalues shape torch.Size([5]) eigenvectors shape torch.Size([5, 400])\n",
      "391 /home/phdcs2/Hard_Disk/Datasets/Deep-Spectral-Segmentation/data/object-segmentation/ECSSD/features/dino_vits16/0392.pth\n",
      "dict_keys(['k', 'indices', 'file', 'id', 'model_name', 'patch_size', 'shape'])\n",
      "0392\n",
      "Starting Training\n",
      "epoch: 00, loss: -0.01791\n",
      "epoch: 01, loss: -0.03996\n",
      "epoch: 02, loss: -0.04755\n",
      "epoch: 03, loss: -0.04963\n",
      "epoch: 04, loss: -0.04625\n",
      "epoch: 05, loss: -0.04901\n",
      "epoch: 06, loss: -0.05087\n",
      "epoch: 07, loss: -0.04910\n",
      "epoch: 08, loss: -0.04959\n",
      "epoch: 09, loss: -0.05141\n",
      "torch.Size([400, 64])\n",
      "<class 'numpy.ndarray'>\n"
     ]
    },
    {
     "name": "stderr",
     "output_type": "stream",
     "text": [
      " 39%|███▉      | 392/1000 [1:50:57<4:18:46, 25.54s/it]"
     ]
    },
    {
     "name": "stdout",
     "output_type": "stream",
     "text": [
      "eigenvalues shape torch.Size([5]) eigenvectors shape torch.Size([5, 400])\n",
      "392 /home/phdcs2/Hard_Disk/Datasets/Deep-Spectral-Segmentation/data/object-segmentation/ECSSD/features/dino_vits16/0393.pth\n",
      "dict_keys(['k', 'indices', 'file', 'id', 'model_name', 'patch_size', 'shape'])\n",
      "0393\n",
      "Starting Training\n",
      "epoch: 00, loss: -0.02378\n",
      "epoch: 01, loss: -0.05765\n",
      "epoch: 02, loss: -0.06045\n",
      "epoch: 03, loss: -0.06117\n",
      "epoch: 04, loss: -0.06424\n",
      "epoch: 05, loss: -0.06821\n",
      "epoch: 06, loss: -0.06261\n",
      "epoch: 07, loss: -0.06212\n",
      "epoch: 08, loss: -0.06585\n",
      "epoch: 09, loss: -0.06551\n",
      "torch.Size([400, 64])\n",
      "<class 'numpy.ndarray'>\n"
     ]
    },
    {
     "name": "stderr",
     "output_type": "stream",
     "text": [
      " 39%|███▉      | 393/1000 [1:51:20<4:10:30, 24.76s/it]"
     ]
    },
    {
     "name": "stdout",
     "output_type": "stream",
     "text": [
      "eigenvalues shape torch.Size([5]) eigenvectors shape torch.Size([5, 400])\n",
      "393 /home/phdcs2/Hard_Disk/Datasets/Deep-Spectral-Segmentation/data/object-segmentation/ECSSD/features/dino_vits16/0394.pth\n",
      "dict_keys(['k', 'indices', 'file', 'id', 'model_name', 'patch_size', 'shape'])\n",
      "0394\n",
      "Starting Training\n",
      "epoch: 00, loss: -0.06510\n",
      "epoch: 01, loss: -0.10904\n",
      "epoch: 02, loss: -0.11551\n",
      "epoch: 03, loss: -0.11511\n",
      "epoch: 04, loss: -0.12038\n",
      "epoch: 05, loss: -0.11943\n",
      "epoch: 06, loss: -0.11927\n",
      "epoch: 07, loss: -0.11858\n",
      "epoch: 08, loss: -0.11893\n",
      "epoch: 09, loss: -0.12107\n",
      "torch.Size([400, 64])\n",
      "<class 'numpy.ndarray'>\n"
     ]
    },
    {
     "name": "stderr",
     "output_type": "stream",
     "text": [
      " 39%|███▉      | 394/1000 [1:51:42<4:02:07, 23.97s/it]"
     ]
    },
    {
     "name": "stdout",
     "output_type": "stream",
     "text": [
      "eigenvalues shape torch.Size([5]) eigenvectors shape torch.Size([5, 400])\n",
      "394 /home/phdcs2/Hard_Disk/Datasets/Deep-Spectral-Segmentation/data/object-segmentation/ECSSD/features/dino_vits16/0395.pth\n",
      "dict_keys(['k', 'indices', 'file', 'id', 'model_name', 'patch_size', 'shape'])\n",
      "0395\n",
      "Starting Training\n",
      "epoch: 00, loss: -0.02250\n",
      "epoch: 01, loss: -0.03940\n",
      "epoch: 02, loss: -0.04321\n",
      "epoch: 03, loss: -0.04349\n",
      "epoch: 04, loss: -0.04447\n",
      "epoch: 05, loss: -0.04304\n",
      "epoch: 06, loss: -0.04421\n",
      "epoch: 07, loss: -0.04430\n",
      "epoch: 08, loss: -0.04481\n",
      "epoch: 09, loss: -0.04545\n",
      "torch.Size([400, 64])\n",
      "<class 'numpy.ndarray'>\n"
     ]
    },
    {
     "name": "stderr",
     "output_type": "stream",
     "text": [
      " 40%|███▉      | 395/1000 [1:52:03<3:52:19, 23.04s/it]"
     ]
    },
    {
     "name": "stdout",
     "output_type": "stream",
     "text": [
      "eigenvalues shape torch.Size([5]) eigenvectors shape torch.Size([5, 400])\n",
      "395 /home/phdcs2/Hard_Disk/Datasets/Deep-Spectral-Segmentation/data/object-segmentation/ECSSD/features/dino_vits16/0396.pth\n",
      "dict_keys(['k', 'indices', 'file', 'id', 'model_name', 'patch_size', 'shape'])\n",
      "0396\n",
      "Starting Training\n",
      "epoch: 00, loss: -0.10916\n",
      "epoch: 01, loss: -0.14037\n",
      "epoch: 02, loss: -0.14502\n",
      "epoch: 03, loss: -0.14604\n",
      "epoch: 04, loss: -0.14713\n",
      "epoch: 05, loss: -0.14929\n",
      "epoch: 06, loss: -0.15004\n",
      "epoch: 07, loss: -0.14913\n",
      "epoch: 08, loss: -0.14798\n",
      "epoch: 09, loss: -0.15097\n",
      "torch.Size([450, 64])\n",
      "<class 'numpy.ndarray'>\n"
     ]
    },
    {
     "name": "stderr",
     "output_type": "stream",
     "text": [
      " 40%|███▉      | 396/1000 [1:52:30<4:04:03, 24.24s/it]"
     ]
    },
    {
     "name": "stdout",
     "output_type": "stream",
     "text": [
      "eigenvalues shape torch.Size([5]) eigenvectors shape torch.Size([5, 450])\n",
      "396 /home/phdcs2/Hard_Disk/Datasets/Deep-Spectral-Segmentation/data/object-segmentation/ECSSD/features/dino_vits16/0397.pth\n",
      "dict_keys(['k', 'indices', 'file', 'id', 'model_name', 'patch_size', 'shape'])\n",
      "0397\n",
      "Starting Training\n",
      "epoch: 00, loss: -0.04442\n",
      "epoch: 01, loss: -0.07736\n",
      "epoch: 02, loss: -0.08273\n",
      "epoch: 03, loss: -0.08451\n",
      "epoch: 04, loss: -0.08904\n",
      "epoch: 05, loss: -0.09115\n",
      "epoch: 06, loss: -0.09307\n",
      "epoch: 07, loss: -0.08998\n",
      "epoch: 08, loss: -0.09184\n",
      "epoch: 09, loss: -0.09290\n",
      "torch.Size([400, 64])\n",
      "<class 'numpy.ndarray'>\n"
     ]
    },
    {
     "name": "stderr",
     "output_type": "stream",
     "text": [
      " 40%|███▉      | 397/1000 [1:52:53<3:58:25, 23.72s/it]"
     ]
    },
    {
     "name": "stdout",
     "output_type": "stream",
     "text": [
      "eigenvalues shape torch.Size([5]) eigenvectors shape torch.Size([5, 400])\n",
      "397 /home/phdcs2/Hard_Disk/Datasets/Deep-Spectral-Segmentation/data/object-segmentation/ECSSD/features/dino_vits16/0398.pth\n",
      "dict_keys(['k', 'indices', 'file', 'id', 'model_name', 'patch_size', 'shape'])\n",
      "0398\n",
      "Starting Training\n",
      "epoch: 00, loss: -0.08329\n",
      "epoch: 01, loss: -0.12102\n",
      "epoch: 02, loss: -0.12462\n",
      "epoch: 03, loss: -0.12290\n",
      "epoch: 04, loss: -0.12822\n",
      "epoch: 05, loss: -0.12960\n",
      "epoch: 06, loss: -0.12830\n",
      "epoch: 07, loss: -0.13033\n",
      "epoch: 08, loss: -0.12919\n",
      "epoch: 09, loss: -0.12992\n",
      "torch.Size([400, 64])\n",
      "<class 'numpy.ndarray'>\n"
     ]
    },
    {
     "name": "stderr",
     "output_type": "stream",
     "text": [
      " 40%|███▉      | 398/1000 [1:53:16<3:56:08, 23.54s/it]"
     ]
    },
    {
     "name": "stdout",
     "output_type": "stream",
     "text": [
      "eigenvalues shape torch.Size([5]) eigenvectors shape torch.Size([5, 400])\n",
      "398 /home/phdcs2/Hard_Disk/Datasets/Deep-Spectral-Segmentation/data/object-segmentation/ECSSD/features/dino_vits16/0399.pth\n",
      "dict_keys(['k', 'indices', 'file', 'id', 'model_name', 'patch_size', 'shape'])\n",
      "0399\n",
      "Starting Training\n",
      "epoch: 00, loss: -0.02757\n",
      "epoch: 01, loss: -0.05156\n",
      "epoch: 02, loss: -0.05356\n",
      "epoch: 03, loss: -0.05360\n",
      "epoch: 04, loss: -0.05404\n",
      "epoch: 05, loss: -0.05430\n",
      "epoch: 06, loss: -0.05459\n",
      "epoch: 07, loss: -0.05460\n",
      "epoch: 08, loss: -0.05484\n",
      "epoch: 09, loss: -0.05488\n",
      "torch.Size([400, 64])\n",
      "<class 'numpy.ndarray'>\n"
     ]
    },
    {
     "name": "stderr",
     "output_type": "stream",
     "text": [
      " 40%|███▉      | 399/1000 [1:53:39<3:55:26, 23.50s/it]"
     ]
    },
    {
     "name": "stdout",
     "output_type": "stream",
     "text": [
      "eigenvalues shape torch.Size([5]) eigenvectors shape torch.Size([5, 400])\n",
      "399 /home/phdcs2/Hard_Disk/Datasets/Deep-Spectral-Segmentation/data/object-segmentation/ECSSD/features/dino_vits16/0400.pth\n",
      "dict_keys(['k', 'indices', 'file', 'id', 'model_name', 'patch_size', 'shape'])\n",
      "0400\n",
      "Starting Training\n",
      "epoch: 00, loss: -0.03154\n",
      "epoch: 01, loss: -0.06299\n",
      "epoch: 02, loss: -0.06755\n",
      "epoch: 03, loss: -0.06961\n",
      "epoch: 04, loss: -0.06988\n",
      "epoch: 05, loss: -0.07105\n",
      "epoch: 06, loss: -0.07344\n",
      "epoch: 07, loss: -0.07235\n",
      "epoch: 08, loss: -0.07417\n",
      "epoch: 09, loss: -0.07414\n",
      "torch.Size([400, 64])\n",
      "<class 'numpy.ndarray'>\n"
     ]
    },
    {
     "name": "stderr",
     "output_type": "stream",
     "text": [
      " 40%|████      | 400/1000 [1:54:03<3:55:21, 23.54s/it]"
     ]
    },
    {
     "name": "stdout",
     "output_type": "stream",
     "text": [
      "eigenvalues shape torch.Size([5]) eigenvectors shape torch.Size([5, 400])\n",
      "400 /home/phdcs2/Hard_Disk/Datasets/Deep-Spectral-Segmentation/data/object-segmentation/ECSSD/features/dino_vits16/0401.pth\n",
      "dict_keys(['k', 'indices', 'file', 'id', 'model_name', 'patch_size', 'shape'])\n",
      "0401\n",
      "Starting Training\n",
      "epoch: 00, loss: -0.03257\n",
      "epoch: 01, loss: -0.06466\n",
      "epoch: 02, loss: -0.06828\n",
      "epoch: 03, loss: -0.06834\n",
      "epoch: 04, loss: -0.07038\n",
      "epoch: 05, loss: -0.07083\n",
      "epoch: 06, loss: -0.07075\n",
      "epoch: 07, loss: -0.07130\n",
      "epoch: 08, loss: -0.07133\n",
      "epoch: 09, loss: -0.07253\n",
      "torch.Size([400, 64])\n",
      "<class 'numpy.ndarray'>\n"
     ]
    },
    {
     "name": "stderr",
     "output_type": "stream",
     "text": [
      " 40%|████      | 401/1000 [1:54:25<3:50:59, 23.14s/it]"
     ]
    },
    {
     "name": "stdout",
     "output_type": "stream",
     "text": [
      "eigenvalues shape torch.Size([5]) eigenvectors shape torch.Size([5, 400])\n",
      "401 /home/phdcs2/Hard_Disk/Datasets/Deep-Spectral-Segmentation/data/object-segmentation/ECSSD/features/dino_vits16/0402.pth\n",
      "dict_keys(['k', 'indices', 'file', 'id', 'model_name', 'patch_size', 'shape'])\n",
      "0402\n",
      "Starting Training\n",
      "epoch: 00, loss: -0.04069\n",
      "epoch: 01, loss: -0.05982\n",
      "epoch: 02, loss: -0.06201\n",
      "epoch: 03, loss: -0.06449\n",
      "epoch: 04, loss: -0.06605\n",
      "epoch: 05, loss: -0.06807\n",
      "epoch: 06, loss: -0.06735\n",
      "epoch: 07, loss: -0.06747\n",
      "epoch: 08, loss: -0.06780\n",
      "epoch: 09, loss: -0.06730\n",
      "torch.Size([400, 64])\n",
      "<class 'numpy.ndarray'>\n"
     ]
    },
    {
     "name": "stderr",
     "output_type": "stream",
     "text": [
      " 40%|████      | 402/1000 [1:54:50<3:55:14, 23.60s/it]"
     ]
    },
    {
     "name": "stdout",
     "output_type": "stream",
     "text": [
      "eigenvalues shape torch.Size([5]) eigenvectors shape torch.Size([5, 400])\n",
      "402 /home/phdcs2/Hard_Disk/Datasets/Deep-Spectral-Segmentation/data/object-segmentation/ECSSD/features/dino_vits16/0403.pth\n",
      "dict_keys(['k', 'indices', 'file', 'id', 'model_name', 'patch_size', 'shape'])\n",
      "0403\n",
      "Starting Training\n",
      "epoch: 00, loss: -0.01909\n",
      "epoch: 01, loss: -0.04022\n",
      "epoch: 02, loss: -0.04342\n",
      "epoch: 03, loss: -0.04408\n",
      "epoch: 04, loss: -0.04456\n",
      "epoch: 05, loss: -0.04465\n",
      "epoch: 06, loss: -0.04489\n",
      "epoch: 07, loss: -0.04515\n",
      "epoch: 08, loss: -0.04508\n",
      "epoch: 09, loss: -0.04530\n",
      "torch.Size([400, 64])\n",
      "<class 'numpy.ndarray'>\n"
     ]
    },
    {
     "name": "stderr",
     "output_type": "stream",
     "text": [
      " 40%|████      | 403/1000 [1:55:16<4:04:11, 24.54s/it]"
     ]
    },
    {
     "name": "stdout",
     "output_type": "stream",
     "text": [
      "eigenvalues shape torch.Size([5]) eigenvectors shape torch.Size([5, 400])\n",
      "403 /home/phdcs2/Hard_Disk/Datasets/Deep-Spectral-Segmentation/data/object-segmentation/ECSSD/features/dino_vits16/0404.pth\n",
      "dict_keys(['k', 'indices', 'file', 'id', 'model_name', 'patch_size', 'shape'])\n",
      "0404\n",
      "Starting Training\n",
      "epoch: 00, loss: -0.01719\n",
      "epoch: 01, loss: -0.03515\n",
      "epoch: 02, loss: -0.03873\n",
      "epoch: 03, loss: -0.03981\n",
      "epoch: 04, loss: -0.04012\n",
      "epoch: 05, loss: -0.04031\n",
      "epoch: 06, loss: -0.04068\n",
      "epoch: 07, loss: -0.04059\n",
      "epoch: 08, loss: -0.04074\n",
      "epoch: 09, loss: -0.04075\n",
      "torch.Size([400, 64])\n",
      "<class 'numpy.ndarray'>\n"
     ]
    },
    {
     "name": "stderr",
     "output_type": "stream",
     "text": [
      " 40%|████      | 404/1000 [1:55:41<4:05:10, 24.68s/it]"
     ]
    },
    {
     "name": "stdout",
     "output_type": "stream",
     "text": [
      "eigenvalues shape torch.Size([5]) eigenvectors shape torch.Size([5, 400])\n",
      "404 /home/phdcs2/Hard_Disk/Datasets/Deep-Spectral-Segmentation/data/object-segmentation/ECSSD/features/dino_vits16/0405.pth\n",
      "dict_keys(['k', 'indices', 'file', 'id', 'model_name', 'patch_size', 'shape'])\n",
      "0405\n",
      "Starting Training\n",
      "epoch: 00, loss: -0.01380\n",
      "epoch: 01, loss: -0.02743\n",
      "epoch: 02, loss: -0.02965\n",
      "epoch: 03, loss: -0.03107\n",
      "epoch: 04, loss: -0.03162\n",
      "epoch: 05, loss: -0.03159\n",
      "epoch: 06, loss: -0.03162\n",
      "epoch: 07, loss: -0.03221\n",
      "epoch: 08, loss: -0.03214\n",
      "epoch: 09, loss: -0.03225\n",
      "torch.Size([400, 64])\n",
      "<class 'numpy.ndarray'>\n"
     ]
    },
    {
     "name": "stderr",
     "output_type": "stream",
     "text": [
      " 40%|████      | 405/1000 [1:56:05<4:00:24, 24.24s/it]"
     ]
    },
    {
     "name": "stdout",
     "output_type": "stream",
     "text": [
      "eigenvalues shape torch.Size([5]) eigenvectors shape torch.Size([5, 400])\n",
      "405 /home/phdcs2/Hard_Disk/Datasets/Deep-Spectral-Segmentation/data/object-segmentation/ECSSD/features/dino_vits16/0406.pth\n",
      "dict_keys(['k', 'indices', 'file', 'id', 'model_name', 'patch_size', 'shape'])\n",
      "0406\n",
      "Starting Training\n",
      "epoch: 00, loss: -0.07522\n",
      "epoch: 01, loss: -0.10747\n",
      "epoch: 02, loss: -0.11271\n",
      "epoch: 03, loss: -0.11681\n",
      "epoch: 04, loss: -0.11854\n",
      "epoch: 05, loss: -0.11782\n",
      "epoch: 06, loss: -0.11754\n",
      "epoch: 07, loss: -0.11925\n",
      "epoch: 08, loss: -0.11996\n",
      "epoch: 09, loss: -0.11786\n",
      "torch.Size([400, 64])\n",
      "<class 'numpy.ndarray'>\n"
     ]
    },
    {
     "name": "stderr",
     "output_type": "stream",
     "text": [
      " 41%|████      | 406/1000 [1:56:30<4:04:48, 24.73s/it]"
     ]
    },
    {
     "name": "stdout",
     "output_type": "stream",
     "text": [
      "eigenvalues shape torch.Size([5]) eigenvectors shape torch.Size([5, 400])\n",
      "406 /home/phdcs2/Hard_Disk/Datasets/Deep-Spectral-Segmentation/data/object-segmentation/ECSSD/features/dino_vits16/0407.pth\n",
      "dict_keys(['k', 'indices', 'file', 'id', 'model_name', 'patch_size', 'shape'])\n",
      "0407\n",
      "Starting Training\n",
      "epoch: 00, loss: -0.04395\n",
      "epoch: 01, loss: -0.06985\n",
      "epoch: 02, loss: -0.07913\n",
      "epoch: 03, loss: -0.07805\n",
      "epoch: 04, loss: -0.08267\n",
      "epoch: 05, loss: -0.08560\n",
      "epoch: 06, loss: -0.08328\n",
      "epoch: 07, loss: -0.08610\n",
      "epoch: 08, loss: -0.08178\n",
      "epoch: 09, loss: -0.08391\n",
      "torch.Size([400, 64])\n",
      "<class 'numpy.ndarray'>\n"
     ]
    },
    {
     "name": "stderr",
     "output_type": "stream",
     "text": [
      " 41%|████      | 407/1000 [1:56:54<3:59:52, 24.27s/it]"
     ]
    },
    {
     "name": "stdout",
     "output_type": "stream",
     "text": [
      "eigenvalues shape torch.Size([5]) eigenvectors shape torch.Size([5, 400])\n",
      "407 /home/phdcs2/Hard_Disk/Datasets/Deep-Spectral-Segmentation/data/object-segmentation/ECSSD/features/dino_vits16/0408.pth\n",
      "dict_keys(['k', 'indices', 'file', 'id', 'model_name', 'patch_size', 'shape'])\n",
      "0408\n",
      "Starting Training\n",
      "epoch: 00, loss: -0.00051\n",
      "epoch: 01, loss: -0.02079\n",
      "epoch: 02, loss: -0.02708\n",
      "epoch: 03, loss: -0.02916\n",
      "epoch: 04, loss: -0.02995\n",
      "epoch: 05, loss: -0.03026\n",
      "epoch: 06, loss: -0.03066\n",
      "epoch: 07, loss: -0.03071\n",
      "epoch: 08, loss: -0.03100\n",
      "epoch: 09, loss: -0.03106\n",
      "torch.Size([400, 64])\n",
      "<class 'numpy.ndarray'>\n"
     ]
    },
    {
     "name": "stderr",
     "output_type": "stream",
     "text": [
      " 41%|████      | 408/1000 [1:57:18<3:58:21, 24.16s/it]"
     ]
    },
    {
     "name": "stdout",
     "output_type": "stream",
     "text": [
      "eigenvalues shape torch.Size([5]) eigenvectors shape torch.Size([5, 400])\n",
      "408 /home/phdcs2/Hard_Disk/Datasets/Deep-Spectral-Segmentation/data/object-segmentation/ECSSD/features/dino_vits16/0409.pth\n",
      "dict_keys(['k', 'indices', 'file', 'id', 'model_name', 'patch_size', 'shape'])\n",
      "0409\n",
      "Starting Training\n",
      "epoch: 00, loss: -0.04297\n",
      "epoch: 01, loss: -0.06282\n",
      "epoch: 02, loss: -0.07029\n",
      "epoch: 03, loss: -0.07163\n",
      "epoch: 04, loss: -0.07271\n",
      "epoch: 05, loss: -0.07442\n",
      "epoch: 06, loss: -0.07256\n",
      "epoch: 07, loss: -0.07211\n",
      "epoch: 08, loss: -0.07660\n",
      "epoch: 09, loss: -0.07681\n",
      "torch.Size([450, 64])\n",
      "<class 'numpy.ndarray'>\n"
     ]
    },
    {
     "name": "stderr",
     "output_type": "stream",
     "text": [
      " 41%|████      | 409/1000 [1:57:42<3:59:32, 24.32s/it]"
     ]
    },
    {
     "name": "stdout",
     "output_type": "stream",
     "text": [
      "eigenvalues shape torch.Size([5]) eigenvectors shape torch.Size([5, 450])\n",
      "409 /home/phdcs2/Hard_Disk/Datasets/Deep-Spectral-Segmentation/data/object-segmentation/ECSSD/features/dino_vits16/0410.pth\n",
      "dict_keys(['k', 'indices', 'file', 'id', 'model_name', 'patch_size', 'shape'])\n",
      "0410\n",
      "Starting Training\n",
      "epoch: 00, loss: -0.00753\n",
      "epoch: 01, loss: -0.04343\n",
      "epoch: 02, loss: -0.04618\n",
      "epoch: 03, loss: -0.04956\n",
      "epoch: 04, loss: -0.05344\n",
      "epoch: 05, loss: -0.05521\n",
      "epoch: 06, loss: -0.05653\n",
      "epoch: 07, loss: -0.05432\n",
      "epoch: 08, loss: -0.05609\n",
      "epoch: 09, loss: -0.05417\n",
      "torch.Size([325, 64])\n",
      "<class 'numpy.ndarray'>\n"
     ]
    },
    {
     "name": "stderr",
     "output_type": "stream",
     "text": [
      " 41%|████      | 410/1000 [1:58:04<3:52:06, 23.60s/it]"
     ]
    },
    {
     "name": "stdout",
     "output_type": "stream",
     "text": [
      "eigenvalues shape torch.Size([5]) eigenvectors shape torch.Size([5, 325])\n",
      "410 /home/phdcs2/Hard_Disk/Datasets/Deep-Spectral-Segmentation/data/object-segmentation/ECSSD/features/dino_vits16/0411.pth\n",
      "dict_keys(['k', 'indices', 'file', 'id', 'model_name', 'patch_size', 'shape'])\n",
      "0411\n",
      "Starting Training\n",
      "epoch: 00, loss: -0.01139\n",
      "epoch: 01, loss: -0.04315\n",
      "epoch: 02, loss: -0.04517\n",
      "epoch: 03, loss: -0.04913\n",
      "epoch: 04, loss: -0.04902\n",
      "epoch: 05, loss: -0.05091\n",
      "epoch: 06, loss: -0.05102\n",
      "epoch: 07, loss: -0.05106\n",
      "epoch: 08, loss: -0.05299\n",
      "epoch: 09, loss: -0.05151\n",
      "torch.Size([450, 64])\n",
      "<class 'numpy.ndarray'>\n"
     ]
    },
    {
     "name": "stderr",
     "output_type": "stream",
     "text": [
      " 41%|████      | 411/1000 [1:58:30<3:58:04, 24.25s/it]"
     ]
    },
    {
     "name": "stdout",
     "output_type": "stream",
     "text": [
      "eigenvalues shape torch.Size([5]) eigenvectors shape torch.Size([5, 450])\n",
      "411 /home/phdcs2/Hard_Disk/Datasets/Deep-Spectral-Segmentation/data/object-segmentation/ECSSD/features/dino_vits16/0412.pth\n",
      "dict_keys(['k', 'indices', 'file', 'id', 'model_name', 'patch_size', 'shape'])\n",
      "0412\n",
      "Starting Training\n",
      "epoch: 00, loss: -0.03180\n",
      "epoch: 01, loss: -0.05125\n",
      "epoch: 02, loss: -0.05315\n",
      "epoch: 03, loss: -0.05351\n",
      "epoch: 04, loss: -0.05408\n",
      "epoch: 05, loss: -0.05433\n",
      "epoch: 06, loss: -0.05478\n",
      "epoch: 07, loss: -0.05471\n",
      "epoch: 08, loss: -0.05517\n",
      "epoch: 09, loss: -0.05509\n",
      "torch.Size([450, 64])\n",
      "<class 'numpy.ndarray'>\n"
     ]
    },
    {
     "name": "stderr",
     "output_type": "stream",
     "text": [
      " 41%|████      | 412/1000 [1:58:58<4:09:21, 25.44s/it]"
     ]
    },
    {
     "name": "stdout",
     "output_type": "stream",
     "text": [
      "eigenvalues shape torch.Size([5]) eigenvectors shape torch.Size([5, 450])\n",
      "412 /home/phdcs2/Hard_Disk/Datasets/Deep-Spectral-Segmentation/data/object-segmentation/ECSSD/features/dino_vits16/0413.pth\n",
      "dict_keys(['k', 'indices', 'file', 'id', 'model_name', 'patch_size', 'shape'])\n",
      "0413\n",
      "Starting Training\n",
      "epoch: 00, loss: -0.06049\n",
      "epoch: 01, loss: -0.08475\n",
      "epoch: 02, loss: -0.08200\n",
      "epoch: 03, loss: -0.08844\n",
      "epoch: 04, loss: -0.08679\n",
      "epoch: 05, loss: -0.09042\n",
      "epoch: 06, loss: -0.08980\n",
      "epoch: 07, loss: -0.08994\n",
      "epoch: 08, loss: -0.09247\n",
      "epoch: 09, loss: -0.09103\n",
      "torch.Size([450, 64])\n",
      "<class 'numpy.ndarray'>\n"
     ]
    },
    {
     "name": "stderr",
     "output_type": "stream",
     "text": [
      " 41%|████▏     | 413/1000 [1:59:24<4:08:42, 25.42s/it]"
     ]
    },
    {
     "name": "stdout",
     "output_type": "stream",
     "text": [
      "eigenvalues shape torch.Size([5]) eigenvectors shape torch.Size([5, 450])\n",
      "413 /home/phdcs2/Hard_Disk/Datasets/Deep-Spectral-Segmentation/data/object-segmentation/ECSSD/features/dino_vits16/0414.pth\n",
      "dict_keys(['k', 'indices', 'file', 'id', 'model_name', 'patch_size', 'shape'])\n",
      "0414\n",
      "Starting Training\n",
      "epoch: 00, loss: -0.05316\n",
      "epoch: 01, loss: -0.07477\n",
      "epoch: 02, loss: -0.07777\n",
      "epoch: 03, loss: -0.07883\n",
      "epoch: 04, loss: -0.07988\n",
      "epoch: 05, loss: -0.07996\n",
      "epoch: 06, loss: -0.08038\n",
      "epoch: 07, loss: -0.08027\n",
      "epoch: 08, loss: -0.08039\n",
      "epoch: 09, loss: -0.08196\n",
      "torch.Size([450, 64])\n",
      "<class 'numpy.ndarray'>\n"
     ]
    },
    {
     "name": "stderr",
     "output_type": "stream",
     "text": [
      " 41%|████▏     | 414/1000 [1:59:50<4:10:40, 25.67s/it]"
     ]
    },
    {
     "name": "stdout",
     "output_type": "stream",
     "text": [
      "eigenvalues shape torch.Size([5]) eigenvectors shape torch.Size([5, 450])\n",
      "414 /home/phdcs2/Hard_Disk/Datasets/Deep-Spectral-Segmentation/data/object-segmentation/ECSSD/features/dino_vits16/0415.pth\n",
      "dict_keys(['k', 'indices', 'file', 'id', 'model_name', 'patch_size', 'shape'])\n",
      "0415\n",
      "Starting Training\n",
      "epoch: 00, loss: -0.10479\n",
      "epoch: 01, loss: -0.14304\n",
      "epoch: 02, loss: -0.15115\n",
      "epoch: 03, loss: -0.15423\n",
      "epoch: 04, loss: -0.15694\n",
      "epoch: 05, loss: -0.15635\n",
      "epoch: 06, loss: -0.15888\n",
      "epoch: 07, loss: -0.16057\n",
      "epoch: 08, loss: -0.16090\n",
      "epoch: 09, loss: -0.15989\n",
      "torch.Size([450, 64])\n",
      "<class 'numpy.ndarray'>\n"
     ]
    },
    {
     "name": "stderr",
     "output_type": "stream",
     "text": [
      " 42%|████▏     | 415/1000 [2:00:17<4:14:37, 26.12s/it]"
     ]
    },
    {
     "name": "stdout",
     "output_type": "stream",
     "text": [
      "eigenvalues shape torch.Size([5]) eigenvectors shape torch.Size([5, 450])\n",
      "415 /home/phdcs2/Hard_Disk/Datasets/Deep-Spectral-Segmentation/data/object-segmentation/ECSSD/features/dino_vits16/0416.pth\n",
      "dict_keys(['k', 'indices', 'file', 'id', 'model_name', 'patch_size', 'shape'])\n",
      "0416\n",
      "Starting Training\n",
      "epoch: 00, loss: -0.04380\n",
      "epoch: 01, loss: -0.06528\n",
      "epoch: 02, loss: -0.06650\n",
      "epoch: 03, loss: -0.06725\n",
      "epoch: 04, loss: -0.06681\n",
      "epoch: 05, loss: -0.06720\n",
      "epoch: 06, loss: -0.06744\n",
      "epoch: 07, loss: -0.06736\n",
      "epoch: 08, loss: -0.06752\n",
      "epoch: 09, loss: -0.06778\n",
      "torch.Size([450, 64])\n",
      "<class 'numpy.ndarray'>\n"
     ]
    },
    {
     "name": "stderr",
     "output_type": "stream",
     "text": [
      " 42%|████▏     | 416/1000 [2:00:42<4:11:41, 25.86s/it]"
     ]
    },
    {
     "name": "stdout",
     "output_type": "stream",
     "text": [
      "eigenvalues shape torch.Size([5]) eigenvectors shape torch.Size([5, 450])\n",
      "416 /home/phdcs2/Hard_Disk/Datasets/Deep-Spectral-Segmentation/data/object-segmentation/ECSSD/features/dino_vits16/0417.pth\n",
      "dict_keys(['k', 'indices', 'file', 'id', 'model_name', 'patch_size', 'shape'])\n",
      "0417\n",
      "Starting Training\n",
      "epoch: 00, loss: -0.02277\n",
      "epoch: 01, loss: -0.04523\n",
      "epoch: 02, loss: -0.04872\n",
      "epoch: 03, loss: -0.05127\n",
      "epoch: 04, loss: -0.05282\n",
      "epoch: 05, loss: -0.05042\n",
      "epoch: 06, loss: -0.05255\n",
      "epoch: 07, loss: -0.05164\n",
      "epoch: 08, loss: -0.05153\n",
      "epoch: 09, loss: -0.05022\n",
      "torch.Size([450, 64])\n",
      "<class 'numpy.ndarray'>\n"
     ]
    },
    {
     "name": "stderr",
     "output_type": "stream",
     "text": [
      " 42%|████▏     | 417/1000 [2:01:07<4:08:47, 25.60s/it]"
     ]
    },
    {
     "name": "stdout",
     "output_type": "stream",
     "text": [
      "eigenvalues shape torch.Size([5]) eigenvectors shape torch.Size([5, 450])\n",
      "417 /home/phdcs2/Hard_Disk/Datasets/Deep-Spectral-Segmentation/data/object-segmentation/ECSSD/features/dino_vits16/0418.pth\n",
      "dict_keys(['k', 'indices', 'file', 'id', 'model_name', 'patch_size', 'shape'])\n",
      "0418\n",
      "Starting Training\n",
      "epoch: 00, loss: -0.04199\n",
      "epoch: 01, loss: -0.06646\n",
      "epoch: 02, loss: -0.06708\n",
      "epoch: 03, loss: -0.06758\n",
      "epoch: 04, loss: -0.06802\n",
      "epoch: 05, loss: -0.06808\n",
      "epoch: 06, loss: -0.06842\n",
      "epoch: 07, loss: -0.06851\n",
      "epoch: 08, loss: -0.06859\n",
      "epoch: 09, loss: -0.06873\n",
      "torch.Size([450, 64])\n",
      "<class 'numpy.ndarray'>\n"
     ]
    },
    {
     "name": "stderr",
     "output_type": "stream",
     "text": [
      " 42%|████▏     | 418/1000 [2:01:35<4:14:05, 26.20s/it]"
     ]
    },
    {
     "name": "stdout",
     "output_type": "stream",
     "text": [
      "eigenvalues shape torch.Size([5]) eigenvectors shape torch.Size([5, 450])\n",
      "418 /home/phdcs2/Hard_Disk/Datasets/Deep-Spectral-Segmentation/data/object-segmentation/ECSSD/features/dino_vits16/0419.pth\n",
      "dict_keys(['k', 'indices', 'file', 'id', 'model_name', 'patch_size', 'shape'])\n",
      "0419\n",
      "Starting Training\n",
      "epoch: 00, loss: -0.02891\n",
      "epoch: 01, loss: -0.04832\n",
      "epoch: 02, loss: -0.04976\n",
      "epoch: 03, loss: -0.05019\n",
      "epoch: 04, loss: -0.05087\n",
      "epoch: 05, loss: -0.05082\n",
      "epoch: 06, loss: -0.05100\n",
      "epoch: 07, loss: -0.05112\n",
      "epoch: 08, loss: -0.05138\n",
      "epoch: 09, loss: -0.05137\n",
      "torch.Size([450, 64])\n",
      "<class 'numpy.ndarray'>\n"
     ]
    },
    {
     "name": "stderr",
     "output_type": "stream",
     "text": [
      " 42%|████▏     | 419/1000 [2:02:01<4:12:19, 26.06s/it]"
     ]
    },
    {
     "name": "stdout",
     "output_type": "stream",
     "text": [
      "eigenvalues shape torch.Size([5]) eigenvectors shape torch.Size([5, 450])\n",
      "419 /home/phdcs2/Hard_Disk/Datasets/Deep-Spectral-Segmentation/data/object-segmentation/ECSSD/features/dino_vits16/0420.pth\n",
      "dict_keys(['k', 'indices', 'file', 'id', 'model_name', 'patch_size', 'shape'])\n",
      "0420\n",
      "Starting Training\n",
      "epoch: 00, loss: -0.05578\n",
      "epoch: 01, loss: -0.06851\n",
      "epoch: 02, loss: -0.06801\n",
      "epoch: 03, loss: -0.06873\n",
      "epoch: 04, loss: -0.06900\n",
      "epoch: 05, loss: -0.06980\n",
      "epoch: 06, loss: -0.06991\n",
      "epoch: 07, loss: -0.06889\n",
      "epoch: 08, loss: -0.07016\n",
      "epoch: 09, loss: -0.07022\n",
      "torch.Size([575, 64])\n",
      "<class 'numpy.ndarray'>\n"
     ]
    },
    {
     "name": "stderr",
     "output_type": "stream",
     "text": [
      " 42%|████▏     | 420/1000 [2:02:49<5:15:29, 32.64s/it]"
     ]
    },
    {
     "name": "stdout",
     "output_type": "stream",
     "text": [
      "eigenvalues shape torch.Size([5]) eigenvectors shape torch.Size([5, 575])\n",
      "420 /home/phdcs2/Hard_Disk/Datasets/Deep-Spectral-Segmentation/data/object-segmentation/ECSSD/features/dino_vits16/0421.pth\n",
      "dict_keys(['k', 'indices', 'file', 'id', 'model_name', 'patch_size', 'shape'])\n",
      "0421\n",
      "Starting Training\n",
      "epoch: 00, loss: -0.05053\n",
      "epoch: 01, loss: -0.07813\n",
      "epoch: 02, loss: -0.07898\n",
      "epoch: 03, loss: -0.07912\n",
      "epoch: 04, loss: -0.07955\n",
      "epoch: 05, loss: -0.07955\n",
      "epoch: 06, loss: -0.07851\n",
      "epoch: 07, loss: -0.07869\n",
      "epoch: 08, loss: -0.07869\n",
      "epoch: 09, loss: -0.07875\n",
      "torch.Size([525, 64])\n",
      "<class 'numpy.ndarray'>\n"
     ]
    },
    {
     "name": "stderr",
     "output_type": "stream",
     "text": [
      " 42%|████▏     | 421/1000 [2:03:38<6:04:57, 37.82s/it]"
     ]
    },
    {
     "name": "stdout",
     "output_type": "stream",
     "text": [
      "eigenvalues shape torch.Size([5]) eigenvectors shape torch.Size([5, 525])\n",
      "421 /home/phdcs2/Hard_Disk/Datasets/Deep-Spectral-Segmentation/data/object-segmentation/ECSSD/features/dino_vits16/0422.pth\n",
      "dict_keys(['k', 'indices', 'file', 'id', 'model_name', 'patch_size', 'shape'])\n",
      "0422\n",
      "Starting Training\n",
      "epoch: 00, loss: -0.02633\n",
      "epoch: 01, loss: -0.05023\n",
      "epoch: 02, loss: -0.05181\n",
      "epoch: 03, loss: -0.05231\n",
      "epoch: 04, loss: -0.05267\n",
      "epoch: 05, loss: -0.05269\n",
      "epoch: 06, loss: -0.05275\n",
      "epoch: 07, loss: -0.05295\n",
      "epoch: 08, loss: -0.05293\n",
      "epoch: 09, loss: -0.05303\n",
      "torch.Size([450, 64])\n",
      "<class 'numpy.ndarray'>\n"
     ]
    },
    {
     "name": "stderr",
     "output_type": "stream",
     "text": [
      " 42%|████▏     | 422/1000 [2:04:03<5:26:52, 33.93s/it]"
     ]
    },
    {
     "name": "stdout",
     "output_type": "stream",
     "text": [
      "eigenvalues shape torch.Size([5]) eigenvectors shape torch.Size([5, 450])\n",
      "422 /home/phdcs2/Hard_Disk/Datasets/Deep-Spectral-Segmentation/data/object-segmentation/ECSSD/features/dino_vits16/0423.pth\n",
      "dict_keys(['k', 'indices', 'file', 'id', 'model_name', 'patch_size', 'shape'])\n",
      "0423\n",
      "Starting Training\n",
      "epoch: 00, loss: 0.00270\n",
      "epoch: 01, loss: -0.00355\n",
      "epoch: 02, loss: -0.00595\n",
      "epoch: 03, loss: -0.00794\n",
      "epoch: 04, loss: -0.00904\n",
      "epoch: 05, loss: -0.00956\n",
      "epoch: 06, loss: -0.01024\n",
      "epoch: 07, loss: -0.01056\n",
      "epoch: 08, loss: -0.01079\n",
      "epoch: 09, loss: -0.01186\n",
      "torch.Size([425, 64])\n",
      "<class 'numpy.ndarray'>\n"
     ]
    },
    {
     "name": "stderr",
     "output_type": "stream",
     "text": [
      " 42%|████▏     | 423/1000 [2:04:22<4:43:20, 29.46s/it]"
     ]
    },
    {
     "name": "stdout",
     "output_type": "stream",
     "text": [
      "eigenvalues shape torch.Size([5]) eigenvectors shape torch.Size([5, 425])\n",
      "423 /home/phdcs2/Hard_Disk/Datasets/Deep-Spectral-Segmentation/data/object-segmentation/ECSSD/features/dino_vits16/0424.pth\n",
      "dict_keys(['k', 'indices', 'file', 'id', 'model_name', 'patch_size', 'shape'])\n",
      "0424\n",
      "Starting Training\n",
      "epoch: 00, loss: -0.03262\n",
      "epoch: 01, loss: -0.05737\n",
      "epoch: 02, loss: -0.05975\n",
      "epoch: 03, loss: -0.06138\n",
      "epoch: 04, loss: -0.06364\n",
      "epoch: 05, loss: -0.06444\n",
      "epoch: 06, loss: -0.06506\n",
      "epoch: 07, loss: -0.06308\n",
      "epoch: 08, loss: -0.06598\n",
      "epoch: 09, loss: -0.06549\n",
      "torch.Size([550, 64])\n",
      "<class 'numpy.ndarray'>\n"
     ]
    },
    {
     "name": "stderr",
     "output_type": "stream",
     "text": [
      " 42%|████▏     | 424/1000 [2:05:00<5:07:45, 32.06s/it]"
     ]
    },
    {
     "name": "stdout",
     "output_type": "stream",
     "text": [
      "eigenvalues shape torch.Size([5]) eigenvectors shape torch.Size([5, 550])\n",
      "424 /home/phdcs2/Hard_Disk/Datasets/Deep-Spectral-Segmentation/data/object-segmentation/ECSSD/features/dino_vits16/0425.pth\n",
      "dict_keys(['k', 'indices', 'file', 'id', 'model_name', 'patch_size', 'shape'])\n",
      "0425\n",
      "Starting Training\n",
      "epoch: 00, loss: -0.02945\n",
      "epoch: 01, loss: -0.05727\n",
      "epoch: 02, loss: -0.06376\n",
      "epoch: 03, loss: -0.06679\n",
      "epoch: 04, loss: -0.06875\n",
      "epoch: 05, loss: -0.06888\n",
      "epoch: 06, loss: -0.06862\n",
      "epoch: 07, loss: -0.06987\n",
      "epoch: 08, loss: -0.06929\n",
      "epoch: 09, loss: -0.07038\n",
      "torch.Size([475, 64])\n",
      "<class 'numpy.ndarray'>\n"
     ]
    },
    {
     "name": "stderr",
     "output_type": "stream",
     "text": [
      " 42%|████▎     | 425/1000 [2:05:32<5:05:58, 31.93s/it]"
     ]
    },
    {
     "name": "stdout",
     "output_type": "stream",
     "text": [
      "eigenvalues shape torch.Size([5]) eigenvectors shape torch.Size([5, 475])\n",
      "425 /home/phdcs2/Hard_Disk/Datasets/Deep-Spectral-Segmentation/data/object-segmentation/ECSSD/features/dino_vits16/0426.pth\n",
      "dict_keys(['k', 'indices', 'file', 'id', 'model_name', 'patch_size', 'shape'])\n",
      "0426\n",
      "Starting Training\n",
      "epoch: 00, loss: -0.00105\n",
      "epoch: 01, loss: -0.02983\n",
      "epoch: 02, loss: -0.03653\n",
      "epoch: 03, loss: -0.03916\n",
      "epoch: 04, loss: -0.04127\n",
      "epoch: 05, loss: -0.03986\n",
      "epoch: 06, loss: -0.04025\n",
      "epoch: 07, loss: -0.04073\n",
      "epoch: 08, loss: -0.04292\n",
      "epoch: 09, loss: -0.04385\n",
      "torch.Size([500, 64])\n",
      "<class 'numpy.ndarray'>\n"
     ]
    },
    {
     "name": "stderr",
     "output_type": "stream",
     "text": [
      " 43%|████▎     | 426/1000 [2:06:02<5:00:41, 31.43s/it]"
     ]
    },
    {
     "name": "stdout",
     "output_type": "stream",
     "text": [
      "eigenvalues shape torch.Size([5]) eigenvectors shape torch.Size([5, 500])\n",
      "426 /home/phdcs2/Hard_Disk/Datasets/Deep-Spectral-Segmentation/data/object-segmentation/ECSSD/features/dino_vits16/0427.pth\n",
      "dict_keys(['k', 'indices', 'file', 'id', 'model_name', 'patch_size', 'shape'])\n",
      "0427\n",
      "Starting Training\n",
      "epoch: 00, loss: -0.06865\n",
      "epoch: 01, loss: -0.09043\n",
      "epoch: 02, loss: -0.09147\n",
      "epoch: 03, loss: -0.09187\n",
      "epoch: 04, loss: -0.09186\n",
      "epoch: 05, loss: -0.09233\n",
      "epoch: 06, loss: -0.09255\n",
      "epoch: 07, loss: -0.09255\n",
      "epoch: 08, loss: -0.09234\n",
      "epoch: 09, loss: -0.09293\n",
      "torch.Size([450, 64])\n",
      "<class 'numpy.ndarray'>\n"
     ]
    },
    {
     "name": "stderr",
     "output_type": "stream",
     "text": [
      " 43%|████▎     | 427/1000 [2:06:27<4:39:51, 29.30s/it]"
     ]
    },
    {
     "name": "stdout",
     "output_type": "stream",
     "text": [
      "eigenvalues shape torch.Size([5]) eigenvectors shape torch.Size([5, 450])\n",
      "427 /home/phdcs2/Hard_Disk/Datasets/Deep-Spectral-Segmentation/data/object-segmentation/ECSSD/features/dino_vits16/0428.pth\n",
      "dict_keys(['k', 'indices', 'file', 'id', 'model_name', 'patch_size', 'shape'])\n",
      "0428\n",
      "Starting Training\n",
      "epoch: 00, loss: -0.04083\n",
      "epoch: 01, loss: -0.07022\n",
      "epoch: 02, loss: -0.07174\n",
      "epoch: 03, loss: -0.07161\n",
      "epoch: 04, loss: -0.07218\n",
      "epoch: 05, loss: -0.07239\n",
      "epoch: 06, loss: -0.07269\n",
      "epoch: 07, loss: -0.07277\n",
      "epoch: 08, loss: -0.07272\n",
      "epoch: 09, loss: -0.07286\n",
      "torch.Size([400, 64])\n",
      "<class 'numpy.ndarray'>\n"
     ]
    },
    {
     "name": "stderr",
     "output_type": "stream",
     "text": [
      " 43%|████▎     | 428/1000 [2:06:46<4:11:07, 26.34s/it]"
     ]
    },
    {
     "name": "stdout",
     "output_type": "stream",
     "text": [
      "eigenvalues shape torch.Size([5]) eigenvectors shape torch.Size([5, 400])\n",
      "428 /home/phdcs2/Hard_Disk/Datasets/Deep-Spectral-Segmentation/data/object-segmentation/ECSSD/features/dino_vits16/0429.pth\n",
      "dict_keys(['k', 'indices', 'file', 'id', 'model_name', 'patch_size', 'shape'])\n",
      "0429\n",
      "Starting Training\n",
      "epoch: 00, loss: -0.03461\n",
      "epoch: 01, loss: -0.06681\n",
      "epoch: 02, loss: -0.06762\n",
      "epoch: 03, loss: -0.07071\n",
      "epoch: 04, loss: -0.06963\n",
      "epoch: 05, loss: -0.07243\n",
      "epoch: 06, loss: -0.07160\n",
      "epoch: 07, loss: -0.07340\n",
      "epoch: 08, loss: -0.07516\n",
      "epoch: 09, loss: -0.07373\n",
      "torch.Size([375, 64])\n",
      "<class 'numpy.ndarray'>\n"
     ]
    },
    {
     "name": "stderr",
     "output_type": "stream",
     "text": [
      " 43%|████▎     | 429/1000 [2:07:03<3:43:45, 23.51s/it]"
     ]
    },
    {
     "name": "stdout",
     "output_type": "stream",
     "text": [
      "eigenvalues shape torch.Size([5]) eigenvectors shape torch.Size([5, 375])\n",
      "429 /home/phdcs2/Hard_Disk/Datasets/Deep-Spectral-Segmentation/data/object-segmentation/ECSSD/features/dino_vits16/0430.pth\n",
      "dict_keys(['k', 'indices', 'file', 'id', 'model_name', 'patch_size', 'shape'])\n",
      "0430\n",
      "Starting Training\n",
      "epoch: 00, loss: -0.03997\n",
      "epoch: 01, loss: -0.05794\n",
      "epoch: 02, loss: -0.05896\n",
      "epoch: 03, loss: -0.05939\n",
      "epoch: 04, loss: -0.05955\n",
      "epoch: 05, loss: -0.05984\n",
      "epoch: 06, loss: -0.06012\n",
      "epoch: 07, loss: -0.06014\n",
      "epoch: 08, loss: -0.06034\n",
      "epoch: 09, loss: -0.06042\n",
      "torch.Size([500, 64])\n",
      "<class 'numpy.ndarray'>\n"
     ]
    },
    {
     "name": "stderr",
     "output_type": "stream",
     "text": [
      " 43%|████▎     | 430/1000 [2:07:36<4:09:38, 26.28s/it]"
     ]
    },
    {
     "name": "stdout",
     "output_type": "stream",
     "text": [
      "eigenvalues shape torch.Size([5]) eigenvectors shape torch.Size([5, 500])\n",
      "430 /home/phdcs2/Hard_Disk/Datasets/Deep-Spectral-Segmentation/data/object-segmentation/ECSSD/features/dino_vits16/0431.pth\n",
      "dict_keys(['k', 'indices', 'file', 'id', 'model_name', 'patch_size', 'shape'])\n",
      "0431\n",
      "Starting Training\n",
      "epoch: 00, loss: 0.00520\n",
      "epoch: 01, loss: -0.00388\n",
      "epoch: 02, loss: -0.01058\n",
      "epoch: 03, loss: -0.01369\n",
      "epoch: 04, loss: -0.01285\n",
      "epoch: 05, loss: -0.01490\n",
      "epoch: 06, loss: -0.01511\n",
      "epoch: 07, loss: -0.01537\n",
      "epoch: 08, loss: -0.01547\n",
      "epoch: 09, loss: -0.01662\n",
      "torch.Size([400, 64])\n",
      "<class 'numpy.ndarray'>\n"
     ]
    },
    {
     "name": "stderr",
     "output_type": "stream",
     "text": [
      " 43%|████▎     | 431/1000 [2:08:00<4:02:56, 25.62s/it]"
     ]
    },
    {
     "name": "stdout",
     "output_type": "stream",
     "text": [
      "eigenvalues shape torch.Size([5]) eigenvectors shape torch.Size([5, 400])\n",
      "431 /home/phdcs2/Hard_Disk/Datasets/Deep-Spectral-Segmentation/data/object-segmentation/ECSSD/features/dino_vits16/0432.pth\n",
      "dict_keys(['k', 'indices', 'file', 'id', 'model_name', 'patch_size', 'shape'])\n",
      "0432\n",
      "Starting Training\n",
      "epoch: 00, loss: -0.00683\n",
      "epoch: 01, loss: -0.03914\n",
      "epoch: 02, loss: -0.04337\n",
      "epoch: 03, loss: -0.04667\n",
      "epoch: 04, loss: -0.04680\n",
      "epoch: 05, loss: -0.05048\n",
      "epoch: 06, loss: -0.04964\n",
      "epoch: 07, loss: -0.05061\n",
      "epoch: 08, loss: -0.04847\n",
      "epoch: 09, loss: -0.05054\n",
      "torch.Size([425, 64])\n",
      "<class 'numpy.ndarray'>\n"
     ]
    },
    {
     "name": "stderr",
     "output_type": "stream",
     "text": [
      " 43%|████▎     | 432/1000 [2:08:22<3:51:21, 24.44s/it]"
     ]
    },
    {
     "name": "stdout",
     "output_type": "stream",
     "text": [
      "eigenvalues shape torch.Size([5]) eigenvectors shape torch.Size([5, 425])\n",
      "432 /home/phdcs2/Hard_Disk/Datasets/Deep-Spectral-Segmentation/data/object-segmentation/ECSSD/features/dino_vits16/0433.pth\n",
      "dict_keys(['k', 'indices', 'file', 'id', 'model_name', 'patch_size', 'shape'])\n",
      "0433\n",
      "Starting Training\n",
      "epoch: 00, loss: -0.02793\n",
      "epoch: 01, loss: -0.04451\n",
      "epoch: 02, loss: -0.04751\n",
      "epoch: 03, loss: -0.04814\n",
      "epoch: 04, loss: -0.04725\n",
      "epoch: 05, loss: -0.04903\n",
      "epoch: 06, loss: -0.04804\n",
      "epoch: 07, loss: -0.04870\n",
      "epoch: 08, loss: -0.04877\n",
      "epoch: 09, loss: -0.04792\n",
      "torch.Size([475, 64])\n",
      "<class 'numpy.ndarray'>\n"
     ]
    },
    {
     "name": "stderr",
     "output_type": "stream",
     "text": [
      " 43%|████▎     | 433/1000 [2:08:46<3:50:59, 24.44s/it]"
     ]
    },
    {
     "name": "stdout",
     "output_type": "stream",
     "text": [
      "eigenvalues shape torch.Size([5]) eigenvectors shape torch.Size([5, 475])\n",
      "433 /home/phdcs2/Hard_Disk/Datasets/Deep-Spectral-Segmentation/data/object-segmentation/ECSSD/features/dino_vits16/0434.pth\n",
      "dict_keys(['k', 'indices', 'file', 'id', 'model_name', 'patch_size', 'shape'])\n",
      "0434\n",
      "Starting Training\n",
      "epoch: 00, loss: -0.03182\n",
      "epoch: 01, loss: -0.05989\n",
      "epoch: 02, loss: -0.06219\n",
      "epoch: 03, loss: -0.06623\n",
      "epoch: 04, loss: -0.06788\n",
      "epoch: 05, loss: -0.06648\n",
      "epoch: 06, loss: -0.06287\n",
      "epoch: 07, loss: -0.06824\n",
      "epoch: 08, loss: -0.06578\n",
      "epoch: 09, loss: -0.06748\n",
      "torch.Size([450, 64])\n",
      "<class 'numpy.ndarray'>\n"
     ]
    },
    {
     "name": "stderr",
     "output_type": "stream",
     "text": [
      " 43%|████▎     | 434/1000 [2:09:11<3:52:43, 24.67s/it]"
     ]
    },
    {
     "name": "stdout",
     "output_type": "stream",
     "text": [
      "eigenvalues shape torch.Size([5]) eigenvectors shape torch.Size([5, 450])\n",
      "434 /home/phdcs2/Hard_Disk/Datasets/Deep-Spectral-Segmentation/data/object-segmentation/ECSSD/features/dino_vits16/0435.pth\n",
      "dict_keys(['k', 'indices', 'file', 'id', 'model_name', 'patch_size', 'shape'])\n",
      "0435\n",
      "Starting Training\n",
      "epoch: 00, loss: -0.04343\n",
      "epoch: 01, loss: -0.07332\n",
      "epoch: 02, loss: -0.07734\n",
      "epoch: 03, loss: -0.07772\n",
      "epoch: 04, loss: -0.07945\n",
      "epoch: 05, loss: -0.07923\n",
      "epoch: 06, loss: -0.08291\n",
      "epoch: 07, loss: -0.08149\n",
      "epoch: 08, loss: -0.08313\n",
      "epoch: 09, loss: -0.08180\n",
      "torch.Size([450, 64])\n",
      "<class 'numpy.ndarray'>\n"
     ]
    },
    {
     "name": "stderr",
     "output_type": "stream",
     "text": [
      " 44%|████▎     | 435/1000 [2:09:33<3:44:03, 23.79s/it]"
     ]
    },
    {
     "name": "stdout",
     "output_type": "stream",
     "text": [
      "eigenvalues shape torch.Size([5]) eigenvectors shape torch.Size([5, 450])\n",
      "435 /home/phdcs2/Hard_Disk/Datasets/Deep-Spectral-Segmentation/data/object-segmentation/ECSSD/features/dino_vits16/0436.pth\n",
      "dict_keys(['k', 'indices', 'file', 'id', 'model_name', 'patch_size', 'shape'])\n",
      "0436\n",
      "Starting Training\n",
      "epoch: 00, loss: -0.06550\n",
      "epoch: 01, loss: -0.09717\n",
      "epoch: 02, loss: -0.09950\n",
      "epoch: 03, loss: -0.10034\n",
      "epoch: 04, loss: -0.10313\n",
      "epoch: 05, loss: -0.10336\n",
      "epoch: 06, loss: -0.10659\n",
      "epoch: 07, loss: -0.10548\n",
      "epoch: 08, loss: -0.10467\n",
      "epoch: 09, loss: -0.10706\n",
      "torch.Size([475, 64])\n",
      "<class 'numpy.ndarray'>\n"
     ]
    },
    {
     "name": "stderr",
     "output_type": "stream",
     "text": [
      " 44%|████▎     | 436/1000 [2:09:58<3:48:13, 24.28s/it]"
     ]
    },
    {
     "name": "stdout",
     "output_type": "stream",
     "text": [
      "eigenvalues shape torch.Size([5]) eigenvectors shape torch.Size([5, 475])\n",
      "436 /home/phdcs2/Hard_Disk/Datasets/Deep-Spectral-Segmentation/data/object-segmentation/ECSSD/features/dino_vits16/0437.pth\n",
      "dict_keys(['k', 'indices', 'file', 'id', 'model_name', 'patch_size', 'shape'])\n",
      "0437\n",
      "Starting Training\n",
      "epoch: 00, loss: -0.01664\n",
      "epoch: 01, loss: -0.04000\n",
      "epoch: 02, loss: -0.05040\n",
      "epoch: 03, loss: -0.04999\n",
      "epoch: 04, loss: -0.04944\n",
      "epoch: 05, loss: -0.05314\n",
      "epoch: 06, loss: -0.05404\n",
      "epoch: 07, loss: -0.05355\n",
      "epoch: 08, loss: -0.05427\n",
      "epoch: 09, loss: -0.05465\n",
      "torch.Size([450, 64])\n",
      "<class 'numpy.ndarray'>\n"
     ]
    },
    {
     "name": "stderr",
     "output_type": "stream",
     "text": [
      " 44%|████▎     | 437/1000 [2:10:23<3:47:58, 24.30s/it]"
     ]
    },
    {
     "name": "stdout",
     "output_type": "stream",
     "text": [
      "eigenvalues shape torch.Size([5]) eigenvectors shape torch.Size([5, 450])\n",
      "437 /home/phdcs2/Hard_Disk/Datasets/Deep-Spectral-Segmentation/data/object-segmentation/ECSSD/features/dino_vits16/0438.pth\n",
      "dict_keys(['k', 'indices', 'file', 'id', 'model_name', 'patch_size', 'shape'])\n",
      "0438\n",
      "Starting Training\n",
      "epoch: 00, loss: -0.01960\n",
      "epoch: 01, loss: -0.03911\n",
      "epoch: 02, loss: -0.04121\n",
      "epoch: 03, loss: -0.04185\n",
      "epoch: 04, loss: -0.04226\n",
      "epoch: 05, loss: -0.04249\n",
      "epoch: 06, loss: -0.04266\n",
      "epoch: 07, loss: -0.04290\n",
      "epoch: 08, loss: -0.04296\n",
      "epoch: 09, loss: -0.04299\n",
      "torch.Size([450, 64])\n",
      "<class 'numpy.ndarray'>\n"
     ]
    },
    {
     "name": "stderr",
     "output_type": "stream",
     "text": [
      " 44%|████▍     | 438/1000 [2:10:46<3:44:00, 23.92s/it]"
     ]
    },
    {
     "name": "stdout",
     "output_type": "stream",
     "text": [
      "eigenvalues shape torch.Size([5]) eigenvectors shape torch.Size([5, 450])\n",
      "438 /home/phdcs2/Hard_Disk/Datasets/Deep-Spectral-Segmentation/data/object-segmentation/ECSSD/features/dino_vits16/0439.pth\n",
      "dict_keys(['k', 'indices', 'file', 'id', 'model_name', 'patch_size', 'shape'])\n",
      "0439\n",
      "Starting Training\n",
      "epoch: 00, loss: -0.00957\n",
      "epoch: 01, loss: -0.02826\n",
      "epoch: 02, loss: -0.03210\n",
      "epoch: 03, loss: -0.03267\n",
      "epoch: 04, loss: -0.03317\n",
      "epoch: 05, loss: -0.03229\n",
      "epoch: 06, loss: -0.03251\n",
      "epoch: 07, loss: -0.03383\n",
      "epoch: 08, loss: -0.03279\n",
      "epoch: 09, loss: -0.03389\n",
      "torch.Size([575, 64])\n",
      "<class 'numpy.ndarray'>\n"
     ]
    },
    {
     "name": "stderr",
     "output_type": "stream",
     "text": [
      " 44%|████▍     | 439/1000 [2:11:32<4:45:35, 30.55s/it]"
     ]
    },
    {
     "name": "stdout",
     "output_type": "stream",
     "text": [
      "eigenvalues shape torch.Size([5]) eigenvectors shape torch.Size([5, 575])\n",
      "439 /home/phdcs2/Hard_Disk/Datasets/Deep-Spectral-Segmentation/data/object-segmentation/ECSSD/features/dino_vits16/0440.pth\n",
      "dict_keys(['k', 'indices', 'file', 'id', 'model_name', 'patch_size', 'shape'])\n",
      "0440\n",
      "Starting Training\n",
      "epoch: 00, loss: -0.01727\n",
      "epoch: 01, loss: -0.04097\n",
      "epoch: 02, loss: -0.04296\n",
      "epoch: 03, loss: -0.04799\n",
      "epoch: 04, loss: -0.04755\n",
      "epoch: 05, loss: -0.04848\n",
      "epoch: 06, loss: -0.04645\n",
      "epoch: 07, loss: -0.04749\n",
      "epoch: 08, loss: -0.04892\n",
      "epoch: 09, loss: -0.04931\n",
      "torch.Size([450, 64])\n",
      "<class 'numpy.ndarray'>\n"
     ]
    },
    {
     "name": "stderr",
     "output_type": "stream",
     "text": [
      " 44%|████▍     | 440/1000 [2:11:55<4:26:02, 28.50s/it]"
     ]
    },
    {
     "name": "stdout",
     "output_type": "stream",
     "text": [
      "eigenvalues shape torch.Size([5]) eigenvectors shape torch.Size([5, 450])\n",
      "440 /home/phdcs2/Hard_Disk/Datasets/Deep-Spectral-Segmentation/data/object-segmentation/ECSSD/features/dino_vits16/0441.pth\n",
      "dict_keys(['k', 'indices', 'file', 'id', 'model_name', 'patch_size', 'shape'])\n",
      "0441\n",
      "Starting Training\n",
      "epoch: 00, loss: -0.07735\n",
      "epoch: 01, loss: -0.10604\n",
      "epoch: 02, loss: -0.10976\n",
      "epoch: 03, loss: -0.11229\n",
      "epoch: 04, loss: -0.11064\n",
      "epoch: 05, loss: -0.11370\n",
      "epoch: 06, loss: -0.11308\n",
      "epoch: 07, loss: -0.11472\n",
      "epoch: 08, loss: -0.11615\n",
      "epoch: 09, loss: -0.11562\n",
      "torch.Size([450, 64])\n",
      "<class 'numpy.ndarray'>\n"
     ]
    },
    {
     "name": "stderr",
     "output_type": "stream",
     "text": [
      " 44%|████▍     | 441/1000 [2:12:22<4:19:06, 27.81s/it]"
     ]
    },
    {
     "name": "stdout",
     "output_type": "stream",
     "text": [
      "eigenvalues shape torch.Size([5]) eigenvectors shape torch.Size([5, 450])\n",
      "441 /home/phdcs2/Hard_Disk/Datasets/Deep-Spectral-Segmentation/data/object-segmentation/ECSSD/features/dino_vits16/0442.pth\n",
      "dict_keys(['k', 'indices', 'file', 'id', 'model_name', 'patch_size', 'shape'])\n",
      "0442\n",
      "Starting Training\n",
      "epoch: 00, loss: -0.03525\n",
      "epoch: 01, loss: -0.05957\n",
      "epoch: 02, loss: -0.06351\n",
      "epoch: 03, loss: -0.06620\n",
      "epoch: 04, loss: -0.06485\n",
      "epoch: 05, loss: -0.06715\n",
      "epoch: 06, loss: -0.06670\n",
      "epoch: 07, loss: -0.06930\n",
      "epoch: 08, loss: -0.06741\n",
      "epoch: 09, loss: -0.06723\n",
      "torch.Size([475, 64])\n",
      "<class 'numpy.ndarray'>\n"
     ]
    },
    {
     "name": "stderr",
     "output_type": "stream",
     "text": [
      " 44%|████▍     | 442/1000 [2:12:45<4:07:15, 26.59s/it]"
     ]
    },
    {
     "name": "stdout",
     "output_type": "stream",
     "text": [
      "eigenvalues shape torch.Size([5]) eigenvectors shape torch.Size([5, 475])\n",
      "442 /home/phdcs2/Hard_Disk/Datasets/Deep-Spectral-Segmentation/data/object-segmentation/ECSSD/features/dino_vits16/0443.pth\n",
      "dict_keys(['k', 'indices', 'file', 'id', 'model_name', 'patch_size', 'shape'])\n",
      "0443\n",
      "Starting Training\n",
      "epoch: 00, loss: -0.03391\n",
      "epoch: 01, loss: -0.05571\n",
      "epoch: 02, loss: -0.05757\n",
      "epoch: 03, loss: -0.05858\n",
      "epoch: 04, loss: -0.05812\n",
      "epoch: 05, loss: -0.05813\n",
      "epoch: 06, loss: -0.05852\n",
      "epoch: 07, loss: -0.05867\n",
      "epoch: 08, loss: -0.05875\n",
      "epoch: 09, loss: -0.05892\n",
      "torch.Size([450, 64])\n",
      "<class 'numpy.ndarray'>\n"
     ]
    },
    {
     "name": "stderr",
     "output_type": "stream",
     "text": [
      " 44%|████▍     | 443/1000 [2:13:07<3:53:17, 25.13s/it]"
     ]
    },
    {
     "name": "stdout",
     "output_type": "stream",
     "text": [
      "eigenvalues shape torch.Size([5]) eigenvectors shape torch.Size([5, 450])\n",
      "443 /home/phdcs2/Hard_Disk/Datasets/Deep-Spectral-Segmentation/data/object-segmentation/ECSSD/features/dino_vits16/0444.pth\n",
      "dict_keys(['k', 'indices', 'file', 'id', 'model_name', 'patch_size', 'shape'])\n",
      "0444\n",
      "Starting Training\n",
      "epoch: 00, loss: -0.03378\n",
      "epoch: 01, loss: -0.05709\n",
      "epoch: 02, loss: -0.05879\n",
      "epoch: 03, loss: -0.06068\n",
      "epoch: 04, loss: -0.06049\n",
      "epoch: 05, loss: -0.06097\n",
      "epoch: 06, loss: -0.06244\n",
      "epoch: 07, loss: -0.06451\n",
      "epoch: 08, loss: -0.06395\n",
      "epoch: 09, loss: -0.06275\n",
      "torch.Size([450, 64])\n",
      "<class 'numpy.ndarray'>\n"
     ]
    },
    {
     "name": "stderr",
     "output_type": "stream",
     "text": [
      " 44%|████▍     | 444/1000 [2:13:31<3:49:34, 24.77s/it]"
     ]
    },
    {
     "name": "stdout",
     "output_type": "stream",
     "text": [
      "eigenvalues shape torch.Size([5]) eigenvectors shape torch.Size([5, 450])\n",
      "444 /home/phdcs2/Hard_Disk/Datasets/Deep-Spectral-Segmentation/data/object-segmentation/ECSSD/features/dino_vits16/0445.pth\n",
      "dict_keys(['k', 'indices', 'file', 'id', 'model_name', 'patch_size', 'shape'])\n",
      "0445\n",
      "Starting Training\n",
      "epoch: 00, loss: -0.01474\n",
      "epoch: 01, loss: -0.04616\n",
      "epoch: 02, loss: -0.05270\n",
      "epoch: 03, loss: -0.05679\n",
      "epoch: 04, loss: -0.05507\n",
      "epoch: 05, loss: -0.05576\n",
      "epoch: 06, loss: -0.05973\n",
      "epoch: 07, loss: -0.05772\n",
      "epoch: 08, loss: -0.05798\n",
      "epoch: 09, loss: -0.05904\n",
      "torch.Size([400, 64])\n",
      "<class 'numpy.ndarray'>\n"
     ]
    },
    {
     "name": "stderr",
     "output_type": "stream",
     "text": [
      " 44%|████▍     | 445/1000 [2:13:50<3:33:35, 23.09s/it]"
     ]
    },
    {
     "name": "stdout",
     "output_type": "stream",
     "text": [
      "eigenvalues shape torch.Size([5]) eigenvectors shape torch.Size([5, 400])\n",
      "445 /home/phdcs2/Hard_Disk/Datasets/Deep-Spectral-Segmentation/data/object-segmentation/ECSSD/features/dino_vits16/0446.pth\n",
      "dict_keys(['k', 'indices', 'file', 'id', 'model_name', 'patch_size', 'shape'])\n",
      "0446\n",
      "Starting Training\n",
      "epoch: 00, loss: -0.06179\n",
      "epoch: 01, loss: -0.09643\n",
      "epoch: 02, loss: -0.09897\n",
      "epoch: 03, loss: -0.10405\n",
      "epoch: 04, loss: -0.10335\n",
      "epoch: 05, loss: -0.10505\n",
      "epoch: 06, loss: -0.10710\n",
      "epoch: 07, loss: -0.10706\n",
      "epoch: 08, loss: -0.10496\n",
      "epoch: 09, loss: -0.10626\n",
      "torch.Size([400, 64])\n",
      "<class 'numpy.ndarray'>\n"
     ]
    },
    {
     "name": "stderr",
     "output_type": "stream",
     "text": [
      " 45%|████▍     | 446/1000 [2:14:14<3:35:15, 23.31s/it]"
     ]
    },
    {
     "name": "stdout",
     "output_type": "stream",
     "text": [
      "eigenvalues shape torch.Size([5]) eigenvectors shape torch.Size([5, 400])\n",
      "446 /home/phdcs2/Hard_Disk/Datasets/Deep-Spectral-Segmentation/data/object-segmentation/ECSSD/features/dino_vits16/0447.pth\n",
      "dict_keys(['k', 'indices', 'file', 'id', 'model_name', 'patch_size', 'shape'])\n",
      "0447\n",
      "Starting Training\n",
      "epoch: 00, loss: -0.03265\n",
      "epoch: 01, loss: -0.06513\n",
      "epoch: 02, loss: -0.06834\n",
      "epoch: 03, loss: -0.07175\n",
      "epoch: 04, loss: -0.07166\n",
      "epoch: 05, loss: -0.07181\n",
      "epoch: 06, loss: -0.07335\n",
      "epoch: 07, loss: -0.07161\n",
      "epoch: 08, loss: -0.07365\n",
      "epoch: 09, loss: -0.07457\n",
      "torch.Size([400, 64])\n",
      "<class 'numpy.ndarray'>\n"
     ]
    },
    {
     "name": "stderr",
     "output_type": "stream",
     "text": [
      " 45%|████▍     | 447/1000 [2:14:41<3:45:40, 24.49s/it]"
     ]
    },
    {
     "name": "stdout",
     "output_type": "stream",
     "text": [
      "eigenvalues shape torch.Size([5]) eigenvectors shape torch.Size([5, 400])\n",
      "447 /home/phdcs2/Hard_Disk/Datasets/Deep-Spectral-Segmentation/data/object-segmentation/ECSSD/features/dino_vits16/0448.pth\n",
      "dict_keys(['k', 'indices', 'file', 'id', 'model_name', 'patch_size', 'shape'])\n",
      "0448\n",
      "Starting Training\n",
      "epoch: 00, loss: -0.01808\n",
      "epoch: 01, loss: -0.05363\n",
      "epoch: 02, loss: -0.06092\n",
      "epoch: 03, loss: -0.05947\n",
      "epoch: 04, loss: -0.06180\n",
      "epoch: 05, loss: -0.06162\n",
      "epoch: 06, loss: -0.06211\n",
      "epoch: 07, loss: -0.06168\n",
      "epoch: 08, loss: -0.05983\n",
      "epoch: 09, loss: -0.06530\n",
      "torch.Size([350, 64])\n",
      "<class 'numpy.ndarray'>\n"
     ]
    },
    {
     "name": "stderr",
     "output_type": "stream",
     "text": [
      " 45%|████▍     | 448/1000 [2:15:04<3:40:04, 23.92s/it]"
     ]
    },
    {
     "name": "stdout",
     "output_type": "stream",
     "text": [
      "eigenvalues shape torch.Size([5]) eigenvectors shape torch.Size([5, 350])\n",
      "448 /home/phdcs2/Hard_Disk/Datasets/Deep-Spectral-Segmentation/data/object-segmentation/ECSSD/features/dino_vits16/0449.pth\n",
      "dict_keys(['k', 'indices', 'file', 'id', 'model_name', 'patch_size', 'shape'])\n",
      "0449\n",
      "Starting Training\n",
      "epoch: 00, loss: -0.04786\n",
      "epoch: 01, loss: -0.06318\n",
      "epoch: 02, loss: -0.06299\n",
      "epoch: 03, loss: -0.06445\n",
      "epoch: 04, loss: -0.06490\n",
      "epoch: 05, loss: -0.06404\n",
      "epoch: 06, loss: -0.06420\n",
      "epoch: 07, loss: -0.06468\n",
      "epoch: 08, loss: -0.06574\n",
      "epoch: 09, loss: -0.06608\n",
      "torch.Size([475, 64])\n",
      "<class 'numpy.ndarray'>\n"
     ]
    },
    {
     "name": "stderr",
     "output_type": "stream",
     "text": [
      " 45%|████▍     | 449/1000 [2:15:32<3:50:47, 25.13s/it]"
     ]
    },
    {
     "name": "stdout",
     "output_type": "stream",
     "text": [
      "eigenvalues shape torch.Size([5]) eigenvectors shape torch.Size([5, 475])\n",
      "449 /home/phdcs2/Hard_Disk/Datasets/Deep-Spectral-Segmentation/data/object-segmentation/ECSSD/features/dino_vits16/0450.pth\n",
      "dict_keys(['k', 'indices', 'file', 'id', 'model_name', 'patch_size', 'shape'])\n",
      "0450\n",
      "Starting Training\n",
      "epoch: 00, loss: -0.05861\n",
      "epoch: 01, loss: -0.08891\n",
      "epoch: 02, loss: -0.09657\n",
      "epoch: 03, loss: -0.09827\n",
      "epoch: 04, loss: -0.09900\n",
      "epoch: 05, loss: -0.10026\n",
      "epoch: 06, loss: -0.10117\n",
      "epoch: 07, loss: -0.10362\n",
      "epoch: 08, loss: -0.10397\n",
      "epoch: 09, loss: -0.10125\n",
      "torch.Size([400, 64])\n",
      "<class 'numpy.ndarray'>\n"
     ]
    },
    {
     "name": "stderr",
     "output_type": "stream",
     "text": [
      " 45%|████▌     | 450/1000 [2:15:55<3:45:04, 24.55s/it]"
     ]
    },
    {
     "name": "stdout",
     "output_type": "stream",
     "text": [
      "eigenvalues shape torch.Size([5]) eigenvectors shape torch.Size([5, 400])\n",
      "450 /home/phdcs2/Hard_Disk/Datasets/Deep-Spectral-Segmentation/data/object-segmentation/ECSSD/features/dino_vits16/0451.pth\n",
      "dict_keys(['k', 'indices', 'file', 'id', 'model_name', 'patch_size', 'shape'])\n",
      "0451\n",
      "Starting Training\n",
      "epoch: 00, loss: -0.04970\n",
      "epoch: 01, loss: -0.07333\n",
      "epoch: 02, loss: -0.07414\n",
      "epoch: 03, loss: -0.07445\n",
      "epoch: 04, loss: -0.07463\n",
      "epoch: 05, loss: -0.07512\n",
      "epoch: 06, loss: -0.07517\n",
      "epoch: 07, loss: -0.07523\n",
      "epoch: 08, loss: -0.07547\n",
      "epoch: 09, loss: -0.07558\n",
      "torch.Size([450, 64])\n",
      "<class 'numpy.ndarray'>\n"
     ]
    },
    {
     "name": "stderr",
     "output_type": "stream",
     "text": [
      " 45%|████▌     | 451/1000 [2:16:19<3:43:51, 24.47s/it]"
     ]
    },
    {
     "name": "stdout",
     "output_type": "stream",
     "text": [
      "eigenvalues shape torch.Size([5]) eigenvectors shape torch.Size([5, 450])\n",
      "451 /home/phdcs2/Hard_Disk/Datasets/Deep-Spectral-Segmentation/data/object-segmentation/ECSSD/features/dino_vits16/0452.pth\n",
      "dict_keys(['k', 'indices', 'file', 'id', 'model_name', 'patch_size', 'shape'])\n",
      "0452\n",
      "Starting Training\n",
      "epoch: 00, loss: -0.02583\n",
      "epoch: 01, loss: -0.04559\n",
      "epoch: 02, loss: -0.04832\n",
      "epoch: 03, loss: -0.04902\n",
      "epoch: 04, loss: -0.04837\n",
      "epoch: 05, loss: -0.05005\n",
      "epoch: 06, loss: -0.04975\n",
      "epoch: 07, loss: -0.05012\n",
      "epoch: 08, loss: -0.04916\n",
      "epoch: 09, loss: -0.04929\n",
      "torch.Size([475, 64])\n",
      "<class 'numpy.ndarray'>\n"
     ]
    },
    {
     "name": "stderr",
     "output_type": "stream",
     "text": [
      " 45%|████▌     | 452/1000 [2:16:46<3:49:26, 25.12s/it]"
     ]
    },
    {
     "name": "stdout",
     "output_type": "stream",
     "text": [
      "eigenvalues shape torch.Size([5]) eigenvectors shape torch.Size([5, 475])\n",
      "452 /home/phdcs2/Hard_Disk/Datasets/Deep-Spectral-Segmentation/data/object-segmentation/ECSSD/features/dino_vits16/0453.pth\n",
      "dict_keys(['k', 'indices', 'file', 'id', 'model_name', 'patch_size', 'shape'])\n",
      "0453\n",
      "Starting Training\n",
      "epoch: 00, loss: -0.00908\n",
      "epoch: 01, loss: -0.03238\n",
      "epoch: 02, loss: -0.03571\n",
      "epoch: 03, loss: -0.03733\n",
      "epoch: 04, loss: -0.04048\n",
      "epoch: 05, loss: -0.04382\n",
      "epoch: 06, loss: -0.04441\n",
      "epoch: 07, loss: -0.04045\n",
      "epoch: 08, loss: -0.04212\n",
      "epoch: 09, loss: -0.04273\n",
      "torch.Size([400, 64])\n",
      "<class 'numpy.ndarray'>\n"
     ]
    },
    {
     "name": "stderr",
     "output_type": "stream",
     "text": [
      " 45%|████▌     | 453/1000 [2:17:08<3:40:42, 24.21s/it]"
     ]
    },
    {
     "name": "stdout",
     "output_type": "stream",
     "text": [
      "eigenvalues shape torch.Size([5]) eigenvectors shape torch.Size([5, 400])\n",
      "453 /home/phdcs2/Hard_Disk/Datasets/Deep-Spectral-Segmentation/data/object-segmentation/ECSSD/features/dino_vits16/0454.pth\n",
      "dict_keys(['k', 'indices', 'file', 'id', 'model_name', 'patch_size', 'shape'])\n",
      "0454\n",
      "Starting Training\n",
      "epoch: 00, loss: -0.06257\n",
      "epoch: 01, loss: -0.09550\n",
      "epoch: 02, loss: -0.09986\n",
      "epoch: 03, loss: -0.10187\n",
      "epoch: 04, loss: -0.10323\n",
      "epoch: 05, loss: -0.10421\n",
      "epoch: 06, loss: -0.10311\n",
      "epoch: 07, loss: -0.10589\n",
      "epoch: 08, loss: -0.10658\n",
      "epoch: 09, loss: -0.10685\n",
      "torch.Size([400, 64])\n",
      "<class 'numpy.ndarray'>\n"
     ]
    },
    {
     "name": "stderr",
     "output_type": "stream",
     "text": [
      " 45%|████▌     | 454/1000 [2:17:30<3:33:19, 23.44s/it]"
     ]
    },
    {
     "name": "stdout",
     "output_type": "stream",
     "text": [
      "eigenvalues shape torch.Size([5]) eigenvectors shape torch.Size([5, 400])\n",
      "454 /home/phdcs2/Hard_Disk/Datasets/Deep-Spectral-Segmentation/data/object-segmentation/ECSSD/features/dino_vits16/0455.pth\n",
      "dict_keys(['k', 'indices', 'file', 'id', 'model_name', 'patch_size', 'shape'])\n",
      "0455\n",
      "Starting Training\n",
      "epoch: 00, loss: -0.05044\n",
      "epoch: 01, loss: -0.08486\n",
      "epoch: 02, loss: -0.08895\n",
      "epoch: 03, loss: -0.09492\n",
      "epoch: 04, loss: -0.09204\n",
      "epoch: 05, loss: -0.09273\n",
      "epoch: 06, loss: -0.09239\n",
      "epoch: 07, loss: -0.09310\n",
      "epoch: 08, loss: -0.09574\n",
      "epoch: 09, loss: -0.09537\n",
      "torch.Size([400, 64])\n",
      "<class 'numpy.ndarray'>\n"
     ]
    },
    {
     "name": "stderr",
     "output_type": "stream",
     "text": [
      " 46%|████▌     | 455/1000 [2:17:49<3:21:55, 22.23s/it]"
     ]
    },
    {
     "name": "stdout",
     "output_type": "stream",
     "text": [
      "eigenvalues shape torch.Size([5]) eigenvectors shape torch.Size([5, 400])\n",
      "455 /home/phdcs2/Hard_Disk/Datasets/Deep-Spectral-Segmentation/data/object-segmentation/ECSSD/features/dino_vits16/0456.pth\n",
      "dict_keys(['k', 'indices', 'file', 'id', 'model_name', 'patch_size', 'shape'])\n",
      "0456\n",
      "Starting Training\n",
      "epoch: 00, loss: 0.00277\n",
      "epoch: 01, loss: -0.01093\n",
      "epoch: 02, loss: -0.01703\n",
      "epoch: 03, loss: -0.01748\n",
      "epoch: 04, loss: -0.01860\n",
      "epoch: 05, loss: -0.01907\n",
      "epoch: 06, loss: -0.01912\n",
      "epoch: 07, loss: -0.01978\n",
      "epoch: 08, loss: -0.02054\n",
      "epoch: 09, loss: -0.01983\n",
      "torch.Size([425, 64])\n",
      "<class 'numpy.ndarray'>\n"
     ]
    },
    {
     "name": "stderr",
     "output_type": "stream",
     "text": [
      " 46%|████▌     | 456/1000 [2:18:18<3:38:27, 24.09s/it]"
     ]
    },
    {
     "name": "stdout",
     "output_type": "stream",
     "text": [
      "eigenvalues shape torch.Size([5]) eigenvectors shape torch.Size([5, 425])\n",
      "456 /home/phdcs2/Hard_Disk/Datasets/Deep-Spectral-Segmentation/data/object-segmentation/ECSSD/features/dino_vits16/0457.pth\n",
      "dict_keys(['k', 'indices', 'file', 'id', 'model_name', 'patch_size', 'shape'])\n",
      "0457\n",
      "Starting Training\n",
      "epoch: 00, loss: 0.00670\n",
      "epoch: 01, loss: 0.00061\n",
      "epoch: 02, loss: -0.00184\n",
      "epoch: 03, loss: -0.00404\n",
      "epoch: 04, loss: -0.00553\n",
      "epoch: 05, loss: -0.00654\n",
      "epoch: 06, loss: -0.00742\n",
      "epoch: 07, loss: -0.00792\n",
      "epoch: 08, loss: -0.00824\n",
      "epoch: 09, loss: -0.00857\n",
      "torch.Size([400, 64])\n",
      "<class 'numpy.ndarray'>\n"
     ]
    },
    {
     "name": "stderr",
     "output_type": "stream",
     "text": [
      " 46%|████▌     | 457/1000 [2:18:43<3:41:33, 24.48s/it]"
     ]
    },
    {
     "name": "stdout",
     "output_type": "stream",
     "text": [
      "eigenvalues shape torch.Size([5]) eigenvectors shape torch.Size([5, 400])\n",
      "457 /home/phdcs2/Hard_Disk/Datasets/Deep-Spectral-Segmentation/data/object-segmentation/ECSSD/features/dino_vits16/0458.pth\n",
      "dict_keys(['k', 'indices', 'file', 'id', 'model_name', 'patch_size', 'shape'])\n",
      "0458\n",
      "Starting Training\n",
      "epoch: 00, loss: -0.08178\n",
      "epoch: 01, loss: -0.12598\n",
      "epoch: 02, loss: -0.13033\n",
      "epoch: 03, loss: -0.13541\n",
      "epoch: 04, loss: -0.13547\n",
      "epoch: 05, loss: -0.13647\n",
      "epoch: 06, loss: -0.13931\n",
      "epoch: 07, loss: -0.13744\n",
      "epoch: 08, loss: -0.13942\n",
      "epoch: 09, loss: -0.13960\n",
      "torch.Size([450, 64])\n",
      "<class 'numpy.ndarray'>\n"
     ]
    },
    {
     "name": "stderr",
     "output_type": "stream",
     "text": [
      " 46%|████▌     | 458/1000 [2:19:10<3:49:26, 25.40s/it]"
     ]
    },
    {
     "name": "stdout",
     "output_type": "stream",
     "text": [
      "eigenvalues shape torch.Size([5]) eigenvectors shape torch.Size([5, 450])\n",
      "458 /home/phdcs2/Hard_Disk/Datasets/Deep-Spectral-Segmentation/data/object-segmentation/ECSSD/features/dino_vits16/0459.pth\n",
      "dict_keys(['k', 'indices', 'file', 'id', 'model_name', 'patch_size', 'shape'])\n",
      "0459\n",
      "Starting Training\n",
      "epoch: 00, loss: -0.04943\n",
      "epoch: 01, loss: -0.08487\n",
      "epoch: 02, loss: -0.08755\n",
      "epoch: 03, loss: -0.08809\n",
      "epoch: 04, loss: -0.08976\n",
      "epoch: 05, loss: -0.09018\n",
      "epoch: 06, loss: -0.08707\n",
      "epoch: 07, loss: -0.09064\n",
      "epoch: 08, loss: -0.09016\n",
      "epoch: 09, loss: -0.09071\n",
      "torch.Size([400, 64])\n",
      "<class 'numpy.ndarray'>\n"
     ]
    },
    {
     "name": "stderr",
     "output_type": "stream",
     "text": [
      " 46%|████▌     | 459/1000 [2:19:33<3:40:34, 24.46s/it]"
     ]
    },
    {
     "name": "stdout",
     "output_type": "stream",
     "text": [
      "eigenvalues shape torch.Size([5]) eigenvectors shape torch.Size([5, 400])\n",
      "459 /home/phdcs2/Hard_Disk/Datasets/Deep-Spectral-Segmentation/data/object-segmentation/ECSSD/features/dino_vits16/0460.pth\n",
      "dict_keys(['k', 'indices', 'file', 'id', 'model_name', 'patch_size', 'shape'])\n",
      "0460\n",
      "Starting Training\n",
      "epoch: 00, loss: -0.08659\n",
      "epoch: 01, loss: -0.09957\n",
      "epoch: 02, loss: -0.09995\n",
      "epoch: 03, loss: -0.10018\n",
      "epoch: 04, loss: -0.10037\n",
      "epoch: 05, loss: -0.10093\n",
      "epoch: 06, loss: -0.10073\n",
      "epoch: 07, loss: -0.10095\n",
      "epoch: 08, loss: -0.10103\n",
      "epoch: 09, loss: -0.10126\n",
      "torch.Size([450, 64])\n",
      "<class 'numpy.ndarray'>\n"
     ]
    },
    {
     "name": "stderr",
     "output_type": "stream",
     "text": [
      " 46%|████▌     | 460/1000 [2:19:56<3:36:54, 24.10s/it]"
     ]
    },
    {
     "name": "stdout",
     "output_type": "stream",
     "text": [
      "eigenvalues shape torch.Size([5]) eigenvectors shape torch.Size([5, 450])\n",
      "460 /home/phdcs2/Hard_Disk/Datasets/Deep-Spectral-Segmentation/data/object-segmentation/ECSSD/features/dino_vits16/0461.pth\n",
      "dict_keys(['k', 'indices', 'file', 'id', 'model_name', 'patch_size', 'shape'])\n",
      "0461\n",
      "Starting Training\n",
      "epoch: 00, loss: -0.03958\n",
      "epoch: 01, loss: -0.06647\n",
      "epoch: 02, loss: -0.07058\n",
      "epoch: 03, loss: -0.07239\n",
      "epoch: 04, loss: -0.07461\n",
      "epoch: 05, loss: -0.07154\n",
      "epoch: 06, loss: -0.07135\n",
      "epoch: 07, loss: -0.07473\n",
      "epoch: 08, loss: -0.07388\n",
      "epoch: 09, loss: -0.07406\n",
      "torch.Size([450, 64])\n",
      "<class 'numpy.ndarray'>\n"
     ]
    },
    {
     "name": "stderr",
     "output_type": "stream",
     "text": [
      " 46%|████▌     | 461/1000 [2:20:20<3:36:43, 24.12s/it]"
     ]
    },
    {
     "name": "stdout",
     "output_type": "stream",
     "text": [
      "eigenvalues shape torch.Size([5]) eigenvectors shape torch.Size([5, 450])\n",
      "461 /home/phdcs2/Hard_Disk/Datasets/Deep-Spectral-Segmentation/data/object-segmentation/ECSSD/features/dino_vits16/0462.pth\n",
      "dict_keys(['k', 'indices', 'file', 'id', 'model_name', 'patch_size', 'shape'])\n",
      "0462\n",
      "Starting Training\n",
      "epoch: 00, loss: -0.04463\n",
      "epoch: 01, loss: -0.06910\n",
      "epoch: 02, loss: -0.07026\n",
      "epoch: 03, loss: -0.07077\n",
      "epoch: 04, loss: -0.07105\n",
      "epoch: 05, loss: -0.07138\n",
      "epoch: 06, loss: -0.07135\n",
      "epoch: 07, loss: -0.07162\n",
      "epoch: 08, loss: -0.07186\n",
      "epoch: 09, loss: -0.07185\n",
      "torch.Size([400, 64])\n",
      "<class 'numpy.ndarray'>\n"
     ]
    },
    {
     "name": "stderr",
     "output_type": "stream",
     "text": [
      " 46%|████▌     | 462/1000 [2:20:43<3:32:03, 23.65s/it]"
     ]
    },
    {
     "name": "stdout",
     "output_type": "stream",
     "text": [
      "eigenvalues shape torch.Size([5]) eigenvectors shape torch.Size([5, 400])\n",
      "462 /home/phdcs2/Hard_Disk/Datasets/Deep-Spectral-Segmentation/data/object-segmentation/ECSSD/features/dino_vits16/0463.pth\n",
      "dict_keys(['k', 'indices', 'file', 'id', 'model_name', 'patch_size', 'shape'])\n",
      "0463\n",
      "Starting Training\n",
      "epoch: 00, loss: -0.00813\n",
      "epoch: 01, loss: -0.03261\n",
      "epoch: 02, loss: -0.03689\n",
      "epoch: 03, loss: -0.03811\n",
      "epoch: 04, loss: -0.03866\n",
      "epoch: 05, loss: -0.03888\n",
      "epoch: 06, loss: -0.03918\n",
      "epoch: 07, loss: -0.03930\n",
      "epoch: 08, loss: -0.03934\n",
      "epoch: 09, loss: -0.03942\n",
      "torch.Size([450, 64])\n",
      "<class 'numpy.ndarray'>\n"
     ]
    },
    {
     "name": "stderr",
     "output_type": "stream",
     "text": [
      " 46%|████▋     | 463/1000 [2:21:08<3:35:25, 24.07s/it]"
     ]
    },
    {
     "name": "stdout",
     "output_type": "stream",
     "text": [
      "eigenvalues shape torch.Size([5]) eigenvectors shape torch.Size([5, 450])\n",
      "463 /home/phdcs2/Hard_Disk/Datasets/Deep-Spectral-Segmentation/data/object-segmentation/ECSSD/features/dino_vits16/0464.pth\n",
      "dict_keys(['k', 'indices', 'file', 'id', 'model_name', 'patch_size', 'shape'])\n",
      "0464\n",
      "Starting Training\n",
      "epoch: 00, loss: -0.02772\n",
      "epoch: 01, loss: -0.04472\n",
      "epoch: 02, loss: -0.04665\n",
      "epoch: 03, loss: -0.04707\n",
      "epoch: 04, loss: -0.04750\n",
      "epoch: 05, loss: -0.04779\n",
      "epoch: 06, loss: -0.04767\n",
      "epoch: 07, loss: -0.04793\n",
      "epoch: 08, loss: -0.04800\n",
      "epoch: 09, loss: -0.04808\n",
      "torch.Size([450, 64])\n",
      "<class 'numpy.ndarray'>\n"
     ]
    },
    {
     "name": "stderr",
     "output_type": "stream",
     "text": [
      " 46%|████▋     | 464/1000 [2:21:32<3:34:57, 24.06s/it]"
     ]
    },
    {
     "name": "stdout",
     "output_type": "stream",
     "text": [
      "eigenvalues shape torch.Size([5]) eigenvectors shape torch.Size([5, 450])\n",
      "464 /home/phdcs2/Hard_Disk/Datasets/Deep-Spectral-Segmentation/data/object-segmentation/ECSSD/features/dino_vits16/0465.pth\n",
      "dict_keys(['k', 'indices', 'file', 'id', 'model_name', 'patch_size', 'shape'])\n",
      "0465\n",
      "Starting Training\n",
      "epoch: 00, loss: -0.02331\n",
      "epoch: 01, loss: -0.03794\n",
      "epoch: 02, loss: -0.03988\n",
      "epoch: 03, loss: -0.04046\n",
      "epoch: 04, loss: -0.04074\n",
      "epoch: 05, loss: -0.04102\n",
      "epoch: 06, loss: -0.04131\n",
      "epoch: 07, loss: -0.04135\n",
      "epoch: 08, loss: -0.04153\n",
      "epoch: 09, loss: -0.04167\n",
      "torch.Size([450, 64])\n",
      "<class 'numpy.ndarray'>\n"
     ]
    },
    {
     "name": "stderr",
     "output_type": "stream",
     "text": [
      " 46%|████▋     | 465/1000 [2:21:54<3:28:22, 23.37s/it]"
     ]
    },
    {
     "name": "stdout",
     "output_type": "stream",
     "text": [
      "eigenvalues shape torch.Size([5]) eigenvectors shape torch.Size([5, 450])\n",
      "465 /home/phdcs2/Hard_Disk/Datasets/Deep-Spectral-Segmentation/data/object-segmentation/ECSSD/features/dino_vits16/0466.pth\n",
      "dict_keys(['k', 'indices', 'file', 'id', 'model_name', 'patch_size', 'shape'])\n",
      "0466\n",
      "Starting Training\n",
      "epoch: 00, loss: 0.00329\n",
      "epoch: 01, loss: -0.01229\n",
      "epoch: 02, loss: -0.01897\n",
      "epoch: 03, loss: -0.02118\n",
      "epoch: 04, loss: -0.02228\n",
      "epoch: 05, loss: -0.02279\n",
      "epoch: 06, loss: -0.02350\n",
      "epoch: 07, loss: -0.02350\n",
      "epoch: 08, loss: -0.02389\n",
      "epoch: 09, loss: -0.02391\n",
      "torch.Size([400, 64])\n",
      "<class 'numpy.ndarray'>\n"
     ]
    },
    {
     "name": "stderr",
     "output_type": "stream",
     "text": [
      " 47%|████▋     | 466/1000 [2:22:18<3:30:57, 23.70s/it]"
     ]
    },
    {
     "name": "stdout",
     "output_type": "stream",
     "text": [
      "eigenvalues shape torch.Size([5]) eigenvectors shape torch.Size([5, 400])\n",
      "466 /home/phdcs2/Hard_Disk/Datasets/Deep-Spectral-Segmentation/data/object-segmentation/ECSSD/features/dino_vits16/0467.pth\n",
      "dict_keys(['k', 'indices', 'file', 'id', 'model_name', 'patch_size', 'shape'])\n",
      "0467\n",
      "Starting Training\n",
      "epoch: 00, loss: -0.02203\n",
      "epoch: 01, loss: -0.04806\n",
      "epoch: 02, loss: -0.04973\n",
      "epoch: 03, loss: -0.05030\n",
      "epoch: 04, loss: -0.04892\n",
      "epoch: 05, loss: -0.05066\n",
      "epoch: 06, loss: -0.04939\n",
      "epoch: 07, loss: -0.05113\n",
      "epoch: 08, loss: -0.05111\n",
      "epoch: 09, loss: -0.04973\n",
      "torch.Size([425, 64])\n",
      "<class 'numpy.ndarray'>\n"
     ]
    },
    {
     "name": "stderr",
     "output_type": "stream",
     "text": [
      " 47%|████▋     | 467/1000 [2:22:41<3:27:38, 23.38s/it]"
     ]
    },
    {
     "name": "stdout",
     "output_type": "stream",
     "text": [
      "eigenvalues shape torch.Size([5]) eigenvectors shape torch.Size([5, 425])\n",
      "467 /home/phdcs2/Hard_Disk/Datasets/Deep-Spectral-Segmentation/data/object-segmentation/ECSSD/features/dino_vits16/0468.pth\n",
      "dict_keys(['k', 'indices', 'file', 'id', 'model_name', 'patch_size', 'shape'])\n",
      "0468\n",
      "Starting Training\n",
      "epoch: 00, loss: -0.01882\n",
      "epoch: 01, loss: -0.03942\n",
      "epoch: 02, loss: -0.04216\n",
      "epoch: 03, loss: -0.04270\n",
      "epoch: 04, loss: -0.04334\n",
      "epoch: 05, loss: -0.04255\n",
      "epoch: 06, loss: -0.04341\n",
      "epoch: 07, loss: -0.04339\n",
      "epoch: 08, loss: -0.04339\n",
      "epoch: 09, loss: -0.04299\n",
      "torch.Size([450, 64])\n",
      "<class 'numpy.ndarray'>\n"
     ]
    },
    {
     "name": "stderr",
     "output_type": "stream",
     "text": [
      " 47%|████▋     | 468/1000 [2:23:05<3:30:43, 23.77s/it]"
     ]
    },
    {
     "name": "stdout",
     "output_type": "stream",
     "text": [
      "eigenvalues shape torch.Size([5]) eigenvectors shape torch.Size([5, 450])\n",
      "468 /home/phdcs2/Hard_Disk/Datasets/Deep-Spectral-Segmentation/data/object-segmentation/ECSSD/features/dino_vits16/0469.pth\n",
      "dict_keys(['k', 'indices', 'file', 'id', 'model_name', 'patch_size', 'shape'])\n",
      "0469\n",
      "Starting Training\n",
      "epoch: 00, loss: -0.02974\n",
      "epoch: 01, loss: -0.06220\n",
      "epoch: 02, loss: -0.06906\n",
      "epoch: 03, loss: -0.07062\n",
      "epoch: 04, loss: -0.07253\n",
      "epoch: 05, loss: -0.07319\n",
      "epoch: 06, loss: -0.07530\n",
      "epoch: 07, loss: -0.07624\n",
      "epoch: 08, loss: -0.07557\n",
      "epoch: 09, loss: -0.07460\n",
      "torch.Size([400, 64])\n",
      "<class 'numpy.ndarray'>\n"
     ]
    },
    {
     "name": "stderr",
     "output_type": "stream",
     "text": [
      " 47%|████▋     | 469/1000 [2:23:26<3:21:25, 22.76s/it]"
     ]
    },
    {
     "name": "stdout",
     "output_type": "stream",
     "text": [
      "eigenvalues shape torch.Size([5]) eigenvectors shape torch.Size([5, 400])\n",
      "469 /home/phdcs2/Hard_Disk/Datasets/Deep-Spectral-Segmentation/data/object-segmentation/ECSSD/features/dino_vits16/0470.pth\n",
      "dict_keys(['k', 'indices', 'file', 'id', 'model_name', 'patch_size', 'shape'])\n",
      "0470\n",
      "Starting Training\n",
      "epoch: 00, loss: -0.03272\n",
      "epoch: 01, loss: -0.06169\n",
      "epoch: 02, loss: -0.06801\n",
      "epoch: 03, loss: -0.06927\n",
      "epoch: 04, loss: -0.07266\n",
      "epoch: 05, loss: -0.07098\n",
      "epoch: 06, loss: -0.07499\n",
      "epoch: 07, loss: -0.07247\n",
      "epoch: 08, loss: -0.07340\n",
      "epoch: 09, loss: -0.07332\n",
      "torch.Size([400, 64])\n",
      "<class 'numpy.ndarray'>\n"
     ]
    },
    {
     "name": "stderr",
     "output_type": "stream",
     "text": [
      " 47%|████▋     | 470/1000 [2:23:46<3:14:25, 22.01s/it]"
     ]
    },
    {
     "name": "stdout",
     "output_type": "stream",
     "text": [
      "eigenvalues shape torch.Size([5]) eigenvectors shape torch.Size([5, 400])\n",
      "470 /home/phdcs2/Hard_Disk/Datasets/Deep-Spectral-Segmentation/data/object-segmentation/ECSSD/features/dino_vits16/0471.pth\n",
      "dict_keys(['k', 'indices', 'file', 'id', 'model_name', 'patch_size', 'shape'])\n",
      "0471\n",
      "Starting Training\n",
      "epoch: 00, loss: -0.01931\n",
      "epoch: 01, loss: -0.04788\n",
      "epoch: 02, loss: -0.05366\n",
      "epoch: 03, loss: -0.05400\n",
      "epoch: 04, loss: -0.05576\n",
      "epoch: 05, loss: -0.05761\n",
      "epoch: 06, loss: -0.05644\n",
      "epoch: 07, loss: -0.05920\n",
      "epoch: 08, loss: -0.05897\n",
      "epoch: 09, loss: -0.05977\n",
      "torch.Size([450, 64])\n",
      "<class 'numpy.ndarray'>\n"
     ]
    },
    {
     "name": "stderr",
     "output_type": "stream",
     "text": [
      " 47%|████▋     | 471/1000 [2:24:11<3:22:10, 22.93s/it]"
     ]
    },
    {
     "name": "stdout",
     "output_type": "stream",
     "text": [
      "eigenvalues shape torch.Size([5]) eigenvectors shape torch.Size([5, 450])\n",
      "471 /home/phdcs2/Hard_Disk/Datasets/Deep-Spectral-Segmentation/data/object-segmentation/ECSSD/features/dino_vits16/0472.pth\n",
      "dict_keys(['k', 'indices', 'file', 'id', 'model_name', 'patch_size', 'shape'])\n",
      "0472\n",
      "Starting Training\n",
      "epoch: 00, loss: -0.01683\n",
      "epoch: 01, loss: -0.03524\n",
      "epoch: 02, loss: -0.04041\n",
      "epoch: 03, loss: -0.04175\n",
      "epoch: 04, loss: -0.04131\n",
      "epoch: 05, loss: -0.04093\n",
      "epoch: 06, loss: -0.04452\n",
      "epoch: 07, loss: -0.04398\n",
      "epoch: 08, loss: -0.04505\n",
      "epoch: 09, loss: -0.04275\n",
      "torch.Size([400, 64])\n",
      "<class 'numpy.ndarray'>\n"
     ]
    },
    {
     "name": "stderr",
     "output_type": "stream",
     "text": [
      " 47%|████▋     | 472/1000 [2:24:34<3:20:54, 22.83s/it]"
     ]
    },
    {
     "name": "stdout",
     "output_type": "stream",
     "text": [
      "eigenvalues shape torch.Size([5]) eigenvectors shape torch.Size([5, 400])\n",
      "472 /home/phdcs2/Hard_Disk/Datasets/Deep-Spectral-Segmentation/data/object-segmentation/ECSSD/features/dino_vits16/0473.pth\n",
      "dict_keys(['k', 'indices', 'file', 'id', 'model_name', 'patch_size', 'shape'])\n",
      "0473\n",
      "Starting Training\n",
      "epoch: 00, loss: -0.00870\n",
      "epoch: 01, loss: -0.02700\n",
      "epoch: 02, loss: -0.03111\n",
      "epoch: 03, loss: -0.03310\n",
      "epoch: 04, loss: -0.03346\n",
      "epoch: 05, loss: -0.03342\n",
      "epoch: 06, loss: -0.03341\n",
      "epoch: 07, loss: -0.03393\n",
      "epoch: 08, loss: -0.03398\n",
      "epoch: 09, loss: -0.03462\n",
      "torch.Size([425, 64])\n",
      "<class 'numpy.ndarray'>\n"
     ]
    },
    {
     "name": "stderr",
     "output_type": "stream",
     "text": [
      " 47%|████▋     | 473/1000 [2:24:54<3:14:57, 22.20s/it]"
     ]
    },
    {
     "name": "stdout",
     "output_type": "stream",
     "text": [
      "eigenvalues shape torch.Size([5]) eigenvectors shape torch.Size([5, 425])\n",
      "473 /home/phdcs2/Hard_Disk/Datasets/Deep-Spectral-Segmentation/data/object-segmentation/ECSSD/features/dino_vits16/0474.pth\n",
      "dict_keys(['k', 'indices', 'file', 'id', 'model_name', 'patch_size', 'shape'])\n",
      "0474\n",
      "Starting Training\n",
      "epoch: 00, loss: -0.01969\n",
      "epoch: 01, loss: -0.03708\n",
      "epoch: 02, loss: -0.04003\n",
      "epoch: 03, loss: -0.04083\n",
      "epoch: 04, loss: -0.04099\n",
      "epoch: 05, loss: -0.04130\n",
      "epoch: 06, loss: -0.04182\n",
      "epoch: 07, loss: -0.04181\n",
      "epoch: 08, loss: -0.04202\n",
      "epoch: 09, loss: -0.04190\n",
      "torch.Size([400, 64])\n",
      "<class 'numpy.ndarray'>\n"
     ]
    },
    {
     "name": "stderr",
     "output_type": "stream",
     "text": [
      " 47%|████▋     | 474/1000 [2:25:17<3:14:44, 22.21s/it]"
     ]
    },
    {
     "name": "stdout",
     "output_type": "stream",
     "text": [
      "eigenvalues shape torch.Size([5]) eigenvectors shape torch.Size([5, 400])\n",
      "474 /home/phdcs2/Hard_Disk/Datasets/Deep-Spectral-Segmentation/data/object-segmentation/ECSSD/features/dino_vits16/0475.pth\n",
      "dict_keys(['k', 'indices', 'file', 'id', 'model_name', 'patch_size', 'shape'])\n",
      "0475\n",
      "Starting Training\n",
      "epoch: 00, loss: -0.04569\n",
      "epoch: 01, loss: -0.07283\n",
      "epoch: 02, loss: -0.07381\n",
      "epoch: 03, loss: -0.07425\n",
      "epoch: 04, loss: -0.07418\n",
      "epoch: 05, loss: -0.07472\n",
      "epoch: 06, loss: -0.07449\n",
      "epoch: 07, loss: -0.07479\n",
      "epoch: 08, loss: -0.07487\n",
      "epoch: 09, loss: -0.07481\n",
      "torch.Size([400, 64])\n",
      "<class 'numpy.ndarray'>\n"
     ]
    },
    {
     "name": "stderr",
     "output_type": "stream",
     "text": [
      " 48%|████▊     | 475/1000 [2:25:42<3:21:32, 23.03s/it]"
     ]
    },
    {
     "name": "stdout",
     "output_type": "stream",
     "text": [
      "eigenvalues shape torch.Size([5]) eigenvectors shape torch.Size([5, 400])\n",
      "475 /home/phdcs2/Hard_Disk/Datasets/Deep-Spectral-Segmentation/data/object-segmentation/ECSSD/features/dino_vits16/0476.pth\n",
      "dict_keys(['k', 'indices', 'file', 'id', 'model_name', 'patch_size', 'shape'])\n",
      "0476\n",
      "Starting Training\n",
      "epoch: 00, loss: -0.01399\n",
      "epoch: 01, loss: -0.03205\n",
      "epoch: 02, loss: -0.03439\n",
      "epoch: 03, loss: -0.03676\n",
      "epoch: 04, loss: -0.03645\n",
      "epoch: 05, loss: -0.03736\n",
      "epoch: 06, loss: -0.03724\n",
      "epoch: 07, loss: -0.03785\n",
      "epoch: 08, loss: -0.03751\n",
      "epoch: 09, loss: -0.03772\n",
      "torch.Size([400, 64])\n",
      "<class 'numpy.ndarray'>\n"
     ]
    },
    {
     "name": "stderr",
     "output_type": "stream",
     "text": [
      " 48%|████▊     | 476/1000 [2:26:04<3:19:16, 22.82s/it]"
     ]
    },
    {
     "name": "stdout",
     "output_type": "stream",
     "text": [
      "eigenvalues shape torch.Size([5]) eigenvectors shape torch.Size([5, 400])\n",
      "476 /home/phdcs2/Hard_Disk/Datasets/Deep-Spectral-Segmentation/data/object-segmentation/ECSSD/features/dino_vits16/0477.pth\n",
      "dict_keys(['k', 'indices', 'file', 'id', 'model_name', 'patch_size', 'shape'])\n",
      "0477\n",
      "Starting Training\n",
      "epoch: 00, loss: -0.01321\n",
      "epoch: 01, loss: -0.03573\n",
      "epoch: 02, loss: -0.03918\n",
      "epoch: 03, loss: -0.04011\n",
      "epoch: 04, loss: -0.04051\n",
      "epoch: 05, loss: -0.04066\n",
      "epoch: 06, loss: -0.04096\n",
      "epoch: 07, loss: -0.04104\n",
      "epoch: 08, loss: -0.04127\n",
      "epoch: 09, loss: -0.04140\n",
      "torch.Size([450, 64])\n",
      "<class 'numpy.ndarray'>\n"
     ]
    },
    {
     "name": "stderr",
     "output_type": "stream",
     "text": [
      " 48%|████▊     | 477/1000 [2:26:32<3:31:46, 24.30s/it]"
     ]
    },
    {
     "name": "stdout",
     "output_type": "stream",
     "text": [
      "eigenvalues shape torch.Size([5]) eigenvectors shape torch.Size([5, 450])\n",
      "477 /home/phdcs2/Hard_Disk/Datasets/Deep-Spectral-Segmentation/data/object-segmentation/ECSSD/features/dino_vits16/0478.pth\n",
      "dict_keys(['k', 'indices', 'file', 'id', 'model_name', 'patch_size', 'shape'])\n",
      "0478\n",
      "Starting Training\n",
      "epoch: 00, loss: 0.00029\n",
      "epoch: 01, loss: -0.01518\n",
      "epoch: 02, loss: -0.02076\n",
      "epoch: 03, loss: -0.02270\n",
      "epoch: 04, loss: -0.02370\n",
      "epoch: 05, loss: -0.02418\n",
      "epoch: 06, loss: -0.02451\n",
      "epoch: 07, loss: -0.02456\n",
      "epoch: 08, loss: -0.02488\n",
      "epoch: 09, loss: -0.02505\n",
      "torch.Size([400, 64])\n",
      "<class 'numpy.ndarray'>\n"
     ]
    },
    {
     "name": "stderr",
     "output_type": "stream",
     "text": [
      " 48%|████▊     | 478/1000 [2:26:55<3:29:08, 24.04s/it]"
     ]
    },
    {
     "name": "stdout",
     "output_type": "stream",
     "text": [
      "eigenvalues shape torch.Size([5]) eigenvectors shape torch.Size([5, 400])\n",
      "478 /home/phdcs2/Hard_Disk/Datasets/Deep-Spectral-Segmentation/data/object-segmentation/ECSSD/features/dino_vits16/0479.pth\n",
      "dict_keys(['k', 'indices', 'file', 'id', 'model_name', 'patch_size', 'shape'])\n",
      "0479\n",
      "Starting Training\n",
      "epoch: 00, loss: -0.07519\n",
      "epoch: 01, loss: -0.10311\n",
      "epoch: 02, loss: -0.11000\n",
      "epoch: 03, loss: -0.10896\n",
      "epoch: 04, loss: -0.11270\n",
      "epoch: 05, loss: -0.11253\n",
      "epoch: 06, loss: -0.11274\n",
      "epoch: 07, loss: -0.11380\n",
      "epoch: 08, loss: -0.11340\n",
      "epoch: 09, loss: -0.11161\n",
      "torch.Size([450, 64])\n",
      "<class 'numpy.ndarray'>\n"
     ]
    },
    {
     "name": "stderr",
     "output_type": "stream",
     "text": [
      " 48%|████▊     | 479/1000 [2:27:18<3:25:40, 23.69s/it]"
     ]
    },
    {
     "name": "stdout",
     "output_type": "stream",
     "text": [
      "eigenvalues shape torch.Size([5]) eigenvectors shape torch.Size([5, 450])\n",
      "479 /home/phdcs2/Hard_Disk/Datasets/Deep-Spectral-Segmentation/data/object-segmentation/ECSSD/features/dino_vits16/0480.pth\n",
      "dict_keys(['k', 'indices', 'file', 'id', 'model_name', 'patch_size', 'shape'])\n",
      "0480\n",
      "Starting Training\n",
      "epoch: 00, loss: -0.04339\n",
      "epoch: 01, loss: -0.06428\n",
      "epoch: 02, loss: -0.06521\n",
      "epoch: 03, loss: -0.06466\n",
      "epoch: 04, loss: -0.06673\n",
      "epoch: 05, loss: -0.06615\n",
      "epoch: 06, loss: -0.06652\n",
      "epoch: 07, loss: -0.06738\n",
      "epoch: 08, loss: -0.06823\n",
      "epoch: 09, loss: -0.07016\n",
      "torch.Size([625, 64])\n",
      "<class 'numpy.ndarray'>\n"
     ]
    },
    {
     "name": "stderr",
     "output_type": "stream",
     "text": [
      " 48%|████▊     | 480/1000 [2:28:09<4:36:26, 31.90s/it]"
     ]
    },
    {
     "name": "stdout",
     "output_type": "stream",
     "text": [
      "eigenvalues shape torch.Size([5]) eigenvectors shape torch.Size([5, 625])\n",
      "480 /home/phdcs2/Hard_Disk/Datasets/Deep-Spectral-Segmentation/data/object-segmentation/ECSSD/features/dino_vits16/0481.pth\n",
      "dict_keys(['k', 'indices', 'file', 'id', 'model_name', 'patch_size', 'shape'])\n",
      "0481\n",
      "Starting Training\n",
      "epoch: 00, loss: -0.05071\n",
      "epoch: 01, loss: -0.09306\n",
      "epoch: 02, loss: -0.09542\n",
      "epoch: 03, loss: -0.10073\n",
      "epoch: 04, loss: -0.09976\n",
      "epoch: 05, loss: -0.10386\n",
      "epoch: 06, loss: -0.10487\n",
      "epoch: 07, loss: -0.10231\n",
      "epoch: 08, loss: -0.10285\n",
      "epoch: 09, loss: -0.10256\n",
      "torch.Size([450, 64])\n",
      "<class 'numpy.ndarray'>\n"
     ]
    },
    {
     "name": "stderr",
     "output_type": "stream",
     "text": [
      " 48%|████▊     | 481/1000 [2:28:32<4:13:11, 29.27s/it]"
     ]
    },
    {
     "name": "stdout",
     "output_type": "stream",
     "text": [
      "eigenvalues shape torch.Size([5]) eigenvectors shape torch.Size([5, 450])\n",
      "481 /home/phdcs2/Hard_Disk/Datasets/Deep-Spectral-Segmentation/data/object-segmentation/ECSSD/features/dino_vits16/0482.pth\n",
      "dict_keys(['k', 'indices', 'file', 'id', 'model_name', 'patch_size', 'shape'])\n",
      "0482\n",
      "Starting Training\n",
      "epoch: 00, loss: -0.03717\n",
      "epoch: 01, loss: -0.06017\n",
      "epoch: 02, loss: -0.06137\n",
      "epoch: 03, loss: -0.06206\n",
      "epoch: 04, loss: -0.06217\n",
      "epoch: 05, loss: -0.06249\n",
      "epoch: 06, loss: -0.06266\n",
      "epoch: 07, loss: -0.06276\n",
      "epoch: 08, loss: -0.06305\n",
      "epoch: 09, loss: -0.06301\n",
      "torch.Size([450, 64])\n",
      "<class 'numpy.ndarray'>\n"
     ]
    },
    {
     "name": "stderr",
     "output_type": "stream",
     "text": [
      " 48%|████▊     | 482/1000 [2:28:57<4:00:28, 27.86s/it]"
     ]
    },
    {
     "name": "stdout",
     "output_type": "stream",
     "text": [
      "eigenvalues shape torch.Size([5]) eigenvectors shape torch.Size([5, 450])\n",
      "482 /home/phdcs2/Hard_Disk/Datasets/Deep-Spectral-Segmentation/data/object-segmentation/ECSSD/features/dino_vits16/0483.pth\n",
      "dict_keys(['k', 'indices', 'file', 'id', 'model_name', 'patch_size', 'shape'])\n",
      "0483\n",
      "Starting Training\n",
      "epoch: 00, loss: 0.00623\n",
      "epoch: 01, loss: 0.00099\n",
      "epoch: 02, loss: -0.00212\n",
      "epoch: 03, loss: -0.00401\n",
      "epoch: 04, loss: -0.00565\n",
      "epoch: 05, loss: -0.00670\n",
      "epoch: 06, loss: -0.00756\n",
      "epoch: 07, loss: -0.00809\n",
      "epoch: 08, loss: -0.00855\n",
      "epoch: 09, loss: -0.00891\n",
      "torch.Size([400, 64])\n",
      "<class 'numpy.ndarray'>\n"
     ]
    },
    {
     "name": "stderr",
     "output_type": "stream",
     "text": [
      " 48%|████▊     | 483/1000 [2:29:14<3:33:59, 24.83s/it]"
     ]
    },
    {
     "name": "stdout",
     "output_type": "stream",
     "text": [
      "eigenvalues shape torch.Size([5]) eigenvectors shape torch.Size([5, 400])\n",
      "483 /home/phdcs2/Hard_Disk/Datasets/Deep-Spectral-Segmentation/data/object-segmentation/ECSSD/features/dino_vits16/0484.pth\n",
      "dict_keys(['k', 'indices', 'file', 'id', 'model_name', 'patch_size', 'shape'])\n",
      "0484\n",
      "Starting Training\n",
      "epoch: 00, loss: 0.00334\n",
      "epoch: 01, loss: -0.02150\n",
      "epoch: 02, loss: -0.02529\n",
      "epoch: 03, loss: -0.02733\n",
      "epoch: 04, loss: -0.03219\n",
      "epoch: 05, loss: -0.03175\n",
      "epoch: 06, loss: -0.03290\n",
      "epoch: 07, loss: -0.03228\n",
      "epoch: 08, loss: -0.03372\n",
      "epoch: 09, loss: -0.03359\n",
      "torch.Size([450, 64])\n",
      "<class 'numpy.ndarray'>\n"
     ]
    },
    {
     "name": "stderr",
     "output_type": "stream",
     "text": [
      " 48%|████▊     | 484/1000 [2:29:38<3:31:00, 24.54s/it]"
     ]
    },
    {
     "name": "stdout",
     "output_type": "stream",
     "text": [
      "eigenvalues shape torch.Size([5]) eigenvectors shape torch.Size([5, 450])\n",
      "484 /home/phdcs2/Hard_Disk/Datasets/Deep-Spectral-Segmentation/data/object-segmentation/ECSSD/features/dino_vits16/0485.pth\n",
      "dict_keys(['k', 'indices', 'file', 'id', 'model_name', 'patch_size', 'shape'])\n",
      "0485\n",
      "Starting Training\n",
      "epoch: 00, loss: -0.03851\n",
      "epoch: 01, loss: -0.06601\n",
      "epoch: 02, loss: -0.07256\n",
      "epoch: 03, loss: -0.07203\n",
      "epoch: 04, loss: -0.07490\n",
      "epoch: 05, loss: -0.07516\n",
      "epoch: 06, loss: -0.07649\n",
      "epoch: 07, loss: -0.07622\n",
      "epoch: 08, loss: -0.07656\n",
      "epoch: 09, loss: -0.07650\n",
      "torch.Size([400, 64])\n",
      "<class 'numpy.ndarray'>\n"
     ]
    },
    {
     "name": "stderr",
     "output_type": "stream",
     "text": [
      " 48%|████▊     | 485/1000 [2:30:00<3:22:10, 23.56s/it]"
     ]
    },
    {
     "name": "stdout",
     "output_type": "stream",
     "text": [
      "eigenvalues shape torch.Size([5]) eigenvectors shape torch.Size([5, 400])\n",
      "485 /home/phdcs2/Hard_Disk/Datasets/Deep-Spectral-Segmentation/data/object-segmentation/ECSSD/features/dino_vits16/0486.pth\n",
      "dict_keys(['k', 'indices', 'file', 'id', 'model_name', 'patch_size', 'shape'])\n",
      "0486\n",
      "Starting Training\n",
      "epoch: 00, loss: -0.01981\n",
      "epoch: 01, loss: -0.03879\n",
      "epoch: 02, loss: -0.04091\n",
      "epoch: 03, loss: -0.04149\n",
      "epoch: 04, loss: -0.04185\n",
      "epoch: 05, loss: -0.04206\n",
      "epoch: 06, loss: -0.04212\n",
      "epoch: 07, loss: -0.04236\n",
      "epoch: 08, loss: -0.04245\n",
      "epoch: 09, loss: -0.04250\n",
      "torch.Size([450, 64])\n",
      "<class 'numpy.ndarray'>\n"
     ]
    },
    {
     "name": "stderr",
     "output_type": "stream",
     "text": [
      " 49%|████▊     | 486/1000 [2:30:23<3:22:34, 23.65s/it]"
     ]
    },
    {
     "name": "stdout",
     "output_type": "stream",
     "text": [
      "eigenvalues shape torch.Size([5]) eigenvectors shape torch.Size([5, 450])\n",
      "486 /home/phdcs2/Hard_Disk/Datasets/Deep-Spectral-Segmentation/data/object-segmentation/ECSSD/features/dino_vits16/0487.pth\n",
      "dict_keys(['k', 'indices', 'file', 'id', 'model_name', 'patch_size', 'shape'])\n",
      "0487\n",
      "Starting Training\n",
      "epoch: 00, loss: -0.04575\n",
      "epoch: 01, loss: -0.07801\n",
      "epoch: 02, loss: -0.08422\n",
      "epoch: 03, loss: -0.08822\n",
      "epoch: 04, loss: -0.08642\n",
      "epoch: 05, loss: -0.08910\n",
      "epoch: 06, loss: -0.08716\n",
      "epoch: 07, loss: -0.08949\n",
      "epoch: 08, loss: -0.09003\n",
      "epoch: 09, loss: -0.09066\n",
      "torch.Size([400, 64])\n",
      "<class 'numpy.ndarray'>\n"
     ]
    },
    {
     "name": "stderr",
     "output_type": "stream",
     "text": [
      " 49%|████▊     | 487/1000 [2:30:44<3:13:39, 22.65s/it]"
     ]
    },
    {
     "name": "stdout",
     "output_type": "stream",
     "text": [
      "eigenvalues shape torch.Size([5]) eigenvectors shape torch.Size([5, 400])\n",
      "487 /home/phdcs2/Hard_Disk/Datasets/Deep-Spectral-Segmentation/data/object-segmentation/ECSSD/features/dino_vits16/0488.pth\n",
      "dict_keys(['k', 'indices', 'file', 'id', 'model_name', 'patch_size', 'shape'])\n",
      "0488\n",
      "Starting Training\n",
      "epoch: 00, loss: -0.01443\n",
      "epoch: 01, loss: -0.02824\n",
      "epoch: 02, loss: -0.03126\n",
      "epoch: 03, loss: -0.03263\n",
      "epoch: 04, loss: -0.03305\n",
      "epoch: 05, loss: -0.03349\n",
      "epoch: 06, loss: -0.03371\n",
      "epoch: 07, loss: -0.03387\n",
      "epoch: 08, loss: -0.03392\n",
      "epoch: 09, loss: -0.03402\n",
      "torch.Size([400, 64])\n",
      "<class 'numpy.ndarray'>\n"
     ]
    },
    {
     "name": "stderr",
     "output_type": "stream",
     "text": [
      " 49%|████▉     | 488/1000 [2:30:59<2:53:53, 20.38s/it]"
     ]
    },
    {
     "name": "stdout",
     "output_type": "stream",
     "text": [
      "eigenvalues shape torch.Size([5]) eigenvectors shape torch.Size([5, 400])\n",
      "488 /home/phdcs2/Hard_Disk/Datasets/Deep-Spectral-Segmentation/data/object-segmentation/ECSSD/features/dino_vits16/0489.pth\n",
      "dict_keys(['k', 'indices', 'file', 'id', 'model_name', 'patch_size', 'shape'])\n",
      "0489\n",
      "Starting Training\n",
      "epoch: 00, loss: -0.02313\n",
      "epoch: 01, loss: -0.04516\n",
      "epoch: 02, loss: -0.04824\n",
      "epoch: 03, loss: -0.04971\n",
      "epoch: 04, loss: -0.05031\n",
      "epoch: 05, loss: -0.05297\n",
      "epoch: 06, loss: -0.05325\n",
      "epoch: 07, loss: -0.05204\n",
      "epoch: 08, loss: -0.05363\n",
      "epoch: 09, loss: -0.05375\n",
      "torch.Size([550, 64])\n",
      "<class 'numpy.ndarray'>\n"
     ]
    },
    {
     "name": "stderr",
     "output_type": "stream",
     "text": [
      " 49%|████▉     | 489/1000 [2:31:41<3:48:55, 26.88s/it]"
     ]
    },
    {
     "name": "stdout",
     "output_type": "stream",
     "text": [
      "eigenvalues shape torch.Size([5]) eigenvectors shape torch.Size([5, 550])\n",
      "489 /home/phdcs2/Hard_Disk/Datasets/Deep-Spectral-Segmentation/data/object-segmentation/ECSSD/features/dino_vits16/0490.pth\n",
      "dict_keys(['k', 'indices', 'file', 'id', 'model_name', 'patch_size', 'shape'])\n",
      "0490\n",
      "Starting Training\n",
      "epoch: 00, loss: -0.01925\n",
      "epoch: 01, loss: -0.03691\n",
      "epoch: 02, loss: -0.03961\n",
      "epoch: 03, loss: -0.04040\n",
      "epoch: 04, loss: -0.04071\n",
      "epoch: 05, loss: -0.04131\n",
      "epoch: 06, loss: -0.04122\n",
      "epoch: 07, loss: -0.04167\n",
      "epoch: 08, loss: -0.04163\n",
      "epoch: 09, loss: -0.04174\n",
      "torch.Size([400, 64])\n",
      "<class 'numpy.ndarray'>\n"
     ]
    },
    {
     "name": "stderr",
     "output_type": "stream",
     "text": [
      " 49%|████▉     | 490/1000 [2:32:04<3:38:23, 25.69s/it]"
     ]
    },
    {
     "name": "stdout",
     "output_type": "stream",
     "text": [
      "eigenvalues shape torch.Size([5]) eigenvectors shape torch.Size([5, 400])\n",
      "490 /home/phdcs2/Hard_Disk/Datasets/Deep-Spectral-Segmentation/data/object-segmentation/ECSSD/features/dino_vits16/0491.pth\n",
      "dict_keys(['k', 'indices', 'file', 'id', 'model_name', 'patch_size', 'shape'])\n",
      "0491\n",
      "Starting Training\n",
      "epoch: 00, loss: -0.09716\n",
      "epoch: 01, loss: -0.13411\n",
      "epoch: 02, loss: -0.13649\n",
      "epoch: 03, loss: -0.13743\n",
      "epoch: 04, loss: -0.13864\n",
      "epoch: 05, loss: -0.13973\n",
      "epoch: 06, loss: -0.14027\n",
      "epoch: 07, loss: -0.14055\n",
      "epoch: 08, loss: -0.14006\n",
      "epoch: 09, loss: -0.14135\n",
      "torch.Size([500, 64])\n",
      "<class 'numpy.ndarray'>\n"
     ]
    },
    {
     "name": "stderr",
     "output_type": "stream",
     "text": [
      " 49%|████▉     | 491/1000 [2:32:32<3:43:23, 26.33s/it]"
     ]
    },
    {
     "name": "stdout",
     "output_type": "stream",
     "text": [
      "eigenvalues shape torch.Size([5]) eigenvectors shape torch.Size([5, 500])\n",
      "491 /home/phdcs2/Hard_Disk/Datasets/Deep-Spectral-Segmentation/data/object-segmentation/ECSSD/features/dino_vits16/0492.pth\n",
      "dict_keys(['k', 'indices', 'file', 'id', 'model_name', 'patch_size', 'shape'])\n",
      "0492\n",
      "Starting Training\n",
      "epoch: 00, loss: -0.03752\n",
      "epoch: 01, loss: -0.06298\n",
      "epoch: 02, loss: -0.06269\n",
      "epoch: 03, loss: -0.06653\n",
      "epoch: 04, loss: -0.06534\n",
      "epoch: 05, loss: -0.06389\n",
      "epoch: 06, loss: -0.06414\n",
      "epoch: 07, loss: -0.06440\n",
      "epoch: 08, loss: -0.06666\n",
      "epoch: 09, loss: -0.06579\n",
      "torch.Size([450, 64])\n",
      "<class 'numpy.ndarray'>\n"
     ]
    },
    {
     "name": "stderr",
     "output_type": "stream",
     "text": [
      " 49%|████▉     | 492/1000 [2:33:00<3:48:53, 27.03s/it]"
     ]
    },
    {
     "name": "stdout",
     "output_type": "stream",
     "text": [
      "eigenvalues shape torch.Size([5]) eigenvectors shape torch.Size([5, 450])\n",
      "492 /home/phdcs2/Hard_Disk/Datasets/Deep-Spectral-Segmentation/data/object-segmentation/ECSSD/features/dino_vits16/0493.pth\n",
      "dict_keys(['k', 'indices', 'file', 'id', 'model_name', 'patch_size', 'shape'])\n",
      "0493\n",
      "Starting Training\n",
      "epoch: 00, loss: -0.04668\n",
      "epoch: 01, loss: -0.08441\n",
      "epoch: 02, loss: -0.08758\n",
      "epoch: 03, loss: -0.08895\n",
      "epoch: 04, loss: -0.09077\n",
      "epoch: 05, loss: -0.09212\n",
      "epoch: 06, loss: -0.09348\n",
      "epoch: 07, loss: -0.09389\n",
      "epoch: 08, loss: -0.09417\n",
      "epoch: 09, loss: -0.09268\n",
      "torch.Size([400, 64])\n",
      "<class 'numpy.ndarray'>\n"
     ]
    },
    {
     "name": "stderr",
     "output_type": "stream",
     "text": [
      " 49%|████▉     | 493/1000 [2:33:25<3:42:49, 26.37s/it]"
     ]
    },
    {
     "name": "stdout",
     "output_type": "stream",
     "text": [
      "eigenvalues shape torch.Size([5]) eigenvectors shape torch.Size([5, 400])\n",
      "493 /home/phdcs2/Hard_Disk/Datasets/Deep-Spectral-Segmentation/data/object-segmentation/ECSSD/features/dino_vits16/0494.pth\n",
      "dict_keys(['k', 'indices', 'file', 'id', 'model_name', 'patch_size', 'shape'])\n",
      "0494\n",
      "Starting Training\n",
      "epoch: 00, loss: -0.00689\n",
      "epoch: 01, loss: -0.01702\n",
      "epoch: 02, loss: -0.02163\n",
      "epoch: 03, loss: -0.02294\n",
      "epoch: 04, loss: -0.02346\n",
      "epoch: 05, loss: -0.02378\n",
      "epoch: 06, loss: -0.02450\n",
      "epoch: 07, loss: -0.02454\n",
      "epoch: 08, loss: -0.02509\n",
      "epoch: 09, loss: -0.02513\n",
      "torch.Size([400, 64])\n",
      "<class 'numpy.ndarray'>\n"
     ]
    },
    {
     "name": "stderr",
     "output_type": "stream",
     "text": [
      " 49%|████▉     | 494/1000 [2:33:47<3:29:44, 24.87s/it]"
     ]
    },
    {
     "name": "stdout",
     "output_type": "stream",
     "text": [
      "eigenvalues shape torch.Size([5]) eigenvectors shape torch.Size([5, 400])\n",
      "494 /home/phdcs2/Hard_Disk/Datasets/Deep-Spectral-Segmentation/data/object-segmentation/ECSSD/features/dino_vits16/0495.pth\n",
      "dict_keys(['k', 'indices', 'file', 'id', 'model_name', 'patch_size', 'shape'])\n",
      "0495\n",
      "Starting Training\n",
      "epoch: 00, loss: -0.00405\n",
      "epoch: 01, loss: -0.02542\n",
      "epoch: 02, loss: -0.03131\n",
      "epoch: 03, loss: -0.03255\n",
      "epoch: 04, loss: -0.03361\n",
      "epoch: 05, loss: -0.03396\n",
      "epoch: 06, loss: -0.03418\n",
      "epoch: 07, loss: -0.03410\n",
      "epoch: 08, loss: -0.03402\n",
      "epoch: 09, loss: -0.03437\n",
      "torch.Size([400, 64])\n",
      "<class 'numpy.ndarray'>\n"
     ]
    },
    {
     "name": "stderr",
     "output_type": "stream",
     "text": [
      " 50%|████▉     | 495/1000 [2:34:15<3:37:45, 25.87s/it]"
     ]
    },
    {
     "name": "stdout",
     "output_type": "stream",
     "text": [
      "eigenvalues shape torch.Size([5]) eigenvectors shape torch.Size([5, 400])\n",
      "495 /home/phdcs2/Hard_Disk/Datasets/Deep-Spectral-Segmentation/data/object-segmentation/ECSSD/features/dino_vits16/0496.pth\n",
      "dict_keys(['k', 'indices', 'file', 'id', 'model_name', 'patch_size', 'shape'])\n",
      "0496\n",
      "Starting Training\n",
      "epoch: 00, loss: -0.03092\n",
      "epoch: 01, loss: -0.06258\n",
      "epoch: 02, loss: -0.06619\n",
      "epoch: 03, loss: -0.06863\n",
      "epoch: 04, loss: -0.06909\n",
      "epoch: 05, loss: -0.06919\n",
      "epoch: 06, loss: -0.07024\n",
      "epoch: 07, loss: -0.07167\n",
      "epoch: 08, loss: -0.06878\n",
      "epoch: 09, loss: -0.07149\n",
      "torch.Size([450, 64])\n",
      "<class 'numpy.ndarray'>\n"
     ]
    },
    {
     "name": "stderr",
     "output_type": "stream",
     "text": [
      " 50%|████▉     | 496/1000 [2:34:44<3:46:04, 26.91s/it]"
     ]
    },
    {
     "name": "stdout",
     "output_type": "stream",
     "text": [
      "eigenvalues shape torch.Size([5]) eigenvectors shape torch.Size([5, 450])\n",
      "496 /home/phdcs2/Hard_Disk/Datasets/Deep-Spectral-Segmentation/data/object-segmentation/ECSSD/features/dino_vits16/0497.pth\n",
      "dict_keys(['k', 'indices', 'file', 'id', 'model_name', 'patch_size', 'shape'])\n",
      "0497\n",
      "Starting Training\n",
      "epoch: 00, loss: -0.02795\n",
      "epoch: 01, loss: -0.04464\n",
      "epoch: 02, loss: -0.04625\n",
      "epoch: 03, loss: -0.04665\n",
      "epoch: 04, loss: -0.04683\n",
      "epoch: 05, loss: -0.04721\n",
      "epoch: 06, loss: -0.04721\n",
      "epoch: 07, loss: -0.04724\n",
      "epoch: 08, loss: -0.04742\n",
      "epoch: 09, loss: -0.04750\n",
      "torch.Size([450, 64])\n",
      "<class 'numpy.ndarray'>\n"
     ]
    },
    {
     "name": "stderr",
     "output_type": "stream",
     "text": [
      " 50%|████▉     | 497/1000 [2:35:09<3:39:43, 26.21s/it]"
     ]
    },
    {
     "name": "stdout",
     "output_type": "stream",
     "text": [
      "eigenvalues shape torch.Size([5]) eigenvectors shape torch.Size([5, 450])\n",
      "497 /home/phdcs2/Hard_Disk/Datasets/Deep-Spectral-Segmentation/data/object-segmentation/ECSSD/features/dino_vits16/0498.pth\n",
      "dict_keys(['k', 'indices', 'file', 'id', 'model_name', 'patch_size', 'shape'])\n",
      "0498\n",
      "Starting Training\n",
      "epoch: 00, loss: -0.03622\n",
      "epoch: 01, loss: -0.05229\n",
      "epoch: 02, loss: -0.05408\n",
      "epoch: 03, loss: -0.05430\n",
      "epoch: 04, loss: -0.05447\n",
      "epoch: 05, loss: -0.05482\n",
      "epoch: 06, loss: -0.05479\n",
      "epoch: 07, loss: -0.05498\n",
      "epoch: 08, loss: -0.05517\n",
      "epoch: 09, loss: -0.05530\n",
      "torch.Size([400, 64])\n",
      "<class 'numpy.ndarray'>\n"
     ]
    },
    {
     "name": "stderr",
     "output_type": "stream",
     "text": [
      " 50%|████▉     | 498/1000 [2:35:32<3:32:24, 25.39s/it]"
     ]
    },
    {
     "name": "stdout",
     "output_type": "stream",
     "text": [
      "eigenvalues shape torch.Size([5]) eigenvectors shape torch.Size([5, 400])\n",
      "498 /home/phdcs2/Hard_Disk/Datasets/Deep-Spectral-Segmentation/data/object-segmentation/ECSSD/features/dino_vits16/0499.pth\n",
      "dict_keys(['k', 'indices', 'file', 'id', 'model_name', 'patch_size', 'shape'])\n",
      "0499\n",
      "Starting Training\n",
      "epoch: 00, loss: -0.01476\n",
      "epoch: 01, loss: -0.03413\n",
      "epoch: 02, loss: -0.03687\n",
      "epoch: 03, loss: -0.03831\n",
      "epoch: 04, loss: -0.03830\n",
      "epoch: 05, loss: -0.03861\n",
      "epoch: 06, loss: -0.03899\n",
      "epoch: 07, loss: -0.03956\n",
      "epoch: 08, loss: -0.03926\n",
      "epoch: 09, loss: -0.03956\n",
      "torch.Size([450, 64])\n",
      "<class 'numpy.ndarray'>\n"
     ]
    },
    {
     "name": "stderr",
     "output_type": "stream",
     "text": [
      " 50%|████▉     | 499/1000 [2:35:58<3:32:15, 25.42s/it]"
     ]
    },
    {
     "name": "stdout",
     "output_type": "stream",
     "text": [
      "eigenvalues shape torch.Size([5]) eigenvectors shape torch.Size([5, 450])\n",
      "499 /home/phdcs2/Hard_Disk/Datasets/Deep-Spectral-Segmentation/data/object-segmentation/ECSSD/features/dino_vits16/0500.pth\n",
      "dict_keys(['k', 'indices', 'file', 'id', 'model_name', 'patch_size', 'shape'])\n",
      "0500\n",
      "Starting Training\n",
      "epoch: 00, loss: -0.01612\n",
      "epoch: 01, loss: -0.03653\n",
      "epoch: 02, loss: -0.03965\n",
      "epoch: 03, loss: -0.04060\n",
      "epoch: 04, loss: -0.04097\n",
      "epoch: 05, loss: -0.04122\n",
      "epoch: 06, loss: -0.04138\n",
      "epoch: 07, loss: -0.04147\n",
      "epoch: 08, loss: -0.04165\n",
      "epoch: 09, loss: -0.04183\n",
      "torch.Size([450, 64])\n",
      "<class 'numpy.ndarray'>\n"
     ]
    },
    {
     "name": "stderr",
     "output_type": "stream",
     "text": [
      " 50%|█████     | 500/1000 [2:36:25<3:35:38, 25.88s/it]"
     ]
    },
    {
     "name": "stdout",
     "output_type": "stream",
     "text": [
      "eigenvalues shape torch.Size([5]) eigenvectors shape torch.Size([5, 450])\n",
      "500 /home/phdcs2/Hard_Disk/Datasets/Deep-Spectral-Segmentation/data/object-segmentation/ECSSD/features/dino_vits16/0501.pth\n",
      "dict_keys(['k', 'indices', 'file', 'id', 'model_name', 'patch_size', 'shape'])\n",
      "0501\n",
      "Starting Training\n",
      "epoch: 00, loss: -0.07375\n",
      "epoch: 01, loss: -0.10637\n",
      "epoch: 02, loss: -0.10804\n",
      "epoch: 03, loss: -0.11239\n",
      "epoch: 04, loss: -0.11117\n",
      "epoch: 05, loss: -0.11041\n",
      "epoch: 06, loss: -0.10984\n",
      "epoch: 07, loss: -0.11173\n",
      "epoch: 08, loss: -0.11198\n",
      "epoch: 09, loss: -0.11404\n",
      "torch.Size([450, 64])\n",
      "<class 'numpy.ndarray'>\n"
     ]
    },
    {
     "name": "stderr",
     "output_type": "stream",
     "text": [
      " 50%|█████     | 501/1000 [2:36:54<3:44:28, 26.99s/it]"
     ]
    },
    {
     "name": "stdout",
     "output_type": "stream",
     "text": [
      "eigenvalues shape torch.Size([5]) eigenvectors shape torch.Size([5, 450])\n",
      "501 /home/phdcs2/Hard_Disk/Datasets/Deep-Spectral-Segmentation/data/object-segmentation/ECSSD/features/dino_vits16/0502.pth\n",
      "dict_keys(['k', 'indices', 'file', 'id', 'model_name', 'patch_size', 'shape'])\n",
      "0502\n",
      "Starting Training\n",
      "epoch: 00, loss: -0.07862\n",
      "epoch: 01, loss: -0.10448\n",
      "epoch: 02, loss: -0.10767\n",
      "epoch: 03, loss: -0.10814\n",
      "epoch: 04, loss: -0.10831\n",
      "epoch: 05, loss: -0.10796\n",
      "epoch: 06, loss: -0.10950\n",
      "epoch: 07, loss: -0.10879\n",
      "epoch: 08, loss: -0.10861\n",
      "epoch: 09, loss: -0.11083\n",
      "torch.Size([625, 64])\n",
      "<class 'numpy.ndarray'>\n"
     ]
    },
    {
     "name": "stderr",
     "output_type": "stream",
     "text": [
      " 50%|█████     | 502/1000 [2:37:49<4:53:42, 35.39s/it]"
     ]
    },
    {
     "name": "stdout",
     "output_type": "stream",
     "text": [
      "eigenvalues shape torch.Size([5]) eigenvectors shape torch.Size([5, 625])\n",
      "502 /home/phdcs2/Hard_Disk/Datasets/Deep-Spectral-Segmentation/data/object-segmentation/ECSSD/features/dino_vits16/0503.pth\n",
      "dict_keys(['k', 'indices', 'file', 'id', 'model_name', 'patch_size', 'shape'])\n",
      "0503\n",
      "Starting Training\n",
      "epoch: 00, loss: -0.08034\n",
      "epoch: 01, loss: -0.10884\n",
      "epoch: 02, loss: -0.10975\n",
      "epoch: 03, loss: -0.11352\n",
      "epoch: 04, loss: -0.11490\n",
      "epoch: 05, loss: -0.11516\n",
      "epoch: 06, loss: -0.11580\n",
      "epoch: 07, loss: -0.11507\n",
      "epoch: 08, loss: -0.11656\n",
      "epoch: 09, loss: -0.11767\n",
      "torch.Size([400, 64])\n",
      "<class 'numpy.ndarray'>\n"
     ]
    },
    {
     "name": "stderr",
     "output_type": "stream",
     "text": [
      " 50%|█████     | 503/1000 [2:38:09<4:14:44, 30.75s/it]"
     ]
    },
    {
     "name": "stdout",
     "output_type": "stream",
     "text": [
      "eigenvalues shape torch.Size([5]) eigenvectors shape torch.Size([5, 400])\n",
      "503 /home/phdcs2/Hard_Disk/Datasets/Deep-Spectral-Segmentation/data/object-segmentation/ECSSD/features/dino_vits16/0504.pth\n",
      "dict_keys(['k', 'indices', 'file', 'id', 'model_name', 'patch_size', 'shape'])\n",
      "0504\n",
      "Starting Training\n",
      "epoch: 00, loss: -0.02644\n",
      "epoch: 01, loss: -0.04941\n",
      "epoch: 02, loss: -0.05114\n",
      "epoch: 03, loss: -0.05173\n",
      "epoch: 04, loss: -0.05223\n",
      "epoch: 05, loss: -0.05237\n",
      "epoch: 06, loss: -0.05242\n",
      "epoch: 07, loss: -0.05247\n",
      "epoch: 08, loss: -0.05265\n",
      "epoch: 09, loss: -0.05283\n",
      "torch.Size([400, 64])\n",
      "<class 'numpy.ndarray'>\n"
     ]
    },
    {
     "name": "stderr",
     "output_type": "stream",
     "text": [
      " 50%|█████     | 504/1000 [2:38:35<4:02:43, 29.36s/it]"
     ]
    },
    {
     "name": "stdout",
     "output_type": "stream",
     "text": [
      "eigenvalues shape torch.Size([5]) eigenvectors shape torch.Size([5, 400])\n",
      "504 /home/phdcs2/Hard_Disk/Datasets/Deep-Spectral-Segmentation/data/object-segmentation/ECSSD/features/dino_vits16/0505.pth\n",
      "dict_keys(['k', 'indices', 'file', 'id', 'model_name', 'patch_size', 'shape'])\n",
      "0505\n",
      "Starting Training\n",
      "epoch: 00, loss: -0.05284\n",
      "epoch: 01, loss: -0.08026\n",
      "epoch: 02, loss: -0.08468\n",
      "epoch: 03, loss: -0.08556\n",
      "epoch: 04, loss: -0.08708\n",
      "epoch: 05, loss: -0.08628\n",
      "epoch: 06, loss: -0.08852\n",
      "epoch: 07, loss: -0.08796\n",
      "epoch: 08, loss: -0.08703\n",
      "epoch: 09, loss: -0.08845\n",
      "torch.Size([450, 64])\n",
      "<class 'numpy.ndarray'>\n"
     ]
    },
    {
     "name": "stderr",
     "output_type": "stream",
     "text": [
      " 50%|█████     | 505/1000 [2:39:02<3:56:26, 28.66s/it]"
     ]
    },
    {
     "name": "stdout",
     "output_type": "stream",
     "text": [
      "eigenvalues shape torch.Size([5]) eigenvectors shape torch.Size([5, 450])\n",
      "505 /home/phdcs2/Hard_Disk/Datasets/Deep-Spectral-Segmentation/data/object-segmentation/ECSSD/features/dino_vits16/0506.pth\n",
      "dict_keys(['k', 'indices', 'file', 'id', 'model_name', 'patch_size', 'shape'])\n",
      "0506\n",
      "Starting Training\n",
      "epoch: 00, loss: -0.07108\n",
      "epoch: 01, loss: -0.10815\n",
      "epoch: 02, loss: -0.11329\n",
      "epoch: 03, loss: -0.11370\n",
      "epoch: 04, loss: -0.11412\n",
      "epoch: 05, loss: -0.11851\n",
      "epoch: 06, loss: -0.11719\n",
      "epoch: 07, loss: -0.11860\n",
      "epoch: 08, loss: -0.11805\n",
      "epoch: 09, loss: -0.11820\n",
      "torch.Size([400, 64])\n",
      "<class 'numpy.ndarray'>\n"
     ]
    },
    {
     "name": "stderr",
     "output_type": "stream",
     "text": [
      " 51%|█████     | 506/1000 [2:39:29<3:50:45, 28.03s/it]"
     ]
    },
    {
     "name": "stdout",
     "output_type": "stream",
     "text": [
      "eigenvalues shape torch.Size([5]) eigenvectors shape torch.Size([5, 400])\n",
      "506 /home/phdcs2/Hard_Disk/Datasets/Deep-Spectral-Segmentation/data/object-segmentation/ECSSD/features/dino_vits16/0507.pth\n",
      "dict_keys(['k', 'indices', 'file', 'id', 'model_name', 'patch_size', 'shape'])\n",
      "0507\n",
      "Starting Training\n",
      "epoch: 00, loss: 0.00142\n",
      "epoch: 01, loss: -0.01676\n",
      "epoch: 02, loss: -0.02274\n",
      "epoch: 03, loss: -0.02364\n",
      "epoch: 04, loss: -0.02604\n",
      "epoch: 05, loss: -0.02659\n",
      "epoch: 06, loss: -0.02706\n",
      "epoch: 07, loss: -0.02629\n",
      "epoch: 08, loss: -0.02632\n",
      "epoch: 09, loss: -0.02724\n",
      "torch.Size([375, 64])\n",
      "<class 'numpy.ndarray'>\n"
     ]
    },
    {
     "name": "stderr",
     "output_type": "stream",
     "text": [
      " 51%|█████     | 507/1000 [2:39:50<3:33:47, 26.02s/it]"
     ]
    },
    {
     "name": "stdout",
     "output_type": "stream",
     "text": [
      "eigenvalues shape torch.Size([5]) eigenvectors shape torch.Size([5, 375])\n",
      "507 /home/phdcs2/Hard_Disk/Datasets/Deep-Spectral-Segmentation/data/object-segmentation/ECSSD/features/dino_vits16/0508.pth\n",
      "dict_keys(['k', 'indices', 'file', 'id', 'model_name', 'patch_size', 'shape'])\n",
      "0508\n",
      "Starting Training\n",
      "epoch: 00, loss: -0.01605\n",
      "epoch: 01, loss: -0.03517\n",
      "epoch: 02, loss: -0.03979\n",
      "epoch: 03, loss: -0.04033\n",
      "epoch: 04, loss: -0.04089\n",
      "epoch: 05, loss: -0.04201\n",
      "epoch: 06, loss: -0.04128\n",
      "epoch: 07, loss: -0.04147\n",
      "epoch: 08, loss: -0.04197\n",
      "epoch: 09, loss: -0.04242\n",
      "torch.Size([400, 64])\n",
      "<class 'numpy.ndarray'>\n"
     ]
    },
    {
     "name": "stderr",
     "output_type": "stream",
     "text": [
      " 51%|█████     | 508/1000 [2:40:21<3:44:25, 27.37s/it]"
     ]
    },
    {
     "name": "stdout",
     "output_type": "stream",
     "text": [
      "eigenvalues shape torch.Size([5]) eigenvectors shape torch.Size([5, 400])\n",
      "508 /home/phdcs2/Hard_Disk/Datasets/Deep-Spectral-Segmentation/data/object-segmentation/ECSSD/features/dino_vits16/0509.pth\n",
      "dict_keys(['k', 'indices', 'file', 'id', 'model_name', 'patch_size', 'shape'])\n",
      "0509\n",
      "Starting Training\n",
      "epoch: 00, loss: -0.01286\n",
      "epoch: 01, loss: -0.02667\n",
      "epoch: 02, loss: -0.02807\n",
      "epoch: 03, loss: -0.02935\n",
      "epoch: 04, loss: -0.02942\n",
      "epoch: 05, loss: -0.02950\n",
      "epoch: 06, loss: -0.03015\n",
      "epoch: 07, loss: -0.02985\n",
      "epoch: 08, loss: -0.02962\n",
      "epoch: 09, loss: -0.03013\n",
      "torch.Size([625, 64])\n",
      "<class 'numpy.ndarray'>\n"
     ]
    },
    {
     "name": "stderr",
     "output_type": "stream",
     "text": [
      " 51%|█████     | 509/1000 [2:41:00<4:14:42, 31.13s/it]"
     ]
    },
    {
     "name": "stdout",
     "output_type": "stream",
     "text": [
      "eigenvalues shape torch.Size([5]) eigenvectors shape torch.Size([5, 625])\n",
      "509 /home/phdcs2/Hard_Disk/Datasets/Deep-Spectral-Segmentation/data/object-segmentation/ECSSD/features/dino_vits16/0510.pth\n",
      "dict_keys(['k', 'indices', 'file', 'id', 'model_name', 'patch_size', 'shape'])\n",
      "0510\n",
      "Starting Training\n",
      "epoch: 00, loss: -0.00327\n",
      "epoch: 01, loss: -0.01895\n",
      "epoch: 02, loss: -0.02283\n",
      "epoch: 03, loss: -0.02435\n",
      "epoch: 04, loss: -0.02469\n",
      "epoch: 05, loss: -0.02538\n",
      "epoch: 06, loss: -0.02567\n",
      "epoch: 07, loss: -0.02590\n",
      "epoch: 08, loss: -0.02588\n",
      "epoch: 09, loss: -0.02613\n",
      "torch.Size([400, 64])\n",
      "<class 'numpy.ndarray'>\n"
     ]
    },
    {
     "name": "stderr",
     "output_type": "stream",
     "text": [
      " 51%|█████     | 510/1000 [2:41:29<4:07:55, 30.36s/it]"
     ]
    },
    {
     "name": "stdout",
     "output_type": "stream",
     "text": [
      "eigenvalues shape torch.Size([5]) eigenvectors shape torch.Size([5, 400])\n",
      "510 /home/phdcs2/Hard_Disk/Datasets/Deep-Spectral-Segmentation/data/object-segmentation/ECSSD/features/dino_vits16/0511.pth\n",
      "dict_keys(['k', 'indices', 'file', 'id', 'model_name', 'patch_size', 'shape'])\n",
      "0511\n",
      "Starting Training\n",
      "epoch: 00, loss: -0.02300\n",
      "epoch: 01, loss: -0.03677\n",
      "epoch: 02, loss: -0.03703\n",
      "epoch: 03, loss: -0.03807\n",
      "epoch: 04, loss: -0.03911\n",
      "epoch: 05, loss: -0.03893\n",
      "epoch: 06, loss: -0.03856\n",
      "epoch: 07, loss: -0.03946\n",
      "epoch: 08, loss: -0.03880\n",
      "epoch: 09, loss: -0.03955\n",
      "torch.Size([625, 64])\n",
      "<class 'numpy.ndarray'>\n"
     ]
    },
    {
     "name": "stderr",
     "output_type": "stream",
     "text": [
      " 51%|█████     | 511/1000 [2:42:20<4:57:47, 36.54s/it]"
     ]
    },
    {
     "name": "stdout",
     "output_type": "stream",
     "text": [
      "eigenvalues shape torch.Size([5]) eigenvectors shape torch.Size([5, 625])\n",
      "511 /home/phdcs2/Hard_Disk/Datasets/Deep-Spectral-Segmentation/data/object-segmentation/ECSSD/features/dino_vits16/0512.pth\n",
      "dict_keys(['k', 'indices', 'file', 'id', 'model_name', 'patch_size', 'shape'])\n",
      "0512\n",
      "Starting Training\n",
      "epoch: 00, loss: -0.01290\n",
      "epoch: 01, loss: -0.02936\n",
      "epoch: 02, loss: -0.03348\n",
      "epoch: 03, loss: -0.03436\n",
      "epoch: 04, loss: -0.03565\n",
      "epoch: 05, loss: -0.03624\n",
      "epoch: 06, loss: -0.03585\n",
      "epoch: 07, loss: -0.03609\n",
      "epoch: 08, loss: -0.03619\n",
      "epoch: 09, loss: -0.03626\n",
      "torch.Size([400, 64])\n",
      "<class 'numpy.ndarray'>\n"
     ]
    },
    {
     "name": "stderr",
     "output_type": "stream",
     "text": [
      " 51%|█████     | 512/1000 [2:42:53<4:49:41, 35.62s/it]"
     ]
    },
    {
     "name": "stdout",
     "output_type": "stream",
     "text": [
      "eigenvalues shape torch.Size([5]) eigenvectors shape torch.Size([5, 400])\n",
      "512 /home/phdcs2/Hard_Disk/Datasets/Deep-Spectral-Segmentation/data/object-segmentation/ECSSD/features/dino_vits16/0513.pth\n",
      "dict_keys(['k', 'indices', 'file', 'id', 'model_name', 'patch_size', 'shape'])\n",
      "0513\n",
      "Starting Training\n",
      "epoch: 00, loss: -0.04493\n",
      "epoch: 01, loss: -0.07077\n",
      "epoch: 02, loss: -0.07465\n",
      "epoch: 03, loss: -0.07731\n",
      "epoch: 04, loss: -0.08124\n",
      "epoch: 05, loss: -0.07873\n",
      "epoch: 06, loss: -0.07955\n",
      "epoch: 07, loss: -0.08110\n",
      "epoch: 08, loss: -0.07882\n",
      "epoch: 09, loss: -0.08416\n",
      "torch.Size([400, 64])\n",
      "<class 'numpy.ndarray'>\n"
     ]
    },
    {
     "name": "stderr",
     "output_type": "stream",
     "text": [
      " 51%|█████▏    | 513/1000 [2:43:17<4:18:30, 31.85s/it]"
     ]
    },
    {
     "name": "stdout",
     "output_type": "stream",
     "text": [
      "eigenvalues shape torch.Size([5]) eigenvectors shape torch.Size([5, 400])\n",
      "513 /home/phdcs2/Hard_Disk/Datasets/Deep-Spectral-Segmentation/data/object-segmentation/ECSSD/features/dino_vits16/0514.pth\n",
      "dict_keys(['k', 'indices', 'file', 'id', 'model_name', 'patch_size', 'shape'])\n",
      "0514\n",
      "Starting Training\n",
      "epoch: 00, loss: -0.02437\n",
      "epoch: 01, loss: -0.05393\n",
      "epoch: 02, loss: -0.05322\n",
      "epoch: 03, loss: -0.05588\n",
      "epoch: 04, loss: -0.05666\n",
      "epoch: 05, loss: -0.05874\n",
      "epoch: 06, loss: -0.05966\n",
      "epoch: 07, loss: -0.05960\n",
      "epoch: 08, loss: -0.05841\n",
      "epoch: 09, loss: -0.05766\n",
      "torch.Size([450, 64])\n",
      "<class 'numpy.ndarray'>\n"
     ]
    },
    {
     "name": "stderr",
     "output_type": "stream",
     "text": [
      " 51%|█████▏    | 514/1000 [2:43:47<4:14:38, 31.44s/it]"
     ]
    },
    {
     "name": "stdout",
     "output_type": "stream",
     "text": [
      "eigenvalues shape torch.Size([5]) eigenvectors shape torch.Size([5, 450])\n",
      "514 /home/phdcs2/Hard_Disk/Datasets/Deep-Spectral-Segmentation/data/object-segmentation/ECSSD/features/dino_vits16/0515.pth\n",
      "dict_keys(['k', 'indices', 'file', 'id', 'model_name', 'patch_size', 'shape'])\n",
      "0515\n",
      "Starting Training\n",
      "epoch: 00, loss: -0.01399\n",
      "epoch: 01, loss: -0.03569\n",
      "epoch: 02, loss: -0.03945\n",
      "epoch: 03, loss: -0.03983\n",
      "epoch: 04, loss: -0.04023\n",
      "epoch: 05, loss: -0.04230\n",
      "epoch: 06, loss: -0.04388\n",
      "epoch: 07, loss: -0.04424\n",
      "epoch: 08, loss: -0.04341\n",
      "epoch: 09, loss: -0.04276\n",
      "torch.Size([450, 64])\n",
      "<class 'numpy.ndarray'>\n"
     ]
    },
    {
     "name": "stderr",
     "output_type": "stream",
     "text": [
      " 52%|█████▏    | 515/1000 [2:44:13<4:00:07, 29.71s/it]"
     ]
    },
    {
     "name": "stdout",
     "output_type": "stream",
     "text": [
      "eigenvalues shape torch.Size([5]) eigenvectors shape torch.Size([5, 450])\n",
      "515 /home/phdcs2/Hard_Disk/Datasets/Deep-Spectral-Segmentation/data/object-segmentation/ECSSD/features/dino_vits16/0516.pth\n",
      "dict_keys(['k', 'indices', 'file', 'id', 'model_name', 'patch_size', 'shape'])\n",
      "0516\n",
      "Starting Training\n",
      "epoch: 00, loss: -0.01436\n",
      "epoch: 01, loss: -0.03056\n",
      "epoch: 02, loss: -0.03329\n",
      "epoch: 03, loss: -0.03407\n",
      "epoch: 04, loss: -0.03437\n",
      "epoch: 05, loss: -0.03458\n",
      "epoch: 06, loss: -0.03487\n",
      "epoch: 07, loss: -0.03508\n",
      "epoch: 08, loss: -0.03509\n",
      "epoch: 09, loss: -0.03518\n",
      "torch.Size([450, 64])\n",
      "<class 'numpy.ndarray'>\n"
     ]
    },
    {
     "name": "stderr",
     "output_type": "stream",
     "text": [
      " 52%|█████▏    | 516/1000 [2:44:37<3:46:38, 28.10s/it]"
     ]
    },
    {
     "name": "stdout",
     "output_type": "stream",
     "text": [
      "eigenvalues shape torch.Size([5]) eigenvectors shape torch.Size([5, 450])\n",
      "516 /home/phdcs2/Hard_Disk/Datasets/Deep-Spectral-Segmentation/data/object-segmentation/ECSSD/features/dino_vits16/0517.pth\n",
      "dict_keys(['k', 'indices', 'file', 'id', 'model_name', 'patch_size', 'shape'])\n",
      "0517\n",
      "Starting Training\n",
      "epoch: 00, loss: -0.03404\n",
      "epoch: 01, loss: -0.06375\n",
      "epoch: 02, loss: -0.06699\n",
      "epoch: 03, loss: -0.06832\n",
      "epoch: 04, loss: -0.07156\n",
      "epoch: 05, loss: -0.07134\n",
      "epoch: 06, loss: -0.07388\n",
      "epoch: 07, loss: -0.07294\n",
      "epoch: 08, loss: -0.07298\n",
      "epoch: 09, loss: -0.07492\n",
      "torch.Size([450, 64])\n",
      "<class 'numpy.ndarray'>\n"
     ]
    },
    {
     "name": "stderr",
     "output_type": "stream",
     "text": [
      " 52%|█████▏    | 517/1000 [2:45:00<3:33:38, 26.54s/it]"
     ]
    },
    {
     "name": "stdout",
     "output_type": "stream",
     "text": [
      "eigenvalues shape torch.Size([5]) eigenvectors shape torch.Size([5, 450])\n",
      "517 /home/phdcs2/Hard_Disk/Datasets/Deep-Spectral-Segmentation/data/object-segmentation/ECSSD/features/dino_vits16/0518.pth\n",
      "dict_keys(['k', 'indices', 'file', 'id', 'model_name', 'patch_size', 'shape'])\n",
      "0518\n",
      "Starting Training\n",
      "epoch: 00, loss: 0.00675\n",
      "epoch: 01, loss: 0.00417\n",
      "epoch: 02, loss: 0.00261\n",
      "epoch: 03, loss: 0.00135\n",
      "epoch: 04, loss: 0.00059\n",
      "epoch: 05, loss: -0.00025\n",
      "epoch: 06, loss: -0.00077\n",
      "epoch: 07, loss: -0.00114\n",
      "epoch: 08, loss: -0.00152\n",
      "epoch: 09, loss: -0.00184\n",
      "torch.Size([400, 64])\n",
      "<class 'numpy.ndarray'>\n"
     ]
    },
    {
     "name": "stderr",
     "output_type": "stream",
     "text": [
      " 52%|█████▏    | 518/1000 [2:45:25<3:28:41, 25.98s/it]"
     ]
    },
    {
     "name": "stdout",
     "output_type": "stream",
     "text": [
      "eigenvalues shape torch.Size([5]) eigenvectors shape torch.Size([5, 400])\n",
      "518 /home/phdcs2/Hard_Disk/Datasets/Deep-Spectral-Segmentation/data/object-segmentation/ECSSD/features/dino_vits16/0519.pth\n",
      "dict_keys(['k', 'indices', 'file', 'id', 'model_name', 'patch_size', 'shape'])\n",
      "0519\n",
      "Starting Training\n",
      "epoch: 00, loss: -0.01619\n",
      "epoch: 01, loss: -0.03788\n",
      "epoch: 02, loss: -0.03919\n",
      "epoch: 03, loss: -0.04529\n",
      "epoch: 04, loss: -0.04495\n",
      "epoch: 05, loss: -0.04739\n",
      "epoch: 06, loss: -0.04501\n",
      "epoch: 07, loss: -0.04465\n",
      "epoch: 08, loss: -0.04602\n",
      "epoch: 09, loss: -0.04657\n",
      "torch.Size([375, 64])\n",
      "<class 'numpy.ndarray'>\n"
     ]
    },
    {
     "name": "stderr",
     "output_type": "stream",
     "text": [
      " 52%|█████▏    | 519/1000 [2:45:47<3:20:13, 24.98s/it]"
     ]
    },
    {
     "name": "stdout",
     "output_type": "stream",
     "text": [
      "eigenvalues shape torch.Size([5]) eigenvectors shape torch.Size([5, 375])\n",
      "519 /home/phdcs2/Hard_Disk/Datasets/Deep-Spectral-Segmentation/data/object-segmentation/ECSSD/features/dino_vits16/0520.pth\n",
      "dict_keys(['k', 'indices', 'file', 'id', 'model_name', 'patch_size', 'shape'])\n",
      "0520\n",
      "Starting Training\n",
      "epoch: 00, loss: 0.00168\n",
      "epoch: 01, loss: -0.01639\n",
      "epoch: 02, loss: -0.02166\n",
      "epoch: 03, loss: -0.02360\n",
      "epoch: 04, loss: -0.02445\n",
      "epoch: 05, loss: -0.02494\n",
      "epoch: 06, loss: -0.02505\n",
      "epoch: 07, loss: -0.02537\n",
      "epoch: 08, loss: -0.02538\n",
      "epoch: 09, loss: -0.02549\n",
      "torch.Size([450, 64])\n",
      "<class 'numpy.ndarray'>\n"
     ]
    },
    {
     "name": "stderr",
     "output_type": "stream",
     "text": [
      " 52%|█████▏    | 520/1000 [2:46:21<3:41:40, 27.71s/it]"
     ]
    },
    {
     "name": "stdout",
     "output_type": "stream",
     "text": [
      "eigenvalues shape torch.Size([5]) eigenvectors shape torch.Size([5, 450])\n",
      "520 /home/phdcs2/Hard_Disk/Datasets/Deep-Spectral-Segmentation/data/object-segmentation/ECSSD/features/dino_vits16/0521.pth\n",
      "dict_keys(['k', 'indices', 'file', 'id', 'model_name', 'patch_size', 'shape'])\n",
      "0521\n",
      "Starting Training\n",
      "epoch: 00, loss: -0.02573\n",
      "epoch: 01, loss: -0.04955\n",
      "epoch: 02, loss: -0.05078\n",
      "epoch: 03, loss: -0.05239\n",
      "epoch: 04, loss: -0.05251\n",
      "epoch: 05, loss: -0.05279\n",
      "epoch: 06, loss: -0.05391\n",
      "epoch: 07, loss: -0.05345\n",
      "epoch: 08, loss: -0.05338\n",
      "epoch: 09, loss: -0.05453\n",
      "torch.Size([450, 64])\n",
      "<class 'numpy.ndarray'>\n"
     ]
    },
    {
     "name": "stderr",
     "output_type": "stream",
     "text": [
      " 52%|█████▏    | 521/1000 [2:46:48<3:38:21, 27.35s/it]"
     ]
    },
    {
     "name": "stdout",
     "output_type": "stream",
     "text": [
      "eigenvalues shape torch.Size([5]) eigenvectors shape torch.Size([5, 450])\n",
      "521 /home/phdcs2/Hard_Disk/Datasets/Deep-Spectral-Segmentation/data/object-segmentation/ECSSD/features/dino_vits16/0522.pth\n",
      "dict_keys(['k', 'indices', 'file', 'id', 'model_name', 'patch_size', 'shape'])\n",
      "0522\n",
      "Starting Training\n",
      "epoch: 00, loss: -0.03136\n",
      "epoch: 01, loss: -0.05281\n",
      "epoch: 02, loss: -0.05302\n",
      "epoch: 03, loss: -0.05652\n",
      "epoch: 04, loss: -0.05893\n",
      "epoch: 05, loss: -0.05729\n",
      "epoch: 06, loss: -0.05971\n",
      "epoch: 07, loss: -0.05822\n",
      "epoch: 08, loss: -0.05974\n",
      "epoch: 09, loss: -0.05765\n",
      "torch.Size([450, 64])\n",
      "<class 'numpy.ndarray'>\n"
     ]
    },
    {
     "name": "stderr",
     "output_type": "stream",
     "text": [
      " 52%|█████▏    | 522/1000 [2:47:14<3:34:11, 26.89s/it]"
     ]
    },
    {
     "name": "stdout",
     "output_type": "stream",
     "text": [
      "eigenvalues shape torch.Size([5]) eigenvectors shape torch.Size([5, 450])\n",
      "522 /home/phdcs2/Hard_Disk/Datasets/Deep-Spectral-Segmentation/data/object-segmentation/ECSSD/features/dino_vits16/0523.pth\n",
      "dict_keys(['k', 'indices', 'file', 'id', 'model_name', 'patch_size', 'shape'])\n",
      "0523\n",
      "Starting Training\n",
      "epoch: 00, loss: -0.03015\n",
      "epoch: 01, loss: -0.04924\n",
      "epoch: 02, loss: -0.05325\n",
      "epoch: 03, loss: -0.05450\n",
      "epoch: 04, loss: -0.05598\n",
      "epoch: 05, loss: -0.05575\n",
      "epoch: 06, loss: -0.05569\n",
      "epoch: 07, loss: -0.05489\n",
      "epoch: 08, loss: -0.05543\n",
      "epoch: 09, loss: -0.05578\n",
      "torch.Size([450, 64])\n",
      "<class 'numpy.ndarray'>\n"
     ]
    },
    {
     "name": "stderr",
     "output_type": "stream",
     "text": [
      " 52%|█████▏    | 523/1000 [2:47:37<3:25:38, 25.87s/it]"
     ]
    },
    {
     "name": "stdout",
     "output_type": "stream",
     "text": [
      "eigenvalues shape torch.Size([5]) eigenvectors shape torch.Size([5, 450])\n",
      "523 /home/phdcs2/Hard_Disk/Datasets/Deep-Spectral-Segmentation/data/object-segmentation/ECSSD/features/dino_vits16/0524.pth\n",
      "dict_keys(['k', 'indices', 'file', 'id', 'model_name', 'patch_size', 'shape'])\n",
      "0524\n",
      "Starting Training\n",
      "epoch: 00, loss: -0.06076\n",
      "epoch: 01, loss: -0.08713\n",
      "epoch: 02, loss: -0.09086\n",
      "epoch: 03, loss: -0.09087\n",
      "epoch: 04, loss: -0.09375\n",
      "epoch: 05, loss: -0.09251\n",
      "epoch: 06, loss: -0.09706\n",
      "epoch: 07, loss: -0.09530\n",
      "epoch: 08, loss: -0.09421\n",
      "epoch: 09, loss: -0.09680\n",
      "torch.Size([475, 64])\n",
      "<class 'numpy.ndarray'>\n"
     ]
    },
    {
     "name": "stderr",
     "output_type": "stream",
     "text": [
      " 52%|█████▏    | 524/1000 [2:48:06<3:32:10, 26.74s/it]"
     ]
    },
    {
     "name": "stdout",
     "output_type": "stream",
     "text": [
      "eigenvalues shape torch.Size([5]) eigenvectors shape torch.Size([5, 475])\n",
      "524 /home/phdcs2/Hard_Disk/Datasets/Deep-Spectral-Segmentation/data/object-segmentation/ECSSD/features/dino_vits16/0525.pth\n",
      "dict_keys(['k', 'indices', 'file', 'id', 'model_name', 'patch_size', 'shape'])\n",
      "0525\n",
      "Starting Training\n",
      "epoch: 00, loss: -0.00079\n",
      "epoch: 01, loss: -0.01480\n",
      "epoch: 02, loss: -0.01953\n",
      "epoch: 03, loss: -0.02158\n",
      "epoch: 04, loss: -0.02250\n",
      "epoch: 05, loss: -0.02307\n",
      "epoch: 06, loss: -0.02352\n",
      "epoch: 07, loss: -0.02367\n",
      "epoch: 08, loss: -0.02373\n",
      "epoch: 09, loss: -0.02397\n",
      "torch.Size([400, 64])\n",
      "<class 'numpy.ndarray'>\n"
     ]
    },
    {
     "name": "stderr",
     "output_type": "stream",
     "text": [
      " 52%|█████▎    | 525/1000 [2:48:29<3:22:49, 25.62s/it]"
     ]
    },
    {
     "name": "stdout",
     "output_type": "stream",
     "text": [
      "eigenvalues shape torch.Size([5]) eigenvectors shape torch.Size([5, 400])\n",
      "525 /home/phdcs2/Hard_Disk/Datasets/Deep-Spectral-Segmentation/data/object-segmentation/ECSSD/features/dino_vits16/0526.pth\n",
      "dict_keys(['k', 'indices', 'file', 'id', 'model_name', 'patch_size', 'shape'])\n",
      "0526\n",
      "Starting Training\n",
      "epoch: 00, loss: -0.00852\n",
      "epoch: 01, loss: -0.03906\n",
      "epoch: 02, loss: -0.04401\n",
      "epoch: 03, loss: -0.04556\n",
      "epoch: 04, loss: -0.05079\n",
      "epoch: 05, loss: -0.04715\n",
      "epoch: 06, loss: -0.04900\n",
      "epoch: 07, loss: -0.04630\n",
      "epoch: 08, loss: -0.04828\n",
      "epoch: 09, loss: -0.05174\n",
      "torch.Size([500, 64])\n",
      "<class 'numpy.ndarray'>\n"
     ]
    },
    {
     "name": "stderr",
     "output_type": "stream",
     "text": [
      " 53%|█████▎    | 526/1000 [2:48:58<3:31:31, 26.77s/it]"
     ]
    },
    {
     "name": "stdout",
     "output_type": "stream",
     "text": [
      "eigenvalues shape torch.Size([5]) eigenvectors shape torch.Size([5, 500])\n",
      "526 /home/phdcs2/Hard_Disk/Datasets/Deep-Spectral-Segmentation/data/object-segmentation/ECSSD/features/dino_vits16/0527.pth\n",
      "dict_keys(['k', 'indices', 'file', 'id', 'model_name', 'patch_size', 'shape'])\n",
      "0527\n",
      "Starting Training\n",
      "epoch: 00, loss: -0.01141\n",
      "epoch: 01, loss: -0.02504\n",
      "epoch: 02, loss: -0.02780\n",
      "epoch: 03, loss: -0.02842\n",
      "epoch: 04, loss: -0.02899\n",
      "epoch: 05, loss: -0.02930\n",
      "epoch: 06, loss: -0.02935\n",
      "epoch: 07, loss: -0.02961\n",
      "epoch: 08, loss: -0.02967\n",
      "epoch: 09, loss: -0.02976\n",
      "torch.Size([400, 64])\n",
      "<class 'numpy.ndarray'>\n"
     ]
    },
    {
     "name": "stderr",
     "output_type": "stream",
     "text": [
      " 53%|█████▎    | 527/1000 [2:49:20<3:19:16, 25.28s/it]"
     ]
    },
    {
     "name": "stdout",
     "output_type": "stream",
     "text": [
      "eigenvalues shape torch.Size([5]) eigenvectors shape torch.Size([5, 400])\n",
      "527 /home/phdcs2/Hard_Disk/Datasets/Deep-Spectral-Segmentation/data/object-segmentation/ECSSD/features/dino_vits16/0528.pth\n",
      "dict_keys(['k', 'indices', 'file', 'id', 'model_name', 'patch_size', 'shape'])\n",
      "0528\n",
      "Starting Training\n",
      "epoch: 00, loss: -0.01872\n",
      "epoch: 01, loss: -0.04102\n",
      "epoch: 02, loss: -0.04373\n",
      "epoch: 03, loss: -0.04500\n",
      "epoch: 04, loss: -0.04516\n",
      "epoch: 05, loss: -0.04555\n",
      "epoch: 06, loss: -0.04565\n",
      "epoch: 07, loss: -0.04588\n",
      "epoch: 08, loss: -0.04606\n",
      "epoch: 09, loss: -0.04615\n",
      "torch.Size([400, 64])\n",
      "<class 'numpy.ndarray'>\n"
     ]
    },
    {
     "name": "stderr",
     "output_type": "stream",
     "text": [
      " 53%|█████▎    | 528/1000 [2:49:42<3:11:02, 24.28s/it]"
     ]
    },
    {
     "name": "stdout",
     "output_type": "stream",
     "text": [
      "eigenvalues shape torch.Size([5]) eigenvectors shape torch.Size([5, 400])\n",
      "528 /home/phdcs2/Hard_Disk/Datasets/Deep-Spectral-Segmentation/data/object-segmentation/ECSSD/features/dino_vits16/0529.pth\n",
      "dict_keys(['k', 'indices', 'file', 'id', 'model_name', 'patch_size', 'shape'])\n",
      "0529\n",
      "Starting Training\n",
      "epoch: 00, loss: -0.07551\n",
      "epoch: 01, loss: -0.10322\n",
      "epoch: 02, loss: -0.10979\n",
      "epoch: 03, loss: -0.10984\n",
      "epoch: 04, loss: -0.11226\n",
      "epoch: 05, loss: -0.11401\n",
      "epoch: 06, loss: -0.11476\n",
      "epoch: 07, loss: -0.10996\n",
      "epoch: 08, loss: -0.11270\n",
      "epoch: 09, loss: -0.11506\n",
      "torch.Size([400, 64])\n",
      "<class 'numpy.ndarray'>\n"
     ]
    },
    {
     "name": "stderr",
     "output_type": "stream",
     "text": [
      " 53%|█████▎    | 529/1000 [2:50:06<3:08:47, 24.05s/it]"
     ]
    },
    {
     "name": "stdout",
     "output_type": "stream",
     "text": [
      "eigenvalues shape torch.Size([5]) eigenvectors shape torch.Size([5, 400])\n",
      "529 /home/phdcs2/Hard_Disk/Datasets/Deep-Spectral-Segmentation/data/object-segmentation/ECSSD/features/dino_vits16/0530.pth\n",
      "dict_keys(['k', 'indices', 'file', 'id', 'model_name', 'patch_size', 'shape'])\n",
      "0530\n",
      "Starting Training\n",
      "epoch: 00, loss: 0.00573\n",
      "epoch: 01, loss: -0.00112\n",
      "epoch: 02, loss: -0.00451\n",
      "epoch: 03, loss: -0.00663\n",
      "epoch: 04, loss: -0.00794\n",
      "epoch: 05, loss: -0.00912\n",
      "epoch: 06, loss: -0.00949\n",
      "epoch: 07, loss: -0.00997\n",
      "epoch: 08, loss: -0.01012\n",
      "epoch: 09, loss: -0.01100\n",
      "torch.Size([500, 64])\n",
      "<class 'numpy.ndarray'>\n"
     ]
    },
    {
     "name": "stderr",
     "output_type": "stream",
     "text": [
      " 53%|█████▎    | 530/1000 [2:50:37<3:24:22, 26.09s/it]"
     ]
    },
    {
     "name": "stdout",
     "output_type": "stream",
     "text": [
      "eigenvalues shape torch.Size([5]) eigenvectors shape torch.Size([5, 500])\n",
      "530 /home/phdcs2/Hard_Disk/Datasets/Deep-Spectral-Segmentation/data/object-segmentation/ECSSD/features/dino_vits16/0531.pth\n",
      "dict_keys(['k', 'indices', 'file', 'id', 'model_name', 'patch_size', 'shape'])\n",
      "0531\n",
      "Starting Training\n",
      "epoch: 00, loss: -0.01033\n",
      "epoch: 01, loss: -0.02613\n",
      "epoch: 02, loss: -0.02971\n",
      "epoch: 03, loss: -0.03078\n",
      "epoch: 04, loss: -0.03130\n",
      "epoch: 05, loss: -0.03153\n",
      "epoch: 06, loss: -0.03179\n",
      "epoch: 07, loss: -0.03190\n",
      "epoch: 08, loss: -0.03204\n",
      "epoch: 09, loss: -0.03206\n",
      "torch.Size([450, 64])\n",
      "<class 'numpy.ndarray'>\n"
     ]
    },
    {
     "name": "stderr",
     "output_type": "stream",
     "text": [
      " 53%|█████▎    | 531/1000 [2:51:01<3:20:31, 25.65s/it]"
     ]
    },
    {
     "name": "stdout",
     "output_type": "stream",
     "text": [
      "eigenvalues shape torch.Size([5]) eigenvectors shape torch.Size([5, 450])\n",
      "531 /home/phdcs2/Hard_Disk/Datasets/Deep-Spectral-Segmentation/data/object-segmentation/ECSSD/features/dino_vits16/0532.pth\n",
      "dict_keys(['k', 'indices', 'file', 'id', 'model_name', 'patch_size', 'shape'])\n",
      "0532\n",
      "Starting Training\n",
      "epoch: 00, loss: -0.00141\n",
      "epoch: 01, loss: -0.01441\n",
      "epoch: 02, loss: -0.02108\n",
      "epoch: 03, loss: -0.02819\n",
      "epoch: 04, loss: -0.02650\n",
      "epoch: 05, loss: -0.02839\n",
      "epoch: 06, loss: -0.02945\n",
      "epoch: 07, loss: -0.03174\n",
      "epoch: 08, loss: -0.02974\n",
      "epoch: 09, loss: -0.03323\n",
      "torch.Size([450, 64])\n",
      "<class 'numpy.ndarray'>\n"
     ]
    },
    {
     "name": "stderr",
     "output_type": "stream",
     "text": [
      " 53%|█████▎    | 532/1000 [2:51:26<3:17:06, 25.27s/it]"
     ]
    },
    {
     "name": "stdout",
     "output_type": "stream",
     "text": [
      "eigenvalues shape torch.Size([5]) eigenvectors shape torch.Size([5, 450])\n",
      "532 /home/phdcs2/Hard_Disk/Datasets/Deep-Spectral-Segmentation/data/object-segmentation/ECSSD/features/dino_vits16/0533.pth\n",
      "dict_keys(['k', 'indices', 'file', 'id', 'model_name', 'patch_size', 'shape'])\n",
      "0533\n",
      "Starting Training\n",
      "epoch: 00, loss: -0.05433\n",
      "epoch: 01, loss: -0.07062\n",
      "epoch: 02, loss: -0.07206\n",
      "epoch: 03, loss: -0.07206\n",
      "epoch: 04, loss: -0.07259\n",
      "epoch: 05, loss: -0.07260\n",
      "epoch: 06, loss: -0.07295\n",
      "epoch: 07, loss: -0.07314\n",
      "epoch: 08, loss: -0.07311\n",
      "epoch: 09, loss: -0.07329\n",
      "torch.Size([400, 64])\n",
      "<class 'numpy.ndarray'>\n"
     ]
    },
    {
     "name": "stderr",
     "output_type": "stream",
     "text": [
      " 53%|█████▎    | 533/1000 [2:51:47<3:08:09, 24.17s/it]"
     ]
    },
    {
     "name": "stdout",
     "output_type": "stream",
     "text": [
      "eigenvalues shape torch.Size([5]) eigenvectors shape torch.Size([5, 400])\n",
      "533 /home/phdcs2/Hard_Disk/Datasets/Deep-Spectral-Segmentation/data/object-segmentation/ECSSD/features/dino_vits16/0534.pth\n",
      "dict_keys(['k', 'indices', 'file', 'id', 'model_name', 'patch_size', 'shape'])\n",
      "0534\n",
      "Starting Training\n",
      "epoch: 00, loss: -0.02204\n",
      "epoch: 01, loss: -0.03724\n",
      "epoch: 02, loss: -0.03948\n",
      "epoch: 03, loss: -0.04000\n",
      "epoch: 04, loss: -0.04056\n",
      "epoch: 05, loss: -0.04085\n",
      "epoch: 06, loss: -0.04095\n",
      "epoch: 07, loss: -0.04108\n",
      "epoch: 08, loss: -0.04128\n",
      "epoch: 09, loss: -0.04128\n",
      "torch.Size([450, 64])\n",
      "<class 'numpy.ndarray'>\n"
     ]
    },
    {
     "name": "stderr",
     "output_type": "stream",
     "text": [
      " 53%|█████▎    | 534/1000 [2:52:14<3:15:01, 25.11s/it]"
     ]
    },
    {
     "name": "stdout",
     "output_type": "stream",
     "text": [
      "eigenvalues shape torch.Size([5]) eigenvectors shape torch.Size([5, 450])\n",
      "534 /home/phdcs2/Hard_Disk/Datasets/Deep-Spectral-Segmentation/data/object-segmentation/ECSSD/features/dino_vits16/0535.pth\n",
      "dict_keys(['k', 'indices', 'file', 'id', 'model_name', 'patch_size', 'shape'])\n",
      "0535\n",
      "Starting Training\n",
      "epoch: 00, loss: -0.10928\n",
      "epoch: 01, loss: -0.14743\n",
      "epoch: 02, loss: -0.15126\n",
      "epoch: 03, loss: -0.14743\n",
      "epoch: 04, loss: -0.15213\n",
      "epoch: 05, loss: -0.15278\n",
      "epoch: 06, loss: -0.15311\n",
      "epoch: 07, loss: -0.15124\n",
      "epoch: 08, loss: -0.15258\n",
      "epoch: 09, loss: -0.15616\n",
      "torch.Size([400, 64])\n",
      "<class 'numpy.ndarray'>\n"
     ]
    },
    {
     "name": "stderr",
     "output_type": "stream",
     "text": [
      " 54%|█████▎    | 535/1000 [2:52:36<3:05:27, 23.93s/it]"
     ]
    },
    {
     "name": "stdout",
     "output_type": "stream",
     "text": [
      "eigenvalues shape torch.Size([5]) eigenvectors shape torch.Size([5, 400])\n",
      "535 /home/phdcs2/Hard_Disk/Datasets/Deep-Spectral-Segmentation/data/object-segmentation/ECSSD/features/dino_vits16/0536.pth\n",
      "dict_keys(['k', 'indices', 'file', 'id', 'model_name', 'patch_size', 'shape'])\n",
      "0536\n",
      "Starting Training\n",
      "epoch: 00, loss: -0.03570\n",
      "epoch: 01, loss: -0.05979\n",
      "epoch: 02, loss: -0.06348\n",
      "epoch: 03, loss: -0.06561\n",
      "epoch: 04, loss: -0.06702\n",
      "epoch: 05, loss: -0.06526\n",
      "epoch: 06, loss: -0.06631\n",
      "epoch: 07, loss: -0.06811\n",
      "epoch: 08, loss: -0.06894\n",
      "epoch: 09, loss: -0.06858\n",
      "torch.Size([450, 64])\n",
      "<class 'numpy.ndarray'>\n"
     ]
    },
    {
     "name": "stderr",
     "output_type": "stream",
     "text": [
      " 54%|█████▎    | 536/1000 [2:53:03<3:12:10, 24.85s/it]"
     ]
    },
    {
     "name": "stdout",
     "output_type": "stream",
     "text": [
      "eigenvalues shape torch.Size([5]) eigenvectors shape torch.Size([5, 450])\n",
      "536 /home/phdcs2/Hard_Disk/Datasets/Deep-Spectral-Segmentation/data/object-segmentation/ECSSD/features/dino_vits16/0537.pth\n",
      "dict_keys(['k', 'indices', 'file', 'id', 'model_name', 'patch_size', 'shape'])\n",
      "0537\n",
      "Starting Training\n",
      "epoch: 00, loss: -0.04091\n",
      "epoch: 01, loss: -0.05954\n",
      "epoch: 02, loss: -0.06057\n",
      "epoch: 03, loss: -0.06098\n",
      "epoch: 04, loss: -0.06107\n",
      "epoch: 05, loss: -0.06122\n",
      "epoch: 06, loss: -0.06143\n",
      "epoch: 07, loss: -0.06169\n",
      "epoch: 08, loss: -0.06165\n",
      "epoch: 09, loss: -0.06174\n",
      "torch.Size([450, 64])\n",
      "<class 'numpy.ndarray'>\n"
     ]
    },
    {
     "name": "stderr",
     "output_type": "stream",
     "text": [
      " 54%|█████▎    | 537/1000 [2:53:27<3:09:39, 24.58s/it]"
     ]
    },
    {
     "name": "stdout",
     "output_type": "stream",
     "text": [
      "eigenvalues shape torch.Size([5]) eigenvectors shape torch.Size([5, 450])\n",
      "537 /home/phdcs2/Hard_Disk/Datasets/Deep-Spectral-Segmentation/data/object-segmentation/ECSSD/features/dino_vits16/0538.pth\n",
      "dict_keys(['k', 'indices', 'file', 'id', 'model_name', 'patch_size', 'shape'])\n",
      "0538\n",
      "Starting Training\n",
      "epoch: 00, loss: 0.00549\n",
      "epoch: 01, loss: -0.01251\n",
      "epoch: 02, loss: -0.00887\n",
      "epoch: 03, loss: -0.01204\n",
      "epoch: 04, loss: -0.01249\n",
      "epoch: 05, loss: -0.01456\n",
      "epoch: 06, loss: -0.01308\n",
      "epoch: 07, loss: -0.01767\n",
      "epoch: 08, loss: -0.01653\n",
      "epoch: 09, loss: -0.01777\n",
      "torch.Size([400, 64])\n",
      "<class 'numpy.ndarray'>\n"
     ]
    },
    {
     "name": "stderr",
     "output_type": "stream",
     "text": [
      " 54%|█████▍    | 538/1000 [2:53:46<2:57:38, 23.07s/it]"
     ]
    },
    {
     "name": "stdout",
     "output_type": "stream",
     "text": [
      "eigenvalues shape torch.Size([5]) eigenvectors shape torch.Size([5, 400])\n",
      "538 /home/phdcs2/Hard_Disk/Datasets/Deep-Spectral-Segmentation/data/object-segmentation/ECSSD/features/dino_vits16/0539.pth\n",
      "dict_keys(['k', 'indices', 'file', 'id', 'model_name', 'patch_size', 'shape'])\n",
      "0539\n",
      "Starting Training\n",
      "epoch: 00, loss: -0.00713\n",
      "epoch: 01, loss: -0.02808\n",
      "epoch: 02, loss: -0.03341\n",
      "epoch: 03, loss: -0.03435\n",
      "epoch: 04, loss: -0.03441\n",
      "epoch: 05, loss: -0.03501\n",
      "epoch: 06, loss: -0.03455\n",
      "epoch: 07, loss: -0.03616\n",
      "epoch: 08, loss: -0.03563\n",
      "epoch: 09, loss: -0.03566\n",
      "torch.Size([425, 64])\n",
      "<class 'numpy.ndarray'>\n"
     ]
    },
    {
     "name": "stderr",
     "output_type": "stream",
     "text": [
      " 54%|█████▍    | 539/1000 [2:54:06<2:49:25, 22.05s/it]"
     ]
    },
    {
     "name": "stdout",
     "output_type": "stream",
     "text": [
      "eigenvalues shape torch.Size([5]) eigenvectors shape torch.Size([5, 425])\n",
      "539 /home/phdcs2/Hard_Disk/Datasets/Deep-Spectral-Segmentation/data/object-segmentation/ECSSD/features/dino_vits16/0540.pth\n",
      "dict_keys(['k', 'indices', 'file', 'id', 'model_name', 'patch_size', 'shape'])\n",
      "0540\n",
      "Starting Training\n",
      "epoch: 00, loss: -0.01843\n",
      "epoch: 01, loss: -0.04313\n",
      "epoch: 02, loss: -0.04589\n",
      "epoch: 03, loss: -0.04677\n",
      "epoch: 04, loss: -0.04722\n",
      "epoch: 05, loss: -0.04724\n",
      "epoch: 06, loss: -0.04740\n",
      "epoch: 07, loss: -0.04783\n",
      "epoch: 08, loss: -0.04766\n",
      "epoch: 09, loss: -0.04791\n",
      "torch.Size([450, 64])\n",
      "<class 'numpy.ndarray'>\n"
     ]
    },
    {
     "name": "stderr",
     "output_type": "stream",
     "text": [
      " 54%|█████▍    | 540/1000 [2:54:37<3:09:33, 24.73s/it]"
     ]
    },
    {
     "name": "stdout",
     "output_type": "stream",
     "text": [
      "eigenvalues shape torch.Size([5]) eigenvectors shape torch.Size([5, 450])\n",
      "540 /home/phdcs2/Hard_Disk/Datasets/Deep-Spectral-Segmentation/data/object-segmentation/ECSSD/features/dino_vits16/0541.pth\n",
      "dict_keys(['k', 'indices', 'file', 'id', 'model_name', 'patch_size', 'shape'])\n",
      "0541\n",
      "Starting Training\n",
      "epoch: 00, loss: -0.00533\n",
      "epoch: 01, loss: -0.02710\n",
      "epoch: 02, loss: -0.03238\n",
      "epoch: 03, loss: -0.03377\n",
      "epoch: 04, loss: -0.03438\n",
      "epoch: 05, loss: -0.03462\n",
      "epoch: 06, loss: -0.03498\n",
      "epoch: 07, loss: -0.03510\n",
      "epoch: 08, loss: -0.03532\n",
      "epoch: 09, loss: -0.03535\n",
      "torch.Size([400, 64])\n",
      "<class 'numpy.ndarray'>\n"
     ]
    },
    {
     "name": "stderr",
     "output_type": "stream",
     "text": [
      " 54%|█████▍    | 541/1000 [2:54:59<3:03:26, 23.98s/it]"
     ]
    },
    {
     "name": "stdout",
     "output_type": "stream",
     "text": [
      "eigenvalues shape torch.Size([5]) eigenvectors shape torch.Size([5, 400])\n",
      "541 /home/phdcs2/Hard_Disk/Datasets/Deep-Spectral-Segmentation/data/object-segmentation/ECSSD/features/dino_vits16/0542.pth\n",
      "dict_keys(['k', 'indices', 'file', 'id', 'model_name', 'patch_size', 'shape'])\n",
      "0542\n",
      "Starting Training\n",
      "epoch: 00, loss: -0.03785\n",
      "epoch: 01, loss: -0.05422\n",
      "epoch: 02, loss: -0.05457\n",
      "epoch: 03, loss: -0.05570\n",
      "epoch: 04, loss: -0.05555\n",
      "epoch: 05, loss: -0.05595\n",
      "epoch: 06, loss: -0.05602\n",
      "epoch: 07, loss: -0.05626\n",
      "epoch: 08, loss: -0.05693\n",
      "epoch: 09, loss: -0.05659\n",
      "torch.Size([450, 64])\n",
      "<class 'numpy.ndarray'>\n"
     ]
    },
    {
     "name": "stderr",
     "output_type": "stream",
     "text": [
      " 54%|█████▍    | 542/1000 [2:55:27<3:11:39, 25.11s/it]"
     ]
    },
    {
     "name": "stdout",
     "output_type": "stream",
     "text": [
      "eigenvalues shape torch.Size([5]) eigenvectors shape torch.Size([5, 450])\n",
      "542 /home/phdcs2/Hard_Disk/Datasets/Deep-Spectral-Segmentation/data/object-segmentation/ECSSD/features/dino_vits16/0543.pth\n",
      "dict_keys(['k', 'indices', 'file', 'id', 'model_name', 'patch_size', 'shape'])\n",
      "0543\n",
      "Starting Training\n",
      "epoch: 00, loss: -0.03165\n",
      "epoch: 01, loss: -0.05379\n",
      "epoch: 02, loss: -0.06034\n",
      "epoch: 03, loss: -0.05931\n",
      "epoch: 04, loss: -0.06151\n",
      "epoch: 05, loss: -0.06151\n",
      "epoch: 06, loss: -0.06224\n",
      "epoch: 07, loss: -0.06270\n",
      "epoch: 08, loss: -0.06191\n",
      "epoch: 09, loss: -0.06178\n",
      "torch.Size([400, 64])\n",
      "<class 'numpy.ndarray'>\n"
     ]
    },
    {
     "name": "stderr",
     "output_type": "stream",
     "text": [
      " 54%|█████▍    | 543/1000 [2:55:48<3:03:00, 24.03s/it]"
     ]
    },
    {
     "name": "stdout",
     "output_type": "stream",
     "text": [
      "eigenvalues shape torch.Size([5]) eigenvectors shape torch.Size([5, 400])\n",
      "543 /home/phdcs2/Hard_Disk/Datasets/Deep-Spectral-Segmentation/data/object-segmentation/ECSSD/features/dino_vits16/0544.pth\n",
      "dict_keys(['k', 'indices', 'file', 'id', 'model_name', 'patch_size', 'shape'])\n",
      "0544\n",
      "Starting Training\n",
      "epoch: 00, loss: -0.00219\n",
      "epoch: 01, loss: -0.01828\n",
      "epoch: 02, loss: -0.02286\n",
      "epoch: 03, loss: -0.02433\n",
      "epoch: 04, loss: -0.02506\n",
      "epoch: 05, loss: -0.02539\n",
      "epoch: 06, loss: -0.02563\n",
      "epoch: 07, loss: -0.02588\n",
      "epoch: 08, loss: -0.02600\n",
      "epoch: 09, loss: -0.02613\n",
      "torch.Size([400, 64])\n",
      "<class 'numpy.ndarray'>\n"
     ]
    },
    {
     "name": "stderr",
     "output_type": "stream",
     "text": [
      " 54%|█████▍    | 544/1000 [2:56:10<2:56:58, 23.29s/it]"
     ]
    },
    {
     "name": "stdout",
     "output_type": "stream",
     "text": [
      "eigenvalues shape torch.Size([5]) eigenvectors shape torch.Size([5, 400])\n",
      "544 /home/phdcs2/Hard_Disk/Datasets/Deep-Spectral-Segmentation/data/object-segmentation/ECSSD/features/dino_vits16/0545.pth\n",
      "dict_keys(['k', 'indices', 'file', 'id', 'model_name', 'patch_size', 'shape'])\n",
      "0545\n",
      "Starting Training\n",
      "epoch: 00, loss: -0.05616\n",
      "epoch: 01, loss: -0.09705\n",
      "epoch: 02, loss: -0.10534\n",
      "epoch: 03, loss: -0.10237\n",
      "epoch: 04, loss: -0.10770\n",
      "epoch: 05, loss: -0.10875\n",
      "epoch: 06, loss: -0.10756\n",
      "epoch: 07, loss: -0.10858\n",
      "epoch: 08, loss: -0.10646\n",
      "epoch: 09, loss: -0.10750\n",
      "torch.Size([400, 64])\n",
      "<class 'numpy.ndarray'>\n"
     ]
    },
    {
     "name": "stderr",
     "output_type": "stream",
     "text": [
      " 55%|█████▍    | 545/1000 [2:56:35<3:01:06, 23.88s/it]"
     ]
    },
    {
     "name": "stdout",
     "output_type": "stream",
     "text": [
      "eigenvalues shape torch.Size([5]) eigenvectors shape torch.Size([5, 400])\n",
      "545 /home/phdcs2/Hard_Disk/Datasets/Deep-Spectral-Segmentation/data/object-segmentation/ECSSD/features/dino_vits16/0546.pth\n",
      "dict_keys(['k', 'indices', 'file', 'id', 'model_name', 'patch_size', 'shape'])\n",
      "0546\n",
      "Starting Training\n",
      "epoch: 00, loss: 0.00428\n",
      "epoch: 01, loss: -0.00471\n",
      "epoch: 02, loss: -0.00876\n",
      "epoch: 03, loss: -0.01094\n",
      "epoch: 04, loss: -0.01235\n",
      "epoch: 05, loss: -0.01314\n",
      "epoch: 06, loss: -0.01368\n",
      "epoch: 07, loss: -0.01393\n",
      "epoch: 08, loss: -0.01430\n",
      "epoch: 09, loss: -0.01454\n",
      "torch.Size([450, 64])\n",
      "<class 'numpy.ndarray'>\n"
     ]
    },
    {
     "name": "stderr",
     "output_type": "stream",
     "text": [
      " 55%|█████▍    | 546/1000 [2:57:02<3:07:01, 24.72s/it]"
     ]
    },
    {
     "name": "stdout",
     "output_type": "stream",
     "text": [
      "eigenvalues shape torch.Size([5]) eigenvectors shape torch.Size([5, 450])\n",
      "546 /home/phdcs2/Hard_Disk/Datasets/Deep-Spectral-Segmentation/data/object-segmentation/ECSSD/features/dino_vits16/0547.pth\n",
      "dict_keys(['k', 'indices', 'file', 'id', 'model_name', 'patch_size', 'shape'])\n",
      "0547\n",
      "Starting Training\n",
      "epoch: 00, loss: -0.03459\n",
      "epoch: 01, loss: -0.05484\n",
      "epoch: 02, loss: -0.05748\n",
      "epoch: 03, loss: -0.05966\n",
      "epoch: 04, loss: -0.06011\n",
      "epoch: 05, loss: -0.06307\n",
      "epoch: 06, loss: -0.06056\n",
      "epoch: 07, loss: -0.06387\n",
      "epoch: 08, loss: -0.06261\n",
      "epoch: 09, loss: -0.06308\n",
      "torch.Size([450, 64])\n",
      "<class 'numpy.ndarray'>\n"
     ]
    },
    {
     "name": "stderr",
     "output_type": "stream",
     "text": [
      " 55%|█████▍    | 547/1000 [2:57:30<3:14:25, 25.75s/it]"
     ]
    },
    {
     "name": "stdout",
     "output_type": "stream",
     "text": [
      "eigenvalues shape torch.Size([5]) eigenvectors shape torch.Size([5, 450])\n",
      "547 /home/phdcs2/Hard_Disk/Datasets/Deep-Spectral-Segmentation/data/object-segmentation/ECSSD/features/dino_vits16/0548.pth\n",
      "dict_keys(['k', 'indices', 'file', 'id', 'model_name', 'patch_size', 'shape'])\n",
      "0548\n",
      "Starting Training\n",
      "epoch: 00, loss: -0.02249\n",
      "epoch: 01, loss: -0.04931\n",
      "epoch: 02, loss: -0.05603\n",
      "epoch: 03, loss: -0.05359\n",
      "epoch: 04, loss: -0.05538\n",
      "epoch: 05, loss: -0.05661\n",
      "epoch: 06, loss: -0.05613\n",
      "epoch: 07, loss: -0.05904\n",
      "epoch: 08, loss: -0.05900\n",
      "epoch: 09, loss: -0.05792\n",
      "torch.Size([425, 64])\n",
      "<class 'numpy.ndarray'>\n"
     ]
    },
    {
     "name": "stderr",
     "output_type": "stream",
     "text": [
      " 55%|█████▍    | 548/1000 [2:57:57<3:17:06, 26.17s/it]"
     ]
    },
    {
     "name": "stdout",
     "output_type": "stream",
     "text": [
      "eigenvalues shape torch.Size([5]) eigenvectors shape torch.Size([5, 425])\n",
      "548 /home/phdcs2/Hard_Disk/Datasets/Deep-Spectral-Segmentation/data/object-segmentation/ECSSD/features/dino_vits16/0549.pth\n",
      "dict_keys(['k', 'indices', 'file', 'id', 'model_name', 'patch_size', 'shape'])\n",
      "0549\n",
      "Starting Training\n",
      "epoch: 00, loss: -0.02110\n",
      "epoch: 01, loss: -0.03963\n",
      "epoch: 02, loss: -0.04514\n",
      "epoch: 03, loss: -0.04686\n",
      "epoch: 04, loss: -0.04920\n",
      "epoch: 05, loss: -0.04484\n",
      "epoch: 06, loss: -0.04764\n",
      "epoch: 07, loss: -0.04814\n",
      "epoch: 08, loss: -0.04977\n",
      "epoch: 09, loss: -0.04881\n",
      "torch.Size([400, 64])\n",
      "<class 'numpy.ndarray'>\n"
     ]
    },
    {
     "name": "stderr",
     "output_type": "stream",
     "text": [
      " 55%|█████▍    | 549/1000 [2:58:20<3:10:36, 25.36s/it]"
     ]
    },
    {
     "name": "stdout",
     "output_type": "stream",
     "text": [
      "eigenvalues shape torch.Size([5]) eigenvectors shape torch.Size([5, 400])\n",
      "549 /home/phdcs2/Hard_Disk/Datasets/Deep-Spectral-Segmentation/data/object-segmentation/ECSSD/features/dino_vits16/0550.pth\n",
      "dict_keys(['k', 'indices', 'file', 'id', 'model_name', 'patch_size', 'shape'])\n",
      "0550\n",
      "Starting Training\n",
      "epoch: 00, loss: -0.03123\n",
      "epoch: 01, loss: -0.05117\n",
      "epoch: 02, loss: -0.05389\n",
      "epoch: 03, loss: -0.05478\n",
      "epoch: 04, loss: -0.05448\n",
      "epoch: 05, loss: -0.05538\n",
      "epoch: 06, loss: -0.05514\n",
      "epoch: 07, loss: -0.05620\n",
      "epoch: 08, loss: -0.05591\n",
      "epoch: 09, loss: -0.05530\n",
      "torch.Size([425, 64])\n",
      "<class 'numpy.ndarray'>\n"
     ]
    },
    {
     "name": "stderr",
     "output_type": "stream",
     "text": [
      " 55%|█████▌    | 550/1000 [2:58:47<3:11:55, 25.59s/it]"
     ]
    },
    {
     "name": "stdout",
     "output_type": "stream",
     "text": [
      "eigenvalues shape torch.Size([5]) eigenvectors shape torch.Size([5, 425])\n",
      "550 /home/phdcs2/Hard_Disk/Datasets/Deep-Spectral-Segmentation/data/object-segmentation/ECSSD/features/dino_vits16/0551.pth\n",
      "dict_keys(['k', 'indices', 'file', 'id', 'model_name', 'patch_size', 'shape'])\n",
      "0551\n",
      "Starting Training\n",
      "epoch: 00, loss: -0.03532\n",
      "epoch: 01, loss: -0.05681\n",
      "epoch: 02, loss: -0.05952\n",
      "epoch: 03, loss: -0.06295\n",
      "epoch: 04, loss: -0.06200\n",
      "epoch: 05, loss: -0.06192\n",
      "epoch: 06, loss: -0.06546\n",
      "epoch: 07, loss: -0.06643\n",
      "epoch: 08, loss: -0.06427\n",
      "epoch: 09, loss: -0.06731\n",
      "torch.Size([400, 64])\n",
      "<class 'numpy.ndarray'>\n"
     ]
    },
    {
     "name": "stderr",
     "output_type": "stream",
     "text": [
      " 55%|█████▌    | 551/1000 [2:59:09<3:04:51, 24.70s/it]"
     ]
    },
    {
     "name": "stdout",
     "output_type": "stream",
     "text": [
      "eigenvalues shape torch.Size([5]) eigenvectors shape torch.Size([5, 400])\n",
      "551 /home/phdcs2/Hard_Disk/Datasets/Deep-Spectral-Segmentation/data/object-segmentation/ECSSD/features/dino_vits16/0552.pth\n",
      "dict_keys(['k', 'indices', 'file', 'id', 'model_name', 'patch_size', 'shape'])\n",
      "0552\n",
      "Starting Training\n",
      "epoch: 00, loss: -0.13410\n",
      "epoch: 01, loss: -0.16600\n",
      "epoch: 02, loss: -0.16933\n",
      "epoch: 03, loss: -0.17043\n",
      "epoch: 04, loss: -0.17064\n",
      "epoch: 05, loss: -0.17428\n",
      "epoch: 06, loss: -0.17444\n",
      "epoch: 07, loss: -0.17527\n",
      "epoch: 08, loss: -0.17570\n",
      "epoch: 09, loss: -0.17531\n",
      "torch.Size([400, 64])\n",
      "<class 'numpy.ndarray'>\n"
     ]
    },
    {
     "name": "stderr",
     "output_type": "stream",
     "text": [
      " 55%|█████▌    | 552/1000 [2:59:32<3:00:24, 24.16s/it]"
     ]
    },
    {
     "name": "stdout",
     "output_type": "stream",
     "text": [
      "eigenvalues shape torch.Size([5]) eigenvectors shape torch.Size([5, 400])\n",
      "552 /home/phdcs2/Hard_Disk/Datasets/Deep-Spectral-Segmentation/data/object-segmentation/ECSSD/features/dino_vits16/0553.pth\n",
      "dict_keys(['k', 'indices', 'file', 'id', 'model_name', 'patch_size', 'shape'])\n",
      "0553\n",
      "Starting Training\n",
      "epoch: 00, loss: -0.00996\n",
      "epoch: 01, loss: -0.03861\n",
      "epoch: 02, loss: -0.04273\n",
      "epoch: 03, loss: -0.04191\n",
      "epoch: 04, loss: -0.04555\n",
      "epoch: 05, loss: -0.04552\n",
      "epoch: 06, loss: -0.04815\n",
      "epoch: 07, loss: -0.04635\n",
      "epoch: 08, loss: -0.04596\n",
      "epoch: 09, loss: -0.04913\n",
      "torch.Size([450, 64])\n",
      "<class 'numpy.ndarray'>\n"
     ]
    },
    {
     "name": "stderr",
     "output_type": "stream",
     "text": [
      " 55%|█████▌    | 553/1000 [2:59:58<3:03:46, 24.67s/it]"
     ]
    },
    {
     "name": "stdout",
     "output_type": "stream",
     "text": [
      "eigenvalues shape torch.Size([5]) eigenvectors shape torch.Size([5, 450])\n",
      "553 /home/phdcs2/Hard_Disk/Datasets/Deep-Spectral-Segmentation/data/object-segmentation/ECSSD/features/dino_vits16/0554.pth\n",
      "dict_keys(['k', 'indices', 'file', 'id', 'model_name', 'patch_size', 'shape'])\n",
      "0554\n",
      "Starting Training\n",
      "epoch: 00, loss: -0.02738\n",
      "epoch: 01, loss: -0.04069\n",
      "epoch: 02, loss: -0.04246\n",
      "epoch: 03, loss: -0.04289\n",
      "epoch: 04, loss: -0.04296\n",
      "epoch: 05, loss: -0.04289\n",
      "epoch: 06, loss: -0.04370\n",
      "epoch: 07, loss: -0.04350\n",
      "epoch: 08, loss: -0.04388\n",
      "epoch: 09, loss: -0.04400\n",
      "torch.Size([450, 64])\n",
      "<class 'numpy.ndarray'>\n"
     ]
    },
    {
     "name": "stderr",
     "output_type": "stream",
     "text": [
      " 55%|█████▌    | 554/1000 [3:00:23<3:03:58, 24.75s/it]"
     ]
    },
    {
     "name": "stdout",
     "output_type": "stream",
     "text": [
      "eigenvalues shape torch.Size([5]) eigenvectors shape torch.Size([5, 450])\n",
      "554 /home/phdcs2/Hard_Disk/Datasets/Deep-Spectral-Segmentation/data/object-segmentation/ECSSD/features/dino_vits16/0555.pth\n",
      "dict_keys(['k', 'indices', 'file', 'id', 'model_name', 'patch_size', 'shape'])\n",
      "0555\n",
      "Starting Training\n",
      "epoch: 00, loss: -0.05128\n",
      "epoch: 01, loss: -0.06420\n",
      "epoch: 02, loss: -0.06385\n",
      "epoch: 03, loss: -0.06473\n",
      "epoch: 04, loss: -0.06588\n",
      "epoch: 05, loss: -0.06523\n",
      "epoch: 06, loss: -0.06534\n",
      "epoch: 07, loss: -0.06585\n",
      "epoch: 08, loss: -0.06552\n",
      "epoch: 09, loss: -0.06637\n",
      "torch.Size([500, 64])\n",
      "<class 'numpy.ndarray'>\n"
     ]
    },
    {
     "name": "stderr",
     "output_type": "stream",
     "text": [
      " 56%|█████▌    | 555/1000 [3:00:51<3:11:30, 25.82s/it]"
     ]
    },
    {
     "name": "stdout",
     "output_type": "stream",
     "text": [
      "eigenvalues shape torch.Size([5]) eigenvectors shape torch.Size([5, 500])\n",
      "555 /home/phdcs2/Hard_Disk/Datasets/Deep-Spectral-Segmentation/data/object-segmentation/ECSSD/features/dino_vits16/0556.pth\n",
      "dict_keys(['k', 'indices', 'file', 'id', 'model_name', 'patch_size', 'shape'])\n",
      "0556\n",
      "Starting Training\n",
      "epoch: 00, loss: -0.01240\n",
      "epoch: 01, loss: -0.03733\n",
      "epoch: 02, loss: -0.04206\n",
      "epoch: 03, loss: -0.04403\n",
      "epoch: 04, loss: -0.04771\n",
      "epoch: 05, loss: -0.04491\n",
      "epoch: 06, loss: -0.04866\n",
      "epoch: 07, loss: -0.04745\n",
      "epoch: 08, loss: -0.04686\n",
      "epoch: 09, loss: -0.04866\n",
      "torch.Size([525, 64])\n",
      "<class 'numpy.ndarray'>\n"
     ]
    },
    {
     "name": "stderr",
     "output_type": "stream",
     "text": [
      " 56%|█████▌    | 556/1000 [3:01:35<3:49:46, 31.05s/it]"
     ]
    },
    {
     "name": "stdout",
     "output_type": "stream",
     "text": [
      "eigenvalues shape torch.Size([5]) eigenvectors shape torch.Size([5, 525])\n",
      "556 /home/phdcs2/Hard_Disk/Datasets/Deep-Spectral-Segmentation/data/object-segmentation/ECSSD/features/dino_vits16/0557.pth\n",
      "dict_keys(['k', 'indices', 'file', 'id', 'model_name', 'patch_size', 'shape'])\n",
      "0557\n",
      "Starting Training\n",
      "epoch: 00, loss: -0.02251\n",
      "epoch: 01, loss: -0.04424\n",
      "epoch: 02, loss: -0.04577\n",
      "epoch: 03, loss: -0.04609\n",
      "epoch: 04, loss: -0.04644\n",
      "epoch: 05, loss: -0.04669\n",
      "epoch: 06, loss: -0.04684\n",
      "epoch: 07, loss: -0.04693\n",
      "epoch: 08, loss: -0.04706\n"
     ]
    },
    {
     "name": "stderr",
     "output_type": "stream",
     "text": [
      " 56%|█████▌    | 556/1000 [3:01:56<2:25:17, 19.63s/it]"
     ]
    },
    {
     "name": "stdout",
     "output_type": "stream",
     "text": [
      "epoch: 09, loss: -0.04717\n",
      "torch.Size([450, 64])\n"
     ]
    },
    {
     "name": "stderr",
     "output_type": "stream",
     "text": [
      "\n"
     ]
    },
    {
     "ename": "ValueError",
     "evalue": "all input arrays must have the same shape",
     "output_type": "error",
     "traceback": [
      "\u001B[0;31m---------------------------------------------------------------------------\u001B[0m",
      "\u001B[0;31mValueError\u001B[0m                                Traceback (most recent call last)",
      "Cell \u001B[0;32mIn[7], line 166\u001B[0m\n\u001B[1;32m    164\u001B[0m \u001B[38;5;66;03m# Color affinities (of type scipy.sparse.csr_matrix)\u001B[39;00m\n\u001B[1;32m    165\u001B[0m \u001B[38;5;28;01mif\u001B[39;00m which_color_matrix \u001B[38;5;241m==\u001B[39m \u001B[38;5;124m'\u001B[39m\u001B[38;5;124mknn\u001B[39m\u001B[38;5;124m'\u001B[39m:\n\u001B[0;32m--> 166\u001B[0m     W_lr \u001B[38;5;241m=\u001B[39m \u001B[43mutils\u001B[49m\u001B[38;5;241;43m.\u001B[39;49m\u001B[43mknn_affinity\u001B[49m\u001B[43m(\u001B[49m\u001B[43mimage_lr\u001B[49m\u001B[43m \u001B[49m\u001B[38;5;241;43m/\u001B[39;49m\u001B[43m \u001B[49m\u001B[38;5;241;43m255\u001B[39;49m\u001B[43m)\u001B[49m\n\u001B[1;32m    167\u001B[0m \u001B[38;5;28;01melif\u001B[39;00m which_color_matrix \u001B[38;5;241m==\u001B[39m \u001B[38;5;124m'\u001B[39m\u001B[38;5;124mrw\u001B[39m\u001B[38;5;124m'\u001B[39m:\n\u001B[1;32m    168\u001B[0m     W_lr \u001B[38;5;241m=\u001B[39m utils\u001B[38;5;241m.\u001B[39mrw_affinity(image_lr \u001B[38;5;241m/\u001B[39m \u001B[38;5;241m255\u001B[39m)\n",
      "File \u001B[0;32m~/Hard_Disk/Projects/T2I/deep-spectral-segmentation/extract/extract_utils.py:171\u001B[0m, in \u001B[0;36mknn_affinity\u001B[0;34m(image, n_neighbors, distance_weights)\u001B[0m\n\u001B[1;32m    168\u001B[0m i, j \u001B[38;5;241m=\u001B[39m [], []\n\u001B[1;32m    170\u001B[0m \u001B[38;5;28;01mfor\u001B[39;00m k, distance_weight \u001B[38;5;129;01min\u001B[39;00m \u001B[38;5;28mzip\u001B[39m(n_neighbors, distance_weights):\n\u001B[0;32m--> 171\u001B[0m     f \u001B[38;5;241m=\u001B[39m \u001B[43mnp\u001B[49m\u001B[38;5;241;43m.\u001B[39;49m\u001B[43mstack\u001B[49m\u001B[43m(\u001B[49m\n\u001B[1;32m    172\u001B[0m \u001B[43m        \u001B[49m\u001B[43m[\u001B[49m\u001B[43mr\u001B[49m\u001B[43m,\u001B[49m\u001B[43m \u001B[49m\u001B[43mg\u001B[49m\u001B[43m,\u001B[49m\u001B[43m \u001B[49m\u001B[43mb\u001B[49m\u001B[43m,\u001B[49m\u001B[43m \u001B[49m\u001B[43mdistance_weight\u001B[49m\u001B[43m \u001B[49m\u001B[38;5;241;43m*\u001B[39;49m\u001B[43m \u001B[49m\u001B[43mx\u001B[49m\u001B[43m,\u001B[49m\u001B[43m \u001B[49m\u001B[43mdistance_weight\u001B[49m\u001B[43m \u001B[49m\u001B[38;5;241;43m*\u001B[39;49m\u001B[43m \u001B[49m\u001B[43my\u001B[49m\u001B[43m]\u001B[49m\u001B[43m,\u001B[49m\n\u001B[1;32m    173\u001B[0m \u001B[43m        \u001B[49m\u001B[43maxis\u001B[49m\u001B[38;5;241;43m=\u001B[39;49m\u001B[38;5;241;43m1\u001B[39;49m\u001B[43m,\u001B[49m\n\u001B[1;32m    174\u001B[0m \u001B[43m        \u001B[49m\u001B[43mout\u001B[49m\u001B[38;5;241;43m=\u001B[39;49m\u001B[43mnp\u001B[49m\u001B[38;5;241;43m.\u001B[39;49m\u001B[43mzeros\u001B[49m\u001B[43m(\u001B[49m\u001B[43m(\u001B[49m\u001B[43mn\u001B[49m\u001B[43m,\u001B[49m\u001B[43m \u001B[49m\u001B[38;5;241;43m5\u001B[39;49m\u001B[43m)\u001B[49m\u001B[43m,\u001B[49m\u001B[43m \u001B[49m\u001B[43mdtype\u001B[49m\u001B[38;5;241;43m=\u001B[39;49m\u001B[43mnp\u001B[49m\u001B[38;5;241;43m.\u001B[39;49m\u001B[43mfloat32\u001B[49m\u001B[43m)\u001B[49m\u001B[43m,\u001B[49m\n\u001B[1;32m    175\u001B[0m \u001B[43m    \u001B[49m\u001B[43m)\u001B[49m\n\u001B[1;32m    177\u001B[0m     distances, neighbors \u001B[38;5;241m=\u001B[39m knn(f, f, k\u001B[38;5;241m=\u001B[39mk)\n\u001B[1;32m    179\u001B[0m     i\u001B[38;5;241m.\u001B[39mappend(np\u001B[38;5;241m.\u001B[39mrepeat(np\u001B[38;5;241m.\u001B[39marange(n), k))\n",
      "File \u001B[0;32m<__array_function__ internals>:180\u001B[0m, in \u001B[0;36mstack\u001B[0;34m(*args, **kwargs)\u001B[0m\n",
      "File \u001B[0;32m~/Hard_Disk/Projects/T2I/deep-spectral-segmentation/venv/lib/python3.8/site-packages/numpy/core/shape_base.py:426\u001B[0m, in \u001B[0;36mstack\u001B[0;34m(arrays, axis, out)\u001B[0m\n\u001B[1;32m    424\u001B[0m shapes \u001B[38;5;241m=\u001B[39m {arr\u001B[38;5;241m.\u001B[39mshape \u001B[38;5;28;01mfor\u001B[39;00m arr \u001B[38;5;129;01min\u001B[39;00m arrays}\n\u001B[1;32m    425\u001B[0m \u001B[38;5;28;01mif\u001B[39;00m \u001B[38;5;28mlen\u001B[39m(shapes) \u001B[38;5;241m!=\u001B[39m \u001B[38;5;241m1\u001B[39m:\n\u001B[0;32m--> 426\u001B[0m     \u001B[38;5;28;01mraise\u001B[39;00m \u001B[38;5;167;01mValueError\u001B[39;00m(\u001B[38;5;124m'\u001B[39m\u001B[38;5;124mall input arrays must have the same shape\u001B[39m\u001B[38;5;124m'\u001B[39m)\n\u001B[1;32m    428\u001B[0m result_ndim \u001B[38;5;241m=\u001B[39m arrays[\u001B[38;5;241m0\u001B[39m]\u001B[38;5;241m.\u001B[39mndim \u001B[38;5;241m+\u001B[39m \u001B[38;5;241m1\u001B[39m\n\u001B[1;32m    429\u001B[0m axis \u001B[38;5;241m=\u001B[39m normalize_axis_index(axis, result_ndim)\n",
      "\u001B[0;31mValueError\u001B[0m: all input arrays must have the same shape"
     ]
    }
   ],
   "source": [
    "pca_comp=64\n",
    "pca = PCA(n_components=pca_comp)\n",
    "utils.make_output_dir(output_dir)\n",
    "inputs = list(enumerate(sorted(Path(features_dir).iterdir())))\n",
    "for inp in tqdm(inputs):\n",
    "    index, features_file = inp\n",
    "    print(index, features_file)\n",
    "     # Load\n",
    "    data_dict = torch.load(features_file, map_location='cpu')\n",
    "    print(data_dict.keys())   #['k', 'indices', 'file', 'id', 'model_name', 'patch_size', 'shape']\n",
    "    # print(\"shape=\", data_dict['shape'], \"k shape\", data_dict['k'].shape, \"patch_size=\", data_dict['patch_size'])\n",
    "    image_id = data_dict['file'][:-4]\n",
    "    print(image_id)\n",
    "    # Load\n",
    "    output_file = str(Path(output_dir) / f'{image_id}.pth')\n",
    "    if Path(output_file).is_file():\n",
    "        print(f'Skipping existing file {str(output_file)}')\n",
    "        # break\n",
    "        # return  # skip because already generated\n",
    "\n",
    "    # Load affinity matrix\n",
    "    feats = data_dict[which_features].squeeze().cuda()\n",
    "    # print(\"Without normalizing, Features Shape is\",feats.shape)\n",
    "    if normalize:\n",
    "        feats = F.normalize(feats, p=2, dim=-1)\n",
    "    # print(\"After normalization, Features Shape\",feats.shape)\n",
    "    # print(\"which_matrix=\", which_matrix)\n",
    "    # Eigenvectors of affinity matrix\n",
    "    if which_matrix == 'affinity_torch':\n",
    "        W = feats @ feats.T\n",
    "        # W_feat=contrastive_affinity(feats, feats.T)\n",
    "        # print(\"W shape=\", W.shape)\n",
    "        if threshold_at_zero:\n",
    "            W = (W * (W > 0))\n",
    "            # print(\"W shape=\", W.shape)\n",
    "        eigenvalues, eigenvectors = torch.eig(W, eigenvectors=True)\n",
    "        eigenvalues = eigenvalues.cpu()\n",
    "        eigenvectors = eigenvectors.cpu()\n",
    "        print(\"which matrix=\",which_matrix, \"eigenvalues shape\", eigenvalues.shape, \"eigenvectors shape\", eigenvectors.shape)\n",
    "\n",
    "\n",
    "    # Eigenvectors of affinity matrix with scipy\n",
    "    elif which_matrix == 'affinity_svd':\n",
    "        USV = torch.linalg.svd(feats, full_matrices=False)\n",
    "        eigenvectors = USV[0][:, :K].T.to('cpu', non_blocking=True)\n",
    "        eigenvalues = USV[1][:K].to('cpu', non_blocking=True)\n",
    "        print(\"which matrix=\",which_matrix,\"eigenvalues shape\", eigenvalues.shape, \"eigenvectors shape\", eigenvectors.shape)\n",
    "\n",
    "    # Eigenvectors of affinity matrix with scipy\n",
    "    elif which_matrix == 'affinity':\n",
    "        # print(\"Without normalizing, Features Shape is\",feats.shape)\n",
    "        W = (feats @ feats.T)\n",
    "        # W_feat=contrastive_affinity(feats, feats.T)\n",
    "        # print(\"W shape=\", W.shape)\n",
    "        if threshold_at_zero:\n",
    "            W = (W * (W > 0))\n",
    "        W = W.cpu().numpy()\n",
    "        # print(\"W shape=\", W.shape)\n",
    "        eigenvalues, eigenvectors = eigsh(W, which='LM', k=K)\n",
    "        eigenvectors = torch.flip(torch.from_numpy(eigenvectors), dims=(-1,)).T\n",
    "        print(\"which matrix=\",which_matrix, \"eigenvalues shape\", eigenvalues.shape, \"eigenvectors shape\", eigenvectors.shape)\n",
    "\n",
    "    # Eigenvectors of matting laplacian matrix\n",
    "    elif which_matrix in ['matting_laplacian', 'laplacian']:\n",
    "\n",
    "        # Get sizes\n",
    "        B, C, H, W, P, H_patch, W_patch, H_pad, W_pad = utils.get_image_sizes(data_dict)\n",
    "        if image_downsample_factor is None:\n",
    "            image_downsample_factor = P\n",
    "        H_pad_lr, W_pad_lr = H_pad // image_downsample_factor, W_pad // image_downsample_factor\n",
    "\n",
    "        # Upscale features to match the resolution\n",
    "        if (H_patch, W_patch) != (H_pad_lr, W_pad_lr):\n",
    "            feats = F.interpolate(\n",
    "                feats.T.reshape(1, -1, H_patch, W_patch),\n",
    "                size=(H_pad_lr, W_pad_lr), mode='bilinear', align_corners=False\n",
    "            ).reshape(-1, H_pad_lr * W_pad_lr).T\n",
    "\n",
    "        ### Feature affinities\n",
    "        # print(\"Without normalizing, Features Shape is\",feats.shape)\n",
    "\n",
    "        W_feat_ds = (feats @ feats.T)\n",
    "        layer=nn.Linear(pca_comp,pca_comp).cuda()\n",
    "        x0=feats\n",
    "        x0_arr=x0.cpu()\n",
    "        # print(x0_arr.shape)\n",
    "        z0_arr= pca.fit_transform(x0_arr)\n",
    "\n",
    "        # Define the affine transformation parameters\n",
    "        scale = np.random.uniform(0.8, 1.2)  # Random scaling factor between 0.8 and 1.2\n",
    "        translation = np.random.uniform(-10, 10, size=2)  # Random translation vector between -10 and 10 in both directions\n",
    "        rotation = np.random.uniform(-15, 15)  # Random rotation angle between -15 and 15 degrees\n",
    "        shear = np.random.uniform(-0.2, 0.2, size=2)  # Random shear factor between -0.2 and 0.2 in both directions\n",
    "\n",
    "        # Define the affine matrix\n",
    "        affine_matrix = np.array([[scale * np.cos(rotation), -shear[0] * scale * np.sin(rotation), translation[0]],\n",
    "                                  [shear[1] * scale * np.sin(rotation), scale * np.cos(rotation), translation[1]],\n",
    "                                  [0, 0, 1]])\n",
    "        z1_arr=affine_transform(z0_arr, affine_matrix)\n",
    "#         z1_arr=pca.fit_transform(z1_arr)\n",
    "        z0 = torch.from_numpy(z0_arr).float()\n",
    "        z1 = torch.from_numpy(z1_arr).float()\n",
    "\n",
    "        # feat_list.append(feats)\n",
    "        feat_dataset_z0 = Feature_Dataset(z0)\n",
    "        if feats.shape[0]%2==0:\n",
    "            features_dataloader_z0 = DataLoader(feat_dataset_z0, batch_size=batch_size, shuffle=True)\n",
    "        else:\n",
    "            features_dataloader_z0 = DataLoader(feat_dataset_z0, batch_size=batch_size, shuffle=True, drop_last=True)\n",
    "\n",
    "        feat_dataset_z1 = Feature_Dataset(z1)\n",
    "        if feats.shape[0]%2==0:\n",
    "            features_dataloader_z1 = DataLoader(feat_dataset_z1, batch_size=batch_size, shuffle=True)\n",
    "        else:\n",
    "            features_dataloader_z1 = DataLoader(feat_dataset_z1, batch_size=batch_size, shuffle=True, drop_last=True)\n",
    "        device = \"cuda\" if torch.cuda.is_available() else \"cpu\"\n",
    "    \n",
    "        criterion = NegativeCosineSimilarity()\n",
    "        optimizer = torch.optim.SGD(layer.parameters(), lr=0.06)\n",
    "        print(\"Starting Training\")\n",
    "        for epoch in range(epochs):\n",
    "            total_loss = 0\n",
    "            for z0_new,z1_new in zip(features_dataloader_z0,features_dataloader_z1):\n",
    "                z0_new = z0_new.to(device)\n",
    "                z1_new = z1_new.to(device)\n",
    "    #             print(\"z0_new.shape\", z0_new.shape)\n",
    "    #             print(\"z1_new.shape\", z1_new.shape)\n",
    "                p0=layer(z0_new)\n",
    "                p1=layer(z1_new)\n",
    "    #             print(\"p0.shape\", p0.shape)\n",
    "    #             print(\"p1.shape\", p1.shape)\n",
    "                loss = 0.5 * (criterion(z0_new, p1) + criterion(z1_new, p0))\n",
    "                total_loss += loss.detach()\n",
    "                loss.backward()\n",
    "                optimizer.step()\n",
    "                optimizer.zero_grad()\n",
    "            avg_loss = total_loss / len(features_dataloader_z0)\n",
    "            print(f\"epoch: {epoch:>02}, loss: {avg_loss:.5f}\")\n",
    "        projected_feature=layer(z0.to(device))\n",
    "        print(projected_feature.shape)\n",
    "        W_feat_siam=torch.matmul(projected_feature, projected_feature.t())\n",
    "        # W_feat_siam=torch.matmul(projected_feature[0], projected_feature[0].t())\n",
    "        W_feat=W_feat_ds + 0.1*W_feat_siam\n",
    "#         W_feat=normalize_affinity_matrix(W_feat_unnorm, axis=1)\n",
    "        # print(\"W_feat.shape=\", W_feat.shape)\n",
    "        # print(\"W_feat.shape=\", W_feat.shape)\n",
    "        # W_feat=contrastive_affinity(feats, feats.T)\n",
    "        if threshold_at_zero:\n",
    "            W_feat = (W_feat * (W_feat > 0))\n",
    "        W_feat = W_feat / W_feat.max()  # NOTE: If features are normalized, this naturally does nothing\n",
    "        # W_feat = W_feat.cpu().numpy()\n",
    "        W_feat = W_feat.detach().cpu().numpy()\n",
    "        # print(\"W_feat shape=\",W_feat.shape)\n",
    "\n",
    "        ### Color affinities\n",
    "        # If we are fusing with color affinites, then load the image and compute\n",
    "        if image_color_lambda > 0:\n",
    "\n",
    "            # Load image\n",
    "            image_file = str(Path(images_root) / f'{image_id}.jpg')\n",
    "            image_lr = Image.open(image_file).resize((W_pad_lr, H_pad_lr), Image.BILINEAR)\n",
    "            image_lr = np.array(image_lr) / 255.\n",
    "\n",
    "            # Color affinities (of type scipy.sparse.csr_matrix)\n",
    "            if which_color_matrix == 'knn':\n",
    "                W_lr = utils.knn_affinity(image_lr / 255)\n",
    "            elif which_color_matrix == 'rw':\n",
    "                W_lr = utils.rw_affinity(image_lr / 255)\n",
    "\n",
    "            # Convert to dense numpy array\n",
    "            W_color = np.array(W_lr.todense().astype(np.float32))\n",
    "            # print(\"W_color shape\", W_color.shape)\n",
    "\n",
    "        else:\n",
    "\n",
    "            # No color affinity\n",
    "            W_color = 0\n",
    "        print(type(W_color))\n",
    "        W_color2=W_color\n",
    "        max_color2=np.max(W_color2)\n",
    "        alpha=3\n",
    "        W_color2 = W_color2 - (max_color2 / alpha)\n",
    "\n",
    "        # Combine\n",
    "        W_comb = W_feat + W_color * image_color_lambda + W_color2 * image_color_lambda  # combination\n",
    "        D_comb = np.array(utils.get_diagonal(W_comb).todense())  # is dense or sparse faster? not sure, should check\n",
    "        # print(\"W_comb shape= \", W_comb.shape, \"D_comb shape\",  D_comb.shape)\n",
    "        if lapnorm:\n",
    "            try:\n",
    "                eigenvalues, eigenvectors = eigsh(D_comb - W_comb, k=K, sigma=0, which='LM', M=D_comb)\n",
    "            except:\n",
    "                eigenvalues, eigenvectors = eigsh(D_comb - W_comb, k=K, which='SM', M=D_comb)\n",
    "        else:\n",
    "            try:\n",
    "                eigenvalues, eigenvectors = eigsh(D_comb - W_comb, k=K, sigma=0, which='LM')\n",
    "            except:\n",
    "                eigenvalues, eigenvectors = eigsh(D_comb - W_comb, k=K, which='SM')\n",
    "        eigenvalues, eigenvectors = torch.from_numpy(eigenvalues), torch.from_numpy(eigenvectors.T).float()\n",
    "    print(\"eigenvalues shape\", eigenvalues.shape, \"eigenvectors shape\", eigenvectors.shape)\n",
    "    # Sign ambiguity\n",
    "    for k in range(eigenvectors.shape[0]):\n",
    "        if 0.5 < torch.mean((eigenvectors[k] > 0).float()).item() < 1.0:  # reverse segment\n",
    "            eigenvectors[k] = 0 - eigenvectors[k]\n",
    "\n",
    "    # Save dict\n",
    "    output_dict = {'eigenvalues': eigenvalues, 'eigenvectors': eigenvectors}\n",
    "    torch.save(output_dict, output_file)"
   ]
  }
 ],
 "metadata": {
  "kernelspec": {
   "display_name": "Python 3 (ipykernel)",
   "language": "python",
   "name": "python3"
  },
  "language_info": {
   "codemirror_mode": {
    "name": "ipython",
    "version": 3
   },
   "file_extension": ".py",
   "mimetype": "text/x-python",
   "name": "python",
   "nbconvert_exporter": "python",
   "pygments_lexer": "ipython3",
   "version": "3.8.10"
  }
 },
 "nbformat": 4,
 "nbformat_minor": 1
}