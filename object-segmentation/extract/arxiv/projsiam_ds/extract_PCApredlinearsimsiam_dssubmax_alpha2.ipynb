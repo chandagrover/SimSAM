{
 "cells": [
  {
   "cell_type": "code",
   "execution_count": 1,
   "metadata": {
    "pycharm": {
     "name": "#%%\n"
    }
   },
   "outputs": [],
   "source": [
    "# from functools import partial\n",
    "from pathlib import Path\n",
    "# from typing import Optional, Tuple\n",
    "# import cv2\n",
    "# import fire\n",
    "import numpy as np\n",
    "import torch\n",
    "import torch.nn.functional as F\n",
    "from accelerate import Accelerator\n",
    "from PIL import Image\n",
    "from scipy.sparse.linalg import eigsh\n",
    "# from sklearn.cluster import KMeans, MiniBatchKMeans\n",
    "from sklearn.decomposition import PCA\n",
    "# from torchvision.utils import draw_bounding_boxes\n",
    "from tqdm import tqdm\n",
    "import extract_utils as utils\n",
    "from torch.utils.data import Dataset, DataLoader\n",
    "from lightly.loss import NegativeCosineSimilarity\n",
    "from lightly.models.modules import SimSiamPredictionHead, SimSiamProjectionHead\n",
    "from torch import nn\n",
    "import torchvision\n",
    "from scipy.ndimage import affine_transform"
   ]
  },
  {
   "cell_type": "markdown",
   "metadata": {
    "pycharm": {
     "name": "#%% md\n"
    }
   },
   "source": [
    "## Extract Eigen Vectors"
   ]
  },
  {
   "cell_type": "code",
   "execution_count": 2,
   "metadata": {
    "pycharm": {
     "name": "#%%\n"
    }
   },
   "outputs": [],
   "source": [
    "images_root=\"/home/phdcs2/Hard_Disk/Datasets/Deep-Spectral-Segmentation/data/object-segmentation/ECSSD/images\"\n",
    "features_dir=\"/home/phdcs2/Hard_Disk/Datasets/Deep-Spectral-Segmentation/data/object-segmentation/ECSSD/features/dino_vits16\"\n",
    "output_dir=\"/home/phdcs2/Hard_Disk/Datasets/Deep-Spectral-Segmentation/data/object-segmentation/ECSSD/eigs_dot1PCA64pred_dssubmax_10_color8_alpha2\"\n",
    "which_matrix= 'laplacian'\n",
    "which_color_matrix= 'knn'\n",
    "which_features= 'k'\n",
    "normalize=True\n",
    "threshold_at_zero=True\n",
    "lapnorm= True\n",
    "K= 5\n",
    "image_downsample_factor = None\n",
    "image_color_lambda = 8.0\n",
    "multiprocessing = 0\n",
    "batch_size=2\n",
    "epochs=10"
   ]
  },
  {
   "cell_type": "markdown",
   "metadata": {
    "pycharm": {
     "name": "#%% md\n"
    }
   },
   "source": [
    "## Incorporating SimSiam"
   ]
  },
  {
   "cell_type": "code",
   "execution_count": 3,
   "metadata": {
    "pycharm": {
     "name": "#%%\n"
    }
   },
   "outputs": [],
   "source": [
    "# Define a custom dataset class\n",
    "class Feature_Dataset(Dataset):\n",
    "    def __init__(self, features):\n",
    "        self.features = features\n",
    "\n",
    "    def __getitem__(self, index):\n",
    "        return self.features[index]\n",
    "\n",
    "    def __len__(self):\n",
    "        return len(self.features)"
   ]
  },
  {
   "cell_type": "code",
   "execution_count": 4,
   "metadata": {
    "pycharm": {
     "name": "#%%\n"
    }
   },
   "outputs": [],
   "source": [
    "# class SimSiam(nn.Module):\n",
    "#     def __init__(self):\n",
    "#         super().__init__()\n",
    "#         self.projection_head = SimSiamProjectionHead(feats.shape[1], 128,feats.shape[1])\n",
    "#         self.prediction_head = SimSiamPredictionHead(feats.shape[1], 128, feats.shape[1])\n",
    "#\n",
    "#     def forward(self, x):\n",
    "#         z = self.projection_head(x)\n",
    "#         p = self.prediction_head(z)\n",
    "#         z = z.detach()\n",
    "#         return z, p"
   ]
  },
  {
   "cell_type": "code",
   "execution_count": 5,
   "metadata": {
    "pycharm": {
     "name": "#%%\n"
    }
   },
   "outputs": [],
   "source": [
    "# def normalize_affinity_matrix(affinity_matrix, axis=0):\n",
    "#     if axis == 1:\n",
    "#         # Normalize by row-wise sums\n",
    "#         row_sums = torch.sum(affinity_matrix, dim=1, keepdim=True)\n",
    "#         print(row_sums)\n",
    "#         normalized_matrix = affinity_matrix / row_sums\n",
    "#     elif axis == 0:\n",
    "#         # Normalize by column-wise sums\n",
    "#         col_sums = torch.sum(affinity_matrix, dim=0, keepdim=True)\n",
    "#         normalized_matrix = affinity_matrix / col_sums\n",
    "#     else:\n",
    "#         raise ValueError(\"Invalid axis. Axis must be either 0 or 1.\")\n",
    "\n",
    "#     return normalized_matrix"
   ]
  },
  {
   "cell_type": "code",
   "execution_count": 6,
   "metadata": {
    "pycharm": {
     "name": "#%%\n"
    },
    "scrolled": true
   },
   "outputs": [
    {
     "name": "stderr",
     "output_type": "stream",
     "text": [
      "\r",
      "  0%|                                                                                                                                                                             | 0/1000 [00:00<?, ?it/s]"
     ]
    },
    {
     "name": "stdout",
     "output_type": "stream",
     "text": [
      "0 /home/phdcs2/Hard_Disk/Datasets/Deep-Spectral-Segmentation/data/object-segmentation/ECSSD/features/dino_vits16/0001.pth\n",
      "dict_keys(['k', 'indices', 'file', 'id', 'model_name', 'patch_size', 'shape'])\n",
      "0001\n",
      "Starting Training\n",
      "epoch: 00, loss: -0.02405\n",
      "epoch: 01, loss: -0.04406\n",
      "epoch: 02, loss: -0.04623\n",
      "epoch: 03, loss: -0.05026\n",
      "epoch: 04, loss: -0.04922\n",
      "epoch: 05, loss: -0.05022\n",
      "epoch: 06, loss: -0.05022\n",
      "epoch: 07, loss: -0.05208\n",
      "epoch: 08, loss: -0.05001\n",
      "epoch: 09, loss: -0.05145\n",
      "torch.Size([400, 64])\n"
     ]
    },
    {
     "name": "stderr",
     "output_type": "stream",
     "text": [
      "\r",
      "  0%|▏                                                                                                                                                                  | 1/1000 [00:33<9:19:24, 33.60s/it]"
     ]
    },
    {
     "name": "stdout",
     "output_type": "stream",
     "text": [
      "eigenvalues shape torch.Size([5]) eigenvectors shape torch.Size([5, 400])\n",
      "1 /home/phdcs2/Hard_Disk/Datasets/Deep-Spectral-Segmentation/data/object-segmentation/ECSSD/features/dino_vits16/0002.pth\n",
      "dict_keys(['k', 'indices', 'file', 'id', 'model_name', 'patch_size', 'shape'])\n",
      "0002\n",
      "Starting Training\n",
      "epoch: 00, loss: -0.05644\n",
      "epoch: 01, loss: -0.08887\n",
      "epoch: 02, loss: -0.09812\n",
      "epoch: 03, loss: -0.09730\n",
      "epoch: 04, loss: -0.09891\n",
      "epoch: 05, loss: -0.10045\n",
      "epoch: 06, loss: -0.10310\n",
      "epoch: 07, loss: -0.10308\n",
      "epoch: 08, loss: -0.10355\n",
      "epoch: 09, loss: -0.10321\n",
      "torch.Size([400, 64])\n"
     ]
    },
    {
     "name": "stderr",
     "output_type": "stream",
     "text": [
      "\r",
      "  0%|▎                                                                                                                                                                  | 2/1000 [00:54<7:16:59, 26.27s/it]"
     ]
    },
    {
     "name": "stdout",
     "output_type": "stream",
     "text": [
      "eigenvalues shape torch.Size([5]) eigenvectors shape torch.Size([5, 400])\n",
      "2 /home/phdcs2/Hard_Disk/Datasets/Deep-Spectral-Segmentation/data/object-segmentation/ECSSD/features/dino_vits16/0003.pth\n",
      "dict_keys(['k', 'indices', 'file', 'id', 'model_name', 'patch_size', 'shape'])\n",
      "0003\n",
      "Starting Training\n",
      "epoch: 00, loss: -0.02811\n",
      "epoch: 01, loss: -0.05702\n",
      "epoch: 02, loss: -0.06568\n",
      "epoch: 03, loss: -0.06589\n",
      "epoch: 04, loss: -0.06854\n",
      "epoch: 05, loss: -0.06841\n",
      "epoch: 06, loss: -0.07103\n",
      "epoch: 07, loss: -0.06699\n",
      "epoch: 08, loss: -0.07091\n",
      "epoch: 09, loss: -0.06924\n",
      "torch.Size([400, 64])\n"
     ]
    },
    {
     "name": "stderr",
     "output_type": "stream",
     "text": [
      "\r",
      "  0%|▍                                                                                                                                                                  | 3/1000 [01:16<6:40:24, 24.10s/it]"
     ]
    },
    {
     "name": "stdout",
     "output_type": "stream",
     "text": [
      "eigenvalues shape torch.Size([5]) eigenvectors shape torch.Size([5, 400])\n",
      "3 /home/phdcs2/Hard_Disk/Datasets/Deep-Spectral-Segmentation/data/object-segmentation/ECSSD/features/dino_vits16/0004.pth\n",
      "dict_keys(['k', 'indices', 'file', 'id', 'model_name', 'patch_size', 'shape'])\n",
      "0004\n",
      "Starting Training\n",
      "epoch: 00, loss: -0.02477\n",
      "epoch: 01, loss: -0.05585\n",
      "epoch: 02, loss: -0.06741\n",
      "epoch: 03, loss: -0.06654\n",
      "epoch: 04, loss: -0.06662\n",
      "epoch: 05, loss: -0.06763\n",
      "epoch: 06, loss: -0.06843\n",
      "epoch: 07, loss: -0.07024\n",
      "epoch: 08, loss: -0.06913\n",
      "epoch: 09, loss: -0.07181\n",
      "torch.Size([400, 64])\n"
     ]
    },
    {
     "name": "stderr",
     "output_type": "stream",
     "text": [
      "\r",
      "  0%|▋                                                                                                                                                                  | 4/1000 [01:38<6:26:37, 23.29s/it]"
     ]
    },
    {
     "name": "stdout",
     "output_type": "stream",
     "text": [
      "eigenvalues shape torch.Size([5]) eigenvectors shape torch.Size([5, 400])\n",
      "4 /home/phdcs2/Hard_Disk/Datasets/Deep-Spectral-Segmentation/data/object-segmentation/ECSSD/features/dino_vits16/0005.pth\n",
      "dict_keys(['k', 'indices', 'file', 'id', 'model_name', 'patch_size', 'shape'])\n",
      "0005\n",
      "Starting Training\n",
      "epoch: 00, loss: -0.05373\n",
      "epoch: 01, loss: -0.08255\n",
      "epoch: 02, loss: -0.08969\n",
      "epoch: 03, loss: -0.08690\n",
      "epoch: 04, loss: -0.09122\n",
      "epoch: 05, loss: -0.09060\n",
      "epoch: 06, loss: -0.08998\n",
      "epoch: 07, loss: -0.08881\n",
      "epoch: 08, loss: -0.09188\n",
      "epoch: 09, loss: -0.09115\n",
      "torch.Size([400, 64])\n"
     ]
    },
    {
     "name": "stderr",
     "output_type": "stream",
     "text": [
      "\r",
      "  0%|▊                                                                                                                                                                  | 5/1000 [02:01<6:27:03, 23.34s/it]"
     ]
    },
    {
     "name": "stdout",
     "output_type": "stream",
     "text": [
      "eigenvalues shape torch.Size([5]) eigenvectors shape torch.Size([5, 400])\n",
      "5 /home/phdcs2/Hard_Disk/Datasets/Deep-Spectral-Segmentation/data/object-segmentation/ECSSD/features/dino_vits16/0006.pth\n",
      "dict_keys(['k', 'indices', 'file', 'id', 'model_name', 'patch_size', 'shape'])\n",
      "0006\n",
      "Starting Training\n",
      "epoch: 00, loss: -0.22487\n",
      "epoch: 01, loss: -0.27140\n",
      "epoch: 02, loss: -0.28187\n",
      "epoch: 03, loss: -0.27965\n",
      "epoch: 04, loss: -0.28290\n",
      "epoch: 05, loss: -0.28219\n",
      "epoch: 06, loss: -0.28763\n",
      "epoch: 07, loss: -0.28800\n",
      "epoch: 08, loss: -0.29306\n",
      "epoch: 09, loss: -0.29476\n",
      "torch.Size([400, 64])\n"
     ]
    },
    {
     "name": "stderr",
     "output_type": "stream",
     "text": [
      "\r",
      "  1%|▉                                                                                                                                                                  | 6/1000 [02:23<6:19:44, 22.92s/it]"
     ]
    },
    {
     "name": "stdout",
     "output_type": "stream",
     "text": [
      "eigenvalues shape torch.Size([5]) eigenvectors shape torch.Size([5, 400])\n",
      "6 /home/phdcs2/Hard_Disk/Datasets/Deep-Spectral-Segmentation/data/object-segmentation/ECSSD/features/dino_vits16/0007.pth\n",
      "dict_keys(['k', 'indices', 'file', 'id', 'model_name', 'patch_size', 'shape'])\n",
      "0007\n",
      "Starting Training\n",
      "epoch: 00, loss: -0.03557\n",
      "epoch: 01, loss: -0.06774\n",
      "epoch: 02, loss: -0.06993\n",
      "epoch: 03, loss: -0.07632\n",
      "epoch: 04, loss: -0.07672\n",
      "epoch: 05, loss: -0.07254\n",
      "epoch: 06, loss: -0.07585\n",
      "epoch: 07, loss: -0.07582\n",
      "epoch: 08, loss: -0.07799\n",
      "epoch: 09, loss: -0.07769\n",
      "torch.Size([400, 64])\n"
     ]
    },
    {
     "name": "stderr",
     "output_type": "stream",
     "text": [
      "\r",
      "  1%|█▏                                                                                                                                                                 | 7/1000 [02:45<6:13:24, 22.56s/it]"
     ]
    },
    {
     "name": "stdout",
     "output_type": "stream",
     "text": [
      "eigenvalues shape torch.Size([5]) eigenvectors shape torch.Size([5, 400])\n",
      "7 /home/phdcs2/Hard_Disk/Datasets/Deep-Spectral-Segmentation/data/object-segmentation/ECSSD/features/dino_vits16/0008.pth\n",
      "dict_keys(['k', 'indices', 'file', 'id', 'model_name', 'patch_size', 'shape'])\n",
      "0008\n",
      "Starting Training\n",
      "epoch: 00, loss: 0.00044\n",
      "epoch: 01, loss: -0.01191\n",
      "epoch: 02, loss: -0.01692\n",
      "epoch: 03, loss: -0.01892\n",
      "epoch: 04, loss: -0.02021\n",
      "epoch: 05, loss: -0.02080\n",
      "epoch: 06, loss: -0.02120\n",
      "epoch: 07, loss: -0.02164\n",
      "epoch: 08, loss: -0.02174\n",
      "epoch: 09, loss: -0.02194\n",
      "torch.Size([400, 64])\n"
     ]
    },
    {
     "name": "stderr",
     "output_type": "stream",
     "text": [
      "\r",
      "  1%|█▎                                                                                                                                                                 | 8/1000 [03:09<6:22:01, 23.11s/it]"
     ]
    },
    {
     "name": "stdout",
     "output_type": "stream",
     "text": [
      "eigenvalues shape torch.Size([5]) eigenvectors shape torch.Size([5, 400])\n",
      "8 /home/phdcs2/Hard_Disk/Datasets/Deep-Spectral-Segmentation/data/object-segmentation/ECSSD/features/dino_vits16/0009.pth\n",
      "dict_keys(['k', 'indices', 'file', 'id', 'model_name', 'patch_size', 'shape'])\n",
      "0009\n",
      "Starting Training\n",
      "epoch: 00, loss: -0.05759\n",
      "epoch: 01, loss: -0.09285\n",
      "epoch: 02, loss: -0.09395\n",
      "epoch: 03, loss: -0.09685\n",
      "epoch: 04, loss: -0.09489\n",
      "epoch: 05, loss: -0.09869\n",
      "epoch: 06, loss: -0.10088\n",
      "epoch: 07, loss: -0.10019\n",
      "epoch: 08, loss: -0.10052\n",
      "epoch: 09, loss: -0.09717\n",
      "torch.Size([400, 64])\n"
     ]
    },
    {
     "name": "stderr",
     "output_type": "stream",
     "text": [
      "\r",
      "  1%|█▍                                                                                                                                                                 | 9/1000 [03:31<6:12:44, 22.57s/it]"
     ]
    },
    {
     "name": "stdout",
     "output_type": "stream",
     "text": [
      "eigenvalues shape torch.Size([5]) eigenvectors shape torch.Size([5, 400])\n",
      "9 /home/phdcs2/Hard_Disk/Datasets/Deep-Spectral-Segmentation/data/object-segmentation/ECSSD/features/dino_vits16/0010.pth\n",
      "dict_keys(['k', 'indices', 'file', 'id', 'model_name', 'patch_size', 'shape'])\n",
      "0010\n",
      "Starting Training\n",
      "epoch: 00, loss: -0.00251\n",
      "epoch: 01, loss: -0.01975\n",
      "epoch: 02, loss: -0.02430\n",
      "epoch: 03, loss: -0.02608\n",
      "epoch: 04, loss: -0.02676\n",
      "epoch: 05, loss: -0.02686\n",
      "epoch: 06, loss: -0.02720\n",
      "epoch: 07, loss: -0.02731\n",
      "epoch: 08, loss: -0.02749\n",
      "epoch: 09, loss: -0.02757\n",
      "torch.Size([400, 64])\n"
     ]
    },
    {
     "name": "stderr",
     "output_type": "stream",
     "text": [
      "\r",
      "  1%|█▌                                                                                                                                                                | 10/1000 [03:54<6:17:47, 22.90s/it]"
     ]
    },
    {
     "name": "stdout",
     "output_type": "stream",
     "text": [
      "eigenvalues shape torch.Size([5]) eigenvectors shape torch.Size([5, 400])\n",
      "10 /home/phdcs2/Hard_Disk/Datasets/Deep-Spectral-Segmentation/data/object-segmentation/ECSSD/features/dino_vits16/0011.pth\n",
      "dict_keys(['k', 'indices', 'file', 'id', 'model_name', 'patch_size', 'shape'])\n",
      "0011\n",
      "Starting Training\n",
      "epoch: 00, loss: -0.03164\n",
      "epoch: 01, loss: -0.05660\n",
      "epoch: 02, loss: -0.05847\n",
      "epoch: 03, loss: -0.05884\n",
      "epoch: 04, loss: -0.05915\n",
      "epoch: 05, loss: -0.05938\n",
      "epoch: 06, loss: -0.05948\n",
      "epoch: 07, loss: -0.05967\n",
      "epoch: 08, loss: -0.05983\n",
      "epoch: 09, loss: -0.05995\n",
      "torch.Size([400, 64])\n"
     ]
    },
    {
     "name": "stderr",
     "output_type": "stream",
     "text": [
      "\r",
      "  1%|█▊                                                                                                                                                                | 11/1000 [04:24<6:50:23, 24.90s/it]"
     ]
    },
    {
     "name": "stdout",
     "output_type": "stream",
     "text": [
      "eigenvalues shape torch.Size([5]) eigenvectors shape torch.Size([5, 400])\n",
      "11 /home/phdcs2/Hard_Disk/Datasets/Deep-Spectral-Segmentation/data/object-segmentation/ECSSD/features/dino_vits16/0012.pth\n",
      "dict_keys(['k', 'indices', 'file', 'id', 'model_name', 'patch_size', 'shape'])\n",
      "0012\n",
      "Starting Training\n",
      "epoch: 00, loss: -0.03515\n",
      "epoch: 01, loss: -0.06021\n",
      "epoch: 02, loss: -0.06389\n",
      "epoch: 03, loss: -0.06486\n",
      "epoch: 04, loss: -0.06767\n",
      "epoch: 05, loss: -0.06894\n",
      "epoch: 06, loss: -0.06929\n",
      "epoch: 07, loss: -0.06636\n",
      "epoch: 08, loss: -0.06865\n",
      "epoch: 09, loss: -0.06919\n",
      "torch.Size([400, 64])\n"
     ]
    },
    {
     "name": "stderr",
     "output_type": "stream",
     "text": [
      "\r",
      "  1%|█▉                                                                                                                                                                | 12/1000 [04:48<6:48:28, 24.81s/it]"
     ]
    },
    {
     "name": "stdout",
     "output_type": "stream",
     "text": [
      "eigenvalues shape torch.Size([5]) eigenvectors shape torch.Size([5, 400])\n",
      "12 /home/phdcs2/Hard_Disk/Datasets/Deep-Spectral-Segmentation/data/object-segmentation/ECSSD/features/dino_vits16/0013.pth\n",
      "dict_keys(['k', 'indices', 'file', 'id', 'model_name', 'patch_size', 'shape'])\n",
      "0013\n",
      "Starting Training\n",
      "epoch: 00, loss: -0.01248\n",
      "epoch: 01, loss: -0.02719\n",
      "epoch: 02, loss: -0.03033\n",
      "epoch: 03, loss: -0.03139\n",
      "epoch: 04, loss: -0.03185\n",
      "epoch: 05, loss: -0.03224\n",
      "epoch: 06, loss: -0.03231\n",
      "epoch: 07, loss: -0.03259\n",
      "epoch: 08, loss: -0.03269\n",
      "epoch: 09, loss: -0.03285\n",
      "torch.Size([400, 64])\n"
     ]
    },
    {
     "name": "stderr",
     "output_type": "stream",
     "text": [
      "\r",
      "  1%|██                                                                                                                                                                | 13/1000 [05:12<6:39:41, 24.30s/it]"
     ]
    },
    {
     "name": "stdout",
     "output_type": "stream",
     "text": [
      "eigenvalues shape torch.Size([5]) eigenvectors shape torch.Size([5, 400])\n",
      "13 /home/phdcs2/Hard_Disk/Datasets/Deep-Spectral-Segmentation/data/object-segmentation/ECSSD/features/dino_vits16/0014.pth\n",
      "dict_keys(['k', 'indices', 'file', 'id', 'model_name', 'patch_size', 'shape'])\n",
      "0014\n",
      "Starting Training\n",
      "epoch: 00, loss: 0.00526\n",
      "epoch: 01, loss: -0.00317\n",
      "epoch: 02, loss: -0.00725\n",
      "epoch: 03, loss: -0.00974\n",
      "epoch: 04, loss: -0.01124\n",
      "epoch: 05, loss: -0.01208\n",
      "epoch: 06, loss: -0.01284\n",
      "epoch: 07, loss: -0.01318\n",
      "epoch: 08, loss: -0.01349\n",
      "epoch: 09, loss: -0.01363\n",
      "torch.Size([400, 64])\n"
     ]
    },
    {
     "name": "stderr",
     "output_type": "stream",
     "text": [
      "\r",
      "  1%|██▎                                                                                                                                                               | 14/1000 [05:33<6:25:03, 23.43s/it]"
     ]
    },
    {
     "name": "stdout",
     "output_type": "stream",
     "text": [
      "eigenvalues shape torch.Size([5]) eigenvectors shape torch.Size([5, 400])\n",
      "14 /home/phdcs2/Hard_Disk/Datasets/Deep-Spectral-Segmentation/data/object-segmentation/ECSSD/features/dino_vits16/0015.pth\n",
      "dict_keys(['k', 'indices', 'file', 'id', 'model_name', 'patch_size', 'shape'])\n",
      "0015\n",
      "Starting Training\n",
      "epoch: 00, loss: -0.04049\n",
      "epoch: 01, loss: -0.07418\n",
      "epoch: 02, loss: -0.07802\n",
      "epoch: 03, loss: -0.07744\n",
      "epoch: 04, loss: -0.07896\n",
      "epoch: 05, loss: -0.08530\n",
      "epoch: 06, loss: -0.08049\n",
      "epoch: 07, loss: -0.08328\n",
      "epoch: 08, loss: -0.08229\n",
      "epoch: 09, loss: -0.08437\n",
      "torch.Size([400, 64])\n"
     ]
    },
    {
     "name": "stderr",
     "output_type": "stream",
     "text": [
      "\r",
      "  2%|██▍                                                                                                                                                               | 15/1000 [05:54<6:11:27, 22.63s/it]"
     ]
    },
    {
     "name": "stdout",
     "output_type": "stream",
     "text": [
      "eigenvalues shape torch.Size([5]) eigenvectors shape torch.Size([5, 400])\n",
      "15 /home/phdcs2/Hard_Disk/Datasets/Deep-Spectral-Segmentation/data/object-segmentation/ECSSD/features/dino_vits16/0016.pth\n",
      "dict_keys(['k', 'indices', 'file', 'id', 'model_name', 'patch_size', 'shape'])\n",
      "0016\n",
      "Starting Training\n",
      "epoch: 00, loss: -0.00624\n",
      "epoch: 01, loss: -0.02032\n",
      "epoch: 02, loss: -0.02465\n",
      "epoch: 03, loss: -0.02600\n",
      "epoch: 04, loss: -0.02665\n",
      "epoch: 05, loss: -0.02674\n",
      "epoch: 06, loss: -0.02716\n",
      "epoch: 07, loss: -0.02704\n",
      "epoch: 08, loss: -0.02760\n",
      "epoch: 09, loss: -0.02783\n",
      "torch.Size([400, 64])\n"
     ]
    },
    {
     "name": "stderr",
     "output_type": "stream",
     "text": [
      "\r",
      "  2%|██▌                                                                                                                                                               | 16/1000 [06:18<6:17:04, 22.99s/it]"
     ]
    },
    {
     "name": "stdout",
     "output_type": "stream",
     "text": [
      "eigenvalues shape torch.Size([5]) eigenvectors shape torch.Size([5, 400])\n",
      "16 /home/phdcs2/Hard_Disk/Datasets/Deep-Spectral-Segmentation/data/object-segmentation/ECSSD/features/dino_vits16/0017.pth\n",
      "dict_keys(['k', 'indices', 'file', 'id', 'model_name', 'patch_size', 'shape'])\n",
      "0017\n",
      "Starting Training\n",
      "epoch: 00, loss: -0.01527\n",
      "epoch: 01, loss: -0.03072\n",
      "epoch: 02, loss: -0.03411\n",
      "epoch: 03, loss: -0.03512\n",
      "epoch: 04, loss: -0.03591\n",
      "epoch: 05, loss: -0.03612\n",
      "epoch: 06, loss: -0.03620\n",
      "epoch: 07, loss: -0.03661\n",
      "epoch: 08, loss: -0.03661\n",
      "epoch: 09, loss: -0.03662\n",
      "torch.Size([400, 64])\n"
     ]
    },
    {
     "name": "stderr",
     "output_type": "stream",
     "text": [
      "\r",
      "  2%|██▊                                                                                                                                                               | 17/1000 [06:43<6:29:36, 23.78s/it]"
     ]
    },
    {
     "name": "stdout",
     "output_type": "stream",
     "text": [
      "eigenvalues shape torch.Size([5]) eigenvectors shape torch.Size([5, 400])\n",
      "17 /home/phdcs2/Hard_Disk/Datasets/Deep-Spectral-Segmentation/data/object-segmentation/ECSSD/features/dino_vits16/0018.pth\n",
      "dict_keys(['k', 'indices', 'file', 'id', 'model_name', 'patch_size', 'shape'])\n",
      "0018\n",
      "Starting Training\n",
      "epoch: 00, loss: -0.05566\n",
      "epoch: 01, loss: -0.07154\n",
      "epoch: 02, loss: -0.07256\n",
      "epoch: 03, loss: -0.07338\n",
      "epoch: 04, loss: -0.07280\n",
      "epoch: 05, loss: -0.07359\n",
      "epoch: 06, loss: -0.07404\n",
      "epoch: 07, loss: -0.07402\n",
      "epoch: 08, loss: -0.07411\n",
      "epoch: 09, loss: -0.07410\n",
      "torch.Size([400, 64])\n"
     ]
    },
    {
     "name": "stderr",
     "output_type": "stream",
     "text": [
      "\r",
      "  2%|██▉                                                                                                                                                               | 18/1000 [07:07<6:29:20, 23.79s/it]"
     ]
    },
    {
     "name": "stdout",
     "output_type": "stream",
     "text": [
      "eigenvalues shape torch.Size([5]) eigenvectors shape torch.Size([5, 400])\n",
      "18 /home/phdcs2/Hard_Disk/Datasets/Deep-Spectral-Segmentation/data/object-segmentation/ECSSD/features/dino_vits16/0019.pth\n",
      "dict_keys(['k', 'indices', 'file', 'id', 'model_name', 'patch_size', 'shape'])\n",
      "0019\n",
      "Starting Training\n",
      "epoch: 00, loss: -0.03379\n",
      "epoch: 01, loss: -0.07205\n",
      "epoch: 02, loss: -0.07821\n",
      "epoch: 03, loss: -0.07775\n",
      "epoch: 04, loss: -0.08054\n",
      "epoch: 05, loss: -0.08191\n",
      "epoch: 06, loss: -0.08212\n",
      "epoch: 07, loss: -0.08143\n",
      "epoch: 08, loss: -0.08045\n",
      "epoch: 09, loss: -0.08441\n",
      "torch.Size([400, 64])\n"
     ]
    },
    {
     "name": "stderr",
     "output_type": "stream",
     "text": [
      "\r",
      "  2%|███                                                                                                                                                               | 19/1000 [07:36<6:52:18, 25.22s/it]"
     ]
    },
    {
     "name": "stdout",
     "output_type": "stream",
     "text": [
      "eigenvalues shape torch.Size([5]) eigenvectors shape torch.Size([5, 400])\n",
      "19 /home/phdcs2/Hard_Disk/Datasets/Deep-Spectral-Segmentation/data/object-segmentation/ECSSD/features/dino_vits16/0020.pth\n",
      "dict_keys(['k', 'indices', 'file', 'id', 'model_name', 'patch_size', 'shape'])\n",
      "0020\n",
      "Starting Training\n",
      "epoch: 00, loss: -0.08034\n",
      "epoch: 01, loss: -0.12760\n",
      "epoch: 02, loss: -0.13062\n",
      "epoch: 03, loss: -0.13417\n",
      "epoch: 04, loss: -0.13487\n",
      "epoch: 05, loss: -0.13736\n",
      "epoch: 06, loss: -0.13683\n",
      "epoch: 07, loss: -0.13355\n",
      "epoch: 08, loss: -0.13610\n",
      "epoch: 09, loss: -0.13612\n",
      "torch.Size([400, 64])\n"
     ]
    },
    {
     "name": "stderr",
     "output_type": "stream",
     "text": [
      "\r",
      "  2%|███▏                                                                                                                                                              | 20/1000 [08:02<6:59:16, 25.67s/it]"
     ]
    },
    {
     "name": "stdout",
     "output_type": "stream",
     "text": [
      "eigenvalues shape torch.Size([5]) eigenvectors shape torch.Size([5, 400])\n",
      "20 /home/phdcs2/Hard_Disk/Datasets/Deep-Spectral-Segmentation/data/object-segmentation/ECSSD/features/dino_vits16/0021.pth\n",
      "dict_keys(['k', 'indices', 'file', 'id', 'model_name', 'patch_size', 'shape'])\n",
      "0021\n",
      "Starting Training\n",
      "epoch: 00, loss: -0.13301\n",
      "epoch: 01, loss: -0.16455\n",
      "epoch: 02, loss: -0.16812\n",
      "epoch: 03, loss: -0.16910\n",
      "epoch: 04, loss: -0.17043\n",
      "epoch: 05, loss: -0.17138\n",
      "epoch: 06, loss: -0.17054\n",
      "epoch: 07, loss: -0.17267\n",
      "epoch: 08, loss: -0.17144\n",
      "epoch: 09, loss: -0.17355\n",
      "torch.Size([400, 64])\n"
     ]
    },
    {
     "name": "stderr",
     "output_type": "stream",
     "text": [
      "\r",
      "  2%|███▍                                                                                                                                                              | 21/1000 [08:33<7:24:45, 27.26s/it]"
     ]
    },
    {
     "name": "stdout",
     "output_type": "stream",
     "text": [
      "eigenvalues shape torch.Size([5]) eigenvectors shape torch.Size([5, 400])\n",
      "21 /home/phdcs2/Hard_Disk/Datasets/Deep-Spectral-Segmentation/data/object-segmentation/ECSSD/features/dino_vits16/0022.pth\n",
      "dict_keys(['k', 'indices', 'file', 'id', 'model_name', 'patch_size', 'shape'])\n",
      "0022\n",
      "Starting Training\n",
      "epoch: 00, loss: -0.02964\n",
      "epoch: 01, loss: -0.04731\n",
      "epoch: 02, loss: -0.04918\n",
      "epoch: 03, loss: -0.04956\n",
      "epoch: 04, loss: -0.04991\n",
      "epoch: 05, loss: -0.05025\n",
      "epoch: 06, loss: -0.05036\n",
      "epoch: 07, loss: -0.05058\n",
      "epoch: 08, loss: -0.05069\n",
      "epoch: 09, loss: -0.05072\n",
      "torch.Size([400, 64])\n"
     ]
    },
    {
     "name": "stderr",
     "output_type": "stream",
     "text": [
      "\r",
      "  2%|███▌                                                                                                                                                              | 22/1000 [09:00<7:23:27, 27.21s/it]"
     ]
    },
    {
     "name": "stdout",
     "output_type": "stream",
     "text": [
      "eigenvalues shape torch.Size([5]) eigenvectors shape torch.Size([5, 400])\n",
      "22 /home/phdcs2/Hard_Disk/Datasets/Deep-Spectral-Segmentation/data/object-segmentation/ECSSD/features/dino_vits16/0023.pth\n",
      "dict_keys(['k', 'indices', 'file', 'id', 'model_name', 'patch_size', 'shape'])\n",
      "0023\n",
      "Starting Training\n",
      "epoch: 00, loss: -0.03204\n",
      "epoch: 01, loss: -0.05055\n",
      "epoch: 02, loss: -0.05182\n",
      "epoch: 03, loss: -0.05205\n",
      "epoch: 04, loss: -0.05284\n",
      "epoch: 05, loss: -0.05283\n",
      "epoch: 06, loss: -0.05308\n",
      "epoch: 07, loss: -0.05305\n",
      "epoch: 08, loss: -0.05324\n",
      "epoch: 09, loss: -0.05348\n",
      "torch.Size([400, 64])\n"
     ]
    },
    {
     "name": "stderr",
     "output_type": "stream",
     "text": [
      "\r",
      "  2%|███▋                                                                                                                                                              | 23/1000 [09:27<7:21:54, 27.14s/it]"
     ]
    },
    {
     "name": "stdout",
     "output_type": "stream",
     "text": [
      "eigenvalues shape torch.Size([5]) eigenvectors shape torch.Size([5, 400])\n",
      "23 /home/phdcs2/Hard_Disk/Datasets/Deep-Spectral-Segmentation/data/object-segmentation/ECSSD/features/dino_vits16/0024.pth\n",
      "dict_keys(['k', 'indices', 'file', 'id', 'model_name', 'patch_size', 'shape'])\n",
      "0024\n",
      "Starting Training\n",
      "epoch: 00, loss: -0.02551\n",
      "epoch: 01, loss: -0.05305\n",
      "epoch: 02, loss: -0.05717\n",
      "epoch: 03, loss: -0.06065\n",
      "epoch: 04, loss: -0.06032\n",
      "epoch: 05, loss: -0.06253\n",
      "epoch: 06, loss: -0.06243\n",
      "epoch: 07, loss: -0.06216\n",
      "epoch: 08, loss: -0.06236\n",
      "epoch: 09, loss: -0.06311\n",
      "torch.Size([400, 64])\n"
     ]
    },
    {
     "name": "stderr",
     "output_type": "stream",
     "text": [
      "\r",
      "  2%|███▉                                                                                                                                                              | 24/1000 [09:55<7:22:21, 27.19s/it]"
     ]
    },
    {
     "name": "stdout",
     "output_type": "stream",
     "text": [
      "eigenvalues shape torch.Size([5]) eigenvectors shape torch.Size([5, 400])\n",
      "24 /home/phdcs2/Hard_Disk/Datasets/Deep-Spectral-Segmentation/data/object-segmentation/ECSSD/features/dino_vits16/0025.pth\n",
      "dict_keys(['k', 'indices', 'file', 'id', 'model_name', 'patch_size', 'shape'])\n",
      "0025\n",
      "Starting Training\n",
      "epoch: 00, loss: -0.05525\n",
      "epoch: 01, loss: -0.08285\n",
      "epoch: 02, loss: -0.08506\n",
      "epoch: 03, loss: -0.08764\n",
      "epoch: 04, loss: -0.08975\n",
      "epoch: 05, loss: -0.08859\n",
      "epoch: 06, loss: -0.08921\n",
      "epoch: 07, loss: -0.09044\n",
      "epoch: 08, loss: -0.09035\n",
      "epoch: 09, loss: -0.08979\n",
      "torch.Size([400, 64])\n"
     ]
    },
    {
     "name": "stderr",
     "output_type": "stream",
     "text": [
      "\r",
      "  2%|████                                                                                                                                                              | 25/1000 [10:17<6:58:45, 25.77s/it]"
     ]
    },
    {
     "name": "stdout",
     "output_type": "stream",
     "text": [
      "eigenvalues shape torch.Size([5]) eigenvectors shape torch.Size([5, 400])\n",
      "25 /home/phdcs2/Hard_Disk/Datasets/Deep-Spectral-Segmentation/data/object-segmentation/ECSSD/features/dino_vits16/0026.pth\n",
      "dict_keys(['k', 'indices', 'file', 'id', 'model_name', 'patch_size', 'shape'])\n",
      "0026\n",
      "Starting Training\n",
      "epoch: 00, loss: -0.05499\n",
      "epoch: 01, loss: -0.09161\n",
      "epoch: 02, loss: -0.09755\n",
      "epoch: 03, loss: -0.10025\n",
      "epoch: 04, loss: -0.10018\n",
      "epoch: 05, loss: -0.10237\n",
      "epoch: 06, loss: -0.10047\n",
      "epoch: 07, loss: -0.10363\n",
      "epoch: 08, loss: -0.10493\n",
      "epoch: 09, loss: -0.10360\n",
      "torch.Size([400, 64])\n"
     ]
    },
    {
     "name": "stderr",
     "output_type": "stream",
     "text": [
      "\r",
      "  3%|████▏                                                                                                                                                             | 26/1000 [10:42<6:53:37, 25.48s/it]"
     ]
    },
    {
     "name": "stdout",
     "output_type": "stream",
     "text": [
      "eigenvalues shape torch.Size([5]) eigenvectors shape torch.Size([5, 400])\n",
      "26 /home/phdcs2/Hard_Disk/Datasets/Deep-Spectral-Segmentation/data/object-segmentation/ECSSD/features/dino_vits16/0027.pth\n",
      "dict_keys(['k', 'indices', 'file', 'id', 'model_name', 'patch_size', 'shape'])\n",
      "0027\n",
      "Starting Training\n",
      "epoch: 00, loss: -0.01388\n",
      "epoch: 01, loss: -0.03842\n",
      "epoch: 02, loss: -0.04150\n",
      "epoch: 03, loss: -0.04242\n",
      "epoch: 04, loss: -0.04269\n",
      "epoch: 05, loss: -0.04310\n",
      "epoch: 06, loss: -0.04352\n",
      "epoch: 07, loss: -0.04346\n",
      "epoch: 08, loss: -0.04372\n",
      "epoch: 09, loss: -0.04375\n",
      "torch.Size([400, 64])\n"
     ]
    },
    {
     "name": "stderr",
     "output_type": "stream",
     "text": [
      "\r",
      "  3%|████▎                                                                                                                                                             | 27/1000 [11:09<7:02:57, 26.08s/it]"
     ]
    },
    {
     "name": "stdout",
     "output_type": "stream",
     "text": [
      "eigenvalues shape torch.Size([5]) eigenvectors shape torch.Size([5, 400])\n",
      "27 /home/phdcs2/Hard_Disk/Datasets/Deep-Spectral-Segmentation/data/object-segmentation/ECSSD/features/dino_vits16/0028.pth\n",
      "dict_keys(['k', 'indices', 'file', 'id', 'model_name', 'patch_size', 'shape'])\n",
      "0028\n",
      "Starting Training\n",
      "epoch: 00, loss: -0.03151\n",
      "epoch: 01, loss: -0.05926\n",
      "epoch: 02, loss: -0.06432\n",
      "epoch: 03, loss: -0.06575\n",
      "epoch: 04, loss: -0.06507\n",
      "epoch: 05, loss: -0.06520\n",
      "epoch: 06, loss: -0.06616\n",
      "epoch: 07, loss: -0.06558\n",
      "epoch: 08, loss: -0.06584\n",
      "epoch: 09, loss: -0.06725\n",
      "torch.Size([400, 64])\n"
     ]
    },
    {
     "name": "stderr",
     "output_type": "stream",
     "text": [
      "\r",
      "  3%|████▌                                                                                                                                                             | 28/1000 [11:36<7:03:03, 26.11s/it]"
     ]
    },
    {
     "name": "stdout",
     "output_type": "stream",
     "text": [
      "eigenvalues shape torch.Size([5]) eigenvectors shape torch.Size([5, 400])\n",
      "28 /home/phdcs2/Hard_Disk/Datasets/Deep-Spectral-Segmentation/data/object-segmentation/ECSSD/features/dino_vits16/0029.pth\n",
      "dict_keys(['k', 'indices', 'file', 'id', 'model_name', 'patch_size', 'shape'])\n",
      "0029\n",
      "Starting Training\n",
      "epoch: 00, loss: -0.00761\n",
      "epoch: 01, loss: -0.02819\n",
      "epoch: 02, loss: -0.03230\n",
      "epoch: 03, loss: -0.03406\n",
      "epoch: 04, loss: -0.03445\n",
      "epoch: 05, loss: -0.03533\n",
      "epoch: 06, loss: -0.03546\n",
      "epoch: 07, loss: -0.03541\n",
      "epoch: 08, loss: -0.03563\n",
      "epoch: 09, loss: -0.03619\n",
      "torch.Size([400, 64])\n"
     ]
    },
    {
     "name": "stderr",
     "output_type": "stream",
     "text": [
      "\r",
      "  3%|████▋                                                                                                                                                             | 29/1000 [12:02<7:05:22, 26.28s/it]"
     ]
    },
    {
     "name": "stdout",
     "output_type": "stream",
     "text": [
      "eigenvalues shape torch.Size([5]) eigenvectors shape torch.Size([5, 400])\n",
      "29 /home/phdcs2/Hard_Disk/Datasets/Deep-Spectral-Segmentation/data/object-segmentation/ECSSD/features/dino_vits16/0030.pth\n",
      "dict_keys(['k', 'indices', 'file', 'id', 'model_name', 'patch_size', 'shape'])\n",
      "0030\n",
      "Starting Training\n",
      "epoch: 00, loss: -0.02426\n",
      "epoch: 01, loss: -0.05239\n",
      "epoch: 02, loss: -0.05461\n",
      "epoch: 03, loss: -0.05544\n",
      "epoch: 04, loss: -0.05528\n",
      "epoch: 05, loss: -0.05570\n",
      "epoch: 06, loss: -0.05581\n",
      "epoch: 07, loss: -0.05610\n",
      "epoch: 08, loss: -0.05611\n",
      "epoch: 09, loss: -0.05635\n",
      "torch.Size([400, 64])\n"
     ]
    },
    {
     "name": "stderr",
     "output_type": "stream",
     "text": [
      "\r",
      "  3%|████▊                                                                                                                                                             | 30/1000 [12:26<6:51:05, 25.43s/it]"
     ]
    },
    {
     "name": "stdout",
     "output_type": "stream",
     "text": [
      "eigenvalues shape torch.Size([5]) eigenvectors shape torch.Size([5, 400])\n",
      "30 /home/phdcs2/Hard_Disk/Datasets/Deep-Spectral-Segmentation/data/object-segmentation/ECSSD/features/dino_vits16/0031.pth\n",
      "dict_keys(['k', 'indices', 'file', 'id', 'model_name', 'patch_size', 'shape'])\n",
      "0031\n",
      "Starting Training\n",
      "epoch: 00, loss: -0.07802\n",
      "epoch: 01, loss: -0.11232\n",
      "epoch: 02, loss: -0.12126\n",
      "epoch: 03, loss: -0.11756\n",
      "epoch: 04, loss: -0.12146\n",
      "epoch: 05, loss: -0.12190\n",
      "epoch: 06, loss: -0.12234\n",
      "epoch: 07, loss: -0.12293\n",
      "epoch: 08, loss: -0.12354\n",
      "epoch: 09, loss: -0.12415\n",
      "torch.Size([400, 64])\n"
     ]
    },
    {
     "name": "stderr",
     "output_type": "stream",
     "text": [
      "\r",
      "  3%|█████                                                                                                                                                             | 31/1000 [12:52<6:55:36, 25.73s/it]"
     ]
    },
    {
     "name": "stdout",
     "output_type": "stream",
     "text": [
      "eigenvalues shape torch.Size([5]) eigenvectors shape torch.Size([5, 400])\n",
      "31 /home/phdcs2/Hard_Disk/Datasets/Deep-Spectral-Segmentation/data/object-segmentation/ECSSD/features/dino_vits16/0032.pth\n",
      "dict_keys(['k', 'indices', 'file', 'id', 'model_name', 'patch_size', 'shape'])\n",
      "0032\n",
      "Starting Training\n",
      "epoch: 00, loss: -0.02143\n",
      "epoch: 01, loss: -0.04443\n",
      "epoch: 02, loss: -0.04661\n",
      "epoch: 03, loss: -0.04722\n",
      "epoch: 04, loss: -0.04736\n",
      "epoch: 05, loss: -0.04772\n",
      "epoch: 06, loss: -0.04784\n",
      "epoch: 07, loss: -0.04808\n",
      "epoch: 08, loss: -0.04817\n",
      "epoch: 09, loss: -0.04833\n",
      "torch.Size([400, 64])\n"
     ]
    },
    {
     "name": "stderr",
     "output_type": "stream",
     "text": [
      "\r",
      "  3%|█████▏                                                                                                                                                            | 32/1000 [13:15<6:42:20, 24.94s/it]"
     ]
    },
    {
     "name": "stdout",
     "output_type": "stream",
     "text": [
      "eigenvalues shape torch.Size([5]) eigenvectors shape torch.Size([5, 400])\n",
      "32 /home/phdcs2/Hard_Disk/Datasets/Deep-Spectral-Segmentation/data/object-segmentation/ECSSD/features/dino_vits16/0033.pth\n",
      "dict_keys(['k', 'indices', 'file', 'id', 'model_name', 'patch_size', 'shape'])\n",
      "0033\n",
      "Starting Training\n",
      "epoch: 00, loss: -0.00264\n",
      "epoch: 01, loss: -0.03071\n",
      "epoch: 02, loss: -0.03898\n",
      "epoch: 03, loss: -0.04174\n",
      "epoch: 04, loss: -0.04266\n",
      "epoch: 05, loss: -0.04246\n",
      "epoch: 06, loss: -0.04109\n",
      "epoch: 07, loss: -0.04194\n",
      "epoch: 08, loss: -0.04474\n",
      "epoch: 09, loss: -0.04469\n",
      "torch.Size([400, 64])\n"
     ]
    },
    {
     "name": "stderr",
     "output_type": "stream",
     "text": [
      "\r",
      "  3%|█████▎                                                                                                                                                            | 33/1000 [13:38<6:31:20, 24.28s/it]"
     ]
    },
    {
     "name": "stdout",
     "output_type": "stream",
     "text": [
      "eigenvalues shape torch.Size([5]) eigenvectors shape torch.Size([5, 400])\n",
      "33 /home/phdcs2/Hard_Disk/Datasets/Deep-Spectral-Segmentation/data/object-segmentation/ECSSD/features/dino_vits16/0034.pth\n",
      "dict_keys(['k', 'indices', 'file', 'id', 'model_name', 'patch_size', 'shape'])\n",
      "0034\n",
      "Starting Training\n",
      "epoch: 00, loss: -0.05238\n",
      "epoch: 01, loss: -0.07532\n",
      "epoch: 02, loss: -0.07873\n",
      "epoch: 03, loss: -0.07946\n",
      "epoch: 04, loss: -0.08201\n",
      "epoch: 05, loss: -0.08082\n",
      "epoch: 06, loss: -0.08328\n",
      "epoch: 07, loss: -0.08342\n",
      "epoch: 08, loss: -0.08271\n",
      "epoch: 09, loss: -0.08342\n",
      "torch.Size([400, 64])\n"
     ]
    },
    {
     "name": "stderr",
     "output_type": "stream",
     "text": [
      "\r",
      "  3%|█████▌                                                                                                                                                            | 34/1000 [14:05<6:45:44, 25.20s/it]"
     ]
    },
    {
     "name": "stdout",
     "output_type": "stream",
     "text": [
      "eigenvalues shape torch.Size([5]) eigenvectors shape torch.Size([5, 400])\n",
      "34 /home/phdcs2/Hard_Disk/Datasets/Deep-Spectral-Segmentation/data/object-segmentation/ECSSD/features/dino_vits16/0035.pth\n",
      "dict_keys(['k', 'indices', 'file', 'id', 'model_name', 'patch_size', 'shape'])\n",
      "0035\n",
      "Starting Training\n",
      "epoch: 00, loss: -0.01257\n",
      "epoch: 01, loss: -0.02855\n",
      "epoch: 02, loss: -0.03161\n",
      "epoch: 03, loss: -0.03219\n",
      "epoch: 04, loss: -0.03267\n",
      "epoch: 05, loss: -0.03301\n",
      "epoch: 06, loss: -0.03302\n",
      "epoch: 07, loss: -0.03316\n",
      "epoch: 08, loss: -0.03327\n",
      "epoch: 09, loss: -0.03334\n",
      "torch.Size([400, 64])\n"
     ]
    },
    {
     "name": "stderr",
     "output_type": "stream",
     "text": [
      "\r",
      "  4%|█████▋                                                                                                                                                            | 35/1000 [14:32<6:53:24, 25.70s/it]"
     ]
    },
    {
     "name": "stdout",
     "output_type": "stream",
     "text": [
      "eigenvalues shape torch.Size([5]) eigenvectors shape torch.Size([5, 400])\n",
      "35 /home/phdcs2/Hard_Disk/Datasets/Deep-Spectral-Segmentation/data/object-segmentation/ECSSD/features/dino_vits16/0036.pth\n",
      "dict_keys(['k', 'indices', 'file', 'id', 'model_name', 'patch_size', 'shape'])\n",
      "0036\n",
      "Starting Training\n",
      "epoch: 00, loss: -0.03621\n",
      "epoch: 01, loss: -0.06293\n",
      "epoch: 02, loss: -0.07378\n",
      "epoch: 03, loss: -0.07655\n",
      "epoch: 04, loss: -0.07560\n",
      "epoch: 05, loss: -0.07584\n",
      "epoch: 06, loss: -0.07778\n",
      "epoch: 07, loss: -0.07857\n",
      "epoch: 08, loss: -0.07712\n",
      "epoch: 09, loss: -0.07916\n",
      "torch.Size([450, 64])\n"
     ]
    },
    {
     "name": "stderr",
     "output_type": "stream",
     "text": [
      "\r",
      "  4%|█████▊                                                                                                                                                            | 36/1000 [15:03<7:17:37, 27.24s/it]"
     ]
    },
    {
     "name": "stdout",
     "output_type": "stream",
     "text": [
      "eigenvalues shape torch.Size([5]) eigenvectors shape torch.Size([5, 450])\n",
      "36 /home/phdcs2/Hard_Disk/Datasets/Deep-Spectral-Segmentation/data/object-segmentation/ECSSD/features/dino_vits16/0037.pth\n",
      "dict_keys(['k', 'indices', 'file', 'id', 'model_name', 'patch_size', 'shape'])\n",
      "0037\n",
      "Starting Training\n",
      "epoch: 00, loss: 0.00240\n",
      "epoch: 01, loss: -0.01752\n",
      "epoch: 02, loss: -0.02468\n",
      "epoch: 03, loss: -0.02944\n",
      "epoch: 04, loss: -0.02971\n",
      "epoch: 05, loss: -0.03246\n",
      "epoch: 06, loss: -0.03232\n",
      "epoch: 07, loss: -0.03606\n",
      "epoch: 08, loss: -0.03362\n",
      "epoch: 09, loss: -0.03496\n",
      "torch.Size([450, 64])\n"
     ]
    },
    {
     "name": "stderr",
     "output_type": "stream",
     "text": [
      "\r",
      "  4%|█████▉                                                                                                                                                            | 37/1000 [15:31<7:19:32, 27.39s/it]"
     ]
    },
    {
     "name": "stdout",
     "output_type": "stream",
     "text": [
      "eigenvalues shape torch.Size([5]) eigenvectors shape torch.Size([5, 450])\n",
      "37 /home/phdcs2/Hard_Disk/Datasets/Deep-Spectral-Segmentation/data/object-segmentation/ECSSD/features/dino_vits16/0038.pth\n",
      "dict_keys(['k', 'indices', 'file', 'id', 'model_name', 'patch_size', 'shape'])\n",
      "0038\n",
      "Starting Training\n",
      "epoch: 00, loss: -0.01981\n",
      "epoch: 01, loss: -0.04548\n",
      "epoch: 02, loss: -0.04811\n",
      "epoch: 03, loss: -0.04865\n",
      "epoch: 04, loss: -0.04897\n",
      "epoch: 05, loss: -0.04931\n",
      "epoch: 06, loss: -0.04940\n",
      "epoch: 07, loss: -0.04958\n",
      "epoch: 08, loss: -0.04967\n",
      "epoch: 09, loss: -0.04984\n",
      "torch.Size([400, 64])\n"
     ]
    },
    {
     "name": "stderr",
     "output_type": "stream",
     "text": [
      "\r",
      "  4%|██████▏                                                                                                                                                           | 38/1000 [15:55<7:01:36, 26.30s/it]"
     ]
    },
    {
     "name": "stdout",
     "output_type": "stream",
     "text": [
      "eigenvalues shape torch.Size([5]) eigenvectors shape torch.Size([5, 400])\n",
      "38 /home/phdcs2/Hard_Disk/Datasets/Deep-Spectral-Segmentation/data/object-segmentation/ECSSD/features/dino_vits16/0039.pth\n",
      "dict_keys(['k', 'indices', 'file', 'id', 'model_name', 'patch_size', 'shape'])\n",
      "0039\n",
      "Starting Training\n",
      "epoch: 00, loss: -0.05300\n",
      "epoch: 01, loss: -0.08180\n",
      "epoch: 02, loss: -0.08187\n",
      "epoch: 03, loss: -0.08285\n",
      "epoch: 04, loss: -0.08498\n",
      "epoch: 05, loss: -0.08414\n",
      "epoch: 06, loss: -0.08472\n",
      "epoch: 07, loss: -0.08406\n",
      "epoch: 08, loss: -0.08424\n",
      "epoch: 09, loss: -0.08656\n",
      "torch.Size([400, 64])\n"
     ]
    },
    {
     "name": "stderr",
     "output_type": "stream",
     "text": [
      "\r",
      "  4%|██████▎                                                                                                                                                           | 39/1000 [16:22<7:04:32, 26.51s/it]"
     ]
    },
    {
     "name": "stdout",
     "output_type": "stream",
     "text": [
      "eigenvalues shape torch.Size([5]) eigenvectors shape torch.Size([5, 400])\n",
      "39 /home/phdcs2/Hard_Disk/Datasets/Deep-Spectral-Segmentation/data/object-segmentation/ECSSD/features/dino_vits16/0040.pth\n",
      "dict_keys(['k', 'indices', 'file', 'id', 'model_name', 'patch_size', 'shape'])\n",
      "0040\n",
      "Starting Training\n",
      "epoch: 00, loss: -0.05415\n",
      "epoch: 01, loss: -0.08458\n",
      "epoch: 02, loss: -0.08503\n",
      "epoch: 03, loss: -0.08705\n",
      "epoch: 04, loss: -0.08750\n",
      "epoch: 05, loss: -0.08754\n",
      "epoch: 06, loss: -0.08832\n",
      "epoch: 07, loss: -0.08769\n",
      "epoch: 08, loss: -0.08881\n",
      "epoch: 09, loss: -0.08846\n",
      "torch.Size([400, 64])\n"
     ]
    },
    {
     "name": "stderr",
     "output_type": "stream",
     "text": [
      "\r",
      "  4%|██████▍                                                                                                                                                           | 40/1000 [16:46<6:52:29, 25.78s/it]"
     ]
    },
    {
     "name": "stdout",
     "output_type": "stream",
     "text": [
      "eigenvalues shape torch.Size([5]) eigenvectors shape torch.Size([5, 400])\n",
      "40 /home/phdcs2/Hard_Disk/Datasets/Deep-Spectral-Segmentation/data/object-segmentation/ECSSD/features/dino_vits16/0041.pth\n",
      "dict_keys(['k', 'indices', 'file', 'id', 'model_name', 'patch_size', 'shape'])\n",
      "0041\n",
      "Starting Training\n",
      "epoch: 00, loss: 0.00424\n",
      "epoch: 01, loss: -0.00825\n",
      "epoch: 02, loss: -0.01370\n",
      "epoch: 03, loss: -0.01573\n",
      "epoch: 04, loss: -0.01688\n",
      "epoch: 05, loss: -0.01765\n",
      "epoch: 06, loss: -0.01813\n",
      "epoch: 07, loss: -0.01830\n",
      "epoch: 08, loss: -0.01864\n",
      "epoch: 09, loss: -0.01873\n",
      "torch.Size([450, 64])\n"
     ]
    },
    {
     "name": "stderr",
     "output_type": "stream",
     "text": [
      "\r",
      "  4%|██████▋                                                                                                                                                           | 41/1000 [17:16<7:12:16, 27.05s/it]"
     ]
    },
    {
     "name": "stdout",
     "output_type": "stream",
     "text": [
      "eigenvalues shape torch.Size([5]) eigenvectors shape torch.Size([5, 450])\n",
      "41 /home/phdcs2/Hard_Disk/Datasets/Deep-Spectral-Segmentation/data/object-segmentation/ECSSD/features/dino_vits16/0042.pth\n",
      "dict_keys(['k', 'indices', 'file', 'id', 'model_name', 'patch_size', 'shape'])\n",
      "0042\n",
      "Starting Training\n",
      "epoch: 00, loss: -0.01098\n",
      "epoch: 01, loss: -0.02539\n",
      "epoch: 02, loss: -0.02991\n",
      "epoch: 03, loss: -0.03121\n",
      "epoch: 04, loss: -0.03208\n",
      "epoch: 05, loss: -0.03282\n",
      "epoch: 06, loss: -0.03291\n",
      "epoch: 07, loss: -0.03297\n",
      "epoch: 08, loss: -0.03309\n",
      "epoch: 09, loss: -0.03307\n",
      "torch.Size([400, 64])\n"
     ]
    },
    {
     "name": "stderr",
     "output_type": "stream",
     "text": [
      "\r",
      "  4%|██████▊                                                                                                                                                           | 42/1000 [17:43<7:14:31, 27.21s/it]"
     ]
    },
    {
     "name": "stdout",
     "output_type": "stream",
     "text": [
      "eigenvalues shape torch.Size([5]) eigenvectors shape torch.Size([5, 400])\n",
      "42 /home/phdcs2/Hard_Disk/Datasets/Deep-Spectral-Segmentation/data/object-segmentation/ECSSD/features/dino_vits16/0043.pth\n",
      "dict_keys(['k', 'indices', 'file', 'id', 'model_name', 'patch_size', 'shape'])\n",
      "0043\n",
      "Starting Training\n",
      "epoch: 00, loss: -0.03537\n",
      "epoch: 01, loss: -0.05300\n",
      "epoch: 02, loss: -0.05596\n",
      "epoch: 03, loss: -0.05560\n",
      "epoch: 04, loss: -0.05712\n",
      "epoch: 05, loss: -0.05776\n",
      "epoch: 06, loss: -0.05724\n",
      "epoch: 07, loss: -0.05798\n",
      "epoch: 08, loss: -0.05793\n",
      "epoch: 09, loss: -0.05741\n",
      "torch.Size([450, 64])\n"
     ]
    },
    {
     "name": "stderr",
     "output_type": "stream",
     "text": [
      "\r",
      "  4%|██████▉                                                                                                                                                           | 43/1000 [18:11<7:15:20, 27.29s/it]"
     ]
    },
    {
     "name": "stdout",
     "output_type": "stream",
     "text": [
      "eigenvalues shape torch.Size([5]) eigenvectors shape torch.Size([5, 450])\n",
      "43 /home/phdcs2/Hard_Disk/Datasets/Deep-Spectral-Segmentation/data/object-segmentation/ECSSD/features/dino_vits16/0044.pth\n",
      "dict_keys(['k', 'indices', 'file', 'id', 'model_name', 'patch_size', 'shape'])\n",
      "0044\n",
      "Starting Training\n",
      "epoch: 00, loss: -0.01171\n",
      "epoch: 01, loss: -0.02369\n",
      "epoch: 02, loss: -0.02609\n",
      "epoch: 03, loss: -0.02647\n",
      "epoch: 04, loss: -0.02692\n",
      "epoch: 05, loss: -0.02829\n",
      "epoch: 06, loss: -0.02699\n",
      "epoch: 07, loss: -0.02908\n",
      "epoch: 08, loss: -0.02741\n",
      "epoch: 09, loss: -0.02932\n",
      "torch.Size([525, 64])\n"
     ]
    },
    {
     "name": "stderr",
     "output_type": "stream",
     "text": [
      "\r",
      "  4%|███████▏                                                                                                                                                          | 44/1000 [18:46<7:54:13, 29.76s/it]"
     ]
    },
    {
     "name": "stdout",
     "output_type": "stream",
     "text": [
      "eigenvalues shape torch.Size([5]) eigenvectors shape torch.Size([5, 525])\n",
      "44 /home/phdcs2/Hard_Disk/Datasets/Deep-Spectral-Segmentation/data/object-segmentation/ECSSD/features/dino_vits16/0045.pth\n",
      "dict_keys(['k', 'indices', 'file', 'id', 'model_name', 'patch_size', 'shape'])\n",
      "0045\n",
      "Starting Training\n",
      "epoch: 00, loss: -0.04483\n",
      "epoch: 01, loss: -0.06587\n",
      "epoch: 02, loss: -0.06776\n",
      "epoch: 03, loss: -0.06919\n",
      "epoch: 04, loss: -0.07051\n",
      "epoch: 05, loss: -0.06976\n",
      "epoch: 06, loss: -0.06925\n",
      "epoch: 07, loss: -0.07052\n",
      "epoch: 08, loss: -0.07180\n",
      "epoch: 09, loss: -0.06993\n",
      "torch.Size([450, 64])\n"
     ]
    },
    {
     "name": "stderr",
     "output_type": "stream",
     "text": [
      "\r",
      "  4%|███████▎                                                                                                                                                          | 45/1000 [19:17<7:58:11, 30.04s/it]"
     ]
    },
    {
     "name": "stdout",
     "output_type": "stream",
     "text": [
      "eigenvalues shape torch.Size([5]) eigenvectors shape torch.Size([5, 450])\n",
      "45 /home/phdcs2/Hard_Disk/Datasets/Deep-Spectral-Segmentation/data/object-segmentation/ECSSD/features/dino_vits16/0046.pth\n",
      "dict_keys(['k', 'indices', 'file', 'id', 'model_name', 'patch_size', 'shape'])\n",
      "0046\n",
      "Starting Training\n",
      "epoch: 00, loss: -0.05509\n",
      "epoch: 01, loss: -0.07538\n",
      "epoch: 02, loss: -0.07794\n",
      "epoch: 03, loss: -0.08037\n",
      "epoch: 04, loss: -0.07940\n",
      "epoch: 05, loss: -0.07940\n",
      "epoch: 06, loss: -0.08041\n",
      "epoch: 07, loss: -0.08114\n",
      "epoch: 08, loss: -0.08156\n",
      "epoch: 09, loss: -0.08153\n",
      "torch.Size([450, 64])\n"
     ]
    },
    {
     "name": "stderr",
     "output_type": "stream",
     "text": [
      "\r",
      "  5%|███████▍                                                                                                                                                          | 46/1000 [19:52<8:19:33, 31.42s/it]"
     ]
    },
    {
     "name": "stdout",
     "output_type": "stream",
     "text": [
      "eigenvalues shape torch.Size([5]) eigenvectors shape torch.Size([5, 450])\n",
      "46 /home/phdcs2/Hard_Disk/Datasets/Deep-Spectral-Segmentation/data/object-segmentation/ECSSD/features/dino_vits16/0047.pth\n",
      "dict_keys(['k', 'indices', 'file', 'id', 'model_name', 'patch_size', 'shape'])\n",
      "0047\n",
      "Starting Training\n",
      "epoch: 00, loss: -0.04221\n",
      "epoch: 01, loss: -0.07379\n",
      "epoch: 02, loss: -0.07690\n",
      "epoch: 03, loss: -0.07691\n",
      "epoch: 04, loss: -0.07700\n",
      "epoch: 05, loss: -0.07777\n",
      "epoch: 06, loss: -0.07630\n",
      "epoch: 07, loss: -0.07892\n",
      "epoch: 08, loss: -0.07971\n",
      "epoch: 09, loss: -0.07900\n",
      "torch.Size([400, 64])\n"
     ]
    },
    {
     "name": "stderr",
     "output_type": "stream",
     "text": [
      "\r",
      "  5%|███████▌                                                                                                                                                          | 47/1000 [20:16<7:46:38, 29.38s/it]"
     ]
    },
    {
     "name": "stdout",
     "output_type": "stream",
     "text": [
      "eigenvalues shape torch.Size([5]) eigenvectors shape torch.Size([5, 400])\n",
      "47 /home/phdcs2/Hard_Disk/Datasets/Deep-Spectral-Segmentation/data/object-segmentation/ECSSD/features/dino_vits16/0048.pth\n",
      "dict_keys(['k', 'indices', 'file', 'id', 'model_name', 'patch_size', 'shape'])\n",
      "0048\n",
      "Starting Training\n",
      "epoch: 00, loss: -0.04064\n",
      "epoch: 01, loss: -0.06622\n",
      "epoch: 02, loss: -0.06812\n",
      "epoch: 03, loss: -0.06798\n",
      "epoch: 04, loss: -0.06911\n",
      "epoch: 05, loss: -0.07014\n",
      "epoch: 06, loss: -0.07017\n",
      "epoch: 07, loss: -0.06968\n",
      "epoch: 08, loss: -0.06884\n",
      "epoch: 09, loss: -0.06948\n",
      "torch.Size([450, 64])\n"
     ]
    },
    {
     "name": "stderr",
     "output_type": "stream",
     "text": [
      "\r",
      "  5%|███████▊                                                                                                                                                          | 48/1000 [20:49<8:01:51, 30.37s/it]"
     ]
    },
    {
     "name": "stdout",
     "output_type": "stream",
     "text": [
      "eigenvalues shape torch.Size([5]) eigenvectors shape torch.Size([5, 450])\n",
      "48 /home/phdcs2/Hard_Disk/Datasets/Deep-Spectral-Segmentation/data/object-segmentation/ECSSD/features/dino_vits16/0049.pth\n",
      "dict_keys(['k', 'indices', 'file', 'id', 'model_name', 'patch_size', 'shape'])\n",
      "0049\n",
      "Starting Training\n",
      "epoch: 00, loss: -0.06043\n",
      "epoch: 01, loss: -0.08200\n",
      "epoch: 02, loss: -0.08317\n",
      "epoch: 03, loss: -0.08233\n",
      "epoch: 04, loss: -0.08282\n",
      "epoch: 05, loss: -0.08304\n",
      "epoch: 06, loss: -0.08324\n",
      "epoch: 07, loss: -0.08339\n",
      "epoch: 08, loss: -0.08334\n",
      "epoch: 09, loss: -0.08340\n",
      "torch.Size([450, 64])\n"
     ]
    },
    {
     "name": "stderr",
     "output_type": "stream",
     "text": [
      "\r",
      "  5%|███████▉                                                                                                                                                          | 49/1000 [21:13<7:32:01, 28.52s/it]"
     ]
    },
    {
     "name": "stdout",
     "output_type": "stream",
     "text": [
      "eigenvalues shape torch.Size([5]) eigenvectors shape torch.Size([5, 450])\n",
      "49 /home/phdcs2/Hard_Disk/Datasets/Deep-Spectral-Segmentation/data/object-segmentation/ECSSD/features/dino_vits16/0050.pth\n",
      "dict_keys(['k', 'indices', 'file', 'id', 'model_name', 'patch_size', 'shape'])\n",
      "0050\n",
      "Starting Training\n",
      "epoch: 00, loss: -0.02103\n",
      "epoch: 01, loss: -0.04926\n",
      "epoch: 02, loss: -0.05223\n",
      "epoch: 03, loss: -0.05298\n",
      "epoch: 04, loss: -0.05360\n",
      "epoch: 05, loss: -0.05386\n",
      "epoch: 06, loss: -0.05378\n",
      "epoch: 07, loss: -0.05408\n",
      "epoch: 08, loss: -0.05422\n",
      "epoch: 09, loss: -0.05433\n",
      "torch.Size([400, 64])\n"
     ]
    },
    {
     "name": "stderr",
     "output_type": "stream",
     "text": [
      "\r",
      "  5%|████████                                                                                                                                                          | 50/1000 [21:38<7:14:40, 27.45s/it]"
     ]
    },
    {
     "name": "stdout",
     "output_type": "stream",
     "text": [
      "eigenvalues shape torch.Size([5]) eigenvectors shape torch.Size([5, 400])\n",
      "50 /home/phdcs2/Hard_Disk/Datasets/Deep-Spectral-Segmentation/data/object-segmentation/ECSSD/features/dino_vits16/0051.pth\n",
      "dict_keys(['k', 'indices', 'file', 'id', 'model_name', 'patch_size', 'shape'])\n",
      "0051\n",
      "Starting Training\n",
      "epoch: 00, loss: -0.12450\n",
      "epoch: 01, loss: -0.15175\n",
      "epoch: 02, loss: -0.15378\n",
      "epoch: 03, loss: -0.15643\n",
      "epoch: 04, loss: -0.15783\n",
      "epoch: 05, loss: -0.15956\n",
      "epoch: 06, loss: -0.15941\n",
      "epoch: 07, loss: -0.16036\n",
      "epoch: 08, loss: -0.15946\n",
      "epoch: 09, loss: -0.16072\n",
      "torch.Size([450, 64])\n"
     ]
    },
    {
     "name": "stderr",
     "output_type": "stream",
     "text": [
      "\r",
      "  5%|████████▎                                                                                                                                                         | 51/1000 [22:11<7:38:09, 28.97s/it]"
     ]
    },
    {
     "name": "stdout",
     "output_type": "stream",
     "text": [
      "eigenvalues shape torch.Size([5]) eigenvectors shape torch.Size([5, 450])\n",
      "51 /home/phdcs2/Hard_Disk/Datasets/Deep-Spectral-Segmentation/data/object-segmentation/ECSSD/features/dino_vits16/0052.pth\n",
      "dict_keys(['k', 'indices', 'file', 'id', 'model_name', 'patch_size', 'shape'])\n",
      "0052\n",
      "Starting Training\n",
      "epoch: 00, loss: -0.05062\n",
      "epoch: 01, loss: -0.07405\n",
      "epoch: 02, loss: -0.07569\n",
      "epoch: 03, loss: -0.07560\n",
      "epoch: 04, loss: -0.07641\n",
      "epoch: 05, loss: -0.07747\n",
      "epoch: 06, loss: -0.07882\n",
      "epoch: 07, loss: -0.07965\n",
      "epoch: 08, loss: -0.08031\n",
      "epoch: 09, loss: -0.08072\n",
      "torch.Size([450, 64])\n"
     ]
    },
    {
     "name": "stderr",
     "output_type": "stream",
     "text": [
      "\r",
      "  5%|████████▍                                                                                                                                                         | 52/1000 [22:38<7:31:53, 28.60s/it]"
     ]
    },
    {
     "name": "stdout",
     "output_type": "stream",
     "text": [
      "eigenvalues shape torch.Size([5]) eigenvectors shape torch.Size([5, 450])\n",
      "52 /home/phdcs2/Hard_Disk/Datasets/Deep-Spectral-Segmentation/data/object-segmentation/ECSSD/features/dino_vits16/0053.pth\n",
      "dict_keys(['k', 'indices', 'file', 'id', 'model_name', 'patch_size', 'shape'])\n",
      "0053\n",
      "Starting Training\n",
      "epoch: 00, loss: -0.01413\n",
      "epoch: 01, loss: -0.02846\n",
      "epoch: 02, loss: -0.03190\n",
      "epoch: 03, loss: -0.03295\n",
      "epoch: 04, loss: -0.03476\n",
      "epoch: 05, loss: -0.03507\n",
      "epoch: 06, loss: -0.03543\n",
      "epoch: 07, loss: -0.03403\n",
      "epoch: 08, loss: -0.03527\n",
      "epoch: 09, loss: -0.03410\n",
      "torch.Size([375, 64])\n"
     ]
    },
    {
     "name": "stderr",
     "output_type": "stream",
     "text": [
      "\r",
      "  5%|████████▌                                                                                                                                                         | 53/1000 [22:59<6:55:22, 26.32s/it]"
     ]
    },
    {
     "name": "stdout",
     "output_type": "stream",
     "text": [
      "eigenvalues shape torch.Size([5]) eigenvectors shape torch.Size([5, 375])\n",
      "53 /home/phdcs2/Hard_Disk/Datasets/Deep-Spectral-Segmentation/data/object-segmentation/ECSSD/features/dino_vits16/0054.pth\n",
      "dict_keys(['k', 'indices', 'file', 'id', 'model_name', 'patch_size', 'shape'])\n",
      "0054\n",
      "Starting Training\n",
      "epoch: 00, loss: -0.08494\n",
      "epoch: 01, loss: -0.11783\n",
      "epoch: 02, loss: -0.12280\n",
      "epoch: 03, loss: -0.12431\n",
      "epoch: 04, loss: -0.12813\n",
      "epoch: 05, loss: -0.13150\n",
      "epoch: 06, loss: -0.13057\n",
      "epoch: 07, loss: -0.12984\n",
      "epoch: 08, loss: -0.12935\n",
      "epoch: 09, loss: -0.12982\n",
      "torch.Size([450, 64])\n"
     ]
    },
    {
     "name": "stderr",
     "output_type": "stream",
     "text": [
      "\r",
      "  5%|████████▋                                                                                                                                                         | 54/1000 [23:26<6:57:23, 26.47s/it]"
     ]
    },
    {
     "name": "stdout",
     "output_type": "stream",
     "text": [
      "eigenvalues shape torch.Size([5]) eigenvectors shape torch.Size([5, 450])\n",
      "54 /home/phdcs2/Hard_Disk/Datasets/Deep-Spectral-Segmentation/data/object-segmentation/ECSSD/features/dino_vits16/0055.pth\n",
      "dict_keys(['k', 'indices', 'file', 'id', 'model_name', 'patch_size', 'shape'])\n",
      "0055\n",
      "Starting Training\n",
      "epoch: 00, loss: -0.07665\n",
      "epoch: 01, loss: -0.10022\n",
      "epoch: 02, loss: -0.10531\n",
      "epoch: 03, loss: -0.10532\n",
      "epoch: 04, loss: -0.10544\n",
      "epoch: 05, loss: -0.10797\n",
      "epoch: 06, loss: -0.10553\n",
      "epoch: 07, loss: -0.10782\n",
      "epoch: 08, loss: -0.10764\n",
      "epoch: 09, loss: -0.10868\n",
      "torch.Size([450, 64])\n"
     ]
    },
    {
     "name": "stderr",
     "output_type": "stream",
     "text": [
      "\r",
      "  6%|████████▉                                                                                                                                                         | 55/1000 [23:50<6:46:21, 25.80s/it]"
     ]
    },
    {
     "name": "stdout",
     "output_type": "stream",
     "text": [
      "eigenvalues shape torch.Size([5]) eigenvectors shape torch.Size([5, 450])\n",
      "55 /home/phdcs2/Hard_Disk/Datasets/Deep-Spectral-Segmentation/data/object-segmentation/ECSSD/features/dino_vits16/0056.pth\n",
      "dict_keys(['k', 'indices', 'file', 'id', 'model_name', 'patch_size', 'shape'])\n",
      "0056\n",
      "Starting Training\n",
      "epoch: 00, loss: -0.02089\n",
      "epoch: 01, loss: -0.06374\n",
      "epoch: 02, loss: -0.06957\n",
      "epoch: 03, loss: -0.07037\n",
      "epoch: 04, loss: -0.07048\n",
      "epoch: 05, loss: -0.07261\n",
      "epoch: 06, loss: -0.07440\n",
      "epoch: 07, loss: -0.07474\n",
      "epoch: 08, loss: -0.07363\n",
      "epoch: 09, loss: -0.07510\n",
      "torch.Size([400, 64])\n"
     ]
    },
    {
     "name": "stderr",
     "output_type": "stream",
     "text": [
      "\r",
      "  6%|█████████                                                                                                                                                         | 56/1000 [24:13<6:29:03, 24.73s/it]"
     ]
    },
    {
     "name": "stdout",
     "output_type": "stream",
     "text": [
      "eigenvalues shape torch.Size([5]) eigenvectors shape torch.Size([5, 400])\n",
      "56 /home/phdcs2/Hard_Disk/Datasets/Deep-Spectral-Segmentation/data/object-segmentation/ECSSD/features/dino_vits16/0057.pth\n",
      "dict_keys(['k', 'indices', 'file', 'id', 'model_name', 'patch_size', 'shape'])\n",
      "0057\n",
      "Starting Training\n",
      "epoch: 00, loss: -0.08069\n",
      "epoch: 01, loss: -0.11744\n",
      "epoch: 02, loss: -0.12428\n",
      "epoch: 03, loss: -0.12206\n",
      "epoch: 04, loss: -0.12253\n",
      "epoch: 05, loss: -0.12331\n",
      "epoch: 06, loss: -0.12423\n",
      "epoch: 07, loss: -0.12462\n",
      "epoch: 08, loss: -0.12654\n",
      "epoch: 09, loss: -0.12395\n",
      "torch.Size([400, 64])\n"
     ]
    },
    {
     "name": "stderr",
     "output_type": "stream",
     "text": [
      "\r",
      "  6%|█████████▏                                                                                                                                                        | 57/1000 [24:35<6:17:02, 23.99s/it]"
     ]
    },
    {
     "name": "stdout",
     "output_type": "stream",
     "text": [
      "eigenvalues shape torch.Size([5]) eigenvectors shape torch.Size([5, 400])\n",
      "57 /home/phdcs2/Hard_Disk/Datasets/Deep-Spectral-Segmentation/data/object-segmentation/ECSSD/features/dino_vits16/0058.pth\n",
      "dict_keys(['k', 'indices', 'file', 'id', 'model_name', 'patch_size', 'shape'])\n",
      "0058\n",
      "Starting Training\n",
      "epoch: 00, loss: -0.03851\n",
      "epoch: 01, loss: -0.05876\n",
      "epoch: 02, loss: -0.06088\n",
      "epoch: 03, loss: -0.06010\n",
      "epoch: 04, loss: -0.06049\n",
      "epoch: 05, loss: -0.06036\n",
      "epoch: 06, loss: -0.06179\n",
      "epoch: 07, loss: -0.06224\n",
      "epoch: 08, loss: -0.06203\n",
      "epoch: 09, loss: -0.06088\n",
      "torch.Size([425, 64])\n"
     ]
    },
    {
     "name": "stderr",
     "output_type": "stream",
     "text": [
      "\r",
      "  6%|█████████▍                                                                                                                                                        | 58/1000 [25:01<6:25:09, 24.53s/it]"
     ]
    },
    {
     "name": "stdout",
     "output_type": "stream",
     "text": [
      "eigenvalues shape torch.Size([5]) eigenvectors shape torch.Size([5, 425])\n",
      "58 /home/phdcs2/Hard_Disk/Datasets/Deep-Spectral-Segmentation/data/object-segmentation/ECSSD/features/dino_vits16/0059.pth\n",
      "dict_keys(['k', 'indices', 'file', 'id', 'model_name', 'patch_size', 'shape'])\n",
      "0059\n",
      "Starting Training\n",
      "epoch: 00, loss: -0.03055\n",
      "epoch: 01, loss: -0.06654\n",
      "epoch: 02, loss: -0.06787\n",
      "epoch: 03, loss: -0.07009\n",
      "epoch: 04, loss: -0.07115\n",
      "epoch: 05, loss: -0.07237\n",
      "epoch: 06, loss: -0.07018\n",
      "epoch: 07, loss: -0.07126\n",
      "epoch: 08, loss: -0.07376\n",
      "epoch: 09, loss: -0.07363\n",
      "torch.Size([450, 64])\n"
     ]
    },
    {
     "name": "stderr",
     "output_type": "stream",
     "text": [
      "\r",
      "  6%|█████████▌                                                                                                                                                        | 59/1000 [25:29<6:42:32, 25.67s/it]"
     ]
    },
    {
     "name": "stdout",
     "output_type": "stream",
     "text": [
      "eigenvalues shape torch.Size([5]) eigenvectors shape torch.Size([5, 450])\n",
      "59 /home/phdcs2/Hard_Disk/Datasets/Deep-Spectral-Segmentation/data/object-segmentation/ECSSD/features/dino_vits16/0060.pth\n",
      "dict_keys(['k', 'indices', 'file', 'id', 'model_name', 'patch_size', 'shape'])\n",
      "0060\n",
      "Starting Training\n",
      "epoch: 00, loss: -0.08388\n",
      "epoch: 01, loss: -0.10134\n",
      "epoch: 02, loss: -0.10204\n",
      "epoch: 03, loss: -0.10341\n",
      "epoch: 04, loss: -0.10210\n",
      "epoch: 05, loss: -0.10326\n",
      "epoch: 06, loss: -0.10351\n",
      "epoch: 07, loss: -0.10307\n",
      "epoch: 08, loss: -0.10384\n",
      "epoch: 09, loss: -0.10397\n",
      "torch.Size([400, 64])\n"
     ]
    },
    {
     "name": "stderr",
     "output_type": "stream",
     "text": [
      "\r",
      "  6%|█████████▋                                                                                                                                                        | 60/1000 [25:53<6:32:36, 25.06s/it]"
     ]
    },
    {
     "name": "stdout",
     "output_type": "stream",
     "text": [
      "eigenvalues shape torch.Size([5]) eigenvectors shape torch.Size([5, 400])\n",
      "60 /home/phdcs2/Hard_Disk/Datasets/Deep-Spectral-Segmentation/data/object-segmentation/ECSSD/features/dino_vits16/0061.pth\n",
      "dict_keys(['k', 'indices', 'file', 'id', 'model_name', 'patch_size', 'shape'])\n",
      "0061\n",
      "Starting Training\n",
      "epoch: 00, loss: -0.03633\n",
      "epoch: 01, loss: -0.05835\n",
      "epoch: 02, loss: -0.06222\n",
      "epoch: 03, loss: -0.06003\n",
      "epoch: 04, loss: -0.06179\n",
      "epoch: 05, loss: -0.06226\n",
      "epoch: 06, loss: -0.06148\n",
      "epoch: 07, loss: -0.06341\n",
      "epoch: 08, loss: -0.06157\n",
      "epoch: 09, loss: -0.06244\n",
      "torch.Size([425, 64])\n"
     ]
    },
    {
     "name": "stderr",
     "output_type": "stream",
     "text": [
      "\r",
      "  6%|█████████▉                                                                                                                                                        | 61/1000 [26:16<6:24:47, 24.59s/it]"
     ]
    },
    {
     "name": "stdout",
     "output_type": "stream",
     "text": [
      "eigenvalues shape torch.Size([5]) eigenvectors shape torch.Size([5, 425])\n",
      "61 /home/phdcs2/Hard_Disk/Datasets/Deep-Spectral-Segmentation/data/object-segmentation/ECSSD/features/dino_vits16/0062.pth\n",
      "dict_keys(['k', 'indices', 'file', 'id', 'model_name', 'patch_size', 'shape'])\n",
      "0062\n",
      "Starting Training\n",
      "epoch: 00, loss: -0.02222\n",
      "epoch: 01, loss: -0.04224\n",
      "epoch: 02, loss: -0.04635\n",
      "epoch: 03, loss: -0.04592\n",
      "epoch: 04, loss: -0.04565\n",
      "epoch: 05, loss: -0.04611\n",
      "epoch: 06, loss: -0.04622\n",
      "epoch: 07, loss: -0.04655\n",
      "epoch: 08, loss: -0.04776\n",
      "epoch: 09, loss: -0.04679\n",
      "torch.Size([425, 64])\n"
     ]
    },
    {
     "name": "stderr",
     "output_type": "stream",
     "text": [
      "\r",
      "  6%|██████████                                                                                                                                                        | 62/1000 [26:44<6:39:56, 25.58s/it]"
     ]
    },
    {
     "name": "stdout",
     "output_type": "stream",
     "text": [
      "eigenvalues shape torch.Size([5]) eigenvectors shape torch.Size([5, 425])\n",
      "62 /home/phdcs2/Hard_Disk/Datasets/Deep-Spectral-Segmentation/data/object-segmentation/ECSSD/features/dino_vits16/0063.pth\n",
      "dict_keys(['k', 'indices', 'file', 'id', 'model_name', 'patch_size', 'shape'])\n",
      "0063\n",
      "Starting Training\n",
      "epoch: 00, loss: -0.05180\n",
      "epoch: 01, loss: -0.07805\n",
      "epoch: 02, loss: -0.08392\n",
      "epoch: 03, loss: -0.08450\n",
      "epoch: 04, loss: -0.08363\n",
      "epoch: 05, loss: -0.08769\n",
      "epoch: 06, loss: -0.08506\n",
      "epoch: 07, loss: -0.08740\n",
      "epoch: 08, loss: -0.08800\n",
      "epoch: 09, loss: -0.08628\n",
      "torch.Size([400, 64])\n"
     ]
    },
    {
     "name": "stderr",
     "output_type": "stream",
     "text": [
      "/home/phdcs2/Hard_Disk/Projects/T2I/deep-spectral-segmentation/venv/lib/python3.8/site-packages/scipy/sparse/linalg/_eigen/arpack/arpack.py:935: LinAlgWarning: Diagonal number 400 is exactly zero. Singular matrix.\n",
      "  self.M_lu = lu_factor(M)\n"
     ]
    },
    {
     "name": "stdout",
     "output_type": "stream",
     "text": [
      " ** On entry to SLASCL parameter number  4 had an illegal value\n",
      " ** On entry to SLASCL parameter number  4 had an illegal value\n"
     ]
    },
    {
     "name": "stderr",
     "output_type": "stream",
     "text": [
      "\r",
      "  6%|██████████▏                                                                                                                                                       | 63/1000 [27:15<7:05:33, 27.25s/it]"
     ]
    },
    {
     "name": "stdout",
     "output_type": "stream",
     "text": [
      "eigenvalues shape torch.Size([5]) eigenvectors shape torch.Size([5, 400])\n",
      "63 /home/phdcs2/Hard_Disk/Datasets/Deep-Spectral-Segmentation/data/object-segmentation/ECSSD/features/dino_vits16/0064.pth\n",
      "dict_keys(['k', 'indices', 'file', 'id', 'model_name', 'patch_size', 'shape'])\n",
      "0064\n",
      "Starting Training\n",
      "epoch: 00, loss: -0.02341\n",
      "epoch: 01, loss: -0.04911\n",
      "epoch: 02, loss: -0.05522\n",
      "epoch: 03, loss: -0.05325\n",
      "epoch: 04, loss: -0.05415\n",
      "epoch: 05, loss: -0.05429\n",
      "epoch: 06, loss: -0.05559\n",
      "epoch: 07, loss: -0.05548\n",
      "epoch: 08, loss: -0.05605\n",
      "epoch: 09, loss: -0.05689\n",
      "torch.Size([400, 64])\n"
     ]
    },
    {
     "name": "stderr",
     "output_type": "stream",
     "text": [
      "\r",
      "  6%|██████████▎                                                                                                                                                       | 64/1000 [27:43<7:08:16, 27.45s/it]"
     ]
    },
    {
     "name": "stdout",
     "output_type": "stream",
     "text": [
      "eigenvalues shape torch.Size([5]) eigenvectors shape torch.Size([5, 400])\n",
      "64 /home/phdcs2/Hard_Disk/Datasets/Deep-Spectral-Segmentation/data/object-segmentation/ECSSD/features/dino_vits16/0065.pth\n",
      "dict_keys(['k', 'indices', 'file', 'id', 'model_name', 'patch_size', 'shape'])\n",
      "0065\n",
      "Starting Training\n",
      "epoch: 00, loss: -0.00175\n",
      "epoch: 01, loss: -0.01997\n",
      "epoch: 02, loss: -0.02524\n",
      "epoch: 03, loss: -0.02727\n",
      "epoch: 04, loss: -0.02794\n",
      "epoch: 05, loss: -0.02842\n",
      "epoch: 06, loss: -0.02844\n",
      "epoch: 07, loss: -0.02861\n",
      "epoch: 08, loss: -0.02888\n",
      "epoch: 09, loss: -0.02889\n",
      "torch.Size([450, 64])\n"
     ]
    },
    {
     "name": "stderr",
     "output_type": "stream",
     "text": [
      "\r",
      "  6%|██████████▌                                                                                                                                                       | 65/1000 [28:15<7:31:02, 28.94s/it]"
     ]
    },
    {
     "name": "stdout",
     "output_type": "stream",
     "text": [
      "eigenvalues shape torch.Size([5]) eigenvectors shape torch.Size([5, 450])\n",
      "65 /home/phdcs2/Hard_Disk/Datasets/Deep-Spectral-Segmentation/data/object-segmentation/ECSSD/features/dino_vits16/0066.pth\n",
      "dict_keys(['k', 'indices', 'file', 'id', 'model_name', 'patch_size', 'shape'])\n",
      "0066\n",
      "Starting Training\n",
      "epoch: 00, loss: -0.03696\n",
      "epoch: 01, loss: -0.06643\n",
      "epoch: 02, loss: -0.07062\n",
      "epoch: 03, loss: -0.07048\n",
      "epoch: 04, loss: -0.07413\n",
      "epoch: 05, loss: -0.07368\n",
      "epoch: 06, loss: -0.07430\n",
      "epoch: 07, loss: -0.07514\n",
      "epoch: 08, loss: -0.07359\n",
      "epoch: 09, loss: -0.07648\n",
      "torch.Size([400, 64])\n"
     ]
    },
    {
     "name": "stderr",
     "output_type": "stream",
     "text": [
      "\r",
      "  7%|██████████▋                                                                                                                                                       | 66/1000 [28:42<7:17:10, 28.08s/it]"
     ]
    },
    {
     "name": "stdout",
     "output_type": "stream",
     "text": [
      "eigenvalues shape torch.Size([5]) eigenvectors shape torch.Size([5, 400])\n",
      "66 /home/phdcs2/Hard_Disk/Datasets/Deep-Spectral-Segmentation/data/object-segmentation/ECSSD/features/dino_vits16/0067.pth\n",
      "dict_keys(['k', 'indices', 'file', 'id', 'model_name', 'patch_size', 'shape'])\n",
      "0067\n",
      "Starting Training\n",
      "epoch: 00, loss: -0.02622\n",
      "epoch: 01, loss: -0.04329\n",
      "epoch: 02, loss: -0.05048\n",
      "epoch: 03, loss: -0.05170\n",
      "epoch: 04, loss: -0.05037\n",
      "epoch: 05, loss: -0.05158\n",
      "epoch: 06, loss: -0.05246\n",
      "epoch: 07, loss: -0.05570\n",
      "epoch: 08, loss: -0.05356\n",
      "epoch: 09, loss: -0.05357\n",
      "torch.Size([350, 64])\n"
     ]
    },
    {
     "name": "stderr",
     "output_type": "stream",
     "text": [
      "\r",
      "  7%|██████████▊                                                                                                                                                       | 67/1000 [29:01<6:36:59, 25.53s/it]"
     ]
    },
    {
     "name": "stdout",
     "output_type": "stream",
     "text": [
      "eigenvalues shape torch.Size([5]) eigenvectors shape torch.Size([5, 350])\n",
      "67 /home/phdcs2/Hard_Disk/Datasets/Deep-Spectral-Segmentation/data/object-segmentation/ECSSD/features/dino_vits16/0068.pth\n",
      "dict_keys(['k', 'indices', 'file', 'id', 'model_name', 'patch_size', 'shape'])\n",
      "0068\n",
      "Starting Training\n",
      "epoch: 00, loss: -0.03627\n",
      "epoch: 01, loss: -0.05287\n",
      "epoch: 02, loss: -0.05383\n",
      "epoch: 03, loss: -0.05329\n",
      "epoch: 04, loss: -0.05397\n",
      "epoch: 05, loss: -0.05390\n",
      "epoch: 06, loss: -0.05392\n",
      "epoch: 07, loss: -0.05420\n",
      "epoch: 08, loss: -0.05457\n",
      "epoch: 09, loss: -0.05452\n",
      "torch.Size([525, 64])\n"
     ]
    },
    {
     "name": "stderr",
     "output_type": "stream",
     "text": [
      "\r",
      "  7%|███████████                                                                                                                                                       | 68/1000 [29:49<8:18:47, 32.11s/it]"
     ]
    },
    {
     "name": "stdout",
     "output_type": "stream",
     "text": [
      "eigenvalues shape torch.Size([5]) eigenvectors shape torch.Size([5, 525])\n",
      "68 /home/phdcs2/Hard_Disk/Datasets/Deep-Spectral-Segmentation/data/object-segmentation/ECSSD/features/dino_vits16/0069.pth\n",
      "dict_keys(['k', 'indices', 'file', 'id', 'model_name', 'patch_size', 'shape'])\n",
      "0069\n",
      "Starting Training\n",
      "epoch: 00, loss: -0.05518\n",
      "epoch: 01, loss: -0.07717\n",
      "epoch: 02, loss: -0.07794\n",
      "epoch: 03, loss: -0.07764\n",
      "epoch: 04, loss: -0.07917\n",
      "epoch: 05, loss: -0.07819\n",
      "epoch: 06, loss: -0.07922\n",
      "epoch: 07, loss: -0.07896\n",
      "epoch: 08, loss: -0.07879\n",
      "epoch: 09, loss: -0.07887\n",
      "torch.Size([425, 64])\n"
     ]
    },
    {
     "name": "stderr",
     "output_type": "stream",
     "text": [
      "\r",
      "  7%|███████████▏                                                                                                                                                      | 69/1000 [30:11<7:31:54, 29.12s/it]"
     ]
    },
    {
     "name": "stdout",
     "output_type": "stream",
     "text": [
      "eigenvalues shape torch.Size([5]) eigenvectors shape torch.Size([5, 425])\n",
      "69 /home/phdcs2/Hard_Disk/Datasets/Deep-Spectral-Segmentation/data/object-segmentation/ECSSD/features/dino_vits16/0070.pth\n",
      "dict_keys(['k', 'indices', 'file', 'id', 'model_name', 'patch_size', 'shape'])\n",
      "0070\n",
      "Starting Training\n",
      "epoch: 00, loss: -0.06226\n",
      "epoch: 01, loss: -0.09834\n",
      "epoch: 02, loss: -0.10379\n",
      "epoch: 03, loss: -0.10362\n",
      "epoch: 04, loss: -0.10410\n",
      "epoch: 05, loss: -0.10474\n",
      "epoch: 06, loss: -0.10457\n",
      "epoch: 07, loss: -0.10480\n",
      "epoch: 08, loss: -0.10594\n",
      "epoch: 09, loss: -0.10617\n",
      "torch.Size([500, 64])\n"
     ]
    },
    {
     "name": "stderr",
     "output_type": "stream",
     "text": [
      "\r",
      "  7%|███████████▎                                                                                                                                                      | 70/1000 [30:35<7:10:06, 27.75s/it]"
     ]
    },
    {
     "name": "stdout",
     "output_type": "stream",
     "text": [
      "eigenvalues shape torch.Size([5]) eigenvectors shape torch.Size([5, 500])\n",
      "70 /home/phdcs2/Hard_Disk/Datasets/Deep-Spectral-Segmentation/data/object-segmentation/ECSSD/features/dino_vits16/0071.pth\n",
      "dict_keys(['k', 'indices', 'file', 'id', 'model_name', 'patch_size', 'shape'])\n",
      "0071\n",
      "Starting Training\n",
      "epoch: 00, loss: -0.04643\n",
      "epoch: 01, loss: -0.06897\n",
      "epoch: 02, loss: -0.06991\n",
      "epoch: 03, loss: -0.07020\n",
      "epoch: 04, loss: -0.07038\n",
      "epoch: 05, loss: -0.07079\n",
      "epoch: 06, loss: -0.07067\n",
      "epoch: 07, loss: -0.07084\n",
      "epoch: 08, loss: -0.07116\n",
      "epoch: 09, loss: -0.07131\n",
      "torch.Size([450, 64])\n"
     ]
    },
    {
     "name": "stderr",
     "output_type": "stream",
     "text": [
      "\r",
      "  7%|███████████▌                                                                                                                                                      | 71/1000 [30:58<6:46:28, 26.25s/it]"
     ]
    },
    {
     "name": "stdout",
     "output_type": "stream",
     "text": [
      "eigenvalues shape torch.Size([5]) eigenvectors shape torch.Size([5, 450])\n",
      "71 /home/phdcs2/Hard_Disk/Datasets/Deep-Spectral-Segmentation/data/object-segmentation/ECSSD/features/dino_vits16/0072.pth\n",
      "dict_keys(['k', 'indices', 'file', 'id', 'model_name', 'patch_size', 'shape'])\n",
      "0072\n",
      "Starting Training\n",
      "epoch: 00, loss: -0.01690\n",
      "epoch: 01, loss: -0.04517\n",
      "epoch: 02, loss: -0.05626\n",
      "epoch: 03, loss: -0.05662\n",
      "epoch: 04, loss: -0.05147\n",
      "epoch: 05, loss: -0.05247\n",
      "epoch: 06, loss: -0.05489\n",
      "epoch: 07, loss: -0.05569\n",
      "epoch: 08, loss: -0.05489\n",
      "epoch: 09, loss: -0.05580\n",
      "torch.Size([400, 64])\n"
     ]
    },
    {
     "name": "stderr",
     "output_type": "stream",
     "text": [
      "\r",
      "  7%|███████████▋                                                                                                                                                      | 72/1000 [31:19<6:22:06, 24.70s/it]"
     ]
    },
    {
     "name": "stdout",
     "output_type": "stream",
     "text": [
      "eigenvalues shape torch.Size([5]) eigenvectors shape torch.Size([5, 400])\n",
      "72 /home/phdcs2/Hard_Disk/Datasets/Deep-Spectral-Segmentation/data/object-segmentation/ECSSD/features/dino_vits16/0073.pth\n",
      "dict_keys(['k', 'indices', 'file', 'id', 'model_name', 'patch_size', 'shape'])\n",
      "0073\n",
      "Starting Training\n",
      "epoch: 00, loss: -0.03380\n",
      "epoch: 01, loss: -0.05932\n",
      "epoch: 02, loss: -0.06542\n",
      "epoch: 03, loss: -0.06679\n",
      "epoch: 04, loss: -0.06543\n",
      "epoch: 05, loss: -0.06831\n",
      "epoch: 06, loss: -0.06386\n",
      "epoch: 07, loss: -0.06840\n",
      "epoch: 08, loss: -0.06601\n",
      "epoch: 09, loss: -0.06787\n",
      "torch.Size([450, 64])\n"
     ]
    },
    {
     "name": "stderr",
     "output_type": "stream",
     "text": [
      "\r",
      "  7%|███████████▊                                                                                                                                                      | 73/1000 [31:47<6:36:31, 25.67s/it]"
     ]
    },
    {
     "name": "stdout",
     "output_type": "stream",
     "text": [
      "eigenvalues shape torch.Size([5]) eigenvectors shape torch.Size([5, 450])\n",
      "73 /home/phdcs2/Hard_Disk/Datasets/Deep-Spectral-Segmentation/data/object-segmentation/ECSSD/features/dino_vits16/0074.pth\n",
      "dict_keys(['k', 'indices', 'file', 'id', 'model_name', 'patch_size', 'shape'])\n",
      "0074\n",
      "Starting Training\n",
      "epoch: 00, loss: -0.00751\n",
      "epoch: 01, loss: -0.01980\n",
      "epoch: 02, loss: -0.02302\n",
      "epoch: 03, loss: -0.02416\n",
      "epoch: 04, loss: -0.02463\n",
      "epoch: 05, loss: -0.02520\n",
      "epoch: 06, loss: -0.02516\n",
      "epoch: 07, loss: -0.02532\n",
      "epoch: 08, loss: -0.02552\n",
      "epoch: 09, loss: -0.02567\n",
      "torch.Size([450, 64])\n"
     ]
    },
    {
     "name": "stderr",
     "output_type": "stream",
     "text": [
      "\r",
      "  7%|███████████▉                                                                                                                                                      | 74/1000 [32:11<6:27:13, 25.09s/it]"
     ]
    },
    {
     "name": "stdout",
     "output_type": "stream",
     "text": [
      "eigenvalues shape torch.Size([5]) eigenvectors shape torch.Size([5, 450])\n",
      "74 /home/phdcs2/Hard_Disk/Datasets/Deep-Spectral-Segmentation/data/object-segmentation/ECSSD/features/dino_vits16/0075.pth\n",
      "dict_keys(['k', 'indices', 'file', 'id', 'model_name', 'patch_size', 'shape'])\n",
      "0075\n",
      "Starting Training\n",
      "epoch: 00, loss: -0.07014\n",
      "epoch: 01, loss: -0.10068\n",
      "epoch: 02, loss: -0.10231\n",
      "epoch: 03, loss: -0.10182\n",
      "epoch: 04, loss: -0.10379\n",
      "epoch: 05, loss: -0.10547\n",
      "epoch: 06, loss: -0.10545\n",
      "epoch: 07, loss: -0.10888\n",
      "epoch: 08, loss: -0.10730\n",
      "epoch: 09, loss: -0.10703\n",
      "torch.Size([450, 64])\n"
     ]
    },
    {
     "name": "stderr",
     "output_type": "stream",
     "text": [
      "\r",
      "  8%|████████████▏                                                                                                                                                     | 75/1000 [32:34<6:20:16, 24.67s/it]"
     ]
    },
    {
     "name": "stdout",
     "output_type": "stream",
     "text": [
      "eigenvalues shape torch.Size([5]) eigenvectors shape torch.Size([5, 450])\n",
      "75 /home/phdcs2/Hard_Disk/Datasets/Deep-Spectral-Segmentation/data/object-segmentation/ECSSD/features/dino_vits16/0076.pth\n",
      "dict_keys(['k', 'indices', 'file', 'id', 'model_name', 'patch_size', 'shape'])\n",
      "0076\n",
      "Starting Training\n",
      "epoch: 00, loss: -0.03750\n",
      "epoch: 01, loss: -0.06072\n",
      "epoch: 02, loss: -0.06222\n",
      "epoch: 03, loss: -0.06238\n",
      "epoch: 04, loss: -0.06265\n",
      "epoch: 05, loss: -0.06270\n",
      "epoch: 06, loss: -0.06290\n",
      "epoch: 07, loss: -0.06313\n",
      "epoch: 08, loss: -0.06327\n",
      "epoch: 09, loss: -0.06321\n",
      "torch.Size([400, 64])\n"
     ]
    },
    {
     "name": "stderr",
     "output_type": "stream",
     "text": [
      "\r",
      "  8%|████████████▎                                                                                                                                                     | 76/1000 [33:01<6:30:09, 25.34s/it]"
     ]
    },
    {
     "name": "stdout",
     "output_type": "stream",
     "text": [
      "eigenvalues shape torch.Size([5]) eigenvectors shape torch.Size([5, 400])\n",
      "76 /home/phdcs2/Hard_Disk/Datasets/Deep-Spectral-Segmentation/data/object-segmentation/ECSSD/features/dino_vits16/0077.pth\n",
      "dict_keys(['k', 'indices', 'file', 'id', 'model_name', 'patch_size', 'shape'])\n",
      "0077\n",
      "Starting Training\n",
      "epoch: 00, loss: -0.04520\n",
      "epoch: 01, loss: -0.06818\n",
      "epoch: 02, loss: -0.06936\n",
      "epoch: 03, loss: -0.06963\n",
      "epoch: 04, loss: -0.06975\n",
      "epoch: 05, loss: -0.07001\n",
      "epoch: 06, loss: -0.07026\n",
      "epoch: 07, loss: -0.07025\n",
      "epoch: 08, loss: -0.07043\n",
      "epoch: 09, loss: -0.07040\n",
      "torch.Size([450, 64])\n"
     ]
    },
    {
     "name": "stderr",
     "output_type": "stream",
     "text": [
      "\r",
      "  8%|████████████▍                                                                                                                                                     | 77/1000 [33:27<6:32:50, 25.54s/it]"
     ]
    },
    {
     "name": "stdout",
     "output_type": "stream",
     "text": [
      "eigenvalues shape torch.Size([5]) eigenvectors shape torch.Size([5, 450])\n",
      "77 /home/phdcs2/Hard_Disk/Datasets/Deep-Spectral-Segmentation/data/object-segmentation/ECSSD/features/dino_vits16/0078.pth\n",
      "dict_keys(['k', 'indices', 'file', 'id', 'model_name', 'patch_size', 'shape'])\n",
      "0078\n",
      "Starting Training\n",
      "epoch: 00, loss: -0.07316\n",
      "epoch: 01, loss: -0.10692\n",
      "epoch: 02, loss: -0.11486\n",
      "epoch: 03, loss: -0.11416\n",
      "epoch: 04, loss: -0.11611\n",
      "epoch: 05, loss: -0.11754\n",
      "epoch: 06, loss: -0.11800\n",
      "epoch: 07, loss: -0.11604\n",
      "epoch: 08, loss: -0.11663\n",
      "epoch: 09, loss: -0.11990\n",
      "torch.Size([400, 64])\n"
     ]
    },
    {
     "name": "stderr",
     "output_type": "stream",
     "text": [
      "\r",
      "  8%|████████████▋                                                                                                                                                     | 78/1000 [33:53<6:33:00, 25.57s/it]"
     ]
    },
    {
     "name": "stdout",
     "output_type": "stream",
     "text": [
      "eigenvalues shape torch.Size([5]) eigenvectors shape torch.Size([5, 400])\n",
      "78 /home/phdcs2/Hard_Disk/Datasets/Deep-Spectral-Segmentation/data/object-segmentation/ECSSD/features/dino_vits16/0079.pth\n",
      "dict_keys(['k', 'indices', 'file', 'id', 'model_name', 'patch_size', 'shape'])\n",
      "0079\n",
      "Starting Training\n",
      "epoch: 00, loss: -0.05696\n",
      "epoch: 01, loss: -0.07703\n",
      "epoch: 02, loss: -0.07810\n",
      "epoch: 03, loss: -0.07858\n",
      "epoch: 04, loss: -0.08098\n",
      "epoch: 05, loss: -0.07997\n",
      "epoch: 06, loss: -0.08331\n",
      "epoch: 07, loss: -0.08079\n",
      "epoch: 08, loss: -0.08250\n",
      "epoch: 09, loss: -0.08192\n",
      "torch.Size([525, 64])\n"
     ]
    },
    {
     "name": "stderr",
     "output_type": "stream",
     "text": [
      "\r",
      "  8%|████████████▊                                                                                                                                                     | 79/1000 [34:37<7:56:01, 31.01s/it]"
     ]
    },
    {
     "name": "stdout",
     "output_type": "stream",
     "text": [
      "eigenvalues shape torch.Size([5]) eigenvectors shape torch.Size([5, 525])\n",
      "79 /home/phdcs2/Hard_Disk/Datasets/Deep-Spectral-Segmentation/data/object-segmentation/ECSSD/features/dino_vits16/0080.pth\n",
      "dict_keys(['k', 'indices', 'file', 'id', 'model_name', 'patch_size', 'shape'])\n",
      "0080\n",
      "Starting Training\n",
      "epoch: 00, loss: -0.01222\n",
      "epoch: 01, loss: -0.04604\n",
      "epoch: 02, loss: -0.05177\n",
      "epoch: 03, loss: -0.05400\n",
      "epoch: 04, loss: -0.05461\n",
      "epoch: 05, loss: -0.05472\n",
      "epoch: 06, loss: -0.05539\n",
      "epoch: 07, loss: -0.05667\n",
      "epoch: 08, loss: -0.05711\n",
      "epoch: 09, loss: -0.05813\n",
      "torch.Size([450, 64])\n"
     ]
    },
    {
     "name": "stderr",
     "output_type": "stream",
     "text": [
      "\r",
      "  8%|████████████▉                                                                                                                                                     | 80/1000 [35:00<7:20:05, 28.70s/it]"
     ]
    },
    {
     "name": "stdout",
     "output_type": "stream",
     "text": [
      "eigenvalues shape torch.Size([5]) eigenvectors shape torch.Size([5, 450])\n",
      "80 /home/phdcs2/Hard_Disk/Datasets/Deep-Spectral-Segmentation/data/object-segmentation/ECSSD/features/dino_vits16/0081.pth\n",
      "dict_keys(['k', 'indices', 'file', 'id', 'model_name', 'patch_size', 'shape'])\n",
      "0081\n",
      "Starting Training\n",
      "epoch: 00, loss: -0.06095\n",
      "epoch: 01, loss: -0.08478\n",
      "epoch: 02, loss: -0.08848\n",
      "epoch: 03, loss: -0.08711\n",
      "epoch: 04, loss: -0.08746\n",
      "epoch: 05, loss: -0.08863\n",
      "epoch: 06, loss: -0.09015\n",
      "epoch: 07, loss: -0.08997\n",
      "epoch: 08, loss: -0.08821\n",
      "epoch: 09, loss: -0.08940\n",
      "torch.Size([450, 64])\n"
     ]
    },
    {
     "name": "stderr",
     "output_type": "stream",
     "text": [
      "\r",
      "  8%|█████████████                                                                                                                                                     | 81/1000 [35:24<6:56:14, 27.18s/it]"
     ]
    },
    {
     "name": "stdout",
     "output_type": "stream",
     "text": [
      "eigenvalues shape torch.Size([5]) eigenvectors shape torch.Size([5, 450])\n",
      "81 /home/phdcs2/Hard_Disk/Datasets/Deep-Spectral-Segmentation/data/object-segmentation/ECSSD/features/dino_vits16/0082.pth\n",
      "dict_keys(['k', 'indices', 'file', 'id', 'model_name', 'patch_size', 'shape'])\n",
      "0082\n",
      "Starting Training\n",
      "epoch: 00, loss: -0.01844\n",
      "epoch: 01, loss: -0.04857\n",
      "epoch: 02, loss: -0.05493\n",
      "epoch: 03, loss: -0.05740\n",
      "epoch: 04, loss: -0.06052\n",
      "epoch: 05, loss: -0.05993\n",
      "epoch: 06, loss: -0.06149\n",
      "epoch: 07, loss: -0.06064\n",
      "epoch: 08, loss: -0.06210\n",
      "epoch: 09, loss: -0.06547\n",
      "torch.Size([450, 64])\n"
     ]
    },
    {
     "name": "stderr",
     "output_type": "stream",
     "text": [
      "\r",
      "  8%|█████████████▎                                                                                                                                                    | 82/1000 [35:51<6:54:49, 27.11s/it]"
     ]
    },
    {
     "name": "stdout",
     "output_type": "stream",
     "text": [
      "eigenvalues shape torch.Size([5]) eigenvectors shape torch.Size([5, 450])\n",
      "82 /home/phdcs2/Hard_Disk/Datasets/Deep-Spectral-Segmentation/data/object-segmentation/ECSSD/features/dino_vits16/0083.pth\n",
      "dict_keys(['k', 'indices', 'file', 'id', 'model_name', 'patch_size', 'shape'])\n",
      "0083\n",
      "Starting Training\n",
      "epoch: 00, loss: -0.02894\n",
      "epoch: 01, loss: -0.05097\n",
      "epoch: 02, loss: -0.05262\n",
      "epoch: 03, loss: -0.05270\n",
      "epoch: 04, loss: -0.05308\n",
      "epoch: 05, loss: -0.05335\n",
      "epoch: 06, loss: -0.05353\n",
      "epoch: 07, loss: -0.05373\n",
      "epoch: 08, loss: -0.05374\n",
      "epoch: 09, loss: -0.05392\n",
      "torch.Size([450, 64])\n"
     ]
    },
    {
     "name": "stderr",
     "output_type": "stream",
     "text": [
      "\r",
      "  8%|█████████████▍                                                                                                                                                    | 83/1000 [36:15<6:40:55, 26.23s/it]"
     ]
    },
    {
     "name": "stdout",
     "output_type": "stream",
     "text": [
      "eigenvalues shape torch.Size([5]) eigenvectors shape torch.Size([5, 450])\n",
      "83 /home/phdcs2/Hard_Disk/Datasets/Deep-Spectral-Segmentation/data/object-segmentation/ECSSD/features/dino_vits16/0084.pth\n",
      "dict_keys(['k', 'indices', 'file', 'id', 'model_name', 'patch_size', 'shape'])\n",
      "0084\n",
      "Starting Training\n",
      "epoch: 00, loss: -0.01284\n",
      "epoch: 01, loss: -0.03972\n",
      "epoch: 02, loss: -0.04269\n",
      "epoch: 03, loss: -0.04380\n",
      "epoch: 04, loss: -0.04381\n",
      "epoch: 05, loss: -0.04421\n",
      "epoch: 06, loss: -0.04436\n",
      "epoch: 07, loss: -0.04452\n",
      "epoch: 08, loss: -0.04452\n",
      "epoch: 09, loss: -0.04483\n",
      "torch.Size([450, 64])\n"
     ]
    },
    {
     "name": "stderr",
     "output_type": "stream",
     "text": [
      "\r",
      "  8%|█████████████▌                                                                                                                                                    | 84/1000 [36:36<6:18:23, 24.79s/it]"
     ]
    },
    {
     "name": "stdout",
     "output_type": "stream",
     "text": [
      "eigenvalues shape torch.Size([5]) eigenvectors shape torch.Size([5, 450])\n",
      "84 /home/phdcs2/Hard_Disk/Datasets/Deep-Spectral-Segmentation/data/object-segmentation/ECSSD/features/dino_vits16/0085.pth\n",
      "dict_keys(['k', 'indices', 'file', 'id', 'model_name', 'patch_size', 'shape'])\n",
      "0085\n",
      "Starting Training\n",
      "epoch: 00, loss: -0.00630\n",
      "epoch: 01, loss: -0.02675\n",
      "epoch: 02, loss: -0.03114\n",
      "epoch: 03, loss: -0.03201\n",
      "epoch: 04, loss: -0.03279\n",
      "epoch: 05, loss: -0.03311\n",
      "epoch: 06, loss: -0.03323\n",
      "epoch: 07, loss: -0.03334\n",
      "epoch: 08, loss: -0.03354\n",
      "epoch: 09, loss: -0.03365\n",
      "torch.Size([450, 64])\n"
     ]
    },
    {
     "name": "stderr",
     "output_type": "stream",
     "text": [
      "\r",
      "  8%|█████████████▊                                                                                                                                                    | 85/1000 [36:59<6:08:54, 24.19s/it]"
     ]
    },
    {
     "name": "stdout",
     "output_type": "stream",
     "text": [
      "eigenvalues shape torch.Size([5]) eigenvectors shape torch.Size([5, 450])\n",
      "85 /home/phdcs2/Hard_Disk/Datasets/Deep-Spectral-Segmentation/data/object-segmentation/ECSSD/features/dino_vits16/0086.pth\n",
      "dict_keys(['k', 'indices', 'file', 'id', 'model_name', 'patch_size', 'shape'])\n",
      "0086\n",
      "Starting Training\n",
      "epoch: 00, loss: -0.04676\n",
      "epoch: 01, loss: -0.06865\n",
      "epoch: 02, loss: -0.07127\n",
      "epoch: 03, loss: -0.07194\n",
      "epoch: 04, loss: -0.07480\n",
      "epoch: 05, loss: -0.07586\n",
      "epoch: 06, loss: -0.07587\n",
      "epoch: 07, loss: -0.07403\n",
      "epoch: 08, loss: -0.07652\n",
      "epoch: 09, loss: -0.07543\n",
      "torch.Size([450, 64])\n"
     ]
    },
    {
     "name": "stderr",
     "output_type": "stream",
     "text": [
      "\r",
      "  9%|█████████████▉                                                                                                                                                    | 86/1000 [37:23<6:08:46, 24.21s/it]"
     ]
    },
    {
     "name": "stdout",
     "output_type": "stream",
     "text": [
      "eigenvalues shape torch.Size([5]) eigenvectors shape torch.Size([5, 450])\n",
      "86 /home/phdcs2/Hard_Disk/Datasets/Deep-Spectral-Segmentation/data/object-segmentation/ECSSD/features/dino_vits16/0087.pth\n",
      "dict_keys(['k', 'indices', 'file', 'id', 'model_name', 'patch_size', 'shape'])\n",
      "0087\n",
      "Starting Training\n",
      "epoch: 00, loss: -0.08409\n",
      "epoch: 01, loss: -0.10238\n",
      "epoch: 02, loss: -0.10154\n",
      "epoch: 03, loss: -0.10236\n",
      "epoch: 04, loss: -0.10236\n",
      "epoch: 05, loss: -0.10284\n",
      "epoch: 06, loss: -0.10282\n",
      "epoch: 07, loss: -0.10302\n",
      "epoch: 08, loss: -0.10303\n",
      "epoch: 09, loss: -0.10307\n",
      "torch.Size([450, 64])\n"
     ]
    },
    {
     "name": "stderr",
     "output_type": "stream",
     "text": [
      "\r",
      "  9%|██████████████                                                                                                                                                    | 87/1000 [37:49<6:15:13, 24.66s/it]"
     ]
    },
    {
     "name": "stdout",
     "output_type": "stream",
     "text": [
      "eigenvalues shape torch.Size([5]) eigenvectors shape torch.Size([5, 450])\n",
      "87 /home/phdcs2/Hard_Disk/Datasets/Deep-Spectral-Segmentation/data/object-segmentation/ECSSD/features/dino_vits16/0088.pth\n",
      "dict_keys(['k', 'indices', 'file', 'id', 'model_name', 'patch_size', 'shape'])\n",
      "0088\n",
      "Starting Training\n",
      "epoch: 00, loss: -0.01656\n",
      "epoch: 01, loss: -0.04270\n",
      "epoch: 02, loss: -0.04985\n",
      "epoch: 03, loss: -0.05125\n",
      "epoch: 04, loss: -0.05061\n",
      "epoch: 05, loss: -0.05486\n",
      "epoch: 06, loss: -0.05424\n",
      "epoch: 07, loss: -0.05327\n",
      "epoch: 08, loss: -0.05447\n",
      "epoch: 09, loss: -0.05484\n",
      "torch.Size([450, 64])\n"
     ]
    },
    {
     "name": "stderr",
     "output_type": "stream",
     "text": [
      "\r",
      "  9%|██████████████▎                                                                                                                                                   | 88/1000 [38:15<6:20:38, 25.04s/it]"
     ]
    },
    {
     "name": "stdout",
     "output_type": "stream",
     "text": [
      "eigenvalues shape torch.Size([5]) eigenvectors shape torch.Size([5, 450])\n",
      "88 /home/phdcs2/Hard_Disk/Datasets/Deep-Spectral-Segmentation/data/object-segmentation/ECSSD/features/dino_vits16/0089.pth\n",
      "dict_keys(['k', 'indices', 'file', 'id', 'model_name', 'patch_size', 'shape'])\n",
      "0089\n",
      "Starting Training\n",
      "epoch: 00, loss: -0.04504\n",
      "epoch: 01, loss: -0.07699\n",
      "epoch: 02, loss: -0.07844\n",
      "epoch: 03, loss: -0.07852\n",
      "epoch: 04, loss: -0.07895\n",
      "epoch: 05, loss: -0.07899\n",
      "epoch: 06, loss: -0.07933\n",
      "epoch: 07, loss: -0.07944\n",
      "epoch: 08, loss: -0.07958\n",
      "epoch: 09, loss: -0.07977\n",
      "torch.Size([400, 64])\n"
     ]
    },
    {
     "name": "stderr",
     "output_type": "stream",
     "text": [
      "\r",
      "  9%|██████████████▍                                                                                                                                                   | 89/1000 [38:36<6:04:15, 23.99s/it]"
     ]
    },
    {
     "name": "stdout",
     "output_type": "stream",
     "text": [
      "eigenvalues shape torch.Size([5]) eigenvectors shape torch.Size([5, 400])\n",
      "89 /home/phdcs2/Hard_Disk/Datasets/Deep-Spectral-Segmentation/data/object-segmentation/ECSSD/features/dino_vits16/0090.pth\n",
      "dict_keys(['k', 'indices', 'file', 'id', 'model_name', 'patch_size', 'shape'])\n",
      "0090\n",
      "Starting Training\n",
      "epoch: 00, loss: -0.01874\n",
      "epoch: 01, loss: -0.03697\n",
      "epoch: 02, loss: -0.03973\n",
      "epoch: 03, loss: -0.04055\n",
      "epoch: 04, loss: -0.04108\n",
      "epoch: 05, loss: -0.04120\n",
      "epoch: 06, loss: -0.04134\n",
      "epoch: 07, loss: -0.04164\n",
      "epoch: 08, loss: -0.04165\n",
      "epoch: 09, loss: -0.04184\n",
      "torch.Size([400, 64])\n"
     ]
    },
    {
     "name": "stderr",
     "output_type": "stream",
     "text": [
      "\r",
      "  9%|██████████████▌                                                                                                                                                   | 90/1000 [38:59<5:59:34, 23.71s/it]"
     ]
    },
    {
     "name": "stdout",
     "output_type": "stream",
     "text": [
      "eigenvalues shape torch.Size([5]) eigenvectors shape torch.Size([5, 400])\n",
      "90 /home/phdcs2/Hard_Disk/Datasets/Deep-Spectral-Segmentation/data/object-segmentation/ECSSD/features/dino_vits16/0091.pth\n",
      "dict_keys(['k', 'indices', 'file', 'id', 'model_name', 'patch_size', 'shape'])\n",
      "0091\n",
      "Starting Training\n",
      "epoch: 00, loss: -0.01355\n",
      "epoch: 01, loss: -0.03093\n",
      "epoch: 02, loss: -0.03717\n",
      "epoch: 03, loss: -0.03804\n",
      "epoch: 04, loss: -0.04128\n",
      "epoch: 05, loss: -0.04060\n",
      "epoch: 06, loss: -0.04062\n",
      "epoch: 07, loss: -0.04300\n",
      "epoch: 08, loss: -0.04047\n",
      "epoch: 09, loss: -0.04127\n",
      "torch.Size([400, 64])\n"
     ]
    },
    {
     "name": "stderr",
     "output_type": "stream",
     "text": [
      "\r",
      "  9%|██████████████▋                                                                                                                                                   | 91/1000 [39:24<6:02:07, 23.90s/it]"
     ]
    },
    {
     "name": "stdout",
     "output_type": "stream",
     "text": [
      "eigenvalues shape torch.Size([5]) eigenvectors shape torch.Size([5, 400])\n",
      "91 /home/phdcs2/Hard_Disk/Datasets/Deep-Spectral-Segmentation/data/object-segmentation/ECSSD/features/dino_vits16/0092.pth\n",
      "dict_keys(['k', 'indices', 'file', 'id', 'model_name', 'patch_size', 'shape'])\n",
      "0092\n",
      "Starting Training\n",
      "epoch: 00, loss: -0.04438\n",
      "epoch: 01, loss: -0.08218\n",
      "epoch: 02, loss: -0.08839\n",
      "epoch: 03, loss: -0.09028\n",
      "epoch: 04, loss: -0.09282\n",
      "epoch: 05, loss: -0.08962\n",
      "epoch: 06, loss: -0.09274\n",
      "epoch: 07, loss: -0.09325\n",
      "epoch: 08, loss: -0.09365\n",
      "epoch: 09, loss: -0.09174\n",
      "torch.Size([400, 64])\n"
     ]
    },
    {
     "name": "stderr",
     "output_type": "stream",
     "text": [
      "\r",
      "  9%|██████████████▉                                                                                                                                                   | 92/1000 [39:51<6:17:36, 24.95s/it]"
     ]
    },
    {
     "name": "stdout",
     "output_type": "stream",
     "text": [
      "eigenvalues shape torch.Size([5]) eigenvectors shape torch.Size([5, 400])\n",
      "92 /home/phdcs2/Hard_Disk/Datasets/Deep-Spectral-Segmentation/data/object-segmentation/ECSSD/features/dino_vits16/0093.pth\n",
      "dict_keys(['k', 'indices', 'file', 'id', 'model_name', 'patch_size', 'shape'])\n",
      "0093\n",
      "Starting Training\n",
      "epoch: 00, loss: -0.02596\n",
      "epoch: 01, loss: -0.04916\n",
      "epoch: 02, loss: -0.05432\n",
      "epoch: 03, loss: -0.05511\n",
      "epoch: 04, loss: -0.05477\n",
      "epoch: 05, loss: -0.05625\n",
      "epoch: 06, loss: -0.05545\n",
      "epoch: 07, loss: -0.05913\n",
      "epoch: 08, loss: -0.05775\n",
      "epoch: 09, loss: -0.06152\n",
      "torch.Size([400, 64])\n"
     ]
    },
    {
     "name": "stderr",
     "output_type": "stream",
     "text": [
      "\r",
      "  9%|███████████████                                                                                                                                                   | 93/1000 [40:16<6:18:23, 25.03s/it]"
     ]
    },
    {
     "name": "stdout",
     "output_type": "stream",
     "text": [
      "eigenvalues shape torch.Size([5]) eigenvectors shape torch.Size([5, 400])\n",
      "93 /home/phdcs2/Hard_Disk/Datasets/Deep-Spectral-Segmentation/data/object-segmentation/ECSSD/features/dino_vits16/0094.pth\n",
      "dict_keys(['k', 'indices', 'file', 'id', 'model_name', 'patch_size', 'shape'])\n",
      "0094\n",
      "Starting Training\n",
      "epoch: 00, loss: -0.01980\n",
      "epoch: 01, loss: -0.04081\n",
      "epoch: 02, loss: -0.04352\n",
      "epoch: 03, loss: -0.04422\n",
      "epoch: 04, loss: -0.04441\n",
      "epoch: 05, loss: -0.04474\n",
      "epoch: 06, loss: -0.04490\n",
      "epoch: 07, loss: -0.04513\n",
      "epoch: 08, loss: -0.04516\n",
      "epoch: 09, loss: -0.04526\n",
      "torch.Size([400, 64])\n"
     ]
    },
    {
     "name": "stderr",
     "output_type": "stream",
     "text": [
      "\r",
      "  9%|███████████████▏                                                                                                                                                  | 94/1000 [40:38<6:02:38, 24.02s/it]"
     ]
    },
    {
     "name": "stdout",
     "output_type": "stream",
     "text": [
      "eigenvalues shape torch.Size([5]) eigenvectors shape torch.Size([5, 400])\n",
      "94 /home/phdcs2/Hard_Disk/Datasets/Deep-Spectral-Segmentation/data/object-segmentation/ECSSD/features/dino_vits16/0095.pth\n",
      "dict_keys(['k', 'indices', 'file', 'id', 'model_name', 'patch_size', 'shape'])\n",
      "0095\n",
      "Starting Training\n",
      "epoch: 00, loss: -0.00177\n",
      "epoch: 01, loss: -0.01874\n",
      "epoch: 02, loss: -0.02665\n",
      "epoch: 03, loss: -0.02862\n",
      "epoch: 04, loss: -0.02928\n",
      "epoch: 05, loss: -0.02729\n",
      "epoch: 06, loss: -0.03162\n",
      "epoch: 07, loss: -0.03233\n",
      "epoch: 08, loss: -0.03249\n",
      "epoch: 09, loss: -0.03410\n",
      "torch.Size([400, 64])\n"
     ]
    },
    {
     "name": "stderr",
     "output_type": "stream",
     "text": [
      "\r",
      " 10%|███████████████▍                                                                                                                                                  | 95/1000 [41:00<5:53:44, 23.45s/it]"
     ]
    },
    {
     "name": "stdout",
     "output_type": "stream",
     "text": [
      "eigenvalues shape torch.Size([5]) eigenvectors shape torch.Size([5, 400])\n",
      "95 /home/phdcs2/Hard_Disk/Datasets/Deep-Spectral-Segmentation/data/object-segmentation/ECSSD/features/dino_vits16/0096.pth\n",
      "dict_keys(['k', 'indices', 'file', 'id', 'model_name', 'patch_size', 'shape'])\n",
      "0096\n",
      "Starting Training\n",
      "epoch: 00, loss: -0.01902\n",
      "epoch: 01, loss: -0.04705\n",
      "epoch: 02, loss: -0.05234\n",
      "epoch: 03, loss: -0.05570\n",
      "epoch: 04, loss: -0.05779\n",
      "epoch: 05, loss: -0.05708\n",
      "epoch: 06, loss: -0.05663\n",
      "epoch: 07, loss: -0.05921\n",
      "epoch: 08, loss: -0.05941\n",
      "epoch: 09, loss: -0.05797\n",
      "torch.Size([400, 64])\n"
     ]
    },
    {
     "name": "stderr",
     "output_type": "stream",
     "text": [
      "\r",
      " 10%|███████████████▌                                                                                                                                                  | 96/1000 [41:23<5:51:39, 23.34s/it]"
     ]
    },
    {
     "name": "stdout",
     "output_type": "stream",
     "text": [
      "eigenvalues shape torch.Size([5]) eigenvectors shape torch.Size([5, 400])\n",
      "96 /home/phdcs2/Hard_Disk/Datasets/Deep-Spectral-Segmentation/data/object-segmentation/ECSSD/features/dino_vits16/0097.pth\n",
      "dict_keys(['k', 'indices', 'file', 'id', 'model_name', 'patch_size', 'shape'])\n",
      "0097\n",
      "Starting Training\n",
      "epoch: 00, loss: -0.02605\n",
      "epoch: 01, loss: -0.05056\n",
      "epoch: 02, loss: -0.05196\n",
      "epoch: 03, loss: -0.05398\n",
      "epoch: 04, loss: -0.05277\n",
      "epoch: 05, loss: -0.05321\n",
      "epoch: 06, loss: -0.05428\n",
      "epoch: 07, loss: -0.05428\n",
      "epoch: 08, loss: -0.05505\n",
      "epoch: 09, loss: -0.05474\n",
      "torch.Size([400, 64])\n"
     ]
    },
    {
     "name": "stderr",
     "output_type": "stream",
     "text": [
      "\r",
      " 10%|███████████████▋                                                                                                                                                  | 97/1000 [41:48<5:59:00, 23.85s/it]"
     ]
    },
    {
     "name": "stdout",
     "output_type": "stream",
     "text": [
      "eigenvalues shape torch.Size([5]) eigenvectors shape torch.Size([5, 400])\n",
      "97 /home/phdcs2/Hard_Disk/Datasets/Deep-Spectral-Segmentation/data/object-segmentation/ECSSD/features/dino_vits16/0098.pth\n",
      "dict_keys(['k', 'indices', 'file', 'id', 'model_name', 'patch_size', 'shape'])\n",
      "0098\n",
      "Starting Training\n",
      "epoch: 00, loss: -0.05801\n",
      "epoch: 01, loss: -0.09936\n",
      "epoch: 02, loss: -0.10564\n",
      "epoch: 03, loss: -0.10872\n",
      "epoch: 04, loss: -0.10496\n",
      "epoch: 05, loss: -0.10815\n",
      "epoch: 06, loss: -0.10813\n",
      "epoch: 07, loss: -0.11127\n",
      "epoch: 08, loss: -0.10918\n",
      "epoch: 09, loss: -0.10950\n",
      "torch.Size([400, 64])\n"
     ]
    },
    {
     "name": "stderr",
     "output_type": "stream",
     "text": [
      "\r",
      " 10%|███████████████▉                                                                                                                                                  | 98/1000 [42:12<5:56:16, 23.70s/it]"
     ]
    },
    {
     "name": "stdout",
     "output_type": "stream",
     "text": [
      "eigenvalues shape torch.Size([5]) eigenvectors shape torch.Size([5, 400])\n",
      "98 /home/phdcs2/Hard_Disk/Datasets/Deep-Spectral-Segmentation/data/object-segmentation/ECSSD/features/dino_vits16/0099.pth\n",
      "dict_keys(['k', 'indices', 'file', 'id', 'model_name', 'patch_size', 'shape'])\n",
      "0099\n",
      "Starting Training\n",
      "epoch: 00, loss: -0.01765\n",
      "epoch: 01, loss: -0.04185\n",
      "epoch: 02, loss: -0.04266\n",
      "epoch: 03, loss: -0.04612\n",
      "epoch: 04, loss: -0.05093\n",
      "epoch: 05, loss: -0.04921\n",
      "epoch: 06, loss: -0.05074\n",
      "epoch: 07, loss: -0.05593\n",
      "epoch: 08, loss: -0.05184\n",
      "epoch: 09, loss: -0.05496\n",
      "torch.Size([400, 64])\n"
     ]
    },
    {
     "name": "stderr",
     "output_type": "stream",
     "text": [
      "\r",
      " 10%|████████████████                                                                                                                                                  | 99/1000 [42:33<5:45:34, 23.01s/it]"
     ]
    },
    {
     "name": "stdout",
     "output_type": "stream",
     "text": [
      "eigenvalues shape torch.Size([5]) eigenvectors shape torch.Size([5, 400])\n",
      "99 /home/phdcs2/Hard_Disk/Datasets/Deep-Spectral-Segmentation/data/object-segmentation/ECSSD/features/dino_vits16/0100.pth\n",
      "dict_keys(['k', 'indices', 'file', 'id', 'model_name', 'patch_size', 'shape'])\n",
      "0100\n",
      "Starting Training\n",
      "epoch: 00, loss: -0.01604\n",
      "epoch: 01, loss: -0.03221\n",
      "epoch: 02, loss: -0.03784\n",
      "epoch: 03, loss: -0.03729\n",
      "epoch: 04, loss: -0.04081\n",
      "epoch: 05, loss: -0.03828\n",
      "epoch: 06, loss: -0.04510\n",
      "epoch: 07, loss: -0.04124\n",
      "epoch: 08, loss: -0.04478\n",
      "epoch: 09, loss: -0.04520\n",
      "torch.Size([400, 64])\n"
     ]
    },
    {
     "name": "stderr",
     "output_type": "stream",
     "text": [
      "\r",
      " 10%|████████████████                                                                                                                                                 | 100/1000 [42:54<5:34:39, 22.31s/it]"
     ]
    },
    {
     "name": "stdout",
     "output_type": "stream",
     "text": [
      "eigenvalues shape torch.Size([5]) eigenvectors shape torch.Size([5, 400])\n",
      "100 /home/phdcs2/Hard_Disk/Datasets/Deep-Spectral-Segmentation/data/object-segmentation/ECSSD/features/dino_vits16/0101.pth\n",
      "dict_keys(['k', 'indices', 'file', 'id', 'model_name', 'patch_size', 'shape'])\n",
      "0101\n",
      "Starting Training\n",
      "epoch: 00, loss: -0.03889\n",
      "epoch: 01, loss: -0.05665\n",
      "epoch: 02, loss: -0.05809\n",
      "epoch: 03, loss: -0.05859\n",
      "epoch: 04, loss: -0.05887\n",
      "epoch: 05, loss: -0.05920\n",
      "epoch: 06, loss: -0.05933\n",
      "epoch: 07, loss: -0.05957\n",
      "epoch: 08, loss: -0.05961\n",
      "epoch: 09, loss: -0.05990\n",
      "torch.Size([400, 64])\n"
     ]
    },
    {
     "name": "stderr",
     "output_type": "stream",
     "text": [
      "\r",
      " 10%|████████████████▎                                                                                                                                                | 101/1000 [43:20<5:49:43, 23.34s/it]"
     ]
    },
    {
     "name": "stdout",
     "output_type": "stream",
     "text": [
      "eigenvalues shape torch.Size([5]) eigenvectors shape torch.Size([5, 400])\n",
      "101 /home/phdcs2/Hard_Disk/Datasets/Deep-Spectral-Segmentation/data/object-segmentation/ECSSD/features/dino_vits16/0102.pth\n",
      "dict_keys(['k', 'indices', 'file', 'id', 'model_name', 'patch_size', 'shape'])\n",
      "0102\n",
      "Starting Training\n",
      "epoch: 00, loss: -0.01279\n",
      "epoch: 01, loss: -0.03868\n",
      "epoch: 02, loss: -0.04284\n",
      "epoch: 03, loss: -0.04376\n",
      "epoch: 04, loss: -0.04448\n",
      "epoch: 05, loss: -0.04443\n",
      "epoch: 06, loss: -0.04470\n",
      "epoch: 07, loss: -0.04493\n",
      "epoch: 08, loss: -0.04497\n",
      "epoch: 09, loss: -0.04508\n",
      "torch.Size([400, 64])\n"
     ]
    },
    {
     "name": "stderr",
     "output_type": "stream",
     "text": [
      "\r",
      " 10%|████████████████▍                                                                                                                                                | 102/1000 [43:43<5:49:24, 23.35s/it]"
     ]
    },
    {
     "name": "stdout",
     "output_type": "stream",
     "text": [
      "eigenvalues shape torch.Size([5]) eigenvectors shape torch.Size([5, 400])\n",
      "102 /home/phdcs2/Hard_Disk/Datasets/Deep-Spectral-Segmentation/data/object-segmentation/ECSSD/features/dino_vits16/0103.pth\n",
      "dict_keys(['k', 'indices', 'file', 'id', 'model_name', 'patch_size', 'shape'])\n",
      "0103\n",
      "Starting Training\n",
      "epoch: 00, loss: -0.02791\n",
      "epoch: 01, loss: -0.04940\n",
      "epoch: 02, loss: -0.05173\n",
      "epoch: 03, loss: -0.05208\n",
      "epoch: 04, loss: -0.05230\n",
      "epoch: 05, loss: -0.05254\n",
      "epoch: 06, loss: -0.05277\n",
      "epoch: 07, loss: -0.05292\n",
      "epoch: 08, loss: -0.05296\n",
      "epoch: 09, loss: -0.05312\n",
      "torch.Size([400, 64])\n"
     ]
    },
    {
     "name": "stderr",
     "output_type": "stream",
     "text": [
      "\r",
      " 10%|████████████████▌                                                                                                                                                | 103/1000 [44:09<6:01:39, 24.19s/it]"
     ]
    },
    {
     "name": "stdout",
     "output_type": "stream",
     "text": [
      "eigenvalues shape torch.Size([5]) eigenvectors shape torch.Size([5, 400])\n",
      "103 /home/phdcs2/Hard_Disk/Datasets/Deep-Spectral-Segmentation/data/object-segmentation/ECSSD/features/dino_vits16/0104.pth\n",
      "dict_keys(['k', 'indices', 'file', 'id', 'model_name', 'patch_size', 'shape'])\n",
      "0104\n",
      "Starting Training\n",
      "epoch: 00, loss: -0.04215\n",
      "epoch: 01, loss: -0.07141\n",
      "epoch: 02, loss: -0.07422\n",
      "epoch: 03, loss: -0.07635\n",
      "epoch: 04, loss: -0.07784\n",
      "epoch: 05, loss: -0.07964\n",
      "epoch: 06, loss: -0.07965\n",
      "epoch: 07, loss: -0.07808\n",
      "epoch: 08, loss: -0.08111\n",
      "epoch: 09, loss: -0.08058\n",
      "torch.Size([400, 64])\n"
     ]
    },
    {
     "name": "stderr",
     "output_type": "stream",
     "text": [
      "\r",
      " 10%|████████████████▋                                                                                                                                                | 104/1000 [44:31<5:50:56, 23.50s/it]"
     ]
    },
    {
     "name": "stdout",
     "output_type": "stream",
     "text": [
      "eigenvalues shape torch.Size([5]) eigenvectors shape torch.Size([5, 400])\n",
      "104 /home/phdcs2/Hard_Disk/Datasets/Deep-Spectral-Segmentation/data/object-segmentation/ECSSD/features/dino_vits16/0105.pth\n",
      "dict_keys(['k', 'indices', 'file', 'id', 'model_name', 'patch_size', 'shape'])\n",
      "0105\n",
      "Starting Training\n",
      "epoch: 00, loss: -0.02051\n",
      "epoch: 01, loss: -0.04434\n",
      "epoch: 02, loss: -0.04700\n",
      "epoch: 03, loss: -0.04825\n",
      "epoch: 04, loss: -0.04829\n",
      "epoch: 05, loss: -0.04875\n",
      "epoch: 06, loss: -0.04847\n",
      "epoch: 07, loss: -0.04900\n",
      "epoch: 08, loss: -0.04920\n",
      "epoch: 09, loss: -0.04836\n",
      "torch.Size([400, 64])\n"
     ]
    },
    {
     "name": "stderr",
     "output_type": "stream",
     "text": [
      "\r",
      " 10%|████████████████▉                                                                                                                                                | 105/1000 [44:54<5:46:35, 23.24s/it]"
     ]
    },
    {
     "name": "stdout",
     "output_type": "stream",
     "text": [
      "eigenvalues shape torch.Size([5]) eigenvectors shape torch.Size([5, 400])\n",
      "105 /home/phdcs2/Hard_Disk/Datasets/Deep-Spectral-Segmentation/data/object-segmentation/ECSSD/features/dino_vits16/0106.pth\n",
      "dict_keys(['k', 'indices', 'file', 'id', 'model_name', 'patch_size', 'shape'])\n",
      "0106\n",
      "Starting Training\n",
      "epoch: 00, loss: -0.03252\n",
      "epoch: 01, loss: -0.06525\n",
      "epoch: 02, loss: -0.07061\n",
      "epoch: 03, loss: -0.07353\n",
      "epoch: 04, loss: -0.07339\n",
      "epoch: 05, loss: -0.07628\n",
      "epoch: 06, loss: -0.07620\n",
      "epoch: 07, loss: -0.07707\n",
      "epoch: 08, loss: -0.07664\n",
      "epoch: 09, loss: -0.07719\n",
      "torch.Size([400, 64])\n"
     ]
    },
    {
     "name": "stderr",
     "output_type": "stream",
     "text": [
      "\r",
      " 11%|█████████████████                                                                                                                                                | 106/1000 [45:18<5:51:41, 23.60s/it]"
     ]
    },
    {
     "name": "stdout",
     "output_type": "stream",
     "text": [
      "eigenvalues shape torch.Size([5]) eigenvectors shape torch.Size([5, 400])\n",
      "106 /home/phdcs2/Hard_Disk/Datasets/Deep-Spectral-Segmentation/data/object-segmentation/ECSSD/features/dino_vits16/0107.pth\n",
      "dict_keys(['k', 'indices', 'file', 'id', 'model_name', 'patch_size', 'shape'])\n",
      "0107\n",
      "Starting Training\n",
      "epoch: 00, loss: -0.00832\n",
      "epoch: 01, loss: -0.02988\n",
      "epoch: 02, loss: -0.03408\n",
      "epoch: 03, loss: -0.03543\n",
      "epoch: 04, loss: -0.03607\n",
      "epoch: 05, loss: -0.03635\n",
      "epoch: 06, loss: -0.03643\n",
      "epoch: 07, loss: -0.03649\n",
      "epoch: 08, loss: -0.03663\n",
      "epoch: 09, loss: -0.03687\n",
      "torch.Size([400, 64])\n"
     ]
    },
    {
     "name": "stderr",
     "output_type": "stream",
     "text": [
      "\r",
      " 11%|█████████████████▏                                                                                                                                               | 107/1000 [45:40<5:44:00, 23.11s/it]"
     ]
    },
    {
     "name": "stdout",
     "output_type": "stream",
     "text": [
      "eigenvalues shape torch.Size([5]) eigenvectors shape torch.Size([5, 400])\n",
      "107 /home/phdcs2/Hard_Disk/Datasets/Deep-Spectral-Segmentation/data/object-segmentation/ECSSD/features/dino_vits16/0108.pth\n",
      "dict_keys(['k', 'indices', 'file', 'id', 'model_name', 'patch_size', 'shape'])\n",
      "0108\n",
      "Starting Training\n",
      "epoch: 00, loss: -0.03314\n",
      "epoch: 01, loss: -0.06277\n",
      "epoch: 02, loss: -0.06625\n",
      "epoch: 03, loss: -0.06912\n",
      "epoch: 04, loss: -0.06929\n",
      "epoch: 05, loss: -0.06797\n",
      "epoch: 06, loss: -0.06912\n",
      "epoch: 07, loss: -0.07126\n",
      "epoch: 08, loss: -0.07015\n",
      "epoch: 09, loss: -0.07184\n",
      "torch.Size([400, 64])\n"
     ]
    },
    {
     "name": "stderr",
     "output_type": "stream",
     "text": [
      "\r",
      " 11%|█████████████████▍                                                                                                                                               | 108/1000 [46:02<5:38:46, 22.79s/it]"
     ]
    },
    {
     "name": "stdout",
     "output_type": "stream",
     "text": [
      "eigenvalues shape torch.Size([5]) eigenvectors shape torch.Size([5, 400])\n",
      "108 /home/phdcs2/Hard_Disk/Datasets/Deep-Spectral-Segmentation/data/object-segmentation/ECSSD/features/dino_vits16/0109.pth\n",
      "dict_keys(['k', 'indices', 'file', 'id', 'model_name', 'patch_size', 'shape'])\n",
      "0109\n",
      "Starting Training\n",
      "epoch: 00, loss: 0.00309\n",
      "epoch: 01, loss: -0.00532\n",
      "epoch: 02, loss: -0.00906\n",
      "epoch: 03, loss: -0.01138\n",
      "epoch: 04, loss: -0.01265\n",
      "epoch: 05, loss: -0.01359\n",
      "epoch: 06, loss: -0.01401\n",
      "epoch: 07, loss: -0.01437\n",
      "epoch: 08, loss: -0.01458\n",
      "epoch: 09, loss: -0.01491\n",
      "torch.Size([400, 64])\n"
     ]
    },
    {
     "name": "stderr",
     "output_type": "stream",
     "text": [
      "\r",
      " 11%|█████████████████▌                                                                                                                                               | 109/1000 [46:23<5:29:46, 22.21s/it]"
     ]
    },
    {
     "name": "stdout",
     "output_type": "stream",
     "text": [
      "eigenvalues shape torch.Size([5]) eigenvectors shape torch.Size([5, 400])\n",
      "109 /home/phdcs2/Hard_Disk/Datasets/Deep-Spectral-Segmentation/data/object-segmentation/ECSSD/features/dino_vits16/0110.pth\n",
      "dict_keys(['k', 'indices', 'file', 'id', 'model_name', 'patch_size', 'shape'])\n",
      "0110\n",
      "Starting Training\n",
      "epoch: 00, loss: -0.03245\n",
      "epoch: 01, loss: -0.05177\n",
      "epoch: 02, loss: -0.05713\n",
      "epoch: 03, loss: -0.06023\n",
      "epoch: 04, loss: -0.05927\n",
      "epoch: 05, loss: -0.06008\n",
      "epoch: 06, loss: -0.06076\n",
      "epoch: 07, loss: -0.06108\n",
      "epoch: 08, loss: -0.06227\n",
      "epoch: 09, loss: -0.06165\n",
      "torch.Size([400, 64])\n"
     ]
    },
    {
     "name": "stderr",
     "output_type": "stream",
     "text": [
      "\r",
      " 11%|█████████████████▋                                                                                                                                               | 110/1000 [46:43<5:19:19, 21.53s/it]"
     ]
    },
    {
     "name": "stdout",
     "output_type": "stream",
     "text": [
      "eigenvalues shape torch.Size([5]) eigenvectors shape torch.Size([5, 400])\n",
      "110 /home/phdcs2/Hard_Disk/Datasets/Deep-Spectral-Segmentation/data/object-segmentation/ECSSD/features/dino_vits16/0111.pth\n",
      "dict_keys(['k', 'indices', 'file', 'id', 'model_name', 'patch_size', 'shape'])\n",
      "0111\n",
      "Starting Training\n",
      "epoch: 00, loss: -0.02399\n",
      "epoch: 01, loss: -0.05144\n",
      "epoch: 02, loss: -0.05899\n",
      "epoch: 03, loss: -0.06087\n",
      "epoch: 04, loss: -0.06105\n",
      "epoch: 05, loss: -0.06262\n",
      "epoch: 06, loss: -0.06248\n",
      "epoch: 07, loss: -0.06497\n",
      "epoch: 08, loss: -0.06497\n",
      "epoch: 09, loss: -0.06269\n",
      "torch.Size([400, 64])\n"
     ]
    },
    {
     "name": "stderr",
     "output_type": "stream",
     "text": [
      "\r",
      " 11%|█████████████████▊                                                                                                                                               | 111/1000 [47:07<5:30:16, 22.29s/it]"
     ]
    },
    {
     "name": "stdout",
     "output_type": "stream",
     "text": [
      "eigenvalues shape torch.Size([5]) eigenvectors shape torch.Size([5, 400])\n",
      "111 /home/phdcs2/Hard_Disk/Datasets/Deep-Spectral-Segmentation/data/object-segmentation/ECSSD/features/dino_vits16/0112.pth\n",
      "dict_keys(['k', 'indices', 'file', 'id', 'model_name', 'patch_size', 'shape'])\n",
      "0112\n",
      "Starting Training\n",
      "epoch: 00, loss: -0.00708\n",
      "epoch: 01, loss: -0.03571\n",
      "epoch: 02, loss: -0.04274\n",
      "epoch: 03, loss: -0.04484\n",
      "epoch: 04, loss: -0.04775\n",
      "epoch: 05, loss: -0.04792\n",
      "epoch: 06, loss: -0.05012\n",
      "epoch: 07, loss: -0.05088\n",
      "epoch: 08, loss: -0.04764\n",
      "epoch: 09, loss: -0.04920\n",
      "torch.Size([400, 64])\n"
     ]
    },
    {
     "name": "stderr",
     "output_type": "stream",
     "text": [
      "\r",
      " 11%|██████████████████                                                                                                                                               | 112/1000 [47:30<5:33:29, 22.53s/it]"
     ]
    },
    {
     "name": "stdout",
     "output_type": "stream",
     "text": [
      "eigenvalues shape torch.Size([5]) eigenvectors shape torch.Size([5, 400])\n",
      "112 /home/phdcs2/Hard_Disk/Datasets/Deep-Spectral-Segmentation/data/object-segmentation/ECSSD/features/dino_vits16/0113.pth\n",
      "dict_keys(['k', 'indices', 'file', 'id', 'model_name', 'patch_size', 'shape'])\n",
      "0113\n",
      "Starting Training\n",
      "epoch: 00, loss: -0.01694\n",
      "epoch: 01, loss: -0.04610\n",
      "epoch: 02, loss: -0.05629\n",
      "epoch: 03, loss: -0.05486\n",
      "epoch: 04, loss: -0.05804\n",
      "epoch: 05, loss: -0.05818\n",
      "epoch: 06, loss: -0.05940\n",
      "epoch: 07, loss: -0.05653\n",
      "epoch: 08, loss: -0.05895\n",
      "epoch: 09, loss: -0.05957\n",
      "torch.Size([400, 64])\n"
     ]
    },
    {
     "name": "stderr",
     "output_type": "stream",
     "text": [
      "\r",
      " 11%|██████████████████▏                                                                                                                                              | 113/1000 [47:50<5:20:00, 21.65s/it]"
     ]
    },
    {
     "name": "stdout",
     "output_type": "stream",
     "text": [
      "eigenvalues shape torch.Size([5]) eigenvectors shape torch.Size([5, 400])\n",
      "113 /home/phdcs2/Hard_Disk/Datasets/Deep-Spectral-Segmentation/data/object-segmentation/ECSSD/features/dino_vits16/0114.pth\n",
      "dict_keys(['k', 'indices', 'file', 'id', 'model_name', 'patch_size', 'shape'])\n",
      "0114\n",
      "Starting Training\n",
      "epoch: 00, loss: -0.06071\n",
      "epoch: 01, loss: -0.09303\n",
      "epoch: 02, loss: -0.09941\n",
      "epoch: 03, loss: -0.10154\n",
      "epoch: 04, loss: -0.10193\n",
      "epoch: 05, loss: -0.10198\n",
      "epoch: 06, loss: -0.10424\n",
      "epoch: 07, loss: -0.10218\n",
      "epoch: 08, loss: -0.10550\n",
      "epoch: 09, loss: -0.10213\n",
      "torch.Size([400, 64])\n"
     ]
    },
    {
     "name": "stderr",
     "output_type": "stream",
     "text": [
      "\r",
      " 11%|██████████████████▎                                                                                                                                              | 114/1000 [48:16<5:42:25, 23.19s/it]"
     ]
    },
    {
     "name": "stdout",
     "output_type": "stream",
     "text": [
      "eigenvalues shape torch.Size([5]) eigenvectors shape torch.Size([5, 400])\n",
      "114 /home/phdcs2/Hard_Disk/Datasets/Deep-Spectral-Segmentation/data/object-segmentation/ECSSD/features/dino_vits16/0115.pth\n",
      "dict_keys(['k', 'indices', 'file', 'id', 'model_name', 'patch_size', 'shape'])\n",
      "0115\n",
      "Starting Training\n",
      "epoch: 00, loss: -0.08512\n",
      "epoch: 01, loss: -0.11045\n",
      "epoch: 02, loss: -0.11510\n",
      "epoch: 03, loss: -0.11815\n",
      "epoch: 04, loss: -0.11803\n",
      "epoch: 05, loss: -0.11872\n",
      "epoch: 06, loss: -0.12085\n",
      "epoch: 07, loss: -0.11955\n",
      "epoch: 08, loss: -0.11917\n",
      "epoch: 09, loss: -0.12155\n",
      "torch.Size([400, 64])\n"
     ]
    },
    {
     "name": "stderr",
     "output_type": "stream",
     "text": [
      "\r",
      " 12%|██████████████████▌                                                                                                                                              | 115/1000 [48:38<5:37:17, 22.87s/it]"
     ]
    },
    {
     "name": "stdout",
     "output_type": "stream",
     "text": [
      "eigenvalues shape torch.Size([5]) eigenvectors shape torch.Size([5, 400])\n",
      "115 /home/phdcs2/Hard_Disk/Datasets/Deep-Spectral-Segmentation/data/object-segmentation/ECSSD/features/dino_vits16/0116.pth\n",
      "dict_keys(['k', 'indices', 'file', 'id', 'model_name', 'patch_size', 'shape'])\n",
      "0116\n",
      "Starting Training\n",
      "epoch: 00, loss: -0.02386\n",
      "epoch: 01, loss: -0.04757\n",
      "epoch: 02, loss: -0.05512\n",
      "epoch: 03, loss: -0.05792\n",
      "epoch: 04, loss: -0.05978\n",
      "epoch: 05, loss: -0.06004\n",
      "epoch: 06, loss: -0.06001\n",
      "epoch: 07, loss: -0.06061\n",
      "epoch: 08, loss: -0.06106\n",
      "epoch: 09, loss: -0.06278\n",
      "torch.Size([400, 64])\n"
     ]
    },
    {
     "name": "stderr",
     "output_type": "stream",
     "text": [
      "\r",
      " 12%|██████████████████▋                                                                                                                                              | 116/1000 [49:00<5:28:59, 22.33s/it]"
     ]
    },
    {
     "name": "stdout",
     "output_type": "stream",
     "text": [
      "eigenvalues shape torch.Size([5]) eigenvectors shape torch.Size([5, 400])\n",
      "116 /home/phdcs2/Hard_Disk/Datasets/Deep-Spectral-Segmentation/data/object-segmentation/ECSSD/features/dino_vits16/0117.pth\n",
      "dict_keys(['k', 'indices', 'file', 'id', 'model_name', 'patch_size', 'shape'])\n",
      "0117\n",
      "Starting Training\n",
      "epoch: 00, loss: -0.03126\n",
      "epoch: 01, loss: -0.05814\n",
      "epoch: 02, loss: -0.06556\n",
      "epoch: 03, loss: -0.06376\n",
      "epoch: 04, loss: -0.06400\n",
      "epoch: 05, loss: -0.06512\n",
      "epoch: 06, loss: -0.06693\n",
      "epoch: 07, loss: -0.06673\n",
      "epoch: 08, loss: -0.06831\n",
      "epoch: 09, loss: -0.06835\n",
      "torch.Size([400, 64])\n"
     ]
    },
    {
     "name": "stderr",
     "output_type": "stream",
     "text": [
      "\r",
      " 12%|██████████████████▊                                                                                                                                              | 117/1000 [49:22<5:28:56, 22.35s/it]"
     ]
    },
    {
     "name": "stdout",
     "output_type": "stream",
     "text": [
      "eigenvalues shape torch.Size([5]) eigenvectors shape torch.Size([5, 400])\n",
      "117 /home/phdcs2/Hard_Disk/Datasets/Deep-Spectral-Segmentation/data/object-segmentation/ECSSD/features/dino_vits16/0118.pth\n",
      "dict_keys(['k', 'indices', 'file', 'id', 'model_name', 'patch_size', 'shape'])\n",
      "0118\n",
      "Starting Training\n",
      "epoch: 00, loss: -0.02710\n",
      "epoch: 01, loss: -0.04967\n",
      "epoch: 02, loss: -0.05287\n",
      "epoch: 03, loss: -0.05324\n",
      "epoch: 04, loss: -0.05452\n",
      "epoch: 05, loss: -0.05459\n",
      "epoch: 06, loss: -0.05434\n",
      "epoch: 07, loss: -0.05494\n",
      "epoch: 08, loss: -0.05444\n",
      "epoch: 09, loss: -0.05521\n",
      "torch.Size([400, 64])\n"
     ]
    },
    {
     "name": "stderr",
     "output_type": "stream",
     "text": [
      "\r",
      " 12%|██████████████████▉                                                                                                                                              | 118/1000 [49:46<5:38:03, 23.00s/it]"
     ]
    },
    {
     "name": "stdout",
     "output_type": "stream",
     "text": [
      "eigenvalues shape torch.Size([5]) eigenvectors shape torch.Size([5, 400])\n",
      "118 /home/phdcs2/Hard_Disk/Datasets/Deep-Spectral-Segmentation/data/object-segmentation/ECSSD/features/dino_vits16/0119.pth\n",
      "dict_keys(['k', 'indices', 'file', 'id', 'model_name', 'patch_size', 'shape'])\n",
      "0119\n",
      "Starting Training\n",
      "epoch: 00, loss: -0.07294\n",
      "epoch: 01, loss: -0.12005\n",
      "epoch: 02, loss: -0.12492\n",
      "epoch: 03, loss: -0.12683\n",
      "epoch: 04, loss: -0.12935\n",
      "epoch: 05, loss: -0.13069\n",
      "epoch: 06, loss: -0.13099\n",
      "epoch: 07, loss: -0.13188\n",
      "epoch: 08, loss: -0.13235\n",
      "epoch: 09, loss: -0.13051\n",
      "torch.Size([400, 64])\n"
     ]
    },
    {
     "name": "stderr",
     "output_type": "stream",
     "text": [
      "\r",
      " 12%|███████████████████▏                                                                                                                                             | 119/1000 [50:07<5:26:31, 22.24s/it]"
     ]
    },
    {
     "name": "stdout",
     "output_type": "stream",
     "text": [
      "eigenvalues shape torch.Size([5]) eigenvectors shape torch.Size([5, 400])\n",
      "119 /home/phdcs2/Hard_Disk/Datasets/Deep-Spectral-Segmentation/data/object-segmentation/ECSSD/features/dino_vits16/0120.pth\n",
      "dict_keys(['k', 'indices', 'file', 'id', 'model_name', 'patch_size', 'shape'])\n",
      "0120\n",
      "Starting Training\n",
      "epoch: 00, loss: -0.01843\n",
      "epoch: 01, loss: -0.03522\n",
      "epoch: 02, loss: -0.03765\n",
      "epoch: 03, loss: -0.03842\n",
      "epoch: 04, loss: -0.03849\n",
      "epoch: 05, loss: -0.03897\n",
      "epoch: 06, loss: -0.03923\n",
      "epoch: 07, loss: -0.03970\n",
      "epoch: 08, loss: -0.03936\n",
      "epoch: 09, loss: -0.03970\n",
      "torch.Size([400, 64])\n"
     ]
    },
    {
     "name": "stderr",
     "output_type": "stream",
     "text": [
      "\r",
      " 12%|███████████████████▎                                                                                                                                             | 120/1000 [50:31<5:34:11, 22.79s/it]"
     ]
    },
    {
     "name": "stdout",
     "output_type": "stream",
     "text": [
      "eigenvalues shape torch.Size([5]) eigenvectors shape torch.Size([5, 400])\n",
      "120 /home/phdcs2/Hard_Disk/Datasets/Deep-Spectral-Segmentation/data/object-segmentation/ECSSD/features/dino_vits16/0121.pth\n",
      "dict_keys(['k', 'indices', 'file', 'id', 'model_name', 'patch_size', 'shape'])\n",
      "0121\n",
      "Starting Training\n",
      "epoch: 00, loss: -0.03852\n",
      "epoch: 01, loss: -0.06222\n",
      "epoch: 02, loss: -0.06448\n",
      "epoch: 03, loss: -0.07025\n",
      "epoch: 04, loss: -0.07144\n",
      "epoch: 05, loss: -0.07234\n",
      "epoch: 06, loss: -0.07187\n",
      "epoch: 07, loss: -0.07298\n",
      "epoch: 08, loss: -0.07131\n",
      "epoch: 09, loss: -0.07285\n",
      "torch.Size([400, 64])\n"
     ]
    },
    {
     "name": "stderr",
     "output_type": "stream",
     "text": [
      "\r",
      " 12%|███████████████████▍                                                                                                                                             | 121/1000 [50:57<5:47:35, 23.73s/it]"
     ]
    },
    {
     "name": "stdout",
     "output_type": "stream",
     "text": [
      "eigenvalues shape torch.Size([5]) eigenvectors shape torch.Size([5, 400])\n",
      "121 /home/phdcs2/Hard_Disk/Datasets/Deep-Spectral-Segmentation/data/object-segmentation/ECSSD/features/dino_vits16/0122.pth\n",
      "dict_keys(['k', 'indices', 'file', 'id', 'model_name', 'patch_size', 'shape'])\n",
      "0122\n",
      "Starting Training\n",
      "epoch: 00, loss: -0.04799\n",
      "epoch: 01, loss: -0.08408\n",
      "epoch: 02, loss: -0.08635\n",
      "epoch: 03, loss: -0.09192\n",
      "epoch: 04, loss: -0.09233\n",
      "epoch: 05, loss: -0.09446\n",
      "epoch: 06, loss: -0.09251\n",
      "epoch: 07, loss: -0.09266\n",
      "epoch: 08, loss: -0.09335\n",
      "epoch: 09, loss: -0.09646\n",
      "torch.Size([400, 64])\n"
     ]
    },
    {
     "name": "stderr",
     "output_type": "stream",
     "text": [
      "\r",
      " 12%|███████████████████▋                                                                                                                                             | 122/1000 [51:24<6:00:33, 24.64s/it]"
     ]
    },
    {
     "name": "stdout",
     "output_type": "stream",
     "text": [
      "eigenvalues shape torch.Size([5]) eigenvectors shape torch.Size([5, 400])\n",
      "122 /home/phdcs2/Hard_Disk/Datasets/Deep-Spectral-Segmentation/data/object-segmentation/ECSSD/features/dino_vits16/0123.pth\n",
      "dict_keys(['k', 'indices', 'file', 'id', 'model_name', 'patch_size', 'shape'])\n",
      "0123\n",
      "Starting Training\n",
      "epoch: 00, loss: -0.06094\n",
      "epoch: 01, loss: -0.08757\n",
      "epoch: 02, loss: -0.09202\n",
      "epoch: 03, loss: -0.09648\n",
      "epoch: 04, loss: -0.09563\n",
      "epoch: 05, loss: -0.09779\n",
      "epoch: 06, loss: -0.09723\n",
      "epoch: 07, loss: -0.09783\n",
      "epoch: 08, loss: -0.09651\n",
      "epoch: 09, loss: -0.09876\n",
      "torch.Size([400, 64])\n"
     ]
    },
    {
     "name": "stderr",
     "output_type": "stream",
     "text": [
      "\r",
      " 12%|███████████████████▊                                                                                                                                             | 123/1000 [51:45<5:44:12, 23.55s/it]"
     ]
    },
    {
     "name": "stdout",
     "output_type": "stream",
     "text": [
      "eigenvalues shape torch.Size([5]) eigenvectors shape torch.Size([5, 400])\n",
      "123 /home/phdcs2/Hard_Disk/Datasets/Deep-Spectral-Segmentation/data/object-segmentation/ECSSD/features/dino_vits16/0124.pth\n",
      "dict_keys(['k', 'indices', 'file', 'id', 'model_name', 'patch_size', 'shape'])\n",
      "0124\n",
      "Starting Training\n",
      "epoch: 00, loss: -0.01569\n",
      "epoch: 01, loss: -0.03814\n",
      "epoch: 02, loss: -0.04480\n",
      "epoch: 03, loss: -0.04531\n",
      "epoch: 04, loss: -0.04558\n",
      "epoch: 05, loss: -0.04489\n",
      "epoch: 06, loss: -0.04570\n",
      "epoch: 07, loss: -0.04619\n",
      "epoch: 08, loss: -0.04526\n",
      "epoch: 09, loss: -0.04496\n",
      "torch.Size([400, 64])\n"
     ]
    },
    {
     "name": "stderr",
     "output_type": "stream",
     "text": [
      "\r",
      " 12%|███████████████████▉                                                                                                                                             | 124/1000 [52:05<5:30:09, 22.61s/it]"
     ]
    },
    {
     "name": "stdout",
     "output_type": "stream",
     "text": [
      "eigenvalues shape torch.Size([5]) eigenvectors shape torch.Size([5, 400])\n",
      "124 /home/phdcs2/Hard_Disk/Datasets/Deep-Spectral-Segmentation/data/object-segmentation/ECSSD/features/dino_vits16/0125.pth\n",
      "dict_keys(['k', 'indices', 'file', 'id', 'model_name', 'patch_size', 'shape'])\n",
      "0125\n",
      "Starting Training\n",
      "epoch: 00, loss: -0.02976\n",
      "epoch: 01, loss: -0.04830\n",
      "epoch: 02, loss: -0.05057\n",
      "epoch: 03, loss: -0.05101\n",
      "epoch: 04, loss: -0.05129\n",
      "epoch: 05, loss: -0.05144\n",
      "epoch: 06, loss: -0.05178\n",
      "epoch: 07, loss: -0.05190\n",
      "epoch: 08, loss: -0.05202\n",
      "epoch: 09, loss: -0.05204\n",
      "torch.Size([400, 64])\n"
     ]
    },
    {
     "name": "stderr",
     "output_type": "stream",
     "text": [
      "\r",
      " 12%|████████████████████▏                                                                                                                                            | 125/1000 [52:27<5:24:50, 22.28s/it]"
     ]
    },
    {
     "name": "stdout",
     "output_type": "stream",
     "text": [
      "eigenvalues shape torch.Size([5]) eigenvectors shape torch.Size([5, 400])\n",
      "125 /home/phdcs2/Hard_Disk/Datasets/Deep-Spectral-Segmentation/data/object-segmentation/ECSSD/features/dino_vits16/0126.pth\n",
      "dict_keys(['k', 'indices', 'file', 'id', 'model_name', 'patch_size', 'shape'])\n",
      "0126\n",
      "Starting Training\n",
      "epoch: 00, loss: -0.01808\n",
      "epoch: 01, loss: -0.04542\n",
      "epoch: 02, loss: -0.04577\n",
      "epoch: 03, loss: -0.05068\n",
      "epoch: 04, loss: -0.05146\n",
      "epoch: 05, loss: -0.05003\n",
      "epoch: 06, loss: -0.05461\n",
      "epoch: 07, loss: -0.05128\n",
      "epoch: 08, loss: -0.05469\n",
      "epoch: 09, loss: -0.05264\n",
      "torch.Size([400, 64])\n"
     ]
    },
    {
     "name": "stderr",
     "output_type": "stream",
     "text": [
      "\r",
      " 13%|████████████████████▎                                                                                                                                            | 126/1000 [52:49<5:25:55, 22.37s/it]"
     ]
    },
    {
     "name": "stdout",
     "output_type": "stream",
     "text": [
      "eigenvalues shape torch.Size([5]) eigenvectors shape torch.Size([5, 400])\n",
      "126 /home/phdcs2/Hard_Disk/Datasets/Deep-Spectral-Segmentation/data/object-segmentation/ECSSD/features/dino_vits16/0127.pth\n",
      "dict_keys(['k', 'indices', 'file', 'id', 'model_name', 'patch_size', 'shape'])\n",
      "0127\n",
      "Starting Training\n",
      "epoch: 00, loss: -0.03400\n",
      "epoch: 01, loss: -0.05958\n",
      "epoch: 02, loss: -0.06135\n",
      "epoch: 03, loss: -0.06302\n",
      "epoch: 04, loss: -0.06349\n",
      "epoch: 05, loss: -0.06490\n",
      "epoch: 06, loss: -0.06685\n",
      "epoch: 07, loss: -0.06348\n",
      "epoch: 08, loss: -0.06773\n",
      "epoch: 09, loss: -0.06703\n",
      "torch.Size([400, 64])\n"
     ]
    },
    {
     "name": "stderr",
     "output_type": "stream",
     "text": [
      "\r",
      " 13%|████████████████████▍                                                                                                                                            | 127/1000 [53:08<5:11:32, 21.41s/it]"
     ]
    },
    {
     "name": "stdout",
     "output_type": "stream",
     "text": [
      "eigenvalues shape torch.Size([5]) eigenvectors shape torch.Size([5, 400])\n",
      "127 /home/phdcs2/Hard_Disk/Datasets/Deep-Spectral-Segmentation/data/object-segmentation/ECSSD/features/dino_vits16/0128.pth\n",
      "dict_keys(['k', 'indices', 'file', 'id', 'model_name', 'patch_size', 'shape'])\n",
      "0128\n",
      "Starting Training\n",
      "epoch: 00, loss: -0.02646\n",
      "epoch: 01, loss: -0.05903\n",
      "epoch: 02, loss: -0.06110\n",
      "epoch: 03, loss: -0.06416\n",
      "epoch: 04, loss: -0.06478\n",
      "epoch: 05, loss: -0.06372\n",
      "epoch: 06, loss: -0.06599\n",
      "epoch: 07, loss: -0.06745\n",
      "epoch: 08, loss: -0.06682\n",
      "epoch: 09, loss: -0.06687\n",
      "torch.Size([400, 64])\n"
     ]
    },
    {
     "name": "stderr",
     "output_type": "stream",
     "text": [
      "\r",
      " 13%|████████████████████▌                                                                                                                                            | 128/1000 [53:33<5:24:50, 22.35s/it]"
     ]
    },
    {
     "name": "stdout",
     "output_type": "stream",
     "text": [
      "eigenvalues shape torch.Size([5]) eigenvectors shape torch.Size([5, 400])\n",
      "128 /home/phdcs2/Hard_Disk/Datasets/Deep-Spectral-Segmentation/data/object-segmentation/ECSSD/features/dino_vits16/0129.pth\n",
      "dict_keys(['k', 'indices', 'file', 'id', 'model_name', 'patch_size', 'shape'])\n",
      "0129\n",
      "Starting Training\n",
      "epoch: 00, loss: -0.05728\n",
      "epoch: 01, loss: -0.08209\n",
      "epoch: 02, loss: -0.08789\n",
      "epoch: 03, loss: -0.08786\n",
      "epoch: 04, loss: -0.09153\n",
      "epoch: 05, loss: -0.09155\n",
      "epoch: 06, loss: -0.09335\n",
      "epoch: 07, loss: -0.09144\n",
      "epoch: 08, loss: -0.09645\n",
      "epoch: 09, loss: -0.09500\n",
      "torch.Size([425, 64])\n"
     ]
    },
    {
     "name": "stderr",
     "output_type": "stream",
     "text": [
      "\r",
      " 13%|████████████████████▊                                                                                                                                            | 129/1000 [54:00<5:44:17, 23.72s/it]"
     ]
    },
    {
     "name": "stdout",
     "output_type": "stream",
     "text": [
      "eigenvalues shape torch.Size([5]) eigenvectors shape torch.Size([5, 425])\n",
      "129 /home/phdcs2/Hard_Disk/Datasets/Deep-Spectral-Segmentation/data/object-segmentation/ECSSD/features/dino_vits16/0130.pth\n",
      "dict_keys(['k', 'indices', 'file', 'id', 'model_name', 'patch_size', 'shape'])\n",
      "0130\n",
      "Starting Training\n",
      "epoch: 00, loss: -0.00947\n",
      "epoch: 01, loss: -0.02407\n",
      "epoch: 02, loss: -0.02588\n",
      "epoch: 03, loss: -0.02811\n",
      "epoch: 04, loss: -0.02729\n",
      "epoch: 05, loss: -0.02889\n",
      "epoch: 06, loss: -0.02922\n",
      "epoch: 07, loss: -0.02797\n",
      "epoch: 08, loss: -0.02816\n",
      "epoch: 09, loss: -0.02828\n",
      "torch.Size([425, 64])\n"
     ]
    },
    {
     "name": "stderr",
     "output_type": "stream",
     "text": [
      "\r",
      " 13%|████████████████████▉                                                                                                                                            | 130/1000 [54:25<5:52:23, 24.30s/it]"
     ]
    },
    {
     "name": "stdout",
     "output_type": "stream",
     "text": [
      "eigenvalues shape torch.Size([5]) eigenvectors shape torch.Size([5, 425])\n",
      "130 /home/phdcs2/Hard_Disk/Datasets/Deep-Spectral-Segmentation/data/object-segmentation/ECSSD/features/dino_vits16/0131.pth\n",
      "dict_keys(['k', 'indices', 'file', 'id', 'model_name', 'patch_size', 'shape'])\n",
      "0131\n",
      "Starting Training\n",
      "epoch: 00, loss: -0.07898\n",
      "epoch: 01, loss: -0.09690\n",
      "epoch: 02, loss: -0.09739\n",
      "epoch: 03, loss: -0.09946\n",
      "epoch: 04, loss: -0.09739\n",
      "epoch: 05, loss: -0.09837\n",
      "epoch: 06, loss: -0.09915\n",
      "epoch: 07, loss: -0.09894\n",
      "epoch: 08, loss: -0.09908\n",
      "epoch: 09, loss: -0.09982\n",
      "torch.Size([450, 64])\n"
     ]
    },
    {
     "name": "stderr",
     "output_type": "stream",
     "text": [
      "\r",
      " 13%|█████████████████████                                                                                                                                            | 131/1000 [54:53<6:07:02, 25.34s/it]"
     ]
    },
    {
     "name": "stdout",
     "output_type": "stream",
     "text": [
      "eigenvalues shape torch.Size([5]) eigenvectors shape torch.Size([5, 450])\n",
      "131 /home/phdcs2/Hard_Disk/Datasets/Deep-Spectral-Segmentation/data/object-segmentation/ECSSD/features/dino_vits16/0132.pth\n",
      "dict_keys(['k', 'indices', 'file', 'id', 'model_name', 'patch_size', 'shape'])\n",
      "0132\n",
      "Starting Training\n",
      "epoch: 00, loss: -0.02938\n",
      "epoch: 01, loss: -0.05361\n",
      "epoch: 02, loss: -0.06310\n",
      "epoch: 03, loss: -0.05960\n",
      "epoch: 04, loss: -0.06225\n",
      "epoch: 05, loss: -0.06478\n",
      "epoch: 06, loss: -0.06240\n",
      "epoch: 07, loss: -0.06568\n",
      "epoch: 08, loss: -0.06565\n",
      "epoch: 09, loss: -0.06725\n",
      "torch.Size([400, 64])\n"
     ]
    },
    {
     "name": "stderr",
     "output_type": "stream",
     "text": [
      "\r",
      " 13%|█████████████████████▎                                                                                                                                           | 132/1000 [55:15<5:50:55, 24.26s/it]"
     ]
    },
    {
     "name": "stdout",
     "output_type": "stream",
     "text": [
      "eigenvalues shape torch.Size([5]) eigenvectors shape torch.Size([5, 400])\n",
      "132 /home/phdcs2/Hard_Disk/Datasets/Deep-Spectral-Segmentation/data/object-segmentation/ECSSD/features/dino_vits16/0133.pth\n",
      "dict_keys(['k', 'indices', 'file', 'id', 'model_name', 'patch_size', 'shape'])\n",
      "0133\n",
      "Starting Training\n",
      "epoch: 00, loss: -0.05331\n",
      "epoch: 01, loss: -0.06880\n",
      "epoch: 02, loss: -0.07008\n",
      "epoch: 03, loss: -0.07089\n",
      "epoch: 04, loss: -0.07095\n",
      "epoch: 05, loss: -0.07009\n",
      "epoch: 06, loss: -0.07135\n",
      "epoch: 07, loss: -0.07046\n",
      "epoch: 08, loss: -0.07129\n",
      "epoch: 09, loss: -0.07184\n",
      "torch.Size([525, 64])\n"
     ]
    },
    {
     "name": "stderr",
     "output_type": "stream",
     "text": [
      "\r",
      " 13%|█████████████████████▍                                                                                                                                           | 133/1000 [55:51<6:41:44, 27.80s/it]"
     ]
    },
    {
     "name": "stdout",
     "output_type": "stream",
     "text": [
      "eigenvalues shape torch.Size([5]) eigenvectors shape torch.Size([5, 525])\n",
      "133 /home/phdcs2/Hard_Disk/Datasets/Deep-Spectral-Segmentation/data/object-segmentation/ECSSD/features/dino_vits16/0134.pth\n",
      "dict_keys(['k', 'indices', 'file', 'id', 'model_name', 'patch_size', 'shape'])\n",
      "0134\n",
      "Starting Training\n",
      "epoch: 00, loss: -0.03336\n",
      "epoch: 01, loss: -0.06140\n",
      "epoch: 02, loss: -0.06266\n",
      "epoch: 03, loss: -0.06344\n",
      "epoch: 04, loss: -0.06384\n",
      "epoch: 05, loss: -0.06412\n",
      "epoch: 06, loss: -0.06414\n",
      "epoch: 07, loss: -0.06387\n",
      "epoch: 08, loss: -0.06426\n",
      "epoch: 09, loss: -0.06409\n",
      "torch.Size([400, 64])\n"
     ]
    },
    {
     "name": "stderr",
     "output_type": "stream",
     "text": [
      "\r",
      " 13%|█████████████████████▌                                                                                                                                           | 134/1000 [56:17<6:35:21, 27.39s/it]"
     ]
    },
    {
     "name": "stdout",
     "output_type": "stream",
     "text": [
      "eigenvalues shape torch.Size([5]) eigenvectors shape torch.Size([5, 400])\n",
      "134 /home/phdcs2/Hard_Disk/Datasets/Deep-Spectral-Segmentation/data/object-segmentation/ECSSD/features/dino_vits16/0135.pth\n",
      "dict_keys(['k', 'indices', 'file', 'id', 'model_name', 'patch_size', 'shape'])\n",
      "0135\n",
      "Starting Training\n",
      "epoch: 00, loss: -0.05062\n",
      "epoch: 01, loss: -0.06546\n",
      "epoch: 02, loss: -0.06585\n",
      "epoch: 03, loss: -0.06649\n",
      "epoch: 04, loss: -0.06666\n",
      "epoch: 05, loss: -0.06698\n",
      "epoch: 06, loss: -0.06719\n",
      "epoch: 07, loss: -0.06755\n",
      "epoch: 08, loss: -0.06765\n",
      "epoch: 09, loss: -0.06753\n",
      "torch.Size([450, 64])\n"
     ]
    },
    {
     "name": "stderr",
     "output_type": "stream",
     "text": [
      "\r",
      " 14%|█████████████████████▋                                                                                                                                           | 135/1000 [56:44<6:29:42, 27.03s/it]"
     ]
    },
    {
     "name": "stdout",
     "output_type": "stream",
     "text": [
      "eigenvalues shape torch.Size([5]) eigenvectors shape torch.Size([5, 450])\n",
      "135 /home/phdcs2/Hard_Disk/Datasets/Deep-Spectral-Segmentation/data/object-segmentation/ECSSD/features/dino_vits16/0136.pth\n",
      "dict_keys(['k', 'indices', 'file', 'id', 'model_name', 'patch_size', 'shape'])\n",
      "0136\n",
      "Starting Training\n",
      "epoch: 00, loss: -0.08239\n",
      "epoch: 01, loss: -0.12127\n",
      "epoch: 02, loss: -0.12635\n",
      "epoch: 03, loss: -0.13069\n",
      "epoch: 04, loss: -0.12878\n",
      "epoch: 05, loss: -0.13178\n",
      "epoch: 06, loss: -0.13342\n",
      "epoch: 07, loss: -0.13269\n",
      "epoch: 08, loss: -0.13359\n",
      "epoch: 09, loss: -0.13337\n",
      "torch.Size([450, 64])\n"
     ]
    },
    {
     "name": "stderr",
     "output_type": "stream",
     "text": [
      "\r",
      " 14%|█████████████████████▉                                                                                                                                           | 136/1000 [57:13<6:37:35, 27.61s/it]"
     ]
    },
    {
     "name": "stdout",
     "output_type": "stream",
     "text": [
      "eigenvalues shape torch.Size([5]) eigenvectors shape torch.Size([5, 450])\n",
      "136 /home/phdcs2/Hard_Disk/Datasets/Deep-Spectral-Segmentation/data/object-segmentation/ECSSD/features/dino_vits16/0137.pth\n",
      "dict_keys(['k', 'indices', 'file', 'id', 'model_name', 'patch_size', 'shape'])\n",
      "0137\n",
      "Starting Training\n",
      "epoch: 00, loss: -0.05903\n",
      "epoch: 01, loss: -0.08293\n",
      "epoch: 02, loss: -0.08216\n",
      "epoch: 03, loss: -0.08234\n",
      "epoch: 04, loss: -0.08248\n",
      "epoch: 05, loss: -0.08287\n",
      "epoch: 06, loss: -0.08405\n",
      "epoch: 07, loss: -0.08292\n",
      "epoch: 08, loss: -0.08432\n",
      "epoch: 09, loss: -0.08475\n",
      "torch.Size([475, 64])\n"
     ]
    },
    {
     "name": "stderr",
     "output_type": "stream",
     "text": [
      "\r",
      " 14%|██████████████████████                                                                                                                                           | 137/1000 [57:39<6:33:20, 27.35s/it]"
     ]
    },
    {
     "name": "stdout",
     "output_type": "stream",
     "text": [
      "eigenvalues shape torch.Size([5]) eigenvectors shape torch.Size([5, 475])\n",
      "137 /home/phdcs2/Hard_Disk/Datasets/Deep-Spectral-Segmentation/data/object-segmentation/ECSSD/features/dino_vits16/0138.pth\n",
      "dict_keys(['k', 'indices', 'file', 'id', 'model_name', 'patch_size', 'shape'])\n",
      "0138\n",
      "Starting Training\n",
      "epoch: 00, loss: -0.03717\n",
      "epoch: 01, loss: -0.05519\n",
      "epoch: 02, loss: -0.05698\n",
      "epoch: 03, loss: -0.05725\n",
      "epoch: 04, loss: -0.05774\n",
      "epoch: 05, loss: -0.05770\n",
      "epoch: 06, loss: -0.05821\n",
      "epoch: 07, loss: -0.05814\n",
      "epoch: 08, loss: -0.05831\n",
      "epoch: 09, loss: -0.05826\n",
      "torch.Size([450, 64])\n"
     ]
    },
    {
     "name": "stderr",
     "output_type": "stream",
     "text": [
      "\r",
      " 14%|██████████████████████▏                                                                                                                                          | 138/1000 [58:03<6:17:24, 26.27s/it]"
     ]
    },
    {
     "name": "stdout",
     "output_type": "stream",
     "text": [
      "eigenvalues shape torch.Size([5]) eigenvectors shape torch.Size([5, 450])\n",
      "138 /home/phdcs2/Hard_Disk/Datasets/Deep-Spectral-Segmentation/data/object-segmentation/ECSSD/features/dino_vits16/0139.pth\n",
      "dict_keys(['k', 'indices', 'file', 'id', 'model_name', 'patch_size', 'shape'])\n",
      "0139\n",
      "Starting Training\n",
      "epoch: 00, loss: -0.02975\n",
      "epoch: 01, loss: -0.04667\n",
      "epoch: 02, loss: -0.04817\n",
      "epoch: 03, loss: -0.04873\n",
      "epoch: 04, loss: -0.04914\n",
      "epoch: 05, loss: -0.04933\n",
      "epoch: 06, loss: -0.04945\n",
      "epoch: 07, loss: -0.04968\n",
      "epoch: 08, loss: -0.04989\n",
      "epoch: 09, loss: -0.04994\n",
      "torch.Size([450, 64])\n"
     ]
    },
    {
     "name": "stderr",
     "output_type": "stream",
     "text": [
      "\r",
      " 14%|██████████████████████▍                                                                                                                                          | 139/1000 [58:29<6:14:22, 26.09s/it]"
     ]
    },
    {
     "name": "stdout",
     "output_type": "stream",
     "text": [
      "eigenvalues shape torch.Size([5]) eigenvectors shape torch.Size([5, 450])\n",
      "139 /home/phdcs2/Hard_Disk/Datasets/Deep-Spectral-Segmentation/data/object-segmentation/ECSSD/features/dino_vits16/0140.pth\n",
      "dict_keys(['k', 'indices', 'file', 'id', 'model_name', 'patch_size', 'shape'])\n",
      "0140\n",
      "Starting Training\n",
      "epoch: 00, loss: 0.00081\n",
      "epoch: 01, loss: -0.01123\n",
      "epoch: 02, loss: -0.01529\n",
      "epoch: 03, loss: -0.01703\n",
      "epoch: 04, loss: -0.01797\n",
      "epoch: 05, loss: -0.01845\n",
      "epoch: 06, loss: -0.01880\n",
      "epoch: 07, loss: -0.01925\n",
      "epoch: 08, loss: -0.01940\n",
      "epoch: 09, loss: -0.01952\n",
      "torch.Size([450, 64])\n"
     ]
    },
    {
     "name": "stderr",
     "output_type": "stream",
     "text": [
      "\r",
      " 14%|██████████████████████▌                                                                                                                                          | 140/1000 [58:54<6:08:28, 25.71s/it]"
     ]
    },
    {
     "name": "stdout",
     "output_type": "stream",
     "text": [
      "eigenvalues shape torch.Size([5]) eigenvectors shape torch.Size([5, 450])\n",
      "140 /home/phdcs2/Hard_Disk/Datasets/Deep-Spectral-Segmentation/data/object-segmentation/ECSSD/features/dino_vits16/0141.pth\n",
      "dict_keys(['k', 'indices', 'file', 'id', 'model_name', 'patch_size', 'shape'])\n",
      "0141\n",
      "Starting Training\n",
      "epoch: 00, loss: -0.01162\n",
      "epoch: 01, loss: -0.02624\n",
      "epoch: 02, loss: -0.03087\n",
      "epoch: 03, loss: -0.03229\n",
      "epoch: 04, loss: -0.03296\n",
      "epoch: 05, loss: -0.03311\n",
      "epoch: 06, loss: -0.03323\n",
      "epoch: 07, loss: -0.03342\n",
      "epoch: 08, loss: -0.03365\n",
      "epoch: 09, loss: -0.03380\n",
      "torch.Size([350, 64])\n"
     ]
    },
    {
     "name": "stderr",
     "output_type": "stream",
     "text": [
      "\r",
      " 14%|██████████████████████▋                                                                                                                                          | 141/1000 [59:14<5:44:51, 24.09s/it]"
     ]
    },
    {
     "name": "stdout",
     "output_type": "stream",
     "text": [
      "eigenvalues shape torch.Size([5]) eigenvectors shape torch.Size([5, 350])\n",
      "141 /home/phdcs2/Hard_Disk/Datasets/Deep-Spectral-Segmentation/data/object-segmentation/ECSSD/features/dino_vits16/0142.pth\n",
      "dict_keys(['k', 'indices', 'file', 'id', 'model_name', 'patch_size', 'shape'])\n",
      "0142\n",
      "Starting Training\n",
      "epoch: 00, loss: -0.07008\n",
      "epoch: 01, loss: -0.09152\n",
      "epoch: 02, loss: -0.09242\n",
      "epoch: 03, loss: -0.09236\n",
      "epoch: 04, loss: -0.09270\n",
      "epoch: 05, loss: -0.09292\n",
      "epoch: 06, loss: -0.09293\n",
      "epoch: 07, loss: -0.09324\n",
      "epoch: 08, loss: -0.09302\n",
      "epoch: 09, loss: -0.09333\n",
      "torch.Size([450, 64])\n"
     ]
    },
    {
     "name": "stderr",
     "output_type": "stream",
     "text": [
      "\r",
      " 14%|██████████████████████▊                                                                                                                                          | 142/1000 [59:39<5:46:54, 24.26s/it]"
     ]
    },
    {
     "name": "stdout",
     "output_type": "stream",
     "text": [
      "eigenvalues shape torch.Size([5]) eigenvectors shape torch.Size([5, 450])\n",
      "142 /home/phdcs2/Hard_Disk/Datasets/Deep-Spectral-Segmentation/data/object-segmentation/ECSSD/features/dino_vits16/0143.pth\n",
      "dict_keys(['k', 'indices', 'file', 'id', 'model_name', 'patch_size', 'shape'])\n",
      "0143\n",
      "Starting Training\n",
      "epoch: 00, loss: -0.01844\n",
      "epoch: 01, loss: -0.04356\n",
      "epoch: 02, loss: -0.05082\n",
      "epoch: 03, loss: -0.05126\n",
      "epoch: 04, loss: -0.05510\n",
      "epoch: 05, loss: -0.05244\n",
      "epoch: 06, loss: -0.05411\n",
      "epoch: 07, loss: -0.05367\n",
      "epoch: 08, loss: -0.05528\n",
      "epoch: 09, loss: -0.05571\n",
      "torch.Size([450, 64])\n"
     ]
    },
    {
     "name": "stderr",
     "output_type": "stream",
     "text": [
      "\r",
      " 14%|██████████████████████▋                                                                                                                                        | 143/1000 [1:00:03<5:49:14, 24.45s/it]"
     ]
    },
    {
     "name": "stdout",
     "output_type": "stream",
     "text": [
      "eigenvalues shape torch.Size([5]) eigenvectors shape torch.Size([5, 450])\n",
      "143 /home/phdcs2/Hard_Disk/Datasets/Deep-Spectral-Segmentation/data/object-segmentation/ECSSD/features/dino_vits16/0144.pth\n",
      "dict_keys(['k', 'indices', 'file', 'id', 'model_name', 'patch_size', 'shape'])\n",
      "0144\n",
      "Starting Training\n",
      "epoch: 00, loss: -0.04231\n",
      "epoch: 01, loss: -0.06327\n",
      "epoch: 02, loss: -0.06468\n",
      "epoch: 03, loss: -0.06419\n",
      "epoch: 04, loss: -0.06473\n",
      "epoch: 05, loss: -0.06412\n",
      "epoch: 06, loss: -0.06608\n",
      "epoch: 07, loss: -0.06417\n",
      "epoch: 08, loss: -0.06542\n",
      "epoch: 09, loss: -0.06572\n",
      "torch.Size([425, 64])\n"
     ]
    },
    {
     "name": "stderr",
     "output_type": "stream",
     "text": [
      "\r",
      " 14%|██████████████████████▉                                                                                                                                        | 144/1000 [1:00:26<5:42:25, 24.00s/it]"
     ]
    },
    {
     "name": "stdout",
     "output_type": "stream",
     "text": [
      "eigenvalues shape torch.Size([5]) eigenvectors shape torch.Size([5, 425])\n",
      "144 /home/phdcs2/Hard_Disk/Datasets/Deep-Spectral-Segmentation/data/object-segmentation/ECSSD/features/dino_vits16/0145.pth\n",
      "dict_keys(['k', 'indices', 'file', 'id', 'model_name', 'patch_size', 'shape'])\n",
      "0145\n",
      "Starting Training\n",
      "epoch: 00, loss: -0.01105\n",
      "epoch: 01, loss: -0.03591\n",
      "epoch: 02, loss: -0.04224\n",
      "epoch: 03, loss: -0.04625\n",
      "epoch: 04, loss: -0.04678\n",
      "epoch: 05, loss: -0.04634\n",
      "epoch: 06, loss: -0.04830\n",
      "epoch: 07, loss: -0.04792\n",
      "epoch: 08, loss: -0.04761\n",
      "epoch: 09, loss: -0.04641\n",
      "torch.Size([450, 64])\n"
     ]
    },
    {
     "name": "stderr",
     "output_type": "stream",
     "text": [
      "\r",
      " 14%|███████████████████████                                                                                                                                        | 145/1000 [1:00:50<5:39:35, 23.83s/it]"
     ]
    },
    {
     "name": "stdout",
     "output_type": "stream",
     "text": [
      "eigenvalues shape torch.Size([5]) eigenvectors shape torch.Size([5, 450])\n",
      "145 /home/phdcs2/Hard_Disk/Datasets/Deep-Spectral-Segmentation/data/object-segmentation/ECSSD/features/dino_vits16/0146.pth\n",
      "dict_keys(['k', 'indices', 'file', 'id', 'model_name', 'patch_size', 'shape'])\n",
      "0146\n",
      "Starting Training\n",
      "epoch: 00, loss: 0.00190\n",
      "epoch: 01, loss: -0.01461\n",
      "epoch: 02, loss: -0.02103\n",
      "epoch: 03, loss: -0.02266\n",
      "epoch: 04, loss: -0.02419\n",
      "epoch: 05, loss: -0.02413\n",
      "epoch: 06, loss: -0.02511\n",
      "epoch: 07, loss: -0.02557\n",
      "epoch: 08, loss: -0.02505\n",
      "epoch: 09, loss: -0.02516\n",
      "torch.Size([400, 64])\n"
     ]
    },
    {
     "name": "stderr",
     "output_type": "stream",
     "text": [
      "\r",
      " 15%|███████████████████████▏                                                                                                                                       | 146/1000 [1:01:11<5:25:38, 22.88s/it]"
     ]
    },
    {
     "name": "stdout",
     "output_type": "stream",
     "text": [
      "eigenvalues shape torch.Size([5]) eigenvectors shape torch.Size([5, 400])\n",
      "146 /home/phdcs2/Hard_Disk/Datasets/Deep-Spectral-Segmentation/data/object-segmentation/ECSSD/features/dino_vits16/0147.pth\n",
      "dict_keys(['k', 'indices', 'file', 'id', 'model_name', 'patch_size', 'shape'])\n",
      "0147\n",
      "Starting Training\n",
      "epoch: 00, loss: -0.02238\n",
      "epoch: 01, loss: -0.04753\n",
      "epoch: 02, loss: -0.05169\n",
      "epoch: 03, loss: -0.05479\n",
      "epoch: 04, loss: -0.05347\n",
      "epoch: 05, loss: -0.05610\n",
      "epoch: 06, loss: -0.05515\n",
      "epoch: 07, loss: -0.05605\n",
      "epoch: 08, loss: -0.05750\n",
      "epoch: 09, loss: -0.05746\n",
      "torch.Size([550, 64])\n"
     ]
    },
    {
     "name": "stderr",
     "output_type": "stream",
     "text": [
      "\r",
      " 15%|███████████████████████▎                                                                                                                                       | 147/1000 [1:01:56<7:02:29, 29.72s/it]"
     ]
    },
    {
     "name": "stdout",
     "output_type": "stream",
     "text": [
      "eigenvalues shape torch.Size([5]) eigenvectors shape torch.Size([5, 550])\n",
      "147 /home/phdcs2/Hard_Disk/Datasets/Deep-Spectral-Segmentation/data/object-segmentation/ECSSD/features/dino_vits16/0148.pth\n",
      "dict_keys(['k', 'indices', 'file', 'id', 'model_name', 'patch_size', 'shape'])\n",
      "0148\n",
      "Starting Training\n",
      "epoch: 00, loss: -0.05262\n",
      "epoch: 01, loss: -0.08445\n",
      "epoch: 02, loss: -0.08768\n",
      "epoch: 03, loss: -0.08725\n",
      "epoch: 04, loss: -0.08823\n",
      "epoch: 05, loss: -0.08989\n",
      "epoch: 06, loss: -0.08765\n",
      "epoch: 07, loss: -0.08896\n",
      "epoch: 08, loss: -0.09113\n",
      "epoch: 09, loss: -0.09193\n",
      "torch.Size([400, 64])\n"
     ]
    },
    {
     "name": "stderr",
     "output_type": "stream",
     "text": [
      "\r",
      " 15%|███████████████████████▌                                                                                                                                       | 148/1000 [1:02:16<6:19:10, 26.70s/it]"
     ]
    },
    {
     "name": "stdout",
     "output_type": "stream",
     "text": [
      "eigenvalues shape torch.Size([5]) eigenvectors shape torch.Size([5, 400])\n",
      "148 /home/phdcs2/Hard_Disk/Datasets/Deep-Spectral-Segmentation/data/object-segmentation/ECSSD/features/dino_vits16/0149.pth\n",
      "dict_keys(['k', 'indices', 'file', 'id', 'model_name', 'patch_size', 'shape'])\n",
      "0149\n",
      "Starting Training\n",
      "epoch: 00, loss: -0.02867\n",
      "epoch: 01, loss: -0.05220\n",
      "epoch: 02, loss: -0.05459\n",
      "epoch: 03, loss: -0.05514\n",
      "epoch: 04, loss: -0.05557\n",
      "epoch: 05, loss: -0.05571\n",
      "epoch: 06, loss: -0.05578\n",
      "epoch: 07, loss: -0.05606\n",
      "epoch: 08, loss: -0.05638\n",
      "epoch: 09, loss: -0.05623\n",
      "torch.Size([400, 64])\n"
     ]
    },
    {
     "name": "stderr",
     "output_type": "stream",
     "text": [
      "\r",
      " 15%|███████████████████████▋                                                                                                                                       | 149/1000 [1:02:49<6:47:59, 28.77s/it]"
     ]
    },
    {
     "name": "stdout",
     "output_type": "stream",
     "text": [
      "eigenvalues shape torch.Size([5]) eigenvectors shape torch.Size([5, 400])\n",
      "149 /home/phdcs2/Hard_Disk/Datasets/Deep-Spectral-Segmentation/data/object-segmentation/ECSSD/features/dino_vits16/0150.pth\n",
      "dict_keys(['k', 'indices', 'file', 'id', 'model_name', 'patch_size', 'shape'])\n",
      "0150\n",
      "Starting Training\n",
      "epoch: 00, loss: -0.02018\n",
      "epoch: 01, loss: -0.04125\n",
      "epoch: 02, loss: -0.04348\n",
      "epoch: 03, loss: -0.04394\n",
      "epoch: 04, loss: -0.04420\n",
      "epoch: 05, loss: -0.04448\n",
      "epoch: 06, loss: -0.04457\n",
      "epoch: 07, loss: -0.04478\n",
      "epoch: 08, loss: -0.04492\n",
      "epoch: 09, loss: -0.04491\n",
      "torch.Size([450, 64])\n"
     ]
    },
    {
     "name": "stderr",
     "output_type": "stream",
     "text": [
      "\r",
      " 15%|███████████████████████▊                                                                                                                                       | 150/1000 [1:03:13<6:24:19, 27.13s/it]"
     ]
    },
    {
     "name": "stdout",
     "output_type": "stream",
     "text": [
      "eigenvalues shape torch.Size([5]) eigenvectors shape torch.Size([5, 450])\n",
      "150 /home/phdcs2/Hard_Disk/Datasets/Deep-Spectral-Segmentation/data/object-segmentation/ECSSD/features/dino_vits16/0151.pth\n",
      "dict_keys(['k', 'indices', 'file', 'id', 'model_name', 'patch_size', 'shape'])\n",
      "0151\n",
      "Starting Training\n",
      "epoch: 00, loss: -0.07279\n",
      "epoch: 01, loss: -0.09722\n",
      "epoch: 02, loss: -0.10330\n",
      "epoch: 03, loss: -0.10378\n",
      "epoch: 04, loss: -0.10393\n",
      "epoch: 05, loss: -0.10503\n",
      "epoch: 06, loss: -0.10619\n",
      "epoch: 07, loss: -0.10468\n",
      "epoch: 08, loss: -0.10528\n",
      "epoch: 09, loss: -0.10594\n",
      "torch.Size([525, 64])\n"
     ]
    },
    {
     "name": "stderr",
     "output_type": "stream",
     "text": [
      "\r",
      " 15%|████████████████████████                                                                                                                                       | 151/1000 [1:04:01<7:55:38, 33.61s/it]"
     ]
    },
    {
     "name": "stdout",
     "output_type": "stream",
     "text": [
      "eigenvalues shape torch.Size([5]) eigenvectors shape torch.Size([5, 525])\n",
      "151 /home/phdcs2/Hard_Disk/Datasets/Deep-Spectral-Segmentation/data/object-segmentation/ECSSD/features/dino_vits16/0152.pth\n",
      "dict_keys(['k', 'indices', 'file', 'id', 'model_name', 'patch_size', 'shape'])\n",
      "0152\n",
      "Starting Training\n",
      "epoch: 00, loss: -0.07088\n",
      "epoch: 01, loss: -0.09957\n",
      "epoch: 02, loss: -0.10151\n",
      "epoch: 03, loss: -0.09950\n",
      "epoch: 04, loss: -0.10074\n",
      "epoch: 05, loss: -0.10203\n",
      "epoch: 06, loss: -0.10369\n",
      "epoch: 07, loss: -0.10356\n",
      "epoch: 08, loss: -0.10365\n",
      "epoch: 09, loss: -0.10479\n",
      "torch.Size([450, 64])\n"
     ]
    },
    {
     "name": "stderr",
     "output_type": "stream",
     "text": [
      "\r",
      " 15%|████████████████████████▏                                                                                                                                      | 152/1000 [1:04:30<7:31:56, 31.98s/it]"
     ]
    },
    {
     "name": "stdout",
     "output_type": "stream",
     "text": [
      "eigenvalues shape torch.Size([5]) eigenvectors shape torch.Size([5, 450])\n",
      "152 /home/phdcs2/Hard_Disk/Datasets/Deep-Spectral-Segmentation/data/object-segmentation/ECSSD/features/dino_vits16/0153.pth\n",
      "dict_keys(['k', 'indices', 'file', 'id', 'model_name', 'patch_size', 'shape'])\n",
      "0153\n",
      "Starting Training\n",
      "epoch: 00, loss: -0.00864\n",
      "epoch: 01, loss: -0.02166\n",
      "epoch: 02, loss: -0.02509\n",
      "epoch: 03, loss: -0.02630\n",
      "epoch: 04, loss: -0.02682\n",
      "epoch: 05, loss: -0.02725\n",
      "epoch: 06, loss: -0.02740\n",
      "epoch: 07, loss: -0.02758\n",
      "epoch: 08, loss: -0.02776\n",
      "epoch: 09, loss: -0.02788\n",
      "torch.Size([450, 64])\n"
     ]
    },
    {
     "name": "stderr",
     "output_type": "stream",
     "text": [
      "\r",
      " 15%|████████████████████████▎                                                                                                                                      | 153/1000 [1:04:59<7:19:51, 31.16s/it]"
     ]
    },
    {
     "name": "stdout",
     "output_type": "stream",
     "text": [
      "eigenvalues shape torch.Size([5]) eigenvectors shape torch.Size([5, 450])\n",
      "153 /home/phdcs2/Hard_Disk/Datasets/Deep-Spectral-Segmentation/data/object-segmentation/ECSSD/features/dino_vits16/0154.pth\n",
      "dict_keys(['k', 'indices', 'file', 'id', 'model_name', 'patch_size', 'shape'])\n",
      "0154\n",
      "Starting Training\n",
      "epoch: 00, loss: -0.03303\n",
      "epoch: 01, loss: -0.06098\n",
      "epoch: 02, loss: -0.06000\n",
      "epoch: 03, loss: -0.06290\n",
      "epoch: 04, loss: -0.06498\n",
      "epoch: 05, loss: -0.06493\n",
      "epoch: 06, loss: -0.06427\n",
      "epoch: 07, loss: -0.06485\n",
      "epoch: 08, loss: -0.06553\n",
      "epoch: 09, loss: -0.06485\n",
      "torch.Size([450, 64])\n"
     ]
    },
    {
     "name": "stderr",
     "output_type": "stream",
     "text": [
      "\r",
      " 15%|████████████████████████▍                                                                                                                                      | 154/1000 [1:05:26<7:03:24, 30.03s/it]"
     ]
    },
    {
     "name": "stdout",
     "output_type": "stream",
     "text": [
      "eigenvalues shape torch.Size([5]) eigenvectors shape torch.Size([5, 450])\n",
      "154 /home/phdcs2/Hard_Disk/Datasets/Deep-Spectral-Segmentation/data/object-segmentation/ECSSD/features/dino_vits16/0155.pth\n",
      "dict_keys(['k', 'indices', 'file', 'id', 'model_name', 'patch_size', 'shape'])\n",
      "0155\n",
      "Starting Training\n",
      "epoch: 00, loss: -0.02421\n",
      "epoch: 01, loss: -0.04621\n",
      "epoch: 02, loss: -0.04960\n",
      "epoch: 03, loss: -0.05036\n",
      "epoch: 04, loss: -0.04921\n",
      "epoch: 05, loss: -0.05075\n",
      "epoch: 06, loss: -0.04987\n",
      "epoch: 07, loss: -0.05082\n",
      "epoch: 08, loss: -0.05021\n",
      "epoch: 09, loss: -0.05042\n",
      "torch.Size([475, 64])\n"
     ]
    },
    {
     "name": "stderr",
     "output_type": "stream",
     "text": [
      "\r",
      " 16%|████████████████████████▋                                                                                                                                      | 155/1000 [1:05:53<6:50:28, 29.15s/it]"
     ]
    },
    {
     "name": "stdout",
     "output_type": "stream",
     "text": [
      "eigenvalues shape torch.Size([5]) eigenvectors shape torch.Size([5, 475])\n",
      "155 /home/phdcs2/Hard_Disk/Datasets/Deep-Spectral-Segmentation/data/object-segmentation/ECSSD/features/dino_vits16/0156.pth\n",
      "dict_keys(['k', 'indices', 'file', 'id', 'model_name', 'patch_size', 'shape'])\n",
      "0156\n",
      "Starting Training\n",
      "epoch: 00, loss: -0.05568\n",
      "epoch: 01, loss: -0.07405\n",
      "epoch: 02, loss: -0.07521\n",
      "epoch: 03, loss: -0.07560\n",
      "epoch: 04, loss: -0.07612\n",
      "epoch: 05, loss: -0.07618\n",
      "epoch: 06, loss: -0.07644\n",
      "epoch: 07, loss: -0.07649\n",
      "epoch: 08, loss: -0.07667\n",
      "epoch: 09, loss: -0.07660\n",
      "torch.Size([400, 64])\n"
     ]
    },
    {
     "name": "stderr",
     "output_type": "stream",
     "text": [
      "\r",
      " 16%|████████████████████████▊                                                                                                                                      | 156/1000 [1:06:19<6:34:27, 28.04s/it]"
     ]
    },
    {
     "name": "stdout",
     "output_type": "stream",
     "text": [
      "eigenvalues shape torch.Size([5]) eigenvectors shape torch.Size([5, 400])\n",
      "156 /home/phdcs2/Hard_Disk/Datasets/Deep-Spectral-Segmentation/data/object-segmentation/ECSSD/features/dino_vits16/0157.pth\n",
      "dict_keys(['k', 'indices', 'file', 'id', 'model_name', 'patch_size', 'shape'])\n",
      "0157\n",
      "Starting Training\n",
      "epoch: 00, loss: -0.02170\n",
      "epoch: 01, loss: -0.05137\n",
      "epoch: 02, loss: -0.05480\n",
      "epoch: 03, loss: -0.05530\n",
      "epoch: 04, loss: -0.05544\n",
      "epoch: 05, loss: -0.05558\n",
      "epoch: 06, loss: -0.05646\n",
      "epoch: 07, loss: -0.05757\n",
      "epoch: 08, loss: -0.05664\n",
      "epoch: 09, loss: -0.05702\n",
      "torch.Size([375, 64])\n"
     ]
    },
    {
     "name": "stderr",
     "output_type": "stream",
     "text": [
      "\r",
      " 16%|████████████████████████▉                                                                                                                                      | 157/1000 [1:06:41<6:10:46, 26.39s/it]"
     ]
    },
    {
     "name": "stdout",
     "output_type": "stream",
     "text": [
      "eigenvalues shape torch.Size([5]) eigenvectors shape torch.Size([5, 375])\n",
      "157 /home/phdcs2/Hard_Disk/Datasets/Deep-Spectral-Segmentation/data/object-segmentation/ECSSD/features/dino_vits16/0158.pth\n",
      "dict_keys(['k', 'indices', 'file', 'id', 'model_name', 'patch_size', 'shape'])\n",
      "0158\n",
      "Starting Training\n",
      "epoch: 00, loss: -0.14915\n",
      "epoch: 01, loss: -0.17402\n",
      "epoch: 02, loss: -0.17410\n",
      "epoch: 03, loss: -0.17483\n",
      "epoch: 04, loss: -0.17456\n",
      "epoch: 05, loss: -0.17475\n",
      "epoch: 06, loss: -0.17498\n",
      "epoch: 07, loss: -0.17534\n",
      "epoch: 08, loss: -0.17514\n",
      "epoch: 09, loss: -0.17522\n",
      "torch.Size([300, 64])\n"
     ]
    },
    {
     "name": "stderr",
     "output_type": "stream",
     "text": [
      "\r",
      " 16%|█████████████████████████                                                                                                                                      | 158/1000 [1:07:03<5:50:16, 24.96s/it]"
     ]
    },
    {
     "name": "stdout",
     "output_type": "stream",
     "text": [
      "eigenvalues shape torch.Size([5]) eigenvectors shape torch.Size([5, 300])\n",
      "158 /home/phdcs2/Hard_Disk/Datasets/Deep-Spectral-Segmentation/data/object-segmentation/ECSSD/features/dino_vits16/0159.pth\n",
      "dict_keys(['k', 'indices', 'file', 'id', 'model_name', 'patch_size', 'shape'])\n",
      "0159\n",
      "Starting Training\n",
      "epoch: 00, loss: -0.06009\n",
      "epoch: 01, loss: -0.09315\n",
      "epoch: 02, loss: -0.09828\n",
      "epoch: 03, loss: -0.09723\n",
      "epoch: 04, loss: -0.09863\n",
      "epoch: 05, loss: -0.09908\n",
      "epoch: 06, loss: -0.10201\n",
      "epoch: 07, loss: -0.10009\n",
      "epoch: 08, loss: -0.10089\n",
      "epoch: 09, loss: -0.10214\n",
      "torch.Size([425, 64])\n"
     ]
    },
    {
     "name": "stderr",
     "output_type": "stream",
     "text": [
      "\r",
      " 16%|█████████████████████████▎                                                                                                                                     | 159/1000 [1:07:28<5:48:30, 24.86s/it]"
     ]
    },
    {
     "name": "stdout",
     "output_type": "stream",
     "text": [
      "eigenvalues shape torch.Size([5]) eigenvectors shape torch.Size([5, 425])\n",
      "159 /home/phdcs2/Hard_Disk/Datasets/Deep-Spectral-Segmentation/data/object-segmentation/ECSSD/features/dino_vits16/0160.pth\n",
      "dict_keys(['k', 'indices', 'file', 'id', 'model_name', 'patch_size', 'shape'])\n",
      "0160\n",
      "Starting Training\n",
      "epoch: 00, loss: -0.03446\n",
      "epoch: 01, loss: -0.05515\n",
      "epoch: 02, loss: -0.05718\n",
      "epoch: 03, loss: -0.05761\n",
      "epoch: 04, loss: -0.05807\n",
      "epoch: 05, loss: -0.05859\n",
      "epoch: 06, loss: -0.05862\n",
      "epoch: 07, loss: -0.05860\n",
      "epoch: 08, loss: -0.05898\n",
      "epoch: 09, loss: -0.05893\n",
      "torch.Size([400, 64])\n"
     ]
    },
    {
     "name": "stderr",
     "output_type": "stream",
     "text": [
      "\r",
      " 16%|█████████████████████████▍                                                                                                                                     | 160/1000 [1:07:57<6:06:34, 26.18s/it]"
     ]
    },
    {
     "name": "stdout",
     "output_type": "stream",
     "text": [
      "eigenvalues shape torch.Size([5]) eigenvectors shape torch.Size([5, 400])\n",
      "160 /home/phdcs2/Hard_Disk/Datasets/Deep-Spectral-Segmentation/data/object-segmentation/ECSSD/features/dino_vits16/0161.pth\n",
      "dict_keys(['k', 'indices', 'file', 'id', 'model_name', 'patch_size', 'shape'])\n",
      "0161\n",
      "Starting Training\n",
      "epoch: 00, loss: 0.00074\n",
      "epoch: 01, loss: -0.02013\n",
      "epoch: 02, loss: -0.02947\n",
      "epoch: 03, loss: -0.03051\n",
      "epoch: 04, loss: -0.03018\n",
      "epoch: 05, loss: -0.03483\n",
      "epoch: 06, loss: -0.03827\n",
      "epoch: 07, loss: -0.03528\n",
      "epoch: 08, loss: -0.03663\n",
      "epoch: 09, loss: -0.03404\n",
      "torch.Size([450, 64])\n"
     ]
    },
    {
     "name": "stderr",
     "output_type": "stream",
     "text": [
      "\r",
      " 16%|█████████████████████████▌                                                                                                                                     | 161/1000 [1:08:20<5:54:54, 25.38s/it]"
     ]
    },
    {
     "name": "stdout",
     "output_type": "stream",
     "text": [
      "eigenvalues shape torch.Size([5]) eigenvectors shape torch.Size([5, 450])\n",
      "161 /home/phdcs2/Hard_Disk/Datasets/Deep-Spectral-Segmentation/data/object-segmentation/ECSSD/features/dino_vits16/0162.pth\n",
      "dict_keys(['k', 'indices', 'file', 'id', 'model_name', 'patch_size', 'shape'])\n",
      "0162\n",
      "Starting Training\n",
      "epoch: 00, loss: -0.05241\n",
      "epoch: 01, loss: -0.07029\n",
      "epoch: 02, loss: -0.07068\n",
      "epoch: 03, loss: -0.07089\n",
      "epoch: 04, loss: -0.07118\n",
      "epoch: 05, loss: -0.07136\n",
      "epoch: 06, loss: -0.07150\n",
      "epoch: 07, loss: -0.07162\n",
      "epoch: 08, loss: -0.07176\n",
      "epoch: 09, loss: -0.07173\n",
      "torch.Size([450, 64])\n"
     ]
    },
    {
     "name": "stderr",
     "output_type": "stream",
     "text": [
      "\r",
      " 16%|█████████████████████████▊                                                                                                                                     | 162/1000 [1:08:42<5:40:00, 24.34s/it]"
     ]
    },
    {
     "name": "stdout",
     "output_type": "stream",
     "text": [
      "eigenvalues shape torch.Size([5]) eigenvectors shape torch.Size([5, 450])\n",
      "162 /home/phdcs2/Hard_Disk/Datasets/Deep-Spectral-Segmentation/data/object-segmentation/ECSSD/features/dino_vits16/0163.pth\n",
      "dict_keys(['k', 'indices', 'file', 'id', 'model_name', 'patch_size', 'shape'])\n",
      "0163\n",
      "Starting Training\n",
      "epoch: 00, loss: -0.04367\n",
      "epoch: 01, loss: -0.06306\n",
      "epoch: 02, loss: -0.06445\n",
      "epoch: 03, loss: -0.06453\n",
      "epoch: 04, loss: -0.06527\n",
      "epoch: 05, loss: -0.06497\n",
      "epoch: 06, loss: -0.06513\n",
      "epoch: 07, loss: -0.06532\n",
      "epoch: 08, loss: -0.06536\n",
      "epoch: 09, loss: -0.06564\n",
      "torch.Size([400, 64])\n"
     ]
    },
    {
     "name": "stderr",
     "output_type": "stream",
     "text": [
      "\r",
      " 16%|█████████████████████████▉                                                                                                                                     | 163/1000 [1:09:06<5:37:25, 24.19s/it]"
     ]
    },
    {
     "name": "stdout",
     "output_type": "stream",
     "text": [
      "eigenvalues shape torch.Size([5]) eigenvectors shape torch.Size([5, 400])\n",
      "163 /home/phdcs2/Hard_Disk/Datasets/Deep-Spectral-Segmentation/data/object-segmentation/ECSSD/features/dino_vits16/0164.pth\n",
      "dict_keys(['k', 'indices', 'file', 'id', 'model_name', 'patch_size', 'shape'])\n",
      "0164\n",
      "Starting Training\n",
      "epoch: 00, loss: -0.07482\n",
      "epoch: 01, loss: -0.09671\n",
      "epoch: 02, loss: -0.09683\n",
      "epoch: 03, loss: -0.09729\n",
      "epoch: 04, loss: -0.09760\n",
      "epoch: 05, loss: -0.09780\n",
      "epoch: 06, loss: -0.09790\n",
      "epoch: 07, loss: -0.09799\n",
      "epoch: 08, loss: -0.09815\n",
      "epoch: 09, loss: -0.09808\n",
      "torch.Size([550, 64])\n"
     ]
    },
    {
     "name": "stderr",
     "output_type": "stream",
     "text": [
      "\r",
      " 16%|██████████████████████████                                                                                                                                     | 164/1000 [1:09:42<6:27:15, 27.79s/it]"
     ]
    },
    {
     "name": "stdout",
     "output_type": "stream",
     "text": [
      "eigenvalues shape torch.Size([5]) eigenvectors shape torch.Size([5, 550])\n",
      "164 /home/phdcs2/Hard_Disk/Datasets/Deep-Spectral-Segmentation/data/object-segmentation/ECSSD/features/dino_vits16/0165.pth\n",
      "dict_keys(['k', 'indices', 'file', 'id', 'model_name', 'patch_size', 'shape'])\n",
      "0165\n",
      "Starting Training\n",
      "epoch: 00, loss: -0.07205\n",
      "epoch: 01, loss: -0.09909\n",
      "epoch: 02, loss: -0.10192\n",
      "epoch: 03, loss: -0.10407\n",
      "epoch: 04, loss: -0.10694\n",
      "epoch: 05, loss: -0.11125\n",
      "epoch: 06, loss: -0.10869\n",
      "epoch: 07, loss: -0.11430\n",
      "epoch: 08, loss: -0.11250\n",
      "epoch: 09, loss: -0.10884\n",
      "torch.Size([450, 64])\n"
     ]
    },
    {
     "name": "stderr",
     "output_type": "stream",
     "text": [
      "\r",
      " 16%|██████████████████████████▏                                                                                                                                    | 165/1000 [1:10:02<5:53:21, 25.39s/it]"
     ]
    },
    {
     "name": "stdout",
     "output_type": "stream",
     "text": [
      "eigenvalues shape torch.Size([5]) eigenvectors shape torch.Size([5, 450])\n",
      "165 /home/phdcs2/Hard_Disk/Datasets/Deep-Spectral-Segmentation/data/object-segmentation/ECSSD/features/dino_vits16/0166.pth\n",
      "dict_keys(['k', 'indices', 'file', 'id', 'model_name', 'patch_size', 'shape'])\n",
      "0166\n",
      "Starting Training\n",
      "epoch: 00, loss: -0.02492\n",
      "epoch: 01, loss: -0.04146\n",
      "epoch: 02, loss: -0.04338\n",
      "epoch: 03, loss: -0.04410\n",
      "epoch: 04, loss: -0.04452\n",
      "epoch: 05, loss: -0.04478\n",
      "epoch: 06, loss: -0.04511\n",
      "epoch: 07, loss: -0.04522\n",
      "epoch: 08, loss: -0.04520\n",
      "epoch: 09, loss: -0.04549\n",
      "torch.Size([400, 64])\n"
     ]
    },
    {
     "name": "stderr",
     "output_type": "stream",
     "text": [
      "\r",
      " 17%|██████████████████████████▍                                                                                                                                    | 166/1000 [1:10:25<5:41:56, 24.60s/it]"
     ]
    },
    {
     "name": "stdout",
     "output_type": "stream",
     "text": [
      "eigenvalues shape torch.Size([5]) eigenvectors shape torch.Size([5, 400])\n",
      "166 /home/phdcs2/Hard_Disk/Datasets/Deep-Spectral-Segmentation/data/object-segmentation/ECSSD/features/dino_vits16/0167.pth\n",
      "dict_keys(['k', 'indices', 'file', 'id', 'model_name', 'patch_size', 'shape'])\n",
      "0167\n",
      "Starting Training\n",
      "epoch: 00, loss: -0.04589\n",
      "epoch: 01, loss: -0.07721\n",
      "epoch: 02, loss: -0.07786\n",
      "epoch: 03, loss: -0.08360\n",
      "epoch: 04, loss: -0.08238\n",
      "epoch: 05, loss: -0.08271\n",
      "epoch: 06, loss: -0.08315\n",
      "epoch: 07, loss: -0.08447\n",
      "epoch: 08, loss: -0.08329\n",
      "epoch: 09, loss: -0.08448\n",
      "torch.Size([450, 64])\n"
     ]
    },
    {
     "name": "stderr",
     "output_type": "stream",
     "text": [
      "\r",
      " 17%|██████████████████████████▌                                                                                                                                    | 167/1000 [1:10:50<5:41:57, 24.63s/it]"
     ]
    },
    {
     "name": "stdout",
     "output_type": "stream",
     "text": [
      "eigenvalues shape torch.Size([5]) eigenvectors shape torch.Size([5, 450])\n",
      "167 /home/phdcs2/Hard_Disk/Datasets/Deep-Spectral-Segmentation/data/object-segmentation/ECSSD/features/dino_vits16/0168.pth\n",
      "dict_keys(['k', 'indices', 'file', 'id', 'model_name', 'patch_size', 'shape'])\n",
      "0168\n",
      "Starting Training\n",
      "epoch: 00, loss: -0.06994\n",
      "epoch: 01, loss: -0.09346\n",
      "epoch: 02, loss: -0.09858\n",
      "epoch: 03, loss: -0.09935\n",
      "epoch: 04, loss: -0.10085\n",
      "epoch: 05, loss: -0.10136\n",
      "epoch: 06, loss: -0.10024\n",
      "epoch: 07, loss: -0.10253\n",
      "epoch: 08, loss: -0.10113\n",
      "epoch: 09, loss: -0.10366\n",
      "torch.Size([400, 64])\n"
     ]
    },
    {
     "name": "stderr",
     "output_type": "stream",
     "text": [
      "\r",
      " 17%|██████████████████████████▋                                                                                                                                    | 168/1000 [1:11:13<5:37:15, 24.32s/it]"
     ]
    },
    {
     "name": "stdout",
     "output_type": "stream",
     "text": [
      "eigenvalues shape torch.Size([5]) eigenvectors shape torch.Size([5, 400])\n",
      "168 /home/phdcs2/Hard_Disk/Datasets/Deep-Spectral-Segmentation/data/object-segmentation/ECSSD/features/dino_vits16/0169.pth\n",
      "dict_keys(['k', 'indices', 'file', 'id', 'model_name', 'patch_size', 'shape'])\n",
      "0169\n",
      "Starting Training\n",
      "epoch: 00, loss: -0.01678\n",
      "epoch: 01, loss: -0.03770\n",
      "epoch: 02, loss: -0.04106\n",
      "epoch: 03, loss: -0.04197\n",
      "epoch: 04, loss: -0.04235\n",
      "epoch: 05, loss: -0.04255\n",
      "epoch: 06, loss: -0.04294\n",
      "epoch: 07, loss: -0.04296\n",
      "epoch: 08, loss: -0.04329\n",
      "epoch: 09, loss: -0.04320\n",
      "torch.Size([400, 64])\n"
     ]
    },
    {
     "name": "stderr",
     "output_type": "stream",
     "text": [
      "\r",
      " 17%|██████████████████████████▊                                                                                                                                    | 169/1000 [1:11:37<5:34:16, 24.14s/it]"
     ]
    },
    {
     "name": "stdout",
     "output_type": "stream",
     "text": [
      "eigenvalues shape torch.Size([5]) eigenvectors shape torch.Size([5, 400])\n",
      "169 /home/phdcs2/Hard_Disk/Datasets/Deep-Spectral-Segmentation/data/object-segmentation/ECSSD/features/dino_vits16/0170.pth\n",
      "dict_keys(['k', 'indices', 'file', 'id', 'model_name', 'patch_size', 'shape'])\n",
      "0170\n",
      "Starting Training\n",
      "epoch: 00, loss: -0.04299\n",
      "epoch: 01, loss: -0.06312\n",
      "epoch: 02, loss: -0.06482\n",
      "epoch: 03, loss: -0.06454\n",
      "epoch: 04, loss: -0.06501\n",
      "epoch: 05, loss: -0.06499\n",
      "epoch: 06, loss: -0.06525\n",
      "epoch: 07, loss: -0.06530\n",
      "epoch: 08, loss: -0.06540\n",
      "epoch: 09, loss: -0.06554\n",
      "torch.Size([450, 64])\n"
     ]
    },
    {
     "name": "stderr",
     "output_type": "stream",
     "text": [
      "\r",
      " 17%|███████████████████████████                                                                                                                                    | 170/1000 [1:12:03<5:42:04, 24.73s/it]"
     ]
    },
    {
     "name": "stdout",
     "output_type": "stream",
     "text": [
      "eigenvalues shape torch.Size([5]) eigenvectors shape torch.Size([5, 450])\n",
      "170 /home/phdcs2/Hard_Disk/Datasets/Deep-Spectral-Segmentation/data/object-segmentation/ECSSD/features/dino_vits16/0171.pth\n",
      "dict_keys(['k', 'indices', 'file', 'id', 'model_name', 'patch_size', 'shape'])\n",
      "0171\n",
      "Starting Training\n",
      "epoch: 00, loss: -0.06370\n",
      "epoch: 01, loss: -0.09436\n",
      "epoch: 02, loss: -0.10111\n",
      "epoch: 03, loss: -0.10101\n",
      "epoch: 04, loss: -0.10451\n",
      "epoch: 05, loss: -0.10552\n",
      "epoch: 06, loss: -0.10618\n",
      "epoch: 07, loss: -0.11239\n",
      "epoch: 08, loss: -0.10617\n",
      "epoch: 09, loss: -0.10397\n",
      "torch.Size([375, 64])\n"
     ]
    },
    {
     "name": "stderr",
     "output_type": "stream",
     "text": [
      "\r",
      " 17%|███████████████████████████▏                                                                                                                                   | 171/1000 [1:12:25<5:28:48, 23.80s/it]"
     ]
    },
    {
     "name": "stdout",
     "output_type": "stream",
     "text": [
      "eigenvalues shape torch.Size([5]) eigenvectors shape torch.Size([5, 375])\n",
      "171 /home/phdcs2/Hard_Disk/Datasets/Deep-Spectral-Segmentation/data/object-segmentation/ECSSD/features/dino_vits16/0172.pth\n",
      "dict_keys(['k', 'indices', 'file', 'id', 'model_name', 'patch_size', 'shape'])\n",
      "0172\n",
      "Starting Training\n",
      "epoch: 00, loss: -0.04270\n",
      "epoch: 01, loss: -0.06982\n",
      "epoch: 02, loss: -0.07763\n",
      "epoch: 03, loss: -0.07872\n",
      "epoch: 04, loss: -0.07850\n",
      "epoch: 05, loss: -0.07818\n",
      "epoch: 06, loss: -0.08063\n",
      "epoch: 07, loss: -0.08024\n",
      "epoch: 08, loss: -0.07852\n",
      "epoch: 09, loss: -0.07744\n",
      "torch.Size([375, 64])\n"
     ]
    },
    {
     "name": "stderr",
     "output_type": "stream",
     "text": [
      "\r",
      " 17%|███████████████████████████▎                                                                                                                                   | 172/1000 [1:12:46<5:18:33, 23.08s/it]"
     ]
    },
    {
     "name": "stdout",
     "output_type": "stream",
     "text": [
      "eigenvalues shape torch.Size([5]) eigenvectors shape torch.Size([5, 375])\n",
      "172 /home/phdcs2/Hard_Disk/Datasets/Deep-Spectral-Segmentation/data/object-segmentation/ECSSD/features/dino_vits16/0173.pth\n",
      "dict_keys(['k', 'indices', 'file', 'id', 'model_name', 'patch_size', 'shape'])\n",
      "0173\n",
      "Starting Training\n",
      "epoch: 00, loss: -0.12956\n",
      "epoch: 01, loss: -0.15710\n",
      "epoch: 02, loss: -0.15867\n",
      "epoch: 03, loss: -0.16113\n",
      "epoch: 04, loss: -0.16354\n",
      "epoch: 05, loss: -0.16334\n",
      "epoch: 06, loss: -0.16321\n",
      "epoch: 07, loss: -0.16336\n",
      "epoch: 08, loss: -0.16517\n",
      "epoch: 09, loss: -0.16465\n",
      "torch.Size([450, 64])\n"
     ]
    },
    {
     "name": "stderr",
     "output_type": "stream",
     "text": [
      "\r",
      " 17%|███████████████████████████▌                                                                                                                                   | 173/1000 [1:13:09<5:17:04, 23.00s/it]"
     ]
    },
    {
     "name": "stdout",
     "output_type": "stream",
     "text": [
      "eigenvalues shape torch.Size([5]) eigenvectors shape torch.Size([5, 450])\n",
      "173 /home/phdcs2/Hard_Disk/Datasets/Deep-Spectral-Segmentation/data/object-segmentation/ECSSD/features/dino_vits16/0174.pth\n",
      "dict_keys(['k', 'indices', 'file', 'id', 'model_name', 'patch_size', 'shape'])\n",
      "0174\n",
      "Starting Training\n",
      "epoch: 00, loss: -0.02688\n",
      "epoch: 01, loss: -0.04593\n",
      "epoch: 02, loss: -0.04667\n",
      "epoch: 03, loss: -0.04808\n",
      "epoch: 04, loss: -0.04796\n",
      "epoch: 05, loss: -0.04740\n",
      "epoch: 06, loss: -0.04753\n",
      "epoch: 07, loss: -0.04783\n",
      "epoch: 08, loss: -0.04800\n",
      "epoch: 09, loss: -0.04802\n",
      "torch.Size([375, 64])\n"
     ]
    },
    {
     "name": "stderr",
     "output_type": "stream",
     "text": [
      "\r",
      " 17%|███████████████████████████▋                                                                                                                                   | 174/1000 [1:13:32<5:15:56, 22.95s/it]"
     ]
    },
    {
     "name": "stdout",
     "output_type": "stream",
     "text": [
      "eigenvalues shape torch.Size([5]) eigenvectors shape torch.Size([5, 375])\n",
      "174 /home/phdcs2/Hard_Disk/Datasets/Deep-Spectral-Segmentation/data/object-segmentation/ECSSD/features/dino_vits16/0175.pth\n",
      "dict_keys(['k', 'indices', 'file', 'id', 'model_name', 'patch_size', 'shape'])\n",
      "0175\n",
      "Starting Training\n",
      "epoch: 00, loss: -0.01364\n",
      "epoch: 01, loss: -0.03399\n",
      "epoch: 02, loss: -0.03693\n",
      "epoch: 03, loss: -0.03808\n",
      "epoch: 04, loss: -0.03844\n",
      "epoch: 05, loss: -0.03852\n",
      "epoch: 06, loss: -0.03875\n",
      "epoch: 07, loss: -0.03900\n",
      "epoch: 08, loss: -0.03898\n",
      "epoch: 09, loss: -0.03926\n",
      "torch.Size([450, 64])\n"
     ]
    },
    {
     "name": "stderr",
     "output_type": "stream",
     "text": [
      "\r",
      " 18%|███████████████████████████▊                                                                                                                                   | 175/1000 [1:14:03<5:49:49, 25.44s/it]"
     ]
    },
    {
     "name": "stdout",
     "output_type": "stream",
     "text": [
      "eigenvalues shape torch.Size([5]) eigenvectors shape torch.Size([5, 450])\n",
      "175 /home/phdcs2/Hard_Disk/Datasets/Deep-Spectral-Segmentation/data/object-segmentation/ECSSD/features/dino_vits16/0176.pth\n",
      "dict_keys(['k', 'indices', 'file', 'id', 'model_name', 'patch_size', 'shape'])\n",
      "0176\n",
      "Starting Training\n",
      "epoch: 00, loss: -0.02697\n",
      "epoch: 01, loss: -0.05342\n",
      "epoch: 02, loss: -0.05598\n",
      "epoch: 03, loss: -0.05565\n",
      "epoch: 04, loss: -0.05712\n",
      "epoch: 05, loss: -0.05724\n",
      "epoch: 06, loss: -0.05771\n",
      "epoch: 07, loss: -0.05749\n",
      "epoch: 08, loss: -0.05843\n",
      "epoch: 09, loss: -0.05969\n",
      "torch.Size([550, 64])\n"
     ]
    },
    {
     "name": "stderr",
     "output_type": "stream",
     "text": [
      "\r",
      " 18%|███████████████████████████▉                                                                                                                                   | 176/1000 [1:14:48<7:10:11, 31.32s/it]"
     ]
    },
    {
     "name": "stdout",
     "output_type": "stream",
     "text": [
      "eigenvalues shape torch.Size([5]) eigenvectors shape torch.Size([5, 550])\n",
      "176 /home/phdcs2/Hard_Disk/Datasets/Deep-Spectral-Segmentation/data/object-segmentation/ECSSD/features/dino_vits16/0177.pth\n",
      "dict_keys(['k', 'indices', 'file', 'id', 'model_name', 'patch_size', 'shape'])\n",
      "0177\n",
      "Starting Training\n",
      "epoch: 00, loss: -0.04552\n",
      "epoch: 01, loss: -0.07942\n",
      "epoch: 02, loss: -0.08469\n",
      "epoch: 03, loss: -0.08810\n",
      "epoch: 04, loss: -0.08755\n",
      "epoch: 05, loss: -0.08812\n",
      "epoch: 06, loss: -0.08654\n",
      "epoch: 07, loss: -0.08894\n",
      "epoch: 08, loss: -0.08947\n",
      "epoch: 09, loss: -0.08946\n",
      "torch.Size([400, 64])\n"
     ]
    },
    {
     "name": "stderr",
     "output_type": "stream",
     "text": [
      "\r",
      " 18%|████████████████████████████▏                                                                                                                                  | 177/1000 [1:15:15<6:50:11, 29.90s/it]"
     ]
    },
    {
     "name": "stdout",
     "output_type": "stream",
     "text": [
      "eigenvalues shape torch.Size([5]) eigenvectors shape torch.Size([5, 400])\n",
      "177 /home/phdcs2/Hard_Disk/Datasets/Deep-Spectral-Segmentation/data/object-segmentation/ECSSD/features/dino_vits16/0178.pth\n",
      "dict_keys(['k', 'indices', 'file', 'id', 'model_name', 'patch_size', 'shape'])\n",
      "0178\n",
      "Starting Training\n",
      "epoch: 00, loss: -0.03537\n",
      "epoch: 01, loss: -0.04905\n",
      "epoch: 02, loss: -0.05050\n",
      "epoch: 03, loss: -0.05091\n",
      "epoch: 04, loss: -0.05118\n",
      "epoch: 05, loss: -0.05155\n",
      "epoch: 06, loss: -0.05160\n",
      "epoch: 07, loss: -0.05183\n",
      "epoch: 08, loss: -0.05199\n",
      "epoch: 09, loss: -0.05198\n",
      "torch.Size([450, 64])\n"
     ]
    },
    {
     "name": "stderr",
     "output_type": "stream",
     "text": [
      "\r",
      " 18%|████████████████████████████▎                                                                                                                                  | 178/1000 [1:15:41<6:37:05, 28.98s/it]"
     ]
    },
    {
     "name": "stdout",
     "output_type": "stream",
     "text": [
      "eigenvalues shape torch.Size([5]) eigenvectors shape torch.Size([5, 450])\n",
      "178 /home/phdcs2/Hard_Disk/Datasets/Deep-Spectral-Segmentation/data/object-segmentation/ECSSD/features/dino_vits16/0179.pth\n",
      "dict_keys(['k', 'indices', 'file', 'id', 'model_name', 'patch_size', 'shape'])\n",
      "0179\n",
      "Starting Training\n",
      "epoch: 00, loss: -0.03382\n",
      "epoch: 01, loss: -0.06936\n",
      "epoch: 02, loss: -0.07871\n",
      "epoch: 03, loss: -0.08083\n",
      "epoch: 04, loss: -0.07894\n",
      "epoch: 05, loss: -0.08106\n",
      "epoch: 06, loss: -0.08106\n",
      "epoch: 07, loss: -0.08140\n",
      "epoch: 08, loss: -0.08379\n",
      "epoch: 09, loss: -0.08516\n",
      "torch.Size([400, 64])\n"
     ]
    },
    {
     "name": "stderr",
     "output_type": "stream",
     "text": [
      "\r",
      " 18%|████████████████████████████▍                                                                                                                                  | 179/1000 [1:16:04<6:11:51, 27.18s/it]"
     ]
    },
    {
     "name": "stdout",
     "output_type": "stream",
     "text": [
      "eigenvalues shape torch.Size([5]) eigenvectors shape torch.Size([5, 400])\n",
      "179 /home/phdcs2/Hard_Disk/Datasets/Deep-Spectral-Segmentation/data/object-segmentation/ECSSD/features/dino_vits16/0180.pth\n",
      "dict_keys(['k', 'indices', 'file', 'id', 'model_name', 'patch_size', 'shape'])\n",
      "0180\n",
      "Starting Training\n",
      "epoch: 00, loss: -0.05426\n",
      "epoch: 01, loss: -0.07915\n",
      "epoch: 02, loss: -0.07983\n",
      "epoch: 03, loss: -0.07992\n",
      "epoch: 04, loss: -0.08038\n",
      "epoch: 05, loss: -0.08077\n",
      "epoch: 06, loss: -0.08065\n",
      "epoch: 07, loss: -0.08088\n",
      "epoch: 08, loss: -0.08096\n",
      "epoch: 09, loss: -0.08102\n",
      "torch.Size([400, 64])\n"
     ]
    },
    {
     "name": "stderr",
     "output_type": "stream",
     "text": [
      "\r",
      " 18%|████████████████████████████▌                                                                                                                                  | 180/1000 [1:16:25<5:46:24, 25.35s/it]"
     ]
    },
    {
     "name": "stdout",
     "output_type": "stream",
     "text": [
      "eigenvalues shape torch.Size([5]) eigenvectors shape torch.Size([5, 400])\n",
      "180 /home/phdcs2/Hard_Disk/Datasets/Deep-Spectral-Segmentation/data/object-segmentation/ECSSD/features/dino_vits16/0181.pth\n",
      "dict_keys(['k', 'indices', 'file', 'id', 'model_name', 'patch_size', 'shape'])\n",
      "0181\n",
      "Starting Training\n",
      "epoch: 00, loss: -0.01729\n",
      "epoch: 01, loss: -0.06034\n",
      "epoch: 02, loss: -0.06641\n",
      "epoch: 03, loss: -0.06808\n",
      "epoch: 04, loss: -0.07000\n",
      "epoch: 05, loss: -0.07308\n",
      "epoch: 06, loss: -0.07050\n",
      "epoch: 07, loss: -0.07193\n",
      "epoch: 08, loss: -0.06973\n",
      "epoch: 09, loss: -0.07065\n",
      "torch.Size([375, 64])\n"
     ]
    },
    {
     "name": "stderr",
     "output_type": "stream",
     "text": [
      "\r",
      " 18%|████████████████████████████▊                                                                                                                                  | 181/1000 [1:16:48<5:33:05, 24.40s/it]"
     ]
    },
    {
     "name": "stdout",
     "output_type": "stream",
     "text": [
      "eigenvalues shape torch.Size([5]) eigenvectors shape torch.Size([5, 375])\n",
      "181 /home/phdcs2/Hard_Disk/Datasets/Deep-Spectral-Segmentation/data/object-segmentation/ECSSD/features/dino_vits16/0182.pth\n",
      "dict_keys(['k', 'indices', 'file', 'id', 'model_name', 'patch_size', 'shape'])\n",
      "0182\n",
      "Starting Training\n",
      "epoch: 00, loss: -0.08694\n",
      "epoch: 01, loss: -0.11645\n",
      "epoch: 02, loss: -0.11982\n",
      "epoch: 03, loss: -0.12236\n",
      "epoch: 04, loss: -0.12200\n",
      "epoch: 05, loss: -0.12308\n",
      "epoch: 06, loss: -0.12303\n",
      "epoch: 07, loss: -0.12440\n",
      "epoch: 08, loss: -0.12502\n",
      "epoch: 09, loss: -0.12520\n",
      "torch.Size([625, 64])\n"
     ]
    },
    {
     "name": "stderr",
     "output_type": "stream",
     "text": [
      "\r",
      " 18%|████████████████████████████▉                                                                                                                                  | 182/1000 [1:17:38<7:20:31, 32.31s/it]"
     ]
    },
    {
     "name": "stdout",
     "output_type": "stream",
     "text": [
      "eigenvalues shape torch.Size([5]) eigenvectors shape torch.Size([5, 625])\n",
      "182 /home/phdcs2/Hard_Disk/Datasets/Deep-Spectral-Segmentation/data/object-segmentation/ECSSD/features/dino_vits16/0183.pth\n",
      "dict_keys(['k', 'indices', 'file', 'id', 'model_name', 'patch_size', 'shape'])\n",
      "0183\n",
      "Starting Training\n",
      "epoch: 00, loss: -0.02161\n",
      "epoch: 01, loss: -0.04951\n",
      "epoch: 02, loss: -0.04822\n",
      "epoch: 03, loss: -0.05416\n",
      "epoch: 04, loss: -0.05708\n",
      "epoch: 05, loss: -0.05548\n",
      "epoch: 06, loss: -0.05207\n",
      "epoch: 07, loss: -0.05638\n",
      "epoch: 08, loss: -0.05595\n",
      "epoch: 09, loss: -0.05772\n",
      "torch.Size([400, 64])\n"
     ]
    },
    {
     "name": "stderr",
     "output_type": "stream",
     "text": [
      "\r",
      " 18%|█████████████████████████████                                                                                                                                  | 183/1000 [1:18:08<7:06:41, 31.34s/it]"
     ]
    },
    {
     "name": "stdout",
     "output_type": "stream",
     "text": [
      "eigenvalues shape torch.Size([5]) eigenvectors shape torch.Size([5, 400])\n",
      "183 /home/phdcs2/Hard_Disk/Datasets/Deep-Spectral-Segmentation/data/object-segmentation/ECSSD/features/dino_vits16/0184.pth\n",
      "dict_keys(['k', 'indices', 'file', 'id', 'model_name', 'patch_size', 'shape'])\n",
      "0184\n",
      "Starting Training\n",
      "epoch: 00, loss: -0.07329\n",
      "epoch: 01, loss: -0.10188\n",
      "epoch: 02, loss: -0.10383\n",
      "epoch: 03, loss: -0.10549\n",
      "epoch: 04, loss: -0.10588\n",
      "epoch: 05, loss: -0.10702\n",
      "epoch: 06, loss: -0.10359\n",
      "epoch: 07, loss: -0.10569\n",
      "epoch: 08, loss: -0.10653\n",
      "epoch: 09, loss: -0.10636\n",
      "torch.Size([625, 64])\n"
     ]
    },
    {
     "name": "stderr",
     "output_type": "stream",
     "text": [
      "\r",
      " 18%|█████████████████████████████▎                                                                                                                                 | 184/1000 [1:19:02<8:41:00, 38.31s/it]"
     ]
    },
    {
     "name": "stdout",
     "output_type": "stream",
     "text": [
      "eigenvalues shape torch.Size([5]) eigenvectors shape torch.Size([5, 625])\n",
      "184 /home/phdcs2/Hard_Disk/Datasets/Deep-Spectral-Segmentation/data/object-segmentation/ECSSD/features/dino_vits16/0185.pth\n",
      "dict_keys(['k', 'indices', 'file', 'id', 'model_name', 'patch_size', 'shape'])\n",
      "0185\n",
      "Starting Training\n",
      "epoch: 00, loss: -0.02417\n",
      "epoch: 01, loss: -0.04501\n",
      "epoch: 02, loss: -0.04695\n",
      "epoch: 03, loss: -0.04641\n",
      "epoch: 04, loss: -0.04763\n",
      "epoch: 05, loss: -0.04795\n",
      "epoch: 06, loss: -0.04746\n",
      "epoch: 07, loss: -0.04771\n",
      "epoch: 08, loss: -0.04849\n",
      "epoch: 09, loss: -0.04759\n",
      "torch.Size([625, 64])\n"
     ]
    },
    {
     "name": "stderr",
     "output_type": "stream",
     "text": [
      "\r",
      " 18%|█████████████████████████████▍                                                                                                                                 | 185/1000 [1:20:00<9:58:53, 44.09s/it]"
     ]
    },
    {
     "name": "stdout",
     "output_type": "stream",
     "text": [
      "eigenvalues shape torch.Size([5]) eigenvectors shape torch.Size([5, 625])\n",
      "185 /home/phdcs2/Hard_Disk/Datasets/Deep-Spectral-Segmentation/data/object-segmentation/ECSSD/features/dino_vits16/0186.pth\n",
      "dict_keys(['k', 'indices', 'file', 'id', 'model_name', 'patch_size', 'shape'])\n",
      "0186\n",
      "Starting Training\n",
      "epoch: 00, loss: -0.05682\n",
      "epoch: 01, loss: -0.08753\n",
      "epoch: 02, loss: -0.09011\n",
      "epoch: 03, loss: -0.09354\n",
      "epoch: 04, loss: -0.09159\n",
      "epoch: 05, loss: -0.09525\n",
      "epoch: 06, loss: -0.09405\n",
      "epoch: 07, loss: -0.09501\n",
      "epoch: 08, loss: -0.09458\n",
      "epoch: 09, loss: -0.09553\n",
      "torch.Size([625, 64])\n"
     ]
    },
    {
     "name": "stderr",
     "output_type": "stream",
     "text": [
      "\r",
      " 19%|█████████████████████████████▍                                                                                                                                | 186/1000 [1:20:48<10:15:53, 45.40s/it]"
     ]
    },
    {
     "name": "stdout",
     "output_type": "stream",
     "text": [
      "eigenvalues shape torch.Size([5]) eigenvectors shape torch.Size([5, 625])\n",
      "186 /home/phdcs2/Hard_Disk/Datasets/Deep-Spectral-Segmentation/data/object-segmentation/ECSSD/features/dino_vits16/0187.pth\n",
      "dict_keys(['k', 'indices', 'file', 'id', 'model_name', 'patch_size', 'shape'])\n",
      "0187\n",
      "Starting Training\n",
      "epoch: 00, loss: -0.00928\n",
      "epoch: 01, loss: -0.03772\n",
      "epoch: 02, loss: -0.04249\n",
      "epoch: 03, loss: -0.05108\n",
      "epoch: 04, loss: -0.05403\n",
      "epoch: 05, loss: -0.05741\n",
      "epoch: 06, loss: -0.06179\n",
      "epoch: 07, loss: -0.05870\n",
      "epoch: 08, loss: -0.05965\n",
      "epoch: 09, loss: -0.05691\n",
      "torch.Size([200, 64])\n"
     ]
    },
    {
     "name": "stderr",
     "output_type": "stream",
     "text": [
      "\r",
      " 19%|█████████████████████████████▋                                                                                                                                 | 187/1000 [1:20:57<7:44:49, 34.30s/it]"
     ]
    },
    {
     "name": "stdout",
     "output_type": "stream",
     "text": [
      "eigenvalues shape torch.Size([5]) eigenvectors shape torch.Size([5, 200])\n",
      "187 /home/phdcs2/Hard_Disk/Datasets/Deep-Spectral-Segmentation/data/object-segmentation/ECSSD/features/dino_vits16/0188.pth\n",
      "dict_keys(['k', 'indices', 'file', 'id', 'model_name', 'patch_size', 'shape'])\n",
      "0188\n",
      "Starting Training\n",
      "epoch: 00, loss: -0.01923\n",
      "epoch: 01, loss: -0.03800\n",
      "epoch: 02, loss: -0.04089\n",
      "epoch: 03, loss: -0.04165\n",
      "epoch: 04, loss: -0.04199\n",
      "epoch: 05, loss: -0.04222\n",
      "epoch: 06, loss: -0.04256\n",
      "epoch: 07, loss: -0.04257\n",
      "epoch: 08, loss: -0.04274\n",
      "epoch: 09, loss: -0.04290\n",
      "torch.Size([400, 64])\n"
     ]
    },
    {
     "name": "stderr",
     "output_type": "stream",
     "text": [
      "\r",
      " 19%|█████████████████████████████▉                                                                                                                                 | 188/1000 [1:21:26<7:24:20, 32.83s/it]"
     ]
    },
    {
     "name": "stdout",
     "output_type": "stream",
     "text": [
      "eigenvalues shape torch.Size([5]) eigenvectors shape torch.Size([5, 400])\n",
      "188 /home/phdcs2/Hard_Disk/Datasets/Deep-Spectral-Segmentation/data/object-segmentation/ECSSD/features/dino_vits16/0189.pth\n",
      "dict_keys(['k', 'indices', 'file', 'id', 'model_name', 'patch_size', 'shape'])\n",
      "0189\n",
      "Starting Training\n",
      "epoch: 00, loss: -0.00078\n",
      "epoch: 01, loss: -0.02178\n",
      "epoch: 02, loss: -0.02803\n",
      "epoch: 03, loss: -0.03057\n",
      "epoch: 04, loss: -0.03131\n",
      "epoch: 05, loss: -0.03202\n",
      "epoch: 06, loss: -0.03266\n",
      "epoch: 07, loss: -0.03238\n",
      "epoch: 08, loss: -0.03204\n",
      "epoch: 09, loss: -0.03308\n",
      "torch.Size([400, 64])\n"
     ]
    },
    {
     "name": "stderr",
     "output_type": "stream",
     "text": [
      "\r",
      " 19%|██████████████████████████████                                                                                                                                 | 189/1000 [1:21:49<6:45:07, 29.97s/it]"
     ]
    },
    {
     "name": "stdout",
     "output_type": "stream",
     "text": [
      "eigenvalues shape torch.Size([5]) eigenvectors shape torch.Size([5, 400])\n",
      "189 /home/phdcs2/Hard_Disk/Datasets/Deep-Spectral-Segmentation/data/object-segmentation/ECSSD/features/dino_vits16/0190.pth\n",
      "dict_keys(['k', 'indices', 'file', 'id', 'model_name', 'patch_size', 'shape'])\n",
      "0190\n",
      "Starting Training\n",
      "epoch: 00, loss: -0.03629\n",
      "epoch: 01, loss: -0.05825\n",
      "epoch: 02, loss: -0.05906\n",
      "epoch: 03, loss: -0.06001\n",
      "epoch: 04, loss: -0.06003\n",
      "epoch: 05, loss: -0.06022\n",
      "epoch: 06, loss: -0.06034\n",
      "epoch: 07, loss: -0.06063\n",
      "epoch: 08, loss: -0.06088\n",
      "epoch: 09, loss: -0.06082\n",
      "torch.Size([450, 64])\n"
     ]
    },
    {
     "name": "stderr",
     "output_type": "stream",
     "text": [
      "\r",
      " 19%|██████████████████████████████▏                                                                                                                                | 190/1000 [1:22:18<6:38:09, 29.49s/it]"
     ]
    },
    {
     "name": "stdout",
     "output_type": "stream",
     "text": [
      "eigenvalues shape torch.Size([5]) eigenvectors shape torch.Size([5, 450])\n",
      "190 /home/phdcs2/Hard_Disk/Datasets/Deep-Spectral-Segmentation/data/object-segmentation/ECSSD/features/dino_vits16/0191.pth\n",
      "dict_keys(['k', 'indices', 'file', 'id', 'model_name', 'patch_size', 'shape'])\n",
      "0191\n",
      "Starting Training\n",
      "epoch: 00, loss: -0.12471\n",
      "epoch: 01, loss: -0.15260\n",
      "epoch: 02, loss: -0.15494\n",
      "epoch: 03, loss: -0.15635\n",
      "epoch: 04, loss: -0.15969\n",
      "epoch: 05, loss: -0.15736\n",
      "epoch: 06, loss: -0.16017\n",
      "epoch: 07, loss: -0.16187\n",
      "epoch: 08, loss: -0.15844\n",
      "epoch: 09, loss: -0.16404\n",
      "torch.Size([450, 64])\n"
     ]
    },
    {
     "name": "stderr",
     "output_type": "stream",
     "text": [
      "\r",
      " 19%|██████████████████████████████▎                                                                                                                                | 191/1000 [1:22:42<6:18:07, 28.04s/it]"
     ]
    },
    {
     "name": "stdout",
     "output_type": "stream",
     "text": [
      "eigenvalues shape torch.Size([5]) eigenvectors shape torch.Size([5, 450])\n",
      "191 /home/phdcs2/Hard_Disk/Datasets/Deep-Spectral-Segmentation/data/object-segmentation/ECSSD/features/dino_vits16/0192.pth\n",
      "dict_keys(['k', 'indices', 'file', 'id', 'model_name', 'patch_size', 'shape'])\n",
      "0192\n",
      "Starting Training\n",
      "epoch: 00, loss: -0.04142\n",
      "epoch: 01, loss: -0.06888\n",
      "epoch: 02, loss: -0.06945\n",
      "epoch: 03, loss: -0.07006\n",
      "epoch: 04, loss: -0.07043\n",
      "epoch: 05, loss: -0.07037\n",
      "epoch: 06, loss: -0.07070\n",
      "epoch: 07, loss: -0.07071\n",
      "epoch: 08, loss: -0.07079\n",
      "epoch: 09, loss: -0.07091\n",
      "torch.Size([400, 64])\n"
     ]
    },
    {
     "name": "stderr",
     "output_type": "stream",
     "text": [
      "\r",
      " 19%|██████████████████████████████▌                                                                                                                                | 192/1000 [1:23:02<5:44:48, 25.61s/it]"
     ]
    },
    {
     "name": "stdout",
     "output_type": "stream",
     "text": [
      "eigenvalues shape torch.Size([5]) eigenvectors shape torch.Size([5, 400])\n",
      "192 /home/phdcs2/Hard_Disk/Datasets/Deep-Spectral-Segmentation/data/object-segmentation/ECSSD/features/dino_vits16/0193.pth\n",
      "dict_keys(['k', 'indices', 'file', 'id', 'model_name', 'patch_size', 'shape'])\n",
      "0193\n",
      "Starting Training\n",
      "epoch: 00, loss: -0.00094\n",
      "epoch: 01, loss: -0.01159\n",
      "epoch: 02, loss: -0.01515\n",
      "epoch: 03, loss: -0.01656\n",
      "epoch: 04, loss: -0.01752\n",
      "epoch: 05, loss: -0.01799\n",
      "epoch: 06, loss: -0.01824\n",
      "epoch: 07, loss: -0.01846\n",
      "epoch: 08, loss: -0.01864\n",
      "epoch: 09, loss: -0.01883\n",
      "torch.Size([450, 64])\n"
     ]
    },
    {
     "name": "stderr",
     "output_type": "stream",
     "text": [
      "\r",
      " 19%|██████████████████████████████▋                                                                                                                                | 193/1000 [1:23:26<5:37:34, 25.10s/it]"
     ]
    },
    {
     "name": "stdout",
     "output_type": "stream",
     "text": [
      "eigenvalues shape torch.Size([5]) eigenvectors shape torch.Size([5, 450])\n",
      "193 /home/phdcs2/Hard_Disk/Datasets/Deep-Spectral-Segmentation/data/object-segmentation/ECSSD/features/dino_vits16/0194.pth\n",
      "dict_keys(['k', 'indices', 'file', 'id', 'model_name', 'patch_size', 'shape'])\n",
      "0194\n",
      "Starting Training\n",
      "epoch: 00, loss: -0.00425\n",
      "epoch: 01, loss: -0.02195\n",
      "epoch: 02, loss: -0.02679\n",
      "epoch: 03, loss: -0.02843\n",
      "epoch: 04, loss: -0.02940\n",
      "epoch: 05, loss: -0.02973\n",
      "epoch: 06, loss: -0.03011\n",
      "epoch: 07, loss: -0.03020\n",
      "epoch: 08, loss: -0.03021\n",
      "epoch: 09, loss: -0.03068\n",
      "torch.Size([450, 64])\n"
     ]
    },
    {
     "name": "stderr",
     "output_type": "stream",
     "text": [
      "\r",
      " 19%|██████████████████████████████▊                                                                                                                                | 194/1000 [1:23:49<5:29:09, 24.50s/it]"
     ]
    },
    {
     "name": "stdout",
     "output_type": "stream",
     "text": [
      "eigenvalues shape torch.Size([5]) eigenvectors shape torch.Size([5, 450])\n",
      "194 /home/phdcs2/Hard_Disk/Datasets/Deep-Spectral-Segmentation/data/object-segmentation/ECSSD/features/dino_vits16/0195.pth\n",
      "dict_keys(['k', 'indices', 'file', 'id', 'model_name', 'patch_size', 'shape'])\n",
      "0195\n",
      "Starting Training\n",
      "epoch: 00, loss: -0.05839\n",
      "epoch: 01, loss: -0.08869\n",
      "epoch: 02, loss: -0.09033\n",
      "epoch: 03, loss: -0.09114\n",
      "epoch: 04, loss: -0.09350\n",
      "epoch: 05, loss: -0.09416\n",
      "epoch: 06, loss: -0.09733\n",
      "epoch: 07, loss: -0.09392\n",
      "epoch: 08, loss: -0.09770\n",
      "epoch: 09, loss: -0.09668\n",
      "torch.Size([400, 64])\n"
     ]
    },
    {
     "name": "stderr",
     "output_type": "stream",
     "text": [
      "\r",
      " 20%|███████████████████████████████                                                                                                                                | 195/1000 [1:24:12<5:21:03, 23.93s/it]"
     ]
    },
    {
     "name": "stdout",
     "output_type": "stream",
     "text": [
      "eigenvalues shape torch.Size([5]) eigenvectors shape torch.Size([5, 400])\n",
      "195 /home/phdcs2/Hard_Disk/Datasets/Deep-Spectral-Segmentation/data/object-segmentation/ECSSD/features/dino_vits16/0196.pth\n",
      "dict_keys(['k', 'indices', 'file', 'id', 'model_name', 'patch_size', 'shape'])\n",
      "0196\n",
      "Starting Training\n",
      "epoch: 00, loss: -0.03918\n",
      "epoch: 01, loss: -0.06206\n",
      "epoch: 02, loss: -0.06368\n",
      "epoch: 03, loss: -0.06729\n",
      "epoch: 04, loss: -0.06757\n",
      "epoch: 05, loss: -0.06856\n",
      "epoch: 06, loss: -0.06786\n",
      "epoch: 07, loss: -0.06699\n",
      "epoch: 08, loss: -0.07059\n",
      "epoch: 09, loss: -0.06756\n",
      "torch.Size([625, 64])\n"
     ]
    },
    {
     "name": "stderr",
     "output_type": "stream",
     "text": [
      "\r",
      " 20%|███████████████████████████████▏                                                                                                                               | 196/1000 [1:24:45<5:59:33, 26.83s/it]"
     ]
    },
    {
     "name": "stdout",
     "output_type": "stream",
     "text": [
      "eigenvalues shape torch.Size([5]) eigenvectors shape torch.Size([5, 625])\n",
      "196 /home/phdcs2/Hard_Disk/Datasets/Deep-Spectral-Segmentation/data/object-segmentation/ECSSD/features/dino_vits16/0197.pth\n",
      "dict_keys(['k', 'indices', 'file', 'id', 'model_name', 'patch_size', 'shape'])\n",
      "0197\n",
      "Starting Training\n",
      "epoch: 00, loss: -0.05527\n",
      "epoch: 01, loss: -0.07858\n",
      "epoch: 02, loss: -0.07991\n",
      "epoch: 03, loss: -0.08008\n",
      "epoch: 04, loss: -0.08054\n",
      "epoch: 05, loss: -0.08056\n",
      "epoch: 06, loss: -0.08132\n",
      "epoch: 07, loss: -0.08080\n",
      "epoch: 08, loss: -0.08091\n",
      "epoch: 09, loss: -0.08097\n",
      "torch.Size([400, 64])\n"
     ]
    },
    {
     "name": "stderr",
     "output_type": "stream",
     "text": [
      "\r",
      " 20%|███████████████████████████████▎                                                                                                                               | 197/1000 [1:25:06<5:33:57, 24.95s/it]"
     ]
    },
    {
     "name": "stdout",
     "output_type": "stream",
     "text": [
      "eigenvalues shape torch.Size([5]) eigenvectors shape torch.Size([5, 400])\n",
      "197 /home/phdcs2/Hard_Disk/Datasets/Deep-Spectral-Segmentation/data/object-segmentation/ECSSD/features/dino_vits16/0198.pth\n",
      "dict_keys(['k', 'indices', 'file', 'id', 'model_name', 'patch_size', 'shape'])\n",
      "0198\n",
      "Starting Training\n",
      "epoch: 00, loss: -0.00412\n",
      "epoch: 01, loss: -0.01688\n",
      "epoch: 02, loss: -0.02177\n",
      "epoch: 03, loss: -0.02428\n",
      "epoch: 04, loss: -0.02616\n",
      "epoch: 05, loss: -0.02473\n",
      "epoch: 06, loss: -0.02608\n",
      "epoch: 07, loss: -0.02459\n",
      "epoch: 08, loss: -0.02548\n",
      "epoch: 09, loss: -0.02553\n",
      "torch.Size([425, 64])\n"
     ]
    },
    {
     "name": "stderr",
     "output_type": "stream",
     "text": [
      "\r",
      " 20%|███████████████████████████████▍                                                                                                                               | 198/1000 [1:25:28<5:20:58, 24.01s/it]"
     ]
    },
    {
     "name": "stdout",
     "output_type": "stream",
     "text": [
      "eigenvalues shape torch.Size([5]) eigenvectors shape torch.Size([5, 425])\n",
      "198 /home/phdcs2/Hard_Disk/Datasets/Deep-Spectral-Segmentation/data/object-segmentation/ECSSD/features/dino_vits16/0199.pth\n",
      "dict_keys(['k', 'indices', 'file', 'id', 'model_name', 'patch_size', 'shape'])\n",
      "0199\n",
      "Starting Training\n",
      "epoch: 00, loss: -0.03291\n",
      "epoch: 01, loss: -0.06295\n",
      "epoch: 02, loss: -0.06295\n",
      "epoch: 03, loss: -0.06922\n",
      "epoch: 04, loss: -0.06896\n",
      "epoch: 05, loss: -0.06788\n",
      "epoch: 06, loss: -0.07056\n",
      "epoch: 07, loss: -0.07098\n",
      "epoch: 08, loss: -0.07031\n",
      "epoch: 09, loss: -0.07029\n",
      "torch.Size([450, 64])\n"
     ]
    },
    {
     "name": "stderr",
     "output_type": "stream",
     "text": [
      "\r",
      " 20%|███████████████████████████████▋                                                                                                                               | 199/1000 [1:25:52<5:22:42, 24.17s/it]"
     ]
    },
    {
     "name": "stdout",
     "output_type": "stream",
     "text": [
      "eigenvalues shape torch.Size([5]) eigenvectors shape torch.Size([5, 450])\n",
      "199 /home/phdcs2/Hard_Disk/Datasets/Deep-Spectral-Segmentation/data/object-segmentation/ECSSD/features/dino_vits16/0200.pth\n",
      "dict_keys(['k', 'indices', 'file', 'id', 'model_name', 'patch_size', 'shape'])\n",
      "0200\n",
      "Starting Training\n",
      "epoch: 00, loss: -0.02653\n",
      "epoch: 01, loss: -0.04438\n",
      "epoch: 02, loss: -0.04552\n",
      "epoch: 03, loss: -0.04596\n",
      "epoch: 04, loss: -0.04640\n",
      "epoch: 05, loss: -0.04659\n",
      "epoch: 06, loss: -0.04689\n",
      "epoch: 07, loss: -0.04696\n",
      "epoch: 08, loss: -0.04707\n",
      "epoch: 09, loss: -0.04712\n",
      "torch.Size([450, 64])\n"
     ]
    },
    {
     "name": "stderr",
     "output_type": "stream",
     "text": [
      "\r",
      " 20%|███████████████████████████████▊                                                                                                                               | 200/1000 [1:26:15<5:14:35, 23.59s/it]"
     ]
    },
    {
     "name": "stdout",
     "output_type": "stream",
     "text": [
      "eigenvalues shape torch.Size([5]) eigenvectors shape torch.Size([5, 450])\n",
      "200 /home/phdcs2/Hard_Disk/Datasets/Deep-Spectral-Segmentation/data/object-segmentation/ECSSD/features/dino_vits16/0201.pth\n",
      "dict_keys(['k', 'indices', 'file', 'id', 'model_name', 'patch_size', 'shape'])\n",
      "0201\n",
      "Starting Training\n",
      "epoch: 00, loss: -0.05621\n",
      "epoch: 01, loss: -0.07366\n",
      "epoch: 02, loss: -0.07347\n",
      "epoch: 03, loss: -0.07556\n",
      "epoch: 04, loss: -0.07475\n",
      "epoch: 05, loss: -0.07429\n",
      "epoch: 06, loss: -0.07529\n",
      "epoch: 07, loss: -0.07532\n",
      "epoch: 08, loss: -0.07639\n",
      "epoch: 09, loss: -0.07628\n",
      "torch.Size([425, 64])\n"
     ]
    },
    {
     "name": "stderr",
     "output_type": "stream",
     "text": [
      "\r",
      " 20%|███████████████████████████████▉                                                                                                                               | 201/1000 [1:26:38<5:11:31, 23.39s/it]"
     ]
    },
    {
     "name": "stdout",
     "output_type": "stream",
     "text": [
      "eigenvalues shape torch.Size([5]) eigenvectors shape torch.Size([5, 425])\n",
      "201 /home/phdcs2/Hard_Disk/Datasets/Deep-Spectral-Segmentation/data/object-segmentation/ECSSD/features/dino_vits16/0202.pth\n",
      "dict_keys(['k', 'indices', 'file', 'id', 'model_name', 'patch_size', 'shape'])\n",
      "0202\n",
      "Starting Training\n",
      "epoch: 00, loss: -0.03855\n",
      "epoch: 01, loss: -0.05671\n",
      "epoch: 02, loss: -0.05786\n",
      "epoch: 03, loss: -0.05852\n",
      "epoch: 04, loss: -0.05867\n",
      "epoch: 05, loss: -0.05889\n",
      "epoch: 06, loss: -0.05916\n",
      "epoch: 07, loss: -0.05934\n",
      "epoch: 08, loss: -0.05906\n",
      "epoch: 09, loss: -0.05930\n",
      "torch.Size([400, 64])\n"
     ]
    },
    {
     "name": "stderr",
     "output_type": "stream",
     "text": [
      "\r",
      " 20%|████████████████████████████████                                                                                                                               | 202/1000 [1:26:58<4:58:06, 22.41s/it]"
     ]
    },
    {
     "name": "stdout",
     "output_type": "stream",
     "text": [
      "eigenvalues shape torch.Size([5]) eigenvectors shape torch.Size([5, 400])\n",
      "202 /home/phdcs2/Hard_Disk/Datasets/Deep-Spectral-Segmentation/data/object-segmentation/ECSSD/features/dino_vits16/0203.pth\n",
      "dict_keys(['k', 'indices', 'file', 'id', 'model_name', 'patch_size', 'shape'])\n",
      "0203\n",
      "Starting Training\n",
      "epoch: 00, loss: -0.01789\n",
      "epoch: 01, loss: -0.04438\n",
      "epoch: 02, loss: -0.04754\n",
      "epoch: 03, loss: -0.05079\n",
      "epoch: 04, loss: -0.05124\n",
      "epoch: 05, loss: -0.05385\n",
      "epoch: 06, loss: -0.05252\n",
      "epoch: 07, loss: -0.05342\n",
      "epoch: 08, loss: -0.05360\n",
      "epoch: 09, loss: -0.05590\n",
      "torch.Size([400, 64])\n"
     ]
    },
    {
     "name": "stderr",
     "output_type": "stream",
     "text": [
      "\r",
      " 20%|████████████████████████████████▎                                                                                                                              | 203/1000 [1:27:19<4:54:31, 22.17s/it]"
     ]
    },
    {
     "name": "stdout",
     "output_type": "stream",
     "text": [
      "eigenvalues shape torch.Size([5]) eigenvectors shape torch.Size([5, 400])\n",
      "203 /home/phdcs2/Hard_Disk/Datasets/Deep-Spectral-Segmentation/data/object-segmentation/ECSSD/features/dino_vits16/0204.pth\n",
      "dict_keys(['k', 'indices', 'file', 'id', 'model_name', 'patch_size', 'shape'])\n",
      "0204\n",
      "Starting Training\n",
      "epoch: 00, loss: -0.04563\n",
      "epoch: 01, loss: -0.06954\n",
      "epoch: 02, loss: -0.07146\n",
      "epoch: 03, loss: -0.07312\n",
      "epoch: 04, loss: -0.07404\n",
      "epoch: 05, loss: -0.07480\n",
      "epoch: 06, loss: -0.07525\n",
      "epoch: 07, loss: -0.07699\n",
      "epoch: 08, loss: -0.07731\n",
      "epoch: 09, loss: -0.07782\n",
      "torch.Size([450, 64])\n"
     ]
    },
    {
     "name": "stderr",
     "output_type": "stream",
     "text": [
      "\r",
      " 20%|████████████████████████████████▍                                                                                                                              | 204/1000 [1:27:43<5:01:48, 22.75s/it]"
     ]
    },
    {
     "name": "stdout",
     "output_type": "stream",
     "text": [
      "eigenvalues shape torch.Size([5]) eigenvectors shape torch.Size([5, 450])\n",
      "204 /home/phdcs2/Hard_Disk/Datasets/Deep-Spectral-Segmentation/data/object-segmentation/ECSSD/features/dino_vits16/0205.pth\n",
      "dict_keys(['k', 'indices', 'file', 'id', 'model_name', 'patch_size', 'shape'])\n",
      "0205\n",
      "Starting Training\n",
      "epoch: 00, loss: -0.05017\n",
      "epoch: 01, loss: -0.08027\n",
      "epoch: 02, loss: -0.08519\n",
      "epoch: 03, loss: -0.08734\n",
      "epoch: 04, loss: -0.08871\n",
      "epoch: 05, loss: -0.08933\n",
      "epoch: 06, loss: -0.08980\n",
      "epoch: 07, loss: -0.08978\n",
      "epoch: 08, loss: -0.09154\n",
      "epoch: 09, loss: -0.09241\n",
      "torch.Size([450, 64])\n"
     ]
    },
    {
     "name": "stderr",
     "output_type": "stream",
     "text": [
      "\r",
      " 20%|████████████████████████████████▌                                                                                                                              | 205/1000 [1:28:08<5:08:56, 23.32s/it]"
     ]
    },
    {
     "name": "stdout",
     "output_type": "stream",
     "text": [
      "eigenvalues shape torch.Size([5]) eigenvectors shape torch.Size([5, 450])\n",
      "205 /home/phdcs2/Hard_Disk/Datasets/Deep-Spectral-Segmentation/data/object-segmentation/ECSSD/features/dino_vits16/0206.pth\n",
      "dict_keys(['k', 'indices', 'file', 'id', 'model_name', 'patch_size', 'shape'])\n",
      "0206\n",
      "Starting Training\n",
      "epoch: 00, loss: -0.02808\n",
      "epoch: 01, loss: -0.05242\n",
      "epoch: 02, loss: -0.05492\n",
      "epoch: 03, loss: -0.05505\n",
      "epoch: 04, loss: -0.05531\n",
      "epoch: 05, loss: -0.05560\n",
      "epoch: 06, loss: -0.05570\n",
      "epoch: 07, loss: -0.05588\n",
      "epoch: 08, loss: -0.05619\n",
      "epoch: 09, loss: -0.05600\n",
      "torch.Size([400, 64])\n"
     ]
    },
    {
     "name": "stderr",
     "output_type": "stream",
     "text": [
      "\r",
      " 21%|████████████████████████████████▊                                                                                                                              | 206/1000 [1:28:30<5:03:39, 22.95s/it]"
     ]
    },
    {
     "name": "stdout",
     "output_type": "stream",
     "text": [
      "eigenvalues shape torch.Size([5]) eigenvectors shape torch.Size([5, 400])\n",
      "206 /home/phdcs2/Hard_Disk/Datasets/Deep-Spectral-Segmentation/data/object-segmentation/ECSSD/features/dino_vits16/0207.pth\n",
      "dict_keys(['k', 'indices', 'file', 'id', 'model_name', 'patch_size', 'shape'])\n",
      "0207\n",
      "Starting Training\n",
      "epoch: 00, loss: -0.05082\n",
      "epoch: 01, loss: -0.08324\n",
      "epoch: 02, loss: -0.08468\n",
      "epoch: 03, loss: -0.08491\n",
      "epoch: 04, loss: -0.08502\n",
      "epoch: 05, loss: -0.08511\n",
      "epoch: 06, loss: -0.08557\n",
      "epoch: 07, loss: -0.08579\n",
      "epoch: 08, loss: -0.08549\n",
      "epoch: 09, loss: -0.08575\n",
      "torch.Size([400, 64])\n"
     ]
    },
    {
     "name": "stderr",
     "output_type": "stream",
     "text": [
      "\r",
      " 21%|████████████████████████████████▉                                                                                                                              | 207/1000 [1:28:50<4:53:09, 22.18s/it]"
     ]
    },
    {
     "name": "stdout",
     "output_type": "stream",
     "text": [
      "eigenvalues shape torch.Size([5]) eigenvectors shape torch.Size([5, 400])\n",
      "207 /home/phdcs2/Hard_Disk/Datasets/Deep-Spectral-Segmentation/data/object-segmentation/ECSSD/features/dino_vits16/0208.pth\n",
      "dict_keys(['k', 'indices', 'file', 'id', 'model_name', 'patch_size', 'shape'])\n",
      "0208\n",
      "Starting Training\n",
      "epoch: 00, loss: -0.03179\n",
      "epoch: 01, loss: -0.05211\n",
      "epoch: 02, loss: -0.05377\n",
      "epoch: 03, loss: -0.05432\n",
      "epoch: 04, loss: -0.05489\n",
      "epoch: 05, loss: -0.05494\n",
      "epoch: 06, loss: -0.05529\n",
      "epoch: 07, loss: -0.05574\n",
      "epoch: 08, loss: -0.05542\n",
      "epoch: 09, loss: -0.05558\n",
      "torch.Size([450, 64])\n"
     ]
    },
    {
     "name": "stderr",
     "output_type": "stream",
     "text": [
      "\r",
      " 21%|█████████████████████████████████                                                                                                                              | 208/1000 [1:29:18<5:13:50, 23.78s/it]"
     ]
    },
    {
     "name": "stdout",
     "output_type": "stream",
     "text": [
      "eigenvalues shape torch.Size([5]) eigenvectors shape torch.Size([5, 450])\n",
      "208 /home/phdcs2/Hard_Disk/Datasets/Deep-Spectral-Segmentation/data/object-segmentation/ECSSD/features/dino_vits16/0209.pth\n",
      "dict_keys(['k', 'indices', 'file', 'id', 'model_name', 'patch_size', 'shape'])\n",
      "0209\n",
      "Starting Training\n",
      "epoch: 00, loss: -0.04532\n",
      "epoch: 01, loss: -0.06389\n",
      "epoch: 02, loss: -0.06500\n",
      "epoch: 03, loss: -0.06520\n",
      "epoch: 04, loss: -0.06573\n",
      "epoch: 05, loss: -0.06585\n",
      "epoch: 06, loss: -0.06580\n",
      "epoch: 07, loss: -0.06597\n",
      "epoch: 08, loss: -0.06616\n",
      "epoch: 09, loss: -0.06622\n",
      "torch.Size([500, 64])\n"
     ]
    },
    {
     "name": "stderr",
     "output_type": "stream",
     "text": [
      "\r",
      " 21%|█████████████████████████████████▏                                                                                                                             | 209/1000 [1:29:49<5:42:17, 25.96s/it]"
     ]
    },
    {
     "name": "stdout",
     "output_type": "stream",
     "text": [
      "eigenvalues shape torch.Size([5]) eigenvectors shape torch.Size([5, 500])\n",
      "209 /home/phdcs2/Hard_Disk/Datasets/Deep-Spectral-Segmentation/data/object-segmentation/ECSSD/features/dino_vits16/0210.pth\n",
      "dict_keys(['k', 'indices', 'file', 'id', 'model_name', 'patch_size', 'shape'])\n",
      "0210\n",
      "Starting Training\n",
      "epoch: 00, loss: -0.02431\n",
      "epoch: 01, loss: -0.04426\n",
      "epoch: 02, loss: -0.04657\n",
      "epoch: 03, loss: -0.04805\n",
      "epoch: 04, loss: -0.04840\n",
      "epoch: 05, loss: -0.04889\n",
      "epoch: 06, loss: -0.04738\n",
      "epoch: 07, loss: -0.04843\n",
      "epoch: 08, loss: -0.04863\n",
      "epoch: 09, loss: -0.04865\n",
      "torch.Size([425, 64])\n"
     ]
    },
    {
     "name": "stderr",
     "output_type": "stream",
     "text": [
      "\r",
      " 21%|█████████████████████████████████▍                                                                                                                             | 210/1000 [1:30:13<5:35:03, 25.45s/it]"
     ]
    },
    {
     "name": "stdout",
     "output_type": "stream",
     "text": [
      "eigenvalues shape torch.Size([5]) eigenvectors shape torch.Size([5, 425])\n",
      "210 /home/phdcs2/Hard_Disk/Datasets/Deep-Spectral-Segmentation/data/object-segmentation/ECSSD/features/dino_vits16/0211.pth\n",
      "dict_keys(['k', 'indices', 'file', 'id', 'model_name', 'patch_size', 'shape'])\n",
      "0211\n",
      "Starting Training\n",
      "epoch: 00, loss: -0.09967\n",
      "epoch: 01, loss: -0.11508\n",
      "epoch: 02, loss: -0.11586\n",
      "epoch: 03, loss: -0.11609\n",
      "epoch: 04, loss: -0.11641\n",
      "epoch: 05, loss: -0.11621\n",
      "epoch: 06, loss: -0.11655\n",
      "epoch: 07, loss: -0.11659\n",
      "epoch: 08, loss: -0.11668\n",
      "epoch: 09, loss: -0.11682\n",
      "torch.Size([500, 64])\n"
     ]
    },
    {
     "name": "stderr",
     "output_type": "stream",
     "text": [
      "\r",
      " 21%|█████████████████████████████████▌                                                                                                                             | 211/1000 [1:30:40<5:39:58, 25.85s/it]"
     ]
    },
    {
     "name": "stdout",
     "output_type": "stream",
     "text": [
      "eigenvalues shape torch.Size([5]) eigenvectors shape torch.Size([5, 500])\n",
      "211 /home/phdcs2/Hard_Disk/Datasets/Deep-Spectral-Segmentation/data/object-segmentation/ECSSD/features/dino_vits16/0212.pth\n",
      "dict_keys(['k', 'indices', 'file', 'id', 'model_name', 'patch_size', 'shape'])\n",
      "0212\n",
      "Starting Training\n",
      "epoch: 00, loss: -0.04693\n",
      "epoch: 01, loss: -0.06303\n",
      "epoch: 02, loss: -0.06374\n",
      "epoch: 03, loss: -0.06491\n",
      "epoch: 04, loss: -0.06446\n",
      "epoch: 05, loss: -0.06541\n",
      "epoch: 06, loss: -0.06455\n",
      "epoch: 07, loss: -0.06564\n",
      "epoch: 08, loss: -0.06494\n",
      "epoch: 09, loss: -0.06501\n",
      "torch.Size([625, 64])\n"
     ]
    },
    {
     "name": "stderr",
     "output_type": "stream",
     "text": [
      "\r",
      " 21%|█████████████████████████████████▋                                                                                                                             | 212/1000 [1:31:29<7:10:35, 32.79s/it]"
     ]
    },
    {
     "name": "stdout",
     "output_type": "stream",
     "text": [
      "eigenvalues shape torch.Size([5]) eigenvectors shape torch.Size([5, 625])\n",
      "212 /home/phdcs2/Hard_Disk/Datasets/Deep-Spectral-Segmentation/data/object-segmentation/ECSSD/features/dino_vits16/0213.pth\n",
      "dict_keys(['k', 'indices', 'file', 'id', 'model_name', 'patch_size', 'shape'])\n",
      "0213\n",
      "Starting Training\n",
      "epoch: 00, loss: -0.08054\n",
      "epoch: 01, loss: -0.09879\n",
      "epoch: 02, loss: -0.09977\n",
      "epoch: 03, loss: -0.10027\n",
      "epoch: 04, loss: -0.10106\n",
      "epoch: 05, loss: -0.10017\n",
      "epoch: 06, loss: -0.10067\n",
      "epoch: 07, loss: -0.10076\n",
      "epoch: 08, loss: -0.10103\n",
      "epoch: 09, loss: -0.10091\n",
      "torch.Size([450, 64])\n"
     ]
    },
    {
     "name": "stderr",
     "output_type": "stream",
     "text": [
      "\r",
      " 21%|█████████████████████████████████▊                                                                                                                             | 213/1000 [1:31:54<6:40:10, 30.51s/it]"
     ]
    },
    {
     "name": "stdout",
     "output_type": "stream",
     "text": [
      "eigenvalues shape torch.Size([5]) eigenvectors shape torch.Size([5, 450])\n",
      "213 /home/phdcs2/Hard_Disk/Datasets/Deep-Spectral-Segmentation/data/object-segmentation/ECSSD/features/dino_vits16/0214.pth\n",
      "dict_keys(['k', 'indices', 'file', 'id', 'model_name', 'patch_size', 'shape'])\n",
      "0214\n",
      "Starting Training\n",
      "epoch: 00, loss: -0.04442\n",
      "epoch: 01, loss: -0.08090\n",
      "epoch: 02, loss: -0.08778\n",
      "epoch: 03, loss: -0.08542\n",
      "epoch: 04, loss: -0.08635\n",
      "epoch: 05, loss: -0.08937\n",
      "epoch: 06, loss: -0.08979\n",
      "epoch: 07, loss: -0.08917\n",
      "epoch: 08, loss: -0.08951\n",
      "epoch: 09, loss: -0.08886\n",
      "torch.Size([350, 64])\n"
     ]
    },
    {
     "name": "stderr",
     "output_type": "stream",
     "text": [
      "\r",
      " 21%|██████████████████████████████████                                                                                                                             | 214/1000 [1:32:12<5:50:03, 26.72s/it]"
     ]
    },
    {
     "name": "stdout",
     "output_type": "stream",
     "text": [
      "eigenvalues shape torch.Size([5]) eigenvectors shape torch.Size([5, 350])\n",
      "214 /home/phdcs2/Hard_Disk/Datasets/Deep-Spectral-Segmentation/data/object-segmentation/ECSSD/features/dino_vits16/0215.pth\n",
      "dict_keys(['k', 'indices', 'file', 'id', 'model_name', 'patch_size', 'shape'])\n",
      "0215\n",
      "Starting Training\n",
      "epoch: 00, loss: -0.03766\n",
      "epoch: 01, loss: -0.05644\n",
      "epoch: 02, loss: -0.05794\n",
      "epoch: 03, loss: -0.05823\n",
      "epoch: 04, loss: -0.06037\n",
      "epoch: 05, loss: -0.05913\n",
      "epoch: 06, loss: -0.05886\n",
      "epoch: 07, loss: -0.05893\n",
      "epoch: 08, loss: -0.05944\n",
      "epoch: 09, loss: -0.06115\n",
      "torch.Size([425, 64])\n"
     ]
    },
    {
     "name": "stderr",
     "output_type": "stream",
     "text": [
      "\r",
      " 22%|██████████████████████████████████▏                                                                                                                            | 215/1000 [1:32:36<5:37:42, 25.81s/it]"
     ]
    },
    {
     "name": "stdout",
     "output_type": "stream",
     "text": [
      "eigenvalues shape torch.Size([5]) eigenvectors shape torch.Size([5, 425])\n",
      "215 /home/phdcs2/Hard_Disk/Datasets/Deep-Spectral-Segmentation/data/object-segmentation/ECSSD/features/dino_vits16/0216.pth\n",
      "dict_keys(['k', 'indices', 'file', 'id', 'model_name', 'patch_size', 'shape'])\n",
      "0216\n",
      "Starting Training\n",
      "epoch: 00, loss: -0.00665\n",
      "epoch: 01, loss: -0.02587\n",
      "epoch: 02, loss: -0.02888\n",
      "epoch: 03, loss: -0.03020\n",
      "epoch: 04, loss: -0.03062\n",
      "epoch: 05, loss: -0.03114\n",
      "epoch: 06, loss: -0.03145\n",
      "epoch: 07, loss: -0.03146\n",
      "epoch: 08, loss: -0.03165\n",
      "epoch: 09, loss: -0.03175\n",
      "torch.Size([450, 64])\n"
     ]
    },
    {
     "name": "stderr",
     "output_type": "stream",
     "text": [
      "\r",
      " 22%|██████████████████████████████████▎                                                                                                                            | 216/1000 [1:33:00<5:30:55, 25.33s/it]"
     ]
    },
    {
     "name": "stdout",
     "output_type": "stream",
     "text": [
      "eigenvalues shape torch.Size([5]) eigenvectors shape torch.Size([5, 450])\n",
      "216 /home/phdcs2/Hard_Disk/Datasets/Deep-Spectral-Segmentation/data/object-segmentation/ECSSD/features/dino_vits16/0217.pth\n",
      "dict_keys(['k', 'indices', 'file', 'id', 'model_name', 'patch_size', 'shape'])\n",
      "0217\n",
      "Starting Training\n",
      "epoch: 00, loss: -0.06109\n",
      "epoch: 01, loss: -0.08709\n",
      "epoch: 02, loss: -0.08789\n",
      "epoch: 03, loss: -0.08693\n",
      "epoch: 04, loss: -0.09103\n",
      "epoch: 05, loss: -0.09047\n",
      "epoch: 06, loss: -0.09160\n",
      "epoch: 07, loss: -0.09186\n",
      "epoch: 08, loss: -0.09096\n",
      "epoch: 09, loss: -0.09278\n",
      "torch.Size([450, 64])\n"
     ]
    },
    {
     "name": "stderr",
     "output_type": "stream",
     "text": [
      "\r",
      " 22%|██████████████████████████████████▌                                                                                                                            | 217/1000 [1:33:27<5:35:56, 25.74s/it]"
     ]
    },
    {
     "name": "stdout",
     "output_type": "stream",
     "text": [
      "eigenvalues shape torch.Size([5]) eigenvectors shape torch.Size([5, 450])\n",
      "217 /home/phdcs2/Hard_Disk/Datasets/Deep-Spectral-Segmentation/data/object-segmentation/ECSSD/features/dino_vits16/0218.pth\n",
      "dict_keys(['k', 'indices', 'file', 'id', 'model_name', 'patch_size', 'shape'])\n",
      "0218\n",
      "Starting Training\n",
      "epoch: 00, loss: -0.05725\n",
      "epoch: 01, loss: -0.07215\n",
      "epoch: 02, loss: -0.07259\n",
      "epoch: 03, loss: -0.07279\n",
      "epoch: 04, loss: -0.07321\n",
      "epoch: 05, loss: -0.07329\n",
      "epoch: 06, loss: -0.07350\n",
      "epoch: 07, loss: -0.07359\n",
      "epoch: 08, loss: -0.07374\n",
      "epoch: 09, loss: -0.07383\n",
      "torch.Size([500, 64])\n"
     ]
    },
    {
     "name": "stderr",
     "output_type": "stream",
     "text": [
      "\r",
      " 22%|██████████████████████████████████▋                                                                                                                            | 218/1000 [1:33:54<5:42:53, 26.31s/it]"
     ]
    },
    {
     "name": "stdout",
     "output_type": "stream",
     "text": [
      "eigenvalues shape torch.Size([5]) eigenvectors shape torch.Size([5, 500])\n",
      "218 /home/phdcs2/Hard_Disk/Datasets/Deep-Spectral-Segmentation/data/object-segmentation/ECSSD/features/dino_vits16/0219.pth\n",
      "dict_keys(['k', 'indices', 'file', 'id', 'model_name', 'patch_size', 'shape'])\n",
      "0219\n",
      "Starting Training\n",
      "epoch: 00, loss: -0.04782\n",
      "epoch: 01, loss: -0.07742\n",
      "epoch: 02, loss: -0.07666\n",
      "epoch: 03, loss: -0.07904\n",
      "epoch: 04, loss: -0.08041\n",
      "epoch: 05, loss: -0.08049\n",
      "epoch: 06, loss: -0.08170\n",
      "epoch: 07, loss: -0.07939\n",
      "epoch: 08, loss: -0.08075\n",
      "epoch: 09, loss: -0.08023\n",
      "torch.Size([450, 64])\n"
     ]
    },
    {
     "name": "stderr",
     "output_type": "stream",
     "text": [
      "\r",
      " 22%|██████████████████████████████████▊                                                                                                                            | 219/1000 [1:34:18<5:30:35, 25.40s/it]"
     ]
    },
    {
     "name": "stdout",
     "output_type": "stream",
     "text": [
      "eigenvalues shape torch.Size([5]) eigenvectors shape torch.Size([5, 450])\n",
      "219 /home/phdcs2/Hard_Disk/Datasets/Deep-Spectral-Segmentation/data/object-segmentation/ECSSD/features/dino_vits16/0220.pth\n",
      "dict_keys(['k', 'indices', 'file', 'id', 'model_name', 'patch_size', 'shape'])\n",
      "0220\n",
      "Starting Training\n",
      "epoch: 00, loss: -0.13088\n",
      "epoch: 01, loss: -0.14620\n",
      "epoch: 02, loss: -0.14693\n",
      "epoch: 03, loss: -0.14792\n",
      "epoch: 04, loss: -0.14796\n",
      "epoch: 05, loss: -0.15015\n",
      "epoch: 06, loss: -0.14978\n",
      "epoch: 07, loss: -0.15091\n",
      "epoch: 08, loss: -0.15068\n",
      "epoch: 09, loss: -0.15094\n",
      "torch.Size([500, 64])\n"
     ]
    },
    {
     "name": "stderr",
     "output_type": "stream",
     "text": [
      "\r",
      " 22%|██████████████████████████████████▉                                                                                                                            | 220/1000 [1:34:41<5:21:39, 24.74s/it]"
     ]
    },
    {
     "name": "stdout",
     "output_type": "stream",
     "text": [
      "eigenvalues shape torch.Size([5]) eigenvectors shape torch.Size([5, 500])\n",
      "220 /home/phdcs2/Hard_Disk/Datasets/Deep-Spectral-Segmentation/data/object-segmentation/ECSSD/features/dino_vits16/0221.pth\n",
      "dict_keys(['k', 'indices', 'file', 'id', 'model_name', 'patch_size', 'shape'])\n",
      "0221\n",
      "Starting Training\n",
      "epoch: 00, loss: -0.01434\n",
      "epoch: 01, loss: -0.03563\n",
      "epoch: 02, loss: -0.03899\n",
      "epoch: 03, loss: -0.03990\n",
      "epoch: 04, loss: -0.04076\n",
      "epoch: 05, loss: -0.04076\n",
      "epoch: 06, loss: -0.04115\n",
      "epoch: 07, loss: -0.04123\n",
      "epoch: 08, loss: -0.04125\n",
      "epoch: 09, loss: -0.04143\n",
      "torch.Size([400, 64])\n"
     ]
    },
    {
     "name": "stderr",
     "output_type": "stream",
     "text": [
      "\r",
      " 22%|███████████████████████████████████▏                                                                                                                           | 221/1000 [1:35:02<5:06:16, 23.59s/it]"
     ]
    },
    {
     "name": "stdout",
     "output_type": "stream",
     "text": [
      "eigenvalues shape torch.Size([5]) eigenvectors shape torch.Size([5, 400])\n",
      "221 /home/phdcs2/Hard_Disk/Datasets/Deep-Spectral-Segmentation/data/object-segmentation/ECSSD/features/dino_vits16/0222.pth\n",
      "dict_keys(['k', 'indices', 'file', 'id', 'model_name', 'patch_size', 'shape'])\n",
      "0222\n",
      "Starting Training\n",
      "epoch: 00, loss: -0.09833\n",
      "epoch: 01, loss: -0.12654\n",
      "epoch: 02, loss: -0.13047\n",
      "epoch: 03, loss: -0.13263\n",
      "epoch: 04, loss: -0.13391\n",
      "epoch: 05, loss: -0.13552\n",
      "epoch: 06, loss: -0.13566\n",
      "epoch: 07, loss: -0.13391\n",
      "epoch: 08, loss: -0.13464\n",
      "epoch: 09, loss: -0.13880\n",
      "torch.Size([500, 64])\n"
     ]
    },
    {
     "name": "stderr",
     "output_type": "stream",
     "text": [
      "\r",
      " 22%|███████████████████████████████████▎                                                                                                                           | 222/1000 [1:35:28<5:16:03, 24.37s/it]"
     ]
    },
    {
     "name": "stdout",
     "output_type": "stream",
     "text": [
      "eigenvalues shape torch.Size([5]) eigenvectors shape torch.Size([5, 500])\n",
      "222 /home/phdcs2/Hard_Disk/Datasets/Deep-Spectral-Segmentation/data/object-segmentation/ECSSD/features/dino_vits16/0223.pth\n",
      "dict_keys(['k', 'indices', 'file', 'id', 'model_name', 'patch_size', 'shape'])\n",
      "0223\n",
      "Starting Training\n",
      "epoch: 00, loss: -0.06517\n",
      "epoch: 01, loss: -0.08464\n",
      "epoch: 02, loss: -0.08509\n",
      "epoch: 03, loss: -0.08580\n",
      "epoch: 04, loss: -0.08574\n",
      "epoch: 05, loss: -0.08615\n",
      "epoch: 06, loss: -0.08618\n",
      "epoch: 07, loss: -0.08638\n",
      "epoch: 08, loss: -0.08656\n",
      "epoch: 09, loss: -0.08642\n",
      "torch.Size([500, 64])\n"
     ]
    },
    {
     "name": "stderr",
     "output_type": "stream",
     "text": [
      "\r",
      " 22%|███████████████████████████████████▍                                                                                                                           | 223/1000 [1:35:53<5:18:05, 24.56s/it]"
     ]
    },
    {
     "name": "stdout",
     "output_type": "stream",
     "text": [
      "eigenvalues shape torch.Size([5]) eigenvectors shape torch.Size([5, 500])\n",
      "223 /home/phdcs2/Hard_Disk/Datasets/Deep-Spectral-Segmentation/data/object-segmentation/ECSSD/features/dino_vits16/0224.pth\n",
      "dict_keys(['k', 'indices', 'file', 'id', 'model_name', 'patch_size', 'shape'])\n",
      "0224\n",
      "Starting Training\n",
      "epoch: 00, loss: -0.00521\n",
      "epoch: 01, loss: -0.02511\n",
      "epoch: 02, loss: -0.03003\n",
      "epoch: 03, loss: -0.03164\n",
      "epoch: 04, loss: -0.03197\n",
      "epoch: 05, loss: -0.03236\n",
      "epoch: 06, loss: -0.03265\n",
      "epoch: 07, loss: -0.03264\n",
      "epoch: 08, loss: -0.03295\n",
      "epoch: 09, loss: -0.03297\n",
      "torch.Size([500, 64])\n"
     ]
    },
    {
     "name": "stderr",
     "output_type": "stream",
     "text": [
      "\r",
      " 22%|███████████████████████████████████▌                                                                                                                           | 224/1000 [1:36:17<5:14:52, 24.35s/it]"
     ]
    },
    {
     "name": "stdout",
     "output_type": "stream",
     "text": [
      "eigenvalues shape torch.Size([5]) eigenvectors shape torch.Size([5, 500])\n",
      "224 /home/phdcs2/Hard_Disk/Datasets/Deep-Spectral-Segmentation/data/object-segmentation/ECSSD/features/dino_vits16/0225.pth\n",
      "dict_keys(['k', 'indices', 'file', 'id', 'model_name', 'patch_size', 'shape'])\n",
      "0225\n",
      "Starting Training\n",
      "epoch: 00, loss: -0.01905\n",
      "epoch: 01, loss: -0.04336\n",
      "epoch: 02, loss: -0.05055\n",
      "epoch: 03, loss: -0.05085\n",
      "epoch: 04, loss: -0.05468\n",
      "epoch: 05, loss: -0.05307\n",
      "epoch: 06, loss: -0.05384\n",
      "epoch: 07, loss: -0.05353\n",
      "epoch: 08, loss: -0.05426\n",
      "epoch: 09, loss: -0.05494\n",
      "torch.Size([450, 64])\n"
     ]
    },
    {
     "name": "stderr",
     "output_type": "stream",
     "text": [
      "\r",
      " 22%|███████████████████████████████████▊                                                                                                                           | 225/1000 [1:36:40<5:09:52, 23.99s/it]"
     ]
    },
    {
     "name": "stdout",
     "output_type": "stream",
     "text": [
      "eigenvalues shape torch.Size([5]) eigenvectors shape torch.Size([5, 450])\n",
      "225 /home/phdcs2/Hard_Disk/Datasets/Deep-Spectral-Segmentation/data/object-segmentation/ECSSD/features/dino_vits16/0226.pth\n",
      "dict_keys(['k', 'indices', 'file', 'id', 'model_name', 'patch_size', 'shape'])\n",
      "0226\n",
      "Starting Training\n",
      "epoch: 00, loss: -0.01682\n",
      "epoch: 01, loss: -0.04347\n",
      "epoch: 02, loss: -0.05268\n",
      "epoch: 03, loss: -0.05390\n",
      "epoch: 04, loss: -0.05350\n",
      "epoch: 05, loss: -0.05442\n",
      "epoch: 06, loss: -0.05751\n",
      "epoch: 07, loss: -0.05427\n",
      "epoch: 08, loss: -0.05508\n",
      "epoch: 09, loss: -0.05751\n",
      "torch.Size([400, 64])\n"
     ]
    },
    {
     "name": "stderr",
     "output_type": "stream",
     "text": [
      "\r",
      " 23%|███████████████████████████████████▉                                                                                                                           | 226/1000 [1:37:00<4:55:58, 22.94s/it]"
     ]
    },
    {
     "name": "stdout",
     "output_type": "stream",
     "text": [
      "eigenvalues shape torch.Size([5]) eigenvectors shape torch.Size([5, 400])\n",
      "226 /home/phdcs2/Hard_Disk/Datasets/Deep-Spectral-Segmentation/data/object-segmentation/ECSSD/features/dino_vits16/0227.pth\n",
      "dict_keys(['k', 'indices', 'file', 'id', 'model_name', 'patch_size', 'shape'])\n",
      "0227\n",
      "Starting Training\n",
      "epoch: 00, loss: -0.05528\n",
      "epoch: 01, loss: -0.09710\n",
      "epoch: 02, loss: -0.10454\n",
      "epoch: 03, loss: -0.10698\n",
      "epoch: 04, loss: -0.10673\n",
      "epoch: 05, loss: -0.10426\n",
      "epoch: 06, loss: -0.10658\n",
      "epoch: 07, loss: -0.10518\n",
      "epoch: 08, loss: -0.10546\n",
      "epoch: 09, loss: -0.10769\n",
      "torch.Size([375, 64])\n"
     ]
    },
    {
     "name": "stderr",
     "output_type": "stream",
     "text": [
      "\r",
      " 23%|████████████████████████████████████                                                                                                                           | 227/1000 [1:37:21<4:45:27, 22.16s/it]"
     ]
    },
    {
     "name": "stdout",
     "output_type": "stream",
     "text": [
      "eigenvalues shape torch.Size([5]) eigenvectors shape torch.Size([5, 375])\n",
      "227 /home/phdcs2/Hard_Disk/Datasets/Deep-Spectral-Segmentation/data/object-segmentation/ECSSD/features/dino_vits16/0228.pth\n",
      "dict_keys(['k', 'indices', 'file', 'id', 'model_name', 'patch_size', 'shape'])\n",
      "0228\n",
      "Starting Training\n",
      "epoch: 00, loss: -0.05629\n",
      "epoch: 01, loss: -0.08466\n",
      "epoch: 02, loss: -0.08587\n",
      "epoch: 03, loss: -0.08522\n",
      "epoch: 04, loss: -0.08573\n",
      "epoch: 05, loss: -0.08665\n",
      "epoch: 06, loss: -0.08768\n",
      "epoch: 07, loss: -0.08809\n",
      "epoch: 08, loss: -0.08730\n",
      "epoch: 09, loss: -0.08631\n",
      "torch.Size([375, 64])\n"
     ]
    },
    {
     "name": "stderr",
     "output_type": "stream",
     "text": [
      "\r",
      " 23%|████████████████████████████████████▎                                                                                                                          | 228/1000 [1:37:41<4:38:16, 21.63s/it]"
     ]
    },
    {
     "name": "stdout",
     "output_type": "stream",
     "text": [
      "eigenvalues shape torch.Size([5]) eigenvectors shape torch.Size([5, 375])\n",
      "228 /home/phdcs2/Hard_Disk/Datasets/Deep-Spectral-Segmentation/data/object-segmentation/ECSSD/features/dino_vits16/0229.pth\n",
      "dict_keys(['k', 'indices', 'file', 'id', 'model_name', 'patch_size', 'shape'])\n",
      "0229\n",
      "Starting Training\n",
      "epoch: 00, loss: -0.01074\n",
      "epoch: 01, loss: -0.02875\n",
      "epoch: 02, loss: -0.03252\n",
      "epoch: 03, loss: -0.03355\n",
      "epoch: 04, loss: -0.03400\n",
      "epoch: 05, loss: -0.03417\n",
      "epoch: 06, loss: -0.03437\n",
      "epoch: 07, loss: -0.03444\n",
      "epoch: 08, loss: -0.03457\n",
      "epoch: 09, loss: -0.03471\n",
      "torch.Size([400, 64])\n"
     ]
    },
    {
     "name": "stderr",
     "output_type": "stream",
     "text": [
      "\r",
      " 23%|████████████████████████████████████▍                                                                                                                          | 229/1000 [1:38:02<4:36:37, 21.53s/it]"
     ]
    },
    {
     "name": "stdout",
     "output_type": "stream",
     "text": [
      "eigenvalues shape torch.Size([5]) eigenvectors shape torch.Size([5, 400])\n",
      "229 /home/phdcs2/Hard_Disk/Datasets/Deep-Spectral-Segmentation/data/object-segmentation/ECSSD/features/dino_vits16/0230.pth\n",
      "dict_keys(['k', 'indices', 'file', 'id', 'model_name', 'patch_size', 'shape'])\n",
      "0230\n",
      "Starting Training\n",
      "epoch: 00, loss: -0.04943\n",
      "epoch: 01, loss: -0.07328\n",
      "epoch: 02, loss: -0.07425\n",
      "epoch: 03, loss: -0.07417\n",
      "epoch: 04, loss: -0.07457\n",
      "epoch: 05, loss: -0.07464\n",
      "epoch: 06, loss: -0.07498\n",
      "epoch: 07, loss: -0.07503\n",
      "epoch: 08, loss: -0.07508\n",
      "epoch: 09, loss: -0.07518\n",
      "torch.Size([450, 64])\n"
     ]
    },
    {
     "name": "stderr",
     "output_type": "stream",
     "text": [
      "\r",
      " 23%|████████████████████████████████████▌                                                                                                                          | 230/1000 [1:38:32<5:08:46, 24.06s/it]"
     ]
    },
    {
     "name": "stdout",
     "output_type": "stream",
     "text": [
      "eigenvalues shape torch.Size([5]) eigenvectors shape torch.Size([5, 450])\n",
      "230 /home/phdcs2/Hard_Disk/Datasets/Deep-Spectral-Segmentation/data/object-segmentation/ECSSD/features/dino_vits16/0231.pth\n",
      "dict_keys(['k', 'indices', 'file', 'id', 'model_name', 'patch_size', 'shape'])\n",
      "0231\n",
      "Starting Training\n",
      "epoch: 00, loss: -0.04685\n",
      "epoch: 01, loss: -0.06423\n",
      "epoch: 02, loss: -0.06457\n",
      "epoch: 03, loss: -0.06470\n",
      "epoch: 04, loss: -0.06521\n",
      "epoch: 05, loss: -0.06531\n",
      "epoch: 06, loss: -0.06581\n",
      "epoch: 07, loss: -0.06563\n",
      "epoch: 08, loss: -0.06548\n",
      "epoch: 09, loss: -0.06657\n",
      "torch.Size([525, 64])\n"
     ]
    },
    {
     "name": "stderr",
     "output_type": "stream",
     "text": [
      "\r",
      " 23%|████████████████████████████████████▋                                                                                                                          | 231/1000 [1:39:15<6:18:55, 29.56s/it]"
     ]
    },
    {
     "name": "stdout",
     "output_type": "stream",
     "text": [
      "eigenvalues shape torch.Size([5]) eigenvectors shape torch.Size([5, 525])\n",
      "231 /home/phdcs2/Hard_Disk/Datasets/Deep-Spectral-Segmentation/data/object-segmentation/ECSSD/features/dino_vits16/0232.pth\n",
      "dict_keys(['k', 'indices', 'file', 'id', 'model_name', 'patch_size', 'shape'])\n",
      "0232\n",
      "Starting Training\n",
      "epoch: 00, loss: -0.03733\n",
      "epoch: 01, loss: -0.05818\n",
      "epoch: 02, loss: -0.05900\n",
      "epoch: 03, loss: -0.05927\n",
      "epoch: 04, loss: -0.05971\n",
      "epoch: 05, loss: -0.05944\n",
      "epoch: 06, loss: -0.06014\n",
      "epoch: 07, loss: -0.05993\n",
      "epoch: 08, loss: -0.06011\n",
      "epoch: 09, loss: -0.06016\n",
      "torch.Size([500, 64])\n"
     ]
    },
    {
     "name": "stderr",
     "output_type": "stream",
     "text": [
      "\r",
      " 23%|████████████████████████████████████▉                                                                                                                          | 232/1000 [1:39:43<6:13:27, 29.18s/it]"
     ]
    },
    {
     "name": "stdout",
     "output_type": "stream",
     "text": [
      "eigenvalues shape torch.Size([5]) eigenvectors shape torch.Size([5, 500])\n",
      "232 /home/phdcs2/Hard_Disk/Datasets/Deep-Spectral-Segmentation/data/object-segmentation/ECSSD/features/dino_vits16/0233.pth\n",
      "dict_keys(['k', 'indices', 'file', 'id', 'model_name', 'patch_size', 'shape'])\n",
      "0233\n",
      "Starting Training\n",
      "epoch: 00, loss: -0.03637\n",
      "epoch: 01, loss: -0.06923\n",
      "epoch: 02, loss: -0.07337\n",
      "epoch: 03, loss: -0.07355\n",
      "epoch: 04, loss: -0.07571\n",
      "epoch: 05, loss: -0.07569\n",
      "epoch: 06, loss: -0.07640\n",
      "epoch: 07, loss: -0.07582\n",
      "epoch: 08, loss: -0.07613\n",
      "epoch: 09, loss: -0.07735\n",
      "torch.Size([475, 64])\n"
     ]
    },
    {
     "name": "stderr",
     "output_type": "stream",
     "text": [
      "\r",
      " 23%|█████████████████████████████████████                                                                                                                          | 233/1000 [1:40:07<5:51:45, 27.52s/it]"
     ]
    },
    {
     "name": "stdout",
     "output_type": "stream",
     "text": [
      "eigenvalues shape torch.Size([5]) eigenvectors shape torch.Size([5, 475])\n",
      "233 /home/phdcs2/Hard_Disk/Datasets/Deep-Spectral-Segmentation/data/object-segmentation/ECSSD/features/dino_vits16/0234.pth\n",
      "dict_keys(['k', 'indices', 'file', 'id', 'model_name', 'patch_size', 'shape'])\n",
      "0234\n",
      "Starting Training\n",
      "epoch: 00, loss: -0.04429\n",
      "epoch: 01, loss: -0.07571\n",
      "epoch: 02, loss: -0.08401\n",
      "epoch: 03, loss: -0.08342\n",
      "epoch: 04, loss: -0.08523\n",
      "epoch: 05, loss: -0.08457\n",
      "epoch: 06, loss: -0.08422\n",
      "epoch: 07, loss: -0.08795\n",
      "epoch: 08, loss: -0.08652\n",
      "epoch: 09, loss: -0.08587\n",
      "torch.Size([400, 64])\n"
     ]
    },
    {
     "name": "stderr",
     "output_type": "stream",
     "text": [
      "\r",
      " 23%|█████████████████████████████████████▏                                                                                                                         | 234/1000 [1:40:29<5:31:15, 25.95s/it]"
     ]
    },
    {
     "name": "stdout",
     "output_type": "stream",
     "text": [
      "eigenvalues shape torch.Size([5]) eigenvectors shape torch.Size([5, 400])\n",
      "234 /home/phdcs2/Hard_Disk/Datasets/Deep-Spectral-Segmentation/data/object-segmentation/ECSSD/features/dino_vits16/0235.pth\n",
      "dict_keys(['k', 'indices', 'file', 'id', 'model_name', 'patch_size', 'shape'])\n",
      "0235\n",
      "Starting Training\n",
      "epoch: 00, loss: -0.04033\n",
      "epoch: 01, loss: -0.05637\n",
      "epoch: 02, loss: -0.05864\n",
      "epoch: 03, loss: -0.05795\n",
      "epoch: 04, loss: -0.05975\n",
      "epoch: 05, loss: -0.05908\n",
      "epoch: 06, loss: -0.06052\n",
      "epoch: 07, loss: -0.05999\n",
      "epoch: 08, loss: -0.06047\n",
      "epoch: 09, loss: -0.06000\n",
      "torch.Size([400, 64])\n"
     ]
    },
    {
     "name": "stderr",
     "output_type": "stream",
     "text": [
      "\r",
      " 24%|█████████████████████████████████████▎                                                                                                                         | 235/1000 [1:40:50<5:12:52, 24.54s/it]"
     ]
    },
    {
     "name": "stdout",
     "output_type": "stream",
     "text": [
      "eigenvalues shape torch.Size([5]) eigenvectors shape torch.Size([5, 400])\n",
      "235 /home/phdcs2/Hard_Disk/Datasets/Deep-Spectral-Segmentation/data/object-segmentation/ECSSD/features/dino_vits16/0236.pth\n",
      "dict_keys(['k', 'indices', 'file', 'id', 'model_name', 'patch_size', 'shape'])\n",
      "0236\n",
      "Starting Training\n",
      "epoch: 00, loss: -0.04698\n",
      "epoch: 01, loss: -0.08986\n",
      "epoch: 02, loss: -0.09553\n",
      "epoch: 03, loss: -0.09867\n",
      "epoch: 04, loss: -0.09777\n",
      "epoch: 05, loss: -0.10140\n",
      "epoch: 06, loss: -0.10082\n",
      "epoch: 07, loss: -0.10119\n",
      "epoch: 08, loss: -0.10098\n",
      "epoch: 09, loss: -0.10307\n",
      "torch.Size([400, 64])\n"
     ]
    },
    {
     "name": "stderr",
     "output_type": "stream",
     "text": [
      "\r",
      " 24%|█████████████████████████████████████▌                                                                                                                         | 236/1000 [1:41:10<4:54:51, 23.16s/it]"
     ]
    },
    {
     "name": "stdout",
     "output_type": "stream",
     "text": [
      "eigenvalues shape torch.Size([5]) eigenvectors shape torch.Size([5, 400])\n",
      "236 /home/phdcs2/Hard_Disk/Datasets/Deep-Spectral-Segmentation/data/object-segmentation/ECSSD/features/dino_vits16/0237.pth\n",
      "dict_keys(['k', 'indices', 'file', 'id', 'model_name', 'patch_size', 'shape'])\n",
      "0237\n",
      "Starting Training\n",
      "epoch: 00, loss: -0.04502\n",
      "epoch: 01, loss: -0.07058\n",
      "epoch: 02, loss: -0.07198\n",
      "epoch: 03, loss: -0.07206\n",
      "epoch: 04, loss: -0.07239\n",
      "epoch: 05, loss: -0.07257\n",
      "epoch: 06, loss: -0.07281\n",
      "epoch: 07, loss: -0.07303\n",
      "epoch: 08, loss: -0.07319\n",
      "epoch: 09, loss: -0.07322\n",
      "torch.Size([400, 64])\n"
     ]
    },
    {
     "name": "stderr",
     "output_type": "stream",
     "text": [
      "\r",
      " 24%|█████████████████████████████████████▋                                                                                                                         | 237/1000 [1:41:32<4:49:54, 22.80s/it]"
     ]
    },
    {
     "name": "stdout",
     "output_type": "stream",
     "text": [
      "eigenvalues shape torch.Size([5]) eigenvectors shape torch.Size([5, 400])\n",
      "237 /home/phdcs2/Hard_Disk/Datasets/Deep-Spectral-Segmentation/data/object-segmentation/ECSSD/features/dino_vits16/0238.pth\n",
      "dict_keys(['k', 'indices', 'file', 'id', 'model_name', 'patch_size', 'shape'])\n",
      "0238\n",
      "Starting Training\n",
      "epoch: 00, loss: -0.03888\n",
      "epoch: 01, loss: -0.06728\n",
      "epoch: 02, loss: -0.06986\n",
      "epoch: 03, loss: -0.07117\n",
      "epoch: 04, loss: -0.07296\n",
      "epoch: 05, loss: -0.07266\n",
      "epoch: 06, loss: -0.07369\n",
      "epoch: 07, loss: -0.07337\n",
      "epoch: 08, loss: -0.07325\n",
      "epoch: 09, loss: -0.07465\n",
      "torch.Size([400, 64])\n"
     ]
    },
    {
     "name": "stderr",
     "output_type": "stream",
     "text": [
      "\r",
      " 24%|█████████████████████████████████████▊                                                                                                                         | 238/1000 [1:41:58<5:02:04, 23.78s/it]"
     ]
    },
    {
     "name": "stdout",
     "output_type": "stream",
     "text": [
      "eigenvalues shape torch.Size([5]) eigenvectors shape torch.Size([5, 400])\n",
      "238 /home/phdcs2/Hard_Disk/Datasets/Deep-Spectral-Segmentation/data/object-segmentation/ECSSD/features/dino_vits16/0239.pth\n",
      "dict_keys(['k', 'indices', 'file', 'id', 'model_name', 'patch_size', 'shape'])\n",
      "0239\n",
      "Starting Training\n",
      "epoch: 00, loss: -0.02937\n",
      "epoch: 01, loss: -0.05999\n",
      "epoch: 02, loss: -0.06212\n",
      "epoch: 03, loss: -0.06264\n",
      "epoch: 04, loss: -0.06298\n",
      "epoch: 05, loss: -0.06335\n",
      "epoch: 06, loss: -0.06337\n",
      "epoch: 07, loss: -0.06349\n",
      "epoch: 08, loss: -0.06377\n",
      "epoch: 09, loss: -0.06373\n",
      "torch.Size([400, 64])\n"
     ]
    },
    {
     "name": "stderr",
     "output_type": "stream",
     "text": [
      "\r",
      " 24%|██████████████████████████████████████                                                                                                                         | 239/1000 [1:42:19<4:49:42, 22.84s/it]"
     ]
    },
    {
     "name": "stdout",
     "output_type": "stream",
     "text": [
      "eigenvalues shape torch.Size([5]) eigenvectors shape torch.Size([5, 400])\n",
      "239 /home/phdcs2/Hard_Disk/Datasets/Deep-Spectral-Segmentation/data/object-segmentation/ECSSD/features/dino_vits16/0240.pth\n",
      "dict_keys(['k', 'indices', 'file', 'id', 'model_name', 'patch_size', 'shape'])\n",
      "0240\n",
      "Starting Training\n",
      "epoch: 00, loss: -0.04410\n",
      "epoch: 01, loss: -0.08288\n",
      "epoch: 02, loss: -0.08851\n",
      "epoch: 03, loss: -0.09336\n",
      "epoch: 04, loss: -0.09431\n",
      "epoch: 05, loss: -0.09397\n",
      "epoch: 06, loss: -0.09722\n",
      "epoch: 07, loss: -0.09846\n",
      "epoch: 08, loss: -0.09759\n",
      "epoch: 09, loss: -0.09673\n",
      "torch.Size([350, 64])\n"
     ]
    },
    {
     "name": "stderr",
     "output_type": "stream",
     "text": [
      "\r",
      " 24%|██████████████████████████████████████▏                                                                                                                        | 240/1000 [1:42:37<4:30:38, 21.37s/it]"
     ]
    },
    {
     "name": "stdout",
     "output_type": "stream",
     "text": [
      "eigenvalues shape torch.Size([5]) eigenvectors shape torch.Size([5, 350])\n",
      "240 /home/phdcs2/Hard_Disk/Datasets/Deep-Spectral-Segmentation/data/object-segmentation/ECSSD/features/dino_vits16/0241.pth\n",
      "dict_keys(['k', 'indices', 'file', 'id', 'model_name', 'patch_size', 'shape'])\n",
      "0241\n",
      "Starting Training\n",
      "epoch: 00, loss: -0.07004\n",
      "epoch: 01, loss: -0.09855\n",
      "epoch: 02, loss: -0.09820\n",
      "epoch: 03, loss: -0.10147\n",
      "epoch: 04, loss: -0.10336\n",
      "epoch: 05, loss: -0.10288\n",
      "epoch: 06, loss: -0.10558\n",
      "epoch: 07, loss: -0.10262\n",
      "epoch: 08, loss: -0.10554\n",
      "epoch: 09, loss: -0.10419\n",
      "torch.Size([400, 64])\n"
     ]
    },
    {
     "name": "stderr",
     "output_type": "stream",
     "text": [
      "\r",
      " 24%|██████████████████████████████████████▎                                                                                                                        | 241/1000 [1:43:02<4:44:46, 22.51s/it]"
     ]
    },
    {
     "name": "stdout",
     "output_type": "stream",
     "text": [
      "eigenvalues shape torch.Size([5]) eigenvectors shape torch.Size([5, 400])\n",
      "241 /home/phdcs2/Hard_Disk/Datasets/Deep-Spectral-Segmentation/data/object-segmentation/ECSSD/features/dino_vits16/0242.pth\n",
      "dict_keys(['k', 'indices', 'file', 'id', 'model_name', 'patch_size', 'shape'])\n",
      "0242\n",
      "Starting Training\n",
      "epoch: 00, loss: -0.01414\n",
      "epoch: 01, loss: -0.04299\n",
      "epoch: 02, loss: -0.04734\n",
      "epoch: 03, loss: -0.04713\n",
      "epoch: 04, loss: -0.04809\n",
      "epoch: 05, loss: -0.04901\n",
      "epoch: 06, loss: -0.04934\n",
      "epoch: 07, loss: -0.04947\n",
      "epoch: 08, loss: -0.04820\n",
      "epoch: 09, loss: -0.04786\n",
      "torch.Size([325, 64])\n"
     ]
    },
    {
     "name": "stderr",
     "output_type": "stream",
     "text": [
      "\r",
      " 24%|██████████████████████████████████████▍                                                                                                                        | 242/1000 [1:43:19<4:22:20, 20.77s/it]"
     ]
    },
    {
     "name": "stdout",
     "output_type": "stream",
     "text": [
      "eigenvalues shape torch.Size([5]) eigenvectors shape torch.Size([5, 325])\n",
      "242 /home/phdcs2/Hard_Disk/Datasets/Deep-Spectral-Segmentation/data/object-segmentation/ECSSD/features/dino_vits16/0243.pth\n",
      "dict_keys(['k', 'indices', 'file', 'id', 'model_name', 'patch_size', 'shape'])\n",
      "0243\n",
      "Starting Training\n",
      "epoch: 00, loss: -0.04408\n",
      "epoch: 01, loss: -0.06012\n",
      "epoch: 02, loss: -0.06163\n",
      "epoch: 03, loss: -0.06217\n",
      "epoch: 04, loss: -0.06263\n",
      "epoch: 05, loss: -0.06274\n",
      "epoch: 06, loss: -0.06290\n",
      "epoch: 07, loss: -0.06306\n",
      "epoch: 08, loss: -0.06325\n",
      "epoch: 09, loss: -0.06329\n",
      "torch.Size([400, 64])\n"
     ]
    },
    {
     "name": "stderr",
     "output_type": "stream",
     "text": [
      "\r",
      " 24%|██████████████████████████████████████▋                                                                                                                        | 243/1000 [1:43:48<4:52:30, 23.18s/it]"
     ]
    },
    {
     "name": "stdout",
     "output_type": "stream",
     "text": [
      "eigenvalues shape torch.Size([5]) eigenvectors shape torch.Size([5, 400])\n",
      "243 /home/phdcs2/Hard_Disk/Datasets/Deep-Spectral-Segmentation/data/object-segmentation/ECSSD/features/dino_vits16/0244.pth\n",
      "dict_keys(['k', 'indices', 'file', 'id', 'model_name', 'patch_size', 'shape'])\n",
      "0244\n",
      "Starting Training\n",
      "epoch: 00, loss: -0.01827\n",
      "epoch: 01, loss: -0.03145\n",
      "epoch: 02, loss: -0.03377\n",
      "epoch: 03, loss: -0.03443\n",
      "epoch: 04, loss: -0.03495\n",
      "epoch: 05, loss: -0.03511\n",
      "epoch: 06, loss: -0.03554\n",
      "epoch: 07, loss: -0.03571\n",
      "epoch: 08, loss: -0.03590\n",
      "epoch: 09, loss: -0.03602\n",
      "torch.Size([400, 64])\n"
     ]
    },
    {
     "name": "stderr",
     "output_type": "stream",
     "text": [
      "\r",
      " 24%|██████████████████████████████████████▊                                                                                                                        | 244/1000 [1:44:16<5:13:53, 24.91s/it]"
     ]
    },
    {
     "name": "stdout",
     "output_type": "stream",
     "text": [
      "eigenvalues shape torch.Size([5]) eigenvectors shape torch.Size([5, 400])\n",
      "244 /home/phdcs2/Hard_Disk/Datasets/Deep-Spectral-Segmentation/data/object-segmentation/ECSSD/features/dino_vits16/0245.pth\n",
      "dict_keys(['k', 'indices', 'file', 'id', 'model_name', 'patch_size', 'shape'])\n",
      "0245\n",
      "Starting Training\n",
      "epoch: 00, loss: -0.00754\n",
      "epoch: 01, loss: -0.03859\n",
      "epoch: 02, loss: -0.04273\n",
      "epoch: 03, loss: -0.04448\n",
      "epoch: 04, loss: -0.04817\n",
      "epoch: 05, loss: -0.04995\n",
      "epoch: 06, loss: -0.04909\n",
      "epoch: 07, loss: -0.04784\n",
      "epoch: 08, loss: -0.04998\n",
      "epoch: 09, loss: -0.05114\n",
      "torch.Size([400, 64])\n"
     ]
    },
    {
     "name": "stderr",
     "output_type": "stream",
     "text": [
      "\r",
      " 24%|██████████████████████████████████████▉                                                                                                                        | 245/1000 [1:44:36<4:53:42, 23.34s/it]"
     ]
    },
    {
     "name": "stdout",
     "output_type": "stream",
     "text": [
      "eigenvalues shape torch.Size([5]) eigenvectors shape torch.Size([5, 400])\n",
      "245 /home/phdcs2/Hard_Disk/Datasets/Deep-Spectral-Segmentation/data/object-segmentation/ECSSD/features/dino_vits16/0246.pth\n",
      "dict_keys(['k', 'indices', 'file', 'id', 'model_name', 'patch_size', 'shape'])\n",
      "0246\n",
      "Starting Training\n",
      "epoch: 00, loss: -0.03067\n",
      "epoch: 01, loss: -0.06467\n",
      "epoch: 02, loss: -0.06880\n",
      "epoch: 03, loss: -0.06955\n",
      "epoch: 04, loss: -0.07074\n",
      "epoch: 05, loss: -0.07008\n",
      "epoch: 06, loss: -0.07229\n",
      "epoch: 07, loss: -0.07297\n",
      "epoch: 08, loss: -0.07177\n",
      "epoch: 09, loss: -0.07365\n",
      "torch.Size([400, 64])\n"
     ]
    },
    {
     "name": "stderr",
     "output_type": "stream",
     "text": [
      "\r",
      " 25%|███████████████████████████████████████                                                                                                                        | 246/1000 [1:45:04<5:11:10, 24.76s/it]"
     ]
    },
    {
     "name": "stdout",
     "output_type": "stream",
     "text": [
      "eigenvalues shape torch.Size([5]) eigenvectors shape torch.Size([5, 400])\n",
      "246 /home/phdcs2/Hard_Disk/Datasets/Deep-Spectral-Segmentation/data/object-segmentation/ECSSD/features/dino_vits16/0247.pth\n",
      "dict_keys(['k', 'indices', 'file', 'id', 'model_name', 'patch_size', 'shape'])\n",
      "0247\n",
      "Starting Training\n",
      "epoch: 00, loss: -0.15045\n",
      "epoch: 01, loss: -0.19369\n",
      "epoch: 02, loss: -0.19811\n",
      "epoch: 03, loss: -0.20194\n",
      "epoch: 04, loss: -0.20072\n",
      "epoch: 05, loss: -0.21801\n",
      "epoch: 06, loss: -0.21262\n",
      "epoch: 07, loss: -0.21335\n",
      "epoch: 08, loss: -0.21765\n",
      "epoch: 09, loss: -0.22031\n",
      "torch.Size([400, 64])\n"
     ]
    },
    {
     "name": "stderr",
     "output_type": "stream",
     "text": [
      "\r",
      " 25%|███████████████████████████████████████▎                                                                                                                       | 247/1000 [1:45:26<5:00:04, 23.91s/it]"
     ]
    },
    {
     "name": "stdout",
     "output_type": "stream",
     "text": [
      "eigenvalues shape torch.Size([5]) eigenvectors shape torch.Size([5, 400])\n",
      "247 /home/phdcs2/Hard_Disk/Datasets/Deep-Spectral-Segmentation/data/object-segmentation/ECSSD/features/dino_vits16/0248.pth\n",
      "dict_keys(['k', 'indices', 'file', 'id', 'model_name', 'patch_size', 'shape'])\n",
      "0248\n",
      "Starting Training\n",
      "epoch: 00, loss: -0.00640\n",
      "epoch: 01, loss: -0.02595\n",
      "epoch: 02, loss: -0.02989\n",
      "epoch: 03, loss: -0.03107\n",
      "epoch: 04, loss: -0.03193\n",
      "epoch: 05, loss: -0.03176\n",
      "epoch: 06, loss: -0.03271\n",
      "epoch: 07, loss: -0.03244\n",
      "epoch: 08, loss: -0.03268\n",
      "epoch: 09, loss: -0.03309\n",
      "torch.Size([450, 64])\n"
     ]
    },
    {
     "name": "stderr",
     "output_type": "stream",
     "text": [
      "\r",
      " 25%|███████████████████████████████████████▍                                                                                                                       | 248/1000 [1:45:57<5:25:31, 25.97s/it]"
     ]
    },
    {
     "name": "stdout",
     "output_type": "stream",
     "text": [
      "eigenvalues shape torch.Size([5]) eigenvectors shape torch.Size([5, 450])\n",
      "248 /home/phdcs2/Hard_Disk/Datasets/Deep-Spectral-Segmentation/data/object-segmentation/ECSSD/features/dino_vits16/0249.pth\n",
      "dict_keys(['k', 'indices', 'file', 'id', 'model_name', 'patch_size', 'shape'])\n",
      "0249\n",
      "Starting Training\n",
      "epoch: 00, loss: -0.01638\n",
      "epoch: 01, loss: -0.04478\n",
      "epoch: 02, loss: -0.04713\n",
      "epoch: 03, loss: -0.04899\n",
      "epoch: 04, loss: -0.05248\n",
      "epoch: 05, loss: -0.04883\n",
      "epoch: 06, loss: -0.05064\n",
      "epoch: 07, loss: -0.05110\n",
      "epoch: 08, loss: -0.05113\n",
      "epoch: 09, loss: -0.05370\n",
      "torch.Size([425, 64])\n"
     ]
    },
    {
     "name": "stderr",
     "output_type": "stream",
     "text": [
      "\r",
      " 25%|███████████████████████████████████████▌                                                                                                                       | 249/1000 [1:46:18<5:05:07, 24.38s/it]"
     ]
    },
    {
     "name": "stdout",
     "output_type": "stream",
     "text": [
      "eigenvalues shape torch.Size([5]) eigenvectors shape torch.Size([5, 425])\n",
      "249 /home/phdcs2/Hard_Disk/Datasets/Deep-Spectral-Segmentation/data/object-segmentation/ECSSD/features/dino_vits16/0250.pth\n",
      "dict_keys(['k', 'indices', 'file', 'id', 'model_name', 'patch_size', 'shape'])\n",
      "0250\n",
      "Starting Training\n",
      "epoch: 00, loss: -0.05369\n",
      "epoch: 01, loss: -0.07746\n",
      "epoch: 02, loss: -0.07873\n",
      "epoch: 03, loss: -0.07899\n",
      "epoch: 04, loss: -0.07938\n",
      "epoch: 05, loss: -0.07964\n",
      "epoch: 06, loss: -0.07989\n",
      "epoch: 07, loss: -0.07975\n",
      "epoch: 08, loss: -0.08037\n",
      "epoch: 09, loss: -0.08013\n",
      "torch.Size([400, 64])\n"
     ]
    },
    {
     "name": "stderr",
     "output_type": "stream",
     "text": [
      "\r",
      " 25%|███████████████████████████████████████▊                                                                                                                       | 250/1000 [1:46:40<4:56:46, 23.74s/it]"
     ]
    },
    {
     "name": "stdout",
     "output_type": "stream",
     "text": [
      "eigenvalues shape torch.Size([5]) eigenvectors shape torch.Size([5, 400])\n",
      "250 /home/phdcs2/Hard_Disk/Datasets/Deep-Spectral-Segmentation/data/object-segmentation/ECSSD/features/dino_vits16/0251.pth\n",
      "dict_keys(['k', 'indices', 'file', 'id', 'model_name', 'patch_size', 'shape'])\n",
      "0251\n",
      "Starting Training\n",
      "epoch: 00, loss: -0.07186\n",
      "epoch: 01, loss: -0.10794\n",
      "epoch: 02, loss: -0.11274\n",
      "epoch: 03, loss: -0.11459\n",
      "epoch: 04, loss: -0.11289\n",
      "epoch: 05, loss: -0.11540\n",
      "epoch: 06, loss: -0.11754\n",
      "epoch: 07, loss: -0.11601\n",
      "epoch: 08, loss: -0.11720\n",
      "epoch: 09, loss: -0.11903\n",
      "torch.Size([450, 64])\n"
     ]
    },
    {
     "name": "stderr",
     "output_type": "stream",
     "text": [
      "\r",
      " 25%|███████████████████████████████████████▉                                                                                                                       | 251/1000 [1:47:02<4:50:14, 23.25s/it]"
     ]
    },
    {
     "name": "stdout",
     "output_type": "stream",
     "text": [
      "eigenvalues shape torch.Size([5]) eigenvectors shape torch.Size([5, 450])\n",
      "251 /home/phdcs2/Hard_Disk/Datasets/Deep-Spectral-Segmentation/data/object-segmentation/ECSSD/features/dino_vits16/0252.pth\n",
      "dict_keys(['k', 'indices', 'file', 'id', 'model_name', 'patch_size', 'shape'])\n",
      "0252\n",
      "Starting Training\n",
      "epoch: 00, loss: -0.04569\n",
      "epoch: 01, loss: -0.07291\n",
      "epoch: 02, loss: -0.07508\n",
      "epoch: 03, loss: -0.07544\n",
      "epoch: 04, loss: -0.07558\n",
      "epoch: 05, loss: -0.07866\n",
      "epoch: 06, loss: -0.07669\n",
      "epoch: 07, loss: -0.07915\n",
      "epoch: 08, loss: -0.07671\n",
      "epoch: 09, loss: -0.07760\n",
      "torch.Size([450, 64])\n"
     ]
    },
    {
     "name": "stderr",
     "output_type": "stream",
     "text": [
      "\r",
      " 25%|████████████████████████████████████████                                                                                                                       | 252/1000 [1:47:23<4:41:27, 22.58s/it]"
     ]
    },
    {
     "name": "stdout",
     "output_type": "stream",
     "text": [
      "eigenvalues shape torch.Size([5]) eigenvectors shape torch.Size([5, 450])\n",
      "252 /home/phdcs2/Hard_Disk/Datasets/Deep-Spectral-Segmentation/data/object-segmentation/ECSSD/features/dino_vits16/0253.pth\n",
      "dict_keys(['k', 'indices', 'file', 'id', 'model_name', 'patch_size', 'shape'])\n",
      "0253\n",
      "Starting Training\n",
      "epoch: 00, loss: -0.01818\n",
      "epoch: 01, loss: -0.04204\n",
      "epoch: 02, loss: -0.04793\n",
      "epoch: 03, loss: -0.04945\n",
      "epoch: 04, loss: -0.04906\n",
      "epoch: 05, loss: -0.05315\n",
      "epoch: 06, loss: -0.05330\n",
      "epoch: 07, loss: -0.05337\n",
      "epoch: 08, loss: -0.05316\n",
      "epoch: 09, loss: -0.05515\n",
      "torch.Size([450, 64])\n"
     ]
    },
    {
     "name": "stderr",
     "output_type": "stream",
     "text": [
      "\r",
      " 25%|████████████████████████████████████████▏                                                                                                                      | 253/1000 [1:47:47<4:44:54, 22.88s/it]"
     ]
    },
    {
     "name": "stdout",
     "output_type": "stream",
     "text": [
      "eigenvalues shape torch.Size([5]) eigenvectors shape torch.Size([5, 450])\n",
      "253 /home/phdcs2/Hard_Disk/Datasets/Deep-Spectral-Segmentation/data/object-segmentation/ECSSD/features/dino_vits16/0254.pth\n",
      "dict_keys(['k', 'indices', 'file', 'id', 'model_name', 'patch_size', 'shape'])\n",
      "0254\n",
      "Starting Training\n",
      "epoch: 00, loss: -0.03636\n",
      "epoch: 01, loss: -0.05287\n",
      "epoch: 02, loss: -0.05301\n",
      "epoch: 03, loss: -0.05454\n",
      "epoch: 04, loss: -0.05359\n",
      "epoch: 05, loss: -0.05410\n",
      "epoch: 06, loss: -0.05457\n",
      "epoch: 07, loss: -0.05434\n",
      "epoch: 08, loss: -0.05529\n",
      "epoch: 09, loss: -0.05437\n",
      "torch.Size([525, 64])\n"
     ]
    },
    {
     "name": "stderr",
     "output_type": "stream",
     "text": [
      "\r",
      " 25%|████████████████████████████████████████▍                                                                                                                      | 254/1000 [1:48:36<6:22:12, 30.74s/it]"
     ]
    },
    {
     "name": "stdout",
     "output_type": "stream",
     "text": [
      "eigenvalues shape torch.Size([5]) eigenvectors shape torch.Size([5, 525])\n",
      "254 /home/phdcs2/Hard_Disk/Datasets/Deep-Spectral-Segmentation/data/object-segmentation/ECSSD/features/dino_vits16/0255.pth\n",
      "dict_keys(['k', 'indices', 'file', 'id', 'model_name', 'patch_size', 'shape'])\n",
      "0255\n",
      "Starting Training\n",
      "epoch: 00, loss: -0.20632\n",
      "epoch: 01, loss: -0.23646\n",
      "epoch: 02, loss: -0.23968\n",
      "epoch: 03, loss: -0.24029\n",
      "epoch: 04, loss: -0.24573\n",
      "epoch: 05, loss: -0.24570\n",
      "epoch: 06, loss: -0.24646\n",
      "epoch: 07, loss: -0.24863\n",
      "epoch: 08, loss: -0.25038\n",
      "epoch: 09, loss: -0.24644\n",
      "torch.Size([575, 64])\n"
     ]
    },
    {
     "name": "stderr",
     "output_type": "stream",
     "text": [
      "\r",
      " 26%|████████████████████████████████████████▌                                                                                                                      | 255/1000 [1:49:25<7:30:07, 36.25s/it]"
     ]
    },
    {
     "name": "stdout",
     "output_type": "stream",
     "text": [
      "eigenvalues shape torch.Size([5]) eigenvectors shape torch.Size([5, 575])\n",
      "255 /home/phdcs2/Hard_Disk/Datasets/Deep-Spectral-Segmentation/data/object-segmentation/ECSSD/features/dino_vits16/0256.pth\n",
      "dict_keys(['k', 'indices', 'file', 'id', 'model_name', 'patch_size', 'shape'])\n",
      "0256\n",
      "Starting Training\n",
      "epoch: 00, loss: -0.03601\n",
      "epoch: 01, loss: -0.06614\n",
      "epoch: 02, loss: -0.07047\n",
      "epoch: 03, loss: -0.06815\n",
      "epoch: 04, loss: -0.06902\n",
      "epoch: 05, loss: -0.06904\n",
      "epoch: 06, loss: -0.06947\n",
      "epoch: 07, loss: -0.07225\n",
      "epoch: 08, loss: -0.07245\n",
      "epoch: 09, loss: -0.07070\n",
      "torch.Size([375, 64])\n"
     ]
    },
    {
     "name": "stderr",
     "output_type": "stream",
     "text": [
      "\r",
      " 26%|████████████████████████████████████████▋                                                                                                                      | 256/1000 [1:49:46<6:33:56, 31.77s/it]"
     ]
    },
    {
     "name": "stdout",
     "output_type": "stream",
     "text": [
      "eigenvalues shape torch.Size([5]) eigenvectors shape torch.Size([5, 375])\n",
      "256 /home/phdcs2/Hard_Disk/Datasets/Deep-Spectral-Segmentation/data/object-segmentation/ECSSD/features/dino_vits16/0257.pth\n",
      "dict_keys(['k', 'indices', 'file', 'id', 'model_name', 'patch_size', 'shape'])\n",
      "0257\n",
      "Starting Training\n",
      "epoch: 00, loss: -0.04744\n",
      "epoch: 01, loss: -0.06449\n",
      "epoch: 02, loss: -0.06714\n",
      "epoch: 03, loss: -0.06785\n",
      "epoch: 04, loss: -0.07013\n",
      "epoch: 05, loss: -0.07093\n",
      "epoch: 06, loss: -0.06969\n",
      "epoch: 07, loss: -0.06956\n",
      "epoch: 08, loss: -0.06716\n",
      "epoch: 09, loss: -0.06899\n",
      "torch.Size([475, 64])\n"
     ]
    },
    {
     "name": "stderr",
     "output_type": "stream",
     "text": [
      "\r",
      " 26%|████████████████████████████████████████▊                                                                                                                      | 257/1000 [1:50:17<6:30:49, 31.56s/it]"
     ]
    },
    {
     "name": "stdout",
     "output_type": "stream",
     "text": [
      "eigenvalues shape torch.Size([5]) eigenvectors shape torch.Size([5, 475])\n",
      "257 /home/phdcs2/Hard_Disk/Datasets/Deep-Spectral-Segmentation/data/object-segmentation/ECSSD/features/dino_vits16/0258.pth\n",
      "dict_keys(['k', 'indices', 'file', 'id', 'model_name', 'patch_size', 'shape'])\n",
      "0258\n",
      "Starting Training\n",
      "epoch: 00, loss: -0.03037\n",
      "epoch: 01, loss: -0.05475\n",
      "epoch: 02, loss: -0.05731\n",
      "epoch: 03, loss: -0.05799\n",
      "epoch: 04, loss: -0.05939\n",
      "epoch: 05, loss: -0.06012\n",
      "epoch: 06, loss: -0.06038\n",
      "epoch: 07, loss: -0.06022\n",
      "epoch: 08, loss: -0.06007\n",
      "epoch: 09, loss: -0.05970\n",
      "torch.Size([400, 64])\n"
     ]
    },
    {
     "name": "stderr",
     "output_type": "stream",
     "text": [
      "\r",
      " 26%|█████████████████████████████████████████                                                                                                                      | 258/1000 [1:50:37<5:47:25, 28.09s/it]"
     ]
    },
    {
     "name": "stdout",
     "output_type": "stream",
     "text": [
      "eigenvalues shape torch.Size([5]) eigenvectors shape torch.Size([5, 400])\n",
      "258 /home/phdcs2/Hard_Disk/Datasets/Deep-Spectral-Segmentation/data/object-segmentation/ECSSD/features/dino_vits16/0259.pth\n",
      "dict_keys(['k', 'indices', 'file', 'id', 'model_name', 'patch_size', 'shape'])\n",
      "0259\n",
      "Starting Training\n",
      "epoch: 00, loss: -0.02912\n",
      "epoch: 01, loss: -0.05822\n",
      "epoch: 02, loss: -0.06022\n",
      "epoch: 03, loss: -0.06046\n",
      "epoch: 04, loss: -0.06085\n",
      "epoch: 05, loss: -0.06095\n",
      "epoch: 06, loss: -0.06111\n",
      "epoch: 07, loss: -0.06115\n",
      "epoch: 08, loss: -0.06137\n",
      "epoch: 09, loss: -0.06146\n",
      "torch.Size([450, 64])\n"
     ]
    },
    {
     "name": "stderr",
     "output_type": "stream",
     "text": [
      "\r",
      " 26%|█████████████████████████████████████████▏                                                                                                                     | 259/1000 [1:51:03<5:38:46, 27.43s/it]"
     ]
    },
    {
     "name": "stdout",
     "output_type": "stream",
     "text": [
      "eigenvalues shape torch.Size([5]) eigenvectors shape torch.Size([5, 450])\n",
      "259 /home/phdcs2/Hard_Disk/Datasets/Deep-Spectral-Segmentation/data/object-segmentation/ECSSD/features/dino_vits16/0260.pth\n",
      "dict_keys(['k', 'indices', 'file', 'id', 'model_name', 'patch_size', 'shape'])\n",
      "0260\n",
      "Starting Training\n",
      "epoch: 00, loss: -0.07184\n",
      "epoch: 01, loss: -0.08751\n",
      "epoch: 02, loss: -0.08844\n",
      "epoch: 03, loss: -0.08865\n",
      "epoch: 04, loss: -0.08902\n",
      "epoch: 05, loss: -0.08917\n",
      "epoch: 06, loss: -0.08932\n",
      "epoch: 07, loss: -0.08951\n",
      "epoch: 08, loss: -0.08958\n",
      "epoch: 09, loss: -0.08963\n",
      "torch.Size([450, 64])\n"
     ]
    },
    {
     "name": "stderr",
     "output_type": "stream",
     "text": [
      "\r",
      " 26%|█████████████████████████████████████████▎                                                                                                                     | 260/1000 [1:51:25<5:17:58, 25.78s/it]"
     ]
    },
    {
     "name": "stdout",
     "output_type": "stream",
     "text": [
      "eigenvalues shape torch.Size([5]) eigenvectors shape torch.Size([5, 450])\n",
      "260 /home/phdcs2/Hard_Disk/Datasets/Deep-Spectral-Segmentation/data/object-segmentation/ECSSD/features/dino_vits16/0261.pth\n",
      "dict_keys(['k', 'indices', 'file', 'id', 'model_name', 'patch_size', 'shape'])\n",
      "0261\n",
      "Starting Training\n",
      "epoch: 00, loss: -0.04780\n",
      "epoch: 01, loss: -0.06973\n",
      "epoch: 02, loss: -0.07082\n",
      "epoch: 03, loss: -0.07114\n",
      "epoch: 04, loss: -0.07159\n",
      "epoch: 05, loss: -0.07177\n",
      "epoch: 06, loss: -0.07201\n",
      "epoch: 07, loss: -0.07216\n",
      "epoch: 08, loss: -0.07215\n",
      "epoch: 09, loss: -0.07230\n",
      "torch.Size([400, 64])\n"
     ]
    },
    {
     "name": "stderr",
     "output_type": "stream",
     "text": [
      "\r",
      " 26%|█████████████████████████████████████████▍                                                                                                                     | 261/1000 [1:51:47<5:05:17, 24.79s/it]"
     ]
    },
    {
     "name": "stdout",
     "output_type": "stream",
     "text": [
      "eigenvalues shape torch.Size([5]) eigenvectors shape torch.Size([5, 400])\n",
      "261 /home/phdcs2/Hard_Disk/Datasets/Deep-Spectral-Segmentation/data/object-segmentation/ECSSD/features/dino_vits16/0262.pth\n",
      "dict_keys(['k', 'indices', 'file', 'id', 'model_name', 'patch_size', 'shape'])\n",
      "0262\n",
      "Starting Training\n",
      "epoch: 00, loss: -0.02940\n",
      "epoch: 01, loss: -0.05409\n",
      "epoch: 02, loss: -0.05583\n",
      "epoch: 03, loss: -0.05652\n",
      "epoch: 04, loss: -0.05699\n",
      "epoch: 05, loss: -0.05704\n",
      "epoch: 06, loss: -0.05677\n",
      "epoch: 07, loss: -0.05779\n",
      "epoch: 08, loss: -0.05750\n",
      "epoch: 09, loss: -0.05796\n",
      "torch.Size([450, 64])\n"
     ]
    },
    {
     "name": "stderr",
     "output_type": "stream",
     "text": [
      "\r",
      " 26%|█████████████████████████████████████████▋                                                                                                                     | 262/1000 [1:52:13<5:09:14, 25.14s/it]"
     ]
    },
    {
     "name": "stdout",
     "output_type": "stream",
     "text": [
      "eigenvalues shape torch.Size([5]) eigenvectors shape torch.Size([5, 450])\n",
      "262 /home/phdcs2/Hard_Disk/Datasets/Deep-Spectral-Segmentation/data/object-segmentation/ECSSD/features/dino_vits16/0263.pth\n",
      "dict_keys(['k', 'indices', 'file', 'id', 'model_name', 'patch_size', 'shape'])\n",
      "0263\n",
      "Starting Training\n",
      "epoch: 00, loss: -0.04214\n",
      "epoch: 01, loss: -0.06141\n",
      "epoch: 02, loss: -0.06644\n",
      "epoch: 03, loss: -0.06829\n",
      "epoch: 04, loss: -0.06908\n",
      "epoch: 05, loss: -0.06993\n",
      "epoch: 06, loss: -0.07017\n",
      "epoch: 07, loss: -0.06803\n",
      "epoch: 08, loss: -0.07033\n",
      "epoch: 09, loss: -0.07061\n",
      "torch.Size([450, 64])\n"
     ]
    },
    {
     "name": "stderr",
     "output_type": "stream",
     "text": [
      "\r",
      " 26%|█████████████████████████████████████████▊                                                                                                                     | 263/1000 [1:52:42<5:19:48, 26.04s/it]"
     ]
    },
    {
     "name": "stdout",
     "output_type": "stream",
     "text": [
      "eigenvalues shape torch.Size([5]) eigenvectors shape torch.Size([5, 450])\n",
      "263 /home/phdcs2/Hard_Disk/Datasets/Deep-Spectral-Segmentation/data/object-segmentation/ECSSD/features/dino_vits16/0264.pth\n",
      "dict_keys(['k', 'indices', 'file', 'id', 'model_name', 'patch_size', 'shape'])\n",
      "0264\n",
      "Starting Training\n",
      "epoch: 00, loss: -0.03353\n",
      "epoch: 01, loss: -0.05844\n",
      "epoch: 02, loss: -0.06105\n",
      "epoch: 03, loss: -0.06148\n",
      "epoch: 04, loss: -0.06178\n",
      "epoch: 05, loss: -0.06253\n",
      "epoch: 06, loss: -0.06240\n",
      "epoch: 07, loss: -0.06276\n",
      "epoch: 08, loss: -0.06252\n",
      "epoch: 09, loss: -0.06278\n",
      "torch.Size([400, 64])\n"
     ]
    },
    {
     "name": "stderr",
     "output_type": "stream",
     "text": [
      "\r",
      " 26%|█████████████████████████████████████████▉                                                                                                                     | 264/1000 [1:53:06<5:15:04, 25.68s/it]"
     ]
    },
    {
     "name": "stdout",
     "output_type": "stream",
     "text": [
      "eigenvalues shape torch.Size([5]) eigenvectors shape torch.Size([5, 400])\n",
      "264 /home/phdcs2/Hard_Disk/Datasets/Deep-Spectral-Segmentation/data/object-segmentation/ECSSD/features/dino_vits16/0265.pth\n",
      "dict_keys(['k', 'indices', 'file', 'id', 'model_name', 'patch_size', 'shape'])\n",
      "0265\n",
      "Starting Training\n",
      "epoch: 00, loss: -0.05491\n",
      "epoch: 01, loss: -0.08148\n",
      "epoch: 02, loss: -0.08265\n",
      "epoch: 03, loss: -0.08415\n",
      "epoch: 04, loss: -0.08811\n",
      "epoch: 05, loss: -0.08527\n",
      "epoch: 06, loss: -0.08663\n",
      "epoch: 07, loss: -0.08752\n",
      "epoch: 08, loss: -0.08931\n",
      "epoch: 09, loss: -0.08860\n",
      "torch.Size([525, 64])\n"
     ]
    },
    {
     "name": "stderr",
     "output_type": "stream",
     "text": [
      "\r",
      " 26%|██████████████████████████████████████████▏                                                                                                                    | 265/1000 [1:53:55<6:38:07, 32.50s/it]"
     ]
    },
    {
     "name": "stdout",
     "output_type": "stream",
     "text": [
      "eigenvalues shape torch.Size([5]) eigenvectors shape torch.Size([5, 525])\n",
      "265 /home/phdcs2/Hard_Disk/Datasets/Deep-Spectral-Segmentation/data/object-segmentation/ECSSD/features/dino_vits16/0266.pth\n",
      "dict_keys(['k', 'indices', 'file', 'id', 'model_name', 'patch_size', 'shape'])\n",
      "0266\n",
      "Starting Training\n",
      "epoch: 00, loss: -0.05107\n",
      "epoch: 01, loss: -0.07242\n",
      "epoch: 02, loss: -0.07315\n",
      "epoch: 03, loss: -0.07414\n",
      "epoch: 04, loss: -0.07379\n",
      "epoch: 05, loss: -0.07567\n",
      "epoch: 06, loss: -0.07443\n",
      "epoch: 07, loss: -0.07469\n",
      "epoch: 08, loss: -0.07599\n",
      "epoch: 09, loss: -0.07528\n",
      "torch.Size([425, 64])\n"
     ]
    },
    {
     "name": "stderr",
     "output_type": "stream",
     "text": [
      "\r",
      " 27%|██████████████████████████████████████████▎                                                                                                                    | 266/1000 [1:54:22<6:16:27, 30.77s/it]"
     ]
    },
    {
     "name": "stdout",
     "output_type": "stream",
     "text": [
      "eigenvalues shape torch.Size([5]) eigenvectors shape torch.Size([5, 425])\n",
      "266 /home/phdcs2/Hard_Disk/Datasets/Deep-Spectral-Segmentation/data/object-segmentation/ECSSD/features/dino_vits16/0267.pth\n",
      "dict_keys(['k', 'indices', 'file', 'id', 'model_name', 'patch_size', 'shape'])\n",
      "0267\n",
      "Starting Training\n",
      "epoch: 00, loss: -0.07328\n",
      "epoch: 01, loss: -0.10930\n",
      "epoch: 02, loss: -0.11480\n",
      "epoch: 03, loss: -0.11647\n",
      "epoch: 04, loss: -0.11840\n",
      "epoch: 05, loss: -0.11736\n",
      "epoch: 06, loss: -0.11836\n",
      "epoch: 07, loss: -0.11905\n",
      "epoch: 08, loss: -0.12009\n",
      "epoch: 09, loss: -0.11983\n",
      "torch.Size([400, 64])\n"
     ]
    },
    {
     "name": "stderr",
     "output_type": "stream",
     "text": [
      "\r",
      " 27%|██████████████████████████████████████████▍                                                                                                                    | 267/1000 [1:54:43<5:42:26, 28.03s/it]"
     ]
    },
    {
     "name": "stdout",
     "output_type": "stream",
     "text": [
      "eigenvalues shape torch.Size([5]) eigenvectors shape torch.Size([5, 400])\n",
      "267 /home/phdcs2/Hard_Disk/Datasets/Deep-Spectral-Segmentation/data/object-segmentation/ECSSD/features/dino_vits16/0268.pth\n",
      "dict_keys(['k', 'indices', 'file', 'id', 'model_name', 'patch_size', 'shape'])\n",
      "0268\n",
      "Starting Training\n",
      "epoch: 00, loss: -0.05792\n",
      "epoch: 01, loss: -0.07084\n",
      "epoch: 02, loss: -0.07152\n",
      "epoch: 03, loss: -0.07207\n",
      "epoch: 04, loss: -0.07231\n",
      "epoch: 05, loss: -0.07260\n",
      "epoch: 06, loss: -0.07260\n",
      "epoch: 07, loss: -0.07284\n",
      "epoch: 08, loss: -0.07300\n",
      "epoch: 09, loss: -0.07288\n",
      "torch.Size([600, 64])\n"
     ]
    },
    {
     "name": "stderr",
     "output_type": "stream",
     "text": [
      "\r",
      " 27%|██████████████████████████████████████████▌                                                                                                                    | 268/1000 [1:55:30<6:51:40, 33.74s/it]"
     ]
    },
    {
     "name": "stdout",
     "output_type": "stream",
     "text": [
      "eigenvalues shape torch.Size([5]) eigenvectors shape torch.Size([5, 600])\n",
      "268 /home/phdcs2/Hard_Disk/Datasets/Deep-Spectral-Segmentation/data/object-segmentation/ECSSD/features/dino_vits16/0269.pth\n",
      "dict_keys(['k', 'indices', 'file', 'id', 'model_name', 'patch_size', 'shape'])\n",
      "0269\n",
      "Starting Training\n",
      "epoch: 00, loss: -0.00953\n",
      "epoch: 01, loss: -0.03402\n",
      "epoch: 02, loss: -0.03807\n",
      "epoch: 03, loss: -0.03937\n",
      "epoch: 04, loss: -0.04001\n",
      "epoch: 05, loss: -0.04011\n",
      "epoch: 06, loss: -0.04026\n",
      "epoch: 07, loss: -0.04044\n",
      "epoch: 08, loss: -0.04062\n",
      "epoch: 09, loss: -0.04073\n",
      "torch.Size([400, 64])\n"
     ]
    },
    {
     "name": "stderr",
     "output_type": "stream",
     "text": [
      "\r",
      " 27%|██████████████████████████████████████████▊                                                                                                                    | 269/1000 [1:55:51<6:05:27, 30.00s/it]"
     ]
    },
    {
     "name": "stdout",
     "output_type": "stream",
     "text": [
      "eigenvalues shape torch.Size([5]) eigenvectors shape torch.Size([5, 400])\n",
      "269 /home/phdcs2/Hard_Disk/Datasets/Deep-Spectral-Segmentation/data/object-segmentation/ECSSD/features/dino_vits16/0270.pth\n",
      "dict_keys(['k', 'indices', 'file', 'id', 'model_name', 'patch_size', 'shape'])\n",
      "0270\n",
      "Starting Training\n",
      "epoch: 00, loss: -0.05275\n",
      "epoch: 01, loss: -0.08649\n",
      "epoch: 02, loss: -0.09476\n",
      "epoch: 03, loss: -0.09401\n",
      "epoch: 04, loss: -0.09796\n",
      "epoch: 05, loss: -0.09857\n",
      "epoch: 06, loss: -0.09878\n",
      "epoch: 07, loss: -0.09816\n",
      "epoch: 08, loss: -0.10049\n",
      "epoch: 09, loss: -0.09475\n",
      "torch.Size([375, 64])\n"
     ]
    },
    {
     "name": "stderr",
     "output_type": "stream",
     "text": [
      "\r",
      " 27%|██████████████████████████████████████████▉                                                                                                                    | 270/1000 [1:56:13<5:33:30, 27.41s/it]"
     ]
    },
    {
     "name": "stdout",
     "output_type": "stream",
     "text": [
      "eigenvalues shape torch.Size([5]) eigenvectors shape torch.Size([5, 375])\n",
      "270 /home/phdcs2/Hard_Disk/Datasets/Deep-Spectral-Segmentation/data/object-segmentation/ECSSD/features/dino_vits16/0271.pth\n",
      "dict_keys(['k', 'indices', 'file', 'id', 'model_name', 'patch_size', 'shape'])\n",
      "0271\n",
      "Starting Training\n",
      "epoch: 00, loss: -0.03420\n",
      "epoch: 01, loss: -0.06893\n",
      "epoch: 02, loss: -0.07235\n",
      "epoch: 03, loss: -0.07249\n",
      "epoch: 04, loss: -0.07252\n",
      "epoch: 05, loss: -0.07624\n",
      "epoch: 06, loss: -0.07668\n",
      "epoch: 07, loss: -0.07416\n",
      "epoch: 08, loss: -0.07770\n",
      "epoch: 09, loss: -0.07663\n",
      "torch.Size([450, 64])\n"
     ]
    },
    {
     "name": "stderr",
     "output_type": "stream",
     "text": [
      "\r",
      " 27%|███████████████████████████████████████████                                                                                                                    | 271/1000 [1:56:41<5:35:55, 27.65s/it]"
     ]
    },
    {
     "name": "stdout",
     "output_type": "stream",
     "text": [
      "eigenvalues shape torch.Size([5]) eigenvectors shape torch.Size([5, 450])\n",
      "271 /home/phdcs2/Hard_Disk/Datasets/Deep-Spectral-Segmentation/data/object-segmentation/ECSSD/features/dino_vits16/0272.pth\n",
      "dict_keys(['k', 'indices', 'file', 'id', 'model_name', 'patch_size', 'shape'])\n",
      "0272\n",
      "Starting Training\n",
      "epoch: 00, loss: -0.04019\n",
      "epoch: 01, loss: -0.05710\n",
      "epoch: 02, loss: -0.05821\n",
      "epoch: 03, loss: -0.05862\n",
      "epoch: 04, loss: -0.05918\n",
      "epoch: 05, loss: -0.05918\n",
      "epoch: 06, loss: -0.05947\n",
      "epoch: 07, loss: -0.05949\n",
      "epoch: 08, loss: -0.05972\n",
      "epoch: 09, loss: -0.05979\n",
      "torch.Size([500, 64])\n"
     ]
    },
    {
     "name": "stderr",
     "output_type": "stream",
     "text": [
      "\r",
      " 27%|███████████████████████████████████████████▏                                                                                                                   | 272/1000 [1:57:08<5:32:23, 27.40s/it]"
     ]
    },
    {
     "name": "stdout",
     "output_type": "stream",
     "text": [
      "eigenvalues shape torch.Size([5]) eigenvectors shape torch.Size([5, 500])\n",
      "272 /home/phdcs2/Hard_Disk/Datasets/Deep-Spectral-Segmentation/data/object-segmentation/ECSSD/features/dino_vits16/0273.pth\n",
      "dict_keys(['k', 'indices', 'file', 'id', 'model_name', 'patch_size', 'shape'])\n",
      "0273\n",
      "Starting Training\n",
      "epoch: 00, loss: -0.06017\n",
      "epoch: 01, loss: -0.09212\n",
      "epoch: 02, loss: -0.09464\n",
      "epoch: 03, loss: -0.09787\n",
      "epoch: 04, loss: -0.09799\n",
      "epoch: 05, loss: -0.09797\n",
      "epoch: 06, loss: -0.09873\n",
      "epoch: 07, loss: -0.09959\n",
      "epoch: 08, loss: -0.09903\n",
      "epoch: 09, loss: -0.10012\n",
      "torch.Size([400, 64])\n"
     ]
    },
    {
     "name": "stderr",
     "output_type": "stream",
     "text": [
      "\r",
      " 27%|███████████████████████████████████████████▍                                                                                                                   | 273/1000 [1:57:33<5:22:14, 26.60s/it]"
     ]
    },
    {
     "name": "stdout",
     "output_type": "stream",
     "text": [
      "eigenvalues shape torch.Size([5]) eigenvectors shape torch.Size([5, 400])\n",
      "273 /home/phdcs2/Hard_Disk/Datasets/Deep-Spectral-Segmentation/data/object-segmentation/ECSSD/features/dino_vits16/0274.pth\n",
      "dict_keys(['k', 'indices', 'file', 'id', 'model_name', 'patch_size', 'shape'])\n",
      "0274\n",
      "Starting Training\n",
      "epoch: 00, loss: -0.02790\n",
      "epoch: 01, loss: -0.03955\n",
      "epoch: 02, loss: -0.04068\n",
      "epoch: 03, loss: -0.04074\n",
      "epoch: 04, loss: -0.04133\n",
      "epoch: 05, loss: -0.04250\n",
      "epoch: 06, loss: -0.04229\n",
      "epoch: 07, loss: -0.04279\n",
      "epoch: 08, loss: -0.04271\n",
      "epoch: 09, loss: -0.04210\n",
      "torch.Size([575, 64])\n"
     ]
    },
    {
     "name": "stderr",
     "output_type": "stream",
     "text": [
      "\r",
      " 27%|███████████████████████████████████████████▌                                                                                                                   | 274/1000 [1:58:27<7:03:32, 35.00s/it]"
     ]
    },
    {
     "name": "stdout",
     "output_type": "stream",
     "text": [
      "eigenvalues shape torch.Size([5]) eigenvectors shape torch.Size([5, 575])\n",
      "274 /home/phdcs2/Hard_Disk/Datasets/Deep-Spectral-Segmentation/data/object-segmentation/ECSSD/features/dino_vits16/0275.pth\n",
      "dict_keys(['k', 'indices', 'file', 'id', 'model_name', 'patch_size', 'shape'])\n",
      "0275\n",
      "Starting Training\n",
      "epoch: 00, loss: -0.04373\n",
      "epoch: 01, loss: -0.07100\n",
      "epoch: 02, loss: -0.07284\n",
      "epoch: 03, loss: -0.07746\n",
      "epoch: 04, loss: -0.08082\n",
      "epoch: 05, loss: -0.07801\n",
      "epoch: 06, loss: -0.08001\n",
      "epoch: 07, loss: -0.08076\n",
      "epoch: 08, loss: -0.07950\n",
      "epoch: 09, loss: -0.08038\n",
      "torch.Size([400, 64])\n"
     ]
    },
    {
     "name": "stderr",
     "output_type": "stream",
     "text": [
      "\r",
      " 28%|███████████████████████████████████████████▋                                                                                                                   | 275/1000 [1:58:51<6:23:35, 31.75s/it]"
     ]
    },
    {
     "name": "stdout",
     "output_type": "stream",
     "text": [
      "eigenvalues shape torch.Size([5]) eigenvectors shape torch.Size([5, 400])\n",
      "275 /home/phdcs2/Hard_Disk/Datasets/Deep-Spectral-Segmentation/data/object-segmentation/ECSSD/features/dino_vits16/0276.pth\n",
      "dict_keys(['k', 'indices', 'file', 'id', 'model_name', 'patch_size', 'shape'])\n",
      "0276\n",
      "Starting Training\n",
      "epoch: 00, loss: -0.07267\n",
      "epoch: 01, loss: -0.09620\n",
      "epoch: 02, loss: -0.09914\n",
      "epoch: 03, loss: -0.10083\n",
      "epoch: 04, loss: -0.10282\n",
      "epoch: 05, loss: -0.10247\n",
      "epoch: 06, loss: -0.10445\n",
      "epoch: 07, loss: -0.10403\n",
      "epoch: 08, loss: -0.10444\n",
      "epoch: 09, loss: -0.10436\n",
      "torch.Size([525, 64])\n"
     ]
    },
    {
     "name": "stderr",
     "output_type": "stream",
     "text": [
      "\r",
      " 28%|███████████████████████████████████████████▉                                                                                                                   | 276/1000 [1:59:41<7:28:51, 37.20s/it]"
     ]
    },
    {
     "name": "stdout",
     "output_type": "stream",
     "text": [
      "eigenvalues shape torch.Size([5]) eigenvectors shape torch.Size([5, 525])\n",
      "276 /home/phdcs2/Hard_Disk/Datasets/Deep-Spectral-Segmentation/data/object-segmentation/ECSSD/features/dino_vits16/0277.pth\n",
      "dict_keys(['k', 'indices', 'file', 'id', 'model_name', 'patch_size', 'shape'])\n",
      "0277\n",
      "Starting Training\n",
      "epoch: 00, loss: -0.00776\n",
      "epoch: 01, loss: -0.02754\n",
      "epoch: 02, loss: -0.03166\n",
      "epoch: 03, loss: -0.03293\n",
      "epoch: 04, loss: -0.03401\n",
      "epoch: 05, loss: -0.03430\n",
      "epoch: 06, loss: -0.03407\n",
      "epoch: 07, loss: -0.03457\n",
      "epoch: 08, loss: -0.03506\n",
      "epoch: 09, loss: -0.03512\n",
      "torch.Size([400, 64])\n"
     ]
    },
    {
     "name": "stderr",
     "output_type": "stream",
     "text": [
      "\r",
      " 28%|████████████████████████████████████████████                                                                                                                   | 277/1000 [2:00:05<6:39:40, 33.17s/it]"
     ]
    },
    {
     "name": "stdout",
     "output_type": "stream",
     "text": [
      "eigenvalues shape torch.Size([5]) eigenvectors shape torch.Size([5, 400])\n",
      "277 /home/phdcs2/Hard_Disk/Datasets/Deep-Spectral-Segmentation/data/object-segmentation/ECSSD/features/dino_vits16/0278.pth\n",
      "dict_keys(['k', 'indices', 'file', 'id', 'model_name', 'patch_size', 'shape'])\n",
      "0278\n",
      "Starting Training\n",
      "epoch: 00, loss: -0.04978\n",
      "epoch: 01, loss: -0.06979\n",
      "epoch: 02, loss: -0.07023\n",
      "epoch: 03, loss: -0.07065\n",
      "epoch: 04, loss: -0.07086\n",
      "epoch: 05, loss: -0.07124\n",
      "epoch: 06, loss: -0.07129\n",
      "epoch: 07, loss: -0.07143\n",
      "epoch: 08, loss: -0.07157\n",
      "epoch: 09, loss: -0.07150\n",
      "torch.Size([550, 64])\n"
     ]
    },
    {
     "name": "stderr",
     "output_type": "stream",
     "text": [
      "\r",
      " 28%|████████████████████████████████████████████▏                                                                                                                  | 278/1000 [2:00:40<6:44:17, 33.60s/it]"
     ]
    },
    {
     "name": "stdout",
     "output_type": "stream",
     "text": [
      "eigenvalues shape torch.Size([5]) eigenvectors shape torch.Size([5, 550])\n",
      "278 /home/phdcs2/Hard_Disk/Datasets/Deep-Spectral-Segmentation/data/object-segmentation/ECSSD/features/dino_vits16/0279.pth\n",
      "dict_keys(['k', 'indices', 'file', 'id', 'model_name', 'patch_size', 'shape'])\n",
      "0279\n",
      "Starting Training\n",
      "epoch: 00, loss: -0.08545\n",
      "epoch: 01, loss: -0.11263\n",
      "epoch: 02, loss: -0.11441\n",
      "epoch: 03, loss: -0.11536\n",
      "epoch: 04, loss: -0.11737\n",
      "epoch: 05, loss: -0.11931\n",
      "epoch: 06, loss: -0.11911\n",
      "epoch: 07, loss: -0.12027\n",
      "epoch: 08, loss: -0.12088\n",
      "epoch: 09, loss: -0.12096\n",
      "torch.Size([450, 64])\n"
     ]
    },
    {
     "name": "stderr",
     "output_type": "stream",
     "text": [
      "\r",
      " 28%|████████████████████████████████████████████▎                                                                                                                  | 279/1000 [2:01:01<6:00:19, 29.99s/it]"
     ]
    },
    {
     "name": "stdout",
     "output_type": "stream",
     "text": [
      "eigenvalues shape torch.Size([5]) eigenvectors shape torch.Size([5, 450])\n",
      "279 /home/phdcs2/Hard_Disk/Datasets/Deep-Spectral-Segmentation/data/object-segmentation/ECSSD/features/dino_vits16/0280.pth\n",
      "dict_keys(['k', 'indices', 'file', 'id', 'model_name', 'patch_size', 'shape'])\n",
      "0280\n",
      "Starting Training\n",
      "epoch: 00, loss: -0.04372\n",
      "epoch: 01, loss: -0.05505\n",
      "epoch: 02, loss: -0.05549\n",
      "epoch: 03, loss: -0.05645\n",
      "epoch: 04, loss: -0.05631\n",
      "epoch: 05, loss: -0.05646\n",
      "epoch: 06, loss: -0.05754\n",
      "epoch: 07, loss: -0.05750\n",
      "epoch: 08, loss: -0.05777\n",
      "epoch: 09, loss: -0.05784\n",
      "torch.Size([625, 64])\n"
     ]
    },
    {
     "name": "stderr",
     "output_type": "stream",
     "text": [
      "\r",
      " 28%|████████████████████████████████████████████▌                                                                                                                  | 280/1000 [2:01:51<7:11:05, 35.92s/it]"
     ]
    },
    {
     "name": "stdout",
     "output_type": "stream",
     "text": [
      "eigenvalues shape torch.Size([5]) eigenvectors shape torch.Size([5, 625])\n",
      "280 /home/phdcs2/Hard_Disk/Datasets/Deep-Spectral-Segmentation/data/object-segmentation/ECSSD/features/dino_vits16/0281.pth\n",
      "dict_keys(['k', 'indices', 'file', 'id', 'model_name', 'patch_size', 'shape'])\n",
      "0281\n",
      "Starting Training\n",
      "epoch: 00, loss: -0.02406\n",
      "epoch: 01, loss: -0.04562\n",
      "epoch: 02, loss: -0.05117\n",
      "epoch: 03, loss: -0.05019\n",
      "epoch: 04, loss: -0.05229\n",
      "epoch: 05, loss: -0.05301\n",
      "epoch: 06, loss: -0.05566\n",
      "epoch: 07, loss: -0.05325\n",
      "epoch: 08, loss: -0.05392\n",
      "epoch: 09, loss: -0.05429\n",
      "torch.Size([450, 64])\n"
     ]
    },
    {
     "name": "stderr",
     "output_type": "stream",
     "text": [
      "\r",
      " 28%|████████████████████████████████████████████▋                                                                                                                  | 281/1000 [2:02:16<6:29:47, 32.53s/it]"
     ]
    },
    {
     "name": "stdout",
     "output_type": "stream",
     "text": [
      "eigenvalues shape torch.Size([5]) eigenvectors shape torch.Size([5, 450])\n",
      "281 /home/phdcs2/Hard_Disk/Datasets/Deep-Spectral-Segmentation/data/object-segmentation/ECSSD/features/dino_vits16/0282.pth\n",
      "dict_keys(['k', 'indices', 'file', 'id', 'model_name', 'patch_size', 'shape'])\n",
      "0282\n",
      "Starting Training\n",
      "epoch: 00, loss: -0.05104\n",
      "epoch: 01, loss: -0.07741\n",
      "epoch: 02, loss: -0.08189\n",
      "epoch: 03, loss: -0.08222\n",
      "epoch: 04, loss: -0.08315\n",
      "epoch: 05, loss: -0.08277\n",
      "epoch: 06, loss: -0.08509\n",
      "epoch: 07, loss: -0.08387\n",
      "epoch: 08, loss: -0.08553\n",
      "epoch: 09, loss: -0.08545\n",
      "torch.Size([400, 64])\n"
     ]
    },
    {
     "name": "stderr",
     "output_type": "stream",
     "text": [
      "\r",
      " 28%|████████████████████████████████████████████▊                                                                                                                  | 282/1000 [2:02:38<5:54:35, 29.63s/it]"
     ]
    },
    {
     "name": "stdout",
     "output_type": "stream",
     "text": [
      "eigenvalues shape torch.Size([5]) eigenvectors shape torch.Size([5, 400])\n",
      "282 /home/phdcs2/Hard_Disk/Datasets/Deep-Spectral-Segmentation/data/object-segmentation/ECSSD/features/dino_vits16/0283.pth\n",
      "dict_keys(['k', 'indices', 'file', 'id', 'model_name', 'patch_size', 'shape'])\n",
      "0283\n",
      "Starting Training\n",
      "epoch: 00, loss: -0.02879\n",
      "epoch: 01, loss: -0.05773\n",
      "epoch: 02, loss: -0.06057\n",
      "epoch: 03, loss: -0.06157\n",
      "epoch: 04, loss: -0.06114\n",
      "epoch: 05, loss: -0.06150\n",
      "epoch: 06, loss: -0.06160\n",
      "epoch: 07, loss: -0.06169\n",
      "epoch: 08, loss: -0.06197\n",
      "epoch: 09, loss: -0.06225\n",
      "torch.Size([400, 64])\n"
     ]
    },
    {
     "name": "stderr",
     "output_type": "stream",
     "text": [
      "\r",
      " 28%|████████████████████████████████████████████▉                                                                                                                  | 283/1000 [2:03:01<5:29:52, 27.60s/it]"
     ]
    },
    {
     "name": "stdout",
     "output_type": "stream",
     "text": [
      "eigenvalues shape torch.Size([5]) eigenvectors shape torch.Size([5, 400])\n",
      "283 /home/phdcs2/Hard_Disk/Datasets/Deep-Spectral-Segmentation/data/object-segmentation/ECSSD/features/dino_vits16/0284.pth\n",
      "dict_keys(['k', 'indices', 'file', 'id', 'model_name', 'patch_size', 'shape'])\n",
      "0284\n",
      "Starting Training\n",
      "epoch: 00, loss: -0.00061\n",
      "epoch: 01, loss: -0.03064\n",
      "epoch: 02, loss: -0.03662\n",
      "epoch: 03, loss: -0.03844\n",
      "epoch: 04, loss: -0.03971\n",
      "epoch: 05, loss: -0.04069\n",
      "epoch: 06, loss: -0.03996\n",
      "epoch: 07, loss: -0.04296\n",
      "epoch: 08, loss: -0.04345\n",
      "epoch: 09, loss: -0.04340\n",
      "torch.Size([400, 64])\n"
     ]
    },
    {
     "name": "stderr",
     "output_type": "stream",
     "text": [
      "\r",
      " 28%|█████████████████████████████████████████████▏                                                                                                                 | 284/1000 [2:03:25<5:16:05, 26.49s/it]"
     ]
    },
    {
     "name": "stdout",
     "output_type": "stream",
     "text": [
      "eigenvalues shape torch.Size([5]) eigenvectors shape torch.Size([5, 400])\n",
      "284 /home/phdcs2/Hard_Disk/Datasets/Deep-Spectral-Segmentation/data/object-segmentation/ECSSD/features/dino_vits16/0285.pth\n",
      "dict_keys(['k', 'indices', 'file', 'id', 'model_name', 'patch_size', 'shape'])\n",
      "0285\n",
      "Starting Training\n",
      "epoch: 00, loss: -0.04969\n",
      "epoch: 01, loss: -0.09071\n",
      "epoch: 02, loss: -0.09351\n",
      "epoch: 03, loss: -0.09403\n",
      "epoch: 04, loss: -0.09374\n",
      "epoch: 05, loss: -0.09630\n",
      "epoch: 06, loss: -0.09664\n",
      "epoch: 07, loss: -0.09654\n",
      "epoch: 08, loss: -0.09870\n",
      "epoch: 09, loss: -0.09870\n",
      "torch.Size([400, 64])\n"
     ]
    },
    {
     "name": "stderr",
     "output_type": "stream",
     "text": [
      "\r",
      " 28%|█████████████████████████████████████████████▎                                                                                                                 | 285/1000 [2:03:49<5:06:07, 25.69s/it]"
     ]
    },
    {
     "name": "stdout",
     "output_type": "stream",
     "text": [
      "eigenvalues shape torch.Size([5]) eigenvectors shape torch.Size([5, 400])\n",
      "285 /home/phdcs2/Hard_Disk/Datasets/Deep-Spectral-Segmentation/data/object-segmentation/ECSSD/features/dino_vits16/0286.pth\n",
      "dict_keys(['k', 'indices', 'file', 'id', 'model_name', 'patch_size', 'shape'])\n",
      "0286\n",
      "Starting Training\n",
      "epoch: 00, loss: -0.08211\n",
      "epoch: 01, loss: -0.10885\n",
      "epoch: 02, loss: -0.11236\n",
      "epoch: 03, loss: -0.11408\n",
      "epoch: 04, loss: -0.11571\n",
      "epoch: 05, loss: -0.11604\n",
      "epoch: 06, loss: -0.11602\n",
      "epoch: 07, loss: -0.11764\n",
      "epoch: 08, loss: -0.11815\n",
      "epoch: 09, loss: -0.11781\n",
      "torch.Size([450, 64])\n"
     ]
    },
    {
     "name": "stderr",
     "output_type": "stream",
     "text": [
      "\r",
      " 29%|█████████████████████████████████████████████▍                                                                                                                 | 286/1000 [2:04:20<5:26:07, 27.41s/it]"
     ]
    },
    {
     "name": "stdout",
     "output_type": "stream",
     "text": [
      "eigenvalues shape torch.Size([5]) eigenvectors shape torch.Size([5, 450])\n",
      "286 /home/phdcs2/Hard_Disk/Datasets/Deep-Spectral-Segmentation/data/object-segmentation/ECSSD/features/dino_vits16/0287.pth\n",
      "dict_keys(['k', 'indices', 'file', 'id', 'model_name', 'patch_size', 'shape'])\n",
      "0287\n",
      "Starting Training\n",
      "epoch: 00, loss: -0.01640\n",
      "epoch: 01, loss: -0.03855\n",
      "epoch: 02, loss: -0.04136\n",
      "epoch: 03, loss: -0.04324\n",
      "epoch: 04, loss: -0.04352\n",
      "epoch: 05, loss: -0.04474\n",
      "epoch: 06, loss: -0.04353\n",
      "epoch: 07, loss: -0.04509\n",
      "epoch: 08, loss: -0.04501\n",
      "epoch: 09, loss: -0.04466\n",
      "torch.Size([375, 64])\n"
     ]
    },
    {
     "name": "stderr",
     "output_type": "stream",
     "text": [
      "\r",
      " 29%|█████████████████████████████████████████████▋                                                                                                                 | 287/1000 [2:04:38<4:52:18, 24.60s/it]"
     ]
    },
    {
     "name": "stdout",
     "output_type": "stream",
     "text": [
      "eigenvalues shape torch.Size([5]) eigenvectors shape torch.Size([5, 375])\n",
      "287 /home/phdcs2/Hard_Disk/Datasets/Deep-Spectral-Segmentation/data/object-segmentation/ECSSD/features/dino_vits16/0288.pth\n",
      "dict_keys(['k', 'indices', 'file', 'id', 'model_name', 'patch_size', 'shape'])\n",
      "0288\n",
      "Starting Training\n",
      "epoch: 00, loss: -0.03906\n",
      "epoch: 01, loss: -0.05371\n",
      "epoch: 02, loss: -0.05495\n",
      "epoch: 03, loss: -0.05513\n",
      "epoch: 04, loss: -0.05553\n",
      "epoch: 05, loss: -0.05567\n",
      "epoch: 06, loss: -0.05594\n",
      "epoch: 07, loss: -0.05605\n",
      "epoch: 08, loss: -0.05624\n",
      "epoch: 09, loss: -0.05615\n",
      "torch.Size([450, 64])\n"
     ]
    },
    {
     "name": "stderr",
     "output_type": "stream",
     "text": [
      "\r",
      " 29%|█████████████████████████████████████████████▊                                                                                                                 | 288/1000 [2:05:05<4:58:11, 25.13s/it]"
     ]
    },
    {
     "name": "stdout",
     "output_type": "stream",
     "text": [
      "eigenvalues shape torch.Size([5]) eigenvectors shape torch.Size([5, 450])\n",
      "288 /home/phdcs2/Hard_Disk/Datasets/Deep-Spectral-Segmentation/data/object-segmentation/ECSSD/features/dino_vits16/0289.pth\n",
      "dict_keys(['k', 'indices', 'file', 'id', 'model_name', 'patch_size', 'shape'])\n",
      "0289\n",
      "Starting Training\n",
      "epoch: 00, loss: -0.08766\n",
      "epoch: 01, loss: -0.12166\n",
      "epoch: 02, loss: -0.12956\n",
      "epoch: 03, loss: -0.12867\n",
      "epoch: 04, loss: -0.12870\n",
      "epoch: 05, loss: -0.12889\n",
      "epoch: 06, loss: -0.13207\n",
      "epoch: 07, loss: -0.13096\n",
      "epoch: 08, loss: -0.13140\n",
      "epoch: 09, loss: -0.13332\n",
      "torch.Size([450, 64])\n"
     ]
    },
    {
     "name": "stderr",
     "output_type": "stream",
     "text": [
      "\r",
      " 29%|█████████████████████████████████████████████▉                                                                                                                 | 289/1000 [2:05:35<5:15:41, 26.64s/it]"
     ]
    },
    {
     "name": "stdout",
     "output_type": "stream",
     "text": [
      "eigenvalues shape torch.Size([5]) eigenvectors shape torch.Size([5, 450])\n",
      "289 /home/phdcs2/Hard_Disk/Datasets/Deep-Spectral-Segmentation/data/object-segmentation/ECSSD/features/dino_vits16/0290.pth\n",
      "dict_keys(['k', 'indices', 'file', 'id', 'model_name', 'patch_size', 'shape'])\n",
      "0290\n",
      "Starting Training\n",
      "epoch: 00, loss: -0.03593\n",
      "epoch: 01, loss: -0.06979\n",
      "epoch: 02, loss: -0.07522\n",
      "epoch: 03, loss: -0.07556\n",
      "epoch: 04, loss: -0.07661\n",
      "epoch: 05, loss: -0.07572\n",
      "epoch: 06, loss: -0.07704\n",
      "epoch: 07, loss: -0.07551\n",
      "epoch: 08, loss: -0.07984\n",
      "epoch: 09, loss: -0.08074\n",
      "torch.Size([375, 64])\n"
     ]
    },
    {
     "name": "stderr",
     "output_type": "stream",
     "text": [
      "\r",
      " 29%|██████████████████████████████████████████████                                                                                                                 | 290/1000 [2:05:54<4:46:58, 24.25s/it]"
     ]
    },
    {
     "name": "stdout",
     "output_type": "stream",
     "text": [
      "eigenvalues shape torch.Size([5]) eigenvectors shape torch.Size([5, 375])\n",
      "290 /home/phdcs2/Hard_Disk/Datasets/Deep-Spectral-Segmentation/data/object-segmentation/ECSSD/features/dino_vits16/0291.pth\n",
      "dict_keys(['k', 'indices', 'file', 'id', 'model_name', 'patch_size', 'shape'])\n",
      "0291\n",
      "Starting Training\n",
      "epoch: 00, loss: -0.04974\n",
      "epoch: 01, loss: -0.06871\n",
      "epoch: 02, loss: -0.06876\n",
      "epoch: 03, loss: -0.07102\n",
      "epoch: 04, loss: -0.07130\n",
      "epoch: 05, loss: -0.07239\n",
      "epoch: 06, loss: -0.07142\n",
      "epoch: 07, loss: -0.07111\n",
      "epoch: 08, loss: -0.07252\n",
      "epoch: 09, loss: -0.07247\n",
      "torch.Size([475, 64])\n"
     ]
    },
    {
     "name": "stderr",
     "output_type": "stream",
     "text": [
      "\r",
      " 29%|██████████████████████████████████████████████▎                                                                                                                | 291/1000 [2:06:27<5:19:35, 27.05s/it]"
     ]
    },
    {
     "name": "stdout",
     "output_type": "stream",
     "text": [
      "eigenvalues shape torch.Size([5]) eigenvectors shape torch.Size([5, 475])\n",
      "291 /home/phdcs2/Hard_Disk/Datasets/Deep-Spectral-Segmentation/data/object-segmentation/ECSSD/features/dino_vits16/0292.pth\n",
      "dict_keys(['k', 'indices', 'file', 'id', 'model_name', 'patch_size', 'shape'])\n",
      "0292\n",
      "Starting Training\n",
      "epoch: 00, loss: -0.04224\n",
      "epoch: 01, loss: -0.06849\n",
      "epoch: 02, loss: -0.06970\n",
      "epoch: 03, loss: -0.07010\n",
      "epoch: 04, loss: -0.07053\n",
      "epoch: 05, loss: -0.07050\n",
      "epoch: 06, loss: -0.07078\n",
      "epoch: 07, loss: -0.07104\n",
      "epoch: 08, loss: -0.07083\n",
      "epoch: 09, loss: -0.07097\n",
      "torch.Size([400, 64])\n"
     ]
    },
    {
     "name": "stderr",
     "output_type": "stream",
     "text": [
      "\r",
      " 29%|██████████████████████████████████████████████▍                                                                                                                | 292/1000 [2:06:50<5:04:19, 25.79s/it]"
     ]
    },
    {
     "name": "stdout",
     "output_type": "stream",
     "text": [
      "eigenvalues shape torch.Size([5]) eigenvectors shape torch.Size([5, 400])\n",
      "292 /home/phdcs2/Hard_Disk/Datasets/Deep-Spectral-Segmentation/data/object-segmentation/ECSSD/features/dino_vits16/0293.pth\n",
      "dict_keys(['k', 'indices', 'file', 'id', 'model_name', 'patch_size', 'shape'])\n",
      "0293\n",
      "Starting Training\n",
      "epoch: 00, loss: -0.05197\n",
      "epoch: 01, loss: -0.07103\n",
      "epoch: 02, loss: -0.07301\n",
      "epoch: 03, loss: -0.07258\n",
      "epoch: 04, loss: -0.07265\n",
      "epoch: 05, loss: -0.07413\n",
      "epoch: 06, loss: -0.07301\n",
      "epoch: 07, loss: -0.07288\n",
      "epoch: 08, loss: -0.07348\n",
      "epoch: 09, loss: -0.07292\n",
      "torch.Size([425, 64])\n"
     ]
    },
    {
     "name": "stderr",
     "output_type": "stream",
     "text": [
      "\r",
      " 29%|██████████████████████████████████████████████▌                                                                                                                | 293/1000 [2:07:13<4:55:02, 25.04s/it]"
     ]
    },
    {
     "name": "stdout",
     "output_type": "stream",
     "text": [
      "eigenvalues shape torch.Size([5]) eigenvectors shape torch.Size([5, 425])\n",
      "293 /home/phdcs2/Hard_Disk/Datasets/Deep-Spectral-Segmentation/data/object-segmentation/ECSSD/features/dino_vits16/0294.pth\n",
      "dict_keys(['k', 'indices', 'file', 'id', 'model_name', 'patch_size', 'shape'])\n",
      "0294\n",
      "Starting Training\n",
      "epoch: 00, loss: -0.04264\n",
      "epoch: 01, loss: -0.06985\n",
      "epoch: 02, loss: -0.07000\n",
      "epoch: 03, loss: -0.07042\n",
      "epoch: 04, loss: -0.07114\n",
      "epoch: 05, loss: -0.07115\n",
      "epoch: 06, loss: -0.07111\n",
      "epoch: 07, loss: -0.07112\n",
      "epoch: 08, loss: -0.07263\n",
      "epoch: 09, loss: -0.07194\n",
      "torch.Size([425, 64])\n"
     ]
    },
    {
     "name": "stderr",
     "output_type": "stream",
     "text": [
      "\r",
      " 29%|██████████████████████████████████████████████▋                                                                                                                | 294/1000 [2:07:38<4:53:01, 24.90s/it]"
     ]
    },
    {
     "name": "stdout",
     "output_type": "stream",
     "text": [
      "eigenvalues shape torch.Size([5]) eigenvectors shape torch.Size([5, 425])\n",
      "294 /home/phdcs2/Hard_Disk/Datasets/Deep-Spectral-Segmentation/data/object-segmentation/ECSSD/features/dino_vits16/0295.pth\n",
      "dict_keys(['k', 'indices', 'file', 'id', 'model_name', 'patch_size', 'shape'])\n",
      "0295\n",
      "Starting Training\n",
      "epoch: 00, loss: -0.05186\n",
      "epoch: 01, loss: -0.06663\n",
      "epoch: 02, loss: -0.06730\n",
      "epoch: 03, loss: -0.06760\n",
      "epoch: 04, loss: -0.06857\n",
      "epoch: 05, loss: -0.06949\n",
      "epoch: 06, loss: -0.06859\n",
      "epoch: 07, loss: -0.06840\n",
      "epoch: 08, loss: -0.06893\n",
      "epoch: 09, loss: -0.06899\n",
      "torch.Size([425, 64])\n"
     ]
    },
    {
     "name": "stderr",
     "output_type": "stream",
     "text": [
      "\r",
      " 30%|██████████████████████████████████████████████▉                                                                                                                | 295/1000 [2:08:01<4:45:17, 24.28s/it]"
     ]
    },
    {
     "name": "stdout",
     "output_type": "stream",
     "text": [
      "eigenvalues shape torch.Size([5]) eigenvectors shape torch.Size([5, 425])\n",
      "295 /home/phdcs2/Hard_Disk/Datasets/Deep-Spectral-Segmentation/data/object-segmentation/ECSSD/features/dino_vits16/0296.pth\n",
      "dict_keys(['k', 'indices', 'file', 'id', 'model_name', 'patch_size', 'shape'])\n",
      "0296\n",
      "Starting Training\n",
      "epoch: 00, loss: -0.01774\n",
      "epoch: 01, loss: -0.03985\n",
      "epoch: 02, loss: -0.04303\n",
      "epoch: 03, loss: -0.04328\n",
      "epoch: 04, loss: -0.04485\n",
      "epoch: 05, loss: -0.04550\n",
      "epoch: 06, loss: -0.04499\n",
      "epoch: 07, loss: -0.04451\n",
      "epoch: 08, loss: -0.04587\n",
      "epoch: 09, loss: -0.04465\n",
      "torch.Size([425, 64])\n"
     ]
    },
    {
     "name": "stderr",
     "output_type": "stream",
     "text": [
      "\r",
      " 30%|███████████████████████████████████████████████                                                                                                                | 296/1000 [2:08:26<4:49:04, 24.64s/it]"
     ]
    },
    {
     "name": "stdout",
     "output_type": "stream",
     "text": [
      "eigenvalues shape torch.Size([5]) eigenvectors shape torch.Size([5, 425])\n",
      "296 /home/phdcs2/Hard_Disk/Datasets/Deep-Spectral-Segmentation/data/object-segmentation/ECSSD/features/dino_vits16/0297.pth\n",
      "dict_keys(['k', 'indices', 'file', 'id', 'model_name', 'patch_size', 'shape'])\n",
      "0297\n",
      "Starting Training\n",
      "epoch: 00, loss: -0.02278\n",
      "epoch: 01, loss: -0.04658\n",
      "epoch: 02, loss: -0.05005\n",
      "epoch: 03, loss: -0.04968\n",
      "epoch: 04, loss: -0.04992\n",
      "epoch: 05, loss: -0.05141\n",
      "epoch: 06, loss: -0.05000\n",
      "epoch: 07, loss: -0.05161\n",
      "epoch: 08, loss: -0.05137\n",
      "epoch: 09, loss: -0.05040\n",
      "torch.Size([475, 64])\n"
     ]
    },
    {
     "name": "stderr",
     "output_type": "stream",
     "text": [
      "\r",
      " 30%|███████████████████████████████████████████████▏                                                                                                               | 297/1000 [2:08:55<5:01:22, 25.72s/it]"
     ]
    },
    {
     "name": "stdout",
     "output_type": "stream",
     "text": [
      "eigenvalues shape torch.Size([5]) eigenvectors shape torch.Size([5, 475])\n",
      "297 /home/phdcs2/Hard_Disk/Datasets/Deep-Spectral-Segmentation/data/object-segmentation/ECSSD/features/dino_vits16/0298.pth\n",
      "dict_keys(['k', 'indices', 'file', 'id', 'model_name', 'patch_size', 'shape'])\n",
      "0298\n",
      "Starting Training\n",
      "epoch: 00, loss: -0.06415\n",
      "epoch: 01, loss: -0.08468\n",
      "epoch: 02, loss: -0.08537\n",
      "epoch: 03, loss: -0.08548\n",
      "epoch: 04, loss: -0.08569\n",
      "epoch: 05, loss: -0.08605\n",
      "epoch: 06, loss: -0.08600\n",
      "epoch: 07, loss: -0.08624\n",
      "epoch: 08, loss: -0.08630\n",
      "epoch: 09, loss: -0.08646\n",
      "torch.Size([400, 64])\n"
     ]
    },
    {
     "name": "stderr",
     "output_type": "stream",
     "text": [
      "\r",
      " 30%|███████████████████████████████████████████████▍                                                                                                               | 298/1000 [2:09:16<4:46:59, 24.53s/it]"
     ]
    },
    {
     "name": "stdout",
     "output_type": "stream",
     "text": [
      "eigenvalues shape torch.Size([5]) eigenvectors shape torch.Size([5, 400])\n",
      "298 /home/phdcs2/Hard_Disk/Datasets/Deep-Spectral-Segmentation/data/object-segmentation/ECSSD/features/dino_vits16/0299.pth\n",
      "dict_keys(['k', 'indices', 'file', 'id', 'model_name', 'patch_size', 'shape'])\n",
      "0299\n",
      "Starting Training\n",
      "epoch: 00, loss: -0.02176\n",
      "epoch: 01, loss: -0.04312\n",
      "epoch: 02, loss: -0.04741\n",
      "epoch: 03, loss: -0.04932\n",
      "epoch: 04, loss: -0.04703\n",
      "epoch: 05, loss: -0.05130\n",
      "epoch: 06, loss: -0.05008\n",
      "epoch: 07, loss: -0.04919\n",
      "epoch: 08, loss: -0.05067\n",
      "epoch: 09, loss: -0.05170\n",
      "torch.Size([450, 64])\n"
     ]
    },
    {
     "name": "stderr",
     "output_type": "stream",
     "text": [
      "\r",
      " 30%|███████████████████████████████████████████████▌                                                                                                               | 299/1000 [2:09:42<4:51:17, 24.93s/it]"
     ]
    },
    {
     "name": "stdout",
     "output_type": "stream",
     "text": [
      "eigenvalues shape torch.Size([5]) eigenvectors shape torch.Size([5, 450])\n",
      "299 /home/phdcs2/Hard_Disk/Datasets/Deep-Spectral-Segmentation/data/object-segmentation/ECSSD/features/dino_vits16/0300.pth\n",
      "dict_keys(['k', 'indices', 'file', 'id', 'model_name', 'patch_size', 'shape'])\n",
      "0300\n",
      "Starting Training\n",
      "epoch: 00, loss: -0.00987\n",
      "epoch: 01, loss: -0.03040\n",
      "epoch: 02, loss: -0.03261\n",
      "epoch: 03, loss: -0.03727\n",
      "epoch: 04, loss: -0.03631\n",
      "epoch: 05, loss: -0.03662\n",
      "epoch: 06, loss: -0.03883\n",
      "epoch: 07, loss: -0.04342\n",
      "epoch: 08, loss: -0.03968\n",
      "epoch: 09, loss: -0.03929\n",
      "torch.Size([475, 64])\n"
     ]
    },
    {
     "name": "stderr",
     "output_type": "stream",
     "text": [
      "\r",
      " 30%|███████████████████████████████████████████████▋                                                                                                               | 300/1000 [2:10:08<4:53:52, 25.19s/it]"
     ]
    },
    {
     "name": "stdout",
     "output_type": "stream",
     "text": [
      "eigenvalues shape torch.Size([5]) eigenvectors shape torch.Size([5, 475])\n",
      "300 /home/phdcs2/Hard_Disk/Datasets/Deep-Spectral-Segmentation/data/object-segmentation/ECSSD/features/dino_vits16/0301.pth\n",
      "dict_keys(['k', 'indices', 'file', 'id', 'model_name', 'patch_size', 'shape'])\n",
      "0301\n",
      "Starting Training\n",
      "epoch: 00, loss: -0.01787\n",
      "epoch: 01, loss: -0.04329\n",
      "epoch: 02, loss: -0.04610\n",
      "epoch: 03, loss: -0.04733\n",
      "epoch: 04, loss: -0.05103\n",
      "epoch: 05, loss: -0.05154\n",
      "epoch: 06, loss: -0.05430\n",
      "epoch: 07, loss: -0.05447\n",
      "epoch: 08, loss: -0.05512\n",
      "epoch: 09, loss: -0.05442\n",
      "torch.Size([400, 64])\n"
     ]
    },
    {
     "name": "stderr",
     "output_type": "stream",
     "text": [
      "\r",
      " 30%|███████████████████████████████████████████████▊                                                                                                               | 301/1000 [2:10:29<4:37:44, 23.84s/it]"
     ]
    },
    {
     "name": "stdout",
     "output_type": "stream",
     "text": [
      "eigenvalues shape torch.Size([5]) eigenvectors shape torch.Size([5, 400])\n",
      "301 /home/phdcs2/Hard_Disk/Datasets/Deep-Spectral-Segmentation/data/object-segmentation/ECSSD/features/dino_vits16/0302.pth\n",
      "dict_keys(['k', 'indices', 'file', 'id', 'model_name', 'patch_size', 'shape'])\n",
      "0302\n",
      "Starting Training\n",
      "epoch: 00, loss: -0.02926\n",
      "epoch: 01, loss: -0.04628\n",
      "epoch: 02, loss: -0.04833\n",
      "epoch: 03, loss: -0.04859\n",
      "epoch: 04, loss: -0.04900\n",
      "epoch: 05, loss: -0.04933\n",
      "epoch: 06, loss: -0.04945\n",
      "epoch: 07, loss: -0.04953\n",
      "epoch: 08, loss: -0.04967\n",
      "epoch: 09, loss: -0.04990\n",
      "torch.Size([450, 64])\n"
     ]
    },
    {
     "name": "stderr",
     "output_type": "stream",
     "text": [
      "\r",
      " 30%|████████████████████████████████████████████████                                                                                                               | 302/1000 [2:10:54<4:42:40, 24.30s/it]"
     ]
    },
    {
     "name": "stdout",
     "output_type": "stream",
     "text": [
      "eigenvalues shape torch.Size([5]) eigenvectors shape torch.Size([5, 450])\n",
      "302 /home/phdcs2/Hard_Disk/Datasets/Deep-Spectral-Segmentation/data/object-segmentation/ECSSD/features/dino_vits16/0303.pth\n",
      "dict_keys(['k', 'indices', 'file', 'id', 'model_name', 'patch_size', 'shape'])\n",
      "0303\n",
      "Starting Training\n",
      "epoch: 00, loss: -0.01811\n",
      "epoch: 01, loss: -0.04618\n",
      "epoch: 02, loss: -0.04989\n",
      "epoch: 03, loss: -0.05040\n",
      "epoch: 04, loss: -0.05424\n",
      "epoch: 05, loss: -0.05516\n",
      "epoch: 06, loss: -0.05510\n",
      "epoch: 07, loss: -0.05434\n",
      "epoch: 08, loss: -0.05854\n",
      "epoch: 09, loss: -0.05478\n",
      "torch.Size([450, 64])\n"
     ]
    },
    {
     "name": "stderr",
     "output_type": "stream",
     "text": [
      "\r",
      " 30%|████████████████████████████████████████████████▏                                                                                                              | 303/1000 [2:11:21<4:51:23, 25.08s/it]"
     ]
    },
    {
     "name": "stdout",
     "output_type": "stream",
     "text": [
      "eigenvalues shape torch.Size([5]) eigenvectors shape torch.Size([5, 450])\n",
      "303 /home/phdcs2/Hard_Disk/Datasets/Deep-Spectral-Segmentation/data/object-segmentation/ECSSD/features/dino_vits16/0304.pth\n",
      "dict_keys(['k', 'indices', 'file', 'id', 'model_name', 'patch_size', 'shape'])\n",
      "0304\n",
      "Starting Training\n",
      "epoch: 00, loss: -0.00806\n",
      "epoch: 01, loss: -0.02169\n",
      "epoch: 02, loss: -0.02605\n",
      "epoch: 03, loss: -0.02735\n",
      "epoch: 04, loss: -0.02785\n",
      "epoch: 05, loss: -0.02818\n",
      "epoch: 06, loss: -0.02850\n",
      "epoch: 07, loss: -0.02864\n",
      "epoch: 08, loss: -0.02884\n",
      "epoch: 09, loss: -0.02893\n",
      "torch.Size([400, 64])\n"
     ]
    },
    {
     "name": "stderr",
     "output_type": "stream",
     "text": [
      "\r",
      " 30%|████████████████████████████████████████████████▎                                                                                                              | 304/1000 [2:11:43<4:41:29, 24.27s/it]"
     ]
    },
    {
     "name": "stdout",
     "output_type": "stream",
     "text": [
      "eigenvalues shape torch.Size([5]) eigenvectors shape torch.Size([5, 400])\n",
      "304 /home/phdcs2/Hard_Disk/Datasets/Deep-Spectral-Segmentation/data/object-segmentation/ECSSD/features/dino_vits16/0305.pth\n",
      "dict_keys(['k', 'indices', 'file', 'id', 'model_name', 'patch_size', 'shape'])\n",
      "0305\n",
      "Starting Training\n",
      "epoch: 00, loss: -0.01895\n",
      "epoch: 01, loss: -0.04921\n",
      "epoch: 02, loss: -0.05581\n",
      "epoch: 03, loss: -0.05824\n",
      "epoch: 04, loss: -0.05990\n",
      "epoch: 05, loss: -0.06051\n",
      "epoch: 06, loss: -0.06030\n",
      "epoch: 07, loss: -0.06146\n",
      "epoch: 08, loss: -0.06214\n",
      "epoch: 09, loss: -0.06064\n",
      "torch.Size([400, 64])\n"
     ]
    },
    {
     "name": "stderr",
     "output_type": "stream",
     "text": [
      "\r",
      " 30%|████████████████████████████████████████████████▍                                                                                                              | 305/1000 [2:12:04<4:29:04, 23.23s/it]"
     ]
    },
    {
     "name": "stdout",
     "output_type": "stream",
     "text": [
      "eigenvalues shape torch.Size([5]) eigenvectors shape torch.Size([5, 400])\n",
      "305 /home/phdcs2/Hard_Disk/Datasets/Deep-Spectral-Segmentation/data/object-segmentation/ECSSD/features/dino_vits16/0306.pth\n",
      "dict_keys(['k', 'indices', 'file', 'id', 'model_name', 'patch_size', 'shape'])\n",
      "0306\n",
      "Starting Training\n",
      "epoch: 00, loss: -0.03725\n",
      "epoch: 01, loss: -0.07122\n",
      "epoch: 02, loss: -0.07592\n",
      "epoch: 03, loss: -0.07844\n",
      "epoch: 04, loss: -0.08069\n",
      "epoch: 05, loss: -0.08222\n",
      "epoch: 06, loss: -0.07950\n",
      "epoch: 07, loss: -0.08194\n",
      "epoch: 08, loss: -0.08096\n",
      "epoch: 09, loss: -0.07904\n",
      "torch.Size([400, 64])\n"
     ]
    },
    {
     "name": "stderr",
     "output_type": "stream",
     "text": [
      "\r",
      " 31%|████████████████████████████████████████████████▋                                                                                                              | 306/1000 [2:12:30<4:39:04, 24.13s/it]"
     ]
    },
    {
     "name": "stdout",
     "output_type": "stream",
     "text": [
      "eigenvalues shape torch.Size([5]) eigenvectors shape torch.Size([5, 400])\n",
      "306 /home/phdcs2/Hard_Disk/Datasets/Deep-Spectral-Segmentation/data/object-segmentation/ECSSD/features/dino_vits16/0307.pth\n",
      "dict_keys(['k', 'indices', 'file', 'id', 'model_name', 'patch_size', 'shape'])\n",
      "0307\n",
      "Starting Training\n",
      "epoch: 00, loss: -0.01294\n",
      "epoch: 01, loss: -0.03891\n",
      "epoch: 02, loss: -0.04587\n",
      "epoch: 03, loss: -0.04806\n",
      "epoch: 04, loss: -0.05059\n",
      "epoch: 05, loss: -0.04771\n",
      "epoch: 06, loss: -0.05232\n",
      "epoch: 07, loss: -0.05382\n",
      "epoch: 08, loss: -0.05176\n",
      "epoch: 09, loss: -0.05038\n",
      "torch.Size([450, 64])\n"
     ]
    },
    {
     "name": "stderr",
     "output_type": "stream",
     "text": [
      "\r",
      " 31%|████████████████████████████████████████████████▊                                                                                                              | 307/1000 [2:12:58<4:49:48, 25.09s/it]"
     ]
    },
    {
     "name": "stdout",
     "output_type": "stream",
     "text": [
      "eigenvalues shape torch.Size([5]) eigenvectors shape torch.Size([5, 450])\n",
      "307 /home/phdcs2/Hard_Disk/Datasets/Deep-Spectral-Segmentation/data/object-segmentation/ECSSD/features/dino_vits16/0308.pth\n",
      "dict_keys(['k', 'indices', 'file', 'id', 'model_name', 'patch_size', 'shape'])\n",
      "0308\n",
      "Starting Training\n",
      "epoch: 00, loss: -0.03417\n",
      "epoch: 01, loss: -0.06132\n",
      "epoch: 02, loss: -0.06508\n",
      "epoch: 03, loss: -0.06662\n",
      "epoch: 04, loss: -0.06475\n",
      "epoch: 05, loss: -0.06540\n",
      "epoch: 06, loss: -0.06647\n",
      "epoch: 07, loss: -0.06597\n",
      "epoch: 08, loss: -0.06678\n",
      "epoch: 09, loss: -0.06770\n",
      "torch.Size([450, 64])\n"
     ]
    },
    {
     "name": "stderr",
     "output_type": "stream",
     "text": [
      "\r",
      " 31%|████████████████████████████████████████████████▉                                                                                                              | 308/1000 [2:13:30<5:15:47, 27.38s/it]"
     ]
    },
    {
     "name": "stdout",
     "output_type": "stream",
     "text": [
      "eigenvalues shape torch.Size([5]) eigenvectors shape torch.Size([5, 450])\n",
      "308 /home/phdcs2/Hard_Disk/Datasets/Deep-Spectral-Segmentation/data/object-segmentation/ECSSD/features/dino_vits16/0309.pth\n",
      "dict_keys(['k', 'indices', 'file', 'id', 'model_name', 'patch_size', 'shape'])\n",
      "0309\n",
      "Starting Training\n",
      "epoch: 00, loss: -0.06088\n",
      "epoch: 01, loss: -0.08578\n",
      "epoch: 02, loss: -0.09042\n",
      "epoch: 03, loss: -0.09266\n",
      "epoch: 04, loss: -0.09299\n",
      "epoch: 05, loss: -0.09630\n",
      "epoch: 06, loss: -0.09484\n",
      "epoch: 07, loss: -0.09555\n",
      "epoch: 08, loss: -0.09646\n",
      "epoch: 09, loss: -0.09468\n",
      "torch.Size([400, 64])\n"
     ]
    },
    {
     "name": "stderr",
     "output_type": "stream",
     "text": [
      "\r",
      " 31%|█████████████████████████████████████████████████▏                                                                                                             | 309/1000 [2:13:53<4:58:32, 25.92s/it]"
     ]
    },
    {
     "name": "stdout",
     "output_type": "stream",
     "text": [
      "eigenvalues shape torch.Size([5]) eigenvectors shape torch.Size([5, 400])\n",
      "309 /home/phdcs2/Hard_Disk/Datasets/Deep-Spectral-Segmentation/data/object-segmentation/ECSSD/features/dino_vits16/0310.pth\n",
      "dict_keys(['k', 'indices', 'file', 'id', 'model_name', 'patch_size', 'shape'])\n",
      "0310\n",
      "Starting Training\n",
      "epoch: 00, loss: -0.00786\n",
      "epoch: 01, loss: -0.02823\n",
      "epoch: 02, loss: -0.03224\n",
      "epoch: 03, loss: -0.03302\n",
      "epoch: 04, loss: -0.03385\n",
      "epoch: 05, loss: -0.03418\n",
      "epoch: 06, loss: -0.03455\n",
      "epoch: 07, loss: -0.03431\n",
      "epoch: 08, loss: -0.03446\n",
      "epoch: 09, loss: -0.03499\n",
      "torch.Size([450, 64])\n"
     ]
    },
    {
     "name": "stderr",
     "output_type": "stream",
     "text": [
      "\r",
      " 31%|█████████████████████████████████████████████████▎                                                                                                             | 310/1000 [2:14:19<4:57:56, 25.91s/it]"
     ]
    },
    {
     "name": "stdout",
     "output_type": "stream",
     "text": [
      "eigenvalues shape torch.Size([5]) eigenvectors shape torch.Size([5, 450])\n",
      "310 /home/phdcs2/Hard_Disk/Datasets/Deep-Spectral-Segmentation/data/object-segmentation/ECSSD/features/dino_vits16/0311.pth\n",
      "dict_keys(['k', 'indices', 'file', 'id', 'model_name', 'patch_size', 'shape'])\n",
      "0311\n",
      "Starting Training\n",
      "epoch: 00, loss: -0.03104\n",
      "epoch: 01, loss: -0.06231\n",
      "epoch: 02, loss: -0.06572\n",
      "epoch: 03, loss: -0.06883\n",
      "epoch: 04, loss: -0.07076\n",
      "epoch: 05, loss: -0.06929\n",
      "epoch: 06, loss: -0.06890\n",
      "epoch: 07, loss: -0.07115\n",
      "epoch: 08, loss: -0.06934\n",
      "epoch: 09, loss: -0.07355\n",
      "torch.Size([400, 64])\n"
     ]
    },
    {
     "name": "stderr",
     "output_type": "stream",
     "text": [
      "\r",
      " 31%|█████████████████████████████████████████████████▍                                                                                                             | 311/1000 [2:14:40<4:41:38, 24.53s/it]"
     ]
    },
    {
     "name": "stdout",
     "output_type": "stream",
     "text": [
      "eigenvalues shape torch.Size([5]) eigenvectors shape torch.Size([5, 400])\n",
      "311 /home/phdcs2/Hard_Disk/Datasets/Deep-Spectral-Segmentation/data/object-segmentation/ECSSD/features/dino_vits16/0312.pth\n",
      "dict_keys(['k', 'indices', 'file', 'id', 'model_name', 'patch_size', 'shape'])\n",
      "0312\n",
      "Starting Training\n",
      "epoch: 00, loss: -0.01728\n",
      "epoch: 01, loss: -0.03467\n",
      "epoch: 02, loss: -0.03792\n",
      "epoch: 03, loss: -0.03882\n",
      "epoch: 04, loss: -0.03933\n",
      "epoch: 05, loss: -0.03969\n",
      "epoch: 06, loss: -0.03991\n",
      "epoch: 07, loss: -0.03991\n",
      "epoch: 08, loss: -0.04012\n",
      "epoch: 09, loss: -0.04033\n",
      "torch.Size([400, 64])\n"
     ]
    },
    {
     "name": "stderr",
     "output_type": "stream",
     "text": [
      "\r",
      " 31%|█████████████████████████████████████████████████▌                                                                                                             | 312/1000 [2:15:04<4:37:26, 24.20s/it]"
     ]
    },
    {
     "name": "stdout",
     "output_type": "stream",
     "text": [
      "eigenvalues shape torch.Size([5]) eigenvectors shape torch.Size([5, 400])\n",
      "312 /home/phdcs2/Hard_Disk/Datasets/Deep-Spectral-Segmentation/data/object-segmentation/ECSSD/features/dino_vits16/0313.pth\n",
      "dict_keys(['k', 'indices', 'file', 'id', 'model_name', 'patch_size', 'shape'])\n",
      "0313\n",
      "Starting Training\n",
      "epoch: 00, loss: -0.00766\n",
      "epoch: 01, loss: -0.02321\n",
      "epoch: 02, loss: -0.02726\n",
      "epoch: 03, loss: -0.02856\n",
      "epoch: 04, loss: -0.02963\n",
      "epoch: 05, loss: -0.02919\n",
      "epoch: 06, loss: -0.03034\n",
      "epoch: 07, loss: -0.03030\n",
      "epoch: 08, loss: -0.03057\n",
      "epoch: 09, loss: -0.03067\n",
      "torch.Size([400, 64])\n"
     ]
    },
    {
     "name": "stderr",
     "output_type": "stream",
     "text": [
      "\r",
      " 31%|█████████████████████████████████████████████████▊                                                                                                             | 313/1000 [2:15:25<4:26:29, 23.27s/it]"
     ]
    },
    {
     "name": "stdout",
     "output_type": "stream",
     "text": [
      "eigenvalues shape torch.Size([5]) eigenvectors shape torch.Size([5, 400])\n",
      "313 /home/phdcs2/Hard_Disk/Datasets/Deep-Spectral-Segmentation/data/object-segmentation/ECSSD/features/dino_vits16/0314.pth\n",
      "dict_keys(['k', 'indices', 'file', 'id', 'model_name', 'patch_size', 'shape'])\n",
      "0314\n",
      "Starting Training\n",
      "epoch: 00, loss: -0.00666\n",
      "epoch: 01, loss: -0.02536\n",
      "epoch: 02, loss: -0.03077\n",
      "epoch: 03, loss: -0.03240\n",
      "epoch: 04, loss: -0.03308\n",
      "epoch: 05, loss: -0.03354\n",
      "epoch: 06, loss: -0.03366\n",
      "epoch: 07, loss: -0.03401\n",
      "epoch: 08, loss: -0.03422\n",
      "epoch: 09, loss: -0.03419\n",
      "torch.Size([400, 64])\n"
     ]
    },
    {
     "name": "stderr",
     "output_type": "stream",
     "text": [
      "\r",
      " 31%|█████████████████████████████████████████████████▉                                                                                                             | 314/1000 [2:15:50<4:33:02, 23.88s/it]"
     ]
    },
    {
     "name": "stdout",
     "output_type": "stream",
     "text": [
      "eigenvalues shape torch.Size([5]) eigenvectors shape torch.Size([5, 400])\n",
      "314 /home/phdcs2/Hard_Disk/Datasets/Deep-Spectral-Segmentation/data/object-segmentation/ECSSD/features/dino_vits16/0315.pth\n",
      "dict_keys(['k', 'indices', 'file', 'id', 'model_name', 'patch_size', 'shape'])\n",
      "0315\n",
      "Starting Training\n",
      "epoch: 00, loss: -0.03533\n",
      "epoch: 01, loss: -0.06155\n",
      "epoch: 02, loss: -0.06230\n",
      "epoch: 03, loss: -0.06280\n",
      "epoch: 04, loss: -0.06296\n",
      "epoch: 05, loss: -0.06343\n",
      "epoch: 06, loss: -0.06336\n",
      "epoch: 07, loss: -0.06360\n",
      "epoch: 08, loss: -0.06365\n",
      "epoch: 09, loss: -0.06372\n",
      "torch.Size([450, 64])\n"
     ]
    },
    {
     "name": "stderr",
     "output_type": "stream",
     "text": [
      "\r",
      " 32%|██████████████████████████████████████████████████                                                                                                             | 315/1000 [2:16:15<4:37:46, 24.33s/it]"
     ]
    },
    {
     "name": "stdout",
     "output_type": "stream",
     "text": [
      "eigenvalues shape torch.Size([5]) eigenvectors shape torch.Size([5, 450])\n",
      "315 /home/phdcs2/Hard_Disk/Datasets/Deep-Spectral-Segmentation/data/object-segmentation/ECSSD/features/dino_vits16/0316.pth\n",
      "dict_keys(['k', 'indices', 'file', 'id', 'model_name', 'patch_size', 'shape'])\n",
      "0316\n",
      "Starting Training\n",
      "epoch: 00, loss: -0.01788\n",
      "epoch: 01, loss: -0.03593\n",
      "epoch: 02, loss: -0.03803\n",
      "epoch: 03, loss: -0.03881\n",
      "epoch: 04, loss: -0.03903\n",
      "epoch: 05, loss: -0.03937\n",
      "epoch: 06, loss: -0.03968\n",
      "epoch: 07, loss: -0.03981\n",
      "epoch: 08, loss: -0.03978\n",
      "epoch: 09, loss: -0.03998\n",
      "torch.Size([450, 64])\n"
     ]
    },
    {
     "name": "stderr",
     "output_type": "stream",
     "text": [
      "\r",
      " 32%|██████████████████████████████████████████████████▏                                                                                                            | 316/1000 [2:16:42<4:45:12, 25.02s/it]"
     ]
    },
    {
     "name": "stdout",
     "output_type": "stream",
     "text": [
      "eigenvalues shape torch.Size([5]) eigenvectors shape torch.Size([5, 450])\n",
      "316 /home/phdcs2/Hard_Disk/Datasets/Deep-Spectral-Segmentation/data/object-segmentation/ECSSD/features/dino_vits16/0317.pth\n",
      "dict_keys(['k', 'indices', 'file', 'id', 'model_name', 'patch_size', 'shape'])\n",
      "0317\n",
      "Starting Training\n",
      "epoch: 00, loss: -0.04059\n",
      "epoch: 01, loss: -0.06038\n",
      "epoch: 02, loss: -0.06144\n",
      "epoch: 03, loss: -0.06168\n",
      "epoch: 04, loss: -0.06233\n",
      "epoch: 05, loss: -0.06241\n",
      "epoch: 06, loss: -0.06247\n",
      "epoch: 07, loss: -0.06278\n",
      "epoch: 08, loss: -0.06274\n",
      "epoch: 09, loss: -0.06284\n",
      "torch.Size([450, 64])\n"
     ]
    },
    {
     "name": "stderr",
     "output_type": "stream",
     "text": [
      "\r",
      " 32%|██████████████████████████████████████████████████▍                                                                                                            | 317/1000 [2:17:07<4:43:27, 24.90s/it]"
     ]
    },
    {
     "name": "stdout",
     "output_type": "stream",
     "text": [
      "eigenvalues shape torch.Size([5]) eigenvectors shape torch.Size([5, 450])\n",
      "317 /home/phdcs2/Hard_Disk/Datasets/Deep-Spectral-Segmentation/data/object-segmentation/ECSSD/features/dino_vits16/0318.pth\n",
      "dict_keys(['k', 'indices', 'file', 'id', 'model_name', 'patch_size', 'shape'])\n",
      "0318\n",
      "Starting Training\n",
      "epoch: 00, loss: -0.06240\n",
      "epoch: 01, loss: -0.08254\n",
      "epoch: 02, loss: -0.08452\n",
      "epoch: 03, loss: -0.08556\n",
      "epoch: 04, loss: -0.08543\n",
      "epoch: 05, loss: -0.08591\n",
      "epoch: 06, loss: -0.08613\n",
      "epoch: 07, loss: -0.08649\n",
      "epoch: 08, loss: -0.08677\n",
      "epoch: 09, loss: -0.08782\n",
      "torch.Size([450, 64])\n"
     ]
    },
    {
     "name": "stderr",
     "output_type": "stream",
     "text": [
      "\r",
      " 32%|██████████████████████████████████████████████████▌                                                                                                            | 318/1000 [2:17:35<4:53:22, 25.81s/it]"
     ]
    },
    {
     "name": "stdout",
     "output_type": "stream",
     "text": [
      "eigenvalues shape torch.Size([5]) eigenvectors shape torch.Size([5, 450])\n",
      "318 /home/phdcs2/Hard_Disk/Datasets/Deep-Spectral-Segmentation/data/object-segmentation/ECSSD/features/dino_vits16/0319.pth\n",
      "dict_keys(['k', 'indices', 'file', 'id', 'model_name', 'patch_size', 'shape'])\n",
      "0319\n",
      "Starting Training\n",
      "epoch: 00, loss: -0.00991\n",
      "epoch: 01, loss: -0.03239\n",
      "epoch: 02, loss: -0.03664\n",
      "epoch: 03, loss: -0.03764\n",
      "epoch: 04, loss: -0.03800\n",
      "epoch: 05, loss: -0.03836\n",
      "epoch: 06, loss: -0.03853\n",
      "epoch: 07, loss: -0.03858\n",
      "epoch: 08, loss: -0.03888\n",
      "epoch: 09, loss: -0.03883\n",
      "torch.Size([450, 64])\n"
     ]
    },
    {
     "name": "stderr",
     "output_type": "stream",
     "text": [
      "\r",
      " 32%|██████████████████████████████████████████████████▋                                                                                                            | 319/1000 [2:18:02<5:00:12, 26.45s/it]"
     ]
    },
    {
     "name": "stdout",
     "output_type": "stream",
     "text": [
      "eigenvalues shape torch.Size([5]) eigenvectors shape torch.Size([5, 450])\n",
      "319 /home/phdcs2/Hard_Disk/Datasets/Deep-Spectral-Segmentation/data/object-segmentation/ECSSD/features/dino_vits16/0320.pth\n",
      "dict_keys(['k', 'indices', 'file', 'id', 'model_name', 'patch_size', 'shape'])\n",
      "0320\n",
      "Starting Training\n",
      "epoch: 00, loss: -0.04802\n",
      "epoch: 01, loss: -0.07155\n",
      "epoch: 02, loss: -0.07230\n",
      "epoch: 03, loss: -0.07274\n",
      "epoch: 04, loss: -0.07292\n",
      "epoch: 05, loss: -0.07324\n",
      "epoch: 06, loss: -0.07342\n",
      "epoch: 07, loss: -0.07360\n",
      "epoch: 08, loss: -0.07371\n",
      "epoch: 09, loss: -0.07368\n",
      "torch.Size([450, 64])\n"
     ]
    },
    {
     "name": "stderr",
     "output_type": "stream",
     "text": [
      "\r",
      " 32%|██████████████████████████████████████████████████▉                                                                                                            | 320/1000 [2:18:28<4:56:24, 26.15s/it]"
     ]
    },
    {
     "name": "stdout",
     "output_type": "stream",
     "text": [
      "eigenvalues shape torch.Size([5]) eigenvectors shape torch.Size([5, 450])\n",
      "320 /home/phdcs2/Hard_Disk/Datasets/Deep-Spectral-Segmentation/data/object-segmentation/ECSSD/features/dino_vits16/0321.pth\n",
      "dict_keys(['k', 'indices', 'file', 'id', 'model_name', 'patch_size', 'shape'])\n",
      "0321\n",
      "Starting Training\n",
      "epoch: 00, loss: -0.04020\n",
      "epoch: 01, loss: -0.06636\n",
      "epoch: 02, loss: -0.07208\n",
      "epoch: 03, loss: -0.07279\n",
      "epoch: 04, loss: -0.07547\n",
      "epoch: 05, loss: -0.07380\n",
      "epoch: 06, loss: -0.07330\n",
      "epoch: 07, loss: -0.07372\n",
      "epoch: 08, loss: -0.07574\n",
      "epoch: 09, loss: -0.07510\n",
      "torch.Size([500, 64])\n"
     ]
    },
    {
     "name": "stderr",
     "output_type": "stream",
     "text": [
      "\r",
      " 32%|███████████████████████████████████████████████████                                                                                                            | 321/1000 [2:18:51<4:46:57, 25.36s/it]"
     ]
    },
    {
     "name": "stdout",
     "output_type": "stream",
     "text": [
      "eigenvalues shape torch.Size([5]) eigenvectors shape torch.Size([5, 500])\n",
      "321 /home/phdcs2/Hard_Disk/Datasets/Deep-Spectral-Segmentation/data/object-segmentation/ECSSD/features/dino_vits16/0322.pth\n",
      "dict_keys(['k', 'indices', 'file', 'id', 'model_name', 'patch_size', 'shape'])\n",
      "0322\n",
      "Starting Training\n",
      "epoch: 00, loss: -0.04284\n",
      "epoch: 01, loss: -0.06389\n",
      "epoch: 02, loss: -0.06935\n",
      "epoch: 03, loss: -0.06758\n",
      "epoch: 04, loss: -0.06804\n",
      "epoch: 05, loss: -0.07072\n",
      "epoch: 06, loss: -0.06930\n",
      "epoch: 07, loss: -0.06970\n",
      "epoch: 08, loss: -0.07004\n",
      "epoch: 09, loss: -0.07169\n",
      "torch.Size([450, 64])\n"
     ]
    },
    {
     "name": "stderr",
     "output_type": "stream",
     "text": [
      "\r",
      " 32%|███████████████████████████████████████████████████▏                                                                                                           | 322/1000 [2:19:14<4:38:28, 24.64s/it]"
     ]
    },
    {
     "name": "stdout",
     "output_type": "stream",
     "text": [
      "eigenvalues shape torch.Size([5]) eigenvectors shape torch.Size([5, 450])\n",
      "322 /home/phdcs2/Hard_Disk/Datasets/Deep-Spectral-Segmentation/data/object-segmentation/ECSSD/features/dino_vits16/0323.pth\n",
      "dict_keys(['k', 'indices', 'file', 'id', 'model_name', 'patch_size', 'shape'])\n",
      "0323\n",
      "Starting Training\n",
      "epoch: 00, loss: -0.04554\n",
      "epoch: 01, loss: -0.06437\n",
      "epoch: 02, loss: -0.06567\n",
      "epoch: 03, loss: -0.06595\n",
      "epoch: 04, loss: -0.06621\n",
      "epoch: 05, loss: -0.06651\n",
      "epoch: 06, loss: -0.06653\n",
      "epoch: 07, loss: -0.06681\n",
      "epoch: 08, loss: -0.06691\n",
      "epoch: 09, loss: -0.06716\n",
      "torch.Size([450, 64])\n"
     ]
    },
    {
     "name": "stderr",
     "output_type": "stream",
     "text": [
      "\r",
      " 32%|███████████████████████████████████████████████████▎                                                                                                           | 323/1000 [2:19:38<4:32:54, 24.19s/it]"
     ]
    },
    {
     "name": "stdout",
     "output_type": "stream",
     "text": [
      "eigenvalues shape torch.Size([5]) eigenvectors shape torch.Size([5, 450])\n",
      "323 /home/phdcs2/Hard_Disk/Datasets/Deep-Spectral-Segmentation/data/object-segmentation/ECSSD/features/dino_vits16/0324.pth\n",
      "dict_keys(['k', 'indices', 'file', 'id', 'model_name', 'patch_size', 'shape'])\n",
      "0324\n",
      "Starting Training\n",
      "epoch: 00, loss: -0.04275\n",
      "epoch: 01, loss: -0.06872\n",
      "epoch: 02, loss: -0.07244\n",
      "epoch: 03, loss: -0.07417\n",
      "epoch: 04, loss: -0.07478\n",
      "epoch: 05, loss: -0.06806\n",
      "epoch: 06, loss: -0.07535\n",
      "epoch: 07, loss: -0.07463\n",
      "epoch: 08, loss: -0.07496\n",
      "epoch: 09, loss: -0.07365\n",
      "torch.Size([450, 64])\n"
     ]
    },
    {
     "name": "stderr",
     "output_type": "stream",
     "text": [
      "\r",
      " 32%|███████████████████████████████████████████████████▌                                                                                                           | 324/1000 [2:20:01<4:30:23, 24.00s/it]"
     ]
    },
    {
     "name": "stdout",
     "output_type": "stream",
     "text": [
      "eigenvalues shape torch.Size([5]) eigenvectors shape torch.Size([5, 450])\n",
      "324 /home/phdcs2/Hard_Disk/Datasets/Deep-Spectral-Segmentation/data/object-segmentation/ECSSD/features/dino_vits16/0325.pth\n",
      "dict_keys(['k', 'indices', 'file', 'id', 'model_name', 'patch_size', 'shape'])\n",
      "0325\n",
      "Starting Training\n",
      "epoch: 00, loss: -0.01001\n",
      "epoch: 01, loss: -0.02988\n",
      "epoch: 02, loss: -0.03351\n",
      "epoch: 03, loss: -0.03480\n",
      "epoch: 04, loss: -0.03515\n",
      "epoch: 05, loss: -0.03551\n",
      "epoch: 06, loss: -0.03570\n",
      "epoch: 07, loss: -0.03594\n",
      "epoch: 08, loss: -0.03594\n",
      "epoch: 09, loss: -0.03607\n",
      "torch.Size([450, 64])\n"
     ]
    },
    {
     "name": "stderr",
     "output_type": "stream",
     "text": [
      "\r",
      " 32%|███████████████████████████████████████████████████▋                                                                                                           | 325/1000 [2:20:25<4:30:47, 24.07s/it]"
     ]
    },
    {
     "name": "stdout",
     "output_type": "stream",
     "text": [
      "eigenvalues shape torch.Size([5]) eigenvectors shape torch.Size([5, 450])\n",
      "325 /home/phdcs2/Hard_Disk/Datasets/Deep-Spectral-Segmentation/data/object-segmentation/ECSSD/features/dino_vits16/0326.pth\n",
      "dict_keys(['k', 'indices', 'file', 'id', 'model_name', 'patch_size', 'shape'])\n",
      "0326\n",
      "Starting Training\n",
      "epoch: 00, loss: -0.01182\n",
      "epoch: 01, loss: -0.03830\n",
      "epoch: 02, loss: -0.04198\n",
      "epoch: 03, loss: -0.04555\n",
      "epoch: 04, loss: -0.04681\n",
      "epoch: 05, loss: -0.04611\n",
      "epoch: 06, loss: -0.04698\n",
      "epoch: 07, loss: -0.04560\n",
      "epoch: 08, loss: -0.04657\n",
      "epoch: 09, loss: -0.04580\n",
      "torch.Size([425, 64])\n"
     ]
    },
    {
     "name": "stderr",
     "output_type": "stream",
     "text": [
      "\r",
      " 33%|███████████████████████████████████████████████████▊                                                                                                           | 326/1000 [2:20:48<4:24:36, 23.56s/it]"
     ]
    },
    {
     "name": "stdout",
     "output_type": "stream",
     "text": [
      "eigenvalues shape torch.Size([5]) eigenvectors shape torch.Size([5, 425])\n",
      "326 /home/phdcs2/Hard_Disk/Datasets/Deep-Spectral-Segmentation/data/object-segmentation/ECSSD/features/dino_vits16/0327.pth\n",
      "dict_keys(['k', 'indices', 'file', 'id', 'model_name', 'patch_size', 'shape'])\n",
      "0327\n",
      "Starting Training\n",
      "epoch: 00, loss: -0.00716\n",
      "epoch: 01, loss: -0.02793\n",
      "epoch: 02, loss: -0.02919\n",
      "epoch: 03, loss: -0.03306\n",
      "epoch: 04, loss: -0.03336\n",
      "epoch: 05, loss: -0.03343\n",
      "epoch: 06, loss: -0.03525\n",
      "epoch: 07, loss: -0.03279\n",
      "epoch: 08, loss: -0.03556\n",
      "epoch: 09, loss: -0.03672\n",
      "torch.Size([450, 64])\n"
     ]
    },
    {
     "name": "stderr",
     "output_type": "stream",
     "text": [
      "\r",
      " 33%|███████████████████████████████████████████████████▉                                                                                                           | 327/1000 [2:21:12<4:26:30, 23.76s/it]"
     ]
    },
    {
     "name": "stdout",
     "output_type": "stream",
     "text": [
      "eigenvalues shape torch.Size([5]) eigenvectors shape torch.Size([5, 450])\n",
      "327 /home/phdcs2/Hard_Disk/Datasets/Deep-Spectral-Segmentation/data/object-segmentation/ECSSD/features/dino_vits16/0328.pth\n",
      "dict_keys(['k', 'indices', 'file', 'id', 'model_name', 'patch_size', 'shape'])\n",
      "0328\n",
      "Starting Training\n",
      "epoch: 00, loss: -0.05268\n",
      "epoch: 01, loss: -0.07869\n",
      "epoch: 02, loss: -0.08412\n",
      "epoch: 03, loss: -0.08909\n",
      "epoch: 04, loss: -0.08624\n",
      "epoch: 05, loss: -0.08630\n",
      "epoch: 06, loss: -0.08709\n",
      "epoch: 07, loss: -0.08874\n",
      "epoch: 08, loss: -0.08857\n",
      "epoch: 09, loss: -0.08968\n",
      "torch.Size([475, 64])\n"
     ]
    },
    {
     "name": "stderr",
     "output_type": "stream",
     "text": [
      "\r",
      " 33%|████████████████████████████████████████████████████▏                                                                                                          | 328/1000 [2:21:36<4:26:29, 23.79s/it]"
     ]
    },
    {
     "name": "stdout",
     "output_type": "stream",
     "text": [
      "eigenvalues shape torch.Size([5]) eigenvectors shape torch.Size([5, 475])\n",
      "328 /home/phdcs2/Hard_Disk/Datasets/Deep-Spectral-Segmentation/data/object-segmentation/ECSSD/features/dino_vits16/0329.pth\n",
      "dict_keys(['k', 'indices', 'file', 'id', 'model_name', 'patch_size', 'shape'])\n",
      "0329\n",
      "Starting Training\n",
      "epoch: 00, loss: -0.08514\n",
      "epoch: 01, loss: -0.12709\n",
      "epoch: 02, loss: -0.13255\n",
      "epoch: 03, loss: -0.13409\n",
      "epoch: 04, loss: -0.13521\n",
      "epoch: 05, loss: -0.13700\n",
      "epoch: 06, loss: -0.13763\n",
      "epoch: 07, loss: -0.13717\n",
      "epoch: 08, loss: -0.13924\n",
      "epoch: 09, loss: -0.13947\n",
      "torch.Size([500, 64])\n"
     ]
    },
    {
     "name": "stderr",
     "output_type": "stream",
     "text": [
      "\r",
      " 33%|████████████████████████████████████████████████████▎                                                                                                          | 329/1000 [2:22:01<4:30:29, 24.19s/it]"
     ]
    },
    {
     "name": "stdout",
     "output_type": "stream",
     "text": [
      "eigenvalues shape torch.Size([5]) eigenvectors shape torch.Size([5, 500])\n",
      "329 /home/phdcs2/Hard_Disk/Datasets/Deep-Spectral-Segmentation/data/object-segmentation/ECSSD/features/dino_vits16/0330.pth\n",
      "dict_keys(['k', 'indices', 'file', 'id', 'model_name', 'patch_size', 'shape'])\n",
      "0330\n",
      "Starting Training\n",
      "epoch: 00, loss: -0.02401\n",
      "epoch: 01, loss: -0.04223\n",
      "epoch: 02, loss: -0.04818\n",
      "epoch: 03, loss: -0.04781\n",
      "epoch: 04, loss: -0.04971\n",
      "epoch: 05, loss: -0.04877\n",
      "epoch: 06, loss: -0.04986\n",
      "epoch: 07, loss: -0.05118\n",
      "epoch: 08, loss: -0.05007\n",
      "epoch: 09, loss: -0.05209\n",
      "torch.Size([450, 64])\n"
     ]
    },
    {
     "name": "stderr",
     "output_type": "stream",
     "text": [
      "\r",
      " 33%|████████████████████████████████████████████████████▍                                                                                                          | 330/1000 [2:22:24<4:28:09, 24.01s/it]"
     ]
    },
    {
     "name": "stdout",
     "output_type": "stream",
     "text": [
      "eigenvalues shape torch.Size([5]) eigenvectors shape torch.Size([5, 450])\n",
      "330 /home/phdcs2/Hard_Disk/Datasets/Deep-Spectral-Segmentation/data/object-segmentation/ECSSD/features/dino_vits16/0331.pth\n",
      "dict_keys(['k', 'indices', 'file', 'id', 'model_name', 'patch_size', 'shape'])\n",
      "0331\n",
      "Starting Training\n",
      "epoch: 00, loss: -0.08686\n",
      "epoch: 01, loss: -0.10703\n",
      "epoch: 02, loss: -0.10696\n",
      "epoch: 03, loss: -0.10915\n",
      "epoch: 04, loss: -0.10871\n",
      "epoch: 05, loss: -0.10847\n",
      "epoch: 06, loss: -0.10784\n",
      "epoch: 07, loss: -0.10887\n",
      "epoch: 08, loss: -0.10996\n",
      "epoch: 09, loss: -0.11210\n",
      "torch.Size([450, 64])\n"
     ]
    },
    {
     "name": "stderr",
     "output_type": "stream",
     "text": [
      "\r",
      " 33%|████████████████████████████████████████████████████▋                                                                                                          | 331/1000 [2:22:53<4:44:06, 25.48s/it]"
     ]
    },
    {
     "name": "stdout",
     "output_type": "stream",
     "text": [
      "eigenvalues shape torch.Size([5]) eigenvectors shape torch.Size([5, 450])\n",
      "331 /home/phdcs2/Hard_Disk/Datasets/Deep-Spectral-Segmentation/data/object-segmentation/ECSSD/features/dino_vits16/0332.pth\n",
      "dict_keys(['k', 'indices', 'file', 'id', 'model_name', 'patch_size', 'shape'])\n",
      "0332\n",
      "Starting Training\n",
      "epoch: 00, loss: -0.03994\n",
      "epoch: 01, loss: -0.05845\n",
      "epoch: 02, loss: -0.05911\n",
      "epoch: 03, loss: -0.05969\n",
      "epoch: 04, loss: -0.06087\n",
      "epoch: 05, loss: -0.06076\n",
      "epoch: 06, loss: -0.06032\n",
      "epoch: 07, loss: -0.06044\n",
      "epoch: 08, loss: -0.06058\n",
      "epoch: 09, loss: -0.06082\n",
      "torch.Size([400, 64])\n"
     ]
    },
    {
     "name": "stderr",
     "output_type": "stream",
     "text": [
      "\r",
      " 33%|████████████████████████████████████████████████████▊                                                                                                          | 332/1000 [2:23:14<4:28:18, 24.10s/it]"
     ]
    },
    {
     "name": "stdout",
     "output_type": "stream",
     "text": [
      "eigenvalues shape torch.Size([5]) eigenvectors shape torch.Size([5, 400])\n",
      "332 /home/phdcs2/Hard_Disk/Datasets/Deep-Spectral-Segmentation/data/object-segmentation/ECSSD/features/dino_vits16/0333.pth\n",
      "dict_keys(['k', 'indices', 'file', 'id', 'model_name', 'patch_size', 'shape'])\n",
      "0333\n",
      "Starting Training\n",
      "epoch: 00, loss: -0.03691\n",
      "epoch: 01, loss: -0.06183\n",
      "epoch: 02, loss: -0.06287\n",
      "epoch: 03, loss: -0.06353\n",
      "epoch: 04, loss: -0.06386\n",
      "epoch: 05, loss: -0.06404\n",
      "epoch: 06, loss: -0.06436\n",
      "epoch: 07, loss: -0.06439\n",
      "epoch: 08, loss: -0.06460\n",
      "epoch: 09, loss: -0.06455\n",
      "torch.Size([400, 64])\n"
     ]
    },
    {
     "name": "stderr",
     "output_type": "stream",
     "text": [
      "\r",
      " 33%|████████████████████████████████████████████████████▉                                                                                                          | 333/1000 [2:23:38<4:27:42, 24.08s/it]"
     ]
    },
    {
     "name": "stdout",
     "output_type": "stream",
     "text": [
      "eigenvalues shape torch.Size([5]) eigenvectors shape torch.Size([5, 400])\n",
      "333 /home/phdcs2/Hard_Disk/Datasets/Deep-Spectral-Segmentation/data/object-segmentation/ECSSD/features/dino_vits16/0334.pth\n",
      "dict_keys(['k', 'indices', 'file', 'id', 'model_name', 'patch_size', 'shape'])\n",
      "0334\n",
      "Starting Training\n",
      "epoch: 00, loss: -0.03474\n",
      "epoch: 01, loss: -0.06383\n",
      "epoch: 02, loss: -0.06777\n",
      "epoch: 03, loss: -0.06643\n",
      "epoch: 04, loss: -0.07063\n",
      "epoch: 05, loss: -0.06907\n",
      "epoch: 06, loss: -0.06961\n",
      "epoch: 07, loss: -0.06950\n",
      "epoch: 08, loss: -0.07005\n",
      "epoch: 09, loss: -0.06755\n",
      "torch.Size([450, 64])\n"
     ]
    },
    {
     "name": "stderr",
     "output_type": "stream",
     "text": [
      "\r",
      " 33%|█████████████████████████████████████████████████████                                                                                                          | 334/1000 [2:24:01<4:22:21, 23.64s/it]"
     ]
    },
    {
     "name": "stdout",
     "output_type": "stream",
     "text": [
      "eigenvalues shape torch.Size([5]) eigenvectors shape torch.Size([5, 450])\n",
      "334 /home/phdcs2/Hard_Disk/Datasets/Deep-Spectral-Segmentation/data/object-segmentation/ECSSD/features/dino_vits16/0335.pth\n",
      "dict_keys(['k', 'indices', 'file', 'id', 'model_name', 'patch_size', 'shape'])\n",
      "0335\n",
      "Starting Training\n",
      "epoch: 00, loss: -0.02109\n",
      "epoch: 01, loss: -0.03882\n",
      "epoch: 02, loss: -0.04122\n",
      "epoch: 03, loss: -0.04219\n",
      "epoch: 04, loss: -0.04237\n",
      "epoch: 05, loss: -0.04272\n",
      "epoch: 06, loss: -0.04286\n",
      "epoch: 07, loss: -0.04307\n",
      "epoch: 08, loss: -0.04315\n",
      "epoch: 09, loss: -0.04336\n",
      "torch.Size([400, 64])\n"
     ]
    },
    {
     "name": "stderr",
     "output_type": "stream",
     "text": [
      "\r",
      " 34%|█████████████████████████████████████████████████████▎                                                                                                         | 335/1000 [2:24:25<4:22:24, 23.68s/it]"
     ]
    },
    {
     "name": "stdout",
     "output_type": "stream",
     "text": [
      "eigenvalues shape torch.Size([5]) eigenvectors shape torch.Size([5, 400])\n",
      "335 /home/phdcs2/Hard_Disk/Datasets/Deep-Spectral-Segmentation/data/object-segmentation/ECSSD/features/dino_vits16/0336.pth\n",
      "dict_keys(['k', 'indices', 'file', 'id', 'model_name', 'patch_size', 'shape'])\n",
      "0336\n",
      "Starting Training\n",
      "epoch: 00, loss: -0.13170\n",
      "epoch: 01, loss: -0.15848\n",
      "epoch: 02, loss: -0.16027\n",
      "epoch: 03, loss: -0.16253\n",
      "epoch: 04, loss: -0.16246\n",
      "epoch: 05, loss: -0.16251\n",
      "epoch: 06, loss: -0.16435\n",
      "epoch: 07, loss: -0.16351\n",
      "epoch: 08, loss: -0.16278\n",
      "epoch: 09, loss: -0.16434\n",
      "torch.Size([450, 64])\n"
     ]
    },
    {
     "name": "stderr",
     "output_type": "stream",
     "text": [
      "\r",
      " 34%|█████████████████████████████████████████████████████▍                                                                                                         | 336/1000 [2:24:54<4:42:19, 25.51s/it]"
     ]
    },
    {
     "name": "stdout",
     "output_type": "stream",
     "text": [
      "eigenvalues shape torch.Size([5]) eigenvectors shape torch.Size([5, 450])\n",
      "336 /home/phdcs2/Hard_Disk/Datasets/Deep-Spectral-Segmentation/data/object-segmentation/ECSSD/features/dino_vits16/0337.pth\n",
      "dict_keys(['k', 'indices', 'file', 'id', 'model_name', 'patch_size', 'shape'])\n",
      "0337\n",
      "Starting Training\n",
      "epoch: 00, loss: -0.03716\n",
      "epoch: 01, loss: -0.06234\n",
      "epoch: 02, loss: -0.06354\n",
      "epoch: 03, loss: -0.06407\n",
      "epoch: 04, loss: -0.06442\n",
      "epoch: 05, loss: -0.06458\n",
      "epoch: 06, loss: -0.06477\n",
      "epoch: 07, loss: -0.06499\n",
      "epoch: 08, loss: -0.06501\n",
      "epoch: 09, loss: -0.06517\n",
      "torch.Size([450, 64])\n"
     ]
    },
    {
     "name": "stderr",
     "output_type": "stream",
     "text": [
      "\r",
      " 34%|█████████████████████████████████████████████████████▌                                                                                                         | 337/1000 [2:25:21<4:45:51, 25.87s/it]"
     ]
    },
    {
     "name": "stdout",
     "output_type": "stream",
     "text": [
      "eigenvalues shape torch.Size([5]) eigenvectors shape torch.Size([5, 450])\n",
      "337 /home/phdcs2/Hard_Disk/Datasets/Deep-Spectral-Segmentation/data/object-segmentation/ECSSD/features/dino_vits16/0338.pth\n",
      "dict_keys(['k', 'indices', 'file', 'id', 'model_name', 'patch_size', 'shape'])\n",
      "0338\n",
      "Starting Training\n",
      "epoch: 00, loss: -0.01720\n",
      "epoch: 01, loss: -0.03505\n",
      "epoch: 02, loss: -0.04306\n",
      "epoch: 03, loss: -0.04738\n",
      "epoch: 04, loss: -0.04819\n",
      "epoch: 05, loss: -0.04754\n",
      "epoch: 06, loss: -0.04758\n",
      "epoch: 07, loss: -0.04865\n",
      "epoch: 08, loss: -0.04839\n",
      "epoch: 09, loss: -0.04842\n",
      "torch.Size([450, 64])\n"
     ]
    },
    {
     "name": "stderr",
     "output_type": "stream",
     "text": [
      "\r",
      " 34%|█████████████████████████████████████████████████████▋                                                                                                         | 338/1000 [2:25:52<5:02:37, 27.43s/it]"
     ]
    },
    {
     "name": "stdout",
     "output_type": "stream",
     "text": [
      "eigenvalues shape torch.Size([5]) eigenvectors shape torch.Size([5, 450])\n",
      "338 /home/phdcs2/Hard_Disk/Datasets/Deep-Spectral-Segmentation/data/object-segmentation/ECSSD/features/dino_vits16/0339.pth\n",
      "dict_keys(['k', 'indices', 'file', 'id', 'model_name', 'patch_size', 'shape'])\n",
      "0339\n",
      "Starting Training\n",
      "epoch: 00, loss: -0.08861\n",
      "epoch: 01, loss: -0.11341\n",
      "epoch: 02, loss: -0.11426\n",
      "epoch: 03, loss: -0.11450\n",
      "epoch: 04, loss: -0.11462\n",
      "epoch: 05, loss: -0.11469\n",
      "epoch: 06, loss: -0.11496\n",
      "epoch: 07, loss: -0.11479\n",
      "epoch: 08, loss: -0.11513\n",
      "epoch: 09, loss: -0.11525\n",
      "torch.Size([450, 64])\n"
     ]
    },
    {
     "name": "stderr",
     "output_type": "stream",
     "text": [
      "\r",
      " 34%|█████████████████████████████████████████████████████▉                                                                                                         | 339/1000 [2:26:19<5:01:32, 27.37s/it]"
     ]
    },
    {
     "name": "stdout",
     "output_type": "stream",
     "text": [
      "eigenvalues shape torch.Size([5]) eigenvectors shape torch.Size([5, 450])\n",
      "339 /home/phdcs2/Hard_Disk/Datasets/Deep-Spectral-Segmentation/data/object-segmentation/ECSSD/features/dino_vits16/0340.pth\n",
      "dict_keys(['k', 'indices', 'file', 'id', 'model_name', 'patch_size', 'shape'])\n",
      "0340\n",
      "Starting Training\n",
      "epoch: 00, loss: -0.11293\n",
      "epoch: 01, loss: -0.14783\n",
      "epoch: 02, loss: -0.15199\n",
      "epoch: 03, loss: -0.15691\n",
      "epoch: 04, loss: -0.15456\n",
      "epoch: 05, loss: -0.15603\n",
      "epoch: 06, loss: -0.15846\n",
      "epoch: 07, loss: -0.15884\n",
      "epoch: 08, loss: -0.15590\n",
      "epoch: 09, loss: -0.15689\n",
      "torch.Size([375, 64])\n"
     ]
    },
    {
     "name": "stderr",
     "output_type": "stream",
     "text": [
      "\r",
      " 34%|██████████████████████████████████████████████████████                                                                                                         | 340/1000 [2:26:42<4:44:04, 25.82s/it]"
     ]
    },
    {
     "name": "stdout",
     "output_type": "stream",
     "text": [
      "eigenvalues shape torch.Size([5]) eigenvectors shape torch.Size([5, 375])\n",
      "340 /home/phdcs2/Hard_Disk/Datasets/Deep-Spectral-Segmentation/data/object-segmentation/ECSSD/features/dino_vits16/0341.pth\n",
      "dict_keys(['k', 'indices', 'file', 'id', 'model_name', 'patch_size', 'shape'])\n",
      "0341\n",
      "Starting Training\n",
      "epoch: 00, loss: -0.13595\n",
      "epoch: 01, loss: -0.16933\n",
      "epoch: 02, loss: -0.17533\n",
      "epoch: 03, loss: -0.18088\n",
      "epoch: 04, loss: -0.17984\n",
      "epoch: 05, loss: -0.18066\n",
      "epoch: 06, loss: -0.17989\n",
      "epoch: 07, loss: -0.18210\n",
      "epoch: 08, loss: -0.18182\n",
      "epoch: 09, loss: -0.18198\n",
      "torch.Size([375, 64])\n"
     ]
    },
    {
     "name": "stderr",
     "output_type": "stream",
     "text": [
      "\r",
      " 34%|██████████████████████████████████████████████████████▏                                                                                                        | 341/1000 [2:27:04<4:30:45, 24.65s/it]"
     ]
    },
    {
     "name": "stdout",
     "output_type": "stream",
     "text": [
      "eigenvalues shape torch.Size([5]) eigenvectors shape torch.Size([5, 375])\n",
      "341 /home/phdcs2/Hard_Disk/Datasets/Deep-Spectral-Segmentation/data/object-segmentation/ECSSD/features/dino_vits16/0342.pth\n",
      "dict_keys(['k', 'indices', 'file', 'id', 'model_name', 'patch_size', 'shape'])\n",
      "0342\n",
      "Starting Training\n",
      "epoch: 00, loss: -0.12015\n",
      "epoch: 01, loss: -0.15988\n",
      "epoch: 02, loss: -0.16690\n",
      "epoch: 03, loss: -0.17001\n",
      "epoch: 04, loss: -0.17740\n",
      "epoch: 05, loss: -0.17221\n",
      "epoch: 06, loss: -0.17652\n",
      "epoch: 07, loss: -0.17525\n",
      "epoch: 08, loss: -0.18119\n",
      "epoch: 09, loss: -0.18302\n",
      "torch.Size([450, 64])\n"
     ]
    },
    {
     "name": "stderr",
     "output_type": "stream",
     "text": [
      "\r",
      " 34%|██████████████████████████████████████████████████████▍                                                                                                        | 342/1000 [2:27:31<4:40:51, 25.61s/it]"
     ]
    },
    {
     "name": "stdout",
     "output_type": "stream",
     "text": [
      "eigenvalues shape torch.Size([5]) eigenvectors shape torch.Size([5, 450])\n",
      "342 /home/phdcs2/Hard_Disk/Datasets/Deep-Spectral-Segmentation/data/object-segmentation/ECSSD/features/dino_vits16/0343.pth\n",
      "dict_keys(['k', 'indices', 'file', 'id', 'model_name', 'patch_size', 'shape'])\n",
      "0343\n",
      "Starting Training\n",
      "epoch: 00, loss: -0.01309\n",
      "epoch: 01, loss: -0.03223\n",
      "epoch: 02, loss: -0.03773\n",
      "epoch: 03, loss: -0.04168\n",
      "epoch: 04, loss: -0.04203\n",
      "epoch: 05, loss: -0.04278\n",
      "epoch: 06, loss: -0.03925\n",
      "epoch: 07, loss: -0.04113\n",
      "epoch: 08, loss: -0.04300\n",
      "epoch: 09, loss: -0.04113\n",
      "torch.Size([500, 64])\n"
     ]
    },
    {
     "name": "stderr",
     "output_type": "stream",
     "text": [
      "\r",
      " 34%|██████████████████████████████████████████████████████▌                                                                                                        | 343/1000 [2:28:09<5:18:44, 29.11s/it]"
     ]
    },
    {
     "name": "stdout",
     "output_type": "stream",
     "text": [
      "eigenvalues shape torch.Size([5]) eigenvectors shape torch.Size([5, 500])\n",
      "343 /home/phdcs2/Hard_Disk/Datasets/Deep-Spectral-Segmentation/data/object-segmentation/ECSSD/features/dino_vits16/0344.pth\n",
      "dict_keys(['k', 'indices', 'file', 'id', 'model_name', 'patch_size', 'shape'])\n",
      "0344\n",
      "Starting Training\n",
      "epoch: 00, loss: -0.01363\n",
      "epoch: 01, loss: -0.02974\n",
      "epoch: 02, loss: -0.03225\n",
      "epoch: 03, loss: -0.03293\n",
      "epoch: 04, loss: -0.03358\n",
      "epoch: 05, loss: -0.03371\n",
      "epoch: 06, loss: -0.03400\n",
      "epoch: 07, loss: -0.03396\n",
      "epoch: 08, loss: -0.03432\n",
      "epoch: 09, loss: -0.03427\n",
      "torch.Size([450, 64])\n"
     ]
    },
    {
     "name": "stderr",
     "output_type": "stream",
     "text": [
      "\r",
      " 34%|██████████████████████████████████████████████████████▋                                                                                                        | 344/1000 [2:28:38<5:18:29, 29.13s/it]"
     ]
    },
    {
     "name": "stdout",
     "output_type": "stream",
     "text": [
      "eigenvalues shape torch.Size([5]) eigenvectors shape torch.Size([5, 450])\n",
      "344 /home/phdcs2/Hard_Disk/Datasets/Deep-Spectral-Segmentation/data/object-segmentation/ECSSD/features/dino_vits16/0345.pth\n",
      "dict_keys(['k', 'indices', 'file', 'id', 'model_name', 'patch_size', 'shape'])\n",
      "0345\n",
      "Starting Training\n",
      "epoch: 00, loss: -0.02623\n",
      "epoch: 01, loss: -0.05368\n",
      "epoch: 02, loss: -0.05584\n",
      "epoch: 03, loss: -0.05839\n",
      "epoch: 04, loss: -0.05794\n",
      "epoch: 05, loss: -0.06045\n",
      "epoch: 06, loss: -0.06219\n",
      "epoch: 07, loss: -0.06085\n",
      "epoch: 08, loss: -0.06318\n",
      "epoch: 09, loss: -0.06177\n",
      "torch.Size([500, 64])\n"
     ]
    },
    {
     "name": "stderr",
     "output_type": "stream",
     "text": [
      "\r",
      " 34%|██████████████████████████████████████████████████████▊                                                                                                        | 345/1000 [2:29:06<5:16:00, 28.95s/it]"
     ]
    },
    {
     "name": "stdout",
     "output_type": "stream",
     "text": [
      "eigenvalues shape torch.Size([5]) eigenvectors shape torch.Size([5, 500])\n",
      "345 /home/phdcs2/Hard_Disk/Datasets/Deep-Spectral-Segmentation/data/object-segmentation/ECSSD/features/dino_vits16/0346.pth\n",
      "dict_keys(['k', 'indices', 'file', 'id', 'model_name', 'patch_size', 'shape'])\n",
      "0346\n",
      "Starting Training\n",
      "epoch: 00, loss: -0.03646\n",
      "epoch: 01, loss: -0.06235\n",
      "epoch: 02, loss: -0.06343\n",
      "epoch: 03, loss: -0.06742\n",
      "epoch: 04, loss: -0.06598\n",
      "epoch: 05, loss: -0.06949\n",
      "epoch: 06, loss: -0.06762\n",
      "epoch: 07, loss: -0.06882\n",
      "epoch: 08, loss: -0.06747\n",
      "epoch: 09, loss: -0.07120\n",
      "torch.Size([450, 64])\n"
     ]
    },
    {
     "name": "stderr",
     "output_type": "stream",
     "text": [
      "\r",
      " 35%|███████████████████████████████████████████████████████                                                                                                        | 346/1000 [2:29:37<5:20:12, 29.38s/it]"
     ]
    },
    {
     "name": "stdout",
     "output_type": "stream",
     "text": [
      "eigenvalues shape torch.Size([5]) eigenvectors shape torch.Size([5, 450])\n",
      "346 /home/phdcs2/Hard_Disk/Datasets/Deep-Spectral-Segmentation/data/object-segmentation/ECSSD/features/dino_vits16/0347.pth\n",
      "dict_keys(['k', 'indices', 'file', 'id', 'model_name', 'patch_size', 'shape'])\n",
      "0347\n",
      "Starting Training\n",
      "epoch: 00, loss: -0.01677\n",
      "epoch: 01, loss: -0.03667\n",
      "epoch: 02, loss: -0.04649\n",
      "epoch: 03, loss: -0.04612\n",
      "epoch: 04, loss: -0.04951\n",
      "epoch: 05, loss: -0.04929\n",
      "epoch: 06, loss: -0.05109\n",
      "epoch: 07, loss: -0.04892\n",
      "epoch: 08, loss: -0.04909\n",
      "epoch: 09, loss: -0.04993\n",
      "torch.Size([450, 64])\n"
     ]
    },
    {
     "name": "stderr",
     "output_type": "stream",
     "text": [
      "\r",
      " 35%|███████████████████████████████████████████████████████▏                                                                                                       | 347/1000 [2:30:04<5:12:07, 28.68s/it]"
     ]
    },
    {
     "name": "stdout",
     "output_type": "stream",
     "text": [
      "eigenvalues shape torch.Size([5]) eigenvectors shape torch.Size([5, 450])\n",
      "347 /home/phdcs2/Hard_Disk/Datasets/Deep-Spectral-Segmentation/data/object-segmentation/ECSSD/features/dino_vits16/0348.pth\n",
      "dict_keys(['k', 'indices', 'file', 'id', 'model_name', 'patch_size', 'shape'])\n",
      "0348\n",
      "Starting Training\n",
      "epoch: 00, loss: -0.03414\n",
      "epoch: 01, loss: -0.05108\n",
      "epoch: 02, loss: -0.05305\n",
      "epoch: 03, loss: -0.05321\n",
      "epoch: 04, loss: -0.05378\n",
      "epoch: 05, loss: -0.05374\n",
      "epoch: 06, loss: -0.05388\n",
      "epoch: 07, loss: -0.05423\n",
      "epoch: 08, loss: -0.05427\n",
      "epoch: 09, loss: -0.05456\n",
      "torch.Size([400, 64])\n"
     ]
    },
    {
     "name": "stderr",
     "output_type": "stream",
     "text": [
      "\r",
      " 35%|███████████████████████████████████████████████████████▎                                                                                                       | 348/1000 [2:30:23<4:40:10, 25.78s/it]"
     ]
    },
    {
     "name": "stdout",
     "output_type": "stream",
     "text": [
      "eigenvalues shape torch.Size([5]) eigenvectors shape torch.Size([5, 400])\n",
      "348 /home/phdcs2/Hard_Disk/Datasets/Deep-Spectral-Segmentation/data/object-segmentation/ECSSD/features/dino_vits16/0349.pth\n",
      "dict_keys(['k', 'indices', 'file', 'id', 'model_name', 'patch_size', 'shape'])\n",
      "0349\n",
      "Starting Training\n",
      "epoch: 00, loss: -0.04532\n",
      "epoch: 01, loss: -0.07354\n",
      "epoch: 02, loss: -0.07773\n",
      "epoch: 03, loss: -0.07545\n",
      "epoch: 04, loss: -0.07816\n",
      "epoch: 05, loss: -0.07745\n",
      "epoch: 06, loss: -0.07843\n",
      "epoch: 07, loss: -0.07936\n",
      "epoch: 08, loss: -0.07920\n",
      "epoch: 09, loss: -0.08040\n",
      "torch.Size([400, 64])\n"
     ]
    },
    {
     "name": "stderr",
     "output_type": "stream",
     "text": [
      "\r",
      " 35%|███████████████████████████████████████████████████████▍                                                                                                       | 349/1000 [2:30:42<4:17:50, 23.76s/it]"
     ]
    },
    {
     "name": "stdout",
     "output_type": "stream",
     "text": [
      "eigenvalues shape torch.Size([5]) eigenvectors shape torch.Size([5, 400])\n",
      "349 /home/phdcs2/Hard_Disk/Datasets/Deep-Spectral-Segmentation/data/object-segmentation/ECSSD/features/dino_vits16/0350.pth\n",
      "dict_keys(['k', 'indices', 'file', 'id', 'model_name', 'patch_size', 'shape'])\n",
      "0350\n",
      "Starting Training\n",
      "epoch: 00, loss: -0.05874\n",
      "epoch: 01, loss: -0.08535\n",
      "epoch: 02, loss: -0.08657\n",
      "epoch: 03, loss: -0.08646\n",
      "epoch: 04, loss: -0.08888\n",
      "epoch: 05, loss: -0.08847\n",
      "epoch: 06, loss: -0.08862\n",
      "epoch: 07, loss: -0.08817\n",
      "epoch: 08, loss: -0.08985\n",
      "epoch: 09, loss: -0.08982\n",
      "torch.Size([475, 64])\n"
     ]
    },
    {
     "name": "stderr",
     "output_type": "stream",
     "text": [
      "\r",
      " 35%|███████████████████████████████████████████████████████▋                                                                                                       | 350/1000 [2:31:07<4:21:31, 24.14s/it]"
     ]
    },
    {
     "name": "stdout",
     "output_type": "stream",
     "text": [
      "eigenvalues shape torch.Size([5]) eigenvectors shape torch.Size([5, 475])\n",
      "350 /home/phdcs2/Hard_Disk/Datasets/Deep-Spectral-Segmentation/data/object-segmentation/ECSSD/features/dino_vits16/0351.pth\n",
      "dict_keys(['k', 'indices', 'file', 'id', 'model_name', 'patch_size', 'shape'])\n",
      "0351\n",
      "Starting Training\n",
      "epoch: 00, loss: -0.05713\n",
      "epoch: 01, loss: -0.08771\n",
      "epoch: 02, loss: -0.09060\n",
      "epoch: 03, loss: -0.09323\n",
      "epoch: 04, loss: -0.09556\n",
      "epoch: 05, loss: -0.09313\n",
      "epoch: 06, loss: -0.09520\n",
      "epoch: 07, loss: -0.09677\n",
      "epoch: 08, loss: -0.09537\n",
      "epoch: 09, loss: -0.09595\n",
      "torch.Size([450, 64])\n"
     ]
    },
    {
     "name": "stderr",
     "output_type": "stream",
     "text": [
      "\r",
      " 35%|███████████████████████████████████████████████████████▊                                                                                                       | 351/1000 [2:31:31<4:20:29, 24.08s/it]"
     ]
    },
    {
     "name": "stdout",
     "output_type": "stream",
     "text": [
      "eigenvalues shape torch.Size([5]) eigenvectors shape torch.Size([5, 450])\n",
      "351 /home/phdcs2/Hard_Disk/Datasets/Deep-Spectral-Segmentation/data/object-segmentation/ECSSD/features/dino_vits16/0352.pth\n",
      "dict_keys(['k', 'indices', 'file', 'id', 'model_name', 'patch_size', 'shape'])\n",
      "0352\n",
      "Starting Training\n",
      "epoch: 00, loss: -0.01357\n",
      "epoch: 01, loss: -0.03689\n",
      "epoch: 02, loss: -0.04058\n",
      "epoch: 03, loss: -0.04068\n",
      "epoch: 04, loss: -0.04242\n",
      "epoch: 05, loss: -0.04629\n",
      "epoch: 06, loss: -0.04550\n",
      "epoch: 07, loss: -0.04320\n",
      "epoch: 08, loss: -0.04601\n",
      "epoch: 09, loss: -0.04526\n",
      "torch.Size([400, 64])\n"
     ]
    },
    {
     "name": "stderr",
     "output_type": "stream",
     "text": [
      "\r",
      " 35%|███████████████████████████████████████████████████████▉                                                                                                       | 352/1000 [2:31:51<4:05:38, 22.74s/it]"
     ]
    },
    {
     "name": "stdout",
     "output_type": "stream",
     "text": [
      "eigenvalues shape torch.Size([5]) eigenvectors shape torch.Size([5, 400])\n",
      "352 /home/phdcs2/Hard_Disk/Datasets/Deep-Spectral-Segmentation/data/object-segmentation/ECSSD/features/dino_vits16/0353.pth\n",
      "dict_keys(['k', 'indices', 'file', 'id', 'model_name', 'patch_size', 'shape'])\n",
      "0353\n",
      "Starting Training\n",
      "epoch: 00, loss: -0.02162\n",
      "epoch: 01, loss: -0.04635\n",
      "epoch: 02, loss: -0.04948\n",
      "epoch: 03, loss: -0.05049\n",
      "epoch: 04, loss: -0.04983\n",
      "epoch: 05, loss: -0.05192\n",
      "epoch: 06, loss: -0.05170\n",
      "epoch: 07, loss: -0.05058\n",
      "epoch: 08, loss: -0.05053\n",
      "epoch: 09, loss: -0.05165\n",
      "torch.Size([425, 64])\n"
     ]
    },
    {
     "name": "stderr",
     "output_type": "stream",
     "text": [
      "\r",
      " 35%|████████████████████████████████████████████████████████▏                                                                                                      | 353/1000 [2:32:12<4:01:08, 22.36s/it]"
     ]
    },
    {
     "name": "stdout",
     "output_type": "stream",
     "text": [
      "eigenvalues shape torch.Size([5]) eigenvectors shape torch.Size([5, 425])\n",
      "353 /home/phdcs2/Hard_Disk/Datasets/Deep-Spectral-Segmentation/data/object-segmentation/ECSSD/features/dino_vits16/0354.pth\n",
      "dict_keys(['k', 'indices', 'file', 'id', 'model_name', 'patch_size', 'shape'])\n",
      "0354\n",
      "Starting Training\n",
      "epoch: 00, loss: -0.05760\n",
      "epoch: 01, loss: -0.07932\n",
      "epoch: 02, loss: -0.08177\n",
      "epoch: 03, loss: -0.08066\n",
      "epoch: 04, loss: -0.07961\n",
      "epoch: 05, loss: -0.08249\n",
      "epoch: 06, loss: -0.08414\n",
      "epoch: 07, loss: -0.08232\n",
      "epoch: 08, loss: -0.08472\n",
      "epoch: 09, loss: -0.08268\n",
      "torch.Size([575, 64])\n"
     ]
    },
    {
     "name": "stderr",
     "output_type": "stream",
     "text": [
      "\r",
      " 35%|████████████████████████████████████████████████████████▎                                                                                                      | 354/1000 [2:32:47<4:41:29, 26.14s/it]"
     ]
    },
    {
     "name": "stdout",
     "output_type": "stream",
     "text": [
      "eigenvalues shape torch.Size([5]) eigenvectors shape torch.Size([5, 575])\n",
      "354 /home/phdcs2/Hard_Disk/Datasets/Deep-Spectral-Segmentation/data/object-segmentation/ECSSD/features/dino_vits16/0355.pth\n",
      "dict_keys(['k', 'indices', 'file', 'id', 'model_name', 'patch_size', 'shape'])\n",
      "0355\n",
      "Starting Training\n",
      "epoch: 00, loss: -0.02049\n",
      "epoch: 01, loss: -0.04347\n",
      "epoch: 02, loss: -0.04632\n",
      "epoch: 03, loss: -0.04681\n",
      "epoch: 04, loss: -0.04716\n",
      "epoch: 05, loss: -0.04733\n",
      "epoch: 06, loss: -0.04743\n",
      "epoch: 07, loss: -0.04760\n",
      "epoch: 08, loss: -0.04768\n",
      "epoch: 09, loss: -0.04784\n",
      "torch.Size([450, 64])\n"
     ]
    },
    {
     "name": "stderr",
     "output_type": "stream",
     "text": [
      "\r",
      " 36%|████████████████████████████████████████████████████████▍                                                                                                      | 355/1000 [2:33:15<4:47:18, 26.73s/it]"
     ]
    },
    {
     "name": "stdout",
     "output_type": "stream",
     "text": [
      "eigenvalues shape torch.Size([5]) eigenvectors shape torch.Size([5, 450])\n",
      "355 /home/phdcs2/Hard_Disk/Datasets/Deep-Spectral-Segmentation/data/object-segmentation/ECSSD/features/dino_vits16/0356.pth\n",
      "dict_keys(['k', 'indices', 'file', 'id', 'model_name', 'patch_size', 'shape'])\n",
      "0356\n",
      "Starting Training\n",
      "epoch: 00, loss: -0.00380\n",
      "epoch: 01, loss: -0.02410\n",
      "epoch: 02, loss: -0.03112\n",
      "epoch: 03, loss: -0.02990\n",
      "epoch: 04, loss: -0.03293\n",
      "epoch: 05, loss: -0.03461\n",
      "epoch: 06, loss: -0.03361\n",
      "epoch: 07, loss: -0.03495\n",
      "epoch: 08, loss: -0.03254\n",
      "epoch: 09, loss: -0.03327\n",
      "torch.Size([450, 64])\n"
     ]
    },
    {
     "name": "stderr",
     "output_type": "stream",
     "text": [
      "\r",
      " 36%|████████████████████████████████████████████████████████▌                                                                                                      | 356/1000 [2:33:43<4:50:50, 27.10s/it]"
     ]
    },
    {
     "name": "stdout",
     "output_type": "stream",
     "text": [
      "eigenvalues shape torch.Size([5]) eigenvectors shape torch.Size([5, 450])\n",
      "356 /home/phdcs2/Hard_Disk/Datasets/Deep-Spectral-Segmentation/data/object-segmentation/ECSSD/features/dino_vits16/0357.pth\n",
      "dict_keys(['k', 'indices', 'file', 'id', 'model_name', 'patch_size', 'shape'])\n",
      "0357\n",
      "Starting Training\n",
      "epoch: 00, loss: -0.03112\n",
      "epoch: 01, loss: -0.06751\n",
      "epoch: 02, loss: -0.06862\n",
      "epoch: 03, loss: -0.07254\n",
      "epoch: 04, loss: -0.07077\n",
      "epoch: 05, loss: -0.07484\n",
      "epoch: 06, loss: -0.07519\n",
      "epoch: 07, loss: -0.07370\n",
      "epoch: 08, loss: -0.07548\n",
      "epoch: 09, loss: -0.07419\n",
      "torch.Size([475, 64])\n"
     ]
    },
    {
     "name": "stderr",
     "output_type": "stream",
     "text": [
      "\r",
      " 36%|████████████████████████████████████████████████████████▊                                                                                                      | 357/1000 [2:34:07<4:41:56, 26.31s/it]"
     ]
    },
    {
     "name": "stdout",
     "output_type": "stream",
     "text": [
      "eigenvalues shape torch.Size([5]) eigenvectors shape torch.Size([5, 475])\n",
      "357 /home/phdcs2/Hard_Disk/Datasets/Deep-Spectral-Segmentation/data/object-segmentation/ECSSD/features/dino_vits16/0358.pth\n",
      "dict_keys(['k', 'indices', 'file', 'id', 'model_name', 'patch_size', 'shape'])\n",
      "0358\n",
      "Starting Training\n",
      "epoch: 00, loss: -0.02281\n",
      "epoch: 01, loss: -0.04714\n",
      "epoch: 02, loss: -0.05316\n",
      "epoch: 03, loss: -0.05366\n",
      "epoch: 04, loss: -0.05390\n",
      "epoch: 05, loss: -0.05565\n",
      "epoch: 06, loss: -0.05527\n",
      "epoch: 07, loss: -0.05681\n",
      "epoch: 08, loss: -0.05706\n",
      "epoch: 09, loss: -0.05562\n",
      "torch.Size([400, 64])\n"
     ]
    },
    {
     "name": "stderr",
     "output_type": "stream",
     "text": [
      "\r",
      " 36%|████████████████████████████████████████████████████████▉                                                                                                      | 358/1000 [2:34:31<4:31:52, 25.41s/it]"
     ]
    },
    {
     "name": "stdout",
     "output_type": "stream",
     "text": [
      "eigenvalues shape torch.Size([5]) eigenvectors shape torch.Size([5, 400])\n",
      "358 /home/phdcs2/Hard_Disk/Datasets/Deep-Spectral-Segmentation/data/object-segmentation/ECSSD/features/dino_vits16/0359.pth\n",
      "dict_keys(['k', 'indices', 'file', 'id', 'model_name', 'patch_size', 'shape'])\n",
      "0359\n",
      "Starting Training\n",
      "epoch: 00, loss: 0.00512\n",
      "epoch: 01, loss: -0.00178\n",
      "epoch: 02, loss: -0.00553\n",
      "epoch: 03, loss: -0.00765\n",
      "epoch: 04, loss: -0.00928\n",
      "epoch: 05, loss: -0.01014\n",
      "epoch: 06, loss: -0.01085\n",
      "epoch: 07, loss: -0.01139\n",
      "epoch: 08, loss: -0.01191\n",
      "epoch: 09, loss: -0.01213\n",
      "torch.Size([350, 64])\n"
     ]
    },
    {
     "name": "stderr",
     "output_type": "stream",
     "text": [
      "\r",
      " 36%|█████████████████████████████████████████████████████████                                                                                                      | 359/1000 [2:34:48<4:06:20, 23.06s/it]"
     ]
    },
    {
     "name": "stdout",
     "output_type": "stream",
     "text": [
      "eigenvalues shape torch.Size([5]) eigenvectors shape torch.Size([5, 350])\n",
      "359 /home/phdcs2/Hard_Disk/Datasets/Deep-Spectral-Segmentation/data/object-segmentation/ECSSD/features/dino_vits16/0360.pth\n",
      "dict_keys(['k', 'indices', 'file', 'id', 'model_name', 'patch_size', 'shape'])\n",
      "0360\n",
      "Starting Training\n",
      "epoch: 00, loss: -0.00945\n",
      "epoch: 01, loss: -0.03506\n",
      "epoch: 02, loss: -0.04010\n",
      "epoch: 03, loss: -0.04116\n",
      "epoch: 04, loss: -0.04150\n",
      "epoch: 05, loss: -0.04188\n",
      "epoch: 06, loss: -0.04197\n",
      "epoch: 07, loss: -0.04204\n",
      "epoch: 08, loss: -0.04223\n",
      "epoch: 09, loss: -0.04225\n",
      "torch.Size([400, 64])\n"
     ]
    },
    {
     "name": "stderr",
     "output_type": "stream",
     "text": [
      "\r",
      " 36%|█████████████████████████████████████████████████████████▏                                                                                                     | 360/1000 [2:35:09<3:59:35, 22.46s/it]"
     ]
    },
    {
     "name": "stdout",
     "output_type": "stream",
     "text": [
      "eigenvalues shape torch.Size([5]) eigenvectors shape torch.Size([5, 400])\n",
      "360 /home/phdcs2/Hard_Disk/Datasets/Deep-Spectral-Segmentation/data/object-segmentation/ECSSD/features/dino_vits16/0361.pth\n",
      "dict_keys(['k', 'indices', 'file', 'id', 'model_name', 'patch_size', 'shape'])\n",
      "0361\n",
      "Starting Training\n",
      "epoch: 00, loss: -0.04179\n",
      "epoch: 01, loss: -0.06586\n",
      "epoch: 02, loss: -0.06624\n",
      "epoch: 03, loss: -0.06802\n",
      "epoch: 04, loss: -0.06902\n",
      "epoch: 05, loss: -0.06800\n",
      "epoch: 06, loss: -0.06957\n",
      "epoch: 07, loss: -0.06976\n",
      "epoch: 08, loss: -0.07176\n",
      "epoch: 09, loss: -0.06969\n",
      "torch.Size([400, 64])\n"
     ]
    },
    {
     "name": "stderr",
     "output_type": "stream",
     "text": [
      "\r",
      " 36%|█████████████████████████████████████████████████████████▍                                                                                                     | 361/1000 [2:35:32<3:59:08, 22.45s/it]"
     ]
    },
    {
     "name": "stdout",
     "output_type": "stream",
     "text": [
      "eigenvalues shape torch.Size([5]) eigenvectors shape torch.Size([5, 400])\n",
      "361 /home/phdcs2/Hard_Disk/Datasets/Deep-Spectral-Segmentation/data/object-segmentation/ECSSD/features/dino_vits16/0362.pth\n",
      "dict_keys(['k', 'indices', 'file', 'id', 'model_name', 'patch_size', 'shape'])\n",
      "0362\n",
      "Starting Training\n",
      "epoch: 00, loss: -0.13327\n",
      "epoch: 01, loss: -0.16473\n",
      "epoch: 02, loss: -0.16894\n",
      "epoch: 03, loss: -0.17407\n",
      "epoch: 04, loss: -0.17469\n",
      "epoch: 05, loss: -0.17980\n",
      "epoch: 06, loss: -0.18036\n",
      "epoch: 07, loss: -0.18698\n",
      "epoch: 08, loss: -0.19137\n",
      "epoch: 09, loss: -0.18723\n",
      "torch.Size([500, 64])\n"
     ]
    },
    {
     "name": "stderr",
     "output_type": "stream",
     "text": [
      "\r",
      " 36%|█████████████████████████████████████████████████████████▌                                                                                                     | 362/1000 [2:35:58<4:09:49, 23.49s/it]"
     ]
    },
    {
     "name": "stdout",
     "output_type": "stream",
     "text": [
      "eigenvalues shape torch.Size([5]) eigenvectors shape torch.Size([5, 500])\n",
      "362 /home/phdcs2/Hard_Disk/Datasets/Deep-Spectral-Segmentation/data/object-segmentation/ECSSD/features/dino_vits16/0363.pth\n",
      "dict_keys(['k', 'indices', 'file', 'id', 'model_name', 'patch_size', 'shape'])\n",
      "0363\n",
      "Starting Training\n",
      "epoch: 00, loss: -0.09089\n",
      "epoch: 01, loss: -0.11208\n",
      "epoch: 02, loss: -0.11232\n",
      "epoch: 03, loss: -0.11279\n",
      "epoch: 04, loss: -0.11394\n",
      "epoch: 05, loss: -0.11291\n",
      "epoch: 06, loss: -0.11324\n",
      "epoch: 07, loss: -0.11322\n",
      "epoch: 08, loss: -0.11376\n",
      "epoch: 09, loss: -0.11443\n",
      "torch.Size([625, 64])\n"
     ]
    },
    {
     "name": "stderr",
     "output_type": "stream",
     "text": [
      "\r",
      " 36%|█████████████████████████████████████████████████████████▋                                                                                                     | 363/1000 [2:36:44<5:23:14, 30.45s/it]"
     ]
    },
    {
     "name": "stdout",
     "output_type": "stream",
     "text": [
      "eigenvalues shape torch.Size([5]) eigenvectors shape torch.Size([5, 625])\n",
      "363 /home/phdcs2/Hard_Disk/Datasets/Deep-Spectral-Segmentation/data/object-segmentation/ECSSD/features/dino_vits16/0364.pth\n",
      "dict_keys(['k', 'indices', 'file', 'id', 'model_name', 'patch_size', 'shape'])\n",
      "0364\n",
      "Starting Training\n",
      "epoch: 00, loss: -0.01719\n",
      "epoch: 01, loss: -0.03072\n",
      "epoch: 02, loss: -0.03280\n",
      "epoch: 03, loss: -0.03365\n",
      "epoch: 04, loss: -0.03396\n",
      "epoch: 05, loss: -0.03470\n",
      "epoch: 06, loss: -0.03450\n",
      "epoch: 07, loss: -0.03474\n",
      "epoch: 08, loss: -0.03482\n",
      "epoch: 09, loss: -0.03497\n",
      "torch.Size([450, 64])\n"
     ]
    },
    {
     "name": "stderr",
     "output_type": "stream",
     "text": [
      "\r",
      " 36%|█████████████████████████████████████████████████████████▉                                                                                                     | 364/1000 [2:37:05<4:50:05, 27.37s/it]"
     ]
    },
    {
     "name": "stdout",
     "output_type": "stream",
     "text": [
      "eigenvalues shape torch.Size([5]) eigenvectors shape torch.Size([5, 450])\n",
      "364 /home/phdcs2/Hard_Disk/Datasets/Deep-Spectral-Segmentation/data/object-segmentation/ECSSD/features/dino_vits16/0365.pth\n",
      "dict_keys(['k', 'indices', 'file', 'id', 'model_name', 'patch_size', 'shape'])\n",
      "0365\n",
      "Starting Training\n",
      "epoch: 00, loss: -0.08546\n",
      "epoch: 01, loss: -0.12908\n",
      "epoch: 02, loss: -0.13287\n",
      "epoch: 03, loss: -0.13419\n",
      "epoch: 04, loss: -0.13471\n",
      "epoch: 05, loss: -0.13640\n",
      "epoch: 06, loss: -0.13590\n",
      "epoch: 07, loss: -0.13628\n",
      "epoch: 08, loss: -0.13800\n",
      "epoch: 09, loss: -0.13788\n",
      "torch.Size([450, 64])\n"
     ]
    },
    {
     "name": "stderr",
     "output_type": "stream",
     "text": [
      "\r",
      " 36%|██████████████████████████████████████████████████████████                                                                                                     | 365/1000 [2:37:26<4:31:12, 25.63s/it]"
     ]
    },
    {
     "name": "stdout",
     "output_type": "stream",
     "text": [
      "eigenvalues shape torch.Size([5]) eigenvectors shape torch.Size([5, 450])\n",
      "365 /home/phdcs2/Hard_Disk/Datasets/Deep-Spectral-Segmentation/data/object-segmentation/ECSSD/features/dino_vits16/0366.pth\n",
      "dict_keys(['k', 'indices', 'file', 'id', 'model_name', 'patch_size', 'shape'])\n",
      "0366\n",
      "Starting Training\n",
      "epoch: 00, loss: -0.04700\n",
      "epoch: 01, loss: -0.06752\n",
      "epoch: 02, loss: -0.06870\n",
      "epoch: 03, loss: -0.06897\n",
      "epoch: 04, loss: -0.06913\n",
      "epoch: 05, loss: -0.06951\n",
      "epoch: 06, loss: -0.06956\n",
      "epoch: 07, loss: -0.06962\n",
      "epoch: 08, loss: -0.06969\n",
      "epoch: 09, loss: -0.06993\n",
      "torch.Size([500, 64])\n"
     ]
    },
    {
     "name": "stderr",
     "output_type": "stream",
     "text": [
      "\r",
      " 37%|██████████████████████████████████████████████████████████▏                                                                                                    | 366/1000 [2:37:53<4:35:37, 26.08s/it]"
     ]
    },
    {
     "name": "stdout",
     "output_type": "stream",
     "text": [
      "eigenvalues shape torch.Size([5]) eigenvectors shape torch.Size([5, 500])\n",
      "366 /home/phdcs2/Hard_Disk/Datasets/Deep-Spectral-Segmentation/data/object-segmentation/ECSSD/features/dino_vits16/0367.pth\n",
      "dict_keys(['k', 'indices', 'file', 'id', 'model_name', 'patch_size', 'shape'])\n",
      "0367\n",
      "Starting Training\n",
      "epoch: 00, loss: -0.01394\n",
      "epoch: 01, loss: -0.03202\n",
      "epoch: 02, loss: -0.03522\n",
      "epoch: 03, loss: -0.03609\n",
      "epoch: 04, loss: -0.03660\n",
      "epoch: 05, loss: -0.03706\n",
      "epoch: 06, loss: -0.03709\n",
      "epoch: 07, loss: -0.03723\n",
      "epoch: 08, loss: -0.03748\n",
      "epoch: 09, loss: -0.03758\n",
      "torch.Size([400, 64])\n"
     ]
    },
    {
     "name": "stderr",
     "output_type": "stream",
     "text": [
      "\r",
      " 37%|██████████████████████████████████████████████████████████▎                                                                                                    | 367/1000 [2:38:17<4:28:37, 25.46s/it]"
     ]
    },
    {
     "name": "stdout",
     "output_type": "stream",
     "text": [
      "eigenvalues shape torch.Size([5]) eigenvectors shape torch.Size([5, 400])\n",
      "367 /home/phdcs2/Hard_Disk/Datasets/Deep-Spectral-Segmentation/data/object-segmentation/ECSSD/features/dino_vits16/0368.pth\n",
      "dict_keys(['k', 'indices', 'file', 'id', 'model_name', 'patch_size', 'shape'])\n",
      "0368\n",
      "Starting Training\n",
      "epoch: 00, loss: 0.00102\n",
      "epoch: 01, loss: -0.01654\n",
      "epoch: 02, loss: -0.02213\n",
      "epoch: 03, loss: -0.02425\n",
      "epoch: 04, loss: -0.02515\n",
      "epoch: 05, loss: -0.02574\n",
      "epoch: 06, loss: -0.02608\n",
      "epoch: 07, loss: -0.02609\n",
      "epoch: 08, loss: -0.02623\n",
      "epoch: 09, loss: -0.02641\n",
      "torch.Size([400, 64])\n"
     ]
    },
    {
     "name": "stderr",
     "output_type": "stream",
     "text": [
      "\r",
      " 37%|██████████████████████████████████████████████████████████▌                                                                                                    | 368/1000 [2:38:42<4:25:21, 25.19s/it]"
     ]
    },
    {
     "name": "stdout",
     "output_type": "stream",
     "text": [
      "eigenvalues shape torch.Size([5]) eigenvectors shape torch.Size([5, 400])\n",
      "368 /home/phdcs2/Hard_Disk/Datasets/Deep-Spectral-Segmentation/data/object-segmentation/ECSSD/features/dino_vits16/0369.pth\n",
      "dict_keys(['k', 'indices', 'file', 'id', 'model_name', 'patch_size', 'shape'])\n",
      "0369\n",
      "Starting Training\n",
      "epoch: 00, loss: -0.00183\n",
      "epoch: 01, loss: -0.03783\n",
      "epoch: 02, loss: -0.04390\n",
      "epoch: 03, loss: -0.04923\n",
      "epoch: 04, loss: -0.04715\n",
      "epoch: 05, loss: -0.04740\n",
      "epoch: 06, loss: -0.04892\n",
      "epoch: 07, loss: -0.04735\n",
      "epoch: 08, loss: -0.04881\n",
      "epoch: 09, loss: -0.05102\n",
      "torch.Size([400, 64])\n"
     ]
    },
    {
     "name": "stderr",
     "output_type": "stream",
     "text": [
      "\r",
      " 37%|██████████████████████████████████████████████████████████▋                                                                                                    | 369/1000 [2:39:07<4:24:56, 25.19s/it]"
     ]
    },
    {
     "name": "stdout",
     "output_type": "stream",
     "text": [
      "eigenvalues shape torch.Size([5]) eigenvectors shape torch.Size([5, 400])\n",
      "369 /home/phdcs2/Hard_Disk/Datasets/Deep-Spectral-Segmentation/data/object-segmentation/ECSSD/features/dino_vits16/0370.pth\n",
      "dict_keys(['k', 'indices', 'file', 'id', 'model_name', 'patch_size', 'shape'])\n",
      "0370\n",
      "Starting Training\n",
      "epoch: 00, loss: 0.00332\n",
      "epoch: 01, loss: -0.00337\n",
      "epoch: 02, loss: -0.00620\n",
      "epoch: 03, loss: -0.00737\n",
      "epoch: 04, loss: -0.00812\n",
      "epoch: 05, loss: -0.00860\n",
      "epoch: 06, loss: -0.00905\n",
      "epoch: 07, loss: -0.00931\n",
      "epoch: 08, loss: -0.00952\n",
      "epoch: 09, loss: -0.00963\n",
      "torch.Size([600, 64])\n"
     ]
    },
    {
     "name": "stderr",
     "output_type": "stream",
     "text": [
      "\r",
      " 37%|██████████████████████████████████████████████████████████▊                                                                                                    | 370/1000 [2:39:51<5:23:09, 30.78s/it]"
     ]
    },
    {
     "name": "stdout",
     "output_type": "stream",
     "text": [
      "eigenvalues shape torch.Size([5]) eigenvectors shape torch.Size([5, 600])\n",
      "370 /home/phdcs2/Hard_Disk/Datasets/Deep-Spectral-Segmentation/data/object-segmentation/ECSSD/features/dino_vits16/0371.pth\n",
      "dict_keys(['k', 'indices', 'file', 'id', 'model_name', 'patch_size', 'shape'])\n",
      "0371\n",
      "Starting Training\n",
      "epoch: 00, loss: -0.04087\n",
      "epoch: 01, loss: -0.05654\n",
      "epoch: 02, loss: -0.05684\n",
      "epoch: 03, loss: -0.05703\n",
      "epoch: 04, loss: -0.05738\n",
      "epoch: 05, loss: -0.05770\n",
      "epoch: 06, loss: -0.05782\n",
      "epoch: 07, loss: -0.05765\n",
      "epoch: 08, loss: -0.05800\n",
      "epoch: 09, loss: -0.05813\n",
      "torch.Size([550, 64])\n"
     ]
    },
    {
     "name": "stderr",
     "output_type": "stream",
     "text": [
      "\r",
      " 37%|██████████████████████████████████████████████████████████▉                                                                                                    | 371/1000 [2:40:32<5:56:10, 33.98s/it]"
     ]
    },
    {
     "name": "stdout",
     "output_type": "stream",
     "text": [
      "eigenvalues shape torch.Size([5]) eigenvectors shape torch.Size([5, 550])\n",
      "371 /home/phdcs2/Hard_Disk/Datasets/Deep-Spectral-Segmentation/data/object-segmentation/ECSSD/features/dino_vits16/0372.pth\n",
      "dict_keys(['k', 'indices', 'file', 'id', 'model_name', 'patch_size', 'shape'])\n",
      "0372\n",
      "Starting Training\n",
      "epoch: 00, loss: -0.01860\n",
      "epoch: 01, loss: -0.03712\n",
      "epoch: 02, loss: -0.04133\n",
      "epoch: 03, loss: -0.04122\n",
      "epoch: 04, loss: -0.04173\n",
      "epoch: 05, loss: -0.04319\n",
      "epoch: 06, loss: -0.04407\n",
      "epoch: 07, loss: -0.04267\n",
      "epoch: 08, loss: -0.04424\n",
      "epoch: 09, loss: -0.04471\n",
      "torch.Size([600, 64])\n"
     ]
    },
    {
     "name": "stderr",
     "output_type": "stream",
     "text": [
      "\r",
      " 37%|███████████████████████████████████████████████████████████▏                                                                                                   | 372/1000 [2:41:15<6:24:10, 36.71s/it]"
     ]
    },
    {
     "name": "stdout",
     "output_type": "stream",
     "text": [
      "eigenvalues shape torch.Size([5]) eigenvectors shape torch.Size([5, 600])\n",
      "372 /home/phdcs2/Hard_Disk/Datasets/Deep-Spectral-Segmentation/data/object-segmentation/ECSSD/features/dino_vits16/0373.pth\n",
      "dict_keys(['k', 'indices', 'file', 'id', 'model_name', 'patch_size', 'shape'])\n",
      "0373\n",
      "Starting Training\n",
      "epoch: 00, loss: -0.04622\n",
      "epoch: 01, loss: -0.07297\n",
      "epoch: 02, loss: -0.07401\n",
      "epoch: 03, loss: -0.07473\n",
      "epoch: 04, loss: -0.07497\n",
      "epoch: 05, loss: -0.07485\n",
      "epoch: 06, loss: -0.07518\n",
      "epoch: 07, loss: -0.07536\n",
      "epoch: 08, loss: -0.07558\n",
      "epoch: 09, loss: -0.07556\n",
      "torch.Size([400, 64])\n"
     ]
    },
    {
     "name": "stderr",
     "output_type": "stream",
     "text": [
      "\r",
      " 37%|███████████████████████████████████████████████████████████▎                                                                                                   | 373/1000 [2:41:39<5:43:08, 32.84s/it]"
     ]
    },
    {
     "name": "stdout",
     "output_type": "stream",
     "text": [
      "eigenvalues shape torch.Size([5]) eigenvectors shape torch.Size([5, 400])\n",
      "373 /home/phdcs2/Hard_Disk/Datasets/Deep-Spectral-Segmentation/data/object-segmentation/ECSSD/features/dino_vits16/0374.pth\n",
      "dict_keys(['k', 'indices', 'file', 'id', 'model_name', 'patch_size', 'shape'])\n",
      "0374\n",
      "Starting Training\n",
      "epoch: 00, loss: -0.04468\n",
      "epoch: 01, loss: -0.06238\n",
      "epoch: 02, loss: -0.06344\n",
      "epoch: 03, loss: -0.06382\n",
      "epoch: 04, loss: -0.06409\n",
      "epoch: 05, loss: -0.06452\n",
      "epoch: 06, loss: -0.06427\n",
      "epoch: 07, loss: -0.06442\n",
      "epoch: 08, loss: -0.06456\n",
      "epoch: 09, loss: -0.06458\n",
      "torch.Size([450, 64])\n"
     ]
    },
    {
     "name": "stderr",
     "output_type": "stream",
     "text": [
      "\r",
      " 37%|███████████████████████████████████████████████████████████▍                                                                                                   | 374/1000 [2:42:04<5:17:14, 30.41s/it]"
     ]
    },
    {
     "name": "stdout",
     "output_type": "stream",
     "text": [
      "eigenvalues shape torch.Size([5]) eigenvectors shape torch.Size([5, 450])\n",
      "374 /home/phdcs2/Hard_Disk/Datasets/Deep-Spectral-Segmentation/data/object-segmentation/ECSSD/features/dino_vits16/0375.pth\n",
      "dict_keys(['k', 'indices', 'file', 'id', 'model_name', 'patch_size', 'shape'])\n",
      "0375\n",
      "Starting Training\n",
      "epoch: 00, loss: -0.07748\n",
      "epoch: 01, loss: -0.10507\n",
      "epoch: 02, loss: -0.10757\n",
      "epoch: 03, loss: -0.11050\n",
      "epoch: 04, loss: -0.11188\n",
      "epoch: 05, loss: -0.11348\n",
      "epoch: 06, loss: -0.11312\n",
      "epoch: 07, loss: -0.11206\n",
      "epoch: 08, loss: -0.11208\n",
      "epoch: 09, loss: -0.11341\n",
      "torch.Size([475, 64])\n"
     ]
    },
    {
     "name": "stderr",
     "output_type": "stream",
     "text": [
      "\r",
      " 38%|███████████████████████████████████████████████████████████▋                                                                                                   | 375/1000 [2:42:31<5:05:35, 29.34s/it]"
     ]
    },
    {
     "name": "stdout",
     "output_type": "stream",
     "text": [
      "eigenvalues shape torch.Size([5]) eigenvectors shape torch.Size([5, 475])\n",
      "375 /home/phdcs2/Hard_Disk/Datasets/Deep-Spectral-Segmentation/data/object-segmentation/ECSSD/features/dino_vits16/0376.pth\n",
      "dict_keys(['k', 'indices', 'file', 'id', 'model_name', 'patch_size', 'shape'])\n",
      "0376\n",
      "Starting Training\n",
      "epoch: 00, loss: -0.07396\n",
      "epoch: 01, loss: -0.09452\n",
      "epoch: 02, loss: -0.09678\n",
      "epoch: 03, loss: -0.09866\n",
      "epoch: 04, loss: -0.09997\n",
      "epoch: 05, loss: -0.10134\n",
      "epoch: 06, loss: -0.10012\n",
      "epoch: 07, loss: -0.10108\n",
      "epoch: 08, loss: -0.10077\n",
      "epoch: 09, loss: -0.10165\n",
      "torch.Size([625, 64])\n"
     ]
    },
    {
     "name": "stderr",
     "output_type": "stream",
     "text": [
      "\r",
      " 38%|███████████████████████████████████████████████████████████▊                                                                                                   | 376/1000 [2:43:15<5:52:23, 33.88s/it]"
     ]
    },
    {
     "name": "stdout",
     "output_type": "stream",
     "text": [
      "eigenvalues shape torch.Size([5]) eigenvectors shape torch.Size([5, 625])\n",
      "376 /home/phdcs2/Hard_Disk/Datasets/Deep-Spectral-Segmentation/data/object-segmentation/ECSSD/features/dino_vits16/0377.pth\n",
      "dict_keys(['k', 'indices', 'file', 'id', 'model_name', 'patch_size', 'shape'])\n",
      "0377\n",
      "Starting Training\n",
      "epoch: 00, loss: -0.02858\n",
      "epoch: 01, loss: -0.05457\n",
      "epoch: 02, loss: -0.05976\n",
      "epoch: 03, loss: -0.06414\n",
      "epoch: 04, loss: -0.06346\n",
      "epoch: 05, loss: -0.06372\n",
      "epoch: 06, loss: -0.06338\n",
      "epoch: 07, loss: -0.06495\n",
      "epoch: 08, loss: -0.06724\n",
      "epoch: 09, loss: -0.06759\n",
      "torch.Size([400, 64])\n"
     ]
    },
    {
     "name": "stderr",
     "output_type": "stream",
     "text": [
      "\r",
      " 38%|███████████████████████████████████████████████████████████▉                                                                                                   | 377/1000 [2:43:41<5:26:12, 31.42s/it]"
     ]
    },
    {
     "name": "stdout",
     "output_type": "stream",
     "text": [
      "eigenvalues shape torch.Size([5]) eigenvectors shape torch.Size([5, 400])\n",
      "377 /home/phdcs2/Hard_Disk/Datasets/Deep-Spectral-Segmentation/data/object-segmentation/ECSSD/features/dino_vits16/0378.pth\n",
      "dict_keys(['k', 'indices', 'file', 'id', 'model_name', 'patch_size', 'shape'])\n",
      "0378\n",
      "Starting Training\n",
      "epoch: 00, loss: -0.00834\n",
      "epoch: 01, loss: -0.02573\n",
      "epoch: 02, loss: -0.02946\n",
      "epoch: 03, loss: -0.03053\n",
      "epoch: 04, loss: -0.03134\n",
      "epoch: 05, loss: -0.03127\n",
      "epoch: 06, loss: -0.03155\n",
      "epoch: 07, loss: -0.03182\n",
      "epoch: 08, loss: -0.03192\n",
      "epoch: 09, loss: -0.03202\n",
      "torch.Size([450, 64])\n"
     ]
    },
    {
     "name": "stderr",
     "output_type": "stream",
     "text": [
      "\r",
      " 38%|████████████████████████████████████████████████████████████                                                                                                   | 378/1000 [2:44:07<5:09:32, 29.86s/it]"
     ]
    },
    {
     "name": "stdout",
     "output_type": "stream",
     "text": [
      "eigenvalues shape torch.Size([5]) eigenvectors shape torch.Size([5, 450])\n",
      "378 /home/phdcs2/Hard_Disk/Datasets/Deep-Spectral-Segmentation/data/object-segmentation/ECSSD/features/dino_vits16/0379.pth\n",
      "dict_keys(['k', 'indices', 'file', 'id', 'model_name', 'patch_size', 'shape'])\n",
      "0379\n",
      "Starting Training\n",
      "epoch: 00, loss: -0.04034\n",
      "epoch: 01, loss: -0.06457\n",
      "epoch: 02, loss: -0.06564\n",
      "epoch: 03, loss: -0.06592\n",
      "epoch: 04, loss: -0.06611\n",
      "epoch: 05, loss: -0.06642\n",
      "epoch: 06, loss: -0.06655\n",
      "epoch: 07, loss: -0.06661\n",
      "epoch: 08, loss: -0.06681\n",
      "epoch: 09, loss: -0.06696\n",
      "torch.Size([450, 64])\n"
     ]
    },
    {
     "name": "stderr",
     "output_type": "stream",
     "text": [
      "\r",
      " 38%|████████████████████████████████████████████████████████████▎                                                                                                  | 379/1000 [2:44:36<5:05:35, 29.53s/it]"
     ]
    },
    {
     "name": "stdout",
     "output_type": "stream",
     "text": [
      "eigenvalues shape torch.Size([5]) eigenvectors shape torch.Size([5, 450])\n",
      "379 /home/phdcs2/Hard_Disk/Datasets/Deep-Spectral-Segmentation/data/object-segmentation/ECSSD/features/dino_vits16/0380.pth\n",
      "dict_keys(['k', 'indices', 'file', 'id', 'model_name', 'patch_size', 'shape'])\n",
      "0380\n",
      "Starting Training\n",
      "epoch: 00, loss: -0.01103\n",
      "epoch: 01, loss: -0.02509\n",
      "epoch: 02, loss: -0.02738\n",
      "epoch: 03, loss: -0.02897\n",
      "epoch: 04, loss: -0.02914\n",
      "epoch: 05, loss: -0.02871\n",
      "epoch: 06, loss: -0.02961\n",
      "epoch: 07, loss: -0.02919\n",
      "epoch: 08, loss: -0.02998\n",
      "epoch: 09, loss: -0.02916\n",
      "torch.Size([425, 64])\n"
     ]
    },
    {
     "name": "stderr",
     "output_type": "stream",
     "text": [
      "\r",
      " 38%|████████████████████████████████████████████████████████████▍                                                                                                  | 380/1000 [2:44:59<4:45:42, 27.65s/it]"
     ]
    },
    {
     "name": "stdout",
     "output_type": "stream",
     "text": [
      "eigenvalues shape torch.Size([5]) eigenvectors shape torch.Size([5, 425])\n",
      "380 /home/phdcs2/Hard_Disk/Datasets/Deep-Spectral-Segmentation/data/object-segmentation/ECSSD/features/dino_vits16/0381.pth\n",
      "dict_keys(['k', 'indices', 'file', 'id', 'model_name', 'patch_size', 'shape'])\n",
      "0381\n",
      "Starting Training\n",
      "epoch: 00, loss: -0.02530\n",
      "epoch: 01, loss: -0.05058\n",
      "epoch: 02, loss: -0.05295\n",
      "epoch: 03, loss: -0.05314\n",
      "epoch: 04, loss: -0.05322\n",
      "epoch: 05, loss: -0.05351\n",
      "epoch: 06, loss: -0.05361\n",
      "epoch: 07, loss: -0.05379\n",
      "epoch: 08, loss: -0.05372\n",
      "epoch: 09, loss: -0.05389\n",
      "torch.Size([450, 64])\n"
     ]
    },
    {
     "name": "stderr",
     "output_type": "stream",
     "text": [
      "\r",
      " 38%|████████████████████████████████████████████████████████████▌                                                                                                  | 381/1000 [2:45:26<4:42:46, 27.41s/it]"
     ]
    },
    {
     "name": "stdout",
     "output_type": "stream",
     "text": [
      "eigenvalues shape torch.Size([5]) eigenvectors shape torch.Size([5, 450])\n",
      "381 /home/phdcs2/Hard_Disk/Datasets/Deep-Spectral-Segmentation/data/object-segmentation/ECSSD/features/dino_vits16/0382.pth\n",
      "dict_keys(['k', 'indices', 'file', 'id', 'model_name', 'patch_size', 'shape'])\n",
      "0382\n",
      "Starting Training\n",
      "epoch: 00, loss: -0.10158\n",
      "epoch: 01, loss: -0.13868\n",
      "epoch: 02, loss: -0.14451\n",
      "epoch: 03, loss: -0.14866\n",
      "epoch: 04, loss: -0.14795\n",
      "epoch: 05, loss: -0.14797\n",
      "epoch: 06, loss: -0.15107\n",
      "epoch: 07, loss: -0.15062\n",
      "epoch: 08, loss: -0.15319\n",
      "epoch: 09, loss: -0.15294\n",
      "torch.Size([425, 64])\n"
     ]
    },
    {
     "name": "stderr",
     "output_type": "stream",
     "text": [
      "\r",
      " 38%|████████████████████████████████████████████████████████████▋                                                                                                  | 382/1000 [2:45:48<4:26:13, 25.85s/it]"
     ]
    },
    {
     "name": "stdout",
     "output_type": "stream",
     "text": [
      "eigenvalues shape torch.Size([5]) eigenvectors shape torch.Size([5, 425])\n",
      "382 /home/phdcs2/Hard_Disk/Datasets/Deep-Spectral-Segmentation/data/object-segmentation/ECSSD/features/dino_vits16/0383.pth\n",
      "dict_keys(['k', 'indices', 'file', 'id', 'model_name', 'patch_size', 'shape'])\n",
      "0383\n",
      "Starting Training\n",
      "epoch: 00, loss: -0.03684\n",
      "epoch: 01, loss: -0.07118\n",
      "epoch: 02, loss: -0.07749\n",
      "epoch: 03, loss: -0.08085\n",
      "epoch: 04, loss: -0.08176\n",
      "epoch: 05, loss: -0.08244\n",
      "epoch: 06, loss: -0.08290\n",
      "epoch: 07, loss: -0.08197\n",
      "epoch: 08, loss: -0.08359\n",
      "epoch: 09, loss: -0.08459\n",
      "torch.Size([350, 64])\n"
     ]
    },
    {
     "name": "stderr",
     "output_type": "stream",
     "text": [
      "\r",
      " 38%|████████████████████████████████████████████████████████████▉                                                                                                  | 383/1000 [2:46:11<4:14:41, 24.77s/it]"
     ]
    },
    {
     "name": "stdout",
     "output_type": "stream",
     "text": [
      "eigenvalues shape torch.Size([5]) eigenvectors shape torch.Size([5, 350])\n",
      "383 /home/phdcs2/Hard_Disk/Datasets/Deep-Spectral-Segmentation/data/object-segmentation/ECSSD/features/dino_vits16/0384.pth\n",
      "dict_keys(['k', 'indices', 'file', 'id', 'model_name', 'patch_size', 'shape'])\n",
      "0384\n",
      "Starting Training\n",
      "epoch: 00, loss: -0.04568\n",
      "epoch: 01, loss: -0.06970\n",
      "epoch: 02, loss: -0.07077\n",
      "epoch: 03, loss: -0.06980\n",
      "epoch: 04, loss: -0.07148\n",
      "epoch: 05, loss: -0.07181\n",
      "epoch: 06, loss: -0.07051\n",
      "epoch: 07, loss: -0.07050\n",
      "epoch: 08, loss: -0.07062\n",
      "epoch: 09, loss: -0.07068\n",
      "torch.Size([475, 64])\n"
     ]
    },
    {
     "name": "stderr",
     "output_type": "stream",
     "text": [
      "\r",
      " 38%|█████████████████████████████████████████████████████████████                                                                                                  | 384/1000 [2:46:38<4:22:13, 25.54s/it]"
     ]
    },
    {
     "name": "stdout",
     "output_type": "stream",
     "text": [
      "eigenvalues shape torch.Size([5]) eigenvectors shape torch.Size([5, 475])\n",
      "384 /home/phdcs2/Hard_Disk/Datasets/Deep-Spectral-Segmentation/data/object-segmentation/ECSSD/features/dino_vits16/0385.pth\n",
      "dict_keys(['k', 'indices', 'file', 'id', 'model_name', 'patch_size', 'shape'])\n",
      "0385\n",
      "Starting Training\n",
      "epoch: 00, loss: -0.04351\n",
      "epoch: 01, loss: -0.06431\n",
      "epoch: 02, loss: -0.06744\n",
      "epoch: 03, loss: -0.06686\n",
      "epoch: 04, loss: -0.06671\n",
      "epoch: 05, loss: -0.06750\n",
      "epoch: 06, loss: -0.06707\n",
      "epoch: 07, loss: -0.06753\n",
      "epoch: 08, loss: -0.06804\n",
      "epoch: 09, loss: -0.06894\n",
      "torch.Size([600, 64])\n"
     ]
    },
    {
     "name": "stderr",
     "output_type": "stream",
     "text": [
      "\r",
      " 38%|█████████████████████████████████████████████████████████████▏                                                                                                 | 385/1000 [2:47:22<5:18:12, 31.05s/it]"
     ]
    },
    {
     "name": "stdout",
     "output_type": "stream",
     "text": [
      "eigenvalues shape torch.Size([5]) eigenvectors shape torch.Size([5, 600])\n",
      "385 /home/phdcs2/Hard_Disk/Datasets/Deep-Spectral-Segmentation/data/object-segmentation/ECSSD/features/dino_vits16/0386.pth\n",
      "dict_keys(['k', 'indices', 'file', 'id', 'model_name', 'patch_size', 'shape'])\n",
      "0386\n",
      "Starting Training\n",
      "epoch: 00, loss: -0.04704\n",
      "epoch: 01, loss: -0.07825\n",
      "epoch: 02, loss: -0.08236\n",
      "epoch: 03, loss: -0.08185\n",
      "epoch: 04, loss: -0.08663\n",
      "epoch: 05, loss: -0.08293\n",
      "epoch: 06, loss: -0.08668\n",
      "epoch: 07, loss: -0.08784\n",
      "epoch: 08, loss: -0.08783\n",
      "epoch: 09, loss: -0.08849\n",
      "torch.Size([400, 64])\n"
     ]
    },
    {
     "name": "stderr",
     "output_type": "stream",
     "text": [
      "\r",
      " 39%|█████████████████████████████████████████████████████████████▎                                                                                                 | 386/1000 [2:47:42<4:44:55, 27.84s/it]"
     ]
    },
    {
     "name": "stdout",
     "output_type": "stream",
     "text": [
      "eigenvalues shape torch.Size([5]) eigenvectors shape torch.Size([5, 400])\n",
      "386 /home/phdcs2/Hard_Disk/Datasets/Deep-Spectral-Segmentation/data/object-segmentation/ECSSD/features/dino_vits16/0387.pth\n",
      "dict_keys(['k', 'indices', 'file', 'id', 'model_name', 'patch_size', 'shape'])\n",
      "0387\n",
      "Starting Training\n",
      "epoch: 00, loss: -0.05304\n",
      "epoch: 01, loss: -0.08721\n",
      "epoch: 02, loss: -0.08894\n",
      "epoch: 03, loss: -0.08855\n",
      "epoch: 04, loss: -0.09169\n",
      "epoch: 05, loss: -0.09295\n",
      "epoch: 06, loss: -0.09383\n",
      "epoch: 07, loss: -0.09443\n",
      "epoch: 08, loss: -0.09605\n",
      "epoch: 09, loss: -0.09287\n",
      "torch.Size([450, 64])\n"
     ]
    },
    {
     "name": "stderr",
     "output_type": "stream",
     "text": [
      "\r",
      " 39%|█████████████████████████████████████████████████████████████▌                                                                                                 | 387/1000 [2:48:08<4:39:30, 27.36s/it]"
     ]
    },
    {
     "name": "stdout",
     "output_type": "stream",
     "text": [
      "eigenvalues shape torch.Size([5]) eigenvectors shape torch.Size([5, 450])\n",
      "387 /home/phdcs2/Hard_Disk/Datasets/Deep-Spectral-Segmentation/data/object-segmentation/ECSSD/features/dino_vits16/0388.pth\n",
      "dict_keys(['k', 'indices', 'file', 'id', 'model_name', 'patch_size', 'shape'])\n",
      "0388\n",
      "Starting Training\n",
      "epoch: 00, loss: 0.00522\n",
      "epoch: 01, loss: -0.01020\n",
      "epoch: 02, loss: -0.01596\n",
      "epoch: 03, loss: -0.01658\n",
      "epoch: 04, loss: -0.02125\n",
      "epoch: 05, loss: -0.01977\n",
      "epoch: 06, loss: -0.01723\n",
      "epoch: 07, loss: -0.01836\n",
      "epoch: 08, loss: -0.02116\n",
      "epoch: 09, loss: -0.02037\n",
      "torch.Size([500, 64])\n"
     ]
    },
    {
     "name": "stderr",
     "output_type": "stream",
     "text": [
      "\r",
      " 39%|█████████████████████████████████████████████████████████████▋                                                                                                 | 388/1000 [2:48:38<4:44:38, 27.91s/it]"
     ]
    },
    {
     "name": "stdout",
     "output_type": "stream",
     "text": [
      "eigenvalues shape torch.Size([5]) eigenvectors shape torch.Size([5, 500])\n",
      "388 /home/phdcs2/Hard_Disk/Datasets/Deep-Spectral-Segmentation/data/object-segmentation/ECSSD/features/dino_vits16/0389.pth\n",
      "dict_keys(['k', 'indices', 'file', 'id', 'model_name', 'patch_size', 'shape'])\n",
      "0389\n",
      "Starting Training\n",
      "epoch: 00, loss: -0.02981\n",
      "epoch: 01, loss: -0.05729\n",
      "epoch: 02, loss: -0.06057\n",
      "epoch: 03, loss: -0.05997\n",
      "epoch: 04, loss: -0.06015\n",
      "epoch: 05, loss: -0.06045\n",
      "epoch: 06, loss: -0.06060\n",
      "epoch: 07, loss: -0.06068\n",
      "epoch: 08, loss: -0.06087\n",
      "epoch: 09, loss: -0.06094\n",
      "torch.Size([450, 64])\n"
     ]
    },
    {
     "name": "stderr",
     "output_type": "stream",
     "text": [
      "\r",
      " 39%|█████████████████████████████████████████████████████████████▊                                                                                                 | 389/1000 [2:49:01<4:29:12, 26.44s/it]"
     ]
    },
    {
     "name": "stdout",
     "output_type": "stream",
     "text": [
      "eigenvalues shape torch.Size([5]) eigenvectors shape torch.Size([5, 450])\n",
      "389 /home/phdcs2/Hard_Disk/Datasets/Deep-Spectral-Segmentation/data/object-segmentation/ECSSD/features/dino_vits16/0390.pth\n",
      "dict_keys(['k', 'indices', 'file', 'id', 'model_name', 'patch_size', 'shape'])\n",
      "0390\n",
      "Starting Training\n",
      "epoch: 00, loss: -0.03715\n",
      "epoch: 01, loss: -0.06065\n",
      "epoch: 02, loss: -0.06427\n",
      "epoch: 03, loss: -0.06614\n",
      "epoch: 04, loss: -0.06785\n",
      "epoch: 05, loss: -0.06914\n",
      "epoch: 06, loss: -0.06973\n",
      "epoch: 07, loss: -0.06878\n",
      "epoch: 08, loss: -0.06932\n",
      "epoch: 09, loss: -0.06928\n",
      "torch.Size([450, 64])\n"
     ]
    },
    {
     "name": "stderr",
     "output_type": "stream",
     "text": [
      "\r",
      " 39%|██████████████████████████████████████████████████████████████                                                                                                 | 390/1000 [2:49:24<4:19:38, 25.54s/it]"
     ]
    },
    {
     "name": "stdout",
     "output_type": "stream",
     "text": [
      "eigenvalues shape torch.Size([5]) eigenvectors shape torch.Size([5, 450])\n",
      "390 /home/phdcs2/Hard_Disk/Datasets/Deep-Spectral-Segmentation/data/object-segmentation/ECSSD/features/dino_vits16/0391.pth\n",
      "dict_keys(['k', 'indices', 'file', 'id', 'model_name', 'patch_size', 'shape'])\n",
      "0391\n",
      "Starting Training\n",
      "epoch: 00, loss: -0.03644\n",
      "epoch: 01, loss: -0.05847\n",
      "epoch: 02, loss: -0.06827\n",
      "epoch: 03, loss: -0.06833\n",
      "epoch: 04, loss: -0.07279\n",
      "epoch: 05, loss: -0.06897\n",
      "epoch: 06, loss: -0.07132\n",
      "epoch: 07, loss: -0.07014\n",
      "epoch: 08, loss: -0.06982\n",
      "epoch: 09, loss: -0.07059\n",
      "torch.Size([400, 64])\n"
     ]
    },
    {
     "name": "stderr",
     "output_type": "stream",
     "text": [
      "\r",
      " 39%|██████████████████████████████████████████████████████████████▏                                                                                                | 391/1000 [2:49:43<4:00:27, 23.69s/it]"
     ]
    },
    {
     "name": "stdout",
     "output_type": "stream",
     "text": [
      "eigenvalues shape torch.Size([5]) eigenvectors shape torch.Size([5, 400])\n",
      "391 /home/phdcs2/Hard_Disk/Datasets/Deep-Spectral-Segmentation/data/object-segmentation/ECSSD/features/dino_vits16/0392.pth\n",
      "dict_keys(['k', 'indices', 'file', 'id', 'model_name', 'patch_size', 'shape'])\n",
      "0392\n",
      "Starting Training\n",
      "epoch: 00, loss: -0.04351\n",
      "epoch: 01, loss: -0.07541\n",
      "epoch: 02, loss: -0.08216\n",
      "epoch: 03, loss: -0.08213\n",
      "epoch: 04, loss: -0.08581\n",
      "epoch: 05, loss: -0.08559\n",
      "epoch: 06, loss: -0.08707\n",
      "epoch: 07, loss: -0.08866\n",
      "epoch: 08, loss: -0.08614\n",
      "epoch: 09, loss: -0.08816\n",
      "torch.Size([400, 64])\n"
     ]
    },
    {
     "name": "stderr",
     "output_type": "stream",
     "text": [
      "\r",
      " 39%|██████████████████████████████████████████████████████████████▎                                                                                                | 392/1000 [2:50:02<3:44:10, 22.12s/it]"
     ]
    },
    {
     "name": "stdout",
     "output_type": "stream",
     "text": [
      "eigenvalues shape torch.Size([5]) eigenvectors shape torch.Size([5, 400])\n",
      "392 /home/phdcs2/Hard_Disk/Datasets/Deep-Spectral-Segmentation/data/object-segmentation/ECSSD/features/dino_vits16/0393.pth\n",
      "dict_keys(['k', 'indices', 'file', 'id', 'model_name', 'patch_size', 'shape'])\n",
      "0393\n",
      "Starting Training\n",
      "epoch: 00, loss: -0.01746\n",
      "epoch: 01, loss: -0.04349\n",
      "epoch: 02, loss: -0.04712\n",
      "epoch: 03, loss: -0.04828\n",
      "epoch: 04, loss: -0.04840\n",
      "epoch: 05, loss: -0.04867\n",
      "epoch: 06, loss: -0.04870\n",
      "epoch: 07, loss: -0.04900\n",
      "epoch: 08, loss: -0.04913\n",
      "epoch: 09, loss: -0.04938\n",
      "torch.Size([400, 64])\n"
     ]
    },
    {
     "name": "stderr",
     "output_type": "stream",
     "text": [
      "\r",
      " 39%|██████████████████████████████████████████████████████████████▍                                                                                                | 393/1000 [2:50:20<3:32:54, 21.04s/it]"
     ]
    },
    {
     "name": "stdout",
     "output_type": "stream",
     "text": [
      "eigenvalues shape torch.Size([5]) eigenvectors shape torch.Size([5, 400])\n",
      "393 /home/phdcs2/Hard_Disk/Datasets/Deep-Spectral-Segmentation/data/object-segmentation/ECSSD/features/dino_vits16/0394.pth\n",
      "dict_keys(['k', 'indices', 'file', 'id', 'model_name', 'patch_size', 'shape'])\n",
      "0394\n",
      "Starting Training\n",
      "epoch: 00, loss: -0.03912\n",
      "epoch: 01, loss: -0.06375\n",
      "epoch: 02, loss: -0.06504\n",
      "epoch: 03, loss: -0.06603\n",
      "epoch: 04, loss: -0.06814\n",
      "epoch: 05, loss: -0.07105\n",
      "epoch: 06, loss: -0.06837\n",
      "epoch: 07, loss: -0.07059\n",
      "epoch: 08, loss: -0.07018\n",
      "epoch: 09, loss: -0.06981\n",
      "torch.Size([400, 64])\n"
     ]
    },
    {
     "name": "stderr",
     "output_type": "stream",
     "text": [
      "\r",
      " 39%|██████████████████████████████████████████████████████████████▋                                                                                                | 394/1000 [2:50:40<3:28:30, 20.64s/it]"
     ]
    },
    {
     "name": "stdout",
     "output_type": "stream",
     "text": [
      "eigenvalues shape torch.Size([5]) eigenvectors shape torch.Size([5, 400])\n",
      "394 /home/phdcs2/Hard_Disk/Datasets/Deep-Spectral-Segmentation/data/object-segmentation/ECSSD/features/dino_vits16/0395.pth\n",
      "dict_keys(['k', 'indices', 'file', 'id', 'model_name', 'patch_size', 'shape'])\n",
      "0395\n",
      "Starting Training\n",
      "epoch: 00, loss: -0.02301\n",
      "epoch: 01, loss: -0.05223\n",
      "epoch: 02, loss: -0.05727\n",
      "epoch: 03, loss: -0.06220\n",
      "epoch: 04, loss: -0.06020\n",
      "epoch: 05, loss: -0.06012\n",
      "epoch: 06, loss: -0.06290\n",
      "epoch: 07, loss: -0.06381\n",
      "epoch: 08, loss: -0.06533\n",
      "epoch: 09, loss: -0.06276\n",
      "torch.Size([400, 64])\n"
     ]
    },
    {
     "name": "stderr",
     "output_type": "stream",
     "text": [
      "\r",
      " 40%|██████████████████████████████████████████████████████████████▊                                                                                                | 395/1000 [2:51:01<3:29:18, 20.76s/it]"
     ]
    },
    {
     "name": "stdout",
     "output_type": "stream",
     "text": [
      "eigenvalues shape torch.Size([5]) eigenvectors shape torch.Size([5, 400])\n",
      "395 /home/phdcs2/Hard_Disk/Datasets/Deep-Spectral-Segmentation/data/object-segmentation/ECSSD/features/dino_vits16/0396.pth\n",
      "dict_keys(['k', 'indices', 'file', 'id', 'model_name', 'patch_size', 'shape'])\n",
      "0396\n",
      "Starting Training\n",
      "epoch: 00, loss: -0.12570\n",
      "epoch: 01, loss: -0.15594\n",
      "epoch: 02, loss: -0.15675\n",
      "epoch: 03, loss: -0.16120\n",
      "epoch: 04, loss: -0.16164\n",
      "epoch: 05, loss: -0.16134\n",
      "epoch: 06, loss: -0.16418\n",
      "epoch: 07, loss: -0.16524\n",
      "epoch: 08, loss: -0.16489\n",
      "epoch: 09, loss: -0.16272\n",
      "torch.Size([450, 64])\n"
     ]
    },
    {
     "name": "stderr",
     "output_type": "stream",
     "text": [
      "\r",
      " 40%|██████████████████████████████████████████████████████████████▉                                                                                                | 396/1000 [2:51:25<3:39:01, 21.76s/it]"
     ]
    },
    {
     "name": "stdout",
     "output_type": "stream",
     "text": [
      "eigenvalues shape torch.Size([5]) eigenvectors shape torch.Size([5, 450])\n",
      "396 /home/phdcs2/Hard_Disk/Datasets/Deep-Spectral-Segmentation/data/object-segmentation/ECSSD/features/dino_vits16/0397.pth\n",
      "dict_keys(['k', 'indices', 'file', 'id', 'model_name', 'patch_size', 'shape'])\n",
      "0397\n",
      "Starting Training\n",
      "epoch: 00, loss: -0.07954\n",
      "epoch: 01, loss: -0.11596\n",
      "epoch: 02, loss: -0.11758\n",
      "epoch: 03, loss: -0.12108\n",
      "epoch: 04, loss: -0.12397\n",
      "epoch: 05, loss: -0.12543\n",
      "epoch: 06, loss: -0.12566\n",
      "epoch: 07, loss: -0.12494\n",
      "epoch: 08, loss: -0.12621\n",
      "epoch: 09, loss: -0.12733\n",
      "torch.Size([400, 64])\n"
     ]
    },
    {
     "name": "stderr",
     "output_type": "stream",
     "text": [
      "\r",
      " 40%|███████████████████████████████████████████████████████████████                                                                                                | 397/1000 [2:51:46<3:36:02, 21.50s/it]"
     ]
    },
    {
     "name": "stdout",
     "output_type": "stream",
     "text": [
      "eigenvalues shape torch.Size([5]) eigenvectors shape torch.Size([5, 400])\n",
      "397 /home/phdcs2/Hard_Disk/Datasets/Deep-Spectral-Segmentation/data/object-segmentation/ECSSD/features/dino_vits16/0398.pth\n",
      "dict_keys(['k', 'indices', 'file', 'id', 'model_name', 'patch_size', 'shape'])\n",
      "0398\n",
      "Starting Training\n",
      "epoch: 00, loss: -0.04002\n",
      "epoch: 01, loss: -0.06752\n",
      "epoch: 02, loss: -0.06904\n",
      "epoch: 03, loss: -0.06879\n",
      "epoch: 04, loss: -0.06918\n",
      "epoch: 05, loss: -0.06960\n",
      "epoch: 06, loss: -0.06969\n",
      "epoch: 07, loss: -0.06986\n",
      "epoch: 08, loss: -0.06995\n",
      "epoch: 09, loss: -0.07011\n",
      "torch.Size([400, 64])\n"
     ]
    },
    {
     "name": "stderr",
     "output_type": "stream",
     "text": [
      "\r",
      " 40%|███████████████████████████████████████████████████████████████▎                                                                                               | 398/1000 [2:52:06<3:32:13, 21.15s/it]"
     ]
    },
    {
     "name": "stdout",
     "output_type": "stream",
     "text": [
      "eigenvalues shape torch.Size([5]) eigenvectors shape torch.Size([5, 400])\n",
      "398 /home/phdcs2/Hard_Disk/Datasets/Deep-Spectral-Segmentation/data/object-segmentation/ECSSD/features/dino_vits16/0399.pth\n",
      "dict_keys(['k', 'indices', 'file', 'id', 'model_name', 'patch_size', 'shape'])\n",
      "0399\n",
      "Starting Training\n",
      "epoch: 00, loss: -0.03011\n",
      "epoch: 01, loss: -0.05315\n",
      "epoch: 02, loss: -0.05391\n",
      "epoch: 03, loss: -0.05550\n",
      "epoch: 04, loss: -0.05673\n",
      "epoch: 05, loss: -0.05592\n",
      "epoch: 06, loss: -0.05612\n",
      "epoch: 07, loss: -0.05689\n",
      "epoch: 08, loss: -0.05647\n",
      "epoch: 09, loss: -0.05702\n",
      "torch.Size([400, 64])\n"
     ]
    },
    {
     "name": "stderr",
     "output_type": "stream",
     "text": [
      "\r",
      " 40%|███████████████████████████████████████████████████████████████▍                                                                                               | 399/1000 [2:52:28<3:31:42, 21.14s/it]"
     ]
    },
    {
     "name": "stdout",
     "output_type": "stream",
     "text": [
      "eigenvalues shape torch.Size([5]) eigenvectors shape torch.Size([5, 400])\n",
      "399 /home/phdcs2/Hard_Disk/Datasets/Deep-Spectral-Segmentation/data/object-segmentation/ECSSD/features/dino_vits16/0400.pth\n",
      "dict_keys(['k', 'indices', 'file', 'id', 'model_name', 'patch_size', 'shape'])\n",
      "0400\n",
      "Starting Training\n",
      "epoch: 00, loss: -0.02957\n",
      "epoch: 01, loss: -0.05360\n",
      "epoch: 02, loss: -0.06174\n",
      "epoch: 03, loss: -0.06053\n",
      "epoch: 04, loss: -0.06152\n",
      "epoch: 05, loss: -0.06555\n",
      "epoch: 06, loss: -0.06513\n",
      "epoch: 07, loss: -0.06697\n",
      "epoch: 08, loss: -0.06582\n",
      "epoch: 09, loss: -0.06547\n",
      "torch.Size([400, 64])\n"
     ]
    },
    {
     "name": "stderr",
     "output_type": "stream",
     "text": [
      "\r",
      " 40%|███████████████████████████████████████████████████████████████▌                                                                                               | 400/1000 [2:52:48<3:29:36, 20.96s/it]"
     ]
    },
    {
     "name": "stdout",
     "output_type": "stream",
     "text": [
      "eigenvalues shape torch.Size([5]) eigenvectors shape torch.Size([5, 400])\n",
      "400 /home/phdcs2/Hard_Disk/Datasets/Deep-Spectral-Segmentation/data/object-segmentation/ECSSD/features/dino_vits16/0401.pth\n",
      "dict_keys(['k', 'indices', 'file', 'id', 'model_name', 'patch_size', 'shape'])\n",
      "0401\n",
      "Starting Training\n",
      "epoch: 00, loss: -0.02395\n",
      "epoch: 01, loss: -0.04855\n",
      "epoch: 02, loss: -0.05060\n",
      "epoch: 03, loss: -0.05135\n",
      "epoch: 04, loss: -0.05171\n",
      "epoch: 05, loss: -0.05189\n",
      "epoch: 06, loss: -0.05211\n",
      "epoch: 07, loss: -0.05240\n",
      "epoch: 08, loss: -0.05234\n",
      "epoch: 09, loss: -0.05247\n",
      "torch.Size([400, 64])\n"
     ]
    },
    {
     "name": "stderr",
     "output_type": "stream",
     "text": [
      "\r",
      " 40%|███████████████████████████████████████████████████████████████▊                                                                                               | 401/1000 [2:53:10<3:31:09, 21.15s/it]"
     ]
    },
    {
     "name": "stdout",
     "output_type": "stream",
     "text": [
      "eigenvalues shape torch.Size([5]) eigenvectors shape torch.Size([5, 400])\n",
      "401 /home/phdcs2/Hard_Disk/Datasets/Deep-Spectral-Segmentation/data/object-segmentation/ECSSD/features/dino_vits16/0402.pth\n",
      "dict_keys(['k', 'indices', 'file', 'id', 'model_name', 'patch_size', 'shape'])\n",
      "0402\n",
      "Starting Training\n",
      "epoch: 00, loss: -0.01879\n",
      "epoch: 01, loss: -0.04111\n",
      "epoch: 02, loss: -0.04498\n",
      "epoch: 03, loss: -0.04542\n",
      "epoch: 04, loss: -0.04578\n",
      "epoch: 05, loss: -0.04595\n",
      "epoch: 06, loss: -0.04650\n",
      "epoch: 07, loss: -0.04647\n",
      "epoch: 08, loss: -0.04661\n",
      "epoch: 09, loss: -0.04667\n",
      "torch.Size([400, 64])\n"
     ]
    },
    {
     "name": "stderr",
     "output_type": "stream",
     "text": [
      "\r",
      " 40%|███████████████████████████████████████████████████████████████▉                                                                                               | 402/1000 [2:53:31<3:30:19, 21.10s/it]"
     ]
    },
    {
     "name": "stdout",
     "output_type": "stream",
     "text": [
      "eigenvalues shape torch.Size([5]) eigenvectors shape torch.Size([5, 400])\n",
      "402 /home/phdcs2/Hard_Disk/Datasets/Deep-Spectral-Segmentation/data/object-segmentation/ECSSD/features/dino_vits16/0403.pth\n",
      "dict_keys(['k', 'indices', 'file', 'id', 'model_name', 'patch_size', 'shape'])\n",
      "0403\n",
      "Starting Training\n",
      "epoch: 00, loss: -0.01080\n",
      "epoch: 01, loss: -0.03777\n",
      "epoch: 02, loss: -0.04308\n",
      "epoch: 03, loss: -0.04412\n",
      "epoch: 04, loss: -0.04466\n",
      "epoch: 05, loss: -0.04474\n",
      "epoch: 06, loss: -0.04487\n",
      "epoch: 07, loss: -0.04499\n",
      "epoch: 08, loss: -0.04509\n",
      "epoch: 09, loss: -0.04521\n",
      "torch.Size([400, 64])\n"
     ]
    },
    {
     "name": "stderr",
     "output_type": "stream",
     "text": [
      "\r",
      " 40%|████████████████████████████████████████████████████████████████                                                                                               | 403/1000 [2:53:54<3:37:11, 21.83s/it]"
     ]
    },
    {
     "name": "stdout",
     "output_type": "stream",
     "text": [
      "eigenvalues shape torch.Size([5]) eigenvectors shape torch.Size([5, 400])\n",
      "403 /home/phdcs2/Hard_Disk/Datasets/Deep-Spectral-Segmentation/data/object-segmentation/ECSSD/features/dino_vits16/0404.pth\n",
      "dict_keys(['k', 'indices', 'file', 'id', 'model_name', 'patch_size', 'shape'])\n",
      "0404\n",
      "Starting Training\n",
      "epoch: 00, loss: -0.01425\n",
      "epoch: 01, loss: -0.03501\n",
      "epoch: 02, loss: -0.03873\n",
      "epoch: 03, loss: -0.03965\n",
      "epoch: 04, loss: -0.04001\n",
      "epoch: 05, loss: -0.04026\n",
      "epoch: 06, loss: -0.04044\n",
      "epoch: 07, loss: -0.04062\n",
      "epoch: 08, loss: -0.04067\n",
      "epoch: 09, loss: -0.04076\n",
      "torch.Size([400, 64])\n"
     ]
    },
    {
     "name": "stderr",
     "output_type": "stream",
     "text": [
      "\r",
      " 40%|████████████████████████████████████████████████████████████████▏                                                                                              | 404/1000 [2:54:12<3:24:39, 20.60s/it]"
     ]
    },
    {
     "name": "stdout",
     "output_type": "stream",
     "text": [
      "eigenvalues shape torch.Size([5]) eigenvectors shape torch.Size([5, 400])\n",
      "404 /home/phdcs2/Hard_Disk/Datasets/Deep-Spectral-Segmentation/data/object-segmentation/ECSSD/features/dino_vits16/0405.pth\n",
      "dict_keys(['k', 'indices', 'file', 'id', 'model_name', 'patch_size', 'shape'])\n",
      "0405\n",
      "Starting Training\n",
      "epoch: 00, loss: -0.00249\n",
      "epoch: 01, loss: -0.02525\n",
      "epoch: 02, loss: -0.03103\n",
      "epoch: 03, loss: -0.03278\n",
      "epoch: 04, loss: -0.03348\n",
      "epoch: 05, loss: -0.03391\n",
      "epoch: 06, loss: -0.03420\n",
      "epoch: 07, loss: -0.03431\n",
      "epoch: 08, loss: -0.03451\n",
      "epoch: 09, loss: -0.03457\n",
      "torch.Size([400, 64])\n"
     ]
    },
    {
     "name": "stderr",
     "output_type": "stream",
     "text": [
      "\r",
      " 40%|████████████████████████████████████████████████████████████████▍                                                                                              | 405/1000 [2:54:35<3:31:24, 21.32s/it]"
     ]
    },
    {
     "name": "stdout",
     "output_type": "stream",
     "text": [
      "eigenvalues shape torch.Size([5]) eigenvectors shape torch.Size([5, 400])\n",
      "405 /home/phdcs2/Hard_Disk/Datasets/Deep-Spectral-Segmentation/data/object-segmentation/ECSSD/features/dino_vits16/0406.pth\n",
      "dict_keys(['k', 'indices', 'file', 'id', 'model_name', 'patch_size', 'shape'])\n",
      "0406\n",
      "Starting Training\n",
      "epoch: 00, loss: -0.02564\n",
      "epoch: 01, loss: -0.05609\n",
      "epoch: 02, loss: -0.05879\n",
      "epoch: 03, loss: -0.05980\n",
      "epoch: 04, loss: -0.06025\n",
      "epoch: 05, loss: -0.06138\n",
      "epoch: 06, loss: -0.05906\n",
      "epoch: 07, loss: -0.06124\n",
      "epoch: 08, loss: -0.06166\n",
      "epoch: 09, loss: -0.06077\n",
      "torch.Size([400, 64])\n"
     ]
    },
    {
     "name": "stderr",
     "output_type": "stream",
     "text": [
      "\r",
      " 41%|████████████████████████████████████████████████████████████████▌                                                                                              | 406/1000 [2:55:03<3:50:36, 23.29s/it]"
     ]
    },
    {
     "name": "stdout",
     "output_type": "stream",
     "text": [
      "eigenvalues shape torch.Size([5]) eigenvectors shape torch.Size([5, 400])\n",
      "406 /home/phdcs2/Hard_Disk/Datasets/Deep-Spectral-Segmentation/data/object-segmentation/ECSSD/features/dino_vits16/0407.pth\n",
      "dict_keys(['k', 'indices', 'file', 'id', 'model_name', 'patch_size', 'shape'])\n",
      "0407\n",
      "Starting Training\n",
      "epoch: 00, loss: 0.00764\n",
      "epoch: 01, loss: -0.00036\n",
      "epoch: 02, loss: -0.00420\n",
      "epoch: 03, loss: -0.00649\n",
      "epoch: 04, loss: -0.00823\n",
      "epoch: 05, loss: -0.00953\n",
      "epoch: 06, loss: -0.01028\n",
      "epoch: 07, loss: -0.01105\n",
      "epoch: 08, loss: -0.01182\n",
      "epoch: 09, loss: -0.01177\n",
      "torch.Size([400, 64])\n"
     ]
    },
    {
     "name": "stderr",
     "output_type": "stream",
     "text": [
      "\r",
      " 41%|████████████████████████████████████████████████████████████████▋                                                                                              | 407/1000 [2:55:29<3:59:40, 24.25s/it]"
     ]
    },
    {
     "name": "stdout",
     "output_type": "stream",
     "text": [
      "eigenvalues shape torch.Size([5]) eigenvectors shape torch.Size([5, 400])\n",
      "407 /home/phdcs2/Hard_Disk/Datasets/Deep-Spectral-Segmentation/data/object-segmentation/ECSSD/features/dino_vits16/0408.pth\n",
      "dict_keys(['k', 'indices', 'file', 'id', 'model_name', 'patch_size', 'shape'])\n",
      "0408\n",
      "Starting Training\n",
      "epoch: 00, loss: -0.02005\n",
      "epoch: 01, loss: -0.04374\n",
      "epoch: 02, loss: -0.04829\n",
      "epoch: 03, loss: -0.05020\n",
      "epoch: 04, loss: -0.05041\n",
      "epoch: 05, loss: -0.05128\n",
      "epoch: 06, loss: -0.05418\n",
      "epoch: 07, loss: -0.05403\n",
      "epoch: 08, loss: -0.05393\n",
      "epoch: 09, loss: -0.05252\n",
      "torch.Size([400, 64])\n"
     ]
    },
    {
     "name": "stderr",
     "output_type": "stream",
     "text": [
      "\r",
      " 41%|████████████████████████████████████████████████████████████████▊                                                                                              | 408/1000 [2:55:50<3:50:02, 23.32s/it]"
     ]
    },
    {
     "name": "stdout",
     "output_type": "stream",
     "text": [
      "eigenvalues shape torch.Size([5]) eigenvectors shape torch.Size([5, 400])\n",
      "408 /home/phdcs2/Hard_Disk/Datasets/Deep-Spectral-Segmentation/data/object-segmentation/ECSSD/features/dino_vits16/0409.pth\n",
      "dict_keys(['k', 'indices', 'file', 'id', 'model_name', 'patch_size', 'shape'])\n",
      "0409\n",
      "Starting Training\n",
      "epoch: 00, loss: -0.01110\n",
      "epoch: 01, loss: -0.03230\n",
      "epoch: 02, loss: -0.03988\n",
      "epoch: 03, loss: -0.04415\n",
      "epoch: 04, loss: -0.04322\n",
      "epoch: 05, loss: -0.04304\n",
      "epoch: 06, loss: -0.04373\n",
      "epoch: 07, loss: -0.04445\n",
      "epoch: 08, loss: -0.04566\n",
      "epoch: 09, loss: -0.04486\n",
      "torch.Size([450, 64])\n"
     ]
    },
    {
     "name": "stderr",
     "output_type": "stream",
     "text": [
      "\r",
      " 41%|█████████████████████████████████████████████████████████████████                                                                                              | 409/1000 [2:56:16<3:55:36, 23.92s/it]"
     ]
    },
    {
     "name": "stdout",
     "output_type": "stream",
     "text": [
      "eigenvalues shape torch.Size([5]) eigenvectors shape torch.Size([5, 450])\n",
      "409 /home/phdcs2/Hard_Disk/Datasets/Deep-Spectral-Segmentation/data/object-segmentation/ECSSD/features/dino_vits16/0410.pth\n",
      "dict_keys(['k', 'indices', 'file', 'id', 'model_name', 'patch_size', 'shape'])\n",
      "0410\n",
      "Starting Training\n",
      "epoch: 00, loss: -0.00464\n",
      "epoch: 01, loss: -0.01778\n",
      "epoch: 02, loss: -0.02148\n",
      "epoch: 03, loss: -0.02370\n",
      "epoch: 04, loss: -0.02564\n",
      "epoch: 05, loss: -0.02663\n",
      "epoch: 06, loss: -0.02514\n",
      "epoch: 07, loss: -0.02567\n",
      "epoch: 08, loss: -0.02550\n",
      "epoch: 09, loss: -0.02594\n",
      "torch.Size([325, 64])\n"
     ]
    },
    {
     "name": "stderr",
     "output_type": "stream",
     "text": [
      "\r",
      " 41%|█████████████████████████████████████████████████████████████████▏                                                                                             | 410/1000 [2:56:30<3:27:10, 21.07s/it]"
     ]
    },
    {
     "name": "stdout",
     "output_type": "stream",
     "text": [
      "eigenvalues shape torch.Size([5]) eigenvectors shape torch.Size([5, 325])\n",
      "410 /home/phdcs2/Hard_Disk/Datasets/Deep-Spectral-Segmentation/data/object-segmentation/ECSSD/features/dino_vits16/0411.pth\n",
      "dict_keys(['k', 'indices', 'file', 'id', 'model_name', 'patch_size', 'shape'])\n",
      "0411\n",
      "Starting Training\n",
      "epoch: 00, loss: -0.02031\n",
      "epoch: 01, loss: -0.04083\n",
      "epoch: 02, loss: -0.04314\n",
      "epoch: 03, loss: -0.04388\n",
      "epoch: 04, loss: -0.04417\n",
      "epoch: 05, loss: -0.04434\n",
      "epoch: 06, loss: -0.04474\n",
      "epoch: 07, loss: -0.04472\n",
      "epoch: 08, loss: -0.04488\n",
      "epoch: 09, loss: -0.04499\n",
      "torch.Size([450, 64])\n"
     ]
    },
    {
     "name": "stderr",
     "output_type": "stream",
     "text": [
      "\r",
      " 41%|█████████████████████████████████████████████████████████████████▎                                                                                             | 411/1000 [2:57:00<3:51:34, 23.59s/it]"
     ]
    },
    {
     "name": "stdout",
     "output_type": "stream",
     "text": [
      "eigenvalues shape torch.Size([5]) eigenvectors shape torch.Size([5, 450])\n",
      "411 /home/phdcs2/Hard_Disk/Datasets/Deep-Spectral-Segmentation/data/object-segmentation/ECSSD/features/dino_vits16/0412.pth\n",
      "dict_keys(['k', 'indices', 'file', 'id', 'model_name', 'patch_size', 'shape'])\n",
      "0412\n",
      "Starting Training\n",
      "epoch: 00, loss: -0.02434\n",
      "epoch: 01, loss: -0.04658\n",
      "epoch: 02, loss: -0.04821\n",
      "epoch: 03, loss: -0.04909\n",
      "epoch: 04, loss: -0.04892\n",
      "epoch: 05, loss: -0.04916\n",
      "epoch: 06, loss: -0.04935\n",
      "epoch: 07, loss: -0.04942\n",
      "epoch: 08, loss: -0.04965\n",
      "epoch: 09, loss: -0.04984\n",
      "torch.Size([450, 64])\n"
     ]
    },
    {
     "name": "stderr",
     "output_type": "stream",
     "text": [
      "\r",
      " 41%|█████████████████████████████████████████████████████████████████▌                                                                                             | 412/1000 [2:57:23<3:51:47, 23.65s/it]"
     ]
    },
    {
     "name": "stdout",
     "output_type": "stream",
     "text": [
      "eigenvalues shape torch.Size([5]) eigenvectors shape torch.Size([5, 450])\n",
      "412 /home/phdcs2/Hard_Disk/Datasets/Deep-Spectral-Segmentation/data/object-segmentation/ECSSD/features/dino_vits16/0413.pth\n",
      "dict_keys(['k', 'indices', 'file', 'id', 'model_name', 'patch_size', 'shape'])\n",
      "0413\n",
      "Starting Training\n",
      "epoch: 00, loss: -0.06269\n",
      "epoch: 01, loss: -0.09315\n",
      "epoch: 02, loss: -0.09674\n",
      "epoch: 03, loss: -0.09950\n",
      "epoch: 04, loss: -0.09995\n",
      "epoch: 05, loss: -0.09792\n",
      "epoch: 06, loss: -0.10163\n",
      "epoch: 07, loss: -0.09939\n",
      "epoch: 08, loss: -0.10085\n",
      "epoch: 09, loss: -0.09993\n",
      "torch.Size([450, 64])\n"
     ]
    },
    {
     "name": "stderr",
     "output_type": "stream",
     "text": [
      "\r",
      " 41%|█████████████████████████████████████████████████████████████████▋                                                                                             | 413/1000 [2:57:48<3:52:43, 23.79s/it]"
     ]
    },
    {
     "name": "stdout",
     "output_type": "stream",
     "text": [
      "eigenvalues shape torch.Size([5]) eigenvectors shape torch.Size([5, 450])\n",
      "413 /home/phdcs2/Hard_Disk/Datasets/Deep-Spectral-Segmentation/data/object-segmentation/ECSSD/features/dino_vits16/0414.pth\n",
      "dict_keys(['k', 'indices', 'file', 'id', 'model_name', 'patch_size', 'shape'])\n",
      "0414\n",
      "Starting Training\n",
      "epoch: 00, loss: -0.07217\n",
      "epoch: 01, loss: -0.09919\n",
      "epoch: 02, loss: -0.10174\n",
      "epoch: 03, loss: -0.10090\n",
      "epoch: 04, loss: -0.10487\n",
      "epoch: 05, loss: -0.10294\n",
      "epoch: 06, loss: -0.10352\n",
      "epoch: 07, loss: -0.10333\n",
      "epoch: 08, loss: -0.10523\n",
      "epoch: 09, loss: -0.10493\n",
      "torch.Size([450, 64])\n"
     ]
    },
    {
     "name": "stderr",
     "output_type": "stream",
     "text": [
      "\r",
      " 41%|█████████████████████████████████████████████████████████████████▊                                                                                             | 414/1000 [2:58:09<3:46:03, 23.15s/it]"
     ]
    },
    {
     "name": "stdout",
     "output_type": "stream",
     "text": [
      "eigenvalues shape torch.Size([5]) eigenvectors shape torch.Size([5, 450])\n",
      "414 /home/phdcs2/Hard_Disk/Datasets/Deep-Spectral-Segmentation/data/object-segmentation/ECSSD/features/dino_vits16/0415.pth\n",
      "dict_keys(['k', 'indices', 'file', 'id', 'model_name', 'patch_size', 'shape'])\n",
      "0415\n",
      "Starting Training\n",
      "epoch: 00, loss: -0.04647\n",
      "epoch: 01, loss: -0.08216\n",
      "epoch: 02, loss: -0.08383\n",
      "epoch: 03, loss: -0.08283\n",
      "epoch: 04, loss: -0.08939\n",
      "epoch: 05, loss: -0.08547\n",
      "epoch: 06, loss: -0.08669\n",
      "epoch: 07, loss: -0.08872\n",
      "epoch: 08, loss: -0.09084\n",
      "epoch: 09, loss: -0.09033\n",
      "torch.Size([450, 64])\n"
     ]
    },
    {
     "name": "stderr",
     "output_type": "stream",
     "text": [
      "\r",
      " 42%|█████████████████████████████████████████████████████████████████▉                                                                                             | 415/1000 [2:58:29<3:37:06, 22.27s/it]"
     ]
    },
    {
     "name": "stdout",
     "output_type": "stream",
     "text": [
      "eigenvalues shape torch.Size([5]) eigenvectors shape torch.Size([5, 450])\n",
      "415 /home/phdcs2/Hard_Disk/Datasets/Deep-Spectral-Segmentation/data/object-segmentation/ECSSD/features/dino_vits16/0416.pth\n",
      "dict_keys(['k', 'indices', 'file', 'id', 'model_name', 'patch_size', 'shape'])\n",
      "0416\n",
      "Starting Training\n",
      "epoch: 00, loss: -0.04690\n",
      "epoch: 01, loss: -0.07798\n",
      "epoch: 02, loss: -0.08173\n",
      "epoch: 03, loss: -0.08491\n",
      "epoch: 04, loss: -0.08341\n",
      "epoch: 05, loss: -0.08617\n",
      "epoch: 06, loss: -0.08485\n",
      "epoch: 07, loss: -0.08587\n",
      "epoch: 08, loss: -0.08512\n",
      "epoch: 09, loss: -0.08712\n",
      "torch.Size([450, 64])\n"
     ]
    },
    {
     "name": "stderr",
     "output_type": "stream",
     "text": [
      "\r",
      " 42%|██████████████████████████████████████████████████████████████████▏                                                                                            | 416/1000 [2:58:52<3:37:29, 22.35s/it]"
     ]
    },
    {
     "name": "stdout",
     "output_type": "stream",
     "text": [
      "eigenvalues shape torch.Size([5]) eigenvectors shape torch.Size([5, 450])\n",
      "416 /home/phdcs2/Hard_Disk/Datasets/Deep-Spectral-Segmentation/data/object-segmentation/ECSSD/features/dino_vits16/0417.pth\n",
      "dict_keys(['k', 'indices', 'file', 'id', 'model_name', 'patch_size', 'shape'])\n",
      "0417\n",
      "Starting Training\n",
      "epoch: 00, loss: -0.01615\n",
      "epoch: 01, loss: -0.03358\n",
      "epoch: 02, loss: -0.03621\n",
      "epoch: 03, loss: -0.03687\n",
      "epoch: 04, loss: -0.03724\n",
      "epoch: 05, loss: -0.03730\n",
      "epoch: 06, loss: -0.03753\n",
      "epoch: 07, loss: -0.03765\n",
      "epoch: 08, loss: -0.03774\n",
      "epoch: 09, loss: -0.03801\n",
      "torch.Size([450, 64])\n"
     ]
    },
    {
     "name": "stderr",
     "output_type": "stream",
     "text": [
      "\r",
      " 42%|██████████████████████████████████████████████████████████████████▎                                                                                            | 417/1000 [2:59:16<3:41:39, 22.81s/it]"
     ]
    },
    {
     "name": "stdout",
     "output_type": "stream",
     "text": [
      "eigenvalues shape torch.Size([5]) eigenvectors shape torch.Size([5, 450])\n",
      "417 /home/phdcs2/Hard_Disk/Datasets/Deep-Spectral-Segmentation/data/object-segmentation/ECSSD/features/dino_vits16/0418.pth\n",
      "dict_keys(['k', 'indices', 'file', 'id', 'model_name', 'patch_size', 'shape'])\n",
      "0418\n",
      "Starting Training\n",
      "epoch: 00, loss: -0.04944\n",
      "epoch: 01, loss: -0.06617\n",
      "epoch: 02, loss: -0.06702\n",
      "epoch: 03, loss: -0.06754\n",
      "epoch: 04, loss: -0.06788\n",
      "epoch: 05, loss: -0.06811\n",
      "epoch: 06, loss: -0.06835\n",
      "epoch: 07, loss: -0.06850\n",
      "epoch: 08, loss: -0.06870\n",
      "epoch: 09, loss: -0.06866\n",
      "torch.Size([450, 64])\n"
     ]
    },
    {
     "name": "stderr",
     "output_type": "stream",
     "text": [
      "\r",
      " 42%|██████████████████████████████████████████████████████████████████▍                                                                                            | 418/1000 [2:59:43<3:53:21, 24.06s/it]"
     ]
    },
    {
     "name": "stdout",
     "output_type": "stream",
     "text": [
      "eigenvalues shape torch.Size([5]) eigenvectors shape torch.Size([5, 450])\n",
      "418 /home/phdcs2/Hard_Disk/Datasets/Deep-Spectral-Segmentation/data/object-segmentation/ECSSD/features/dino_vits16/0419.pth\n",
      "dict_keys(['k', 'indices', 'file', 'id', 'model_name', 'patch_size', 'shape'])\n",
      "0419\n",
      "Starting Training\n",
      "epoch: 00, loss: -0.06912\n",
      "epoch: 01, loss: -0.09829\n",
      "epoch: 02, loss: -0.10655\n",
      "epoch: 03, loss: -0.10700\n",
      "epoch: 04, loss: -0.10491\n",
      "epoch: 05, loss: -0.10861\n",
      "epoch: 06, loss: -0.11151\n",
      "epoch: 07, loss: -0.10901\n",
      "epoch: 08, loss: -0.11021\n",
      "epoch: 09, loss: -0.11162\n",
      "torch.Size([450, 64])\n"
     ]
    },
    {
     "name": "stderr",
     "output_type": "stream",
     "text": [
      "\r",
      " 42%|██████████████████████████████████████████████████████████████████▌                                                                                            | 419/1000 [3:00:08<3:54:59, 24.27s/it]"
     ]
    },
    {
     "name": "stdout",
     "output_type": "stream",
     "text": [
      "eigenvalues shape torch.Size([5]) eigenvectors shape torch.Size([5, 450])\n",
      "419 /home/phdcs2/Hard_Disk/Datasets/Deep-Spectral-Segmentation/data/object-segmentation/ECSSD/features/dino_vits16/0420.pth\n",
      "dict_keys(['k', 'indices', 'file', 'id', 'model_name', 'patch_size', 'shape'])\n",
      "0420\n",
      "Starting Training\n",
      "epoch: 00, loss: -0.05129\n",
      "epoch: 01, loss: -0.06808\n",
      "epoch: 02, loss: -0.06773\n",
      "epoch: 03, loss: -0.06921\n",
      "epoch: 04, loss: -0.06847\n",
      "epoch: 05, loss: -0.06868\n",
      "epoch: 06, loss: -0.06961\n",
      "epoch: 07, loss: -0.06874\n",
      "epoch: 08, loss: -0.07029\n",
      "epoch: 09, loss: -0.06910\n",
      "torch.Size([575, 64])\n"
     ]
    },
    {
     "name": "stderr",
     "output_type": "stream",
     "text": [
      "\r",
      " 42%|██████████████████████████████████████████████████████████████████▊                                                                                            | 420/1000 [3:00:51<4:48:50, 29.88s/it]"
     ]
    },
    {
     "name": "stdout",
     "output_type": "stream",
     "text": [
      "eigenvalues shape torch.Size([5]) eigenvectors shape torch.Size([5, 575])\n",
      "420 /home/phdcs2/Hard_Disk/Datasets/Deep-Spectral-Segmentation/data/object-segmentation/ECSSD/features/dino_vits16/0421.pth\n",
      "dict_keys(['k', 'indices', 'file', 'id', 'model_name', 'patch_size', 'shape'])\n",
      "0421\n",
      "Starting Training\n",
      "epoch: 00, loss: -0.07485\n",
      "epoch: 01, loss: -0.09693\n",
      "epoch: 02, loss: -0.10023\n",
      "epoch: 03, loss: -0.10095\n",
      "epoch: 04, loss: -0.10099\n",
      "epoch: 05, loss: -0.10237\n",
      "epoch: 06, loss: -0.10443\n",
      "epoch: 07, loss: -0.10343\n",
      "epoch: 08, loss: -0.10382\n",
      "epoch: 09, loss: -0.10571\n",
      "torch.Size([525, 64])\n"
     ]
    },
    {
     "name": "stderr",
     "output_type": "stream",
     "text": [
      "\r",
      " 42%|██████████████████████████████████████████████████████████████████▉                                                                                            | 421/1000 [3:01:32<5:21:44, 33.34s/it]"
     ]
    },
    {
     "name": "stdout",
     "output_type": "stream",
     "text": [
      "eigenvalues shape torch.Size([5]) eigenvectors shape torch.Size([5, 525])\n",
      "421 /home/phdcs2/Hard_Disk/Datasets/Deep-Spectral-Segmentation/data/object-segmentation/ECSSD/features/dino_vits16/0422.pth\n",
      "dict_keys(['k', 'indices', 'file', 'id', 'model_name', 'patch_size', 'shape'])\n",
      "0422\n",
      "Starting Training\n",
      "epoch: 00, loss: -0.03270\n",
      "epoch: 01, loss: -0.05058\n",
      "epoch: 02, loss: -0.05198\n",
      "epoch: 03, loss: -0.05222\n",
      "epoch: 04, loss: -0.05247\n",
      "epoch: 05, loss: -0.05261\n",
      "epoch: 06, loss: -0.05287\n",
      "epoch: 07, loss: -0.05281\n",
      "epoch: 08, loss: -0.05301\n",
      "epoch: 09, loss: -0.05303\n",
      "torch.Size([450, 64])\n"
     ]
    },
    {
     "name": "stderr",
     "output_type": "stream",
     "text": [
      "\r",
      " 42%|███████████████████████████████████████████████████████████████████                                                                                            | 422/1000 [3:01:59<5:03:04, 31.46s/it]"
     ]
    },
    {
     "name": "stdout",
     "output_type": "stream",
     "text": [
      "eigenvalues shape torch.Size([5]) eigenvectors shape torch.Size([5, 450])\n",
      "422 /home/phdcs2/Hard_Disk/Datasets/Deep-Spectral-Segmentation/data/object-segmentation/ECSSD/features/dino_vits16/0423.pth\n",
      "dict_keys(['k', 'indices', 'file', 'id', 'model_name', 'patch_size', 'shape'])\n",
      "0423\n",
      "Starting Training\n",
      "epoch: 00, loss: 0.00205\n",
      "epoch: 01, loss: -0.01293\n",
      "epoch: 02, loss: -0.01812\n",
      "epoch: 03, loss: -0.01959\n",
      "epoch: 04, loss: -0.02211\n",
      "epoch: 05, loss: -0.02139\n",
      "epoch: 06, loss: -0.02315\n",
      "epoch: 07, loss: -0.02231\n",
      "epoch: 08, loss: -0.02377\n",
      "epoch: 09, loss: -0.02458\n",
      "torch.Size([425, 64])\n"
     ]
    },
    {
     "name": "stderr",
     "output_type": "stream",
     "text": [
      "\r",
      " 42%|███████████████████████████████████████████████████████████████████▎                                                                                           | 423/1000 [3:02:20<4:32:01, 28.29s/it]"
     ]
    },
    {
     "name": "stdout",
     "output_type": "stream",
     "text": [
      "eigenvalues shape torch.Size([5]) eigenvectors shape torch.Size([5, 425])\n",
      "423 /home/phdcs2/Hard_Disk/Datasets/Deep-Spectral-Segmentation/data/object-segmentation/ECSSD/features/dino_vits16/0424.pth\n",
      "dict_keys(['k', 'indices', 'file', 'id', 'model_name', 'patch_size', 'shape'])\n",
      "0424\n",
      "Starting Training\n",
      "epoch: 00, loss: -0.01649\n",
      "epoch: 01, loss: -0.04042\n",
      "epoch: 02, loss: -0.04547\n",
      "epoch: 03, loss: -0.04729\n",
      "epoch: 04, loss: -0.04840\n",
      "epoch: 05, loss: -0.04692\n",
      "epoch: 06, loss: -0.04833\n",
      "epoch: 07, loss: -0.04740\n",
      "epoch: 08, loss: -0.05056\n",
      "epoch: 09, loss: -0.05044\n",
      "torch.Size([550, 64])\n"
     ]
    },
    {
     "name": "stderr",
     "output_type": "stream",
     "text": [
      "\r",
      " 42%|███████████████████████████████████████████████████████████████████▍                                                                                           | 424/1000 [3:02:55<4:50:41, 30.28s/it]"
     ]
    },
    {
     "name": "stdout",
     "output_type": "stream",
     "text": [
      "eigenvalues shape torch.Size([5]) eigenvectors shape torch.Size([5, 550])\n",
      "424 /home/phdcs2/Hard_Disk/Datasets/Deep-Spectral-Segmentation/data/object-segmentation/ECSSD/features/dino_vits16/0425.pth\n",
      "dict_keys(['k', 'indices', 'file', 'id', 'model_name', 'patch_size', 'shape'])\n",
      "0425\n",
      "Starting Training\n",
      "epoch: 00, loss: 0.00177\n",
      "epoch: 01, loss: -0.00787\n",
      "epoch: 02, loss: -0.01441\n",
      "epoch: 03, loss: -0.01680\n",
      "epoch: 04, loss: -0.01891\n",
      "epoch: 05, loss: -0.02157\n",
      "epoch: 06, loss: -0.02176\n",
      "epoch: 07, loss: -0.02215\n",
      "epoch: 08, loss: -0.02356\n",
      "epoch: 09, loss: -0.02304\n",
      "torch.Size([475, 64])\n"
     ]
    },
    {
     "name": "stderr",
     "output_type": "stream",
     "text": [
      "\r",
      " 42%|███████████████████████████████████████████████████████████████████▌                                                                                           | 425/1000 [3:03:19<4:32:01, 28.38s/it]"
     ]
    },
    {
     "name": "stdout",
     "output_type": "stream",
     "text": [
      "eigenvalues shape torch.Size([5]) eigenvectors shape torch.Size([5, 475])\n",
      "425 /home/phdcs2/Hard_Disk/Datasets/Deep-Spectral-Segmentation/data/object-segmentation/ECSSD/features/dino_vits16/0426.pth\n",
      "dict_keys(['k', 'indices', 'file', 'id', 'model_name', 'patch_size', 'shape'])\n",
      "0426\n",
      "Starting Training\n",
      "epoch: 00, loss: -0.03038\n",
      "epoch: 01, loss: -0.06125\n",
      "epoch: 02, loss: -0.06177\n",
      "epoch: 03, loss: -0.06223\n",
      "epoch: 04, loss: -0.06571\n",
      "epoch: 05, loss: -0.06717\n",
      "epoch: 06, loss: -0.06792\n",
      "epoch: 07, loss: -0.06669\n",
      "epoch: 08, loss: -0.06683\n",
      "epoch: 09, loss: -0.06884\n",
      "torch.Size([500, 64])\n"
     ]
    },
    {
     "name": "stderr",
     "output_type": "stream",
     "text": [
      "\r",
      " 43%|███████████████████████████████████████████████████████████████████▋                                                                                           | 426/1000 [3:03:49<4:37:16, 28.98s/it]"
     ]
    },
    {
     "name": "stdout",
     "output_type": "stream",
     "text": [
      "eigenvalues shape torch.Size([5]) eigenvectors shape torch.Size([5, 500])\n",
      "426 /home/phdcs2/Hard_Disk/Datasets/Deep-Spectral-Segmentation/data/object-segmentation/ECSSD/features/dino_vits16/0427.pth\n",
      "dict_keys(['k', 'indices', 'file', 'id', 'model_name', 'patch_size', 'shape'])\n",
      "0427\n",
      "Starting Training\n",
      "epoch: 00, loss: -0.06811\n",
      "epoch: 01, loss: -0.08859\n",
      "epoch: 02, loss: -0.08807\n",
      "epoch: 03, loss: -0.08964\n",
      "epoch: 04, loss: -0.08926\n",
      "epoch: 05, loss: -0.08955\n",
      "epoch: 06, loss: -0.08926\n",
      "epoch: 07, loss: -0.08978\n",
      "epoch: 08, loss: -0.09007\n",
      "epoch: 09, loss: -0.08941\n",
      "torch.Size([450, 64])\n"
     ]
    },
    {
     "name": "stderr",
     "output_type": "stream",
     "text": [
      "\r",
      " 43%|███████████████████████████████████████████████████████████████████▉                                                                                           | 427/1000 [3:04:12<4:19:24, 27.16s/it]"
     ]
    },
    {
     "name": "stdout",
     "output_type": "stream",
     "text": [
      "eigenvalues shape torch.Size([5]) eigenvectors shape torch.Size([5, 450])\n",
      "427 /home/phdcs2/Hard_Disk/Datasets/Deep-Spectral-Segmentation/data/object-segmentation/ECSSD/features/dino_vits16/0428.pth\n",
      "dict_keys(['k', 'indices', 'file', 'id', 'model_name', 'patch_size', 'shape'])\n",
      "0428\n",
      "Starting Training\n",
      "epoch: 00, loss: -0.05801\n",
      "epoch: 01, loss: -0.08071\n",
      "epoch: 02, loss: -0.08187\n",
      "epoch: 03, loss: -0.08336\n",
      "epoch: 04, loss: -0.08282\n",
      "epoch: 05, loss: -0.08288\n",
      "epoch: 06, loss: -0.08374\n",
      "epoch: 07, loss: -0.08420\n",
      "epoch: 08, loss: -0.08379\n",
      "epoch: 09, loss: -0.08443\n",
      "torch.Size([400, 64])\n"
     ]
    },
    {
     "name": "stderr",
     "output_type": "stream",
     "text": [
      "\r",
      " 43%|████████████████████████████████████████████████████████████████████                                                                                           | 428/1000 [3:04:31<3:55:44, 24.73s/it]"
     ]
    },
    {
     "name": "stdout",
     "output_type": "stream",
     "text": [
      "eigenvalues shape torch.Size([5]) eigenvectors shape torch.Size([5, 400])\n",
      "428 /home/phdcs2/Hard_Disk/Datasets/Deep-Spectral-Segmentation/data/object-segmentation/ECSSD/features/dino_vits16/0429.pth\n",
      "dict_keys(['k', 'indices', 'file', 'id', 'model_name', 'patch_size', 'shape'])\n",
      "0429\n",
      "Starting Training\n",
      "epoch: 00, loss: -0.05540\n",
      "epoch: 01, loss: -0.08521\n",
      "epoch: 02, loss: -0.08887\n",
      "epoch: 03, loss: -0.09151\n",
      "epoch: 04, loss: -0.09226\n",
      "epoch: 05, loss: -0.09479\n",
      "epoch: 06, loss: -0.09492\n",
      "epoch: 07, loss: -0.09551\n",
      "epoch: 08, loss: -0.09296\n",
      "epoch: 09, loss: -0.09618\n",
      "torch.Size([375, 64])\n"
     ]
    },
    {
     "name": "stderr",
     "output_type": "stream",
     "text": [
      "\r",
      " 43%|████████████████████████████████████████████████████████████████████▏                                                                                          | 429/1000 [3:04:46<3:27:11, 21.77s/it]"
     ]
    },
    {
     "name": "stdout",
     "output_type": "stream",
     "text": [
      "eigenvalues shape torch.Size([5]) eigenvectors shape torch.Size([5, 375])\n",
      "429 /home/phdcs2/Hard_Disk/Datasets/Deep-Spectral-Segmentation/data/object-segmentation/ECSSD/features/dino_vits16/0430.pth\n",
      "dict_keys(['k', 'indices', 'file', 'id', 'model_name', 'patch_size', 'shape'])\n",
      "0430\n",
      "Starting Training\n",
      "epoch: 00, loss: -0.05035\n",
      "epoch: 01, loss: -0.07751\n",
      "epoch: 02, loss: -0.08432\n",
      "epoch: 03, loss: -0.08544\n",
      "epoch: 04, loss: -0.08288\n",
      "epoch: 05, loss: -0.08726\n",
      "epoch: 06, loss: -0.08593\n",
      "epoch: 07, loss: -0.08569\n",
      "epoch: 08, loss: -0.08799\n",
      "epoch: 09, loss: -0.08783\n",
      "torch.Size([500, 64])\n"
     ]
    },
    {
     "name": "stderr",
     "output_type": "stream",
     "text": [
      "\r",
      " 43%|████████████████████████████████████████████████████████████████████▎                                                                                          | 430/1000 [3:05:17<3:53:26, 24.57s/it]"
     ]
    },
    {
     "name": "stdout",
     "output_type": "stream",
     "text": [
      "eigenvalues shape torch.Size([5]) eigenvectors shape torch.Size([5, 500])\n",
      "430 /home/phdcs2/Hard_Disk/Datasets/Deep-Spectral-Segmentation/data/object-segmentation/ECSSD/features/dino_vits16/0431.pth\n",
      "dict_keys(['k', 'indices', 'file', 'id', 'model_name', 'patch_size', 'shape'])\n",
      "0431\n",
      "Starting Training\n",
      "epoch: 00, loss: -0.03189\n",
      "epoch: 01, loss: -0.05862\n",
      "epoch: 02, loss: -0.06857\n",
      "epoch: 03, loss: -0.06933\n",
      "epoch: 04, loss: -0.06918\n",
      "epoch: 05, loss: -0.07344\n",
      "epoch: 06, loss: -0.07288\n",
      "epoch: 07, loss: -0.07266\n",
      "epoch: 08, loss: -0.07245\n",
      "epoch: 09, loss: -0.07367\n",
      "torch.Size([400, 64])\n"
     ]
    },
    {
     "name": "stderr",
     "output_type": "stream",
     "text": [
      "\r",
      " 43%|████████████████████████████████████████████████████████████████████▌                                                                                          | 431/1000 [3:05:37<3:39:36, 23.16s/it]"
     ]
    },
    {
     "name": "stdout",
     "output_type": "stream",
     "text": [
      "eigenvalues shape torch.Size([5]) eigenvectors shape torch.Size([5, 400])\n",
      "431 /home/phdcs2/Hard_Disk/Datasets/Deep-Spectral-Segmentation/data/object-segmentation/ECSSD/features/dino_vits16/0432.pth\n",
      "dict_keys(['k', 'indices', 'file', 'id', 'model_name', 'patch_size', 'shape'])\n",
      "0432\n",
      "Starting Training\n",
      "epoch: 00, loss: -0.01986\n",
      "epoch: 01, loss: -0.04208\n",
      "epoch: 02, loss: -0.04853\n",
      "epoch: 03, loss: -0.04798\n",
      "epoch: 04, loss: -0.04927\n",
      "epoch: 05, loss: -0.05227\n",
      "epoch: 06, loss: -0.05096\n",
      "epoch: 07, loss: -0.05032\n",
      "epoch: 08, loss: -0.04999\n",
      "epoch: 09, loss: -0.05248\n",
      "torch.Size([425, 64])\n"
     ]
    },
    {
     "name": "stderr",
     "output_type": "stream",
     "text": [
      "\r",
      " 43%|████████████████████████████████████████████████████████████████████▋                                                                                          | 432/1000 [3:05:57<3:30:56, 22.28s/it]"
     ]
    },
    {
     "name": "stdout",
     "output_type": "stream",
     "text": [
      "eigenvalues shape torch.Size([5]) eigenvectors shape torch.Size([5, 425])\n",
      "432 /home/phdcs2/Hard_Disk/Datasets/Deep-Spectral-Segmentation/data/object-segmentation/ECSSD/features/dino_vits16/0433.pth\n",
      "dict_keys(['k', 'indices', 'file', 'id', 'model_name', 'patch_size', 'shape'])\n",
      "0433\n",
      "Starting Training\n",
      "epoch: 00, loss: -0.02437\n",
      "epoch: 01, loss: -0.04429\n",
      "epoch: 02, loss: -0.04797\n",
      "epoch: 03, loss: -0.04712\n",
      "epoch: 04, loss: -0.04996\n",
      "epoch: 05, loss: -0.04996\n",
      "epoch: 06, loss: -0.05070\n",
      "epoch: 07, loss: -0.04939\n",
      "epoch: 08, loss: -0.05077\n",
      "epoch: 09, loss: -0.05157\n",
      "torch.Size([475, 64])\n"
     ]
    },
    {
     "name": "stderr",
     "output_type": "stream",
     "text": [
      "\r",
      " 43%|████████████████████████████████████████████████████████████████████▊                                                                                          | 433/1000 [3:06:22<3:37:46, 23.05s/it]"
     ]
    },
    {
     "name": "stdout",
     "output_type": "stream",
     "text": [
      "eigenvalues shape torch.Size([5]) eigenvectors shape torch.Size([5, 475])\n",
      "433 /home/phdcs2/Hard_Disk/Datasets/Deep-Spectral-Segmentation/data/object-segmentation/ECSSD/features/dino_vits16/0434.pth\n",
      "dict_keys(['k', 'indices', 'file', 'id', 'model_name', 'patch_size', 'shape'])\n",
      "0434\n",
      "Starting Training\n",
      "epoch: 00, loss: -0.03521\n",
      "epoch: 01, loss: -0.05881\n",
      "epoch: 02, loss: -0.06260\n",
      "epoch: 03, loss: -0.06283\n",
      "epoch: 04, loss: -0.06407\n",
      "epoch: 05, loss: -0.06551\n",
      "epoch: 06, loss: -0.06509\n",
      "epoch: 07, loss: -0.06477\n",
      "epoch: 08, loss: -0.06651\n",
      "epoch: 09, loss: -0.06656\n",
      "torch.Size([450, 64])\n"
     ]
    },
    {
     "name": "stderr",
     "output_type": "stream",
     "text": [
      "\r",
      " 43%|█████████████████████████████████████████████████████████████████████                                                                                          | 434/1000 [3:06:45<3:37:02, 23.01s/it]"
     ]
    },
    {
     "name": "stdout",
     "output_type": "stream",
     "text": [
      "eigenvalues shape torch.Size([5]) eigenvectors shape torch.Size([5, 450])\n",
      "434 /home/phdcs2/Hard_Disk/Datasets/Deep-Spectral-Segmentation/data/object-segmentation/ECSSD/features/dino_vits16/0435.pth\n",
      "dict_keys(['k', 'indices', 'file', 'id', 'model_name', 'patch_size', 'shape'])\n",
      "0435\n",
      "Starting Training\n",
      "epoch: 00, loss: -0.04891\n",
      "epoch: 01, loss: -0.08554\n",
      "epoch: 02, loss: -0.08776\n",
      "epoch: 03, loss: -0.08717\n",
      "epoch: 04, loss: -0.08888\n",
      "epoch: 05, loss: -0.08986\n",
      "epoch: 06, loss: -0.09197\n",
      "epoch: 07, loss: -0.09078\n",
      "epoch: 08, loss: -0.09018\n",
      "epoch: 09, loss: -0.08989\n",
      "torch.Size([450, 64])\n"
     ]
    },
    {
     "name": "stderr",
     "output_type": "stream",
     "text": [
      "\r",
      " 44%|█████████████████████████████████████████████████████████████████████▏                                                                                         | 435/1000 [3:07:06<3:31:48, 22.49s/it]"
     ]
    },
    {
     "name": "stdout",
     "output_type": "stream",
     "text": [
      "eigenvalues shape torch.Size([5]) eigenvectors shape torch.Size([5, 450])\n",
      "435 /home/phdcs2/Hard_Disk/Datasets/Deep-Spectral-Segmentation/data/object-segmentation/ECSSD/features/dino_vits16/0436.pth\n",
      "dict_keys(['k', 'indices', 'file', 'id', 'model_name', 'patch_size', 'shape'])\n",
      "0436\n",
      "Starting Training\n",
      "epoch: 00, loss: -0.04011\n",
      "epoch: 01, loss: -0.05862\n",
      "epoch: 02, loss: -0.06120\n",
      "epoch: 03, loss: -0.06072\n",
      "epoch: 04, loss: -0.06067\n",
      "epoch: 05, loss: -0.06214\n",
      "epoch: 06, loss: -0.06161\n",
      "epoch: 07, loss: -0.06136\n",
      "epoch: 08, loss: -0.06210\n",
      "epoch: 09, loss: -0.06205\n",
      "torch.Size([475, 64])\n"
     ]
    },
    {
     "name": "stderr",
     "output_type": "stream",
     "text": [
      "\r",
      " 44%|█████████████████████████████████████████████████████████████████████▎                                                                                         | 436/1000 [3:07:28<3:29:06, 22.24s/it]"
     ]
    },
    {
     "name": "stdout",
     "output_type": "stream",
     "text": [
      "eigenvalues shape torch.Size([5]) eigenvectors shape torch.Size([5, 475])\n",
      "436 /home/phdcs2/Hard_Disk/Datasets/Deep-Spectral-Segmentation/data/object-segmentation/ECSSD/features/dino_vits16/0437.pth\n",
      "dict_keys(['k', 'indices', 'file', 'id', 'model_name', 'patch_size', 'shape'])\n",
      "0437\n",
      "Starting Training\n",
      "epoch: 00, loss: 0.00400\n",
      "epoch: 01, loss: -0.00281\n",
      "epoch: 02, loss: -0.00592\n",
      "epoch: 03, loss: -0.00755\n",
      "epoch: 04, loss: -0.00855\n",
      "epoch: 05, loss: -0.00936\n",
      "epoch: 06, loss: -0.00972\n",
      "epoch: 07, loss: -0.01012\n",
      "epoch: 08, loss: -0.01038\n",
      "epoch: 09, loss: -0.01051\n",
      "torch.Size([450, 64])\n"
     ]
    },
    {
     "name": "stderr",
     "output_type": "stream",
     "text": [
      "\r",
      " 44%|█████████████████████████████████████████████████████████████████████▍                                                                                         | 437/1000 [3:07:49<3:24:30, 21.80s/it]"
     ]
    },
    {
     "name": "stdout",
     "output_type": "stream",
     "text": [
      "eigenvalues shape torch.Size([5]) eigenvectors shape torch.Size([5, 450])\n",
      "437 /home/phdcs2/Hard_Disk/Datasets/Deep-Spectral-Segmentation/data/object-segmentation/ECSSD/features/dino_vits16/0438.pth\n",
      "dict_keys(['k', 'indices', 'file', 'id', 'model_name', 'patch_size', 'shape'])\n",
      "0438\n",
      "Starting Training\n",
      "epoch: 00, loss: -0.02049\n",
      "epoch: 01, loss: -0.04156\n",
      "epoch: 02, loss: -0.04200\n",
      "epoch: 03, loss: -0.04528\n",
      "epoch: 04, loss: -0.04454\n",
      "epoch: 05, loss: -0.04581\n",
      "epoch: 06, loss: -0.04576\n",
      "epoch: 07, loss: -0.04624\n",
      "epoch: 08, loss: -0.04639\n",
      "epoch: 09, loss: -0.04730\n",
      "torch.Size([450, 64])\n"
     ]
    },
    {
     "name": "stderr",
     "output_type": "stream",
     "text": [
      "\r",
      " 44%|█████████████████████████████████████████████████████████████████████▋                                                                                         | 438/1000 [3:08:19<3:48:32, 24.40s/it]"
     ]
    },
    {
     "name": "stdout",
     "output_type": "stream",
     "text": [
      "eigenvalues shape torch.Size([5]) eigenvectors shape torch.Size([5, 450])\n",
      "438 /home/phdcs2/Hard_Disk/Datasets/Deep-Spectral-Segmentation/data/object-segmentation/ECSSD/features/dino_vits16/0439.pth\n",
      "dict_keys(['k', 'indices', 'file', 'id', 'model_name', 'patch_size', 'shape'])\n",
      "0439\n",
      "Starting Training\n",
      "epoch: 00, loss: -0.01871\n",
      "epoch: 01, loss: -0.03047\n",
      "epoch: 02, loss: -0.03198\n",
      "epoch: 03, loss: -0.03266\n",
      "epoch: 04, loss: -0.03395\n",
      "epoch: 05, loss: -0.03437\n",
      "epoch: 06, loss: -0.03439\n",
      "epoch: 07, loss: -0.03469\n",
      "epoch: 08, loss: -0.03454\n",
      "epoch: 09, loss: -0.03393\n",
      "torch.Size([575, 64])\n"
     ]
    },
    {
     "name": "stderr",
     "output_type": "stream",
     "text": [
      "\r",
      " 44%|█████████████████████████████████████████████████████████████████████▊                                                                                         | 439/1000 [3:09:02<4:39:16, 29.87s/it]"
     ]
    },
    {
     "name": "stdout",
     "output_type": "stream",
     "text": [
      "eigenvalues shape torch.Size([5]) eigenvectors shape torch.Size([5, 575])\n",
      "439 /home/phdcs2/Hard_Disk/Datasets/Deep-Spectral-Segmentation/data/object-segmentation/ECSSD/features/dino_vits16/0440.pth\n",
      "dict_keys(['k', 'indices', 'file', 'id', 'model_name', 'patch_size', 'shape'])\n",
      "0440\n",
      "Starting Training\n",
      "epoch: 00, loss: -0.01097\n",
      "epoch: 01, loss: -0.03374\n",
      "epoch: 02, loss: -0.03716\n",
      "epoch: 03, loss: -0.03779\n",
      "epoch: 04, loss: -0.03827\n",
      "epoch: 05, loss: -0.03859\n",
      "epoch: 06, loss: -0.03880\n",
      "epoch: 07, loss: -0.03880\n",
      "epoch: 08, loss: -0.03891\n",
      "epoch: 09, loss: -0.03898\n",
      "torch.Size([450, 64])\n"
     ]
    },
    {
     "name": "stderr",
     "output_type": "stream",
     "text": [
      "\r",
      " 44%|█████████████████████████████████████████████████████████████████████▉                                                                                         | 440/1000 [3:09:25<4:21:04, 27.97s/it]"
     ]
    },
    {
     "name": "stdout",
     "output_type": "stream",
     "text": [
      "eigenvalues shape torch.Size([5]) eigenvectors shape torch.Size([5, 450])\n",
      "440 /home/phdcs2/Hard_Disk/Datasets/Deep-Spectral-Segmentation/data/object-segmentation/ECSSD/features/dino_vits16/0441.pth\n",
      "dict_keys(['k', 'indices', 'file', 'id', 'model_name', 'patch_size', 'shape'])\n",
      "0441\n",
      "Starting Training\n",
      "epoch: 00, loss: -0.03757\n",
      "epoch: 01, loss: -0.06192\n",
      "epoch: 02, loss: -0.06338\n",
      "epoch: 03, loss: -0.06357\n",
      "epoch: 04, loss: -0.06394\n",
      "epoch: 05, loss: -0.06422\n",
      "epoch: 06, loss: -0.06414\n",
      "epoch: 07, loss: -0.06432\n",
      "epoch: 08, loss: -0.06452\n",
      "epoch: 09, loss: -0.06478\n",
      "torch.Size([450, 64])\n"
     ]
    },
    {
     "name": "stderr",
     "output_type": "stream",
     "text": [
      "\r",
      " 44%|██████████████████████████████████████████████████████████████████████                                                                                         | 441/1000 [3:09:48<4:06:04, 26.41s/it]"
     ]
    },
    {
     "name": "stdout",
     "output_type": "stream",
     "text": [
      "eigenvalues shape torch.Size([5]) eigenvectors shape torch.Size([5, 450])\n",
      "441 /home/phdcs2/Hard_Disk/Datasets/Deep-Spectral-Segmentation/data/object-segmentation/ECSSD/features/dino_vits16/0442.pth\n",
      "dict_keys(['k', 'indices', 'file', 'id', 'model_name', 'patch_size', 'shape'])\n",
      "0442\n",
      "Starting Training\n",
      "epoch: 00, loss: -0.03124\n",
      "epoch: 01, loss: -0.05798\n",
      "epoch: 02, loss: -0.06039\n",
      "epoch: 03, loss: -0.06184\n",
      "epoch: 04, loss: -0.06279\n",
      "epoch: 05, loss: -0.06460\n",
      "epoch: 06, loss: -0.06386\n",
      "epoch: 07, loss: -0.06453\n",
      "epoch: 08, loss: -0.06450\n",
      "epoch: 09, loss: -0.06517\n",
      "torch.Size([475, 64])\n"
     ]
    },
    {
     "name": "stderr",
     "output_type": "stream",
     "text": [
      "\r",
      " 44%|██████████████████████████████████████████████████████████████████████▎                                                                                        | 442/1000 [3:10:11<3:57:04, 25.49s/it]"
     ]
    },
    {
     "name": "stdout",
     "output_type": "stream",
     "text": [
      "eigenvalues shape torch.Size([5]) eigenvectors shape torch.Size([5, 475])\n",
      "442 /home/phdcs2/Hard_Disk/Datasets/Deep-Spectral-Segmentation/data/object-segmentation/ECSSD/features/dino_vits16/0443.pth\n",
      "dict_keys(['k', 'indices', 'file', 'id', 'model_name', 'patch_size', 'shape'])\n",
      "0443\n",
      "Starting Training\n",
      "epoch: 00, loss: -0.05588\n",
      "epoch: 01, loss: -0.08359\n",
      "epoch: 02, loss: -0.08327\n",
      "epoch: 03, loss: -0.08890\n",
      "epoch: 04, loss: -0.09233\n",
      "epoch: 05, loss: -0.09127\n",
      "epoch: 06, loss: -0.09208\n",
      "epoch: 07, loss: -0.09218\n",
      "epoch: 08, loss: -0.09323\n",
      "epoch: 09, loss: -0.09195\n",
      "torch.Size([450, 64])\n"
     ]
    },
    {
     "name": "stderr",
     "output_type": "stream",
     "text": [
      "\r",
      " 44%|██████████████████████████████████████████████████████████████████████▍                                                                                        | 443/1000 [3:10:34<3:47:17, 24.48s/it]"
     ]
    },
    {
     "name": "stdout",
     "output_type": "stream",
     "text": [
      "eigenvalues shape torch.Size([5]) eigenvectors shape torch.Size([5, 450])\n",
      "443 /home/phdcs2/Hard_Disk/Datasets/Deep-Spectral-Segmentation/data/object-segmentation/ECSSD/features/dino_vits16/0444.pth\n",
      "dict_keys(['k', 'indices', 'file', 'id', 'model_name', 'patch_size', 'shape'])\n",
      "0444\n",
      "Starting Training\n",
      "epoch: 00, loss: -0.02625\n",
      "epoch: 01, loss: -0.05182\n",
      "epoch: 02, loss: -0.05375\n",
      "epoch: 03, loss: -0.05401\n",
      "epoch: 04, loss: -0.05435\n",
      "epoch: 05, loss: -0.05482\n",
      "epoch: 06, loss: -0.05495\n",
      "epoch: 07, loss: -0.05494\n",
      "epoch: 08, loss: -0.05494\n",
      "epoch: 09, loss: -0.05511\n",
      "torch.Size([450, 64])\n"
     ]
    },
    {
     "name": "stderr",
     "output_type": "stream",
     "text": [
      "\r",
      " 44%|██████████████████████████████████████████████████████████████████████▌                                                                                        | 444/1000 [3:10:54<3:35:21, 23.24s/it]"
     ]
    },
    {
     "name": "stdout",
     "output_type": "stream",
     "text": [
      "eigenvalues shape torch.Size([5]) eigenvectors shape torch.Size([5, 450])\n",
      "444 /home/phdcs2/Hard_Disk/Datasets/Deep-Spectral-Segmentation/data/object-segmentation/ECSSD/features/dino_vits16/0445.pth\n",
      "dict_keys(['k', 'indices', 'file', 'id', 'model_name', 'patch_size', 'shape'])\n",
      "0445\n",
      "Starting Training\n",
      "epoch: 00, loss: -0.01203\n",
      "epoch: 01, loss: -0.03623\n",
      "epoch: 02, loss: -0.04031\n",
      "epoch: 03, loss: -0.04132\n",
      "epoch: 04, loss: -0.04172\n",
      "epoch: 05, loss: -0.04192\n",
      "epoch: 06, loss: -0.04205\n",
      "epoch: 07, loss: -0.04228\n",
      "epoch: 08, loss: -0.04243\n",
      "epoch: 09, loss: -0.04251\n",
      "torch.Size([400, 64])\n"
     ]
    },
    {
     "name": "stderr",
     "output_type": "stream",
     "text": [
      "\r",
      " 44%|██████████████████████████████████████████████████████████████████████▊                                                                                        | 445/1000 [3:11:13<3:24:21, 22.09s/it]"
     ]
    },
    {
     "name": "stdout",
     "output_type": "stream",
     "text": [
      "eigenvalues shape torch.Size([5]) eigenvectors shape torch.Size([5, 400])\n",
      "445 /home/phdcs2/Hard_Disk/Datasets/Deep-Spectral-Segmentation/data/object-segmentation/ECSSD/features/dino_vits16/0446.pth\n",
      "dict_keys(['k', 'indices', 'file', 'id', 'model_name', 'patch_size', 'shape'])\n",
      "0446\n",
      "Starting Training\n",
      "epoch: 00, loss: -0.04223\n",
      "epoch: 01, loss: -0.06703\n",
      "epoch: 02, loss: -0.06794\n",
      "epoch: 03, loss: -0.06828\n",
      "epoch: 04, loss: -0.06867\n",
      "epoch: 05, loss: -0.06870\n",
      "epoch: 06, loss: -0.06902\n",
      "epoch: 07, loss: -0.06925\n",
      "epoch: 08, loss: -0.06931\n",
      "epoch: 09, loss: -0.06929\n",
      "torch.Size([400, 64])\n"
     ]
    },
    {
     "name": "stderr",
     "output_type": "stream",
     "text": [
      "\r",
      " 45%|██████████████████████████████████████████████████████████████████████▉                                                                                        | 446/1000 [3:11:32<3:15:33, 21.18s/it]"
     ]
    },
    {
     "name": "stdout",
     "output_type": "stream",
     "text": [
      "eigenvalues shape torch.Size([5]) eigenvectors shape torch.Size([5, 400])\n",
      "446 /home/phdcs2/Hard_Disk/Datasets/Deep-Spectral-Segmentation/data/object-segmentation/ECSSD/features/dino_vits16/0447.pth\n",
      "dict_keys(['k', 'indices', 'file', 'id', 'model_name', 'patch_size', 'shape'])\n",
      "0447\n",
      "Starting Training\n",
      "epoch: 00, loss: -0.03185\n",
      "epoch: 01, loss: -0.06641\n",
      "epoch: 02, loss: -0.06794\n",
      "epoch: 03, loss: -0.06951\n",
      "epoch: 04, loss: -0.07069\n",
      "epoch: 05, loss: -0.07288\n",
      "epoch: 06, loss: -0.07324\n",
      "epoch: 07, loss: -0.07443\n",
      "epoch: 08, loss: -0.07236\n",
      "epoch: 09, loss: -0.07363\n",
      "torch.Size([400, 64])\n"
     ]
    },
    {
     "name": "stderr",
     "output_type": "stream",
     "text": [
      "\r",
      " 45%|███████████████████████████████████████████████████████████████████████                                                                                        | 447/1000 [3:11:50<3:06:16, 20.21s/it]"
     ]
    },
    {
     "name": "stdout",
     "output_type": "stream",
     "text": [
      "eigenvalues shape torch.Size([5]) eigenvectors shape torch.Size([5, 400])\n",
      "447 /home/phdcs2/Hard_Disk/Datasets/Deep-Spectral-Segmentation/data/object-segmentation/ECSSD/features/dino_vits16/0448.pth\n",
      "dict_keys(['k', 'indices', 'file', 'id', 'model_name', 'patch_size', 'shape'])\n",
      "0448\n",
      "Starting Training\n",
      "epoch: 00, loss: -0.11458\n",
      "epoch: 01, loss: -0.16027\n",
      "epoch: 02, loss: -0.17251\n",
      "epoch: 03, loss: -0.16676\n",
      "epoch: 04, loss: -0.17177\n",
      "epoch: 05, loss: -0.17296\n",
      "epoch: 06, loss: -0.17503\n",
      "epoch: 07, loss: -0.17575\n",
      "epoch: 08, loss: -0.17679\n",
      "epoch: 09, loss: -0.17448\n",
      "torch.Size([350, 64])\n"
     ]
    },
    {
     "name": "stderr",
     "output_type": "stream",
     "text": [
      "\r",
      " 45%|███████████████████████████████████████████████████████████████████████▏                                                                                       | 448/1000 [3:12:06<2:52:30, 18.75s/it]"
     ]
    },
    {
     "name": "stdout",
     "output_type": "stream",
     "text": [
      "eigenvalues shape torch.Size([5]) eigenvectors shape torch.Size([5, 350])\n",
      "448 /home/phdcs2/Hard_Disk/Datasets/Deep-Spectral-Segmentation/data/object-segmentation/ECSSD/features/dino_vits16/0449.pth\n",
      "dict_keys(['k', 'indices', 'file', 'id', 'model_name', 'patch_size', 'shape'])\n",
      "0449\n",
      "Starting Training\n",
      "epoch: 00, loss: -0.04871\n",
      "epoch: 01, loss: -0.06263\n",
      "epoch: 02, loss: -0.06273\n",
      "epoch: 03, loss: -0.06593\n",
      "epoch: 04, loss: -0.06462\n",
      "epoch: 05, loss: -0.06539\n",
      "epoch: 06, loss: -0.06492\n",
      "epoch: 07, loss: -0.06494\n",
      "epoch: 08, loss: -0.06548\n",
      "epoch: 09, loss: -0.06514\n",
      "torch.Size([475, 64])\n"
     ]
    },
    {
     "name": "stderr",
     "output_type": "stream",
     "text": [
      "\r",
      " 45%|███████████████████████████████████████████████████████████████████████▍                                                                                       | 449/1000 [3:12:34<3:19:36, 21.74s/it]"
     ]
    },
    {
     "name": "stdout",
     "output_type": "stream",
     "text": [
      "eigenvalues shape torch.Size([5]) eigenvectors shape torch.Size([5, 475])\n",
      "449 /home/phdcs2/Hard_Disk/Datasets/Deep-Spectral-Segmentation/data/object-segmentation/ECSSD/features/dino_vits16/0450.pth\n",
      "dict_keys(['k', 'indices', 'file', 'id', 'model_name', 'patch_size', 'shape'])\n",
      "0450\n",
      "Starting Training\n",
      "epoch: 00, loss: -0.04811\n",
      "epoch: 01, loss: -0.07014\n",
      "epoch: 02, loss: -0.07295\n",
      "epoch: 03, loss: -0.07224\n",
      "epoch: 04, loss: -0.07639\n",
      "epoch: 05, loss: -0.07536\n",
      "epoch: 06, loss: -0.07770\n",
      "epoch: 07, loss: -0.07482\n",
      "epoch: 08, loss: -0.07708\n",
      "epoch: 09, loss: -0.06983\n",
      "torch.Size([400, 64])\n"
     ]
    },
    {
     "name": "stderr",
     "output_type": "stream",
     "text": [
      "\r",
      " 45%|███████████████████████████████████████████████████████████████████████▌                                                                                       | 450/1000 [3:12:55<3:17:07, 21.50s/it]"
     ]
    },
    {
     "name": "stdout",
     "output_type": "stream",
     "text": [
      "eigenvalues shape torch.Size([5]) eigenvectors shape torch.Size([5, 400])\n",
      "450 /home/phdcs2/Hard_Disk/Datasets/Deep-Spectral-Segmentation/data/object-segmentation/ECSSD/features/dino_vits16/0451.pth\n",
      "dict_keys(['k', 'indices', 'file', 'id', 'model_name', 'patch_size', 'shape'])\n",
      "0451\n",
      "Starting Training\n",
      "epoch: 00, loss: -0.05456\n",
      "epoch: 01, loss: -0.07285\n",
      "epoch: 02, loss: -0.07411\n",
      "epoch: 03, loss: -0.07472\n",
      "epoch: 04, loss: -0.07463\n",
      "epoch: 05, loss: -0.07511\n",
      "epoch: 06, loss: -0.07521\n",
      "epoch: 07, loss: -0.07524\n",
      "epoch: 08, loss: -0.07544\n",
      "epoch: 09, loss: -0.07554\n",
      "torch.Size([450, 64])\n"
     ]
    },
    {
     "name": "stderr",
     "output_type": "stream",
     "text": [
      "\r",
      " 45%|███████████████████████████████████████████████████████████████████████▋                                                                                       | 451/1000 [3:13:18<3:19:01, 21.75s/it]"
     ]
    },
    {
     "name": "stdout",
     "output_type": "stream",
     "text": [
      "eigenvalues shape torch.Size([5]) eigenvectors shape torch.Size([5, 450])\n",
      "451 /home/phdcs2/Hard_Disk/Datasets/Deep-Spectral-Segmentation/data/object-segmentation/ECSSD/features/dino_vits16/0452.pth\n",
      "dict_keys(['k', 'indices', 'file', 'id', 'model_name', 'patch_size', 'shape'])\n",
      "0452\n",
      "Starting Training\n",
      "epoch: 00, loss: -0.02636\n",
      "epoch: 01, loss: -0.04594\n",
      "epoch: 02, loss: -0.04857\n",
      "epoch: 03, loss: -0.04954\n",
      "epoch: 04, loss: -0.04906\n",
      "epoch: 05, loss: -0.05008\n",
      "epoch: 06, loss: -0.04891\n",
      "epoch: 07, loss: -0.04891\n",
      "epoch: 08, loss: -0.05048\n",
      "epoch: 09, loss: -0.05063\n",
      "torch.Size([475, 64])\n"
     ]
    },
    {
     "name": "stderr",
     "output_type": "stream",
     "text": [
      "\r",
      " 45%|███████████████████████████████████████████████████████████████████████▊                                                                                       | 452/1000 [3:13:41<3:23:46, 22.31s/it]"
     ]
    },
    {
     "name": "stdout",
     "output_type": "stream",
     "text": [
      "eigenvalues shape torch.Size([5]) eigenvectors shape torch.Size([5, 475])\n",
      "452 /home/phdcs2/Hard_Disk/Datasets/Deep-Spectral-Segmentation/data/object-segmentation/ECSSD/features/dino_vits16/0453.pth\n",
      "dict_keys(['k', 'indices', 'file', 'id', 'model_name', 'patch_size', 'shape'])\n",
      "0453\n",
      "Starting Training\n",
      "epoch: 00, loss: -0.06304\n",
      "epoch: 01, loss: -0.08625\n",
      "epoch: 02, loss: -0.09009\n",
      "epoch: 03, loss: -0.09386\n",
      "epoch: 04, loss: -0.09614\n",
      "epoch: 05, loss: -0.09539\n",
      "epoch: 06, loss: -0.09999\n",
      "epoch: 07, loss: -0.09799\n",
      "epoch: 08, loss: -0.09984\n",
      "epoch: 09, loss: -0.09963\n",
      "torch.Size([400, 64])\n"
     ]
    },
    {
     "name": "stderr",
     "output_type": "stream",
     "text": [
      "\r",
      " 45%|████████████████████████████████████████████████████████████████████████                                                                                       | 453/1000 [3:14:02<3:19:01, 21.83s/it]"
     ]
    },
    {
     "name": "stdout",
     "output_type": "stream",
     "text": [
      "eigenvalues shape torch.Size([5]) eigenvectors shape torch.Size([5, 400])\n",
      "453 /home/phdcs2/Hard_Disk/Datasets/Deep-Spectral-Segmentation/data/object-segmentation/ECSSD/features/dino_vits16/0454.pth\n",
      "dict_keys(['k', 'indices', 'file', 'id', 'model_name', 'patch_size', 'shape'])\n",
      "0454\n",
      "Starting Training\n",
      "epoch: 00, loss: -0.03973\n",
      "epoch: 01, loss: -0.07031\n",
      "epoch: 02, loss: -0.07394\n",
      "epoch: 03, loss: -0.07652\n",
      "epoch: 04, loss: -0.07896\n",
      "epoch: 05, loss: -0.07867\n",
      "epoch: 06, loss: -0.07976\n",
      "epoch: 07, loss: -0.07958\n",
      "epoch: 08, loss: -0.08027\n",
      "epoch: 09, loss: -0.07827\n",
      "torch.Size([400, 64])\n"
     ]
    },
    {
     "name": "stderr",
     "output_type": "stream",
     "text": [
      "\r",
      " 45%|████████████████████████████████████████████████████████████████████████▏                                                                                      | 454/1000 [3:14:22<3:14:49, 21.41s/it]"
     ]
    },
    {
     "name": "stdout",
     "output_type": "stream",
     "text": [
      "eigenvalues shape torch.Size([5]) eigenvectors shape torch.Size([5, 400])\n",
      "454 /home/phdcs2/Hard_Disk/Datasets/Deep-Spectral-Segmentation/data/object-segmentation/ECSSD/features/dino_vits16/0455.pth\n",
      "dict_keys(['k', 'indices', 'file', 'id', 'model_name', 'patch_size', 'shape'])\n",
      "0455\n",
      "Starting Training\n",
      "epoch: 00, loss: -0.03692\n",
      "epoch: 01, loss: -0.06803\n",
      "epoch: 02, loss: -0.07547\n",
      "epoch: 03, loss: -0.07775\n",
      "epoch: 04, loss: -0.07912\n",
      "epoch: 05, loss: -0.07852\n",
      "epoch: 06, loss: -0.07834\n",
      "epoch: 07, loss: -0.07924\n",
      "epoch: 08, loss: -0.07968\n",
      "epoch: 09, loss: -0.08248\n",
      "torch.Size([400, 64])\n"
     ]
    },
    {
     "name": "stderr",
     "output_type": "stream",
     "text": [
      "\r",
      " 46%|████████████████████████████████████████████████████████████████████████▎                                                                                      | 455/1000 [3:14:41<3:07:00, 20.59s/it]"
     ]
    },
    {
     "name": "stdout",
     "output_type": "stream",
     "text": [
      "eigenvalues shape torch.Size([5]) eigenvectors shape torch.Size([5, 400])\n",
      "455 /home/phdcs2/Hard_Disk/Datasets/Deep-Spectral-Segmentation/data/object-segmentation/ECSSD/features/dino_vits16/0456.pth\n",
      "dict_keys(['k', 'indices', 'file', 'id', 'model_name', 'patch_size', 'shape'])\n",
      "0456\n",
      "Starting Training\n",
      "epoch: 00, loss: 0.00798\n",
      "epoch: 01, loss: -0.00253\n",
      "epoch: 02, loss: -0.00735\n",
      "epoch: 03, loss: -0.00938\n",
      "epoch: 04, loss: -0.01067\n",
      "epoch: 05, loss: -0.01053\n",
      "epoch: 06, loss: -0.01234\n",
      "epoch: 07, loss: -0.01160\n",
      "epoch: 08, loss: -0.01190\n",
      "epoch: 09, loss: -0.01276\n",
      "torch.Size([425, 64])\n"
     ]
    },
    {
     "name": "stderr",
     "output_type": "stream",
     "text": [
      "\r",
      " 46%|████████████████████████████████████████████████████████████████████████▌                                                                                      | 456/1000 [3:15:01<3:06:00, 20.51s/it]"
     ]
    },
    {
     "name": "stdout",
     "output_type": "stream",
     "text": [
      "eigenvalues shape torch.Size([5]) eigenvectors shape torch.Size([5, 425])\n",
      "456 /home/phdcs2/Hard_Disk/Datasets/Deep-Spectral-Segmentation/data/object-segmentation/ECSSD/features/dino_vits16/0457.pth\n",
      "dict_keys(['k', 'indices', 'file', 'id', 'model_name', 'patch_size', 'shape'])\n",
      "0457\n",
      "Starting Training\n",
      "epoch: 00, loss: 0.00844\n",
      "epoch: 01, loss: -0.00076\n",
      "epoch: 02, loss: -0.00449\n",
      "epoch: 03, loss: -0.00759\n",
      "epoch: 04, loss: -0.00804\n",
      "epoch: 05, loss: -0.00926\n",
      "epoch: 06, loss: -0.00978\n",
      "epoch: 07, loss: -0.01023\n",
      "epoch: 08, loss: -0.01056\n",
      "epoch: 09, loss: -0.01117\n",
      "torch.Size([400, 64])\n"
     ]
    },
    {
     "name": "stderr",
     "output_type": "stream",
     "text": [
      "\r",
      " 46%|████████████████████████████████████████████████████████████████████████▋                                                                                      | 457/1000 [3:15:20<3:00:35, 19.96s/it]"
     ]
    },
    {
     "name": "stdout",
     "output_type": "stream",
     "text": [
      "eigenvalues shape torch.Size([5]) eigenvectors shape torch.Size([5, 400])\n",
      "457 /home/phdcs2/Hard_Disk/Datasets/Deep-Spectral-Segmentation/data/object-segmentation/ECSSD/features/dino_vits16/0458.pth\n",
      "dict_keys(['k', 'indices', 'file', 'id', 'model_name', 'patch_size', 'shape'])\n",
      "0458\n",
      "Starting Training\n",
      "epoch: 00, loss: -0.07560\n",
      "epoch: 01, loss: -0.11196\n",
      "epoch: 02, loss: -0.11593\n",
      "epoch: 03, loss: -0.11742\n",
      "epoch: 04, loss: -0.11670\n",
      "epoch: 05, loss: -0.11761\n",
      "epoch: 06, loss: -0.12116\n",
      "epoch: 07, loss: -0.12316\n",
      "epoch: 08, loss: -0.12385\n",
      "epoch: 09, loss: -0.12280\n",
      "torch.Size([450, 64])\n"
     ]
    },
    {
     "name": "stderr",
     "output_type": "stream",
     "text": [
      "\r",
      " 46%|████████████████████████████████████████████████████████████████████████▊                                                                                      | 458/1000 [3:15:46<3:17:33, 21.87s/it]"
     ]
    },
    {
     "name": "stdout",
     "output_type": "stream",
     "text": [
      "eigenvalues shape torch.Size([5]) eigenvectors shape torch.Size([5, 450])\n",
      "458 /home/phdcs2/Hard_Disk/Datasets/Deep-Spectral-Segmentation/data/object-segmentation/ECSSD/features/dino_vits16/0459.pth\n",
      "dict_keys(['k', 'indices', 'file', 'id', 'model_name', 'patch_size', 'shape'])\n",
      "0459\n",
      "Starting Training\n",
      "epoch: 00, loss: -0.03719\n",
      "epoch: 01, loss: -0.06906\n",
      "epoch: 02, loss: -0.07092\n",
      "epoch: 03, loss: -0.07269\n",
      "epoch: 04, loss: -0.07235\n",
      "epoch: 05, loss: -0.07434\n",
      "epoch: 06, loss: -0.07454\n",
      "epoch: 07, loss: -0.07521\n",
      "epoch: 08, loss: -0.07509\n",
      "epoch: 09, loss: -0.07567\n",
      "torch.Size([400, 64])\n"
     ]
    },
    {
     "name": "stderr",
     "output_type": "stream",
     "text": [
      "\r",
      " 46%|████████████████████████████████████████████████████████████████████████▉                                                                                      | 459/1000 [3:16:09<3:18:24, 22.01s/it]"
     ]
    },
    {
     "name": "stdout",
     "output_type": "stream",
     "text": [
      "eigenvalues shape torch.Size([5]) eigenvectors shape torch.Size([5, 400])\n",
      "459 /home/phdcs2/Hard_Disk/Datasets/Deep-Spectral-Segmentation/data/object-segmentation/ECSSD/features/dino_vits16/0460.pth\n",
      "dict_keys(['k', 'indices', 'file', 'id', 'model_name', 'patch_size', 'shape'])\n",
      "0460\n",
      "Starting Training\n",
      "epoch: 00, loss: -0.07737\n",
      "epoch: 01, loss: -0.09983\n",
      "epoch: 02, loss: -0.10015\n",
      "epoch: 03, loss: -0.10034\n",
      "epoch: 04, loss: -0.10058\n",
      "epoch: 05, loss: -0.10071\n",
      "epoch: 06, loss: -0.10093\n",
      "epoch: 07, loss: -0.10094\n",
      "epoch: 08, loss: -0.10124\n",
      "epoch: 09, loss: -0.10107\n",
      "torch.Size([450, 64])\n"
     ]
    },
    {
     "name": "stderr",
     "output_type": "stream",
     "text": [
      "\r",
      " 46%|█████████████████████████████████████████████████████████████████████████▏                                                                                     | 460/1000 [3:16:34<3:25:45, 22.86s/it]"
     ]
    },
    {
     "name": "stdout",
     "output_type": "stream",
     "text": [
      "eigenvalues shape torch.Size([5]) eigenvectors shape torch.Size([5, 450])\n",
      "460 /home/phdcs2/Hard_Disk/Datasets/Deep-Spectral-Segmentation/data/object-segmentation/ECSSD/features/dino_vits16/0461.pth\n",
      "dict_keys(['k', 'indices', 'file', 'id', 'model_name', 'patch_size', 'shape'])\n",
      "0461\n",
      "Starting Training\n",
      "epoch: 00, loss: -0.02088\n",
      "epoch: 01, loss: -0.03696\n",
      "epoch: 02, loss: -0.03909\n",
      "epoch: 03, loss: -0.03974\n",
      "epoch: 04, loss: -0.04027\n",
      "epoch: 05, loss: -0.04055\n",
      "epoch: 06, loss: -0.04087\n",
      "epoch: 07, loss: -0.04077\n",
      "epoch: 08, loss: -0.04112\n",
      "epoch: 09, loss: -0.04104\n",
      "torch.Size([450, 64])\n"
     ]
    },
    {
     "name": "stderr",
     "output_type": "stream",
     "text": [
      "\r",
      " 46%|█████████████████████████████████████████████████████████████████████████▎                                                                                     | 461/1000 [3:16:56<3:24:18, 22.74s/it]"
     ]
    },
    {
     "name": "stdout",
     "output_type": "stream",
     "text": [
      "eigenvalues shape torch.Size([5]) eigenvectors shape torch.Size([5, 450])\n",
      "461 /home/phdcs2/Hard_Disk/Datasets/Deep-Spectral-Segmentation/data/object-segmentation/ECSSD/features/dino_vits16/0462.pth\n",
      "dict_keys(['k', 'indices', 'file', 'id', 'model_name', 'patch_size', 'shape'])\n",
      "0462\n",
      "Starting Training\n",
      "epoch: 00, loss: -0.03648\n",
      "epoch: 01, loss: -0.06919\n",
      "epoch: 02, loss: -0.07028\n",
      "epoch: 03, loss: -0.07201\n",
      "epoch: 04, loss: -0.07122\n",
      "epoch: 05, loss: -0.07146\n",
      "epoch: 06, loss: -0.07275\n",
      "epoch: 07, loss: -0.07181\n",
      "epoch: 08, loss: -0.07270\n",
      "epoch: 09, loss: -0.07225\n",
      "torch.Size([400, 64])\n"
     ]
    },
    {
     "name": "stderr",
     "output_type": "stream",
     "text": [
      "\r",
      " 46%|█████████████████████████████████████████████████████████████████████████▍                                                                                     | 462/1000 [3:17:16<3:15:12, 21.77s/it]"
     ]
    },
    {
     "name": "stdout",
     "output_type": "stream",
     "text": [
      "eigenvalues shape torch.Size([5]) eigenvectors shape torch.Size([5, 400])\n",
      "462 /home/phdcs2/Hard_Disk/Datasets/Deep-Spectral-Segmentation/data/object-segmentation/ECSSD/features/dino_vits16/0463.pth\n",
      "dict_keys(['k', 'indices', 'file', 'id', 'model_name', 'patch_size', 'shape'])\n",
      "0463\n",
      "Starting Training\n",
      "epoch: 00, loss: -0.08512\n",
      "epoch: 01, loss: -0.11301\n",
      "epoch: 02, loss: -0.11782\n",
      "epoch: 03, loss: -0.12040\n",
      "epoch: 04, loss: -0.11902\n",
      "epoch: 05, loss: -0.12285\n",
      "epoch: 06, loss: -0.12436\n",
      "epoch: 07, loss: -0.12342\n",
      "epoch: 08, loss: -0.12509\n",
      "epoch: 09, loss: -0.12459\n",
      "torch.Size([450, 64])\n"
     ]
    },
    {
     "name": "stderr",
     "output_type": "stream",
     "text": [
      "\r",
      " 46%|█████████████████████████████████████████████████████████████████████████▌                                                                                     | 463/1000 [3:17:38<3:17:28, 22.06s/it]"
     ]
    },
    {
     "name": "stdout",
     "output_type": "stream",
     "text": [
      "eigenvalues shape torch.Size([5]) eigenvectors shape torch.Size([5, 450])\n",
      "463 /home/phdcs2/Hard_Disk/Datasets/Deep-Spectral-Segmentation/data/object-segmentation/ECSSD/features/dino_vits16/0464.pth\n",
      "dict_keys(['k', 'indices', 'file', 'id', 'model_name', 'patch_size', 'shape'])\n",
      "0464\n",
      "Starting Training\n",
      "epoch: 00, loss: -0.02137\n",
      "epoch: 01, loss: -0.04454\n",
      "epoch: 02, loss: -0.04670\n",
      "epoch: 03, loss: -0.04709\n",
      "epoch: 04, loss: -0.04731\n",
      "epoch: 05, loss: -0.04767\n",
      "epoch: 06, loss: -0.04783\n",
      "epoch: 07, loss: -0.04797\n",
      "epoch: 08, loss: -0.04805\n",
      "epoch: 09, loss: -0.04820\n",
      "torch.Size([450, 64])\n"
     ]
    },
    {
     "name": "stderr",
     "output_type": "stream",
     "text": [
      "\r",
      " 46%|█████████████████████████████████████████████████████████████████████████▊                                                                                     | 464/1000 [3:18:00<3:16:48, 22.03s/it]"
     ]
    },
    {
     "name": "stdout",
     "output_type": "stream",
     "text": [
      "eigenvalues shape torch.Size([5]) eigenvectors shape torch.Size([5, 450])\n",
      "464 /home/phdcs2/Hard_Disk/Datasets/Deep-Spectral-Segmentation/data/object-segmentation/ECSSD/features/dino_vits16/0465.pth\n",
      "dict_keys(['k', 'indices', 'file', 'id', 'model_name', 'patch_size', 'shape'])\n",
      "0465\n",
      "Starting Training\n",
      "epoch: 00, loss: -0.01226\n",
      "epoch: 01, loss: -0.04166\n",
      "epoch: 02, loss: -0.05066\n",
      "epoch: 03, loss: -0.04930\n",
      "epoch: 04, loss: -0.05223\n",
      "epoch: 05, loss: -0.05187\n",
      "epoch: 06, loss: -0.05140\n",
      "epoch: 07, loss: -0.05427\n",
      "epoch: 08, loss: -0.05353\n",
      "epoch: 09, loss: -0.05494\n",
      "torch.Size([450, 64])\n"
     ]
    },
    {
     "name": "stderr",
     "output_type": "stream",
     "text": [
      "\r",
      " 46%|█████████████████████████████████████████████████████████████████████████▉                                                                                     | 465/1000 [3:18:23<3:18:56, 22.31s/it]"
     ]
    },
    {
     "name": "stdout",
     "output_type": "stream",
     "text": [
      "eigenvalues shape torch.Size([5]) eigenvectors shape torch.Size([5, 450])\n",
      "465 /home/phdcs2/Hard_Disk/Datasets/Deep-Spectral-Segmentation/data/object-segmentation/ECSSD/features/dino_vits16/0466.pth\n",
      "dict_keys(['k', 'indices', 'file', 'id', 'model_name', 'patch_size', 'shape'])\n",
      "0466\n",
      "Starting Training\n",
      "epoch: 00, loss: -0.00274\n",
      "epoch: 01, loss: -0.01508\n",
      "epoch: 02, loss: -0.01934\n",
      "epoch: 03, loss: -0.02111\n",
      "epoch: 04, loss: -0.02207\n",
      "epoch: 05, loss: -0.02257\n",
      "epoch: 06, loss: -0.02275\n",
      "epoch: 07, loss: -0.02313\n",
      "epoch: 08, loss: -0.02319\n",
      "epoch: 09, loss: -0.02335\n",
      "torch.Size([400, 64])\n"
     ]
    },
    {
     "name": "stderr",
     "output_type": "stream",
     "text": [
      "\r",
      " 47%|██████████████████████████████████████████████████████████████████████████                                                                                     | 466/1000 [3:18:43<3:11:38, 21.53s/it]"
     ]
    },
    {
     "name": "stdout",
     "output_type": "stream",
     "text": [
      "eigenvalues shape torch.Size([5]) eigenvectors shape torch.Size([5, 400])\n",
      "466 /home/phdcs2/Hard_Disk/Datasets/Deep-Spectral-Segmentation/data/object-segmentation/ECSSD/features/dino_vits16/0467.pth\n",
      "dict_keys(['k', 'indices', 'file', 'id', 'model_name', 'patch_size', 'shape'])\n",
      "0467\n",
      "Starting Training\n",
      "epoch: 00, loss: -0.02402\n",
      "epoch: 01, loss: -0.04749\n",
      "epoch: 02, loss: -0.04981\n",
      "epoch: 03, loss: -0.05042\n",
      "epoch: 04, loss: -0.04913\n",
      "epoch: 05, loss: -0.04929\n",
      "epoch: 06, loss: -0.05107\n",
      "epoch: 07, loss: -0.05042\n",
      "epoch: 08, loss: -0.05093\n",
      "epoch: 09, loss: -0.05136\n",
      "torch.Size([425, 64])\n"
     ]
    },
    {
     "name": "stderr",
     "output_type": "stream",
     "text": [
      "\r",
      " 47%|██████████████████████████████████████████████████████████████████████████▎                                                                                    | 467/1000 [3:19:00<2:59:27, 20.20s/it]"
     ]
    },
    {
     "name": "stdout",
     "output_type": "stream",
     "text": [
      "eigenvalues shape torch.Size([5]) eigenvectors shape torch.Size([5, 425])\n",
      "467 /home/phdcs2/Hard_Disk/Datasets/Deep-Spectral-Segmentation/data/object-segmentation/ECSSD/features/dino_vits16/0468.pth\n",
      "dict_keys(['k', 'indices', 'file', 'id', 'model_name', 'patch_size', 'shape'])\n",
      "0468\n",
      "Starting Training\n",
      "epoch: 00, loss: -0.03443\n",
      "epoch: 01, loss: -0.05138\n",
      "epoch: 02, loss: -0.05235\n",
      "epoch: 03, loss: -0.05306\n",
      "epoch: 04, loss: -0.05319\n",
      "epoch: 05, loss: -0.05328\n",
      "epoch: 06, loss: -0.05347\n",
      "epoch: 07, loss: -0.05386\n",
      "epoch: 08, loss: -0.05378\n",
      "epoch: 09, loss: -0.05385\n",
      "torch.Size([450, 64])\n"
     ]
    },
    {
     "name": "stderr",
     "output_type": "stream",
     "text": [
      "\r",
      " 47%|██████████████████████████████████████████████████████████████████████████▍                                                                                    | 468/1000 [3:19:24<3:09:41, 21.39s/it]"
     ]
    },
    {
     "name": "stdout",
     "output_type": "stream",
     "text": [
      "eigenvalues shape torch.Size([5]) eigenvectors shape torch.Size([5, 450])\n",
      "468 /home/phdcs2/Hard_Disk/Datasets/Deep-Spectral-Segmentation/data/object-segmentation/ECSSD/features/dino_vits16/0469.pth\n",
      "dict_keys(['k', 'indices', 'file', 'id', 'model_name', 'patch_size', 'shape'])\n",
      "0469\n",
      "Starting Training\n",
      "epoch: 00, loss: -0.02717\n",
      "epoch: 01, loss: -0.05307\n",
      "epoch: 02, loss: -0.05701\n",
      "epoch: 03, loss: -0.05810\n",
      "epoch: 04, loss: -0.05972\n",
      "epoch: 05, loss: -0.05777\n",
      "epoch: 06, loss: -0.06019\n",
      "epoch: 07, loss: -0.05995\n",
      "epoch: 08, loss: -0.05908\n",
      "epoch: 09, loss: -0.06048\n",
      "torch.Size([400, 64])\n"
     ]
    },
    {
     "name": "stderr",
     "output_type": "stream",
     "text": [
      "\r",
      " 47%|██████████████████████████████████████████████████████████████████████████▌                                                                                    | 469/1000 [3:19:44<3:06:10, 21.04s/it]"
     ]
    },
    {
     "name": "stdout",
     "output_type": "stream",
     "text": [
      "eigenvalues shape torch.Size([5]) eigenvectors shape torch.Size([5, 400])\n",
      "469 /home/phdcs2/Hard_Disk/Datasets/Deep-Spectral-Segmentation/data/object-segmentation/ECSSD/features/dino_vits16/0470.pth\n",
      "dict_keys(['k', 'indices', 'file', 'id', 'model_name', 'patch_size', 'shape'])\n",
      "0470\n",
      "Starting Training\n",
      "epoch: 00, loss: -0.04537\n",
      "epoch: 01, loss: -0.06511\n",
      "epoch: 02, loss: -0.06794\n",
      "epoch: 03, loss: -0.06827\n",
      "epoch: 04, loss: -0.06914\n",
      "epoch: 05, loss: -0.06871\n",
      "epoch: 06, loss: -0.06914\n",
      "epoch: 07, loss: -0.06939\n",
      "epoch: 08, loss: -0.06984\n",
      "epoch: 09, loss: -0.06967\n",
      "torch.Size([400, 64])\n"
     ]
    },
    {
     "name": "stderr",
     "output_type": "stream",
     "text": [
      "\r",
      " 47%|██████████████████████████████████████████████████████████████████████████▋                                                                                    | 470/1000 [3:20:03<3:00:33, 20.44s/it]"
     ]
    },
    {
     "name": "stdout",
     "output_type": "stream",
     "text": [
      "eigenvalues shape torch.Size([5]) eigenvectors shape torch.Size([5, 400])\n",
      "470 /home/phdcs2/Hard_Disk/Datasets/Deep-Spectral-Segmentation/data/object-segmentation/ECSSD/features/dino_vits16/0471.pth\n",
      "dict_keys(['k', 'indices', 'file', 'id', 'model_name', 'patch_size', 'shape'])\n",
      "0471\n",
      "Starting Training\n",
      "epoch: 00, loss: -0.00287\n",
      "epoch: 01, loss: -0.01946\n",
      "epoch: 02, loss: -0.02597\n",
      "epoch: 03, loss: -0.02972\n",
      "epoch: 04, loss: -0.02987\n",
      "epoch: 05, loss: -0.03018\n",
      "epoch: 06, loss: -0.03260\n",
      "epoch: 07, loss: -0.03245\n",
      "epoch: 08, loss: -0.03161\n",
      "epoch: 09, loss: -0.03137\n",
      "torch.Size([450, 64])\n"
     ]
    },
    {
     "name": "stderr",
     "output_type": "stream",
     "text": [
      "\r",
      " 47%|██████████████████████████████████████████████████████████████████████████▉                                                                                    | 471/1000 [3:20:26<3:06:27, 21.15s/it]"
     ]
    },
    {
     "name": "stdout",
     "output_type": "stream",
     "text": [
      "eigenvalues shape torch.Size([5]) eigenvectors shape torch.Size([5, 450])\n",
      "471 /home/phdcs2/Hard_Disk/Datasets/Deep-Spectral-Segmentation/data/object-segmentation/ECSSD/features/dino_vits16/0472.pth\n",
      "dict_keys(['k', 'indices', 'file', 'id', 'model_name', 'patch_size', 'shape'])\n",
      "0472\n",
      "Starting Training\n",
      "epoch: 00, loss: -0.03187\n",
      "epoch: 01, loss: -0.06226\n",
      "epoch: 02, loss: -0.06659\n",
      "epoch: 03, loss: -0.06728\n",
      "epoch: 04, loss: -0.06829\n",
      "epoch: 05, loss: -0.07179\n",
      "epoch: 06, loss: -0.07091\n",
      "epoch: 07, loss: -0.07292\n",
      "epoch: 08, loss: -0.07384\n",
      "epoch: 09, loss: -0.07319\n",
      "torch.Size([400, 64])\n"
     ]
    },
    {
     "name": "stderr",
     "output_type": "stream",
     "text": [
      "\r",
      " 47%|███████████████████████████████████████████████████████████████████████████                                                                                    | 472/1000 [3:20:46<3:01:10, 20.59s/it]"
     ]
    },
    {
     "name": "stdout",
     "output_type": "stream",
     "text": [
      "eigenvalues shape torch.Size([5]) eigenvectors shape torch.Size([5, 400])\n",
      "472 /home/phdcs2/Hard_Disk/Datasets/Deep-Spectral-Segmentation/data/object-segmentation/ECSSD/features/dino_vits16/0473.pth\n",
      "dict_keys(['k', 'indices', 'file', 'id', 'model_name', 'patch_size', 'shape'])\n",
      "0473\n",
      "Starting Training\n",
      "epoch: 00, loss: -0.04301\n",
      "epoch: 01, loss: -0.06931\n",
      "epoch: 02, loss: -0.07453\n",
      "epoch: 03, loss: -0.07495\n",
      "epoch: 04, loss: -0.07613\n",
      "epoch: 05, loss: -0.07778\n",
      "epoch: 06, loss: -0.07890\n",
      "epoch: 07, loss: -0.07872\n",
      "epoch: 08, loss: -0.08023\n",
      "epoch: 09, loss: -0.07877\n",
      "torch.Size([425, 64])\n"
     ]
    },
    {
     "name": "stderr",
     "output_type": "stream",
     "text": [
      "\r",
      " 47%|███████████████████████████████████████████████████████████████████████████▏                                                                                   | 473/1000 [3:21:07<3:03:46, 20.92s/it]"
     ]
    },
    {
     "name": "stdout",
     "output_type": "stream",
     "text": [
      "eigenvalues shape torch.Size([5]) eigenvectors shape torch.Size([5, 425])\n",
      "473 /home/phdcs2/Hard_Disk/Datasets/Deep-Spectral-Segmentation/data/object-segmentation/ECSSD/features/dino_vits16/0474.pth\n",
      "dict_keys(['k', 'indices', 'file', 'id', 'model_name', 'patch_size', 'shape'])\n",
      "0474\n",
      "Starting Training\n",
      "epoch: 00, loss: -0.03170\n",
      "epoch: 01, loss: -0.05868\n",
      "epoch: 02, loss: -0.06544\n",
      "epoch: 03, loss: -0.06509\n",
      "epoch: 04, loss: -0.06554\n",
      "epoch: 05, loss: -0.06583\n",
      "epoch: 06, loss: -0.06576\n",
      "epoch: 07, loss: -0.06850\n",
      "epoch: 08, loss: -0.06792\n",
      "epoch: 09, loss: -0.06740\n",
      "torch.Size([400, 64])\n"
     ]
    },
    {
     "name": "stderr",
     "output_type": "stream",
     "text": [
      "\r",
      " 47%|███████████████████████████████████████████████████████████████████████████▎                                                                                   | 474/1000 [3:21:28<3:03:07, 20.89s/it]"
     ]
    },
    {
     "name": "stdout",
     "output_type": "stream",
     "text": [
      "eigenvalues shape torch.Size([5]) eigenvectors shape torch.Size([5, 400])\n",
      "474 /home/phdcs2/Hard_Disk/Datasets/Deep-Spectral-Segmentation/data/object-segmentation/ECSSD/features/dino_vits16/0475.pth\n",
      "dict_keys(['k', 'indices', 'file', 'id', 'model_name', 'patch_size', 'shape'])\n",
      "0475\n",
      "Starting Training\n",
      "epoch: 00, loss: -0.04723\n",
      "epoch: 01, loss: -0.07265\n",
      "epoch: 02, loss: -0.07389\n",
      "epoch: 03, loss: -0.07406\n",
      "epoch: 04, loss: -0.07423\n",
      "epoch: 05, loss: -0.07448\n",
      "epoch: 06, loss: -0.07459\n",
      "epoch: 07, loss: -0.07472\n",
      "epoch: 08, loss: -0.07487\n",
      "epoch: 09, loss: -0.07487\n",
      "torch.Size([400, 64])\n"
     ]
    },
    {
     "name": "stderr",
     "output_type": "stream",
     "text": [
      "\r",
      " 48%|███████████████████████████████████████████████████████████████████████████▌                                                                                   | 475/1000 [3:21:49<3:01:53, 20.79s/it]"
     ]
    },
    {
     "name": "stdout",
     "output_type": "stream",
     "text": [
      "eigenvalues shape torch.Size([5]) eigenvectors shape torch.Size([5, 400])\n",
      "475 /home/phdcs2/Hard_Disk/Datasets/Deep-Spectral-Segmentation/data/object-segmentation/ECSSD/features/dino_vits16/0476.pth\n",
      "dict_keys(['k', 'indices', 'file', 'id', 'model_name', 'patch_size', 'shape'])\n",
      "0476\n",
      "Starting Training\n",
      "epoch: 00, loss: -0.01244\n",
      "epoch: 01, loss: -0.03727\n",
      "epoch: 02, loss: -0.04495\n",
      "epoch: 03, loss: -0.04550\n",
      "epoch: 04, loss: -0.04805\n",
      "epoch: 05, loss: -0.04787\n",
      "epoch: 06, loss: -0.04873\n",
      "epoch: 07, loss: -0.04695\n",
      "epoch: 08, loss: -0.04851\n",
      "epoch: 09, loss: -0.04874\n",
      "torch.Size([400, 64])\n"
     ]
    },
    {
     "name": "stderr",
     "output_type": "stream",
     "text": [
      "\r",
      " 48%|███████████████████████████████████████████████████████████████████████████▋                                                                                   | 476/1000 [3:22:09<3:00:32, 20.67s/it]"
     ]
    },
    {
     "name": "stdout",
     "output_type": "stream",
     "text": [
      "eigenvalues shape torch.Size([5]) eigenvectors shape torch.Size([5, 400])\n",
      "476 /home/phdcs2/Hard_Disk/Datasets/Deep-Spectral-Segmentation/data/object-segmentation/ECSSD/features/dino_vits16/0477.pth\n",
      "dict_keys(['k', 'indices', 'file', 'id', 'model_name', 'patch_size', 'shape'])\n",
      "0477\n",
      "Starting Training\n",
      "epoch: 00, loss: -0.01848\n",
      "epoch: 01, loss: -0.03922\n",
      "epoch: 02, loss: -0.04248\n",
      "epoch: 03, loss: -0.04352\n",
      "epoch: 04, loss: -0.04354\n",
      "epoch: 05, loss: -0.04423\n",
      "epoch: 06, loss: -0.04415\n",
      "epoch: 07, loss: -0.04442\n",
      "epoch: 08, loss: -0.04463\n",
      "epoch: 09, loss: -0.04466\n",
      "torch.Size([450, 64])\n"
     ]
    },
    {
     "name": "stderr",
     "output_type": "stream",
     "text": [
      "\r",
      " 48%|███████████████████████████████████████████████████████████████████████████▊                                                                                   | 477/1000 [3:22:31<3:02:20, 20.92s/it]"
     ]
    },
    {
     "name": "stdout",
     "output_type": "stream",
     "text": [
      "eigenvalues shape torch.Size([5]) eigenvectors shape torch.Size([5, 450])\n",
      "477 /home/phdcs2/Hard_Disk/Datasets/Deep-Spectral-Segmentation/data/object-segmentation/ECSSD/features/dino_vits16/0478.pth\n",
      "dict_keys(['k', 'indices', 'file', 'id', 'model_name', 'patch_size', 'shape'])\n",
      "0478\n",
      "Starting Training\n",
      "epoch: 00, loss: -0.03899\n",
      "epoch: 01, loss: -0.06679\n",
      "epoch: 02, loss: -0.07227\n",
      "epoch: 03, loss: -0.07109\n",
      "epoch: 04, loss: -0.07628\n",
      "epoch: 05, loss: -0.07561\n",
      "epoch: 06, loss: -0.07488\n",
      "epoch: 07, loss: -0.07839\n",
      "epoch: 08, loss: -0.07719\n",
      "epoch: 09, loss: -0.07622\n",
      "torch.Size([400, 64])\n"
     ]
    },
    {
     "name": "stderr",
     "output_type": "stream",
     "text": [
      "\r",
      " 48%|████████████████████████████████████████████████████████████████████████████                                                                                   | 478/1000 [3:22:49<2:56:19, 20.27s/it]"
     ]
    },
    {
     "name": "stdout",
     "output_type": "stream",
     "text": [
      "eigenvalues shape torch.Size([5]) eigenvectors shape torch.Size([5, 400])\n",
      "478 /home/phdcs2/Hard_Disk/Datasets/Deep-Spectral-Segmentation/data/object-segmentation/ECSSD/features/dino_vits16/0479.pth\n",
      "dict_keys(['k', 'indices', 'file', 'id', 'model_name', 'patch_size', 'shape'])\n",
      "0479\n",
      "Starting Training\n",
      "epoch: 00, loss: -0.11743\n",
      "epoch: 01, loss: -0.15147\n",
      "epoch: 02, loss: -0.15570\n",
      "epoch: 03, loss: -0.15650\n",
      "epoch: 04, loss: -0.15877\n",
      "epoch: 05, loss: -0.15842\n",
      "epoch: 06, loss: -0.16044\n",
      "epoch: 07, loss: -0.16069\n",
      "epoch: 08, loss: -0.16121\n",
      "epoch: 09, loss: -0.16262\n",
      "torch.Size([450, 64])\n"
     ]
    },
    {
     "name": "stderr",
     "output_type": "stream",
     "text": [
      "\r",
      " 48%|████████████████████████████████████████████████████████████████████████████▏                                                                                  | 479/1000 [3:23:11<2:59:36, 20.68s/it]"
     ]
    },
    {
     "name": "stdout",
     "output_type": "stream",
     "text": [
      "eigenvalues shape torch.Size([5]) eigenvectors shape torch.Size([5, 450])\n",
      "479 /home/phdcs2/Hard_Disk/Datasets/Deep-Spectral-Segmentation/data/object-segmentation/ECSSD/features/dino_vits16/0480.pth\n",
      "dict_keys(['k', 'indices', 'file', 'id', 'model_name', 'patch_size', 'shape'])\n",
      "0480\n",
      "Starting Training\n",
      "epoch: 00, loss: -0.05910\n",
      "epoch: 01, loss: -0.08221\n",
      "epoch: 02, loss: -0.08567\n",
      "epoch: 03, loss: -0.08501\n",
      "epoch: 04, loss: -0.08598\n",
      "epoch: 05, loss: -0.08745\n",
      "epoch: 06, loss: -0.08765\n",
      "epoch: 07, loss: -0.08808\n",
      "epoch: 08, loss: -0.08943\n",
      "epoch: 09, loss: -0.08963\n",
      "torch.Size([625, 64])\n"
     ]
    },
    {
     "name": "stderr",
     "output_type": "stream",
     "text": [
      "\r",
      " 48%|████████████████████████████████████████████████████████████████████████████▎                                                                                  | 480/1000 [3:23:46<3:37:02, 25.04s/it]"
     ]
    },
    {
     "name": "stdout",
     "output_type": "stream",
     "text": [
      "eigenvalues shape torch.Size([5]) eigenvectors shape torch.Size([5, 625])\n",
      "480 /home/phdcs2/Hard_Disk/Datasets/Deep-Spectral-Segmentation/data/object-segmentation/ECSSD/features/dino_vits16/0481.pth\n",
      "dict_keys(['k', 'indices', 'file', 'id', 'model_name', 'patch_size', 'shape'])\n",
      "0481\n",
      "Starting Training\n",
      "epoch: 00, loss: -0.01269\n",
      "epoch: 01, loss: -0.03360\n",
      "epoch: 02, loss: -0.03705\n",
      "epoch: 03, loss: -0.03787\n",
      "epoch: 04, loss: -0.03819\n",
      "epoch: 05, loss: -0.03849\n",
      "epoch: 06, loss: -0.03866\n",
      "epoch: 07, loss: -0.03878\n",
      "epoch: 08, loss: -0.03887\n",
      "epoch: 09, loss: -0.03902\n",
      "torch.Size([450, 64])\n"
     ]
    },
    {
     "name": "stderr",
     "output_type": "stream",
     "text": [
      "\r",
      " 48%|████████████████████████████████████████████████████████████████████████████▍                                                                                  | 481/1000 [3:24:15<3:47:01, 26.25s/it]"
     ]
    },
    {
     "name": "stdout",
     "output_type": "stream",
     "text": [
      "eigenvalues shape torch.Size([5]) eigenvectors shape torch.Size([5, 450])\n",
      "481 /home/phdcs2/Hard_Disk/Datasets/Deep-Spectral-Segmentation/data/object-segmentation/ECSSD/features/dino_vits16/0482.pth\n",
      "dict_keys(['k', 'indices', 'file', 'id', 'model_name', 'patch_size', 'shape'])\n",
      "0482\n",
      "Starting Training\n",
      "epoch: 00, loss: -0.04044\n",
      "epoch: 01, loss: -0.05520\n",
      "epoch: 02, loss: -0.05852\n",
      "epoch: 03, loss: -0.05819\n",
      "epoch: 04, loss: -0.05820\n",
      "epoch: 05, loss: -0.05974\n",
      "epoch: 06, loss: -0.05880\n",
      "epoch: 07, loss: -0.06041\n",
      "epoch: 08, loss: -0.05921\n",
      "epoch: 09, loss: -0.06127\n",
      "torch.Size([450, 64])\n"
     ]
    },
    {
     "name": "stderr",
     "output_type": "stream",
     "text": [
      "\r",
      " 48%|████████████████████████████████████████████████████████████████████████████▋                                                                                  | 482/1000 [3:24:37<3:34:38, 24.86s/it]"
     ]
    },
    {
     "name": "stdout",
     "output_type": "stream",
     "text": [
      "eigenvalues shape torch.Size([5]) eigenvectors shape torch.Size([5, 450])\n",
      "482 /home/phdcs2/Hard_Disk/Datasets/Deep-Spectral-Segmentation/data/object-segmentation/ECSSD/features/dino_vits16/0483.pth\n",
      "dict_keys(['k', 'indices', 'file', 'id', 'model_name', 'patch_size', 'shape'])\n",
      "0483\n",
      "Starting Training\n",
      "epoch: 00, loss: 0.00974\n",
      "epoch: 01, loss: 0.00291\n",
      "epoch: 02, loss: -0.00047\n",
      "epoch: 03, loss: -0.00313\n",
      "epoch: 04, loss: -0.00478\n",
      "epoch: 05, loss: -0.00606\n",
      "epoch: 06, loss: -0.00709\n",
      "epoch: 07, loss: -0.00773\n",
      "epoch: 08, loss: -0.00824\n",
      "epoch: 09, loss: -0.00869\n",
      "torch.Size([400, 64])\n"
     ]
    },
    {
     "name": "stderr",
     "output_type": "stream",
     "text": [
      "\r",
      " 48%|████████████████████████████████████████████████████████████████████████████▊                                                                                  | 483/1000 [3:24:55<3:17:12, 22.89s/it]"
     ]
    },
    {
     "name": "stdout",
     "output_type": "stream",
     "text": [
      "eigenvalues shape torch.Size([5]) eigenvectors shape torch.Size([5, 400])\n",
      "483 /home/phdcs2/Hard_Disk/Datasets/Deep-Spectral-Segmentation/data/object-segmentation/ECSSD/features/dino_vits16/0484.pth\n",
      "dict_keys(['k', 'indices', 'file', 'id', 'model_name', 'patch_size', 'shape'])\n",
      "0484\n",
      "Starting Training\n",
      "epoch: 00, loss: -0.00666\n",
      "epoch: 01, loss: -0.02761\n",
      "epoch: 02, loss: -0.03153\n",
      "epoch: 03, loss: -0.03362\n",
      "epoch: 04, loss: -0.03593\n",
      "epoch: 05, loss: -0.03725\n",
      "epoch: 06, loss: -0.03699\n",
      "epoch: 07, loss: -0.03698\n",
      "epoch: 08, loss: -0.03702\n",
      "epoch: 09, loss: -0.03723\n",
      "torch.Size([450, 64])\n"
     ]
    },
    {
     "name": "stderr",
     "output_type": "stream",
     "text": [
      "\r",
      " 48%|████████████████████████████████████████████████████████████████████████████▉                                                                                  | 484/1000 [3:25:17<3:14:13, 22.58s/it]"
     ]
    },
    {
     "name": "stdout",
     "output_type": "stream",
     "text": [
      "eigenvalues shape torch.Size([5]) eigenvectors shape torch.Size([5, 450])\n",
      "484 /home/phdcs2/Hard_Disk/Datasets/Deep-Spectral-Segmentation/data/object-segmentation/ECSSD/features/dino_vits16/0485.pth\n",
      "dict_keys(['k', 'indices', 'file', 'id', 'model_name', 'patch_size', 'shape'])\n",
      "0485\n",
      "Starting Training\n",
      "epoch: 00, loss: -0.03277\n",
      "epoch: 01, loss: -0.05363\n",
      "epoch: 02, loss: -0.05578\n",
      "epoch: 03, loss: -0.05610\n",
      "epoch: 04, loss: -0.05646\n",
      "epoch: 05, loss: -0.05660\n",
      "epoch: 06, loss: -0.05673\n",
      "epoch: 07, loss: -0.05693\n",
      "epoch: 08, loss: -0.05712\n",
      "epoch: 09, loss: -0.05716\n",
      "torch.Size([400, 64])\n"
     ]
    },
    {
     "name": "stderr",
     "output_type": "stream",
     "text": [
      "\r",
      " 48%|█████████████████████████████████████████████████████████████████████████████                                                                                  | 485/1000 [3:25:37<3:07:21, 21.83s/it]"
     ]
    },
    {
     "name": "stdout",
     "output_type": "stream",
     "text": [
      "eigenvalues shape torch.Size([5]) eigenvectors shape torch.Size([5, 400])\n",
      "485 /home/phdcs2/Hard_Disk/Datasets/Deep-Spectral-Segmentation/data/object-segmentation/ECSSD/features/dino_vits16/0486.pth\n",
      "dict_keys(['k', 'indices', 'file', 'id', 'model_name', 'patch_size', 'shape'])\n",
      "0486\n",
      "Starting Training\n",
      "epoch: 00, loss: -0.02886\n",
      "epoch: 01, loss: -0.05824\n",
      "epoch: 02, loss: -0.06047\n",
      "epoch: 03, loss: -0.06644\n",
      "epoch: 04, loss: -0.06700\n",
      "epoch: 05, loss: -0.06523\n",
      "epoch: 06, loss: -0.06870\n",
      "epoch: 07, loss: -0.06727\n",
      "epoch: 08, loss: -0.06898\n",
      "epoch: 09, loss: -0.06999\n",
      "torch.Size([450, 64])\n",
      "eigenvalues shape torch.Size([5]) eigenvectors shape torch.Size([5, 450])\n"
     ]
    },
    {
     "name": "stderr",
     "output_type": "stream",
     "text": [
      "\r",
      " 49%|█████████████████████████████████████████████████████████████████████████████▎                                                                                 | 486/1000 [3:26:03<3:16:40, 22.96s/it]"
     ]
    },
    {
     "name": "stdout",
     "output_type": "stream",
     "text": [
      "486 /home/phdcs2/Hard_Disk/Datasets/Deep-Spectral-Segmentation/data/object-segmentation/ECSSD/features/dino_vits16/0487.pth\n",
      "dict_keys(['k', 'indices', 'file', 'id', 'model_name', 'patch_size', 'shape'])\n",
      "0487\n",
      "Starting Training\n",
      "epoch: 00, loss: -0.04988\n",
      "epoch: 01, loss: -0.07956\n",
      "epoch: 02, loss: -0.08393\n",
      "epoch: 03, loss: -0.08697\n",
      "epoch: 04, loss: -0.08765\n",
      "epoch: 05, loss: -0.08658\n",
      "epoch: 06, loss: -0.08842\n",
      "epoch: 07, loss: -0.08947\n",
      "epoch: 08, loss: -0.08976\n",
      "epoch: 09, loss: -0.09046\n",
      "torch.Size([400, 64])\n"
     ]
    },
    {
     "name": "stderr",
     "output_type": "stream",
     "text": [
      "\r",
      " 49%|█████████████████████████████████████████████████████████████████████████████▍                                                                                 | 487/1000 [3:26:21<3:04:57, 21.63s/it]"
     ]
    },
    {
     "name": "stdout",
     "output_type": "stream",
     "text": [
      "eigenvalues shape torch.Size([5]) eigenvectors shape torch.Size([5, 400])\n",
      "487 /home/phdcs2/Hard_Disk/Datasets/Deep-Spectral-Segmentation/data/object-segmentation/ECSSD/features/dino_vits16/0488.pth\n",
      "dict_keys(['k', 'indices', 'file', 'id', 'model_name', 'patch_size', 'shape'])\n",
      "0488\n",
      "Starting Training\n",
      "epoch: 00, loss: -0.01670\n",
      "epoch: 01, loss: -0.05102\n",
      "epoch: 02, loss: -0.05583\n",
      "epoch: 03, loss: -0.05840\n",
      "epoch: 04, loss: -0.05923\n",
      "epoch: 05, loss: -0.06329\n",
      "epoch: 06, loss: -0.06185\n",
      "epoch: 07, loss: -0.06125\n",
      "epoch: 08, loss: -0.06248\n",
      "epoch: 09, loss: -0.06076\n",
      "torch.Size([400, 64])\n"
     ]
    },
    {
     "name": "stderr",
     "output_type": "stream",
     "text": [
      "\r",
      " 49%|█████████████████████████████████████████████████████████████████████████████▌                                                                                 | 488/1000 [3:26:42<3:01:34, 21.28s/it]"
     ]
    },
    {
     "name": "stdout",
     "output_type": "stream",
     "text": [
      "eigenvalues shape torch.Size([5]) eigenvectors shape torch.Size([5, 400])\n",
      "488 /home/phdcs2/Hard_Disk/Datasets/Deep-Spectral-Segmentation/data/object-segmentation/ECSSD/features/dino_vits16/0489.pth\n",
      "dict_keys(['k', 'indices', 'file', 'id', 'model_name', 'patch_size', 'shape'])\n",
      "0489\n",
      "Starting Training\n",
      "epoch: 00, loss: -0.00978\n",
      "epoch: 01, loss: -0.03568\n",
      "epoch: 02, loss: -0.04097\n",
      "epoch: 03, loss: -0.03989\n",
      "epoch: 04, loss: -0.04307\n",
      "epoch: 05, loss: -0.04264\n",
      "epoch: 06, loss: -0.04378\n",
      "epoch: 07, loss: -0.04256\n",
      "epoch: 08, loss: -0.04293\n",
      "epoch: 09, loss: -0.04319\n",
      "torch.Size([550, 64])\n"
     ]
    },
    {
     "name": "stderr",
     "output_type": "stream",
     "text": [
      "\r",
      " 49%|█████████████████████████████████████████████████████████████████████████████▊                                                                                 | 489/1000 [3:27:14<3:30:49, 24.75s/it]"
     ]
    },
    {
     "name": "stdout",
     "output_type": "stream",
     "text": [
      "eigenvalues shape torch.Size([5]) eigenvectors shape torch.Size([5, 550])\n",
      "489 /home/phdcs2/Hard_Disk/Datasets/Deep-Spectral-Segmentation/data/object-segmentation/ECSSD/features/dino_vits16/0490.pth\n",
      "dict_keys(['k', 'indices', 'file', 'id', 'model_name', 'patch_size', 'shape'])\n",
      "0490\n",
      "Starting Training\n",
      "epoch: 00, loss: -0.01757\n",
      "epoch: 01, loss: -0.03643\n",
      "epoch: 02, loss: -0.03956\n",
      "epoch: 03, loss: -0.04064\n",
      "epoch: 04, loss: -0.04124\n",
      "epoch: 05, loss: -0.04132\n",
      "epoch: 06, loss: -0.04124\n",
      "epoch: 07, loss: -0.04156\n",
      "epoch: 08, loss: -0.04164\n",
      "epoch: 09, loss: -0.04179\n",
      "torch.Size([400, 64])\n"
     ]
    },
    {
     "name": "stderr",
     "output_type": "stream",
     "text": [
      "\r",
      " 49%|█████████████████████████████████████████████████████████████████████████████▉                                                                                 | 490/1000 [3:27:33<3:15:25, 22.99s/it]"
     ]
    },
    {
     "name": "stdout",
     "output_type": "stream",
     "text": [
      "eigenvalues shape torch.Size([5]) eigenvectors shape torch.Size([5, 400])\n",
      "490 /home/phdcs2/Hard_Disk/Datasets/Deep-Spectral-Segmentation/data/object-segmentation/ECSSD/features/dino_vits16/0491.pth\n",
      "dict_keys(['k', 'indices', 'file', 'id', 'model_name', 'patch_size', 'shape'])\n",
      "0491\n",
      "Starting Training\n",
      "epoch: 00, loss: -0.04167\n",
      "epoch: 01, loss: -0.06419\n",
      "epoch: 02, loss: -0.06512\n",
      "epoch: 03, loss: -0.06535\n",
      "epoch: 04, loss: -0.06562\n",
      "epoch: 05, loss: -0.06584\n",
      "epoch: 06, loss: -0.06592\n",
      "epoch: 07, loss: -0.06598\n",
      "epoch: 08, loss: -0.06623\n",
      "epoch: 09, loss: -0.06624\n",
      "torch.Size([500, 64])\n"
     ]
    },
    {
     "name": "stderr",
     "output_type": "stream",
     "text": [
      "\r",
      " 49%|██████████████████████████████████████████████████████████████████████████████                                                                                 | 491/1000 [3:27:55<3:11:34, 22.58s/it]"
     ]
    },
    {
     "name": "stdout",
     "output_type": "stream",
     "text": [
      "eigenvalues shape torch.Size([5]) eigenvectors shape torch.Size([5, 500])\n",
      "491 /home/phdcs2/Hard_Disk/Datasets/Deep-Spectral-Segmentation/data/object-segmentation/ECSSD/features/dino_vits16/0492.pth\n",
      "dict_keys(['k', 'indices', 'file', 'id', 'model_name', 'patch_size', 'shape'])\n",
      "0492\n",
      "Starting Training\n",
      "epoch: 00, loss: -0.03302\n",
      "epoch: 01, loss: -0.05960\n",
      "epoch: 02, loss: -0.06124\n",
      "epoch: 03, loss: -0.06172\n",
      "epoch: 04, loss: -0.06206\n",
      "epoch: 05, loss: -0.06204\n",
      "epoch: 06, loss: -0.06239\n",
      "epoch: 07, loss: -0.06249\n",
      "epoch: 08, loss: -0.06257\n",
      "epoch: 09, loss: -0.06258\n",
      "torch.Size([450, 64])\n"
     ]
    },
    {
     "name": "stderr",
     "output_type": "stream",
     "text": [
      "\r",
      " 49%|██████████████████████████████████████████████████████████████████████████████▏                                                                                | 492/1000 [3:28:15<3:04:59, 21.85s/it]"
     ]
    },
    {
     "name": "stdout",
     "output_type": "stream",
     "text": [
      "eigenvalues shape torch.Size([5]) eigenvectors shape torch.Size([5, 450])\n",
      "492 /home/phdcs2/Hard_Disk/Datasets/Deep-Spectral-Segmentation/data/object-segmentation/ECSSD/features/dino_vits16/0493.pth\n",
      "dict_keys(['k', 'indices', 'file', 'id', 'model_name', 'patch_size', 'shape'])\n",
      "0493\n",
      "Starting Training\n",
      "epoch: 00, loss: 0.00184\n",
      "epoch: 01, loss: -0.01968\n",
      "epoch: 02, loss: -0.02676\n",
      "epoch: 03, loss: -0.02888\n",
      "epoch: 04, loss: -0.03009\n",
      "epoch: 05, loss: -0.03020\n",
      "epoch: 06, loss: -0.03050\n",
      "epoch: 07, loss: -0.03068\n",
      "epoch: 08, loss: -0.03084\n",
      "epoch: 09, loss: -0.03116\n",
      "torch.Size([400, 64])\n"
     ]
    },
    {
     "name": "stderr",
     "output_type": "stream",
     "text": [
      "\r",
      " 49%|██████████████████████████████████████████████████████████████████████████████▍                                                                                | 493/1000 [3:28:33<2:54:41, 20.67s/it]"
     ]
    },
    {
     "name": "stdout",
     "output_type": "stream",
     "text": [
      "eigenvalues shape torch.Size([5]) eigenvectors shape torch.Size([5, 400])\n",
      "493 /home/phdcs2/Hard_Disk/Datasets/Deep-Spectral-Segmentation/data/object-segmentation/ECSSD/features/dino_vits16/0494.pth\n",
      "dict_keys(['k', 'indices', 'file', 'id', 'model_name', 'patch_size', 'shape'])\n",
      "0494\n",
      "Starting Training\n",
      "epoch: 00, loss: 0.00381\n",
      "epoch: 01, loss: -0.01401\n",
      "epoch: 02, loss: -0.02005\n",
      "epoch: 03, loss: -0.02267\n",
      "epoch: 04, loss: -0.02376\n",
      "epoch: 05, loss: -0.02435\n",
      "epoch: 06, loss: -0.02478\n",
      "epoch: 07, loss: -0.02493\n",
      "epoch: 08, loss: -0.02500\n",
      "epoch: 09, loss: -0.02526\n",
      "torch.Size([400, 64])\n"
     ]
    },
    {
     "name": "stderr",
     "output_type": "stream",
     "text": [
      "\r",
      " 49%|██████████████████████████████████████████████████████████████████████████████▌                                                                                | 494/1000 [3:28:51<2:47:51, 19.90s/it]"
     ]
    },
    {
     "name": "stdout",
     "output_type": "stream",
     "text": [
      "eigenvalues shape torch.Size([5]) eigenvectors shape torch.Size([5, 400])\n",
      "494 /home/phdcs2/Hard_Disk/Datasets/Deep-Spectral-Segmentation/data/object-segmentation/ECSSD/features/dino_vits16/0495.pth\n",
      "dict_keys(['k', 'indices', 'file', 'id', 'model_name', 'patch_size', 'shape'])\n",
      "0495\n",
      "Starting Training\n",
      "epoch: 00, loss: -0.01209\n",
      "epoch: 01, loss: -0.03612\n",
      "epoch: 02, loss: -0.04761\n",
      "epoch: 03, loss: -0.04535\n",
      "epoch: 04, loss: -0.04765\n",
      "epoch: 05, loss: -0.04481\n",
      "epoch: 06, loss: -0.05013\n",
      "epoch: 07, loss: -0.05193\n",
      "epoch: 08, loss: -0.05159\n",
      "epoch: 09, loss: -0.04988\n",
      "torch.Size([400, 64])\n"
     ]
    },
    {
     "name": "stderr",
     "output_type": "stream",
     "text": [
      "\r",
      " 50%|██████████████████████████████████████████████████████████████████████████████▋                                                                                | 495/1000 [3:29:06<2:34:54, 18.41s/it]"
     ]
    },
    {
     "name": "stdout",
     "output_type": "stream",
     "text": [
      "eigenvalues shape torch.Size([5]) eigenvectors shape torch.Size([5, 400])\n",
      "495 /home/phdcs2/Hard_Disk/Datasets/Deep-Spectral-Segmentation/data/object-segmentation/ECSSD/features/dino_vits16/0496.pth\n",
      "dict_keys(['k', 'indices', 'file', 'id', 'model_name', 'patch_size', 'shape'])\n",
      "0496\n",
      "Starting Training\n",
      "epoch: 00, loss: -0.01815\n",
      "epoch: 01, loss: -0.03485\n",
      "epoch: 02, loss: -0.03690\n",
      "epoch: 03, loss: -0.03776\n",
      "epoch: 04, loss: -0.03810\n",
      "epoch: 05, loss: -0.03832\n",
      "epoch: 06, loss: -0.03857\n",
      "epoch: 07, loss: -0.03877\n",
      "epoch: 08, loss: -0.03878\n",
      "epoch: 09, loss: -0.03882\n",
      "torch.Size([450, 64])\n"
     ]
    },
    {
     "name": "stderr",
     "output_type": "stream",
     "text": [
      "\r",
      " 50%|██████████████████████████████████████████████████████████████████████████████▊                                                                                | 496/1000 [3:29:29<2:46:34, 19.83s/it]"
     ]
    },
    {
     "name": "stdout",
     "output_type": "stream",
     "text": [
      "eigenvalues shape torch.Size([5]) eigenvectors shape torch.Size([5, 450])\n",
      "496 /home/phdcs2/Hard_Disk/Datasets/Deep-Spectral-Segmentation/data/object-segmentation/ECSSD/features/dino_vits16/0497.pth\n",
      "dict_keys(['k', 'indices', 'file', 'id', 'model_name', 'patch_size', 'shape'])\n",
      "0497\n",
      "Starting Training\n",
      "epoch: 00, loss: -0.01790\n",
      "epoch: 01, loss: -0.04360\n",
      "epoch: 02, loss: -0.04610\n",
      "epoch: 03, loss: -0.04655\n",
      "epoch: 04, loss: -0.04708\n",
      "epoch: 05, loss: -0.04705\n",
      "epoch: 06, loss: -0.04728\n",
      "epoch: 07, loss: -0.04735\n",
      "epoch: 08, loss: -0.04744\n",
      "epoch: 09, loss: -0.04749\n",
      "torch.Size([450, 64])\n"
     ]
    },
    {
     "name": "stderr",
     "output_type": "stream",
     "text": [
      "\r",
      " 50%|███████████████████████████████████████████████████████████████████████████████                                                                                | 497/1000 [3:29:49<2:45:42, 19.77s/it]"
     ]
    },
    {
     "name": "stdout",
     "output_type": "stream",
     "text": [
      "eigenvalues shape torch.Size([5]) eigenvectors shape torch.Size([5, 450])\n",
      "497 /home/phdcs2/Hard_Disk/Datasets/Deep-Spectral-Segmentation/data/object-segmentation/ECSSD/features/dino_vits16/0498.pth\n",
      "dict_keys(['k', 'indices', 'file', 'id', 'model_name', 'patch_size', 'shape'])\n",
      "0498\n",
      "Starting Training\n",
      "epoch: 00, loss: -0.04330\n",
      "epoch: 01, loss: -0.07446\n",
      "epoch: 02, loss: -0.08043\n",
      "epoch: 03, loss: -0.08333\n",
      "epoch: 04, loss: -0.08424\n",
      "epoch: 05, loss: -0.08520\n",
      "epoch: 06, loss: -0.08487\n",
      "epoch: 07, loss: -0.08564\n",
      "epoch: 08, loss: -0.08726\n",
      "epoch: 09, loss: -0.08595\n",
      "torch.Size([400, 64])\n"
     ]
    },
    {
     "name": "stderr",
     "output_type": "stream",
     "text": [
      "\r",
      " 50%|███████████████████████████████████████████████████████████████████████████████▏                                                                               | 498/1000 [3:30:07<2:40:39, 19.20s/it]"
     ]
    },
    {
     "name": "stdout",
     "output_type": "stream",
     "text": [
      "eigenvalues shape torch.Size([5]) eigenvectors shape torch.Size([5, 400])\n",
      "498 /home/phdcs2/Hard_Disk/Datasets/Deep-Spectral-Segmentation/data/object-segmentation/ECSSD/features/dino_vits16/0499.pth\n",
      "dict_keys(['k', 'indices', 'file', 'id', 'model_name', 'patch_size', 'shape'])\n",
      "0499\n",
      "Starting Training\n",
      "epoch: 00, loss: -0.04771\n",
      "epoch: 01, loss: -0.07642\n",
      "epoch: 02, loss: -0.08199\n",
      "epoch: 03, loss: -0.08426\n",
      "epoch: 04, loss: -0.08464\n",
      "epoch: 05, loss: -0.08450\n",
      "epoch: 06, loss: -0.08561\n",
      "epoch: 07, loss: -0.08585\n",
      "epoch: 08, loss: -0.08835\n",
      "epoch: 09, loss: -0.08802\n",
      "torch.Size([450, 64])\n"
     ]
    },
    {
     "name": "stderr",
     "output_type": "stream",
     "text": [
      "\r",
      " 50%|███████████████████████████████████████████████████████████████████████████████▎                                                                               | 499/1000 [3:30:27<2:44:11, 19.66s/it]"
     ]
    },
    {
     "name": "stdout",
     "output_type": "stream",
     "text": [
      "eigenvalues shape torch.Size([5]) eigenvectors shape torch.Size([5, 450])\n",
      "499 /home/phdcs2/Hard_Disk/Datasets/Deep-Spectral-Segmentation/data/object-segmentation/ECSSD/features/dino_vits16/0500.pth\n",
      "dict_keys(['k', 'indices', 'file', 'id', 'model_name', 'patch_size', 'shape'])\n",
      "0500\n",
      "Starting Training\n",
      "epoch: 00, loss: -0.05221\n",
      "epoch: 01, loss: -0.07385\n",
      "epoch: 02, loss: -0.07654\n",
      "epoch: 03, loss: -0.07971\n",
      "epoch: 04, loss: -0.07840\n",
      "epoch: 05, loss: -0.07912\n",
      "epoch: 06, loss: -0.08304\n",
      "epoch: 07, loss: -0.08036\n",
      "epoch: 08, loss: -0.08083\n",
      "epoch: 09, loss: -0.08255\n",
      "torch.Size([450, 64])\n"
     ]
    },
    {
     "name": "stderr",
     "output_type": "stream",
     "text": [
      "\r",
      " 50%|███████████████████████████████████████████████████████████████████████████████▌                                                                               | 500/1000 [3:30:49<2:48:08, 20.18s/it]"
     ]
    },
    {
     "name": "stdout",
     "output_type": "stream",
     "text": [
      "eigenvalues shape torch.Size([5]) eigenvectors shape torch.Size([5, 450])\n",
      "500 /home/phdcs2/Hard_Disk/Datasets/Deep-Spectral-Segmentation/data/object-segmentation/ECSSD/features/dino_vits16/0501.pth\n",
      "dict_keys(['k', 'indices', 'file', 'id', 'model_name', 'patch_size', 'shape'])\n",
      "0501\n",
      "Starting Training\n",
      "epoch: 00, loss: -0.01167\n",
      "epoch: 01, loss: -0.03461\n",
      "epoch: 02, loss: -0.03853\n",
      "epoch: 03, loss: -0.03936\n",
      "epoch: 04, loss: -0.03999\n",
      "epoch: 05, loss: -0.04096\n",
      "epoch: 06, loss: -0.04040\n",
      "epoch: 07, loss: -0.04048\n",
      "epoch: 08, loss: -0.04100\n",
      "epoch: 09, loss: -0.04091\n",
      "torch.Size([450, 64])\n"
     ]
    },
    {
     "name": "stderr",
     "output_type": "stream",
     "text": [
      "\r",
      " 50%|███████████████████████████████████████████████████████████████████████████████▋                                                                               | 501/1000 [3:31:07<2:42:57, 19.59s/it]"
     ]
    },
    {
     "name": "stdout",
     "output_type": "stream",
     "text": [
      "eigenvalues shape torch.Size([5]) eigenvectors shape torch.Size([5, 450])\n",
      "501 /home/phdcs2/Hard_Disk/Datasets/Deep-Spectral-Segmentation/data/object-segmentation/ECSSD/features/dino_vits16/0502.pth\n",
      "dict_keys(['k', 'indices', 'file', 'id', 'model_name', 'patch_size', 'shape'])\n",
      "0502\n",
      "Starting Training\n",
      "epoch: 00, loss: -0.04536\n",
      "epoch: 01, loss: -0.07552\n",
      "epoch: 02, loss: -0.07848\n",
      "epoch: 03, loss: -0.07827\n",
      "epoch: 04, loss: -0.07971\n",
      "epoch: 05, loss: -0.08031\n",
      "epoch: 06, loss: -0.08040\n",
      "epoch: 07, loss: -0.08142\n",
      "epoch: 08, loss: -0.08121\n",
      "epoch: 09, loss: -0.08126\n",
      "torch.Size([625, 64])\n"
     ]
    },
    {
     "name": "stderr",
     "output_type": "stream",
     "text": [
      "\r",
      " 50%|███████████████████████████████████████████████████████████████████████████████▊                                                                               | 502/1000 [3:31:46<3:31:52, 25.53s/it]"
     ]
    },
    {
     "name": "stdout",
     "output_type": "stream",
     "text": [
      "eigenvalues shape torch.Size([5]) eigenvectors shape torch.Size([5, 625])\n",
      "502 /home/phdcs2/Hard_Disk/Datasets/Deep-Spectral-Segmentation/data/object-segmentation/ECSSD/features/dino_vits16/0503.pth\n",
      "dict_keys(['k', 'indices', 'file', 'id', 'model_name', 'patch_size', 'shape'])\n",
      "0503\n",
      "Starting Training\n",
      "epoch: 00, loss: -0.07446\n",
      "epoch: 01, loss: -0.11044\n",
      "epoch: 02, loss: -0.11498\n",
      "epoch: 03, loss: -0.11959\n",
      "epoch: 04, loss: -0.11656\n",
      "epoch: 05, loss: -0.11514\n",
      "epoch: 06, loss: -0.11908\n",
      "epoch: 07, loss: -0.11896\n",
      "epoch: 08, loss: -0.11934\n",
      "epoch: 09, loss: -0.12027\n",
      "torch.Size([400, 64])\n"
     ]
    },
    {
     "name": "stderr",
     "output_type": "stream",
     "text": [
      "\r",
      " 50%|███████████████████████████████████████████████████████████████████████████████▉                                                                               | 503/1000 [3:32:02<3:07:04, 22.58s/it]"
     ]
    },
    {
     "name": "stdout",
     "output_type": "stream",
     "text": [
      "eigenvalues shape torch.Size([5]) eigenvectors shape torch.Size([5, 400])\n",
      "503 /home/phdcs2/Hard_Disk/Datasets/Deep-Spectral-Segmentation/data/object-segmentation/ECSSD/features/dino_vits16/0504.pth\n",
      "dict_keys(['k', 'indices', 'file', 'id', 'model_name', 'patch_size', 'shape'])\n",
      "0504\n",
      "Starting Training\n",
      "epoch: 00, loss: -0.03334\n",
      "epoch: 01, loss: -0.06680\n",
      "epoch: 02, loss: -0.06807\n",
      "epoch: 03, loss: -0.07369\n",
      "epoch: 04, loss: -0.07126\n",
      "epoch: 05, loss: -0.07121\n",
      "epoch: 06, loss: -0.07192\n",
      "epoch: 07, loss: -0.07514\n",
      "epoch: 08, loss: -0.07380\n",
      "epoch: 09, loss: -0.07514\n",
      "torch.Size([400, 64])\n"
     ]
    },
    {
     "name": "stderr",
     "output_type": "stream",
     "text": [
      "\r",
      " 50%|████████████████████████████████████████████████████████████████████████████████▏                                                                              | 504/1000 [3:32:20<2:54:01, 21.05s/it]"
     ]
    },
    {
     "name": "stdout",
     "output_type": "stream",
     "text": [
      "eigenvalues shape torch.Size([5]) eigenvectors shape torch.Size([5, 400])\n",
      "504 /home/phdcs2/Hard_Disk/Datasets/Deep-Spectral-Segmentation/data/object-segmentation/ECSSD/features/dino_vits16/0505.pth\n",
      "dict_keys(['k', 'indices', 'file', 'id', 'model_name', 'patch_size', 'shape'])\n",
      "0505\n",
      "Starting Training\n",
      "epoch: 00, loss: -0.03175\n",
      "epoch: 01, loss: -0.05538\n",
      "epoch: 02, loss: -0.05659\n",
      "epoch: 03, loss: -0.05736\n",
      "epoch: 04, loss: -0.05732\n",
      "epoch: 05, loss: -0.05762\n",
      "epoch: 06, loss: -0.05782\n",
      "epoch: 07, loss: -0.05793\n",
      "epoch: 08, loss: -0.05789\n",
      "epoch: 09, loss: -0.05815\n",
      "torch.Size([450, 64])\n"
     ]
    },
    {
     "name": "stderr",
     "output_type": "stream",
     "text": [
      "\r",
      " 50%|████████████████████████████████████████████████████████████████████████████████▎                                                                              | 505/1000 [3:32:40<2:50:51, 20.71s/it]"
     ]
    },
    {
     "name": "stdout",
     "output_type": "stream",
     "text": [
      "eigenvalues shape torch.Size([5]) eigenvectors shape torch.Size([5, 450])\n",
      "505 /home/phdcs2/Hard_Disk/Datasets/Deep-Spectral-Segmentation/data/object-segmentation/ECSSD/features/dino_vits16/0506.pth\n",
      "dict_keys(['k', 'indices', 'file', 'id', 'model_name', 'patch_size', 'shape'])\n",
      "0506\n",
      "Starting Training\n",
      "epoch: 00, loss: -0.01020\n",
      "epoch: 01, loss: -0.03450\n",
      "epoch: 02, loss: -0.03827\n",
      "epoch: 03, loss: -0.04013\n",
      "epoch: 04, loss: -0.04042\n",
      "epoch: 05, loss: -0.04082\n",
      "epoch: 06, loss: -0.04126\n",
      "epoch: 07, loss: -0.04108\n",
      "epoch: 08, loss: -0.04121\n",
      "epoch: 09, loss: -0.04155\n",
      "torch.Size([400, 64])\n"
     ]
    },
    {
     "name": "stderr",
     "output_type": "stream",
     "text": [
      "\r",
      " 51%|████████████████████████████████████████████████████████████████████████████████▍                                                                              | 506/1000 [3:32:57<2:42:38, 19.75s/it]"
     ]
    },
    {
     "name": "stdout",
     "output_type": "stream",
     "text": [
      "eigenvalues shape torch.Size([5]) eigenvectors shape torch.Size([5, 400])\n",
      "506 /home/phdcs2/Hard_Disk/Datasets/Deep-Spectral-Segmentation/data/object-segmentation/ECSSD/features/dino_vits16/0507.pth\n",
      "dict_keys(['k', 'indices', 'file', 'id', 'model_name', 'patch_size', 'shape'])\n",
      "0507\n",
      "Starting Training\n",
      "epoch: 00, loss: -0.00552\n",
      "epoch: 01, loss: -0.02732\n",
      "epoch: 02, loss: -0.03154\n",
      "epoch: 03, loss: -0.03288\n",
      "epoch: 04, loss: -0.03456\n",
      "epoch: 05, loss: -0.03767\n",
      "epoch: 06, loss: -0.03431\n",
      "epoch: 07, loss: -0.03926\n",
      "epoch: 08, loss: -0.03878\n",
      "epoch: 09, loss: -0.03786\n",
      "torch.Size([375, 64])\n"
     ]
    },
    {
     "name": "stderr",
     "output_type": "stream",
     "text": [
      "\r",
      " 51%|████████████████████████████████████████████████████████████████████████████████▌                                                                              | 507/1000 [3:33:14<2:34:47, 18.84s/it]"
     ]
    },
    {
     "name": "stdout",
     "output_type": "stream",
     "text": [
      "eigenvalues shape torch.Size([5]) eigenvectors shape torch.Size([5, 375])\n",
      "507 /home/phdcs2/Hard_Disk/Datasets/Deep-Spectral-Segmentation/data/object-segmentation/ECSSD/features/dino_vits16/0508.pth\n",
      "dict_keys(['k', 'indices', 'file', 'id', 'model_name', 'patch_size', 'shape'])\n",
      "0508\n",
      "Starting Training\n",
      "epoch: 00, loss: -0.01336\n",
      "epoch: 01, loss: -0.03226\n",
      "epoch: 02, loss: -0.03617\n",
      "epoch: 03, loss: -0.03736\n",
      "epoch: 04, loss: -0.03790\n",
      "epoch: 05, loss: -0.03829\n",
      "epoch: 06, loss: -0.03845\n",
      "epoch: 07, loss: -0.03854\n",
      "epoch: 08, loss: -0.03867\n",
      "epoch: 09, loss: -0.03892\n",
      "torch.Size([400, 64])\n"
     ]
    },
    {
     "name": "stderr",
     "output_type": "stream",
     "text": [
      "\r",
      " 51%|████████████████████████████████████████████████████████████████████████████████▊                                                                              | 508/1000 [3:33:30<2:27:19, 17.97s/it]"
     ]
    },
    {
     "name": "stdout",
     "output_type": "stream",
     "text": [
      "eigenvalues shape torch.Size([5]) eigenvectors shape torch.Size([5, 400])\n",
      "508 /home/phdcs2/Hard_Disk/Datasets/Deep-Spectral-Segmentation/data/object-segmentation/ECSSD/features/dino_vits16/0509.pth\n",
      "dict_keys(['k', 'indices', 'file', 'id', 'model_name', 'patch_size', 'shape'])\n",
      "0509\n",
      "Starting Training\n",
      "epoch: 00, loss: -0.01018\n",
      "epoch: 01, loss: -0.02550\n",
      "epoch: 02, loss: -0.02836\n",
      "epoch: 03, loss: -0.02914\n",
      "epoch: 04, loss: -0.02977\n",
      "epoch: 05, loss: -0.02955\n",
      "epoch: 06, loss: -0.02980\n",
      "epoch: 07, loss: -0.03022\n",
      "epoch: 08, loss: -0.03040\n",
      "epoch: 09, loss: -0.03039\n",
      "torch.Size([625, 64])\n"
     ]
    },
    {
     "name": "stderr",
     "output_type": "stream",
     "text": [
      "\r",
      " 51%|████████████████████████████████████████████████████████████████████████████████▉                                                                              | 509/1000 [3:34:03<3:05:29, 22.67s/it]"
     ]
    },
    {
     "name": "stdout",
     "output_type": "stream",
     "text": [
      "eigenvalues shape torch.Size([5]) eigenvectors shape torch.Size([5, 625])\n",
      "509 /home/phdcs2/Hard_Disk/Datasets/Deep-Spectral-Segmentation/data/object-segmentation/ECSSD/features/dino_vits16/0510.pth\n",
      "dict_keys(['k', 'indices', 'file', 'id', 'model_name', 'patch_size', 'shape'])\n",
      "0510\n",
      "Starting Training\n",
      "epoch: 00, loss: -0.04308\n",
      "epoch: 01, loss: -0.08084\n",
      "epoch: 02, loss: -0.08683\n",
      "epoch: 03, loss: -0.08882\n",
      "epoch: 04, loss: -0.09053\n",
      "epoch: 05, loss: -0.08718\n",
      "epoch: 06, loss: -0.09334\n",
      "epoch: 07, loss: -0.09173\n",
      "epoch: 08, loss: -0.09640\n",
      "epoch: 09, loss: -0.09446\n",
      "torch.Size([400, 64])\n"
     ]
    },
    {
     "name": "stderr",
     "output_type": "stream",
     "text": [
      "\r",
      " 51%|█████████████████████████████████████████████████████████████████████████████████                                                                              | 510/1000 [3:34:25<3:03:21, 22.45s/it]"
     ]
    },
    {
     "name": "stdout",
     "output_type": "stream",
     "text": [
      "eigenvalues shape torch.Size([5]) eigenvectors shape torch.Size([5, 400])\n",
      "510 /home/phdcs2/Hard_Disk/Datasets/Deep-Spectral-Segmentation/data/object-segmentation/ECSSD/features/dino_vits16/0511.pth\n",
      "dict_keys(['k', 'indices', 'file', 'id', 'model_name', 'patch_size', 'shape'])\n",
      "0511\n",
      "Starting Training\n",
      "epoch: 00, loss: -0.01628\n",
      "epoch: 01, loss: -0.03603\n",
      "epoch: 02, loss: -0.03766\n",
      "epoch: 03, loss: -0.03816\n",
      "epoch: 04, loss: -0.03855\n",
      "epoch: 05, loss: -0.03838\n",
      "epoch: 06, loss: -0.03830\n",
      "epoch: 07, loss: -0.03861\n",
      "epoch: 08, loss: -0.03951\n",
      "epoch: 09, loss: -0.03891\n",
      "torch.Size([625, 64])\n"
     ]
    },
    {
     "name": "stderr",
     "output_type": "stream",
     "text": [
      "\r",
      " 51%|█████████████████████████████████████████████████████████████████████████████████▏                                                                             | 511/1000 [3:34:58<3:27:51, 25.50s/it]"
     ]
    },
    {
     "name": "stdout",
     "output_type": "stream",
     "text": [
      "eigenvalues shape torch.Size([5]) eigenvectors shape torch.Size([5, 625])\n",
      "511 /home/phdcs2/Hard_Disk/Datasets/Deep-Spectral-Segmentation/data/object-segmentation/ECSSD/features/dino_vits16/0512.pth\n",
      "dict_keys(['k', 'indices', 'file', 'id', 'model_name', 'patch_size', 'shape'])\n",
      "0512\n",
      "Starting Training\n",
      "epoch: 00, loss: -0.01238\n",
      "epoch: 01, loss: -0.03416\n",
      "epoch: 02, loss: -0.04013\n",
      "epoch: 03, loss: -0.04571\n",
      "epoch: 04, loss: -0.04370\n",
      "epoch: 05, loss: -0.04581\n",
      "epoch: 06, loss: -0.04480\n",
      "epoch: 07, loss: -0.04600\n",
      "epoch: 08, loss: -0.04799\n",
      "epoch: 09, loss: -0.04594\n",
      "torch.Size([400, 64])\n"
     ]
    },
    {
     "name": "stderr",
     "output_type": "stream",
     "text": [
      "\r",
      " 51%|█████████████████████████████████████████████████████████████████████████████████▍                                                                             | 512/1000 [3:35:16<3:10:12, 23.39s/it]"
     ]
    },
    {
     "name": "stdout",
     "output_type": "stream",
     "text": [
      "eigenvalues shape torch.Size([5]) eigenvectors shape torch.Size([5, 400])\n",
      "512 /home/phdcs2/Hard_Disk/Datasets/Deep-Spectral-Segmentation/data/object-segmentation/ECSSD/features/dino_vits16/0513.pth\n",
      "dict_keys(['k', 'indices', 'file', 'id', 'model_name', 'patch_size', 'shape'])\n",
      "0513\n",
      "Starting Training\n",
      "epoch: 00, loss: -0.05668\n",
      "epoch: 01, loss: -0.08604\n",
      "epoch: 02, loss: -0.09573\n",
      "epoch: 03, loss: -0.09279\n",
      "epoch: 04, loss: -0.08835\n",
      "epoch: 05, loss: -0.09155\n",
      "epoch: 06, loss: -0.09488\n",
      "epoch: 07, loss: -0.09112\n",
      "epoch: 08, loss: -0.09590\n",
      "epoch: 09, loss: -0.09544\n",
      "torch.Size([400, 64])\n"
     ]
    },
    {
     "name": "stderr",
     "output_type": "stream",
     "text": [
      "\r",
      " 51%|█████████████████████████████████████████████████████████████████████████████████▌                                                                             | 513/1000 [3:35:33<2:52:16, 21.23s/it]"
     ]
    },
    {
     "name": "stdout",
     "output_type": "stream",
     "text": [
      "eigenvalues shape torch.Size([5]) eigenvectors shape torch.Size([5, 400])\n",
      "513 /home/phdcs2/Hard_Disk/Datasets/Deep-Spectral-Segmentation/data/object-segmentation/ECSSD/features/dino_vits16/0514.pth\n",
      "dict_keys(['k', 'indices', 'file', 'id', 'model_name', 'patch_size', 'shape'])\n",
      "0514\n",
      "Starting Training\n",
      "epoch: 00, loss: 0.00541\n",
      "epoch: 01, loss: -0.00499\n",
      "epoch: 02, loss: -0.00966\n",
      "epoch: 03, loss: -0.01205\n",
      "epoch: 04, loss: -0.01346\n",
      "epoch: 05, loss: -0.01430\n",
      "epoch: 06, loss: -0.01470\n",
      "epoch: 07, loss: -0.01512\n",
      "epoch: 08, loss: -0.01540\n",
      "epoch: 09, loss: -0.01562\n",
      "torch.Size([450, 64])\n"
     ]
    },
    {
     "name": "stderr",
     "output_type": "stream",
     "text": [
      "\r",
      " 51%|█████████████████████████████████████████████████████████████████████████████████▋                                                                             | 514/1000 [3:35:50<2:42:15, 20.03s/it]"
     ]
    },
    {
     "name": "stdout",
     "output_type": "stream",
     "text": [
      "eigenvalues shape torch.Size([5]) eigenvectors shape torch.Size([5, 450])\n",
      "514 /home/phdcs2/Hard_Disk/Datasets/Deep-Spectral-Segmentation/data/object-segmentation/ECSSD/features/dino_vits16/0515.pth\n",
      "dict_keys(['k', 'indices', 'file', 'id', 'model_name', 'patch_size', 'shape'])\n",
      "0515\n",
      "Starting Training\n",
      "epoch: 00, loss: -0.02892\n",
      "epoch: 01, loss: -0.05746\n",
      "epoch: 02, loss: -0.06208\n",
      "epoch: 03, loss: -0.06375\n",
      "epoch: 04, loss: -0.06493\n",
      "epoch: 05, loss: -0.06593\n",
      "epoch: 06, loss: -0.06632\n",
      "epoch: 07, loss: -0.06720\n",
      "epoch: 08, loss: -0.06667\n",
      "epoch: 09, loss: -0.06823\n",
      "torch.Size([450, 64])\n"
     ]
    },
    {
     "name": "stderr",
     "output_type": "stream",
     "text": [
      "\r",
      " 52%|█████████████████████████████████████████████████████████████████████████████████▉                                                                             | 515/1000 [3:36:09<2:39:25, 19.72s/it]"
     ]
    },
    {
     "name": "stdout",
     "output_type": "stream",
     "text": [
      "eigenvalues shape torch.Size([5]) eigenvectors shape torch.Size([5, 450])\n",
      "515 /home/phdcs2/Hard_Disk/Datasets/Deep-Spectral-Segmentation/data/object-segmentation/ECSSD/features/dino_vits16/0516.pth\n",
      "dict_keys(['k', 'indices', 'file', 'id', 'model_name', 'patch_size', 'shape'])\n",
      "0516\n",
      "Starting Training\n",
      "epoch: 00, loss: -0.00838\n",
      "epoch: 01, loss: -0.02985\n",
      "epoch: 02, loss: -0.03286\n",
      "epoch: 03, loss: -0.03387\n",
      "epoch: 04, loss: -0.03453\n",
      "epoch: 05, loss: -0.03454\n",
      "epoch: 06, loss: -0.03488\n",
      "epoch: 07, loss: -0.03504\n",
      "epoch: 08, loss: -0.03506\n",
      "epoch: 09, loss: -0.03531\n",
      "torch.Size([450, 64])\n"
     ]
    },
    {
     "name": "stderr",
     "output_type": "stream",
     "text": [
      "\r",
      " 52%|██████████████████████████████████████████████████████████████████████████████████                                                                             | 516/1000 [3:36:27<2:36:31, 19.40s/it]"
     ]
    },
    {
     "name": "stdout",
     "output_type": "stream",
     "text": [
      "eigenvalues shape torch.Size([5]) eigenvectors shape torch.Size([5, 450])\n",
      "516 /home/phdcs2/Hard_Disk/Datasets/Deep-Spectral-Segmentation/data/object-segmentation/ECSSD/features/dino_vits16/0517.pth\n",
      "dict_keys(['k', 'indices', 'file', 'id', 'model_name', 'patch_size', 'shape'])\n",
      "0517\n",
      "Starting Training\n",
      "epoch: 00, loss: -0.00795\n",
      "epoch: 01, loss: -0.03057\n",
      "epoch: 02, loss: -0.03456\n",
      "epoch: 03, loss: -0.03574\n",
      "epoch: 04, loss: -0.03614\n",
      "epoch: 05, loss: -0.03652\n",
      "epoch: 06, loss: -0.03677\n",
      "epoch: 07, loss: -0.03689\n",
      "epoch: 08, loss: -0.03705\n",
      "epoch: 09, loss: -0.03703\n",
      "torch.Size([450, 64])\n"
     ]
    },
    {
     "name": "stderr",
     "output_type": "stream",
     "text": [
      "\r",
      " 52%|██████████████████████████████████████████████████████████████████████████████████▏                                                                            | 517/1000 [3:36:48<2:38:02, 19.63s/it]"
     ]
    },
    {
     "name": "stdout",
     "output_type": "stream",
     "text": [
      "eigenvalues shape torch.Size([5]) eigenvectors shape torch.Size([5, 450])\n",
      "517 /home/phdcs2/Hard_Disk/Datasets/Deep-Spectral-Segmentation/data/object-segmentation/ECSSD/features/dino_vits16/0518.pth\n",
      "dict_keys(['k', 'indices', 'file', 'id', 'model_name', 'patch_size', 'shape'])\n",
      "0518\n",
      "Starting Training\n",
      "epoch: 00, loss: -0.04478\n",
      "epoch: 01, loss: -0.07772\n",
      "epoch: 02, loss: -0.08593\n",
      "epoch: 03, loss: -0.08682\n",
      "epoch: 04, loss: -0.09133\n",
      "epoch: 05, loss: -0.09192\n",
      "epoch: 06, loss: -0.09310\n",
      "epoch: 07, loss: -0.09348\n",
      "epoch: 08, loss: -0.09265\n",
      "epoch: 09, loss: -0.09225\n",
      "torch.Size([400, 64])\n"
     ]
    },
    {
     "name": "stderr",
     "output_type": "stream",
     "text": [
      "\r",
      " 52%|██████████████████████████████████████████████████████████████████████████████████▎                                                                            | 518/1000 [3:37:05<2:31:05, 18.81s/it]"
     ]
    },
    {
     "name": "stdout",
     "output_type": "stream",
     "text": [
      "eigenvalues shape torch.Size([5]) eigenvectors shape torch.Size([5, 400])\n",
      "518 /home/phdcs2/Hard_Disk/Datasets/Deep-Spectral-Segmentation/data/object-segmentation/ECSSD/features/dino_vits16/0519.pth\n",
      "dict_keys(['k', 'indices', 'file', 'id', 'model_name', 'patch_size', 'shape'])\n",
      "0519\n",
      "Starting Training\n",
      "epoch: 00, loss: -0.03792\n",
      "epoch: 01, loss: -0.06190\n",
      "epoch: 02, loss: -0.06889\n",
      "epoch: 03, loss: -0.07153\n",
      "epoch: 04, loss: -0.07427\n",
      "epoch: 05, loss: -0.07421\n",
      "epoch: 06, loss: -0.07401\n",
      "epoch: 07, loss: -0.07158\n",
      "epoch: 08, loss: -0.07439\n",
      "epoch: 09, loss: -0.07510\n",
      "torch.Size([375, 64])\n"
     ]
    },
    {
     "name": "stderr",
     "output_type": "stream",
     "text": [
      "\r",
      " 52%|██████████████████████████████████████████████████████████████████████████████████▌                                                                            | 519/1000 [3:37:19<2:19:22, 17.39s/it]"
     ]
    },
    {
     "name": "stdout",
     "output_type": "stream",
     "text": [
      "eigenvalues shape torch.Size([5]) eigenvectors shape torch.Size([5, 375])\n",
      "519 /home/phdcs2/Hard_Disk/Datasets/Deep-Spectral-Segmentation/data/object-segmentation/ECSSD/features/dino_vits16/0520.pth\n",
      "dict_keys(['k', 'indices', 'file', 'id', 'model_name', 'patch_size', 'shape'])\n",
      "0520\n",
      "Starting Training\n",
      "epoch: 00, loss: -0.00160\n",
      "epoch: 01, loss: -0.01734\n",
      "epoch: 02, loss: -0.02239\n",
      "epoch: 03, loss: -0.02381\n",
      "epoch: 04, loss: -0.02454\n",
      "epoch: 05, loss: -0.02479\n",
      "epoch: 06, loss: -0.02509\n",
      "epoch: 07, loss: -0.02536\n",
      "epoch: 08, loss: -0.02532\n",
      "epoch: 09, loss: -0.02557\n",
      "torch.Size([450, 64])\n"
     ]
    },
    {
     "name": "stderr",
     "output_type": "stream",
     "text": [
      "\r",
      " 52%|██████████████████████████████████████████████████████████████████████████████████▋                                                                            | 520/1000 [3:37:36<2:18:45, 17.35s/it]"
     ]
    },
    {
     "name": "stdout",
     "output_type": "stream",
     "text": [
      "eigenvalues shape torch.Size([5]) eigenvectors shape torch.Size([5, 450])\n",
      "520 /home/phdcs2/Hard_Disk/Datasets/Deep-Spectral-Segmentation/data/object-segmentation/ECSSD/features/dino_vits16/0521.pth\n",
      "dict_keys(['k', 'indices', 'file', 'id', 'model_name', 'patch_size', 'shape'])\n",
      "0521\n",
      "Starting Training\n",
      "epoch: 00, loss: -0.02861\n",
      "epoch: 01, loss: -0.04689\n",
      "epoch: 02, loss: -0.04857\n",
      "epoch: 03, loss: -0.04927\n",
      "epoch: 04, loss: -0.04975\n",
      "epoch: 05, loss: -0.04985\n",
      "epoch: 06, loss: -0.05006\n",
      "epoch: 07, loss: -0.05018\n",
      "epoch: 08, loss: -0.05040\n",
      "epoch: 09, loss: -0.05036\n",
      "torch.Size([450, 64])\n"
     ]
    },
    {
     "name": "stderr",
     "output_type": "stream",
     "text": [
      "\r",
      " 52%|██████████████████████████████████████████████████████████████████████████████████▊                                                                            | 521/1000 [3:37:54<2:19:47, 17.51s/it]"
     ]
    },
    {
     "name": "stdout",
     "output_type": "stream",
     "text": [
      "eigenvalues shape torch.Size([5]) eigenvectors shape torch.Size([5, 450])\n",
      "521 /home/phdcs2/Hard_Disk/Datasets/Deep-Spectral-Segmentation/data/object-segmentation/ECSSD/features/dino_vits16/0522.pth\n",
      "dict_keys(['k', 'indices', 'file', 'id', 'model_name', 'patch_size', 'shape'])\n",
      "0522\n",
      "Starting Training\n",
      "epoch: 00, loss: -0.02809\n",
      "epoch: 01, loss: -0.04499\n",
      "epoch: 02, loss: -0.04600\n",
      "epoch: 03, loss: -0.04684\n",
      "epoch: 04, loss: -0.04731\n",
      "epoch: 05, loss: -0.04758\n",
      "epoch: 06, loss: -0.04762\n",
      "epoch: 07, loss: -0.04778\n",
      "epoch: 08, loss: -0.04781\n",
      "epoch: 09, loss: -0.04813\n",
      "torch.Size([450, 64])\n"
     ]
    },
    {
     "name": "stderr",
     "output_type": "stream",
     "text": [
      "\r",
      " 52%|██████████████████████████████████████████████████████████████████████████████████▉                                                                            | 522/1000 [3:38:12<2:20:43, 17.66s/it]"
     ]
    },
    {
     "name": "stdout",
     "output_type": "stream",
     "text": [
      "eigenvalues shape torch.Size([5]) eigenvectors shape torch.Size([5, 450])\n",
      "522 /home/phdcs2/Hard_Disk/Datasets/Deep-Spectral-Segmentation/data/object-segmentation/ECSSD/features/dino_vits16/0523.pth\n",
      "dict_keys(['k', 'indices', 'file', 'id', 'model_name', 'patch_size', 'shape'])\n",
      "0523\n",
      "Starting Training\n",
      "epoch: 00, loss: -0.02044\n",
      "epoch: 01, loss: -0.03743\n",
      "epoch: 02, loss: -0.03979\n",
      "epoch: 03, loss: -0.04047\n",
      "epoch: 04, loss: -0.04069\n",
      "epoch: 05, loss: -0.04082\n",
      "epoch: 06, loss: -0.04119\n",
      "epoch: 07, loss: -0.04145\n",
      "epoch: 08, loss: -0.04144\n",
      "epoch: 09, loss: -0.04161\n",
      "torch.Size([450, 64])\n"
     ]
    },
    {
     "name": "stderr",
     "output_type": "stream",
     "text": [
      "\r",
      " 52%|███████████████████████████████████████████████████████████████████████████████████▏                                                                           | 523/1000 [3:38:29<2:19:49, 17.59s/it]"
     ]
    },
    {
     "name": "stdout",
     "output_type": "stream",
     "text": [
      "eigenvalues shape torch.Size([5]) eigenvectors shape torch.Size([5, 450])\n",
      "523 /home/phdcs2/Hard_Disk/Datasets/Deep-Spectral-Segmentation/data/object-segmentation/ECSSD/features/dino_vits16/0524.pth\n",
      "dict_keys(['k', 'indices', 'file', 'id', 'model_name', 'patch_size', 'shape'])\n",
      "0524\n",
      "Starting Training\n",
      "epoch: 00, loss: -0.01057\n",
      "epoch: 01, loss: -0.02230\n",
      "epoch: 02, loss: -0.02476\n",
      "epoch: 03, loss: -0.02667\n",
      "epoch: 04, loss: -0.02692\n",
      "epoch: 05, loss: -0.02688\n",
      "epoch: 06, loss: -0.02678\n",
      "epoch: 07, loss: -0.02670\n",
      "epoch: 08, loss: -0.02678\n",
      "epoch: 09, loss: -0.02736\n",
      "torch.Size([475, 64])\n"
     ]
    },
    {
     "name": "stderr",
     "output_type": "stream",
     "text": [
      "\r",
      " 52%|███████████████████████████████████████████████████████████████████████████████████▎                                                                           | 524/1000 [3:38:46<2:17:26, 17.32s/it]"
     ]
    },
    {
     "name": "stdout",
     "output_type": "stream",
     "text": [
      "eigenvalues shape torch.Size([5]) eigenvectors shape torch.Size([5, 475])\n",
      "524 /home/phdcs2/Hard_Disk/Datasets/Deep-Spectral-Segmentation/data/object-segmentation/ECSSD/features/dino_vits16/0525.pth\n",
      "dict_keys(['k', 'indices', 'file', 'id', 'model_name', 'patch_size', 'shape'])\n",
      "0525\n",
      "Starting Training\n",
      "epoch: 00, loss: 0.00130\n",
      "epoch: 01, loss: -0.01405\n",
      "epoch: 02, loss: -0.01939\n",
      "epoch: 03, loss: -0.02161\n",
      "epoch: 04, loss: -0.02252\n",
      "epoch: 05, loss: -0.02314\n",
      "epoch: 06, loss: -0.02334\n",
      "epoch: 07, loss: -0.02365\n",
      "epoch: 08, loss: -0.02384\n",
      "epoch: 09, loss: -0.02397\n",
      "torch.Size([400, 64])\n"
     ]
    },
    {
     "name": "stderr",
     "output_type": "stream",
     "text": [
      "\r",
      " 52%|███████████████████████████████████████████████████████████████████████████████████▍                                                                           | 525/1000 [3:39:01<2:12:55, 16.79s/it]"
     ]
    },
    {
     "name": "stdout",
     "output_type": "stream",
     "text": [
      "eigenvalues shape torch.Size([5]) eigenvectors shape torch.Size([5, 400])\n",
      "525 /home/phdcs2/Hard_Disk/Datasets/Deep-Spectral-Segmentation/data/object-segmentation/ECSSD/features/dino_vits16/0526.pth\n",
      "dict_keys(['k', 'indices', 'file', 'id', 'model_name', 'patch_size', 'shape'])\n",
      "0526\n",
      "Starting Training\n",
      "epoch: 00, loss: 0.01111\n",
      "epoch: 01, loss: -0.00534\n",
      "epoch: 02, loss: -0.01117\n",
      "epoch: 03, loss: -0.01318\n",
      "epoch: 04, loss: -0.01231\n",
      "epoch: 05, loss: -0.01658\n",
      "epoch: 06, loss: -0.01346\n",
      "epoch: 07, loss: -0.01507\n",
      "epoch: 08, loss: -0.01755\n",
      "epoch: 09, loss: -0.01794\n",
      "torch.Size([500, 64])\n"
     ]
    },
    {
     "name": "stderr",
     "output_type": "stream",
     "text": [
      "\r",
      " 53%|███████████████████████████████████████████████████████████████████████████████████▋                                                                           | 526/1000 [3:39:22<2:20:50, 17.83s/it]"
     ]
    },
    {
     "name": "stdout",
     "output_type": "stream",
     "text": [
      "eigenvalues shape torch.Size([5]) eigenvectors shape torch.Size([5, 500])\n",
      "526 /home/phdcs2/Hard_Disk/Datasets/Deep-Spectral-Segmentation/data/object-segmentation/ECSSD/features/dino_vits16/0527.pth\n",
      "dict_keys(['k', 'indices', 'file', 'id', 'model_name', 'patch_size', 'shape'])\n",
      "0527\n",
      "Starting Training\n",
      "epoch: 00, loss: -0.00053\n",
      "epoch: 01, loss: -0.01988\n",
      "epoch: 02, loss: -0.02600\n",
      "epoch: 03, loss: -0.02796\n",
      "epoch: 04, loss: -0.02882\n",
      "epoch: 05, loss: -0.02928\n",
      "epoch: 06, loss: -0.02950\n",
      "epoch: 07, loss: -0.02965\n",
      "epoch: 08, loss: -0.02973\n",
      "epoch: 09, loss: -0.02985\n",
      "torch.Size([400, 64])\n"
     ]
    },
    {
     "name": "stderr",
     "output_type": "stream",
     "text": [
      "\r",
      " 53%|███████████████████████████████████████████████████████████████████████████████████▊                                                                           | 527/1000 [3:39:37<2:13:48, 16.97s/it]"
     ]
    },
    {
     "name": "stdout",
     "output_type": "stream",
     "text": [
      "eigenvalues shape torch.Size([5]) eigenvectors shape torch.Size([5, 400])\n",
      "527 /home/phdcs2/Hard_Disk/Datasets/Deep-Spectral-Segmentation/data/object-segmentation/ECSSD/features/dino_vits16/0528.pth\n",
      "dict_keys(['k', 'indices', 'file', 'id', 'model_name', 'patch_size', 'shape'])\n",
      "0528\n",
      "Starting Training\n",
      "epoch: 00, loss: -0.04156\n",
      "epoch: 01, loss: -0.07264\n",
      "epoch: 02, loss: -0.07679\n",
      "epoch: 03, loss: -0.08040\n",
      "epoch: 04, loss: -0.07797\n",
      "epoch: 05, loss: -0.08125\n",
      "epoch: 06, loss: -0.08294\n",
      "epoch: 07, loss: -0.08228\n",
      "epoch: 08, loss: -0.08156\n",
      "epoch: 09, loss: -0.08411\n",
      "torch.Size([400, 64])\n"
     ]
    },
    {
     "name": "stderr",
     "output_type": "stream",
     "text": [
      "\r",
      " 53%|███████████████████████████████████████████████████████████████████████████████████▉                                                                           | 528/1000 [3:39:52<2:09:56, 16.52s/it]"
     ]
    },
    {
     "name": "stdout",
     "output_type": "stream",
     "text": [
      "eigenvalues shape torch.Size([5]) eigenvectors shape torch.Size([5, 400])\n",
      "528 /home/phdcs2/Hard_Disk/Datasets/Deep-Spectral-Segmentation/data/object-segmentation/ECSSD/features/dino_vits16/0529.pth\n",
      "dict_keys(['k', 'indices', 'file', 'id', 'model_name', 'patch_size', 'shape'])\n",
      "0529\n",
      "Starting Training\n",
      "epoch: 00, loss: -0.06633\n",
      "epoch: 01, loss: -0.08958\n",
      "epoch: 02, loss: -0.09005\n",
      "epoch: 03, loss: -0.09060\n",
      "epoch: 04, loss: -0.09071\n",
      "epoch: 05, loss: -0.09089\n",
      "epoch: 06, loss: -0.09093\n",
      "epoch: 07, loss: -0.09117\n",
      "epoch: 08, loss: -0.09118\n",
      "epoch: 09, loss: -0.09141\n",
      "torch.Size([400, 64])\n"
     ]
    },
    {
     "name": "stderr",
     "output_type": "stream",
     "text": [
      "\r",
      " 53%|████████████████████████████████████████████████████████████████████████████████████                                                                           | 529/1000 [3:40:08<2:07:13, 16.21s/it]"
     ]
    },
    {
     "name": "stdout",
     "output_type": "stream",
     "text": [
      "eigenvalues shape torch.Size([5]) eigenvectors shape torch.Size([5, 400])\n",
      "529 /home/phdcs2/Hard_Disk/Datasets/Deep-Spectral-Segmentation/data/object-segmentation/ECSSD/features/dino_vits16/0530.pth\n",
      "dict_keys(['k', 'indices', 'file', 'id', 'model_name', 'patch_size', 'shape'])\n",
      "0530\n",
      "Starting Training\n",
      "epoch: 00, loss: 0.00398\n",
      "epoch: 01, loss: -0.00615\n",
      "epoch: 02, loss: -0.01027\n",
      "epoch: 03, loss: -0.01251\n",
      "epoch: 04, loss: -0.01343\n",
      "epoch: 05, loss: -0.01412\n",
      "epoch: 06, loss: -0.01449\n",
      "epoch: 07, loss: -0.01481\n",
      "epoch: 08, loss: -0.01508\n",
      "epoch: 09, loss: -0.01515\n",
      "torch.Size([500, 64])\n"
     ]
    },
    {
     "name": "stderr",
     "output_type": "stream",
     "text": [
      "\r",
      " 53%|████████████████████████████████████████████████████████████████████████████████████▎                                                                          | 530/1000 [3:40:29<2:19:51, 17.85s/it]"
     ]
    },
    {
     "name": "stdout",
     "output_type": "stream",
     "text": [
      "eigenvalues shape torch.Size([5]) eigenvectors shape torch.Size([5, 500])\n",
      "530 /home/phdcs2/Hard_Disk/Datasets/Deep-Spectral-Segmentation/data/object-segmentation/ECSSD/features/dino_vits16/0531.pth\n",
      "dict_keys(['k', 'indices', 'file', 'id', 'model_name', 'patch_size', 'shape'])\n",
      "0531\n",
      "Starting Training\n",
      "epoch: 00, loss: -0.01229\n",
      "epoch: 01, loss: -0.02694\n",
      "epoch: 02, loss: -0.02990\n",
      "epoch: 03, loss: -0.03084\n",
      "epoch: 04, loss: -0.03116\n",
      "epoch: 05, loss: -0.03150\n",
      "epoch: 06, loss: -0.03181\n",
      "epoch: 07, loss: -0.03184\n",
      "epoch: 08, loss: -0.03208\n",
      "epoch: 09, loss: -0.03213\n",
      "torch.Size([450, 64])\n"
     ]
    },
    {
     "name": "stderr",
     "output_type": "stream",
     "text": [
      "\r",
      " 53%|████████████████████████████████████████████████████████████████████████████████████▍                                                                          | 531/1000 [3:40:47<2:18:23, 17.71s/it]"
     ]
    },
    {
     "name": "stdout",
     "output_type": "stream",
     "text": [
      "eigenvalues shape torch.Size([5]) eigenvectors shape torch.Size([5, 450])\n",
      "531 /home/phdcs2/Hard_Disk/Datasets/Deep-Spectral-Segmentation/data/object-segmentation/ECSSD/features/dino_vits16/0532.pth\n",
      "dict_keys(['k', 'indices', 'file', 'id', 'model_name', 'patch_size', 'shape'])\n",
      "0532\n",
      "Starting Training\n",
      "epoch: 00, loss: -0.01523\n",
      "epoch: 01, loss: -0.05255\n",
      "epoch: 02, loss: -0.05733\n",
      "epoch: 03, loss: -0.05873\n",
      "epoch: 04, loss: -0.06321\n",
      "epoch: 05, loss: -0.06197\n",
      "epoch: 06, loss: -0.06328\n",
      "epoch: 07, loss: -0.06357\n",
      "epoch: 08, loss: -0.06438\n",
      "epoch: 09, loss: -0.06273\n",
      "torch.Size([450, 64])\n"
     ]
    },
    {
     "name": "stderr",
     "output_type": "stream",
     "text": [
      "\r",
      " 53%|████████████████████████████████████████████████████████████████████████████████████▌                                                                          | 532/1000 [3:41:04<2:17:10, 17.59s/it]"
     ]
    },
    {
     "name": "stdout",
     "output_type": "stream",
     "text": [
      "eigenvalues shape torch.Size([5]) eigenvectors shape torch.Size([5, 450])\n",
      "532 /home/phdcs2/Hard_Disk/Datasets/Deep-Spectral-Segmentation/data/object-segmentation/ECSSD/features/dino_vits16/0533.pth\n",
      "dict_keys(['k', 'indices', 'file', 'id', 'model_name', 'patch_size', 'shape'])\n",
      "0533\n",
      "Starting Training\n",
      "epoch: 00, loss: -0.05302\n",
      "epoch: 01, loss: -0.07079\n",
      "epoch: 02, loss: -0.07162\n",
      "epoch: 03, loss: -0.07217\n",
      "epoch: 04, loss: -0.07240\n",
      "epoch: 05, loss: -0.07264\n",
      "epoch: 06, loss: -0.07287\n",
      "epoch: 07, loss: -0.07301\n",
      "epoch: 08, loss: -0.07313\n",
      "epoch: 09, loss: -0.07320\n",
      "torch.Size([400, 64])\n"
     ]
    },
    {
     "name": "stderr",
     "output_type": "stream",
     "text": [
      "\r",
      " 53%|████████████████████████████████████████████████████████████████████████████████████▋                                                                          | 533/1000 [3:41:19<2:11:45, 16.93s/it]"
     ]
    },
    {
     "name": "stdout",
     "output_type": "stream",
     "text": [
      "eigenvalues shape torch.Size([5]) eigenvectors shape torch.Size([5, 400])\n",
      "533 /home/phdcs2/Hard_Disk/Datasets/Deep-Spectral-Segmentation/data/object-segmentation/ECSSD/features/dino_vits16/0534.pth\n",
      "dict_keys(['k', 'indices', 'file', 'id', 'model_name', 'patch_size', 'shape'])\n",
      "0534\n",
      "Starting Training\n",
      "epoch: 00, loss: -0.02352\n",
      "epoch: 01, loss: -0.03770\n",
      "epoch: 02, loss: -0.03929\n",
      "epoch: 03, loss: -0.04044\n",
      "epoch: 04, loss: -0.04055\n",
      "epoch: 05, loss: -0.04066\n",
      "epoch: 06, loss: -0.04096\n",
      "epoch: 07, loss: -0.04101\n",
      "epoch: 08, loss: -0.04116\n",
      "epoch: 09, loss: -0.04132\n",
      "torch.Size([450, 64])\n"
     ]
    },
    {
     "name": "stderr",
     "output_type": "stream",
     "text": [
      "\r",
      " 53%|████████████████████████████████████████████████████████████████████████████████████▉                                                                          | 534/1000 [3:41:38<2:15:32, 17.45s/it]"
     ]
    },
    {
     "name": "stdout",
     "output_type": "stream",
     "text": [
      "eigenvalues shape torch.Size([5]) eigenvectors shape torch.Size([5, 450])\n",
      "534 /home/phdcs2/Hard_Disk/Datasets/Deep-Spectral-Segmentation/data/object-segmentation/ECSSD/features/dino_vits16/0535.pth\n",
      "dict_keys(['k', 'indices', 'file', 'id', 'model_name', 'patch_size', 'shape'])\n",
      "0535\n",
      "Starting Training\n",
      "epoch: 00, loss: -0.06675\n",
      "epoch: 01, loss: -0.10802\n",
      "epoch: 02, loss: -0.11354\n",
      "epoch: 03, loss: -0.11171\n",
      "epoch: 04, loss: -0.11645\n",
      "epoch: 05, loss: -0.11518\n",
      "epoch: 06, loss: -0.11329\n",
      "epoch: 07, loss: -0.11571\n",
      "epoch: 08, loss: -0.11763\n",
      "epoch: 09, loss: -0.11739\n",
      "torch.Size([400, 64])\n"
     ]
    },
    {
     "name": "stderr",
     "output_type": "stream",
     "text": [
      "\r",
      " 54%|█████████████████████████████████████████████████████████████████████████████████████                                                                          | 535/1000 [3:41:53<2:08:39, 16.60s/it]"
     ]
    },
    {
     "name": "stdout",
     "output_type": "stream",
     "text": [
      "eigenvalues shape torch.Size([5]) eigenvectors shape torch.Size([5, 400])\n",
      "535 /home/phdcs2/Hard_Disk/Datasets/Deep-Spectral-Segmentation/data/object-segmentation/ECSSD/features/dino_vits16/0536.pth\n",
      "dict_keys(['k', 'indices', 'file', 'id', 'model_name', 'patch_size', 'shape'])\n",
      "0536\n",
      "Starting Training\n",
      "epoch: 00, loss: -0.00097\n",
      "epoch: 01, loss: -0.02007\n",
      "epoch: 02, loss: -0.02508\n",
      "epoch: 03, loss: -0.02655\n",
      "epoch: 04, loss: -0.02720\n",
      "epoch: 05, loss: -0.02766\n",
      "epoch: 06, loss: -0.02792\n",
      "epoch: 07, loss: -0.02810\n",
      "epoch: 08, loss: -0.02821\n",
      "epoch: 09, loss: -0.02827\n",
      "torch.Size([450, 64])\n"
     ]
    },
    {
     "name": "stderr",
     "output_type": "stream",
     "text": [
      "\r",
      " 54%|█████████████████████████████████████████████████████████████████████████████████████▏                                                                         | 536/1000 [3:42:07<2:03:22, 15.95s/it]"
     ]
    },
    {
     "name": "stdout",
     "output_type": "stream",
     "text": [
      "eigenvalues shape torch.Size([5]) eigenvectors shape torch.Size([5, 450])\n",
      "536 /home/phdcs2/Hard_Disk/Datasets/Deep-Spectral-Segmentation/data/object-segmentation/ECSSD/features/dino_vits16/0537.pth\n",
      "dict_keys(['k', 'indices', 'file', 'id', 'model_name', 'patch_size', 'shape'])\n",
      "0537\n",
      "Starting Training\n",
      "epoch: 00, loss: -0.08571\n",
      "epoch: 01, loss: -0.10681\n",
      "epoch: 02, loss: -0.11834\n",
      "epoch: 03, loss: -0.11977\n",
      "epoch: 04, loss: -0.11861\n",
      "epoch: 05, loss: -0.12157\n",
      "epoch: 06, loss: -0.12075\n",
      "epoch: 07, loss: -0.12101\n",
      "epoch: 08, loss: -0.12067\n",
      "epoch: 09, loss: -0.12307\n",
      "torch.Size([450, 64])\n"
     ]
    },
    {
     "name": "stderr",
     "output_type": "stream",
     "text": [
      "\r",
      " 54%|█████████████████████████████████████████████████████████████████████████████████████▍                                                                         | 537/1000 [3:42:24<2:04:24, 16.12s/it]"
     ]
    },
    {
     "name": "stdout",
     "output_type": "stream",
     "text": [
      "eigenvalues shape torch.Size([5]) eigenvectors shape torch.Size([5, 450])\n",
      "537 /home/phdcs2/Hard_Disk/Datasets/Deep-Spectral-Segmentation/data/object-segmentation/ECSSD/features/dino_vits16/0538.pth\n",
      "dict_keys(['k', 'indices', 'file', 'id', 'model_name', 'patch_size', 'shape'])\n",
      "0538\n",
      "Starting Training\n",
      "epoch: 00, loss: -0.02933\n",
      "epoch: 01, loss: -0.05631\n",
      "epoch: 02, loss: -0.06643\n",
      "epoch: 03, loss: -0.06814\n",
      "epoch: 04, loss: -0.06910\n",
      "epoch: 05, loss: -0.06894\n",
      "epoch: 06, loss: -0.07120\n",
      "epoch: 07, loss: -0.07043\n",
      "epoch: 08, loss: -0.07280\n",
      "epoch: 09, loss: -0.07135\n",
      "torch.Size([400, 64])\n"
     ]
    },
    {
     "name": "stderr",
     "output_type": "stream",
     "text": [
      "\r",
      " 54%|█████████████████████████████████████████████████████████████████████████████████████▌                                                                         | 538/1000 [3:42:39<2:03:34, 16.05s/it]"
     ]
    },
    {
     "name": "stdout",
     "output_type": "stream",
     "text": [
      "eigenvalues shape torch.Size([5]) eigenvectors shape torch.Size([5, 400])\n",
      "538 /home/phdcs2/Hard_Disk/Datasets/Deep-Spectral-Segmentation/data/object-segmentation/ECSSD/features/dino_vits16/0539.pth\n",
      "dict_keys(['k', 'indices', 'file', 'id', 'model_name', 'patch_size', 'shape'])\n",
      "0539\n",
      "Starting Training\n",
      "epoch: 00, loss: -0.01487\n",
      "epoch: 01, loss: -0.02969\n",
      "epoch: 02, loss: -0.03329\n",
      "epoch: 03, loss: -0.03383\n",
      "epoch: 04, loss: -0.03444\n",
      "epoch: 05, loss: -0.03431\n",
      "epoch: 06, loss: -0.03571\n",
      "epoch: 07, loss: -0.03547\n",
      "epoch: 08, loss: -0.03481\n",
      "epoch: 09, loss: -0.03522\n",
      "torch.Size([425, 64])\n"
     ]
    },
    {
     "name": "stderr",
     "output_type": "stream",
     "text": [
      "\r",
      " 54%|█████████████████████████████████████████████████████████████████████████████████████▋                                                                         | 539/1000 [3:42:57<2:06:33, 16.47s/it]"
     ]
    },
    {
     "name": "stdout",
     "output_type": "stream",
     "text": [
      "eigenvalues shape torch.Size([5]) eigenvectors shape torch.Size([5, 425])\n",
      "539 /home/phdcs2/Hard_Disk/Datasets/Deep-Spectral-Segmentation/data/object-segmentation/ECSSD/features/dino_vits16/0540.pth\n",
      "dict_keys(['k', 'indices', 'file', 'id', 'model_name', 'patch_size', 'shape'])\n",
      "0540\n",
      "Starting Training\n",
      "epoch: 00, loss: -0.02446\n",
      "epoch: 01, loss: -0.04335\n",
      "epoch: 02, loss: -0.04518\n",
      "epoch: 03, loss: -0.04582\n",
      "epoch: 04, loss: -0.04578\n",
      "epoch: 05, loss: -0.04685\n",
      "epoch: 06, loss: -0.04691\n",
      "epoch: 07, loss: -0.04663\n",
      "epoch: 08, loss: -0.04719\n",
      "epoch: 09, loss: -0.04701\n",
      "torch.Size([450, 64])\n"
     ]
    },
    {
     "name": "stderr",
     "output_type": "stream",
     "text": [
      "\r",
      " 54%|█████████████████████████████████████████████████████████████████████████████████████▊                                                                         | 540/1000 [3:43:15<2:09:11, 16.85s/it]"
     ]
    },
    {
     "name": "stdout",
     "output_type": "stream",
     "text": [
      "eigenvalues shape torch.Size([5]) eigenvectors shape torch.Size([5, 450])\n",
      "540 /home/phdcs2/Hard_Disk/Datasets/Deep-Spectral-Segmentation/data/object-segmentation/ECSSD/features/dino_vits16/0541.pth\n",
      "dict_keys(['k', 'indices', 'file', 'id', 'model_name', 'patch_size', 'shape'])\n",
      "0541\n",
      "Starting Training\n",
      "epoch: 00, loss: -0.00752\n",
      "epoch: 01, loss: -0.02819\n",
      "epoch: 02, loss: -0.03250\n",
      "epoch: 03, loss: -0.03378\n",
      "epoch: 04, loss: -0.03441\n",
      "epoch: 05, loss: -0.03469\n",
      "epoch: 06, loss: -0.03505\n",
      "epoch: 07, loss: -0.03511\n",
      "epoch: 08, loss: -0.03514\n",
      "epoch: 09, loss: -0.03534\n",
      "torch.Size([400, 64])\n"
     ]
    },
    {
     "name": "stderr",
     "output_type": "stream",
     "text": [
      "\r",
      " 54%|██████████████████████████████████████████████████████████████████████████████████████                                                                         | 541/1000 [3:43:29<2:02:28, 16.01s/it]"
     ]
    },
    {
     "name": "stdout",
     "output_type": "stream",
     "text": [
      "eigenvalues shape torch.Size([5]) eigenvectors shape torch.Size([5, 400])\n",
      "541 /home/phdcs2/Hard_Disk/Datasets/Deep-Spectral-Segmentation/data/object-segmentation/ECSSD/features/dino_vits16/0542.pth\n",
      "dict_keys(['k', 'indices', 'file', 'id', 'model_name', 'patch_size', 'shape'])\n",
      "0542\n",
      "Starting Training\n",
      "epoch: 00, loss: -0.03627\n",
      "epoch: 01, loss: -0.05301\n",
      "epoch: 02, loss: -0.05462\n",
      "epoch: 03, loss: -0.05473\n",
      "epoch: 04, loss: -0.05504\n",
      "epoch: 05, loss: -0.05521\n",
      "epoch: 06, loss: -0.05548\n",
      "epoch: 07, loss: -0.05559\n",
      "epoch: 08, loss: -0.05567\n",
      "epoch: 09, loss: -0.05577\n",
      "torch.Size([450, 64])\n"
     ]
    },
    {
     "name": "stderr",
     "output_type": "stream",
     "text": [
      "\r",
      " 54%|██████████████████████████████████████████████████████████████████████████████████████▏                                                                        | 542/1000 [3:43:46<2:05:34, 16.45s/it]"
     ]
    },
    {
     "name": "stdout",
     "output_type": "stream",
     "text": [
      "eigenvalues shape torch.Size([5]) eigenvectors shape torch.Size([5, 450])\n",
      "542 /home/phdcs2/Hard_Disk/Datasets/Deep-Spectral-Segmentation/data/object-segmentation/ECSSD/features/dino_vits16/0543.pth\n",
      "dict_keys(['k', 'indices', 'file', 'id', 'model_name', 'patch_size', 'shape'])\n",
      "0543\n",
      "Starting Training\n",
      "epoch: 00, loss: -0.02210\n",
      "epoch: 01, loss: -0.06188\n",
      "epoch: 02, loss: -0.07039\n",
      "epoch: 03, loss: -0.07375\n",
      "epoch: 04, loss: -0.07368\n",
      "epoch: 05, loss: -0.07210\n",
      "epoch: 06, loss: -0.07502\n",
      "epoch: 07, loss: -0.07751\n",
      "epoch: 08, loss: -0.07831\n",
      "epoch: 09, loss: -0.07681\n",
      "torch.Size([400, 64])\n"
     ]
    },
    {
     "name": "stderr",
     "output_type": "stream",
     "text": [
      "\r",
      " 54%|██████████████████████████████████████████████████████████████████████████████████████▎                                                                        | 543/1000 [3:43:59<1:57:48, 15.47s/it]"
     ]
    },
    {
     "name": "stdout",
     "output_type": "stream",
     "text": [
      "eigenvalues shape torch.Size([5]) eigenvectors shape torch.Size([5, 400])\n",
      "543 /home/phdcs2/Hard_Disk/Datasets/Deep-Spectral-Segmentation/data/object-segmentation/ECSSD/features/dino_vits16/0544.pth\n",
      "dict_keys(['k', 'indices', 'file', 'id', 'model_name', 'patch_size', 'shape'])\n",
      "0544\n",
      "Starting Training\n",
      "epoch: 00, loss: -0.07821\n",
      "epoch: 01, loss: -0.11222\n",
      "epoch: 02, loss: -0.11970\n",
      "epoch: 03, loss: -0.12166\n",
      "epoch: 04, loss: -0.12379\n",
      "epoch: 05, loss: -0.12455\n",
      "epoch: 06, loss: -0.12465\n",
      "epoch: 07, loss: -0.12551\n",
      "epoch: 08, loss: -0.12775\n",
      "epoch: 09, loss: -0.12701\n",
      "torch.Size([400, 64])\n"
     ]
    },
    {
     "name": "stderr",
     "output_type": "stream",
     "text": [
      "\r",
      " 54%|██████████████████████████████████████████████████████████████████████████████████████▍                                                                        | 544/1000 [3:44:14<1:55:25, 15.19s/it]"
     ]
    },
    {
     "name": "stdout",
     "output_type": "stream",
     "text": [
      "eigenvalues shape torch.Size([5]) eigenvectors shape torch.Size([5, 400])\n",
      "544 /home/phdcs2/Hard_Disk/Datasets/Deep-Spectral-Segmentation/data/object-segmentation/ECSSD/features/dino_vits16/0545.pth\n",
      "dict_keys(['k', 'indices', 'file', 'id', 'model_name', 'patch_size', 'shape'])\n",
      "0545\n",
      "Starting Training\n",
      "epoch: 00, loss: 0.00854\n",
      "epoch: 01, loss: -0.00086\n",
      "epoch: 02, loss: -0.00604\n",
      "epoch: 03, loss: -0.00903\n",
      "epoch: 04, loss: -0.01066\n",
      "epoch: 05, loss: -0.01191\n",
      "epoch: 06, loss: -0.01265\n",
      "epoch: 07, loss: -0.01307\n",
      "epoch: 08, loss: -0.01343\n",
      "epoch: 09, loss: -0.01377\n",
      "torch.Size([400, 64])\n"
     ]
    },
    {
     "name": "stderr",
     "output_type": "stream",
     "text": [
      "\r",
      " 55%|██████████████████████████████████████████████████████████████████████████████████████▋                                                                        | 545/1000 [3:44:32<2:02:37, 16.17s/it]"
     ]
    },
    {
     "name": "stdout",
     "output_type": "stream",
     "text": [
      "eigenvalues shape torch.Size([5]) eigenvectors shape torch.Size([5, 400])\n",
      "545 /home/phdcs2/Hard_Disk/Datasets/Deep-Spectral-Segmentation/data/object-segmentation/ECSSD/features/dino_vits16/0546.pth\n",
      "dict_keys(['k', 'indices', 'file', 'id', 'model_name', 'patch_size', 'shape'])\n",
      "0546\n",
      "Starting Training\n",
      "epoch: 00, loss: -0.03420\n",
      "epoch: 01, loss: -0.05675\n",
      "epoch: 02, loss: -0.06088\n",
      "epoch: 03, loss: -0.06224\n",
      "epoch: 04, loss: -0.06259\n",
      "epoch: 05, loss: -0.06470\n",
      "epoch: 06, loss: -0.06627\n",
      "epoch: 07, loss: -0.06323\n",
      "epoch: 08, loss: -0.06753\n",
      "epoch: 09, loss: -0.06665\n",
      "torch.Size([450, 64])\n"
     ]
    },
    {
     "name": "stderr",
     "output_type": "stream",
     "text": [
      "\r",
      " 55%|██████████████████████████████████████████████████████████████████████████████████████▊                                                                        | 546/1000 [3:44:51<2:07:25, 16.84s/it]"
     ]
    },
    {
     "name": "stdout",
     "output_type": "stream",
     "text": [
      "eigenvalues shape torch.Size([5]) eigenvectors shape torch.Size([5, 450])\n",
      "546 /home/phdcs2/Hard_Disk/Datasets/Deep-Spectral-Segmentation/data/object-segmentation/ECSSD/features/dino_vits16/0547.pth\n",
      "dict_keys(['k', 'indices', 'file', 'id', 'model_name', 'patch_size', 'shape'])\n",
      "0547\n",
      "Starting Training\n",
      "epoch: 00, loss: -0.01672\n",
      "epoch: 01, loss: -0.04417\n",
      "epoch: 02, loss: -0.04780\n",
      "epoch: 03, loss: -0.04810\n",
      "epoch: 04, loss: -0.04842\n",
      "epoch: 05, loss: -0.04881\n",
      "epoch: 06, loss: -0.04897\n",
      "epoch: 07, loss: -0.04907\n",
      "epoch: 08, loss: -0.04909\n",
      "epoch: 09, loss: -0.04908\n",
      "torch.Size([450, 64])\n"
     ]
    },
    {
     "name": "stderr",
     "output_type": "stream",
     "text": [
      "\r",
      " 55%|██████████████████████████████████████████████████████████████████████████████████████▉                                                                        | 547/1000 [3:45:08<2:07:24, 16.87s/it]"
     ]
    },
    {
     "name": "stdout",
     "output_type": "stream",
     "text": [
      "eigenvalues shape torch.Size([5]) eigenvectors shape torch.Size([5, 450])\n",
      "547 /home/phdcs2/Hard_Disk/Datasets/Deep-Spectral-Segmentation/data/object-segmentation/ECSSD/features/dino_vits16/0548.pth\n",
      "dict_keys(['k', 'indices', 'file', 'id', 'model_name', 'patch_size', 'shape'])\n",
      "0548\n",
      "Starting Training\n",
      "epoch: 00, loss: -0.01329\n",
      "epoch: 01, loss: -0.03404\n",
      "epoch: 02, loss: -0.03970\n",
      "epoch: 03, loss: -0.04168\n",
      "epoch: 04, loss: -0.04275\n",
      "epoch: 05, loss: -0.04291\n",
      "epoch: 06, loss: -0.04146\n",
      "epoch: 07, loss: -0.04143\n",
      "epoch: 08, loss: -0.04245\n",
      "epoch: 09, loss: -0.04145\n",
      "torch.Size([425, 64])\n"
     ]
    },
    {
     "name": "stderr",
     "output_type": "stream",
     "text": [
      "\r",
      " 55%|███████████████████████████████████████████████████████████████████████████████████████▏                                                                       | 548/1000 [3:45:21<1:59:59, 15.93s/it]"
     ]
    },
    {
     "name": "stdout",
     "output_type": "stream",
     "text": [
      "eigenvalues shape torch.Size([5]) eigenvectors shape torch.Size([5, 425])\n",
      "548 /home/phdcs2/Hard_Disk/Datasets/Deep-Spectral-Segmentation/data/object-segmentation/ECSSD/features/dino_vits16/0549.pth\n",
      "dict_keys(['k', 'indices', 'file', 'id', 'model_name', 'patch_size', 'shape'])\n",
      "0549\n",
      "Starting Training\n",
      "epoch: 00, loss: -0.01411\n",
      "epoch: 01, loss: -0.03757\n",
      "epoch: 02, loss: -0.04101\n",
      "epoch: 03, loss: -0.04155\n",
      "epoch: 04, loss: -0.04210\n",
      "epoch: 05, loss: -0.04236\n",
      "epoch: 06, loss: -0.04252\n",
      "epoch: 07, loss: -0.04279\n",
      "epoch: 08, loss: -0.04284\n",
      "epoch: 09, loss: -0.04303\n",
      "torch.Size([400, 64])\n"
     ]
    },
    {
     "name": "stderr",
     "output_type": "stream",
     "text": [
      "\r",
      " 55%|███████████████████████████████████████████████████████████████████████████████████████▎                                                                       | 549/1000 [3:45:32<1:46:33, 14.18s/it]"
     ]
    },
    {
     "name": "stdout",
     "output_type": "stream",
     "text": [
      "eigenvalues shape torch.Size([5]) eigenvectors shape torch.Size([5, 400])\n",
      "549 /home/phdcs2/Hard_Disk/Datasets/Deep-Spectral-Segmentation/data/object-segmentation/ECSSD/features/dino_vits16/0550.pth\n",
      "dict_keys(['k', 'indices', 'file', 'id', 'model_name', 'patch_size', 'shape'])\n",
      "0550\n",
      "Starting Training\n",
      "epoch: 00, loss: -0.04104\n",
      "epoch: 01, loss: -0.05494\n",
      "epoch: 02, loss: -0.05590\n",
      "epoch: 03, loss: -0.05589\n",
      "epoch: 04, loss: -0.05662\n",
      "epoch: 05, loss: -0.05702\n",
      "epoch: 06, loss: -0.05794\n",
      "epoch: 07, loss: -0.05716\n",
      "epoch: 08, loss: -0.05743\n",
      "epoch: 09, loss: -0.05861\n",
      "torch.Size([425, 64])\n"
     ]
    },
    {
     "name": "stderr",
     "output_type": "stream",
     "text": [
      "\r",
      " 55%|███████████████████████████████████████████████████████████████████████████████████████▍                                                                       | 550/1000 [3:45:45<1:44:03, 13.87s/it]"
     ]
    },
    {
     "name": "stdout",
     "output_type": "stream",
     "text": [
      "eigenvalues shape torch.Size([5]) eigenvectors shape torch.Size([5, 425])\n",
      "550 /home/phdcs2/Hard_Disk/Datasets/Deep-Spectral-Segmentation/data/object-segmentation/ECSSD/features/dino_vits16/0551.pth\n",
      "dict_keys(['k', 'indices', 'file', 'id', 'model_name', 'patch_size', 'shape'])\n",
      "0551\n",
      "Starting Training\n",
      "epoch: 00, loss: -0.02562\n",
      "epoch: 01, loss: -0.04958\n",
      "epoch: 02, loss: -0.05553\n",
      "epoch: 03, loss: -0.05662\n",
      "epoch: 04, loss: -0.06022\n",
      "epoch: 05, loss: -0.06187\n",
      "epoch: 06, loss: -0.06058\n",
      "epoch: 07, loss: -0.05830\n",
      "epoch: 08, loss: -0.06103\n",
      "epoch: 09, loss: -0.06095\n",
      "torch.Size([400, 64])\n"
     ]
    },
    {
     "name": "stderr",
     "output_type": "stream",
     "text": [
      "\r",
      " 55%|███████████████████████████████████████████████████████████████████████████████████████▌                                                                       | 551/1000 [3:45:56<1:38:47, 13.20s/it]"
     ]
    },
    {
     "name": "stdout",
     "output_type": "stream",
     "text": [
      "eigenvalues shape torch.Size([5]) eigenvectors shape torch.Size([5, 400])\n",
      "551 /home/phdcs2/Hard_Disk/Datasets/Deep-Spectral-Segmentation/data/object-segmentation/ECSSD/features/dino_vits16/0552.pth\n",
      "dict_keys(['k', 'indices', 'file', 'id', 'model_name', 'patch_size', 'shape'])\n",
      "0552\n",
      "Starting Training\n",
      "epoch: 00, loss: -0.09868\n",
      "epoch: 01, loss: -0.12306\n",
      "epoch: 02, loss: -0.12693\n",
      "epoch: 03, loss: -0.12994\n",
      "epoch: 04, loss: -0.12800\n",
      "epoch: 05, loss: -0.13113\n",
      "epoch: 06, loss: -0.13039\n",
      "epoch: 07, loss: -0.12848\n",
      "epoch: 08, loss: -0.13044\n",
      "epoch: 09, loss: -0.13087\n",
      "torch.Size([400, 64])\n"
     ]
    },
    {
     "name": "stderr",
     "output_type": "stream",
     "text": [
      "\r",
      " 55%|███████████████████████████████████████████████████████████████████████████████████████▊                                                                       | 552/1000 [3:46:05<1:29:11, 11.95s/it]"
     ]
    },
    {
     "name": "stdout",
     "output_type": "stream",
     "text": [
      "eigenvalues shape torch.Size([5]) eigenvectors shape torch.Size([5, 400])\n",
      "552 /home/phdcs2/Hard_Disk/Datasets/Deep-Spectral-Segmentation/data/object-segmentation/ECSSD/features/dino_vits16/0553.pth\n",
      "dict_keys(['k', 'indices', 'file', 'id', 'model_name', 'patch_size', 'shape'])\n",
      "0553\n",
      "Starting Training\n",
      "epoch: 00, loss: 0.00216\n",
      "epoch: 01, loss: -0.00883\n",
      "epoch: 02, loss: -0.01353\n",
      "epoch: 03, loss: -0.01570\n",
      "epoch: 04, loss: -0.01686\n",
      "epoch: 05, loss: -0.01746\n",
      "epoch: 06, loss: -0.01792\n",
      "epoch: 07, loss: -0.01829\n",
      "epoch: 08, loss: -0.01846\n",
      "epoch: 09, loss: -0.01866\n",
      "torch.Size([450, 64])\n"
     ]
    },
    {
     "name": "stderr",
     "output_type": "stream",
     "text": [
      "\r",
      " 55%|███████████████████████████████████████████████████████████████████████████████████████▉                                                                       | 553/1000 [3:46:14<1:21:11, 10.90s/it]"
     ]
    },
    {
     "name": "stdout",
     "output_type": "stream",
     "text": [
      "eigenvalues shape torch.Size([5]) eigenvectors shape torch.Size([5, 450])\n",
      "553 /home/phdcs2/Hard_Disk/Datasets/Deep-Spectral-Segmentation/data/object-segmentation/ECSSD/features/dino_vits16/0554.pth\n",
      "dict_keys(['k', 'indices', 'file', 'id', 'model_name', 'patch_size', 'shape'])\n",
      "0554\n",
      "Starting Training\n",
      "epoch: 00, loss: -0.02217\n",
      "epoch: 01, loss: -0.04904\n",
      "epoch: 02, loss: -0.05509\n",
      "epoch: 03, loss: -0.05832\n",
      "epoch: 04, loss: -0.05686\n",
      "epoch: 05, loss: -0.05718\n",
      "epoch: 06, loss: -0.05797\n",
      "epoch: 07, loss: -0.05865\n",
      "epoch: 08, loss: -0.05919\n",
      "epoch: 09, loss: -0.05862\n",
      "torch.Size([450, 64])\n"
     ]
    },
    {
     "name": "stderr",
     "output_type": "stream",
     "text": [
      "\r",
      " 55%|████████████████████████████████████████████████████████████████████████████████████████                                                                       | 554/1000 [3:46:21<1:11:48,  9.66s/it]"
     ]
    },
    {
     "name": "stdout",
     "output_type": "stream",
     "text": [
      "eigenvalues shape torch.Size([5]) eigenvectors shape torch.Size([5, 450])\n",
      "554 /home/phdcs2/Hard_Disk/Datasets/Deep-Spectral-Segmentation/data/object-segmentation/ECSSD/features/dino_vits16/0555.pth\n",
      "dict_keys(['k', 'indices', 'file', 'id', 'model_name', 'patch_size', 'shape'])\n",
      "0555\n",
      "Starting Training\n",
      "epoch: 00, loss: -0.06233\n",
      "epoch: 01, loss: -0.09426\n",
      "epoch: 02, loss: -0.09699\n",
      "epoch: 03, loss: -0.09811\n",
      "epoch: 04, loss: -0.10127\n",
      "epoch: 05, loss: -0.10039\n",
      "epoch: 06, loss: -0.09906\n",
      "epoch: 07, loss: -0.10041\n",
      "epoch: 08, loss: -0.10288\n",
      "epoch: 09, loss: -0.10234\n",
      "torch.Size([500, 64])\n"
     ]
    },
    {
     "name": "stderr",
     "output_type": "stream",
     "text": [
      "\r",
      " 56%|████████████████████████████████████████████████████████████████████████████████████████▏                                                                      | 555/1000 [3:46:32<1:14:32, 10.05s/it]"
     ]
    },
    {
     "name": "stdout",
     "output_type": "stream",
     "text": [
      "eigenvalues shape torch.Size([5]) eigenvectors shape torch.Size([5, 500])\n",
      "555 /home/phdcs2/Hard_Disk/Datasets/Deep-Spectral-Segmentation/data/object-segmentation/ECSSD/features/dino_vits16/0556.pth\n",
      "dict_keys(['k', 'indices', 'file', 'id', 'model_name', 'patch_size', 'shape'])\n",
      "0556\n",
      "Starting Training\n",
      "epoch: 00, loss: 0.00153\n",
      "epoch: 01, loss: -0.01306\n",
      "epoch: 02, loss: -0.01908\n",
      "epoch: 03, loss: -0.02036\n",
      "epoch: 04, loss: -0.02214\n",
      "epoch: 05, loss: -0.02268\n",
      "epoch: 06, loss: -0.02391\n",
      "epoch: 07, loss: -0.02532\n",
      "epoch: 08, loss: -0.02407\n",
      "epoch: 09, loss: -0.02427\n",
      "torch.Size([525, 64])\n"
     ]
    },
    {
     "name": "stderr",
     "output_type": "stream",
     "text": [
      "\r",
      " 56%|████████████████████████████████████████████████████████████████████████████████████████▍                                                                      | 556/1000 [3:46:46<1:23:49, 11.33s/it]"
     ]
    },
    {
     "name": "stdout",
     "output_type": "stream",
     "text": [
      "eigenvalues shape torch.Size([5]) eigenvectors shape torch.Size([5, 525])\n",
      "556 /home/phdcs2/Hard_Disk/Datasets/Deep-Spectral-Segmentation/data/object-segmentation/ECSSD/features/dino_vits16/0557.pth\n",
      "dict_keys(['k', 'indices', 'file', 'id', 'model_name', 'patch_size', 'shape'])\n",
      "0557\n",
      "Starting Training\n",
      "epoch: 00, loss: -0.02724\n",
      "epoch: 01, loss: -0.04362\n",
      "epoch: 02, loss: -0.05040\n",
      "epoch: 03, loss: -0.05195\n",
      "epoch: 04, loss: -0.05032\n",
      "epoch: 05, loss: -0.05357\n",
      "epoch: 06, loss: -0.05195\n",
      "epoch: 07, loss: -0.05605\n",
      "epoch: 08, loss: -0.05234\n"
     ]
    },
    {
     "name": "stderr",
     "output_type": "stream",
     "text": [
      "\r",
      " 56%|████████████████████████████████████████████████████████████████████████████████████████▍                                                                      | 556/1000 [3:46:52<3:01:10, 24.48s/it]"
     ]
    },
    {
     "name": "stdout",
     "output_type": "stream",
     "text": [
      "epoch: 09, loss: -0.05156\n",
      "torch.Size([450, 64])\n"
     ]
    },
    {
     "name": "stderr",
     "output_type": "stream",
     "text": [
      "\n"
     ]
    },
    {
     "ename": "ValueError",
     "evalue": "all input arrays must have the same shape",
     "output_type": "error",
     "traceback": [
      "\u001b[0;31m---------------------------------------------------------------------------\u001b[0m",
      "\u001b[0;31mValueError\u001b[0m                                Traceback (most recent call last)",
      "Cell \u001b[0;32mIn[6], line 172\u001b[0m\n\u001b[1;32m    170\u001b[0m \u001b[38;5;66;03m# Color affinities (of type scipy.sparse.csr_matrix)\u001b[39;00m\n\u001b[1;32m    171\u001b[0m \u001b[38;5;28;01mif\u001b[39;00m which_color_matrix \u001b[38;5;241m==\u001b[39m \u001b[38;5;124m'\u001b[39m\u001b[38;5;124mknn\u001b[39m\u001b[38;5;124m'\u001b[39m:\n\u001b[0;32m--> 172\u001b[0m     W_lr \u001b[38;5;241m=\u001b[39m \u001b[43mutils\u001b[49m\u001b[38;5;241;43m.\u001b[39;49m\u001b[43mknn_affinity\u001b[49m\u001b[43m(\u001b[49m\u001b[43mimage_lr\u001b[49m\u001b[43m \u001b[49m\u001b[38;5;241;43m/\u001b[39;49m\u001b[43m \u001b[49m\u001b[38;5;241;43m255\u001b[39;49m\u001b[43m)\u001b[49m\n\u001b[1;32m    173\u001b[0m \u001b[38;5;28;01melif\u001b[39;00m which_color_matrix \u001b[38;5;241m==\u001b[39m \u001b[38;5;124m'\u001b[39m\u001b[38;5;124mrw\u001b[39m\u001b[38;5;124m'\u001b[39m:\n\u001b[1;32m    174\u001b[0m     W_lr \u001b[38;5;241m=\u001b[39m utils\u001b[38;5;241m.\u001b[39mrw_affinity(image_lr \u001b[38;5;241m/\u001b[39m \u001b[38;5;241m255\u001b[39m)\n",
      "File \u001b[0;32m~/Hard_Disk/Projects/T2I/deep-spectral-segmentation/extract/extract_utils.py:171\u001b[0m, in \u001b[0;36mknn_affinity\u001b[0;34m(image, n_neighbors, distance_weights)\u001b[0m\n\u001b[1;32m    168\u001b[0m i, j \u001b[38;5;241m=\u001b[39m [], []\n\u001b[1;32m    170\u001b[0m \u001b[38;5;28;01mfor\u001b[39;00m k, distance_weight \u001b[38;5;129;01min\u001b[39;00m \u001b[38;5;28mzip\u001b[39m(n_neighbors, distance_weights):\n\u001b[0;32m--> 171\u001b[0m     f \u001b[38;5;241m=\u001b[39m \u001b[43mnp\u001b[49m\u001b[38;5;241;43m.\u001b[39;49m\u001b[43mstack\u001b[49m\u001b[43m(\u001b[49m\n\u001b[1;32m    172\u001b[0m \u001b[43m        \u001b[49m\u001b[43m[\u001b[49m\u001b[43mr\u001b[49m\u001b[43m,\u001b[49m\u001b[43m \u001b[49m\u001b[43mg\u001b[49m\u001b[43m,\u001b[49m\u001b[43m \u001b[49m\u001b[43mb\u001b[49m\u001b[43m,\u001b[49m\u001b[43m \u001b[49m\u001b[43mdistance_weight\u001b[49m\u001b[43m \u001b[49m\u001b[38;5;241;43m*\u001b[39;49m\u001b[43m \u001b[49m\u001b[43mx\u001b[49m\u001b[43m,\u001b[49m\u001b[43m \u001b[49m\u001b[43mdistance_weight\u001b[49m\u001b[43m \u001b[49m\u001b[38;5;241;43m*\u001b[39;49m\u001b[43m \u001b[49m\u001b[43my\u001b[49m\u001b[43m]\u001b[49m\u001b[43m,\u001b[49m\n\u001b[1;32m    173\u001b[0m \u001b[43m        \u001b[49m\u001b[43maxis\u001b[49m\u001b[38;5;241;43m=\u001b[39;49m\u001b[38;5;241;43m1\u001b[39;49m\u001b[43m,\u001b[49m\n\u001b[1;32m    174\u001b[0m \u001b[43m        \u001b[49m\u001b[43mout\u001b[49m\u001b[38;5;241;43m=\u001b[39;49m\u001b[43mnp\u001b[49m\u001b[38;5;241;43m.\u001b[39;49m\u001b[43mzeros\u001b[49m\u001b[43m(\u001b[49m\u001b[43m(\u001b[49m\u001b[43mn\u001b[49m\u001b[43m,\u001b[49m\u001b[43m \u001b[49m\u001b[38;5;241;43m5\u001b[39;49m\u001b[43m)\u001b[49m\u001b[43m,\u001b[49m\u001b[43m \u001b[49m\u001b[43mdtype\u001b[49m\u001b[38;5;241;43m=\u001b[39;49m\u001b[43mnp\u001b[49m\u001b[38;5;241;43m.\u001b[39;49m\u001b[43mfloat32\u001b[49m\u001b[43m)\u001b[49m\u001b[43m,\u001b[49m\n\u001b[1;32m    175\u001b[0m \u001b[43m    \u001b[49m\u001b[43m)\u001b[49m\n\u001b[1;32m    177\u001b[0m     distances, neighbors \u001b[38;5;241m=\u001b[39m knn(f, f, k\u001b[38;5;241m=\u001b[39mk)\n\u001b[1;32m    179\u001b[0m     i\u001b[38;5;241m.\u001b[39mappend(np\u001b[38;5;241m.\u001b[39mrepeat(np\u001b[38;5;241m.\u001b[39marange(n), k))\n",
      "File \u001b[0;32m<__array_function__ internals>:180\u001b[0m, in \u001b[0;36mstack\u001b[0;34m(*args, **kwargs)\u001b[0m\n",
      "File \u001b[0;32m~/Hard_Disk/Projects/T2I/deep-spectral-segmentation/venv/lib/python3.8/site-packages/numpy/core/shape_base.py:426\u001b[0m, in \u001b[0;36mstack\u001b[0;34m(arrays, axis, out)\u001b[0m\n\u001b[1;32m    424\u001b[0m shapes \u001b[38;5;241m=\u001b[39m {arr\u001b[38;5;241m.\u001b[39mshape \u001b[38;5;28;01mfor\u001b[39;00m arr \u001b[38;5;129;01min\u001b[39;00m arrays}\n\u001b[1;32m    425\u001b[0m \u001b[38;5;28;01mif\u001b[39;00m \u001b[38;5;28mlen\u001b[39m(shapes) \u001b[38;5;241m!=\u001b[39m \u001b[38;5;241m1\u001b[39m:\n\u001b[0;32m--> 426\u001b[0m     \u001b[38;5;28;01mraise\u001b[39;00m \u001b[38;5;167;01mValueError\u001b[39;00m(\u001b[38;5;124m'\u001b[39m\u001b[38;5;124mall input arrays must have the same shape\u001b[39m\u001b[38;5;124m'\u001b[39m)\n\u001b[1;32m    428\u001b[0m result_ndim \u001b[38;5;241m=\u001b[39m arrays[\u001b[38;5;241m0\u001b[39m]\u001b[38;5;241m.\u001b[39mndim \u001b[38;5;241m+\u001b[39m \u001b[38;5;241m1\u001b[39m\n\u001b[1;32m    429\u001b[0m axis \u001b[38;5;241m=\u001b[39m normalize_axis_index(axis, result_ndim)\n",
      "\u001b[0;31mValueError\u001b[0m: all input arrays must have the same shape"
     ]
    }
   ],
   "source": [
    "pca_comp=64\n",
    "pca = PCA(n_components=pca_comp)\n",
    "utils.make_output_dir(output_dir)\n",
    "inputs = list(enumerate(sorted(Path(features_dir).iterdir())))\n",
    "for inp in tqdm(inputs):\n",
    "    index, features_file = inp\n",
    "    print(index, features_file)\n",
    "     # Load\n",
    "    data_dict = torch.load(features_file, map_location='cpu')\n",
    "    print(data_dict.keys())   #['k', 'indices', 'file', 'id', 'model_name', 'patch_size', 'shape']\n",
    "    # print(\"shape=\", data_dict['shape'], \"k shape\", data_dict['k'].shape, \"patch_size=\", data_dict['patch_size'])\n",
    "    image_id = data_dict['file'][:-4]\n",
    "    print(image_id)\n",
    "    # Load\n",
    "    output_file = str(Path(output_dir) / f'{image_id}.pth')\n",
    "    if Path(output_file).is_file():\n",
    "        print(f'Skipping existing file {str(output_file)}')\n",
    "        # break\n",
    "        # return  # skip because already generated\n",
    "\n",
    "    # Load affinity matrix\n",
    "    feats = data_dict[which_features].squeeze().cuda()\n",
    "    # print(\"Without normalizing, Features Shape is\",feats.shape)\n",
    "    if normalize:\n",
    "        feats = F.normalize(feats, p=2, dim=-1)\n",
    "    # print(\"After normalization, Features Shape\",feats.shape)\n",
    "    # print(\"which_matrix=\", which_matrix)\n",
    "    # Eigenvectors of affinity matrix\n",
    "    if which_matrix == 'affinity_torch':\n",
    "        W = feats @ feats.T\n",
    "        # W_feat=contrastive_affinity(feats, feats.T)\n",
    "        # print(\"W shape=\", W.shape)\n",
    "        if threshold_at_zero:\n",
    "            W = (W * (W > 0))\n",
    "            # print(\"W shape=\", W.shape)\n",
    "        eigenvalues, eigenvectors = torch.eig(W, eigenvectors=True)\n",
    "        eigenvalues = eigenvalues.cpu()\n",
    "        eigenvectors = eigenvectors.cpu()\n",
    "        print(\"which matrix=\",which_matrix, \"eigenvalues shape\", eigenvalues.shape, \"eigenvectors shape\", eigenvectors.shape)\n",
    "\n",
    "\n",
    "    # Eigenvectors of affinity matrix with scipy\n",
    "    elif which_matrix == 'affinity_svd':\n",
    "        USV = torch.linalg.svd(feats, full_matrices=False)\n",
    "        eigenvectors = USV[0][:, :K].T.to('cpu', non_blocking=True)\n",
    "        eigenvalues = USV[1][:K].to('cpu', non_blocking=True)\n",
    "        print(\"which matrix=\",which_matrix,\"eigenvalues shape\", eigenvalues.shape, \"eigenvectors shape\", eigenvectors.shape)\n",
    "\n",
    "    # Eigenvectors of affinity matrix with scipy\n",
    "    elif which_matrix == 'affinity':\n",
    "        # print(\"Without normalizing, Features Shape is\",feats.shape)\n",
    "        W = (feats @ feats.T)\n",
    "        # W_feat=contrastive_affinity(feats, feats.T)\n",
    "        # print(\"W shape=\", W.shape)\n",
    "        if threshold_at_zero:\n",
    "            W = (W * (W > 0))\n",
    "        W = W.cpu().numpy()\n",
    "        # print(\"W shape=\", W.shape)\n",
    "        eigenvalues, eigenvectors = eigsh(W, which='LM', k=K)\n",
    "        eigenvectors = torch.flip(torch.from_numpy(eigenvectors), dims=(-1,)).T\n",
    "        print(\"which matrix=\",which_matrix, \"eigenvalues shape\", eigenvalues.shape, \"eigenvectors shape\", eigenvectors.shape)\n",
    "\n",
    "    # Eigenvectors of matting laplacian matrix\n",
    "    elif which_matrix in ['matting_laplacian', 'laplacian']:\n",
    "\n",
    "        # Get sizes\n",
    "        B, C, H, W, P, H_patch, W_patch, H_pad, W_pad = utils.get_image_sizes(data_dict)\n",
    "        if image_downsample_factor is None:\n",
    "            image_downsample_factor = P\n",
    "        H_pad_lr, W_pad_lr = H_pad // image_downsample_factor, W_pad // image_downsample_factor\n",
    "\n",
    "        # Upscale features to match the resolution\n",
    "        if (H_patch, W_patch) != (H_pad_lr, W_pad_lr):\n",
    "            feats = F.interpolate(\n",
    "                feats.T.reshape(1, -1, H_patch, W_patch),\n",
    "                size=(H_pad_lr, W_pad_lr), mode='bilinear', align_corners=False\n",
    "            ).reshape(-1, H_pad_lr * W_pad_lr).T\n",
    "\n",
    "        ### Feature affinities\n",
    "        # print(\"Without normalizing, Features Shape is\",feats.shape)\n",
    "\n",
    "        W_feat_ds = (feats @ feats.T)\n",
    "        max_wfeatds=torch.max(W_feat_ds).item()\n",
    "        alpha=2\n",
    "        W_feat_ds = W_feat_ds - (max_wfeatds / alpha)\n",
    "        layer=nn.Linear(pca_comp,pca_comp).cuda()\n",
    "        x0=feats\n",
    "        x0_arr=x0.cpu()\n",
    "        # print(x0_arr.shape)\n",
    "        z0_arr= pca.fit_transform(x0_arr)\n",
    "\n",
    "        # Define the affine transformation parameters\n",
    "        scale = np.random.uniform(0.8, 1.2)  # Random scaling factor between 0.8 and 1.2\n",
    "        translation = np.random.uniform(-10, 10, size=2)  # Random translation vector between -10 and 10 in both directions\n",
    "        rotation = np.random.uniform(-15, 15)  # Random rotation angle between -15 and 15 degrees\n",
    "        shear = np.random.uniform(-0.2, 0.2, size=2)  # Random shear factor between -0.2 and 0.2 in both directions\n",
    "\n",
    "        # Define the affine matrix\n",
    "        affine_matrix = np.array([[scale * np.cos(rotation), -shear[0] * scale * np.sin(rotation), translation[0]],\n",
    "                                  [shear[1] * scale * np.sin(rotation), scale * np.cos(rotation), translation[1]],\n",
    "                                  [0, 0, 1]])\n",
    "        z1_arr=affine_transform(z0_arr, affine_matrix)\n",
    "#         z1_arr=pca.fit_transform(z1_arr)\n",
    "        z0 = torch.from_numpy(z0_arr).float()\n",
    "        z1 = torch.from_numpy(z1_arr).float()\n",
    "\n",
    "        # feat_list.append(feats)\n",
    "        feat_dataset_z0 = Feature_Dataset(z0)\n",
    "        if feats.shape[0]%2==0:\n",
    "            features_dataloader_z0 = DataLoader(feat_dataset_z0, batch_size=batch_size, shuffle=True)\n",
    "        else:\n",
    "            features_dataloader_z0 = DataLoader(feat_dataset_z0, batch_size=batch_size, shuffle=True, drop_last=True)\n",
    "\n",
    "        feat_dataset_z1 = Feature_Dataset(z1)\n",
    "        if feats.shape[0]%2==0:\n",
    "            features_dataloader_z1 = DataLoader(feat_dataset_z1, batch_size=batch_size, shuffle=True)\n",
    "        else:\n",
    "            features_dataloader_z1 = DataLoader(feat_dataset_z1, batch_size=batch_size, shuffle=True, drop_last=True)\n",
    "        device = \"cuda\" if torch.cuda.is_available() else \"cpu\"\n",
    "    \n",
    "        criterion = NegativeCosineSimilarity()\n",
    "        optimizer = torch.optim.SGD(layer.parameters(), lr=0.06)\n",
    "        print(\"Starting Training\")\n",
    "        for epoch in range(epochs):\n",
    "            total_loss = 0\n",
    "            for z0_new,z1_new in zip(features_dataloader_z0,features_dataloader_z1):\n",
    "                z0_new = z0_new.to(device)\n",
    "                z1_new = z1_new.to(device)\n",
    "    #             print(\"z0_new.shape\", z0_new.shape)\n",
    "    #             print(\"z1_new.shape\", z1_new.shape)\n",
    "                p0=layer(z0_new)\n",
    "                p1=layer(z1_new)\n",
    "    #             print(\"p0.shape\", p0.shape)\n",
    "    #             print(\"p1.shape\", p1.shape)\n",
    "                loss = 0.5 * (criterion(z0_new, p1) + criterion(z1_new, p0))\n",
    "                total_loss += loss.detach()\n",
    "                loss.backward()\n",
    "                optimizer.step()\n",
    "                optimizer.zero_grad()\n",
    "            avg_loss = total_loss / len(features_dataloader_z0)\n",
    "            print(f\"epoch: {epoch:>02}, loss: {avg_loss:.5f}\")\n",
    "        projected_feature=layer(z0.to(device))\n",
    "        print(projected_feature.shape)\n",
    "        W_feat_siam=torch.matmul(projected_feature, projected_feature.t())\n",
    "        # max_wfeatsiam=torch.max(W_feat_siam).item()\n",
    "        # alpha=2\n",
    "        # W_feat_siam = W_feat_siam - (max_wfeatsiam / alpha)\n",
    "        # W_feat_siam=torch.matmul(projected_feature[0], projected_feature[0].t())\n",
    "        W_feat=W_feat_ds + 0.1*W_feat_siam\n",
    "#         W_feat=normalize_affinity_matrix(W_feat_unnorm, axis=1)\n",
    "        # print(\"W_feat.shape=\", W_feat.shape)\n",
    "        # print(\"W_feat.shape=\", W_feat.shape)\n",
    "        # W_feat=contrastive_affinity(feats, feats.T)\n",
    "        if threshold_at_zero:\n",
    "            W_feat = (W_feat * (W_feat > 0))\n",
    "        W_feat = W_feat / W_feat.max()  # NOTE: If features are normalized, this naturally does nothing\n",
    "        # W_feat = W_feat.cpu().numpy()\n",
    "        W_feat = W_feat.detach().cpu().numpy()\n",
    "        # print(\"W_feat shape=\",W_feat.shape)\n",
    "\n",
    "        ### Color affinities\n",
    "        # If we are fusing with color affinites, then load the image and compute\n",
    "        if image_color_lambda > 0:\n",
    "\n",
    "            # Load image\n",
    "            image_file = str(Path(images_root) / f'{image_id}.jpg')\n",
    "            image_lr = Image.open(image_file).resize((W_pad_lr, H_pad_lr), Image.BILINEAR)\n",
    "            image_lr = np.array(image_lr) / 255.\n",
    "\n",
    "            # Color affinities (of type scipy.sparse.csr_matrix)\n",
    "            if which_color_matrix == 'knn':\n",
    "                W_lr = utils.knn_affinity(image_lr / 255)\n",
    "            elif which_color_matrix == 'rw':\n",
    "                W_lr = utils.rw_affinity(image_lr / 255)\n",
    "\n",
    "            # Convert to dense numpy array\n",
    "            W_color = np.array(W_lr.todense().astype(np.float32))\n",
    "            # print(\"W_color shape\", W_color.shape)\n",
    "\n",
    "        else:\n",
    "\n",
    "            # No color affinity\n",
    "            W_color = 0\n",
    "\n",
    "        # Combine\n",
    "        W_comb = W_feat + W_color * image_color_lambda  # combination\n",
    "        D_comb = np.array(utils.get_diagonal(W_comb).todense())  # is dense or sparse faster? not sure, should check\n",
    "        # print(\"W_comb shape= \", W_comb.shape, \"D_comb shape\",  D_comb.shape)\n",
    "        if lapnorm:\n",
    "            try:\n",
    "                eigenvalues, eigenvectors = eigsh(D_comb - W_comb, k=K, sigma=0, which='LM', M=D_comb)\n",
    "            except:\n",
    "                eigenvalues, eigenvectors = eigsh(D_comb - W_comb, k=K, which='SM', M=D_comb)\n",
    "        else:\n",
    "            try:\n",
    "                eigenvalues, eigenvectors = eigsh(D_comb - W_comb, k=K, sigma=0, which='LM')\n",
    "            except:\n",
    "                eigenvalues, eigenvectors = eigsh(D_comb - W_comb, k=K, which='SM')\n",
    "        eigenvalues, eigenvectors = torch.from_numpy(eigenvalues), torch.from_numpy(eigenvectors.T).float()\n",
    "    print(\"eigenvalues shape\", eigenvalues.shape, \"eigenvectors shape\", eigenvectors.shape)\n",
    "    # Sign ambiguity\n",
    "    for k in range(eigenvectors.shape[0]):\n",
    "        if 0.5 < torch.mean((eigenvectors[k] > 0).float()).item() < 1.0:  # reverse segment\n",
    "            eigenvectors[k] = 0 - eigenvectors[k]\n",
    "\n",
    "    # Save dict\n",
    "    output_dict = {'eigenvalues': eigenvalues, 'eigenvectors': eigenvectors}\n",
    "    torch.save(output_dict, output_file)"
   ]
  }
 ],
 "metadata": {
  "kernelspec": {
   "display_name": "Python 3 (ipykernel)",
   "language": "python",
   "name": "python3"
  },
  "language_info": {
   "codemirror_mode": {
    "name": "ipython",
    "version": 3
   },
   "file_extension": ".py",
   "mimetype": "text/x-python",
   "name": "python",
   "nbconvert_exporter": "python",
   "pygments_lexer": "ipython3",
   "version": "3.8.10"
  }
 },
 "nbformat": 4,
 "nbformat_minor": 1
}
