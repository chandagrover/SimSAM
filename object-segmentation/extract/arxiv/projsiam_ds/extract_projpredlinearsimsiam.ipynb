{
 "cells": [
  {
   "cell_type": "code",
   "execution_count": 1,
   "metadata": {
    "pycharm": {
     "name": "#%%\n"
    }
   },
   "outputs": [],
   "source": [
    "# # from functools import partial\n",
    "from pathlib import Path\n",
    "# from typing import Optional, Tuple\n",
    "# import cv2\n",
    "# import fire\n",
    "import numpy as np\n",
    "import torch\n",
    "import torch.nn.functional as F\n",
    "from accelerate import Accelerator\n",
    "from PIL import Image\n",
    "from scipy.sparse.linalg import eigsh\n",
    "# from sklearn.cluster import KMeans, MiniBatchKMeans\n",
    "# from sklearn.decomposition import PCA\n",
    "# from torchvision.utils import draw_bounding_boxes\n",
    "from tqdm import tqdm\n",
    "import extract_utils as utils\n",
    "from torch.utils.data import Dataset, DataLoader\n",
    "\n",
    "import torchvision\n",
    "from lightly.loss import NegativeCosineSimilarity\n",
    "from lightly.models.modules import SimSiamPredictionHead, SimSiamProjectionHead\n",
    "from lightly.transforms import SimSiamTransform\n",
    "from torch import nn"
   ]
  },
  {
   "cell_type": "markdown",
   "metadata": {
    "pycharm": {
     "name": "#%% md\n"
    }
   },
   "source": [
    "## Extract Features"
   ]
  },
  {
   "cell_type": "code",
   "execution_count": 2,
   "metadata": {
    "pycharm": {
     "name": "#%%\n"
    }
   },
   "outputs": [
    {
     "name": "stdout",
     "output_type": "stream",
     "text": [
      "Output dir: /home/phdcs2/Hard_Disk/Datasets/Deep-Spectral-Segmentation/data/object-segmentation/ECSSD/features/dino_vits16\n"
     ]
    },
    {
     "name": "stderr",
     "output_type": "stream",
     "text": [
      "Using cache found in /home/phdcs2/.cache/torch/hub/facebookresearch_dino_main\n"
     ]
    },
    {
     "name": "stdout",
     "output_type": "stream",
     "text": [
      "patch size= 16 number of heads= 6\n"
     ]
    }
   ],
   "source": [
    "images_list=\"/home/phdcs2/Hard_Disk/Datasets/Deep-Spectral-Segmentation/data/object-segmentation/ECSSD/lists/images.txt\"\n",
    "images_root=\"/home/phdcs2/Hard_Disk/Datasets/Deep-Spectral-Segmentation/data/object-segmentation/ECSSD/images\"\n",
    "model_name=\"dino_vits16\"\n",
    "batch_size=1\n",
    "output_dir=\"/home/phdcs2/Hard_Disk/Datasets/Deep-Spectral-Segmentation/data/object-segmentation/ECSSD/features/dino_vits16\"\n",
    "which_block=-1\n",
    "# Output\n",
    "utils.make_output_dir(output_dir)\n",
    "# Models\n",
    "model_name = model_name.lower()\n",
    "model, val_transform, patch_size, num_heads = utils.get_model(model_name)    #patch size= 16 number of heads= 6\n",
    "print(\"patch size=\", patch_size, \"number of heads=\", num_heads)"
   ]
  },
  {
   "cell_type": "code",
   "execution_count": 3,
   "metadata": {
    "pycharm": {
     "name": "#%%\n"
    }
   },
   "outputs": [],
   "source": [
    "# # Add hook\n",
    "if 'dino' in model_name or 'mocov3' in model_name:\n",
    "    feat_out = {}\n",
    "    def hook_fn_forward_qkv(module, input, output):\n",
    "        print(\"feat_out.keys()\", feat_out.keys())\n",
    "        feat_out[\"qkv\"] = output\n",
    "    model._modules[\"blocks\"][which_block]._modules[\"attn\"]._modules[\"qkv\"].register_forward_hook(hook_fn_forward_qkv)\n",
    "else:\n",
    "    raise ValueError(model_name)"
   ]
  },
  {
   "cell_type": "code",
   "execution_count": 4,
   "metadata": {
    "pycharm": {
     "name": "#%%\n"
    }
   },
   "outputs": [
    {
     "name": "stdout",
     "output_type": "stream",
     "text": [
      "Dataset size: len(dataset)=1000\n",
      "Dataloader size: len(dataloader)=1000\n"
     ]
    }
   ],
   "source": [
    "# # Dataset\n",
    "filenames = Path(images_list).read_text().splitlines()\n",
    "dataset = utils.ImagesDataset(filenames=filenames, images_root=images_root, transform=val_transform)\n",
    "dataloader = torch.utils.data.DataLoader(dataset, batch_size=batch_size, num_workers=8)\n",
    "print(f'Dataset size: {len(dataset)=}')\n",
    "print(f'Dataloader size: {len(dataloader)=}')"
   ]
  },
  {
   "cell_type": "code",
   "execution_count": 5,
   "metadata": {
    "pycharm": {
     "name": "#%%\n"
    }
   },
   "outputs": [
    {
     "name": "stdout",
     "output_type": "stream",
     "text": [
      "model.num_features= 384\n"
     ]
    }
   ],
   "source": [
    "# # Prepare\n",
    "# accelerator = Accelerator(fp16=True, cpu=False)\n",
    "accelerator = Accelerator(cpu=False)\n",
    "# model, dataloader = accelerator.prepare(model, dataloader)\n",
    "model = model.to(accelerator.device)\n",
    "model.num_features\n",
    "print(\"model.num_features=\", model.num_features)"
   ]
  },
  {
   "cell_type": "code",
   "execution_count": 6,
   "metadata": {
    "pycharm": {
     "name": "#%%\n"
    }
   },
   "outputs": [],
   "source": [
    "# model.get_submodule"
   ]
  },
  {
   "cell_type": "code",
   "execution_count": 7,
   "metadata": {
    "pycharm": {
     "name": "#%%\n"
    }
   },
   "outputs": [
    {
     "name": "stderr",
     "output_type": "stream",
     "text": [
      "Processing: 100%|██████████| 1000/1000 [00:01<00:00, 523.93it/s]\n"
     ]
    }
   ],
   "source": [
    "# # Process\n",
    "pbar = list(tqdm(dataloader, desc='Processing'))"
   ]
  },
  {
   "cell_type": "code",
   "execution_count": 8,
   "metadata": {
    "pycharm": {
     "name": "#%%\n"
    }
   },
   "outputs": [
    {
     "name": "stdout",
     "output_type": "stream",
     "text": [
      "feat_out.keys()= dict_keys([])\n",
      "feat_out.keys() dict_keys([])\n",
      "feat_out.keys() dict_keys(['qkv'])\n",
      "tensor([[[  4.1080,  -6.8098,   3.7193,  ..., -10.1830,   1.9089,  -0.3095],\n",
      "         [  7.2783, -10.1525,  -1.5861,  ...,  -1.8359,   9.7533,  -1.3859],\n",
      "         [  3.2214,  -5.3827,  -3.4998,  ...,  -0.5718,  -0.5539,  -1.7266],\n",
      "         ...,\n",
      "         [ -0.6573,  -0.4702,   2.3428,  ...,  -2.3507,  -1.5269,   0.6090],\n",
      "         [ -2.1509,   3.9371,  -1.2622,  ...,   2.2995,   2.1495,  -0.1911],\n",
      "         [ -2.2643,  -3.2050,  -3.8921,  ...,   3.7439,  -2.0177,  -3.8855]]],\n",
      "       device='cuda:0', grad_fn=<NativeLayerNormBackward0>)\n",
      "output_dict[k].shape= torch.Size([1, 400, 384])\n",
      "feat_out.keys() dict_keys(['qkv'])\n",
      "feat_out.keys() dict_keys(['qkv'])\n",
      "tensor([[[ 0.1586, -4.6696,  3.1290,  ..., -4.3200,  3.7603, -0.8192],\n",
      "         [ 2.6731, -1.9392,  2.4292,  ..., -2.7639, -3.6383, -6.5200],\n",
      "         [ 0.7305, -2.3414,  2.3420,  ..., -1.6405, -3.7350, -5.2370],\n",
      "         ...,\n",
      "         [-4.6839,  3.8184, -3.2553,  ..., -5.5976, -3.9485, -5.3918],\n",
      "         [-1.9980, -2.8030, -5.8294,  ...,  0.1842,  0.1215, -8.3040],\n",
      "         [-1.4873, -3.1498, -4.1562,  ..., -2.2398, -0.6063, -9.1043]]],\n",
      "       device='cuda:0', grad_fn=<NativeLayerNormBackward0>)\n",
      "output_dict[k].shape= torch.Size([1, 400, 384])\n",
      "Saved features to /home/phdcs2/Hard_Disk/Datasets/Deep-Spectral-Segmentation/data/object-segmentation/ECSSD/features/dino_vits16\n"
     ]
    }
   ],
   "source": [
    "# # Process\n",
    "# pbar = list(tqdm(dataloader, desc='Processing'))\n",
    "print(\"feat_out.keys()=\", feat_out.keys())\n",
    "for i, (images, files, indices) in enumerate(pbar[:2]):\n",
    "    output_dict = {}\n",
    "    # print(\"images.shape=\", images.shape, \"files =\", files, \"indices\", indices)\n",
    "\n",
    "    # Check if file already exists\n",
    "    id = Path(files[0]).stem\n",
    "    # print(\"id=\", id)\n",
    "    output_file = Path(output_dir) / f'{id}.pth'\n",
    "    # if output_file.is_file():\n",
    "    #     pbar.write(f'Skipping existing file {str(output_file)}')\n",
    "    #     continue\n",
    "\n",
    "    # Reshape image\n",
    "    P = patch_size\n",
    "    B, C, H, W = images.shape\n",
    "    H_patch, W_patch = H // P, W // P\n",
    "    H_pad, W_pad = H_patch * P, W_patch * P\n",
    "    T = H_patch * W_patch + 1  # number of tokens, add 1 for [CLS]\n",
    "    # images = F.interpolate(images, size=(H_pad, W_pad), mode='bilinear')  # resize image\n",
    "    images = images[:, :, :H_pad, :W_pad]\n",
    "    images = images.to(accelerator.device)\n",
    "    # print(\"images.shape after padding=\", images.shape)\n",
    "\n",
    "    # Forward and collect features into output dict\n",
    "    if 'dino' in model_name or 'mocov3' in model_name:\n",
    "        # accelerator.unwrap_model(model).get_intermediate_layers(images)[0].squeeze(0)\n",
    "        model.get_intermediate_layers(images)[0].squeeze(0)\n",
    "        print(model.get_intermediate_layers(images)[0])\n",
    "        # output_dict['out'] = out\n",
    "        # print(\"feat_out.keys()=\", feat_out.keys())\n",
    "        output_qkv = feat_out[\"qkv\"].reshape(B, T, 3, num_heads, -1 // num_heads).permute(2, 0, 3, 1, 4)\n",
    "        # print(\"type(output_qkv)\", type(output_qkv))\n",
    "        # print(\"output_qkv.shape\", output_qkv.shape)    #3, 1, 6, 931, 64]\n",
    "        # print(\"output_qkv[0].shape\", output_qkv[0].shape)\n",
    "        # print(\"output_qkv[1].shape\", output_qkv[1].shape)\n",
    "        # print(\"output_qkv[2].shape\", output_qkv[2].shape)\n",
    "        # output_dict['q'] = output_qkv[0].transpose(1, 2).reshape(B, T, -1)[:, 1:, :]\n",
    "        output_dict['k'] = output_qkv[1].transpose(1, 2).reshape(B, T, -1)[:, 1:, :]\n",
    "        print(\"output_dict[k].shape=\", output_dict['k'].shape)\n",
    "        # output_dict['v'] = output_qkv[2].transpose(1, 2).reshape(B, T, -1)[:, 1:, :]\n",
    "    else:\n",
    "        raise ValueError(model_name)\n",
    "\n",
    "    # print(\"output_dict.items=\", output_dict.items())\n",
    "    # Metadata\n",
    "    output_dict['indices'] = indices[0]\n",
    "    output_dict['file'] = files[0]\n",
    "    output_dict['id'] = id\n",
    "    output_dict['model_name'] = model_name\n",
    "    output_dict['patch_size'] = patch_size\n",
    "    output_dict['shape'] = (B, C, H, W)\n",
    "    output_dict = {k: (v.detach().cpu() if torch.is_tensor(v) else v) for k, v in output_dict.items()}\n",
    "    # for k, v in output_dict.items():\n",
    "    #     print(\"k=\", k)\n",
    "    #     if torch.is_tensor(v):\n",
    "    #         print(\"v.shape\", v.shape)\n",
    "    #     else:\n",
    "    #         print(\"v=\", v)\n",
    "    # print(\"output_dict.keys()\", output_dict.keys())\n",
    "    # print(\"output_dict['k'].shape=\", output_dict['k'].shape,\"output_dict['indices'] =\", indices[0],\"output_dict['file'] =\", files[0],\"output_dict['id']=\" , id, \"output_dict['model_name'] =\", model_name,\" output_dict['shape'] =(\", B, C, H, W,\")output_dict['patch_size'] =\",  patch_size )\n",
    "    # Save\n",
    "    accelerator.save(output_dict, str(output_file))\n",
    "    accelerator.wait_for_everyone()\n",
    "print(f'Saved features to {output_dir}')"
   ]
  },
  {
   "cell_type": "code",
   "execution_count": 9,
   "metadata": {
    "pycharm": {
     "name": "#%%\n"
    }
   },
   "outputs": [],
   "source": [
    "# # output_dict = {k: (v.detach().cpu() if torch.is_tensor(v) else v) for k, v in output_dict.items()}\n",
    "# print(output_dict.keys())\n",
    "# for k, v in output_dict.items():\n",
    "#     print(\"k=\", k)\n",
    "#     print(\"v.shape=\", v.shape)\n"
   ]
  },
  {
   "cell_type": "markdown",
   "metadata": {
    "pycharm": {
     "name": "#%% md\n"
    }
   },
   "source": [
    "## Extract Eigen Vectors"
   ]
  },
  {
   "cell_type": "markdown",
   "source": [
    "#Adding New Code from Simsiam"
   ],
   "metadata": {
    "collapsed": false,
    "pycharm": {
     "name": "#%% md\n"
    }
   }
  },
  {
   "cell_type": "code",
   "execution_count": 10,
   "outputs": [],
   "source": [
    "# features_dir=\"/home/phdcs2/Hard_Disk/Datasets/Deep-Spectral-Segmentation/data/object-segmentation/ECSSD/features/dino_vits16\"\n",
    "# inputs = list(enumerate(sorted(Path(features_dir).iterdir())))"
   ],
   "metadata": {
    "collapsed": false,
    "pycharm": {
     "name": "#%%\n"
    }
   }
  },
  {
   "cell_type": "code",
   "execution_count": 11,
   "outputs": [],
   "source": [
    "# # print(\"type of inputs=\", type(inputs))\n",
    "# print(\"len of inputs=\",len(inputs))\n",
    "# print(\"type of inputs[0]\", type(inputs[0]))\n",
    "# print(\"length of inputs[0]=\",len(inputs[0]))\n",
    "# print(\"inputs[0][0]=\",inputs[0][0])\n",
    "# print(\"inputs[0][1]=\", inputs[0][1])"
   ],
   "metadata": {
    "collapsed": false,
    "pycharm": {
     "name": "#%%\n"
    }
   }
  },
  {
   "cell_type": "code",
   "execution_count": 12,
   "outputs": [],
   "source": [
    "# # Define a custom dataset class\n",
    "# class Feature_Dataset(Dataset):\n",
    "#     def __init__(self, features):\n",
    "#         self.features = features\n",
    "#\n",
    "#     def __getitem__(self, index):\n",
    "#         return self.features[index]\n",
    "#\n",
    "#     def __len__(self):\n",
    "#         return len(self.features)"
   ],
   "metadata": {
    "collapsed": false,
    "pycharm": {
     "name": "#%%\n"
    }
   }
  },
  {
   "cell_type": "code",
   "execution_count": 13,
   "outputs": [],
   "source": [
    "# for inp in tqdm(inputs[:1]):\n",
    "#     index, features_file = inp\n",
    "#     # print(index, features_file)\n",
    "#      # Load\n",
    "#     data_dict = torch.load(features_file, map_location='cpu')\n",
    "#     print(\"data_dict.keys=\", data_dict.keys())\n",
    "#     print('data_dict[k]:', data_dict['k'])\n",
    "#     print('data_dict[k].shape=', data_dict['k'].shape)\n",
    "#     print('data_dict[indices]:', data_dict['indices'])\n",
    "#     print('data_dict[file]:', data_dict['file'])\n",
    "#     print('data_dict[model_name]:', data_dict['model_name'])\n",
    "#     print('data_dict[patch_size]:', data_dict['patch_size'])\n",
    "#     print('data_dict[shape]:', data_dict['shape'])\n",
    "#     print('type of data_dict[shape].shape=', type(data_dict['shape']))\n",
    "#     print('data_dict[shape][0]:', data_dict['shape'][0])\n",
    "#     print('data_dict[shape][1]:', data_dict['shape'][1])\n",
    "#     print('data_dict[shape][2]:', data_dict['shape'][2])\n",
    "#     print('data_dict[shape][3]:', data_dict['shape'][3])\n"
   ],
   "metadata": {
    "collapsed": false,
    "pycharm": {
     "name": "#%%\n"
    }
   }
  },
  {
   "cell_type": "code",
   "execution_count": 14,
   "outputs": [],
   "source": [
    "# features=data_dict['k']\n",
    "# print(features.shape)\n",
    "# feat_dataset = Feature_Dataset(features)\n",
    "# features_dataloader = DataLoader(feat_dataset, batch_size=2, shuffle=True)"
   ],
   "metadata": {
    "collapsed": false,
    "pycharm": {
     "name": "#%%\n"
    }
   }
  },
  {
   "cell_type": "code",
   "execution_count": 15,
   "outputs": [],
   "source": [
    "# class SimSiam(nn.Module):\n",
    "#     def __init__(self):\n",
    "#         super().__init__()\n",
    "#         self.projection_head = SimSiamProjectionHead(512, 512, 128)\n",
    "#         self.prediction_head = SimSiamPredictionHead(128, 64, 128)\n",
    "#\n",
    "#     def forward(self, x):\n",
    "#         z = self.projection_head(x)\n",
    "#         p = self.prediction_head(z)\n",
    "#         z = z.detach()\n",
    "#         return z, p"
   ],
   "metadata": {
    "collapsed": false,
    "pycharm": {
     "name": "#%%\n"
    }
   }
  },
  {
   "cell_type": "code",
   "execution_count": 16,
   "outputs": [],
   "source": [
    "# class SimSiam(nn.Module):\n",
    "#     def __init__(self, backbone):\n",
    "#         super().__init__()\n",
    "#         self.backbone = backbone\n",
    "#         self.projection_head = SimSiamProjectionHead(512, 512, 128)\n",
    "#         self.prediction_head = SimSiamPredictionHead(128, 64, 128)\n",
    "#\n",
    "#     def forward(self, x):\n",
    "#         f = self.backbone(x).flatten(start_dim=1)\n",
    "#         # z = self.projection_head(f)\n",
    "#         p = self.prediction_head(z)\n",
    "#         z = z.detach()\n",
    "#         return z, p"
   ],
   "metadata": {
    "collapsed": false,
    "pycharm": {
     "name": "#%%\n"
    }
   }
  },
  {
   "cell_type": "code",
   "execution_count": 17,
   "outputs": [],
   "source": [
    "# # resnet = torchvision.models.resnet18()\n",
    "# # backbone = nn.Sequential(*list(resnet.children())[:-1])\n",
    "# # model = SimSiam(backbone)\n",
    "# model_simsiam = SimSiam()\n",
    "#\n",
    "# device = \"cuda\" if torch.cuda.is_available() else \"cpu\"\n",
    "# model_simsiam.to(device)\n"
   ],
   "metadata": {
    "collapsed": false,
    "pycharm": {
     "name": "#%%\n"
    }
   }
  },
  {
   "cell_type": "code",
   "execution_count": 18,
   "outputs": [],
   "source": [
    "# # cifar10 = torchvision.datasets.CIFAR10(\"datasets/cifar10\", download=True)\n",
    "# transform = SimSiamTransform(input_size=32)\n",
    "# dataset = LightlyDataset.from_torch_dataset(cifar10, transform=transform)\n",
    "# collate_fn = MultiViewCollate()\n",
    "#\n",
    "# dataloader = torch.utils.data.DataLoader(\n",
    "#     dataset,\n",
    "#     batch_size=256,\n",
    "#     collate_fn=collate_fn,\n",
    "#     shuffle=True,\n",
    "#     drop_last=True,\n",
    "#     num_workers=8,\n",
    "# )"
   ],
   "metadata": {
    "collapsed": false,
    "pycharm": {
     "name": "#%%\n"
    }
   }
  },
  {
   "cell_type": "code",
   "execution_count": 19,
   "outputs": [],
   "source": [
    "# # criterion = NegativeCosineSimilarity()\n",
    "# optimizer = torch.optim.SGD(model.parameters(), lr=0.06)"
   ],
   "metadata": {
    "collapsed": false,
    "pycharm": {
     "name": "#%%\n"
    }
   }
  },
  {
   "cell_type": "code",
   "execution_count": 20,
   "outputs": [],
   "source": [
    "# # print(\"Starting Training\")\n",
    "# for epoch in range(10):\n",
    "#     total_loss = 0\n",
    "#     for (x0, x1), _, _ in features_dataloader:\n",
    "#         x0 = x0.to(device)\n",
    "#         x1 = x1.to(device)\n",
    "#         z0, p0 = model(x0)\n",
    "#         z1, p1 = model(x1)\n",
    "#         loss = 0.5 * (criterion(z0, p1) + criterion(z1, p0))\n",
    "#         total_loss += loss.detach()\n",
    "#         loss.backward()\n",
    "#         optimizer.step()\n",
    "#         optimizer.zero_grad()\n",
    "#     avg_loss = total_loss / len(dataloader)\n",
    "#     print(f\"epoch: {epoch:>02}, loss: {avg_loss:.5f}\")"
   ],
   "metadata": {
    "collapsed": false,
    "pycharm": {
     "name": "#%%\n"
    }
   }
  },
  {
   "cell_type": "code",
   "execution_count": 21,
   "metadata": {
    "pycharm": {
     "name": "#%%\n"
    }
   },
   "outputs": [],
   "source": [
    "# images_root=\"/home/phdcs2/Hard_Disk/Datasets/Deep-Spectral-Segmentation/data/object-segmentation/ECSSD/images\"\n",
    "features_dir=\"/home/phdcs2/Hard_Disk/Datasets/Deep-Spectral-Segmentation/data/object-segmentation/ECSSD/features/dino_vits16\"\n",
    "output_dir=\"/home/phdcs2/Hard_Disk/Datasets/Deep-Spectral-Segmentation/data/object-segmentation/ECSSD/eigs/laplacian\"\n",
    "which_matrix= 'laplacian'\n",
    "which_color_matrix= 'knn'\n",
    "which_features= 'k'\n",
    "normalize=True\n",
    "threshold_at_zero=True\n",
    "lapnorm= True\n",
    "K= 20\n",
    "image_downsample_factor = None\n",
    "image_color_lambda = 0.0\n",
    "multiprocessing = 0"
   ]
  },
  {
   "cell_type": "code",
   "execution_count": 22,
   "metadata": {
    "pycharm": {
     "name": "#%%\n"
    }
   },
   "outputs": [
    {
     "name": "stderr",
     "output_type": "stream",
     "text": [
      "  0%|          | 0/100 [00:00<?, ?it/s]"
     ]
    },
    {
     "name": "stdout",
     "output_type": "stream",
     "text": [
      "0 /home/phdcs2/Hard_Disk/Datasets/Deep-Spectral-Segmentation/data/object-segmentation/ECSSD/features/dino_vits16/0001.pth\n",
      "dict_keys(['k', 'indices', 'file', 'id', 'model_name', 'patch_size', 'shape'])\n",
      "shape= (1, 3, 400, 267) k shape torch.Size([1, 400, 384]) patch_size= 16\n",
      "0001\n",
      "Skipping existing file /home/phdcs2/Hard_Disk/Datasets/Deep-Spectral-Segmentation/data/object-segmentation/ECSSD/eigs/laplacian/0001.pth\n",
      "torch.Size([400, 384])\n",
      "Without normalizing, Features Shape is torch.Size([400, 384])\n",
      "After normalization, Features Shape torch.Size([400, 384])\n",
      "which_matrix= laplacian\n",
      "Without normalizing, Features Shape is torch.Size([400, 384])\n",
      "W_feat shape= (400, 400)\n",
      "W_comb shape=  (400, 400) D_comb shape (400, 400)\n"
     ]
    },
    {
     "name": "stderr",
     "output_type": "stream",
     "text": [
      "  1%|          | 1/100 [00:00<01:32,  1.07it/s]"
     ]
    },
    {
     "name": "stdout",
     "output_type": "stream",
     "text": [
      "eigenvalues shape torch.Size([20]) eigenvectors shape torch.Size([20, 400])\n",
      "1 /home/phdcs2/Hard_Disk/Datasets/Deep-Spectral-Segmentation/data/object-segmentation/ECSSD/features/dino_vits16/0002.pth\n",
      "dict_keys(['k', 'indices', 'file', 'id', 'model_name', 'patch_size', 'shape'])\n",
      "shape= (1, 3, 400, 267) k shape torch.Size([1, 400, 384]) patch_size= 16\n",
      "0002\n",
      "Skipping existing file /home/phdcs2/Hard_Disk/Datasets/Deep-Spectral-Segmentation/data/object-segmentation/ECSSD/eigs/laplacian/0002.pth\n",
      "torch.Size([400, 384])\n",
      "Without normalizing, Features Shape is torch.Size([400, 384])\n",
      "After normalization, Features Shape torch.Size([400, 384])\n",
      "which_matrix= laplacian\n",
      "Without normalizing, Features Shape is torch.Size([400, 384])\n",
      "W_feat shape= (400, 400)\n",
      "W_comb shape=  (400, 400) D_comb shape (400, 400)\n"
     ]
    },
    {
     "name": "stderr",
     "output_type": "stream",
     "text": [
      "  2%|▏         | 2/100 [00:01<00:55,  1.78it/s]"
     ]
    },
    {
     "name": "stdout",
     "output_type": "stream",
     "text": [
      "eigenvalues shape torch.Size([20]) eigenvectors shape torch.Size([20, 400])\n",
      "2 /home/phdcs2/Hard_Disk/Datasets/Deep-Spectral-Segmentation/data/object-segmentation/ECSSD/features/dino_vits16/0003.pth\n",
      "dict_keys(['k', 'indices', 'file', 'id', 'model_name', 'patch_size', 'shape'])\n",
      "shape= (1, 3, 267, 400) k shape torch.Size([1, 400, 384]) patch_size= 16\n",
      "0003\n",
      "Skipping existing file /home/phdcs2/Hard_Disk/Datasets/Deep-Spectral-Segmentation/data/object-segmentation/ECSSD/eigs/laplacian/0003.pth\n",
      "torch.Size([400, 384])\n",
      "Without normalizing, Features Shape is torch.Size([400, 384])\n",
      "After normalization, Features Shape torch.Size([400, 384])\n",
      "which_matrix= laplacian\n",
      "Without normalizing, Features Shape is torch.Size([400, 384])\n",
      "W_feat shape= (400, 400)\n",
      "W_comb shape=  (400, 400) D_comb shape (400, 400)\n"
     ]
    },
    {
     "name": "stderr",
     "output_type": "stream",
     "text": [
      "  3%|▎         | 3/100 [00:01<00:41,  2.35it/s]"
     ]
    },
    {
     "name": "stdout",
     "output_type": "stream",
     "text": [
      "eigenvalues shape torch.Size([20]) eigenvectors shape torch.Size([20, 400])\n",
      "3 /home/phdcs2/Hard_Disk/Datasets/Deep-Spectral-Segmentation/data/object-segmentation/ECSSD/features/dino_vits16/0004.pth\n",
      "dict_keys(['k', 'indices', 'file', 'id', 'model_name', 'patch_size', 'shape'])\n",
      "shape= (1, 3, 267, 400) k shape torch.Size([1, 400, 384]) patch_size= 16\n",
      "0004\n",
      "Skipping existing file /home/phdcs2/Hard_Disk/Datasets/Deep-Spectral-Segmentation/data/object-segmentation/ECSSD/eigs/laplacian/0004.pth\n",
      "torch.Size([400, 384])\n",
      "Without normalizing, Features Shape is torch.Size([400, 384])\n",
      "After normalization, Features Shape torch.Size([400, 384])\n",
      "which_matrix= laplacian\n",
      "Without normalizing, Features Shape is torch.Size([400, 384])\n",
      "W_feat shape= (400, 400)\n",
      "W_comb shape=  (400, 400) D_comb shape (400, 400)\n"
     ]
    },
    {
     "name": "stderr",
     "output_type": "stream",
     "text": [
      "  4%|▍         | 4/100 [00:01<00:35,  2.69it/s]"
     ]
    },
    {
     "name": "stdout",
     "output_type": "stream",
     "text": [
      "eigenvalues shape torch.Size([20]) eigenvectors shape torch.Size([20, 400])\n",
      "4 /home/phdcs2/Hard_Disk/Datasets/Deep-Spectral-Segmentation/data/object-segmentation/ECSSD/features/dino_vits16/0005.pth\n",
      "dict_keys(['k', 'indices', 'file', 'id', 'model_name', 'patch_size', 'shape'])\n",
      "shape= (1, 3, 400, 267) k shape torch.Size([1, 400, 384]) patch_size= 16\n",
      "0005\n",
      "Skipping existing file /home/phdcs2/Hard_Disk/Datasets/Deep-Spectral-Segmentation/data/object-segmentation/ECSSD/eigs/laplacian/0005.pth\n",
      "torch.Size([400, 384])\n",
      "Without normalizing, Features Shape is torch.Size([400, 384])\n",
      "After normalization, Features Shape torch.Size([400, 384])\n",
      "which_matrix= laplacian\n",
      "Without normalizing, Features Shape is torch.Size([400, 384])\n",
      "W_feat shape= (400, 400)\n",
      "W_comb shape=  (400, 400) D_comb shape (400, 400)\n"
     ]
    },
    {
     "name": "stderr",
     "output_type": "stream",
     "text": [
      "  5%|▌         | 5/100 [00:02<00:30,  3.13it/s]"
     ]
    },
    {
     "name": "stdout",
     "output_type": "stream",
     "text": [
      "eigenvalues shape torch.Size([20]) eigenvectors shape torch.Size([20, 400])\n",
      "5 /home/phdcs2/Hard_Disk/Datasets/Deep-Spectral-Segmentation/data/object-segmentation/ECSSD/features/dino_vits16/0006.pth\n",
      "dict_keys(['k', 'indices', 'file', 'id', 'model_name', 'patch_size', 'shape'])\n",
      "shape= (1, 3, 267, 400) k shape torch.Size([1, 400, 384]) patch_size= 16\n",
      "0006\n",
      "Skipping existing file /home/phdcs2/Hard_Disk/Datasets/Deep-Spectral-Segmentation/data/object-segmentation/ECSSD/eigs/laplacian/0006.pth\n",
      "torch.Size([400, 384])\n",
      "Without normalizing, Features Shape is torch.Size([400, 384])\n",
      "After normalization, Features Shape torch.Size([400, 384])\n",
      "which_matrix= laplacian\n",
      "Without normalizing, Features Shape is torch.Size([400, 384])\n",
      "W_feat shape= (400, 400)\n",
      "W_comb shape=  (400, 400) D_comb shape (400, 400)\n"
     ]
    },
    {
     "name": "stderr",
     "output_type": "stream",
     "text": [
      "  6%|▌         | 6/100 [00:02<00:29,  3.19it/s]"
     ]
    },
    {
     "name": "stdout",
     "output_type": "stream",
     "text": [
      "eigenvalues shape torch.Size([20]) eigenvectors shape torch.Size([20, 400])\n",
      "6 /home/phdcs2/Hard_Disk/Datasets/Deep-Spectral-Segmentation/data/object-segmentation/ECSSD/features/dino_vits16/0007.pth\n",
      "dict_keys(['k', 'indices', 'file', 'id', 'model_name', 'patch_size', 'shape'])\n",
      "shape= (1, 3, 267, 400) k shape torch.Size([1, 400, 384]) patch_size= 16\n",
      "0007\n",
      "Skipping existing file /home/phdcs2/Hard_Disk/Datasets/Deep-Spectral-Segmentation/data/object-segmentation/ECSSD/eigs/laplacian/0007.pth\n",
      "torch.Size([400, 384])\n",
      "Without normalizing, Features Shape is torch.Size([400, 384])\n",
      "After normalization, Features Shape torch.Size([400, 384])\n",
      "which_matrix= laplacian\n",
      "Without normalizing, Features Shape is torch.Size([400, 384])\n",
      "W_feat shape= (400, 400)\n",
      "W_comb shape=  (400, 400) D_comb shape (400, 400)\n"
     ]
    },
    {
     "name": "stderr",
     "output_type": "stream",
     "text": [
      "  8%|▊         | 8/100 [00:02<00:23,  4.00it/s]"
     ]
    },
    {
     "name": "stdout",
     "output_type": "stream",
     "text": [
      "eigenvalues shape torch.Size([20]) eigenvectors shape torch.Size([20, 400])\n",
      "7 /home/phdcs2/Hard_Disk/Datasets/Deep-Spectral-Segmentation/data/object-segmentation/ECSSD/features/dino_vits16/0008.pth\n",
      "dict_keys(['k', 'indices', 'file', 'id', 'model_name', 'patch_size', 'shape'])\n",
      "shape= (1, 3, 267, 400) k shape torch.Size([1, 400, 384]) patch_size= 16\n",
      "0008\n",
      "Skipping existing file /home/phdcs2/Hard_Disk/Datasets/Deep-Spectral-Segmentation/data/object-segmentation/ECSSD/eigs/laplacian/0008.pth\n",
      "torch.Size([400, 384])\n",
      "Without normalizing, Features Shape is torch.Size([400, 384])\n",
      "After normalization, Features Shape torch.Size([400, 384])\n",
      "which_matrix= laplacian\n",
      "Without normalizing, Features Shape is torch.Size([400, 384])\n",
      "W_feat shape= (400, 400)\n",
      "W_comb shape=  (400, 400) D_comb shape (400, 400)\n",
      "eigenvalues shape torch.Size([20]) eigenvectors shape torch.Size([20, 400])\n",
      "8 /home/phdcs2/Hard_Disk/Datasets/Deep-Spectral-Segmentation/data/object-segmentation/ECSSD/features/dino_vits16/0009.pth\n",
      "dict_keys(['k', 'indices', 'file', 'id', 'model_name', 'patch_size', 'shape'])\n",
      "shape= (1, 3, 267, 400) k shape torch.Size([1, 400, 384]) patch_size= 16\n",
      "0009\n",
      "Skipping existing file /home/phdcs2/Hard_Disk/Datasets/Deep-Spectral-Segmentation/data/object-segmentation/ECSSD/eigs/laplacian/0009.pth\n",
      "torch.Size([400, 384])\n",
      "Without normalizing, Features Shape is torch.Size([400, 384])\n",
      "After normalization, Features Shape torch.Size([400, 384])\n",
      "which_matrix= laplacian\n",
      "Without normalizing, Features Shape is torch.Size([400, 384])\n",
      "W_feat shape= (400, 400)\n",
      "W_comb shape=  (400, 400) D_comb shape (400, 400)\n"
     ]
    },
    {
     "name": "stderr",
     "output_type": "stream",
     "text": [
      "  9%|▉         | 9/100 [00:03<00:24,  3.65it/s]"
     ]
    },
    {
     "name": "stdout",
     "output_type": "stream",
     "text": [
      "eigenvalues shape torch.Size([20]) eigenvectors shape torch.Size([20, 400])\n",
      "9 /home/phdcs2/Hard_Disk/Datasets/Deep-Spectral-Segmentation/data/object-segmentation/ECSSD/features/dino_vits16/0010.pth\n",
      "dict_keys(['k', 'indices', 'file', 'id', 'model_name', 'patch_size', 'shape'])\n",
      "shape= (1, 3, 267, 400) k shape torch.Size([1, 400, 384]) patch_size= 16\n",
      "0010\n",
      "Skipping existing file /home/phdcs2/Hard_Disk/Datasets/Deep-Spectral-Segmentation/data/object-segmentation/ECSSD/eigs/laplacian/0010.pth\n",
      "torch.Size([400, 384])\n",
      "Without normalizing, Features Shape is torch.Size([400, 384])\n",
      "After normalization, Features Shape torch.Size([400, 384])\n",
      "which_matrix= laplacian\n",
      "Without normalizing, Features Shape is torch.Size([400, 384])\n",
      "W_feat shape= (400, 400)\n",
      "W_comb shape=  (400, 400) D_comb shape (400, 400)\n"
     ]
    },
    {
     "name": "stderr",
     "output_type": "stream",
     "text": [
      " 10%|█         | 10/100 [00:03<00:25,  3.49it/s]"
     ]
    },
    {
     "name": "stdout",
     "output_type": "stream",
     "text": [
      "eigenvalues shape torch.Size([20]) eigenvectors shape torch.Size([20, 400])\n",
      "10 /home/phdcs2/Hard_Disk/Datasets/Deep-Spectral-Segmentation/data/object-segmentation/ECSSD/features/dino_vits16/0011.pth\n",
      "dict_keys(['k', 'indices', 'file', 'id', 'model_name', 'patch_size', 'shape'])\n",
      "shape= (1, 3, 267, 400) k shape torch.Size([1, 400, 384]) patch_size= 16\n",
      "0011\n",
      "Skipping existing file /home/phdcs2/Hard_Disk/Datasets/Deep-Spectral-Segmentation/data/object-segmentation/ECSSD/eigs/laplacian/0011.pth\n",
      "torch.Size([400, 384])\n",
      "Without normalizing, Features Shape is torch.Size([400, 384])\n",
      "After normalization, Features Shape torch.Size([400, 384])\n",
      "which_matrix= laplacian\n",
      "Without normalizing, Features Shape is torch.Size([400, 384])\n",
      "W_feat shape= (400, 400)\n",
      "W_comb shape=  (400, 400) D_comb shape (400, 400)\n"
     ]
    },
    {
     "name": "stderr",
     "output_type": "stream",
     "text": [
      " 11%|█         | 11/100 [00:03<00:26,  3.31it/s]"
     ]
    },
    {
     "name": "stdout",
     "output_type": "stream",
     "text": [
      "eigenvalues shape torch.Size([20]) eigenvectors shape torch.Size([20, 400])\n",
      "11 /home/phdcs2/Hard_Disk/Datasets/Deep-Spectral-Segmentation/data/object-segmentation/ECSSD/features/dino_vits16/0012.pth\n",
      "dict_keys(['k', 'indices', 'file', 'id', 'model_name', 'patch_size', 'shape'])\n",
      "shape= (1, 3, 267, 400) k shape torch.Size([1, 400, 384]) patch_size= 16\n",
      "0012\n",
      "Skipping existing file /home/phdcs2/Hard_Disk/Datasets/Deep-Spectral-Segmentation/data/object-segmentation/ECSSD/eigs/laplacian/0012.pth\n",
      "torch.Size([400, 384])\n",
      "Without normalizing, Features Shape is torch.Size([400, 384])\n",
      "After normalization, Features Shape torch.Size([400, 384])\n",
      "which_matrix= laplacian\n",
      "Without normalizing, Features Shape is torch.Size([400, 384])\n",
      "W_feat shape= (400, 400)\n",
      "W_comb shape=  (400, 400) D_comb shape (400, 400)\n"
     ]
    },
    {
     "name": "stderr",
     "output_type": "stream",
     "text": [
      " 12%|█▏        | 12/100 [00:03<00:24,  3.55it/s]"
     ]
    },
    {
     "name": "stdout",
     "output_type": "stream",
     "text": [
      "eigenvalues shape torch.Size([20]) eigenvectors shape torch.Size([20, 400])\n",
      "12 /home/phdcs2/Hard_Disk/Datasets/Deep-Spectral-Segmentation/data/object-segmentation/ECSSD/features/dino_vits16/0013.pth\n",
      "dict_keys(['k', 'indices', 'file', 'id', 'model_name', 'patch_size', 'shape'])\n",
      "shape= (1, 3, 400, 267) k shape torch.Size([1, 400, 384]) patch_size= 16\n",
      "0013\n",
      "Skipping existing file /home/phdcs2/Hard_Disk/Datasets/Deep-Spectral-Segmentation/data/object-segmentation/ECSSD/eigs/laplacian/0013.pth\n",
      "torch.Size([400, 384])\n",
      "Without normalizing, Features Shape is torch.Size([400, 384])\n",
      "After normalization, Features Shape torch.Size([400, 384])\n",
      "which_matrix= laplacian\n",
      "Without normalizing, Features Shape is torch.Size([400, 384])\n",
      "W_feat shape= (400, 400)\n",
      "W_comb shape=  (400, 400) D_comb shape (400, 400)\n"
     ]
    },
    {
     "name": "stderr",
     "output_type": "stream",
     "text": [
      " 14%|█▍        | 14/100 [00:04<00:18,  4.56it/s]"
     ]
    },
    {
     "name": "stdout",
     "output_type": "stream",
     "text": [
      "eigenvalues shape torch.Size([20]) eigenvectors shape torch.Size([20, 400])\n",
      "13 /home/phdcs2/Hard_Disk/Datasets/Deep-Spectral-Segmentation/data/object-segmentation/ECSSD/features/dino_vits16/0014.pth\n",
      "dict_keys(['k', 'indices', 'file', 'id', 'model_name', 'patch_size', 'shape'])\n",
      "shape= (1, 3, 267, 400) k shape torch.Size([1, 400, 384]) patch_size= 16\n",
      "0014\n",
      "Skipping existing file /home/phdcs2/Hard_Disk/Datasets/Deep-Spectral-Segmentation/data/object-segmentation/ECSSD/eigs/laplacian/0014.pth\n",
      "torch.Size([400, 384])\n",
      "Without normalizing, Features Shape is torch.Size([400, 384])\n",
      "After normalization, Features Shape torch.Size([400, 384])\n",
      "which_matrix= laplacian\n",
      "Without normalizing, Features Shape is torch.Size([400, 384])\n",
      "W_feat shape= (400, 400)\n",
      "W_comb shape=  (400, 400) D_comb shape (400, 400)\n",
      "eigenvalues shape torch.Size([20]) eigenvectors shape torch.Size([20, 400])\n",
      "14 /home/phdcs2/Hard_Disk/Datasets/Deep-Spectral-Segmentation/data/object-segmentation/ECSSD/features/dino_vits16/0015.pth\n",
      "dict_keys(['k', 'indices', 'file', 'id', 'model_name', 'patch_size', 'shape'])\n",
      "shape= (1, 3, 267, 400) k shape torch.Size([1, 400, 384]) patch_size= 16\n",
      "0015\n",
      "Skipping existing file /home/phdcs2/Hard_Disk/Datasets/Deep-Spectral-Segmentation/data/object-segmentation/ECSSD/eigs/laplacian/0015.pth\n",
      "torch.Size([400, 384])\n",
      "Without normalizing, Features Shape is torch.Size([400, 384])\n",
      "After normalization, Features Shape torch.Size([400, 384])\n",
      "which_matrix= laplacian\n",
      "Without normalizing, Features Shape is torch.Size([400, 384])\n",
      "W_feat shape= (400, 400)\n",
      "W_comb shape=  (400, 400) D_comb shape (400, 400)\n"
     ]
    },
    {
     "name": "stderr",
     "output_type": "stream",
     "text": [
      " 15%|█▌        | 15/100 [00:04<00:20,  4.14it/s]"
     ]
    },
    {
     "name": "stdout",
     "output_type": "stream",
     "text": [
      "eigenvalues shape torch.Size([20]) eigenvectors shape torch.Size([20, 400])\n",
      "15 /home/phdcs2/Hard_Disk/Datasets/Deep-Spectral-Segmentation/data/object-segmentation/ECSSD/features/dino_vits16/0016.pth\n",
      "dict_keys(['k', 'indices', 'file', 'id', 'model_name', 'patch_size', 'shape'])\n",
      "shape= (1, 3, 267, 400) k shape torch.Size([1, 400, 384]) patch_size= 16\n",
      "0016\n",
      "Skipping existing file /home/phdcs2/Hard_Disk/Datasets/Deep-Spectral-Segmentation/data/object-segmentation/ECSSD/eigs/laplacian/0016.pth\n",
      "torch.Size([400, 384])\n",
      "Without normalizing, Features Shape is torch.Size([400, 384])\n",
      "After normalization, Features Shape torch.Size([400, 384])\n",
      "which_matrix= laplacian\n",
      "Without normalizing, Features Shape is torch.Size([400, 384])\n",
      "W_feat shape= (400, 400)\n",
      "W_comb shape=  (400, 400) D_comb shape (400, 400)\n"
     ]
    },
    {
     "name": "stderr",
     "output_type": "stream",
     "text": [
      " 16%|█▌        | 16/100 [00:04<00:21,  3.98it/s]"
     ]
    },
    {
     "name": "stdout",
     "output_type": "stream",
     "text": [
      "eigenvalues shape torch.Size([20]) eigenvectors shape torch.Size([20, 400])\n",
      "16 /home/phdcs2/Hard_Disk/Datasets/Deep-Spectral-Segmentation/data/object-segmentation/ECSSD/features/dino_vits16/0017.pth\n",
      "dict_keys(['k', 'indices', 'file', 'id', 'model_name', 'patch_size', 'shape'])\n",
      "shape= (1, 3, 267, 400) k shape torch.Size([1, 400, 384]) patch_size= 16\n",
      "0017\n",
      "Skipping existing file /home/phdcs2/Hard_Disk/Datasets/Deep-Spectral-Segmentation/data/object-segmentation/ECSSD/eigs/laplacian/0017.pth\n",
      "torch.Size([400, 384])\n",
      "Without normalizing, Features Shape is torch.Size([400, 384])\n",
      "After normalization, Features Shape torch.Size([400, 384])\n",
      "which_matrix= laplacian\n",
      "Without normalizing, Features Shape is torch.Size([400, 384])\n",
      "W_feat shape= (400, 400)\n",
      "W_comb shape=  (400, 400) D_comb shape (400, 400)\n"
     ]
    },
    {
     "name": "stderr",
     "output_type": "stream",
     "text": [
      " 17%|█▋        | 17/100 [00:05<00:19,  4.16it/s]"
     ]
    },
    {
     "name": "stdout",
     "output_type": "stream",
     "text": [
      "eigenvalues shape torch.Size([20]) eigenvectors shape torch.Size([20, 400])\n",
      "17 /home/phdcs2/Hard_Disk/Datasets/Deep-Spectral-Segmentation/data/object-segmentation/ECSSD/features/dino_vits16/0018.pth\n",
      "dict_keys(['k', 'indices', 'file', 'id', 'model_name', 'patch_size', 'shape'])\n",
      "shape= (1, 3, 400, 267) k shape torch.Size([1, 400, 384]) patch_size= 16\n",
      "0018\n",
      "Skipping existing file /home/phdcs2/Hard_Disk/Datasets/Deep-Spectral-Segmentation/data/object-segmentation/ECSSD/eigs/laplacian/0018.pth\n",
      "torch.Size([400, 384])\n",
      "Without normalizing, Features Shape is torch.Size([400, 384])\n",
      "After normalization, Features Shape torch.Size([400, 384])\n",
      "which_matrix= laplacian\n",
      "Without normalizing, Features Shape is torch.Size([400, 384])\n",
      "W_feat shape= (400, 400)\n",
      "W_comb shape=  (400, 400) D_comb shape (400, 400)\n"
     ]
    },
    {
     "name": "stderr",
     "output_type": "stream",
     "text": [
      " 18%|█▊        | 18/100 [00:05<00:21,  3.73it/s]"
     ]
    },
    {
     "name": "stdout",
     "output_type": "stream",
     "text": [
      "eigenvalues shape torch.Size([20]) eigenvectors shape torch.Size([20, 400])\n",
      "18 /home/phdcs2/Hard_Disk/Datasets/Deep-Spectral-Segmentation/data/object-segmentation/ECSSD/features/dino_vits16/0019.pth\n",
      "dict_keys(['k', 'indices', 'file', 'id', 'model_name', 'patch_size', 'shape'])\n",
      "shape= (1, 3, 267, 400) k shape torch.Size([1, 400, 384]) patch_size= 16\n",
      "0019\n",
      "Skipping existing file /home/phdcs2/Hard_Disk/Datasets/Deep-Spectral-Segmentation/data/object-segmentation/ECSSD/eigs/laplacian/0019.pth\n",
      "torch.Size([400, 384])\n",
      "Without normalizing, Features Shape is torch.Size([400, 384])\n",
      "After normalization, Features Shape torch.Size([400, 384])\n",
      "which_matrix= laplacian\n",
      "Without normalizing, Features Shape is torch.Size([400, 384])\n",
      "W_feat shape= (400, 400)\n",
      "W_comb shape=  (400, 400) D_comb shape (400, 400)\n"
     ]
    },
    {
     "name": "stderr",
     "output_type": "stream",
     "text": [
      " 19%|█▉        | 19/100 [00:05<00:20,  4.01it/s]"
     ]
    },
    {
     "name": "stdout",
     "output_type": "stream",
     "text": [
      "eigenvalues shape torch.Size([20]) eigenvectors shape torch.Size([20, 400])\n",
      "19 /home/phdcs2/Hard_Disk/Datasets/Deep-Spectral-Segmentation/data/object-segmentation/ECSSD/features/dino_vits16/0020.pth\n",
      "dict_keys(['k', 'indices', 'file', 'id', 'model_name', 'patch_size', 'shape'])\n",
      "shape= (1, 3, 267, 400) k shape torch.Size([1, 400, 384]) patch_size= 16\n",
      "0020\n",
      "Skipping existing file /home/phdcs2/Hard_Disk/Datasets/Deep-Spectral-Segmentation/data/object-segmentation/ECSSD/eigs/laplacian/0020.pth\n",
      "torch.Size([400, 384])\n",
      "Without normalizing, Features Shape is torch.Size([400, 384])\n",
      "After normalization, Features Shape torch.Size([400, 384])\n",
      "which_matrix= laplacian\n",
      "Without normalizing, Features Shape is torch.Size([400, 384])\n",
      "W_feat shape= (400, 400)\n",
      "W_comb shape=  (400, 400) D_comb shape (400, 400)\n"
     ]
    },
    {
     "name": "stderr",
     "output_type": "stream",
     "text": [
      " 21%|██        | 21/100 [00:06<00:19,  4.06it/s]"
     ]
    },
    {
     "name": "stdout",
     "output_type": "stream",
     "text": [
      "eigenvalues shape torch.Size([20]) eigenvectors shape torch.Size([20, 400])\n",
      "20 /home/phdcs2/Hard_Disk/Datasets/Deep-Spectral-Segmentation/data/object-segmentation/ECSSD/features/dino_vits16/0021.pth\n",
      "dict_keys(['k', 'indices', 'file', 'id', 'model_name', 'patch_size', 'shape'])\n",
      "shape= (1, 3, 267, 400) k shape torch.Size([1, 400, 384]) patch_size= 16\n",
      "0021\n",
      "Skipping existing file /home/phdcs2/Hard_Disk/Datasets/Deep-Spectral-Segmentation/data/object-segmentation/ECSSD/eigs/laplacian/0021.pth\n",
      "torch.Size([400, 384])\n",
      "Without normalizing, Features Shape is torch.Size([400, 384])\n",
      "After normalization, Features Shape torch.Size([400, 384])\n",
      "which_matrix= laplacian\n",
      "Without normalizing, Features Shape is torch.Size([400, 384])\n",
      "W_feat shape= (400, 400)\n",
      "W_comb shape=  (400, 400) D_comb shape (400, 400)\n",
      "eigenvalues shape torch.Size([20]) eigenvectors shape torch.Size([20, 400])\n",
      "21 /home/phdcs2/Hard_Disk/Datasets/Deep-Spectral-Segmentation/data/object-segmentation/ECSSD/features/dino_vits16/0022.pth\n",
      "dict_keys(['k', 'indices', 'file', 'id', 'model_name', 'patch_size', 'shape'])\n",
      "shape= (1, 3, 400, 267) k shape torch.Size([1, 400, 384]) patch_size= 16\n",
      "0022\n",
      "Skipping existing file /home/phdcs2/Hard_Disk/Datasets/Deep-Spectral-Segmentation/data/object-segmentation/ECSSD/eigs/laplacian/0022.pth\n",
      "torch.Size([400, 384])\n",
      "Without normalizing, Features Shape is torch.Size([400, 384])\n",
      "After normalization, Features Shape torch.Size([400, 384])\n",
      "which_matrix= laplacian\n",
      "Without normalizing, Features Shape is torch.Size([400, 384])\n",
      "W_feat shape= (400, 400)\n",
      "W_comb shape=  (400, 400) D_comb shape (400, 400)\n"
     ]
    },
    {
     "name": "stderr",
     "output_type": "stream",
     "text": [
      " 22%|██▏       | 22/100 [00:06<00:29,  2.67it/s]"
     ]
    },
    {
     "name": "stdout",
     "output_type": "stream",
     "text": [
      "eigenvalues shape torch.Size([20]) eigenvectors shape torch.Size([20, 400])\n",
      "22 /home/phdcs2/Hard_Disk/Datasets/Deep-Spectral-Segmentation/data/object-segmentation/ECSSD/features/dino_vits16/0023.pth\n",
      "dict_keys(['k', 'indices', 'file', 'id', 'model_name', 'patch_size', 'shape'])\n",
      "shape= (1, 3, 267, 400) k shape torch.Size([1, 400, 384]) patch_size= 16\n",
      "0023\n",
      "Skipping existing file /home/phdcs2/Hard_Disk/Datasets/Deep-Spectral-Segmentation/data/object-segmentation/ECSSD/eigs/laplacian/0023.pth\n",
      "torch.Size([400, 384])\n",
      "Without normalizing, Features Shape is torch.Size([400, 384])\n",
      "After normalization, Features Shape torch.Size([400, 384])\n",
      "which_matrix= laplacian\n",
      "Without normalizing, Features Shape is torch.Size([400, 384])\n",
      "W_feat shape= (400, 400)\n",
      "W_comb shape=  (400, 400) D_comb shape (400, 400)\n"
     ]
    },
    {
     "name": "stderr",
     "output_type": "stream",
     "text": [
      " 23%|██▎       | 23/100 [00:07<00:30,  2.54it/s]"
     ]
    },
    {
     "name": "stdout",
     "output_type": "stream",
     "text": [
      "eigenvalues shape torch.Size([20]) eigenvectors shape torch.Size([20, 400])\n",
      "23 /home/phdcs2/Hard_Disk/Datasets/Deep-Spectral-Segmentation/data/object-segmentation/ECSSD/features/dino_vits16/0024.pth\n",
      "dict_keys(['k', 'indices', 'file', 'id', 'model_name', 'patch_size', 'shape'])\n",
      "shape= (1, 3, 267, 400) k shape torch.Size([1, 400, 384]) patch_size= 16\n",
      "0024\n",
      "Skipping existing file /home/phdcs2/Hard_Disk/Datasets/Deep-Spectral-Segmentation/data/object-segmentation/ECSSD/eigs/laplacian/0024.pth\n",
      "torch.Size([400, 384])\n",
      "Without normalizing, Features Shape is torch.Size([400, 384])\n",
      "After normalization, Features Shape torch.Size([400, 384])\n",
      "which_matrix= laplacian\n",
      "Without normalizing, Features Shape is torch.Size([400, 384])\n",
      "W_feat shape= (400, 400)\n",
      "W_comb shape=  (400, 400) D_comb shape (400, 400)\n"
     ]
    },
    {
     "name": "stderr",
     "output_type": "stream",
     "text": [
      "/home/phdcs2/Hard_Disk/Projects/T2I/deep-spectral-segmentation/venv/lib/python3.8/site-packages/scipy/sparse/linalg/_eigen/arpack/arpack.py:935: LinAlgWarning: Diagonal number 400 is exactly zero. Singular matrix.\n",
      "  self.M_lu = lu_factor(M)\n"
     ]
    },
    {
     "name": "stdout",
     "output_type": "stream",
     "text": [
      " ** On entry to SLASCL parameter number  4 had an illegal value\n",
      " ** On entry to SLASCL parameter number  4 had an illegal value\n"
     ]
    },
    {
     "name": "stderr",
     "output_type": "stream",
     "text": [
      " 24%|██▍       | 24/100 [00:08<00:40,  1.87it/s]"
     ]
    },
    {
     "name": "stdout",
     "output_type": "stream",
     "text": [
      "eigenvalues shape torch.Size([20]) eigenvectors shape torch.Size([20, 400])\n",
      "24 /home/phdcs2/Hard_Disk/Datasets/Deep-Spectral-Segmentation/data/object-segmentation/ECSSD/features/dino_vits16/0025.pth\n",
      "dict_keys(['k', 'indices', 'file', 'id', 'model_name', 'patch_size', 'shape'])\n",
      "shape= (1, 3, 267, 400) k shape torch.Size([1, 400, 384]) patch_size= 16\n",
      "0025\n",
      "Skipping existing file /home/phdcs2/Hard_Disk/Datasets/Deep-Spectral-Segmentation/data/object-segmentation/ECSSD/eigs/laplacian/0025.pth\n",
      "torch.Size([400, 384])\n",
      "Without normalizing, Features Shape is torch.Size([400, 384])\n",
      "After normalization, Features Shape torch.Size([400, 384])\n",
      "which_matrix= laplacian\n",
      "Without normalizing, Features Shape is torch.Size([400, 384])\n",
      "W_feat shape= (400, 400)\n",
      "W_comb shape=  (400, 400) D_comb shape (400, 400)\n"
     ]
    },
    {
     "name": "stderr",
     "output_type": "stream",
     "text": [
      " 25%|██▌       | 25/100 [00:08<00:35,  2.12it/s]"
     ]
    },
    {
     "name": "stdout",
     "output_type": "stream",
     "text": [
      "eigenvalues shape torch.Size([20]) eigenvectors shape torch.Size([20, 400])\n",
      "25 /home/phdcs2/Hard_Disk/Datasets/Deep-Spectral-Segmentation/data/object-segmentation/ECSSD/features/dino_vits16/0026.pth\n",
      "dict_keys(['k', 'indices', 'file', 'id', 'model_name', 'patch_size', 'shape'])\n",
      "shape= (1, 3, 400, 267) k shape torch.Size([1, 400, 384]) patch_size= 16\n",
      "0026\n",
      "Skipping existing file /home/phdcs2/Hard_Disk/Datasets/Deep-Spectral-Segmentation/data/object-segmentation/ECSSD/eigs/laplacian/0026.pth\n",
      "torch.Size([400, 384])\n",
      "Without normalizing, Features Shape is torch.Size([400, 384])\n",
      "After normalization, Features Shape torch.Size([400, 384])\n",
      "which_matrix= laplacian\n",
      "Without normalizing, Features Shape is torch.Size([400, 384])\n",
      "W_feat shape= (400, 400)\n",
      "W_comb shape=  (400, 400) D_comb shape (400, 400)\n"
     ]
    },
    {
     "name": "stderr",
     "output_type": "stream",
     "text": [
      " 26%|██▌       | 26/100 [00:08<00:31,  2.35it/s]"
     ]
    },
    {
     "name": "stdout",
     "output_type": "stream",
     "text": [
      "eigenvalues shape torch.Size([20]) eigenvectors shape torch.Size([20, 400])\n",
      "26 /home/phdcs2/Hard_Disk/Datasets/Deep-Spectral-Segmentation/data/object-segmentation/ECSSD/features/dino_vits16/0027.pth\n",
      "dict_keys(['k', 'indices', 'file', 'id', 'model_name', 'patch_size', 'shape'])\n",
      "shape= (1, 3, 267, 400) k shape torch.Size([1, 400, 384]) patch_size= 16\n",
      "0027\n",
      "Skipping existing file /home/phdcs2/Hard_Disk/Datasets/Deep-Spectral-Segmentation/data/object-segmentation/ECSSD/eigs/laplacian/0027.pth\n",
      "torch.Size([400, 384])\n",
      "Without normalizing, Features Shape is torch.Size([400, 384])\n",
      "After normalization, Features Shape torch.Size([400, 384])\n",
      "which_matrix= laplacian\n",
      "Without normalizing, Features Shape is torch.Size([400, 384])\n",
      "W_feat shape= (400, 400)\n",
      "W_comb shape=  (400, 400) D_comb shape (400, 400)\n"
     ]
    },
    {
     "name": "stderr",
     "output_type": "stream",
     "text": [
      " 27%|██▋       | 27/100 [00:09<00:30,  2.42it/s]"
     ]
    },
    {
     "name": "stdout",
     "output_type": "stream",
     "text": [
      "eigenvalues shape torch.Size([20]) eigenvectors shape torch.Size([20, 400])\n",
      "27 /home/phdcs2/Hard_Disk/Datasets/Deep-Spectral-Segmentation/data/object-segmentation/ECSSD/features/dino_vits16/0028.pth\n",
      "dict_keys(['k', 'indices', 'file', 'id', 'model_name', 'patch_size', 'shape'])\n",
      "shape= (1, 3, 267, 400) k shape torch.Size([1, 400, 384]) patch_size= 16\n",
      "0028\n",
      "Skipping existing file /home/phdcs2/Hard_Disk/Datasets/Deep-Spectral-Segmentation/data/object-segmentation/ECSSD/eigs/laplacian/0028.pth\n",
      "torch.Size([400, 384])\n",
      "Without normalizing, Features Shape is torch.Size([400, 384])\n",
      "After normalization, Features Shape torch.Size([400, 384])\n",
      "which_matrix= laplacian\n",
      "Without normalizing, Features Shape is torch.Size([400, 384])\n",
      "W_feat shape= (400, 400)\n",
      "W_comb shape=  (400, 400) D_comb shape (400, 400)\n"
     ]
    },
    {
     "name": "stderr",
     "output_type": "stream",
     "text": [
      " 28%|██▊       | 28/100 [00:09<00:26,  2.73it/s]"
     ]
    },
    {
     "name": "stdout",
     "output_type": "stream",
     "text": [
      "eigenvalues shape torch.Size([20]) eigenvectors shape torch.Size([20, 400])\n",
      "28 /home/phdcs2/Hard_Disk/Datasets/Deep-Spectral-Segmentation/data/object-segmentation/ECSSD/features/dino_vits16/0029.pth\n",
      "dict_keys(['k', 'indices', 'file', 'id', 'model_name', 'patch_size', 'shape'])\n",
      "shape= (1, 3, 400, 267) k shape torch.Size([1, 400, 384]) patch_size= 16\n",
      "0029\n",
      "Skipping existing file /home/phdcs2/Hard_Disk/Datasets/Deep-Spectral-Segmentation/data/object-segmentation/ECSSD/eigs/laplacian/0029.pth\n",
      "torch.Size([400, 384])\n",
      "Without normalizing, Features Shape is torch.Size([400, 384])\n",
      "After normalization, Features Shape torch.Size([400, 384])\n",
      "which_matrix= laplacian\n",
      "Without normalizing, Features Shape is torch.Size([400, 384])\n",
      "W_feat shape= (400, 400)\n",
      "W_comb shape=  (400, 400) D_comb shape (400, 400)\n"
     ]
    },
    {
     "name": "stderr",
     "output_type": "stream",
     "text": [
      " 29%|██▉       | 29/100 [00:09<00:24,  2.92it/s]"
     ]
    },
    {
     "name": "stdout",
     "output_type": "stream",
     "text": [
      "eigenvalues shape torch.Size([20]) eigenvectors shape torch.Size([20, 400])\n",
      "29 /home/phdcs2/Hard_Disk/Datasets/Deep-Spectral-Segmentation/data/object-segmentation/ECSSD/features/dino_vits16/0030.pth\n",
      "dict_keys(['k', 'indices', 'file', 'id', 'model_name', 'patch_size', 'shape'])\n",
      "shape= (1, 3, 267, 400) k shape torch.Size([1, 400, 384]) patch_size= 16\n",
      "0030\n",
      "Skipping existing file /home/phdcs2/Hard_Disk/Datasets/Deep-Spectral-Segmentation/data/object-segmentation/ECSSD/eigs/laplacian/0030.pth\n",
      "torch.Size([400, 384])\n",
      "Without normalizing, Features Shape is torch.Size([400, 384])\n",
      "After normalization, Features Shape torch.Size([400, 384])\n",
      "which_matrix= laplacian\n",
      "Without normalizing, Features Shape is torch.Size([400, 384])\n",
      "W_feat shape= (400, 400)\n",
      "W_comb shape=  (400, 400) D_comb shape (400, 400)\n"
     ]
    },
    {
     "name": "stderr",
     "output_type": "stream",
     "text": [
      " 30%|███       | 30/100 [00:10<00:24,  2.91it/s]"
     ]
    },
    {
     "name": "stdout",
     "output_type": "stream",
     "text": [
      "eigenvalues shape torch.Size([20]) eigenvectors shape torch.Size([20, 400])\n",
      "30 /home/phdcs2/Hard_Disk/Datasets/Deep-Spectral-Segmentation/data/object-segmentation/ECSSD/features/dino_vits16/0031.pth\n",
      "dict_keys(['k', 'indices', 'file', 'id', 'model_name', 'patch_size', 'shape'])\n",
      "shape= (1, 3, 400, 267) k shape torch.Size([1, 400, 384]) patch_size= 16\n",
      "0031\n",
      "Skipping existing file /home/phdcs2/Hard_Disk/Datasets/Deep-Spectral-Segmentation/data/object-segmentation/ECSSD/eigs/laplacian/0031.pth\n",
      "torch.Size([400, 384])\n",
      "Without normalizing, Features Shape is torch.Size([400, 384])\n",
      "After normalization, Features Shape torch.Size([400, 384])\n",
      "which_matrix= laplacian\n",
      "Without normalizing, Features Shape is torch.Size([400, 384])\n",
      "W_feat shape= (400, 400)\n",
      "W_comb shape=  (400, 400) D_comb shape (400, 400)\n"
     ]
    },
    {
     "name": "stderr",
     "output_type": "stream",
     "text": [
      " 31%|███       | 31/100 [00:10<00:25,  2.75it/s]"
     ]
    },
    {
     "name": "stdout",
     "output_type": "stream",
     "text": [
      "eigenvalues shape torch.Size([20]) eigenvectors shape torch.Size([20, 400])\n",
      "31 /home/phdcs2/Hard_Disk/Datasets/Deep-Spectral-Segmentation/data/object-segmentation/ECSSD/features/dino_vits16/0032.pth\n",
      "dict_keys(['k', 'indices', 'file', 'id', 'model_name', 'patch_size', 'shape'])\n",
      "shape= (1, 3, 267, 400) k shape torch.Size([1, 400, 384]) patch_size= 16\n",
      "0032\n",
      "Skipping existing file /home/phdcs2/Hard_Disk/Datasets/Deep-Spectral-Segmentation/data/object-segmentation/ECSSD/eigs/laplacian/0032.pth\n",
      "torch.Size([400, 384])\n",
      "Without normalizing, Features Shape is torch.Size([400, 384])\n",
      "After normalization, Features Shape torch.Size([400, 384])\n",
      "which_matrix= laplacian\n",
      "Without normalizing, Features Shape is torch.Size([400, 384])\n",
      "W_feat shape= (400, 400)\n",
      "W_comb shape=  (400, 400) D_comb shape (400, 400)\n"
     ]
    },
    {
     "name": "stderr",
     "output_type": "stream",
     "text": [
      " 32%|███▏      | 32/100 [00:10<00:22,  3.06it/s]"
     ]
    },
    {
     "name": "stdout",
     "output_type": "stream",
     "text": [
      "eigenvalues shape torch.Size([20]) eigenvectors shape torch.Size([20, 400])\n",
      "32 /home/phdcs2/Hard_Disk/Datasets/Deep-Spectral-Segmentation/data/object-segmentation/ECSSD/features/dino_vits16/0033.pth\n",
      "dict_keys(['k', 'indices', 'file', 'id', 'model_name', 'patch_size', 'shape'])\n",
      "shape= (1, 3, 267, 400) k shape torch.Size([1, 400, 384]) patch_size= 16\n",
      "0033\n",
      "Skipping existing file /home/phdcs2/Hard_Disk/Datasets/Deep-Spectral-Segmentation/data/object-segmentation/ECSSD/eigs/laplacian/0033.pth\n",
      "torch.Size([400, 384])\n",
      "Without normalizing, Features Shape is torch.Size([400, 384])\n",
      "After normalization, Features Shape torch.Size([400, 384])\n",
      "which_matrix= laplacian\n",
      "Without normalizing, Features Shape is torch.Size([400, 384])\n",
      "W_feat shape= (400, 400)\n",
      "W_comb shape=  (400, 400) D_comb shape (400, 400)\n"
     ]
    },
    {
     "name": "stderr",
     "output_type": "stream",
     "text": [
      " 33%|███▎      | 33/100 [00:11<00:22,  3.01it/s]"
     ]
    },
    {
     "name": "stdout",
     "output_type": "stream",
     "text": [
      "eigenvalues shape torch.Size([20]) eigenvectors shape torch.Size([20, 400])\n",
      "33 /home/phdcs2/Hard_Disk/Datasets/Deep-Spectral-Segmentation/data/object-segmentation/ECSSD/features/dino_vits16/0034.pth\n",
      "dict_keys(['k', 'indices', 'file', 'id', 'model_name', 'patch_size', 'shape'])\n",
      "shape= (1, 3, 267, 400) k shape torch.Size([1, 400, 384]) patch_size= 16\n",
      "0034\n",
      "Skipping existing file /home/phdcs2/Hard_Disk/Datasets/Deep-Spectral-Segmentation/data/object-segmentation/ECSSD/eigs/laplacian/0034.pth\n",
      "torch.Size([400, 384])\n",
      "Without normalizing, Features Shape is torch.Size([400, 384])\n",
      "After normalization, Features Shape torch.Size([400, 384])\n",
      "which_matrix= laplacian\n",
      "Without normalizing, Features Shape is torch.Size([400, 384])\n",
      "W_feat shape= (400, 400)\n",
      "W_comb shape=  (400, 400) D_comb shape (400, 400)\n",
      "eigenvalues shape torch.Size([20]) eigenvectors shape torch.Size([20, 400])\n"
     ]
    },
    {
     "name": "stderr",
     "output_type": "stream",
     "text": [
      " 34%|███▍      | 34/100 [00:11<00:19,  3.42it/s]"
     ]
    },
    {
     "name": "stdout",
     "output_type": "stream",
     "text": [
      "34 /home/phdcs2/Hard_Disk/Datasets/Deep-Spectral-Segmentation/data/object-segmentation/ECSSD/features/dino_vits16/0035.pth\n",
      "dict_keys(['k', 'indices', 'file', 'id', 'model_name', 'patch_size', 'shape'])\n",
      "shape= (1, 3, 400, 267) k shape torch.Size([1, 400, 384]) patch_size= 16\n",
      "0035\n",
      "Skipping existing file /home/phdcs2/Hard_Disk/Datasets/Deep-Spectral-Segmentation/data/object-segmentation/ECSSD/eigs/laplacian/0035.pth\n",
      "torch.Size([400, 384])\n",
      "Without normalizing, Features Shape is torch.Size([400, 384])\n",
      "After normalization, Features Shape torch.Size([400, 384])\n",
      "which_matrix= laplacian\n",
      "Without normalizing, Features Shape is torch.Size([400, 384])\n",
      "W_feat shape= (400, 400)\n",
      "W_comb shape=  (400, 400) D_comb shape (400, 400)\n"
     ]
    },
    {
     "name": "stderr",
     "output_type": "stream",
     "text": [
      " 35%|███▌      | 35/100 [00:11<00:23,  2.82it/s]"
     ]
    },
    {
     "name": "stdout",
     "output_type": "stream",
     "text": [
      "eigenvalues shape torch.Size([20]) eigenvectors shape torch.Size([20, 400])\n",
      "35 /home/phdcs2/Hard_Disk/Datasets/Deep-Spectral-Segmentation/data/object-segmentation/ECSSD/features/dino_vits16/0036.pth\n",
      "dict_keys(['k', 'indices', 'file', 'id', 'model_name', 'patch_size', 'shape'])\n",
      "shape= (1, 3, 300, 400) k shape torch.Size([1, 450, 384]) patch_size= 16\n",
      "0036\n",
      "Skipping existing file /home/phdcs2/Hard_Disk/Datasets/Deep-Spectral-Segmentation/data/object-segmentation/ECSSD/eigs/laplacian/0036.pth\n",
      "torch.Size([450, 384])\n",
      "Without normalizing, Features Shape is torch.Size([450, 384])\n",
      "After normalization, Features Shape torch.Size([450, 384])\n",
      "which_matrix= laplacian\n",
      "Without normalizing, Features Shape is torch.Size([450, 384])\n",
      "W_feat shape= (450, 450)\n",
      "W_comb shape=  (450, 450) D_comb shape (450, 450)\n"
     ]
    },
    {
     "name": "stderr",
     "output_type": "stream",
     "text": [
      " 36%|███▌      | 36/100 [00:11<00:20,  3.15it/s]"
     ]
    },
    {
     "name": "stdout",
     "output_type": "stream",
     "text": [
      "eigenvalues shape torch.Size([20]) eigenvectors shape torch.Size([20, 450])\n",
      "36 /home/phdcs2/Hard_Disk/Datasets/Deep-Spectral-Segmentation/data/object-segmentation/ECSSD/features/dino_vits16/0037.pth\n",
      "dict_keys(['k', 'indices', 'file', 'id', 'model_name', 'patch_size', 'shape'])\n",
      "shape= (1, 3, 300, 400) k shape torch.Size([1, 450, 384]) patch_size= 16\n",
      "0037\n",
      "Skipping existing file /home/phdcs2/Hard_Disk/Datasets/Deep-Spectral-Segmentation/data/object-segmentation/ECSSD/eigs/laplacian/0037.pth\n",
      "torch.Size([450, 384])\n",
      "Without normalizing, Features Shape is torch.Size([450, 384])\n",
      "After normalization, Features Shape torch.Size([450, 384])\n",
      "which_matrix= laplacian\n",
      "Without normalizing, Features Shape is torch.Size([450, 384])\n",
      "W_feat shape= (450, 450)\n",
      "W_comb shape=  (450, 450) D_comb shape (450, 450)\n"
     ]
    },
    {
     "name": "stderr",
     "output_type": "stream",
     "text": [
      " 37%|███▋      | 37/100 [00:12<00:21,  2.87it/s]"
     ]
    },
    {
     "name": "stdout",
     "output_type": "stream",
     "text": [
      "eigenvalues shape torch.Size([20]) eigenvectors shape torch.Size([20, 450])\n",
      "37 /home/phdcs2/Hard_Disk/Datasets/Deep-Spectral-Segmentation/data/object-segmentation/ECSSD/features/dino_vits16/0038.pth\n",
      "dict_keys(['k', 'indices', 'file', 'id', 'model_name', 'patch_size', 'shape'])\n",
      "shape= (1, 3, 266, 400) k shape torch.Size([1, 400, 384]) patch_size= 16\n",
      "0038\n",
      "Skipping existing file /home/phdcs2/Hard_Disk/Datasets/Deep-Spectral-Segmentation/data/object-segmentation/ECSSD/eigs/laplacian/0038.pth\n",
      "torch.Size([400, 384])\n",
      "Without normalizing, Features Shape is torch.Size([400, 384])\n",
      "After normalization, Features Shape torch.Size([400, 384])\n",
      "which_matrix= laplacian\n",
      "Without normalizing, Features Shape is torch.Size([400, 384])\n",
      "W_feat shape= (400, 400)\n",
      "W_comb shape=  (400, 400) D_comb shape (400, 400)\n"
     ]
    },
    {
     "name": "stderr",
     "output_type": "stream",
     "text": [
      " 38%|███▊      | 38/100 [00:12<00:20,  3.06it/s]"
     ]
    },
    {
     "name": "stdout",
     "output_type": "stream",
     "text": [
      "eigenvalues shape torch.Size([20]) eigenvectors shape torch.Size([20, 400])\n",
      "38 /home/phdcs2/Hard_Disk/Datasets/Deep-Spectral-Segmentation/data/object-segmentation/ECSSD/features/dino_vits16/0039.pth\n",
      "dict_keys(['k', 'indices', 'file', 'id', 'model_name', 'patch_size', 'shape'])\n",
      "shape= (1, 3, 266, 400) k shape torch.Size([1, 400, 384]) patch_size= 16\n",
      "0039\n",
      "Skipping existing file /home/phdcs2/Hard_Disk/Datasets/Deep-Spectral-Segmentation/data/object-segmentation/ECSSD/eigs/laplacian/0039.pth\n",
      "torch.Size([400, 384])\n",
      "Without normalizing, Features Shape is torch.Size([400, 384])\n",
      "After normalization, Features Shape torch.Size([400, 384])\n",
      "which_matrix= laplacian\n",
      "Without normalizing, Features Shape is torch.Size([400, 384])\n",
      "W_feat shape= (400, 400)\n",
      "W_comb shape=  (400, 400) D_comb shape (400, 400)\n"
     ]
    },
    {
     "name": "stderr",
     "output_type": "stream",
     "text": [
      " 39%|███▉      | 39/100 [00:12<00:19,  3.14it/s]"
     ]
    },
    {
     "name": "stdout",
     "output_type": "stream",
     "text": [
      "eigenvalues shape torch.Size([20]) eigenvectors shape torch.Size([20, 400])\n",
      "39 /home/phdcs2/Hard_Disk/Datasets/Deep-Spectral-Segmentation/data/object-segmentation/ECSSD/features/dino_vits16/0040.pth\n",
      "dict_keys(['k', 'indices', 'file', 'id', 'model_name', 'patch_size', 'shape'])\n",
      "shape= (1, 3, 400, 266) k shape torch.Size([1, 400, 384]) patch_size= 16\n",
      "0040\n",
      "Skipping existing file /home/phdcs2/Hard_Disk/Datasets/Deep-Spectral-Segmentation/data/object-segmentation/ECSSD/eigs/laplacian/0040.pth\n",
      "torch.Size([400, 384])\n",
      "Without normalizing, Features Shape is torch.Size([400, 384])\n",
      "After normalization, Features Shape torch.Size([400, 384])\n",
      "which_matrix= laplacian\n",
      "Without normalizing, Features Shape is torch.Size([400, 384])\n",
      "W_feat shape= (400, 400)\n",
      "W_comb shape=  (400, 400) D_comb shape (400, 400)\n"
     ]
    },
    {
     "name": "stderr",
     "output_type": "stream",
     "text": [
      " 40%|████      | 40/100 [00:13<00:21,  2.85it/s]"
     ]
    },
    {
     "name": "stdout",
     "output_type": "stream",
     "text": [
      "eigenvalues shape torch.Size([20]) eigenvectors shape torch.Size([20, 400])\n",
      "40 /home/phdcs2/Hard_Disk/Datasets/Deep-Spectral-Segmentation/data/object-segmentation/ECSSD/features/dino_vits16/0041.pth\n",
      "dict_keys(['k', 'indices', 'file', 'id', 'model_name', 'patch_size', 'shape'])\n",
      "shape= (1, 3, 300, 400) k shape torch.Size([1, 450, 384]) patch_size= 16\n",
      "0041\n",
      "Skipping existing file /home/phdcs2/Hard_Disk/Datasets/Deep-Spectral-Segmentation/data/object-segmentation/ECSSD/eigs/laplacian/0041.pth\n",
      "torch.Size([450, 384])\n",
      "Without normalizing, Features Shape is torch.Size([450, 384])\n",
      "After normalization, Features Shape torch.Size([450, 384])\n",
      "which_matrix= laplacian\n",
      "Without normalizing, Features Shape is torch.Size([450, 384])\n",
      "W_feat shape= (450, 450)\n",
      "W_comb shape=  (450, 450) D_comb shape (450, 450)\n"
     ]
    },
    {
     "name": "stderr",
     "output_type": "stream",
     "text": [
      " 41%|████      | 41/100 [00:13<00:24,  2.39it/s]"
     ]
    },
    {
     "name": "stdout",
     "output_type": "stream",
     "text": [
      "eigenvalues shape torch.Size([20]) eigenvectors shape torch.Size([20, 450])\n",
      "41 /home/phdcs2/Hard_Disk/Datasets/Deep-Spectral-Segmentation/data/object-segmentation/ECSSD/features/dino_vits16/0042.pth\n",
      "dict_keys(['k', 'indices', 'file', 'id', 'model_name', 'patch_size', 'shape'])\n",
      "shape= (1, 3, 266, 400) k shape torch.Size([1, 400, 384]) patch_size= 16\n",
      "0042\n",
      "Skipping existing file /home/phdcs2/Hard_Disk/Datasets/Deep-Spectral-Segmentation/data/object-segmentation/ECSSD/eigs/laplacian/0042.pth\n",
      "torch.Size([400, 384])\n",
      "Without normalizing, Features Shape is torch.Size([400, 384])\n",
      "After normalization, Features Shape torch.Size([400, 384])\n",
      "which_matrix= laplacian\n",
      "Without normalizing, Features Shape is torch.Size([400, 384])\n",
      "W_feat shape= (400, 400)\n",
      "W_comb shape=  (400, 400) D_comb shape (400, 400)\n"
     ]
    },
    {
     "name": "stderr",
     "output_type": "stream",
     "text": [
      " 42%|████▏     | 42/100 [00:14<00:21,  2.66it/s]"
     ]
    },
    {
     "name": "stdout",
     "output_type": "stream",
     "text": [
      "eigenvalues shape torch.Size([20]) eigenvectors shape torch.Size([20, 400])\n",
      "42 /home/phdcs2/Hard_Disk/Datasets/Deep-Spectral-Segmentation/data/object-segmentation/ECSSD/features/dino_vits16/0043.pth\n",
      "dict_keys(['k', 'indices', 'file', 'id', 'model_name', 'patch_size', 'shape'])\n",
      "shape= (1, 3, 300, 400) k shape torch.Size([1, 450, 384]) patch_size= 16\n",
      "0043\n",
      "Skipping existing file /home/phdcs2/Hard_Disk/Datasets/Deep-Spectral-Segmentation/data/object-segmentation/ECSSD/eigs/laplacian/0043.pth\n",
      "torch.Size([450, 384])\n",
      "Without normalizing, Features Shape is torch.Size([450, 384])\n",
      "After normalization, Features Shape torch.Size([450, 384])\n",
      "which_matrix= laplacian\n",
      "Without normalizing, Features Shape is torch.Size([450, 384])\n",
      "W_feat shape= (450, 450)\n",
      "W_comb shape=  (450, 450) D_comb shape (450, 450)\n"
     ]
    },
    {
     "name": "stderr",
     "output_type": "stream",
     "text": [
      " 43%|████▎     | 43/100 [00:14<00:20,  2.76it/s]"
     ]
    },
    {
     "name": "stdout",
     "output_type": "stream",
     "text": [
      "eigenvalues shape torch.Size([20]) eigenvectors shape torch.Size([20, 450])\n",
      "43 /home/phdcs2/Hard_Disk/Datasets/Deep-Spectral-Segmentation/data/object-segmentation/ECSSD/features/dino_vits16/0044.pth\n",
      "dict_keys(['k', 'indices', 'file', 'id', 'model_name', 'patch_size', 'shape'])\n",
      "shape= (1, 3, 400, 351) k shape torch.Size([1, 525, 384]) patch_size= 16\n",
      "0044\n",
      "Skipping existing file /home/phdcs2/Hard_Disk/Datasets/Deep-Spectral-Segmentation/data/object-segmentation/ECSSD/eigs/laplacian/0044.pth\n",
      "torch.Size([525, 384])\n",
      "Without normalizing, Features Shape is torch.Size([525, 384])\n",
      "After normalization, Features Shape torch.Size([525, 384])\n",
      "which_matrix= laplacian\n",
      "Without normalizing, Features Shape is torch.Size([525, 384])\n",
      "W_feat shape= (525, 525)\n",
      "W_comb shape=  (525, 525) D_comb shape (525, 525)\n"
     ]
    },
    {
     "name": "stderr",
     "output_type": "stream",
     "text": [
      " 44%|████▍     | 44/100 [00:15<00:21,  2.57it/s]"
     ]
    },
    {
     "name": "stdout",
     "output_type": "stream",
     "text": [
      "eigenvalues shape torch.Size([20]) eigenvectors shape torch.Size([20, 525])\n",
      "44 /home/phdcs2/Hard_Disk/Datasets/Deep-Spectral-Segmentation/data/object-segmentation/ECSSD/features/dino_vits16/0045.pth\n",
      "dict_keys(['k', 'indices', 'file', 'id', 'model_name', 'patch_size', 'shape'])\n",
      "shape= (1, 3, 400, 300) k shape torch.Size([1, 450, 384]) patch_size= 16\n",
      "0045\n",
      "Skipping existing file /home/phdcs2/Hard_Disk/Datasets/Deep-Spectral-Segmentation/data/object-segmentation/ECSSD/eigs/laplacian/0045.pth\n",
      "torch.Size([450, 384])\n",
      "Without normalizing, Features Shape is torch.Size([450, 384])\n",
      "After normalization, Features Shape torch.Size([450, 384])\n",
      "which_matrix= laplacian\n",
      "Without normalizing, Features Shape is torch.Size([450, 384])\n",
      "W_feat shape= (450, 450)\n",
      "W_comb shape=  (450, 450) D_comb shape (450, 450)\n"
     ]
    },
    {
     "name": "stderr",
     "output_type": "stream",
     "text": [
      " 45%|████▌     | 45/100 [00:16<00:39,  1.39it/s]"
     ]
    },
    {
     "name": "stdout",
     "output_type": "stream",
     "text": [
      "eigenvalues shape torch.Size([20]) eigenvectors shape torch.Size([20, 450])\n",
      "45 /home/phdcs2/Hard_Disk/Datasets/Deep-Spectral-Segmentation/data/object-segmentation/ECSSD/features/dino_vits16/0046.pth\n",
      "dict_keys(['k', 'indices', 'file', 'id', 'model_name', 'patch_size', 'shape'])\n",
      "shape= (1, 3, 300, 400) k shape torch.Size([1, 450, 384]) patch_size= 16\n",
      "0046\n",
      "Skipping existing file /home/phdcs2/Hard_Disk/Datasets/Deep-Spectral-Segmentation/data/object-segmentation/ECSSD/eigs/laplacian/0046.pth\n",
      "torch.Size([450, 384])\n",
      "Without normalizing, Features Shape is torch.Size([450, 384])\n",
      "After normalization, Features Shape torch.Size([450, 384])\n",
      "which_matrix= laplacian\n",
      "Without normalizing, Features Shape is torch.Size([450, 384])\n",
      "W_feat shape= (450, 450)\n",
      "W_comb shape=  (450, 450) D_comb shape (450, 450)\n"
     ]
    },
    {
     "name": "stderr",
     "output_type": "stream",
     "text": [
      " 46%|████▌     | 46/100 [00:16<00:34,  1.55it/s]"
     ]
    },
    {
     "name": "stdout",
     "output_type": "stream",
     "text": [
      "eigenvalues shape torch.Size([20]) eigenvectors shape torch.Size([20, 450])\n",
      "46 /home/phdcs2/Hard_Disk/Datasets/Deep-Spectral-Segmentation/data/object-segmentation/ECSSD/features/dino_vits16/0047.pth\n",
      "dict_keys(['k', 'indices', 'file', 'id', 'model_name', 'patch_size', 'shape'])\n",
      "shape= (1, 3, 266, 400) k shape torch.Size([1, 400, 384]) patch_size= 16\n",
      "0047\n",
      "Skipping existing file /home/phdcs2/Hard_Disk/Datasets/Deep-Spectral-Segmentation/data/object-segmentation/ECSSD/eigs/laplacian/0047.pth\n",
      "torch.Size([400, 384])\n",
      "Without normalizing, Features Shape is torch.Size([400, 384])\n",
      "After normalization, Features Shape torch.Size([400, 384])\n",
      "which_matrix= laplacian\n",
      "Without normalizing, Features Shape is torch.Size([400, 384])\n",
      "W_feat shape= (400, 400)\n",
      "W_comb shape=  (400, 400) D_comb shape (400, 400)\n"
     ]
    },
    {
     "name": "stderr",
     "output_type": "stream",
     "text": [
      " 47%|████▋     | 47/100 [00:17<00:29,  1.82it/s]"
     ]
    },
    {
     "name": "stdout",
     "output_type": "stream",
     "text": [
      "eigenvalues shape torch.Size([20]) eigenvectors shape torch.Size([20, 400])\n",
      "47 /home/phdcs2/Hard_Disk/Datasets/Deep-Spectral-Segmentation/data/object-segmentation/ECSSD/features/dino_vits16/0048.pth\n",
      "dict_keys(['k', 'indices', 'file', 'id', 'model_name', 'patch_size', 'shape'])\n",
      "shape= (1, 3, 300, 400) k shape torch.Size([1, 450, 384]) patch_size= 16\n",
      "0048\n",
      "Skipping existing file /home/phdcs2/Hard_Disk/Datasets/Deep-Spectral-Segmentation/data/object-segmentation/ECSSD/eigs/laplacian/0048.pth\n",
      "torch.Size([450, 384])\n",
      "Without normalizing, Features Shape is torch.Size([450, 384])\n",
      "After normalization, Features Shape torch.Size([450, 384])\n",
      "which_matrix= laplacian\n",
      "Without normalizing, Features Shape is torch.Size([450, 384])\n",
      "W_feat shape= (450, 450)\n",
      "W_comb shape=  (450, 450) D_comb shape (450, 450)\n"
     ]
    },
    {
     "name": "stderr",
     "output_type": "stream",
     "text": [
      " 48%|████▊     | 48/100 [00:17<00:28,  1.80it/s]"
     ]
    },
    {
     "name": "stdout",
     "output_type": "stream",
     "text": [
      "eigenvalues shape torch.Size([20]) eigenvectors shape torch.Size([20, 450])\n",
      "48 /home/phdcs2/Hard_Disk/Datasets/Deep-Spectral-Segmentation/data/object-segmentation/ECSSD/features/dino_vits16/0049.pth\n",
      "dict_keys(['k', 'indices', 'file', 'id', 'model_name', 'patch_size', 'shape'])\n",
      "shape= (1, 3, 400, 300) k shape torch.Size([1, 450, 384]) patch_size= 16\n",
      "0049\n",
      "Skipping existing file /home/phdcs2/Hard_Disk/Datasets/Deep-Spectral-Segmentation/data/object-segmentation/ECSSD/eigs/laplacian/0049.pth\n",
      "torch.Size([450, 384])\n",
      "Without normalizing, Features Shape is torch.Size([450, 384])\n",
      "After normalization, Features Shape torch.Size([450, 384])\n",
      "which_matrix= laplacian\n",
      "Without normalizing, Features Shape is torch.Size([450, 384])\n",
      "W_feat shape= (450, 450)\n",
      "W_comb shape=  (450, 450) D_comb shape (450, 450)\n"
     ]
    },
    {
     "name": "stderr",
     "output_type": "stream",
     "text": [
      " 49%|████▉     | 49/100 [00:18<00:25,  2.02it/s]"
     ]
    },
    {
     "name": "stdout",
     "output_type": "stream",
     "text": [
      "eigenvalues shape torch.Size([20]) eigenvectors shape torch.Size([20, 450])\n",
      "49 /home/phdcs2/Hard_Disk/Datasets/Deep-Spectral-Segmentation/data/object-segmentation/ECSSD/features/dino_vits16/0050.pth\n",
      "dict_keys(['k', 'indices', 'file', 'id', 'model_name', 'patch_size', 'shape'])\n",
      "shape= (1, 3, 266, 400) k shape torch.Size([1, 400, 384]) patch_size= 16\n",
      "0050\n",
      "Skipping existing file /home/phdcs2/Hard_Disk/Datasets/Deep-Spectral-Segmentation/data/object-segmentation/ECSSD/eigs/laplacian/0050.pth\n",
      "torch.Size([400, 384])\n",
      "Without normalizing, Features Shape is torch.Size([400, 384])\n",
      "After normalization, Features Shape torch.Size([400, 384])\n",
      "which_matrix= laplacian\n",
      "Without normalizing, Features Shape is torch.Size([400, 384])\n",
      "W_feat shape= (400, 400)\n",
      "W_comb shape=  (400, 400) D_comb shape (400, 400)\n"
     ]
    },
    {
     "name": "stderr",
     "output_type": "stream",
     "text": [
      " 50%|█████     | 50/100 [00:18<00:21,  2.28it/s]"
     ]
    },
    {
     "name": "stdout",
     "output_type": "stream",
     "text": [
      "eigenvalues shape torch.Size([20]) eigenvectors shape torch.Size([20, 400])\n",
      "50 /home/phdcs2/Hard_Disk/Datasets/Deep-Spectral-Segmentation/data/object-segmentation/ECSSD/features/dino_vits16/0051.pth\n",
      "dict_keys(['k', 'indices', 'file', 'id', 'model_name', 'patch_size', 'shape'])\n",
      "shape= (1, 3, 300, 400) k shape torch.Size([1, 450, 384]) patch_size= 16\n",
      "0051\n",
      "Skipping existing file /home/phdcs2/Hard_Disk/Datasets/Deep-Spectral-Segmentation/data/object-segmentation/ECSSD/eigs/laplacian/0051.pth\n",
      "torch.Size([450, 384])\n",
      "Without normalizing, Features Shape is torch.Size([450, 384])\n",
      "After normalization, Features Shape torch.Size([450, 384])\n",
      "which_matrix= laplacian\n",
      "Without normalizing, Features Shape is torch.Size([450, 384])\n",
      "W_feat shape= (450, 450)\n",
      "W_comb shape=  (450, 450) D_comb shape (450, 450)\n"
     ]
    },
    {
     "name": "stderr",
     "output_type": "stream",
     "text": [
      " 51%|█████     | 51/100 [00:18<00:18,  2.60it/s]"
     ]
    },
    {
     "name": "stdout",
     "output_type": "stream",
     "text": [
      "eigenvalues shape torch.Size([20]) eigenvectors shape torch.Size([20, 450])\n",
      "51 /home/phdcs2/Hard_Disk/Datasets/Deep-Spectral-Segmentation/data/object-segmentation/ECSSD/features/dino_vits16/0052.pth\n",
      "dict_keys(['k', 'indices', 'file', 'id', 'model_name', 'patch_size', 'shape'])\n",
      "shape= (1, 3, 400, 300) k shape torch.Size([1, 450, 384]) patch_size= 16\n",
      "0052\n",
      "Skipping existing file /home/phdcs2/Hard_Disk/Datasets/Deep-Spectral-Segmentation/data/object-segmentation/ECSSD/eigs/laplacian/0052.pth\n",
      "torch.Size([450, 384])\n",
      "Without normalizing, Features Shape is torch.Size([450, 384])\n",
      "After normalization, Features Shape torch.Size([450, 384])\n",
      "which_matrix= laplacian\n",
      "Without normalizing, Features Shape is torch.Size([450, 384])\n",
      "W_feat shape= (450, 450)\n",
      "W_comb shape=  (450, 450) D_comb shape (450, 450)\n"
     ]
    },
    {
     "name": "stderr",
     "output_type": "stream",
     "text": [
      " 52%|█████▏    | 52/100 [00:19<00:15,  3.00it/s]"
     ]
    },
    {
     "name": "stdout",
     "output_type": "stream",
     "text": [
      "eigenvalues shape torch.Size([20]) eigenvectors shape torch.Size([20, 450])\n",
      "52 /home/phdcs2/Hard_Disk/Datasets/Deep-Spectral-Segmentation/data/object-segmentation/ECSSD/features/dino_vits16/0053.pth\n",
      "dict_keys(['k', 'indices', 'file', 'id', 'model_name', 'patch_size', 'shape'])\n",
      "shape= (1, 3, 245, 400) k shape torch.Size([1, 375, 384]) patch_size= 16\n",
      "0053\n",
      "Skipping existing file /home/phdcs2/Hard_Disk/Datasets/Deep-Spectral-Segmentation/data/object-segmentation/ECSSD/eigs/laplacian/0053.pth\n",
      "torch.Size([375, 384])\n",
      "Without normalizing, Features Shape is torch.Size([375, 384])\n",
      "After normalization, Features Shape torch.Size([375, 384])\n",
      "which_matrix= laplacian\n",
      "Without normalizing, Features Shape is torch.Size([375, 384])\n",
      "W_feat shape= (375, 375)\n",
      "W_comb shape=  (375, 375) D_comb shape (375, 375)\n"
     ]
    },
    {
     "name": "stderr",
     "output_type": "stream",
     "text": [
      " 53%|█████▎    | 53/100 [00:19<00:17,  2.66it/s]"
     ]
    },
    {
     "name": "stdout",
     "output_type": "stream",
     "text": [
      "eigenvalues shape torch.Size([20]) eigenvectors shape torch.Size([20, 375])\n",
      "53 /home/phdcs2/Hard_Disk/Datasets/Deep-Spectral-Segmentation/data/object-segmentation/ECSSD/features/dino_vits16/0054.pth\n",
      "dict_keys(['k', 'indices', 'file', 'id', 'model_name', 'patch_size', 'shape'])\n",
      "shape= (1, 3, 300, 400) k shape torch.Size([1, 450, 384]) patch_size= 16\n",
      "0054\n",
      "Skipping existing file /home/phdcs2/Hard_Disk/Datasets/Deep-Spectral-Segmentation/data/object-segmentation/ECSSD/eigs/laplacian/0054.pth\n",
      "torch.Size([450, 384])\n",
      "Without normalizing, Features Shape is torch.Size([450, 384])\n",
      "After normalization, Features Shape torch.Size([450, 384])\n",
      "which_matrix= laplacian\n",
      "Without normalizing, Features Shape is torch.Size([450, 384])\n",
      "W_feat shape= (450, 450)\n",
      "W_comb shape=  (450, 450) D_comb shape (450, 450)\n"
     ]
    },
    {
     "name": "stderr",
     "output_type": "stream",
     "text": [
      " 54%|█████▍    | 54/100 [00:19<00:15,  2.93it/s]"
     ]
    },
    {
     "name": "stdout",
     "output_type": "stream",
     "text": [
      "eigenvalues shape torch.Size([20]) eigenvectors shape torch.Size([20, 450])\n",
      "54 /home/phdcs2/Hard_Disk/Datasets/Deep-Spectral-Segmentation/data/object-segmentation/ECSSD/features/dino_vits16/0055.pth\n",
      "dict_keys(['k', 'indices', 'file', 'id', 'model_name', 'patch_size', 'shape'])\n",
      "shape= (1, 3, 300, 400) k shape torch.Size([1, 450, 384]) patch_size= 16\n",
      "0055\n",
      "Skipping existing file /home/phdcs2/Hard_Disk/Datasets/Deep-Spectral-Segmentation/data/object-segmentation/ECSSD/eigs/laplacian/0055.pth\n",
      "torch.Size([450, 384])\n",
      "Without normalizing, Features Shape is torch.Size([450, 384])\n",
      "After normalization, Features Shape torch.Size([450, 384])\n",
      "which_matrix= laplacian\n",
      "Without normalizing, Features Shape is torch.Size([450, 384])\n",
      "W_feat shape= (450, 450)\n",
      "W_comb shape=  (450, 450) D_comb shape (450, 450)\n"
     ]
    },
    {
     "name": "stderr",
     "output_type": "stream",
     "text": [
      " 55%|█████▌    | 55/100 [00:20<00:17,  2.55it/s]"
     ]
    },
    {
     "name": "stdout",
     "output_type": "stream",
     "text": [
      "eigenvalues shape torch.Size([20]) eigenvectors shape torch.Size([20, 450])\n",
      "55 /home/phdcs2/Hard_Disk/Datasets/Deep-Spectral-Segmentation/data/object-segmentation/ECSSD/features/dino_vits16/0056.pth\n",
      "dict_keys(['k', 'indices', 'file', 'id', 'model_name', 'patch_size', 'shape'])\n",
      "shape= (1, 3, 266, 400) k shape torch.Size([1, 400, 384]) patch_size= 16\n",
      "0056\n",
      "Skipping existing file /home/phdcs2/Hard_Disk/Datasets/Deep-Spectral-Segmentation/data/object-segmentation/ECSSD/eigs/laplacian/0056.pth\n",
      "torch.Size([400, 384])\n",
      "Without normalizing, Features Shape is torch.Size([400, 384])\n",
      "After normalization, Features Shape torch.Size([400, 384])\n",
      "which_matrix= laplacian\n",
      "Without normalizing, Features Shape is torch.Size([400, 384])\n",
      "W_feat shape= (400, 400)\n",
      "W_comb shape=  (400, 400) D_comb shape (400, 400)\n"
     ]
    },
    {
     "name": "stderr",
     "output_type": "stream",
     "text": [
      " 56%|█████▌    | 56/100 [00:20<00:16,  2.69it/s]"
     ]
    },
    {
     "name": "stdout",
     "output_type": "stream",
     "text": [
      "eigenvalues shape torch.Size([20]) eigenvectors shape torch.Size([20, 400])\n",
      "56 /home/phdcs2/Hard_Disk/Datasets/Deep-Spectral-Segmentation/data/object-segmentation/ECSSD/features/dino_vits16/0057.pth\n",
      "dict_keys(['k', 'indices', 'file', 'id', 'model_name', 'patch_size', 'shape'])\n",
      "shape= (1, 3, 266, 400) k shape torch.Size([1, 400, 384]) patch_size= 16\n",
      "0057\n",
      "Skipping existing file /home/phdcs2/Hard_Disk/Datasets/Deep-Spectral-Segmentation/data/object-segmentation/ECSSD/eigs/laplacian/0057.pth\n",
      "torch.Size([400, 384])\n",
      "Without normalizing, Features Shape is torch.Size([400, 384])\n",
      "After normalization, Features Shape torch.Size([400, 384])\n",
      "which_matrix= laplacian\n",
      "Without normalizing, Features Shape is torch.Size([400, 384])\n",
      "W_feat shape= (400, 400)\n",
      "W_comb shape=  (400, 400) D_comb shape (400, 400)\n"
     ]
    },
    {
     "name": "stderr",
     "output_type": "stream",
     "text": [
      " 57%|█████▋    | 57/100 [00:20<00:14,  3.00it/s]"
     ]
    },
    {
     "name": "stdout",
     "output_type": "stream",
     "text": [
      "eigenvalues shape torch.Size([20]) eigenvectors shape torch.Size([20, 400])\n",
      "57 /home/phdcs2/Hard_Disk/Datasets/Deep-Spectral-Segmentation/data/object-segmentation/ECSSD/features/dino_vits16/0058.pth\n",
      "dict_keys(['k', 'indices', 'file', 'id', 'model_name', 'patch_size', 'shape'])\n",
      "shape= (1, 3, 281, 400) k shape torch.Size([1, 425, 384]) patch_size= 16\n",
      "0058\n",
      "Skipping existing file /home/phdcs2/Hard_Disk/Datasets/Deep-Spectral-Segmentation/data/object-segmentation/ECSSD/eigs/laplacian/0058.pth\n",
      "torch.Size([425, 384])\n",
      "Without normalizing, Features Shape is torch.Size([425, 384])\n",
      "After normalization, Features Shape torch.Size([425, 384])\n",
      "which_matrix= laplacian\n",
      "Without normalizing, Features Shape is torch.Size([425, 384])\n",
      "W_feat shape= (425, 425)\n",
      "W_comb shape=  (425, 425) D_comb shape (425, 425)\n"
     ]
    },
    {
     "name": "stderr",
     "output_type": "stream",
     "text": [
      " 58%|█████▊    | 58/100 [00:21<00:13,  3.03it/s]"
     ]
    },
    {
     "name": "stdout",
     "output_type": "stream",
     "text": [
      "eigenvalues shape torch.Size([20]) eigenvectors shape torch.Size([20, 425])\n",
      "58 /home/phdcs2/Hard_Disk/Datasets/Deep-Spectral-Segmentation/data/object-segmentation/ECSSD/features/dino_vits16/0059.pth\n",
      "dict_keys(['k', 'indices', 'file', 'id', 'model_name', 'patch_size', 'shape'])\n",
      "shape= (1, 3, 400, 300) k shape torch.Size([1, 450, 384]) patch_size= 16\n",
      "0059\n",
      "Skipping existing file /home/phdcs2/Hard_Disk/Datasets/Deep-Spectral-Segmentation/data/object-segmentation/ECSSD/eigs/laplacian/0059.pth\n",
      "torch.Size([450, 384])\n",
      "Without normalizing, Features Shape is torch.Size([450, 384])\n",
      "After normalization, Features Shape torch.Size([450, 384])\n",
      "which_matrix= laplacian\n",
      "Without normalizing, Features Shape is torch.Size([450, 384])\n",
      "W_feat shape= (450, 450)\n",
      "W_comb shape=  (450, 450) D_comb shape (450, 450)\n"
     ]
    },
    {
     "name": "stderr",
     "output_type": "stream",
     "text": [
      " 60%|██████    | 60/100 [00:21<00:11,  3.54it/s]"
     ]
    },
    {
     "name": "stdout",
     "output_type": "stream",
     "text": [
      "eigenvalues shape torch.Size([20]) eigenvectors shape torch.Size([20, 450])\n",
      "59 /home/phdcs2/Hard_Disk/Datasets/Deep-Spectral-Segmentation/data/object-segmentation/ECSSD/features/dino_vits16/0060.pth\n",
      "dict_keys(['k', 'indices', 'file', 'id', 'model_name', 'patch_size', 'shape'])\n",
      "shape= (1, 3, 266, 400) k shape torch.Size([1, 400, 384]) patch_size= 16\n",
      "0060\n",
      "Skipping existing file /home/phdcs2/Hard_Disk/Datasets/Deep-Spectral-Segmentation/data/object-segmentation/ECSSD/eigs/laplacian/0060.pth\n",
      "torch.Size([400, 384])\n",
      "Without normalizing, Features Shape is torch.Size([400, 384])\n",
      "After normalization, Features Shape torch.Size([400, 384])\n",
      "which_matrix= laplacian\n",
      "Without normalizing, Features Shape is torch.Size([400, 384])\n",
      "W_feat shape= (400, 400)\n",
      "W_comb shape=  (400, 400) D_comb shape (400, 400)\n",
      "eigenvalues shape torch.Size([20]) eigenvectors shape torch.Size([20, 400])\n",
      "60 /home/phdcs2/Hard_Disk/Datasets/Deep-Spectral-Segmentation/data/object-segmentation/ECSSD/features/dino_vits16/0061.pth\n",
      "dict_keys(['k', 'indices', 'file', 'id', 'model_name', 'patch_size', 'shape'])\n",
      "shape= (1, 3, 282, 400) k shape torch.Size([1, 425, 384]) patch_size= 16\n",
      "0061\n",
      "Skipping existing file /home/phdcs2/Hard_Disk/Datasets/Deep-Spectral-Segmentation/data/object-segmentation/ECSSD/eigs/laplacian/0061.pth\n",
      "torch.Size([425, 384])\n",
      "Without normalizing, Features Shape is torch.Size([425, 384])\n",
      "After normalization, Features Shape torch.Size([425, 384])\n",
      "which_matrix= laplacian\n",
      "Without normalizing, Features Shape is torch.Size([425, 384])\n",
      "W_feat shape= (425, 425)\n",
      "W_comb shape=  (425, 425) D_comb shape (425, 425)\n"
     ]
    },
    {
     "name": "stderr",
     "output_type": "stream",
     "text": [
      " 61%|██████    | 61/100 [00:22<00:13,  2.89it/s]"
     ]
    },
    {
     "name": "stdout",
     "output_type": "stream",
     "text": [
      "eigenvalues shape torch.Size([20]) eigenvectors shape torch.Size([20, 425])\n",
      "61 /home/phdcs2/Hard_Disk/Datasets/Deep-Spectral-Segmentation/data/object-segmentation/ECSSD/features/dino_vits16/0062.pth\n",
      "dict_keys(['k', 'indices', 'file', 'id', 'model_name', 'patch_size', 'shape'])\n",
      "shape= (1, 3, 279, 400) k shape torch.Size([1, 425, 384]) patch_size= 16\n",
      "0062\n",
      "Skipping existing file /home/phdcs2/Hard_Disk/Datasets/Deep-Spectral-Segmentation/data/object-segmentation/ECSSD/eigs/laplacian/0062.pth\n",
      "torch.Size([425, 384])\n",
      "Without normalizing, Features Shape is torch.Size([425, 384])\n",
      "After normalization, Features Shape torch.Size([425, 384])\n",
      "which_matrix= laplacian\n",
      "Without normalizing, Features Shape is torch.Size([425, 384])\n",
      "W_feat shape= (425, 425)\n",
      "W_comb shape=  (425, 425) D_comb shape (425, 425)\n"
     ]
    },
    {
     "name": "stderr",
     "output_type": "stream",
     "text": [
      " 62%|██████▏   | 62/100 [00:22<00:13,  2.90it/s]"
     ]
    },
    {
     "name": "stdout",
     "output_type": "stream",
     "text": [
      "eigenvalues shape torch.Size([20]) eigenvectors shape torch.Size([20, 425])\n",
      "62 /home/phdcs2/Hard_Disk/Datasets/Deep-Spectral-Segmentation/data/object-segmentation/ECSSD/features/dino_vits16/0063.pth\n",
      "dict_keys(['k', 'indices', 'file', 'id', 'model_name', 'patch_size', 'shape'])\n",
      "shape= (1, 3, 266, 400) k shape torch.Size([1, 400, 384]) patch_size= 16\n",
      "0063\n",
      "Skipping existing file /home/phdcs2/Hard_Disk/Datasets/Deep-Spectral-Segmentation/data/object-segmentation/ECSSD/eigs/laplacian/0063.pth\n",
      "torch.Size([400, 384])\n",
      "Without normalizing, Features Shape is torch.Size([400, 384])\n",
      "After normalization, Features Shape torch.Size([400, 384])\n",
      "which_matrix= laplacian\n",
      "Without normalizing, Features Shape is torch.Size([400, 384])\n",
      "W_feat shape= (400, 400)\n",
      "W_comb shape=  (400, 400) D_comb shape (400, 400)\n"
     ]
    },
    {
     "name": "stderr",
     "output_type": "stream",
     "text": [
      " 63%|██████▎   | 63/100 [00:22<00:12,  3.02it/s]"
     ]
    },
    {
     "name": "stdout",
     "output_type": "stream",
     "text": [
      "eigenvalues shape torch.Size([20]) eigenvectors shape torch.Size([20, 400])\n",
      "63 /home/phdcs2/Hard_Disk/Datasets/Deep-Spectral-Segmentation/data/object-segmentation/ECSSD/features/dino_vits16/0064.pth\n",
      "dict_keys(['k', 'indices', 'file', 'id', 'model_name', 'patch_size', 'shape'])\n",
      "shape= (1, 3, 266, 400) k shape torch.Size([1, 400, 384]) patch_size= 16\n",
      "0064\n",
      "Skipping existing file /home/phdcs2/Hard_Disk/Datasets/Deep-Spectral-Segmentation/data/object-segmentation/ECSSD/eigs/laplacian/0064.pth\n",
      "torch.Size([400, 384])\n",
      "Without normalizing, Features Shape is torch.Size([400, 384])\n",
      "After normalization, Features Shape torch.Size([400, 384])\n",
      "which_matrix= laplacian\n",
      "Without normalizing, Features Shape is torch.Size([400, 384])\n",
      "W_feat shape= (400, 400)\n",
      "W_comb shape=  (400, 400) D_comb shape (400, 400)\n"
     ]
    },
    {
     "name": "stderr",
     "output_type": "stream",
     "text": [
      " 64%|██████▍   | 64/100 [00:23<00:11,  3.16it/s]"
     ]
    },
    {
     "name": "stdout",
     "output_type": "stream",
     "text": [
      "eigenvalues shape torch.Size([20]) eigenvectors shape torch.Size([20, 400])\n",
      "64 /home/phdcs2/Hard_Disk/Datasets/Deep-Spectral-Segmentation/data/object-segmentation/ECSSD/features/dino_vits16/0065.pth\n",
      "dict_keys(['k', 'indices', 'file', 'id', 'model_name', 'patch_size', 'shape'])\n",
      "shape= (1, 3, 400, 299) k shape torch.Size([1, 450, 384]) patch_size= 16\n",
      "0065\n",
      "Skipping existing file /home/phdcs2/Hard_Disk/Datasets/Deep-Spectral-Segmentation/data/object-segmentation/ECSSD/eigs/laplacian/0065.pth\n",
      "torch.Size([450, 384])\n",
      "Without normalizing, Features Shape is torch.Size([450, 384])\n",
      "After normalization, Features Shape torch.Size([450, 384])\n",
      "which_matrix= laplacian\n",
      "Without normalizing, Features Shape is torch.Size([450, 384])\n",
      "W_feat shape= (450, 450)\n",
      "W_comb shape=  (450, 450) D_comb shape (450, 450)\n"
     ]
    },
    {
     "name": "stderr",
     "output_type": "stream",
     "text": [
      " 66%|██████▌   | 66/100 [00:23<00:09,  3.54it/s]"
     ]
    },
    {
     "name": "stdout",
     "output_type": "stream",
     "text": [
      "eigenvalues shape torch.Size([20]) eigenvectors shape torch.Size([20, 450])\n",
      "65 /home/phdcs2/Hard_Disk/Datasets/Deep-Spectral-Segmentation/data/object-segmentation/ECSSD/features/dino_vits16/0066.pth\n",
      "dict_keys(['k', 'indices', 'file', 'id', 'model_name', 'patch_size', 'shape'])\n",
      "shape= (1, 3, 266, 400) k shape torch.Size([1, 400, 384]) patch_size= 16\n",
      "0066\n",
      "Skipping existing file /home/phdcs2/Hard_Disk/Datasets/Deep-Spectral-Segmentation/data/object-segmentation/ECSSD/eigs/laplacian/0066.pth\n",
      "torch.Size([400, 384])\n",
      "Without normalizing, Features Shape is torch.Size([400, 384])\n",
      "After normalization, Features Shape torch.Size([400, 384])\n",
      "which_matrix= laplacian\n",
      "Without normalizing, Features Shape is torch.Size([400, 384])\n",
      "W_feat shape= (400, 400)\n",
      "W_comb shape=  (400, 400) D_comb shape (400, 400)\n",
      "eigenvalues shape torch.Size([20]) eigenvectors shape torch.Size([20, 400])\n",
      "66 /home/phdcs2/Hard_Disk/Datasets/Deep-Spectral-Segmentation/data/object-segmentation/ECSSD/features/dino_vits16/0067.pth\n",
      "dict_keys(['k', 'indices', 'file', 'id', 'model_name', 'patch_size', 'shape'])\n",
      "shape= (1, 3, 238, 400) k shape torch.Size([1, 350, 384]) patch_size= 16\n",
      "0067\n",
      "Skipping existing file /home/phdcs2/Hard_Disk/Datasets/Deep-Spectral-Segmentation/data/object-segmentation/ECSSD/eigs/laplacian/0067.pth\n",
      "torch.Size([350, 384])\n",
      "Without normalizing, Features Shape is torch.Size([350, 384])\n",
      "After normalization, Features Shape torch.Size([350, 384])\n",
      "which_matrix= laplacian\n",
      "Without normalizing, Features Shape is torch.Size([350, 384])\n",
      "W_feat shape= (350, 350)\n",
      "W_comb shape=  (350, 350) D_comb shape (350, 350)\n"
     ]
    },
    {
     "name": "stderr",
     "output_type": "stream",
     "text": [
      " 67%|██████▋   | 67/100 [00:24<00:10,  3.05it/s]"
     ]
    },
    {
     "name": "stdout",
     "output_type": "stream",
     "text": [
      "eigenvalues shape torch.Size([20]) eigenvectors shape torch.Size([20, 350])\n",
      "67 /home/phdcs2/Hard_Disk/Datasets/Deep-Spectral-Segmentation/data/object-segmentation/ECSSD/features/dino_vits16/0068.pth\n",
      "dict_keys(['k', 'indices', 'file', 'id', 'model_name', 'patch_size', 'shape'])\n",
      "shape= (1, 3, 344, 400) k shape torch.Size([1, 525, 384]) patch_size= 16\n",
      "0068\n",
      "Skipping existing file /home/phdcs2/Hard_Disk/Datasets/Deep-Spectral-Segmentation/data/object-segmentation/ECSSD/eigs/laplacian/0068.pth\n",
      "torch.Size([525, 384])\n",
      "Without normalizing, Features Shape is torch.Size([525, 384])\n",
      "After normalization, Features Shape torch.Size([525, 384])\n",
      "which_matrix= laplacian\n",
      "Without normalizing, Features Shape is torch.Size([525, 384])\n",
      "W_feat shape= (525, 525)\n",
      "W_comb shape=  (525, 525) D_comb shape (525, 525)\n"
     ]
    },
    {
     "name": "stderr",
     "output_type": "stream",
     "text": [
      " 68%|██████▊   | 68/100 [00:24<00:10,  3.08it/s]"
     ]
    },
    {
     "name": "stdout",
     "output_type": "stream",
     "text": [
      "eigenvalues shape torch.Size([20]) eigenvectors shape torch.Size([20, 525])\n",
      "68 /home/phdcs2/Hard_Disk/Datasets/Deep-Spectral-Segmentation/data/object-segmentation/ECSSD/features/dino_vits16/0069.pth\n",
      "dict_keys(['k', 'indices', 'file', 'id', 'model_name', 'patch_size', 'shape'])\n",
      "shape= (1, 3, 278, 400) k shape torch.Size([1, 425, 384]) patch_size= 16\n",
      "0069\n",
      "Skipping existing file /home/phdcs2/Hard_Disk/Datasets/Deep-Spectral-Segmentation/data/object-segmentation/ECSSD/eigs/laplacian/0069.pth\n",
      "torch.Size([425, 384])\n",
      "Without normalizing, Features Shape is torch.Size([425, 384])\n",
      "After normalization, Features Shape torch.Size([425, 384])\n",
      "which_matrix= laplacian\n",
      "Without normalizing, Features Shape is torch.Size([425, 384])\n",
      "W_feat shape= (425, 425)\n",
      "W_comb shape=  (425, 425) D_comb shape (425, 425)\n"
     ]
    },
    {
     "name": "stderr",
     "output_type": "stream",
     "text": [
      " 70%|███████   | 70/100 [00:25<00:10,  2.97it/s]"
     ]
    },
    {
     "name": "stdout",
     "output_type": "stream",
     "text": [
      "eigenvalues shape torch.Size([20]) eigenvectors shape torch.Size([20, 425])\n",
      "69 /home/phdcs2/Hard_Disk/Datasets/Deep-Spectral-Segmentation/data/object-segmentation/ECSSD/features/dino_vits16/0070.pth\n",
      "dict_keys(['k', 'indices', 'file', 'id', 'model_name', 'patch_size', 'shape'])\n",
      "shape= (1, 3, 330, 400) k shape torch.Size([1, 500, 384]) patch_size= 16\n",
      "0070\n",
      "Skipping existing file /home/phdcs2/Hard_Disk/Datasets/Deep-Spectral-Segmentation/data/object-segmentation/ECSSD/eigs/laplacian/0070.pth\n",
      "torch.Size([500, 384])\n",
      "Without normalizing, Features Shape is torch.Size([500, 384])\n",
      "After normalization, Features Shape torch.Size([500, 384])\n",
      "which_matrix= laplacian\n",
      "Without normalizing, Features Shape is torch.Size([500, 384])\n",
      "W_feat shape= (500, 500)\n",
      "W_comb shape=  (500, 500) D_comb shape (500, 500)\n",
      "eigenvalues shape torch.Size([20]) eigenvectors shape torch.Size([20, 500])\n",
      "70 /home/phdcs2/Hard_Disk/Datasets/Deep-Spectral-Segmentation/data/object-segmentation/ECSSD/features/dino_vits16/0071.pth\n",
      "dict_keys(['k', 'indices', 'file', 'id', 'model_name', 'patch_size', 'shape'])\n",
      "shape= (1, 3, 300, 400) k shape torch.Size([1, 450, 384]) patch_size= 16\n",
      "0071\n",
      "Skipping existing file /home/phdcs2/Hard_Disk/Datasets/Deep-Spectral-Segmentation/data/object-segmentation/ECSSD/eigs/laplacian/0071.pth\n",
      "torch.Size([450, 384])\n",
      "Without normalizing, Features Shape is torch.Size([450, 384])\n",
      "After normalization, Features Shape torch.Size([450, 384])\n",
      "which_matrix= laplacian\n",
      "Without normalizing, Features Shape is torch.Size([450, 384])\n",
      "W_feat shape= (450, 450)\n",
      "W_comb shape=  (450, 450) D_comb shape (450, 450)\n"
     ]
    },
    {
     "name": "stderr",
     "output_type": "stream",
     "text": [
      " 71%|███████   | 71/100 [00:25<00:11,  2.63it/s]"
     ]
    },
    {
     "name": "stdout",
     "output_type": "stream",
     "text": [
      "eigenvalues shape torch.Size([20]) eigenvectors shape torch.Size([20, 450])\n",
      "71 /home/phdcs2/Hard_Disk/Datasets/Deep-Spectral-Segmentation/data/object-segmentation/ECSSD/features/dino_vits16/0072.pth\n",
      "dict_keys(['k', 'indices', 'file', 'id', 'model_name', 'patch_size', 'shape'])\n",
      "shape= (1, 3, 266, 400) k shape torch.Size([1, 400, 384]) patch_size= 16\n",
      "0072\n",
      "Skipping existing file /home/phdcs2/Hard_Disk/Datasets/Deep-Spectral-Segmentation/data/object-segmentation/ECSSD/eigs/laplacian/0072.pth\n",
      "torch.Size([400, 384])\n",
      "Without normalizing, Features Shape is torch.Size([400, 384])\n",
      "After normalization, Features Shape torch.Size([400, 384])\n",
      "which_matrix= laplacian\n",
      "Without normalizing, Features Shape is torch.Size([400, 384])\n",
      "W_feat shape= (400, 400)\n",
      "W_comb shape=  (400, 400) D_comb shape (400, 400)\n"
     ]
    },
    {
     "name": "stderr",
     "output_type": "stream",
     "text": [
      " 72%|███████▏  | 72/100 [00:26<00:11,  2.43it/s]"
     ]
    },
    {
     "name": "stdout",
     "output_type": "stream",
     "text": [
      "eigenvalues shape torch.Size([20]) eigenvectors shape torch.Size([20, 400])\n",
      "72 /home/phdcs2/Hard_Disk/Datasets/Deep-Spectral-Segmentation/data/object-segmentation/ECSSD/features/dino_vits16/0073.pth\n",
      "dict_keys(['k', 'indices', 'file', 'id', 'model_name', 'patch_size', 'shape'])\n",
      "shape= (1, 3, 400, 300) k shape torch.Size([1, 450, 384]) patch_size= 16\n",
      "0073\n",
      "Skipping existing file /home/phdcs2/Hard_Disk/Datasets/Deep-Spectral-Segmentation/data/object-segmentation/ECSSD/eigs/laplacian/0073.pth\n",
      "torch.Size([450, 384])\n",
      "Without normalizing, Features Shape is torch.Size([450, 384])\n",
      "After normalization, Features Shape torch.Size([450, 384])\n",
      "which_matrix= laplacian\n",
      "Without normalizing, Features Shape is torch.Size([450, 384])\n",
      "W_feat shape= (450, 450)\n",
      "W_comb shape=  (450, 450) D_comb shape (450, 450)\n"
     ]
    },
    {
     "name": "stderr",
     "output_type": "stream",
     "text": [
      " 73%|███████▎  | 73/100 [00:26<00:11,  2.41it/s]"
     ]
    },
    {
     "name": "stdout",
     "output_type": "stream",
     "text": [
      "eigenvalues shape torch.Size([20]) eigenvectors shape torch.Size([20, 450])\n",
      "73 /home/phdcs2/Hard_Disk/Datasets/Deep-Spectral-Segmentation/data/object-segmentation/ECSSD/features/dino_vits16/0074.pth\n",
      "dict_keys(['k', 'indices', 'file', 'id', 'model_name', 'patch_size', 'shape'])\n",
      "shape= (1, 3, 400, 300) k shape torch.Size([1, 450, 384]) patch_size= 16\n",
      "0074\n",
      "Skipping existing file /home/phdcs2/Hard_Disk/Datasets/Deep-Spectral-Segmentation/data/object-segmentation/ECSSD/eigs/laplacian/0074.pth\n",
      "torch.Size([450, 384])\n",
      "Without normalizing, Features Shape is torch.Size([450, 384])\n",
      "After normalization, Features Shape torch.Size([450, 384])\n",
      "which_matrix= laplacian\n",
      "Without normalizing, Features Shape is torch.Size([450, 384])\n",
      "W_feat shape= (450, 450)\n",
      "W_comb shape=  (450, 450) D_comb shape (450, 450)\n"
     ]
    },
    {
     "name": "stderr",
     "output_type": "stream",
     "text": [
      " 74%|███████▍  | 74/100 [00:26<00:10,  2.41it/s]"
     ]
    },
    {
     "name": "stdout",
     "output_type": "stream",
     "text": [
      "eigenvalues shape torch.Size([20]) eigenvectors shape torch.Size([20, 450])\n",
      "74 /home/phdcs2/Hard_Disk/Datasets/Deep-Spectral-Segmentation/data/object-segmentation/ECSSD/features/dino_vits16/0075.pth\n",
      "dict_keys(['k', 'indices', 'file', 'id', 'model_name', 'patch_size', 'shape'])\n",
      "shape= (1, 3, 300, 400) k shape torch.Size([1, 450, 384]) patch_size= 16\n",
      "0075\n",
      "Skipping existing file /home/phdcs2/Hard_Disk/Datasets/Deep-Spectral-Segmentation/data/object-segmentation/ECSSD/eigs/laplacian/0075.pth\n",
      "torch.Size([450, 384])\n",
      "Without normalizing, Features Shape is torch.Size([450, 384])\n",
      "After normalization, Features Shape torch.Size([450, 384])\n",
      "which_matrix= laplacian\n",
      "Without normalizing, Features Shape is torch.Size([450, 384])\n",
      "W_feat shape= (450, 450)\n",
      "W_comb shape=  (450, 450) D_comb shape (450, 450)\n"
     ]
    },
    {
     "name": "stderr",
     "output_type": "stream",
     "text": [
      " 75%|███████▌  | 75/100 [00:27<00:10,  2.44it/s]"
     ]
    },
    {
     "name": "stdout",
     "output_type": "stream",
     "text": [
      "eigenvalues shape torch.Size([20]) eigenvectors shape torch.Size([20, 450])\n",
      "75 /home/phdcs2/Hard_Disk/Datasets/Deep-Spectral-Segmentation/data/object-segmentation/ECSSD/features/dino_vits16/0076.pth\n",
      "dict_keys(['k', 'indices', 'file', 'id', 'model_name', 'patch_size', 'shape'])\n",
      "shape= (1, 3, 266, 400) k shape torch.Size([1, 400, 384]) patch_size= 16\n",
      "0076\n",
      "Skipping existing file /home/phdcs2/Hard_Disk/Datasets/Deep-Spectral-Segmentation/data/object-segmentation/ECSSD/eigs/laplacian/0076.pth\n",
      "torch.Size([400, 384])\n",
      "Without normalizing, Features Shape is torch.Size([400, 384])\n",
      "After normalization, Features Shape torch.Size([400, 384])\n",
      "which_matrix= laplacian\n",
      "Without normalizing, Features Shape is torch.Size([400, 384])\n",
      "W_feat shape= (400, 400)\n",
      "W_comb shape=  (400, 400) D_comb shape (400, 400)\n"
     ]
    },
    {
     "name": "stderr",
     "output_type": "stream",
     "text": [
      " 76%|███████▌  | 76/100 [00:27<00:08,  2.83it/s]"
     ]
    },
    {
     "name": "stdout",
     "output_type": "stream",
     "text": [
      "eigenvalues shape torch.Size([20]) eigenvectors shape torch.Size([20, 400])\n",
      "76 /home/phdcs2/Hard_Disk/Datasets/Deep-Spectral-Segmentation/data/object-segmentation/ECSSD/features/dino_vits16/0077.pth\n",
      "dict_keys(['k', 'indices', 'file', 'id', 'model_name', 'patch_size', 'shape'])\n",
      "shape= (1, 3, 302, 400) k shape torch.Size([1, 450, 384]) patch_size= 16\n",
      "0077\n",
      "Skipping existing file /home/phdcs2/Hard_Disk/Datasets/Deep-Spectral-Segmentation/data/object-segmentation/ECSSD/eigs/laplacian/0077.pth\n",
      "torch.Size([450, 384])\n",
      "Without normalizing, Features Shape is torch.Size([450, 384])\n",
      "After normalization, Features Shape torch.Size([450, 384])\n",
      "which_matrix= laplacian\n",
      "Without normalizing, Features Shape is torch.Size([450, 384])\n",
      "W_feat shape= (450, 450)\n",
      "W_comb shape=  (450, 450) D_comb shape (450, 450)\n"
     ]
    },
    {
     "name": "stderr",
     "output_type": "stream",
     "text": [
      " 77%|███████▋  | 77/100 [00:27<00:07,  3.08it/s]"
     ]
    },
    {
     "name": "stdout",
     "output_type": "stream",
     "text": [
      "eigenvalues shape torch.Size([20]) eigenvectors shape torch.Size([20, 450])\n",
      "77 /home/phdcs2/Hard_Disk/Datasets/Deep-Spectral-Segmentation/data/object-segmentation/ECSSD/features/dino_vits16/0078.pth\n",
      "dict_keys(['k', 'indices', 'file', 'id', 'model_name', 'patch_size', 'shape'])\n",
      "shape= (1, 3, 400, 267) k shape torch.Size([1, 400, 384]) patch_size= 16\n",
      "0078\n",
      "Skipping existing file /home/phdcs2/Hard_Disk/Datasets/Deep-Spectral-Segmentation/data/object-segmentation/ECSSD/eigs/laplacian/0078.pth\n",
      "torch.Size([400, 384])\n",
      "Without normalizing, Features Shape is torch.Size([400, 384])\n",
      "After normalization, Features Shape torch.Size([400, 384])\n",
      "which_matrix= laplacian\n",
      "Without normalizing, Features Shape is torch.Size([400, 384])\n",
      "W_feat shape= (400, 400)\n",
      "W_comb shape=  (400, 400) D_comb shape (400, 400)\n"
     ]
    },
    {
     "name": "stderr",
     "output_type": "stream",
     "text": [
      " 78%|███████▊  | 78/100 [00:28<00:07,  2.85it/s]"
     ]
    },
    {
     "name": "stdout",
     "output_type": "stream",
     "text": [
      "eigenvalues shape torch.Size([20]) eigenvectors shape torch.Size([20, 400])\n",
      "78 /home/phdcs2/Hard_Disk/Datasets/Deep-Spectral-Segmentation/data/object-segmentation/ECSSD/features/dino_vits16/0079.pth\n",
      "dict_keys(['k', 'indices', 'file', 'id', 'model_name', 'patch_size', 'shape'])\n",
      "shape= (1, 3, 350, 400) k shape torch.Size([1, 525, 384]) patch_size= 16\n",
      "0079\n",
      "Skipping existing file /home/phdcs2/Hard_Disk/Datasets/Deep-Spectral-Segmentation/data/object-segmentation/ECSSD/eigs/laplacian/0079.pth\n",
      "torch.Size([525, 384])\n",
      "Without normalizing, Features Shape is torch.Size([525, 384])\n",
      "After normalization, Features Shape torch.Size([525, 384])\n",
      "which_matrix= laplacian\n",
      "Without normalizing, Features Shape is torch.Size([525, 384])\n",
      "W_feat shape= (525, 525)\n",
      "W_comb shape=  (525, 525) D_comb shape (525, 525)\n"
     ]
    },
    {
     "name": "stderr",
     "output_type": "stream",
     "text": [
      " 79%|███████▉  | 79/100 [00:28<00:07,  2.65it/s]"
     ]
    },
    {
     "name": "stdout",
     "output_type": "stream",
     "text": [
      "eigenvalues shape torch.Size([20]) eigenvectors shape torch.Size([20, 525])\n",
      "79 /home/phdcs2/Hard_Disk/Datasets/Deep-Spectral-Segmentation/data/object-segmentation/ECSSD/features/dino_vits16/0080.pth\n",
      "dict_keys(['k', 'indices', 'file', 'id', 'model_name', 'patch_size', 'shape'])\n",
      "shape= (1, 3, 299, 400) k shape torch.Size([1, 450, 384]) patch_size= 16\n",
      "0080\n",
      "Skipping existing file /home/phdcs2/Hard_Disk/Datasets/Deep-Spectral-Segmentation/data/object-segmentation/ECSSD/eigs/laplacian/0080.pth\n",
      "torch.Size([450, 384])\n",
      "Without normalizing, Features Shape is torch.Size([450, 384])\n",
      "After normalization, Features Shape torch.Size([450, 384])\n",
      "which_matrix= laplacian\n",
      "Without normalizing, Features Shape is torch.Size([450, 384])\n",
      "W_feat shape= (450, 450)\n",
      "W_comb shape=  (450, 450) D_comb shape (450, 450)\n"
     ]
    },
    {
     "name": "stderr",
     "output_type": "stream",
     "text": [
      " 80%|████████  | 80/100 [00:29<00:08,  2.49it/s]"
     ]
    },
    {
     "name": "stdout",
     "output_type": "stream",
     "text": [
      "eigenvalues shape torch.Size([20]) eigenvectors shape torch.Size([20, 450])\n",
      "80 /home/phdcs2/Hard_Disk/Datasets/Deep-Spectral-Segmentation/data/object-segmentation/ECSSD/features/dino_vits16/0081.pth\n",
      "dict_keys(['k', 'indices', 'file', 'id', 'model_name', 'patch_size', 'shape'])\n",
      "shape= (1, 3, 300, 400) k shape torch.Size([1, 450, 384]) patch_size= 16\n",
      "0081\n",
      "Skipping existing file /home/phdcs2/Hard_Disk/Datasets/Deep-Spectral-Segmentation/data/object-segmentation/ECSSD/eigs/laplacian/0081.pth\n",
      "torch.Size([450, 384])\n",
      "Without normalizing, Features Shape is torch.Size([450, 384])\n",
      "After normalization, Features Shape torch.Size([450, 384])\n",
      "which_matrix= laplacian\n",
      "Without normalizing, Features Shape is torch.Size([450, 384])\n",
      "W_feat shape= (450, 450)\n",
      "W_comb shape=  (450, 450) D_comb shape (450, 450)\n"
     ]
    },
    {
     "name": "stderr",
     "output_type": "stream",
     "text": [
      " 81%|████████  | 81/100 [00:29<00:07,  2.66it/s]"
     ]
    },
    {
     "name": "stdout",
     "output_type": "stream",
     "text": [
      "eigenvalues shape torch.Size([20]) eigenvectors shape torch.Size([20, 450])\n",
      "81 /home/phdcs2/Hard_Disk/Datasets/Deep-Spectral-Segmentation/data/object-segmentation/ECSSD/features/dino_vits16/0082.pth\n",
      "dict_keys(['k', 'indices', 'file', 'id', 'model_name', 'patch_size', 'shape'])\n",
      "shape= (1, 3, 300, 400) k shape torch.Size([1, 450, 384]) patch_size= 16\n",
      "0082\n",
      "Skipping existing file /home/phdcs2/Hard_Disk/Datasets/Deep-Spectral-Segmentation/data/object-segmentation/ECSSD/eigs/laplacian/0082.pth\n",
      "torch.Size([450, 384])\n",
      "Without normalizing, Features Shape is torch.Size([450, 384])\n",
      "After normalization, Features Shape torch.Size([450, 384])\n",
      "which_matrix= laplacian\n",
      "Without normalizing, Features Shape is torch.Size([450, 384])\n",
      "W_feat shape= (450, 450)\n",
      "W_comb shape=  (450, 450) D_comb shape (450, 450)\n"
     ]
    },
    {
     "name": "stderr",
     "output_type": "stream",
     "text": [
      " 82%|████████▏ | 82/100 [00:29<00:06,  2.80it/s]"
     ]
    },
    {
     "name": "stdout",
     "output_type": "stream",
     "text": [
      "eigenvalues shape torch.Size([20]) eigenvectors shape torch.Size([20, 450])\n",
      "82 /home/phdcs2/Hard_Disk/Datasets/Deep-Spectral-Segmentation/data/object-segmentation/ECSSD/features/dino_vits16/0083.pth\n",
      "dict_keys(['k', 'indices', 'file', 'id', 'model_name', 'patch_size', 'shape'])\n",
      "shape= (1, 3, 300, 400) k shape torch.Size([1, 450, 384]) patch_size= 16\n",
      "0083\n",
      "Skipping existing file /home/phdcs2/Hard_Disk/Datasets/Deep-Spectral-Segmentation/data/object-segmentation/ECSSD/eigs/laplacian/0083.pth\n",
      "torch.Size([450, 384])\n",
      "Without normalizing, Features Shape is torch.Size([450, 384])\n",
      "After normalization, Features Shape torch.Size([450, 384])\n",
      "which_matrix= laplacian\n",
      "Without normalizing, Features Shape is torch.Size([450, 384])\n",
      "W_feat shape= (450, 450)\n",
      "W_comb shape=  (450, 450) D_comb shape (450, 450)\n"
     ]
    },
    {
     "name": "stderr",
     "output_type": "stream",
     "text": [
      " 83%|████████▎ | 83/100 [00:30<00:06,  2.50it/s]"
     ]
    },
    {
     "name": "stdout",
     "output_type": "stream",
     "text": [
      "eigenvalues shape torch.Size([20]) eigenvectors shape torch.Size([20, 450])\n",
      "83 /home/phdcs2/Hard_Disk/Datasets/Deep-Spectral-Segmentation/data/object-segmentation/ECSSD/features/dino_vits16/0084.pth\n",
      "dict_keys(['k', 'indices', 'file', 'id', 'model_name', 'patch_size', 'shape'])\n",
      "shape= (1, 3, 300, 400) k shape torch.Size([1, 450, 384]) patch_size= 16\n",
      "0084\n",
      "Skipping existing file /home/phdcs2/Hard_Disk/Datasets/Deep-Spectral-Segmentation/data/object-segmentation/ECSSD/eigs/laplacian/0084.pth\n",
      "torch.Size([450, 384])\n",
      "Without normalizing, Features Shape is torch.Size([450, 384])\n",
      "After normalization, Features Shape torch.Size([450, 384])\n",
      "which_matrix= laplacian\n",
      "Without normalizing, Features Shape is torch.Size([450, 384])\n",
      "W_feat shape= (450, 450)\n",
      "W_comb shape=  (450, 450) D_comb shape (450, 450)\n"
     ]
    },
    {
     "name": "stderr",
     "output_type": "stream",
     "text": [
      " 84%|████████▍ | 84/100 [00:31<00:10,  1.56it/s]"
     ]
    },
    {
     "name": "stdout",
     "output_type": "stream",
     "text": [
      "eigenvalues shape torch.Size([20]) eigenvectors shape torch.Size([20, 450])\n",
      "84 /home/phdcs2/Hard_Disk/Datasets/Deep-Spectral-Segmentation/data/object-segmentation/ECSSD/features/dino_vits16/0085.pth\n",
      "dict_keys(['k', 'indices', 'file', 'id', 'model_name', 'patch_size', 'shape'])\n",
      "shape= (1, 3, 300, 400) k shape torch.Size([1, 450, 384]) patch_size= 16\n",
      "0085\n",
      "Skipping existing file /home/phdcs2/Hard_Disk/Datasets/Deep-Spectral-Segmentation/data/object-segmentation/ECSSD/eigs/laplacian/0085.pth\n",
      "torch.Size([450, 384])\n",
      "Without normalizing, Features Shape is torch.Size([450, 384])\n",
      "After normalization, Features Shape torch.Size([450, 384])\n",
      "which_matrix= laplacian\n",
      "Without normalizing, Features Shape is torch.Size([450, 384])\n",
      "W_feat shape= (450, 450)\n",
      "W_comb shape=  (450, 450) D_comb shape (450, 450)\n"
     ]
    },
    {
     "name": "stderr",
     "output_type": "stream",
     "text": [
      " 85%|████████▌ | 85/100 [00:31<00:08,  1.82it/s]"
     ]
    },
    {
     "name": "stdout",
     "output_type": "stream",
     "text": [
      "eigenvalues shape torch.Size([20]) eigenvectors shape torch.Size([20, 450])\n",
      "85 /home/phdcs2/Hard_Disk/Datasets/Deep-Spectral-Segmentation/data/object-segmentation/ECSSD/features/dino_vits16/0086.pth\n",
      "dict_keys(['k', 'indices', 'file', 'id', 'model_name', 'patch_size', 'shape'])\n",
      "shape= (1, 3, 300, 400) k shape torch.Size([1, 450, 384]) patch_size= 16\n",
      "0086\n",
      "Skipping existing file /home/phdcs2/Hard_Disk/Datasets/Deep-Spectral-Segmentation/data/object-segmentation/ECSSD/eigs/laplacian/0086.pth\n",
      "torch.Size([450, 384])\n",
      "Without normalizing, Features Shape is torch.Size([450, 384])\n",
      "After normalization, Features Shape torch.Size([450, 384])\n",
      "which_matrix= laplacian\n",
      "Without normalizing, Features Shape is torch.Size([450, 384])\n",
      "W_feat shape= (450, 450)\n",
      "W_comb shape=  (450, 450) D_comb shape (450, 450)\n"
     ]
    },
    {
     "name": "stderr",
     "output_type": "stream",
     "text": [
      " 86%|████████▌ | 86/100 [00:32<00:07,  1.94it/s]"
     ]
    },
    {
     "name": "stdout",
     "output_type": "stream",
     "text": [
      "eigenvalues shape torch.Size([20]) eigenvectors shape torch.Size([20, 450])\n",
      "86 /home/phdcs2/Hard_Disk/Datasets/Deep-Spectral-Segmentation/data/object-segmentation/ECSSD/features/dino_vits16/0087.pth\n",
      "dict_keys(['k', 'indices', 'file', 'id', 'model_name', 'patch_size', 'shape'])\n",
      "shape= (1, 3, 300, 400) k shape torch.Size([1, 450, 384]) patch_size= 16\n",
      "0087\n",
      "Skipping existing file /home/phdcs2/Hard_Disk/Datasets/Deep-Spectral-Segmentation/data/object-segmentation/ECSSD/eigs/laplacian/0087.pth\n",
      "torch.Size([450, 384])\n",
      "Without normalizing, Features Shape is torch.Size([450, 384])\n",
      "After normalization, Features Shape torch.Size([450, 384])\n",
      "which_matrix= laplacian\n",
      "Without normalizing, Features Shape is torch.Size([450, 384])\n",
      "W_feat shape= (450, 450)\n",
      "W_comb shape=  (450, 450) D_comb shape (450, 450)\n"
     ]
    },
    {
     "name": "stderr",
     "output_type": "stream",
     "text": [
      " 87%|████████▋ | 87/100 [00:32<00:06,  2.10it/s]"
     ]
    },
    {
     "name": "stdout",
     "output_type": "stream",
     "text": [
      "eigenvalues shape torch.Size([20]) eigenvectors shape torch.Size([20, 450])\n",
      "87 /home/phdcs2/Hard_Disk/Datasets/Deep-Spectral-Segmentation/data/object-segmentation/ECSSD/features/dino_vits16/0088.pth\n",
      "dict_keys(['k', 'indices', 'file', 'id', 'model_name', 'patch_size', 'shape'])\n",
      "shape= (1, 3, 300, 400) k shape torch.Size([1, 450, 384]) patch_size= 16\n",
      "0088\n",
      "Skipping existing file /home/phdcs2/Hard_Disk/Datasets/Deep-Spectral-Segmentation/data/object-segmentation/ECSSD/eigs/laplacian/0088.pth\n",
      "torch.Size([450, 384])\n",
      "Without normalizing, Features Shape is torch.Size([450, 384])\n",
      "After normalization, Features Shape torch.Size([450, 384])\n",
      "which_matrix= laplacian\n",
      "Without normalizing, Features Shape is torch.Size([450, 384])\n",
      "W_feat shape= (450, 450)\n",
      "W_comb shape=  (450, 450) D_comb shape (450, 450)\n"
     ]
    },
    {
     "name": "stderr",
     "output_type": "stream",
     "text": [
      " 88%|████████▊ | 88/100 [00:32<00:05,  2.37it/s]"
     ]
    },
    {
     "name": "stdout",
     "output_type": "stream",
     "text": [
      "eigenvalues shape torch.Size([20]) eigenvectors shape torch.Size([20, 450])\n",
      "88 /home/phdcs2/Hard_Disk/Datasets/Deep-Spectral-Segmentation/data/object-segmentation/ECSSD/features/dino_vits16/0089.pth\n",
      "dict_keys(['k', 'indices', 'file', 'id', 'model_name', 'patch_size', 'shape'])\n",
      "shape= (1, 3, 267, 400) k shape torch.Size([1, 400, 384]) patch_size= 16\n",
      "0089\n",
      "Skipping existing file /home/phdcs2/Hard_Disk/Datasets/Deep-Spectral-Segmentation/data/object-segmentation/ECSSD/eigs/laplacian/0089.pth\n",
      "torch.Size([400, 384])\n",
      "Without normalizing, Features Shape is torch.Size([400, 384])\n",
      "After normalization, Features Shape torch.Size([400, 384])\n",
      "which_matrix= laplacian\n",
      "Without normalizing, Features Shape is torch.Size([400, 384])\n",
      "W_feat shape= (400, 400)\n",
      "W_comb shape=  (400, 400) D_comb shape (400, 400)\n"
     ]
    },
    {
     "name": "stderr",
     "output_type": "stream",
     "text": [
      " 89%|████████▉ | 89/100 [00:33<00:04,  2.48it/s]"
     ]
    },
    {
     "name": "stdout",
     "output_type": "stream",
     "text": [
      "eigenvalues shape torch.Size([20]) eigenvectors shape torch.Size([20, 400])\n",
      "89 /home/phdcs2/Hard_Disk/Datasets/Deep-Spectral-Segmentation/data/object-segmentation/ECSSD/features/dino_vits16/0090.pth\n",
      "dict_keys(['k', 'indices', 'file', 'id', 'model_name', 'patch_size', 'shape'])\n",
      "shape= (1, 3, 400, 267) k shape torch.Size([1, 400, 384]) patch_size= 16\n",
      "0090\n",
      "Skipping existing file /home/phdcs2/Hard_Disk/Datasets/Deep-Spectral-Segmentation/data/object-segmentation/ECSSD/eigs/laplacian/0090.pth\n",
      "torch.Size([400, 384])\n",
      "Without normalizing, Features Shape is torch.Size([400, 384])\n",
      "After normalization, Features Shape torch.Size([400, 384])\n",
      "which_matrix= laplacian\n",
      "Without normalizing, Features Shape is torch.Size([400, 384])\n",
      "W_feat shape= (400, 400)\n",
      "W_comb shape=  (400, 400) D_comb shape (400, 400)\n"
     ]
    },
    {
     "name": "stderr",
     "output_type": "stream",
     "text": [
      " 90%|█████████ | 90/100 [00:33<00:03,  2.90it/s]"
     ]
    },
    {
     "name": "stdout",
     "output_type": "stream",
     "text": [
      "eigenvalues shape torch.Size([20]) eigenvectors shape torch.Size([20, 400])\n",
      "90 /home/phdcs2/Hard_Disk/Datasets/Deep-Spectral-Segmentation/data/object-segmentation/ECSSD/features/dino_vits16/0091.pth\n",
      "dict_keys(['k', 'indices', 'file', 'id', 'model_name', 'patch_size', 'shape'])\n",
      "shape= (1, 3, 400, 267) k shape torch.Size([1, 400, 384]) patch_size= 16\n",
      "0091\n",
      "Skipping existing file /home/phdcs2/Hard_Disk/Datasets/Deep-Spectral-Segmentation/data/object-segmentation/ECSSD/eigs/laplacian/0091.pth\n",
      "torch.Size([400, 384])\n",
      "Without normalizing, Features Shape is torch.Size([400, 384])\n",
      "After normalization, Features Shape torch.Size([400, 384])\n",
      "which_matrix= laplacian\n",
      "Without normalizing, Features Shape is torch.Size([400, 384])\n",
      "W_feat shape= (400, 400)\n",
      "W_comb shape=  (400, 400) D_comb shape (400, 400)\n"
     ]
    },
    {
     "name": "stderr",
     "output_type": "stream",
     "text": [
      " 91%|█████████ | 91/100 [00:33<00:02,  3.24it/s]"
     ]
    },
    {
     "name": "stdout",
     "output_type": "stream",
     "text": [
      "eigenvalues shape torch.Size([20]) eigenvectors shape torch.Size([20, 400])\n",
      "91 /home/phdcs2/Hard_Disk/Datasets/Deep-Spectral-Segmentation/data/object-segmentation/ECSSD/features/dino_vits16/0092.pth\n",
      "dict_keys(['k', 'indices', 'file', 'id', 'model_name', 'patch_size', 'shape'])\n",
      "shape= (1, 3, 267, 400) k shape torch.Size([1, 400, 384]) patch_size= 16\n",
      "0092\n",
      "Skipping existing file /home/phdcs2/Hard_Disk/Datasets/Deep-Spectral-Segmentation/data/object-segmentation/ECSSD/eigs/laplacian/0092.pth\n",
      "torch.Size([400, 384])\n",
      "Without normalizing, Features Shape is torch.Size([400, 384])\n",
      "After normalization, Features Shape torch.Size([400, 384])\n",
      "which_matrix= laplacian\n",
      "Without normalizing, Features Shape is torch.Size([400, 384])\n",
      "W_feat shape= (400, 400)\n",
      "W_comb shape=  (400, 400) D_comb shape (400, 400)\n"
     ]
    },
    {
     "name": "stderr",
     "output_type": "stream",
     "text": [
      " 92%|█████████▏| 92/100 [00:34<00:02,  3.06it/s]"
     ]
    },
    {
     "name": "stdout",
     "output_type": "stream",
     "text": [
      "eigenvalues shape torch.Size([20]) eigenvectors shape torch.Size([20, 400])\n",
      "92 /home/phdcs2/Hard_Disk/Datasets/Deep-Spectral-Segmentation/data/object-segmentation/ECSSD/features/dino_vits16/0093.pth\n",
      "dict_keys(['k', 'indices', 'file', 'id', 'model_name', 'patch_size', 'shape'])\n",
      "shape= (1, 3, 267, 400) k shape torch.Size([1, 400, 384]) patch_size= 16\n",
      "0093\n",
      "Skipping existing file /home/phdcs2/Hard_Disk/Datasets/Deep-Spectral-Segmentation/data/object-segmentation/ECSSD/eigs/laplacian/0093.pth\n",
      "torch.Size([400, 384])\n",
      "Without normalizing, Features Shape is torch.Size([400, 384])\n",
      "After normalization, Features Shape torch.Size([400, 384])\n",
      "which_matrix= laplacian\n",
      "Without normalizing, Features Shape is torch.Size([400, 384])\n",
      "W_feat shape= (400, 400)\n",
      "W_comb shape=  (400, 400) D_comb shape (400, 400)\n"
     ]
    },
    {
     "name": "stderr",
     "output_type": "stream",
     "text": [
      " 93%|█████████▎| 93/100 [00:34<00:02,  2.98it/s]"
     ]
    },
    {
     "name": "stdout",
     "output_type": "stream",
     "text": [
      "eigenvalues shape torch.Size([20]) eigenvectors shape torch.Size([20, 400])\n",
      "93 /home/phdcs2/Hard_Disk/Datasets/Deep-Spectral-Segmentation/data/object-segmentation/ECSSD/features/dino_vits16/0094.pth\n",
      "dict_keys(['k', 'indices', 'file', 'id', 'model_name', 'patch_size', 'shape'])\n",
      "shape= (1, 3, 400, 267) k shape torch.Size([1, 400, 384]) patch_size= 16\n",
      "0094\n",
      "Skipping existing file /home/phdcs2/Hard_Disk/Datasets/Deep-Spectral-Segmentation/data/object-segmentation/ECSSD/eigs/laplacian/0094.pth\n",
      "torch.Size([400, 384])\n",
      "Without normalizing, Features Shape is torch.Size([400, 384])\n",
      "After normalization, Features Shape torch.Size([400, 384])\n",
      "which_matrix= laplacian\n",
      "Without normalizing, Features Shape is torch.Size([400, 384])\n",
      "W_feat shape= (400, 400)\n",
      "W_comb shape=  (400, 400) D_comb shape (400, 400)\n"
     ]
    },
    {
     "name": "stderr",
     "output_type": "stream",
     "text": [
      " 95%|█████████▌| 95/100 [00:34<00:01,  3.62it/s]"
     ]
    },
    {
     "name": "stdout",
     "output_type": "stream",
     "text": [
      "eigenvalues shape torch.Size([20]) eigenvectors shape torch.Size([20, 400])\n",
      "94 /home/phdcs2/Hard_Disk/Datasets/Deep-Spectral-Segmentation/data/object-segmentation/ECSSD/features/dino_vits16/0095.pth\n",
      "dict_keys(['k', 'indices', 'file', 'id', 'model_name', 'patch_size', 'shape'])\n",
      "shape= (1, 3, 400, 267) k shape torch.Size([1, 400, 384]) patch_size= 16\n",
      "0095\n",
      "Skipping existing file /home/phdcs2/Hard_Disk/Datasets/Deep-Spectral-Segmentation/data/object-segmentation/ECSSD/eigs/laplacian/0095.pth\n",
      "torch.Size([400, 384])\n",
      "Without normalizing, Features Shape is torch.Size([400, 384])\n",
      "After normalization, Features Shape torch.Size([400, 384])\n",
      "which_matrix= laplacian\n",
      "Without normalizing, Features Shape is torch.Size([400, 384])\n",
      "W_feat shape= (400, 400)\n",
      "W_comb shape=  (400, 400) D_comb shape (400, 400)\n",
      "eigenvalues shape torch.Size([20]) eigenvectors shape torch.Size([20, 400])\n",
      "95 /home/phdcs2/Hard_Disk/Datasets/Deep-Spectral-Segmentation/data/object-segmentation/ECSSD/features/dino_vits16/0096.pth\n",
      "dict_keys(['k', 'indices', 'file', 'id', 'model_name', 'patch_size', 'shape'])\n",
      "shape= (1, 3, 400, 267) k shape torch.Size([1, 400, 384]) patch_size= 16\n",
      "0096\n",
      "Skipping existing file /home/phdcs2/Hard_Disk/Datasets/Deep-Spectral-Segmentation/data/object-segmentation/ECSSD/eigs/laplacian/0096.pth\n",
      "torch.Size([400, 384])\n",
      "Without normalizing, Features Shape is torch.Size([400, 384])\n",
      "After normalization, Features Shape torch.Size([400, 384])\n",
      "which_matrix= laplacian\n",
      "Without normalizing, Features Shape is torch.Size([400, 384])\n"
     ]
    },
    {
     "name": "stderr",
     "output_type": "stream",
     "text": [
      " 96%|█████████▌| 96/100 [00:35<00:01,  3.81it/s]"
     ]
    },
    {
     "name": "stdout",
     "output_type": "stream",
     "text": [
      "W_feat shape= (400, 400)\n",
      "W_comb shape=  (400, 400) D_comb shape (400, 400)\n",
      "eigenvalues shape torch.Size([20]) eigenvectors shape torch.Size([20, 400])\n",
      "96 /home/phdcs2/Hard_Disk/Datasets/Deep-Spectral-Segmentation/data/object-segmentation/ECSSD/features/dino_vits16/0097.pth\n",
      "dict_keys(['k', 'indices', 'file', 'id', 'model_name', 'patch_size', 'shape'])\n",
      "shape= (1, 3, 267, 400) k shape torch.Size([1, 400, 384]) patch_size= 16\n",
      "0097\n",
      "Skipping existing file /home/phdcs2/Hard_Disk/Datasets/Deep-Spectral-Segmentation/data/object-segmentation/ECSSD/eigs/laplacian/0097.pth\n",
      "torch.Size([400, 384])\n",
      "Without normalizing, Features Shape is torch.Size([400, 384])\n",
      "After normalization, Features Shape torch.Size([400, 384])\n",
      "which_matrix= laplacian\n",
      "Without normalizing, Features Shape is torch.Size([400, 384])\n",
      "W_feat shape= (400, 400)\n",
      "W_comb shape=  (400, 400) D_comb shape (400, 400)\n"
     ]
    },
    {
     "name": "stderr",
     "output_type": "stream",
     "text": [
      " 97%|█████████▋| 97/100 [00:35<00:00,  4.17it/s]"
     ]
    },
    {
     "name": "stdout",
     "output_type": "stream",
     "text": [
      "eigenvalues shape torch.Size([20]) eigenvectors shape torch.Size([20, 400])\n",
      "97 /home/phdcs2/Hard_Disk/Datasets/Deep-Spectral-Segmentation/data/object-segmentation/ECSSD/features/dino_vits16/0098.pth\n",
      "dict_keys(['k', 'indices', 'file', 'id', 'model_name', 'patch_size', 'shape'])\n",
      "shape= (1, 3, 400, 267) k shape torch.Size([1, 400, 384]) patch_size= 16\n",
      "0098\n",
      "Skipping existing file /home/phdcs2/Hard_Disk/Datasets/Deep-Spectral-Segmentation/data/object-segmentation/ECSSD/eigs/laplacian/0098.pth\n",
      "torch.Size([400, 384])\n",
      "Without normalizing, Features Shape is torch.Size([400, 384])\n",
      "After normalization, Features Shape torch.Size([400, 384])\n",
      "which_matrix= laplacian\n",
      "Without normalizing, Features Shape is torch.Size([400, 384])\n",
      "W_feat shape= (400, 400)\n",
      "W_comb shape=  (400, 400) D_comb shape (400, 400)\n"
     ]
    },
    {
     "name": "stderr",
     "output_type": "stream",
     "text": [
      " 98%|█████████▊| 98/100 [00:35<00:00,  3.75it/s]"
     ]
    },
    {
     "name": "stdout",
     "output_type": "stream",
     "text": [
      "eigenvalues shape torch.Size([20]) eigenvectors shape torch.Size([20, 400])\n",
      "98 /home/phdcs2/Hard_Disk/Datasets/Deep-Spectral-Segmentation/data/object-segmentation/ECSSD/features/dino_vits16/0099.pth\n",
      "dict_keys(['k', 'indices', 'file', 'id', 'model_name', 'patch_size', 'shape'])\n",
      "shape= (1, 3, 400, 267) k shape torch.Size([1, 400, 384]) patch_size= 16\n",
      "0099\n",
      "Skipping existing file /home/phdcs2/Hard_Disk/Datasets/Deep-Spectral-Segmentation/data/object-segmentation/ECSSD/eigs/laplacian/0099.pth\n",
      "torch.Size([400, 384])\n",
      "Without normalizing, Features Shape is torch.Size([400, 384])\n",
      "After normalization, Features Shape torch.Size([400, 384])\n",
      "which_matrix= laplacian\n",
      "Without normalizing, Features Shape is torch.Size([400, 384])\n",
      "W_feat shape= (400, 400)\n",
      "W_comb shape=  (400, 400) D_comb shape (400, 400)\n"
     ]
    },
    {
     "name": "stderr",
     "output_type": "stream",
     "text": [
      " 99%|█████████▉| 99/100 [00:35<00:00,  3.44it/s]"
     ]
    },
    {
     "name": "stdout",
     "output_type": "stream",
     "text": [
      "eigenvalues shape torch.Size([20]) eigenvectors shape torch.Size([20, 400])\n",
      "99 /home/phdcs2/Hard_Disk/Datasets/Deep-Spectral-Segmentation/data/object-segmentation/ECSSD/features/dino_vits16/0100.pth\n",
      "dict_keys(['k', 'indices', 'file', 'id', 'model_name', 'patch_size', 'shape'])\n",
      "shape= (1, 3, 400, 267) k shape torch.Size([1, 400, 384]) patch_size= 16\n",
      "0100\n",
      "Skipping existing file /home/phdcs2/Hard_Disk/Datasets/Deep-Spectral-Segmentation/data/object-segmentation/ECSSD/eigs/laplacian/0100.pth\n",
      "torch.Size([400, 384])\n",
      "Without normalizing, Features Shape is torch.Size([400, 384])\n",
      "After normalization, Features Shape torch.Size([400, 384])\n",
      "which_matrix= laplacian\n",
      "Without normalizing, Features Shape is torch.Size([400, 384])\n",
      "W_feat shape= (400, 400)\n",
      "W_comb shape=  (400, 400) D_comb shape (400, 400)\n"
     ]
    },
    {
     "name": "stderr",
     "output_type": "stream",
     "text": [
      "100%|██████████| 100/100 [00:36<00:00,  2.76it/s]"
     ]
    },
    {
     "name": "stdout",
     "output_type": "stream",
     "text": [
      "eigenvalues shape torch.Size([20]) eigenvectors shape torch.Size([20, 400])\n"
     ]
    },
    {
     "name": "stderr",
     "output_type": "stream",
     "text": [
      "\n"
     ]
    }
   ],
   "source": [
    "# utils.make_output_dir(output_dir)\n",
    "inputs = list(enumerate(sorted(Path(features_dir).iterdir())))\n",
    "for inp in tqdm(inputs[:100]):\n",
    "    index, features_file = inp\n",
    "    print(index, features_file)\n",
    "     # Load\n",
    "    data_dict = torch.load(features_file, map_location='cpu')\n",
    "    print(data_dict.keys())   #['k', 'indices', 'file', 'id', 'model_name', 'patch_size', 'shape']\n",
    "    print(\"shape=\", data_dict['shape'], \"k shape\", data_dict['k'].shape, \"patch_size=\", data_dict['patch_size'])\n",
    "    image_id = data_dict['file'][:-4]\n",
    "    print(image_id)\n",
    "    # Load\n",
    "    output_file = str(Path(output_dir) / f'{image_id}.pth')\n",
    "    if Path(output_file).is_file():\n",
    "        print(f'Skipping existing file {str(output_file)}')\n",
    "        # break\n",
    "        # return  # skip because already generated\n",
    "\n",
    "    # Load affinity matrix\n",
    "    feats = data_dict[which_features].squeeze().cuda()\n",
    "    print(feats.shape)\n",
    "    print(\"Without normalizing, Features Shape is\",feats.shape)\n",
    "    if normalize:\n",
    "        feats = F.normalize(feats, p=2, dim=-1)\n",
    "    print(\"After normalization, Features Shape\",feats.shape)\n",
    "    print(\"which_matrix=\", which_matrix)\n",
    "    # Eigenvectors of affinity matrix\n",
    "    if which_matrix == 'affinity_torch':\n",
    "        W = feats @ feats.T\n",
    "        print(\"W shape=\", W.shape)\n",
    "        if threshold_at_zero:\n",
    "            W = (W * (W > 0))\n",
    "            print(\"W shape=\", W.shape)\n",
    "        eigenvalues, eigenvectors = torch.eig(W, eigenvectors=True)\n",
    "        eigenvalues = eigenvalues.cpu()\n",
    "        eigenvectors = eigenvectors.cpu()\n",
    "        print(\"which matrix=\",which_matrix, \"eigenvalues shape\", eigenvalues.shape, \"eigenvectors shape\", eigenvectors.shape)\n",
    "\n",
    "\n",
    "    # Eigenvectors of affinity matrix with scipy\n",
    "    elif which_matrix == 'affinity_svd':\n",
    "        USV = torch.linalg.svd(feats, full_matrices=False)\n",
    "        eigenvectors = USV[0][:, :K].T.to('cpu', non_blocking=True)\n",
    "        eigenvalues = USV[1][:K].to('cpu', non_blocking=True)\n",
    "        print(\"which matrix=\",which_matrix,\"eigenvalues shape\", eigenvalues.shape, \"eigenvectors shape\", eigenvectors.shape)\n",
    "\n",
    "    # Eigenvectors of affinity matrix with scipy\n",
    "    elif which_matrix == 'affinity':\n",
    "        print(\"Without normalizing, Features Shape is\",feats.shape)\n",
    "        W = (feats @ feats.T)\n",
    "        print(\"W shape=\", W.shape)\n",
    "        if threshold_at_zero:\n",
    "            W = (W * (W > 0))\n",
    "        W = W.cpu().numpy()\n",
    "        print(\"W shape=\", W.shape)\n",
    "        eigenvalues, eigenvectors = eigsh(W, which='LM', k=K)\n",
    "        eigenvectors = torch.flip(torch.from_numpy(eigenvectors), dims=(-1,)).T\n",
    "        print(\"which matrix=\",which_matrix, \"eigenvalues shape\", eigenvalues.shape, \"eigenvectors shape\", eigenvectors.shape)\n",
    "\n",
    "    # Eigenvectors of matting laplacian matrix\n",
    "    elif which_matrix in ['matting_laplacian', 'laplacian']:\n",
    "\n",
    "        # Get sizes\n",
    "        B, C, H, W, P, H_patch, W_patch, H_pad, W_pad = utils.get_image_sizes(data_dict)\n",
    "        if image_downsample_factor is None:\n",
    "            image_downsample_factor = P\n",
    "        H_pad_lr, W_pad_lr = H_pad // image_downsample_factor, W_pad // image_downsample_factor\n",
    "\n",
    "        # Upscale features to match the resolution\n",
    "        if (H_patch, W_patch) != (H_pad_lr, W_pad_lr):\n",
    "            feats = F.interpolate(\n",
    "                feats.T.reshape(1, -1, H_patch, W_patch),\n",
    "                size=(H_pad_lr, W_pad_lr), mode='bilinear', align_corners=False\n",
    "            ).reshape(-1, H_pad_lr * W_pad_lr).T\n",
    "\n",
    "        ### Feature affinities\n",
    "        print(\"Without normalizing, Features Shape is\",feats.shape)\n",
    "        W_feat = (feats @ feats.T)\n",
    "        if threshold_at_zero:\n",
    "            W_feat = (W_feat * (W_feat > 0))\n",
    "        W_feat = W_feat / W_feat.max()  # NOTE: If features are normalized, this naturally does nothing\n",
    "        W_feat = W_feat.cpu().numpy()\n",
    "        print(\"W_feat shape=\",W_feat.shape)\n",
    "\n",
    "        ### Color affinities\n",
    "        # If we are fusing with color affinites, then load the image and compute\n",
    "        if image_color_lambda > 0:\n",
    "\n",
    "            # Load image\n",
    "            image_file = str(Path(images_root) / f'{image_id}.jpg')\n",
    "            image_lr = Image.open(image_file).resize((W_pad_lr, H_pad_lr), Image.BILINEAR)\n",
    "            image_lr = np.array(image_lr) / 255.\n",
    "\n",
    "            # Color affinities (of type scipy.sparse.csr_matrix)\n",
    "            if which_color_matrix == 'knn':\n",
    "                W_lr = utils.knn_affinity(image_lr / 255)\n",
    "            elif which_color_matrix == 'rw':\n",
    "                W_lr = utils.rw_affinity(image_lr / 255)\n",
    "\n",
    "            # Convert to dense numpy array\n",
    "            W_color = np.array(W_lr.todense().astype(np.float32))\n",
    "            print(\"W_color shape\", W_color.shape)\n",
    "\n",
    "        else:\n",
    "\n",
    "            # No color affinity\n",
    "            W_color = 0\n",
    "\n",
    "        # Combine\n",
    "        W_comb = W_feat + W_color * image_color_lambda  # combination\n",
    "        D_comb = np.array(utils.get_diagonal(W_comb).todense())  # is dense or sparse faster? not sure, should check\n",
    "        print(\"W_comb shape= \", W_comb.shape, \"D_comb shape\",  D_comb.shape)\n",
    "\n",
    "        # Extract eigenvectors\n",
    "        if lapnorm:\n",
    "            try:\n",
    "                eigenvalues, eigenvectors = eigsh(D_comb - W_comb, k=K, sigma=0, which='LM', M=D_comb)\n",
    "            except:\n",
    "                eigenvalues, eigenvectors = eigsh(D_comb - W_comb, k=K, which='SM', M=D_comb)\n",
    "        else:\n",
    "            try:\n",
    "                eigenvalues, eigenvectors = eigsh(D_comb - W_comb, k=K, sigma=0, which='LM')\n",
    "            except:\n",
    "                eigenvalues, eigenvectors = eigsh(D_comb - W_comb, k=K, which='SM')\n",
    "        eigenvalues, eigenvectors = torch.from_numpy(eigenvalues), torch.from_numpy(eigenvectors.T).float()\n",
    "    print(\"eigenvalues shape\", eigenvalues.shape, \"eigenvectors shape\", eigenvectors.shape)\n",
    "    # Sign ambiguity\n",
    "    for k in range(eigenvectors.shape[0]):\n",
    "        if 0.5 < torch.mean((eigenvectors[k] > 0).float()).item() < 1.0:  # reverse segment\n",
    "            eigenvectors[k] = 0 - eigenvectors[k]\n",
    "\n",
    "    # Save dict\n",
    "    output_dict = {'eigenvalues': eigenvalues, 'eigenvectors': eigenvectors}\n",
    "    torch.save(output_dict, output_file)"
   ]
  }
 ],
 "metadata": {
  "kernelspec": {
   "display_name": "Python 3 (ipykernel)",
   "language": "python",
   "name": "python3"
  },
  "language_info": {
   "codemirror_mode": {
    "name": "ipython",
    "version": 3
   },
   "file_extension": ".py",
   "mimetype": "text/x-python",
   "name": "python",
   "nbconvert_exporter": "python",
   "pygments_lexer": "ipython3",
   "version": "3.8.10"
  }
 },
 "nbformat": 4,
 "nbformat_minor": 1
}