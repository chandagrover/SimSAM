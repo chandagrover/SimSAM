{
 "cells": [
  {
   "cell_type": "code",
   "execution_count": 1,
   "metadata": {
    "pycharm": {
     "name": "#%%\n"
    }
   },
   "outputs": [],
   "source": [
    "# from functools import partial\n",
    "from pathlib import Path\n",
    "# from typing import Optional, Tuple\n",
    "# import cv2\n",
    "# import fire\n",
    "import numpy as np\n",
    "import torch\n",
    "import torch.nn.functional as F\n",
    "from accelerate import Accelerator\n",
    "from PIL import Image\n",
    "from scipy.sparse.linalg import eigsh\n",
    "# from sklearn.cluster import KMeans, MiniBatchKMeans\n",
    "from sklearn.decomposition import PCA\n",
    "# from torchvision.utils import draw_bounding_boxes\n",
    "from tqdm import tqdm\n",
    "import extract_utils as utils\n",
    "from torch.utils.data import Dataset, DataLoader\n",
    "from lightly.loss import NegativeCosineSimilarity\n",
    "from lightly.models.modules import SimSiamPredictionHead, SimSiamProjectionHead\n",
    "from torch import nn\n",
    "import torchvision\n",
    "from scipy.ndimage import affine_transform"
   ]
  },
  {
   "cell_type": "markdown",
   "metadata": {
    "pycharm": {
     "name": "#%% md\n"
    }
   },
   "source": [
    "## Extract Eigen Vectors"
   ]
  },
  {
   "cell_type": "code",
   "execution_count": 2,
   "metadata": {
    "pycharm": {
     "name": "#%%\n"
    }
   },
   "outputs": [],
   "source": [
    "images_root=\"/home/phdcs2/Hard_Disk/Datasets/Deep-Spectral-Segmentation/data/object-segmentation/ECSSD/images\"\n",
    "features_dir=\"/home/phdcs2/Hard_Disk/Datasets/Deep-Spectral-Segmentation/data/object-segmentation/ECSSD/features/dino_vits16\"\n",
    "output_dir=\"/home/phdcs2/Hard_Disk/Datasets/Deep-Spectral-Segmentation/data/object-segmentation/ECSSD/eigs_dot1PCA64pred_ds_10_submax_color8_alpha2\"\n",
    "which_matrix= 'laplacian'\n",
    "which_color_matrix= 'knn'\n",
    "which_features= 'k'\n",
    "normalize=True\n",
    "threshold_at_zero=True\n",
    "lapnorm= True\n",
    "K= 5\n",
    "image_downsample_factor = None\n",
    "image_color_lambda = 8.0\n",
    "multiprocessing = 0\n",
    "batch_size=2\n",
    "epochs=10"
   ]
  },
  {
   "cell_type": "markdown",
   "metadata": {
    "pycharm": {
     "name": "#%% md\n"
    }
   },
   "source": [
    "## Incorporating SimSiam"
   ]
  },
  {
   "cell_type": "code",
   "execution_count": 3,
   "metadata": {
    "pycharm": {
     "name": "#%%\n"
    }
   },
   "outputs": [],
   "source": [
    "# Define a custom dataset class\n",
    "class Feature_Dataset(Dataset):\n",
    "    def __init__(self, features):\n",
    "        self.features = features\n",
    "\n",
    "    def __getitem__(self, index):\n",
    "        return self.features[index]\n",
    "\n",
    "    def __len__(self):\n",
    "        return len(self.features)"
   ]
  },
  {
   "cell_type": "code",
   "execution_count": 4,
   "metadata": {
    "pycharm": {
     "name": "#%%\n"
    }
   },
   "outputs": [],
   "source": [
    "# class SimSiam(nn.Module):\n",
    "#     def __init__(self):\n",
    "#         super().__init__()\n",
    "#         self.projection_head = SimSiamProjectionHead(feats.shape[1], 128,feats.shape[1])\n",
    "#         self.prediction_head = SimSiamPredictionHead(feats.shape[1], 128, feats.shape[1])\n",
    "#\n",
    "#     def forward(self, x):\n",
    "#         z = self.projection_head(x)\n",
    "#         p = self.prediction_head(z)\n",
    "#         z = z.detach()\n",
    "#         return z, p"
   ]
  },
  {
   "cell_type": "code",
   "execution_count": 5,
   "metadata": {
    "pycharm": {
     "name": "#%%\n"
    }
   },
   "outputs": [],
   "source": [
    "# def normalize_affinity_matrix(affinity_matrix, axis=0):\n",
    "#     if axis == 1:\n",
    "#         # Normalize by row-wise sums\n",
    "#         row_sums = torch.sum(affinity_matrix, dim=1, keepdim=True)\n",
    "#         print(row_sums)\n",
    "#         normalized_matrix = affinity_matrix / row_sums\n",
    "#     elif axis == 0:\n",
    "#         # Normalize by column-wise sums\n",
    "#         col_sums = torch.sum(affinity_matrix, dim=0, keepdim=True)\n",
    "#         normalized_matrix = affinity_matrix / col_sums\n",
    "#     else:\n",
    "#         raise ValueError(\"Invalid axis. Axis must be either 0 or 1.\")\n",
    "\n",
    "#     return normalized_matrix"
   ]
  },
  {
   "cell_type": "code",
   "execution_count": 6,
   "metadata": {
    "pycharm": {
     "is_executing": true,
     "name": "#%%\n"
    }
   },
   "outputs": [
    {
     "name": "stderr",
     "output_type": "stream",
     "text": [
      "\r",
      "  0%|                                                                                                                                                                             | 0/1000 [00:00<?, ?it/s]"
     ]
    },
    {
     "name": "stdout",
     "output_type": "stream",
     "text": [
      "0 /home/phdcs2/Hard_Disk/Datasets/Deep-Spectral-Segmentation/data/object-segmentation/ECSSD/features/dino_vits16/0001.pth\n",
      "dict_keys(['k', 'indices', 'file', 'id', 'model_name', 'patch_size', 'shape'])\n",
      "0001\n",
      "Starting Training\n",
      "epoch: 00, loss: -0.01908\n",
      "epoch: 01, loss: -0.03783\n",
      "epoch: 02, loss: -0.04181\n",
      "epoch: 03, loss: -0.04456\n",
      "epoch: 04, loss: -0.04660\n",
      "epoch: 05, loss: -0.04662\n",
      "epoch: 06, loss: -0.04446\n",
      "epoch: 07, loss: -0.04450\n",
      "epoch: 08, loss: -0.04684\n",
      "epoch: 09, loss: -0.04575\n",
      "torch.Size([400, 64])\n"
     ]
    },
    {
     "name": "stderr",
     "output_type": "stream",
     "text": [
      "\r",
      "  0%|▏                                                                                                                                                                  | 1/1000 [00:16<4:40:57, 16.87s/it]"
     ]
    },
    {
     "name": "stdout",
     "output_type": "stream",
     "text": [
      "eigenvalues shape torch.Size([5]) eigenvectors shape torch.Size([5, 400])\n",
      "1 /home/phdcs2/Hard_Disk/Datasets/Deep-Spectral-Segmentation/data/object-segmentation/ECSSD/features/dino_vits16/0002.pth\n",
      "dict_keys(['k', 'indices', 'file', 'id', 'model_name', 'patch_size', 'shape'])\n",
      "0002\n",
      "Starting Training\n",
      "epoch: 00, loss: -0.02728\n",
      "epoch: 01, loss: -0.05352\n",
      "epoch: 02, loss: -0.06085\n",
      "epoch: 03, loss: -0.05992\n",
      "epoch: 04, loss: -0.06110\n",
      "epoch: 05, loss: -0.06266\n",
      "epoch: 06, loss: -0.06266\n",
      "epoch: 07, loss: -0.06219\n",
      "epoch: 08, loss: -0.06169\n",
      "epoch: 09, loss: -0.06504\n",
      "torch.Size([400, 64])\n"
     ]
    },
    {
     "name": "stderr",
     "output_type": "stream",
     "text": [
      "\r",
      "  0%|▎                                                                                                                                                                  | 2/1000 [00:32<4:30:54, 16.29s/it]"
     ]
    },
    {
     "name": "stdout",
     "output_type": "stream",
     "text": [
      "eigenvalues shape torch.Size([5]) eigenvectors shape torch.Size([5, 400])\n",
      "2 /home/phdcs2/Hard_Disk/Datasets/Deep-Spectral-Segmentation/data/object-segmentation/ECSSD/features/dino_vits16/0003.pth\n",
      "dict_keys(['k', 'indices', 'file', 'id', 'model_name', 'patch_size', 'shape'])\n",
      "0003\n",
      "Starting Training\n",
      "epoch: 00, loss: -0.01989\n",
      "epoch: 01, loss: -0.03646\n",
      "epoch: 02, loss: -0.03880\n",
      "epoch: 03, loss: -0.03967\n",
      "epoch: 04, loss: -0.03991\n",
      "epoch: 05, loss: -0.04035\n",
      "epoch: 06, loss: -0.04046\n",
      "epoch: 07, loss: -0.04045\n",
      "epoch: 08, loss: -0.04074\n",
      "epoch: 09, loss: -0.04086\n",
      "torch.Size([400, 64])\n"
     ]
    },
    {
     "name": "stderr",
     "output_type": "stream",
     "text": [
      "\r",
      "  0%|▍                                                                                                                                                                  | 3/1000 [00:48<4:24:14, 15.90s/it]"
     ]
    },
    {
     "name": "stdout",
     "output_type": "stream",
     "text": [
      "eigenvalues shape torch.Size([5]) eigenvectors shape torch.Size([5, 400])\n",
      "3 /home/phdcs2/Hard_Disk/Datasets/Deep-Spectral-Segmentation/data/object-segmentation/ECSSD/features/dino_vits16/0004.pth\n",
      "dict_keys(['k', 'indices', 'file', 'id', 'model_name', 'patch_size', 'shape'])\n",
      "0004\n",
      "Starting Training\n",
      "epoch: 00, loss: -0.05126\n",
      "epoch: 01, loss: -0.07924\n",
      "epoch: 02, loss: -0.08512\n",
      "epoch: 03, loss: -0.08553\n",
      "epoch: 04, loss: -0.08223\n",
      "epoch: 05, loss: -0.08560\n",
      "epoch: 06, loss: -0.08783\n",
      "epoch: 07, loss: -0.08853\n",
      "epoch: 08, loss: -0.08438\n",
      "epoch: 09, loss: -0.08760\n",
      "torch.Size([400, 64])\n"
     ]
    },
    {
     "name": "stderr",
     "output_type": "stream",
     "text": [
      "\r",
      "  0%|▋                                                                                                                                                                  | 4/1000 [01:02<4:11:31, 15.15s/it]"
     ]
    },
    {
     "name": "stdout",
     "output_type": "stream",
     "text": [
      "eigenvalues shape torch.Size([5]) eigenvectors shape torch.Size([5, 400])\n",
      "4 /home/phdcs2/Hard_Disk/Datasets/Deep-Spectral-Segmentation/data/object-segmentation/ECSSD/features/dino_vits16/0005.pth\n",
      "dict_keys(['k', 'indices', 'file', 'id', 'model_name', 'patch_size', 'shape'])\n",
      "0005\n",
      "Starting Training\n",
      "epoch: 00, loss: -0.02120\n",
      "epoch: 01, loss: -0.03802\n",
      "epoch: 02, loss: -0.04104\n",
      "epoch: 03, loss: -0.04161\n",
      "epoch: 04, loss: -0.04210\n",
      "epoch: 05, loss: -0.04233\n",
      "epoch: 06, loss: -0.04241\n",
      "epoch: 07, loss: -0.04257\n",
      "epoch: 08, loss: -0.04278\n",
      "epoch: 09, loss: -0.04275\n",
      "torch.Size([400, 64])\n"
     ]
    },
    {
     "name": "stderr",
     "output_type": "stream",
     "text": [
      "\r",
      "  0%|▊                                                                                                                                                                  | 5/1000 [01:16<4:05:38, 14.81s/it]"
     ]
    },
    {
     "name": "stdout",
     "output_type": "stream",
     "text": [
      "eigenvalues shape torch.Size([5]) eigenvectors shape torch.Size([5, 400])\n",
      "5 /home/phdcs2/Hard_Disk/Datasets/Deep-Spectral-Segmentation/data/object-segmentation/ECSSD/features/dino_vits16/0006.pth\n",
      "dict_keys(['k', 'indices', 'file', 'id', 'model_name', 'patch_size', 'shape'])\n",
      "0006\n",
      "Starting Training\n",
      "epoch: 00, loss: -0.03212\n",
      "epoch: 01, loss: -0.05369\n",
      "epoch: 02, loss: -0.05602\n",
      "epoch: 03, loss: -0.05617\n",
      "epoch: 04, loss: -0.05642\n",
      "epoch: 05, loss: -0.05672\n",
      "epoch: 06, loss: -0.05685\n",
      "epoch: 07, loss: -0.05670\n",
      "epoch: 08, loss: -0.05722\n",
      "epoch: 09, loss: -0.05713\n",
      "torch.Size([400, 64])\n"
     ]
    },
    {
     "name": "stderr",
     "output_type": "stream",
     "text": [
      "\r",
      "  1%|▉                                                                                                                                                                  | 6/1000 [01:29<3:53:14, 14.08s/it]"
     ]
    },
    {
     "name": "stdout",
     "output_type": "stream",
     "text": [
      "eigenvalues shape torch.Size([5]) eigenvectors shape torch.Size([5, 400])\n",
      "6 /home/phdcs2/Hard_Disk/Datasets/Deep-Spectral-Segmentation/data/object-segmentation/ECSSD/features/dino_vits16/0007.pth\n",
      "dict_keys(['k', 'indices', 'file', 'id', 'model_name', 'patch_size', 'shape'])\n",
      "0007\n",
      "Starting Training\n",
      "epoch: 00, loss: -0.03517\n",
      "epoch: 01, loss: -0.07053\n",
      "epoch: 02, loss: -0.07281\n",
      "epoch: 03, loss: -0.07656\n",
      "epoch: 04, loss: -0.07529\n",
      "epoch: 05, loss: -0.07453\n",
      "epoch: 06, loss: -0.07688\n",
      "epoch: 07, loss: -0.07574\n",
      "epoch: 08, loss: -0.07805\n",
      "epoch: 09, loss: -0.07788\n",
      "torch.Size([400, 64])\n"
     ]
    },
    {
     "name": "stderr",
     "output_type": "stream",
     "text": [
      "\r",
      "  1%|█▏                                                                                                                                                                 | 7/1000 [01:44<4:00:48, 14.55s/it]"
     ]
    },
    {
     "name": "stdout",
     "output_type": "stream",
     "text": [
      "eigenvalues shape torch.Size([5]) eigenvectors shape torch.Size([5, 400])\n",
      "7 /home/phdcs2/Hard_Disk/Datasets/Deep-Spectral-Segmentation/data/object-segmentation/ECSSD/features/dino_vits16/0008.pth\n",
      "dict_keys(['k', 'indices', 'file', 'id', 'model_name', 'patch_size', 'shape'])\n",
      "0008\n",
      "Starting Training\n",
      "epoch: 00, loss: -0.00086\n",
      "epoch: 01, loss: -0.01279\n",
      "epoch: 02, loss: -0.01752\n",
      "epoch: 03, loss: -0.01942\n",
      "epoch: 04, loss: -0.02042\n",
      "epoch: 05, loss: -0.02103\n",
      "epoch: 06, loss: -0.02127\n",
      "epoch: 07, loss: -0.02160\n",
      "epoch: 08, loss: -0.02176\n",
      "epoch: 09, loss: -0.02187\n",
      "torch.Size([400, 64])\n"
     ]
    },
    {
     "name": "stderr",
     "output_type": "stream",
     "text": [
      "\r",
      "  1%|█▎                                                                                                                                                                 | 8/1000 [01:59<4:04:06, 14.76s/it]"
     ]
    },
    {
     "name": "stdout",
     "output_type": "stream",
     "text": [
      "eigenvalues shape torch.Size([5]) eigenvectors shape torch.Size([5, 400])\n",
      "8 /home/phdcs2/Hard_Disk/Datasets/Deep-Spectral-Segmentation/data/object-segmentation/ECSSD/features/dino_vits16/0009.pth\n",
      "dict_keys(['k', 'indices', 'file', 'id', 'model_name', 'patch_size', 'shape'])\n",
      "0009\n",
      "Starting Training\n",
      "epoch: 00, loss: -0.03471\n",
      "epoch: 01, loss: -0.05079\n",
      "epoch: 02, loss: -0.05177\n",
      "epoch: 03, loss: -0.05230\n",
      "epoch: 04, loss: -0.05254\n",
      "epoch: 05, loss: -0.05259\n",
      "epoch: 06, loss: -0.05302\n",
      "epoch: 07, loss: -0.05300\n",
      "epoch: 08, loss: -0.05316\n",
      "epoch: 09, loss: -0.05321\n",
      "torch.Size([400, 64])\n"
     ]
    },
    {
     "name": "stderr",
     "output_type": "stream",
     "text": [
      "\r",
      "  1%|█▍                                                                                                                                                                 | 9/1000 [02:12<3:52:13, 14.06s/it]"
     ]
    },
    {
     "name": "stdout",
     "output_type": "stream",
     "text": [
      "eigenvalues shape torch.Size([5]) eigenvectors shape torch.Size([5, 400])\n",
      "9 /home/phdcs2/Hard_Disk/Datasets/Deep-Spectral-Segmentation/data/object-segmentation/ECSSD/features/dino_vits16/0010.pth\n",
      "dict_keys(['k', 'indices', 'file', 'id', 'model_name', 'patch_size', 'shape'])\n",
      "0010\n",
      "Starting Training\n",
      "epoch: 00, loss: -0.00461\n",
      "epoch: 01, loss: -0.01979\n",
      "epoch: 02, loss: -0.02444\n",
      "epoch: 03, loss: -0.02600\n",
      "epoch: 04, loss: -0.02658\n",
      "epoch: 05, loss: -0.02702\n",
      "epoch: 06, loss: -0.02734\n",
      "epoch: 07, loss: -0.02759\n",
      "epoch: 08, loss: -0.02750\n",
      "epoch: 09, loss: -0.02759\n",
      "torch.Size([400, 64])\n"
     ]
    },
    {
     "name": "stderr",
     "output_type": "stream",
     "text": [
      "\r",
      "  1%|█▌                                                                                                                                                                | 10/1000 [02:28<4:04:32, 14.82s/it]"
     ]
    },
    {
     "name": "stdout",
     "output_type": "stream",
     "text": [
      "eigenvalues shape torch.Size([5]) eigenvectors shape torch.Size([5, 400])\n",
      "10 /home/phdcs2/Hard_Disk/Datasets/Deep-Spectral-Segmentation/data/object-segmentation/ECSSD/features/dino_vits16/0011.pth\n",
      "dict_keys(['k', 'indices', 'file', 'id', 'model_name', 'patch_size', 'shape'])\n",
      "0011\n",
      "Starting Training\n",
      "epoch: 00, loss: -0.04102\n",
      "epoch: 01, loss: -0.06553\n",
      "epoch: 02, loss: -0.06728\n",
      "epoch: 03, loss: -0.06790\n",
      "epoch: 04, loss: -0.06842\n",
      "epoch: 05, loss: -0.06889\n",
      "epoch: 06, loss: -0.06905\n",
      "epoch: 07, loss: -0.06901\n",
      "epoch: 08, loss: -0.06922\n",
      "epoch: 09, loss: -0.06947\n",
      "torch.Size([400, 64])\n"
     ]
    },
    {
     "name": "stderr",
     "output_type": "stream",
     "text": [
      "\r",
      "  1%|█▊                                                                                                                                                                | 11/1000 [02:42<3:57:35, 14.41s/it]"
     ]
    },
    {
     "name": "stdout",
     "output_type": "stream",
     "text": [
      "eigenvalues shape torch.Size([5]) eigenvectors shape torch.Size([5, 400])\n",
      "11 /home/phdcs2/Hard_Disk/Datasets/Deep-Spectral-Segmentation/data/object-segmentation/ECSSD/features/dino_vits16/0012.pth\n",
      "dict_keys(['k', 'indices', 'file', 'id', 'model_name', 'patch_size', 'shape'])\n",
      "0012\n",
      "Starting Training\n",
      "epoch: 00, loss: -0.02030\n",
      "epoch: 01, loss: -0.04456\n",
      "epoch: 02, loss: -0.05106\n",
      "epoch: 03, loss: -0.05471\n",
      "epoch: 04, loss: -0.05435\n",
      "epoch: 05, loss: -0.05670\n",
      "epoch: 06, loss: -0.05485\n",
      "epoch: 07, loss: -0.05668\n",
      "epoch: 08, loss: -0.05670\n",
      "epoch: 09, loss: -0.05619\n",
      "torch.Size([400, 64])\n"
     ]
    },
    {
     "name": "stderr",
     "output_type": "stream",
     "text": [
      "\r",
      "  1%|█▉                                                                                                                                                                | 12/1000 [03:01<4:22:41, 15.95s/it]"
     ]
    },
    {
     "name": "stdout",
     "output_type": "stream",
     "text": [
      "eigenvalues shape torch.Size([5]) eigenvectors shape torch.Size([5, 400])\n",
      "12 /home/phdcs2/Hard_Disk/Datasets/Deep-Spectral-Segmentation/data/object-segmentation/ECSSD/features/dino_vits16/0013.pth\n",
      "dict_keys(['k', 'indices', 'file', 'id', 'model_name', 'patch_size', 'shape'])\n",
      "0013\n",
      "Starting Training\n",
      "epoch: 00, loss: -0.00858\n",
      "epoch: 01, loss: -0.02517\n",
      "epoch: 02, loss: -0.02991\n",
      "epoch: 03, loss: -0.03120\n",
      "epoch: 04, loss: -0.03184\n",
      "epoch: 05, loss: -0.03224\n",
      "epoch: 06, loss: -0.03246\n",
      "epoch: 07, loss: -0.03269\n",
      "epoch: 08, loss: -0.03283\n",
      "epoch: 09, loss: -0.03290\n",
      "torch.Size([400, 64])\n"
     ]
    },
    {
     "name": "stderr",
     "output_type": "stream",
     "text": [
      "\r",
      "  1%|██                                                                                                                                                                | 13/1000 [03:16<4:15:09, 15.51s/it]"
     ]
    },
    {
     "name": "stdout",
     "output_type": "stream",
     "text": [
      "eigenvalues shape torch.Size([5]) eigenvectors shape torch.Size([5, 400])\n",
      "13 /home/phdcs2/Hard_Disk/Datasets/Deep-Spectral-Segmentation/data/object-segmentation/ECSSD/features/dino_vits16/0014.pth\n",
      "dict_keys(['k', 'indices', 'file', 'id', 'model_name', 'patch_size', 'shape'])\n",
      "0014\n",
      "Starting Training\n",
      "epoch: 00, loss: -0.02294\n",
      "epoch: 01, loss: -0.04409\n",
      "epoch: 02, loss: -0.05130\n",
      "epoch: 03, loss: -0.05302\n",
      "epoch: 04, loss: -0.05343\n",
      "epoch: 05, loss: -0.05558\n",
      "epoch: 06, loss: -0.05393\n",
      "epoch: 07, loss: -0.05577\n",
      "epoch: 08, loss: -0.05493\n",
      "epoch: 09, loss: -0.05793\n",
      "torch.Size([400, 64])\n"
     ]
    },
    {
     "name": "stderr",
     "output_type": "stream",
     "text": [
      "\r",
      "  1%|██▎                                                                                                                                                               | 14/1000 [03:29<4:05:21, 14.93s/it]"
     ]
    },
    {
     "name": "stdout",
     "output_type": "stream",
     "text": [
      "eigenvalues shape torch.Size([5]) eigenvectors shape torch.Size([5, 400])\n",
      "14 /home/phdcs2/Hard_Disk/Datasets/Deep-Spectral-Segmentation/data/object-segmentation/ECSSD/features/dino_vits16/0015.pth\n",
      "dict_keys(['k', 'indices', 'file', 'id', 'model_name', 'patch_size', 'shape'])\n",
      "0015\n",
      "Starting Training\n",
      "epoch: 00, loss: -0.03604\n",
      "epoch: 01, loss: -0.07207\n",
      "epoch: 02, loss: -0.07966\n",
      "epoch: 03, loss: -0.08023\n",
      "epoch: 04, loss: -0.08472\n",
      "epoch: 05, loss: -0.08189\n",
      "epoch: 06, loss: -0.08609\n",
      "epoch: 07, loss: -0.08570\n",
      "epoch: 08, loss: -0.08866\n",
      "epoch: 09, loss: -0.08792\n",
      "torch.Size([400, 64])\n"
     ]
    },
    {
     "name": "stderr",
     "output_type": "stream",
     "text": [
      "\r",
      "  2%|██▍                                                                                                                                                               | 15/1000 [03:42<3:51:16, 14.09s/it]"
     ]
    },
    {
     "name": "stdout",
     "output_type": "stream",
     "text": [
      "eigenvalues shape torch.Size([5]) eigenvectors shape torch.Size([5, 400])\n",
      "15 /home/phdcs2/Hard_Disk/Datasets/Deep-Spectral-Segmentation/data/object-segmentation/ECSSD/features/dino_vits16/0016.pth\n",
      "dict_keys(['k', 'indices', 'file', 'id', 'model_name', 'patch_size', 'shape'])\n",
      "0016\n",
      "Starting Training\n",
      "epoch: 00, loss: -0.03784\n",
      "epoch: 01, loss: -0.06596\n",
      "epoch: 02, loss: -0.07171\n",
      "epoch: 03, loss: -0.07280\n",
      "epoch: 04, loss: -0.07280\n",
      "epoch: 05, loss: -0.07321\n",
      "epoch: 06, loss: -0.07470\n",
      "epoch: 07, loss: -0.07524\n",
      "epoch: 08, loss: -0.07553\n",
      "epoch: 09, loss: -0.07596\n",
      "torch.Size([400, 64])\n"
     ]
    },
    {
     "name": "stderr",
     "output_type": "stream",
     "text": [
      "\r",
      "  2%|██▌                                                                                                                                                               | 16/1000 [03:55<3:50:12, 14.04s/it]"
     ]
    },
    {
     "name": "stdout",
     "output_type": "stream",
     "text": [
      "eigenvalues shape torch.Size([5]) eigenvectors shape torch.Size([5, 400])\n",
      "16 /home/phdcs2/Hard_Disk/Datasets/Deep-Spectral-Segmentation/data/object-segmentation/ECSSD/features/dino_vits16/0017.pth\n",
      "dict_keys(['k', 'indices', 'file', 'id', 'model_name', 'patch_size', 'shape'])\n",
      "0017\n",
      "Starting Training\n",
      "epoch: 00, loss: -0.08349\n",
      "epoch: 01, loss: -0.12285\n",
      "epoch: 02, loss: -0.13107\n",
      "epoch: 03, loss: -0.13033\n",
      "epoch: 04, loss: -0.13258\n",
      "epoch: 05, loss: -0.13184\n",
      "epoch: 06, loss: -0.13607\n",
      "epoch: 07, loss: -0.13550\n",
      "epoch: 08, loss: -0.13590\n",
      "epoch: 09, loss: -0.13649\n",
      "torch.Size([400, 64])\n"
     ]
    },
    {
     "name": "stderr",
     "output_type": "stream",
     "text": [
      "\r",
      "  2%|██▊                                                                                                                                                               | 17/1000 [04:12<4:03:09, 14.84s/it]"
     ]
    },
    {
     "name": "stdout",
     "output_type": "stream",
     "text": [
      "eigenvalues shape torch.Size([5]) eigenvectors shape torch.Size([5, 400])\n",
      "17 /home/phdcs2/Hard_Disk/Datasets/Deep-Spectral-Segmentation/data/object-segmentation/ECSSD/features/dino_vits16/0018.pth\n",
      "dict_keys(['k', 'indices', 'file', 'id', 'model_name', 'patch_size', 'shape'])\n",
      "0018\n",
      "Starting Training\n",
      "epoch: 00, loss: -0.08073\n",
      "epoch: 01, loss: -0.10884\n",
      "epoch: 02, loss: -0.11205\n",
      "epoch: 03, loss: -0.11310\n",
      "epoch: 04, loss: -0.11397\n",
      "epoch: 05, loss: -0.11345\n",
      "epoch: 06, loss: -0.11358\n",
      "epoch: 07, loss: -0.11709\n",
      "epoch: 08, loss: -0.11484\n",
      "epoch: 09, loss: -0.11542\n",
      "torch.Size([400, 64])\n"
     ]
    },
    {
     "name": "stderr",
     "output_type": "stream",
     "text": [
      "\r",
      "  2%|██▉                                                                                                                                                               | 18/1000 [04:29<4:14:38, 15.56s/it]"
     ]
    },
    {
     "name": "stdout",
     "output_type": "stream",
     "text": [
      "eigenvalues shape torch.Size([5]) eigenvectors shape torch.Size([5, 400])\n",
      "18 /home/phdcs2/Hard_Disk/Datasets/Deep-Spectral-Segmentation/data/object-segmentation/ECSSD/features/dino_vits16/0019.pth\n",
      "dict_keys(['k', 'indices', 'file', 'id', 'model_name', 'patch_size', 'shape'])\n",
      "0019\n",
      "Starting Training\n",
      "epoch: 00, loss: -0.02877\n",
      "epoch: 01, loss: -0.05338\n",
      "epoch: 02, loss: -0.05683\n",
      "epoch: 03, loss: -0.05772\n",
      "epoch: 04, loss: -0.06264\n",
      "epoch: 05, loss: -0.05925\n",
      "epoch: 06, loss: -0.06131\n",
      "epoch: 07, loss: -0.06372\n",
      "epoch: 08, loss: -0.06150\n",
      "epoch: 09, loss: -0.06423\n",
      "torch.Size([400, 64])\n"
     ]
    },
    {
     "name": "stderr",
     "output_type": "stream",
     "text": [
      "\r",
      "  2%|███                                                                                                                                                               | 19/1000 [04:45<4:14:05, 15.54s/it]"
     ]
    },
    {
     "name": "stdout",
     "output_type": "stream",
     "text": [
      "eigenvalues shape torch.Size([5]) eigenvectors shape torch.Size([5, 400])\n",
      "19 /home/phdcs2/Hard_Disk/Datasets/Deep-Spectral-Segmentation/data/object-segmentation/ECSSD/features/dino_vits16/0020.pth\n",
      "dict_keys(['k', 'indices', 'file', 'id', 'model_name', 'patch_size', 'shape'])\n",
      "0020\n",
      "Starting Training\n",
      "epoch: 00, loss: -0.03278\n",
      "epoch: 01, loss: -0.06144\n",
      "epoch: 02, loss: -0.06294\n",
      "epoch: 03, loss: -0.06353\n",
      "epoch: 04, loss: -0.06351\n",
      "epoch: 05, loss: -0.06381\n",
      "epoch: 06, loss: -0.06403\n",
      "epoch: 07, loss: -0.06416\n",
      "epoch: 08, loss: -0.06424\n",
      "epoch: 09, loss: -0.06436\n",
      "torch.Size([400, 64])\n"
     ]
    },
    {
     "name": "stderr",
     "output_type": "stream",
     "text": [
      "\r",
      "  2%|███▏                                                                                                                                                              | 20/1000 [05:02<4:20:15, 15.93s/it]"
     ]
    },
    {
     "name": "stdout",
     "output_type": "stream",
     "text": [
      "eigenvalues shape torch.Size([5]) eigenvectors shape torch.Size([5, 400])\n",
      "20 /home/phdcs2/Hard_Disk/Datasets/Deep-Spectral-Segmentation/data/object-segmentation/ECSSD/features/dino_vits16/0021.pth\n",
      "dict_keys(['k', 'indices', 'file', 'id', 'model_name', 'patch_size', 'shape'])\n",
      "0021\n",
      "Starting Training\n",
      "epoch: 00, loss: -0.06256\n",
      "epoch: 01, loss: -0.08658\n",
      "epoch: 02, loss: -0.09140\n",
      "epoch: 03, loss: -0.09413\n",
      "epoch: 04, loss: -0.09161\n",
      "epoch: 05, loss: -0.09561\n",
      "epoch: 06, loss: -0.09314\n",
      "epoch: 07, loss: -0.09479\n",
      "epoch: 08, loss: -0.09578\n",
      "epoch: 09, loss: -0.09635\n",
      "torch.Size([400, 64])\n"
     ]
    },
    {
     "name": "stderr",
     "output_type": "stream",
     "text": [
      "\r",
      "  2%|███▍                                                                                                                                                              | 21/1000 [05:19<4:28:02, 16.43s/it]"
     ]
    },
    {
     "name": "stdout",
     "output_type": "stream",
     "text": [
      "eigenvalues shape torch.Size([5]) eigenvectors shape torch.Size([5, 400])\n",
      "21 /home/phdcs2/Hard_Disk/Datasets/Deep-Spectral-Segmentation/data/object-segmentation/ECSSD/features/dino_vits16/0022.pth\n",
      "dict_keys(['k', 'indices', 'file', 'id', 'model_name', 'patch_size', 'shape'])\n",
      "0022\n",
      "Starting Training\n",
      "epoch: 00, loss: -0.07052\n",
      "epoch: 01, loss: -0.10124\n",
      "epoch: 02, loss: -0.10558\n",
      "epoch: 03, loss: -0.10715\n",
      "epoch: 04, loss: -0.10726\n",
      "epoch: 05, loss: -0.10934\n",
      "epoch: 06, loss: -0.10980\n",
      "epoch: 07, loss: -0.10995\n",
      "epoch: 08, loss: -0.11003\n",
      "epoch: 09, loss: -0.11017\n",
      "torch.Size([400, 64])\n"
     ]
    },
    {
     "name": "stderr",
     "output_type": "stream",
     "text": [
      "\r",
      "  2%|███▌                                                                                                                                                              | 22/1000 [05:36<4:30:07, 16.57s/it]"
     ]
    },
    {
     "name": "stdout",
     "output_type": "stream",
     "text": [
      "eigenvalues shape torch.Size([5]) eigenvectors shape torch.Size([5, 400])\n",
      "22 /home/phdcs2/Hard_Disk/Datasets/Deep-Spectral-Segmentation/data/object-segmentation/ECSSD/features/dino_vits16/0023.pth\n",
      "dict_keys(['k', 'indices', 'file', 'id', 'model_name', 'patch_size', 'shape'])\n",
      "0023\n",
      "Starting Training\n",
      "epoch: 00, loss: -0.02992\n",
      "epoch: 01, loss: -0.05006\n",
      "epoch: 02, loss: -0.05180\n",
      "epoch: 03, loss: -0.05227\n",
      "epoch: 04, loss: -0.05251\n",
      "epoch: 05, loss: -0.05299\n",
      "epoch: 06, loss: -0.05305\n",
      "epoch: 07, loss: -0.05305\n",
      "epoch: 08, loss: -0.05334\n",
      "epoch: 09, loss: -0.05327\n",
      "torch.Size([400, 64])\n"
     ]
    },
    {
     "name": "stderr",
     "output_type": "stream",
     "text": [
      "\r",
      "  2%|███▋                                                                                                                                                              | 23/1000 [05:52<4:28:23, 16.48s/it]"
     ]
    },
    {
     "name": "stdout",
     "output_type": "stream",
     "text": [
      "eigenvalues shape torch.Size([5]) eigenvectors shape torch.Size([5, 400])\n",
      "23 /home/phdcs2/Hard_Disk/Datasets/Deep-Spectral-Segmentation/data/object-segmentation/ECSSD/features/dino_vits16/0024.pth\n",
      "dict_keys(['k', 'indices', 'file', 'id', 'model_name', 'patch_size', 'shape'])\n",
      "0024\n",
      "Starting Training\n",
      "epoch: 00, loss: -0.02382\n",
      "epoch: 01, loss: -0.05429\n",
      "epoch: 02, loss: -0.06638\n",
      "epoch: 03, loss: -0.06585\n",
      "epoch: 04, loss: -0.06793\n",
      "epoch: 05, loss: -0.07043\n",
      "epoch: 06, loss: -0.06964\n",
      "epoch: 07, loss: -0.06961\n",
      "epoch: 08, loss: -0.06915\n",
      "epoch: 09, loss: -0.06973\n",
      "torch.Size([400, 64])\n"
     ]
    },
    {
     "name": "stderr",
     "output_type": "stream",
     "text": [
      "\r",
      "  2%|███▉                                                                                                                                                              | 24/1000 [06:10<4:34:14, 16.86s/it]"
     ]
    },
    {
     "name": "stdout",
     "output_type": "stream",
     "text": [
      "eigenvalues shape torch.Size([5]) eigenvectors shape torch.Size([5, 400])\n",
      "24 /home/phdcs2/Hard_Disk/Datasets/Deep-Spectral-Segmentation/data/object-segmentation/ECSSD/features/dino_vits16/0025.pth\n",
      "dict_keys(['k', 'indices', 'file', 'id', 'model_name', 'patch_size', 'shape'])\n",
      "0025\n",
      "Starting Training\n",
      "epoch: 00, loss: -0.02240\n",
      "epoch: 01, loss: -0.04048\n",
      "epoch: 02, loss: -0.04283\n",
      "epoch: 03, loss: -0.04371\n",
      "epoch: 04, loss: -0.04417\n",
      "epoch: 05, loss: -0.04422\n",
      "epoch: 06, loss: -0.04443\n",
      "epoch: 07, loss: -0.04461\n",
      "epoch: 08, loss: -0.04501\n",
      "epoch: 09, loss: -0.04482\n",
      "torch.Size([400, 64])\n"
     ]
    },
    {
     "name": "stderr",
     "output_type": "stream",
     "text": [
      "\r",
      "  2%|████                                                                                                                                                              | 25/1000 [06:28<4:40:04, 17.24s/it]"
     ]
    },
    {
     "name": "stdout",
     "output_type": "stream",
     "text": [
      "eigenvalues shape torch.Size([5]) eigenvectors shape torch.Size([5, 400])\n",
      "25 /home/phdcs2/Hard_Disk/Datasets/Deep-Spectral-Segmentation/data/object-segmentation/ECSSD/features/dino_vits16/0026.pth\n",
      "dict_keys(['k', 'indices', 'file', 'id', 'model_name', 'patch_size', 'shape'])\n",
      "0026\n",
      "Starting Training\n",
      "epoch: 00, loss: -0.23204\n",
      "epoch: 01, loss: -0.27606\n",
      "epoch: 02, loss: -0.27882\n",
      "epoch: 03, loss: -0.28169\n",
      "epoch: 04, loss: -0.28170\n",
      "epoch: 05, loss: -0.28284\n",
      "epoch: 06, loss: -0.28505\n",
      "epoch: 07, loss: -0.28404\n",
      "epoch: 08, loss: -0.28426\n",
      "epoch: 09, loss: -0.28385\n",
      "torch.Size([400, 64])\n"
     ]
    },
    {
     "name": "stderr",
     "output_type": "stream",
     "text": [
      "\r",
      "  3%|████▏                                                                                                                                                             | 26/1000 [06:44<4:34:19, 16.90s/it]"
     ]
    },
    {
     "name": "stdout",
     "output_type": "stream",
     "text": [
      "eigenvalues shape torch.Size([5]) eigenvectors shape torch.Size([5, 400])\n",
      "26 /home/phdcs2/Hard_Disk/Datasets/Deep-Spectral-Segmentation/data/object-segmentation/ECSSD/features/dino_vits16/0027.pth\n",
      "dict_keys(['k', 'indices', 'file', 'id', 'model_name', 'patch_size', 'shape'])\n",
      "0027\n",
      "Starting Training\n",
      "epoch: 00, loss: -0.04900\n",
      "epoch: 01, loss: -0.06973\n",
      "epoch: 02, loss: -0.07378\n",
      "epoch: 03, loss: -0.07810\n",
      "epoch: 04, loss: -0.07483\n",
      "epoch: 05, loss: -0.07645\n",
      "epoch: 06, loss: -0.07857\n",
      "epoch: 07, loss: -0.07602\n",
      "epoch: 08, loss: -0.07830\n",
      "epoch: 09, loss: -0.07807\n",
      "torch.Size([400, 64])\n"
     ]
    },
    {
     "name": "stderr",
     "output_type": "stream",
     "text": [
      "\r",
      "  3%|████▎                                                                                                                                                             | 27/1000 [07:04<4:47:24, 17.72s/it]"
     ]
    },
    {
     "name": "stdout",
     "output_type": "stream",
     "text": [
      "eigenvalues shape torch.Size([5]) eigenvectors shape torch.Size([5, 400])\n",
      "27 /home/phdcs2/Hard_Disk/Datasets/Deep-Spectral-Segmentation/data/object-segmentation/ECSSD/features/dino_vits16/0028.pth\n",
      "dict_keys(['k', 'indices', 'file', 'id', 'model_name', 'patch_size', 'shape'])\n",
      "0028\n",
      "Starting Training\n",
      "epoch: 00, loss: -0.02385\n",
      "epoch: 01, loss: -0.04939\n",
      "epoch: 02, loss: -0.05230\n",
      "epoch: 03, loss: -0.05279\n",
      "epoch: 04, loss: -0.05334\n",
      "epoch: 05, loss: -0.05343\n",
      "epoch: 06, loss: -0.05353\n",
      "epoch: 07, loss: -0.05370\n",
      "epoch: 08, loss: -0.05377\n",
      "epoch: 09, loss: -0.05396\n",
      "torch.Size([400, 64])\n"
     ]
    },
    {
     "name": "stderr",
     "output_type": "stream",
     "text": [
      "\r",
      "  3%|████▌                                                                                                                                                             | 28/1000 [07:23<4:50:44, 17.95s/it]"
     ]
    },
    {
     "name": "stdout",
     "output_type": "stream",
     "text": [
      "eigenvalues shape torch.Size([5]) eigenvectors shape torch.Size([5, 400])\n",
      "28 /home/phdcs2/Hard_Disk/Datasets/Deep-Spectral-Segmentation/data/object-segmentation/ECSSD/features/dino_vits16/0029.pth\n",
      "dict_keys(['k', 'indices', 'file', 'id', 'model_name', 'patch_size', 'shape'])\n",
      "0029\n",
      "Starting Training\n",
      "epoch: 00, loss: -0.06111\n",
      "epoch: 01, loss: -0.09737\n",
      "epoch: 02, loss: -0.10161\n",
      "epoch: 03, loss: -0.10332\n",
      "epoch: 04, loss: -0.10456\n",
      "epoch: 05, loss: -0.10408\n",
      "epoch: 06, loss: -0.10635\n",
      "epoch: 07, loss: -0.10628\n",
      "epoch: 08, loss: -0.10774\n",
      "epoch: 09, loss: -0.10926\n",
      "torch.Size([400, 64])\n"
     ]
    },
    {
     "name": "stderr",
     "output_type": "stream",
     "text": [
      "\r",
      "  3%|████▋                                                                                                                                                             | 29/1000 [07:40<4:50:18, 17.94s/it]"
     ]
    },
    {
     "name": "stdout",
     "output_type": "stream",
     "text": [
      "eigenvalues shape torch.Size([5]) eigenvectors shape torch.Size([5, 400])\n",
      "29 /home/phdcs2/Hard_Disk/Datasets/Deep-Spectral-Segmentation/data/object-segmentation/ECSSD/features/dino_vits16/0030.pth\n",
      "dict_keys(['k', 'indices', 'file', 'id', 'model_name', 'patch_size', 'shape'])\n",
      "0030\n",
      "Starting Training\n",
      "epoch: 00, loss: -0.03328\n",
      "epoch: 01, loss: -0.05287\n",
      "epoch: 02, loss: -0.05465\n",
      "epoch: 03, loss: -0.05526\n",
      "epoch: 04, loss: -0.05543\n",
      "epoch: 05, loss: -0.05570\n",
      "epoch: 06, loss: -0.05599\n",
      "epoch: 07, loss: -0.05627\n",
      "epoch: 08, loss: -0.05615\n",
      "epoch: 09, loss: -0.05626\n",
      "torch.Size([400, 64])\n"
     ]
    },
    {
     "name": "stderr",
     "output_type": "stream",
     "text": [
      "\r",
      "  3%|████▊                                                                                                                                                             | 30/1000 [07:58<4:49:52, 17.93s/it]"
     ]
    },
    {
     "name": "stdout",
     "output_type": "stream",
     "text": [
      "eigenvalues shape torch.Size([5]) eigenvectors shape torch.Size([5, 400])\n",
      "30 /home/phdcs2/Hard_Disk/Datasets/Deep-Spectral-Segmentation/data/object-segmentation/ECSSD/features/dino_vits16/0031.pth\n",
      "dict_keys(['k', 'indices', 'file', 'id', 'model_name', 'patch_size', 'shape'])\n",
      "0031\n",
      "Starting Training\n",
      "epoch: 00, loss: -0.00715\n",
      "epoch: 01, loss: -0.03804\n",
      "epoch: 02, loss: -0.04345\n",
      "epoch: 03, loss: -0.05152\n",
      "epoch: 04, loss: -0.04987\n",
      "epoch: 05, loss: -0.05308\n",
      "epoch: 06, loss: -0.05030\n",
      "epoch: 07, loss: -0.05381\n",
      "epoch: 08, loss: -0.05486\n",
      "epoch: 09, loss: -0.05306\n",
      "torch.Size([400, 64])\n"
     ]
    },
    {
     "name": "stderr",
     "output_type": "stream",
     "text": [
      "\r",
      "  3%|█████                                                                                                                                                             | 31/1000 [08:14<4:38:29, 17.24s/it]"
     ]
    },
    {
     "name": "stdout",
     "output_type": "stream",
     "text": [
      "eigenvalues shape torch.Size([5]) eigenvectors shape torch.Size([5, 400])\n",
      "31 /home/phdcs2/Hard_Disk/Datasets/Deep-Spectral-Segmentation/data/object-segmentation/ECSSD/features/dino_vits16/0032.pth\n",
      "dict_keys(['k', 'indices', 'file', 'id', 'model_name', 'patch_size', 'shape'])\n",
      "0032\n",
      "Starting Training\n",
      "epoch: 00, loss: -0.02876\n",
      "epoch: 01, loss: -0.05142\n",
      "epoch: 02, loss: -0.05903\n",
      "epoch: 03, loss: -0.05834\n",
      "epoch: 04, loss: -0.06370\n",
      "epoch: 05, loss: -0.06355\n",
      "epoch: 06, loss: -0.06222\n",
      "epoch: 07, loss: -0.06088\n",
      "epoch: 08, loss: -0.06303\n",
      "epoch: 09, loss: -0.06454\n",
      "torch.Size([400, 64])\n"
     ]
    },
    {
     "name": "stderr",
     "output_type": "stream",
     "text": [
      "\r",
      "  3%|█████▏                                                                                                                                                            | 32/1000 [08:34<4:49:11, 17.93s/it]"
     ]
    },
    {
     "name": "stdout",
     "output_type": "stream",
     "text": [
      "eigenvalues shape torch.Size([5]) eigenvectors shape torch.Size([5, 400])\n",
      "32 /home/phdcs2/Hard_Disk/Datasets/Deep-Spectral-Segmentation/data/object-segmentation/ECSSD/features/dino_vits16/0033.pth\n",
      "dict_keys(['k', 'indices', 'file', 'id', 'model_name', 'patch_size', 'shape'])\n",
      "0033\n",
      "Starting Training\n",
      "epoch: 00, loss: -0.01094\n",
      "epoch: 01, loss: -0.02433\n",
      "epoch: 02, loss: -0.02743\n",
      "epoch: 03, loss: -0.02861\n",
      "epoch: 04, loss: -0.02914\n",
      "epoch: 05, loss: -0.02958\n",
      "epoch: 06, loss: -0.02957\n",
      "epoch: 07, loss: -0.02995\n",
      "epoch: 08, loss: -0.03007\n",
      "epoch: 09, loss: -0.03004\n",
      "torch.Size([400, 64])\n"
     ]
    },
    {
     "name": "stderr",
     "output_type": "stream",
     "text": [
      "\r",
      "  3%|█████▎                                                                                                                                                            | 33/1000 [08:53<4:56:04, 18.37s/it]"
     ]
    },
    {
     "name": "stdout",
     "output_type": "stream",
     "text": [
      "eigenvalues shape torch.Size([5]) eigenvectors shape torch.Size([5, 400])\n",
      "33 /home/phdcs2/Hard_Disk/Datasets/Deep-Spectral-Segmentation/data/object-segmentation/ECSSD/features/dino_vits16/0034.pth\n",
      "dict_keys(['k', 'indices', 'file', 'id', 'model_name', 'patch_size', 'shape'])\n",
      "0034\n",
      "Starting Training\n",
      "epoch: 00, loss: -0.03467\n",
      "epoch: 01, loss: -0.05760\n",
      "epoch: 02, loss: -0.05898\n",
      "epoch: 03, loss: -0.05934\n",
      "epoch: 04, loss: -0.05988\n",
      "epoch: 05, loss: -0.05987\n",
      "epoch: 06, loss: -0.06016\n",
      "epoch: 07, loss: -0.06035\n",
      "epoch: 08, loss: -0.06031\n",
      "epoch: 09, loss: -0.06053\n",
      "torch.Size([400, 64])\n"
     ]
    },
    {
     "name": "stderr",
     "output_type": "stream",
     "text": [
      "\r",
      "  3%|█████▌                                                                                                                                                            | 34/1000 [09:14<5:08:29, 19.16s/it]"
     ]
    },
    {
     "name": "stdout",
     "output_type": "stream",
     "text": [
      "eigenvalues shape torch.Size([5]) eigenvectors shape torch.Size([5, 400])\n",
      "34 /home/phdcs2/Hard_Disk/Datasets/Deep-Spectral-Segmentation/data/object-segmentation/ECSSD/features/dino_vits16/0035.pth\n",
      "dict_keys(['k', 'indices', 'file', 'id', 'model_name', 'patch_size', 'shape'])\n",
      "0035\n",
      "Starting Training\n",
      "epoch: 00, loss: -0.00518\n",
      "epoch: 01, loss: -0.02586\n",
      "epoch: 02, loss: -0.03074\n",
      "epoch: 03, loss: -0.03216\n",
      "epoch: 04, loss: -0.03294\n",
      "epoch: 05, loss: -0.03324\n",
      "epoch: 06, loss: -0.03321\n",
      "epoch: 07, loss: -0.03334\n",
      "epoch: 08, loss: -0.03339\n",
      "epoch: 09, loss: -0.03352\n",
      "torch.Size([400, 64])\n"
     ]
    },
    {
     "name": "stderr",
     "output_type": "stream",
     "text": [
      "\r",
      "  4%|█████▋                                                                                                                                                            | 35/1000 [09:35<5:15:52, 19.64s/it]"
     ]
    },
    {
     "name": "stdout",
     "output_type": "stream",
     "text": [
      "eigenvalues shape torch.Size([5]) eigenvectors shape torch.Size([5, 400])\n",
      "35 /home/phdcs2/Hard_Disk/Datasets/Deep-Spectral-Segmentation/data/object-segmentation/ECSSD/features/dino_vits16/0036.pth\n",
      "dict_keys(['k', 'indices', 'file', 'id', 'model_name', 'patch_size', 'shape'])\n",
      "0036\n",
      "Starting Training\n",
      "epoch: 00, loss: -0.00538\n",
      "epoch: 01, loss: -0.03359\n",
      "epoch: 02, loss: -0.04257\n",
      "epoch: 03, loss: -0.04481\n",
      "epoch: 04, loss: -0.04615\n",
      "epoch: 05, loss: -0.04701\n",
      "epoch: 06, loss: -0.04744\n",
      "epoch: 07, loss: -0.04803\n",
      "epoch: 08, loss: -0.04386\n",
      "epoch: 09, loss: -0.04815\n",
      "torch.Size([450, 64])\n"
     ]
    },
    {
     "name": "stderr",
     "output_type": "stream",
     "text": [
      "\r",
      "  4%|█████▊                                                                                                                                                            | 36/1000 [09:58<5:33:20, 20.75s/it]"
     ]
    },
    {
     "name": "stdout",
     "output_type": "stream",
     "text": [
      "eigenvalues shape torch.Size([5]) eigenvectors shape torch.Size([5, 450])\n",
      "36 /home/phdcs2/Hard_Disk/Datasets/Deep-Spectral-Segmentation/data/object-segmentation/ECSSD/features/dino_vits16/0037.pth\n",
      "dict_keys(['k', 'indices', 'file', 'id', 'model_name', 'patch_size', 'shape'])\n",
      "0037\n",
      "Starting Training\n",
      "epoch: 00, loss: -0.01069\n",
      "epoch: 01, loss: -0.03159\n",
      "epoch: 02, loss: -0.03544\n",
      "epoch: 03, loss: -0.03588\n",
      "epoch: 04, loss: -0.03647\n",
      "epoch: 05, loss: -0.03670\n",
      "epoch: 06, loss: -0.03688\n",
      "epoch: 07, loss: -0.03700\n",
      "epoch: 08, loss: -0.03711\n",
      "epoch: 09, loss: -0.03722\n",
      "torch.Size([450, 64])\n"
     ]
    },
    {
     "name": "stderr",
     "output_type": "stream",
     "text": [
      "\r",
      "  4%|█████▉                                                                                                                                                            | 37/1000 [10:20<5:37:21, 21.02s/it]"
     ]
    },
    {
     "name": "stdout",
     "output_type": "stream",
     "text": [
      "eigenvalues shape torch.Size([5]) eigenvectors shape torch.Size([5, 450])\n",
      "37 /home/phdcs2/Hard_Disk/Datasets/Deep-Spectral-Segmentation/data/object-segmentation/ECSSD/features/dino_vits16/0038.pth\n",
      "dict_keys(['k', 'indices', 'file', 'id', 'model_name', 'patch_size', 'shape'])\n",
      "0038\n",
      "Starting Training\n",
      "epoch: 00, loss: -0.10230\n",
      "epoch: 01, loss: -0.13745\n",
      "epoch: 02, loss: -0.14977\n",
      "epoch: 03, loss: -0.14568\n",
      "epoch: 04, loss: -0.13941\n",
      "epoch: 05, loss: -0.15329\n",
      "epoch: 06, loss: -0.14413\n",
      "epoch: 07, loss: -0.14869\n",
      "epoch: 08, loss: -0.15666\n",
      "epoch: 09, loss: -0.15461\n",
      "torch.Size([400, 64])\n"
     ]
    },
    {
     "name": "stderr",
     "output_type": "stream",
     "text": [
      "\r",
      "  4%|██████▏                                                                                                                                                           | 38/1000 [10:40<5:34:42, 20.88s/it]"
     ]
    },
    {
     "name": "stdout",
     "output_type": "stream",
     "text": [
      "eigenvalues shape torch.Size([5]) eigenvectors shape torch.Size([5, 400])\n",
      "38 /home/phdcs2/Hard_Disk/Datasets/Deep-Spectral-Segmentation/data/object-segmentation/ECSSD/features/dino_vits16/0039.pth\n",
      "dict_keys(['k', 'indices', 'file', 'id', 'model_name', 'patch_size', 'shape'])\n",
      "0039\n",
      "Starting Training\n",
      "epoch: 00, loss: -0.02705\n",
      "epoch: 01, loss: -0.05570\n",
      "epoch: 02, loss: -0.05703\n",
      "epoch: 03, loss: -0.05988\n",
      "epoch: 04, loss: -0.06215\n",
      "epoch: 05, loss: -0.06081\n",
      "epoch: 06, loss: -0.06130\n",
      "epoch: 07, loss: -0.06247\n",
      "epoch: 08, loss: -0.06248\n",
      "epoch: 09, loss: -0.06244\n",
      "torch.Size([400, 64])\n"
     ]
    },
    {
     "name": "stderr",
     "output_type": "stream",
     "text": [
      "\r",
      "  4%|██████▎                                                                                                                                                           | 39/1000 [11:01<5:31:22, 20.69s/it]"
     ]
    },
    {
     "name": "stdout",
     "output_type": "stream",
     "text": [
      "eigenvalues shape torch.Size([5]) eigenvectors shape torch.Size([5, 400])\n",
      "39 /home/phdcs2/Hard_Disk/Datasets/Deep-Spectral-Segmentation/data/object-segmentation/ECSSD/features/dino_vits16/0040.pth\n",
      "dict_keys(['k', 'indices', 'file', 'id', 'model_name', 'patch_size', 'shape'])\n",
      "0040\n",
      "Starting Training\n",
      "epoch: 00, loss: -0.06124\n",
      "epoch: 01, loss: -0.08676\n",
      "epoch: 02, loss: -0.08740\n",
      "epoch: 03, loss: -0.08788\n",
      "epoch: 04, loss: -0.08757\n",
      "epoch: 05, loss: -0.08794\n",
      "epoch: 06, loss: -0.08809\n",
      "epoch: 07, loss: -0.08833\n",
      "epoch: 08, loss: -0.08835\n",
      "epoch: 09, loss: -0.08843\n",
      "torch.Size([400, 64])\n"
     ]
    },
    {
     "name": "stderr",
     "output_type": "stream",
     "text": [
      "\r",
      "  4%|██████▍                                                                                                                                                           | 40/1000 [11:20<5:24:16, 20.27s/it]"
     ]
    },
    {
     "name": "stdout",
     "output_type": "stream",
     "text": [
      "eigenvalues shape torch.Size([5]) eigenvectors shape torch.Size([5, 400])\n",
      "40 /home/phdcs2/Hard_Disk/Datasets/Deep-Spectral-Segmentation/data/object-segmentation/ECSSD/features/dino_vits16/0041.pth\n",
      "dict_keys(['k', 'indices', 'file', 'id', 'model_name', 'patch_size', 'shape'])\n",
      "0041\n",
      "Starting Training\n",
      "epoch: 00, loss: -0.03346\n",
      "epoch: 01, loss: -0.05597\n",
      "epoch: 02, loss: -0.06396\n",
      "epoch: 03, loss: -0.06752\n",
      "epoch: 04, loss: -0.06754\n",
      "epoch: 05, loss: -0.06630\n",
      "epoch: 06, loss: -0.06844\n",
      "epoch: 07, loss: -0.06920\n",
      "epoch: 08, loss: -0.06991\n",
      "epoch: 09, loss: -0.07130\n",
      "torch.Size([450, 64])\n"
     ]
    },
    {
     "name": "stderr",
     "output_type": "stream",
     "text": [
      "\r",
      "  4%|██████▋                                                                                                                                                           | 41/1000 [11:40<5:24:31, 20.30s/it]"
     ]
    },
    {
     "name": "stdout",
     "output_type": "stream",
     "text": [
      "eigenvalues shape torch.Size([5]) eigenvectors shape torch.Size([5, 450])\n",
      "41 /home/phdcs2/Hard_Disk/Datasets/Deep-Spectral-Segmentation/data/object-segmentation/ECSSD/features/dino_vits16/0042.pth\n",
      "dict_keys(['k', 'indices', 'file', 'id', 'model_name', 'patch_size', 'shape'])\n",
      "0042\n",
      "Starting Training\n",
      "epoch: 00, loss: -0.03007\n",
      "epoch: 01, loss: -0.06012\n",
      "epoch: 02, loss: -0.06657\n",
      "epoch: 03, loss: -0.06872\n",
      "epoch: 04, loss: -0.06984\n",
      "epoch: 05, loss: -0.06944\n",
      "epoch: 06, loss: -0.07152\n",
      "epoch: 07, loss: -0.07137\n",
      "epoch: 08, loss: -0.07210\n",
      "epoch: 09, loss: -0.07157\n",
      "torch.Size([400, 64])\n"
     ]
    },
    {
     "name": "stderr",
     "output_type": "stream",
     "text": [
      "\r",
      "  4%|██████▊                                                                                                                                                           | 42/1000 [12:03<5:34:06, 20.93s/it]"
     ]
    },
    {
     "name": "stdout",
     "output_type": "stream",
     "text": [
      "eigenvalues shape torch.Size([5]) eigenvectors shape torch.Size([5, 400])\n",
      "42 /home/phdcs2/Hard_Disk/Datasets/Deep-Spectral-Segmentation/data/object-segmentation/ECSSD/features/dino_vits16/0043.pth\n",
      "dict_keys(['k', 'indices', 'file', 'id', 'model_name', 'patch_size', 'shape'])\n",
      "0043\n",
      "Starting Training\n",
      "epoch: 00, loss: -0.03534\n",
      "epoch: 01, loss: -0.05251\n",
      "epoch: 02, loss: -0.05403\n",
      "epoch: 03, loss: -0.05440\n",
      "epoch: 04, loss: -0.05469\n",
      "epoch: 05, loss: -0.05542\n",
      "epoch: 06, loss: -0.05514\n",
      "epoch: 07, loss: -0.05521\n",
      "epoch: 08, loss: -0.05550\n",
      "epoch: 09, loss: -0.05553\n",
      "torch.Size([450, 64])\n"
     ]
    },
    {
     "name": "stderr",
     "output_type": "stream",
     "text": [
      "\r",
      "  4%|██████▉                                                                                                                                                           | 43/1000 [12:33<6:17:59, 23.70s/it]"
     ]
    },
    {
     "name": "stdout",
     "output_type": "stream",
     "text": [
      "eigenvalues shape torch.Size([5]) eigenvectors shape torch.Size([5, 450])\n",
      "43 /home/phdcs2/Hard_Disk/Datasets/Deep-Spectral-Segmentation/data/object-segmentation/ECSSD/features/dino_vits16/0044.pth\n",
      "dict_keys(['k', 'indices', 'file', 'id', 'model_name', 'patch_size', 'shape'])\n",
      "0044\n",
      "Starting Training\n",
      "epoch: 00, loss: -0.01489\n",
      "epoch: 01, loss: -0.03804\n",
      "epoch: 02, loss: -0.04456\n",
      "epoch: 03, loss: -0.04448\n",
      "epoch: 04, loss: -0.04442\n",
      "epoch: 05, loss: -0.04595\n",
      "epoch: 06, loss: -0.04408\n",
      "epoch: 07, loss: -0.04572\n",
      "epoch: 08, loss: -0.04595\n",
      "epoch: 09, loss: -0.04817\n",
      "torch.Size([525, 64])\n"
     ]
    },
    {
     "name": "stderr",
     "output_type": "stream",
     "text": [
      "\r",
      "  4%|███████▏                                                                                                                                                          | 44/1000 [13:17<7:57:45, 29.99s/it]"
     ]
    },
    {
     "name": "stdout",
     "output_type": "stream",
     "text": [
      "eigenvalues shape torch.Size([5]) eigenvectors shape torch.Size([5, 525])\n",
      "44 /home/phdcs2/Hard_Disk/Datasets/Deep-Spectral-Segmentation/data/object-segmentation/ECSSD/features/dino_vits16/0045.pth\n",
      "dict_keys(['k', 'indices', 'file', 'id', 'model_name', 'patch_size', 'shape'])\n",
      "0045\n",
      "Starting Training\n",
      "epoch: 00, loss: -0.04040\n",
      "epoch: 01, loss: -0.05607\n",
      "epoch: 02, loss: -0.05744\n",
      "epoch: 03, loss: -0.05766\n",
      "epoch: 04, loss: -0.05795\n",
      "epoch: 05, loss: -0.05815\n",
      "epoch: 06, loss: -0.05829\n",
      "epoch: 07, loss: -0.05858\n",
      "epoch: 08, loss: -0.05872\n",
      "epoch: 09, loss: -0.05875\n",
      "torch.Size([450, 64])\n"
     ]
    },
    {
     "name": "stderr",
     "output_type": "stream",
     "text": [
      "\r",
      "  4%|███████▎                                                                                                                                                          | 45/1000 [13:41<7:25:53, 28.01s/it]"
     ]
    },
    {
     "name": "stdout",
     "output_type": "stream",
     "text": [
      "eigenvalues shape torch.Size([5]) eigenvectors shape torch.Size([5, 450])\n",
      "45 /home/phdcs2/Hard_Disk/Datasets/Deep-Spectral-Segmentation/data/object-segmentation/ECSSD/features/dino_vits16/0046.pth\n",
      "dict_keys(['k', 'indices', 'file', 'id', 'model_name', 'patch_size', 'shape'])\n",
      "0046\n",
      "Starting Training\n",
      "epoch: 00, loss: -0.05563\n",
      "epoch: 01, loss: -0.06962\n",
      "epoch: 02, loss: -0.07063\n",
      "epoch: 03, loss: -0.07103\n",
      "epoch: 04, loss: -0.07132\n",
      "epoch: 05, loss: -0.07154\n",
      "epoch: 06, loss: -0.07179\n",
      "epoch: 07, loss: -0.07179\n",
      "epoch: 08, loss: -0.07195\n",
      "epoch: 09, loss: -0.07206\n",
      "torch.Size([450, 64])\n"
     ]
    },
    {
     "name": "stderr",
     "output_type": "stream",
     "text": [
      "\r",
      "  5%|███████▍                                                                                                                                                          | 46/1000 [14:04<7:01:42, 26.52s/it]"
     ]
    },
    {
     "name": "stdout",
     "output_type": "stream",
     "text": [
      "eigenvalues shape torch.Size([5]) eigenvectors shape torch.Size([5, 450])\n",
      "46 /home/phdcs2/Hard_Disk/Datasets/Deep-Spectral-Segmentation/data/object-segmentation/ECSSD/features/dino_vits16/0047.pth\n",
      "dict_keys(['k', 'indices', 'file', 'id', 'model_name', 'patch_size', 'shape'])\n",
      "0047\n",
      "Starting Training\n",
      "epoch: 00, loss: -0.01568\n",
      "epoch: 01, loss: -0.05068\n",
      "epoch: 02, loss: -0.05503\n",
      "epoch: 03, loss: -0.05812\n",
      "epoch: 04, loss: -0.05910\n",
      "epoch: 05, loss: -0.05828\n",
      "epoch: 06, loss: -0.06006\n",
      "epoch: 07, loss: -0.06021\n",
      "epoch: 08, loss: -0.06140\n",
      "epoch: 09, loss: -0.05804\n",
      "torch.Size([400, 64])\n"
     ]
    },
    {
     "name": "stderr",
     "output_type": "stream",
     "text": [
      "\r",
      "  5%|███████▌                                                                                                                                                          | 47/1000 [14:24<6:31:52, 24.67s/it]"
     ]
    },
    {
     "name": "stdout",
     "output_type": "stream",
     "text": [
      "eigenvalues shape torch.Size([5]) eigenvectors shape torch.Size([5, 400])\n",
      "47 /home/phdcs2/Hard_Disk/Datasets/Deep-Spectral-Segmentation/data/object-segmentation/ECSSD/features/dino_vits16/0048.pth\n",
      "dict_keys(['k', 'indices', 'file', 'id', 'model_name', 'patch_size', 'shape'])\n",
      "0048\n",
      "Starting Training\n",
      "epoch: 00, loss: -0.05481\n",
      "epoch: 01, loss: -0.08050\n",
      "epoch: 02, loss: -0.08186\n",
      "epoch: 03, loss: -0.08419\n",
      "epoch: 04, loss: -0.08725\n",
      "epoch: 05, loss: -0.08595\n",
      "epoch: 06, loss: -0.08847\n",
      "epoch: 07, loss: -0.08724\n",
      "epoch: 08, loss: -0.08715\n",
      "epoch: 09, loss: -0.08872\n",
      "torch.Size([450, 64])\n"
     ]
    },
    {
     "name": "stderr",
     "output_type": "stream",
     "text": [
      "\r",
      "  5%|███████▊                                                                                                                                                          | 48/1000 [14:51<6:40:02, 25.21s/it]"
     ]
    },
    {
     "name": "stdout",
     "output_type": "stream",
     "text": [
      "eigenvalues shape torch.Size([5]) eigenvectors shape torch.Size([5, 450])\n",
      "48 /home/phdcs2/Hard_Disk/Datasets/Deep-Spectral-Segmentation/data/object-segmentation/ECSSD/features/dino_vits16/0049.pth\n",
      "dict_keys(['k', 'indices', 'file', 'id', 'model_name', 'patch_size', 'shape'])\n",
      "0049\n",
      "Starting Training\n",
      "epoch: 00, loss: -0.05996\n",
      "epoch: 01, loss: -0.08320\n",
      "epoch: 02, loss: -0.08760\n",
      "epoch: 03, loss: -0.08462\n",
      "epoch: 04, loss: -0.08428\n",
      "epoch: 05, loss: -0.08438\n",
      "epoch: 06, loss: -0.08644\n",
      "epoch: 07, loss: -0.08757\n",
      "epoch: 08, loss: -0.08823\n",
      "epoch: 09, loss: -0.08668\n",
      "torch.Size([450, 64])\n"
     ]
    },
    {
     "name": "stderr",
     "output_type": "stream",
     "text": [
      "\r",
      "  5%|███████▉                                                                                                                                                          | 49/1000 [15:17<6:46:27, 25.64s/it]"
     ]
    },
    {
     "name": "stdout",
     "output_type": "stream",
     "text": [
      "eigenvalues shape torch.Size([5]) eigenvectors shape torch.Size([5, 450])\n",
      "49 /home/phdcs2/Hard_Disk/Datasets/Deep-Spectral-Segmentation/data/object-segmentation/ECSSD/features/dino_vits16/0050.pth\n",
      "dict_keys(['k', 'indices', 'file', 'id', 'model_name', 'patch_size', 'shape'])\n",
      "0050\n",
      "Starting Training\n",
      "epoch: 00, loss: -0.05935\n",
      "epoch: 01, loss: -0.09011\n",
      "epoch: 02, loss: -0.09582\n",
      "epoch: 03, loss: -0.09535\n",
      "epoch: 04, loss: -0.09841\n",
      "epoch: 05, loss: -0.10039\n",
      "epoch: 06, loss: -0.09837\n",
      "epoch: 07, loss: -0.10128\n",
      "epoch: 08, loss: -0.10025\n",
      "epoch: 09, loss: -0.09894\n",
      "torch.Size([400, 64])\n"
     ]
    },
    {
     "name": "stderr",
     "output_type": "stream",
     "text": [
      "\r",
      "  5%|████████                                                                                                                                                          | 50/1000 [15:40<6:32:28, 24.79s/it]"
     ]
    },
    {
     "name": "stdout",
     "output_type": "stream",
     "text": [
      "eigenvalues shape torch.Size([5]) eigenvectors shape torch.Size([5, 400])\n",
      "50 /home/phdcs2/Hard_Disk/Datasets/Deep-Spectral-Segmentation/data/object-segmentation/ECSSD/features/dino_vits16/0051.pth\n",
      "dict_keys(['k', 'indices', 'file', 'id', 'model_name', 'patch_size', 'shape'])\n",
      "0051\n",
      "Starting Training\n",
      "epoch: 00, loss: -0.08261\n",
      "epoch: 01, loss: -0.10053\n",
      "epoch: 02, loss: -0.10163\n",
      "epoch: 03, loss: -0.10157\n",
      "epoch: 04, loss: -0.10200\n",
      "epoch: 05, loss: -0.10241\n",
      "epoch: 06, loss: -0.10218\n",
      "epoch: 07, loss: -0.10249\n",
      "epoch: 08, loss: -0.10215\n",
      "epoch: 09, loss: -0.10254\n",
      "torch.Size([450, 64])\n"
     ]
    },
    {
     "name": "stderr",
     "output_type": "stream",
     "text": [
      "\r",
      "  5%|████████▎                                                                                                                                                         | 51/1000 [16:07<6:42:24, 25.44s/it]"
     ]
    },
    {
     "name": "stdout",
     "output_type": "stream",
     "text": [
      "eigenvalues shape torch.Size([5]) eigenvectors shape torch.Size([5, 450])\n",
      "51 /home/phdcs2/Hard_Disk/Datasets/Deep-Spectral-Segmentation/data/object-segmentation/ECSSD/features/dino_vits16/0052.pth\n",
      "dict_keys(['k', 'indices', 'file', 'id', 'model_name', 'patch_size', 'shape'])\n",
      "0052\n",
      "Starting Training\n",
      "epoch: 00, loss: -0.05050\n",
      "epoch: 01, loss: -0.07549\n",
      "epoch: 02, loss: -0.07541\n",
      "epoch: 03, loss: -0.07578\n",
      "epoch: 04, loss: -0.07617\n",
      "epoch: 05, loss: -0.07647\n",
      "epoch: 06, loss: -0.07653\n",
      "epoch: 07, loss: -0.07665\n",
      "epoch: 08, loss: -0.07684\n",
      "epoch: 09, loss: -0.07684\n",
      "torch.Size([450, 64])\n"
     ]
    },
    {
     "name": "stderr",
     "output_type": "stream",
     "text": [
      "\r",
      "  5%|████████▍                                                                                                                                                         | 52/1000 [16:38<7:06:55, 27.02s/it]"
     ]
    },
    {
     "name": "stdout",
     "output_type": "stream",
     "text": [
      "eigenvalues shape torch.Size([5]) eigenvectors shape torch.Size([5, 450])\n",
      "52 /home/phdcs2/Hard_Disk/Datasets/Deep-Spectral-Segmentation/data/object-segmentation/ECSSD/features/dino_vits16/0053.pth\n",
      "dict_keys(['k', 'indices', 'file', 'id', 'model_name', 'patch_size', 'shape'])\n",
      "0053\n",
      "Starting Training\n",
      "epoch: 00, loss: -0.03335\n",
      "epoch: 01, loss: -0.06510\n",
      "epoch: 02, loss: -0.07111\n",
      "epoch: 03, loss: -0.07276\n",
      "epoch: 04, loss: -0.07402\n",
      "epoch: 05, loss: -0.07763\n",
      "epoch: 06, loss: -0.07561\n",
      "epoch: 07, loss: -0.07544\n",
      "epoch: 08, loss: -0.07562\n",
      "epoch: 09, loss: -0.07761\n",
      "torch.Size([375, 64])\n"
     ]
    },
    {
     "name": "stderr",
     "output_type": "stream",
     "text": [
      "\r",
      "  5%|████████▌                                                                                                                                                         | 53/1000 [17:00<6:45:57, 25.72s/it]"
     ]
    },
    {
     "name": "stdout",
     "output_type": "stream",
     "text": [
      "eigenvalues shape torch.Size([5]) eigenvectors shape torch.Size([5, 375])\n",
      "53 /home/phdcs2/Hard_Disk/Datasets/Deep-Spectral-Segmentation/data/object-segmentation/ECSSD/features/dino_vits16/0054.pth\n",
      "dict_keys(['k', 'indices', 'file', 'id', 'model_name', 'patch_size', 'shape'])\n",
      "0054\n",
      "Starting Training\n",
      "epoch: 00, loss: -0.03444\n",
      "epoch: 01, loss: -0.05468\n",
      "epoch: 02, loss: -0.05638\n",
      "epoch: 03, loss: -0.05684\n",
      "epoch: 04, loss: -0.05676\n",
      "epoch: 05, loss: -0.05684\n",
      "epoch: 06, loss: -0.05729\n",
      "epoch: 07, loss: -0.05718\n",
      "epoch: 08, loss: -0.05732\n",
      "epoch: 09, loss: -0.05754\n",
      "torch.Size([450, 64])\n"
     ]
    },
    {
     "name": "stderr",
     "output_type": "stream",
     "text": [
      "\r",
      "  5%|████████▋                                                                                                                                                         | 54/1000 [17:29<6:57:55, 26.51s/it]"
     ]
    },
    {
     "name": "stdout",
     "output_type": "stream",
     "text": [
      "eigenvalues shape torch.Size([5]) eigenvectors shape torch.Size([5, 450])\n",
      "54 /home/phdcs2/Hard_Disk/Datasets/Deep-Spectral-Segmentation/data/object-segmentation/ECSSD/features/dino_vits16/0055.pth\n",
      "dict_keys(['k', 'indices', 'file', 'id', 'model_name', 'patch_size', 'shape'])\n",
      "0055\n",
      "Starting Training\n",
      "epoch: 00, loss: -0.08192\n",
      "epoch: 01, loss: -0.10114\n",
      "epoch: 02, loss: -0.10103\n",
      "epoch: 03, loss: -0.10188\n",
      "epoch: 04, loss: -0.10267\n",
      "epoch: 05, loss: -0.10255\n",
      "epoch: 06, loss: -0.10244\n",
      "epoch: 07, loss: -0.10277\n",
      "epoch: 08, loss: -0.10251\n",
      "epoch: 09, loss: -0.10305\n",
      "torch.Size([450, 64])\n"
     ]
    },
    {
     "name": "stderr",
     "output_type": "stream",
     "text": [
      "\r",
      "  6%|████████▉                                                                                                                                                         | 55/1000 [17:53<6:48:51, 25.96s/it]"
     ]
    },
    {
     "name": "stdout",
     "output_type": "stream",
     "text": [
      "eigenvalues shape torch.Size([5]) eigenvectors shape torch.Size([5, 450])\n",
      "55 /home/phdcs2/Hard_Disk/Datasets/Deep-Spectral-Segmentation/data/object-segmentation/ECSSD/features/dino_vits16/0056.pth\n",
      "dict_keys(['k', 'indices', 'file', 'id', 'model_name', 'patch_size', 'shape'])\n",
      "0056\n",
      "Starting Training\n",
      "epoch: 00, loss: -0.01640\n",
      "epoch: 01, loss: -0.03425\n",
      "epoch: 02, loss: -0.03723\n",
      "epoch: 03, loss: -0.03803\n",
      "epoch: 04, loss: -0.03849\n",
      "epoch: 05, loss: -0.03887\n",
      "epoch: 06, loss: -0.03894\n",
      "epoch: 07, loss: -0.03905\n",
      "epoch: 08, loss: -0.03930\n",
      "epoch: 09, loss: -0.03942\n",
      "torch.Size([400, 64])\n"
     ]
    },
    {
     "name": "stderr",
     "output_type": "stream",
     "text": [
      "\r",
      "  6%|█████████                                                                                                                                                         | 56/1000 [18:20<6:50:34, 26.10s/it]"
     ]
    },
    {
     "name": "stdout",
     "output_type": "stream",
     "text": [
      "eigenvalues shape torch.Size([5]) eigenvectors shape torch.Size([5, 400])\n",
      "56 /home/phdcs2/Hard_Disk/Datasets/Deep-Spectral-Segmentation/data/object-segmentation/ECSSD/features/dino_vits16/0057.pth\n",
      "dict_keys(['k', 'indices', 'file', 'id', 'model_name', 'patch_size', 'shape'])\n",
      "0057\n",
      "Starting Training\n",
      "epoch: 00, loss: -0.05605\n",
      "epoch: 01, loss: -0.08017\n",
      "epoch: 02, loss: -0.08024\n",
      "epoch: 03, loss: -0.08189\n",
      "epoch: 04, loss: -0.08069\n",
      "epoch: 05, loss: -0.08295\n",
      "epoch: 06, loss: -0.08442\n",
      "epoch: 07, loss: -0.08317\n",
      "epoch: 08, loss: -0.08338\n",
      "epoch: 09, loss: -0.08352\n",
      "torch.Size([400, 64])\n"
     ]
    },
    {
     "name": "stderr",
     "output_type": "stream",
     "text": [
      "\r",
      "  6%|█████████▏                                                                                                                                                        | 57/1000 [18:43<6:38:11, 25.34s/it]"
     ]
    },
    {
     "name": "stdout",
     "output_type": "stream",
     "text": [
      "eigenvalues shape torch.Size([5]) eigenvectors shape torch.Size([5, 400])\n",
      "57 /home/phdcs2/Hard_Disk/Datasets/Deep-Spectral-Segmentation/data/object-segmentation/ECSSD/features/dino_vits16/0058.pth\n",
      "dict_keys(['k', 'indices', 'file', 'id', 'model_name', 'patch_size', 'shape'])\n",
      "0058\n",
      "Starting Training\n",
      "epoch: 00, loss: -0.03128\n",
      "epoch: 01, loss: -0.05818\n",
      "epoch: 02, loss: -0.05973\n",
      "epoch: 03, loss: -0.06140\n",
      "epoch: 04, loss: -0.06066\n",
      "epoch: 05, loss: -0.06177\n",
      "epoch: 06, loss: -0.06112\n",
      "epoch: 07, loss: -0.06180\n",
      "epoch: 08, loss: -0.06225\n",
      "epoch: 09, loss: -0.06117\n",
      "torch.Size([425, 64])\n"
     ]
    },
    {
     "name": "stderr",
     "output_type": "stream",
     "text": [
      "\r",
      "  6%|█████████▍                                                                                                                                                        | 58/1000 [19:10<6:45:33, 25.83s/it]"
     ]
    },
    {
     "name": "stdout",
     "output_type": "stream",
     "text": [
      "eigenvalues shape torch.Size([5]) eigenvectors shape torch.Size([5, 425])\n",
      "58 /home/phdcs2/Hard_Disk/Datasets/Deep-Spectral-Segmentation/data/object-segmentation/ECSSD/features/dino_vits16/0059.pth\n",
      "dict_keys(['k', 'indices', 'file', 'id', 'model_name', 'patch_size', 'shape'])\n",
      "0059\n",
      "Starting Training\n",
      "epoch: 00, loss: -0.05265\n",
      "epoch: 01, loss: -0.07807\n",
      "epoch: 02, loss: -0.08080\n",
      "epoch: 03, loss: -0.08363\n",
      "epoch: 04, loss: -0.07973\n",
      "epoch: 05, loss: -0.08104\n",
      "epoch: 06, loss: -0.08089\n",
      "epoch: 07, loss: -0.08318\n",
      "epoch: 08, loss: -0.08419\n",
      "epoch: 09, loss: -0.08223\n",
      "torch.Size([450, 64])\n"
     ]
    },
    {
     "name": "stderr",
     "output_type": "stream",
     "text": [
      "\r",
      "  6%|█████████▌                                                                                                                                                        | 59/1000 [19:40<7:03:37, 27.01s/it]"
     ]
    },
    {
     "name": "stdout",
     "output_type": "stream",
     "text": [
      "eigenvalues shape torch.Size([5]) eigenvectors shape torch.Size([5, 450])\n",
      "59 /home/phdcs2/Hard_Disk/Datasets/Deep-Spectral-Segmentation/data/object-segmentation/ECSSD/features/dino_vits16/0060.pth\n",
      "dict_keys(['k', 'indices', 'file', 'id', 'model_name', 'patch_size', 'shape'])\n",
      "0060\n",
      "Starting Training\n",
      "epoch: 00, loss: -0.07174\n",
      "epoch: 01, loss: -0.10275\n",
      "epoch: 02, loss: -0.10247\n",
      "epoch: 03, loss: -0.10459\n",
      "epoch: 04, loss: -0.10566\n",
      "epoch: 05, loss: -0.10635\n",
      "epoch: 06, loss: -0.10730\n",
      "epoch: 07, loss: -0.10659\n",
      "epoch: 08, loss: -0.10527\n",
      "epoch: 09, loss: -0.10697\n",
      "torch.Size([400, 64])\n"
     ]
    },
    {
     "name": "stderr",
     "output_type": "stream",
     "text": [
      "\r",
      "  6%|█████████▋                                                                                                                                                        | 60/1000 [20:04<6:50:13, 26.18s/it]"
     ]
    },
    {
     "name": "stdout",
     "output_type": "stream",
     "text": [
      "eigenvalues shape torch.Size([5]) eigenvectors shape torch.Size([5, 400])\n",
      "60 /home/phdcs2/Hard_Disk/Datasets/Deep-Spectral-Segmentation/data/object-segmentation/ECSSD/features/dino_vits16/0061.pth\n",
      "dict_keys(['k', 'indices', 'file', 'id', 'model_name', 'patch_size', 'shape'])\n",
      "0061\n",
      "Starting Training\n",
      "epoch: 00, loss: -0.03591\n",
      "epoch: 01, loss: -0.05791\n",
      "epoch: 02, loss: -0.05876\n",
      "epoch: 03, loss: -0.05934\n",
      "epoch: 04, loss: -0.06122\n",
      "epoch: 05, loss: -0.06146\n",
      "epoch: 06, loss: -0.06044\n",
      "epoch: 07, loss: -0.06015\n",
      "epoch: 08, loss: -0.06171\n",
      "epoch: 09, loss: -0.06033\n",
      "torch.Size([425, 64])\n"
     ]
    },
    {
     "name": "stderr",
     "output_type": "stream",
     "text": [
      "\r",
      "  6%|█████████▉                                                                                                                                                        | 61/1000 [20:29<6:43:18, 25.77s/it]"
     ]
    },
    {
     "name": "stdout",
     "output_type": "stream",
     "text": [
      "eigenvalues shape torch.Size([5]) eigenvectors shape torch.Size([5, 425])\n",
      "61 /home/phdcs2/Hard_Disk/Datasets/Deep-Spectral-Segmentation/data/object-segmentation/ECSSD/features/dino_vits16/0062.pth\n",
      "dict_keys(['k', 'indices', 'file', 'id', 'model_name', 'patch_size', 'shape'])\n",
      "0062\n",
      "Starting Training\n",
      "epoch: 00, loss: -0.01807\n",
      "epoch: 01, loss: -0.03915\n",
      "epoch: 02, loss: -0.04243\n",
      "epoch: 03, loss: -0.04453\n",
      "epoch: 04, loss: -0.04468\n",
      "epoch: 05, loss: -0.04423\n",
      "epoch: 06, loss: -0.04406\n",
      "epoch: 07, loss: -0.04540\n",
      "epoch: 08, loss: -0.04456\n",
      "epoch: 09, loss: -0.04540\n",
      "torch.Size([425, 64])\n"
     ]
    },
    {
     "name": "stderr",
     "output_type": "stream",
     "text": [
      "\r",
      "  6%|██████████                                                                                                                                                        | 62/1000 [20:58<6:58:26, 26.77s/it]"
     ]
    },
    {
     "name": "stdout",
     "output_type": "stream",
     "text": [
      "eigenvalues shape torch.Size([5]) eigenvectors shape torch.Size([5, 425])\n",
      "62 /home/phdcs2/Hard_Disk/Datasets/Deep-Spectral-Segmentation/data/object-segmentation/ECSSD/features/dino_vits16/0063.pth\n",
      "dict_keys(['k', 'indices', 'file', 'id', 'model_name', 'patch_size', 'shape'])\n",
      "0063\n",
      "Starting Training\n",
      "epoch: 00, loss: -0.05754\n",
      "epoch: 01, loss: -0.08346\n",
      "epoch: 02, loss: -0.08855\n",
      "epoch: 03, loss: -0.08906\n",
      "epoch: 04, loss: -0.09207\n",
      "epoch: 05, loss: -0.09452\n",
      "epoch: 06, loss: -0.09127\n",
      "epoch: 07, loss: -0.09162\n",
      "epoch: 08, loss: -0.09593\n",
      "epoch: 09, loss: -0.09326\n",
      "torch.Size([400, 64])\n"
     ]
    },
    {
     "name": "stderr",
     "output_type": "stream",
     "text": [
      "\r",
      "  6%|██████████▏                                                                                                                                                       | 63/1000 [21:26<7:00:44, 26.94s/it]"
     ]
    },
    {
     "name": "stdout",
     "output_type": "stream",
     "text": [
      "eigenvalues shape torch.Size([5]) eigenvectors shape torch.Size([5, 400])\n",
      "63 /home/phdcs2/Hard_Disk/Datasets/Deep-Spectral-Segmentation/data/object-segmentation/ECSSD/features/dino_vits16/0064.pth\n",
      "dict_keys(['k', 'indices', 'file', 'id', 'model_name', 'patch_size', 'shape'])\n",
      "0064\n",
      "Starting Training\n",
      "epoch: 00, loss: -0.02587\n",
      "epoch: 01, loss: -0.05150\n",
      "epoch: 02, loss: -0.05365\n",
      "epoch: 03, loss: -0.05427\n",
      "epoch: 04, loss: -0.05464\n",
      "epoch: 05, loss: -0.05475\n",
      "epoch: 06, loss: -0.05498\n",
      "epoch: 07, loss: -0.05499\n",
      "epoch: 08, loss: -0.05501\n",
      "epoch: 09, loss: -0.05536\n",
      "torch.Size([400, 64])\n"
     ]
    },
    {
     "name": "stderr",
     "output_type": "stream",
     "text": [
      "\r",
      "  6%|██████████▎                                                                                                                                                       | 64/1000 [21:50<6:45:45, 26.01s/it]"
     ]
    },
    {
     "name": "stdout",
     "output_type": "stream",
     "text": [
      "eigenvalues shape torch.Size([5]) eigenvectors shape torch.Size([5, 400])\n",
      "64 /home/phdcs2/Hard_Disk/Datasets/Deep-Spectral-Segmentation/data/object-segmentation/ECSSD/features/dino_vits16/0065.pth\n",
      "dict_keys(['k', 'indices', 'file', 'id', 'model_name', 'patch_size', 'shape'])\n",
      "0065\n",
      "Starting Training\n",
      "epoch: 00, loss: -0.01490\n",
      "epoch: 01, loss: -0.02748\n",
      "epoch: 02, loss: -0.03228\n",
      "epoch: 03, loss: -0.03130\n",
      "epoch: 04, loss: -0.03416\n",
      "epoch: 05, loss: -0.03339\n",
      "epoch: 06, loss: -0.03238\n",
      "epoch: 07, loss: -0.03377\n",
      "epoch: 08, loss: -0.03448\n",
      "epoch: 09, loss: -0.03528\n",
      "torch.Size([450, 64])\n"
     ]
    },
    {
     "name": "stderr",
     "output_type": "stream",
     "text": [
      "\r",
      "  6%|██████████▌                                                                                                                                                       | 65/1000 [22:17<6:54:03, 26.57s/it]"
     ]
    },
    {
     "name": "stdout",
     "output_type": "stream",
     "text": [
      "eigenvalues shape torch.Size([5]) eigenvectors shape torch.Size([5, 450])\n",
      "65 /home/phdcs2/Hard_Disk/Datasets/Deep-Spectral-Segmentation/data/object-segmentation/ECSSD/features/dino_vits16/0066.pth\n",
      "dict_keys(['k', 'indices', 'file', 'id', 'model_name', 'patch_size', 'shape'])\n",
      "0066\n",
      "Starting Training\n",
      "epoch: 00, loss: -0.02325\n",
      "epoch: 01, loss: -0.04852\n",
      "epoch: 02, loss: -0.05454\n",
      "epoch: 03, loss: -0.05547\n",
      "epoch: 04, loss: -0.05649\n",
      "epoch: 05, loss: -0.05794\n",
      "epoch: 06, loss: -0.05782\n",
      "epoch: 07, loss: -0.05658\n",
      "epoch: 08, loss: -0.05800\n",
      "epoch: 09, loss: -0.05716\n",
      "torch.Size([400, 64])\n"
     ]
    },
    {
     "name": "stderr",
     "output_type": "stream",
     "text": [
      "\r",
      "  7%|██████████▋                                                                                                                                                       | 66/1000 [22:43<6:50:59, 26.40s/it]"
     ]
    },
    {
     "name": "stdout",
     "output_type": "stream",
     "text": [
      "eigenvalues shape torch.Size([5]) eigenvectors shape torch.Size([5, 400])\n",
      "66 /home/phdcs2/Hard_Disk/Datasets/Deep-Spectral-Segmentation/data/object-segmentation/ECSSD/features/dino_vits16/0067.pth\n",
      "dict_keys(['k', 'indices', 'file', 'id', 'model_name', 'patch_size', 'shape'])\n",
      "0067\n",
      "Starting Training\n",
      "epoch: 00, loss: -0.00150\n",
      "epoch: 01, loss: -0.01888\n",
      "epoch: 02, loss: -0.02436\n",
      "epoch: 03, loss: -0.02636\n",
      "epoch: 04, loss: -0.02742\n",
      "epoch: 05, loss: -0.02840\n",
      "epoch: 06, loss: -0.02849\n",
      "epoch: 07, loss: -0.02890\n",
      "epoch: 08, loss: -0.02899\n",
      "epoch: 09, loss: -0.02914\n",
      "torch.Size([350, 64])\n"
     ]
    },
    {
     "name": "stderr",
     "output_type": "stream",
     "text": [
      "\r",
      "  7%|██████████▊                                                                                                                                                       | 67/1000 [23:02<6:15:43, 24.16s/it]"
     ]
    },
    {
     "name": "stdout",
     "output_type": "stream",
     "text": [
      "eigenvalues shape torch.Size([5]) eigenvectors shape torch.Size([5, 350])\n",
      "67 /home/phdcs2/Hard_Disk/Datasets/Deep-Spectral-Segmentation/data/object-segmentation/ECSSD/features/dino_vits16/0068.pth\n",
      "dict_keys(['k', 'indices', 'file', 'id', 'model_name', 'patch_size', 'shape'])\n",
      "0068\n",
      "Starting Training\n",
      "epoch: 00, loss: -0.03856\n",
      "epoch: 01, loss: -0.05417\n",
      "epoch: 02, loss: -0.05494\n",
      "epoch: 03, loss: -0.05715\n",
      "epoch: 04, loss: -0.05749\n",
      "epoch: 05, loss: -0.05878\n",
      "epoch: 06, loss: -0.05751\n",
      "epoch: 07, loss: -0.05760\n",
      "epoch: 08, loss: -0.05868\n",
      "epoch: 09, loss: -0.05927\n",
      "torch.Size([525, 64])\n"
     ]
    },
    {
     "name": "stderr",
     "output_type": "stream",
     "text": [
      "\r",
      "  7%|███████████                                                                                                                                                       | 68/1000 [23:45<7:42:31, 29.78s/it]"
     ]
    },
    {
     "name": "stdout",
     "output_type": "stream",
     "text": [
      "eigenvalues shape torch.Size([5]) eigenvectors shape torch.Size([5, 525])\n",
      "68 /home/phdcs2/Hard_Disk/Datasets/Deep-Spectral-Segmentation/data/object-segmentation/ECSSD/features/dino_vits16/0069.pth\n",
      "dict_keys(['k', 'indices', 'file', 'id', 'model_name', 'patch_size', 'shape'])\n",
      "0069\n",
      "Starting Training\n",
      "epoch: 00, loss: -0.05300\n",
      "epoch: 01, loss: -0.07794\n",
      "epoch: 02, loss: -0.07779\n",
      "epoch: 03, loss: -0.07853\n",
      "epoch: 04, loss: -0.07892\n",
      "epoch: 05, loss: -0.07865\n",
      "epoch: 06, loss: -0.07863\n",
      "epoch: 07, loss: -0.07857\n",
      "epoch: 08, loss: -0.07879\n",
      "epoch: 09, loss: -0.07884\n",
      "torch.Size([425, 64])\n"
     ]
    },
    {
     "name": "stderr",
     "output_type": "stream",
     "text": [
      "\r",
      "  7%|███████████▏                                                                                                                                                      | 69/1000 [24:11<7:22:25, 28.51s/it]"
     ]
    },
    {
     "name": "stdout",
     "output_type": "stream",
     "text": [
      "eigenvalues shape torch.Size([5]) eigenvectors shape torch.Size([5, 425])\n",
      "69 /home/phdcs2/Hard_Disk/Datasets/Deep-Spectral-Segmentation/data/object-segmentation/ECSSD/features/dino_vits16/0070.pth\n",
      "dict_keys(['k', 'indices', 'file', 'id', 'model_name', 'patch_size', 'shape'])\n",
      "0070\n",
      "Starting Training\n",
      "epoch: 00, loss: -0.02886\n",
      "epoch: 01, loss: -0.06036\n",
      "epoch: 02, loss: -0.05979\n",
      "epoch: 03, loss: -0.06518\n",
      "epoch: 04, loss: -0.06263\n",
      "epoch: 05, loss: -0.06327\n",
      "epoch: 06, loss: -0.06273\n",
      "epoch: 07, loss: -0.06344\n",
      "epoch: 08, loss: -0.06474\n",
      "epoch: 09, loss: -0.06438\n",
      "torch.Size([500, 64])\n"
     ]
    },
    {
     "name": "stderr",
     "output_type": "stream",
     "text": [
      "\r",
      "  7%|███████████▎                                                                                                                                                      | 70/1000 [24:46<7:52:23, 30.48s/it]"
     ]
    },
    {
     "name": "stdout",
     "output_type": "stream",
     "text": [
      "eigenvalues shape torch.Size([5]) eigenvectors shape torch.Size([5, 500])\n",
      "70 /home/phdcs2/Hard_Disk/Datasets/Deep-Spectral-Segmentation/data/object-segmentation/ECSSD/features/dino_vits16/0071.pth\n",
      "dict_keys(['k', 'indices', 'file', 'id', 'model_name', 'patch_size', 'shape'])\n",
      "0071\n",
      "Starting Training\n",
      "epoch: 00, loss: -0.04183\n",
      "epoch: 01, loss: -0.06900\n",
      "epoch: 02, loss: -0.06788\n",
      "epoch: 03, loss: -0.07290\n",
      "epoch: 04, loss: -0.07214\n",
      "epoch: 05, loss: -0.07226\n",
      "epoch: 06, loss: -0.07210\n",
      "epoch: 07, loss: -0.07526\n",
      "epoch: 08, loss: -0.07338\n",
      "epoch: 09, loss: -0.07324\n",
      "torch.Size([450, 64])\n"
     ]
    },
    {
     "name": "stderr",
     "output_type": "stream",
     "text": [
      "\r",
      "  7%|███████████▌                                                                                                                                                      | 71/1000 [25:14<7:38:45, 29.63s/it]"
     ]
    },
    {
     "name": "stdout",
     "output_type": "stream",
     "text": [
      "eigenvalues shape torch.Size([5]) eigenvectors shape torch.Size([5, 450])\n",
      "71 /home/phdcs2/Hard_Disk/Datasets/Deep-Spectral-Segmentation/data/object-segmentation/ECSSD/features/dino_vits16/0072.pth\n",
      "dict_keys(['k', 'indices', 'file', 'id', 'model_name', 'patch_size', 'shape'])\n",
      "0072\n",
      "Starting Training\n",
      "epoch: 00, loss: -0.04931\n",
      "epoch: 01, loss: -0.07586\n",
      "epoch: 02, loss: -0.07943\n",
      "epoch: 03, loss: -0.08204\n",
      "epoch: 04, loss: -0.08478\n",
      "epoch: 05, loss: -0.08243\n",
      "epoch: 06, loss: -0.08453\n",
      "epoch: 07, loss: -0.08243\n",
      "epoch: 08, loss: -0.08698\n",
      "epoch: 09, loss: -0.08405\n",
      "torch.Size([400, 64])\n"
     ]
    },
    {
     "name": "stderr",
     "output_type": "stream",
     "text": [
      "\r",
      "  7%|███████████▋                                                                                                                                                      | 72/1000 [25:38<7:16:16, 28.21s/it]"
     ]
    },
    {
     "name": "stdout",
     "output_type": "stream",
     "text": [
      "eigenvalues shape torch.Size([5]) eigenvectors shape torch.Size([5, 400])\n",
      "72 /home/phdcs2/Hard_Disk/Datasets/Deep-Spectral-Segmentation/data/object-segmentation/ECSSD/features/dino_vits16/0073.pth\n",
      "dict_keys(['k', 'indices', 'file', 'id', 'model_name', 'patch_size', 'shape'])\n",
      "0073\n",
      "Starting Training\n",
      "epoch: 00, loss: -0.02801\n",
      "epoch: 01, loss: -0.05289\n",
      "epoch: 02, loss: -0.05442\n",
      "epoch: 03, loss: -0.05468\n",
      "epoch: 04, loss: -0.05516\n",
      "epoch: 05, loss: -0.05568\n",
      "epoch: 06, loss: -0.05558\n",
      "epoch: 07, loss: -0.05589\n",
      "epoch: 08, loss: -0.05609\n",
      "epoch: 09, loss: -0.05596\n",
      "torch.Size([450, 64])\n"
     ]
    },
    {
     "name": "stderr",
     "output_type": "stream",
     "text": [
      "\r",
      "  7%|███████████▊                                                                                                                                                      | 73/1000 [26:08<7:21:59, 28.61s/it]"
     ]
    },
    {
     "name": "stdout",
     "output_type": "stream",
     "text": [
      "eigenvalues shape torch.Size([5]) eigenvectors shape torch.Size([5, 450])\n",
      "73 /home/phdcs2/Hard_Disk/Datasets/Deep-Spectral-Segmentation/data/object-segmentation/ECSSD/features/dino_vits16/0074.pth\n",
      "dict_keys(['k', 'indices', 'file', 'id', 'model_name', 'patch_size', 'shape'])\n",
      "0074\n",
      "Starting Training\n",
      "epoch: 00, loss: -0.03040\n",
      "epoch: 01, loss: -0.06057\n",
      "epoch: 02, loss: -0.06806\n",
      "epoch: 03, loss: -0.06551\n",
      "epoch: 04, loss: -0.06473\n",
      "epoch: 05, loss: -0.06950\n",
      "epoch: 06, loss: -0.06765\n",
      "epoch: 07, loss: -0.06912\n",
      "epoch: 08, loss: -0.06940\n",
      "epoch: 09, loss: -0.07105\n",
      "torch.Size([450, 64])\n"
     ]
    },
    {
     "name": "stderr",
     "output_type": "stream",
     "text": [
      "\r",
      "  7%|███████████▉                                                                                                                                                      | 74/1000 [26:36<7:19:45, 28.49s/it]"
     ]
    },
    {
     "name": "stdout",
     "output_type": "stream",
     "text": [
      "eigenvalues shape torch.Size([5]) eigenvectors shape torch.Size([5, 450])\n",
      "74 /home/phdcs2/Hard_Disk/Datasets/Deep-Spectral-Segmentation/data/object-segmentation/ECSSD/features/dino_vits16/0075.pth\n",
      "dict_keys(['k', 'indices', 'file', 'id', 'model_name', 'patch_size', 'shape'])\n",
      "0075\n",
      "Starting Training\n",
      "epoch: 00, loss: -0.06552\n",
      "epoch: 01, loss: -0.09512\n",
      "epoch: 02, loss: -0.09487\n",
      "epoch: 03, loss: -0.09642\n",
      "epoch: 04, loss: -0.09519\n",
      "epoch: 05, loss: -0.09716\n",
      "epoch: 06, loss: -0.09732\n",
      "epoch: 07, loss: -0.09619\n",
      "epoch: 08, loss: -0.09645\n",
      "epoch: 09, loss: -0.09689\n",
      "torch.Size([450, 64])\n"
     ]
    },
    {
     "name": "stderr",
     "output_type": "stream",
     "text": [
      "\r",
      "  8%|████████████▏                                                                                                                                                     | 75/1000 [27:04<7:17:49, 28.40s/it]"
     ]
    },
    {
     "name": "stdout",
     "output_type": "stream",
     "text": [
      "eigenvalues shape torch.Size([5]) eigenvectors shape torch.Size([5, 450])\n",
      "75 /home/phdcs2/Hard_Disk/Datasets/Deep-Spectral-Segmentation/data/object-segmentation/ECSSD/features/dino_vits16/0076.pth\n",
      "dict_keys(['k', 'indices', 'file', 'id', 'model_name', 'patch_size', 'shape'])\n",
      "0076\n",
      "Starting Training\n",
      "epoch: 00, loss: -0.03257\n",
      "epoch: 01, loss: -0.06081\n",
      "epoch: 02, loss: -0.06195\n",
      "epoch: 03, loss: -0.06245\n",
      "epoch: 04, loss: -0.06254\n",
      "epoch: 05, loss: -0.06319\n",
      "epoch: 06, loss: -0.06284\n",
      "epoch: 07, loss: -0.06305\n",
      "epoch: 08, loss: -0.06315\n",
      "epoch: 09, loss: -0.06324\n",
      "torch.Size([400, 64])\n"
     ]
    },
    {
     "name": "stderr",
     "output_type": "stream",
     "text": [
      "\r",
      "  8%|████████████▎                                                                                                                                                     | 76/1000 [27:26<6:46:19, 26.38s/it]"
     ]
    },
    {
     "name": "stdout",
     "output_type": "stream",
     "text": [
      "eigenvalues shape torch.Size([5]) eigenvectors shape torch.Size([5, 400])\n",
      "76 /home/phdcs2/Hard_Disk/Datasets/Deep-Spectral-Segmentation/data/object-segmentation/ECSSD/features/dino_vits16/0077.pth\n",
      "dict_keys(['k', 'indices', 'file', 'id', 'model_name', 'patch_size', 'shape'])\n",
      "0077\n",
      "Starting Training\n",
      "epoch: 00, loss: -0.04968\n",
      "epoch: 01, loss: -0.06838\n",
      "epoch: 02, loss: -0.06934\n",
      "epoch: 03, loss: -0.06973\n",
      "epoch: 04, loss: -0.06993\n",
      "epoch: 05, loss: -0.06998\n",
      "epoch: 06, loss: -0.07025\n",
      "epoch: 07, loss: -0.07032\n",
      "epoch: 08, loss: -0.07036\n",
      "epoch: 09, loss: -0.07066\n",
      "torch.Size([450, 64])\n"
     ]
    },
    {
     "name": "stderr",
     "output_type": "stream",
     "text": [
      "\r",
      "  8%|████████████▍                                                                                                                                                     | 77/1000 [27:51<6:38:05, 25.88s/it]"
     ]
    },
    {
     "name": "stdout",
     "output_type": "stream",
     "text": [
      "eigenvalues shape torch.Size([5]) eigenvectors shape torch.Size([5, 450])\n",
      "77 /home/phdcs2/Hard_Disk/Datasets/Deep-Spectral-Segmentation/data/object-segmentation/ECSSD/features/dino_vits16/0078.pth\n",
      "dict_keys(['k', 'indices', 'file', 'id', 'model_name', 'patch_size', 'shape'])\n",
      "0078\n",
      "Starting Training\n",
      "epoch: 00, loss: -0.03229\n",
      "epoch: 01, loss: -0.05962\n",
      "epoch: 02, loss: -0.06154\n",
      "epoch: 03, loss: -0.06227\n",
      "epoch: 04, loss: -0.06242\n",
      "epoch: 05, loss: -0.06244\n",
      "epoch: 06, loss: -0.06260\n",
      "epoch: 07, loss: -0.06274\n",
      "epoch: 08, loss: -0.06285\n",
      "epoch: 09, loss: -0.06295\n",
      "torch.Size([400, 64])\n"
     ]
    },
    {
     "name": "stderr",
     "output_type": "stream",
     "text": [
      "\r",
      "  8%|████████████▋                                                                                                                                                     | 78/1000 [28:17<6:40:19, 26.05s/it]"
     ]
    },
    {
     "name": "stdout",
     "output_type": "stream",
     "text": [
      "eigenvalues shape torch.Size([5]) eigenvectors shape torch.Size([5, 400])\n",
      "78 /home/phdcs2/Hard_Disk/Datasets/Deep-Spectral-Segmentation/data/object-segmentation/ECSSD/features/dino_vits16/0079.pth\n",
      "dict_keys(['k', 'indices', 'file', 'id', 'model_name', 'patch_size', 'shape'])\n",
      "0079\n",
      "Starting Training\n",
      "epoch: 00, loss: -0.05489\n",
      "epoch: 01, loss: -0.08518\n",
      "epoch: 02, loss: -0.08782\n",
      "epoch: 03, loss: -0.08871\n",
      "epoch: 04, loss: -0.09151\n",
      "epoch: 05, loss: -0.09076\n",
      "epoch: 06, loss: -0.09217\n",
      "epoch: 07, loss: -0.09145\n",
      "epoch: 08, loss: -0.09156\n",
      "epoch: 09, loss: -0.09271\n",
      "torch.Size([525, 64])\n"
     ]
    },
    {
     "name": "stderr",
     "output_type": "stream",
     "text": [
      "\r",
      "  8%|████████████▊                                                                                                                                                     | 79/1000 [29:01<8:02:12, 31.41s/it]"
     ]
    },
    {
     "name": "stdout",
     "output_type": "stream",
     "text": [
      "eigenvalues shape torch.Size([5]) eigenvectors shape torch.Size([5, 525])\n",
      "79 /home/phdcs2/Hard_Disk/Datasets/Deep-Spectral-Segmentation/data/object-segmentation/ECSSD/features/dino_vits16/0080.pth\n",
      "dict_keys(['k', 'indices', 'file', 'id', 'model_name', 'patch_size', 'shape'])\n",
      "0080\n",
      "Starting Training\n",
      "epoch: 00, loss: -0.12151\n",
      "epoch: 01, loss: -0.15955\n",
      "epoch: 02, loss: -0.16146\n",
      "epoch: 03, loss: -0.16296\n",
      "epoch: 04, loss: -0.16135\n",
      "epoch: 05, loss: -0.16488\n",
      "epoch: 06, loss: -0.16610\n",
      "epoch: 07, loss: -0.16608\n",
      "epoch: 08, loss: -0.16587\n",
      "epoch: 09, loss: -0.16792\n",
      "torch.Size([450, 64])\n"
     ]
    },
    {
     "name": "stderr",
     "output_type": "stream",
     "text": [
      "\r",
      "  8%|████████████▉                                                                                                                                                     | 80/1000 [29:32<7:59:24, 31.27s/it]"
     ]
    },
    {
     "name": "stdout",
     "output_type": "stream",
     "text": [
      "eigenvalues shape torch.Size([5]) eigenvectors shape torch.Size([5, 450])\n",
      "80 /home/phdcs2/Hard_Disk/Datasets/Deep-Spectral-Segmentation/data/object-segmentation/ECSSD/features/dino_vits16/0081.pth\n",
      "dict_keys(['k', 'indices', 'file', 'id', 'model_name', 'patch_size', 'shape'])\n",
      "0081\n",
      "Starting Training\n",
      "epoch: 00, loss: -0.07351\n",
      "epoch: 01, loss: -0.08724\n",
      "epoch: 02, loss: -0.08935\n",
      "epoch: 03, loss: -0.08973\n",
      "epoch: 04, loss: -0.08935\n",
      "epoch: 05, loss: -0.08944\n",
      "epoch: 06, loss: -0.09022\n",
      "epoch: 07, loss: -0.09006\n",
      "epoch: 08, loss: -0.09016\n",
      "epoch: 09, loss: -0.09020\n",
      "torch.Size([450, 64])\n"
     ]
    },
    {
     "name": "stderr",
     "output_type": "stream",
     "text": [
      "\r",
      "  8%|█████████████                                                                                                                                                     | 81/1000 [30:08<8:21:35, 32.75s/it]"
     ]
    },
    {
     "name": "stdout",
     "output_type": "stream",
     "text": [
      "eigenvalues shape torch.Size([5]) eigenvectors shape torch.Size([5, 450])\n",
      "81 /home/phdcs2/Hard_Disk/Datasets/Deep-Spectral-Segmentation/data/object-segmentation/ECSSD/features/dino_vits16/0082.pth\n",
      "dict_keys(['k', 'indices', 'file', 'id', 'model_name', 'patch_size', 'shape'])\n",
      "0082\n",
      "Starting Training\n",
      "epoch: 00, loss: -0.01274\n",
      "epoch: 01, loss: -0.02593\n",
      "epoch: 02, loss: -0.02775\n",
      "epoch: 03, loss: -0.02925\n",
      "epoch: 04, loss: -0.02906\n",
      "epoch: 05, loss: -0.02949\n",
      "epoch: 06, loss: -0.02961\n",
      "epoch: 07, loss: -0.02980\n",
      "epoch: 08, loss: -0.02996\n",
      "epoch: 09, loss: -0.03029\n",
      "torch.Size([450, 64])\n"
     ]
    },
    {
     "name": "stderr",
     "output_type": "stream",
     "text": [
      "\r",
      "  8%|█████████████▎                                                                                                                                                    | 82/1000 [30:37<8:03:46, 31.62s/it]"
     ]
    },
    {
     "name": "stdout",
     "output_type": "stream",
     "text": [
      "eigenvalues shape torch.Size([5]) eigenvectors shape torch.Size([5, 450])\n",
      "82 /home/phdcs2/Hard_Disk/Datasets/Deep-Spectral-Segmentation/data/object-segmentation/ECSSD/features/dino_vits16/0083.pth\n",
      "dict_keys(['k', 'indices', 'file', 'id', 'model_name', 'patch_size', 'shape'])\n",
      "0083\n",
      "Starting Training\n",
      "epoch: 00, loss: -0.04773\n",
      "epoch: 01, loss: -0.07944\n",
      "epoch: 02, loss: -0.08284\n",
      "epoch: 03, loss: -0.08456\n",
      "epoch: 04, loss: -0.08677\n",
      "epoch: 05, loss: -0.08307\n",
      "epoch: 06, loss: -0.08690\n",
      "epoch: 07, loss: -0.08648\n",
      "epoch: 08, loss: -0.08726\n",
      "epoch: 09, loss: -0.08795\n",
      "torch.Size([450, 64])\n"
     ]
    },
    {
     "name": "stderr",
     "output_type": "stream",
     "text": [
      "\r",
      "  8%|█████████████▍                                                                                                                                                    | 83/1000 [31:04<7:41:32, 30.20s/it]"
     ]
    },
    {
     "name": "stdout",
     "output_type": "stream",
     "text": [
      "eigenvalues shape torch.Size([5]) eigenvectors shape torch.Size([5, 450])\n",
      "83 /home/phdcs2/Hard_Disk/Datasets/Deep-Spectral-Segmentation/data/object-segmentation/ECSSD/features/dino_vits16/0084.pth\n",
      "dict_keys(['k', 'indices', 'file', 'id', 'model_name', 'patch_size', 'shape'])\n",
      "0084\n",
      "Starting Training\n",
      "epoch: 00, loss: -0.01620\n",
      "epoch: 01, loss: -0.03998\n",
      "epoch: 02, loss: -0.04291\n",
      "epoch: 03, loss: -0.04365\n",
      "epoch: 04, loss: -0.04410\n",
      "epoch: 05, loss: -0.04427\n",
      "epoch: 06, loss: -0.04435\n",
      "epoch: 07, loss: -0.04439\n",
      "epoch: 08, loss: -0.04483\n",
      "epoch: 09, loss: -0.04476\n",
      "torch.Size([450, 64])\n"
     ]
    },
    {
     "name": "stderr",
     "output_type": "stream",
     "text": [
      "\r",
      "  8%|█████████████▌                                                                                                                                                    | 84/1000 [31:33<7:33:30, 29.71s/it]"
     ]
    },
    {
     "name": "stdout",
     "output_type": "stream",
     "text": [
      "eigenvalues shape torch.Size([5]) eigenvectors shape torch.Size([5, 450])\n",
      "84 /home/phdcs2/Hard_Disk/Datasets/Deep-Spectral-Segmentation/data/object-segmentation/ECSSD/features/dino_vits16/0085.pth\n",
      "dict_keys(['k', 'indices', 'file', 'id', 'model_name', 'patch_size', 'shape'])\n",
      "0085\n",
      "Starting Training\n",
      "epoch: 00, loss: -0.01722\n",
      "epoch: 01, loss: -0.03054\n",
      "epoch: 02, loss: -0.03296\n",
      "epoch: 03, loss: -0.03402\n",
      "epoch: 04, loss: -0.03450\n",
      "epoch: 05, loss: -0.03450\n",
      "epoch: 06, loss: -0.03519\n",
      "epoch: 07, loss: -0.03535\n",
      "epoch: 08, loss: -0.03502\n",
      "epoch: 09, loss: -0.03549\n",
      "torch.Size([450, 64])\n"
     ]
    },
    {
     "name": "stderr",
     "output_type": "stream",
     "text": [
      "\r",
      "  8%|█████████████▊                                                                                                                                                    | 85/1000 [32:03<7:35:46, 29.89s/it]"
     ]
    },
    {
     "name": "stdout",
     "output_type": "stream",
     "text": [
      "eigenvalues shape torch.Size([5]) eigenvectors shape torch.Size([5, 450])\n",
      "85 /home/phdcs2/Hard_Disk/Datasets/Deep-Spectral-Segmentation/data/object-segmentation/ECSSD/features/dino_vits16/0086.pth\n",
      "dict_keys(['k', 'indices', 'file', 'id', 'model_name', 'patch_size', 'shape'])\n",
      "0086\n",
      "Starting Training\n",
      "epoch: 00, loss: -0.00165\n",
      "epoch: 01, loss: -0.01952\n",
      "epoch: 02, loss: -0.02462\n",
      "epoch: 03, loss: -0.02653\n",
      "epoch: 04, loss: -0.02756\n",
      "epoch: 05, loss: -0.02804\n",
      "epoch: 06, loss: -0.02830\n",
      "epoch: 07, loss: -0.02854\n",
      "epoch: 08, loss: -0.02879\n",
      "epoch: 09, loss: -0.02880\n",
      "torch.Size([450, 64])\n"
     ]
    },
    {
     "name": "stderr",
     "output_type": "stream",
     "text": [
      "\r",
      "  9%|█████████████▉                                                                                                                                                    | 86/1000 [32:30<7:24:16, 29.16s/it]"
     ]
    },
    {
     "name": "stdout",
     "output_type": "stream",
     "text": [
      "eigenvalues shape torch.Size([5]) eigenvectors shape torch.Size([5, 450])\n",
      "86 /home/phdcs2/Hard_Disk/Datasets/Deep-Spectral-Segmentation/data/object-segmentation/ECSSD/features/dino_vits16/0087.pth\n",
      "dict_keys(['k', 'indices', 'file', 'id', 'model_name', 'patch_size', 'shape'])\n",
      "0087\n",
      "Starting Training\n",
      "epoch: 00, loss: -0.08494\n",
      "epoch: 01, loss: -0.10106\n",
      "epoch: 02, loss: -0.10178\n",
      "epoch: 03, loss: -0.10243\n",
      "epoch: 04, loss: -0.10246\n",
      "epoch: 05, loss: -0.10274\n",
      "epoch: 06, loss: -0.10288\n",
      "epoch: 07, loss: -0.10312\n",
      "epoch: 08, loss: -0.10300\n",
      "epoch: 09, loss: -0.10311\n",
      "torch.Size([450, 64])\n"
     ]
    },
    {
     "name": "stderr",
     "output_type": "stream",
     "text": [
      "\r",
      "  9%|██████████████                                                                                                                                                    | 87/1000 [32:57<7:13:41, 28.50s/it]"
     ]
    },
    {
     "name": "stdout",
     "output_type": "stream",
     "text": [
      "eigenvalues shape torch.Size([5]) eigenvectors shape torch.Size([5, 450])\n",
      "87 /home/phdcs2/Hard_Disk/Datasets/Deep-Spectral-Segmentation/data/object-segmentation/ECSSD/features/dino_vits16/0088.pth\n",
      "dict_keys(['k', 'indices', 'file', 'id', 'model_name', 'patch_size', 'shape'])\n",
      "0088\n",
      "Starting Training\n",
      "epoch: 00, loss: -0.00500\n",
      "epoch: 01, loss: -0.01794\n",
      "epoch: 02, loss: -0.02274\n",
      "epoch: 03, loss: -0.02400\n",
      "epoch: 04, loss: -0.02461\n",
      "epoch: 05, loss: -0.02498\n",
      "epoch: 06, loss: -0.02562\n",
      "epoch: 07, loss: -0.02568\n",
      "epoch: 08, loss: -0.02592\n",
      "epoch: 09, loss: -0.02614\n",
      "torch.Size([450, 64])\n"
     ]
    },
    {
     "name": "stderr",
     "output_type": "stream",
     "text": [
      "\r",
      "  9%|██████████████▎                                                                                                                                                   | 88/1000 [33:22<6:55:23, 27.33s/it]"
     ]
    },
    {
     "name": "stdout",
     "output_type": "stream",
     "text": [
      "eigenvalues shape torch.Size([5]) eigenvectors shape torch.Size([5, 450])\n",
      "88 /home/phdcs2/Hard_Disk/Datasets/Deep-Spectral-Segmentation/data/object-segmentation/ECSSD/features/dino_vits16/0089.pth\n",
      "dict_keys(['k', 'indices', 'file', 'id', 'model_name', 'patch_size', 'shape'])\n",
      "0089\n",
      "Starting Training\n",
      "epoch: 00, loss: -0.05751\n",
      "epoch: 01, loss: -0.07754\n",
      "epoch: 02, loss: -0.07832\n",
      "epoch: 03, loss: -0.07867\n",
      "epoch: 04, loss: -0.07888\n",
      "epoch: 05, loss: -0.07902\n",
      "epoch: 06, loss: -0.07930\n",
      "epoch: 07, loss: -0.07955\n",
      "epoch: 08, loss: -0.07957\n",
      "epoch: 09, loss: -0.07970\n",
      "torch.Size([400, 64])\n"
     ]
    },
    {
     "name": "stderr",
     "output_type": "stream",
     "text": [
      "\r",
      "  9%|██████████████▍                                                                                                                                                   | 89/1000 [33:48<6:48:46, 26.92s/it]"
     ]
    },
    {
     "name": "stdout",
     "output_type": "stream",
     "text": [
      "eigenvalues shape torch.Size([5]) eigenvectors shape torch.Size([5, 400])\n",
      "89 /home/phdcs2/Hard_Disk/Datasets/Deep-Spectral-Segmentation/data/object-segmentation/ECSSD/features/dino_vits16/0090.pth\n",
      "dict_keys(['k', 'indices', 'file', 'id', 'model_name', 'patch_size', 'shape'])\n",
      "0090\n",
      "Starting Training\n",
      "epoch: 00, loss: -0.02246\n",
      "epoch: 01, loss: -0.04043\n",
      "epoch: 02, loss: -0.04366\n",
      "epoch: 03, loss: -0.04464\n",
      "epoch: 04, loss: -0.04446\n",
      "epoch: 05, loss: -0.04459\n",
      "epoch: 06, loss: -0.04437\n",
      "epoch: 07, loss: -0.04447\n",
      "epoch: 08, loss: -0.04491\n",
      "epoch: 09, loss: -0.04595\n",
      "torch.Size([400, 64])\n"
     ]
    },
    {
     "name": "stderr",
     "output_type": "stream",
     "text": [
      "\r",
      "  9%|██████████████▌                                                                                                                                                   | 90/1000 [34:14<6:44:48, 26.69s/it]"
     ]
    },
    {
     "name": "stdout",
     "output_type": "stream",
     "text": [
      "eigenvalues shape torch.Size([5]) eigenvectors shape torch.Size([5, 400])\n",
      "90 /home/phdcs2/Hard_Disk/Datasets/Deep-Spectral-Segmentation/data/object-segmentation/ECSSD/features/dino_vits16/0091.pth\n",
      "dict_keys(['k', 'indices', 'file', 'id', 'model_name', 'patch_size', 'shape'])\n",
      "0091\n",
      "Starting Training\n",
      "epoch: 00, loss: -0.01208\n",
      "epoch: 01, loss: -0.03131\n",
      "epoch: 02, loss: -0.03469\n",
      "epoch: 03, loss: -0.03625\n",
      "epoch: 04, loss: -0.03712\n",
      "epoch: 05, loss: -0.03700\n",
      "epoch: 06, loss: -0.03731\n",
      "epoch: 07, loss: -0.03737\n",
      "epoch: 08, loss: -0.03803\n",
      "epoch: 09, loss: -0.03860\n",
      "torch.Size([400, 64])\n"
     ]
    },
    {
     "name": "stderr",
     "output_type": "stream",
     "text": [
      "\r",
      "  9%|██████████████▋                                                                                                                                                   | 91/1000 [34:37<6:27:36, 25.58s/it]"
     ]
    },
    {
     "name": "stdout",
     "output_type": "stream",
     "text": [
      "eigenvalues shape torch.Size([5]) eigenvectors shape torch.Size([5, 400])\n",
      "91 /home/phdcs2/Hard_Disk/Datasets/Deep-Spectral-Segmentation/data/object-segmentation/ECSSD/features/dino_vits16/0092.pth\n",
      "dict_keys(['k', 'indices', 'file', 'id', 'model_name', 'patch_size', 'shape'])\n",
      "0092\n",
      "Starting Training\n",
      "epoch: 00, loss: -0.04730\n",
      "epoch: 01, loss: -0.08059\n",
      "epoch: 02, loss: -0.08751\n",
      "epoch: 03, loss: -0.08508\n",
      "epoch: 04, loss: -0.09011\n",
      "epoch: 05, loss: -0.09005\n",
      "epoch: 06, loss: -0.09027\n",
      "epoch: 07, loss: -0.09189\n",
      "epoch: 08, loss: -0.09267\n",
      "epoch: 09, loss: -0.09144\n",
      "torch.Size([400, 64])\n"
     ]
    },
    {
     "name": "stderr",
     "output_type": "stream",
     "text": [
      "\r",
      "  9%|██████████████▉                                                                                                                                                   | 92/1000 [35:02<6:25:23, 25.47s/it]"
     ]
    },
    {
     "name": "stdout",
     "output_type": "stream",
     "text": [
      "eigenvalues shape torch.Size([5]) eigenvectors shape torch.Size([5, 400])\n",
      "92 /home/phdcs2/Hard_Disk/Datasets/Deep-Spectral-Segmentation/data/object-segmentation/ECSSD/features/dino_vits16/0093.pth\n",
      "dict_keys(['k', 'indices', 'file', 'id', 'model_name', 'patch_size', 'shape'])\n",
      "0093\n",
      "Starting Training\n",
      "epoch: 00, loss: -0.02103\n",
      "epoch: 01, loss: -0.04359\n",
      "epoch: 02, loss: -0.04639\n",
      "epoch: 03, loss: -0.04707\n",
      "epoch: 04, loss: -0.04734\n",
      "epoch: 05, loss: -0.04789\n",
      "epoch: 06, loss: -0.04793\n",
      "epoch: 07, loss: -0.04799\n",
      "epoch: 08, loss: -0.04810\n",
      "epoch: 09, loss: -0.04820\n",
      "torch.Size([400, 64])\n"
     ]
    },
    {
     "name": "stderr",
     "output_type": "stream",
     "text": [
      "\r",
      "  9%|███████████████                                                                                                                                                   | 93/1000 [35:29<6:28:06, 25.67s/it]"
     ]
    },
    {
     "name": "stdout",
     "output_type": "stream",
     "text": [
      "eigenvalues shape torch.Size([5]) eigenvectors shape torch.Size([5, 400])\n",
      "93 /home/phdcs2/Hard_Disk/Datasets/Deep-Spectral-Segmentation/data/object-segmentation/ECSSD/features/dino_vits16/0094.pth\n",
      "dict_keys(['k', 'indices', 'file', 'id', 'model_name', 'patch_size', 'shape'])\n",
      "0094\n",
      "Starting Training\n",
      "epoch: 00, loss: -0.19870\n",
      "epoch: 01, loss: -0.24396\n",
      "epoch: 02, loss: -0.25238\n",
      "epoch: 03, loss: -0.25235\n",
      "epoch: 04, loss: -0.25560\n",
      "epoch: 05, loss: -0.25681\n",
      "epoch: 06, loss: -0.25983\n",
      "epoch: 07, loss: -0.26202\n",
      "epoch: 08, loss: -0.26197\n",
      "epoch: 09, loss: -0.26070\n",
      "torch.Size([400, 64])\n"
     ]
    },
    {
     "name": "stderr",
     "output_type": "stream",
     "text": [
      "\r",
      "  9%|███████████████▏                                                                                                                                                  | 94/1000 [35:50<6:07:40, 24.35s/it]"
     ]
    },
    {
     "name": "stdout",
     "output_type": "stream",
     "text": [
      "eigenvalues shape torch.Size([5]) eigenvectors shape torch.Size([5, 400])\n",
      "94 /home/phdcs2/Hard_Disk/Datasets/Deep-Spectral-Segmentation/data/object-segmentation/ECSSD/features/dino_vits16/0095.pth\n",
      "dict_keys(['k', 'indices', 'file', 'id', 'model_name', 'patch_size', 'shape'])\n",
      "0095\n",
      "Starting Training\n",
      "epoch: 00, loss: 0.00116\n",
      "epoch: 01, loss: -0.01376\n",
      "epoch: 02, loss: -0.02021\n",
      "epoch: 03, loss: -0.02284\n",
      "epoch: 04, loss: -0.02412\n",
      "epoch: 05, loss: -0.02478\n",
      "epoch: 06, loss: -0.02511\n",
      "epoch: 07, loss: -0.02548\n",
      "epoch: 08, loss: -0.02557\n",
      "epoch: 09, loss: -0.02575\n",
      "torch.Size([400, 64])\n"
     ]
    },
    {
     "name": "stderr",
     "output_type": "stream",
     "text": [
      "\r",
      " 10%|███████████████▍                                                                                                                                                  | 95/1000 [36:14<6:07:02, 24.33s/it]"
     ]
    },
    {
     "name": "stdout",
     "output_type": "stream",
     "text": [
      "eigenvalues shape torch.Size([5]) eigenvectors shape torch.Size([5, 400])\n",
      "95 /home/phdcs2/Hard_Disk/Datasets/Deep-Spectral-Segmentation/data/object-segmentation/ECSSD/features/dino_vits16/0096.pth\n",
      "dict_keys(['k', 'indices', 'file', 'id', 'model_name', 'patch_size', 'shape'])\n",
      "0096\n",
      "Starting Training\n",
      "epoch: 00, loss: -0.01848\n",
      "epoch: 01, loss: -0.04890\n",
      "epoch: 02, loss: -0.05239\n",
      "epoch: 03, loss: -0.05289\n",
      "epoch: 04, loss: -0.05508\n",
      "epoch: 05, loss: -0.05627\n",
      "epoch: 06, loss: -0.05861\n",
      "epoch: 07, loss: -0.05646\n",
      "epoch: 08, loss: -0.05972\n",
      "epoch: 09, loss: -0.05869\n",
      "torch.Size([400, 64])\n"
     ]
    },
    {
     "name": "stderr",
     "output_type": "stream",
     "text": [
      "\r",
      " 10%|███████████████▌                                                                                                                                                  | 96/1000 [36:37<6:01:32, 24.00s/it]"
     ]
    },
    {
     "name": "stdout",
     "output_type": "stream",
     "text": [
      "eigenvalues shape torch.Size([5]) eigenvectors shape torch.Size([5, 400])\n",
      "96 /home/phdcs2/Hard_Disk/Datasets/Deep-Spectral-Segmentation/data/object-segmentation/ECSSD/features/dino_vits16/0097.pth\n",
      "dict_keys(['k', 'indices', 'file', 'id', 'model_name', 'patch_size', 'shape'])\n",
      "0097\n",
      "Starting Training\n",
      "epoch: 00, loss: -0.02264\n",
      "epoch: 01, loss: -0.04594\n",
      "epoch: 02, loss: -0.04855\n",
      "epoch: 03, loss: -0.04879\n",
      "epoch: 04, loss: -0.04928\n",
      "epoch: 05, loss: -0.04927\n",
      "epoch: 06, loss: -0.04948\n",
      "epoch: 07, loss: -0.04963\n",
      "epoch: 08, loss: -0.04987\n",
      "epoch: 09, loss: -0.04990\n",
      "torch.Size([400, 64])\n"
     ]
    },
    {
     "name": "stderr",
     "output_type": "stream",
     "text": [
      "\r",
      " 10%|███████████████▋                                                                                                                                                  | 97/1000 [37:01<6:00:14, 23.94s/it]"
     ]
    },
    {
     "name": "stdout",
     "output_type": "stream",
     "text": [
      "eigenvalues shape torch.Size([5]) eigenvectors shape torch.Size([5, 400])\n",
      "97 /home/phdcs2/Hard_Disk/Datasets/Deep-Spectral-Segmentation/data/object-segmentation/ECSSD/features/dino_vits16/0098.pth\n",
      "dict_keys(['k', 'indices', 'file', 'id', 'model_name', 'patch_size', 'shape'])\n",
      "0098\n",
      "Starting Training\n",
      "epoch: 00, loss: -0.02380\n",
      "epoch: 01, loss: -0.04453\n",
      "epoch: 02, loss: -0.05386\n",
      "epoch: 03, loss: -0.05650\n",
      "epoch: 04, loss: -0.05425\n",
      "epoch: 05, loss: -0.05773\n",
      "epoch: 06, loss: -0.05707\n",
      "epoch: 07, loss: -0.06022\n",
      "epoch: 08, loss: -0.05883\n",
      "epoch: 09, loss: -0.06040\n",
      "torch.Size([400, 64])\n"
     ]
    },
    {
     "name": "stderr",
     "output_type": "stream",
     "text": [
      "\r",
      " 10%|███████████████▉                                                                                                                                                  | 98/1000 [37:25<6:01:59, 24.08s/it]"
     ]
    },
    {
     "name": "stdout",
     "output_type": "stream",
     "text": [
      "eigenvalues shape torch.Size([5]) eigenvectors shape torch.Size([5, 400])\n",
      "98 /home/phdcs2/Hard_Disk/Datasets/Deep-Spectral-Segmentation/data/object-segmentation/ECSSD/features/dino_vits16/0099.pth\n",
      "dict_keys(['k', 'indices', 'file', 'id', 'model_name', 'patch_size', 'shape'])\n",
      "0099\n",
      "Starting Training\n",
      "epoch: 00, loss: 0.00396\n",
      "epoch: 01, loss: -0.00168\n",
      "epoch: 02, loss: -0.00466\n",
      "epoch: 03, loss: -0.00636\n",
      "epoch: 04, loss: -0.00768\n",
      "epoch: 05, loss: -0.00828\n",
      "epoch: 06, loss: -0.00900\n",
      "epoch: 07, loss: -0.00939\n",
      "epoch: 08, loss: -0.00965\n",
      "epoch: 09, loss: -0.01001\n",
      "torch.Size([400, 64])\n"
     ]
    },
    {
     "name": "stderr",
     "output_type": "stream",
     "text": [
      "\r",
      " 10%|████████████████                                                                                                                                                  | 99/1000 [37:51<6:06:51, 24.43s/it]"
     ]
    },
    {
     "name": "stdout",
     "output_type": "stream",
     "text": [
      "eigenvalues shape torch.Size([5]) eigenvectors shape torch.Size([5, 400])\n",
      "99 /home/phdcs2/Hard_Disk/Datasets/Deep-Spectral-Segmentation/data/object-segmentation/ECSSD/features/dino_vits16/0100.pth\n",
      "dict_keys(['k', 'indices', 'file', 'id', 'model_name', 'patch_size', 'shape'])\n",
      "0100\n",
      "Starting Training\n",
      "epoch: 00, loss: -0.00079\n",
      "epoch: 01, loss: -0.02892\n",
      "epoch: 02, loss: -0.03143\n",
      "epoch: 03, loss: -0.03437\n",
      "epoch: 04, loss: -0.03634\n",
      "epoch: 05, loss: -0.03623\n",
      "epoch: 06, loss: -0.03748\n",
      "epoch: 07, loss: -0.03602\n",
      "epoch: 08, loss: -0.03795\n",
      "epoch: 09, loss: -0.03732\n",
      "torch.Size([400, 64])\n"
     ]
    },
    {
     "name": "stderr",
     "output_type": "stream",
     "text": [
      "\r",
      " 10%|████████████████                                                                                                                                                 | 100/1000 [38:15<6:03:52, 24.26s/it]"
     ]
    },
    {
     "name": "stdout",
     "output_type": "stream",
     "text": [
      "eigenvalues shape torch.Size([5]) eigenvectors shape torch.Size([5, 400])\n",
      "100 /home/phdcs2/Hard_Disk/Datasets/Deep-Spectral-Segmentation/data/object-segmentation/ECSSD/features/dino_vits16/0101.pth\n",
      "dict_keys(['k', 'indices', 'file', 'id', 'model_name', 'patch_size', 'shape'])\n",
      "0101\n",
      "Starting Training\n",
      "epoch: 00, loss: -0.02886\n",
      "epoch: 01, loss: -0.04496\n",
      "epoch: 02, loss: -0.05138\n",
      "epoch: 03, loss: -0.05368\n",
      "epoch: 04, loss: -0.05516\n",
      "epoch: 05, loss: -0.05636\n",
      "epoch: 06, loss: -0.05421\n",
      "epoch: 07, loss: -0.05679\n",
      "epoch: 08, loss: -0.05529\n",
      "epoch: 09, loss: -0.05544\n",
      "torch.Size([400, 64])\n"
     ]
    },
    {
     "name": "stderr",
     "output_type": "stream",
     "text": [
      "\r",
      " 10%|████████████████▎                                                                                                                                                | 101/1000 [38:36<5:52:08, 23.50s/it]"
     ]
    },
    {
     "name": "stdout",
     "output_type": "stream",
     "text": [
      "eigenvalues shape torch.Size([5]) eigenvectors shape torch.Size([5, 400])\n",
      "101 /home/phdcs2/Hard_Disk/Datasets/Deep-Spectral-Segmentation/data/object-segmentation/ECSSD/features/dino_vits16/0102.pth\n",
      "dict_keys(['k', 'indices', 'file', 'id', 'model_name', 'patch_size', 'shape'])\n",
      "0102\n",
      "Starting Training\n",
      "epoch: 00, loss: -0.02497\n",
      "epoch: 01, loss: -0.04173\n",
      "epoch: 02, loss: -0.04342\n",
      "epoch: 03, loss: -0.04397\n",
      "epoch: 04, loss: -0.04420\n",
      "epoch: 05, loss: -0.04478\n",
      "epoch: 06, loss: -0.04499\n",
      "epoch: 07, loss: -0.04499\n",
      "epoch: 08, loss: -0.04507\n",
      "epoch: 09, loss: -0.04542\n",
      "torch.Size([400, 64])\n"
     ]
    },
    {
     "name": "stderr",
     "output_type": "stream",
     "text": [
      "\r",
      " 10%|████████████████▍                                                                                                                                                | 102/1000 [39:01<5:55:15, 23.74s/it]"
     ]
    },
    {
     "name": "stdout",
     "output_type": "stream",
     "text": [
      "eigenvalues shape torch.Size([5]) eigenvectors shape torch.Size([5, 400])\n",
      "102 /home/phdcs2/Hard_Disk/Datasets/Deep-Spectral-Segmentation/data/object-segmentation/ECSSD/features/dino_vits16/0103.pth\n",
      "dict_keys(['k', 'indices', 'file', 'id', 'model_name', 'patch_size', 'shape'])\n",
      "0103\n",
      "Starting Training\n",
      "epoch: 00, loss: -0.01599\n",
      "epoch: 01, loss: -0.04510\n",
      "epoch: 02, loss: -0.04667\n",
      "epoch: 03, loss: -0.04834\n",
      "epoch: 04, loss: -0.05033\n",
      "epoch: 05, loss: -0.04720\n",
      "epoch: 06, loss: -0.04875\n",
      "epoch: 07, loss: -0.05060\n",
      "epoch: 08, loss: -0.05058\n",
      "epoch: 09, loss: -0.04960\n",
      "torch.Size([400, 64])\n"
     ]
    },
    {
     "name": "stderr",
     "output_type": "stream",
     "text": [
      "\r",
      " 10%|████████████████▌                                                                                                                                                | 103/1000 [39:26<6:00:04, 24.09s/it]"
     ]
    },
    {
     "name": "stdout",
     "output_type": "stream",
     "text": [
      "eigenvalues shape torch.Size([5]) eigenvectors shape torch.Size([5, 400])\n",
      "103 /home/phdcs2/Hard_Disk/Datasets/Deep-Spectral-Segmentation/data/object-segmentation/ECSSD/features/dino_vits16/0104.pth\n",
      "dict_keys(['k', 'indices', 'file', 'id', 'model_name', 'patch_size', 'shape'])\n",
      "0104\n",
      "Starting Training\n",
      "epoch: 00, loss: -0.04116\n",
      "epoch: 01, loss: -0.06088\n",
      "epoch: 02, loss: -0.06248\n",
      "epoch: 03, loss: -0.06276\n",
      "epoch: 04, loss: -0.06313\n",
      "epoch: 05, loss: -0.06341\n",
      "epoch: 06, loss: -0.06358\n",
      "epoch: 07, loss: -0.06351\n",
      "epoch: 08, loss: -0.06379\n",
      "epoch: 09, loss: -0.06375\n",
      "torch.Size([400, 64])\n"
     ]
    },
    {
     "name": "stderr",
     "output_type": "stream",
     "text": [
      "\r",
      " 10%|████████████████▋                                                                                                                                                | 104/1000 [39:50<6:02:26, 24.27s/it]"
     ]
    },
    {
     "name": "stdout",
     "output_type": "stream",
     "text": [
      "eigenvalues shape torch.Size([5]) eigenvectors shape torch.Size([5, 400])\n",
      "104 /home/phdcs2/Hard_Disk/Datasets/Deep-Spectral-Segmentation/data/object-segmentation/ECSSD/features/dino_vits16/0105.pth\n",
      "dict_keys(['k', 'indices', 'file', 'id', 'model_name', 'patch_size', 'shape'])\n",
      "0105\n",
      "Starting Training\n",
      "epoch: 00, loss: -0.02840\n",
      "epoch: 01, loss: -0.05620\n",
      "epoch: 02, loss: -0.06088\n",
      "epoch: 03, loss: -0.06321\n",
      "epoch: 04, loss: -0.06614\n",
      "epoch: 05, loss: -0.06448\n",
      "epoch: 06, loss: -0.06561\n",
      "epoch: 07, loss: -0.06435\n",
      "epoch: 08, loss: -0.06459\n",
      "epoch: 09, loss: -0.06411\n",
      "torch.Size([400, 64])\n"
     ]
    },
    {
     "name": "stderr",
     "output_type": "stream",
     "text": [
      "\r",
      " 10%|████████████████▉                                                                                                                                                | 105/1000 [40:16<6:09:52, 24.80s/it]"
     ]
    },
    {
     "name": "stdout",
     "output_type": "stream",
     "text": [
      "eigenvalues shape torch.Size([5]) eigenvectors shape torch.Size([5, 400])\n",
      "105 /home/phdcs2/Hard_Disk/Datasets/Deep-Spectral-Segmentation/data/object-segmentation/ECSSD/features/dino_vits16/0106.pth\n",
      "dict_keys(['k', 'indices', 'file', 'id', 'model_name', 'patch_size', 'shape'])\n",
      "0106\n",
      "Starting Training\n",
      "epoch: 00, loss: -0.02923\n",
      "epoch: 01, loss: -0.05417\n",
      "epoch: 02, loss: -0.05718\n",
      "epoch: 03, loss: -0.06261\n",
      "epoch: 04, loss: -0.05990\n",
      "epoch: 05, loss: -0.06432\n",
      "epoch: 06, loss: -0.06349\n",
      "epoch: 07, loss: -0.06084\n",
      "epoch: 08, loss: -0.06308\n",
      "epoch: 09, loss: -0.06358\n",
      "torch.Size([400, 64])\n"
     ]
    },
    {
     "name": "stderr",
     "output_type": "stream",
     "text": [
      "\r",
      " 11%|█████████████████                                                                                                                                                | 106/1000 [40:40<6:03:40, 24.41s/it]"
     ]
    },
    {
     "name": "stdout",
     "output_type": "stream",
     "text": [
      "eigenvalues shape torch.Size([5]) eigenvectors shape torch.Size([5, 400])\n",
      "106 /home/phdcs2/Hard_Disk/Datasets/Deep-Spectral-Segmentation/data/object-segmentation/ECSSD/features/dino_vits16/0107.pth\n",
      "dict_keys(['k', 'indices', 'file', 'id', 'model_name', 'patch_size', 'shape'])\n",
      "0107\n",
      "Starting Training\n",
      "epoch: 00, loss: -0.03929\n",
      "epoch: 01, loss: -0.07398\n",
      "epoch: 02, loss: -0.07697\n",
      "epoch: 03, loss: -0.07544\n",
      "epoch: 04, loss: -0.07800\n",
      "epoch: 05, loss: -0.07787\n",
      "epoch: 06, loss: -0.07904\n",
      "epoch: 07, loss: -0.08011\n",
      "epoch: 08, loss: -0.08018\n",
      "epoch: 09, loss: -0.08204\n",
      "torch.Size([400, 64])\n"
     ]
    },
    {
     "name": "stderr",
     "output_type": "stream",
     "text": [
      "\r",
      " 11%|█████████████████▏                                                                                                                                               | 107/1000 [41:04<6:03:49, 24.45s/it]"
     ]
    },
    {
     "name": "stdout",
     "output_type": "stream",
     "text": [
      "eigenvalues shape torch.Size([5]) eigenvectors shape torch.Size([5, 400])\n",
      "107 /home/phdcs2/Hard_Disk/Datasets/Deep-Spectral-Segmentation/data/object-segmentation/ECSSD/features/dino_vits16/0108.pth\n",
      "dict_keys(['k', 'indices', 'file', 'id', 'model_name', 'patch_size', 'shape'])\n",
      "0108\n",
      "Starting Training\n",
      "epoch: 00, loss: -0.03042\n",
      "epoch: 01, loss: -0.05206\n",
      "epoch: 02, loss: -0.06197\n",
      "epoch: 03, loss: -0.06362\n",
      "epoch: 04, loss: -0.06227\n",
      "epoch: 05, loss: -0.06539\n",
      "epoch: 06, loss: -0.06694\n",
      "epoch: 07, loss: -0.06379\n",
      "epoch: 08, loss: -0.06334\n",
      "epoch: 09, loss: -0.06738\n",
      "torch.Size([400, 64])\n"
     ]
    },
    {
     "name": "stderr",
     "output_type": "stream",
     "text": [
      "\r",
      " 11%|█████████████████▍                                                                                                                                               | 108/1000 [41:31<6:11:35, 24.99s/it]"
     ]
    },
    {
     "name": "stdout",
     "output_type": "stream",
     "text": [
      "eigenvalues shape torch.Size([5]) eigenvectors shape torch.Size([5, 400])\n",
      "108 /home/phdcs2/Hard_Disk/Datasets/Deep-Spectral-Segmentation/data/object-segmentation/ECSSD/features/dino_vits16/0109.pth\n",
      "dict_keys(['k', 'indices', 'file', 'id', 'model_name', 'patch_size', 'shape'])\n",
      "0109\n",
      "Starting Training\n",
      "epoch: 00, loss: 0.00642\n",
      "epoch: 01, loss: -0.00363\n",
      "epoch: 02, loss: -0.00831\n",
      "epoch: 03, loss: -0.01096\n",
      "epoch: 04, loss: -0.01236\n",
      "epoch: 05, loss: -0.01325\n",
      "epoch: 06, loss: -0.01383\n",
      "epoch: 07, loss: -0.01430\n",
      "epoch: 08, loss: -0.01471\n",
      "epoch: 09, loss: -0.01484\n",
      "torch.Size([400, 64])\n"
     ]
    },
    {
     "name": "stderr",
     "output_type": "stream",
     "text": [
      "\r",
      " 11%|█████████████████▌                                                                                                                                               | 109/1000 [41:52<5:56:47, 24.03s/it]"
     ]
    },
    {
     "name": "stdout",
     "output_type": "stream",
     "text": [
      "eigenvalues shape torch.Size([5]) eigenvectors shape torch.Size([5, 400])\n",
      "109 /home/phdcs2/Hard_Disk/Datasets/Deep-Spectral-Segmentation/data/object-segmentation/ECSSD/features/dino_vits16/0110.pth\n",
      "dict_keys(['k', 'indices', 'file', 'id', 'model_name', 'patch_size', 'shape'])\n",
      "0110\n",
      "Starting Training\n",
      "epoch: 00, loss: -0.14251\n",
      "epoch: 01, loss: -0.18900\n",
      "epoch: 02, loss: -0.19805\n",
      "epoch: 03, loss: -0.19725\n",
      "epoch: 04, loss: -0.20216\n",
      "epoch: 05, loss: -0.19712\n",
      "epoch: 06, loss: -0.20246\n",
      "epoch: 07, loss: -0.20320\n",
      "epoch: 08, loss: -0.20270\n",
      "epoch: 09, loss: -0.20139\n",
      "torch.Size([400, 64])\n"
     ]
    },
    {
     "name": "stderr",
     "output_type": "stream",
     "text": [
      "\r",
      " 11%|█████████████████▋                                                                                                                                               | 110/1000 [42:11<5:34:47, 22.57s/it]"
     ]
    },
    {
     "name": "stdout",
     "output_type": "stream",
     "text": [
      "eigenvalues shape torch.Size([5]) eigenvectors shape torch.Size([5, 400])\n",
      "110 /home/phdcs2/Hard_Disk/Datasets/Deep-Spectral-Segmentation/data/object-segmentation/ECSSD/features/dino_vits16/0111.pth\n",
      "dict_keys(['k', 'indices', 'file', 'id', 'model_name', 'patch_size', 'shape'])\n",
      "0111\n",
      "Starting Training\n",
      "epoch: 00, loss: -0.00606\n",
      "epoch: 01, loss: -0.02232\n",
      "epoch: 02, loss: -0.02616\n",
      "epoch: 03, loss: -0.02779\n",
      "epoch: 04, loss: -0.02846\n",
      "epoch: 05, loss: -0.02877\n",
      "epoch: 06, loss: -0.02885\n",
      "epoch: 07, loss: -0.02924\n",
      "epoch: 08, loss: -0.02943\n",
      "epoch: 09, loss: -0.02947\n",
      "torch.Size([400, 64])\n"
     ]
    },
    {
     "name": "stderr",
     "output_type": "stream",
     "text": [
      "\r",
      " 11%|█████████████████▊                                                                                                                                               | 111/1000 [42:33<5:31:18, 22.36s/it]"
     ]
    },
    {
     "name": "stdout",
     "output_type": "stream",
     "text": [
      "eigenvalues shape torch.Size([5]) eigenvectors shape torch.Size([5, 400])\n",
      "111 /home/phdcs2/Hard_Disk/Datasets/Deep-Spectral-Segmentation/data/object-segmentation/ECSSD/features/dino_vits16/0112.pth\n",
      "dict_keys(['k', 'indices', 'file', 'id', 'model_name', 'patch_size', 'shape'])\n",
      "0112\n",
      "Starting Training\n",
      "epoch: 00, loss: -0.05150\n",
      "epoch: 01, loss: -0.07844\n",
      "epoch: 02, loss: -0.08406\n",
      "epoch: 03, loss: -0.08626\n",
      "epoch: 04, loss: -0.08768\n",
      "epoch: 05, loss: -0.08737\n",
      "epoch: 06, loss: -0.08803\n",
      "epoch: 07, loss: -0.08949\n",
      "epoch: 08, loss: -0.08977\n",
      "epoch: 09, loss: -0.08709\n",
      "torch.Size([400, 64])\n"
     ]
    },
    {
     "name": "stderr",
     "output_type": "stream",
     "text": [
      "\r",
      " 11%|██████████████████                                                                                                                                               | 112/1000 [42:54<5:25:16, 21.98s/it]"
     ]
    },
    {
     "name": "stdout",
     "output_type": "stream",
     "text": [
      "eigenvalues shape torch.Size([5]) eigenvectors shape torch.Size([5, 400])\n",
      "112 /home/phdcs2/Hard_Disk/Datasets/Deep-Spectral-Segmentation/data/object-segmentation/ECSSD/features/dino_vits16/0113.pth\n",
      "dict_keys(['k', 'indices', 'file', 'id', 'model_name', 'patch_size', 'shape'])\n",
      "0113\n",
      "Starting Training\n",
      "epoch: 00, loss: -0.02054\n",
      "epoch: 01, loss: -0.05527\n",
      "epoch: 02, loss: -0.06056\n",
      "epoch: 03, loss: -0.06167\n",
      "epoch: 04, loss: -0.06300\n",
      "epoch: 05, loss: -0.06416\n",
      "epoch: 06, loss: -0.06279\n",
      "epoch: 07, loss: -0.06287\n",
      "epoch: 08, loss: -0.06631\n",
      "epoch: 09, loss: -0.06514\n",
      "torch.Size([400, 64])\n"
     ]
    },
    {
     "name": "stderr",
     "output_type": "stream",
     "text": [
      "\r",
      " 11%|██████████████████▏                                                                                                                                              | 113/1000 [43:17<5:25:52, 22.04s/it]"
     ]
    },
    {
     "name": "stdout",
     "output_type": "stream",
     "text": [
      "eigenvalues shape torch.Size([5]) eigenvectors shape torch.Size([5, 400])\n",
      "113 /home/phdcs2/Hard_Disk/Datasets/Deep-Spectral-Segmentation/data/object-segmentation/ECSSD/features/dino_vits16/0114.pth\n",
      "dict_keys(['k', 'indices', 'file', 'id', 'model_name', 'patch_size', 'shape'])\n",
      "0114\n",
      "Starting Training\n",
      "epoch: 00, loss: -0.00064\n",
      "epoch: 01, loss: -0.01292\n",
      "epoch: 02, loss: -0.01790\n",
      "epoch: 03, loss: -0.02003\n",
      "epoch: 04, loss: -0.02077\n",
      "epoch: 05, loss: -0.02135\n",
      "epoch: 06, loss: -0.02187\n",
      "epoch: 07, loss: -0.02194\n",
      "epoch: 08, loss: -0.02208\n",
      "epoch: 09, loss: -0.02217\n",
      "torch.Size([400, 64])\n"
     ]
    },
    {
     "name": "stderr",
     "output_type": "stream",
     "text": [
      "\r",
      " 11%|██████████████████▎                                                                                                                                              | 114/1000 [43:39<5:25:19, 22.03s/it]"
     ]
    },
    {
     "name": "stdout",
     "output_type": "stream",
     "text": [
      "eigenvalues shape torch.Size([5]) eigenvectors shape torch.Size([5, 400])\n",
      "114 /home/phdcs2/Hard_Disk/Datasets/Deep-Spectral-Segmentation/data/object-segmentation/ECSSD/features/dino_vits16/0115.pth\n",
      "dict_keys(['k', 'indices', 'file', 'id', 'model_name', 'patch_size', 'shape'])\n",
      "0115\n",
      "Starting Training\n",
      "epoch: 00, loss: -0.05217\n",
      "epoch: 01, loss: -0.07998\n",
      "epoch: 02, loss: -0.08283\n",
      "epoch: 03, loss: -0.08700\n",
      "epoch: 04, loss: -0.08830\n",
      "epoch: 05, loss: -0.09024\n",
      "epoch: 06, loss: -0.08720\n",
      "epoch: 07, loss: -0.08820\n",
      "epoch: 08, loss: -0.08826\n",
      "epoch: 09, loss: -0.08658\n",
      "torch.Size([400, 64])\n"
     ]
    },
    {
     "name": "stderr",
     "output_type": "stream",
     "text": [
      "\r",
      " 12%|██████████████████▌                                                                                                                                              | 115/1000 [44:02<5:30:25, 22.40s/it]"
     ]
    },
    {
     "name": "stdout",
     "output_type": "stream",
     "text": [
      "eigenvalues shape torch.Size([5]) eigenvectors shape torch.Size([5, 400])\n",
      "115 /home/phdcs2/Hard_Disk/Datasets/Deep-Spectral-Segmentation/data/object-segmentation/ECSSD/features/dino_vits16/0116.pth\n",
      "dict_keys(['k', 'indices', 'file', 'id', 'model_name', 'patch_size', 'shape'])\n",
      "0116\n",
      "Starting Training\n",
      "epoch: 00, loss: -0.00111\n",
      "epoch: 01, loss: -0.01161\n",
      "epoch: 02, loss: -0.01505\n",
      "epoch: 03, loss: -0.01672\n",
      "epoch: 04, loss: -0.01763\n",
      "epoch: 05, loss: -0.01813\n",
      "epoch: 06, loss: -0.01853\n",
      "epoch: 07, loss: -0.01873\n",
      "epoch: 08, loss: -0.01892\n",
      "epoch: 09, loss: -0.01901\n",
      "torch.Size([400, 64])\n"
     ]
    },
    {
     "name": "stderr",
     "output_type": "stream",
     "text": [
      "\r",
      " 12%|██████████████████▋                                                                                                                                              | 116/1000 [44:26<5:37:25, 22.90s/it]"
     ]
    },
    {
     "name": "stdout",
     "output_type": "stream",
     "text": [
      "eigenvalues shape torch.Size([5]) eigenvectors shape torch.Size([5, 400])\n",
      "116 /home/phdcs2/Hard_Disk/Datasets/Deep-Spectral-Segmentation/data/object-segmentation/ECSSD/features/dino_vits16/0117.pth\n",
      "dict_keys(['k', 'indices', 'file', 'id', 'model_name', 'patch_size', 'shape'])\n",
      "0117\n",
      "Starting Training\n",
      "epoch: 00, loss: -0.01451\n",
      "epoch: 01, loss: -0.04131\n",
      "epoch: 02, loss: -0.04372\n",
      "epoch: 03, loss: -0.04933\n",
      "epoch: 04, loss: -0.05187\n",
      "epoch: 05, loss: -0.05228\n",
      "epoch: 06, loss: -0.05422\n",
      "epoch: 07, loss: -0.05387\n",
      "epoch: 08, loss: -0.05514\n",
      "epoch: 09, loss: -0.05500\n",
      "torch.Size([400, 64])\n"
     ]
    },
    {
     "name": "stderr",
     "output_type": "stream",
     "text": [
      "\r",
      " 12%|██████████████████▊                                                                                                                                              | 117/1000 [44:51<5:44:51, 23.43s/it]"
     ]
    },
    {
     "name": "stdout",
     "output_type": "stream",
     "text": [
      "eigenvalues shape torch.Size([5]) eigenvectors shape torch.Size([5, 400])\n",
      "117 /home/phdcs2/Hard_Disk/Datasets/Deep-Spectral-Segmentation/data/object-segmentation/ECSSD/features/dino_vits16/0118.pth\n",
      "dict_keys(['k', 'indices', 'file', 'id', 'model_name', 'patch_size', 'shape'])\n",
      "0118\n",
      "Starting Training\n",
      "epoch: 00, loss: -0.02374\n",
      "epoch: 01, loss: -0.04358\n",
      "epoch: 02, loss: -0.04591\n",
      "epoch: 03, loss: -0.04639\n",
      "epoch: 04, loss: -0.04685\n",
      "epoch: 05, loss: -0.04714\n",
      "epoch: 06, loss: -0.04740\n",
      "epoch: 07, loss: -0.04742\n",
      "epoch: 08, loss: -0.04757\n",
      "epoch: 09, loss: -0.04768\n",
      "torch.Size([400, 64])\n"
     ]
    },
    {
     "name": "stderr",
     "output_type": "stream",
     "text": [
      "\r",
      " 12%|██████████████████▉                                                                                                                                              | 118/1000 [45:13<5:37:43, 22.97s/it]"
     ]
    },
    {
     "name": "stdout",
     "output_type": "stream",
     "text": [
      "eigenvalues shape torch.Size([5]) eigenvectors shape torch.Size([5, 400])\n",
      "118 /home/phdcs2/Hard_Disk/Datasets/Deep-Spectral-Segmentation/data/object-segmentation/ECSSD/features/dino_vits16/0119.pth\n",
      "dict_keys(['k', 'indices', 'file', 'id', 'model_name', 'patch_size', 'shape'])\n",
      "0119\n",
      "Starting Training\n",
      "epoch: 00, loss: -0.00984\n",
      "epoch: 01, loss: -0.03398\n",
      "epoch: 02, loss: -0.03892\n",
      "epoch: 03, loss: -0.04212\n",
      "epoch: 04, loss: -0.04611\n",
      "epoch: 05, loss: -0.04459\n",
      "epoch: 06, loss: -0.04617\n",
      "epoch: 07, loss: -0.04710\n",
      "epoch: 08, loss: -0.04838\n",
      "epoch: 09, loss: -0.04603\n",
      "torch.Size([400, 64])\n"
     ]
    },
    {
     "name": "stderr",
     "output_type": "stream",
     "text": [
      "\r",
      " 12%|███████████████████▏                                                                                                                                             | 119/1000 [45:42<6:07:28, 25.03s/it]"
     ]
    },
    {
     "name": "stdout",
     "output_type": "stream",
     "text": [
      "eigenvalues shape torch.Size([5]) eigenvectors shape torch.Size([5, 400])\n",
      "119 /home/phdcs2/Hard_Disk/Datasets/Deep-Spectral-Segmentation/data/object-segmentation/ECSSD/features/dino_vits16/0120.pth\n",
      "dict_keys(['k', 'indices', 'file', 'id', 'model_name', 'patch_size', 'shape'])\n",
      "0120\n",
      "Starting Training\n",
      "epoch: 00, loss: -0.02125\n",
      "epoch: 01, loss: -0.04354\n",
      "epoch: 02, loss: -0.05081\n",
      "epoch: 03, loss: -0.04946\n",
      "epoch: 04, loss: -0.05403\n",
      "epoch: 05, loss: -0.05378\n",
      "epoch: 06, loss: -0.05774\n",
      "epoch: 07, loss: -0.05473\n",
      "epoch: 08, loss: -0.05560\n",
      "epoch: 09, loss: -0.05782\n",
      "torch.Size([400, 64])\n"
     ]
    },
    {
     "name": "stderr",
     "output_type": "stream",
     "text": [
      "\r",
      " 12%|███████████████████▎                                                                                                                                             | 120/1000 [46:04<5:52:34, 24.04s/it]"
     ]
    },
    {
     "name": "stdout",
     "output_type": "stream",
     "text": [
      "eigenvalues shape torch.Size([5]) eigenvectors shape torch.Size([5, 400])\n",
      "120 /home/phdcs2/Hard_Disk/Datasets/Deep-Spectral-Segmentation/data/object-segmentation/ECSSD/features/dino_vits16/0121.pth\n",
      "dict_keys(['k', 'indices', 'file', 'id', 'model_name', 'patch_size', 'shape'])\n",
      "0121\n",
      "Starting Training\n",
      "epoch: 00, loss: -0.03504\n",
      "epoch: 01, loss: -0.05496\n",
      "epoch: 02, loss: -0.05633\n",
      "epoch: 03, loss: -0.05637\n",
      "epoch: 04, loss: -0.05679\n",
      "epoch: 05, loss: -0.05688\n",
      "epoch: 06, loss: -0.05722\n",
      "epoch: 07, loss: -0.05742\n",
      "epoch: 08, loss: -0.05745\n",
      "epoch: 09, loss: -0.05758\n",
      "torch.Size([400, 64])\n"
     ]
    },
    {
     "name": "stderr",
     "output_type": "stream",
     "text": [
      "\r",
      " 12%|███████████████████▍                                                                                                                                             | 121/1000 [46:29<5:55:13, 24.25s/it]"
     ]
    },
    {
     "name": "stdout",
     "output_type": "stream",
     "text": [
      "eigenvalues shape torch.Size([5]) eigenvectors shape torch.Size([5, 400])\n",
      "121 /home/phdcs2/Hard_Disk/Datasets/Deep-Spectral-Segmentation/data/object-segmentation/ECSSD/features/dino_vits16/0122.pth\n",
      "dict_keys(['k', 'indices', 'file', 'id', 'model_name', 'patch_size', 'shape'])\n",
      "0122\n",
      "Starting Training\n",
      "epoch: 00, loss: -0.00757\n",
      "epoch: 01, loss: -0.02159\n",
      "epoch: 02, loss: -0.02543\n",
      "epoch: 03, loss: -0.02842\n",
      "epoch: 04, loss: -0.02928\n",
      "epoch: 05, loss: -0.03025\n",
      "epoch: 06, loss: -0.02966\n",
      "epoch: 07, loss: -0.03110\n",
      "epoch: 08, loss: -0.03108\n",
      "epoch: 09, loss: -0.03058\n",
      "torch.Size([400, 64])\n"
     ]
    },
    {
     "name": "stderr",
     "output_type": "stream",
     "text": [
      "\r",
      " 12%|███████████████████▋                                                                                                                                             | 122/1000 [46:53<5:52:45, 24.11s/it]"
     ]
    },
    {
     "name": "stdout",
     "output_type": "stream",
     "text": [
      "eigenvalues shape torch.Size([5]) eigenvectors shape torch.Size([5, 400])\n",
      "122 /home/phdcs2/Hard_Disk/Datasets/Deep-Spectral-Segmentation/data/object-segmentation/ECSSD/features/dino_vits16/0123.pth\n",
      "dict_keys(['k', 'indices', 'file', 'id', 'model_name', 'patch_size', 'shape'])\n",
      "0123\n",
      "Starting Training\n",
      "epoch: 00, loss: -0.00092\n",
      "epoch: 01, loss: -0.01607\n",
      "epoch: 02, loss: -0.01865\n",
      "epoch: 03, loss: -0.02109\n",
      "epoch: 04, loss: -0.02271\n",
      "epoch: 05, loss: -0.02370\n",
      "epoch: 06, loss: -0.02186\n",
      "epoch: 07, loss: -0.02187\n",
      "epoch: 08, loss: -0.02347\n",
      "epoch: 09, loss: -0.02461\n",
      "torch.Size([400, 64])\n"
     ]
    },
    {
     "name": "stderr",
     "output_type": "stream",
     "text": [
      "\r",
      " 12%|███████████████████▊                                                                                                                                             | 123/1000 [47:15<5:44:28, 23.57s/it]"
     ]
    },
    {
     "name": "stdout",
     "output_type": "stream",
     "text": [
      "eigenvalues shape torch.Size([5]) eigenvectors shape torch.Size([5, 400])\n",
      "123 /home/phdcs2/Hard_Disk/Datasets/Deep-Spectral-Segmentation/data/object-segmentation/ECSSD/features/dino_vits16/0124.pth\n",
      "dict_keys(['k', 'indices', 'file', 'id', 'model_name', 'patch_size', 'shape'])\n",
      "0124\n",
      "Starting Training\n",
      "epoch: 00, loss: -0.16000\n",
      "epoch: 01, loss: -0.19778\n",
      "epoch: 02, loss: -0.20417\n",
      "epoch: 03, loss: -0.20649\n",
      "epoch: 04, loss: -0.20512\n",
      "epoch: 05, loss: -0.20683\n",
      "epoch: 06, loss: -0.21363\n",
      "epoch: 07, loss: -0.21697\n",
      "epoch: 08, loss: -0.21231\n",
      "epoch: 09, loss: -0.21289\n",
      "torch.Size([400, 64])\n"
     ]
    },
    {
     "name": "stderr",
     "output_type": "stream",
     "text": [
      "\r",
      " 12%|███████████████████▉                                                                                                                                             | 124/1000 [47:38<5:43:27, 23.52s/it]"
     ]
    },
    {
     "name": "stdout",
     "output_type": "stream",
     "text": [
      "eigenvalues shape torch.Size([5]) eigenvectors shape torch.Size([5, 400])\n",
      "124 /home/phdcs2/Hard_Disk/Datasets/Deep-Spectral-Segmentation/data/object-segmentation/ECSSD/features/dino_vits16/0125.pth\n",
      "dict_keys(['k', 'indices', 'file', 'id', 'model_name', 'patch_size', 'shape'])\n",
      "0125\n",
      "Starting Training\n",
      "epoch: 00, loss: -0.04549\n",
      "epoch: 01, loss: -0.09445\n",
      "epoch: 02, loss: -0.09835\n",
      "epoch: 03, loss: -0.09723\n",
      "epoch: 04, loss: -0.10196\n",
      "epoch: 05, loss: -0.10269\n",
      "epoch: 06, loss: -0.10318\n",
      "epoch: 07, loss: -0.10218\n",
      "epoch: 08, loss: -0.10273\n",
      "epoch: 09, loss: -0.10288\n",
      "torch.Size([400, 64])\n"
     ]
    },
    {
     "name": "stderr",
     "output_type": "stream",
     "text": [
      "\r",
      " 12%|████████████████████▏                                                                                                                                            | 125/1000 [47:59<5:28:26, 22.52s/it]"
     ]
    },
    {
     "name": "stdout",
     "output_type": "stream",
     "text": [
      "eigenvalues shape torch.Size([5]) eigenvectors shape torch.Size([5, 400])\n",
      "125 /home/phdcs2/Hard_Disk/Datasets/Deep-Spectral-Segmentation/data/object-segmentation/ECSSD/features/dino_vits16/0126.pth\n",
      "dict_keys(['k', 'indices', 'file', 'id', 'model_name', 'patch_size', 'shape'])\n",
      "0126\n",
      "Starting Training\n",
      "epoch: 00, loss: -0.01676\n",
      "epoch: 01, loss: -0.04193\n",
      "epoch: 02, loss: -0.05015\n",
      "epoch: 03, loss: -0.04910\n",
      "epoch: 04, loss: -0.04891\n",
      "epoch: 05, loss: -0.04942\n",
      "epoch: 06, loss: -0.05378\n",
      "epoch: 07, loss: -0.04933\n",
      "epoch: 08, loss: -0.05231\n",
      "epoch: 09, loss: -0.05303\n",
      "torch.Size([400, 64])\n"
     ]
    },
    {
     "name": "stderr",
     "output_type": "stream",
     "text": [
      "\r",
      " 13%|████████████████████▎                                                                                                                                            | 126/1000 [48:22<5:32:35, 22.83s/it]"
     ]
    },
    {
     "name": "stdout",
     "output_type": "stream",
     "text": [
      "eigenvalues shape torch.Size([5]) eigenvectors shape torch.Size([5, 400])\n",
      "126 /home/phdcs2/Hard_Disk/Datasets/Deep-Spectral-Segmentation/data/object-segmentation/ECSSD/features/dino_vits16/0127.pth\n",
      "dict_keys(['k', 'indices', 'file', 'id', 'model_name', 'patch_size', 'shape'])\n",
      "0127\n",
      "Starting Training\n",
      "epoch: 00, loss: -0.02260\n",
      "epoch: 01, loss: -0.04871\n",
      "epoch: 02, loss: -0.04972\n",
      "epoch: 03, loss: -0.05197\n",
      "epoch: 04, loss: -0.05267\n",
      "epoch: 05, loss: -0.05247\n",
      "epoch: 06, loss: -0.05456\n",
      "epoch: 07, loss: -0.05140\n",
      "epoch: 08, loss: -0.05451\n",
      "epoch: 09, loss: -0.05323\n",
      "torch.Size([400, 64])\n"
     ]
    },
    {
     "name": "stderr",
     "output_type": "stream",
     "text": [
      "\r",
      " 13%|████████████████████▍                                                                                                                                            | 127/1000 [48:44<5:28:47, 22.60s/it]"
     ]
    },
    {
     "name": "stdout",
     "output_type": "stream",
     "text": [
      "eigenvalues shape torch.Size([5]) eigenvectors shape torch.Size([5, 400])\n",
      "127 /home/phdcs2/Hard_Disk/Datasets/Deep-Spectral-Segmentation/data/object-segmentation/ECSSD/features/dino_vits16/0128.pth\n",
      "dict_keys(['k', 'indices', 'file', 'id', 'model_name', 'patch_size', 'shape'])\n",
      "0128\n",
      "Starting Training\n",
      "epoch: 00, loss: -0.02592\n",
      "epoch: 01, loss: -0.04971\n",
      "epoch: 02, loss: -0.05181\n",
      "epoch: 03, loss: -0.05192\n",
      "epoch: 04, loss: -0.05227\n",
      "epoch: 05, loss: -0.05261\n",
      "epoch: 06, loss: -0.05251\n",
      "epoch: 07, loss: -0.05257\n",
      "epoch: 08, loss: -0.05289\n",
      "epoch: 09, loss: -0.05285\n",
      "torch.Size([400, 64])\n"
     ]
    },
    {
     "name": "stderr",
     "output_type": "stream",
     "text": [
      "\r",
      " 13%|████████████████████▌                                                                                                                                            | 128/1000 [49:09<5:37:24, 23.22s/it]"
     ]
    },
    {
     "name": "stdout",
     "output_type": "stream",
     "text": [
      "eigenvalues shape torch.Size([5]) eigenvectors shape torch.Size([5, 400])\n",
      "128 /home/phdcs2/Hard_Disk/Datasets/Deep-Spectral-Segmentation/data/object-segmentation/ECSSD/features/dino_vits16/0129.pth\n",
      "dict_keys(['k', 'indices', 'file', 'id', 'model_name', 'patch_size', 'shape'])\n",
      "0129\n",
      "Starting Training\n",
      "epoch: 00, loss: -0.06196\n",
      "epoch: 01, loss: -0.08034\n",
      "epoch: 02, loss: -0.08197\n",
      "epoch: 03, loss: -0.08090\n",
      "epoch: 04, loss: -0.08138\n",
      "epoch: 05, loss: -0.08181\n",
      "epoch: 06, loss: -0.08155\n",
      "epoch: 07, loss: -0.08161\n",
      "epoch: 08, loss: -0.08163\n",
      "epoch: 09, loss: -0.08307\n",
      "torch.Size([425, 64])\n"
     ]
    },
    {
     "name": "stderr",
     "output_type": "stream",
     "text": [
      "\r",
      " 13%|████████████████████▊                                                                                                                                            | 129/1000 [49:39<6:09:08, 25.43s/it]"
     ]
    },
    {
     "name": "stdout",
     "output_type": "stream",
     "text": [
      "eigenvalues shape torch.Size([5]) eigenvectors shape torch.Size([5, 425])\n",
      "129 /home/phdcs2/Hard_Disk/Datasets/Deep-Spectral-Segmentation/data/object-segmentation/ECSSD/features/dino_vits16/0130.pth\n",
      "dict_keys(['k', 'indices', 'file', 'id', 'model_name', 'patch_size', 'shape'])\n",
      "0130\n",
      "Starting Training\n",
      "epoch: 00, loss: -0.00776\n",
      "epoch: 01, loss: -0.02115\n",
      "epoch: 02, loss: -0.02596\n",
      "epoch: 03, loss: -0.02789\n",
      "epoch: 04, loss: -0.02860\n",
      "epoch: 05, loss: -0.02908\n",
      "epoch: 06, loss: -0.02904\n",
      "epoch: 07, loss: -0.02874\n",
      "epoch: 08, loss: -0.02958\n",
      "epoch: 09, loss: -0.02910\n",
      "torch.Size([425, 64])\n"
     ]
    },
    {
     "name": "stderr",
     "output_type": "stream",
     "text": [
      "\r",
      " 13%|████████████████████▉                                                                                                                                            | 130/1000 [50:03<5:59:49, 24.82s/it]"
     ]
    },
    {
     "name": "stdout",
     "output_type": "stream",
     "text": [
      "eigenvalues shape torch.Size([5]) eigenvectors shape torch.Size([5, 425])\n",
      "130 /home/phdcs2/Hard_Disk/Datasets/Deep-Spectral-Segmentation/data/object-segmentation/ECSSD/features/dino_vits16/0131.pth\n",
      "dict_keys(['k', 'indices', 'file', 'id', 'model_name', 'patch_size', 'shape'])\n",
      "0131\n",
      "Starting Training\n",
      "epoch: 00, loss: -0.06878\n",
      "epoch: 01, loss: -0.09189\n",
      "epoch: 02, loss: -0.09284\n",
      "epoch: 03, loss: -0.09285\n",
      "epoch: 04, loss: -0.09300\n",
      "epoch: 05, loss: -0.09336\n",
      "epoch: 06, loss: -0.09335\n",
      "epoch: 07, loss: -0.09348\n",
      "epoch: 08, loss: -0.09374\n",
      "epoch: 09, loss: -0.09370\n",
      "torch.Size([450, 64])\n"
     ]
    },
    {
     "name": "stderr",
     "output_type": "stream",
     "text": [
      "\r",
      " 13%|█████████████████████                                                                                                                                            | 131/1000 [50:30<6:11:29, 25.65s/it]"
     ]
    },
    {
     "name": "stdout",
     "output_type": "stream",
     "text": [
      "eigenvalues shape torch.Size([5]) eigenvectors shape torch.Size([5, 450])\n",
      "131 /home/phdcs2/Hard_Disk/Datasets/Deep-Spectral-Segmentation/data/object-segmentation/ECSSD/features/dino_vits16/0132.pth\n",
      "dict_keys(['k', 'indices', 'file', 'id', 'model_name', 'patch_size', 'shape'])\n",
      "0132\n",
      "Starting Training\n",
      "epoch: 00, loss: -0.04109\n",
      "epoch: 01, loss: -0.06435\n",
      "epoch: 02, loss: -0.06618\n",
      "epoch: 03, loss: -0.06520\n",
      "epoch: 04, loss: -0.06686\n",
      "epoch: 05, loss: -0.06703\n",
      "epoch: 06, loss: -0.06720\n",
      "epoch: 07, loss: -0.06720\n",
      "epoch: 08, loss: -0.06759\n",
      "epoch: 09, loss: -0.06737\n",
      "torch.Size([400, 64])\n"
     ]
    },
    {
     "name": "stderr",
     "output_type": "stream",
     "text": [
      "\r",
      " 13%|█████████████████████▎                                                                                                                                           | 132/1000 [50:55<6:05:30, 25.27s/it]"
     ]
    },
    {
     "name": "stdout",
     "output_type": "stream",
     "text": [
      "eigenvalues shape torch.Size([5]) eigenvectors shape torch.Size([5, 400])\n",
      "132 /home/phdcs2/Hard_Disk/Datasets/Deep-Spectral-Segmentation/data/object-segmentation/ECSSD/features/dino_vits16/0133.pth\n",
      "dict_keys(['k', 'indices', 'file', 'id', 'model_name', 'patch_size', 'shape'])\n",
      "0133\n",
      "Starting Training\n",
      "epoch: 00, loss: -0.08023\n",
      "epoch: 01, loss: -0.10385\n",
      "epoch: 02, loss: -0.10866\n",
      "epoch: 03, loss: -0.11087\n",
      "epoch: 04, loss: -0.11013\n",
      "epoch: 05, loss: -0.10948\n",
      "epoch: 06, loss: -0.10880\n",
      "epoch: 07, loss: -0.10780\n",
      "epoch: 08, loss: -0.11035\n",
      "epoch: 09, loss: -0.11012\n",
      "torch.Size([525, 64])\n"
     ]
    },
    {
     "name": "stderr",
     "output_type": "stream",
     "text": [
      "\r",
      " 13%|█████████████████████▍                                                                                                                                           | 133/1000 [51:35<7:10:57, 29.82s/it]"
     ]
    },
    {
     "name": "stdout",
     "output_type": "stream",
     "text": [
      "eigenvalues shape torch.Size([5]) eigenvectors shape torch.Size([5, 525])\n",
      "133 /home/phdcs2/Hard_Disk/Datasets/Deep-Spectral-Segmentation/data/object-segmentation/ECSSD/features/dino_vits16/0134.pth\n",
      "dict_keys(['k', 'indices', 'file', 'id', 'model_name', 'patch_size', 'shape'])\n",
      "0134\n",
      "Starting Training\n",
      "epoch: 00, loss: -0.02273\n",
      "epoch: 01, loss: -0.04492\n",
      "epoch: 02, loss: -0.04828\n",
      "epoch: 03, loss: -0.05111\n",
      "epoch: 04, loss: -0.05243\n",
      "epoch: 05, loss: -0.05138\n",
      "epoch: 06, loss: -0.05416\n",
      "epoch: 07, loss: -0.05713\n",
      "epoch: 08, loss: -0.05329\n",
      "epoch: 09, loss: -0.05286\n",
      "torch.Size([400, 64])\n"
     ]
    },
    {
     "name": "stderr",
     "output_type": "stream",
     "text": [
      "\r",
      " 13%|█████████████████████▌                                                                                                                                           | 134/1000 [52:02<6:57:53, 28.95s/it]"
     ]
    },
    {
     "name": "stdout",
     "output_type": "stream",
     "text": [
      "eigenvalues shape torch.Size([5]) eigenvectors shape torch.Size([5, 400])\n",
      "134 /home/phdcs2/Hard_Disk/Datasets/Deep-Spectral-Segmentation/data/object-segmentation/ECSSD/features/dino_vits16/0135.pth\n",
      "dict_keys(['k', 'indices', 'file', 'id', 'model_name', 'patch_size', 'shape'])\n",
      "0135\n",
      "Starting Training\n",
      "epoch: 00, loss: -0.05093\n",
      "epoch: 01, loss: -0.06529\n",
      "epoch: 02, loss: -0.06587\n",
      "epoch: 03, loss: -0.06653\n",
      "epoch: 04, loss: -0.06699\n",
      "epoch: 05, loss: -0.06706\n",
      "epoch: 06, loss: -0.06722\n",
      "epoch: 07, loss: -0.06732\n",
      "epoch: 08, loss: -0.06747\n",
      "epoch: 09, loss: -0.06754\n",
      "torch.Size([450, 64])\n"
     ]
    },
    {
     "name": "stderr",
     "output_type": "stream",
     "text": [
      "\r",
      " 14%|█████████████████████▋                                                                                                                                           | 135/1000 [52:32<7:01:57, 29.27s/it]"
     ]
    },
    {
     "name": "stdout",
     "output_type": "stream",
     "text": [
      "eigenvalues shape torch.Size([5]) eigenvectors shape torch.Size([5, 450])\n",
      "135 /home/phdcs2/Hard_Disk/Datasets/Deep-Spectral-Segmentation/data/object-segmentation/ECSSD/features/dino_vits16/0136.pth\n",
      "dict_keys(['k', 'indices', 'file', 'id', 'model_name', 'patch_size', 'shape'])\n",
      "0136\n",
      "Starting Training\n",
      "epoch: 00, loss: -0.03221\n",
      "epoch: 01, loss: -0.04981\n",
      "epoch: 02, loss: -0.05098\n",
      "epoch: 03, loss: -0.05165\n",
      "epoch: 04, loss: -0.05202\n",
      "epoch: 05, loss: -0.05236\n",
      "epoch: 06, loss: -0.05263\n",
      "epoch: 07, loss: -0.05272\n",
      "epoch: 08, loss: -0.05271\n",
      "epoch: 09, loss: -0.05275\n",
      "torch.Size([450, 64])\n"
     ]
    },
    {
     "name": "stderr",
     "output_type": "stream",
     "text": [
      "\r",
      " 14%|█████████████████████▉                                                                                                                                           | 136/1000 [53:00<6:54:05, 28.76s/it]"
     ]
    },
    {
     "name": "stdout",
     "output_type": "stream",
     "text": [
      "eigenvalues shape torch.Size([5]) eigenvectors shape torch.Size([5, 450])\n",
      "136 /home/phdcs2/Hard_Disk/Datasets/Deep-Spectral-Segmentation/data/object-segmentation/ECSSD/features/dino_vits16/0137.pth\n",
      "dict_keys(['k', 'indices', 'file', 'id', 'model_name', 'patch_size', 'shape'])\n",
      "0137\n",
      "Starting Training\n",
      "epoch: 00, loss: -0.05499\n",
      "epoch: 01, loss: -0.07788\n",
      "epoch: 02, loss: -0.07762\n",
      "epoch: 03, loss: -0.07968\n",
      "epoch: 04, loss: -0.07665\n",
      "epoch: 05, loss: -0.07815\n",
      "epoch: 06, loss: -0.07855\n",
      "epoch: 07, loss: -0.08050\n",
      "epoch: 08, loss: -0.08016\n",
      "epoch: 09, loss: -0.07883\n",
      "torch.Size([475, 64])\n"
     ]
    },
    {
     "name": "stderr",
     "output_type": "stream",
     "text": [
      "\r",
      " 14%|██████████████████████                                                                                                                                           | 137/1000 [53:25<6:38:53, 27.73s/it]"
     ]
    },
    {
     "name": "stdout",
     "output_type": "stream",
     "text": [
      "eigenvalues shape torch.Size([5]) eigenvectors shape torch.Size([5, 475])\n",
      "137 /home/phdcs2/Hard_Disk/Datasets/Deep-Spectral-Segmentation/data/object-segmentation/ECSSD/features/dino_vits16/0138.pth\n",
      "dict_keys(['k', 'indices', 'file', 'id', 'model_name', 'patch_size', 'shape'])\n",
      "0138\n",
      "Starting Training\n",
      "epoch: 00, loss: -0.09505\n",
      "epoch: 01, loss: -0.13148\n",
      "epoch: 02, loss: -0.13652\n",
      "epoch: 03, loss: -0.13809\n",
      "epoch: 04, loss: -0.14065\n",
      "epoch: 05, loss: -0.14160\n",
      "epoch: 06, loss: -0.14336\n",
      "epoch: 07, loss: -0.14169\n",
      "epoch: 08, loss: -0.14349\n",
      "epoch: 09, loss: -0.14236\n",
      "torch.Size([450, 64])\n"
     ]
    },
    {
     "name": "stderr",
     "output_type": "stream",
     "text": [
      "\r",
      " 14%|██████████████████████▏                                                                                                                                          | 138/1000 [53:48<6:17:52, 26.30s/it]"
     ]
    },
    {
     "name": "stdout",
     "output_type": "stream",
     "text": [
      "eigenvalues shape torch.Size([5]) eigenvectors shape torch.Size([5, 450])\n",
      "138 /home/phdcs2/Hard_Disk/Datasets/Deep-Spectral-Segmentation/data/object-segmentation/ECSSD/features/dino_vits16/0139.pth\n",
      "dict_keys(['k', 'indices', 'file', 'id', 'model_name', 'patch_size', 'shape'])\n",
      "0139\n",
      "Starting Training\n",
      "epoch: 00, loss: -0.03058\n",
      "epoch: 01, loss: -0.06248\n",
      "epoch: 02, loss: -0.06426\n",
      "epoch: 03, loss: -0.06711\n",
      "epoch: 04, loss: -0.06692\n",
      "epoch: 05, loss: -0.06599\n",
      "epoch: 06, loss: -0.06845\n",
      "epoch: 07, loss: -0.06927\n",
      "epoch: 08, loss: -0.06702\n",
      "epoch: 09, loss: -0.06800\n",
      "torch.Size([450, 64])\n"
     ]
    },
    {
     "name": "stderr",
     "output_type": "stream",
     "text": [
      "\r",
      " 14%|██████████████████████▍                                                                                                                                          | 139/1000 [54:11<6:01:35, 25.20s/it]"
     ]
    },
    {
     "name": "stdout",
     "output_type": "stream",
     "text": [
      "eigenvalues shape torch.Size([5]) eigenvectors shape torch.Size([5, 450])\n",
      "139 /home/phdcs2/Hard_Disk/Datasets/Deep-Spectral-Segmentation/data/object-segmentation/ECSSD/features/dino_vits16/0140.pth\n",
      "dict_keys(['k', 'indices', 'file', 'id', 'model_name', 'patch_size', 'shape'])\n",
      "0140\n",
      "Starting Training\n",
      "epoch: 00, loss: -0.00071\n",
      "epoch: 01, loss: -0.01216\n",
      "epoch: 02, loss: -0.01589\n",
      "epoch: 03, loss: -0.01723\n",
      "epoch: 04, loss: -0.01818\n",
      "epoch: 05, loss: -0.01853\n",
      "epoch: 06, loss: -0.01890\n",
      "epoch: 07, loss: -0.01923\n",
      "epoch: 08, loss: -0.01942\n",
      "epoch: 09, loss: -0.01946\n",
      "torch.Size([450, 64])\n"
     ]
    },
    {
     "name": "stderr",
     "output_type": "stream",
     "text": [
      "\r",
      " 14%|██████████████████████▌                                                                                                                                          | 140/1000 [54:35<5:59:06, 25.05s/it]"
     ]
    },
    {
     "name": "stdout",
     "output_type": "stream",
     "text": [
      "eigenvalues shape torch.Size([5]) eigenvectors shape torch.Size([5, 450])\n",
      "140 /home/phdcs2/Hard_Disk/Datasets/Deep-Spectral-Segmentation/data/object-segmentation/ECSSD/features/dino_vits16/0141.pth\n",
      "dict_keys(['k', 'indices', 'file', 'id', 'model_name', 'patch_size', 'shape'])\n",
      "0141\n",
      "Starting Training\n",
      "epoch: 00, loss: -0.00021\n",
      "epoch: 01, loss: -0.02073\n",
      "epoch: 02, loss: -0.02851\n",
      "epoch: 03, loss: -0.03126\n",
      "epoch: 04, loss: -0.03246\n",
      "epoch: 05, loss: -0.03282\n",
      "epoch: 06, loss: -0.03277\n",
      "epoch: 07, loss: -0.03310\n",
      "epoch: 08, loss: -0.03320\n",
      "epoch: 09, loss: -0.03354\n",
      "torch.Size([350, 64])\n"
     ]
    },
    {
     "name": "stderr",
     "output_type": "stream",
     "text": [
      "\r",
      " 14%|██████████████████████▋                                                                                                                                          | 141/1000 [54:59<5:52:18, 24.61s/it]"
     ]
    },
    {
     "name": "stdout",
     "output_type": "stream",
     "text": [
      "eigenvalues shape torch.Size([5]) eigenvectors shape torch.Size([5, 350])\n",
      "141 /home/phdcs2/Hard_Disk/Datasets/Deep-Spectral-Segmentation/data/object-segmentation/ECSSD/features/dino_vits16/0142.pth\n",
      "dict_keys(['k', 'indices', 'file', 'id', 'model_name', 'patch_size', 'shape'])\n",
      "0142\n",
      "Starting Training\n",
      "epoch: 00, loss: -0.10845\n",
      "epoch: 01, loss: -0.13149\n",
      "epoch: 02, loss: -0.13349\n",
      "epoch: 03, loss: -0.13744\n",
      "epoch: 04, loss: -0.13805\n",
      "epoch: 05, loss: -0.13826\n",
      "epoch: 06, loss: -0.13877\n",
      "epoch: 07, loss: -0.13903\n",
      "epoch: 08, loss: -0.14077\n",
      "epoch: 09, loss: -0.14110\n",
      "torch.Size([450, 64])\n"
     ]
    },
    {
     "name": "stderr",
     "output_type": "stream",
     "text": [
      "\r",
      " 14%|██████████████████████▊                                                                                                                                          | 142/1000 [55:24<5:53:02, 24.69s/it]"
     ]
    },
    {
     "name": "stdout",
     "output_type": "stream",
     "text": [
      "eigenvalues shape torch.Size([5]) eigenvectors shape torch.Size([5, 450])\n",
      "142 /home/phdcs2/Hard_Disk/Datasets/Deep-Spectral-Segmentation/data/object-segmentation/ECSSD/features/dino_vits16/0143.pth\n",
      "dict_keys(['k', 'indices', 'file', 'id', 'model_name', 'patch_size', 'shape'])\n",
      "0143\n",
      "Starting Training\n",
      "epoch: 00, loss: -0.03985\n",
      "epoch: 01, loss: -0.06015\n",
      "epoch: 02, loss: -0.06118\n",
      "epoch: 03, loss: -0.06159\n",
      "epoch: 04, loss: -0.06199\n",
      "epoch: 05, loss: -0.06204\n",
      "epoch: 06, loss: -0.06226\n",
      "epoch: 07, loss: -0.06233\n",
      "epoch: 08, loss: -0.06254\n",
      "epoch: 09, loss: -0.06271\n",
      "torch.Size([450, 64])\n"
     ]
    },
    {
     "name": "stderr",
     "output_type": "stream",
     "text": [
      "\r",
      " 14%|███████████████████████                                                                                                                                          | 143/1000 [55:52<6:09:29, 25.87s/it]"
     ]
    },
    {
     "name": "stdout",
     "output_type": "stream",
     "text": [
      "eigenvalues shape torch.Size([5]) eigenvectors shape torch.Size([5, 450])\n",
      "143 /home/phdcs2/Hard_Disk/Datasets/Deep-Spectral-Segmentation/data/object-segmentation/ECSSD/features/dino_vits16/0144.pth\n",
      "dict_keys(['k', 'indices', 'file', 'id', 'model_name', 'patch_size', 'shape'])\n",
      "0144\n",
      "Starting Training\n",
      "epoch: 00, loss: -0.04166\n",
      "epoch: 01, loss: -0.07139\n",
      "epoch: 02, loss: -0.07414\n",
      "epoch: 03, loss: -0.07606\n",
      "epoch: 04, loss: -0.07895\n",
      "epoch: 05, loss: -0.07830\n",
      "epoch: 06, loss: -0.07614\n",
      "epoch: 07, loss: -0.07781\n",
      "epoch: 08, loss: -0.07673\n",
      "epoch: 09, loss: -0.07950\n",
      "torch.Size([425, 64])\n"
     ]
    },
    {
     "name": "stderr",
     "output_type": "stream",
     "text": [
      "\r",
      " 14%|███████████████████████▏                                                                                                                                         | 144/1000 [56:23<6:31:21, 27.43s/it]"
     ]
    },
    {
     "name": "stdout",
     "output_type": "stream",
     "text": [
      "eigenvalues shape torch.Size([5]) eigenvectors shape torch.Size([5, 425])\n",
      "144 /home/phdcs2/Hard_Disk/Datasets/Deep-Spectral-Segmentation/data/object-segmentation/ECSSD/features/dino_vits16/0145.pth\n",
      "dict_keys(['k', 'indices', 'file', 'id', 'model_name', 'patch_size', 'shape'])\n",
      "0145\n",
      "Starting Training\n",
      "epoch: 00, loss: -0.04825\n",
      "epoch: 01, loss: -0.07828\n",
      "epoch: 02, loss: -0.08553\n",
      "epoch: 03, loss: -0.08687\n",
      "epoch: 04, loss: -0.08641\n",
      "epoch: 05, loss: -0.08838\n",
      "epoch: 06, loss: -0.08722\n",
      "epoch: 07, loss: -0.08830\n",
      "epoch: 08, loss: -0.08802\n",
      "epoch: 09, loss: -0.08937\n",
      "torch.Size([450, 64])\n"
     ]
    },
    {
     "name": "stderr",
     "output_type": "stream",
     "text": [
      "\r",
      " 14%|███████████████████████▎                                                                                                                                         | 145/1000 [56:50<6:28:45, 27.28s/it]"
     ]
    },
    {
     "name": "stdout",
     "output_type": "stream",
     "text": [
      "eigenvalues shape torch.Size([5]) eigenvectors shape torch.Size([5, 450])\n",
      "145 /home/phdcs2/Hard_Disk/Datasets/Deep-Spectral-Segmentation/data/object-segmentation/ECSSD/features/dino_vits16/0146.pth\n",
      "dict_keys(['k', 'indices', 'file', 'id', 'model_name', 'patch_size', 'shape'])\n",
      "0146\n",
      "Starting Training\n",
      "epoch: 00, loss: -0.02605\n",
      "epoch: 01, loss: -0.05803\n",
      "epoch: 02, loss: -0.06365\n",
      "epoch: 03, loss: -0.06309\n",
      "epoch: 04, loss: -0.06541\n",
      "epoch: 05, loss: -0.06658\n",
      "epoch: 06, loss: -0.06843\n",
      "epoch: 07, loss: -0.06625\n",
      "epoch: 08, loss: -0.06931\n",
      "epoch: 09, loss: -0.07062\n",
      "torch.Size([400, 64])\n"
     ]
    },
    {
     "name": "stderr",
     "output_type": "stream",
     "text": [
      "\r",
      " 15%|███████████████████████▌                                                                                                                                         | 146/1000 [57:10<5:56:44, 25.06s/it]"
     ]
    },
    {
     "name": "stdout",
     "output_type": "stream",
     "text": [
      "eigenvalues shape torch.Size([5]) eigenvectors shape torch.Size([5, 400])\n",
      "146 /home/phdcs2/Hard_Disk/Datasets/Deep-Spectral-Segmentation/data/object-segmentation/ECSSD/features/dino_vits16/0147.pth\n",
      "dict_keys(['k', 'indices', 'file', 'id', 'model_name', 'patch_size', 'shape'])\n",
      "0147\n",
      "Starting Training\n",
      "epoch: 00, loss: -0.02563\n",
      "epoch: 01, loss: -0.04135\n",
      "epoch: 02, loss: -0.04278\n",
      "epoch: 03, loss: -0.04338\n",
      "epoch: 04, loss: -0.04362\n",
      "epoch: 05, loss: -0.04385\n",
      "epoch: 06, loss: -0.04400\n",
      "epoch: 07, loss: -0.04405\n",
      "epoch: 08, loss: -0.04418\n",
      "epoch: 09, loss: -0.04433\n",
      "torch.Size([550, 64])\n"
     ]
    },
    {
     "name": "stderr",
     "output_type": "stream",
     "text": [
      "\r",
      " 15%|███████████████████████▋                                                                                                                                         | 147/1000 [57:56<7:23:19, 31.18s/it]"
     ]
    },
    {
     "name": "stdout",
     "output_type": "stream",
     "text": [
      "eigenvalues shape torch.Size([5]) eigenvectors shape torch.Size([5, 550])\n",
      "147 /home/phdcs2/Hard_Disk/Datasets/Deep-Spectral-Segmentation/data/object-segmentation/ECSSD/features/dino_vits16/0148.pth\n",
      "dict_keys(['k', 'indices', 'file', 'id', 'model_name', 'patch_size', 'shape'])\n",
      "0148\n",
      "Starting Training\n",
      "epoch: 00, loss: -0.05173\n",
      "epoch: 01, loss: -0.08430\n",
      "epoch: 02, loss: -0.09004\n",
      "epoch: 03, loss: -0.09059\n",
      "epoch: 04, loss: -0.09285\n",
      "epoch: 05, loss: -0.09190\n",
      "epoch: 06, loss: -0.09340\n",
      "epoch: 07, loss: -0.09090\n",
      "epoch: 08, loss: -0.09202\n",
      "epoch: 09, loss: -0.09408\n",
      "torch.Size([400, 64])\n"
     ]
    },
    {
     "name": "stderr",
     "output_type": "stream",
     "text": [
      "\r",
      " 15%|███████████████████████▊                                                                                                                                         | 148/1000 [58:16<6:34:10, 27.76s/it]"
     ]
    },
    {
     "name": "stdout",
     "output_type": "stream",
     "text": [
      "eigenvalues shape torch.Size([5]) eigenvectors shape torch.Size([5, 400])\n",
      "148 /home/phdcs2/Hard_Disk/Datasets/Deep-Spectral-Segmentation/data/object-segmentation/ECSSD/features/dino_vits16/0149.pth\n",
      "dict_keys(['k', 'indices', 'file', 'id', 'model_name', 'patch_size', 'shape'])\n",
      "0149\n",
      "Starting Training\n",
      "epoch: 00, loss: -0.05563\n",
      "epoch: 01, loss: -0.09095\n",
      "epoch: 02, loss: -0.09646\n",
      "epoch: 03, loss: -0.09589\n",
      "epoch: 04, loss: -0.09675\n",
      "epoch: 05, loss: -0.09819\n",
      "epoch: 06, loss: -0.09319\n",
      "epoch: 07, loss: -0.09953\n",
      "epoch: 08, loss: -0.09925\n",
      "epoch: 09, loss: -0.09819\n",
      "torch.Size([400, 64])\n"
     ]
    },
    {
     "name": "stderr",
     "output_type": "stream",
     "text": [
      "\r",
      " 15%|███████████████████████▉                                                                                                                                         | 149/1000 [58:39<6:17:14, 26.60s/it]"
     ]
    },
    {
     "name": "stdout",
     "output_type": "stream",
     "text": [
      "eigenvalues shape torch.Size([5]) eigenvectors shape torch.Size([5, 400])\n",
      "149 /home/phdcs2/Hard_Disk/Datasets/Deep-Spectral-Segmentation/data/object-segmentation/ECSSD/features/dino_vits16/0150.pth\n",
      "dict_keys(['k', 'indices', 'file', 'id', 'model_name', 'patch_size', 'shape'])\n",
      "0150\n",
      "Starting Training\n",
      "epoch: 00, loss: -0.01919\n",
      "epoch: 01, loss: -0.04172\n",
      "epoch: 02, loss: -0.04327\n",
      "epoch: 03, loss: -0.04398\n",
      "epoch: 04, loss: -0.04405\n",
      "epoch: 05, loss: -0.04450\n",
      "epoch: 06, loss: -0.04466\n",
      "epoch: 07, loss: -0.04473\n",
      "epoch: 08, loss: -0.04479\n",
      "epoch: 09, loss: -0.04497\n",
      "torch.Size([450, 64])\n"
     ]
    },
    {
     "name": "stderr",
     "output_type": "stream",
     "text": [
      "\r",
      " 15%|████████████████████████▏                                                                                                                                        | 150/1000 [59:04<6:09:47, 26.10s/it]"
     ]
    },
    {
     "name": "stdout",
     "output_type": "stream",
     "text": [
      "eigenvalues shape torch.Size([5]) eigenvectors shape torch.Size([5, 450])\n",
      "150 /home/phdcs2/Hard_Disk/Datasets/Deep-Spectral-Segmentation/data/object-segmentation/ECSSD/features/dino_vits16/0151.pth\n",
      "dict_keys(['k', 'indices', 'file', 'id', 'model_name', 'patch_size', 'shape'])\n",
      "0151\n",
      "Starting Training\n",
      "epoch: 00, loss: -0.06862\n",
      "epoch: 01, loss: -0.09094\n",
      "epoch: 02, loss: -0.09309\n",
      "epoch: 03, loss: -0.09204\n",
      "epoch: 04, loss: -0.09293\n",
      "epoch: 05, loss: -0.09261\n",
      "epoch: 06, loss: -0.09336\n",
      "epoch: 07, loss: -0.09268\n",
      "epoch: 08, loss: -0.09334\n",
      "epoch: 09, loss: -0.09390\n",
      "torch.Size([525, 64])\n"
     ]
    },
    {
     "name": "stderr",
     "output_type": "stream",
     "text": [
      "\r",
      " 15%|████████████████████████▎                                                                                                                                        | 151/1000 [59:35<6:27:30, 27.39s/it]"
     ]
    },
    {
     "name": "stdout",
     "output_type": "stream",
     "text": [
      "eigenvalues shape torch.Size([5]) eigenvectors shape torch.Size([5, 525])\n",
      "151 /home/phdcs2/Hard_Disk/Datasets/Deep-Spectral-Segmentation/data/object-segmentation/ECSSD/features/dino_vits16/0152.pth\n",
      "dict_keys(['k', 'indices', 'file', 'id', 'model_name', 'patch_size', 'shape'])\n",
      "0152\n",
      "Starting Training\n",
      "epoch: 00, loss: -0.05495\n",
      "epoch: 01, loss: -0.07511\n",
      "epoch: 02, loss: -0.07577\n",
      "epoch: 03, loss: -0.07626\n",
      "epoch: 04, loss: -0.07601\n",
      "epoch: 05, loss: -0.07643\n",
      "epoch: 06, loss: -0.07648\n",
      "epoch: 07, loss: -0.07667\n",
      "epoch: 08, loss: -0.07691\n",
      "epoch: 09, loss: -0.07684\n",
      "torch.Size([450, 64])\n"
     ]
    },
    {
     "name": "stderr",
     "output_type": "stream",
     "text": [
      "\r",
      " 15%|████████████████████████▏                                                                                                                                      | 152/1000 [1:00:04<6:34:45, 27.93s/it]"
     ]
    },
    {
     "name": "stdout",
     "output_type": "stream",
     "text": [
      "eigenvalues shape torch.Size([5]) eigenvectors shape torch.Size([5, 450])\n",
      "152 /home/phdcs2/Hard_Disk/Datasets/Deep-Spectral-Segmentation/data/object-segmentation/ECSSD/features/dino_vits16/0153.pth\n",
      "dict_keys(['k', 'indices', 'file', 'id', 'model_name', 'patch_size', 'shape'])\n",
      "0153\n",
      "Starting Training\n",
      "epoch: 00, loss: -0.04767\n",
      "epoch: 01, loss: -0.07636\n",
      "epoch: 02, loss: -0.08145\n",
      "epoch: 03, loss: -0.08319\n",
      "epoch: 04, loss: -0.08285\n",
      "epoch: 05, loss: -0.08318\n",
      "epoch: 06, loss: -0.08456\n",
      "epoch: 07, loss: -0.08566\n",
      "epoch: 08, loss: -0.08545\n",
      "epoch: 09, loss: -0.08516\n",
      "torch.Size([450, 64])\n"
     ]
    },
    {
     "name": "stderr",
     "output_type": "stream",
     "text": [
      "\r",
      " 15%|████████████████████████▎                                                                                                                                      | 153/1000 [1:00:34<6:44:56, 28.69s/it]"
     ]
    },
    {
     "name": "stdout",
     "output_type": "stream",
     "text": [
      "eigenvalues shape torch.Size([5]) eigenvectors shape torch.Size([5, 450])\n",
      "153 /home/phdcs2/Hard_Disk/Datasets/Deep-Spectral-Segmentation/data/object-segmentation/ECSSD/features/dino_vits16/0154.pth\n",
      "dict_keys(['k', 'indices', 'file', 'id', 'model_name', 'patch_size', 'shape'])\n",
      "0154\n",
      "Starting Training\n",
      "epoch: 00, loss: -0.02426\n",
      "epoch: 01, loss: -0.04989\n",
      "epoch: 02, loss: -0.05194\n",
      "epoch: 03, loss: -0.05248\n",
      "epoch: 04, loss: -0.05299\n",
      "epoch: 05, loss: -0.05291\n",
      "epoch: 06, loss: -0.05314\n",
      "epoch: 07, loss: -0.05330\n",
      "epoch: 08, loss: -0.05344\n",
      "epoch: 09, loss: -0.05357\n",
      "torch.Size([450, 64])\n"
     ]
    },
    {
     "name": "stderr",
     "output_type": "stream",
     "text": [
      "\r",
      " 15%|████████████████████████▍                                                                                                                                      | 154/1000 [1:00:57<6:20:39, 27.00s/it]"
     ]
    },
    {
     "name": "stdout",
     "output_type": "stream",
     "text": [
      "eigenvalues shape torch.Size([5]) eigenvectors shape torch.Size([5, 450])\n",
      "154 /home/phdcs2/Hard_Disk/Datasets/Deep-Spectral-Segmentation/data/object-segmentation/ECSSD/features/dino_vits16/0155.pth\n",
      "dict_keys(['k', 'indices', 'file', 'id', 'model_name', 'patch_size', 'shape'])\n",
      "0155\n",
      "Starting Training\n",
      "epoch: 00, loss: -0.03298\n",
      "epoch: 01, loss: -0.04789\n",
      "epoch: 02, loss: -0.04957\n",
      "epoch: 03, loss: -0.04922\n",
      "epoch: 04, loss: -0.05004\n",
      "epoch: 05, loss: -0.05053\n",
      "epoch: 06, loss: -0.04982\n",
      "epoch: 07, loss: -0.04970\n",
      "epoch: 08, loss: -0.04969\n",
      "epoch: 09, loss: -0.04986\n",
      "torch.Size([475, 64])\n"
     ]
    },
    {
     "name": "stderr",
     "output_type": "stream",
     "text": [
      "\r",
      " 16%|████████████████████████▋                                                                                                                                      | 155/1000 [1:01:21<6:05:45, 25.97s/it]"
     ]
    },
    {
     "name": "stdout",
     "output_type": "stream",
     "text": [
      "eigenvalues shape torch.Size([5]) eigenvectors shape torch.Size([5, 475])\n",
      "155 /home/phdcs2/Hard_Disk/Datasets/Deep-Spectral-Segmentation/data/object-segmentation/ECSSD/features/dino_vits16/0156.pth\n",
      "dict_keys(['k', 'indices', 'file', 'id', 'model_name', 'patch_size', 'shape'])\n",
      "0156\n",
      "Starting Training\n",
      "epoch: 00, loss: -0.06631\n",
      "epoch: 01, loss: -0.08817\n",
      "epoch: 02, loss: -0.09006\n",
      "epoch: 03, loss: -0.08999\n",
      "epoch: 04, loss: -0.09334\n",
      "epoch: 05, loss: -0.09172\n",
      "epoch: 06, loss: -0.09236\n",
      "epoch: 07, loss: -0.09347\n",
      "epoch: 08, loss: -0.09387\n",
      "epoch: 09, loss: -0.09459\n",
      "torch.Size([400, 64])\n"
     ]
    },
    {
     "name": "stderr",
     "output_type": "stream",
     "text": [
      "\r",
      " 16%|████████████████████████▊                                                                                                                                      | 156/1000 [1:01:40<5:36:08, 23.90s/it]"
     ]
    },
    {
     "name": "stdout",
     "output_type": "stream",
     "text": [
      "eigenvalues shape torch.Size([5]) eigenvectors shape torch.Size([5, 400])\n",
      "156 /home/phdcs2/Hard_Disk/Datasets/Deep-Spectral-Segmentation/data/object-segmentation/ECSSD/features/dino_vits16/0157.pth\n",
      "dict_keys(['k', 'indices', 'file', 'id', 'model_name', 'patch_size', 'shape'])\n",
      "0157\n",
      "Starting Training\n",
      "epoch: 00, loss: -0.07827\n",
      "epoch: 01, loss: -0.12510\n",
      "epoch: 02, loss: -0.12916\n",
      "epoch: 03, loss: -0.13197\n",
      "epoch: 04, loss: -0.13411\n",
      "epoch: 05, loss: -0.13180\n",
      "epoch: 06, loss: -0.13361\n",
      "epoch: 07, loss: -0.13441\n",
      "epoch: 08, loss: -0.13438\n",
      "epoch: 09, loss: -0.13604\n",
      "torch.Size([375, 64])\n"
     ]
    },
    {
     "name": "stderr",
     "output_type": "stream",
     "text": [
      "\r",
      " 16%|████████████████████████▉                                                                                                                                      | 157/1000 [1:02:00<5:18:08, 22.64s/it]"
     ]
    },
    {
     "name": "stdout",
     "output_type": "stream",
     "text": [
      "eigenvalues shape torch.Size([5]) eigenvectors shape torch.Size([5, 375])\n",
      "157 /home/phdcs2/Hard_Disk/Datasets/Deep-Spectral-Segmentation/data/object-segmentation/ECSSD/features/dino_vits16/0158.pth\n",
      "dict_keys(['k', 'indices', 'file', 'id', 'model_name', 'patch_size', 'shape'])\n",
      "0158\n",
      "Starting Training\n",
      "epoch: 00, loss: -0.14141\n",
      "epoch: 01, loss: -0.17412\n",
      "epoch: 02, loss: -0.17690\n",
      "epoch: 03, loss: -0.17940\n",
      "epoch: 04, loss: -0.17954\n",
      "epoch: 05, loss: -0.17963\n",
      "epoch: 06, loss: -0.17946\n",
      "epoch: 07, loss: -0.18056\n",
      "epoch: 08, loss: -0.18122\n",
      "epoch: 09, loss: -0.18073\n",
      "torch.Size([300, 64])\n"
     ]
    },
    {
     "name": "stderr",
     "output_type": "stream",
     "text": [
      "\r",
      " 16%|█████████████████████████                                                                                                                                      | 158/1000 [1:02:18<4:58:58, 21.30s/it]"
     ]
    },
    {
     "name": "stdout",
     "output_type": "stream",
     "text": [
      "eigenvalues shape torch.Size([5]) eigenvectors shape torch.Size([5, 300])\n",
      "158 /home/phdcs2/Hard_Disk/Datasets/Deep-Spectral-Segmentation/data/object-segmentation/ECSSD/features/dino_vits16/0159.pth\n",
      "dict_keys(['k', 'indices', 'file', 'id', 'model_name', 'patch_size', 'shape'])\n",
      "0159\n",
      "Starting Training\n",
      "epoch: 00, loss: -0.07739\n",
      "epoch: 01, loss: -0.10034\n",
      "epoch: 02, loss: -0.10805\n",
      "epoch: 03, loss: -0.11020\n",
      "epoch: 04, loss: -0.11047\n",
      "epoch: 05, loss: -0.11020\n",
      "epoch: 06, loss: -0.11178\n",
      "epoch: 07, loss: -0.11164\n",
      "epoch: 08, loss: -0.11396\n",
      "epoch: 09, loss: -0.11270\n",
      "torch.Size([425, 64])\n"
     ]
    },
    {
     "name": "stderr",
     "output_type": "stream",
     "text": [
      "\r",
      " 16%|█████████████████████████▎                                                                                                                                     | 159/1000 [1:02:45<5:24:26, 23.15s/it]"
     ]
    },
    {
     "name": "stdout",
     "output_type": "stream",
     "text": [
      "eigenvalues shape torch.Size([5]) eigenvectors shape torch.Size([5, 425])\n",
      "159 /home/phdcs2/Hard_Disk/Datasets/Deep-Spectral-Segmentation/data/object-segmentation/ECSSD/features/dino_vits16/0160.pth\n",
      "dict_keys(['k', 'indices', 'file', 'id', 'model_name', 'patch_size', 'shape'])\n",
      "0160\n",
      "Starting Training\n",
      "epoch: 00, loss: -0.03802\n",
      "epoch: 01, loss: -0.05589\n",
      "epoch: 02, loss: -0.05735\n",
      "epoch: 03, loss: -0.05772\n",
      "epoch: 04, loss: -0.05831\n",
      "epoch: 05, loss: -0.05850\n",
      "epoch: 06, loss: -0.05856\n",
      "epoch: 07, loss: -0.05875\n",
      "epoch: 08, loss: -0.05892\n",
      "epoch: 09, loss: -0.05903\n",
      "torch.Size([400, 64])\n"
     ]
    },
    {
     "name": "stderr",
     "output_type": "stream",
     "text": [
      "\r",
      " 16%|█████████████████████████▍                                                                                                                                     | 160/1000 [1:03:10<5:30:34, 23.61s/it]"
     ]
    },
    {
     "name": "stdout",
     "output_type": "stream",
     "text": [
      "eigenvalues shape torch.Size([5]) eigenvectors shape torch.Size([5, 400])\n",
      "160 /home/phdcs2/Hard_Disk/Datasets/Deep-Spectral-Segmentation/data/object-segmentation/ECSSD/features/dino_vits16/0161.pth\n",
      "dict_keys(['k', 'indices', 'file', 'id', 'model_name', 'patch_size', 'shape'])\n",
      "0161\n",
      "Starting Training\n",
      "epoch: 00, loss: 0.00031\n",
      "epoch: 01, loss: -0.01570\n",
      "epoch: 02, loss: -0.02064\n",
      "epoch: 03, loss: -0.02236\n",
      "epoch: 04, loss: -0.02324\n",
      "epoch: 05, loss: -0.02377\n",
      "epoch: 06, loss: -0.02395\n",
      "epoch: 07, loss: -0.02413\n",
      "epoch: 08, loss: -0.02422\n",
      "epoch: 09, loss: -0.02417\n",
      "torch.Size([450, 64])\n"
     ]
    },
    {
     "name": "stderr",
     "output_type": "stream",
     "text": [
      "\r",
      " 16%|█████████████████████████▌                                                                                                                                     | 161/1000 [1:03:36<5:41:11, 24.40s/it]"
     ]
    },
    {
     "name": "stdout",
     "output_type": "stream",
     "text": [
      "eigenvalues shape torch.Size([5]) eigenvectors shape torch.Size([5, 450])\n",
      "161 /home/phdcs2/Hard_Disk/Datasets/Deep-Spectral-Segmentation/data/object-segmentation/ECSSD/features/dino_vits16/0162.pth\n",
      "dict_keys(['k', 'indices', 'file', 'id', 'model_name', 'patch_size', 'shape'])\n",
      "0162\n",
      "Starting Training\n",
      "epoch: 00, loss: -0.07843\n",
      "epoch: 01, loss: -0.11197\n",
      "epoch: 02, loss: -0.11736\n",
      "epoch: 03, loss: -0.11432\n",
      "epoch: 04, loss: -0.11623\n",
      "epoch: 05, loss: -0.11979\n",
      "epoch: 06, loss: -0.11912\n",
      "epoch: 07, loss: -0.11941\n",
      "epoch: 08, loss: -0.11953\n",
      "epoch: 09, loss: -0.12120\n",
      "torch.Size([450, 64])\n"
     ]
    },
    {
     "name": "stderr",
     "output_type": "stream",
     "text": [
      "\r",
      " 16%|█████████████████████████▊                                                                                                                                     | 162/1000 [1:03:59<5:32:28, 23.80s/it]"
     ]
    },
    {
     "name": "stdout",
     "output_type": "stream",
     "text": [
      "eigenvalues shape torch.Size([5]) eigenvectors shape torch.Size([5, 450])\n",
      "162 /home/phdcs2/Hard_Disk/Datasets/Deep-Spectral-Segmentation/data/object-segmentation/ECSSD/features/dino_vits16/0163.pth\n",
      "dict_keys(['k', 'indices', 'file', 'id', 'model_name', 'patch_size', 'shape'])\n",
      "0163\n",
      "Starting Training\n",
      "epoch: 00, loss: -0.03242\n",
      "epoch: 01, loss: -0.06134\n",
      "epoch: 02, loss: -0.06336\n",
      "epoch: 03, loss: -0.06417\n",
      "epoch: 04, loss: -0.06409\n",
      "epoch: 05, loss: -0.06360\n",
      "epoch: 06, loss: -0.06434\n",
      "epoch: 07, loss: -0.06399\n",
      "epoch: 08, loss: -0.06424\n",
      "epoch: 09, loss: -0.06427\n",
      "torch.Size([400, 64])\n"
     ]
    },
    {
     "name": "stderr",
     "output_type": "stream",
     "text": [
      "\r",
      " 16%|█████████████████████████▉                                                                                                                                     | 163/1000 [1:04:21<5:24:10, 23.24s/it]"
     ]
    },
    {
     "name": "stdout",
     "output_type": "stream",
     "text": [
      "eigenvalues shape torch.Size([5]) eigenvectors shape torch.Size([5, 400])\n",
      "163 /home/phdcs2/Hard_Disk/Datasets/Deep-Spectral-Segmentation/data/object-segmentation/ECSSD/features/dino_vits16/0164.pth\n",
      "dict_keys(['k', 'indices', 'file', 'id', 'model_name', 'patch_size', 'shape'])\n",
      "0164\n",
      "Starting Training\n",
      "epoch: 00, loss: -0.07842\n",
      "epoch: 01, loss: -0.09981\n",
      "epoch: 02, loss: -0.10080\n",
      "epoch: 03, loss: -0.10138\n",
      "epoch: 04, loss: -0.10277\n",
      "epoch: 05, loss: -0.10260\n",
      "epoch: 06, loss: -0.10316\n",
      "epoch: 07, loss: -0.10240\n",
      "epoch: 08, loss: -0.10387\n",
      "epoch: 09, loss: -0.10303\n",
      "torch.Size([550, 64])\n"
     ]
    },
    {
     "name": "stderr",
     "output_type": "stream",
     "text": [
      "\r",
      " 16%|██████████████████████████                                                                                                                                     | 164/1000 [1:04:54<6:03:55, 26.12s/it]"
     ]
    },
    {
     "name": "stdout",
     "output_type": "stream",
     "text": [
      "eigenvalues shape torch.Size([5]) eigenvectors shape torch.Size([5, 550])\n",
      "164 /home/phdcs2/Hard_Disk/Datasets/Deep-Spectral-Segmentation/data/object-segmentation/ECSSD/features/dino_vits16/0165.pth\n",
      "dict_keys(['k', 'indices', 'file', 'id', 'model_name', 'patch_size', 'shape'])\n",
      "0165\n",
      "Starting Training\n",
      "epoch: 00, loss: -0.02010\n",
      "epoch: 01, loss: -0.04381\n",
      "epoch: 02, loss: -0.04674\n",
      "epoch: 03, loss: -0.04716\n",
      "epoch: 04, loss: -0.04762\n",
      "epoch: 05, loss: -0.04787\n",
      "epoch: 06, loss: -0.04805\n",
      "epoch: 07, loss: -0.04814\n",
      "epoch: 08, loss: -0.04831\n",
      "epoch: 09, loss: -0.04842\n",
      "torch.Size([450, 64])\n"
     ]
    },
    {
     "name": "stderr",
     "output_type": "stream",
     "text": [
      "\r",
      " 16%|██████████████████████████▏                                                                                                                                    | 165/1000 [1:05:19<6:01:27, 25.97s/it]"
     ]
    },
    {
     "name": "stdout",
     "output_type": "stream",
     "text": [
      "eigenvalues shape torch.Size([5]) eigenvectors shape torch.Size([5, 450])\n",
      "165 /home/phdcs2/Hard_Disk/Datasets/Deep-Spectral-Segmentation/data/object-segmentation/ECSSD/features/dino_vits16/0166.pth\n",
      "dict_keys(['k', 'indices', 'file', 'id', 'model_name', 'patch_size', 'shape'])\n",
      "0166\n",
      "Starting Training\n",
      "epoch: 00, loss: -0.01516\n",
      "epoch: 01, loss: -0.03947\n",
      "epoch: 02, loss: -0.04361\n",
      "epoch: 03, loss: -0.04424\n",
      "epoch: 04, loss: -0.04455\n",
      "epoch: 05, loss: -0.04494\n",
      "epoch: 06, loss: -0.04508\n",
      "epoch: 07, loss: -0.04522\n",
      "epoch: 08, loss: -0.04524\n",
      "epoch: 09, loss: -0.04536\n",
      "torch.Size([400, 64])\n"
     ]
    },
    {
     "name": "stderr",
     "output_type": "stream",
     "text": [
      "\r",
      " 17%|██████████████████████████▍                                                                                                                                    | 166/1000 [1:05:38<5:30:34, 23.78s/it]"
     ]
    },
    {
     "name": "stdout",
     "output_type": "stream",
     "text": [
      "eigenvalues shape torch.Size([5]) eigenvectors shape torch.Size([5, 400])\n",
      "166 /home/phdcs2/Hard_Disk/Datasets/Deep-Spectral-Segmentation/data/object-segmentation/ECSSD/features/dino_vits16/0167.pth\n",
      "dict_keys(['k', 'indices', 'file', 'id', 'model_name', 'patch_size', 'shape'])\n",
      "0167\n",
      "Starting Training\n",
      "epoch: 00, loss: -0.02112\n",
      "epoch: 01, loss: -0.04750\n",
      "epoch: 02, loss: -0.05022\n",
      "epoch: 03, loss: -0.05059\n",
      "epoch: 04, loss: -0.05093\n",
      "epoch: 05, loss: -0.05105\n",
      "epoch: 06, loss: -0.05134\n",
      "epoch: 07, loss: -0.05154\n",
      "epoch: 08, loss: -0.05162\n",
      "epoch: 09, loss: -0.05168\n",
      "torch.Size([450, 64])\n"
     ]
    },
    {
     "name": "stderr",
     "output_type": "stream",
     "text": [
      "\r",
      " 17%|██████████████████████████▌                                                                                                                                    | 167/1000 [1:06:04<5:38:42, 24.40s/it]"
     ]
    },
    {
     "name": "stdout",
     "output_type": "stream",
     "text": [
      "eigenvalues shape torch.Size([5]) eigenvectors shape torch.Size([5, 450])\n",
      "167 /home/phdcs2/Hard_Disk/Datasets/Deep-Spectral-Segmentation/data/object-segmentation/ECSSD/features/dino_vits16/0168.pth\n",
      "dict_keys(['k', 'indices', 'file', 'id', 'model_name', 'patch_size', 'shape'])\n",
      "0168\n",
      "Starting Training\n",
      "epoch: 00, loss: -0.06985\n",
      "epoch: 01, loss: -0.10442\n",
      "epoch: 02, loss: -0.10913\n",
      "epoch: 03, loss: -0.10780\n",
      "epoch: 04, loss: -0.10954\n",
      "epoch: 05, loss: -0.10965\n",
      "epoch: 06, loss: -0.10945\n",
      "epoch: 07, loss: -0.11192\n",
      "epoch: 08, loss: -0.11135\n",
      "epoch: 09, loss: -0.11077\n",
      "torch.Size([400, 64])\n"
     ]
    },
    {
     "name": "stderr",
     "output_type": "stream",
     "text": [
      "\r",
      " 17%|██████████████████████████▋                                                                                                                                    | 168/1000 [1:06:27<5:32:47, 24.00s/it]"
     ]
    },
    {
     "name": "stdout",
     "output_type": "stream",
     "text": [
      "eigenvalues shape torch.Size([5]) eigenvectors shape torch.Size([5, 400])\n",
      "168 /home/phdcs2/Hard_Disk/Datasets/Deep-Spectral-Segmentation/data/object-segmentation/ECSSD/features/dino_vits16/0169.pth\n",
      "dict_keys(['k', 'indices', 'file', 'id', 'model_name', 'patch_size', 'shape'])\n",
      "0169\n",
      "Starting Training\n",
      "epoch: 00, loss: -0.01715\n",
      "epoch: 01, loss: -0.04055\n",
      "epoch: 02, loss: -0.04349\n",
      "epoch: 03, loss: -0.04419\n",
      "epoch: 04, loss: -0.04447\n",
      "epoch: 05, loss: -0.04480\n",
      "epoch: 06, loss: -0.04524\n",
      "epoch: 07, loss: -0.04517\n",
      "epoch: 08, loss: -0.04549\n",
      "epoch: 09, loss: -0.04568\n",
      "torch.Size([400, 64])\n"
     ]
    },
    {
     "name": "stderr",
     "output_type": "stream",
     "text": [
      "\r",
      " 17%|██████████████████████████▊                                                                                                                                    | 169/1000 [1:06:47<5:16:51, 22.88s/it]"
     ]
    },
    {
     "name": "stdout",
     "output_type": "stream",
     "text": [
      "eigenvalues shape torch.Size([5]) eigenvectors shape torch.Size([5, 400])\n",
      "169 /home/phdcs2/Hard_Disk/Datasets/Deep-Spectral-Segmentation/data/object-segmentation/ECSSD/features/dino_vits16/0170.pth\n",
      "dict_keys(['k', 'indices', 'file', 'id', 'model_name', 'patch_size', 'shape'])\n",
      "0170\n",
      "Starting Training\n",
      "epoch: 00, loss: -0.03179\n",
      "epoch: 01, loss: -0.06169\n",
      "epoch: 02, loss: -0.06486\n",
      "epoch: 03, loss: -0.06490\n",
      "epoch: 04, loss: -0.06493\n",
      "epoch: 05, loss: -0.06567\n",
      "epoch: 06, loss: -0.06569\n",
      "epoch: 07, loss: -0.06556\n",
      "epoch: 08, loss: -0.06608\n",
      "epoch: 09, loss: -0.06567\n",
      "torch.Size([450, 64])\n"
     ]
    },
    {
     "name": "stderr",
     "output_type": "stream",
     "text": [
      "\r",
      " 17%|███████████████████████████                                                                                                                                    | 170/1000 [1:07:10<5:17:18, 22.94s/it]"
     ]
    },
    {
     "name": "stdout",
     "output_type": "stream",
     "text": [
      "eigenvalues shape torch.Size([5]) eigenvectors shape torch.Size([5, 450])\n",
      "170 /home/phdcs2/Hard_Disk/Datasets/Deep-Spectral-Segmentation/data/object-segmentation/ECSSD/features/dino_vits16/0171.pth\n",
      "dict_keys(['k', 'indices', 'file', 'id', 'model_name', 'patch_size', 'shape'])\n",
      "0171\n",
      "Starting Training\n",
      "epoch: 00, loss: -0.03385\n",
      "epoch: 01, loss: -0.06171\n",
      "epoch: 02, loss: -0.06339\n",
      "epoch: 03, loss: -0.06368\n",
      "epoch: 04, loss: -0.06531\n",
      "epoch: 05, loss: -0.06394\n",
      "epoch: 06, loss: -0.06401\n",
      "epoch: 07, loss: -0.06426\n",
      "epoch: 08, loss: -0.06429\n",
      "epoch: 09, loss: -0.06630\n",
      "torch.Size([375, 64])\n"
     ]
    },
    {
     "name": "stderr",
     "output_type": "stream",
     "text": [
      "\r",
      " 17%|███████████████████████████▏                                                                                                                                   | 171/1000 [1:07:35<5:24:41, 23.50s/it]"
     ]
    },
    {
     "name": "stdout",
     "output_type": "stream",
     "text": [
      "eigenvalues shape torch.Size([5]) eigenvectors shape torch.Size([5, 375])\n",
      "171 /home/phdcs2/Hard_Disk/Datasets/Deep-Spectral-Segmentation/data/object-segmentation/ECSSD/features/dino_vits16/0172.pth\n",
      "dict_keys(['k', 'indices', 'file', 'id', 'model_name', 'patch_size', 'shape'])\n",
      "0172\n",
      "Starting Training\n",
      "epoch: 00, loss: -0.04005\n",
      "epoch: 01, loss: -0.06779\n",
      "epoch: 02, loss: -0.06791\n",
      "epoch: 03, loss: -0.06904\n",
      "epoch: 04, loss: -0.06882\n",
      "epoch: 05, loss: -0.06939\n",
      "epoch: 06, loss: -0.07081\n",
      "epoch: 07, loss: -0.07099\n",
      "epoch: 08, loss: -0.06950\n",
      "epoch: 09, loss: -0.06958\n",
      "torch.Size([375, 64])\n"
     ]
    },
    {
     "name": "stderr",
     "output_type": "stream",
     "text": [
      "\r",
      " 17%|███████████████████████████▎                                                                                                                                   | 172/1000 [1:07:55<5:12:01, 22.61s/it]"
     ]
    },
    {
     "name": "stdout",
     "output_type": "stream",
     "text": [
      "eigenvalues shape torch.Size([5]) eigenvectors shape torch.Size([5, 375])\n",
      "172 /home/phdcs2/Hard_Disk/Datasets/Deep-Spectral-Segmentation/data/object-segmentation/ECSSD/features/dino_vits16/0173.pth\n",
      "dict_keys(['k', 'indices', 'file', 'id', 'model_name', 'patch_size', 'shape'])\n",
      "0173\n",
      "Starting Training\n",
      "epoch: 00, loss: -0.07018\n",
      "epoch: 01, loss: -0.08673\n",
      "epoch: 02, loss: -0.08665\n",
      "epoch: 03, loss: -0.08705\n",
      "epoch: 04, loss: -0.08760\n",
      "epoch: 05, loss: -0.08758\n",
      "epoch: 06, loss: -0.08759\n",
      "epoch: 07, loss: -0.08770\n",
      "epoch: 08, loss: -0.08785\n",
      "epoch: 09, loss: -0.08799\n",
      "torch.Size([450, 64])\n"
     ]
    },
    {
     "name": "stderr",
     "output_type": "stream",
     "text": [
      "\r",
      " 17%|███████████████████████████▌                                                                                                                                   | 173/1000 [1:08:23<5:31:29, 24.05s/it]"
     ]
    },
    {
     "name": "stdout",
     "output_type": "stream",
     "text": [
      "eigenvalues shape torch.Size([5]) eigenvectors shape torch.Size([5, 450])\n",
      "173 /home/phdcs2/Hard_Disk/Datasets/Deep-Spectral-Segmentation/data/object-segmentation/ECSSD/features/dino_vits16/0174.pth\n",
      "dict_keys(['k', 'indices', 'file', 'id', 'model_name', 'patch_size', 'shape'])\n",
      "0174\n",
      "Starting Training\n",
      "epoch: 00, loss: -0.03598\n",
      "epoch: 01, loss: -0.06055\n",
      "epoch: 02, loss: -0.06574\n",
      "epoch: 03, loss: -0.06666\n",
      "epoch: 04, loss: -0.06905\n",
      "epoch: 05, loss: -0.07082\n",
      "epoch: 06, loss: -0.07383\n",
      "epoch: 07, loss: -0.07374\n",
      "epoch: 08, loss: -0.07117\n",
      "epoch: 09, loss: -0.07177\n",
      "torch.Size([375, 64])\n"
     ]
    },
    {
     "name": "stderr",
     "output_type": "stream",
     "text": [
      "\r",
      " 17%|███████████████████████████▋                                                                                                                                   | 174/1000 [1:08:40<5:02:47, 21.99s/it]"
     ]
    },
    {
     "name": "stdout",
     "output_type": "stream",
     "text": [
      "eigenvalues shape torch.Size([5]) eigenvectors shape torch.Size([5, 375])\n",
      "174 /home/phdcs2/Hard_Disk/Datasets/Deep-Spectral-Segmentation/data/object-segmentation/ECSSD/features/dino_vits16/0175.pth\n",
      "dict_keys(['k', 'indices', 'file', 'id', 'model_name', 'patch_size', 'shape'])\n",
      "0175\n",
      "Starting Training\n",
      "epoch: 00, loss: -0.04785\n",
      "epoch: 01, loss: -0.08886\n",
      "epoch: 02, loss: -0.09492\n",
      "epoch: 03, loss: -0.09676\n",
      "epoch: 04, loss: -0.09801\n",
      "epoch: 05, loss: -0.09654\n",
      "epoch: 06, loss: -0.09638\n",
      "epoch: 07, loss: -0.09718\n",
      "epoch: 08, loss: -0.09851\n",
      "epoch: 09, loss: -0.09920\n",
      "torch.Size([450, 64])\n"
     ]
    },
    {
     "name": "stderr",
     "output_type": "stream",
     "text": [
      "\r",
      " 18%|███████████████████████████▊                                                                                                                                   | 175/1000 [1:09:06<5:17:40, 23.10s/it]"
     ]
    },
    {
     "name": "stdout",
     "output_type": "stream",
     "text": [
      "eigenvalues shape torch.Size([5]) eigenvectors shape torch.Size([5, 450])\n",
      "175 /home/phdcs2/Hard_Disk/Datasets/Deep-Spectral-Segmentation/data/object-segmentation/ECSSD/features/dino_vits16/0176.pth\n",
      "dict_keys(['k', 'indices', 'file', 'id', 'model_name', 'patch_size', 'shape'])\n",
      "0176\n",
      "Starting Training\n",
      "epoch: 00, loss: -0.02525\n",
      "epoch: 01, loss: -0.04547\n",
      "epoch: 02, loss: -0.04657\n",
      "epoch: 03, loss: -0.04713\n",
      "epoch: 04, loss: -0.04695\n",
      "epoch: 05, loss: -0.04753\n",
      "epoch: 06, loss: -0.04764\n",
      "epoch: 07, loss: -0.04798\n",
      "epoch: 08, loss: -0.04822\n",
      "epoch: 09, loss: -0.04834\n",
      "torch.Size([550, 64])\n"
     ]
    },
    {
     "name": "stderr",
     "output_type": "stream",
     "text": [
      "\r",
      " 18%|███████████████████████████▉                                                                                                                                   | 176/1000 [1:09:48<6:36:04, 28.84s/it]"
     ]
    },
    {
     "name": "stdout",
     "output_type": "stream",
     "text": [
      "eigenvalues shape torch.Size([5]) eigenvectors shape torch.Size([5, 550])\n",
      "176 /home/phdcs2/Hard_Disk/Datasets/Deep-Spectral-Segmentation/data/object-segmentation/ECSSD/features/dino_vits16/0177.pth\n",
      "dict_keys(['k', 'indices', 'file', 'id', 'model_name', 'patch_size', 'shape'])\n",
      "0177\n",
      "Starting Training\n",
      "epoch: 00, loss: -0.03204\n",
      "epoch: 01, loss: -0.04985\n",
      "epoch: 02, loss: -0.05054\n",
      "epoch: 03, loss: -0.05052\n",
      "epoch: 04, loss: -0.05163\n",
      "epoch: 05, loss: -0.05234\n",
      "epoch: 06, loss: -0.05257\n",
      "epoch: 07, loss: -0.05209\n",
      "epoch: 08, loss: -0.05251\n",
      "epoch: 09, loss: -0.05270\n",
      "torch.Size([400, 64])\n"
     ]
    },
    {
     "name": "stderr",
     "output_type": "stream",
     "text": [
      "\r",
      " 18%|████████████████████████████▏                                                                                                                                  | 177/1000 [1:10:19<6:43:01, 29.38s/it]"
     ]
    },
    {
     "name": "stdout",
     "output_type": "stream",
     "text": [
      "eigenvalues shape torch.Size([5]) eigenvectors shape torch.Size([5, 400])\n",
      "177 /home/phdcs2/Hard_Disk/Datasets/Deep-Spectral-Segmentation/data/object-segmentation/ECSSD/features/dino_vits16/0178.pth\n",
      "dict_keys(['k', 'indices', 'file', 'id', 'model_name', 'patch_size', 'shape'])\n",
      "0178\n",
      "Starting Training\n",
      "epoch: 00, loss: -0.04316\n",
      "epoch: 01, loss: -0.06051\n",
      "epoch: 02, loss: -0.06277\n",
      "epoch: 03, loss: -0.06582\n",
      "epoch: 04, loss: -0.06400\n",
      "epoch: 05, loss: -0.06645\n",
      "epoch: 06, loss: -0.06403\n",
      "epoch: 07, loss: -0.06524\n",
      "epoch: 08, loss: -0.06616\n",
      "epoch: 09, loss: -0.06644\n",
      "torch.Size([450, 64])\n"
     ]
    },
    {
     "name": "stderr",
     "output_type": "stream",
     "text": [
      "\r",
      " 18%|████████████████████████████▎                                                                                                                                  | 178/1000 [1:10:46<6:32:46, 28.67s/it]"
     ]
    },
    {
     "name": "stdout",
     "output_type": "stream",
     "text": [
      "eigenvalues shape torch.Size([5]) eigenvectors shape torch.Size([5, 450])\n",
      "178 /home/phdcs2/Hard_Disk/Datasets/Deep-Spectral-Segmentation/data/object-segmentation/ECSSD/features/dino_vits16/0179.pth\n",
      "dict_keys(['k', 'indices', 'file', 'id', 'model_name', 'patch_size', 'shape'])\n",
      "0179\n",
      "Starting Training\n",
      "epoch: 00, loss: -0.06944\n",
      "epoch: 01, loss: -0.09353\n",
      "epoch: 02, loss: -0.09374\n",
      "epoch: 03, loss: -0.09807\n",
      "epoch: 04, loss: -0.09961\n",
      "epoch: 05, loss: -0.10061\n",
      "epoch: 06, loss: -0.10268\n",
      "epoch: 07, loss: -0.10225\n",
      "epoch: 08, loss: -0.10071\n",
      "epoch: 09, loss: -0.10310\n",
      "torch.Size([400, 64])\n"
     ]
    },
    {
     "name": "stderr",
     "output_type": "stream",
     "text": [
      "\r",
      " 18%|████████████████████████████▍                                                                                                                                  | 179/1000 [1:11:09<6:09:44, 27.02s/it]"
     ]
    },
    {
     "name": "stdout",
     "output_type": "stream",
     "text": [
      "eigenvalues shape torch.Size([5]) eigenvectors shape torch.Size([5, 400])\n",
      "179 /home/phdcs2/Hard_Disk/Datasets/Deep-Spectral-Segmentation/data/object-segmentation/ECSSD/features/dino_vits16/0180.pth\n",
      "dict_keys(['k', 'indices', 'file', 'id', 'model_name', 'patch_size', 'shape'])\n",
      "0180\n",
      "Starting Training\n",
      "epoch: 00, loss: -0.02188\n",
      "epoch: 01, loss: -0.05978\n",
      "epoch: 02, loss: -0.06120\n",
      "epoch: 03, loss: -0.06372\n",
      "epoch: 04, loss: -0.06824\n",
      "epoch: 05, loss: -0.06915\n",
      "epoch: 06, loss: -0.06461\n",
      "epoch: 07, loss: -0.07277\n",
      "epoch: 08, loss: -0.07279\n",
      "epoch: 09, loss: -0.07090\n",
      "torch.Size([400, 64])\n"
     ]
    },
    {
     "name": "stderr",
     "output_type": "stream",
     "text": [
      "\r",
      " 18%|████████████████████████████▌                                                                                                                                  | 180/1000 [1:11:32<5:55:36, 26.02s/it]"
     ]
    },
    {
     "name": "stdout",
     "output_type": "stream",
     "text": [
      "eigenvalues shape torch.Size([5]) eigenvectors shape torch.Size([5, 400])\n",
      "180 /home/phdcs2/Hard_Disk/Datasets/Deep-Spectral-Segmentation/data/object-segmentation/ECSSD/features/dino_vits16/0181.pth\n",
      "dict_keys(['k', 'indices', 'file', 'id', 'model_name', 'patch_size', 'shape'])\n",
      "0181\n",
      "Starting Training\n",
      "epoch: 00, loss: -0.02290\n",
      "epoch: 01, loss: -0.05849\n",
      "epoch: 02, loss: -0.06645\n",
      "epoch: 03, loss: -0.07115\n",
      "epoch: 04, loss: -0.07149\n",
      "epoch: 05, loss: -0.07009\n",
      "epoch: 06, loss: -0.07128\n",
      "epoch: 07, loss: -0.07476\n",
      "epoch: 08, loss: -0.07654\n",
      "epoch: 09, loss: -0.07152\n",
      "torch.Size([375, 64])\n"
     ]
    },
    {
     "name": "stderr",
     "output_type": "stream",
     "text": [
      "\r",
      " 18%|████████████████████████████▊                                                                                                                                  | 181/1000 [1:11:47<5:07:11, 22.51s/it]"
     ]
    },
    {
     "name": "stdout",
     "output_type": "stream",
     "text": [
      "eigenvalues shape torch.Size([5]) eigenvectors shape torch.Size([5, 375])\n",
      "181 /home/phdcs2/Hard_Disk/Datasets/Deep-Spectral-Segmentation/data/object-segmentation/ECSSD/features/dino_vits16/0182.pth\n",
      "dict_keys(['k', 'indices', 'file', 'id', 'model_name', 'patch_size', 'shape'])\n",
      "0182\n",
      "Starting Training\n",
      "epoch: 00, loss: -0.04262\n",
      "epoch: 01, loss: -0.06860\n",
      "epoch: 02, loss: -0.07200\n",
      "epoch: 03, loss: -0.07306\n",
      "epoch: 04, loss: -0.07434\n",
      "epoch: 05, loss: -0.07575\n",
      "epoch: 06, loss: -0.07470\n",
      "epoch: 07, loss: -0.07440\n",
      "epoch: 08, loss: -0.07577\n",
      "epoch: 09, loss: -0.07680\n",
      "torch.Size([625, 64])\n"
     ]
    },
    {
     "name": "stderr",
     "output_type": "stream",
     "text": [
      "\r",
      " 18%|████████████████████████████▉                                                                                                                                  | 182/1000 [1:12:43<7:22:56, 32.49s/it]"
     ]
    },
    {
     "name": "stdout",
     "output_type": "stream",
     "text": [
      "eigenvalues shape torch.Size([5]) eigenvectors shape torch.Size([5, 625])\n",
      "182 /home/phdcs2/Hard_Disk/Datasets/Deep-Spectral-Segmentation/data/object-segmentation/ECSSD/features/dino_vits16/0183.pth\n",
      "dict_keys(['k', 'indices', 'file', 'id', 'model_name', 'patch_size', 'shape'])\n",
      "0183\n",
      "Starting Training\n",
      "epoch: 00, loss: -0.04165\n",
      "epoch: 01, loss: -0.07764\n",
      "epoch: 02, loss: -0.07978\n",
      "epoch: 03, loss: -0.08158\n",
      "epoch: 04, loss: -0.08332\n",
      "epoch: 05, loss: -0.08535\n",
      "epoch: 06, loss: -0.08502\n",
      "epoch: 07, loss: -0.08602\n",
      "epoch: 08, loss: -0.08583\n",
      "epoch: 09, loss: -0.08663\n",
      "torch.Size([400, 64])\n"
     ]
    },
    {
     "name": "stderr",
     "output_type": "stream",
     "text": [
      "\r",
      " 18%|█████████████████████████████                                                                                                                                  | 183/1000 [1:13:07<6:49:11, 30.05s/it]"
     ]
    },
    {
     "name": "stdout",
     "output_type": "stream",
     "text": [
      "eigenvalues shape torch.Size([5]) eigenvectors shape torch.Size([5, 400])\n",
      "183 /home/phdcs2/Hard_Disk/Datasets/Deep-Spectral-Segmentation/data/object-segmentation/ECSSD/features/dino_vits16/0184.pth\n",
      "dict_keys(['k', 'indices', 'file', 'id', 'model_name', 'patch_size', 'shape'])\n",
      "0184\n",
      "Starting Training\n",
      "epoch: 00, loss: -0.08491\n",
      "epoch: 01, loss: -0.10413\n",
      "epoch: 02, loss: -0.10545\n",
      "epoch: 03, loss: -0.10645\n",
      "epoch: 04, loss: -0.10730\n",
      "epoch: 05, loss: -0.10737\n",
      "epoch: 06, loss: -0.10789\n",
      "epoch: 07, loss: -0.10791\n",
      "epoch: 08, loss: -0.10727\n",
      "epoch: 09, loss: -0.10664\n",
      "torch.Size([625, 64])\n"
     ]
    },
    {
     "name": "stderr",
     "output_type": "stream",
     "text": [
      "\r",
      " 18%|█████████████████████████████▎                                                                                                                                 | 184/1000 [1:14:02<8:31:16, 37.59s/it]"
     ]
    },
    {
     "name": "stdout",
     "output_type": "stream",
     "text": [
      "eigenvalues shape torch.Size([5]) eigenvectors shape torch.Size([5, 625])\n",
      "184 /home/phdcs2/Hard_Disk/Datasets/Deep-Spectral-Segmentation/data/object-segmentation/ECSSD/features/dino_vits16/0185.pth\n",
      "dict_keys(['k', 'indices', 'file', 'id', 'model_name', 'patch_size', 'shape'])\n",
      "0185\n",
      "Starting Training\n",
      "epoch: 00, loss: -0.02893\n",
      "epoch: 01, loss: -0.04517\n",
      "epoch: 02, loss: -0.04591\n",
      "epoch: 03, loss: -0.04626\n",
      "epoch: 04, loss: -0.04776\n",
      "epoch: 05, loss: -0.04793\n",
      "epoch: 06, loss: -0.04792\n",
      "epoch: 07, loss: -0.04710\n",
      "epoch: 08, loss: -0.04765\n",
      "epoch: 09, loss: -0.04771\n",
      "torch.Size([625, 64])\n"
     ]
    },
    {
     "name": "stderr",
     "output_type": "stream",
     "text": [
      "\r",
      " 18%|█████████████████████████████▍                                                                                                                                 | 185/1000 [1:14:52<9:20:03, 41.23s/it]"
     ]
    },
    {
     "name": "stdout",
     "output_type": "stream",
     "text": [
      "eigenvalues shape torch.Size([5]) eigenvectors shape torch.Size([5, 625])\n",
      "185 /home/phdcs2/Hard_Disk/Datasets/Deep-Spectral-Segmentation/data/object-segmentation/ECSSD/features/dino_vits16/0186.pth\n",
      "dict_keys(['k', 'indices', 'file', 'id', 'model_name', 'patch_size', 'shape'])\n",
      "0186\n",
      "Starting Training\n",
      "epoch: 00, loss: -0.13199\n",
      "epoch: 01, loss: -0.16127\n",
      "epoch: 02, loss: -0.16558\n",
      "epoch: 03, loss: -0.16529\n",
      "epoch: 04, loss: -0.16852\n",
      "epoch: 05, loss: -0.16819\n",
      "epoch: 06, loss: -0.16946\n",
      "epoch: 07, loss: -0.17043\n",
      "epoch: 08, loss: -0.17115\n",
      "epoch: 09, loss: -0.17212\n",
      "torch.Size([625, 64])\n"
     ]
    },
    {
     "name": "stderr",
     "output_type": "stream",
     "text": [
      "\r",
      " 19%|█████████████████████████████▌                                                                                                                                 | 186/1000 [1:15:40<9:48:24, 43.37s/it]"
     ]
    },
    {
     "name": "stdout",
     "output_type": "stream",
     "text": [
      "eigenvalues shape torch.Size([5]) eigenvectors shape torch.Size([5, 625])\n",
      "186 /home/phdcs2/Hard_Disk/Datasets/Deep-Spectral-Segmentation/data/object-segmentation/ECSSD/features/dino_vits16/0187.pth\n",
      "dict_keys(['k', 'indices', 'file', 'id', 'model_name', 'patch_size', 'shape'])\n",
      "0187\n",
      "Starting Training\n",
      "epoch: 00, loss: 0.00805\n",
      "epoch: 01, loss: -0.00703\n",
      "epoch: 02, loss: -0.01587\n",
      "epoch: 03, loss: -0.02046\n",
      "epoch: 04, loss: -0.02331\n",
      "epoch: 05, loss: -0.02473\n",
      "epoch: 06, loss: -0.02588\n",
      "epoch: 07, loss: -0.02625\n",
      "epoch: 08, loss: -0.02690\n",
      "epoch: 09, loss: -0.02722\n",
      "torch.Size([200, 64])\n"
     ]
    },
    {
     "name": "stderr",
     "output_type": "stream",
     "text": [
      "\r",
      " 19%|█████████████████████████████▋                                                                                                                                 | 187/1000 [1:15:51<7:33:35, 33.48s/it]"
     ]
    },
    {
     "name": "stdout",
     "output_type": "stream",
     "text": [
      "eigenvalues shape torch.Size([5]) eigenvectors shape torch.Size([5, 200])\n",
      "187 /home/phdcs2/Hard_Disk/Datasets/Deep-Spectral-Segmentation/data/object-segmentation/ECSSD/features/dino_vits16/0188.pth\n",
      "dict_keys(['k', 'indices', 'file', 'id', 'model_name', 'patch_size', 'shape'])\n",
      "0188\n",
      "Starting Training\n",
      "epoch: 00, loss: -0.02414\n",
      "epoch: 01, loss: -0.05091\n",
      "epoch: 02, loss: -0.05171\n",
      "epoch: 03, loss: -0.05233\n",
      "epoch: 04, loss: -0.05390\n",
      "epoch: 05, loss: -0.05409\n",
      "epoch: 06, loss: -0.05469\n",
      "epoch: 07, loss: -0.05430\n",
      "epoch: 08, loss: -0.05541\n",
      "epoch: 09, loss: -0.05832\n",
      "torch.Size([400, 64])\n"
     ]
    },
    {
     "name": "stderr",
     "output_type": "stream",
     "text": [
      "\r",
      " 19%|█████████████████████████████▉                                                                                                                                 | 188/1000 [1:16:13<6:46:17, 30.02s/it]"
     ]
    },
    {
     "name": "stdout",
     "output_type": "stream",
     "text": [
      "eigenvalues shape torch.Size([5]) eigenvectors shape torch.Size([5, 400])\n",
      "188 /home/phdcs2/Hard_Disk/Datasets/Deep-Spectral-Segmentation/data/object-segmentation/ECSSD/features/dino_vits16/0189.pth\n",
      "dict_keys(['k', 'indices', 'file', 'id', 'model_name', 'patch_size', 'shape'])\n",
      "0189\n",
      "Starting Training\n",
      "epoch: 00, loss: -0.01134\n",
      "epoch: 01, loss: -0.03781\n",
      "epoch: 02, loss: -0.04324\n",
      "epoch: 03, loss: -0.04567\n",
      "epoch: 04, loss: -0.05046\n",
      "epoch: 05, loss: -0.05327\n",
      "epoch: 06, loss: -0.05138\n",
      "epoch: 07, loss: -0.04981\n",
      "epoch: 08, loss: -0.05157\n",
      "epoch: 09, loss: -0.05096\n",
      "torch.Size([400, 64])\n"
     ]
    },
    {
     "name": "stderr",
     "output_type": "stream",
     "text": [
      "\r",
      " 19%|██████████████████████████████                                                                                                                                 | 189/1000 [1:16:34<6:10:33, 27.42s/it]"
     ]
    },
    {
     "name": "stdout",
     "output_type": "stream",
     "text": [
      "eigenvalues shape torch.Size([5]) eigenvectors shape torch.Size([5, 400])\n",
      "189 /home/phdcs2/Hard_Disk/Datasets/Deep-Spectral-Segmentation/data/object-segmentation/ECSSD/features/dino_vits16/0190.pth\n",
      "dict_keys(['k', 'indices', 'file', 'id', 'model_name', 'patch_size', 'shape'])\n",
      "0190\n",
      "Starting Training\n",
      "epoch: 00, loss: -0.07277\n",
      "epoch: 01, loss: -0.10418\n",
      "epoch: 02, loss: -0.10271\n",
      "epoch: 03, loss: -0.10497\n",
      "epoch: 04, loss: -0.10603\n",
      "epoch: 05, loss: -0.10636\n",
      "epoch: 06, loss: -0.10729\n",
      "epoch: 07, loss: -0.10775\n",
      "epoch: 08, loss: -0.10856\n",
      "epoch: 09, loss: -0.10819\n",
      "torch.Size([450, 64])\n"
     ]
    },
    {
     "name": "stderr",
     "output_type": "stream",
     "text": [
      "\r",
      " 19%|██████████████████████████████▏                                                                                                                                | 190/1000 [1:16:57<5:52:42, 26.13s/it]"
     ]
    },
    {
     "name": "stdout",
     "output_type": "stream",
     "text": [
      "eigenvalues shape torch.Size([5]) eigenvectors shape torch.Size([5, 450])\n",
      "190 /home/phdcs2/Hard_Disk/Datasets/Deep-Spectral-Segmentation/data/object-segmentation/ECSSD/features/dino_vits16/0191.pth\n",
      "dict_keys(['k', 'indices', 'file', 'id', 'model_name', 'patch_size', 'shape'])\n",
      "0191\n",
      "Starting Training\n",
      "epoch: 00, loss: -0.02264\n",
      "epoch: 01, loss: -0.05067\n",
      "epoch: 02, loss: -0.05341\n",
      "epoch: 03, loss: -0.05418\n",
      "epoch: 04, loss: -0.05414\n",
      "epoch: 05, loss: -0.05446\n",
      "epoch: 06, loss: -0.05467\n",
      "epoch: 07, loss: -0.05475\n",
      "epoch: 08, loss: -0.05486\n",
      "epoch: 09, loss: -0.05495\n",
      "torch.Size([450, 64])\n"
     ]
    },
    {
     "name": "stderr",
     "output_type": "stream",
     "text": [
      "/home/phdcs2/Hard_Disk/Projects/T2I/deep-spectral-segmentation/venv/lib/python3.8/site-packages/scipy/sparse/linalg/_eigen/arpack/arpack.py:935: LinAlgWarning: Diagonal number 450 is exactly zero. Singular matrix.\n",
      "  self.M_lu = lu_factor(M)\n"
     ]
    },
    {
     "name": "stdout",
     "output_type": "stream",
     "text": [
      " ** On entry to SLASCL parameter number  4 had an illegal value\n",
      " ** On entry to SLASCL parameter number  4 had an illegal value\n"
     ]
    },
    {
     "name": "stderr",
     "output_type": "stream",
     "text": [
      "\r",
      " 19%|██████████████████████████████▎                                                                                                                                | 191/1000 [1:17:33<6:33:50, 29.21s/it]"
     ]
    },
    {
     "name": "stdout",
     "output_type": "stream",
     "text": [
      "eigenvalues shape torch.Size([5]) eigenvectors shape torch.Size([5, 450])\n",
      "191 /home/phdcs2/Hard_Disk/Datasets/Deep-Spectral-Segmentation/data/object-segmentation/ECSSD/features/dino_vits16/0192.pth\n",
      "dict_keys(['k', 'indices', 'file', 'id', 'model_name', 'patch_size', 'shape'])\n",
      "0192\n",
      "Starting Training\n",
      "epoch: 00, loss: -0.03824\n",
      "epoch: 01, loss: -0.06810\n",
      "epoch: 02, loss: -0.06959\n",
      "epoch: 03, loss: -0.07005\n",
      "epoch: 04, loss: -0.07028\n",
      "epoch: 05, loss: -0.07052\n",
      "epoch: 06, loss: -0.07102\n",
      "epoch: 07, loss: -0.07071\n",
      "epoch: 08, loss: -0.07087\n",
      "epoch: 09, loss: -0.07095\n",
      "torch.Size([400, 64])\n"
     ]
    },
    {
     "name": "stderr",
     "output_type": "stream",
     "text": [
      "\r",
      " 19%|██████████████████████████████▌                                                                                                                                | 192/1000 [1:17:59<6:20:06, 28.23s/it]"
     ]
    },
    {
     "name": "stdout",
     "output_type": "stream",
     "text": [
      "eigenvalues shape torch.Size([5]) eigenvectors shape torch.Size([5, 400])\n",
      "192 /home/phdcs2/Hard_Disk/Datasets/Deep-Spectral-Segmentation/data/object-segmentation/ECSSD/features/dino_vits16/0193.pth\n",
      "dict_keys(['k', 'indices', 'file', 'id', 'model_name', 'patch_size', 'shape'])\n",
      "0193\n",
      "Starting Training\n",
      "epoch: 00, loss: -0.00227\n",
      "epoch: 01, loss: -0.02036\n",
      "epoch: 02, loss: -0.02742\n",
      "epoch: 03, loss: -0.02927\n",
      "epoch: 04, loss: -0.02926\n",
      "epoch: 05, loss: -0.03305\n",
      "epoch: 06, loss: -0.03036\n",
      "epoch: 07, loss: -0.03239\n",
      "epoch: 08, loss: -0.03010\n",
      "epoch: 09, loss: -0.03321\n",
      "torch.Size([450, 64])\n"
     ]
    },
    {
     "name": "stderr",
     "output_type": "stream",
     "text": [
      "\r",
      " 19%|██████████████████████████████▋                                                                                                                                | 193/1000 [1:18:23<6:02:21, 26.94s/it]"
     ]
    },
    {
     "name": "stdout",
     "output_type": "stream",
     "text": [
      "eigenvalues shape torch.Size([5]) eigenvectors shape torch.Size([5, 450])\n",
      "193 /home/phdcs2/Hard_Disk/Datasets/Deep-Spectral-Segmentation/data/object-segmentation/ECSSD/features/dino_vits16/0194.pth\n",
      "dict_keys(['k', 'indices', 'file', 'id', 'model_name', 'patch_size', 'shape'])\n",
      "0194\n",
      "Starting Training\n",
      "epoch: 00, loss: -0.00493\n",
      "epoch: 01, loss: -0.02294\n",
      "epoch: 02, loss: -0.02695\n",
      "epoch: 03, loss: -0.02825\n",
      "epoch: 04, loss: -0.02870\n",
      "epoch: 05, loss: -0.02905\n",
      "epoch: 06, loss: -0.02943\n",
      "epoch: 07, loss: -0.02951\n",
      "epoch: 08, loss: -0.02969\n",
      "epoch: 09, loss: -0.02980\n",
      "torch.Size([450, 64])\n"
     ]
    },
    {
     "name": "stderr",
     "output_type": "stream",
     "text": [
      "\r",
      " 19%|██████████████████████████████▊                                                                                                                                | 194/1000 [1:18:48<5:54:40, 26.40s/it]"
     ]
    },
    {
     "name": "stdout",
     "output_type": "stream",
     "text": [
      "eigenvalues shape torch.Size([5]) eigenvectors shape torch.Size([5, 450])\n",
      "194 /home/phdcs2/Hard_Disk/Datasets/Deep-Spectral-Segmentation/data/object-segmentation/ECSSD/features/dino_vits16/0195.pth\n",
      "dict_keys(['k', 'indices', 'file', 'id', 'model_name', 'patch_size', 'shape'])\n",
      "0195\n",
      "Starting Training\n",
      "epoch: 00, loss: -0.03505\n",
      "epoch: 01, loss: -0.06082\n",
      "epoch: 02, loss: -0.06190\n",
      "epoch: 03, loss: -0.06263\n",
      "epoch: 04, loss: -0.06264\n",
      "epoch: 05, loss: -0.06311\n",
      "epoch: 06, loss: -0.06340\n",
      "epoch: 07, loss: -0.06339\n",
      "epoch: 08, loss: -0.06359\n",
      "epoch: 09, loss: -0.06370\n",
      "torch.Size([400, 64])\n"
     ]
    },
    {
     "name": "stderr",
     "output_type": "stream",
     "text": [
      "\r",
      " 20%|███████████████████████████████                                                                                                                                | 195/1000 [1:19:11<5:37:45, 25.18s/it]"
     ]
    },
    {
     "name": "stdout",
     "output_type": "stream",
     "text": [
      "eigenvalues shape torch.Size([5]) eigenvectors shape torch.Size([5, 400])\n",
      "195 /home/phdcs2/Hard_Disk/Datasets/Deep-Spectral-Segmentation/data/object-segmentation/ECSSD/features/dino_vits16/0196.pth\n",
      "dict_keys(['k', 'indices', 'file', 'id', 'model_name', 'patch_size', 'shape'])\n",
      "0196\n",
      "Starting Training\n",
      "epoch: 00, loss: -0.04461\n",
      "epoch: 01, loss: -0.06332\n",
      "epoch: 02, loss: -0.06743\n",
      "epoch: 03, loss: -0.06443\n",
      "epoch: 04, loss: -0.06781\n",
      "epoch: 05, loss: -0.07056\n",
      "epoch: 06, loss: -0.06749\n",
      "epoch: 07, loss: -0.06864\n",
      "epoch: 08, loss: -0.06902\n",
      "epoch: 09, loss: -0.06811\n",
      "torch.Size([625, 64])\n"
     ]
    },
    {
     "name": "stderr",
     "output_type": "stream",
     "text": [
      "\r",
      " 20%|███████████████████████████████▏                                                                                                                               | 196/1000 [1:19:50<6:34:52, 29.47s/it]"
     ]
    },
    {
     "name": "stdout",
     "output_type": "stream",
     "text": [
      "eigenvalues shape torch.Size([5]) eigenvectors shape torch.Size([5, 625])\n",
      "196 /home/phdcs2/Hard_Disk/Datasets/Deep-Spectral-Segmentation/data/object-segmentation/ECSSD/features/dino_vits16/0197.pth\n",
      "dict_keys(['k', 'indices', 'file', 'id', 'model_name', 'patch_size', 'shape'])\n",
      "0197\n",
      "Starting Training\n",
      "epoch: 00, loss: -0.05937\n",
      "epoch: 01, loss: -0.08350\n",
      "epoch: 02, loss: -0.08529\n",
      "epoch: 03, loss: -0.08487\n",
      "epoch: 04, loss: -0.08566\n",
      "epoch: 05, loss: -0.08605\n",
      "epoch: 06, loss: -0.08591\n",
      "epoch: 07, loss: -0.08583\n",
      "epoch: 08, loss: -0.08645\n",
      "epoch: 09, loss: -0.08632\n",
      "torch.Size([400, 64])\n"
     ]
    },
    {
     "name": "stderr",
     "output_type": "stream",
     "text": [
      "\r",
      " 20%|███████████████████████████████▎                                                                                                                               | 197/1000 [1:20:13<6:08:42, 27.55s/it]"
     ]
    },
    {
     "name": "stdout",
     "output_type": "stream",
     "text": [
      "eigenvalues shape torch.Size([5]) eigenvectors shape torch.Size([5, 400])\n",
      "197 /home/phdcs2/Hard_Disk/Datasets/Deep-Spectral-Segmentation/data/object-segmentation/ECSSD/features/dino_vits16/0198.pth\n",
      "dict_keys(['k', 'indices', 'file', 'id', 'model_name', 'patch_size', 'shape'])\n",
      "0198\n",
      "Starting Training\n",
      "epoch: 00, loss: -0.00672\n",
      "epoch: 01, loss: -0.01769\n",
      "epoch: 02, loss: -0.02243\n",
      "epoch: 03, loss: -0.02234\n",
      "epoch: 04, loss: -0.02453\n",
      "epoch: 05, loss: -0.02490\n",
      "epoch: 06, loss: -0.02503\n",
      "epoch: 07, loss: -0.02499\n",
      "epoch: 08, loss: -0.02389\n",
      "epoch: 09, loss: -0.02395\n",
      "torch.Size([425, 64])\n"
     ]
    },
    {
     "name": "stderr",
     "output_type": "stream",
     "text": [
      "\r",
      " 20%|███████████████████████████████▍                                                                                                                               | 198/1000 [1:20:38<5:58:10, 26.80s/it]"
     ]
    },
    {
     "name": "stdout",
     "output_type": "stream",
     "text": [
      "eigenvalues shape torch.Size([5]) eigenvectors shape torch.Size([5, 425])\n",
      "198 /home/phdcs2/Hard_Disk/Datasets/Deep-Spectral-Segmentation/data/object-segmentation/ECSSD/features/dino_vits16/0199.pth\n",
      "dict_keys(['k', 'indices', 'file', 'id', 'model_name', 'patch_size', 'shape'])\n",
      "0199\n",
      "Starting Training\n",
      "epoch: 00, loss: -0.03984\n",
      "epoch: 01, loss: -0.06715\n",
      "epoch: 02, loss: -0.07016\n",
      "epoch: 03, loss: -0.07313\n",
      "epoch: 04, loss: -0.07338\n",
      "epoch: 05, loss: -0.07689\n",
      "epoch: 06, loss: -0.07712\n",
      "epoch: 07, loss: -0.07671\n",
      "epoch: 08, loss: -0.07531\n",
      "epoch: 09, loss: -0.07631\n",
      "torch.Size([450, 64])\n"
     ]
    },
    {
     "name": "stderr",
     "output_type": "stream",
     "text": [
      "\r",
      " 20%|███████████████████████████████▋                                                                                                                               | 199/1000 [1:21:05<5:56:18, 26.69s/it]"
     ]
    },
    {
     "name": "stdout",
     "output_type": "stream",
     "text": [
      "eigenvalues shape torch.Size([5]) eigenvectors shape torch.Size([5, 450])\n",
      "199 /home/phdcs2/Hard_Disk/Datasets/Deep-Spectral-Segmentation/data/object-segmentation/ECSSD/features/dino_vits16/0200.pth\n",
      "dict_keys(['k', 'indices', 'file', 'id', 'model_name', 'patch_size', 'shape'])\n",
      "0200\n",
      "Starting Training\n",
      "epoch: 00, loss: -0.06271\n",
      "epoch: 01, loss: -0.09827\n",
      "epoch: 02, loss: -0.10112\n",
      "epoch: 03, loss: -0.10261\n",
      "epoch: 04, loss: -0.10495\n",
      "epoch: 05, loss: -0.10875\n",
      "epoch: 06, loss: -0.10609\n",
      "epoch: 07, loss: -0.10370\n",
      "epoch: 08, loss: -0.10535\n",
      "epoch: 09, loss: -0.10532\n",
      "torch.Size([450, 64])\n"
     ]
    },
    {
     "name": "stderr",
     "output_type": "stream",
     "text": [
      "\r",
      " 20%|███████████████████████████████▊                                                                                                                               | 200/1000 [1:21:29<5:47:23, 26.05s/it]"
     ]
    },
    {
     "name": "stdout",
     "output_type": "stream",
     "text": [
      "eigenvalues shape torch.Size([5]) eigenvectors shape torch.Size([5, 450])\n",
      "200 /home/phdcs2/Hard_Disk/Datasets/Deep-Spectral-Segmentation/data/object-segmentation/ECSSD/features/dino_vits16/0201.pth\n",
      "dict_keys(['k', 'indices', 'file', 'id', 'model_name', 'patch_size', 'shape'])\n",
      "0201\n",
      "Starting Training\n",
      "epoch: 00, loss: -0.07966\n",
      "epoch: 01, loss: -0.10424\n",
      "epoch: 02, loss: -0.10678\n",
      "epoch: 03, loss: -0.10892\n",
      "epoch: 04, loss: -0.10566\n",
      "epoch: 05, loss: -0.11213\n",
      "epoch: 06, loss: -0.11261\n",
      "epoch: 07, loss: -0.11329\n",
      "epoch: 08, loss: -0.11200\n",
      "epoch: 09, loss: -0.10996\n",
      "torch.Size([425, 64])\n"
     ]
    },
    {
     "name": "stderr",
     "output_type": "stream",
     "text": [
      "\r",
      " 20%|███████████████████████████████▉                                                                                                                               | 201/1000 [1:21:54<5:42:07, 25.69s/it]"
     ]
    },
    {
     "name": "stdout",
     "output_type": "stream",
     "text": [
      "eigenvalues shape torch.Size([5]) eigenvectors shape torch.Size([5, 425])\n",
      "201 /home/phdcs2/Hard_Disk/Datasets/Deep-Spectral-Segmentation/data/object-segmentation/ECSSD/features/dino_vits16/0202.pth\n",
      "dict_keys(['k', 'indices', 'file', 'id', 'model_name', 'patch_size', 'shape'])\n",
      "0202\n",
      "Starting Training\n",
      "epoch: 00, loss: -0.03175\n",
      "epoch: 01, loss: -0.06341\n",
      "epoch: 02, loss: -0.06625\n",
      "epoch: 03, loss: -0.06917\n",
      "epoch: 04, loss: -0.07066\n",
      "epoch: 05, loss: -0.06913\n",
      "epoch: 06, loss: -0.06872\n",
      "epoch: 07, loss: -0.07232\n",
      "epoch: 08, loss: -0.07075\n",
      "epoch: 09, loss: -0.07271\n",
      "torch.Size([400, 64])\n"
     ]
    },
    {
     "name": "stderr",
     "output_type": "stream",
     "text": [
      "\r",
      " 20%|████████████████████████████████                                                                                                                               | 202/1000 [1:22:19<5:37:41, 25.39s/it]"
     ]
    },
    {
     "name": "stdout",
     "output_type": "stream",
     "text": [
      "eigenvalues shape torch.Size([5]) eigenvectors shape torch.Size([5, 400])\n",
      "202 /home/phdcs2/Hard_Disk/Datasets/Deep-Spectral-Segmentation/data/object-segmentation/ECSSD/features/dino_vits16/0203.pth\n",
      "dict_keys(['k', 'indices', 'file', 'id', 'model_name', 'patch_size', 'shape'])\n",
      "0203\n",
      "Starting Training\n",
      "epoch: 00, loss: -0.02551\n",
      "epoch: 01, loss: -0.05194\n",
      "epoch: 02, loss: -0.06077\n",
      "epoch: 03, loss: -0.06122\n",
      "epoch: 04, loss: -0.06485\n",
      "epoch: 05, loss: -0.06498\n",
      "epoch: 06, loss: -0.06357\n",
      "epoch: 07, loss: -0.06708\n",
      "epoch: 08, loss: -0.06694\n",
      "epoch: 09, loss: -0.06685\n",
      "torch.Size([400, 64])\n"
     ]
    },
    {
     "name": "stderr",
     "output_type": "stream",
     "text": [
      "\r",
      " 20%|████████████████████████████████▎                                                                                                                              | 203/1000 [1:22:40<5:19:55, 24.08s/it]"
     ]
    },
    {
     "name": "stdout",
     "output_type": "stream",
     "text": [
      "eigenvalues shape torch.Size([5]) eigenvectors shape torch.Size([5, 400])\n",
      "203 /home/phdcs2/Hard_Disk/Datasets/Deep-Spectral-Segmentation/data/object-segmentation/ECSSD/features/dino_vits16/0204.pth\n",
      "dict_keys(['k', 'indices', 'file', 'id', 'model_name', 'patch_size', 'shape'])\n",
      "0204\n",
      "Starting Training\n",
      "epoch: 00, loss: -0.12328\n",
      "epoch: 01, loss: -0.15302\n",
      "epoch: 02, loss: -0.15491\n",
      "epoch: 03, loss: -0.15875\n",
      "epoch: 04, loss: -0.15991\n",
      "epoch: 05, loss: -0.16140\n",
      "epoch: 06, loss: -0.16361\n",
      "epoch: 07, loss: -0.16607\n",
      "epoch: 08, loss: -0.16341\n",
      "epoch: 09, loss: -0.16333\n",
      "torch.Size([450, 64])\n"
     ]
    },
    {
     "name": "stderr",
     "output_type": "stream",
     "text": [
      "\r",
      " 20%|████████████████████████████████▍                                                                                                                              | 204/1000 [1:23:09<5:38:33, 25.52s/it]"
     ]
    },
    {
     "name": "stdout",
     "output_type": "stream",
     "text": [
      "eigenvalues shape torch.Size([5]) eigenvectors shape torch.Size([5, 450])\n",
      "204 /home/phdcs2/Hard_Disk/Datasets/Deep-Spectral-Segmentation/data/object-segmentation/ECSSD/features/dino_vits16/0205.pth\n",
      "dict_keys(['k', 'indices', 'file', 'id', 'model_name', 'patch_size', 'shape'])\n",
      "0205\n",
      "Starting Training\n",
      "epoch: 00, loss: -0.02869\n",
      "epoch: 01, loss: -0.05197\n",
      "epoch: 02, loss: -0.05550\n",
      "epoch: 03, loss: -0.05563\n",
      "epoch: 04, loss: -0.05898\n",
      "epoch: 05, loss: -0.05739\n",
      "epoch: 06, loss: -0.05808\n",
      "epoch: 07, loss: -0.05745\n",
      "epoch: 08, loss: -0.06033\n",
      "epoch: 09, loss: -0.06007\n",
      "torch.Size([450, 64])\n"
     ]
    },
    {
     "name": "stderr",
     "output_type": "stream",
     "text": [
      "\r",
      " 20%|████████████████████████████████▌                                                                                                                              | 205/1000 [1:23:34<5:35:20, 25.31s/it]"
     ]
    },
    {
     "name": "stdout",
     "output_type": "stream",
     "text": [
      "eigenvalues shape torch.Size([5]) eigenvectors shape torch.Size([5, 450])\n",
      "205 /home/phdcs2/Hard_Disk/Datasets/Deep-Spectral-Segmentation/data/object-segmentation/ECSSD/features/dino_vits16/0206.pth\n",
      "dict_keys(['k', 'indices', 'file', 'id', 'model_name', 'patch_size', 'shape'])\n",
      "0206\n",
      "Starting Training\n",
      "epoch: 00, loss: -0.03716\n",
      "epoch: 01, loss: -0.05332\n",
      "epoch: 02, loss: -0.05711\n",
      "epoch: 03, loss: -0.05867\n",
      "epoch: 04, loss: -0.06082\n",
      "epoch: 05, loss: -0.06092\n",
      "epoch: 06, loss: -0.06201\n",
      "epoch: 07, loss: -0.06187\n",
      "epoch: 08, loss: -0.06203\n",
      "epoch: 09, loss: -0.06030\n",
      "torch.Size([400, 64])\n"
     ]
    },
    {
     "name": "stderr",
     "output_type": "stream",
     "text": [
      "\r",
      " 21%|████████████████████████████████▊                                                                                                                              | 206/1000 [1:23:59<5:36:09, 25.40s/it]"
     ]
    },
    {
     "name": "stdout",
     "output_type": "stream",
     "text": [
      "eigenvalues shape torch.Size([5]) eigenvectors shape torch.Size([5, 400])\n",
      "206 /home/phdcs2/Hard_Disk/Datasets/Deep-Spectral-Segmentation/data/object-segmentation/ECSSD/features/dino_vits16/0207.pth\n",
      "dict_keys(['k', 'indices', 'file', 'id', 'model_name', 'patch_size', 'shape'])\n",
      "0207\n",
      "Starting Training\n",
      "epoch: 00, loss: -0.14693\n",
      "epoch: 01, loss: -0.18777\n",
      "epoch: 02, loss: -0.19258\n",
      "epoch: 03, loss: -0.19243\n",
      "epoch: 04, loss: -0.19539\n",
      "epoch: 05, loss: -0.19690\n",
      "epoch: 06, loss: -0.19642\n",
      "epoch: 07, loss: -0.19729\n",
      "epoch: 08, loss: -0.19913\n",
      "epoch: 09, loss: -0.19821\n",
      "torch.Size([400, 64])\n"
     ]
    },
    {
     "name": "stderr",
     "output_type": "stream",
     "text": [
      "\r",
      " 21%|████████████████████████████████▉                                                                                                                              | 207/1000 [1:24:20<5:18:18, 24.08s/it]"
     ]
    },
    {
     "name": "stdout",
     "output_type": "stream",
     "text": [
      "eigenvalues shape torch.Size([5]) eigenvectors shape torch.Size([5, 400])\n",
      "207 /home/phdcs2/Hard_Disk/Datasets/Deep-Spectral-Segmentation/data/object-segmentation/ECSSD/features/dino_vits16/0208.pth\n",
      "dict_keys(['k', 'indices', 'file', 'id', 'model_name', 'patch_size', 'shape'])\n",
      "0208\n",
      "Starting Training\n",
      "epoch: 00, loss: -0.02718\n",
      "epoch: 01, loss: -0.05135\n",
      "epoch: 02, loss: -0.05408\n",
      "epoch: 03, loss: -0.05450\n",
      "epoch: 04, loss: -0.05465\n",
      "epoch: 05, loss: -0.05499\n",
      "epoch: 06, loss: -0.05501\n",
      "epoch: 07, loss: -0.05523\n",
      "epoch: 08, loss: -0.05535\n",
      "epoch: 09, loss: -0.05535\n",
      "torch.Size([450, 64])\n"
     ]
    },
    {
     "name": "stderr",
     "output_type": "stream",
     "text": [
      "\r",
      " 21%|█████████████████████████████████                                                                                                                              | 208/1000 [1:24:52<5:47:41, 26.34s/it]"
     ]
    },
    {
     "name": "stdout",
     "output_type": "stream",
     "text": [
      "eigenvalues shape torch.Size([5]) eigenvectors shape torch.Size([5, 450])\n",
      "208 /home/phdcs2/Hard_Disk/Datasets/Deep-Spectral-Segmentation/data/object-segmentation/ECSSD/features/dino_vits16/0209.pth\n",
      "dict_keys(['k', 'indices', 'file', 'id', 'model_name', 'patch_size', 'shape'])\n",
      "0209\n",
      "Starting Training\n",
      "epoch: 00, loss: -0.03991\n",
      "epoch: 01, loss: -0.06531\n",
      "epoch: 02, loss: -0.07075\n",
      "epoch: 03, loss: -0.07278\n",
      "epoch: 04, loss: -0.07291\n",
      "epoch: 05, loss: -0.07388\n",
      "epoch: 06, loss: -0.07504\n",
      "epoch: 07, loss: -0.07556\n",
      "epoch: 08, loss: -0.07490\n",
      "epoch: 09, loss: -0.07591\n",
      "torch.Size([500, 64])\n"
     ]
    },
    {
     "name": "stderr",
     "output_type": "stream",
     "text": [
      "\r",
      " 21%|█████████████████████████████████▏                                                                                                                             | 209/1000 [1:25:24<6:11:02, 28.14s/it]"
     ]
    },
    {
     "name": "stdout",
     "output_type": "stream",
     "text": [
      "eigenvalues shape torch.Size([5]) eigenvectors shape torch.Size([5, 500])\n",
      "209 /home/phdcs2/Hard_Disk/Datasets/Deep-Spectral-Segmentation/data/object-segmentation/ECSSD/features/dino_vits16/0210.pth\n",
      "dict_keys(['k', 'indices', 'file', 'id', 'model_name', 'patch_size', 'shape'])\n",
      "0210\n",
      "Starting Training\n",
      "epoch: 00, loss: -0.02229\n",
      "epoch: 01, loss: -0.04592\n",
      "epoch: 02, loss: -0.04954\n",
      "epoch: 03, loss: -0.05024\n",
      "epoch: 04, loss: -0.04934\n",
      "epoch: 05, loss: -0.05008\n",
      "epoch: 06, loss: -0.04944\n",
      "epoch: 07, loss: -0.04952\n",
      "epoch: 08, loss: -0.05004\n",
      "epoch: 09, loss: -0.04998\n",
      "torch.Size([425, 64])\n"
     ]
    },
    {
     "name": "stderr",
     "output_type": "stream",
     "text": [
      "\r",
      " 21%|█████████████████████████████████▍                                                                                                                             | 210/1000 [1:25:56<6:25:10, 29.25s/it]"
     ]
    },
    {
     "name": "stdout",
     "output_type": "stream",
     "text": [
      "eigenvalues shape torch.Size([5]) eigenvectors shape torch.Size([5, 425])\n",
      "210 /home/phdcs2/Hard_Disk/Datasets/Deep-Spectral-Segmentation/data/object-segmentation/ECSSD/features/dino_vits16/0211.pth\n",
      "dict_keys(['k', 'indices', 'file', 'id', 'model_name', 'patch_size', 'shape'])\n",
      "0211\n",
      "Starting Training\n",
      "epoch: 00, loss: -0.08889\n",
      "epoch: 01, loss: -0.12262\n",
      "epoch: 02, loss: -0.12451\n",
      "epoch: 03, loss: -0.12682\n",
      "epoch: 04, loss: -0.12904\n",
      "epoch: 05, loss: -0.12726\n",
      "epoch: 06, loss: -0.13019\n",
      "epoch: 07, loss: -0.12844\n",
      "epoch: 08, loss: -0.12938\n",
      "epoch: 09, loss: -0.12800\n",
      "torch.Size([500, 64])\n"
     ]
    },
    {
     "name": "stderr",
     "output_type": "stream",
     "text": [
      "\r",
      " 21%|█████████████████████████████████▌                                                                                                                             | 211/1000 [1:26:25<6:22:42, 29.10s/it]"
     ]
    },
    {
     "name": "stdout",
     "output_type": "stream",
     "text": [
      "eigenvalues shape torch.Size([5]) eigenvectors shape torch.Size([5, 500])\n",
      "211 /home/phdcs2/Hard_Disk/Datasets/Deep-Spectral-Segmentation/data/object-segmentation/ECSSD/features/dino_vits16/0212.pth\n",
      "dict_keys(['k', 'indices', 'file', 'id', 'model_name', 'patch_size', 'shape'])\n",
      "0212\n",
      "Starting Training\n",
      "epoch: 00, loss: -0.07589\n",
      "epoch: 01, loss: -0.09483\n",
      "epoch: 02, loss: -0.09721\n",
      "epoch: 03, loss: -0.09974\n",
      "epoch: 04, loss: -0.09861\n",
      "epoch: 05, loss: -0.09834\n",
      "epoch: 06, loss: -0.10140\n",
      "epoch: 07, loss: -0.09971\n",
      "epoch: 08, loss: -0.10078\n",
      "epoch: 09, loss: -0.10091\n",
      "torch.Size([625, 64])\n"
     ]
    },
    {
     "name": "stderr",
     "output_type": "stream",
     "text": [
      "\r",
      " 21%|█████████████████████████████████▋                                                                                                                             | 212/1000 [1:27:15<7:46:35, 35.53s/it]"
     ]
    },
    {
     "name": "stdout",
     "output_type": "stream",
     "text": [
      "eigenvalues shape torch.Size([5]) eigenvectors shape torch.Size([5, 625])\n",
      "212 /home/phdcs2/Hard_Disk/Datasets/Deep-Spectral-Segmentation/data/object-segmentation/ECSSD/features/dino_vits16/0213.pth\n",
      "dict_keys(['k', 'indices', 'file', 'id', 'model_name', 'patch_size', 'shape'])\n",
      "0213\n",
      "Starting Training\n",
      "epoch: 00, loss: -0.08429\n",
      "epoch: 01, loss: -0.09899\n",
      "epoch: 02, loss: -0.09984\n",
      "epoch: 03, loss: -0.10063\n",
      "epoch: 04, loss: -0.09986\n",
      "epoch: 05, loss: -0.10033\n",
      "epoch: 06, loss: -0.10039\n",
      "epoch: 07, loss: -0.10056\n",
      "epoch: 08, loss: -0.10078\n",
      "epoch: 09, loss: -0.10073\n",
      "torch.Size([450, 64])\n"
     ]
    },
    {
     "name": "stderr",
     "output_type": "stream",
     "text": [
      "\r",
      " 21%|█████████████████████████████████▊                                                                                                                             | 213/1000 [1:27:40<7:02:41, 32.23s/it]"
     ]
    },
    {
     "name": "stdout",
     "output_type": "stream",
     "text": [
      "eigenvalues shape torch.Size([5]) eigenvectors shape torch.Size([5, 450])\n",
      "213 /home/phdcs2/Hard_Disk/Datasets/Deep-Spectral-Segmentation/data/object-segmentation/ECSSD/features/dino_vits16/0214.pth\n",
      "dict_keys(['k', 'indices', 'file', 'id', 'model_name', 'patch_size', 'shape'])\n",
      "0214\n",
      "Starting Training\n",
      "epoch: 00, loss: -0.02333\n",
      "epoch: 01, loss: -0.05508\n",
      "epoch: 02, loss: -0.05772\n",
      "epoch: 03, loss: -0.05852\n",
      "epoch: 04, loss: -0.05913\n",
      "epoch: 05, loss: -0.05915\n",
      "epoch: 06, loss: -0.05940\n",
      "epoch: 07, loss: -0.05951\n",
      "epoch: 08, loss: -0.05957\n",
      "epoch: 09, loss: -0.05974\n",
      "torch.Size([350, 64])\n"
     ]
    },
    {
     "name": "stderr",
     "output_type": "stream",
     "text": [
      "\r",
      " 21%|██████████████████████████████████                                                                                                                             | 214/1000 [1:28:04<6:31:33, 29.89s/it]"
     ]
    },
    {
     "name": "stdout",
     "output_type": "stream",
     "text": [
      "eigenvalues shape torch.Size([5]) eigenvectors shape torch.Size([5, 350])\n",
      "214 /home/phdcs2/Hard_Disk/Datasets/Deep-Spectral-Segmentation/data/object-segmentation/ECSSD/features/dino_vits16/0215.pth\n",
      "dict_keys(['k', 'indices', 'file', 'id', 'model_name', 'patch_size', 'shape'])\n",
      "0215\n",
      "Starting Training\n",
      "epoch: 00, loss: -0.04106\n",
      "epoch: 01, loss: -0.05652\n",
      "epoch: 02, loss: -0.05749\n",
      "epoch: 03, loss: -0.05928\n",
      "epoch: 04, loss: -0.05939\n",
      "epoch: 05, loss: -0.05983\n",
      "epoch: 06, loss: -0.05873\n",
      "epoch: 07, loss: -0.05879\n",
      "epoch: 08, loss: -0.05855\n",
      "epoch: 09, loss: -0.06026\n",
      "torch.Size([425, 64])\n"
     ]
    },
    {
     "name": "stderr",
     "output_type": "stream",
     "text": [
      "\r",
      " 22%|██████████████████████████████████▏                                                                                                                            | 215/1000 [1:28:28<6:05:49, 27.96s/it]"
     ]
    },
    {
     "name": "stdout",
     "output_type": "stream",
     "text": [
      "eigenvalues shape torch.Size([5]) eigenvectors shape torch.Size([5, 425])\n",
      "215 /home/phdcs2/Hard_Disk/Datasets/Deep-Spectral-Segmentation/data/object-segmentation/ECSSD/features/dino_vits16/0216.pth\n",
      "dict_keys(['k', 'indices', 'file', 'id', 'model_name', 'patch_size', 'shape'])\n",
      "0216\n",
      "Starting Training\n",
      "epoch: 00, loss: -0.00141\n",
      "epoch: 01, loss: -0.02644\n",
      "epoch: 02, loss: -0.03119\n",
      "epoch: 03, loss: -0.03438\n",
      "epoch: 04, loss: -0.03425\n",
      "epoch: 05, loss: -0.03489\n",
      "epoch: 06, loss: -0.03561\n",
      "epoch: 07, loss: -0.03810\n",
      "epoch: 08, loss: -0.03602\n",
      "epoch: 09, loss: -0.03543\n",
      "torch.Size([450, 64])\n"
     ]
    },
    {
     "name": "stderr",
     "output_type": "stream",
     "text": [
      "\r",
      " 22%|██████████████████████████████████▎                                                                                                                            | 216/1000 [1:28:57<6:10:10, 28.33s/it]"
     ]
    },
    {
     "name": "stdout",
     "output_type": "stream",
     "text": [
      "eigenvalues shape torch.Size([5]) eigenvectors shape torch.Size([5, 450])\n",
      "216 /home/phdcs2/Hard_Disk/Datasets/Deep-Spectral-Segmentation/data/object-segmentation/ECSSD/features/dino_vits16/0217.pth\n",
      "dict_keys(['k', 'indices', 'file', 'id', 'model_name', 'patch_size', 'shape'])\n",
      "0217\n",
      "Starting Training\n",
      "epoch: 00, loss: -0.03820\n",
      "epoch: 01, loss: -0.06383\n",
      "epoch: 02, loss: -0.07026\n",
      "epoch: 03, loss: -0.07115\n",
      "epoch: 04, loss: -0.07189\n",
      "epoch: 05, loss: -0.07395\n",
      "epoch: 06, loss: -0.07317\n",
      "epoch: 07, loss: -0.07853\n",
      "epoch: 08, loss: -0.07458\n",
      "epoch: 09, loss: -0.07673\n",
      "torch.Size([450, 64])\n"
     ]
    },
    {
     "name": "stderr",
     "output_type": "stream",
     "text": [
      "\r",
      " 22%|██████████████████████████████████▌                                                                                                                            | 217/1000 [1:29:23<6:00:32, 27.63s/it]"
     ]
    },
    {
     "name": "stdout",
     "output_type": "stream",
     "text": [
      "eigenvalues shape torch.Size([5]) eigenvectors shape torch.Size([5, 450])\n",
      "217 /home/phdcs2/Hard_Disk/Datasets/Deep-Spectral-Segmentation/data/object-segmentation/ECSSD/features/dino_vits16/0218.pth\n",
      "dict_keys(['k', 'indices', 'file', 'id', 'model_name', 'patch_size', 'shape'])\n",
      "0218\n",
      "Starting Training\n",
      "epoch: 00, loss: -0.05545\n",
      "epoch: 01, loss: -0.07160\n",
      "epoch: 02, loss: -0.07249\n",
      "epoch: 03, loss: -0.07310\n",
      "epoch: 04, loss: -0.07303\n",
      "epoch: 05, loss: -0.07338\n",
      "epoch: 06, loss: -0.07356\n",
      "epoch: 07, loss: -0.07369\n",
      "epoch: 08, loss: -0.07372\n",
      "epoch: 09, loss: -0.07380\n",
      "torch.Size([500, 64])\n"
     ]
    },
    {
     "name": "stderr",
     "output_type": "stream",
     "text": [
      "\r",
      " 22%|██████████████████████████████████▋                                                                                                                            | 218/1000 [1:29:52<6:07:03, 28.16s/it]"
     ]
    },
    {
     "name": "stdout",
     "output_type": "stream",
     "text": [
      "eigenvalues shape torch.Size([5]) eigenvectors shape torch.Size([5, 500])\n",
      "218 /home/phdcs2/Hard_Disk/Datasets/Deep-Spectral-Segmentation/data/object-segmentation/ECSSD/features/dino_vits16/0219.pth\n",
      "dict_keys(['k', 'indices', 'file', 'id', 'model_name', 'patch_size', 'shape'])\n",
      "0219\n",
      "Starting Training\n",
      "epoch: 00, loss: -0.16156\n",
      "epoch: 01, loss: -0.18786\n",
      "epoch: 02, loss: -0.19286\n",
      "epoch: 03, loss: -0.19814\n",
      "epoch: 04, loss: -0.19828\n",
      "epoch: 05, loss: -0.19690\n",
      "epoch: 06, loss: -0.20033\n",
      "epoch: 07, loss: -0.20097\n",
      "epoch: 08, loss: -0.20207\n",
      "epoch: 09, loss: -0.20246\n",
      "torch.Size([450, 64])\n"
     ]
    },
    {
     "name": "stderr",
     "output_type": "stream",
     "text": [
      "\r",
      " 22%|██████████████████████████████████▊                                                                                                                            | 219/1000 [1:30:17<5:52:22, 27.07s/it]"
     ]
    },
    {
     "name": "stdout",
     "output_type": "stream",
     "text": [
      "eigenvalues shape torch.Size([5]) eigenvectors shape torch.Size([5, 450])\n",
      "219 /home/phdcs2/Hard_Disk/Datasets/Deep-Spectral-Segmentation/data/object-segmentation/ECSSD/features/dino_vits16/0220.pth\n",
      "dict_keys(['k', 'indices', 'file', 'id', 'model_name', 'patch_size', 'shape'])\n",
      "0220\n",
      "Starting Training\n",
      "epoch: 00, loss: -0.13369\n",
      "epoch: 01, loss: -0.15518\n",
      "epoch: 02, loss: -0.15810\n",
      "epoch: 03, loss: -0.15896\n",
      "epoch: 04, loss: -0.15837\n",
      "epoch: 05, loss: -0.16010\n",
      "epoch: 06, loss: -0.15988\n",
      "epoch: 07, loss: -0.16125\n",
      "epoch: 08, loss: -0.16094\n",
      "epoch: 09, loss: -0.16099\n",
      "torch.Size([500, 64])\n"
     ]
    },
    {
     "name": "stderr",
     "output_type": "stream",
     "text": [
      "\r",
      " 22%|██████████████████████████████████▉                                                                                                                            | 220/1000 [1:30:47<6:03:21, 27.95s/it]"
     ]
    },
    {
     "name": "stdout",
     "output_type": "stream",
     "text": [
      "eigenvalues shape torch.Size([5]) eigenvectors shape torch.Size([5, 500])\n",
      "220 /home/phdcs2/Hard_Disk/Datasets/Deep-Spectral-Segmentation/data/object-segmentation/ECSSD/features/dino_vits16/0221.pth\n",
      "dict_keys(['k', 'indices', 'file', 'id', 'model_name', 'patch_size', 'shape'])\n",
      "0221\n",
      "Starting Training\n",
      "epoch: 00, loss: -0.01841\n",
      "epoch: 01, loss: -0.03655\n",
      "epoch: 02, loss: -0.03906\n",
      "epoch: 03, loss: -0.04002\n",
      "epoch: 04, loss: -0.04056\n",
      "epoch: 05, loss: -0.04085\n",
      "epoch: 06, loss: -0.04105\n",
      "epoch: 07, loss: -0.04119\n",
      "epoch: 08, loss: -0.04132\n",
      "epoch: 09, loss: -0.04159\n",
      "torch.Size([400, 64])\n"
     ]
    },
    {
     "name": "stderr",
     "output_type": "stream",
     "text": [
      "\r",
      " 22%|███████████████████████████████████▏                                                                                                                           | 221/1000 [1:31:09<5:38:41, 26.09s/it]"
     ]
    },
    {
     "name": "stdout",
     "output_type": "stream",
     "text": [
      "eigenvalues shape torch.Size([5]) eigenvectors shape torch.Size([5, 400])\n",
      "221 /home/phdcs2/Hard_Disk/Datasets/Deep-Spectral-Segmentation/data/object-segmentation/ECSSD/features/dino_vits16/0222.pth\n",
      "dict_keys(['k', 'indices', 'file', 'id', 'model_name', 'patch_size', 'shape'])\n",
      "0222\n",
      "Starting Training\n",
      "epoch: 00, loss: -0.00893\n",
      "epoch: 01, loss: -0.03529\n",
      "epoch: 02, loss: -0.03951\n",
      "epoch: 03, loss: -0.04030\n",
      "epoch: 04, loss: -0.04317\n",
      "epoch: 05, loss: -0.04278\n",
      "epoch: 06, loss: -0.04351\n",
      "epoch: 07, loss: -0.04528\n",
      "epoch: 08, loss: -0.04251\n",
      "epoch: 09, loss: -0.04480\n",
      "torch.Size([500, 64])\n"
     ]
    },
    {
     "name": "stderr",
     "output_type": "stream",
     "text": [
      "\r",
      " 22%|███████████████████████████████████▎                                                                                                                           | 222/1000 [1:31:37<5:46:09, 26.70s/it]"
     ]
    },
    {
     "name": "stdout",
     "output_type": "stream",
     "text": [
      "eigenvalues shape torch.Size([5]) eigenvectors shape torch.Size([5, 500])\n",
      "222 /home/phdcs2/Hard_Disk/Datasets/Deep-Spectral-Segmentation/data/object-segmentation/ECSSD/features/dino_vits16/0223.pth\n",
      "dict_keys(['k', 'indices', 'file', 'id', 'model_name', 'patch_size', 'shape'])\n",
      "0223\n",
      "Starting Training\n",
      "epoch: 00, loss: -0.07047\n",
      "epoch: 01, loss: -0.08429\n",
      "epoch: 02, loss: -0.08545\n",
      "epoch: 03, loss: -0.08551\n",
      "epoch: 04, loss: -0.08569\n",
      "epoch: 05, loss: -0.08617\n",
      "epoch: 06, loss: -0.08632\n",
      "epoch: 07, loss: -0.08639\n",
      "epoch: 08, loss: -0.08648\n",
      "epoch: 09, loss: -0.08655\n",
      "torch.Size([500, 64])\n"
     ]
    },
    {
     "name": "stderr",
     "output_type": "stream",
     "text": [
      "\r",
      " 22%|███████████████████████████████████▍                                                                                                                           | 223/1000 [1:32:00<5:34:08, 25.80s/it]"
     ]
    },
    {
     "name": "stdout",
     "output_type": "stream",
     "text": [
      "eigenvalues shape torch.Size([5]) eigenvectors shape torch.Size([5, 500])\n",
      "223 /home/phdcs2/Hard_Disk/Datasets/Deep-Spectral-Segmentation/data/object-segmentation/ECSSD/features/dino_vits16/0224.pth\n",
      "dict_keys(['k', 'indices', 'file', 'id', 'model_name', 'patch_size', 'shape'])\n",
      "0224\n",
      "Starting Training\n",
      "epoch: 00, loss: -0.01759\n",
      "epoch: 01, loss: -0.03997\n",
      "epoch: 02, loss: -0.04347\n",
      "epoch: 03, loss: -0.04780\n",
      "epoch: 04, loss: -0.04834\n",
      "epoch: 05, loss: -0.04748\n",
      "epoch: 06, loss: -0.04984\n",
      "epoch: 07, loss: -0.04911\n",
      "epoch: 08, loss: -0.04927\n",
      "epoch: 09, loss: -0.04993\n",
      "torch.Size([500, 64])\n"
     ]
    },
    {
     "name": "stderr",
     "output_type": "stream",
     "text": [
      "\r",
      " 22%|███████████████████████████████████▌                                                                                                                           | 224/1000 [1:32:40<6:28:36, 30.05s/it]"
     ]
    },
    {
     "name": "stdout",
     "output_type": "stream",
     "text": [
      "eigenvalues shape torch.Size([5]) eigenvectors shape torch.Size([5, 500])\n",
      "224 /home/phdcs2/Hard_Disk/Datasets/Deep-Spectral-Segmentation/data/object-segmentation/ECSSD/features/dino_vits16/0225.pth\n",
      "dict_keys(['k', 'indices', 'file', 'id', 'model_name', 'patch_size', 'shape'])\n",
      "0225\n",
      "Starting Training\n",
      "epoch: 00, loss: -0.01789\n",
      "epoch: 01, loss: -0.04686\n",
      "epoch: 02, loss: -0.05142\n",
      "epoch: 03, loss: -0.05184\n",
      "epoch: 04, loss: -0.05007\n",
      "epoch: 05, loss: -0.05415\n",
      "epoch: 06, loss: -0.05405\n",
      "epoch: 07, loss: -0.05385\n",
      "epoch: 08, loss: -0.05014\n",
      "epoch: 09, loss: -0.05373\n",
      "torch.Size([450, 64])\n"
     ]
    },
    {
     "name": "stderr",
     "output_type": "stream",
     "text": [
      "\r",
      " 22%|███████████████████████████████████▊                                                                                                                           | 225/1000 [1:33:07<6:14:04, 28.96s/it]"
     ]
    },
    {
     "name": "stdout",
     "output_type": "stream",
     "text": [
      "eigenvalues shape torch.Size([5]) eigenvectors shape torch.Size([5, 450])\n",
      "225 /home/phdcs2/Hard_Disk/Datasets/Deep-Spectral-Segmentation/data/object-segmentation/ECSSD/features/dino_vits16/0226.pth\n",
      "dict_keys(['k', 'indices', 'file', 'id', 'model_name', 'patch_size', 'shape'])\n",
      "0226\n",
      "Starting Training\n",
      "epoch: 00, loss: -0.01863\n",
      "epoch: 01, loss: -0.04479\n",
      "epoch: 02, loss: -0.04832\n",
      "epoch: 03, loss: -0.04920\n",
      "epoch: 04, loss: -0.04949\n",
      "epoch: 05, loss: -0.04988\n",
      "epoch: 06, loss: -0.04998\n",
      "epoch: 07, loss: -0.05021\n",
      "epoch: 08, loss: -0.05048\n",
      "epoch: 09, loss: -0.05042\n",
      "torch.Size([400, 64])\n"
     ]
    },
    {
     "name": "stderr",
     "output_type": "stream",
     "text": [
      "\r",
      " 23%|███████████████████████████████████▉                                                                                                                           | 226/1000 [1:33:32<5:59:00, 27.83s/it]"
     ]
    },
    {
     "name": "stdout",
     "output_type": "stream",
     "text": [
      "eigenvalues shape torch.Size([5]) eigenvectors shape torch.Size([5, 400])\n",
      "226 /home/phdcs2/Hard_Disk/Datasets/Deep-Spectral-Segmentation/data/object-segmentation/ECSSD/features/dino_vits16/0227.pth\n",
      "dict_keys(['k', 'indices', 'file', 'id', 'model_name', 'patch_size', 'shape'])\n",
      "0227\n",
      "Starting Training\n",
      "epoch: 00, loss: -0.05888\n",
      "epoch: 01, loss: -0.08444\n",
      "epoch: 02, loss: -0.08614\n",
      "epoch: 03, loss: -0.08625\n",
      "epoch: 04, loss: -0.08729\n",
      "epoch: 05, loss: -0.08859\n",
      "epoch: 06, loss: -0.08745\n",
      "epoch: 07, loss: -0.08829\n",
      "epoch: 08, loss: -0.09001\n",
      "epoch: 09, loss: -0.08673\n",
      "torch.Size([375, 64])\n"
     ]
    },
    {
     "name": "stderr",
     "output_type": "stream",
     "text": [
      "\r",
      " 23%|████████████████████████████████████                                                                                                                           | 227/1000 [1:33:52<5:28:07, 25.47s/it]"
     ]
    },
    {
     "name": "stdout",
     "output_type": "stream",
     "text": [
      "eigenvalues shape torch.Size([5]) eigenvectors shape torch.Size([5, 375])\n",
      "227 /home/phdcs2/Hard_Disk/Datasets/Deep-Spectral-Segmentation/data/object-segmentation/ECSSD/features/dino_vits16/0228.pth\n",
      "dict_keys(['k', 'indices', 'file', 'id', 'model_name', 'patch_size', 'shape'])\n",
      "0228\n",
      "Starting Training\n",
      "epoch: 00, loss: -0.06039\n",
      "epoch: 01, loss: -0.08536\n",
      "epoch: 02, loss: -0.08594\n",
      "epoch: 03, loss: -0.08765\n",
      "epoch: 04, loss: -0.08556\n",
      "epoch: 05, loss: -0.08761\n",
      "epoch: 06, loss: -0.08854\n",
      "epoch: 07, loss: -0.08823\n",
      "epoch: 08, loss: -0.08943\n",
      "epoch: 09, loss: -0.08757\n",
      "torch.Size([375, 64])\n"
     ]
    },
    {
     "name": "stderr",
     "output_type": "stream",
     "text": [
      "\r",
      " 23%|████████████████████████████████████▎                                                                                                                          | 228/1000 [1:34:11<5:02:16, 23.49s/it]"
     ]
    },
    {
     "name": "stdout",
     "output_type": "stream",
     "text": [
      "eigenvalues shape torch.Size([5]) eigenvectors shape torch.Size([5, 375])\n",
      "228 /home/phdcs2/Hard_Disk/Datasets/Deep-Spectral-Segmentation/data/object-segmentation/ECSSD/features/dino_vits16/0229.pth\n",
      "dict_keys(['k', 'indices', 'file', 'id', 'model_name', 'patch_size', 'shape'])\n",
      "0229\n",
      "Starting Training\n",
      "epoch: 00, loss: -0.01734\n",
      "epoch: 01, loss: -0.03930\n",
      "epoch: 02, loss: -0.03990\n",
      "epoch: 03, loss: -0.04356\n",
      "epoch: 04, loss: -0.04456\n",
      "epoch: 05, loss: -0.04335\n",
      "epoch: 06, loss: -0.04362\n",
      "epoch: 07, loss: -0.04795\n",
      "epoch: 08, loss: -0.04569\n",
      "epoch: 09, loss: -0.04674\n",
      "torch.Size([400, 64])\n"
     ]
    },
    {
     "name": "stderr",
     "output_type": "stream",
     "text": [
      "\r",
      " 23%|████████████████████████████████████▍                                                                                                                          | 229/1000 [1:34:32<4:54:15, 22.90s/it]"
     ]
    },
    {
     "name": "stdout",
     "output_type": "stream",
     "text": [
      "eigenvalues shape torch.Size([5]) eigenvectors shape torch.Size([5, 400])\n",
      "229 /home/phdcs2/Hard_Disk/Datasets/Deep-Spectral-Segmentation/data/object-segmentation/ECSSD/features/dino_vits16/0230.pth\n",
      "dict_keys(['k', 'indices', 'file', 'id', 'model_name', 'patch_size', 'shape'])\n",
      "0230\n",
      "Starting Training\n",
      "epoch: 00, loss: -0.05640\n",
      "epoch: 01, loss: -0.08419\n",
      "epoch: 02, loss: -0.08489\n",
      "epoch: 03, loss: -0.08323\n",
      "epoch: 04, loss: -0.08811\n",
      "epoch: 05, loss: -0.08997\n",
      "epoch: 06, loss: -0.08853\n",
      "epoch: 07, loss: -0.09120\n",
      "epoch: 08, loss: -0.09065\n",
      "epoch: 09, loss: -0.09259\n",
      "torch.Size([450, 64])\n"
     ]
    },
    {
     "name": "stderr",
     "output_type": "stream",
     "text": [
      "\r",
      " 23%|████████████████████████████████████▌                                                                                                                          | 230/1000 [1:34:55<4:51:39, 22.73s/it]"
     ]
    },
    {
     "name": "stdout",
     "output_type": "stream",
     "text": [
      "eigenvalues shape torch.Size([5]) eigenvectors shape torch.Size([5, 450])\n",
      "230 /home/phdcs2/Hard_Disk/Datasets/Deep-Spectral-Segmentation/data/object-segmentation/ECSSD/features/dino_vits16/0231.pth\n",
      "dict_keys(['k', 'indices', 'file', 'id', 'model_name', 'patch_size', 'shape'])\n",
      "0231\n",
      "Starting Training\n",
      "epoch: 00, loss: -0.04426\n",
      "epoch: 01, loss: -0.06332\n",
      "epoch: 02, loss: -0.06442\n",
      "epoch: 03, loss: -0.06509\n",
      "epoch: 04, loss: -0.06512\n",
      "epoch: 05, loss: -0.06515\n",
      "epoch: 06, loss: -0.06651\n",
      "epoch: 07, loss: -0.06580\n",
      "epoch: 08, loss: -0.06575\n",
      "epoch: 09, loss: -0.06699\n",
      "torch.Size([525, 64])\n"
     ]
    },
    {
     "name": "stderr",
     "output_type": "stream",
     "text": [
      "\r",
      " 23%|████████████████████████████████████▋                                                                                                                          | 231/1000 [1:35:38<6:08:52, 28.78s/it]"
     ]
    },
    {
     "name": "stdout",
     "output_type": "stream",
     "text": [
      "eigenvalues shape torch.Size([5]) eigenvectors shape torch.Size([5, 525])\n",
      "231 /home/phdcs2/Hard_Disk/Datasets/Deep-Spectral-Segmentation/data/object-segmentation/ECSSD/features/dino_vits16/0232.pth\n",
      "dict_keys(['k', 'indices', 'file', 'id', 'model_name', 'patch_size', 'shape'])\n",
      "0232\n",
      "Starting Training\n",
      "epoch: 00, loss: -0.03259\n",
      "epoch: 01, loss: -0.05948\n",
      "epoch: 02, loss: -0.06050\n",
      "epoch: 03, loss: -0.06068\n",
      "epoch: 04, loss: -0.06113\n",
      "epoch: 05, loss: -0.06136\n",
      "epoch: 06, loss: -0.06139\n",
      "epoch: 07, loss: -0.06161\n",
      "epoch: 08, loss: -0.06165\n",
      "epoch: 09, loss: -0.06170\n",
      "torch.Size([500, 64])\n"
     ]
    },
    {
     "name": "stderr",
     "output_type": "stream",
     "text": [
      "\r",
      " 23%|████████████████████████████████████▉                                                                                                                          | 232/1000 [1:36:12<6:29:47, 30.45s/it]"
     ]
    },
    {
     "name": "stdout",
     "output_type": "stream",
     "text": [
      "eigenvalues shape torch.Size([5]) eigenvectors shape torch.Size([5, 500])\n",
      "232 /home/phdcs2/Hard_Disk/Datasets/Deep-Spectral-Segmentation/data/object-segmentation/ECSSD/features/dino_vits16/0233.pth\n",
      "dict_keys(['k', 'indices', 'file', 'id', 'model_name', 'patch_size', 'shape'])\n",
      "0233\n",
      "Starting Training\n",
      "epoch: 00, loss: -0.04728\n",
      "epoch: 01, loss: -0.08153\n",
      "epoch: 02, loss: -0.08262\n",
      "epoch: 03, loss: -0.08551\n",
      "epoch: 04, loss: -0.08657\n",
      "epoch: 05, loss: -0.08615\n",
      "epoch: 06, loss: -0.08689\n",
      "epoch: 07, loss: -0.08802\n",
      "epoch: 08, loss: -0.08766\n",
      "epoch: 09, loss: -0.08899\n",
      "torch.Size([475, 64])\n"
     ]
    },
    {
     "name": "stderr",
     "output_type": "stream",
     "text": [
      "\r",
      " 23%|█████████████████████████████████████                                                                                                                          | 233/1000 [1:36:38<6:11:39, 29.07s/it]"
     ]
    },
    {
     "name": "stdout",
     "output_type": "stream",
     "text": [
      "eigenvalues shape torch.Size([5]) eigenvectors shape torch.Size([5, 475])\n",
      "233 /home/phdcs2/Hard_Disk/Datasets/Deep-Spectral-Segmentation/data/object-segmentation/ECSSD/features/dino_vits16/0234.pth\n",
      "dict_keys(['k', 'indices', 'file', 'id', 'model_name', 'patch_size', 'shape'])\n",
      "0234\n",
      "Starting Training\n",
      "epoch: 00, loss: -0.02464\n",
      "epoch: 01, loss: -0.05085\n",
      "epoch: 02, loss: -0.05261\n",
      "epoch: 03, loss: -0.05327\n",
      "epoch: 04, loss: -0.05381\n",
      "epoch: 05, loss: -0.05402\n",
      "epoch: 06, loss: -0.05400\n",
      "epoch: 07, loss: -0.05428\n",
      "epoch: 08, loss: -0.05443\n",
      "epoch: 09, loss: -0.05472\n",
      "torch.Size([400, 64])\n"
     ]
    },
    {
     "name": "stderr",
     "output_type": "stream",
     "text": [
      "\r",
      " 23%|█████████████████████████████████████▏                                                                                                                         | 234/1000 [1:37:00<5:43:17, 26.89s/it]"
     ]
    },
    {
     "name": "stdout",
     "output_type": "stream",
     "text": [
      "eigenvalues shape torch.Size([5]) eigenvectors shape torch.Size([5, 400])\n",
      "234 /home/phdcs2/Hard_Disk/Datasets/Deep-Spectral-Segmentation/data/object-segmentation/ECSSD/features/dino_vits16/0235.pth\n",
      "dict_keys(['k', 'indices', 'file', 'id', 'model_name', 'patch_size', 'shape'])\n",
      "0235\n",
      "Starting Training\n",
      "epoch: 00, loss: -0.03125\n",
      "epoch: 01, loss: -0.06524\n",
      "epoch: 02, loss: -0.06724\n",
      "epoch: 03, loss: -0.07068\n",
      "epoch: 04, loss: -0.07500\n",
      "epoch: 05, loss: -0.07214\n",
      "epoch: 06, loss: -0.07435\n",
      "epoch: 07, loss: -0.07413\n",
      "epoch: 08, loss: -0.07956\n",
      "epoch: 09, loss: -0.07241\n",
      "torch.Size([400, 64])\n"
     ]
    },
    {
     "name": "stderr",
     "output_type": "stream",
     "text": [
      "\r",
      " 24%|█████████████████████████████████████▎                                                                                                                         | 235/1000 [1:37:20<5:17:52, 24.93s/it]"
     ]
    },
    {
     "name": "stdout",
     "output_type": "stream",
     "text": [
      "eigenvalues shape torch.Size([5]) eigenvectors shape torch.Size([5, 400])\n",
      "235 /home/phdcs2/Hard_Disk/Datasets/Deep-Spectral-Segmentation/data/object-segmentation/ECSSD/features/dino_vits16/0236.pth\n",
      "dict_keys(['k', 'indices', 'file', 'id', 'model_name', 'patch_size', 'shape'])\n",
      "0236\n",
      "Starting Training\n",
      "epoch: 00, loss: -0.05896\n",
      "epoch: 01, loss: -0.07907\n",
      "epoch: 02, loss: -0.07908\n",
      "epoch: 03, loss: -0.07949\n",
      "epoch: 04, loss: -0.07978\n",
      "epoch: 05, loss: -0.07980\n",
      "epoch: 06, loss: -0.07988\n",
      "epoch: 07, loss: -0.08001\n",
      "epoch: 08, loss: -0.08015\n",
      "epoch: 09, loss: -0.08029\n",
      "torch.Size([400, 64])\n"
     ]
    },
    {
     "name": "stderr",
     "output_type": "stream",
     "text": [
      "\r",
      " 24%|█████████████████████████████████████▌                                                                                                                         | 236/1000 [1:37:42<5:07:19, 24.14s/it]"
     ]
    },
    {
     "name": "stdout",
     "output_type": "stream",
     "text": [
      "eigenvalues shape torch.Size([5]) eigenvectors shape torch.Size([5, 400])\n",
      "236 /home/phdcs2/Hard_Disk/Datasets/Deep-Spectral-Segmentation/data/object-segmentation/ECSSD/features/dino_vits16/0237.pth\n",
      "dict_keys(['k', 'indices', 'file', 'id', 'model_name', 'patch_size', 'shape'])\n",
      "0237\n",
      "Starting Training\n",
      "epoch: 00, loss: -0.04444\n",
      "epoch: 01, loss: -0.07031\n",
      "epoch: 02, loss: -0.07160\n",
      "epoch: 03, loss: -0.07223\n",
      "epoch: 04, loss: -0.07251\n",
      "epoch: 05, loss: -0.07273\n",
      "epoch: 06, loss: -0.07279\n",
      "epoch: 07, loss: -0.07303\n",
      "epoch: 08, loss: -0.07305\n",
      "epoch: 09, loss: -0.07324\n",
      "torch.Size([400, 64])\n"
     ]
    },
    {
     "name": "stderr",
     "output_type": "stream",
     "text": [
      "\r",
      " 24%|█████████████████████████████████████▋                                                                                                                         | 237/1000 [1:38:04<4:59:34, 23.56s/it]"
     ]
    },
    {
     "name": "stdout",
     "output_type": "stream",
     "text": [
      "eigenvalues shape torch.Size([5]) eigenvectors shape torch.Size([5, 400])\n",
      "237 /home/phdcs2/Hard_Disk/Datasets/Deep-Spectral-Segmentation/data/object-segmentation/ECSSD/features/dino_vits16/0238.pth\n",
      "dict_keys(['k', 'indices', 'file', 'id', 'model_name', 'patch_size', 'shape'])\n",
      "0238\n",
      "Starting Training\n",
      "epoch: 00, loss: -0.00747\n",
      "epoch: 01, loss: -0.03041\n",
      "epoch: 02, loss: -0.03533\n",
      "epoch: 03, loss: -0.03633\n",
      "epoch: 04, loss: -0.03696\n",
      "epoch: 05, loss: -0.03730\n",
      "epoch: 06, loss: -0.03747\n",
      "epoch: 07, loss: -0.03756\n",
      "epoch: 08, loss: -0.03796\n",
      "epoch: 09, loss: -0.03799\n",
      "torch.Size([400, 64])\n"
     ]
    },
    {
     "name": "stderr",
     "output_type": "stream",
     "text": [
      "\r",
      " 24%|█████████████████████████████████████▊                                                                                                                         | 238/1000 [1:38:26<4:50:25, 22.87s/it]"
     ]
    },
    {
     "name": "stdout",
     "output_type": "stream",
     "text": [
      "eigenvalues shape torch.Size([5]) eigenvectors shape torch.Size([5, 400])\n",
      "238 /home/phdcs2/Hard_Disk/Datasets/Deep-Spectral-Segmentation/data/object-segmentation/ECSSD/features/dino_vits16/0239.pth\n",
      "dict_keys(['k', 'indices', 'file', 'id', 'model_name', 'patch_size', 'shape'])\n",
      "0239\n",
      "Starting Training\n",
      "epoch: 00, loss: -0.05002\n",
      "epoch: 01, loss: -0.07821\n",
      "epoch: 02, loss: -0.08047\n",
      "epoch: 03, loss: -0.08179\n",
      "epoch: 04, loss: -0.08170\n",
      "epoch: 05, loss: -0.08522\n",
      "epoch: 06, loss: -0.08317\n",
      "epoch: 07, loss: -0.08532\n",
      "epoch: 08, loss: -0.08210\n",
      "epoch: 09, loss: -0.08347\n",
      "torch.Size([400, 64])\n"
     ]
    },
    {
     "name": "stderr",
     "output_type": "stream",
     "text": [
      "\r",
      " 24%|██████████████████████████████████████                                                                                                                         | 239/1000 [1:38:45<4:37:30, 21.88s/it]"
     ]
    },
    {
     "name": "stdout",
     "output_type": "stream",
     "text": [
      "eigenvalues shape torch.Size([5]) eigenvectors shape torch.Size([5, 400])\n",
      "239 /home/phdcs2/Hard_Disk/Datasets/Deep-Spectral-Segmentation/data/object-segmentation/ECSSD/features/dino_vits16/0240.pth\n",
      "dict_keys(['k', 'indices', 'file', 'id', 'model_name', 'patch_size', 'shape'])\n",
      "0240\n",
      "Starting Training\n",
      "epoch: 00, loss: -0.04524\n",
      "epoch: 01, loss: -0.07636\n",
      "epoch: 02, loss: -0.08656\n",
      "epoch: 03, loss: -0.08533\n",
      "epoch: 04, loss: -0.08767\n",
      "epoch: 05, loss: -0.08767\n",
      "epoch: 06, loss: -0.08930\n",
      "epoch: 07, loss: -0.08913\n",
      "epoch: 08, loss: -0.08831\n",
      "epoch: 09, loss: -0.08837\n",
      "torch.Size([350, 64])\n"
     ]
    },
    {
     "name": "stderr",
     "output_type": "stream",
     "text": [
      "\r",
      " 24%|██████████████████████████████████████▏                                                                                                                        | 240/1000 [1:39:03<4:22:46, 20.75s/it]"
     ]
    },
    {
     "name": "stdout",
     "output_type": "stream",
     "text": [
      "eigenvalues shape torch.Size([5]) eigenvectors shape torch.Size([5, 350])\n",
      "240 /home/phdcs2/Hard_Disk/Datasets/Deep-Spectral-Segmentation/data/object-segmentation/ECSSD/features/dino_vits16/0241.pth\n",
      "dict_keys(['k', 'indices', 'file', 'id', 'model_name', 'patch_size', 'shape'])\n",
      "0241\n",
      "Starting Training\n",
      "epoch: 00, loss: -0.12954\n",
      "epoch: 01, loss: -0.16070\n",
      "epoch: 02, loss: -0.17034\n",
      "epoch: 03, loss: -0.16980\n",
      "epoch: 04, loss: -0.17287\n",
      "epoch: 05, loss: -0.17380\n",
      "epoch: 06, loss: -0.17754\n",
      "epoch: 07, loss: -0.17913\n",
      "epoch: 08, loss: -0.17711\n",
      "epoch: 09, loss: -0.17491\n",
      "torch.Size([400, 64])\n"
     ]
    },
    {
     "name": "stderr",
     "output_type": "stream",
     "text": [
      "\r",
      " 24%|██████████████████████████████████████▎                                                                                                                        | 241/1000 [1:39:33<4:56:30, 23.44s/it]"
     ]
    },
    {
     "name": "stdout",
     "output_type": "stream",
     "text": [
      "eigenvalues shape torch.Size([5]) eigenvectors shape torch.Size([5, 400])\n",
      "241 /home/phdcs2/Hard_Disk/Datasets/Deep-Spectral-Segmentation/data/object-segmentation/ECSSD/features/dino_vits16/0242.pth\n",
      "dict_keys(['k', 'indices', 'file', 'id', 'model_name', 'patch_size', 'shape'])\n",
      "0242\n",
      "Starting Training\n",
      "epoch: 00, loss: -0.03137\n",
      "epoch: 01, loss: -0.06193\n",
      "epoch: 02, loss: -0.06546\n",
      "epoch: 03, loss: -0.06769\n",
      "epoch: 04, loss: -0.06964\n",
      "epoch: 05, loss: -0.07143\n",
      "epoch: 06, loss: -0.07055\n",
      "epoch: 07, loss: -0.06992\n",
      "epoch: 08, loss: -0.07037\n",
      "epoch: 09, loss: -0.07114\n",
      "torch.Size([325, 64])\n"
     ]
    },
    {
     "name": "stderr",
     "output_type": "stream",
     "text": [
      "\r",
      " 24%|██████████████████████████████████████▍                                                                                                                        | 242/1000 [1:39:52<4:40:17, 22.19s/it]"
     ]
    },
    {
     "name": "stdout",
     "output_type": "stream",
     "text": [
      "eigenvalues shape torch.Size([5]) eigenvectors shape torch.Size([5, 325])\n",
      "242 /home/phdcs2/Hard_Disk/Datasets/Deep-Spectral-Segmentation/data/object-segmentation/ECSSD/features/dino_vits16/0243.pth\n",
      "dict_keys(['k', 'indices', 'file', 'id', 'model_name', 'patch_size', 'shape'])\n",
      "0243\n",
      "Starting Training\n",
      "epoch: 00, loss: -0.01639\n",
      "epoch: 01, loss: -0.05178\n",
      "epoch: 02, loss: -0.05870\n",
      "epoch: 03, loss: -0.06113\n",
      "epoch: 04, loss: -0.06395\n",
      "epoch: 05, loss: -0.05853\n",
      "epoch: 06, loss: -0.05947\n",
      "epoch: 07, loss: -0.06069\n",
      "epoch: 08, loss: -0.06295\n",
      "epoch: 09, loss: -0.06378\n",
      "torch.Size([400, 64])\n"
     ]
    },
    {
     "name": "stderr",
     "output_type": "stream",
     "text": [
      "\r",
      " 24%|██████████████████████████████████████▋                                                                                                                        | 243/1000 [1:40:15<4:43:29, 22.47s/it]"
     ]
    },
    {
     "name": "stdout",
     "output_type": "stream",
     "text": [
      "eigenvalues shape torch.Size([5]) eigenvectors shape torch.Size([5, 400])\n",
      "243 /home/phdcs2/Hard_Disk/Datasets/Deep-Spectral-Segmentation/data/object-segmentation/ECSSD/features/dino_vits16/0244.pth\n",
      "dict_keys(['k', 'indices', 'file', 'id', 'model_name', 'patch_size', 'shape'])\n",
      "0244\n",
      "Starting Training\n",
      "epoch: 00, loss: -0.04824\n",
      "epoch: 01, loss: -0.08121\n",
      "epoch: 02, loss: -0.08412\n",
      "epoch: 03, loss: -0.08627\n",
      "epoch: 04, loss: -0.08908\n",
      "epoch: 05, loss: -0.08712\n",
      "epoch: 06, loss: -0.08928\n",
      "epoch: 07, loss: -0.08883\n",
      "epoch: 08, loss: -0.08930\n",
      "epoch: 09, loss: -0.08837\n",
      "torch.Size([400, 64])\n"
     ]
    },
    {
     "name": "stderr",
     "output_type": "stream",
     "text": [
      "\r",
      " 24%|██████████████████████████████████████▊                                                                                                                        | 244/1000 [1:40:43<5:00:36, 23.86s/it]"
     ]
    },
    {
     "name": "stdout",
     "output_type": "stream",
     "text": [
      "eigenvalues shape torch.Size([5]) eigenvectors shape torch.Size([5, 400])\n",
      "244 /home/phdcs2/Hard_Disk/Datasets/Deep-Spectral-Segmentation/data/object-segmentation/ECSSD/features/dino_vits16/0245.pth\n",
      "dict_keys(['k', 'indices', 'file', 'id', 'model_name', 'patch_size', 'shape'])\n",
      "0245\n",
      "Starting Training\n",
      "epoch: 00, loss: -0.06266\n",
      "epoch: 01, loss: -0.09178\n",
      "epoch: 02, loss: -0.09890\n",
      "epoch: 03, loss: -0.10119\n",
      "epoch: 04, loss: -0.10480\n",
      "epoch: 05, loss: -0.10144\n",
      "epoch: 06, loss: -0.10365\n",
      "epoch: 07, loss: -0.10522\n",
      "epoch: 08, loss: -0.10473\n",
      "epoch: 09, loss: -0.10441\n",
      "torch.Size([400, 64])\n"
     ]
    },
    {
     "name": "stderr",
     "output_type": "stream",
     "text": [
      "\r",
      " 24%|██████████████████████████████████████▉                                                                                                                        | 245/1000 [1:41:05<4:55:43, 23.50s/it]"
     ]
    },
    {
     "name": "stdout",
     "output_type": "stream",
     "text": [
      "eigenvalues shape torch.Size([5]) eigenvectors shape torch.Size([5, 400])\n",
      "245 /home/phdcs2/Hard_Disk/Datasets/Deep-Spectral-Segmentation/data/object-segmentation/ECSSD/features/dino_vits16/0246.pth\n",
      "dict_keys(['k', 'indices', 'file', 'id', 'model_name', 'patch_size', 'shape'])\n",
      "0246\n",
      "Starting Training\n",
      "epoch: 00, loss: -0.07974\n",
      "epoch: 01, loss: -0.11587\n",
      "epoch: 02, loss: -0.11921\n",
      "epoch: 03, loss: -0.12281\n",
      "epoch: 04, loss: -0.12391\n",
      "epoch: 05, loss: -0.12445\n",
      "epoch: 06, loss: -0.12168\n",
      "epoch: 07, loss: -0.12364\n",
      "epoch: 08, loss: -0.12394\n",
      "epoch: 09, loss: -0.12468\n",
      "torch.Size([400, 64])\n"
     ]
    },
    {
     "name": "stderr",
     "output_type": "stream",
     "text": [
      "\r",
      " 25%|███████████████████████████████████████                                                                                                                        | 246/1000 [1:41:26<4:45:29, 22.72s/it]"
     ]
    },
    {
     "name": "stdout",
     "output_type": "stream",
     "text": [
      "eigenvalues shape torch.Size([5]) eigenvectors shape torch.Size([5, 400])\n",
      "246 /home/phdcs2/Hard_Disk/Datasets/Deep-Spectral-Segmentation/data/object-segmentation/ECSSD/features/dino_vits16/0247.pth\n",
      "dict_keys(['k', 'indices', 'file', 'id', 'model_name', 'patch_size', 'shape'])\n",
      "0247\n",
      "Starting Training\n",
      "epoch: 00, loss: -0.06241\n",
      "epoch: 01, loss: -0.08170\n",
      "epoch: 02, loss: -0.08254\n",
      "epoch: 03, loss: -0.08280\n",
      "epoch: 04, loss: -0.08315\n",
      "epoch: 05, loss: -0.08323\n",
      "epoch: 06, loss: -0.08335\n",
      "epoch: 07, loss: -0.08342\n",
      "epoch: 08, loss: -0.08359\n",
      "epoch: 09, loss: -0.08372\n",
      "torch.Size([400, 64])\n"
     ]
    },
    {
     "name": "stderr",
     "output_type": "stream",
     "text": [
      "\r",
      " 25%|███████████████████████████████████████▎                                                                                                                       | 247/1000 [1:41:47<4:39:13, 22.25s/it]"
     ]
    },
    {
     "name": "stdout",
     "output_type": "stream",
     "text": [
      "eigenvalues shape torch.Size([5]) eigenvectors shape torch.Size([5, 400])\n",
      "247 /home/phdcs2/Hard_Disk/Datasets/Deep-Spectral-Segmentation/data/object-segmentation/ECSSD/features/dino_vits16/0248.pth\n",
      "dict_keys(['k', 'indices', 'file', 'id', 'model_name', 'patch_size', 'shape'])\n",
      "0248\n",
      "Starting Training\n",
      "epoch: 00, loss: 0.00375\n",
      "epoch: 01, loss: -0.01742\n",
      "epoch: 02, loss: -0.02029\n",
      "epoch: 03, loss: -0.02078\n",
      "epoch: 04, loss: -0.02529\n",
      "epoch: 05, loss: -0.02565\n",
      "epoch: 06, loss: -0.02654\n",
      "epoch: 07, loss: -0.02817\n",
      "epoch: 08, loss: -0.02667\n",
      "epoch: 09, loss: -0.02981\n",
      "torch.Size([450, 64])\n"
     ]
    },
    {
     "name": "stderr",
     "output_type": "stream",
     "text": [
      "\r",
      " 25%|███████████████████████████████████████▍                                                                                                                       | 248/1000 [1:42:10<4:42:23, 22.53s/it]"
     ]
    },
    {
     "name": "stdout",
     "output_type": "stream",
     "text": [
      "eigenvalues shape torch.Size([5]) eigenvectors shape torch.Size([5, 450])\n",
      "248 /home/phdcs2/Hard_Disk/Datasets/Deep-Spectral-Segmentation/data/object-segmentation/ECSSD/features/dino_vits16/0249.pth\n",
      "dict_keys(['k', 'indices', 'file', 'id', 'model_name', 'patch_size', 'shape'])\n",
      "0249\n",
      "Starting Training\n",
      "epoch: 00, loss: -0.01575\n",
      "epoch: 01, loss: -0.03663\n",
      "epoch: 02, loss: -0.03929\n",
      "epoch: 03, loss: -0.04015\n",
      "epoch: 04, loss: -0.04137\n",
      "epoch: 05, loss: -0.04088\n",
      "epoch: 06, loss: -0.04113\n",
      "epoch: 07, loss: -0.04136\n",
      "epoch: 08, loss: -0.04160\n",
      "epoch: 09, loss: -0.04174\n",
      "torch.Size([425, 64])\n"
     ]
    },
    {
     "name": "stderr",
     "output_type": "stream",
     "text": [
      "\r",
      " 25%|███████████████████████████████████████▌                                                                                                                       | 249/1000 [1:42:34<4:45:22, 22.80s/it]"
     ]
    },
    {
     "name": "stdout",
     "output_type": "stream",
     "text": [
      "eigenvalues shape torch.Size([5]) eigenvectors shape torch.Size([5, 425])\n",
      "249 /home/phdcs2/Hard_Disk/Datasets/Deep-Spectral-Segmentation/data/object-segmentation/ECSSD/features/dino_vits16/0250.pth\n",
      "dict_keys(['k', 'indices', 'file', 'id', 'model_name', 'patch_size', 'shape'])\n",
      "0250\n",
      "Starting Training\n",
      "epoch: 00, loss: -0.03724\n",
      "epoch: 01, loss: -0.06884\n",
      "epoch: 02, loss: -0.07054\n",
      "epoch: 03, loss: -0.07114\n",
      "epoch: 04, loss: -0.07155\n",
      "epoch: 05, loss: -0.07156\n",
      "epoch: 06, loss: -0.07162\n",
      "epoch: 07, loss: -0.07177\n",
      "epoch: 08, loss: -0.07176\n",
      "epoch: 09, loss: -0.07200\n",
      "torch.Size([400, 64])\n"
     ]
    },
    {
     "name": "stderr",
     "output_type": "stream",
     "text": [
      "\r",
      " 25%|███████████████████████████████████████▊                                                                                                                       | 250/1000 [1:42:56<4:42:50, 22.63s/it]"
     ]
    },
    {
     "name": "stdout",
     "output_type": "stream",
     "text": [
      "eigenvalues shape torch.Size([5]) eigenvectors shape torch.Size([5, 400])\n",
      "250 /home/phdcs2/Hard_Disk/Datasets/Deep-Spectral-Segmentation/data/object-segmentation/ECSSD/features/dino_vits16/0251.pth\n",
      "dict_keys(['k', 'indices', 'file', 'id', 'model_name', 'patch_size', 'shape'])\n",
      "0251\n",
      "Starting Training\n",
      "epoch: 00, loss: -0.04866\n",
      "epoch: 01, loss: -0.08692\n",
      "epoch: 02, loss: -0.08811\n",
      "epoch: 03, loss: -0.09040\n",
      "epoch: 04, loss: -0.09011\n",
      "epoch: 05, loss: -0.09351\n",
      "epoch: 06, loss: -0.08941\n",
      "epoch: 07, loss: -0.09242\n",
      "epoch: 08, loss: -0.09167\n",
      "epoch: 09, loss: -0.09344\n",
      "torch.Size([450, 64])\n"
     ]
    },
    {
     "name": "stderr",
     "output_type": "stream",
     "text": [
      "\r",
      " 25%|███████████████████████████████████████▉                                                                                                                       | 251/1000 [1:43:22<4:54:54, 23.62s/it]"
     ]
    },
    {
     "name": "stdout",
     "output_type": "stream",
     "text": [
      "eigenvalues shape torch.Size([5]) eigenvectors shape torch.Size([5, 450])\n",
      "251 /home/phdcs2/Hard_Disk/Datasets/Deep-Spectral-Segmentation/data/object-segmentation/ECSSD/features/dino_vits16/0252.pth\n",
      "dict_keys(['k', 'indices', 'file', 'id', 'model_name', 'patch_size', 'shape'])\n",
      "0252\n",
      "Starting Training\n",
      "epoch: 00, loss: -0.01838\n",
      "epoch: 01, loss: -0.04687\n",
      "epoch: 02, loss: -0.04973\n",
      "epoch: 03, loss: -0.05185\n",
      "epoch: 04, loss: -0.05213\n",
      "epoch: 05, loss: -0.05307\n",
      "epoch: 06, loss: -0.05496\n",
      "epoch: 07, loss: -0.05217\n",
      "epoch: 08, loss: -0.05350\n",
      "epoch: 09, loss: -0.05388\n",
      "torch.Size([450, 64])\n"
     ]
    },
    {
     "name": "stderr",
     "output_type": "stream",
     "text": [
      "\r",
      " 25%|████████████████████████████████████████                                                                                                                       | 252/1000 [1:43:47<4:58:19, 23.93s/it]"
     ]
    },
    {
     "name": "stdout",
     "output_type": "stream",
     "text": [
      "eigenvalues shape torch.Size([5]) eigenvectors shape torch.Size([5, 450])\n",
      "252 /home/phdcs2/Hard_Disk/Datasets/Deep-Spectral-Segmentation/data/object-segmentation/ECSSD/features/dino_vits16/0253.pth\n",
      "dict_keys(['k', 'indices', 'file', 'id', 'model_name', 'patch_size', 'shape'])\n",
      "0253\n",
      "Starting Training\n",
      "epoch: 00, loss: -0.00977\n",
      "epoch: 01, loss: -0.02589\n",
      "epoch: 02, loss: -0.03610\n",
      "epoch: 03, loss: -0.03711\n",
      "epoch: 04, loss: -0.04010\n",
      "epoch: 05, loss: -0.04190\n",
      "epoch: 06, loss: -0.04322\n",
      "epoch: 07, loss: -0.04283\n",
      "epoch: 08, loss: -0.04102\n",
      "epoch: 09, loss: -0.04066\n",
      "torch.Size([450, 64])\n"
     ]
    },
    {
     "name": "stderr",
     "output_type": "stream",
     "text": [
      "\r",
      " 25%|████████████████████████████████████████▏                                                                                                                      | 253/1000 [1:44:11<4:59:13, 24.03s/it]"
     ]
    },
    {
     "name": "stdout",
     "output_type": "stream",
     "text": [
      "eigenvalues shape torch.Size([5]) eigenvectors shape torch.Size([5, 450])\n",
      "253 /home/phdcs2/Hard_Disk/Datasets/Deep-Spectral-Segmentation/data/object-segmentation/ECSSD/features/dino_vits16/0254.pth\n",
      "dict_keys(['k', 'indices', 'file', 'id', 'model_name', 'patch_size', 'shape'])\n",
      "0254\n",
      "Starting Training\n",
      "epoch: 00, loss: -0.04213\n",
      "epoch: 01, loss: -0.06024\n",
      "epoch: 02, loss: -0.05866\n",
      "epoch: 03, loss: -0.06119\n",
      "epoch: 04, loss: -0.06038\n",
      "epoch: 05, loss: -0.06192\n",
      "epoch: 06, loss: -0.06129\n",
      "epoch: 07, loss: -0.06134\n",
      "epoch: 08, loss: -0.06203\n",
      "epoch: 09, loss: -0.06375\n",
      "torch.Size([525, 64])\n"
     ]
    },
    {
     "name": "stderr",
     "output_type": "stream",
     "text": [
      "\r",
      " 25%|████████████████████████████████████████▍                                                                                                                      | 254/1000 [1:45:00<6:30:28, 31.41s/it]"
     ]
    },
    {
     "name": "stdout",
     "output_type": "stream",
     "text": [
      "eigenvalues shape torch.Size([5]) eigenvectors shape torch.Size([5, 525])\n",
      "254 /home/phdcs2/Hard_Disk/Datasets/Deep-Spectral-Segmentation/data/object-segmentation/ECSSD/features/dino_vits16/0255.pth\n",
      "dict_keys(['k', 'indices', 'file', 'id', 'model_name', 'patch_size', 'shape'])\n",
      "0255\n",
      "Starting Training\n",
      "epoch: 00, loss: -0.04990\n",
      "epoch: 01, loss: -0.06738\n",
      "epoch: 02, loss: -0.07102\n",
      "epoch: 03, loss: -0.07111\n",
      "epoch: 04, loss: -0.07331\n",
      "epoch: 05, loss: -0.07228\n",
      "epoch: 06, loss: -0.07225\n",
      "epoch: 07, loss: -0.07288\n",
      "epoch: 08, loss: -0.07522\n",
      "epoch: 09, loss: -0.07380\n",
      "torch.Size([575, 64])\n"
     ]
    },
    {
     "name": "stderr",
     "output_type": "stream",
     "text": [
      "\r",
      " 26%|████████████████████████████████████████▌                                                                                                                      | 255/1000 [1:45:43<7:14:33, 35.00s/it]"
     ]
    },
    {
     "name": "stdout",
     "output_type": "stream",
     "text": [
      "eigenvalues shape torch.Size([5]) eigenvectors shape torch.Size([5, 575])\n",
      "255 /home/phdcs2/Hard_Disk/Datasets/Deep-Spectral-Segmentation/data/object-segmentation/ECSSD/features/dino_vits16/0256.pth\n",
      "dict_keys(['k', 'indices', 'file', 'id', 'model_name', 'patch_size', 'shape'])\n",
      "0256\n",
      "Starting Training\n",
      "epoch: 00, loss: -0.07936\n",
      "epoch: 01, loss: -0.11499\n",
      "epoch: 02, loss: -0.11798\n",
      "epoch: 03, loss: -0.11959\n",
      "epoch: 04, loss: -0.12056\n",
      "epoch: 05, loss: -0.12189\n",
      "epoch: 06, loss: -0.11934\n",
      "epoch: 07, loss: -0.12552\n",
      "epoch: 08, loss: -0.12421\n",
      "epoch: 09, loss: -0.12383\n",
      "torch.Size([375, 64])\n"
     ]
    },
    {
     "name": "stderr",
     "output_type": "stream",
     "text": [
      "\r",
      " 26%|████████████████████████████████████████▋                                                                                                                      | 256/1000 [1:46:04<6:23:19, 30.91s/it]"
     ]
    },
    {
     "name": "stdout",
     "output_type": "stream",
     "text": [
      "eigenvalues shape torch.Size([5]) eigenvectors shape torch.Size([5, 375])\n",
      "256 /home/phdcs2/Hard_Disk/Datasets/Deep-Spectral-Segmentation/data/object-segmentation/ECSSD/features/dino_vits16/0257.pth\n",
      "dict_keys(['k', 'indices', 'file', 'id', 'model_name', 'patch_size', 'shape'])\n",
      "0257\n",
      "Starting Training\n",
      "epoch: 00, loss: -0.04946\n",
      "epoch: 01, loss: -0.06664\n",
      "epoch: 02, loss: -0.06871\n",
      "epoch: 03, loss: -0.06812\n",
      "epoch: 04, loss: -0.06683\n",
      "epoch: 05, loss: -0.06765\n",
      "epoch: 06, loss: -0.07133\n",
      "epoch: 07, loss: -0.06885\n",
      "epoch: 08, loss: -0.06919\n",
      "epoch: 09, loss: -0.07062\n",
      "torch.Size([475, 64])\n"
     ]
    },
    {
     "name": "stderr",
     "output_type": "stream",
     "text": [
      "\r",
      " 26%|████████████████████████████████████████▊                                                                                                                      | 257/1000 [1:46:34<6:18:12, 30.54s/it]"
     ]
    },
    {
     "name": "stdout",
     "output_type": "stream",
     "text": [
      "eigenvalues shape torch.Size([5]) eigenvectors shape torch.Size([5, 475])\n",
      "257 /home/phdcs2/Hard_Disk/Datasets/Deep-Spectral-Segmentation/data/object-segmentation/ECSSD/features/dino_vits16/0258.pth\n",
      "dict_keys(['k', 'indices', 'file', 'id', 'model_name', 'patch_size', 'shape'])\n",
      "0258\n",
      "Starting Training\n",
      "epoch: 00, loss: -0.00184\n",
      "epoch: 01, loss: -0.02735\n",
      "epoch: 02, loss: -0.03245\n",
      "epoch: 03, loss: -0.03328\n",
      "epoch: 04, loss: -0.03465\n",
      "epoch: 05, loss: -0.03542\n",
      "epoch: 06, loss: -0.03479\n",
      "epoch: 07, loss: -0.03881\n",
      "epoch: 08, loss: -0.03923\n",
      "epoch: 09, loss: -0.04165\n",
      "torch.Size([400, 64])\n"
     ]
    },
    {
     "name": "stderr",
     "output_type": "stream",
     "text": [
      "\r",
      " 26%|█████████████████████████████████████████                                                                                                                      | 258/1000 [1:46:55<5:43:02, 27.74s/it]"
     ]
    },
    {
     "name": "stdout",
     "output_type": "stream",
     "text": [
      "eigenvalues shape torch.Size([5]) eigenvectors shape torch.Size([5, 400])\n",
      "258 /home/phdcs2/Hard_Disk/Datasets/Deep-Spectral-Segmentation/data/object-segmentation/ECSSD/features/dino_vits16/0259.pth\n",
      "dict_keys(['k', 'indices', 'file', 'id', 'model_name', 'patch_size', 'shape'])\n",
      "0259\n",
      "Starting Training\n",
      "epoch: 00, loss: -0.04051\n",
      "epoch: 01, loss: -0.05966\n",
      "epoch: 02, loss: -0.06107\n",
      "epoch: 03, loss: -0.06096\n",
      "epoch: 04, loss: -0.06177\n",
      "epoch: 05, loss: -0.06151\n",
      "epoch: 06, loss: -0.06193\n",
      "epoch: 07, loss: -0.06233\n",
      "epoch: 08, loss: -0.06227\n",
      "epoch: 09, loss: -0.06212\n",
      "torch.Size([450, 64])\n"
     ]
    },
    {
     "name": "stderr",
     "output_type": "stream",
     "text": [
      "\r",
      " 26%|█████████████████████████████████████████▏                                                                                                                     | 259/1000 [1:47:22<5:37:23, 27.32s/it]"
     ]
    },
    {
     "name": "stdout",
     "output_type": "stream",
     "text": [
      "eigenvalues shape torch.Size([5]) eigenvectors shape torch.Size([5, 450])\n",
      "259 /home/phdcs2/Hard_Disk/Datasets/Deep-Spectral-Segmentation/data/object-segmentation/ECSSD/features/dino_vits16/0260.pth\n",
      "dict_keys(['k', 'indices', 'file', 'id', 'model_name', 'patch_size', 'shape'])\n",
      "0260\n",
      "Starting Training\n",
      "epoch: 00, loss: -0.06447\n",
      "epoch: 01, loss: -0.08519\n",
      "epoch: 02, loss: -0.08788\n",
      "epoch: 03, loss: -0.08891\n",
      "epoch: 04, loss: -0.08859\n",
      "epoch: 05, loss: -0.08795\n",
      "epoch: 06, loss: -0.08927\n",
      "epoch: 07, loss: -0.09010\n",
      "epoch: 08, loss: -0.09014\n",
      "epoch: 09, loss: -0.08986\n",
      "torch.Size([450, 64])\n"
     ]
    },
    {
     "name": "stderr",
     "output_type": "stream",
     "text": [
      "\r",
      " 26%|█████████████████████████████████████████▎                                                                                                                     | 260/1000 [1:47:47<5:29:32, 26.72s/it]"
     ]
    },
    {
     "name": "stdout",
     "output_type": "stream",
     "text": [
      "eigenvalues shape torch.Size([5]) eigenvectors shape torch.Size([5, 450])\n",
      "260 /home/phdcs2/Hard_Disk/Datasets/Deep-Spectral-Segmentation/data/object-segmentation/ECSSD/features/dino_vits16/0261.pth\n",
      "dict_keys(['k', 'indices', 'file', 'id', 'model_name', 'patch_size', 'shape'])\n",
      "0261\n",
      "Starting Training\n",
      "epoch: 00, loss: -0.04697\n",
      "epoch: 01, loss: -0.06988\n",
      "epoch: 02, loss: -0.07113\n",
      "epoch: 03, loss: -0.07134\n",
      "epoch: 04, loss: -0.07157\n",
      "epoch: 05, loss: -0.07188\n",
      "epoch: 06, loss: -0.07205\n",
      "epoch: 07, loss: -0.07209\n",
      "epoch: 08, loss: -0.07219\n",
      "epoch: 09, loss: -0.07232\n",
      "torch.Size([400, 64])\n"
     ]
    },
    {
     "name": "stderr",
     "output_type": "stream",
     "text": [
      "\r",
      " 26%|█████████████████████████████████████████▍                                                                                                                     | 261/1000 [1:48:09<5:10:30, 25.21s/it]"
     ]
    },
    {
     "name": "stdout",
     "output_type": "stream",
     "text": [
      "eigenvalues shape torch.Size([5]) eigenvectors shape torch.Size([5, 400])\n",
      "261 /home/phdcs2/Hard_Disk/Datasets/Deep-Spectral-Segmentation/data/object-segmentation/ECSSD/features/dino_vits16/0262.pth\n",
      "dict_keys(['k', 'indices', 'file', 'id', 'model_name', 'patch_size', 'shape'])\n",
      "0262\n",
      "Starting Training\n",
      "epoch: 00, loss: -0.03033\n",
      "epoch: 01, loss: -0.05165\n",
      "epoch: 02, loss: -0.05207\n",
      "epoch: 03, loss: -0.05513\n",
      "epoch: 04, loss: -0.05461\n",
      "epoch: 05, loss: -0.05599\n",
      "epoch: 06, loss: -0.05455\n",
      "epoch: 07, loss: -0.05483\n",
      "epoch: 08, loss: -0.05497\n",
      "epoch: 09, loss: -0.05424\n",
      "torch.Size([450, 64])\n"
     ]
    },
    {
     "name": "stderr",
     "output_type": "stream",
     "text": [
      "\r",
      " 26%|█████████████████████████████████████████▋                                                                                                                     | 262/1000 [1:48:32<5:04:03, 24.72s/it]"
     ]
    },
    {
     "name": "stdout",
     "output_type": "stream",
     "text": [
      "eigenvalues shape torch.Size([5]) eigenvectors shape torch.Size([5, 450])\n",
      "262 /home/phdcs2/Hard_Disk/Datasets/Deep-Spectral-Segmentation/data/object-segmentation/ECSSD/features/dino_vits16/0263.pth\n",
      "dict_keys(['k', 'indices', 'file', 'id', 'model_name', 'patch_size', 'shape'])\n",
      "0263\n",
      "Starting Training\n",
      "epoch: 00, loss: -0.05625\n",
      "epoch: 01, loss: -0.08900\n",
      "epoch: 02, loss: -0.09241\n",
      "epoch: 03, loss: -0.09631\n",
      "epoch: 04, loss: -0.09620\n",
      "epoch: 05, loss: -0.09571\n",
      "epoch: 06, loss: -0.09625\n",
      "epoch: 07, loss: -0.09700\n",
      "epoch: 08, loss: -0.09802\n",
      "epoch: 09, loss: -0.09632\n",
      "torch.Size([450, 64])\n"
     ]
    },
    {
     "name": "stderr",
     "output_type": "stream",
     "text": [
      "\r",
      " 26%|█████████████████████████████████████████▊                                                                                                                     | 263/1000 [1:48:56<4:58:59, 24.34s/it]"
     ]
    },
    {
     "name": "stdout",
     "output_type": "stream",
     "text": [
      "eigenvalues shape torch.Size([5]) eigenvectors shape torch.Size([5, 450])\n",
      "263 /home/phdcs2/Hard_Disk/Datasets/Deep-Spectral-Segmentation/data/object-segmentation/ECSSD/features/dino_vits16/0264.pth\n",
      "dict_keys(['k', 'indices', 'file', 'id', 'model_name', 'patch_size', 'shape'])\n",
      "0264\n",
      "Starting Training\n",
      "epoch: 00, loss: -0.03759\n",
      "epoch: 01, loss: -0.05281\n",
      "epoch: 02, loss: -0.05437\n",
      "epoch: 03, loss: -0.05518\n",
      "epoch: 04, loss: -0.05525\n",
      "epoch: 05, loss: -0.05535\n",
      "epoch: 06, loss: -0.05564\n",
      "epoch: 07, loss: -0.05571\n",
      "epoch: 08, loss: -0.05590\n",
      "epoch: 09, loss: -0.05601\n",
      "torch.Size([400, 64])\n"
     ]
    },
    {
     "name": "stderr",
     "output_type": "stream",
     "text": [
      "\r",
      " 26%|█████████████████████████████████████████▉                                                                                                                     | 264/1000 [1:49:17<4:48:50, 23.55s/it]"
     ]
    },
    {
     "name": "stdout",
     "output_type": "stream",
     "text": [
      "eigenvalues shape torch.Size([5]) eigenvectors shape torch.Size([5, 400])\n",
      "264 /home/phdcs2/Hard_Disk/Datasets/Deep-Spectral-Segmentation/data/object-segmentation/ECSSD/features/dino_vits16/0265.pth\n",
      "dict_keys(['k', 'indices', 'file', 'id', 'model_name', 'patch_size', 'shape'])\n",
      "0265\n",
      "Starting Training\n",
      "epoch: 00, loss: -0.07834\n",
      "epoch: 01, loss: -0.10640\n",
      "epoch: 02, loss: -0.10933\n",
      "epoch: 03, loss: -0.11401\n",
      "epoch: 04, loss: -0.11291\n",
      "epoch: 05, loss: -0.11526\n",
      "epoch: 06, loss: -0.11319\n",
      "epoch: 07, loss: -0.11272\n",
      "epoch: 08, loss: -0.11306\n",
      "epoch: 09, loss: -0.11348\n",
      "torch.Size([525, 64])\n"
     ]
    },
    {
     "name": "stderr",
     "output_type": "stream",
     "text": [
      "\r",
      " 26%|██████████████████████████████████████████▏                                                                                                                    | 265/1000 [1:49:52<5:29:29, 26.90s/it]"
     ]
    },
    {
     "name": "stdout",
     "output_type": "stream",
     "text": [
      "eigenvalues shape torch.Size([5]) eigenvectors shape torch.Size([5, 525])\n",
      "265 /home/phdcs2/Hard_Disk/Datasets/Deep-Spectral-Segmentation/data/object-segmentation/ECSSD/features/dino_vits16/0266.pth\n",
      "dict_keys(['k', 'indices', 'file', 'id', 'model_name', 'patch_size', 'shape'])\n",
      "0266\n",
      "Starting Training\n",
      "epoch: 00, loss: -0.06023\n",
      "epoch: 01, loss: -0.08803\n",
      "epoch: 02, loss: -0.08983\n",
      "epoch: 03, loss: -0.09290\n",
      "epoch: 04, loss: -0.09250\n",
      "epoch: 05, loss: -0.09370\n",
      "epoch: 06, loss: -0.09253\n",
      "epoch: 07, loss: -0.09383\n",
      "epoch: 08, loss: -0.09304\n",
      "epoch: 09, loss: -0.09282\n",
      "torch.Size([425, 64])\n"
     ]
    },
    {
     "name": "stderr",
     "output_type": "stream",
     "text": [
      "\r",
      " 27%|██████████████████████████████████████████▎                                                                                                                    | 266/1000 [1:50:19<5:28:40, 26.87s/it]"
     ]
    },
    {
     "name": "stdout",
     "output_type": "stream",
     "text": [
      "eigenvalues shape torch.Size([5]) eigenvectors shape torch.Size([5, 425])\n",
      "266 /home/phdcs2/Hard_Disk/Datasets/Deep-Spectral-Segmentation/data/object-segmentation/ECSSD/features/dino_vits16/0267.pth\n",
      "dict_keys(['k', 'indices', 'file', 'id', 'model_name', 'patch_size', 'shape'])\n",
      "0267\n",
      "Starting Training\n",
      "epoch: 00, loss: -0.03549\n",
      "epoch: 01, loss: -0.06275\n",
      "epoch: 02, loss: -0.06616\n",
      "epoch: 03, loss: -0.06697\n",
      "epoch: 04, loss: -0.07035\n",
      "epoch: 05, loss: -0.06971\n",
      "epoch: 06, loss: -0.07114\n",
      "epoch: 07, loss: -0.07134\n",
      "epoch: 08, loss: -0.07213\n",
      "epoch: 09, loss: -0.07229\n",
      "torch.Size([400, 64])\n"
     ]
    },
    {
     "name": "stderr",
     "output_type": "stream",
     "text": [
      "\r",
      " 27%|██████████████████████████████████████████▍                                                                                                                    | 267/1000 [1:50:42<5:15:18, 25.81s/it]"
     ]
    },
    {
     "name": "stdout",
     "output_type": "stream",
     "text": [
      "eigenvalues shape torch.Size([5]) eigenvectors shape torch.Size([5, 400])\n",
      "267 /home/phdcs2/Hard_Disk/Datasets/Deep-Spectral-Segmentation/data/object-segmentation/ECSSD/features/dino_vits16/0268.pth\n",
      "dict_keys(['k', 'indices', 'file', 'id', 'model_name', 'patch_size', 'shape'])\n",
      "0268\n",
      "Starting Training\n",
      "epoch: 00, loss: -0.06203\n",
      "epoch: 01, loss: -0.07984\n",
      "epoch: 02, loss: -0.08183\n",
      "epoch: 03, loss: -0.07895\n",
      "epoch: 04, loss: -0.08188\n",
      "epoch: 05, loss: -0.08169\n",
      "epoch: 06, loss: -0.08093\n",
      "epoch: 07, loss: -0.08237\n",
      "epoch: 08, loss: -0.08199\n",
      "epoch: 09, loss: -0.08301\n",
      "torch.Size([600, 64])\n"
     ]
    },
    {
     "name": "stderr",
     "output_type": "stream",
     "text": [
      "\r",
      " 27%|██████████████████████████████████████████▌                                                                                                                    | 268/1000 [1:51:19<5:54:27, 29.05s/it]"
     ]
    },
    {
     "name": "stdout",
     "output_type": "stream",
     "text": [
      "eigenvalues shape torch.Size([5]) eigenvectors shape torch.Size([5, 600])\n",
      "268 /home/phdcs2/Hard_Disk/Datasets/Deep-Spectral-Segmentation/data/object-segmentation/ECSSD/features/dino_vits16/0269.pth\n",
      "dict_keys(['k', 'indices', 'file', 'id', 'model_name', 'patch_size', 'shape'])\n",
      "0269\n",
      "Starting Training\n",
      "epoch: 00, loss: -0.02048\n",
      "epoch: 01, loss: -0.03592\n",
      "epoch: 02, loss: -0.03870\n",
      "epoch: 03, loss: -0.03957\n",
      "epoch: 04, loss: -0.03981\n",
      "epoch: 05, loss: -0.03997\n",
      "epoch: 06, loss: -0.04031\n",
      "epoch: 07, loss: -0.04047\n",
      "epoch: 08, loss: -0.04050\n",
      "epoch: 09, loss: -0.04062\n",
      "torch.Size([400, 64])\n"
     ]
    },
    {
     "name": "stderr",
     "output_type": "stream",
     "text": [
      "\r",
      " 27%|██████████████████████████████████████████▊                                                                                                                    | 269/1000 [1:51:39<5:23:23, 26.54s/it]"
     ]
    },
    {
     "name": "stdout",
     "output_type": "stream",
     "text": [
      "eigenvalues shape torch.Size([5]) eigenvectors shape torch.Size([5, 400])\n",
      "269 /home/phdcs2/Hard_Disk/Datasets/Deep-Spectral-Segmentation/data/object-segmentation/ECSSD/features/dino_vits16/0270.pth\n",
      "dict_keys(['k', 'indices', 'file', 'id', 'model_name', 'patch_size', 'shape'])\n",
      "0270\n",
      "Starting Training\n",
      "epoch: 00, loss: -0.06655\n",
      "epoch: 01, loss: -0.09433\n",
      "epoch: 02, loss: -0.09951\n",
      "epoch: 03, loss: -0.10057\n",
      "epoch: 04, loss: -0.10347\n",
      "epoch: 05, loss: -0.10008\n",
      "epoch: 06, loss: -0.10366\n",
      "epoch: 07, loss: -0.10343\n",
      "epoch: 08, loss: -0.10180\n",
      "epoch: 09, loss: -0.10252\n",
      "torch.Size([375, 64])\n"
     ]
    },
    {
     "name": "stderr",
     "output_type": "stream",
     "text": [
      "\r",
      " 27%|██████████████████████████████████████████▉                                                                                                                    | 270/1000 [1:51:59<4:57:23, 24.44s/it]"
     ]
    },
    {
     "name": "stdout",
     "output_type": "stream",
     "text": [
      "eigenvalues shape torch.Size([5]) eigenvectors shape torch.Size([5, 375])\n",
      "270 /home/phdcs2/Hard_Disk/Datasets/Deep-Spectral-Segmentation/data/object-segmentation/ECSSD/features/dino_vits16/0271.pth\n",
      "dict_keys(['k', 'indices', 'file', 'id', 'model_name', 'patch_size', 'shape'])\n",
      "0271\n",
      "Starting Training\n",
      "epoch: 00, loss: -0.04637\n",
      "epoch: 01, loss: -0.08304\n",
      "epoch: 02, loss: -0.08452\n",
      "epoch: 03, loss: -0.08887\n",
      "epoch: 04, loss: -0.08724\n",
      "epoch: 05, loss: -0.08818\n",
      "epoch: 06, loss: -0.09059\n",
      "epoch: 07, loss: -0.09181\n",
      "epoch: 08, loss: -0.09146\n",
      "epoch: 09, loss: -0.09122\n",
      "torch.Size([450, 64])\n"
     ]
    },
    {
     "name": "stderr",
     "output_type": "stream",
     "text": [
      "\r",
      " 27%|███████████████████████████████████████████                                                                                                                    | 271/1000 [1:52:22<4:51:07, 23.96s/it]"
     ]
    },
    {
     "name": "stdout",
     "output_type": "stream",
     "text": [
      "eigenvalues shape torch.Size([5]) eigenvectors shape torch.Size([5, 450])\n",
      "271 /home/phdcs2/Hard_Disk/Datasets/Deep-Spectral-Segmentation/data/object-segmentation/ECSSD/features/dino_vits16/0272.pth\n",
      "dict_keys(['k', 'indices', 'file', 'id', 'model_name', 'patch_size', 'shape'])\n",
      "0272\n",
      "Starting Training\n",
      "epoch: 00, loss: -0.06392\n",
      "epoch: 01, loss: -0.09568\n",
      "epoch: 02, loss: -0.10302\n",
      "epoch: 03, loss: -0.10295\n",
      "epoch: 04, loss: -0.10359\n",
      "epoch: 05, loss: -0.10656\n",
      "epoch: 06, loss: -0.10444\n",
      "epoch: 07, loss: -0.10572\n",
      "epoch: 08, loss: -0.10490\n",
      "epoch: 09, loss: -0.10624\n",
      "torch.Size([500, 64])\n"
     ]
    },
    {
     "name": "stderr",
     "output_type": "stream",
     "text": [
      "\r",
      " 27%|███████████████████████████████████████████▏                                                                                                                   | 272/1000 [1:52:48<4:57:58, 24.56s/it]"
     ]
    },
    {
     "name": "stdout",
     "output_type": "stream",
     "text": [
      "eigenvalues shape torch.Size([5]) eigenvectors shape torch.Size([5, 500])\n",
      "272 /home/phdcs2/Hard_Disk/Datasets/Deep-Spectral-Segmentation/data/object-segmentation/ECSSD/features/dino_vits16/0273.pth\n",
      "dict_keys(['k', 'indices', 'file', 'id', 'model_name', 'patch_size', 'shape'])\n",
      "0273\n",
      "Starting Training\n",
      "epoch: 00, loss: -0.05633\n",
      "epoch: 01, loss: -0.07884\n",
      "epoch: 02, loss: -0.07987\n",
      "epoch: 03, loss: -0.08015\n",
      "epoch: 04, loss: -0.08058\n",
      "epoch: 05, loss: -0.08064\n",
      "epoch: 06, loss: -0.08084\n",
      "epoch: 07, loss: -0.08072\n",
      "epoch: 08, loss: -0.08085\n",
      "epoch: 09, loss: -0.08105\n",
      "torch.Size([400, 64])\n"
     ]
    },
    {
     "name": "stderr",
     "output_type": "stream",
     "text": [
      "\r",
      " 27%|███████████████████████████████████████████▍                                                                                                                   | 273/1000 [1:53:09<4:43:33, 23.40s/it]"
     ]
    },
    {
     "name": "stdout",
     "output_type": "stream",
     "text": [
      "eigenvalues shape torch.Size([5]) eigenvectors shape torch.Size([5, 400])\n",
      "273 /home/phdcs2/Hard_Disk/Datasets/Deep-Spectral-Segmentation/data/object-segmentation/ECSSD/features/dino_vits16/0274.pth\n",
      "dict_keys(['k', 'indices', 'file', 'id', 'model_name', 'patch_size', 'shape'])\n",
      "0274\n",
      "Starting Training\n",
      "epoch: 00, loss: -0.03550\n",
      "epoch: 01, loss: -0.05558\n",
      "epoch: 02, loss: -0.05890\n",
      "epoch: 03, loss: -0.05836\n",
      "epoch: 04, loss: -0.05963\n",
      "epoch: 05, loss: -0.06349\n",
      "epoch: 06, loss: -0.06171\n",
      "epoch: 07, loss: -0.06233\n",
      "epoch: 08, loss: -0.06404\n",
      "epoch: 09, loss: -0.06222\n",
      "torch.Size([575, 64])\n"
     ]
    },
    {
     "name": "stderr",
     "output_type": "stream",
     "text": [
      "\r",
      " 27%|███████████████████████████████████████████▌                                                                                                                   | 274/1000 [1:53:58<6:16:14, 31.09s/it]"
     ]
    },
    {
     "name": "stdout",
     "output_type": "stream",
     "text": [
      "eigenvalues shape torch.Size([5]) eigenvectors shape torch.Size([5, 575])\n",
      "274 /home/phdcs2/Hard_Disk/Datasets/Deep-Spectral-Segmentation/data/object-segmentation/ECSSD/features/dino_vits16/0275.pth\n",
      "dict_keys(['k', 'indices', 'file', 'id', 'model_name', 'patch_size', 'shape'])\n",
      "0275\n",
      "Starting Training\n",
      "epoch: 00, loss: -0.01919\n",
      "epoch: 01, loss: -0.04776\n",
      "epoch: 02, loss: -0.05084\n",
      "epoch: 03, loss: -0.05156\n",
      "epoch: 04, loss: -0.05191\n",
      "epoch: 05, loss: -0.05236\n",
      "epoch: 06, loss: -0.05248\n",
      "epoch: 07, loss: -0.05266\n",
      "epoch: 08, loss: -0.05270\n",
      "epoch: 09, loss: -0.05275\n",
      "torch.Size([400, 64])\n"
     ]
    },
    {
     "name": "stderr",
     "output_type": "stream",
     "text": [
      "\r",
      " 28%|███████████████████████████████████████████▋                                                                                                                   | 275/1000 [1:54:19<5:41:18, 28.25s/it]"
     ]
    },
    {
     "name": "stdout",
     "output_type": "stream",
     "text": [
      "eigenvalues shape torch.Size([5]) eigenvectors shape torch.Size([5, 400])\n",
      "275 /home/phdcs2/Hard_Disk/Datasets/Deep-Spectral-Segmentation/data/object-segmentation/ECSSD/features/dino_vits16/0276.pth\n",
      "dict_keys(['k', 'indices', 'file', 'id', 'model_name', 'patch_size', 'shape'])\n",
      "0276\n",
      "Starting Training\n",
      "epoch: 00, loss: -0.08768\n",
      "epoch: 01, loss: -0.12173\n",
      "epoch: 02, loss: -0.11990\n",
      "epoch: 03, loss: -0.11881\n",
      "epoch: 04, loss: -0.12264\n",
      "epoch: 05, loss: -0.12035\n",
      "epoch: 06, loss: -0.12297\n",
      "epoch: 07, loss: -0.12288\n",
      "epoch: 08, loss: -0.12254\n",
      "epoch: 09, loss: -0.12335\n",
      "torch.Size([525, 64])\n"
     ]
    },
    {
     "name": "stderr",
     "output_type": "stream",
     "text": [
      "\r",
      " 28%|███████████████████████████████████████████▉                                                                                                                   | 276/1000 [1:55:06<6:49:40, 33.95s/it]"
     ]
    },
    {
     "name": "stdout",
     "output_type": "stream",
     "text": [
      "eigenvalues shape torch.Size([5]) eigenvectors shape torch.Size([5, 525])\n",
      "276 /home/phdcs2/Hard_Disk/Datasets/Deep-Spectral-Segmentation/data/object-segmentation/ECSSD/features/dino_vits16/0277.pth\n",
      "dict_keys(['k', 'indices', 'file', 'id', 'model_name', 'patch_size', 'shape'])\n",
      "0277\n",
      "Starting Training\n",
      "epoch: 00, loss: -0.02722\n",
      "epoch: 01, loss: -0.05505\n",
      "epoch: 02, loss: -0.05703\n",
      "epoch: 03, loss: -0.05976\n",
      "epoch: 04, loss: -0.05943\n",
      "epoch: 05, loss: -0.06219\n",
      "epoch: 06, loss: -0.06152\n",
      "epoch: 07, loss: -0.06294\n",
      "epoch: 08, loss: -0.06254\n",
      "epoch: 09, loss: -0.06134\n",
      "torch.Size([400, 64])\n"
     ]
    },
    {
     "name": "stderr",
     "output_type": "stream",
     "text": [
      "\r",
      " 28%|████████████████████████████████████████████                                                                                                                   | 277/1000 [1:55:28<6:03:42, 30.18s/it]"
     ]
    },
    {
     "name": "stdout",
     "output_type": "stream",
     "text": [
      "eigenvalues shape torch.Size([5]) eigenvectors shape torch.Size([5, 400])\n",
      "277 /home/phdcs2/Hard_Disk/Datasets/Deep-Spectral-Segmentation/data/object-segmentation/ECSSD/features/dino_vits16/0278.pth\n",
      "dict_keys(['k', 'indices', 'file', 'id', 'model_name', 'patch_size', 'shape'])\n",
      "0278\n",
      "Starting Training\n",
      "epoch: 00, loss: -0.04866\n",
      "epoch: 01, loss: -0.06879\n",
      "epoch: 02, loss: -0.07377\n",
      "epoch: 03, loss: -0.07726\n",
      "epoch: 04, loss: -0.07437\n",
      "epoch: 05, loss: -0.07996\n",
      "epoch: 06, loss: -0.07951\n",
      "epoch: 07, loss: -0.07945\n",
      "epoch: 08, loss: -0.07926\n",
      "epoch: 09, loss: -0.07787\n",
      "torch.Size([550, 64])\n"
     ]
    },
    {
     "name": "stderr",
     "output_type": "stream",
     "text": [
      "\r",
      " 28%|████████████████████████████████████████████▏                                                                                                                  | 278/1000 [1:56:14<6:59:25, 34.85s/it]"
     ]
    },
    {
     "name": "stdout",
     "output_type": "stream",
     "text": [
      "eigenvalues shape torch.Size([5]) eigenvectors shape torch.Size([5, 550])\n",
      "278 /home/phdcs2/Hard_Disk/Datasets/Deep-Spectral-Segmentation/data/object-segmentation/ECSSD/features/dino_vits16/0279.pth\n",
      "dict_keys(['k', 'indices', 'file', 'id', 'model_name', 'patch_size', 'shape'])\n",
      "0279\n",
      "Starting Training\n",
      "epoch: 00, loss: -0.05915\n",
      "epoch: 01, loss: -0.07662\n",
      "epoch: 02, loss: -0.07764\n",
      "epoch: 03, loss: -0.07762\n",
      "epoch: 04, loss: -0.07814\n",
      "epoch: 05, loss: -0.07836\n",
      "epoch: 06, loss: -0.07844\n",
      "epoch: 07, loss: -0.07869\n",
      "epoch: 08, loss: -0.07863\n",
      "epoch: 09, loss: -0.07862\n",
      "torch.Size([450, 64])\n"
     ]
    },
    {
     "name": "stderr",
     "output_type": "stream",
     "text": [
      "\r",
      " 28%|████████████████████████████████████████████▎                                                                                                                  | 279/1000 [1:56:45<6:47:18, 33.90s/it]"
     ]
    },
    {
     "name": "stdout",
     "output_type": "stream",
     "text": [
      "eigenvalues shape torch.Size([5]) eigenvectors shape torch.Size([5, 450])\n",
      "279 /home/phdcs2/Hard_Disk/Datasets/Deep-Spectral-Segmentation/data/object-segmentation/ECSSD/features/dino_vits16/0280.pth\n",
      "dict_keys(['k', 'indices', 'file', 'id', 'model_name', 'patch_size', 'shape'])\n",
      "0280\n",
      "Starting Training\n",
      "epoch: 00, loss: -0.03381\n",
      "epoch: 01, loss: -0.05454\n",
      "epoch: 02, loss: -0.05556\n",
      "epoch: 03, loss: -0.05682\n",
      "epoch: 04, loss: -0.05732\n",
      "epoch: 05, loss: -0.05644\n",
      "epoch: 06, loss: -0.05754\n",
      "epoch: 07, loss: -0.05681\n",
      "epoch: 08, loss: -0.05672\n",
      "epoch: 09, loss: -0.05682\n",
      "torch.Size([625, 64])\n"
     ]
    },
    {
     "name": "stderr",
     "output_type": "stream",
     "text": [
      "\r",
      " 28%|████████████████████████████████████████████▌                                                                                                                  | 280/1000 [1:57:19<6:45:32, 33.79s/it]"
     ]
    },
    {
     "name": "stdout",
     "output_type": "stream",
     "text": [
      "eigenvalues shape torch.Size([5]) eigenvectors shape torch.Size([5, 625])\n",
      "280 /home/phdcs2/Hard_Disk/Datasets/Deep-Spectral-Segmentation/data/object-segmentation/ECSSD/features/dino_vits16/0281.pth\n",
      "dict_keys(['k', 'indices', 'file', 'id', 'model_name', 'patch_size', 'shape'])\n",
      "0281\n",
      "Starting Training\n",
      "epoch: 00, loss: -0.02872\n",
      "epoch: 01, loss: -0.04666\n",
      "epoch: 02, loss: -0.05184\n",
      "epoch: 03, loss: -0.05055\n",
      "epoch: 04, loss: -0.05168\n",
      "epoch: 05, loss: -0.05184\n",
      "epoch: 06, loss: -0.05443\n",
      "epoch: 07, loss: -0.05267\n",
      "epoch: 08, loss: -0.05410\n",
      "epoch: 09, loss: -0.05533\n",
      "torch.Size([450, 64])\n"
     ]
    },
    {
     "name": "stderr",
     "output_type": "stream",
     "text": [
      "\r",
      " 28%|████████████████████████████████████████████▋                                                                                                                  | 281/1000 [1:57:48<6:26:59, 32.29s/it]"
     ]
    },
    {
     "name": "stdout",
     "output_type": "stream",
     "text": [
      "eigenvalues shape torch.Size([5]) eigenvectors shape torch.Size([5, 450])\n",
      "281 /home/phdcs2/Hard_Disk/Datasets/Deep-Spectral-Segmentation/data/object-segmentation/ECSSD/features/dino_vits16/0282.pth\n",
      "dict_keys(['k', 'indices', 'file', 'id', 'model_name', 'patch_size', 'shape'])\n",
      "0282\n",
      "Starting Training\n",
      "epoch: 00, loss: -0.01895\n",
      "epoch: 01, loss: -0.04880\n",
      "epoch: 02, loss: -0.04962\n",
      "epoch: 03, loss: -0.05351\n",
      "epoch: 04, loss: -0.05572\n",
      "epoch: 05, loss: -0.05763\n",
      "epoch: 06, loss: -0.05638\n",
      "epoch: 07, loss: -0.05783\n",
      "epoch: 08, loss: -0.05713\n",
      "epoch: 09, loss: -0.05825\n",
      "torch.Size([400, 64])\n"
     ]
    },
    {
     "name": "stderr",
     "output_type": "stream",
     "text": [
      "\r",
      " 28%|████████████████████████████████████████████▊                                                                                                                  | 282/1000 [1:58:07<5:39:27, 28.37s/it]"
     ]
    },
    {
     "name": "stdout",
     "output_type": "stream",
     "text": [
      "eigenvalues shape torch.Size([5]) eigenvectors shape torch.Size([5, 400])\n",
      "282 /home/phdcs2/Hard_Disk/Datasets/Deep-Spectral-Segmentation/data/object-segmentation/ECSSD/features/dino_vits16/0283.pth\n",
      "dict_keys(['k', 'indices', 'file', 'id', 'model_name', 'patch_size', 'shape'])\n",
      "0283\n",
      "Starting Training\n",
      "epoch: 00, loss: -0.08257\n",
      "epoch: 01, loss: -0.11202\n",
      "epoch: 02, loss: -0.11633\n",
      "epoch: 03, loss: -0.11835\n",
      "epoch: 04, loss: -0.12109\n",
      "epoch: 05, loss: -0.11896\n",
      "epoch: 06, loss: -0.12084\n",
      "epoch: 07, loss: -0.12178\n",
      "epoch: 08, loss: -0.12313\n",
      "epoch: 09, loss: -0.12570\n",
      "torch.Size([400, 64])\n"
     ]
    },
    {
     "name": "stderr",
     "output_type": "stream",
     "text": [
      "\r",
      " 28%|████████████████████████████████████████████▉                                                                                                                  | 283/1000 [1:58:32<5:27:33, 27.41s/it]"
     ]
    },
    {
     "name": "stdout",
     "output_type": "stream",
     "text": [
      "eigenvalues shape torch.Size([5]) eigenvectors shape torch.Size([5, 400])\n",
      "283 /home/phdcs2/Hard_Disk/Datasets/Deep-Spectral-Segmentation/data/object-segmentation/ECSSD/features/dino_vits16/0284.pth\n",
      "dict_keys(['k', 'indices', 'file', 'id', 'model_name', 'patch_size', 'shape'])\n",
      "0284\n",
      "Starting Training\n",
      "epoch: 00, loss: -0.01410\n",
      "epoch: 01, loss: -0.03491\n",
      "epoch: 02, loss: -0.03921\n",
      "epoch: 03, loss: -0.04001\n",
      "epoch: 04, loss: -0.04069\n",
      "epoch: 05, loss: -0.04086\n",
      "epoch: 06, loss: -0.04117\n",
      "epoch: 07, loss: -0.04131\n",
      "epoch: 08, loss: -0.04152\n",
      "epoch: 09, loss: -0.04154\n",
      "torch.Size([400, 64])\n"
     ]
    },
    {
     "name": "stderr",
     "output_type": "stream",
     "text": [
      "\r",
      " 28%|█████████████████████████████████████████████▏                                                                                                                 | 284/1000 [1:58:55<5:10:14, 26.00s/it]"
     ]
    },
    {
     "name": "stdout",
     "output_type": "stream",
     "text": [
      "eigenvalues shape torch.Size([5]) eigenvectors shape torch.Size([5, 400])\n",
      "284 /home/phdcs2/Hard_Disk/Datasets/Deep-Spectral-Segmentation/data/object-segmentation/ECSSD/features/dino_vits16/0285.pth\n",
      "dict_keys(['k', 'indices', 'file', 'id', 'model_name', 'patch_size', 'shape'])\n",
      "0285\n",
      "Starting Training\n",
      "epoch: 00, loss: -0.04242\n",
      "epoch: 01, loss: -0.07372\n",
      "epoch: 02, loss: -0.08042\n",
      "epoch: 03, loss: -0.08477\n",
      "epoch: 04, loss: -0.08354\n",
      "epoch: 05, loss: -0.08603\n",
      "epoch: 06, loss: -0.08678\n",
      "epoch: 07, loss: -0.08530\n",
      "epoch: 08, loss: -0.08702\n",
      "epoch: 09, loss: -0.08584\n",
      "torch.Size([400, 64])\n"
     ]
    },
    {
     "name": "stderr",
     "output_type": "stream",
     "text": [
      "\r",
      " 28%|█████████████████████████████████████████████▎                                                                                                                 | 285/1000 [1:59:17<4:56:18, 24.87s/it]"
     ]
    },
    {
     "name": "stdout",
     "output_type": "stream",
     "text": [
      "eigenvalues shape torch.Size([5]) eigenvectors shape torch.Size([5, 400])\n",
      "285 /home/phdcs2/Hard_Disk/Datasets/Deep-Spectral-Segmentation/data/object-segmentation/ECSSD/features/dino_vits16/0286.pth\n",
      "dict_keys(['k', 'indices', 'file', 'id', 'model_name', 'patch_size', 'shape'])\n",
      "0286\n",
      "Starting Training\n",
      "epoch: 00, loss: -0.05551\n",
      "epoch: 01, loss: -0.07638\n",
      "epoch: 02, loss: -0.07683\n",
      "epoch: 03, loss: -0.07726\n",
      "epoch: 04, loss: -0.07802\n",
      "epoch: 05, loss: -0.07765\n",
      "epoch: 06, loss: -0.07797\n",
      "epoch: 07, loss: -0.07818\n",
      "epoch: 08, loss: -0.07817\n",
      "epoch: 09, loss: -0.07827\n",
      "torch.Size([450, 64])\n"
     ]
    },
    {
     "name": "stderr",
     "output_type": "stream",
     "text": [
      "\r",
      " 29%|█████████████████████████████████████████████▍                                                                                                                 | 286/1000 [1:59:42<4:56:01, 24.88s/it]"
     ]
    },
    {
     "name": "stdout",
     "output_type": "stream",
     "text": [
      "eigenvalues shape torch.Size([5]) eigenvectors shape torch.Size([5, 450])\n",
      "286 /home/phdcs2/Hard_Disk/Datasets/Deep-Spectral-Segmentation/data/object-segmentation/ECSSD/features/dino_vits16/0287.pth\n",
      "dict_keys(['k', 'indices', 'file', 'id', 'model_name', 'patch_size', 'shape'])\n",
      "0287\n",
      "Starting Training\n",
      "epoch: 00, loss: -0.02028\n",
      "epoch: 01, loss: -0.04055\n",
      "epoch: 02, loss: -0.04180\n",
      "epoch: 03, loss: -0.04295\n",
      "epoch: 04, loss: -0.04381\n",
      "epoch: 05, loss: -0.04330\n",
      "epoch: 06, loss: -0.04486\n",
      "epoch: 07, loss: -0.04501\n",
      "epoch: 08, loss: -0.04370\n",
      "epoch: 09, loss: -0.04341\n",
      "torch.Size([375, 64])\n"
     ]
    },
    {
     "name": "stderr",
     "output_type": "stream",
     "text": [
      "\r",
      " 29%|█████████████████████████████████████████████▋                                                                                                                 | 287/1000 [2:00:10<5:06:09, 25.76s/it]"
     ]
    },
    {
     "name": "stdout",
     "output_type": "stream",
     "text": [
      "eigenvalues shape torch.Size([5]) eigenvectors shape torch.Size([5, 375])\n",
      "287 /home/phdcs2/Hard_Disk/Datasets/Deep-Spectral-Segmentation/data/object-segmentation/ECSSD/features/dino_vits16/0288.pth\n",
      "dict_keys(['k', 'indices', 'file', 'id', 'model_name', 'patch_size', 'shape'])\n",
      "0288\n",
      "Starting Training\n",
      "epoch: 00, loss: -0.04122\n",
      "epoch: 01, loss: -0.06929\n",
      "epoch: 02, loss: -0.07350\n",
      "epoch: 03, loss: -0.07282\n",
      "epoch: 04, loss: -0.07506\n",
      "epoch: 05, loss: -0.07818\n",
      "epoch: 06, loss: -0.07649\n",
      "epoch: 07, loss: -0.07684\n",
      "epoch: 08, loss: -0.07917\n",
      "epoch: 09, loss: -0.07624\n",
      "torch.Size([450, 64])\n"
     ]
    },
    {
     "name": "stderr",
     "output_type": "stream",
     "text": [
      "\r",
      " 29%|█████████████████████████████████████████████▊                                                                                                                 | 288/1000 [2:00:35<5:06:03, 25.79s/it]"
     ]
    },
    {
     "name": "stdout",
     "output_type": "stream",
     "text": [
      "eigenvalues shape torch.Size([5]) eigenvectors shape torch.Size([5, 450])\n",
      "288 /home/phdcs2/Hard_Disk/Datasets/Deep-Spectral-Segmentation/data/object-segmentation/ECSSD/features/dino_vits16/0289.pth\n",
      "dict_keys(['k', 'indices', 'file', 'id', 'model_name', 'patch_size', 'shape'])\n",
      "0289\n",
      "Starting Training\n",
      "epoch: 00, loss: -0.06514\n",
      "epoch: 01, loss: -0.08573\n",
      "epoch: 02, loss: -0.09443\n",
      "epoch: 03, loss: -0.09292\n",
      "epoch: 04, loss: -0.09319\n",
      "epoch: 05, loss: -0.09543\n",
      "epoch: 06, loss: -0.09697\n",
      "epoch: 07, loss: -0.09725\n",
      "epoch: 08, loss: -0.09526\n",
      "epoch: 09, loss: -0.09544\n",
      "torch.Size([450, 64])\n"
     ]
    },
    {
     "name": "stderr",
     "output_type": "stream",
     "text": [
      "\r",
      " 29%|█████████████████████████████████████████████▉                                                                                                                 | 289/1000 [2:01:01<5:05:03, 25.74s/it]"
     ]
    },
    {
     "name": "stdout",
     "output_type": "stream",
     "text": [
      "eigenvalues shape torch.Size([5]) eigenvectors shape torch.Size([5, 450])\n",
      "289 /home/phdcs2/Hard_Disk/Datasets/Deep-Spectral-Segmentation/data/object-segmentation/ECSSD/features/dino_vits16/0290.pth\n",
      "dict_keys(['k', 'indices', 'file', 'id', 'model_name', 'patch_size', 'shape'])\n",
      "0290\n",
      "Starting Training\n",
      "epoch: 00, loss: -0.04188\n",
      "epoch: 01, loss: -0.06874\n",
      "epoch: 02, loss: -0.06973\n",
      "epoch: 03, loss: -0.07017\n",
      "epoch: 04, loss: -0.07048\n",
      "epoch: 05, loss: -0.07290\n",
      "epoch: 06, loss: -0.07119\n",
      "epoch: 07, loss: -0.07135\n",
      "epoch: 08, loss: -0.07185\n",
      "epoch: 09, loss: -0.07168\n",
      "torch.Size([375, 64])\n"
     ]
    },
    {
     "name": "stderr",
     "output_type": "stream",
     "text": [
      "\r",
      " 29%|██████████████████████████████████████████████                                                                                                                 | 290/1000 [2:01:22<4:46:31, 24.21s/it]"
     ]
    },
    {
     "name": "stdout",
     "output_type": "stream",
     "text": [
      "eigenvalues shape torch.Size([5]) eigenvectors shape torch.Size([5, 375])\n",
      "290 /home/phdcs2/Hard_Disk/Datasets/Deep-Spectral-Segmentation/data/object-segmentation/ECSSD/features/dino_vits16/0291.pth\n",
      "dict_keys(['k', 'indices', 'file', 'id', 'model_name', 'patch_size', 'shape'])\n",
      "0291\n",
      "Starting Training\n",
      "epoch: 00, loss: -0.04020\n",
      "epoch: 01, loss: -0.06579\n",
      "epoch: 02, loss: -0.06673\n",
      "epoch: 03, loss: -0.06847\n",
      "epoch: 04, loss: -0.06947\n",
      "epoch: 05, loss: -0.06784\n",
      "epoch: 06, loss: -0.06774\n",
      "epoch: 07, loss: -0.06789\n",
      "epoch: 08, loss: -0.06814\n",
      "epoch: 09, loss: -0.06855\n",
      "torch.Size([475, 64])\n"
     ]
    },
    {
     "name": "stderr",
     "output_type": "stream",
     "text": [
      "\r",
      " 29%|██████████████████████████████████████████████▎                                                                                                                | 291/1000 [2:01:48<4:52:23, 24.74s/it]"
     ]
    },
    {
     "name": "stdout",
     "output_type": "stream",
     "text": [
      "eigenvalues shape torch.Size([5]) eigenvectors shape torch.Size([5, 475])\n",
      "291 /home/phdcs2/Hard_Disk/Datasets/Deep-Spectral-Segmentation/data/object-segmentation/ECSSD/features/dino_vits16/0292.pth\n",
      "dict_keys(['k', 'indices', 'file', 'id', 'model_name', 'patch_size', 'shape'])\n",
      "0292\n",
      "Starting Training\n",
      "epoch: 00, loss: -0.07562\n",
      "epoch: 01, loss: -0.11341\n",
      "epoch: 02, loss: -0.12045\n",
      "epoch: 03, loss: -0.11858\n",
      "epoch: 04, loss: -0.11704\n",
      "epoch: 05, loss: -0.12016\n",
      "epoch: 06, loss: -0.12206\n",
      "epoch: 07, loss: -0.12353\n",
      "epoch: 08, loss: -0.12037\n",
      "epoch: 09, loss: -0.12173\n",
      "torch.Size([400, 64])\n"
     ]
    },
    {
     "name": "stderr",
     "output_type": "stream",
     "text": [
      "\r",
      " 29%|██████████████████████████████████████████████▍                                                                                                                | 292/1000 [2:02:08<4:36:13, 23.41s/it]"
     ]
    },
    {
     "name": "stdout",
     "output_type": "stream",
     "text": [
      "eigenvalues shape torch.Size([5]) eigenvectors shape torch.Size([5, 400])\n",
      "292 /home/phdcs2/Hard_Disk/Datasets/Deep-Spectral-Segmentation/data/object-segmentation/ECSSD/features/dino_vits16/0293.pth\n",
      "dict_keys(['k', 'indices', 'file', 'id', 'model_name', 'patch_size', 'shape'])\n",
      "0293\n",
      "Starting Training\n",
      "epoch: 00, loss: -0.06188\n",
      "epoch: 01, loss: -0.08195\n",
      "epoch: 02, loss: -0.08964\n",
      "epoch: 03, loss: -0.08748\n",
      "epoch: 04, loss: -0.09132\n",
      "epoch: 05, loss: -0.09149\n",
      "epoch: 06, loss: -0.09211\n",
      "epoch: 07, loss: -0.09262\n",
      "epoch: 08, loss: -0.09075\n",
      "epoch: 09, loss: -0.09260\n",
      "torch.Size([425, 64])\n"
     ]
    },
    {
     "name": "stderr",
     "output_type": "stream",
     "text": [
      "\r",
      " 29%|██████████████████████████████████████████████▌                                                                                                                | 293/1000 [2:02:30<4:31:24, 23.03s/it]"
     ]
    },
    {
     "name": "stdout",
     "output_type": "stream",
     "text": [
      "eigenvalues shape torch.Size([5]) eigenvectors shape torch.Size([5, 425])\n",
      "293 /home/phdcs2/Hard_Disk/Datasets/Deep-Spectral-Segmentation/data/object-segmentation/ECSSD/features/dino_vits16/0294.pth\n",
      "dict_keys(['k', 'indices', 'file', 'id', 'model_name', 'patch_size', 'shape'])\n",
      "0294\n",
      "Starting Training\n",
      "epoch: 00, loss: -0.03935\n",
      "epoch: 01, loss: -0.06888\n",
      "epoch: 02, loss: -0.06994\n",
      "epoch: 03, loss: -0.07181\n",
      "epoch: 04, loss: -0.07051\n",
      "epoch: 05, loss: -0.07068\n",
      "epoch: 06, loss: -0.07080\n",
      "epoch: 07, loss: -0.07134\n",
      "epoch: 08, loss: -0.07130\n",
      "epoch: 09, loss: -0.07157\n",
      "torch.Size([425, 64])\n"
     ]
    },
    {
     "name": "stderr",
     "output_type": "stream",
     "text": [
      "\r",
      " 29%|██████████████████████████████████████████████▋                                                                                                                | 294/1000 [2:02:55<4:36:34, 23.50s/it]"
     ]
    },
    {
     "name": "stdout",
     "output_type": "stream",
     "text": [
      "eigenvalues shape torch.Size([5]) eigenvectors shape torch.Size([5, 425])\n",
      "294 /home/phdcs2/Hard_Disk/Datasets/Deep-Spectral-Segmentation/data/object-segmentation/ECSSD/features/dino_vits16/0295.pth\n",
      "dict_keys(['k', 'indices', 'file', 'id', 'model_name', 'patch_size', 'shape'])\n",
      "0295\n",
      "Starting Training\n",
      "epoch: 00, loss: -0.05986\n",
      "epoch: 01, loss: -0.08665\n",
      "epoch: 02, loss: -0.08957\n",
      "epoch: 03, loss: -0.09234\n",
      "epoch: 04, loss: -0.09220\n",
      "epoch: 05, loss: -0.09536\n",
      "epoch: 06, loss: -0.09346\n",
      "epoch: 07, loss: -0.09237\n",
      "epoch: 08, loss: -0.09410\n",
      "epoch: 09, loss: -0.09313\n",
      "torch.Size([425, 64])\n"
     ]
    },
    {
     "name": "stderr",
     "output_type": "stream",
     "text": [
      "\r",
      " 30%|██████████████████████████████████████████████▉                                                                                                                | 295/1000 [2:03:21<4:45:19, 24.28s/it]"
     ]
    },
    {
     "name": "stdout",
     "output_type": "stream",
     "text": [
      "eigenvalues shape torch.Size([5]) eigenvectors shape torch.Size([5, 425])\n",
      "295 /home/phdcs2/Hard_Disk/Datasets/Deep-Spectral-Segmentation/data/object-segmentation/ECSSD/features/dino_vits16/0296.pth\n",
      "dict_keys(['k', 'indices', 'file', 'id', 'model_name', 'patch_size', 'shape'])\n",
      "0296\n",
      "Starting Training\n",
      "epoch: 00, loss: -0.02840\n",
      "epoch: 01, loss: -0.04869\n",
      "epoch: 02, loss: -0.05368\n",
      "epoch: 03, loss: -0.05456\n",
      "epoch: 04, loss: -0.05378\n",
      "epoch: 05, loss: -0.05609\n",
      "epoch: 06, loss: -0.05655\n",
      "epoch: 07, loss: -0.05681\n",
      "epoch: 08, loss: -0.05889\n",
      "epoch: 09, loss: -0.05772\n",
      "torch.Size([425, 64])\n"
     ]
    },
    {
     "name": "stderr",
     "output_type": "stream",
     "text": [
      "\r",
      " 30%|███████████████████████████████████████████████                                                                                                                | 296/1000 [2:03:44<4:40:11, 23.88s/it]"
     ]
    },
    {
     "name": "stdout",
     "output_type": "stream",
     "text": [
      "eigenvalues shape torch.Size([5]) eigenvectors shape torch.Size([5, 425])\n",
      "296 /home/phdcs2/Hard_Disk/Datasets/Deep-Spectral-Segmentation/data/object-segmentation/ECSSD/features/dino_vits16/0297.pth\n",
      "dict_keys(['k', 'indices', 'file', 'id', 'model_name', 'patch_size', 'shape'])\n",
      "0297\n",
      "Starting Training\n",
      "epoch: 00, loss: -0.02993\n",
      "epoch: 01, loss: -0.04724\n",
      "epoch: 02, loss: -0.04892\n",
      "epoch: 03, loss: -0.04945\n",
      "epoch: 04, loss: -0.05006\n",
      "epoch: 05, loss: -0.05034\n",
      "epoch: 06, loss: -0.04997\n",
      "epoch: 07, loss: -0.05013\n",
      "epoch: 08, loss: -0.05024\n",
      "epoch: 09, loss: -0.05099\n",
      "torch.Size([475, 64])\n"
     ]
    },
    {
     "name": "stderr",
     "output_type": "stream",
     "text": [
      "\r",
      " 30%|███████████████████████████████████████████████▏                                                                                                               | 297/1000 [2:04:16<5:08:03, 26.29s/it]"
     ]
    },
    {
     "name": "stdout",
     "output_type": "stream",
     "text": [
      "eigenvalues shape torch.Size([5]) eigenvectors shape torch.Size([5, 475])\n",
      "297 /home/phdcs2/Hard_Disk/Datasets/Deep-Spectral-Segmentation/data/object-segmentation/ECSSD/features/dino_vits16/0298.pth\n",
      "dict_keys(['k', 'indices', 'file', 'id', 'model_name', 'patch_size', 'shape'])\n",
      "0298\n",
      "Starting Training\n",
      "epoch: 00, loss: -0.08264\n",
      "epoch: 01, loss: -0.10850\n",
      "epoch: 02, loss: -0.10719\n",
      "epoch: 03, loss: -0.10790\n",
      "epoch: 04, loss: -0.10954\n",
      "epoch: 05, loss: -0.10909\n",
      "epoch: 06, loss: -0.11223\n",
      "epoch: 07, loss: -0.11123\n",
      "epoch: 08, loss: -0.10988\n",
      "epoch: 09, loss: -0.11038\n",
      "torch.Size([400, 64])\n"
     ]
    },
    {
     "name": "stderr",
     "output_type": "stream",
     "text": [
      "\r",
      " 30%|███████████████████████████████████████████████▍                                                                                                               | 298/1000 [2:04:40<4:59:22, 25.59s/it]"
     ]
    },
    {
     "name": "stdout",
     "output_type": "stream",
     "text": [
      "eigenvalues shape torch.Size([5]) eigenvectors shape torch.Size([5, 400])\n",
      "298 /home/phdcs2/Hard_Disk/Datasets/Deep-Spectral-Segmentation/data/object-segmentation/ECSSD/features/dino_vits16/0299.pth\n",
      "dict_keys(['k', 'indices', 'file', 'id', 'model_name', 'patch_size', 'shape'])\n",
      "0299\n",
      "Starting Training\n",
      "epoch: 00, loss: -0.02079\n",
      "epoch: 01, loss: -0.03658\n",
      "epoch: 02, loss: -0.03827\n",
      "epoch: 03, loss: -0.03903\n",
      "epoch: 04, loss: -0.03944\n",
      "epoch: 05, loss: -0.03976\n",
      "epoch: 06, loss: -0.04002\n",
      "epoch: 07, loss: -0.04014\n",
      "epoch: 08, loss: -0.04023\n",
      "epoch: 09, loss: -0.04027\n",
      "torch.Size([450, 64])\n"
     ]
    },
    {
     "name": "stderr",
     "output_type": "stream",
     "text": [
      "\r",
      " 30%|███████████████████████████████████████████████▌                                                                                                               | 299/1000 [2:05:05<4:57:47, 25.49s/it]"
     ]
    },
    {
     "name": "stdout",
     "output_type": "stream",
     "text": [
      "eigenvalues shape torch.Size([5]) eigenvectors shape torch.Size([5, 450])\n",
      "299 /home/phdcs2/Hard_Disk/Datasets/Deep-Spectral-Segmentation/data/object-segmentation/ECSSD/features/dino_vits16/0300.pth\n",
      "dict_keys(['k', 'indices', 'file', 'id', 'model_name', 'patch_size', 'shape'])\n",
      "0300\n",
      "Starting Training\n",
      "epoch: 00, loss: -0.01373\n",
      "epoch: 01, loss: -0.03484\n",
      "epoch: 02, loss: -0.03855\n",
      "epoch: 03, loss: -0.04268\n",
      "epoch: 04, loss: -0.04001\n",
      "epoch: 05, loss: -0.04266\n",
      "epoch: 06, loss: -0.04389\n",
      "epoch: 07, loss: -0.04590\n",
      "epoch: 08, loss: -0.04554\n",
      "epoch: 09, loss: -0.04598\n",
      "torch.Size([475, 64])\n"
     ]
    },
    {
     "name": "stderr",
     "output_type": "stream",
     "text": [
      "\r",
      " 30%|███████████████████████████████████████████████▋                                                                                                               | 300/1000 [2:05:30<4:56:59, 25.46s/it]"
     ]
    },
    {
     "name": "stdout",
     "output_type": "stream",
     "text": [
      "eigenvalues shape torch.Size([5]) eigenvectors shape torch.Size([5, 475])\n",
      "300 /home/phdcs2/Hard_Disk/Datasets/Deep-Spectral-Segmentation/data/object-segmentation/ECSSD/features/dino_vits16/0301.pth\n",
      "dict_keys(['k', 'indices', 'file', 'id', 'model_name', 'patch_size', 'shape'])\n",
      "0301\n",
      "Starting Training\n",
      "epoch: 00, loss: -0.00587\n",
      "epoch: 01, loss: -0.02228\n",
      "epoch: 02, loss: -0.02651\n",
      "epoch: 03, loss: -0.02798\n",
      "epoch: 04, loss: -0.02852\n",
      "epoch: 05, loss: -0.02907\n",
      "epoch: 06, loss: -0.02938\n",
      "epoch: 07, loss: -0.02973\n",
      "epoch: 08, loss: -0.02962\n",
      "epoch: 09, loss: -0.02977\n",
      "torch.Size([400, 64])\n"
     ]
    },
    {
     "name": "stderr",
     "output_type": "stream",
     "text": [
      "\r",
      " 30%|███████████████████████████████████████████████▊                                                                                                               | 301/1000 [2:05:55<4:52:34, 25.11s/it]"
     ]
    },
    {
     "name": "stdout",
     "output_type": "stream",
     "text": [
      "eigenvalues shape torch.Size([5]) eigenvectors shape torch.Size([5, 400])\n",
      "301 /home/phdcs2/Hard_Disk/Datasets/Deep-Spectral-Segmentation/data/object-segmentation/ECSSD/features/dino_vits16/0302.pth\n",
      "dict_keys(['k', 'indices', 'file', 'id', 'model_name', 'patch_size', 'shape'])\n",
      "0302\n",
      "Starting Training\n",
      "epoch: 00, loss: -0.06655\n",
      "epoch: 01, loss: -0.10923\n",
      "epoch: 02, loss: -0.10986\n",
      "epoch: 03, loss: -0.11108\n",
      "epoch: 04, loss: -0.11258\n",
      "epoch: 05, loss: -0.11210\n",
      "epoch: 06, loss: -0.11263\n",
      "epoch: 07, loss: -0.11329\n",
      "epoch: 08, loss: -0.11222\n",
      "epoch: 09, loss: -0.11288\n",
      "torch.Size([450, 64])\n"
     ]
    },
    {
     "name": "stderr",
     "output_type": "stream",
     "text": [
      "\r",
      " 30%|████████████████████████████████████████████████                                                                                                               | 302/1000 [2:06:25<5:11:20, 26.76s/it]"
     ]
    },
    {
     "name": "stdout",
     "output_type": "stream",
     "text": [
      "eigenvalues shape torch.Size([5]) eigenvectors shape torch.Size([5, 450])\n",
      "302 /home/phdcs2/Hard_Disk/Datasets/Deep-Spectral-Segmentation/data/object-segmentation/ECSSD/features/dino_vits16/0303.pth\n",
      "dict_keys(['k', 'indices', 'file', 'id', 'model_name', 'patch_size', 'shape'])\n",
      "0303\n",
      "Starting Training\n",
      "epoch: 00, loss: -0.01381\n",
      "epoch: 01, loss: -0.03795\n",
      "epoch: 02, loss: -0.04378\n",
      "epoch: 03, loss: -0.04562\n",
      "epoch: 04, loss: -0.04848\n",
      "epoch: 05, loss: -0.04769\n",
      "epoch: 06, loss: -0.04653\n",
      "epoch: 07, loss: -0.04960\n",
      "epoch: 08, loss: -0.05055\n",
      "epoch: 09, loss: -0.05239\n",
      "torch.Size([450, 64])\n"
     ]
    },
    {
     "name": "stderr",
     "output_type": "stream",
     "text": [
      "\r",
      " 30%|████████████████████████████████████████████████▏                                                                                                              | 303/1000 [2:06:54<5:16:20, 27.23s/it]"
     ]
    },
    {
     "name": "stdout",
     "output_type": "stream",
     "text": [
      "eigenvalues shape torch.Size([5]) eigenvectors shape torch.Size([5, 450])\n",
      "303 /home/phdcs2/Hard_Disk/Datasets/Deep-Spectral-Segmentation/data/object-segmentation/ECSSD/features/dino_vits16/0304.pth\n",
      "dict_keys(['k', 'indices', 'file', 'id', 'model_name', 'patch_size', 'shape'])\n",
      "0304\n",
      "Starting Training\n",
      "epoch: 00, loss: -0.00959\n",
      "epoch: 01, loss: -0.04118\n",
      "epoch: 02, loss: -0.04865\n",
      "epoch: 03, loss: -0.05092\n",
      "epoch: 04, loss: -0.05555\n",
      "epoch: 05, loss: -0.05400\n",
      "epoch: 06, loss: -0.05309\n",
      "epoch: 07, loss: -0.05447\n",
      "epoch: 08, loss: -0.05511\n",
      "epoch: 09, loss: -0.05404\n",
      "torch.Size([400, 64])\n"
     ]
    },
    {
     "name": "stderr",
     "output_type": "stream",
     "text": [
      "\r",
      " 30%|████████████████████████████████████████████████▎                                                                                                              | 304/1000 [2:07:19<5:09:19, 26.67s/it]"
     ]
    },
    {
     "name": "stdout",
     "output_type": "stream",
     "text": [
      "eigenvalues shape torch.Size([5]) eigenvectors shape torch.Size([5, 400])\n",
      "304 /home/phdcs2/Hard_Disk/Datasets/Deep-Spectral-Segmentation/data/object-segmentation/ECSSD/features/dino_vits16/0305.pth\n",
      "dict_keys(['k', 'indices', 'file', 'id', 'model_name', 'patch_size', 'shape'])\n",
      "0305\n",
      "Starting Training\n",
      "epoch: 00, loss: -0.04709\n",
      "epoch: 01, loss: -0.08277\n",
      "epoch: 02, loss: -0.08863\n",
      "epoch: 03, loss: -0.09003\n",
      "epoch: 04, loss: -0.09085\n",
      "epoch: 05, loss: -0.08739\n",
      "epoch: 06, loss: -0.09440\n",
      "epoch: 07, loss: -0.09309\n",
      "epoch: 08, loss: -0.09236\n",
      "epoch: 09, loss: -0.09384\n",
      "torch.Size([400, 64])\n"
     ]
    },
    {
     "name": "stderr",
     "output_type": "stream",
     "text": [
      "\r",
      " 30%|████████████████████████████████████████████████▍                                                                                                              | 305/1000 [2:07:44<5:04:44, 26.31s/it]"
     ]
    },
    {
     "name": "stdout",
     "output_type": "stream",
     "text": [
      "eigenvalues shape torch.Size([5]) eigenvectors shape torch.Size([5, 400])\n",
      "305 /home/phdcs2/Hard_Disk/Datasets/Deep-Spectral-Segmentation/data/object-segmentation/ECSSD/features/dino_vits16/0306.pth\n",
      "dict_keys(['k', 'indices', 'file', 'id', 'model_name', 'patch_size', 'shape'])\n",
      "0306\n",
      "Starting Training\n",
      "epoch: 00, loss: -0.06259\n",
      "epoch: 01, loss: -0.09726\n",
      "epoch: 02, loss: -0.10313\n",
      "epoch: 03, loss: -0.10455\n",
      "epoch: 04, loss: -0.10713\n",
      "epoch: 05, loss: -0.10809\n",
      "epoch: 06, loss: -0.10618\n",
      "epoch: 07, loss: -0.11053\n",
      "epoch: 08, loss: -0.10863\n",
      "epoch: 09, loss: -0.10910\n",
      "torch.Size([400, 64])\n"
     ]
    },
    {
     "name": "stderr",
     "output_type": "stream",
     "text": [
      "\r",
      " 31%|████████████████████████████████████████████████▋                                                                                                              | 306/1000 [2:08:08<4:53:29, 25.37s/it]"
     ]
    },
    {
     "name": "stdout",
     "output_type": "stream",
     "text": [
      "eigenvalues shape torch.Size([5]) eigenvectors shape torch.Size([5, 400])\n",
      "306 /home/phdcs2/Hard_Disk/Datasets/Deep-Spectral-Segmentation/data/object-segmentation/ECSSD/features/dino_vits16/0307.pth\n",
      "dict_keys(['k', 'indices', 'file', 'id', 'model_name', 'patch_size', 'shape'])\n",
      "0307\n",
      "Starting Training\n",
      "epoch: 00, loss: -0.01386\n",
      "epoch: 01, loss: -0.03812\n",
      "epoch: 02, loss: -0.04086\n",
      "epoch: 03, loss: -0.04139\n",
      "epoch: 04, loss: -0.04212\n",
      "epoch: 05, loss: -0.04246\n",
      "epoch: 06, loss: -0.04219\n",
      "epoch: 07, loss: -0.04237\n",
      "epoch: 08, loss: -0.04276\n",
      "epoch: 09, loss: -0.04263\n",
      "torch.Size([450, 64])\n"
     ]
    },
    {
     "name": "stderr",
     "output_type": "stream",
     "text": [
      "\r",
      " 31%|████████████████████████████████████████████████▊                                                                                                              | 307/1000 [2:08:32<4:49:13, 25.04s/it]"
     ]
    },
    {
     "name": "stdout",
     "output_type": "stream",
     "text": [
      "eigenvalues shape torch.Size([5]) eigenvectors shape torch.Size([5, 450])\n",
      "307 /home/phdcs2/Hard_Disk/Datasets/Deep-Spectral-Segmentation/data/object-segmentation/ECSSD/features/dino_vits16/0308.pth\n",
      "dict_keys(['k', 'indices', 'file', 'id', 'model_name', 'patch_size', 'shape'])\n",
      "0308\n",
      "Starting Training\n",
      "epoch: 00, loss: -0.13752\n",
      "epoch: 01, loss: -0.17622\n",
      "epoch: 02, loss: -0.17606\n",
      "epoch: 03, loss: -0.18283\n",
      "epoch: 04, loss: -0.18080\n",
      "epoch: 05, loss: -0.18175\n",
      "epoch: 06, loss: -0.18357\n",
      "epoch: 07, loss: -0.18336\n",
      "epoch: 08, loss: -0.18275\n",
      "epoch: 09, loss: -0.18358\n",
      "torch.Size([450, 64])\n"
     ]
    },
    {
     "name": "stderr",
     "output_type": "stream",
     "text": [
      "\r",
      " 31%|████████████████████████████████████████████████▉                                                                                                              | 308/1000 [2:09:02<5:05:15, 26.47s/it]"
     ]
    },
    {
     "name": "stdout",
     "output_type": "stream",
     "text": [
      "eigenvalues shape torch.Size([5]) eigenvectors shape torch.Size([5, 450])\n",
      "308 /home/phdcs2/Hard_Disk/Datasets/Deep-Spectral-Segmentation/data/object-segmentation/ECSSD/features/dino_vits16/0309.pth\n",
      "dict_keys(['k', 'indices', 'file', 'id', 'model_name', 'patch_size', 'shape'])\n",
      "0309\n",
      "Starting Training\n",
      "epoch: 00, loss: -0.00250\n",
      "epoch: 01, loss: -0.02102\n",
      "epoch: 02, loss: -0.02818\n",
      "epoch: 03, loss: -0.03184\n",
      "epoch: 04, loss: -0.03091\n",
      "epoch: 05, loss: -0.03489\n",
      "epoch: 06, loss: -0.03321\n",
      "epoch: 07, loss: -0.03290\n",
      "epoch: 08, loss: -0.03274\n",
      "epoch: 09, loss: -0.03283\n",
      "torch.Size([400, 64])\n"
     ]
    },
    {
     "name": "stderr",
     "output_type": "stream",
     "text": [
      "\r",
      " 31%|█████████████████████████████████████████████████▏                                                                                                             | 309/1000 [2:09:26<4:56:14, 25.72s/it]"
     ]
    },
    {
     "name": "stdout",
     "output_type": "stream",
     "text": [
      "eigenvalues shape torch.Size([5]) eigenvectors shape torch.Size([5, 400])\n",
      "309 /home/phdcs2/Hard_Disk/Datasets/Deep-Spectral-Segmentation/data/object-segmentation/ECSSD/features/dino_vits16/0310.pth\n",
      "dict_keys(['k', 'indices', 'file', 'id', 'model_name', 'patch_size', 'shape'])\n",
      "0310\n",
      "Starting Training\n",
      "epoch: 00, loss: -0.05880\n",
      "epoch: 01, loss: -0.08370\n",
      "epoch: 02, loss: -0.08946\n",
      "epoch: 03, loss: -0.08975\n",
      "epoch: 04, loss: -0.09075\n",
      "epoch: 05, loss: -0.09273\n",
      "epoch: 06, loss: -0.09234\n",
      "epoch: 07, loss: -0.09230\n",
      "epoch: 08, loss: -0.09289\n",
      "epoch: 09, loss: -0.09272\n",
      "torch.Size([450, 64])\n"
     ]
    },
    {
     "name": "stderr",
     "output_type": "stream",
     "text": [
      "\r",
      " 31%|█████████████████████████████████████████████████▎                                                                                                             | 310/1000 [2:09:52<4:56:47, 25.81s/it]"
     ]
    },
    {
     "name": "stdout",
     "output_type": "stream",
     "text": [
      "eigenvalues shape torch.Size([5]) eigenvectors shape torch.Size([5, 450])\n",
      "310 /home/phdcs2/Hard_Disk/Datasets/Deep-Spectral-Segmentation/data/object-segmentation/ECSSD/features/dino_vits16/0311.pth\n",
      "dict_keys(['k', 'indices', 'file', 'id', 'model_name', 'patch_size', 'shape'])\n",
      "0311\n",
      "Starting Training\n",
      "epoch: 00, loss: -0.01764\n",
      "epoch: 01, loss: -0.03790\n",
      "epoch: 02, loss: -0.04160\n",
      "epoch: 03, loss: -0.04255\n",
      "epoch: 04, loss: -0.04285\n",
      "epoch: 05, loss: -0.04299\n",
      "epoch: 06, loss: -0.04319\n",
      "epoch: 07, loss: -0.04326\n",
      "epoch: 08, loss: -0.04337\n",
      "epoch: 09, loss: -0.04356\n",
      "torch.Size([400, 64])\n"
     ]
    },
    {
     "name": "stderr",
     "output_type": "stream",
     "text": [
      "\r",
      " 31%|█████████████████████████████████████████████████▍                                                                                                             | 311/1000 [2:10:09<4:28:27, 23.38s/it]"
     ]
    },
    {
     "name": "stdout",
     "output_type": "stream",
     "text": [
      "eigenvalues shape torch.Size([5]) eigenvectors shape torch.Size([5, 400])\n",
      "311 /home/phdcs2/Hard_Disk/Datasets/Deep-Spectral-Segmentation/data/object-segmentation/ECSSD/features/dino_vits16/0312.pth\n",
      "dict_keys(['k', 'indices', 'file', 'id', 'model_name', 'patch_size', 'shape'])\n",
      "0312\n",
      "Starting Training\n",
      "epoch: 00, loss: -0.02390\n",
      "epoch: 01, loss: -0.04693\n",
      "epoch: 02, loss: -0.05229\n",
      "epoch: 03, loss: -0.05442\n",
      "epoch: 04, loss: -0.05398\n",
      "epoch: 05, loss: -0.05567\n",
      "epoch: 06, loss: -0.05473\n",
      "epoch: 07, loss: -0.05608\n",
      "epoch: 08, loss: -0.05389\n",
      "epoch: 09, loss: -0.05647\n",
      "torch.Size([400, 64])\n"
     ]
    },
    {
     "name": "stderr",
     "output_type": "stream",
     "text": [
      "\r",
      " 31%|█████████████████████████████████████████████████▌                                                                                                             | 312/1000 [2:10:39<4:48:59, 25.20s/it]"
     ]
    },
    {
     "name": "stdout",
     "output_type": "stream",
     "text": [
      "eigenvalues shape torch.Size([5]) eigenvectors shape torch.Size([5, 400])\n",
      "312 /home/phdcs2/Hard_Disk/Datasets/Deep-Spectral-Segmentation/data/object-segmentation/ECSSD/features/dino_vits16/0313.pth\n",
      "dict_keys(['k', 'indices', 'file', 'id', 'model_name', 'patch_size', 'shape'])\n",
      "0313\n",
      "Starting Training\n",
      "epoch: 00, loss: -0.00833\n",
      "epoch: 01, loss: -0.02187\n",
      "epoch: 02, loss: -0.02536\n",
      "epoch: 03, loss: -0.02705\n",
      "epoch: 04, loss: -0.02751\n",
      "epoch: 05, loss: -0.02795\n",
      "epoch: 06, loss: -0.02827\n",
      "epoch: 07, loss: -0.02835\n",
      "epoch: 08, loss: -0.02848\n",
      "epoch: 09, loss: -0.02873\n",
      "torch.Size([400, 64])\n"
     ]
    },
    {
     "name": "stderr",
     "output_type": "stream",
     "text": [
      "\r",
      " 31%|█████████████████████████████████████████████████▊                                                                                                             | 313/1000 [2:11:03<4:43:54, 24.80s/it]"
     ]
    },
    {
     "name": "stdout",
     "output_type": "stream",
     "text": [
      "eigenvalues shape torch.Size([5]) eigenvectors shape torch.Size([5, 400])\n",
      "313 /home/phdcs2/Hard_Disk/Datasets/Deep-Spectral-Segmentation/data/object-segmentation/ECSSD/features/dino_vits16/0314.pth\n",
      "dict_keys(['k', 'indices', 'file', 'id', 'model_name', 'patch_size', 'shape'])\n",
      "0314\n",
      "Starting Training\n",
      "epoch: 00, loss: -0.00996\n",
      "epoch: 01, loss: -0.02797\n",
      "epoch: 02, loss: -0.03178\n",
      "epoch: 03, loss: -0.03256\n",
      "epoch: 04, loss: -0.03319\n",
      "epoch: 05, loss: -0.03356\n",
      "epoch: 06, loss: -0.03367\n",
      "epoch: 07, loss: -0.03388\n",
      "epoch: 08, loss: -0.03411\n",
      "epoch: 09, loss: -0.03424\n",
      "torch.Size([400, 64])\n"
     ]
    },
    {
     "name": "stderr",
     "output_type": "stream",
     "text": [
      "\r",
      " 31%|█████████████████████████████████████████████████▉                                                                                                             | 314/1000 [2:11:25<4:36:18, 24.17s/it]"
     ]
    },
    {
     "name": "stdout",
     "output_type": "stream",
     "text": [
      "eigenvalues shape torch.Size([5]) eigenvectors shape torch.Size([5, 400])\n",
      "314 /home/phdcs2/Hard_Disk/Datasets/Deep-Spectral-Segmentation/data/object-segmentation/ECSSD/features/dino_vits16/0315.pth\n",
      "dict_keys(['k', 'indices', 'file', 'id', 'model_name', 'patch_size', 'shape'])\n",
      "0315\n",
      "Starting Training\n",
      "epoch: 00, loss: -0.03402\n",
      "epoch: 01, loss: -0.07303\n",
      "epoch: 02, loss: -0.07553\n",
      "epoch: 03, loss: -0.07832\n",
      "epoch: 04, loss: -0.07952\n",
      "epoch: 05, loss: -0.07722\n",
      "epoch: 06, loss: -0.07896\n",
      "epoch: 07, loss: -0.07783\n",
      "epoch: 08, loss: -0.07868\n",
      "epoch: 09, loss: -0.08076\n",
      "torch.Size([450, 64])\n"
     ]
    },
    {
     "name": "stderr",
     "output_type": "stream",
     "text": [
      "\r",
      " 32%|██████████████████████████████████████████████████                                                                                                             | 315/1000 [2:11:58<5:03:32, 26.59s/it]"
     ]
    },
    {
     "name": "stdout",
     "output_type": "stream",
     "text": [
      "eigenvalues shape torch.Size([5]) eigenvectors shape torch.Size([5, 450])\n",
      "315 /home/phdcs2/Hard_Disk/Datasets/Deep-Spectral-Segmentation/data/object-segmentation/ECSSD/features/dino_vits16/0316.pth\n",
      "dict_keys(['k', 'indices', 'file', 'id', 'model_name', 'patch_size', 'shape'])\n",
      "0316\n",
      "Starting Training\n",
      "epoch: 00, loss: -0.02800\n",
      "epoch: 01, loss: -0.06019\n",
      "epoch: 02, loss: -0.06350\n",
      "epoch: 03, loss: -0.06569\n",
      "epoch: 04, loss: -0.06466\n",
      "epoch: 05, loss: -0.06541\n",
      "epoch: 06, loss: -0.06618\n",
      "epoch: 07, loss: -0.06463\n",
      "epoch: 08, loss: -0.06616\n",
      "epoch: 09, loss: -0.06655\n",
      "torch.Size([450, 64])\n"
     ]
    },
    {
     "name": "stderr",
     "output_type": "stream",
     "text": [
      "\r",
      " 32%|██████████████████████████████████████████████████▏                                                                                                            | 316/1000 [2:12:25<5:04:51, 26.74s/it]"
     ]
    },
    {
     "name": "stdout",
     "output_type": "stream",
     "text": [
      "eigenvalues shape torch.Size([5]) eigenvectors shape torch.Size([5, 450])\n",
      "316 /home/phdcs2/Hard_Disk/Datasets/Deep-Spectral-Segmentation/data/object-segmentation/ECSSD/features/dino_vits16/0317.pth\n",
      "dict_keys(['k', 'indices', 'file', 'id', 'model_name', 'patch_size', 'shape'])\n",
      "0317\n",
      "Starting Training\n",
      "epoch: 00, loss: -0.25130\n",
      "epoch: 01, loss: -0.29856\n",
      "epoch: 02, loss: -0.30367\n",
      "epoch: 03, loss: -0.30941\n",
      "epoch: 04, loss: -0.31160\n",
      "epoch: 05, loss: -0.30972\n",
      "epoch: 06, loss: -0.31113\n",
      "epoch: 07, loss: -0.31396\n",
      "epoch: 08, loss: -0.31340\n",
      "epoch: 09, loss: -0.31864\n",
      "torch.Size([450, 64])\n"
     ]
    },
    {
     "name": "stderr",
     "output_type": "stream",
     "text": [
      "\r",
      " 32%|██████████████████████████████████████████████████▍                                                                                                            | 317/1000 [2:12:48<4:52:31, 25.70s/it]"
     ]
    },
    {
     "name": "stdout",
     "output_type": "stream",
     "text": [
      "eigenvalues shape torch.Size([5]) eigenvectors shape torch.Size([5, 450])\n",
      "317 /home/phdcs2/Hard_Disk/Datasets/Deep-Spectral-Segmentation/data/object-segmentation/ECSSD/features/dino_vits16/0318.pth\n",
      "dict_keys(['k', 'indices', 'file', 'id', 'model_name', 'patch_size', 'shape'])\n",
      "0318\n",
      "Starting Training\n",
      "epoch: 00, loss: -0.06344\n",
      "epoch: 01, loss: -0.09191\n",
      "epoch: 02, loss: -0.09282\n",
      "epoch: 03, loss: -0.09768\n",
      "epoch: 04, loss: -0.09912\n",
      "epoch: 05, loss: -0.09819\n",
      "epoch: 06, loss: -0.09916\n",
      "epoch: 07, loss: -0.09974\n",
      "epoch: 08, loss: -0.09912\n",
      "epoch: 09, loss: -0.10060\n",
      "torch.Size([450, 64])\n"
     ]
    },
    {
     "name": "stderr",
     "output_type": "stream",
     "text": [
      "\r",
      " 32%|██████████████████████████████████████████████████▌                                                                                                            | 318/1000 [2:13:15<4:55:18, 25.98s/it]"
     ]
    },
    {
     "name": "stdout",
     "output_type": "stream",
     "text": [
      "eigenvalues shape torch.Size([5]) eigenvectors shape torch.Size([5, 450])\n",
      "318 /home/phdcs2/Hard_Disk/Datasets/Deep-Spectral-Segmentation/data/object-segmentation/ECSSD/features/dino_vits16/0319.pth\n",
      "dict_keys(['k', 'indices', 'file', 'id', 'model_name', 'patch_size', 'shape'])\n",
      "0319\n",
      "Starting Training\n",
      "epoch: 00, loss: -0.01892\n",
      "epoch: 01, loss: -0.03537\n",
      "epoch: 02, loss: -0.03724\n",
      "epoch: 03, loss: -0.03773\n",
      "epoch: 04, loss: -0.03822\n",
      "epoch: 05, loss: -0.03838\n",
      "epoch: 06, loss: -0.03882\n",
      "epoch: 07, loss: -0.03873\n",
      "epoch: 08, loss: -0.03884\n",
      "epoch: 09, loss: -0.03889\n",
      "torch.Size([450, 64])\n"
     ]
    },
    {
     "name": "stderr",
     "output_type": "stream",
     "text": [
      "\r",
      " 32%|██████████████████████████████████████████████████▋                                                                                                            | 319/1000 [2:13:39<4:48:16, 25.40s/it]"
     ]
    },
    {
     "name": "stdout",
     "output_type": "stream",
     "text": [
      "eigenvalues shape torch.Size([5]) eigenvectors shape torch.Size([5, 450])\n",
      "319 /home/phdcs2/Hard_Disk/Datasets/Deep-Spectral-Segmentation/data/object-segmentation/ECSSD/features/dino_vits16/0320.pth\n",
      "dict_keys(['k', 'indices', 'file', 'id', 'model_name', 'patch_size', 'shape'])\n",
      "0320\n",
      "Starting Training\n",
      "epoch: 00, loss: -0.05601\n",
      "epoch: 01, loss: -0.07161\n",
      "epoch: 02, loss: -0.07195\n",
      "epoch: 03, loss: -0.07281\n",
      "epoch: 04, loss: -0.07279\n",
      "epoch: 05, loss: -0.07307\n",
      "epoch: 06, loss: -0.07344\n",
      "epoch: 07, loss: -0.07346\n",
      "epoch: 08, loss: -0.07362\n",
      "epoch: 09, loss: -0.07372\n",
      "torch.Size([450, 64])\n"
     ]
    },
    {
     "name": "stderr",
     "output_type": "stream",
     "text": [
      "\r",
      " 32%|██████████████████████████████████████████████████▉                                                                                                            | 320/1000 [2:14:10<5:07:40, 27.15s/it]"
     ]
    },
    {
     "name": "stdout",
     "output_type": "stream",
     "text": [
      "eigenvalues shape torch.Size([5]) eigenvectors shape torch.Size([5, 450])\n",
      "320 /home/phdcs2/Hard_Disk/Datasets/Deep-Spectral-Segmentation/data/object-segmentation/ECSSD/features/dino_vits16/0321.pth\n",
      "dict_keys(['k', 'indices', 'file', 'id', 'model_name', 'patch_size', 'shape'])\n",
      "0321\n",
      "Starting Training\n",
      "epoch: 00, loss: -0.00267\n",
      "epoch: 01, loss: -0.02607\n",
      "epoch: 02, loss: -0.02859\n",
      "epoch: 03, loss: -0.02922\n",
      "epoch: 04, loss: -0.03268\n",
      "epoch: 05, loss: -0.03089\n",
      "epoch: 06, loss: -0.03251\n",
      "epoch: 07, loss: -0.03345\n",
      "epoch: 08, loss: -0.03089\n",
      "epoch: 09, loss: -0.03308\n",
      "torch.Size([500, 64])\n"
     ]
    },
    {
     "name": "stderr",
     "output_type": "stream",
     "text": [
      "\r",
      " 32%|███████████████████████████████████████████████████                                                                                                            | 321/1000 [2:14:38<5:10:30, 27.44s/it]"
     ]
    },
    {
     "name": "stdout",
     "output_type": "stream",
     "text": [
      "eigenvalues shape torch.Size([5]) eigenvectors shape torch.Size([5, 500])\n",
      "321 /home/phdcs2/Hard_Disk/Datasets/Deep-Spectral-Segmentation/data/object-segmentation/ECSSD/features/dino_vits16/0322.pth\n",
      "dict_keys(['k', 'indices', 'file', 'id', 'model_name', 'patch_size', 'shape'])\n",
      "0322\n",
      "Starting Training\n",
      "epoch: 00, loss: -0.09538\n",
      "epoch: 01, loss: -0.12510\n",
      "epoch: 02, loss: -0.12542\n",
      "epoch: 03, loss: -0.12779\n",
      "epoch: 04, loss: -0.13061\n",
      "epoch: 05, loss: -0.13057\n",
      "epoch: 06, loss: -0.12911\n",
      "epoch: 07, loss: -0.13081\n",
      "epoch: 08, loss: -0.13210\n",
      "epoch: 09, loss: -0.13208\n",
      "torch.Size([450, 64])\n"
     ]
    },
    {
     "name": "stderr",
     "output_type": "stream",
     "text": [
      "\r",
      " 32%|███████████████████████████████████████████████████▏                                                                                                           | 322/1000 [2:15:04<5:03:44, 26.88s/it]"
     ]
    },
    {
     "name": "stdout",
     "output_type": "stream",
     "text": [
      "eigenvalues shape torch.Size([5]) eigenvectors shape torch.Size([5, 450])\n",
      "322 /home/phdcs2/Hard_Disk/Datasets/Deep-Spectral-Segmentation/data/object-segmentation/ECSSD/features/dino_vits16/0323.pth\n",
      "dict_keys(['k', 'indices', 'file', 'id', 'model_name', 'patch_size', 'shape'])\n",
      "0323\n",
      "Starting Training\n",
      "epoch: 00, loss: -0.05164\n",
      "epoch: 01, loss: -0.07444\n",
      "epoch: 02, loss: -0.07591\n",
      "epoch: 03, loss: -0.07674\n",
      "epoch: 04, loss: -0.07743\n",
      "epoch: 05, loss: -0.07689\n",
      "epoch: 06, loss: -0.07728\n",
      "epoch: 07, loss: -0.07743\n",
      "epoch: 08, loss: -0.07758\n",
      "epoch: 09, loss: -0.07784\n",
      "torch.Size([450, 64])\n"
     ]
    },
    {
     "name": "stderr",
     "output_type": "stream",
     "text": [
      "\r",
      " 32%|███████████████████████████████████████████████████▎                                                                                                           | 323/1000 [2:15:28<4:56:35, 26.29s/it]"
     ]
    },
    {
     "name": "stdout",
     "output_type": "stream",
     "text": [
      "eigenvalues shape torch.Size([5]) eigenvectors shape torch.Size([5, 450])\n",
      "323 /home/phdcs2/Hard_Disk/Datasets/Deep-Spectral-Segmentation/data/object-segmentation/ECSSD/features/dino_vits16/0324.pth\n",
      "dict_keys(['k', 'indices', 'file', 'id', 'model_name', 'patch_size', 'shape'])\n",
      "0324\n",
      "Starting Training\n",
      "epoch: 00, loss: -0.02178\n",
      "epoch: 01, loss: -0.05075\n",
      "epoch: 02, loss: -0.05532\n",
      "epoch: 03, loss: -0.05576\n",
      "epoch: 04, loss: -0.05691\n",
      "epoch: 05, loss: -0.05748\n",
      "epoch: 06, loss: -0.05906\n",
      "epoch: 07, loss: -0.05999\n",
      "epoch: 08, loss: -0.05683\n",
      "epoch: 09, loss: -0.06028\n",
      "torch.Size([450, 64])\n"
     ]
    },
    {
     "name": "stderr",
     "output_type": "stream",
     "text": [
      "\r",
      " 32%|███████████████████████████████████████████████████▌                                                                                                           | 324/1000 [2:15:55<4:56:33, 26.32s/it]"
     ]
    },
    {
     "name": "stdout",
     "output_type": "stream",
     "text": [
      "eigenvalues shape torch.Size([5]) eigenvectors shape torch.Size([5, 450])\n",
      "324 /home/phdcs2/Hard_Disk/Datasets/Deep-Spectral-Segmentation/data/object-segmentation/ECSSD/features/dino_vits16/0325.pth\n",
      "dict_keys(['k', 'indices', 'file', 'id', 'model_name', 'patch_size', 'shape'])\n",
      "0325\n",
      "Starting Training\n",
      "epoch: 00, loss: -0.00556\n",
      "epoch: 01, loss: -0.02383\n",
      "epoch: 02, loss: -0.02875\n",
      "epoch: 03, loss: -0.03008\n",
      "epoch: 04, loss: -0.03050\n",
      "epoch: 05, loss: -0.03083\n",
      "epoch: 06, loss: -0.03112\n",
      "epoch: 07, loss: -0.03133\n",
      "epoch: 08, loss: -0.03140\n",
      "epoch: 09, loss: -0.03154\n",
      "torch.Size([450, 64])\n"
     ]
    },
    {
     "name": "stderr",
     "output_type": "stream",
     "text": [
      "\r",
      " 32%|███████████████████████████████████████████████████▋                                                                                                           | 325/1000 [2:16:21<4:54:03, 26.14s/it]"
     ]
    },
    {
     "name": "stdout",
     "output_type": "stream",
     "text": [
      "eigenvalues shape torch.Size([5]) eigenvectors shape torch.Size([5, 450])\n",
      "325 /home/phdcs2/Hard_Disk/Datasets/Deep-Spectral-Segmentation/data/object-segmentation/ECSSD/features/dino_vits16/0326.pth\n",
      "dict_keys(['k', 'indices', 'file', 'id', 'model_name', 'patch_size', 'shape'])\n",
      "0326\n",
      "Starting Training\n",
      "epoch: 00, loss: -0.00361\n",
      "epoch: 01, loss: -0.02412\n",
      "epoch: 02, loss: -0.03040\n",
      "epoch: 03, loss: -0.03200\n",
      "epoch: 04, loss: -0.03379\n",
      "epoch: 05, loss: -0.03272\n",
      "epoch: 06, loss: -0.03332\n",
      "epoch: 07, loss: -0.03321\n",
      "epoch: 08, loss: -0.03365\n",
      "epoch: 09, loss: -0.03474\n",
      "torch.Size([425, 64])\n"
     ]
    },
    {
     "name": "stderr",
     "output_type": "stream",
     "text": [
      "\r",
      " 33%|███████████████████████████████████████████████████▊                                                                                                           | 326/1000 [2:16:41<4:34:39, 24.45s/it]"
     ]
    },
    {
     "name": "stdout",
     "output_type": "stream",
     "text": [
      "eigenvalues shape torch.Size([5]) eigenvectors shape torch.Size([5, 425])\n",
      "326 /home/phdcs2/Hard_Disk/Datasets/Deep-Spectral-Segmentation/data/object-segmentation/ECSSD/features/dino_vits16/0327.pth\n",
      "dict_keys(['k', 'indices', 'file', 'id', 'model_name', 'patch_size', 'shape'])\n",
      "0327\n",
      "Starting Training\n",
      "epoch: 00, loss: -0.05075\n",
      "epoch: 01, loss: -0.07676\n",
      "epoch: 02, loss: -0.08047\n",
      "epoch: 03, loss: -0.08066\n",
      "epoch: 04, loss: -0.08411\n",
      "epoch: 05, loss: -0.08654\n",
      "epoch: 06, loss: -0.08325\n",
      "epoch: 07, loss: -0.08334\n",
      "epoch: 08, loss: -0.08789\n",
      "epoch: 09, loss: -0.08595\n",
      "torch.Size([450, 64])\n"
     ]
    },
    {
     "name": "stderr",
     "output_type": "stream",
     "text": [
      "\r",
      " 33%|███████████████████████████████████████████████████▉                                                                                                           | 327/1000 [2:17:07<4:40:19, 24.99s/it]"
     ]
    },
    {
     "name": "stdout",
     "output_type": "stream",
     "text": [
      "eigenvalues shape torch.Size([5]) eigenvectors shape torch.Size([5, 450])\n",
      "327 /home/phdcs2/Hard_Disk/Datasets/Deep-Spectral-Segmentation/data/object-segmentation/ECSSD/features/dino_vits16/0328.pth\n",
      "dict_keys(['k', 'indices', 'file', 'id', 'model_name', 'patch_size', 'shape'])\n",
      "0328\n",
      "Starting Training\n",
      "epoch: 00, loss: -0.01661\n",
      "epoch: 01, loss: -0.03721\n",
      "epoch: 02, loss: -0.04090\n",
      "epoch: 03, loss: -0.04116\n",
      "epoch: 04, loss: -0.04163\n",
      "epoch: 05, loss: -0.04048\n",
      "epoch: 06, loss: -0.04059\n",
      "epoch: 07, loss: -0.04147\n",
      "epoch: 08, loss: -0.04082\n",
      "epoch: 09, loss: -0.04178\n",
      "torch.Size([475, 64])\n"
     ]
    },
    {
     "name": "stderr",
     "output_type": "stream",
     "text": [
      "\r",
      " 33%|████████████████████████████████████████████████████▏                                                                                                          | 328/1000 [2:17:35<4:47:30, 25.67s/it]"
     ]
    },
    {
     "name": "stdout",
     "output_type": "stream",
     "text": [
      "eigenvalues shape torch.Size([5]) eigenvectors shape torch.Size([5, 475])\n",
      "328 /home/phdcs2/Hard_Disk/Datasets/Deep-Spectral-Segmentation/data/object-segmentation/ECSSD/features/dino_vits16/0329.pth\n",
      "dict_keys(['k', 'indices', 'file', 'id', 'model_name', 'patch_size', 'shape'])\n",
      "0329\n",
      "Starting Training\n",
      "epoch: 00, loss: -0.04765\n",
      "epoch: 01, loss: -0.06933\n",
      "epoch: 02, loss: -0.07207\n",
      "epoch: 03, loss: -0.07310\n",
      "epoch: 04, loss: -0.07453\n",
      "epoch: 05, loss: -0.07255\n",
      "epoch: 06, loss: -0.07494\n",
      "epoch: 07, loss: -0.07383\n",
      "epoch: 08, loss: -0.07481\n",
      "epoch: 09, loss: -0.07583\n",
      "torch.Size([500, 64])\n"
     ]
    },
    {
     "name": "stderr",
     "output_type": "stream",
     "text": [
      "\r",
      " 33%|████████████████████████████████████████████████████▎                                                                                                          | 329/1000 [2:18:00<4:47:42, 25.73s/it]"
     ]
    },
    {
     "name": "stdout",
     "output_type": "stream",
     "text": [
      "eigenvalues shape torch.Size([5]) eigenvectors shape torch.Size([5, 500])\n",
      "329 /home/phdcs2/Hard_Disk/Datasets/Deep-Spectral-Segmentation/data/object-segmentation/ECSSD/features/dino_vits16/0330.pth\n",
      "dict_keys(['k', 'indices', 'file', 'id', 'model_name', 'patch_size', 'shape'])\n",
      "0330\n",
      "Starting Training\n",
      "epoch: 00, loss: -0.05350\n",
      "epoch: 01, loss: -0.07860\n",
      "epoch: 02, loss: -0.08552\n",
      "epoch: 03, loss: -0.08780\n",
      "epoch: 04, loss: -0.08559\n",
      "epoch: 05, loss: -0.08881\n",
      "epoch: 06, loss: -0.08619\n",
      "epoch: 07, loss: -0.08916\n",
      "epoch: 08, loss: -0.09059\n",
      "epoch: 09, loss: -0.08883\n",
      "torch.Size([450, 64])\n"
     ]
    },
    {
     "name": "stderr",
     "output_type": "stream",
     "text": [
      "\r",
      " 33%|████████████████████████████████████████████████████▍                                                                                                          | 330/1000 [2:18:24<4:39:15, 25.01s/it]"
     ]
    },
    {
     "name": "stdout",
     "output_type": "stream",
     "text": [
      "eigenvalues shape torch.Size([5]) eigenvectors shape torch.Size([5, 450])\n",
      "330 /home/phdcs2/Hard_Disk/Datasets/Deep-Spectral-Segmentation/data/object-segmentation/ECSSD/features/dino_vits16/0331.pth\n",
      "dict_keys(['k', 'indices', 'file', 'id', 'model_name', 'patch_size', 'shape'])\n",
      "0331\n",
      "Starting Training\n",
      "epoch: 00, loss: -0.08264\n",
      "epoch: 01, loss: -0.10465\n",
      "epoch: 02, loss: -0.10425\n",
      "epoch: 03, loss: -0.10491\n",
      "epoch: 04, loss: -0.10509\n",
      "epoch: 05, loss: -0.10541\n",
      "epoch: 06, loss: -0.10511\n",
      "epoch: 07, loss: -0.10539\n",
      "epoch: 08, loss: -0.10542\n",
      "epoch: 09, loss: -0.10542\n",
      "torch.Size([450, 64])\n"
     ]
    },
    {
     "name": "stderr",
     "output_type": "stream",
     "text": [
      "\r",
      " 33%|████████████████████████████████████████████████████▋                                                                                                          | 331/1000 [2:18:48<4:35:07, 24.67s/it]"
     ]
    },
    {
     "name": "stdout",
     "output_type": "stream",
     "text": [
      "eigenvalues shape torch.Size([5]) eigenvectors shape torch.Size([5, 450])\n",
      "331 /home/phdcs2/Hard_Disk/Datasets/Deep-Spectral-Segmentation/data/object-segmentation/ECSSD/features/dino_vits16/0332.pth\n",
      "dict_keys(['k', 'indices', 'file', 'id', 'model_name', 'patch_size', 'shape'])\n",
      "0332\n",
      "Starting Training\n",
      "epoch: 00, loss: -0.04285\n",
      "epoch: 01, loss: -0.07018\n",
      "epoch: 02, loss: -0.07353\n",
      "epoch: 03, loss: -0.07526\n",
      "epoch: 04, loss: -0.07503\n",
      "epoch: 05, loss: -0.08092\n",
      "epoch: 06, loss: -0.07702\n",
      "epoch: 07, loss: -0.07926\n",
      "epoch: 08, loss: -0.07943\n",
      "epoch: 09, loss: -0.07905\n",
      "torch.Size([400, 64])\n"
     ]
    },
    {
     "name": "stderr",
     "output_type": "stream",
     "text": [
      "\r",
      " 33%|████████████████████████████████████████████████████▊                                                                                                          | 332/1000 [2:19:10<4:26:14, 23.91s/it]"
     ]
    },
    {
     "name": "stdout",
     "output_type": "stream",
     "text": [
      "eigenvalues shape torch.Size([5]) eigenvectors shape torch.Size([5, 400])\n",
      "332 /home/phdcs2/Hard_Disk/Datasets/Deep-Spectral-Segmentation/data/object-segmentation/ECSSD/features/dino_vits16/0333.pth\n",
      "dict_keys(['k', 'indices', 'file', 'id', 'model_name', 'patch_size', 'shape'])\n",
      "0333\n",
      "Starting Training\n",
      "epoch: 00, loss: -0.03090\n",
      "epoch: 01, loss: -0.06095\n",
      "epoch: 02, loss: -0.06339\n",
      "epoch: 03, loss: -0.06362\n",
      "epoch: 04, loss: -0.06397\n",
      "epoch: 05, loss: -0.06406\n",
      "epoch: 06, loss: -0.06427\n",
      "epoch: 07, loss: -0.06447\n",
      "epoch: 08, loss: -0.06461\n",
      "epoch: 09, loss: -0.06475\n",
      "torch.Size([400, 64])\n"
     ]
    },
    {
     "name": "stderr",
     "output_type": "stream",
     "text": [
      "\r",
      " 33%|████████████████████████████████████████████████████▉                                                                                                          | 333/1000 [2:19:32<4:20:04, 23.40s/it]"
     ]
    },
    {
     "name": "stdout",
     "output_type": "stream",
     "text": [
      "eigenvalues shape torch.Size([5]) eigenvectors shape torch.Size([5, 400])\n",
      "333 /home/phdcs2/Hard_Disk/Datasets/Deep-Spectral-Segmentation/data/object-segmentation/ECSSD/features/dino_vits16/0334.pth\n",
      "dict_keys(['k', 'indices', 'file', 'id', 'model_name', 'patch_size', 'shape'])\n",
      "0334\n",
      "Starting Training\n",
      "epoch: 00, loss: -0.06764\n",
      "epoch: 01, loss: -0.10624\n",
      "epoch: 02, loss: -0.10546\n",
      "epoch: 03, loss: -0.10846\n",
      "epoch: 04, loss: -0.10986\n",
      "epoch: 05, loss: -0.10981\n",
      "epoch: 06, loss: -0.10845\n",
      "epoch: 07, loss: -0.11247\n",
      "epoch: 08, loss: -0.11220\n",
      "epoch: 09, loss: -0.11128\n",
      "torch.Size([450, 64])\n"
     ]
    },
    {
     "name": "stderr",
     "output_type": "stream",
     "text": [
      "\r",
      " 33%|█████████████████████████████████████████████████████                                                                                                          | 334/1000 [2:20:01<4:37:38, 25.01s/it]"
     ]
    },
    {
     "name": "stdout",
     "output_type": "stream",
     "text": [
      "eigenvalues shape torch.Size([5]) eigenvectors shape torch.Size([5, 450])\n",
      "334 /home/phdcs2/Hard_Disk/Datasets/Deep-Spectral-Segmentation/data/object-segmentation/ECSSD/features/dino_vits16/0335.pth\n",
      "dict_keys(['k', 'indices', 'file', 'id', 'model_name', 'patch_size', 'shape'])\n",
      "0335\n",
      "Starting Training\n",
      "epoch: 00, loss: -0.02301\n",
      "epoch: 01, loss: -0.03915\n",
      "epoch: 02, loss: -0.04143\n",
      "epoch: 03, loss: -0.04201\n",
      "epoch: 04, loss: -0.04236\n",
      "epoch: 05, loss: -0.04254\n",
      "epoch: 06, loss: -0.04283\n",
      "epoch: 07, loss: -0.04305\n",
      "epoch: 08, loss: -0.04319\n",
      "epoch: 09, loss: -0.04315\n",
      "torch.Size([400, 64])\n"
     ]
    },
    {
     "name": "stderr",
     "output_type": "stream",
     "text": [
      "\r",
      " 34%|█████████████████████████████████████████████████████▎                                                                                                         | 335/1000 [2:20:22<4:23:16, 23.75s/it]"
     ]
    },
    {
     "name": "stdout",
     "output_type": "stream",
     "text": [
      "eigenvalues shape torch.Size([5]) eigenvectors shape torch.Size([5, 400])\n",
      "335 /home/phdcs2/Hard_Disk/Datasets/Deep-Spectral-Segmentation/data/object-segmentation/ECSSD/features/dino_vits16/0336.pth\n",
      "dict_keys(['k', 'indices', 'file', 'id', 'model_name', 'patch_size', 'shape'])\n",
      "0336\n",
      "Starting Training\n",
      "epoch: 00, loss: -0.12942\n",
      "epoch: 01, loss: -0.14783\n",
      "epoch: 02, loss: -0.14847\n",
      "epoch: 03, loss: -0.14816\n",
      "epoch: 04, loss: -0.14864\n",
      "epoch: 05, loss: -0.14897\n",
      "epoch: 06, loss: -0.14869\n",
      "epoch: 07, loss: -0.14903\n",
      "epoch: 08, loss: -0.14886\n",
      "epoch: 09, loss: -0.14915\n",
      "torch.Size([450, 64])\n"
     ]
    },
    {
     "name": "stderr",
     "output_type": "stream",
     "text": [
      "\r",
      " 34%|█████████████████████████████████████████████████████▍                                                                                                         | 336/1000 [2:20:47<4:28:41, 24.28s/it]"
     ]
    },
    {
     "name": "stdout",
     "output_type": "stream",
     "text": [
      "eigenvalues shape torch.Size([5]) eigenvectors shape torch.Size([5, 450])\n",
      "336 /home/phdcs2/Hard_Disk/Datasets/Deep-Spectral-Segmentation/data/object-segmentation/ECSSD/features/dino_vits16/0337.pth\n",
      "dict_keys(['k', 'indices', 'file', 'id', 'model_name', 'patch_size', 'shape'])\n",
      "0337\n",
      "Starting Training\n",
      "epoch: 00, loss: -0.05098\n",
      "epoch: 01, loss: -0.07428\n",
      "epoch: 02, loss: -0.07560\n",
      "epoch: 03, loss: -0.07657\n",
      "epoch: 04, loss: -0.07969\n",
      "epoch: 05, loss: -0.07828\n",
      "epoch: 06, loss: -0.07798\n",
      "epoch: 07, loss: -0.08082\n",
      "epoch: 08, loss: -0.07999\n",
      "epoch: 09, loss: -0.07947\n",
      "torch.Size([450, 64])\n"
     ]
    },
    {
     "name": "stderr",
     "output_type": "stream",
     "text": [
      "\r",
      " 34%|█████████████████████████████████████████████████████▌                                                                                                         | 337/1000 [2:21:14<4:38:13, 25.18s/it]"
     ]
    },
    {
     "name": "stdout",
     "output_type": "stream",
     "text": [
      "eigenvalues shape torch.Size([5]) eigenvectors shape torch.Size([5, 450])\n",
      "337 /home/phdcs2/Hard_Disk/Datasets/Deep-Spectral-Segmentation/data/object-segmentation/ECSSD/features/dino_vits16/0338.pth\n",
      "dict_keys(['k', 'indices', 'file', 'id', 'model_name', 'patch_size', 'shape'])\n",
      "0338\n",
      "Starting Training\n",
      "epoch: 00, loss: -0.00955\n",
      "epoch: 01, loss: -0.02812\n",
      "epoch: 02, loss: -0.03130\n",
      "epoch: 03, loss: -0.03215\n",
      "epoch: 04, loss: -0.03293\n",
      "epoch: 05, loss: -0.03277\n",
      "epoch: 06, loss: -0.03283\n",
      "epoch: 07, loss: -0.03335\n",
      "epoch: 08, loss: -0.03320\n",
      "epoch: 09, loss: -0.03353\n",
      "torch.Size([450, 64])\n"
     ]
    },
    {
     "name": "stderr",
     "output_type": "stream",
     "text": [
      "\r",
      " 34%|█████████████████████████████████████████████████████▋                                                                                                         | 338/1000 [2:21:38<4:31:57, 24.65s/it]"
     ]
    },
    {
     "name": "stdout",
     "output_type": "stream",
     "text": [
      "eigenvalues shape torch.Size([5]) eigenvectors shape torch.Size([5, 450])\n",
      "338 /home/phdcs2/Hard_Disk/Datasets/Deep-Spectral-Segmentation/data/object-segmentation/ECSSD/features/dino_vits16/0339.pth\n",
      "dict_keys(['k', 'indices', 'file', 'id', 'model_name', 'patch_size', 'shape'])\n",
      "0339\n",
      "Starting Training\n",
      "epoch: 00, loss: -0.09647\n",
      "epoch: 01, loss: -0.11961\n",
      "epoch: 02, loss: -0.12177\n",
      "epoch: 03, loss: -0.12517\n",
      "epoch: 04, loss: -0.12507\n",
      "epoch: 05, loss: -0.12647\n",
      "epoch: 06, loss: -0.12801\n",
      "epoch: 07, loss: -0.12600\n",
      "epoch: 08, loss: -0.12788\n",
      "epoch: 09, loss: -0.12629\n",
      "torch.Size([450, 64])\n"
     ]
    },
    {
     "name": "stderr",
     "output_type": "stream",
     "text": [
      "\r",
      " 34%|█████████████████████████████████████████████████████▉                                                                                                         | 339/1000 [2:21:59<4:19:30, 23.56s/it]"
     ]
    },
    {
     "name": "stdout",
     "output_type": "stream",
     "text": [
      "eigenvalues shape torch.Size([5]) eigenvectors shape torch.Size([5, 450])\n",
      "339 /home/phdcs2/Hard_Disk/Datasets/Deep-Spectral-Segmentation/data/object-segmentation/ECSSD/features/dino_vits16/0340.pth\n",
      "dict_keys(['k', 'indices', 'file', 'id', 'model_name', 'patch_size', 'shape'])\n",
      "0340\n",
      "Starting Training\n",
      "epoch: 00, loss: -0.09577\n",
      "epoch: 01, loss: -0.12499\n",
      "epoch: 02, loss: -0.12893\n",
      "epoch: 03, loss: -0.13032\n",
      "epoch: 04, loss: -0.13157\n",
      "epoch: 05, loss: -0.13048\n",
      "epoch: 06, loss: -0.13454\n",
      "epoch: 07, loss: -0.13487\n",
      "epoch: 08, loss: -0.13202\n",
      "epoch: 09, loss: -0.13381\n",
      "torch.Size([375, 64])\n"
     ]
    },
    {
     "name": "stderr",
     "output_type": "stream",
     "text": [
      "\r",
      " 34%|██████████████████████████████████████████████████████                                                                                                         | 340/1000 [2:22:15<3:54:49, 21.35s/it]"
     ]
    },
    {
     "name": "stdout",
     "output_type": "stream",
     "text": [
      "eigenvalues shape torch.Size([5]) eigenvectors shape torch.Size([5, 375])\n",
      "340 /home/phdcs2/Hard_Disk/Datasets/Deep-Spectral-Segmentation/data/object-segmentation/ECSSD/features/dino_vits16/0341.pth\n",
      "dict_keys(['k', 'indices', 'file', 'id', 'model_name', 'patch_size', 'shape'])\n",
      "0341\n",
      "Starting Training\n",
      "epoch: 00, loss: -0.10221\n",
      "epoch: 01, loss: -0.14531\n",
      "epoch: 02, loss: -0.15298\n",
      "epoch: 03, loss: -0.15628\n",
      "epoch: 04, loss: -0.15582\n",
      "epoch: 05, loss: -0.15768\n",
      "epoch: 06, loss: -0.16009\n",
      "epoch: 07, loss: -0.15675\n",
      "epoch: 08, loss: -0.16249\n",
      "epoch: 09, loss: -0.16277\n",
      "torch.Size([375, 64])\n"
     ]
    },
    {
     "name": "stderr",
     "output_type": "stream",
     "text": [
      "\r",
      " 34%|██████████████████████████████████████████████████████▏                                                                                                        | 341/1000 [2:22:42<4:14:18, 23.15s/it]"
     ]
    },
    {
     "name": "stdout",
     "output_type": "stream",
     "text": [
      "eigenvalues shape torch.Size([5]) eigenvectors shape torch.Size([5, 375])\n",
      "341 /home/phdcs2/Hard_Disk/Datasets/Deep-Spectral-Segmentation/data/object-segmentation/ECSSD/features/dino_vits16/0342.pth\n",
      "dict_keys(['k', 'indices', 'file', 'id', 'model_name', 'patch_size', 'shape'])\n",
      "0342\n",
      "Starting Training\n",
      "epoch: 00, loss: -0.04239\n",
      "epoch: 01, loss: -0.06232\n",
      "epoch: 02, loss: -0.06355\n",
      "epoch: 03, loss: -0.06386\n",
      "epoch: 04, loss: -0.06429\n",
      "epoch: 05, loss: -0.06429\n",
      "epoch: 06, loss: -0.06452\n",
      "epoch: 07, loss: -0.06465\n",
      "epoch: 08, loss: -0.06462\n",
      "epoch: 09, loss: -0.06473\n",
      "torch.Size([450, 64])\n"
     ]
    },
    {
     "name": "stderr",
     "output_type": "stream",
     "text": [
      "\r",
      " 34%|██████████████████████████████████████████████████████▍                                                                                                        | 342/1000 [2:23:13<4:39:44, 25.51s/it]"
     ]
    },
    {
     "name": "stdout",
     "output_type": "stream",
     "text": [
      "eigenvalues shape torch.Size([5]) eigenvectors shape torch.Size([5, 450])\n",
      "342 /home/phdcs2/Hard_Disk/Datasets/Deep-Spectral-Segmentation/data/object-segmentation/ECSSD/features/dino_vits16/0343.pth\n",
      "dict_keys(['k', 'indices', 'file', 'id', 'model_name', 'patch_size', 'shape'])\n",
      "0343\n",
      "Starting Training\n",
      "epoch: 00, loss: -0.00224\n",
      "epoch: 01, loss: -0.01482\n",
      "epoch: 02, loss: -0.01841\n",
      "epoch: 03, loss: -0.01981\n",
      "epoch: 04, loss: -0.02058\n",
      "epoch: 05, loss: -0.02096\n",
      "epoch: 06, loss: -0.02122\n",
      "epoch: 07, loss: -0.02144\n",
      "epoch: 08, loss: -0.02186\n",
      "epoch: 09, loss: -0.02186\n",
      "torch.Size([500, 64])\n"
     ]
    },
    {
     "name": "stderr",
     "output_type": "stream",
     "text": [
      "\r",
      " 34%|██████████████████████████████████████████████████████▌                                                                                                        | 343/1000 [2:23:41<4:47:45, 26.28s/it]"
     ]
    },
    {
     "name": "stdout",
     "output_type": "stream",
     "text": [
      "eigenvalues shape torch.Size([5]) eigenvectors shape torch.Size([5, 500])\n",
      "343 /home/phdcs2/Hard_Disk/Datasets/Deep-Spectral-Segmentation/data/object-segmentation/ECSSD/features/dino_vits16/0344.pth\n",
      "dict_keys(['k', 'indices', 'file', 'id', 'model_name', 'patch_size', 'shape'])\n",
      "0344\n",
      "Starting Training\n",
      "epoch: 00, loss: -0.02689\n",
      "epoch: 01, loss: -0.04999\n",
      "epoch: 02, loss: -0.05524\n",
      "epoch: 03, loss: -0.05305\n",
      "epoch: 04, loss: -0.05788\n",
      "epoch: 05, loss: -0.05798\n",
      "epoch: 06, loss: -0.05777\n",
      "epoch: 07, loss: -0.05653\n",
      "epoch: 08, loss: -0.05629\n",
      "epoch: 09, loss: -0.05818\n",
      "torch.Size([450, 64])\n"
     ]
    },
    {
     "name": "stderr",
     "output_type": "stream",
     "text": [
      "\r",
      " 34%|██████████████████████████████████████████████████████▋                                                                                                        | 344/1000 [2:24:08<4:47:49, 26.33s/it]"
     ]
    },
    {
     "name": "stdout",
     "output_type": "stream",
     "text": [
      "eigenvalues shape torch.Size([5]) eigenvectors shape torch.Size([5, 450])\n",
      "344 /home/phdcs2/Hard_Disk/Datasets/Deep-Spectral-Segmentation/data/object-segmentation/ECSSD/features/dino_vits16/0345.pth\n",
      "dict_keys(['k', 'indices', 'file', 'id', 'model_name', 'patch_size', 'shape'])\n",
      "0345\n",
      "Starting Training\n",
      "epoch: 00, loss: 0.00077\n",
      "epoch: 01, loss: -0.01922\n",
      "epoch: 02, loss: -0.02738\n",
      "epoch: 03, loss: -0.03055\n",
      "epoch: 04, loss: -0.03229\n",
      "epoch: 05, loss: -0.02953\n",
      "epoch: 06, loss: -0.03346\n",
      "epoch: 07, loss: -0.03307\n",
      "epoch: 08, loss: -0.03145\n",
      "epoch: 09, loss: -0.03182\n",
      "torch.Size([500, 64])\n"
     ]
    },
    {
     "name": "stderr",
     "output_type": "stream",
     "text": [
      "\r",
      " 34%|██████████████████████████████████████████████████████▊                                                                                                        | 345/1000 [2:24:39<5:02:14, 27.69s/it]"
     ]
    },
    {
     "name": "stdout",
     "output_type": "stream",
     "text": [
      "eigenvalues shape torch.Size([5]) eigenvectors shape torch.Size([5, 500])\n",
      "345 /home/phdcs2/Hard_Disk/Datasets/Deep-Spectral-Segmentation/data/object-segmentation/ECSSD/features/dino_vits16/0346.pth\n",
      "dict_keys(['k', 'indices', 'file', 'id', 'model_name', 'patch_size', 'shape'])\n",
      "0346\n",
      "Starting Training\n",
      "epoch: 00, loss: -0.04529\n",
      "epoch: 01, loss: -0.06731\n",
      "epoch: 02, loss: -0.07002\n",
      "epoch: 03, loss: -0.07125\n",
      "epoch: 04, loss: -0.07160\n",
      "epoch: 05, loss: -0.07155\n",
      "epoch: 06, loss: -0.07294\n",
      "epoch: 07, loss: -0.07235\n",
      "epoch: 08, loss: -0.07271\n",
      "epoch: 09, loss: -0.07299\n",
      "torch.Size([450, 64])\n"
     ]
    },
    {
     "name": "stderr",
     "output_type": "stream",
     "text": [
      "/home/phdcs2/Hard_Disk/Projects/T2I/deep-spectral-segmentation/venv/lib/python3.8/site-packages/scipy/sparse/linalg/_eigen/arpack/arpack.py:935: LinAlgWarning: Diagonal number 450 is exactly zero. Singular matrix.\n",
      "  self.M_lu = lu_factor(M)\n"
     ]
    },
    {
     "name": "stdout",
     "output_type": "stream",
     "text": [
      " ** On entry to SLASCL parameter number  4 had an illegal value\n",
      " ** On entry to SLASCL parameter number  4 had an illegal value\n"
     ]
    },
    {
     "name": "stderr",
     "output_type": "stream",
     "text": [
      "\r",
      " 35%|███████████████████████████████████████████████████████                                                                                                        | 346/1000 [2:25:14<5:27:45, 30.07s/it]"
     ]
    },
    {
     "name": "stdout",
     "output_type": "stream",
     "text": [
      "eigenvalues shape torch.Size([5]) eigenvectors shape torch.Size([5, 450])\n",
      "346 /home/phdcs2/Hard_Disk/Datasets/Deep-Spectral-Segmentation/data/object-segmentation/ECSSD/features/dino_vits16/0347.pth\n",
      "dict_keys(['k', 'indices', 'file', 'id', 'model_name', 'patch_size', 'shape'])\n",
      "0347\n",
      "Starting Training\n",
      "epoch: 00, loss: -0.00864\n",
      "epoch: 01, loss: -0.02505\n",
      "epoch: 02, loss: -0.02832\n",
      "epoch: 03, loss: -0.02954\n",
      "epoch: 04, loss: -0.02995\n",
      "epoch: 05, loss: -0.03001\n",
      "epoch: 06, loss: -0.03031\n",
      "epoch: 07, loss: -0.03039\n",
      "epoch: 08, loss: -0.03067\n",
      "epoch: 09, loss: -0.03069\n",
      "torch.Size([450, 64])\n"
     ]
    },
    {
     "name": "stderr",
     "output_type": "stream",
     "text": [
      "\r",
      " 35%|███████████████████████████████████████████████████████▏                                                                                                       | 347/1000 [2:25:40<5:13:13, 28.78s/it]"
     ]
    },
    {
     "name": "stdout",
     "output_type": "stream",
     "text": [
      "eigenvalues shape torch.Size([5]) eigenvectors shape torch.Size([5, 450])\n",
      "347 /home/phdcs2/Hard_Disk/Datasets/Deep-Spectral-Segmentation/data/object-segmentation/ECSSD/features/dino_vits16/0348.pth\n",
      "dict_keys(['k', 'indices', 'file', 'id', 'model_name', 'patch_size', 'shape'])\n",
      "0348\n",
      "Starting Training\n",
      "epoch: 00, loss: -0.03518\n",
      "epoch: 01, loss: -0.07500\n",
      "epoch: 02, loss: -0.08382\n",
      "epoch: 03, loss: -0.08423\n",
      "epoch: 04, loss: -0.08669\n",
      "epoch: 05, loss: -0.08528\n",
      "epoch: 06, loss: -0.08419\n",
      "epoch: 07, loss: -0.08666\n",
      "epoch: 08, loss: -0.08841\n",
      "epoch: 09, loss: -0.08613\n",
      "torch.Size([400, 64])\n"
     ]
    },
    {
     "name": "stderr",
     "output_type": "stream",
     "text": [
      "\r",
      " 35%|███████████████████████████████████████████████████████▎                                                                                                       | 348/1000 [2:26:05<5:00:43, 27.67s/it]"
     ]
    },
    {
     "name": "stdout",
     "output_type": "stream",
     "text": [
      "eigenvalues shape torch.Size([5]) eigenvectors shape torch.Size([5, 400])\n",
      "348 /home/phdcs2/Hard_Disk/Datasets/Deep-Spectral-Segmentation/data/object-segmentation/ECSSD/features/dino_vits16/0349.pth\n",
      "dict_keys(['k', 'indices', 'file', 'id', 'model_name', 'patch_size', 'shape'])\n",
      "0349\n",
      "Starting Training\n",
      "epoch: 00, loss: -0.06766\n",
      "epoch: 01, loss: -0.09107\n",
      "epoch: 02, loss: -0.09169\n",
      "epoch: 03, loss: -0.09210\n",
      "epoch: 04, loss: -0.09212\n",
      "epoch: 05, loss: -0.09261\n",
      "epoch: 06, loss: -0.09251\n",
      "epoch: 07, loss: -0.09273\n",
      "epoch: 08, loss: -0.09277\n",
      "epoch: 09, loss: -0.09298\n",
      "torch.Size([400, 64])\n"
     ]
    },
    {
     "name": "stderr",
     "output_type": "stream",
     "text": [
      "\r",
      " 35%|███████████████████████████████████████████████████████▍                                                                                                       | 349/1000 [2:26:29<4:48:31, 26.59s/it]"
     ]
    },
    {
     "name": "stdout",
     "output_type": "stream",
     "text": [
      "eigenvalues shape torch.Size([5]) eigenvectors shape torch.Size([5, 400])\n",
      "349 /home/phdcs2/Hard_Disk/Datasets/Deep-Spectral-Segmentation/data/object-segmentation/ECSSD/features/dino_vits16/0350.pth\n",
      "dict_keys(['k', 'indices', 'file', 'id', 'model_name', 'patch_size', 'shape'])\n",
      "0350\n",
      "Starting Training\n",
      "epoch: 00, loss: -0.02277\n",
      "epoch: 01, loss: -0.04397\n",
      "epoch: 02, loss: -0.04787\n",
      "epoch: 03, loss: -0.04881\n",
      "epoch: 04, loss: -0.04987\n",
      "epoch: 05, loss: -0.05356\n",
      "epoch: 06, loss: -0.05132\n",
      "epoch: 07, loss: -0.05320\n",
      "epoch: 08, loss: -0.05141\n",
      "epoch: 09, loss: -0.05250\n",
      "torch.Size([475, 64])\n"
     ]
    },
    {
     "name": "stderr",
     "output_type": "stream",
     "text": [
      "\r",
      " 35%|███████████████████████████████████████████████████████▋                                                                                                       | 350/1000 [2:26:58<4:53:18, 27.08s/it]"
     ]
    },
    {
     "name": "stdout",
     "output_type": "stream",
     "text": [
      "eigenvalues shape torch.Size([5]) eigenvectors shape torch.Size([5, 475])\n",
      "350 /home/phdcs2/Hard_Disk/Datasets/Deep-Spectral-Segmentation/data/object-segmentation/ECSSD/features/dino_vits16/0351.pth\n",
      "dict_keys(['k', 'indices', 'file', 'id', 'model_name', 'patch_size', 'shape'])\n",
      "0351\n",
      "Starting Training\n",
      "epoch: 00, loss: -0.05763\n",
      "epoch: 01, loss: -0.08308\n",
      "epoch: 02, loss: -0.08482\n",
      "epoch: 03, loss: -0.08732\n",
      "epoch: 04, loss: -0.08836\n",
      "epoch: 05, loss: -0.08909\n",
      "epoch: 06, loss: -0.08818\n",
      "epoch: 07, loss: -0.08799\n",
      "epoch: 08, loss: -0.09003\n",
      "epoch: 09, loss: -0.09048\n",
      "torch.Size([450, 64])\n"
     ]
    },
    {
     "name": "stderr",
     "output_type": "stream",
     "text": [
      "\r",
      " 35%|███████████████████████████████████████████████████████▊                                                                                                       | 351/1000 [2:27:23<4:46:38, 26.50s/it]"
     ]
    },
    {
     "name": "stdout",
     "output_type": "stream",
     "text": [
      "eigenvalues shape torch.Size([5]) eigenvectors shape torch.Size([5, 450])\n",
      "351 /home/phdcs2/Hard_Disk/Datasets/Deep-Spectral-Segmentation/data/object-segmentation/ECSSD/features/dino_vits16/0352.pth\n",
      "dict_keys(['k', 'indices', 'file', 'id', 'model_name', 'patch_size', 'shape'])\n",
      "0352\n",
      "Starting Training\n",
      "epoch: 00, loss: -0.00830\n",
      "epoch: 01, loss: -0.02481\n",
      "epoch: 02, loss: -0.02868\n",
      "epoch: 03, loss: -0.02994\n",
      "epoch: 04, loss: -0.03022\n",
      "epoch: 05, loss: -0.03062\n",
      "epoch: 06, loss: -0.03112\n",
      "epoch: 07, loss: -0.03119\n",
      "epoch: 08, loss: -0.03119\n",
      "epoch: 09, loss: -0.03137\n",
      "torch.Size([400, 64])\n"
     ]
    },
    {
     "name": "stderr",
     "output_type": "stream",
     "text": [
      "\r",
      " 35%|███████████████████████████████████████████████████████▉                                                                                                       | 352/1000 [2:27:46<4:36:47, 25.63s/it]"
     ]
    },
    {
     "name": "stdout",
     "output_type": "stream",
     "text": [
      "eigenvalues shape torch.Size([5]) eigenvectors shape torch.Size([5, 400])\n",
      "352 /home/phdcs2/Hard_Disk/Datasets/Deep-Spectral-Segmentation/data/object-segmentation/ECSSD/features/dino_vits16/0353.pth\n",
      "dict_keys(['k', 'indices', 'file', 'id', 'model_name', 'patch_size', 'shape'])\n",
      "0353\n",
      "Starting Training\n",
      "epoch: 00, loss: -0.02389\n",
      "epoch: 01, loss: -0.04657\n",
      "epoch: 02, loss: -0.04878\n",
      "epoch: 03, loss: -0.05028\n",
      "epoch: 04, loss: -0.04910\n",
      "epoch: 05, loss: -0.05076\n",
      "epoch: 06, loss: -0.05140\n",
      "epoch: 07, loss: -0.05061\n",
      "epoch: 08, loss: -0.04955\n",
      "epoch: 09, loss: -0.05127\n",
      "torch.Size([425, 64])\n"
     ]
    },
    {
     "name": "stderr",
     "output_type": "stream",
     "text": [
      "\r",
      " 35%|████████████████████████████████████████████████████████▏                                                                                                      | 353/1000 [2:28:09<4:26:57, 24.76s/it]"
     ]
    },
    {
     "name": "stdout",
     "output_type": "stream",
     "text": [
      "eigenvalues shape torch.Size([5]) eigenvectors shape torch.Size([5, 425])\n",
      "353 /home/phdcs2/Hard_Disk/Datasets/Deep-Spectral-Segmentation/data/object-segmentation/ECSSD/features/dino_vits16/0354.pth\n",
      "dict_keys(['k', 'indices', 'file', 'id', 'model_name', 'patch_size', 'shape'])\n",
      "0354\n",
      "Starting Training\n",
      "epoch: 00, loss: -0.05911\n",
      "epoch: 01, loss: -0.07345\n",
      "epoch: 02, loss: -0.07438\n",
      "epoch: 03, loss: -0.07462\n",
      "epoch: 04, loss: -0.07463\n",
      "epoch: 05, loss: -0.07477\n",
      "epoch: 06, loss: -0.07375\n",
      "epoch: 07, loss: -0.07374\n",
      "epoch: 08, loss: -0.07389\n",
      "epoch: 09, loss: -0.07400\n",
      "torch.Size([575, 64])\n"
     ]
    },
    {
     "name": "stderr",
     "output_type": "stream",
     "text": [
      "\r",
      " 35%|████████████████████████████████████████████████████████▎                                                                                                      | 354/1000 [2:28:59<5:48:05, 32.33s/it]"
     ]
    },
    {
     "name": "stdout",
     "output_type": "stream",
     "text": [
      "eigenvalues shape torch.Size([5]) eigenvectors shape torch.Size([5, 575])\n",
      "354 /home/phdcs2/Hard_Disk/Datasets/Deep-Spectral-Segmentation/data/object-segmentation/ECSSD/features/dino_vits16/0355.pth\n",
      "dict_keys(['k', 'indices', 'file', 'id', 'model_name', 'patch_size', 'shape'])\n",
      "0355\n",
      "Starting Training\n",
      "epoch: 00, loss: -0.02727\n",
      "epoch: 01, loss: -0.04279\n",
      "epoch: 02, loss: -0.04385\n",
      "epoch: 03, loss: -0.04489\n",
      "epoch: 04, loss: -0.04511\n",
      "epoch: 05, loss: -0.04487\n",
      "epoch: 06, loss: -0.04550\n",
      "epoch: 07, loss: -0.04532\n",
      "epoch: 08, loss: -0.04533\n",
      "epoch: 09, loss: -0.04582\n",
      "torch.Size([450, 64])\n"
     ]
    },
    {
     "name": "stderr",
     "output_type": "stream",
     "text": [
      "\r",
      " 36%|████████████████████████████████████████████████████████▍                                                                                                      | 355/1000 [2:29:29<5:39:31, 31.58s/it]"
     ]
    },
    {
     "name": "stdout",
     "output_type": "stream",
     "text": [
      "eigenvalues shape torch.Size([5]) eigenvectors shape torch.Size([5, 450])\n",
      "355 /home/phdcs2/Hard_Disk/Datasets/Deep-Spectral-Segmentation/data/object-segmentation/ECSSD/features/dino_vits16/0356.pth\n",
      "dict_keys(['k', 'indices', 'file', 'id', 'model_name', 'patch_size', 'shape'])\n",
      "0356\n",
      "Starting Training\n",
      "epoch: 00, loss: -0.00760\n",
      "epoch: 01, loss: -0.02473\n",
      "epoch: 02, loss: -0.03122\n",
      "epoch: 03, loss: -0.03653\n",
      "epoch: 04, loss: -0.03492\n",
      "epoch: 05, loss: -0.03563\n",
      "epoch: 06, loss: -0.03924\n",
      "epoch: 07, loss: -0.03918\n",
      "epoch: 08, loss: -0.03679\n",
      "epoch: 09, loss: -0.03913\n",
      "torch.Size([450, 64])\n"
     ]
    },
    {
     "name": "stderr",
     "output_type": "stream",
     "text": [
      "\r",
      " 36%|████████████████████████████████████████████████████████▌                                                                                                      | 356/1000 [2:29:55<5:21:25, 29.95s/it]"
     ]
    },
    {
     "name": "stdout",
     "output_type": "stream",
     "text": [
      "eigenvalues shape torch.Size([5]) eigenvectors shape torch.Size([5, 450])\n",
      "356 /home/phdcs2/Hard_Disk/Datasets/Deep-Spectral-Segmentation/data/object-segmentation/ECSSD/features/dino_vits16/0357.pth\n",
      "dict_keys(['k', 'indices', 'file', 'id', 'model_name', 'patch_size', 'shape'])\n",
      "0357\n",
      "Starting Training\n",
      "epoch: 00, loss: -0.02954\n",
      "epoch: 01, loss: -0.05327\n",
      "epoch: 02, loss: -0.05653\n",
      "epoch: 03, loss: -0.05739\n",
      "epoch: 04, loss: -0.06140\n",
      "epoch: 05, loss: -0.06033\n",
      "epoch: 06, loss: -0.06151\n",
      "epoch: 07, loss: -0.06265\n",
      "epoch: 08, loss: -0.05889\n",
      "epoch: 09, loss: -0.06213\n",
      "torch.Size([475, 64])\n"
     ]
    },
    {
     "name": "stderr",
     "output_type": "stream",
     "text": [
      "\r",
      " 36%|████████████████████████████████████████████████████████▊                                                                                                      | 357/1000 [2:30:21<5:09:54, 28.92s/it]"
     ]
    },
    {
     "name": "stdout",
     "output_type": "stream",
     "text": [
      "eigenvalues shape torch.Size([5]) eigenvectors shape torch.Size([5, 475])\n",
      "357 /home/phdcs2/Hard_Disk/Datasets/Deep-Spectral-Segmentation/data/object-segmentation/ECSSD/features/dino_vits16/0358.pth\n",
      "dict_keys(['k', 'indices', 'file', 'id', 'model_name', 'patch_size', 'shape'])\n",
      "0358\n",
      "Starting Training\n",
      "epoch: 00, loss: 0.00064\n",
      "epoch: 01, loss: -0.02239\n",
      "epoch: 02, loss: -0.02819\n",
      "epoch: 03, loss: -0.03107\n",
      "epoch: 04, loss: -0.03142\n",
      "epoch: 05, loss: -0.03215\n",
      "epoch: 06, loss: -0.03194\n",
      "epoch: 07, loss: -0.03187\n",
      "epoch: 08, loss: -0.03236\n",
      "epoch: 09, loss: -0.03258\n",
      "torch.Size([400, 64])\n"
     ]
    },
    {
     "name": "stderr",
     "output_type": "stream",
     "text": [
      "\r",
      " 36%|████████████████████████████████████████████████████████▉                                                                                                      | 358/1000 [2:30:44<4:48:08, 26.93s/it]"
     ]
    },
    {
     "name": "stdout",
     "output_type": "stream",
     "text": [
      "eigenvalues shape torch.Size([5]) eigenvectors shape torch.Size([5, 400])\n",
      "358 /home/phdcs2/Hard_Disk/Datasets/Deep-Spectral-Segmentation/data/object-segmentation/ECSSD/features/dino_vits16/0359.pth\n",
      "dict_keys(['k', 'indices', 'file', 'id', 'model_name', 'patch_size', 'shape'])\n",
      "0359\n",
      "Starting Training\n",
      "epoch: 00, loss: -0.01618\n",
      "epoch: 01, loss: -0.04552\n",
      "epoch: 02, loss: -0.04821\n",
      "epoch: 03, loss: -0.05061\n",
      "epoch: 04, loss: -0.05220\n",
      "epoch: 05, loss: -0.05538\n",
      "epoch: 06, loss: -0.05637\n",
      "epoch: 07, loss: -0.05541\n",
      "epoch: 08, loss: -0.05538\n",
      "epoch: 09, loss: -0.05626\n",
      "torch.Size([350, 64])\n"
     ]
    },
    {
     "name": "stderr",
     "output_type": "stream",
     "text": [
      "\r",
      " 36%|█████████████████████████████████████████████████████████                                                                                                      | 359/1000 [2:31:01<4:15:15, 23.89s/it]"
     ]
    },
    {
     "name": "stdout",
     "output_type": "stream",
     "text": [
      "eigenvalues shape torch.Size([5]) eigenvectors shape torch.Size([5, 350])\n",
      "359 /home/phdcs2/Hard_Disk/Datasets/Deep-Spectral-Segmentation/data/object-segmentation/ECSSD/features/dino_vits16/0360.pth\n",
      "dict_keys(['k', 'indices', 'file', 'id', 'model_name', 'patch_size', 'shape'])\n",
      "0360\n",
      "Starting Training\n",
      "epoch: 00, loss: -0.03979\n",
      "epoch: 01, loss: -0.08592\n",
      "epoch: 02, loss: -0.08814\n",
      "epoch: 03, loss: -0.09144\n",
      "epoch: 04, loss: -0.09343\n",
      "epoch: 05, loss: -0.09282\n",
      "epoch: 06, loss: -0.09408\n",
      "epoch: 07, loss: -0.09447\n",
      "epoch: 08, loss: -0.09447\n",
      "epoch: 09, loss: -0.09240\n",
      "torch.Size([400, 64])\n"
     ]
    },
    {
     "name": "stderr",
     "output_type": "stream",
     "text": [
      "\r",
      " 36%|█████████████████████████████████████████████████████████▏                                                                                                     | 360/1000 [2:31:23<4:10:12, 23.46s/it]"
     ]
    },
    {
     "name": "stdout",
     "output_type": "stream",
     "text": [
      "eigenvalues shape torch.Size([5]) eigenvectors shape torch.Size([5, 400])\n",
      "360 /home/phdcs2/Hard_Disk/Datasets/Deep-Spectral-Segmentation/data/object-segmentation/ECSSD/features/dino_vits16/0361.pth\n",
      "dict_keys(['k', 'indices', 'file', 'id', 'model_name', 'patch_size', 'shape'])\n",
      "0361\n",
      "Starting Training\n",
      "epoch: 00, loss: -0.04192\n",
      "epoch: 01, loss: -0.07004\n",
      "epoch: 02, loss: -0.07116\n",
      "epoch: 03, loss: -0.07150\n",
      "epoch: 04, loss: -0.07196\n",
      "epoch: 05, loss: -0.07192\n",
      "epoch: 06, loss: -0.07218\n",
      "epoch: 07, loss: -0.07244\n",
      "epoch: 08, loss: -0.07240\n",
      "epoch: 09, loss: -0.07253\n",
      "torch.Size([400, 64])\n"
     ]
    },
    {
     "name": "stderr",
     "output_type": "stream",
     "text": [
      "\r",
      " 36%|█████████████████████████████████████████████████████████▍                                                                                                     | 361/1000 [2:31:43<3:58:06, 22.36s/it]"
     ]
    },
    {
     "name": "stdout",
     "output_type": "stream",
     "text": [
      "eigenvalues shape torch.Size([5]) eigenvectors shape torch.Size([5, 400])\n",
      "361 /home/phdcs2/Hard_Disk/Datasets/Deep-Spectral-Segmentation/data/object-segmentation/ECSSD/features/dino_vits16/0362.pth\n",
      "dict_keys(['k', 'indices', 'file', 'id', 'model_name', 'patch_size', 'shape'])\n",
      "0362\n",
      "Starting Training\n",
      "epoch: 00, loss: -0.10186\n",
      "epoch: 01, loss: -0.12949\n",
      "epoch: 02, loss: -0.13296\n",
      "epoch: 03, loss: -0.13351\n",
      "epoch: 04, loss: -0.13588\n",
      "epoch: 05, loss: -0.13631\n",
      "epoch: 06, loss: -0.13798\n",
      "epoch: 07, loss: -0.13594\n",
      "epoch: 08, loss: -0.13886\n",
      "epoch: 09, loss: -0.13769\n",
      "torch.Size([500, 64])\n"
     ]
    },
    {
     "name": "stderr",
     "output_type": "stream",
     "text": [
      "\r",
      " 36%|█████████████████████████████████████████████████████████▌                                                                                                     | 362/1000 [2:32:20<4:45:07, 26.81s/it]"
     ]
    },
    {
     "name": "stdout",
     "output_type": "stream",
     "text": [
      "eigenvalues shape torch.Size([5]) eigenvectors shape torch.Size([5, 500])\n",
      "362 /home/phdcs2/Hard_Disk/Datasets/Deep-Spectral-Segmentation/data/object-segmentation/ECSSD/features/dino_vits16/0363.pth\n",
      "dict_keys(['k', 'indices', 'file', 'id', 'model_name', 'patch_size', 'shape'])\n",
      "0363\n",
      "Starting Training\n",
      "epoch: 00, loss: -0.09830\n",
      "epoch: 01, loss: -0.11119\n",
      "epoch: 02, loss: -0.11465\n",
      "epoch: 03, loss: -0.11349\n",
      "epoch: 04, loss: -0.11322\n",
      "epoch: 05, loss: -0.11558\n",
      "epoch: 06, loss: -0.11629\n",
      "epoch: 07, loss: -0.11736\n",
      "epoch: 08, loss: -0.11639\n",
      "epoch: 09, loss: -0.11727\n",
      "torch.Size([625, 64])\n"
     ]
    },
    {
     "name": "stderr",
     "output_type": "stream",
     "text": [
      "\r",
      " 36%|█████████████████████████████████████████████████████████▋                                                                                                     | 363/1000 [2:32:51<4:57:31, 28.02s/it]"
     ]
    },
    {
     "name": "stdout",
     "output_type": "stream",
     "text": [
      "eigenvalues shape torch.Size([5]) eigenvectors shape torch.Size([5, 625])\n",
      "363 /home/phdcs2/Hard_Disk/Datasets/Deep-Spectral-Segmentation/data/object-segmentation/ECSSD/features/dino_vits16/0364.pth\n",
      "dict_keys(['k', 'indices', 'file', 'id', 'model_name', 'patch_size', 'shape'])\n",
      "0364\n",
      "Starting Training\n",
      "epoch: 00, loss: -0.01434\n",
      "epoch: 01, loss: -0.02986\n",
      "epoch: 02, loss: -0.03295\n",
      "epoch: 03, loss: -0.03386\n",
      "epoch: 04, loss: -0.03430\n",
      "epoch: 05, loss: -0.03446\n",
      "epoch: 06, loss: -0.03464\n",
      "epoch: 07, loss: -0.03469\n",
      "epoch: 08, loss: -0.03501\n",
      "epoch: 09, loss: -0.03512\n",
      "torch.Size([450, 64])\n"
     ]
    },
    {
     "name": "stderr",
     "output_type": "stream",
     "text": [
      "\r",
      " 36%|█████████████████████████████████████████████████████████▉                                                                                                     | 364/1000 [2:33:14<4:41:10, 26.53s/it]"
     ]
    },
    {
     "name": "stdout",
     "output_type": "stream",
     "text": [
      "eigenvalues shape torch.Size([5]) eigenvectors shape torch.Size([5, 450])\n",
      "364 /home/phdcs2/Hard_Disk/Datasets/Deep-Spectral-Segmentation/data/object-segmentation/ECSSD/features/dino_vits16/0365.pth\n",
      "dict_keys(['k', 'indices', 'file', 'id', 'model_name', 'patch_size', 'shape'])\n",
      "0365\n",
      "Starting Training\n",
      "epoch: 00, loss: -0.04612\n",
      "epoch: 01, loss: -0.06634\n",
      "epoch: 02, loss: -0.07160\n",
      "epoch: 03, loss: -0.07234\n",
      "epoch: 04, loss: -0.07127\n",
      "epoch: 05, loss: -0.07155\n",
      "epoch: 06, loss: -0.07214\n",
      "epoch: 07, loss: -0.07269\n",
      "epoch: 08, loss: -0.07451\n",
      "epoch: 09, loss: -0.07343\n",
      "torch.Size([450, 64])\n"
     ]
    },
    {
     "name": "stderr",
     "output_type": "stream",
     "text": [
      "\r",
      " 36%|██████████████████████████████████████████████████████████                                                                                                     | 365/1000 [2:33:45<4:55:52, 27.96s/it]"
     ]
    },
    {
     "name": "stdout",
     "output_type": "stream",
     "text": [
      "eigenvalues shape torch.Size([5]) eigenvectors shape torch.Size([5, 450])\n",
      "365 /home/phdcs2/Hard_Disk/Datasets/Deep-Spectral-Segmentation/data/object-segmentation/ECSSD/features/dino_vits16/0366.pth\n",
      "dict_keys(['k', 'indices', 'file', 'id', 'model_name', 'patch_size', 'shape'])\n",
      "0366\n",
      "Starting Training\n",
      "epoch: 00, loss: -0.03988\n",
      "epoch: 01, loss: -0.06748\n",
      "epoch: 02, loss: -0.07471\n",
      "epoch: 03, loss: -0.07620\n",
      "epoch: 04, loss: -0.07848\n",
      "epoch: 05, loss: -0.07934\n",
      "epoch: 06, loss: -0.07910\n",
      "epoch: 07, loss: -0.07718\n",
      "epoch: 08, loss: -0.08029\n",
      "epoch: 09, loss: -0.07966\n",
      "torch.Size([500, 64])\n"
     ]
    },
    {
     "name": "stderr",
     "output_type": "stream",
     "text": [
      "\r",
      " 37%|██████████████████████████████████████████████████████████▏                                                                                                    | 366/1000 [2:34:24<5:30:55, 31.32s/it]"
     ]
    },
    {
     "name": "stdout",
     "output_type": "stream",
     "text": [
      "eigenvalues shape torch.Size([5]) eigenvectors shape torch.Size([5, 500])\n",
      "366 /home/phdcs2/Hard_Disk/Datasets/Deep-Spectral-Segmentation/data/object-segmentation/ECSSD/features/dino_vits16/0367.pth\n",
      "dict_keys(['k', 'indices', 'file', 'id', 'model_name', 'patch_size', 'shape'])\n",
      "0367\n",
      "Starting Training\n",
      "epoch: 00, loss: -0.00731\n",
      "epoch: 01, loss: -0.02628\n",
      "epoch: 02, loss: -0.03197\n",
      "epoch: 03, loss: -0.03376\n",
      "epoch: 04, loss: -0.03444\n",
      "epoch: 05, loss: -0.03454\n",
      "epoch: 06, loss: -0.03462\n",
      "epoch: 07, loss: -0.03521\n",
      "epoch: 08, loss: -0.03563\n",
      "epoch: 09, loss: -0.03560\n",
      "torch.Size([400, 64])\n"
     ]
    },
    {
     "name": "stderr",
     "output_type": "stream",
     "text": [
      "\r",
      " 37%|██████████████████████████████████████████████████████████▎                                                                                                    | 367/1000 [2:34:46<4:58:48, 28.32s/it]"
     ]
    },
    {
     "name": "stdout",
     "output_type": "stream",
     "text": [
      "eigenvalues shape torch.Size([5]) eigenvectors shape torch.Size([5, 400])\n",
      "367 /home/phdcs2/Hard_Disk/Datasets/Deep-Spectral-Segmentation/data/object-segmentation/ECSSD/features/dino_vits16/0368.pth\n",
      "dict_keys(['k', 'indices', 'file', 'id', 'model_name', 'patch_size', 'shape'])\n",
      "0368\n",
      "Starting Training\n",
      "epoch: 00, loss: -0.00860\n",
      "epoch: 01, loss: -0.02386\n",
      "epoch: 02, loss: -0.02746\n",
      "epoch: 03, loss: -0.02933\n",
      "epoch: 04, loss: -0.02920\n",
      "epoch: 05, loss: -0.02983\n",
      "epoch: 06, loss: -0.03007\n",
      "epoch: 07, loss: -0.03096\n",
      "epoch: 08, loss: -0.03072\n",
      "epoch: 09, loss: -0.03122\n",
      "torch.Size([400, 64])\n"
     ]
    },
    {
     "name": "stderr",
     "output_type": "stream",
     "text": [
      "\r",
      " 37%|██████████████████████████████████████████████████████████▌                                                                                                    | 368/1000 [2:35:06<4:34:21, 26.05s/it]"
     ]
    },
    {
     "name": "stdout",
     "output_type": "stream",
     "text": [
      "eigenvalues shape torch.Size([5]) eigenvectors shape torch.Size([5, 400])\n",
      "368 /home/phdcs2/Hard_Disk/Datasets/Deep-Spectral-Segmentation/data/object-segmentation/ECSSD/features/dino_vits16/0369.pth\n",
      "dict_keys(['k', 'indices', 'file', 'id', 'model_name', 'patch_size', 'shape'])\n",
      "0369\n",
      "Starting Training\n",
      "epoch: 00, loss: -0.00174\n",
      "epoch: 01, loss: -0.01777\n",
      "epoch: 02, loss: -0.02308\n",
      "epoch: 03, loss: -0.02457\n",
      "epoch: 04, loss: -0.02541\n",
      "epoch: 05, loss: -0.02596\n",
      "epoch: 06, loss: -0.02632\n",
      "epoch: 07, loss: -0.02631\n",
      "epoch: 08, loss: -0.02668\n",
      "epoch: 09, loss: -0.02685\n",
      "torch.Size([400, 64])\n"
     ]
    },
    {
     "name": "stderr",
     "output_type": "stream",
     "text": [
      "\r",
      " 37%|██████████████████████████████████████████████████████████▋                                                                                                    | 369/1000 [2:35:27<4:17:35, 24.49s/it]"
     ]
    },
    {
     "name": "stdout",
     "output_type": "stream",
     "text": [
      "eigenvalues shape torch.Size([5]) eigenvectors shape torch.Size([5, 400])\n",
      "369 /home/phdcs2/Hard_Disk/Datasets/Deep-Spectral-Segmentation/data/object-segmentation/ECSSD/features/dino_vits16/0370.pth\n",
      "dict_keys(['k', 'indices', 'file', 'id', 'model_name', 'patch_size', 'shape'])\n",
      "0370\n",
      "Starting Training\n",
      "epoch: 00, loss: 0.00497\n",
      "epoch: 01, loss: -0.00578\n",
      "epoch: 02, loss: -0.00854\n",
      "epoch: 03, loss: -0.00801\n",
      "epoch: 04, loss: -0.01035\n",
      "epoch: 05, loss: -0.01200\n",
      "epoch: 06, loss: -0.01057\n",
      "epoch: 07, loss: -0.01265\n",
      "epoch: 08, loss: -0.01238\n",
      "epoch: 09, loss: -0.01374\n",
      "torch.Size([600, 64])\n"
     ]
    },
    {
     "name": "stderr",
     "output_type": "stream",
     "text": [
      "\r",
      " 37%|██████████████████████████████████████████████████████████▊                                                                                                    | 370/1000 [2:36:13<5:25:14, 30.98s/it]"
     ]
    },
    {
     "name": "stdout",
     "output_type": "stream",
     "text": [
      "eigenvalues shape torch.Size([5]) eigenvectors shape torch.Size([5, 600])\n",
      "370 /home/phdcs2/Hard_Disk/Datasets/Deep-Spectral-Segmentation/data/object-segmentation/ECSSD/features/dino_vits16/0371.pth\n",
      "dict_keys(['k', 'indices', 'file', 'id', 'model_name', 'patch_size', 'shape'])\n",
      "0371\n",
      "Starting Training\n",
      "epoch: 00, loss: -0.04697\n",
      "epoch: 01, loss: -0.08028\n",
      "epoch: 02, loss: -0.08504\n",
      "epoch: 03, loss: -0.08541\n",
      "epoch: 04, loss: -0.08767\n",
      "epoch: 05, loss: -0.08644\n",
      "epoch: 06, loss: -0.08895\n",
      "epoch: 07, loss: -0.08861\n",
      "epoch: 08, loss: -0.08869\n",
      "epoch: 09, loss: -0.08900\n",
      "torch.Size([550, 64])\n"
     ]
    },
    {
     "name": "stderr",
     "output_type": "stream",
     "text": [
      "\r",
      " 37%|██████████████████████████████████████████████████████████▉                                                                                                    | 371/1000 [2:37:00<6:12:22, 35.52s/it]"
     ]
    },
    {
     "name": "stdout",
     "output_type": "stream",
     "text": [
      "eigenvalues shape torch.Size([5]) eigenvectors shape torch.Size([5, 550])\n",
      "371 /home/phdcs2/Hard_Disk/Datasets/Deep-Spectral-Segmentation/data/object-segmentation/ECSSD/features/dino_vits16/0372.pth\n",
      "dict_keys(['k', 'indices', 'file', 'id', 'model_name', 'patch_size', 'shape'])\n",
      "0372\n",
      "Starting Training\n",
      "epoch: 00, loss: -0.02577\n",
      "epoch: 01, loss: -0.04642\n",
      "epoch: 02, loss: -0.05202\n",
      "epoch: 03, loss: -0.05172\n",
      "epoch: 04, loss: -0.05392\n",
      "epoch: 05, loss: -0.05308\n",
      "epoch: 06, loss: -0.05380\n",
      "epoch: 07, loss: -0.05392\n",
      "epoch: 08, loss: -0.05492\n",
      "epoch: 09, loss: -0.05593\n",
      "torch.Size([600, 64])\n"
     ]
    },
    {
     "name": "stderr",
     "output_type": "stream",
     "text": [
      "\r",
      " 37%|███████████████████████████████████████████████████████████▏                                                                                                   | 372/1000 [2:37:44<6:38:21, 38.06s/it]"
     ]
    },
    {
     "name": "stdout",
     "output_type": "stream",
     "text": [
      "eigenvalues shape torch.Size([5]) eigenvectors shape torch.Size([5, 600])\n",
      "372 /home/phdcs2/Hard_Disk/Datasets/Deep-Spectral-Segmentation/data/object-segmentation/ECSSD/features/dino_vits16/0373.pth\n",
      "dict_keys(['k', 'indices', 'file', 'id', 'model_name', 'patch_size', 'shape'])\n",
      "0373\n",
      "Starting Training\n",
      "epoch: 00, loss: -0.08501\n",
      "epoch: 01, loss: -0.11010\n",
      "epoch: 02, loss: -0.11459\n",
      "epoch: 03, loss: -0.11560\n",
      "epoch: 04, loss: -0.11640\n",
      "epoch: 05, loss: -0.11563\n",
      "epoch: 06, loss: -0.11624\n",
      "epoch: 07, loss: -0.11670\n",
      "epoch: 08, loss: -0.12046\n",
      "epoch: 09, loss: -0.11779\n",
      "torch.Size([400, 64])\n"
     ]
    },
    {
     "name": "stderr",
     "output_type": "stream",
     "text": [
      "\r",
      " 37%|███████████████████████████████████████████████████████████▎                                                                                                   | 373/1000 [2:38:12<6:06:22, 35.06s/it]"
     ]
    },
    {
     "name": "stdout",
     "output_type": "stream",
     "text": [
      "eigenvalues shape torch.Size([5]) eigenvectors shape torch.Size([5, 400])\n",
      "373 /home/phdcs2/Hard_Disk/Datasets/Deep-Spectral-Segmentation/data/object-segmentation/ECSSD/features/dino_vits16/0374.pth\n",
      "dict_keys(['k', 'indices', 'file', 'id', 'model_name', 'patch_size', 'shape'])\n",
      "0374\n",
      "Starting Training\n",
      "epoch: 00, loss: -0.07522\n",
      "epoch: 01, loss: -0.09668\n",
      "epoch: 02, loss: -0.10163\n",
      "epoch: 03, loss: -0.10077\n",
      "epoch: 04, loss: -0.10724\n",
      "epoch: 05, loss: -0.10476\n",
      "epoch: 06, loss: -0.10712\n",
      "epoch: 07, loss: -0.10461\n",
      "epoch: 08, loss: -0.10400\n",
      "epoch: 09, loss: -0.10607\n",
      "torch.Size([450, 64])\n"
     ]
    },
    {
     "name": "stderr",
     "output_type": "stream",
     "text": [
      "\r",
      " 37%|███████████████████████████████████████████████████████████▍                                                                                                   | 374/1000 [2:38:40<5:43:29, 32.92s/it]"
     ]
    },
    {
     "name": "stdout",
     "output_type": "stream",
     "text": [
      "eigenvalues shape torch.Size([5]) eigenvectors shape torch.Size([5, 450])\n",
      "374 /home/phdcs2/Hard_Disk/Datasets/Deep-Spectral-Segmentation/data/object-segmentation/ECSSD/features/dino_vits16/0375.pth\n",
      "dict_keys(['k', 'indices', 'file', 'id', 'model_name', 'patch_size', 'shape'])\n",
      "0375\n",
      "Starting Training\n",
      "epoch: 00, loss: -0.02759\n",
      "epoch: 01, loss: -0.05078\n",
      "epoch: 02, loss: -0.05204\n",
      "epoch: 03, loss: -0.05179\n",
      "epoch: 04, loss: -0.05205\n",
      "epoch: 05, loss: -0.05245\n",
      "epoch: 06, loss: -0.05316\n",
      "epoch: 07, loss: -0.05310\n",
      "epoch: 08, loss: -0.05424\n",
      "epoch: 09, loss: -0.05280\n",
      "torch.Size([475, 64])\n"
     ]
    },
    {
     "name": "stderr",
     "output_type": "stream",
     "text": [
      "\r",
      " 38%|███████████████████████████████████████████████████████████▋                                                                                                   | 375/1000 [2:39:02<5:11:51, 29.94s/it]"
     ]
    },
    {
     "name": "stdout",
     "output_type": "stream",
     "text": [
      "eigenvalues shape torch.Size([5]) eigenvectors shape torch.Size([5, 475])\n",
      "375 /home/phdcs2/Hard_Disk/Datasets/Deep-Spectral-Segmentation/data/object-segmentation/ECSSD/features/dino_vits16/0376.pth\n",
      "dict_keys(['k', 'indices', 'file', 'id', 'model_name', 'patch_size', 'shape'])\n",
      "0376\n",
      "Starting Training\n",
      "epoch: 00, loss: -0.04380\n",
      "epoch: 01, loss: -0.06165\n",
      "epoch: 02, loss: -0.06232\n",
      "epoch: 03, loss: -0.06150\n",
      "epoch: 04, loss: -0.06268\n",
      "epoch: 05, loss: -0.06171\n",
      "epoch: 06, loss: -0.06228\n",
      "epoch: 07, loss: -0.06312\n",
      "epoch: 08, loss: -0.06333\n",
      "epoch: 09, loss: -0.06324\n",
      "torch.Size([625, 64])\n"
     ]
    },
    {
     "name": "stderr",
     "output_type": "stream",
     "text": [
      "\r",
      " 38%|███████████████████████████████████████████████████████████▊                                                                                                   | 376/1000 [2:39:55<6:21:31, 36.69s/it]"
     ]
    },
    {
     "name": "stdout",
     "output_type": "stream",
     "text": [
      "eigenvalues shape torch.Size([5]) eigenvectors shape torch.Size([5, 625])\n",
      "376 /home/phdcs2/Hard_Disk/Datasets/Deep-Spectral-Segmentation/data/object-segmentation/ECSSD/features/dino_vits16/0377.pth\n",
      "dict_keys(['k', 'indices', 'file', 'id', 'model_name', 'patch_size', 'shape'])\n",
      "0377\n",
      "Starting Training\n",
      "epoch: 00, loss: -0.02976\n",
      "epoch: 01, loss: -0.05838\n",
      "epoch: 02, loss: -0.06406\n",
      "epoch: 03, loss: -0.06720\n",
      "epoch: 04, loss: -0.07178\n",
      "epoch: 05, loss: -0.07052\n",
      "epoch: 06, loss: -0.06939\n",
      "epoch: 07, loss: -0.07182\n",
      "epoch: 08, loss: -0.07234\n",
      "epoch: 09, loss: -0.07142\n",
      "torch.Size([400, 64])\n"
     ]
    },
    {
     "name": "stderr",
     "output_type": "stream",
     "text": [
      "\r",
      " 38%|███████████████████████████████████████████████████████████▉                                                                                                   | 377/1000 [2:40:18<5:39:34, 32.70s/it]"
     ]
    },
    {
     "name": "stdout",
     "output_type": "stream",
     "text": [
      "eigenvalues shape torch.Size([5]) eigenvectors shape torch.Size([5, 400])\n",
      "377 /home/phdcs2/Hard_Disk/Datasets/Deep-Spectral-Segmentation/data/object-segmentation/ECSSD/features/dino_vits16/0378.pth\n",
      "dict_keys(['k', 'indices', 'file', 'id', 'model_name', 'patch_size', 'shape'])\n",
      "0378\n",
      "Starting Training\n",
      "epoch: 00, loss: -0.01290\n",
      "epoch: 01, loss: -0.02906\n",
      "epoch: 02, loss: -0.03270\n",
      "epoch: 03, loss: -0.03339\n",
      "epoch: 04, loss: -0.03366\n",
      "epoch: 05, loss: -0.03430\n",
      "epoch: 06, loss: -0.03451\n",
      "epoch: 07, loss: -0.03489\n",
      "epoch: 08, loss: -0.03456\n",
      "epoch: 09, loss: -0.03468\n",
      "torch.Size([450, 64])\n"
     ]
    },
    {
     "name": "stderr",
     "output_type": "stream",
     "text": [
      "\r",
      " 38%|████████████████████████████████████████████████████████████                                                                                                   | 378/1000 [2:40:44<5:17:02, 30.58s/it]"
     ]
    },
    {
     "name": "stdout",
     "output_type": "stream",
     "text": [
      "eigenvalues shape torch.Size([5]) eigenvectors shape torch.Size([5, 450])\n",
      "378 /home/phdcs2/Hard_Disk/Datasets/Deep-Spectral-Segmentation/data/object-segmentation/ECSSD/features/dino_vits16/0379.pth\n",
      "dict_keys(['k', 'indices', 'file', 'id', 'model_name', 'patch_size', 'shape'])\n",
      "0379\n",
      "Starting Training\n",
      "epoch: 00, loss: -0.08156\n",
      "epoch: 01, loss: -0.11493\n",
      "epoch: 02, loss: -0.11267\n",
      "epoch: 03, loss: -0.12295\n",
      "epoch: 04, loss: -0.12208\n",
      "epoch: 05, loss: -0.12269\n",
      "epoch: 06, loss: -0.12622\n",
      "epoch: 07, loss: -0.11957\n",
      "epoch: 08, loss: -0.12512\n",
      "epoch: 09, loss: -0.12677\n",
      "torch.Size([450, 64])\n"
     ]
    },
    {
     "name": "stderr",
     "output_type": "stream",
     "text": [
      "\r",
      " 38%|████████████████████████████████████████████████████████████▎                                                                                                  | 379/1000 [2:41:11<5:04:44, 29.44s/it]"
     ]
    },
    {
     "name": "stdout",
     "output_type": "stream",
     "text": [
      "eigenvalues shape torch.Size([5]) eigenvectors shape torch.Size([5, 450])\n",
      "379 /home/phdcs2/Hard_Disk/Datasets/Deep-Spectral-Segmentation/data/object-segmentation/ECSSD/features/dino_vits16/0380.pth\n",
      "dict_keys(['k', 'indices', 'file', 'id', 'model_name', 'patch_size', 'shape'])\n",
      "0380\n",
      "Starting Training\n",
      "epoch: 00, loss: -0.00464\n",
      "epoch: 01, loss: -0.02190\n",
      "epoch: 02, loss: -0.02711\n",
      "epoch: 03, loss: -0.02775\n",
      "epoch: 04, loss: -0.02886\n",
      "epoch: 05, loss: -0.02952\n",
      "epoch: 06, loss: -0.02977\n",
      "epoch: 07, loss: -0.02914\n",
      "epoch: 08, loss: -0.02916\n",
      "epoch: 09, loss: -0.02925\n",
      "torch.Size([425, 64])\n"
     ]
    },
    {
     "name": "stderr",
     "output_type": "stream",
     "text": [
      "\r",
      " 38%|████████████████████████████████████████████████████████████▍                                                                                                  | 380/1000 [2:41:34<4:44:11, 27.50s/it]"
     ]
    },
    {
     "name": "stdout",
     "output_type": "stream",
     "text": [
      "eigenvalues shape torch.Size([5]) eigenvectors shape torch.Size([5, 425])\n",
      "380 /home/phdcs2/Hard_Disk/Datasets/Deep-Spectral-Segmentation/data/object-segmentation/ECSSD/features/dino_vits16/0381.pth\n",
      "dict_keys(['k', 'indices', 'file', 'id', 'model_name', 'patch_size', 'shape'])\n",
      "0381\n",
      "Starting Training\n",
      "epoch: 00, loss: -0.02605\n",
      "epoch: 01, loss: -0.05080\n",
      "epoch: 02, loss: -0.05272\n",
      "epoch: 03, loss: -0.05328\n",
      "epoch: 04, loss: -0.05326\n",
      "epoch: 05, loss: -0.05355\n",
      "epoch: 06, loss: -0.05354\n",
      "epoch: 07, loss: -0.05386\n",
      "epoch: 08, loss: -0.05379\n",
      "epoch: 09, loss: -0.05395\n",
      "torch.Size([450, 64])\n"
     ]
    },
    {
     "name": "stderr",
     "output_type": "stream",
     "text": [
      "\r",
      " 38%|████████████████████████████████████████████████████████████▌                                                                                                  | 381/1000 [2:41:55<4:24:46, 25.66s/it]"
     ]
    },
    {
     "name": "stdout",
     "output_type": "stream",
     "text": [
      "eigenvalues shape torch.Size([5]) eigenvectors shape torch.Size([5, 450])\n",
      "381 /home/phdcs2/Hard_Disk/Datasets/Deep-Spectral-Segmentation/data/object-segmentation/ECSSD/features/dino_vits16/0382.pth\n",
      "dict_keys(['k', 'indices', 'file', 'id', 'model_name', 'patch_size', 'shape'])\n",
      "0382\n",
      "Starting Training\n",
      "epoch: 00, loss: -0.00619\n",
      "epoch: 01, loss: -0.02476\n",
      "epoch: 02, loss: -0.03172\n",
      "epoch: 03, loss: -0.03388\n",
      "epoch: 04, loss: -0.03584\n",
      "epoch: 05, loss: -0.03320\n",
      "epoch: 06, loss: -0.03496\n",
      "epoch: 07, loss: -0.03529\n",
      "epoch: 08, loss: -0.03701\n",
      "epoch: 09, loss: -0.03418\n",
      "torch.Size([425, 64])\n"
     ]
    },
    {
     "name": "stderr",
     "output_type": "stream",
     "text": [
      "\r",
      " 38%|████████████████████████████████████████████████████████████▋                                                                                                  | 382/1000 [2:42:15<4:07:14, 24.00s/it]"
     ]
    },
    {
     "name": "stdout",
     "output_type": "stream",
     "text": [
      "eigenvalues shape torch.Size([5]) eigenvectors shape torch.Size([5, 425])\n",
      "382 /home/phdcs2/Hard_Disk/Datasets/Deep-Spectral-Segmentation/data/object-segmentation/ECSSD/features/dino_vits16/0383.pth\n",
      "dict_keys(['k', 'indices', 'file', 'id', 'model_name', 'patch_size', 'shape'])\n",
      "0383\n",
      "Starting Training\n",
      "epoch: 00, loss: -0.01612\n",
      "epoch: 01, loss: -0.03509\n",
      "epoch: 02, loss: -0.03910\n",
      "epoch: 03, loss: -0.04185\n",
      "epoch: 04, loss: -0.04470\n",
      "epoch: 05, loss: -0.04390\n",
      "epoch: 06, loss: -0.04655\n",
      "epoch: 07, loss: -0.04585\n",
      "epoch: 08, loss: -0.04677\n",
      "epoch: 09, loss: -0.04442\n",
      "torch.Size([350, 64])\n"
     ]
    },
    {
     "name": "stderr",
     "output_type": "stream",
     "text": [
      "\r",
      " 38%|████████████████████████████████████████████████████████████▉                                                                                                  | 383/1000 [2:42:34<3:50:54, 22.45s/it]"
     ]
    },
    {
     "name": "stdout",
     "output_type": "stream",
     "text": [
      "eigenvalues shape torch.Size([5]) eigenvectors shape torch.Size([5, 350])\n",
      "383 /home/phdcs2/Hard_Disk/Datasets/Deep-Spectral-Segmentation/data/object-segmentation/ECSSD/features/dino_vits16/0384.pth\n",
      "dict_keys(['k', 'indices', 'file', 'id', 'model_name', 'patch_size', 'shape'])\n",
      "0384\n",
      "Starting Training\n",
      "epoch: 00, loss: -0.05639\n",
      "epoch: 01, loss: -0.07013\n",
      "epoch: 02, loss: -0.06935\n",
      "epoch: 03, loss: -0.06980\n",
      "epoch: 04, loss: -0.07010\n",
      "epoch: 05, loss: -0.07066\n",
      "epoch: 06, loss: -0.07045\n",
      "epoch: 07, loss: -0.07031\n",
      "epoch: 08, loss: -0.07132\n",
      "epoch: 09, loss: -0.07074\n",
      "torch.Size([475, 64])\n"
     ]
    },
    {
     "name": "stderr",
     "output_type": "stream",
     "text": [
      "\r",
      " 38%|█████████████████████████████████████████████████████████████                                                                                                  | 384/1000 [2:43:00<4:01:34, 23.53s/it]"
     ]
    },
    {
     "name": "stdout",
     "output_type": "stream",
     "text": [
      "eigenvalues shape torch.Size([5]) eigenvectors shape torch.Size([5, 475])\n",
      "384 /home/phdcs2/Hard_Disk/Datasets/Deep-Spectral-Segmentation/data/object-segmentation/ECSSD/features/dino_vits16/0385.pth\n",
      "dict_keys(['k', 'indices', 'file', 'id', 'model_name', 'patch_size', 'shape'])\n",
      "0385\n",
      "Starting Training\n",
      "epoch: 00, loss: -0.04686\n",
      "epoch: 01, loss: -0.06055\n",
      "epoch: 02, loss: -0.06119\n",
      "epoch: 03, loss: -0.06179\n",
      "epoch: 04, loss: -0.06193\n",
      "epoch: 05, loss: -0.06217\n",
      "epoch: 06, loss: -0.06208\n",
      "epoch: 07, loss: -0.06243\n",
      "epoch: 08, loss: -0.06241\n",
      "epoch: 09, loss: -0.06253\n",
      "torch.Size([600, 64])\n"
     ]
    },
    {
     "name": "stderr",
     "output_type": "stream",
     "text": [
      "\r",
      " 38%|█████████████████████████████████████████████████████████████▏                                                                                                 | 385/1000 [2:43:44<5:03:48, 29.64s/it]"
     ]
    },
    {
     "name": "stdout",
     "output_type": "stream",
     "text": [
      "eigenvalues shape torch.Size([5]) eigenvectors shape torch.Size([5, 600])\n",
      "385 /home/phdcs2/Hard_Disk/Datasets/Deep-Spectral-Segmentation/data/object-segmentation/ECSSD/features/dino_vits16/0386.pth\n",
      "dict_keys(['k', 'indices', 'file', 'id', 'model_name', 'patch_size', 'shape'])\n",
      "0386\n",
      "Starting Training\n",
      "epoch: 00, loss: -0.02485\n",
      "epoch: 01, loss: -0.04462\n",
      "epoch: 02, loss: -0.04634\n",
      "epoch: 03, loss: -0.04685\n",
      "epoch: 04, loss: -0.04721\n",
      "epoch: 05, loss: -0.04751\n",
      "epoch: 06, loss: -0.04760\n",
      "epoch: 07, loss: -0.04788\n",
      "epoch: 08, loss: -0.04796\n",
      "epoch: 09, loss: -0.04813\n",
      "torch.Size([400, 64])\n"
     ]
    },
    {
     "name": "stderr",
     "output_type": "stream",
     "text": [
      "\r",
      " 39%|█████████████████████████████████████████████████████████████▎                                                                                                 | 386/1000 [2:44:04<4:33:47, 26.75s/it]"
     ]
    },
    {
     "name": "stdout",
     "output_type": "stream",
     "text": [
      "eigenvalues shape torch.Size([5]) eigenvectors shape torch.Size([5, 400])\n",
      "386 /home/phdcs2/Hard_Disk/Datasets/Deep-Spectral-Segmentation/data/object-segmentation/ECSSD/features/dino_vits16/0387.pth\n",
      "dict_keys(['k', 'indices', 'file', 'id', 'model_name', 'patch_size', 'shape'])\n",
      "0387\n",
      "Starting Training\n",
      "epoch: 00, loss: -0.02017\n",
      "epoch: 01, loss: -0.04589\n",
      "epoch: 02, loss: -0.04855\n",
      "epoch: 03, loss: -0.04874\n",
      "epoch: 04, loss: -0.04910\n",
      "epoch: 05, loss: -0.04928\n",
      "epoch: 06, loss: -0.04943\n",
      "epoch: 07, loss: -0.04965\n",
      "epoch: 08, loss: -0.04971\n",
      "epoch: 09, loss: -0.04992\n",
      "torch.Size([450, 64])\n"
     ]
    },
    {
     "name": "stderr",
     "output_type": "stream",
     "text": [
      "\r",
      " 39%|█████████████████████████████████████████████████████████████▌                                                                                                 | 387/1000 [2:44:27<4:20:31, 25.50s/it]"
     ]
    },
    {
     "name": "stdout",
     "output_type": "stream",
     "text": [
      "eigenvalues shape torch.Size([5]) eigenvectors shape torch.Size([5, 450])\n",
      "387 /home/phdcs2/Hard_Disk/Datasets/Deep-Spectral-Segmentation/data/object-segmentation/ECSSD/features/dino_vits16/0388.pth\n",
      "dict_keys(['k', 'indices', 'file', 'id', 'model_name', 'patch_size', 'shape'])\n",
      "0388\n",
      "Starting Training\n",
      "epoch: 00, loss: -0.00625\n",
      "epoch: 01, loss: -0.02897\n",
      "epoch: 02, loss: -0.03643\n",
      "epoch: 03, loss: -0.03694\n",
      "epoch: 04, loss: -0.04054\n",
      "epoch: 05, loss: -0.04004\n",
      "epoch: 06, loss: -0.03974\n",
      "epoch: 07, loss: -0.03861\n",
      "epoch: 08, loss: -0.04157\n",
      "epoch: 09, loss: -0.04287\n",
      "torch.Size([500, 64])\n"
     ]
    },
    {
     "name": "stderr",
     "output_type": "stream",
     "text": [
      "\r",
      " 39%|█████████████████████████████████████████████████████████████▋                                                                                                 | 388/1000 [2:44:55<4:28:08, 26.29s/it]"
     ]
    },
    {
     "name": "stdout",
     "output_type": "stream",
     "text": [
      "eigenvalues shape torch.Size([5]) eigenvectors shape torch.Size([5, 500])\n",
      "388 /home/phdcs2/Hard_Disk/Datasets/Deep-Spectral-Segmentation/data/object-segmentation/ECSSD/features/dino_vits16/0389.pth\n",
      "dict_keys(['k', 'indices', 'file', 'id', 'model_name', 'patch_size', 'shape'])\n",
      "0389\n",
      "Starting Training\n",
      "epoch: 00, loss: -0.06172\n",
      "epoch: 01, loss: -0.09120\n",
      "epoch: 02, loss: -0.09745\n",
      "epoch: 03, loss: -0.10065\n",
      "epoch: 04, loss: -0.10111\n",
      "epoch: 05, loss: -0.10051\n",
      "epoch: 06, loss: -0.10382\n",
      "epoch: 07, loss: -0.10229\n",
      "epoch: 08, loss: -0.10335\n",
      "epoch: 09, loss: -0.10411\n",
      "torch.Size([450, 64])\n"
     ]
    },
    {
     "name": "stderr",
     "output_type": "stream",
     "text": [
      "\r",
      " 39%|█████████████████████████████████████████████████████████████▊                                                                                                 | 389/1000 [2:45:26<4:41:50, 27.68s/it]"
     ]
    },
    {
     "name": "stdout",
     "output_type": "stream",
     "text": [
      "eigenvalues shape torch.Size([5]) eigenvectors shape torch.Size([5, 450])\n",
      "389 /home/phdcs2/Hard_Disk/Datasets/Deep-Spectral-Segmentation/data/object-segmentation/ECSSD/features/dino_vits16/0390.pth\n",
      "dict_keys(['k', 'indices', 'file', 'id', 'model_name', 'patch_size', 'shape'])\n",
      "0390\n",
      "Starting Training\n",
      "epoch: 00, loss: -0.03446\n",
      "epoch: 01, loss: -0.06396\n",
      "epoch: 02, loss: -0.07100\n",
      "epoch: 03, loss: -0.07361\n",
      "epoch: 04, loss: -0.07192\n",
      "epoch: 05, loss: -0.07367\n",
      "epoch: 06, loss: -0.07321\n",
      "epoch: 07, loss: -0.07356\n",
      "epoch: 08, loss: -0.07548\n",
      "epoch: 09, loss: -0.07642\n",
      "torch.Size([450, 64])\n"
     ]
    },
    {
     "name": "stderr",
     "output_type": "stream",
     "text": [
      "\r",
      " 39%|██████████████████████████████████████████████████████████████                                                                                                 | 390/1000 [2:45:50<4:30:59, 26.65s/it]"
     ]
    },
    {
     "name": "stdout",
     "output_type": "stream",
     "text": [
      "eigenvalues shape torch.Size([5]) eigenvectors shape torch.Size([5, 450])\n",
      "390 /home/phdcs2/Hard_Disk/Datasets/Deep-Spectral-Segmentation/data/object-segmentation/ECSSD/features/dino_vits16/0391.pth\n",
      "dict_keys(['k', 'indices', 'file', 'id', 'model_name', 'patch_size', 'shape'])\n",
      "0391\n",
      "Starting Training\n",
      "epoch: 00, loss: -0.01988\n",
      "epoch: 01, loss: -0.04646\n",
      "epoch: 02, loss: -0.04934\n",
      "epoch: 03, loss: -0.04994\n",
      "epoch: 04, loss: -0.05046\n",
      "epoch: 05, loss: -0.05068\n",
      "epoch: 06, loss: -0.05081\n",
      "epoch: 07, loss: -0.05103\n",
      "epoch: 08, loss: -0.05109\n",
      "epoch: 09, loss: -0.05114\n",
      "torch.Size([400, 64])\n"
     ]
    },
    {
     "name": "stderr",
     "output_type": "stream",
     "text": [
      "\r",
      " 39%|██████████████████████████████████████████████████████████████▏                                                                                                | 391/1000 [2:46:16<4:28:44, 26.48s/it]"
     ]
    },
    {
     "name": "stdout",
     "output_type": "stream",
     "text": [
      "eigenvalues shape torch.Size([5]) eigenvectors shape torch.Size([5, 400])\n",
      "391 /home/phdcs2/Hard_Disk/Datasets/Deep-Spectral-Segmentation/data/object-segmentation/ECSSD/features/dino_vits16/0392.pth\n",
      "dict_keys(['k', 'indices', 'file', 'id', 'model_name', 'patch_size', 'shape'])\n",
      "0392\n",
      "Starting Training\n",
      "epoch: 00, loss: -0.05429\n",
      "epoch: 01, loss: -0.08342\n",
      "epoch: 02, loss: -0.09308\n",
      "epoch: 03, loss: -0.09343\n",
      "epoch: 04, loss: -0.09501\n",
      "epoch: 05, loss: -0.09688\n",
      "epoch: 06, loss: -0.09781\n",
      "epoch: 07, loss: -0.09831\n",
      "epoch: 08, loss: -0.09758\n",
      "epoch: 09, loss: -0.09832\n",
      "torch.Size([400, 64])\n"
     ]
    },
    {
     "name": "stderr",
     "output_type": "stream",
     "text": [
      "\r",
      " 39%|██████████████████████████████████████████████████████████████▎                                                                                                | 392/1000 [2:46:35<4:05:54, 24.27s/it]"
     ]
    },
    {
     "name": "stdout",
     "output_type": "stream",
     "text": [
      "eigenvalues shape torch.Size([5]) eigenvectors shape torch.Size([5, 400])\n",
      "392 /home/phdcs2/Hard_Disk/Datasets/Deep-Spectral-Segmentation/data/object-segmentation/ECSSD/features/dino_vits16/0393.pth\n",
      "dict_keys(['k', 'indices', 'file', 'id', 'model_name', 'patch_size', 'shape'])\n",
      "0393\n",
      "Starting Training\n",
      "epoch: 00, loss: -0.03264\n",
      "epoch: 01, loss: -0.05802\n",
      "epoch: 02, loss: -0.06128\n",
      "epoch: 03, loss: -0.06350\n",
      "epoch: 04, loss: -0.06452\n",
      "epoch: 05, loss: -0.06307\n",
      "epoch: 06, loss: -0.06343\n",
      "epoch: 07, loss: -0.06592\n",
      "epoch: 08, loss: -0.06497\n",
      "epoch: 09, loss: -0.06447\n",
      "torch.Size([400, 64])\n"
     ]
    },
    {
     "name": "stderr",
     "output_type": "stream",
     "text": [
      "\r",
      " 39%|██████████████████████████████████████████████████████████████▍                                                                                                | 393/1000 [2:46:59<4:03:02, 24.02s/it]"
     ]
    },
    {
     "name": "stdout",
     "output_type": "stream",
     "text": [
      "eigenvalues shape torch.Size([5]) eigenvectors shape torch.Size([5, 400])\n",
      "393 /home/phdcs2/Hard_Disk/Datasets/Deep-Spectral-Segmentation/data/object-segmentation/ECSSD/features/dino_vits16/0394.pth\n",
      "dict_keys(['k', 'indices', 'file', 'id', 'model_name', 'patch_size', 'shape'])\n",
      "0394\n",
      "Starting Training\n",
      "epoch: 00, loss: -0.03277\n",
      "epoch: 01, loss: -0.06166\n",
      "epoch: 02, loss: -0.06753\n",
      "epoch: 03, loss: -0.07284\n",
      "epoch: 04, loss: -0.06905\n",
      "epoch: 05, loss: -0.07191\n",
      "epoch: 06, loss: -0.07395\n",
      "epoch: 07, loss: -0.07171\n",
      "epoch: 08, loss: -0.07493\n",
      "epoch: 09, loss: -0.07227\n",
      "torch.Size([400, 64])\n"
     ]
    },
    {
     "name": "stderr",
     "output_type": "stream",
     "text": [
      "\r",
      " 39%|██████████████████████████████████████████████████████████████▋                                                                                                | 394/1000 [2:47:19<3:50:56, 22.87s/it]"
     ]
    },
    {
     "name": "stdout",
     "output_type": "stream",
     "text": [
      "eigenvalues shape torch.Size([5]) eigenvectors shape torch.Size([5, 400])\n",
      "394 /home/phdcs2/Hard_Disk/Datasets/Deep-Spectral-Segmentation/data/object-segmentation/ECSSD/features/dino_vits16/0395.pth\n",
      "dict_keys(['k', 'indices', 'file', 'id', 'model_name', 'patch_size', 'shape'])\n",
      "0395\n",
      "Starting Training\n",
      "epoch: 00, loss: -0.03791\n",
      "epoch: 01, loss: -0.07144\n",
      "epoch: 02, loss: -0.07980\n",
      "epoch: 03, loss: -0.08124\n",
      "epoch: 04, loss: -0.08141\n",
      "epoch: 05, loss: -0.08438\n",
      "epoch: 06, loss: -0.08133\n",
      "epoch: 07, loss: -0.08375\n",
      "epoch: 08, loss: -0.08510\n",
      "epoch: 09, loss: -0.08534\n",
      "torch.Size([400, 64])\n"
     ]
    },
    {
     "name": "stderr",
     "output_type": "stream",
     "text": [
      "\r",
      " 40%|██████████████████████████████████████████████████████████████▊                                                                                                | 395/1000 [2:47:44<3:56:42, 23.47s/it]"
     ]
    },
    {
     "name": "stdout",
     "output_type": "stream",
     "text": [
      "eigenvalues shape torch.Size([5]) eigenvectors shape torch.Size([5, 400])\n",
      "395 /home/phdcs2/Hard_Disk/Datasets/Deep-Spectral-Segmentation/data/object-segmentation/ECSSD/features/dino_vits16/0396.pth\n",
      "dict_keys(['k', 'indices', 'file', 'id', 'model_name', 'patch_size', 'shape'])\n",
      "0396\n",
      "Starting Training\n",
      "epoch: 00, loss: -0.16253\n",
      "epoch: 01, loss: -0.19162\n",
      "epoch: 02, loss: -0.19427\n",
      "epoch: 03, loss: -0.19762\n",
      "epoch: 04, loss: -0.19748\n",
      "epoch: 05, loss: -0.19926\n",
      "epoch: 06, loss: -0.20115\n",
      "epoch: 07, loss: -0.19865\n",
      "epoch: 08, loss: -0.20062\n",
      "epoch: 09, loss: -0.20207\n",
      "torch.Size([450, 64])\n"
     ]
    },
    {
     "name": "stderr",
     "output_type": "stream",
     "text": [
      "\r",
      " 40%|██████████████████████████████████████████████████████████████▉                                                                                                | 396/1000 [2:48:06<3:53:36, 23.21s/it]"
     ]
    },
    {
     "name": "stdout",
     "output_type": "stream",
     "text": [
      "eigenvalues shape torch.Size([5]) eigenvectors shape torch.Size([5, 450])\n",
      "396 /home/phdcs2/Hard_Disk/Datasets/Deep-Spectral-Segmentation/data/object-segmentation/ECSSD/features/dino_vits16/0397.pth\n",
      "dict_keys(['k', 'indices', 'file', 'id', 'model_name', 'patch_size', 'shape'])\n",
      "0397\n",
      "Starting Training\n",
      "epoch: 00, loss: -0.02568\n",
      "epoch: 01, loss: -0.05048\n",
      "epoch: 02, loss: -0.05265\n",
      "epoch: 03, loss: -0.05369\n",
      "epoch: 04, loss: -0.05426\n",
      "epoch: 05, loss: -0.05414\n",
      "epoch: 06, loss: -0.05406\n",
      "epoch: 07, loss: -0.05422\n",
      "epoch: 08, loss: -0.05449\n",
      "epoch: 09, loss: -0.05453\n",
      "torch.Size([400, 64])\n"
     ]
    },
    {
     "name": "stderr",
     "output_type": "stream",
     "text": [
      "\r",
      " 40%|███████████████████████████████████████████████████████████████                                                                                                | 397/1000 [2:48:27<3:46:56, 22.58s/it]"
     ]
    },
    {
     "name": "stdout",
     "output_type": "stream",
     "text": [
      "eigenvalues shape torch.Size([5]) eigenvectors shape torch.Size([5, 400])\n",
      "397 /home/phdcs2/Hard_Disk/Datasets/Deep-Spectral-Segmentation/data/object-segmentation/ECSSD/features/dino_vits16/0398.pth\n",
      "dict_keys(['k', 'indices', 'file', 'id', 'model_name', 'patch_size', 'shape'])\n",
      "0398\n",
      "Starting Training\n",
      "epoch: 00, loss: -0.06358\n",
      "epoch: 01, loss: -0.09426\n",
      "epoch: 02, loss: -0.10094\n",
      "epoch: 03, loss: -0.10393\n",
      "epoch: 04, loss: -0.10474\n",
      "epoch: 05, loss: -0.10492\n",
      "epoch: 06, loss: -0.10222\n",
      "epoch: 07, loss: -0.10569\n",
      "epoch: 08, loss: -0.10422\n",
      "epoch: 09, loss: -0.10586\n",
      "torch.Size([400, 64])\n"
     ]
    },
    {
     "name": "stderr",
     "output_type": "stream",
     "text": [
      "\r",
      " 40%|███████████████████████████████████████████████████████████████▎                                                                                               | 398/1000 [2:48:47<3:36:36, 21.59s/it]"
     ]
    },
    {
     "name": "stdout",
     "output_type": "stream",
     "text": [
      "eigenvalues shape torch.Size([5]) eigenvectors shape torch.Size([5, 400])\n",
      "398 /home/phdcs2/Hard_Disk/Datasets/Deep-Spectral-Segmentation/data/object-segmentation/ECSSD/features/dino_vits16/0399.pth\n",
      "dict_keys(['k', 'indices', 'file', 'id', 'model_name', 'patch_size', 'shape'])\n",
      "0399\n",
      "Starting Training\n",
      "epoch: 00, loss: -0.02680\n",
      "epoch: 01, loss: -0.05632\n",
      "epoch: 02, loss: -0.05894\n",
      "epoch: 03, loss: -0.05971\n",
      "epoch: 04, loss: -0.06026\n",
      "epoch: 05, loss: -0.06063\n",
      "epoch: 06, loss: -0.06112\n",
      "epoch: 07, loss: -0.06124\n",
      "epoch: 08, loss: -0.06129\n",
      "epoch: 09, loss: -0.06120\n",
      "torch.Size([400, 64])\n"
     ]
    },
    {
     "name": "stderr",
     "output_type": "stream",
     "text": [
      "\r",
      " 40%|███████████████████████████████████████████████████████████████▍                                                                                               | 399/1000 [2:49:06<3:29:08, 20.88s/it]"
     ]
    },
    {
     "name": "stdout",
     "output_type": "stream",
     "text": [
      "eigenvalues shape torch.Size([5]) eigenvectors shape torch.Size([5, 400])\n",
      "399 /home/phdcs2/Hard_Disk/Datasets/Deep-Spectral-Segmentation/data/object-segmentation/ECSSD/features/dino_vits16/0400.pth\n",
      "dict_keys(['k', 'indices', 'file', 'id', 'model_name', 'patch_size', 'shape'])\n",
      "0400\n",
      "Starting Training\n",
      "epoch: 00, loss: -0.02151\n",
      "epoch: 01, loss: -0.05055\n",
      "epoch: 02, loss: -0.05644\n",
      "epoch: 03, loss: -0.05802\n",
      "epoch: 04, loss: -0.05861\n",
      "epoch: 05, loss: -0.06086\n",
      "epoch: 06, loss: -0.05958\n",
      "epoch: 07, loss: -0.06249\n",
      "epoch: 08, loss: -0.06139\n",
      "epoch: 09, loss: -0.06214\n",
      "torch.Size([400, 64])\n"
     ]
    },
    {
     "name": "stderr",
     "output_type": "stream",
     "text": [
      "\r",
      " 40%|███████████████████████████████████████████████████████████████▌                                                                                               | 400/1000 [2:49:26<3:27:16, 20.73s/it]"
     ]
    },
    {
     "name": "stdout",
     "output_type": "stream",
     "text": [
      "eigenvalues shape torch.Size([5]) eigenvectors shape torch.Size([5, 400])\n",
      "400 /home/phdcs2/Hard_Disk/Datasets/Deep-Spectral-Segmentation/data/object-segmentation/ECSSD/features/dino_vits16/0401.pth\n",
      "dict_keys(['k', 'indices', 'file', 'id', 'model_name', 'patch_size', 'shape'])\n",
      "0401\n",
      "Starting Training\n",
      "epoch: 00, loss: -0.07934\n",
      "epoch: 01, loss: -0.10254\n",
      "epoch: 02, loss: -0.10595\n",
      "epoch: 03, loss: -0.11123\n",
      "epoch: 04, loss: -0.11236\n",
      "epoch: 05, loss: -0.11275\n",
      "epoch: 06, loss: -0.11357\n",
      "epoch: 07, loss: -0.11256\n",
      "epoch: 08, loss: -0.11397\n",
      "epoch: 09, loss: -0.11307\n",
      "torch.Size([400, 64])\n"
     ]
    },
    {
     "name": "stderr",
     "output_type": "stream",
     "text": [
      "\r",
      " 40%|███████████████████████████████████████████████████████████████▊                                                                                               | 401/1000 [2:49:47<3:27:45, 20.81s/it]"
     ]
    },
    {
     "name": "stdout",
     "output_type": "stream",
     "text": [
      "eigenvalues shape torch.Size([5]) eigenvectors shape torch.Size([5, 400])\n",
      "401 /home/phdcs2/Hard_Disk/Datasets/Deep-Spectral-Segmentation/data/object-segmentation/ECSSD/features/dino_vits16/0402.pth\n",
      "dict_keys(['k', 'indices', 'file', 'id', 'model_name', 'patch_size', 'shape'])\n",
      "0402\n",
      "Starting Training\n",
      "epoch: 00, loss: -0.02411\n",
      "epoch: 01, loss: -0.04203\n",
      "epoch: 02, loss: -0.04499\n",
      "epoch: 03, loss: -0.04548\n",
      "epoch: 04, loss: -0.04597\n",
      "epoch: 05, loss: -0.04612\n",
      "epoch: 06, loss: -0.04633\n",
      "epoch: 07, loss: -0.04641\n",
      "epoch: 08, loss: -0.04662\n",
      "epoch: 09, loss: -0.04672\n",
      "torch.Size([400, 64])\n"
     ]
    },
    {
     "name": "stderr",
     "output_type": "stream",
     "text": [
      "\r",
      " 40%|███████████████████████████████████████████████████████████████▉                                                                                               | 402/1000 [2:50:13<3:41:07, 22.19s/it]"
     ]
    },
    {
     "name": "stdout",
     "output_type": "stream",
     "text": [
      "eigenvalues shape torch.Size([5]) eigenvectors shape torch.Size([5, 400])\n",
      "402 /home/phdcs2/Hard_Disk/Datasets/Deep-Spectral-Segmentation/data/object-segmentation/ECSSD/features/dino_vits16/0403.pth\n",
      "dict_keys(['k', 'indices', 'file', 'id', 'model_name', 'patch_size', 'shape'])\n",
      "0403\n",
      "Starting Training\n",
      "epoch: 00, loss: -0.02730\n",
      "epoch: 01, loss: -0.06430\n",
      "epoch: 02, loss: -0.07015\n",
      "epoch: 03, loss: -0.07431\n",
      "epoch: 04, loss: -0.07551\n",
      "epoch: 05, loss: -0.07660\n",
      "epoch: 06, loss: -0.07366\n",
      "epoch: 07, loss: -0.07540\n",
      "epoch: 08, loss: -0.07718\n",
      "epoch: 09, loss: -0.07815\n",
      "torch.Size([400, 64])\n"
     ]
    },
    {
     "name": "stderr",
     "output_type": "stream",
     "text": [
      "\r",
      " 40%|████████████████████████████████████████████████████████████████                                                                                               | 403/1000 [2:50:33<3:36:41, 21.78s/it]"
     ]
    },
    {
     "name": "stdout",
     "output_type": "stream",
     "text": [
      "eigenvalues shape torch.Size([5]) eigenvectors shape torch.Size([5, 400])\n",
      "403 /home/phdcs2/Hard_Disk/Datasets/Deep-Spectral-Segmentation/data/object-segmentation/ECSSD/features/dino_vits16/0404.pth\n",
      "dict_keys(['k', 'indices', 'file', 'id', 'model_name', 'patch_size', 'shape'])\n",
      "0404\n",
      "Starting Training\n",
      "epoch: 00, loss: -0.01474\n",
      "epoch: 01, loss: -0.03534\n",
      "epoch: 02, loss: -0.03888\n",
      "epoch: 03, loss: -0.03964\n",
      "epoch: 04, loss: -0.04027\n",
      "epoch: 05, loss: -0.04024\n",
      "epoch: 06, loss: -0.04047\n",
      "epoch: 07, loss: -0.04057\n",
      "epoch: 08, loss: -0.04072\n",
      "epoch: 09, loss: -0.04089\n",
      "torch.Size([400, 64])\n"
     ]
    },
    {
     "name": "stderr",
     "output_type": "stream",
     "text": [
      "\r",
      " 40%|████████████████████████████████████████████████████████████████▏                                                                                              | 404/1000 [2:50:58<3:45:05, 22.66s/it]"
     ]
    },
    {
     "name": "stdout",
     "output_type": "stream",
     "text": [
      "eigenvalues shape torch.Size([5]) eigenvectors shape torch.Size([5, 400])\n",
      "404 /home/phdcs2/Hard_Disk/Datasets/Deep-Spectral-Segmentation/data/object-segmentation/ECSSD/features/dino_vits16/0405.pth\n",
      "dict_keys(['k', 'indices', 'file', 'id', 'model_name', 'patch_size', 'shape'])\n",
      "0405\n",
      "Starting Training\n",
      "epoch: 00, loss: -0.01804\n",
      "epoch: 01, loss: -0.04066\n",
      "epoch: 02, loss: -0.04252\n",
      "epoch: 03, loss: -0.04508\n",
      "epoch: 04, loss: -0.04540\n",
      "epoch: 05, loss: -0.04669\n",
      "epoch: 06, loss: -0.04679\n",
      "epoch: 07, loss: -0.04772\n",
      "epoch: 08, loss: -0.04721\n",
      "epoch: 09, loss: -0.04680\n",
      "torch.Size([400, 64])\n"
     ]
    },
    {
     "name": "stderr",
     "output_type": "stream",
     "text": [
      "\r",
      " 40%|████████████████████████████████████████████████████████████████▍                                                                                              | 405/1000 [2:51:23<3:52:10, 23.41s/it]"
     ]
    },
    {
     "name": "stdout",
     "output_type": "stream",
     "text": [
      "eigenvalues shape torch.Size([5]) eigenvectors shape torch.Size([5, 400])\n",
      "405 /home/phdcs2/Hard_Disk/Datasets/Deep-Spectral-Segmentation/data/object-segmentation/ECSSD/features/dino_vits16/0406.pth\n",
      "dict_keys(['k', 'indices', 'file', 'id', 'model_name', 'patch_size', 'shape'])\n",
      "0406\n",
      "Starting Training\n",
      "epoch: 00, loss: -0.02956\n",
      "epoch: 01, loss: -0.05847\n",
      "epoch: 02, loss: -0.05958\n",
      "epoch: 03, loss: -0.06053\n",
      "epoch: 04, loss: -0.06085\n",
      "epoch: 05, loss: -0.06125\n",
      "epoch: 06, loss: -0.06071\n",
      "epoch: 07, loss: -0.06131\n",
      "epoch: 08, loss: -0.06110\n",
      "epoch: 09, loss: -0.06146\n",
      "torch.Size([400, 64])\n"
     ]
    },
    {
     "name": "stderr",
     "output_type": "stream",
     "text": [
      "\r",
      " 41%|████████████████████████████████████████████████████████████████▌                                                                                              | 406/1000 [2:51:46<3:50:25, 23.27s/it]"
     ]
    },
    {
     "name": "stdout",
     "output_type": "stream",
     "text": [
      "eigenvalues shape torch.Size([5]) eigenvectors shape torch.Size([5, 400])\n",
      "406 /home/phdcs2/Hard_Disk/Datasets/Deep-Spectral-Segmentation/data/object-segmentation/ECSSD/features/dino_vits16/0407.pth\n",
      "dict_keys(['k', 'indices', 'file', 'id', 'model_name', 'patch_size', 'shape'])\n",
      "0407\n",
      "Starting Training\n",
      "epoch: 00, loss: 0.00413\n",
      "epoch: 01, loss: -0.00313\n",
      "epoch: 02, loss: -0.00572\n",
      "epoch: 03, loss: -0.00808\n",
      "epoch: 04, loss: -0.00910\n",
      "epoch: 05, loss: -0.01026\n",
      "epoch: 06, loss: -0.01096\n",
      "epoch: 07, loss: -0.01146\n",
      "epoch: 08, loss: -0.01179\n",
      "epoch: 09, loss: -0.01188\n",
      "torch.Size([400, 64])\n"
     ]
    },
    {
     "name": "stderr",
     "output_type": "stream",
     "text": [
      "\r",
      " 41%|████████████████████████████████████████████████████████████████▋                                                                                              | 407/1000 [2:52:12<3:57:41, 24.05s/it]"
     ]
    },
    {
     "name": "stdout",
     "output_type": "stream",
     "text": [
      "eigenvalues shape torch.Size([5]) eigenvectors shape torch.Size([5, 400])\n",
      "407 /home/phdcs2/Hard_Disk/Datasets/Deep-Spectral-Segmentation/data/object-segmentation/ECSSD/features/dino_vits16/0408.pth\n",
      "dict_keys(['k', 'indices', 'file', 'id', 'model_name', 'patch_size', 'shape'])\n",
      "0408\n",
      "Starting Training\n",
      "epoch: 00, loss: -0.01830\n",
      "epoch: 01, loss: -0.04572\n",
      "epoch: 02, loss: -0.05103\n",
      "epoch: 03, loss: -0.05259\n",
      "epoch: 04, loss: -0.05346\n",
      "epoch: 05, loss: -0.05670\n",
      "epoch: 06, loss: -0.05640\n",
      "epoch: 07, loss: -0.05810\n",
      "epoch: 08, loss: -0.05573\n",
      "epoch: 09, loss: -0.05608\n",
      "torch.Size([400, 64])\n"
     ]
    },
    {
     "name": "stderr",
     "output_type": "stream",
     "text": [
      "\r",
      " 41%|████████████████████████████████████████████████████████████████▊                                                                                              | 408/1000 [2:52:40<4:07:44, 25.11s/it]"
     ]
    },
    {
     "name": "stdout",
     "output_type": "stream",
     "text": [
      "eigenvalues shape torch.Size([5]) eigenvectors shape torch.Size([5, 400])\n",
      "408 /home/phdcs2/Hard_Disk/Datasets/Deep-Spectral-Segmentation/data/object-segmentation/ECSSD/features/dino_vits16/0409.pth\n",
      "dict_keys(['k', 'indices', 'file', 'id', 'model_name', 'patch_size', 'shape'])\n",
      "0409\n",
      "Starting Training\n",
      "epoch: 00, loss: -0.01154\n",
      "epoch: 01, loss: -0.02826\n",
      "epoch: 02, loss: -0.03026\n",
      "epoch: 03, loss: -0.03104\n",
      "epoch: 04, loss: -0.03158\n",
      "epoch: 05, loss: -0.03171\n",
      "epoch: 06, loss: -0.03202\n",
      "epoch: 07, loss: -0.03211\n",
      "epoch: 08, loss: -0.03225\n",
      "epoch: 09, loss: -0.03233\n",
      "torch.Size([450, 64])\n"
     ]
    },
    {
     "name": "stderr",
     "output_type": "stream",
     "text": [
      "\r",
      " 41%|█████████████████████████████████████████████████████████████████                                                                                              | 409/1000 [2:53:11<4:25:55, 27.00s/it]"
     ]
    },
    {
     "name": "stdout",
     "output_type": "stream",
     "text": [
      "eigenvalues shape torch.Size([5]) eigenvectors shape torch.Size([5, 450])\n",
      "409 /home/phdcs2/Hard_Disk/Datasets/Deep-Spectral-Segmentation/data/object-segmentation/ECSSD/features/dino_vits16/0410.pth\n",
      "dict_keys(['k', 'indices', 'file', 'id', 'model_name', 'patch_size', 'shape'])\n",
      "0410\n",
      "Starting Training\n",
      "epoch: 00, loss: -0.01022\n",
      "epoch: 01, loss: -0.04245\n",
      "epoch: 02, loss: -0.05795\n",
      "epoch: 03, loss: -0.05716\n",
      "epoch: 04, loss: -0.05667\n",
      "epoch: 05, loss: -0.05854\n",
      "epoch: 06, loss: -0.06125\n",
      "epoch: 07, loss: -0.05813\n",
      "epoch: 08, loss: -0.06060\n",
      "epoch: 09, loss: -0.06039\n",
      "torch.Size([325, 64])\n"
     ]
    },
    {
     "name": "stderr",
     "output_type": "stream",
     "text": [
      "\r",
      " 41%|█████████████████████████████████████████████████████████████████▏                                                                                             | 410/1000 [2:53:24<3:44:35, 22.84s/it]"
     ]
    },
    {
     "name": "stdout",
     "output_type": "stream",
     "text": [
      "eigenvalues shape torch.Size([5]) eigenvectors shape torch.Size([5, 325])\n",
      "410 /home/phdcs2/Hard_Disk/Datasets/Deep-Spectral-Segmentation/data/object-segmentation/ECSSD/features/dino_vits16/0411.pth\n",
      "dict_keys(['k', 'indices', 'file', 'id', 'model_name', 'patch_size', 'shape'])\n",
      "0411\n",
      "Starting Training\n",
      "epoch: 00, loss: -0.01887\n",
      "epoch: 01, loss: -0.03997\n",
      "epoch: 02, loss: -0.04313\n",
      "epoch: 03, loss: -0.04390\n",
      "epoch: 04, loss: -0.04411\n",
      "epoch: 05, loss: -0.04452\n",
      "epoch: 06, loss: -0.04468\n",
      "epoch: 07, loss: -0.04473\n",
      "epoch: 08, loss: -0.04492\n",
      "epoch: 09, loss: -0.04501\n",
      "torch.Size([450, 64])\n"
     ]
    },
    {
     "name": "stderr",
     "output_type": "stream",
     "text": [
      "\r",
      " 41%|█████████████████████████████████████████████████████████████████▎                                                                                             | 411/1000 [2:53:52<3:58:09, 24.26s/it]"
     ]
    },
    {
     "name": "stdout",
     "output_type": "stream",
     "text": [
      "eigenvalues shape torch.Size([5]) eigenvectors shape torch.Size([5, 450])\n",
      "411 /home/phdcs2/Hard_Disk/Datasets/Deep-Spectral-Segmentation/data/object-segmentation/ECSSD/features/dino_vits16/0412.pth\n",
      "dict_keys(['k', 'indices', 'file', 'id', 'model_name', 'patch_size', 'shape'])\n",
      "0412\n",
      "Starting Training\n",
      "epoch: 00, loss: -0.11292\n",
      "epoch: 01, loss: -0.15519\n",
      "epoch: 02, loss: -0.15720\n",
      "epoch: 03, loss: -0.16019\n",
      "epoch: 04, loss: -0.16325\n",
      "epoch: 05, loss: -0.16274\n",
      "epoch: 06, loss: -0.16615\n",
      "epoch: 07, loss: -0.16787\n",
      "epoch: 08, loss: -0.16825\n",
      "epoch: 09, loss: -0.16611\n",
      "torch.Size([450, 64])\n"
     ]
    },
    {
     "name": "stderr",
     "output_type": "stream",
     "text": [
      "\r",
      " 41%|█████████████████████████████████████████████████████████████████▌                                                                                             | 412/1000 [2:54:17<3:59:37, 24.45s/it]"
     ]
    },
    {
     "name": "stdout",
     "output_type": "stream",
     "text": [
      "eigenvalues shape torch.Size([5]) eigenvectors shape torch.Size([5, 450])\n",
      "412 /home/phdcs2/Hard_Disk/Datasets/Deep-Spectral-Segmentation/data/object-segmentation/ECSSD/features/dino_vits16/0413.pth\n",
      "dict_keys(['k', 'indices', 'file', 'id', 'model_name', 'patch_size', 'shape'])\n",
      "0413\n",
      "Starting Training\n",
      "epoch: 00, loss: -0.07221\n",
      "epoch: 01, loss: -0.10195\n",
      "epoch: 02, loss: -0.10420\n",
      "epoch: 03, loss: -0.10365\n",
      "epoch: 04, loss: -0.10800\n",
      "epoch: 05, loss: -0.10826\n",
      "epoch: 06, loss: -0.10768\n",
      "epoch: 07, loss: -0.10731\n",
      "epoch: 08, loss: -0.10827\n",
      "epoch: 09, loss: -0.10841\n",
      "torch.Size([450, 64])\n"
     ]
    },
    {
     "name": "stderr",
     "output_type": "stream",
     "text": [
      "\r",
      " 41%|█████████████████████████████████████████████████████████████████▋                                                                                             | 413/1000 [2:54:40<3:56:48, 24.21s/it]"
     ]
    },
    {
     "name": "stdout",
     "output_type": "stream",
     "text": [
      "eigenvalues shape torch.Size([5]) eigenvectors shape torch.Size([5, 450])\n",
      "413 /home/phdcs2/Hard_Disk/Datasets/Deep-Spectral-Segmentation/data/object-segmentation/ECSSD/features/dino_vits16/0414.pth\n",
      "dict_keys(['k', 'indices', 'file', 'id', 'model_name', 'patch_size', 'shape'])\n",
      "0414\n",
      "Starting Training\n",
      "epoch: 00, loss: -0.04048\n",
      "epoch: 01, loss: -0.06840\n",
      "epoch: 02, loss: -0.06952\n",
      "epoch: 03, loss: -0.06974\n",
      "epoch: 04, loss: -0.06999\n",
      "epoch: 05, loss: -0.07009\n",
      "epoch: 06, loss: -0.07035\n",
      "epoch: 07, loss: -0.07061\n",
      "epoch: 08, loss: -0.07061\n",
      "epoch: 09, loss: -0.07073\n",
      "torch.Size([450, 64])\n"
     ]
    },
    {
     "name": "stderr",
     "output_type": "stream",
     "text": [
      "\r",
      " 41%|█████████████████████████████████████████████████████████████████▊                                                                                             | 414/1000 [2:55:08<4:06:04, 25.19s/it]"
     ]
    },
    {
     "name": "stdout",
     "output_type": "stream",
     "text": [
      "eigenvalues shape torch.Size([5]) eigenvectors shape torch.Size([5, 450])\n",
      "414 /home/phdcs2/Hard_Disk/Datasets/Deep-Spectral-Segmentation/data/object-segmentation/ECSSD/features/dino_vits16/0415.pth\n",
      "dict_keys(['k', 'indices', 'file', 'id', 'model_name', 'patch_size', 'shape'])\n",
      "0415\n",
      "Starting Training\n",
      "epoch: 00, loss: -0.04028\n",
      "epoch: 01, loss: -0.05942\n",
      "epoch: 02, loss: -0.06401\n",
      "epoch: 03, loss: -0.06456\n",
      "epoch: 04, loss: -0.06477\n",
      "epoch: 05, loss: -0.06406\n",
      "epoch: 06, loss: -0.06539\n",
      "epoch: 07, loss: -0.06357\n",
      "epoch: 08, loss: -0.06581\n",
      "epoch: 09, loss: -0.06428\n",
      "torch.Size([450, 64])\n"
     ]
    },
    {
     "name": "stderr",
     "output_type": "stream",
     "text": [
      "\r",
      " 42%|█████████████████████████████████████████████████████████████████▉                                                                                             | 415/1000 [2:55:32<4:01:21, 24.75s/it]"
     ]
    },
    {
     "name": "stdout",
     "output_type": "stream",
     "text": [
      "eigenvalues shape torch.Size([5]) eigenvectors shape torch.Size([5, 450])\n",
      "415 /home/phdcs2/Hard_Disk/Datasets/Deep-Spectral-Segmentation/data/object-segmentation/ECSSD/features/dino_vits16/0416.pth\n",
      "dict_keys(['k', 'indices', 'file', 'id', 'model_name', 'patch_size', 'shape'])\n",
      "0416\n",
      "Starting Training\n",
      "epoch: 00, loss: -0.05079\n",
      "epoch: 01, loss: -0.06538\n",
      "epoch: 02, loss: -0.06643\n",
      "epoch: 03, loss: -0.06674\n",
      "epoch: 04, loss: -0.06703\n",
      "epoch: 05, loss: -0.06718\n",
      "epoch: 06, loss: -0.06729\n",
      "epoch: 07, loss: -0.06741\n",
      "epoch: 08, loss: -0.06775\n",
      "epoch: 09, loss: -0.06775\n",
      "torch.Size([450, 64])\n"
     ]
    },
    {
     "name": "stderr",
     "output_type": "stream",
     "text": [
      "\r",
      " 42%|██████████████████████████████████████████████████████████████████▏                                                                                            | 416/1000 [2:55:59<4:07:58, 25.48s/it]"
     ]
    },
    {
     "name": "stdout",
     "output_type": "stream",
     "text": [
      "eigenvalues shape torch.Size([5]) eigenvectors shape torch.Size([5, 450])\n",
      "416 /home/phdcs2/Hard_Disk/Datasets/Deep-Spectral-Segmentation/data/object-segmentation/ECSSD/features/dino_vits16/0417.pth\n",
      "dict_keys(['k', 'indices', 'file', 'id', 'model_name', 'patch_size', 'shape'])\n",
      "0417\n",
      "Starting Training\n",
      "epoch: 00, loss: -0.01441\n",
      "epoch: 01, loss: -0.04640\n",
      "epoch: 02, loss: -0.04984\n",
      "epoch: 03, loss: -0.05152\n",
      "epoch: 04, loss: -0.05365\n",
      "epoch: 05, loss: -0.05458\n",
      "epoch: 06, loss: -0.05514\n",
      "epoch: 07, loss: -0.05640\n",
      "epoch: 08, loss: -0.05786\n",
      "epoch: 09, loss: -0.05771\n",
      "torch.Size([450, 64])\n"
     ]
    },
    {
     "name": "stderr",
     "output_type": "stream",
     "text": [
      "\r",
      " 42%|██████████████████████████████████████████████████████████████████▎                                                                                            | 417/1000 [2:56:33<4:34:09, 28.21s/it]"
     ]
    },
    {
     "name": "stdout",
     "output_type": "stream",
     "text": [
      "eigenvalues shape torch.Size([5]) eigenvectors shape torch.Size([5, 450])\n",
      "417 /home/phdcs2/Hard_Disk/Datasets/Deep-Spectral-Segmentation/data/object-segmentation/ECSSD/features/dino_vits16/0418.pth\n",
      "dict_keys(['k', 'indices', 'file', 'id', 'model_name', 'patch_size', 'shape'])\n",
      "0418\n",
      "Starting Training\n",
      "epoch: 00, loss: -0.07553\n",
      "epoch: 01, loss: -0.10901\n",
      "epoch: 02, loss: -0.11316\n",
      "epoch: 03, loss: -0.11190\n",
      "epoch: 04, loss: -0.11526\n",
      "epoch: 05, loss: -0.11427\n",
      "epoch: 06, loss: -0.11621\n",
      "epoch: 07, loss: -0.11508\n",
      "epoch: 08, loss: -0.11567\n",
      "epoch: 09, loss: -0.11559\n",
      "torch.Size([450, 64])\n"
     ]
    },
    {
     "name": "stderr",
     "output_type": "stream",
     "text": [
      "\r",
      " 42%|██████████████████████████████████████████████████████████████████▍                                                                                            | 418/1000 [2:57:00<4:27:47, 27.61s/it]"
     ]
    },
    {
     "name": "stdout",
     "output_type": "stream",
     "text": [
      "eigenvalues shape torch.Size([5]) eigenvectors shape torch.Size([5, 450])\n",
      "418 /home/phdcs2/Hard_Disk/Datasets/Deep-Spectral-Segmentation/data/object-segmentation/ECSSD/features/dino_vits16/0419.pth\n",
      "dict_keys(['k', 'indices', 'file', 'id', 'model_name', 'patch_size', 'shape'])\n",
      "0419\n",
      "Starting Training\n",
      "epoch: 00, loss: -0.02313\n",
      "epoch: 01, loss: -0.04743\n",
      "epoch: 02, loss: -0.05001\n",
      "epoch: 03, loss: -0.05021\n",
      "epoch: 04, loss: -0.05071\n",
      "epoch: 05, loss: -0.05098\n",
      "epoch: 06, loss: -0.05102\n",
      "epoch: 07, loss: -0.05117\n",
      "epoch: 08, loss: -0.05133\n",
      "epoch: 09, loss: -0.05151\n",
      "torch.Size([450, 64])\n"
     ]
    },
    {
     "name": "stderr",
     "output_type": "stream",
     "text": [
      "\r",
      " 42%|██████████████████████████████████████████████████████████████████▌                                                                                            | 419/1000 [2:57:23<4:15:09, 26.35s/it]"
     ]
    },
    {
     "name": "stdout",
     "output_type": "stream",
     "text": [
      "eigenvalues shape torch.Size([5]) eigenvectors shape torch.Size([5, 450])\n",
      "419 /home/phdcs2/Hard_Disk/Datasets/Deep-Spectral-Segmentation/data/object-segmentation/ECSSD/features/dino_vits16/0420.pth\n",
      "dict_keys(['k', 'indices', 'file', 'id', 'model_name', 'patch_size', 'shape'])\n",
      "0420\n",
      "Starting Training\n",
      "epoch: 00, loss: -0.04272\n",
      "epoch: 01, loss: -0.06830\n",
      "epoch: 02, loss: -0.06885\n",
      "epoch: 03, loss: -0.06928\n",
      "epoch: 04, loss: -0.06980\n",
      "epoch: 05, loss: -0.06862\n",
      "epoch: 06, loss: -0.06891\n",
      "epoch: 07, loss: -0.06983\n",
      "epoch: 08, loss: -0.07016\n",
      "epoch: 09, loss: -0.06907\n",
      "torch.Size([575, 64])\n"
     ]
    },
    {
     "name": "stderr",
     "output_type": "stream",
     "text": [
      "\r",
      " 42%|██████████████████████████████████████████████████████████████████▊                                                                                            | 420/1000 [2:58:07<5:04:58, 31.55s/it]"
     ]
    },
    {
     "name": "stdout",
     "output_type": "stream",
     "text": [
      "eigenvalues shape torch.Size([5]) eigenvectors shape torch.Size([5, 575])\n",
      "420 /home/phdcs2/Hard_Disk/Datasets/Deep-Spectral-Segmentation/data/object-segmentation/ECSSD/features/dino_vits16/0421.pth\n",
      "dict_keys(['k', 'indices', 'file', 'id', 'model_name', 'patch_size', 'shape'])\n",
      "0421\n",
      "Starting Training\n",
      "epoch: 00, loss: -0.06003\n",
      "epoch: 01, loss: -0.07820\n",
      "epoch: 02, loss: -0.07814\n",
      "epoch: 03, loss: -0.07830\n",
      "epoch: 04, loss: -0.07851\n",
      "epoch: 05, loss: -0.07805\n",
      "epoch: 06, loss: -0.07832\n",
      "epoch: 07, loss: -0.07892\n",
      "epoch: 08, loss: -0.07892\n",
      "epoch: 09, loss: -0.07987\n",
      "torch.Size([525, 64])\n"
     ]
    },
    {
     "name": "stderr",
     "output_type": "stream",
     "text": [
      "\r",
      " 42%|██████████████████████████████████████████████████████████████████▉                                                                                            | 421/1000 [2:58:44<5:22:01, 33.37s/it]"
     ]
    },
    {
     "name": "stdout",
     "output_type": "stream",
     "text": [
      "eigenvalues shape torch.Size([5]) eigenvectors shape torch.Size([5, 525])\n",
      "421 /home/phdcs2/Hard_Disk/Datasets/Deep-Spectral-Segmentation/data/object-segmentation/ECSSD/features/dino_vits16/0422.pth\n",
      "dict_keys(['k', 'indices', 'file', 'id', 'model_name', 'patch_size', 'shape'])\n",
      "0422\n",
      "Starting Training\n",
      "epoch: 00, loss: -0.04363\n",
      "epoch: 01, loss: -0.07483\n",
      "epoch: 02, loss: -0.07886\n",
      "epoch: 03, loss: -0.08208\n",
      "epoch: 04, loss: -0.07774\n",
      "epoch: 05, loss: -0.07880\n",
      "epoch: 06, loss: -0.07969\n",
      "epoch: 07, loss: -0.07975\n",
      "epoch: 08, loss: -0.08337\n",
      "epoch: 09, loss: -0.08318\n",
      "torch.Size([450, 64])\n"
     ]
    },
    {
     "name": "stderr",
     "output_type": "stream",
     "text": [
      "\r",
      " 42%|███████████████████████████████████████████████████████████████████                                                                                            | 422/1000 [2:59:08<4:53:31, 30.47s/it]"
     ]
    },
    {
     "name": "stdout",
     "output_type": "stream",
     "text": [
      "eigenvalues shape torch.Size([5]) eigenvectors shape torch.Size([5, 450])\n",
      "422 /home/phdcs2/Hard_Disk/Datasets/Deep-Spectral-Segmentation/data/object-segmentation/ECSSD/features/dino_vits16/0423.pth\n",
      "dict_keys(['k', 'indices', 'file', 'id', 'model_name', 'patch_size', 'shape'])\n",
      "0423\n",
      "Starting Training\n",
      "epoch: 00, loss: -0.00021\n",
      "epoch: 01, loss: -0.01662\n",
      "epoch: 02, loss: -0.02143\n",
      "epoch: 03, loss: -0.02349\n",
      "epoch: 04, loss: -0.02544\n",
      "epoch: 05, loss: -0.02815\n",
      "epoch: 06, loss: -0.02609\n",
      "epoch: 07, loss: -0.02799\n",
      "epoch: 08, loss: -0.02824\n",
      "epoch: 09, loss: -0.02856\n",
      "torch.Size([425, 64])\n"
     ]
    },
    {
     "name": "stderr",
     "output_type": "stream",
     "text": [
      "\r",
      " 42%|███████████████████████████████████████████████████████████████████▎                                                                                           | 423/1000 [2:59:30<4:28:47, 27.95s/it]"
     ]
    },
    {
     "name": "stdout",
     "output_type": "stream",
     "text": [
      "eigenvalues shape torch.Size([5]) eigenvectors shape torch.Size([5, 425])\n",
      "423 /home/phdcs2/Hard_Disk/Datasets/Deep-Spectral-Segmentation/data/object-segmentation/ECSSD/features/dino_vits16/0424.pth\n",
      "dict_keys(['k', 'indices', 'file', 'id', 'model_name', 'patch_size', 'shape'])\n",
      "0424\n",
      "Starting Training\n",
      "epoch: 00, loss: -0.00850\n",
      "epoch: 01, loss: -0.01872\n",
      "epoch: 02, loss: -0.02261\n",
      "epoch: 03, loss: -0.02424\n",
      "epoch: 04, loss: -0.02405\n",
      "epoch: 05, loss: -0.02399\n",
      "epoch: 06, loss: -0.02510\n",
      "epoch: 07, loss: -0.02588\n",
      "epoch: 08, loss: -0.02475\n",
      "epoch: 09, loss: -0.02571\n",
      "torch.Size([550, 64])\n"
     ]
    },
    {
     "name": "stderr",
     "output_type": "stream",
     "text": [
      "\r",
      " 42%|███████████████████████████████████████████████████████████████████▍                                                                                           | 424/1000 [2:59:53<4:13:30, 26.41s/it]"
     ]
    },
    {
     "name": "stdout",
     "output_type": "stream",
     "text": [
      "eigenvalues shape torch.Size([5]) eigenvectors shape torch.Size([5, 550])\n",
      "424 /home/phdcs2/Hard_Disk/Datasets/Deep-Spectral-Segmentation/data/object-segmentation/ECSSD/features/dino_vits16/0425.pth\n",
      "dict_keys(['k', 'indices', 'file', 'id', 'model_name', 'patch_size', 'shape'])\n",
      "0425\n",
      "Starting Training\n",
      "epoch: 00, loss: 0.00586\n",
      "epoch: 01, loss: -0.00290\n",
      "epoch: 02, loss: -0.00673\n",
      "epoch: 03, loss: -0.00859\n",
      "epoch: 04, loss: -0.01019\n",
      "epoch: 05, loss: -0.01144\n",
      "epoch: 06, loss: -0.01245\n",
      "epoch: 07, loss: -0.01213\n",
      "epoch: 08, loss: -0.01097\n",
      "epoch: 09, loss: -0.01273\n",
      "torch.Size([475, 64])\n"
     ]
    },
    {
     "name": "stderr",
     "output_type": "stream",
     "text": [
      "\r",
      " 42%|███████████████████████████████████████████████████████████████████▌                                                                                           | 425/1000 [3:00:13<3:55:06, 24.53s/it]"
     ]
    },
    {
     "name": "stdout",
     "output_type": "stream",
     "text": [
      "eigenvalues shape torch.Size([5]) eigenvectors shape torch.Size([5, 475])\n",
      "425 /home/phdcs2/Hard_Disk/Datasets/Deep-Spectral-Segmentation/data/object-segmentation/ECSSD/features/dino_vits16/0426.pth\n",
      "dict_keys(['k', 'indices', 'file', 'id', 'model_name', 'patch_size', 'shape'])\n",
      "0426\n",
      "Starting Training\n",
      "epoch: 00, loss: -0.02510\n",
      "epoch: 01, loss: -0.04763\n",
      "epoch: 02, loss: -0.05052\n",
      "epoch: 03, loss: -0.05162\n",
      "epoch: 04, loss: -0.05211\n",
      "epoch: 05, loss: -0.05532\n",
      "epoch: 06, loss: -0.05438\n",
      "epoch: 07, loss: -0.05490\n",
      "epoch: 08, loss: -0.05620\n",
      "epoch: 09, loss: -0.05496\n",
      "torch.Size([500, 64])\n"
     ]
    },
    {
     "name": "stderr",
     "output_type": "stream",
     "text": [
      "\r",
      " 43%|███████████████████████████████████████████████████████████████████▋                                                                                           | 426/1000 [3:00:35<3:48:37, 23.90s/it]"
     ]
    },
    {
     "name": "stdout",
     "output_type": "stream",
     "text": [
      "eigenvalues shape torch.Size([5]) eigenvectors shape torch.Size([5, 500])\n",
      "426 /home/phdcs2/Hard_Disk/Datasets/Deep-Spectral-Segmentation/data/object-segmentation/ECSSD/features/dino_vits16/0427.pth\n",
      "dict_keys(['k', 'indices', 'file', 'id', 'model_name', 'patch_size', 'shape'])\n",
      "0427\n",
      "Starting Training\n",
      "epoch: 00, loss: -0.06889\n",
      "epoch: 01, loss: -0.09117\n",
      "epoch: 02, loss: -0.09114\n",
      "epoch: 03, loss: -0.09148\n",
      "epoch: 04, loss: -0.09191\n",
      "epoch: 05, loss: -0.09214\n",
      "epoch: 06, loss: -0.09224\n",
      "epoch: 07, loss: -0.09239\n",
      "epoch: 08, loss: -0.09247\n",
      "epoch: 09, loss: -0.09266\n",
      "torch.Size([450, 64])\n"
     ]
    },
    {
     "name": "stderr",
     "output_type": "stream",
     "text": [
      "\r",
      " 43%|███████████████████████████████████████████████████████████████████▉                                                                                           | 427/1000 [3:00:57<3:41:34, 23.20s/it]"
     ]
    },
    {
     "name": "stdout",
     "output_type": "stream",
     "text": [
      "eigenvalues shape torch.Size([5]) eigenvectors shape torch.Size([5, 450])\n",
      "427 /home/phdcs2/Hard_Disk/Datasets/Deep-Spectral-Segmentation/data/object-segmentation/ECSSD/features/dino_vits16/0428.pth\n",
      "dict_keys(['k', 'indices', 'file', 'id', 'model_name', 'patch_size', 'shape'])\n",
      "0428\n",
      "Starting Training\n",
      "epoch: 00, loss: -0.11139\n",
      "epoch: 01, loss: -0.14214\n",
      "epoch: 02, loss: -0.14603\n",
      "epoch: 03, loss: -0.14863\n",
      "epoch: 04, loss: -0.15498\n",
      "epoch: 05, loss: -0.15272\n",
      "epoch: 06, loss: -0.15304\n",
      "epoch: 07, loss: -0.15267\n",
      "epoch: 08, loss: -0.15389\n",
      "epoch: 09, loss: -0.15827\n",
      "torch.Size([400, 64])\n"
     ]
    },
    {
     "name": "stderr",
     "output_type": "stream",
     "text": [
      "\r",
      " 43%|████████████████████████████████████████████████████████████████████                                                                                           | 428/1000 [3:01:14<3:24:23, 21.44s/it]"
     ]
    },
    {
     "name": "stdout",
     "output_type": "stream",
     "text": [
      "eigenvalues shape torch.Size([5]) eigenvectors shape torch.Size([5, 400])\n",
      "428 /home/phdcs2/Hard_Disk/Datasets/Deep-Spectral-Segmentation/data/object-segmentation/ECSSD/features/dino_vits16/0429.pth\n",
      "dict_keys(['k', 'indices', 'file', 'id', 'model_name', 'patch_size', 'shape'])\n",
      "0429\n",
      "Starting Training\n",
      "epoch: 00, loss: -0.03152\n",
      "epoch: 01, loss: -0.05871\n",
      "epoch: 02, loss: -0.05876\n",
      "epoch: 03, loss: -0.05884\n",
      "epoch: 04, loss: -0.05967\n",
      "epoch: 05, loss: -0.06109\n",
      "epoch: 06, loss: -0.06166\n",
      "epoch: 07, loss: -0.05988\n",
      "epoch: 08, loss: -0.06187\n",
      "epoch: 09, loss: -0.06185\n",
      "torch.Size([375, 64])\n"
     ]
    },
    {
     "name": "stderr",
     "output_type": "stream",
     "text": [
      "\r",
      " 43%|████████████████████████████████████████████████████████████████████▏                                                                                          | 429/1000 [3:01:31<3:11:34, 20.13s/it]"
     ]
    },
    {
     "name": "stdout",
     "output_type": "stream",
     "text": [
      "eigenvalues shape torch.Size([5]) eigenvectors shape torch.Size([5, 375])\n",
      "429 /home/phdcs2/Hard_Disk/Datasets/Deep-Spectral-Segmentation/data/object-segmentation/ECSSD/features/dino_vits16/0430.pth\n",
      "dict_keys(['k', 'indices', 'file', 'id', 'model_name', 'patch_size', 'shape'])\n",
      "0430\n",
      "Starting Training\n",
      "epoch: 00, loss: -0.03692\n",
      "epoch: 01, loss: -0.05786\n",
      "epoch: 02, loss: -0.05918\n",
      "epoch: 03, loss: -0.05931\n",
      "epoch: 04, loss: -0.05978\n",
      "epoch: 05, loss: -0.05993\n",
      "epoch: 06, loss: -0.06016\n",
      "epoch: 07, loss: -0.06027\n",
      "epoch: 08, loss: -0.06044\n",
      "epoch: 09, loss: -0.06037\n",
      "torch.Size([500, 64])\n"
     ]
    },
    {
     "name": "stderr",
     "output_type": "stream",
     "text": [
      "\r",
      " 43%|████████████████████████████████████████████████████████████████████▎                                                                                          | 430/1000 [3:01:55<3:22:19, 21.30s/it]"
     ]
    },
    {
     "name": "stdout",
     "output_type": "stream",
     "text": [
      "eigenvalues shape torch.Size([5]) eigenvectors shape torch.Size([5, 500])\n",
      "430 /home/phdcs2/Hard_Disk/Datasets/Deep-Spectral-Segmentation/data/object-segmentation/ECSSD/features/dino_vits16/0431.pth\n",
      "dict_keys(['k', 'indices', 'file', 'id', 'model_name', 'patch_size', 'shape'])\n",
      "0431\n",
      "Starting Training\n",
      "epoch: 00, loss: 0.00655\n",
      "epoch: 01, loss: -0.00550\n",
      "epoch: 02, loss: -0.01059\n",
      "epoch: 03, loss: -0.01298\n",
      "epoch: 04, loss: -0.01447\n",
      "epoch: 05, loss: -0.01530\n",
      "epoch: 06, loss: -0.01588\n",
      "epoch: 07, loss: -0.01628\n",
      "epoch: 08, loss: -0.01649\n",
      "epoch: 09, loss: -0.01656\n",
      "torch.Size([400, 64])\n"
     ]
    },
    {
     "name": "stderr",
     "output_type": "stream",
     "text": [
      "\r",
      " 43%|████████████████████████████████████████████████████████████████████▌                                                                                          | 431/1000 [3:02:15<3:18:08, 20.89s/it]"
     ]
    },
    {
     "name": "stdout",
     "output_type": "stream",
     "text": [
      "eigenvalues shape torch.Size([5]) eigenvectors shape torch.Size([5, 400])\n",
      "431 /home/phdcs2/Hard_Disk/Datasets/Deep-Spectral-Segmentation/data/object-segmentation/ECSSD/features/dino_vits16/0432.pth\n",
      "dict_keys(['k', 'indices', 'file', 'id', 'model_name', 'patch_size', 'shape'])\n",
      "0432\n",
      "Starting Training\n",
      "epoch: 00, loss: -0.05653\n",
      "epoch: 01, loss: -0.09104\n",
      "epoch: 02, loss: -0.09317\n",
      "epoch: 03, loss: -0.09458\n",
      "epoch: 04, loss: -0.09848\n",
      "epoch: 05, loss: -0.09907\n",
      "epoch: 06, loss: -0.09635\n",
      "epoch: 07, loss: -0.10017\n",
      "epoch: 08, loss: -0.09859\n",
      "epoch: 09, loss: -0.09903\n",
      "torch.Size([425, 64])\n"
     ]
    },
    {
     "name": "stderr",
     "output_type": "stream",
     "text": [
      "\r",
      " 43%|████████████████████████████████████████████████████████████████████▋                                                                                          | 432/1000 [3:02:37<3:18:47, 21.00s/it]"
     ]
    },
    {
     "name": "stdout",
     "output_type": "stream",
     "text": [
      "eigenvalues shape torch.Size([5]) eigenvectors shape torch.Size([5, 425])\n",
      "432 /home/phdcs2/Hard_Disk/Datasets/Deep-Spectral-Segmentation/data/object-segmentation/ECSSD/features/dino_vits16/0433.pth\n",
      "dict_keys(['k', 'indices', 'file', 'id', 'model_name', 'patch_size', 'shape'])\n",
      "0433\n",
      "Starting Training\n",
      "epoch: 00, loss: -0.03128\n",
      "epoch: 01, loss: -0.05239\n",
      "epoch: 02, loss: -0.05728\n",
      "epoch: 03, loss: -0.05939\n",
      "epoch: 04, loss: -0.05830\n",
      "epoch: 05, loss: -0.05867\n",
      "epoch: 06, loss: -0.06136\n",
      "epoch: 07, loss: -0.05954\n",
      "epoch: 08, loss: -0.05659\n",
      "epoch: 09, loss: -0.06017\n",
      "torch.Size([475, 64])\n"
     ]
    },
    {
     "name": "stderr",
     "output_type": "stream",
     "text": [
      "\r",
      " 43%|████████████████████████████████████████████████████████████████████▊                                                                                          | 433/1000 [3:02:59<3:22:40, 21.45s/it]"
     ]
    },
    {
     "name": "stdout",
     "output_type": "stream",
     "text": [
      "eigenvalues shape torch.Size([5]) eigenvectors shape torch.Size([5, 475])\n",
      "433 /home/phdcs2/Hard_Disk/Datasets/Deep-Spectral-Segmentation/data/object-segmentation/ECSSD/features/dino_vits16/0434.pth\n",
      "dict_keys(['k', 'indices', 'file', 'id', 'model_name', 'patch_size', 'shape'])\n",
      "0434\n",
      "Starting Training\n",
      "epoch: 00, loss: -0.03268\n",
      "epoch: 01, loss: -0.05896\n",
      "epoch: 02, loss: -0.06230\n",
      "epoch: 03, loss: -0.06113\n",
      "epoch: 04, loss: -0.06651\n",
      "epoch: 05, loss: -0.06398\n",
      "epoch: 06, loss: -0.06472\n",
      "epoch: 07, loss: -0.06432\n",
      "epoch: 08, loss: -0.06449\n",
      "epoch: 09, loss: -0.06643\n",
      "torch.Size([450, 64])\n"
     ]
    },
    {
     "name": "stderr",
     "output_type": "stream",
     "text": [
      "\r",
      " 43%|█████████████████████████████████████████████████████████████████████                                                                                          | 434/1000 [3:03:21<3:22:37, 21.48s/it]"
     ]
    },
    {
     "name": "stdout",
     "output_type": "stream",
     "text": [
      "eigenvalues shape torch.Size([5]) eigenvectors shape torch.Size([5, 450])\n",
      "434 /home/phdcs2/Hard_Disk/Datasets/Deep-Spectral-Segmentation/data/object-segmentation/ECSSD/features/dino_vits16/0435.pth\n",
      "dict_keys(['k', 'indices', 'file', 'id', 'model_name', 'patch_size', 'shape'])\n",
      "0435\n",
      "Starting Training\n",
      "epoch: 00, loss: -0.08038\n",
      "epoch: 01, loss: -0.10802\n",
      "epoch: 02, loss: -0.11238\n",
      "epoch: 03, loss: -0.11446\n",
      "epoch: 04, loss: -0.11556\n",
      "epoch: 05, loss: -0.11606\n",
      "epoch: 06, loss: -0.11382\n",
      "epoch: 07, loss: -0.11718\n",
      "epoch: 08, loss: -0.11623\n",
      "epoch: 09, loss: -0.11932\n",
      "torch.Size([450, 64])\n"
     ]
    },
    {
     "name": "stderr",
     "output_type": "stream",
     "text": [
      "\r",
      " 44%|█████████████████████████████████████████████████████████████████████▏                                                                                         | 435/1000 [3:03:41<3:20:18, 21.27s/it]"
     ]
    },
    {
     "name": "stdout",
     "output_type": "stream",
     "text": [
      "eigenvalues shape torch.Size([5]) eigenvectors shape torch.Size([5, 450])\n",
      "435 /home/phdcs2/Hard_Disk/Datasets/Deep-Spectral-Segmentation/data/object-segmentation/ECSSD/features/dino_vits16/0436.pth\n",
      "dict_keys(['k', 'indices', 'file', 'id', 'model_name', 'patch_size', 'shape'])\n",
      "0436\n",
      "Starting Training\n",
      "epoch: 00, loss: -0.04352\n",
      "epoch: 01, loss: -0.05944\n",
      "epoch: 02, loss: -0.05945\n",
      "epoch: 03, loss: -0.05987\n",
      "epoch: 04, loss: -0.06059\n",
      "epoch: 05, loss: -0.06065\n",
      "epoch: 06, loss: -0.06018\n",
      "epoch: 07, loss: -0.06180\n",
      "epoch: 08, loss: -0.06176\n",
      "epoch: 09, loss: -0.06049\n",
      "torch.Size([475, 64])\n"
     ]
    },
    {
     "name": "stderr",
     "output_type": "stream",
     "text": [
      "\r",
      " 44%|█████████████████████████████████████████████████████████████████████▎                                                                                         | 436/1000 [3:04:04<3:22:54, 21.59s/it]"
     ]
    },
    {
     "name": "stdout",
     "output_type": "stream",
     "text": [
      "eigenvalues shape torch.Size([5]) eigenvectors shape torch.Size([5, 475])\n",
      "436 /home/phdcs2/Hard_Disk/Datasets/Deep-Spectral-Segmentation/data/object-segmentation/ECSSD/features/dino_vits16/0437.pth\n",
      "dict_keys(['k', 'indices', 'file', 'id', 'model_name', 'patch_size', 'shape'])\n",
      "0437\n",
      "Starting Training\n",
      "epoch: 00, loss: -0.02726\n",
      "epoch: 01, loss: -0.06063\n",
      "epoch: 02, loss: -0.06915\n",
      "epoch: 03, loss: -0.06911\n",
      "epoch: 04, loss: -0.07259\n",
      "epoch: 05, loss: -0.07310\n",
      "epoch: 06, loss: -0.07194\n",
      "epoch: 07, loss: -0.07434\n",
      "epoch: 08, loss: -0.07332\n",
      "epoch: 09, loss: -0.07317\n",
      "torch.Size([450, 64])\n"
     ]
    },
    {
     "name": "stderr",
     "output_type": "stream",
     "text": [
      "\r",
      " 44%|█████████████████████████████████████████████████████████████████████▍                                                                                         | 437/1000 [3:04:25<3:23:04, 21.64s/it]"
     ]
    },
    {
     "name": "stdout",
     "output_type": "stream",
     "text": [
      "eigenvalues shape torch.Size([5]) eigenvectors shape torch.Size([5, 450])\n",
      "437 /home/phdcs2/Hard_Disk/Datasets/Deep-Spectral-Segmentation/data/object-segmentation/ECSSD/features/dino_vits16/0438.pth\n",
      "dict_keys(['k', 'indices', 'file', 'id', 'model_name', 'patch_size', 'shape'])\n",
      "0438\n",
      "Starting Training\n",
      "epoch: 00, loss: -0.02959\n",
      "epoch: 01, loss: -0.05372\n",
      "epoch: 02, loss: -0.05830\n",
      "epoch: 03, loss: -0.06061\n",
      "epoch: 04, loss: -0.06160\n",
      "epoch: 05, loss: -0.06154\n",
      "epoch: 06, loss: -0.06185\n",
      "epoch: 07, loss: -0.06191\n",
      "epoch: 08, loss: -0.06244\n",
      "epoch: 09, loss: -0.06278\n",
      "torch.Size([450, 64])\n"
     ]
    },
    {
     "name": "stderr",
     "output_type": "stream",
     "text": [
      "\r",
      " 44%|█████████████████████████████████████████████████████████████████████▋                                                                                         | 438/1000 [3:04:47<3:23:20, 21.71s/it]"
     ]
    },
    {
     "name": "stdout",
     "output_type": "stream",
     "text": [
      "eigenvalues shape torch.Size([5]) eigenvectors shape torch.Size([5, 450])\n",
      "438 /home/phdcs2/Hard_Disk/Datasets/Deep-Spectral-Segmentation/data/object-segmentation/ECSSD/features/dino_vits16/0439.pth\n",
      "dict_keys(['k', 'indices', 'file', 'id', 'model_name', 'patch_size', 'shape'])\n",
      "0439\n",
      "Starting Training\n",
      "epoch: 00, loss: -0.01865\n",
      "epoch: 01, loss: -0.03161\n",
      "epoch: 02, loss: -0.03243\n",
      "epoch: 03, loss: -0.03322\n",
      "epoch: 04, loss: -0.03369\n",
      "epoch: 05, loss: -0.03331\n",
      "epoch: 06, loss: -0.03440\n",
      "epoch: 07, loss: -0.03407\n",
      "epoch: 08, loss: -0.03474\n",
      "epoch: 09, loss: -0.03498\n",
      "torch.Size([575, 64])\n"
     ]
    },
    {
     "name": "stderr",
     "output_type": "stream",
     "text": [
      "\r",
      " 44%|█████████████████████████████████████████████████████████████████████▊                                                                                         | 439/1000 [3:05:31<4:24:29, 28.29s/it]"
     ]
    },
    {
     "name": "stdout",
     "output_type": "stream",
     "text": [
      "eigenvalues shape torch.Size([5]) eigenvectors shape torch.Size([5, 575])\n",
      "439 /home/phdcs2/Hard_Disk/Datasets/Deep-Spectral-Segmentation/data/object-segmentation/ECSSD/features/dino_vits16/0440.pth\n",
      "dict_keys(['k', 'indices', 'file', 'id', 'model_name', 'patch_size', 'shape'])\n",
      "0440\n",
      "Starting Training\n",
      "epoch: 00, loss: -0.04571\n",
      "epoch: 01, loss: -0.07502\n",
      "epoch: 02, loss: -0.08132\n",
      "epoch: 03, loss: -0.07958\n",
      "epoch: 04, loss: -0.08141\n",
      "epoch: 05, loss: -0.08431\n",
      "epoch: 06, loss: -0.08510\n",
      "epoch: 07, loss: -0.08511\n",
      "epoch: 08, loss: -0.08526\n",
      "epoch: 09, loss: -0.08367\n",
      "torch.Size([450, 64])\n"
     ]
    },
    {
     "name": "stderr",
     "output_type": "stream",
     "text": [
      "\r",
      " 44%|█████████████████████████████████████████████████████████████████████▉                                                                                         | 440/1000 [3:05:53<4:07:47, 26.55s/it]"
     ]
    },
    {
     "name": "stdout",
     "output_type": "stream",
     "text": [
      "eigenvalues shape torch.Size([5]) eigenvectors shape torch.Size([5, 450])\n",
      "440 /home/phdcs2/Hard_Disk/Datasets/Deep-Spectral-Segmentation/data/object-segmentation/ECSSD/features/dino_vits16/0441.pth\n",
      "dict_keys(['k', 'indices', 'file', 'id', 'model_name', 'patch_size', 'shape'])\n",
      "0441\n",
      "Starting Training\n",
      "epoch: 00, loss: -0.04334\n",
      "epoch: 01, loss: -0.06198\n",
      "epoch: 02, loss: -0.06330\n",
      "epoch: 03, loss: -0.06353\n",
      "epoch: 04, loss: -0.06378\n",
      "epoch: 05, loss: -0.06413\n",
      "epoch: 06, loss: -0.06422\n",
      "epoch: 07, loss: -0.06446\n",
      "epoch: 08, loss: -0.06439\n",
      "epoch: 09, loss: -0.06460\n",
      "torch.Size([450, 64])\n"
     ]
    },
    {
     "name": "stderr",
     "output_type": "stream",
     "text": [
      "\r",
      " 44%|██████████████████████████████████████████████████████████████████████                                                                                         | 441/1000 [3:06:16<3:56:34, 25.39s/it]"
     ]
    },
    {
     "name": "stdout",
     "output_type": "stream",
     "text": [
      "eigenvalues shape torch.Size([5]) eigenvectors shape torch.Size([5, 450])\n",
      "441 /home/phdcs2/Hard_Disk/Datasets/Deep-Spectral-Segmentation/data/object-segmentation/ECSSD/features/dino_vits16/0442.pth\n",
      "dict_keys(['k', 'indices', 'file', 'id', 'model_name', 'patch_size', 'shape'])\n",
      "0442\n",
      "Starting Training\n",
      "epoch: 00, loss: -0.01302\n",
      "epoch: 01, loss: -0.03245\n",
      "epoch: 02, loss: -0.03663\n",
      "epoch: 03, loss: -0.03723\n",
      "epoch: 04, loss: -0.03709\n",
      "epoch: 05, loss: -0.03739\n",
      "epoch: 06, loss: -0.03867\n",
      "epoch: 07, loss: -0.03760\n",
      "epoch: 08, loss: -0.03829\n",
      "epoch: 09, loss: -0.03798\n",
      "torch.Size([475, 64])\n"
     ]
    },
    {
     "name": "stderr",
     "output_type": "stream",
     "text": [
      "\r",
      " 44%|██████████████████████████████████████████████████████████████████████▎                                                                                        | 442/1000 [3:06:41<3:53:43, 25.13s/it]"
     ]
    },
    {
     "name": "stdout",
     "output_type": "stream",
     "text": [
      "eigenvalues shape torch.Size([5]) eigenvectors shape torch.Size([5, 475])\n",
      "442 /home/phdcs2/Hard_Disk/Datasets/Deep-Spectral-Segmentation/data/object-segmentation/ECSSD/features/dino_vits16/0443.pth\n",
      "dict_keys(['k', 'indices', 'file', 'id', 'model_name', 'patch_size', 'shape'])\n",
      "0443\n",
      "Starting Training\n",
      "epoch: 00, loss: -0.05361\n",
      "epoch: 01, loss: -0.09154\n",
      "epoch: 02, loss: -0.09452\n",
      "epoch: 03, loss: -0.09345\n",
      "epoch: 04, loss: -0.09740\n",
      "epoch: 05, loss: -0.09861\n",
      "epoch: 06, loss: -0.09832\n",
      "epoch: 07, loss: -0.09978\n",
      "epoch: 08, loss: -0.10023\n",
      "epoch: 09, loss: -0.10074\n",
      "torch.Size([450, 64])\n"
     ]
    },
    {
     "name": "stderr",
     "output_type": "stream",
     "text": [
      "\r",
      " 44%|██████████████████████████████████████████████████████████████████████▍                                                                                        | 443/1000 [3:07:06<3:52:31, 25.05s/it]"
     ]
    },
    {
     "name": "stdout",
     "output_type": "stream",
     "text": [
      "eigenvalues shape torch.Size([5]) eigenvectors shape torch.Size([5, 450])\n",
      "443 /home/phdcs2/Hard_Disk/Datasets/Deep-Spectral-Segmentation/data/object-segmentation/ECSSD/features/dino_vits16/0444.pth\n",
      "dict_keys(['k', 'indices', 'file', 'id', 'model_name', 'patch_size', 'shape'])\n",
      "0444\n",
      "Starting Training\n",
      "epoch: 00, loss: -0.04841\n",
      "epoch: 01, loss: -0.07740\n",
      "epoch: 02, loss: -0.08288\n",
      "epoch: 03, loss: -0.08243\n",
      "epoch: 04, loss: -0.08294\n",
      "epoch: 05, loss: -0.08340\n",
      "epoch: 06, loss: -0.08457\n",
      "epoch: 07, loss: -0.08287\n",
      "epoch: 08, loss: -0.08661\n",
      "epoch: 09, loss: -0.08733\n",
      "torch.Size([450, 64])\n"
     ]
    },
    {
     "name": "stderr",
     "output_type": "stream",
     "text": [
      "\r",
      " 44%|██████████████████████████████████████████████████████████████████████▌                                                                                        | 444/1000 [3:07:27<3:42:16, 23.99s/it]"
     ]
    },
    {
     "name": "stdout",
     "output_type": "stream",
     "text": [
      "eigenvalues shape torch.Size([5]) eigenvectors shape torch.Size([5, 450])\n",
      "444 /home/phdcs2/Hard_Disk/Datasets/Deep-Spectral-Segmentation/data/object-segmentation/ECSSD/features/dino_vits16/0445.pth\n",
      "dict_keys(['k', 'indices', 'file', 'id', 'model_name', 'patch_size', 'shape'])\n",
      "0445\n",
      "Starting Training\n",
      "epoch: 00, loss: -0.03625\n",
      "epoch: 01, loss: -0.07291\n",
      "epoch: 02, loss: -0.08108\n",
      "epoch: 03, loss: -0.08500\n",
      "epoch: 04, loss: -0.08479\n",
      "epoch: 05, loss: -0.08536\n",
      "epoch: 06, loss: -0.08596\n",
      "epoch: 07, loss: -0.08729\n",
      "epoch: 08, loss: -0.08571\n",
      "epoch: 09, loss: -0.08832\n",
      "torch.Size([400, 64])\n"
     ]
    },
    {
     "name": "stderr",
     "output_type": "stream",
     "text": [
      "\r",
      " 44%|██████████████████████████████████████████████████████████████████████▊                                                                                        | 445/1000 [3:07:45<3:23:51, 22.04s/it]"
     ]
    },
    {
     "name": "stdout",
     "output_type": "stream",
     "text": [
      "eigenvalues shape torch.Size([5]) eigenvectors shape torch.Size([5, 400])\n",
      "445 /home/phdcs2/Hard_Disk/Datasets/Deep-Spectral-Segmentation/data/object-segmentation/ECSSD/features/dino_vits16/0446.pth\n",
      "dict_keys(['k', 'indices', 'file', 'id', 'model_name', 'patch_size', 'shape'])\n",
      "0446\n",
      "Starting Training\n",
      "epoch: 00, loss: -0.03675\n",
      "epoch: 01, loss: -0.06658\n",
      "epoch: 02, loss: -0.06795\n",
      "epoch: 03, loss: -0.06830\n",
      "epoch: 04, loss: -0.06859\n",
      "epoch: 05, loss: -0.06877\n",
      "epoch: 06, loss: -0.06888\n",
      "epoch: 07, loss: -0.06908\n",
      "epoch: 08, loss: -0.06936\n",
      "epoch: 09, loss: -0.06934\n",
      "torch.Size([400, 64])\n"
     ]
    },
    {
     "name": "stderr",
     "output_type": "stream",
     "text": [
      "\r",
      " 45%|██████████████████████████████████████████████████████████████████████▉                                                                                        | 446/1000 [3:08:07<3:25:10, 22.22s/it]"
     ]
    },
    {
     "name": "stdout",
     "output_type": "stream",
     "text": [
      "eigenvalues shape torch.Size([5]) eigenvectors shape torch.Size([5, 400])\n",
      "446 /home/phdcs2/Hard_Disk/Datasets/Deep-Spectral-Segmentation/data/object-segmentation/ECSSD/features/dino_vits16/0447.pth\n",
      "dict_keys(['k', 'indices', 'file', 'id', 'model_name', 'patch_size', 'shape'])\n",
      "0447\n",
      "Starting Training\n",
      "epoch: 00, loss: -0.02304\n",
      "epoch: 01, loss: -0.04390\n",
      "epoch: 02, loss: -0.04724\n",
      "epoch: 03, loss: -0.04770\n",
      "epoch: 04, loss: -0.04764\n",
      "epoch: 05, loss: -0.04892\n",
      "epoch: 06, loss: -0.04877\n",
      "epoch: 07, loss: -0.04876\n",
      "epoch: 08, loss: -0.04869\n",
      "epoch: 09, loss: -0.04856\n",
      "torch.Size([400, 64])\n"
     ]
    },
    {
     "name": "stderr",
     "output_type": "stream",
     "text": [
      "\r",
      " 45%|███████████████████████████████████████████████████████████████████████                                                                                        | 447/1000 [3:08:27<3:19:14, 21.62s/it]"
     ]
    },
    {
     "name": "stdout",
     "output_type": "stream",
     "text": [
      "eigenvalues shape torch.Size([5]) eigenvectors shape torch.Size([5, 400])\n",
      "447 /home/phdcs2/Hard_Disk/Datasets/Deep-Spectral-Segmentation/data/object-segmentation/ECSSD/features/dino_vits16/0448.pth\n",
      "dict_keys(['k', 'indices', 'file', 'id', 'model_name', 'patch_size', 'shape'])\n",
      "0448\n",
      "Starting Training\n",
      "epoch: 00, loss: -0.03061\n",
      "epoch: 01, loss: -0.05636\n",
      "epoch: 02, loss: -0.05870\n",
      "epoch: 03, loss: -0.05913\n",
      "epoch: 04, loss: -0.05919\n",
      "epoch: 05, loss: -0.05959\n",
      "epoch: 06, loss: -0.05957\n",
      "epoch: 07, loss: -0.05983\n",
      "epoch: 08, loss: -0.05980\n",
      "epoch: 09, loss: -0.05989\n",
      "torch.Size([350, 64])\n"
     ]
    },
    {
     "name": "stderr",
     "output_type": "stream",
     "text": [
      "\r",
      " 45%|███████████████████████████████████████████████████████████████████████▏                                                                                       | 448/1000 [3:08:45<3:08:50, 20.53s/it]"
     ]
    },
    {
     "name": "stdout",
     "output_type": "stream",
     "text": [
      "eigenvalues shape torch.Size([5]) eigenvectors shape torch.Size([5, 350])\n",
      "448 /home/phdcs2/Hard_Disk/Datasets/Deep-Spectral-Segmentation/data/object-segmentation/ECSSD/features/dino_vits16/0449.pth\n",
      "dict_keys(['k', 'indices', 'file', 'id', 'model_name', 'patch_size', 'shape'])\n",
      "0449\n",
      "Starting Training\n",
      "epoch: 00, loss: -0.04470\n",
      "epoch: 01, loss: -0.06457\n",
      "epoch: 02, loss: -0.06823\n",
      "epoch: 03, loss: -0.07035\n",
      "epoch: 04, loss: -0.07187\n",
      "epoch: 05, loss: -0.06765\n",
      "epoch: 06, loss: -0.06916\n",
      "epoch: 07, loss: -0.06973\n",
      "epoch: 08, loss: -0.06911\n",
      "epoch: 09, loss: -0.07035\n",
      "torch.Size([475, 64])\n"
     ]
    },
    {
     "name": "stderr",
     "output_type": "stream",
     "text": [
      "\r",
      " 45%|███████████████████████████████████████████████████████████████████████▍                                                                                       | 449/1000 [3:09:17<3:39:06, 23.86s/it]"
     ]
    },
    {
     "name": "stdout",
     "output_type": "stream",
     "text": [
      "eigenvalues shape torch.Size([5]) eigenvectors shape torch.Size([5, 475])\n",
      "449 /home/phdcs2/Hard_Disk/Datasets/Deep-Spectral-Segmentation/data/object-segmentation/ECSSD/features/dino_vits16/0450.pth\n",
      "dict_keys(['k', 'indices', 'file', 'id', 'model_name', 'patch_size', 'shape'])\n",
      "0450\n",
      "Starting Training\n",
      "epoch: 00, loss: -0.06703\n",
      "epoch: 01, loss: -0.09586\n",
      "epoch: 02, loss: -0.10198\n",
      "epoch: 03, loss: -0.10390\n",
      "epoch: 04, loss: -0.10367\n",
      "epoch: 05, loss: -0.10439\n",
      "epoch: 06, loss: -0.10582\n",
      "epoch: 07, loss: -0.10491\n",
      "epoch: 08, loss: -0.10490\n",
      "epoch: 09, loss: -0.10851\n",
      "torch.Size([400, 64])\n"
     ]
    },
    {
     "name": "stderr",
     "output_type": "stream",
     "text": [
      "\r",
      " 45%|███████████████████████████████████████████████████████████████████████▌                                                                                       | 450/1000 [3:09:37<3:27:38, 22.65s/it]"
     ]
    },
    {
     "name": "stdout",
     "output_type": "stream",
     "text": [
      "eigenvalues shape torch.Size([5]) eigenvectors shape torch.Size([5, 400])\n",
      "450 /home/phdcs2/Hard_Disk/Datasets/Deep-Spectral-Segmentation/data/object-segmentation/ECSSD/features/dino_vits16/0451.pth\n",
      "dict_keys(['k', 'indices', 'file', 'id', 'model_name', 'patch_size', 'shape'])\n",
      "0451\n",
      "Starting Training\n",
      "epoch: 00, loss: -0.05583\n",
      "epoch: 01, loss: -0.07308\n",
      "epoch: 02, loss: -0.07554\n",
      "epoch: 03, loss: -0.07859\n",
      "epoch: 04, loss: -0.07495\n",
      "epoch: 05, loss: -0.07961\n",
      "epoch: 06, loss: -0.08124\n",
      "epoch: 07, loss: -0.07983\n",
      "epoch: 08, loss: -0.07865\n",
      "epoch: 09, loss: -0.08050\n",
      "torch.Size([450, 64])\n"
     ]
    },
    {
     "name": "stderr",
     "output_type": "stream",
     "text": [
      "\r",
      " 45%|███████████████████████████████████████████████████████████████████████▋                                                                                       | 451/1000 [3:10:00<3:27:42, 22.70s/it]"
     ]
    },
    {
     "name": "stdout",
     "output_type": "stream",
     "text": [
      "eigenvalues shape torch.Size([5]) eigenvectors shape torch.Size([5, 450])\n",
      "451 /home/phdcs2/Hard_Disk/Datasets/Deep-Spectral-Segmentation/data/object-segmentation/ECSSD/features/dino_vits16/0452.pth\n",
      "dict_keys(['k', 'indices', 'file', 'id', 'model_name', 'patch_size', 'shape'])\n",
      "0452\n",
      "Starting Training\n",
      "epoch: 00, loss: -0.02585\n",
      "epoch: 01, loss: -0.04857\n",
      "epoch: 02, loss: -0.05022\n",
      "epoch: 03, loss: -0.04959\n",
      "epoch: 04, loss: -0.05098\n",
      "epoch: 05, loss: -0.05121\n",
      "epoch: 06, loss: -0.05048\n",
      "epoch: 07, loss: -0.05133\n",
      "epoch: 08, loss: -0.05234\n",
      "epoch: 09, loss: -0.05243\n",
      "torch.Size([475, 64])\n"
     ]
    },
    {
     "name": "stderr",
     "output_type": "stream",
     "text": [
      "\r",
      " 45%|███████████████████████████████████████████████████████████████████████▊                                                                                       | 452/1000 [3:10:23<3:28:51, 22.87s/it]"
     ]
    },
    {
     "name": "stdout",
     "output_type": "stream",
     "text": [
      "eigenvalues shape torch.Size([5]) eigenvectors shape torch.Size([5, 475])\n",
      "452 /home/phdcs2/Hard_Disk/Datasets/Deep-Spectral-Segmentation/data/object-segmentation/ECSSD/features/dino_vits16/0453.pth\n",
      "dict_keys(['k', 'indices', 'file', 'id', 'model_name', 'patch_size', 'shape'])\n",
      "0453\n",
      "Starting Training\n",
      "epoch: 00, loss: -0.01103\n",
      "epoch: 01, loss: -0.03403\n",
      "epoch: 02, loss: -0.03782\n",
      "epoch: 03, loss: -0.03859\n",
      "epoch: 04, loss: -0.03889\n",
      "epoch: 05, loss: -0.03925\n",
      "epoch: 06, loss: -0.03948\n",
      "epoch: 07, loss: -0.03946\n",
      "epoch: 08, loss: -0.03978\n",
      "epoch: 09, loss: -0.03976\n",
      "torch.Size([400, 64])\n"
     ]
    },
    {
     "name": "stderr",
     "output_type": "stream",
     "text": [
      "\r",
      " 45%|████████████████████████████████████████████████████████████████████████                                                                                       | 453/1000 [3:10:44<3:24:13, 22.40s/it]"
     ]
    },
    {
     "name": "stdout",
     "output_type": "stream",
     "text": [
      "eigenvalues shape torch.Size([5]) eigenvectors shape torch.Size([5, 400])\n",
      "453 /home/phdcs2/Hard_Disk/Datasets/Deep-Spectral-Segmentation/data/object-segmentation/ECSSD/features/dino_vits16/0454.pth\n",
      "dict_keys(['k', 'indices', 'file', 'id', 'model_name', 'patch_size', 'shape'])\n",
      "0454\n",
      "Starting Training\n",
      "epoch: 00, loss: -0.01340\n",
      "epoch: 01, loss: -0.04046\n",
      "epoch: 02, loss: -0.04771\n",
      "epoch: 03, loss: -0.04851\n",
      "epoch: 04, loss: -0.05001\n",
      "epoch: 05, loss: -0.04969\n",
      "epoch: 06, loss: -0.05231\n",
      "epoch: 07, loss: -0.05195\n",
      "epoch: 08, loss: -0.05135\n",
      "epoch: 09, loss: -0.05262\n",
      "torch.Size([400, 64])\n"
     ]
    },
    {
     "name": "stderr",
     "output_type": "stream",
     "text": [
      "\r",
      " 45%|████████████████████████████████████████████████████████████████████████▏                                                                                      | 454/1000 [3:11:08<3:26:29, 22.69s/it]"
     ]
    },
    {
     "name": "stdout",
     "output_type": "stream",
     "text": [
      "eigenvalues shape torch.Size([5]) eigenvectors shape torch.Size([5, 400])\n",
      "454 /home/phdcs2/Hard_Disk/Datasets/Deep-Spectral-Segmentation/data/object-segmentation/ECSSD/features/dino_vits16/0455.pth\n",
      "dict_keys(['k', 'indices', 'file', 'id', 'model_name', 'patch_size', 'shape'])\n",
      "0455\n",
      "Starting Training\n",
      "epoch: 00, loss: -0.01714\n",
      "epoch: 01, loss: -0.05537\n",
      "epoch: 02, loss: -0.06473\n",
      "epoch: 03, loss: -0.06701\n",
      "epoch: 04, loss: -0.06778\n",
      "epoch: 05, loss: -0.06695\n",
      "epoch: 06, loss: -0.06843\n",
      "epoch: 07, loss: -0.06734\n",
      "epoch: 08, loss: -0.06844\n",
      "epoch: 09, loss: -0.06886\n",
      "torch.Size([400, 64])\n"
     ]
    },
    {
     "name": "stderr",
     "output_type": "stream",
     "text": [
      "\r",
      " 46%|████████████████████████████████████████████████████████████████████████▎                                                                                      | 455/1000 [3:11:29<3:23:21, 22.39s/it]"
     ]
    },
    {
     "name": "stdout",
     "output_type": "stream",
     "text": [
      "eigenvalues shape torch.Size([5]) eigenvectors shape torch.Size([5, 400])\n",
      "455 /home/phdcs2/Hard_Disk/Datasets/Deep-Spectral-Segmentation/data/object-segmentation/ECSSD/features/dino_vits16/0456.pth\n",
      "dict_keys(['k', 'indices', 'file', 'id', 'model_name', 'patch_size', 'shape'])\n",
      "0456\n",
      "Starting Training\n",
      "epoch: 00, loss: 0.00630\n",
      "epoch: 01, loss: -0.00865\n",
      "epoch: 02, loss: -0.01526\n",
      "epoch: 03, loss: -0.01663\n",
      "epoch: 04, loss: -0.01920\n",
      "epoch: 05, loss: -0.01883\n",
      "epoch: 06, loss: -0.01907\n",
      "epoch: 07, loss: -0.01944\n",
      "epoch: 08, loss: -0.01999\n",
      "epoch: 09, loss: -0.01973\n",
      "torch.Size([425, 64])\n"
     ]
    },
    {
     "name": "stderr",
     "output_type": "stream",
     "text": [
      "\r",
      " 46%|████████████████████████████████████████████████████████████████████████▌                                                                                      | 456/1000 [3:11:58<3:39:05, 24.16s/it]"
     ]
    },
    {
     "name": "stdout",
     "output_type": "stream",
     "text": [
      "eigenvalues shape torch.Size([5]) eigenvectors shape torch.Size([5, 425])\n",
      "456 /home/phdcs2/Hard_Disk/Datasets/Deep-Spectral-Segmentation/data/object-segmentation/ECSSD/features/dino_vits16/0457.pth\n",
      "dict_keys(['k', 'indices', 'file', 'id', 'model_name', 'patch_size', 'shape'])\n",
      "0457\n",
      "Starting Training\n",
      "epoch: 00, loss: -0.00202\n",
      "epoch: 01, loss: -0.02743\n",
      "epoch: 02, loss: -0.02997\n",
      "epoch: 03, loss: -0.03280\n",
      "epoch: 04, loss: -0.03491\n",
      "epoch: 05, loss: -0.03720\n",
      "epoch: 06, loss: -0.03928\n",
      "epoch: 07, loss: -0.04152\n",
      "epoch: 08, loss: -0.03914\n",
      "epoch: 09, loss: -0.03761\n",
      "torch.Size([400, 64])\n"
     ]
    },
    {
     "name": "stderr",
     "output_type": "stream",
     "text": [
      "\r",
      " 46%|████████████████████████████████████████████████████████████████████████▋                                                                                      | 457/1000 [3:12:18<3:27:26, 22.92s/it]"
     ]
    },
    {
     "name": "stdout",
     "output_type": "stream",
     "text": [
      "eigenvalues shape torch.Size([5]) eigenvectors shape torch.Size([5, 400])\n",
      "457 /home/phdcs2/Hard_Disk/Datasets/Deep-Spectral-Segmentation/data/object-segmentation/ECSSD/features/dino_vits16/0458.pth\n",
      "dict_keys(['k', 'indices', 'file', 'id', 'model_name', 'patch_size', 'shape'])\n",
      "0458\n",
      "Starting Training\n",
      "epoch: 00, loss: -0.02946\n",
      "epoch: 01, loss: -0.05851\n",
      "epoch: 02, loss: -0.06042\n",
      "epoch: 03, loss: -0.06137\n",
      "epoch: 04, loss: -0.06148\n",
      "epoch: 05, loss: -0.06188\n",
      "epoch: 06, loss: -0.06155\n",
      "epoch: 07, loss: -0.06255\n",
      "epoch: 08, loss: -0.06224\n",
      "epoch: 09, loss: -0.06227\n",
      "torch.Size([450, 64])\n"
     ]
    },
    {
     "name": "stderr",
     "output_type": "stream",
     "text": [
      "\r",
      " 46%|████████████████████████████████████████████████████████████████████████▊                                                                                      | 458/1000 [3:12:46<3:41:37, 24.53s/it]"
     ]
    },
    {
     "name": "stdout",
     "output_type": "stream",
     "text": [
      "eigenvalues shape torch.Size([5]) eigenvectors shape torch.Size([5, 450])\n",
      "458 /home/phdcs2/Hard_Disk/Datasets/Deep-Spectral-Segmentation/data/object-segmentation/ECSSD/features/dino_vits16/0459.pth\n",
      "dict_keys(['k', 'indices', 'file', 'id', 'model_name', 'patch_size', 'shape'])\n",
      "0459\n",
      "Starting Training\n",
      "epoch: 00, loss: -0.03894\n",
      "epoch: 01, loss: -0.06180\n",
      "epoch: 02, loss: -0.06333\n",
      "epoch: 03, loss: -0.06382\n",
      "epoch: 04, loss: -0.06411\n",
      "epoch: 05, loss: -0.06429\n",
      "epoch: 06, loss: -0.06450\n",
      "epoch: 07, loss: -0.06457\n",
      "epoch: 08, loss: -0.06476\n",
      "epoch: 09, loss: -0.06492\n",
      "torch.Size([400, 64])\n"
     ]
    },
    {
     "name": "stderr",
     "output_type": "stream",
     "text": [
      "\r",
      " 46%|████████████████████████████████████████████████████████████████████████▉                                                                                      | 459/1000 [3:13:07<3:30:57, 23.40s/it]"
     ]
    },
    {
     "name": "stdout",
     "output_type": "stream",
     "text": [
      "eigenvalues shape torch.Size([5]) eigenvectors shape torch.Size([5, 400])\n",
      "459 /home/phdcs2/Hard_Disk/Datasets/Deep-Spectral-Segmentation/data/object-segmentation/ECSSD/features/dino_vits16/0460.pth\n",
      "dict_keys(['k', 'indices', 'file', 'id', 'model_name', 'patch_size', 'shape'])\n",
      "0460\n",
      "Starting Training\n",
      "epoch: 00, loss: -0.07257\n",
      "epoch: 01, loss: -0.09957\n",
      "epoch: 02, loss: -0.09998\n",
      "epoch: 03, loss: -0.10047\n",
      "epoch: 04, loss: -0.10061\n",
      "epoch: 05, loss: -0.10060\n",
      "epoch: 06, loss: -0.10079\n",
      "epoch: 07, loss: -0.10094\n",
      "epoch: 08, loss: -0.10109\n",
      "epoch: 09, loss: -0.10157\n",
      "torch.Size([450, 64])\n"
     ]
    },
    {
     "name": "stderr",
     "output_type": "stream",
     "text": [
      "\r",
      " 46%|█████████████████████████████████████████████████████████████████████████▏                                                                                     | 460/1000 [3:13:31<3:33:37, 23.74s/it]"
     ]
    },
    {
     "name": "stdout",
     "output_type": "stream",
     "text": [
      "eigenvalues shape torch.Size([5]) eigenvectors shape torch.Size([5, 450])\n",
      "460 /home/phdcs2/Hard_Disk/Datasets/Deep-Spectral-Segmentation/data/object-segmentation/ECSSD/features/dino_vits16/0461.pth\n",
      "dict_keys(['k', 'indices', 'file', 'id', 'model_name', 'patch_size', 'shape'])\n",
      "0461\n",
      "Starting Training\n",
      "epoch: 00, loss: -0.07383\n",
      "epoch: 01, loss: -0.11342\n",
      "epoch: 02, loss: -0.11875\n",
      "epoch: 03, loss: -0.12045\n",
      "epoch: 04, loss: -0.11969\n",
      "epoch: 05, loss: -0.12160\n",
      "epoch: 06, loss: -0.12069\n",
      "epoch: 07, loss: -0.12182\n",
      "epoch: 08, loss: -0.12346\n",
      "epoch: 09, loss: -0.12503\n",
      "torch.Size([450, 64])\n"
     ]
    },
    {
     "name": "stderr",
     "output_type": "stream",
     "text": [
      "\r",
      " 46%|█████████████████████████████████████████████████████████████████████████▎                                                                                     | 461/1000 [3:13:54<3:30:21, 23.42s/it]"
     ]
    },
    {
     "name": "stdout",
     "output_type": "stream",
     "text": [
      "eigenvalues shape torch.Size([5]) eigenvectors shape torch.Size([5, 450])\n",
      "461 /home/phdcs2/Hard_Disk/Datasets/Deep-Spectral-Segmentation/data/object-segmentation/ECSSD/features/dino_vits16/0462.pth\n",
      "dict_keys(['k', 'indices', 'file', 'id', 'model_name', 'patch_size', 'shape'])\n",
      "0462\n",
      "Starting Training\n",
      "epoch: 00, loss: -0.04427\n",
      "epoch: 01, loss: -0.07140\n",
      "epoch: 02, loss: -0.07087\n",
      "epoch: 03, loss: -0.07564\n",
      "epoch: 04, loss: -0.07500\n",
      "epoch: 05, loss: -0.07547\n",
      "epoch: 06, loss: -0.07410\n",
      "epoch: 07, loss: -0.07778\n",
      "epoch: 08, loss: -0.07869\n",
      "epoch: 09, loss: -0.07717\n",
      "torch.Size([400, 64])\n"
     ]
    },
    {
     "name": "stderr",
     "output_type": "stream",
     "text": [
      "\r",
      " 46%|█████████████████████████████████████████████████████████████████████████▍                                                                                     | 462/1000 [3:14:15<3:24:52, 22.85s/it]"
     ]
    },
    {
     "name": "stdout",
     "output_type": "stream",
     "text": [
      "eigenvalues shape torch.Size([5]) eigenvectors shape torch.Size([5, 400])\n",
      "462 /home/phdcs2/Hard_Disk/Datasets/Deep-Spectral-Segmentation/data/object-segmentation/ECSSD/features/dino_vits16/0463.pth\n",
      "dict_keys(['k', 'indices', 'file', 'id', 'model_name', 'patch_size', 'shape'])\n",
      "0463\n",
      "Starting Training\n",
      "epoch: 00, loss: -0.01467\n",
      "epoch: 01, loss: -0.03452\n",
      "epoch: 02, loss: -0.03726\n",
      "epoch: 03, loss: -0.03807\n",
      "epoch: 04, loss: -0.03860\n",
      "epoch: 05, loss: -0.03891\n",
      "epoch: 06, loss: -0.03924\n",
      "epoch: 07, loss: -0.03914\n",
      "epoch: 08, loss: -0.03934\n",
      "epoch: 09, loss: -0.03953\n",
      "torch.Size([450, 64])\n"
     ]
    },
    {
     "name": "stderr",
     "output_type": "stream",
     "text": [
      "\r",
      " 46%|█████████████████████████████████████████████████████████████████████████▌                                                                                     | 463/1000 [3:14:41<3:31:46, 23.66s/it]"
     ]
    },
    {
     "name": "stdout",
     "output_type": "stream",
     "text": [
      "eigenvalues shape torch.Size([5]) eigenvectors shape torch.Size([5, 450])\n",
      "463 /home/phdcs2/Hard_Disk/Datasets/Deep-Spectral-Segmentation/data/object-segmentation/ECSSD/features/dino_vits16/0464.pth\n",
      "dict_keys(['k', 'indices', 'file', 'id', 'model_name', 'patch_size', 'shape'])\n",
      "0464\n",
      "Starting Training\n",
      "epoch: 00, loss: -0.02245\n",
      "epoch: 01, loss: -0.04402\n",
      "epoch: 02, loss: -0.04662\n",
      "epoch: 03, loss: -0.04735\n",
      "epoch: 04, loss: -0.04754\n",
      "epoch: 05, loss: -0.04765\n",
      "epoch: 06, loss: -0.04780\n",
      "epoch: 07, loss: -0.04807\n",
      "epoch: 08, loss: -0.04816\n",
      "epoch: 09, loss: -0.04822\n",
      "torch.Size([450, 64])\n"
     ]
    },
    {
     "name": "stderr",
     "output_type": "stream",
     "text": [
      "\r",
      " 46%|█████████████████████████████████████████████████████████████████████████▊                                                                                     | 464/1000 [3:15:04<3:30:40, 23.58s/it]"
     ]
    },
    {
     "name": "stdout",
     "output_type": "stream",
     "text": [
      "eigenvalues shape torch.Size([5]) eigenvectors shape torch.Size([5, 450])\n",
      "464 /home/phdcs2/Hard_Disk/Datasets/Deep-Spectral-Segmentation/data/object-segmentation/ECSSD/features/dino_vits16/0465.pth\n",
      "dict_keys(['k', 'indices', 'file', 'id', 'model_name', 'patch_size', 'shape'])\n",
      "0465\n",
      "Starting Training\n",
      "epoch: 00, loss: -0.01922\n",
      "epoch: 01, loss: -0.03734\n",
      "epoch: 02, loss: -0.03975\n",
      "epoch: 03, loss: -0.04038\n",
      "epoch: 04, loss: -0.04082\n",
      "epoch: 05, loss: -0.04102\n",
      "epoch: 06, loss: -0.04128\n",
      "epoch: 07, loss: -0.04144\n",
      "epoch: 08, loss: -0.04158\n",
      "epoch: 09, loss: -0.04168\n",
      "torch.Size([450, 64])\n"
     ]
    },
    {
     "name": "stderr",
     "output_type": "stream",
     "text": [
      "\r",
      " 46%|█████████████████████████████████████████████████████████████████████████▉                                                                                     | 465/1000 [3:15:25<3:22:28, 22.71s/it]"
     ]
    },
    {
     "name": "stdout",
     "output_type": "stream",
     "text": [
      "eigenvalues shape torch.Size([5]) eigenvectors shape torch.Size([5, 450])\n",
      "465 /home/phdcs2/Hard_Disk/Datasets/Deep-Spectral-Segmentation/data/object-segmentation/ECSSD/features/dino_vits16/0466.pth\n",
      "dict_keys(['k', 'indices', 'file', 'id', 'model_name', 'patch_size', 'shape'])\n",
      "0466\n",
      "Starting Training\n",
      "epoch: 00, loss: -0.04794\n",
      "epoch: 01, loss: -0.07892\n",
      "epoch: 02, loss: -0.08304\n",
      "epoch: 03, loss: -0.08540\n",
      "epoch: 04, loss: -0.08518\n",
      "epoch: 05, loss: -0.08771\n",
      "epoch: 06, loss: -0.08921\n",
      "epoch: 07, loss: -0.08808\n",
      "epoch: 08, loss: -0.08809\n",
      "epoch: 09, loss: -0.08903\n",
      "torch.Size([400, 64])\n"
     ]
    },
    {
     "name": "stderr",
     "output_type": "stream",
     "text": [
      "\r",
      " 47%|██████████████████████████████████████████████████████████████████████████                                                                                     | 466/1000 [3:15:44<3:10:54, 21.45s/it]"
     ]
    },
    {
     "name": "stdout",
     "output_type": "stream",
     "text": [
      "eigenvalues shape torch.Size([5]) eigenvectors shape torch.Size([5, 400])\n",
      "466 /home/phdcs2/Hard_Disk/Datasets/Deep-Spectral-Segmentation/data/object-segmentation/ECSSD/features/dino_vits16/0467.pth\n",
      "dict_keys(['k', 'indices', 'file', 'id', 'model_name', 'patch_size', 'shape'])\n",
      "0467\n",
      "Starting Training\n",
      "epoch: 00, loss: -0.02533\n",
      "epoch: 01, loss: -0.04822\n",
      "epoch: 02, loss: -0.04902\n",
      "epoch: 03, loss: -0.05010\n",
      "epoch: 04, loss: -0.05068\n",
      "epoch: 05, loss: -0.05098\n",
      "epoch: 06, loss: -0.04936\n",
      "epoch: 07, loss: -0.05103\n",
      "epoch: 08, loss: -0.04961\n",
      "epoch: 09, loss: -0.04970\n",
      "torch.Size([425, 64])\n"
     ]
    },
    {
     "name": "stderr",
     "output_type": "stream",
     "text": [
      "\r",
      " 47%|██████████████████████████████████████████████████████████████████████████▎                                                                                    | 467/1000 [3:16:04<3:09:12, 21.30s/it]"
     ]
    },
    {
     "name": "stdout",
     "output_type": "stream",
     "text": [
      "eigenvalues shape torch.Size([5]) eigenvectors shape torch.Size([5, 425])\n",
      "467 /home/phdcs2/Hard_Disk/Datasets/Deep-Spectral-Segmentation/data/object-segmentation/ECSSD/features/dino_vits16/0468.pth\n",
      "dict_keys(['k', 'indices', 'file', 'id', 'model_name', 'patch_size', 'shape'])\n",
      "0468\n",
      "Starting Training\n",
      "epoch: 00, loss: -0.03160\n",
      "epoch: 01, loss: -0.05119\n",
      "epoch: 02, loss: -0.05291\n",
      "epoch: 03, loss: -0.05282\n",
      "epoch: 04, loss: -0.05324\n",
      "epoch: 05, loss: -0.05344\n",
      "epoch: 06, loss: -0.05357\n",
      "epoch: 07, loss: -0.05359\n",
      "epoch: 08, loss: -0.05384\n",
      "epoch: 09, loss: -0.05379\n",
      "torch.Size([450, 64])\n"
     ]
    },
    {
     "name": "stderr",
     "output_type": "stream",
     "text": [
      "\r",
      " 47%|██████████████████████████████████████████████████████████████████████████▍                                                                                    | 468/1000 [3:16:25<3:06:12, 21.00s/it]"
     ]
    },
    {
     "name": "stdout",
     "output_type": "stream",
     "text": [
      "eigenvalues shape torch.Size([5]) eigenvectors shape torch.Size([5, 450])\n",
      "468 /home/phdcs2/Hard_Disk/Datasets/Deep-Spectral-Segmentation/data/object-segmentation/ECSSD/features/dino_vits16/0469.pth\n",
      "dict_keys(['k', 'indices', 'file', 'id', 'model_name', 'patch_size', 'shape'])\n",
      "0469\n",
      "Starting Training\n",
      "epoch: 00, loss: -0.02130\n",
      "epoch: 01, loss: -0.03843\n",
      "epoch: 02, loss: -0.04163\n",
      "epoch: 03, loss: -0.04153\n",
      "epoch: 04, loss: -0.04226\n",
      "epoch: 05, loss: -0.04266\n",
      "epoch: 06, loss: -0.04284\n",
      "epoch: 07, loss: -0.04324\n",
      "epoch: 08, loss: -0.04350\n",
      "epoch: 09, loss: -0.04332\n",
      "torch.Size([400, 64])\n"
     ]
    },
    {
     "name": "stderr",
     "output_type": "stream",
     "text": [
      "\r",
      " 47%|██████████████████████████████████████████████████████████████████████████▌                                                                                    | 469/1000 [3:16:45<3:04:32, 20.85s/it]"
     ]
    },
    {
     "name": "stdout",
     "output_type": "stream",
     "text": [
      "eigenvalues shape torch.Size([5]) eigenvectors shape torch.Size([5, 400])\n",
      "469 /home/phdcs2/Hard_Disk/Datasets/Deep-Spectral-Segmentation/data/object-segmentation/ECSSD/features/dino_vits16/0470.pth\n",
      "dict_keys(['k', 'indices', 'file', 'id', 'model_name', 'patch_size', 'shape'])\n",
      "0470\n",
      "Starting Training\n",
      "epoch: 00, loss: -0.03418\n",
      "epoch: 01, loss: -0.05695\n",
      "epoch: 02, loss: -0.05865\n",
      "epoch: 03, loss: -0.05917\n",
      "epoch: 04, loss: -0.05957\n",
      "epoch: 05, loss: -0.05962\n",
      "epoch: 06, loss: -0.06006\n",
      "epoch: 07, loss: -0.06003\n",
      "epoch: 08, loss: -0.06022\n",
      "epoch: 09, loss: -0.06044\n",
      "torch.Size([400, 64])\n"
     ]
    },
    {
     "name": "stderr",
     "output_type": "stream",
     "text": [
      "\r",
      " 47%|██████████████████████████████████████████████████████████████████████████▋                                                                                    | 470/1000 [3:17:07<3:06:10, 21.08s/it]"
     ]
    },
    {
     "name": "stdout",
     "output_type": "stream",
     "text": [
      "eigenvalues shape torch.Size([5]) eigenvectors shape torch.Size([5, 400])\n",
      "470 /home/phdcs2/Hard_Disk/Datasets/Deep-Spectral-Segmentation/data/object-segmentation/ECSSD/features/dino_vits16/0471.pth\n",
      "dict_keys(['k', 'indices', 'file', 'id', 'model_name', 'patch_size', 'shape'])\n",
      "0471\n",
      "Starting Training\n",
      "epoch: 00, loss: -0.02618\n",
      "epoch: 01, loss: -0.05038\n",
      "epoch: 02, loss: -0.05634\n",
      "epoch: 03, loss: -0.05772\n",
      "epoch: 04, loss: -0.05714\n",
      "epoch: 05, loss: -0.06082\n",
      "epoch: 06, loss: -0.05861\n",
      "epoch: 07, loss: -0.05976\n",
      "epoch: 08, loss: -0.06036\n",
      "epoch: 09, loss: -0.06152\n",
      "torch.Size([450, 64])\n"
     ]
    },
    {
     "name": "stderr",
     "output_type": "stream",
     "text": [
      "\r",
      " 47%|██████████████████████████████████████████████████████████████████████████▉                                                                                    | 471/1000 [3:17:28<3:07:08, 21.23s/it]"
     ]
    },
    {
     "name": "stdout",
     "output_type": "stream",
     "text": [
      "eigenvalues shape torch.Size([5]) eigenvectors shape torch.Size([5, 450])\n",
      "471 /home/phdcs2/Hard_Disk/Datasets/Deep-Spectral-Segmentation/data/object-segmentation/ECSSD/features/dino_vits16/0472.pth\n",
      "dict_keys(['k', 'indices', 'file', 'id', 'model_name', 'patch_size', 'shape'])\n",
      "0472\n",
      "Starting Training\n",
      "epoch: 00, loss: -0.01468\n",
      "epoch: 01, loss: -0.03365\n",
      "epoch: 02, loss: -0.03701\n",
      "epoch: 03, loss: -0.03780\n",
      "epoch: 04, loss: -0.03828\n",
      "epoch: 05, loss: -0.03837\n",
      "epoch: 06, loss: -0.03865\n",
      "epoch: 07, loss: -0.03879\n",
      "epoch: 08, loss: -0.03895\n",
      "epoch: 09, loss: -0.03906\n",
      "torch.Size([400, 64])\n"
     ]
    },
    {
     "name": "stderr",
     "output_type": "stream",
     "text": [
      "\r",
      " 47%|███████████████████████████████████████████████████████████████████████████                                                                                    | 472/1000 [3:17:47<2:59:39, 20.42s/it]"
     ]
    },
    {
     "name": "stdout",
     "output_type": "stream",
     "text": [
      "eigenvalues shape torch.Size([5]) eigenvectors shape torch.Size([5, 400])\n",
      "472 /home/phdcs2/Hard_Disk/Datasets/Deep-Spectral-Segmentation/data/object-segmentation/ECSSD/features/dino_vits16/0473.pth\n",
      "dict_keys(['k', 'indices', 'file', 'id', 'model_name', 'patch_size', 'shape'])\n",
      "0473\n",
      "Starting Training\n",
      "epoch: 00, loss: -0.01460\n",
      "epoch: 01, loss: -0.02943\n",
      "epoch: 02, loss: -0.03162\n",
      "epoch: 03, loss: -0.03325\n",
      "epoch: 04, loss: -0.03300\n",
      "epoch: 05, loss: -0.03325\n",
      "epoch: 06, loss: -0.03386\n",
      "epoch: 07, loss: -0.03407\n",
      "epoch: 08, loss: -0.03390\n",
      "epoch: 09, loss: -0.03403\n",
      "torch.Size([425, 64])\n"
     ]
    },
    {
     "name": "stderr",
     "output_type": "stream",
     "text": [
      "\r",
      " 47%|███████████████████████████████████████████████████████████████████████████▏                                                                                   | 473/1000 [3:18:06<2:55:52, 20.02s/it]"
     ]
    },
    {
     "name": "stdout",
     "output_type": "stream",
     "text": [
      "eigenvalues shape torch.Size([5]) eigenvectors shape torch.Size([5, 425])\n",
      "473 /home/phdcs2/Hard_Disk/Datasets/Deep-Spectral-Segmentation/data/object-segmentation/ECSSD/features/dino_vits16/0474.pth\n",
      "dict_keys(['k', 'indices', 'file', 'id', 'model_name', 'patch_size', 'shape'])\n",
      "0474\n",
      "Starting Training\n",
      "epoch: 00, loss: -0.02199\n",
      "epoch: 01, loss: -0.03721\n",
      "epoch: 02, loss: -0.03942\n",
      "epoch: 03, loss: -0.04022\n",
      "epoch: 04, loss: -0.04033\n",
      "epoch: 05, loss: -0.04100\n",
      "epoch: 06, loss: -0.04106\n",
      "epoch: 07, loss: -0.04110\n",
      "epoch: 08, loss: -0.04135\n",
      "epoch: 09, loss: -0.04142\n",
      "torch.Size([400, 64])\n"
     ]
    },
    {
     "name": "stderr",
     "output_type": "stream",
     "text": [
      "\r",
      " 47%|███████████████████████████████████████████████████████████████████████████▎                                                                                   | 474/1000 [3:18:28<2:59:35, 20.49s/it]"
     ]
    },
    {
     "name": "stdout",
     "output_type": "stream",
     "text": [
      "eigenvalues shape torch.Size([5]) eigenvectors shape torch.Size([5, 400])\n",
      "474 /home/phdcs2/Hard_Disk/Datasets/Deep-Spectral-Segmentation/data/object-segmentation/ECSSD/features/dino_vits16/0475.pth\n",
      "dict_keys(['k', 'indices', 'file', 'id', 'model_name', 'patch_size', 'shape'])\n",
      "0475\n",
      "Starting Training\n",
      "epoch: 00, loss: -0.03420\n",
      "epoch: 01, loss: -0.06152\n",
      "epoch: 02, loss: -0.06483\n",
      "epoch: 03, loss: -0.06883\n",
      "epoch: 04, loss: -0.06800\n",
      "epoch: 05, loss: -0.06841\n",
      "epoch: 06, loss: -0.06845\n",
      "epoch: 07, loss: -0.06881\n",
      "epoch: 08, loss: -0.06934\n",
      "epoch: 09, loss: -0.06932\n",
      "torch.Size([400, 64])\n"
     ]
    },
    {
     "name": "stderr",
     "output_type": "stream",
     "text": [
      "\r",
      " 48%|███████████████████████████████████████████████████████████████████████████▌                                                                                   | 475/1000 [3:18:48<2:58:55, 20.45s/it]"
     ]
    },
    {
     "name": "stdout",
     "output_type": "stream",
     "text": [
      "eigenvalues shape torch.Size([5]) eigenvectors shape torch.Size([5, 400])\n",
      "475 /home/phdcs2/Hard_Disk/Datasets/Deep-Spectral-Segmentation/data/object-segmentation/ECSSD/features/dino_vits16/0476.pth\n",
      "dict_keys(['k', 'indices', 'file', 'id', 'model_name', 'patch_size', 'shape'])\n",
      "0476\n",
      "Starting Training\n",
      "epoch: 00, loss: -0.03294\n",
      "epoch: 01, loss: -0.05876\n",
      "epoch: 02, loss: -0.06371\n",
      "epoch: 03, loss: -0.06353\n",
      "epoch: 04, loss: -0.06679\n",
      "epoch: 05, loss: -0.06758\n",
      "epoch: 06, loss: -0.06567\n",
      "epoch: 07, loss: -0.06831\n",
      "epoch: 08, loss: -0.06645\n",
      "epoch: 09, loss: -0.06700\n",
      "torch.Size([400, 64])\n"
     ]
    },
    {
     "name": "stderr",
     "output_type": "stream",
     "text": [
      "\r",
      " 48%|███████████████████████████████████████████████████████████████████████████▋                                                                                   | 476/1000 [3:19:09<2:58:59, 20.49s/it]"
     ]
    },
    {
     "name": "stdout",
     "output_type": "stream",
     "text": [
      "eigenvalues shape torch.Size([5]) eigenvectors shape torch.Size([5, 400])\n",
      "476 /home/phdcs2/Hard_Disk/Datasets/Deep-Spectral-Segmentation/data/object-segmentation/ECSSD/features/dino_vits16/0477.pth\n",
      "dict_keys(['k', 'indices', 'file', 'id', 'model_name', 'patch_size', 'shape'])\n",
      "0477\n",
      "Starting Training\n",
      "epoch: 00, loss: -0.02264\n",
      "epoch: 01, loss: -0.04299\n",
      "epoch: 02, loss: -0.04600\n",
      "epoch: 03, loss: -0.04730\n",
      "epoch: 04, loss: -0.04916\n",
      "epoch: 05, loss: -0.04730\n",
      "epoch: 06, loss: -0.04876\n",
      "epoch: 07, loss: -0.04931\n",
      "epoch: 08, loss: -0.04711\n",
      "epoch: 09, loss: -0.04945\n",
      "torch.Size([450, 64])\n"
     ]
    },
    {
     "name": "stderr",
     "output_type": "stream",
     "text": [
      "\r",
      " 48%|███████████████████████████████████████████████████████████████████████████▊                                                                                   | 477/1000 [3:19:31<3:03:06, 21.01s/it]"
     ]
    },
    {
     "name": "stdout",
     "output_type": "stream",
     "text": [
      "eigenvalues shape torch.Size([5]) eigenvectors shape torch.Size([5, 450])\n",
      "477 /home/phdcs2/Hard_Disk/Datasets/Deep-Spectral-Segmentation/data/object-segmentation/ECSSD/features/dino_vits16/0478.pth\n",
      "dict_keys(['k', 'indices', 'file', 'id', 'model_name', 'patch_size', 'shape'])\n",
      "0478\n",
      "Starting Training\n",
      "epoch: 00, loss: -0.24735\n",
      "epoch: 01, loss: -0.29703\n",
      "epoch: 02, loss: -0.30597\n",
      "epoch: 03, loss: -0.30531\n",
      "epoch: 04, loss: -0.30585\n",
      "epoch: 05, loss: -0.30940\n",
      "epoch: 06, loss: -0.30843\n",
      "epoch: 07, loss: -0.30479\n",
      "epoch: 08, loss: -0.31277\n",
      "epoch: 09, loss: -0.31485\n",
      "torch.Size([400, 64])\n"
     ]
    },
    {
     "name": "stderr",
     "output_type": "stream",
     "text": [
      "\r",
      " 48%|████████████████████████████████████████████████████████████████████████████                                                                                   | 478/1000 [3:19:49<2:55:33, 20.18s/it]"
     ]
    },
    {
     "name": "stdout",
     "output_type": "stream",
     "text": [
      "eigenvalues shape torch.Size([5]) eigenvectors shape torch.Size([5, 400])\n",
      "478 /home/phdcs2/Hard_Disk/Datasets/Deep-Spectral-Segmentation/data/object-segmentation/ECSSD/features/dino_vits16/0479.pth\n",
      "dict_keys(['k', 'indices', 'file', 'id', 'model_name', 'patch_size', 'shape'])\n",
      "0479\n",
      "Starting Training\n",
      "epoch: 00, loss: -0.04632\n",
      "epoch: 01, loss: -0.06937\n",
      "epoch: 02, loss: -0.07069\n",
      "epoch: 03, loss: -0.07399\n",
      "epoch: 04, loss: -0.07371\n",
      "epoch: 05, loss: -0.07590\n",
      "epoch: 06, loss: -0.07555\n",
      "epoch: 07, loss: -0.07703\n",
      "epoch: 08, loss: -0.07615\n",
      "epoch: 09, loss: -0.07626\n",
      "torch.Size([450, 64])\n"
     ]
    },
    {
     "name": "stderr",
     "output_type": "stream",
     "text": [
      "\r",
      " 48%|████████████████████████████████████████████████████████████████████████████▏                                                                                  | 479/1000 [3:20:12<3:02:33, 21.02s/it]"
     ]
    },
    {
     "name": "stdout",
     "output_type": "stream",
     "text": [
      "eigenvalues shape torch.Size([5]) eigenvectors shape torch.Size([5, 450])\n",
      "479 /home/phdcs2/Hard_Disk/Datasets/Deep-Spectral-Segmentation/data/object-segmentation/ECSSD/features/dino_vits16/0480.pth\n",
      "dict_keys(['k', 'indices', 'file', 'id', 'model_name', 'patch_size', 'shape'])\n",
      "0480\n",
      "Starting Training\n",
      "epoch: 00, loss: -0.04481\n",
      "epoch: 01, loss: -0.06287\n",
      "epoch: 02, loss: -0.06390\n",
      "epoch: 03, loss: -0.06543\n",
      "epoch: 04, loss: -0.06443\n",
      "epoch: 05, loss: -0.06595\n",
      "epoch: 06, loss: -0.06697\n",
      "epoch: 07, loss: -0.06442\n",
      "epoch: 08, loss: -0.06618\n",
      "epoch: 09, loss: -0.06674\n",
      "torch.Size([625, 64])\n"
     ]
    },
    {
     "name": "stderr",
     "output_type": "stream",
     "text": [
      "\r",
      " 48%|████████████████████████████████████████████████████████████████████████████▎                                                                                  | 480/1000 [3:20:56<4:02:46, 28.01s/it]"
     ]
    },
    {
     "name": "stdout",
     "output_type": "stream",
     "text": [
      "eigenvalues shape torch.Size([5]) eigenvectors shape torch.Size([5, 625])\n",
      "480 /home/phdcs2/Hard_Disk/Datasets/Deep-Spectral-Segmentation/data/object-segmentation/ECSSD/features/dino_vits16/0481.pth\n",
      "dict_keys(['k', 'indices', 'file', 'id', 'model_name', 'patch_size', 'shape'])\n",
      "0481\n",
      "Starting Training\n",
      "epoch: 00, loss: -0.01415\n",
      "epoch: 01, loss: -0.03509\n",
      "epoch: 02, loss: -0.03796\n",
      "epoch: 03, loss: -0.03873\n",
      "epoch: 04, loss: -0.03908\n",
      "epoch: 05, loss: -0.03935\n",
      "epoch: 06, loss: -0.03956\n",
      "epoch: 07, loss: -0.03973\n",
      "epoch: 08, loss: -0.03989\n",
      "epoch: 09, loss: -0.04010\n",
      "torch.Size([450, 64])\n"
     ]
    },
    {
     "name": "stderr",
     "output_type": "stream",
     "text": [
      "\r",
      " 48%|████████████████████████████████████████████████████████████████████████████▍                                                                                  | 481/1000 [3:21:19<3:48:51, 26.46s/it]"
     ]
    },
    {
     "name": "stdout",
     "output_type": "stream",
     "text": [
      "eigenvalues shape torch.Size([5]) eigenvectors shape torch.Size([5, 450])\n",
      "481 /home/phdcs2/Hard_Disk/Datasets/Deep-Spectral-Segmentation/data/object-segmentation/ECSSD/features/dino_vits16/0482.pth\n",
      "dict_keys(['k', 'indices', 'file', 'id', 'model_name', 'patch_size', 'shape'])\n",
      "0482\n",
      "Starting Training\n",
      "epoch: 00, loss: -0.03843\n",
      "epoch: 01, loss: -0.06048\n",
      "epoch: 02, loss: -0.06151\n",
      "epoch: 03, loss: -0.06212\n",
      "epoch: 04, loss: -0.06255\n",
      "epoch: 05, loss: -0.06235\n",
      "epoch: 06, loss: -0.06303\n",
      "epoch: 07, loss: -0.06272\n",
      "epoch: 08, loss: -0.06303\n",
      "epoch: 09, loss: -0.06292\n",
      "torch.Size([450, 64])\n"
     ]
    },
    {
     "name": "stderr",
     "output_type": "stream",
     "text": [
      "\r",
      " 48%|████████████████████████████████████████████████████████████████████████████▋                                                                                  | 482/1000 [3:21:41<3:37:25, 25.18s/it]"
     ]
    },
    {
     "name": "stdout",
     "output_type": "stream",
     "text": [
      "eigenvalues shape torch.Size([5]) eigenvectors shape torch.Size([5, 450])\n",
      "482 /home/phdcs2/Hard_Disk/Datasets/Deep-Spectral-Segmentation/data/object-segmentation/ECSSD/features/dino_vits16/0483.pth\n",
      "dict_keys(['k', 'indices', 'file', 'id', 'model_name', 'patch_size', 'shape'])\n",
      "0483\n",
      "Starting Training\n",
      "epoch: 00, loss: -0.02458\n",
      "epoch: 01, loss: -0.04940\n",
      "epoch: 02, loss: -0.04980\n",
      "epoch: 03, loss: -0.05533\n",
      "epoch: 04, loss: -0.05344\n",
      "epoch: 05, loss: -0.05520\n",
      "epoch: 06, loss: -0.05770\n",
      "epoch: 07, loss: -0.05765\n",
      "epoch: 08, loss: -0.05759\n",
      "epoch: 09, loss: -0.05737\n",
      "torch.Size([400, 64])\n"
     ]
    },
    {
     "name": "stderr",
     "output_type": "stream",
     "text": [
      "\r",
      " 48%|████████████████████████████████████████████████████████████████████████████▊                                                                                  | 483/1000 [3:22:02<3:24:31, 23.74s/it]"
     ]
    },
    {
     "name": "stdout",
     "output_type": "stream",
     "text": [
      "eigenvalues shape torch.Size([5]) eigenvectors shape torch.Size([5, 400])\n",
      "483 /home/phdcs2/Hard_Disk/Datasets/Deep-Spectral-Segmentation/data/object-segmentation/ECSSD/features/dino_vits16/0484.pth\n",
      "dict_keys(['k', 'indices', 'file', 'id', 'model_name', 'patch_size', 'shape'])\n",
      "0484\n",
      "Starting Training\n",
      "epoch: 00, loss: 0.00318\n",
      "epoch: 01, loss: -0.00770\n",
      "epoch: 02, loss: -0.01201\n",
      "epoch: 03, loss: -0.01428\n",
      "epoch: 04, loss: -0.01569\n",
      "epoch: 05, loss: -0.01634\n",
      "epoch: 06, loss: -0.01686\n",
      "epoch: 07, loss: -0.01706\n",
      "epoch: 08, loss: -0.01738\n",
      "epoch: 09, loss: -0.01754\n",
      "torch.Size([450, 64])\n"
     ]
    },
    {
     "name": "stderr",
     "output_type": "stream",
     "text": [
      "\r",
      " 48%|████████████████████████████████████████████████████████████████████████████▉                                                                                  | 484/1000 [3:22:22<3:15:11, 22.70s/it]"
     ]
    },
    {
     "name": "stdout",
     "output_type": "stream",
     "text": [
      "eigenvalues shape torch.Size([5]) eigenvectors shape torch.Size([5, 450])\n",
      "484 /home/phdcs2/Hard_Disk/Datasets/Deep-Spectral-Segmentation/data/object-segmentation/ECSSD/features/dino_vits16/0485.pth\n",
      "dict_keys(['k', 'indices', 'file', 'id', 'model_name', 'patch_size', 'shape'])\n",
      "0485\n",
      "Starting Training\n",
      "epoch: 00, loss: -0.05299\n",
      "epoch: 01, loss: -0.09167\n",
      "epoch: 02, loss: -0.08932\n",
      "epoch: 03, loss: -0.09059\n",
      "epoch: 04, loss: -0.09375\n",
      "epoch: 05, loss: -0.09686\n",
      "epoch: 06, loss: -0.09516\n",
      "epoch: 07, loss: -0.09759\n",
      "epoch: 08, loss: -0.09575\n",
      "epoch: 09, loss: -0.09801\n",
      "torch.Size([400, 64])\n"
     ]
    },
    {
     "name": "stderr",
     "output_type": "stream",
     "text": [
      "\r",
      " 48%|█████████████████████████████████████████████████████████████████████████████                                                                                  | 485/1000 [3:22:40<3:03:12, 21.35s/it]"
     ]
    },
    {
     "name": "stdout",
     "output_type": "stream",
     "text": [
      "eigenvalues shape torch.Size([5]) eigenvectors shape torch.Size([5, 400])\n",
      "485 /home/phdcs2/Hard_Disk/Datasets/Deep-Spectral-Segmentation/data/object-segmentation/ECSSD/features/dino_vits16/0486.pth\n",
      "dict_keys(['k', 'indices', 'file', 'id', 'model_name', 'patch_size', 'shape'])\n",
      "0486\n",
      "Starting Training\n",
      "epoch: 00, loss: -0.03792\n",
      "epoch: 01, loss: -0.06405\n",
      "epoch: 02, loss: -0.06730\n",
      "epoch: 03, loss: -0.07138\n",
      "epoch: 04, loss: -0.07033\n",
      "epoch: 05, loss: -0.07065\n",
      "epoch: 06, loss: -0.07399\n",
      "epoch: 07, loss: -0.07161\n",
      "epoch: 08, loss: -0.07326\n",
      "epoch: 09, loss: -0.07253\n",
      "torch.Size([450, 64])\n"
     ]
    },
    {
     "name": "stderr",
     "output_type": "stream",
     "text": [
      "\r",
      " 49%|█████████████████████████████████████████████████████████████████████████████▎                                                                                 | 486/1000 [3:23:04<3:08:00, 21.95s/it]"
     ]
    },
    {
     "name": "stdout",
     "output_type": "stream",
     "text": [
      "eigenvalues shape torch.Size([5]) eigenvectors shape torch.Size([5, 450])\n",
      "486 /home/phdcs2/Hard_Disk/Datasets/Deep-Spectral-Segmentation/data/object-segmentation/ECSSD/features/dino_vits16/0487.pth\n",
      "dict_keys(['k', 'indices', 'file', 'id', 'model_name', 'patch_size', 'shape'])\n",
      "0487\n",
      "Starting Training\n",
      "epoch: 00, loss: -0.00855\n",
      "epoch: 01, loss: -0.03783\n",
      "epoch: 02, loss: -0.04474\n",
      "epoch: 03, loss: -0.04413\n",
      "epoch: 04, loss: -0.04770\n",
      "epoch: 05, loss: -0.04584\n",
      "epoch: 06, loss: -0.04630\n",
      "epoch: 07, loss: -0.04829\n",
      "epoch: 08, loss: -0.04764\n",
      "epoch: 09, loss: -0.04835\n",
      "torch.Size([400, 64])\n"
     ]
    },
    {
     "name": "stderr",
     "output_type": "stream",
     "text": [
      "\r",
      " 49%|█████████████████████████████████████████████████████████████████████████████▍                                                                                 | 487/1000 [3:23:23<3:00:20, 21.09s/it]"
     ]
    },
    {
     "name": "stdout",
     "output_type": "stream",
     "text": [
      "eigenvalues shape torch.Size([5]) eigenvectors shape torch.Size([5, 400])\n",
      "487 /home/phdcs2/Hard_Disk/Datasets/Deep-Spectral-Segmentation/data/object-segmentation/ECSSD/features/dino_vits16/0488.pth\n",
      "dict_keys(['k', 'indices', 'file', 'id', 'model_name', 'patch_size', 'shape'])\n",
      "0488\n",
      "Starting Training\n",
      "epoch: 00, loss: -0.04187\n",
      "epoch: 01, loss: -0.07534\n",
      "epoch: 02, loss: -0.07887\n",
      "epoch: 03, loss: -0.08134\n",
      "epoch: 04, loss: -0.08287\n",
      "epoch: 05, loss: -0.08250\n",
      "epoch: 06, loss: -0.08459\n",
      "epoch: 07, loss: -0.08427\n",
      "epoch: 08, loss: -0.08549\n",
      "epoch: 09, loss: -0.08487\n",
      "torch.Size([400, 64])\n"
     ]
    },
    {
     "name": "stderr",
     "output_type": "stream",
     "text": [
      "\r",
      " 49%|█████████████████████████████████████████████████████████████████████████████▌                                                                                 | 488/1000 [3:23:41<2:52:33, 20.22s/it]"
     ]
    },
    {
     "name": "stdout",
     "output_type": "stream",
     "text": [
      "eigenvalues shape torch.Size([5]) eigenvectors shape torch.Size([5, 400])\n",
      "488 /home/phdcs2/Hard_Disk/Datasets/Deep-Spectral-Segmentation/data/object-segmentation/ECSSD/features/dino_vits16/0489.pth\n",
      "dict_keys(['k', 'indices', 'file', 'id', 'model_name', 'patch_size', 'shape'])\n",
      "0489\n",
      "Starting Training\n",
      "epoch: 00, loss: -0.04298\n",
      "epoch: 01, loss: -0.07249\n",
      "epoch: 02, loss: -0.07292\n",
      "epoch: 03, loss: -0.07706\n",
      "epoch: 04, loss: -0.07950\n",
      "epoch: 05, loss: -0.07757\n",
      "epoch: 06, loss: -0.07988\n",
      "epoch: 07, loss: -0.07976\n",
      "epoch: 08, loss: -0.07942\n",
      "epoch: 09, loss: -0.07897\n",
      "torch.Size([550, 64])\n"
     ]
    },
    {
     "name": "stderr",
     "output_type": "stream",
     "text": [
      "\r",
      " 49%|█████████████████████████████████████████████████████████████████████████████▊                                                                                 | 489/1000 [3:24:28<4:00:19, 28.22s/it]"
     ]
    },
    {
     "name": "stdout",
     "output_type": "stream",
     "text": [
      "eigenvalues shape torch.Size([5]) eigenvectors shape torch.Size([5, 550])\n",
      "489 /home/phdcs2/Hard_Disk/Datasets/Deep-Spectral-Segmentation/data/object-segmentation/ECSSD/features/dino_vits16/0490.pth\n",
      "dict_keys(['k', 'indices', 'file', 'id', 'model_name', 'patch_size', 'shape'])\n",
      "0490\n",
      "Starting Training\n",
      "epoch: 00, loss: -0.03650\n",
      "epoch: 01, loss: -0.06441\n",
      "epoch: 02, loss: -0.07105\n",
      "epoch: 03, loss: -0.07138\n",
      "epoch: 04, loss: -0.07112\n",
      "epoch: 05, loss: -0.07264\n",
      "epoch: 06, loss: -0.07560\n",
      "epoch: 07, loss: -0.07521\n",
      "epoch: 08, loss: -0.07543\n",
      "epoch: 09, loss: -0.07314\n",
      "torch.Size([400, 64])\n"
     ]
    },
    {
     "name": "stderr",
     "output_type": "stream",
     "text": [
      "\r",
      " 49%|█████████████████████████████████████████████████████████████████████████████▉                                                                                 | 490/1000 [3:24:48<3:38:44, 25.73s/it]"
     ]
    },
    {
     "name": "stdout",
     "output_type": "stream",
     "text": [
      "eigenvalues shape torch.Size([5]) eigenvectors shape torch.Size([5, 400])\n",
      "490 /home/phdcs2/Hard_Disk/Datasets/Deep-Spectral-Segmentation/data/object-segmentation/ECSSD/features/dino_vits16/0491.pth\n",
      "dict_keys(['k', 'indices', 'file', 'id', 'model_name', 'patch_size', 'shape'])\n",
      "0491\n",
      "Starting Training\n",
      "epoch: 00, loss: -0.02587\n",
      "epoch: 01, loss: -0.05660\n",
      "epoch: 02, loss: -0.05911\n",
      "epoch: 03, loss: -0.05965\n",
      "epoch: 04, loss: -0.06221\n",
      "epoch: 05, loss: -0.06399\n",
      "epoch: 06, loss: -0.06279\n",
      "epoch: 07, loss: -0.06508\n",
      "epoch: 08, loss: -0.06480\n",
      "epoch: 09, loss: -0.06429\n",
      "torch.Size([500, 64])\n"
     ]
    },
    {
     "name": "stderr",
     "output_type": "stream",
     "text": [
      "\r",
      " 49%|██████████████████████████████████████████████████████████████████████████████                                                                                 | 491/1000 [3:25:13<3:37:08, 25.60s/it]"
     ]
    },
    {
     "name": "stdout",
     "output_type": "stream",
     "text": [
      "eigenvalues shape torch.Size([5]) eigenvectors shape torch.Size([5, 500])\n",
      "491 /home/phdcs2/Hard_Disk/Datasets/Deep-Spectral-Segmentation/data/object-segmentation/ECSSD/features/dino_vits16/0492.pth\n",
      "dict_keys(['k', 'indices', 'file', 'id', 'model_name', 'patch_size', 'shape'])\n",
      "0492\n",
      "Starting Training\n",
      "epoch: 00, loss: -0.03021\n",
      "epoch: 01, loss: -0.05904\n",
      "epoch: 02, loss: -0.06143\n",
      "epoch: 03, loss: -0.06176\n",
      "epoch: 04, loss: -0.06225\n",
      "epoch: 05, loss: -0.06207\n",
      "epoch: 06, loss: -0.06220\n",
      "epoch: 07, loss: -0.06256\n",
      "epoch: 08, loss: -0.06250\n",
      "epoch: 09, loss: -0.06254\n",
      "torch.Size([450, 64])\n"
     ]
    },
    {
     "name": "stderr",
     "output_type": "stream",
     "text": [
      "\r",
      " 49%|██████████████████████████████████████████████████████████████████████████████▏                                                                                | 492/1000 [3:25:36<3:30:09, 24.82s/it]"
     ]
    },
    {
     "name": "stdout",
     "output_type": "stream",
     "text": [
      "eigenvalues shape torch.Size([5]) eigenvectors shape torch.Size([5, 450])\n",
      "492 /home/phdcs2/Hard_Disk/Datasets/Deep-Spectral-Segmentation/data/object-segmentation/ECSSD/features/dino_vits16/0493.pth\n",
      "dict_keys(['k', 'indices', 'file', 'id', 'model_name', 'patch_size', 'shape'])\n",
      "0493\n",
      "Starting Training\n",
      "epoch: 00, loss: -0.00706\n",
      "epoch: 01, loss: -0.02560\n",
      "epoch: 02, loss: -0.02932\n",
      "epoch: 03, loss: -0.03055\n",
      "epoch: 04, loss: -0.03165\n",
      "epoch: 05, loss: -0.03182\n",
      "epoch: 06, loss: -0.03221\n",
      "epoch: 07, loss: -0.03214\n",
      "epoch: 08, loss: -0.03237\n",
      "epoch: 09, loss: -0.03250\n",
      "torch.Size([400, 64])\n"
     ]
    },
    {
     "name": "stderr",
     "output_type": "stream",
     "text": [
      "\r",
      " 49%|██████████████████████████████████████████████████████████████████████████████▍                                                                                | 493/1000 [3:25:54<3:12:34, 22.79s/it]"
     ]
    },
    {
     "name": "stdout",
     "output_type": "stream",
     "text": [
      "eigenvalues shape torch.Size([5]) eigenvectors shape torch.Size([5, 400])\n",
      "493 /home/phdcs2/Hard_Disk/Datasets/Deep-Spectral-Segmentation/data/object-segmentation/ECSSD/features/dino_vits16/0494.pth\n",
      "dict_keys(['k', 'indices', 'file', 'id', 'model_name', 'patch_size', 'shape'])\n",
      "0494\n",
      "Starting Training\n",
      "epoch: 00, loss: 0.00257\n",
      "epoch: 01, loss: -0.01240\n",
      "epoch: 02, loss: -0.01862\n",
      "epoch: 03, loss: -0.02169\n",
      "epoch: 04, loss: -0.02219\n",
      "epoch: 05, loss: -0.02338\n",
      "epoch: 06, loss: -0.02345\n",
      "epoch: 07, loss: -0.02401\n",
      "epoch: 08, loss: -0.02384\n",
      "epoch: 09, loss: -0.02448\n",
      "torch.Size([400, 64])\n"
     ]
    },
    {
     "name": "stderr",
     "output_type": "stream",
     "text": [
      "\r",
      " 49%|██████████████████████████████████████████████████████████████████████████████▌                                                                                | 494/1000 [3:26:14<3:04:20, 21.86s/it]"
     ]
    },
    {
     "name": "stdout",
     "output_type": "stream",
     "text": [
      "eigenvalues shape torch.Size([5]) eigenvectors shape torch.Size([5, 400])\n",
      "494 /home/phdcs2/Hard_Disk/Datasets/Deep-Spectral-Segmentation/data/object-segmentation/ECSSD/features/dino_vits16/0495.pth\n",
      "dict_keys(['k', 'indices', 'file', 'id', 'model_name', 'patch_size', 'shape'])\n",
      "0495\n",
      "Starting Training\n",
      "epoch: 00, loss: -0.01429\n",
      "epoch: 01, loss: -0.02798\n",
      "epoch: 02, loss: -0.03074\n",
      "epoch: 03, loss: -0.03183\n",
      "epoch: 04, loss: -0.03219\n",
      "epoch: 05, loss: -0.03242\n",
      "epoch: 06, loss: -0.03264\n",
      "epoch: 07, loss: -0.03276\n",
      "epoch: 08, loss: -0.03283\n",
      "epoch: 09, loss: -0.03308\n",
      "torch.Size([400, 64])\n"
     ]
    },
    {
     "name": "stderr",
     "output_type": "stream",
     "text": [
      "\r",
      " 50%|██████████████████████████████████████████████████████████████████████████████▋                                                                                | 495/1000 [3:26:32<2:55:24, 20.84s/it]"
     ]
    },
    {
     "name": "stdout",
     "output_type": "stream",
     "text": [
      "eigenvalues shape torch.Size([5]) eigenvectors shape torch.Size([5, 400])\n",
      "495 /home/phdcs2/Hard_Disk/Datasets/Deep-Spectral-Segmentation/data/object-segmentation/ECSSD/features/dino_vits16/0496.pth\n",
      "dict_keys(['k', 'indices', 'file', 'id', 'model_name', 'patch_size', 'shape'])\n",
      "0496\n",
      "Starting Training\n",
      "epoch: 00, loss: -0.02946\n",
      "epoch: 01, loss: -0.05444\n",
      "epoch: 02, loss: -0.05452\n",
      "epoch: 03, loss: -0.05519\n",
      "epoch: 04, loss: -0.05625\n",
      "epoch: 05, loss: -0.05658\n",
      "epoch: 06, loss: -0.05787\n",
      "epoch: 07, loss: -0.05965\n",
      "epoch: 08, loss: -0.05787\n",
      "epoch: 09, loss: -0.05734\n",
      "torch.Size([450, 64])\n"
     ]
    },
    {
     "name": "stderr",
     "output_type": "stream",
     "text": [
      "\r",
      " 50%|██████████████████████████████████████████████████████████████████████████████▊                                                                                | 496/1000 [3:26:57<3:05:49, 22.12s/it]"
     ]
    },
    {
     "name": "stdout",
     "output_type": "stream",
     "text": [
      "eigenvalues shape torch.Size([5]) eigenvectors shape torch.Size([5, 450])\n",
      "496 /home/phdcs2/Hard_Disk/Datasets/Deep-Spectral-Segmentation/data/object-segmentation/ECSSD/features/dino_vits16/0497.pth\n",
      "dict_keys(['k', 'indices', 'file', 'id', 'model_name', 'patch_size', 'shape'])\n",
      "0497\n",
      "Starting Training\n",
      "epoch: 00, loss: -0.02068\n",
      "epoch: 01, loss: -0.04436\n",
      "epoch: 02, loss: -0.04607\n",
      "epoch: 03, loss: -0.04681\n",
      "epoch: 04, loss: -0.04691\n",
      "epoch: 05, loss: -0.04692\n",
      "epoch: 06, loss: -0.04728\n",
      "epoch: 07, loss: -0.04738\n",
      "epoch: 08, loss: -0.04745\n",
      "epoch: 09, loss: -0.04743\n",
      "torch.Size([450, 64])\n"
     ]
    },
    {
     "name": "stderr",
     "output_type": "stream",
     "text": [
      "\r",
      " 50%|███████████████████████████████████████████████████████████████████████████████                                                                                | 497/1000 [3:27:21<3:10:16, 22.70s/it]"
     ]
    },
    {
     "name": "stdout",
     "output_type": "stream",
     "text": [
      "eigenvalues shape torch.Size([5]) eigenvectors shape torch.Size([5, 450])\n",
      "497 /home/phdcs2/Hard_Disk/Datasets/Deep-Spectral-Segmentation/data/object-segmentation/ECSSD/features/dino_vits16/0498.pth\n",
      "dict_keys(['k', 'indices', 'file', 'id', 'model_name', 'patch_size', 'shape'])\n",
      "0498\n",
      "Starting Training\n",
      "epoch: 00, loss: -0.04940\n",
      "epoch: 01, loss: -0.07727\n",
      "epoch: 02, loss: -0.08009\n",
      "epoch: 03, loss: -0.08296\n",
      "epoch: 04, loss: -0.08559\n",
      "epoch: 05, loss: -0.08719\n",
      "epoch: 06, loss: -0.08925\n",
      "epoch: 07, loss: -0.08889\n",
      "epoch: 08, loss: -0.08857\n",
      "epoch: 09, loss: -0.08815\n",
      "torch.Size([400, 64])\n"
     ]
    },
    {
     "name": "stderr",
     "output_type": "stream",
     "text": [
      "\r",
      " 50%|███████████████████████████████████████████████████████████████████████████████▏                                                                               | 498/1000 [3:27:41<3:02:23, 21.80s/it]"
     ]
    },
    {
     "name": "stdout",
     "output_type": "stream",
     "text": [
      "eigenvalues shape torch.Size([5]) eigenvectors shape torch.Size([5, 400])\n",
      "498 /home/phdcs2/Hard_Disk/Datasets/Deep-Spectral-Segmentation/data/object-segmentation/ECSSD/features/dino_vits16/0499.pth\n",
      "dict_keys(['k', 'indices', 'file', 'id', 'model_name', 'patch_size', 'shape'])\n",
      "0499\n",
      "Starting Training\n",
      "epoch: 00, loss: -0.00599\n",
      "epoch: 01, loss: -0.03038\n",
      "epoch: 02, loss: -0.03463\n",
      "epoch: 03, loss: -0.03604\n",
      "epoch: 04, loss: -0.03657\n",
      "epoch: 05, loss: -0.03672\n",
      "epoch: 06, loss: -0.03694\n",
      "epoch: 07, loss: -0.03715\n",
      "epoch: 08, loss: -0.03734\n",
      "epoch: 09, loss: -0.03747\n",
      "torch.Size([450, 64])\n"
     ]
    },
    {
     "name": "stderr",
     "output_type": "stream",
     "text": [
      "\r",
      " 50%|███████████████████████████████████████████████████████████████████████████████▎                                                                               | 499/1000 [3:28:04<3:04:59, 22.15s/it]"
     ]
    },
    {
     "name": "stdout",
     "output_type": "stream",
     "text": [
      "eigenvalues shape torch.Size([5]) eigenvectors shape torch.Size([5, 450])\n",
      "499 /home/phdcs2/Hard_Disk/Datasets/Deep-Spectral-Segmentation/data/object-segmentation/ECSSD/features/dino_vits16/0500.pth\n",
      "dict_keys(['k', 'indices', 'file', 'id', 'model_name', 'patch_size', 'shape'])\n",
      "0500\n",
      "Starting Training\n",
      "epoch: 00, loss: -0.04540\n",
      "epoch: 01, loss: -0.06985\n",
      "epoch: 02, loss: -0.07156\n",
      "epoch: 03, loss: -0.07364\n",
      "epoch: 04, loss: -0.07257\n",
      "epoch: 05, loss: -0.07091\n",
      "epoch: 06, loss: -0.07559\n",
      "epoch: 07, loss: -0.07393\n",
      "epoch: 08, loss: -0.07427\n",
      "epoch: 09, loss: -0.07573\n",
      "torch.Size([450, 64])\n"
     ]
    },
    {
     "name": "stderr",
     "output_type": "stream",
     "text": [
      "\r",
      " 50%|███████████████████████████████████████████████████████████████████████████████▌                                                                               | 500/1000 [3:28:26<3:05:20, 22.24s/it]"
     ]
    },
    {
     "name": "stdout",
     "output_type": "stream",
     "text": [
      "eigenvalues shape torch.Size([5]) eigenvectors shape torch.Size([5, 450])\n",
      "500 /home/phdcs2/Hard_Disk/Datasets/Deep-Spectral-Segmentation/data/object-segmentation/ECSSD/features/dino_vits16/0501.pth\n",
      "dict_keys(['k', 'indices', 'file', 'id', 'model_name', 'patch_size', 'shape'])\n",
      "0501\n",
      "Starting Training\n",
      "epoch: 00, loss: -0.01417\n",
      "epoch: 01, loss: -0.03500\n",
      "epoch: 02, loss: -0.03844\n",
      "epoch: 03, loss: -0.03954\n",
      "epoch: 04, loss: -0.03996\n",
      "epoch: 05, loss: -0.04020\n",
      "epoch: 06, loss: -0.04053\n",
      "epoch: 07, loss: -0.04046\n",
      "epoch: 08, loss: -0.04073\n",
      "epoch: 09, loss: -0.04083\n",
      "torch.Size([450, 64])\n"
     ]
    },
    {
     "name": "stderr",
     "output_type": "stream",
     "text": [
      "\r",
      " 50%|███████████████████████████████████████████████████████████████████████████████▋                                                                               | 501/1000 [3:28:49<3:05:03, 22.25s/it]"
     ]
    },
    {
     "name": "stdout",
     "output_type": "stream",
     "text": [
      "eigenvalues shape torch.Size([5]) eigenvectors shape torch.Size([5, 450])\n",
      "501 /home/phdcs2/Hard_Disk/Datasets/Deep-Spectral-Segmentation/data/object-segmentation/ECSSD/features/dino_vits16/0502.pth\n",
      "dict_keys(['k', 'indices', 'file', 'id', 'model_name', 'patch_size', 'shape'])\n",
      "0502\n",
      "Starting Training\n",
      "epoch: 00, loss: -0.10541\n",
      "epoch: 01, loss: -0.13472\n",
      "epoch: 02, loss: -0.13664\n",
      "epoch: 03, loss: -0.13772\n",
      "epoch: 04, loss: -0.13982\n",
      "epoch: 05, loss: -0.14070\n",
      "epoch: 06, loss: -0.14323\n",
      "epoch: 07, loss: -0.14353\n",
      "epoch: 08, loss: -0.14114\n",
      "epoch: 09, loss: -0.14332\n",
      "torch.Size([625, 64])\n"
     ]
    },
    {
     "name": "stderr",
     "output_type": "stream",
     "text": [
      "\r",
      " 50%|███████████████████████████████████████████████████████████████████████████████▊                                                                               | 502/1000 [3:29:35<4:03:42, 29.36s/it]"
     ]
    },
    {
     "name": "stdout",
     "output_type": "stream",
     "text": [
      "eigenvalues shape torch.Size([5]) eigenvectors shape torch.Size([5, 625])\n",
      "502 /home/phdcs2/Hard_Disk/Datasets/Deep-Spectral-Segmentation/data/object-segmentation/ECSSD/features/dino_vits16/0503.pth\n",
      "dict_keys(['k', 'indices', 'file', 'id', 'model_name', 'patch_size', 'shape'])\n",
      "0503\n",
      "Starting Training\n",
      "epoch: 00, loss: -0.04116\n",
      "epoch: 01, loss: -0.07640\n",
      "epoch: 02, loss: -0.07841\n",
      "epoch: 03, loss: -0.08156\n",
      "epoch: 04, loss: -0.08215\n",
      "epoch: 05, loss: -0.08154\n",
      "epoch: 06, loss: -0.08238\n",
      "epoch: 07, loss: -0.08424\n",
      "epoch: 08, loss: -0.08412\n",
      "epoch: 09, loss: -0.08437\n",
      "torch.Size([400, 64])\n"
     ]
    },
    {
     "name": "stderr",
     "output_type": "stream",
     "text": [
      "\r",
      " 50%|███████████████████████████████████████████████████████████████████████████████▉                                                                               | 503/1000 [3:29:55<3:39:39, 26.52s/it]"
     ]
    },
    {
     "name": "stdout",
     "output_type": "stream",
     "text": [
      "eigenvalues shape torch.Size([5]) eigenvectors shape torch.Size([5, 400])\n",
      "503 /home/phdcs2/Hard_Disk/Datasets/Deep-Spectral-Segmentation/data/object-segmentation/ECSSD/features/dino_vits16/0504.pth\n",
      "dict_keys(['k', 'indices', 'file', 'id', 'model_name', 'patch_size', 'shape'])\n",
      "0504\n",
      "Starting Training\n",
      "epoch: 00, loss: -0.03098\n",
      "epoch: 01, loss: -0.05744\n",
      "epoch: 02, loss: -0.06316\n",
      "epoch: 03, loss: -0.06387\n",
      "epoch: 04, loss: -0.06754\n",
      "epoch: 05, loss: -0.06742\n",
      "epoch: 06, loss: -0.06804\n",
      "epoch: 07, loss: -0.07234\n",
      "epoch: 08, loss: -0.06884\n",
      "epoch: 09, loss: -0.07187\n",
      "torch.Size([400, 64])\n"
     ]
    },
    {
     "name": "stderr",
     "output_type": "stream",
     "text": [
      "\r",
      " 50%|████████████████████████████████████████████████████████████████████████████████▏                                                                              | 504/1000 [3:30:13<3:19:20, 24.11s/it]"
     ]
    },
    {
     "name": "stdout",
     "output_type": "stream",
     "text": [
      "eigenvalues shape torch.Size([5]) eigenvectors shape torch.Size([5, 400])\n",
      "504 /home/phdcs2/Hard_Disk/Datasets/Deep-Spectral-Segmentation/data/object-segmentation/ECSSD/features/dino_vits16/0505.pth\n",
      "dict_keys(['k', 'indices', 'file', 'id', 'model_name', 'patch_size', 'shape'])\n",
      "0505\n",
      "Starting Training\n",
      "epoch: 00, loss: -0.03494\n",
      "epoch: 01, loss: -0.05526\n",
      "epoch: 02, loss: -0.05624\n",
      "epoch: 03, loss: -0.05733\n",
      "epoch: 04, loss: -0.05725\n",
      "epoch: 05, loss: -0.05753\n",
      "epoch: 06, loss: -0.05773\n",
      "epoch: 07, loss: -0.05783\n",
      "epoch: 08, loss: -0.05791\n",
      "epoch: 09, loss: -0.05811\n",
      "torch.Size([450, 64])\n"
     ]
    },
    {
     "name": "stderr",
     "output_type": "stream",
     "text": [
      "\r",
      " 50%|████████████████████████████████████████████████████████████████████████████████▎                                                                              | 505/1000 [3:30:35<3:14:24, 23.57s/it]"
     ]
    },
    {
     "name": "stdout",
     "output_type": "stream",
     "text": [
      "eigenvalues shape torch.Size([5]) eigenvectors shape torch.Size([5, 450])\n",
      "505 /home/phdcs2/Hard_Disk/Datasets/Deep-Spectral-Segmentation/data/object-segmentation/ECSSD/features/dino_vits16/0506.pth\n",
      "dict_keys(['k', 'indices', 'file', 'id', 'model_name', 'patch_size', 'shape'])\n",
      "0506\n",
      "Starting Training\n",
      "epoch: 00, loss: -0.01542\n",
      "epoch: 01, loss: -0.03565\n",
      "epoch: 02, loss: -0.03910\n",
      "epoch: 03, loss: -0.03986\n",
      "epoch: 04, loss: -0.04068\n",
      "epoch: 05, loss: -0.04082\n",
      "epoch: 06, loss: -0.04090\n",
      "epoch: 07, loss: -0.04112\n",
      "epoch: 08, loss: -0.04129\n",
      "epoch: 09, loss: -0.04132\n",
      "torch.Size([400, 64])\n"
     ]
    },
    {
     "name": "stderr",
     "output_type": "stream",
     "text": [
      "\r",
      " 51%|████████████████████████████████████████████████████████████████████████████████▍                                                                              | 506/1000 [3:30:53<3:00:06, 21.88s/it]"
     ]
    },
    {
     "name": "stdout",
     "output_type": "stream",
     "text": [
      "eigenvalues shape torch.Size([5]) eigenvectors shape torch.Size([5, 400])\n",
      "506 /home/phdcs2/Hard_Disk/Datasets/Deep-Spectral-Segmentation/data/object-segmentation/ECSSD/features/dino_vits16/0507.pth\n",
      "dict_keys(['k', 'indices', 'file', 'id', 'model_name', 'patch_size', 'shape'])\n",
      "0507\n",
      "Starting Training\n",
      "epoch: 00, loss: 0.00274\n",
      "epoch: 01, loss: -0.01399\n",
      "epoch: 02, loss: -0.02040\n",
      "epoch: 03, loss: -0.02469\n",
      "epoch: 04, loss: -0.02614\n",
      "epoch: 05, loss: -0.02505\n",
      "epoch: 06, loss: -0.02710\n",
      "epoch: 07, loss: -0.02568\n",
      "epoch: 08, loss: -0.02700\n",
      "epoch: 09, loss: -0.02638\n",
      "torch.Size([375, 64])\n"
     ]
    },
    {
     "name": "stderr",
     "output_type": "stream",
     "text": [
      "\r",
      " 51%|████████████████████████████████████████████████████████████████████████████████▌                                                                              | 507/1000 [3:31:14<2:56:02, 21.43s/it]"
     ]
    },
    {
     "name": "stdout",
     "output_type": "stream",
     "text": [
      "eigenvalues shape torch.Size([5]) eigenvectors shape torch.Size([5, 375])\n",
      "507 /home/phdcs2/Hard_Disk/Datasets/Deep-Spectral-Segmentation/data/object-segmentation/ECSSD/features/dino_vits16/0508.pth\n",
      "dict_keys(['k', 'indices', 'file', 'id', 'model_name', 'patch_size', 'shape'])\n",
      "0508\n",
      "Starting Training\n",
      "epoch: 00, loss: -0.04170\n",
      "epoch: 01, loss: -0.07082\n",
      "epoch: 02, loss: -0.07523\n",
      "epoch: 03, loss: -0.07670\n",
      "epoch: 04, loss: -0.07833\n",
      "epoch: 05, loss: -0.08076\n",
      "epoch: 06, loss: -0.07958\n",
      "epoch: 07, loss: -0.08159\n",
      "epoch: 08, loss: -0.08089\n",
      "epoch: 09, loss: -0.08013\n",
      "torch.Size([400, 64])\n"
     ]
    },
    {
     "name": "stderr",
     "output_type": "stream",
     "text": [
      "\r",
      " 51%|████████████████████████████████████████████████████████████████████████████████▊                                                                              | 508/1000 [3:31:33<2:49:13, 20.64s/it]"
     ]
    },
    {
     "name": "stdout",
     "output_type": "stream",
     "text": [
      "eigenvalues shape torch.Size([5]) eigenvectors shape torch.Size([5, 400])\n",
      "508 /home/phdcs2/Hard_Disk/Datasets/Deep-Spectral-Segmentation/data/object-segmentation/ECSSD/features/dino_vits16/0509.pth\n",
      "dict_keys(['k', 'indices', 'file', 'id', 'model_name', 'patch_size', 'shape'])\n",
      "0509\n",
      "Starting Training\n",
      "epoch: 00, loss: -0.01012\n",
      "epoch: 01, loss: -0.02546\n",
      "epoch: 02, loss: -0.02882\n",
      "epoch: 03, loss: -0.02937\n",
      "epoch: 04, loss: -0.02948\n",
      "epoch: 05, loss: -0.02960\n",
      "epoch: 06, loss: -0.02947\n",
      "epoch: 07, loss: -0.02936\n",
      "epoch: 08, loss: -0.02992\n",
      "epoch: 09, loss: -0.02970\n",
      "torch.Size([625, 64])\n"
     ]
    },
    {
     "name": "stderr",
     "output_type": "stream",
     "text": [
      "\r",
      " 51%|████████████████████████████████████████████████████████████████████████████████▉                                                                              | 509/1000 [3:32:17<3:47:42, 27.83s/it]"
     ]
    },
    {
     "name": "stdout",
     "output_type": "stream",
     "text": [
      "eigenvalues shape torch.Size([5]) eigenvectors shape torch.Size([5, 625])\n",
      "509 /home/phdcs2/Hard_Disk/Datasets/Deep-Spectral-Segmentation/data/object-segmentation/ECSSD/features/dino_vits16/0510.pth\n",
      "dict_keys(['k', 'indices', 'file', 'id', 'model_name', 'patch_size', 'shape'])\n",
      "0510\n",
      "Starting Training\n",
      "epoch: 00, loss: -0.02128\n",
      "epoch: 01, loss: -0.04587\n",
      "epoch: 02, loss: -0.05248\n",
      "epoch: 03, loss: -0.05324\n",
      "epoch: 04, loss: -0.05597\n",
      "epoch: 05, loss: -0.05384\n",
      "epoch: 06, loss: -0.05571\n",
      "epoch: 07, loss: -0.05826\n",
      "epoch: 08, loss: -0.05888\n",
      "epoch: 09, loss: -0.05582\n",
      "torch.Size([400, 64])\n"
     ]
    },
    {
     "name": "stderr",
     "output_type": "stream",
     "text": [
      "\r",
      " 51%|█████████████████████████████████████████████████████████████████████████████████                                                                              | 510/1000 [3:32:39<3:32:59, 26.08s/it]"
     ]
    },
    {
     "name": "stdout",
     "output_type": "stream",
     "text": [
      "eigenvalues shape torch.Size([5]) eigenvectors shape torch.Size([5, 400])\n",
      "510 /home/phdcs2/Hard_Disk/Datasets/Deep-Spectral-Segmentation/data/object-segmentation/ECSSD/features/dino_vits16/0511.pth\n",
      "dict_keys(['k', 'indices', 'file', 'id', 'model_name', 'patch_size', 'shape'])\n",
      "0511\n",
      "Starting Training\n",
      "epoch: 00, loss: -0.02748\n",
      "epoch: 01, loss: -0.04535\n",
      "epoch: 02, loss: -0.04595\n",
      "epoch: 03, loss: -0.05066\n",
      "epoch: 04, loss: -0.04980\n",
      "epoch: 05, loss: -0.05244\n",
      "epoch: 06, loss: -0.05015\n",
      "epoch: 07, loss: -0.05165\n",
      "epoch: 08, loss: -0.05079\n",
      "epoch: 09, loss: -0.05231\n",
      "torch.Size([625, 64])\n"
     ]
    },
    {
     "name": "stderr",
     "output_type": "stream",
     "text": [
      "\r",
      " 51%|█████████████████████████████████████████████████████████████████████████████████▏                                                                             | 511/1000 [3:33:18<4:03:10, 29.84s/it]"
     ]
    },
    {
     "name": "stdout",
     "output_type": "stream",
     "text": [
      "eigenvalues shape torch.Size([5]) eigenvectors shape torch.Size([5, 625])\n",
      "511 /home/phdcs2/Hard_Disk/Datasets/Deep-Spectral-Segmentation/data/object-segmentation/ECSSD/features/dino_vits16/0512.pth\n",
      "dict_keys(['k', 'indices', 'file', 'id', 'model_name', 'patch_size', 'shape'])\n",
      "0512\n",
      "Starting Training\n",
      "epoch: 00, loss: -0.01040\n",
      "epoch: 01, loss: -0.03386\n",
      "epoch: 02, loss: -0.03502\n",
      "epoch: 03, loss: -0.03709\n",
      "epoch: 04, loss: -0.03887\n",
      "epoch: 05, loss: -0.03859\n",
      "epoch: 06, loss: -0.04146\n",
      "epoch: 07, loss: -0.04070\n",
      "epoch: 08, loss: -0.03950\n",
      "epoch: 09, loss: -0.04063\n",
      "torch.Size([400, 64])\n"
     ]
    },
    {
     "name": "stderr",
     "output_type": "stream",
     "text": [
      "\r",
      " 51%|█████████████████████████████████████████████████████████████████████████████████▍                                                                             | 512/1000 [3:33:42<3:48:54, 28.14s/it]"
     ]
    },
    {
     "name": "stdout",
     "output_type": "stream",
     "text": [
      "eigenvalues shape torch.Size([5]) eigenvectors shape torch.Size([5, 400])\n",
      "512 /home/phdcs2/Hard_Disk/Datasets/Deep-Spectral-Segmentation/data/object-segmentation/ECSSD/features/dino_vits16/0513.pth\n",
      "dict_keys(['k', 'indices', 'file', 'id', 'model_name', 'patch_size', 'shape'])\n",
      "0513\n",
      "Starting Training\n",
      "epoch: 00, loss: -0.00612\n",
      "epoch: 01, loss: -0.02195\n",
      "epoch: 02, loss: -0.02968\n",
      "epoch: 03, loss: -0.03213\n",
      "epoch: 04, loss: -0.03335\n",
      "epoch: 05, loss: -0.03441\n",
      "epoch: 06, loss: -0.03408\n",
      "epoch: 07, loss: -0.03440\n",
      "epoch: 08, loss: -0.03809\n",
      "epoch: 09, loss: -0.03638\n",
      "torch.Size([400, 64])\n"
     ]
    },
    {
     "name": "stderr",
     "output_type": "stream",
     "text": [
      "\r",
      " 51%|█████████████████████████████████████████████████████████████████████████████████▌                                                                             | 513/1000 [3:33:57<3:17:50, 24.38s/it]"
     ]
    },
    {
     "name": "stdout",
     "output_type": "stream",
     "text": [
      "eigenvalues shape torch.Size([5]) eigenvectors shape torch.Size([5, 400])\n",
      "513 /home/phdcs2/Hard_Disk/Datasets/Deep-Spectral-Segmentation/data/object-segmentation/ECSSD/features/dino_vits16/0514.pth\n",
      "dict_keys(['k', 'indices', 'file', 'id', 'model_name', 'patch_size', 'shape'])\n",
      "0514\n",
      "Starting Training\n",
      "epoch: 00, loss: -0.00289\n",
      "epoch: 01, loss: -0.01709\n",
      "epoch: 02, loss: -0.02222\n",
      "epoch: 03, loss: -0.02459\n",
      "epoch: 04, loss: -0.02543\n",
      "epoch: 05, loss: -0.02485\n",
      "epoch: 06, loss: -0.02692\n",
      "epoch: 07, loss: -0.02688\n",
      "epoch: 08, loss: -0.02729\n",
      "epoch: 09, loss: -0.02559\n",
      "torch.Size([450, 64])\n"
     ]
    },
    {
     "name": "stderr",
     "output_type": "stream",
     "text": [
      "\r",
      " 51%|█████████████████████████████████████████████████████████████████████████████████▋                                                                             | 514/1000 [3:34:22<3:18:04, 24.45s/it]"
     ]
    },
    {
     "name": "stdout",
     "output_type": "stream",
     "text": [
      "eigenvalues shape torch.Size([5]) eigenvectors shape torch.Size([5, 450])\n",
      "514 /home/phdcs2/Hard_Disk/Datasets/Deep-Spectral-Segmentation/data/object-segmentation/ECSSD/features/dino_vits16/0515.pth\n",
      "dict_keys(['k', 'indices', 'file', 'id', 'model_name', 'patch_size', 'shape'])\n",
      "0515\n",
      "Starting Training\n",
      "epoch: 00, loss: -0.00932\n",
      "epoch: 01, loss: -0.04258\n",
      "epoch: 02, loss: -0.04900\n",
      "epoch: 03, loss: -0.05001\n",
      "epoch: 04, loss: -0.05486\n",
      "epoch: 05, loss: -0.05410\n",
      "epoch: 06, loss: -0.05382\n",
      "epoch: 07, loss: -0.05427\n",
      "epoch: 08, loss: -0.05428\n",
      "epoch: 09, loss: -0.05371\n",
      "torch.Size([450, 64])\n"
     ]
    },
    {
     "name": "stderr",
     "output_type": "stream",
     "text": [
      "\r",
      " 52%|█████████████████████████████████████████████████████████████████████████████████▉                                                                             | 515/1000 [3:34:43<3:08:18, 23.30s/it]"
     ]
    },
    {
     "name": "stdout",
     "output_type": "stream",
     "text": [
      "eigenvalues shape torch.Size([5]) eigenvectors shape torch.Size([5, 450])\n",
      "515 /home/phdcs2/Hard_Disk/Datasets/Deep-Spectral-Segmentation/data/object-segmentation/ECSSD/features/dino_vits16/0516.pth\n",
      "dict_keys(['k', 'indices', 'file', 'id', 'model_name', 'patch_size', 'shape'])\n",
      "0516\n",
      "Starting Training\n",
      "epoch: 00, loss: -0.01240\n",
      "epoch: 01, loss: -0.02931\n",
      "epoch: 02, loss: -0.03300\n",
      "epoch: 03, loss: -0.03404\n",
      "epoch: 04, loss: -0.03452\n",
      "epoch: 05, loss: -0.03480\n",
      "epoch: 06, loss: -0.03488\n",
      "epoch: 07, loss: -0.03503\n",
      "epoch: 08, loss: -0.03522\n",
      "epoch: 09, loss: -0.03527\n",
      "torch.Size([450, 64])\n"
     ]
    },
    {
     "name": "stderr",
     "output_type": "stream",
     "text": [
      "\r",
      " 52%|██████████████████████████████████████████████████████████████████████████████████                                                                             | 516/1000 [3:35:04<3:02:17, 22.60s/it]"
     ]
    },
    {
     "name": "stdout",
     "output_type": "stream",
     "text": [
      "eigenvalues shape torch.Size([5]) eigenvectors shape torch.Size([5, 450])\n",
      "516 /home/phdcs2/Hard_Disk/Datasets/Deep-Spectral-Segmentation/data/object-segmentation/ECSSD/features/dino_vits16/0517.pth\n",
      "dict_keys(['k', 'indices', 'file', 'id', 'model_name', 'patch_size', 'shape'])\n",
      "0517\n",
      "Starting Training\n",
      "epoch: 00, loss: -0.01101\n",
      "epoch: 01, loss: -0.04019\n",
      "epoch: 02, loss: -0.04746\n",
      "epoch: 03, loss: -0.04999\n",
      "epoch: 04, loss: -0.04822\n",
      "epoch: 05, loss: -0.05075\n",
      "epoch: 06, loss: -0.05384\n",
      "epoch: 07, loss: -0.05083\n",
      "epoch: 08, loss: -0.05283\n",
      "epoch: 09, loss: -0.05388\n",
      "torch.Size([450, 64])\n"
     ]
    },
    {
     "name": "stderr",
     "output_type": "stream",
     "text": [
      "\r",
      " 52%|██████████████████████████████████████████████████████████████████████████████████▏                                                                            | 517/1000 [3:35:25<2:59:44, 22.33s/it]"
     ]
    },
    {
     "name": "stdout",
     "output_type": "stream",
     "text": [
      "eigenvalues shape torch.Size([5]) eigenvectors shape torch.Size([5, 450])\n",
      "517 /home/phdcs2/Hard_Disk/Datasets/Deep-Spectral-Segmentation/data/object-segmentation/ECSSD/features/dino_vits16/0518.pth\n",
      "dict_keys(['k', 'indices', 'file', 'id', 'model_name', 'patch_size', 'shape'])\n",
      "0518\n",
      "Starting Training\n",
      "epoch: 00, loss: -0.01631\n",
      "epoch: 01, loss: -0.04766\n",
      "epoch: 02, loss: -0.05597\n",
      "epoch: 03, loss: -0.05675\n",
      "epoch: 04, loss: -0.05772\n",
      "epoch: 05, loss: -0.05681\n",
      "epoch: 06, loss: -0.05819\n",
      "epoch: 07, loss: -0.05974\n",
      "epoch: 08, loss: -0.06041\n",
      "epoch: 09, loss: -0.05886\n",
      "torch.Size([400, 64])\n"
     ]
    },
    {
     "name": "stderr",
     "output_type": "stream",
     "text": [
      "\r",
      " 52%|██████████████████████████████████████████████████████████████████████████████████▎                                                                            | 518/1000 [3:35:46<2:54:48, 21.76s/it]"
     ]
    },
    {
     "name": "stdout",
     "output_type": "stream",
     "text": [
      "eigenvalues shape torch.Size([5]) eigenvectors shape torch.Size([5, 400])\n",
      "518 /home/phdcs2/Hard_Disk/Datasets/Deep-Spectral-Segmentation/data/object-segmentation/ECSSD/features/dino_vits16/0519.pth\n",
      "dict_keys(['k', 'indices', 'file', 'id', 'model_name', 'patch_size', 'shape'])\n",
      "0519\n",
      "Starting Training\n",
      "epoch: 00, loss: -0.01490\n",
      "epoch: 01, loss: -0.03891\n",
      "epoch: 02, loss: -0.04152\n",
      "epoch: 03, loss: -0.04191\n",
      "epoch: 04, loss: -0.04230\n",
      "epoch: 05, loss: -0.04308\n",
      "epoch: 06, loss: -0.04293\n",
      "epoch: 07, loss: -0.04362\n",
      "epoch: 08, loss: -0.04351\n",
      "epoch: 09, loss: -0.04346\n",
      "torch.Size([375, 64])\n"
     ]
    },
    {
     "name": "stderr",
     "output_type": "stream",
     "text": [
      "\r",
      " 52%|██████████████████████████████████████████████████████████████████████████████████▌                                                                            | 519/1000 [3:36:02<2:40:14, 19.99s/it]"
     ]
    },
    {
     "name": "stdout",
     "output_type": "stream",
     "text": [
      "eigenvalues shape torch.Size([5]) eigenvectors shape torch.Size([5, 375])\n",
      "519 /home/phdcs2/Hard_Disk/Datasets/Deep-Spectral-Segmentation/data/object-segmentation/ECSSD/features/dino_vits16/0520.pth\n",
      "dict_keys(['k', 'indices', 'file', 'id', 'model_name', 'patch_size', 'shape'])\n",
      "0520\n",
      "Starting Training\n",
      "epoch: 00, loss: -0.09906\n",
      "epoch: 01, loss: -0.13220\n",
      "epoch: 02, loss: -0.13494\n",
      "epoch: 03, loss: -0.13642\n",
      "epoch: 04, loss: -0.14046\n",
      "epoch: 05, loss: -0.13820\n",
      "epoch: 06, loss: -0.14272\n",
      "epoch: 07, loss: -0.13701\n",
      "epoch: 08, loss: -0.14622\n",
      "epoch: 09, loss: -0.14667\n",
      "torch.Size([450, 64])\n"
     ]
    },
    {
     "name": "stderr",
     "output_type": "stream",
     "text": [
      "\r",
      " 52%|██████████████████████████████████████████████████████████████████████████████████▋                                                                            | 520/1000 [3:36:26<2:50:21, 21.30s/it]"
     ]
    },
    {
     "name": "stdout",
     "output_type": "stream",
     "text": [
      "eigenvalues shape torch.Size([5]) eigenvectors shape torch.Size([5, 450])\n",
      "520 /home/phdcs2/Hard_Disk/Datasets/Deep-Spectral-Segmentation/data/object-segmentation/ECSSD/features/dino_vits16/0521.pth\n",
      "dict_keys(['k', 'indices', 'file', 'id', 'model_name', 'patch_size', 'shape'])\n",
      "0521\n",
      "Starting Training\n",
      "epoch: 00, loss: -0.04027\n",
      "epoch: 01, loss: -0.06671\n",
      "epoch: 02, loss: -0.07098\n",
      "epoch: 03, loss: -0.07049\n",
      "epoch: 04, loss: -0.07160\n",
      "epoch: 05, loss: -0.07224\n",
      "epoch: 06, loss: -0.07245\n",
      "epoch: 07, loss: -0.07325\n",
      "epoch: 08, loss: -0.07369\n",
      "epoch: 09, loss: -0.07454\n",
      "torch.Size([450, 64])\n"
     ]
    },
    {
     "name": "stderr",
     "output_type": "stream",
     "text": [
      "\r",
      " 52%|██████████████████████████████████████████████████████████████████████████████████▊                                                                            | 521/1000 [3:36:47<2:49:25, 21.22s/it]"
     ]
    },
    {
     "name": "stdout",
     "output_type": "stream",
     "text": [
      "eigenvalues shape torch.Size([5]) eigenvectors shape torch.Size([5, 450])\n",
      "521 /home/phdcs2/Hard_Disk/Datasets/Deep-Spectral-Segmentation/data/object-segmentation/ECSSD/features/dino_vits16/0522.pth\n",
      "dict_keys(['k', 'indices', 'file', 'id', 'model_name', 'patch_size', 'shape'])\n",
      "0522\n",
      "Starting Training\n",
      "epoch: 00, loss: -0.02032\n",
      "epoch: 01, loss: -0.04971\n",
      "epoch: 02, loss: -0.05678\n",
      "epoch: 03, loss: -0.05697\n",
      "epoch: 04, loss: -0.05586\n",
      "epoch: 05, loss: -0.05731\n",
      "epoch: 06, loss: -0.05797\n",
      "epoch: 07, loss: -0.05707\n",
      "epoch: 08, loss: -0.05898\n",
      "epoch: 09, loss: -0.05976\n",
      "torch.Size([450, 64])\n"
     ]
    },
    {
     "name": "stderr",
     "output_type": "stream",
     "text": [
      "\r",
      " 52%|██████████████████████████████████████████████████████████████████████████████████▉                                                                            | 522/1000 [3:37:10<2:54:03, 21.85s/it]"
     ]
    },
    {
     "name": "stdout",
     "output_type": "stream",
     "text": [
      "eigenvalues shape torch.Size([5]) eigenvectors shape torch.Size([5, 450])\n",
      "522 /home/phdcs2/Hard_Disk/Datasets/Deep-Spectral-Segmentation/data/object-segmentation/ECSSD/features/dino_vits16/0523.pth\n",
      "dict_keys(['k', 'indices', 'file', 'id', 'model_name', 'patch_size', 'shape'])\n",
      "0523\n",
      "Starting Training\n",
      "epoch: 00, loss: -0.03407\n",
      "epoch: 01, loss: -0.05532\n",
      "epoch: 02, loss: -0.06450\n",
      "epoch: 03, loss: -0.06236\n",
      "epoch: 04, loss: -0.06479\n",
      "epoch: 05, loss: -0.06228\n",
      "epoch: 06, loss: -0.06333\n",
      "epoch: 07, loss: -0.06588\n",
      "epoch: 08, loss: -0.06803\n",
      "epoch: 09, loss: -0.06541\n",
      "torch.Size([450, 64])\n"
     ]
    },
    {
     "name": "stderr",
     "output_type": "stream",
     "text": [
      "\r",
      " 52%|███████████████████████████████████████████████████████████████████████████████████▏                                                                           | 523/1000 [3:37:32<2:54:07, 21.90s/it]"
     ]
    },
    {
     "name": "stdout",
     "output_type": "stream",
     "text": [
      "eigenvalues shape torch.Size([5]) eigenvectors shape torch.Size([5, 450])\n",
      "523 /home/phdcs2/Hard_Disk/Datasets/Deep-Spectral-Segmentation/data/object-segmentation/ECSSD/features/dino_vits16/0524.pth\n",
      "dict_keys(['k', 'indices', 'file', 'id', 'model_name', 'patch_size', 'shape'])\n",
      "0524\n",
      "Starting Training\n",
      "epoch: 00, loss: -0.00276\n",
      "epoch: 01, loss: -0.01960\n",
      "epoch: 02, loss: -0.02373\n",
      "epoch: 03, loss: -0.02576\n",
      "epoch: 04, loss: -0.02585\n",
      "epoch: 05, loss: -0.02658\n",
      "epoch: 06, loss: -0.02724\n",
      "epoch: 07, loss: -0.02786\n",
      "epoch: 08, loss: -0.02797\n",
      "epoch: 09, loss: -0.02687\n",
      "torch.Size([475, 64])\n"
     ]
    },
    {
     "name": "stderr",
     "output_type": "stream",
     "text": [
      "\r",
      " 52%|███████████████████████████████████████████████████████████████████████████████████▎                                                                           | 524/1000 [3:37:57<2:59:24, 22.62s/it]"
     ]
    },
    {
     "name": "stdout",
     "output_type": "stream",
     "text": [
      "eigenvalues shape torch.Size([5]) eigenvectors shape torch.Size([5, 475])\n",
      "524 /home/phdcs2/Hard_Disk/Datasets/Deep-Spectral-Segmentation/data/object-segmentation/ECSSD/features/dino_vits16/0525.pth\n",
      "dict_keys(['k', 'indices', 'file', 'id', 'model_name', 'patch_size', 'shape'])\n",
      "0525\n",
      "Starting Training\n",
      "epoch: 00, loss: 0.00294\n",
      "epoch: 01, loss: -0.01262\n",
      "epoch: 02, loss: -0.01877\n",
      "epoch: 03, loss: -0.02120\n",
      "epoch: 04, loss: -0.02235\n",
      "epoch: 05, loss: -0.02285\n",
      "epoch: 06, loss: -0.02347\n",
      "epoch: 07, loss: -0.02367\n",
      "epoch: 08, loss: -0.02375\n",
      "epoch: 09, loss: -0.02392\n",
      "torch.Size([400, 64])\n"
     ]
    },
    {
     "name": "stderr",
     "output_type": "stream",
     "text": [
      "\r",
      " 52%|███████████████████████████████████████████████████████████████████████████████████▍                                                                           | 525/1000 [3:38:16<2:50:39, 21.56s/it]"
     ]
    },
    {
     "name": "stdout",
     "output_type": "stream",
     "text": [
      "eigenvalues shape torch.Size([5]) eigenvectors shape torch.Size([5, 400])\n",
      "525 /home/phdcs2/Hard_Disk/Datasets/Deep-Spectral-Segmentation/data/object-segmentation/ECSSD/features/dino_vits16/0526.pth\n",
      "dict_keys(['k', 'indices', 'file', 'id', 'model_name', 'patch_size', 'shape'])\n",
      "0526\n",
      "Starting Training\n",
      "epoch: 00, loss: -0.03489\n",
      "epoch: 01, loss: -0.05611\n",
      "epoch: 02, loss: -0.05811\n",
      "epoch: 03, loss: -0.06328\n",
      "epoch: 04, loss: -0.06366\n",
      "epoch: 05, loss: -0.06377\n",
      "epoch: 06, loss: -0.06744\n",
      "epoch: 07, loss: -0.06412\n",
      "epoch: 08, loss: -0.06638\n",
      "epoch: 09, loss: -0.06466\n",
      "torch.Size([500, 64])\n"
     ]
    },
    {
     "name": "stderr",
     "output_type": "stream",
     "text": [
      "\r",
      " 53%|███████████████████████████████████████████████████████████████████████████████████▋                                                                           | 526/1000 [3:38:40<2:55:26, 22.21s/it]"
     ]
    },
    {
     "name": "stdout",
     "output_type": "stream",
     "text": [
      "eigenvalues shape torch.Size([5]) eigenvectors shape torch.Size([5, 500])\n",
      "526 /home/phdcs2/Hard_Disk/Datasets/Deep-Spectral-Segmentation/data/object-segmentation/ECSSD/features/dino_vits16/0527.pth\n",
      "dict_keys(['k', 'indices', 'file', 'id', 'model_name', 'patch_size', 'shape'])\n",
      "0527\n",
      "Starting Training\n",
      "epoch: 00, loss: -0.00467\n",
      "epoch: 01, loss: -0.02173\n",
      "epoch: 02, loss: -0.02675\n",
      "epoch: 03, loss: -0.02781\n",
      "epoch: 04, loss: -0.02869\n",
      "epoch: 05, loss: -0.02860\n",
      "epoch: 06, loss: -0.02923\n",
      "epoch: 07, loss: -0.02955\n",
      "epoch: 08, loss: -0.02910\n",
      "epoch: 09, loss: -0.02943\n",
      "torch.Size([400, 64])\n"
     ]
    },
    {
     "name": "stderr",
     "output_type": "stream",
     "text": [
      "\r",
      " 53%|███████████████████████████████████████████████████████████████████████████████████▊                                                                           | 527/1000 [3:38:59<2:49:41, 21.52s/it]"
     ]
    },
    {
     "name": "stdout",
     "output_type": "stream",
     "text": [
      "eigenvalues shape torch.Size([5]) eigenvectors shape torch.Size([5, 400])\n",
      "527 /home/phdcs2/Hard_Disk/Datasets/Deep-Spectral-Segmentation/data/object-segmentation/ECSSD/features/dino_vits16/0528.pth\n",
      "dict_keys(['k', 'indices', 'file', 'id', 'model_name', 'patch_size', 'shape'])\n",
      "0528\n",
      "Starting Training\n",
      "epoch: 00, loss: -0.02074\n",
      "epoch: 01, loss: -0.04221\n",
      "epoch: 02, loss: -0.04424\n",
      "epoch: 03, loss: -0.04498\n",
      "epoch: 04, loss: -0.04543\n",
      "epoch: 05, loss: -0.04547\n",
      "epoch: 06, loss: -0.04559\n",
      "epoch: 07, loss: -0.04588\n",
      "epoch: 08, loss: -0.04611\n",
      "epoch: 09, loss: -0.04621\n",
      "torch.Size([400, 64])\n"
     ]
    },
    {
     "name": "stderr",
     "output_type": "stream",
     "text": [
      "\r",
      " 53%|███████████████████████████████████████████████████████████████████████████████████▉                                                                           | 528/1000 [3:39:20<2:47:52, 21.34s/it]"
     ]
    },
    {
     "name": "stdout",
     "output_type": "stream",
     "text": [
      "eigenvalues shape torch.Size([5]) eigenvectors shape torch.Size([5, 400])\n",
      "528 /home/phdcs2/Hard_Disk/Datasets/Deep-Spectral-Segmentation/data/object-segmentation/ECSSD/features/dino_vits16/0529.pth\n",
      "dict_keys(['k', 'indices', 'file', 'id', 'model_name', 'patch_size', 'shape'])\n",
      "0529\n",
      "Starting Training\n",
      "epoch: 00, loss: -0.05934\n",
      "epoch: 01, loss: -0.08961\n",
      "epoch: 02, loss: -0.09015\n",
      "epoch: 03, loss: -0.09065\n",
      "epoch: 04, loss: -0.09074\n",
      "epoch: 05, loss: -0.09089\n",
      "epoch: 06, loss: -0.09100\n",
      "epoch: 07, loss: -0.09129\n",
      "epoch: 08, loss: -0.09127\n",
      "epoch: 09, loss: -0.09142\n",
      "torch.Size([400, 64])\n"
     ]
    },
    {
     "name": "stderr",
     "output_type": "stream",
     "text": [
      "\r",
      " 53%|████████████████████████████████████████████████████████████████████████████████████                                                                           | 529/1000 [3:39:39<2:40:44, 20.48s/it]"
     ]
    },
    {
     "name": "stdout",
     "output_type": "stream",
     "text": [
      "eigenvalues shape torch.Size([5]) eigenvectors shape torch.Size([5, 400])\n",
      "529 /home/phdcs2/Hard_Disk/Datasets/Deep-Spectral-Segmentation/data/object-segmentation/ECSSD/features/dino_vits16/0530.pth\n",
      "dict_keys(['k', 'indices', 'file', 'id', 'model_name', 'patch_size', 'shape'])\n",
      "0530\n",
      "Starting Training\n",
      "epoch: 00, loss: -0.01172\n",
      "epoch: 01, loss: -0.03763\n",
      "epoch: 02, loss: -0.04232\n",
      "epoch: 03, loss: -0.04480\n",
      "epoch: 04, loss: -0.04602\n",
      "epoch: 05, loss: -0.04763\n",
      "epoch: 06, loss: -0.05033\n",
      "epoch: 07, loss: -0.04642\n",
      "epoch: 08, loss: -0.04776\n",
      "epoch: 09, loss: -0.04851\n",
      "torch.Size([500, 64])\n"
     ]
    },
    {
     "name": "stderr",
     "output_type": "stream",
     "text": [
      "\r",
      " 53%|████████████████████████████████████████████████████████████████████████████████████▎                                                                          | 530/1000 [3:40:04<2:51:34, 21.90s/it]"
     ]
    },
    {
     "name": "stdout",
     "output_type": "stream",
     "text": [
      "eigenvalues shape torch.Size([5]) eigenvectors shape torch.Size([5, 500])\n",
      "530 /home/phdcs2/Hard_Disk/Datasets/Deep-Spectral-Segmentation/data/object-segmentation/ECSSD/features/dino_vits16/0531.pth\n",
      "dict_keys(['k', 'indices', 'file', 'id', 'model_name', 'patch_size', 'shape'])\n",
      "0531\n",
      "Starting Training\n",
      "epoch: 00, loss: -0.00698\n",
      "epoch: 01, loss: -0.02547\n",
      "epoch: 02, loss: -0.02966\n",
      "epoch: 03, loss: -0.03078\n",
      "epoch: 04, loss: -0.03124\n",
      "epoch: 05, loss: -0.03157\n",
      "epoch: 06, loss: -0.03180\n",
      "epoch: 07, loss: -0.03187\n",
      "epoch: 08, loss: -0.03199\n",
      "epoch: 09, loss: -0.03207\n",
      "torch.Size([450, 64])\n"
     ]
    },
    {
     "name": "stderr",
     "output_type": "stream",
     "text": [
      "\r",
      " 53%|████████████████████████████████████████████████████████████████████████████████████▍                                                                          | 531/1000 [3:40:24<2:47:22, 21.41s/it]"
     ]
    },
    {
     "name": "stdout",
     "output_type": "stream",
     "text": [
      "eigenvalues shape torch.Size([5]) eigenvectors shape torch.Size([5, 450])\n",
      "531 /home/phdcs2/Hard_Disk/Datasets/Deep-Spectral-Segmentation/data/object-segmentation/ECSSD/features/dino_vits16/0532.pth\n",
      "dict_keys(['k', 'indices', 'file', 'id', 'model_name', 'patch_size', 'shape'])\n",
      "0532\n",
      "Starting Training\n",
      "epoch: 00, loss: 0.00430\n",
      "epoch: 01, loss: -0.00484\n",
      "epoch: 02, loss: -0.00915\n",
      "epoch: 03, loss: -0.01143\n",
      "epoch: 04, loss: -0.01271\n",
      "epoch: 05, loss: -0.01370\n",
      "epoch: 06, loss: -0.01419\n",
      "epoch: 07, loss: -0.01451\n",
      "epoch: 08, loss: -0.01487\n",
      "epoch: 09, loss: -0.01500\n",
      "torch.Size([450, 64])\n"
     ]
    },
    {
     "name": "stderr",
     "output_type": "stream",
     "text": [
      "\r",
      " 53%|████████████████████████████████████████████████████████████████████████████████████▌                                                                          | 532/1000 [3:40:43<2:40:12, 20.54s/it]"
     ]
    },
    {
     "name": "stdout",
     "output_type": "stream",
     "text": [
      "eigenvalues shape torch.Size([5]) eigenvectors shape torch.Size([5, 450])\n",
      "532 /home/phdcs2/Hard_Disk/Datasets/Deep-Spectral-Segmentation/data/object-segmentation/ECSSD/features/dino_vits16/0533.pth\n",
      "dict_keys(['k', 'indices', 'file', 'id', 'model_name', 'patch_size', 'shape'])\n",
      "0533\n",
      "Starting Training\n",
      "epoch: 00, loss: -0.05096\n",
      "epoch: 01, loss: -0.06702\n",
      "epoch: 02, loss: -0.06836\n",
      "epoch: 03, loss: -0.06921\n",
      "epoch: 04, loss: -0.06980\n",
      "epoch: 05, loss: -0.06923\n",
      "epoch: 06, loss: -0.06896\n",
      "epoch: 07, loss: -0.06980\n",
      "epoch: 08, loss: -0.06945\n",
      "epoch: 09, loss: -0.06987\n",
      "torch.Size([400, 64])\n"
     ]
    },
    {
     "name": "stderr",
     "output_type": "stream",
     "text": [
      "\r",
      " 53%|████████████████████████████████████████████████████████████████████████████████████▋                                                                          | 533/1000 [3:40:58<2:28:24, 19.07s/it]"
     ]
    },
    {
     "name": "stdout",
     "output_type": "stream",
     "text": [
      "eigenvalues shape torch.Size([5]) eigenvectors shape torch.Size([5, 400])\n",
      "533 /home/phdcs2/Hard_Disk/Datasets/Deep-Spectral-Segmentation/data/object-segmentation/ECSSD/features/dino_vits16/0534.pth\n",
      "dict_keys(['k', 'indices', 'file', 'id', 'model_name', 'patch_size', 'shape'])\n",
      "0534\n",
      "Starting Training\n",
      "epoch: 00, loss: -0.01982\n",
      "epoch: 01, loss: -0.03754\n",
      "epoch: 02, loss: -0.03931\n",
      "epoch: 03, loss: -0.04007\n",
      "epoch: 04, loss: -0.04061\n",
      "epoch: 05, loss: -0.04087\n",
      "epoch: 06, loss: -0.04085\n",
      "epoch: 07, loss: -0.04109\n",
      "epoch: 08, loss: -0.04119\n",
      "epoch: 09, loss: -0.04134\n",
      "torch.Size([450, 64])\n"
     ]
    },
    {
     "name": "stderr",
     "output_type": "stream",
     "text": [
      "\r",
      " 53%|████████████████████████████████████████████████████████████████████████████████████▉                                                                          | 534/1000 [3:41:19<2:30:25, 19.37s/it]"
     ]
    },
    {
     "name": "stdout",
     "output_type": "stream",
     "text": [
      "eigenvalues shape torch.Size([5]) eigenvectors shape torch.Size([5, 450])\n",
      "534 /home/phdcs2/Hard_Disk/Datasets/Deep-Spectral-Segmentation/data/object-segmentation/ECSSD/features/dino_vits16/0535.pth\n",
      "dict_keys(['k', 'indices', 'file', 'id', 'model_name', 'patch_size', 'shape'])\n",
      "0535\n",
      "Starting Training\n",
      "epoch: 00, loss: -0.03616\n",
      "epoch: 01, loss: -0.06825\n",
      "epoch: 02, loss: -0.07729\n",
      "epoch: 03, loss: -0.08083\n",
      "epoch: 04, loss: -0.08079\n",
      "epoch: 05, loss: -0.08048\n",
      "epoch: 06, loss: -0.08239\n",
      "epoch: 07, loss: -0.08200\n",
      "epoch: 08, loss: -0.08307\n",
      "epoch: 09, loss: -0.08470\n",
      "torch.Size([400, 64])\n"
     ]
    },
    {
     "name": "stderr",
     "output_type": "stream",
     "text": [
      "\r",
      " 54%|█████████████████████████████████████████████████████████████████████████████████████                                                                          | 535/1000 [3:41:35<2:23:42, 18.54s/it]"
     ]
    },
    {
     "name": "stdout",
     "output_type": "stream",
     "text": [
      "eigenvalues shape torch.Size([5]) eigenvectors shape torch.Size([5, 400])\n",
      "535 /home/phdcs2/Hard_Disk/Datasets/Deep-Spectral-Segmentation/data/object-segmentation/ECSSD/features/dino_vits16/0536.pth\n",
      "dict_keys(['k', 'indices', 'file', 'id', 'model_name', 'patch_size', 'shape'])\n",
      "0536\n",
      "Starting Training\n",
      "epoch: 00, loss: -0.05156\n",
      "epoch: 01, loss: -0.07846\n",
      "epoch: 02, loss: -0.08089\n",
      "epoch: 03, loss: -0.08581\n",
      "epoch: 04, loss: -0.08746\n",
      "epoch: 05, loss: -0.08902\n",
      "epoch: 06, loss: -0.08402\n",
      "epoch: 07, loss: -0.08885\n",
      "epoch: 08, loss: -0.08778\n",
      "epoch: 09, loss: -0.08661\n",
      "torch.Size([450, 64])\n"
     ]
    },
    {
     "name": "stderr",
     "output_type": "stream",
     "text": [
      "\r",
      " 54%|█████████████████████████████████████████████████████████████████████████████████████▏                                                                         | 536/1000 [3:41:57<2:31:44, 19.62s/it]"
     ]
    },
    {
     "name": "stdout",
     "output_type": "stream",
     "text": [
      "eigenvalues shape torch.Size([5]) eigenvectors shape torch.Size([5, 450])\n",
      "536 /home/phdcs2/Hard_Disk/Datasets/Deep-Spectral-Segmentation/data/object-segmentation/ECSSD/features/dino_vits16/0537.pth\n",
      "dict_keys(['k', 'indices', 'file', 'id', 'model_name', 'patch_size', 'shape'])\n",
      "0537\n",
      "Starting Training\n",
      "epoch: 00, loss: -0.04496\n",
      "epoch: 01, loss: -0.06491\n",
      "epoch: 02, loss: -0.06849\n",
      "epoch: 03, loss: -0.07144\n",
      "epoch: 04, loss: -0.07152\n",
      "epoch: 05, loss: -0.07158\n",
      "epoch: 06, loss: -0.07325\n",
      "epoch: 07, loss: -0.07307\n",
      "epoch: 08, loss: -0.07329\n",
      "epoch: 09, loss: -0.07340\n",
      "torch.Size([450, 64])\n"
     ]
    },
    {
     "name": "stderr",
     "output_type": "stream",
     "text": [
      "\r",
      " 54%|█████████████████████████████████████████████████████████████████████████████████████▍                                                                         | 537/1000 [3:42:19<2:35:28, 20.15s/it]"
     ]
    },
    {
     "name": "stdout",
     "output_type": "stream",
     "text": [
      "eigenvalues shape torch.Size([5]) eigenvectors shape torch.Size([5, 450])\n",
      "537 /home/phdcs2/Hard_Disk/Datasets/Deep-Spectral-Segmentation/data/object-segmentation/ECSSD/features/dino_vits16/0538.pth\n",
      "dict_keys(['k', 'indices', 'file', 'id', 'model_name', 'patch_size', 'shape'])\n",
      "0538\n",
      "Starting Training\n",
      "epoch: 00, loss: -0.01107\n",
      "epoch: 01, loss: -0.02280\n",
      "epoch: 02, loss: -0.02750\n",
      "epoch: 03, loss: -0.03132\n",
      "epoch: 04, loss: -0.03116\n",
      "epoch: 05, loss: -0.03644\n",
      "epoch: 06, loss: -0.03227\n",
      "epoch: 07, loss: -0.03347\n",
      "epoch: 08, loss: -0.03386\n",
      "epoch: 09, loss: -0.03799\n",
      "torch.Size([400, 64])\n"
     ]
    },
    {
     "name": "stderr",
     "output_type": "stream",
     "text": [
      "\r",
      " 54%|█████████████████████████████████████████████████████████████████████████████████████▌                                                                         | 538/1000 [3:42:34<2:24:35, 18.78s/it]"
     ]
    },
    {
     "name": "stdout",
     "output_type": "stream",
     "text": [
      "eigenvalues shape torch.Size([5]) eigenvectors shape torch.Size([5, 400])\n",
      "538 /home/phdcs2/Hard_Disk/Datasets/Deep-Spectral-Segmentation/data/object-segmentation/ECSSD/features/dino_vits16/0539.pth\n",
      "dict_keys(['k', 'indices', 'file', 'id', 'model_name', 'patch_size', 'shape'])\n",
      "0539\n",
      "Starting Training\n",
      "epoch: 00, loss: -0.04754\n",
      "epoch: 01, loss: -0.08038\n",
      "epoch: 02, loss: -0.08449\n",
      "epoch: 03, loss: -0.08247\n",
      "epoch: 04, loss: -0.08807\n",
      "epoch: 05, loss: -0.08781\n",
      "epoch: 06, loss: -0.09031\n",
      "epoch: 07, loss: -0.09102\n",
      "epoch: 08, loss: -0.08921\n",
      "epoch: 09, loss: -0.09203\n",
      "torch.Size([425, 64])\n"
     ]
    },
    {
     "name": "stderr",
     "output_type": "stream",
     "text": [
      "\r",
      " 54%|█████████████████████████████████████████████████████████████████████████████████████▋                                                                         | 539/1000 [3:42:55<2:29:32, 19.46s/it]"
     ]
    },
    {
     "name": "stdout",
     "output_type": "stream",
     "text": [
      "eigenvalues shape torch.Size([5]) eigenvectors shape torch.Size([5, 425])\n",
      "539 /home/phdcs2/Hard_Disk/Datasets/Deep-Spectral-Segmentation/data/object-segmentation/ECSSD/features/dino_vits16/0540.pth\n",
      "dict_keys(['k', 'indices', 'file', 'id', 'model_name', 'patch_size', 'shape'])\n",
      "0540\n",
      "Starting Training\n",
      "epoch: 00, loss: -0.02469\n",
      "epoch: 01, loss: -0.04172\n",
      "epoch: 02, loss: -0.04315\n",
      "epoch: 03, loss: -0.04377\n",
      "epoch: 04, loss: -0.04422\n",
      "epoch: 05, loss: -0.04445\n",
      "epoch: 06, loss: -0.04468\n",
      "epoch: 07, loss: -0.04498\n",
      "epoch: 08, loss: -0.04502\n",
      "epoch: 09, loss: -0.04499\n",
      "torch.Size([450, 64])\n"
     ]
    },
    {
     "name": "stderr",
     "output_type": "stream",
     "text": [
      "\r",
      " 54%|█████████████████████████████████████████████████████████████████████████████████████▊                                                                         | 540/1000 [3:43:15<2:30:05, 19.58s/it]"
     ]
    },
    {
     "name": "stdout",
     "output_type": "stream",
     "text": [
      "eigenvalues shape torch.Size([5]) eigenvectors shape torch.Size([5, 450])\n",
      "540 /home/phdcs2/Hard_Disk/Datasets/Deep-Spectral-Segmentation/data/object-segmentation/ECSSD/features/dino_vits16/0541.pth\n",
      "dict_keys(['k', 'indices', 'file', 'id', 'model_name', 'patch_size', 'shape'])\n",
      "0541\n",
      "Starting Training\n",
      "epoch: 00, loss: -0.02619\n",
      "epoch: 01, loss: -0.05603\n",
      "epoch: 02, loss: -0.06253\n",
      "epoch: 03, loss: -0.06619\n",
      "epoch: 04, loss: -0.06188\n",
      "epoch: 05, loss: -0.06718\n",
      "epoch: 06, loss: -0.06624\n",
      "epoch: 07, loss: -0.06631\n",
      "epoch: 08, loss: -0.06817\n",
      "epoch: 09, loss: -0.06854\n",
      "torch.Size([400, 64])\n"
     ]
    },
    {
     "name": "stderr",
     "output_type": "stream",
     "text": [
      "\r",
      " 54%|██████████████████████████████████████████████████████████████████████████████████████                                                                         | 541/1000 [3:43:32<2:23:19, 18.73s/it]"
     ]
    },
    {
     "name": "stdout",
     "output_type": "stream",
     "text": [
      "eigenvalues shape torch.Size([5]) eigenvectors shape torch.Size([5, 400])\n",
      "541 /home/phdcs2/Hard_Disk/Datasets/Deep-Spectral-Segmentation/data/object-segmentation/ECSSD/features/dino_vits16/0542.pth\n",
      "dict_keys(['k', 'indices', 'file', 'id', 'model_name', 'patch_size', 'shape'])\n",
      "0542\n",
      "Starting Training\n",
      "epoch: 00, loss: -0.03570\n",
      "epoch: 01, loss: -0.05336\n",
      "epoch: 02, loss: -0.05433\n",
      "epoch: 03, loss: -0.05489\n",
      "epoch: 04, loss: -0.05522\n",
      "epoch: 05, loss: -0.05539\n",
      "epoch: 06, loss: -0.05543\n",
      "epoch: 07, loss: -0.05559\n",
      "epoch: 08, loss: -0.05560\n",
      "epoch: 09, loss: -0.05577\n",
      "torch.Size([450, 64])\n"
     ]
    },
    {
     "name": "stderr",
     "output_type": "stream",
     "text": [
      "\r",
      " 54%|██████████████████████████████████████████████████████████████████████████████████████▏                                                                        | 542/1000 [3:43:51<2:24:30, 18.93s/it]"
     ]
    },
    {
     "name": "stdout",
     "output_type": "stream",
     "text": [
      "eigenvalues shape torch.Size([5]) eigenvectors shape torch.Size([5, 450])\n",
      "542 /home/phdcs2/Hard_Disk/Datasets/Deep-Spectral-Segmentation/data/object-segmentation/ECSSD/features/dino_vits16/0543.pth\n",
      "dict_keys(['k', 'indices', 'file', 'id', 'model_name', 'patch_size', 'shape'])\n",
      "0543\n",
      "Starting Training\n",
      "epoch: 00, loss: -0.00346\n",
      "epoch: 01, loss: -0.02470\n",
      "epoch: 02, loss: -0.03016\n",
      "epoch: 03, loss: -0.03218\n",
      "epoch: 04, loss: -0.03278\n",
      "epoch: 05, loss: -0.03262\n",
      "epoch: 06, loss: -0.03342\n",
      "epoch: 07, loss: -0.03185\n",
      "epoch: 08, loss: -0.03347\n",
      "epoch: 09, loss: -0.03521\n",
      "torch.Size([400, 64])\n"
     ]
    },
    {
     "name": "stderr",
     "output_type": "stream",
     "text": [
      "\r",
      " 54%|██████████████████████████████████████████████████████████████████████████████████████▎                                                                        | 543/1000 [3:44:07<2:17:49, 18.09s/it]"
     ]
    },
    {
     "name": "stdout",
     "output_type": "stream",
     "text": [
      "eigenvalues shape torch.Size([5]) eigenvectors shape torch.Size([5, 400])\n",
      "543 /home/phdcs2/Hard_Disk/Datasets/Deep-Spectral-Segmentation/data/object-segmentation/ECSSD/features/dino_vits16/0544.pth\n",
      "dict_keys(['k', 'indices', 'file', 'id', 'model_name', 'patch_size', 'shape'])\n",
      "0544\n",
      "Starting Training\n",
      "epoch: 00, loss: -0.02999\n",
      "epoch: 01, loss: -0.04977\n",
      "epoch: 02, loss: -0.05792\n",
      "epoch: 03, loss: -0.06235\n",
      "epoch: 04, loss: -0.05894\n",
      "epoch: 05, loss: -0.06138\n",
      "epoch: 06, loss: -0.06130\n",
      "epoch: 07, loss: -0.06218\n",
      "epoch: 08, loss: -0.06251\n",
      "epoch: 09, loss: -0.06318\n",
      "torch.Size([400, 64])\n"
     ]
    },
    {
     "name": "stderr",
     "output_type": "stream",
     "text": [
      "\r",
      " 54%|██████████████████████████████████████████████████████████████████████████████████████▍                                                                        | 544/1000 [3:44:25<2:17:08, 18.05s/it]"
     ]
    },
    {
     "name": "stdout",
     "output_type": "stream",
     "text": [
      "eigenvalues shape torch.Size([5]) eigenvectors shape torch.Size([5, 400])\n",
      "544 /home/phdcs2/Hard_Disk/Datasets/Deep-Spectral-Segmentation/data/object-segmentation/ECSSD/features/dino_vits16/0545.pth\n",
      "dict_keys(['k', 'indices', 'file', 'id', 'model_name', 'patch_size', 'shape'])\n",
      "0545\n",
      "Starting Training\n",
      "epoch: 00, loss: 0.00292\n",
      "epoch: 01, loss: -0.00500\n",
      "epoch: 02, loss: -0.00895\n",
      "epoch: 03, loss: -0.01089\n",
      "epoch: 04, loss: -0.01190\n",
      "epoch: 05, loss: -0.01256\n",
      "epoch: 06, loss: -0.01310\n",
      "epoch: 07, loss: -0.01347\n",
      "epoch: 08, loss: -0.01368\n",
      "epoch: 09, loss: -0.01385\n",
      "torch.Size([400, 64])\n"
     ]
    },
    {
     "name": "stderr",
     "output_type": "stream",
     "text": [
      "\r",
      " 55%|██████████████████████████████████████████████████████████████████████████████████████▋                                                                        | 545/1000 [3:44:47<2:24:32, 19.06s/it]"
     ]
    },
    {
     "name": "stdout",
     "output_type": "stream",
     "text": [
      "eigenvalues shape torch.Size([5]) eigenvectors shape torch.Size([5, 400])\n",
      "545 /home/phdcs2/Hard_Disk/Datasets/Deep-Spectral-Segmentation/data/object-segmentation/ECSSD/features/dino_vits16/0546.pth\n",
      "dict_keys(['k', 'indices', 'file', 'id', 'model_name', 'patch_size', 'shape'])\n",
      "0546\n",
      "Starting Training\n",
      "epoch: 00, loss: 0.00103\n",
      "epoch: 01, loss: -0.00670\n",
      "epoch: 02, loss: -0.00991\n",
      "epoch: 03, loss: -0.01171\n",
      "epoch: 04, loss: -0.01280\n",
      "epoch: 05, loss: -0.01345\n",
      "epoch: 06, loss: -0.01383\n",
      "epoch: 07, loss: -0.01421\n",
      "epoch: 08, loss: -0.01434\n",
      "epoch: 09, loss: -0.01452\n",
      "torch.Size([450, 64])\n"
     ]
    },
    {
     "name": "stderr",
     "output_type": "stream",
     "text": [
      "\r",
      " 55%|██████████████████████████████████████████████████████████████████████████████████████▊                                                                        | 546/1000 [3:45:05<2:23:22, 18.95s/it]"
     ]
    },
    {
     "name": "stdout",
     "output_type": "stream",
     "text": [
      "eigenvalues shape torch.Size([5]) eigenvectors shape torch.Size([5, 450])\n",
      "546 /home/phdcs2/Hard_Disk/Datasets/Deep-Spectral-Segmentation/data/object-segmentation/ECSSD/features/dino_vits16/0547.pth\n",
      "dict_keys(['k', 'indices', 'file', 'id', 'model_name', 'patch_size', 'shape'])\n",
      "0547\n",
      "Starting Training\n",
      "epoch: 00, loss: -0.05221\n",
      "epoch: 01, loss: -0.07189\n",
      "epoch: 02, loss: -0.07623\n",
      "epoch: 03, loss: -0.07883\n",
      "epoch: 04, loss: -0.08311\n",
      "epoch: 05, loss: -0.08322\n",
      "epoch: 06, loss: -0.08310\n",
      "epoch: 07, loss: -0.08222\n",
      "epoch: 08, loss: -0.08381\n",
      "epoch: 09, loss: -0.08251\n",
      "torch.Size([450, 64])\n"
     ]
    },
    {
     "name": "stderr",
     "output_type": "stream",
     "text": [
      "\r",
      " 55%|██████████████████████████████████████████████████████████████████████████████████████▉                                                                        | 547/1000 [3:45:24<2:22:12, 18.83s/it]"
     ]
    },
    {
     "name": "stdout",
     "output_type": "stream",
     "text": [
      "eigenvalues shape torch.Size([5]) eigenvectors shape torch.Size([5, 450])\n",
      "547 /home/phdcs2/Hard_Disk/Datasets/Deep-Spectral-Segmentation/data/object-segmentation/ECSSD/features/dino_vits16/0548.pth\n",
      "dict_keys(['k', 'indices', 'file', 'id', 'model_name', 'patch_size', 'shape'])\n",
      "0548\n",
      "Starting Training\n",
      "epoch: 00, loss: -0.02773\n",
      "epoch: 01, loss: -0.05132\n",
      "epoch: 02, loss: -0.05363\n",
      "epoch: 03, loss: -0.05357\n",
      "epoch: 04, loss: -0.05491\n",
      "epoch: 05, loss: -0.05454\n",
      "epoch: 06, loss: -0.05443\n",
      "epoch: 07, loss: -0.05601\n",
      "epoch: 08, loss: -0.05520\n",
      "epoch: 09, loss: -0.05490\n",
      "torch.Size([425, 64])\n"
     ]
    },
    {
     "name": "stderr",
     "output_type": "stream",
     "text": [
      "\r",
      " 55%|███████████████████████████████████████████████████████████████████████████████████████▏                                                                       | 548/1000 [3:45:41<2:18:25, 18.37s/it]"
     ]
    },
    {
     "name": "stdout",
     "output_type": "stream",
     "text": [
      "eigenvalues shape torch.Size([5]) eigenvectors shape torch.Size([5, 425])\n",
      "548 /home/phdcs2/Hard_Disk/Datasets/Deep-Spectral-Segmentation/data/object-segmentation/ECSSD/features/dino_vits16/0549.pth\n",
      "dict_keys(['k', 'indices', 'file', 'id', 'model_name', 'patch_size', 'shape'])\n",
      "0549\n",
      "Starting Training\n",
      "epoch: 00, loss: -0.02089\n",
      "epoch: 01, loss: -0.03721\n",
      "epoch: 02, loss: -0.04022\n",
      "epoch: 03, loss: -0.04098\n",
      "epoch: 04, loss: -0.04055\n",
      "epoch: 05, loss: -0.04149\n",
      "epoch: 06, loss: -0.04163\n",
      "epoch: 07, loss: -0.04146\n",
      "epoch: 08, loss: -0.04159\n",
      "epoch: 09, loss: -0.04164\n",
      "torch.Size([400, 64])\n"
     ]
    },
    {
     "name": "stderr",
     "output_type": "stream",
     "text": [
      "\r",
      " 55%|███████████████████████████████████████████████████████████████████████████████████████▎                                                                       | 549/1000 [3:45:59<2:17:26, 18.29s/it]"
     ]
    },
    {
     "name": "stdout",
     "output_type": "stream",
     "text": [
      "eigenvalues shape torch.Size([5]) eigenvectors shape torch.Size([5, 400])\n",
      "549 /home/phdcs2/Hard_Disk/Datasets/Deep-Spectral-Segmentation/data/object-segmentation/ECSSD/features/dino_vits16/0550.pth\n",
      "dict_keys(['k', 'indices', 'file', 'id', 'model_name', 'patch_size', 'shape'])\n",
      "0550\n",
      "Starting Training\n",
      "epoch: 00, loss: -0.03220\n",
      "epoch: 01, loss: -0.06088\n",
      "epoch: 02, loss: -0.06513\n",
      "epoch: 03, loss: -0.06780\n",
      "epoch: 04, loss: -0.06837\n",
      "epoch: 05, loss: -0.06913\n",
      "epoch: 06, loss: -0.06992\n",
      "epoch: 07, loss: -0.06848\n",
      "epoch: 08, loss: -0.07135\n",
      "epoch: 09, loss: -0.06976\n",
      "torch.Size([425, 64])\n"
     ]
    },
    {
     "name": "stderr",
     "output_type": "stream",
     "text": [
      "\r",
      " 55%|███████████████████████████████████████████████████████████████████████████████████████▍                                                                       | 550/1000 [3:46:19<2:20:40, 18.76s/it]"
     ]
    },
    {
     "name": "stdout",
     "output_type": "stream",
     "text": [
      "eigenvalues shape torch.Size([5]) eigenvectors shape torch.Size([5, 425])\n",
      "550 /home/phdcs2/Hard_Disk/Datasets/Deep-Spectral-Segmentation/data/object-segmentation/ECSSD/features/dino_vits16/0551.pth\n",
      "dict_keys(['k', 'indices', 'file', 'id', 'model_name', 'patch_size', 'shape'])\n",
      "0551\n",
      "Starting Training\n",
      "epoch: 00, loss: -0.00101\n",
      "epoch: 01, loss: -0.01093\n",
      "epoch: 02, loss: -0.01454\n",
      "epoch: 03, loss: -0.01659\n",
      "epoch: 04, loss: -0.01769\n",
      "epoch: 05, loss: -0.01818\n",
      "epoch: 06, loss: -0.01842\n",
      "epoch: 07, loss: -0.01883\n",
      "epoch: 08, loss: -0.01902\n",
      "epoch: 09, loss: -0.01919\n",
      "torch.Size([400, 64])\n"
     ]
    },
    {
     "name": "stderr",
     "output_type": "stream",
     "text": [
      "\r",
      " 55%|███████████████████████████████████████████████████████████████████████████████████████▌                                                                       | 551/1000 [3:46:38<2:20:47, 18.81s/it]"
     ]
    },
    {
     "name": "stdout",
     "output_type": "stream",
     "text": [
      "eigenvalues shape torch.Size([5]) eigenvectors shape torch.Size([5, 400])\n",
      "551 /home/phdcs2/Hard_Disk/Datasets/Deep-Spectral-Segmentation/data/object-segmentation/ECSSD/features/dino_vits16/0552.pth\n",
      "dict_keys(['k', 'indices', 'file', 'id', 'model_name', 'patch_size', 'shape'])\n",
      "0552\n",
      "Starting Training\n",
      "epoch: 00, loss: -0.11941\n",
      "epoch: 01, loss: -0.15275\n",
      "epoch: 02, loss: -0.15455\n",
      "epoch: 03, loss: -0.15879\n",
      "epoch: 04, loss: -0.15725\n",
      "epoch: 05, loss: -0.15798\n",
      "epoch: 06, loss: -0.15892\n",
      "epoch: 07, loss: -0.15901\n",
      "epoch: 08, loss: -0.15884\n",
      "epoch: 09, loss: -0.16145\n",
      "torch.Size([400, 64])\n"
     ]
    },
    {
     "name": "stderr",
     "output_type": "stream",
     "text": [
      "\r",
      " 55%|███████████████████████████████████████████████████████████████████████████████████████▊                                                                       | 552/1000 [3:46:57<2:19:25, 18.67s/it]"
     ]
    },
    {
     "name": "stdout",
     "output_type": "stream",
     "text": [
      "eigenvalues shape torch.Size([5]) eigenvectors shape torch.Size([5, 400])\n",
      "552 /home/phdcs2/Hard_Disk/Datasets/Deep-Spectral-Segmentation/data/object-segmentation/ECSSD/features/dino_vits16/0553.pth\n",
      "dict_keys(['k', 'indices', 'file', 'id', 'model_name', 'patch_size', 'shape'])\n",
      "0553\n",
      "Starting Training\n",
      "epoch: 00, loss: 0.00347\n",
      "epoch: 01, loss: -0.01132\n",
      "epoch: 02, loss: -0.01638\n",
      "epoch: 03, loss: -0.01786\n",
      "epoch: 04, loss: -0.01873\n",
      "epoch: 05, loss: -0.01932\n",
      "epoch: 06, loss: -0.01963\n",
      "epoch: 07, loss: -0.01997\n",
      "epoch: 08, loss: -0.02012\n",
      "epoch: 09, loss: -0.02040\n",
      "torch.Size([450, 64])\n"
     ]
    },
    {
     "name": "stderr",
     "output_type": "stream",
     "text": [
      "\r",
      " 55%|███████████████████████████████████████████████████████████████████████████████████████▉                                                                       | 553/1000 [3:47:15<2:18:52, 18.64s/it]"
     ]
    },
    {
     "name": "stdout",
     "output_type": "stream",
     "text": [
      "eigenvalues shape torch.Size([5]) eigenvectors shape torch.Size([5, 450])\n",
      "553 /home/phdcs2/Hard_Disk/Datasets/Deep-Spectral-Segmentation/data/object-segmentation/ECSSD/features/dino_vits16/0554.pth\n",
      "dict_keys(['k', 'indices', 'file', 'id', 'model_name', 'patch_size', 'shape'])\n",
      "0554\n",
      "Starting Training\n",
      "epoch: 00, loss: -0.02137\n",
      "epoch: 01, loss: -0.03865\n",
      "epoch: 02, loss: -0.04138\n",
      "epoch: 03, loss: -0.04210\n",
      "epoch: 04, loss: -0.04232\n",
      "epoch: 05, loss: -0.04278\n",
      "epoch: 06, loss: -0.04278\n",
      "epoch: 07, loss: -0.04275\n",
      "epoch: 08, loss: -0.04303\n",
      "epoch: 09, loss: -0.04293\n",
      "torch.Size([450, 64])\n"
     ]
    },
    {
     "name": "stderr",
     "output_type": "stream",
     "text": [
      "\r",
      " 55%|████████████████████████████████████████████████████████████████████████████████████████                                                                       | 554/1000 [3:47:36<2:23:47, 19.34s/it]"
     ]
    },
    {
     "name": "stdout",
     "output_type": "stream",
     "text": [
      "eigenvalues shape torch.Size([5]) eigenvectors shape torch.Size([5, 450])\n",
      "554 /home/phdcs2/Hard_Disk/Datasets/Deep-Spectral-Segmentation/data/object-segmentation/ECSSD/features/dino_vits16/0555.pth\n",
      "dict_keys(['k', 'indices', 'file', 'id', 'model_name', 'patch_size', 'shape'])\n",
      "0555\n",
      "Starting Training\n",
      "epoch: 00, loss: -0.04929\n",
      "epoch: 01, loss: -0.06548\n",
      "epoch: 02, loss: -0.06628\n",
      "epoch: 03, loss: -0.06665\n",
      "epoch: 04, loss: -0.06718\n",
      "epoch: 05, loss: -0.06741\n",
      "epoch: 06, loss: -0.06744\n",
      "epoch: 07, loss: -0.06768\n",
      "epoch: 08, loss: -0.06769\n",
      "epoch: 09, loss: -0.06775\n",
      "torch.Size([500, 64])\n"
     ]
    },
    {
     "name": "stderr",
     "output_type": "stream",
     "text": [
      "\r",
      " 56%|████████████████████████████████████████████████████████████████████████████████████████▏                                                                      | 555/1000 [3:47:56<2:23:46, 19.39s/it]"
     ]
    },
    {
     "name": "stdout",
     "output_type": "stream",
     "text": [
      "eigenvalues shape torch.Size([5]) eigenvectors shape torch.Size([5, 500])\n",
      "555 /home/phdcs2/Hard_Disk/Datasets/Deep-Spectral-Segmentation/data/object-segmentation/ECSSD/features/dino_vits16/0556.pth\n",
      "dict_keys(['k', 'indices', 'file', 'id', 'model_name', 'patch_size', 'shape'])\n",
      "0556\n",
      "Starting Training\n",
      "epoch: 00, loss: -0.01028\n",
      "epoch: 01, loss: -0.03684\n",
      "epoch: 02, loss: -0.04436\n",
      "epoch: 03, loss: -0.04571\n",
      "epoch: 04, loss: -0.04789\n",
      "epoch: 05, loss: -0.05094\n",
      "epoch: 06, loss: -0.04766\n",
      "epoch: 07, loss: -0.04975\n",
      "epoch: 08, loss: -0.04928\n",
      "epoch: 09, loss: -0.04989\n",
      "torch.Size([525, 64])\n"
     ]
    },
    {
     "name": "stderr",
     "output_type": "stream",
     "text": [
      "\r",
      " 56%|████████████████████████████████████████████████████████████████████████████████████████▍                                                                      | 556/1000 [3:48:34<3:06:45, 25.24s/it]"
     ]
    },
    {
     "name": "stdout",
     "output_type": "stream",
     "text": [
      "eigenvalues shape torch.Size([5]) eigenvectors shape torch.Size([5, 525])\n",
      "556 /home/phdcs2/Hard_Disk/Datasets/Deep-Spectral-Segmentation/data/object-segmentation/ECSSD/features/dino_vits16/0557.pth\n",
      "dict_keys(['k', 'indices', 'file', 'id', 'model_name', 'patch_size', 'shape'])\n",
      "0557\n",
      "Starting Training\n",
      "epoch: 00, loss: -0.08237\n",
      "epoch: 01, loss: -0.11723\n",
      "epoch: 02, loss: -0.12174\n",
      "epoch: 03, loss: -0.12491\n",
      "epoch: 04, loss: -0.12622\n",
      "epoch: 05, loss: -0.12583\n",
      "epoch: 06, loss: -0.12700\n",
      "epoch: 07, loss: -0.12906\n",
      "epoch: 08, loss: -0.12846\n"
     ]
    },
    {
     "name": "stderr",
     "output_type": "stream",
     "text": [
      "\r",
      " 56%|████████████████████████████████████████████████████████████████████████████████████████▍                                                                      | 556/1000 [3:48:45<3:02:40, 24.69s/it]"
     ]
    },
    {
     "name": "stdout",
     "output_type": "stream",
     "text": [
      "epoch: 09, loss: -0.12995\n",
      "torch.Size([450, 64])\n"
     ]
    },
    {
     "name": "stderr",
     "output_type": "stream",
     "text": [
      "\n"
     ]
    },
    {
     "ename": "ValueError",
     "evalue": "all input arrays must have the same shape",
     "output_type": "error",
     "traceback": [
      "\u001b[0;31m---------------------------------------------------------------------------\u001b[0m",
      "\u001b[0;31mValueError\u001b[0m                                Traceback (most recent call last)",
      "Cell \u001b[0;32mIn[6], line 172\u001b[0m\n\u001b[1;32m    170\u001b[0m \u001b[38;5;66;03m# Color affinities (of type scipy.sparse.csr_matrix)\u001b[39;00m\n\u001b[1;32m    171\u001b[0m \u001b[38;5;28;01mif\u001b[39;00m which_color_matrix \u001b[38;5;241m==\u001b[39m \u001b[38;5;124m'\u001b[39m\u001b[38;5;124mknn\u001b[39m\u001b[38;5;124m'\u001b[39m:\n\u001b[0;32m--> 172\u001b[0m     W_lr \u001b[38;5;241m=\u001b[39m \u001b[43mutils\u001b[49m\u001b[38;5;241;43m.\u001b[39;49m\u001b[43mknn_affinity\u001b[49m\u001b[43m(\u001b[49m\u001b[43mimage_lr\u001b[49m\u001b[43m \u001b[49m\u001b[38;5;241;43m/\u001b[39;49m\u001b[43m \u001b[49m\u001b[38;5;241;43m255\u001b[39;49m\u001b[43m)\u001b[49m\n\u001b[1;32m    173\u001b[0m \u001b[38;5;28;01melif\u001b[39;00m which_color_matrix \u001b[38;5;241m==\u001b[39m \u001b[38;5;124m'\u001b[39m\u001b[38;5;124mrw\u001b[39m\u001b[38;5;124m'\u001b[39m:\n\u001b[1;32m    174\u001b[0m     W_lr \u001b[38;5;241m=\u001b[39m utils\u001b[38;5;241m.\u001b[39mrw_affinity(image_lr \u001b[38;5;241m/\u001b[39m \u001b[38;5;241m255\u001b[39m)\n",
      "File \u001b[0;32m~/Hard_Disk/Projects/T2I/deep-spectral-segmentation/extract/extract_utils.py:171\u001b[0m, in \u001b[0;36mknn_affinity\u001b[0;34m(image, n_neighbors, distance_weights)\u001b[0m\n\u001b[1;32m    168\u001b[0m i, j \u001b[38;5;241m=\u001b[39m [], []\n\u001b[1;32m    170\u001b[0m \u001b[38;5;28;01mfor\u001b[39;00m k, distance_weight \u001b[38;5;129;01min\u001b[39;00m \u001b[38;5;28mzip\u001b[39m(n_neighbors, distance_weights):\n\u001b[0;32m--> 171\u001b[0m     f \u001b[38;5;241m=\u001b[39m \u001b[43mnp\u001b[49m\u001b[38;5;241;43m.\u001b[39;49m\u001b[43mstack\u001b[49m\u001b[43m(\u001b[49m\n\u001b[1;32m    172\u001b[0m \u001b[43m        \u001b[49m\u001b[43m[\u001b[49m\u001b[43mr\u001b[49m\u001b[43m,\u001b[49m\u001b[43m \u001b[49m\u001b[43mg\u001b[49m\u001b[43m,\u001b[49m\u001b[43m \u001b[49m\u001b[43mb\u001b[49m\u001b[43m,\u001b[49m\u001b[43m \u001b[49m\u001b[43mdistance_weight\u001b[49m\u001b[43m \u001b[49m\u001b[38;5;241;43m*\u001b[39;49m\u001b[43m \u001b[49m\u001b[43mx\u001b[49m\u001b[43m,\u001b[49m\u001b[43m \u001b[49m\u001b[43mdistance_weight\u001b[49m\u001b[43m \u001b[49m\u001b[38;5;241;43m*\u001b[39;49m\u001b[43m \u001b[49m\u001b[43my\u001b[49m\u001b[43m]\u001b[49m\u001b[43m,\u001b[49m\n\u001b[1;32m    173\u001b[0m \u001b[43m        \u001b[49m\u001b[43maxis\u001b[49m\u001b[38;5;241;43m=\u001b[39;49m\u001b[38;5;241;43m1\u001b[39;49m\u001b[43m,\u001b[49m\n\u001b[1;32m    174\u001b[0m \u001b[43m        \u001b[49m\u001b[43mout\u001b[49m\u001b[38;5;241;43m=\u001b[39;49m\u001b[43mnp\u001b[49m\u001b[38;5;241;43m.\u001b[39;49m\u001b[43mzeros\u001b[49m\u001b[43m(\u001b[49m\u001b[43m(\u001b[49m\u001b[43mn\u001b[49m\u001b[43m,\u001b[49m\u001b[43m \u001b[49m\u001b[38;5;241;43m5\u001b[39;49m\u001b[43m)\u001b[49m\u001b[43m,\u001b[49m\u001b[43m \u001b[49m\u001b[43mdtype\u001b[49m\u001b[38;5;241;43m=\u001b[39;49m\u001b[43mnp\u001b[49m\u001b[38;5;241;43m.\u001b[39;49m\u001b[43mfloat32\u001b[49m\u001b[43m)\u001b[49m\u001b[43m,\u001b[49m\n\u001b[1;32m    175\u001b[0m \u001b[43m    \u001b[49m\u001b[43m)\u001b[49m\n\u001b[1;32m    177\u001b[0m     distances, neighbors \u001b[38;5;241m=\u001b[39m knn(f, f, k\u001b[38;5;241m=\u001b[39mk)\n\u001b[1;32m    179\u001b[0m     i\u001b[38;5;241m.\u001b[39mappend(np\u001b[38;5;241m.\u001b[39mrepeat(np\u001b[38;5;241m.\u001b[39marange(n), k))\n",
      "File \u001b[0;32m<__array_function__ internals>:180\u001b[0m, in \u001b[0;36mstack\u001b[0;34m(*args, **kwargs)\u001b[0m\n",
      "File \u001b[0;32m~/Hard_Disk/Projects/T2I/deep-spectral-segmentation/venv/lib/python3.8/site-packages/numpy/core/shape_base.py:426\u001b[0m, in \u001b[0;36mstack\u001b[0;34m(arrays, axis, out)\u001b[0m\n\u001b[1;32m    424\u001b[0m shapes \u001b[38;5;241m=\u001b[39m {arr\u001b[38;5;241m.\u001b[39mshape \u001b[38;5;28;01mfor\u001b[39;00m arr \u001b[38;5;129;01min\u001b[39;00m arrays}\n\u001b[1;32m    425\u001b[0m \u001b[38;5;28;01mif\u001b[39;00m \u001b[38;5;28mlen\u001b[39m(shapes) \u001b[38;5;241m!=\u001b[39m \u001b[38;5;241m1\u001b[39m:\n\u001b[0;32m--> 426\u001b[0m     \u001b[38;5;28;01mraise\u001b[39;00m \u001b[38;5;167;01mValueError\u001b[39;00m(\u001b[38;5;124m'\u001b[39m\u001b[38;5;124mall input arrays must have the same shape\u001b[39m\u001b[38;5;124m'\u001b[39m)\n\u001b[1;32m    428\u001b[0m result_ndim \u001b[38;5;241m=\u001b[39m arrays[\u001b[38;5;241m0\u001b[39m]\u001b[38;5;241m.\u001b[39mndim \u001b[38;5;241m+\u001b[39m \u001b[38;5;241m1\u001b[39m\n\u001b[1;32m    429\u001b[0m axis \u001b[38;5;241m=\u001b[39m normalize_axis_index(axis, result_ndim)\n",
      "\u001b[0;31mValueError\u001b[0m: all input arrays must have the same shape"
     ]
    }
   ],
   "source": [
    "pca_comp=64\n",
    "pca = PCA(n_components=pca_comp)\n",
    "utils.make_output_dir(output_dir)\n",
    "inputs = list(enumerate(sorted(Path(features_dir).iterdir())))\n",
    "for inp in tqdm(inputs):\n",
    "    index, features_file = inp\n",
    "    print(index, features_file)\n",
    "     # Load\n",
    "    data_dict = torch.load(features_file, map_location='cpu')\n",
    "    print(data_dict.keys())   #['k', 'indices', 'file', 'id', 'model_name', 'patch_size', 'shape']\n",
    "    # print(\"shape=\", data_dict['shape'], \"k shape\", data_dict['k'].shape, \"patch_size=\", data_dict['patch_size'])\n",
    "    image_id = data_dict['file'][:-4]\n",
    "    print(image_id)\n",
    "    # Load\n",
    "    output_file = str(Path(output_dir) / f'{image_id}.pth')\n",
    "    if Path(output_file).is_file():\n",
    "        print(f'Skipping existing file {str(output_file)}')\n",
    "        # break\n",
    "        # return  # skip because already generated\n",
    "\n",
    "    # Load affinity matrix\n",
    "    feats = data_dict[which_features].squeeze().cuda()\n",
    "    # print(\"Without normalizing, Features Shape is\",feats.shape)\n",
    "    if normalize:\n",
    "        feats = F.normalize(feats, p=2, dim=-1)\n",
    "    # print(\"After normalization, Features Shape\",feats.shape)\n",
    "    # print(\"which_matrix=\", which_matrix)\n",
    "    # Eigenvectors of affinity matrix\n",
    "    if which_matrix == 'affinity_torch':\n",
    "        W = feats @ feats.T\n",
    "        # W_feat=contrastive_affinity(feats, feats.T)\n",
    "        # print(\"W shape=\", W.shape)\n",
    "        if threshold_at_zero:\n",
    "            W = (W * (W > 0))\n",
    "            # print(\"W shape=\", W.shape)\n",
    "        eigenvalues, eigenvectors = torch.eig(W, eigenvectors=True)\n",
    "        eigenvalues = eigenvalues.cpu()\n",
    "        eigenvectors = eigenvectors.cpu()\n",
    "        print(\"which matrix=\",which_matrix, \"eigenvalues shape\", eigenvalues.shape, \"eigenvectors shape\", eigenvectors.shape)\n",
    "\n",
    "\n",
    "    # Eigenvectors of affinity matrix with scipy\n",
    "    elif which_matrix == 'affinity_svd':\n",
    "        USV = torch.linalg.svd(feats, full_matrices=False)\n",
    "        eigenvectors = USV[0][:, :K].T.to('cpu', non_blocking=True)\n",
    "        eigenvalues = USV[1][:K].to('cpu', non_blocking=True)\n",
    "        print(\"which matrix=\",which_matrix,\"eigenvalues shape\", eigenvalues.shape, \"eigenvectors shape\", eigenvectors.shape)\n",
    "\n",
    "    # Eigenvectors of affinity matrix with scipy\n",
    "    elif which_matrix == 'affinity':\n",
    "        # print(\"Without normalizing, Features Shape is\",feats.shape)\n",
    "        W = (feats @ feats.T)\n",
    "        # W_feat=contrastive_affinity(feats, feats.T)\n",
    "        # print(\"W shape=\", W.shape)\n",
    "        if threshold_at_zero:\n",
    "            W = (W * (W > 0))\n",
    "        W = W.cpu().numpy()\n",
    "        # print(\"W shape=\", W.shape)\n",
    "        eigenvalues, eigenvectors = eigsh(W, which='LM', k=K)\n",
    "        eigenvectors = torch.flip(torch.from_numpy(eigenvectors), dims=(-1,)).T\n",
    "        print(\"which matrix=\",which_matrix, \"eigenvalues shape\", eigenvalues.shape, \"eigenvectors shape\", eigenvectors.shape)\n",
    "\n",
    "    # Eigenvectors of matting laplacian matrix\n",
    "    elif which_matrix in ['matting_laplacian', 'laplacian']:\n",
    "\n",
    "        # Get sizes\n",
    "        B, C, H, W, P, H_patch, W_patch, H_pad, W_pad = utils.get_image_sizes(data_dict)\n",
    "        if image_downsample_factor is None:\n",
    "            image_downsample_factor = P\n",
    "        H_pad_lr, W_pad_lr = H_pad // image_downsample_factor, W_pad // image_downsample_factor\n",
    "\n",
    "        # Upscale features to match the resolution\n",
    "        if (H_patch, W_patch) != (H_pad_lr, W_pad_lr):\n",
    "            feats = F.interpolate(\n",
    "                feats.T.reshape(1, -1, H_patch, W_patch),\n",
    "                size=(H_pad_lr, W_pad_lr), mode='bilinear', align_corners=False\n",
    "            ).reshape(-1, H_pad_lr * W_pad_lr).T\n",
    "\n",
    "        ### Feature affinities\n",
    "        # print(\"Without normalizing, Features Shape is\",feats.shape)\n",
    "\n",
    "        W_feat_ds = (feats @ feats.T)\n",
    "        max_wfeatds=torch.max(W_feat_ds).item()\n",
    "        alpha=2\n",
    "        W_feat_ds = W_feat_ds - (max_wfeatds / alpha)\n",
    "        layer=nn.Linear(pca_comp,pca_comp).cuda()\n",
    "        x0=feats\n",
    "        x0_arr=x0.cpu()\n",
    "        # print(x0_arr.shape)\n",
    "        z0_arr= pca.fit_transform(x0_arr)\n",
    "\n",
    "        # Define the affine transformation parameters\n",
    "        scale = np.random.uniform(0.8, 1.2)  # Random scaling factor between 0.8 and 1.2\n",
    "        translation = np.random.uniform(-10, 10, size=2)  # Random translation vector between -10 and 10 in both directions\n",
    "        rotation = np.random.uniform(-15, 15)  # Random rotation angle between -15 and 15 degrees\n",
    "        shear = np.random.uniform(-0.2, 0.2, size=2)  # Random shear factor between -0.2 and 0.2 in both directions\n",
    "\n",
    "        # Define the affine matrix\n",
    "        affine_matrix = np.array([[scale * np.cos(rotation), -shear[0] * scale * np.sin(rotation), translation[0]],\n",
    "                                  [shear[1] * scale * np.sin(rotation), scale * np.cos(rotation), translation[1]],\n",
    "                                  [0, 0, 1]])\n",
    "        z1_arr=affine_transform(z0_arr, affine_matrix)\n",
    "#         z1_arr=pca.fit_transform(z1_arr)\n",
    "        z0 = torch.from_numpy(z0_arr).float()\n",
    "        z1 = torch.from_numpy(z1_arr).float()\n",
    "\n",
    "        # feat_list.append(feats)\n",
    "        feat_dataset_z0 = Feature_Dataset(z0)\n",
    "        if feats.shape[0]%2==0:\n",
    "            features_dataloader_z0 = DataLoader(feat_dataset_z0, batch_size=batch_size, shuffle=True)\n",
    "        else:\n",
    "            features_dataloader_z0 = DataLoader(feat_dataset_z0, batch_size=batch_size, shuffle=True, drop_last=True)\n",
    "\n",
    "        feat_dataset_z1 = Feature_Dataset(z1)\n",
    "        if feats.shape[0]%2==0:\n",
    "            features_dataloader_z1 = DataLoader(feat_dataset_z1, batch_size=batch_size, shuffle=True)\n",
    "        else:\n",
    "            features_dataloader_z1 = DataLoader(feat_dataset_z1, batch_size=batch_size, shuffle=True, drop_last=True)\n",
    "        device = \"cuda\" if torch.cuda.is_available() else \"cpu\"\n",
    "    \n",
    "        criterion = NegativeCosineSimilarity()\n",
    "        optimizer = torch.optim.SGD(layer.parameters(), lr=0.06)\n",
    "        print(\"Starting Training\")\n",
    "        for epoch in range(epochs):\n",
    "            total_loss = 0\n",
    "            for z0_new,z1_new in zip(features_dataloader_z0,features_dataloader_z1):\n",
    "                z0_new = z0_new.to(device)\n",
    "                z1_new = z1_new.to(device)\n",
    "    #             print(\"z0_new.shape\", z0_new.shape)\n",
    "    #             print(\"z1_new.shape\", z1_new.shape)\n",
    "                p0=layer(z0_new)\n",
    "                p1=layer(z1_new)\n",
    "    #             print(\"p0.shape\", p0.shape)\n",
    "    #             print(\"p1.shape\", p1.shape)\n",
    "                loss = 0.5 * (criterion(z0_new, p1) + criterion(z1_new, p0))\n",
    "                total_loss += loss.detach()\n",
    "                loss.backward()\n",
    "                optimizer.step()\n",
    "                optimizer.zero_grad()\n",
    "            avg_loss = total_loss / len(features_dataloader_z0)\n",
    "            print(f\"epoch: {epoch:>02}, loss: {avg_loss:.5f}\")\n",
    "        projected_feature=layer(z0.to(device))\n",
    "        print(projected_feature.shape)\n",
    "        W_feat_siam=torch.matmul(projected_feature, projected_feature.t())\n",
    "        max_wfeatsiam=torch.max(W_feat_siam).item()\n",
    "        alpha=2\n",
    "        W_feat_siam = W_feat_siam - (max_wfeatsiam / alpha)\n",
    "        # W_feat_siam=torch.matmul(projected_feature[0], projected_feature[0].t())\n",
    "        W_feat=W_feat_ds + 0.1*W_feat_siam\n",
    "#         W_feat=normalize_affinity_matrix(W_feat_unnorm, axis=1)\n",
    "        # print(\"W_feat.shape=\", W_feat.shape)\n",
    "        # print(\"W_feat.shape=\", W_feat.shape)\n",
    "        # W_feat=contrastive_affinity(feats, feats.T)\n",
    "        if threshold_at_zero:\n",
    "            W_feat = (W_feat * (W_feat > 0))\n",
    "        W_feat = W_feat / W_feat.max()  # NOTE: If features are normalized, this naturally does nothing\n",
    "        # W_feat = W_feat.cpu().numpy()\n",
    "        W_feat = W_feat.detach().cpu().numpy()\n",
    "        # print(\"W_feat shape=\",W_feat.shape)\n",
    "\n",
    "        ### Color affinities\n",
    "        # If we are fusing with color affinites, then load the image and compute\n",
    "        if image_color_lambda > 0:\n",
    "\n",
    "            # Load image\n",
    "            image_file = str(Path(images_root) / f'{image_id}.jpg')\n",
    "            image_lr = Image.open(image_file).resize((W_pad_lr, H_pad_lr), Image.BILINEAR)\n",
    "            image_lr = np.array(image_lr) / 255.\n",
    "\n",
    "            # Color affinities (of type scipy.sparse.csr_matrix)\n",
    "            if which_color_matrix == 'knn':\n",
    "                W_lr = utils.knn_affinity(image_lr / 255)\n",
    "            elif which_color_matrix == 'rw':\n",
    "                W_lr = utils.rw_affinity(image_lr / 255)\n",
    "\n",
    "            # Convert to dense numpy array\n",
    "            W_color = np.array(W_lr.todense().astype(np.float32))\n",
    "            # print(\"W_color shape\", W_color.shape)\n",
    "\n",
    "        else:\n",
    "\n",
    "            # No color affinity\n",
    "            W_color = 0\n",
    "\n",
    "        # Combine\n",
    "        W_comb = W_feat + W_color * image_color_lambda  # combination\n",
    "        D_comb = np.array(utils.get_diagonal(W_comb).todense())  # is dense or sparse faster? not sure, should check\n",
    "        # print(\"W_comb shape= \", W_comb.shape, \"D_comb shape\",  D_comb.shape)\n",
    "        if lapnorm:\n",
    "            try:\n",
    "                eigenvalues, eigenvectors = eigsh(D_comb - W_comb, k=K, sigma=0, which='LM', M=D_comb)\n",
    "            except:\n",
    "                eigenvalues, eigenvectors = eigsh(D_comb - W_comb, k=K, which='SM', M=D_comb)\n",
    "        else:\n",
    "            try:\n",
    "                eigenvalues, eigenvectors = eigsh(D_comb - W_comb, k=K, sigma=0, which='LM')\n",
    "            except:\n",
    "                eigenvalues, eigenvectors = eigsh(D_comb - W_comb, k=K, which='SM')\n",
    "        eigenvalues, eigenvectors = torch.from_numpy(eigenvalues), torch.from_numpy(eigenvectors.T).float()\n",
    "    print(\"eigenvalues shape\", eigenvalues.shape, \"eigenvectors shape\", eigenvectors.shape)\n",
    "    # Sign ambiguity\n",
    "    for k in range(eigenvectors.shape[0]):\n",
    "        if 0.5 < torch.mean((eigenvectors[k] > 0).float()).item() < 1.0:  # reverse segment\n",
    "            eigenvectors[k] = 0 - eigenvectors[k]\n",
    "\n",
    "    # Save dict\n",
    "    output_dict = {'eigenvalues': eigenvalues, 'eigenvectors': eigenvectors}\n",
    "    torch.save(output_dict, output_file)"
   ]
  }
 ],
 "metadata": {
  "kernelspec": {
   "display_name": "Python 3 (ipykernel)",
   "language": "python",
   "name": "python3"
  },
  "language_info": {
   "codemirror_mode": {
    "name": "ipython",
    "version": 3
   },
   "file_extension": ".py",
   "mimetype": "text/x-python",
   "name": "python",
   "nbconvert_exporter": "python",
   "pygments_lexer": "ipython3",
   "version": "3.8.10"
  }
 },
 "nbformat": 4,
 "nbformat_minor": 1
}
