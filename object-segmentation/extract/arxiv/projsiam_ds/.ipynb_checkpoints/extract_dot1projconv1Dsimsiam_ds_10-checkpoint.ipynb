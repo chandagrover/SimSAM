{
 "cells": [
  {
   "cell_type": "code",
   "execution_count": 1,
   "metadata": {
    "pycharm": {
     "name": "#%%\n"
    }
   },
   "outputs": [
    {
     "data": {
      "text/html": [
       "<pre style=\"white-space:pre;overflow-x:auto;line-height:normal;font-family:Menlo,'DejaVu Sans Mono',consolas,'Courier New',monospace\"><span style=\"color: #800000; text-decoration-color: #800000\">╭─────────────────────────────── </span><span style=\"color: #800000; text-decoration-color: #800000; font-weight: bold\">Traceback </span><span style=\"color: #bf7f7f; text-decoration-color: #bf7f7f; font-weight: bold\">(most recent call last)</span><span style=\"color: #800000; text-decoration-color: #800000\"> ────────────────────────────────╮</span>\n",
       "<span style=\"color: #800000; text-decoration-color: #800000\">│</span> in <span style=\"color: #00ff00; text-decoration-color: #00ff00\">&lt;module&gt;</span>:<span style=\"color: #0000ff; text-decoration-color: #0000ff\">16</span>                                                                                   <span style=\"color: #800000; text-decoration-color: #800000\">│</span>\n",
       "<span style=\"color: #800000; text-decoration-color: #800000\">│</span>                                                                                                  <span style=\"color: #800000; text-decoration-color: #800000\">│</span>\n",
       "<span style=\"color: #800000; text-decoration-color: #800000\">│</span>   <span style=\"color: #7f7f7f; text-decoration-color: #7f7f7f\">13 # from sklearn.decomposition import PCA</span>                                                     <span style=\"color: #800000; text-decoration-color: #800000\">│</span>\n",
       "<span style=\"color: #800000; text-decoration-color: #800000\">│</span>   <span style=\"color: #7f7f7f; text-decoration-color: #7f7f7f\">14 # from torchvision.utils import draw_bounding_boxes</span>                                         <span style=\"color: #800000; text-decoration-color: #800000\">│</span>\n",
       "<span style=\"color: #800000; text-decoration-color: #800000\">│</span>   <span style=\"color: #7f7f7f; text-decoration-color: #7f7f7f\">15 </span><span style=\"color: #0000ff; text-decoration-color: #0000ff\">from</span> <span style=\"color: #00ffff; text-decoration-color: #00ffff; text-decoration: underline\">tqdm</span> <span style=\"color: #0000ff; text-decoration-color: #0000ff\">import</span> tqdm                                                                       <span style=\"color: #800000; text-decoration-color: #800000\">│</span>\n",
       "<span style=\"color: #800000; text-decoration-color: #800000\">│</span> <span style=\"color: #800000; text-decoration-color: #800000\">❱ </span>16 <span style=\"color: #0000ff; text-decoration-color: #0000ff\">import</span> <span style=\"color: #00ffff; text-decoration-color: #00ffff; text-decoration: underline\">extract_utils</span> <span style=\"color: #0000ff; text-decoration-color: #0000ff\">as</span> <span style=\"color: #00ffff; text-decoration-color: #00ffff; text-decoration: underline\">utils</span>                                                               <span style=\"color: #800000; text-decoration-color: #800000\">│</span>\n",
       "<span style=\"color: #800000; text-decoration-color: #800000\">│</span>   <span style=\"color: #7f7f7f; text-decoration-color: #7f7f7f\">17 </span><span style=\"color: #0000ff; text-decoration-color: #0000ff\">from</span> <span style=\"color: #00ffff; text-decoration-color: #00ffff; text-decoration: underline\">torch.utils.data</span> <span style=\"color: #0000ff; text-decoration-color: #0000ff\">import</span> Dataset, DataLoader                                            <span style=\"color: #800000; text-decoration-color: #800000\">│</span>\n",
       "<span style=\"color: #800000; text-decoration-color: #800000\">│</span>   <span style=\"color: #7f7f7f; text-decoration-color: #7f7f7f\">18 </span><span style=\"color: #0000ff; text-decoration-color: #0000ff\">from</span> <span style=\"color: #00ffff; text-decoration-color: #00ffff; text-decoration: underline\">lightly.loss</span> <span style=\"color: #0000ff; text-decoration-color: #0000ff\">import</span> NegativeCosineSimilarity                                           <span style=\"color: #800000; text-decoration-color: #800000\">│</span>\n",
       "<span style=\"color: #800000; text-decoration-color: #800000\">│</span>   <span style=\"color: #7f7f7f; text-decoration-color: #7f7f7f\">19 </span><span style=\"color: #0000ff; text-decoration-color: #0000ff\">from</span> <span style=\"color: #00ffff; text-decoration-color: #00ffff; text-decoration: underline\">lightly.models.modules</span> <span style=\"color: #0000ff; text-decoration-color: #0000ff\">import</span> SimSiamPredictionHead, SimSiamProjectionHead             <span style=\"color: #800000; text-decoration-color: #800000\">│</span>\n",
       "<span style=\"color: #800000; text-decoration-color: #800000\">╰──────────────────────────────────────────────────────────────────────────────────────────────────╯</span>\n",
       "<span style=\"color: #ff0000; text-decoration-color: #ff0000; font-weight: bold\">ModuleNotFoundError: </span>No module named <span style=\"color: #008000; text-decoration-color: #008000\">'extract_utils'</span>\n",
       "</pre>\n"
      ],
      "text/plain": [
       "\u001B[31m╭─\u001B[0m\u001B[31m──────────────────────────────\u001B[0m\u001B[31m \u001B[0m\u001B[1;31mTraceback \u001B[0m\u001B[1;2;31m(most recent call last)\u001B[0m\u001B[31m \u001B[0m\u001B[31m───────────────────────────────\u001B[0m\u001B[31m─╮\u001B[0m\n",
       "\u001B[31m│\u001B[0m in \u001B[92m<module>\u001B[0m:\u001B[94m16\u001B[0m                                                                                   \u001B[31m│\u001B[0m\n",
       "\u001B[31m│\u001B[0m                                                                                                  \u001B[31m│\u001B[0m\n",
       "\u001B[31m│\u001B[0m   \u001B[2m13 \u001B[0m\u001B[2m# from sklearn.decomposition import PCA\u001B[0m                                                     \u001B[31m│\u001B[0m\n",
       "\u001B[31m│\u001B[0m   \u001B[2m14 \u001B[0m\u001B[2m# from torchvision.utils import draw_bounding_boxes\u001B[0m                                         \u001B[31m│\u001B[0m\n",
       "\u001B[31m│\u001B[0m   \u001B[2m15 \u001B[0m\u001B[94mfrom\u001B[0m \u001B[4;96mtqdm\u001B[0m \u001B[94mimport\u001B[0m tqdm                                                                       \u001B[31m│\u001B[0m\n",
       "\u001B[31m│\u001B[0m \u001B[31m❱ \u001B[0m16 \u001B[94mimport\u001B[0m \u001B[4;96mextract_utils\u001B[0m \u001B[94mas\u001B[0m \u001B[4;96mutils\u001B[0m                                                               \u001B[31m│\u001B[0m\n",
       "\u001B[31m│\u001B[0m   \u001B[2m17 \u001B[0m\u001B[94mfrom\u001B[0m \u001B[4;96mtorch\u001B[0m\u001B[4;96m.\u001B[0m\u001B[4;96mutils\u001B[0m\u001B[4;96m.\u001B[0m\u001B[4;96mdata\u001B[0m \u001B[94mimport\u001B[0m Dataset, DataLoader                                            \u001B[31m│\u001B[0m\n",
       "\u001B[31m│\u001B[0m   \u001B[2m18 \u001B[0m\u001B[94mfrom\u001B[0m \u001B[4;96mlightly\u001B[0m\u001B[4;96m.\u001B[0m\u001B[4;96mloss\u001B[0m \u001B[94mimport\u001B[0m NegativeCosineSimilarity                                           \u001B[31m│\u001B[0m\n",
       "\u001B[31m│\u001B[0m   \u001B[2m19 \u001B[0m\u001B[94mfrom\u001B[0m \u001B[4;96mlightly\u001B[0m\u001B[4;96m.\u001B[0m\u001B[4;96mmodels\u001B[0m\u001B[4;96m.\u001B[0m\u001B[4;96mmodules\u001B[0m \u001B[94mimport\u001B[0m SimSiamPredictionHead, SimSiamProjectionHead             \u001B[31m│\u001B[0m\n",
       "\u001B[31m╰──────────────────────────────────────────────────────────────────────────────────────────────────╯\u001B[0m\n",
       "\u001B[1;91mModuleNotFoundError: \u001B[0mNo module named \u001B[32m'extract_utils'\u001B[0m\n"
      ]
     },
     "metadata": {},
     "output_type": "display_data"
    }
   ],
   "source": [
    "# from functools import partial\n",
    "from pathlib import Path\n",
    "# from typing import Optional, Tuple\n",
    "# import cv2\n",
    "# import fire\n",
    "import numpy as np\n",
    "import torch\n",
    "import torch.nn.functional as F\n",
    "from accelerate import Accelerator\n",
    "from PIL import Image\n",
    "from scipy.sparse.linalg import eigsh\n",
    "# from sklearn.cluster import KMeans, MiniBatchKMeans\n",
    "# from sklearn.decomposition import PCA\n",
    "# from torchvision.utils import draw_bounding_boxes\n",
    "from tqdm import tqdm\n",
    "import extract_utils as utils\n",
    "from torch.utils.data import Dataset, DataLoader\n",
    "from lightly.loss import NegativeCosineSimilarity\n",
    "from lightly.models.modules import SimSiamPredictionHead, SimSiamProjectionHead\n",
    "from torch import nn\n",
    "import torchvision"
   ]
  },
  {
   "cell_type": "markdown",
   "metadata": {
    "pycharm": {
     "name": "#%% md\n"
    }
   },
   "source": [
    "## Extract Features"
   ]
  },
  {
   "cell_type": "code",
   "execution_count": null,
   "metadata": {
    "pycharm": {
     "name": "#%%\n"
    }
   },
   "outputs": [],
   "source": [
    "# images_list=\"/home/phdcs2/Hard_Disk/Datasets/Deep-Spectral-Segmentation/data/object-segmentation/ECSSD/lists/images.txt\"\n",
    "# images_root=\"/home/phdcs2/Hard_Disk/Datasets/Deep-Spectral-Segmentation/data/object-segmentation/ECSSD/images\"\n",
    "# model_name=\"dino_vits16\"\n",
    "# batch_size=1\n",
    "# output_dir=\"//home/phdcs2/Hard_Disk/Datasets/Deep-Spectral-Segmentation/data/object-segmentation/ECSSD/features/dino_vits16\"\n",
    "# which_block=-1\n",
    "# # Output\n",
    "# utils.make_output_dir(output_dir)\n",
    "# # Models\n",
    "# model_name = model_name.lower()\n",
    "# model, val_transform, patch_size, num_heads = utils.get_model(model_name)    #patch size= 16 number of heads= 6\n",
    "# # print(\"patch size=\", patch_size, \"number of heads=\", num_heads)\n",
    "# # Add hook\n",
    "# if 'dino' in model_name or 'mocov3' in model_name:\n",
    "#     feat_out = {}\n",
    "#     def hook_fn_forward_qkv(module, input, output):\n",
    "#         # print(\"feat_out.keys()\", feat_out.keys())\n",
    "#         feat_out[\"qkv\"] = output\n",
    "#     model._modules[\"blocks\"][which_block]._modules[\"attn\"]._modules[\"qkv\"].register_forward_hook(hook_fn_forward_qkv)\n",
    "# else:\n",
    "#     raise ValueError(model_name)\n",
    "# # Dataset\n",
    "# filenames = Path(images_list).read_text().splitlines()\n",
    "# dataset = utils.ImagesDataset(filenames=filenames, images_root=images_root, transform=val_transform)\n",
    "# dataloader = torch.utils.data.DataLoader(dataset, batch_size=batch_size, num_workers=8)\n",
    "# # print(f'Dataset size: {len(dataset)=}')\n",
    "# # print(f'Dataloader size: {len(dataloader)=}')\n",
    "# # Prepare\n",
    "# # accelerator = Accelerator(fp16=True, cpu=False)\n",
    "# accelerator = Accelerator(cpu=False)\n",
    "# # model, dataloader = accelerator.prepare(model, dataloader)\n",
    "# model = model.to(accelerator.device)\n",
    "# model.num_features\n",
    "# # print(\"model.num_features=\", model.num_features)\n",
    "# # model.get_submodule\n",
    "# # Process\n",
    "# pbar = list(tqdm(dataloader, desc='Processing'))\n",
    "# # Process\n",
    "# # pbar = list(tqdm(dataloader, desc='Processing'))\n",
    "# # print(\"feat_out.keys()=\", feat_out.keys())\n",
    "# for i, (images, files, indices) in enumerate(pbar):\n",
    "#     output_dict = {}\n",
    "#     # print(\"images.shape=\", images.shape, \"files =\", files, \"indices\", indices)\n",
    "#\n",
    "#     # Check if file already exists\n",
    "#     id = Path(files[0]).stem\n",
    "#     # print(\"id=\", id)\n",
    "#     output_file = Path(output_dir) / f'{id}.pth'\n",
    "#     # if output_file.is_file():\n",
    "#     #     pbar.write(f'Skipping existing file {str(output_file)}')\n",
    "#     #     continue\n",
    "#\n",
    "#     # Reshape image\n",
    "#     P = patch_size\n",
    "#     B, C, H, W = images.shape\n",
    "#     H_patch, W_patch = H // P, W // P\n",
    "#     H_pad, W_pad = H_patch * P, W_patch * P\n",
    "#     T = H_patch * W_patch + 1  # number of tokens, add 1 for [CLS]\n",
    "#     # images = F.interpolate(images, size=(H_pad, W_pad), mode='bilinear')  # resize image\n",
    "#     images = images[:, :, :H_pad, :W_pad]\n",
    "#     images = images.to(accelerator.device)\n",
    "#     # print(\"images.shape after padding=\", images.shape)\n",
    "#\n",
    "#     # Forward and collect features into output dict\n",
    "#     if 'dino' in model_name or 'mocov3' in model_name:\n",
    "#         # accelerator.unwrap_model(model).get_intermediate_layers(images)[0].squeeze(0)\n",
    "#         model.get_intermediate_layers(images)[0].squeeze(0)\n",
    "#         # print(model.get_intermediate_layers(images)[0])\n",
    "#         # output_dict['out'] = out\n",
    "#         # print(\"feat_out.keys()=\", feat_out.keys())\n",
    "#         output_qkv = feat_out[\"qkv\"].reshape(B, T, 3, num_heads, -1 // num_heads).permute(2, 0, 3, 1, 4)\n",
    "#         # print(\"type(output_qkv)\", type(output_qkv))\n",
    "#         # print(\"output_qkv.shape\", output_qkv.shape)    #3, 1, 6, 931, 64]\n",
    "#         # print(\"output_qkv[0].shape\", output_qkv[0].shape)\n",
    "#         # print(\"output_qkv[1].shape\", output_qkv[1].shape)\n",
    "#         # print(\"output_qkv[2].shape\", output_qkv[2].shape)\n",
    "#         # output_dict['q'] = output_qkv[0].transpose(1, 2).reshape(B, T, -1)[:, 1:, :]\n",
    "#         output_dict['k'] = output_qkv[1].transpose(1, 2).reshape(B, T, -1)[:, 1:, :]\n",
    "#         # print(\"output_dict[k].shape=\", output_dict['k'].shape)\n",
    "#         # output_dict['v'] = output_qkv[2].transpose(1, 2).reshape(B, T, -1)[:, 1:, :]\n",
    "#     else:\n",
    "#         raise ValueError(model_name)\n",
    "#\n",
    "#     # print(\"output_dict.items=\", output_dict.items())\n",
    "#     # Metadata\n",
    "#     output_dict['indices'] = indices[0]\n",
    "#     output_dict['file'] = files[0]\n",
    "#     output_dict['id'] = id\n",
    "#     output_dict['model_name'] = model_name\n",
    "#     output_dict['patch_size'] = patch_size\n",
    "#     output_dict['shape'] = (B, C, H, W)\n",
    "#     output_dict = {k: (v.detach().cpu() if torch.is_tensor(v) else v) for k, v in output_dict.items()}\n",
    "#     # for k, v in output_dict.items():\n",
    "#     #     print(\"k=\", k)\n",
    "#     #     if torch.is_tensor(v):\n",
    "#     #         print(\"v.shape\", v.shape)\n",
    "#     #     else:\n",
    "#     #         print(\"v=\", v)\n",
    "#     # print(\"output_dict.keys()\", output_dict.keys())\n",
    "#     # print(\"output_dict['k'].shape=\", output_dict['k'].shape,\"output_dict['indices'] =\", indices[0],\"output_dict['file'] =\", files[0],\"output_dict['id']=\" , id, \"output_dict['model_name'] =\", model_name,\" output_dict['shape'] =(\", B, C, H, W,\")output_dict['patch_size'] =\",  patch_size )\n",
    "#     # Save\n",
    "#     accelerator.save(output_dict, str(output_file))\n",
    "#     accelerator.wait_for_everyone()\n",
    "# print(f'Saved features to {output_dir}')"
   ]
  },
  {
   "cell_type": "code",
   "execution_count": null,
   "metadata": {
    "pycharm": {
     "name": "#%%\n"
    }
   },
   "outputs": [],
   "source": [
    "# output_dict = {k: (v.detach().cpu() if torch.is_tensor(v) else v) for k, v in output_dict.items()}\n",
    "# print(output_dict.keys())\n",
    "# for k, v in output_dict.items():\n",
    "#     print(\"k=\", k)\n",
    "#     print(\"v.shape=\", v.shape)\n"
   ]
  },
  {
   "cell_type": "markdown",
   "metadata": {
    "pycharm": {
     "name": "#%% md\n"
    }
   },
   "source": [
    "## Extract Eigen Vectors"
   ]
  },
  {
   "cell_type": "code",
   "execution_count": null,
   "metadata": {
    "pycharm": {
     "name": "#%%\n"
    }
   },
   "outputs": [],
   "source": [
    "images_root=\"/home/phdcs2/Hard_Disk/Datasets/Deep-Spectral-Segmentation/data/object-segmentation/ECSSD/images\"\n",
    "features_dir=\"/home/phdcs2/Hard_Disk/Datasets/Deep-Spectral-Segmentation/data/object-segmentation/ECSSD/features/dino_vits16\"\n",
    "output_dir=\"//home/phdcs2/Hard_Disk/Datasets/Deep-Spectral-Segmentation/data/object-segmentation/ECSSD/eigs_dot1projconv1Dsimsiam_ds_10_jn\"\n",
    "which_matrix= 'laplacian'\n",
    "which_color_matrix= 'knn'\n",
    "which_features= 'k'\n",
    "normalize=True\n",
    "threshold_at_zero=True\n",
    "lapnorm= True\n",
    "K= 5\n",
    "image_downsample_factor = None\n",
    "image_color_lambda = 0.0\n",
    "multiprocessing = 0\n",
    "batch_size=2\n",
    "epochs=10"
   ]
  },
  {
   "cell_type": "markdown",
   "metadata": {
    "pycharm": {
     "name": "#%% md\n"
    }
   },
   "source": [
    "## ResNet Residual Block"
   ]
  },
  {
   "cell_type": "code",
   "execution_count": null,
   "metadata": {
    "pycharm": {
     "name": "#%%\n"
    }
   },
   "outputs": [],
   "source": [
    "class BasicBlock(nn.Module):\n",
    "    expansion = 1\n",
    "\n",
    "    def __init__(self, in_channels=1, out_channels=1, stride=1, downsample=None):\n",
    "        super(BasicBlock, self).__init__()\n",
    "        self.conv1 = nn.Conv1d(in_channels=in_channels, out_channels=128, kernel_size=3, stride=stride, padding=1, bias=False)\n",
    "        self.bn1 = nn.BatchNorm1d(128)\n",
    "        self.relu = nn.ReLU(inplace=True)\n",
    "        self.conv2 = nn.Conv1d(128, out_channels * self.expansion, kernel_size=3, stride=1, padding=1, bias=False)\n",
    "        self.bn2 = nn.BatchNorm1d(out_channels * self.expansion)\n",
    "        self.downsample = downsample\n",
    "\n",
    "    def forward(self, x):\n",
    "        identity = x\n",
    "\n",
    "        out = self.conv1(x)\n",
    "        out = self.bn1(out)\n",
    "        out = self.relu(out)\n",
    "\n",
    "        out = self.conv2(out)\n",
    "        out = self.bn2(out)\n",
    "\n",
    "        if self.downsample is not None:\n",
    "            identity = self.downsample(x)\n",
    "\n",
    "        out += identity\n",
    "        out = self.relu(out)\n",
    "        # print(\"Before squeezing, out shape=\", out.shape)\n",
    "        out =  out.squeeze().to('cuda')\n",
    "        # print(\"After squeezing, out shape=\", out.shape)\n",
    "\n",
    "        return out"
   ]
  },
  {
   "cell_type": "code",
   "execution_count": null,
   "metadata": {
    "pycharm": {
     "name": "#%%\n"
    }
   },
   "outputs": [],
   "source": [
    "# class ResidualBlock(nn.Module):\n",
    "#     def __init__(self, in_channels, out_channels, kernel_size=3, stride=1, padding=1, bias=False):\n",
    "#         super(ResidualBlock, self).__init__()\n",
    "#         self.conv1 = nn.Conv1d(in_channels, out_channels, kernel_size=kernel_size, stride=stride, padding=padding, bias=bias)\n",
    "#         self.bn1 = nn.BatchNorm1d(out_channels)\n",
    "#         self.relu = nn.ReLU(inplace=True)\n",
    "#         self.conv2 = nn.Conv1d(out_channels, out_channels, kernel_size=kernel_size, stride=stride, padding=padding, bias=bias)\n",
    "#         self.bn2 = nn.BatchNorm1d(out_channels)\n",
    "#         # shortcut connection\n",
    "#         self.shortcut = nn.Sequential()\n",
    "#         if stride != 1 or in_channels != out_channels:\n",
    "#             self.shortcut = nn.Sequential(\n",
    "#                 nn.Conv1d(in_channels, out_channels, kernel_size=1, stride=stride, bias=bias),\n",
    "#                 nn.BatchNorm1d(out_channels)\n",
    "#             )\n",
    "#\n",
    "#     def forward(self, x):\n",
    "#         residual = x\n",
    "#\n",
    "#         out = self.conv1(x)\n",
    "#         out = self.bn1(out)\n",
    "#         out = self.relu(out)\n",
    "#\n",
    "#         out = self.conv2(out)\n",
    "#         out = self.bn2(out)\n",
    "#\n",
    "#         out += self.shortcut(residual)\n",
    "#         out = self.relu(out)\n",
    "#\n",
    "#         return out"
   ]
  },
  {
   "cell_type": "code",
   "execution_count": null,
   "metadata": {
    "pycharm": {
     "name": "#%%\n"
    }
   },
   "outputs": [],
   "source": [
    "# class ResNetBlock(nn.Module):\n",
    "#     def __init__(self, in_channels, out_channels, stride=1, downsample=None):\n",
    "#         super(ResNetBlock, self).__init__()\n",
    "#         self.conv1 = nn.Conv1d(in_channels, out_channels, kernel_size=3, stride=stride, padding=1, bias=False)\n",
    "#         self.bn1 = nn.BatchNorm1d(out_channels)\n",
    "#         self.relu = nn.ReLU(inplace=True)\n",
    "#         self.conv2 = nn.Conv1d(out_channels, out_channels, kernel_size=3, stride=1, padding=1, bias=False)\n",
    "#         self.bn2 = nn.BatchNorm1d(out_channels)\n",
    "#         self.downsample = downsample\n",
    "#\n",
    "#     def forward(self, x):\n",
    "#         identity = x\n",
    "#\n",
    "#         out = self.conv1(x)\n",
    "#         out = self.bn1(out)\n",
    "#         out = self.relu(out)\n",
    "#\n",
    "#         out = self.conv2(out)\n",
    "#         out = self.bn2(out)\n",
    "#\n",
    "#         if self.downsample is not None:\n",
    "#             identity = self.downsample(x)\n",
    "#\n",
    "#         out += identity\n",
    "#         out = self.relu(out)\n",
    "#\n",
    "#         return out"
   ]
  },
  {
   "cell_type": "markdown",
   "metadata": {
    "pycharm": {
     "name": "#%% md\n"
    }
   },
   "source": [
    "## Incorporating SimSiam"
   ]
  },
  {
   "cell_type": "code",
   "execution_count": null,
   "metadata": {
    "pycharm": {
     "name": "#%%\n"
    }
   },
   "outputs": [],
   "source": [
    "# Define a custom dataset class\n",
    "class Feature_Dataset(Dataset):\n",
    "    def __init__(self, features):\n",
    "        self.features = features\n",
    "\n",
    "    def __getitem__(self, index):\n",
    "        return self.features[index]\n",
    "\n",
    "    def __len__(self):\n",
    "        return len(self.features)"
   ]
  },
  {
   "cell_type": "code",
   "execution_count": null,
   "metadata": {
    "pycharm": {
     "name": "#%%\n"
    }
   },
   "outputs": [],
   "source": [
    "# print(feats.shape)"
   ]
  },
  {
   "cell_type": "code",
   "execution_count": null,
   "metadata": {
    "pycharm": {
     "name": "#%%\n"
    }
   },
   "outputs": [],
   "source": [
    "class SimSiam(nn.Module):\n",
    "    def __init__(self):\n",
    "        super().__init__()\n",
    "        # self.projection_head = SimSiamProjectionHead(feats.shape[1], 128,feats.shape[1])\n",
    "        self.projection_head = BasicBlock()\n",
    "        # self.projection_head = ResidualBlock(feats.shape[1], feats.shape[1])\n",
    "        self.prediction_head = SimSiamPredictionHead(feats.shape[1], 128, feats.shape[1])\n",
    "\n",
    "    def forward(self, x):\n",
    "        z = self.projection_head(x)\n",
    "        p = self.prediction_head(z)\n",
    "        z = z.detach()\n",
    "        return z, p"
   ]
  },
  {
   "cell_type": "code",
   "execution_count": null,
   "metadata": {
    "pycharm": {
     "name": "#%%\n"
    }
   },
   "outputs": [],
   "source": [
    "# utils.make_output_dir(output_dir)\n",
    "# feat_list=[]\n",
    "# inputs = list(enumerate(sorted(Path(features_dir).iterdir())))\n",
    "# batch_size=2\n",
    "# token_feature_size=384\n",
    "# for inp in tqdm(inputs[:2]):\n",
    "#     index, features_file = inp\n",
    "#     print(index, features_file)\n",
    "#      # Load\n",
    "#     data_dict = torch.load(features_file, map_location='cpu')\n",
    "#     # Load affinity matrix\n",
    "#     # feats_unsqueeze=data_dict[which_features].cuda()\n",
    "#     feats = data_dict[which_features].squeeze().cuda()\n",
    "#     print(feats.shape)\n",
    "#     # print(feats_unsqueeze.shape)\n",
    "#     feat_dataset = Feature_Dataset(feats)\n",
    "#     features_dataloader = DataLoader(feat_dataset, batch_size=2, shuffle=True)\n",
    "#     i=0\n",
    "#     for x0 in features_dataloader:\n",
    "#         if i==0:\n",
    "#         # for (x0), _, _ in features_dataloader:\n",
    "#             print(\"before unsqueezing x0.shape=\", x0.shape)\n",
    "#             x0 = x0.unsqueeze(0).to(device)\n",
    "#             x1=torchvision.transforms.RandomAffine(0)(x0)\n",
    "#             x0 = x0.squeeze(0).to(device)\n",
    "#             x0 = torch.tensor(x0).view(batch_size, 1, 1, token_feature_size)\n",
    "#             print(\"After squeezing and viewing x0 shape=\", x0.shape)\n",
    "#             # print(\"x0.shape=\", x0.shape)\n",
    "#             x1 = x1.squeeze(0).to(device)\n",
    "#             x1 = torch.tensor(x1).view(batch_size, 1, 1,token_feature_size)\n",
    "#             print(\"After squeezing and viewing x0 shape=\", x1.shape)\n",
    "#             print(\"x1 shape=\", x1.shape)\n",
    "#         else:\n",
    "#             break\n",
    "#         i+=1\n"
   ]
  },
  {
   "cell_type": "code",
   "execution_count": null,
   "metadata": {
    "pycharm": {
     "name": "#%%\n"
    }
   },
   "outputs": [],
   "source": [
    "utils.make_output_dir(output_dir)\n",
    "feat_list=[]\n",
    "inputs = list(enumerate(sorted(Path(features_dir).iterdir())))\n",
    "for inp in tqdm(inputs[123:124]):\n",
    "    index, features_file = inp\n",
    "    print(index, features_file)\n",
    "     # Load\n",
    "    data_dict = torch.load(features_file, map_location='cpu')\n",
    "    print(data_dict.keys())   #['k', 'indices', 'file', 'id', 'model_name', 'patch_size', 'shape']\n",
    "    # print(\"shape=\", data_dict['shape'], \"k shape\", data_dict['k'].shape, \"patch_size=\", data_dict['patch_size'])\n",
    "    image_id = data_dict['file'][:-4]\n",
    "    print(image_id)\n",
    "    # Load\n",
    "    output_file = str(Path(output_dir) / f'{image_id}.pth')\n",
    "    if Path(output_file).is_file():\n",
    "        print(f'Skipping existing file {str(output_file)}')\n",
    "        # break\n",
    "        # return  # skip because already generated\n",
    "\n",
    "    # Load affinity matrix\n",
    "    feats = data_dict[which_features].squeeze().cuda()\n",
    "    # print(\"Without normalizing, Features Shape is\",feats.shape)\n",
    "    if normalize:\n",
    "        feats = F.normalize(feats, p=2, dim=-1)\n",
    "    # print(\"After normalization, Features Shape\",feats.shape)\n",
    "    # print(\"which_matrix=\", which_matrix)\n",
    "    # Eigenvectors of affinity matrix\n",
    "    if which_matrix == 'affinity_torch':\n",
    "        W = feats @ feats.T\n",
    "        # W_feat=contrastive_affinity(feats, feats.T)\n",
    "        # print(\"W shape=\", W.shape)\n",
    "        if threshold_at_zero:\n",
    "            W = (W * (W > 0))\n",
    "            # print(\"W shape=\", W.shape)\n",
    "        eigenvalues, eigenvectors = torch.eig(W, eigenvectors=True)\n",
    "        eigenvalues = eigenvalues.cpu()\n",
    "        eigenvectors = eigenvectors.cpu()\n",
    "        print(\"which matrix=\",which_matrix, \"eigenvalues shape\", eigenvalues.shape, \"eigenvectors shape\", eigenvectors.shape)\n",
    "\n",
    "\n",
    "    # Eigenvectors of affinity matrix with scipy\n",
    "    elif which_matrix == 'affinity_svd':\n",
    "        USV = torch.linalg.svd(feats, full_matrices=False)\n",
    "        eigenvectors = USV[0][:, :K].T.to('cpu', non_blocking=True)\n",
    "        eigenvalues = USV[1][:K].to('cpu', non_blocking=True)\n",
    "        print(\"which matrix=\",which_matrix,\"eigenvalues shape\", eigenvalues.shape, \"eigenvectors shape\", eigenvectors.shape)\n",
    "\n",
    "    # Eigenvectors of affinity matrix with scipy\n",
    "    elif which_matrix == 'affinity':\n",
    "        # print(\"Without normalizing, Features Shape is\",feats.shape)\n",
    "        W = (feats @ feats.T)\n",
    "        # W_feat=contrastive_affinity(feats, feats.T)\n",
    "        # print(\"W shape=\", W.shape)\n",
    "        if threshold_at_zero:\n",
    "            W = (W * (W > 0))\n",
    "        W = W.cpu().numpy()\n",
    "        # print(\"W shape=\", W.shape)\n",
    "        eigenvalues, eigenvectors = eigsh(W, which='LM', k=K)\n",
    "        eigenvectors = torch.flip(torch.from_numpy(eigenvectors), dims=(-1,)).T\n",
    "        print(\"which matrix=\",which_matrix, \"eigenvalues shape\", eigenvalues.shape, \"eigenvectors shape\", eigenvectors.shape)\n",
    "\n",
    "    # Eigenvectors of matting laplacian matrix\n",
    "    elif which_matrix in ['matting_laplacian', 'laplacian']:\n",
    "\n",
    "        # Get sizes\n",
    "        B, C, H, W, P, H_patch, W_patch, H_pad, W_pad = utils.get_image_sizes(data_dict)\n",
    "        if image_downsample_factor is None:\n",
    "            image_downsample_factor = P\n",
    "        H_pad_lr, W_pad_lr = H_pad // image_downsample_factor, W_pad // image_downsample_factor\n",
    "\n",
    "        # Upscale features to match the resolution\n",
    "        if (H_patch, W_patch) != (H_pad_lr, W_pad_lr):\n",
    "            feats = F.interpolate(\n",
    "                feats.T.reshape(1, -1, H_patch, W_patch),\n",
    "                size=(H_pad_lr, W_pad_lr), mode='bilinear', align_corners=False\n",
    "            ).reshape(-1, H_pad_lr * W_pad_lr).T\n",
    "\n",
    "        ### Feature affinities\n",
    "        # print(\"Without normalizing, Features Shape is\",feats.shape)\n",
    "\n",
    "        W_feat_ds = (feats @ feats.T)\n",
    "        # feat_list.append(feats)\n",
    "        feat_dataset = Feature_Dataset(feats)\n",
    "        if feats.shape[0]%2==0:\n",
    "            features_dataloader = DataLoader(feat_dataset, batch_size=batch_size, shuffle=True)\n",
    "        else:\n",
    "            features_dataloader = DataLoader(feat_dataset, batch_size=batch_size, shuffle=True, drop_last=True)\n",
    "        model_simsiam = SimSiam()\n",
    "        device = \"cuda\" if torch.cuda.is_available() else \"cpu\"\n",
    "        model_simsiam.to(device)\n",
    "        criterion = NegativeCosineSimilarity()\n",
    "        optimizer = torch.optim.SGD(model_simsiam.parameters(), lr=0.06)\n",
    "        print(\"Starting Training\")\n",
    "        for epoch in range(epochs):\n",
    "            total_loss = 0\n",
    "            for x0 in features_dataloader:\n",
    "            # for (x0), _, _ in features_dataloader:\n",
    "            #     print(\"Before Unsqueezing, x0 shape=\", x0.shape)\n",
    "                x0 = x0.unsqueeze(0).to(device)\n",
    "                # x0 = x0.unsqueeze(1).to(device)\n",
    "                # print(\"After Unsqueezing x0 shape=\", x0.shape)\n",
    "                x1=torchvision.transforms.RandomAffine(0)(x0)\n",
    "                # print(\"After Unsqueezing x1 shape=\", x1.shape)\n",
    "                # x0 = x0.squeeze(0).to(device)\n",
    "                # print(\"batch_size=\",batch_size)\n",
    "                # x0_new = torch.tensor(x0).view(batch_size, 1, 1, 384)\n",
    "                # x0_new = torch.tensor(x0).view(batch_size, 1, 384)\n",
    "                x0_new = x0.view(batch_size, 1, 384)\n",
    "                # print(\"After viewing x0 shape=\", x0_new.shape)\n",
    "                # print(\"x0.shape=\", x0.shape)\n",
    "                # x1 = x1.squeeze(0).to(device)\n",
    "                # x1 = torch.tensor(x1).view(batch_size, 1, 1,384)\n",
    "                x1_new = x1.view(batch_size, 1, 384)\n",
    "                # print(\"After viewing x1 shape=\", x1_new.shape)\n",
    "                z0, p0 = model_simsiam(x0_new)\n",
    "                z1, p1 = model_simsiam(x1_new)\n",
    "                loss = 0.5 * (criterion(z0, p1) + criterion(z1, p0))\n",
    "                total_loss += loss.detach()\n",
    "                loss.backward()\n",
    "                optimizer.step()\n",
    "                optimizer.zero_grad()\n",
    "            avg_loss = total_loss / len(features_dataloader)\n",
    "            print(f\"epoch: {epoch:>02}, loss: {avg_loss:.5f}\")\n",
    "        feats=feats.unsqueeze(1).to(device)\n",
    "        # feats=feats.unsqueeze(2).to(device)\n",
    "        print(\"After Unsqueezing, feature size=\", feats.shape)\n",
    "        projected_feature=model_simsiam(feats)\n",
    "        W_feat_siam=torch.matmul(projected_feature[0], projected_feature[0].t())\n",
    "        W_feat=W_feat_ds + 0.1*W_feat_siam\n",
    "        # print(\"W_feat.shape=\", W_feat.shape)\n",
    "        # print(\"W_feat.shape=\", W_feat.shape)\n",
    "        # W_feat=contrastive_affinity(feats, feats.T)\n",
    "        if threshold_at_zero:\n",
    "            W_feat = (W_feat * (W_feat > 0))\n",
    "        W_feat = W_feat / W_feat.max()  # NOTE: If features are normalized, this naturally does nothing\n",
    "        # W_feat = W_feat.cpu().numpy()\n",
    "        W_feat = W_feat.detach().cpu().numpy()\n",
    "        # print(\"W_feat shape=\",W_feat.shape)\n",
    "\n",
    "        ### Color affinities\n",
    "        # If we are fusing with color affinites, then load the image and compute\n",
    "        if image_color_lambda > 0:\n",
    "\n",
    "            # Load image\n",
    "            image_file = str(Path(images_root) / f'{image_id}.jpg')\n",
    "            image_lr = Image.open(image_file).resize((W_pad_lr, H_pad_lr), Image.BILINEAR)\n",
    "            image_lr = np.array(image_lr) / 255.\n",
    "\n",
    "            # Color affinities (of type scipy.sparse.csr_matrix)\n",
    "            if which_color_matrix == 'knn':\n",
    "                W_lr = utils.knn_affinity(image_lr / 255)\n",
    "            elif which_color_matrix == 'rw':\n",
    "                W_lr = utils.rw_affinity(image_lr / 255)\n",
    "\n",
    "            # Convert to dense numpy array\n",
    "            W_color = np.array(W_lr.todense().astype(np.float32))\n",
    "            # print(\"W_color shape\", W_color.shape)\n",
    "\n",
    "        else:\n",
    "\n",
    "            # No color affinity\n",
    "            W_color = 0\n",
    "\n",
    "        # Combine\n",
    "        W_comb = W_feat + W_color * image_color_lambda  # combination\n",
    "        D_comb = np.array(utils.get_diagonal(W_comb).todense())  # is dense or sparse faster? not sure, should check\n",
    "        # print(\"W_comb shape= \", W_comb.shape, \"D_comb shape\",  D_comb.shape)\n",
    "        if lapnorm:\n",
    "            try:\n",
    "                eigenvalues, eigenvectors = eigsh(D_comb - W_comb, k=K, sigma=0, which='LM', M=D_comb)\n",
    "            except:\n",
    "                eigenvalues, eigenvectors = eigsh(D_comb - W_comb, k=K, which='SM', M=D_comb)\n",
    "        else:\n",
    "            try:\n",
    "                eigenvalues, eigenvectors = eigsh(D_comb - W_comb, k=K, sigma=0, which='LM')\n",
    "            except:\n",
    "                eigenvalues, eigenvectors = eigsh(D_comb - W_comb, k=K, which='SM')\n",
    "        eigenvalues, eigenvectors = torch.from_numpy(eigenvalues), torch.from_numpy(eigenvectors.T).float()\n",
    "    print(\"eigenvalues shape\", eigenvalues.shape, \"eigenvectors shape\", eigenvectors.shape)\n",
    "    # Sign ambiguity\n",
    "    for k in range(eigenvectors.shape[0]):\n",
    "        if 0.5 < torch.mean((eigenvectors[k] > 0).float()).item() < 1.0:  # reverse segment\n",
    "            eigenvectors[k] = 0 - eigenvectors[k]\n",
    "\n",
    "    # Save dict\n",
    "    output_dict = {'eigenvalues': eigenvalues, 'eigenvectors': eigenvectors}\n",
    "    torch.save(output_dict, output_file)"
   ]
  },
  {
   "cell_type": "code",
   "execution_count": null,
   "metadata": {
    "pycharm": {
     "name": "#%%\n"
    }
   },
   "outputs": [],
   "source": [
    "import matplotlib.pyplot as plt\n",
    "# numpy_array = W_feat.numpy()\n",
    "\n",
    "# Downsample the tensor by averaging values in small blocks\n",
    "downsampled_array = np.mean(W_feat.reshape(128, 8, 128, 8), axis=(1, 3))\n",
    "# downsampled_array = np.mean(W_feat.reshape(64, 16, 64, 16), axis=(1, 3))\n",
    "\n",
    "# Plot the heatmap of the downsampled tensor\n",
    "plt.imshow(downsampled_array, cmap='YlGnBu', interpolation='nearest')\n",
    "plt.colorbar()\n",
    "plt.title('Conv1D + Non-Linear')\n",
    "plt.show()"
   ]
  }
 ],
 "metadata": {
  "kernelspec": {
   "display_name": "Python 3 (ipykernel)",
   "language": "python",
   "name": "python3"
  },
  "language_info": {
   "codemirror_mode": {
    "name": "ipython",
    "version": 3
   },
   "file_extension": ".py",
   "mimetype": "text/x-python",
   "name": "python",
   "nbconvert_exporter": "python",
   "pygments_lexer": "ipython3",
   "version": "3.8.10"
  }
 },
 "nbformat": 4,
 "nbformat_minor": 1
}