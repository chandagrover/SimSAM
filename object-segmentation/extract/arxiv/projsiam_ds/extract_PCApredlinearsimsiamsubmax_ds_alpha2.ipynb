{
 "cells": [
  {
   "cell_type": "code",
   "execution_count": 1,
   "metadata": {
    "pycharm": {
     "name": "#%%\n"
    }
   },
   "outputs": [],
   "source": [
    "# from functools import partial\n",
    "from pathlib import Path\n",
    "# from typing import Optional, Tuple\n",
    "# import cv2\n",
    "# import fire\n",
    "import numpy as np\n",
    "import torch\n",
    "import torch.nn.functional as F\n",
    "from accelerate import Accelerator\n",
    "from PIL import Image\n",
    "from scipy.sparse.linalg import eigsh\n",
    "# from sklearn.cluster import KMeans, MiniBatchKMeans\n",
    "from sklearn.decomposition import PCA\n",
    "# from torchvision.utils import draw_bounding_boxes\n",
    "from tqdm import tqdm\n",
    "import extract_utils as utils\n",
    "from torch.utils.data import Dataset, DataLoader\n",
    "from lightly.loss import NegativeCosineSimilarity\n",
    "from lightly.models.modules import SimSiamPredictionHead, SimSiamProjectionHead\n",
    "from torch import nn\n",
    "import torchvision\n",
    "from scipy.ndimage import affine_transform"
   ]
  },
  {
   "cell_type": "markdown",
   "metadata": {
    "pycharm": {
     "name": "#%% md\n"
    }
   },
   "source": [
    "## Extract Eigen Vectors"
   ]
  },
  {
   "cell_type": "code",
   "execution_count": 2,
   "metadata": {
    "pycharm": {
     "name": "#%%\n"
    }
   },
   "outputs": [],
   "source": [
    "images_root=\"/home/phdcs2/Hard_Disk/Datasets/Deep-Spectral-Segmentation/data/object-segmentation/ECSSD/images\"\n",
    "features_dir=\"/home/phdcs2/Hard_Disk/Datasets/Deep-Spectral-Segmentation/data/object-segmentation/ECSSD/features/dino_vits16\"\n",
    "output_dir=\"/home/phdcs2/Hard_Disk/Datasets/Deep-Spectral-Segmentation/data/object-segmentation/ECSSD/eigs_dot1PCA64predsubmax_ds_10_color8_alpha2\"\n",
    "which_matrix= 'laplacian'\n",
    "which_color_matrix= 'knn'\n",
    "which_features= 'k'\n",
    "normalize=True\n",
    "threshold_at_zero=True\n",
    "lapnorm= True\n",
    "K= 5\n",
    "image_downsample_factor = None\n",
    "image_color_lambda = 8.0\n",
    "multiprocessing = 0\n",
    "batch_size=2\n",
    "epochs=10"
   ]
  },
  {
   "cell_type": "markdown",
   "metadata": {
    "pycharm": {
     "name": "#%% md\n"
    }
   },
   "source": [
    "## Incorporating SimSiam"
   ]
  },
  {
   "cell_type": "code",
   "execution_count": 3,
   "metadata": {
    "pycharm": {
     "name": "#%%\n"
    }
   },
   "outputs": [],
   "source": [
    "# Define a custom dataset class\n",
    "class Feature_Dataset(Dataset):\n",
    "    def __init__(self, features):\n",
    "        self.features = features\n",
    "\n",
    "    def __getitem__(self, index):\n",
    "        return self.features[index]\n",
    "\n",
    "    def __len__(self):\n",
    "        return len(self.features)"
   ]
  },
  {
   "cell_type": "code",
   "execution_count": 4,
   "metadata": {
    "pycharm": {
     "name": "#%%\n"
    }
   },
   "outputs": [],
   "source": [
    "# class SimSiam(nn.Module):\n",
    "#     def __init__(self):\n",
    "#         super().__init__()\n",
    "#         self.projection_head = SimSiamProjectionHead(feats.shape[1], 128,feats.shape[1])\n",
    "#         self.prediction_head = SimSiamPredictionHead(feats.shape[1], 128, feats.shape[1])\n",
    "#\n",
    "#     def forward(self, x):\n",
    "#         z = self.projection_head(x)\n",
    "#         p = self.prediction_head(z)\n",
    "#         z = z.detach()\n",
    "#         return z, p"
   ]
  },
  {
   "cell_type": "code",
   "execution_count": 5,
   "metadata": {
    "pycharm": {
     "name": "#%%\n"
    }
   },
   "outputs": [],
   "source": [
    "# def normalize_affinity_matrix(affinity_matrix, axis=0):\n",
    "#     if axis == 1:\n",
    "#         # Normalize by row-wise sums\n",
    "#         row_sums = torch.sum(affinity_matrix, dim=1, keepdim=True)\n",
    "#         print(row_sums)\n",
    "#         normalized_matrix = affinity_matrix / row_sums\n",
    "#     elif axis == 0:\n",
    "#         # Normalize by column-wise sums\n",
    "#         col_sums = torch.sum(affinity_matrix, dim=0, keepdim=True)\n",
    "#         normalized_matrix = affinity_matrix / col_sums\n",
    "#     else:\n",
    "#         raise ValueError(\"Invalid axis. Axis must be either 0 or 1.\")\n",
    "\n",
    "#     return normalized_matrix"
   ]
  },
  {
   "cell_type": "code",
   "execution_count": 6,
   "metadata": {
    "pycharm": {
     "name": "#%%\n"
    }
   },
   "outputs": [
    {
     "name": "stderr",
     "output_type": "stream",
     "text": [
      "\r",
      "  0%|                                                                                                                                                                             | 0/1000 [00:00<?, ?it/s]"
     ]
    },
    {
     "name": "stdout",
     "output_type": "stream",
     "text": [
      "0 /home/phdcs2/Hard_Disk/Datasets/Deep-Spectral-Segmentation/data/object-segmentation/ECSSD/features/dino_vits16/0001.pth\n",
      "dict_keys(['k', 'indices', 'file', 'id', 'model_name', 'patch_size', 'shape'])\n",
      "0001\n",
      "Starting Training\n",
      "epoch: 00, loss: -0.00616\n",
      "epoch: 01, loss: -0.02765\n",
      "epoch: 02, loss: -0.03226\n",
      "epoch: 03, loss: -0.03416\n",
      "epoch: 04, loss: -0.03461\n",
      "epoch: 05, loss: -0.03502\n",
      "epoch: 06, loss: -0.03515\n",
      "epoch: 07, loss: -0.03538\n",
      "epoch: 08, loss: -0.03538\n",
      "epoch: 09, loss: -0.03569\n",
      "torch.Size([400, 64])\n"
     ]
    },
    {
     "name": "stderr",
     "output_type": "stream",
     "text": [
      "\r",
      "  0%|▏                                                                                                                                                                  | 1/1000 [00:25<7:01:43, 25.33s/it]"
     ]
    },
    {
     "name": "stdout",
     "output_type": "stream",
     "text": [
      "eigenvalues shape torch.Size([5]) eigenvectors shape torch.Size([5, 400])\n",
      "1 /home/phdcs2/Hard_Disk/Datasets/Deep-Spectral-Segmentation/data/object-segmentation/ECSSD/features/dino_vits16/0002.pth\n",
      "dict_keys(['k', 'indices', 'file', 'id', 'model_name', 'patch_size', 'shape'])\n",
      "0002\n",
      "Starting Training\n",
      "epoch: 00, loss: -0.09875\n",
      "epoch: 01, loss: -0.13719\n",
      "epoch: 02, loss: -0.14204\n",
      "epoch: 03, loss: -0.14513\n",
      "epoch: 04, loss: -0.14766\n",
      "epoch: 05, loss: -0.14906\n",
      "epoch: 06, loss: -0.14941\n",
      "epoch: 07, loss: -0.14896\n",
      "epoch: 08, loss: -0.15394\n",
      "epoch: 09, loss: -0.15373\n",
      "torch.Size([400, 64])\n"
     ]
    },
    {
     "name": "stderr",
     "output_type": "stream",
     "text": [
      "\r",
      "  0%|▎                                                                                                                                                                  | 2/1000 [00:46<6:22:32, 23.00s/it]"
     ]
    },
    {
     "name": "stdout",
     "output_type": "stream",
     "text": [
      "eigenvalues shape torch.Size([5]) eigenvectors shape torch.Size([5, 400])\n",
      "2 /home/phdcs2/Hard_Disk/Datasets/Deep-Spectral-Segmentation/data/object-segmentation/ECSSD/features/dino_vits16/0003.pth\n",
      "dict_keys(['k', 'indices', 'file', 'id', 'model_name', 'patch_size', 'shape'])\n",
      "0003\n",
      "Starting Training\n",
      "epoch: 00, loss: -0.01018\n",
      "epoch: 01, loss: -0.03382\n",
      "epoch: 02, loss: -0.03841\n",
      "epoch: 03, loss: -0.03956\n",
      "epoch: 04, loss: -0.04005\n",
      "epoch: 05, loss: -0.04036\n",
      "epoch: 06, loss: -0.04059\n",
      "epoch: 07, loss: -0.04069\n",
      "epoch: 08, loss: -0.04074\n",
      "epoch: 09, loss: -0.04090\n",
      "torch.Size([400, 64])\n"
     ]
    },
    {
     "name": "stderr",
     "output_type": "stream",
     "text": [
      "\r",
      "  0%|▍                                                                                                                                                                  | 3/1000 [01:05<5:52:02, 21.19s/it]"
     ]
    },
    {
     "name": "stdout",
     "output_type": "stream",
     "text": [
      "eigenvalues shape torch.Size([5]) eigenvectors shape torch.Size([5, 400])\n",
      "3 /home/phdcs2/Hard_Disk/Datasets/Deep-Spectral-Segmentation/data/object-segmentation/ECSSD/features/dino_vits16/0004.pth\n",
      "dict_keys(['k', 'indices', 'file', 'id', 'model_name', 'patch_size', 'shape'])\n",
      "0004\n",
      "Starting Training\n",
      "epoch: 00, loss: -0.06684\n",
      "epoch: 01, loss: -0.10848\n",
      "epoch: 02, loss: -0.11582\n",
      "epoch: 03, loss: -0.11798\n",
      "epoch: 04, loss: -0.11978\n",
      "epoch: 05, loss: -0.11979\n",
      "epoch: 06, loss: -0.12130\n",
      "epoch: 07, loss: -0.12067\n",
      "epoch: 08, loss: -0.12202\n",
      "epoch: 09, loss: -0.12055\n",
      "torch.Size([400, 64])\n"
     ]
    },
    {
     "name": "stderr",
     "output_type": "stream",
     "text": [
      "\r",
      "  0%|▋                                                                                                                                                                  | 4/1000 [01:26<5:45:44, 20.83s/it]"
     ]
    },
    {
     "name": "stdout",
     "output_type": "stream",
     "text": [
      "eigenvalues shape torch.Size([5]) eigenvectors shape torch.Size([5, 400])\n",
      "4 /home/phdcs2/Hard_Disk/Datasets/Deep-Spectral-Segmentation/data/object-segmentation/ECSSD/features/dino_vits16/0005.pth\n",
      "dict_keys(['k', 'indices', 'file', 'id', 'model_name', 'patch_size', 'shape'])\n",
      "0005\n",
      "Starting Training\n",
      "epoch: 00, loss: -0.03133\n",
      "epoch: 01, loss: -0.07521\n",
      "epoch: 02, loss: -0.08127\n",
      "epoch: 03, loss: -0.08201\n",
      "epoch: 04, loss: -0.08677\n",
      "epoch: 05, loss: -0.08636\n",
      "epoch: 06, loss: -0.08534\n",
      "epoch: 07, loss: -0.08727\n",
      "epoch: 08, loss: -0.08519\n",
      "epoch: 09, loss: -0.08546\n",
      "torch.Size([400, 64])\n"
     ]
    },
    {
     "name": "stderr",
     "output_type": "stream",
     "text": [
      "\r",
      "  0%|▊                                                                                                                                                                  | 5/1000 [01:43<5:26:07, 19.67s/it]"
     ]
    },
    {
     "name": "stdout",
     "output_type": "stream",
     "text": [
      "eigenvalues shape torch.Size([5]) eigenvectors shape torch.Size([5, 400])\n",
      "5 /home/phdcs2/Hard_Disk/Datasets/Deep-Spectral-Segmentation/data/object-segmentation/ECSSD/features/dino_vits16/0006.pth\n",
      "dict_keys(['k', 'indices', 'file', 'id', 'model_name', 'patch_size', 'shape'])\n",
      "0006\n",
      "Starting Training\n",
      "epoch: 00, loss: -0.02832\n",
      "epoch: 01, loss: -0.05312\n",
      "epoch: 02, loss: -0.05512\n",
      "epoch: 03, loss: -0.05589\n",
      "epoch: 04, loss: -0.05604\n",
      "epoch: 05, loss: -0.05631\n",
      "epoch: 06, loss: -0.05653\n",
      "epoch: 07, loss: -0.05651\n",
      "epoch: 08, loss: -0.05673\n",
      "epoch: 09, loss: -0.05680\n",
      "torch.Size([400, 64])\n"
     ]
    },
    {
     "name": "stderr",
     "output_type": "stream",
     "text": [
      "\r",
      "  1%|▉                                                                                                                                                                  | 6/1000 [02:01<5:17:19, 19.15s/it]"
     ]
    },
    {
     "name": "stdout",
     "output_type": "stream",
     "text": [
      "eigenvalues shape torch.Size([5]) eigenvectors shape torch.Size([5, 400])\n",
      "6 /home/phdcs2/Hard_Disk/Datasets/Deep-Spectral-Segmentation/data/object-segmentation/ECSSD/features/dino_vits16/0007.pth\n",
      "dict_keys(['k', 'indices', 'file', 'id', 'model_name', 'patch_size', 'shape'])\n",
      "0007\n",
      "Starting Training\n",
      "epoch: 00, loss: -0.04479\n",
      "epoch: 01, loss: -0.06719\n",
      "epoch: 02, loss: -0.07011\n",
      "epoch: 03, loss: -0.07426\n",
      "epoch: 04, loss: -0.07583\n",
      "epoch: 05, loss: -0.07692\n",
      "epoch: 06, loss: -0.07489\n",
      "epoch: 07, loss: -0.07829\n",
      "epoch: 08, loss: -0.07581\n",
      "epoch: 09, loss: -0.07900\n",
      "torch.Size([400, 64])\n"
     ]
    },
    {
     "name": "stderr",
     "output_type": "stream",
     "text": [
      "\r",
      "  1%|█▏                                                                                                                                                                 | 7/1000 [02:21<5:22:45, 19.50s/it]"
     ]
    },
    {
     "name": "stdout",
     "output_type": "stream",
     "text": [
      "eigenvalues shape torch.Size([5]) eigenvectors shape torch.Size([5, 400])\n",
      "7 /home/phdcs2/Hard_Disk/Datasets/Deep-Spectral-Segmentation/data/object-segmentation/ECSSD/features/dino_vits16/0008.pth\n",
      "dict_keys(['k', 'indices', 'file', 'id', 'model_name', 'patch_size', 'shape'])\n",
      "0008\n",
      "Starting Training\n",
      "epoch: 00, loss: 0.00073\n",
      "epoch: 01, loss: -0.01196\n",
      "epoch: 02, loss: -0.01686\n",
      "epoch: 03, loss: -0.01919\n",
      "epoch: 04, loss: -0.02028\n",
      "epoch: 05, loss: -0.02092\n",
      "epoch: 06, loss: -0.02137\n",
      "epoch: 07, loss: -0.02157\n",
      "epoch: 08, loss: -0.02177\n",
      "epoch: 09, loss: -0.02197\n",
      "torch.Size([400, 64])\n"
     ]
    },
    {
     "name": "stderr",
     "output_type": "stream",
     "text": [
      "\r",
      "  1%|█▎                                                                                                                                                                 | 8/1000 [02:39<5:11:30, 18.84s/it]"
     ]
    },
    {
     "name": "stdout",
     "output_type": "stream",
     "text": [
      "eigenvalues shape torch.Size([5]) eigenvectors shape torch.Size([5, 400])\n",
      "8 /home/phdcs2/Hard_Disk/Datasets/Deep-Spectral-Segmentation/data/object-segmentation/ECSSD/features/dino_vits16/0009.pth\n",
      "dict_keys(['k', 'indices', 'file', 'id', 'model_name', 'patch_size', 'shape'])\n",
      "0009\n",
      "Starting Training\n",
      "epoch: 00, loss: -0.02691\n",
      "epoch: 01, loss: -0.04977\n",
      "epoch: 02, loss: -0.05179\n",
      "epoch: 03, loss: -0.05211\n",
      "epoch: 04, loss: -0.05259\n",
      "epoch: 05, loss: -0.05275\n",
      "epoch: 06, loss: -0.05279\n",
      "epoch: 07, loss: -0.05302\n",
      "epoch: 08, loss: -0.05309\n",
      "epoch: 09, loss: -0.05321\n",
      "torch.Size([400, 64])\n"
     ]
    },
    {
     "name": "stderr",
     "output_type": "stream",
     "text": [
      "\r",
      "  1%|█▍                                                                                                                                                                 | 9/1000 [03:00<5:24:46, 19.66s/it]"
     ]
    },
    {
     "name": "stdout",
     "output_type": "stream",
     "text": [
      "eigenvalues shape torch.Size([5]) eigenvectors shape torch.Size([5, 400])\n",
      "9 /home/phdcs2/Hard_Disk/Datasets/Deep-Spectral-Segmentation/data/object-segmentation/ECSSD/features/dino_vits16/0010.pth\n",
      "dict_keys(['k', 'indices', 'file', 'id', 'model_name', 'patch_size', 'shape'])\n",
      "0010\n",
      "Starting Training\n",
      "epoch: 00, loss: -0.00755\n",
      "epoch: 01, loss: -0.02740\n",
      "epoch: 02, loss: -0.03548\n",
      "epoch: 03, loss: -0.03593\n",
      "epoch: 04, loss: -0.04099\n",
      "epoch: 05, loss: -0.04093\n",
      "epoch: 06, loss: -0.04087\n",
      "epoch: 07, loss: -0.04081\n",
      "epoch: 08, loss: -0.04102\n",
      "epoch: 09, loss: -0.04330\n",
      "torch.Size([400, 64])\n"
     ]
    },
    {
     "name": "stderr",
     "output_type": "stream",
     "text": [
      "\r",
      "  1%|█▌                                                                                                                                                                | 10/1000 [03:20<5:22:05, 19.52s/it]"
     ]
    },
    {
     "name": "stdout",
     "output_type": "stream",
     "text": [
      "eigenvalues shape torch.Size([5]) eigenvectors shape torch.Size([5, 400])\n",
      "10 /home/phdcs2/Hard_Disk/Datasets/Deep-Spectral-Segmentation/data/object-segmentation/ECSSD/features/dino_vits16/0011.pth\n",
      "dict_keys(['k', 'indices', 'file', 'id', 'model_name', 'patch_size', 'shape'])\n",
      "0011\n",
      "Starting Training\n",
      "epoch: 00, loss: -0.04507\n",
      "epoch: 01, loss: -0.06241\n",
      "epoch: 02, loss: -0.06691\n",
      "epoch: 03, loss: -0.06763\n",
      "epoch: 04, loss: -0.06660\n",
      "epoch: 05, loss: -0.06909\n",
      "epoch: 06, loss: -0.06999\n",
      "epoch: 07, loss: -0.06983\n",
      "epoch: 08, loss: -0.06815\n",
      "epoch: 09, loss: -0.07030\n",
      "torch.Size([400, 64])\n"
     ]
    },
    {
     "name": "stderr",
     "output_type": "stream",
     "text": [
      "\r",
      "  1%|█▊                                                                                                                                                                | 11/1000 [03:40<5:25:37, 19.75s/it]"
     ]
    },
    {
     "name": "stdout",
     "output_type": "stream",
     "text": [
      "eigenvalues shape torch.Size([5]) eigenvectors shape torch.Size([5, 400])\n",
      "11 /home/phdcs2/Hard_Disk/Datasets/Deep-Spectral-Segmentation/data/object-segmentation/ECSSD/features/dino_vits16/0012.pth\n",
      "dict_keys(['k', 'indices', 'file', 'id', 'model_name', 'patch_size', 'shape'])\n",
      "0012\n",
      "Starting Training\n",
      "epoch: 00, loss: -0.01207\n",
      "epoch: 01, loss: -0.03853\n",
      "epoch: 02, loss: -0.04195\n",
      "epoch: 03, loss: -0.04335\n",
      "epoch: 04, loss: -0.04651\n",
      "epoch: 05, loss: -0.04881\n",
      "epoch: 06, loss: -0.04689\n",
      "epoch: 07, loss: -0.04865\n",
      "epoch: 08, loss: -0.04897\n",
      "epoch: 09, loss: -0.04679\n",
      "torch.Size([400, 64])\n"
     ]
    },
    {
     "name": "stderr",
     "output_type": "stream",
     "text": [
      "\r",
      "  1%|█▉                                                                                                                                                                | 12/1000 [04:01<5:29:45, 20.03s/it]"
     ]
    },
    {
     "name": "stdout",
     "output_type": "stream",
     "text": [
      "eigenvalues shape torch.Size([5]) eigenvectors shape torch.Size([5, 400])\n",
      "12 /home/phdcs2/Hard_Disk/Datasets/Deep-Spectral-Segmentation/data/object-segmentation/ECSSD/features/dino_vits16/0013.pth\n",
      "dict_keys(['k', 'indices', 'file', 'id', 'model_name', 'patch_size', 'shape'])\n",
      "0013\n",
      "Starting Training\n",
      "epoch: 00, loss: -0.00990\n",
      "epoch: 01, loss: -0.02647\n",
      "epoch: 02, loss: -0.03006\n",
      "epoch: 03, loss: -0.03148\n",
      "epoch: 04, loss: -0.03199\n",
      "epoch: 05, loss: -0.03208\n",
      "epoch: 06, loss: -0.03238\n",
      "epoch: 07, loss: -0.03253\n",
      "epoch: 08, loss: -0.03279\n",
      "epoch: 09, loss: -0.03282\n",
      "torch.Size([400, 64])\n"
     ]
    },
    {
     "name": "stderr",
     "output_type": "stream",
     "text": [
      "\r",
      "  1%|██                                                                                                                                                                | 13/1000 [04:21<5:30:04, 20.07s/it]"
     ]
    },
    {
     "name": "stdout",
     "output_type": "stream",
     "text": [
      "eigenvalues shape torch.Size([5]) eigenvectors shape torch.Size([5, 400])\n",
      "13 /home/phdcs2/Hard_Disk/Datasets/Deep-Spectral-Segmentation/data/object-segmentation/ECSSD/features/dino_vits16/0014.pth\n",
      "dict_keys(['k', 'indices', 'file', 'id', 'model_name', 'patch_size', 'shape'])\n",
      "0014\n",
      "Starting Training\n",
      "epoch: 00, loss: 0.00764\n",
      "epoch: 01, loss: -0.00117\n",
      "epoch: 02, loss: -0.00591\n",
      "epoch: 03, loss: -0.00868\n",
      "epoch: 04, loss: -0.01026\n",
      "epoch: 05, loss: -0.01151\n",
      "epoch: 06, loss: -0.01235\n",
      "epoch: 07, loss: -0.01286\n",
      "epoch: 08, loss: -0.01332\n",
      "epoch: 09, loss: -0.01351\n",
      "torch.Size([400, 64])\n"
     ]
    },
    {
     "name": "stderr",
     "output_type": "stream",
     "text": [
      "\r",
      "  1%|██▎                                                                                                                                                               | 14/1000 [04:42<5:37:33, 20.54s/it]"
     ]
    },
    {
     "name": "stdout",
     "output_type": "stream",
     "text": [
      "eigenvalues shape torch.Size([5]) eigenvectors shape torch.Size([5, 400])\n",
      "14 /home/phdcs2/Hard_Disk/Datasets/Deep-Spectral-Segmentation/data/object-segmentation/ECSSD/features/dino_vits16/0015.pth\n",
      "dict_keys(['k', 'indices', 'file', 'id', 'model_name', 'patch_size', 'shape'])\n",
      "0015\n",
      "Starting Training\n",
      "epoch: 00, loss: -0.02714\n",
      "epoch: 01, loss: -0.04511\n",
      "epoch: 02, loss: -0.04659\n",
      "epoch: 03, loss: -0.04731\n",
      "epoch: 04, loss: -0.04762\n",
      "epoch: 05, loss: -0.04786\n",
      "epoch: 06, loss: -0.04835\n",
      "epoch: 07, loss: -0.04847\n",
      "epoch: 08, loss: -0.04834\n",
      "epoch: 09, loss: -0.04847\n",
      "torch.Size([400, 64])\n"
     ]
    },
    {
     "name": "stderr",
     "output_type": "stream",
     "text": [
      "\r",
      "  2%|██▍                                                                                                                                                               | 15/1000 [05:03<5:36:36, 20.50s/it]"
     ]
    },
    {
     "name": "stdout",
     "output_type": "stream",
     "text": [
      "eigenvalues shape torch.Size([5]) eigenvectors shape torch.Size([5, 400])\n",
      "15 /home/phdcs2/Hard_Disk/Datasets/Deep-Spectral-Segmentation/data/object-segmentation/ECSSD/features/dino_vits16/0016.pth\n",
      "dict_keys(['k', 'indices', 'file', 'id', 'model_name', 'patch_size', 'shape'])\n",
      "0016\n",
      "Starting Training\n",
      "epoch: 00, loss: -0.00675\n",
      "epoch: 01, loss: -0.02158\n",
      "epoch: 02, loss: -0.02538\n",
      "epoch: 03, loss: -0.02689\n",
      "epoch: 04, loss: -0.02719\n",
      "epoch: 05, loss: -0.02741\n",
      "epoch: 06, loss: -0.02758\n",
      "epoch: 07, loss: -0.02756\n",
      "epoch: 08, loss: -0.02822\n",
      "epoch: 09, loss: -0.02824\n",
      "torch.Size([400, 64])\n"
     ]
    },
    {
     "name": "stderr",
     "output_type": "stream",
     "text": [
      "\r",
      "  2%|██▌                                                                                                                                                               | 16/1000 [05:24<5:38:52, 20.66s/it]"
     ]
    },
    {
     "name": "stdout",
     "output_type": "stream",
     "text": [
      "eigenvalues shape torch.Size([5]) eigenvectors shape torch.Size([5, 400])\n",
      "16 /home/phdcs2/Hard_Disk/Datasets/Deep-Spectral-Segmentation/data/object-segmentation/ECSSD/features/dino_vits16/0017.pth\n",
      "dict_keys(['k', 'indices', 'file', 'id', 'model_name', 'patch_size', 'shape'])\n",
      "0017\n",
      "Starting Training\n",
      "epoch: 00, loss: -0.01223\n",
      "epoch: 01, loss: -0.03157\n",
      "epoch: 02, loss: -0.03482\n",
      "epoch: 03, loss: -0.03567\n",
      "epoch: 04, loss: -0.03614\n",
      "epoch: 05, loss: -0.03630\n",
      "epoch: 06, loss: -0.03672\n",
      "epoch: 07, loss: -0.03673\n",
      "epoch: 08, loss: -0.03706\n",
      "epoch: 09, loss: -0.03712\n",
      "torch.Size([400, 64])\n"
     ]
    },
    {
     "name": "stderr",
     "output_type": "stream",
     "text": [
      "\r",
      "  2%|██▊                                                                                                                                                               | 17/1000 [05:46<5:47:59, 21.24s/it]"
     ]
    },
    {
     "name": "stdout",
     "output_type": "stream",
     "text": [
      "eigenvalues shape torch.Size([5]) eigenvectors shape torch.Size([5, 400])\n",
      "17 /home/phdcs2/Hard_Disk/Datasets/Deep-Spectral-Segmentation/data/object-segmentation/ECSSD/features/dino_vits16/0018.pth\n",
      "dict_keys(['k', 'indices', 'file', 'id', 'model_name', 'patch_size', 'shape'])\n",
      "0018\n",
      "Starting Training\n",
      "epoch: 00, loss: -0.09089\n",
      "epoch: 01, loss: -0.12244\n",
      "epoch: 02, loss: -0.12801\n",
      "epoch: 03, loss: -0.12793\n",
      "epoch: 04, loss: -0.12958\n",
      "epoch: 05, loss: -0.13123\n",
      "epoch: 06, loss: -0.13068\n",
      "epoch: 07, loss: -0.13167\n",
      "epoch: 08, loss: -0.13360\n",
      "epoch: 09, loss: -0.13184\n",
      "torch.Size([400, 64])\n"
     ]
    },
    {
     "name": "stderr",
     "output_type": "stream",
     "text": [
      "\r",
      "  2%|██▉                                                                                                                                                               | 18/1000 [06:08<5:49:18, 21.34s/it]"
     ]
    },
    {
     "name": "stdout",
     "output_type": "stream",
     "text": [
      "eigenvalues shape torch.Size([5]) eigenvectors shape torch.Size([5, 400])\n",
      "18 /home/phdcs2/Hard_Disk/Datasets/Deep-Spectral-Segmentation/data/object-segmentation/ECSSD/features/dino_vits16/0019.pth\n",
      "dict_keys(['k', 'indices', 'file', 'id', 'model_name', 'patch_size', 'shape'])\n",
      "0019\n",
      "Starting Training\n",
      "epoch: 00, loss: -0.03773\n",
      "epoch: 01, loss: -0.07291\n",
      "epoch: 02, loss: -0.07329\n",
      "epoch: 03, loss: -0.07935\n",
      "epoch: 04, loss: -0.08250\n",
      "epoch: 05, loss: -0.07980\n",
      "epoch: 06, loss: -0.07877\n",
      "epoch: 07, loss: -0.07851\n",
      "epoch: 08, loss: -0.07913\n",
      "epoch: 09, loss: -0.08273\n",
      "torch.Size([400, 64])\n"
     ]
    },
    {
     "name": "stderr",
     "output_type": "stream",
     "text": [
      "\r",
      "  2%|███                                                                                                                                                               | 19/1000 [06:34<6:14:01, 22.88s/it]"
     ]
    },
    {
     "name": "stdout",
     "output_type": "stream",
     "text": [
      "eigenvalues shape torch.Size([5]) eigenvectors shape torch.Size([5, 400])\n",
      "19 /home/phdcs2/Hard_Disk/Datasets/Deep-Spectral-Segmentation/data/object-segmentation/ECSSD/features/dino_vits16/0020.pth\n",
      "dict_keys(['k', 'indices', 'file', 'id', 'model_name', 'patch_size', 'shape'])\n",
      "0020\n",
      "Starting Training\n",
      "epoch: 00, loss: -0.05603\n",
      "epoch: 01, loss: -0.07735\n",
      "epoch: 02, loss: -0.08129\n",
      "epoch: 03, loss: -0.07935\n",
      "epoch: 04, loss: -0.07873\n",
      "epoch: 05, loss: -0.08389\n",
      "epoch: 06, loss: -0.08222\n",
      "epoch: 07, loss: -0.08336\n",
      "epoch: 08, loss: -0.08489\n",
      "epoch: 09, loss: -0.08456\n",
      "torch.Size([400, 64])\n"
     ]
    },
    {
     "name": "stderr",
     "output_type": "stream",
     "text": [
      "\r",
      "  2%|███▏                                                                                                                                                              | 20/1000 [06:59<6:22:40, 23.43s/it]"
     ]
    },
    {
     "name": "stdout",
     "output_type": "stream",
     "text": [
      "eigenvalues shape torch.Size([5]) eigenvectors shape torch.Size([5, 400])\n",
      "20 /home/phdcs2/Hard_Disk/Datasets/Deep-Spectral-Segmentation/data/object-segmentation/ECSSD/features/dino_vits16/0021.pth\n",
      "dict_keys(['k', 'indices', 'file', 'id', 'model_name', 'patch_size', 'shape'])\n",
      "0021\n",
      "Starting Training\n",
      "epoch: 00, loss: -0.05500\n",
      "epoch: 01, loss: -0.08162\n",
      "epoch: 02, loss: -0.08270\n",
      "epoch: 03, loss: -0.08282\n",
      "epoch: 04, loss: -0.08337\n",
      "epoch: 05, loss: -0.08340\n",
      "epoch: 06, loss: -0.08323\n",
      "epoch: 07, loss: -0.08366\n",
      "epoch: 08, loss: -0.08359\n",
      "epoch: 09, loss: -0.08374\n",
      "torch.Size([400, 64])\n"
     ]
    },
    {
     "name": "stderr",
     "output_type": "stream",
     "text": [
      "\r",
      "  2%|███▍                                                                                                                                                              | 21/1000 [07:19<6:04:48, 22.36s/it]"
     ]
    },
    {
     "name": "stdout",
     "output_type": "stream",
     "text": [
      "eigenvalues shape torch.Size([5]) eigenvectors shape torch.Size([5, 400])\n",
      "21 /home/phdcs2/Hard_Disk/Datasets/Deep-Spectral-Segmentation/data/object-segmentation/ECSSD/features/dino_vits16/0022.pth\n",
      "dict_keys(['k', 'indices', 'file', 'id', 'model_name', 'patch_size', 'shape'])\n",
      "0022\n",
      "Starting Training\n",
      "epoch: 00, loss: -0.04268\n",
      "epoch: 01, loss: -0.07259\n",
      "epoch: 02, loss: -0.07696\n",
      "epoch: 03, loss: -0.07902\n",
      "epoch: 04, loss: -0.08060\n",
      "epoch: 05, loss: -0.07951\n",
      "epoch: 06, loss: -0.07988\n",
      "epoch: 07, loss: -0.08131\n",
      "epoch: 08, loss: -0.08249\n",
      "epoch: 09, loss: -0.08266\n",
      "torch.Size([400, 64])\n"
     ]
    },
    {
     "name": "stderr",
     "output_type": "stream",
     "text": [
      "\r",
      "  2%|███▌                                                                                                                                                              | 22/1000 [07:42<6:06:24, 22.48s/it]"
     ]
    },
    {
     "name": "stdout",
     "output_type": "stream",
     "text": [
      "eigenvalues shape torch.Size([5]) eigenvectors shape torch.Size([5, 400])\n",
      "22 /home/phdcs2/Hard_Disk/Datasets/Deep-Spectral-Segmentation/data/object-segmentation/ECSSD/features/dino_vits16/0023.pth\n",
      "dict_keys(['k', 'indices', 'file', 'id', 'model_name', 'patch_size', 'shape'])\n",
      "0023\n",
      "Starting Training\n",
      "epoch: 00, loss: -0.06159\n",
      "epoch: 01, loss: -0.08703\n",
      "epoch: 02, loss: -0.09058\n",
      "epoch: 03, loss: -0.09569\n",
      "epoch: 04, loss: -0.09409\n",
      "epoch: 05, loss: -0.09597\n",
      "epoch: 06, loss: -0.09696\n",
      "epoch: 07, loss: -0.09570\n",
      "epoch: 08, loss: -0.09585\n",
      "epoch: 09, loss: -0.09612\n",
      "torch.Size([400, 64])\n"
     ]
    },
    {
     "name": "stderr",
     "output_type": "stream",
     "text": [
      "\r",
      "  2%|███▋                                                                                                                                                              | 23/1000 [08:04<6:04:31, 22.39s/it]"
     ]
    },
    {
     "name": "stdout",
     "output_type": "stream",
     "text": [
      "eigenvalues shape torch.Size([5]) eigenvectors shape torch.Size([5, 400])\n",
      "23 /home/phdcs2/Hard_Disk/Datasets/Deep-Spectral-Segmentation/data/object-segmentation/ECSSD/features/dino_vits16/0024.pth\n",
      "dict_keys(['k', 'indices', 'file', 'id', 'model_name', 'patch_size', 'shape'])\n",
      "0024\n",
      "Starting Training\n",
      "epoch: 00, loss: -0.01498\n",
      "epoch: 01, loss: -0.03135\n",
      "epoch: 02, loss: -0.03487\n",
      "epoch: 03, loss: -0.03564\n",
      "epoch: 04, loss: -0.03607\n",
      "epoch: 05, loss: -0.03626\n",
      "epoch: 06, loss: -0.03649\n",
      "epoch: 07, loss: -0.03676\n",
      "epoch: 08, loss: -0.03678\n",
      "epoch: 09, loss: -0.03693\n",
      "torch.Size([400, 64])\n"
     ]
    },
    {
     "name": "stderr",
     "output_type": "stream",
     "text": [
      "\r",
      "  2%|███▉                                                                                                                                                              | 24/1000 [08:29<6:17:35, 23.21s/it]"
     ]
    },
    {
     "name": "stdout",
     "output_type": "stream",
     "text": [
      "eigenvalues shape torch.Size([5]) eigenvectors shape torch.Size([5, 400])\n",
      "24 /home/phdcs2/Hard_Disk/Datasets/Deep-Spectral-Segmentation/data/object-segmentation/ECSSD/features/dino_vits16/0025.pth\n",
      "dict_keys(['k', 'indices', 'file', 'id', 'model_name', 'patch_size', 'shape'])\n",
      "0025\n",
      "Starting Training\n",
      "epoch: 00, loss: -0.02359\n",
      "epoch: 01, loss: -0.05608\n",
      "epoch: 02, loss: -0.06079\n",
      "epoch: 03, loss: -0.06609\n",
      "epoch: 04, loss: -0.06419\n",
      "epoch: 05, loss: -0.06564\n",
      "epoch: 06, loss: -0.06269\n",
      "epoch: 07, loss: -0.06597\n",
      "epoch: 08, loss: -0.06510\n",
      "epoch: 09, loss: -0.06514\n",
      "torch.Size([400, 64])\n"
     ]
    },
    {
     "name": "stderr",
     "output_type": "stream",
     "text": [
      "\r",
      "  2%|████                                                                                                                                                              | 25/1000 [08:54<6:25:39, 23.73s/it]"
     ]
    },
    {
     "name": "stdout",
     "output_type": "stream",
     "text": [
      "eigenvalues shape torch.Size([5]) eigenvectors shape torch.Size([5, 400])\n",
      "25 /home/phdcs2/Hard_Disk/Datasets/Deep-Spectral-Segmentation/data/object-segmentation/ECSSD/features/dino_vits16/0026.pth\n",
      "dict_keys(['k', 'indices', 'file', 'id', 'model_name', 'patch_size', 'shape'])\n",
      "0026\n",
      "Starting Training\n",
      "epoch: 00, loss: -0.04709\n",
      "epoch: 01, loss: -0.07225\n",
      "epoch: 02, loss: -0.07157\n",
      "epoch: 03, loss: -0.07296\n",
      "epoch: 04, loss: -0.07435\n",
      "epoch: 05, loss: -0.07490\n",
      "epoch: 06, loss: -0.07459\n",
      "epoch: 07, loss: -0.07549\n",
      "epoch: 08, loss: -0.07330\n",
      "epoch: 09, loss: -0.07446\n",
      "torch.Size([400, 64])\n"
     ]
    },
    {
     "name": "stderr",
     "output_type": "stream",
     "text": [
      "\r",
      "  3%|████▏                                                                                                                                                             | 26/1000 [09:18<6:27:13, 23.85s/it]"
     ]
    },
    {
     "name": "stdout",
     "output_type": "stream",
     "text": [
      "eigenvalues shape torch.Size([5]) eigenvectors shape torch.Size([5, 400])\n",
      "26 /home/phdcs2/Hard_Disk/Datasets/Deep-Spectral-Segmentation/data/object-segmentation/ECSSD/features/dino_vits16/0027.pth\n",
      "dict_keys(['k', 'indices', 'file', 'id', 'model_name', 'patch_size', 'shape'])\n",
      "0027\n",
      "Starting Training\n",
      "epoch: 00, loss: -0.02231\n",
      "epoch: 01, loss: -0.05802\n",
      "epoch: 02, loss: -0.06166\n",
      "epoch: 03, loss: -0.06534\n",
      "epoch: 04, loss: -0.06334\n",
      "epoch: 05, loss: -0.06691\n",
      "epoch: 06, loss: -0.06863\n",
      "epoch: 07, loss: -0.06838\n",
      "epoch: 08, loss: -0.06864\n",
      "epoch: 09, loss: -0.06972\n",
      "torch.Size([400, 64])\n"
     ]
    },
    {
     "name": "stderr",
     "output_type": "stream",
     "text": [
      "\r",
      "  3%|████▎                                                                                                                                                             | 27/1000 [09:40<6:17:20, 23.27s/it]"
     ]
    },
    {
     "name": "stdout",
     "output_type": "stream",
     "text": [
      "eigenvalues shape torch.Size([5]) eigenvectors shape torch.Size([5, 400])\n",
      "27 /home/phdcs2/Hard_Disk/Datasets/Deep-Spectral-Segmentation/data/object-segmentation/ECSSD/features/dino_vits16/0028.pth\n",
      "dict_keys(['k', 'indices', 'file', 'id', 'model_name', 'patch_size', 'shape'])\n",
      "0028\n",
      "Starting Training\n",
      "epoch: 00, loss: -0.02016\n",
      "epoch: 01, loss: -0.04892\n",
      "epoch: 02, loss: -0.05193\n",
      "epoch: 03, loss: -0.05292\n",
      "epoch: 04, loss: -0.05319\n",
      "epoch: 05, loss: -0.05330\n",
      "epoch: 06, loss: -0.05381\n",
      "epoch: 07, loss: -0.05367\n",
      "epoch: 08, loss: -0.05381\n",
      "epoch: 09, loss: -0.05400\n",
      "torch.Size([400, 64])\n"
     ]
    },
    {
     "name": "stderr",
     "output_type": "stream",
     "text": [
      "\r",
      "  3%|████▌                                                                                                                                                             | 28/1000 [10:03<6:13:26, 23.05s/it]"
     ]
    },
    {
     "name": "stdout",
     "output_type": "stream",
     "text": [
      "eigenvalues shape torch.Size([5]) eigenvectors shape torch.Size([5, 400])\n",
      "28 /home/phdcs2/Hard_Disk/Datasets/Deep-Spectral-Segmentation/data/object-segmentation/ECSSD/features/dino_vits16/0029.pth\n",
      "dict_keys(['k', 'indices', 'file', 'id', 'model_name', 'patch_size', 'shape'])\n",
      "0029\n",
      "Starting Training\n",
      "epoch: 00, loss: -0.00474\n",
      "epoch: 01, loss: -0.02557\n",
      "epoch: 02, loss: -0.03034\n",
      "epoch: 03, loss: -0.03199\n",
      "epoch: 04, loss: -0.03247\n",
      "epoch: 05, loss: -0.03295\n",
      "epoch: 06, loss: -0.03313\n",
      "epoch: 07, loss: -0.03326\n",
      "epoch: 08, loss: -0.03336\n",
      "epoch: 09, loss: -0.03349\n",
      "torch.Size([400, 64])\n"
     ]
    },
    {
     "name": "stderr",
     "output_type": "stream",
     "text": [
      "\r",
      "  3%|████▋                                                                                                                                                             | 29/1000 [10:25<6:10:28, 22.89s/it]"
     ]
    },
    {
     "name": "stdout",
     "output_type": "stream",
     "text": [
      "eigenvalues shape torch.Size([5]) eigenvectors shape torch.Size([5, 400])\n",
      "29 /home/phdcs2/Hard_Disk/Datasets/Deep-Spectral-Segmentation/data/object-segmentation/ECSSD/features/dino_vits16/0030.pth\n",
      "dict_keys(['k', 'indices', 'file', 'id', 'model_name', 'patch_size', 'shape'])\n",
      "0030\n",
      "Starting Training\n",
      "epoch: 00, loss: -0.02824\n",
      "epoch: 01, loss: -0.05396\n",
      "epoch: 02, loss: -0.05270\n",
      "epoch: 03, loss: -0.05620\n",
      "epoch: 04, loss: -0.05890\n",
      "epoch: 05, loss: -0.05892\n",
      "epoch: 06, loss: -0.05676\n",
      "epoch: 07, loss: -0.06057\n",
      "epoch: 08, loss: -0.05877\n",
      "epoch: 09, loss: -0.05989\n",
      "torch.Size([400, 64])\n"
     ]
    },
    {
     "name": "stderr",
     "output_type": "stream",
     "text": [
      "\r",
      "  3%|████▊                                                                                                                                                             | 30/1000 [10:48<6:11:04, 22.95s/it]"
     ]
    },
    {
     "name": "stdout",
     "output_type": "stream",
     "text": [
      "eigenvalues shape torch.Size([5]) eigenvectors shape torch.Size([5, 400])\n",
      "30 /home/phdcs2/Hard_Disk/Datasets/Deep-Spectral-Segmentation/data/object-segmentation/ECSSD/features/dino_vits16/0031.pth\n",
      "dict_keys(['k', 'indices', 'file', 'id', 'model_name', 'patch_size', 'shape'])\n",
      "0031\n",
      "Starting Training\n",
      "epoch: 00, loss: -0.04019\n",
      "epoch: 01, loss: -0.05976\n",
      "epoch: 02, loss: -0.05993\n",
      "epoch: 03, loss: -0.06369\n",
      "epoch: 04, loss: -0.06774\n",
      "epoch: 05, loss: -0.06579\n",
      "epoch: 06, loss: -0.06661\n",
      "epoch: 07, loss: -0.06792\n",
      "epoch: 08, loss: -0.07122\n",
      "epoch: 09, loss: -0.06925\n",
      "torch.Size([400, 64])\n"
     ]
    },
    {
     "name": "stderr",
     "output_type": "stream",
     "text": [
      "\r",
      "  3%|█████                                                                                                                                                             | 31/1000 [11:11<6:09:32, 22.88s/it]"
     ]
    },
    {
     "name": "stdout",
     "output_type": "stream",
     "text": [
      "eigenvalues shape torch.Size([5]) eigenvectors shape torch.Size([5, 400])\n",
      "31 /home/phdcs2/Hard_Disk/Datasets/Deep-Spectral-Segmentation/data/object-segmentation/ECSSD/features/dino_vits16/0032.pth\n",
      "dict_keys(['k', 'indices', 'file', 'id', 'model_name', 'patch_size', 'shape'])\n",
      "0032\n",
      "Starting Training\n",
      "epoch: 00, loss: -0.02086\n",
      "epoch: 01, loss: -0.04574\n",
      "epoch: 02, loss: -0.05474\n",
      "epoch: 03, loss: -0.05533\n",
      "epoch: 04, loss: -0.05441\n",
      "epoch: 05, loss: -0.05611\n",
      "epoch: 06, loss: -0.05630\n",
      "epoch: 07, loss: -0.05752\n",
      "epoch: 08, loss: -0.06116\n",
      "epoch: 09, loss: -0.06017\n",
      "torch.Size([400, 64])\n"
     ]
    },
    {
     "name": "stderr",
     "output_type": "stream",
     "text": [
      "\r",
      "  3%|█████▏                                                                                                                                                            | 32/1000 [11:34<6:11:15, 23.01s/it]"
     ]
    },
    {
     "name": "stdout",
     "output_type": "stream",
     "text": [
      "eigenvalues shape torch.Size([5]) eigenvectors shape torch.Size([5, 400])\n",
      "32 /home/phdcs2/Hard_Disk/Datasets/Deep-Spectral-Segmentation/data/object-segmentation/ECSSD/features/dino_vits16/0033.pth\n",
      "dict_keys(['k', 'indices', 'file', 'id', 'model_name', 'patch_size', 'shape'])\n",
      "0033\n",
      "Starting Training\n",
      "epoch: 00, loss: -0.04077\n",
      "epoch: 01, loss: -0.09270\n",
      "epoch: 02, loss: -0.09837\n",
      "epoch: 03, loss: -0.10190\n",
      "epoch: 04, loss: -0.10258\n",
      "epoch: 05, loss: -0.10120\n",
      "epoch: 06, loss: -0.10288\n",
      "epoch: 07, loss: -0.10495\n",
      "epoch: 08, loss: -0.10510\n",
      "epoch: 09, loss: -0.10533\n",
      "torch.Size([400, 64])\n"
     ]
    },
    {
     "name": "stderr",
     "output_type": "stream",
     "text": [
      "\r",
      "  3%|█████▎                                                                                                                                                            | 33/1000 [11:54<5:57:35, 22.19s/it]"
     ]
    },
    {
     "name": "stdout",
     "output_type": "stream",
     "text": [
      "eigenvalues shape torch.Size([5]) eigenvectors shape torch.Size([5, 400])\n",
      "33 /home/phdcs2/Hard_Disk/Datasets/Deep-Spectral-Segmentation/data/object-segmentation/ECSSD/features/dino_vits16/0034.pth\n",
      "dict_keys(['k', 'indices', 'file', 'id', 'model_name', 'patch_size', 'shape'])\n",
      "0034\n",
      "Starting Training\n",
      "epoch: 00, loss: -0.03959\n",
      "epoch: 01, loss: -0.05745\n",
      "epoch: 02, loss: -0.05881\n",
      "epoch: 03, loss: -0.05963\n",
      "epoch: 04, loss: -0.05978\n",
      "epoch: 05, loss: -0.05994\n",
      "epoch: 06, loss: -0.06012\n",
      "epoch: 07, loss: -0.06028\n",
      "epoch: 08, loss: -0.06041\n",
      "epoch: 09, loss: -0.06040\n",
      "torch.Size([400, 64])\n"
     ]
    },
    {
     "name": "stderr",
     "output_type": "stream",
     "text": [
      "\r",
      "  3%|█████▌                                                                                                                                                            | 34/1000 [12:21<6:20:26, 23.63s/it]"
     ]
    },
    {
     "name": "stdout",
     "output_type": "stream",
     "text": [
      "eigenvalues shape torch.Size([5]) eigenvectors shape torch.Size([5, 400])\n",
      "34 /home/phdcs2/Hard_Disk/Datasets/Deep-Spectral-Segmentation/data/object-segmentation/ECSSD/features/dino_vits16/0035.pth\n",
      "dict_keys(['k', 'indices', 'file', 'id', 'model_name', 'patch_size', 'shape'])\n",
      "0035\n",
      "Starting Training\n",
      "epoch: 00, loss: -0.01026\n",
      "epoch: 01, loss: -0.02812\n",
      "epoch: 02, loss: -0.03235\n",
      "epoch: 03, loss: -0.03215\n",
      "epoch: 04, loss: -0.03280\n",
      "epoch: 05, loss: -0.03289\n",
      "epoch: 06, loss: -0.03312\n",
      "epoch: 07, loss: -0.03378\n",
      "epoch: 08, loss: -0.03308\n",
      "epoch: 09, loss: -0.03379\n",
      "torch.Size([400, 64])\n"
     ]
    },
    {
     "name": "stderr",
     "output_type": "stream",
     "text": [
      "\r",
      "  4%|█████▋                                                                                                                                                            | 35/1000 [12:48<6:34:53, 24.55s/it]"
     ]
    },
    {
     "name": "stdout",
     "output_type": "stream",
     "text": [
      "eigenvalues shape torch.Size([5]) eigenvectors shape torch.Size([5, 400])\n",
      "35 /home/phdcs2/Hard_Disk/Datasets/Deep-Spectral-Segmentation/data/object-segmentation/ECSSD/features/dino_vits16/0036.pth\n",
      "dict_keys(['k', 'indices', 'file', 'id', 'model_name', 'patch_size', 'shape'])\n",
      "0036\n",
      "Starting Training\n",
      "epoch: 00, loss: -0.03366\n",
      "epoch: 01, loss: -0.06288\n",
      "epoch: 02, loss: -0.06815\n",
      "epoch: 03, loss: -0.07025\n",
      "epoch: 04, loss: -0.06975\n",
      "epoch: 05, loss: -0.07182\n",
      "epoch: 06, loss: -0.07128\n",
      "epoch: 07, loss: -0.07261\n",
      "epoch: 08, loss: -0.06921\n",
      "epoch: 09, loss: -0.07353\n",
      "torch.Size([450, 64])\n"
     ]
    },
    {
     "name": "stderr",
     "output_type": "stream",
     "text": [
      "\r",
      "  4%|█████▊                                                                                                                                                            | 36/1000 [13:24<7:28:06, 27.89s/it]"
     ]
    },
    {
     "name": "stdout",
     "output_type": "stream",
     "text": [
      "eigenvalues shape torch.Size([5]) eigenvectors shape torch.Size([5, 450])\n",
      "36 /home/phdcs2/Hard_Disk/Datasets/Deep-Spectral-Segmentation/data/object-segmentation/ECSSD/features/dino_vits16/0037.pth\n",
      "dict_keys(['k', 'indices', 'file', 'id', 'model_name', 'patch_size', 'shape'])\n",
      "0037\n",
      "Starting Training\n",
      "epoch: 00, loss: -0.01441\n",
      "epoch: 01, loss: -0.03669\n",
      "epoch: 02, loss: -0.04058\n",
      "epoch: 03, loss: -0.04089\n",
      "epoch: 04, loss: -0.04168\n",
      "epoch: 05, loss: -0.04236\n",
      "epoch: 06, loss: -0.04264\n",
      "epoch: 07, loss: -0.04276\n",
      "epoch: 08, loss: -0.04276\n",
      "epoch: 09, loss: -0.04298\n",
      "torch.Size([450, 64])\n"
     ]
    },
    {
     "name": "stderr",
     "output_type": "stream",
     "text": [
      "\r",
      "  4%|█████▉                                                                                                                                                            | 37/1000 [13:53<7:34:56, 28.35s/it]"
     ]
    },
    {
     "name": "stdout",
     "output_type": "stream",
     "text": [
      "eigenvalues shape torch.Size([5]) eigenvectors shape torch.Size([5, 450])\n",
      "37 /home/phdcs2/Hard_Disk/Datasets/Deep-Spectral-Segmentation/data/object-segmentation/ECSSD/features/dino_vits16/0038.pth\n",
      "dict_keys(['k', 'indices', 'file', 'id', 'model_name', 'patch_size', 'shape'])\n",
      "0038\n",
      "Starting Training\n",
      "epoch: 00, loss: -0.02060\n",
      "epoch: 01, loss: -0.04508\n",
      "epoch: 02, loss: -0.04835\n",
      "epoch: 03, loss: -0.04865\n",
      "epoch: 04, loss: -0.04903\n",
      "epoch: 05, loss: -0.04939\n",
      "epoch: 06, loss: -0.04939\n",
      "epoch: 07, loss: -0.04956\n",
      "epoch: 08, loss: -0.04983\n",
      "epoch: 09, loss: -0.04997\n",
      "torch.Size([400, 64])\n"
     ]
    },
    {
     "name": "stderr",
     "output_type": "stream",
     "text": [
      "\r",
      "  4%|██████▏                                                                                                                                                           | 38/1000 [14:18<7:18:03, 27.32s/it]"
     ]
    },
    {
     "name": "stdout",
     "output_type": "stream",
     "text": [
      "eigenvalues shape torch.Size([5]) eigenvectors shape torch.Size([5, 400])\n",
      "38 /home/phdcs2/Hard_Disk/Datasets/Deep-Spectral-Segmentation/data/object-segmentation/ECSSD/features/dino_vits16/0039.pth\n",
      "dict_keys(['k', 'indices', 'file', 'id', 'model_name', 'patch_size', 'shape'])\n",
      "0039\n",
      "Starting Training\n",
      "epoch: 00, loss: -0.04736\n",
      "epoch: 01, loss: -0.06349\n",
      "epoch: 02, loss: -0.06373\n",
      "epoch: 03, loss: -0.06461\n",
      "epoch: 04, loss: -0.06500\n",
      "epoch: 05, loss: -0.06488\n",
      "epoch: 06, loss: -0.06519\n",
      "epoch: 07, loss: -0.06537\n",
      "epoch: 08, loss: -0.06552\n",
      "epoch: 09, loss: -0.06559\n",
      "torch.Size([400, 64])\n"
     ]
    },
    {
     "name": "stderr",
     "output_type": "stream",
     "text": [
      "\r",
      "  4%|██████▎                                                                                                                                                           | 39/1000 [14:44<7:10:14, 26.86s/it]"
     ]
    },
    {
     "name": "stdout",
     "output_type": "stream",
     "text": [
      "eigenvalues shape torch.Size([5]) eigenvectors shape torch.Size([5, 400])\n",
      "39 /home/phdcs2/Hard_Disk/Datasets/Deep-Spectral-Segmentation/data/object-segmentation/ECSSD/features/dino_vits16/0040.pth\n",
      "dict_keys(['k', 'indices', 'file', 'id', 'model_name', 'patch_size', 'shape'])\n",
      "0040\n",
      "Starting Training\n",
      "epoch: 00, loss: -0.06819\n",
      "epoch: 01, loss: -0.08664\n",
      "epoch: 02, loss: -0.08749\n",
      "epoch: 03, loss: -0.08773\n",
      "epoch: 04, loss: -0.08776\n",
      "epoch: 05, loss: -0.08794\n",
      "epoch: 06, loss: -0.08818\n",
      "epoch: 07, loss: -0.08875\n",
      "epoch: 08, loss: -0.08850\n",
      "epoch: 09, loss: -0.08845\n",
      "torch.Size([400, 64])\n"
     ]
    },
    {
     "name": "stderr",
     "output_type": "stream",
     "text": [
      "\r",
      "  4%|██████▍                                                                                                                                                           | 40/1000 [15:10<7:08:01, 26.75s/it]"
     ]
    },
    {
     "name": "stdout",
     "output_type": "stream",
     "text": [
      "eigenvalues shape torch.Size([5]) eigenvectors shape torch.Size([5, 400])\n",
      "40 /home/phdcs2/Hard_Disk/Datasets/Deep-Spectral-Segmentation/data/object-segmentation/ECSSD/features/dino_vits16/0041.pth\n",
      "dict_keys(['k', 'indices', 'file', 'id', 'model_name', 'patch_size', 'shape'])\n",
      "0041\n",
      "Starting Training\n",
      "epoch: 00, loss: -0.00041\n",
      "epoch: 01, loss: -0.02822\n",
      "epoch: 02, loss: -0.03164\n",
      "epoch: 03, loss: -0.03544\n",
      "epoch: 04, loss: -0.03856\n",
      "epoch: 05, loss: -0.03698\n",
      "epoch: 06, loss: -0.03837\n",
      "epoch: 07, loss: -0.03542\n",
      "epoch: 08, loss: -0.03847\n",
      "epoch: 09, loss: -0.03881\n",
      "torch.Size([450, 64])\n"
     ]
    },
    {
     "name": "stderr",
     "output_type": "stream",
     "text": [
      "\r",
      "  4%|██████▋                                                                                                                                                           | 41/1000 [15:38<7:13:02, 27.09s/it]"
     ]
    },
    {
     "name": "stdout",
     "output_type": "stream",
     "text": [
      "eigenvalues shape torch.Size([5]) eigenvectors shape torch.Size([5, 450])\n",
      "41 /home/phdcs2/Hard_Disk/Datasets/Deep-Spectral-Segmentation/data/object-segmentation/ECSSD/features/dino_vits16/0042.pth\n",
      "dict_keys(['k', 'indices', 'file', 'id', 'model_name', 'patch_size', 'shape'])\n",
      "0042\n",
      "Starting Training\n",
      "epoch: 00, loss: -0.00868\n",
      "epoch: 01, loss: -0.02765\n",
      "epoch: 02, loss: -0.03056\n",
      "epoch: 03, loss: -0.03173\n",
      "epoch: 04, loss: -0.03206\n",
      "epoch: 05, loss: -0.03239\n",
      "epoch: 06, loss: -0.03254\n",
      "epoch: 07, loss: -0.03273\n",
      "epoch: 08, loss: -0.03291\n",
      "epoch: 09, loss: -0.03294\n",
      "torch.Size([400, 64])\n"
     ]
    },
    {
     "name": "stderr",
     "output_type": "stream",
     "text": [
      "\r",
      "  4%|██████▊                                                                                                                                                           | 42/1000 [16:03<7:02:41, 26.47s/it]"
     ]
    },
    {
     "name": "stdout",
     "output_type": "stream",
     "text": [
      "eigenvalues shape torch.Size([5]) eigenvectors shape torch.Size([5, 400])\n",
      "42 /home/phdcs2/Hard_Disk/Datasets/Deep-Spectral-Segmentation/data/object-segmentation/ECSSD/features/dino_vits16/0043.pth\n",
      "dict_keys(['k', 'indices', 'file', 'id', 'model_name', 'patch_size', 'shape'])\n",
      "0043\n",
      "Starting Training\n",
      "epoch: 00, loss: -0.03666\n",
      "epoch: 01, loss: -0.05306\n",
      "epoch: 02, loss: -0.05500\n",
      "epoch: 03, loss: -0.05615\n",
      "epoch: 04, loss: -0.05662\n",
      "epoch: 05, loss: -0.05587\n",
      "epoch: 06, loss: -0.05806\n",
      "epoch: 07, loss: -0.05747\n",
      "epoch: 08, loss: -0.05662\n",
      "epoch: 09, loss: -0.05716\n",
      "torch.Size([450, 64])\n"
     ]
    },
    {
     "name": "stderr",
     "output_type": "stream",
     "text": [
      "\r",
      "  4%|██████▉                                                                                                                                                           | 43/1000 [16:31<7:08:57, 26.89s/it]"
     ]
    },
    {
     "name": "stdout",
     "output_type": "stream",
     "text": [
      "eigenvalues shape torch.Size([5]) eigenvectors shape torch.Size([5, 450])\n",
      "43 /home/phdcs2/Hard_Disk/Datasets/Deep-Spectral-Segmentation/data/object-segmentation/ECSSD/features/dino_vits16/0044.pth\n",
      "dict_keys(['k', 'indices', 'file', 'id', 'model_name', 'patch_size', 'shape'])\n",
      "0044\n",
      "Starting Training\n",
      "epoch: 00, loss: -0.00965\n",
      "epoch: 01, loss: -0.02333\n",
      "epoch: 02, loss: -0.02762\n",
      "epoch: 03, loss: -0.02718\n",
      "epoch: 04, loss: -0.02886\n",
      "epoch: 05, loss: -0.02894\n",
      "epoch: 06, loss: -0.02926\n",
      "epoch: 07, loss: -0.02953\n",
      "epoch: 08, loss: -0.02941\n",
      "epoch: 09, loss: -0.02891\n",
      "torch.Size([525, 64])\n"
     ]
    },
    {
     "name": "stderr",
     "output_type": "stream",
     "text": [
      "\r",
      "  4%|███████▏                                                                                                                                                          | 44/1000 [17:09<8:00:21, 30.15s/it]"
     ]
    },
    {
     "name": "stdout",
     "output_type": "stream",
     "text": [
      "eigenvalues shape torch.Size([5]) eigenvectors shape torch.Size([5, 525])\n",
      "44 /home/phdcs2/Hard_Disk/Datasets/Deep-Spectral-Segmentation/data/object-segmentation/ECSSD/features/dino_vits16/0045.pth\n",
      "dict_keys(['k', 'indices', 'file', 'id', 'model_name', 'patch_size', 'shape'])\n",
      "0045\n",
      "Starting Training\n",
      "epoch: 00, loss: -0.03460\n",
      "epoch: 01, loss: -0.06625\n",
      "epoch: 02, loss: -0.06934\n",
      "epoch: 03, loss: -0.06873\n",
      "epoch: 04, loss: -0.06979\n",
      "epoch: 05, loss: -0.07234\n",
      "epoch: 06, loss: -0.07232\n",
      "epoch: 07, loss: -0.07405\n",
      "epoch: 08, loss: -0.07233\n",
      "epoch: 09, loss: -0.07269\n",
      "torch.Size([450, 64])\n"
     ]
    },
    {
     "name": "stderr",
     "output_type": "stream",
     "text": [
      "\r",
      "  4%|███████▎                                                                                                                                                          | 45/1000 [17:42<8:14:45, 31.08s/it]"
     ]
    },
    {
     "name": "stdout",
     "output_type": "stream",
     "text": [
      "eigenvalues shape torch.Size([5]) eigenvectors shape torch.Size([5, 450])\n",
      "45 /home/phdcs2/Hard_Disk/Datasets/Deep-Spectral-Segmentation/data/object-segmentation/ECSSD/features/dino_vits16/0046.pth\n",
      "dict_keys(['k', 'indices', 'file', 'id', 'model_name', 'patch_size', 'shape'])\n",
      "0046\n",
      "Starting Training\n",
      "epoch: 00, loss: -0.05289\n",
      "epoch: 01, loss: -0.06991\n",
      "epoch: 02, loss: -0.07074\n",
      "epoch: 03, loss: -0.07101\n",
      "epoch: 04, loss: -0.07138\n",
      "epoch: 05, loss: -0.07173\n",
      "epoch: 06, loss: -0.07179\n",
      "epoch: 07, loss: -0.07184\n",
      "epoch: 08, loss: -0.07194\n",
      "epoch: 09, loss: -0.07210\n",
      "torch.Size([450, 64])\n"
     ]
    },
    {
     "name": "stderr",
     "output_type": "stream",
     "text": [
      "\r",
      "  5%|███████▍                                                                                                                                                          | 46/1000 [18:09<7:54:13, 29.83s/it]"
     ]
    },
    {
     "name": "stdout",
     "output_type": "stream",
     "text": [
      "eigenvalues shape torch.Size([5]) eigenvectors shape torch.Size([5, 450])\n",
      "46 /home/phdcs2/Hard_Disk/Datasets/Deep-Spectral-Segmentation/data/object-segmentation/ECSSD/features/dino_vits16/0047.pth\n",
      "dict_keys(['k', 'indices', 'file', 'id', 'model_name', 'patch_size', 'shape'])\n",
      "0047\n",
      "Starting Training\n",
      "epoch: 00, loss: -0.05015\n",
      "epoch: 01, loss: -0.06885\n",
      "epoch: 02, loss: -0.06950\n",
      "epoch: 03, loss: -0.07076\n",
      "epoch: 04, loss: -0.07014\n",
      "epoch: 05, loss: -0.07068\n",
      "epoch: 06, loss: -0.07096\n",
      "epoch: 07, loss: -0.07097\n",
      "epoch: 08, loss: -0.07119\n",
      "epoch: 09, loss: -0.07126\n",
      "torch.Size([400, 64])\n"
     ]
    },
    {
     "name": "stderr",
     "output_type": "stream",
     "text": [
      "\r",
      "  5%|███████▌                                                                                                                                                          | 47/1000 [18:35<7:34:23, 28.61s/it]"
     ]
    },
    {
     "name": "stdout",
     "output_type": "stream",
     "text": [
      "eigenvalues shape torch.Size([5]) eigenvectors shape torch.Size([5, 400])\n",
      "47 /home/phdcs2/Hard_Disk/Datasets/Deep-Spectral-Segmentation/data/object-segmentation/ECSSD/features/dino_vits16/0048.pth\n",
      "dict_keys(['k', 'indices', 'file', 'id', 'model_name', 'patch_size', 'shape'])\n",
      "0048\n",
      "Starting Training\n",
      "epoch: 00, loss: -0.04584\n",
      "epoch: 01, loss: -0.07497\n",
      "epoch: 02, loss: -0.07993\n",
      "epoch: 03, loss: -0.08083\n",
      "epoch: 04, loss: -0.08005\n",
      "epoch: 05, loss: -0.08014\n",
      "epoch: 06, loss: -0.08242\n",
      "epoch: 07, loss: -0.08366\n",
      "epoch: 08, loss: -0.08269\n",
      "epoch: 09, loss: -0.08275\n",
      "torch.Size([450, 64])\n"
     ]
    },
    {
     "name": "stderr",
     "output_type": "stream",
     "text": [
      "\r",
      "  5%|███████▊                                                                                                                                                          | 48/1000 [19:03<7:31:27, 28.45s/it]"
     ]
    },
    {
     "name": "stdout",
     "output_type": "stream",
     "text": [
      "eigenvalues shape torch.Size([5]) eigenvectors shape torch.Size([5, 450])\n",
      "48 /home/phdcs2/Hard_Disk/Datasets/Deep-Spectral-Segmentation/data/object-segmentation/ECSSD/features/dino_vits16/0049.pth\n",
      "dict_keys(['k', 'indices', 'file', 'id', 'model_name', 'patch_size', 'shape'])\n",
      "0049\n",
      "Starting Training\n",
      "epoch: 00, loss: -0.05381\n",
      "epoch: 01, loss: -0.08194\n",
      "epoch: 02, loss: -0.08229\n",
      "epoch: 03, loss: -0.08259\n",
      "epoch: 04, loss: -0.08310\n",
      "epoch: 05, loss: -0.08313\n",
      "epoch: 06, loss: -0.08311\n",
      "epoch: 07, loss: -0.08337\n",
      "epoch: 08, loss: -0.08332\n",
      "epoch: 09, loss: -0.08340\n",
      "torch.Size([450, 64])\n"
     ]
    },
    {
     "name": "stderr",
     "output_type": "stream",
     "text": [
      "\r",
      "  5%|███████▉                                                                                                                                                          | 49/1000 [19:34<7:44:11, 29.29s/it]"
     ]
    },
    {
     "name": "stdout",
     "output_type": "stream",
     "text": [
      "eigenvalues shape torch.Size([5]) eigenvectors shape torch.Size([5, 450])\n",
      "49 /home/phdcs2/Hard_Disk/Datasets/Deep-Spectral-Segmentation/data/object-segmentation/ECSSD/features/dino_vits16/0050.pth\n",
      "dict_keys(['k', 'indices', 'file', 'id', 'model_name', 'patch_size', 'shape'])\n",
      "0050\n",
      "Starting Training\n",
      "epoch: 00, loss: -0.02677\n",
      "epoch: 01, loss: -0.04999\n",
      "epoch: 02, loss: -0.05228\n",
      "epoch: 03, loss: -0.05322\n",
      "epoch: 04, loss: -0.05344\n",
      "epoch: 05, loss: -0.05401\n",
      "epoch: 06, loss: -0.05390\n",
      "epoch: 07, loss: -0.05398\n",
      "epoch: 08, loss: -0.05424\n",
      "epoch: 09, loss: -0.05421\n",
      "torch.Size([400, 64])\n"
     ]
    },
    {
     "name": "stderr",
     "output_type": "stream",
     "text": [
      "\r",
      "  5%|████████                                                                                                                                                          | 50/1000 [20:00<7:25:14, 28.12s/it]"
     ]
    },
    {
     "name": "stdout",
     "output_type": "stream",
     "text": [
      "eigenvalues shape torch.Size([5]) eigenvectors shape torch.Size([5, 400])\n",
      "50 /home/phdcs2/Hard_Disk/Datasets/Deep-Spectral-Segmentation/data/object-segmentation/ECSSD/features/dino_vits16/0051.pth\n",
      "dict_keys(['k', 'indices', 'file', 'id', 'model_name', 'patch_size', 'shape'])\n",
      "0051\n",
      "Starting Training\n",
      "epoch: 00, loss: -0.06807\n",
      "epoch: 01, loss: -0.09644\n",
      "epoch: 02, loss: -0.09858\n",
      "epoch: 03, loss: -0.09929\n",
      "epoch: 04, loss: -0.09935\n",
      "epoch: 05, loss: -0.10018\n",
      "epoch: 06, loss: -0.10073\n",
      "epoch: 07, loss: -0.09978\n",
      "epoch: 08, loss: -0.10019\n",
      "epoch: 09, loss: -0.09918\n",
      "torch.Size([450, 64])\n"
     ]
    },
    {
     "name": "stderr",
     "output_type": "stream",
     "text": [
      "\r",
      "  5%|████████▎                                                                                                                                                         | 51/1000 [20:29<7:31:43, 28.56s/it]"
     ]
    },
    {
     "name": "stdout",
     "output_type": "stream",
     "text": [
      "eigenvalues shape torch.Size([5]) eigenvectors shape torch.Size([5, 450])\n",
      "51 /home/phdcs2/Hard_Disk/Datasets/Deep-Spectral-Segmentation/data/object-segmentation/ECSSD/features/dino_vits16/0052.pth\n",
      "dict_keys(['k', 'indices', 'file', 'id', 'model_name', 'patch_size', 'shape'])\n",
      "0052\n",
      "Starting Training\n",
      "epoch: 00, loss: -0.05060\n",
      "epoch: 01, loss: -0.07470\n",
      "epoch: 02, loss: -0.07558\n",
      "epoch: 03, loss: -0.07605\n",
      "epoch: 04, loss: -0.07620\n",
      "epoch: 05, loss: -0.07651\n",
      "epoch: 06, loss: -0.07651\n",
      "epoch: 07, loss: -0.07686\n",
      "epoch: 08, loss: -0.07676\n",
      "epoch: 09, loss: -0.07686\n",
      "torch.Size([450, 64])\n"
     ]
    },
    {
     "name": "stderr",
     "output_type": "stream",
     "text": [
      "\r",
      "  5%|████████▍                                                                                                                                                         | 52/1000 [20:57<7:27:06, 28.30s/it]"
     ]
    },
    {
     "name": "stdout",
     "output_type": "stream",
     "text": [
      "eigenvalues shape torch.Size([5]) eigenvectors shape torch.Size([5, 450])\n",
      "52 /home/phdcs2/Hard_Disk/Datasets/Deep-Spectral-Segmentation/data/object-segmentation/ECSSD/features/dino_vits16/0053.pth\n",
      "dict_keys(['k', 'indices', 'file', 'id', 'model_name', 'patch_size', 'shape'])\n",
      "0053\n",
      "Starting Training\n",
      "epoch: 00, loss: -0.01742\n",
      "epoch: 01, loss: -0.04311\n",
      "epoch: 02, loss: -0.04693\n",
      "epoch: 03, loss: -0.04852\n",
      "epoch: 04, loss: -0.04903\n",
      "epoch: 05, loss: -0.04920\n",
      "epoch: 06, loss: -0.05181\n",
      "epoch: 07, loss: -0.05155\n",
      "epoch: 08, loss: -0.05386\n",
      "epoch: 09, loss: -0.05386\n",
      "torch.Size([375, 64])\n"
     ]
    },
    {
     "name": "stderr",
     "output_type": "stream",
     "text": [
      "\r",
      "  5%|████████▌                                                                                                                                                         | 53/1000 [21:21<7:07:03, 27.06s/it]"
     ]
    },
    {
     "name": "stdout",
     "output_type": "stream",
     "text": [
      "eigenvalues shape torch.Size([5]) eigenvectors shape torch.Size([5, 375])\n",
      "53 /home/phdcs2/Hard_Disk/Datasets/Deep-Spectral-Segmentation/data/object-segmentation/ECSSD/features/dino_vits16/0054.pth\n",
      "dict_keys(['k', 'indices', 'file', 'id', 'model_name', 'patch_size', 'shape'])\n",
      "0054\n",
      "Starting Training\n",
      "epoch: 00, loss: -0.03767\n",
      "epoch: 01, loss: -0.05530\n",
      "epoch: 02, loss: -0.05598\n",
      "epoch: 03, loss: -0.05657\n",
      "epoch: 04, loss: -0.05666\n",
      "epoch: 05, loss: -0.05706\n",
      "epoch: 06, loss: -0.05740\n",
      "epoch: 07, loss: -0.05722\n",
      "epoch: 08, loss: -0.05749\n",
      "epoch: 09, loss: -0.05745\n",
      "torch.Size([450, 64])\n"
     ]
    },
    {
     "name": "stderr",
     "output_type": "stream",
     "text": [
      "\r",
      "  5%|████████▋                                                                                                                                                         | 54/1000 [21:50<7:15:07, 27.60s/it]"
     ]
    },
    {
     "name": "stdout",
     "output_type": "stream",
     "text": [
      "eigenvalues shape torch.Size([5]) eigenvectors shape torch.Size([5, 450])\n",
      "54 /home/phdcs2/Hard_Disk/Datasets/Deep-Spectral-Segmentation/data/object-segmentation/ECSSD/features/dino_vits16/0055.pth\n",
      "dict_keys(['k', 'indices', 'file', 'id', 'model_name', 'patch_size', 'shape'])\n",
      "0055\n",
      "Starting Training\n",
      "epoch: 00, loss: -0.07428\n",
      "epoch: 01, loss: -0.10031\n",
      "epoch: 02, loss: -0.10096\n",
      "epoch: 03, loss: -0.10157\n",
      "epoch: 04, loss: -0.10147\n",
      "epoch: 05, loss: -0.10188\n",
      "epoch: 06, loss: -0.10216\n",
      "epoch: 07, loss: -0.10198\n",
      "epoch: 08, loss: -0.10215\n",
      "epoch: 09, loss: -0.10225\n",
      "torch.Size([450, 64])\n"
     ]
    },
    {
     "name": "stderr",
     "output_type": "stream",
     "text": [
      "\r",
      "  6%|████████▉                                                                                                                                                         | 55/1000 [22:24<7:46:42, 29.63s/it]"
     ]
    },
    {
     "name": "stdout",
     "output_type": "stream",
     "text": [
      "eigenvalues shape torch.Size([5]) eigenvectors shape torch.Size([5, 450])\n",
      "55 /home/phdcs2/Hard_Disk/Datasets/Deep-Spectral-Segmentation/data/object-segmentation/ECSSD/features/dino_vits16/0056.pth\n",
      "dict_keys(['k', 'indices', 'file', 'id', 'model_name', 'patch_size', 'shape'])\n",
      "0056\n",
      "Starting Training\n",
      "epoch: 00, loss: -0.01482\n",
      "epoch: 01, loss: -0.03326\n",
      "epoch: 02, loss: -0.03705\n",
      "epoch: 03, loss: -0.03836\n",
      "epoch: 04, loss: -0.03857\n",
      "epoch: 05, loss: -0.03889\n",
      "epoch: 06, loss: -0.03908\n",
      "epoch: 07, loss: -0.03916\n",
      "epoch: 08, loss: -0.03932\n",
      "epoch: 09, loss: -0.03928\n",
      "torch.Size([400, 64])\n"
     ]
    },
    {
     "name": "stderr",
     "output_type": "stream",
     "text": [
      "\r",
      "  6%|█████████                                                                                                                                                         | 56/1000 [22:48<7:16:30, 27.74s/it]"
     ]
    },
    {
     "name": "stdout",
     "output_type": "stream",
     "text": [
      "eigenvalues shape torch.Size([5]) eigenvectors shape torch.Size([5, 400])\n",
      "56 /home/phdcs2/Hard_Disk/Datasets/Deep-Spectral-Segmentation/data/object-segmentation/ECSSD/features/dino_vits16/0057.pth\n",
      "dict_keys(['k', 'indices', 'file', 'id', 'model_name', 'patch_size', 'shape'])\n",
      "0057\n",
      "Starting Training\n",
      "epoch: 00, loss: -0.05968\n",
      "epoch: 01, loss: -0.07855\n",
      "epoch: 02, loss: -0.07986\n",
      "epoch: 03, loss: -0.08066\n",
      "epoch: 04, loss: -0.08035\n",
      "epoch: 05, loss: -0.08062\n",
      "epoch: 06, loss: -0.08071\n",
      "epoch: 07, loss: -0.08085\n",
      "epoch: 08, loss: -0.08087\n",
      "epoch: 09, loss: -0.08096\n",
      "torch.Size([400, 64])\n"
     ]
    },
    {
     "name": "stderr",
     "output_type": "stream",
     "text": [
      "\r",
      "  6%|█████████▏                                                                                                                                                        | 57/1000 [23:11<6:55:20, 26.43s/it]"
     ]
    },
    {
     "name": "stdout",
     "output_type": "stream",
     "text": [
      "eigenvalues shape torch.Size([5]) eigenvectors shape torch.Size([5, 400])\n",
      "57 /home/phdcs2/Hard_Disk/Datasets/Deep-Spectral-Segmentation/data/object-segmentation/ECSSD/features/dino_vits16/0058.pth\n",
      "dict_keys(['k', 'indices', 'file', 'id', 'model_name', 'patch_size', 'shape'])\n",
      "0058\n",
      "Starting Training\n",
      "epoch: 00, loss: -0.04237\n",
      "epoch: 01, loss: -0.07145\n",
      "epoch: 02, loss: -0.07455\n",
      "epoch: 03, loss: -0.07748\n",
      "epoch: 04, loss: -0.07687\n",
      "epoch: 05, loss: -0.07693\n",
      "epoch: 06, loss: -0.07915\n",
      "epoch: 07, loss: -0.08012\n",
      "epoch: 08, loss: -0.08029\n",
      "epoch: 09, loss: -0.07757\n",
      "torch.Size([425, 64])\n"
     ]
    },
    {
     "name": "stderr",
     "output_type": "stream",
     "text": [
      "\r",
      "  6%|█████████▍                                                                                                                                                        | 58/1000 [23:40<7:04:35, 27.04s/it]"
     ]
    },
    {
     "name": "stdout",
     "output_type": "stream",
     "text": [
      "eigenvalues shape torch.Size([5]) eigenvectors shape torch.Size([5, 425])\n",
      "58 /home/phdcs2/Hard_Disk/Datasets/Deep-Spectral-Segmentation/data/object-segmentation/ECSSD/features/dino_vits16/0059.pth\n",
      "dict_keys(['k', 'indices', 'file', 'id', 'model_name', 'patch_size', 'shape'])\n",
      "0059\n",
      "Starting Training\n",
      "epoch: 00, loss: -0.03860\n",
      "epoch: 01, loss: -0.06167\n",
      "epoch: 02, loss: -0.06380\n",
      "epoch: 03, loss: -0.06369\n",
      "epoch: 04, loss: -0.06414\n",
      "epoch: 05, loss: -0.06433\n",
      "epoch: 06, loss: -0.06446\n",
      "epoch: 07, loss: -0.06479\n",
      "epoch: 08, loss: -0.06487\n",
      "epoch: 09, loss: -0.06502\n",
      "torch.Size([450, 64])\n"
     ]
    },
    {
     "name": "stderr",
     "output_type": "stream",
     "text": [
      "\r",
      "  6%|█████████▌                                                                                                                                                        | 59/1000 [24:15<7:45:17, 29.67s/it]"
     ]
    },
    {
     "name": "stdout",
     "output_type": "stream",
     "text": [
      "eigenvalues shape torch.Size([5]) eigenvectors shape torch.Size([5, 450])\n",
      "59 /home/phdcs2/Hard_Disk/Datasets/Deep-Spectral-Segmentation/data/object-segmentation/ECSSD/features/dino_vits16/0060.pth\n",
      "dict_keys(['k', 'indices', 'file', 'id', 'model_name', 'patch_size', 'shape'])\n",
      "0060\n",
      "Starting Training\n",
      "epoch: 00, loss: -0.07112\n",
      "epoch: 01, loss: -0.09836\n",
      "epoch: 02, loss: -0.09940\n",
      "epoch: 03, loss: -0.10008\n",
      "epoch: 04, loss: -0.09926\n",
      "epoch: 05, loss: -0.10370\n",
      "epoch: 06, loss: -0.10290\n",
      "epoch: 07, loss: -0.10457\n",
      "epoch: 08, loss: -0.10272\n",
      "epoch: 09, loss: -0.10215\n",
      "torch.Size([400, 64])\n"
     ]
    },
    {
     "name": "stderr",
     "output_type": "stream",
     "text": [
      "\r",
      "  6%|█████████▋                                                                                                                                                        | 60/1000 [24:38<7:12:39, 27.62s/it]"
     ]
    },
    {
     "name": "stdout",
     "output_type": "stream",
     "text": [
      "eigenvalues shape torch.Size([5]) eigenvectors shape torch.Size([5, 400])\n",
      "60 /home/phdcs2/Hard_Disk/Datasets/Deep-Spectral-Segmentation/data/object-segmentation/ECSSD/features/dino_vits16/0061.pth\n",
      "dict_keys(['k', 'indices', 'file', 'id', 'model_name', 'patch_size', 'shape'])\n",
      "0061\n",
      "Starting Training\n",
      "epoch: 00, loss: -0.03058\n",
      "epoch: 01, loss: -0.06708\n",
      "epoch: 02, loss: -0.07341\n",
      "epoch: 03, loss: -0.07223\n",
      "epoch: 04, loss: -0.07799\n",
      "epoch: 05, loss: -0.07443\n",
      "epoch: 06, loss: -0.07477\n",
      "epoch: 07, loss: -0.07853\n",
      "epoch: 08, loss: -0.07871\n",
      "epoch: 09, loss: -0.07615\n",
      "torch.Size([425, 64])\n"
     ]
    },
    {
     "name": "stderr",
     "output_type": "stream",
     "text": [
      "\r",
      "  6%|█████████▉                                                                                                                                                        | 61/1000 [25:07<7:15:47, 27.85s/it]"
     ]
    },
    {
     "name": "stdout",
     "output_type": "stream",
     "text": [
      "eigenvalues shape torch.Size([5]) eigenvectors shape torch.Size([5, 425])\n",
      "61 /home/phdcs2/Hard_Disk/Datasets/Deep-Spectral-Segmentation/data/object-segmentation/ECSSD/features/dino_vits16/0062.pth\n",
      "dict_keys(['k', 'indices', 'file', 'id', 'model_name', 'patch_size', 'shape'])\n",
      "0062\n",
      "Starting Training\n",
      "epoch: 00, loss: -0.02272\n",
      "epoch: 01, loss: -0.05140\n",
      "epoch: 02, loss: -0.05894\n",
      "epoch: 03, loss: -0.05817\n",
      "epoch: 04, loss: -0.05945\n",
      "epoch: 05, loss: -0.05966\n",
      "epoch: 06, loss: -0.06024\n",
      "epoch: 07, loss: -0.06075\n",
      "epoch: 08, loss: -0.06320\n",
      "epoch: 09, loss: -0.06195\n",
      "torch.Size([425, 64])\n"
     ]
    },
    {
     "name": "stderr",
     "output_type": "stream",
     "text": [
      "\r",
      "  6%|██████████                                                                                                                                                        | 62/1000 [25:34<7:14:05, 27.77s/it]"
     ]
    },
    {
     "name": "stdout",
     "output_type": "stream",
     "text": [
      "eigenvalues shape torch.Size([5]) eigenvectors shape torch.Size([5, 425])\n",
      "62 /home/phdcs2/Hard_Disk/Datasets/Deep-Spectral-Segmentation/data/object-segmentation/ECSSD/features/dino_vits16/0063.pth\n",
      "dict_keys(['k', 'indices', 'file', 'id', 'model_name', 'patch_size', 'shape'])\n",
      "0063\n",
      "Starting Training\n",
      "epoch: 00, loss: -0.04557\n",
      "epoch: 01, loss: -0.06538\n",
      "epoch: 02, loss: -0.06658\n",
      "epoch: 03, loss: -0.06757\n",
      "epoch: 04, loss: -0.06740\n",
      "epoch: 05, loss: -0.06771\n",
      "epoch: 06, loss: -0.06775\n",
      "epoch: 07, loss: -0.06791\n",
      "epoch: 08, loss: -0.06800\n",
      "epoch: 09, loss: -0.06824\n",
      "torch.Size([400, 64])\n"
     ]
    },
    {
     "name": "stderr",
     "output_type": "stream",
     "text": [
      "\r",
      "  6%|██████████▏                                                                                                                                                       | 63/1000 [26:01<7:07:51, 27.40s/it]"
     ]
    },
    {
     "name": "stdout",
     "output_type": "stream",
     "text": [
      "eigenvalues shape torch.Size([5]) eigenvectors shape torch.Size([5, 400])\n",
      "63 /home/phdcs2/Hard_Disk/Datasets/Deep-Spectral-Segmentation/data/object-segmentation/ECSSD/features/dino_vits16/0064.pth\n",
      "dict_keys(['k', 'indices', 'file', 'id', 'model_name', 'patch_size', 'shape'])\n",
      "0064\n",
      "Starting Training\n",
      "epoch: 00, loss: -0.02886\n",
      "epoch: 01, loss: -0.05197\n",
      "epoch: 02, loss: -0.05382\n",
      "epoch: 03, loss: -0.05430\n",
      "epoch: 04, loss: -0.05452\n",
      "epoch: 05, loss: -0.05455\n",
      "epoch: 06, loss: -0.05490\n",
      "epoch: 07, loss: -0.05506\n",
      "epoch: 08, loss: -0.05513\n",
      "epoch: 09, loss: -0.05521\n",
      "torch.Size([400, 64])\n"
     ]
    },
    {
     "name": "stderr",
     "output_type": "stream",
     "text": [
      "\r",
      "  6%|██████████▎                                                                                                                                                       | 64/1000 [26:23<6:42:55, 25.83s/it]"
     ]
    },
    {
     "name": "stdout",
     "output_type": "stream",
     "text": [
      "eigenvalues shape torch.Size([5]) eigenvectors shape torch.Size([5, 400])\n",
      "64 /home/phdcs2/Hard_Disk/Datasets/Deep-Spectral-Segmentation/data/object-segmentation/ECSSD/features/dino_vits16/0065.pth\n",
      "dict_keys(['k', 'indices', 'file', 'id', 'model_name', 'patch_size', 'shape'])\n",
      "0065\n",
      "Starting Training\n",
      "epoch: 00, loss: -0.00740\n",
      "epoch: 01, loss: -0.02410\n",
      "epoch: 02, loss: -0.02665\n",
      "epoch: 03, loss: -0.02756\n",
      "epoch: 04, loss: -0.02790\n",
      "epoch: 05, loss: -0.02836\n",
      "epoch: 06, loss: -0.02837\n",
      "epoch: 07, loss: -0.02849\n",
      "epoch: 08, loss: -0.02881\n",
      "epoch: 09, loss: -0.02893\n",
      "torch.Size([450, 64])\n"
     ]
    },
    {
     "name": "stderr",
     "output_type": "stream",
     "text": [
      "\r",
      "  6%|██████████▌                                                                                                                                                       | 65/1000 [26:54<7:05:50, 27.33s/it]"
     ]
    },
    {
     "name": "stdout",
     "output_type": "stream",
     "text": [
      "eigenvalues shape torch.Size([5]) eigenvectors shape torch.Size([5, 450])\n",
      "65 /home/phdcs2/Hard_Disk/Datasets/Deep-Spectral-Segmentation/data/object-segmentation/ECSSD/features/dino_vits16/0066.pth\n",
      "dict_keys(['k', 'indices', 'file', 'id', 'model_name', 'patch_size', 'shape'])\n",
      "0066\n",
      "Starting Training\n",
      "epoch: 00, loss: -0.03221\n",
      "epoch: 01, loss: -0.05011\n",
      "epoch: 02, loss: -0.05133\n",
      "epoch: 03, loss: -0.05192\n",
      "epoch: 04, loss: -0.05242\n",
      "epoch: 05, loss: -0.05250\n",
      "epoch: 06, loss: -0.05287\n",
      "epoch: 07, loss: -0.05289\n",
      "epoch: 08, loss: -0.05347\n",
      "epoch: 09, loss: -0.05311\n",
      "torch.Size([400, 64])\n"
     ]
    },
    {
     "name": "stderr",
     "output_type": "stream",
     "text": [
      "\r",
      "  7%|██████████▋                                                                                                                                                       | 66/1000 [27:17<6:49:06, 26.28s/it]"
     ]
    },
    {
     "name": "stdout",
     "output_type": "stream",
     "text": [
      "eigenvalues shape torch.Size([5]) eigenvectors shape torch.Size([5, 400])\n",
      "66 /home/phdcs2/Hard_Disk/Datasets/Deep-Spectral-Segmentation/data/object-segmentation/ECSSD/features/dino_vits16/0067.pth\n",
      "dict_keys(['k', 'indices', 'file', 'id', 'model_name', 'patch_size', 'shape'])\n",
      "0067\n",
      "Starting Training\n",
      "epoch: 00, loss: -0.07209\n",
      "epoch: 01, loss: -0.10790\n",
      "epoch: 02, loss: -0.11633\n",
      "epoch: 03, loss: -0.11159\n",
      "epoch: 04, loss: -0.11475\n",
      "epoch: 05, loss: -0.11531\n",
      "epoch: 06, loss: -0.11612\n",
      "epoch: 07, loss: -0.11770\n",
      "epoch: 08, loss: -0.11871\n",
      "epoch: 09, loss: -0.11811\n",
      "torch.Size([350, 64])\n"
     ]
    },
    {
     "name": "stderr",
     "output_type": "stream",
     "text": [
      "\r",
      "  7%|██████████▊                                                                                                                                                       | 67/1000 [27:38<6:21:53, 24.56s/it]"
     ]
    },
    {
     "name": "stdout",
     "output_type": "stream",
     "text": [
      "eigenvalues shape torch.Size([5]) eigenvectors shape torch.Size([5, 350])\n",
      "67 /home/phdcs2/Hard_Disk/Datasets/Deep-Spectral-Segmentation/data/object-segmentation/ECSSD/features/dino_vits16/0068.pth\n",
      "dict_keys(['k', 'indices', 'file', 'id', 'model_name', 'patch_size', 'shape'])\n",
      "0068\n",
      "Starting Training\n",
      "epoch: 00, loss: -0.02170\n",
      "epoch: 01, loss: -0.04580\n",
      "epoch: 02, loss: -0.04862\n",
      "epoch: 03, loss: -0.04834\n",
      "epoch: 04, loss: -0.05090\n",
      "epoch: 05, loss: -0.05144\n",
      "epoch: 06, loss: -0.04990\n",
      "epoch: 07, loss: -0.05485\n",
      "epoch: 08, loss: -0.05174\n",
      "epoch: 09, loss: -0.05255\n",
      "torch.Size([525, 64])\n"
     ]
    },
    {
     "name": "stderr",
     "output_type": "stream",
     "text": [
      "\r",
      "  7%|███████████                                                                                                                                                       | 68/1000 [28:22<7:54:18, 30.54s/it]"
     ]
    },
    {
     "name": "stdout",
     "output_type": "stream",
     "text": [
      "eigenvalues shape torch.Size([5]) eigenvectors shape torch.Size([5, 525])\n",
      "68 /home/phdcs2/Hard_Disk/Datasets/Deep-Spectral-Segmentation/data/object-segmentation/ECSSD/features/dino_vits16/0069.pth\n",
      "dict_keys(['k', 'indices', 'file', 'id', 'model_name', 'patch_size', 'shape'])\n",
      "0069\n",
      "Starting Training\n",
      "epoch: 00, loss: -0.06853\n",
      "epoch: 01, loss: -0.08330\n",
      "epoch: 02, loss: -0.08605\n",
      "epoch: 03, loss: -0.08504\n",
      "epoch: 04, loss: -0.08456\n",
      "epoch: 05, loss: -0.08574\n",
      "epoch: 06, loss: -0.08507\n",
      "epoch: 07, loss: -0.08617\n",
      "epoch: 08, loss: -0.08727\n",
      "epoch: 09, loss: -0.08555\n",
      "torch.Size([425, 64])\n"
     ]
    },
    {
     "name": "stderr",
     "output_type": "stream",
     "text": [
      "\r",
      "  7%|███████████▏                                                                                                                                                      | 69/1000 [28:47<7:25:53, 28.74s/it]"
     ]
    },
    {
     "name": "stdout",
     "output_type": "stream",
     "text": [
      "eigenvalues shape torch.Size([5]) eigenvectors shape torch.Size([5, 425])\n",
      "69 /home/phdcs2/Hard_Disk/Datasets/Deep-Spectral-Segmentation/data/object-segmentation/ECSSD/features/dino_vits16/0070.pth\n",
      "dict_keys(['k', 'indices', 'file', 'id', 'model_name', 'patch_size', 'shape'])\n",
      "0070\n",
      "Starting Training\n",
      "epoch: 00, loss: -0.03470\n",
      "epoch: 01, loss: -0.07023\n",
      "epoch: 02, loss: -0.07625\n",
      "epoch: 03, loss: -0.07680\n",
      "epoch: 04, loss: -0.07690\n",
      "epoch: 05, loss: -0.07647\n",
      "epoch: 06, loss: -0.07702\n",
      "epoch: 07, loss: -0.07887\n",
      "epoch: 08, loss: -0.07883\n",
      "epoch: 09, loss: -0.07914\n",
      "torch.Size([500, 64])\n"
     ]
    },
    {
     "name": "stderr",
     "output_type": "stream",
     "text": [
      "\r",
      "  7%|███████████▎                                                                                                                                                      | 70/1000 [29:15<7:24:03, 28.65s/it]"
     ]
    },
    {
     "name": "stdout",
     "output_type": "stream",
     "text": [
      "eigenvalues shape torch.Size([5]) eigenvectors shape torch.Size([5, 500])\n",
      "70 /home/phdcs2/Hard_Disk/Datasets/Deep-Spectral-Segmentation/data/object-segmentation/ECSSD/features/dino_vits16/0071.pth\n",
      "dict_keys(['k', 'indices', 'file', 'id', 'model_name', 'patch_size', 'shape'])\n",
      "0071\n",
      "Starting Training\n",
      "epoch: 00, loss: -0.08467\n",
      "epoch: 01, loss: -0.11640\n",
      "epoch: 02, loss: -0.11912\n",
      "epoch: 03, loss: -0.12221\n",
      "epoch: 04, loss: -0.12072\n",
      "epoch: 05, loss: -0.12327\n",
      "epoch: 06, loss: -0.12315\n",
      "epoch: 07, loss: -0.12308\n",
      "epoch: 08, loss: -0.12346\n",
      "epoch: 09, loss: -0.12307\n",
      "torch.Size([450, 64])\n"
     ]
    },
    {
     "name": "stderr",
     "output_type": "stream",
     "text": [
      "\r",
      "  7%|███████████▌                                                                                                                                                      | 71/1000 [29:37<6:48:49, 26.40s/it]"
     ]
    },
    {
     "name": "stdout",
     "output_type": "stream",
     "text": [
      "eigenvalues shape torch.Size([5]) eigenvectors shape torch.Size([5, 450])\n",
      "71 /home/phdcs2/Hard_Disk/Datasets/Deep-Spectral-Segmentation/data/object-segmentation/ECSSD/features/dino_vits16/0072.pth\n",
      "dict_keys(['k', 'indices', 'file', 'id', 'model_name', 'patch_size', 'shape'])\n",
      "0072\n",
      "Starting Training\n",
      "epoch: 00, loss: -0.05248\n",
      "epoch: 01, loss: -0.07240\n",
      "epoch: 02, loss: -0.07643\n",
      "epoch: 03, loss: -0.07641\n",
      "epoch: 04, loss: -0.07679\n",
      "epoch: 05, loss: -0.07731\n",
      "epoch: 06, loss: -0.07921\n",
      "epoch: 07, loss: -0.08065\n",
      "epoch: 08, loss: -0.07850\n",
      "epoch: 09, loss: -0.07983\n",
      "torch.Size([400, 64])\n"
     ]
    },
    {
     "name": "stderr",
     "output_type": "stream",
     "text": [
      "\r",
      "  7%|███████████▋                                                                                                                                                      | 72/1000 [30:00<6:32:12, 25.36s/it]"
     ]
    },
    {
     "name": "stdout",
     "output_type": "stream",
     "text": [
      "eigenvalues shape torch.Size([5]) eigenvectors shape torch.Size([5, 400])\n",
      "72 /home/phdcs2/Hard_Disk/Datasets/Deep-Spectral-Segmentation/data/object-segmentation/ECSSD/features/dino_vits16/0073.pth\n",
      "dict_keys(['k', 'indices', 'file', 'id', 'model_name', 'patch_size', 'shape'])\n",
      "0073\n",
      "Starting Training\n",
      "epoch: 00, loss: -0.03891\n",
      "epoch: 01, loss: -0.05309\n",
      "epoch: 02, loss: -0.05413\n",
      "epoch: 03, loss: -0.05491\n",
      "epoch: 04, loss: -0.05539\n",
      "epoch: 05, loss: -0.05539\n",
      "epoch: 06, loss: -0.05567\n",
      "epoch: 07, loss: -0.05587\n",
      "epoch: 08, loss: -0.05595\n",
      "epoch: 09, loss: -0.05600\n",
      "torch.Size([450, 64])\n"
     ]
    },
    {
     "name": "stderr",
     "output_type": "stream",
     "text": [
      "\r",
      "  7%|███████████▊                                                                                                                                                      | 73/1000 [30:25<6:30:44, 25.29s/it]"
     ]
    },
    {
     "name": "stdout",
     "output_type": "stream",
     "text": [
      "eigenvalues shape torch.Size([5]) eigenvectors shape torch.Size([5, 450])\n",
      "73 /home/phdcs2/Hard_Disk/Datasets/Deep-Spectral-Segmentation/data/object-segmentation/ECSSD/features/dino_vits16/0074.pth\n",
      "dict_keys(['k', 'indices', 'file', 'id', 'model_name', 'patch_size', 'shape'])\n",
      "0074\n",
      "Starting Training\n",
      "epoch: 00, loss: -0.00440\n",
      "epoch: 01, loss: -0.01936\n",
      "epoch: 02, loss: -0.02337\n",
      "epoch: 03, loss: -0.02499\n",
      "epoch: 04, loss: -0.02567\n",
      "epoch: 05, loss: -0.02603\n",
      "epoch: 06, loss: -0.02616\n",
      "epoch: 07, loss: -0.02644\n",
      "epoch: 08, loss: -0.02640\n",
      "epoch: 09, loss: -0.02659\n",
      "torch.Size([450, 64])\n"
     ]
    },
    {
     "name": "stderr",
     "output_type": "stream",
     "text": [
      "\r",
      "  7%|███████████▉                                                                                                                                                      | 74/1000 [30:51<6:33:52, 25.52s/it]"
     ]
    },
    {
     "name": "stdout",
     "output_type": "stream",
     "text": [
      "eigenvalues shape torch.Size([5]) eigenvectors shape torch.Size([5, 450])\n",
      "74 /home/phdcs2/Hard_Disk/Datasets/Deep-Spectral-Segmentation/data/object-segmentation/ECSSD/features/dino_vits16/0075.pth\n",
      "dict_keys(['k', 'indices', 'file', 'id', 'model_name', 'patch_size', 'shape'])\n",
      "0075\n",
      "Starting Training\n",
      "epoch: 00, loss: -0.05976\n",
      "epoch: 01, loss: -0.09137\n",
      "epoch: 02, loss: -0.09699\n",
      "epoch: 03, loss: -0.09761\n",
      "epoch: 04, loss: -0.09887\n",
      "epoch: 05, loss: -0.09737\n",
      "epoch: 06, loss: -0.10124\n",
      "epoch: 07, loss: -0.09945\n",
      "epoch: 08, loss: -0.10051\n",
      "epoch: 09, loss: -0.10009\n",
      "torch.Size([450, 64])\n"
     ]
    },
    {
     "name": "stderr",
     "output_type": "stream",
     "text": [
      "\r",
      "  8%|████████████▏                                                                                                                                                     | 75/1000 [31:17<6:34:54, 25.62s/it]"
     ]
    },
    {
     "name": "stdout",
     "output_type": "stream",
     "text": [
      "eigenvalues shape torch.Size([5]) eigenvectors shape torch.Size([5, 450])\n",
      "75 /home/phdcs2/Hard_Disk/Datasets/Deep-Spectral-Segmentation/data/object-segmentation/ECSSD/features/dino_vits16/0076.pth\n",
      "dict_keys(['k', 'indices', 'file', 'id', 'model_name', 'patch_size', 'shape'])\n",
      "0076\n",
      "Starting Training\n",
      "epoch: 00, loss: -0.05540\n",
      "epoch: 01, loss: -0.07354\n",
      "epoch: 02, loss: -0.07472\n",
      "epoch: 03, loss: -0.07527\n",
      "epoch: 04, loss: -0.07559\n",
      "epoch: 05, loss: -0.07579\n",
      "epoch: 06, loss: -0.07613\n",
      "epoch: 07, loss: -0.07624\n",
      "epoch: 08, loss: -0.07678\n",
      "epoch: 09, loss: -0.07673\n",
      "torch.Size([400, 64])\n"
     ]
    },
    {
     "name": "stderr",
     "output_type": "stream",
     "text": [
      "\r",
      "  8%|████████████▎                                                                                                                                                     | 76/1000 [31:38<6:17:02, 24.48s/it]"
     ]
    },
    {
     "name": "stdout",
     "output_type": "stream",
     "text": [
      "eigenvalues shape torch.Size([5]) eigenvectors shape torch.Size([5, 400])\n",
      "76 /home/phdcs2/Hard_Disk/Datasets/Deep-Spectral-Segmentation/data/object-segmentation/ECSSD/features/dino_vits16/0077.pth\n",
      "dict_keys(['k', 'indices', 'file', 'id', 'model_name', 'patch_size', 'shape'])\n",
      "0077\n",
      "Starting Training\n",
      "epoch: 00, loss: -0.05071\n",
      "epoch: 01, loss: -0.07320\n",
      "epoch: 02, loss: -0.07405\n",
      "epoch: 03, loss: -0.07515\n",
      "epoch: 04, loss: -0.07481\n",
      "epoch: 05, loss: -0.07535\n",
      "epoch: 06, loss: -0.07565\n",
      "epoch: 07, loss: -0.07588\n",
      "epoch: 08, loss: -0.07558\n",
      "epoch: 09, loss: -0.07586\n",
      "torch.Size([450, 64])\n"
     ]
    },
    {
     "name": "stderr",
     "output_type": "stream",
     "text": [
      "\r",
      "  8%|████████████▍                                                                                                                                                     | 77/1000 [32:07<6:34:00, 25.61s/it]"
     ]
    },
    {
     "name": "stdout",
     "output_type": "stream",
     "text": [
      "eigenvalues shape torch.Size([5]) eigenvectors shape torch.Size([5, 450])\n",
      "77 /home/phdcs2/Hard_Disk/Datasets/Deep-Spectral-Segmentation/data/object-segmentation/ECSSD/features/dino_vits16/0078.pth\n",
      "dict_keys(['k', 'indices', 'file', 'id', 'model_name', 'patch_size', 'shape'])\n",
      "0078\n",
      "Starting Training\n",
      "epoch: 00, loss: -0.03400\n",
      "epoch: 01, loss: -0.06340\n",
      "epoch: 02, loss: -0.06495\n",
      "epoch: 03, loss: -0.06601\n",
      "epoch: 04, loss: -0.06679\n",
      "epoch: 05, loss: -0.06650\n",
      "epoch: 06, loss: -0.06767\n",
      "epoch: 07, loss: -0.06687\n",
      "epoch: 08, loss: -0.06738\n",
      "epoch: 09, loss: -0.06683\n",
      "torch.Size([400, 64])\n"
     ]
    },
    {
     "name": "stderr",
     "output_type": "stream",
     "text": [
      "\r",
      "  8%|████████████▋                                                                                                                                                     | 78/1000 [32:29<6:16:22, 24.49s/it]"
     ]
    },
    {
     "name": "stdout",
     "output_type": "stream",
     "text": [
      "eigenvalues shape torch.Size([5]) eigenvectors shape torch.Size([5, 400])\n",
      "78 /home/phdcs2/Hard_Disk/Datasets/Deep-Spectral-Segmentation/data/object-segmentation/ECSSD/features/dino_vits16/0079.pth\n",
      "dict_keys(['k', 'indices', 'file', 'id', 'model_name', 'patch_size', 'shape'])\n",
      "0079\n",
      "Starting Training\n",
      "epoch: 00, loss: -0.04980\n",
      "epoch: 01, loss: -0.06603\n",
      "epoch: 02, loss: -0.06778\n",
      "epoch: 03, loss: -0.06738\n",
      "epoch: 04, loss: -0.06858\n",
      "epoch: 05, loss: -0.06836\n",
      "epoch: 06, loss: -0.06820\n",
      "epoch: 07, loss: -0.06829\n",
      "epoch: 08, loss: -0.06834\n",
      "epoch: 09, loss: -0.06930\n",
      "torch.Size([525, 64])\n"
     ]
    },
    {
     "name": "stderr",
     "output_type": "stream",
     "text": [
      "\r",
      "  8%|████████████▊                                                                                                                                                     | 79/1000 [33:11<7:39:58, 29.97s/it]"
     ]
    },
    {
     "name": "stdout",
     "output_type": "stream",
     "text": [
      "eigenvalues shape torch.Size([5]) eigenvectors shape torch.Size([5, 525])\n",
      "79 /home/phdcs2/Hard_Disk/Datasets/Deep-Spectral-Segmentation/data/object-segmentation/ECSSD/features/dino_vits16/0080.pth\n",
      "dict_keys(['k', 'indices', 'file', 'id', 'model_name', 'patch_size', 'shape'])\n",
      "0080\n",
      "Starting Training\n",
      "epoch: 00, loss: -0.02116\n",
      "epoch: 01, loss: -0.04640\n",
      "epoch: 02, loss: -0.05338\n",
      "epoch: 03, loss: -0.05460\n",
      "epoch: 04, loss: -0.05515\n",
      "epoch: 05, loss: -0.05665\n",
      "epoch: 06, loss: -0.05635\n",
      "epoch: 07, loss: -0.05526\n",
      "epoch: 08, loss: -0.05774\n",
      "epoch: 09, loss: -0.05765\n",
      "torch.Size([450, 64])\n"
     ]
    },
    {
     "name": "stderr",
     "output_type": "stream",
     "text": [
      "\r",
      "  8%|████████████▉                                                                                                                                                     | 80/1000 [33:37<7:21:43, 28.81s/it]"
     ]
    },
    {
     "name": "stdout",
     "output_type": "stream",
     "text": [
      "eigenvalues shape torch.Size([5]) eigenvectors shape torch.Size([5, 450])\n",
      "80 /home/phdcs2/Hard_Disk/Datasets/Deep-Spectral-Segmentation/data/object-segmentation/ECSSD/features/dino_vits16/0081.pth\n",
      "dict_keys(['k', 'indices', 'file', 'id', 'model_name', 'patch_size', 'shape'])\n",
      "0081\n",
      "Starting Training\n",
      "epoch: 00, loss: -0.10851\n",
      "epoch: 01, loss: -0.14630\n",
      "epoch: 02, loss: -0.14829\n",
      "epoch: 03, loss: -0.15091\n",
      "epoch: 04, loss: -0.14986\n",
      "epoch: 05, loss: -0.15813\n",
      "epoch: 06, loss: -0.14843\n",
      "epoch: 07, loss: -0.15567\n",
      "epoch: 08, loss: -0.15469\n",
      "epoch: 09, loss: -0.15591\n",
      "torch.Size([450, 64])\n"
     ]
    },
    {
     "name": "stderr",
     "output_type": "stream",
     "text": [
      "\r",
      "  8%|█████████████                                                                                                                                                     | 81/1000 [34:07<7:23:08, 28.93s/it]"
     ]
    },
    {
     "name": "stdout",
     "output_type": "stream",
     "text": [
      "eigenvalues shape torch.Size([5]) eigenvectors shape torch.Size([5, 450])\n",
      "81 /home/phdcs2/Hard_Disk/Datasets/Deep-Spectral-Segmentation/data/object-segmentation/ECSSD/features/dino_vits16/0082.pth\n",
      "dict_keys(['k', 'indices', 'file', 'id', 'model_name', 'patch_size', 'shape'])\n",
      "0082\n",
      "Starting Training\n",
      "epoch: 00, loss: -0.06424\n",
      "epoch: 01, loss: -0.09009\n",
      "epoch: 02, loss: -0.09729\n",
      "epoch: 03, loss: -0.10109\n",
      "epoch: 04, loss: -0.09961\n",
      "epoch: 05, loss: -0.10103\n",
      "epoch: 06, loss: -0.10270\n",
      "epoch: 07, loss: -0.10358\n",
      "epoch: 08, loss: -0.10038\n",
      "epoch: 09, loss: -0.10052\n",
      "torch.Size([450, 64])\n"
     ]
    },
    {
     "name": "stderr",
     "output_type": "stream",
     "text": [
      "\r",
      "  8%|█████████████▎                                                                                                                                                    | 82/1000 [34:37<7:30:27, 29.44s/it]"
     ]
    },
    {
     "name": "stdout",
     "output_type": "stream",
     "text": [
      "eigenvalues shape torch.Size([5]) eigenvectors shape torch.Size([5, 450])\n",
      "82 /home/phdcs2/Hard_Disk/Datasets/Deep-Spectral-Segmentation/data/object-segmentation/ECSSD/features/dino_vits16/0083.pth\n",
      "dict_keys(['k', 'indices', 'file', 'id', 'model_name', 'patch_size', 'shape'])\n",
      "0083\n",
      "Starting Training\n",
      "epoch: 00, loss: -0.03220\n",
      "epoch: 01, loss: -0.06478\n",
      "epoch: 02, loss: -0.06622\n",
      "epoch: 03, loss: -0.07033\n",
      "epoch: 04, loss: -0.07192\n",
      "epoch: 05, loss: -0.07189\n",
      "epoch: 06, loss: -0.07156\n",
      "epoch: 07, loss: -0.07396\n",
      "epoch: 08, loss: -0.07602\n",
      "epoch: 09, loss: -0.07705\n",
      "torch.Size([450, 64])\n"
     ]
    },
    {
     "name": "stderr",
     "output_type": "stream",
     "text": [
      "\r",
      "  8%|█████████████▍                                                                                                                                                    | 83/1000 [35:02<7:08:08, 28.01s/it]"
     ]
    },
    {
     "name": "stdout",
     "output_type": "stream",
     "text": [
      "eigenvalues shape torch.Size([5]) eigenvectors shape torch.Size([5, 450])\n",
      "83 /home/phdcs2/Hard_Disk/Datasets/Deep-Spectral-Segmentation/data/object-segmentation/ECSSD/features/dino_vits16/0084.pth\n",
      "dict_keys(['k', 'indices', 'file', 'id', 'model_name', 'patch_size', 'shape'])\n",
      "0084\n",
      "Starting Training\n",
      "epoch: 00, loss: -0.02531\n",
      "epoch: 01, loss: -0.04081\n",
      "epoch: 02, loss: -0.04313\n",
      "epoch: 03, loss: -0.04361\n",
      "epoch: 04, loss: -0.04406\n",
      "epoch: 05, loss: -0.04426\n",
      "epoch: 06, loss: -0.04460\n",
      "epoch: 07, loss: -0.04447\n",
      "epoch: 08, loss: -0.04467\n",
      "epoch: 09, loss: -0.04482\n",
      "torch.Size([450, 64])\n"
     ]
    },
    {
     "name": "stderr",
     "output_type": "stream",
     "text": [
      "\r",
      "  8%|█████████████▌                                                                                                                                                    | 84/1000 [35:25<6:46:59, 26.66s/it]"
     ]
    },
    {
     "name": "stdout",
     "output_type": "stream",
     "text": [
      "eigenvalues shape torch.Size([5]) eigenvectors shape torch.Size([5, 450])\n",
      "84 /home/phdcs2/Hard_Disk/Datasets/Deep-Spectral-Segmentation/data/object-segmentation/ECSSD/features/dino_vits16/0085.pth\n",
      "dict_keys(['k', 'indices', 'file', 'id', 'model_name', 'patch_size', 'shape'])\n",
      "0085\n",
      "Starting Training\n",
      "epoch: 00, loss: -0.00694\n",
      "epoch: 01, loss: -0.02710\n",
      "epoch: 02, loss: -0.03086\n",
      "epoch: 03, loss: -0.03248\n",
      "epoch: 04, loss: -0.03267\n",
      "epoch: 05, loss: -0.03300\n",
      "epoch: 06, loss: -0.03324\n",
      "epoch: 07, loss: -0.03347\n",
      "epoch: 08, loss: -0.03362\n",
      "epoch: 09, loss: -0.03373\n",
      "torch.Size([450, 64])\n"
     ]
    },
    {
     "name": "stderr",
     "output_type": "stream",
     "text": [
      "\r",
      "  8%|█████████████▊                                                                                                                                                    | 85/1000 [35:48<6:28:00, 25.44s/it]"
     ]
    },
    {
     "name": "stdout",
     "output_type": "stream",
     "text": [
      "eigenvalues shape torch.Size([5]) eigenvectors shape torch.Size([5, 450])\n",
      "85 /home/phdcs2/Hard_Disk/Datasets/Deep-Spectral-Segmentation/data/object-segmentation/ECSSD/features/dino_vits16/0086.pth\n",
      "dict_keys(['k', 'indices', 'file', 'id', 'model_name', 'patch_size', 'shape'])\n",
      "0086\n",
      "Starting Training\n",
      "epoch: 00, loss: 0.00985\n",
      "epoch: 01, loss: -0.00484\n",
      "epoch: 02, loss: -0.01061\n",
      "epoch: 03, loss: -0.01134\n",
      "epoch: 04, loss: -0.01153\n",
      "epoch: 05, loss: -0.01614\n",
      "epoch: 06, loss: -0.01476\n",
      "epoch: 07, loss: -0.01657\n",
      "epoch: 08, loss: -0.01712\n",
      "epoch: 09, loss: -0.01884\n",
      "torch.Size([450, 64])\n"
     ]
    },
    {
     "name": "stderr",
     "output_type": "stream",
     "text": [
      "\r",
      "  9%|█████████████▉                                                                                                                                                    | 86/1000 [36:12<6:22:44, 25.13s/it]"
     ]
    },
    {
     "name": "stdout",
     "output_type": "stream",
     "text": [
      "eigenvalues shape torch.Size([5]) eigenvectors shape torch.Size([5, 450])\n",
      "86 /home/phdcs2/Hard_Disk/Datasets/Deep-Spectral-Segmentation/data/object-segmentation/ECSSD/features/dino_vits16/0087.pth\n",
      "dict_keys(['k', 'indices', 'file', 'id', 'model_name', 'patch_size', 'shape'])\n",
      "0087\n",
      "Starting Training\n",
      "epoch: 00, loss: -0.06935\n",
      "epoch: 01, loss: -0.09948\n",
      "epoch: 02, loss: -0.10233\n",
      "epoch: 03, loss: -0.10158\n",
      "epoch: 04, loss: -0.10580\n",
      "epoch: 05, loss: -0.10502\n",
      "epoch: 06, loss: -0.10400\n",
      "epoch: 07, loss: -0.10513\n",
      "epoch: 08, loss: -0.10620\n",
      "epoch: 09, loss: -0.10516\n",
      "torch.Size([450, 64])\n"
     ]
    },
    {
     "name": "stderr",
     "output_type": "stream",
     "text": [
      "\r",
      "  9%|██████████████                                                                                                                                                    | 87/1000 [36:36<6:15:15, 24.66s/it]"
     ]
    },
    {
     "name": "stdout",
     "output_type": "stream",
     "text": [
      "eigenvalues shape torch.Size([5]) eigenvectors shape torch.Size([5, 450])\n",
      "87 /home/phdcs2/Hard_Disk/Datasets/Deep-Spectral-Segmentation/data/object-segmentation/ECSSD/features/dino_vits16/0088.pth\n",
      "dict_keys(['k', 'indices', 'file', 'id', 'model_name', 'patch_size', 'shape'])\n",
      "0088\n",
      "Starting Training\n",
      "epoch: 00, loss: -0.01584\n",
      "epoch: 01, loss: -0.03811\n",
      "epoch: 02, loss: -0.04447\n",
      "epoch: 03, loss: -0.04451\n",
      "epoch: 04, loss: -0.05006\n",
      "epoch: 05, loss: -0.04948\n",
      "epoch: 06, loss: -0.04986\n",
      "epoch: 07, loss: -0.05164\n",
      "epoch: 08, loss: -0.05221\n",
      "epoch: 09, loss: -0.05208\n",
      "torch.Size([450, 64])\n"
     ]
    },
    {
     "name": "stderr",
     "output_type": "stream",
     "text": [
      "\r",
      "  9%|██████████████▎                                                                                                                                                   | 88/1000 [37:01<6:17:36, 24.84s/it]"
     ]
    },
    {
     "name": "stdout",
     "output_type": "stream",
     "text": [
      "eigenvalues shape torch.Size([5]) eigenvectors shape torch.Size([5, 450])\n",
      "88 /home/phdcs2/Hard_Disk/Datasets/Deep-Spectral-Segmentation/data/object-segmentation/ECSSD/features/dino_vits16/0089.pth\n",
      "dict_keys(['k', 'indices', 'file', 'id', 'model_name', 'patch_size', 'shape'])\n",
      "0089\n",
      "Starting Training\n",
      "epoch: 00, loss: -0.04510\n",
      "epoch: 01, loss: -0.07604\n",
      "epoch: 02, loss: -0.07715\n",
      "epoch: 03, loss: -0.07949\n",
      "epoch: 04, loss: -0.07993\n",
      "epoch: 05, loss: -0.07782\n",
      "epoch: 06, loss: -0.08123\n",
      "epoch: 07, loss: -0.08022\n",
      "epoch: 08, loss: -0.07874\n",
      "epoch: 09, loss: -0.07943\n",
      "torch.Size([400, 64])\n"
     ]
    },
    {
     "name": "stderr",
     "output_type": "stream",
     "text": [
      "\r",
      "  9%|██████████████▍                                                                                                                                                   | 89/1000 [37:24<6:05:38, 24.08s/it]"
     ]
    },
    {
     "name": "stdout",
     "output_type": "stream",
     "text": [
      "eigenvalues shape torch.Size([5]) eigenvectors shape torch.Size([5, 400])\n",
      "89 /home/phdcs2/Hard_Disk/Datasets/Deep-Spectral-Segmentation/data/object-segmentation/ECSSD/features/dino_vits16/0090.pth\n",
      "dict_keys(['k', 'indices', 'file', 'id', 'model_name', 'patch_size', 'shape'])\n",
      "0090\n",
      "Starting Training\n",
      "epoch: 00, loss: -0.02034\n",
      "epoch: 01, loss: -0.03662\n",
      "epoch: 02, loss: -0.03993\n",
      "epoch: 03, loss: -0.04047\n",
      "epoch: 04, loss: -0.04119\n",
      "epoch: 05, loss: -0.04116\n",
      "epoch: 06, loss: -0.04146\n",
      "epoch: 07, loss: -0.04159\n",
      "epoch: 08, loss: -0.04172\n",
      "epoch: 09, loss: -0.04187\n",
      "torch.Size([400, 64])\n"
     ]
    },
    {
     "name": "stderr",
     "output_type": "stream",
     "text": [
      "\r",
      "  9%|██████████████▌                                                                                                                                                   | 90/1000 [37:44<5:49:35, 23.05s/it]"
     ]
    },
    {
     "name": "stdout",
     "output_type": "stream",
     "text": [
      "eigenvalues shape torch.Size([5]) eigenvectors shape torch.Size([5, 400])\n",
      "90 /home/phdcs2/Hard_Disk/Datasets/Deep-Spectral-Segmentation/data/object-segmentation/ECSSD/features/dino_vits16/0091.pth\n",
      "dict_keys(['k', 'indices', 'file', 'id', 'model_name', 'patch_size', 'shape'])\n",
      "0091\n",
      "Starting Training\n",
      "epoch: 00, loss: -0.00987\n",
      "epoch: 01, loss: -0.03103\n",
      "epoch: 02, loss: -0.03480\n",
      "epoch: 03, loss: -0.03621\n",
      "epoch: 04, loss: -0.03656\n",
      "epoch: 05, loss: -0.03683\n",
      "epoch: 06, loss: -0.03701\n",
      "epoch: 07, loss: -0.03724\n",
      "epoch: 08, loss: -0.03742\n",
      "epoch: 09, loss: -0.03749\n",
      "torch.Size([400, 64])\n"
     ]
    },
    {
     "name": "stderr",
     "output_type": "stream",
     "text": [
      "\r",
      "  9%|██████████████▋                                                                                                                                                   | 91/1000 [38:08<5:51:35, 23.21s/it]"
     ]
    },
    {
     "name": "stdout",
     "output_type": "stream",
     "text": [
      "eigenvalues shape torch.Size([5]) eigenvectors shape torch.Size([5, 400])\n",
      "91 /home/phdcs2/Hard_Disk/Datasets/Deep-Spectral-Segmentation/data/object-segmentation/ECSSD/features/dino_vits16/0092.pth\n",
      "dict_keys(['k', 'indices', 'file', 'id', 'model_name', 'patch_size', 'shape'])\n",
      "0092\n",
      "Starting Training\n",
      "epoch: 00, loss: -0.05427\n",
      "epoch: 01, loss: -0.08368\n",
      "epoch: 02, loss: -0.08364\n",
      "epoch: 03, loss: -0.08958\n",
      "epoch: 04, loss: -0.09296\n",
      "epoch: 05, loss: -0.09454\n",
      "epoch: 06, loss: -0.09274\n",
      "epoch: 07, loss: -0.09498\n",
      "epoch: 08, loss: -0.09296\n",
      "epoch: 09, loss: -0.09636\n",
      "torch.Size([400, 64])\n"
     ]
    },
    {
     "name": "stderr",
     "output_type": "stream",
     "text": [
      "\r",
      "  9%|██████████████▉                                                                                                                                                   | 92/1000 [38:36<6:12:52, 24.64s/it]"
     ]
    },
    {
     "name": "stdout",
     "output_type": "stream",
     "text": [
      "eigenvalues shape torch.Size([5]) eigenvectors shape torch.Size([5, 400])\n",
      "92 /home/phdcs2/Hard_Disk/Datasets/Deep-Spectral-Segmentation/data/object-segmentation/ECSSD/features/dino_vits16/0093.pth\n",
      "dict_keys(['k', 'indices', 'file', 'id', 'model_name', 'patch_size', 'shape'])\n",
      "0093\n",
      "Starting Training\n",
      "epoch: 00, loss: -0.02932\n",
      "epoch: 01, loss: -0.04486\n",
      "epoch: 02, loss: -0.04632\n",
      "epoch: 03, loss: -0.04703\n",
      "epoch: 04, loss: -0.04743\n",
      "epoch: 05, loss: -0.04762\n",
      "epoch: 06, loss: -0.04774\n",
      "epoch: 07, loss: -0.04776\n",
      "epoch: 08, loss: -0.04804\n",
      "epoch: 09, loss: -0.04821\n",
      "torch.Size([400, 64])\n"
     ]
    },
    {
     "name": "stderr",
     "output_type": "stream",
     "text": [
      "\r",
      "  9%|███████████████                                                                                                                                                   | 93/1000 [39:00<6:12:25, 24.64s/it]"
     ]
    },
    {
     "name": "stdout",
     "output_type": "stream",
     "text": [
      "eigenvalues shape torch.Size([5]) eigenvectors shape torch.Size([5, 400])\n",
      "93 /home/phdcs2/Hard_Disk/Datasets/Deep-Spectral-Segmentation/data/object-segmentation/ECSSD/features/dino_vits16/0094.pth\n",
      "dict_keys(['k', 'indices', 'file', 'id', 'model_name', 'patch_size', 'shape'])\n",
      "0094\n",
      "Starting Training\n",
      "epoch: 00, loss: -0.01690\n",
      "epoch: 01, loss: -0.04559\n",
      "epoch: 02, loss: -0.05116\n",
      "epoch: 03, loss: -0.05290\n",
      "epoch: 04, loss: -0.05248\n",
      "epoch: 05, loss: -0.05386\n",
      "epoch: 06, loss: -0.05341\n",
      "epoch: 07, loss: -0.05378\n",
      "epoch: 08, loss: -0.05429\n",
      "epoch: 09, loss: -0.05380\n",
      "torch.Size([400, 64])\n"
     ]
    },
    {
     "name": "stderr",
     "output_type": "stream",
     "text": [
      "\r",
      "  9%|███████████████▏                                                                                                                                                  | 94/1000 [39:26<6:14:31, 24.80s/it]"
     ]
    },
    {
     "name": "stdout",
     "output_type": "stream",
     "text": [
      "eigenvalues shape torch.Size([5]) eigenvectors shape torch.Size([5, 400])\n",
      "94 /home/phdcs2/Hard_Disk/Datasets/Deep-Spectral-Segmentation/data/object-segmentation/ECSSD/features/dino_vits16/0095.pth\n",
      "dict_keys(['k', 'indices', 'file', 'id', 'model_name', 'patch_size', 'shape'])\n",
      "0095\n",
      "Starting Training\n",
      "epoch: 00, loss: -0.03694\n",
      "epoch: 01, loss: -0.06004\n",
      "epoch: 02, loss: -0.06611\n",
      "epoch: 03, loss: -0.06990\n",
      "epoch: 04, loss: -0.06787\n",
      "epoch: 05, loss: -0.07232\n",
      "epoch: 06, loss: -0.07307\n",
      "epoch: 07, loss: -0.07221\n",
      "epoch: 08, loss: -0.07203\n",
      "epoch: 09, loss: -0.07255\n",
      "torch.Size([400, 64])\n"
     ]
    },
    {
     "name": "stderr",
     "output_type": "stream",
     "text": [
      "\r",
      " 10%|███████████████▍                                                                                                                                                  | 95/1000 [39:49<6:08:27, 24.43s/it]"
     ]
    },
    {
     "name": "stdout",
     "output_type": "stream",
     "text": [
      "eigenvalues shape torch.Size([5]) eigenvectors shape torch.Size([5, 400])\n",
      "95 /home/phdcs2/Hard_Disk/Datasets/Deep-Spectral-Segmentation/data/object-segmentation/ECSSD/features/dino_vits16/0096.pth\n",
      "dict_keys(['k', 'indices', 'file', 'id', 'model_name', 'patch_size', 'shape'])\n",
      "0096\n",
      "Starting Training\n",
      "epoch: 00, loss: -0.04393\n",
      "epoch: 01, loss: -0.07725\n",
      "epoch: 02, loss: -0.08384\n",
      "epoch: 03, loss: -0.08784\n",
      "epoch: 04, loss: -0.08715\n",
      "epoch: 05, loss: -0.08654\n",
      "epoch: 06, loss: -0.08895\n",
      "epoch: 07, loss: -0.08929\n",
      "epoch: 08, loss: -0.09099\n",
      "epoch: 09, loss: -0.08926\n",
      "torch.Size([400, 64])\n"
     ]
    },
    {
     "name": "stderr",
     "output_type": "stream",
     "text": [
      "\r",
      " 10%|███████████████▌                                                                                                                                                  | 96/1000 [40:13<6:04:56, 24.22s/it]"
     ]
    },
    {
     "name": "stdout",
     "output_type": "stream",
     "text": [
      "eigenvalues shape torch.Size([5]) eigenvectors shape torch.Size([5, 400])\n",
      "96 /home/phdcs2/Hard_Disk/Datasets/Deep-Spectral-Segmentation/data/object-segmentation/ECSSD/features/dino_vits16/0097.pth\n",
      "dict_keys(['k', 'indices', 'file', 'id', 'model_name', 'patch_size', 'shape'])\n",
      "0097\n",
      "Starting Training\n",
      "epoch: 00, loss: -0.01717\n",
      "epoch: 01, loss: -0.04436\n",
      "epoch: 02, loss: -0.04725\n",
      "epoch: 03, loss: -0.04788\n",
      "epoch: 04, loss: -0.04796\n",
      "epoch: 05, loss: -0.04829\n",
      "epoch: 06, loss: -0.04839\n",
      "epoch: 07, loss: -0.04861\n",
      "epoch: 08, loss: -0.04860\n",
      "epoch: 09, loss: -0.04876\n",
      "torch.Size([400, 64])\n"
     ]
    },
    {
     "name": "stderr",
     "output_type": "stream",
     "text": [
      "\r",
      " 10%|███████████████▋                                                                                                                                                  | 97/1000 [40:36<5:59:35, 23.89s/it]"
     ]
    },
    {
     "name": "stdout",
     "output_type": "stream",
     "text": [
      "eigenvalues shape torch.Size([5]) eigenvectors shape torch.Size([5, 400])\n",
      "97 /home/phdcs2/Hard_Disk/Datasets/Deep-Spectral-Segmentation/data/object-segmentation/ECSSD/features/dino_vits16/0098.pth\n",
      "dict_keys(['k', 'indices', 'file', 'id', 'model_name', 'patch_size', 'shape'])\n",
      "0098\n",
      "Starting Training\n",
      "epoch: 00, loss: 0.00001\n",
      "epoch: 01, loss: -0.01045\n",
      "epoch: 02, loss: -0.01442\n",
      "epoch: 03, loss: -0.01630\n",
      "epoch: 04, loss: -0.01734\n",
      "epoch: 05, loss: -0.01793\n",
      "epoch: 06, loss: -0.01818\n",
      "epoch: 07, loss: -0.01840\n",
      "epoch: 08, loss: -0.01867\n",
      "epoch: 09, loss: -0.01885\n",
      "torch.Size([400, 64])\n"
     ]
    },
    {
     "name": "stderr",
     "output_type": "stream",
     "text": [
      "\r",
      " 10%|███████████████▉                                                                                                                                                  | 98/1000 [40:58<5:49:50, 23.27s/it]"
     ]
    },
    {
     "name": "stdout",
     "output_type": "stream",
     "text": [
      "eigenvalues shape torch.Size([5]) eigenvectors shape torch.Size([5, 400])\n",
      "98 /home/phdcs2/Hard_Disk/Datasets/Deep-Spectral-Segmentation/data/object-segmentation/ECSSD/features/dino_vits16/0099.pth\n",
      "dict_keys(['k', 'indices', 'file', 'id', 'model_name', 'patch_size', 'shape'])\n",
      "0099\n",
      "Starting Training\n",
      "epoch: 00, loss: 0.00710\n",
      "epoch: 01, loss: -0.00014\n",
      "epoch: 02, loss: -0.00388\n",
      "epoch: 03, loss: -0.00593\n",
      "epoch: 04, loss: -0.00735\n",
      "epoch: 05, loss: -0.00826\n",
      "epoch: 06, loss: -0.00888\n",
      "epoch: 07, loss: -0.00948\n",
      "epoch: 08, loss: -0.00967\n",
      "epoch: 09, loss: -0.01008\n",
      "torch.Size([400, 64])\n"
     ]
    },
    {
     "name": "stderr",
     "output_type": "stream",
     "text": [
      "\r",
      " 10%|████████████████                                                                                                                                                  | 99/1000 [41:21<5:50:31, 23.34s/it]"
     ]
    },
    {
     "name": "stdout",
     "output_type": "stream",
     "text": [
      "eigenvalues shape torch.Size([5]) eigenvectors shape torch.Size([5, 400])\n",
      "99 /home/phdcs2/Hard_Disk/Datasets/Deep-Spectral-Segmentation/data/object-segmentation/ECSSD/features/dino_vits16/0100.pth\n",
      "dict_keys(['k', 'indices', 'file', 'id', 'model_name', 'patch_size', 'shape'])\n",
      "0100\n",
      "Starting Training\n",
      "epoch: 00, loss: -0.01770\n",
      "epoch: 01, loss: -0.04345\n",
      "epoch: 02, loss: -0.04769\n",
      "epoch: 03, loss: -0.04932\n",
      "epoch: 04, loss: -0.05078\n",
      "epoch: 05, loss: -0.05186\n",
      "epoch: 06, loss: -0.04944\n",
      "epoch: 07, loss: -0.05435\n",
      "epoch: 08, loss: -0.05260\n",
      "epoch: 09, loss: -0.05465\n",
      "torch.Size([400, 64])\n"
     ]
    },
    {
     "name": "stderr",
     "output_type": "stream",
     "text": [
      "\r",
      " 10%|████████████████                                                                                                                                                 | 100/1000 [41:42<5:37:32, 22.50s/it]"
     ]
    },
    {
     "name": "stdout",
     "output_type": "stream",
     "text": [
      "eigenvalues shape torch.Size([5]) eigenvectors shape torch.Size([5, 400])\n",
      "100 /home/phdcs2/Hard_Disk/Datasets/Deep-Spectral-Segmentation/data/object-segmentation/ECSSD/features/dino_vits16/0101.pth\n",
      "dict_keys(['k', 'indices', 'file', 'id', 'model_name', 'patch_size', 'shape'])\n",
      "0101\n",
      "Starting Training\n",
      "epoch: 00, loss: -0.03946\n",
      "epoch: 01, loss: -0.05927\n",
      "epoch: 02, loss: -0.06077\n",
      "epoch: 03, loss: -0.06105\n",
      "epoch: 04, loss: -0.06167\n",
      "epoch: 05, loss: -0.06169\n",
      "epoch: 06, loss: -0.06155\n",
      "epoch: 07, loss: -0.06203\n",
      "epoch: 08, loss: -0.06188\n",
      "epoch: 09, loss: -0.06238\n",
      "torch.Size([400, 64])\n"
     ]
    },
    {
     "name": "stderr",
     "output_type": "stream",
     "text": [
      "\r",
      " 10%|████████████████▎                                                                                                                                                | 101/1000 [42:07<5:47:16, 23.18s/it]"
     ]
    },
    {
     "name": "stdout",
     "output_type": "stream",
     "text": [
      "eigenvalues shape torch.Size([5]) eigenvectors shape torch.Size([5, 400])\n",
      "101 /home/phdcs2/Hard_Disk/Datasets/Deep-Spectral-Segmentation/data/object-segmentation/ECSSD/features/dino_vits16/0102.pth\n",
      "dict_keys(['k', 'indices', 'file', 'id', 'model_name', 'patch_size', 'shape'])\n",
      "0102\n",
      "Starting Training\n",
      "epoch: 00, loss: -0.01115\n",
      "epoch: 01, loss: -0.03821\n",
      "epoch: 02, loss: -0.04283\n",
      "epoch: 03, loss: -0.04390\n",
      "epoch: 04, loss: -0.04411\n",
      "epoch: 05, loss: -0.04446\n",
      "epoch: 06, loss: -0.04478\n",
      "epoch: 07, loss: -0.04490\n",
      "epoch: 08, loss: -0.04506\n",
      "epoch: 09, loss: -0.04515\n",
      "torch.Size([400, 64])\n"
     ]
    },
    {
     "name": "stderr",
     "output_type": "stream",
     "text": [
      "\r",
      " 10%|████████████████▍                                                                                                                                                | 102/1000 [42:31<5:52:15, 23.54s/it]"
     ]
    },
    {
     "name": "stdout",
     "output_type": "stream",
     "text": [
      "eigenvalues shape torch.Size([5]) eigenvectors shape torch.Size([5, 400])\n",
      "102 /home/phdcs2/Hard_Disk/Datasets/Deep-Spectral-Segmentation/data/object-segmentation/ECSSD/features/dino_vits16/0103.pth\n",
      "dict_keys(['k', 'indices', 'file', 'id', 'model_name', 'patch_size', 'shape'])\n",
      "0103\n",
      "Starting Training\n",
      "epoch: 00, loss: -0.06466\n",
      "epoch: 01, loss: -0.10273\n",
      "epoch: 02, loss: -0.10674\n",
      "epoch: 03, loss: -0.10770\n",
      "epoch: 04, loss: -0.11031\n",
      "epoch: 05, loss: -0.11333\n",
      "epoch: 06, loss: -0.11266\n",
      "epoch: 07, loss: -0.11559\n",
      "epoch: 08, loss: -0.11450\n",
      "epoch: 09, loss: -0.11472\n",
      "torch.Size([400, 64])\n"
     ]
    },
    {
     "name": "stderr",
     "output_type": "stream",
     "text": [
      "\r",
      " 10%|████████████████▌                                                                                                                                                | 103/1000 [42:55<5:54:08, 23.69s/it]"
     ]
    },
    {
     "name": "stdout",
     "output_type": "stream",
     "text": [
      "eigenvalues shape torch.Size([5]) eigenvectors shape torch.Size([5, 400])\n",
      "103 /home/phdcs2/Hard_Disk/Datasets/Deep-Spectral-Segmentation/data/object-segmentation/ECSSD/features/dino_vits16/0104.pth\n",
      "dict_keys(['k', 'indices', 'file', 'id', 'model_name', 'patch_size', 'shape'])\n",
      "0104\n",
      "Starting Training\n",
      "epoch: 00, loss: -0.07009\n",
      "epoch: 01, loss: -0.10035\n",
      "epoch: 02, loss: -0.10438\n",
      "epoch: 03, loss: -0.10732\n",
      "epoch: 04, loss: -0.10701\n",
      "epoch: 05, loss: -0.11021\n",
      "epoch: 06, loss: -0.11053\n",
      "epoch: 07, loss: -0.10748\n",
      "epoch: 08, loss: -0.11173\n",
      "epoch: 09, loss: -0.11082\n",
      "torch.Size([400, 64])\n"
     ]
    },
    {
     "name": "stderr",
     "output_type": "stream",
     "text": [
      "\r",
      " 10%|████████████████▋                                                                                                                                                | 104/1000 [43:24<6:19:03, 25.38s/it]"
     ]
    },
    {
     "name": "stdout",
     "output_type": "stream",
     "text": [
      "eigenvalues shape torch.Size([5]) eigenvectors shape torch.Size([5, 400])\n",
      "104 /home/phdcs2/Hard_Disk/Datasets/Deep-Spectral-Segmentation/data/object-segmentation/ECSSD/features/dino_vits16/0105.pth\n",
      "dict_keys(['k', 'indices', 'file', 'id', 'model_name', 'patch_size', 'shape'])\n",
      "0105\n",
      "Starting Training\n",
      "epoch: 00, loss: -0.03233\n",
      "epoch: 01, loss: -0.06190\n",
      "epoch: 02, loss: -0.06723\n",
      "epoch: 03, loss: -0.06561\n",
      "epoch: 04, loss: -0.06846\n",
      "epoch: 05, loss: -0.07050\n",
      "epoch: 06, loss: -0.07020\n",
      "epoch: 07, loss: -0.07229\n",
      "epoch: 08, loss: -0.07327\n",
      "epoch: 09, loss: -0.07194\n",
      "torch.Size([400, 64])\n"
     ]
    },
    {
     "name": "stderr",
     "output_type": "stream",
     "text": [
      "\r",
      " 10%|████████████████▉                                                                                                                                                | 105/1000 [43:50<6:18:35, 25.38s/it]"
     ]
    },
    {
     "name": "stdout",
     "output_type": "stream",
     "text": [
      "eigenvalues shape torch.Size([5]) eigenvectors shape torch.Size([5, 400])\n",
      "105 /home/phdcs2/Hard_Disk/Datasets/Deep-Spectral-Segmentation/data/object-segmentation/ECSSD/features/dino_vits16/0106.pth\n",
      "dict_keys(['k', 'indices', 'file', 'id', 'model_name', 'patch_size', 'shape'])\n",
      "0106\n",
      "Starting Training\n",
      "epoch: 00, loss: 0.00626\n",
      "epoch: 01, loss: -0.00396\n",
      "epoch: 02, loss: -0.00952\n",
      "epoch: 03, loss: -0.01196\n",
      "epoch: 04, loss: -0.01376\n",
      "epoch: 05, loss: -0.01461\n",
      "epoch: 06, loss: -0.01524\n",
      "epoch: 07, loss: -0.01567\n",
      "epoch: 08, loss: -0.01611\n",
      "epoch: 09, loss: -0.01626\n",
      "torch.Size([400, 64])\n"
     ]
    },
    {
     "name": "stderr",
     "output_type": "stream",
     "text": [
      "\r",
      " 11%|█████████████████                                                                                                                                                | 106/1000 [44:12<6:02:17, 24.31s/it]"
     ]
    },
    {
     "name": "stdout",
     "output_type": "stream",
     "text": [
      "eigenvalues shape torch.Size([5]) eigenvectors shape torch.Size([5, 400])\n",
      "106 /home/phdcs2/Hard_Disk/Datasets/Deep-Spectral-Segmentation/data/object-segmentation/ECSSD/features/dino_vits16/0107.pth\n",
      "dict_keys(['k', 'indices', 'file', 'id', 'model_name', 'patch_size', 'shape'])\n",
      "0107\n",
      "Starting Training\n",
      "epoch: 00, loss: -0.01478\n",
      "epoch: 01, loss: -0.03767\n",
      "epoch: 02, loss: -0.04361\n",
      "epoch: 03, loss: -0.04409\n",
      "epoch: 04, loss: -0.04497\n",
      "epoch: 05, loss: -0.04698\n",
      "epoch: 06, loss: -0.04644\n",
      "epoch: 07, loss: -0.04701\n",
      "epoch: 08, loss: -0.04722\n",
      "epoch: 09, loss: -0.04735\n",
      "torch.Size([400, 64])\n"
     ]
    },
    {
     "name": "stderr",
     "output_type": "stream",
     "text": [
      "/home/phdcs2/Hard_Disk/Projects/T2I/deep-spectral-segmentation/venv/lib/python3.8/site-packages/scipy/sparse/linalg/_eigen/arpack/arpack.py:935: LinAlgWarning: Diagonal number 400 is exactly zero. Singular matrix.\n",
      "  self.M_lu = lu_factor(M)\n"
     ]
    },
    {
     "name": "stdout",
     "output_type": "stream",
     "text": [
      " ** On entry to SLASCL parameter number  4 had an illegal value\n",
      " ** On entry to SLASCL parameter number  4 had an illegal value\n"
     ]
    },
    {
     "name": "stderr",
     "output_type": "stream",
     "text": [
      "\r",
      " 11%|█████████████████▏                                                                                                                                               | 107/1000 [44:46<6:48:31, 27.45s/it]"
     ]
    },
    {
     "name": "stdout",
     "output_type": "stream",
     "text": [
      "eigenvalues shape torch.Size([5]) eigenvectors shape torch.Size([5, 400])\n",
      "107 /home/phdcs2/Hard_Disk/Datasets/Deep-Spectral-Segmentation/data/object-segmentation/ECSSD/features/dino_vits16/0108.pth\n",
      "dict_keys(['k', 'indices', 'file', 'id', 'model_name', 'patch_size', 'shape'])\n",
      "0108\n",
      "Starting Training\n",
      "epoch: 00, loss: -0.03234\n",
      "epoch: 01, loss: -0.05678\n",
      "epoch: 02, loss: -0.05852\n",
      "epoch: 03, loss: -0.05885\n",
      "epoch: 04, loss: -0.05933\n",
      "epoch: 05, loss: -0.05950\n",
      "epoch: 06, loss: -0.05950\n",
      "epoch: 07, loss: -0.05957\n",
      "epoch: 08, loss: -0.06004\n",
      "epoch: 09, loss: -0.06002\n",
      "torch.Size([400, 64])\n"
     ]
    },
    {
     "name": "stderr",
     "output_type": "stream",
     "text": [
      "\r",
      " 11%|█████████████████▍                                                                                                                                               | 108/1000 [45:09<6:25:30, 25.93s/it]"
     ]
    },
    {
     "name": "stdout",
     "output_type": "stream",
     "text": [
      "eigenvalues shape torch.Size([5]) eigenvectors shape torch.Size([5, 400])\n",
      "108 /home/phdcs2/Hard_Disk/Datasets/Deep-Spectral-Segmentation/data/object-segmentation/ECSSD/features/dino_vits16/0109.pth\n",
      "dict_keys(['k', 'indices', 'file', 'id', 'model_name', 'patch_size', 'shape'])\n",
      "0109\n",
      "Starting Training\n",
      "epoch: 00, loss: -0.01999\n",
      "epoch: 01, loss: -0.04895\n",
      "epoch: 02, loss: -0.05197\n",
      "epoch: 03, loss: -0.05482\n",
      "epoch: 04, loss: -0.06054\n",
      "epoch: 05, loss: -0.05612\n",
      "epoch: 06, loss: -0.05716\n",
      "epoch: 07, loss: -0.05738\n",
      "epoch: 08, loss: -0.05745\n",
      "epoch: 09, loss: -0.05917\n",
      "torch.Size([400, 64])\n"
     ]
    },
    {
     "name": "stderr",
     "output_type": "stream",
     "text": [
      "\r",
      " 11%|█████████████████▌                                                                                                                                               | 109/1000 [45:30<6:05:43, 24.63s/it]"
     ]
    },
    {
     "name": "stdout",
     "output_type": "stream",
     "text": [
      "eigenvalues shape torch.Size([5]) eigenvectors shape torch.Size([5, 400])\n",
      "109 /home/phdcs2/Hard_Disk/Datasets/Deep-Spectral-Segmentation/data/object-segmentation/ECSSD/features/dino_vits16/0110.pth\n",
      "dict_keys(['k', 'indices', 'file', 'id', 'model_name', 'patch_size', 'shape'])\n",
      "0110\n",
      "Starting Training\n",
      "epoch: 00, loss: -0.02110\n",
      "epoch: 01, loss: -0.03888\n",
      "epoch: 02, loss: -0.04822\n",
      "epoch: 03, loss: -0.04936\n",
      "epoch: 04, loss: -0.05047\n",
      "epoch: 05, loss: -0.05055\n",
      "epoch: 06, loss: -0.05083\n",
      "epoch: 07, loss: -0.05191\n",
      "epoch: 08, loss: -0.05202\n",
      "epoch: 09, loss: -0.05197\n",
      "torch.Size([400, 64])\n"
     ]
    },
    {
     "name": "stderr",
     "output_type": "stream",
     "text": [
      "\r",
      " 11%|█████████████████▋                                                                                                                                               | 110/1000 [45:52<5:51:53, 23.72s/it]"
     ]
    },
    {
     "name": "stdout",
     "output_type": "stream",
     "text": [
      "eigenvalues shape torch.Size([5]) eigenvectors shape torch.Size([5, 400])\n",
      "110 /home/phdcs2/Hard_Disk/Datasets/Deep-Spectral-Segmentation/data/object-segmentation/ECSSD/features/dino_vits16/0111.pth\n",
      "dict_keys(['k', 'indices', 'file', 'id', 'model_name', 'patch_size', 'shape'])\n",
      "0111\n",
      "Starting Training\n",
      "epoch: 00, loss: -0.00907\n",
      "epoch: 01, loss: -0.02406\n",
      "epoch: 02, loss: -0.02689\n",
      "epoch: 03, loss: -0.02793\n",
      "epoch: 04, loss: -0.02834\n",
      "epoch: 05, loss: -0.02881\n",
      "epoch: 06, loss: -0.02896\n",
      "epoch: 07, loss: -0.02920\n",
      "epoch: 08, loss: -0.02936\n",
      "epoch: 09, loss: -0.02958\n",
      "torch.Size([400, 64])\n"
     ]
    },
    {
     "name": "stderr",
     "output_type": "stream",
     "text": [
      "\r",
      " 11%|█████████████████▊                                                                                                                                               | 111/1000 [46:14<5:42:05, 23.09s/it]"
     ]
    },
    {
     "name": "stdout",
     "output_type": "stream",
     "text": [
      "eigenvalues shape torch.Size([5]) eigenvectors shape torch.Size([5, 400])\n",
      "111 /home/phdcs2/Hard_Disk/Datasets/Deep-Spectral-Segmentation/data/object-segmentation/ECSSD/features/dino_vits16/0112.pth\n",
      "dict_keys(['k', 'indices', 'file', 'id', 'model_name', 'patch_size', 'shape'])\n",
      "0112\n",
      "Starting Training\n",
      "epoch: 00, loss: -0.02455\n",
      "epoch: 01, loss: -0.04100\n",
      "epoch: 02, loss: -0.04287\n",
      "epoch: 03, loss: -0.04339\n",
      "epoch: 04, loss: -0.04398\n",
      "epoch: 05, loss: -0.04372\n",
      "epoch: 06, loss: -0.04417\n",
      "epoch: 07, loss: -0.04448\n",
      "epoch: 08, loss: -0.04442\n",
      "epoch: 09, loss: -0.04456\n",
      "torch.Size([400, 64])\n"
     ]
    },
    {
     "name": "stderr",
     "output_type": "stream",
     "text": [
      "\r",
      " 11%|██████████████████                                                                                                                                               | 112/1000 [46:37<5:44:12, 23.26s/it]"
     ]
    },
    {
     "name": "stdout",
     "output_type": "stream",
     "text": [
      "eigenvalues shape torch.Size([5]) eigenvectors shape torch.Size([5, 400])\n",
      "112 /home/phdcs2/Hard_Disk/Datasets/Deep-Spectral-Segmentation/data/object-segmentation/ECSSD/features/dino_vits16/0113.pth\n",
      "dict_keys(['k', 'indices', 'file', 'id', 'model_name', 'patch_size', 'shape'])\n",
      "0113\n",
      "Starting Training\n",
      "epoch: 00, loss: -0.01202\n",
      "epoch: 01, loss: -0.03069\n",
      "epoch: 02, loss: -0.03358\n",
      "epoch: 03, loss: -0.03459\n",
      "epoch: 04, loss: -0.03459\n",
      "epoch: 05, loss: -0.03714\n",
      "epoch: 06, loss: -0.03583\n",
      "epoch: 07, loss: -0.03799\n",
      "epoch: 08, loss: -0.03535\n",
      "epoch: 09, loss: -0.03726\n",
      "torch.Size([400, 64])\n"
     ]
    },
    {
     "name": "stderr",
     "output_type": "stream",
     "text": [
      "\r",
      " 11%|██████████████████▏                                                                                                                                              | 113/1000 [46:58<5:31:19, 22.41s/it]"
     ]
    },
    {
     "name": "stdout",
     "output_type": "stream",
     "text": [
      "eigenvalues shape torch.Size([5]) eigenvectors shape torch.Size([5, 400])\n",
      "113 /home/phdcs2/Hard_Disk/Datasets/Deep-Spectral-Segmentation/data/object-segmentation/ECSSD/features/dino_vits16/0114.pth\n",
      "dict_keys(['k', 'indices', 'file', 'id', 'model_name', 'patch_size', 'shape'])\n",
      "0114\n",
      "Starting Training\n",
      "epoch: 00, loss: 0.00185\n",
      "epoch: 01, loss: -0.01240\n",
      "epoch: 02, loss: -0.01752\n",
      "epoch: 03, loss: -0.01979\n",
      "epoch: 04, loss: -0.02077\n",
      "epoch: 05, loss: -0.02137\n",
      "epoch: 06, loss: -0.02165\n",
      "epoch: 07, loss: -0.02201\n",
      "epoch: 08, loss: -0.02219\n",
      "epoch: 09, loss: -0.02232\n",
      "torch.Size([400, 64])\n"
     ]
    },
    {
     "name": "stderr",
     "output_type": "stream",
     "text": [
      "\r",
      " 11%|██████████████████▎                                                                                                                                              | 114/1000 [47:20<5:28:55, 22.27s/it]"
     ]
    },
    {
     "name": "stdout",
     "output_type": "stream",
     "text": [
      "eigenvalues shape torch.Size([5]) eigenvectors shape torch.Size([5, 400])\n",
      "114 /home/phdcs2/Hard_Disk/Datasets/Deep-Spectral-Segmentation/data/object-segmentation/ECSSD/features/dino_vits16/0115.pth\n",
      "dict_keys(['k', 'indices', 'file', 'id', 'model_name', 'patch_size', 'shape'])\n",
      "0115\n",
      "Starting Training\n",
      "epoch: 00, loss: -0.03062\n",
      "epoch: 01, loss: -0.05768\n",
      "epoch: 02, loss: -0.06077\n",
      "epoch: 03, loss: -0.06237\n",
      "epoch: 04, loss: -0.06295\n",
      "epoch: 05, loss: -0.06159\n",
      "epoch: 06, loss: -0.06311\n",
      "epoch: 07, loss: -0.06311\n",
      "epoch: 08, loss: -0.06357\n",
      "epoch: 09, loss: -0.06331\n",
      "torch.Size([400, 64])\n"
     ]
    },
    {
     "name": "stderr",
     "output_type": "stream",
     "text": [
      "\r",
      " 12%|██████████████████▌                                                                                                                                              | 115/1000 [47:39<5:14:15, 21.31s/it]"
     ]
    },
    {
     "name": "stdout",
     "output_type": "stream",
     "text": [
      "eigenvalues shape torch.Size([5]) eigenvectors shape torch.Size([5, 400])\n",
      "115 /home/phdcs2/Hard_Disk/Datasets/Deep-Spectral-Segmentation/data/object-segmentation/ECSSD/features/dino_vits16/0116.pth\n",
      "dict_keys(['k', 'indices', 'file', 'id', 'model_name', 'patch_size', 'shape'])\n",
      "0116\n",
      "Starting Training\n",
      "epoch: 00, loss: -0.04900\n",
      "epoch: 01, loss: -0.08620\n",
      "epoch: 02, loss: -0.09232\n",
      "epoch: 03, loss: -0.09497\n",
      "epoch: 04, loss: -0.09827\n",
      "epoch: 05, loss: -0.09740\n",
      "epoch: 06, loss: -0.09873\n",
      "epoch: 07, loss: -0.09754\n",
      "epoch: 08, loss: -0.09696\n",
      "epoch: 09, loss: -0.10015\n",
      "torch.Size([400, 64])\n"
     ]
    },
    {
     "name": "stderr",
     "output_type": "stream",
     "text": [
      "\r",
      " 12%|██████████████████▋                                                                                                                                              | 116/1000 [48:03<5:27:39, 22.24s/it]"
     ]
    },
    {
     "name": "stdout",
     "output_type": "stream",
     "text": [
      "eigenvalues shape torch.Size([5]) eigenvectors shape torch.Size([5, 400])\n",
      "116 /home/phdcs2/Hard_Disk/Datasets/Deep-Spectral-Segmentation/data/object-segmentation/ECSSD/features/dino_vits16/0117.pth\n",
      "dict_keys(['k', 'indices', 'file', 'id', 'model_name', 'patch_size', 'shape'])\n",
      "0117\n",
      "Starting Training\n",
      "epoch: 00, loss: -0.01642\n",
      "epoch: 01, loss: -0.04914\n",
      "epoch: 02, loss: -0.06186\n",
      "epoch: 03, loss: -0.06141\n",
      "epoch: 04, loss: -0.06448\n",
      "epoch: 05, loss: -0.06471\n",
      "epoch: 06, loss: -0.06372\n",
      "epoch: 07, loss: -0.06544\n",
      "epoch: 08, loss: -0.06607\n",
      "epoch: 09, loss: -0.06716\n",
      "torch.Size([400, 64])\n"
     ]
    },
    {
     "name": "stderr",
     "output_type": "stream",
     "text": [
      "\r",
      " 12%|██████████████████▊                                                                                                                                              | 117/1000 [48:24<5:23:27, 21.98s/it]"
     ]
    },
    {
     "name": "stdout",
     "output_type": "stream",
     "text": [
      "eigenvalues shape torch.Size([5]) eigenvectors shape torch.Size([5, 400])\n",
      "117 /home/phdcs2/Hard_Disk/Datasets/Deep-Spectral-Segmentation/data/object-segmentation/ECSSD/features/dino_vits16/0118.pth\n",
      "dict_keys(['k', 'indices', 'file', 'id', 'model_name', 'patch_size', 'shape'])\n",
      "0118\n",
      "Starting Training\n",
      "epoch: 00, loss: -0.04728\n",
      "epoch: 01, loss: -0.07461\n",
      "epoch: 02, loss: -0.07605\n",
      "epoch: 03, loss: -0.07689\n",
      "epoch: 04, loss: -0.08085\n",
      "epoch: 05, loss: -0.07708\n",
      "epoch: 06, loss: -0.07921\n",
      "epoch: 07, loss: -0.07882\n",
      "epoch: 08, loss: -0.08041\n",
      "epoch: 09, loss: -0.08046\n",
      "torch.Size([400, 64])\n"
     ]
    },
    {
     "name": "stderr",
     "output_type": "stream",
     "text": [
      "\r",
      " 12%|██████████████████▉                                                                                                                                              | 118/1000 [48:54<5:55:43, 24.20s/it]"
     ]
    },
    {
     "name": "stdout",
     "output_type": "stream",
     "text": [
      "eigenvalues shape torch.Size([5]) eigenvectors shape torch.Size([5, 400])\n",
      "118 /home/phdcs2/Hard_Disk/Datasets/Deep-Spectral-Segmentation/data/object-segmentation/ECSSD/features/dino_vits16/0119.pth\n",
      "dict_keys(['k', 'indices', 'file', 'id', 'model_name', 'patch_size', 'shape'])\n",
      "0119\n",
      "Starting Training\n",
      "epoch: 00, loss: 0.00665\n",
      "epoch: 01, loss: -0.00251\n",
      "epoch: 02, loss: -0.00743\n",
      "epoch: 03, loss: -0.01003\n",
      "epoch: 04, loss: -0.01148\n",
      "epoch: 05, loss: -0.01245\n",
      "epoch: 06, loss: -0.01328\n",
      "epoch: 07, loss: -0.01371\n",
      "epoch: 08, loss: -0.01399\n",
      "epoch: 09, loss: -0.01424\n",
      "torch.Size([400, 64])\n"
     ]
    },
    {
     "name": "stderr",
     "output_type": "stream",
     "text": [
      "\r",
      " 12%|███████████████████▏                                                                                                                                             | 119/1000 [49:16<5:45:50, 23.55s/it]"
     ]
    },
    {
     "name": "stdout",
     "output_type": "stream",
     "text": [
      "eigenvalues shape torch.Size([5]) eigenvectors shape torch.Size([5, 400])\n",
      "119 /home/phdcs2/Hard_Disk/Datasets/Deep-Spectral-Segmentation/data/object-segmentation/ECSSD/features/dino_vits16/0120.pth\n",
      "dict_keys(['k', 'indices', 'file', 'id', 'model_name', 'patch_size', 'shape'])\n",
      "0120\n",
      "Starting Training\n",
      "epoch: 00, loss: -0.01517\n",
      "epoch: 01, loss: -0.03541\n",
      "epoch: 02, loss: -0.03819\n",
      "epoch: 03, loss: -0.03939\n",
      "epoch: 04, loss: -0.03944\n",
      "epoch: 05, loss: -0.03975\n",
      "epoch: 06, loss: -0.03985\n",
      "epoch: 07, loss: -0.04009\n",
      "epoch: 08, loss: -0.04019\n",
      "epoch: 09, loss: -0.04033\n",
      "torch.Size([400, 64])\n"
     ]
    },
    {
     "name": "stderr",
     "output_type": "stream",
     "text": [
      "\r",
      " 12%|███████████████████▎                                                                                                                                             | 120/1000 [49:39<5:45:07, 23.53s/it]"
     ]
    },
    {
     "name": "stdout",
     "output_type": "stream",
     "text": [
      "eigenvalues shape torch.Size([5]) eigenvectors shape torch.Size([5, 400])\n",
      "120 /home/phdcs2/Hard_Disk/Datasets/Deep-Spectral-Segmentation/data/object-segmentation/ECSSD/features/dino_vits16/0121.pth\n",
      "dict_keys(['k', 'indices', 'file', 'id', 'model_name', 'patch_size', 'shape'])\n",
      "0121\n",
      "Starting Training\n",
      "epoch: 00, loss: -0.01749\n",
      "epoch: 01, loss: -0.04799\n",
      "epoch: 02, loss: -0.05356\n",
      "epoch: 03, loss: -0.05505\n",
      "epoch: 04, loss: -0.05516\n",
      "epoch: 05, loss: -0.05639\n",
      "epoch: 06, loss: -0.05821\n",
      "epoch: 07, loss: -0.06315\n",
      "epoch: 08, loss: -0.05820\n",
      "epoch: 09, loss: -0.05852\n",
      "torch.Size([400, 64])\n"
     ]
    },
    {
     "name": "stderr",
     "output_type": "stream",
     "text": [
      "\r",
      " 12%|███████████████████▍                                                                                                                                             | 121/1000 [50:05<5:54:35, 24.20s/it]"
     ]
    },
    {
     "name": "stdout",
     "output_type": "stream",
     "text": [
      "eigenvalues shape torch.Size([5]) eigenvectors shape torch.Size([5, 400])\n",
      "121 /home/phdcs2/Hard_Disk/Datasets/Deep-Spectral-Segmentation/data/object-segmentation/ECSSD/features/dino_vits16/0122.pth\n",
      "dict_keys(['k', 'indices', 'file', 'id', 'model_name', 'patch_size', 'shape'])\n",
      "0122\n",
      "Starting Training\n",
      "epoch: 00, loss: 0.00390\n",
      "epoch: 01, loss: -0.00789\n",
      "epoch: 02, loss: -0.01296\n",
      "epoch: 03, loss: -0.01514\n",
      "epoch: 04, loss: -0.01692\n",
      "epoch: 05, loss: -0.01749\n",
      "epoch: 06, loss: -0.01882\n",
      "epoch: 07, loss: -0.01862\n",
      "epoch: 08, loss: -0.01901\n",
      "epoch: 09, loss: -0.01964\n",
      "torch.Size([400, 64])\n"
     ]
    },
    {
     "name": "stderr",
     "output_type": "stream",
     "text": [
      "\r",
      " 12%|███████████████████▋                                                                                                                                             | 122/1000 [50:27<5:44:33, 23.55s/it]"
     ]
    },
    {
     "name": "stdout",
     "output_type": "stream",
     "text": [
      "eigenvalues shape torch.Size([5]) eigenvectors shape torch.Size([5, 400])\n",
      "122 /home/phdcs2/Hard_Disk/Datasets/Deep-Spectral-Segmentation/data/object-segmentation/ECSSD/features/dino_vits16/0123.pth\n",
      "dict_keys(['k', 'indices', 'file', 'id', 'model_name', 'patch_size', 'shape'])\n",
      "0123\n",
      "Starting Training\n",
      "epoch: 00, loss: 0.00252\n",
      "epoch: 01, loss: -0.01201\n",
      "epoch: 02, loss: -0.01780\n",
      "epoch: 03, loss: -0.02031\n",
      "epoch: 04, loss: -0.02128\n",
      "epoch: 05, loss: -0.02197\n",
      "epoch: 06, loss: -0.02233\n",
      "epoch: 07, loss: -0.02262\n",
      "epoch: 08, loss: -0.02291\n",
      "epoch: 09, loss: -0.02294\n",
      "torch.Size([400, 64])\n"
     ]
    },
    {
     "name": "stderr",
     "output_type": "stream",
     "text": [
      "\r",
      " 12%|███████████████████▊                                                                                                                                             | 123/1000 [50:53<5:54:57, 24.28s/it]"
     ]
    },
    {
     "name": "stdout",
     "output_type": "stream",
     "text": [
      "eigenvalues shape torch.Size([5]) eigenvectors shape torch.Size([5, 400])\n",
      "123 /home/phdcs2/Hard_Disk/Datasets/Deep-Spectral-Segmentation/data/object-segmentation/ECSSD/features/dino_vits16/0124.pth\n",
      "dict_keys(['k', 'indices', 'file', 'id', 'model_name', 'patch_size', 'shape'])\n",
      "0124\n",
      "Starting Training\n",
      "epoch: 00, loss: -0.04829\n",
      "epoch: 01, loss: -0.07316\n",
      "epoch: 02, loss: -0.08089\n",
      "epoch: 03, loss: -0.08090\n",
      "epoch: 04, loss: -0.08234\n",
      "epoch: 05, loss: -0.08106\n",
      "epoch: 06, loss: -0.08450\n",
      "epoch: 07, loss: -0.08452\n",
      "epoch: 08, loss: -0.08517\n",
      "epoch: 09, loss: -0.08554\n",
      "torch.Size([400, 64])\n"
     ]
    },
    {
     "name": "stderr",
     "output_type": "stream",
     "text": [
      "\r",
      " 12%|███████████████████▉                                                                                                                                             | 124/1000 [51:16<5:47:41, 23.81s/it]"
     ]
    },
    {
     "name": "stdout",
     "output_type": "stream",
     "text": [
      "eigenvalues shape torch.Size([5]) eigenvectors shape torch.Size([5, 400])\n",
      "124 /home/phdcs2/Hard_Disk/Datasets/Deep-Spectral-Segmentation/data/object-segmentation/ECSSD/features/dino_vits16/0125.pth\n",
      "dict_keys(['k', 'indices', 'file', 'id', 'model_name', 'patch_size', 'shape'])\n",
      "0125\n",
      "Starting Training\n",
      "epoch: 00, loss: -0.02091\n",
      "epoch: 01, loss: -0.04451\n",
      "epoch: 02, loss: -0.04695\n",
      "epoch: 03, loss: -0.05163\n",
      "epoch: 04, loss: -0.04886\n",
      "epoch: 05, loss: -0.05020\n",
      "epoch: 06, loss: -0.05107\n",
      "epoch: 07, loss: -0.05417\n",
      "epoch: 08, loss: -0.05240\n",
      "epoch: 09, loss: -0.05253\n",
      "torch.Size([400, 64])\n"
     ]
    },
    {
     "name": "stderr",
     "output_type": "stream",
     "text": [
      "\r",
      " 12%|████████████████████▏                                                                                                                                            | 125/1000 [51:38<5:39:21, 23.27s/it]"
     ]
    },
    {
     "name": "stdout",
     "output_type": "stream",
     "text": [
      "eigenvalues shape torch.Size([5]) eigenvectors shape torch.Size([5, 400])\n",
      "125 /home/phdcs2/Hard_Disk/Datasets/Deep-Spectral-Segmentation/data/object-segmentation/ECSSD/features/dino_vits16/0126.pth\n",
      "dict_keys(['k', 'indices', 'file', 'id', 'model_name', 'patch_size', 'shape'])\n",
      "0126\n",
      "Starting Training\n",
      "epoch: 00, loss: 0.00189\n",
      "epoch: 01, loss: -0.00907\n",
      "epoch: 02, loss: -0.01341\n",
      "epoch: 03, loss: -0.01566\n",
      "epoch: 04, loss: -0.01685\n",
      "epoch: 05, loss: -0.01733\n",
      "epoch: 06, loss: -0.01787\n",
      "epoch: 07, loss: -0.01806\n",
      "epoch: 08, loss: -0.01837\n",
      "epoch: 09, loss: -0.01850\n",
      "torch.Size([400, 64])\n"
     ]
    },
    {
     "name": "stderr",
     "output_type": "stream",
     "text": [
      "\r",
      " 13%|████████████████████▎                                                                                                                                            | 126/1000 [52:00<5:34:54, 22.99s/it]"
     ]
    },
    {
     "name": "stdout",
     "output_type": "stream",
     "text": [
      "eigenvalues shape torch.Size([5]) eigenvectors shape torch.Size([5, 400])\n",
      "126 /home/phdcs2/Hard_Disk/Datasets/Deep-Spectral-Segmentation/data/object-segmentation/ECSSD/features/dino_vits16/0127.pth\n",
      "dict_keys(['k', 'indices', 'file', 'id', 'model_name', 'patch_size', 'shape'])\n",
      "0127\n",
      "Starting Training\n",
      "epoch: 00, loss: -0.08575\n",
      "epoch: 01, loss: -0.12076\n",
      "epoch: 02, loss: -0.12418\n",
      "epoch: 03, loss: -0.12571\n",
      "epoch: 04, loss: -0.12892\n",
      "epoch: 05, loss: -0.13040\n",
      "epoch: 06, loss: -0.12923\n",
      "epoch: 07, loss: -0.12663\n",
      "epoch: 08, loss: -0.13049\n",
      "epoch: 09, loss: -0.12998\n",
      "torch.Size([400, 64])\n"
     ]
    },
    {
     "name": "stderr",
     "output_type": "stream",
     "text": [
      "\r",
      " 13%|████████████████████▍                                                                                                                                            | 127/1000 [52:25<5:43:05, 23.58s/it]"
     ]
    },
    {
     "name": "stdout",
     "output_type": "stream",
     "text": [
      "eigenvalues shape torch.Size([5]) eigenvectors shape torch.Size([5, 400])\n",
      "127 /home/phdcs2/Hard_Disk/Datasets/Deep-Spectral-Segmentation/data/object-segmentation/ECSSD/features/dino_vits16/0128.pth\n",
      "dict_keys(['k', 'indices', 'file', 'id', 'model_name', 'patch_size', 'shape'])\n",
      "0128\n",
      "Starting Training\n",
      "epoch: 00, loss: -0.14191\n",
      "epoch: 01, loss: -0.18426\n",
      "epoch: 02, loss: -0.19322\n",
      "epoch: 03, loss: -0.19335\n",
      "epoch: 04, loss: -0.19418\n",
      "epoch: 05, loss: -0.19796\n",
      "epoch: 06, loss: -0.19761\n",
      "epoch: 07, loss: -0.19915\n",
      "epoch: 08, loss: -0.20202\n",
      "epoch: 09, loss: -0.20115\n",
      "torch.Size([400, 64])\n"
     ]
    },
    {
     "name": "stderr",
     "output_type": "stream",
     "text": [
      "\r",
      " 13%|████████████████████▌                                                                                                                                            | 128/1000 [52:46<5:29:46, 22.69s/it]"
     ]
    },
    {
     "name": "stdout",
     "output_type": "stream",
     "text": [
      "eigenvalues shape torch.Size([5]) eigenvectors shape torch.Size([5, 400])\n",
      "128 /home/phdcs2/Hard_Disk/Datasets/Deep-Spectral-Segmentation/data/object-segmentation/ECSSD/features/dino_vits16/0129.pth\n",
      "dict_keys(['k', 'indices', 'file', 'id', 'model_name', 'patch_size', 'shape'])\n",
      "0129\n",
      "Starting Training\n",
      "epoch: 00, loss: -0.09978\n",
      "epoch: 01, loss: -0.12017\n",
      "epoch: 02, loss: -0.12547\n",
      "epoch: 03, loss: -0.12664\n",
      "epoch: 04, loss: -0.12787\n",
      "epoch: 05, loss: -0.13064\n",
      "epoch: 06, loss: -0.12731\n",
      "epoch: 07, loss: -0.12992\n",
      "epoch: 08, loss: -0.12850\n",
      "epoch: 09, loss: -0.13003\n",
      "torch.Size([425, 64])\n"
     ]
    },
    {
     "name": "stderr",
     "output_type": "stream",
     "text": [
      "\r",
      " 13%|████████████████████▊                                                                                                                                            | 129/1000 [53:08<5:29:33, 22.70s/it]"
     ]
    },
    {
     "name": "stdout",
     "output_type": "stream",
     "text": [
      "eigenvalues shape torch.Size([5]) eigenvectors shape torch.Size([5, 425])\n",
      "129 /home/phdcs2/Hard_Disk/Datasets/Deep-Spectral-Segmentation/data/object-segmentation/ECSSD/features/dino_vits16/0130.pth\n",
      "dict_keys(['k', 'indices', 'file', 'id', 'model_name', 'patch_size', 'shape'])\n",
      "0130\n",
      "Starting Training\n",
      "epoch: 00, loss: -0.01767\n",
      "epoch: 01, loss: -0.03762\n",
      "epoch: 02, loss: -0.04869\n",
      "epoch: 03, loss: -0.04905\n",
      "epoch: 04, loss: -0.05262\n",
      "epoch: 05, loss: -0.04783\n",
      "epoch: 06, loss: -0.04993\n",
      "epoch: 07, loss: -0.04973\n",
      "epoch: 08, loss: -0.05173\n",
      "epoch: 09, loss: -0.05160\n",
      "torch.Size([425, 64])\n"
     ]
    },
    {
     "name": "stderr",
     "output_type": "stream",
     "text": [
      "\r",
      " 13%|████████████████████▉                                                                                                                                            | 130/1000 [53:31<5:29:01, 22.69s/it]"
     ]
    },
    {
     "name": "stdout",
     "output_type": "stream",
     "text": [
      "eigenvalues shape torch.Size([5]) eigenvectors shape torch.Size([5, 425])\n",
      "130 /home/phdcs2/Hard_Disk/Datasets/Deep-Spectral-Segmentation/data/object-segmentation/ECSSD/features/dino_vits16/0131.pth\n",
      "dict_keys(['k', 'indices', 'file', 'id', 'model_name', 'patch_size', 'shape'])\n",
      "0131\n",
      "Starting Training\n",
      "epoch: 00, loss: -0.10365\n",
      "epoch: 01, loss: -0.12879\n",
      "epoch: 02, loss: -0.13400\n",
      "epoch: 03, loss: -0.13464\n",
      "epoch: 04, loss: -0.13429\n",
      "epoch: 05, loss: -0.13679\n",
      "epoch: 06, loss: -0.13723\n",
      "epoch: 07, loss: -0.13642\n",
      "epoch: 08, loss: -0.13977\n",
      "epoch: 09, loss: -0.13785\n",
      "torch.Size([450, 64])\n"
     ]
    },
    {
     "name": "stderr",
     "output_type": "stream",
     "text": [
      "\r",
      " 13%|█████████████████████                                                                                                                                            | 131/1000 [53:53<5:26:47, 22.56s/it]"
     ]
    },
    {
     "name": "stdout",
     "output_type": "stream",
     "text": [
      "eigenvalues shape torch.Size([5]) eigenvectors shape torch.Size([5, 450])\n",
      "131 /home/phdcs2/Hard_Disk/Datasets/Deep-Spectral-Segmentation/data/object-segmentation/ECSSD/features/dino_vits16/0132.pth\n",
      "dict_keys(['k', 'indices', 'file', 'id', 'model_name', 'patch_size', 'shape'])\n",
      "0132\n",
      "Starting Training\n",
      "epoch: 00, loss: -0.02879\n",
      "epoch: 01, loss: -0.05890\n",
      "epoch: 02, loss: -0.06123\n",
      "epoch: 03, loss: -0.06188\n",
      "epoch: 04, loss: -0.06599\n",
      "epoch: 05, loss: -0.06252\n",
      "epoch: 06, loss: -0.06539\n",
      "epoch: 07, loss: -0.06336\n",
      "epoch: 08, loss: -0.06330\n",
      "epoch: 09, loss: -0.06580\n",
      "torch.Size([400, 64])\n"
     ]
    },
    {
     "name": "stderr",
     "output_type": "stream",
     "text": [
      "\r",
      " 13%|█████████████████████▎                                                                                                                                           | 132/1000 [54:15<5:20:52, 22.18s/it]"
     ]
    },
    {
     "name": "stdout",
     "output_type": "stream",
     "text": [
      "eigenvalues shape torch.Size([5]) eigenvectors shape torch.Size([5, 400])\n",
      "132 /home/phdcs2/Hard_Disk/Datasets/Deep-Spectral-Segmentation/data/object-segmentation/ECSSD/features/dino_vits16/0133.pth\n",
      "dict_keys(['k', 'indices', 'file', 'id', 'model_name', 'patch_size', 'shape'])\n",
      "0133\n",
      "Starting Training\n",
      "epoch: 00, loss: -0.06197\n",
      "epoch: 01, loss: -0.08713\n",
      "epoch: 02, loss: -0.09284\n",
      "epoch: 03, loss: -0.09071\n",
      "epoch: 04, loss: -0.09755\n",
      "epoch: 05, loss: -0.09663\n",
      "epoch: 06, loss: -0.09331\n",
      "epoch: 07, loss: -0.09557\n",
      "epoch: 08, loss: -0.09447\n",
      "epoch: 09, loss: -0.09521\n",
      "torch.Size([525, 64])\n"
     ]
    },
    {
     "name": "stderr",
     "output_type": "stream",
     "text": [
      "\r",
      " 13%|█████████████████████▍                                                                                                                                           | 133/1000 [54:45<5:56:18, 24.66s/it]"
     ]
    },
    {
     "name": "stdout",
     "output_type": "stream",
     "text": [
      "eigenvalues shape torch.Size([5]) eigenvectors shape torch.Size([5, 525])\n",
      "133 /home/phdcs2/Hard_Disk/Datasets/Deep-Spectral-Segmentation/data/object-segmentation/ECSSD/features/dino_vits16/0134.pth\n",
      "dict_keys(['k', 'indices', 'file', 'id', 'model_name', 'patch_size', 'shape'])\n",
      "0134\n",
      "Starting Training\n",
      "epoch: 00, loss: -0.05665\n",
      "epoch: 01, loss: -0.10200\n",
      "epoch: 02, loss: -0.10959\n",
      "epoch: 03, loss: -0.10902\n",
      "epoch: 04, loss: -0.10655\n",
      "epoch: 05, loss: -0.11058\n",
      "epoch: 06, loss: -0.11062\n",
      "epoch: 07, loss: -0.11075\n",
      "epoch: 08, loss: -0.10961\n",
      "epoch: 09, loss: -0.10947\n",
      "torch.Size([400, 64])\n"
     ]
    },
    {
     "name": "stderr",
     "output_type": "stream",
     "text": [
      "\r",
      " 13%|█████████████████████▌                                                                                                                                           | 134/1000 [55:08<5:47:21, 24.07s/it]"
     ]
    },
    {
     "name": "stdout",
     "output_type": "stream",
     "text": [
      "eigenvalues shape torch.Size([5]) eigenvectors shape torch.Size([5, 400])\n",
      "134 /home/phdcs2/Hard_Disk/Datasets/Deep-Spectral-Segmentation/data/object-segmentation/ECSSD/features/dino_vits16/0135.pth\n",
      "dict_keys(['k', 'indices', 'file', 'id', 'model_name', 'patch_size', 'shape'])\n",
      "0135\n",
      "Starting Training\n",
      "epoch: 00, loss: -0.03946\n",
      "epoch: 01, loss: -0.06589\n",
      "epoch: 02, loss: -0.06710\n",
      "epoch: 03, loss: -0.06736\n",
      "epoch: 04, loss: -0.06784\n",
      "epoch: 05, loss: -0.06785\n",
      "epoch: 06, loss: -0.06811\n",
      "epoch: 07, loss: -0.06827\n",
      "epoch: 08, loss: -0.06852\n",
      "epoch: 09, loss: -0.06872\n",
      "torch.Size([450, 64])\n"
     ]
    },
    {
     "name": "stderr",
     "output_type": "stream",
     "text": [
      "\r",
      " 14%|█████████████████████▋                                                                                                                                           | 135/1000 [55:30<5:40:55, 23.65s/it]"
     ]
    },
    {
     "name": "stdout",
     "output_type": "stream",
     "text": [
      "eigenvalues shape torch.Size([5]) eigenvectors shape torch.Size([5, 450])\n",
      "135 /home/phdcs2/Hard_Disk/Datasets/Deep-Spectral-Segmentation/data/object-segmentation/ECSSD/features/dino_vits16/0136.pth\n",
      "dict_keys(['k', 'indices', 'file', 'id', 'model_name', 'patch_size', 'shape'])\n",
      "0136\n",
      "Starting Training\n",
      "epoch: 00, loss: -0.09024\n",
      "epoch: 01, loss: -0.13430\n",
      "epoch: 02, loss: -0.13734\n",
      "epoch: 03, loss: -0.13935\n",
      "epoch: 04, loss: -0.13867\n",
      "epoch: 05, loss: -0.13891\n",
      "epoch: 06, loss: -0.14133\n",
      "epoch: 07, loss: -0.14206\n",
      "epoch: 08, loss: -0.14126\n",
      "epoch: 09, loss: -0.14345\n",
      "torch.Size([450, 64])\n"
     ]
    },
    {
     "name": "stderr",
     "output_type": "stream",
     "text": [
      "\r",
      " 14%|█████████████████████▉                                                                                                                                           | 136/1000 [55:56<5:47:56, 24.16s/it]"
     ]
    },
    {
     "name": "stdout",
     "output_type": "stream",
     "text": [
      "eigenvalues shape torch.Size([5]) eigenvectors shape torch.Size([5, 450])\n",
      "136 /home/phdcs2/Hard_Disk/Datasets/Deep-Spectral-Segmentation/data/object-segmentation/ECSSD/features/dino_vits16/0137.pth\n",
      "dict_keys(['k', 'indices', 'file', 'id', 'model_name', 'patch_size', 'shape'])\n",
      "0137\n",
      "Starting Training\n",
      "epoch: 00, loss: -0.06041\n",
      "epoch: 01, loss: -0.08063\n",
      "epoch: 02, loss: -0.08131\n",
      "epoch: 03, loss: -0.08274\n",
      "epoch: 04, loss: -0.08177\n",
      "epoch: 05, loss: -0.08338\n",
      "epoch: 06, loss: -0.08338\n",
      "epoch: 07, loss: -0.08222\n",
      "epoch: 08, loss: -0.08250\n",
      "epoch: 09, loss: -0.08379\n",
      "torch.Size([475, 64])\n"
     ]
    },
    {
     "name": "stderr",
     "output_type": "stream",
     "text": [
      "\r",
      " 14%|██████████████████████                                                                                                                                           | 137/1000 [56:22<5:57:29, 24.85s/it]"
     ]
    },
    {
     "name": "stdout",
     "output_type": "stream",
     "text": [
      "eigenvalues shape torch.Size([5]) eigenvectors shape torch.Size([5, 475])\n",
      "137 /home/phdcs2/Hard_Disk/Datasets/Deep-Spectral-Segmentation/data/object-segmentation/ECSSD/features/dino_vits16/0138.pth\n",
      "dict_keys(['k', 'indices', 'file', 'id', 'model_name', 'patch_size', 'shape'])\n",
      "0138\n",
      "Starting Training\n",
      "epoch: 00, loss: -0.04345\n",
      "epoch: 01, loss: -0.07291\n",
      "epoch: 02, loss: -0.08167\n",
      "epoch: 03, loss: -0.07780\n",
      "epoch: 04, loss: -0.08175\n",
      "epoch: 05, loss: -0.08191\n",
      "epoch: 06, loss: -0.08360\n",
      "epoch: 07, loss: -0.08184\n",
      "epoch: 08, loss: -0.08291\n",
      "epoch: 09, loss: -0.08165\n",
      "torch.Size([450, 64])\n"
     ]
    },
    {
     "name": "stderr",
     "output_type": "stream",
     "text": [
      "\r",
      " 14%|██████████████████████▏                                                                                                                                          | 138/1000 [56:53<6:23:54, 26.72s/it]"
     ]
    },
    {
     "name": "stdout",
     "output_type": "stream",
     "text": [
      "eigenvalues shape torch.Size([5]) eigenvectors shape torch.Size([5, 450])\n",
      "138 /home/phdcs2/Hard_Disk/Datasets/Deep-Spectral-Segmentation/data/object-segmentation/ECSSD/features/dino_vits16/0139.pth\n",
      "dict_keys(['k', 'indices', 'file', 'id', 'model_name', 'patch_size', 'shape'])\n",
      "0139\n",
      "Starting Training\n",
      "epoch: 00, loss: -0.02673\n",
      "epoch: 01, loss: -0.05266\n",
      "epoch: 02, loss: -0.05166\n",
      "epoch: 03, loss: -0.05647\n",
      "epoch: 04, loss: -0.05607\n",
      "epoch: 05, loss: -0.05493\n",
      "epoch: 06, loss: -0.05687\n",
      "epoch: 07, loss: -0.05688\n",
      "epoch: 08, loss: -0.05715\n",
      "epoch: 09, loss: -0.05639\n",
      "torch.Size([450, 64])\n"
     ]
    },
    {
     "name": "stderr",
     "output_type": "stream",
     "text": [
      "\r",
      " 14%|██████████████████████▍                                                                                                                                          | 139/1000 [57:19<6:20:11, 26.49s/it]"
     ]
    },
    {
     "name": "stdout",
     "output_type": "stream",
     "text": [
      "eigenvalues shape torch.Size([5]) eigenvectors shape torch.Size([5, 450])\n",
      "139 /home/phdcs2/Hard_Disk/Datasets/Deep-Spectral-Segmentation/data/object-segmentation/ECSSD/features/dino_vits16/0140.pth\n",
      "dict_keys(['k', 'indices', 'file', 'id', 'model_name', 'patch_size', 'shape'])\n",
      "0140\n",
      "Starting Training\n",
      "epoch: 00, loss: -0.06051\n",
      "epoch: 01, loss: -0.08544\n",
      "epoch: 02, loss: -0.09406\n",
      "epoch: 03, loss: -0.09058\n",
      "epoch: 04, loss: -0.09156\n",
      "epoch: 05, loss: -0.09201\n",
      "epoch: 06, loss: -0.09121\n",
      "epoch: 07, loss: -0.09606\n",
      "epoch: 08, loss: -0.09362\n",
      "epoch: 09, loss: -0.09386\n",
      "torch.Size([450, 64])\n"
     ]
    },
    {
     "name": "stderr",
     "output_type": "stream",
     "text": [
      "\r",
      " 14%|██████████████████████▌                                                                                                                                          | 140/1000 [57:47<6:23:16, 26.74s/it]"
     ]
    },
    {
     "name": "stdout",
     "output_type": "stream",
     "text": [
      "eigenvalues shape torch.Size([5]) eigenvectors shape torch.Size([5, 450])\n",
      "140 /home/phdcs2/Hard_Disk/Datasets/Deep-Spectral-Segmentation/data/object-segmentation/ECSSD/features/dino_vits16/0141.pth\n",
      "dict_keys(['k', 'indices', 'file', 'id', 'model_name', 'patch_size', 'shape'])\n",
      "0141\n",
      "Starting Training\n",
      "epoch: 00, loss: -0.04220\n",
      "epoch: 01, loss: -0.08277\n",
      "epoch: 02, loss: -0.09228\n",
      "epoch: 03, loss: -0.09381\n",
      "epoch: 04, loss: -0.09198\n",
      "epoch: 05, loss: -0.09500\n",
      "epoch: 06, loss: -0.09494\n",
      "epoch: 07, loss: -0.09768\n",
      "epoch: 08, loss: -0.09978\n",
      "epoch: 09, loss: -0.09641\n",
      "torch.Size([350, 64])\n"
     ]
    },
    {
     "name": "stderr",
     "output_type": "stream",
     "text": [
      "\r",
      " 14%|██████████████████████▋                                                                                                                                          | 141/1000 [58:06<5:49:13, 24.39s/it]"
     ]
    },
    {
     "name": "stdout",
     "output_type": "stream",
     "text": [
      "eigenvalues shape torch.Size([5]) eigenvectors shape torch.Size([5, 350])\n",
      "141 /home/phdcs2/Hard_Disk/Datasets/Deep-Spectral-Segmentation/data/object-segmentation/ECSSD/features/dino_vits16/0142.pth\n",
      "dict_keys(['k', 'indices', 'file', 'id', 'model_name', 'patch_size', 'shape'])\n",
      "0142\n",
      "Starting Training\n",
      "epoch: 00, loss: -0.06811\n",
      "epoch: 01, loss: -0.09106\n",
      "epoch: 02, loss: -0.09133\n",
      "epoch: 03, loss: -0.09201\n",
      "epoch: 04, loss: -0.09225\n",
      "epoch: 05, loss: -0.09235\n",
      "epoch: 06, loss: -0.09264\n",
      "epoch: 07, loss: -0.09244\n",
      "epoch: 08, loss: -0.09260\n",
      "epoch: 09, loss: -0.09275\n",
      "torch.Size([450, 64])\n"
     ]
    },
    {
     "name": "stderr",
     "output_type": "stream",
     "text": [
      "\r",
      " 14%|██████████████████████▊                                                                                                                                          | 142/1000 [58:31<5:54:53, 24.82s/it]"
     ]
    },
    {
     "name": "stdout",
     "output_type": "stream",
     "text": [
      "eigenvalues shape torch.Size([5]) eigenvectors shape torch.Size([5, 450])\n",
      "142 /home/phdcs2/Hard_Disk/Datasets/Deep-Spectral-Segmentation/data/object-segmentation/ECSSD/features/dino_vits16/0143.pth\n",
      "dict_keys(['k', 'indices', 'file', 'id', 'model_name', 'patch_size', 'shape'])\n",
      "0143\n",
      "Starting Training\n",
      "epoch: 00, loss: -0.02446\n",
      "epoch: 01, loss: -0.05283\n",
      "epoch: 02, loss: -0.05417\n",
      "epoch: 03, loss: -0.05598\n",
      "epoch: 04, loss: -0.05985\n",
      "epoch: 05, loss: -0.05900\n",
      "epoch: 06, loss: -0.05892\n",
      "epoch: 07, loss: -0.05851\n",
      "epoch: 08, loss: -0.06042\n",
      "epoch: 09, loss: -0.06105\n",
      "torch.Size([450, 64])\n"
     ]
    },
    {
     "name": "stderr",
     "output_type": "stream",
     "text": [
      "\r",
      " 14%|███████████████████████                                                                                                                                          | 143/1000 [58:58<6:01:50, 25.33s/it]"
     ]
    },
    {
     "name": "stdout",
     "output_type": "stream",
     "text": [
      "eigenvalues shape torch.Size([5]) eigenvectors shape torch.Size([5, 450])\n",
      "143 /home/phdcs2/Hard_Disk/Datasets/Deep-Spectral-Segmentation/data/object-segmentation/ECSSD/features/dino_vits16/0144.pth\n",
      "dict_keys(['k', 'indices', 'file', 'id', 'model_name', 'patch_size', 'shape'])\n",
      "0144\n",
      "Starting Training\n",
      "epoch: 00, loss: -0.03801\n",
      "epoch: 01, loss: -0.06413\n",
      "epoch: 02, loss: -0.06845\n",
      "epoch: 03, loss: -0.06813\n",
      "epoch: 04, loss: -0.06959\n",
      "epoch: 05, loss: -0.06662\n",
      "epoch: 06, loss: -0.06709\n",
      "epoch: 07, loss: -0.06656\n",
      "epoch: 08, loss: -0.07116\n",
      "epoch: 09, loss: -0.07033\n",
      "torch.Size([425, 64])\n"
     ]
    },
    {
     "name": "stderr",
     "output_type": "stream",
     "text": [
      "\r",
      " 14%|███████████████████████▏                                                                                                                                         | 144/1000 [59:23<6:00:36, 25.28s/it]"
     ]
    },
    {
     "name": "stdout",
     "output_type": "stream",
     "text": [
      "eigenvalues shape torch.Size([5]) eigenvectors shape torch.Size([5, 425])\n",
      "144 /home/phdcs2/Hard_Disk/Datasets/Deep-Spectral-Segmentation/data/object-segmentation/ECSSD/features/dino_vits16/0145.pth\n",
      "dict_keys(['k', 'indices', 'file', 'id', 'model_name', 'patch_size', 'shape'])\n",
      "0145\n",
      "Starting Training\n",
      "epoch: 00, loss: -0.02735\n",
      "epoch: 01, loss: -0.04572\n",
      "epoch: 02, loss: -0.04745\n",
      "epoch: 03, loss: -0.04821\n",
      "epoch: 04, loss: -0.04865\n",
      "epoch: 05, loss: -0.04857\n",
      "epoch: 06, loss: -0.04926\n",
      "epoch: 07, loss: -0.04914\n",
      "epoch: 08, loss: -0.04925\n",
      "epoch: 09, loss: -0.04939\n",
      "torch.Size([450, 64])\n"
     ]
    },
    {
     "name": "stderr",
     "output_type": "stream",
     "text": [
      "/home/phdcs2/Hard_Disk/Projects/T2I/deep-spectral-segmentation/venv/lib/python3.8/site-packages/scipy/sparse/linalg/_eigen/arpack/arpack.py:935: LinAlgWarning: Diagonal number 450 is exactly zero. Singular matrix.\n",
      "  self.M_lu = lu_factor(M)\n"
     ]
    },
    {
     "name": "stdout",
     "output_type": "stream",
     "text": [
      " ** On entry to SLASCL parameter number  4 had an illegal value\n",
      " ** On entry to SLASCL parameter number  4 had an illegal value\n"
     ]
    },
    {
     "name": "stderr",
     "output_type": "stream",
     "text": [
      "\r",
      " 14%|███████████████████████▎                                                                                                                                         | 145/1000 [59:54<6:22:58, 26.88s/it]"
     ]
    },
    {
     "name": "stdout",
     "output_type": "stream",
     "text": [
      "eigenvalues shape torch.Size([5]) eigenvectors shape torch.Size([5, 450])\n",
      "145 /home/phdcs2/Hard_Disk/Datasets/Deep-Spectral-Segmentation/data/object-segmentation/ECSSD/features/dino_vits16/0146.pth\n",
      "dict_keys(['k', 'indices', 'file', 'id', 'model_name', 'patch_size', 'shape'])\n",
      "0146\n",
      "Starting Training\n",
      "epoch: 00, loss: -0.08362\n",
      "epoch: 01, loss: -0.12673\n",
      "epoch: 02, loss: -0.13359\n",
      "epoch: 03, loss: -0.13459\n",
      "epoch: 04, loss: -0.13440\n",
      "epoch: 05, loss: -0.13500\n",
      "epoch: 06, loss: -0.13486\n",
      "epoch: 07, loss: -0.13590\n",
      "epoch: 08, loss: -0.13915\n",
      "epoch: 09, loss: -0.13716\n",
      "torch.Size([400, 64])\n"
     ]
    },
    {
     "name": "stderr",
     "output_type": "stream",
     "text": [
      "\r",
      " 15%|███████████████████████▏                                                                                                                                       | 146/1000 [1:00:21<6:26:23, 27.15s/it]"
     ]
    },
    {
     "name": "stdout",
     "output_type": "stream",
     "text": [
      "eigenvalues shape torch.Size([5]) eigenvectors shape torch.Size([5, 400])\n",
      "146 /home/phdcs2/Hard_Disk/Datasets/Deep-Spectral-Segmentation/data/object-segmentation/ECSSD/features/dino_vits16/0147.pth\n",
      "dict_keys(['k', 'indices', 'file', 'id', 'model_name', 'patch_size', 'shape'])\n",
      "0147\n",
      "Starting Training\n",
      "epoch: 00, loss: -0.01952\n",
      "epoch: 01, loss: -0.04276\n",
      "epoch: 02, loss: -0.04505\n",
      "epoch: 03, loss: -0.04566\n",
      "epoch: 04, loss: -0.04570\n",
      "epoch: 05, loss: -0.04598\n",
      "epoch: 06, loss: -0.04626\n",
      "epoch: 07, loss: -0.04579\n",
      "epoch: 08, loss: -0.04669\n",
      "epoch: 09, loss: -0.04693\n",
      "torch.Size([550, 64])\n"
     ]
    },
    {
     "name": "stderr",
     "output_type": "stream",
     "text": [
      "\r",
      " 15%|███████████████████████▎                                                                                                                                       | 147/1000 [1:01:07<7:43:53, 32.63s/it]"
     ]
    },
    {
     "name": "stdout",
     "output_type": "stream",
     "text": [
      "eigenvalues shape torch.Size([5]) eigenvectors shape torch.Size([5, 550])\n",
      "147 /home/phdcs2/Hard_Disk/Datasets/Deep-Spectral-Segmentation/data/object-segmentation/ECSSD/features/dino_vits16/0148.pth\n",
      "dict_keys(['k', 'indices', 'file', 'id', 'model_name', 'patch_size', 'shape'])\n",
      "0148\n",
      "Starting Training\n",
      "epoch: 00, loss: -0.03989\n",
      "epoch: 01, loss: -0.06978\n",
      "epoch: 02, loss: -0.07123\n",
      "epoch: 03, loss: -0.07146\n",
      "epoch: 04, loss: -0.07161\n",
      "epoch: 05, loss: -0.07175\n",
      "epoch: 06, loss: -0.07198\n",
      "epoch: 07, loss: -0.07224\n",
      "epoch: 08, loss: -0.07222\n",
      "epoch: 09, loss: -0.07239\n",
      "torch.Size([400, 64])\n"
     ]
    },
    {
     "name": "stderr",
     "output_type": "stream",
     "text": [
      "\r",
      " 15%|███████████████████████▌                                                                                                                                       | 148/1000 [1:01:32<7:11:56, 30.42s/it]"
     ]
    },
    {
     "name": "stdout",
     "output_type": "stream",
     "text": [
      "eigenvalues shape torch.Size([5]) eigenvectors shape torch.Size([5, 400])\n",
      "148 /home/phdcs2/Hard_Disk/Datasets/Deep-Spectral-Segmentation/data/object-segmentation/ECSSD/features/dino_vits16/0149.pth\n",
      "dict_keys(['k', 'indices', 'file', 'id', 'model_name', 'patch_size', 'shape'])\n",
      "0149\n",
      "Starting Training\n",
      "epoch: 00, loss: -0.04062\n",
      "epoch: 01, loss: -0.07586\n",
      "epoch: 02, loss: -0.07899\n",
      "epoch: 03, loss: -0.08221\n",
      "epoch: 04, loss: -0.08221\n",
      "epoch: 05, loss: -0.08518\n",
      "epoch: 06, loss: -0.08450\n",
      "epoch: 07, loss: -0.08425\n",
      "epoch: 08, loss: -0.08324\n",
      "epoch: 09, loss: -0.08592\n",
      "torch.Size([400, 64])\n"
     ]
    },
    {
     "name": "stderr",
     "output_type": "stream",
     "text": [
      "\r",
      " 15%|███████████████████████▋                                                                                                                                       | 149/1000 [1:01:57<6:46:18, 28.65s/it]"
     ]
    },
    {
     "name": "stdout",
     "output_type": "stream",
     "text": [
      "eigenvalues shape torch.Size([5]) eigenvectors shape torch.Size([5, 400])\n",
      "149 /home/phdcs2/Hard_Disk/Datasets/Deep-Spectral-Segmentation/data/object-segmentation/ECSSD/features/dino_vits16/0150.pth\n",
      "dict_keys(['k', 'indices', 'file', 'id', 'model_name', 'patch_size', 'shape'])\n",
      "0150\n",
      "Starting Training\n",
      "epoch: 00, loss: -0.02041\n",
      "epoch: 01, loss: -0.04151\n",
      "epoch: 02, loss: -0.04336\n",
      "epoch: 03, loss: -0.04395\n",
      "epoch: 04, loss: -0.04459\n",
      "epoch: 05, loss: -0.04440\n",
      "epoch: 06, loss: -0.04473\n",
      "epoch: 07, loss: -0.04484\n",
      "epoch: 08, loss: -0.04474\n",
      "epoch: 09, loss: -0.04491\n",
      "torch.Size([450, 64])\n"
     ]
    },
    {
     "name": "stderr",
     "output_type": "stream",
     "text": [
      "\r",
      " 15%|███████████████████████▊                                                                                                                                       | 150/1000 [1:02:23<6:37:20, 28.05s/it]"
     ]
    },
    {
     "name": "stdout",
     "output_type": "stream",
     "text": [
      "eigenvalues shape torch.Size([5]) eigenvectors shape torch.Size([5, 450])\n",
      "150 /home/phdcs2/Hard_Disk/Datasets/Deep-Spectral-Segmentation/data/object-segmentation/ECSSD/features/dino_vits16/0151.pth\n",
      "dict_keys(['k', 'indices', 'file', 'id', 'model_name', 'patch_size', 'shape'])\n",
      "0151\n",
      "Starting Training\n",
      "epoch: 00, loss: -0.08808\n",
      "epoch: 01, loss: -0.10594\n",
      "epoch: 02, loss: -0.10525\n",
      "epoch: 03, loss: -0.10858\n",
      "epoch: 04, loss: -0.11027\n",
      "epoch: 05, loss: -0.10943\n",
      "epoch: 06, loss: -0.10989\n",
      "epoch: 07, loss: -0.11257\n",
      "epoch: 08, loss: -0.11012\n",
      "epoch: 09, loss: -0.11168\n",
      "torch.Size([525, 64])\n"
     ]
    },
    {
     "name": "stderr",
     "output_type": "stream",
     "text": [
      "\r",
      " 15%|████████████████████████                                                                                                                                       | 151/1000 [1:03:08<7:45:58, 32.93s/it]"
     ]
    },
    {
     "name": "stdout",
     "output_type": "stream",
     "text": [
      "eigenvalues shape torch.Size([5]) eigenvectors shape torch.Size([5, 525])\n",
      "151 /home/phdcs2/Hard_Disk/Datasets/Deep-Spectral-Segmentation/data/object-segmentation/ECSSD/features/dino_vits16/0152.pth\n",
      "dict_keys(['k', 'indices', 'file', 'id', 'model_name', 'patch_size', 'shape'])\n",
      "0152\n",
      "Starting Training\n",
      "epoch: 00, loss: -0.07212\n",
      "epoch: 01, loss: -0.09360\n",
      "epoch: 02, loss: -0.09558\n",
      "epoch: 03, loss: -0.09723\n",
      "epoch: 04, loss: -0.09728\n",
      "epoch: 05, loss: -0.09858\n",
      "epoch: 06, loss: -0.10155\n",
      "epoch: 07, loss: -0.10021\n",
      "epoch: 08, loss: -0.10102\n",
      "epoch: 09, loss: -0.09948\n",
      "torch.Size([450, 64])\n"
     ]
    },
    {
     "name": "stderr",
     "output_type": "stream",
     "text": [
      "\r",
      " 15%|████████████████████████▏                                                                                                                                      | 152/1000 [1:03:40<7:45:06, 32.91s/it]"
     ]
    },
    {
     "name": "stdout",
     "output_type": "stream",
     "text": [
      "eigenvalues shape torch.Size([5]) eigenvectors shape torch.Size([5, 450])\n",
      "152 /home/phdcs2/Hard_Disk/Datasets/Deep-Spectral-Segmentation/data/object-segmentation/ECSSD/features/dino_vits16/0153.pth\n",
      "dict_keys(['k', 'indices', 'file', 'id', 'model_name', 'patch_size', 'shape'])\n",
      "0153\n",
      "Starting Training\n",
      "epoch: 00, loss: -0.01033\n",
      "epoch: 01, loss: -0.02213\n",
      "epoch: 02, loss: -0.02516\n",
      "epoch: 03, loss: -0.02636\n",
      "epoch: 04, loss: -0.02691\n",
      "epoch: 05, loss: -0.02724\n",
      "epoch: 06, loss: -0.02752\n",
      "epoch: 07, loss: -0.02765\n",
      "epoch: 08, loss: -0.02790\n",
      "epoch: 09, loss: -0.02795\n",
      "torch.Size([450, 64])\n"
     ]
    },
    {
     "name": "stderr",
     "output_type": "stream",
     "text": [
      "\r",
      " 15%|████████████████████████▎                                                                                                                                      | 153/1000 [1:04:06<7:11:56, 30.60s/it]"
     ]
    },
    {
     "name": "stdout",
     "output_type": "stream",
     "text": [
      "eigenvalues shape torch.Size([5]) eigenvectors shape torch.Size([5, 450])\n",
      "153 /home/phdcs2/Hard_Disk/Datasets/Deep-Spectral-Segmentation/data/object-segmentation/ECSSD/features/dino_vits16/0154.pth\n",
      "dict_keys(['k', 'indices', 'file', 'id', 'model_name', 'patch_size', 'shape'])\n",
      "0154\n",
      "Starting Training\n",
      "epoch: 00, loss: -0.03550\n",
      "epoch: 01, loss: -0.05047\n",
      "epoch: 02, loss: -0.05193\n",
      "epoch: 03, loss: -0.05252\n",
      "epoch: 04, loss: -0.05274\n",
      "epoch: 05, loss: -0.05309\n",
      "epoch: 06, loss: -0.05308\n",
      "epoch: 07, loss: -0.05347\n",
      "epoch: 08, loss: -0.05342\n",
      "epoch: 09, loss: -0.05368\n",
      "torch.Size([450, 64])\n"
     ]
    },
    {
     "name": "stderr",
     "output_type": "stream",
     "text": [
      "\r",
      " 15%|████████████████████████▍                                                                                                                                      | 154/1000 [1:04:29<6:41:30, 28.48s/it]"
     ]
    },
    {
     "name": "stdout",
     "output_type": "stream",
     "text": [
      "eigenvalues shape torch.Size([5]) eigenvectors shape torch.Size([5, 450])\n",
      "154 /home/phdcs2/Hard_Disk/Datasets/Deep-Spectral-Segmentation/data/object-segmentation/ECSSD/features/dino_vits16/0155.pth\n",
      "dict_keys(['k', 'indices', 'file', 'id', 'model_name', 'patch_size', 'shape'])\n",
      "0155\n",
      "Starting Training\n",
      "epoch: 00, loss: -0.02026\n",
      "epoch: 01, loss: -0.03883\n",
      "epoch: 02, loss: -0.04069\n",
      "epoch: 03, loss: -0.04310\n",
      "epoch: 04, loss: -0.04284\n",
      "epoch: 05, loss: -0.04337\n",
      "epoch: 06, loss: -0.04769\n",
      "epoch: 07, loss: -0.04648\n",
      "epoch: 08, loss: -0.04812\n",
      "epoch: 09, loss: -0.04981\n",
      "torch.Size([475, 64])\n"
     ]
    },
    {
     "name": "stderr",
     "output_type": "stream",
     "text": [
      "\r",
      " 16%|████████████████████████▋                                                                                                                                      | 155/1000 [1:04:55<6:29:28, 27.66s/it]"
     ]
    },
    {
     "name": "stdout",
     "output_type": "stream",
     "text": [
      "eigenvalues shape torch.Size([5]) eigenvectors shape torch.Size([5, 475])\n",
      "155 /home/phdcs2/Hard_Disk/Datasets/Deep-Spectral-Segmentation/data/object-segmentation/ECSSD/features/dino_vits16/0156.pth\n",
      "dict_keys(['k', 'indices', 'file', 'id', 'model_name', 'patch_size', 'shape'])\n",
      "0156\n",
      "Starting Training\n",
      "epoch: 00, loss: -0.05530\n",
      "epoch: 01, loss: -0.07451\n",
      "epoch: 02, loss: -0.07546\n",
      "epoch: 03, loss: -0.07555\n",
      "epoch: 04, loss: -0.07609\n",
      "epoch: 05, loss: -0.07632\n",
      "epoch: 06, loss: -0.07668\n",
      "epoch: 07, loss: -0.07652\n",
      "epoch: 08, loss: -0.07665\n",
      "epoch: 09, loss: -0.07671\n",
      "torch.Size([400, 64])\n"
     ]
    },
    {
     "name": "stderr",
     "output_type": "stream",
     "text": [
      "\r",
      " 16%|████████████████████████▊                                                                                                                                      | 156/1000 [1:05:17<6:05:39, 25.99s/it]"
     ]
    },
    {
     "name": "stdout",
     "output_type": "stream",
     "text": [
      "eigenvalues shape torch.Size([5]) eigenvectors shape torch.Size([5, 400])\n",
      "156 /home/phdcs2/Hard_Disk/Datasets/Deep-Spectral-Segmentation/data/object-segmentation/ECSSD/features/dino_vits16/0157.pth\n",
      "dict_keys(['k', 'indices', 'file', 'id', 'model_name', 'patch_size', 'shape'])\n",
      "0157\n",
      "Starting Training\n",
      "epoch: 00, loss: -0.03085\n",
      "epoch: 01, loss: -0.05416\n",
      "epoch: 02, loss: -0.05524\n",
      "epoch: 03, loss: -0.05564\n",
      "epoch: 04, loss: -0.05556\n",
      "epoch: 05, loss: -0.05574\n",
      "epoch: 06, loss: -0.05668\n",
      "epoch: 07, loss: -0.05669\n",
      "epoch: 08, loss: -0.05692\n",
      "epoch: 09, loss: -0.05808\n",
      "torch.Size([375, 64])\n"
     ]
    },
    {
     "name": "stderr",
     "output_type": "stream",
     "text": [
      "\r",
      " 16%|████████████████████████▉                                                                                                                                      | 157/1000 [1:05:37<5:37:54, 24.05s/it]"
     ]
    },
    {
     "name": "stdout",
     "output_type": "stream",
     "text": [
      "eigenvalues shape torch.Size([5]) eigenvectors shape torch.Size([5, 375])\n",
      "157 /home/phdcs2/Hard_Disk/Datasets/Deep-Spectral-Segmentation/data/object-segmentation/ECSSD/features/dino_vits16/0158.pth\n",
      "dict_keys(['k', 'indices', 'file', 'id', 'model_name', 'patch_size', 'shape'])\n",
      "0158\n",
      "Starting Training\n",
      "epoch: 00, loss: -0.16956\n",
      "epoch: 01, loss: -0.19701\n",
      "epoch: 02, loss: -0.19895\n",
      "epoch: 03, loss: -0.19972\n",
      "epoch: 04, loss: -0.20151\n",
      "epoch: 05, loss: -0.20255\n",
      "epoch: 06, loss: -0.20388\n",
      "epoch: 07, loss: -0.20378\n",
      "epoch: 08, loss: -0.20469\n",
      "epoch: 09, loss: -0.20456\n",
      "torch.Size([300, 64])\n"
     ]
    },
    {
     "name": "stderr",
     "output_type": "stream",
     "text": [
      "\r",
      " 16%|█████████████████████████                                                                                                                                      | 158/1000 [1:05:55<5:15:26, 22.48s/it]"
     ]
    },
    {
     "name": "stdout",
     "output_type": "stream",
     "text": [
      "eigenvalues shape torch.Size([5]) eigenvectors shape torch.Size([5, 300])\n",
      "158 /home/phdcs2/Hard_Disk/Datasets/Deep-Spectral-Segmentation/data/object-segmentation/ECSSD/features/dino_vits16/0159.pth\n",
      "dict_keys(['k', 'indices', 'file', 'id', 'model_name', 'patch_size', 'shape'])\n",
      "0159\n",
      "Starting Training\n",
      "epoch: 00, loss: -0.04276\n",
      "epoch: 01, loss: -0.07422\n",
      "epoch: 02, loss: -0.08002\n",
      "epoch: 03, loss: -0.08130\n",
      "epoch: 04, loss: -0.08137\n",
      "epoch: 05, loss: -0.07946\n",
      "epoch: 06, loss: -0.08466\n",
      "epoch: 07, loss: -0.08399\n",
      "epoch: 08, loss: -0.08159\n",
      "epoch: 09, loss: -0.08353\n",
      "torch.Size([425, 64])\n"
     ]
    },
    {
     "name": "stderr",
     "output_type": "stream",
     "text": [
      "\r",
      " 16%|█████████████████████████▎                                                                                                                                     | 159/1000 [1:06:27<5:54:30, 25.29s/it]"
     ]
    },
    {
     "name": "stdout",
     "output_type": "stream",
     "text": [
      "eigenvalues shape torch.Size([5]) eigenvectors shape torch.Size([5, 425])\n",
      "159 /home/phdcs2/Hard_Disk/Datasets/Deep-Spectral-Segmentation/data/object-segmentation/ECSSD/features/dino_vits16/0160.pth\n",
      "dict_keys(['k', 'indices', 'file', 'id', 'model_name', 'patch_size', 'shape'])\n",
      "0160\n",
      "Starting Training\n",
      "epoch: 00, loss: -0.03691\n",
      "epoch: 01, loss: -0.05596\n",
      "epoch: 02, loss: -0.05743\n",
      "epoch: 03, loss: -0.05786\n",
      "epoch: 04, loss: -0.05812\n",
      "epoch: 05, loss: -0.05847\n",
      "epoch: 06, loss: -0.05867\n",
      "epoch: 07, loss: -0.05871\n",
      "epoch: 08, loss: -0.05903\n",
      "epoch: 09, loss: -0.05893\n",
      "torch.Size([400, 64])\n"
     ]
    },
    {
     "name": "stderr",
     "output_type": "stream",
     "text": [
      "\r",
      " 16%|█████████████████████████▍                                                                                                                                     | 160/1000 [1:06:49<5:38:51, 24.20s/it]"
     ]
    },
    {
     "name": "stdout",
     "output_type": "stream",
     "text": [
      "eigenvalues shape torch.Size([5]) eigenvectors shape torch.Size([5, 400])\n",
      "160 /home/phdcs2/Hard_Disk/Datasets/Deep-Spectral-Segmentation/data/object-segmentation/ECSSD/features/dino_vits16/0161.pth\n",
      "dict_keys(['k', 'indices', 'file', 'id', 'model_name', 'patch_size', 'shape'])\n",
      "0161\n",
      "Starting Training\n",
      "epoch: 00, loss: -0.00377\n",
      "epoch: 01, loss: -0.01706\n",
      "epoch: 02, loss: -0.02111\n",
      "epoch: 03, loss: -0.02255\n",
      "epoch: 04, loss: -0.02303\n",
      "epoch: 05, loss: -0.02335\n",
      "epoch: 06, loss: -0.02422\n",
      "epoch: 07, loss: -0.02428\n",
      "epoch: 08, loss: -0.02377\n",
      "epoch: 09, loss: -0.02415\n",
      "torch.Size([450, 64])\n"
     ]
    },
    {
     "name": "stderr",
     "output_type": "stream",
     "text": [
      "\r",
      " 16%|█████████████████████████▌                                                                                                                                     | 161/1000 [1:07:15<5:45:16, 24.69s/it]"
     ]
    },
    {
     "name": "stdout",
     "output_type": "stream",
     "text": [
      "eigenvalues shape torch.Size([5]) eigenvectors shape torch.Size([5, 450])\n",
      "161 /home/phdcs2/Hard_Disk/Datasets/Deep-Spectral-Segmentation/data/object-segmentation/ECSSD/features/dino_vits16/0162.pth\n",
      "dict_keys(['k', 'indices', 'file', 'id', 'model_name', 'patch_size', 'shape'])\n",
      "0162\n",
      "Starting Training\n",
      "epoch: 00, loss: -0.04500\n",
      "epoch: 01, loss: -0.06985\n",
      "epoch: 02, loss: -0.07055\n",
      "epoch: 03, loss: -0.07099\n",
      "epoch: 04, loss: -0.07100\n",
      "epoch: 05, loss: -0.07140\n",
      "epoch: 06, loss: -0.07153\n",
      "epoch: 07, loss: -0.07164\n",
      "epoch: 08, loss: -0.07169\n",
      "epoch: 09, loss: -0.07181\n",
      "torch.Size([450, 64])\n"
     ]
    },
    {
     "name": "stderr",
     "output_type": "stream",
     "text": [
      "\r",
      " 16%|█████████████████████████▊                                                                                                                                     | 162/1000 [1:07:41<5:51:52, 25.19s/it]"
     ]
    },
    {
     "name": "stdout",
     "output_type": "stream",
     "text": [
      "eigenvalues shape torch.Size([5]) eigenvectors shape torch.Size([5, 450])\n",
      "162 /home/phdcs2/Hard_Disk/Datasets/Deep-Spectral-Segmentation/data/object-segmentation/ECSSD/features/dino_vits16/0163.pth\n",
      "dict_keys(['k', 'indices', 'file', 'id', 'model_name', 'patch_size', 'shape'])\n",
      "0163\n",
      "Starting Training\n",
      "epoch: 00, loss: -0.05160\n",
      "epoch: 01, loss: -0.06695\n",
      "epoch: 02, loss: -0.06823\n",
      "epoch: 03, loss: -0.06785\n",
      "epoch: 04, loss: -0.06826\n",
      "epoch: 05, loss: -0.06854\n",
      "epoch: 06, loss: -0.06868\n",
      "epoch: 07, loss: -0.06869\n",
      "epoch: 08, loss: -0.06892\n",
      "epoch: 09, loss: -0.06893\n",
      "torch.Size([400, 64])\n"
     ]
    },
    {
     "name": "stderr",
     "output_type": "stream",
     "text": [
      "\r",
      " 16%|█████████████████████████▉                                                                                                                                     | 163/1000 [1:08:06<5:49:17, 25.04s/it]"
     ]
    },
    {
     "name": "stdout",
     "output_type": "stream",
     "text": [
      "eigenvalues shape torch.Size([5]) eigenvectors shape torch.Size([5, 400])\n",
      "163 /home/phdcs2/Hard_Disk/Datasets/Deep-Spectral-Segmentation/data/object-segmentation/ECSSD/features/dino_vits16/0164.pth\n",
      "dict_keys(['k', 'indices', 'file', 'id', 'model_name', 'patch_size', 'shape'])\n",
      "0164\n",
      "Starting Training\n",
      "epoch: 00, loss: -0.08791\n",
      "epoch: 01, loss: -0.10813\n",
      "epoch: 02, loss: -0.11300\n",
      "epoch: 03, loss: -0.11369\n",
      "epoch: 04, loss: -0.11451\n",
      "epoch: 05, loss: -0.11559\n",
      "epoch: 06, loss: -0.11599\n",
      "epoch: 07, loss: -0.11685\n",
      "epoch: 08, loss: -0.11549\n",
      "epoch: 09, loss: -0.11684\n",
      "torch.Size([550, 64])\n"
     ]
    },
    {
     "name": "stderr",
     "output_type": "stream",
     "text": [
      "\r",
      " 16%|██████████████████████████                                                                                                                                     | 164/1000 [1:08:51<7:13:02, 31.08s/it]"
     ]
    },
    {
     "name": "stdout",
     "output_type": "stream",
     "text": [
      "eigenvalues shape torch.Size([5]) eigenvectors shape torch.Size([5, 550])\n",
      "164 /home/phdcs2/Hard_Disk/Datasets/Deep-Spectral-Segmentation/data/object-segmentation/ECSSD/features/dino_vits16/0165.pth\n",
      "dict_keys(['k', 'indices', 'file', 'id', 'model_name', 'patch_size', 'shape'])\n",
      "0165\n",
      "Starting Training\n",
      "epoch: 00, loss: -0.13383\n",
      "epoch: 01, loss: -0.16935\n",
      "epoch: 02, loss: -0.17477\n",
      "epoch: 03, loss: -0.17651\n",
      "epoch: 04, loss: -0.17818\n",
      "epoch: 05, loss: -0.18229\n",
      "epoch: 06, loss: -0.18413\n",
      "epoch: 07, loss: -0.18341\n",
      "epoch: 08, loss: -0.18276\n",
      "epoch: 09, loss: -0.18036\n",
      "torch.Size([450, 64])\n"
     ]
    },
    {
     "name": "stderr",
     "output_type": "stream",
     "text": [
      "\r",
      " 16%|██████████████████████████▏                                                                                                                                    | 165/1000 [1:09:14<6:39:59, 28.74s/it]"
     ]
    },
    {
     "name": "stdout",
     "output_type": "stream",
     "text": [
      "eigenvalues shape torch.Size([5]) eigenvectors shape torch.Size([5, 450])\n",
      "165 /home/phdcs2/Hard_Disk/Datasets/Deep-Spectral-Segmentation/data/object-segmentation/ECSSD/features/dino_vits16/0166.pth\n",
      "dict_keys(['k', 'indices', 'file', 'id', 'model_name', 'patch_size', 'shape'])\n",
      "0166\n",
      "Starting Training\n",
      "epoch: 00, loss: -0.01626\n",
      "epoch: 01, loss: -0.04036\n",
      "epoch: 02, loss: -0.04405\n",
      "epoch: 03, loss: -0.04462\n",
      "epoch: 04, loss: -0.04545\n",
      "epoch: 05, loss: -0.04549\n",
      "epoch: 06, loss: -0.04560\n",
      "epoch: 07, loss: -0.04580\n",
      "epoch: 08, loss: -0.04624\n",
      "epoch: 09, loss: -0.04626\n",
      "torch.Size([400, 64])\n"
     ]
    },
    {
     "name": "stderr",
     "output_type": "stream",
     "text": [
      "\r",
      " 17%|██████████████████████████▍                                                                                                                                    | 166/1000 [1:09:42<6:37:04, 28.57s/it]"
     ]
    },
    {
     "name": "stdout",
     "output_type": "stream",
     "text": [
      "eigenvalues shape torch.Size([5]) eigenvectors shape torch.Size([5, 400])\n",
      "166 /home/phdcs2/Hard_Disk/Datasets/Deep-Spectral-Segmentation/data/object-segmentation/ECSSD/features/dino_vits16/0167.pth\n",
      "dict_keys(['k', 'indices', 'file', 'id', 'model_name', 'patch_size', 'shape'])\n",
      "0167\n",
      "Starting Training\n",
      "epoch: 00, loss: -0.03454\n",
      "epoch: 01, loss: -0.05083\n",
      "epoch: 02, loss: -0.05290\n",
      "epoch: 03, loss: -0.05281\n",
      "epoch: 04, loss: -0.05345\n",
      "epoch: 05, loss: -0.05336\n",
      "epoch: 06, loss: -0.05378\n",
      "epoch: 07, loss: -0.05417\n",
      "epoch: 08, loss: -0.05383\n",
      "epoch: 09, loss: -0.05415\n",
      "torch.Size([450, 64])\n"
     ]
    },
    {
     "name": "stderr",
     "output_type": "stream",
     "text": [
      "\r",
      " 17%|██████████████████████████▌                                                                                                                                    | 167/1000 [1:10:08<6:24:13, 27.68s/it]"
     ]
    },
    {
     "name": "stdout",
     "output_type": "stream",
     "text": [
      "eigenvalues shape torch.Size([5]) eigenvectors shape torch.Size([5, 450])\n",
      "167 /home/phdcs2/Hard_Disk/Datasets/Deep-Spectral-Segmentation/data/object-segmentation/ECSSD/features/dino_vits16/0168.pth\n",
      "dict_keys(['k', 'indices', 'file', 'id', 'model_name', 'patch_size', 'shape'])\n",
      "0168\n",
      "Starting Training\n",
      "epoch: 00, loss: -0.06600\n",
      "epoch: 01, loss: -0.09904\n",
      "epoch: 02, loss: -0.10395\n",
      "epoch: 03, loss: -0.10422\n",
      "epoch: 04, loss: -0.10523\n",
      "epoch: 05, loss: -0.10407\n",
      "epoch: 06, loss: -0.10673\n",
      "epoch: 07, loss: -0.10693\n",
      "epoch: 08, loss: -0.10619\n",
      "epoch: 09, loss: -0.10489\n",
      "torch.Size([400, 64])\n"
     ]
    },
    {
     "name": "stderr",
     "output_type": "stream",
     "text": [
      "\r",
      " 17%|██████████████████████████▋                                                                                                                                    | 168/1000 [1:10:34<6:15:04, 27.05s/it]"
     ]
    },
    {
     "name": "stdout",
     "output_type": "stream",
     "text": [
      "eigenvalues shape torch.Size([5]) eigenvectors shape torch.Size([5, 400])\n",
      "168 /home/phdcs2/Hard_Disk/Datasets/Deep-Spectral-Segmentation/data/object-segmentation/ECSSD/features/dino_vits16/0169.pth\n",
      "dict_keys(['k', 'indices', 'file', 'id', 'model_name', 'patch_size', 'shape'])\n",
      "0169\n",
      "Starting Training\n",
      "epoch: 00, loss: -0.02433\n",
      "epoch: 01, loss: -0.05494\n",
      "epoch: 02, loss: -0.05723\n",
      "epoch: 03, loss: -0.06080\n",
      "epoch: 04, loss: -0.06391\n",
      "epoch: 05, loss: -0.06539\n",
      "epoch: 06, loss: -0.06516\n",
      "epoch: 07, loss: -0.06517\n",
      "epoch: 08, loss: -0.06570\n",
      "epoch: 09, loss: -0.06820\n",
      "torch.Size([400, 64])\n"
     ]
    },
    {
     "name": "stderr",
     "output_type": "stream",
     "text": [
      "\r",
      " 17%|██████████████████████████▊                                                                                                                                    | 169/1000 [1:10:58<6:04:35, 26.32s/it]"
     ]
    },
    {
     "name": "stdout",
     "output_type": "stream",
     "text": [
      "eigenvalues shape torch.Size([5]) eigenvectors shape torch.Size([5, 400])\n",
      "169 /home/phdcs2/Hard_Disk/Datasets/Deep-Spectral-Segmentation/data/object-segmentation/ECSSD/features/dino_vits16/0170.pth\n",
      "dict_keys(['k', 'indices', 'file', 'id', 'model_name', 'patch_size', 'shape'])\n",
      "0170\n",
      "Starting Training\n",
      "epoch: 00, loss: -0.03577\n",
      "epoch: 01, loss: -0.06278\n",
      "epoch: 02, loss: -0.06403\n",
      "epoch: 03, loss: -0.06462\n",
      "epoch: 04, loss: -0.06450\n",
      "epoch: 05, loss: -0.06512\n",
      "epoch: 06, loss: -0.06515\n",
      "epoch: 07, loss: -0.06522\n",
      "epoch: 08, loss: -0.06535\n",
      "epoch: 09, loss: -0.06553\n",
      "torch.Size([450, 64])\n"
     ]
    },
    {
     "name": "stderr",
     "output_type": "stream",
     "text": [
      "\r",
      " 17%|███████████████████████████                                                                                                                                    | 170/1000 [1:11:29<6:21:32, 27.58s/it]"
     ]
    },
    {
     "name": "stdout",
     "output_type": "stream",
     "text": [
      "eigenvalues shape torch.Size([5]) eigenvectors shape torch.Size([5, 450])\n",
      "170 /home/phdcs2/Hard_Disk/Datasets/Deep-Spectral-Segmentation/data/object-segmentation/ECSSD/features/dino_vits16/0171.pth\n",
      "dict_keys(['k', 'indices', 'file', 'id', 'model_name', 'patch_size', 'shape'])\n",
      "0171\n",
      "Starting Training\n",
      "epoch: 00, loss: -0.04279\n",
      "epoch: 01, loss: -0.06342\n",
      "epoch: 02, loss: -0.06465\n",
      "epoch: 03, loss: -0.06536\n",
      "epoch: 04, loss: -0.06554\n",
      "epoch: 05, loss: -0.06388\n",
      "epoch: 06, loss: -0.06395\n",
      "epoch: 07, loss: -0.06609\n",
      "epoch: 08, loss: -0.06607\n",
      "epoch: 09, loss: -0.06459\n",
      "torch.Size([375, 64])\n"
     ]
    },
    {
     "name": "stderr",
     "output_type": "stream",
     "text": [
      "\r",
      " 17%|███████████████████████████▏                                                                                                                                   | 171/1000 [1:11:54<6:10:52, 26.84s/it]"
     ]
    },
    {
     "name": "stdout",
     "output_type": "stream",
     "text": [
      "eigenvalues shape torch.Size([5]) eigenvectors shape torch.Size([5, 375])\n",
      "171 /home/phdcs2/Hard_Disk/Datasets/Deep-Spectral-Segmentation/data/object-segmentation/ECSSD/features/dino_vits16/0172.pth\n",
      "dict_keys(['k', 'indices', 'file', 'id', 'model_name', 'patch_size', 'shape'])\n",
      "0172\n",
      "Starting Training\n",
      "epoch: 00, loss: -0.01902\n",
      "epoch: 01, loss: -0.04927\n",
      "epoch: 02, loss: -0.05427\n",
      "epoch: 03, loss: -0.05613\n",
      "epoch: 04, loss: -0.05477\n",
      "epoch: 05, loss: -0.05658\n",
      "epoch: 06, loss: -0.05648\n",
      "epoch: 07, loss: -0.05865\n",
      "epoch: 08, loss: -0.05739\n",
      "epoch: 09, loss: -0.05932\n",
      "torch.Size([375, 64])\n"
     ]
    },
    {
     "name": "stderr",
     "output_type": "stream",
     "text": [
      "\r",
      " 17%|███████████████████████████▎                                                                                                                                   | 172/1000 [1:12:21<6:12:29, 26.99s/it]"
     ]
    },
    {
     "name": "stdout",
     "output_type": "stream",
     "text": [
      "eigenvalues shape torch.Size([5]) eigenvectors shape torch.Size([5, 375])\n",
      "172 /home/phdcs2/Hard_Disk/Datasets/Deep-Spectral-Segmentation/data/object-segmentation/ECSSD/features/dino_vits16/0173.pth\n",
      "dict_keys(['k', 'indices', 'file', 'id', 'model_name', 'patch_size', 'shape'])\n",
      "0173\n",
      "Starting Training\n",
      "epoch: 00, loss: -0.06847\n",
      "epoch: 01, loss: -0.08716\n",
      "epoch: 02, loss: -0.08709\n",
      "epoch: 03, loss: -0.08748\n",
      "epoch: 04, loss: -0.08806\n",
      "epoch: 05, loss: -0.08808\n",
      "epoch: 06, loss: -0.08823\n",
      "epoch: 07, loss: -0.08830\n",
      "epoch: 08, loss: -0.08823\n",
      "epoch: 09, loss: -0.08871\n",
      "torch.Size([450, 64])\n"
     ]
    },
    {
     "name": "stderr",
     "output_type": "stream",
     "text": [
      "\r",
      " 17%|███████████████████████████▌                                                                                                                                   | 173/1000 [1:12:51<6:23:11, 27.80s/it]"
     ]
    },
    {
     "name": "stdout",
     "output_type": "stream",
     "text": [
      "eigenvalues shape torch.Size([5]) eigenvectors shape torch.Size([5, 450])\n",
      "173 /home/phdcs2/Hard_Disk/Datasets/Deep-Spectral-Segmentation/data/object-segmentation/ECSSD/features/dino_vits16/0174.pth\n",
      "dict_keys(['k', 'indices', 'file', 'id', 'model_name', 'patch_size', 'shape'])\n",
      "0174\n",
      "Starting Training\n",
      "epoch: 00, loss: -0.01565\n",
      "epoch: 01, loss: -0.04340\n",
      "epoch: 02, loss: -0.04749\n",
      "epoch: 03, loss: -0.04700\n",
      "epoch: 04, loss: -0.04796\n",
      "epoch: 05, loss: -0.04728\n",
      "epoch: 06, loss: -0.04798\n",
      "epoch: 07, loss: -0.04951\n",
      "epoch: 08, loss: -0.04787\n",
      "epoch: 09, loss: -0.04787\n",
      "torch.Size([375, 64])\n"
     ]
    },
    {
     "name": "stderr",
     "output_type": "stream",
     "text": [
      "\r",
      " 17%|███████████████████████████▋                                                                                                                                   | 174/1000 [1:13:11<5:49:33, 25.39s/it]"
     ]
    },
    {
     "name": "stdout",
     "output_type": "stream",
     "text": [
      "eigenvalues shape torch.Size([5]) eigenvectors shape torch.Size([5, 375])\n",
      "174 /home/phdcs2/Hard_Disk/Datasets/Deep-Spectral-Segmentation/data/object-segmentation/ECSSD/features/dino_vits16/0175.pth\n",
      "dict_keys(['k', 'indices', 'file', 'id', 'model_name', 'patch_size', 'shape'])\n",
      "0175\n",
      "Starting Training\n",
      "epoch: 00, loss: -0.01180\n",
      "epoch: 01, loss: -0.03340\n",
      "epoch: 02, loss: -0.03686\n",
      "epoch: 03, loss: -0.03788\n",
      "epoch: 04, loss: -0.03824\n",
      "epoch: 05, loss: -0.03851\n",
      "epoch: 06, loss: -0.03872\n",
      "epoch: 07, loss: -0.03891\n",
      "epoch: 08, loss: -0.03919\n",
      "epoch: 09, loss: -0.03922\n",
      "torch.Size([450, 64])\n"
     ]
    },
    {
     "name": "stderr",
     "output_type": "stream",
     "text": [
      "\r",
      " 18%|███████████████████████████▊                                                                                                                                   | 175/1000 [1:13:35<5:46:39, 25.21s/it]"
     ]
    },
    {
     "name": "stdout",
     "output_type": "stream",
     "text": [
      "eigenvalues shape torch.Size([5]) eigenvectors shape torch.Size([5, 450])\n",
      "175 /home/phdcs2/Hard_Disk/Datasets/Deep-Spectral-Segmentation/data/object-segmentation/ECSSD/features/dino_vits16/0176.pth\n",
      "dict_keys(['k', 'indices', 'file', 'id', 'model_name', 'patch_size', 'shape'])\n",
      "0176\n",
      "Starting Training\n",
      "epoch: 00, loss: -0.02503\n",
      "epoch: 01, loss: -0.03905\n",
      "epoch: 02, loss: -0.04545\n",
      "epoch: 03, loss: -0.04251\n",
      "epoch: 04, loss: -0.04624\n",
      "epoch: 05, loss: -0.04490\n",
      "epoch: 06, loss: -0.04491\n",
      "epoch: 07, loss: -0.04558\n",
      "epoch: 08, loss: -0.04642\n",
      "epoch: 09, loss: -0.04661\n",
      "torch.Size([550, 64])\n"
     ]
    },
    {
     "name": "stderr",
     "output_type": "stream",
     "text": [
      "\r",
      " 18%|███████████████████████████▉                                                                                                                                   | 176/1000 [1:14:10<6:25:33, 28.07s/it]"
     ]
    },
    {
     "name": "stdout",
     "output_type": "stream",
     "text": [
      "eigenvalues shape torch.Size([5]) eigenvectors shape torch.Size([5, 550])\n",
      "176 /home/phdcs2/Hard_Disk/Datasets/Deep-Spectral-Segmentation/data/object-segmentation/ECSSD/features/dino_vits16/0177.pth\n",
      "dict_keys(['k', 'indices', 'file', 'id', 'model_name', 'patch_size', 'shape'])\n",
      "0177\n",
      "Starting Training\n",
      "epoch: 00, loss: -0.03184\n",
      "epoch: 01, loss: -0.05802\n",
      "epoch: 02, loss: -0.06049\n",
      "epoch: 03, loss: -0.06090\n",
      "epoch: 04, loss: -0.06120\n",
      "epoch: 05, loss: -0.06186\n",
      "epoch: 06, loss: -0.06176\n",
      "epoch: 07, loss: -0.06201\n",
      "epoch: 08, loss: -0.06234\n",
      "epoch: 09, loss: -0.06238\n",
      "torch.Size([400, 64])\n"
     ]
    },
    {
     "name": "stderr",
     "output_type": "stream",
     "text": [
      "\r",
      " 18%|████████████████████████████▏                                                                                                                                  | 177/1000 [1:14:44<6:46:49, 29.66s/it]"
     ]
    },
    {
     "name": "stdout",
     "output_type": "stream",
     "text": [
      "eigenvalues shape torch.Size([5]) eigenvectors shape torch.Size([5, 400])\n",
      "177 /home/phdcs2/Hard_Disk/Datasets/Deep-Spectral-Segmentation/data/object-segmentation/ECSSD/features/dino_vits16/0178.pth\n",
      "dict_keys(['k', 'indices', 'file', 'id', 'model_name', 'patch_size', 'shape'])\n",
      "0178\n",
      "Starting Training\n",
      "epoch: 00, loss: -0.03304\n",
      "epoch: 01, loss: -0.06056\n",
      "epoch: 02, loss: -0.06387\n",
      "epoch: 03, loss: -0.06694\n",
      "epoch: 04, loss: -0.06895\n",
      "epoch: 05, loss: -0.06821\n",
      "epoch: 06, loss: -0.06742\n",
      "epoch: 07, loss: -0.06868\n",
      "epoch: 08, loss: -0.06853\n",
      "epoch: 09, loss: -0.07209\n",
      "torch.Size([450, 64])\n"
     ]
    },
    {
     "name": "stderr",
     "output_type": "stream",
     "text": [
      "\r",
      " 18%|████████████████████████████▎                                                                                                                                  | 178/1000 [1:15:09<6:28:15, 28.34s/it]"
     ]
    },
    {
     "name": "stdout",
     "output_type": "stream",
     "text": [
      "eigenvalues shape torch.Size([5]) eigenvectors shape torch.Size([5, 450])\n",
      "178 /home/phdcs2/Hard_Disk/Datasets/Deep-Spectral-Segmentation/data/object-segmentation/ECSSD/features/dino_vits16/0179.pth\n",
      "dict_keys(['k', 'indices', 'file', 'id', 'model_name', 'patch_size', 'shape'])\n",
      "0179\n",
      "Starting Training\n",
      "epoch: 00, loss: -0.03842\n",
      "epoch: 01, loss: -0.06998\n",
      "epoch: 02, loss: -0.07320\n",
      "epoch: 03, loss: -0.07452\n",
      "epoch: 04, loss: -0.07457\n",
      "epoch: 05, loss: -0.07413\n",
      "epoch: 06, loss: -0.07799\n",
      "epoch: 07, loss: -0.07885\n",
      "epoch: 08, loss: -0.07779\n",
      "epoch: 09, loss: -0.07789\n",
      "torch.Size([400, 64])\n"
     ]
    },
    {
     "name": "stderr",
     "output_type": "stream",
     "text": [
      "\r",
      " 18%|████████████████████████████▍                                                                                                                                  | 179/1000 [1:15:29<5:54:51, 25.93s/it]"
     ]
    },
    {
     "name": "stdout",
     "output_type": "stream",
     "text": [
      "eigenvalues shape torch.Size([5]) eigenvectors shape torch.Size([5, 400])\n",
      "179 /home/phdcs2/Hard_Disk/Datasets/Deep-Spectral-Segmentation/data/object-segmentation/ECSSD/features/dino_vits16/0180.pth\n",
      "dict_keys(['k', 'indices', 'file', 'id', 'model_name', 'patch_size', 'shape'])\n",
      "0180\n",
      "Starting Training\n",
      "epoch: 00, loss: -0.06831\n",
      "epoch: 01, loss: -0.09464\n",
      "epoch: 02, loss: -0.09473\n",
      "epoch: 03, loss: -0.09690\n",
      "epoch: 04, loss: -0.09860\n",
      "epoch: 05, loss: -0.09779\n",
      "epoch: 06, loss: -0.09788\n",
      "epoch: 07, loss: -0.10010\n",
      "epoch: 08, loss: -0.10073\n",
      "epoch: 09, loss: -0.10053\n",
      "torch.Size([400, 64])\n"
     ]
    },
    {
     "name": "stderr",
     "output_type": "stream",
     "text": [
      "\r",
      " 18%|████████████████████████████▌                                                                                                                                  | 180/1000 [1:15:56<5:56:22, 26.08s/it]"
     ]
    },
    {
     "name": "stdout",
     "output_type": "stream",
     "text": [
      "eigenvalues shape torch.Size([5]) eigenvectors shape torch.Size([5, 400])\n",
      "180 /home/phdcs2/Hard_Disk/Datasets/Deep-Spectral-Segmentation/data/object-segmentation/ECSSD/features/dino_vits16/0181.pth\n",
      "dict_keys(['k', 'indices', 'file', 'id', 'model_name', 'patch_size', 'shape'])\n",
      "0181\n",
      "Starting Training\n",
      "epoch: 00, loss: -0.03604\n",
      "epoch: 01, loss: -0.06182\n",
      "epoch: 02, loss: -0.06996\n",
      "epoch: 03, loss: -0.07043\n",
      "epoch: 04, loss: -0.06975\n",
      "epoch: 05, loss: -0.07116\n",
      "epoch: 06, loss: -0.07136\n",
      "epoch: 07, loss: -0.07425\n",
      "epoch: 08, loss: -0.07443\n",
      "epoch: 09, loss: -0.07446\n",
      "torch.Size([375, 64])\n"
     ]
    },
    {
     "name": "stderr",
     "output_type": "stream",
     "text": [
      "\r",
      " 18%|████████████████████████████▊                                                                                                                                  | 181/1000 [1:16:19<5:45:48, 25.33s/it]"
     ]
    },
    {
     "name": "stdout",
     "output_type": "stream",
     "text": [
      "eigenvalues shape torch.Size([5]) eigenvectors shape torch.Size([5, 375])\n",
      "181 /home/phdcs2/Hard_Disk/Datasets/Deep-Spectral-Segmentation/data/object-segmentation/ECSSD/features/dino_vits16/0182.pth\n",
      "dict_keys(['k', 'indices', 'file', 'id', 'model_name', 'patch_size', 'shape'])\n",
      "0182\n",
      "Starting Training\n",
      "epoch: 00, loss: -0.04489\n",
      "epoch: 01, loss: -0.06197\n",
      "epoch: 02, loss: -0.06410\n",
      "epoch: 03, loss: -0.06929\n",
      "epoch: 04, loss: -0.06745\n",
      "epoch: 05, loss: -0.06874\n",
      "epoch: 06, loss: -0.06993\n",
      "epoch: 07, loss: -0.06744\n",
      "epoch: 08, loss: -0.07003\n",
      "epoch: 09, loss: -0.07009\n",
      "torch.Size([625, 64])\n"
     ]
    },
    {
     "name": "stderr",
     "output_type": "stream",
     "text": [
      "\r",
      " 18%|████████████████████████████▉                                                                                                                                  | 182/1000 [1:17:11<7:34:30, 33.34s/it]"
     ]
    },
    {
     "name": "stdout",
     "output_type": "stream",
     "text": [
      "eigenvalues shape torch.Size([5]) eigenvectors shape torch.Size([5, 625])\n",
      "182 /home/phdcs2/Hard_Disk/Datasets/Deep-Spectral-Segmentation/data/object-segmentation/ECSSD/features/dino_vits16/0183.pth\n",
      "dict_keys(['k', 'indices', 'file', 'id', 'model_name', 'patch_size', 'shape'])\n",
      "0183\n",
      "Starting Training\n",
      "epoch: 00, loss: -0.00354\n",
      "epoch: 01, loss: -0.01940\n",
      "epoch: 02, loss: -0.02560\n",
      "epoch: 03, loss: -0.02721\n",
      "epoch: 04, loss: -0.02868\n",
      "epoch: 05, loss: -0.02965\n",
      "epoch: 06, loss: -0.03107\n",
      "epoch: 07, loss: -0.02945\n",
      "epoch: 08, loss: -0.02982\n",
      "epoch: 09, loss: -0.03070\n",
      "torch.Size([400, 64])\n"
     ]
    },
    {
     "name": "stderr",
     "output_type": "stream",
     "text": [
      "\r",
      " 18%|█████████████████████████████                                                                                                                                  | 183/1000 [1:17:35<6:53:31, 30.37s/it]"
     ]
    },
    {
     "name": "stdout",
     "output_type": "stream",
     "text": [
      "eigenvalues shape torch.Size([5]) eigenvectors shape torch.Size([5, 400])\n",
      "183 /home/phdcs2/Hard_Disk/Datasets/Deep-Spectral-Segmentation/data/object-segmentation/ECSSD/features/dino_vits16/0184.pth\n",
      "dict_keys(['k', 'indices', 'file', 'id', 'model_name', 'patch_size', 'shape'])\n",
      "0184\n",
      "Starting Training\n",
      "epoch: 00, loss: -0.06382\n",
      "epoch: 01, loss: -0.08444\n",
      "epoch: 02, loss: -0.08348\n",
      "epoch: 03, loss: -0.08393\n",
      "epoch: 04, loss: -0.08555\n",
      "epoch: 05, loss: -0.08461\n",
      "epoch: 06, loss: -0.08460\n",
      "epoch: 07, loss: -0.08533\n",
      "epoch: 08, loss: -0.08478\n",
      "epoch: 09, loss: -0.08598\n",
      "torch.Size([625, 64])\n"
     ]
    },
    {
     "name": "stderr",
     "output_type": "stream",
     "text": [
      "\r",
      " 18%|█████████████████████████████▎                                                                                                                                 | 184/1000 [1:18:26<8:18:54, 36.68s/it]"
     ]
    },
    {
     "name": "stdout",
     "output_type": "stream",
     "text": [
      "eigenvalues shape torch.Size([5]) eigenvectors shape torch.Size([5, 625])\n",
      "184 /home/phdcs2/Hard_Disk/Datasets/Deep-Spectral-Segmentation/data/object-segmentation/ECSSD/features/dino_vits16/0185.pth\n",
      "dict_keys(['k', 'indices', 'file', 'id', 'model_name', 'patch_size', 'shape'])\n",
      "0185\n",
      "Starting Training\n",
      "epoch: 00, loss: -0.02824\n",
      "epoch: 01, loss: -0.04615\n",
      "epoch: 02, loss: -0.04620\n",
      "epoch: 03, loss: -0.04629\n",
      "epoch: 04, loss: -0.04692\n",
      "epoch: 05, loss: -0.04719\n",
      "epoch: 06, loss: -0.04791\n",
      "epoch: 07, loss: -0.04729\n",
      "epoch: 08, loss: -0.04820\n",
      "epoch: 09, loss: -0.04756\n",
      "torch.Size([625, 64])\n"
     ]
    },
    {
     "name": "stderr",
     "output_type": "stream",
     "text": [
      "\r",
      " 18%|█████████████████████████████▍                                                                                                                                 | 185/1000 [1:19:19<9:22:55, 41.44s/it]"
     ]
    },
    {
     "name": "stdout",
     "output_type": "stream",
     "text": [
      "eigenvalues shape torch.Size([5]) eigenvectors shape torch.Size([5, 625])\n",
      "185 /home/phdcs2/Hard_Disk/Datasets/Deep-Spectral-Segmentation/data/object-segmentation/ECSSD/features/dino_vits16/0186.pth\n",
      "dict_keys(['k', 'indices', 'file', 'id', 'model_name', 'patch_size', 'shape'])\n",
      "0186\n",
      "Starting Training\n",
      "epoch: 00, loss: -0.01956\n",
      "epoch: 01, loss: -0.03482\n",
      "epoch: 02, loss: -0.03681\n",
      "epoch: 03, loss: -0.03685\n",
      "epoch: 04, loss: -0.03732\n",
      "epoch: 05, loss: -0.03827\n",
      "epoch: 06, loss: -0.03799\n",
      "epoch: 07, loss: -0.03793\n",
      "epoch: 08, loss: -0.03798\n",
      "epoch: 09, loss: -0.03798\n",
      "torch.Size([625, 64])\n"
     ]
    },
    {
     "name": "stderr",
     "output_type": "stream",
     "text": [
      "\r",
      " 19%|█████████████████████████████▌                                                                                                                                 | 186/1000 [1:20:08<9:52:46, 43.69s/it]"
     ]
    },
    {
     "name": "stdout",
     "output_type": "stream",
     "text": [
      "eigenvalues shape torch.Size([5]) eigenvectors shape torch.Size([5, 625])\n",
      "186 /home/phdcs2/Hard_Disk/Datasets/Deep-Spectral-Segmentation/data/object-segmentation/ECSSD/features/dino_vits16/0187.pth\n",
      "dict_keys(['k', 'indices', 'file', 'id', 'model_name', 'patch_size', 'shape'])\n",
      "0187\n",
      "Starting Training\n",
      "epoch: 00, loss: 0.00804\n",
      "epoch: 01, loss: -0.00313\n",
      "epoch: 02, loss: -0.00838\n",
      "epoch: 03, loss: -0.01312\n",
      "epoch: 04, loss: -0.01516\n",
      "epoch: 05, loss: -0.01729\n",
      "epoch: 06, loss: -0.01815\n",
      "epoch: 07, loss: -0.01907\n",
      "epoch: 08, loss: -0.01986\n",
      "epoch: 09, loss: -0.02062\n",
      "torch.Size([200, 64])\n"
     ]
    },
    {
     "name": "stderr",
     "output_type": "stream",
     "text": [
      "\r",
      " 19%|█████████████████████████████▋                                                                                                                                 | 187/1000 [1:20:20<7:44:33, 34.28s/it]"
     ]
    },
    {
     "name": "stdout",
     "output_type": "stream",
     "text": [
      "eigenvalues shape torch.Size([5]) eigenvectors shape torch.Size([5, 200])\n",
      "187 /home/phdcs2/Hard_Disk/Datasets/Deep-Spectral-Segmentation/data/object-segmentation/ECSSD/features/dino_vits16/0188.pth\n",
      "dict_keys(['k', 'indices', 'file', 'id', 'model_name', 'patch_size', 'shape'])\n",
      "0188\n",
      "Starting Training\n",
      "epoch: 00, loss: -0.01950\n",
      "epoch: 01, loss: -0.03740\n",
      "epoch: 02, loss: -0.04093\n",
      "epoch: 03, loss: -0.04150\n",
      "epoch: 04, loss: -0.04194\n",
      "epoch: 05, loss: -0.04237\n",
      "epoch: 06, loss: -0.04249\n",
      "epoch: 07, loss: -0.04287\n",
      "epoch: 08, loss: -0.04272\n",
      "epoch: 09, loss: -0.04290\n",
      "torch.Size([400, 64])\n"
     ]
    },
    {
     "name": "stderr",
     "output_type": "stream",
     "text": [
      "\r",
      " 19%|█████████████████████████████▉                                                                                                                                 | 188/1000 [1:20:45<7:05:28, 31.44s/it]"
     ]
    },
    {
     "name": "stdout",
     "output_type": "stream",
     "text": [
      "eigenvalues shape torch.Size([5]) eigenvectors shape torch.Size([5, 400])\n",
      "188 /home/phdcs2/Hard_Disk/Datasets/Deep-Spectral-Segmentation/data/object-segmentation/ECSSD/features/dino_vits16/0189.pth\n",
      "dict_keys(['k', 'indices', 'file', 'id', 'model_name', 'patch_size', 'shape'])\n",
      "0189\n",
      "Starting Training\n",
      "epoch: 00, loss: -0.01900\n",
      "epoch: 01, loss: -0.04053\n",
      "epoch: 02, loss: -0.04770\n",
      "epoch: 03, loss: -0.04833\n",
      "epoch: 04, loss: -0.05180\n",
      "epoch: 05, loss: -0.05277\n",
      "epoch: 06, loss: -0.05130\n",
      "epoch: 07, loss: -0.05319\n",
      "epoch: 08, loss: -0.05150\n",
      "epoch: 09, loss: -0.05343\n",
      "torch.Size([400, 64])\n"
     ]
    },
    {
     "name": "stderr",
     "output_type": "stream",
     "text": [
      "\r",
      " 19%|██████████████████████████████                                                                                                                                 | 189/1000 [1:21:06<6:24:29, 28.45s/it]"
     ]
    },
    {
     "name": "stdout",
     "output_type": "stream",
     "text": [
      "eigenvalues shape torch.Size([5]) eigenvectors shape torch.Size([5, 400])\n",
      "189 /home/phdcs2/Hard_Disk/Datasets/Deep-Spectral-Segmentation/data/object-segmentation/ECSSD/features/dino_vits16/0190.pth\n",
      "dict_keys(['k', 'indices', 'file', 'id', 'model_name', 'patch_size', 'shape'])\n",
      "0190\n",
      "Starting Training\n",
      "epoch: 00, loss: -0.03514\n",
      "epoch: 01, loss: -0.06061\n",
      "epoch: 02, loss: -0.06196\n",
      "epoch: 03, loss: -0.06419\n",
      "epoch: 04, loss: -0.06211\n",
      "epoch: 05, loss: -0.06209\n",
      "epoch: 06, loss: -0.06138\n",
      "epoch: 07, loss: -0.06143\n",
      "epoch: 08, loss: -0.06364\n",
      "epoch: 09, loss: -0.06254\n",
      "torch.Size([450, 64])\n"
     ]
    },
    {
     "name": "stderr",
     "output_type": "stream",
     "text": [
      "\r",
      " 19%|██████████████████████████████▏                                                                                                                                | 190/1000 [1:21:40<6:45:50, 30.06s/it]"
     ]
    },
    {
     "name": "stdout",
     "output_type": "stream",
     "text": [
      "eigenvalues shape torch.Size([5]) eigenvectors shape torch.Size([5, 450])\n",
      "190 /home/phdcs2/Hard_Disk/Datasets/Deep-Spectral-Segmentation/data/object-segmentation/ECSSD/features/dino_vits16/0191.pth\n",
      "dict_keys(['k', 'indices', 'file', 'id', 'model_name', 'patch_size', 'shape'])\n",
      "0191\n",
      "Starting Training\n",
      "epoch: 00, loss: -0.03252\n",
      "epoch: 01, loss: -0.05700\n",
      "epoch: 02, loss: -0.05884\n",
      "epoch: 03, loss: -0.05909\n",
      "epoch: 04, loss: -0.05915\n",
      "epoch: 05, loss: -0.05938\n",
      "epoch: 06, loss: -0.05996\n",
      "epoch: 07, loss: -0.06017\n",
      "epoch: 08, loss: -0.06031\n",
      "epoch: 09, loss: -0.06040\n",
      "torch.Size([450, 64])\n"
     ]
    },
    {
     "name": "stderr",
     "output_type": "stream",
     "text": [
      "\r",
      " 19%|██████████████████████████████▎                                                                                                                                | 191/1000 [1:22:05<6:25:03, 28.56s/it]"
     ]
    },
    {
     "name": "stdout",
     "output_type": "stream",
     "text": [
      "eigenvalues shape torch.Size([5]) eigenvectors shape torch.Size([5, 450])\n",
      "191 /home/phdcs2/Hard_Disk/Datasets/Deep-Spectral-Segmentation/data/object-segmentation/ECSSD/features/dino_vits16/0192.pth\n",
      "dict_keys(['k', 'indices', 'file', 'id', 'model_name', 'patch_size', 'shape'])\n",
      "0192\n",
      "Starting Training\n",
      "epoch: 00, loss: -0.04181\n",
      "epoch: 01, loss: -0.06967\n",
      "epoch: 02, loss: -0.07039\n",
      "epoch: 03, loss: -0.07095\n",
      "epoch: 04, loss: -0.07229\n",
      "epoch: 05, loss: -0.07111\n",
      "epoch: 06, loss: -0.07140\n",
      "epoch: 07, loss: -0.07226\n",
      "epoch: 08, loss: -0.07219\n",
      "epoch: 09, loss: -0.07238\n",
      "torch.Size([400, 64])\n"
     ]
    },
    {
     "name": "stderr",
     "output_type": "stream",
     "text": [
      "\r",
      " 19%|██████████████████████████████▌                                                                                                                                | 192/1000 [1:22:33<6:22:06, 28.37s/it]"
     ]
    },
    {
     "name": "stdout",
     "output_type": "stream",
     "text": [
      "eigenvalues shape torch.Size([5]) eigenvectors shape torch.Size([5, 400])\n",
      "192 /home/phdcs2/Hard_Disk/Datasets/Deep-Spectral-Segmentation/data/object-segmentation/ECSSD/features/dino_vits16/0193.pth\n",
      "dict_keys(['k', 'indices', 'file', 'id', 'model_name', 'patch_size', 'shape'])\n",
      "0193\n",
      "Starting Training\n",
      "epoch: 00, loss: -0.00154\n",
      "epoch: 01, loss: -0.02898\n",
      "epoch: 02, loss: -0.03599\n",
      "epoch: 03, loss: -0.03848\n",
      "epoch: 04, loss: -0.04000\n",
      "epoch: 05, loss: -0.04050\n",
      "epoch: 06, loss: -0.03973\n",
      "epoch: 07, loss: -0.03710\n",
      "epoch: 08, loss: -0.04247\n",
      "epoch: 09, loss: -0.03966\n",
      "torch.Size([450, 64])\n"
     ]
    },
    {
     "name": "stderr",
     "output_type": "stream",
     "text": [
      "\r",
      " 19%|██████████████████████████████▋                                                                                                                                | 193/1000 [1:23:03<6:27:14, 28.79s/it]"
     ]
    },
    {
     "name": "stdout",
     "output_type": "stream",
     "text": [
      "eigenvalues shape torch.Size([5]) eigenvectors shape torch.Size([5, 450])\n",
      "193 /home/phdcs2/Hard_Disk/Datasets/Deep-Spectral-Segmentation/data/object-segmentation/ECSSD/features/dino_vits16/0194.pth\n",
      "dict_keys(['k', 'indices', 'file', 'id', 'model_name', 'patch_size', 'shape'])\n",
      "0194\n",
      "Starting Training\n",
      "epoch: 00, loss: -0.01012\n",
      "epoch: 01, loss: -0.02336\n",
      "epoch: 02, loss: -0.02705\n",
      "epoch: 03, loss: -0.02826\n",
      "epoch: 04, loss: -0.02884\n",
      "epoch: 05, loss: -0.02923\n",
      "epoch: 06, loss: -0.02920\n",
      "epoch: 07, loss: -0.02956\n",
      "epoch: 08, loss: -0.02966\n",
      "epoch: 09, loss: -0.02982\n",
      "torch.Size([450, 64])\n"
     ]
    },
    {
     "name": "stderr",
     "output_type": "stream",
     "text": [
      "\r",
      " 19%|██████████████████████████████▊                                                                                                                                | 194/1000 [1:23:32<6:29:05, 28.96s/it]"
     ]
    },
    {
     "name": "stdout",
     "output_type": "stream",
     "text": [
      "eigenvalues shape torch.Size([5]) eigenvectors shape torch.Size([5, 450])\n",
      "194 /home/phdcs2/Hard_Disk/Datasets/Deep-Spectral-Segmentation/data/object-segmentation/ECSSD/features/dino_vits16/0195.pth\n",
      "dict_keys(['k', 'indices', 'file', 'id', 'model_name', 'patch_size', 'shape'])\n",
      "0195\n",
      "Starting Training\n",
      "epoch: 00, loss: -0.06682\n",
      "epoch: 01, loss: -0.09492\n",
      "epoch: 02, loss: -0.09654\n",
      "epoch: 03, loss: -0.09918\n",
      "epoch: 04, loss: -0.09846\n",
      "epoch: 05, loss: -0.10193\n",
      "epoch: 06, loss: -0.10051\n",
      "epoch: 07, loss: -0.10190\n",
      "epoch: 08, loss: -0.10424\n",
      "epoch: 09, loss: -0.10015\n",
      "torch.Size([400, 64])\n"
     ]
    },
    {
     "name": "stderr",
     "output_type": "stream",
     "text": [
      "\r",
      " 20%|███████████████████████████████                                                                                                                                | 195/1000 [1:23:56<6:07:05, 27.36s/it]"
     ]
    },
    {
     "name": "stdout",
     "output_type": "stream",
     "text": [
      "eigenvalues shape torch.Size([5]) eigenvectors shape torch.Size([5, 400])\n",
      "195 /home/phdcs2/Hard_Disk/Datasets/Deep-Spectral-Segmentation/data/object-segmentation/ECSSD/features/dino_vits16/0196.pth\n",
      "dict_keys(['k', 'indices', 'file', 'id', 'model_name', 'patch_size', 'shape'])\n",
      "0196\n",
      "Starting Training\n",
      "epoch: 00, loss: -0.03021\n",
      "epoch: 01, loss: -0.04997\n",
      "epoch: 02, loss: -0.05104\n",
      "epoch: 03, loss: -0.05182\n",
      "epoch: 04, loss: -0.05225\n",
      "epoch: 05, loss: -0.05244\n",
      "epoch: 06, loss: -0.05142\n",
      "epoch: 07, loss: -0.05234\n",
      "epoch: 08, loss: -0.05174\n",
      "epoch: 09, loss: -0.05259\n",
      "torch.Size([625, 64])\n"
     ]
    },
    {
     "name": "stderr",
     "output_type": "stream",
     "text": [
      "\r",
      " 20%|███████████████████████████████▏                                                                                                                               | 196/1000 [1:24:48<7:45:44, 34.76s/it]"
     ]
    },
    {
     "name": "stdout",
     "output_type": "stream",
     "text": [
      "eigenvalues shape torch.Size([5]) eigenvectors shape torch.Size([5, 625])\n",
      "196 /home/phdcs2/Hard_Disk/Datasets/Deep-Spectral-Segmentation/data/object-segmentation/ECSSD/features/dino_vits16/0197.pth\n",
      "dict_keys(['k', 'indices', 'file', 'id', 'model_name', 'patch_size', 'shape'])\n",
      "0197\n",
      "Starting Training\n",
      "epoch: 00, loss: -0.14033\n",
      "epoch: 01, loss: -0.17142\n",
      "epoch: 02, loss: -0.17604\n",
      "epoch: 03, loss: -0.17910\n",
      "epoch: 04, loss: -0.17824\n",
      "epoch: 05, loss: -0.17981\n",
      "epoch: 06, loss: -0.18105\n",
      "epoch: 07, loss: -0.18182\n",
      "epoch: 08, loss: -0.18339\n",
      "epoch: 09, loss: -0.18374\n",
      "torch.Size([400, 64])\n"
     ]
    },
    {
     "name": "stderr",
     "output_type": "stream",
     "text": [
      "\r",
      " 20%|███████████████████████████████▎                                                                                                                               | 197/1000 [1:25:07<6:43:51, 30.18s/it]"
     ]
    },
    {
     "name": "stdout",
     "output_type": "stream",
     "text": [
      "eigenvalues shape torch.Size([5]) eigenvectors shape torch.Size([5, 400])\n",
      "197 /home/phdcs2/Hard_Disk/Datasets/Deep-Spectral-Segmentation/data/object-segmentation/ECSSD/features/dino_vits16/0198.pth\n",
      "dict_keys(['k', 'indices', 'file', 'id', 'model_name', 'patch_size', 'shape'])\n",
      "0198\n",
      "Starting Training\n",
      "epoch: 00, loss: -0.00817\n",
      "epoch: 01, loss: -0.01915\n",
      "epoch: 02, loss: -0.02188\n",
      "epoch: 03, loss: -0.02353\n",
      "epoch: 04, loss: -0.02301\n",
      "epoch: 05, loss: -0.02326\n",
      "epoch: 06, loss: -0.02508\n",
      "epoch: 07, loss: -0.02360\n",
      "epoch: 08, loss: -0.02416\n",
      "epoch: 09, loss: -0.02383\n",
      "torch.Size([425, 64])\n"
     ]
    },
    {
     "name": "stderr",
     "output_type": "stream",
     "text": [
      "\r",
      " 20%|███████████████████████████████▍                                                                                                                               | 198/1000 [1:25:34<6:28:40, 29.08s/it]"
     ]
    },
    {
     "name": "stdout",
     "output_type": "stream",
     "text": [
      "eigenvalues shape torch.Size([5]) eigenvectors shape torch.Size([5, 425])\n",
      "198 /home/phdcs2/Hard_Disk/Datasets/Deep-Spectral-Segmentation/data/object-segmentation/ECSSD/features/dino_vits16/0199.pth\n",
      "dict_keys(['k', 'indices', 'file', 'id', 'model_name', 'patch_size', 'shape'])\n",
      "0199\n",
      "Starting Training\n",
      "epoch: 00, loss: -0.02599\n",
      "epoch: 01, loss: -0.04490\n",
      "epoch: 02, loss: -0.04695\n",
      "epoch: 03, loss: -0.04704\n",
      "epoch: 04, loss: -0.04774\n",
      "epoch: 05, loss: -0.04750\n",
      "epoch: 06, loss: -0.04806\n",
      "epoch: 07, loss: -0.04816\n",
      "epoch: 08, loss: -0.04806\n",
      "epoch: 09, loss: -0.04829\n",
      "torch.Size([450, 64])\n"
     ]
    },
    {
     "name": "stderr",
     "output_type": "stream",
     "text": [
      "\r",
      " 20%|███████████████████████████████▋                                                                                                                               | 199/1000 [1:25:59<6:11:53, 27.86s/it]"
     ]
    },
    {
     "name": "stdout",
     "output_type": "stream",
     "text": [
      "eigenvalues shape torch.Size([5]) eigenvectors shape torch.Size([5, 450])\n",
      "199 /home/phdcs2/Hard_Disk/Datasets/Deep-Spectral-Segmentation/data/object-segmentation/ECSSD/features/dino_vits16/0200.pth\n",
      "dict_keys(['k', 'indices', 'file', 'id', 'model_name', 'patch_size', 'shape'])\n",
      "0200\n",
      "Starting Training\n",
      "epoch: 00, loss: -0.01617\n",
      "epoch: 01, loss: -0.04260\n",
      "epoch: 02, loss: -0.04548\n",
      "epoch: 03, loss: -0.04623\n",
      "epoch: 04, loss: -0.04664\n",
      "epoch: 05, loss: -0.04679\n",
      "epoch: 06, loss: -0.04695\n",
      "epoch: 07, loss: -0.04708\n",
      "epoch: 08, loss: -0.04726\n",
      "epoch: 09, loss: -0.04727\n",
      "torch.Size([450, 64])\n"
     ]
    },
    {
     "name": "stderr",
     "output_type": "stream",
     "text": [
      "\r",
      " 20%|███████████████████████████████▊                                                                                                                               | 200/1000 [1:26:23<5:57:52, 26.84s/it]"
     ]
    },
    {
     "name": "stdout",
     "output_type": "stream",
     "text": [
      "eigenvalues shape torch.Size([5]) eigenvectors shape torch.Size([5, 450])\n",
      "200 /home/phdcs2/Hard_Disk/Datasets/Deep-Spectral-Segmentation/data/object-segmentation/ECSSD/features/dino_vits16/0201.pth\n",
      "dict_keys(['k', 'indices', 'file', 'id', 'model_name', 'patch_size', 'shape'])\n",
      "0201\n",
      "Starting Training\n",
      "epoch: 00, loss: -0.05217\n",
      "epoch: 01, loss: -0.08164\n",
      "epoch: 02, loss: -0.08608\n",
      "epoch: 03, loss: -0.08559\n",
      "epoch: 04, loss: -0.08706\n",
      "epoch: 05, loss: -0.08930\n",
      "epoch: 06, loss: -0.08907\n",
      "epoch: 07, loss: -0.09037\n",
      "epoch: 08, loss: -0.09140\n",
      "epoch: 09, loss: -0.08841\n",
      "torch.Size([425, 64])\n"
     ]
    },
    {
     "name": "stderr",
     "output_type": "stream",
     "text": [
      "\r",
      " 20%|███████████████████████████████▉                                                                                                                               | 201/1000 [1:26:44<5:34:13, 25.10s/it]"
     ]
    },
    {
     "name": "stdout",
     "output_type": "stream",
     "text": [
      "eigenvalues shape torch.Size([5]) eigenvectors shape torch.Size([5, 425])\n",
      "201 /home/phdcs2/Hard_Disk/Datasets/Deep-Spectral-Segmentation/data/object-segmentation/ECSSD/features/dino_vits16/0202.pth\n",
      "dict_keys(['k', 'indices', 'file', 'id', 'model_name', 'patch_size', 'shape'])\n",
      "0202\n",
      "Starting Training\n",
      "epoch: 00, loss: -0.09031\n",
      "epoch: 01, loss: -0.12859\n",
      "epoch: 02, loss: -0.13108\n",
      "epoch: 03, loss: -0.13276\n",
      "epoch: 04, loss: -0.13502\n",
      "epoch: 05, loss: -0.13626\n",
      "epoch: 06, loss: -0.13704\n",
      "epoch: 07, loss: -0.13771\n",
      "epoch: 08, loss: -0.13773\n",
      "epoch: 09, loss: -0.13955\n",
      "torch.Size([400, 64])\n"
     ]
    },
    {
     "name": "stderr",
     "output_type": "stream",
     "text": [
      "\r",
      " 20%|████████████████████████████████                                                                                                                               | 202/1000 [1:27:08<5:30:24, 24.84s/it]"
     ]
    },
    {
     "name": "stdout",
     "output_type": "stream",
     "text": [
      "eigenvalues shape torch.Size([5]) eigenvectors shape torch.Size([5, 400])\n",
      "202 /home/phdcs2/Hard_Disk/Datasets/Deep-Spectral-Segmentation/data/object-segmentation/ECSSD/features/dino_vits16/0203.pth\n",
      "dict_keys(['k', 'indices', 'file', 'id', 'model_name', 'patch_size', 'shape'])\n",
      "0203\n",
      "Starting Training\n",
      "epoch: 00, loss: 0.00171\n",
      "epoch: 01, loss: -0.01492\n",
      "epoch: 02, loss: -0.02005\n",
      "epoch: 03, loss: -0.02239\n",
      "epoch: 04, loss: -0.02308\n",
      "epoch: 05, loss: -0.02396\n",
      "epoch: 06, loss: -0.02477\n",
      "epoch: 07, loss: -0.02449\n",
      "epoch: 08, loss: -0.02493\n",
      "epoch: 09, loss: -0.02522\n",
      "torch.Size([400, 64])\n"
     ]
    },
    {
     "name": "stderr",
     "output_type": "stream",
     "text": [
      "\r",
      " 20%|████████████████████████████████▎                                                                                                                              | 203/1000 [1:27:31<5:21:17, 24.19s/it]"
     ]
    },
    {
     "name": "stdout",
     "output_type": "stream",
     "text": [
      "eigenvalues shape torch.Size([5]) eigenvectors shape torch.Size([5, 400])\n",
      "203 /home/phdcs2/Hard_Disk/Datasets/Deep-Spectral-Segmentation/data/object-segmentation/ECSSD/features/dino_vits16/0204.pth\n",
      "dict_keys(['k', 'indices', 'file', 'id', 'model_name', 'patch_size', 'shape'])\n",
      "0204\n",
      "Starting Training\n",
      "epoch: 00, loss: -0.12193\n",
      "epoch: 01, loss: -0.15838\n",
      "epoch: 02, loss: -0.16065\n",
      "epoch: 03, loss: -0.16444\n",
      "epoch: 04, loss: -0.16846\n",
      "epoch: 05, loss: -0.16953\n",
      "epoch: 06, loss: -0.16891\n",
      "epoch: 07, loss: -0.17039\n",
      "epoch: 08, loss: -0.17378\n",
      "epoch: 09, loss: -0.16941\n",
      "torch.Size([450, 64])\n"
     ]
    },
    {
     "name": "stderr",
     "output_type": "stream",
     "text": [
      "/home/phdcs2/Hard_Disk/Projects/T2I/deep-spectral-segmentation/venv/lib/python3.8/site-packages/scipy/sparse/linalg/_eigen/arpack/arpack.py:935: LinAlgWarning: Diagonal number 450 is exactly zero. Singular matrix.\n",
      "  self.M_lu = lu_factor(M)\n"
     ]
    },
    {
     "name": "stdout",
     "output_type": "stream",
     "text": [
      " ** On entry to SLASCL parameter number  4 had an illegal value\n",
      " ** On entry to SLASCL parameter number  4 had an illegal value\n"
     ]
    },
    {
     "name": "stderr",
     "output_type": "stream",
     "text": [
      "\r",
      " 20%|████████████████████████████████▍                                                                                                                              | 204/1000 [1:28:02<5:48:19, 26.26s/it]"
     ]
    },
    {
     "name": "stdout",
     "output_type": "stream",
     "text": [
      "eigenvalues shape torch.Size([5]) eigenvectors shape torch.Size([5, 450])\n",
      "204 /home/phdcs2/Hard_Disk/Datasets/Deep-Spectral-Segmentation/data/object-segmentation/ECSSD/features/dino_vits16/0205.pth\n",
      "dict_keys(['k', 'indices', 'file', 'id', 'model_name', 'patch_size', 'shape'])\n",
      "0205\n",
      "Starting Training\n",
      "epoch: 00, loss: -0.03287\n",
      "epoch: 01, loss: -0.06838\n",
      "epoch: 02, loss: -0.07005\n",
      "epoch: 03, loss: -0.07396\n",
      "epoch: 04, loss: -0.07419\n",
      "epoch: 05, loss: -0.07549\n",
      "epoch: 06, loss: -0.07488\n",
      "epoch: 07, loss: -0.07563\n",
      "epoch: 08, loss: -0.07640\n",
      "epoch: 09, loss: -0.07691\n",
      "torch.Size([450, 64])\n"
     ]
    },
    {
     "name": "stderr",
     "output_type": "stream",
     "text": [
      "\r",
      " 20%|████████████████████████████████▌                                                                                                                              | 205/1000 [1:28:26<5:39:47, 25.65s/it]"
     ]
    },
    {
     "name": "stdout",
     "output_type": "stream",
     "text": [
      "eigenvalues shape torch.Size([5]) eigenvectors shape torch.Size([5, 450])\n",
      "205 /home/phdcs2/Hard_Disk/Datasets/Deep-Spectral-Segmentation/data/object-segmentation/ECSSD/features/dino_vits16/0206.pth\n",
      "dict_keys(['k', 'indices', 'file', 'id', 'model_name', 'patch_size', 'shape'])\n",
      "0206\n",
      "Starting Training\n",
      "epoch: 00, loss: -0.03028\n",
      "epoch: 01, loss: -0.05240\n",
      "epoch: 02, loss: -0.05480\n",
      "epoch: 03, loss: -0.05511\n",
      "epoch: 04, loss: -0.05539\n",
      "epoch: 05, loss: -0.05556\n",
      "epoch: 06, loss: -0.05578\n",
      "epoch: 07, loss: -0.05585\n",
      "epoch: 08, loss: -0.05592\n",
      "epoch: 09, loss: -0.05615\n",
      "torch.Size([400, 64])\n"
     ]
    },
    {
     "name": "stderr",
     "output_type": "stream",
     "text": [
      "\r",
      " 21%|████████████████████████████████▊                                                                                                                              | 206/1000 [1:28:53<5:41:12, 25.78s/it]"
     ]
    },
    {
     "name": "stdout",
     "output_type": "stream",
     "text": [
      "eigenvalues shape torch.Size([5]) eigenvectors shape torch.Size([5, 400])\n",
      "206 /home/phdcs2/Hard_Disk/Datasets/Deep-Spectral-Segmentation/data/object-segmentation/ECSSD/features/dino_vits16/0207.pth\n",
      "dict_keys(['k', 'indices', 'file', 'id', 'model_name', 'patch_size', 'shape'])\n",
      "0207\n",
      "Starting Training\n",
      "epoch: 00, loss: -0.06831\n",
      "epoch: 01, loss: -0.08342\n",
      "epoch: 02, loss: -0.08429\n",
      "epoch: 03, loss: -0.08546\n",
      "epoch: 04, loss: -0.08489\n",
      "epoch: 05, loss: -0.08516\n",
      "epoch: 06, loss: -0.08529\n",
      "epoch: 07, loss: -0.08533\n",
      "epoch: 08, loss: -0.08542\n",
      "epoch: 09, loss: -0.08567\n",
      "torch.Size([400, 64])\n"
     ]
    },
    {
     "name": "stderr",
     "output_type": "stream",
     "text": [
      "\r",
      " 21%|████████████████████████████████▉                                                                                                                              | 207/1000 [1:29:26<6:12:00, 28.15s/it]"
     ]
    },
    {
     "name": "stdout",
     "output_type": "stream",
     "text": [
      "eigenvalues shape torch.Size([5]) eigenvectors shape torch.Size([5, 400])\n",
      "207 /home/phdcs2/Hard_Disk/Datasets/Deep-Spectral-Segmentation/data/object-segmentation/ECSSD/features/dino_vits16/0208.pth\n",
      "dict_keys(['k', 'indices', 'file', 'id', 'model_name', 'patch_size', 'shape'])\n",
      "0208\n",
      "Starting Training\n",
      "epoch: 00, loss: -0.01641\n",
      "epoch: 01, loss: -0.03512\n",
      "epoch: 02, loss: -0.04190\n",
      "epoch: 03, loss: -0.04212\n",
      "epoch: 04, loss: -0.04314\n",
      "epoch: 05, loss: -0.04267\n",
      "epoch: 06, loss: -0.04460\n",
      "epoch: 07, loss: -0.04566\n",
      "epoch: 08, loss: -0.04598\n",
      "epoch: 09, loss: -0.04593\n",
      "torch.Size([450, 64])\n"
     ]
    },
    {
     "name": "stderr",
     "output_type": "stream",
     "text": [
      "\r",
      " 21%|█████████████████████████████████                                                                                                                              | 208/1000 [1:29:49<5:51:43, 26.65s/it]"
     ]
    },
    {
     "name": "stdout",
     "output_type": "stream",
     "text": [
      "eigenvalues shape torch.Size([5]) eigenvectors shape torch.Size([5, 450])\n",
      "208 /home/phdcs2/Hard_Disk/Datasets/Deep-Spectral-Segmentation/data/object-segmentation/ECSSD/features/dino_vits16/0209.pth\n",
      "dict_keys(['k', 'indices', 'file', 'id', 'model_name', 'patch_size', 'shape'])\n",
      "0209\n",
      "Starting Training\n",
      "epoch: 00, loss: -0.04164\n",
      "epoch: 01, loss: -0.06407\n",
      "epoch: 02, loss: -0.06509\n",
      "epoch: 03, loss: -0.06526\n",
      "epoch: 04, loss: -0.06561\n",
      "epoch: 05, loss: -0.06587\n",
      "epoch: 06, loss: -0.06584\n",
      "epoch: 07, loss: -0.06606\n",
      "epoch: 08, loss: -0.06637\n",
      "epoch: 09, loss: -0.06622\n",
      "torch.Size([500, 64])\n"
     ]
    },
    {
     "name": "stderr",
     "output_type": "stream",
     "text": [
      "\r",
      " 21%|█████████████████████████████████▏                                                                                                                             | 209/1000 [1:30:17<5:55:59, 27.00s/it]"
     ]
    },
    {
     "name": "stdout",
     "output_type": "stream",
     "text": [
      "eigenvalues shape torch.Size([5]) eigenvectors shape torch.Size([5, 500])\n",
      "209 /home/phdcs2/Hard_Disk/Datasets/Deep-Spectral-Segmentation/data/object-segmentation/ECSSD/features/dino_vits16/0210.pth\n",
      "dict_keys(['k', 'indices', 'file', 'id', 'model_name', 'patch_size', 'shape'])\n",
      "0210\n",
      "Starting Training\n",
      "epoch: 00, loss: -0.02529\n",
      "epoch: 01, loss: -0.04296\n",
      "epoch: 02, loss: -0.04588\n",
      "epoch: 03, loss: -0.04631\n",
      "epoch: 04, loss: -0.04698\n",
      "epoch: 05, loss: -0.04621\n",
      "epoch: 06, loss: -0.04776\n",
      "epoch: 07, loss: -0.04799\n",
      "epoch: 08, loss: -0.04665\n",
      "epoch: 09, loss: -0.04765\n",
      "torch.Size([425, 64])\n"
     ]
    },
    {
     "name": "stderr",
     "output_type": "stream",
     "text": [
      "\r",
      " 21%|█████████████████████████████████▍                                                                                                                             | 210/1000 [1:30:42<5:47:14, 26.37s/it]"
     ]
    },
    {
     "name": "stdout",
     "output_type": "stream",
     "text": [
      "eigenvalues shape torch.Size([5]) eigenvectors shape torch.Size([5, 425])\n",
      "210 /home/phdcs2/Hard_Disk/Datasets/Deep-Spectral-Segmentation/data/object-segmentation/ECSSD/features/dino_vits16/0211.pth\n",
      "dict_keys(['k', 'indices', 'file', 'id', 'model_name', 'patch_size', 'shape'])\n",
      "0211\n",
      "Starting Training\n",
      "epoch: 00, loss: -0.09543\n",
      "epoch: 01, loss: -0.11777\n",
      "epoch: 02, loss: -0.11850\n",
      "epoch: 03, loss: -0.11846\n",
      "epoch: 04, loss: -0.11850\n",
      "epoch: 05, loss: -0.11883\n",
      "epoch: 06, loss: -0.11887\n",
      "epoch: 07, loss: -0.11918\n",
      "epoch: 08, loss: -0.11923\n",
      "epoch: 09, loss: -0.11913\n",
      "torch.Size([500, 64])\n"
     ]
    },
    {
     "name": "stderr",
     "output_type": "stream",
     "text": [
      "\r",
      " 21%|█████████████████████████████████▌                                                                                                                             | 211/1000 [1:31:08<5:44:21, 26.19s/it]"
     ]
    },
    {
     "name": "stdout",
     "output_type": "stream",
     "text": [
      "eigenvalues shape torch.Size([5]) eigenvectors shape torch.Size([5, 500])\n",
      "211 /home/phdcs2/Hard_Disk/Datasets/Deep-Spectral-Segmentation/data/object-segmentation/ECSSD/features/dino_vits16/0212.pth\n",
      "dict_keys(['k', 'indices', 'file', 'id', 'model_name', 'patch_size', 'shape'])\n",
      "0212\n",
      "Starting Training\n",
      "epoch: 00, loss: -0.04546\n",
      "epoch: 01, loss: -0.06328\n",
      "epoch: 02, loss: -0.06475\n",
      "epoch: 03, loss: -0.06409\n",
      "epoch: 04, loss: -0.06511\n",
      "epoch: 05, loss: -0.06446\n",
      "epoch: 06, loss: -0.06459\n",
      "epoch: 07, loss: -0.06469\n",
      "epoch: 08, loss: -0.06487\n",
      "epoch: 09, loss: -0.06587\n",
      "torch.Size([625, 64])\n"
     ]
    },
    {
     "name": "stderr",
     "output_type": "stream",
     "text": [
      "\r",
      " 21%|█████████████████████████████████▋                                                                                                                             | 212/1000 [1:31:39<6:04:08, 27.73s/it]"
     ]
    },
    {
     "name": "stdout",
     "output_type": "stream",
     "text": [
      "eigenvalues shape torch.Size([5]) eigenvectors shape torch.Size([5, 625])\n",
      "212 /home/phdcs2/Hard_Disk/Datasets/Deep-Spectral-Segmentation/data/object-segmentation/ECSSD/features/dino_vits16/0213.pth\n",
      "dict_keys(['k', 'indices', 'file', 'id', 'model_name', 'patch_size', 'shape'])\n",
      "0213\n",
      "Starting Training\n",
      "epoch: 00, loss: -0.07877\n",
      "epoch: 01, loss: -0.09930\n",
      "epoch: 02, loss: -0.09929\n",
      "epoch: 03, loss: -0.09967\n",
      "epoch: 04, loss: -0.10044\n",
      "epoch: 05, loss: -0.10044\n",
      "epoch: 06, loss: -0.10024\n",
      "epoch: 07, loss: -0.10061\n",
      "epoch: 08, loss: -0.10065\n",
      "epoch: 09, loss: -0.10068\n",
      "torch.Size([450, 64])\n"
     ]
    },
    {
     "name": "stderr",
     "output_type": "stream",
     "text": [
      "\r",
      " 21%|█████████████████████████████████▊                                                                                                                             | 213/1000 [1:32:11<6:20:15, 28.99s/it]"
     ]
    },
    {
     "name": "stdout",
     "output_type": "stream",
     "text": [
      "eigenvalues shape torch.Size([5]) eigenvectors shape torch.Size([5, 450])\n",
      "213 /home/phdcs2/Hard_Disk/Datasets/Deep-Spectral-Segmentation/data/object-segmentation/ECSSD/features/dino_vits16/0214.pth\n",
      "dict_keys(['k', 'indices', 'file', 'id', 'model_name', 'patch_size', 'shape'])\n",
      "0214\n",
      "Starting Training\n",
      "epoch: 00, loss: -0.03583\n",
      "epoch: 01, loss: -0.06157\n",
      "epoch: 02, loss: -0.06569\n",
      "epoch: 03, loss: -0.06867\n",
      "epoch: 04, loss: -0.06756\n",
      "epoch: 05, loss: -0.06991\n",
      "epoch: 06, loss: -0.07047\n",
      "epoch: 07, loss: -0.07210\n",
      "epoch: 08, loss: -0.06972\n",
      "epoch: 09, loss: -0.07176\n",
      "torch.Size([350, 64])\n"
     ]
    },
    {
     "name": "stderr",
     "output_type": "stream",
     "text": [
      "\r",
      " 21%|██████████████████████████████████                                                                                                                             | 214/1000 [1:32:31<5:44:12, 26.27s/it]"
     ]
    },
    {
     "name": "stdout",
     "output_type": "stream",
     "text": [
      "eigenvalues shape torch.Size([5]) eigenvectors shape torch.Size([5, 350])\n",
      "214 /home/phdcs2/Hard_Disk/Datasets/Deep-Spectral-Segmentation/data/object-segmentation/ECSSD/features/dino_vits16/0215.pth\n",
      "dict_keys(['k', 'indices', 'file', 'id', 'model_name', 'patch_size', 'shape'])\n",
      "0215\n",
      "Starting Training\n",
      "epoch: 00, loss: -0.03415\n",
      "epoch: 01, loss: -0.05556\n",
      "epoch: 02, loss: -0.05855\n",
      "epoch: 03, loss: -0.05796\n",
      "epoch: 04, loss: -0.05826\n",
      "epoch: 05, loss: -0.05956\n",
      "epoch: 06, loss: -0.05971\n",
      "epoch: 07, loss: -0.05844\n",
      "epoch: 08, loss: -0.05873\n",
      "epoch: 09, loss: -0.05907\n",
      "torch.Size([425, 64])\n"
     ]
    },
    {
     "name": "stderr",
     "output_type": "stream",
     "text": [
      "\r",
      " 22%|██████████████████████████████████▏                                                                                                                            | 215/1000 [1:32:55<5:36:02, 25.69s/it]"
     ]
    },
    {
     "name": "stdout",
     "output_type": "stream",
     "text": [
      "eigenvalues shape torch.Size([5]) eigenvectors shape torch.Size([5, 425])\n",
      "215 /home/phdcs2/Hard_Disk/Datasets/Deep-Spectral-Segmentation/data/object-segmentation/ECSSD/features/dino_vits16/0216.pth\n",
      "dict_keys(['k', 'indices', 'file', 'id', 'model_name', 'patch_size', 'shape'])\n",
      "0216\n",
      "Starting Training\n",
      "epoch: 00, loss: -0.01405\n",
      "epoch: 01, loss: -0.02673\n",
      "epoch: 02, loss: -0.02935\n",
      "epoch: 03, loss: -0.03023\n",
      "epoch: 04, loss: -0.03071\n",
      "epoch: 05, loss: -0.03104\n",
      "epoch: 06, loss: -0.03136\n",
      "epoch: 07, loss: -0.03143\n",
      "epoch: 08, loss: -0.03166\n",
      "epoch: 09, loss: -0.03181\n",
      "torch.Size([450, 64])\n"
     ]
    },
    {
     "name": "stderr",
     "output_type": "stream",
     "text": [
      "\r",
      " 22%|██████████████████████████████████▎                                                                                                                            | 216/1000 [1:33:23<5:42:42, 26.23s/it]"
     ]
    },
    {
     "name": "stdout",
     "output_type": "stream",
     "text": [
      "eigenvalues shape torch.Size([5]) eigenvectors shape torch.Size([5, 450])\n",
      "216 /home/phdcs2/Hard_Disk/Datasets/Deep-Spectral-Segmentation/data/object-segmentation/ECSSD/features/dino_vits16/0217.pth\n",
      "dict_keys(['k', 'indices', 'file', 'id', 'model_name', 'patch_size', 'shape'])\n",
      "0217\n",
      "Starting Training\n",
      "epoch: 00, loss: -0.03421\n",
      "epoch: 01, loss: -0.05356\n",
      "epoch: 02, loss: -0.05518\n",
      "epoch: 03, loss: -0.05586\n",
      "epoch: 04, loss: -0.05597\n",
      "epoch: 05, loss: -0.05605\n",
      "epoch: 06, loss: -0.05624\n",
      "epoch: 07, loss: -0.05642\n",
      "epoch: 08, loss: -0.05642\n",
      "epoch: 09, loss: -0.05660\n",
      "torch.Size([450, 64])\n"
     ]
    },
    {
     "name": "stderr",
     "output_type": "stream",
     "text": [
      "\r",
      " 22%|██████████████████████████████████▌                                                                                                                            | 217/1000 [1:33:50<5:44:22, 26.39s/it]"
     ]
    },
    {
     "name": "stdout",
     "output_type": "stream",
     "text": [
      "eigenvalues shape torch.Size([5]) eigenvectors shape torch.Size([5, 450])\n",
      "217 /home/phdcs2/Hard_Disk/Datasets/Deep-Spectral-Segmentation/data/object-segmentation/ECSSD/features/dino_vits16/0218.pth\n",
      "dict_keys(['k', 'indices', 'file', 'id', 'model_name', 'patch_size', 'shape'])\n",
      "0218\n",
      "Starting Training\n",
      "epoch: 00, loss: -0.05646\n",
      "epoch: 01, loss: -0.07194\n",
      "epoch: 02, loss: -0.07288\n",
      "epoch: 03, loss: -0.07305\n",
      "epoch: 04, loss: -0.07313\n",
      "epoch: 05, loss: -0.07358\n",
      "epoch: 06, loss: -0.07355\n",
      "epoch: 07, loss: -0.07374\n",
      "epoch: 08, loss: -0.07374\n",
      "epoch: 09, loss: -0.07380\n",
      "torch.Size([500, 64])\n"
     ]
    },
    {
     "name": "stderr",
     "output_type": "stream",
     "text": [
      "\r",
      " 22%|██████████████████████████████████▋                                                                                                                            | 218/1000 [1:34:17<5:46:36, 26.59s/it]"
     ]
    },
    {
     "name": "stdout",
     "output_type": "stream",
     "text": [
      "eigenvalues shape torch.Size([5]) eigenvectors shape torch.Size([5, 500])\n",
      "218 /home/phdcs2/Hard_Disk/Datasets/Deep-Spectral-Segmentation/data/object-segmentation/ECSSD/features/dino_vits16/0219.pth\n",
      "dict_keys(['k', 'indices', 'file', 'id', 'model_name', 'patch_size', 'shape'])\n",
      "0219\n",
      "Starting Training\n",
      "epoch: 00, loss: -0.09958\n",
      "epoch: 01, loss: -0.12902\n",
      "epoch: 02, loss: -0.13561\n",
      "epoch: 03, loss: -0.13831\n",
      "epoch: 04, loss: -0.13928\n",
      "epoch: 05, loss: -0.14095\n",
      "epoch: 06, loss: -0.13895\n",
      "epoch: 07, loss: -0.14214\n",
      "epoch: 08, loss: -0.14451\n",
      "epoch: 09, loss: -0.13814\n",
      "torch.Size([450, 64])\n"
     ]
    },
    {
     "name": "stderr",
     "output_type": "stream",
     "text": [
      "\r",
      " 22%|██████████████████████████████████▊                                                                                                                            | 219/1000 [1:34:43<5:45:51, 26.57s/it]"
     ]
    },
    {
     "name": "stdout",
     "output_type": "stream",
     "text": [
      "eigenvalues shape torch.Size([5]) eigenvectors shape torch.Size([5, 450])\n",
      "219 /home/phdcs2/Hard_Disk/Datasets/Deep-Spectral-Segmentation/data/object-segmentation/ECSSD/features/dino_vits16/0220.pth\n",
      "dict_keys(['k', 'indices', 'file', 'id', 'model_name', 'patch_size', 'shape'])\n",
      "0220\n",
      "Starting Training\n",
      "epoch: 00, loss: -0.12127\n",
      "epoch: 01, loss: -0.13854\n",
      "epoch: 02, loss: -0.13947\n",
      "epoch: 03, loss: -0.13950\n",
      "epoch: 04, loss: -0.13959\n",
      "epoch: 05, loss: -0.13982\n",
      "epoch: 06, loss: -0.14004\n",
      "epoch: 07, loss: -0.13985\n",
      "epoch: 08, loss: -0.13998\n",
      "epoch: 09, loss: -0.14012\n",
      "torch.Size([500, 64])\n"
     ]
    },
    {
     "name": "stderr",
     "output_type": "stream",
     "text": [
      "\r",
      " 22%|██████████████████████████████████▉                                                                                                                            | 220/1000 [1:35:11<5:50:34, 26.97s/it]"
     ]
    },
    {
     "name": "stdout",
     "output_type": "stream",
     "text": [
      "eigenvalues shape torch.Size([5]) eigenvectors shape torch.Size([5, 500])\n",
      "220 /home/phdcs2/Hard_Disk/Datasets/Deep-Spectral-Segmentation/data/object-segmentation/ECSSD/features/dino_vits16/0221.pth\n",
      "dict_keys(['k', 'indices', 'file', 'id', 'model_name', 'patch_size', 'shape'])\n",
      "0221\n",
      "Starting Training\n",
      "epoch: 00, loss: -0.00868\n",
      "epoch: 01, loss: -0.02991\n",
      "epoch: 02, loss: -0.03494\n",
      "epoch: 03, loss: -0.03778\n",
      "epoch: 04, loss: -0.03695\n",
      "epoch: 05, loss: -0.03747\n",
      "epoch: 06, loss: -0.03695\n",
      "epoch: 07, loss: -0.03679\n",
      "epoch: 08, loss: -0.03790\n",
      "epoch: 09, loss: -0.03688\n",
      "torch.Size([400, 64])\n"
     ]
    },
    {
     "name": "stderr",
     "output_type": "stream",
     "text": [
      "\r",
      " 22%|███████████████████████████████████▏                                                                                                                           | 221/1000 [1:35:29<5:14:02, 24.19s/it]"
     ]
    },
    {
     "name": "stdout",
     "output_type": "stream",
     "text": [
      "eigenvalues shape torch.Size([5]) eigenvectors shape torch.Size([5, 400])\n",
      "221 /home/phdcs2/Hard_Disk/Datasets/Deep-Spectral-Segmentation/data/object-segmentation/ECSSD/features/dino_vits16/0222.pth\n",
      "dict_keys(['k', 'indices', 'file', 'id', 'model_name', 'patch_size', 'shape'])\n",
      "0222\n",
      "Starting Training\n",
      "epoch: 00, loss: -0.02553\n",
      "epoch: 01, loss: -0.04223\n",
      "epoch: 02, loss: -0.04353\n",
      "epoch: 03, loss: -0.04408\n",
      "epoch: 04, loss: -0.04446\n",
      "epoch: 05, loss: -0.04466\n",
      "epoch: 06, loss: -0.04501\n",
      "epoch: 07, loss: -0.04529\n",
      "epoch: 08, loss: -0.04507\n",
      "epoch: 09, loss: -0.04524\n",
      "torch.Size([500, 64])\n"
     ]
    },
    {
     "name": "stderr",
     "output_type": "stream",
     "text": [
      "\r",
      " 22%|███████████████████████████████████▎                                                                                                                           | 222/1000 [1:35:55<5:19:46, 24.66s/it]"
     ]
    },
    {
     "name": "stdout",
     "output_type": "stream",
     "text": [
      "eigenvalues shape torch.Size([5]) eigenvectors shape torch.Size([5, 500])\n",
      "222 /home/phdcs2/Hard_Disk/Datasets/Deep-Spectral-Segmentation/data/object-segmentation/ECSSD/features/dino_vits16/0223.pth\n",
      "dict_keys(['k', 'indices', 'file', 'id', 'model_name', 'patch_size', 'shape'])\n",
      "0223\n",
      "Starting Training\n",
      "epoch: 00, loss: -0.06868\n",
      "epoch: 01, loss: -0.08411\n",
      "epoch: 02, loss: -0.08503\n",
      "epoch: 03, loss: -0.08555\n",
      "epoch: 04, loss: -0.08619\n",
      "epoch: 05, loss: -0.08583\n",
      "epoch: 06, loss: -0.08618\n",
      "epoch: 07, loss: -0.08628\n",
      "epoch: 08, loss: -0.08643\n",
      "epoch: 09, loss: -0.08641\n",
      "torch.Size([500, 64])\n"
     ]
    },
    {
     "name": "stderr",
     "output_type": "stream",
     "text": [
      "\r",
      " 22%|███████████████████████████████████▍                                                                                                                           | 223/1000 [1:36:18<5:14:21, 24.27s/it]"
     ]
    },
    {
     "name": "stdout",
     "output_type": "stream",
     "text": [
      "eigenvalues shape torch.Size([5]) eigenvectors shape torch.Size([5, 500])\n",
      "223 /home/phdcs2/Hard_Disk/Datasets/Deep-Spectral-Segmentation/data/object-segmentation/ECSSD/features/dino_vits16/0224.pth\n",
      "dict_keys(['k', 'indices', 'file', 'id', 'model_name', 'patch_size', 'shape'])\n",
      "0224\n",
      "Starting Training\n",
      "epoch: 00, loss: -0.03048\n",
      "epoch: 01, loss: -0.05783\n",
      "epoch: 02, loss: -0.06012\n",
      "epoch: 03, loss: -0.06021\n",
      "epoch: 04, loss: -0.06067\n",
      "epoch: 05, loss: -0.06170\n",
      "epoch: 06, loss: -0.06264\n",
      "epoch: 07, loss: -0.06219\n",
      "epoch: 08, loss: -0.06391\n",
      "epoch: 09, loss: -0.06227\n",
      "torch.Size([500, 64])\n"
     ]
    },
    {
     "name": "stderr",
     "output_type": "stream",
     "text": [
      "\r",
      " 22%|███████████████████████████████████▌                                                                                                                           | 224/1000 [1:36:45<5:25:11, 25.14s/it]"
     ]
    },
    {
     "name": "stdout",
     "output_type": "stream",
     "text": [
      "eigenvalues shape torch.Size([5]) eigenvectors shape torch.Size([5, 500])\n",
      "224 /home/phdcs2/Hard_Disk/Datasets/Deep-Spectral-Segmentation/data/object-segmentation/ECSSD/features/dino_vits16/0225.pth\n",
      "dict_keys(['k', 'indices', 'file', 'id', 'model_name', 'patch_size', 'shape'])\n",
      "0225\n",
      "Starting Training\n",
      "epoch: 00, loss: -0.01964\n",
      "epoch: 01, loss: -0.05372\n",
      "epoch: 02, loss: -0.05334\n",
      "epoch: 03, loss: -0.05525\n",
      "epoch: 04, loss: -0.05785\n",
      "epoch: 05, loss: -0.05892\n",
      "epoch: 06, loss: -0.05702\n",
      "epoch: 07, loss: -0.05805\n",
      "epoch: 08, loss: -0.05942\n",
      "epoch: 09, loss: -0.05835\n",
      "torch.Size([450, 64])\n"
     ]
    },
    {
     "name": "stderr",
     "output_type": "stream",
     "text": [
      "\r",
      " 22%|███████████████████████████████████▊                                                                                                                           | 225/1000 [1:37:07<5:13:56, 24.31s/it]"
     ]
    },
    {
     "name": "stdout",
     "output_type": "stream",
     "text": [
      "eigenvalues shape torch.Size([5]) eigenvectors shape torch.Size([5, 450])\n",
      "225 /home/phdcs2/Hard_Disk/Datasets/Deep-Spectral-Segmentation/data/object-segmentation/ECSSD/features/dino_vits16/0226.pth\n",
      "dict_keys(['k', 'indices', 'file', 'id', 'model_name', 'patch_size', 'shape'])\n",
      "0226\n",
      "Starting Training\n",
      "epoch: 00, loss: -0.02394\n",
      "epoch: 01, loss: -0.04669\n",
      "epoch: 02, loss: -0.04816\n",
      "epoch: 03, loss: -0.04908\n",
      "epoch: 04, loss: -0.04975\n",
      "epoch: 05, loss: -0.04975\n",
      "epoch: 06, loss: -0.05007\n",
      "epoch: 07, loss: -0.05012\n",
      "epoch: 08, loss: -0.05025\n",
      "epoch: 09, loss: -0.05044\n",
      "torch.Size([400, 64])\n"
     ]
    },
    {
     "name": "stderr",
     "output_type": "stream",
     "text": [
      "\r",
      " 23%|███████████████████████████████████▉                                                                                                                           | 226/1000 [1:37:28<4:58:26, 23.14s/it]"
     ]
    },
    {
     "name": "stdout",
     "output_type": "stream",
     "text": [
      "eigenvalues shape torch.Size([5]) eigenvectors shape torch.Size([5, 400])\n",
      "226 /home/phdcs2/Hard_Disk/Datasets/Deep-Spectral-Segmentation/data/object-segmentation/ECSSD/features/dino_vits16/0227.pth\n",
      "dict_keys(['k', 'indices', 'file', 'id', 'model_name', 'patch_size', 'shape'])\n",
      "0227\n",
      "Starting Training\n",
      "epoch: 00, loss: -0.04961\n",
      "epoch: 01, loss: -0.08276\n",
      "epoch: 02, loss: -0.08427\n",
      "epoch: 03, loss: -0.08437\n",
      "epoch: 04, loss: -0.08610\n",
      "epoch: 05, loss: -0.08450\n",
      "epoch: 06, loss: -0.08466\n",
      "epoch: 07, loss: -0.08509\n",
      "epoch: 08, loss: -0.08525\n",
      "epoch: 09, loss: -0.08541\n",
      "torch.Size([375, 64])\n"
     ]
    },
    {
     "name": "stderr",
     "output_type": "stream",
     "text": [
      "\r",
      " 23%|████████████████████████████████████                                                                                                                           | 227/1000 [1:37:51<4:56:24, 23.01s/it]"
     ]
    },
    {
     "name": "stdout",
     "output_type": "stream",
     "text": [
      "eigenvalues shape torch.Size([5]) eigenvectors shape torch.Size([5, 375])\n",
      "227 /home/phdcs2/Hard_Disk/Datasets/Deep-Spectral-Segmentation/data/object-segmentation/ECSSD/features/dino_vits16/0228.pth\n",
      "dict_keys(['k', 'indices', 'file', 'id', 'model_name', 'patch_size', 'shape'])\n",
      "0228\n",
      "Starting Training\n",
      "epoch: 00, loss: -0.06679\n",
      "epoch: 01, loss: -0.08620\n",
      "epoch: 02, loss: -0.08723\n",
      "epoch: 03, loss: -0.08729\n",
      "epoch: 04, loss: -0.08585\n",
      "epoch: 05, loss: -0.08783\n",
      "epoch: 06, loss: -0.08781\n",
      "epoch: 07, loss: -0.08805\n",
      "epoch: 08, loss: -0.08650\n",
      "epoch: 09, loss: -0.08714\n",
      "torch.Size([375, 64])\n"
     ]
    },
    {
     "name": "stderr",
     "output_type": "stream",
     "text": [
      "\r",
      " 23%|████████████████████████████████████▎                                                                                                                          | 228/1000 [1:38:08<4:35:14, 21.39s/it]"
     ]
    },
    {
     "name": "stdout",
     "output_type": "stream",
     "text": [
      "eigenvalues shape torch.Size([5]) eigenvectors shape torch.Size([5, 375])\n",
      "228 /home/phdcs2/Hard_Disk/Datasets/Deep-Spectral-Segmentation/data/object-segmentation/ECSSD/features/dino_vits16/0229.pth\n",
      "dict_keys(['k', 'indices', 'file', 'id', 'model_name', 'patch_size', 'shape'])\n",
      "0229\n",
      "Starting Training\n",
      "epoch: 00, loss: -0.01720\n",
      "epoch: 01, loss: -0.03083\n",
      "epoch: 02, loss: -0.03304\n",
      "epoch: 03, loss: -0.03336\n",
      "epoch: 04, loss: -0.03382\n",
      "epoch: 05, loss: -0.03400\n",
      "epoch: 06, loss: -0.03411\n",
      "epoch: 07, loss: -0.03448\n",
      "epoch: 08, loss: -0.03455\n",
      "epoch: 09, loss: -0.03464\n",
      "torch.Size([400, 64])\n"
     ]
    },
    {
     "name": "stderr",
     "output_type": "stream",
     "text": [
      "\r",
      " 23%|████████████████████████████████████▍                                                                                                                          | 229/1000 [1:38:34<4:51:56, 22.72s/it]"
     ]
    },
    {
     "name": "stdout",
     "output_type": "stream",
     "text": [
      "eigenvalues shape torch.Size([5]) eigenvectors shape torch.Size([5, 400])\n",
      "229 /home/phdcs2/Hard_Disk/Datasets/Deep-Spectral-Segmentation/data/object-segmentation/ECSSD/features/dino_vits16/0230.pth\n",
      "dict_keys(['k', 'indices', 'file', 'id', 'model_name', 'patch_size', 'shape'])\n",
      "0230\n",
      "Starting Training\n",
      "epoch: 00, loss: -0.05281\n",
      "epoch: 01, loss: -0.07375\n",
      "epoch: 02, loss: -0.07407\n",
      "epoch: 03, loss: -0.07436\n",
      "epoch: 04, loss: -0.07462\n",
      "epoch: 05, loss: -0.07474\n",
      "epoch: 06, loss: -0.07490\n",
      "epoch: 07, loss: -0.07498\n",
      "epoch: 08, loss: -0.07512\n",
      "epoch: 09, loss: -0.07515\n",
      "torch.Size([450, 64])\n"
     ]
    },
    {
     "name": "stderr",
     "output_type": "stream",
     "text": [
      "\r",
      " 23%|████████████████████████████████████▌                                                                                                                          | 230/1000 [1:39:04<5:18:05, 24.79s/it]"
     ]
    },
    {
     "name": "stdout",
     "output_type": "stream",
     "text": [
      "eigenvalues shape torch.Size([5]) eigenvectors shape torch.Size([5, 450])\n",
      "230 /home/phdcs2/Hard_Disk/Datasets/Deep-Spectral-Segmentation/data/object-segmentation/ECSSD/features/dino_vits16/0231.pth\n",
      "dict_keys(['k', 'indices', 'file', 'id', 'model_name', 'patch_size', 'shape'])\n",
      "0231\n",
      "Starting Training\n",
      "epoch: 00, loss: -0.07159\n",
      "epoch: 01, loss: -0.10136\n",
      "epoch: 02, loss: -0.10284\n",
      "epoch: 03, loss: -0.10612\n",
      "epoch: 04, loss: -0.10926\n",
      "epoch: 05, loss: -0.10764\n",
      "epoch: 06, loss: -0.10811\n",
      "epoch: 07, loss: -0.10795\n",
      "epoch: 08, loss: -0.10712\n",
      "epoch: 09, loss: -0.10885\n",
      "torch.Size([525, 64])\n"
     ]
    },
    {
     "name": "stderr",
     "output_type": "stream",
     "text": [
      "\r",
      " 23%|████████████████████████████████████▋                                                                                                                          | 231/1000 [1:39:52<6:47:45, 31.82s/it]"
     ]
    },
    {
     "name": "stdout",
     "output_type": "stream",
     "text": [
      "eigenvalues shape torch.Size([5]) eigenvectors shape torch.Size([5, 525])\n",
      "231 /home/phdcs2/Hard_Disk/Datasets/Deep-Spectral-Segmentation/data/object-segmentation/ECSSD/features/dino_vits16/0232.pth\n",
      "dict_keys(['k', 'indices', 'file', 'id', 'model_name', 'patch_size', 'shape'])\n",
      "0232\n",
      "Starting Training\n",
      "epoch: 00, loss: -0.10666\n",
      "epoch: 01, loss: -0.13268\n",
      "epoch: 02, loss: -0.13757\n",
      "epoch: 03, loss: -0.13915\n",
      "epoch: 04, loss: -0.13996\n",
      "epoch: 05, loss: -0.14386\n",
      "epoch: 06, loss: -0.14495\n",
      "epoch: 07, loss: -0.14346\n",
      "epoch: 08, loss: -0.14640\n",
      "epoch: 09, loss: -0.14997\n",
      "torch.Size([500, 64])\n"
     ]
    },
    {
     "name": "stderr",
     "output_type": "stream",
     "text": [
      "\r",
      " 23%|████████████████████████████████████▉                                                                                                                          | 232/1000 [1:40:18<6:26:49, 30.22s/it]"
     ]
    },
    {
     "name": "stdout",
     "output_type": "stream",
     "text": [
      "eigenvalues shape torch.Size([5]) eigenvectors shape torch.Size([5, 500])\n",
      "232 /home/phdcs2/Hard_Disk/Datasets/Deep-Spectral-Segmentation/data/object-segmentation/ECSSD/features/dino_vits16/0233.pth\n",
      "dict_keys(['k', 'indices', 'file', 'id', 'model_name', 'patch_size', 'shape'])\n",
      "0233\n",
      "Starting Training\n",
      "epoch: 00, loss: -0.04054\n",
      "epoch: 01, loss: -0.05847\n",
      "epoch: 02, loss: -0.05892\n",
      "epoch: 03, loss: -0.06107\n",
      "epoch: 04, loss: -0.05954\n",
      "epoch: 05, loss: -0.06139\n",
      "epoch: 06, loss: -0.05994\n",
      "epoch: 07, loss: -0.06082\n",
      "epoch: 08, loss: -0.06018\n",
      "epoch: 09, loss: -0.06168\n",
      "torch.Size([475, 64])\n"
     ]
    },
    {
     "name": "stderr",
     "output_type": "stream",
     "text": [
      "\r",
      " 23%|█████████████████████████████████████                                                                                                                          | 233/1000 [1:40:42<6:01:46, 28.30s/it]"
     ]
    },
    {
     "name": "stdout",
     "output_type": "stream",
     "text": [
      "eigenvalues shape torch.Size([5]) eigenvectors shape torch.Size([5, 475])\n",
      "233 /home/phdcs2/Hard_Disk/Datasets/Deep-Spectral-Segmentation/data/object-segmentation/ECSSD/features/dino_vits16/0234.pth\n",
      "dict_keys(['k', 'indices', 'file', 'id', 'model_name', 'patch_size', 'shape'])\n",
      "0234\n",
      "Starting Training\n",
      "epoch: 00, loss: -0.03612\n",
      "epoch: 01, loss: -0.07110\n",
      "epoch: 02, loss: -0.07697\n",
      "epoch: 03, loss: -0.07697\n",
      "epoch: 04, loss: -0.08040\n",
      "epoch: 05, loss: -0.08240\n",
      "epoch: 06, loss: -0.07920\n",
      "epoch: 07, loss: -0.07989\n",
      "epoch: 08, loss: -0.08024\n",
      "epoch: 09, loss: -0.08149\n",
      "torch.Size([400, 64])\n"
     ]
    },
    {
     "name": "stderr",
     "output_type": "stream",
     "text": [
      "\r",
      " 23%|█████████████████████████████████████▏                                                                                                                         | 234/1000 [1:41:04<5:35:35, 26.29s/it]"
     ]
    },
    {
     "name": "stdout",
     "output_type": "stream",
     "text": [
      "eigenvalues shape torch.Size([5]) eigenvectors shape torch.Size([5, 400])\n",
      "234 /home/phdcs2/Hard_Disk/Datasets/Deep-Spectral-Segmentation/data/object-segmentation/ECSSD/features/dino_vits16/0235.pth\n",
      "dict_keys(['k', 'indices', 'file', 'id', 'model_name', 'patch_size', 'shape'])\n",
      "0235\n",
      "Starting Training\n",
      "epoch: 00, loss: -0.03766\n",
      "epoch: 01, loss: -0.05968\n",
      "epoch: 02, loss: -0.06058\n",
      "epoch: 03, loss: -0.06132\n",
      "epoch: 04, loss: -0.06163\n",
      "epoch: 05, loss: -0.06178\n",
      "epoch: 06, loss: -0.06188\n",
      "epoch: 07, loss: -0.06219\n",
      "epoch: 08, loss: -0.06222\n",
      "epoch: 09, loss: -0.06258\n",
      "torch.Size([400, 64])\n"
     ]
    },
    {
     "name": "stderr",
     "output_type": "stream",
     "text": [
      "\r",
      " 24%|█████████████████████████████████████▎                                                                                                                         | 235/1000 [1:41:24<5:12:19, 24.50s/it]"
     ]
    },
    {
     "name": "stdout",
     "output_type": "stream",
     "text": [
      "eigenvalues shape torch.Size([5]) eigenvectors shape torch.Size([5, 400])\n",
      "235 /home/phdcs2/Hard_Disk/Datasets/Deep-Spectral-Segmentation/data/object-segmentation/ECSSD/features/dino_vits16/0236.pth\n",
      "dict_keys(['k', 'indices', 'file', 'id', 'model_name', 'patch_size', 'shape'])\n",
      "0236\n",
      "Starting Training\n",
      "epoch: 00, loss: -0.06774\n",
      "epoch: 01, loss: -0.08440\n",
      "epoch: 02, loss: -0.08506\n",
      "epoch: 03, loss: -0.08583\n",
      "epoch: 04, loss: -0.08604\n",
      "epoch: 05, loss: -0.08672\n",
      "epoch: 06, loss: -0.08639\n",
      "epoch: 07, loss: -0.08632\n",
      "epoch: 08, loss: -0.08715\n",
      "epoch: 09, loss: -0.08691\n",
      "torch.Size([400, 64])\n"
     ]
    },
    {
     "name": "stderr",
     "output_type": "stream",
     "text": [
      "\r",
      " 24%|█████████████████████████████████████▌                                                                                                                         | 236/1000 [1:41:48<5:07:59, 24.19s/it]"
     ]
    },
    {
     "name": "stdout",
     "output_type": "stream",
     "text": [
      "eigenvalues shape torch.Size([5]) eigenvectors shape torch.Size([5, 400])\n",
      "236 /home/phdcs2/Hard_Disk/Datasets/Deep-Spectral-Segmentation/data/object-segmentation/ECSSD/features/dino_vits16/0237.pth\n",
      "dict_keys(['k', 'indices', 'file', 'id', 'model_name', 'patch_size', 'shape'])\n",
      "0237\n",
      "Starting Training\n",
      "epoch: 00, loss: -0.05652\n",
      "epoch: 01, loss: -0.08794\n",
      "epoch: 02, loss: -0.09173\n",
      "epoch: 03, loss: -0.09347\n",
      "epoch: 04, loss: -0.09438\n",
      "epoch: 05, loss: -0.09637\n",
      "epoch: 06, loss: -0.09392\n",
      "epoch: 07, loss: -0.09608\n",
      "epoch: 08, loss: -0.09545\n",
      "epoch: 09, loss: -0.09468\n",
      "torch.Size([400, 64])\n"
     ]
    },
    {
     "name": "stderr",
     "output_type": "stream",
     "text": [
      "\r",
      " 24%|█████████████████████████████████████▋                                                                                                                         | 237/1000 [1:42:10<5:00:22, 23.62s/it]"
     ]
    },
    {
     "name": "stdout",
     "output_type": "stream",
     "text": [
      "eigenvalues shape torch.Size([5]) eigenvectors shape torch.Size([5, 400])\n",
      "237 /home/phdcs2/Hard_Disk/Datasets/Deep-Spectral-Segmentation/data/object-segmentation/ECSSD/features/dino_vits16/0238.pth\n",
      "dict_keys(['k', 'indices', 'file', 'id', 'model_name', 'patch_size', 'shape'])\n",
      "0238\n",
      "Starting Training\n",
      "epoch: 00, loss: 0.00069\n",
      "epoch: 01, loss: -0.01599\n",
      "epoch: 02, loss: -0.02122\n",
      "epoch: 03, loss: -0.02318\n",
      "epoch: 04, loss: -0.02391\n",
      "epoch: 05, loss: -0.02423\n",
      "epoch: 06, loss: -0.02475\n",
      "epoch: 07, loss: -0.02440\n",
      "epoch: 08, loss: -0.02477\n",
      "epoch: 09, loss: -0.02491\n",
      "torch.Size([400, 64])\n"
     ]
    },
    {
     "name": "stderr",
     "output_type": "stream",
     "text": [
      "\r",
      " 24%|█████████████████████████████████████▊                                                                                                                         | 238/1000 [1:42:33<4:59:10, 23.56s/it]"
     ]
    },
    {
     "name": "stdout",
     "output_type": "stream",
     "text": [
      "eigenvalues shape torch.Size([5]) eigenvectors shape torch.Size([5, 400])\n",
      "238 /home/phdcs2/Hard_Disk/Datasets/Deep-Spectral-Segmentation/data/object-segmentation/ECSSD/features/dino_vits16/0239.pth\n",
      "dict_keys(['k', 'indices', 'file', 'id', 'model_name', 'patch_size', 'shape'])\n",
      "0239\n",
      "Starting Training\n",
      "epoch: 00, loss: -0.05176\n",
      "epoch: 01, loss: -0.06918\n",
      "epoch: 02, loss: -0.07065\n",
      "epoch: 03, loss: -0.07595\n",
      "epoch: 04, loss: -0.07600\n",
      "epoch: 05, loss: -0.07493\n",
      "epoch: 06, loss: -0.07559\n",
      "epoch: 07, loss: -0.07708\n",
      "epoch: 08, loss: -0.07718\n",
      "epoch: 09, loss: -0.07633\n",
      "torch.Size([400, 64])\n"
     ]
    },
    {
     "name": "stderr",
     "output_type": "stream",
     "text": [
      "\r",
      " 24%|██████████████████████████████████████                                                                                                                         | 239/1000 [1:42:55<4:53:27, 23.14s/it]"
     ]
    },
    {
     "name": "stdout",
     "output_type": "stream",
     "text": [
      "eigenvalues shape torch.Size([5]) eigenvectors shape torch.Size([5, 400])\n",
      "239 /home/phdcs2/Hard_Disk/Datasets/Deep-Spectral-Segmentation/data/object-segmentation/ECSSD/features/dino_vits16/0240.pth\n",
      "dict_keys(['k', 'indices', 'file', 'id', 'model_name', 'patch_size', 'shape'])\n",
      "0240\n",
      "Starting Training\n",
      "epoch: 00, loss: -0.04774\n",
      "epoch: 01, loss: -0.08422\n",
      "epoch: 02, loss: -0.09258\n",
      "epoch: 03, loss: -0.09409\n",
      "epoch: 04, loss: -0.09251\n",
      "epoch: 05, loss: -0.09440\n",
      "epoch: 06, loss: -0.09193\n",
      "epoch: 07, loss: -0.09582\n",
      "epoch: 08, loss: -0.09502\n",
      "epoch: 09, loss: -0.09530\n",
      "torch.Size([350, 64])\n"
     ]
    },
    {
     "name": "stderr",
     "output_type": "stream",
     "text": [
      "\r",
      " 24%|██████████████████████████████████████▏                                                                                                                        | 240/1000 [1:43:18<4:49:30, 22.86s/it]"
     ]
    },
    {
     "name": "stdout",
     "output_type": "stream",
     "text": [
      "eigenvalues shape torch.Size([5]) eigenvectors shape torch.Size([5, 350])\n",
      "240 /home/phdcs2/Hard_Disk/Datasets/Deep-Spectral-Segmentation/data/object-segmentation/ECSSD/features/dino_vits16/0241.pth\n",
      "dict_keys(['k', 'indices', 'file', 'id', 'model_name', 'patch_size', 'shape'])\n",
      "0241\n",
      "Starting Training\n",
      "epoch: 00, loss: -0.06960\n",
      "epoch: 01, loss: -0.09283\n",
      "epoch: 02, loss: -0.09733\n",
      "epoch: 03, loss: -0.10136\n",
      "epoch: 04, loss: -0.09952\n",
      "epoch: 05, loss: -0.10188\n",
      "epoch: 06, loss: -0.10333\n",
      "epoch: 07, loss: -0.10179\n",
      "epoch: 08, loss: -0.10247\n",
      "epoch: 09, loss: -0.10319\n",
      "torch.Size([400, 64])\n"
     ]
    },
    {
     "name": "stderr",
     "output_type": "stream",
     "text": [
      "\r",
      " 24%|██████████████████████████████████████▎                                                                                                                        | 241/1000 [1:43:41<4:52:35, 23.13s/it]"
     ]
    },
    {
     "name": "stdout",
     "output_type": "stream",
     "text": [
      "eigenvalues shape torch.Size([5]) eigenvectors shape torch.Size([5, 400])\n",
      "241 /home/phdcs2/Hard_Disk/Datasets/Deep-Spectral-Segmentation/data/object-segmentation/ECSSD/features/dino_vits16/0242.pth\n",
      "dict_keys(['k', 'indices', 'file', 'id', 'model_name', 'patch_size', 'shape'])\n",
      "0242\n",
      "Starting Training\n",
      "epoch: 00, loss: -0.01853\n",
      "epoch: 01, loss: -0.04197\n",
      "epoch: 02, loss: -0.04577\n",
      "epoch: 03, loss: -0.04675\n",
      "epoch: 04, loss: -0.04852\n",
      "epoch: 05, loss: -0.04784\n",
      "epoch: 06, loss: -0.04927\n",
      "epoch: 07, loss: -0.04741\n",
      "epoch: 08, loss: -0.04960\n",
      "epoch: 09, loss: -0.04823\n",
      "torch.Size([325, 64])\n"
     ]
    },
    {
     "name": "stderr",
     "output_type": "stream",
     "text": [
      "\r",
      " 24%|██████████████████████████████████████▍                                                                                                                        | 242/1000 [1:44:02<4:41:07, 22.25s/it]"
     ]
    },
    {
     "name": "stdout",
     "output_type": "stream",
     "text": [
      "eigenvalues shape torch.Size([5]) eigenvectors shape torch.Size([5, 325])\n",
      "242 /home/phdcs2/Hard_Disk/Datasets/Deep-Spectral-Segmentation/data/object-segmentation/ECSSD/features/dino_vits16/0243.pth\n",
      "dict_keys(['k', 'indices', 'file', 'id', 'model_name', 'patch_size', 'shape'])\n",
      "0243\n",
      "Starting Training\n",
      "epoch: 00, loss: -0.04079\n",
      "epoch: 01, loss: -0.06040\n",
      "epoch: 02, loss: -0.06176\n",
      "epoch: 03, loss: -0.06215\n",
      "epoch: 04, loss: -0.06257\n",
      "epoch: 05, loss: -0.06268\n",
      "epoch: 06, loss: -0.06306\n",
      "epoch: 07, loss: -0.06305\n",
      "epoch: 08, loss: -0.06315\n",
      "epoch: 09, loss: -0.06343\n",
      "torch.Size([400, 64])\n"
     ]
    },
    {
     "name": "stderr",
     "output_type": "stream",
     "text": [
      "\r",
      " 24%|██████████████████████████████████████▋                                                                                                                        | 243/1000 [1:44:28<4:57:07, 23.55s/it]"
     ]
    },
    {
     "name": "stdout",
     "output_type": "stream",
     "text": [
      "eigenvalues shape torch.Size([5]) eigenvectors shape torch.Size([5, 400])\n",
      "243 /home/phdcs2/Hard_Disk/Datasets/Deep-Spectral-Segmentation/data/object-segmentation/ECSSD/features/dino_vits16/0244.pth\n",
      "dict_keys(['k', 'indices', 'file', 'id', 'model_name', 'patch_size', 'shape'])\n",
      "0244\n",
      "Starting Training\n",
      "epoch: 00, loss: -0.01291\n",
      "epoch: 01, loss: -0.02970\n",
      "epoch: 02, loss: -0.03347\n",
      "epoch: 03, loss: -0.03442\n",
      "epoch: 04, loss: -0.03488\n",
      "epoch: 05, loss: -0.03530\n",
      "epoch: 06, loss: -0.03539\n",
      "epoch: 07, loss: -0.03584\n",
      "epoch: 08, loss: -0.03583\n",
      "epoch: 09, loss: -0.03596\n",
      "torch.Size([400, 64])\n"
     ]
    },
    {
     "name": "stderr",
     "output_type": "stream",
     "text": [
      "\r",
      " 24%|██████████████████████████████████████▊                                                                                                                        | 244/1000 [1:44:52<4:56:43, 23.55s/it]"
     ]
    },
    {
     "name": "stdout",
     "output_type": "stream",
     "text": [
      "eigenvalues shape torch.Size([5]) eigenvectors shape torch.Size([5, 400])\n",
      "244 /home/phdcs2/Hard_Disk/Datasets/Deep-Spectral-Segmentation/data/object-segmentation/ECSSD/features/dino_vits16/0245.pth\n",
      "dict_keys(['k', 'indices', 'file', 'id', 'model_name', 'patch_size', 'shape'])\n",
      "0245\n",
      "Starting Training\n",
      "epoch: 00, loss: -0.03491\n",
      "epoch: 01, loss: -0.06116\n",
      "epoch: 02, loss: -0.06572\n",
      "epoch: 03, loss: -0.06590\n",
      "epoch: 04, loss: -0.06753\n",
      "epoch: 05, loss: -0.06823\n",
      "epoch: 06, loss: -0.06916\n",
      "epoch: 07, loss: -0.06944\n",
      "epoch: 08, loss: -0.07002\n",
      "epoch: 09, loss: -0.06914\n",
      "torch.Size([400, 64])\n"
     ]
    },
    {
     "name": "stderr",
     "output_type": "stream",
     "text": [
      "\r",
      " 24%|██████████████████████████████████████▉                                                                                                                        | 245/1000 [1:45:14<4:51:27, 23.16s/it]"
     ]
    },
    {
     "name": "stdout",
     "output_type": "stream",
     "text": [
      "eigenvalues shape torch.Size([5]) eigenvectors shape torch.Size([5, 400])\n",
      "245 /home/phdcs2/Hard_Disk/Datasets/Deep-Spectral-Segmentation/data/object-segmentation/ECSSD/features/dino_vits16/0246.pth\n",
      "dict_keys(['k', 'indices', 'file', 'id', 'model_name', 'patch_size', 'shape'])\n",
      "0246\n",
      "Starting Training\n",
      "epoch: 00, loss: -0.01429\n",
      "epoch: 01, loss: -0.03405\n",
      "epoch: 02, loss: -0.03787\n",
      "epoch: 03, loss: -0.03889\n",
      "epoch: 04, loss: -0.03953\n",
      "epoch: 05, loss: -0.03977\n",
      "epoch: 06, loss: -0.03998\n",
      "epoch: 07, loss: -0.04002\n",
      "epoch: 08, loss: -0.04006\n",
      "epoch: 09, loss: -0.04026\n",
      "torch.Size([400, 64])\n"
     ]
    },
    {
     "name": "stderr",
     "output_type": "stream",
     "text": [
      "\r",
      " 25%|███████████████████████████████████████                                                                                                                        | 246/1000 [1:45:37<4:49:46, 23.06s/it]"
     ]
    },
    {
     "name": "stdout",
     "output_type": "stream",
     "text": [
      "eigenvalues shape torch.Size([5]) eigenvectors shape torch.Size([5, 400])\n",
      "246 /home/phdcs2/Hard_Disk/Datasets/Deep-Spectral-Segmentation/data/object-segmentation/ECSSD/features/dino_vits16/0247.pth\n",
      "dict_keys(['k', 'indices', 'file', 'id', 'model_name', 'patch_size', 'shape'])\n",
      "0247\n",
      "Starting Training\n",
      "epoch: 00, loss: -0.07790\n",
      "epoch: 01, loss: -0.11011\n",
      "epoch: 02, loss: -0.11094\n",
      "epoch: 03, loss: -0.11324\n",
      "epoch: 04, loss: -0.11674\n",
      "epoch: 05, loss: -0.11731\n",
      "epoch: 06, loss: -0.11887\n",
      "epoch: 07, loss: -0.11819\n",
      "epoch: 08, loss: -0.12039\n",
      "epoch: 09, loss: -0.11856\n",
      "torch.Size([400, 64])\n"
     ]
    },
    {
     "name": "stderr",
     "output_type": "stream",
     "text": [
      "\r",
      " 25%|███████████████████████████████████████▎                                                                                                                       | 247/1000 [1:46:03<5:01:11, 24.00s/it]"
     ]
    },
    {
     "name": "stdout",
     "output_type": "stream",
     "text": [
      "eigenvalues shape torch.Size([5]) eigenvectors shape torch.Size([5, 400])\n",
      "247 /home/phdcs2/Hard_Disk/Datasets/Deep-Spectral-Segmentation/data/object-segmentation/ECSSD/features/dino_vits16/0248.pth\n",
      "dict_keys(['k', 'indices', 'file', 'id', 'model_name', 'patch_size', 'shape'])\n",
      "0248\n",
      "Starting Training\n",
      "epoch: 00, loss: -0.00219\n",
      "epoch: 01, loss: -0.01938\n",
      "epoch: 02, loss: -0.02542\n",
      "epoch: 03, loss: -0.02759\n",
      "epoch: 04, loss: -0.02838\n",
      "epoch: 05, loss: -0.02890\n",
      "epoch: 06, loss: -0.02923\n",
      "epoch: 07, loss: -0.02938\n",
      "epoch: 08, loss: -0.02947\n",
      "epoch: 09, loss: -0.02955\n",
      "torch.Size([450, 64])\n"
     ]
    },
    {
     "name": "stderr",
     "output_type": "stream",
     "text": [
      "\r",
      " 25%|███████████████████████████████████████▍                                                                                                                       | 248/1000 [1:46:25<4:53:42, 23.43s/it]"
     ]
    },
    {
     "name": "stdout",
     "output_type": "stream",
     "text": [
      "eigenvalues shape torch.Size([5]) eigenvectors shape torch.Size([5, 450])\n",
      "248 /home/phdcs2/Hard_Disk/Datasets/Deep-Spectral-Segmentation/data/object-segmentation/ECSSD/features/dino_vits16/0249.pth\n",
      "dict_keys(['k', 'indices', 'file', 'id', 'model_name', 'patch_size', 'shape'])\n",
      "0249\n",
      "Starting Training\n",
      "epoch: 00, loss: -0.02823\n",
      "epoch: 01, loss: -0.05206\n",
      "epoch: 02, loss: -0.05893\n",
      "epoch: 03, loss: -0.05969\n",
      "epoch: 04, loss: -0.05949\n",
      "epoch: 05, loss: -0.05807\n",
      "epoch: 06, loss: -0.05968\n",
      "epoch: 07, loss: -0.05916\n",
      "epoch: 08, loss: -0.06336\n",
      "epoch: 09, loss: -0.06065\n",
      "torch.Size([425, 64])\n"
     ]
    },
    {
     "name": "stderr",
     "output_type": "stream",
     "text": [
      "\r",
      " 25%|███████████████████████████████████████▌                                                                                                                       | 249/1000 [1:46:47<4:46:32, 22.89s/it]"
     ]
    },
    {
     "name": "stdout",
     "output_type": "stream",
     "text": [
      "eigenvalues shape torch.Size([5]) eigenvectors shape torch.Size([5, 425])\n",
      "249 /home/phdcs2/Hard_Disk/Datasets/Deep-Spectral-Segmentation/data/object-segmentation/ECSSD/features/dino_vits16/0250.pth\n",
      "dict_keys(['k', 'indices', 'file', 'id', 'model_name', 'patch_size', 'shape'])\n",
      "0250\n",
      "Starting Training\n",
      "epoch: 00, loss: -0.08465\n",
      "epoch: 01, loss: -0.11267\n",
      "epoch: 02, loss: -0.11692\n",
      "epoch: 03, loss: -0.11860\n",
      "epoch: 04, loss: -0.12110\n",
      "epoch: 05, loss: -0.12061\n",
      "epoch: 06, loss: -0.11990\n",
      "epoch: 07, loss: -0.12241\n",
      "epoch: 08, loss: -0.12176\n",
      "epoch: 09, loss: -0.12353\n",
      "torch.Size([400, 64])\n"
     ]
    },
    {
     "name": "stderr",
     "output_type": "stream",
     "text": [
      "\r",
      " 25%|███████████████████████████████████████▊                                                                                                                       | 250/1000 [1:47:10<4:49:32, 23.16s/it]"
     ]
    },
    {
     "name": "stdout",
     "output_type": "stream",
     "text": [
      "eigenvalues shape torch.Size([5]) eigenvectors shape torch.Size([5, 400])\n",
      "250 /home/phdcs2/Hard_Disk/Datasets/Deep-Spectral-Segmentation/data/object-segmentation/ECSSD/features/dino_vits16/0251.pth\n",
      "dict_keys(['k', 'indices', 'file', 'id', 'model_name', 'patch_size', 'shape'])\n",
      "0251\n",
      "Starting Training\n",
      "epoch: 00, loss: -0.06386\n",
      "epoch: 01, loss: -0.09596\n",
      "epoch: 02, loss: -0.10032\n",
      "epoch: 03, loss: -0.10196\n",
      "epoch: 04, loss: -0.10354\n",
      "epoch: 05, loss: -0.10229\n",
      "epoch: 06, loss: -0.10445\n",
      "epoch: 07, loss: -0.10396\n",
      "epoch: 08, loss: -0.10502\n",
      "epoch: 09, loss: -0.10398\n",
      "torch.Size([450, 64])\n"
     ]
    },
    {
     "name": "stderr",
     "output_type": "stream",
     "text": [
      "\r",
      " 25%|███████████████████████████████████████▉                                                                                                                       | 251/1000 [1:47:35<4:52:24, 23.42s/it]"
     ]
    },
    {
     "name": "stdout",
     "output_type": "stream",
     "text": [
      "eigenvalues shape torch.Size([5]) eigenvectors shape torch.Size([5, 450])\n",
      "251 /home/phdcs2/Hard_Disk/Datasets/Deep-Spectral-Segmentation/data/object-segmentation/ECSSD/features/dino_vits16/0252.pth\n",
      "dict_keys(['k', 'indices', 'file', 'id', 'model_name', 'patch_size', 'shape'])\n",
      "0252\n",
      "Starting Training\n",
      "epoch: 00, loss: -0.02496\n",
      "epoch: 01, loss: -0.05374\n",
      "epoch: 02, loss: -0.05744\n",
      "epoch: 03, loss: -0.06132\n",
      "epoch: 04, loss: -0.06274\n",
      "epoch: 05, loss: -0.06272\n",
      "epoch: 06, loss: -0.06240\n",
      "epoch: 07, loss: -0.06338\n",
      "epoch: 08, loss: -0.06499\n",
      "epoch: 09, loss: -0.06405\n",
      "torch.Size([450, 64])\n"
     ]
    },
    {
     "name": "stderr",
     "output_type": "stream",
     "text": [
      "\r",
      " 25%|████████████████████████████████████████                                                                                                                       | 252/1000 [1:48:03<5:12:37, 25.08s/it]"
     ]
    },
    {
     "name": "stdout",
     "output_type": "stream",
     "text": [
      "eigenvalues shape torch.Size([5]) eigenvectors shape torch.Size([5, 450])\n",
      "252 /home/phdcs2/Hard_Disk/Datasets/Deep-Spectral-Segmentation/data/object-segmentation/ECSSD/features/dino_vits16/0253.pth\n",
      "dict_keys(['k', 'indices', 'file', 'id', 'model_name', 'patch_size', 'shape'])\n",
      "0253\n",
      "Starting Training\n",
      "epoch: 00, loss: -0.01547\n",
      "epoch: 01, loss: -0.03642\n",
      "epoch: 02, loss: -0.04037\n",
      "epoch: 03, loss: -0.04148\n",
      "epoch: 04, loss: -0.04501\n",
      "epoch: 05, loss: -0.04491\n",
      "epoch: 06, loss: -0.04457\n",
      "epoch: 07, loss: -0.04269\n",
      "epoch: 08, loss: -0.04402\n",
      "epoch: 09, loss: -0.04510\n",
      "torch.Size([450, 64])\n"
     ]
    },
    {
     "name": "stderr",
     "output_type": "stream",
     "text": [
      "\r",
      " 25%|████████████████████████████████████████▏                                                                                                                      | 253/1000 [1:48:28<5:10:41, 24.96s/it]"
     ]
    },
    {
     "name": "stdout",
     "output_type": "stream",
     "text": [
      "eigenvalues shape torch.Size([5]) eigenvectors shape torch.Size([5, 450])\n",
      "253 /home/phdcs2/Hard_Disk/Datasets/Deep-Spectral-Segmentation/data/object-segmentation/ECSSD/features/dino_vits16/0254.pth\n",
      "dict_keys(['k', 'indices', 'file', 'id', 'model_name', 'patch_size', 'shape'])\n",
      "0254\n",
      "Starting Training\n",
      "epoch: 00, loss: -0.03661\n",
      "epoch: 01, loss: -0.05204\n",
      "epoch: 02, loss: -0.05304\n",
      "epoch: 03, loss: -0.05436\n",
      "epoch: 04, loss: -0.05475\n",
      "epoch: 05, loss: -0.05386\n",
      "epoch: 06, loss: -0.05476\n",
      "epoch: 07, loss: -0.05520\n",
      "epoch: 08, loss: -0.05522\n",
      "epoch: 09, loss: -0.05516\n",
      "torch.Size([525, 64])\n"
     ]
    },
    {
     "name": "stderr",
     "output_type": "stream",
     "text": [
      "\r",
      " 25%|████████████████████████████████████████▍                                                                                                                      | 254/1000 [1:49:16<6:34:50, 31.76s/it]"
     ]
    },
    {
     "name": "stdout",
     "output_type": "stream",
     "text": [
      "eigenvalues shape torch.Size([5]) eigenvectors shape torch.Size([5, 525])\n",
      "254 /home/phdcs2/Hard_Disk/Datasets/Deep-Spectral-Segmentation/data/object-segmentation/ECSSD/features/dino_vits16/0255.pth\n",
      "dict_keys(['k', 'indices', 'file', 'id', 'model_name', 'patch_size', 'shape'])\n",
      "0255\n",
      "Starting Training\n",
      "epoch: 00, loss: -0.03326\n",
      "epoch: 01, loss: -0.05336\n",
      "epoch: 02, loss: -0.05622\n",
      "epoch: 03, loss: -0.05638\n",
      "epoch: 04, loss: -0.05773\n",
      "epoch: 05, loss: -0.05848\n",
      "epoch: 06, loss: -0.05936\n",
      "epoch: 07, loss: -0.05858\n",
      "epoch: 08, loss: -0.05852\n",
      "epoch: 09, loss: -0.06021\n",
      "torch.Size([575, 64])\n"
     ]
    },
    {
     "name": "stderr",
     "output_type": "stream",
     "text": [
      "\r",
      " 26%|████████████████████████████████████████▌                                                                                                                      | 255/1000 [1:50:06<7:42:46, 37.27s/it]"
     ]
    },
    {
     "name": "stdout",
     "output_type": "stream",
     "text": [
      "eigenvalues shape torch.Size([5]) eigenvectors shape torch.Size([5, 575])\n",
      "255 /home/phdcs2/Hard_Disk/Datasets/Deep-Spectral-Segmentation/data/object-segmentation/ECSSD/features/dino_vits16/0256.pth\n",
      "dict_keys(['k', 'indices', 'file', 'id', 'model_name', 'patch_size', 'shape'])\n",
      "0256\n",
      "Starting Training\n",
      "epoch: 00, loss: -0.05101\n",
      "epoch: 01, loss: -0.07383\n",
      "epoch: 02, loss: -0.07444\n",
      "epoch: 03, loss: -0.07437\n",
      "epoch: 04, loss: -0.07647\n",
      "epoch: 05, loss: -0.07659\n",
      "epoch: 06, loss: -0.07640\n",
      "epoch: 07, loss: -0.07558\n",
      "epoch: 08, loss: -0.07561\n",
      "epoch: 09, loss: -0.07555\n",
      "torch.Size([375, 64])\n"
     ]
    },
    {
     "name": "stderr",
     "output_type": "stream",
     "text": [
      "\r",
      " 26%|████████████████████████████████████████▋                                                                                                                      | 256/1000 [1:50:27<6:40:40, 32.31s/it]"
     ]
    },
    {
     "name": "stdout",
     "output_type": "stream",
     "text": [
      "eigenvalues shape torch.Size([5]) eigenvectors shape torch.Size([5, 375])\n",
      "256 /home/phdcs2/Hard_Disk/Datasets/Deep-Spectral-Segmentation/data/object-segmentation/ECSSD/features/dino_vits16/0257.pth\n",
      "dict_keys(['k', 'indices', 'file', 'id', 'model_name', 'patch_size', 'shape'])\n",
      "0257\n",
      "Starting Training\n",
      "epoch: 00, loss: -0.04829\n",
      "epoch: 01, loss: -0.06514\n",
      "epoch: 02, loss: -0.06460\n",
      "epoch: 03, loss: -0.06502\n",
      "epoch: 04, loss: -0.06487\n",
      "epoch: 05, loss: -0.06521\n",
      "epoch: 06, loss: -0.06654\n",
      "epoch: 07, loss: -0.06545\n",
      "epoch: 08, loss: -0.06691\n",
      "epoch: 09, loss: -0.06674\n",
      "torch.Size([475, 64])\n"
     ]
    },
    {
     "name": "stderr",
     "output_type": "stream",
     "text": [
      "\r",
      " 26%|████████████████████████████████████████▊                                                                                                                      | 257/1000 [1:50:51<6:08:52, 29.79s/it]"
     ]
    },
    {
     "name": "stdout",
     "output_type": "stream",
     "text": [
      "eigenvalues shape torch.Size([5]) eigenvectors shape torch.Size([5, 475])\n",
      "257 /home/phdcs2/Hard_Disk/Datasets/Deep-Spectral-Segmentation/data/object-segmentation/ECSSD/features/dino_vits16/0258.pth\n",
      "dict_keys(['k', 'indices', 'file', 'id', 'model_name', 'patch_size', 'shape'])\n",
      "0258\n",
      "Starting Training\n",
      "epoch: 00, loss: -0.03051\n",
      "epoch: 01, loss: -0.04998\n",
      "epoch: 02, loss: -0.05245\n",
      "epoch: 03, loss: -0.05305\n",
      "epoch: 04, loss: -0.05372\n",
      "epoch: 05, loss: -0.05352\n",
      "epoch: 06, loss: -0.05371\n",
      "epoch: 07, loss: -0.05403\n",
      "epoch: 08, loss: -0.05385\n",
      "epoch: 09, loss: -0.05466\n",
      "torch.Size([400, 64])\n"
     ]
    },
    {
     "name": "stderr",
     "output_type": "stream",
     "text": [
      "\r",
      " 26%|█████████████████████████████████████████                                                                                                                      | 258/1000 [1:51:10<5:30:45, 26.75s/it]"
     ]
    },
    {
     "name": "stdout",
     "output_type": "stream",
     "text": [
      "eigenvalues shape torch.Size([5]) eigenvectors shape torch.Size([5, 400])\n",
      "258 /home/phdcs2/Hard_Disk/Datasets/Deep-Spectral-Segmentation/data/object-segmentation/ECSSD/features/dino_vits16/0259.pth\n",
      "dict_keys(['k', 'indices', 'file', 'id', 'model_name', 'patch_size', 'shape'])\n",
      "0259\n",
      "Starting Training\n",
      "epoch: 00, loss: -0.04631\n",
      "epoch: 01, loss: -0.08266\n",
      "epoch: 02, loss: -0.08355\n",
      "epoch: 03, loss: -0.08483\n",
      "epoch: 04, loss: -0.08730\n",
      "epoch: 05, loss: -0.08770\n",
      "epoch: 06, loss: -0.08878\n",
      "epoch: 07, loss: -0.08861\n",
      "epoch: 08, loss: -0.08902\n",
      "epoch: 09, loss: -0.08935\n",
      "torch.Size([450, 64])\n"
     ]
    },
    {
     "name": "stderr",
     "output_type": "stream",
     "text": [
      "\r",
      " 26%|█████████████████████████████████████████▏                                                                                                                     | 259/1000 [1:51:35<5:24:53, 26.31s/it]"
     ]
    },
    {
     "name": "stdout",
     "output_type": "stream",
     "text": [
      "eigenvalues shape torch.Size([5]) eigenvectors shape torch.Size([5, 450])\n",
      "259 /home/phdcs2/Hard_Disk/Datasets/Deep-Spectral-Segmentation/data/object-segmentation/ECSSD/features/dino_vits16/0260.pth\n",
      "dict_keys(['k', 'indices', 'file', 'id', 'model_name', 'patch_size', 'shape'])\n",
      "0260\n",
      "Starting Training\n",
      "epoch: 00, loss: -0.05759\n",
      "epoch: 01, loss: -0.08990\n",
      "epoch: 02, loss: -0.09246\n",
      "epoch: 03, loss: -0.09281\n",
      "epoch: 04, loss: -0.09474\n",
      "epoch: 05, loss: -0.09387\n",
      "epoch: 06, loss: -0.09574\n",
      "epoch: 07, loss: -0.09481\n",
      "epoch: 08, loss: -0.09521\n",
      "epoch: 09, loss: -0.09495\n",
      "torch.Size([450, 64])\n"
     ]
    },
    {
     "name": "stderr",
     "output_type": "stream",
     "text": [
      "\r",
      " 26%|█████████████████████████████████████████▎                                                                                                                     | 260/1000 [1:51:59<5:13:44, 25.44s/it]"
     ]
    },
    {
     "name": "stdout",
     "output_type": "stream",
     "text": [
      "eigenvalues shape torch.Size([5]) eigenvectors shape torch.Size([5, 450])\n",
      "260 /home/phdcs2/Hard_Disk/Datasets/Deep-Spectral-Segmentation/data/object-segmentation/ECSSD/features/dino_vits16/0261.pth\n",
      "dict_keys(['k', 'indices', 'file', 'id', 'model_name', 'patch_size', 'shape'])\n",
      "0261\n",
      "Starting Training\n",
      "epoch: 00, loss: -0.06729\n",
      "epoch: 01, loss: -0.09574\n",
      "epoch: 02, loss: -0.10105\n",
      "epoch: 03, loss: -0.10114\n",
      "epoch: 04, loss: -0.10233\n",
      "epoch: 05, loss: -0.10305\n",
      "epoch: 06, loss: -0.10348\n",
      "epoch: 07, loss: -0.10189\n",
      "epoch: 08, loss: -0.10409\n",
      "epoch: 09, loss: -0.10632\n",
      "torch.Size([400, 64])\n"
     ]
    },
    {
     "name": "stderr",
     "output_type": "stream",
     "text": [
      "\r",
      " 26%|█████████████████████████████████████████▍                                                                                                                     | 261/1000 [1:52:20<4:58:15, 24.22s/it]"
     ]
    },
    {
     "name": "stdout",
     "output_type": "stream",
     "text": [
      "eigenvalues shape torch.Size([5]) eigenvectors shape torch.Size([5, 400])\n",
      "261 /home/phdcs2/Hard_Disk/Datasets/Deep-Spectral-Segmentation/data/object-segmentation/ECSSD/features/dino_vits16/0262.pth\n",
      "dict_keys(['k', 'indices', 'file', 'id', 'model_name', 'patch_size', 'shape'])\n",
      "0262\n",
      "Starting Training\n",
      "epoch: 00, loss: -0.10577\n",
      "epoch: 01, loss: -0.14472\n",
      "epoch: 02, loss: -0.14925\n",
      "epoch: 03, loss: -0.15098\n",
      "epoch: 04, loss: -0.15864\n",
      "epoch: 05, loss: -0.15420\n",
      "epoch: 06, loss: -0.16146\n",
      "epoch: 07, loss: -0.15905\n",
      "epoch: 08, loss: -0.15620\n",
      "epoch: 09, loss: -0.16004\n",
      "torch.Size([450, 64])\n"
     ]
    },
    {
     "name": "stderr",
     "output_type": "stream",
     "text": [
      "\r",
      " 26%|█████████████████████████████████████████▋                                                                                                                     | 262/1000 [1:52:44<4:56:10, 24.08s/it]"
     ]
    },
    {
     "name": "stdout",
     "output_type": "stream",
     "text": [
      "eigenvalues shape torch.Size([5]) eigenvectors shape torch.Size([5, 450])\n",
      "262 /home/phdcs2/Hard_Disk/Datasets/Deep-Spectral-Segmentation/data/object-segmentation/ECSSD/features/dino_vits16/0263.pth\n",
      "dict_keys(['k', 'indices', 'file', 'id', 'model_name', 'patch_size', 'shape'])\n",
      "0263\n",
      "Starting Training\n",
      "epoch: 00, loss: -0.04852\n",
      "epoch: 01, loss: -0.08652\n",
      "epoch: 02, loss: -0.08836\n",
      "epoch: 03, loss: -0.08930\n",
      "epoch: 04, loss: -0.09287\n",
      "epoch: 05, loss: -0.09207\n",
      "epoch: 06, loss: -0.09236\n",
      "epoch: 07, loss: -0.09202\n",
      "epoch: 08, loss: -0.09467\n",
      "epoch: 09, loss: -0.09241\n",
      "torch.Size([450, 64])\n"
     ]
    },
    {
     "name": "stderr",
     "output_type": "stream",
     "text": [
      "\r",
      " 26%|█████████████████████████████████████████▊                                                                                                                     | 263/1000 [1:53:10<5:02:05, 24.59s/it]"
     ]
    },
    {
     "name": "stdout",
     "output_type": "stream",
     "text": [
      "eigenvalues shape torch.Size([5]) eigenvectors shape torch.Size([5, 450])\n",
      "263 /home/phdcs2/Hard_Disk/Datasets/Deep-Spectral-Segmentation/data/object-segmentation/ECSSD/features/dino_vits16/0264.pth\n",
      "dict_keys(['k', 'indices', 'file', 'id', 'model_name', 'patch_size', 'shape'])\n",
      "0264\n",
      "Starting Training\n",
      "epoch: 00, loss: -0.04847\n",
      "epoch: 01, loss: -0.08028\n",
      "epoch: 02, loss: -0.08854\n",
      "epoch: 03, loss: -0.08828\n",
      "epoch: 04, loss: -0.09184\n",
      "epoch: 05, loss: -0.09090\n",
      "epoch: 06, loss: -0.09199\n",
      "epoch: 07, loss: -0.09233\n",
      "epoch: 08, loss: -0.09414\n",
      "epoch: 09, loss: -0.09046\n",
      "torch.Size([400, 64])\n"
     ]
    },
    {
     "name": "stderr",
     "output_type": "stream",
     "text": [
      "\r",
      " 26%|█████████████████████████████████████████▉                                                                                                                     | 264/1000 [1:53:32<4:51:19, 23.75s/it]"
     ]
    },
    {
     "name": "stdout",
     "output_type": "stream",
     "text": [
      "eigenvalues shape torch.Size([5]) eigenvectors shape torch.Size([5, 400])\n",
      "264 /home/phdcs2/Hard_Disk/Datasets/Deep-Spectral-Segmentation/data/object-segmentation/ECSSD/features/dino_vits16/0265.pth\n",
      "dict_keys(['k', 'indices', 'file', 'id', 'model_name', 'patch_size', 'shape'])\n",
      "0265\n",
      "Starting Training\n",
      "epoch: 00, loss: -0.05696\n",
      "epoch: 01, loss: -0.08861\n",
      "epoch: 02, loss: -0.09118\n",
      "epoch: 03, loss: -0.09309\n",
      "epoch: 04, loss: -0.09315\n",
      "epoch: 05, loss: -0.09414\n",
      "epoch: 06, loss: -0.09610\n",
      "epoch: 07, loss: -0.09602\n",
      "epoch: 08, loss: -0.09718\n",
      "epoch: 09, loss: -0.09896\n",
      "torch.Size([525, 64])\n"
     ]
    },
    {
     "name": "stderr",
     "output_type": "stream",
     "text": [
      "\r",
      " 26%|██████████████████████████████████████████▏                                                                                                                    | 265/1000 [1:54:23<6:32:11, 32.02s/it]"
     ]
    },
    {
     "name": "stdout",
     "output_type": "stream",
     "text": [
      "eigenvalues shape torch.Size([5]) eigenvectors shape torch.Size([5, 525])\n",
      "265 /home/phdcs2/Hard_Disk/Datasets/Deep-Spectral-Segmentation/data/object-segmentation/ECSSD/features/dino_vits16/0266.pth\n",
      "dict_keys(['k', 'indices', 'file', 'id', 'model_name', 'patch_size', 'shape'])\n",
      "0266\n",
      "Starting Training\n",
      "epoch: 00, loss: -0.04973\n",
      "epoch: 01, loss: -0.07024\n",
      "epoch: 02, loss: -0.07097\n",
      "epoch: 03, loss: -0.07178\n",
      "epoch: 04, loss: -0.07204\n",
      "epoch: 05, loss: -0.07244\n",
      "epoch: 06, loss: -0.07217\n",
      "epoch: 07, loss: -0.07359\n",
      "epoch: 08, loss: -0.07246\n",
      "epoch: 09, loss: -0.07258\n",
      "torch.Size([425, 64])\n"
     ]
    },
    {
     "name": "stderr",
     "output_type": "stream",
     "text": [
      "\r",
      " 27%|██████████████████████████████████████████▎                                                                                                                    | 266/1000 [1:54:45<5:54:14, 28.96s/it]"
     ]
    },
    {
     "name": "stdout",
     "output_type": "stream",
     "text": [
      "eigenvalues shape torch.Size([5]) eigenvectors shape torch.Size([5, 425])\n",
      "266 /home/phdcs2/Hard_Disk/Datasets/Deep-Spectral-Segmentation/data/object-segmentation/ECSSD/features/dino_vits16/0267.pth\n",
      "dict_keys(['k', 'indices', 'file', 'id', 'model_name', 'patch_size', 'shape'])\n",
      "0267\n",
      "Starting Training\n",
      "epoch: 00, loss: -0.02858\n",
      "epoch: 01, loss: -0.05004\n",
      "epoch: 02, loss: -0.05178\n",
      "epoch: 03, loss: -0.05277\n",
      "epoch: 04, loss: -0.05279\n",
      "epoch: 05, loss: -0.05287\n",
      "epoch: 06, loss: -0.05316\n",
      "epoch: 07, loss: -0.05341\n",
      "epoch: 08, loss: -0.05340\n",
      "epoch: 09, loss: -0.05347\n",
      "torch.Size([400, 64])\n"
     ]
    },
    {
     "name": "stderr",
     "output_type": "stream",
     "text": [
      "\r",
      " 27%|██████████████████████████████████████████▍                                                                                                                    | 267/1000 [1:55:05<5:23:39, 26.49s/it]"
     ]
    },
    {
     "name": "stdout",
     "output_type": "stream",
     "text": [
      "eigenvalues shape torch.Size([5]) eigenvectors shape torch.Size([5, 400])\n",
      "267 /home/phdcs2/Hard_Disk/Datasets/Deep-Spectral-Segmentation/data/object-segmentation/ECSSD/features/dino_vits16/0268.pth\n",
      "dict_keys(['k', 'indices', 'file', 'id', 'model_name', 'patch_size', 'shape'])\n",
      "0268\n",
      "Starting Training\n",
      "epoch: 00, loss: -0.05691\n",
      "epoch: 01, loss: -0.07119\n",
      "epoch: 02, loss: -0.07179\n",
      "epoch: 03, loss: -0.07207\n",
      "epoch: 04, loss: -0.07247\n",
      "epoch: 05, loss: -0.07242\n",
      "epoch: 06, loss: -0.07276\n",
      "epoch: 07, loss: -0.07275\n",
      "epoch: 08, loss: -0.07288\n",
      "epoch: 09, loss: -0.07310\n",
      "torch.Size([600, 64])\n"
     ]
    },
    {
     "name": "stderr",
     "output_type": "stream",
     "text": [
      "\r",
      " 27%|██████████████████████████████████████████▌                                                                                                                    | 268/1000 [1:55:39<5:47:35, 28.49s/it]"
     ]
    },
    {
     "name": "stdout",
     "output_type": "stream",
     "text": [
      "eigenvalues shape torch.Size([5]) eigenvectors shape torch.Size([5, 600])\n",
      "268 /home/phdcs2/Hard_Disk/Datasets/Deep-Spectral-Segmentation/data/object-segmentation/ECSSD/features/dino_vits16/0269.pth\n",
      "dict_keys(['k', 'indices', 'file', 'id', 'model_name', 'patch_size', 'shape'])\n",
      "0269\n",
      "Starting Training\n",
      "epoch: 00, loss: -0.02057\n",
      "epoch: 01, loss: -0.03603\n",
      "epoch: 02, loss: -0.03871\n",
      "epoch: 03, loss: -0.03941\n",
      "epoch: 04, loss: -0.04003\n",
      "epoch: 05, loss: -0.03993\n",
      "epoch: 06, loss: -0.04012\n",
      "epoch: 07, loss: -0.04049\n",
      "epoch: 08, loss: -0.04055\n",
      "epoch: 09, loss: -0.04063\n",
      "torch.Size([400, 64])\n"
     ]
    },
    {
     "name": "stderr",
     "output_type": "stream",
     "text": [
      "\r",
      " 27%|██████████████████████████████████████████▊                                                                                                                    | 269/1000 [1:56:07<5:47:10, 28.50s/it]"
     ]
    },
    {
     "name": "stdout",
     "output_type": "stream",
     "text": [
      "eigenvalues shape torch.Size([5]) eigenvectors shape torch.Size([5, 400])\n",
      "269 /home/phdcs2/Hard_Disk/Datasets/Deep-Spectral-Segmentation/data/object-segmentation/ECSSD/features/dino_vits16/0270.pth\n",
      "dict_keys(['k', 'indices', 'file', 'id', 'model_name', 'patch_size', 'shape'])\n",
      "0270\n",
      "Starting Training\n",
      "epoch: 00, loss: -0.03159\n",
      "epoch: 01, loss: -0.06016\n",
      "epoch: 02, loss: -0.06382\n",
      "epoch: 03, loss: -0.06227\n",
      "epoch: 04, loss: -0.06505\n",
      "epoch: 05, loss: -0.06312\n",
      "epoch: 06, loss: -0.06568\n",
      "epoch: 07, loss: -0.06568\n",
      "epoch: 08, loss: -0.06374\n",
      "epoch: 09, loss: -0.06725\n",
      "torch.Size([375, 64])\n"
     ]
    },
    {
     "name": "stderr",
     "output_type": "stream",
     "text": [
      "\r",
      " 27%|██████████████████████████████████████████▉                                                                                                                    | 270/1000 [1:56:31<5:28:53, 27.03s/it]"
     ]
    },
    {
     "name": "stdout",
     "output_type": "stream",
     "text": [
      "eigenvalues shape torch.Size([5]) eigenvectors shape torch.Size([5, 375])\n",
      "270 /home/phdcs2/Hard_Disk/Datasets/Deep-Spectral-Segmentation/data/object-segmentation/ECSSD/features/dino_vits16/0271.pth\n",
      "dict_keys(['k', 'indices', 'file', 'id', 'model_name', 'patch_size', 'shape'])\n",
      "0271\n",
      "Starting Training\n",
      "epoch: 00, loss: -0.01783\n",
      "epoch: 01, loss: -0.04077\n",
      "epoch: 02, loss: -0.04321\n",
      "epoch: 03, loss: -0.04402\n",
      "epoch: 04, loss: -0.04441\n",
      "epoch: 05, loss: -0.04445\n",
      "epoch: 06, loss: -0.04480\n",
      "epoch: 07, loss: -0.04498\n",
      "epoch: 08, loss: -0.04507\n",
      "epoch: 09, loss: -0.04526\n",
      "torch.Size([450, 64])\n"
     ]
    },
    {
     "name": "stderr",
     "output_type": "stream",
     "text": [
      "\r",
      " 27%|███████████████████████████████████████████                                                                                                                    | 271/1000 [1:57:02<5:45:31, 28.44s/it]"
     ]
    },
    {
     "name": "stdout",
     "output_type": "stream",
     "text": [
      "eigenvalues shape torch.Size([5]) eigenvectors shape torch.Size([5, 450])\n",
      "271 /home/phdcs2/Hard_Disk/Datasets/Deep-Spectral-Segmentation/data/object-segmentation/ECSSD/features/dino_vits16/0272.pth\n",
      "dict_keys(['k', 'indices', 'file', 'id', 'model_name', 'patch_size', 'shape'])\n",
      "0272\n",
      "Starting Training\n",
      "epoch: 00, loss: -0.03815\n",
      "epoch: 01, loss: -0.07541\n",
      "epoch: 02, loss: -0.07746\n",
      "epoch: 03, loss: -0.08068\n",
      "epoch: 04, loss: -0.08076\n",
      "epoch: 05, loss: -0.08083\n",
      "epoch: 06, loss: -0.07965\n",
      "epoch: 07, loss: -0.08338\n",
      "epoch: 08, loss: -0.08135\n",
      "epoch: 09, loss: -0.08286\n",
      "torch.Size([500, 64])\n"
     ]
    },
    {
     "name": "stderr",
     "output_type": "stream",
     "text": [
      "\r",
      " 27%|███████████████████████████████████████████▏                                                                                                                   | 272/1000 [1:57:35<6:00:05, 29.68s/it]"
     ]
    },
    {
     "name": "stdout",
     "output_type": "stream",
     "text": [
      "eigenvalues shape torch.Size([5]) eigenvectors shape torch.Size([5, 500])\n",
      "272 /home/phdcs2/Hard_Disk/Datasets/Deep-Spectral-Segmentation/data/object-segmentation/ECSSD/features/dino_vits16/0273.pth\n",
      "dict_keys(['k', 'indices', 'file', 'id', 'model_name', 'patch_size', 'shape'])\n",
      "0273\n",
      "Starting Training\n",
      "epoch: 00, loss: -0.05832\n",
      "epoch: 01, loss: -0.07902\n",
      "epoch: 02, loss: -0.07961\n",
      "epoch: 03, loss: -0.08031\n",
      "epoch: 04, loss: -0.08035\n",
      "epoch: 05, loss: -0.08050\n",
      "epoch: 06, loss: -0.08079\n",
      "epoch: 07, loss: -0.08078\n",
      "epoch: 08, loss: -0.08090\n",
      "epoch: 09, loss: -0.08106\n",
      "torch.Size([400, 64])\n"
     ]
    },
    {
     "name": "stderr",
     "output_type": "stream",
     "text": [
      "\r",
      " 27%|███████████████████████████████████████████▍                                                                                                                   | 273/1000 [1:57:56<5:26:29, 26.95s/it]"
     ]
    },
    {
     "name": "stdout",
     "output_type": "stream",
     "text": [
      "eigenvalues shape torch.Size([5]) eigenvectors shape torch.Size([5, 400])\n",
      "273 /home/phdcs2/Hard_Disk/Datasets/Deep-Spectral-Segmentation/data/object-segmentation/ECSSD/features/dino_vits16/0274.pth\n",
      "dict_keys(['k', 'indices', 'file', 'id', 'model_name', 'patch_size', 'shape'])\n",
      "0274\n",
      "Starting Training\n",
      "epoch: 00, loss: -0.02373\n",
      "epoch: 01, loss: -0.04232\n",
      "epoch: 02, loss: -0.04518\n",
      "epoch: 03, loss: -0.04690\n",
      "epoch: 04, loss: -0.04936\n",
      "epoch: 05, loss: -0.05053\n",
      "epoch: 06, loss: -0.04917\n",
      "epoch: 07, loss: -0.05252\n",
      "epoch: 08, loss: -0.05080\n",
      "epoch: 09, loss: -0.05160\n",
      "torch.Size([575, 64])\n"
     ]
    },
    {
     "name": "stderr",
     "output_type": "stream",
     "text": [
      "\r",
      " 27%|███████████████████████████████████████████▌                                                                                                                   | 274/1000 [1:58:41<6:34:42, 32.62s/it]"
     ]
    },
    {
     "name": "stdout",
     "output_type": "stream",
     "text": [
      "eigenvalues shape torch.Size([5]) eigenvectors shape torch.Size([5, 575])\n",
      "274 /home/phdcs2/Hard_Disk/Datasets/Deep-Spectral-Segmentation/data/object-segmentation/ECSSD/features/dino_vits16/0275.pth\n",
      "dict_keys(['k', 'indices', 'file', 'id', 'model_name', 'patch_size', 'shape'])\n",
      "0275\n",
      "Starting Training\n",
      "epoch: 00, loss: -0.02218\n",
      "epoch: 01, loss: -0.04790\n",
      "epoch: 02, loss: -0.05116\n",
      "epoch: 03, loss: -0.05165\n",
      "epoch: 04, loss: -0.05210\n",
      "epoch: 05, loss: -0.05224\n",
      "epoch: 06, loss: -0.05247\n",
      "epoch: 07, loss: -0.05273\n",
      "epoch: 08, loss: -0.05291\n",
      "epoch: 09, loss: -0.05270\n",
      "torch.Size([400, 64])\n"
     ]
    },
    {
     "name": "stderr",
     "output_type": "stream",
     "text": [
      "\r",
      " 28%|███████████████████████████████████████████▋                                                                                                                   | 275/1000 [1:59:07<6:07:58, 30.45s/it]"
     ]
    },
    {
     "name": "stdout",
     "output_type": "stream",
     "text": [
      "eigenvalues shape torch.Size([5]) eigenvectors shape torch.Size([5, 400])\n",
      "275 /home/phdcs2/Hard_Disk/Datasets/Deep-Spectral-Segmentation/data/object-segmentation/ECSSD/features/dino_vits16/0276.pth\n",
      "dict_keys(['k', 'indices', 'file', 'id', 'model_name', 'patch_size', 'shape'])\n",
      "0276\n",
      "Starting Training\n",
      "epoch: 00, loss: -0.08062\n",
      "epoch: 01, loss: -0.10420\n",
      "epoch: 02, loss: -0.10486\n",
      "epoch: 03, loss: -0.10375\n",
      "epoch: 04, loss: -0.10313\n",
      "epoch: 05, loss: -0.10569\n",
      "epoch: 06, loss: -0.10856\n",
      "epoch: 07, loss: -0.10681\n",
      "epoch: 08, loss: -0.10680\n",
      "epoch: 09, loss: -0.10693\n",
      "torch.Size([525, 64])\n"
     ]
    },
    {
     "name": "stderr",
     "output_type": "stream",
     "text": [
      "\r",
      " 28%|███████████████████████████████████████████▉                                                                                                                   | 276/1000 [1:59:56<7:14:09, 35.98s/it]"
     ]
    },
    {
     "name": "stdout",
     "output_type": "stream",
     "text": [
      "eigenvalues shape torch.Size([5]) eigenvectors shape torch.Size([5, 525])\n",
      "276 /home/phdcs2/Hard_Disk/Datasets/Deep-Spectral-Segmentation/data/object-segmentation/ECSSD/features/dino_vits16/0277.pth\n",
      "dict_keys(['k', 'indices', 'file', 'id', 'model_name', 'patch_size', 'shape'])\n",
      "0277\n",
      "Starting Training\n",
      "epoch: 00, loss: -0.00871\n",
      "epoch: 01, loss: -0.02947\n",
      "epoch: 02, loss: -0.03211\n",
      "epoch: 03, loss: -0.03485\n",
      "epoch: 04, loss: -0.03604\n",
      "epoch: 05, loss: -0.03664\n",
      "epoch: 06, loss: -0.03679\n",
      "epoch: 07, loss: -0.03946\n",
      "epoch: 08, loss: -0.03954\n",
      "epoch: 09, loss: -0.03800\n",
      "torch.Size([400, 64])\n"
     ]
    },
    {
     "name": "stderr",
     "output_type": "stream",
     "text": [
      "\r",
      " 28%|████████████████████████████████████████████                                                                                                                   | 277/1000 [2:00:27<6:57:32, 34.65s/it]"
     ]
    },
    {
     "name": "stdout",
     "output_type": "stream",
     "text": [
      "eigenvalues shape torch.Size([5]) eigenvectors shape torch.Size([5, 400])\n",
      "277 /home/phdcs2/Hard_Disk/Datasets/Deep-Spectral-Segmentation/data/object-segmentation/ECSSD/features/dino_vits16/0278.pth\n",
      "dict_keys(['k', 'indices', 'file', 'id', 'model_name', 'patch_size', 'shape'])\n",
      "0278\n",
      "Starting Training\n",
      "epoch: 00, loss: -0.06596\n",
      "epoch: 01, loss: -0.08691\n",
      "epoch: 02, loss: -0.09190\n",
      "epoch: 03, loss: -0.09067\n",
      "epoch: 04, loss: -0.09355\n",
      "epoch: 05, loss: -0.09297\n",
      "epoch: 06, loss: -0.09184\n",
      "epoch: 07, loss: -0.09499\n",
      "epoch: 08, loss: -0.09106\n",
      "epoch: 09, loss: -0.09420\n",
      "torch.Size([550, 64])\n"
     ]
    },
    {
     "name": "stderr",
     "output_type": "stream",
     "text": [
      "\r",
      " 28%|████████████████████████████████████████████▏                                                                                                                  | 278/1000 [2:01:12<7:31:54, 37.55s/it]"
     ]
    },
    {
     "name": "stdout",
     "output_type": "stream",
     "text": [
      "eigenvalues shape torch.Size([5]) eigenvectors shape torch.Size([5, 550])\n",
      "278 /home/phdcs2/Hard_Disk/Datasets/Deep-Spectral-Segmentation/data/object-segmentation/ECSSD/features/dino_vits16/0279.pth\n",
      "dict_keys(['k', 'indices', 'file', 'id', 'model_name', 'patch_size', 'shape'])\n",
      "0279\n",
      "Starting Training\n",
      "epoch: 00, loss: -0.06867\n",
      "epoch: 01, loss: -0.09293\n",
      "epoch: 02, loss: -0.09375\n",
      "epoch: 03, loss: -0.09466\n",
      "epoch: 04, loss: -0.09531\n",
      "epoch: 05, loss: -0.09487\n",
      "epoch: 06, loss: -0.09542\n",
      "epoch: 07, loss: -0.09541\n",
      "epoch: 08, loss: -0.09615\n",
      "epoch: 09, loss: -0.09589\n",
      "torch.Size([450, 64])\n"
     ]
    },
    {
     "name": "stderr",
     "output_type": "stream",
     "text": [
      "\r",
      " 28%|████████████████████████████████████████████▎                                                                                                                  | 279/1000 [2:01:40<6:59:12, 34.89s/it]"
     ]
    },
    {
     "name": "stdout",
     "output_type": "stream",
     "text": [
      "eigenvalues shape torch.Size([5]) eigenvectors shape torch.Size([5, 450])\n",
      "279 /home/phdcs2/Hard_Disk/Datasets/Deep-Spectral-Segmentation/data/object-segmentation/ECSSD/features/dino_vits16/0280.pth\n",
      "dict_keys(['k', 'indices', 'file', 'id', 'model_name', 'patch_size', 'shape'])\n",
      "0280\n",
      "Starting Training\n",
      "epoch: 00, loss: -0.05502\n",
      "epoch: 01, loss: -0.07111\n",
      "epoch: 02, loss: -0.07268\n",
      "epoch: 03, loss: -0.07570\n",
      "epoch: 04, loss: -0.07441\n",
      "epoch: 05, loss: -0.07563\n",
      "epoch: 06, loss: -0.07657\n",
      "epoch: 07, loss: -0.07648\n",
      "epoch: 08, loss: -0.07627\n",
      "epoch: 09, loss: -0.07657\n",
      "torch.Size([625, 64])\n"
     ]
    },
    {
     "name": "stderr",
     "output_type": "stream",
     "text": [
      "\r",
      " 28%|████████████████████████████████████████████▌                                                                                                                  | 280/1000 [2:02:31<7:56:18, 39.69s/it]"
     ]
    },
    {
     "name": "stdout",
     "output_type": "stream",
     "text": [
      "eigenvalues shape torch.Size([5]) eigenvectors shape torch.Size([5, 625])\n",
      "280 /home/phdcs2/Hard_Disk/Datasets/Deep-Spectral-Segmentation/data/object-segmentation/ECSSD/features/dino_vits16/0281.pth\n",
      "dict_keys(['k', 'indices', 'file', 'id', 'model_name', 'patch_size', 'shape'])\n",
      "0281\n",
      "Starting Training\n",
      "epoch: 00, loss: -0.04263\n",
      "epoch: 01, loss: -0.07075\n",
      "epoch: 02, loss: -0.07355\n",
      "epoch: 03, loss: -0.07771\n",
      "epoch: 04, loss: -0.07642\n",
      "epoch: 05, loss: -0.07799\n",
      "epoch: 06, loss: -0.07699\n",
      "epoch: 07, loss: -0.07823\n",
      "epoch: 08, loss: -0.07989\n",
      "epoch: 09, loss: -0.08000\n",
      "torch.Size([450, 64])\n"
     ]
    },
    {
     "name": "stderr",
     "output_type": "stream",
     "text": [
      "\r",
      " 28%|████████████████████████████████████████████▋                                                                                                                  | 281/1000 [2:03:06<7:39:30, 38.35s/it]"
     ]
    },
    {
     "name": "stdout",
     "output_type": "stream",
     "text": [
      "eigenvalues shape torch.Size([5]) eigenvectors shape torch.Size([5, 450])\n",
      "281 /home/phdcs2/Hard_Disk/Datasets/Deep-Spectral-Segmentation/data/object-segmentation/ECSSD/features/dino_vits16/0282.pth\n",
      "dict_keys(['k', 'indices', 'file', 'id', 'model_name', 'patch_size', 'shape'])\n",
      "0282\n",
      "Starting Training\n",
      "epoch: 00, loss: -0.02080\n",
      "epoch: 01, loss: -0.04488\n",
      "epoch: 02, loss: -0.04866\n",
      "epoch: 03, loss: -0.04925\n",
      "epoch: 04, loss: -0.04922\n",
      "epoch: 05, loss: -0.04955\n",
      "epoch: 06, loss: -0.04989\n",
      "epoch: 07, loss: -0.05013\n",
      "epoch: 08, loss: -0.05064\n",
      "epoch: 09, loss: -0.05024\n",
      "torch.Size([400, 64])\n"
     ]
    },
    {
     "name": "stderr",
     "output_type": "stream",
     "text": [
      "\r",
      " 28%|████████████████████████████████████████████▊                                                                                                                  | 282/1000 [2:03:30<6:44:39, 33.82s/it]"
     ]
    },
    {
     "name": "stdout",
     "output_type": "stream",
     "text": [
      "eigenvalues shape torch.Size([5]) eigenvectors shape torch.Size([5, 400])\n",
      "282 /home/phdcs2/Hard_Disk/Datasets/Deep-Spectral-Segmentation/data/object-segmentation/ECSSD/features/dino_vits16/0283.pth\n",
      "dict_keys(['k', 'indices', 'file', 'id', 'model_name', 'patch_size', 'shape'])\n",
      "0283\n",
      "Starting Training\n",
      "epoch: 00, loss: -0.07523\n",
      "epoch: 01, loss: -0.11157\n",
      "epoch: 02, loss: -0.11365\n",
      "epoch: 03, loss: -0.11824\n",
      "epoch: 04, loss: -0.11865\n",
      "epoch: 05, loss: -0.11770\n",
      "epoch: 06, loss: -0.11704\n",
      "epoch: 07, loss: -0.12030\n",
      "epoch: 08, loss: -0.12249\n",
      "epoch: 09, loss: -0.12069\n",
      "torch.Size([400, 64])\n"
     ]
    },
    {
     "name": "stderr",
     "output_type": "stream",
     "text": [
      "\r",
      " 28%|████████████████████████████████████████████▉                                                                                                                  | 283/1000 [2:03:56<6:17:09, 31.56s/it]"
     ]
    },
    {
     "name": "stdout",
     "output_type": "stream",
     "text": [
      "eigenvalues shape torch.Size([5]) eigenvectors shape torch.Size([5, 400])\n",
      "283 /home/phdcs2/Hard_Disk/Datasets/Deep-Spectral-Segmentation/data/object-segmentation/ECSSD/features/dino_vits16/0284.pth\n",
      "dict_keys(['k', 'indices', 'file', 'id', 'model_name', 'patch_size', 'shape'])\n",
      "0284\n",
      "Starting Training\n",
      "epoch: 00, loss: -0.01366\n",
      "epoch: 01, loss: -0.03587\n",
      "epoch: 02, loss: -0.03955\n",
      "epoch: 03, loss: -0.04066\n",
      "epoch: 04, loss: -0.04134\n",
      "epoch: 05, loss: -0.04165\n",
      "epoch: 06, loss: -0.04182\n",
      "epoch: 07, loss: -0.04200\n",
      "epoch: 08, loss: -0.04213\n",
      "epoch: 09, loss: -0.04231\n",
      "torch.Size([400, 64])\n"
     ]
    },
    {
     "name": "stderr",
     "output_type": "stream",
     "text": [
      "\r",
      " 28%|█████████████████████████████████████████████▏                                                                                                                 | 284/1000 [2:04:25<6:09:18, 30.95s/it]"
     ]
    },
    {
     "name": "stdout",
     "output_type": "stream",
     "text": [
      "eigenvalues shape torch.Size([5]) eigenvectors shape torch.Size([5, 400])\n",
      "284 /home/phdcs2/Hard_Disk/Datasets/Deep-Spectral-Segmentation/data/object-segmentation/ECSSD/features/dino_vits16/0285.pth\n",
      "dict_keys(['k', 'indices', 'file', 'id', 'model_name', 'patch_size', 'shape'])\n",
      "0285\n",
      "Starting Training\n",
      "epoch: 00, loss: -0.04194\n",
      "epoch: 01, loss: -0.06203\n",
      "epoch: 02, loss: -0.06787\n",
      "epoch: 03, loss: -0.06729\n",
      "epoch: 04, loss: -0.06909\n",
      "epoch: 05, loss: -0.07119\n",
      "epoch: 06, loss: -0.07134\n",
      "epoch: 07, loss: -0.06903\n",
      "epoch: 08, loss: -0.07019\n",
      "epoch: 09, loss: -0.07123\n",
      "torch.Size([400, 64])\n"
     ]
    },
    {
     "name": "stderr",
     "output_type": "stream",
     "text": [
      "\r",
      " 28%|█████████████████████████████████████████████▎                                                                                                                 | 285/1000 [2:04:54<5:59:43, 30.19s/it]"
     ]
    },
    {
     "name": "stdout",
     "output_type": "stream",
     "text": [
      "eigenvalues shape torch.Size([5]) eigenvectors shape torch.Size([5, 400])\n",
      "285 /home/phdcs2/Hard_Disk/Datasets/Deep-Spectral-Segmentation/data/object-segmentation/ECSSD/features/dino_vits16/0286.pth\n",
      "dict_keys(['k', 'indices', 'file', 'id', 'model_name', 'patch_size', 'shape'])\n",
      "0286\n",
      "Starting Training\n",
      "epoch: 00, loss: -0.18469\n",
      "epoch: 01, loss: -0.21129\n",
      "epoch: 02, loss: -0.22197\n",
      "epoch: 03, loss: -0.22543\n",
      "epoch: 04, loss: -0.22919\n",
      "epoch: 05, loss: -0.22558\n",
      "epoch: 06, loss: -0.23482\n",
      "epoch: 07, loss: -0.23320\n",
      "epoch: 08, loss: -0.23528\n",
      "epoch: 09, loss: -0.24532\n",
      "torch.Size([450, 64])\n"
     ]
    },
    {
     "name": "stderr",
     "output_type": "stream",
     "text": [
      "\r",
      " 29%|█████████████████████████████████████████████▍                                                                                                                 | 286/1000 [2:05:22<5:50:25, 29.45s/it]"
     ]
    },
    {
     "name": "stdout",
     "output_type": "stream",
     "text": [
      "eigenvalues shape torch.Size([5]) eigenvectors shape torch.Size([5, 450])\n",
      "286 /home/phdcs2/Hard_Disk/Datasets/Deep-Spectral-Segmentation/data/object-segmentation/ECSSD/features/dino_vits16/0287.pth\n",
      "dict_keys(['k', 'indices', 'file', 'id', 'model_name', 'patch_size', 'shape'])\n",
      "0287\n",
      "Starting Training\n",
      "epoch: 00, loss: -0.02565\n",
      "epoch: 01, loss: -0.04438\n",
      "epoch: 02, loss: -0.04568\n",
      "epoch: 03, loss: -0.04763\n",
      "epoch: 04, loss: -0.04827\n",
      "epoch: 05, loss: -0.04821\n",
      "epoch: 06, loss: -0.04795\n",
      "epoch: 07, loss: -0.04738\n",
      "epoch: 08, loss: -0.04944\n",
      "epoch: 09, loss: -0.04866\n",
      "torch.Size([375, 64])\n"
     ]
    },
    {
     "name": "stderr",
     "output_type": "stream",
     "text": [
      "\r",
      " 29%|█████████████████████████████████████████████▋                                                                                                                 | 287/1000 [2:05:44<5:25:40, 27.41s/it]"
     ]
    },
    {
     "name": "stdout",
     "output_type": "stream",
     "text": [
      "eigenvalues shape torch.Size([5]) eigenvectors shape torch.Size([5, 375])\n",
      "287 /home/phdcs2/Hard_Disk/Datasets/Deep-Spectral-Segmentation/data/object-segmentation/ECSSD/features/dino_vits16/0288.pth\n",
      "dict_keys(['k', 'indices', 'file', 'id', 'model_name', 'patch_size', 'shape'])\n",
      "0288\n",
      "Starting Training\n",
      "epoch: 00, loss: -0.05267\n",
      "epoch: 01, loss: -0.08823\n",
      "epoch: 02, loss: -0.09000\n",
      "epoch: 03, loss: -0.09030\n",
      "epoch: 04, loss: -0.09579\n",
      "epoch: 05, loss: -0.09540\n",
      "epoch: 06, loss: -0.09795\n",
      "epoch: 07, loss: -0.09402\n",
      "epoch: 08, loss: -0.09417\n",
      "epoch: 09, loss: -0.09845\n",
      "torch.Size([450, 64])\n"
     ]
    },
    {
     "name": "stderr",
     "output_type": "stream",
     "text": [
      "\r",
      " 29%|█████████████████████████████████████████████▊                                                                                                                 | 288/1000 [2:06:07<5:10:32, 26.17s/it]"
     ]
    },
    {
     "name": "stdout",
     "output_type": "stream",
     "text": [
      "eigenvalues shape torch.Size([5]) eigenvectors shape torch.Size([5, 450])\n",
      "288 /home/phdcs2/Hard_Disk/Datasets/Deep-Spectral-Segmentation/data/object-segmentation/ECSSD/features/dino_vits16/0289.pth\n",
      "dict_keys(['k', 'indices', 'file', 'id', 'model_name', 'patch_size', 'shape'])\n",
      "0289\n",
      "Starting Training\n",
      "epoch: 00, loss: -0.07703\n",
      "epoch: 01, loss: -0.09022\n",
      "epoch: 02, loss: -0.09050\n",
      "epoch: 03, loss: -0.09080\n",
      "epoch: 04, loss: -0.09137\n",
      "epoch: 05, loss: -0.09113\n",
      "epoch: 06, loss: -0.09152\n",
      "epoch: 07, loss: -0.09153\n",
      "epoch: 08, loss: -0.09168\n",
      "epoch: 09, loss: -0.09183\n",
      "torch.Size([450, 64])\n"
     ]
    },
    {
     "name": "stderr",
     "output_type": "stream",
     "text": [
      "\r",
      " 29%|█████████████████████████████████████████████▉                                                                                                                 | 289/1000 [2:06:31<5:01:49, 25.47s/it]"
     ]
    },
    {
     "name": "stdout",
     "output_type": "stream",
     "text": [
      "eigenvalues shape torch.Size([5]) eigenvectors shape torch.Size([5, 450])\n",
      "289 /home/phdcs2/Hard_Disk/Datasets/Deep-Spectral-Segmentation/data/object-segmentation/ECSSD/features/dino_vits16/0290.pth\n",
      "dict_keys(['k', 'indices', 'file', 'id', 'model_name', 'patch_size', 'shape'])\n",
      "0290\n",
      "Starting Training\n",
      "epoch: 00, loss: -0.04451\n",
      "epoch: 01, loss: -0.07123\n",
      "epoch: 02, loss: -0.07424\n",
      "epoch: 03, loss: -0.07671\n",
      "epoch: 04, loss: -0.07713\n",
      "epoch: 05, loss: -0.07611\n",
      "epoch: 06, loss: -0.07642\n",
      "epoch: 07, loss: -0.07764\n",
      "epoch: 08, loss: -0.07754\n",
      "epoch: 09, loss: -0.07708\n",
      "torch.Size([375, 64])\n"
     ]
    },
    {
     "name": "stderr",
     "output_type": "stream",
     "text": [
      "\r",
      " 29%|██████████████████████████████████████████████                                                                                                                 | 290/1000 [2:06:56<4:59:10, 25.28s/it]"
     ]
    },
    {
     "name": "stdout",
     "output_type": "stream",
     "text": [
      "eigenvalues shape torch.Size([5]) eigenvectors shape torch.Size([5, 375])\n",
      "290 /home/phdcs2/Hard_Disk/Datasets/Deep-Spectral-Segmentation/data/object-segmentation/ECSSD/features/dino_vits16/0291.pth\n",
      "dict_keys(['k', 'indices', 'file', 'id', 'model_name', 'patch_size', 'shape'])\n",
      "0291\n",
      "Starting Training\n",
      "epoch: 00, loss: -0.04236\n",
      "epoch: 01, loss: -0.06515\n",
      "epoch: 02, loss: -0.06511\n",
      "epoch: 03, loss: -0.06515\n",
      "epoch: 04, loss: -0.06601\n",
      "epoch: 05, loss: -0.06599\n",
      "epoch: 06, loss: -0.06680\n",
      "epoch: 07, loss: -0.06672\n",
      "epoch: 08, loss: -0.06614\n",
      "epoch: 09, loss: -0.06775\n",
      "torch.Size([475, 64])\n"
     ]
    },
    {
     "name": "stderr",
     "output_type": "stream",
     "text": [
      "\r",
      " 29%|██████████████████████████████████████████████▎                                                                                                                | 291/1000 [2:07:28<5:22:50, 27.32s/it]"
     ]
    },
    {
     "name": "stdout",
     "output_type": "stream",
     "text": [
      "eigenvalues shape torch.Size([5]) eigenvectors shape torch.Size([5, 475])\n",
      "291 /home/phdcs2/Hard_Disk/Datasets/Deep-Spectral-Segmentation/data/object-segmentation/ECSSD/features/dino_vits16/0292.pth\n",
      "dict_keys(['k', 'indices', 'file', 'id', 'model_name', 'patch_size', 'shape'])\n",
      "0292\n",
      "Starting Training\n",
      "epoch: 00, loss: -0.05340\n",
      "epoch: 01, loss: -0.06877\n",
      "epoch: 02, loss: -0.06952\n",
      "epoch: 03, loss: -0.07002\n",
      "epoch: 04, loss: -0.07019\n",
      "epoch: 05, loss: -0.07045\n",
      "epoch: 06, loss: -0.07075\n",
      "epoch: 07, loss: -0.07078\n",
      "epoch: 08, loss: -0.07080\n",
      "epoch: 09, loss: -0.07106\n",
      "torch.Size([400, 64])\n"
     ]
    },
    {
     "name": "stderr",
     "output_type": "stream",
     "text": [
      "\r",
      " 29%|██████████████████████████████████████████████▍                                                                                                                | 292/1000 [2:07:52<5:08:30, 26.15s/it]"
     ]
    },
    {
     "name": "stdout",
     "output_type": "stream",
     "text": [
      "eigenvalues shape torch.Size([5]) eigenvectors shape torch.Size([5, 400])\n",
      "292 /home/phdcs2/Hard_Disk/Datasets/Deep-Spectral-Segmentation/data/object-segmentation/ECSSD/features/dino_vits16/0293.pth\n",
      "dict_keys(['k', 'indices', 'file', 'id', 'model_name', 'patch_size', 'shape'])\n",
      "0293\n",
      "Starting Training\n",
      "epoch: 00, loss: -0.04883\n",
      "epoch: 01, loss: -0.07099\n",
      "epoch: 02, loss: -0.07180\n",
      "epoch: 03, loss: -0.07244\n",
      "epoch: 04, loss: -0.07232\n",
      "epoch: 05, loss: -0.07279\n",
      "epoch: 06, loss: -0.07297\n",
      "epoch: 07, loss: -0.07466\n",
      "epoch: 08, loss: -0.07352\n",
      "epoch: 09, loss: -0.07305\n",
      "torch.Size([425, 64])\n"
     ]
    },
    {
     "name": "stderr",
     "output_type": "stream",
     "text": [
      "\r",
      " 29%|██████████████████████████████████████████████▌                                                                                                                | 293/1000 [2:08:16<5:02:32, 25.68s/it]"
     ]
    },
    {
     "name": "stdout",
     "output_type": "stream",
     "text": [
      "eigenvalues shape torch.Size([5]) eigenvectors shape torch.Size([5, 425])\n",
      "293 /home/phdcs2/Hard_Disk/Datasets/Deep-Spectral-Segmentation/data/object-segmentation/ECSSD/features/dino_vits16/0294.pth\n",
      "dict_keys(['k', 'indices', 'file', 'id', 'model_name', 'patch_size', 'shape'])\n",
      "0294\n",
      "Starting Training\n",
      "epoch: 00, loss: -0.03630\n",
      "epoch: 01, loss: -0.06040\n",
      "epoch: 02, loss: -0.06385\n",
      "epoch: 03, loss: -0.06391\n",
      "epoch: 04, loss: -0.06536\n",
      "epoch: 05, loss: -0.06542\n",
      "epoch: 06, loss: -0.06656\n",
      "epoch: 07, loss: -0.06689\n",
      "epoch: 08, loss: -0.06597\n",
      "epoch: 09, loss: -0.06624\n",
      "torch.Size([425, 64])\n"
     ]
    },
    {
     "name": "stderr",
     "output_type": "stream",
     "text": [
      "\r",
      " 29%|██████████████████████████████████████████████▋                                                                                                                | 294/1000 [2:08:42<5:02:27, 25.70s/it]"
     ]
    },
    {
     "name": "stdout",
     "output_type": "stream",
     "text": [
      "eigenvalues shape torch.Size([5]) eigenvectors shape torch.Size([5, 425])\n",
      "294 /home/phdcs2/Hard_Disk/Datasets/Deep-Spectral-Segmentation/data/object-segmentation/ECSSD/features/dino_vits16/0295.pth\n",
      "dict_keys(['k', 'indices', 'file', 'id', 'model_name', 'patch_size', 'shape'])\n",
      "0295\n",
      "Starting Training\n",
      "epoch: 00, loss: -0.04495\n",
      "epoch: 01, loss: -0.07787\n",
      "epoch: 02, loss: -0.07879\n",
      "epoch: 03, loss: -0.08154\n",
      "epoch: 04, loss: -0.08288\n",
      "epoch: 05, loss: -0.08351\n",
      "epoch: 06, loss: -0.08654\n",
      "epoch: 07, loss: -0.08153\n",
      "epoch: 08, loss: -0.08316\n",
      "epoch: 09, loss: -0.08643\n",
      "torch.Size([425, 64])\n"
     ]
    },
    {
     "name": "stderr",
     "output_type": "stream",
     "text": [
      "\r",
      " 30%|██████████████████████████████████████████████▉                                                                                                                | 295/1000 [2:09:08<5:01:51, 25.69s/it]"
     ]
    },
    {
     "name": "stdout",
     "output_type": "stream",
     "text": [
      "eigenvalues shape torch.Size([5]) eigenvectors shape torch.Size([5, 425])\n",
      "295 /home/phdcs2/Hard_Disk/Datasets/Deep-Spectral-Segmentation/data/object-segmentation/ECSSD/features/dino_vits16/0296.pth\n",
      "dict_keys(['k', 'indices', 'file', 'id', 'model_name', 'patch_size', 'shape'])\n",
      "0296\n",
      "Starting Training\n",
      "epoch: 00, loss: -0.02213\n",
      "epoch: 01, loss: -0.04005\n",
      "epoch: 02, loss: -0.04277\n",
      "epoch: 03, loss: -0.04501\n",
      "epoch: 04, loss: -0.04376\n",
      "epoch: 05, loss: -0.04370\n",
      "epoch: 06, loss: -0.04452\n",
      "epoch: 07, loss: -0.04488\n",
      "epoch: 08, loss: -0.04475\n",
      "epoch: 09, loss: -0.04533\n",
      "torch.Size([425, 64])\n"
     ]
    },
    {
     "name": "stderr",
     "output_type": "stream",
     "text": [
      "\r",
      " 30%|███████████████████████████████████████████████                                                                                                                | 296/1000 [2:09:33<4:59:56, 25.56s/it]"
     ]
    },
    {
     "name": "stdout",
     "output_type": "stream",
     "text": [
      "eigenvalues shape torch.Size([5]) eigenvectors shape torch.Size([5, 425])\n",
      "296 /home/phdcs2/Hard_Disk/Datasets/Deep-Spectral-Segmentation/data/object-segmentation/ECSSD/features/dino_vits16/0297.pth\n",
      "dict_keys(['k', 'indices', 'file', 'id', 'model_name', 'patch_size', 'shape'])\n",
      "0297\n",
      "Starting Training\n",
      "epoch: 00, loss: -0.03170\n",
      "epoch: 01, loss: -0.05309\n",
      "epoch: 02, loss: -0.05637\n",
      "epoch: 03, loss: -0.05703\n",
      "epoch: 04, loss: -0.05872\n",
      "epoch: 05, loss: -0.05796\n",
      "epoch: 06, loss: -0.05979\n",
      "epoch: 07, loss: -0.05946\n",
      "epoch: 08, loss: -0.05901\n",
      "epoch: 09, loss: -0.06081\n",
      "torch.Size([475, 64])\n"
     ]
    },
    {
     "name": "stderr",
     "output_type": "stream",
     "text": [
      "\r",
      " 30%|███████████████████████████████████████████████▏                                                                                                               | 297/1000 [2:10:02<5:12:36, 26.68s/it]"
     ]
    },
    {
     "name": "stdout",
     "output_type": "stream",
     "text": [
      "eigenvalues shape torch.Size([5]) eigenvectors shape torch.Size([5, 475])\n",
      "297 /home/phdcs2/Hard_Disk/Datasets/Deep-Spectral-Segmentation/data/object-segmentation/ECSSD/features/dino_vits16/0298.pth\n",
      "dict_keys(['k', 'indices', 'file', 'id', 'model_name', 'patch_size', 'shape'])\n",
      "0298\n",
      "Starting Training\n",
      "epoch: 00, loss: -0.05658\n",
      "epoch: 01, loss: -0.08451\n",
      "epoch: 02, loss: -0.08564\n",
      "epoch: 03, loss: -0.08571\n",
      "epoch: 04, loss: -0.08608\n",
      "epoch: 05, loss: -0.08604\n",
      "epoch: 06, loss: -0.08629\n",
      "epoch: 07, loss: -0.08619\n",
      "epoch: 08, loss: -0.08644\n",
      "epoch: 09, loss: -0.08656\n",
      "torch.Size([400, 64])\n"
     ]
    },
    {
     "name": "stderr",
     "output_type": "stream",
     "text": [
      "\r",
      " 30%|███████████████████████████████████████████████▍                                                                                                               | 298/1000 [2:10:24<4:54:34, 25.18s/it]"
     ]
    },
    {
     "name": "stdout",
     "output_type": "stream",
     "text": [
      "eigenvalues shape torch.Size([5]) eigenvectors shape torch.Size([5, 400])\n",
      "298 /home/phdcs2/Hard_Disk/Datasets/Deep-Spectral-Segmentation/data/object-segmentation/ECSSD/features/dino_vits16/0299.pth\n",
      "dict_keys(['k', 'indices', 'file', 'id', 'model_name', 'patch_size', 'shape'])\n",
      "0299\n",
      "Starting Training\n",
      "epoch: 00, loss: -0.02260\n",
      "epoch: 01, loss: -0.04128\n",
      "epoch: 02, loss: -0.04893\n",
      "epoch: 03, loss: -0.05262\n",
      "epoch: 04, loss: -0.05242\n",
      "epoch: 05, loss: -0.05554\n",
      "epoch: 06, loss: -0.05314\n",
      "epoch: 07, loss: -0.05343\n",
      "epoch: 08, loss: -0.05215\n",
      "epoch: 09, loss: -0.05465\n",
      "torch.Size([450, 64])\n"
     ]
    },
    {
     "name": "stderr",
     "output_type": "stream",
     "text": [
      "\r",
      " 30%|███████████████████████████████████████████████▌                                                                                                               | 299/1000 [2:10:47<4:46:23, 24.51s/it]"
     ]
    },
    {
     "name": "stdout",
     "output_type": "stream",
     "text": [
      "eigenvalues shape torch.Size([5]) eigenvectors shape torch.Size([5, 450])\n",
      "299 /home/phdcs2/Hard_Disk/Datasets/Deep-Spectral-Segmentation/data/object-segmentation/ECSSD/features/dino_vits16/0300.pth\n",
      "dict_keys(['k', 'indices', 'file', 'id', 'model_name', 'patch_size', 'shape'])\n",
      "0300\n",
      "Starting Training\n",
      "epoch: 00, loss: 0.00346\n",
      "epoch: 01, loss: -0.00585\n",
      "epoch: 02, loss: -0.00992\n",
      "epoch: 03, loss: -0.01198\n",
      "epoch: 04, loss: -0.01264\n",
      "epoch: 05, loss: -0.01326\n",
      "epoch: 06, loss: -0.01416\n",
      "epoch: 07, loss: -0.01462\n",
      "epoch: 08, loss: -0.01404\n",
      "epoch: 09, loss: -0.01442\n",
      "torch.Size([475, 64])\n"
     ]
    },
    {
     "name": "stderr",
     "output_type": "stream",
     "text": [
      "\r",
      " 30%|███████████████████████████████████████████████▋                                                                                                               | 300/1000 [2:11:16<5:02:30, 25.93s/it]"
     ]
    },
    {
     "name": "stdout",
     "output_type": "stream",
     "text": [
      "eigenvalues shape torch.Size([5]) eigenvectors shape torch.Size([5, 475])\n",
      "300 /home/phdcs2/Hard_Disk/Datasets/Deep-Spectral-Segmentation/data/object-segmentation/ECSSD/features/dino_vits16/0301.pth\n",
      "dict_keys(['k', 'indices', 'file', 'id', 'model_name', 'patch_size', 'shape'])\n",
      "0301\n",
      "Starting Training\n",
      "epoch: 00, loss: -0.00348\n",
      "epoch: 01, loss: -0.02245\n",
      "epoch: 02, loss: -0.02655\n",
      "epoch: 03, loss: -0.02812\n",
      "epoch: 04, loss: -0.02869\n",
      "epoch: 05, loss: -0.02916\n",
      "epoch: 06, loss: -0.02921\n",
      "epoch: 07, loss: -0.02955\n",
      "epoch: 08, loss: -0.02977\n",
      "epoch: 09, loss: -0.02986\n",
      "torch.Size([400, 64])\n"
     ]
    },
    {
     "name": "stderr",
     "output_type": "stream",
     "text": [
      "\r",
      " 30%|███████████████████████████████████████████████▊                                                                                                               | 301/1000 [2:11:39<4:52:38, 25.12s/it]"
     ]
    },
    {
     "name": "stdout",
     "output_type": "stream",
     "text": [
      "eigenvalues shape torch.Size([5]) eigenvectors shape torch.Size([5, 400])\n",
      "301 /home/phdcs2/Hard_Disk/Datasets/Deep-Spectral-Segmentation/data/object-segmentation/ECSSD/features/dino_vits16/0302.pth\n",
      "dict_keys(['k', 'indices', 'file', 'id', 'model_name', 'patch_size', 'shape'])\n",
      "0302\n",
      "Starting Training\n",
      "epoch: 00, loss: -0.04016\n",
      "epoch: 01, loss: -0.06695\n",
      "epoch: 02, loss: -0.06993\n",
      "epoch: 03, loss: -0.07196\n",
      "epoch: 04, loss: -0.07121\n",
      "epoch: 05, loss: -0.07396\n",
      "epoch: 06, loss: -0.07319\n",
      "epoch: 07, loss: -0.07445\n",
      "epoch: 08, loss: -0.07384\n",
      "epoch: 09, loss: -0.07463\n",
      "torch.Size([450, 64])\n"
     ]
    },
    {
     "name": "stderr",
     "output_type": "stream",
     "text": [
      "\r",
      " 30%|████████████████████████████████████████████████                                                                                                               | 302/1000 [2:12:05<4:54:01, 25.27s/it]"
     ]
    },
    {
     "name": "stdout",
     "output_type": "stream",
     "text": [
      "eigenvalues shape torch.Size([5]) eigenvectors shape torch.Size([5, 450])\n",
      "302 /home/phdcs2/Hard_Disk/Datasets/Deep-Spectral-Segmentation/data/object-segmentation/ECSSD/features/dino_vits16/0303.pth\n",
      "dict_keys(['k', 'indices', 'file', 'id', 'model_name', 'patch_size', 'shape'])\n",
      "0303\n",
      "Starting Training\n",
      "epoch: 00, loss: 0.00102\n",
      "epoch: 01, loss: -0.01304\n",
      "epoch: 02, loss: -0.02298\n",
      "epoch: 03, loss: -0.02426\n",
      "epoch: 04, loss: -0.02518\n",
      "epoch: 05, loss: -0.02608\n",
      "epoch: 06, loss: -0.02681\n",
      "epoch: 07, loss: -0.02900\n",
      "epoch: 08, loss: -0.02934\n",
      "epoch: 09, loss: -0.02837\n",
      "torch.Size([450, 64])\n"
     ]
    },
    {
     "name": "stderr",
     "output_type": "stream",
     "text": [
      "\r",
      " 30%|████████████████████████████████████████████████▏                                                                                                              | 303/1000 [2:12:30<4:51:32, 25.10s/it]"
     ]
    },
    {
     "name": "stdout",
     "output_type": "stream",
     "text": [
      "eigenvalues shape torch.Size([5]) eigenvectors shape torch.Size([5, 450])\n",
      "303 /home/phdcs2/Hard_Disk/Datasets/Deep-Spectral-Segmentation/data/object-segmentation/ECSSD/features/dino_vits16/0304.pth\n",
      "dict_keys(['k', 'indices', 'file', 'id', 'model_name', 'patch_size', 'shape'])\n",
      "0304\n",
      "Starting Training\n",
      "epoch: 00, loss: -0.00491\n",
      "epoch: 01, loss: -0.02169\n",
      "epoch: 02, loss: -0.02603\n",
      "epoch: 03, loss: -0.02727\n",
      "epoch: 04, loss: -0.02787\n",
      "epoch: 05, loss: -0.02821\n",
      "epoch: 06, loss: -0.02841\n",
      "epoch: 07, loss: -0.02863\n",
      "epoch: 08, loss: -0.02874\n",
      "epoch: 09, loss: -0.02885\n",
      "torch.Size([400, 64])\n"
     ]
    },
    {
     "name": "stderr",
     "output_type": "stream",
     "text": [
      "\r",
      " 30%|████████████████████████████████████████████████▎                                                                                                              | 304/1000 [2:12:53<4:45:44, 24.63s/it]"
     ]
    },
    {
     "name": "stdout",
     "output_type": "stream",
     "text": [
      "eigenvalues shape torch.Size([5]) eigenvectors shape torch.Size([5, 400])\n",
      "304 /home/phdcs2/Hard_Disk/Datasets/Deep-Spectral-Segmentation/data/object-segmentation/ECSSD/features/dino_vits16/0305.pth\n",
      "dict_keys(['k', 'indices', 'file', 'id', 'model_name', 'patch_size', 'shape'])\n",
      "0305\n",
      "Starting Training\n",
      "epoch: 00, loss: 0.00093\n",
      "epoch: 01, loss: -0.01450\n",
      "epoch: 02, loss: -0.02020\n",
      "epoch: 03, loss: -0.02273\n",
      "epoch: 04, loss: -0.02375\n",
      "epoch: 05, loss: -0.02444\n",
      "epoch: 06, loss: -0.02468\n",
      "epoch: 07, loss: -0.02503\n",
      "epoch: 08, loss: -0.02506\n",
      "epoch: 09, loss: -0.02524\n",
      "torch.Size([400, 64])\n"
     ]
    },
    {
     "name": "stderr",
     "output_type": "stream",
     "text": [
      "\r",
      " 30%|████████████████████████████████████████████████▍                                                                                                              | 305/1000 [2:13:17<4:42:59, 24.43s/it]"
     ]
    },
    {
     "name": "stdout",
     "output_type": "stream",
     "text": [
      "eigenvalues shape torch.Size([5]) eigenvectors shape torch.Size([5, 400])\n",
      "305 /home/phdcs2/Hard_Disk/Datasets/Deep-Spectral-Segmentation/data/object-segmentation/ECSSD/features/dino_vits16/0306.pth\n",
      "dict_keys(['k', 'indices', 'file', 'id', 'model_name', 'patch_size', 'shape'])\n",
      "0306\n",
      "Starting Training\n",
      "epoch: 00, loss: -0.01932\n",
      "epoch: 01, loss: -0.03699\n",
      "epoch: 02, loss: -0.03956\n",
      "epoch: 03, loss: -0.04048\n",
      "epoch: 04, loss: -0.04099\n",
      "epoch: 05, loss: -0.04113\n",
      "epoch: 06, loss: -0.04124\n",
      "epoch: 07, loss: -0.04160\n",
      "epoch: 08, loss: -0.04152\n",
      "epoch: 09, loss: -0.04165\n",
      "torch.Size([400, 64])\n"
     ]
    },
    {
     "name": "stderr",
     "output_type": "stream",
     "text": [
      "\r",
      " 31%|████████████████████████████████████████████████▋                                                                                                              | 306/1000 [2:13:40<4:38:14, 24.06s/it]"
     ]
    },
    {
     "name": "stdout",
     "output_type": "stream",
     "text": [
      "eigenvalues shape torch.Size([5]) eigenvectors shape torch.Size([5, 400])\n",
      "306 /home/phdcs2/Hard_Disk/Datasets/Deep-Spectral-Segmentation/data/object-segmentation/ECSSD/features/dino_vits16/0307.pth\n",
      "dict_keys(['k', 'indices', 'file', 'id', 'model_name', 'patch_size', 'shape'])\n",
      "0307\n",
      "Starting Training\n",
      "epoch: 00, loss: -0.01506\n",
      "epoch: 01, loss: -0.04613\n",
      "epoch: 02, loss: -0.05023\n",
      "epoch: 03, loss: -0.05344\n",
      "epoch: 04, loss: -0.05373\n",
      "epoch: 05, loss: -0.05303\n",
      "epoch: 06, loss: -0.05523\n",
      "epoch: 07, loss: -0.05502\n",
      "epoch: 08, loss: -0.05610\n",
      "epoch: 09, loss: -0.05504\n",
      "torch.Size([450, 64])\n"
     ]
    },
    {
     "name": "stderr",
     "output_type": "stream",
     "text": [
      "\r",
      " 31%|████████████████████████████████████████████████▊                                                                                                              | 307/1000 [2:14:07<4:47:18, 24.88s/it]"
     ]
    },
    {
     "name": "stdout",
     "output_type": "stream",
     "text": [
      "eigenvalues shape torch.Size([5]) eigenvectors shape torch.Size([5, 450])\n",
      "307 /home/phdcs2/Hard_Disk/Datasets/Deep-Spectral-Segmentation/data/object-segmentation/ECSSD/features/dino_vits16/0308.pth\n",
      "dict_keys(['k', 'indices', 'file', 'id', 'model_name', 'patch_size', 'shape'])\n",
      "0308\n",
      "Starting Training\n",
      "epoch: 00, loss: -0.06181\n",
      "epoch: 01, loss: -0.08512\n",
      "epoch: 02, loss: -0.08851\n",
      "epoch: 03, loss: -0.08970\n",
      "epoch: 04, loss: -0.09119\n",
      "epoch: 05, loss: -0.09214\n",
      "epoch: 06, loss: -0.09305\n",
      "epoch: 07, loss: -0.09235\n",
      "epoch: 08, loss: -0.09355\n",
      "epoch: 09, loss: -0.09514\n",
      "torch.Size([450, 64])\n"
     ]
    },
    {
     "name": "stderr",
     "output_type": "stream",
     "text": [
      "\r",
      " 31%|████████████████████████████████████████████████▉                                                                                                              | 308/1000 [2:14:33<4:49:43, 25.12s/it]"
     ]
    },
    {
     "name": "stdout",
     "output_type": "stream",
     "text": [
      "eigenvalues shape torch.Size([5]) eigenvectors shape torch.Size([5, 450])\n",
      "308 /home/phdcs2/Hard_Disk/Datasets/Deep-Spectral-Segmentation/data/object-segmentation/ECSSD/features/dino_vits16/0309.pth\n",
      "dict_keys(['k', 'indices', 'file', 'id', 'model_name', 'patch_size', 'shape'])\n",
      "0309\n",
      "Starting Training\n",
      "epoch: 00, loss: 0.00742\n",
      "epoch: 01, loss: -0.00681\n",
      "epoch: 02, loss: -0.01408\n",
      "epoch: 03, loss: -0.01862\n",
      "epoch: 04, loss: -0.01891\n",
      "epoch: 05, loss: -0.02060\n",
      "epoch: 06, loss: -0.02114\n",
      "epoch: 07, loss: -0.02095\n",
      "epoch: 08, loss: -0.02095\n",
      "epoch: 09, loss: -0.02114\n",
      "torch.Size([400, 64])\n"
     ]
    },
    {
     "name": "stderr",
     "output_type": "stream",
     "text": [
      "\r",
      " 31%|█████████████████████████████████████████████████▏                                                                                                             | 309/1000 [2:14:56<4:42:40, 24.55s/it]"
     ]
    },
    {
     "name": "stdout",
     "output_type": "stream",
     "text": [
      "eigenvalues shape torch.Size([5]) eigenvectors shape torch.Size([5, 400])\n",
      "309 /home/phdcs2/Hard_Disk/Datasets/Deep-Spectral-Segmentation/data/object-segmentation/ECSSD/features/dino_vits16/0310.pth\n",
      "dict_keys(['k', 'indices', 'file', 'id', 'model_name', 'patch_size', 'shape'])\n",
      "0310\n",
      "Starting Training\n",
      "epoch: 00, loss: -0.01329\n",
      "epoch: 01, loss: -0.03776\n",
      "epoch: 02, loss: -0.04254\n",
      "epoch: 03, loss: -0.04551\n",
      "epoch: 04, loss: -0.04580\n",
      "epoch: 05, loss: -0.04790\n",
      "epoch: 06, loss: -0.04583\n",
      "epoch: 07, loss: -0.04672\n",
      "epoch: 08, loss: -0.04677\n",
      "epoch: 09, loss: -0.04803\n",
      "torch.Size([450, 64])\n"
     ]
    },
    {
     "name": "stderr",
     "output_type": "stream",
     "text": [
      "\r",
      " 31%|█████████████████████████████████████████████████▎                                                                                                             | 310/1000 [2:15:22<4:47:19, 24.99s/it]"
     ]
    },
    {
     "name": "stdout",
     "output_type": "stream",
     "text": [
      "eigenvalues shape torch.Size([5]) eigenvectors shape torch.Size([5, 450])\n",
      "310 /home/phdcs2/Hard_Disk/Datasets/Deep-Spectral-Segmentation/data/object-segmentation/ECSSD/features/dino_vits16/0311.pth\n",
      "dict_keys(['k', 'indices', 'file', 'id', 'model_name', 'patch_size', 'shape'])\n",
      "0311\n",
      "Starting Training\n",
      "epoch: 00, loss: -0.01835\n",
      "epoch: 01, loss: -0.03858\n",
      "epoch: 02, loss: -0.04188\n",
      "epoch: 03, loss: -0.04239\n",
      "epoch: 04, loss: -0.04257\n",
      "epoch: 05, loss: -0.04288\n",
      "epoch: 06, loss: -0.04310\n",
      "epoch: 07, loss: -0.04326\n",
      "epoch: 08, loss: -0.04352\n",
      "epoch: 09, loss: -0.04369\n",
      "torch.Size([400, 64])\n"
     ]
    },
    {
     "name": "stderr",
     "output_type": "stream",
     "text": [
      "\r",
      " 31%|█████████████████████████████████████████████████▍                                                                                                             | 311/1000 [2:15:42<4:30:50, 23.59s/it]"
     ]
    },
    {
     "name": "stdout",
     "output_type": "stream",
     "text": [
      "eigenvalues shape torch.Size([5]) eigenvectors shape torch.Size([5, 400])\n",
      "311 /home/phdcs2/Hard_Disk/Datasets/Deep-Spectral-Segmentation/data/object-segmentation/ECSSD/features/dino_vits16/0312.pth\n",
      "dict_keys(['k', 'indices', 'file', 'id', 'model_name', 'patch_size', 'shape'])\n",
      "0312\n",
      "Starting Training\n",
      "epoch: 00, loss: -0.01960\n",
      "epoch: 01, loss: -0.05378\n",
      "epoch: 02, loss: -0.06242\n",
      "epoch: 03, loss: -0.06182\n",
      "epoch: 04, loss: -0.06298\n",
      "epoch: 05, loss: -0.06317\n",
      "epoch: 06, loss: -0.06400\n",
      "epoch: 07, loss: -0.06766\n",
      "epoch: 08, loss: -0.06504\n",
      "epoch: 09, loss: -0.06716\n",
      "torch.Size([400, 64])\n"
     ]
    },
    {
     "name": "stderr",
     "output_type": "stream",
     "text": [
      "\r",
      " 31%|█████████████████████████████████████████████████▌                                                                                                             | 312/1000 [2:16:05<4:26:57, 23.28s/it]"
     ]
    },
    {
     "name": "stdout",
     "output_type": "stream",
     "text": [
      "eigenvalues shape torch.Size([5]) eigenvectors shape torch.Size([5, 400])\n",
      "312 /home/phdcs2/Hard_Disk/Datasets/Deep-Spectral-Segmentation/data/object-segmentation/ECSSD/features/dino_vits16/0313.pth\n",
      "dict_keys(['k', 'indices', 'file', 'id', 'model_name', 'patch_size', 'shape'])\n",
      "0313\n",
      "Starting Training\n",
      "epoch: 00, loss: -0.02528\n",
      "epoch: 01, loss: -0.05740\n",
      "epoch: 02, loss: -0.06236\n",
      "epoch: 03, loss: -0.06316\n",
      "epoch: 04, loss: -0.06390\n",
      "epoch: 05, loss: -0.06506\n",
      "epoch: 06, loss: -0.06557\n",
      "epoch: 07, loss: -0.06669\n",
      "epoch: 08, loss: -0.06803\n",
      "epoch: 09, loss: -0.06688\n",
      "torch.Size([400, 64])\n"
     ]
    },
    {
     "name": "stderr",
     "output_type": "stream",
     "text": [
      "\r",
      " 31%|█████████████████████████████████████████████████▊                                                                                                             | 313/1000 [2:16:30<4:31:51, 23.74s/it]"
     ]
    },
    {
     "name": "stdout",
     "output_type": "stream",
     "text": [
      "eigenvalues shape torch.Size([5]) eigenvectors shape torch.Size([5, 400])\n",
      "313 /home/phdcs2/Hard_Disk/Datasets/Deep-Spectral-Segmentation/data/object-segmentation/ECSSD/features/dino_vits16/0314.pth\n",
      "dict_keys(['k', 'indices', 'file', 'id', 'model_name', 'patch_size', 'shape'])\n",
      "0314\n",
      "Starting Training\n",
      "epoch: 00, loss: -0.01510\n",
      "epoch: 01, loss: -0.04745\n",
      "epoch: 02, loss: -0.05184\n",
      "epoch: 03, loss: -0.05518\n",
      "epoch: 04, loss: -0.05823\n",
      "epoch: 05, loss: -0.05907\n",
      "epoch: 06, loss: -0.05924\n",
      "epoch: 07, loss: -0.06150\n",
      "epoch: 08, loss: -0.05817\n",
      "epoch: 09, loss: -0.06007\n",
      "torch.Size([400, 64])\n"
     ]
    },
    {
     "name": "stderr",
     "output_type": "stream",
     "text": [
      "\r",
      " 31%|█████████████████████████████████████████████████▉                                                                                                             | 314/1000 [2:16:49<4:14:58, 22.30s/it]"
     ]
    },
    {
     "name": "stdout",
     "output_type": "stream",
     "text": [
      "eigenvalues shape torch.Size([5]) eigenvectors shape torch.Size([5, 400])\n",
      "314 /home/phdcs2/Hard_Disk/Datasets/Deep-Spectral-Segmentation/data/object-segmentation/ECSSD/features/dino_vits16/0315.pth\n",
      "dict_keys(['k', 'indices', 'file', 'id', 'model_name', 'patch_size', 'shape'])\n",
      "0315\n",
      "Starting Training\n",
      "epoch: 00, loss: -0.04677\n",
      "epoch: 01, loss: -0.06387\n",
      "epoch: 02, loss: -0.06441\n",
      "epoch: 03, loss: -0.06564\n",
      "epoch: 04, loss: -0.06573\n",
      "epoch: 05, loss: -0.06560\n",
      "epoch: 06, loss: -0.06595\n",
      "epoch: 07, loss: -0.06623\n",
      "epoch: 08, loss: -0.06620\n",
      "epoch: 09, loss: -0.06646\n",
      "torch.Size([450, 64])\n"
     ]
    },
    {
     "name": "stderr",
     "output_type": "stream",
     "text": [
      "\r",
      " 32%|██████████████████████████████████████████████████                                                                                                             | 315/1000 [2:17:21<4:47:48, 25.21s/it]"
     ]
    },
    {
     "name": "stdout",
     "output_type": "stream",
     "text": [
      "eigenvalues shape torch.Size([5]) eigenvectors shape torch.Size([5, 450])\n",
      "315 /home/phdcs2/Hard_Disk/Datasets/Deep-Spectral-Segmentation/data/object-segmentation/ECSSD/features/dino_vits16/0316.pth\n",
      "dict_keys(['k', 'indices', 'file', 'id', 'model_name', 'patch_size', 'shape'])\n",
      "0316\n",
      "Starting Training\n",
      "epoch: 00, loss: -0.01745\n",
      "epoch: 01, loss: -0.03536\n",
      "epoch: 02, loss: -0.03801\n",
      "epoch: 03, loss: -0.03874\n",
      "epoch: 04, loss: -0.03936\n",
      "epoch: 05, loss: -0.03927\n",
      "epoch: 06, loss: -0.03966\n",
      "epoch: 07, loss: -0.03981\n",
      "epoch: 08, loss: -0.03982\n",
      "epoch: 09, loss: -0.03994\n",
      "torch.Size([450, 64])\n"
     ]
    },
    {
     "name": "stderr",
     "output_type": "stream",
     "text": [
      "\r",
      " 32%|██████████████████████████████████████████████████▏                                                                                                            | 316/1000 [2:17:47<4:50:39, 25.50s/it]"
     ]
    },
    {
     "name": "stdout",
     "output_type": "stream",
     "text": [
      "eigenvalues shape torch.Size([5]) eigenvectors shape torch.Size([5, 450])\n",
      "316 /home/phdcs2/Hard_Disk/Datasets/Deep-Spectral-Segmentation/data/object-segmentation/ECSSD/features/dino_vits16/0317.pth\n",
      "dict_keys(['k', 'indices', 'file', 'id', 'model_name', 'patch_size', 'shape'])\n",
      "0317\n",
      "Starting Training\n",
      "epoch: 00, loss: -0.07488\n",
      "epoch: 01, loss: -0.10821\n",
      "epoch: 02, loss: -0.11136\n",
      "epoch: 03, loss: -0.11322\n",
      "epoch: 04, loss: -0.11219\n",
      "epoch: 05, loss: -0.11578\n",
      "epoch: 06, loss: -0.11350\n",
      "epoch: 07, loss: -0.11325\n",
      "epoch: 08, loss: -0.11596\n",
      "epoch: 09, loss: -0.11509\n",
      "torch.Size([450, 64])\n"
     ]
    },
    {
     "name": "stderr",
     "output_type": "stream",
     "text": [
      "\r",
      " 32%|██████████████████████████████████████████████████▍                                                                                                            | 317/1000 [2:18:15<5:00:34, 26.40s/it]"
     ]
    },
    {
     "name": "stdout",
     "output_type": "stream",
     "text": [
      "eigenvalues shape torch.Size([5]) eigenvectors shape torch.Size([5, 450])\n",
      "317 /home/phdcs2/Hard_Disk/Datasets/Deep-Spectral-Segmentation/data/object-segmentation/ECSSD/features/dino_vits16/0318.pth\n",
      "dict_keys(['k', 'indices', 'file', 'id', 'model_name', 'patch_size', 'shape'])\n",
      "0318\n",
      "Starting Training\n",
      "epoch: 00, loss: -0.05392\n",
      "epoch: 01, loss: -0.08011\n",
      "epoch: 02, loss: -0.08041\n",
      "epoch: 03, loss: -0.08049\n",
      "epoch: 04, loss: -0.08081\n",
      "epoch: 05, loss: -0.08090\n",
      "epoch: 06, loss: -0.08128\n",
      "epoch: 07, loss: -0.08132\n",
      "epoch: 08, loss: -0.08128\n",
      "epoch: 09, loss: -0.08143\n",
      "torch.Size([450, 64])\n"
     ]
    },
    {
     "name": "stderr",
     "output_type": "stream",
     "text": [
      "\r",
      " 32%|██████████████████████████████████████████████████▌                                                                                                            | 318/1000 [2:18:45<5:09:34, 27.23s/it]"
     ]
    },
    {
     "name": "stdout",
     "output_type": "stream",
     "text": [
      "eigenvalues shape torch.Size([5]) eigenvectors shape torch.Size([5, 450])\n",
      "318 /home/phdcs2/Hard_Disk/Datasets/Deep-Spectral-Segmentation/data/object-segmentation/ECSSD/features/dino_vits16/0319.pth\n",
      "dict_keys(['k', 'indices', 'file', 'id', 'model_name', 'patch_size', 'shape'])\n",
      "0319\n",
      "Starting Training\n",
      "epoch: 00, loss: -0.01801\n",
      "epoch: 01, loss: -0.04161\n",
      "epoch: 02, loss: -0.04748\n",
      "epoch: 03, loss: -0.05038\n",
      "epoch: 04, loss: -0.04987\n",
      "epoch: 05, loss: -0.05107\n",
      "epoch: 06, loss: -0.05088\n",
      "epoch: 07, loss: -0.05138\n",
      "epoch: 08, loss: -0.05185\n",
      "epoch: 09, loss: -0.05224\n",
      "torch.Size([450, 64])\n"
     ]
    },
    {
     "name": "stderr",
     "output_type": "stream",
     "text": [
      "\r",
      " 32%|██████████████████████████████████████████████████▋                                                                                                            | 319/1000 [2:19:08<4:54:52, 25.98s/it]"
     ]
    },
    {
     "name": "stdout",
     "output_type": "stream",
     "text": [
      "eigenvalues shape torch.Size([5]) eigenvectors shape torch.Size([5, 450])\n",
      "319 /home/phdcs2/Hard_Disk/Datasets/Deep-Spectral-Segmentation/data/object-segmentation/ECSSD/features/dino_vits16/0320.pth\n",
      "dict_keys(['k', 'indices', 'file', 'id', 'model_name', 'patch_size', 'shape'])\n",
      "0320\n",
      "Starting Training\n",
      "epoch: 00, loss: -0.01538\n",
      "epoch: 01, loss: -0.03351\n",
      "epoch: 02, loss: -0.03969\n",
      "epoch: 03, loss: -0.03969\n",
      "epoch: 04, loss: -0.04067\n",
      "epoch: 05, loss: -0.04073\n",
      "epoch: 06, loss: -0.04229\n",
      "epoch: 07, loss: -0.04079\n",
      "epoch: 08, loss: -0.04229\n",
      "epoch: 09, loss: -0.04152\n",
      "torch.Size([450, 64])\n"
     ]
    },
    {
     "name": "stderr",
     "output_type": "stream",
     "text": [
      "\r",
      " 32%|██████████████████████████████████████████████████▉                                                                                                            | 320/1000 [2:19:35<4:58:15, 26.32s/it]"
     ]
    },
    {
     "name": "stdout",
     "output_type": "stream",
     "text": [
      "eigenvalues shape torch.Size([5]) eigenvectors shape torch.Size([5, 450])\n",
      "320 /home/phdcs2/Hard_Disk/Datasets/Deep-Spectral-Segmentation/data/object-segmentation/ECSSD/features/dino_vits16/0321.pth\n",
      "dict_keys(['k', 'indices', 'file', 'id', 'model_name', 'patch_size', 'shape'])\n",
      "0321\n",
      "Starting Training\n",
      "epoch: 00, loss: -0.02158\n",
      "epoch: 01, loss: -0.04136\n",
      "epoch: 02, loss: -0.04611\n",
      "epoch: 03, loss: -0.04621\n",
      "epoch: 04, loss: -0.04838\n",
      "epoch: 05, loss: -0.04638\n",
      "epoch: 06, loss: -0.05017\n",
      "epoch: 07, loss: -0.04965\n",
      "epoch: 08, loss: -0.04889\n",
      "epoch: 09, loss: -0.05026\n",
      "torch.Size([500, 64])\n"
     ]
    },
    {
     "name": "stderr",
     "output_type": "stream",
     "text": [
      "\r",
      " 32%|███████████████████████████████████████████████████                                                                                                            | 321/1000 [2:20:12<5:36:21, 29.72s/it]"
     ]
    },
    {
     "name": "stdout",
     "output_type": "stream",
     "text": [
      "eigenvalues shape torch.Size([5]) eigenvectors shape torch.Size([5, 500])\n",
      "321 /home/phdcs2/Hard_Disk/Datasets/Deep-Spectral-Segmentation/data/object-segmentation/ECSSD/features/dino_vits16/0322.pth\n",
      "dict_keys(['k', 'indices', 'file', 'id', 'model_name', 'patch_size', 'shape'])\n",
      "0322\n",
      "Starting Training\n",
      "epoch: 00, loss: -0.04025\n",
      "epoch: 01, loss: -0.05595\n",
      "epoch: 02, loss: -0.05713\n",
      "epoch: 03, loss: -0.05779\n",
      "epoch: 04, loss: -0.05795\n",
      "epoch: 05, loss: -0.05803\n",
      "epoch: 06, loss: -0.05834\n",
      "epoch: 07, loss: -0.05847\n",
      "epoch: 08, loss: -0.05856\n",
      "epoch: 09, loss: -0.05876\n",
      "torch.Size([450, 64])\n"
     ]
    },
    {
     "name": "stderr",
     "output_type": "stream",
     "text": [
      "\r",
      " 32%|███████████████████████████████████████████████████▏                                                                                                           | 322/1000 [2:20:39<5:24:56, 28.76s/it]"
     ]
    },
    {
     "name": "stdout",
     "output_type": "stream",
     "text": [
      "eigenvalues shape torch.Size([5]) eigenvectors shape torch.Size([5, 450])\n",
      "322 /home/phdcs2/Hard_Disk/Datasets/Deep-Spectral-Segmentation/data/object-segmentation/ECSSD/features/dino_vits16/0323.pth\n",
      "dict_keys(['k', 'indices', 'file', 'id', 'model_name', 'patch_size', 'shape'])\n",
      "0323\n",
      "Starting Training\n",
      "epoch: 00, loss: -0.04318\n",
      "epoch: 01, loss: -0.06425\n",
      "epoch: 02, loss: -0.06519\n",
      "epoch: 03, loss: -0.06588\n",
      "epoch: 04, loss: -0.06632\n",
      "epoch: 05, loss: -0.06637\n",
      "epoch: 06, loss: -0.06662\n",
      "epoch: 07, loss: -0.06677\n",
      "epoch: 08, loss: -0.06686\n",
      "epoch: 09, loss: -0.06706\n",
      "torch.Size([450, 64])\n"
     ]
    },
    {
     "name": "stderr",
     "output_type": "stream",
     "text": [
      "\r",
      " 32%|███████████████████████████████████████████████████▎                                                                                                           | 323/1000 [2:21:05<5:15:33, 27.97s/it]"
     ]
    },
    {
     "name": "stdout",
     "output_type": "stream",
     "text": [
      "eigenvalues shape torch.Size([5]) eigenvectors shape torch.Size([5, 450])\n",
      "323 /home/phdcs2/Hard_Disk/Datasets/Deep-Spectral-Segmentation/data/object-segmentation/ECSSD/features/dino_vits16/0324.pth\n",
      "dict_keys(['k', 'indices', 'file', 'id', 'model_name', 'patch_size', 'shape'])\n",
      "0324\n",
      "Starting Training\n",
      "epoch: 00, loss: -0.02288\n",
      "epoch: 01, loss: -0.04870\n",
      "epoch: 02, loss: -0.05134\n",
      "epoch: 03, loss: -0.05174\n",
      "epoch: 04, loss: -0.05193\n",
      "epoch: 05, loss: -0.05229\n",
      "epoch: 06, loss: -0.05226\n",
      "epoch: 07, loss: -0.05253\n",
      "epoch: 08, loss: -0.05267\n",
      "epoch: 09, loss: -0.05269\n",
      "torch.Size([450, 64])\n"
     ]
    },
    {
     "name": "stderr",
     "output_type": "stream",
     "text": [
      "\r",
      " 32%|███████████████████████████████████████████████████▌                                                                                                           | 324/1000 [2:21:31<5:10:13, 27.53s/it]"
     ]
    },
    {
     "name": "stdout",
     "output_type": "stream",
     "text": [
      "eigenvalues shape torch.Size([5]) eigenvectors shape torch.Size([5, 450])\n",
      "324 /home/phdcs2/Hard_Disk/Datasets/Deep-Spectral-Segmentation/data/object-segmentation/ECSSD/features/dino_vits16/0325.pth\n",
      "dict_keys(['k', 'indices', 'file', 'id', 'model_name', 'patch_size', 'shape'])\n",
      "0325\n",
      "Starting Training\n",
      "epoch: 00, loss: -0.01015\n",
      "epoch: 01, loss: -0.02613\n",
      "epoch: 02, loss: -0.02914\n",
      "epoch: 03, loss: -0.03018\n",
      "epoch: 04, loss: -0.03063\n",
      "epoch: 05, loss: -0.03082\n",
      "epoch: 06, loss: -0.03107\n",
      "epoch: 07, loss: -0.03137\n",
      "epoch: 08, loss: -0.03140\n",
      "epoch: 09, loss: -0.03152\n",
      "torch.Size([450, 64])\n"
     ]
    },
    {
     "name": "stderr",
     "output_type": "stream",
     "text": [
      "\r",
      " 32%|███████████████████████████████████████████████████▋                                                                                                           | 325/1000 [2:21:55<4:57:18, 26.43s/it]"
     ]
    },
    {
     "name": "stdout",
     "output_type": "stream",
     "text": [
      "eigenvalues shape torch.Size([5]) eigenvectors shape torch.Size([5, 450])\n",
      "325 /home/phdcs2/Hard_Disk/Datasets/Deep-Spectral-Segmentation/data/object-segmentation/ECSSD/features/dino_vits16/0326.pth\n",
      "dict_keys(['k', 'indices', 'file', 'id', 'model_name', 'patch_size', 'shape'])\n",
      "0326\n",
      "Starting Training\n",
      "epoch: 00, loss: -0.01271\n",
      "epoch: 01, loss: -0.03550\n",
      "epoch: 02, loss: -0.03834\n",
      "epoch: 03, loss: -0.04402\n",
      "epoch: 04, loss: -0.04425\n",
      "epoch: 05, loss: -0.04797\n",
      "epoch: 06, loss: -0.04601\n",
      "epoch: 07, loss: -0.04801\n",
      "epoch: 08, loss: -0.04479\n",
      "epoch: 09, loss: -0.04604\n",
      "torch.Size([425, 64])\n"
     ]
    },
    {
     "name": "stderr",
     "output_type": "stream",
     "text": [
      "\r",
      " 33%|███████████████████████████████████████████████████▊                                                                                                           | 326/1000 [2:22:19<4:46:11, 25.48s/it]"
     ]
    },
    {
     "name": "stdout",
     "output_type": "stream",
     "text": [
      "eigenvalues shape torch.Size([5]) eigenvectors shape torch.Size([5, 425])\n",
      "326 /home/phdcs2/Hard_Disk/Datasets/Deep-Spectral-Segmentation/data/object-segmentation/ECSSD/features/dino_vits16/0327.pth\n",
      "dict_keys(['k', 'indices', 'file', 'id', 'model_name', 'patch_size', 'shape'])\n",
      "0327\n",
      "Starting Training\n",
      "epoch: 00, loss: -0.08670\n",
      "epoch: 01, loss: -0.11458\n",
      "epoch: 02, loss: -0.11853\n",
      "epoch: 03, loss: -0.12015\n",
      "epoch: 04, loss: -0.12124\n",
      "epoch: 05, loss: -0.12198\n",
      "epoch: 06, loss: -0.12216\n",
      "epoch: 07, loss: -0.12299\n",
      "epoch: 08, loss: -0.12284\n",
      "epoch: 09, loss: -0.12394\n",
      "torch.Size([450, 64])\n"
     ]
    },
    {
     "name": "stderr",
     "output_type": "stream",
     "text": [
      "\r",
      " 33%|███████████████████████████████████████████████████▉                                                                                                           | 327/1000 [2:22:44<4:46:44, 25.56s/it]"
     ]
    },
    {
     "name": "stdout",
     "output_type": "stream",
     "text": [
      "eigenvalues shape torch.Size([5]) eigenvectors shape torch.Size([5, 450])\n",
      "327 /home/phdcs2/Hard_Disk/Datasets/Deep-Spectral-Segmentation/data/object-segmentation/ECSSD/features/dino_vits16/0328.pth\n",
      "dict_keys(['k', 'indices', 'file', 'id', 'model_name', 'patch_size', 'shape'])\n",
      "0328\n",
      "Starting Training\n",
      "epoch: 00, loss: -0.03738\n",
      "epoch: 01, loss: -0.06233\n",
      "epoch: 02, loss: -0.06739\n",
      "epoch: 03, loss: -0.06548\n",
      "epoch: 04, loss: -0.06570\n",
      "epoch: 05, loss: -0.06907\n",
      "epoch: 06, loss: -0.06771\n",
      "epoch: 07, loss: -0.07060\n",
      "epoch: 08, loss: -0.06785\n",
      "epoch: 09, loss: -0.07151\n",
      "torch.Size([475, 64])\n"
     ]
    },
    {
     "name": "stderr",
     "output_type": "stream",
     "text": [
      "\r",
      " 33%|████████████████████████████████████████████████████▏                                                                                                          | 328/1000 [2:23:16<5:05:32, 27.28s/it]"
     ]
    },
    {
     "name": "stdout",
     "output_type": "stream",
     "text": [
      "eigenvalues shape torch.Size([5]) eigenvectors shape torch.Size([5, 475])\n",
      "328 /home/phdcs2/Hard_Disk/Datasets/Deep-Spectral-Segmentation/data/object-segmentation/ECSSD/features/dino_vits16/0329.pth\n",
      "dict_keys(['k', 'indices', 'file', 'id', 'model_name', 'patch_size', 'shape'])\n",
      "0329\n",
      "Starting Training\n",
      "epoch: 00, loss: -0.03418\n",
      "epoch: 01, loss: -0.05408\n",
      "epoch: 02, loss: -0.05538\n",
      "epoch: 03, loss: -0.05571\n",
      "epoch: 04, loss: -0.05614\n",
      "epoch: 05, loss: -0.05618\n",
      "epoch: 06, loss: -0.05658\n",
      "epoch: 07, loss: -0.05643\n",
      "epoch: 08, loss: -0.05664\n",
      "epoch: 09, loss: -0.05666\n",
      "torch.Size([500, 64])\n"
     ]
    },
    {
     "name": "stderr",
     "output_type": "stream",
     "text": [
      "\r",
      " 33%|████████████████████████████████████████████████████▎                                                                                                          | 329/1000 [2:23:42<5:02:17, 27.03s/it]"
     ]
    },
    {
     "name": "stdout",
     "output_type": "stream",
     "text": [
      "eigenvalues shape torch.Size([5]) eigenvectors shape torch.Size([5, 500])\n",
      "329 /home/phdcs2/Hard_Disk/Datasets/Deep-Spectral-Segmentation/data/object-segmentation/ECSSD/features/dino_vits16/0330.pth\n",
      "dict_keys(['k', 'indices', 'file', 'id', 'model_name', 'patch_size', 'shape'])\n",
      "0330\n",
      "Starting Training\n",
      "epoch: 00, loss: -0.00818\n",
      "epoch: 01, loss: -0.03162\n",
      "epoch: 02, loss: -0.03479\n",
      "epoch: 03, loss: -0.03666\n",
      "epoch: 04, loss: -0.03785\n",
      "epoch: 05, loss: -0.03881\n",
      "epoch: 06, loss: -0.03859\n",
      "epoch: 07, loss: -0.03885\n",
      "epoch: 08, loss: -0.03861\n",
      "epoch: 09, loss: -0.03841\n",
      "torch.Size([450, 64])\n"
     ]
    },
    {
     "name": "stderr",
     "output_type": "stream",
     "text": [
      "\r",
      " 33%|████████████████████████████████████████████████████▍                                                                                                          | 330/1000 [2:24:06<4:50:54, 26.05s/it]"
     ]
    },
    {
     "name": "stdout",
     "output_type": "stream",
     "text": [
      "eigenvalues shape torch.Size([5]) eigenvectors shape torch.Size([5, 450])\n",
      "330 /home/phdcs2/Hard_Disk/Datasets/Deep-Spectral-Segmentation/data/object-segmentation/ECSSD/features/dino_vits16/0331.pth\n",
      "dict_keys(['k', 'indices', 'file', 'id', 'model_name', 'patch_size', 'shape'])\n",
      "0331\n",
      "Starting Training\n",
      "epoch: 00, loss: -0.07740\n",
      "epoch: 01, loss: -0.10660\n",
      "epoch: 02, loss: -0.10685\n",
      "epoch: 03, loss: -0.10634\n",
      "epoch: 04, loss: -0.10839\n",
      "epoch: 05, loss: -0.10756\n",
      "epoch: 06, loss: -0.10832\n",
      "epoch: 07, loss: -0.10792\n",
      "epoch: 08, loss: -0.11032\n",
      "epoch: 09, loss: -0.10828\n",
      "torch.Size([450, 64])\n"
     ]
    },
    {
     "name": "stderr",
     "output_type": "stream",
     "text": [
      "\r",
      " 33%|████████████████████████████████████████████████████▋                                                                                                          | 331/1000 [2:24:28<4:38:45, 25.00s/it]"
     ]
    },
    {
     "name": "stdout",
     "output_type": "stream",
     "text": [
      "eigenvalues shape torch.Size([5]) eigenvectors shape torch.Size([5, 450])\n",
      "331 /home/phdcs2/Hard_Disk/Datasets/Deep-Spectral-Segmentation/data/object-segmentation/ECSSD/features/dino_vits16/0332.pth\n",
      "dict_keys(['k', 'indices', 'file', 'id', 'model_name', 'patch_size', 'shape'])\n",
      "0332\n",
      "Starting Training\n",
      "epoch: 00, loss: -0.02806\n",
      "epoch: 01, loss: -0.05872\n",
      "epoch: 02, loss: -0.06021\n",
      "epoch: 03, loss: -0.06059\n",
      "epoch: 04, loss: -0.06276\n",
      "epoch: 05, loss: -0.06454\n",
      "epoch: 06, loss: -0.06233\n",
      "epoch: 07, loss: -0.06418\n",
      "epoch: 08, loss: -0.06399\n",
      "epoch: 09, loss: -0.06281\n",
      "torch.Size([400, 64])\n"
     ]
    },
    {
     "name": "stderr",
     "output_type": "stream",
     "text": [
      "\r",
      " 33%|████████████████████████████████████████████████████▊                                                                                                          | 332/1000 [2:24:49<4:24:01, 23.72s/it]"
     ]
    },
    {
     "name": "stdout",
     "output_type": "stream",
     "text": [
      "eigenvalues shape torch.Size([5]) eigenvectors shape torch.Size([5, 400])\n",
      "332 /home/phdcs2/Hard_Disk/Datasets/Deep-Spectral-Segmentation/data/object-segmentation/ECSSD/features/dino_vits16/0333.pth\n",
      "dict_keys(['k', 'indices', 'file', 'id', 'model_name', 'patch_size', 'shape'])\n",
      "0333\n",
      "Starting Training\n",
      "epoch: 00, loss: -0.03049\n",
      "epoch: 01, loss: -0.06134\n",
      "epoch: 02, loss: -0.06303\n",
      "epoch: 03, loss: -0.06358\n",
      "epoch: 04, loss: -0.06402\n",
      "epoch: 05, loss: -0.06428\n",
      "epoch: 06, loss: -0.06427\n",
      "epoch: 07, loss: -0.06437\n",
      "epoch: 08, loss: -0.06452\n",
      "epoch: 09, loss: -0.06461\n",
      "torch.Size([400, 64])\n"
     ]
    },
    {
     "name": "stderr",
     "output_type": "stream",
     "text": [
      "\r",
      " 33%|████████████████████████████████████████████████████▉                                                                                                          | 333/1000 [2:25:10<4:14:32, 22.90s/it]"
     ]
    },
    {
     "name": "stdout",
     "output_type": "stream",
     "text": [
      "eigenvalues shape torch.Size([5]) eigenvectors shape torch.Size([5, 400])\n",
      "333 /home/phdcs2/Hard_Disk/Datasets/Deep-Spectral-Segmentation/data/object-segmentation/ECSSD/features/dino_vits16/0334.pth\n",
      "dict_keys(['k', 'indices', 'file', 'id', 'model_name', 'patch_size', 'shape'])\n",
      "0334\n",
      "Starting Training\n",
      "epoch: 00, loss: -0.02769\n",
      "epoch: 01, loss: -0.05450\n",
      "epoch: 02, loss: -0.05640\n",
      "epoch: 03, loss: -0.05696\n",
      "epoch: 04, loss: -0.05715\n",
      "epoch: 05, loss: -0.05717\n",
      "epoch: 06, loss: -0.05728\n",
      "epoch: 07, loss: -0.05743\n",
      "epoch: 08, loss: -0.05771\n",
      "epoch: 09, loss: -0.05765\n",
      "torch.Size([450, 64])\n"
     ]
    },
    {
     "name": "stderr",
     "output_type": "stream",
     "text": [
      "\r",
      " 33%|█████████████████████████████████████████████████████                                                                                                          | 334/1000 [2:25:33<4:13:19, 22.82s/it]"
     ]
    },
    {
     "name": "stdout",
     "output_type": "stream",
     "text": [
      "eigenvalues shape torch.Size([5]) eigenvectors shape torch.Size([5, 450])\n",
      "334 /home/phdcs2/Hard_Disk/Datasets/Deep-Spectral-Segmentation/data/object-segmentation/ECSSD/features/dino_vits16/0335.pth\n",
      "dict_keys(['k', 'indices', 'file', 'id', 'model_name', 'patch_size', 'shape'])\n",
      "0335\n",
      "Starting Training\n",
      "epoch: 00, loss: -0.01160\n",
      "epoch: 01, loss: -0.03602\n",
      "epoch: 02, loss: -0.04104\n",
      "epoch: 03, loss: -0.04203\n",
      "epoch: 04, loss: -0.04256\n",
      "epoch: 05, loss: -0.04296\n",
      "epoch: 06, loss: -0.04286\n",
      "epoch: 07, loss: -0.04312\n",
      "epoch: 08, loss: -0.04321\n",
      "epoch: 09, loss: -0.04325\n",
      "torch.Size([400, 64])\n"
     ]
    },
    {
     "name": "stderr",
     "output_type": "stream",
     "text": [
      "\r",
      " 34%|█████████████████████████████████████████████████████▎                                                                                                         | 335/1000 [2:25:54<4:08:02, 22.38s/it]"
     ]
    },
    {
     "name": "stdout",
     "output_type": "stream",
     "text": [
      "eigenvalues shape torch.Size([5]) eigenvectors shape torch.Size([5, 400])\n",
      "335 /home/phdcs2/Hard_Disk/Datasets/Deep-Spectral-Segmentation/data/object-segmentation/ECSSD/features/dino_vits16/0336.pth\n",
      "dict_keys(['k', 'indices', 'file', 'id', 'model_name', 'patch_size', 'shape'])\n",
      "0336\n",
      "Starting Training\n",
      "epoch: 00, loss: -0.12708\n",
      "epoch: 01, loss: -0.14978\n",
      "epoch: 02, loss: -0.14974\n",
      "epoch: 03, loss: -0.15007\n",
      "epoch: 04, loss: -0.15113\n",
      "epoch: 05, loss: -0.15057\n",
      "epoch: 06, loss: -0.15080\n",
      "epoch: 07, loss: -0.15102\n",
      "epoch: 08, loss: -0.15102\n",
      "epoch: 09, loss: -0.15151\n",
      "torch.Size([450, 64])\n"
     ]
    },
    {
     "name": "stderr",
     "output_type": "stream",
     "text": [
      "\r",
      " 34%|█████████████████████████████████████████████████████▍                                                                                                         | 336/1000 [2:26:24<4:31:27, 24.53s/it]"
     ]
    },
    {
     "name": "stdout",
     "output_type": "stream",
     "text": [
      "eigenvalues shape torch.Size([5]) eigenvectors shape torch.Size([5, 450])\n",
      "336 /home/phdcs2/Hard_Disk/Datasets/Deep-Spectral-Segmentation/data/object-segmentation/ECSSD/features/dino_vits16/0337.pth\n",
      "dict_keys(['k', 'indices', 'file', 'id', 'model_name', 'patch_size', 'shape'])\n",
      "0337\n",
      "Starting Training\n",
      "epoch: 00, loss: -0.03416\n",
      "epoch: 01, loss: -0.06240\n",
      "epoch: 02, loss: -0.06384\n",
      "epoch: 03, loss: -0.06380\n",
      "epoch: 04, loss: -0.06430\n",
      "epoch: 05, loss: -0.06448\n",
      "epoch: 06, loss: -0.06495\n",
      "epoch: 07, loss: -0.06483\n",
      "epoch: 08, loss: -0.06502\n",
      "epoch: 09, loss: -0.06502\n",
      "torch.Size([450, 64])\n"
     ]
    },
    {
     "name": "stderr",
     "output_type": "stream",
     "text": [
      "\r",
      " 34%|█████████████████████████████████████████████████████▌                                                                                                         | 337/1000 [2:26:49<4:33:28, 24.75s/it]"
     ]
    },
    {
     "name": "stdout",
     "output_type": "stream",
     "text": [
      "eigenvalues shape torch.Size([5]) eigenvectors shape torch.Size([5, 450])\n",
      "337 /home/phdcs2/Hard_Disk/Datasets/Deep-Spectral-Segmentation/data/object-segmentation/ECSSD/features/dino_vits16/0338.pth\n",
      "dict_keys(['k', 'indices', 'file', 'id', 'model_name', 'patch_size', 'shape'])\n",
      "0338\n",
      "Starting Training\n",
      "epoch: 00, loss: -0.00987\n",
      "epoch: 01, loss: -0.03418\n",
      "epoch: 02, loss: -0.03746\n",
      "epoch: 03, loss: -0.04193\n",
      "epoch: 04, loss: -0.04223\n",
      "epoch: 05, loss: -0.04147\n",
      "epoch: 06, loss: -0.04209\n",
      "epoch: 07, loss: -0.04478\n",
      "epoch: 08, loss: -0.04168\n",
      "epoch: 09, loss: -0.04284\n",
      "torch.Size([450, 64])\n"
     ]
    },
    {
     "name": "stderr",
     "output_type": "stream",
     "text": [
      "\r",
      " 34%|█████████████████████████████████████████████████████▋                                                                                                         | 338/1000 [2:27:10<4:20:51, 23.64s/it]"
     ]
    },
    {
     "name": "stdout",
     "output_type": "stream",
     "text": [
      "eigenvalues shape torch.Size([5]) eigenvectors shape torch.Size([5, 450])\n",
      "338 /home/phdcs2/Hard_Disk/Datasets/Deep-Spectral-Segmentation/data/object-segmentation/ECSSD/features/dino_vits16/0339.pth\n",
      "dict_keys(['k', 'indices', 'file', 'id', 'model_name', 'patch_size', 'shape'])\n",
      "0339\n",
      "Starting Training\n",
      "epoch: 00, loss: -0.10193\n",
      "epoch: 01, loss: -0.13593\n",
      "epoch: 02, loss: -0.13730\n",
      "epoch: 03, loss: -0.13948\n",
      "epoch: 04, loss: -0.13805\n",
      "epoch: 05, loss: -0.14048\n",
      "epoch: 06, loss: -0.14032\n",
      "epoch: 07, loss: -0.14114\n",
      "epoch: 08, loss: -0.14177\n",
      "epoch: 09, loss: -0.14164\n",
      "torch.Size([450, 64])\n"
     ]
    },
    {
     "name": "stderr",
     "output_type": "stream",
     "text": [
      "\r",
      " 34%|█████████████████████████████████████████████████████▉                                                                                                         | 339/1000 [2:27:35<4:25:48, 24.13s/it]"
     ]
    },
    {
     "name": "stdout",
     "output_type": "stream",
     "text": [
      "eigenvalues shape torch.Size([5]) eigenvectors shape torch.Size([5, 450])\n",
      "339 /home/phdcs2/Hard_Disk/Datasets/Deep-Spectral-Segmentation/data/object-segmentation/ECSSD/features/dino_vits16/0340.pth\n",
      "dict_keys(['k', 'indices', 'file', 'id', 'model_name', 'patch_size', 'shape'])\n",
      "0340\n",
      "Starting Training\n",
      "epoch: 00, loss: -0.02907\n",
      "epoch: 01, loss: -0.06015\n",
      "epoch: 02, loss: -0.06353\n",
      "epoch: 03, loss: -0.06308\n",
      "epoch: 04, loss: -0.06428\n",
      "epoch: 05, loss: -0.06441\n",
      "epoch: 06, loss: -0.06436\n",
      "epoch: 07, loss: -0.06427\n",
      "epoch: 08, loss: -0.06446\n",
      "epoch: 09, loss: -0.06432\n",
      "torch.Size([375, 64])\n"
     ]
    },
    {
     "name": "stderr",
     "output_type": "stream",
     "text": [
      "\r",
      " 34%|██████████████████████████████████████████████████████                                                                                                         | 340/1000 [2:27:58<4:22:25, 23.86s/it]"
     ]
    },
    {
     "name": "stdout",
     "output_type": "stream",
     "text": [
      "eigenvalues shape torch.Size([5]) eigenvectors shape torch.Size([5, 375])\n",
      "340 /home/phdcs2/Hard_Disk/Datasets/Deep-Spectral-Segmentation/data/object-segmentation/ECSSD/features/dino_vits16/0341.pth\n",
      "dict_keys(['k', 'indices', 'file', 'id', 'model_name', 'patch_size', 'shape'])\n",
      "0341\n",
      "Starting Training\n",
      "epoch: 00, loss: -0.01654\n",
      "epoch: 01, loss: -0.04287\n",
      "epoch: 02, loss: -0.05259\n",
      "epoch: 03, loss: -0.05485\n",
      "epoch: 04, loss: -0.05593\n",
      "epoch: 05, loss: -0.05652\n",
      "epoch: 06, loss: -0.05684\n",
      "epoch: 07, loss: -0.05641\n",
      "epoch: 08, loss: -0.05648\n",
      "epoch: 09, loss: -0.05552\n",
      "torch.Size([375, 64])\n"
     ]
    },
    {
     "name": "stderr",
     "output_type": "stream",
     "text": [
      "\r",
      " 34%|██████████████████████████████████████████████████████▏                                                                                                        | 341/1000 [2:28:23<4:25:42, 24.19s/it]"
     ]
    },
    {
     "name": "stdout",
     "output_type": "stream",
     "text": [
      "eigenvalues shape torch.Size([5]) eigenvectors shape torch.Size([5, 375])\n",
      "341 /home/phdcs2/Hard_Disk/Datasets/Deep-Spectral-Segmentation/data/object-segmentation/ECSSD/features/dino_vits16/0342.pth\n",
      "dict_keys(['k', 'indices', 'file', 'id', 'model_name', 'patch_size', 'shape'])\n",
      "0342\n",
      "Starting Training\n",
      "epoch: 00, loss: -0.04237\n",
      "epoch: 01, loss: -0.06253\n",
      "epoch: 02, loss: -0.06364\n",
      "epoch: 03, loss: -0.06367\n",
      "epoch: 04, loss: -0.06397\n",
      "epoch: 05, loss: -0.06443\n",
      "epoch: 06, loss: -0.06447\n",
      "epoch: 07, loss: -0.06443\n",
      "epoch: 08, loss: -0.06460\n",
      "epoch: 09, loss: -0.06470\n",
      "torch.Size([450, 64])\n"
     ]
    },
    {
     "name": "stderr",
     "output_type": "stream",
     "text": [
      "\r",
      " 34%|██████████████████████████████████████████████████████▍                                                                                                        | 342/1000 [2:28:52<4:38:15, 25.37s/it]"
     ]
    },
    {
     "name": "stdout",
     "output_type": "stream",
     "text": [
      "eigenvalues shape torch.Size([5]) eigenvectors shape torch.Size([5, 450])\n",
      "342 /home/phdcs2/Hard_Disk/Datasets/Deep-Spectral-Segmentation/data/object-segmentation/ECSSD/features/dino_vits16/0343.pth\n",
      "dict_keys(['k', 'indices', 'file', 'id', 'model_name', 'patch_size', 'shape'])\n",
      "0343\n",
      "Starting Training\n",
      "epoch: 00, loss: -0.01470\n",
      "epoch: 01, loss: -0.03524\n",
      "epoch: 02, loss: -0.04108\n",
      "epoch: 03, loss: -0.04123\n",
      "epoch: 04, loss: -0.04392\n",
      "epoch: 05, loss: -0.04491\n",
      "epoch: 06, loss: -0.04389\n",
      "epoch: 07, loss: -0.04376\n",
      "epoch: 08, loss: -0.04710\n",
      "epoch: 09, loss: -0.04287\n",
      "torch.Size([500, 64])\n"
     ]
    },
    {
     "name": "stderr",
     "output_type": "stream",
     "text": [
      "\r",
      " 34%|██████████████████████████████████████████████████████▌                                                                                                        | 343/1000 [2:29:17<4:39:17, 25.51s/it]"
     ]
    },
    {
     "name": "stdout",
     "output_type": "stream",
     "text": [
      "eigenvalues shape torch.Size([5]) eigenvectors shape torch.Size([5, 500])\n",
      "343 /home/phdcs2/Hard_Disk/Datasets/Deep-Spectral-Segmentation/data/object-segmentation/ECSSD/features/dino_vits16/0344.pth\n",
      "dict_keys(['k', 'indices', 'file', 'id', 'model_name', 'patch_size', 'shape'])\n",
      "0344\n",
      "Starting Training\n",
      "epoch: 00, loss: -0.00957\n",
      "epoch: 01, loss: -0.02794\n",
      "epoch: 02, loss: -0.03188\n",
      "epoch: 03, loss: -0.03316\n",
      "epoch: 04, loss: -0.03342\n",
      "epoch: 05, loss: -0.03382\n",
      "epoch: 06, loss: -0.03389\n",
      "epoch: 07, loss: -0.03415\n",
      "epoch: 08, loss: -0.03439\n",
      "epoch: 09, loss: -0.03439\n",
      "torch.Size([450, 64])\n"
     ]
    },
    {
     "name": "stderr",
     "output_type": "stream",
     "text": [
      "/home/phdcs2/Hard_Disk/Projects/T2I/deep-spectral-segmentation/venv/lib/python3.8/site-packages/scipy/sparse/linalg/_eigen/arpack/arpack.py:935: LinAlgWarning: Diagonal number 450 is exactly zero. Singular matrix.\n",
      "  self.M_lu = lu_factor(M)\n"
     ]
    },
    {
     "name": "stdout",
     "output_type": "stream",
     "text": [
      " ** On entry to SLASCL parameter number  4 had an illegal value\n",
      " ** On entry to SLASCL parameter number  4 had an illegal value\n"
     ]
    },
    {
     "name": "stderr",
     "output_type": "stream",
     "text": [
      "\r",
      " 34%|██████████████████████████████████████████████████████▋                                                                                                        | 344/1000 [2:29:54<5:14:10, 28.74s/it]"
     ]
    },
    {
     "name": "stdout",
     "output_type": "stream",
     "text": [
      "eigenvalues shape torch.Size([5]) eigenvectors shape torch.Size([5, 450])\n",
      "344 /home/phdcs2/Hard_Disk/Datasets/Deep-Spectral-Segmentation/data/object-segmentation/ECSSD/features/dino_vits16/0345.pth\n",
      "dict_keys(['k', 'indices', 'file', 'id', 'model_name', 'patch_size', 'shape'])\n",
      "0345\n",
      "Starting Training\n",
      "epoch: 00, loss: -0.00807\n",
      "epoch: 01, loss: -0.03845\n",
      "epoch: 02, loss: -0.03927\n",
      "epoch: 03, loss: -0.04737\n",
      "epoch: 04, loss: -0.04544\n",
      "epoch: 05, loss: -0.04469\n",
      "epoch: 06, loss: -0.04799\n",
      "epoch: 07, loss: -0.04782\n",
      "epoch: 08, loss: -0.04851\n",
      "epoch: 09, loss: -0.04815\n",
      "torch.Size([500, 64])\n"
     ]
    },
    {
     "name": "stderr",
     "output_type": "stream",
     "text": [
      "\r",
      " 34%|██████████████████████████████████████████████████████▊                                                                                                        | 345/1000 [2:30:27<5:28:19, 30.08s/it]"
     ]
    },
    {
     "name": "stdout",
     "output_type": "stream",
     "text": [
      "eigenvalues shape torch.Size([5]) eigenvectors shape torch.Size([5, 500])\n",
      "345 /home/phdcs2/Hard_Disk/Datasets/Deep-Spectral-Segmentation/data/object-segmentation/ECSSD/features/dino_vits16/0346.pth\n",
      "dict_keys(['k', 'indices', 'file', 'id', 'model_name', 'patch_size', 'shape'])\n",
      "0346\n",
      "Starting Training\n",
      "epoch: 00, loss: -0.01776\n",
      "epoch: 01, loss: -0.04741\n",
      "epoch: 02, loss: -0.04943\n",
      "epoch: 03, loss: -0.05024\n",
      "epoch: 04, loss: -0.05043\n",
      "epoch: 05, loss: -0.05055\n",
      "epoch: 06, loss: -0.05076\n",
      "epoch: 07, loss: -0.05085\n",
      "epoch: 08, loss: -0.05091\n",
      "epoch: 09, loss: -0.05102\n",
      "torch.Size([450, 64])\n"
     ]
    },
    {
     "name": "stderr",
     "output_type": "stream",
     "text": [
      "\r",
      " 35%|███████████████████████████████████████████████████████                                                                                                        | 346/1000 [2:31:00<5:38:17, 31.04s/it]"
     ]
    },
    {
     "name": "stdout",
     "output_type": "stream",
     "text": [
      "eigenvalues shape torch.Size([5]) eigenvectors shape torch.Size([5, 450])\n",
      "346 /home/phdcs2/Hard_Disk/Datasets/Deep-Spectral-Segmentation/data/object-segmentation/ECSSD/features/dino_vits16/0347.pth\n",
      "dict_keys(['k', 'indices', 'file', 'id', 'model_name', 'patch_size', 'shape'])\n",
      "0347\n",
      "Starting Training\n",
      "epoch: 00, loss: -0.01139\n",
      "epoch: 01, loss: -0.02570\n",
      "epoch: 02, loss: -0.02861\n",
      "epoch: 03, loss: -0.02948\n",
      "epoch: 04, loss: -0.02997\n",
      "epoch: 05, loss: -0.03019\n",
      "epoch: 06, loss: -0.03031\n",
      "epoch: 07, loss: -0.03046\n",
      "epoch: 08, loss: -0.03056\n",
      "epoch: 09, loss: -0.03065\n",
      "torch.Size([450, 64])\n"
     ]
    },
    {
     "name": "stderr",
     "output_type": "stream",
     "text": [
      "\r",
      " 35%|███████████████████████████████████████████████████████▏                                                                                                       | 347/1000 [2:31:29<5:32:03, 30.51s/it]"
     ]
    },
    {
     "name": "stdout",
     "output_type": "stream",
     "text": [
      "eigenvalues shape torch.Size([5]) eigenvectors shape torch.Size([5, 450])\n",
      "347 /home/phdcs2/Hard_Disk/Datasets/Deep-Spectral-Segmentation/data/object-segmentation/ECSSD/features/dino_vits16/0348.pth\n",
      "dict_keys(['k', 'indices', 'file', 'id', 'model_name', 'patch_size', 'shape'])\n",
      "0348\n",
      "Starting Training\n",
      "epoch: 00, loss: -0.02505\n",
      "epoch: 01, loss: -0.05090\n",
      "epoch: 02, loss: -0.05378\n",
      "epoch: 03, loss: -0.05322\n",
      "epoch: 04, loss: -0.05369\n",
      "epoch: 05, loss: -0.05408\n",
      "epoch: 06, loss: -0.05412\n",
      "epoch: 07, loss: -0.05436\n",
      "epoch: 08, loss: -0.05439\n",
      "epoch: 09, loss: -0.05456\n",
      "torch.Size([400, 64])\n"
     ]
    },
    {
     "name": "stderr",
     "output_type": "stream",
     "text": [
      "\r",
      " 35%|███████████████████████████████████████████████████████▎                                                                                                       | 348/1000 [2:31:57<5:21:47, 29.61s/it]"
     ]
    },
    {
     "name": "stdout",
     "output_type": "stream",
     "text": [
      "eigenvalues shape torch.Size([5]) eigenvectors shape torch.Size([5, 400])\n",
      "348 /home/phdcs2/Hard_Disk/Datasets/Deep-Spectral-Segmentation/data/object-segmentation/ECSSD/features/dino_vits16/0349.pth\n",
      "dict_keys(['k', 'indices', 'file', 'id', 'model_name', 'patch_size', 'shape'])\n",
      "0349\n",
      "Starting Training\n",
      "epoch: 00, loss: -0.07078\n",
      "epoch: 01, loss: -0.09127\n",
      "epoch: 02, loss: -0.09170\n",
      "epoch: 03, loss: -0.09195\n",
      "epoch: 04, loss: -0.09231\n",
      "epoch: 05, loss: -0.09239\n",
      "epoch: 06, loss: -0.09285\n",
      "epoch: 07, loss: -0.09277\n",
      "epoch: 08, loss: -0.09282\n",
      "epoch: 09, loss: -0.09288\n",
      "torch.Size([400, 64])\n"
     ]
    },
    {
     "name": "stderr",
     "output_type": "stream",
     "text": [
      "\r",
      " 35%|███████████████████████████████████████████████████████▍                                                                                                       | 349/1000 [2:32:23<5:11:18, 28.69s/it]"
     ]
    },
    {
     "name": "stdout",
     "output_type": "stream",
     "text": [
      "eigenvalues shape torch.Size([5]) eigenvectors shape torch.Size([5, 400])\n",
      "349 /home/phdcs2/Hard_Disk/Datasets/Deep-Spectral-Segmentation/data/object-segmentation/ECSSD/features/dino_vits16/0350.pth\n",
      "dict_keys(['k', 'indices', 'file', 'id', 'model_name', 'patch_size', 'shape'])\n",
      "0350\n",
      "Starting Training\n",
      "epoch: 00, loss: -0.01244\n",
      "epoch: 01, loss: -0.03250\n",
      "epoch: 02, loss: -0.03545\n",
      "epoch: 03, loss: -0.03584\n",
      "epoch: 04, loss: -0.03662\n",
      "epoch: 05, loss: -0.03708\n",
      "epoch: 06, loss: -0.03700\n",
      "epoch: 07, loss: -0.03736\n",
      "epoch: 08, loss: -0.03746\n",
      "epoch: 09, loss: -0.03711\n",
      "torch.Size([475, 64])\n"
     ]
    },
    {
     "name": "stderr",
     "output_type": "stream",
     "text": [
      "\r",
      " 35%|███████████████████████████████████████████████████████▋                                                                                                       | 350/1000 [2:32:51<5:08:01, 28.43s/it]"
     ]
    },
    {
     "name": "stdout",
     "output_type": "stream",
     "text": [
      "eigenvalues shape torch.Size([5]) eigenvectors shape torch.Size([5, 475])\n",
      "350 /home/phdcs2/Hard_Disk/Datasets/Deep-Spectral-Segmentation/data/object-segmentation/ECSSD/features/dino_vits16/0351.pth\n",
      "dict_keys(['k', 'indices', 'file', 'id', 'model_name', 'patch_size', 'shape'])\n",
      "0351\n",
      "Starting Training\n",
      "epoch: 00, loss: -0.05263\n",
      "epoch: 01, loss: -0.07681\n",
      "epoch: 02, loss: -0.07816\n",
      "epoch: 03, loss: -0.07845\n",
      "epoch: 04, loss: -0.07868\n",
      "epoch: 05, loss: -0.07871\n",
      "epoch: 06, loss: -0.07887\n",
      "epoch: 07, loss: -0.07903\n",
      "epoch: 08, loss: -0.07921\n",
      "epoch: 09, loss: -0.07933\n",
      "torch.Size([450, 64])\n"
     ]
    },
    {
     "name": "stderr",
     "output_type": "stream",
     "text": [
      "\r",
      " 35%|███████████████████████████████████████████████████████▊                                                                                                       | 351/1000 [2:33:20<5:06:57, 28.38s/it]"
     ]
    },
    {
     "name": "stdout",
     "output_type": "stream",
     "text": [
      "eigenvalues shape torch.Size([5]) eigenvectors shape torch.Size([5, 450])\n",
      "351 /home/phdcs2/Hard_Disk/Datasets/Deep-Spectral-Segmentation/data/object-segmentation/ECSSD/features/dino_vits16/0352.pth\n",
      "dict_keys(['k', 'indices', 'file', 'id', 'model_name', 'patch_size', 'shape'])\n",
      "0352\n",
      "Starting Training\n",
      "epoch: 00, loss: -0.00301\n",
      "epoch: 01, loss: -0.02672\n",
      "epoch: 02, loss: -0.03228\n",
      "epoch: 03, loss: -0.03808\n",
      "epoch: 04, loss: -0.03865\n",
      "epoch: 05, loss: -0.04022\n",
      "epoch: 06, loss: -0.04025\n",
      "epoch: 07, loss: -0.04051\n",
      "epoch: 08, loss: -0.03944\n",
      "epoch: 09, loss: -0.04029\n",
      "torch.Size([400, 64])\n"
     ]
    },
    {
     "name": "stderr",
     "output_type": "stream",
     "text": [
      "\r",
      " 35%|███████████████████████████████████████████████████████▉                                                                                                       | 352/1000 [2:33:45<4:56:53, 27.49s/it]"
     ]
    },
    {
     "name": "stdout",
     "output_type": "stream",
     "text": [
      "eigenvalues shape torch.Size([5]) eigenvectors shape torch.Size([5, 400])\n",
      "352 /home/phdcs2/Hard_Disk/Datasets/Deep-Spectral-Segmentation/data/object-segmentation/ECSSD/features/dino_vits16/0353.pth\n",
      "dict_keys(['k', 'indices', 'file', 'id', 'model_name', 'patch_size', 'shape'])\n",
      "0353\n",
      "Starting Training\n",
      "epoch: 00, loss: -0.03232\n",
      "epoch: 01, loss: -0.05103\n",
      "epoch: 02, loss: -0.05664\n",
      "epoch: 03, loss: -0.05785\n",
      "epoch: 04, loss: -0.05850\n",
      "epoch: 05, loss: -0.05843\n",
      "epoch: 06, loss: -0.05897\n",
      "epoch: 07, loss: -0.06096\n",
      "epoch: 08, loss: -0.06075\n",
      "epoch: 09, loss: -0.05920\n",
      "torch.Size([425, 64])\n"
     ]
    },
    {
     "name": "stderr",
     "output_type": "stream",
     "text": [
      "\r",
      " 35%|████████████████████████████████████████████████████████▏                                                                                                      | 353/1000 [2:34:12<4:53:32, 27.22s/it]"
     ]
    },
    {
     "name": "stdout",
     "output_type": "stream",
     "text": [
      "eigenvalues shape torch.Size([5]) eigenvectors shape torch.Size([5, 425])\n",
      "353 /home/phdcs2/Hard_Disk/Datasets/Deep-Spectral-Segmentation/data/object-segmentation/ECSSD/features/dino_vits16/0354.pth\n",
      "dict_keys(['k', 'indices', 'file', 'id', 'model_name', 'patch_size', 'shape'])\n",
      "0354\n",
      "Starting Training\n",
      "epoch: 00, loss: -0.05431\n",
      "epoch: 01, loss: -0.07255\n",
      "epoch: 02, loss: -0.07413\n",
      "epoch: 03, loss: -0.07465\n",
      "epoch: 04, loss: -0.07449\n",
      "epoch: 05, loss: -0.07480\n",
      "epoch: 06, loss: -0.07486\n",
      "epoch: 07, loss: -0.07395\n",
      "epoch: 08, loss: -0.07396\n",
      "epoch: 09, loss: -0.07411\n",
      "torch.Size([575, 64])\n"
     ]
    },
    {
     "name": "stderr",
     "output_type": "stream",
     "text": [
      "\r",
      " 35%|████████████████████████████████████████████████████████▎                                                                                                      | 354/1000 [2:34:59<5:57:06, 33.17s/it]"
     ]
    },
    {
     "name": "stdout",
     "output_type": "stream",
     "text": [
      "eigenvalues shape torch.Size([5]) eigenvectors shape torch.Size([5, 575])\n",
      "354 /home/phdcs2/Hard_Disk/Datasets/Deep-Spectral-Segmentation/data/object-segmentation/ECSSD/features/dino_vits16/0355.pth\n",
      "dict_keys(['k', 'indices', 'file', 'id', 'model_name', 'patch_size', 'shape'])\n",
      "0355\n",
      "Starting Training\n",
      "epoch: 00, loss: -0.05014\n",
      "epoch: 01, loss: -0.08052\n",
      "epoch: 02, loss: -0.08602\n",
      "epoch: 03, loss: -0.08597\n",
      "epoch: 04, loss: -0.08826\n",
      "epoch: 05, loss: -0.08793\n",
      "epoch: 06, loss: -0.08909\n",
      "epoch: 07, loss: -0.08958\n",
      "epoch: 08, loss: -0.08940\n",
      "epoch: 09, loss: -0.08914\n",
      "torch.Size([450, 64])\n"
     ]
    },
    {
     "name": "stderr",
     "output_type": "stream",
     "text": [
      "\r",
      " 36%|████████████████████████████████████████████████████████▍                                                                                                      | 355/1000 [2:35:26<5:39:06, 31.55s/it]"
     ]
    },
    {
     "name": "stdout",
     "output_type": "stream",
     "text": [
      "eigenvalues shape torch.Size([5]) eigenvectors shape torch.Size([5, 450])\n",
      "355 /home/phdcs2/Hard_Disk/Datasets/Deep-Spectral-Segmentation/data/object-segmentation/ECSSD/features/dino_vits16/0356.pth\n",
      "dict_keys(['k', 'indices', 'file', 'id', 'model_name', 'patch_size', 'shape'])\n",
      "0356\n",
      "Starting Training\n",
      "epoch: 00, loss: -0.00132\n",
      "epoch: 01, loss: -0.01760\n",
      "epoch: 02, loss: -0.02287\n",
      "epoch: 03, loss: -0.02482\n",
      "epoch: 04, loss: -0.02577\n",
      "epoch: 05, loss: -0.02633\n",
      "epoch: 06, loss: -0.02655\n",
      "epoch: 07, loss: -0.02672\n",
      "epoch: 08, loss: -0.02688\n",
      "epoch: 09, loss: -0.02718\n",
      "torch.Size([450, 64])\n"
     ]
    },
    {
     "name": "stderr",
     "output_type": "stream",
     "text": [
      "\r",
      " 36%|████████████████████████████████████████████████████████▌                                                                                                      | 356/1000 [2:35:56<5:32:54, 31.02s/it]"
     ]
    },
    {
     "name": "stdout",
     "output_type": "stream",
     "text": [
      "eigenvalues shape torch.Size([5]) eigenvectors shape torch.Size([5, 450])\n",
      "356 /home/phdcs2/Hard_Disk/Datasets/Deep-Spectral-Segmentation/data/object-segmentation/ECSSD/features/dino_vits16/0357.pth\n",
      "dict_keys(['k', 'indices', 'file', 'id', 'model_name', 'patch_size', 'shape'])\n",
      "0357\n",
      "Starting Training\n",
      "epoch: 00, loss: -0.01473\n",
      "epoch: 01, loss: -0.03720\n",
      "epoch: 02, loss: -0.04085\n",
      "epoch: 03, loss: -0.04163\n",
      "epoch: 04, loss: -0.04181\n",
      "epoch: 05, loss: -0.04323\n",
      "epoch: 06, loss: -0.04249\n",
      "epoch: 07, loss: -0.04364\n",
      "epoch: 08, loss: -0.04256\n",
      "epoch: 09, loss: -0.04250\n",
      "torch.Size([475, 64])\n"
     ]
    },
    {
     "name": "stderr",
     "output_type": "stream",
     "text": [
      "\r",
      " 36%|████████████████████████████████████████████████████████▊                                                                                                      | 357/1000 [2:36:21<5:12:23, 29.15s/it]"
     ]
    },
    {
     "name": "stdout",
     "output_type": "stream",
     "text": [
      "eigenvalues shape torch.Size([5]) eigenvectors shape torch.Size([5, 475])\n",
      "357 /home/phdcs2/Hard_Disk/Datasets/Deep-Spectral-Segmentation/data/object-segmentation/ECSSD/features/dino_vits16/0358.pth\n",
      "dict_keys(['k', 'indices', 'file', 'id', 'model_name', 'patch_size', 'shape'])\n",
      "0358\n",
      "Starting Training\n",
      "epoch: 00, loss: -0.01942\n",
      "epoch: 01, loss: -0.03670\n",
      "epoch: 02, loss: -0.03848\n",
      "epoch: 03, loss: -0.03929\n",
      "epoch: 04, loss: -0.03986\n",
      "epoch: 05, loss: -0.03999\n",
      "epoch: 06, loss: -0.04012\n",
      "epoch: 07, loss: -0.04036\n",
      "epoch: 08, loss: -0.04056\n",
      "epoch: 09, loss: -0.04070\n",
      "torch.Size([400, 64])\n"
     ]
    },
    {
     "name": "stderr",
     "output_type": "stream",
     "text": [
      "\r",
      " 36%|████████████████████████████████████████████████████████▉                                                                                                      | 358/1000 [2:36:41<4:43:19, 26.48s/it]"
     ]
    },
    {
     "name": "stdout",
     "output_type": "stream",
     "text": [
      "eigenvalues shape torch.Size([5]) eigenvectors shape torch.Size([5, 400])\n",
      "358 /home/phdcs2/Hard_Disk/Datasets/Deep-Spectral-Segmentation/data/object-segmentation/ECSSD/features/dino_vits16/0359.pth\n",
      "dict_keys(['k', 'indices', 'file', 'id', 'model_name', 'patch_size', 'shape'])\n",
      "0359\n",
      "Starting Training\n",
      "epoch: 00, loss: 0.00249\n",
      "epoch: 01, loss: -0.01931\n",
      "epoch: 02, loss: -0.03076\n",
      "epoch: 03, loss: -0.03059\n",
      "epoch: 04, loss: -0.03436\n",
      "epoch: 05, loss: -0.03753\n",
      "epoch: 06, loss: -0.03474\n",
      "epoch: 07, loss: -0.03526\n",
      "epoch: 08, loss: -0.03815\n",
      "epoch: 09, loss: -0.03758\n",
      "torch.Size([350, 64])\n"
     ]
    },
    {
     "name": "stderr",
     "output_type": "stream",
     "text": [
      "\r",
      " 36%|█████████████████████████████████████████████████████████                                                                                                      | 359/1000 [2:37:03<4:26:57, 24.99s/it]"
     ]
    },
    {
     "name": "stdout",
     "output_type": "stream",
     "text": [
      "eigenvalues shape torch.Size([5]) eigenvectors shape torch.Size([5, 350])\n",
      "359 /home/phdcs2/Hard_Disk/Datasets/Deep-Spectral-Segmentation/data/object-segmentation/ECSSD/features/dino_vits16/0360.pth\n",
      "dict_keys(['k', 'indices', 'file', 'id', 'model_name', 'patch_size', 'shape'])\n",
      "0360\n",
      "Starting Training\n",
      "epoch: 00, loss: -0.01776\n",
      "epoch: 01, loss: -0.03761\n",
      "epoch: 02, loss: -0.04044\n",
      "epoch: 03, loss: -0.04132\n",
      "epoch: 04, loss: -0.04153\n",
      "epoch: 05, loss: -0.04177\n",
      "epoch: 06, loss: -0.04198\n",
      "epoch: 07, loss: -0.04216\n",
      "epoch: 08, loss: -0.04225\n",
      "epoch: 09, loss: -0.04234\n",
      "torch.Size([400, 64])\n"
     ]
    },
    {
     "name": "stderr",
     "output_type": "stream",
     "text": [
      "\r",
      " 36%|█████████████████████████████████████████████████████████▏                                                                                                     | 360/1000 [2:37:25<4:17:59, 24.19s/it]"
     ]
    },
    {
     "name": "stdout",
     "output_type": "stream",
     "text": [
      "eigenvalues shape torch.Size([5]) eigenvectors shape torch.Size([5, 400])\n",
      "360 /home/phdcs2/Hard_Disk/Datasets/Deep-Spectral-Segmentation/data/object-segmentation/ECSSD/features/dino_vits16/0361.pth\n",
      "dict_keys(['k', 'indices', 'file', 'id', 'model_name', 'patch_size', 'shape'])\n",
      "0361\n",
      "Starting Training\n",
      "epoch: 00, loss: -0.04643\n",
      "epoch: 01, loss: -0.07230\n",
      "epoch: 02, loss: -0.07466\n",
      "epoch: 03, loss: -0.07470\n",
      "epoch: 04, loss: -0.07509\n",
      "epoch: 05, loss: -0.07592\n",
      "epoch: 06, loss: -0.07521\n",
      "epoch: 07, loss: -0.07543\n",
      "epoch: 08, loss: -0.07545\n",
      "epoch: 09, loss: -0.07638\n",
      "torch.Size([400, 64])\n"
     ]
    },
    {
     "name": "stderr",
     "output_type": "stream",
     "text": [
      "\r",
      " 36%|█████████████████████████████████████████████████████████▍                                                                                                     | 361/1000 [2:37:45<4:05:12, 23.02s/it]"
     ]
    },
    {
     "name": "stdout",
     "output_type": "stream",
     "text": [
      "eigenvalues shape torch.Size([5]) eigenvectors shape torch.Size([5, 400])\n",
      "361 /home/phdcs2/Hard_Disk/Datasets/Deep-Spectral-Segmentation/data/object-segmentation/ECSSD/features/dino_vits16/0362.pth\n",
      "dict_keys(['k', 'indices', 'file', 'id', 'model_name', 'patch_size', 'shape'])\n",
      "0362\n",
      "Starting Training\n",
      "epoch: 00, loss: -0.07796\n",
      "epoch: 01, loss: -0.10054\n",
      "epoch: 02, loss: -0.10080\n",
      "epoch: 03, loss: -0.10102\n",
      "epoch: 04, loss: -0.10122\n",
      "epoch: 05, loss: -0.10133\n",
      "epoch: 06, loss: -0.10162\n",
      "epoch: 07, loss: -0.10161\n",
      "epoch: 08, loss: -0.10181\n",
      "epoch: 09, loss: -0.10188\n",
      "torch.Size([500, 64])\n"
     ]
    },
    {
     "name": "stderr",
     "output_type": "stream",
     "text": [
      "\r",
      " 36%|█████████████████████████████████████████████████████████▌                                                                                                     | 362/1000 [2:38:13<4:18:50, 24.34s/it]"
     ]
    },
    {
     "name": "stdout",
     "output_type": "stream",
     "text": [
      "eigenvalues shape torch.Size([5]) eigenvectors shape torch.Size([5, 500])\n",
      "362 /home/phdcs2/Hard_Disk/Datasets/Deep-Spectral-Segmentation/data/object-segmentation/ECSSD/features/dino_vits16/0363.pth\n",
      "dict_keys(['k', 'indices', 'file', 'id', 'model_name', 'patch_size', 'shape'])\n",
      "0363\n",
      "Starting Training\n",
      "epoch: 00, loss: -0.09063\n",
      "epoch: 01, loss: -0.11144\n",
      "epoch: 02, loss: -0.11061\n",
      "epoch: 03, loss: -0.11170\n",
      "epoch: 04, loss: -0.11097\n",
      "epoch: 05, loss: -0.11103\n",
      "epoch: 06, loss: -0.11128\n",
      "epoch: 07, loss: -0.11143\n",
      "epoch: 08, loss: -0.11150\n",
      "epoch: 09, loss: -0.11149\n",
      "torch.Size([625, 64])\n"
     ]
    },
    {
     "name": "stderr",
     "output_type": "stream",
     "text": [
      "\r",
      " 36%|█████████████████████████████████████████████████████████▋                                                                                                     | 363/1000 [2:38:58<5:26:24, 30.74s/it]"
     ]
    },
    {
     "name": "stdout",
     "output_type": "stream",
     "text": [
      "eigenvalues shape torch.Size([5]) eigenvectors shape torch.Size([5, 625])\n",
      "363 /home/phdcs2/Hard_Disk/Datasets/Deep-Spectral-Segmentation/data/object-segmentation/ECSSD/features/dino_vits16/0364.pth\n",
      "dict_keys(['k', 'indices', 'file', 'id', 'model_name', 'patch_size', 'shape'])\n",
      "0364\n",
      "Starting Training\n",
      "epoch: 00, loss: -0.06188\n",
      "epoch: 01, loss: -0.08963\n",
      "epoch: 02, loss: -0.09238\n",
      "epoch: 03, loss: -0.09215\n",
      "epoch: 04, loss: -0.09414\n",
      "epoch: 05, loss: -0.09403\n",
      "epoch: 06, loss: -0.09561\n",
      "epoch: 07, loss: -0.09439\n",
      "epoch: 08, loss: -0.09832\n",
      "epoch: 09, loss: -0.10019\n",
      "torch.Size([450, 64])\n"
     ]
    },
    {
     "name": "stderr",
     "output_type": "stream",
     "text": [
      "\r",
      " 36%|█████████████████████████████████████████████████████████▉                                                                                                     | 364/1000 [2:39:20<4:57:05, 28.03s/it]"
     ]
    },
    {
     "name": "stdout",
     "output_type": "stream",
     "text": [
      "eigenvalues shape torch.Size([5]) eigenvectors shape torch.Size([5, 450])\n",
      "364 /home/phdcs2/Hard_Disk/Datasets/Deep-Spectral-Segmentation/data/object-segmentation/ECSSD/features/dino_vits16/0365.pth\n",
      "dict_keys(['k', 'indices', 'file', 'id', 'model_name', 'patch_size', 'shape'])\n",
      "0365\n",
      "Starting Training\n",
      "epoch: 00, loss: -0.04543\n",
      "epoch: 01, loss: -0.06786\n",
      "epoch: 02, loss: -0.06924\n",
      "epoch: 03, loss: -0.06933\n",
      "epoch: 04, loss: -0.06938\n",
      "epoch: 05, loss: -0.06981\n",
      "epoch: 06, loss: -0.06976\n",
      "epoch: 07, loss: -0.06986\n",
      "epoch: 08, loss: -0.07033\n",
      "epoch: 09, loss: -0.07020\n",
      "torch.Size([450, 64])\n"
     ]
    },
    {
     "name": "stderr",
     "output_type": "stream",
     "text": [
      "\r",
      " 36%|██████████████████████████████████████████████████████████                                                                                                     | 365/1000 [2:39:48<4:55:18, 27.90s/it]"
     ]
    },
    {
     "name": "stdout",
     "output_type": "stream",
     "text": [
      "eigenvalues shape torch.Size([5]) eigenvectors shape torch.Size([5, 450])\n",
      "365 /home/phdcs2/Hard_Disk/Datasets/Deep-Spectral-Segmentation/data/object-segmentation/ECSSD/features/dino_vits16/0366.pth\n",
      "dict_keys(['k', 'indices', 'file', 'id', 'model_name', 'patch_size', 'shape'])\n",
      "0366\n",
      "Starting Training\n",
      "epoch: 00, loss: -0.05004\n",
      "epoch: 01, loss: -0.06800\n",
      "epoch: 02, loss: -0.06903\n",
      "epoch: 03, loss: -0.06882\n",
      "epoch: 04, loss: -0.06905\n",
      "epoch: 05, loss: -0.06920\n",
      "epoch: 06, loss: -0.06947\n",
      "epoch: 07, loss: -0.06946\n",
      "epoch: 08, loss: -0.06963\n",
      "epoch: 09, loss: -0.06980\n",
      "torch.Size([500, 64])\n"
     ]
    },
    {
     "name": "stderr",
     "output_type": "stream",
     "text": [
      "\r",
      " 37%|██████████████████████████████████████████████████████████▏                                                                                                    | 366/1000 [2:40:10<4:37:23, 26.25s/it]"
     ]
    },
    {
     "name": "stdout",
     "output_type": "stream",
     "text": [
      "eigenvalues shape torch.Size([5]) eigenvectors shape torch.Size([5, 500])\n",
      "366 /home/phdcs2/Hard_Disk/Datasets/Deep-Spectral-Segmentation/data/object-segmentation/ECSSD/features/dino_vits16/0367.pth\n",
      "dict_keys(['k', 'indices', 'file', 'id', 'model_name', 'patch_size', 'shape'])\n",
      "0367\n",
      "Starting Training\n",
      "epoch: 00, loss: -0.08100\n",
      "epoch: 01, loss: -0.11563\n",
      "epoch: 02, loss: -0.12123\n",
      "epoch: 03, loss: -0.11874\n",
      "epoch: 04, loss: -0.12398\n",
      "epoch: 05, loss: -0.12514\n",
      "epoch: 06, loss: -0.12587\n",
      "epoch: 07, loss: -0.12613\n",
      "epoch: 08, loss: -0.12596\n",
      "epoch: 09, loss: -0.12631\n",
      "torch.Size([400, 64])\n"
     ]
    },
    {
     "name": "stderr",
     "output_type": "stream",
     "text": [
      "\r",
      " 37%|██████████████████████████████████████████████████████████▎                                                                                                    | 367/1000 [2:40:41<4:50:33, 27.54s/it]"
     ]
    },
    {
     "name": "stdout",
     "output_type": "stream",
     "text": [
      "eigenvalues shape torch.Size([5]) eigenvectors shape torch.Size([5, 400])\n",
      "367 /home/phdcs2/Hard_Disk/Datasets/Deep-Spectral-Segmentation/data/object-segmentation/ECSSD/features/dino_vits16/0368.pth\n",
      "dict_keys(['k', 'indices', 'file', 'id', 'model_name', 'patch_size', 'shape'])\n",
      "0368\n",
      "Starting Training\n",
      "epoch: 00, loss: -0.00456\n",
      "epoch: 01, loss: -0.01876\n",
      "epoch: 02, loss: -0.02304\n",
      "epoch: 03, loss: -0.02466\n",
      "epoch: 04, loss: -0.02521\n",
      "epoch: 05, loss: -0.02582\n",
      "epoch: 06, loss: -0.02598\n",
      "epoch: 07, loss: -0.02623\n",
      "epoch: 08, loss: -0.02626\n",
      "epoch: 09, loss: -0.02657\n",
      "torch.Size([400, 64])\n"
     ]
    },
    {
     "name": "stderr",
     "output_type": "stream",
     "text": [
      "\r",
      " 37%|██████████████████████████████████████████████████████████▌                                                                                                    | 368/1000 [2:41:02<4:29:59, 25.63s/it]"
     ]
    },
    {
     "name": "stdout",
     "output_type": "stream",
     "text": [
      "eigenvalues shape torch.Size([5]) eigenvectors shape torch.Size([5, 400])\n",
      "368 /home/phdcs2/Hard_Disk/Datasets/Deep-Spectral-Segmentation/data/object-segmentation/ECSSD/features/dino_vits16/0369.pth\n",
      "dict_keys(['k', 'indices', 'file', 'id', 'model_name', 'patch_size', 'shape'])\n",
      "0369\n",
      "Starting Training\n",
      "epoch: 00, loss: -0.00855\n",
      "epoch: 01, loss: -0.01920\n",
      "epoch: 02, loss: -0.02354\n",
      "epoch: 03, loss: -0.02481\n",
      "epoch: 04, loss: -0.02569\n",
      "epoch: 05, loss: -0.02621\n",
      "epoch: 06, loss: -0.02661\n",
      "epoch: 07, loss: -0.02664\n",
      "epoch: 08, loss: -0.02688\n",
      "epoch: 09, loss: -0.02707\n",
      "torch.Size([400, 64])\n"
     ]
    },
    {
     "name": "stderr",
     "output_type": "stream",
     "text": [
      "\r",
      " 37%|██████████████████████████████████████████████████████████▋                                                                                                    | 369/1000 [2:41:28<4:30:45, 25.75s/it]"
     ]
    },
    {
     "name": "stdout",
     "output_type": "stream",
     "text": [
      "eigenvalues shape torch.Size([5]) eigenvectors shape torch.Size([5, 400])\n",
      "369 /home/phdcs2/Hard_Disk/Datasets/Deep-Spectral-Segmentation/data/object-segmentation/ECSSD/features/dino_vits16/0370.pth\n",
      "dict_keys(['k', 'indices', 'file', 'id', 'model_name', 'patch_size', 'shape'])\n",
      "0370\n",
      "Starting Training\n",
      "epoch: 00, loss: 0.00082\n",
      "epoch: 01, loss: -0.01677\n",
      "epoch: 02, loss: -0.02347\n",
      "epoch: 03, loss: -0.02690\n",
      "epoch: 04, loss: -0.02692\n",
      "epoch: 05, loss: -0.02825\n",
      "epoch: 06, loss: -0.03028\n",
      "epoch: 07, loss: -0.02901\n",
      "epoch: 08, loss: -0.03111\n",
      "epoch: 09, loss: -0.03042\n",
      "torch.Size([600, 64])\n"
     ]
    },
    {
     "name": "stderr",
     "output_type": "stream",
     "text": [
      "\r",
      " 37%|██████████████████████████████████████████████████████████▊                                                                                                    | 370/1000 [2:42:01<4:54:52, 28.08s/it]"
     ]
    },
    {
     "name": "stdout",
     "output_type": "stream",
     "text": [
      "eigenvalues shape torch.Size([5]) eigenvectors shape torch.Size([5, 600])\n",
      "370 /home/phdcs2/Hard_Disk/Datasets/Deep-Spectral-Segmentation/data/object-segmentation/ECSSD/features/dino_vits16/0371.pth\n",
      "dict_keys(['k', 'indices', 'file', 'id', 'model_name', 'patch_size', 'shape'])\n",
      "0371\n",
      "Starting Training\n",
      "epoch: 00, loss: -0.03669\n",
      "epoch: 01, loss: -0.05661\n",
      "epoch: 02, loss: -0.05764\n",
      "epoch: 03, loss: -0.05827\n",
      "epoch: 04, loss: -0.05857\n",
      "epoch: 05, loss: -0.05852\n",
      "epoch: 06, loss: -0.05847\n",
      "epoch: 07, loss: -0.05871\n",
      "epoch: 08, loss: -0.05919\n",
      "epoch: 09, loss: -0.05890\n",
      "torch.Size([550, 64])\n"
     ]
    },
    {
     "name": "stderr",
     "output_type": "stream",
     "text": [
      "\r",
      " 37%|██████████████████████████████████████████████████████████▉                                                                                                    | 371/1000 [2:42:41<5:30:27, 31.52s/it]"
     ]
    },
    {
     "name": "stdout",
     "output_type": "stream",
     "text": [
      "eigenvalues shape torch.Size([5]) eigenvectors shape torch.Size([5, 550])\n",
      "371 /home/phdcs2/Hard_Disk/Datasets/Deep-Spectral-Segmentation/data/object-segmentation/ECSSD/features/dino_vits16/0372.pth\n",
      "dict_keys(['k', 'indices', 'file', 'id', 'model_name', 'patch_size', 'shape'])\n",
      "0372\n",
      "Starting Training\n",
      "epoch: 00, loss: -0.01482\n",
      "epoch: 01, loss: -0.03193\n",
      "epoch: 02, loss: -0.03494\n",
      "epoch: 03, loss: -0.03511\n",
      "epoch: 04, loss: -0.03578\n",
      "epoch: 05, loss: -0.03603\n",
      "epoch: 06, loss: -0.03697\n",
      "epoch: 07, loss: -0.03812\n",
      "epoch: 08, loss: -0.03753\n",
      "epoch: 09, loss: -0.03767\n",
      "torch.Size([600, 64])\n"
     ]
    },
    {
     "name": "stderr",
     "output_type": "stream",
     "text": [
      "\r",
      " 37%|███████████████████████████████████████████████████████████▏                                                                                                   | 372/1000 [2:43:23<6:03:02, 34.69s/it]"
     ]
    },
    {
     "name": "stdout",
     "output_type": "stream",
     "text": [
      "eigenvalues shape torch.Size([5]) eigenvectors shape torch.Size([5, 600])\n",
      "372 /home/phdcs2/Hard_Disk/Datasets/Deep-Spectral-Segmentation/data/object-segmentation/ECSSD/features/dino_vits16/0373.pth\n",
      "dict_keys(['k', 'indices', 'file', 'id', 'model_name', 'patch_size', 'shape'])\n",
      "0373\n",
      "Starting Training\n",
      "epoch: 00, loss: -0.04284\n",
      "epoch: 01, loss: -0.07248\n",
      "epoch: 02, loss: -0.07354\n",
      "epoch: 03, loss: -0.07392\n",
      "epoch: 04, loss: -0.07417\n",
      "epoch: 05, loss: -0.07451\n",
      "epoch: 06, loss: -0.07456\n",
      "epoch: 07, loss: -0.07476\n",
      "epoch: 08, loss: -0.07476\n",
      "epoch: 09, loss: -0.07494\n",
      "torch.Size([400, 64])\n"
     ]
    },
    {
     "name": "stderr",
     "output_type": "stream",
     "text": [
      "\r",
      " 37%|███████████████████████████████████████████████████████████▎                                                                                                   | 373/1000 [2:43:51<5:42:07, 32.74s/it]"
     ]
    },
    {
     "name": "stdout",
     "output_type": "stream",
     "text": [
      "eigenvalues shape torch.Size([5]) eigenvectors shape torch.Size([5, 400])\n",
      "373 /home/phdcs2/Hard_Disk/Datasets/Deep-Spectral-Segmentation/data/object-segmentation/ECSSD/features/dino_vits16/0374.pth\n",
      "dict_keys(['k', 'indices', 'file', 'id', 'model_name', 'patch_size', 'shape'])\n",
      "0374\n",
      "Starting Training\n",
      "epoch: 00, loss: -0.08240\n",
      "epoch: 01, loss: -0.11289\n",
      "epoch: 02, loss: -0.11755\n",
      "epoch: 03, loss: -0.11705\n",
      "epoch: 04, loss: -0.11947\n",
      "epoch: 05, loss: -0.12058\n",
      "epoch: 06, loss: -0.12064\n",
      "epoch: 07, loss: -0.12272\n",
      "epoch: 08, loss: -0.12238\n",
      "epoch: 09, loss: -0.12136\n",
      "torch.Size([450, 64])\n"
     ]
    },
    {
     "name": "stderr",
     "output_type": "stream",
     "text": [
      "\r",
      " 37%|███████████████████████████████████████████████████████████▍                                                                                                   | 374/1000 [2:44:24<5:40:23, 32.63s/it]"
     ]
    },
    {
     "name": "stdout",
     "output_type": "stream",
     "text": [
      "eigenvalues shape torch.Size([5]) eigenvectors shape torch.Size([5, 450])\n",
      "374 /home/phdcs2/Hard_Disk/Datasets/Deep-Spectral-Segmentation/data/object-segmentation/ECSSD/features/dino_vits16/0375.pth\n",
      "dict_keys(['k', 'indices', 'file', 'id', 'model_name', 'patch_size', 'shape'])\n",
      "0375\n",
      "Starting Training\n",
      "epoch: 00, loss: -0.03620\n",
      "epoch: 01, loss: -0.05597\n",
      "epoch: 02, loss: -0.05859\n",
      "epoch: 03, loss: -0.05815\n",
      "epoch: 04, loss: -0.05847\n",
      "epoch: 05, loss: -0.05750\n",
      "epoch: 06, loss: -0.05973\n",
      "epoch: 07, loss: -0.06035\n",
      "epoch: 08, loss: -0.06029\n",
      "epoch: 09, loss: -0.05974\n",
      "torch.Size([475, 64])\n"
     ]
    },
    {
     "name": "stderr",
     "output_type": "stream",
     "text": [
      "\r",
      " 38%|███████████████████████████████████████████████████████████▋                                                                                                   | 375/1000 [2:44:51<5:23:24, 31.05s/it]"
     ]
    },
    {
     "name": "stdout",
     "output_type": "stream",
     "text": [
      "eigenvalues shape torch.Size([5]) eigenvectors shape torch.Size([5, 475])\n",
      "375 /home/phdcs2/Hard_Disk/Datasets/Deep-Spectral-Segmentation/data/object-segmentation/ECSSD/features/dino_vits16/0376.pth\n",
      "dict_keys(['k', 'indices', 'file', 'id', 'model_name', 'patch_size', 'shape'])\n",
      "0376\n",
      "Starting Training\n",
      "epoch: 00, loss: -0.04034\n",
      "epoch: 01, loss: -0.06164\n",
      "epoch: 02, loss: -0.06206\n",
      "epoch: 03, loss: -0.06260\n",
      "epoch: 04, loss: -0.06225\n",
      "epoch: 05, loss: -0.06307\n",
      "epoch: 06, loss: -0.06302\n",
      "epoch: 07, loss: -0.06242\n",
      "epoch: 08, loss: -0.06205\n",
      "epoch: 09, loss: -0.06227\n",
      "torch.Size([625, 64])\n"
     ]
    },
    {
     "name": "stderr",
     "output_type": "stream",
     "text": [
      "\r",
      " 38%|███████████████████████████████████████████████████████████▊                                                                                                   | 376/1000 [2:45:39<6:14:29, 36.01s/it]"
     ]
    },
    {
     "name": "stdout",
     "output_type": "stream",
     "text": [
      "eigenvalues shape torch.Size([5]) eigenvectors shape torch.Size([5, 625])\n",
      "376 /home/phdcs2/Hard_Disk/Datasets/Deep-Spectral-Segmentation/data/object-segmentation/ECSSD/features/dino_vits16/0377.pth\n",
      "dict_keys(['k', 'indices', 'file', 'id', 'model_name', 'patch_size', 'shape'])\n",
      "0377\n",
      "Starting Training\n",
      "epoch: 00, loss: -0.01867\n",
      "epoch: 01, loss: -0.03617\n",
      "epoch: 02, loss: -0.03925\n",
      "epoch: 03, loss: -0.04028\n",
      "epoch: 04, loss: -0.04074\n",
      "epoch: 05, loss: -0.04070\n",
      "epoch: 06, loss: -0.04139\n",
      "epoch: 07, loss: -0.04121\n",
      "epoch: 08, loss: -0.04187\n",
      "epoch: 09, loss: -0.04200\n",
      "torch.Size([400, 64])\n"
     ]
    },
    {
     "name": "stderr",
     "output_type": "stream",
     "text": [
      "\r",
      " 38%|███████████████████████████████████████████████████████████▉                                                                                                   | 377/1000 [2:46:00<5:29:18, 31.72s/it]"
     ]
    },
    {
     "name": "stdout",
     "output_type": "stream",
     "text": [
      "eigenvalues shape torch.Size([5]) eigenvectors shape torch.Size([5, 400])\n",
      "377 /home/phdcs2/Hard_Disk/Datasets/Deep-Spectral-Segmentation/data/object-segmentation/ECSSD/features/dino_vits16/0378.pth\n",
      "dict_keys(['k', 'indices', 'file', 'id', 'model_name', 'patch_size', 'shape'])\n",
      "0378\n",
      "Starting Training\n",
      "epoch: 00, loss: -0.01192\n",
      "epoch: 01, loss: -0.03115\n",
      "epoch: 02, loss: -0.03623\n",
      "epoch: 03, loss: -0.03674\n",
      "epoch: 04, loss: -0.03623\n",
      "epoch: 05, loss: -0.03679\n",
      "epoch: 06, loss: -0.04186\n",
      "epoch: 07, loss: -0.03976\n",
      "epoch: 08, loss: -0.04064\n",
      "epoch: 09, loss: -0.04055\n",
      "torch.Size([450, 64])\n"
     ]
    },
    {
     "name": "stderr",
     "output_type": "stream",
     "text": [
      "\r",
      " 38%|████████████████████████████████████████████████████████████                                                                                                   | 378/1000 [2:46:28<5:15:51, 30.47s/it]"
     ]
    },
    {
     "name": "stdout",
     "output_type": "stream",
     "text": [
      "eigenvalues shape torch.Size([5]) eigenvectors shape torch.Size([5, 450])\n",
      "378 /home/phdcs2/Hard_Disk/Datasets/Deep-Spectral-Segmentation/data/object-segmentation/ECSSD/features/dino_vits16/0379.pth\n",
      "dict_keys(['k', 'indices', 'file', 'id', 'model_name', 'patch_size', 'shape'])\n",
      "0379\n",
      "Starting Training\n",
      "epoch: 00, loss: -0.04816\n",
      "epoch: 01, loss: -0.06470\n",
      "epoch: 02, loss: -0.06583\n",
      "epoch: 03, loss: -0.06586\n",
      "epoch: 04, loss: -0.06619\n",
      "epoch: 05, loss: -0.06625\n",
      "epoch: 06, loss: -0.06647\n",
      "epoch: 07, loss: -0.06690\n",
      "epoch: 08, loss: -0.06677\n",
      "epoch: 09, loss: -0.06679\n",
      "torch.Size([450, 64])\n"
     ]
    },
    {
     "name": "stderr",
     "output_type": "stream",
     "text": [
      "\r",
      " 38%|████████████████████████████████████████████████████████████▎                                                                                                  | 379/1000 [2:46:55<5:04:39, 29.44s/it]"
     ]
    },
    {
     "name": "stdout",
     "output_type": "stream",
     "text": [
      "eigenvalues shape torch.Size([5]) eigenvectors shape torch.Size([5, 450])\n",
      "379 /home/phdcs2/Hard_Disk/Datasets/Deep-Spectral-Segmentation/data/object-segmentation/ECSSD/features/dino_vits16/0380.pth\n",
      "dict_keys(['k', 'indices', 'file', 'id', 'model_name', 'patch_size', 'shape'])\n",
      "0380\n",
      "Starting Training\n",
      "epoch: 00, loss: -0.03560\n",
      "epoch: 01, loss: -0.05985\n",
      "epoch: 02, loss: -0.06732\n",
      "epoch: 03, loss: -0.06556\n",
      "epoch: 04, loss: -0.06741\n",
      "epoch: 05, loss: -0.06884\n",
      "epoch: 06, loss: -0.06878\n",
      "epoch: 07, loss: -0.06965\n",
      "epoch: 08, loss: -0.07048\n",
      "epoch: 09, loss: -0.07128\n",
      "torch.Size([425, 64])\n"
     ]
    },
    {
     "name": "stderr",
     "output_type": "stream",
     "text": [
      "\r",
      " 38%|████████████████████████████████████████████████████████████▍                                                                                                  | 380/1000 [2:47:21<4:53:02, 28.36s/it]"
     ]
    },
    {
     "name": "stdout",
     "output_type": "stream",
     "text": [
      "eigenvalues shape torch.Size([5]) eigenvectors shape torch.Size([5, 425])\n",
      "380 /home/phdcs2/Hard_Disk/Datasets/Deep-Spectral-Segmentation/data/object-segmentation/ECSSD/features/dino_vits16/0381.pth\n",
      "dict_keys(['k', 'indices', 'file', 'id', 'model_name', 'patch_size', 'shape'])\n",
      "0381\n",
      "Starting Training\n",
      "epoch: 00, loss: -0.02790\n",
      "epoch: 01, loss: -0.04562\n",
      "epoch: 02, loss: -0.04723\n",
      "epoch: 03, loss: -0.04731\n",
      "epoch: 04, loss: -0.04795\n",
      "epoch: 05, loss: -0.04821\n",
      "epoch: 06, loss: -0.04820\n",
      "epoch: 07, loss: -0.04824\n",
      "epoch: 08, loss: -0.04824\n",
      "epoch: 09, loss: -0.04850\n",
      "torch.Size([450, 64])\n"
     ]
    },
    {
     "name": "stderr",
     "output_type": "stream",
     "text": [
      "\r",
      " 38%|████████████████████████████████████████████████████████████▌                                                                                                  | 381/1000 [2:47:46<4:44:34, 27.58s/it]"
     ]
    },
    {
     "name": "stdout",
     "output_type": "stream",
     "text": [
      "eigenvalues shape torch.Size([5]) eigenvectors shape torch.Size([5, 450])\n",
      "381 /home/phdcs2/Hard_Disk/Datasets/Deep-Spectral-Segmentation/data/object-segmentation/ECSSD/features/dino_vits16/0382.pth\n",
      "dict_keys(['k', 'indices', 'file', 'id', 'model_name', 'patch_size', 'shape'])\n",
      "0382\n",
      "Starting Training\n",
      "epoch: 00, loss: -0.00636\n",
      "epoch: 01, loss: -0.02247\n",
      "epoch: 02, loss: -0.02657\n",
      "epoch: 03, loss: -0.02772\n",
      "epoch: 04, loss: -0.02782\n",
      "epoch: 05, loss: -0.02840\n",
      "epoch: 06, loss: -0.02846\n",
      "epoch: 07, loss: -0.02861\n",
      "epoch: 08, loss: -0.02746\n",
      "epoch: 09, loss: -0.02852\n",
      "torch.Size([425, 64])\n"
     ]
    },
    {
     "name": "stderr",
     "output_type": "stream",
     "text": [
      "\r",
      " 38%|████████████████████████████████████████████████████████████▋                                                                                                  | 382/1000 [2:48:11<4:35:24, 26.74s/it]"
     ]
    },
    {
     "name": "stdout",
     "output_type": "stream",
     "text": [
      "eigenvalues shape torch.Size([5]) eigenvectors shape torch.Size([5, 425])\n",
      "382 /home/phdcs2/Hard_Disk/Datasets/Deep-Spectral-Segmentation/data/object-segmentation/ECSSD/features/dino_vits16/0383.pth\n",
      "dict_keys(['k', 'indices', 'file', 'id', 'model_name', 'patch_size', 'shape'])\n",
      "0383\n",
      "Starting Training\n",
      "epoch: 00, loss: -0.00293\n",
      "epoch: 01, loss: -0.02100\n",
      "epoch: 02, loss: -0.02591\n",
      "epoch: 03, loss: -0.02782\n",
      "epoch: 04, loss: -0.02863\n",
      "epoch: 05, loss: -0.02904\n",
      "epoch: 06, loss: -0.02936\n",
      "epoch: 07, loss: -0.02943\n",
      "epoch: 08, loss: -0.02963\n",
      "epoch: 09, loss: -0.02979\n",
      "torch.Size([350, 64])\n"
     ]
    },
    {
     "name": "stderr",
     "output_type": "stream",
     "text": [
      "\r",
      " 38%|████████████████████████████████████████████████████████████▉                                                                                                  | 383/1000 [2:48:29<4:08:40, 24.18s/it]"
     ]
    },
    {
     "name": "stdout",
     "output_type": "stream",
     "text": [
      "eigenvalues shape torch.Size([5]) eigenvectors shape torch.Size([5, 350])\n",
      "383 /home/phdcs2/Hard_Disk/Datasets/Deep-Spectral-Segmentation/data/object-segmentation/ECSSD/features/dino_vits16/0384.pth\n",
      "dict_keys(['k', 'indices', 'file', 'id', 'model_name', 'patch_size', 'shape'])\n",
      "0384\n",
      "Starting Training\n",
      "epoch: 00, loss: -0.04584\n",
      "epoch: 01, loss: -0.06960\n",
      "epoch: 02, loss: -0.06942\n",
      "epoch: 03, loss: -0.06972\n",
      "epoch: 04, loss: -0.07090\n",
      "epoch: 05, loss: -0.07067\n",
      "epoch: 06, loss: -0.07068\n",
      "epoch: 07, loss: -0.07045\n",
      "epoch: 08, loss: -0.07176\n",
      "epoch: 09, loss: -0.07067\n",
      "torch.Size([475, 64])\n"
     ]
    },
    {
     "name": "stderr",
     "output_type": "stream",
     "text": [
      "\r",
      " 38%|█████████████████████████████████████████████████████████████                                                                                                  | 384/1000 [2:49:01<4:32:23, 26.53s/it]"
     ]
    },
    {
     "name": "stdout",
     "output_type": "stream",
     "text": [
      "eigenvalues shape torch.Size([5]) eigenvectors shape torch.Size([5, 475])\n",
      "384 /home/phdcs2/Hard_Disk/Datasets/Deep-Spectral-Segmentation/data/object-segmentation/ECSSD/features/dino_vits16/0385.pth\n",
      "dict_keys(['k', 'indices', 'file', 'id', 'model_name', 'patch_size', 'shape'])\n",
      "0385\n",
      "Starting Training\n",
      "epoch: 00, loss: -0.04089\n",
      "epoch: 01, loss: -0.05276\n",
      "epoch: 02, loss: -0.05383\n",
      "epoch: 03, loss: -0.05441\n",
      "epoch: 04, loss: -0.05431\n",
      "epoch: 05, loss: -0.05464\n",
      "epoch: 06, loss: -0.05467\n",
      "epoch: 07, loss: -0.05530\n",
      "epoch: 08, loss: -0.05493\n",
      "epoch: 09, loss: -0.05498\n",
      "torch.Size([600, 64])\n"
     ]
    },
    {
     "name": "stderr",
     "output_type": "stream",
     "text": [
      "\r",
      " 38%|█████████████████████████████████████████████████████████████▏                                                                                                 | 385/1000 [2:49:54<5:50:49, 34.23s/it]"
     ]
    },
    {
     "name": "stdout",
     "output_type": "stream",
     "text": [
      "eigenvalues shape torch.Size([5]) eigenvectors shape torch.Size([5, 600])\n",
      "385 /home/phdcs2/Hard_Disk/Datasets/Deep-Spectral-Segmentation/data/object-segmentation/ECSSD/features/dino_vits16/0386.pth\n",
      "dict_keys(['k', 'indices', 'file', 'id', 'model_name', 'patch_size', 'shape'])\n",
      "0386\n",
      "Starting Training\n",
      "epoch: 00, loss: -0.04585\n",
      "epoch: 01, loss: -0.07349\n",
      "epoch: 02, loss: -0.07701\n",
      "epoch: 03, loss: -0.08302\n",
      "epoch: 04, loss: -0.08285\n",
      "epoch: 05, loss: -0.08202\n",
      "epoch: 06, loss: -0.08480\n",
      "epoch: 07, loss: -0.08328\n",
      "epoch: 08, loss: -0.08624\n",
      "epoch: 09, loss: -0.08119\n",
      "torch.Size([400, 64])\n"
     ]
    },
    {
     "name": "stderr",
     "output_type": "stream",
     "text": [
      "\r",
      " 39%|█████████████████████████████████████████████████████████████▎                                                                                                 | 386/1000 [2:50:17<5:17:43, 31.05s/it]"
     ]
    },
    {
     "name": "stdout",
     "output_type": "stream",
     "text": [
      "eigenvalues shape torch.Size([5]) eigenvectors shape torch.Size([5, 400])\n",
      "386 /home/phdcs2/Hard_Disk/Datasets/Deep-Spectral-Segmentation/data/object-segmentation/ECSSD/features/dino_vits16/0387.pth\n",
      "dict_keys(['k', 'indices', 'file', 'id', 'model_name', 'patch_size', 'shape'])\n",
      "0387\n",
      "Starting Training\n",
      "epoch: 00, loss: -0.02440\n",
      "epoch: 01, loss: -0.04685\n",
      "epoch: 02, loss: -0.04842\n",
      "epoch: 03, loss: -0.04890\n",
      "epoch: 04, loss: -0.04907\n",
      "epoch: 05, loss: -0.04923\n",
      "epoch: 06, loss: -0.04953\n",
      "epoch: 07, loss: -0.04955\n",
      "epoch: 08, loss: -0.04972\n",
      "epoch: 09, loss: -0.04975\n",
      "torch.Size([450, 64])\n"
     ]
    },
    {
     "name": "stderr",
     "output_type": "stream",
     "text": [
      "\r",
      " 39%|█████████████████████████████████████████████████████████████▌                                                                                                 | 387/1000 [2:50:44<5:04:29, 29.80s/it]"
     ]
    },
    {
     "name": "stdout",
     "output_type": "stream",
     "text": [
      "eigenvalues shape torch.Size([5]) eigenvectors shape torch.Size([5, 450])\n",
      "387 /home/phdcs2/Hard_Disk/Datasets/Deep-Spectral-Segmentation/data/object-segmentation/ECSSD/features/dino_vits16/0388.pth\n",
      "dict_keys(['k', 'indices', 'file', 'id', 'model_name', 'patch_size', 'shape'])\n",
      "0388\n",
      "Starting Training\n",
      "epoch: 00, loss: -0.04153\n",
      "epoch: 01, loss: -0.05812\n",
      "epoch: 02, loss: -0.06256\n",
      "epoch: 03, loss: -0.06341\n",
      "epoch: 04, loss: -0.06677\n",
      "epoch: 05, loss: -0.06594\n",
      "epoch: 06, loss: -0.06650\n",
      "epoch: 07, loss: -0.06754\n",
      "epoch: 08, loss: -0.06753\n",
      "epoch: 09, loss: -0.06787\n",
      "torch.Size([500, 64])\n"
     ]
    },
    {
     "name": "stderr",
     "output_type": "stream",
     "text": [
      "\r",
      " 39%|█████████████████████████████████████████████████████████████▋                                                                                                 | 388/1000 [2:51:12<4:58:38, 29.28s/it]"
     ]
    },
    {
     "name": "stdout",
     "output_type": "stream",
     "text": [
      "eigenvalues shape torch.Size([5]) eigenvectors shape torch.Size([5, 500])\n",
      "388 /home/phdcs2/Hard_Disk/Datasets/Deep-Spectral-Segmentation/data/object-segmentation/ECSSD/features/dino_vits16/0389.pth\n",
      "dict_keys(['k', 'indices', 'file', 'id', 'model_name', 'patch_size', 'shape'])\n",
      "0389\n",
      "Starting Training\n",
      "epoch: 00, loss: -0.03998\n",
      "epoch: 01, loss: -0.06608\n",
      "epoch: 02, loss: -0.07239\n",
      "epoch: 03, loss: -0.07325\n",
      "epoch: 04, loss: -0.07669\n",
      "epoch: 05, loss: -0.07726\n",
      "epoch: 06, loss: -0.07757\n",
      "epoch: 07, loss: -0.07608\n",
      "epoch: 08, loss: -0.07648\n",
      "epoch: 09, loss: -0.08026\n",
      "torch.Size([450, 64])\n"
     ]
    },
    {
     "name": "stderr",
     "output_type": "stream",
     "text": [
      "\r",
      " 39%|█████████████████████████████████████████████████████████████▊                                                                                                 | 389/1000 [2:51:36<4:41:21, 27.63s/it]"
     ]
    },
    {
     "name": "stdout",
     "output_type": "stream",
     "text": [
      "eigenvalues shape torch.Size([5]) eigenvectors shape torch.Size([5, 450])\n",
      "389 /home/phdcs2/Hard_Disk/Datasets/Deep-Spectral-Segmentation/data/object-segmentation/ECSSD/features/dino_vits16/0390.pth\n",
      "dict_keys(['k', 'indices', 'file', 'id', 'model_name', 'patch_size', 'shape'])\n",
      "0390\n",
      "Starting Training\n",
      "epoch: 00, loss: -0.04241\n",
      "epoch: 01, loss: -0.07534\n",
      "epoch: 02, loss: -0.08075\n",
      "epoch: 03, loss: -0.07969\n",
      "epoch: 04, loss: -0.07908\n",
      "epoch: 05, loss: -0.08180\n",
      "epoch: 06, loss: -0.08110\n",
      "epoch: 07, loss: -0.08389\n",
      "epoch: 08, loss: -0.08345\n",
      "epoch: 09, loss: -0.08148\n",
      "torch.Size([450, 64])\n"
     ]
    },
    {
     "name": "stderr",
     "output_type": "stream",
     "text": [
      "\r",
      " 39%|██████████████████████████████████████████████████████████████                                                                                                 | 390/1000 [2:52:04<4:41:42, 27.71s/it]"
     ]
    },
    {
     "name": "stdout",
     "output_type": "stream",
     "text": [
      "eigenvalues shape torch.Size([5]) eigenvectors shape torch.Size([5, 450])\n",
      "390 /home/phdcs2/Hard_Disk/Datasets/Deep-Spectral-Segmentation/data/object-segmentation/ECSSD/features/dino_vits16/0391.pth\n",
      "dict_keys(['k', 'indices', 'file', 'id', 'model_name', 'patch_size', 'shape'])\n",
      "0391\n",
      "Starting Training\n",
      "epoch: 00, loss: -0.06401\n",
      "epoch: 01, loss: -0.10626\n",
      "epoch: 02, loss: -0.10947\n",
      "epoch: 03, loss: -0.11043\n",
      "epoch: 04, loss: -0.11037\n",
      "epoch: 05, loss: -0.11213\n",
      "epoch: 06, loss: -0.11418\n",
      "epoch: 07, loss: -0.11192\n",
      "epoch: 08, loss: -0.11482\n",
      "epoch: 09, loss: -0.11623\n",
      "torch.Size([400, 64])\n"
     ]
    },
    {
     "name": "stderr",
     "output_type": "stream",
     "text": [
      "\r",
      " 39%|██████████████████████████████████████████████████████████████▏                                                                                                | 391/1000 [2:52:24<4:19:06, 25.53s/it]"
     ]
    },
    {
     "name": "stdout",
     "output_type": "stream",
     "text": [
      "eigenvalues shape torch.Size([5]) eigenvectors shape torch.Size([5, 400])\n",
      "391 /home/phdcs2/Hard_Disk/Datasets/Deep-Spectral-Segmentation/data/object-segmentation/ECSSD/features/dino_vits16/0392.pth\n",
      "dict_keys(['k', 'indices', 'file', 'id', 'model_name', 'patch_size', 'shape'])\n",
      "0392\n",
      "Starting Training\n",
      "epoch: 00, loss: -0.02049\n",
      "epoch: 01, loss: -0.04475\n",
      "epoch: 02, loss: -0.04755\n",
      "epoch: 03, loss: -0.04834\n",
      "epoch: 04, loss: -0.04858\n",
      "epoch: 05, loss: -0.04878\n",
      "epoch: 06, loss: -0.04904\n",
      "epoch: 07, loss: -0.04922\n",
      "epoch: 08, loss: -0.04922\n",
      "epoch: 09, loss: -0.04942\n",
      "torch.Size([400, 64])\n"
     ]
    },
    {
     "name": "stderr",
     "output_type": "stream",
     "text": [
      "\r",
      " 39%|██████████████████████████████████████████████████████████████▎                                                                                                | 392/1000 [2:52:44<4:02:09, 23.90s/it]"
     ]
    },
    {
     "name": "stdout",
     "output_type": "stream",
     "text": [
      "eigenvalues shape torch.Size([5]) eigenvectors shape torch.Size([5, 400])\n",
      "392 /home/phdcs2/Hard_Disk/Datasets/Deep-Spectral-Segmentation/data/object-segmentation/ECSSD/features/dino_vits16/0393.pth\n",
      "dict_keys(['k', 'indices', 'file', 'id', 'model_name', 'patch_size', 'shape'])\n",
      "0393\n",
      "Starting Training\n",
      "epoch: 00, loss: -0.01744\n",
      "epoch: 01, loss: -0.04362\n",
      "epoch: 02, loss: -0.04709\n",
      "epoch: 03, loss: -0.04819\n",
      "epoch: 04, loss: -0.04836\n",
      "epoch: 05, loss: -0.04863\n",
      "epoch: 06, loss: -0.04868\n",
      "epoch: 07, loss: -0.04911\n",
      "epoch: 08, loss: -0.04898\n",
      "epoch: 09, loss: -0.04917\n",
      "torch.Size([400, 64])\n"
     ]
    },
    {
     "name": "stderr",
     "output_type": "stream",
     "text": [
      "\r",
      " 39%|██████████████████████████████████████████████████████████████▍                                                                                                | 393/1000 [2:53:05<3:51:13, 22.86s/it]"
     ]
    },
    {
     "name": "stdout",
     "output_type": "stream",
     "text": [
      "eigenvalues shape torch.Size([5]) eigenvectors shape torch.Size([5, 400])\n",
      "393 /home/phdcs2/Hard_Disk/Datasets/Deep-Spectral-Segmentation/data/object-segmentation/ECSSD/features/dino_vits16/0394.pth\n",
      "dict_keys(['k', 'indices', 'file', 'id', 'model_name', 'patch_size', 'shape'])\n",
      "0394\n",
      "Starting Training\n",
      "epoch: 00, loss: -0.05435\n",
      "epoch: 01, loss: -0.08443\n",
      "epoch: 02, loss: -0.08925\n",
      "epoch: 03, loss: -0.09181\n",
      "epoch: 04, loss: -0.09053\n",
      "epoch: 05, loss: -0.09211\n",
      "epoch: 06, loss: -0.09456\n",
      "epoch: 07, loss: -0.09211\n",
      "epoch: 08, loss: -0.09387\n",
      "epoch: 09, loss: -0.09282\n",
      "torch.Size([400, 64])\n"
     ]
    },
    {
     "name": "stderr",
     "output_type": "stream",
     "text": [
      "\r",
      " 39%|██████████████████████████████████████████████████████████████▋                                                                                                | 394/1000 [2:53:28<3:52:17, 23.00s/it]"
     ]
    },
    {
     "name": "stdout",
     "output_type": "stream",
     "text": [
      "eigenvalues shape torch.Size([5]) eigenvectors shape torch.Size([5, 400])\n",
      "394 /home/phdcs2/Hard_Disk/Datasets/Deep-Spectral-Segmentation/data/object-segmentation/ECSSD/features/dino_vits16/0395.pth\n",
      "dict_keys(['k', 'indices', 'file', 'id', 'model_name', 'patch_size', 'shape'])\n",
      "0395\n",
      "Starting Training\n",
      "epoch: 00, loss: -0.02161\n",
      "epoch: 01, loss: -0.04374\n",
      "epoch: 02, loss: -0.04686\n",
      "epoch: 03, loss: -0.04714\n",
      "epoch: 04, loss: -0.04763\n",
      "epoch: 05, loss: -0.04786\n",
      "epoch: 06, loss: -0.04820\n",
      "epoch: 07, loss: -0.04814\n",
      "epoch: 08, loss: -0.04860\n",
      "epoch: 09, loss: -0.04860\n",
      "torch.Size([400, 64])\n"
     ]
    },
    {
     "name": "stderr",
     "output_type": "stream",
     "text": [
      "\r",
      " 40%|██████████████████████████████████████████████████████████████▊                                                                                                | 395/1000 [2:53:46<3:34:53, 21.31s/it]"
     ]
    },
    {
     "name": "stdout",
     "output_type": "stream",
     "text": [
      "eigenvalues shape torch.Size([5]) eigenvectors shape torch.Size([5, 400])\n",
      "395 /home/phdcs2/Hard_Disk/Datasets/Deep-Spectral-Segmentation/data/object-segmentation/ECSSD/features/dino_vits16/0396.pth\n",
      "dict_keys(['k', 'indices', 'file', 'id', 'model_name', 'patch_size', 'shape'])\n",
      "0396\n",
      "Starting Training\n",
      "epoch: 00, loss: -0.09671\n",
      "epoch: 01, loss: -0.12359\n",
      "epoch: 02, loss: -0.12633\n",
      "epoch: 03, loss: -0.12399\n",
      "epoch: 04, loss: -0.12635\n",
      "epoch: 05, loss: -0.12577\n",
      "epoch: 06, loss: -0.12702\n",
      "epoch: 07, loss: -0.12898\n",
      "epoch: 08, loss: -0.12646\n",
      "epoch: 09, loss: -0.12851\n",
      "torch.Size([450, 64])\n"
     ]
    },
    {
     "name": "stderr",
     "output_type": "stream",
     "text": [
      "\r",
      " 40%|██████████████████████████████████████████████████████████████▉                                                                                                | 396/1000 [2:54:11<3:46:48, 22.53s/it]"
     ]
    },
    {
     "name": "stdout",
     "output_type": "stream",
     "text": [
      "eigenvalues shape torch.Size([5]) eigenvectors shape torch.Size([5, 450])\n",
      "396 /home/phdcs2/Hard_Disk/Datasets/Deep-Spectral-Segmentation/data/object-segmentation/ECSSD/features/dino_vits16/0397.pth\n",
      "dict_keys(['k', 'indices', 'file', 'id', 'model_name', 'patch_size', 'shape'])\n",
      "0397\n",
      "Starting Training\n",
      "epoch: 00, loss: -0.01947\n",
      "epoch: 01, loss: -0.04082\n",
      "epoch: 02, loss: -0.04210\n",
      "epoch: 03, loss: -0.04329\n",
      "epoch: 04, loss: -0.04363\n",
      "epoch: 05, loss: -0.04386\n",
      "epoch: 06, loss: -0.04363\n",
      "epoch: 07, loss: -0.04423\n",
      "epoch: 08, loss: -0.04430\n",
      "epoch: 09, loss: -0.04348\n",
      "torch.Size([400, 64])\n"
     ]
    },
    {
     "name": "stderr",
     "output_type": "stream",
     "text": [
      "\r",
      " 40%|███████████████████████████████████████████████████████████████                                                                                                | 397/1000 [2:54:31<3:38:01, 21.69s/it]"
     ]
    },
    {
     "name": "stdout",
     "output_type": "stream",
     "text": [
      "eigenvalues shape torch.Size([5]) eigenvectors shape torch.Size([5, 400])\n",
      "397 /home/phdcs2/Hard_Disk/Datasets/Deep-Spectral-Segmentation/data/object-segmentation/ECSSD/features/dino_vits16/0398.pth\n",
      "dict_keys(['k', 'indices', 'file', 'id', 'model_name', 'patch_size', 'shape'])\n",
      "0398\n",
      "Starting Training\n",
      "epoch: 00, loss: -0.04307\n",
      "epoch: 01, loss: -0.06758\n",
      "epoch: 02, loss: -0.06834\n",
      "epoch: 03, loss: -0.06909\n",
      "epoch: 04, loss: -0.06917\n",
      "epoch: 05, loss: -0.06929\n",
      "epoch: 06, loss: -0.06949\n",
      "epoch: 07, loss: -0.06988\n",
      "epoch: 08, loss: -0.07007\n",
      "epoch: 09, loss: -0.06971\n",
      "torch.Size([400, 64])\n"
     ]
    },
    {
     "name": "stderr",
     "output_type": "stream",
     "text": [
      "\r",
      " 40%|███████████████████████████████████████████████████████████████▎                                                                                               | 398/1000 [2:54:51<3:34:24, 21.37s/it]"
     ]
    },
    {
     "name": "stdout",
     "output_type": "stream",
     "text": [
      "eigenvalues shape torch.Size([5]) eigenvectors shape torch.Size([5, 400])\n",
      "398 /home/phdcs2/Hard_Disk/Datasets/Deep-Spectral-Segmentation/data/object-segmentation/ECSSD/features/dino_vits16/0399.pth\n",
      "dict_keys(['k', 'indices', 'file', 'id', 'model_name', 'patch_size', 'shape'])\n",
      "0399\n",
      "Starting Training\n",
      "epoch: 00, loss: -0.02840\n",
      "epoch: 01, loss: -0.05158\n",
      "epoch: 02, loss: -0.05322\n",
      "epoch: 03, loss: -0.05386\n",
      "epoch: 04, loss: -0.05435\n",
      "epoch: 05, loss: -0.05435\n",
      "epoch: 06, loss: -0.05452\n",
      "epoch: 07, loss: -0.05470\n",
      "epoch: 08, loss: -0.05476\n",
      "epoch: 09, loss: -0.05492\n",
      "torch.Size([400, 64])\n"
     ]
    },
    {
     "name": "stderr",
     "output_type": "stream",
     "text": [
      "\r",
      " 40%|███████████████████████████████████████████████████████████████▍                                                                                               | 399/1000 [2:55:13<3:33:52, 21.35s/it]"
     ]
    },
    {
     "name": "stdout",
     "output_type": "stream",
     "text": [
      "eigenvalues shape torch.Size([5]) eigenvectors shape torch.Size([5, 400])\n",
      "399 /home/phdcs2/Hard_Disk/Datasets/Deep-Spectral-Segmentation/data/object-segmentation/ECSSD/features/dino_vits16/0400.pth\n",
      "dict_keys(['k', 'indices', 'file', 'id', 'model_name', 'patch_size', 'shape'])\n",
      "0400\n",
      "Starting Training\n",
      "epoch: 00, loss: -0.03326\n",
      "epoch: 01, loss: -0.06150\n",
      "epoch: 02, loss: -0.06320\n",
      "epoch: 03, loss: -0.06931\n",
      "epoch: 04, loss: -0.07104\n",
      "epoch: 05, loss: -0.07143\n",
      "epoch: 06, loss: -0.07590\n",
      "epoch: 07, loss: -0.07357\n",
      "epoch: 08, loss: -0.07582\n",
      "epoch: 09, loss: -0.07065\n",
      "torch.Size([400, 64])\n"
     ]
    },
    {
     "name": "stderr",
     "output_type": "stream",
     "text": [
      "\r",
      " 40%|███████████████████████████████████████████████████████████████▌                                                                                               | 400/1000 [2:55:34<3:33:09, 21.32s/it]"
     ]
    },
    {
     "name": "stdout",
     "output_type": "stream",
     "text": [
      "eigenvalues shape torch.Size([5]) eigenvectors shape torch.Size([5, 400])\n",
      "400 /home/phdcs2/Hard_Disk/Datasets/Deep-Spectral-Segmentation/data/object-segmentation/ECSSD/features/dino_vits16/0401.pth\n",
      "dict_keys(['k', 'indices', 'file', 'id', 'model_name', 'patch_size', 'shape'])\n",
      "0401\n",
      "Starting Training\n",
      "epoch: 00, loss: -0.03412\n",
      "epoch: 01, loss: -0.06486\n",
      "epoch: 02, loss: -0.06975\n",
      "epoch: 03, loss: -0.07087\n",
      "epoch: 04, loss: -0.07216\n",
      "epoch: 05, loss: -0.07218\n",
      "epoch: 06, loss: -0.07456\n",
      "epoch: 07, loss: -0.07221\n",
      "epoch: 08, loss: -0.07487\n",
      "epoch: 09, loss: -0.07334\n",
      "torch.Size([400, 64])\n"
     ]
    },
    {
     "name": "stderr",
     "output_type": "stream",
     "text": [
      "\r",
      " 40%|███████████████████████████████████████████████████████████████▊                                                                                               | 401/1000 [2:55:55<3:32:18, 21.27s/it]"
     ]
    },
    {
     "name": "stdout",
     "output_type": "stream",
     "text": [
      "eigenvalues shape torch.Size([5]) eigenvectors shape torch.Size([5, 400])\n",
      "401 /home/phdcs2/Hard_Disk/Datasets/Deep-Spectral-Segmentation/data/object-segmentation/ECSSD/features/dino_vits16/0402.pth\n",
      "dict_keys(['k', 'indices', 'file', 'id', 'model_name', 'patch_size', 'shape'])\n",
      "0402\n",
      "Starting Training\n",
      "epoch: 00, loss: -0.02812\n",
      "epoch: 01, loss: -0.04309\n",
      "epoch: 02, loss: -0.04455\n",
      "epoch: 03, loss: -0.04524\n",
      "epoch: 04, loss: -0.04575\n",
      "epoch: 05, loss: -0.04633\n",
      "epoch: 06, loss: -0.04649\n",
      "epoch: 07, loss: -0.04641\n",
      "epoch: 08, loss: -0.04676\n",
      "epoch: 09, loss: -0.04657\n",
      "torch.Size([400, 64])\n"
     ]
    },
    {
     "name": "stderr",
     "output_type": "stream",
     "text": [
      "\r",
      " 40%|███████████████████████████████████████████████████████████████▉                                                                                               | 402/1000 [2:56:15<3:29:23, 21.01s/it]"
     ]
    },
    {
     "name": "stdout",
     "output_type": "stream",
     "text": [
      "eigenvalues shape torch.Size([5]) eigenvectors shape torch.Size([5, 400])\n",
      "402 /home/phdcs2/Hard_Disk/Datasets/Deep-Spectral-Segmentation/data/object-segmentation/ECSSD/features/dino_vits16/0403.pth\n",
      "dict_keys(['k', 'indices', 'file', 'id', 'model_name', 'patch_size', 'shape'])\n",
      "0403\n",
      "Starting Training\n",
      "epoch: 00, loss: -0.01377\n",
      "epoch: 01, loss: -0.03859\n",
      "epoch: 02, loss: -0.04292\n",
      "epoch: 03, loss: -0.04414\n",
      "epoch: 04, loss: -0.04455\n",
      "epoch: 05, loss: -0.04469\n",
      "epoch: 06, loss: -0.04480\n",
      "epoch: 07, loss: -0.04506\n",
      "epoch: 08, loss: -0.04509\n",
      "epoch: 09, loss: -0.04525\n",
      "torch.Size([400, 64])\n"
     ]
    },
    {
     "name": "stderr",
     "output_type": "stream",
     "text": [
      "\r",
      " 40%|████████████████████████████████████████████████████████████████                                                                                               | 403/1000 [2:56:37<3:30:59, 21.21s/it]"
     ]
    },
    {
     "name": "stdout",
     "output_type": "stream",
     "text": [
      "eigenvalues shape torch.Size([5]) eigenvectors shape torch.Size([5, 400])\n",
      "403 /home/phdcs2/Hard_Disk/Datasets/Deep-Spectral-Segmentation/data/object-segmentation/ECSSD/features/dino_vits16/0404.pth\n",
      "dict_keys(['k', 'indices', 'file', 'id', 'model_name', 'patch_size', 'shape'])\n",
      "0404\n",
      "Starting Training\n",
      "epoch: 00, loss: -0.00664\n",
      "epoch: 01, loss: -0.03534\n",
      "epoch: 02, loss: -0.04354\n",
      "epoch: 03, loss: -0.03109\n",
      "epoch: 04, loss: -0.04328\n",
      "epoch: 05, loss: -0.04161\n",
      "epoch: 06, loss: -0.04189\n",
      "epoch: 07, loss: -0.03889\n",
      "epoch: 08, loss: -0.04257\n",
      "epoch: 09, loss: -0.03845\n",
      "torch.Size([400, 64])\n"
     ]
    },
    {
     "name": "stderr",
     "output_type": "stream",
     "text": [
      "\r",
      " 40%|████████████████████████████████████████████████████████████████▏                                                                                              | 404/1000 [2:56:58<3:29:22, 21.08s/it]"
     ]
    },
    {
     "name": "stdout",
     "output_type": "stream",
     "text": [
      "eigenvalues shape torch.Size([5]) eigenvectors shape torch.Size([5, 400])\n",
      "404 /home/phdcs2/Hard_Disk/Datasets/Deep-Spectral-Segmentation/data/object-segmentation/ECSSD/features/dino_vits16/0405.pth\n",
      "dict_keys(['k', 'indices', 'file', 'id', 'model_name', 'patch_size', 'shape'])\n",
      "0405\n",
      "Starting Training\n",
      "epoch: 00, loss: -0.01620\n",
      "epoch: 01, loss: -0.02934\n",
      "epoch: 02, loss: -0.03238\n",
      "epoch: 03, loss: -0.03310\n",
      "epoch: 04, loss: -0.03351\n",
      "epoch: 05, loss: -0.03384\n",
      "epoch: 06, loss: -0.03390\n",
      "epoch: 07, loss: -0.03427\n",
      "epoch: 08, loss: -0.03437\n",
      "epoch: 09, loss: -0.03461\n",
      "torch.Size([400, 64])\n"
     ]
    },
    {
     "name": "stderr",
     "output_type": "stream",
     "text": [
      "\r",
      " 40%|████████████████████████████████████████████████████████████████▍                                                                                              | 405/1000 [2:57:20<3:31:33, 21.33s/it]"
     ]
    },
    {
     "name": "stdout",
     "output_type": "stream",
     "text": [
      "eigenvalues shape torch.Size([5]) eigenvectors shape torch.Size([5, 400])\n",
      "405 /home/phdcs2/Hard_Disk/Datasets/Deep-Spectral-Segmentation/data/object-segmentation/ECSSD/features/dino_vits16/0406.pth\n",
      "dict_keys(['k', 'indices', 'file', 'id', 'model_name', 'patch_size', 'shape'])\n",
      "0406\n",
      "Starting Training\n",
      "epoch: 00, loss: -0.03799\n",
      "epoch: 01, loss: -0.05841\n",
      "epoch: 02, loss: -0.05940\n",
      "epoch: 03, loss: -0.05991\n",
      "epoch: 04, loss: -0.06079\n",
      "epoch: 05, loss: -0.06044\n",
      "epoch: 06, loss: -0.06072\n",
      "epoch: 07, loss: -0.06105\n",
      "epoch: 08, loss: -0.06115\n",
      "epoch: 09, loss: -0.06098\n",
      "torch.Size([400, 64])\n"
     ]
    },
    {
     "name": "stderr",
     "output_type": "stream",
     "text": [
      "\r",
      " 41%|████████████████████████████████████████████████████████████████▌                                                                                              | 406/1000 [2:57:41<3:31:55, 21.41s/it]"
     ]
    },
    {
     "name": "stdout",
     "output_type": "stream",
     "text": [
      "eigenvalues shape torch.Size([5]) eigenvectors shape torch.Size([5, 400])\n",
      "406 /home/phdcs2/Hard_Disk/Datasets/Deep-Spectral-Segmentation/data/object-segmentation/ECSSD/features/dino_vits16/0407.pth\n",
      "dict_keys(['k', 'indices', 'file', 'id', 'model_name', 'patch_size', 'shape'])\n",
      "0407\n",
      "Starting Training\n",
      "epoch: 00, loss: 0.00821\n",
      "epoch: 01, loss: 0.00134\n",
      "epoch: 02, loss: -0.00180\n",
      "epoch: 03, loss: -0.00378\n",
      "epoch: 04, loss: -0.00513\n",
      "epoch: 05, loss: -0.00653\n",
      "epoch: 06, loss: -0.00688\n",
      "epoch: 07, loss: -0.00762\n",
      "epoch: 08, loss: -0.00785\n",
      "epoch: 09, loss: -0.00838\n",
      "torch.Size([400, 64])\n"
     ]
    },
    {
     "name": "stderr",
     "output_type": "stream",
     "text": [
      "\r",
      " 41%|████████████████████████████████████████████████████████████████▋                                                                                              | 407/1000 [2:58:00<3:23:20, 20.57s/it]"
     ]
    },
    {
     "name": "stdout",
     "output_type": "stream",
     "text": [
      "eigenvalues shape torch.Size([5]) eigenvectors shape torch.Size([5, 400])\n",
      "407 /home/phdcs2/Hard_Disk/Datasets/Deep-Spectral-Segmentation/data/object-segmentation/ECSSD/features/dino_vits16/0408.pth\n",
      "dict_keys(['k', 'indices', 'file', 'id', 'model_name', 'patch_size', 'shape'])\n",
      "0408\n",
      "Starting Training\n",
      "epoch: 00, loss: -0.03155\n",
      "epoch: 01, loss: -0.06051\n",
      "epoch: 02, loss: -0.06924\n",
      "epoch: 03, loss: -0.06970\n",
      "epoch: 04, loss: -0.07144\n",
      "epoch: 05, loss: -0.07090\n",
      "epoch: 06, loss: -0.07361\n",
      "epoch: 07, loss: -0.07415\n",
      "epoch: 08, loss: -0.07029\n",
      "epoch: 09, loss: -0.07299\n",
      "torch.Size([400, 64])\n"
     ]
    },
    {
     "name": "stderr",
     "output_type": "stream",
     "text": [
      "\r",
      " 41%|████████████████████████████████████████████████████████████████▊                                                                                              | 408/1000 [2:58:24<3:33:27, 21.63s/it]"
     ]
    },
    {
     "name": "stdout",
     "output_type": "stream",
     "text": [
      "eigenvalues shape torch.Size([5]) eigenvectors shape torch.Size([5, 400])\n",
      "408 /home/phdcs2/Hard_Disk/Datasets/Deep-Spectral-Segmentation/data/object-segmentation/ECSSD/features/dino_vits16/0409.pth\n",
      "dict_keys(['k', 'indices', 'file', 'id', 'model_name', 'patch_size', 'shape'])\n",
      "0409\n",
      "Starting Training\n",
      "epoch: 00, loss: -0.01018\n",
      "epoch: 01, loss: -0.03439\n",
      "epoch: 02, loss: -0.03836\n",
      "epoch: 03, loss: -0.04297\n",
      "epoch: 04, loss: -0.04079\n",
      "epoch: 05, loss: -0.04217\n",
      "epoch: 06, loss: -0.04290\n",
      "epoch: 07, loss: -0.04291\n",
      "epoch: 08, loss: -0.04331\n",
      "epoch: 09, loss: -0.04315\n",
      "torch.Size([450, 64])\n"
     ]
    },
    {
     "name": "stderr",
     "output_type": "stream",
     "text": [
      "\r",
      " 41%|█████████████████████████████████████████████████████████████████                                                                                              | 409/1000 [2:58:50<3:45:29, 22.89s/it]"
     ]
    },
    {
     "name": "stdout",
     "output_type": "stream",
     "text": [
      "eigenvalues shape torch.Size([5]) eigenvectors shape torch.Size([5, 450])\n",
      "409 /home/phdcs2/Hard_Disk/Datasets/Deep-Spectral-Segmentation/data/object-segmentation/ECSSD/features/dino_vits16/0410.pth\n",
      "dict_keys(['k', 'indices', 'file', 'id', 'model_name', 'patch_size', 'shape'])\n",
      "0410\n",
      "Starting Training\n",
      "epoch: 00, loss: -0.03629\n",
      "epoch: 01, loss: -0.08557\n",
      "epoch: 02, loss: -0.09144\n",
      "epoch: 03, loss: -0.09521\n",
      "epoch: 04, loss: -0.09782\n",
      "epoch: 05, loss: -0.09909\n",
      "epoch: 06, loss: -0.09862\n",
      "epoch: 07, loss: -0.09911\n",
      "epoch: 08, loss: -0.10142\n",
      "epoch: 09, loss: -0.10074\n",
      "torch.Size([325, 64])\n"
     ]
    },
    {
     "name": "stderr",
     "output_type": "stream",
     "text": [
      "\r",
      " 41%|█████████████████████████████████████████████████████████████████▏                                                                                             | 410/1000 [2:59:07<3:26:42, 21.02s/it]"
     ]
    },
    {
     "name": "stdout",
     "output_type": "stream",
     "text": [
      "eigenvalues shape torch.Size([5]) eigenvectors shape torch.Size([5, 325])\n",
      "410 /home/phdcs2/Hard_Disk/Datasets/Deep-Spectral-Segmentation/data/object-segmentation/ECSSD/features/dino_vits16/0411.pth\n",
      "dict_keys(['k', 'indices', 'file', 'id', 'model_name', 'patch_size', 'shape'])\n",
      "0411\n",
      "Starting Training\n",
      "epoch: 00, loss: -0.01348\n",
      "epoch: 01, loss: -0.03935\n",
      "epoch: 02, loss: -0.04255\n",
      "epoch: 03, loss: -0.04392\n",
      "epoch: 04, loss: -0.04362\n",
      "epoch: 05, loss: -0.04411\n",
      "epoch: 06, loss: -0.04453\n",
      "epoch: 07, loss: -0.04476\n",
      "epoch: 08, loss: -0.04453\n",
      "epoch: 09, loss: -0.04474\n",
      "torch.Size([450, 64])\n"
     ]
    },
    {
     "name": "stderr",
     "output_type": "stream",
     "text": [
      "\r",
      " 41%|█████████████████████████████████████████████████████████████████▎                                                                                             | 411/1000 [2:59:33<3:42:57, 22.71s/it]"
     ]
    },
    {
     "name": "stdout",
     "output_type": "stream",
     "text": [
      "eigenvalues shape torch.Size([5]) eigenvectors shape torch.Size([5, 450])\n",
      "411 /home/phdcs2/Hard_Disk/Datasets/Deep-Spectral-Segmentation/data/object-segmentation/ECSSD/features/dino_vits16/0412.pth\n",
      "dict_keys(['k', 'indices', 'file', 'id', 'model_name', 'patch_size', 'shape'])\n",
      "0412\n",
      "Starting Training\n",
      "epoch: 00, loss: -0.02697\n",
      "epoch: 01, loss: -0.05377\n",
      "epoch: 02, loss: -0.05793\n",
      "epoch: 03, loss: -0.06189\n",
      "epoch: 04, loss: -0.06071\n",
      "epoch: 05, loss: -0.06263\n",
      "epoch: 06, loss: -0.06408\n",
      "epoch: 07, loss: -0.06412\n",
      "epoch: 08, loss: -0.06527\n",
      "epoch: 09, loss: -0.06358\n",
      "torch.Size([450, 64])\n"
     ]
    },
    {
     "name": "stderr",
     "output_type": "stream",
     "text": [
      "\r",
      " 41%|█████████████████████████████████████████████████████████████████▌                                                                                             | 412/1000 [2:59:57<3:46:00, 23.06s/it]"
     ]
    },
    {
     "name": "stdout",
     "output_type": "stream",
     "text": [
      "eigenvalues shape torch.Size([5]) eigenvectors shape torch.Size([5, 450])\n",
      "412 /home/phdcs2/Hard_Disk/Datasets/Deep-Spectral-Segmentation/data/object-segmentation/ECSSD/features/dino_vits16/0413.pth\n",
      "dict_keys(['k', 'indices', 'file', 'id', 'model_name', 'patch_size', 'shape'])\n",
      "0413\n",
      "Starting Training\n",
      "epoch: 00, loss: -0.04310\n",
      "epoch: 01, loss: -0.06286\n",
      "epoch: 02, loss: -0.06432\n",
      "epoch: 03, loss: -0.06466\n",
      "epoch: 04, loss: -0.06509\n",
      "epoch: 05, loss: -0.06518\n",
      "epoch: 06, loss: -0.06512\n",
      "epoch: 07, loss: -0.06533\n",
      "epoch: 08, loss: -0.06541\n",
      "epoch: 09, loss: -0.06560\n",
      "torch.Size([450, 64])\n"
     ]
    },
    {
     "name": "stderr",
     "output_type": "stream",
     "text": [
      "\r",
      " 41%|█████████████████████████████████████████████████████████████████▋                                                                                             | 413/1000 [3:00:23<3:53:38, 23.88s/it]"
     ]
    },
    {
     "name": "stdout",
     "output_type": "stream",
     "text": [
      "eigenvalues shape torch.Size([5]) eigenvectors shape torch.Size([5, 450])\n",
      "413 /home/phdcs2/Hard_Disk/Datasets/Deep-Spectral-Segmentation/data/object-segmentation/ECSSD/features/dino_vits16/0414.pth\n",
      "dict_keys(['k', 'indices', 'file', 'id', 'model_name', 'patch_size', 'shape'])\n",
      "0414\n",
      "Starting Training\n",
      "epoch: 00, loss: -0.07017\n",
      "epoch: 01, loss: -0.10453\n",
      "epoch: 02, loss: -0.10630\n",
      "epoch: 03, loss: -0.10616\n",
      "epoch: 04, loss: -0.10869\n",
      "epoch: 05, loss: -0.10851\n",
      "epoch: 06, loss: -0.10936\n",
      "epoch: 07, loss: -0.10970\n",
      "epoch: 08, loss: -0.11049\n",
      "epoch: 09, loss: -0.11077\n",
      "torch.Size([450, 64])\n"
     ]
    },
    {
     "name": "stderr",
     "output_type": "stream",
     "text": [
      "\r",
      " 41%|█████████████████████████████████████████████████████████████████▊                                                                                             | 414/1000 [3:00:48<3:56:06, 24.18s/it]"
     ]
    },
    {
     "name": "stdout",
     "output_type": "stream",
     "text": [
      "eigenvalues shape torch.Size([5]) eigenvectors shape torch.Size([5, 450])\n",
      "414 /home/phdcs2/Hard_Disk/Datasets/Deep-Spectral-Segmentation/data/object-segmentation/ECSSD/features/dino_vits16/0415.pth\n",
      "dict_keys(['k', 'indices', 'file', 'id', 'model_name', 'patch_size', 'shape'])\n",
      "0415\n",
      "Starting Training\n",
      "epoch: 00, loss: -0.03504\n",
      "epoch: 01, loss: -0.05517\n",
      "epoch: 02, loss: -0.05649\n",
      "epoch: 03, loss: -0.05710\n",
      "epoch: 04, loss: -0.05712\n",
      "epoch: 05, loss: -0.05739\n",
      "epoch: 06, loss: -0.05748\n",
      "epoch: 07, loss: -0.05763\n",
      "epoch: 08, loss: -0.05765\n",
      "epoch: 09, loss: -0.05779\n",
      "torch.Size([450, 64])\n"
     ]
    },
    {
     "name": "stderr",
     "output_type": "stream",
     "text": [
      "\r",
      " 42%|█████████████████████████████████████████████████████████████████▉                                                                                             | 415/1000 [3:01:10<3:51:26, 23.74s/it]"
     ]
    },
    {
     "name": "stdout",
     "output_type": "stream",
     "text": [
      "eigenvalues shape torch.Size([5]) eigenvectors shape torch.Size([5, 450])\n",
      "415 /home/phdcs2/Hard_Disk/Datasets/Deep-Spectral-Segmentation/data/object-segmentation/ECSSD/features/dino_vits16/0416.pth\n",
      "dict_keys(['k', 'indices', 'file', 'id', 'model_name', 'patch_size', 'shape'])\n",
      "0416\n",
      "Starting Training\n",
      "epoch: 00, loss: -0.04903\n",
      "epoch: 01, loss: -0.07507\n",
      "epoch: 02, loss: -0.07495\n",
      "epoch: 03, loss: -0.07837\n",
      "epoch: 04, loss: -0.07972\n",
      "epoch: 05, loss: -0.08158\n",
      "epoch: 06, loss: -0.07982\n",
      "epoch: 07, loss: -0.08101\n",
      "epoch: 08, loss: -0.08108\n",
      "epoch: 09, loss: -0.08155\n",
      "torch.Size([450, 64])\n"
     ]
    },
    {
     "name": "stderr",
     "output_type": "stream",
     "text": [
      "\r",
      " 42%|██████████████████████████████████████████████████████████████████▏                                                                                            | 416/1000 [3:01:34<3:50:52, 23.72s/it]"
     ]
    },
    {
     "name": "stdout",
     "output_type": "stream",
     "text": [
      "eigenvalues shape torch.Size([5]) eigenvectors shape torch.Size([5, 450])\n",
      "416 /home/phdcs2/Hard_Disk/Datasets/Deep-Spectral-Segmentation/data/object-segmentation/ECSSD/features/dino_vits16/0417.pth\n",
      "dict_keys(['k', 'indices', 'file', 'id', 'model_name', 'patch_size', 'shape'])\n",
      "0417\n",
      "Starting Training\n",
      "epoch: 00, loss: -0.03246\n",
      "epoch: 01, loss: -0.05633\n",
      "epoch: 02, loss: -0.05976\n",
      "epoch: 03, loss: -0.06194\n",
      "epoch: 04, loss: -0.06370\n",
      "epoch: 05, loss: -0.06385\n",
      "epoch: 06, loss: -0.06556\n",
      "epoch: 07, loss: -0.06537\n",
      "epoch: 08, loss: -0.06554\n",
      "epoch: 09, loss: -0.06687\n",
      "torch.Size([450, 64])\n"
     ]
    },
    {
     "name": "stderr",
     "output_type": "stream",
     "text": [
      "\r",
      " 42%|██████████████████████████████████████████████████████████████████▎                                                                                            | 417/1000 [3:01:56<3:45:37, 23.22s/it]"
     ]
    },
    {
     "name": "stdout",
     "output_type": "stream",
     "text": [
      "eigenvalues shape torch.Size([5]) eigenvectors shape torch.Size([5, 450])\n",
      "417 /home/phdcs2/Hard_Disk/Datasets/Deep-Spectral-Segmentation/data/object-segmentation/ECSSD/features/dino_vits16/0418.pth\n",
      "dict_keys(['k', 'indices', 'file', 'id', 'model_name', 'patch_size', 'shape'])\n",
      "0418\n",
      "Starting Training\n",
      "epoch: 00, loss: -0.04354\n",
      "epoch: 01, loss: -0.06595\n",
      "epoch: 02, loss: -0.06711\n",
      "epoch: 03, loss: -0.06808\n",
      "epoch: 04, loss: -0.06784\n",
      "epoch: 05, loss: -0.06823\n",
      "epoch: 06, loss: -0.06835\n",
      "epoch: 07, loss: -0.06861\n",
      "epoch: 08, loss: -0.06866\n",
      "epoch: 09, loss: -0.06886\n",
      "torch.Size([450, 64])\n"
     ]
    },
    {
     "name": "stderr",
     "output_type": "stream",
     "text": [
      "\r",
      " 42%|██████████████████████████████████████████████████████████████████▍                                                                                            | 418/1000 [3:02:18<3:41:54, 22.88s/it]"
     ]
    },
    {
     "name": "stdout",
     "output_type": "stream",
     "text": [
      "eigenvalues shape torch.Size([5]) eigenvectors shape torch.Size([5, 450])\n",
      "418 /home/phdcs2/Hard_Disk/Datasets/Deep-Spectral-Segmentation/data/object-segmentation/ECSSD/features/dino_vits16/0419.pth\n",
      "dict_keys(['k', 'indices', 'file', 'id', 'model_name', 'patch_size', 'shape'])\n",
      "0419\n",
      "Starting Training\n",
      "epoch: 00, loss: -0.02994\n",
      "epoch: 01, loss: -0.06314\n",
      "epoch: 02, loss: -0.07241\n",
      "epoch: 03, loss: -0.06845\n",
      "epoch: 04, loss: -0.06996\n",
      "epoch: 05, loss: -0.07033\n",
      "epoch: 06, loss: -0.07030\n",
      "epoch: 07, loss: -0.07286\n",
      "epoch: 08, loss: -0.07127\n",
      "epoch: 09, loss: -0.07121\n",
      "torch.Size([450, 64])\n"
     ]
    },
    {
     "name": "stderr",
     "output_type": "stream",
     "text": [
      "\r",
      " 42%|██████████████████████████████████████████████████████████████████▌                                                                                            | 419/1000 [3:02:42<3:45:24, 23.28s/it]"
     ]
    },
    {
     "name": "stdout",
     "output_type": "stream",
     "text": [
      "eigenvalues shape torch.Size([5]) eigenvectors shape torch.Size([5, 450])\n",
      "419 /home/phdcs2/Hard_Disk/Datasets/Deep-Spectral-Segmentation/data/object-segmentation/ECSSD/features/dino_vits16/0420.pth\n",
      "dict_keys(['k', 'indices', 'file', 'id', 'model_name', 'patch_size', 'shape'])\n",
      "0420\n",
      "Starting Training\n",
      "epoch: 00, loss: -0.05859\n",
      "epoch: 01, loss: -0.07347\n",
      "epoch: 02, loss: -0.07876\n",
      "epoch: 03, loss: -0.07802\n",
      "epoch: 04, loss: -0.07871\n",
      "epoch: 05, loss: -0.07807\n",
      "epoch: 06, loss: -0.07824\n",
      "epoch: 07, loss: -0.07953\n",
      "epoch: 08, loss: -0.08055\n",
      "epoch: 09, loss: -0.08207\n",
      "torch.Size([575, 64])\n"
     ]
    },
    {
     "name": "stderr",
     "output_type": "stream",
     "text": [
      "\r",
      " 42%|██████████████████████████████████████████████████████████████████▊                                                                                            | 420/1000 [3:03:24<4:38:52, 28.85s/it]"
     ]
    },
    {
     "name": "stdout",
     "output_type": "stream",
     "text": [
      "eigenvalues shape torch.Size([5]) eigenvectors shape torch.Size([5, 575])\n",
      "420 /home/phdcs2/Hard_Disk/Datasets/Deep-Spectral-Segmentation/data/object-segmentation/ECSSD/features/dino_vits16/0421.pth\n",
      "dict_keys(['k', 'indices', 'file', 'id', 'model_name', 'patch_size', 'shape'])\n",
      "0421\n",
      "Starting Training\n",
      "epoch: 00, loss: -0.04622\n",
      "epoch: 01, loss: -0.07401\n",
      "epoch: 02, loss: -0.07684\n",
      "epoch: 03, loss: -0.07784\n",
      "epoch: 04, loss: -0.07893\n",
      "epoch: 05, loss: -0.07737\n",
      "epoch: 06, loss: -0.07836\n",
      "epoch: 07, loss: -0.07550\n",
      "epoch: 08, loss: -0.07988\n",
      "epoch: 09, loss: -0.07810\n",
      "torch.Size([525, 64])\n"
     ]
    },
    {
     "name": "stderr",
     "output_type": "stream",
     "text": [
      "\r",
      " 42%|██████████████████████████████████████████████████████████████████▉                                                                                            | 421/1000 [3:03:51<4:32:45, 28.27s/it]"
     ]
    },
    {
     "name": "stdout",
     "output_type": "stream",
     "text": [
      "eigenvalues shape torch.Size([5]) eigenvectors shape torch.Size([5, 525])\n",
      "421 /home/phdcs2/Hard_Disk/Datasets/Deep-Spectral-Segmentation/data/object-segmentation/ECSSD/features/dino_vits16/0422.pth\n",
      "dict_keys(['k', 'indices', 'file', 'id', 'model_name', 'patch_size', 'shape'])\n",
      "0422\n",
      "Starting Training\n",
      "epoch: 00, loss: -0.03837\n",
      "epoch: 01, loss: -0.06413\n",
      "epoch: 02, loss: -0.06843\n",
      "epoch: 03, loss: -0.07050\n",
      "epoch: 04, loss: -0.06910\n",
      "epoch: 05, loss: -0.07120\n",
      "epoch: 06, loss: -0.07075\n",
      "epoch: 07, loss: -0.07098\n",
      "epoch: 08, loss: -0.07362\n",
      "epoch: 09, loss: -0.07277\n",
      "torch.Size([450, 64])\n"
     ]
    },
    {
     "name": "stderr",
     "output_type": "stream",
     "text": [
      "\r",
      " 42%|███████████████████████████████████████████████████████████████████                                                                                            | 422/1000 [3:04:17<4:24:07, 27.42s/it]"
     ]
    },
    {
     "name": "stdout",
     "output_type": "stream",
     "text": [
      "eigenvalues shape torch.Size([5]) eigenvectors shape torch.Size([5, 450])\n",
      "422 /home/phdcs2/Hard_Disk/Datasets/Deep-Spectral-Segmentation/data/object-segmentation/ECSSD/features/dino_vits16/0423.pth\n",
      "dict_keys(['k', 'indices', 'file', 'id', 'model_name', 'patch_size', 'shape'])\n",
      "0423\n",
      "Starting Training\n",
      "epoch: 00, loss: 0.00541\n",
      "epoch: 01, loss: -0.00251\n",
      "epoch: 02, loss: -0.00608\n",
      "epoch: 03, loss: -0.00770\n",
      "epoch: 04, loss: -0.00937\n",
      "epoch: 05, loss: -0.01031\n",
      "epoch: 06, loss: -0.01059\n",
      "epoch: 07, loss: -0.01082\n",
      "epoch: 08, loss: -0.01200\n",
      "epoch: 09, loss: -0.01154\n",
      "torch.Size([425, 64])\n"
     ]
    },
    {
     "name": "stderr",
     "output_type": "stream",
     "text": [
      "\r",
      " 42%|███████████████████████████████████████████████████████████████████▎                                                                                           | 423/1000 [3:04:42<4:18:08, 26.84s/it]"
     ]
    },
    {
     "name": "stdout",
     "output_type": "stream",
     "text": [
      "eigenvalues shape torch.Size([5]) eigenvectors shape torch.Size([5, 425])\n",
      "423 /home/phdcs2/Hard_Disk/Datasets/Deep-Spectral-Segmentation/data/object-segmentation/ECSSD/features/dino_vits16/0424.pth\n",
      "dict_keys(['k', 'indices', 'file', 'id', 'model_name', 'patch_size', 'shape'])\n",
      "0424\n",
      "Starting Training\n",
      "epoch: 00, loss: -0.00108\n",
      "epoch: 01, loss: -0.01383\n",
      "epoch: 02, loss: -0.01648\n",
      "epoch: 03, loss: -0.01813\n",
      "epoch: 04, loss: -0.01824\n",
      "epoch: 05, loss: -0.01951\n",
      "epoch: 06, loss: -0.01948\n",
      "epoch: 07, loss: -0.01951\n",
      "epoch: 08, loss: -0.01933\n",
      "epoch: 09, loss: -0.02085\n",
      "torch.Size([550, 64])\n"
     ]
    },
    {
     "name": "stderr",
     "output_type": "stream",
     "text": [
      "\r",
      " 42%|███████████████████████████████████████████████████████████████████▍                                                                                           | 424/1000 [3:05:27<5:09:04, 32.20s/it]"
     ]
    },
    {
     "name": "stdout",
     "output_type": "stream",
     "text": [
      "eigenvalues shape torch.Size([5]) eigenvectors shape torch.Size([5, 550])\n",
      "424 /home/phdcs2/Hard_Disk/Datasets/Deep-Spectral-Segmentation/data/object-segmentation/ECSSD/features/dino_vits16/0425.pth\n",
      "dict_keys(['k', 'indices', 'file', 'id', 'model_name', 'patch_size', 'shape'])\n",
      "0425\n",
      "Starting Training\n",
      "epoch: 00, loss: -0.05452\n",
      "epoch: 01, loss: -0.08769\n",
      "epoch: 02, loss: -0.09687\n",
      "epoch: 03, loss: -0.09544\n",
      "epoch: 04, loss: -0.09698\n",
      "epoch: 05, loss: -0.09796\n",
      "epoch: 06, loss: -0.10038\n",
      "epoch: 07, loss: -0.10117\n",
      "epoch: 08, loss: -0.09782\n",
      "epoch: 09, loss: -0.10010\n",
      "torch.Size([475, 64])\n"
     ]
    },
    {
     "name": "stderr",
     "output_type": "stream",
     "text": [
      "\r",
      " 42%|███████████████████████████████████████████████████████████████████▌                                                                                           | 425/1000 [3:05:53<4:52:15, 30.50s/it]"
     ]
    },
    {
     "name": "stdout",
     "output_type": "stream",
     "text": [
      "eigenvalues shape torch.Size([5]) eigenvectors shape torch.Size([5, 475])\n",
      "425 /home/phdcs2/Hard_Disk/Datasets/Deep-Spectral-Segmentation/data/object-segmentation/ECSSD/features/dino_vits16/0426.pth\n",
      "dict_keys(['k', 'indices', 'file', 'id', 'model_name', 'patch_size', 'shape'])\n",
      "0426\n",
      "Starting Training\n",
      "epoch: 00, loss: 0.00220\n",
      "epoch: 01, loss: -0.00811\n",
      "epoch: 02, loss: -0.01154\n",
      "epoch: 03, loss: -0.01305\n",
      "epoch: 04, loss: -0.01399\n",
      "epoch: 05, loss: -0.01448\n",
      "epoch: 06, loss: -0.01487\n",
      "epoch: 07, loss: -0.01504\n",
      "epoch: 08, loss: -0.01517\n",
      "epoch: 09, loss: -0.01537\n",
      "torch.Size([500, 64])\n"
     ]
    },
    {
     "name": "stderr",
     "output_type": "stream",
     "text": [
      "\r",
      " 43%|███████████████████████████████████████████████████████████████████▋                                                                                           | 426/1000 [3:06:28<5:02:56, 31.67s/it]"
     ]
    },
    {
     "name": "stdout",
     "output_type": "stream",
     "text": [
      "eigenvalues shape torch.Size([5]) eigenvectors shape torch.Size([5, 500])\n",
      "426 /home/phdcs2/Hard_Disk/Datasets/Deep-Spectral-Segmentation/data/object-segmentation/ECSSD/features/dino_vits16/0427.pth\n",
      "dict_keys(['k', 'indices', 'file', 'id', 'model_name', 'patch_size', 'shape'])\n",
      "0427\n",
      "Starting Training\n",
      "epoch: 00, loss: -0.06553\n",
      "epoch: 01, loss: -0.09021\n",
      "epoch: 02, loss: -0.09106\n",
      "epoch: 03, loss: -0.09119\n",
      "epoch: 04, loss: -0.09174\n",
      "epoch: 05, loss: -0.09172\n",
      "epoch: 06, loss: -0.09194\n",
      "epoch: 07, loss: -0.09192\n",
      "epoch: 08, loss: -0.09194\n",
      "epoch: 09, loss: -0.09214\n",
      "torch.Size([450, 64])\n"
     ]
    },
    {
     "name": "stderr",
     "output_type": "stream",
     "text": [
      "\r",
      " 43%|███████████████████████████████████████████████████████████████████▉                                                                                           | 427/1000 [3:06:52<4:41:25, 29.47s/it]"
     ]
    },
    {
     "name": "stdout",
     "output_type": "stream",
     "text": [
      "eigenvalues shape torch.Size([5]) eigenvectors shape torch.Size([5, 450])\n",
      "427 /home/phdcs2/Hard_Disk/Datasets/Deep-Spectral-Segmentation/data/object-segmentation/ECSSD/features/dino_vits16/0428.pth\n",
      "dict_keys(['k', 'indices', 'file', 'id', 'model_name', 'patch_size', 'shape'])\n",
      "0428\n",
      "Starting Training\n",
      "epoch: 00, loss: -0.00803\n",
      "epoch: 01, loss: -0.03783\n",
      "epoch: 02, loss: -0.03892\n",
      "epoch: 03, loss: -0.03974\n",
      "epoch: 04, loss: -0.04373\n",
      "epoch: 05, loss: -0.04259\n",
      "epoch: 06, loss: -0.04100\n",
      "epoch: 07, loss: -0.04587\n",
      "epoch: 08, loss: -0.04240\n",
      "epoch: 09, loss: -0.04770\n",
      "torch.Size([400, 64])\n"
     ]
    },
    {
     "name": "stderr",
     "output_type": "stream",
     "text": [
      "\r",
      " 43%|████████████████████████████████████████████████████████████████████                                                                                           | 428/1000 [3:07:12<4:14:52, 26.73s/it]"
     ]
    },
    {
     "name": "stdout",
     "output_type": "stream",
     "text": [
      "eigenvalues shape torch.Size([5]) eigenvectors shape torch.Size([5, 400])\n",
      "428 /home/phdcs2/Hard_Disk/Datasets/Deep-Spectral-Segmentation/data/object-segmentation/ECSSD/features/dino_vits16/0429.pth\n",
      "dict_keys(['k', 'indices', 'file', 'id', 'model_name', 'patch_size', 'shape'])\n",
      "0429\n",
      "Starting Training\n",
      "epoch: 00, loss: -0.07856\n",
      "epoch: 01, loss: -0.11943\n",
      "epoch: 02, loss: -0.12449\n",
      "epoch: 03, loss: -0.12842\n",
      "epoch: 04, loss: -0.13003\n",
      "epoch: 05, loss: -0.13042\n",
      "epoch: 06, loss: -0.13032\n",
      "epoch: 07, loss: -0.13108\n",
      "epoch: 08, loss: -0.13119\n",
      "epoch: 09, loss: -0.13649\n",
      "torch.Size([375, 64])\n"
     ]
    },
    {
     "name": "stderr",
     "output_type": "stream",
     "text": [
      "\r",
      " 43%|████████████████████████████████████████████████████████████████████▏                                                                                          | 429/1000 [3:07:29<3:44:26, 23.58s/it]"
     ]
    },
    {
     "name": "stdout",
     "output_type": "stream",
     "text": [
      "eigenvalues shape torch.Size([5]) eigenvectors shape torch.Size([5, 375])\n",
      "429 /home/phdcs2/Hard_Disk/Datasets/Deep-Spectral-Segmentation/data/object-segmentation/ECSSD/features/dino_vits16/0430.pth\n",
      "dict_keys(['k', 'indices', 'file', 'id', 'model_name', 'patch_size', 'shape'])\n",
      "0430\n",
      "Starting Training\n",
      "epoch: 00, loss: -0.03767\n",
      "epoch: 01, loss: -0.05713\n",
      "epoch: 02, loss: -0.05809\n",
      "epoch: 03, loss: -0.05879\n",
      "epoch: 04, loss: -0.05869\n",
      "epoch: 05, loss: -0.05888\n",
      "epoch: 06, loss: -0.05914\n",
      "epoch: 07, loss: -0.05959\n",
      "epoch: 08, loss: -0.05972\n",
      "epoch: 09, loss: -0.05966\n",
      "torch.Size([500, 64])\n"
     ]
    },
    {
     "name": "stderr",
     "output_type": "stream",
     "text": [
      "\r",
      " 43%|████████████████████████████████████████████████████████████████████▎                                                                                          | 430/1000 [3:08:00<4:04:38, 25.75s/it]"
     ]
    },
    {
     "name": "stdout",
     "output_type": "stream",
     "text": [
      "eigenvalues shape torch.Size([5]) eigenvectors shape torch.Size([5, 500])\n",
      "430 /home/phdcs2/Hard_Disk/Datasets/Deep-Spectral-Segmentation/data/object-segmentation/ECSSD/features/dino_vits16/0431.pth\n",
      "dict_keys(['k', 'indices', 'file', 'id', 'model_name', 'patch_size', 'shape'])\n",
      "0431\n",
      "Starting Training\n",
      "epoch: 00, loss: -0.01473\n",
      "epoch: 01, loss: -0.04449\n",
      "epoch: 02, loss: -0.04842\n",
      "epoch: 03, loss: -0.05281\n",
      "epoch: 04, loss: -0.05382\n",
      "epoch: 05, loss: -0.05381\n",
      "epoch: 06, loss: -0.05394\n",
      "epoch: 07, loss: -0.05462\n",
      "epoch: 08, loss: -0.05625\n",
      "epoch: 09, loss: -0.05662\n",
      "torch.Size([400, 64])\n"
     ]
    },
    {
     "name": "stderr",
     "output_type": "stream",
     "text": [
      "\r",
      " 43%|████████████████████████████████████████████████████████████████████▌                                                                                          | 431/1000 [3:08:19<3:45:16, 23.75s/it]"
     ]
    },
    {
     "name": "stdout",
     "output_type": "stream",
     "text": [
      "eigenvalues shape torch.Size([5]) eigenvectors shape torch.Size([5, 400])\n",
      "431 /home/phdcs2/Hard_Disk/Datasets/Deep-Spectral-Segmentation/data/object-segmentation/ECSSD/features/dino_vits16/0432.pth\n",
      "dict_keys(['k', 'indices', 'file', 'id', 'model_name', 'patch_size', 'shape'])\n",
      "0432\n",
      "Starting Training\n",
      "epoch: 00, loss: -0.01826\n",
      "epoch: 01, loss: -0.03888\n",
      "epoch: 02, loss: -0.04225\n",
      "epoch: 03, loss: -0.04134\n",
      "epoch: 04, loss: -0.04740\n",
      "epoch: 05, loss: -0.04565\n",
      "epoch: 06, loss: -0.04737\n",
      "epoch: 07, loss: -0.04489\n",
      "epoch: 08, loss: -0.04738\n",
      "epoch: 09, loss: -0.04789\n",
      "torch.Size([425, 64])\n"
     ]
    },
    {
     "name": "stderr",
     "output_type": "stream",
     "text": [
      "\r",
      " 43%|████████████████████████████████████████████████████████████████████▋                                                                                          | 432/1000 [3:08:41<3:39:59, 23.24s/it]"
     ]
    },
    {
     "name": "stdout",
     "output_type": "stream",
     "text": [
      "eigenvalues shape torch.Size([5]) eigenvectors shape torch.Size([5, 425])\n",
      "432 /home/phdcs2/Hard_Disk/Datasets/Deep-Spectral-Segmentation/data/object-segmentation/ECSSD/features/dino_vits16/0433.pth\n",
      "dict_keys(['k', 'indices', 'file', 'id', 'model_name', 'patch_size', 'shape'])\n",
      "0433\n",
      "Starting Training\n",
      "epoch: 00, loss: -0.02458\n",
      "epoch: 01, loss: -0.04575\n",
      "epoch: 02, loss: -0.04587\n",
      "epoch: 03, loss: -0.04689\n",
      "epoch: 04, loss: -0.04682\n",
      "epoch: 05, loss: -0.04722\n",
      "epoch: 06, loss: -0.04830\n",
      "epoch: 07, loss: -0.04734\n",
      "epoch: 08, loss: -0.04728\n",
      "epoch: 09, loss: -0.04878\n",
      "torch.Size([475, 64])\n"
     ]
    },
    {
     "name": "stderr",
     "output_type": "stream",
     "text": [
      "\r",
      " 43%|████████████████████████████████████████████████████████████████████▊                                                                                          | 433/1000 [3:09:03<3:38:14, 23.09s/it]"
     ]
    },
    {
     "name": "stdout",
     "output_type": "stream",
     "text": [
      "eigenvalues shape torch.Size([5]) eigenvectors shape torch.Size([5, 475])\n",
      "433 /home/phdcs2/Hard_Disk/Datasets/Deep-Spectral-Segmentation/data/object-segmentation/ECSSD/features/dino_vits16/0434.pth\n",
      "dict_keys(['k', 'indices', 'file', 'id', 'model_name', 'patch_size', 'shape'])\n",
      "0434\n",
      "Starting Training\n",
      "epoch: 00, loss: -0.03337\n",
      "epoch: 01, loss: -0.06036\n",
      "epoch: 02, loss: -0.06514\n",
      "epoch: 03, loss: -0.06566\n",
      "epoch: 04, loss: -0.06731\n",
      "epoch: 05, loss: -0.06769\n",
      "epoch: 06, loss: -0.06549\n",
      "epoch: 07, loss: -0.06864\n",
      "epoch: 08, loss: -0.06632\n",
      "epoch: 09, loss: -0.06826\n",
      "torch.Size([450, 64])\n"
     ]
    },
    {
     "name": "stderr",
     "output_type": "stream",
     "text": [
      "\r",
      " 43%|█████████████████████████████████████████████████████████████████████                                                                                          | 434/1000 [3:09:26<3:37:21, 23.04s/it]"
     ]
    },
    {
     "name": "stdout",
     "output_type": "stream",
     "text": [
      "eigenvalues shape torch.Size([5]) eigenvectors shape torch.Size([5, 450])\n",
      "434 /home/phdcs2/Hard_Disk/Datasets/Deep-Spectral-Segmentation/data/object-segmentation/ECSSD/features/dino_vits16/0435.pth\n",
      "dict_keys(['k', 'indices', 'file', 'id', 'model_name', 'patch_size', 'shape'])\n",
      "0435\n",
      "Starting Training\n",
      "epoch: 00, loss: -0.05004\n",
      "epoch: 01, loss: -0.08598\n",
      "epoch: 02, loss: -0.08772\n",
      "epoch: 03, loss: -0.08942\n",
      "epoch: 04, loss: -0.08996\n",
      "epoch: 05, loss: -0.08920\n",
      "epoch: 06, loss: -0.09030\n",
      "epoch: 07, loss: -0.09053\n",
      "epoch: 08, loss: -0.09020\n",
      "epoch: 09, loss: -0.09243\n",
      "torch.Size([450, 64])\n"
     ]
    },
    {
     "name": "stderr",
     "output_type": "stream",
     "text": [
      "\r",
      " 44%|█████████████████████████████████████████████████████████████████████▏                                                                                         | 435/1000 [3:09:49<3:34:32, 22.78s/it]"
     ]
    },
    {
     "name": "stdout",
     "output_type": "stream",
     "text": [
      "eigenvalues shape torch.Size([5]) eigenvectors shape torch.Size([5, 450])\n",
      "435 /home/phdcs2/Hard_Disk/Datasets/Deep-Spectral-Segmentation/data/object-segmentation/ECSSD/features/dino_vits16/0436.pth\n",
      "dict_keys(['k', 'indices', 'file', 'id', 'model_name', 'patch_size', 'shape'])\n",
      "0436\n",
      "Starting Training\n",
      "epoch: 00, loss: -0.04720\n",
      "epoch: 01, loss: -0.05840\n",
      "epoch: 02, loss: -0.06036\n",
      "epoch: 03, loss: -0.06088\n",
      "epoch: 04, loss: -0.06120\n",
      "epoch: 05, loss: -0.05990\n",
      "epoch: 06, loss: -0.06155\n",
      "epoch: 07, loss: -0.06161\n",
      "epoch: 08, loss: -0.06172\n",
      "epoch: 09, loss: -0.06119\n",
      "torch.Size([475, 64])\n"
     ]
    },
    {
     "name": "stderr",
     "output_type": "stream",
     "text": [
      "\r",
      " 44%|█████████████████████████████████████████████████████████████████████▎                                                                                         | 436/1000 [3:10:09<3:27:53, 22.12s/it]"
     ]
    },
    {
     "name": "stdout",
     "output_type": "stream",
     "text": [
      "eigenvalues shape torch.Size([5]) eigenvectors shape torch.Size([5, 475])\n",
      "436 /home/phdcs2/Hard_Disk/Datasets/Deep-Spectral-Segmentation/data/object-segmentation/ECSSD/features/dino_vits16/0437.pth\n",
      "dict_keys(['k', 'indices', 'file', 'id', 'model_name', 'patch_size', 'shape'])\n",
      "0437\n",
      "Starting Training\n",
      "epoch: 00, loss: 0.00513\n",
      "epoch: 01, loss: -0.00133\n",
      "epoch: 02, loss: -0.00471\n",
      "epoch: 03, loss: -0.00673\n",
      "epoch: 04, loss: -0.00795\n",
      "epoch: 05, loss: -0.00872\n",
      "epoch: 06, loss: -0.00932\n",
      "epoch: 07, loss: -0.00986\n",
      "epoch: 08, loss: -0.01012\n",
      "epoch: 09, loss: -0.01034\n",
      "torch.Size([450, 64])\n"
     ]
    },
    {
     "name": "stderr",
     "output_type": "stream",
     "text": [
      "\r",
      " 44%|█████████████████████████████████████████████████████████████████████▍                                                                                         | 437/1000 [3:10:32<3:29:48, 22.36s/it]"
     ]
    },
    {
     "name": "stdout",
     "output_type": "stream",
     "text": [
      "eigenvalues shape torch.Size([5]) eigenvectors shape torch.Size([5, 450])\n",
      "437 /home/phdcs2/Hard_Disk/Datasets/Deep-Spectral-Segmentation/data/object-segmentation/ECSSD/features/dino_vits16/0438.pth\n",
      "dict_keys(['k', 'indices', 'file', 'id', 'model_name', 'patch_size', 'shape'])\n",
      "0438\n",
      "Starting Training\n",
      "epoch: 00, loss: -0.01970\n",
      "epoch: 01, loss: -0.03918\n",
      "epoch: 02, loss: -0.04130\n",
      "epoch: 03, loss: -0.04211\n",
      "epoch: 04, loss: -0.04248\n",
      "epoch: 05, loss: -0.04239\n",
      "epoch: 06, loss: -0.04268\n",
      "epoch: 07, loss: -0.04283\n",
      "epoch: 08, loss: -0.04291\n",
      "epoch: 09, loss: -0.04304\n",
      "torch.Size([450, 64])\n"
     ]
    },
    {
     "name": "stderr",
     "output_type": "stream",
     "text": [
      "\r",
      " 44%|█████████████████████████████████████████████████████████████████████▋                                                                                         | 438/1000 [3:10:53<3:26:19, 22.03s/it]"
     ]
    },
    {
     "name": "stdout",
     "output_type": "stream",
     "text": [
      "eigenvalues shape torch.Size([5]) eigenvectors shape torch.Size([5, 450])\n",
      "438 /home/phdcs2/Hard_Disk/Datasets/Deep-Spectral-Segmentation/data/object-segmentation/ECSSD/features/dino_vits16/0439.pth\n",
      "dict_keys(['k', 'indices', 'file', 'id', 'model_name', 'patch_size', 'shape'])\n",
      "0439\n",
      "Starting Training\n",
      "epoch: 00, loss: -0.01515\n",
      "epoch: 01, loss: -0.03005\n",
      "epoch: 02, loss: -0.03179\n",
      "epoch: 03, loss: -0.03377\n",
      "epoch: 04, loss: -0.03345\n",
      "epoch: 05, loss: -0.03420\n",
      "epoch: 06, loss: -0.03449\n",
      "epoch: 07, loss: -0.03470\n",
      "epoch: 08, loss: -0.03414\n",
      "epoch: 09, loss: -0.03488\n",
      "torch.Size([575, 64])\n"
     ]
    },
    {
     "name": "stderr",
     "output_type": "stream",
     "text": [
      "\r",
      " 44%|█████████████████████████████████████████████████████████████████████▊                                                                                         | 439/1000 [3:11:34<4:19:00, 27.70s/it]"
     ]
    },
    {
     "name": "stdout",
     "output_type": "stream",
     "text": [
      "eigenvalues shape torch.Size([5]) eigenvectors shape torch.Size([5, 575])\n",
      "439 /home/phdcs2/Hard_Disk/Datasets/Deep-Spectral-Segmentation/data/object-segmentation/ECSSD/features/dino_vits16/0440.pth\n",
      "dict_keys(['k', 'indices', 'file', 'id', 'model_name', 'patch_size', 'shape'])\n",
      "0440\n",
      "Starting Training\n",
      "epoch: 00, loss: -0.00483\n",
      "epoch: 01, loss: -0.02869\n",
      "epoch: 02, loss: -0.03125\n",
      "epoch: 03, loss: -0.03445\n",
      "epoch: 04, loss: -0.03341\n",
      "epoch: 05, loss: -0.03377\n",
      "epoch: 06, loss: -0.03467\n",
      "epoch: 07, loss: -0.03429\n",
      "epoch: 08, loss: -0.03600\n",
      "epoch: 09, loss: -0.03714\n",
      "torch.Size([450, 64])\n"
     ]
    },
    {
     "name": "stderr",
     "output_type": "stream",
     "text": [
      "\r",
      " 44%|█████████████████████████████████████████████████████████████████████▉                                                                                         | 440/1000 [3:11:57<4:04:10, 26.16s/it]"
     ]
    },
    {
     "name": "stdout",
     "output_type": "stream",
     "text": [
      "eigenvalues shape torch.Size([5]) eigenvectors shape torch.Size([5, 450])\n",
      "440 /home/phdcs2/Hard_Disk/Datasets/Deep-Spectral-Segmentation/data/object-segmentation/ECSSD/features/dino_vits16/0441.pth\n",
      "dict_keys(['k', 'indices', 'file', 'id', 'model_name', 'patch_size', 'shape'])\n",
      "0441\n",
      "Starting Training\n",
      "epoch: 00, loss: -0.04435\n",
      "epoch: 01, loss: -0.06626\n",
      "epoch: 02, loss: -0.06835\n",
      "epoch: 03, loss: -0.07038\n",
      "epoch: 04, loss: -0.07232\n",
      "epoch: 05, loss: -0.07067\n",
      "epoch: 06, loss: -0.07255\n",
      "epoch: 07, loss: -0.07302\n",
      "epoch: 08, loss: -0.07355\n",
      "epoch: 09, loss: -0.07344\n",
      "torch.Size([450, 64])\n"
     ]
    },
    {
     "name": "stderr",
     "output_type": "stream",
     "text": [
      "\r",
      " 44%|██████████████████████████████████████████████████████████████████████                                                                                         | 441/1000 [3:12:17<3:48:08, 24.49s/it]"
     ]
    },
    {
     "name": "stdout",
     "output_type": "stream",
     "text": [
      "eigenvalues shape torch.Size([5]) eigenvectors shape torch.Size([5, 450])\n",
      "441 /home/phdcs2/Hard_Disk/Datasets/Deep-Spectral-Segmentation/data/object-segmentation/ECSSD/features/dino_vits16/0442.pth\n",
      "dict_keys(['k', 'indices', 'file', 'id', 'model_name', 'patch_size', 'shape'])\n",
      "0442\n",
      "Starting Training\n",
      "epoch: 00, loss: -0.02379\n",
      "epoch: 01, loss: -0.05063\n",
      "epoch: 02, loss: -0.05465\n",
      "epoch: 03, loss: -0.05766\n",
      "epoch: 04, loss: -0.05692\n",
      "epoch: 05, loss: -0.05773\n",
      "epoch: 06, loss: -0.05873\n",
      "epoch: 07, loss: -0.05973\n",
      "epoch: 08, loss: -0.05828\n",
      "epoch: 09, loss: -0.05985\n",
      "torch.Size([475, 64])\n"
     ]
    },
    {
     "name": "stderr",
     "output_type": "stream",
     "text": [
      "\r",
      " 44%|██████████████████████████████████████████████████████████████████████▎                                                                                        | 442/1000 [3:12:41<3:45:03, 24.20s/it]"
     ]
    },
    {
     "name": "stdout",
     "output_type": "stream",
     "text": [
      "eigenvalues shape torch.Size([5]) eigenvectors shape torch.Size([5, 475])\n",
      "442 /home/phdcs2/Hard_Disk/Datasets/Deep-Spectral-Segmentation/data/object-segmentation/ECSSD/features/dino_vits16/0443.pth\n",
      "dict_keys(['k', 'indices', 'file', 'id', 'model_name', 'patch_size', 'shape'])\n",
      "0443\n",
      "Starting Training\n",
      "epoch: 00, loss: -0.02662\n",
      "epoch: 01, loss: -0.05487\n",
      "epoch: 02, loss: -0.06107\n",
      "epoch: 03, loss: -0.05793\n",
      "epoch: 04, loss: -0.05886\n",
      "epoch: 05, loss: -0.05816\n",
      "epoch: 06, loss: -0.05948\n",
      "epoch: 07, loss: -0.06108\n",
      "epoch: 08, loss: -0.06021\n",
      "epoch: 09, loss: -0.06157\n",
      "torch.Size([450, 64])\n"
     ]
    },
    {
     "name": "stderr",
     "output_type": "stream",
     "text": [
      "\r",
      " 44%|██████████████████████████████████████████████████████████████████████▍                                                                                        | 443/1000 [3:13:01<3:33:44, 23.02s/it]"
     ]
    },
    {
     "name": "stdout",
     "output_type": "stream",
     "text": [
      "eigenvalues shape torch.Size([5]) eigenvectors shape torch.Size([5, 450])\n",
      "443 /home/phdcs2/Hard_Disk/Datasets/Deep-Spectral-Segmentation/data/object-segmentation/ECSSD/features/dino_vits16/0444.pth\n",
      "dict_keys(['k', 'indices', 'file', 'id', 'model_name', 'patch_size', 'shape'])\n",
      "0444\n",
      "Starting Training\n",
      "epoch: 00, loss: -0.06279\n",
      "epoch: 01, loss: -0.09101\n",
      "epoch: 02, loss: -0.09197\n",
      "epoch: 03, loss: -0.09803\n",
      "epoch: 04, loss: -0.09253\n",
      "epoch: 05, loss: -0.09662\n",
      "epoch: 06, loss: -0.09379\n",
      "epoch: 07, loss: -0.09499\n",
      "epoch: 08, loss: -0.09503\n",
      "epoch: 09, loss: -0.09539\n",
      "torch.Size([450, 64])\n"
     ]
    },
    {
     "name": "stderr",
     "output_type": "stream",
     "text": [
      "\r",
      " 44%|██████████████████████████████████████████████████████████████████████▌                                                                                        | 444/1000 [3:13:21<3:24:54, 22.11s/it]"
     ]
    },
    {
     "name": "stdout",
     "output_type": "stream",
     "text": [
      "eigenvalues shape torch.Size([5]) eigenvectors shape torch.Size([5, 450])\n",
      "444 /home/phdcs2/Hard_Disk/Datasets/Deep-Spectral-Segmentation/data/object-segmentation/ECSSD/features/dino_vits16/0445.pth\n",
      "dict_keys(['k', 'indices', 'file', 'id', 'model_name', 'patch_size', 'shape'])\n",
      "0445\n",
      "Starting Training\n",
      "epoch: 00, loss: -0.02291\n",
      "epoch: 01, loss: -0.06240\n",
      "epoch: 02, loss: -0.07162\n",
      "epoch: 03, loss: -0.06885\n",
      "epoch: 04, loss: -0.06966\n",
      "epoch: 05, loss: -0.07208\n",
      "epoch: 06, loss: -0.07277\n",
      "epoch: 07, loss: -0.07214\n",
      "epoch: 08, loss: -0.07380\n",
      "epoch: 09, loss: -0.07244\n",
      "torch.Size([400, 64])\n"
     ]
    },
    {
     "name": "stderr",
     "output_type": "stream",
     "text": [
      "\r",
      " 44%|██████████████████████████████████████████████████████████████████████▊                                                                                        | 445/1000 [3:13:41<3:19:07, 21.53s/it]"
     ]
    },
    {
     "name": "stdout",
     "output_type": "stream",
     "text": [
      "eigenvalues shape torch.Size([5]) eigenvectors shape torch.Size([5, 400])\n",
      "445 /home/phdcs2/Hard_Disk/Datasets/Deep-Spectral-Segmentation/data/object-segmentation/ECSSD/features/dino_vits16/0446.pth\n",
      "dict_keys(['k', 'indices', 'file', 'id', 'model_name', 'patch_size', 'shape'])\n",
      "0446\n",
      "Starting Training\n",
      "epoch: 00, loss: -0.04210\n",
      "epoch: 01, loss: -0.06846\n",
      "epoch: 02, loss: -0.06974\n",
      "epoch: 03, loss: -0.07015\n",
      "epoch: 04, loss: -0.06994\n",
      "epoch: 05, loss: -0.07018\n",
      "epoch: 06, loss: -0.07117\n",
      "epoch: 07, loss: -0.07079\n",
      "epoch: 08, loss: -0.07074\n",
      "epoch: 09, loss: -0.07073\n",
      "torch.Size([400, 64])\n"
     ]
    },
    {
     "name": "stderr",
     "output_type": "stream",
     "text": [
      "\r",
      " 45%|██████████████████████████████████████████████████████████████████████▉                                                                                        | 446/1000 [3:14:00<3:10:52, 20.67s/it]"
     ]
    },
    {
     "name": "stdout",
     "output_type": "stream",
     "text": [
      "eigenvalues shape torch.Size([5]) eigenvectors shape torch.Size([5, 400])\n",
      "446 /home/phdcs2/Hard_Disk/Datasets/Deep-Spectral-Segmentation/data/object-segmentation/ECSSD/features/dino_vits16/0447.pth\n",
      "dict_keys(['k', 'indices', 'file', 'id', 'model_name', 'patch_size', 'shape'])\n",
      "0447\n",
      "Starting Training\n",
      "epoch: 00, loss: -0.02608\n",
      "epoch: 01, loss: -0.05469\n",
      "epoch: 02, loss: -0.06326\n",
      "epoch: 03, loss: -0.06413\n",
      "epoch: 04, loss: -0.06287\n",
      "epoch: 05, loss: -0.06475\n",
      "epoch: 06, loss: -0.06604\n",
      "epoch: 07, loss: -0.06590\n",
      "epoch: 08, loss: -0.06836\n",
      "epoch: 09, loss: -0.06779\n",
      "torch.Size([400, 64])\n"
     ]
    },
    {
     "name": "stderr",
     "output_type": "stream",
     "text": [
      "\r",
      " 45%|███████████████████████████████████████████████████████████████████████                                                                                        | 447/1000 [3:14:19<3:05:57, 20.18s/it]"
     ]
    },
    {
     "name": "stdout",
     "output_type": "stream",
     "text": [
      "eigenvalues shape torch.Size([5]) eigenvectors shape torch.Size([5, 400])\n",
      "447 /home/phdcs2/Hard_Disk/Datasets/Deep-Spectral-Segmentation/data/object-segmentation/ECSSD/features/dino_vits16/0448.pth\n",
      "dict_keys(['k', 'indices', 'file', 'id', 'model_name', 'patch_size', 'shape'])\n",
      "0448\n",
      "Starting Training\n",
      "epoch: 00, loss: -0.03125\n",
      "epoch: 01, loss: -0.05983\n",
      "epoch: 02, loss: -0.06104\n",
      "epoch: 03, loss: -0.06164\n",
      "epoch: 04, loss: -0.06051\n",
      "epoch: 05, loss: -0.06193\n",
      "epoch: 06, loss: -0.06342\n",
      "epoch: 07, loss: -0.06227\n",
      "epoch: 08, loss: -0.06435\n",
      "epoch: 09, loss: -0.06204\n",
      "torch.Size([350, 64])\n"
     ]
    },
    {
     "name": "stderr",
     "output_type": "stream",
     "text": [
      "\r",
      " 45%|███████████████████████████████████████████████████████████████████████▏                                                                                       | 448/1000 [3:14:35<2:54:47, 19.00s/it]"
     ]
    },
    {
     "name": "stdout",
     "output_type": "stream",
     "text": [
      "eigenvalues shape torch.Size([5]) eigenvectors shape torch.Size([5, 350])\n",
      "448 /home/phdcs2/Hard_Disk/Datasets/Deep-Spectral-Segmentation/data/object-segmentation/ECSSD/features/dino_vits16/0449.pth\n",
      "dict_keys(['k', 'indices', 'file', 'id', 'model_name', 'patch_size', 'shape'])\n",
      "0449\n",
      "Starting Training\n",
      "epoch: 00, loss: -0.05383\n",
      "epoch: 01, loss: -0.08499\n",
      "epoch: 02, loss: -0.08306\n",
      "epoch: 03, loss: -0.08619\n",
      "epoch: 04, loss: -0.08553\n",
      "epoch: 05, loss: -0.08796\n",
      "epoch: 06, loss: -0.08756\n",
      "epoch: 07, loss: -0.08796\n",
      "epoch: 08, loss: -0.09027\n",
      "epoch: 09, loss: -0.08967\n",
      "torch.Size([475, 64])\n"
     ]
    },
    {
     "name": "stderr",
     "output_type": "stream",
     "text": [
      "\r",
      " 45%|███████████████████████████████████████████████████████████████████████▍                                                                                       | 449/1000 [3:15:01<3:12:31, 20.96s/it]"
     ]
    },
    {
     "name": "stdout",
     "output_type": "stream",
     "text": [
      "eigenvalues shape torch.Size([5]) eigenvectors shape torch.Size([5, 475])\n",
      "449 /home/phdcs2/Hard_Disk/Datasets/Deep-Spectral-Segmentation/data/object-segmentation/ECSSD/features/dino_vits16/0450.pth\n",
      "dict_keys(['k', 'indices', 'file', 'id', 'model_name', 'patch_size', 'shape'])\n",
      "0450\n",
      "Starting Training\n",
      "epoch: 00, loss: -0.06510\n",
      "epoch: 01, loss: -0.08809\n",
      "epoch: 02, loss: -0.09297\n",
      "epoch: 03, loss: -0.09218\n",
      "epoch: 04, loss: -0.09385\n",
      "epoch: 05, loss: -0.09530\n",
      "epoch: 06, loss: -0.09585\n",
      "epoch: 07, loss: -0.09648\n",
      "epoch: 08, loss: -0.09615\n",
      "epoch: 09, loss: -0.09360\n",
      "torch.Size([400, 64])\n"
     ]
    },
    {
     "name": "stderr",
     "output_type": "stream",
     "text": [
      "\r",
      " 45%|███████████████████████████████████████████████████████████████████████▌                                                                                       | 450/1000 [3:15:23<3:15:13, 21.30s/it]"
     ]
    },
    {
     "name": "stdout",
     "output_type": "stream",
     "text": [
      "eigenvalues shape torch.Size([5]) eigenvectors shape torch.Size([5, 400])\n",
      "450 /home/phdcs2/Hard_Disk/Datasets/Deep-Spectral-Segmentation/data/object-segmentation/ECSSD/features/dino_vits16/0451.pth\n",
      "dict_keys(['k', 'indices', 'file', 'id', 'model_name', 'patch_size', 'shape'])\n",
      "0451\n",
      "Starting Training\n",
      "epoch: 00, loss: -0.04985\n",
      "epoch: 01, loss: -0.07360\n",
      "epoch: 02, loss: -0.07391\n",
      "epoch: 03, loss: -0.07448\n",
      "epoch: 04, loss: -0.07471\n",
      "epoch: 05, loss: -0.07569\n",
      "epoch: 06, loss: -0.07533\n",
      "epoch: 07, loss: -0.07523\n",
      "epoch: 08, loss: -0.07548\n",
      "epoch: 09, loss: -0.07553\n",
      "torch.Size([450, 64])\n"
     ]
    },
    {
     "name": "stderr",
     "output_type": "stream",
     "text": [
      "\r",
      " 45%|███████████████████████████████████████████████████████████████████████▋                                                                                       | 451/1000 [3:15:47<3:22:38, 22.15s/it]"
     ]
    },
    {
     "name": "stdout",
     "output_type": "stream",
     "text": [
      "eigenvalues shape torch.Size([5]) eigenvectors shape torch.Size([5, 450])\n",
      "451 /home/phdcs2/Hard_Disk/Datasets/Deep-Spectral-Segmentation/data/object-segmentation/ECSSD/features/dino_vits16/0452.pth\n",
      "dict_keys(['k', 'indices', 'file', 'id', 'model_name', 'patch_size', 'shape'])\n",
      "0452\n",
      "Starting Training\n",
      "epoch: 00, loss: -0.01616\n",
      "epoch: 01, loss: -0.04451\n",
      "epoch: 02, loss: -0.04790\n",
      "epoch: 03, loss: -0.04848\n",
      "epoch: 04, loss: -0.04963\n",
      "epoch: 05, loss: -0.04907\n",
      "epoch: 06, loss: -0.05021\n",
      "epoch: 07, loss: -0.05041\n",
      "epoch: 08, loss: -0.04916\n",
      "epoch: 09, loss: -0.04977\n",
      "torch.Size([475, 64])\n"
     ]
    },
    {
     "name": "stderr",
     "output_type": "stream",
     "text": [
      "\r",
      " 45%|███████████████████████████████████████████████████████████████████████▊                                                                                       | 452/1000 [3:16:08<3:18:55, 21.78s/it]"
     ]
    },
    {
     "name": "stdout",
     "output_type": "stream",
     "text": [
      "eigenvalues shape torch.Size([5]) eigenvectors shape torch.Size([5, 475])\n",
      "452 /home/phdcs2/Hard_Disk/Datasets/Deep-Spectral-Segmentation/data/object-segmentation/ECSSD/features/dino_vits16/0453.pth\n",
      "dict_keys(['k', 'indices', 'file', 'id', 'model_name', 'patch_size', 'shape'])\n",
      "0453\n",
      "Starting Training\n",
      "epoch: 00, loss: -0.01607\n",
      "epoch: 01, loss: -0.03202\n",
      "epoch: 02, loss: -0.03449\n",
      "epoch: 03, loss: -0.03554\n",
      "epoch: 04, loss: -0.03554\n",
      "epoch: 05, loss: -0.03599\n",
      "epoch: 06, loss: -0.03616\n",
      "epoch: 07, loss: -0.03634\n",
      "epoch: 08, loss: -0.03646\n",
      "epoch: 09, loss: -0.03628\n",
      "torch.Size([400, 64])\n"
     ]
    },
    {
     "name": "stderr",
     "output_type": "stream",
     "text": [
      "\r",
      " 45%|████████████████████████████████████████████████████████████████████████                                                                                       | 453/1000 [3:16:26<3:08:42, 20.70s/it]"
     ]
    },
    {
     "name": "stdout",
     "output_type": "stream",
     "text": [
      "eigenvalues shape torch.Size([5]) eigenvectors shape torch.Size([5, 400])\n",
      "453 /home/phdcs2/Hard_Disk/Datasets/Deep-Spectral-Segmentation/data/object-segmentation/ECSSD/features/dino_vits16/0454.pth\n",
      "dict_keys(['k', 'indices', 'file', 'id', 'model_name', 'patch_size', 'shape'])\n",
      "0454\n",
      "Starting Training\n",
      "epoch: 00, loss: -0.02883\n",
      "epoch: 01, loss: -0.05458\n",
      "epoch: 02, loss: -0.05617\n",
      "epoch: 03, loss: -0.06102\n",
      "epoch: 04, loss: -0.06046\n",
      "epoch: 05, loss: -0.06315\n",
      "epoch: 06, loss: -0.06212\n",
      "epoch: 07, loss: -0.06616\n",
      "epoch: 08, loss: -0.06562\n",
      "epoch: 09, loss: -0.06343\n",
      "torch.Size([400, 64])\n"
     ]
    },
    {
     "name": "stderr",
     "output_type": "stream",
     "text": [
      "\r",
      " 45%|████████████████████████████████████████████████████████████████████████▏                                                                                      | 454/1000 [3:16:46<3:06:05, 20.45s/it]"
     ]
    },
    {
     "name": "stdout",
     "output_type": "stream",
     "text": [
      "eigenvalues shape torch.Size([5]) eigenvectors shape torch.Size([5, 400])\n",
      "454 /home/phdcs2/Hard_Disk/Datasets/Deep-Spectral-Segmentation/data/object-segmentation/ECSSD/features/dino_vits16/0455.pth\n",
      "dict_keys(['k', 'indices', 'file', 'id', 'model_name', 'patch_size', 'shape'])\n",
      "0455\n",
      "Starting Training\n",
      "epoch: 00, loss: -0.03705\n",
      "epoch: 01, loss: -0.06554\n",
      "epoch: 02, loss: -0.07231\n",
      "epoch: 03, loss: -0.07373\n",
      "epoch: 04, loss: -0.07605\n",
      "epoch: 05, loss: -0.07723\n",
      "epoch: 06, loss: -0.07679\n",
      "epoch: 07, loss: -0.07754\n",
      "epoch: 08, loss: -0.07819\n",
      "epoch: 09, loss: -0.07905\n",
      "torch.Size([400, 64])\n"
     ]
    },
    {
     "name": "stderr",
     "output_type": "stream",
     "text": [
      "\r",
      " 46%|████████████████████████████████████████████████████████████████████████▎                                                                                      | 455/1000 [3:17:06<3:04:25, 20.30s/it]"
     ]
    },
    {
     "name": "stdout",
     "output_type": "stream",
     "text": [
      "eigenvalues shape torch.Size([5]) eigenvectors shape torch.Size([5, 400])\n",
      "455 /home/phdcs2/Hard_Disk/Datasets/Deep-Spectral-Segmentation/data/object-segmentation/ECSSD/features/dino_vits16/0456.pth\n",
      "dict_keys(['k', 'indices', 'file', 'id', 'model_name', 'patch_size', 'shape'])\n",
      "0456\n",
      "Starting Training\n",
      "epoch: 00, loss: -0.00901\n",
      "epoch: 01, loss: -0.02891\n",
      "epoch: 02, loss: -0.03424\n",
      "epoch: 03, loss: -0.03853\n",
      "epoch: 04, loss: -0.03868\n",
      "epoch: 05, loss: -0.04091\n",
      "epoch: 06, loss: -0.04096\n",
      "epoch: 07, loss: -0.04094\n",
      "epoch: 08, loss: -0.04244\n",
      "epoch: 09, loss: -0.04264\n",
      "torch.Size([425, 64])\n"
     ]
    },
    {
     "name": "stderr",
     "output_type": "stream",
     "text": [
      "\r",
      " 46%|████████████████████████████████████████████████████████████████████████▌                                                                                      | 456/1000 [3:17:28<3:09:01, 20.85s/it]"
     ]
    },
    {
     "name": "stdout",
     "output_type": "stream",
     "text": [
      "eigenvalues shape torch.Size([5]) eigenvectors shape torch.Size([5, 425])\n",
      "456 /home/phdcs2/Hard_Disk/Datasets/Deep-Spectral-Segmentation/data/object-segmentation/ECSSD/features/dino_vits16/0457.pth\n",
      "dict_keys(['k', 'indices', 'file', 'id', 'model_name', 'patch_size', 'shape'])\n",
      "0457\n",
      "Starting Training\n",
      "epoch: 00, loss: -0.02641\n",
      "epoch: 01, loss: -0.04971\n",
      "epoch: 02, loss: -0.05429\n",
      "epoch: 03, loss: -0.06040\n",
      "epoch: 04, loss: -0.05897\n",
      "epoch: 05, loss: -0.06210\n",
      "epoch: 06, loss: -0.06260\n",
      "epoch: 07, loss: -0.06325\n",
      "epoch: 08, loss: -0.06598\n",
      "epoch: 09, loss: -0.05823\n",
      "torch.Size([400, 64])\n"
     ]
    },
    {
     "name": "stderr",
     "output_type": "stream",
     "text": [
      "\r",
      " 46%|████████████████████████████████████████████████████████████████████████▋                                                                                      | 457/1000 [3:17:49<3:07:53, 20.76s/it]"
     ]
    },
    {
     "name": "stdout",
     "output_type": "stream",
     "text": [
      "eigenvalues shape torch.Size([5]) eigenvectors shape torch.Size([5, 400])\n",
      "457 /home/phdcs2/Hard_Disk/Datasets/Deep-Spectral-Segmentation/data/object-segmentation/ECSSD/features/dino_vits16/0458.pth\n",
      "dict_keys(['k', 'indices', 'file', 'id', 'model_name', 'patch_size', 'shape'])\n",
      "0458\n",
      "Starting Training\n",
      "epoch: 00, loss: -0.03771\n",
      "epoch: 01, loss: -0.05939\n",
      "epoch: 02, loss: -0.06044\n",
      "epoch: 03, loss: -0.06066\n",
      "epoch: 04, loss: -0.06126\n",
      "epoch: 05, loss: -0.06132\n",
      "epoch: 06, loss: -0.06146\n",
      "epoch: 07, loss: -0.06171\n",
      "epoch: 08, loss: -0.06171\n",
      "epoch: 09, loss: -0.06175\n",
      "torch.Size([450, 64])\n"
     ]
    },
    {
     "name": "stderr",
     "output_type": "stream",
     "text": [
      "\r",
      " 46%|████████████████████████████████████████████████████████████████████████▊                                                                                      | 458/1000 [3:18:12<3:13:20, 21.40s/it]"
     ]
    },
    {
     "name": "stdout",
     "output_type": "stream",
     "text": [
      "eigenvalues shape torch.Size([5]) eigenvectors shape torch.Size([5, 450])\n",
      "458 /home/phdcs2/Hard_Disk/Datasets/Deep-Spectral-Segmentation/data/object-segmentation/ECSSD/features/dino_vits16/0459.pth\n",
      "dict_keys(['k', 'indices', 'file', 'id', 'model_name', 'patch_size', 'shape'])\n",
      "0459\n",
      "Starting Training\n",
      "epoch: 00, loss: -0.04177\n",
      "epoch: 01, loss: -0.06167\n",
      "epoch: 02, loss: -0.06319\n",
      "epoch: 03, loss: -0.06385\n",
      "epoch: 04, loss: -0.06400\n",
      "epoch: 05, loss: -0.06429\n",
      "epoch: 06, loss: -0.06435\n",
      "epoch: 07, loss: -0.06465\n",
      "epoch: 08, loss: -0.06473\n",
      "epoch: 09, loss: -0.06480\n",
      "torch.Size([400, 64])\n"
     ]
    },
    {
     "name": "stderr",
     "output_type": "stream",
     "text": [
      "\r",
      " 46%|████████████████████████████████████████████████████████████████████████▉                                                                                      | 459/1000 [3:18:31<3:09:05, 20.97s/it]"
     ]
    },
    {
     "name": "stdout",
     "output_type": "stream",
     "text": [
      "eigenvalues shape torch.Size([5]) eigenvectors shape torch.Size([5, 400])\n",
      "459 /home/phdcs2/Hard_Disk/Datasets/Deep-Spectral-Segmentation/data/object-segmentation/ECSSD/features/dino_vits16/0460.pth\n",
      "dict_keys(['k', 'indices', 'file', 'id', 'model_name', 'patch_size', 'shape'])\n",
      "0460\n",
      "Starting Training\n",
      "epoch: 00, loss: -0.07215\n",
      "epoch: 01, loss: -0.09550\n",
      "epoch: 02, loss: -0.09999\n",
      "epoch: 03, loss: -0.10008\n",
      "epoch: 04, loss: -0.10208\n",
      "epoch: 05, loss: -0.10333\n",
      "epoch: 06, loss: -0.10402\n",
      "epoch: 07, loss: -0.10303\n",
      "epoch: 08, loss: -0.10401\n",
      "epoch: 09, loss: -0.10533\n",
      "torch.Size([450, 64])\n"
     ]
    },
    {
     "name": "stderr",
     "output_type": "stream",
     "text": [
      "\r",
      " 46%|█████████████████████████████████████████████████████████████████████████▏                                                                                     | 460/1000 [3:18:53<3:10:08, 21.13s/it]"
     ]
    },
    {
     "name": "stdout",
     "output_type": "stream",
     "text": [
      "eigenvalues shape torch.Size([5]) eigenvectors shape torch.Size([5, 450])\n",
      "460 /home/phdcs2/Hard_Disk/Datasets/Deep-Spectral-Segmentation/data/object-segmentation/ECSSD/features/dino_vits16/0461.pth\n",
      "dict_keys(['k', 'indices', 'file', 'id', 'model_name', 'patch_size', 'shape'])\n",
      "0461\n",
      "Starting Training\n",
      "epoch: 00, loss: -0.05938\n",
      "epoch: 01, loss: -0.09128\n",
      "epoch: 02, loss: -0.09382\n",
      "epoch: 03, loss: -0.09599\n",
      "epoch: 04, loss: -0.09833\n",
      "epoch: 05, loss: -0.09749\n",
      "epoch: 06, loss: -0.09663\n",
      "epoch: 07, loss: -0.09919\n",
      "epoch: 08, loss: -0.09903\n",
      "epoch: 09, loss: -0.09938\n",
      "torch.Size([450, 64])\n"
     ]
    },
    {
     "name": "stderr",
     "output_type": "stream",
     "text": [
      "\r",
      " 46%|█████████████████████████████████████████████████████████████████████████▎                                                                                     | 461/1000 [3:19:19<3:21:50, 22.47s/it]"
     ]
    },
    {
     "name": "stdout",
     "output_type": "stream",
     "text": [
      "eigenvalues shape torch.Size([5]) eigenvectors shape torch.Size([5, 450])\n",
      "461 /home/phdcs2/Hard_Disk/Datasets/Deep-Spectral-Segmentation/data/object-segmentation/ECSSD/features/dino_vits16/0462.pth\n",
      "dict_keys(['k', 'indices', 'file', 'id', 'model_name', 'patch_size', 'shape'])\n",
      "0462\n",
      "Starting Training\n",
      "epoch: 00, loss: -0.04267\n",
      "epoch: 01, loss: -0.06928\n",
      "epoch: 02, loss: -0.07083\n",
      "epoch: 03, loss: -0.07111\n",
      "epoch: 04, loss: -0.07134\n",
      "epoch: 05, loss: -0.07138\n",
      "epoch: 06, loss: -0.07154\n",
      "epoch: 07, loss: -0.07176\n",
      "epoch: 08, loss: -0.07184\n",
      "epoch: 09, loss: -0.07195\n",
      "torch.Size([400, 64])\n"
     ]
    },
    {
     "name": "stderr",
     "output_type": "stream",
     "text": [
      "\r",
      " 46%|█████████████████████████████████████████████████████████████████████████▍                                                                                     | 462/1000 [3:19:36<3:08:59, 21.08s/it]"
     ]
    },
    {
     "name": "stdout",
     "output_type": "stream",
     "text": [
      "eigenvalues shape torch.Size([5]) eigenvectors shape torch.Size([5, 400])\n",
      "462 /home/phdcs2/Hard_Disk/Datasets/Deep-Spectral-Segmentation/data/object-segmentation/ECSSD/features/dino_vits16/0463.pth\n",
      "dict_keys(['k', 'indices', 'file', 'id', 'model_name', 'patch_size', 'shape'])\n",
      "0463\n",
      "Starting Training\n",
      "epoch: 00, loss: -0.01346\n",
      "epoch: 01, loss: -0.03375\n",
      "epoch: 02, loss: -0.03729\n",
      "epoch: 03, loss: -0.03815\n",
      "epoch: 04, loss: -0.03856\n",
      "epoch: 05, loss: -0.03907\n",
      "epoch: 06, loss: -0.03895\n",
      "epoch: 07, loss: -0.03936\n",
      "epoch: 08, loss: -0.03946\n",
      "epoch: 09, loss: -0.03952\n",
      "torch.Size([450, 64])\n"
     ]
    },
    {
     "name": "stderr",
     "output_type": "stream",
     "text": [
      "\r",
      " 46%|█████████████████████████████████████████████████████████████████████████▌                                                                                     | 463/1000 [3:19:57<3:06:52, 20.88s/it]"
     ]
    },
    {
     "name": "stdout",
     "output_type": "stream",
     "text": [
      "eigenvalues shape torch.Size([5]) eigenvectors shape torch.Size([5, 450])\n",
      "463 /home/phdcs2/Hard_Disk/Datasets/Deep-Spectral-Segmentation/data/object-segmentation/ECSSD/features/dino_vits16/0464.pth\n",
      "dict_keys(['k', 'indices', 'file', 'id', 'model_name', 'patch_size', 'shape'])\n",
      "0464\n",
      "Starting Training\n",
      "epoch: 00, loss: -0.02861\n",
      "epoch: 01, loss: -0.04477\n",
      "epoch: 02, loss: -0.04655\n",
      "epoch: 03, loss: -0.04699\n",
      "epoch: 04, loss: -0.04749\n",
      "epoch: 05, loss: -0.04769\n",
      "epoch: 06, loss: -0.04797\n",
      "epoch: 07, loss: -0.04796\n",
      "epoch: 08, loss: -0.04814\n",
      "epoch: 09, loss: -0.04823\n",
      "torch.Size([450, 64])\n"
     ]
    },
    {
     "name": "stderr",
     "output_type": "stream",
     "text": [
      "\r",
      " 46%|█████████████████████████████████████████████████████████████████████████▊                                                                                     | 464/1000 [3:20:19<3:10:15, 21.30s/it]"
     ]
    },
    {
     "name": "stdout",
     "output_type": "stream",
     "text": [
      "eigenvalues shape torch.Size([5]) eigenvectors shape torch.Size([5, 450])\n",
      "464 /home/phdcs2/Hard_Disk/Datasets/Deep-Spectral-Segmentation/data/object-segmentation/ECSSD/features/dino_vits16/0465.pth\n",
      "dict_keys(['k', 'indices', 'file', 'id', 'model_name', 'patch_size', 'shape'])\n",
      "0465\n",
      "Starting Training\n",
      "epoch: 00, loss: -0.01545\n",
      "epoch: 01, loss: -0.03534\n",
      "epoch: 02, loss: -0.03874\n",
      "epoch: 03, loss: -0.03929\n",
      "epoch: 04, loss: -0.04037\n",
      "epoch: 05, loss: -0.04075\n",
      "epoch: 06, loss: -0.04052\n",
      "epoch: 07, loss: -0.04113\n",
      "epoch: 08, loss: -0.04107\n",
      "epoch: 09, loss: -0.04106\n",
      "torch.Size([450, 64])\n"
     ]
    },
    {
     "name": "stderr",
     "output_type": "stream",
     "text": [
      "\r",
      " 46%|█████████████████████████████████████████████████████████████████████████▉                                                                                     | 465/1000 [3:20:42<3:14:44, 21.84s/it]"
     ]
    },
    {
     "name": "stdout",
     "output_type": "stream",
     "text": [
      "eigenvalues shape torch.Size([5]) eigenvectors shape torch.Size([5, 450])\n",
      "465 /home/phdcs2/Hard_Disk/Datasets/Deep-Spectral-Segmentation/data/object-segmentation/ECSSD/features/dino_vits16/0466.pth\n",
      "dict_keys(['k', 'indices', 'file', 'id', 'model_name', 'patch_size', 'shape'])\n",
      "0466\n",
      "Starting Training\n",
      "epoch: 00, loss: -0.01344\n",
      "epoch: 01, loss: -0.03935\n",
      "epoch: 02, loss: -0.04547\n",
      "epoch: 03, loss: -0.04819\n",
      "epoch: 04, loss: -0.05004\n",
      "epoch: 05, loss: -0.05224\n",
      "epoch: 06, loss: -0.05021\n",
      "epoch: 07, loss: -0.05270\n",
      "epoch: 08, loss: -0.05197\n",
      "epoch: 09, loss: -0.05167\n",
      "torch.Size([400, 64])\n"
     ]
    },
    {
     "name": "stderr",
     "output_type": "stream",
     "text": [
      "\r",
      " 47%|██████████████████████████████████████████████████████████████████████████                                                                                     | 466/1000 [3:21:02<3:08:59, 21.23s/it]"
     ]
    },
    {
     "name": "stdout",
     "output_type": "stream",
     "text": [
      "eigenvalues shape torch.Size([5]) eigenvectors shape torch.Size([5, 400])\n",
      "466 /home/phdcs2/Hard_Disk/Datasets/Deep-Spectral-Segmentation/data/object-segmentation/ECSSD/features/dino_vits16/0467.pth\n",
      "dict_keys(['k', 'indices', 'file', 'id', 'model_name', 'patch_size', 'shape'])\n",
      "0467\n",
      "Starting Training\n",
      "epoch: 00, loss: -0.03692\n",
      "epoch: 01, loss: -0.05891\n",
      "epoch: 02, loss: -0.06093\n",
      "epoch: 03, loss: -0.06029\n",
      "epoch: 04, loss: -0.06379\n",
      "epoch: 05, loss: -0.06244\n",
      "epoch: 06, loss: -0.06222\n",
      "epoch: 07, loss: -0.06311\n",
      "epoch: 08, loss: -0.06316\n",
      "epoch: 09, loss: -0.06211\n",
      "torch.Size([425, 64])\n"
     ]
    },
    {
     "name": "stderr",
     "output_type": "stream",
     "text": [
      "\r",
      " 47%|██████████████████████████████████████████████████████████████████████████▎                                                                                    | 467/1000 [3:21:24<3:11:06, 21.51s/it]"
     ]
    },
    {
     "name": "stdout",
     "output_type": "stream",
     "text": [
      "eigenvalues shape torch.Size([5]) eigenvectors shape torch.Size([5, 425])\n",
      "467 /home/phdcs2/Hard_Disk/Datasets/Deep-Spectral-Segmentation/data/object-segmentation/ECSSD/features/dino_vits16/0468.pth\n",
      "dict_keys(['k', 'indices', 'file', 'id', 'model_name', 'patch_size', 'shape'])\n",
      "0468\n",
      "Starting Training\n",
      "epoch: 00, loss: -0.03117\n",
      "epoch: 01, loss: -0.06261\n",
      "epoch: 02, loss: -0.06594\n",
      "epoch: 03, loss: -0.06814\n",
      "epoch: 04, loss: -0.06913\n",
      "epoch: 05, loss: -0.07143\n",
      "epoch: 06, loss: -0.07166\n",
      "epoch: 07, loss: -0.07191\n",
      "epoch: 08, loss: -0.07056\n",
      "epoch: 09, loss: -0.07235\n",
      "torch.Size([450, 64])\n"
     ]
    },
    {
     "name": "stderr",
     "output_type": "stream",
     "text": [
      "\r",
      " 47%|██████████████████████████████████████████████████████████████████████████▍                                                                                    | 468/1000 [3:21:47<3:15:29, 22.05s/it]"
     ]
    },
    {
     "name": "stdout",
     "output_type": "stream",
     "text": [
      "eigenvalues shape torch.Size([5]) eigenvectors shape torch.Size([5, 450])\n",
      "468 /home/phdcs2/Hard_Disk/Datasets/Deep-Spectral-Segmentation/data/object-segmentation/ECSSD/features/dino_vits16/0469.pth\n",
      "dict_keys(['k', 'indices', 'file', 'id', 'model_name', 'patch_size', 'shape'])\n",
      "0469\n",
      "Starting Training\n",
      "epoch: 00, loss: -0.02179\n",
      "epoch: 01, loss: -0.03938\n",
      "epoch: 02, loss: -0.04192\n",
      "epoch: 03, loss: -0.04264\n",
      "epoch: 04, loss: -0.04284\n",
      "epoch: 05, loss: -0.04350\n",
      "epoch: 06, loss: -0.04364\n",
      "epoch: 07, loss: -0.04413\n",
      "epoch: 08, loss: -0.04383\n",
      "epoch: 09, loss: -0.04443\n",
      "torch.Size([400, 64])\n"
     ]
    },
    {
     "name": "stderr",
     "output_type": "stream",
     "text": [
      "\r",
      " 47%|██████████████████████████████████████████████████████████████████████████▌                                                                                    | 469/1000 [3:22:08<3:12:24, 21.74s/it]"
     ]
    },
    {
     "name": "stdout",
     "output_type": "stream",
     "text": [
      "eigenvalues shape torch.Size([5]) eigenvectors shape torch.Size([5, 400])\n",
      "469 /home/phdcs2/Hard_Disk/Datasets/Deep-Spectral-Segmentation/data/object-segmentation/ECSSD/features/dino_vits16/0470.pth\n",
      "dict_keys(['k', 'indices', 'file', 'id', 'model_name', 'patch_size', 'shape'])\n",
      "0470\n",
      "Starting Training\n",
      "epoch: 00, loss: -0.02539\n",
      "epoch: 01, loss: -0.05604\n",
      "epoch: 02, loss: -0.05881\n",
      "epoch: 03, loss: -0.05939\n",
      "epoch: 04, loss: -0.05977\n",
      "epoch: 05, loss: -0.05988\n",
      "epoch: 06, loss: -0.06009\n",
      "epoch: 07, loss: -0.06014\n",
      "epoch: 08, loss: -0.06036\n",
      "epoch: 09, loss: -0.06036\n",
      "torch.Size([400, 64])\n"
     ]
    },
    {
     "name": "stderr",
     "output_type": "stream",
     "text": [
      "\r",
      " 47%|██████████████████████████████████████████████████████████████████████████▋                                                                                    | 470/1000 [3:22:29<3:09:27, 21.45s/it]"
     ]
    },
    {
     "name": "stdout",
     "output_type": "stream",
     "text": [
      "eigenvalues shape torch.Size([5]) eigenvectors shape torch.Size([5, 400])\n",
      "470 /home/phdcs2/Hard_Disk/Datasets/Deep-Spectral-Segmentation/data/object-segmentation/ECSSD/features/dino_vits16/0471.pth\n",
      "dict_keys(['k', 'indices', 'file', 'id', 'model_name', 'patch_size', 'shape'])\n",
      "0471\n",
      "Starting Training\n",
      "epoch: 00, loss: 0.00732\n",
      "epoch: 01, loss: -0.00002\n",
      "epoch: 02, loss: -0.00313\n",
      "epoch: 03, loss: -0.00482\n",
      "epoch: 04, loss: -0.00600\n",
      "epoch: 05, loss: -0.00677\n",
      "epoch: 06, loss: -0.00740\n",
      "epoch: 07, loss: -0.00784\n",
      "epoch: 08, loss: -0.00816\n",
      "epoch: 09, loss: -0.00846\n",
      "torch.Size([450, 64])\n"
     ]
    },
    {
     "name": "stderr",
     "output_type": "stream",
     "text": [
      "\r",
      " 47%|██████████████████████████████████████████████████████████████████████████▉                                                                                    | 471/1000 [3:22:52<3:13:37, 21.96s/it]"
     ]
    },
    {
     "name": "stdout",
     "output_type": "stream",
     "text": [
      "eigenvalues shape torch.Size([5]) eigenvectors shape torch.Size([5, 450])\n",
      "471 /home/phdcs2/Hard_Disk/Datasets/Deep-Spectral-Segmentation/data/object-segmentation/ECSSD/features/dino_vits16/0472.pth\n",
      "dict_keys(['k', 'indices', 'file', 'id', 'model_name', 'patch_size', 'shape'])\n",
      "0472\n",
      "Starting Training\n",
      "epoch: 00, loss: -0.03909\n",
      "epoch: 01, loss: -0.07410\n",
      "epoch: 02, loss: -0.07863\n",
      "epoch: 03, loss: -0.07962\n",
      "epoch: 04, loss: -0.08110\n",
      "epoch: 05, loss: -0.08061\n",
      "epoch: 06, loss: -0.08223\n",
      "epoch: 07, loss: -0.08441\n",
      "epoch: 08, loss: -0.08208\n",
      "epoch: 09, loss: -0.08310\n",
      "torch.Size([400, 64])\n"
     ]
    },
    {
     "name": "stderr",
     "output_type": "stream",
     "text": [
      "\r",
      " 47%|███████████████████████████████████████████████████████████████████████████                                                                                    | 472/1000 [3:23:13<3:09:53, 21.58s/it]"
     ]
    },
    {
     "name": "stdout",
     "output_type": "stream",
     "text": [
      "eigenvalues shape torch.Size([5]) eigenvectors shape torch.Size([5, 400])\n",
      "472 /home/phdcs2/Hard_Disk/Datasets/Deep-Spectral-Segmentation/data/object-segmentation/ECSSD/features/dino_vits16/0473.pth\n",
      "dict_keys(['k', 'indices', 'file', 'id', 'model_name', 'patch_size', 'shape'])\n",
      "0473\n",
      "Starting Training\n",
      "epoch: 00, loss: -0.01012\n",
      "epoch: 01, loss: -0.02798\n",
      "epoch: 02, loss: -0.03116\n",
      "epoch: 03, loss: -0.03255\n",
      "epoch: 04, loss: -0.03287\n",
      "epoch: 05, loss: -0.03368\n",
      "epoch: 06, loss: -0.03387\n",
      "epoch: 07, loss: -0.03383\n",
      "epoch: 08, loss: -0.03378\n",
      "epoch: 09, loss: -0.03432\n",
      "torch.Size([425, 64])\n"
     ]
    },
    {
     "name": "stderr",
     "output_type": "stream",
     "text": [
      "\r",
      " 47%|███████████████████████████████████████████████████████████████████████████▏                                                                                   | 473/1000 [3:23:36<3:12:01, 21.86s/it]"
     ]
    },
    {
     "name": "stdout",
     "output_type": "stream",
     "text": [
      "eigenvalues shape torch.Size([5]) eigenvectors shape torch.Size([5, 425])\n",
      "473 /home/phdcs2/Hard_Disk/Datasets/Deep-Spectral-Segmentation/data/object-segmentation/ECSSD/features/dino_vits16/0474.pth\n",
      "dict_keys(['k', 'indices', 'file', 'id', 'model_name', 'patch_size', 'shape'])\n",
      "0474\n",
      "Starting Training\n",
      "epoch: 00, loss: -0.02415\n",
      "epoch: 01, loss: -0.04717\n",
      "epoch: 02, loss: -0.04997\n",
      "epoch: 03, loss: -0.05382\n",
      "epoch: 04, loss: -0.05265\n",
      "epoch: 05, loss: -0.05409\n",
      "epoch: 06, loss: -0.05406\n",
      "epoch: 07, loss: -0.05514\n",
      "epoch: 08, loss: -0.05317\n",
      "epoch: 09, loss: -0.05593\n",
      "torch.Size([400, 64])\n"
     ]
    },
    {
     "name": "stderr",
     "output_type": "stream",
     "text": [
      "\r",
      " 47%|███████████████████████████████████████████████████████████████████████████▎                                                                                   | 474/1000 [3:23:55<3:06:02, 21.22s/it]"
     ]
    },
    {
     "name": "stdout",
     "output_type": "stream",
     "text": [
      "eigenvalues shape torch.Size([5]) eigenvectors shape torch.Size([5, 400])\n",
      "474 /home/phdcs2/Hard_Disk/Datasets/Deep-Spectral-Segmentation/data/object-segmentation/ECSSD/features/dino_vits16/0475.pth\n",
      "dict_keys(['k', 'indices', 'file', 'id', 'model_name', 'patch_size', 'shape'])\n",
      "0475\n",
      "Starting Training\n",
      "epoch: 00, loss: -0.05396\n",
      "epoch: 01, loss: -0.07451\n",
      "epoch: 02, loss: -0.07553\n",
      "epoch: 03, loss: -0.07555\n",
      "epoch: 04, loss: -0.07587\n",
      "epoch: 05, loss: -0.07568\n",
      "epoch: 06, loss: -0.07555\n",
      "epoch: 07, loss: -0.07657\n",
      "epoch: 08, loss: -0.07666\n",
      "epoch: 09, loss: -0.07670\n",
      "torch.Size([400, 64])\n"
     ]
    },
    {
     "name": "stderr",
     "output_type": "stream",
     "text": [
      "\r",
      " 48%|███████████████████████████████████████████████████████████████████████████▌                                                                                   | 475/1000 [3:24:17<3:06:06, 21.27s/it]"
     ]
    },
    {
     "name": "stdout",
     "output_type": "stream",
     "text": [
      "eigenvalues shape torch.Size([5]) eigenvectors shape torch.Size([5, 400])\n",
      "475 /home/phdcs2/Hard_Disk/Datasets/Deep-Spectral-Segmentation/data/object-segmentation/ECSSD/features/dino_vits16/0476.pth\n",
      "dict_keys(['k', 'indices', 'file', 'id', 'model_name', 'patch_size', 'shape'])\n",
      "0476\n",
      "Starting Training\n",
      "epoch: 00, loss: -0.02574\n",
      "epoch: 01, loss: -0.04271\n",
      "epoch: 02, loss: -0.04779\n",
      "epoch: 03, loss: -0.04660\n",
      "epoch: 04, loss: -0.05154\n",
      "epoch: 05, loss: -0.04666\n",
      "epoch: 06, loss: -0.05277\n",
      "epoch: 07, loss: -0.05117\n",
      "epoch: 08, loss: -0.05168\n",
      "epoch: 09, loss: -0.05370\n",
      "torch.Size([400, 64])\n"
     ]
    },
    {
     "name": "stderr",
     "output_type": "stream",
     "text": [
      "\r",
      " 48%|███████████████████████████████████████████████████████████████████████████▋                                                                                   | 476/1000 [3:24:34<2:55:53, 20.14s/it]"
     ]
    },
    {
     "name": "stdout",
     "output_type": "stream",
     "text": [
      "eigenvalues shape torch.Size([5]) eigenvectors shape torch.Size([5, 400])\n",
      "476 /home/phdcs2/Hard_Disk/Datasets/Deep-Spectral-Segmentation/data/object-segmentation/ECSSD/features/dino_vits16/0477.pth\n",
      "dict_keys(['k', 'indices', 'file', 'id', 'model_name', 'patch_size', 'shape'])\n",
      "0477\n",
      "Starting Training\n",
      "epoch: 00, loss: -0.02443\n",
      "epoch: 01, loss: -0.04512\n",
      "epoch: 02, loss: -0.04819\n",
      "epoch: 03, loss: -0.04907\n",
      "epoch: 04, loss: -0.04929\n",
      "epoch: 05, loss: -0.05047\n",
      "epoch: 06, loss: -0.05033\n",
      "epoch: 07, loss: -0.05037\n",
      "epoch: 08, loss: -0.05127\n",
      "epoch: 09, loss: -0.05125\n",
      "torch.Size([450, 64])\n"
     ]
    },
    {
     "name": "stderr",
     "output_type": "stream",
     "text": [
      "\r",
      " 48%|███████████████████████████████████████████████████████████████████████████▊                                                                                   | 477/1000 [3:24:59<3:08:39, 21.64s/it]"
     ]
    },
    {
     "name": "stdout",
     "output_type": "stream",
     "text": [
      "eigenvalues shape torch.Size([5]) eigenvectors shape torch.Size([5, 450])\n",
      "477 /home/phdcs2/Hard_Disk/Datasets/Deep-Spectral-Segmentation/data/object-segmentation/ECSSD/features/dino_vits16/0478.pth\n",
      "dict_keys(['k', 'indices', 'file', 'id', 'model_name', 'patch_size', 'shape'])\n",
      "0478\n",
      "Starting Training\n",
      "epoch: 00, loss: 0.00005\n",
      "epoch: 01, loss: -0.01444\n",
      "epoch: 02, loss: -0.02001\n",
      "epoch: 03, loss: -0.02228\n",
      "epoch: 04, loss: -0.02365\n",
      "epoch: 05, loss: -0.02425\n",
      "epoch: 06, loss: -0.02444\n",
      "epoch: 07, loss: -0.02475\n",
      "epoch: 08, loss: -0.02497\n",
      "epoch: 09, loss: -0.02506\n",
      "torch.Size([400, 64])\n"
     ]
    },
    {
     "name": "stderr",
     "output_type": "stream",
     "text": [
      "\r",
      " 48%|████████████████████████████████████████████████████████████████████████████                                                                                   | 478/1000 [3:25:21<3:07:18, 21.53s/it]"
     ]
    },
    {
     "name": "stdout",
     "output_type": "stream",
     "text": [
      "eigenvalues shape torch.Size([5]) eigenvectors shape torch.Size([5, 400])\n",
      "478 /home/phdcs2/Hard_Disk/Datasets/Deep-Spectral-Segmentation/data/object-segmentation/ECSSD/features/dino_vits16/0479.pth\n",
      "dict_keys(['k', 'indices', 'file', 'id', 'model_name', 'patch_size', 'shape'])\n",
      "0479\n",
      "Starting Training\n",
      "epoch: 00, loss: -0.11200\n",
      "epoch: 01, loss: -0.14253\n",
      "epoch: 02, loss: -0.14659\n",
      "epoch: 03, loss: -0.14740\n",
      "epoch: 04, loss: -0.14914\n",
      "epoch: 05, loss: -0.15039\n",
      "epoch: 06, loss: -0.15087\n",
      "epoch: 07, loss: -0.15342\n",
      "epoch: 08, loss: -0.15123\n",
      "epoch: 09, loss: -0.15414\n",
      "torch.Size([450, 64])\n"
     ]
    },
    {
     "name": "stderr",
     "output_type": "stream",
     "text": [
      "\r",
      " 48%|████████████████████████████████████████████████████████████████████████████▏                                                                                  | 479/1000 [3:25:42<3:06:29, 21.48s/it]"
     ]
    },
    {
     "name": "stdout",
     "output_type": "stream",
     "text": [
      "eigenvalues shape torch.Size([5]) eigenvectors shape torch.Size([5, 450])\n",
      "479 /home/phdcs2/Hard_Disk/Datasets/Deep-Spectral-Segmentation/data/object-segmentation/ECSSD/features/dino_vits16/0480.pth\n",
      "dict_keys(['k', 'indices', 'file', 'id', 'model_name', 'patch_size', 'shape'])\n",
      "0480\n",
      "Starting Training\n",
      "epoch: 00, loss: -0.05171\n",
      "epoch: 01, loss: -0.06465\n",
      "epoch: 02, loss: -0.06766\n",
      "epoch: 03, loss: -0.06782\n",
      "epoch: 04, loss: -0.06844\n",
      "epoch: 05, loss: -0.06965\n",
      "epoch: 06, loss: -0.06870\n",
      "epoch: 07, loss: -0.07034\n",
      "epoch: 08, loss: -0.07011\n",
      "epoch: 09, loss: -0.07067\n",
      "torch.Size([625, 64])\n"
     ]
    },
    {
     "name": "stderr",
     "output_type": "stream",
     "text": [
      "\r",
      " 48%|████████████████████████████████████████████████████████████████████████████▎                                                                                  | 480/1000 [3:26:26<4:05:35, 28.34s/it]"
     ]
    },
    {
     "name": "stdout",
     "output_type": "stream",
     "text": [
      "eigenvalues shape torch.Size([5]) eigenvectors shape torch.Size([5, 625])\n",
      "480 /home/phdcs2/Hard_Disk/Datasets/Deep-Spectral-Segmentation/data/object-segmentation/ECSSD/features/dino_vits16/0481.pth\n",
      "dict_keys(['k', 'indices', 'file', 'id', 'model_name', 'patch_size', 'shape'])\n",
      "0481\n",
      "Starting Training\n",
      "epoch: 00, loss: -0.01793\n",
      "epoch: 01, loss: -0.03452\n",
      "epoch: 02, loss: -0.03716\n",
      "epoch: 03, loss: -0.03785\n",
      "epoch: 04, loss: -0.03818\n",
      "epoch: 05, loss: -0.03854\n",
      "epoch: 06, loss: -0.03865\n",
      "epoch: 07, loss: -0.03879\n",
      "epoch: 08, loss: -0.03887\n",
      "epoch: 09, loss: -0.03899\n",
      "torch.Size([450, 64])\n"
     ]
    },
    {
     "name": "stderr",
     "output_type": "stream",
     "text": [
      "\r",
      " 48%|████████████████████████████████████████████████████████████████████████████▍                                                                                  | 481/1000 [3:26:46<3:43:00, 25.78s/it]"
     ]
    },
    {
     "name": "stdout",
     "output_type": "stream",
     "text": [
      "eigenvalues shape torch.Size([5]) eigenvectors shape torch.Size([5, 450])\n",
      "481 /home/phdcs2/Hard_Disk/Datasets/Deep-Spectral-Segmentation/data/object-segmentation/ECSSD/features/dino_vits16/0482.pth\n",
      "dict_keys(['k', 'indices', 'file', 'id', 'model_name', 'patch_size', 'shape'])\n",
      "0482\n",
      "Starting Training\n",
      "epoch: 00, loss: -0.03523\n",
      "epoch: 01, loss: -0.05709\n",
      "epoch: 02, loss: -0.06097\n",
      "epoch: 03, loss: -0.06235\n",
      "epoch: 04, loss: -0.06198\n",
      "epoch: 05, loss: -0.06135\n",
      "epoch: 06, loss: -0.06233\n",
      "epoch: 07, loss: -0.06290\n",
      "epoch: 08, loss: -0.06385\n",
      "epoch: 09, loss: -0.06438\n",
      "torch.Size([450, 64])\n"
     ]
    },
    {
     "name": "stderr",
     "output_type": "stream",
     "text": [
      "\r",
      " 48%|████████████████████████████████████████████████████████████████████████████▋                                                                                  | 482/1000 [3:27:06<3:26:47, 23.95s/it]"
     ]
    },
    {
     "name": "stdout",
     "output_type": "stream",
     "text": [
      "eigenvalues shape torch.Size([5]) eigenvectors shape torch.Size([5, 450])\n",
      "482 /home/phdcs2/Hard_Disk/Datasets/Deep-Spectral-Segmentation/data/object-segmentation/ECSSD/features/dino_vits16/0483.pth\n",
      "dict_keys(['k', 'indices', 'file', 'id', 'model_name', 'patch_size', 'shape'])\n",
      "0483\n",
      "Starting Training\n",
      "epoch: 00, loss: -0.00819\n",
      "epoch: 01, loss: -0.03150\n",
      "epoch: 02, loss: -0.03615\n",
      "epoch: 03, loss: -0.03725\n",
      "epoch: 04, loss: -0.03809\n",
      "epoch: 05, loss: -0.04071\n",
      "epoch: 06, loss: -0.04188\n",
      "epoch: 07, loss: -0.04286\n",
      "epoch: 08, loss: -0.04269\n",
      "epoch: 09, loss: -0.04297\n",
      "torch.Size([400, 64])\n"
     ]
    },
    {
     "name": "stderr",
     "output_type": "stream",
     "text": [
      "\r",
      " 48%|████████████████████████████████████████████████████████████████████████████▊                                                                                  | 483/1000 [3:27:25<3:14:10, 22.53s/it]"
     ]
    },
    {
     "name": "stdout",
     "output_type": "stream",
     "text": [
      "eigenvalues shape torch.Size([5]) eigenvectors shape torch.Size([5, 400])\n",
      "483 /home/phdcs2/Hard_Disk/Datasets/Deep-Spectral-Segmentation/data/object-segmentation/ECSSD/features/dino_vits16/0484.pth\n",
      "dict_keys(['k', 'indices', 'file', 'id', 'model_name', 'patch_size', 'shape'])\n",
      "0484\n",
      "Starting Training\n",
      "epoch: 00, loss: -0.00038\n",
      "epoch: 01, loss: -0.00967\n",
      "epoch: 02, loss: -0.01334\n",
      "epoch: 03, loss: -0.01497\n",
      "epoch: 04, loss: -0.01598\n",
      "epoch: 05, loss: -0.01637\n",
      "epoch: 06, loss: -0.01697\n",
      "epoch: 07, loss: -0.01696\n",
      "epoch: 08, loss: -0.01749\n",
      "epoch: 09, loss: -0.01753\n",
      "torch.Size([450, 64])\n"
     ]
    },
    {
     "name": "stderr",
     "output_type": "stream",
     "text": [
      "\r",
      " 48%|████████████████████████████████████████████████████████████████████████████▉                                                                                  | 484/1000 [3:27:47<3:12:36, 22.40s/it]"
     ]
    },
    {
     "name": "stdout",
     "output_type": "stream",
     "text": [
      "eigenvalues shape torch.Size([5]) eigenvectors shape torch.Size([5, 450])\n",
      "484 /home/phdcs2/Hard_Disk/Datasets/Deep-Spectral-Segmentation/data/object-segmentation/ECSSD/features/dino_vits16/0485.pth\n",
      "dict_keys(['k', 'indices', 'file', 'id', 'model_name', 'patch_size', 'shape'])\n",
      "0485\n",
      "Starting Training\n",
      "epoch: 00, loss: -0.03200\n",
      "epoch: 01, loss: -0.05399\n",
      "epoch: 02, loss: -0.05669\n",
      "epoch: 03, loss: -0.05689\n",
      "epoch: 04, loss: -0.05746\n",
      "epoch: 05, loss: -0.05730\n",
      "epoch: 06, loss: -0.05764\n",
      "epoch: 07, loss: -0.05769\n",
      "epoch: 08, loss: -0.05810\n",
      "epoch: 09, loss: -0.05796\n",
      "torch.Size([400, 64])\n"
     ]
    },
    {
     "name": "stderr",
     "output_type": "stream",
     "text": [
      "\r",
      " 48%|█████████████████████████████████████████████████████████████████████████████                                                                                  | 485/1000 [3:28:06<3:03:29, 21.38s/it]"
     ]
    },
    {
     "name": "stdout",
     "output_type": "stream",
     "text": [
      "eigenvalues shape torch.Size([5]) eigenvectors shape torch.Size([5, 400])\n",
      "485 /home/phdcs2/Hard_Disk/Datasets/Deep-Spectral-Segmentation/data/object-segmentation/ECSSD/features/dino_vits16/0486.pth\n",
      "dict_keys(['k', 'indices', 'file', 'id', 'model_name', 'patch_size', 'shape'])\n",
      "0486\n",
      "Starting Training\n",
      "epoch: 00, loss: -0.01747\n",
      "epoch: 01, loss: -0.03808\n",
      "epoch: 02, loss: -0.04068\n",
      "epoch: 03, loss: -0.04150\n",
      "epoch: 04, loss: -0.04169\n",
      "epoch: 05, loss: -0.04194\n",
      "epoch: 06, loss: -0.04226\n",
      "epoch: 07, loss: -0.04227\n",
      "epoch: 08, loss: -0.04241\n",
      "epoch: 09, loss: -0.04249\n",
      "torch.Size([450, 64])\n"
     ]
    },
    {
     "name": "stderr",
     "output_type": "stream",
     "text": [
      "\r",
      " 49%|█████████████████████████████████████████████████████████████████████████████▎                                                                                 | 486/1000 [3:28:27<3:00:35, 21.08s/it]"
     ]
    },
    {
     "name": "stdout",
     "output_type": "stream",
     "text": [
      "eigenvalues shape torch.Size([5]) eigenvectors shape torch.Size([5, 450])\n",
      "486 /home/phdcs2/Hard_Disk/Datasets/Deep-Spectral-Segmentation/data/object-segmentation/ECSSD/features/dino_vits16/0487.pth\n",
      "dict_keys(['k', 'indices', 'file', 'id', 'model_name', 'patch_size', 'shape'])\n",
      "0487\n",
      "Starting Training\n",
      "epoch: 00, loss: -0.01539\n",
      "epoch: 01, loss: -0.04412\n",
      "epoch: 02, loss: -0.04908\n",
      "epoch: 03, loss: -0.05438\n",
      "epoch: 04, loss: -0.05464\n",
      "epoch: 05, loss: -0.05741\n",
      "epoch: 06, loss: -0.05567\n",
      "epoch: 07, loss: -0.05530\n",
      "epoch: 08, loss: -0.05406\n",
      "epoch: 09, loss: -0.05815\n",
      "torch.Size([400, 64])\n"
     ]
    },
    {
     "name": "stderr",
     "output_type": "stream",
     "text": [
      "\r",
      " 49%|█████████████████████████████████████████████████████████████████████████████▍                                                                                 | 487/1000 [3:28:45<2:54:22, 20.39s/it]"
     ]
    },
    {
     "name": "stdout",
     "output_type": "stream",
     "text": [
      "eigenvalues shape torch.Size([5]) eigenvectors shape torch.Size([5, 400])\n",
      "487 /home/phdcs2/Hard_Disk/Datasets/Deep-Spectral-Segmentation/data/object-segmentation/ECSSD/features/dino_vits16/0488.pth\n",
      "dict_keys(['k', 'indices', 'file', 'id', 'model_name', 'patch_size', 'shape'])\n",
      "0488\n",
      "Starting Training\n",
      "epoch: 00, loss: -0.02755\n",
      "epoch: 01, loss: -0.07149\n",
      "epoch: 02, loss: -0.07546\n",
      "epoch: 03, loss: -0.07866\n",
      "epoch: 04, loss: -0.08149\n",
      "epoch: 05, loss: -0.07805\n",
      "epoch: 06, loss: -0.08115\n",
      "epoch: 07, loss: -0.07829\n",
      "epoch: 08, loss: -0.08083\n",
      "epoch: 09, loss: -0.07955\n",
      "torch.Size([400, 64])\n"
     ]
    },
    {
     "name": "stderr",
     "output_type": "stream",
     "text": [
      "\r",
      " 49%|█████████████████████████████████████████████████████████████████████████████▌                                                                                 | 488/1000 [3:29:05<2:51:39, 20.12s/it]"
     ]
    },
    {
     "name": "stdout",
     "output_type": "stream",
     "text": [
      "eigenvalues shape torch.Size([5]) eigenvectors shape torch.Size([5, 400])\n",
      "488 /home/phdcs2/Hard_Disk/Datasets/Deep-Spectral-Segmentation/data/object-segmentation/ECSSD/features/dino_vits16/0489.pth\n",
      "dict_keys(['k', 'indices', 'file', 'id', 'model_name', 'patch_size', 'shape'])\n",
      "0489\n",
      "Starting Training\n",
      "epoch: 00, loss: -0.03215\n",
      "epoch: 01, loss: -0.05245\n",
      "epoch: 02, loss: -0.05575\n",
      "epoch: 03, loss: -0.05824\n",
      "epoch: 04, loss: -0.05693\n",
      "epoch: 05, loss: -0.06250\n",
      "epoch: 06, loss: -0.05611\n",
      "epoch: 07, loss: -0.06006\n",
      "epoch: 08, loss: -0.05844\n",
      "epoch: 09, loss: -0.06175\n",
      "torch.Size([550, 64])\n"
     ]
    },
    {
     "name": "stderr",
     "output_type": "stream",
     "text": [
      "\r",
      " 49%|█████████████████████████████████████████████████████████████████████████████▊                                                                                 | 489/1000 [3:29:40<3:29:42, 24.62s/it]"
     ]
    },
    {
     "name": "stdout",
     "output_type": "stream",
     "text": [
      "eigenvalues shape torch.Size([5]) eigenvectors shape torch.Size([5, 550])\n",
      "489 /home/phdcs2/Hard_Disk/Datasets/Deep-Spectral-Segmentation/data/object-segmentation/ECSSD/features/dino_vits16/0490.pth\n",
      "dict_keys(['k', 'indices', 'file', 'id', 'model_name', 'patch_size', 'shape'])\n",
      "0490\n",
      "Starting Training\n",
      "epoch: 00, loss: -0.01160\n",
      "epoch: 01, loss: -0.03639\n",
      "epoch: 02, loss: -0.04192\n",
      "epoch: 03, loss: -0.04074\n",
      "epoch: 04, loss: -0.04353\n",
      "epoch: 05, loss: -0.04231\n",
      "epoch: 06, loss: -0.04371\n",
      "epoch: 07, loss: -0.04435\n",
      "epoch: 08, loss: -0.04144\n",
      "epoch: 09, loss: -0.04330\n",
      "torch.Size([400, 64])\n"
     ]
    },
    {
     "name": "stderr",
     "output_type": "stream",
     "text": [
      "\r",
      " 49%|█████████████████████████████████████████████████████████████████████████████▉                                                                                 | 490/1000 [3:30:03<3:25:00, 24.12s/it]"
     ]
    },
    {
     "name": "stdout",
     "output_type": "stream",
     "text": [
      "eigenvalues shape torch.Size([5]) eigenvectors shape torch.Size([5, 400])\n",
      "490 /home/phdcs2/Hard_Disk/Datasets/Deep-Spectral-Segmentation/data/object-segmentation/ECSSD/features/dino_vits16/0491.pth\n",
      "dict_keys(['k', 'indices', 'file', 'id', 'model_name', 'patch_size', 'shape'])\n",
      "0491\n",
      "Starting Training\n",
      "epoch: 00, loss: -0.04986\n",
      "epoch: 01, loss: -0.06436\n",
      "epoch: 02, loss: -0.06499\n",
      "epoch: 03, loss: -0.06544\n",
      "epoch: 04, loss: -0.06564\n",
      "epoch: 05, loss: -0.06571\n",
      "epoch: 06, loss: -0.06602\n",
      "epoch: 07, loss: -0.06595\n",
      "epoch: 08, loss: -0.06601\n",
      "epoch: 09, loss: -0.06621\n",
      "torch.Size([500, 64])\n"
     ]
    },
    {
     "name": "stderr",
     "output_type": "stream",
     "text": [
      "\r",
      " 49%|██████████████████████████████████████████████████████████████████████████████                                                                                 | 491/1000 [3:30:33<3:39:50, 25.91s/it]"
     ]
    },
    {
     "name": "stdout",
     "output_type": "stream",
     "text": [
      "eigenvalues shape torch.Size([5]) eigenvectors shape torch.Size([5, 500])\n",
      "491 /home/phdcs2/Hard_Disk/Datasets/Deep-Spectral-Segmentation/data/object-segmentation/ECSSD/features/dino_vits16/0492.pth\n",
      "dict_keys(['k', 'indices', 'file', 'id', 'model_name', 'patch_size', 'shape'])\n",
      "0492\n",
      "Starting Training\n",
      "epoch: 00, loss: -0.09686\n",
      "epoch: 01, loss: -0.12643\n",
      "epoch: 02, loss: -0.13105\n",
      "epoch: 03, loss: -0.13448\n",
      "epoch: 04, loss: -0.13199\n",
      "epoch: 05, loss: -0.13356\n",
      "epoch: 06, loss: -0.13498\n",
      "epoch: 07, loss: -0.13681\n",
      "epoch: 08, loss: -0.13441\n",
      "epoch: 09, loss: -0.13713\n",
      "torch.Size([450, 64])\n"
     ]
    },
    {
     "name": "stderr",
     "output_type": "stream",
     "text": [
      "\r",
      " 49%|██████████████████████████████████████████████████████████████████████████████▏                                                                                | 492/1000 [3:30:55<3:29:33, 24.75s/it]"
     ]
    },
    {
     "name": "stdout",
     "output_type": "stream",
     "text": [
      "eigenvalues shape torch.Size([5]) eigenvectors shape torch.Size([5, 450])\n",
      "492 /home/phdcs2/Hard_Disk/Datasets/Deep-Spectral-Segmentation/data/object-segmentation/ECSSD/features/dino_vits16/0493.pth\n",
      "dict_keys(['k', 'indices', 'file', 'id', 'model_name', 'patch_size', 'shape'])\n",
      "0493\n",
      "Starting Training\n",
      "epoch: 00, loss: -0.00524\n",
      "epoch: 01, loss: -0.02892\n",
      "epoch: 02, loss: -0.04119\n",
      "epoch: 03, loss: -0.03970\n",
      "epoch: 04, loss: -0.04142\n",
      "epoch: 05, loss: -0.04322\n",
      "epoch: 06, loss: -0.04594\n",
      "epoch: 07, loss: -0.04462\n",
      "epoch: 08, loss: -0.04148\n",
      "epoch: 09, loss: -0.04458\n",
      "torch.Size([400, 64])\n"
     ]
    },
    {
     "name": "stderr",
     "output_type": "stream",
     "text": [
      "\r",
      " 49%|██████████████████████████████████████████████████████████████████████████████▍                                                                                | 493/1000 [3:31:15<3:16:31, 23.26s/it]"
     ]
    },
    {
     "name": "stdout",
     "output_type": "stream",
     "text": [
      "eigenvalues shape torch.Size([5]) eigenvectors shape torch.Size([5, 400])\n",
      "493 /home/phdcs2/Hard_Disk/Datasets/Deep-Spectral-Segmentation/data/object-segmentation/ECSSD/features/dino_vits16/0494.pth\n",
      "dict_keys(['k', 'indices', 'file', 'id', 'model_name', 'patch_size', 'shape'])\n",
      "0494\n",
      "Starting Training\n",
      "epoch: 00, loss: -0.00378\n",
      "epoch: 01, loss: -0.01832\n",
      "epoch: 02, loss: -0.02216\n",
      "epoch: 03, loss: -0.02331\n",
      "epoch: 04, loss: -0.02419\n",
      "epoch: 05, loss: -0.02454\n",
      "epoch: 06, loss: -0.02478\n",
      "epoch: 07, loss: -0.02484\n",
      "epoch: 08, loss: -0.02503\n",
      "epoch: 09, loss: -0.02524\n",
      "torch.Size([400, 64])\n"
     ]
    },
    {
     "name": "stderr",
     "output_type": "stream",
     "text": [
      "\r",
      " 49%|██████████████████████████████████████████████████████████████████████████████▌                                                                                | 494/1000 [3:31:30<2:54:34, 20.70s/it]"
     ]
    },
    {
     "name": "stdout",
     "output_type": "stream",
     "text": [
      "eigenvalues shape torch.Size([5]) eigenvectors shape torch.Size([5, 400])\n",
      "494 /home/phdcs2/Hard_Disk/Datasets/Deep-Spectral-Segmentation/data/object-segmentation/ECSSD/features/dino_vits16/0495.pth\n",
      "dict_keys(['k', 'indices', 'file', 'id', 'model_name', 'patch_size', 'shape'])\n",
      "0495\n",
      "Starting Training\n",
      "epoch: 00, loss: -0.01301\n",
      "epoch: 01, loss: -0.04198\n",
      "epoch: 02, loss: -0.04893\n",
      "epoch: 03, loss: -0.04877\n",
      "epoch: 04, loss: -0.05074\n",
      "epoch: 05, loss: -0.05331\n",
      "epoch: 06, loss: -0.05111\n",
      "epoch: 07, loss: -0.05337\n",
      "epoch: 08, loss: -0.05038\n",
      "epoch: 09, loss: -0.05286\n",
      "torch.Size([400, 64])\n"
     ]
    },
    {
     "name": "stderr",
     "output_type": "stream",
     "text": [
      "\r",
      " 50%|██████████████████████████████████████████████████████████████████████████████▋                                                                                | 495/1000 [3:31:54<3:04:52, 21.96s/it]"
     ]
    },
    {
     "name": "stdout",
     "output_type": "stream",
     "text": [
      "eigenvalues shape torch.Size([5]) eigenvectors shape torch.Size([5, 400])\n",
      "495 /home/phdcs2/Hard_Disk/Datasets/Deep-Spectral-Segmentation/data/object-segmentation/ECSSD/features/dino_vits16/0496.pth\n",
      "dict_keys(['k', 'indices', 'file', 'id', 'model_name', 'patch_size', 'shape'])\n",
      "0496\n",
      "Starting Training\n",
      "epoch: 00, loss: -0.01639\n",
      "epoch: 01, loss: -0.03433\n",
      "epoch: 02, loss: -0.03695\n",
      "epoch: 03, loss: -0.03805\n",
      "epoch: 04, loss: -0.03806\n",
      "epoch: 05, loss: -0.03852\n",
      "epoch: 06, loss: -0.03847\n",
      "epoch: 07, loss: -0.03866\n",
      "epoch: 08, loss: -0.03888\n",
      "epoch: 09, loss: -0.03884\n",
      "torch.Size([450, 64])\n"
     ]
    },
    {
     "name": "stderr",
     "output_type": "stream",
     "text": [
      "\r",
      " 50%|██████████████████████████████████████████████████████████████████████████████▊                                                                                | 496/1000 [3:32:20<3:14:13, 23.12s/it]"
     ]
    },
    {
     "name": "stdout",
     "output_type": "stream",
     "text": [
      "eigenvalues shape torch.Size([5]) eigenvectors shape torch.Size([5, 450])\n",
      "496 /home/phdcs2/Hard_Disk/Datasets/Deep-Spectral-Segmentation/data/object-segmentation/ECSSD/features/dino_vits16/0497.pth\n",
      "dict_keys(['k', 'indices', 'file', 'id', 'model_name', 'patch_size', 'shape'])\n",
      "0497\n",
      "Starting Training\n",
      "epoch: 00, loss: -0.02748\n",
      "epoch: 01, loss: -0.04444\n",
      "epoch: 02, loss: -0.04623\n",
      "epoch: 03, loss: -0.04666\n",
      "epoch: 04, loss: -0.04693\n",
      "epoch: 05, loss: -0.04703\n",
      "epoch: 06, loss: -0.04714\n",
      "epoch: 07, loss: -0.04726\n",
      "epoch: 08, loss: -0.04732\n",
      "epoch: 09, loss: -0.04748\n",
      "torch.Size([450, 64])\n"
     ]
    },
    {
     "name": "stderr",
     "output_type": "stream",
     "text": [
      "\r",
      " 50%|███████████████████████████████████████████████████████████████████████████████                                                                                | 497/1000 [3:32:44<3:14:30, 23.20s/it]"
     ]
    },
    {
     "name": "stdout",
     "output_type": "stream",
     "text": [
      "eigenvalues shape torch.Size([5]) eigenvectors shape torch.Size([5, 450])\n",
      "497 /home/phdcs2/Hard_Disk/Datasets/Deep-Spectral-Segmentation/data/object-segmentation/ECSSD/features/dino_vits16/0498.pth\n",
      "dict_keys(['k', 'indices', 'file', 'id', 'model_name', 'patch_size', 'shape'])\n",
      "0498\n",
      "Starting Training\n",
      "epoch: 00, loss: -0.02822\n",
      "epoch: 01, loss: -0.05101\n",
      "epoch: 02, loss: -0.05158\n",
      "epoch: 03, loss: -0.05224\n",
      "epoch: 04, loss: -0.05258\n",
      "epoch: 05, loss: -0.05280\n",
      "epoch: 06, loss: -0.05268\n",
      "epoch: 07, loss: -0.05313\n",
      "epoch: 08, loss: -0.05299\n",
      "epoch: 09, loss: -0.05324\n",
      "torch.Size([400, 64])\n"
     ]
    },
    {
     "name": "stderr",
     "output_type": "stream",
     "text": [
      "\r",
      " 50%|███████████████████████████████████████████████████████████████████████████████▏                                                                               | 498/1000 [3:33:04<3:06:34, 22.30s/it]"
     ]
    },
    {
     "name": "stdout",
     "output_type": "stream",
     "text": [
      "eigenvalues shape torch.Size([5]) eigenvectors shape torch.Size([5, 400])\n",
      "498 /home/phdcs2/Hard_Disk/Datasets/Deep-Spectral-Segmentation/data/object-segmentation/ECSSD/features/dino_vits16/0499.pth\n",
      "dict_keys(['k', 'indices', 'file', 'id', 'model_name', 'patch_size', 'shape'])\n",
      "0499\n",
      "Starting Training\n",
      "epoch: 00, loss: -0.00123\n",
      "epoch: 01, loss: -0.02893\n",
      "epoch: 02, loss: -0.03535\n",
      "epoch: 03, loss: -0.03438\n",
      "epoch: 04, loss: -0.03675\n",
      "epoch: 05, loss: -0.03760\n",
      "epoch: 06, loss: -0.03942\n",
      "epoch: 07, loss: -0.03823\n",
      "epoch: 08, loss: -0.04002\n",
      "epoch: 09, loss: -0.04021\n",
      "torch.Size([450, 64])\n"
     ]
    },
    {
     "name": "stderr",
     "output_type": "stream",
     "text": [
      "\r",
      " 50%|███████████████████████████████████████████████████████████████████████████████▎                                                                               | 499/1000 [3:33:26<3:05:28, 22.21s/it]"
     ]
    },
    {
     "name": "stdout",
     "output_type": "stream",
     "text": [
      "eigenvalues shape torch.Size([5]) eigenvectors shape torch.Size([5, 450])\n",
      "499 /home/phdcs2/Hard_Disk/Datasets/Deep-Spectral-Segmentation/data/object-segmentation/ECSSD/features/dino_vits16/0500.pth\n",
      "dict_keys(['k', 'indices', 'file', 'id', 'model_name', 'patch_size', 'shape'])\n",
      "0500\n",
      "Starting Training\n",
      "epoch: 00, loss: -0.03654\n",
      "epoch: 01, loss: -0.06194\n",
      "epoch: 02, loss: -0.06888\n",
      "epoch: 03, loss: -0.06896\n",
      "epoch: 04, loss: -0.07002\n",
      "epoch: 05, loss: -0.07158\n",
      "epoch: 06, loss: -0.07383\n",
      "epoch: 07, loss: -0.07261\n",
      "epoch: 08, loss: -0.07402\n",
      "epoch: 09, loss: -0.07192\n",
      "torch.Size([450, 64])\n"
     ]
    },
    {
     "name": "stderr",
     "output_type": "stream",
     "text": [
      "\r",
      " 50%|███████████████████████████████████████████████████████████████████████████████▌                                                                               | 500/1000 [3:33:46<3:00:58, 21.72s/it]"
     ]
    },
    {
     "name": "stdout",
     "output_type": "stream",
     "text": [
      "eigenvalues shape torch.Size([5]) eigenvectors shape torch.Size([5, 450])\n",
      "500 /home/phdcs2/Hard_Disk/Datasets/Deep-Spectral-Segmentation/data/object-segmentation/ECSSD/features/dino_vits16/0501.pth\n",
      "dict_keys(['k', 'indices', 'file', 'id', 'model_name', 'patch_size', 'shape'])\n",
      "0501\n",
      "Starting Training\n",
      "epoch: 00, loss: -0.01459\n",
      "epoch: 01, loss: -0.03494\n",
      "epoch: 02, loss: -0.03772\n",
      "epoch: 03, loss: -0.03875\n",
      "epoch: 04, loss: -0.03913\n",
      "epoch: 05, loss: -0.03946\n",
      "epoch: 06, loss: -0.03978\n",
      "epoch: 07, loss: -0.03975\n",
      "epoch: 08, loss: -0.04023\n",
      "epoch: 09, loss: -0.04025\n",
      "torch.Size([450, 64])\n"
     ]
    },
    {
     "name": "stderr",
     "output_type": "stream",
     "text": [
      "\r",
      " 50%|███████████████████████████████████████████████████████████████████████████████▋                                                                               | 501/1000 [3:34:08<2:59:09, 21.54s/it]"
     ]
    },
    {
     "name": "stdout",
     "output_type": "stream",
     "text": [
      "eigenvalues shape torch.Size([5]) eigenvectors shape torch.Size([5, 450])\n",
      "501 /home/phdcs2/Hard_Disk/Datasets/Deep-Spectral-Segmentation/data/object-segmentation/ECSSD/features/dino_vits16/0502.pth\n",
      "dict_keys(['k', 'indices', 'file', 'id', 'model_name', 'patch_size', 'shape'])\n",
      "0502\n",
      "Starting Training\n",
      "epoch: 00, loss: -0.04779\n",
      "epoch: 01, loss: -0.05807\n",
      "epoch: 02, loss: -0.05875\n",
      "epoch: 03, loss: -0.05924\n",
      "epoch: 04, loss: -0.06005\n",
      "epoch: 05, loss: -0.06013\n",
      "epoch: 06, loss: -0.06032\n",
      "epoch: 07, loss: -0.05998\n",
      "epoch: 08, loss: -0.06085\n",
      "epoch: 09, loss: -0.06066\n",
      "torch.Size([625, 64])\n"
     ]
    },
    {
     "name": "stderr",
     "output_type": "stream",
     "text": [
      "\r",
      " 50%|███████████████████████████████████████████████████████████████████████████████▊                                                                               | 502/1000 [3:34:33<3:08:45, 22.74s/it]"
     ]
    },
    {
     "name": "stdout",
     "output_type": "stream",
     "text": [
      "eigenvalues shape torch.Size([5]) eigenvectors shape torch.Size([5, 625])\n",
      "502 /home/phdcs2/Hard_Disk/Datasets/Deep-Spectral-Segmentation/data/object-segmentation/ECSSD/features/dino_vits16/0503.pth\n",
      "dict_keys(['k', 'indices', 'file', 'id', 'model_name', 'patch_size', 'shape'])\n",
      "0503\n",
      "Starting Training\n",
      "epoch: 00, loss: -0.05082\n",
      "epoch: 01, loss: -0.07576\n",
      "epoch: 02, loss: -0.07666\n",
      "epoch: 03, loss: -0.07723\n",
      "epoch: 04, loss: -0.07710\n",
      "epoch: 05, loss: -0.07718\n",
      "epoch: 06, loss: -0.07780\n",
      "epoch: 07, loss: -0.07759\n",
      "epoch: 08, loss: -0.07769\n",
      "epoch: 09, loss: -0.07799\n",
      "torch.Size([400, 64])\n"
     ]
    },
    {
     "name": "stderr",
     "output_type": "stream",
     "text": [
      "\r",
      " 50%|███████████████████████████████████████████████████████████████████████████████▉                                                                               | 503/1000 [3:34:56<3:07:43, 22.66s/it]"
     ]
    },
    {
     "name": "stdout",
     "output_type": "stream",
     "text": [
      "eigenvalues shape torch.Size([5]) eigenvectors shape torch.Size([5, 400])\n",
      "503 /home/phdcs2/Hard_Disk/Datasets/Deep-Spectral-Segmentation/data/object-segmentation/ECSSD/features/dino_vits16/0504.pth\n",
      "dict_keys(['k', 'indices', 'file', 'id', 'model_name', 'patch_size', 'shape'])\n",
      "0504\n",
      "Starting Training\n",
      "epoch: 00, loss: -0.05806\n",
      "epoch: 01, loss: -0.07994\n",
      "epoch: 02, loss: -0.08780\n",
      "epoch: 03, loss: -0.09092\n",
      "epoch: 04, loss: -0.08968\n",
      "epoch: 05, loss: -0.09186\n",
      "epoch: 06, loss: -0.09488\n",
      "epoch: 07, loss: -0.09232\n",
      "epoch: 08, loss: -0.09266\n",
      "epoch: 09, loss: -0.09451\n",
      "torch.Size([400, 64])\n"
     ]
    },
    {
     "name": "stderr",
     "output_type": "stream",
     "text": [
      "\r",
      " 50%|████████████████████████████████████████████████████████████████████████████████▏                                                                              | 504/1000 [3:35:18<3:07:56, 22.73s/it]"
     ]
    },
    {
     "name": "stdout",
     "output_type": "stream",
     "text": [
      "eigenvalues shape torch.Size([5]) eigenvectors shape torch.Size([5, 400])\n",
      "504 /home/phdcs2/Hard_Disk/Datasets/Deep-Spectral-Segmentation/data/object-segmentation/ECSSD/features/dino_vits16/0505.pth\n",
      "dict_keys(['k', 'indices', 'file', 'id', 'model_name', 'patch_size', 'shape'])\n",
      "0505\n",
      "Starting Training\n",
      "epoch: 00, loss: -0.03247\n",
      "epoch: 01, loss: -0.05515\n",
      "epoch: 02, loss: -0.05635\n",
      "epoch: 03, loss: -0.05707\n",
      "epoch: 04, loss: -0.05722\n",
      "epoch: 05, loss: -0.05767\n",
      "epoch: 06, loss: -0.05778\n",
      "epoch: 07, loss: -0.05794\n",
      "epoch: 08, loss: -0.05801\n",
      "epoch: 09, loss: -0.05810\n",
      "torch.Size([450, 64])\n"
     ]
    },
    {
     "name": "stderr",
     "output_type": "stream",
     "text": [
      "\r",
      " 50%|████████████████████████████████████████████████████████████████████████████████▎                                                                              | 505/1000 [3:35:40<3:05:39, 22.50s/it]"
     ]
    },
    {
     "name": "stdout",
     "output_type": "stream",
     "text": [
      "eigenvalues shape torch.Size([5]) eigenvectors shape torch.Size([5, 450])\n",
      "505 /home/phdcs2/Hard_Disk/Datasets/Deep-Spectral-Segmentation/data/object-segmentation/ECSSD/features/dino_vits16/0506.pth\n",
      "dict_keys(['k', 'indices', 'file', 'id', 'model_name', 'patch_size', 'shape'])\n",
      "0506\n",
      "Starting Training\n",
      "epoch: 00, loss: -0.02743\n",
      "epoch: 01, loss: -0.06019\n",
      "epoch: 02, loss: -0.06496\n",
      "epoch: 03, loss: -0.07035\n",
      "epoch: 04, loss: -0.07000\n",
      "epoch: 05, loss: -0.07118\n",
      "epoch: 06, loss: -0.07036\n",
      "epoch: 07, loss: -0.07120\n",
      "epoch: 08, loss: -0.07369\n",
      "epoch: 09, loss: -0.07438\n",
      "torch.Size([400, 64])\n"
     ]
    },
    {
     "name": "stderr",
     "output_type": "stream",
     "text": [
      "/home/phdcs2/Hard_Disk/Projects/T2I/deep-spectral-segmentation/venv/lib/python3.8/site-packages/scipy/sparse/linalg/_eigen/arpack/arpack.py:935: LinAlgWarning: Diagonal number 400 is exactly zero. Singular matrix.\n",
      "  self.M_lu = lu_factor(M)\n"
     ]
    },
    {
     "name": "stdout",
     "output_type": "stream",
     "text": [
      " ** On entry to SLASCL parameter number  4 had an illegal value\n",
      " ** On entry to SLASCL parameter number  4 had an illegal value\n"
     ]
    },
    {
     "name": "stderr",
     "output_type": "stream",
     "text": [
      "\r",
      " 51%|████████████████████████████████████████████████████████████████████████████████▍                                                                              | 506/1000 [3:36:06<3:13:54, 23.55s/it]"
     ]
    },
    {
     "name": "stdout",
     "output_type": "stream",
     "text": [
      "eigenvalues shape torch.Size([5]) eigenvectors shape torch.Size([5, 400])\n",
      "506 /home/phdcs2/Hard_Disk/Datasets/Deep-Spectral-Segmentation/data/object-segmentation/ECSSD/features/dino_vits16/0507.pth\n",
      "dict_keys(['k', 'indices', 'file', 'id', 'model_name', 'patch_size', 'shape'])\n",
      "0507\n",
      "Starting Training\n",
      "epoch: 00, loss: -0.00025\n",
      "epoch: 01, loss: -0.01542\n",
      "epoch: 02, loss: -0.02139\n",
      "epoch: 03, loss: -0.02366\n",
      "epoch: 04, loss: -0.02482\n",
      "epoch: 05, loss: -0.02642\n",
      "epoch: 06, loss: -0.02688\n",
      "epoch: 07, loss: -0.02732\n",
      "epoch: 08, loss: -0.02585\n",
      "epoch: 09, loss: -0.02613\n",
      "torch.Size([375, 64])\n"
     ]
    },
    {
     "name": "stderr",
     "output_type": "stream",
     "text": [
      "\r",
      " 51%|████████████████████████████████████████████████████████████████████████████████▌                                                                              | 507/1000 [3:36:22<2:53:44, 21.14s/it]"
     ]
    },
    {
     "name": "stdout",
     "output_type": "stream",
     "text": [
      "eigenvalues shape torch.Size([5]) eigenvectors shape torch.Size([5, 375])\n",
      "507 /home/phdcs2/Hard_Disk/Datasets/Deep-Spectral-Segmentation/data/object-segmentation/ECSSD/features/dino_vits16/0508.pth\n",
      "dict_keys(['k', 'indices', 'file', 'id', 'model_name', 'patch_size', 'shape'])\n",
      "0508\n",
      "Starting Training\n",
      "epoch: 00, loss: -0.01523\n",
      "epoch: 01, loss: -0.03279\n",
      "epoch: 02, loss: -0.03638\n",
      "epoch: 03, loss: -0.03744\n",
      "epoch: 04, loss: -0.03802\n",
      "epoch: 05, loss: -0.03826\n",
      "epoch: 06, loss: -0.03825\n",
      "epoch: 07, loss: -0.03867\n",
      "epoch: 08, loss: -0.03873\n",
      "epoch: 09, loss: -0.03879\n",
      "torch.Size([400, 64])\n"
     ]
    },
    {
     "name": "stderr",
     "output_type": "stream",
     "text": [
      "\r",
      " 51%|████████████████████████████████████████████████████████████████████████████████▊                                                                              | 508/1000 [3:36:40<2:46:56, 20.36s/it]"
     ]
    },
    {
     "name": "stdout",
     "output_type": "stream",
     "text": [
      "eigenvalues shape torch.Size([5]) eigenvectors shape torch.Size([5, 400])\n",
      "508 /home/phdcs2/Hard_Disk/Datasets/Deep-Spectral-Segmentation/data/object-segmentation/ECSSD/features/dino_vits16/0509.pth\n",
      "dict_keys(['k', 'indices', 'file', 'id', 'model_name', 'patch_size', 'shape'])\n",
      "0509\n",
      "Starting Training\n",
      "epoch: 00, loss: -0.02333\n",
      "epoch: 01, loss: -0.03560\n",
      "epoch: 02, loss: -0.04183\n",
      "epoch: 03, loss: -0.04182\n",
      "epoch: 04, loss: -0.04336\n",
      "epoch: 05, loss: -0.04444\n",
      "epoch: 06, loss: -0.04518\n",
      "epoch: 07, loss: -0.04297\n",
      "epoch: 08, loss: -0.04416\n",
      "epoch: 09, loss: -0.04476\n",
      "torch.Size([625, 64])\n"
     ]
    },
    {
     "name": "stderr",
     "output_type": "stream",
     "text": [
      "\r",
      " 51%|████████████████████████████████████████████████████████████████████████████████▉                                                                              | 509/1000 [3:37:20<3:34:47, 26.25s/it]"
     ]
    },
    {
     "name": "stdout",
     "output_type": "stream",
     "text": [
      "eigenvalues shape torch.Size([5]) eigenvectors shape torch.Size([5, 625])\n",
      "509 /home/phdcs2/Hard_Disk/Datasets/Deep-Spectral-Segmentation/data/object-segmentation/ECSSD/features/dino_vits16/0510.pth\n",
      "dict_keys(['k', 'indices', 'file', 'id', 'model_name', 'patch_size', 'shape'])\n",
      "0510\n",
      "Starting Training\n",
      "epoch: 00, loss: -0.03254\n",
      "epoch: 01, loss: -0.05627\n",
      "epoch: 02, loss: -0.06093\n",
      "epoch: 03, loss: -0.06310\n",
      "epoch: 04, loss: -0.06206\n",
      "epoch: 05, loss: -0.06379\n",
      "epoch: 06, loss: -0.06307\n",
      "epoch: 07, loss: -0.06588\n",
      "epoch: 08, loss: -0.06375\n",
      "epoch: 09, loss: -0.06560\n",
      "torch.Size([400, 64])\n"
     ]
    },
    {
     "name": "stderr",
     "output_type": "stream",
     "text": [
      "\r",
      " 51%|█████████████████████████████████████████████████████████████████████████████████                                                                              | 510/1000 [3:37:37<3:11:40, 23.47s/it]"
     ]
    },
    {
     "name": "stdout",
     "output_type": "stream",
     "text": [
      "eigenvalues shape torch.Size([5]) eigenvectors shape torch.Size([5, 400])\n",
      "510 /home/phdcs2/Hard_Disk/Datasets/Deep-Spectral-Segmentation/data/object-segmentation/ECSSD/features/dino_vits16/0511.pth\n",
      "dict_keys(['k', 'indices', 'file', 'id', 'model_name', 'patch_size', 'shape'])\n",
      "0511\n",
      "Starting Training\n",
      "epoch: 00, loss: -0.02208\n",
      "epoch: 01, loss: -0.03516\n",
      "epoch: 02, loss: -0.03766\n",
      "epoch: 03, loss: -0.03748\n",
      "epoch: 04, loss: -0.03816\n",
      "epoch: 05, loss: -0.03882\n",
      "epoch: 06, loss: -0.03810\n",
      "epoch: 07, loss: -0.03824\n",
      "epoch: 08, loss: -0.03846\n",
      "epoch: 09, loss: -0.03867\n",
      "torch.Size([625, 64])\n"
     ]
    },
    {
     "name": "stderr",
     "output_type": "stream",
     "text": [
      "\r",
      " 51%|█████████████████████████████████████████████████████████████████████████████████▏                                                                             | 511/1000 [3:38:18<3:54:07, 28.73s/it]"
     ]
    },
    {
     "name": "stdout",
     "output_type": "stream",
     "text": [
      "eigenvalues shape torch.Size([5]) eigenvectors shape torch.Size([5, 625])\n",
      "511 /home/phdcs2/Hard_Disk/Datasets/Deep-Spectral-Segmentation/data/object-segmentation/ECSSD/features/dino_vits16/0512.pth\n",
      "dict_keys(['k', 'indices', 'file', 'id', 'model_name', 'patch_size', 'shape'])\n",
      "0512\n",
      "Starting Training\n",
      "epoch: 00, loss: -0.03150\n",
      "epoch: 01, loss: -0.05923\n",
      "epoch: 02, loss: -0.06488\n",
      "epoch: 03, loss: -0.06793\n",
      "epoch: 04, loss: -0.06817\n",
      "epoch: 05, loss: -0.06682\n",
      "epoch: 06, loss: -0.06804\n",
      "epoch: 07, loss: -0.06788\n",
      "epoch: 08, loss: -0.07149\n",
      "epoch: 09, loss: -0.07035\n",
      "torch.Size([400, 64])\n"
     ]
    },
    {
     "name": "stderr",
     "output_type": "stream",
     "text": [
      "\r",
      " 51%|█████████████████████████████████████████████████████████████████████████████████▍                                                                             | 512/1000 [3:38:35<3:23:02, 24.96s/it]"
     ]
    },
    {
     "name": "stdout",
     "output_type": "stream",
     "text": [
      "eigenvalues shape torch.Size([5]) eigenvectors shape torch.Size([5, 400])\n",
      "512 /home/phdcs2/Hard_Disk/Datasets/Deep-Spectral-Segmentation/data/object-segmentation/ECSSD/features/dino_vits16/0513.pth\n",
      "dict_keys(['k', 'indices', 'file', 'id', 'model_name', 'patch_size', 'shape'])\n",
      "0513\n",
      "Starting Training\n",
      "epoch: 00, loss: -0.04124\n",
      "epoch: 01, loss: -0.06817\n",
      "epoch: 02, loss: -0.06716\n",
      "epoch: 03, loss: -0.06951\n",
      "epoch: 04, loss: -0.07226\n",
      "epoch: 05, loss: -0.07384\n",
      "epoch: 06, loss: -0.07546\n",
      "epoch: 07, loss: -0.07352\n",
      "epoch: 08, loss: -0.07417\n",
      "epoch: 09, loss: -0.07468\n",
      "torch.Size([400, 64])\n"
     ]
    },
    {
     "name": "stderr",
     "output_type": "stream",
     "text": [
      "\r",
      " 51%|█████████████████████████████████████████████████████████████████████████████████▌                                                                             | 513/1000 [3:38:52<3:04:24, 22.72s/it]"
     ]
    },
    {
     "name": "stdout",
     "output_type": "stream",
     "text": [
      "eigenvalues shape torch.Size([5]) eigenvectors shape torch.Size([5, 400])\n",
      "513 /home/phdcs2/Hard_Disk/Datasets/Deep-Spectral-Segmentation/data/object-segmentation/ECSSD/features/dino_vits16/0514.pth\n",
      "dict_keys(['k', 'indices', 'file', 'id', 'model_name', 'patch_size', 'shape'])\n",
      "0514\n",
      "Starting Training\n",
      "epoch: 00, loss: 0.00008\n",
      "epoch: 01, loss: -0.00862\n",
      "epoch: 02, loss: -0.01175\n",
      "epoch: 03, loss: -0.01331\n",
      "epoch: 04, loss: -0.01424\n",
      "epoch: 05, loss: -0.01471\n",
      "epoch: 06, loss: -0.01507\n",
      "epoch: 07, loss: -0.01534\n",
      "epoch: 08, loss: -0.01552\n",
      "epoch: 09, loss: -0.01563\n",
      "torch.Size([450, 64])\n"
     ]
    },
    {
     "name": "stderr",
     "output_type": "stream",
     "text": [
      "\r",
      " 51%|█████████████████████████████████████████████████████████████████████████████████▋                                                                             | 514/1000 [3:39:11<2:53:27, 21.41s/it]"
     ]
    },
    {
     "name": "stdout",
     "output_type": "stream",
     "text": [
      "eigenvalues shape torch.Size([5]) eigenvectors shape torch.Size([5, 450])\n",
      "514 /home/phdcs2/Hard_Disk/Datasets/Deep-Spectral-Segmentation/data/object-segmentation/ECSSD/features/dino_vits16/0515.pth\n",
      "dict_keys(['k', 'indices', 'file', 'id', 'model_name', 'patch_size', 'shape'])\n",
      "0515\n",
      "Starting Training\n",
      "epoch: 00, loss: -0.00992\n",
      "epoch: 01, loss: -0.03390\n",
      "epoch: 02, loss: -0.03882\n",
      "epoch: 03, loss: -0.04133\n",
      "epoch: 04, loss: -0.04242\n",
      "epoch: 05, loss: -0.04215\n",
      "epoch: 06, loss: -0.04305\n",
      "epoch: 07, loss: -0.04422\n",
      "epoch: 08, loss: -0.04335\n",
      "epoch: 09, loss: -0.04440\n",
      "torch.Size([450, 64])\n"
     ]
    },
    {
     "name": "stderr",
     "output_type": "stream",
     "text": [
      "\r",
      " 52%|█████████████████████████████████████████████████████████████████████████████████▉                                                                             | 515/1000 [3:39:28<2:42:44, 20.13s/it]"
     ]
    },
    {
     "name": "stdout",
     "output_type": "stream",
     "text": [
      "eigenvalues shape torch.Size([5]) eigenvectors shape torch.Size([5, 450])\n",
      "515 /home/phdcs2/Hard_Disk/Datasets/Deep-Spectral-Segmentation/data/object-segmentation/ECSSD/features/dino_vits16/0516.pth\n",
      "dict_keys(['k', 'indices', 'file', 'id', 'model_name', 'patch_size', 'shape'])\n",
      "0516\n",
      "Starting Training\n",
      "epoch: 00, loss: -0.00702\n",
      "epoch: 01, loss: -0.03907\n",
      "epoch: 02, loss: -0.04511\n",
      "epoch: 03, loss: -0.04723\n",
      "epoch: 04, loss: -0.04906\n",
      "epoch: 05, loss: -0.04880\n",
      "epoch: 06, loss: -0.05317\n",
      "epoch: 07, loss: -0.05041\n",
      "epoch: 08, loss: -0.05427\n",
      "epoch: 09, loss: -0.05073\n",
      "torch.Size([450, 64])\n"
     ]
    },
    {
     "name": "stderr",
     "output_type": "stream",
     "text": [
      "\r",
      " 52%|██████████████████████████████████████████████████████████████████████████████████                                                                             | 516/1000 [3:39:47<2:41:07, 19.97s/it]"
     ]
    },
    {
     "name": "stdout",
     "output_type": "stream",
     "text": [
      "eigenvalues shape torch.Size([5]) eigenvectors shape torch.Size([5, 450])\n",
      "516 /home/phdcs2/Hard_Disk/Datasets/Deep-Spectral-Segmentation/data/object-segmentation/ECSSD/features/dino_vits16/0517.pth\n",
      "dict_keys(['k', 'indices', 'file', 'id', 'model_name', 'patch_size', 'shape'])\n",
      "0517\n",
      "Starting Training\n",
      "epoch: 00, loss: -0.01757\n",
      "epoch: 01, loss: -0.03220\n",
      "epoch: 02, loss: -0.03437\n",
      "epoch: 03, loss: -0.03520\n",
      "epoch: 04, loss: -0.03561\n",
      "epoch: 05, loss: -0.03594\n",
      "epoch: 06, loss: -0.03631\n",
      "epoch: 07, loss: -0.03641\n",
      "epoch: 08, loss: -0.03618\n",
      "epoch: 09, loss: -0.03613\n",
      "torch.Size([450, 64])\n"
     ]
    },
    {
     "name": "stderr",
     "output_type": "stream",
     "text": [
      "\r",
      " 52%|██████████████████████████████████████████████████████████████████████████████████▏                                                                            | 517/1000 [3:40:08<2:43:35, 20.32s/it]"
     ]
    },
    {
     "name": "stdout",
     "output_type": "stream",
     "text": [
      "eigenvalues shape torch.Size([5]) eigenvectors shape torch.Size([5, 450])\n",
      "517 /home/phdcs2/Hard_Disk/Datasets/Deep-Spectral-Segmentation/data/object-segmentation/ECSSD/features/dino_vits16/0518.pth\n",
      "dict_keys(['k', 'indices', 'file', 'id', 'model_name', 'patch_size', 'shape'])\n",
      "0518\n",
      "Starting Training\n",
      "epoch: 00, loss: 0.00062\n",
      "epoch: 01, loss: -0.01591\n",
      "epoch: 02, loss: -0.01762\n",
      "epoch: 03, loss: -0.01979\n",
      "epoch: 04, loss: -0.02329\n",
      "epoch: 05, loss: -0.02186\n",
      "epoch: 06, loss: -0.02454\n",
      "epoch: 07, loss: -0.02501\n",
      "epoch: 08, loss: -0.02605\n",
      "epoch: 09, loss: -0.02740\n",
      "torch.Size([400, 64])\n"
     ]
    },
    {
     "name": "stderr",
     "output_type": "stream",
     "text": [
      "\r",
      " 52%|██████████████████████████████████████████████████████████████████████████████████▎                                                                            | 518/1000 [3:40:26<2:37:29, 19.61s/it]"
     ]
    },
    {
     "name": "stdout",
     "output_type": "stream",
     "text": [
      "eigenvalues shape torch.Size([5]) eigenvectors shape torch.Size([5, 400])\n",
      "518 /home/phdcs2/Hard_Disk/Datasets/Deep-Spectral-Segmentation/data/object-segmentation/ECSSD/features/dino_vits16/0519.pth\n",
      "dict_keys(['k', 'indices', 'file', 'id', 'model_name', 'patch_size', 'shape'])\n",
      "0519\n",
      "Starting Training\n",
      "epoch: 00, loss: -0.02785\n",
      "epoch: 01, loss: -0.05666\n",
      "epoch: 02, loss: -0.06230\n",
      "epoch: 03, loss: -0.06499\n",
      "epoch: 04, loss: -0.06658\n",
      "epoch: 05, loss: -0.06978\n",
      "epoch: 06, loss: -0.06843\n",
      "epoch: 07, loss: -0.07053\n",
      "epoch: 08, loss: -0.07076\n",
      "epoch: 09, loss: -0.06830\n",
      "torch.Size([375, 64])\n"
     ]
    },
    {
     "name": "stderr",
     "output_type": "stream",
     "text": [
      "\r",
      " 52%|██████████████████████████████████████████████████████████████████████████████████▌                                                                            | 519/1000 [3:40:43<2:29:23, 18.63s/it]"
     ]
    },
    {
     "name": "stdout",
     "output_type": "stream",
     "text": [
      "eigenvalues shape torch.Size([5]) eigenvectors shape torch.Size([5, 375])\n",
      "519 /home/phdcs2/Hard_Disk/Datasets/Deep-Spectral-Segmentation/data/object-segmentation/ECSSD/features/dino_vits16/0520.pth\n",
      "dict_keys(['k', 'indices', 'file', 'id', 'model_name', 'patch_size', 'shape'])\n",
      "0520\n",
      "Starting Training\n",
      "epoch: 00, loss: -0.01600\n",
      "epoch: 01, loss: -0.03520\n",
      "epoch: 02, loss: -0.03906\n",
      "epoch: 03, loss: -0.03951\n",
      "epoch: 04, loss: -0.04194\n",
      "epoch: 05, loss: -0.03967\n",
      "epoch: 06, loss: -0.04100\n",
      "epoch: 07, loss: -0.04212\n",
      "epoch: 08, loss: -0.04288\n",
      "epoch: 09, loss: -0.04211\n",
      "torch.Size([450, 64])\n"
     ]
    },
    {
     "name": "stderr",
     "output_type": "stream",
     "text": [
      "\r",
      " 52%|██████████████████████████████████████████████████████████████████████████████████▋                                                                            | 520/1000 [3:41:01<2:29:00, 18.63s/it]"
     ]
    },
    {
     "name": "stdout",
     "output_type": "stream",
     "text": [
      "eigenvalues shape torch.Size([5]) eigenvectors shape torch.Size([5, 450])\n",
      "520 /home/phdcs2/Hard_Disk/Datasets/Deep-Spectral-Segmentation/data/object-segmentation/ECSSD/features/dino_vits16/0521.pth\n",
      "dict_keys(['k', 'indices', 'file', 'id', 'model_name', 'patch_size', 'shape'])\n",
      "0521\n",
      "Starting Training\n",
      "epoch: 00, loss: -0.02676\n",
      "epoch: 01, loss: -0.04727\n",
      "epoch: 02, loss: -0.04943\n",
      "epoch: 03, loss: -0.04947\n",
      "epoch: 04, loss: -0.04950\n",
      "epoch: 05, loss: -0.04983\n",
      "epoch: 06, loss: -0.05006\n",
      "epoch: 07, loss: -0.05001\n",
      "epoch: 08, loss: -0.05035\n",
      "epoch: 09, loss: -0.05047\n",
      "torch.Size([450, 64])\n"
     ]
    },
    {
     "name": "stderr",
     "output_type": "stream",
     "text": [
      "\r",
      " 52%|██████████████████████████████████████████████████████████████████████████████████▊                                                                            | 521/1000 [3:41:19<2:26:15, 18.32s/it]"
     ]
    },
    {
     "name": "stdout",
     "output_type": "stream",
     "text": [
      "eigenvalues shape torch.Size([5]) eigenvectors shape torch.Size([5, 450])\n",
      "521 /home/phdcs2/Hard_Disk/Datasets/Deep-Spectral-Segmentation/data/object-segmentation/ECSSD/features/dino_vits16/0522.pth\n",
      "dict_keys(['k', 'indices', 'file', 'id', 'model_name', 'patch_size', 'shape'])\n",
      "0522\n",
      "Starting Training\n",
      "epoch: 00, loss: -0.02637\n",
      "epoch: 01, loss: -0.04435\n",
      "epoch: 02, loss: -0.04489\n",
      "epoch: 03, loss: -0.04654\n",
      "epoch: 04, loss: -0.04737\n",
      "epoch: 05, loss: -0.04733\n",
      "epoch: 06, loss: -0.04716\n",
      "epoch: 07, loss: -0.04713\n",
      "epoch: 08, loss: -0.04732\n",
      "epoch: 09, loss: -0.04727\n",
      "torch.Size([450, 64])\n"
     ]
    },
    {
     "name": "stderr",
     "output_type": "stream",
     "text": [
      "\r",
      " 52%|██████████████████████████████████████████████████████████████████████████████████▉                                                                            | 522/1000 [3:41:39<2:29:30, 18.77s/it]"
     ]
    },
    {
     "name": "stdout",
     "output_type": "stream",
     "text": [
      "eigenvalues shape torch.Size([5]) eigenvectors shape torch.Size([5, 450])\n",
      "522 /home/phdcs2/Hard_Disk/Datasets/Deep-Spectral-Segmentation/data/object-segmentation/ECSSD/features/dino_vits16/0523.pth\n",
      "dict_keys(['k', 'indices', 'file', 'id', 'model_name', 'patch_size', 'shape'])\n",
      "0523\n",
      "Starting Training\n",
      "epoch: 00, loss: -0.00967\n",
      "epoch: 01, loss: -0.03596\n",
      "epoch: 02, loss: -0.04007\n",
      "epoch: 03, loss: -0.04119\n",
      "epoch: 04, loss: -0.04182\n",
      "epoch: 05, loss: -0.04205\n",
      "epoch: 06, loss: -0.04228\n",
      "epoch: 07, loss: -0.04222\n",
      "epoch: 08, loss: -0.04237\n",
      "epoch: 09, loss: -0.04248\n",
      "torch.Size([450, 64])\n"
     ]
    },
    {
     "name": "stderr",
     "output_type": "stream",
     "text": [
      "\r",
      " 52%|███████████████████████████████████████████████████████████████████████████████████▏                                                                           | 523/1000 [3:41:57<2:29:13, 18.77s/it]"
     ]
    },
    {
     "name": "stdout",
     "output_type": "stream",
     "text": [
      "eigenvalues shape torch.Size([5]) eigenvectors shape torch.Size([5, 450])\n",
      "523 /home/phdcs2/Hard_Disk/Datasets/Deep-Spectral-Segmentation/data/object-segmentation/ECSSD/features/dino_vits16/0524.pth\n",
      "dict_keys(['k', 'indices', 'file', 'id', 'model_name', 'patch_size', 'shape'])\n",
      "0524\n",
      "Starting Training\n",
      "epoch: 00, loss: -0.01035\n",
      "epoch: 01, loss: -0.02306\n",
      "epoch: 02, loss: -0.02595\n",
      "epoch: 03, loss: -0.02666\n",
      "epoch: 04, loss: -0.02644\n",
      "epoch: 05, loss: -0.02652\n",
      "epoch: 06, loss: -0.02733\n",
      "epoch: 07, loss: -0.02719\n",
      "epoch: 08, loss: -0.02705\n",
      "epoch: 09, loss: -0.02699\n",
      "torch.Size([475, 64])\n"
     ]
    },
    {
     "name": "stderr",
     "output_type": "stream",
     "text": [
      "\r",
      " 52%|███████████████████████████████████████████████████████████████████████████████████▎                                                                           | 524/1000 [3:42:21<2:40:19, 20.21s/it]"
     ]
    },
    {
     "name": "stdout",
     "output_type": "stream",
     "text": [
      "eigenvalues shape torch.Size([5]) eigenvectors shape torch.Size([5, 475])\n",
      "524 /home/phdcs2/Hard_Disk/Datasets/Deep-Spectral-Segmentation/data/object-segmentation/ECSSD/features/dino_vits16/0525.pth\n",
      "dict_keys(['k', 'indices', 'file', 'id', 'model_name', 'patch_size', 'shape'])\n",
      "0525\n",
      "Starting Training\n",
      "epoch: 00, loss: -0.01291\n",
      "epoch: 01, loss: -0.03159\n",
      "epoch: 02, loss: -0.03488\n",
      "epoch: 03, loss: -0.03660\n",
      "epoch: 04, loss: -0.03537\n",
      "epoch: 05, loss: -0.03656\n",
      "epoch: 06, loss: -0.03714\n",
      "epoch: 07, loss: -0.03735\n",
      "epoch: 08, loss: -0.03844\n",
      "epoch: 09, loss: -0.03928\n",
      "torch.Size([400, 64])\n"
     ]
    },
    {
     "name": "stderr",
     "output_type": "stream",
     "text": [
      "\r",
      " 52%|███████████████████████████████████████████████████████████████████████████████████▍                                                                           | 525/1000 [3:42:36<2:28:23, 18.74s/it]"
     ]
    },
    {
     "name": "stdout",
     "output_type": "stream",
     "text": [
      "eigenvalues shape torch.Size([5]) eigenvectors shape torch.Size([5, 400])\n",
      "525 /home/phdcs2/Hard_Disk/Datasets/Deep-Spectral-Segmentation/data/object-segmentation/ECSSD/features/dino_vits16/0526.pth\n",
      "dict_keys(['k', 'indices', 'file', 'id', 'model_name', 'patch_size', 'shape'])\n",
      "0526\n",
      "Starting Training\n",
      "epoch: 00, loss: 0.00373\n",
      "epoch: 01, loss: -0.00485\n",
      "epoch: 02, loss: -0.01025\n",
      "epoch: 03, loss: -0.01298\n",
      "epoch: 04, loss: -0.01401\n",
      "epoch: 05, loss: -0.01476\n",
      "epoch: 06, loss: -0.01573\n",
      "epoch: 07, loss: -0.01559\n",
      "epoch: 08, loss: -0.01598\n",
      "epoch: 09, loss: -0.01615\n",
      "torch.Size([500, 64])\n"
     ]
    },
    {
     "name": "stderr",
     "output_type": "stream",
     "text": [
      "\r",
      " 53%|███████████████████████████████████████████████████████████████████████████████████▋                                                                           | 526/1000 [3:42:56<2:29:59, 18.99s/it]"
     ]
    },
    {
     "name": "stdout",
     "output_type": "stream",
     "text": [
      "eigenvalues shape torch.Size([5]) eigenvectors shape torch.Size([5, 500])\n",
      "526 /home/phdcs2/Hard_Disk/Datasets/Deep-Spectral-Segmentation/data/object-segmentation/ECSSD/features/dino_vits16/0527.pth\n",
      "dict_keys(['k', 'indices', 'file', 'id', 'model_name', 'patch_size', 'shape'])\n",
      "0527\n",
      "Starting Training\n",
      "epoch: 00, loss: -0.00809\n",
      "epoch: 01, loss: -0.02337\n",
      "epoch: 02, loss: -0.02729\n",
      "epoch: 03, loss: -0.02858\n",
      "epoch: 04, loss: -0.02895\n",
      "epoch: 05, loss: -0.02926\n",
      "epoch: 06, loss: -0.02942\n",
      "epoch: 07, loss: -0.02958\n",
      "epoch: 08, loss: -0.02966\n",
      "epoch: 09, loss: -0.02980\n",
      "torch.Size([400, 64])\n"
     ]
    },
    {
     "name": "stderr",
     "output_type": "stream",
     "text": [
      "\r",
      " 53%|███████████████████████████████████████████████████████████████████████████████████▊                                                                           | 527/1000 [3:43:10<2:17:45, 17.47s/it]"
     ]
    },
    {
     "name": "stdout",
     "output_type": "stream",
     "text": [
      "eigenvalues shape torch.Size([5]) eigenvectors shape torch.Size([5, 400])\n",
      "527 /home/phdcs2/Hard_Disk/Datasets/Deep-Spectral-Segmentation/data/object-segmentation/ECSSD/features/dino_vits16/0528.pth\n",
      "dict_keys(['k', 'indices', 'file', 'id', 'model_name', 'patch_size', 'shape'])\n",
      "0528\n",
      "Starting Training\n",
      "epoch: 00, loss: -0.02612\n",
      "epoch: 01, loss: -0.04176\n",
      "epoch: 02, loss: -0.04435\n",
      "epoch: 03, loss: -0.04491\n",
      "epoch: 04, loss: -0.04551\n",
      "epoch: 05, loss: -0.04565\n",
      "epoch: 06, loss: -0.04567\n",
      "epoch: 07, loss: -0.04585\n",
      "epoch: 08, loss: -0.04595\n",
      "epoch: 09, loss: -0.04609\n",
      "torch.Size([400, 64])\n"
     ]
    },
    {
     "name": "stderr",
     "output_type": "stream",
     "text": [
      "\r",
      " 53%|███████████████████████████████████████████████████████████████████████████████████▉                                                                           | 528/1000 [3:43:26<2:13:12, 16.93s/it]"
     ]
    },
    {
     "name": "stdout",
     "output_type": "stream",
     "text": [
      "eigenvalues shape torch.Size([5]) eigenvectors shape torch.Size([5, 400])\n",
      "528 /home/phdcs2/Hard_Disk/Datasets/Deep-Spectral-Segmentation/data/object-segmentation/ECSSD/features/dino_vits16/0529.pth\n",
      "dict_keys(['k', 'indices', 'file', 'id', 'model_name', 'patch_size', 'shape'])\n",
      "0529\n",
      "Starting Training\n",
      "epoch: 00, loss: -0.05838\n",
      "epoch: 01, loss: -0.09280\n",
      "epoch: 02, loss: -0.09479\n",
      "epoch: 03, loss: -0.09581\n",
      "epoch: 04, loss: -0.09743\n",
      "epoch: 05, loss: -0.09778\n",
      "epoch: 06, loss: -0.09826\n",
      "epoch: 07, loss: -0.09850\n",
      "epoch: 08, loss: -0.09803\n",
      "epoch: 09, loss: -0.09836\n",
      "torch.Size([400, 64])\n"
     ]
    },
    {
     "name": "stderr",
     "output_type": "stream",
     "text": [
      "\r",
      " 53%|████████████████████████████████████████████████████████████████████████████████████                                                                           | 529/1000 [3:43:41<2:09:09, 16.45s/it]"
     ]
    },
    {
     "name": "stdout",
     "output_type": "stream",
     "text": [
      "eigenvalues shape torch.Size([5]) eigenvectors shape torch.Size([5, 400])\n",
      "529 /home/phdcs2/Hard_Disk/Datasets/Deep-Spectral-Segmentation/data/object-segmentation/ECSSD/features/dino_vits16/0530.pth\n",
      "dict_keys(['k', 'indices', 'file', 'id', 'model_name', 'patch_size', 'shape'])\n",
      "0530\n",
      "Starting Training\n",
      "epoch: 00, loss: 0.00268\n",
      "epoch: 01, loss: -0.00713\n",
      "epoch: 02, loss: -0.01068\n",
      "epoch: 03, loss: -0.01273\n",
      "epoch: 04, loss: -0.01367\n",
      "epoch: 05, loss: -0.01418\n",
      "epoch: 06, loss: -0.01462\n",
      "epoch: 07, loss: -0.01492\n",
      "epoch: 08, loss: -0.01499\n",
      "epoch: 09, loss: -0.01518\n",
      "torch.Size([500, 64])\n"
     ]
    },
    {
     "name": "stderr",
     "output_type": "stream",
     "text": [
      "\r",
      " 53%|████████████████████████████████████████████████████████████████████████████████████▎                                                                          | 530/1000 [3:44:00<2:14:35, 17.18s/it]"
     ]
    },
    {
     "name": "stdout",
     "output_type": "stream",
     "text": [
      "eigenvalues shape torch.Size([5]) eigenvectors shape torch.Size([5, 500])\n",
      "530 /home/phdcs2/Hard_Disk/Datasets/Deep-Spectral-Segmentation/data/object-segmentation/ECSSD/features/dino_vits16/0531.pth\n",
      "dict_keys(['k', 'indices', 'file', 'id', 'model_name', 'patch_size', 'shape'])\n",
      "0531\n",
      "Starting Training\n",
      "epoch: 00, loss: -0.04295\n",
      "epoch: 01, loss: -0.08087\n",
      "epoch: 02, loss: -0.08578\n",
      "epoch: 03, loss: -0.08705\n",
      "epoch: 04, loss: -0.08951\n",
      "epoch: 05, loss: -0.09200\n",
      "epoch: 06, loss: -0.09100\n",
      "epoch: 07, loss: -0.09215\n",
      "epoch: 08, loss: -0.09254\n",
      "epoch: 09, loss: -0.08950\n",
      "torch.Size([450, 64])\n"
     ]
    },
    {
     "name": "stderr",
     "output_type": "stream",
     "text": [
      "\r",
      " 53%|████████████████████████████████████████████████████████████████████████████████████▍                                                                          | 531/1000 [3:44:17<2:13:48, 17.12s/it]"
     ]
    },
    {
     "name": "stdout",
     "output_type": "stream",
     "text": [
      "eigenvalues shape torch.Size([5]) eigenvectors shape torch.Size([5, 450])\n",
      "531 /home/phdcs2/Hard_Disk/Datasets/Deep-Spectral-Segmentation/data/object-segmentation/ECSSD/features/dino_vits16/0532.pth\n",
      "dict_keys(['k', 'indices', 'file', 'id', 'model_name', 'patch_size', 'shape'])\n",
      "0532\n",
      "Starting Training\n",
      "epoch: 00, loss: -0.03195\n",
      "epoch: 01, loss: -0.05240\n",
      "epoch: 02, loss: -0.05822\n",
      "epoch: 03, loss: -0.06095\n",
      "epoch: 04, loss: -0.06266\n",
      "epoch: 05, loss: -0.06608\n",
      "epoch: 06, loss: -0.06368\n",
      "epoch: 07, loss: -0.06300\n",
      "epoch: 08, loss: -0.06299\n",
      "epoch: 09, loss: -0.06580\n",
      "torch.Size([450, 64])\n"
     ]
    },
    {
     "name": "stderr",
     "output_type": "stream",
     "text": [
      "\r",
      " 53%|████████████████████████████████████████████████████████████████████████████████████▌                                                                          | 532/1000 [3:44:35<2:15:59, 17.43s/it]"
     ]
    },
    {
     "name": "stdout",
     "output_type": "stream",
     "text": [
      "eigenvalues shape torch.Size([5]) eigenvectors shape torch.Size([5, 450])\n",
      "532 /home/phdcs2/Hard_Disk/Datasets/Deep-Spectral-Segmentation/data/object-segmentation/ECSSD/features/dino_vits16/0533.pth\n",
      "dict_keys(['k', 'indices', 'file', 'id', 'model_name', 'patch_size', 'shape'])\n",
      "0533\n",
      "Starting Training\n",
      "epoch: 00, loss: -0.06626\n",
      "epoch: 01, loss: -0.09636\n",
      "epoch: 02, loss: -0.10219\n",
      "epoch: 03, loss: -0.10392\n",
      "epoch: 04, loss: -0.10556\n",
      "epoch: 05, loss: -0.10624\n",
      "epoch: 06, loss: -0.10627\n",
      "epoch: 07, loss: -0.10832\n",
      "epoch: 08, loss: -0.10656\n",
      "epoch: 09, loss: -0.10682\n",
      "torch.Size([400, 64])\n"
     ]
    },
    {
     "name": "stderr",
     "output_type": "stream",
     "text": [
      "\r",
      " 53%|████████████████████████████████████████████████████████████████████████████████████▋                                                                          | 533/1000 [3:44:51<2:13:31, 17.16s/it]"
     ]
    },
    {
     "name": "stdout",
     "output_type": "stream",
     "text": [
      "eigenvalues shape torch.Size([5]) eigenvectors shape torch.Size([5, 400])\n",
      "533 /home/phdcs2/Hard_Disk/Datasets/Deep-Spectral-Segmentation/data/object-segmentation/ECSSD/features/dino_vits16/0534.pth\n",
      "dict_keys(['k', 'indices', 'file', 'id', 'model_name', 'patch_size', 'shape'])\n",
      "0534\n",
      "Starting Training\n",
      "epoch: 00, loss: -0.02200\n",
      "epoch: 01, loss: -0.03803\n",
      "epoch: 02, loss: -0.03964\n",
      "epoch: 03, loss: -0.04081\n",
      "epoch: 04, loss: -0.04064\n",
      "epoch: 05, loss: -0.04107\n",
      "epoch: 06, loss: -0.04111\n",
      "epoch: 07, loss: -0.04134\n",
      "epoch: 08, loss: -0.04162\n",
      "epoch: 09, loss: -0.04181\n",
      "torch.Size([450, 64])\n"
     ]
    },
    {
     "name": "stderr",
     "output_type": "stream",
     "text": [
      "\r",
      " 53%|████████████████████████████████████████████████████████████████████████████████████▉                                                                          | 534/1000 [3:45:09<2:13:48, 17.23s/it]"
     ]
    },
    {
     "name": "stdout",
     "output_type": "stream",
     "text": [
      "eigenvalues shape torch.Size([5]) eigenvectors shape torch.Size([5, 450])\n",
      "534 /home/phdcs2/Hard_Disk/Datasets/Deep-Spectral-Segmentation/data/object-segmentation/ECSSD/features/dino_vits16/0535.pth\n",
      "dict_keys(['k', 'indices', 'file', 'id', 'model_name', 'patch_size', 'shape'])\n",
      "0535\n",
      "Starting Training\n",
      "epoch: 00, loss: 0.00811\n",
      "epoch: 01, loss: 0.00086\n",
      "epoch: 02, loss: -0.00393\n",
      "epoch: 03, loss: -0.00613\n",
      "epoch: 04, loss: -0.00743\n",
      "epoch: 05, loss: -0.00885\n",
      "epoch: 06, loss: -0.00950\n",
      "epoch: 07, loss: -0.01015\n",
      "epoch: 08, loss: -0.01104\n",
      "epoch: 09, loss: -0.01117\n",
      "torch.Size([400, 64])\n"
     ]
    },
    {
     "name": "stderr",
     "output_type": "stream",
     "text": [
      "\r",
      " 54%|█████████████████████████████████████████████████████████████████████████████████████                                                                          | 535/1000 [3:45:25<2:11:01, 16.91s/it]"
     ]
    },
    {
     "name": "stdout",
     "output_type": "stream",
     "text": [
      "eigenvalues shape torch.Size([5]) eigenvectors shape torch.Size([5, 400])\n",
      "535 /home/phdcs2/Hard_Disk/Datasets/Deep-Spectral-Segmentation/data/object-segmentation/ECSSD/features/dino_vits16/0536.pth\n",
      "dict_keys(['k', 'indices', 'file', 'id', 'model_name', 'patch_size', 'shape'])\n",
      "0536\n",
      "Starting Training\n",
      "epoch: 00, loss: -0.00314\n",
      "epoch: 01, loss: -0.02046\n",
      "epoch: 02, loss: -0.02509\n",
      "epoch: 03, loss: -0.02680\n",
      "epoch: 04, loss: -0.02729\n",
      "epoch: 05, loss: -0.02772\n",
      "epoch: 06, loss: -0.02800\n",
      "epoch: 07, loss: -0.02809\n",
      "epoch: 08, loss: -0.02818\n",
      "epoch: 09, loss: -0.02834\n",
      "torch.Size([450, 64])\n"
     ]
    },
    {
     "name": "stderr",
     "output_type": "stream",
     "text": [
      "\r",
      " 54%|█████████████████████████████████████████████████████████████████████████████████████▏                                                                         | 536/1000 [3:45:43<2:12:40, 17.16s/it]"
     ]
    },
    {
     "name": "stdout",
     "output_type": "stream",
     "text": [
      "eigenvalues shape torch.Size([5]) eigenvectors shape torch.Size([5, 450])\n",
      "536 /home/phdcs2/Hard_Disk/Datasets/Deep-Spectral-Segmentation/data/object-segmentation/ECSSD/features/dino_vits16/0537.pth\n",
      "dict_keys(['k', 'indices', 'file', 'id', 'model_name', 'patch_size', 'shape'])\n",
      "0537\n",
      "Starting Training\n",
      "epoch: 00, loss: -0.02981\n",
      "epoch: 01, loss: -0.05878\n",
      "epoch: 02, loss: -0.06075\n",
      "epoch: 03, loss: -0.06084\n",
      "epoch: 04, loss: -0.06118\n",
      "epoch: 05, loss: -0.06136\n",
      "epoch: 06, loss: -0.06168\n",
      "epoch: 07, loss: -0.06154\n",
      "epoch: 08, loss: -0.06176\n",
      "epoch: 09, loss: -0.06175\n",
      "torch.Size([450, 64])\n"
     ]
    },
    {
     "name": "stderr",
     "output_type": "stream",
     "text": [
      "\r",
      " 54%|█████████████████████████████████████████████████████████████████████████████████████▍                                                                         | 537/1000 [3:46:01<2:14:07, 17.38s/it]"
     ]
    },
    {
     "name": "stdout",
     "output_type": "stream",
     "text": [
      "eigenvalues shape torch.Size([5]) eigenvectors shape torch.Size([5, 450])\n",
      "537 /home/phdcs2/Hard_Disk/Datasets/Deep-Spectral-Segmentation/data/object-segmentation/ECSSD/features/dino_vits16/0538.pth\n",
      "dict_keys(['k', 'indices', 'file', 'id', 'model_name', 'patch_size', 'shape'])\n",
      "0538\n",
      "Starting Training\n",
      "epoch: 00, loss: 0.00656\n",
      "epoch: 01, loss: 0.00211\n",
      "epoch: 02, loss: 0.00006\n",
      "epoch: 03, loss: -0.00122\n",
      "epoch: 04, loss: -0.00226\n",
      "epoch: 05, loss: -0.00309\n",
      "epoch: 06, loss: -0.00371\n",
      "epoch: 07, loss: -0.00408\n",
      "epoch: 08, loss: -0.00456\n",
      "epoch: 09, loss: -0.00475\n",
      "torch.Size([400, 64])\n"
     ]
    },
    {
     "name": "stderr",
     "output_type": "stream",
     "text": [
      "\r",
      " 54%|█████████████████████████████████████████████████████████████████████████████████████▌                                                                         | 538/1000 [3:46:16<2:09:56, 16.88s/it]"
     ]
    },
    {
     "name": "stdout",
     "output_type": "stream",
     "text": [
      "eigenvalues shape torch.Size([5]) eigenvectors shape torch.Size([5, 400])\n",
      "538 /home/phdcs2/Hard_Disk/Datasets/Deep-Spectral-Segmentation/data/object-segmentation/ECSSD/features/dino_vits16/0539.pth\n",
      "dict_keys(['k', 'indices', 'file', 'id', 'model_name', 'patch_size', 'shape'])\n",
      "0539\n",
      "Starting Training\n",
      "epoch: 00, loss: -0.00789\n",
      "epoch: 01, loss: -0.02873\n",
      "epoch: 02, loss: -0.03315\n",
      "epoch: 03, loss: -0.03418\n",
      "epoch: 04, loss: -0.03462\n",
      "epoch: 05, loss: -0.03474\n",
      "epoch: 06, loss: -0.03468\n",
      "epoch: 07, loss: -0.03499\n",
      "epoch: 08, loss: -0.03504\n",
      "epoch: 09, loss: -0.03492\n",
      "torch.Size([425, 64])\n"
     ]
    },
    {
     "name": "stderr",
     "output_type": "stream",
     "text": [
      "\r",
      " 54%|█████████████████████████████████████████████████████████████████████████████████████▋                                                                         | 539/1000 [3:46:34<2:10:52, 17.03s/it]"
     ]
    },
    {
     "name": "stdout",
     "output_type": "stream",
     "text": [
      "eigenvalues shape torch.Size([5]) eigenvectors shape torch.Size([5, 425])\n",
      "539 /home/phdcs2/Hard_Disk/Datasets/Deep-Spectral-Segmentation/data/object-segmentation/ECSSD/features/dino_vits16/0540.pth\n",
      "dict_keys(['k', 'indices', 'file', 'id', 'model_name', 'patch_size', 'shape'])\n",
      "0540\n",
      "Starting Training\n",
      "epoch: 00, loss: -0.02782\n",
      "epoch: 01, loss: -0.06197\n",
      "epoch: 02, loss: -0.06162\n",
      "epoch: 03, loss: -0.06469\n",
      "epoch: 04, loss: -0.06941\n",
      "epoch: 05, loss: -0.06692\n",
      "epoch: 06, loss: -0.07001\n",
      "epoch: 07, loss: -0.06602\n",
      "epoch: 08, loss: -0.06807\n",
      "epoch: 09, loss: -0.06635\n",
      "torch.Size([450, 64])\n"
     ]
    },
    {
     "name": "stderr",
     "output_type": "stream",
     "text": [
      "\r",
      " 54%|█████████████████████████████████████████████████████████████████████████████████████▊                                                                         | 540/1000 [3:46:52<2:13:27, 17.41s/it]"
     ]
    },
    {
     "name": "stdout",
     "output_type": "stream",
     "text": [
      "eigenvalues shape torch.Size([5]) eigenvectors shape torch.Size([5, 450])\n",
      "540 /home/phdcs2/Hard_Disk/Datasets/Deep-Spectral-Segmentation/data/object-segmentation/ECSSD/features/dino_vits16/0541.pth\n",
      "dict_keys(['k', 'indices', 'file', 'id', 'model_name', 'patch_size', 'shape'])\n",
      "0541\n",
      "Starting Training\n",
      "epoch: 00, loss: -0.01426\n",
      "epoch: 01, loss: -0.02973\n",
      "epoch: 02, loss: -0.03297\n",
      "epoch: 03, loss: -0.03395\n",
      "epoch: 04, loss: -0.03449\n",
      "epoch: 05, loss: -0.03487\n",
      "epoch: 06, loss: -0.03494\n",
      "epoch: 07, loss: -0.03512\n",
      "epoch: 08, loss: -0.03522\n",
      "epoch: 09, loss: -0.03527\n",
      "torch.Size([400, 64])\n"
     ]
    },
    {
     "name": "stderr",
     "output_type": "stream",
     "text": [
      "\r",
      " 54%|██████████████████████████████████████████████████████████████████████████████████████                                                                         | 541/1000 [3:47:07<2:07:42, 16.69s/it]"
     ]
    },
    {
     "name": "stdout",
     "output_type": "stream",
     "text": [
      "eigenvalues shape torch.Size([5]) eigenvectors shape torch.Size([5, 400])\n",
      "541 /home/phdcs2/Hard_Disk/Datasets/Deep-Spectral-Segmentation/data/object-segmentation/ECSSD/features/dino_vits16/0542.pth\n",
      "dict_keys(['k', 'indices', 'file', 'id', 'model_name', 'patch_size', 'shape'])\n",
      "0542\n",
      "Starting Training\n",
      "epoch: 00, loss: -0.03851\n",
      "epoch: 01, loss: -0.05347\n",
      "epoch: 02, loss: -0.05434\n",
      "epoch: 03, loss: -0.05479\n",
      "epoch: 04, loss: -0.05538\n",
      "epoch: 05, loss: -0.05521\n",
      "epoch: 06, loss: -0.05544\n",
      "epoch: 07, loss: -0.05554\n",
      "epoch: 08, loss: -0.05569\n",
      "epoch: 09, loss: -0.05578\n",
      "torch.Size([450, 64])\n"
     ]
    },
    {
     "name": "stderr",
     "output_type": "stream",
     "text": [
      "\r",
      " 54%|██████████████████████████████████████████████████████████████████████████████████████▏                                                                        | 542/1000 [3:47:21<2:01:39, 15.94s/it]"
     ]
    },
    {
     "name": "stdout",
     "output_type": "stream",
     "text": [
      "eigenvalues shape torch.Size([5]) eigenvectors shape torch.Size([5, 450])\n",
      "542 /home/phdcs2/Hard_Disk/Datasets/Deep-Spectral-Segmentation/data/object-segmentation/ECSSD/features/dino_vits16/0543.pth\n",
      "dict_keys(['k', 'indices', 'file', 'id', 'model_name', 'patch_size', 'shape'])\n",
      "0543\n",
      "Starting Training\n",
      "epoch: 00, loss: -0.00561\n",
      "epoch: 01, loss: -0.02076\n",
      "epoch: 02, loss: -0.02576\n",
      "epoch: 03, loss: -0.02732\n",
      "epoch: 04, loss: -0.02785\n",
      "epoch: 05, loss: -0.02764\n",
      "epoch: 06, loss: -0.02848\n",
      "epoch: 07, loss: -0.02879\n",
      "epoch: 08, loss: -0.02885\n",
      "epoch: 09, loss: -0.02898\n",
      "torch.Size([400, 64])\n"
     ]
    },
    {
     "name": "stderr",
     "output_type": "stream",
     "text": [
      "\r",
      " 54%|██████████████████████████████████████████████████████████████████████████████████████▎                                                                        | 543/1000 [3:47:36<1:58:48, 15.60s/it]"
     ]
    },
    {
     "name": "stdout",
     "output_type": "stream",
     "text": [
      "eigenvalues shape torch.Size([5]) eigenvectors shape torch.Size([5, 400])\n",
      "543 /home/phdcs2/Hard_Disk/Datasets/Deep-Spectral-Segmentation/data/object-segmentation/ECSSD/features/dino_vits16/0544.pth\n",
      "dict_keys(['k', 'indices', 'file', 'id', 'model_name', 'patch_size', 'shape'])\n",
      "0544\n",
      "Starting Training\n",
      "epoch: 00, loss: -0.02998\n",
      "epoch: 01, loss: -0.06112\n",
      "epoch: 02, loss: -0.06762\n",
      "epoch: 03, loss: -0.07036\n",
      "epoch: 04, loss: -0.07036\n",
      "epoch: 05, loss: -0.07019\n",
      "epoch: 06, loss: -0.07276\n",
      "epoch: 07, loss: -0.07490\n",
      "epoch: 08, loss: -0.07628\n",
      "epoch: 09, loss: -0.07532\n",
      "torch.Size([400, 64])\n"
     ]
    },
    {
     "name": "stderr",
     "output_type": "stream",
     "text": [
      "\r",
      " 54%|██████████████████████████████████████████████████████████████████████████████████████▍                                                                        | 544/1000 [3:47:53<2:02:34, 16.13s/it]"
     ]
    },
    {
     "name": "stdout",
     "output_type": "stream",
     "text": [
      "eigenvalues shape torch.Size([5]) eigenvectors shape torch.Size([5, 400])\n",
      "544 /home/phdcs2/Hard_Disk/Datasets/Deep-Spectral-Segmentation/data/object-segmentation/ECSSD/features/dino_vits16/0545.pth\n",
      "dict_keys(['k', 'indices', 'file', 'id', 'model_name', 'patch_size', 'shape'])\n",
      "0545\n",
      "Starting Training\n",
      "epoch: 00, loss: 0.00217\n",
      "epoch: 01, loss: -0.00961\n",
      "epoch: 02, loss: -0.01500\n",
      "epoch: 03, loss: -0.01806\n",
      "epoch: 04, loss: -0.01946\n",
      "epoch: 05, loss: -0.02044\n",
      "epoch: 06, loss: -0.02080\n",
      "epoch: 07, loss: -0.02133\n",
      "epoch: 08, loss: -0.02173\n",
      "epoch: 09, loss: -0.02155\n",
      "torch.Size([400, 64])\n"
     ]
    },
    {
     "name": "stderr",
     "output_type": "stream",
     "text": [
      "\r",
      " 55%|██████████████████████████████████████████████████████████████████████████████████████▋                                                                        | 545/1000 [3:48:10<2:03:34, 16.30s/it]"
     ]
    },
    {
     "name": "stdout",
     "output_type": "stream",
     "text": [
      "eigenvalues shape torch.Size([5]) eigenvectors shape torch.Size([5, 400])\n",
      "545 /home/phdcs2/Hard_Disk/Datasets/Deep-Spectral-Segmentation/data/object-segmentation/ECSSD/features/dino_vits16/0546.pth\n",
      "dict_keys(['k', 'indices', 'file', 'id', 'model_name', 'patch_size', 'shape'])\n",
      "0546\n",
      "Starting Training\n",
      "epoch: 00, loss: 0.00342\n",
      "epoch: 01, loss: -0.00474\n",
      "epoch: 02, loss: -0.00869\n",
      "epoch: 03, loss: -0.01091\n",
      "epoch: 04, loss: -0.01232\n",
      "epoch: 05, loss: -0.01308\n",
      "epoch: 06, loss: -0.01356\n",
      "epoch: 07, loss: -0.01403\n",
      "epoch: 08, loss: -0.01427\n",
      "epoch: 09, loss: -0.01448\n",
      "torch.Size([450, 64])\n"
     ]
    },
    {
     "name": "stderr",
     "output_type": "stream",
     "text": [
      "\r",
      " 55%|██████████████████████████████████████████████████████████████████████████████████████▊                                                                        | 546/1000 [3:48:29<2:08:38, 17.00s/it]"
     ]
    },
    {
     "name": "stdout",
     "output_type": "stream",
     "text": [
      "eigenvalues shape torch.Size([5]) eigenvectors shape torch.Size([5, 450])\n",
      "546 /home/phdcs2/Hard_Disk/Datasets/Deep-Spectral-Segmentation/data/object-segmentation/ECSSD/features/dino_vits16/0547.pth\n",
      "dict_keys(['k', 'indices', 'file', 'id', 'model_name', 'patch_size', 'shape'])\n",
      "0547\n",
      "Starting Training\n",
      "epoch: 00, loss: -0.02466\n",
      "epoch: 01, loss: -0.04561\n",
      "epoch: 02, loss: -0.04814\n",
      "epoch: 03, loss: -0.04824\n",
      "epoch: 04, loss: -0.04848\n",
      "epoch: 05, loss: -0.04863\n",
      "epoch: 06, loss: -0.04888\n",
      "epoch: 07, loss: -0.04894\n",
      "epoch: 08, loss: -0.04900\n",
      "epoch: 09, loss: -0.04923\n",
      "torch.Size([450, 64])\n"
     ]
    },
    {
     "name": "stderr",
     "output_type": "stream",
     "text": [
      "\r",
      " 55%|██████████████████████████████████████████████████████████████████████████████████████▉                                                                        | 547/1000 [3:48:45<2:06:30, 16.76s/it]"
     ]
    },
    {
     "name": "stdout",
     "output_type": "stream",
     "text": [
      "eigenvalues shape torch.Size([5]) eigenvectors shape torch.Size([5, 450])\n",
      "547 /home/phdcs2/Hard_Disk/Datasets/Deep-Spectral-Segmentation/data/object-segmentation/ECSSD/features/dino_vits16/0548.pth\n",
      "dict_keys(['k', 'indices', 'file', 'id', 'model_name', 'patch_size', 'shape'])\n",
      "0548\n",
      "Starting Training\n",
      "epoch: 00, loss: -0.03050\n",
      "epoch: 01, loss: -0.05278\n",
      "epoch: 02, loss: -0.05478\n",
      "epoch: 03, loss: -0.05407\n",
      "epoch: 04, loss: -0.05505\n",
      "epoch: 05, loss: -0.05446\n",
      "epoch: 06, loss: -0.05588\n",
      "epoch: 07, loss: -0.05516\n",
      "epoch: 08, loss: -0.05636\n",
      "epoch: 09, loss: -0.05627\n",
      "torch.Size([425, 64])\n"
     ]
    },
    {
     "name": "stderr",
     "output_type": "stream",
     "text": [
      "\r",
      " 55%|███████████████████████████████████████████████████████████████████████████████████████▏                                                                       | 548/1000 [3:49:01<2:05:20, 16.64s/it]"
     ]
    },
    {
     "name": "stdout",
     "output_type": "stream",
     "text": [
      "eigenvalues shape torch.Size([5]) eigenvectors shape torch.Size([5, 425])\n",
      "548 /home/phdcs2/Hard_Disk/Datasets/Deep-Spectral-Segmentation/data/object-segmentation/ECSSD/features/dino_vits16/0549.pth\n",
      "dict_keys(['k', 'indices', 'file', 'id', 'model_name', 'patch_size', 'shape'])\n",
      "0549\n",
      "Starting Training\n",
      "epoch: 00, loss: -0.01512\n",
      "epoch: 01, loss: -0.03828\n",
      "epoch: 02, loss: -0.04073\n",
      "epoch: 03, loss: -0.04194\n",
      "epoch: 04, loss: -0.04219\n",
      "epoch: 05, loss: -0.04256\n",
      "epoch: 06, loss: -0.04244\n",
      "epoch: 07, loss: -0.04294\n",
      "epoch: 08, loss: -0.04300\n",
      "epoch: 09, loss: -0.04275\n",
      "torch.Size([400, 64])\n"
     ]
    },
    {
     "name": "stderr",
     "output_type": "stream",
     "text": [
      "\r",
      " 55%|███████████████████████████████████████████████████████████████████████████████████████▎                                                                       | 549/1000 [3:49:17<2:02:33, 16.31s/it]"
     ]
    },
    {
     "name": "stdout",
     "output_type": "stream",
     "text": [
      "eigenvalues shape torch.Size([5]) eigenvectors shape torch.Size([5, 400])\n",
      "549 /home/phdcs2/Hard_Disk/Datasets/Deep-Spectral-Segmentation/data/object-segmentation/ECSSD/features/dino_vits16/0550.pth\n",
      "dict_keys(['k', 'indices', 'file', 'id', 'model_name', 'patch_size', 'shape'])\n",
      "0550\n",
      "Starting Training\n",
      "epoch: 00, loss: -0.07351\n",
      "epoch: 01, loss: -0.10219\n",
      "epoch: 02, loss: -0.10498\n",
      "epoch: 03, loss: -0.10566\n",
      "epoch: 04, loss: -0.10805\n",
      "epoch: 05, loss: -0.10694\n",
      "epoch: 06, loss: -0.10946\n",
      "epoch: 07, loss: -0.10838\n",
      "epoch: 08, loss: -0.10700\n",
      "epoch: 09, loss: -0.11122\n",
      "torch.Size([425, 64])\n"
     ]
    },
    {
     "name": "stderr",
     "output_type": "stream",
     "text": [
      "\r",
      " 55%|███████████████████████████████████████████████████████████████████████████████████████▍                                                                       | 550/1000 [3:49:33<2:02:03, 16.28s/it]"
     ]
    },
    {
     "name": "stdout",
     "output_type": "stream",
     "text": [
      "eigenvalues shape torch.Size([5]) eigenvectors shape torch.Size([5, 425])\n",
      "550 /home/phdcs2/Hard_Disk/Datasets/Deep-Spectral-Segmentation/data/object-segmentation/ECSSD/features/dino_vits16/0551.pth\n",
      "dict_keys(['k', 'indices', 'file', 'id', 'model_name', 'patch_size', 'shape'])\n",
      "0551\n",
      "Starting Training\n",
      "epoch: 00, loss: 0.00085\n",
      "epoch: 01, loss: -0.01131\n",
      "epoch: 02, loss: -0.01496\n",
      "epoch: 03, loss: -0.01653\n",
      "epoch: 04, loss: -0.01757\n",
      "epoch: 05, loss: -0.01809\n",
      "epoch: 06, loss: -0.01842\n",
      "epoch: 07, loss: -0.01882\n",
      "epoch: 08, loss: -0.01893\n",
      "epoch: 09, loss: -0.01911\n",
      "torch.Size([400, 64])\n"
     ]
    },
    {
     "name": "stderr",
     "output_type": "stream",
     "text": [
      "\r",
      " 55%|███████████████████████████████████████████████████████████████████████████████████████▌                                                                       | 551/1000 [3:49:47<1:57:24, 15.69s/it]"
     ]
    },
    {
     "name": "stdout",
     "output_type": "stream",
     "text": [
      "eigenvalues shape torch.Size([5]) eigenvectors shape torch.Size([5, 400])\n",
      "551 /home/phdcs2/Hard_Disk/Datasets/Deep-Spectral-Segmentation/data/object-segmentation/ECSSD/features/dino_vits16/0552.pth\n",
      "dict_keys(['k', 'indices', 'file', 'id', 'model_name', 'patch_size', 'shape'])\n",
      "0552\n",
      "Starting Training\n",
      "epoch: 00, loss: -0.09456\n",
      "epoch: 01, loss: -0.11646\n",
      "epoch: 02, loss: -0.11700\n",
      "epoch: 03, loss: -0.11721\n",
      "epoch: 04, loss: -0.11809\n",
      "epoch: 05, loss: -0.11746\n",
      "epoch: 06, loss: -0.11805\n",
      "epoch: 07, loss: -0.11817\n",
      "epoch: 08, loss: -0.11790\n",
      "epoch: 09, loss: -0.11818\n",
      "torch.Size([400, 64])\n"
     ]
    },
    {
     "name": "stderr",
     "output_type": "stream",
     "text": [
      "\r",
      " 55%|███████████████████████████████████████████████████████████████████████████████████████▊                                                                       | 552/1000 [3:50:04<1:59:37, 16.02s/it]"
     ]
    },
    {
     "name": "stdout",
     "output_type": "stream",
     "text": [
      "eigenvalues shape torch.Size([5]) eigenvectors shape torch.Size([5, 400])\n",
      "552 /home/phdcs2/Hard_Disk/Datasets/Deep-Spectral-Segmentation/data/object-segmentation/ECSSD/features/dino_vits16/0553.pth\n",
      "dict_keys(['k', 'indices', 'file', 'id', 'model_name', 'patch_size', 'shape'])\n",
      "0553\n",
      "Starting Training\n",
      "epoch: 00, loss: -0.01209\n",
      "epoch: 01, loss: -0.04061\n",
      "epoch: 02, loss: -0.04594\n",
      "epoch: 03, loss: -0.04990\n",
      "epoch: 04, loss: -0.04972\n",
      "epoch: 05, loss: -0.05099\n",
      "epoch: 06, loss: -0.05160\n",
      "epoch: 07, loss: -0.05303\n",
      "epoch: 08, loss: -0.05233\n",
      "epoch: 09, loss: -0.05206\n",
      "torch.Size([450, 64])\n"
     ]
    },
    {
     "name": "stderr",
     "output_type": "stream",
     "text": [
      "\r",
      " 55%|███████████████████████████████████████████████████████████████████████████████████████▉                                                                       | 553/1000 [3:50:21<2:00:50, 16.22s/it]"
     ]
    },
    {
     "name": "stdout",
     "output_type": "stream",
     "text": [
      "eigenvalues shape torch.Size([5]) eigenvectors shape torch.Size([5, 450])\n",
      "553 /home/phdcs2/Hard_Disk/Datasets/Deep-Spectral-Segmentation/data/object-segmentation/ECSSD/features/dino_vits16/0554.pth\n",
      "dict_keys(['k', 'indices', 'file', 'id', 'model_name', 'patch_size', 'shape'])\n",
      "0554\n",
      "Starting Training\n",
      "epoch: 00, loss: -0.01594\n",
      "epoch: 01, loss: -0.03807\n",
      "epoch: 02, loss: -0.04152\n",
      "epoch: 03, loss: -0.04189\n",
      "epoch: 04, loss: -0.04224\n",
      "epoch: 05, loss: -0.04238\n",
      "epoch: 06, loss: -0.04260\n",
      "epoch: 07, loss: -0.04269\n",
      "epoch: 08, loss: -0.04288\n",
      "epoch: 09, loss: -0.04295\n",
      "torch.Size([450, 64])\n"
     ]
    },
    {
     "name": "stderr",
     "output_type": "stream",
     "text": [
      "\r",
      " 55%|████████████████████████████████████████████████████████████████████████████████████████                                                                       | 554/1000 [3:50:36<1:58:07, 15.89s/it]"
     ]
    },
    {
     "name": "stdout",
     "output_type": "stream",
     "text": [
      "eigenvalues shape torch.Size([5]) eigenvectors shape torch.Size([5, 450])\n",
      "554 /home/phdcs2/Hard_Disk/Datasets/Deep-Spectral-Segmentation/data/object-segmentation/ECSSD/features/dino_vits16/0555.pth\n",
      "dict_keys(['k', 'indices', 'file', 'id', 'model_name', 'patch_size', 'shape'])\n",
      "0555\n",
      "Starting Training\n",
      "epoch: 00, loss: -0.04925\n",
      "epoch: 01, loss: -0.06548\n",
      "epoch: 02, loss: -0.06638\n",
      "epoch: 03, loss: -0.06675\n",
      "epoch: 04, loss: -0.06728\n",
      "epoch: 05, loss: -0.06726\n",
      "epoch: 06, loss: -0.06738\n",
      "epoch: 07, loss: -0.06754\n",
      "epoch: 08, loss: -0.06770\n",
      "epoch: 09, loss: -0.06788\n",
      "torch.Size([500, 64])\n"
     ]
    },
    {
     "name": "stderr",
     "output_type": "stream",
     "text": [
      "\r",
      " 56%|████████████████████████████████████████████████████████████████████████████████████████▏                                                                      | 555/1000 [3:50:49<1:52:02, 15.11s/it]"
     ]
    },
    {
     "name": "stdout",
     "output_type": "stream",
     "text": [
      "eigenvalues shape torch.Size([5]) eigenvectors shape torch.Size([5, 500])\n",
      "555 /home/phdcs2/Hard_Disk/Datasets/Deep-Spectral-Segmentation/data/object-segmentation/ECSSD/features/dino_vits16/0556.pth\n",
      "dict_keys(['k', 'indices', 'file', 'id', 'model_name', 'patch_size', 'shape'])\n",
      "0556\n",
      "Starting Training\n",
      "epoch: 00, loss: -0.02027\n",
      "epoch: 01, loss: -0.04920\n",
      "epoch: 02, loss: -0.05162\n",
      "epoch: 03, loss: -0.05263\n",
      "epoch: 04, loss: -0.05715\n",
      "epoch: 05, loss: -0.05527\n",
      "epoch: 06, loss: -0.05635\n",
      "epoch: 07, loss: -0.05703\n",
      "epoch: 08, loss: -0.05734\n",
      "epoch: 09, loss: -0.05792\n",
      "torch.Size([525, 64])\n"
     ]
    },
    {
     "name": "stderr",
     "output_type": "stream",
     "text": [
      "\r",
      " 56%|████████████████████████████████████████████████████████████████████████████████████████▍                                                                      | 556/1000 [3:51:16<2:17:18, 18.56s/it]"
     ]
    },
    {
     "name": "stdout",
     "output_type": "stream",
     "text": [
      "eigenvalues shape torch.Size([5]) eigenvectors shape torch.Size([5, 525])\n",
      "556 /home/phdcs2/Hard_Disk/Datasets/Deep-Spectral-Segmentation/data/object-segmentation/ECSSD/features/dino_vits16/0557.pth\n",
      "dict_keys(['k', 'indices', 'file', 'id', 'model_name', 'patch_size', 'shape'])\n",
      "0557\n",
      "Starting Training\n",
      "epoch: 00, loss: -0.02723\n",
      "epoch: 01, loss: -0.05162\n",
      "epoch: 02, loss: -0.05777\n",
      "epoch: 03, loss: -0.05687\n",
      "epoch: 04, loss: -0.05421\n",
      "epoch: 05, loss: -0.05975\n",
      "epoch: 06, loss: -0.05756\n",
      "epoch: 07, loss: -0.05921\n",
      "epoch: 08, loss: -0.06033\n"
     ]
    },
    {
     "name": "stderr",
     "output_type": "stream",
     "text": [
      "\r",
      " 56%|████████████████████████████████████████████████████████████████████████████████████████▍                                                                      | 556/1000 [3:51:21<3:04:45, 24.97s/it]"
     ]
    },
    {
     "name": "stdout",
     "output_type": "stream",
     "text": [
      "epoch: 09, loss: -0.06075\n",
      "torch.Size([450, 64])\n"
     ]
    },
    {
     "name": "stderr",
     "output_type": "stream",
     "text": [
      "\n"
     ]
    },
    {
     "ename": "ValueError",
     "evalue": "all input arrays must have the same shape",
     "output_type": "error",
     "traceback": [
      "\u001b[0;31m---------------------------------------------------------------------------\u001b[0m",
      "\u001b[0;31mValueError\u001b[0m                                Traceback (most recent call last)",
      "Cell \u001b[0;32mIn[6], line 172\u001b[0m\n\u001b[1;32m    170\u001b[0m \u001b[38;5;66;03m# Color affinities (of type scipy.sparse.csr_matrix)\u001b[39;00m\n\u001b[1;32m    171\u001b[0m \u001b[38;5;28;01mif\u001b[39;00m which_color_matrix \u001b[38;5;241m==\u001b[39m \u001b[38;5;124m'\u001b[39m\u001b[38;5;124mknn\u001b[39m\u001b[38;5;124m'\u001b[39m:\n\u001b[0;32m--> 172\u001b[0m     W_lr \u001b[38;5;241m=\u001b[39m \u001b[43mutils\u001b[49m\u001b[38;5;241;43m.\u001b[39;49m\u001b[43mknn_affinity\u001b[49m\u001b[43m(\u001b[49m\u001b[43mimage_lr\u001b[49m\u001b[43m \u001b[49m\u001b[38;5;241;43m/\u001b[39;49m\u001b[43m \u001b[49m\u001b[38;5;241;43m255\u001b[39;49m\u001b[43m)\u001b[49m\n\u001b[1;32m    173\u001b[0m \u001b[38;5;28;01melif\u001b[39;00m which_color_matrix \u001b[38;5;241m==\u001b[39m \u001b[38;5;124m'\u001b[39m\u001b[38;5;124mrw\u001b[39m\u001b[38;5;124m'\u001b[39m:\n\u001b[1;32m    174\u001b[0m     W_lr \u001b[38;5;241m=\u001b[39m utils\u001b[38;5;241m.\u001b[39mrw_affinity(image_lr \u001b[38;5;241m/\u001b[39m \u001b[38;5;241m255\u001b[39m)\n",
      "File \u001b[0;32m~/Hard_Disk/Projects/T2I/deep-spectral-segmentation/extract/extract_utils.py:171\u001b[0m, in \u001b[0;36mknn_affinity\u001b[0;34m(image, n_neighbors, distance_weights)\u001b[0m\n\u001b[1;32m    168\u001b[0m i, j \u001b[38;5;241m=\u001b[39m [], []\n\u001b[1;32m    170\u001b[0m \u001b[38;5;28;01mfor\u001b[39;00m k, distance_weight \u001b[38;5;129;01min\u001b[39;00m \u001b[38;5;28mzip\u001b[39m(n_neighbors, distance_weights):\n\u001b[0;32m--> 171\u001b[0m     f \u001b[38;5;241m=\u001b[39m \u001b[43mnp\u001b[49m\u001b[38;5;241;43m.\u001b[39;49m\u001b[43mstack\u001b[49m\u001b[43m(\u001b[49m\n\u001b[1;32m    172\u001b[0m \u001b[43m        \u001b[49m\u001b[43m[\u001b[49m\u001b[43mr\u001b[49m\u001b[43m,\u001b[49m\u001b[43m \u001b[49m\u001b[43mg\u001b[49m\u001b[43m,\u001b[49m\u001b[43m \u001b[49m\u001b[43mb\u001b[49m\u001b[43m,\u001b[49m\u001b[43m \u001b[49m\u001b[43mdistance_weight\u001b[49m\u001b[43m \u001b[49m\u001b[38;5;241;43m*\u001b[39;49m\u001b[43m \u001b[49m\u001b[43mx\u001b[49m\u001b[43m,\u001b[49m\u001b[43m \u001b[49m\u001b[43mdistance_weight\u001b[49m\u001b[43m \u001b[49m\u001b[38;5;241;43m*\u001b[39;49m\u001b[43m \u001b[49m\u001b[43my\u001b[49m\u001b[43m]\u001b[49m\u001b[43m,\u001b[49m\n\u001b[1;32m    173\u001b[0m \u001b[43m        \u001b[49m\u001b[43maxis\u001b[49m\u001b[38;5;241;43m=\u001b[39;49m\u001b[38;5;241;43m1\u001b[39;49m\u001b[43m,\u001b[49m\n\u001b[1;32m    174\u001b[0m \u001b[43m        \u001b[49m\u001b[43mout\u001b[49m\u001b[38;5;241;43m=\u001b[39;49m\u001b[43mnp\u001b[49m\u001b[38;5;241;43m.\u001b[39;49m\u001b[43mzeros\u001b[49m\u001b[43m(\u001b[49m\u001b[43m(\u001b[49m\u001b[43mn\u001b[49m\u001b[43m,\u001b[49m\u001b[43m \u001b[49m\u001b[38;5;241;43m5\u001b[39;49m\u001b[43m)\u001b[49m\u001b[43m,\u001b[49m\u001b[43m \u001b[49m\u001b[43mdtype\u001b[49m\u001b[38;5;241;43m=\u001b[39;49m\u001b[43mnp\u001b[49m\u001b[38;5;241;43m.\u001b[39;49m\u001b[43mfloat32\u001b[49m\u001b[43m)\u001b[49m\u001b[43m,\u001b[49m\n\u001b[1;32m    175\u001b[0m \u001b[43m    \u001b[49m\u001b[43m)\u001b[49m\n\u001b[1;32m    177\u001b[0m     distances, neighbors \u001b[38;5;241m=\u001b[39m knn(f, f, k\u001b[38;5;241m=\u001b[39mk)\n\u001b[1;32m    179\u001b[0m     i\u001b[38;5;241m.\u001b[39mappend(np\u001b[38;5;241m.\u001b[39mrepeat(np\u001b[38;5;241m.\u001b[39marange(n), k))\n",
      "File \u001b[0;32m<__array_function__ internals>:180\u001b[0m, in \u001b[0;36mstack\u001b[0;34m(*args, **kwargs)\u001b[0m\n",
      "File \u001b[0;32m~/Hard_Disk/Projects/T2I/deep-spectral-segmentation/venv/lib/python3.8/site-packages/numpy/core/shape_base.py:426\u001b[0m, in \u001b[0;36mstack\u001b[0;34m(arrays, axis, out)\u001b[0m\n\u001b[1;32m    424\u001b[0m shapes \u001b[38;5;241m=\u001b[39m {arr\u001b[38;5;241m.\u001b[39mshape \u001b[38;5;28;01mfor\u001b[39;00m arr \u001b[38;5;129;01min\u001b[39;00m arrays}\n\u001b[1;32m    425\u001b[0m \u001b[38;5;28;01mif\u001b[39;00m \u001b[38;5;28mlen\u001b[39m(shapes) \u001b[38;5;241m!=\u001b[39m \u001b[38;5;241m1\u001b[39m:\n\u001b[0;32m--> 426\u001b[0m     \u001b[38;5;28;01mraise\u001b[39;00m \u001b[38;5;167;01mValueError\u001b[39;00m(\u001b[38;5;124m'\u001b[39m\u001b[38;5;124mall input arrays must have the same shape\u001b[39m\u001b[38;5;124m'\u001b[39m)\n\u001b[1;32m    428\u001b[0m result_ndim \u001b[38;5;241m=\u001b[39m arrays[\u001b[38;5;241m0\u001b[39m]\u001b[38;5;241m.\u001b[39mndim \u001b[38;5;241m+\u001b[39m \u001b[38;5;241m1\u001b[39m\n\u001b[1;32m    429\u001b[0m axis \u001b[38;5;241m=\u001b[39m normalize_axis_index(axis, result_ndim)\n",
      "\u001b[0;31mValueError\u001b[0m: all input arrays must have the same shape"
     ]
    }
   ],
   "source": [
    "pca_comp=64\n",
    "pca = PCA(n_components=pca_comp)\n",
    "utils.make_output_dir(output_dir)\n",
    "inputs = list(enumerate(sorted(Path(features_dir).iterdir())))\n",
    "for inp in tqdm(inputs):\n",
    "    index, features_file = inp\n",
    "    print(index, features_file)\n",
    "     # Load\n",
    "    data_dict = torch.load(features_file, map_location='cpu')\n",
    "    print(data_dict.keys())   #['k', 'indices', 'file', 'id', 'model_name', 'patch_size', 'shape']\n",
    "    # print(\"shape=\", data_dict['shape'], \"k shape\", data_dict['k'].shape, \"patch_size=\", data_dict['patch_size'])\n",
    "    image_id = data_dict['file'][:-4]\n",
    "    print(image_id)\n",
    "    # Load\n",
    "    output_file = str(Path(output_dir) / f'{image_id}.pth')\n",
    "    if Path(output_file).is_file():\n",
    "        print(f'Skipping existing file {str(output_file)}')\n",
    "        # break\n",
    "        # return  # skip because already generated\n",
    "\n",
    "    # Load affinity matrix\n",
    "    feats = data_dict[which_features].squeeze().cuda()\n",
    "    # print(\"Without normalizing, Features Shape is\",feats.shape)\n",
    "    if normalize:\n",
    "        feats = F.normalize(feats, p=2, dim=-1)\n",
    "    # print(\"After normalization, Features Shape\",feats.shape)\n",
    "    # print(\"which_matrix=\", which_matrix)\n",
    "    # Eigenvectors of affinity matrix\n",
    "    if which_matrix == 'affinity_torch':\n",
    "        W = feats @ feats.T\n",
    "        # W_feat=contrastive_affinity(feats, feats.T)\n",
    "        # print(\"W shape=\", W.shape)\n",
    "        if threshold_at_zero:\n",
    "            W = (W * (W > 0))\n",
    "            # print(\"W shape=\", W.shape)\n",
    "        eigenvalues, eigenvectors = torch.eig(W, eigenvectors=True)\n",
    "        eigenvalues = eigenvalues.cpu()\n",
    "        eigenvectors = eigenvectors.cpu()\n",
    "        print(\"which matrix=\",which_matrix, \"eigenvalues shape\", eigenvalues.shape, \"eigenvectors shape\", eigenvectors.shape)\n",
    "\n",
    "\n",
    "    # Eigenvectors of affinity matrix with scipy\n",
    "    elif which_matrix == 'affinity_svd':\n",
    "        USV = torch.linalg.svd(feats, full_matrices=False)\n",
    "        eigenvectors = USV[0][:, :K].T.to('cpu', non_blocking=True)\n",
    "        eigenvalues = USV[1][:K].to('cpu', non_blocking=True)\n",
    "        print(\"which matrix=\",which_matrix,\"eigenvalues shape\", eigenvalues.shape, \"eigenvectors shape\", eigenvectors.shape)\n",
    "\n",
    "    # Eigenvectors of affinity matrix with scipy\n",
    "    elif which_matrix == 'affinity':\n",
    "        # print(\"Without normalizing, Features Shape is\",feats.shape)\n",
    "        W = (feats @ feats.T)\n",
    "        # W_feat=contrastive_affinity(feats, feats.T)\n",
    "        # print(\"W shape=\", W.shape)\n",
    "        if threshold_at_zero:\n",
    "            W = (W * (W > 0))\n",
    "        W = W.cpu().numpy()\n",
    "        # print(\"W shape=\", W.shape)\n",
    "        eigenvalues, eigenvectors = eigsh(W, which='LM', k=K)\n",
    "        eigenvectors = torch.flip(torch.from_numpy(eigenvectors), dims=(-1,)).T\n",
    "        print(\"which matrix=\",which_matrix, \"eigenvalues shape\", eigenvalues.shape, \"eigenvectors shape\", eigenvectors.shape)\n",
    "\n",
    "    # Eigenvectors of matting laplacian matrix\n",
    "    elif which_matrix in ['matting_laplacian', 'laplacian']:\n",
    "\n",
    "        # Get sizes\n",
    "        B, C, H, W, P, H_patch, W_patch, H_pad, W_pad = utils.get_image_sizes(data_dict)\n",
    "        if image_downsample_factor is None:\n",
    "            image_downsample_factor = P\n",
    "        H_pad_lr, W_pad_lr = H_pad // image_downsample_factor, W_pad // image_downsample_factor\n",
    "\n",
    "        # Upscale features to match the resolution\n",
    "        if (H_patch, W_patch) != (H_pad_lr, W_pad_lr):\n",
    "            feats = F.interpolate(\n",
    "                feats.T.reshape(1, -1, H_patch, W_patch),\n",
    "                size=(H_pad_lr, W_pad_lr), mode='bilinear', align_corners=False\n",
    "            ).reshape(-1, H_pad_lr * W_pad_lr).T\n",
    "\n",
    "        ### Feature affinities\n",
    "        # print(\"Without normalizing, Features Shape is\",feats.shape)\n",
    "\n",
    "        W_feat_ds = (feats @ feats.T)\n",
    "        # max_wfeatds=torch.max(W_feat_ds).item()\n",
    "        # alpha=2\n",
    "        # W_feat_ds = W_feat_ds - (max_wfeatds / alpha)\n",
    "        layer=nn.Linear(pca_comp,pca_comp).cuda()\n",
    "        x0=feats\n",
    "        x0_arr=x0.cpu()\n",
    "        # print(x0_arr.shape)\n",
    "        z0_arr= pca.fit_transform(x0_arr)\n",
    "\n",
    "        # Define the affine transformation parameters\n",
    "        scale = np.random.uniform(0.8, 1.2)  # Random scaling factor between 0.8 and 1.2\n",
    "        translation = np.random.uniform(-10, 10, size=2)  # Random translation vector between -10 and 10 in both directions\n",
    "        rotation = np.random.uniform(-15, 15)  # Random rotation angle between -15 and 15 degrees\n",
    "        shear = np.random.uniform(-0.2, 0.2, size=2)  # Random shear factor between -0.2 and 0.2 in both directions\n",
    "\n",
    "        # Define the affine matrix\n",
    "        affine_matrix = np.array([[scale * np.cos(rotation), -shear[0] * scale * np.sin(rotation), translation[0]],\n",
    "                                  [shear[1] * scale * np.sin(rotation), scale * np.cos(rotation), translation[1]],\n",
    "                                  [0, 0, 1]])\n",
    "        z1_arr=affine_transform(z0_arr, affine_matrix)\n",
    "#         z1_arr=pca.fit_transform(z1_arr)\n",
    "        z0 = torch.from_numpy(z0_arr).float()\n",
    "        z1 = torch.from_numpy(z1_arr).float()\n",
    "\n",
    "        # feat_list.append(feats)\n",
    "        feat_dataset_z0 = Feature_Dataset(z0)\n",
    "        if feats.shape[0]%2==0:\n",
    "            features_dataloader_z0 = DataLoader(feat_dataset_z0, batch_size=batch_size, shuffle=True)\n",
    "        else:\n",
    "            features_dataloader_z0 = DataLoader(feat_dataset_z0, batch_size=batch_size, shuffle=True, drop_last=True)\n",
    "\n",
    "        feat_dataset_z1 = Feature_Dataset(z1)\n",
    "        if feats.shape[0]%2==0:\n",
    "            features_dataloader_z1 = DataLoader(feat_dataset_z1, batch_size=batch_size, shuffle=True)\n",
    "        else:\n",
    "            features_dataloader_z1 = DataLoader(feat_dataset_z1, batch_size=batch_size, shuffle=True, drop_last=True)\n",
    "        device = \"cuda\" if torch.cuda.is_available() else \"cpu\"\n",
    "    \n",
    "        criterion = NegativeCosineSimilarity()\n",
    "        optimizer = torch.optim.SGD(layer.parameters(), lr=0.06)\n",
    "        print(\"Starting Training\")\n",
    "        for epoch in range(epochs):\n",
    "            total_loss = 0\n",
    "            for z0_new,z1_new in zip(features_dataloader_z0,features_dataloader_z1):\n",
    "                z0_new = z0_new.to(device)\n",
    "                z1_new = z1_new.to(device)\n",
    "    #             print(\"z0_new.shape\", z0_new.shape)\n",
    "    #             print(\"z1_new.shape\", z1_new.shape)\n",
    "                p0=layer(z0_new)\n",
    "                p1=layer(z1_new)\n",
    "    #             print(\"p0.shape\", p0.shape)\n",
    "    #             print(\"p1.shape\", p1.shape)\n",
    "                loss = 0.5 * (criterion(z0_new, p1) + criterion(z1_new, p0))\n",
    "                total_loss += loss.detach()\n",
    "                loss.backward()\n",
    "                optimizer.step()\n",
    "                optimizer.zero_grad()\n",
    "            avg_loss = total_loss / len(features_dataloader_z0)\n",
    "            print(f\"epoch: {epoch:>02}, loss: {avg_loss:.5f}\")\n",
    "        projected_feature=layer(z0.to(device))\n",
    "        print(projected_feature.shape)\n",
    "        W_feat_siam=torch.matmul(projected_feature, projected_feature.t())\n",
    "        max_wfeatsiam=torch.max(W_feat_siam).item()\n",
    "        alpha=2\n",
    "        W_feat_siam = W_feat_siam - (max_wfeatsiam / alpha)\n",
    "        # W_feat_siam=torch.matmul(projected_feature[0], projected_feature[0].t())\n",
    "        W_feat=W_feat_ds + 0.1*W_feat_siam\n",
    "#         W_feat=normalize_affinity_matrix(W_feat_unnorm, axis=1)\n",
    "        # print(\"W_feat.shape=\", W_feat.shape)\n",
    "        # print(\"W_feat.shape=\", W_feat.shape)\n",
    "        # W_feat=contrastive_affinity(feats, feats.T)\n",
    "        if threshold_at_zero:\n",
    "            W_feat = (W_feat * (W_feat > 0))\n",
    "        W_feat = W_feat / W_feat.max()  # NOTE: If features are normalized, this naturally does nothing\n",
    "        # W_feat = W_feat.cpu().numpy()\n",
    "        W_feat = W_feat.detach().cpu().numpy()\n",
    "        # print(\"W_feat shape=\",W_feat.shape)\n",
    "\n",
    "        ### Color affinities\n",
    "        # If we are fusing with color affinites, then load the image and compute\n",
    "        if image_color_lambda > 0:\n",
    "\n",
    "            # Load image\n",
    "            image_file = str(Path(images_root) / f'{image_id}.jpg')\n",
    "            image_lr = Image.open(image_file).resize((W_pad_lr, H_pad_lr), Image.BILINEAR)\n",
    "            image_lr = np.array(image_lr) / 255.\n",
    "\n",
    "            # Color affinities (of type scipy.sparse.csr_matrix)\n",
    "            if which_color_matrix == 'knn':\n",
    "                W_lr = utils.knn_affinity(image_lr / 255)\n",
    "            elif which_color_matrix == 'rw':\n",
    "                W_lr = utils.rw_affinity(image_lr / 255)\n",
    "\n",
    "            # Convert to dense numpy array\n",
    "            W_color = np.array(W_lr.todense().astype(np.float32))\n",
    "            # print(\"W_color shape\", W_color.shape)\n",
    "\n",
    "        else:\n",
    "\n",
    "            # No color affinity\n",
    "            W_color = 0\n",
    "\n",
    "        # Combine\n",
    "        W_comb = W_feat + W_color * image_color_lambda  # combination\n",
    "        D_comb = np.array(utils.get_diagonal(W_comb).todense())  # is dense or sparse faster? not sure, should check\n",
    "        # print(\"W_comb shape= \", W_comb.shape, \"D_comb shape\",  D_comb.shape)\n",
    "        if lapnorm:\n",
    "            try:\n",
    "                eigenvalues, eigenvectors = eigsh(D_comb - W_comb, k=K, sigma=0, which='LM', M=D_comb)\n",
    "            except:\n",
    "                eigenvalues, eigenvectors = eigsh(D_comb - W_comb, k=K, which='SM', M=D_comb)\n",
    "        else:\n",
    "            try:\n",
    "                eigenvalues, eigenvectors = eigsh(D_comb - W_comb, k=K, sigma=0, which='LM')\n",
    "            except:\n",
    "                eigenvalues, eigenvectors = eigsh(D_comb - W_comb, k=K, which='SM')\n",
    "        eigenvalues, eigenvectors = torch.from_numpy(eigenvalues), torch.from_numpy(eigenvectors.T).float()\n",
    "    print(\"eigenvalues shape\", eigenvalues.shape, \"eigenvectors shape\", eigenvectors.shape)\n",
    "    # Sign ambiguity\n",
    "    for k in range(eigenvectors.shape[0]):\n",
    "        if 0.5 < torch.mean((eigenvectors[k] > 0).float()).item() < 1.0:  # reverse segment\n",
    "            eigenvectors[k] = 0 - eigenvectors[k]\n",
    "\n",
    "    # Save dict\n",
    "    output_dict = {'eigenvalues': eigenvalues, 'eigenvectors': eigenvectors}\n",
    "    torch.save(output_dict, output_file)"
   ]
  }
 ],
 "metadata": {
  "kernelspec": {
   "display_name": "Python 3 (ipykernel)",
   "language": "python",
   "name": "python3"
  },
  "language_info": {
   "codemirror_mode": {
    "name": "ipython",
    "version": 3
   },
   "file_extension": ".py",
   "mimetype": "text/x-python",
   "name": "python",
   "nbconvert_exporter": "python",
   "pygments_lexer": "ipython3",
   "version": "3.8.10"
  }
 },
 "nbformat": 4,
 "nbformat_minor": 1
}
