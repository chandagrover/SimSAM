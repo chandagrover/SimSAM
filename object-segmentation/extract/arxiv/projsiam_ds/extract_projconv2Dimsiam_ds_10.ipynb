{
 "cells": [
  {
   "cell_type": "code",
   "execution_count": 1,
   "metadata": {
    "pycharm": {
     "name": "#%%\n"
    }
   },
   "outputs": [],
   "source": [
    "# from functools import partial\n",
    "from pathlib import Path\n",
    "# from typing import Optional, Tuple\n",
    "# import cv2\n",
    "# import fire\n",
    "import numpy as np\n",
    "import torch\n",
    "import torch.nn.functional as F\n",
    "from accelerate import Accelerator\n",
    "from PIL import Image\n",
    "from scipy.sparse.linalg import eigsh\n",
    "# from sklearn.cluster import KMeans, MiniBatchKMeans\n",
    "# from sklearn.decomposition import PCA\n",
    "# from torchvision.utils import draw_bounding_boxes\n",
    "from tqdm import tqdm\n",
    "import extract_utils as utils\n",
    "from torch.utils.data import Dataset, DataLoader\n",
    "from lightly.loss import NegativeCosineSimilarity\n",
    "from lightly.models.modules import SimSiamPredictionHead, SimSiamProjectionHead\n",
    "from torch import nn\n",
    "import torchvision"
   ]
  },
  {
   "cell_type": "markdown",
   "metadata": {
    "pycharm": {
     "name": "#%% md\n"
    }
   },
   "source": [
    "## Extract Features"
   ]
  },
  {
   "cell_type": "code",
   "execution_count": 2,
   "metadata": {
    "pycharm": {
     "name": "#%%\n"
    }
   },
   "outputs": [],
   "source": [
    "# images_list=\"/home/phdcs2/Hard_Disk/Datasets/Deep-Spectral-Segmentation/data/object-segmentation/ECSSD/lists/images.txt\"\n",
    "# images_root=\"/home/phdcs2/Hard_Disk/Datasets/Deep-Spectral-Segmentation/data/object-segmentation/ECSSD/images\"\n",
    "# model_name=\"dino_vits16\"\n",
    "# batch_size=1\n",
    "# output_dir=\"//home/phdcs2/Hard_Disk/Datasets/Deep-Spectral-Segmentation/data/object-segmentation/ECSSD/features/dino_vits16\"\n",
    "# which_block=-1\n",
    "# # Output\n",
    "# utils.make_output_dir(output_dir)\n",
    "# # Models\n",
    "# model_name = model_name.lower()\n",
    "# model, val_transform, patch_size, num_heads = utils.get_model(model_name)    #patch size= 16 number of heads= 6\n",
    "# # print(\"patch size=\", patch_size, \"number of heads=\", num_heads)\n",
    "# # Add hook\n",
    "# if 'dino' in model_name or 'mocov3' in model_name:\n",
    "#     feat_out = {}\n",
    "#     def hook_fn_forward_qkv(module, input, output):\n",
    "#         # print(\"feat_out.keys()\", feat_out.keys())\n",
    "#         feat_out[\"qkv\"] = output\n",
    "#     model._modules[\"blocks\"][which_block]._modules[\"attn\"]._modules[\"qkv\"].register_forward_hook(hook_fn_forward_qkv)\n",
    "# else:\n",
    "#     raise ValueError(model_name)\n",
    "# # Dataset\n",
    "# filenames = Path(images_list).read_text().splitlines()\n",
    "# dataset = utils.ImagesDataset(filenames=filenames, images_root=images_root, transform=val_transform)\n",
    "# dataloader = torch.utils.data.DataLoader(dataset, batch_size=batch_size, num_workers=8)\n",
    "# # print(f'Dataset size: {len(dataset)=}')\n",
    "# # print(f'Dataloader size: {len(dataloader)=}')\n",
    "# # Prepare\n",
    "# # accelerator = Accelerator(fp16=True, cpu=False)\n",
    "# accelerator = Accelerator(cpu=False)\n",
    "# # model, dataloader = accelerator.prepare(model, dataloader)\n",
    "# model = model.to(accelerator.device)\n",
    "# model.num_features\n",
    "# # print(\"model.num_features=\", model.num_features)\n",
    "# # model.get_submodule\n",
    "# # Process\n",
    "# pbar = list(tqdm(dataloader, desc='Processing'))\n",
    "# # Process\n",
    "# # pbar = list(tqdm(dataloader, desc='Processing'))\n",
    "# # print(\"feat_out.keys()=\", feat_out.keys())\n",
    "# for i, (images, files, indices) in enumerate(pbar):\n",
    "#     output_dict = {}\n",
    "#     # print(\"images.shape=\", images.shape, \"files =\", files, \"indices\", indices)\n",
    "#\n",
    "#     # Check if file already exists\n",
    "#     id = Path(files[0]).stem\n",
    "#     # print(\"id=\", id)\n",
    "#     output_file = Path(output_dir) / f'{id}.pth'\n",
    "#     # if output_file.is_file():\n",
    "#     #     pbar.write(f'Skipping existing file {str(output_file)}')\n",
    "#     #     continue\n",
    "#\n",
    "#     # Reshape image\n",
    "#     P = patch_size\n",
    "#     B, C, H, W = images.shape\n",
    "#     H_patch, W_patch = H // P, W // P\n",
    "#     H_pad, W_pad = H_patch * P, W_patch * P\n",
    "#     T = H_patch * W_patch + 1  # number of tokens, add 1 for [CLS]\n",
    "#     # images = F.interpolate(images, size=(H_pad, W_pad), mode='bilinear')  # resize image\n",
    "#     images = images[:, :, :H_pad, :W_pad]\n",
    "#     images = images.to(accelerator.device)\n",
    "#     # print(\"images.shape after padding=\", images.shape)\n",
    "#\n",
    "#     # Forward and collect features into output dict\n",
    "#     if 'dino' in model_name or 'mocov3' in model_name:\n",
    "#         # accelerator.unwrap_model(model).get_intermediate_layers(images)[0].squeeze(0)\n",
    "#         model.get_intermediate_layers(images)[0].squeeze(0)\n",
    "#         # print(model.get_intermediate_layers(images)[0])\n",
    "#         # output_dict['out'] = out\n",
    "#         # print(\"feat_out.keys()=\", feat_out.keys())\n",
    "#         output_qkv = feat_out[\"qkv\"].reshape(B, T, 3, num_heads, -1 // num_heads).permute(2, 0, 3, 1, 4)\n",
    "#         # print(\"type(output_qkv)\", type(output_qkv))\n",
    "#         # print(\"output_qkv.shape\", output_qkv.shape)    #3, 1, 6, 931, 64]\n",
    "#         # print(\"output_qkv[0].shape\", output_qkv[0].shape)\n",
    "#         # print(\"output_qkv[1].shape\", output_qkv[1].shape)\n",
    "#         # print(\"output_qkv[2].shape\", output_qkv[2].shape)\n",
    "#         # output_dict['q'] = output_qkv[0].transpose(1, 2).reshape(B, T, -1)[:, 1:, :]\n",
    "#         output_dict['k'] = output_qkv[1].transpose(1, 2).reshape(B, T, -1)[:, 1:, :]\n",
    "#         # print(\"output_dict[k].shape=\", output_dict['k'].shape)\n",
    "#         # output_dict['v'] = output_qkv[2].transpose(1, 2).reshape(B, T, -1)[:, 1:, :]\n",
    "#     else:\n",
    "#         raise ValueError(model_name)\n",
    "#\n",
    "#     # print(\"output_dict.items=\", output_dict.items())\n",
    "#     # Metadata\n",
    "#     output_dict['indices'] = indices[0]\n",
    "#     output_dict['file'] = files[0]\n",
    "#     output_dict['id'] = id\n",
    "#     output_dict['model_name'] = model_name\n",
    "#     output_dict['patch_size'] = patch_size\n",
    "#     output_dict['shape'] = (B, C, H, W)\n",
    "#     output_dict = {k: (v.detach().cpu() if torch.is_tensor(v) else v) for k, v in output_dict.items()}\n",
    "#     # for k, v in output_dict.items():\n",
    "#     #     print(\"k=\", k)\n",
    "#     #     if torch.is_tensor(v):\n",
    "#     #         print(\"v.shape\", v.shape)\n",
    "#     #     else:\n",
    "#     #         print(\"v=\", v)\n",
    "#     # print(\"output_dict.keys()\", output_dict.keys())\n",
    "#     # print(\"output_dict['k'].shape=\", output_dict['k'].shape,\"output_dict['indices'] =\", indices[0],\"output_dict['file'] =\", files[0],\"output_dict['id']=\" , id, \"output_dict['model_name'] =\", model_name,\" output_dict['shape'] =(\", B, C, H, W,\")output_dict['patch_size'] =\",  patch_size )\n",
    "#     # Save\n",
    "#     accelerator.save(output_dict, str(output_file))\n",
    "#     accelerator.wait_for_everyone()\n",
    "# print(f'Saved features to {output_dir}')"
   ]
  },
  {
   "cell_type": "code",
   "execution_count": 3,
   "metadata": {
    "pycharm": {
     "name": "#%%\n"
    }
   },
   "outputs": [],
   "source": [
    "# output_dict = {k: (v.detach().cpu() if torch.is_tensor(v) else v) for k, v in output_dict.items()}\n",
    "# print(output_dict.keys())\n",
    "# for k, v in output_dict.items():\n",
    "#     print(\"k=\", k)\n",
    "#     print(\"v.shape=\", v.shape)\n"
   ]
  },
  {
   "cell_type": "markdown",
   "metadata": {
    "pycharm": {
     "name": "#%% md\n"
    }
   },
   "source": [
    "## Extract Eigen Vectors"
   ]
  },
  {
   "cell_type": "code",
   "execution_count": 4,
   "metadata": {
    "pycharm": {
     "name": "#%%\n"
    }
   },
   "outputs": [],
   "source": [
    "images_root=\"/home/phdcs2/Hard_Disk/Datasets/Deep-Spectral-Segmentation/data/object-segmentation/ECSSD/images\"\n",
    "features_dir=\"/home/phdcs2/Hard_Disk/Datasets/Deep-Spectral-Segmentation/data/object-segmentation/ECSSD/features/dino_vits16\"\n",
    "output_dir=\"//home/phdcs2/Hard_Disk/Datasets/Deep-Spectral-Segmentation/data/object-segmentation/ECSSD/eigs_residualsimsiam_ds_10_jn\"\n",
    "which_matrix= 'laplacian'\n",
    "which_color_matrix= 'knn'\n",
    "which_features= 'k'\n",
    "normalize=True\n",
    "threshold_at_zero=True\n",
    "lapnorm= True\n",
    "K= 5\n",
    "image_downsample_factor = None\n",
    "image_color_lambda = 0.0\n",
    "multiprocessing = 0\n",
    "batch_size=2\n",
    "epochs=10"
   ]
  },
  {
   "cell_type": "markdown",
   "source": [
    "## ResNet Residual Block"
   ],
   "metadata": {
    "collapsed": false,
    "pycharm": {
     "name": "#%% md\n"
    }
   }
  },
  {
   "cell_type": "code",
   "execution_count": 5,
   "outputs": [],
   "source": [
    "class BasicBlock(nn.Module):\n",
    "    expansion = 1\n",
    "\n",
    "    def __init__(self, in_channels=1, out_channels=1, stride=1, downsample=None):\n",
    "        super(BasicBlock, self).__init__()\n",
    "        self.conv1 = nn.Conv2d(in_channels=in_channels, out_channels=128, kernel_size=3, stride=stride, padding=1, bias=False)\n",
    "        self.bn1 = nn.BatchNorm2d(128)\n",
    "        self.relu = nn.ReLU(inplace=True)\n",
    "        self.conv2 = nn.Conv2d(128, out_channels * self.expansion, kernel_size=3, stride=1, padding=1, bias=False)\n",
    "        self.bn2 = nn.BatchNorm2d(out_channels * self.expansion)\n",
    "        self.downsample = downsample\n",
    "\n",
    "    def forward(self, x):\n",
    "        identity = x\n",
    "\n",
    "        out = self.conv1(x)\n",
    "        out = self.bn1(out)\n",
    "        out = self.relu(out)\n",
    "\n",
    "        out = self.conv2(out)\n",
    "        out = self.bn2(out)\n",
    "\n",
    "        if self.downsample is not None:\n",
    "            identity = self.downsample(x)\n",
    "\n",
    "        out += identity\n",
    "        out = self.relu(out)\n",
    "        # print(\"Before squeezing, out shape=\", out.shape)\n",
    "        out =  out.squeeze().to('cuda')\n",
    "        # print(\"After squeezing, out shape=\", out.shape)\n",
    "\n",
    "        return out"
   ],
   "metadata": {
    "collapsed": false,
    "pycharm": {
     "name": "#%%\n"
    }
   }
  },
  {
   "cell_type": "code",
   "execution_count": 6,
   "outputs": [],
   "source": [
    "# class ResidualBlock(nn.Module):\n",
    "#     def __init__(self, in_channels, out_channels, kernel_size=3, stride=1, padding=1, bias=False):\n",
    "#         super(ResidualBlock, self).__init__()\n",
    "#         self.conv1 = nn.Conv1d(in_channels, out_channels, kernel_size=kernel_size, stride=stride, padding=padding, bias=bias)\n",
    "#         self.bn1 = nn.BatchNorm1d(out_channels)\n",
    "#         self.relu = nn.ReLU(inplace=True)\n",
    "#         self.conv2 = nn.Conv1d(out_channels, out_channels, kernel_size=kernel_size, stride=stride, padding=padding, bias=bias)\n",
    "#         self.bn2 = nn.BatchNorm1d(out_channels)\n",
    "#         # shortcut connection\n",
    "#         self.shortcut = nn.Sequential()\n",
    "#         if stride != 1 or in_channels != out_channels:\n",
    "#             self.shortcut = nn.Sequential(\n",
    "#                 nn.Conv1d(in_channels, out_channels, kernel_size=1, stride=stride, bias=bias),\n",
    "#                 nn.BatchNorm1d(out_channels)\n",
    "#             )\n",
    "#\n",
    "#     def forward(self, x):\n",
    "#         residual = x\n",
    "#\n",
    "#         out = self.conv1(x)\n",
    "#         out = self.bn1(out)\n",
    "#         out = self.relu(out)\n",
    "#\n",
    "#         out = self.conv2(out)\n",
    "#         out = self.bn2(out)\n",
    "#\n",
    "#         out += self.shortcut(residual)\n",
    "#         out = self.relu(out)\n",
    "#\n",
    "#         return out"
   ],
   "metadata": {
    "collapsed": false,
    "pycharm": {
     "name": "#%%\n"
    }
   }
  },
  {
   "cell_type": "code",
   "execution_count": 7,
   "outputs": [],
   "source": [
    "# class ResNetBlock(nn.Module):\n",
    "#     def __init__(self, in_channels, out_channels, stride=1, downsample=None):\n",
    "#         super(ResNetBlock, self).__init__()\n",
    "#         self.conv1 = nn.Conv1d(in_channels, out_channels, kernel_size=3, stride=stride, padding=1, bias=False)\n",
    "#         self.bn1 = nn.BatchNorm1d(out_channels)\n",
    "#         self.relu = nn.ReLU(inplace=True)\n",
    "#         self.conv2 = nn.Conv1d(out_channels, out_channels, kernel_size=3, stride=1, padding=1, bias=False)\n",
    "#         self.bn2 = nn.BatchNorm1d(out_channels)\n",
    "#         self.downsample = downsample\n",
    "#\n",
    "#     def forward(self, x):\n",
    "#         identity = x\n",
    "#\n",
    "#         out = self.conv1(x)\n",
    "#         out = self.bn1(out)\n",
    "#         out = self.relu(out)\n",
    "#\n",
    "#         out = self.conv2(out)\n",
    "#         out = self.bn2(out)\n",
    "#\n",
    "#         if self.downsample is not None:\n",
    "#             identity = self.downsample(x)\n",
    "#\n",
    "#         out += identity\n",
    "#         out = self.relu(out)\n",
    "#\n",
    "#         return out"
   ],
   "metadata": {
    "collapsed": false,
    "pycharm": {
     "name": "#%%\n"
    }
   }
  },
  {
   "cell_type": "markdown",
   "source": [
    "## Incorporating SimSiam"
   ],
   "metadata": {
    "collapsed": false,
    "pycharm": {
     "name": "#%% md\n"
    }
   }
  },
  {
   "cell_type": "code",
   "execution_count": 8,
   "outputs": [],
   "source": [
    "# Define a custom dataset class\n",
    "class Feature_Dataset(Dataset):\n",
    "    def __init__(self, features):\n",
    "        self.features = features\n",
    "\n",
    "    def __getitem__(self, index):\n",
    "        return self.features[index]\n",
    "\n",
    "    def __len__(self):\n",
    "        return len(self.features)"
   ],
   "metadata": {
    "collapsed": false,
    "pycharm": {
     "name": "#%%\n"
    }
   }
  },
  {
   "cell_type": "code",
   "execution_count": 9,
   "outputs": [],
   "source": [
    "# print(feats.shape)"
   ],
   "metadata": {
    "collapsed": false,
    "pycharm": {
     "name": "#%%\n"
    }
   }
  },
  {
   "cell_type": "code",
   "execution_count": 10,
   "outputs": [],
   "source": [
    "class SimSiam(nn.Module):\n",
    "    def __init__(self):\n",
    "        super().__init__()\n",
    "        # self.projection_head = SimSiamProjectionHead(feats.shape[1], 128,feats.shape[1])\n",
    "        self.projection_head = BasicBlock()\n",
    "        # self.projection_head = ResidualBlock(feats.shape[1], feats.shape[1])\n",
    "        self.prediction_head = SimSiamPredictionHead(feats.shape[1], 128, feats.shape[1])\n",
    "\n",
    "    def forward(self, x):\n",
    "        z = self.projection_head(x)\n",
    "        p = self.prediction_head(z)\n",
    "        z = z.detach()\n",
    "        return z, p"
   ],
   "metadata": {
    "collapsed": false,
    "pycharm": {
     "name": "#%%\n"
    }
   }
  },
  {
   "cell_type": "code",
   "execution_count": 11,
   "outputs": [],
   "source": [
    "# utils.make_output_dir(output_dir)\n",
    "# feat_list=[]\n",
    "# inputs = list(enumerate(sorted(Path(features_dir).iterdir())))\n",
    "# batch_size=2\n",
    "# token_feature_size=384\n",
    "# for inp in tqdm(inputs[:2]):\n",
    "#     index, features_file = inp\n",
    "#     print(index, features_file)\n",
    "#      # Load\n",
    "#     data_dict = torch.load(features_file, map_location='cpu')\n",
    "#     # Load affinity matrix\n",
    "#     # feats_unsqueeze=data_dict[which_features].cuda()\n",
    "#     feats = data_dict[which_features].squeeze().cuda()\n",
    "#     print(feats.shape)\n",
    "#     # print(feats_unsqueeze.shape)\n",
    "#     feat_dataset = Feature_Dataset(feats)\n",
    "#     features_dataloader = DataLoader(feat_dataset, batch_size=2, shuffle=True)\n",
    "#     i=0\n",
    "#     for x0 in features_dataloader:\n",
    "#         if i==0:\n",
    "#         # for (x0), _, _ in features_dataloader:\n",
    "#             print(\"before unsqueezing x0.shape=\", x0.shape)\n",
    "#             x0 = x0.unsqueeze(0).to(device)\n",
    "#             x1=torchvision.transforms.RandomAffine(0)(x0)\n",
    "#             x0 = x0.squeeze(0).to(device)\n",
    "#             x0 = torch.tensor(x0).view(batch_size, 1, 1, token_feature_size)\n",
    "#             print(\"After squeezing and viewing x0 shape=\", x0.shape)\n",
    "#             # print(\"x0.shape=\", x0.shape)\n",
    "#             x1 = x1.squeeze(0).to(device)\n",
    "#             x1 = torch.tensor(x1).view(batch_size, 1, 1,token_feature_size)\n",
    "#             print(\"After squeezing and viewing x0 shape=\", x1.shape)\n",
    "#             print(\"x1 shape=\", x1.shape)\n",
    "#         else:\n",
    "#             break\n",
    "#         i+=1\n"
   ],
   "metadata": {
    "collapsed": false,
    "pycharm": {
     "name": "#%%\n"
    }
   }
  },
  {
   "cell_type": "code",
   "execution_count": 12,
   "metadata": {
    "pycharm": {
     "name": "#%%\n"
    }
   },
   "outputs": [
    {
     "name": "stderr",
     "output_type": "stream",
     "text": [
      "  0%|          | 0/1000 [00:00<?, ?it/s]"
     ]
    },
    {
     "name": "stdout",
     "output_type": "stream",
     "text": [
      "0 /home/phdcs2/Hard_Disk/Datasets/Deep-Spectral-Segmentation/data/object-segmentation/ECSSD/features/dino_vits16/0001.pth\n",
      "dict_keys(['k', 'indices', 'file', 'id', 'model_name', 'patch_size', 'shape'])\n",
      "0001\n",
      "Starting Training\n",
      "epoch: 00, loss: -0.51293\n",
      "epoch: 01, loss: -0.65824\n",
      "epoch: 02, loss: -0.68512\n",
      "epoch: 03, loss: -0.69690\n",
      "epoch: 04, loss: -0.71012\n",
      "epoch: 05, loss: -0.70743\n",
      "epoch: 06, loss: -0.70660\n",
      "epoch: 07, loss: -0.70283\n",
      "epoch: 08, loss: -0.71193\n",
      "epoch: 09, loss: -0.73227\n",
      "After Unsqueezing, feature size= torch.Size([400, 1, 1, 384])\n"
     ]
    },
    {
     "name": "stderr",
     "output_type": "stream",
     "text": [
      "  0%|          | 1/1000 [00:25<6:59:44, 25.21s/it]"
     ]
    },
    {
     "name": "stdout",
     "output_type": "stream",
     "text": [
      "eigenvalues shape torch.Size([5]) eigenvectors shape torch.Size([5, 400])\n",
      "1 /home/phdcs2/Hard_Disk/Datasets/Deep-Spectral-Segmentation/data/object-segmentation/ECSSD/features/dino_vits16/0002.pth\n",
      "dict_keys(['k', 'indices', 'file', 'id', 'model_name', 'patch_size', 'shape'])\n",
      "0002\n",
      "Starting Training\n",
      "epoch: 00, loss: -0.46672\n",
      "epoch: 01, loss: -0.61540\n",
      "epoch: 02, loss: -0.63520\n",
      "epoch: 03, loss: -0.65729\n",
      "epoch: 04, loss: -0.67450\n",
      "epoch: 05, loss: -0.68600\n",
      "epoch: 06, loss: -0.68812\n",
      "epoch: 07, loss: -0.70616\n",
      "epoch: 08, loss: -0.72080\n",
      "epoch: 09, loss: -0.72728\n",
      "After Unsqueezing, feature size= torch.Size([400, 1, 1, 384])\n"
     ]
    },
    {
     "name": "stderr",
     "output_type": "stream",
     "text": [
      "  0%|          | 2/1000 [00:44<5:58:47, 21.57s/it]"
     ]
    },
    {
     "name": "stdout",
     "output_type": "stream",
     "text": [
      "eigenvalues shape torch.Size([5]) eigenvectors shape torch.Size([5, 400])\n",
      "2 /home/phdcs2/Hard_Disk/Datasets/Deep-Spectral-Segmentation/data/object-segmentation/ECSSD/features/dino_vits16/0003.pth\n",
      "dict_keys(['k', 'indices', 'file', 'id', 'model_name', 'patch_size', 'shape'])\n",
      "0003\n",
      "Starting Training\n",
      "epoch: 00, loss: -0.46754\n",
      "epoch: 01, loss: -0.64126\n",
      "epoch: 02, loss: -0.67110\n",
      "epoch: 03, loss: -0.67026\n",
      "epoch: 04, loss: -0.68541\n",
      "epoch: 05, loss: -0.68441\n",
      "epoch: 06, loss: -0.68312\n",
      "epoch: 07, loss: -0.69975\n",
      "epoch: 08, loss: -0.70797\n",
      "epoch: 09, loss: -0.70749\n",
      "After Unsqueezing, feature size= torch.Size([400, 1, 1, 384])\n"
     ]
    },
    {
     "name": "stderr",
     "output_type": "stream",
     "text": [
      "  0%|          | 3/1000 [01:04<5:45:51, 20.81s/it]"
     ]
    },
    {
     "name": "stdout",
     "output_type": "stream",
     "text": [
      "eigenvalues shape torch.Size([5]) eigenvectors shape torch.Size([5, 400])\n",
      "3 /home/phdcs2/Hard_Disk/Datasets/Deep-Spectral-Segmentation/data/object-segmentation/ECSSD/features/dino_vits16/0004.pth\n",
      "dict_keys(['k', 'indices', 'file', 'id', 'model_name', 'patch_size', 'shape'])\n",
      "0004\n",
      "Starting Training\n",
      "epoch: 00, loss: -0.54253\n",
      "epoch: 01, loss: -0.68435\n",
      "epoch: 02, loss: -0.70593\n",
      "epoch: 03, loss: -0.71453\n",
      "epoch: 04, loss: -0.72228\n",
      "epoch: 05, loss: -0.72801\n",
      "epoch: 06, loss: -0.73585\n",
      "epoch: 07, loss: -0.74155\n",
      "epoch: 08, loss: -0.74077\n",
      "epoch: 09, loss: -0.74519\n",
      "After Unsqueezing, feature size= torch.Size([400, 1, 1, 384])\n"
     ]
    },
    {
     "name": "stderr",
     "output_type": "stream",
     "text": [
      "  0%|          | 4/1000 [01:23<5:38:55, 20.42s/it]"
     ]
    },
    {
     "name": "stdout",
     "output_type": "stream",
     "text": [
      "eigenvalues shape torch.Size([5]) eigenvectors shape torch.Size([5, 400])\n",
      "4 /home/phdcs2/Hard_Disk/Datasets/Deep-Spectral-Segmentation/data/object-segmentation/ECSSD/features/dino_vits16/0005.pth\n",
      "dict_keys(['k', 'indices', 'file', 'id', 'model_name', 'patch_size', 'shape'])\n",
      "0005\n",
      "Starting Training\n",
      "epoch: 00, loss: -0.52470\n",
      "epoch: 01, loss: -0.66208\n",
      "epoch: 02, loss: -0.67595\n",
      "epoch: 03, loss: -0.69697\n",
      "epoch: 04, loss: -0.71185\n",
      "epoch: 05, loss: -0.72685\n",
      "epoch: 06, loss: -0.73798\n",
      "epoch: 07, loss: -0.74173\n",
      "epoch: 08, loss: -0.74145\n",
      "epoch: 09, loss: -0.72664\n",
      "After Unsqueezing, feature size= torch.Size([400, 1, 1, 384])\n"
     ]
    },
    {
     "name": "stderr",
     "output_type": "stream",
     "text": [
      "  0%|          | 5/1000 [01:44<5:41:06, 20.57s/it]"
     ]
    },
    {
     "name": "stdout",
     "output_type": "stream",
     "text": [
      "eigenvalues shape torch.Size([5]) eigenvectors shape torch.Size([5, 400])\n",
      "5 /home/phdcs2/Hard_Disk/Datasets/Deep-Spectral-Segmentation/data/object-segmentation/ECSSD/features/dino_vits16/0006.pth\n",
      "dict_keys(['k', 'indices', 'file', 'id', 'model_name', 'patch_size', 'shape'])\n",
      "0006\n",
      "Starting Training\n",
      "epoch: 00, loss: -0.51125\n",
      "epoch: 01, loss: -0.65630\n",
      "epoch: 02, loss: -0.68519\n",
      "epoch: 03, loss: -0.70761\n",
      "epoch: 04, loss: -0.71310\n",
      "epoch: 05, loss: -0.71438\n",
      "epoch: 06, loss: -0.72969\n",
      "epoch: 07, loss: -0.73562\n",
      "epoch: 08, loss: -0.75170\n",
      "epoch: 09, loss: -0.76696\n",
      "After Unsqueezing, feature size= torch.Size([400, 1, 1, 384])\n"
     ]
    },
    {
     "name": "stderr",
     "output_type": "stream",
     "text": [
      "  1%|          | 6/1000 [02:05<5:41:33, 20.62s/it]"
     ]
    },
    {
     "name": "stdout",
     "output_type": "stream",
     "text": [
      "eigenvalues shape torch.Size([5]) eigenvectors shape torch.Size([5, 400])\n",
      "6 /home/phdcs2/Hard_Disk/Datasets/Deep-Spectral-Segmentation/data/object-segmentation/ECSSD/features/dino_vits16/0007.pth\n",
      "dict_keys(['k', 'indices', 'file', 'id', 'model_name', 'patch_size', 'shape'])\n",
      "0007\n",
      "Starting Training\n",
      "epoch: 00, loss: -0.53100\n",
      "epoch: 01, loss: -0.66209\n",
      "epoch: 02, loss: -0.67991\n",
      "epoch: 03, loss: -0.68840\n",
      "epoch: 04, loss: -0.69077\n",
      "epoch: 05, loss: -0.69725\n",
      "epoch: 06, loss: -0.69925\n",
      "epoch: 07, loss: -0.70379\n",
      "epoch: 08, loss: -0.70697\n",
      "epoch: 09, loss: -0.71480\n",
      "After Unsqueezing, feature size= torch.Size([400, 1, 1, 384])\n"
     ]
    },
    {
     "name": "stderr",
     "output_type": "stream",
     "text": [
      "  1%|          | 7/1000 [02:33<6:20:02, 22.96s/it]"
     ]
    },
    {
     "name": "stdout",
     "output_type": "stream",
     "text": [
      "eigenvalues shape torch.Size([5]) eigenvectors shape torch.Size([5, 400])\n",
      "7 /home/phdcs2/Hard_Disk/Datasets/Deep-Spectral-Segmentation/data/object-segmentation/ECSSD/features/dino_vits16/0008.pth\n",
      "dict_keys(['k', 'indices', 'file', 'id', 'model_name', 'patch_size', 'shape'])\n",
      "0008\n",
      "Starting Training\n",
      "epoch: 00, loss: -0.49262\n",
      "epoch: 01, loss: -0.66772\n",
      "epoch: 02, loss: -0.68845\n",
      "epoch: 03, loss: -0.71149\n",
      "epoch: 04, loss: -0.73355\n",
      "epoch: 05, loss: -0.75173\n",
      "epoch: 06, loss: -0.74873\n",
      "epoch: 07, loss: -0.75086\n",
      "epoch: 08, loss: -0.73635\n",
      "epoch: 09, loss: -0.73505\n",
      "After Unsqueezing, feature size= torch.Size([400, 1, 1, 384])\n"
     ]
    },
    {
     "name": "stderr",
     "output_type": "stream",
     "text": [
      "  1%|          | 8/1000 [03:00<6:42:56, 24.37s/it]"
     ]
    },
    {
     "name": "stdout",
     "output_type": "stream",
     "text": [
      "eigenvalues shape torch.Size([5]) eigenvectors shape torch.Size([5, 400])\n",
      "8 /home/phdcs2/Hard_Disk/Datasets/Deep-Spectral-Segmentation/data/object-segmentation/ECSSD/features/dino_vits16/0009.pth\n",
      "dict_keys(['k', 'indices', 'file', 'id', 'model_name', 'patch_size', 'shape'])\n",
      "0009\n",
      "Starting Training\n",
      "epoch: 00, loss: -0.46220\n",
      "epoch: 01, loss: -0.61185\n",
      "epoch: 02, loss: -0.64600\n",
      "epoch: 03, loss: -0.66869\n",
      "epoch: 04, loss: -0.66247\n",
      "epoch: 05, loss: -0.65534\n",
      "epoch: 06, loss: -0.66358\n",
      "epoch: 07, loss: -0.66962\n",
      "epoch: 08, loss: -0.67349\n",
      "epoch: 09, loss: -0.66309\n",
      "After Unsqueezing, feature size= torch.Size([400, 1, 1, 384])\n"
     ]
    },
    {
     "name": "stderr",
     "output_type": "stream",
     "text": [
      "  1%|          | 9/1000 [03:22<6:30:12, 23.63s/it]"
     ]
    },
    {
     "name": "stdout",
     "output_type": "stream",
     "text": [
      "eigenvalues shape torch.Size([5]) eigenvectors shape torch.Size([5, 400])\n",
      "9 /home/phdcs2/Hard_Disk/Datasets/Deep-Spectral-Segmentation/data/object-segmentation/ECSSD/features/dino_vits16/0010.pth\n",
      "dict_keys(['k', 'indices', 'file', 'id', 'model_name', 'patch_size', 'shape'])\n",
      "0010\n",
      "Starting Training\n",
      "epoch: 00, loss: -0.58726\n",
      "epoch: 01, loss: -0.73546\n",
      "epoch: 02, loss: -0.75581\n",
      "epoch: 03, loss: -0.77014\n",
      "epoch: 04, loss: -0.76010\n",
      "epoch: 05, loss: -0.76720\n",
      "epoch: 06, loss: -0.76121\n",
      "epoch: 07, loss: -0.76147\n",
      "epoch: 08, loss: -0.76955\n",
      "epoch: 09, loss: -0.76873\n",
      "After Unsqueezing, feature size= torch.Size([400, 1, 1, 384])\n"
     ]
    },
    {
     "name": "stderr",
     "output_type": "stream",
     "text": [
      "  1%|          | 10/1000 [03:43<6:14:02, 22.67s/it]"
     ]
    },
    {
     "name": "stdout",
     "output_type": "stream",
     "text": [
      "eigenvalues shape torch.Size([5]) eigenvectors shape torch.Size([5, 400])\n",
      "10 /home/phdcs2/Hard_Disk/Datasets/Deep-Spectral-Segmentation/data/object-segmentation/ECSSD/features/dino_vits16/0011.pth\n",
      "dict_keys(['k', 'indices', 'file', 'id', 'model_name', 'patch_size', 'shape'])\n",
      "0011\n",
      "Starting Training\n",
      "epoch: 00, loss: -0.49424\n",
      "epoch: 01, loss: -0.65175\n",
      "epoch: 02, loss: -0.67404\n",
      "epoch: 03, loss: -0.69771\n",
      "epoch: 04, loss: -0.71177\n",
      "epoch: 05, loss: -0.71705\n",
      "epoch: 06, loss: -0.72944\n",
      "epoch: 07, loss: -0.73499\n",
      "epoch: 08, loss: -0.72574\n",
      "epoch: 09, loss: -0.71815\n",
      "After Unsqueezing, feature size= torch.Size([400, 1, 1, 384])\n"
     ]
    },
    {
     "name": "stderr",
     "output_type": "stream",
     "text": [
      "  1%|          | 11/1000 [04:04<6:04:40, 22.12s/it]"
     ]
    },
    {
     "name": "stdout",
     "output_type": "stream",
     "text": [
      "eigenvalues shape torch.Size([5]) eigenvectors shape torch.Size([5, 400])\n",
      "11 /home/phdcs2/Hard_Disk/Datasets/Deep-Spectral-Segmentation/data/object-segmentation/ECSSD/features/dino_vits16/0012.pth\n",
      "dict_keys(['k', 'indices', 'file', 'id', 'model_name', 'patch_size', 'shape'])\n",
      "0012\n",
      "Starting Training\n",
      "epoch: 00, loss: -0.54248\n",
      "epoch: 01, loss: -0.70686\n",
      "epoch: 02, loss: -0.72566\n",
      "epoch: 03, loss: -0.75778\n",
      "epoch: 04, loss: -0.76306\n",
      "epoch: 05, loss: -0.76756\n",
      "epoch: 06, loss: -0.77374\n",
      "epoch: 07, loss: -0.77298\n",
      "epoch: 08, loss: -0.76867\n",
      "epoch: 09, loss: -0.77904\n",
      "After Unsqueezing, feature size= torch.Size([400, 1, 1, 384])\n"
     ]
    },
    {
     "name": "stderr",
     "output_type": "stream",
     "text": [
      "  1%|          | 12/1000 [04:23<5:52:44, 21.42s/it]"
     ]
    },
    {
     "name": "stdout",
     "output_type": "stream",
     "text": [
      "eigenvalues shape torch.Size([5]) eigenvectors shape torch.Size([5, 400])\n",
      "12 /home/phdcs2/Hard_Disk/Datasets/Deep-Spectral-Segmentation/data/object-segmentation/ECSSD/features/dino_vits16/0013.pth\n",
      "dict_keys(['k', 'indices', 'file', 'id', 'model_name', 'patch_size', 'shape'])\n",
      "0013\n",
      "Starting Training\n",
      "epoch: 00, loss: -0.52251\n",
      "epoch: 01, loss: -0.66282\n",
      "epoch: 02, loss: -0.68102\n",
      "epoch: 03, loss: -0.70258\n",
      "epoch: 04, loss: -0.69992\n",
      "epoch: 05, loss: -0.70718\n",
      "epoch: 06, loss: -0.70658\n",
      "epoch: 07, loss: -0.71502\n",
      "epoch: 08, loss: -0.71666\n",
      "epoch: 09, loss: -0.73027\n",
      "After Unsqueezing, feature size= torch.Size([400, 1, 1, 384])\n"
     ]
    },
    {
     "name": "stderr",
     "output_type": "stream",
     "text": [
      "  1%|▏         | 13/1000 [04:48<6:07:18, 22.33s/it]"
     ]
    },
    {
     "name": "stdout",
     "output_type": "stream",
     "text": [
      "eigenvalues shape torch.Size([5]) eigenvectors shape torch.Size([5, 400])\n",
      "13 /home/phdcs2/Hard_Disk/Datasets/Deep-Spectral-Segmentation/data/object-segmentation/ECSSD/features/dino_vits16/0014.pth\n",
      "dict_keys(['k', 'indices', 'file', 'id', 'model_name', 'patch_size', 'shape'])\n",
      "0014\n",
      "Starting Training\n",
      "epoch: 00, loss: -0.49793\n",
      "epoch: 01, loss: -0.64571\n",
      "epoch: 02, loss: -0.65801\n",
      "epoch: 03, loss: -0.66304\n",
      "epoch: 04, loss: -0.66893\n",
      "epoch: 05, loss: -0.67650\n",
      "epoch: 06, loss: -0.68779\n",
      "epoch: 07, loss: -0.69835\n",
      "epoch: 08, loss: -0.71068\n",
      "epoch: 09, loss: -0.71045\n",
      "After Unsqueezing, feature size= torch.Size([400, 1, 1, 384])\n"
     ]
    },
    {
     "name": "stderr",
     "output_type": "stream",
     "text": [
      "  1%|▏         | 14/1000 [05:09<6:03:34, 22.12s/it]"
     ]
    },
    {
     "name": "stdout",
     "output_type": "stream",
     "text": [
      "eigenvalues shape torch.Size([5]) eigenvectors shape torch.Size([5, 400])\n",
      "14 /home/phdcs2/Hard_Disk/Datasets/Deep-Spectral-Segmentation/data/object-segmentation/ECSSD/features/dino_vits16/0015.pth\n",
      "dict_keys(['k', 'indices', 'file', 'id', 'model_name', 'patch_size', 'shape'])\n",
      "0015\n",
      "Starting Training\n",
      "epoch: 00, loss: -0.54400\n",
      "epoch: 01, loss: -0.71589\n",
      "epoch: 02, loss: -0.73525\n",
      "epoch: 03, loss: -0.74635\n",
      "epoch: 04, loss: -0.75747\n",
      "epoch: 05, loss: -0.76227\n",
      "epoch: 06, loss: -0.76348\n",
      "epoch: 07, loss: -0.76728\n",
      "epoch: 08, loss: -0.77421\n",
      "epoch: 09, loss: -0.76932\n",
      "After Unsqueezing, feature size= torch.Size([400, 1, 1, 384])\n"
     ]
    },
    {
     "name": "stderr",
     "output_type": "stream",
     "text": [
      "  2%|▏         | 15/1000 [05:30<5:56:26, 21.71s/it]"
     ]
    },
    {
     "name": "stdout",
     "output_type": "stream",
     "text": [
      "eigenvalues shape torch.Size([5]) eigenvectors shape torch.Size([5, 400])\n",
      "15 /home/phdcs2/Hard_Disk/Datasets/Deep-Spectral-Segmentation/data/object-segmentation/ECSSD/features/dino_vits16/0016.pth\n",
      "dict_keys(['k', 'indices', 'file', 'id', 'model_name', 'patch_size', 'shape'])\n",
      "0016\n",
      "Starting Training\n",
      "epoch: 00, loss: -0.44562\n",
      "epoch: 01, loss: -0.60393\n",
      "epoch: 02, loss: -0.62682\n",
      "epoch: 03, loss: -0.65926\n",
      "epoch: 04, loss: -0.66527\n",
      "epoch: 05, loss: -0.68445\n",
      "epoch: 06, loss: -0.70180\n",
      "epoch: 07, loss: -0.71400\n",
      "epoch: 08, loss: -0.73092\n",
      "epoch: 09, loss: -0.72600\n",
      "After Unsqueezing, feature size= torch.Size([400, 1, 1, 384])\n"
     ]
    },
    {
     "name": "stderr",
     "output_type": "stream",
     "text": [
      "  2%|▏         | 16/1000 [05:50<5:48:09, 21.23s/it]"
     ]
    },
    {
     "name": "stdout",
     "output_type": "stream",
     "text": [
      "eigenvalues shape torch.Size([5]) eigenvectors shape torch.Size([5, 400])\n",
      "16 /home/phdcs2/Hard_Disk/Datasets/Deep-Spectral-Segmentation/data/object-segmentation/ECSSD/features/dino_vits16/0017.pth\n",
      "dict_keys(['k', 'indices', 'file', 'id', 'model_name', 'patch_size', 'shape'])\n",
      "0017\n",
      "Starting Training\n",
      "epoch: 00, loss: -0.55298\n",
      "epoch: 01, loss: -0.69512\n",
      "epoch: 02, loss: -0.73258\n",
      "epoch: 03, loss: -0.75162\n",
      "epoch: 04, loss: -0.75698\n",
      "epoch: 05, loss: -0.76176\n",
      "epoch: 06, loss: -0.78331\n",
      "epoch: 07, loss: -0.77758\n",
      "epoch: 08, loss: -0.78502\n",
      "epoch: 09, loss: -0.79475\n",
      "After Unsqueezing, feature size= torch.Size([400, 1, 1, 384])\n"
     ]
    },
    {
     "name": "stderr",
     "output_type": "stream",
     "text": [
      "  2%|▏         | 17/1000 [06:12<5:49:55, 21.36s/it]"
     ]
    },
    {
     "name": "stdout",
     "output_type": "stream",
     "text": [
      "eigenvalues shape torch.Size([5]) eigenvectors shape torch.Size([5, 400])\n",
      "17 /home/phdcs2/Hard_Disk/Datasets/Deep-Spectral-Segmentation/data/object-segmentation/ECSSD/features/dino_vits16/0018.pth\n",
      "dict_keys(['k', 'indices', 'file', 'id', 'model_name', 'patch_size', 'shape'])\n",
      "0018\n",
      "Starting Training\n",
      "epoch: 00, loss: -0.57078\n",
      "epoch: 01, loss: -0.72885\n",
      "epoch: 02, loss: -0.75989\n",
      "epoch: 03, loss: -0.77827\n",
      "epoch: 04, loss: -0.74718\n",
      "epoch: 05, loss: -0.75406\n",
      "epoch: 06, loss: -0.77700\n",
      "epoch: 07, loss: -0.78513\n",
      "epoch: 08, loss: -0.77996\n",
      "epoch: 09, loss: -0.78693\n",
      "After Unsqueezing, feature size= torch.Size([400, 1, 1, 384])\n"
     ]
    },
    {
     "name": "stderr",
     "output_type": "stream",
     "text": [
      "  2%|▏         | 18/1000 [06:33<5:49:53, 21.38s/it]"
     ]
    },
    {
     "name": "stdout",
     "output_type": "stream",
     "text": [
      "eigenvalues shape torch.Size([5]) eigenvectors shape torch.Size([5, 400])\n",
      "18 /home/phdcs2/Hard_Disk/Datasets/Deep-Spectral-Segmentation/data/object-segmentation/ECSSD/features/dino_vits16/0019.pth\n",
      "dict_keys(['k', 'indices', 'file', 'id', 'model_name', 'patch_size', 'shape'])\n",
      "0019\n",
      "Starting Training\n",
      "epoch: 00, loss: -0.48622\n",
      "epoch: 01, loss: -0.63965\n",
      "epoch: 02, loss: -0.69021\n",
      "epoch: 03, loss: -0.70624\n",
      "epoch: 04, loss: -0.71130\n",
      "epoch: 05, loss: -0.71156\n",
      "epoch: 06, loss: -0.72022\n",
      "epoch: 07, loss: -0.72767\n",
      "epoch: 08, loss: -0.72427\n",
      "epoch: 09, loss: -0.72922\n",
      "After Unsqueezing, feature size= torch.Size([400, 1, 1, 384])\n"
     ]
    },
    {
     "name": "stderr",
     "output_type": "stream",
     "text": [
      "  2%|▏         | 19/1000 [06:54<5:47:07, 21.23s/it]"
     ]
    },
    {
     "name": "stdout",
     "output_type": "stream",
     "text": [
      "eigenvalues shape torch.Size([5]) eigenvectors shape torch.Size([5, 400])\n",
      "19 /home/phdcs2/Hard_Disk/Datasets/Deep-Spectral-Segmentation/data/object-segmentation/ECSSD/features/dino_vits16/0020.pth\n",
      "dict_keys(['k', 'indices', 'file', 'id', 'model_name', 'patch_size', 'shape'])\n",
      "0020\n",
      "Starting Training\n",
      "epoch: 00, loss: -0.51154\n",
      "epoch: 01, loss: -0.65723\n",
      "epoch: 02, loss: -0.66206\n",
      "epoch: 03, loss: -0.66813\n",
      "epoch: 04, loss: -0.66662\n",
      "epoch: 05, loss: -0.69348\n",
      "epoch: 06, loss: -0.69006\n",
      "epoch: 07, loss: -0.68706\n",
      "epoch: 08, loss: -0.70293\n",
      "epoch: 09, loss: -0.71697\n",
      "After Unsqueezing, feature size= torch.Size([400, 1, 1, 384])\n"
     ]
    },
    {
     "name": "stderr",
     "output_type": "stream",
     "text": [
      "  2%|▏         | 20/1000 [07:14<5:37:12, 20.64s/it]"
     ]
    },
    {
     "name": "stdout",
     "output_type": "stream",
     "text": [
      "eigenvalues shape torch.Size([5]) eigenvectors shape torch.Size([5, 400])\n",
      "20 /home/phdcs2/Hard_Disk/Datasets/Deep-Spectral-Segmentation/data/object-segmentation/ECSSD/features/dino_vits16/0021.pth\n",
      "dict_keys(['k', 'indices', 'file', 'id', 'model_name', 'patch_size', 'shape'])\n",
      "0021\n",
      "Starting Training\n",
      "epoch: 00, loss: -0.54175\n",
      "epoch: 01, loss: -0.70845\n",
      "epoch: 02, loss: -0.72490\n",
      "epoch: 03, loss: -0.72779\n",
      "epoch: 04, loss: -0.73870\n",
      "epoch: 05, loss: -0.74646\n",
      "epoch: 06, loss: -0.75112\n",
      "epoch: 07, loss: -0.75999\n",
      "epoch: 08, loss: -0.76520\n",
      "epoch: 09, loss: -0.76576\n",
      "After Unsqueezing, feature size= torch.Size([400, 1, 1, 384])\n"
     ]
    },
    {
     "name": "stderr",
     "output_type": "stream",
     "text": [
      "  2%|▏         | 21/1000 [07:33<5:31:23, 20.31s/it]"
     ]
    },
    {
     "name": "stdout",
     "output_type": "stream",
     "text": [
      "eigenvalues shape torch.Size([5]) eigenvectors shape torch.Size([5, 400])\n",
      "21 /home/phdcs2/Hard_Disk/Datasets/Deep-Spectral-Segmentation/data/object-segmentation/ECSSD/features/dino_vits16/0022.pth\n",
      "dict_keys(['k', 'indices', 'file', 'id', 'model_name', 'patch_size', 'shape'])\n",
      "0022\n",
      "Starting Training\n",
      "epoch: 00, loss: -0.48981\n",
      "epoch: 01, loss: -0.66070\n",
      "epoch: 02, loss: -0.66632\n",
      "epoch: 03, loss: -0.69111\n",
      "epoch: 04, loss: -0.69722\n",
      "epoch: 05, loss: -0.70279\n",
      "epoch: 06, loss: -0.71034\n",
      "epoch: 07, loss: -0.71821\n",
      "epoch: 08, loss: -0.71814\n",
      "epoch: 09, loss: -0.72645\n",
      "After Unsqueezing, feature size= torch.Size([400, 1, 1, 384])\n"
     ]
    },
    {
     "name": "stderr",
     "output_type": "stream",
     "text": [
      "  2%|▏         | 22/1000 [07:50<5:14:49, 19.31s/it]"
     ]
    },
    {
     "name": "stdout",
     "output_type": "stream",
     "text": [
      "eigenvalues shape torch.Size([5]) eigenvectors shape torch.Size([5, 400])\n",
      "22 /home/phdcs2/Hard_Disk/Datasets/Deep-Spectral-Segmentation/data/object-segmentation/ECSSD/features/dino_vits16/0023.pth\n",
      "dict_keys(['k', 'indices', 'file', 'id', 'model_name', 'patch_size', 'shape'])\n",
      "0023\n",
      "Starting Training\n",
      "epoch: 00, loss: -0.49846\n",
      "epoch: 01, loss: -0.66203\n",
      "epoch: 02, loss: -0.68512\n",
      "epoch: 03, loss: -0.68082\n",
      "epoch: 04, loss: -0.69433\n",
      "epoch: 05, loss: -0.69904\n",
      "epoch: 06, loss: -0.71157\n",
      "epoch: 07, loss: -0.70368\n",
      "epoch: 08, loss: -0.71601\n",
      "epoch: 09, loss: -0.72100\n",
      "After Unsqueezing, feature size= torch.Size([400, 1, 1, 384])\n"
     ]
    },
    {
     "name": "stderr",
     "output_type": "stream",
     "text": [
      "  2%|▏         | 23/1000 [08:10<5:16:54, 19.46s/it]"
     ]
    },
    {
     "name": "stdout",
     "output_type": "stream",
     "text": [
      "eigenvalues shape torch.Size([5]) eigenvectors shape torch.Size([5, 400])\n",
      "23 /home/phdcs2/Hard_Disk/Datasets/Deep-Spectral-Segmentation/data/object-segmentation/ECSSD/features/dino_vits16/0024.pth\n",
      "dict_keys(['k', 'indices', 'file', 'id', 'model_name', 'patch_size', 'shape'])\n",
      "0024\n",
      "Starting Training\n",
      "epoch: 00, loss: -0.52398\n",
      "epoch: 01, loss: -0.71016\n",
      "epoch: 02, loss: -0.73853\n",
      "epoch: 03, loss: -0.75584\n",
      "epoch: 04, loss: -0.74745\n",
      "epoch: 05, loss: -0.72897\n",
      "epoch: 06, loss: -0.73563\n",
      "epoch: 07, loss: -0.74563\n",
      "epoch: 08, loss: -0.74841\n",
      "epoch: 09, loss: -0.74706\n",
      "After Unsqueezing, feature size= torch.Size([400, 1, 1, 384])\n"
     ]
    },
    {
     "name": "stderr",
     "output_type": "stream",
     "text": [
      "  2%|▏         | 24/1000 [08:32<5:28:54, 20.22s/it]"
     ]
    },
    {
     "name": "stdout",
     "output_type": "stream",
     "text": [
      "eigenvalues shape torch.Size([5]) eigenvectors shape torch.Size([5, 400])\n",
      "24 /home/phdcs2/Hard_Disk/Datasets/Deep-Spectral-Segmentation/data/object-segmentation/ECSSD/features/dino_vits16/0025.pth\n",
      "dict_keys(['k', 'indices', 'file', 'id', 'model_name', 'patch_size', 'shape'])\n",
      "0025\n",
      "Starting Training\n",
      "epoch: 00, loss: -0.56135\n",
      "epoch: 01, loss: -0.72162\n",
      "epoch: 02, loss: -0.73524\n",
      "epoch: 03, loss: -0.75007\n",
      "epoch: 04, loss: -0.76227\n",
      "epoch: 05, loss: -0.76336\n",
      "epoch: 06, loss: -0.76527\n",
      "epoch: 07, loss: -0.77460\n",
      "epoch: 08, loss: -0.78037\n",
      "epoch: 09, loss: -0.78581\n",
      "After Unsqueezing, feature size= torch.Size([400, 1, 1, 384])\n"
     ]
    },
    {
     "name": "stderr",
     "output_type": "stream",
     "text": [
      "  2%|▎         | 25/1000 [08:55<5:40:49, 20.97s/it]"
     ]
    },
    {
     "name": "stdout",
     "output_type": "stream",
     "text": [
      "eigenvalues shape torch.Size([5]) eigenvectors shape torch.Size([5, 400])\n",
      "25 /home/phdcs2/Hard_Disk/Datasets/Deep-Spectral-Segmentation/data/object-segmentation/ECSSD/features/dino_vits16/0026.pth\n",
      "dict_keys(['k', 'indices', 'file', 'id', 'model_name', 'patch_size', 'shape'])\n",
      "0026\n",
      "Starting Training\n",
      "epoch: 00, loss: -0.50539\n",
      "epoch: 01, loss: -0.66040\n",
      "epoch: 02, loss: -0.68991\n",
      "epoch: 03, loss: -0.68750\n",
      "epoch: 04, loss: -0.69911\n",
      "epoch: 05, loss: -0.70596\n",
      "epoch: 06, loss: -0.70772\n",
      "epoch: 07, loss: -0.71688\n",
      "epoch: 08, loss: -0.73536\n",
      "epoch: 09, loss: -0.74210\n",
      "After Unsqueezing, feature size= torch.Size([400, 1, 1, 384])\n"
     ]
    },
    {
     "name": "stderr",
     "output_type": "stream",
     "text": [
      "  3%|▎         | 26/1000 [09:18<5:50:05, 21.57s/it]"
     ]
    },
    {
     "name": "stdout",
     "output_type": "stream",
     "text": [
      "eigenvalues shape torch.Size([5]) eigenvectors shape torch.Size([5, 400])\n",
      "26 /home/phdcs2/Hard_Disk/Datasets/Deep-Spectral-Segmentation/data/object-segmentation/ECSSD/features/dino_vits16/0027.pth\n",
      "dict_keys(['k', 'indices', 'file', 'id', 'model_name', 'patch_size', 'shape'])\n",
      "0027\n",
      "Starting Training\n",
      "epoch: 00, loss: -0.51341\n",
      "epoch: 01, loss: -0.65894\n",
      "epoch: 02, loss: -0.68188\n",
      "epoch: 03, loss: -0.68802\n",
      "epoch: 04, loss: -0.68637\n",
      "epoch: 05, loss: -0.70769\n",
      "epoch: 06, loss: -0.70936\n",
      "epoch: 07, loss: -0.68348\n",
      "epoch: 08, loss: -0.68246\n",
      "epoch: 09, loss: -0.69978\n",
      "After Unsqueezing, feature size= torch.Size([400, 1, 1, 384])\n"
     ]
    },
    {
     "name": "stderr",
     "output_type": "stream",
     "text": [
      "  3%|▎         | 27/1000 [09:39<5:47:41, 21.44s/it]"
     ]
    },
    {
     "name": "stdout",
     "output_type": "stream",
     "text": [
      "eigenvalues shape torch.Size([5]) eigenvectors shape torch.Size([5, 400])\n",
      "27 /home/phdcs2/Hard_Disk/Datasets/Deep-Spectral-Segmentation/data/object-segmentation/ECSSD/features/dino_vits16/0028.pth\n",
      "dict_keys(['k', 'indices', 'file', 'id', 'model_name', 'patch_size', 'shape'])\n",
      "0028\n",
      "Starting Training\n",
      "epoch: 00, loss: -0.58786\n",
      "epoch: 01, loss: -0.73884\n",
      "epoch: 02, loss: -0.76162\n",
      "epoch: 03, loss: -0.77708\n",
      "epoch: 04, loss: -0.78486\n",
      "epoch: 05, loss: -0.78042\n",
      "epoch: 06, loss: -0.78357\n",
      "epoch: 07, loss: -0.78610\n",
      "epoch: 08, loss: -0.78673\n",
      "epoch: 09, loss: -0.78613\n",
      "After Unsqueezing, feature size= torch.Size([400, 1, 1, 384])\n"
     ]
    },
    {
     "name": "stderr",
     "output_type": "stream",
     "text": [
      "  3%|▎         | 28/1000 [10:00<5:45:29, 21.33s/it]"
     ]
    },
    {
     "name": "stdout",
     "output_type": "stream",
     "text": [
      "eigenvalues shape torch.Size([5]) eigenvectors shape torch.Size([5, 400])\n",
      "28 /home/phdcs2/Hard_Disk/Datasets/Deep-Spectral-Segmentation/data/object-segmentation/ECSSD/features/dino_vits16/0029.pth\n",
      "dict_keys(['k', 'indices', 'file', 'id', 'model_name', 'patch_size', 'shape'])\n",
      "0029\n",
      "Starting Training\n",
      "epoch: 00, loss: -0.46412\n",
      "epoch: 01, loss: -0.61730\n",
      "epoch: 02, loss: -0.64153\n",
      "epoch: 03, loss: -0.66632\n",
      "epoch: 04, loss: -0.68073\n",
      "epoch: 05, loss: -0.68397\n",
      "epoch: 06, loss: -0.68886\n",
      "epoch: 07, loss: -0.69672\n",
      "epoch: 08, loss: -0.70276\n",
      "epoch: 09, loss: -0.70949\n",
      "After Unsqueezing, feature size= torch.Size([400, 1, 1, 384])\n"
     ]
    },
    {
     "name": "stderr",
     "output_type": "stream",
     "text": [
      "  3%|▎         | 29/1000 [10:18<5:32:06, 20.52s/it]"
     ]
    },
    {
     "name": "stdout",
     "output_type": "stream",
     "text": [
      "eigenvalues shape torch.Size([5]) eigenvectors shape torch.Size([5, 400])\n",
      "29 /home/phdcs2/Hard_Disk/Datasets/Deep-Spectral-Segmentation/data/object-segmentation/ECSSD/features/dino_vits16/0030.pth\n",
      "dict_keys(['k', 'indices', 'file', 'id', 'model_name', 'patch_size', 'shape'])\n",
      "0030\n",
      "Starting Training\n",
      "epoch: 00, loss: -0.52132\n",
      "epoch: 01, loss: -0.69841\n",
      "epoch: 02, loss: -0.71166\n",
      "epoch: 03, loss: -0.71967\n",
      "epoch: 04, loss: -0.73327\n",
      "epoch: 05, loss: -0.74302\n",
      "epoch: 06, loss: -0.72952\n",
      "epoch: 07, loss: -0.75304\n",
      "epoch: 08, loss: -0.75319\n",
      "epoch: 09, loss: -0.76038\n",
      "After Unsqueezing, feature size= torch.Size([400, 1, 1, 384])\n"
     ]
    },
    {
     "name": "stderr",
     "output_type": "stream",
     "text": [
      "  3%|▎         | 30/1000 [10:37<5:23:38, 20.02s/it]"
     ]
    },
    {
     "name": "stdout",
     "output_type": "stream",
     "text": [
      "eigenvalues shape torch.Size([5]) eigenvectors shape torch.Size([5, 400])\n",
      "30 /home/phdcs2/Hard_Disk/Datasets/Deep-Spectral-Segmentation/data/object-segmentation/ECSSD/features/dino_vits16/0031.pth\n",
      "dict_keys(['k', 'indices', 'file', 'id', 'model_name', 'patch_size', 'shape'])\n",
      "0031\n",
      "Starting Training\n",
      "epoch: 00, loss: -0.51272\n",
      "epoch: 01, loss: -0.68871\n",
      "epoch: 02, loss: -0.71375\n",
      "epoch: 03, loss: -0.74838\n",
      "epoch: 04, loss: -0.76410\n",
      "epoch: 05, loss: -0.76351\n",
      "epoch: 06, loss: -0.77343\n",
      "epoch: 07, loss: -0.78434\n",
      "epoch: 08, loss: -0.77895\n",
      "epoch: 09, loss: -0.76939\n",
      "After Unsqueezing, feature size= torch.Size([400, 1, 1, 384])\n"
     ]
    },
    {
     "name": "stderr",
     "output_type": "stream",
     "text": [
      "  3%|▎         | 31/1000 [10:54<5:08:34, 19.11s/it]"
     ]
    },
    {
     "name": "stdout",
     "output_type": "stream",
     "text": [
      "eigenvalues shape torch.Size([5]) eigenvectors shape torch.Size([5, 400])\n",
      "31 /home/phdcs2/Hard_Disk/Datasets/Deep-Spectral-Segmentation/data/object-segmentation/ECSSD/features/dino_vits16/0032.pth\n",
      "dict_keys(['k', 'indices', 'file', 'id', 'model_name', 'patch_size', 'shape'])\n",
      "0032\n",
      "Starting Training\n",
      "epoch: 00, loss: -0.48872\n",
      "epoch: 01, loss: -0.62407\n",
      "epoch: 02, loss: -0.64256\n",
      "epoch: 03, loss: -0.66967\n",
      "epoch: 04, loss: -0.68296\n",
      "epoch: 05, loss: -0.69521\n",
      "epoch: 06, loss: -0.69320\n",
      "epoch: 07, loss: -0.72060\n",
      "epoch: 08, loss: -0.73129\n",
      "epoch: 09, loss: -0.73664\n",
      "After Unsqueezing, feature size= torch.Size([400, 1, 1, 384])\n"
     ]
    },
    {
     "name": "stderr",
     "output_type": "stream",
     "text": [
      "  3%|▎         | 32/1000 [11:11<4:58:03, 18.47s/it]"
     ]
    },
    {
     "name": "stdout",
     "output_type": "stream",
     "text": [
      "eigenvalues shape torch.Size([5]) eigenvectors shape torch.Size([5, 400])\n",
      "32 /home/phdcs2/Hard_Disk/Datasets/Deep-Spectral-Segmentation/data/object-segmentation/ECSSD/features/dino_vits16/0033.pth\n",
      "dict_keys(['k', 'indices', 'file', 'id', 'model_name', 'patch_size', 'shape'])\n",
      "0033\n",
      "Starting Training\n",
      "epoch: 00, loss: -0.46211\n",
      "epoch: 01, loss: -0.57604\n",
      "epoch: 02, loss: -0.61763\n",
      "epoch: 03, loss: -0.63066\n",
      "epoch: 04, loss: -0.65097\n",
      "epoch: 05, loss: -0.65355\n",
      "epoch: 06, loss: -0.64412\n",
      "epoch: 07, loss: -0.64956\n",
      "epoch: 08, loss: -0.66779\n",
      "epoch: 09, loss: -0.68255\n",
      "After Unsqueezing, feature size= torch.Size([400, 1, 1, 384])\n"
     ]
    },
    {
     "name": "stderr",
     "output_type": "stream",
     "text": [
      "  3%|▎         | 33/1000 [11:30<4:58:46, 18.54s/it]"
     ]
    },
    {
     "name": "stdout",
     "output_type": "stream",
     "text": [
      "eigenvalues shape torch.Size([5]) eigenvectors shape torch.Size([5, 400])\n",
      "33 /home/phdcs2/Hard_Disk/Datasets/Deep-Spectral-Segmentation/data/object-segmentation/ECSSD/features/dino_vits16/0034.pth\n",
      "dict_keys(['k', 'indices', 'file', 'id', 'model_name', 'patch_size', 'shape'])\n",
      "0034\n",
      "Starting Training\n",
      "epoch: 00, loss: -0.49143\n",
      "epoch: 01, loss: -0.65143\n",
      "epoch: 02, loss: -0.66924\n",
      "epoch: 03, loss: -0.67343\n",
      "epoch: 04, loss: -0.69434\n",
      "epoch: 05, loss: -0.69551\n",
      "epoch: 06, loss: -0.70014\n",
      "epoch: 07, loss: -0.70501\n",
      "epoch: 08, loss: -0.72221\n",
      "epoch: 09, loss: -0.72988\n",
      "After Unsqueezing, feature size= torch.Size([400, 1, 1, 384])\n"
     ]
    },
    {
     "name": "stderr",
     "output_type": "stream",
     "text": [
      "  3%|▎         | 34/1000 [11:46<4:46:11, 17.78s/it]"
     ]
    },
    {
     "name": "stdout",
     "output_type": "stream",
     "text": [
      "eigenvalues shape torch.Size([5]) eigenvectors shape torch.Size([5, 400])\n",
      "34 /home/phdcs2/Hard_Disk/Datasets/Deep-Spectral-Segmentation/data/object-segmentation/ECSSD/features/dino_vits16/0035.pth\n",
      "dict_keys(['k', 'indices', 'file', 'id', 'model_name', 'patch_size', 'shape'])\n",
      "0035\n",
      "Starting Training\n",
      "epoch: 00, loss: -0.52561\n",
      "epoch: 01, loss: -0.66567\n",
      "epoch: 02, loss: -0.66995\n",
      "epoch: 03, loss: -0.68007\n",
      "epoch: 04, loss: -0.66690\n",
      "epoch: 05, loss: -0.67635\n",
      "epoch: 06, loss: -0.69104\n",
      "epoch: 07, loss: -0.70803\n",
      "epoch: 08, loss: -0.71330\n",
      "epoch: 09, loss: -0.70531\n",
      "After Unsqueezing, feature size= torch.Size([400, 1, 1, 384])\n"
     ]
    },
    {
     "name": "stderr",
     "output_type": "stream",
     "text": [
      "  4%|▎         | 35/1000 [12:03<4:43:12, 17.61s/it]"
     ]
    },
    {
     "name": "stdout",
     "output_type": "stream",
     "text": [
      "eigenvalues shape torch.Size([5]) eigenvectors shape torch.Size([5, 400])\n",
      "35 /home/phdcs2/Hard_Disk/Datasets/Deep-Spectral-Segmentation/data/object-segmentation/ECSSD/features/dino_vits16/0036.pth\n",
      "dict_keys(['k', 'indices', 'file', 'id', 'model_name', 'patch_size', 'shape'])\n",
      "0036\n",
      "Starting Training\n",
      "epoch: 00, loss: -0.54880\n",
      "epoch: 01, loss: -0.70173\n",
      "epoch: 02, loss: -0.72155\n",
      "epoch: 03, loss: -0.73055\n",
      "epoch: 04, loss: -0.74546\n",
      "epoch: 05, loss: -0.75990\n",
      "epoch: 06, loss: -0.75377\n",
      "epoch: 07, loss: -0.75285\n",
      "epoch: 08, loss: -0.75617\n",
      "epoch: 09, loss: -0.75179\n",
      "After Unsqueezing, feature size= torch.Size([450, 1, 1, 384])\n"
     ]
    },
    {
     "name": "stderr",
     "output_type": "stream",
     "text": [
      "  4%|▎         | 36/1000 [12:26<5:06:48, 19.10s/it]"
     ]
    },
    {
     "name": "stdout",
     "output_type": "stream",
     "text": [
      "eigenvalues shape torch.Size([5]) eigenvectors shape torch.Size([5, 450])\n",
      "36 /home/phdcs2/Hard_Disk/Datasets/Deep-Spectral-Segmentation/data/object-segmentation/ECSSD/features/dino_vits16/0037.pth\n",
      "dict_keys(['k', 'indices', 'file', 'id', 'model_name', 'patch_size', 'shape'])\n",
      "0037\n",
      "Starting Training\n",
      "epoch: 00, loss: -0.49625\n",
      "epoch: 01, loss: -0.64698\n",
      "epoch: 02, loss: -0.66302\n",
      "epoch: 03, loss: -0.67810\n",
      "epoch: 04, loss: -0.68153\n",
      "epoch: 05, loss: -0.69570\n",
      "epoch: 06, loss: -0.70408\n",
      "epoch: 07, loss: -0.70757\n",
      "epoch: 08, loss: -0.71396\n",
      "epoch: 09, loss: -0.72963\n",
      "After Unsqueezing, feature size= torch.Size([450, 1, 1, 384])\n"
     ]
    },
    {
     "name": "stderr",
     "output_type": "stream",
     "text": [
      "  4%|▎         | 37/1000 [12:47<5:18:50, 19.87s/it]"
     ]
    },
    {
     "name": "stdout",
     "output_type": "stream",
     "text": [
      "eigenvalues shape torch.Size([5]) eigenvectors shape torch.Size([5, 450])\n",
      "37 /home/phdcs2/Hard_Disk/Datasets/Deep-Spectral-Segmentation/data/object-segmentation/ECSSD/features/dino_vits16/0038.pth\n",
      "dict_keys(['k', 'indices', 'file', 'id', 'model_name', 'patch_size', 'shape'])\n",
      "0038\n",
      "Starting Training\n",
      "epoch: 00, loss: -0.52300\n",
      "epoch: 01, loss: -0.66853\n",
      "epoch: 02, loss: -0.70306\n",
      "epoch: 03, loss: -0.72429\n",
      "epoch: 04, loss: -0.72949\n",
      "epoch: 05, loss: -0.73928\n",
      "epoch: 06, loss: -0.73802\n",
      "epoch: 07, loss: -0.74630\n",
      "epoch: 08, loss: -0.75805\n",
      "epoch: 09, loss: -0.75526\n",
      "After Unsqueezing, feature size= torch.Size([400, 1, 1, 384])\n"
     ]
    },
    {
     "name": "stderr",
     "output_type": "stream",
     "text": [
      "  4%|▍         | 38/1000 [13:06<5:12:42, 19.50s/it]"
     ]
    },
    {
     "name": "stdout",
     "output_type": "stream",
     "text": [
      "eigenvalues shape torch.Size([5]) eigenvectors shape torch.Size([5, 400])\n",
      "38 /home/phdcs2/Hard_Disk/Datasets/Deep-Spectral-Segmentation/data/object-segmentation/ECSSD/features/dino_vits16/0039.pth\n",
      "dict_keys(['k', 'indices', 'file', 'id', 'model_name', 'patch_size', 'shape'])\n",
      "0039\n",
      "Starting Training\n",
      "epoch: 00, loss: -0.54204\n",
      "epoch: 01, loss: -0.70604\n",
      "epoch: 02, loss: -0.71995\n",
      "epoch: 03, loss: -0.73710\n",
      "epoch: 04, loss: -0.75423\n",
      "epoch: 05, loss: -0.75750\n",
      "epoch: 06, loss: -0.76685\n",
      "epoch: 07, loss: -0.77840\n",
      "epoch: 08, loss: -0.77764\n",
      "epoch: 09, loss: -0.78131\n",
      "After Unsqueezing, feature size= torch.Size([400, 1, 1, 384])\n"
     ]
    },
    {
     "name": "stderr",
     "output_type": "stream",
     "text": [
      "  4%|▍         | 39/1000 [13:22<4:55:43, 18.46s/it]"
     ]
    },
    {
     "name": "stdout",
     "output_type": "stream",
     "text": [
      "eigenvalues shape torch.Size([5]) eigenvectors shape torch.Size([5, 400])\n",
      "39 /home/phdcs2/Hard_Disk/Datasets/Deep-Spectral-Segmentation/data/object-segmentation/ECSSD/features/dino_vits16/0040.pth\n",
      "dict_keys(['k', 'indices', 'file', 'id', 'model_name', 'patch_size', 'shape'])\n",
      "0040\n",
      "Starting Training\n",
      "epoch: 00, loss: -0.53643\n",
      "epoch: 01, loss: -0.68658\n",
      "epoch: 02, loss: -0.71023\n",
      "epoch: 03, loss: -0.71242\n",
      "epoch: 04, loss: -0.73140\n",
      "epoch: 05, loss: -0.73314\n",
      "epoch: 06, loss: -0.74098\n",
      "epoch: 07, loss: -0.74718\n",
      "epoch: 08, loss: -0.74772\n",
      "epoch: 09, loss: -0.76616\n",
      "After Unsqueezing, feature size= torch.Size([400, 1, 1, 384])\n"
     ]
    },
    {
     "name": "stderr",
     "output_type": "stream",
     "text": [
      "  4%|▍         | 40/1000 [13:41<4:57:04, 18.57s/it]"
     ]
    },
    {
     "name": "stdout",
     "output_type": "stream",
     "text": [
      "eigenvalues shape torch.Size([5]) eigenvectors shape torch.Size([5, 400])\n",
      "40 /home/phdcs2/Hard_Disk/Datasets/Deep-Spectral-Segmentation/data/object-segmentation/ECSSD/features/dino_vits16/0041.pth\n",
      "dict_keys(['k', 'indices', 'file', 'id', 'model_name', 'patch_size', 'shape'])\n",
      "0041\n",
      "Starting Training\n",
      "epoch: 00, loss: -0.47154\n",
      "epoch: 01, loss: -0.61125\n",
      "epoch: 02, loss: -0.63580\n",
      "epoch: 03, loss: -0.65797\n",
      "epoch: 04, loss: -0.67248\n",
      "epoch: 05, loss: -0.67182\n",
      "epoch: 06, loss: -0.68529\n",
      "epoch: 07, loss: -0.69763\n",
      "epoch: 08, loss: -0.69046\n",
      "epoch: 09, loss: -0.67675\n",
      "After Unsqueezing, feature size= torch.Size([450, 1, 1, 384])\n"
     ]
    },
    {
     "name": "stderr",
     "output_type": "stream",
     "text": [
      "  4%|▍         | 41/1000 [14:02<5:08:52, 19.32s/it]"
     ]
    },
    {
     "name": "stdout",
     "output_type": "stream",
     "text": [
      "eigenvalues shape torch.Size([5]) eigenvectors shape torch.Size([5, 450])\n",
      "41 /home/phdcs2/Hard_Disk/Datasets/Deep-Spectral-Segmentation/data/object-segmentation/ECSSD/features/dino_vits16/0042.pth\n",
      "dict_keys(['k', 'indices', 'file', 'id', 'model_name', 'patch_size', 'shape'])\n",
      "0042\n",
      "Starting Training\n",
      "epoch: 00, loss: -0.51245\n",
      "epoch: 01, loss: -0.68189\n",
      "epoch: 02, loss: -0.70791\n",
      "epoch: 03, loss: -0.70323\n",
      "epoch: 04, loss: -0.70206\n",
      "epoch: 05, loss: -0.73219\n",
      "epoch: 06, loss: -0.74563\n",
      "epoch: 07, loss: -0.75220\n",
      "epoch: 08, loss: -0.76095\n",
      "epoch: 09, loss: -0.75694\n",
      "After Unsqueezing, feature size= torch.Size([400, 1, 1, 384])\n"
     ]
    },
    {
     "name": "stderr",
     "output_type": "stream",
     "text": [
      "  4%|▍         | 42/1000 [14:19<4:57:08, 18.61s/it]"
     ]
    },
    {
     "name": "stdout",
     "output_type": "stream",
     "text": [
      "eigenvalues shape torch.Size([5]) eigenvectors shape torch.Size([5, 400])\n",
      "42 /home/phdcs2/Hard_Disk/Datasets/Deep-Spectral-Segmentation/data/object-segmentation/ECSSD/features/dino_vits16/0043.pth\n",
      "dict_keys(['k', 'indices', 'file', 'id', 'model_name', 'patch_size', 'shape'])\n",
      "0043\n",
      "Starting Training\n",
      "epoch: 00, loss: -0.57091\n",
      "epoch: 01, loss: -0.72566\n",
      "epoch: 02, loss: -0.75563\n",
      "epoch: 03, loss: -0.76623\n",
      "epoch: 04, loss: -0.76920\n",
      "epoch: 05, loss: -0.77393\n",
      "epoch: 06, loss: -0.78201\n",
      "epoch: 07, loss: -0.78268\n",
      "epoch: 08, loss: -0.78286\n",
      "epoch: 09, loss: -0.77603\n",
      "After Unsqueezing, feature size= torch.Size([450, 1, 1, 384])\n"
     ]
    },
    {
     "name": "stderr",
     "output_type": "stream",
     "text": [
      "  4%|▍         | 43/1000 [14:40<5:07:12, 19.26s/it]"
     ]
    },
    {
     "name": "stdout",
     "output_type": "stream",
     "text": [
      "eigenvalues shape torch.Size([5]) eigenvectors shape torch.Size([5, 450])\n",
      "43 /home/phdcs2/Hard_Disk/Datasets/Deep-Spectral-Segmentation/data/object-segmentation/ECSSD/features/dino_vits16/0044.pth\n",
      "dict_keys(['k', 'indices', 'file', 'id', 'model_name', 'patch_size', 'shape'])\n",
      "0044\n",
      "Starting Training\n",
      "epoch: 00, loss: -0.53698\n",
      "epoch: 01, loss: -0.63423\n",
      "epoch: 02, loss: -0.64538\n",
      "epoch: 03, loss: -0.66765\n",
      "epoch: 04, loss: -0.68392\n",
      "epoch: 05, loss: -0.67341\n",
      "epoch: 06, loss: -0.68189\n",
      "epoch: 07, loss: -0.66577\n",
      "epoch: 08, loss: -0.67896\n",
      "epoch: 09, loss: -0.68326\n",
      "After Unsqueezing, feature size= torch.Size([525, 1, 1, 384])\n"
     ]
    },
    {
     "name": "stderr",
     "output_type": "stream",
     "text": [
      "  4%|▍         | 44/1000 [15:02<5:22:58, 20.27s/it]"
     ]
    },
    {
     "name": "stdout",
     "output_type": "stream",
     "text": [
      "eigenvalues shape torch.Size([5]) eigenvectors shape torch.Size([5, 525])\n",
      "44 /home/phdcs2/Hard_Disk/Datasets/Deep-Spectral-Segmentation/data/object-segmentation/ECSSD/features/dino_vits16/0045.pth\n",
      "dict_keys(['k', 'indices', 'file', 'id', 'model_name', 'patch_size', 'shape'])\n",
      "0045\n",
      "Starting Training\n",
      "epoch: 00, loss: -0.56368\n",
      "epoch: 01, loss: -0.70747\n",
      "epoch: 02, loss: -0.71833\n",
      "epoch: 03, loss: -0.73222\n",
      "epoch: 04, loss: -0.73801\n",
      "epoch: 05, loss: -0.74688\n",
      "epoch: 06, loss: -0.75390\n",
      "epoch: 07, loss: -0.76321\n",
      "epoch: 08, loss: -0.76534\n",
      "epoch: 09, loss: -0.76305\n",
      "After Unsqueezing, feature size= torch.Size([450, 1, 1, 384])\n"
     ]
    },
    {
     "name": "stderr",
     "output_type": "stream",
     "text": [
      "  4%|▍         | 45/1000 [15:22<5:22:06, 20.24s/it]"
     ]
    },
    {
     "name": "stdout",
     "output_type": "stream",
     "text": [
      "eigenvalues shape torch.Size([5]) eigenvectors shape torch.Size([5, 450])\n",
      "45 /home/phdcs2/Hard_Disk/Datasets/Deep-Spectral-Segmentation/data/object-segmentation/ECSSD/features/dino_vits16/0046.pth\n",
      "dict_keys(['k', 'indices', 'file', 'id', 'model_name', 'patch_size', 'shape'])\n",
      "0046\n",
      "Starting Training\n",
      "epoch: 00, loss: -0.54319\n",
      "epoch: 01, loss: -0.68269\n",
      "epoch: 02, loss: -0.69976\n",
      "epoch: 03, loss: -0.70733\n",
      "epoch: 04, loss: -0.70927\n",
      "epoch: 05, loss: -0.72440\n",
      "epoch: 06, loss: -0.73778\n",
      "epoch: 07, loss: -0.74361\n",
      "epoch: 08, loss: -0.73391\n",
      "epoch: 09, loss: -0.74417\n",
      "After Unsqueezing, feature size= torch.Size([450, 1, 1, 384])\n"
     ]
    },
    {
     "name": "stderr",
     "output_type": "stream",
     "text": [
      "  5%|▍         | 46/1000 [15:42<5:18:56, 20.06s/it]"
     ]
    },
    {
     "name": "stdout",
     "output_type": "stream",
     "text": [
      "eigenvalues shape torch.Size([5]) eigenvectors shape torch.Size([5, 450])\n",
      "46 /home/phdcs2/Hard_Disk/Datasets/Deep-Spectral-Segmentation/data/object-segmentation/ECSSD/features/dino_vits16/0047.pth\n",
      "dict_keys(['k', 'indices', 'file', 'id', 'model_name', 'patch_size', 'shape'])\n",
      "0047\n",
      "Starting Training\n",
      "epoch: 00, loss: -0.57075\n",
      "epoch: 01, loss: -0.72155\n",
      "epoch: 02, loss: -0.74266\n",
      "epoch: 03, loss: -0.75322\n",
      "epoch: 04, loss: -0.75838\n",
      "epoch: 05, loss: -0.76216\n",
      "epoch: 06, loss: -0.76515\n",
      "epoch: 07, loss: -0.76678\n",
      "epoch: 08, loss: -0.77400\n",
      "epoch: 09, loss: -0.77466\n",
      "After Unsqueezing, feature size= torch.Size([400, 1, 1, 384])\n"
     ]
    },
    {
     "name": "stderr",
     "output_type": "stream",
     "text": [
      "  5%|▍         | 47/1000 [15:58<4:57:03, 18.70s/it]"
     ]
    },
    {
     "name": "stdout",
     "output_type": "stream",
     "text": [
      "eigenvalues shape torch.Size([5]) eigenvectors shape torch.Size([5, 400])\n",
      "47 /home/phdcs2/Hard_Disk/Datasets/Deep-Spectral-Segmentation/data/object-segmentation/ECSSD/features/dino_vits16/0048.pth\n",
      "dict_keys(['k', 'indices', 'file', 'id', 'model_name', 'patch_size', 'shape'])\n",
      "0048\n",
      "Starting Training\n",
      "epoch: 00, loss: -0.53767\n",
      "epoch: 01, loss: -0.69365\n",
      "epoch: 02, loss: -0.71709\n",
      "epoch: 03, loss: -0.73815\n",
      "epoch: 04, loss: -0.74787\n",
      "epoch: 05, loss: -0.73659\n",
      "epoch: 06, loss: -0.75024\n",
      "epoch: 07, loss: -0.75535\n",
      "epoch: 08, loss: -0.75472\n",
      "epoch: 09, loss: -0.76761\n",
      "After Unsqueezing, feature size= torch.Size([450, 1, 1, 384])\n"
     ]
    },
    {
     "name": "stderr",
     "output_type": "stream",
     "text": [
      "  5%|▍         | 48/1000 [16:17<4:59:59, 18.91s/it]"
     ]
    },
    {
     "name": "stdout",
     "output_type": "stream",
     "text": [
      "eigenvalues shape torch.Size([5]) eigenvectors shape torch.Size([5, 450])\n",
      "48 /home/phdcs2/Hard_Disk/Datasets/Deep-Spectral-Segmentation/data/object-segmentation/ECSSD/features/dino_vits16/0049.pth\n",
      "dict_keys(['k', 'indices', 'file', 'id', 'model_name', 'patch_size', 'shape'])\n",
      "0049\n",
      "Starting Training\n",
      "epoch: 00, loss: -0.53514\n",
      "epoch: 01, loss: -0.67007\n",
      "epoch: 02, loss: -0.70664\n",
      "epoch: 03, loss: -0.71586\n",
      "epoch: 04, loss: -0.71230\n",
      "epoch: 05, loss: -0.72407\n",
      "epoch: 06, loss: -0.71437\n",
      "epoch: 07, loss: -0.72805\n",
      "epoch: 08, loss: -0.74300\n",
      "epoch: 09, loss: -0.74177\n",
      "After Unsqueezing, feature size= torch.Size([450, 1, 1, 384])\n"
     ]
    },
    {
     "name": "stderr",
     "output_type": "stream",
     "text": [
      "  5%|▍         | 49/1000 [16:37<5:06:01, 19.31s/it]"
     ]
    },
    {
     "name": "stdout",
     "output_type": "stream",
     "text": [
      "eigenvalues shape torch.Size([5]) eigenvectors shape torch.Size([5, 450])\n",
      "49 /home/phdcs2/Hard_Disk/Datasets/Deep-Spectral-Segmentation/data/object-segmentation/ECSSD/features/dino_vits16/0050.pth\n",
      "dict_keys(['k', 'indices', 'file', 'id', 'model_name', 'patch_size', 'shape'])\n",
      "0050\n",
      "Starting Training\n",
      "epoch: 00, loss: -0.62131\n",
      "epoch: 01, loss: -0.78891\n",
      "epoch: 02, loss: -0.81322\n",
      "epoch: 03, loss: -0.81504\n",
      "epoch: 04, loss: -0.81929\n",
      "epoch: 05, loss: -0.79833\n",
      "epoch: 06, loss: -0.82009\n",
      "epoch: 07, loss: -0.82820\n",
      "epoch: 08, loss: -0.83574\n",
      "epoch: 09, loss: -0.83721\n",
      "After Unsqueezing, feature size= torch.Size([400, 1, 1, 384])\n"
     ]
    },
    {
     "name": "stderr",
     "output_type": "stream",
     "text": [
      "  5%|▌         | 50/1000 [16:54<4:54:10, 18.58s/it]"
     ]
    },
    {
     "name": "stdout",
     "output_type": "stream",
     "text": [
      "eigenvalues shape torch.Size([5]) eigenvectors shape torch.Size([5, 400])\n",
      "50 /home/phdcs2/Hard_Disk/Datasets/Deep-Spectral-Segmentation/data/object-segmentation/ECSSD/features/dino_vits16/0051.pth\n",
      "dict_keys(['k', 'indices', 'file', 'id', 'model_name', 'patch_size', 'shape'])\n",
      "0051\n",
      "Starting Training\n",
      "epoch: 00, loss: -0.62596\n",
      "epoch: 01, loss: -0.77879\n",
      "epoch: 02, loss: -0.80190\n",
      "epoch: 03, loss: -0.81575\n",
      "epoch: 04, loss: -0.83277\n",
      "epoch: 05, loss: -0.83493\n",
      "epoch: 06, loss: -0.84162\n",
      "epoch: 07, loss: -0.85115\n",
      "epoch: 08, loss: -0.85577\n",
      "epoch: 09, loss: -0.86442\n",
      "After Unsqueezing, feature size= torch.Size([450, 1, 1, 384])\n"
     ]
    },
    {
     "name": "stderr",
     "output_type": "stream",
     "text": [
      "  5%|▌         | 51/1000 [17:12<4:50:54, 18.39s/it]"
     ]
    },
    {
     "name": "stdout",
     "output_type": "stream",
     "text": [
      "eigenvalues shape torch.Size([5]) eigenvectors shape torch.Size([5, 450])\n",
      "51 /home/phdcs2/Hard_Disk/Datasets/Deep-Spectral-Segmentation/data/object-segmentation/ECSSD/features/dino_vits16/0052.pth\n",
      "dict_keys(['k', 'indices', 'file', 'id', 'model_name', 'patch_size', 'shape'])\n",
      "0052\n",
      "Starting Training\n",
      "epoch: 00, loss: -0.57353\n",
      "epoch: 01, loss: -0.72876\n",
      "epoch: 02, loss: -0.75242\n",
      "epoch: 03, loss: -0.76018\n",
      "epoch: 04, loss: -0.76398\n",
      "epoch: 05, loss: -0.78295\n",
      "epoch: 06, loss: -0.79049\n",
      "epoch: 07, loss: -0.79838\n",
      "epoch: 08, loss: -0.80609\n",
      "epoch: 09, loss: -0.79493\n",
      "After Unsqueezing, feature size= torch.Size([450, 1, 1, 384])\n"
     ]
    },
    {
     "name": "stderr",
     "output_type": "stream",
     "text": [
      "  5%|▌         | 52/1000 [17:31<4:52:15, 18.50s/it]"
     ]
    },
    {
     "name": "stdout",
     "output_type": "stream",
     "text": [
      "eigenvalues shape torch.Size([5]) eigenvectors shape torch.Size([5, 450])\n",
      "52 /home/phdcs2/Hard_Disk/Datasets/Deep-Spectral-Segmentation/data/object-segmentation/ECSSD/features/dino_vits16/0053.pth\n",
      "dict_keys(['k', 'indices', 'file', 'id', 'model_name', 'patch_size', 'shape'])\n",
      "0053\n",
      "Starting Training\n",
      "epoch: 00, loss: -0.47069\n",
      "epoch: 01, loss: -0.61620\n",
      "epoch: 02, loss: -0.64880\n",
      "epoch: 03, loss: -0.68541\n",
      "epoch: 04, loss: -0.69966\n",
      "epoch: 05, loss: -0.68808\n",
      "epoch: 06, loss: -0.67080\n",
      "epoch: 07, loss: -0.66183\n",
      "epoch: 08, loss: -0.66287\n",
      "epoch: 09, loss: -0.66517\n",
      "After Unsqueezing, feature size= torch.Size([375, 1, 1, 384])\n"
     ]
    },
    {
     "name": "stderr",
     "output_type": "stream",
     "text": [
      "  5%|▌         | 53/1000 [17:47<4:38:55, 17.67s/it]"
     ]
    },
    {
     "name": "stdout",
     "output_type": "stream",
     "text": [
      "eigenvalues shape torch.Size([5]) eigenvectors shape torch.Size([5, 375])\n",
      "53 /home/phdcs2/Hard_Disk/Datasets/Deep-Spectral-Segmentation/data/object-segmentation/ECSSD/features/dino_vits16/0054.pth\n",
      "dict_keys(['k', 'indices', 'file', 'id', 'model_name', 'patch_size', 'shape'])\n",
      "0054\n",
      "Starting Training\n",
      "epoch: 00, loss: -0.51135\n",
      "epoch: 01, loss: -0.66760\n",
      "epoch: 02, loss: -0.69364\n",
      "epoch: 03, loss: -0.70124\n",
      "epoch: 04, loss: -0.69994\n",
      "epoch: 05, loss: -0.70368\n",
      "epoch: 06, loss: -0.71577\n",
      "epoch: 07, loss: -0.71664\n",
      "epoch: 08, loss: -0.72816\n",
      "epoch: 09, loss: -0.71654\n",
      "After Unsqueezing, feature size= torch.Size([450, 1, 1, 384])\n"
     ]
    },
    {
     "name": "stderr",
     "output_type": "stream",
     "text": [
      "  5%|▌         | 54/1000 [18:08<4:57:52, 18.89s/it]"
     ]
    },
    {
     "name": "stdout",
     "output_type": "stream",
     "text": [
      "eigenvalues shape torch.Size([5]) eigenvectors shape torch.Size([5, 450])\n",
      "54 /home/phdcs2/Hard_Disk/Datasets/Deep-Spectral-Segmentation/data/object-segmentation/ECSSD/features/dino_vits16/0055.pth\n",
      "dict_keys(['k', 'indices', 'file', 'id', 'model_name', 'patch_size', 'shape'])\n",
      "0055\n",
      "Starting Training\n",
      "epoch: 00, loss: -0.64131\n",
      "epoch: 01, loss: -0.77836\n",
      "epoch: 02, loss: -0.79433\n",
      "epoch: 03, loss: -0.80650\n",
      "epoch: 04, loss: -0.81210\n",
      "epoch: 05, loss: -0.81627\n",
      "epoch: 06, loss: -0.82547\n",
      "epoch: 07, loss: -0.82343\n",
      "epoch: 08, loss: -0.83447\n",
      "epoch: 09, loss: -0.82749\n",
      "After Unsqueezing, feature size= torch.Size([450, 1, 1, 384])\n"
     ]
    },
    {
     "name": "stderr",
     "output_type": "stream",
     "text": [
      "  6%|▌         | 55/1000 [18:25<4:45:11, 18.11s/it]"
     ]
    },
    {
     "name": "stdout",
     "output_type": "stream",
     "text": [
      "eigenvalues shape torch.Size([5]) eigenvectors shape torch.Size([5, 450])\n",
      "55 /home/phdcs2/Hard_Disk/Datasets/Deep-Spectral-Segmentation/data/object-segmentation/ECSSD/features/dino_vits16/0056.pth\n",
      "dict_keys(['k', 'indices', 'file', 'id', 'model_name', 'patch_size', 'shape'])\n",
      "0056\n",
      "Starting Training\n",
      "epoch: 00, loss: -0.50067\n",
      "epoch: 01, loss: -0.65443\n",
      "epoch: 02, loss: -0.67449\n",
      "epoch: 03, loss: -0.68877\n",
      "epoch: 04, loss: -0.70305\n",
      "epoch: 05, loss: -0.69946\n",
      "epoch: 06, loss: -0.71320\n",
      "epoch: 07, loss: -0.72536\n",
      "epoch: 08, loss: -0.72307\n",
      "epoch: 09, loss: -0.72654\n",
      "After Unsqueezing, feature size= torch.Size([400, 1, 1, 384])\n"
     ]
    },
    {
     "name": "stderr",
     "output_type": "stream",
     "text": [
      "  6%|▌         | 56/1000 [18:40<4:31:03, 17.23s/it]"
     ]
    },
    {
     "name": "stdout",
     "output_type": "stream",
     "text": [
      "eigenvalues shape torch.Size([5]) eigenvectors shape torch.Size([5, 400])\n",
      "56 /home/phdcs2/Hard_Disk/Datasets/Deep-Spectral-Segmentation/data/object-segmentation/ECSSD/features/dino_vits16/0057.pth\n",
      "dict_keys(['k', 'indices', 'file', 'id', 'model_name', 'patch_size', 'shape'])\n",
      "0057\n",
      "Starting Training\n",
      "epoch: 00, loss: -0.51257\n",
      "epoch: 01, loss: -0.66501\n",
      "epoch: 02, loss: -0.68204\n",
      "epoch: 03, loss: -0.69433\n",
      "epoch: 04, loss: -0.71060\n",
      "epoch: 05, loss: -0.72410\n",
      "epoch: 06, loss: -0.74281\n",
      "epoch: 07, loss: -0.74565\n",
      "epoch: 08, loss: -0.75558\n",
      "epoch: 09, loss: -0.75602\n",
      "After Unsqueezing, feature size= torch.Size([400, 1, 1, 384])\n"
     ]
    },
    {
     "name": "stderr",
     "output_type": "stream",
     "text": [
      "  6%|▌         | 57/1000 [18:55<4:21:44, 16.65s/it]"
     ]
    },
    {
     "name": "stdout",
     "output_type": "stream",
     "text": [
      "eigenvalues shape torch.Size([5]) eigenvectors shape torch.Size([5, 400])\n",
      "57 /home/phdcs2/Hard_Disk/Datasets/Deep-Spectral-Segmentation/data/object-segmentation/ECSSD/features/dino_vits16/0058.pth\n",
      "dict_keys(['k', 'indices', 'file', 'id', 'model_name', 'patch_size', 'shape'])\n",
      "0058\n",
      "Starting Training\n",
      "epoch: 00, loss: -0.46888\n",
      "epoch: 01, loss: -0.63666\n",
      "epoch: 02, loss: -0.67671\n",
      "epoch: 03, loss: -0.69765\n",
      "epoch: 04, loss: -0.69567\n",
      "epoch: 05, loss: -0.71324\n",
      "epoch: 06, loss: -0.71277\n",
      "epoch: 07, loss: -0.72650\n",
      "epoch: 08, loss: -0.73215\n",
      "epoch: 09, loss: -0.71704\n",
      "After Unsqueezing, feature size= torch.Size([425, 1, 1, 384])\n"
     ]
    },
    {
     "name": "stderr",
     "output_type": "stream",
     "text": [
      "  6%|▌         | 58/1000 [19:12<4:20:22, 16.58s/it]"
     ]
    },
    {
     "name": "stdout",
     "output_type": "stream",
     "text": [
      "eigenvalues shape torch.Size([5]) eigenvectors shape torch.Size([5, 425])\n",
      "58 /home/phdcs2/Hard_Disk/Datasets/Deep-Spectral-Segmentation/data/object-segmentation/ECSSD/features/dino_vits16/0059.pth\n",
      "dict_keys(['k', 'indices', 'file', 'id', 'model_name', 'patch_size', 'shape'])\n",
      "0059\n",
      "Starting Training\n",
      "epoch: 00, loss: -0.50797\n",
      "epoch: 01, loss: -0.69096\n",
      "epoch: 02, loss: -0.72108\n",
      "epoch: 03, loss: -0.71724\n",
      "epoch: 04, loss: -0.71519\n",
      "epoch: 05, loss: -0.72599\n",
      "epoch: 06, loss: -0.73117\n",
      "epoch: 07, loss: -0.73580\n",
      "epoch: 08, loss: -0.73617\n",
      "epoch: 09, loss: -0.73618\n",
      "After Unsqueezing, feature size= torch.Size([450, 1, 1, 384])\n"
     ]
    },
    {
     "name": "stderr",
     "output_type": "stream",
     "text": [
      "  6%|▌         | 59/1000 [19:29<4:24:18, 16.85s/it]"
     ]
    },
    {
     "name": "stdout",
     "output_type": "stream",
     "text": [
      "eigenvalues shape torch.Size([5]) eigenvectors shape torch.Size([5, 450])\n",
      "59 /home/phdcs2/Hard_Disk/Datasets/Deep-Spectral-Segmentation/data/object-segmentation/ECSSD/features/dino_vits16/0060.pth\n",
      "dict_keys(['k', 'indices', 'file', 'id', 'model_name', 'patch_size', 'shape'])\n",
      "0060\n",
      "Starting Training\n",
      "epoch: 00, loss: -0.52370\n",
      "epoch: 01, loss: -0.73031\n",
      "epoch: 02, loss: -0.76132\n",
      "epoch: 03, loss: -0.77048\n",
      "epoch: 04, loss: -0.78381\n",
      "epoch: 05, loss: -0.78906\n",
      "epoch: 06, loss: -0.79828\n",
      "epoch: 07, loss: -0.79423\n",
      "epoch: 08, loss: -0.79551\n",
      "epoch: 09, loss: -0.79615\n",
      "After Unsqueezing, feature size= torch.Size([400, 1, 1, 384])\n"
     ]
    },
    {
     "name": "stderr",
     "output_type": "stream",
     "text": [
      "  6%|▌         | 60/1000 [19:47<4:27:10, 17.05s/it]"
     ]
    },
    {
     "name": "stdout",
     "output_type": "stream",
     "text": [
      "eigenvalues shape torch.Size([5]) eigenvectors shape torch.Size([5, 400])\n",
      "60 /home/phdcs2/Hard_Disk/Datasets/Deep-Spectral-Segmentation/data/object-segmentation/ECSSD/features/dino_vits16/0061.pth\n",
      "dict_keys(['k', 'indices', 'file', 'id', 'model_name', 'patch_size', 'shape'])\n",
      "0061\n",
      "Starting Training\n",
      "epoch: 00, loss: -0.47162\n",
      "epoch: 01, loss: -0.64635\n",
      "epoch: 02, loss: -0.67575\n",
      "epoch: 03, loss: -0.69036\n",
      "epoch: 04, loss: -0.70263\n",
      "epoch: 05, loss: -0.69524\n",
      "epoch: 06, loss: -0.71086\n",
      "epoch: 07, loss: -0.73017\n",
      "epoch: 08, loss: -0.72297\n",
      "epoch: 09, loss: -0.72066\n",
      "After Unsqueezing, feature size= torch.Size([425, 1, 1, 384])\n"
     ]
    },
    {
     "name": "stderr",
     "output_type": "stream",
     "text": [
      "  6%|▌         | 61/1000 [20:04<4:30:39, 17.29s/it]"
     ]
    },
    {
     "name": "stdout",
     "output_type": "stream",
     "text": [
      "eigenvalues shape torch.Size([5]) eigenvectors shape torch.Size([5, 425])\n",
      "61 /home/phdcs2/Hard_Disk/Datasets/Deep-Spectral-Segmentation/data/object-segmentation/ECSSD/features/dino_vits16/0062.pth\n",
      "dict_keys(['k', 'indices', 'file', 'id', 'model_name', 'patch_size', 'shape'])\n",
      "0062\n",
      "Starting Training\n",
      "epoch: 00, loss: -0.52845\n",
      "epoch: 01, loss: -0.67989\n",
      "epoch: 02, loss: -0.70643\n",
      "epoch: 03, loss: -0.71521\n",
      "epoch: 04, loss: -0.72909\n",
      "epoch: 05, loss: -0.73463\n",
      "epoch: 06, loss: -0.73638\n",
      "epoch: 07, loss: -0.74707\n",
      "epoch: 08, loss: -0.74272\n",
      "epoch: 09, loss: -0.74738\n",
      "After Unsqueezing, feature size= torch.Size([425, 1, 1, 384])\n"
     ]
    },
    {
     "name": "stderr",
     "output_type": "stream",
     "text": [
      "  6%|▌         | 62/1000 [20:21<4:25:08, 16.96s/it]"
     ]
    },
    {
     "name": "stdout",
     "output_type": "stream",
     "text": [
      "eigenvalues shape torch.Size([5]) eigenvectors shape torch.Size([5, 425])\n",
      "62 /home/phdcs2/Hard_Disk/Datasets/Deep-Spectral-Segmentation/data/object-segmentation/ECSSD/features/dino_vits16/0063.pth\n",
      "dict_keys(['k', 'indices', 'file', 'id', 'model_name', 'patch_size', 'shape'])\n",
      "0063\n",
      "Starting Training\n",
      "epoch: 00, loss: -0.49145\n",
      "epoch: 01, loss: -0.66368\n",
      "epoch: 02, loss: -0.69720\n",
      "epoch: 03, loss: -0.72363\n",
      "epoch: 04, loss: -0.73504\n",
      "epoch: 05, loss: -0.73927\n",
      "epoch: 06, loss: -0.74905\n",
      "epoch: 07, loss: -0.75532\n",
      "epoch: 08, loss: -0.77110\n",
      "epoch: 09, loss: -0.78779\n",
      "After Unsqueezing, feature size= torch.Size([400, 1, 1, 384])\n"
     ]
    },
    {
     "name": "stderr",
     "output_type": "stream",
     "text": [
      "  6%|▋         | 63/1000 [20:37<4:24:36, 16.94s/it]"
     ]
    },
    {
     "name": "stdout",
     "output_type": "stream",
     "text": [
      "eigenvalues shape torch.Size([5]) eigenvectors shape torch.Size([5, 400])\n",
      "63 /home/phdcs2/Hard_Disk/Datasets/Deep-Spectral-Segmentation/data/object-segmentation/ECSSD/features/dino_vits16/0064.pth\n",
      "dict_keys(['k', 'indices', 'file', 'id', 'model_name', 'patch_size', 'shape'])\n",
      "0064\n",
      "Starting Training\n",
      "epoch: 00, loss: -0.52562\n",
      "epoch: 01, loss: -0.66623\n",
      "epoch: 02, loss: -0.68935\n",
      "epoch: 03, loss: -0.70317\n",
      "epoch: 04, loss: -0.71189\n",
      "epoch: 05, loss: -0.72364\n",
      "epoch: 06, loss: -0.73331\n",
      "epoch: 07, loss: -0.73044\n",
      "epoch: 08, loss: -0.73119\n",
      "epoch: 09, loss: -0.74784\n",
      "After Unsqueezing, feature size= torch.Size([400, 1, 1, 384])\n"
     ]
    },
    {
     "name": "stderr",
     "output_type": "stream",
     "text": [
      "  6%|▋         | 64/1000 [20:54<4:22:25, 16.82s/it]"
     ]
    },
    {
     "name": "stdout",
     "output_type": "stream",
     "text": [
      "eigenvalues shape torch.Size([5]) eigenvectors shape torch.Size([5, 400])\n",
      "64 /home/phdcs2/Hard_Disk/Datasets/Deep-Spectral-Segmentation/data/object-segmentation/ECSSD/features/dino_vits16/0065.pth\n",
      "dict_keys(['k', 'indices', 'file', 'id', 'model_name', 'patch_size', 'shape'])\n",
      "0065\n",
      "Starting Training\n",
      "epoch: 00, loss: -0.48688\n",
      "epoch: 01, loss: -0.63618\n",
      "epoch: 02, loss: -0.65953\n",
      "epoch: 03, loss: -0.68257\n",
      "epoch: 04, loss: -0.69878\n",
      "epoch: 05, loss: -0.70830\n",
      "epoch: 06, loss: -0.71887\n",
      "epoch: 07, loss: -0.72907\n",
      "epoch: 08, loss: -0.73614\n",
      "epoch: 09, loss: -0.72834\n",
      "After Unsqueezing, feature size= torch.Size([450, 1, 1, 384])\n"
     ]
    },
    {
     "name": "stderr",
     "output_type": "stream",
     "text": [
      "  6%|▋         | 65/1000 [21:13<4:29:51, 17.32s/it]"
     ]
    },
    {
     "name": "stdout",
     "output_type": "stream",
     "text": [
      "eigenvalues shape torch.Size([5]) eigenvectors shape torch.Size([5, 450])\n",
      "65 /home/phdcs2/Hard_Disk/Datasets/Deep-Spectral-Segmentation/data/object-segmentation/ECSSD/features/dino_vits16/0066.pth\n",
      "dict_keys(['k', 'indices', 'file', 'id', 'model_name', 'patch_size', 'shape'])\n",
      "0066\n",
      "Starting Training\n",
      "epoch: 00, loss: -0.55658\n",
      "epoch: 01, loss: -0.73751\n",
      "epoch: 02, loss: -0.78083\n",
      "epoch: 03, loss: -0.78748\n",
      "epoch: 04, loss: -0.78934\n",
      "epoch: 05, loss: -0.79639\n",
      "epoch: 06, loss: -0.79872\n",
      "epoch: 07, loss: -0.79488\n",
      "epoch: 08, loss: -0.80252\n",
      "epoch: 09, loss: -0.79685\n",
      "After Unsqueezing, feature size= torch.Size([400, 1, 1, 384])\n"
     ]
    },
    {
     "name": "stderr",
     "output_type": "stream",
     "text": [
      "  7%|▋         | 66/1000 [21:29<4:23:24, 16.92s/it]"
     ]
    },
    {
     "name": "stdout",
     "output_type": "stream",
     "text": [
      "eigenvalues shape torch.Size([5]) eigenvectors shape torch.Size([5, 400])\n",
      "66 /home/phdcs2/Hard_Disk/Datasets/Deep-Spectral-Segmentation/data/object-segmentation/ECSSD/features/dino_vits16/0067.pth\n",
      "dict_keys(['k', 'indices', 'file', 'id', 'model_name', 'patch_size', 'shape'])\n",
      "0067\n",
      "Starting Training\n",
      "epoch: 00, loss: -0.52941\n",
      "epoch: 01, loss: -0.70232\n",
      "epoch: 02, loss: -0.72378\n",
      "epoch: 03, loss: -0.73503\n",
      "epoch: 04, loss: -0.73703\n",
      "epoch: 05, loss: -0.74519\n",
      "epoch: 06, loss: -0.74965\n",
      "epoch: 07, loss: -0.74362\n",
      "epoch: 08, loss: -0.75747\n",
      "epoch: 09, loss: -0.76238\n",
      "After Unsqueezing, feature size= torch.Size([350, 1, 1, 384])\n"
     ]
    },
    {
     "name": "stderr",
     "output_type": "stream",
     "text": [
      "  7%|▋         | 67/1000 [21:45<4:20:51, 16.78s/it]"
     ]
    },
    {
     "name": "stdout",
     "output_type": "stream",
     "text": [
      "eigenvalues shape torch.Size([5]) eigenvectors shape torch.Size([5, 350])\n",
      "67 /home/phdcs2/Hard_Disk/Datasets/Deep-Spectral-Segmentation/data/object-segmentation/ECSSD/features/dino_vits16/0068.pth\n",
      "dict_keys(['k', 'indices', 'file', 'id', 'model_name', 'patch_size', 'shape'])\n",
      "0068\n",
      "Starting Training\n",
      "epoch: 00, loss: -0.53301\n",
      "epoch: 01, loss: -0.67062\n",
      "epoch: 02, loss: -0.68634\n",
      "epoch: 03, loss: -0.69268\n",
      "epoch: 04, loss: -0.71661\n",
      "epoch: 05, loss: -0.72686\n",
      "epoch: 06, loss: -0.74506\n",
      "epoch: 07, loss: -0.74370\n",
      "epoch: 08, loss: -0.75712\n",
      "epoch: 09, loss: -0.76647\n",
      "After Unsqueezing, feature size= torch.Size([525, 1, 1, 384])\n"
     ]
    },
    {
     "name": "stderr",
     "output_type": "stream",
     "text": [
      "  7%|▋         | 68/1000 [22:07<4:44:45, 18.33s/it]"
     ]
    },
    {
     "name": "stdout",
     "output_type": "stream",
     "text": [
      "eigenvalues shape torch.Size([5]) eigenvectors shape torch.Size([5, 525])\n",
      "68 /home/phdcs2/Hard_Disk/Datasets/Deep-Spectral-Segmentation/data/object-segmentation/ECSSD/features/dino_vits16/0069.pth\n",
      "dict_keys(['k', 'indices', 'file', 'id', 'model_name', 'patch_size', 'shape'])\n",
      "0069\n",
      "Starting Training\n",
      "epoch: 00, loss: -0.54895\n",
      "epoch: 01, loss: -0.70468\n",
      "epoch: 02, loss: -0.73537\n",
      "epoch: 03, loss: -0.74774\n",
      "epoch: 04, loss: -0.75395\n",
      "epoch: 05, loss: -0.76609\n",
      "epoch: 06, loss: -0.76163\n",
      "epoch: 07, loss: -0.77197\n",
      "epoch: 08, loss: -0.77849\n",
      "epoch: 09, loss: -0.77705\n",
      "After Unsqueezing, feature size= torch.Size([425, 1, 1, 384])\n"
     ]
    },
    {
     "name": "stderr",
     "output_type": "stream",
     "text": [
      "  7%|▋         | 69/1000 [22:23<4:35:40, 17.77s/it]"
     ]
    },
    {
     "name": "stdout",
     "output_type": "stream",
     "text": [
      "eigenvalues shape torch.Size([5]) eigenvectors shape torch.Size([5, 425])\n",
      "69 /home/phdcs2/Hard_Disk/Datasets/Deep-Spectral-Segmentation/data/object-segmentation/ECSSD/features/dino_vits16/0070.pth\n",
      "dict_keys(['k', 'indices', 'file', 'id', 'model_name', 'patch_size', 'shape'])\n",
      "0070\n",
      "Starting Training\n",
      "epoch: 00, loss: -0.52719\n",
      "epoch: 01, loss: -0.65129\n",
      "epoch: 02, loss: -0.66625\n",
      "epoch: 03, loss: -0.68618\n",
      "epoch: 04, loss: -0.69322\n",
      "epoch: 05, loss: -0.70579\n",
      "epoch: 06, loss: -0.70511\n",
      "epoch: 07, loss: -0.72493\n",
      "epoch: 08, loss: -0.71872\n",
      "epoch: 09, loss: -0.71582\n",
      "After Unsqueezing, feature size= torch.Size([500, 1, 1, 384])\n"
     ]
    },
    {
     "name": "stderr",
     "output_type": "stream",
     "text": [
      "  7%|▋         | 70/1000 [22:42<4:40:48, 18.12s/it]"
     ]
    },
    {
     "name": "stdout",
     "output_type": "stream",
     "text": [
      "eigenvalues shape torch.Size([5]) eigenvectors shape torch.Size([5, 500])\n",
      "70 /home/phdcs2/Hard_Disk/Datasets/Deep-Spectral-Segmentation/data/object-segmentation/ECSSD/features/dino_vits16/0071.pth\n",
      "dict_keys(['k', 'indices', 'file', 'id', 'model_name', 'patch_size', 'shape'])\n",
      "0071\n",
      "Starting Training\n",
      "epoch: 00, loss: -0.55676\n",
      "epoch: 01, loss: -0.69421\n",
      "epoch: 02, loss: -0.72010\n",
      "epoch: 03, loss: -0.74097\n",
      "epoch: 04, loss: -0.75589\n",
      "epoch: 05, loss: -0.75635\n",
      "epoch: 06, loss: -0.76214\n",
      "epoch: 07, loss: -0.77268\n",
      "epoch: 08, loss: -0.77666\n",
      "epoch: 09, loss: -0.77339\n",
      "After Unsqueezing, feature size= torch.Size([450, 1, 1, 384])\n"
     ]
    },
    {
     "name": "stderr",
     "output_type": "stream",
     "text": [
      "  7%|▋         | 71/1000 [23:01<4:42:13, 18.23s/it]"
     ]
    },
    {
     "name": "stdout",
     "output_type": "stream",
     "text": [
      "eigenvalues shape torch.Size([5]) eigenvectors shape torch.Size([5, 450])\n",
      "71 /home/phdcs2/Hard_Disk/Datasets/Deep-Spectral-Segmentation/data/object-segmentation/ECSSD/features/dino_vits16/0072.pth\n",
      "dict_keys(['k', 'indices', 'file', 'id', 'model_name', 'patch_size', 'shape'])\n",
      "0072\n",
      "Starting Training\n",
      "epoch: 00, loss: -0.47973\n",
      "epoch: 01, loss: -0.63060\n",
      "epoch: 02, loss: -0.64536\n",
      "epoch: 03, loss: -0.66026\n",
      "epoch: 04, loss: -0.67730\n",
      "epoch: 05, loss: -0.69017\n",
      "epoch: 06, loss: -0.69216\n",
      "epoch: 07, loss: -0.70787\n",
      "epoch: 08, loss: -0.72143\n",
      "epoch: 09, loss: -0.71290\n",
      "After Unsqueezing, feature size= torch.Size([400, 1, 1, 384])\n"
     ]
    },
    {
     "name": "stderr",
     "output_type": "stream",
     "text": [
      "/home/phdcs2/Hard_Disk/Projects/T2I/deep-spectral-segmentation/venv/lib/python3.8/site-packages/scipy/sparse/linalg/_eigen/arpack/arpack.py:935: LinAlgWarning: Diagonal number 400 is exactly zero. Singular matrix.\n",
      "  self.M_lu = lu_factor(M)\n"
     ]
    },
    {
     "name": "stdout",
     "output_type": "stream",
     "text": [
      " ** On entry to SLASCL parameter number  4 had an illegal value\n",
      " ** On entry to SLASCL parameter number  4 had an illegal value\n"
     ]
    },
    {
     "name": "stderr",
     "output_type": "stream",
     "text": [
      "  7%|▋         | 72/1000 [23:19<4:39:52, 18.10s/it]"
     ]
    },
    {
     "name": "stdout",
     "output_type": "stream",
     "text": [
      "eigenvalues shape torch.Size([5]) eigenvectors shape torch.Size([5, 400])\n",
      "72 /home/phdcs2/Hard_Disk/Datasets/Deep-Spectral-Segmentation/data/object-segmentation/ECSSD/features/dino_vits16/0073.pth\n",
      "dict_keys(['k', 'indices', 'file', 'id', 'model_name', 'patch_size', 'shape'])\n",
      "0073\n",
      "Starting Training\n",
      "epoch: 00, loss: -0.61990\n",
      "epoch: 01, loss: -0.76355\n",
      "epoch: 02, loss: -0.78497\n",
      "epoch: 03, loss: -0.80011\n",
      "epoch: 04, loss: -0.80491\n",
      "epoch: 05, loss: -0.80990\n",
      "epoch: 06, loss: -0.81725\n",
      "epoch: 07, loss: -0.82203\n",
      "epoch: 08, loss: -0.82869\n",
      "epoch: 09, loss: -0.83502\n",
      "After Unsqueezing, feature size= torch.Size([450, 1, 1, 384])\n"
     ]
    },
    {
     "name": "stderr",
     "output_type": "stream",
     "text": [
      "  7%|▋         | 73/1000 [23:40<4:55:54, 19.15s/it]"
     ]
    },
    {
     "name": "stdout",
     "output_type": "stream",
     "text": [
      "eigenvalues shape torch.Size([5]) eigenvectors shape torch.Size([5, 450])\n",
      "73 /home/phdcs2/Hard_Disk/Datasets/Deep-Spectral-Segmentation/data/object-segmentation/ECSSD/features/dino_vits16/0074.pth\n",
      "dict_keys(['k', 'indices', 'file', 'id', 'model_name', 'patch_size', 'shape'])\n",
      "0074\n",
      "Starting Training\n",
      "epoch: 00, loss: -0.49860\n",
      "epoch: 01, loss: -0.66155\n",
      "epoch: 02, loss: -0.66928\n",
      "epoch: 03, loss: -0.68784\n",
      "epoch: 04, loss: -0.69699\n",
      "epoch: 05, loss: -0.70866\n",
      "epoch: 06, loss: -0.72363\n",
      "epoch: 07, loss: -0.73196\n",
      "epoch: 08, loss: -0.73913\n",
      "epoch: 09, loss: -0.73222\n",
      "After Unsqueezing, feature size= torch.Size([450, 1, 1, 384])\n"
     ]
    },
    {
     "name": "stderr",
     "output_type": "stream",
     "text": [
      "  7%|▋         | 74/1000 [24:02<5:05:50, 19.82s/it]"
     ]
    },
    {
     "name": "stdout",
     "output_type": "stream",
     "text": [
      "eigenvalues shape torch.Size([5]) eigenvectors shape torch.Size([5, 450])\n",
      "74 /home/phdcs2/Hard_Disk/Datasets/Deep-Spectral-Segmentation/data/object-segmentation/ECSSD/features/dino_vits16/0075.pth\n",
      "dict_keys(['k', 'indices', 'file', 'id', 'model_name', 'patch_size', 'shape'])\n",
      "0075\n",
      "Starting Training\n",
      "epoch: 00, loss: -0.55579\n",
      "epoch: 01, loss: -0.69574\n",
      "epoch: 02, loss: -0.72078\n",
      "epoch: 03, loss: -0.72935\n",
      "epoch: 04, loss: -0.75298\n",
      "epoch: 05, loss: -0.77382\n",
      "epoch: 06, loss: -0.77032\n",
      "epoch: 07, loss: -0.76837\n",
      "epoch: 08, loss: -0.78275\n",
      "epoch: 09, loss: -0.79134\n",
      "After Unsqueezing, feature size= torch.Size([450, 1, 1, 384])\n"
     ]
    },
    {
     "name": "stderr",
     "output_type": "stream",
     "text": [
      "  8%|▊         | 75/1000 [24:17<4:45:13, 18.50s/it]"
     ]
    },
    {
     "name": "stdout",
     "output_type": "stream",
     "text": [
      "eigenvalues shape torch.Size([5]) eigenvectors shape torch.Size([5, 450])\n",
      "75 /home/phdcs2/Hard_Disk/Datasets/Deep-Spectral-Segmentation/data/object-segmentation/ECSSD/features/dino_vits16/0076.pth\n",
      "dict_keys(['k', 'indices', 'file', 'id', 'model_name', 'patch_size', 'shape'])\n",
      "0076\n",
      "Starting Training\n",
      "epoch: 00, loss: -0.52006\n",
      "epoch: 01, loss: -0.67590\n",
      "epoch: 02, loss: -0.71981\n",
      "epoch: 03, loss: -0.72397\n",
      "epoch: 04, loss: -0.73616\n",
      "epoch: 05, loss: -0.74058\n",
      "epoch: 06, loss: -0.74498\n",
      "epoch: 07, loss: -0.73406\n",
      "epoch: 08, loss: -0.72697\n",
      "epoch: 09, loss: -0.72797\n",
      "After Unsqueezing, feature size= torch.Size([400, 1, 1, 384])\n"
     ]
    },
    {
     "name": "stderr",
     "output_type": "stream",
     "text": [
      "  8%|▊         | 76/1000 [24:32<4:30:09, 17.54s/it]"
     ]
    },
    {
     "name": "stdout",
     "output_type": "stream",
     "text": [
      "eigenvalues shape torch.Size([5]) eigenvectors shape torch.Size([5, 400])\n",
      "76 /home/phdcs2/Hard_Disk/Datasets/Deep-Spectral-Segmentation/data/object-segmentation/ECSSD/features/dino_vits16/0077.pth\n",
      "dict_keys(['k', 'indices', 'file', 'id', 'model_name', 'patch_size', 'shape'])\n",
      "0077\n",
      "Starting Training\n",
      "epoch: 00, loss: -0.54702\n",
      "epoch: 01, loss: -0.68936\n",
      "epoch: 02, loss: -0.71971\n",
      "epoch: 03, loss: -0.70423\n",
      "epoch: 04, loss: -0.70626\n",
      "epoch: 05, loss: -0.72792\n",
      "epoch: 06, loss: -0.73141\n",
      "epoch: 07, loss: -0.72786\n",
      "epoch: 08, loss: -0.73221\n",
      "epoch: 09, loss: -0.74930\n",
      "After Unsqueezing, feature size= torch.Size([450, 1, 1, 384])\n"
     ]
    },
    {
     "name": "stderr",
     "output_type": "stream",
     "text": [
      "  8%|▊         | 77/1000 [24:52<4:39:25, 18.16s/it]"
     ]
    },
    {
     "name": "stdout",
     "output_type": "stream",
     "text": [
      "eigenvalues shape torch.Size([5]) eigenvectors shape torch.Size([5, 450])\n",
      "77 /home/phdcs2/Hard_Disk/Datasets/Deep-Spectral-Segmentation/data/object-segmentation/ECSSD/features/dino_vits16/0078.pth\n",
      "dict_keys(['k', 'indices', 'file', 'id', 'model_name', 'patch_size', 'shape'])\n",
      "0078\n",
      "Starting Training\n",
      "epoch: 00, loss: -0.48316\n",
      "epoch: 01, loss: -0.66825\n",
      "epoch: 02, loss: -0.68616\n",
      "epoch: 03, loss: -0.69898\n",
      "epoch: 04, loss: -0.70406\n",
      "epoch: 05, loss: -0.71331\n",
      "epoch: 06, loss: -0.69605\n",
      "epoch: 07, loss: -0.71820\n",
      "epoch: 08, loss: -0.74003\n",
      "epoch: 09, loss: -0.76167\n",
      "After Unsqueezing, feature size= torch.Size([400, 1, 1, 384])\n"
     ]
    },
    {
     "name": "stderr",
     "output_type": "stream",
     "text": [
      "  8%|▊         | 78/1000 [25:08<4:28:12, 17.45s/it]"
     ]
    },
    {
     "name": "stdout",
     "output_type": "stream",
     "text": [
      "eigenvalues shape torch.Size([5]) eigenvectors shape torch.Size([5, 400])\n",
      "78 /home/phdcs2/Hard_Disk/Datasets/Deep-Spectral-Segmentation/data/object-segmentation/ECSSD/features/dino_vits16/0079.pth\n",
      "dict_keys(['k', 'indices', 'file', 'id', 'model_name', 'patch_size', 'shape'])\n",
      "0079\n",
      "Starting Training\n",
      "epoch: 00, loss: -0.52243\n",
      "epoch: 01, loss: -0.65487\n",
      "epoch: 02, loss: -0.67537\n",
      "epoch: 03, loss: -0.69846\n",
      "epoch: 04, loss: -0.70420\n",
      "epoch: 05, loss: -0.72654\n",
      "epoch: 06, loss: -0.71657\n",
      "epoch: 07, loss: -0.72030\n",
      "epoch: 08, loss: -0.74371\n",
      "epoch: 09, loss: -0.75673\n",
      "After Unsqueezing, feature size= torch.Size([525, 1, 1, 384])\n"
     ]
    },
    {
     "name": "stderr",
     "output_type": "stream",
     "text": [
      "  8%|▊         | 79/1000 [25:27<4:36:38, 18.02s/it]"
     ]
    },
    {
     "name": "stdout",
     "output_type": "stream",
     "text": [
      "eigenvalues shape torch.Size([5]) eigenvectors shape torch.Size([5, 525])\n",
      "79 /home/phdcs2/Hard_Disk/Datasets/Deep-Spectral-Segmentation/data/object-segmentation/ECSSD/features/dino_vits16/0080.pth\n",
      "dict_keys(['k', 'indices', 'file', 'id', 'model_name', 'patch_size', 'shape'])\n",
      "0080\n",
      "Starting Training\n",
      "epoch: 00, loss: -0.55421\n",
      "epoch: 01, loss: -0.73730\n",
      "epoch: 02, loss: -0.75963\n",
      "epoch: 03, loss: -0.78222\n",
      "epoch: 04, loss: -0.78957\n",
      "epoch: 05, loss: -0.80739\n",
      "epoch: 06, loss: -0.81829\n",
      "epoch: 07, loss: -0.82960\n",
      "epoch: 08, loss: -0.83701\n",
      "epoch: 09, loss: -0.83803\n",
      "After Unsqueezing, feature size= torch.Size([450, 1, 1, 384])\n"
     ]
    },
    {
     "name": "stderr",
     "output_type": "stream",
     "text": [
      "  8%|▊         | 80/1000 [25:46<4:39:26, 18.22s/it]"
     ]
    },
    {
     "name": "stdout",
     "output_type": "stream",
     "text": [
      "eigenvalues shape torch.Size([5]) eigenvectors shape torch.Size([5, 450])\n",
      "80 /home/phdcs2/Hard_Disk/Datasets/Deep-Spectral-Segmentation/data/object-segmentation/ECSSD/features/dino_vits16/0081.pth\n",
      "dict_keys(['k', 'indices', 'file', 'id', 'model_name', 'patch_size', 'shape'])\n",
      "0081\n",
      "Starting Training\n",
      "epoch: 00, loss: -0.52332\n",
      "epoch: 01, loss: -0.66372\n",
      "epoch: 02, loss: -0.70087\n",
      "epoch: 03, loss: -0.72818\n",
      "epoch: 04, loss: -0.75149\n",
      "epoch: 05, loss: -0.74549\n",
      "epoch: 06, loss: -0.75580\n",
      "epoch: 07, loss: -0.77001\n",
      "epoch: 08, loss: -0.75229\n",
      "epoch: 09, loss: -0.75541\n",
      "After Unsqueezing, feature size= torch.Size([450, 1, 1, 384])\n"
     ]
    },
    {
     "name": "stderr",
     "output_type": "stream",
     "text": [
      "  8%|▊         | 81/1000 [26:07<4:55:04, 19.27s/it]"
     ]
    },
    {
     "name": "stdout",
     "output_type": "stream",
     "text": [
      "eigenvalues shape torch.Size([5]) eigenvectors shape torch.Size([5, 450])\n",
      "81 /home/phdcs2/Hard_Disk/Datasets/Deep-Spectral-Segmentation/data/object-segmentation/ECSSD/features/dino_vits16/0082.pth\n",
      "dict_keys(['k', 'indices', 'file', 'id', 'model_name', 'patch_size', 'shape'])\n",
      "0082\n",
      "Starting Training\n",
      "epoch: 00, loss: -0.46177\n",
      "epoch: 01, loss: -0.60492\n",
      "epoch: 02, loss: -0.62039\n",
      "epoch: 03, loss: -0.63068\n",
      "epoch: 04, loss: -0.63312\n",
      "epoch: 05, loss: -0.63070\n",
      "epoch: 06, loss: -0.64769\n",
      "epoch: 07, loss: -0.65793\n",
      "epoch: 08, loss: -0.66494\n",
      "epoch: 09, loss: -0.66464\n",
      "After Unsqueezing, feature size= torch.Size([450, 1, 1, 384])\n"
     ]
    },
    {
     "name": "stderr",
     "output_type": "stream",
     "text": [
      "  8%|▊         | 82/1000 [26:24<4:43:37, 18.54s/it]"
     ]
    },
    {
     "name": "stdout",
     "output_type": "stream",
     "text": [
      "eigenvalues shape torch.Size([5]) eigenvectors shape torch.Size([5, 450])\n",
      "82 /home/phdcs2/Hard_Disk/Datasets/Deep-Spectral-Segmentation/data/object-segmentation/ECSSD/features/dino_vits16/0083.pth\n",
      "dict_keys(['k', 'indices', 'file', 'id', 'model_name', 'patch_size', 'shape'])\n",
      "0083\n",
      "Starting Training\n",
      "epoch: 00, loss: -0.54717\n",
      "epoch: 01, loss: -0.69085\n",
      "epoch: 02, loss: -0.69623\n",
      "epoch: 03, loss: -0.71618\n",
      "epoch: 04, loss: -0.72873\n",
      "epoch: 05, loss: -0.74137\n",
      "epoch: 06, loss: -0.74173\n",
      "epoch: 07, loss: -0.74273\n",
      "epoch: 08, loss: -0.74108\n",
      "epoch: 09, loss: -0.74628\n",
      "After Unsqueezing, feature size= torch.Size([450, 1, 1, 384])\n"
     ]
    },
    {
     "name": "stderr",
     "output_type": "stream",
     "text": [
      "  8%|▊         | 83/1000 [26:44<4:48:58, 18.91s/it]"
     ]
    },
    {
     "name": "stdout",
     "output_type": "stream",
     "text": [
      "eigenvalues shape torch.Size([5]) eigenvectors shape torch.Size([5, 450])\n",
      "83 /home/phdcs2/Hard_Disk/Datasets/Deep-Spectral-Segmentation/data/object-segmentation/ECSSD/features/dino_vits16/0084.pth\n",
      "dict_keys(['k', 'indices', 'file', 'id', 'model_name', 'patch_size', 'shape'])\n",
      "0084\n",
      "Starting Training\n",
      "epoch: 00, loss: -0.58883\n",
      "epoch: 01, loss: -0.72681\n",
      "epoch: 02, loss: -0.75571\n",
      "epoch: 03, loss: -0.76523\n",
      "epoch: 04, loss: -0.76644\n",
      "epoch: 05, loss: -0.77802\n",
      "epoch: 06, loss: -0.77904\n",
      "epoch: 07, loss: -0.78842\n",
      "epoch: 08, loss: -0.78702\n",
      "epoch: 09, loss: -0.79146\n",
      "After Unsqueezing, feature size= torch.Size([450, 1, 1, 384])\n"
     ]
    },
    {
     "name": "stderr",
     "output_type": "stream",
     "text": [
      "  8%|▊         | 84/1000 [27:01<4:38:13, 18.22s/it]"
     ]
    },
    {
     "name": "stdout",
     "output_type": "stream",
     "text": [
      "eigenvalues shape torch.Size([5]) eigenvectors shape torch.Size([5, 450])\n",
      "84 /home/phdcs2/Hard_Disk/Datasets/Deep-Spectral-Segmentation/data/object-segmentation/ECSSD/features/dino_vits16/0085.pth\n",
      "dict_keys(['k', 'indices', 'file', 'id', 'model_name', 'patch_size', 'shape'])\n",
      "0085\n",
      "Starting Training\n",
      "epoch: 00, loss: -0.54434\n",
      "epoch: 01, loss: -0.69658\n",
      "epoch: 02, loss: -0.71590\n",
      "epoch: 03, loss: -0.73069\n",
      "epoch: 04, loss: -0.74337\n",
      "epoch: 05, loss: -0.75537\n",
      "epoch: 06, loss: -0.75445\n",
      "epoch: 07, loss: -0.75256\n",
      "epoch: 08, loss: -0.76517\n",
      "epoch: 09, loss: -0.76694\n",
      "After Unsqueezing, feature size= torch.Size([450, 1, 1, 384])\n"
     ]
    },
    {
     "name": "stderr",
     "output_type": "stream",
     "text": [
      "  8%|▊         | 85/1000 [27:22<4:52:51, 19.20s/it]"
     ]
    },
    {
     "name": "stdout",
     "output_type": "stream",
     "text": [
      "eigenvalues shape torch.Size([5]) eigenvectors shape torch.Size([5, 450])\n",
      "85 /home/phdcs2/Hard_Disk/Datasets/Deep-Spectral-Segmentation/data/object-segmentation/ECSSD/features/dino_vits16/0086.pth\n",
      "dict_keys(['k', 'indices', 'file', 'id', 'model_name', 'patch_size', 'shape'])\n",
      "0086\n",
      "Starting Training\n",
      "epoch: 00, loss: -0.49140\n",
      "epoch: 01, loss: -0.61749\n",
      "epoch: 02, loss: -0.63097\n",
      "epoch: 03, loss: -0.64025\n",
      "epoch: 04, loss: -0.65269\n",
      "epoch: 05, loss: -0.66456\n",
      "epoch: 06, loss: -0.62389\n",
      "epoch: 07, loss: -0.65207\n",
      "epoch: 08, loss: -0.66820\n",
      "epoch: 09, loss: -0.66076\n",
      "After Unsqueezing, feature size= torch.Size([450, 1, 1, 384])\n"
     ]
    },
    {
     "name": "stderr",
     "output_type": "stream",
     "text": [
      "  9%|▊         | 86/1000 [27:40<4:44:25, 18.67s/it]"
     ]
    },
    {
     "name": "stdout",
     "output_type": "stream",
     "text": [
      "eigenvalues shape torch.Size([5]) eigenvectors shape torch.Size([5, 450])\n",
      "86 /home/phdcs2/Hard_Disk/Datasets/Deep-Spectral-Segmentation/data/object-segmentation/ECSSD/features/dino_vits16/0087.pth\n",
      "dict_keys(['k', 'indices', 'file', 'id', 'model_name', 'patch_size', 'shape'])\n",
      "0087\n",
      "Starting Training\n",
      "epoch: 00, loss: -0.63238\n",
      "epoch: 01, loss: -0.77766\n",
      "epoch: 02, loss: -0.79846\n",
      "epoch: 03, loss: -0.80421\n",
      "epoch: 04, loss: -0.81459\n",
      "epoch: 05, loss: -0.81727\n",
      "epoch: 06, loss: -0.82753\n",
      "epoch: 07, loss: -0.82969\n",
      "epoch: 08, loss: -0.83605\n",
      "epoch: 09, loss: -0.83117\n",
      "After Unsqueezing, feature size= torch.Size([450, 1, 1, 384])\n"
     ]
    },
    {
     "name": "stderr",
     "output_type": "stream",
     "text": [
      "  9%|▊         | 87/1000 [28:01<4:55:36, 19.43s/it]"
     ]
    },
    {
     "name": "stdout",
     "output_type": "stream",
     "text": [
      "eigenvalues shape torch.Size([5]) eigenvectors shape torch.Size([5, 450])\n",
      "87 /home/phdcs2/Hard_Disk/Datasets/Deep-Spectral-Segmentation/data/object-segmentation/ECSSD/features/dino_vits16/0088.pth\n",
      "dict_keys(['k', 'indices', 'file', 'id', 'model_name', 'patch_size', 'shape'])\n",
      "0088\n",
      "Starting Training\n",
      "epoch: 00, loss: -0.49440\n",
      "epoch: 01, loss: -0.66151\n",
      "epoch: 02, loss: -0.67788\n",
      "epoch: 03, loss: -0.71302\n",
      "epoch: 04, loss: -0.70981\n",
      "epoch: 05, loss: -0.70692\n",
      "epoch: 06, loss: -0.71915\n",
      "epoch: 07, loss: -0.71937\n",
      "epoch: 08, loss: -0.71120\n",
      "epoch: 09, loss: -0.70078\n",
      "After Unsqueezing, feature size= torch.Size([450, 1, 1, 384])\n"
     ]
    },
    {
     "name": "stderr",
     "output_type": "stream",
     "text": [
      "  9%|▉         | 88/1000 [28:20<4:52:36, 19.25s/it]"
     ]
    },
    {
     "name": "stdout",
     "output_type": "stream",
     "text": [
      "eigenvalues shape torch.Size([5]) eigenvectors shape torch.Size([5, 450])\n",
      "88 /home/phdcs2/Hard_Disk/Datasets/Deep-Spectral-Segmentation/data/object-segmentation/ECSSD/features/dino_vits16/0089.pth\n",
      "dict_keys(['k', 'indices', 'file', 'id', 'model_name', 'patch_size', 'shape'])\n",
      "0089\n",
      "Starting Training\n",
      "epoch: 00, loss: -0.53420\n",
      "epoch: 01, loss: -0.68336\n",
      "epoch: 02, loss: -0.69759\n",
      "epoch: 03, loss: -0.73716\n",
      "epoch: 04, loss: -0.75716\n",
      "epoch: 05, loss: -0.77151\n",
      "epoch: 06, loss: -0.77931\n",
      "epoch: 07, loss: -0.77624\n",
      "epoch: 08, loss: -0.79015\n",
      "epoch: 09, loss: -0.79217\n",
      "After Unsqueezing, feature size= torch.Size([400, 1, 1, 384])\n"
     ]
    },
    {
     "name": "stderr",
     "output_type": "stream",
     "text": [
      "  9%|▉         | 89/1000 [28:40<4:56:11, 19.51s/it]"
     ]
    },
    {
     "name": "stdout",
     "output_type": "stream",
     "text": [
      "eigenvalues shape torch.Size([5]) eigenvectors shape torch.Size([5, 400])\n",
      "89 /home/phdcs2/Hard_Disk/Datasets/Deep-Spectral-Segmentation/data/object-segmentation/ECSSD/features/dino_vits16/0090.pth\n",
      "dict_keys(['k', 'indices', 'file', 'id', 'model_name', 'patch_size', 'shape'])\n",
      "0090\n",
      "Starting Training\n",
      "epoch: 00, loss: -0.52660\n",
      "epoch: 01, loss: -0.70666\n",
      "epoch: 02, loss: -0.72052\n",
      "epoch: 03, loss: -0.72809\n",
      "epoch: 04, loss: -0.74673\n",
      "epoch: 05, loss: -0.76216\n",
      "epoch: 06, loss: -0.75808\n",
      "epoch: 07, loss: -0.76481\n",
      "epoch: 08, loss: -0.77186\n",
      "epoch: 09, loss: -0.76941\n",
      "After Unsqueezing, feature size= torch.Size([400, 1, 1, 384])\n"
     ]
    },
    {
     "name": "stderr",
     "output_type": "stream",
     "text": [
      "  9%|▉         | 90/1000 [28:59<4:53:52, 19.38s/it]"
     ]
    },
    {
     "name": "stdout",
     "output_type": "stream",
     "text": [
      "eigenvalues shape torch.Size([5]) eigenvectors shape torch.Size([5, 400])\n",
      "90 /home/phdcs2/Hard_Disk/Datasets/Deep-Spectral-Segmentation/data/object-segmentation/ECSSD/features/dino_vits16/0091.pth\n",
      "dict_keys(['k', 'indices', 'file', 'id', 'model_name', 'patch_size', 'shape'])\n",
      "0091\n",
      "Starting Training\n",
      "epoch: 00, loss: -0.53329\n",
      "epoch: 01, loss: -0.69073\n",
      "epoch: 02, loss: -0.71852\n",
      "epoch: 03, loss: -0.72801\n",
      "epoch: 04, loss: -0.73164\n",
      "epoch: 05, loss: -0.73767\n",
      "epoch: 06, loss: -0.74858\n",
      "epoch: 07, loss: -0.73607\n",
      "epoch: 08, loss: -0.74480\n",
      "epoch: 09, loss: -0.74540\n",
      "After Unsqueezing, feature size= torch.Size([400, 1, 1, 384])\n"
     ]
    },
    {
     "name": "stderr",
     "output_type": "stream",
     "text": [
      "  9%|▉         | 91/1000 [29:17<4:49:17, 19.10s/it]"
     ]
    },
    {
     "name": "stdout",
     "output_type": "stream",
     "text": [
      "eigenvalues shape torch.Size([5]) eigenvectors shape torch.Size([5, 400])\n",
      "91 /home/phdcs2/Hard_Disk/Datasets/Deep-Spectral-Segmentation/data/object-segmentation/ECSSD/features/dino_vits16/0092.pth\n",
      "dict_keys(['k', 'indices', 'file', 'id', 'model_name', 'patch_size', 'shape'])\n",
      "0092\n",
      "Starting Training\n",
      "epoch: 00, loss: -0.49976\n",
      "epoch: 01, loss: -0.66679\n",
      "epoch: 02, loss: -0.70622\n",
      "epoch: 03, loss: -0.71316\n",
      "epoch: 04, loss: -0.71904\n",
      "epoch: 05, loss: -0.73671\n",
      "epoch: 06, loss: -0.72276\n",
      "epoch: 07, loss: -0.73256\n",
      "epoch: 08, loss: -0.75018\n",
      "epoch: 09, loss: -0.76980\n",
      "After Unsqueezing, feature size= torch.Size([400, 1, 1, 384])\n"
     ]
    },
    {
     "name": "stderr",
     "output_type": "stream",
     "text": [
      "  9%|▉         | 92/1000 [29:34<4:40:14, 18.52s/it]"
     ]
    },
    {
     "name": "stdout",
     "output_type": "stream",
     "text": [
      "eigenvalues shape torch.Size([5]) eigenvectors shape torch.Size([5, 400])\n",
      "92 /home/phdcs2/Hard_Disk/Datasets/Deep-Spectral-Segmentation/data/object-segmentation/ECSSD/features/dino_vits16/0093.pth\n",
      "dict_keys(['k', 'indices', 'file', 'id', 'model_name', 'patch_size', 'shape'])\n",
      "0093\n",
      "Starting Training\n",
      "epoch: 00, loss: -0.43819\n",
      "epoch: 01, loss: -0.57046\n",
      "epoch: 02, loss: -0.62788\n",
      "epoch: 03, loss: -0.64950\n",
      "epoch: 04, loss: -0.66118\n",
      "epoch: 05, loss: -0.67440\n",
      "epoch: 06, loss: -0.69699\n",
      "epoch: 07, loss: -0.69128\n",
      "epoch: 08, loss: -0.69750\n",
      "epoch: 09, loss: -0.68040\n",
      "After Unsqueezing, feature size= torch.Size([400, 1, 1, 384])\n"
     ]
    },
    {
     "name": "stderr",
     "output_type": "stream",
     "text": [
      "  9%|▉         | 93/1000 [29:52<4:37:56, 18.39s/it]"
     ]
    },
    {
     "name": "stdout",
     "output_type": "stream",
     "text": [
      "eigenvalues shape torch.Size([5]) eigenvectors shape torch.Size([5, 400])\n",
      "93 /home/phdcs2/Hard_Disk/Datasets/Deep-Spectral-Segmentation/data/object-segmentation/ECSSD/features/dino_vits16/0094.pth\n",
      "dict_keys(['k', 'indices', 'file', 'id', 'model_name', 'patch_size', 'shape'])\n",
      "0094\n",
      "Starting Training\n",
      "epoch: 00, loss: -0.50287\n",
      "epoch: 01, loss: -0.65936\n",
      "epoch: 02, loss: -0.67195\n",
      "epoch: 03, loss: -0.68474\n",
      "epoch: 04, loss: -0.68512\n",
      "epoch: 05, loss: -0.67531\n",
      "epoch: 06, loss: -0.67140\n",
      "epoch: 07, loss: -0.68417\n",
      "epoch: 08, loss: -0.70181\n",
      "epoch: 09, loss: -0.69743\n",
      "After Unsqueezing, feature size= torch.Size([400, 1, 1, 384])\n"
     ]
    },
    {
     "name": "stderr",
     "output_type": "stream",
     "text": [
      "  9%|▉         | 94/1000 [30:07<4:21:44, 17.33s/it]"
     ]
    },
    {
     "name": "stdout",
     "output_type": "stream",
     "text": [
      "eigenvalues shape torch.Size([5]) eigenvectors shape torch.Size([5, 400])\n",
      "94 /home/phdcs2/Hard_Disk/Datasets/Deep-Spectral-Segmentation/data/object-segmentation/ECSSD/features/dino_vits16/0095.pth\n",
      "dict_keys(['k', 'indices', 'file', 'id', 'model_name', 'patch_size', 'shape'])\n",
      "0095\n",
      "Starting Training\n",
      "epoch: 00, loss: -0.44627\n",
      "epoch: 01, loss: -0.60395\n",
      "epoch: 02, loss: -0.60814\n",
      "epoch: 03, loss: -0.62480\n",
      "epoch: 04, loss: -0.64037\n",
      "epoch: 05, loss: -0.66091\n",
      "epoch: 06, loss: -0.66985\n",
      "epoch: 07, loss: -0.69995\n",
      "epoch: 08, loss: -0.72008\n",
      "epoch: 09, loss: -0.72806\n",
      "After Unsqueezing, feature size= torch.Size([400, 1, 1, 384])\n"
     ]
    },
    {
     "name": "stderr",
     "output_type": "stream",
     "text": [
      " 10%|▉         | 95/1000 [30:24<4:16:50, 17.03s/it]"
     ]
    },
    {
     "name": "stdout",
     "output_type": "stream",
     "text": [
      "eigenvalues shape torch.Size([5]) eigenvectors shape torch.Size([5, 400])\n",
      "95 /home/phdcs2/Hard_Disk/Datasets/Deep-Spectral-Segmentation/data/object-segmentation/ECSSD/features/dino_vits16/0096.pth\n",
      "dict_keys(['k', 'indices', 'file', 'id', 'model_name', 'patch_size', 'shape'])\n",
      "0096\n",
      "Starting Training\n",
      "epoch: 00, loss: -0.48435\n",
      "epoch: 01, loss: -0.64754\n",
      "epoch: 02, loss: -0.67892\n",
      "epoch: 03, loss: -0.68985\n",
      "epoch: 04, loss: -0.69168\n",
      "epoch: 05, loss: -0.70086\n",
      "epoch: 06, loss: -0.70092\n",
      "epoch: 07, loss: -0.70479\n",
      "epoch: 08, loss: -0.70640\n",
      "epoch: 09, loss: -0.70900\n",
      "After Unsqueezing, feature size= torch.Size([400, 1, 1, 384])\n"
     ]
    },
    {
     "name": "stderr",
     "output_type": "stream",
     "text": [
      " 10%|▉         | 96/1000 [30:41<4:16:56, 17.05s/it]"
     ]
    },
    {
     "name": "stdout",
     "output_type": "stream",
     "text": [
      "eigenvalues shape torch.Size([5]) eigenvectors shape torch.Size([5, 400])\n",
      "96 /home/phdcs2/Hard_Disk/Datasets/Deep-Spectral-Segmentation/data/object-segmentation/ECSSD/features/dino_vits16/0097.pth\n",
      "dict_keys(['k', 'indices', 'file', 'id', 'model_name', 'patch_size', 'shape'])\n",
      "0097\n",
      "Starting Training\n",
      "epoch: 00, loss: -0.48016\n",
      "epoch: 01, loss: -0.62946\n",
      "epoch: 02, loss: -0.65600\n",
      "epoch: 03, loss: -0.66293\n",
      "epoch: 04, loss: -0.67560\n",
      "epoch: 05, loss: -0.68442\n",
      "epoch: 06, loss: -0.69706\n",
      "epoch: 07, loss: -0.70351\n",
      "epoch: 08, loss: -0.70172\n",
      "epoch: 09, loss: -0.71312\n",
      "After Unsqueezing, feature size= torch.Size([400, 1, 1, 384])\n"
     ]
    },
    {
     "name": "stderr",
     "output_type": "stream",
     "text": [
      " 10%|▉         | 97/1000 [30:59<4:19:44, 17.26s/it]"
     ]
    },
    {
     "name": "stdout",
     "output_type": "stream",
     "text": [
      "eigenvalues shape torch.Size([5]) eigenvectors shape torch.Size([5, 400])\n",
      "97 /home/phdcs2/Hard_Disk/Datasets/Deep-Spectral-Segmentation/data/object-segmentation/ECSSD/features/dino_vits16/0098.pth\n",
      "dict_keys(['k', 'indices', 'file', 'id', 'model_name', 'patch_size', 'shape'])\n",
      "0098\n",
      "Starting Training\n",
      "epoch: 00, loss: -0.46279\n",
      "epoch: 01, loss: -0.62230\n",
      "epoch: 02, loss: -0.63606\n",
      "epoch: 03, loss: -0.65175\n",
      "epoch: 04, loss: -0.64790\n",
      "epoch: 05, loss: -0.63291\n",
      "epoch: 06, loss: -0.65455\n",
      "epoch: 07, loss: -0.64438\n",
      "epoch: 08, loss: -0.63174\n",
      "epoch: 09, loss: -0.61589\n",
      "After Unsqueezing, feature size= torch.Size([400, 1, 1, 384])\n"
     ]
    },
    {
     "name": "stderr",
     "output_type": "stream",
     "text": [
      " 10%|▉         | 98/1000 [31:15<4:15:54, 17.02s/it]"
     ]
    },
    {
     "name": "stdout",
     "output_type": "stream",
     "text": [
      "eigenvalues shape torch.Size([5]) eigenvectors shape torch.Size([5, 400])\n",
      "98 /home/phdcs2/Hard_Disk/Datasets/Deep-Spectral-Segmentation/data/object-segmentation/ECSSD/features/dino_vits16/0099.pth\n",
      "dict_keys(['k', 'indices', 'file', 'id', 'model_name', 'patch_size', 'shape'])\n",
      "0099\n",
      "Starting Training\n",
      "epoch: 00, loss: -0.46408\n",
      "epoch: 01, loss: -0.61446\n",
      "epoch: 02, loss: -0.65059\n",
      "epoch: 03, loss: -0.65218\n",
      "epoch: 04, loss: -0.64991\n",
      "epoch: 05, loss: -0.66040\n",
      "epoch: 06, loss: -0.66106\n",
      "epoch: 07, loss: -0.65611\n",
      "epoch: 08, loss: -0.66865\n",
      "epoch: 09, loss: -0.65404\n",
      "After Unsqueezing, feature size= torch.Size([400, 1, 1, 384])\n"
     ]
    },
    {
     "name": "stderr",
     "output_type": "stream",
     "text": [
      " 10%|▉         | 99/1000 [31:31<4:08:51, 16.57s/it]"
     ]
    },
    {
     "name": "stdout",
     "output_type": "stream",
     "text": [
      "eigenvalues shape torch.Size([5]) eigenvectors shape torch.Size([5, 400])\n",
      "99 /home/phdcs2/Hard_Disk/Datasets/Deep-Spectral-Segmentation/data/object-segmentation/ECSSD/features/dino_vits16/0100.pth\n",
      "dict_keys(['k', 'indices', 'file', 'id', 'model_name', 'patch_size', 'shape'])\n",
      "0100\n",
      "Starting Training\n",
      "epoch: 00, loss: -0.53664\n",
      "epoch: 01, loss: -0.67747\n",
      "epoch: 02, loss: -0.69747\n",
      "epoch: 03, loss: -0.70535\n",
      "epoch: 04, loss: -0.71201\n",
      "epoch: 05, loss: -0.72154\n",
      "epoch: 06, loss: -0.72816\n",
      "epoch: 07, loss: -0.73550\n",
      "epoch: 08, loss: -0.74260\n",
      "epoch: 09, loss: -0.73979\n",
      "After Unsqueezing, feature size= torch.Size([400, 1, 1, 384])\n"
     ]
    },
    {
     "name": "stderr",
     "output_type": "stream",
     "text": [
      " 10%|█         | 100/1000 [31:49<4:16:45, 17.12s/it]"
     ]
    },
    {
     "name": "stdout",
     "output_type": "stream",
     "text": [
      "eigenvalues shape torch.Size([5]) eigenvectors shape torch.Size([5, 400])\n",
      "100 /home/phdcs2/Hard_Disk/Datasets/Deep-Spectral-Segmentation/data/object-segmentation/ECSSD/features/dino_vits16/0101.pth\n",
      "dict_keys(['k', 'indices', 'file', 'id', 'model_name', 'patch_size', 'shape'])\n",
      "0101\n",
      "Starting Training\n",
      "epoch: 00, loss: -0.55999\n",
      "epoch: 01, loss: -0.71917\n",
      "epoch: 02, loss: -0.73545\n",
      "epoch: 03, loss: -0.74787\n",
      "epoch: 04, loss: -0.75284\n",
      "epoch: 05, loss: -0.75185\n",
      "epoch: 06, loss: -0.76014\n",
      "epoch: 07, loss: -0.76524\n",
      "epoch: 08, loss: -0.77514\n",
      "epoch: 09, loss: -0.78214\n",
      "After Unsqueezing, feature size= torch.Size([400, 1, 1, 384])\n"
     ]
    },
    {
     "name": "stderr",
     "output_type": "stream",
     "text": [
      " 10%|█         | 101/1000 [32:05<4:12:49, 16.87s/it]"
     ]
    },
    {
     "name": "stdout",
     "output_type": "stream",
     "text": [
      "eigenvalues shape torch.Size([5]) eigenvectors shape torch.Size([5, 400])\n",
      "101 /home/phdcs2/Hard_Disk/Datasets/Deep-Spectral-Segmentation/data/object-segmentation/ECSSD/features/dino_vits16/0102.pth\n",
      "dict_keys(['k', 'indices', 'file', 'id', 'model_name', 'patch_size', 'shape'])\n",
      "0102\n",
      "Starting Training\n",
      "epoch: 00, loss: -0.53413\n",
      "epoch: 01, loss: -0.67207\n",
      "epoch: 02, loss: -0.70058\n",
      "epoch: 03, loss: -0.71948\n",
      "epoch: 04, loss: -0.72772\n",
      "epoch: 05, loss: -0.73779\n",
      "epoch: 06, loss: -0.75065\n",
      "epoch: 07, loss: -0.75009\n",
      "epoch: 08, loss: -0.74586\n",
      "epoch: 09, loss: -0.75674\n",
      "After Unsqueezing, feature size= torch.Size([400, 1, 1, 384])\n"
     ]
    },
    {
     "name": "stderr",
     "output_type": "stream",
     "text": [
      " 10%|█         | 102/1000 [32:23<4:18:18, 17.26s/it]"
     ]
    },
    {
     "name": "stdout",
     "output_type": "stream",
     "text": [
      "eigenvalues shape torch.Size([5]) eigenvectors shape torch.Size([5, 400])\n",
      "102 /home/phdcs2/Hard_Disk/Datasets/Deep-Spectral-Segmentation/data/object-segmentation/ECSSD/features/dino_vits16/0103.pth\n",
      "dict_keys(['k', 'indices', 'file', 'id', 'model_name', 'patch_size', 'shape'])\n",
      "0103\n",
      "Starting Training\n",
      "epoch: 00, loss: -0.53693\n",
      "epoch: 01, loss: -0.70512\n",
      "epoch: 02, loss: -0.75300\n",
      "epoch: 03, loss: -0.75251\n",
      "epoch: 04, loss: -0.76072\n",
      "epoch: 05, loss: -0.76388\n",
      "epoch: 06, loss: -0.77053\n",
      "epoch: 07, loss: -0.78133\n",
      "epoch: 08, loss: -0.77790\n",
      "epoch: 09, loss: -0.77702\n",
      "After Unsqueezing, feature size= torch.Size([400, 1, 1, 384])\n"
     ]
    },
    {
     "name": "stderr",
     "output_type": "stream",
     "text": [
      " 10%|█         | 103/1000 [32:44<4:31:12, 18.14s/it]"
     ]
    },
    {
     "name": "stdout",
     "output_type": "stream",
     "text": [
      "eigenvalues shape torch.Size([5]) eigenvectors shape torch.Size([5, 400])\n",
      "103 /home/phdcs2/Hard_Disk/Datasets/Deep-Spectral-Segmentation/data/object-segmentation/ECSSD/features/dino_vits16/0104.pth\n",
      "dict_keys(['k', 'indices', 'file', 'id', 'model_name', 'patch_size', 'shape'])\n",
      "0104\n",
      "Starting Training\n",
      "epoch: 00, loss: -0.56578\n",
      "epoch: 01, loss: -0.70297\n",
      "epoch: 02, loss: -0.72478\n",
      "epoch: 03, loss: -0.73110\n",
      "epoch: 04, loss: -0.74489\n",
      "epoch: 05, loss: -0.74482\n",
      "epoch: 06, loss: -0.74916\n",
      "epoch: 07, loss: -0.75970\n",
      "epoch: 08, loss: -0.77602\n",
      "epoch: 09, loss: -0.78198\n",
      "After Unsqueezing, feature size= torch.Size([400, 1, 1, 384])\n"
     ]
    },
    {
     "name": "stderr",
     "output_type": "stream",
     "text": [
      " 10%|█         | 104/1000 [33:02<4:33:25, 18.31s/it]"
     ]
    },
    {
     "name": "stdout",
     "output_type": "stream",
     "text": [
      "eigenvalues shape torch.Size([5]) eigenvectors shape torch.Size([5, 400])\n",
      "104 /home/phdcs2/Hard_Disk/Datasets/Deep-Spectral-Segmentation/data/object-segmentation/ECSSD/features/dino_vits16/0105.pth\n",
      "dict_keys(['k', 'indices', 'file', 'id', 'model_name', 'patch_size', 'shape'])\n",
      "0105\n",
      "Starting Training\n",
      "epoch: 00, loss: -0.45577\n",
      "epoch: 01, loss: -0.61476\n",
      "epoch: 02, loss: -0.63709\n",
      "epoch: 03, loss: -0.64684\n",
      "epoch: 04, loss: -0.65127\n",
      "epoch: 05, loss: -0.65099\n",
      "epoch: 06, loss: -0.66045\n",
      "epoch: 07, loss: -0.67332\n",
      "epoch: 08, loss: -0.68253\n",
      "epoch: 09, loss: -0.68949\n",
      "After Unsqueezing, feature size= torch.Size([400, 1, 1, 384])\n"
     ]
    },
    {
     "name": "stderr",
     "output_type": "stream",
     "text": [
      " 10%|█         | 105/1000 [33:21<4:34:25, 18.40s/it]"
     ]
    },
    {
     "name": "stdout",
     "output_type": "stream",
     "text": [
      "eigenvalues shape torch.Size([5]) eigenvectors shape torch.Size([5, 400])\n",
      "105 /home/phdcs2/Hard_Disk/Datasets/Deep-Spectral-Segmentation/data/object-segmentation/ECSSD/features/dino_vits16/0106.pth\n",
      "dict_keys(['k', 'indices', 'file', 'id', 'model_name', 'patch_size', 'shape'])\n",
      "0106\n",
      "Starting Training\n",
      "epoch: 00, loss: -0.48106\n",
      "epoch: 01, loss: -0.63674\n",
      "epoch: 02, loss: -0.65889\n",
      "epoch: 03, loss: -0.67129\n",
      "epoch: 04, loss: -0.69931\n",
      "epoch: 05, loss: -0.70287\n",
      "epoch: 06, loss: -0.70274\n",
      "epoch: 07, loss: -0.69637\n",
      "epoch: 08, loss: -0.69290\n",
      "epoch: 09, loss: -0.69646\n",
      "After Unsqueezing, feature size= torch.Size([400, 1, 1, 384])\n"
     ]
    },
    {
     "name": "stderr",
     "output_type": "stream",
     "text": [
      " 11%|█         | 106/1000 [33:41<4:41:41, 18.91s/it]"
     ]
    },
    {
     "name": "stdout",
     "output_type": "stream",
     "text": [
      "eigenvalues shape torch.Size([5]) eigenvectors shape torch.Size([5, 400])\n",
      "106 /home/phdcs2/Hard_Disk/Datasets/Deep-Spectral-Segmentation/data/object-segmentation/ECSSD/features/dino_vits16/0107.pth\n",
      "dict_keys(['k', 'indices', 'file', 'id', 'model_name', 'patch_size', 'shape'])\n",
      "0107\n",
      "Starting Training\n",
      "epoch: 00, loss: -0.46851\n",
      "epoch: 01, loss: -0.64190\n",
      "epoch: 02, loss: -0.65279\n",
      "epoch: 03, loss: -0.65221\n",
      "epoch: 04, loss: -0.66702\n",
      "epoch: 05, loss: -0.67077\n",
      "epoch: 06, loss: -0.67359\n",
      "epoch: 07, loss: -0.67778\n",
      "epoch: 08, loss: -0.68897\n",
      "epoch: 09, loss: -0.68970\n",
      "After Unsqueezing, feature size= torch.Size([400, 1, 1, 384])\n"
     ]
    },
    {
     "name": "stderr",
     "output_type": "stream",
     "text": [
      " 11%|█         | 107/1000 [34:01<4:46:03, 19.22s/it]"
     ]
    },
    {
     "name": "stdout",
     "output_type": "stream",
     "text": [
      "eigenvalues shape torch.Size([5]) eigenvectors shape torch.Size([5, 400])\n",
      "107 /home/phdcs2/Hard_Disk/Datasets/Deep-Spectral-Segmentation/data/object-segmentation/ECSSD/features/dino_vits16/0108.pth\n",
      "dict_keys(['k', 'indices', 'file', 'id', 'model_name', 'patch_size', 'shape'])\n",
      "0108\n",
      "Starting Training\n",
      "epoch: 00, loss: -0.50257\n",
      "epoch: 01, loss: -0.65235\n",
      "epoch: 02, loss: -0.63075\n",
      "epoch: 03, loss: -0.63605\n",
      "epoch: 04, loss: -0.64704\n",
      "epoch: 05, loss: -0.66660\n",
      "epoch: 06, loss: -0.67500\n",
      "epoch: 07, loss: -0.67583\n",
      "epoch: 08, loss: -0.69499\n",
      "epoch: 09, loss: -0.68939\n",
      "After Unsqueezing, feature size= torch.Size([400, 1, 1, 384])\n"
     ]
    },
    {
     "name": "stderr",
     "output_type": "stream",
     "text": [
      " 11%|█         | 108/1000 [34:19<4:41:41, 18.95s/it]"
     ]
    },
    {
     "name": "stdout",
     "output_type": "stream",
     "text": [
      "eigenvalues shape torch.Size([5]) eigenvectors shape torch.Size([5, 400])\n",
      "108 /home/phdcs2/Hard_Disk/Datasets/Deep-Spectral-Segmentation/data/object-segmentation/ECSSD/features/dino_vits16/0109.pth\n",
      "dict_keys(['k', 'indices', 'file', 'id', 'model_name', 'patch_size', 'shape'])\n",
      "0109\n",
      "Starting Training\n",
      "epoch: 00, loss: -0.46819\n",
      "epoch: 01, loss: -0.61681\n",
      "epoch: 02, loss: -0.65009\n",
      "epoch: 03, loss: -0.67490\n",
      "epoch: 04, loss: -0.68936\n",
      "epoch: 05, loss: -0.68227\n",
      "epoch: 06, loss: -0.67866\n",
      "epoch: 07, loss: -0.67563\n",
      "epoch: 08, loss: -0.65843\n",
      "epoch: 09, loss: -0.61751\n",
      "After Unsqueezing, feature size= torch.Size([400, 1, 1, 384])\n"
     ]
    },
    {
     "name": "stderr",
     "output_type": "stream",
     "text": [
      " 11%|█         | 109/1000 [34:35<4:29:00, 18.11s/it]"
     ]
    },
    {
     "name": "stdout",
     "output_type": "stream",
     "text": [
      "eigenvalues shape torch.Size([5]) eigenvectors shape torch.Size([5, 400])\n",
      "109 /home/phdcs2/Hard_Disk/Datasets/Deep-Spectral-Segmentation/data/object-segmentation/ECSSD/features/dino_vits16/0110.pth\n",
      "dict_keys(['k', 'indices', 'file', 'id', 'model_name', 'patch_size', 'shape'])\n",
      "0110\n",
      "Starting Training\n",
      "epoch: 00, loss: -0.47774\n",
      "epoch: 01, loss: -0.62981\n",
      "epoch: 02, loss: -0.65399\n",
      "epoch: 03, loss: -0.67182\n",
      "epoch: 04, loss: -0.68324\n",
      "epoch: 05, loss: -0.68874\n",
      "epoch: 06, loss: -0.68674\n",
      "epoch: 07, loss: -0.68814\n",
      "epoch: 08, loss: -0.69972\n",
      "epoch: 09, loss: -0.70566\n",
      "After Unsqueezing, feature size= torch.Size([400, 1, 1, 384])\n"
     ]
    },
    {
     "name": "stderr",
     "output_type": "stream",
     "text": [
      " 11%|█         | 110/1000 [34:50<4:10:49, 16.91s/it]"
     ]
    },
    {
     "name": "stdout",
     "output_type": "stream",
     "text": [
      "eigenvalues shape torch.Size([5]) eigenvectors shape torch.Size([5, 400])\n",
      "110 /home/phdcs2/Hard_Disk/Datasets/Deep-Spectral-Segmentation/data/object-segmentation/ECSSD/features/dino_vits16/0111.pth\n",
      "dict_keys(['k', 'indices', 'file', 'id', 'model_name', 'patch_size', 'shape'])\n",
      "0111\n",
      "Starting Training\n",
      "epoch: 00, loss: -0.49591\n",
      "epoch: 01, loss: -0.67214\n",
      "epoch: 02, loss: -0.69238\n",
      "epoch: 03, loss: -0.71114\n",
      "epoch: 04, loss: -0.70212\n",
      "epoch: 05, loss: -0.70573\n",
      "epoch: 06, loss: -0.71227\n",
      "epoch: 07, loss: -0.72201\n",
      "epoch: 08, loss: -0.72196\n",
      "epoch: 09, loss: -0.73351\n",
      "After Unsqueezing, feature size= torch.Size([400, 1, 1, 384])\n"
     ]
    },
    {
     "name": "stderr",
     "output_type": "stream",
     "text": [
      " 11%|█         | 111/1000 [35:07<4:12:10, 17.02s/it]"
     ]
    },
    {
     "name": "stdout",
     "output_type": "stream",
     "text": [
      "eigenvalues shape torch.Size([5]) eigenvectors shape torch.Size([5, 400])\n",
      "111 /home/phdcs2/Hard_Disk/Datasets/Deep-Spectral-Segmentation/data/object-segmentation/ECSSD/features/dino_vits16/0112.pth\n",
      "dict_keys(['k', 'indices', 'file', 'id', 'model_name', 'patch_size', 'shape'])\n",
      "0112\n",
      "Starting Training\n",
      "epoch: 00, loss: -0.51440\n",
      "epoch: 01, loss: -0.67834\n",
      "epoch: 02, loss: -0.69434\n",
      "epoch: 03, loss: -0.71697\n",
      "epoch: 04, loss: -0.71401\n",
      "epoch: 05, loss: -0.72939\n",
      "epoch: 06, loss: -0.72184\n",
      "epoch: 07, loss: -0.72024\n",
      "epoch: 08, loss: -0.70313\n",
      "epoch: 09, loss: -0.72160\n",
      "After Unsqueezing, feature size= torch.Size([400, 1, 1, 384])\n"
     ]
    },
    {
     "name": "stderr",
     "output_type": "stream",
     "text": [
      " 11%|█         | 112/1000 [35:22<4:05:19, 16.58s/it]"
     ]
    },
    {
     "name": "stdout",
     "output_type": "stream",
     "text": [
      "eigenvalues shape torch.Size([5]) eigenvectors shape torch.Size([5, 400])\n",
      "112 /home/phdcs2/Hard_Disk/Datasets/Deep-Spectral-Segmentation/data/object-segmentation/ECSSD/features/dino_vits16/0113.pth\n",
      "dict_keys(['k', 'indices', 'file', 'id', 'model_name', 'patch_size', 'shape'])\n",
      "0113\n",
      "Starting Training\n",
      "epoch: 00, loss: -0.50569\n",
      "epoch: 01, loss: -0.61124\n",
      "epoch: 02, loss: -0.64396\n",
      "epoch: 03, loss: -0.64472\n",
      "epoch: 04, loss: -0.65090\n",
      "epoch: 05, loss: -0.66284\n",
      "epoch: 06, loss: -0.65752\n",
      "epoch: 07, loss: -0.65214\n",
      "epoch: 08, loss: -0.65836\n",
      "epoch: 09, loss: -0.67420\n",
      "After Unsqueezing, feature size= torch.Size([400, 1, 1, 384])\n"
     ]
    },
    {
     "name": "stderr",
     "output_type": "stream",
     "text": [
      " 11%|█▏        | 113/1000 [35:39<4:04:40, 16.55s/it]"
     ]
    },
    {
     "name": "stdout",
     "output_type": "stream",
     "text": [
      "eigenvalues shape torch.Size([5]) eigenvectors shape torch.Size([5, 400])\n",
      "113 /home/phdcs2/Hard_Disk/Datasets/Deep-Spectral-Segmentation/data/object-segmentation/ECSSD/features/dino_vits16/0114.pth\n",
      "dict_keys(['k', 'indices', 'file', 'id', 'model_name', 'patch_size', 'shape'])\n",
      "0114\n",
      "Starting Training\n",
      "epoch: 00, loss: -0.48333\n",
      "epoch: 01, loss: -0.61630\n",
      "epoch: 02, loss: -0.64555\n",
      "epoch: 03, loss: -0.66925\n",
      "epoch: 04, loss: -0.68414\n",
      "epoch: 05, loss: -0.69656\n",
      "epoch: 06, loss: -0.67991\n",
      "epoch: 07, loss: -0.66450\n",
      "epoch: 08, loss: -0.68605\n",
      "epoch: 09, loss: -0.69679\n",
      "After Unsqueezing, feature size= torch.Size([400, 1, 1, 384])\n"
     ]
    },
    {
     "name": "stderr",
     "output_type": "stream",
     "text": [
      " 11%|█▏        | 114/1000 [35:57<4:11:07, 17.01s/it]"
     ]
    },
    {
     "name": "stdout",
     "output_type": "stream",
     "text": [
      "eigenvalues shape torch.Size([5]) eigenvectors shape torch.Size([5, 400])\n",
      "114 /home/phdcs2/Hard_Disk/Datasets/Deep-Spectral-Segmentation/data/object-segmentation/ECSSD/features/dino_vits16/0115.pth\n",
      "dict_keys(['k', 'indices', 'file', 'id', 'model_name', 'patch_size', 'shape'])\n",
      "0115\n",
      "Starting Training\n",
      "epoch: 00, loss: -0.50489\n",
      "epoch: 01, loss: -0.68332\n",
      "epoch: 02, loss: -0.71697\n",
      "epoch: 03, loss: -0.72806\n",
      "epoch: 04, loss: -0.71763\n",
      "epoch: 05, loss: -0.71760\n",
      "epoch: 06, loss: -0.70297\n",
      "epoch: 07, loss: -0.72591\n",
      "epoch: 08, loss: -0.72682\n",
      "epoch: 09, loss: -0.72935\n",
      "After Unsqueezing, feature size= torch.Size([400, 1, 1, 384])\n"
     ]
    },
    {
     "name": "stderr",
     "output_type": "stream",
     "text": [
      " 12%|█▏        | 115/1000 [36:14<4:12:30, 17.12s/it]"
     ]
    },
    {
     "name": "stdout",
     "output_type": "stream",
     "text": [
      "eigenvalues shape torch.Size([5]) eigenvectors shape torch.Size([5, 400])\n",
      "115 /home/phdcs2/Hard_Disk/Datasets/Deep-Spectral-Segmentation/data/object-segmentation/ECSSD/features/dino_vits16/0116.pth\n",
      "dict_keys(['k', 'indices', 'file', 'id', 'model_name', 'patch_size', 'shape'])\n",
      "0116\n",
      "Starting Training\n",
      "epoch: 00, loss: -0.41003\n",
      "epoch: 01, loss: -0.57961\n",
      "epoch: 02, loss: -0.61951\n",
      "epoch: 03, loss: -0.63595\n",
      "epoch: 04, loss: -0.65292\n",
      "epoch: 05, loss: -0.66589\n",
      "epoch: 06, loss: -0.66643\n",
      "epoch: 07, loss: -0.67364\n",
      "epoch: 08, loss: -0.68311\n",
      "epoch: 09, loss: -0.69469\n",
      "After Unsqueezing, feature size= torch.Size([400, 1, 1, 384])\n"
     ]
    },
    {
     "name": "stderr",
     "output_type": "stream",
     "text": [
      " 12%|█▏        | 116/1000 [36:30<4:04:41, 16.61s/it]"
     ]
    },
    {
     "name": "stdout",
     "output_type": "stream",
     "text": [
      "eigenvalues shape torch.Size([5]) eigenvectors shape torch.Size([5, 400])\n",
      "116 /home/phdcs2/Hard_Disk/Datasets/Deep-Spectral-Segmentation/data/object-segmentation/ECSSD/features/dino_vits16/0117.pth\n",
      "dict_keys(['k', 'indices', 'file', 'id', 'model_name', 'patch_size', 'shape'])\n",
      "0117\n",
      "Starting Training\n",
      "epoch: 00, loss: -0.43711\n",
      "epoch: 01, loss: -0.58778\n",
      "epoch: 02, loss: -0.62375\n",
      "epoch: 03, loss: -0.64000\n",
      "epoch: 04, loss: -0.63541\n",
      "epoch: 05, loss: -0.66681\n",
      "epoch: 06, loss: -0.66487\n",
      "epoch: 07, loss: -0.67163\n",
      "epoch: 08, loss: -0.67547\n",
      "epoch: 09, loss: -0.67446\n",
      "After Unsqueezing, feature size= torch.Size([400, 1, 1, 384])\n"
     ]
    },
    {
     "name": "stderr",
     "output_type": "stream",
     "text": [
      " 12%|█▏        | 117/1000 [36:48<4:13:46, 17.24s/it]"
     ]
    },
    {
     "name": "stdout",
     "output_type": "stream",
     "text": [
      "eigenvalues shape torch.Size([5]) eigenvectors shape torch.Size([5, 400])\n",
      "117 /home/phdcs2/Hard_Disk/Datasets/Deep-Spectral-Segmentation/data/object-segmentation/ECSSD/features/dino_vits16/0118.pth\n",
      "dict_keys(['k', 'indices', 'file', 'id', 'model_name', 'patch_size', 'shape'])\n",
      "0118\n",
      "Starting Training\n",
      "epoch: 00, loss: -0.50415\n",
      "epoch: 01, loss: -0.66457\n",
      "epoch: 02, loss: -0.66551\n",
      "epoch: 03, loss: -0.65469\n",
      "epoch: 04, loss: -0.66506\n",
      "epoch: 05, loss: -0.67692\n",
      "epoch: 06, loss: -0.69416\n",
      "epoch: 07, loss: -0.70693\n",
      "epoch: 08, loss: -0.70438\n",
      "epoch: 09, loss: -0.69901\n",
      "After Unsqueezing, feature size= torch.Size([400, 1, 1, 384])\n"
     ]
    },
    {
     "name": "stderr",
     "output_type": "stream",
     "text": [
      " 12%|█▏        | 118/1000 [37:08<4:25:45, 18.08s/it]"
     ]
    },
    {
     "name": "stdout",
     "output_type": "stream",
     "text": [
      "eigenvalues shape torch.Size([5]) eigenvectors shape torch.Size([5, 400])\n",
      "118 /home/phdcs2/Hard_Disk/Datasets/Deep-Spectral-Segmentation/data/object-segmentation/ECSSD/features/dino_vits16/0119.pth\n",
      "dict_keys(['k', 'indices', 'file', 'id', 'model_name', 'patch_size', 'shape'])\n",
      "0119\n",
      "Starting Training\n",
      "epoch: 00, loss: -0.44243\n",
      "epoch: 01, loss: -0.59101\n",
      "epoch: 02, loss: -0.61769\n",
      "epoch: 03, loss: -0.62616\n",
      "epoch: 04, loss: -0.63541\n",
      "epoch: 05, loss: -0.63995\n",
      "epoch: 06, loss: -0.63790\n",
      "epoch: 07, loss: -0.63856\n",
      "epoch: 08, loss: -0.62744\n",
      "epoch: 09, loss: -0.61956\n",
      "After Unsqueezing, feature size= torch.Size([400, 1, 1, 384])\n"
     ]
    },
    {
     "name": "stderr",
     "output_type": "stream",
     "text": [
      " 12%|█▏        | 119/1000 [37:26<4:25:01, 18.05s/it]"
     ]
    },
    {
     "name": "stdout",
     "output_type": "stream",
     "text": [
      "eigenvalues shape torch.Size([5]) eigenvectors shape torch.Size([5, 400])\n",
      "119 /home/phdcs2/Hard_Disk/Datasets/Deep-Spectral-Segmentation/data/object-segmentation/ECSSD/features/dino_vits16/0120.pth\n",
      "dict_keys(['k', 'indices', 'file', 'id', 'model_name', 'patch_size', 'shape'])\n",
      "0120\n",
      "Starting Training\n",
      "epoch: 00, loss: -0.45479\n",
      "epoch: 01, loss: -0.60351\n",
      "epoch: 02, loss: -0.64010\n",
      "epoch: 03, loss: -0.64371\n",
      "epoch: 04, loss: -0.66002\n",
      "epoch: 05, loss: -0.65480\n",
      "epoch: 06, loss: -0.66177\n",
      "epoch: 07, loss: -0.67502\n",
      "epoch: 08, loss: -0.68520\n",
      "epoch: 09, loss: -0.71169\n",
      "After Unsqueezing, feature size= torch.Size([400, 1, 1, 384])\n"
     ]
    },
    {
     "name": "stderr",
     "output_type": "stream",
     "text": [
      " 12%|█▏        | 120/1000 [37:43<4:18:05, 17.60s/it]"
     ]
    },
    {
     "name": "stdout",
     "output_type": "stream",
     "text": [
      "eigenvalues shape torch.Size([5]) eigenvectors shape torch.Size([5, 400])\n",
      "120 /home/phdcs2/Hard_Disk/Datasets/Deep-Spectral-Segmentation/data/object-segmentation/ECSSD/features/dino_vits16/0121.pth\n",
      "dict_keys(['k', 'indices', 'file', 'id', 'model_name', 'patch_size', 'shape'])\n",
      "0121\n",
      "Starting Training\n",
      "epoch: 00, loss: -0.46295\n",
      "epoch: 01, loss: -0.59195\n",
      "epoch: 02, loss: -0.61209\n",
      "epoch: 03, loss: -0.63099\n",
      "epoch: 04, loss: -0.63390\n",
      "epoch: 05, loss: -0.64525\n",
      "epoch: 06, loss: -0.65897\n",
      "epoch: 07, loss: -0.66575\n",
      "epoch: 08, loss: -0.66640\n",
      "epoch: 09, loss: -0.67872\n",
      "After Unsqueezing, feature size= torch.Size([400, 1, 1, 384])\n"
     ]
    },
    {
     "name": "stderr",
     "output_type": "stream",
     "text": [
      " 12%|█▏        | 121/1000 [38:01<4:21:43, 17.86s/it]"
     ]
    },
    {
     "name": "stdout",
     "output_type": "stream",
     "text": [
      "eigenvalues shape torch.Size([5]) eigenvectors shape torch.Size([5, 400])\n",
      "121 /home/phdcs2/Hard_Disk/Datasets/Deep-Spectral-Segmentation/data/object-segmentation/ECSSD/features/dino_vits16/0122.pth\n",
      "dict_keys(['k', 'indices', 'file', 'id', 'model_name', 'patch_size', 'shape'])\n",
      "0122\n",
      "Starting Training\n",
      "epoch: 00, loss: -0.49044\n",
      "epoch: 01, loss: -0.65717\n",
      "epoch: 02, loss: -0.66661\n",
      "epoch: 03, loss: -0.67711\n",
      "epoch: 04, loss: -0.68317\n",
      "epoch: 05, loss: -0.69537\n",
      "epoch: 06, loss: -0.70143\n",
      "epoch: 07, loss: -0.71725\n",
      "epoch: 08, loss: -0.72926\n",
      "epoch: 09, loss: -0.72561\n",
      "After Unsqueezing, feature size= torch.Size([400, 1, 1, 384])\n"
     ]
    },
    {
     "name": "stderr",
     "output_type": "stream",
     "text": [
      " 12%|█▏        | 122/1000 [38:18<4:16:59, 17.56s/it]"
     ]
    },
    {
     "name": "stdout",
     "output_type": "stream",
     "text": [
      "eigenvalues shape torch.Size([5]) eigenvectors shape torch.Size([5, 400])\n",
      "122 /home/phdcs2/Hard_Disk/Datasets/Deep-Spectral-Segmentation/data/object-segmentation/ECSSD/features/dino_vits16/0123.pth\n",
      "dict_keys(['k', 'indices', 'file', 'id', 'model_name', 'patch_size', 'shape'])\n",
      "0123\n",
      "Starting Training\n",
      "epoch: 00, loss: -0.48004\n",
      "epoch: 01, loss: -0.62969\n",
      "epoch: 02, loss: -0.65390\n",
      "epoch: 03, loss: -0.65813\n",
      "epoch: 04, loss: -0.68134\n",
      "epoch: 05, loss: -0.68782\n",
      "epoch: 06, loss: -0.70364\n",
      "epoch: 07, loss: -0.70790\n",
      "epoch: 08, loss: -0.69259\n",
      "epoch: 09, loss: -0.69111\n",
      "After Unsqueezing, feature size= torch.Size([400, 1, 1, 384])\n"
     ]
    },
    {
     "name": "stderr",
     "output_type": "stream",
     "text": [
      " 12%|█▏        | 123/1000 [38:34<4:09:13, 17.05s/it]"
     ]
    },
    {
     "name": "stdout",
     "output_type": "stream",
     "text": [
      "eigenvalues shape torch.Size([5]) eigenvectors shape torch.Size([5, 400])\n",
      "123 /home/phdcs2/Hard_Disk/Datasets/Deep-Spectral-Segmentation/data/object-segmentation/ECSSD/features/dino_vits16/0124.pth\n",
      "dict_keys(['k', 'indices', 'file', 'id', 'model_name', 'patch_size', 'shape'])\n",
      "0124\n",
      "Starting Training\n",
      "epoch: 00, loss: -0.51992\n",
      "epoch: 01, loss: -0.69013\n",
      "epoch: 02, loss: -0.71224\n",
      "epoch: 03, loss: -0.72786\n",
      "epoch: 04, loss: -0.75131\n",
      "epoch: 05, loss: -0.74951\n",
      "epoch: 06, loss: -0.75245\n",
      "epoch: 07, loss: -0.74678\n",
      "epoch: 08, loss: -0.76104\n",
      "epoch: 09, loss: -0.76612\n",
      "After Unsqueezing, feature size= torch.Size([400, 1, 1, 384])\n"
     ]
    },
    {
     "name": "stderr",
     "output_type": "stream",
     "text": [
      " 12%|█▏        | 124/1000 [38:54<4:19:41, 17.79s/it]"
     ]
    },
    {
     "name": "stdout",
     "output_type": "stream",
     "text": [
      "eigenvalues shape torch.Size([5]) eigenvectors shape torch.Size([5, 400])\n",
      "124 /home/phdcs2/Hard_Disk/Datasets/Deep-Spectral-Segmentation/data/object-segmentation/ECSSD/features/dino_vits16/0125.pth\n",
      "dict_keys(['k', 'indices', 'file', 'id', 'model_name', 'patch_size', 'shape'])\n",
      "0125\n",
      "Starting Training\n",
      "epoch: 00, loss: -0.51542\n",
      "epoch: 01, loss: -0.68659\n",
      "epoch: 02, loss: -0.71032\n",
      "epoch: 03, loss: -0.73188\n",
      "epoch: 04, loss: -0.74589\n",
      "epoch: 05, loss: -0.74202\n",
      "epoch: 06, loss: -0.74335\n",
      "epoch: 07, loss: -0.75235\n",
      "epoch: 08, loss: -0.75997\n",
      "epoch: 09, loss: -0.76885\n",
      "After Unsqueezing, feature size= torch.Size([400, 1, 1, 384])\n"
     ]
    },
    {
     "name": "stderr",
     "output_type": "stream",
     "text": [
      " 12%|█▎        | 125/1000 [39:11<4:18:22, 17.72s/it]"
     ]
    },
    {
     "name": "stdout",
     "output_type": "stream",
     "text": [
      "eigenvalues shape torch.Size([5]) eigenvectors shape torch.Size([5, 400])\n",
      "125 /home/phdcs2/Hard_Disk/Datasets/Deep-Spectral-Segmentation/data/object-segmentation/ECSSD/features/dino_vits16/0126.pth\n",
      "dict_keys(['k', 'indices', 'file', 'id', 'model_name', 'patch_size', 'shape'])\n",
      "0126\n",
      "Starting Training\n",
      "epoch: 00, loss: -0.53832\n",
      "epoch: 01, loss: -0.69440\n",
      "epoch: 02, loss: -0.72676\n",
      "epoch: 03, loss: -0.74262\n",
      "epoch: 04, loss: -0.74170\n",
      "epoch: 05, loss: -0.75798\n",
      "epoch: 06, loss: -0.77379\n",
      "epoch: 07, loss: -0.77774\n",
      "epoch: 08, loss: -0.78616\n",
      "epoch: 09, loss: -0.81338\n",
      "After Unsqueezing, feature size= torch.Size([400, 1, 1, 384])\n"
     ]
    },
    {
     "name": "stderr",
     "output_type": "stream",
     "text": [
      " 13%|█▎        | 126/1000 [39:27<4:07:47, 17.01s/it]"
     ]
    },
    {
     "name": "stdout",
     "output_type": "stream",
     "text": [
      "eigenvalues shape torch.Size([5]) eigenvectors shape torch.Size([5, 400])\n",
      "126 /home/phdcs2/Hard_Disk/Datasets/Deep-Spectral-Segmentation/data/object-segmentation/ECSSD/features/dino_vits16/0127.pth\n",
      "dict_keys(['k', 'indices', 'file', 'id', 'model_name', 'patch_size', 'shape'])\n",
      "0127\n",
      "Starting Training\n",
      "epoch: 00, loss: -0.48906\n",
      "epoch: 01, loss: -0.66828\n",
      "epoch: 02, loss: -0.66392\n",
      "epoch: 03, loss: -0.67468\n",
      "epoch: 04, loss: -0.69868\n",
      "epoch: 05, loss: -0.70761\n",
      "epoch: 06, loss: -0.71978\n",
      "epoch: 07, loss: -0.73140\n",
      "epoch: 08, loss: -0.73476\n",
      "epoch: 09, loss: -0.73401\n",
      "After Unsqueezing, feature size= torch.Size([400, 1, 1, 384])\n"
     ]
    },
    {
     "name": "stderr",
     "output_type": "stream",
     "text": [
      " 13%|█▎        | 127/1000 [39:47<4:21:00, 17.94s/it]"
     ]
    },
    {
     "name": "stdout",
     "output_type": "stream",
     "text": [
      "eigenvalues shape torch.Size([5]) eigenvectors shape torch.Size([5, 400])\n",
      "127 /home/phdcs2/Hard_Disk/Datasets/Deep-Spectral-Segmentation/data/object-segmentation/ECSSD/features/dino_vits16/0128.pth\n",
      "dict_keys(['k', 'indices', 'file', 'id', 'model_name', 'patch_size', 'shape'])\n",
      "0128\n",
      "Starting Training\n",
      "epoch: 00, loss: -0.46476\n",
      "epoch: 01, loss: -0.64299\n",
      "epoch: 02, loss: -0.65392\n",
      "epoch: 03, loss: -0.66463\n",
      "epoch: 04, loss: -0.68882\n",
      "epoch: 05, loss: -0.70476\n",
      "epoch: 06, loss: -0.73578\n",
      "epoch: 07, loss: -0.73355\n",
      "epoch: 08, loss: -0.71567\n",
      "epoch: 09, loss: -0.71861\n",
      "After Unsqueezing, feature size= torch.Size([400, 1, 1, 384])\n"
     ]
    },
    {
     "name": "stderr",
     "output_type": "stream",
     "text": [
      " 13%|█▎        | 128/1000 [40:02<4:11:19, 17.29s/it]"
     ]
    },
    {
     "name": "stdout",
     "output_type": "stream",
     "text": [
      "eigenvalues shape torch.Size([5]) eigenvectors shape torch.Size([5, 400])\n",
      "128 /home/phdcs2/Hard_Disk/Datasets/Deep-Spectral-Segmentation/data/object-segmentation/ECSSD/features/dino_vits16/0129.pth\n",
      "dict_keys(['k', 'indices', 'file', 'id', 'model_name', 'patch_size', 'shape'])\n",
      "0129\n",
      "Starting Training\n",
      "epoch: 00, loss: -0.57699\n",
      "epoch: 01, loss: -0.74400\n",
      "epoch: 02, loss: -0.77310\n",
      "epoch: 03, loss: -0.77729\n",
      "epoch: 04, loss: -0.78011\n",
      "epoch: 05, loss: -0.79206\n",
      "epoch: 06, loss: -0.80394\n",
      "epoch: 07, loss: -0.80788\n",
      "epoch: 08, loss: -0.81031\n",
      "epoch: 09, loss: -0.80915\n",
      "After Unsqueezing, feature size= torch.Size([425, 1, 1, 384])\n"
     ]
    },
    {
     "name": "stderr",
     "output_type": "stream",
     "text": [
      " 13%|█▎        | 129/1000 [40:19<4:06:45, 17.00s/it]"
     ]
    },
    {
     "name": "stdout",
     "output_type": "stream",
     "text": [
      "eigenvalues shape torch.Size([5]) eigenvectors shape torch.Size([5, 425])\n",
      "129 /home/phdcs2/Hard_Disk/Datasets/Deep-Spectral-Segmentation/data/object-segmentation/ECSSD/features/dino_vits16/0130.pth\n",
      "dict_keys(['k', 'indices', 'file', 'id', 'model_name', 'patch_size', 'shape'])\n",
      "0130\n",
      "Starting Training\n",
      "epoch: 00, loss: -0.53541\n",
      "epoch: 01, loss: -0.68016\n",
      "epoch: 02, loss: -0.70599\n",
      "epoch: 03, loss: -0.72116\n",
      "epoch: 04, loss: -0.73974\n",
      "epoch: 05, loss: -0.73950\n",
      "epoch: 06, loss: -0.74185\n",
      "epoch: 07, loss: -0.74876\n",
      "epoch: 08, loss: -0.74871\n",
      "epoch: 09, loss: -0.75632\n",
      "After Unsqueezing, feature size= torch.Size([425, 1, 1, 384])\n"
     ]
    },
    {
     "name": "stderr",
     "output_type": "stream",
     "text": [
      " 13%|█▎        | 130/1000 [40:36<4:07:00, 17.04s/it]"
     ]
    },
    {
     "name": "stdout",
     "output_type": "stream",
     "text": [
      "eigenvalues shape torch.Size([5]) eigenvectors shape torch.Size([5, 425])\n",
      "130 /home/phdcs2/Hard_Disk/Datasets/Deep-Spectral-Segmentation/data/object-segmentation/ECSSD/features/dino_vits16/0131.pth\n",
      "dict_keys(['k', 'indices', 'file', 'id', 'model_name', 'patch_size', 'shape'])\n",
      "0131\n",
      "Starting Training\n",
      "epoch: 00, loss: -0.58003\n",
      "epoch: 01, loss: -0.72855\n",
      "epoch: 02, loss: -0.74855\n",
      "epoch: 03, loss: -0.75939\n",
      "epoch: 04, loss: -0.75948\n",
      "epoch: 05, loss: -0.76589\n",
      "epoch: 06, loss: -0.76639\n",
      "epoch: 07, loss: -0.77292\n",
      "epoch: 08, loss: -0.78393\n",
      "epoch: 09, loss: -0.77770\n",
      "After Unsqueezing, feature size= torch.Size([450, 1, 1, 384])\n"
     ]
    },
    {
     "name": "stderr",
     "output_type": "stream",
     "text": [
      " 13%|█▎        | 131/1000 [40:57<4:24:53, 18.29s/it]"
     ]
    },
    {
     "name": "stdout",
     "output_type": "stream",
     "text": [
      "eigenvalues shape torch.Size([5]) eigenvectors shape torch.Size([5, 450])\n",
      "131 /home/phdcs2/Hard_Disk/Datasets/Deep-Spectral-Segmentation/data/object-segmentation/ECSSD/features/dino_vits16/0132.pth\n",
      "dict_keys(['k', 'indices', 'file', 'id', 'model_name', 'patch_size', 'shape'])\n",
      "0132\n",
      "Starting Training\n",
      "epoch: 00, loss: -0.49338\n",
      "epoch: 01, loss: -0.63209\n",
      "epoch: 02, loss: -0.65764\n",
      "epoch: 03, loss: -0.67113\n",
      "epoch: 04, loss: -0.68660\n",
      "epoch: 05, loss: -0.69766\n",
      "epoch: 06, loss: -0.71554\n",
      "epoch: 07, loss: -0.71267\n",
      "epoch: 08, loss: -0.73186\n",
      "epoch: 09, loss: -0.74418\n",
      "After Unsqueezing, feature size= torch.Size([400, 1, 1, 384])\n"
     ]
    },
    {
     "name": "stderr",
     "output_type": "stream",
     "text": [
      " 13%|█▎        | 132/1000 [41:12<4:10:40, 17.33s/it]"
     ]
    },
    {
     "name": "stdout",
     "output_type": "stream",
     "text": [
      "eigenvalues shape torch.Size([5]) eigenvectors shape torch.Size([5, 400])\n",
      "132 /home/phdcs2/Hard_Disk/Datasets/Deep-Spectral-Segmentation/data/object-segmentation/ECSSD/features/dino_vits16/0133.pth\n",
      "dict_keys(['k', 'indices', 'file', 'id', 'model_name', 'patch_size', 'shape'])\n",
      "0133\n",
      "Starting Training\n",
      "epoch: 00, loss: -0.65795\n",
      "epoch: 01, loss: -0.80314\n",
      "epoch: 02, loss: -0.81356\n",
      "epoch: 03, loss: -0.82009\n",
      "epoch: 04, loss: -0.82034\n",
      "epoch: 05, loss: -0.81788\n",
      "epoch: 06, loss: -0.82525\n",
      "epoch: 07, loss: -0.83425\n",
      "epoch: 08, loss: -0.83375\n",
      "epoch: 09, loss: -0.84107\n",
      "After Unsqueezing, feature size= torch.Size([525, 1, 1, 384])\n"
     ]
    },
    {
     "name": "stderr",
     "output_type": "stream",
     "text": [
      " 13%|█▎        | 133/1000 [41:37<4:42:12, 19.53s/it]"
     ]
    },
    {
     "name": "stdout",
     "output_type": "stream",
     "text": [
      "eigenvalues shape torch.Size([5]) eigenvectors shape torch.Size([5, 525])\n",
      "133 /home/phdcs2/Hard_Disk/Datasets/Deep-Spectral-Segmentation/data/object-segmentation/ECSSD/features/dino_vits16/0134.pth\n",
      "dict_keys(['k', 'indices', 'file', 'id', 'model_name', 'patch_size', 'shape'])\n",
      "0134\n",
      "Starting Training\n",
      "epoch: 00, loss: -0.46576\n",
      "epoch: 01, loss: -0.65210\n",
      "epoch: 02, loss: -0.68205\n",
      "epoch: 03, loss: -0.67300\n",
      "epoch: 04, loss: -0.68607\n",
      "epoch: 05, loss: -0.68450\n",
      "epoch: 06, loss: -0.69221\n",
      "epoch: 07, loss: -0.70278\n",
      "epoch: 08, loss: -0.71242\n",
      "epoch: 09, loss: -0.71812\n",
      "After Unsqueezing, feature size= torch.Size([400, 1, 1, 384])\n"
     ]
    },
    {
     "name": "stderr",
     "output_type": "stream",
     "text": [
      " 13%|█▎        | 134/1000 [41:56<4:41:02, 19.47s/it]"
     ]
    },
    {
     "name": "stdout",
     "output_type": "stream",
     "text": [
      "eigenvalues shape torch.Size([5]) eigenvectors shape torch.Size([5, 400])\n",
      "134 /home/phdcs2/Hard_Disk/Datasets/Deep-Spectral-Segmentation/data/object-segmentation/ECSSD/features/dino_vits16/0135.pth\n",
      "dict_keys(['k', 'indices', 'file', 'id', 'model_name', 'patch_size', 'shape'])\n",
      "0135\n",
      "Starting Training\n",
      "epoch: 00, loss: -0.55275\n",
      "epoch: 01, loss: -0.71139\n",
      "epoch: 02, loss: -0.73728\n",
      "epoch: 03, loss: -0.73288\n",
      "epoch: 04, loss: -0.74429\n",
      "epoch: 05, loss: -0.75415\n",
      "epoch: 06, loss: -0.77319\n",
      "epoch: 07, loss: -0.76893\n",
      "epoch: 08, loss: -0.76386\n",
      "epoch: 09, loss: -0.75942\n",
      "After Unsqueezing, feature size= torch.Size([450, 1, 1, 384])\n"
     ]
    },
    {
     "name": "stderr",
     "output_type": "stream",
     "text": [
      " 14%|█▎        | 135/1000 [42:18<4:52:30, 20.29s/it]"
     ]
    },
    {
     "name": "stdout",
     "output_type": "stream",
     "text": [
      "eigenvalues shape torch.Size([5]) eigenvectors shape torch.Size([5, 450])\n",
      "135 /home/phdcs2/Hard_Disk/Datasets/Deep-Spectral-Segmentation/data/object-segmentation/ECSSD/features/dino_vits16/0136.pth\n",
      "dict_keys(['k', 'indices', 'file', 'id', 'model_name', 'patch_size', 'shape'])\n",
      "0136\n",
      "Starting Training\n",
      "epoch: 00, loss: -0.49413\n",
      "epoch: 01, loss: -0.64369\n",
      "epoch: 02, loss: -0.69267\n",
      "epoch: 03, loss: -0.69307\n",
      "epoch: 04, loss: -0.69982\n",
      "epoch: 05, loss: -0.72550\n",
      "epoch: 06, loss: -0.75394\n",
      "epoch: 07, loss: -0.75806\n",
      "epoch: 08, loss: -0.76686\n",
      "epoch: 09, loss: -0.77467\n",
      "After Unsqueezing, feature size= torch.Size([450, 1, 1, 384])\n"
     ]
    },
    {
     "name": "stderr",
     "output_type": "stream",
     "text": [
      " 14%|█▎        | 136/1000 [42:42<5:05:48, 21.24s/it]"
     ]
    },
    {
     "name": "stdout",
     "output_type": "stream",
     "text": [
      "eigenvalues shape torch.Size([5]) eigenvectors shape torch.Size([5, 450])\n",
      "136 /home/phdcs2/Hard_Disk/Datasets/Deep-Spectral-Segmentation/data/object-segmentation/ECSSD/features/dino_vits16/0137.pth\n",
      "dict_keys(['k', 'indices', 'file', 'id', 'model_name', 'patch_size', 'shape'])\n",
      "0137\n",
      "Starting Training\n",
      "epoch: 00, loss: -0.56466\n",
      "epoch: 01, loss: -0.71789\n",
      "epoch: 02, loss: -0.73246\n",
      "epoch: 03, loss: -0.74095\n",
      "epoch: 04, loss: -0.75523\n",
      "epoch: 05, loss: -0.75243\n",
      "epoch: 06, loss: -0.76309\n",
      "epoch: 07, loss: -0.76300\n",
      "epoch: 08, loss: -0.78233\n",
      "epoch: 09, loss: -0.79446\n",
      "After Unsqueezing, feature size= torch.Size([475, 1, 1, 384])\n"
     ]
    },
    {
     "name": "stderr",
     "output_type": "stream",
     "text": [
      " 14%|█▎        | 137/1000 [43:05<5:13:51, 21.82s/it]"
     ]
    },
    {
     "name": "stdout",
     "output_type": "stream",
     "text": [
      "eigenvalues shape torch.Size([5]) eigenvectors shape torch.Size([5, 475])\n",
      "137 /home/phdcs2/Hard_Disk/Datasets/Deep-Spectral-Segmentation/data/object-segmentation/ECSSD/features/dino_vits16/0138.pth\n",
      "dict_keys(['k', 'indices', 'file', 'id', 'model_name', 'patch_size', 'shape'])\n",
      "0138\n",
      "Starting Training\n",
      "epoch: 00, loss: -0.60844\n",
      "epoch: 01, loss: -0.74432\n",
      "epoch: 02, loss: -0.75123\n",
      "epoch: 03, loss: -0.77247\n",
      "epoch: 04, loss: -0.78872\n",
      "epoch: 05, loss: -0.78966\n",
      "epoch: 06, loss: -0.79357\n",
      "epoch: 07, loss: -0.79921\n",
      "epoch: 08, loss: -0.79258\n",
      "epoch: 09, loss: -0.79858\n",
      "After Unsqueezing, feature size= torch.Size([450, 1, 1, 384])\n"
     ]
    },
    {
     "name": "stderr",
     "output_type": "stream",
     "text": [
      " 14%|█▍        | 138/1000 [43:29<5:20:47, 22.33s/it]"
     ]
    },
    {
     "name": "stdout",
     "output_type": "stream",
     "text": [
      "eigenvalues shape torch.Size([5]) eigenvectors shape torch.Size([5, 450])\n",
      "138 /home/phdcs2/Hard_Disk/Datasets/Deep-Spectral-Segmentation/data/object-segmentation/ECSSD/features/dino_vits16/0139.pth\n",
      "dict_keys(['k', 'indices', 'file', 'id', 'model_name', 'patch_size', 'shape'])\n",
      "0139\n",
      "Starting Training\n",
      "epoch: 00, loss: -0.57473\n",
      "epoch: 01, loss: -0.71614\n",
      "epoch: 02, loss: -0.74121\n",
      "epoch: 03, loss: -0.76002\n",
      "epoch: 04, loss: -0.76383\n",
      "epoch: 05, loss: -0.76976\n",
      "epoch: 06, loss: -0.78343\n",
      "epoch: 07, loss: -0.80094\n",
      "epoch: 08, loss: -0.80249\n",
      "epoch: 09, loss: -0.80259\n",
      "After Unsqueezing, feature size= torch.Size([450, 1, 1, 384])\n"
     ]
    },
    {
     "name": "stderr",
     "output_type": "stream",
     "text": [
      " 14%|█▍        | 139/1000 [43:50<5:15:15, 21.97s/it]"
     ]
    },
    {
     "name": "stdout",
     "output_type": "stream",
     "text": [
      "eigenvalues shape torch.Size([5]) eigenvectors shape torch.Size([5, 450])\n",
      "139 /home/phdcs2/Hard_Disk/Datasets/Deep-Spectral-Segmentation/data/object-segmentation/ECSSD/features/dino_vits16/0140.pth\n",
      "dict_keys(['k', 'indices', 'file', 'id', 'model_name', 'patch_size', 'shape'])\n",
      "0140\n",
      "Starting Training\n",
      "epoch: 00, loss: -0.53413\n",
      "epoch: 01, loss: -0.68963\n",
      "epoch: 02, loss: -0.71381\n",
      "epoch: 03, loss: -0.73257\n",
      "epoch: 04, loss: -0.72566\n",
      "epoch: 05, loss: -0.74533\n",
      "epoch: 06, loss: -0.75406\n",
      "epoch: 07, loss: -0.76131\n",
      "epoch: 08, loss: -0.75348\n",
      "epoch: 09, loss: -0.75580\n",
      "After Unsqueezing, feature size= torch.Size([450, 1, 1, 384])\n"
     ]
    },
    {
     "name": "stderr",
     "output_type": "stream",
     "text": [
      " 14%|█▍        | 140/1000 [44:11<5:10:29, 21.66s/it]"
     ]
    },
    {
     "name": "stdout",
     "output_type": "stream",
     "text": [
      "eigenvalues shape torch.Size([5]) eigenvectors shape torch.Size([5, 450])\n",
      "140 /home/phdcs2/Hard_Disk/Datasets/Deep-Spectral-Segmentation/data/object-segmentation/ECSSD/features/dino_vits16/0141.pth\n",
      "dict_keys(['k', 'indices', 'file', 'id', 'model_name', 'patch_size', 'shape'])\n",
      "0141\n",
      "Starting Training\n",
      "epoch: 00, loss: -0.42652\n",
      "epoch: 01, loss: -0.59956\n",
      "epoch: 02, loss: -0.63105\n",
      "epoch: 03, loss: -0.63670\n",
      "epoch: 04, loss: -0.64906\n",
      "epoch: 05, loss: -0.65333\n",
      "epoch: 06, loss: -0.65966\n",
      "epoch: 07, loss: -0.66570\n",
      "epoch: 08, loss: -0.66169\n",
      "epoch: 09, loss: -0.67612\n",
      "After Unsqueezing, feature size= torch.Size([350, 1, 1, 384])\n"
     ]
    },
    {
     "name": "stderr",
     "output_type": "stream",
     "text": [
      " 14%|█▍        | 141/1000 [44:25<4:40:21, 19.58s/it]"
     ]
    },
    {
     "name": "stdout",
     "output_type": "stream",
     "text": [
      "eigenvalues shape torch.Size([5]) eigenvectors shape torch.Size([5, 350])\n",
      "141 /home/phdcs2/Hard_Disk/Datasets/Deep-Spectral-Segmentation/data/object-segmentation/ECSSD/features/dino_vits16/0142.pth\n",
      "dict_keys(['k', 'indices', 'file', 'id', 'model_name', 'patch_size', 'shape'])\n",
      "0142\n",
      "Starting Training\n",
      "epoch: 00, loss: -0.56962\n",
      "epoch: 01, loss: -0.74363\n",
      "epoch: 02, loss: -0.76477\n",
      "epoch: 03, loss: -0.77543\n",
      "epoch: 04, loss: -0.78843\n",
      "epoch: 05, loss: -0.79328\n",
      "epoch: 06, loss: -0.79073\n",
      "epoch: 07, loss: -0.80035\n",
      "epoch: 08, loss: -0.80181\n",
      "epoch: 09, loss: -0.80451\n",
      "After Unsqueezing, feature size= torch.Size([450, 1, 1, 384])\n"
     ]
    },
    {
     "name": "stderr",
     "output_type": "stream",
     "text": [
      " 14%|█▍        | 142/1000 [44:43<4:33:26, 19.12s/it]"
     ]
    },
    {
     "name": "stdout",
     "output_type": "stream",
     "text": [
      "eigenvalues shape torch.Size([5]) eigenvectors shape torch.Size([5, 450])\n",
      "142 /home/phdcs2/Hard_Disk/Datasets/Deep-Spectral-Segmentation/data/object-segmentation/ECSSD/features/dino_vits16/0143.pth\n",
      "dict_keys(['k', 'indices', 'file', 'id', 'model_name', 'patch_size', 'shape'])\n",
      "0143\n",
      "Starting Training\n",
      "epoch: 00, loss: -0.52633\n",
      "epoch: 01, loss: -0.68669\n",
      "epoch: 02, loss: -0.72081\n",
      "epoch: 03, loss: -0.73500\n",
      "epoch: 04, loss: -0.74739\n",
      "epoch: 05, loss: -0.76439\n",
      "epoch: 06, loss: -0.77339\n",
      "epoch: 07, loss: -0.78115\n",
      "epoch: 08, loss: -0.78024\n",
      "epoch: 09, loss: -0.78940\n",
      "After Unsqueezing, feature size= torch.Size([450, 1, 1, 384])\n"
     ]
    },
    {
     "name": "stderr",
     "output_type": "stream",
     "text": [
      " 14%|█▍        | 143/1000 [45:04<4:38:39, 19.51s/it]"
     ]
    },
    {
     "name": "stdout",
     "output_type": "stream",
     "text": [
      "eigenvalues shape torch.Size([5]) eigenvectors shape torch.Size([5, 450])\n",
      "143 /home/phdcs2/Hard_Disk/Datasets/Deep-Spectral-Segmentation/data/object-segmentation/ECSSD/features/dino_vits16/0144.pth\n",
      "dict_keys(['k', 'indices', 'file', 'id', 'model_name', 'patch_size', 'shape'])\n",
      "0144\n",
      "Starting Training\n",
      "epoch: 00, loss: -0.55200\n",
      "epoch: 01, loss: -0.70384\n",
      "epoch: 02, loss: -0.72329\n",
      "epoch: 03, loss: -0.73459\n",
      "epoch: 04, loss: -0.74702\n",
      "epoch: 05, loss: -0.75198\n",
      "epoch: 06, loss: -0.74882\n",
      "epoch: 07, loss: -0.76380\n",
      "epoch: 08, loss: -0.76296\n",
      "epoch: 09, loss: -0.76686\n",
      "After Unsqueezing, feature size= torch.Size([425, 1, 1, 384])\n"
     ]
    },
    {
     "name": "stderr",
     "output_type": "stream",
     "text": [
      " 14%|█▍        | 144/1000 [45:22<4:32:33, 19.10s/it]"
     ]
    },
    {
     "name": "stdout",
     "output_type": "stream",
     "text": [
      "eigenvalues shape torch.Size([5]) eigenvectors shape torch.Size([5, 425])\n",
      "144 /home/phdcs2/Hard_Disk/Datasets/Deep-Spectral-Segmentation/data/object-segmentation/ECSSD/features/dino_vits16/0145.pth\n",
      "dict_keys(['k', 'indices', 'file', 'id', 'model_name', 'patch_size', 'shape'])\n",
      "0145\n",
      "Starting Training\n",
      "epoch: 00, loss: -0.53687\n",
      "epoch: 01, loss: -0.68505\n",
      "epoch: 02, loss: -0.70720\n",
      "epoch: 03, loss: -0.73029\n",
      "epoch: 04, loss: -0.74375\n",
      "epoch: 05, loss: -0.75721\n",
      "epoch: 06, loss: -0.75319\n",
      "epoch: 07, loss: -0.75042\n",
      "epoch: 08, loss: -0.74977\n",
      "epoch: 09, loss: -0.75512\n",
      "After Unsqueezing, feature size= torch.Size([450, 1, 1, 384])\n"
     ]
    },
    {
     "name": "stderr",
     "output_type": "stream",
     "text": [
      " 14%|█▍        | 145/1000 [45:42<4:36:30, 19.40s/it]"
     ]
    },
    {
     "name": "stdout",
     "output_type": "stream",
     "text": [
      "eigenvalues shape torch.Size([5]) eigenvectors shape torch.Size([5, 450])\n",
      "145 /home/phdcs2/Hard_Disk/Datasets/Deep-Spectral-Segmentation/data/object-segmentation/ECSSD/features/dino_vits16/0146.pth\n",
      "dict_keys(['k', 'indices', 'file', 'id', 'model_name', 'patch_size', 'shape'])\n",
      "0146\n",
      "Starting Training\n",
      "epoch: 00, loss: -0.43566\n",
      "epoch: 01, loss: -0.57418\n",
      "epoch: 02, loss: -0.60966\n",
      "epoch: 03, loss: -0.61005\n",
      "epoch: 04, loss: -0.62542\n",
      "epoch: 05, loss: -0.65189\n",
      "epoch: 06, loss: -0.65375\n",
      "epoch: 07, loss: -0.65581\n",
      "epoch: 08, loss: -0.66370\n",
      "epoch: 09, loss: -0.66533\n",
      "After Unsqueezing, feature size= torch.Size([400, 1, 1, 384])\n"
     ]
    },
    {
     "name": "stderr",
     "output_type": "stream",
     "text": [
      " 15%|█▍        | 146/1000 [45:59<4:24:21, 18.57s/it]"
     ]
    },
    {
     "name": "stdout",
     "output_type": "stream",
     "text": [
      "eigenvalues shape torch.Size([5]) eigenvectors shape torch.Size([5, 400])\n",
      "146 /home/phdcs2/Hard_Disk/Datasets/Deep-Spectral-Segmentation/data/object-segmentation/ECSSD/features/dino_vits16/0147.pth\n",
      "dict_keys(['k', 'indices', 'file', 'id', 'model_name', 'patch_size', 'shape'])\n",
      "0147\n",
      "Starting Training\n",
      "epoch: 00, loss: -0.50840\n",
      "epoch: 01, loss: -0.64572\n",
      "epoch: 02, loss: -0.66926\n",
      "epoch: 03, loss: -0.68014\n",
      "epoch: 04, loss: -0.70134\n",
      "epoch: 05, loss: -0.71251\n",
      "epoch: 06, loss: -0.71722\n",
      "epoch: 07, loss: -0.72636\n",
      "epoch: 08, loss: -0.73412\n",
      "epoch: 09, loss: -0.73265\n",
      "After Unsqueezing, feature size= torch.Size([550, 1, 1, 384])\n"
     ]
    },
    {
     "name": "stderr",
     "output_type": "stream",
     "text": [
      " 15%|█▍        | 147/1000 [46:24<4:52:36, 20.58s/it]"
     ]
    },
    {
     "name": "stdout",
     "output_type": "stream",
     "text": [
      "eigenvalues shape torch.Size([5]) eigenvectors shape torch.Size([5, 550])\n",
      "147 /home/phdcs2/Hard_Disk/Datasets/Deep-Spectral-Segmentation/data/object-segmentation/ECSSD/features/dino_vits16/0148.pth\n",
      "dict_keys(['k', 'indices', 'file', 'id', 'model_name', 'patch_size', 'shape'])\n",
      "0148\n",
      "Starting Training\n",
      "epoch: 00, loss: -0.51647\n",
      "epoch: 01, loss: -0.66154\n",
      "epoch: 02, loss: -0.68428\n",
      "epoch: 03, loss: -0.69242\n",
      "epoch: 04, loss: -0.69011\n",
      "epoch: 05, loss: -0.68615\n",
      "epoch: 06, loss: -0.68769\n",
      "epoch: 07, loss: -0.68824\n",
      "epoch: 08, loss: -0.69286\n",
      "epoch: 09, loss: -0.70194\n",
      "After Unsqueezing, feature size= torch.Size([400, 1, 1, 384])\n"
     ]
    },
    {
     "name": "stderr",
     "output_type": "stream",
     "text": [
      " 15%|█▍        | 148/1000 [46:40<4:34:30, 19.33s/it]"
     ]
    },
    {
     "name": "stdout",
     "output_type": "stream",
     "text": [
      "eigenvalues shape torch.Size([5]) eigenvectors shape torch.Size([5, 400])\n",
      "148 /home/phdcs2/Hard_Disk/Datasets/Deep-Spectral-Segmentation/data/object-segmentation/ECSSD/features/dino_vits16/0149.pth\n",
      "dict_keys(['k', 'indices', 'file', 'id', 'model_name', 'patch_size', 'shape'])\n",
      "0149\n",
      "Starting Training\n",
      "epoch: 00, loss: -0.56886\n",
      "epoch: 01, loss: -0.72906\n",
      "epoch: 02, loss: -0.74697\n",
      "epoch: 03, loss: -0.75047\n",
      "epoch: 04, loss: -0.75667\n",
      "epoch: 05, loss: -0.76293\n",
      "epoch: 06, loss: -0.76989\n",
      "epoch: 07, loss: -0.78060\n",
      "epoch: 08, loss: -0.76058\n",
      "epoch: 09, loss: -0.75769\n",
      "After Unsqueezing, feature size= torch.Size([400, 1, 1, 384])\n"
     ]
    },
    {
     "name": "stderr",
     "output_type": "stream",
     "text": [
      " 15%|█▍        | 149/1000 [46:59<4:31:00, 19.11s/it]"
     ]
    },
    {
     "name": "stdout",
     "output_type": "stream",
     "text": [
      "eigenvalues shape torch.Size([5]) eigenvectors shape torch.Size([5, 400])\n",
      "149 /home/phdcs2/Hard_Disk/Datasets/Deep-Spectral-Segmentation/data/object-segmentation/ECSSD/features/dino_vits16/0150.pth\n",
      "dict_keys(['k', 'indices', 'file', 'id', 'model_name', 'patch_size', 'shape'])\n",
      "0150\n",
      "Starting Training\n",
      "epoch: 00, loss: -0.52674\n",
      "epoch: 01, loss: -0.67775\n",
      "epoch: 02, loss: -0.68342\n",
      "epoch: 03, loss: -0.70057\n",
      "epoch: 04, loss: -0.71729\n",
      "epoch: 05, loss: -0.69545\n",
      "epoch: 06, loss: -0.70648\n",
      "epoch: 07, loss: -0.70151\n",
      "epoch: 08, loss: -0.67971\n",
      "epoch: 09, loss: -0.69274\n",
      "After Unsqueezing, feature size= torch.Size([450, 1, 1, 384])\n"
     ]
    },
    {
     "name": "stderr",
     "output_type": "stream",
     "text": [
      " 15%|█▌        | 150/1000 [47:19<4:33:31, 19.31s/it]"
     ]
    },
    {
     "name": "stdout",
     "output_type": "stream",
     "text": [
      "eigenvalues shape torch.Size([5]) eigenvectors shape torch.Size([5, 450])\n",
      "150 /home/phdcs2/Hard_Disk/Datasets/Deep-Spectral-Segmentation/data/object-segmentation/ECSSD/features/dino_vits16/0151.pth\n",
      "dict_keys(['k', 'indices', 'file', 'id', 'model_name', 'patch_size', 'shape'])\n",
      "0151\n",
      "Starting Training\n",
      "epoch: 00, loss: -0.59338\n",
      "epoch: 01, loss: -0.75927\n",
      "epoch: 02, loss: -0.77280\n",
      "epoch: 03, loss: -0.77972\n",
      "epoch: 04, loss: -0.77908\n",
      "epoch: 05, loss: -0.78861\n",
      "epoch: 06, loss: -0.78400\n",
      "epoch: 07, loss: -0.78790\n",
      "epoch: 08, loss: -0.79920\n",
      "epoch: 09, loss: -0.80101\n",
      "After Unsqueezing, feature size= torch.Size([525, 1, 1, 384])\n"
     ]
    },
    {
     "name": "stderr",
     "output_type": "stream",
     "text": [
      " 15%|█▌        | 151/1000 [47:41<4:44:46, 20.13s/it]"
     ]
    },
    {
     "name": "stdout",
     "output_type": "stream",
     "text": [
      "eigenvalues shape torch.Size([5]) eigenvectors shape torch.Size([5, 525])\n",
      "151 /home/phdcs2/Hard_Disk/Datasets/Deep-Spectral-Segmentation/data/object-segmentation/ECSSD/features/dino_vits16/0152.pth\n",
      "dict_keys(['k', 'indices', 'file', 'id', 'model_name', 'patch_size', 'shape'])\n",
      "0152\n",
      "Starting Training\n",
      "epoch: 00, loss: -0.57308\n",
      "epoch: 01, loss: -0.75319\n",
      "epoch: 02, loss: -0.78353\n",
      "epoch: 03, loss: -0.79471\n",
      "epoch: 04, loss: -0.78990\n",
      "epoch: 05, loss: -0.80941\n",
      "epoch: 06, loss: -0.81383\n",
      "epoch: 07, loss: -0.82369\n",
      "epoch: 08, loss: -0.82426\n",
      "epoch: 09, loss: -0.82953\n",
      "After Unsqueezing, feature size= torch.Size([450, 1, 1, 384])\n"
     ]
    },
    {
     "name": "stderr",
     "output_type": "stream",
     "text": [
      " 15%|█▌        | 152/1000 [47:57<4:27:52, 18.95s/it]"
     ]
    },
    {
     "name": "stdout",
     "output_type": "stream",
     "text": [
      "eigenvalues shape torch.Size([5]) eigenvectors shape torch.Size([5, 450])\n",
      "152 /home/phdcs2/Hard_Disk/Datasets/Deep-Spectral-Segmentation/data/object-segmentation/ECSSD/features/dino_vits16/0153.pth\n",
      "dict_keys(['k', 'indices', 'file', 'id', 'model_name', 'patch_size', 'shape'])\n",
      "0153\n",
      "Starting Training\n",
      "epoch: 00, loss: -0.52627\n",
      "epoch: 01, loss: -0.67514\n",
      "epoch: 02, loss: -0.69096\n",
      "epoch: 03, loss: -0.71611\n",
      "epoch: 04, loss: -0.73346\n",
      "epoch: 05, loss: -0.73976\n",
      "epoch: 06, loss: -0.74936\n",
      "epoch: 07, loss: -0.75119\n",
      "epoch: 08, loss: -0.75698\n",
      "epoch: 09, loss: -0.74870\n",
      "After Unsqueezing, feature size= torch.Size([450, 1, 1, 384])\n"
     ]
    },
    {
     "name": "stderr",
     "output_type": "stream",
     "text": [
      " 15%|█▌        | 153/1000 [48:16<4:27:53, 18.98s/it]"
     ]
    },
    {
     "name": "stdout",
     "output_type": "stream",
     "text": [
      "eigenvalues shape torch.Size([5]) eigenvectors shape torch.Size([5, 450])\n",
      "153 /home/phdcs2/Hard_Disk/Datasets/Deep-Spectral-Segmentation/data/object-segmentation/ECSSD/features/dino_vits16/0154.pth\n",
      "dict_keys(['k', 'indices', 'file', 'id', 'model_name', 'patch_size', 'shape'])\n",
      "0154\n",
      "Starting Training\n",
      "epoch: 00, loss: -0.52657\n",
      "epoch: 01, loss: -0.68997\n",
      "epoch: 02, loss: -0.71018\n",
      "epoch: 03, loss: -0.72295\n",
      "epoch: 04, loss: -0.73090\n",
      "epoch: 05, loss: -0.72935\n",
      "epoch: 06, loss: -0.73718\n",
      "epoch: 07, loss: -0.73830\n",
      "epoch: 08, loss: -0.72798\n",
      "epoch: 09, loss: -0.73765\n",
      "After Unsqueezing, feature size= torch.Size([450, 1, 1, 384])\n"
     ]
    },
    {
     "name": "stderr",
     "output_type": "stream",
     "text": [
      " 15%|█▌        | 154/1000 [48:36<4:30:40, 19.20s/it]"
     ]
    },
    {
     "name": "stdout",
     "output_type": "stream",
     "text": [
      "eigenvalues shape torch.Size([5]) eigenvectors shape torch.Size([5, 450])\n",
      "154 /home/phdcs2/Hard_Disk/Datasets/Deep-Spectral-Segmentation/data/object-segmentation/ECSSD/features/dino_vits16/0155.pth\n",
      "dict_keys(['k', 'indices', 'file', 'id', 'model_name', 'patch_size', 'shape'])\n",
      "0155\n",
      "Starting Training\n",
      "epoch: 00, loss: -0.50927\n",
      "epoch: 01, loss: -0.66142\n",
      "epoch: 02, loss: -0.67663\n",
      "epoch: 03, loss: -0.68207\n",
      "epoch: 04, loss: -0.69080\n",
      "epoch: 05, loss: -0.70897\n",
      "epoch: 06, loss: -0.71974\n",
      "epoch: 07, loss: -0.73153\n",
      "epoch: 08, loss: -0.74138\n",
      "epoch: 09, loss: -0.73236\n",
      "After Unsqueezing, feature size= torch.Size([475, 1, 1, 384])\n"
     ]
    },
    {
     "name": "stderr",
     "output_type": "stream",
     "text": [
      " 16%|█▌        | 155/1000 [48:58<4:41:58, 20.02s/it]"
     ]
    },
    {
     "name": "stdout",
     "output_type": "stream",
     "text": [
      "eigenvalues shape torch.Size([5]) eigenvectors shape torch.Size([5, 475])\n",
      "155 /home/phdcs2/Hard_Disk/Datasets/Deep-Spectral-Segmentation/data/object-segmentation/ECSSD/features/dino_vits16/0156.pth\n",
      "dict_keys(['k', 'indices', 'file', 'id', 'model_name', 'patch_size', 'shape'])\n",
      "0156\n",
      "Starting Training\n",
      "epoch: 00, loss: -0.54906\n",
      "epoch: 01, loss: -0.70345\n",
      "epoch: 02, loss: -0.72435\n",
      "epoch: 03, loss: -0.72971\n",
      "epoch: 04, loss: -0.74642\n",
      "epoch: 05, loss: -0.74582\n",
      "epoch: 06, loss: -0.74920\n",
      "epoch: 07, loss: -0.75084\n",
      "epoch: 08, loss: -0.75307\n",
      "epoch: 09, loss: -0.75620\n",
      "After Unsqueezing, feature size= torch.Size([400, 1, 1, 384])\n"
     ]
    },
    {
     "name": "stderr",
     "output_type": "stream",
     "text": [
      " 16%|█▌        | 156/1000 [49:14<4:25:13, 18.86s/it]"
     ]
    },
    {
     "name": "stdout",
     "output_type": "stream",
     "text": [
      "eigenvalues shape torch.Size([5]) eigenvectors shape torch.Size([5, 400])\n",
      "156 /home/phdcs2/Hard_Disk/Datasets/Deep-Spectral-Segmentation/data/object-segmentation/ECSSD/features/dino_vits16/0157.pth\n",
      "dict_keys(['k', 'indices', 'file', 'id', 'model_name', 'patch_size', 'shape'])\n",
      "0157\n",
      "Starting Training\n",
      "epoch: 00, loss: -0.51245\n",
      "epoch: 01, loss: -0.65295\n",
      "epoch: 02, loss: -0.66327\n",
      "epoch: 03, loss: -0.66384\n",
      "epoch: 04, loss: -0.68719\n",
      "epoch: 05, loss: -0.70590\n",
      "epoch: 06, loss: -0.70680\n",
      "epoch: 07, loss: -0.73064\n",
      "epoch: 08, loss: -0.74193\n",
      "epoch: 09, loss: -0.74713\n",
      "After Unsqueezing, feature size= torch.Size([375, 1, 1, 384])\n"
     ]
    },
    {
     "name": "stderr",
     "output_type": "stream",
     "text": [
      " 16%|█▌        | 157/1000 [49:30<4:12:24, 17.97s/it]"
     ]
    },
    {
     "name": "stdout",
     "output_type": "stream",
     "text": [
      "eigenvalues shape torch.Size([5]) eigenvectors shape torch.Size([5, 375])\n",
      "157 /home/phdcs2/Hard_Disk/Datasets/Deep-Spectral-Segmentation/data/object-segmentation/ECSSD/features/dino_vits16/0158.pth\n",
      "dict_keys(['k', 'indices', 'file', 'id', 'model_name', 'patch_size', 'shape'])\n",
      "0158\n",
      "Starting Training\n",
      "epoch: 00, loss: -0.61042\n",
      "epoch: 01, loss: -0.79522\n",
      "epoch: 02, loss: -0.81927\n",
      "epoch: 03, loss: -0.83302\n",
      "epoch: 04, loss: -0.84038\n",
      "epoch: 05, loss: -0.84532\n",
      "epoch: 06, loss: -0.84996\n",
      "epoch: 07, loss: -0.84780\n",
      "epoch: 08, loss: -0.85866\n",
      "epoch: 09, loss: -0.85920\n",
      "After Unsqueezing, feature size= torch.Size([300, 1, 1, 384])\n"
     ]
    },
    {
     "name": "stderr",
     "output_type": "stream",
     "text": [
      " 16%|█▌        | 158/1000 [49:46<4:03:08, 17.33s/it]"
     ]
    },
    {
     "name": "stdout",
     "output_type": "stream",
     "text": [
      "eigenvalues shape torch.Size([5]) eigenvectors shape torch.Size([5, 300])\n",
      "158 /home/phdcs2/Hard_Disk/Datasets/Deep-Spectral-Segmentation/data/object-segmentation/ECSSD/features/dino_vits16/0159.pth\n",
      "dict_keys(['k', 'indices', 'file', 'id', 'model_name', 'patch_size', 'shape'])\n",
      "0159\n",
      "Starting Training\n",
      "epoch: 00, loss: -0.54290\n",
      "epoch: 01, loss: -0.69575\n",
      "epoch: 02, loss: -0.72345\n",
      "epoch: 03, loss: -0.73491\n",
      "epoch: 04, loss: -0.73769\n",
      "epoch: 05, loss: -0.74463\n",
      "epoch: 06, loss: -0.73895\n",
      "epoch: 07, loss: -0.73963\n",
      "epoch: 08, loss: -0.75042\n",
      "epoch: 09, loss: -0.76006\n",
      "After Unsqueezing, feature size= torch.Size([425, 1, 1, 384])\n"
     ]
    },
    {
     "name": "stderr",
     "output_type": "stream",
     "text": [
      " 16%|█▌        | 159/1000 [50:03<4:03:03, 17.34s/it]"
     ]
    },
    {
     "name": "stdout",
     "output_type": "stream",
     "text": [
      "eigenvalues shape torch.Size([5]) eigenvectors shape torch.Size([5, 425])\n",
      "159 /home/phdcs2/Hard_Disk/Datasets/Deep-Spectral-Segmentation/data/object-segmentation/ECSSD/features/dino_vits16/0160.pth\n",
      "dict_keys(['k', 'indices', 'file', 'id', 'model_name', 'patch_size', 'shape'])\n",
      "0160\n",
      "Starting Training\n",
      "epoch: 00, loss: -0.55385\n",
      "epoch: 01, loss: -0.70800\n",
      "epoch: 02, loss: -0.73836\n",
      "epoch: 03, loss: -0.75588\n",
      "epoch: 04, loss: -0.75640\n",
      "epoch: 05, loss: -0.76156\n",
      "epoch: 06, loss: -0.77177\n",
      "epoch: 07, loss: -0.78764\n",
      "epoch: 08, loss: -0.80148\n",
      "epoch: 09, loss: -0.81799\n",
      "After Unsqueezing, feature size= torch.Size([400, 1, 1, 384])\n"
     ]
    },
    {
     "name": "stderr",
     "output_type": "stream",
     "text": [
      " 16%|█▌        | 160/1000 [50:20<3:59:35, 17.11s/it]"
     ]
    },
    {
     "name": "stdout",
     "output_type": "stream",
     "text": [
      "eigenvalues shape torch.Size([5]) eigenvectors shape torch.Size([5, 400])\n",
      "160 /home/phdcs2/Hard_Disk/Datasets/Deep-Spectral-Segmentation/data/object-segmentation/ECSSD/features/dino_vits16/0161.pth\n",
      "dict_keys(['k', 'indices', 'file', 'id', 'model_name', 'patch_size', 'shape'])\n",
      "0161\n",
      "Starting Training\n",
      "epoch: 00, loss: -0.52784\n",
      "epoch: 01, loss: -0.68005\n",
      "epoch: 02, loss: -0.69226\n",
      "epoch: 03, loss: -0.70596\n",
      "epoch: 04, loss: -0.70911\n",
      "epoch: 05, loss: -0.73083\n",
      "epoch: 06, loss: -0.74077\n",
      "epoch: 07, loss: -0.72817\n",
      "epoch: 08, loss: -0.72528\n",
      "epoch: 09, loss: -0.70685\n",
      "After Unsqueezing, feature size= torch.Size([450, 1, 1, 384])\n"
     ]
    },
    {
     "name": "stderr",
     "output_type": "stream",
     "text": [
      " 16%|█▌        | 161/1000 [50:39<4:09:44, 17.86s/it]"
     ]
    },
    {
     "name": "stdout",
     "output_type": "stream",
     "text": [
      "eigenvalues shape torch.Size([5]) eigenvectors shape torch.Size([5, 450])\n",
      "161 /home/phdcs2/Hard_Disk/Datasets/Deep-Spectral-Segmentation/data/object-segmentation/ECSSD/features/dino_vits16/0162.pth\n",
      "dict_keys(['k', 'indices', 'file', 'id', 'model_name', 'patch_size', 'shape'])\n",
      "0162\n",
      "Starting Training\n",
      "epoch: 00, loss: -0.49868\n",
      "epoch: 01, loss: -0.64767\n",
      "epoch: 02, loss: -0.68334\n",
      "epoch: 03, loss: -0.68400\n",
      "epoch: 04, loss: -0.69213\n",
      "epoch: 05, loss: -0.70339\n",
      "epoch: 06, loss: -0.73526\n",
      "epoch: 07, loss: -0.74961\n",
      "epoch: 08, loss: -0.77471\n",
      "epoch: 09, loss: -0.78033\n",
      "After Unsqueezing, feature size= torch.Size([450, 1, 1, 384])\n"
     ]
    },
    {
     "name": "stderr",
     "output_type": "stream",
     "text": [
      " 16%|█▌        | 162/1000 [50:57<4:09:04, 17.83s/it]"
     ]
    },
    {
     "name": "stdout",
     "output_type": "stream",
     "text": [
      "eigenvalues shape torch.Size([5]) eigenvectors shape torch.Size([5, 450])\n",
      "162 /home/phdcs2/Hard_Disk/Datasets/Deep-Spectral-Segmentation/data/object-segmentation/ECSSD/features/dino_vits16/0163.pth\n",
      "dict_keys(['k', 'indices', 'file', 'id', 'model_name', 'patch_size', 'shape'])\n",
      "0163\n",
      "Starting Training\n",
      "epoch: 00, loss: -0.58427\n",
      "epoch: 01, loss: -0.73717\n",
      "epoch: 02, loss: -0.76546\n",
      "epoch: 03, loss: -0.78008\n",
      "epoch: 04, loss: -0.79157\n",
      "epoch: 05, loss: -0.79930\n",
      "epoch: 06, loss: -0.80021\n",
      "epoch: 07, loss: -0.79875\n",
      "epoch: 08, loss: -0.79815\n",
      "epoch: 09, loss: -0.79910\n",
      "After Unsqueezing, feature size= torch.Size([400, 1, 1, 384])\n"
     ]
    },
    {
     "name": "stderr",
     "output_type": "stream",
     "text": [
      " 16%|█▋        | 163/1000 [51:17<4:17:50, 18.48s/it]"
     ]
    },
    {
     "name": "stdout",
     "output_type": "stream",
     "text": [
      "eigenvalues shape torch.Size([5]) eigenvectors shape torch.Size([5, 400])\n",
      "163 /home/phdcs2/Hard_Disk/Datasets/Deep-Spectral-Segmentation/data/object-segmentation/ECSSD/features/dino_vits16/0164.pth\n",
      "dict_keys(['k', 'indices', 'file', 'id', 'model_name', 'patch_size', 'shape'])\n",
      "0164\n",
      "Starting Training\n",
      "epoch: 00, loss: -0.61003\n",
      "epoch: 01, loss: -0.73242\n",
      "epoch: 02, loss: -0.74729\n",
      "epoch: 03, loss: -0.75568\n",
      "epoch: 04, loss: -0.75980\n",
      "epoch: 05, loss: -0.76278\n",
      "epoch: 06, loss: -0.77310\n",
      "epoch: 07, loss: -0.78225\n",
      "epoch: 08, loss: -0.78632\n",
      "epoch: 09, loss: -0.79262\n",
      "After Unsqueezing, feature size= torch.Size([550, 1, 1, 384])\n"
     ]
    },
    {
     "name": "stderr",
     "output_type": "stream",
     "text": [
      " 16%|█▋        | 164/1000 [51:41<4:42:17, 20.26s/it]"
     ]
    },
    {
     "name": "stdout",
     "output_type": "stream",
     "text": [
      "eigenvalues shape torch.Size([5]) eigenvectors shape torch.Size([5, 550])\n",
      "164 /home/phdcs2/Hard_Disk/Datasets/Deep-Spectral-Segmentation/data/object-segmentation/ECSSD/features/dino_vits16/0165.pth\n",
      "dict_keys(['k', 'indices', 'file', 'id', 'model_name', 'patch_size', 'shape'])\n",
      "0165\n",
      "Starting Training\n",
      "epoch: 00, loss: -0.55281\n",
      "epoch: 01, loss: -0.71233\n",
      "epoch: 02, loss: -0.73743\n",
      "epoch: 03, loss: -0.74435\n",
      "epoch: 04, loss: -0.75466\n",
      "epoch: 05, loss: -0.74969\n",
      "epoch: 06, loss: -0.76482\n",
      "epoch: 07, loss: -0.78085\n",
      "epoch: 08, loss: -0.79150\n",
      "epoch: 09, loss: -0.79661\n",
      "After Unsqueezing, feature size= torch.Size([450, 1, 1, 384])\n"
     ]
    },
    {
     "name": "stderr",
     "output_type": "stream",
     "text": [
      " 16%|█▋        | 165/1000 [52:02<4:44:56, 20.47s/it]"
     ]
    },
    {
     "name": "stdout",
     "output_type": "stream",
     "text": [
      "eigenvalues shape torch.Size([5]) eigenvectors shape torch.Size([5, 450])\n",
      "165 /home/phdcs2/Hard_Disk/Datasets/Deep-Spectral-Segmentation/data/object-segmentation/ECSSD/features/dino_vits16/0166.pth\n",
      "dict_keys(['k', 'indices', 'file', 'id', 'model_name', 'patch_size', 'shape'])\n",
      "0166\n",
      "Starting Training\n",
      "epoch: 00, loss: -0.57486\n",
      "epoch: 01, loss: -0.71391\n",
      "epoch: 02, loss: -0.73042\n",
      "epoch: 03, loss: -0.73997\n",
      "epoch: 04, loss: -0.74999\n",
      "epoch: 05, loss: -0.75926\n",
      "epoch: 06, loss: -0.76178\n",
      "epoch: 07, loss: -0.76807\n",
      "epoch: 08, loss: -0.77061\n",
      "epoch: 09, loss: -0.76367\n",
      "After Unsqueezing, feature size= torch.Size([400, 1, 1, 384])\n"
     ]
    },
    {
     "name": "stderr",
     "output_type": "stream",
     "text": [
      " 17%|█▋        | 166/1000 [52:21<4:35:42, 19.83s/it]"
     ]
    },
    {
     "name": "stdout",
     "output_type": "stream",
     "text": [
      "eigenvalues shape torch.Size([5]) eigenvectors shape torch.Size([5, 400])\n",
      "166 /home/phdcs2/Hard_Disk/Datasets/Deep-Spectral-Segmentation/data/object-segmentation/ECSSD/features/dino_vits16/0167.pth\n",
      "dict_keys(['k', 'indices', 'file', 'id', 'model_name', 'patch_size', 'shape'])\n",
      "0167\n",
      "Starting Training\n",
      "epoch: 00, loss: -0.57104\n",
      "epoch: 01, loss: -0.70383\n",
      "epoch: 02, loss: -0.73080\n",
      "epoch: 03, loss: -0.74776\n",
      "epoch: 04, loss: -0.75480\n",
      "epoch: 05, loss: -0.75093\n",
      "epoch: 06, loss: -0.76186\n",
      "epoch: 07, loss: -0.75934\n",
      "epoch: 08, loss: -0.76283\n",
      "epoch: 09, loss: -0.76737\n",
      "After Unsqueezing, feature size= torch.Size([450, 1, 1, 384])\n"
     ]
    },
    {
     "name": "stderr",
     "output_type": "stream",
     "text": [
      " 17%|█▋        | 167/1000 [52:42<4:42:22, 20.34s/it]"
     ]
    },
    {
     "name": "stdout",
     "output_type": "stream",
     "text": [
      "eigenvalues shape torch.Size([5]) eigenvectors shape torch.Size([5, 450])\n",
      "167 /home/phdcs2/Hard_Disk/Datasets/Deep-Spectral-Segmentation/data/object-segmentation/ECSSD/features/dino_vits16/0168.pth\n",
      "dict_keys(['k', 'indices', 'file', 'id', 'model_name', 'patch_size', 'shape'])\n",
      "0168\n",
      "Starting Training\n",
      "epoch: 00, loss: -0.51882\n",
      "epoch: 01, loss: -0.67542\n",
      "epoch: 02, loss: -0.71534\n",
      "epoch: 03, loss: -0.73093\n",
      "epoch: 04, loss: -0.73158\n",
      "epoch: 05, loss: -0.74316\n",
      "epoch: 06, loss: -0.76514\n",
      "epoch: 07, loss: -0.77073\n",
      "epoch: 08, loss: -0.76994\n",
      "epoch: 09, loss: -0.76947\n",
      "After Unsqueezing, feature size= torch.Size([400, 1, 1, 384])\n"
     ]
    },
    {
     "name": "stderr",
     "output_type": "stream",
     "text": [
      " 17%|█▋        | 168/1000 [53:02<4:40:27, 20.23s/it]"
     ]
    },
    {
     "name": "stdout",
     "output_type": "stream",
     "text": [
      "eigenvalues shape torch.Size([5]) eigenvectors shape torch.Size([5, 400])\n",
      "168 /home/phdcs2/Hard_Disk/Datasets/Deep-Spectral-Segmentation/data/object-segmentation/ECSSD/features/dino_vits16/0169.pth\n",
      "dict_keys(['k', 'indices', 'file', 'id', 'model_name', 'patch_size', 'shape'])\n",
      "0169\n",
      "Starting Training\n",
      "epoch: 00, loss: -0.52340\n",
      "epoch: 01, loss: -0.66960\n",
      "epoch: 02, loss: -0.69740\n",
      "epoch: 03, loss: -0.72588\n",
      "epoch: 04, loss: -0.73471\n",
      "epoch: 05, loss: -0.74393\n",
      "epoch: 06, loss: -0.76169\n",
      "epoch: 07, loss: -0.76984\n",
      "epoch: 08, loss: -0.77409\n",
      "epoch: 09, loss: -0.77274\n",
      "After Unsqueezing, feature size= torch.Size([400, 1, 1, 384])\n"
     ]
    },
    {
     "name": "stderr",
     "output_type": "stream",
     "text": [
      " 17%|█▋        | 169/1000 [53:19<4:24:21, 19.09s/it]"
     ]
    },
    {
     "name": "stdout",
     "output_type": "stream",
     "text": [
      "eigenvalues shape torch.Size([5]) eigenvectors shape torch.Size([5, 400])\n",
      "169 /home/phdcs2/Hard_Disk/Datasets/Deep-Spectral-Segmentation/data/object-segmentation/ECSSD/features/dino_vits16/0170.pth\n",
      "dict_keys(['k', 'indices', 'file', 'id', 'model_name', 'patch_size', 'shape'])\n",
      "0170\n",
      "Starting Training\n",
      "epoch: 00, loss: -0.60176\n",
      "epoch: 01, loss: -0.75151\n",
      "epoch: 02, loss: -0.76387\n",
      "epoch: 03, loss: -0.78336\n",
      "epoch: 04, loss: -0.78907\n",
      "epoch: 05, loss: -0.78392\n",
      "epoch: 06, loss: -0.79089\n",
      "epoch: 07, loss: -0.79935\n",
      "epoch: 08, loss: -0.79838\n",
      "epoch: 09, loss: -0.78273\n",
      "After Unsqueezing, feature size= torch.Size([450, 1, 1, 384])\n"
     ]
    },
    {
     "name": "stderr",
     "output_type": "stream",
     "text": [
      " 17%|█▋        | 170/1000 [53:39<4:29:11, 19.46s/it]"
     ]
    },
    {
     "name": "stdout",
     "output_type": "stream",
     "text": [
      "eigenvalues shape torch.Size([5]) eigenvectors shape torch.Size([5, 450])\n",
      "170 /home/phdcs2/Hard_Disk/Datasets/Deep-Spectral-Segmentation/data/object-segmentation/ECSSD/features/dino_vits16/0171.pth\n",
      "dict_keys(['k', 'indices', 'file', 'id', 'model_name', 'patch_size', 'shape'])\n",
      "0171\n",
      "Starting Training\n",
      "epoch: 00, loss: -0.49406\n",
      "epoch: 01, loss: -0.64288\n",
      "epoch: 02, loss: -0.66750\n",
      "epoch: 03, loss: -0.67688\n",
      "epoch: 04, loss: -0.68851\n",
      "epoch: 05, loss: -0.69835\n",
      "epoch: 06, loss: -0.70618\n",
      "epoch: 07, loss: -0.70000\n",
      "epoch: 08, loss: -0.70845\n",
      "epoch: 09, loss: -0.71304\n",
      "After Unsqueezing, feature size= torch.Size([375, 1, 1, 384])\n"
     ]
    },
    {
     "name": "stderr",
     "output_type": "stream",
     "text": [
      " 17%|█▋        | 171/1000 [53:54<4:10:11, 18.11s/it]"
     ]
    },
    {
     "name": "stdout",
     "output_type": "stream",
     "text": [
      "eigenvalues shape torch.Size([5]) eigenvectors shape torch.Size([5, 375])\n",
      "171 /home/phdcs2/Hard_Disk/Datasets/Deep-Spectral-Segmentation/data/object-segmentation/ECSSD/features/dino_vits16/0172.pth\n",
      "dict_keys(['k', 'indices', 'file', 'id', 'model_name', 'patch_size', 'shape'])\n",
      "0172\n",
      "Starting Training\n",
      "epoch: 00, loss: -0.50713\n",
      "epoch: 01, loss: -0.65899\n",
      "epoch: 02, loss: -0.69245\n",
      "epoch: 03, loss: -0.70713\n",
      "epoch: 04, loss: -0.70719\n",
      "epoch: 05, loss: -0.71670\n",
      "epoch: 06, loss: -0.72530\n",
      "epoch: 07, loss: -0.73750\n",
      "epoch: 08, loss: -0.73385\n",
      "epoch: 09, loss: -0.73924\n",
      "After Unsqueezing, feature size= torch.Size([375, 1, 1, 384])\n"
     ]
    },
    {
     "name": "stderr",
     "output_type": "stream",
     "text": [
      " 17%|█▋        | 172/1000 [54:11<4:06:40, 17.88s/it]"
     ]
    },
    {
     "name": "stdout",
     "output_type": "stream",
     "text": [
      "eigenvalues shape torch.Size([5]) eigenvectors shape torch.Size([5, 375])\n",
      "172 /home/phdcs2/Hard_Disk/Datasets/Deep-Spectral-Segmentation/data/object-segmentation/ECSSD/features/dino_vits16/0173.pth\n",
      "dict_keys(['k', 'indices', 'file', 'id', 'model_name', 'patch_size', 'shape'])\n",
      "0173\n",
      "Starting Training\n",
      "epoch: 00, loss: -0.57357\n",
      "epoch: 01, loss: -0.71447\n",
      "epoch: 02, loss: -0.74242\n",
      "epoch: 03, loss: -0.74453\n",
      "epoch: 04, loss: -0.75948\n",
      "epoch: 05, loss: -0.74970\n",
      "epoch: 06, loss: -0.74483\n",
      "epoch: 07, loss: -0.74816\n",
      "epoch: 08, loss: -0.76588\n",
      "epoch: 09, loss: -0.77289\n",
      "After Unsqueezing, feature size= torch.Size([450, 1, 1, 384])\n"
     ]
    },
    {
     "name": "stderr",
     "output_type": "stream",
     "text": [
      " 17%|█▋        | 173/1000 [54:31<4:13:36, 18.40s/it]"
     ]
    },
    {
     "name": "stdout",
     "output_type": "stream",
     "text": [
      "eigenvalues shape torch.Size([5]) eigenvectors shape torch.Size([5, 450])\n",
      "173 /home/phdcs2/Hard_Disk/Datasets/Deep-Spectral-Segmentation/data/object-segmentation/ECSSD/features/dino_vits16/0174.pth\n",
      "dict_keys(['k', 'indices', 'file', 'id', 'model_name', 'patch_size', 'shape'])\n",
      "0174\n",
      "Starting Training\n",
      "epoch: 00, loss: -0.55836\n",
      "epoch: 01, loss: -0.72976\n",
      "epoch: 02, loss: -0.73609\n",
      "epoch: 03, loss: -0.74476\n",
      "epoch: 04, loss: -0.75282\n",
      "epoch: 05, loss: -0.76473\n",
      "epoch: 06, loss: -0.76342\n",
      "epoch: 07, loss: -0.76569\n",
      "epoch: 08, loss: -0.76718\n",
      "epoch: 09, loss: -0.78035\n",
      "After Unsqueezing, feature size= torch.Size([375, 1, 1, 384])\n"
     ]
    },
    {
     "name": "stderr",
     "output_type": "stream",
     "text": [
      " 17%|█▋        | 174/1000 [54:46<4:00:37, 17.48s/it]"
     ]
    },
    {
     "name": "stdout",
     "output_type": "stream",
     "text": [
      "eigenvalues shape torch.Size([5]) eigenvectors shape torch.Size([5, 375])\n",
      "174 /home/phdcs2/Hard_Disk/Datasets/Deep-Spectral-Segmentation/data/object-segmentation/ECSSD/features/dino_vits16/0175.pth\n",
      "dict_keys(['k', 'indices', 'file', 'id', 'model_name', 'patch_size', 'shape'])\n",
      "0175\n",
      "Starting Training\n",
      "epoch: 00, loss: -0.52572\n",
      "epoch: 01, loss: -0.70827\n",
      "epoch: 02, loss: -0.73189\n",
      "epoch: 03, loss: -0.75176\n",
      "epoch: 04, loss: -0.74355\n",
      "epoch: 05, loss: -0.75407\n",
      "epoch: 06, loss: -0.74622\n",
      "epoch: 07, loss: -0.74426\n",
      "epoch: 08, loss: -0.74181\n",
      "epoch: 09, loss: -0.74464\n",
      "After Unsqueezing, feature size= torch.Size([450, 1, 1, 384])\n"
     ]
    },
    {
     "name": "stderr",
     "output_type": "stream",
     "text": [
      " 18%|█▊        | 175/1000 [55:06<4:11:05, 18.26s/it]"
     ]
    },
    {
     "name": "stdout",
     "output_type": "stream",
     "text": [
      "eigenvalues shape torch.Size([5]) eigenvectors shape torch.Size([5, 450])\n",
      "175 /home/phdcs2/Hard_Disk/Datasets/Deep-Spectral-Segmentation/data/object-segmentation/ECSSD/features/dino_vits16/0176.pth\n",
      "dict_keys(['k', 'indices', 'file', 'id', 'model_name', 'patch_size', 'shape'])\n",
      "0176\n",
      "Starting Training\n",
      "epoch: 00, loss: -0.54697\n",
      "epoch: 01, loss: -0.68102\n",
      "epoch: 02, loss: -0.70435\n",
      "epoch: 03, loss: -0.71002\n",
      "epoch: 04, loss: -0.73081\n",
      "epoch: 05, loss: -0.73941\n",
      "epoch: 06, loss: -0.74648\n",
      "epoch: 07, loss: -0.75359\n",
      "epoch: 08, loss: -0.75321\n",
      "epoch: 09, loss: -0.73810\n",
      "After Unsqueezing, feature size= torch.Size([550, 1, 1, 384])\n"
     ]
    },
    {
     "name": "stderr",
     "output_type": "stream",
     "text": [
      " 18%|█▊        | 176/1000 [55:29<4:31:33, 19.77s/it]"
     ]
    },
    {
     "name": "stdout",
     "output_type": "stream",
     "text": [
      "eigenvalues shape torch.Size([5]) eigenvectors shape torch.Size([5, 550])\n",
      "176 /home/phdcs2/Hard_Disk/Datasets/Deep-Spectral-Segmentation/data/object-segmentation/ECSSD/features/dino_vits16/0177.pth\n",
      "dict_keys(['k', 'indices', 'file', 'id', 'model_name', 'patch_size', 'shape'])\n",
      "0177\n",
      "Starting Training\n",
      "epoch: 00, loss: -0.57151\n",
      "epoch: 01, loss: -0.72299\n",
      "epoch: 02, loss: -0.75183\n",
      "epoch: 03, loss: -0.76281\n",
      "epoch: 04, loss: -0.76667\n",
      "epoch: 05, loss: -0.76820\n",
      "epoch: 06, loss: -0.76134\n",
      "epoch: 07, loss: -0.75726\n",
      "epoch: 08, loss: -0.76265\n",
      "epoch: 09, loss: -0.77123\n",
      "After Unsqueezing, feature size= torch.Size([400, 1, 1, 384])\n"
     ]
    },
    {
     "name": "stderr",
     "output_type": "stream",
     "text": [
      " 18%|█▊        | 177/1000 [55:50<4:35:07, 20.06s/it]"
     ]
    },
    {
     "name": "stdout",
     "output_type": "stream",
     "text": [
      "eigenvalues shape torch.Size([5]) eigenvectors shape torch.Size([5, 400])\n",
      "177 /home/phdcs2/Hard_Disk/Datasets/Deep-Spectral-Segmentation/data/object-segmentation/ECSSD/features/dino_vits16/0178.pth\n",
      "dict_keys(['k', 'indices', 'file', 'id', 'model_name', 'patch_size', 'shape'])\n",
      "0178\n",
      "Starting Training\n",
      "epoch: 00, loss: -0.57801\n",
      "epoch: 01, loss: -0.72269\n",
      "epoch: 02, loss: -0.74035\n",
      "epoch: 03, loss: -0.74424\n",
      "epoch: 04, loss: -0.75176\n",
      "epoch: 05, loss: -0.75303\n",
      "epoch: 06, loss: -0.76323\n",
      "epoch: 07, loss: -0.76755\n",
      "epoch: 08, loss: -0.77476\n",
      "epoch: 09, loss: -0.77874\n",
      "After Unsqueezing, feature size= torch.Size([450, 1, 1, 384])\n"
     ]
    },
    {
     "name": "stderr",
     "output_type": "stream",
     "text": [
      " 18%|█▊        | 178/1000 [56:11<4:37:41, 20.27s/it]"
     ]
    },
    {
     "name": "stdout",
     "output_type": "stream",
     "text": [
      "eigenvalues shape torch.Size([5]) eigenvectors shape torch.Size([5, 450])\n",
      "178 /home/phdcs2/Hard_Disk/Datasets/Deep-Spectral-Segmentation/data/object-segmentation/ECSSD/features/dino_vits16/0179.pth\n",
      "dict_keys(['k', 'indices', 'file', 'id', 'model_name', 'patch_size', 'shape'])\n",
      "0179\n",
      "Starting Training\n",
      "epoch: 00, loss: -0.52960\n",
      "epoch: 01, loss: -0.67083\n",
      "epoch: 02, loss: -0.69786\n",
      "epoch: 03, loss: -0.70491\n",
      "epoch: 04, loss: -0.70780\n",
      "epoch: 05, loss: -0.71579\n",
      "epoch: 06, loss: -0.71772\n",
      "epoch: 07, loss: -0.73067\n",
      "epoch: 08, loss: -0.74359\n",
      "epoch: 09, loss: -0.75393\n",
      "After Unsqueezing, feature size= torch.Size([400, 1, 1, 384])\n"
     ]
    },
    {
     "name": "stderr",
     "output_type": "stream",
     "text": [
      " 18%|█▊        | 179/1000 [56:30<4:31:35, 19.85s/it]"
     ]
    },
    {
     "name": "stdout",
     "output_type": "stream",
     "text": [
      "eigenvalues shape torch.Size([5]) eigenvectors shape torch.Size([5, 400])\n",
      "179 /home/phdcs2/Hard_Disk/Datasets/Deep-Spectral-Segmentation/data/object-segmentation/ECSSD/features/dino_vits16/0180.pth\n",
      "dict_keys(['k', 'indices', 'file', 'id', 'model_name', 'patch_size', 'shape'])\n",
      "0180\n",
      "Starting Training\n",
      "epoch: 00, loss: -0.46889\n",
      "epoch: 01, loss: -0.65593\n",
      "epoch: 02, loss: -0.67957\n",
      "epoch: 03, loss: -0.69667\n",
      "epoch: 04, loss: -0.69415\n",
      "epoch: 05, loss: -0.69400\n",
      "epoch: 06, loss: -0.70289\n",
      "epoch: 07, loss: -0.71515\n",
      "epoch: 08, loss: -0.71807\n",
      "epoch: 09, loss: -0.72607\n",
      "After Unsqueezing, feature size= torch.Size([400, 1, 1, 384])\n"
     ]
    },
    {
     "name": "stderr",
     "output_type": "stream",
     "text": [
      " 18%|█▊        | 180/1000 [56:49<4:26:46, 19.52s/it]"
     ]
    },
    {
     "name": "stdout",
     "output_type": "stream",
     "text": [
      "eigenvalues shape torch.Size([5]) eigenvectors shape torch.Size([5, 400])\n",
      "180 /home/phdcs2/Hard_Disk/Datasets/Deep-Spectral-Segmentation/data/object-segmentation/ECSSD/features/dino_vits16/0181.pth\n",
      "dict_keys(['k', 'indices', 'file', 'id', 'model_name', 'patch_size', 'shape'])\n",
      "0181\n",
      "Starting Training\n",
      "epoch: 00, loss: -0.48067\n",
      "epoch: 01, loss: -0.66364\n",
      "epoch: 02, loss: -0.69634\n",
      "epoch: 03, loss: -0.70327\n",
      "epoch: 04, loss: -0.71848\n",
      "epoch: 05, loss: -0.71070\n",
      "epoch: 06, loss: -0.71145\n",
      "epoch: 07, loss: -0.72366\n",
      "epoch: 08, loss: -0.72655\n",
      "epoch: 09, loss: -0.74757\n",
      "After Unsqueezing, feature size= torch.Size([375, 1, 1, 384])\n"
     ]
    },
    {
     "name": "stderr",
     "output_type": "stream",
     "text": [
      " 18%|█▊        | 181/1000 [57:06<4:18:07, 18.91s/it]"
     ]
    },
    {
     "name": "stdout",
     "output_type": "stream",
     "text": [
      "eigenvalues shape torch.Size([5]) eigenvectors shape torch.Size([5, 375])\n",
      "181 /home/phdcs2/Hard_Disk/Datasets/Deep-Spectral-Segmentation/data/object-segmentation/ECSSD/features/dino_vits16/0182.pth\n",
      "dict_keys(['k', 'indices', 'file', 'id', 'model_name', 'patch_size', 'shape'])\n",
      "0182\n",
      "Starting Training\n",
      "epoch: 00, loss: -0.58379\n",
      "epoch: 01, loss: -0.70845\n",
      "epoch: 02, loss: -0.73960\n",
      "epoch: 03, loss: -0.75713\n",
      "epoch: 04, loss: -0.77132\n",
      "epoch: 05, loss: -0.78737\n",
      "epoch: 06, loss: -0.79437\n",
      "epoch: 07, loss: -0.79429\n",
      "epoch: 08, loss: -0.79566\n",
      "epoch: 09, loss: -0.80382\n",
      "After Unsqueezing, feature size= torch.Size([625, 1, 1, 384])\n"
     ]
    },
    {
     "name": "stderr",
     "output_type": "stream",
     "text": [
      " 18%|█▊        | 182/1000 [57:36<5:02:44, 22.21s/it]"
     ]
    },
    {
     "name": "stdout",
     "output_type": "stream",
     "text": [
      "eigenvalues shape torch.Size([5]) eigenvectors shape torch.Size([5, 625])\n",
      "182 /home/phdcs2/Hard_Disk/Datasets/Deep-Spectral-Segmentation/data/object-segmentation/ECSSD/features/dino_vits16/0183.pth\n",
      "dict_keys(['k', 'indices', 'file', 'id', 'model_name', 'patch_size', 'shape'])\n",
      "0183\n",
      "Starting Training\n",
      "epoch: 00, loss: -0.55382\n",
      "epoch: 01, loss: -0.70477\n",
      "epoch: 02, loss: -0.72469\n",
      "epoch: 03, loss: -0.73907\n",
      "epoch: 04, loss: -0.74812\n",
      "epoch: 05, loss: -0.76058\n",
      "epoch: 06, loss: -0.76448\n",
      "epoch: 07, loss: -0.76625\n",
      "epoch: 08, loss: -0.77179\n",
      "epoch: 09, loss: -0.77247\n",
      "After Unsqueezing, feature size= torch.Size([400, 1, 1, 384])\n"
     ]
    },
    {
     "name": "stderr",
     "output_type": "stream",
     "text": [
      " 18%|█▊        | 183/1000 [57:55<4:50:26, 21.33s/it]"
     ]
    },
    {
     "name": "stdout",
     "output_type": "stream",
     "text": [
      "eigenvalues shape torch.Size([5]) eigenvectors shape torch.Size([5, 400])\n",
      "183 /home/phdcs2/Hard_Disk/Datasets/Deep-Spectral-Segmentation/data/object-segmentation/ECSSD/features/dino_vits16/0184.pth\n",
      "dict_keys(['k', 'indices', 'file', 'id', 'model_name', 'patch_size', 'shape'])\n",
      "0184\n",
      "Starting Training\n",
      "epoch: 00, loss: -0.61675\n",
      "epoch: 01, loss: -0.74114\n",
      "epoch: 02, loss: -0.74484\n",
      "epoch: 03, loss: -0.75955\n",
      "epoch: 04, loss: -0.77394\n",
      "epoch: 05, loss: -0.78186\n",
      "epoch: 06, loss: -0.79318\n",
      "epoch: 07, loss: -0.79706\n",
      "epoch: 08, loss: -0.80284\n",
      "epoch: 09, loss: -0.80708\n",
      "After Unsqueezing, feature size= torch.Size([625, 1, 1, 384])\n"
     ]
    },
    {
     "name": "stderr",
     "output_type": "stream",
     "text": [
      " 18%|█▊        | 184/1000 [58:26<5:27:15, 24.06s/it]"
     ]
    },
    {
     "name": "stdout",
     "output_type": "stream",
     "text": [
      "eigenvalues shape torch.Size([5]) eigenvectors shape torch.Size([5, 625])\n",
      "184 /home/phdcs2/Hard_Disk/Datasets/Deep-Spectral-Segmentation/data/object-segmentation/ECSSD/features/dino_vits16/0185.pth\n",
      "dict_keys(['k', 'indices', 'file', 'id', 'model_name', 'patch_size', 'shape'])\n",
      "0185\n",
      "Starting Training\n",
      "epoch: 00, loss: -0.57020\n",
      "epoch: 01, loss: -0.69917\n",
      "epoch: 02, loss: -0.73115\n",
      "epoch: 03, loss: -0.74199\n",
      "epoch: 04, loss: -0.75440\n",
      "epoch: 05, loss: -0.76910\n",
      "epoch: 06, loss: -0.77780\n",
      "epoch: 07, loss: -0.76206\n",
      "epoch: 08, loss: -0.77684\n",
      "epoch: 09, loss: -0.78108\n",
      "After Unsqueezing, feature size= torch.Size([625, 1, 1, 384])\n"
     ]
    },
    {
     "name": "stderr",
     "output_type": "stream",
     "text": [
      " 18%|█▊        | 185/1000 [58:54<5:45:04, 25.40s/it]"
     ]
    },
    {
     "name": "stdout",
     "output_type": "stream",
     "text": [
      "eigenvalues shape torch.Size([5]) eigenvectors shape torch.Size([5, 625])\n",
      "185 /home/phdcs2/Hard_Disk/Datasets/Deep-Spectral-Segmentation/data/object-segmentation/ECSSD/features/dino_vits16/0186.pth\n",
      "dict_keys(['k', 'indices', 'file', 'id', 'model_name', 'patch_size', 'shape'])\n",
      "0186\n",
      "Starting Training\n",
      "epoch: 00, loss: -0.54339\n",
      "epoch: 01, loss: -0.67498\n",
      "epoch: 02, loss: -0.69173\n",
      "epoch: 03, loss: -0.70859\n",
      "epoch: 04, loss: -0.72074\n",
      "epoch: 05, loss: -0.71755\n",
      "epoch: 06, loss: -0.71219\n",
      "epoch: 07, loss: -0.71748\n",
      "epoch: 08, loss: -0.72914\n",
      "epoch: 09, loss: -0.74913\n",
      "After Unsqueezing, feature size= torch.Size([625, 1, 1, 384])\n"
     ]
    },
    {
     "name": "stderr",
     "output_type": "stream",
     "text": [
      " 19%|█▊        | 186/1000 [59:24<6:03:46, 26.81s/it]"
     ]
    },
    {
     "name": "stdout",
     "output_type": "stream",
     "text": [
      "eigenvalues shape torch.Size([5]) eigenvectors shape torch.Size([5, 625])\n",
      "186 /home/phdcs2/Hard_Disk/Datasets/Deep-Spectral-Segmentation/data/object-segmentation/ECSSD/features/dino_vits16/0187.pth\n",
      "dict_keys(['k', 'indices', 'file', 'id', 'model_name', 'patch_size', 'shape'])\n",
      "0187\n",
      "Starting Training\n",
      "epoch: 00, loss: -0.41505\n",
      "epoch: 01, loss: -0.64223\n",
      "epoch: 02, loss: -0.66916\n",
      "epoch: 03, loss: -0.68448\n",
      "epoch: 04, loss: -0.69378\n",
      "epoch: 05, loss: -0.70738\n",
      "epoch: 06, loss: -0.71110\n",
      "epoch: 07, loss: -0.72527\n",
      "epoch: 08, loss: -0.72886\n",
      "epoch: 09, loss: -0.73199\n",
      "After Unsqueezing, feature size= torch.Size([200, 1, 1, 384])\n"
     ]
    },
    {
     "name": "stderr",
     "output_type": "stream",
     "text": [
      " 19%|█▊        | 187/1000 [59:33<4:48:30, 21.29s/it]"
     ]
    },
    {
     "name": "stdout",
     "output_type": "stream",
     "text": [
      "eigenvalues shape torch.Size([5]) eigenvectors shape torch.Size([5, 200])\n",
      "187 /home/phdcs2/Hard_Disk/Datasets/Deep-Spectral-Segmentation/data/object-segmentation/ECSSD/features/dino_vits16/0188.pth\n",
      "dict_keys(['k', 'indices', 'file', 'id', 'model_name', 'patch_size', 'shape'])\n",
      "0188\n",
      "Starting Training\n",
      "epoch: 00, loss: -0.53604\n",
      "epoch: 01, loss: -0.69834\n",
      "epoch: 02, loss: -0.72218\n",
      "epoch: 03, loss: -0.74376\n",
      "epoch: 04, loss: -0.75421\n",
      "epoch: 05, loss: -0.75511\n",
      "epoch: 06, loss: -0.75188\n",
      "epoch: 07, loss: -0.75542\n",
      "epoch: 08, loss: -0.77441\n",
      "epoch: 09, loss: -0.77952\n",
      "After Unsqueezing, feature size= torch.Size([400, 1, 1, 384])\n"
     ]
    },
    {
     "name": "stderr",
     "output_type": "stream",
     "text": [
      " 19%|█▉        | 188/1000 [59:48<4:24:17, 19.53s/it]"
     ]
    },
    {
     "name": "stdout",
     "output_type": "stream",
     "text": [
      "eigenvalues shape torch.Size([5]) eigenvectors shape torch.Size([5, 400])\n",
      "188 /home/phdcs2/Hard_Disk/Datasets/Deep-Spectral-Segmentation/data/object-segmentation/ECSSD/features/dino_vits16/0189.pth\n",
      "dict_keys(['k', 'indices', 'file', 'id', 'model_name', 'patch_size', 'shape'])\n",
      "0189\n",
      "Starting Training\n",
      "epoch: 00, loss: -0.48156\n",
      "epoch: 01, loss: -0.63572\n",
      "epoch: 02, loss: -0.65790\n",
      "epoch: 03, loss: -0.65925\n",
      "epoch: 04, loss: -0.66736\n",
      "epoch: 05, loss: -0.67135\n",
      "epoch: 06, loss: -0.68328\n",
      "epoch: 07, loss: -0.68858\n",
      "epoch: 08, loss: -0.70441\n",
      "epoch: 09, loss: -0.70645\n",
      "After Unsqueezing, feature size= torch.Size([400, 1, 1, 384])\n"
     ]
    },
    {
     "name": "stderr",
     "output_type": "stream",
     "text": [
      " 19%|█▉        | 189/1000 [1:00:07<4:20:59, 19.31s/it]"
     ]
    },
    {
     "name": "stdout",
     "output_type": "stream",
     "text": [
      "eigenvalues shape torch.Size([5]) eigenvectors shape torch.Size([5, 400])\n",
      "189 /home/phdcs2/Hard_Disk/Datasets/Deep-Spectral-Segmentation/data/object-segmentation/ECSSD/features/dino_vits16/0190.pth\n",
      "dict_keys(['k', 'indices', 'file', 'id', 'model_name', 'patch_size', 'shape'])\n",
      "0190\n",
      "Starting Training\n",
      "epoch: 00, loss: -0.54006\n",
      "epoch: 01, loss: -0.70313\n",
      "epoch: 02, loss: -0.74276\n",
      "epoch: 03, loss: -0.73359\n",
      "epoch: 04, loss: -0.75426\n",
      "epoch: 05, loss: -0.77513\n",
      "epoch: 06, loss: -0.77835\n",
      "epoch: 07, loss: -0.77378\n",
      "epoch: 08, loss: -0.78347\n",
      "epoch: 09, loss: -0.78047\n",
      "After Unsqueezing, feature size= torch.Size([450, 1, 1, 384])\n"
     ]
    },
    {
     "name": "stderr",
     "output_type": "stream",
     "text": [
      " 19%|█▉        | 190/1000 [1:00:29<4:30:01, 20.00s/it]"
     ]
    },
    {
     "name": "stdout",
     "output_type": "stream",
     "text": [
      "eigenvalues shape torch.Size([5]) eigenvectors shape torch.Size([5, 450])\n",
      "190 /home/phdcs2/Hard_Disk/Datasets/Deep-Spectral-Segmentation/data/object-segmentation/ECSSD/features/dino_vits16/0191.pth\n",
      "dict_keys(['k', 'indices', 'file', 'id', 'model_name', 'patch_size', 'shape'])\n",
      "0191\n",
      "Starting Training\n",
      "epoch: 00, loss: -0.59061\n",
      "epoch: 01, loss: -0.74641\n",
      "epoch: 02, loss: -0.76664\n",
      "epoch: 03, loss: -0.77086\n",
      "epoch: 04, loss: -0.77987\n",
      "epoch: 05, loss: -0.78447\n",
      "epoch: 06, loss: -0.79081\n",
      "epoch: 07, loss: -0.79071\n",
      "epoch: 08, loss: -0.79531\n",
      "epoch: 09, loss: -0.79899\n",
      "After Unsqueezing, feature size= torch.Size([450, 1, 1, 384])\n"
     ]
    },
    {
     "name": "stderr",
     "output_type": "stream",
     "text": [
      " 19%|█▉        | 191/1000 [1:00:46<4:18:38, 19.18s/it]"
     ]
    },
    {
     "name": "stdout",
     "output_type": "stream",
     "text": [
      "eigenvalues shape torch.Size([5]) eigenvectors shape torch.Size([5, 450])\n",
      "191 /home/phdcs2/Hard_Disk/Datasets/Deep-Spectral-Segmentation/data/object-segmentation/ECSSD/features/dino_vits16/0192.pth\n",
      "dict_keys(['k', 'indices', 'file', 'id', 'model_name', 'patch_size', 'shape'])\n",
      "0192\n",
      "Starting Training\n",
      "epoch: 00, loss: -0.55049\n",
      "epoch: 01, loss: -0.71481\n",
      "epoch: 02, loss: -0.74384\n",
      "epoch: 03, loss: -0.75716\n",
      "epoch: 04, loss: -0.77479\n",
      "epoch: 05, loss: -0.78199\n",
      "epoch: 06, loss: -0.78521\n",
      "epoch: 07, loss: -0.79278\n",
      "epoch: 08, loss: -0.79537\n",
      "epoch: 09, loss: -0.79731\n",
      "After Unsqueezing, feature size= torch.Size([400, 1, 1, 384])\n"
     ]
    },
    {
     "name": "stderr",
     "output_type": "stream",
     "text": [
      " 19%|█▉        | 192/1000 [1:01:03<4:09:28, 18.53s/it]"
     ]
    },
    {
     "name": "stdout",
     "output_type": "stream",
     "text": [
      "eigenvalues shape torch.Size([5]) eigenvectors shape torch.Size([5, 400])\n",
      "192 /home/phdcs2/Hard_Disk/Datasets/Deep-Spectral-Segmentation/data/object-segmentation/ECSSD/features/dino_vits16/0193.pth\n",
      "dict_keys(['k', 'indices', 'file', 'id', 'model_name', 'patch_size', 'shape'])\n",
      "0193\n",
      "Starting Training\n",
      "epoch: 00, loss: -0.48432\n",
      "epoch: 01, loss: -0.63832\n",
      "epoch: 02, loss: -0.64945\n",
      "epoch: 03, loss: -0.65595\n",
      "epoch: 04, loss: -0.67064\n",
      "epoch: 05, loss: -0.67986\n",
      "epoch: 06, loss: -0.70411\n",
      "epoch: 07, loss: -0.69775\n",
      "epoch: 08, loss: -0.71137\n",
      "epoch: 09, loss: -0.71033\n",
      "After Unsqueezing, feature size= torch.Size([450, 1, 1, 384])\n"
     ]
    },
    {
     "name": "stderr",
     "output_type": "stream",
     "text": [
      " 19%|█▉        | 193/1000 [1:01:23<4:13:57, 18.88s/it]"
     ]
    },
    {
     "name": "stdout",
     "output_type": "stream",
     "text": [
      "eigenvalues shape torch.Size([5]) eigenvectors shape torch.Size([5, 450])\n",
      "193 /home/phdcs2/Hard_Disk/Datasets/Deep-Spectral-Segmentation/data/object-segmentation/ECSSD/features/dino_vits16/0194.pth\n",
      "dict_keys(['k', 'indices', 'file', 'id', 'model_name', 'patch_size', 'shape'])\n",
      "0194\n",
      "Starting Training\n",
      "epoch: 00, loss: -0.47821\n",
      "epoch: 01, loss: -0.63926\n",
      "epoch: 02, loss: -0.67779\n",
      "epoch: 03, loss: -0.69227\n",
      "epoch: 04, loss: -0.70778\n",
      "epoch: 05, loss: -0.70971\n",
      "epoch: 06, loss: -0.71702\n",
      "epoch: 07, loss: -0.73073\n",
      "epoch: 08, loss: -0.73648\n",
      "epoch: 09, loss: -0.72120\n",
      "After Unsqueezing, feature size= torch.Size([450, 1, 1, 384])\n"
     ]
    },
    {
     "name": "stderr",
     "output_type": "stream",
     "text": [
      " 19%|█▉        | 194/1000 [1:01:45<4:29:10, 20.04s/it]"
     ]
    },
    {
     "name": "stdout",
     "output_type": "stream",
     "text": [
      "eigenvalues shape torch.Size([5]) eigenvectors shape torch.Size([5, 450])\n",
      "194 /home/phdcs2/Hard_Disk/Datasets/Deep-Spectral-Segmentation/data/object-segmentation/ECSSD/features/dino_vits16/0195.pth\n",
      "dict_keys(['k', 'indices', 'file', 'id', 'model_name', 'patch_size', 'shape'])\n",
      "0195\n",
      "Starting Training\n",
      "epoch: 00, loss: -0.54607\n",
      "epoch: 01, loss: -0.71928\n",
      "epoch: 02, loss: -0.74295\n",
      "epoch: 03, loss: -0.76867\n",
      "epoch: 04, loss: -0.78362\n",
      "epoch: 05, loss: -0.80719\n",
      "epoch: 06, loss: -0.80725\n",
      "epoch: 07, loss: -0.81753\n",
      "epoch: 08, loss: -0.82079\n",
      "epoch: 09, loss: -0.82024\n",
      "After Unsqueezing, feature size= torch.Size([400, 1, 1, 384])\n"
     ]
    },
    {
     "name": "stderr",
     "output_type": "stream",
     "text": [
      " 20%|█▉        | 195/1000 [1:02:02<4:16:45, 19.14s/it]"
     ]
    },
    {
     "name": "stdout",
     "output_type": "stream",
     "text": [
      "eigenvalues shape torch.Size([5]) eigenvectors shape torch.Size([5, 400])\n",
      "195 /home/phdcs2/Hard_Disk/Datasets/Deep-Spectral-Segmentation/data/object-segmentation/ECSSD/features/dino_vits16/0196.pth\n",
      "dict_keys(['k', 'indices', 'file', 'id', 'model_name', 'patch_size', 'shape'])\n",
      "0196\n",
      "Starting Training\n",
      "epoch: 00, loss: -0.57224\n",
      "epoch: 01, loss: -0.70811\n",
      "epoch: 02, loss: -0.72326\n",
      "epoch: 03, loss: -0.73325\n",
      "epoch: 04, loss: -0.75518\n",
      "epoch: 05, loss: -0.75976\n",
      "epoch: 06, loss: -0.76727\n",
      "epoch: 07, loss: -0.78200\n",
      "epoch: 08, loss: -0.78251\n",
      "epoch: 09, loss: -0.77566\n",
      "After Unsqueezing, feature size= torch.Size([625, 1, 1, 384])\n"
     ]
    },
    {
     "name": "stderr",
     "output_type": "stream",
     "text": [
      " 20%|█▉        | 196/1000 [1:02:29<4:48:10, 21.51s/it]"
     ]
    },
    {
     "name": "stdout",
     "output_type": "stream",
     "text": [
      "eigenvalues shape torch.Size([5]) eigenvectors shape torch.Size([5, 625])\n",
      "196 /home/phdcs2/Hard_Disk/Datasets/Deep-Spectral-Segmentation/data/object-segmentation/ECSSD/features/dino_vits16/0197.pth\n",
      "dict_keys(['k', 'indices', 'file', 'id', 'model_name', 'patch_size', 'shape'])\n",
      "0197\n",
      "Starting Training\n",
      "epoch: 00, loss: -0.58069\n",
      "epoch: 01, loss: -0.74072\n",
      "epoch: 02, loss: -0.77247\n",
      "epoch: 03, loss: -0.78926\n",
      "epoch: 04, loss: -0.80713\n",
      "epoch: 05, loss: -0.81143\n",
      "epoch: 06, loss: -0.82014\n",
      "epoch: 07, loss: -0.82082\n",
      "epoch: 08, loss: -0.81846\n",
      "epoch: 09, loss: -0.81230\n",
      "After Unsqueezing, feature size= torch.Size([400, 1, 1, 384])\n"
     ]
    },
    {
     "name": "stderr",
     "output_type": "stream",
     "text": [
      " 20%|█▉        | 197/1000 [1:02:44<4:22:00, 19.58s/it]"
     ]
    },
    {
     "name": "stdout",
     "output_type": "stream",
     "text": [
      "eigenvalues shape torch.Size([5]) eigenvectors shape torch.Size([5, 400])\n",
      "197 /home/phdcs2/Hard_Disk/Datasets/Deep-Spectral-Segmentation/data/object-segmentation/ECSSD/features/dino_vits16/0198.pth\n",
      "dict_keys(['k', 'indices', 'file', 'id', 'model_name', 'patch_size', 'shape'])\n",
      "0198\n",
      "Starting Training\n",
      "epoch: 00, loss: -0.49032\n",
      "epoch: 01, loss: -0.62844\n",
      "epoch: 02, loss: -0.65159\n",
      "epoch: 03, loss: -0.66268\n",
      "epoch: 04, loss: -0.68084\n",
      "epoch: 05, loss: -0.66820\n",
      "epoch: 06, loss: -0.67572\n",
      "epoch: 07, loss: -0.70043\n",
      "epoch: 08, loss: -0.69795\n",
      "epoch: 09, loss: -0.69331\n",
      "After Unsqueezing, feature size= torch.Size([425, 1, 1, 384])\n"
     ]
    },
    {
     "name": "stderr",
     "output_type": "stream",
     "text": [
      " 20%|█▉        | 198/1000 [1:03:04<4:19:42, 19.43s/it]"
     ]
    },
    {
     "name": "stdout",
     "output_type": "stream",
     "text": [
      "eigenvalues shape torch.Size([5]) eigenvectors shape torch.Size([5, 425])\n",
      "198 /home/phdcs2/Hard_Disk/Datasets/Deep-Spectral-Segmentation/data/object-segmentation/ECSSD/features/dino_vits16/0199.pth\n",
      "dict_keys(['k', 'indices', 'file', 'id', 'model_name', 'patch_size', 'shape'])\n",
      "0199\n",
      "Starting Training\n",
      "epoch: 00, loss: -0.52466\n",
      "epoch: 01, loss: -0.66001\n",
      "epoch: 02, loss: -0.68686\n",
      "epoch: 03, loss: -0.71384\n",
      "epoch: 04, loss: -0.72969\n",
      "epoch: 05, loss: -0.73606\n",
      "epoch: 06, loss: -0.75193\n",
      "epoch: 07, loss: -0.75973\n",
      "epoch: 08, loss: -0.77305\n",
      "epoch: 09, loss: -0.78490\n",
      "After Unsqueezing, feature size= torch.Size([450, 1, 1, 384])\n"
     ]
    },
    {
     "name": "stderr",
     "output_type": "stream",
     "text": [
      " 20%|█▉        | 199/1000 [1:03:24<4:22:17, 19.65s/it]"
     ]
    },
    {
     "name": "stdout",
     "output_type": "stream",
     "text": [
      "eigenvalues shape torch.Size([5]) eigenvectors shape torch.Size([5, 450])\n",
      "199 /home/phdcs2/Hard_Disk/Datasets/Deep-Spectral-Segmentation/data/object-segmentation/ECSSD/features/dino_vits16/0200.pth\n",
      "dict_keys(['k', 'indices', 'file', 'id', 'model_name', 'patch_size', 'shape'])\n",
      "0200\n",
      "Starting Training\n",
      "epoch: 00, loss: -0.57987\n",
      "epoch: 01, loss: -0.70587\n",
      "epoch: 02, loss: -0.72843\n",
      "epoch: 03, loss: -0.74063\n",
      "epoch: 04, loss: -0.75885\n",
      "epoch: 05, loss: -0.74916\n",
      "epoch: 06, loss: -0.75550\n",
      "epoch: 07, loss: -0.73255\n",
      "epoch: 08, loss: -0.74915\n",
      "epoch: 09, loss: -0.75321\n",
      "After Unsqueezing, feature size= torch.Size([450, 1, 1, 384])\n"
     ]
    },
    {
     "name": "stderr",
     "output_type": "stream",
     "text": [
      " 20%|██        | 200/1000 [1:03:44<4:25:30, 19.91s/it]"
     ]
    },
    {
     "name": "stdout",
     "output_type": "stream",
     "text": [
      "eigenvalues shape torch.Size([5]) eigenvectors shape torch.Size([5, 450])\n",
      "200 /home/phdcs2/Hard_Disk/Datasets/Deep-Spectral-Segmentation/data/object-segmentation/ECSSD/features/dino_vits16/0201.pth\n",
      "dict_keys(['k', 'indices', 'file', 'id', 'model_name', 'patch_size', 'shape'])\n",
      "0201\n",
      "Starting Training\n",
      "epoch: 00, loss: -0.55093\n",
      "epoch: 01, loss: -0.69640\n",
      "epoch: 02, loss: -0.71219\n",
      "epoch: 03, loss: -0.71667\n",
      "epoch: 04, loss: -0.70558\n",
      "epoch: 05, loss: -0.72285\n",
      "epoch: 06, loss: -0.74087\n",
      "epoch: 07, loss: -0.74446\n",
      "epoch: 08, loss: -0.75638\n",
      "epoch: 09, loss: -0.75375\n",
      "After Unsqueezing, feature size= torch.Size([425, 1, 1, 384])\n"
     ]
    },
    {
     "name": "stderr",
     "output_type": "stream",
     "text": [
      " 20%|██        | 201/1000 [1:04:00<4:07:11, 18.56s/it]"
     ]
    },
    {
     "name": "stdout",
     "output_type": "stream",
     "text": [
      "eigenvalues shape torch.Size([5]) eigenvectors shape torch.Size([5, 425])\n",
      "201 /home/phdcs2/Hard_Disk/Datasets/Deep-Spectral-Segmentation/data/object-segmentation/ECSSD/features/dino_vits16/0202.pth\n",
      "dict_keys(['k', 'indices', 'file', 'id', 'model_name', 'patch_size', 'shape'])\n",
      "0202\n",
      "Starting Training\n",
      "epoch: 00, loss: -0.52891\n",
      "epoch: 01, loss: -0.67185\n",
      "epoch: 02, loss: -0.69661\n",
      "epoch: 03, loss: -0.71955\n",
      "epoch: 04, loss: -0.72853\n",
      "epoch: 05, loss: -0.72269\n",
      "epoch: 06, loss: -0.72841\n",
      "epoch: 07, loss: -0.73243\n",
      "epoch: 08, loss: -0.73994\n",
      "epoch: 09, loss: -0.73476\n",
      "After Unsqueezing, feature size= torch.Size([400, 1, 1, 384])\n"
     ]
    },
    {
     "name": "stderr",
     "output_type": "stream",
     "text": [
      " 20%|██        | 202/1000 [1:04:16<3:58:20, 17.92s/it]"
     ]
    },
    {
     "name": "stdout",
     "output_type": "stream",
     "text": [
      "eigenvalues shape torch.Size([5]) eigenvectors shape torch.Size([5, 400])\n",
      "202 /home/phdcs2/Hard_Disk/Datasets/Deep-Spectral-Segmentation/data/object-segmentation/ECSSD/features/dino_vits16/0203.pth\n",
      "dict_keys(['k', 'indices', 'file', 'id', 'model_name', 'patch_size', 'shape'])\n",
      "0203\n",
      "Starting Training\n",
      "epoch: 00, loss: -0.50691\n",
      "epoch: 01, loss: -0.66298\n",
      "epoch: 02, loss: -0.69900\n",
      "epoch: 03, loss: -0.70226\n",
      "epoch: 04, loss: -0.70995\n",
      "epoch: 05, loss: -0.71137\n",
      "epoch: 06, loss: -0.73061\n",
      "epoch: 07, loss: -0.75045\n",
      "epoch: 08, loss: -0.76737\n",
      "epoch: 09, loss: -0.77769\n",
      "After Unsqueezing, feature size= torch.Size([400, 1, 1, 384])\n"
     ]
    },
    {
     "name": "stderr",
     "output_type": "stream",
     "text": [
      " 20%|██        | 203/1000 [1:04:34<3:58:18, 17.94s/it]"
     ]
    },
    {
     "name": "stdout",
     "output_type": "stream",
     "text": [
      "eigenvalues shape torch.Size([5]) eigenvectors shape torch.Size([5, 400])\n",
      "203 /home/phdcs2/Hard_Disk/Datasets/Deep-Spectral-Segmentation/data/object-segmentation/ECSSD/features/dino_vits16/0204.pth\n",
      "dict_keys(['k', 'indices', 'file', 'id', 'model_name', 'patch_size', 'shape'])\n",
      "0204\n",
      "Starting Training\n",
      "epoch: 00, loss: -0.51346\n",
      "epoch: 01, loss: -0.65369\n",
      "epoch: 02, loss: -0.67196\n",
      "epoch: 03, loss: -0.68746\n",
      "epoch: 04, loss: -0.68766\n",
      "epoch: 05, loss: -0.68796\n",
      "epoch: 06, loss: -0.71216\n",
      "epoch: 07, loss: -0.71066\n",
      "epoch: 08, loss: -0.70930\n",
      "epoch: 09, loss: -0.73180\n",
      "After Unsqueezing, feature size= torch.Size([450, 1, 1, 384])\n"
     ]
    },
    {
     "name": "stderr",
     "output_type": "stream",
     "text": [
      " 20%|██        | 204/1000 [1:04:56<4:15:29, 19.26s/it]"
     ]
    },
    {
     "name": "stdout",
     "output_type": "stream",
     "text": [
      "eigenvalues shape torch.Size([5]) eigenvectors shape torch.Size([5, 450])\n",
      "204 /home/phdcs2/Hard_Disk/Datasets/Deep-Spectral-Segmentation/data/object-segmentation/ECSSD/features/dino_vits16/0205.pth\n",
      "dict_keys(['k', 'indices', 'file', 'id', 'model_name', 'patch_size', 'shape'])\n",
      "0205\n",
      "Starting Training\n",
      "epoch: 00, loss: -0.54596\n",
      "epoch: 01, loss: -0.69736\n",
      "epoch: 02, loss: -0.71832\n",
      "epoch: 03, loss: -0.73161\n",
      "epoch: 04, loss: -0.75040\n",
      "epoch: 05, loss: -0.75780\n",
      "epoch: 06, loss: -0.76280\n",
      "epoch: 07, loss: -0.76783\n",
      "epoch: 08, loss: -0.77251\n",
      "epoch: 09, loss: -0.76823\n",
      "After Unsqueezing, feature size= torch.Size([450, 1, 1, 384])\n"
     ]
    },
    {
     "name": "stderr",
     "output_type": "stream",
     "text": [
      " 20%|██        | 205/1000 [1:05:18<4:26:23, 20.10s/it]"
     ]
    },
    {
     "name": "stdout",
     "output_type": "stream",
     "text": [
      "eigenvalues shape torch.Size([5]) eigenvectors shape torch.Size([5, 450])\n",
      "205 /home/phdcs2/Hard_Disk/Datasets/Deep-Spectral-Segmentation/data/object-segmentation/ECSSD/features/dino_vits16/0206.pth\n",
      "dict_keys(['k', 'indices', 'file', 'id', 'model_name', 'patch_size', 'shape'])\n",
      "0206\n",
      "Starting Training\n",
      "epoch: 00, loss: -0.54029\n",
      "epoch: 01, loss: -0.71854\n",
      "epoch: 02, loss: -0.75770\n",
      "epoch: 03, loss: -0.75263\n",
      "epoch: 04, loss: -0.77894\n",
      "epoch: 05, loss: -0.78454\n",
      "epoch: 06, loss: -0.78915\n",
      "epoch: 07, loss: -0.78607\n",
      "epoch: 08, loss: -0.78341\n",
      "epoch: 09, loss: -0.79261\n",
      "After Unsqueezing, feature size= torch.Size([400, 1, 1, 384])\n"
     ]
    },
    {
     "name": "stderr",
     "output_type": "stream",
     "text": [
      " 21%|██        | 206/1000 [1:05:35<4:13:49, 19.18s/it]"
     ]
    },
    {
     "name": "stdout",
     "output_type": "stream",
     "text": [
      "eigenvalues shape torch.Size([5]) eigenvectors shape torch.Size([5, 400])\n",
      "206 /home/phdcs2/Hard_Disk/Datasets/Deep-Spectral-Segmentation/data/object-segmentation/ECSSD/features/dino_vits16/0207.pth\n",
      "dict_keys(['k', 'indices', 'file', 'id', 'model_name', 'patch_size', 'shape'])\n",
      "0207\n",
      "Starting Training\n",
      "epoch: 00, loss: -0.56962\n",
      "epoch: 01, loss: -0.72037\n",
      "epoch: 02, loss: -0.73253\n",
      "epoch: 03, loss: -0.73571\n",
      "epoch: 04, loss: -0.74171\n",
      "epoch: 05, loss: -0.74159\n",
      "epoch: 06, loss: -0.75207\n",
      "epoch: 07, loss: -0.75252\n",
      "epoch: 08, loss: -0.75202\n",
      "epoch: 09, loss: -0.75161\n",
      "After Unsqueezing, feature size= torch.Size([400, 1, 1, 384])\n"
     ]
    },
    {
     "name": "stderr",
     "output_type": "stream",
     "text": [
      " 21%|██        | 207/1000 [1:05:52<4:02:23, 18.34s/it]"
     ]
    },
    {
     "name": "stdout",
     "output_type": "stream",
     "text": [
      "eigenvalues shape torch.Size([5]) eigenvectors shape torch.Size([5, 400])\n",
      "207 /home/phdcs2/Hard_Disk/Datasets/Deep-Spectral-Segmentation/data/object-segmentation/ECSSD/features/dino_vits16/0208.pth\n",
      "dict_keys(['k', 'indices', 'file', 'id', 'model_name', 'patch_size', 'shape'])\n",
      "0208\n",
      "Starting Training\n",
      "epoch: 00, loss: -0.54099\n",
      "epoch: 01, loss: -0.69604\n",
      "epoch: 02, loss: -0.72062\n",
      "epoch: 03, loss: -0.72447\n",
      "epoch: 04, loss: -0.72101\n",
      "epoch: 05, loss: -0.72790\n",
      "epoch: 06, loss: -0.73871\n",
      "epoch: 07, loss: -0.75422\n",
      "epoch: 08, loss: -0.77263\n",
      "epoch: 09, loss: -0.77389\n",
      "After Unsqueezing, feature size= torch.Size([450, 1, 1, 384])\n"
     ]
    },
    {
     "name": "stderr",
     "output_type": "stream",
     "text": [
      " 21%|██        | 208/1000 [1:06:11<4:04:41, 18.54s/it]"
     ]
    },
    {
     "name": "stdout",
     "output_type": "stream",
     "text": [
      "eigenvalues shape torch.Size([5]) eigenvectors shape torch.Size([5, 450])\n",
      "208 /home/phdcs2/Hard_Disk/Datasets/Deep-Spectral-Segmentation/data/object-segmentation/ECSSD/features/dino_vits16/0209.pth\n",
      "dict_keys(['k', 'indices', 'file', 'id', 'model_name', 'patch_size', 'shape'])\n",
      "0209\n",
      "Starting Training\n",
      "epoch: 00, loss: -0.55185\n",
      "epoch: 01, loss: -0.67313\n",
      "epoch: 02, loss: -0.68668\n",
      "epoch: 03, loss: -0.70346\n",
      "epoch: 04, loss: -0.72088\n",
      "epoch: 05, loss: -0.71559\n",
      "epoch: 06, loss: -0.73595\n",
      "epoch: 07, loss: -0.74421\n",
      "epoch: 08, loss: -0.76550\n",
      "epoch: 09, loss: -0.77358\n",
      "After Unsqueezing, feature size= torch.Size([500, 1, 1, 384])\n"
     ]
    },
    {
     "name": "stderr",
     "output_type": "stream",
     "text": [
      " 21%|██        | 209/1000 [1:06:31<4:11:19, 19.06s/it]"
     ]
    },
    {
     "name": "stdout",
     "output_type": "stream",
     "text": [
      "eigenvalues shape torch.Size([5]) eigenvectors shape torch.Size([5, 500])\n",
      "209 /home/phdcs2/Hard_Disk/Datasets/Deep-Spectral-Segmentation/data/object-segmentation/ECSSD/features/dino_vits16/0210.pth\n",
      "dict_keys(['k', 'indices', 'file', 'id', 'model_name', 'patch_size', 'shape'])\n",
      "0210\n",
      "Starting Training\n",
      "epoch: 00, loss: -0.55123\n",
      "epoch: 01, loss: -0.70982\n",
      "epoch: 02, loss: -0.73405\n",
      "epoch: 03, loss: -0.74140\n",
      "epoch: 04, loss: -0.74660\n",
      "epoch: 05, loss: -0.75560\n",
      "epoch: 06, loss: -0.76483\n",
      "epoch: 07, loss: -0.77523\n",
      "epoch: 08, loss: -0.78004\n",
      "epoch: 09, loss: -0.78385\n",
      "After Unsqueezing, feature size= torch.Size([425, 1, 1, 384])\n"
     ]
    },
    {
     "name": "stderr",
     "output_type": "stream",
     "text": [
      " 21%|██        | 210/1000 [1:06:50<4:10:52, 19.05s/it]"
     ]
    },
    {
     "name": "stdout",
     "output_type": "stream",
     "text": [
      "eigenvalues shape torch.Size([5]) eigenvectors shape torch.Size([5, 425])\n",
      "210 /home/phdcs2/Hard_Disk/Datasets/Deep-Spectral-Segmentation/data/object-segmentation/ECSSD/features/dino_vits16/0211.pth\n",
      "dict_keys(['k', 'indices', 'file', 'id', 'model_name', 'patch_size', 'shape'])\n",
      "0211\n",
      "Starting Training\n",
      "epoch: 00, loss: -0.57911\n",
      "epoch: 01, loss: -0.73798\n",
      "epoch: 02, loss: -0.75759\n",
      "epoch: 03, loss: -0.77036\n",
      "epoch: 04, loss: -0.78900\n",
      "epoch: 05, loss: -0.79937\n",
      "epoch: 06, loss: -0.81764\n",
      "epoch: 07, loss: -0.81700\n",
      "epoch: 08, loss: -0.81579\n",
      "epoch: 09, loss: -0.81059\n",
      "After Unsqueezing, feature size= torch.Size([500, 1, 1, 384])\n"
     ]
    },
    {
     "name": "stderr",
     "output_type": "stream",
     "text": [
      " 21%|██        | 211/1000 [1:07:15<4:32:05, 20.69s/it]"
     ]
    },
    {
     "name": "stdout",
     "output_type": "stream",
     "text": [
      "eigenvalues shape torch.Size([5]) eigenvectors shape torch.Size([5, 500])\n",
      "211 /home/phdcs2/Hard_Disk/Datasets/Deep-Spectral-Segmentation/data/object-segmentation/ECSSD/features/dino_vits16/0212.pth\n",
      "dict_keys(['k', 'indices', 'file', 'id', 'model_name', 'patch_size', 'shape'])\n",
      "0212\n",
      "Starting Training\n",
      "epoch: 00, loss: -0.57003\n",
      "epoch: 01, loss: -0.67584\n",
      "epoch: 02, loss: -0.69421\n",
      "epoch: 03, loss: -0.71780\n",
      "epoch: 04, loss: -0.73830\n",
      "epoch: 05, loss: -0.74367\n",
      "epoch: 06, loss: -0.73469\n",
      "epoch: 07, loss: -0.74245\n",
      "epoch: 08, loss: -0.74435\n",
      "epoch: 09, loss: -0.74554\n",
      "After Unsqueezing, feature size= torch.Size([625, 1, 1, 384])\n"
     ]
    },
    {
     "name": "stderr",
     "output_type": "stream",
     "text": [
      " 21%|██        | 212/1000 [1:07:45<5:10:05, 23.61s/it]"
     ]
    },
    {
     "name": "stdout",
     "output_type": "stream",
     "text": [
      "eigenvalues shape torch.Size([5]) eigenvectors shape torch.Size([5, 625])\n",
      "212 /home/phdcs2/Hard_Disk/Datasets/Deep-Spectral-Segmentation/data/object-segmentation/ECSSD/features/dino_vits16/0213.pth\n",
      "dict_keys(['k', 'indices', 'file', 'id', 'model_name', 'patch_size', 'shape'])\n",
      "0213\n",
      "Starting Training\n",
      "epoch: 00, loss: -0.52889\n",
      "epoch: 01, loss: -0.69206\n",
      "epoch: 02, loss: -0.71658\n",
      "epoch: 03, loss: -0.73211\n",
      "epoch: 04, loss: -0.72417\n",
      "epoch: 05, loss: -0.72666\n",
      "epoch: 06, loss: -0.73612\n",
      "epoch: 07, loss: -0.74496\n",
      "epoch: 08, loss: -0.76837\n",
      "epoch: 09, loss: -0.75092\n",
      "After Unsqueezing, feature size= torch.Size([450, 1, 1, 384])\n"
     ]
    },
    {
     "name": "stderr",
     "output_type": "stream",
     "text": [
      " 21%|██▏       | 213/1000 [1:08:06<4:57:13, 22.66s/it]"
     ]
    },
    {
     "name": "stdout",
     "output_type": "stream",
     "text": [
      "eigenvalues shape torch.Size([5]) eigenvectors shape torch.Size([5, 450])\n",
      "213 /home/phdcs2/Hard_Disk/Datasets/Deep-Spectral-Segmentation/data/object-segmentation/ECSSD/features/dino_vits16/0214.pth\n",
      "dict_keys(['k', 'indices', 'file', 'id', 'model_name', 'patch_size', 'shape'])\n",
      "0214\n",
      "Starting Training\n",
      "epoch: 00, loss: -0.55799\n",
      "epoch: 01, loss: -0.72055\n",
      "epoch: 02, loss: -0.73525\n",
      "epoch: 03, loss: -0.75203\n",
      "epoch: 04, loss: -0.75903\n",
      "epoch: 05, loss: -0.77002\n",
      "epoch: 06, loss: -0.77154\n",
      "epoch: 07, loss: -0.77391\n",
      "epoch: 08, loss: -0.79085\n",
      "epoch: 09, loss: -0.78435\n",
      "After Unsqueezing, feature size= torch.Size([350, 1, 1, 384])\n"
     ]
    },
    {
     "name": "stderr",
     "output_type": "stream",
     "text": [
      " 21%|██▏       | 214/1000 [1:08:20<4:26:22, 20.33s/it]"
     ]
    },
    {
     "name": "stdout",
     "output_type": "stream",
     "text": [
      "eigenvalues shape torch.Size([5]) eigenvectors shape torch.Size([5, 350])\n",
      "214 /home/phdcs2/Hard_Disk/Datasets/Deep-Spectral-Segmentation/data/object-segmentation/ECSSD/features/dino_vits16/0215.pth\n",
      "dict_keys(['k', 'indices', 'file', 'id', 'model_name', 'patch_size', 'shape'])\n",
      "0215\n",
      "Starting Training\n",
      "epoch: 00, loss: -0.57053\n",
      "epoch: 01, loss: -0.73848\n",
      "epoch: 02, loss: -0.76237\n",
      "epoch: 03, loss: -0.78462\n",
      "epoch: 04, loss: -0.79858\n",
      "epoch: 05, loss: -0.81644\n",
      "epoch: 06, loss: -0.81739\n",
      "epoch: 07, loss: -0.80909\n",
      "epoch: 08, loss: -0.80945\n",
      "epoch: 09, loss: -0.81724\n",
      "After Unsqueezing, feature size= torch.Size([425, 1, 1, 384])\n"
     ]
    },
    {
     "name": "stderr",
     "output_type": "stream",
     "text": [
      " 22%|██▏       | 215/1000 [1:08:39<4:17:15, 19.66s/it]"
     ]
    },
    {
     "name": "stdout",
     "output_type": "stream",
     "text": [
      "eigenvalues shape torch.Size([5]) eigenvectors shape torch.Size([5, 425])\n",
      "215 /home/phdcs2/Hard_Disk/Datasets/Deep-Spectral-Segmentation/data/object-segmentation/ECSSD/features/dino_vits16/0216.pth\n",
      "dict_keys(['k', 'indices', 'file', 'id', 'model_name', 'patch_size', 'shape'])\n",
      "0216\n",
      "Starting Training\n",
      "epoch: 00, loss: -0.57357\n",
      "epoch: 01, loss: -0.72138\n",
      "epoch: 02, loss: -0.74107\n",
      "epoch: 03, loss: -0.74615\n",
      "epoch: 04, loss: -0.74146\n",
      "epoch: 05, loss: -0.74729\n",
      "epoch: 06, loss: -0.76856\n",
      "epoch: 07, loss: -0.77894\n",
      "epoch: 08, loss: -0.79427\n",
      "epoch: 09, loss: -0.79244\n",
      "After Unsqueezing, feature size= torch.Size([450, 1, 1, 384])\n"
     ]
    },
    {
     "name": "stderr",
     "output_type": "stream",
     "text": [
      " 22%|██▏       | 216/1000 [1:08:57<4:11:47, 19.27s/it]"
     ]
    },
    {
     "name": "stdout",
     "output_type": "stream",
     "text": [
      "eigenvalues shape torch.Size([5]) eigenvectors shape torch.Size([5, 450])\n",
      "216 /home/phdcs2/Hard_Disk/Datasets/Deep-Spectral-Segmentation/data/object-segmentation/ECSSD/features/dino_vits16/0217.pth\n",
      "dict_keys(['k', 'indices', 'file', 'id', 'model_name', 'patch_size', 'shape'])\n",
      "0217\n",
      "Starting Training\n",
      "epoch: 00, loss: -0.55292\n",
      "epoch: 01, loss: -0.71172\n",
      "epoch: 02, loss: -0.74814\n",
      "epoch: 03, loss: -0.78087\n",
      "epoch: 04, loss: -0.78502\n",
      "epoch: 05, loss: -0.80128\n",
      "epoch: 06, loss: -0.80068\n",
      "epoch: 07, loss: -0.80225\n",
      "epoch: 08, loss: -0.80374\n",
      "epoch: 09, loss: -0.81201\n",
      "After Unsqueezing, feature size= torch.Size([450, 1, 1, 384])\n"
     ]
    },
    {
     "name": "stderr",
     "output_type": "stream",
     "text": [
      " 22%|██▏       | 217/1000 [1:09:16<4:10:00, 19.16s/it]"
     ]
    },
    {
     "name": "stdout",
     "output_type": "stream",
     "text": [
      "eigenvalues shape torch.Size([5]) eigenvectors shape torch.Size([5, 450])\n",
      "217 /home/phdcs2/Hard_Disk/Datasets/Deep-Spectral-Segmentation/data/object-segmentation/ECSSD/features/dino_vits16/0218.pth\n",
      "dict_keys(['k', 'indices', 'file', 'id', 'model_name', 'patch_size', 'shape'])\n",
      "0218\n",
      "Starting Training\n",
      "epoch: 00, loss: -0.56008\n",
      "epoch: 01, loss: -0.69936\n",
      "epoch: 02, loss: -0.72964\n",
      "epoch: 03, loss: -0.74979\n",
      "epoch: 04, loss: -0.76599\n",
      "epoch: 05, loss: -0.75373\n",
      "epoch: 06, loss: -0.76557\n",
      "epoch: 07, loss: -0.78367\n",
      "epoch: 08, loss: -0.78779\n",
      "epoch: 09, loss: -0.79580\n",
      "After Unsqueezing, feature size= torch.Size([500, 1, 1, 384])\n"
     ]
    },
    {
     "name": "stderr",
     "output_type": "stream",
     "text": [
      " 22%|██▏       | 218/1000 [1:09:38<4:20:58, 20.02s/it]"
     ]
    },
    {
     "name": "stdout",
     "output_type": "stream",
     "text": [
      "eigenvalues shape torch.Size([5]) eigenvectors shape torch.Size([5, 500])\n",
      "218 /home/phdcs2/Hard_Disk/Datasets/Deep-Spectral-Segmentation/data/object-segmentation/ECSSD/features/dino_vits16/0219.pth\n",
      "dict_keys(['k', 'indices', 'file', 'id', 'model_name', 'patch_size', 'shape'])\n",
      "0219\n",
      "Starting Training\n",
      "epoch: 00, loss: -0.55061\n",
      "epoch: 01, loss: -0.69939\n",
      "epoch: 02, loss: -0.72746\n",
      "epoch: 03, loss: -0.73166\n",
      "epoch: 04, loss: -0.74324\n",
      "epoch: 05, loss: -0.75114\n",
      "epoch: 06, loss: -0.76579\n",
      "epoch: 07, loss: -0.78176\n",
      "epoch: 08, loss: -0.78374\n",
      "epoch: 09, loss: -0.78791\n",
      "After Unsqueezing, feature size= torch.Size([450, 1, 1, 384])\n"
     ]
    },
    {
     "name": "stderr",
     "output_type": "stream",
     "text": [
      " 22%|██▏       | 219/1000 [1:09:58<4:23:10, 20.22s/it]"
     ]
    },
    {
     "name": "stdout",
     "output_type": "stream",
     "text": [
      "eigenvalues shape torch.Size([5]) eigenvectors shape torch.Size([5, 450])\n",
      "219 /home/phdcs2/Hard_Disk/Datasets/Deep-Spectral-Segmentation/data/object-segmentation/ECSSD/features/dino_vits16/0220.pth\n",
      "dict_keys(['k', 'indices', 'file', 'id', 'model_name', 'patch_size', 'shape'])\n",
      "0220\n",
      "Starting Training\n",
      "epoch: 00, loss: -0.57279\n",
      "epoch: 01, loss: -0.71659\n",
      "epoch: 02, loss: -0.72593\n",
      "epoch: 03, loss: -0.74874\n",
      "epoch: 04, loss: -0.75344\n",
      "epoch: 05, loss: -0.76527\n",
      "epoch: 06, loss: -0.78173\n",
      "epoch: 07, loss: -0.78561\n",
      "epoch: 08, loss: -0.78273\n",
      "epoch: 09, loss: -0.78581\n",
      "After Unsqueezing, feature size= torch.Size([500, 1, 1, 384])\n"
     ]
    },
    {
     "name": "stderr",
     "output_type": "stream",
     "text": [
      " 22%|██▏       | 220/1000 [1:10:19<4:25:35, 20.43s/it]"
     ]
    },
    {
     "name": "stdout",
     "output_type": "stream",
     "text": [
      "eigenvalues shape torch.Size([5]) eigenvectors shape torch.Size([5, 500])\n",
      "220 /home/phdcs2/Hard_Disk/Datasets/Deep-Spectral-Segmentation/data/object-segmentation/ECSSD/features/dino_vits16/0221.pth\n",
      "dict_keys(['k', 'indices', 'file', 'id', 'model_name', 'patch_size', 'shape'])\n",
      "0221\n",
      "Starting Training\n",
      "epoch: 00, loss: -0.55941\n",
      "epoch: 01, loss: -0.71525\n",
      "epoch: 02, loss: -0.73350\n",
      "epoch: 03, loss: -0.74435\n",
      "epoch: 04, loss: -0.75143\n",
      "epoch: 05, loss: -0.75772\n",
      "epoch: 06, loss: -0.75484\n",
      "epoch: 07, loss: -0.76428\n",
      "epoch: 08, loss: -0.76871\n",
      "epoch: 09, loss: -0.77261\n",
      "After Unsqueezing, feature size= torch.Size([400, 1, 1, 384])\n"
     ]
    },
    {
     "name": "stderr",
     "output_type": "stream",
     "text": [
      " 22%|██▏       | 221/1000 [1:10:39<4:21:39, 20.15s/it]"
     ]
    },
    {
     "name": "stdout",
     "output_type": "stream",
     "text": [
      "eigenvalues shape torch.Size([5]) eigenvectors shape torch.Size([5, 400])\n",
      "221 /home/phdcs2/Hard_Disk/Datasets/Deep-Spectral-Segmentation/data/object-segmentation/ECSSD/features/dino_vits16/0222.pth\n",
      "dict_keys(['k', 'indices', 'file', 'id', 'model_name', 'patch_size', 'shape'])\n",
      "0222\n",
      "Starting Training\n",
      "epoch: 00, loss: -0.53418\n",
      "epoch: 01, loss: -0.66446\n",
      "epoch: 02, loss: -0.66637\n",
      "epoch: 03, loss: -0.66049\n",
      "epoch: 04, loss: -0.68111\n",
      "epoch: 05, loss: -0.68745\n",
      "epoch: 06, loss: -0.68535\n",
      "epoch: 07, loss: -0.69371\n",
      "epoch: 08, loss: -0.71154\n",
      "epoch: 09, loss: -0.72002\n",
      "After Unsqueezing, feature size= torch.Size([500, 1, 1, 384])\n"
     ]
    },
    {
     "name": "stderr",
     "output_type": "stream",
     "text": [
      " 22%|██▏       | 222/1000 [1:11:03<4:36:56, 21.36s/it]"
     ]
    },
    {
     "name": "stdout",
     "output_type": "stream",
     "text": [
      "eigenvalues shape torch.Size([5]) eigenvectors shape torch.Size([5, 500])\n",
      "222 /home/phdcs2/Hard_Disk/Datasets/Deep-Spectral-Segmentation/data/object-segmentation/ECSSD/features/dino_vits16/0223.pth\n",
      "dict_keys(['k', 'indices', 'file', 'id', 'model_name', 'patch_size', 'shape'])\n",
      "0223\n",
      "Starting Training\n",
      "epoch: 00, loss: -0.56782\n",
      "epoch: 01, loss: -0.74580\n",
      "epoch: 02, loss: -0.76932\n",
      "epoch: 03, loss: -0.77677\n",
      "epoch: 04, loss: -0.77342\n",
      "epoch: 05, loss: -0.78221\n",
      "epoch: 06, loss: -0.78820\n",
      "epoch: 07, loss: -0.80065\n",
      "epoch: 08, loss: -0.80588\n",
      "epoch: 09, loss: -0.80511\n",
      "After Unsqueezing, feature size= torch.Size([500, 1, 1, 384])\n"
     ]
    },
    {
     "name": "stderr",
     "output_type": "stream",
     "text": [
      " 22%|██▏       | 223/1000 [1:11:23<4:30:21, 20.88s/it]"
     ]
    },
    {
     "name": "stdout",
     "output_type": "stream",
     "text": [
      "eigenvalues shape torch.Size([5]) eigenvectors shape torch.Size([5, 500])\n",
      "223 /home/phdcs2/Hard_Disk/Datasets/Deep-Spectral-Segmentation/data/object-segmentation/ECSSD/features/dino_vits16/0224.pth\n",
      "dict_keys(['k', 'indices', 'file', 'id', 'model_name', 'patch_size', 'shape'])\n",
      "0224\n",
      "Starting Training\n",
      "epoch: 00, loss: -0.59545\n",
      "epoch: 01, loss: -0.73796\n",
      "epoch: 02, loss: -0.76509\n",
      "epoch: 03, loss: -0.78068\n",
      "epoch: 04, loss: -0.78549\n",
      "epoch: 05, loss: -0.78806\n",
      "epoch: 06, loss: -0.78593\n",
      "epoch: 07, loss: -0.78312\n",
      "epoch: 08, loss: -0.78325\n",
      "epoch: 09, loss: -0.79942\n",
      "After Unsqueezing, feature size= torch.Size([500, 1, 1, 384])\n"
     ]
    },
    {
     "name": "stderr",
     "output_type": "stream",
     "text": [
      " 22%|██▏       | 224/1000 [1:11:45<4:33:54, 21.18s/it]"
     ]
    },
    {
     "name": "stdout",
     "output_type": "stream",
     "text": [
      "eigenvalues shape torch.Size([5]) eigenvectors shape torch.Size([5, 500])\n",
      "224 /home/phdcs2/Hard_Disk/Datasets/Deep-Spectral-Segmentation/data/object-segmentation/ECSSD/features/dino_vits16/0225.pth\n",
      "dict_keys(['k', 'indices', 'file', 'id', 'model_name', 'patch_size', 'shape'])\n",
      "0225\n",
      "Starting Training\n",
      "epoch: 00, loss: -0.52104\n",
      "epoch: 01, loss: -0.69202\n",
      "epoch: 02, loss: -0.70869\n",
      "epoch: 03, loss: -0.72692\n",
      "epoch: 04, loss: -0.72106\n",
      "epoch: 05, loss: -0.71851\n",
      "epoch: 06, loss: -0.71547\n",
      "epoch: 07, loss: -0.73220\n",
      "epoch: 08, loss: -0.73346\n",
      "epoch: 09, loss: -0.73672\n",
      "After Unsqueezing, feature size= torch.Size([450, 1, 1, 384])\n"
     ]
    },
    {
     "name": "stderr",
     "output_type": "stream",
     "text": [
      " 22%|██▎       | 225/1000 [1:12:04<4:27:09, 20.68s/it]"
     ]
    },
    {
     "name": "stdout",
     "output_type": "stream",
     "text": [
      "eigenvalues shape torch.Size([5]) eigenvectors shape torch.Size([5, 450])\n",
      "225 /home/phdcs2/Hard_Disk/Datasets/Deep-Spectral-Segmentation/data/object-segmentation/ECSSD/features/dino_vits16/0226.pth\n",
      "dict_keys(['k', 'indices', 'file', 'id', 'model_name', 'patch_size', 'shape'])\n",
      "0226\n",
      "Starting Training\n",
      "epoch: 00, loss: -0.52877\n",
      "epoch: 01, loss: -0.73298\n",
      "epoch: 02, loss: -0.75864\n",
      "epoch: 03, loss: -0.77915\n",
      "epoch: 04, loss: -0.79375\n",
      "epoch: 05, loss: -0.80003\n",
      "epoch: 06, loss: -0.79106\n",
      "epoch: 07, loss: -0.79209\n",
      "epoch: 08, loss: -0.80333\n",
      "epoch: 09, loss: -0.80499\n",
      "After Unsqueezing, feature size= torch.Size([400, 1, 1, 384])\n"
     ]
    },
    {
     "name": "stderr",
     "output_type": "stream",
     "text": [
      " 23%|██▎       | 226/1000 [1:12:21<4:12:17, 19.56s/it]"
     ]
    },
    {
     "name": "stdout",
     "output_type": "stream",
     "text": [
      "eigenvalues shape torch.Size([5]) eigenvectors shape torch.Size([5, 400])\n",
      "226 /home/phdcs2/Hard_Disk/Datasets/Deep-Spectral-Segmentation/data/object-segmentation/ECSSD/features/dino_vits16/0227.pth\n",
      "dict_keys(['k', 'indices', 'file', 'id', 'model_name', 'patch_size', 'shape'])\n",
      "0227\n",
      "Starting Training\n",
      "epoch: 00, loss: -0.52750\n",
      "epoch: 01, loss: -0.72834\n",
      "epoch: 02, loss: -0.76597\n",
      "epoch: 03, loss: -0.75567\n",
      "epoch: 04, loss: -0.77549\n",
      "epoch: 05, loss: -0.78546\n",
      "epoch: 06, loss: -0.80200\n",
      "epoch: 07, loss: -0.81966\n",
      "epoch: 08, loss: -0.81589\n",
      "epoch: 09, loss: -0.83315\n",
      "After Unsqueezing, feature size= torch.Size([375, 1, 1, 384])\n"
     ]
    },
    {
     "name": "stderr",
     "output_type": "stream",
     "text": [
      " 23%|██▎       | 227/1000 [1:12:37<3:56:34, 18.36s/it]"
     ]
    },
    {
     "name": "stdout",
     "output_type": "stream",
     "text": [
      "eigenvalues shape torch.Size([5]) eigenvectors shape torch.Size([5, 375])\n",
      "227 /home/phdcs2/Hard_Disk/Datasets/Deep-Spectral-Segmentation/data/object-segmentation/ECSSD/features/dino_vits16/0228.pth\n",
      "dict_keys(['k', 'indices', 'file', 'id', 'model_name', 'patch_size', 'shape'])\n",
      "0228\n",
      "Starting Training\n",
      "epoch: 00, loss: -0.48303\n",
      "epoch: 01, loss: -0.66362\n",
      "epoch: 02, loss: -0.68097\n",
      "epoch: 03, loss: -0.69513\n",
      "epoch: 04, loss: -0.70889\n",
      "epoch: 05, loss: -0.72915\n",
      "epoch: 06, loss: -0.74866\n",
      "epoch: 07, loss: -0.74510\n",
      "epoch: 08, loss: -0.75406\n",
      "epoch: 09, loss: -0.75801\n",
      "After Unsqueezing, feature size= torch.Size([375, 1, 1, 384])\n"
     ]
    },
    {
     "name": "stderr",
     "output_type": "stream",
     "text": [
      " 23%|██▎       | 228/1000 [1:12:51<3:41:32, 17.22s/it]"
     ]
    },
    {
     "name": "stdout",
     "output_type": "stream",
     "text": [
      "eigenvalues shape torch.Size([5]) eigenvectors shape torch.Size([5, 375])\n",
      "228 /home/phdcs2/Hard_Disk/Datasets/Deep-Spectral-Segmentation/data/object-segmentation/ECSSD/features/dino_vits16/0229.pth\n",
      "dict_keys(['k', 'indices', 'file', 'id', 'model_name', 'patch_size', 'shape'])\n",
      "0229\n",
      "Starting Training\n",
      "epoch: 00, loss: -0.52679\n",
      "epoch: 01, loss: -0.67947\n",
      "epoch: 02, loss: -0.69718\n",
      "epoch: 03, loss: -0.70262\n",
      "epoch: 04, loss: -0.71453\n",
      "epoch: 05, loss: -0.71052\n",
      "epoch: 06, loss: -0.72688\n",
      "epoch: 07, loss: -0.72501\n",
      "epoch: 08, loss: -0.73456\n",
      "epoch: 09, loss: -0.73767\n",
      "After Unsqueezing, feature size= torch.Size([400, 1, 1, 384])\n"
     ]
    },
    {
     "name": "stderr",
     "output_type": "stream",
     "text": [
      " 23%|██▎       | 229/1000 [1:13:06<3:32:21, 16.53s/it]"
     ]
    },
    {
     "name": "stdout",
     "output_type": "stream",
     "text": [
      "eigenvalues shape torch.Size([5]) eigenvectors shape torch.Size([5, 400])\n",
      "229 /home/phdcs2/Hard_Disk/Datasets/Deep-Spectral-Segmentation/data/object-segmentation/ECSSD/features/dino_vits16/0230.pth\n",
      "dict_keys(['k', 'indices', 'file', 'id', 'model_name', 'patch_size', 'shape'])\n",
      "0230\n",
      "Starting Training\n",
      "epoch: 00, loss: -0.48631\n",
      "epoch: 01, loss: -0.66036\n",
      "epoch: 02, loss: -0.70514\n",
      "epoch: 03, loss: -0.71153\n",
      "epoch: 04, loss: -0.70379\n",
      "epoch: 05, loss: -0.68114\n",
      "epoch: 06, loss: -0.72058\n",
      "epoch: 07, loss: -0.71802\n",
      "epoch: 08, loss: -0.70502\n",
      "epoch: 09, loss: -0.70964\n",
      "After Unsqueezing, feature size= torch.Size([450, 1, 1, 384])\n"
     ]
    },
    {
     "name": "stderr",
     "output_type": "stream",
     "text": [
      " 23%|██▎       | 230/1000 [1:13:27<3:49:14, 17.86s/it]"
     ]
    },
    {
     "name": "stdout",
     "output_type": "stream",
     "text": [
      "eigenvalues shape torch.Size([5]) eigenvectors shape torch.Size([5, 450])\n",
      "230 /home/phdcs2/Hard_Disk/Datasets/Deep-Spectral-Segmentation/data/object-segmentation/ECSSD/features/dino_vits16/0231.pth\n",
      "dict_keys(['k', 'indices', 'file', 'id', 'model_name', 'patch_size', 'shape'])\n",
      "0231\n",
      "Starting Training\n",
      "epoch: 00, loss: -0.59892\n",
      "epoch: 01, loss: -0.74362\n",
      "epoch: 02, loss: -0.75654\n",
      "epoch: 03, loss: -0.74644\n",
      "epoch: 04, loss: -0.74658\n",
      "epoch: 05, loss: -0.76151\n",
      "epoch: 06, loss: -0.76509\n",
      "epoch: 07, loss: -0.77576\n",
      "epoch: 08, loss: -0.77496\n",
      "epoch: 09, loss: -0.78737\n",
      "After Unsqueezing, feature size= torch.Size([525, 1, 1, 384])\n"
     ]
    },
    {
     "name": "stderr",
     "output_type": "stream",
     "text": [
      " 23%|██▎       | 231/1000 [1:13:52<4:13:43, 19.80s/it]"
     ]
    },
    {
     "name": "stdout",
     "output_type": "stream",
     "text": [
      "eigenvalues shape torch.Size([5]) eigenvectors shape torch.Size([5, 525])\n",
      "231 /home/phdcs2/Hard_Disk/Datasets/Deep-Spectral-Segmentation/data/object-segmentation/ECSSD/features/dino_vits16/0232.pth\n",
      "dict_keys(['k', 'indices', 'file', 'id', 'model_name', 'patch_size', 'shape'])\n",
      "0232\n",
      "Starting Training\n",
      "epoch: 00, loss: -0.52525\n",
      "epoch: 01, loss: -0.67647\n",
      "epoch: 02, loss: -0.68235\n",
      "epoch: 03, loss: -0.68185\n",
      "epoch: 04, loss: -0.68874\n",
      "epoch: 05, loss: -0.67187\n",
      "epoch: 06, loss: -0.67801\n",
      "epoch: 07, loss: -0.68356\n",
      "epoch: 08, loss: -0.68275\n",
      "epoch: 09, loss: -0.69677\n",
      "After Unsqueezing, feature size= torch.Size([500, 1, 1, 384])\n"
     ]
    },
    {
     "name": "stderr",
     "output_type": "stream",
     "text": [
      " 23%|██▎       | 232/1000 [1:14:15<4:26:42, 20.84s/it]"
     ]
    },
    {
     "name": "stdout",
     "output_type": "stream",
     "text": [
      "eigenvalues shape torch.Size([5]) eigenvectors shape torch.Size([5, 500])\n",
      "232 /home/phdcs2/Hard_Disk/Datasets/Deep-Spectral-Segmentation/data/object-segmentation/ECSSD/features/dino_vits16/0233.pth\n",
      "dict_keys(['k', 'indices', 'file', 'id', 'model_name', 'patch_size', 'shape'])\n",
      "0233\n",
      "Starting Training\n",
      "epoch: 00, loss: -0.50640\n",
      "epoch: 01, loss: -0.63405\n",
      "epoch: 02, loss: -0.66583\n",
      "epoch: 03, loss: -0.68341\n",
      "epoch: 04, loss: -0.70317\n",
      "epoch: 05, loss: -0.70925\n",
      "epoch: 06, loss: -0.72428\n",
      "epoch: 07, loss: -0.73152\n",
      "epoch: 08, loss: -0.72902\n",
      "epoch: 09, loss: -0.71521\n",
      "After Unsqueezing, feature size= torch.Size([475, 1, 1, 384])\n"
     ]
    },
    {
     "name": "stderr",
     "output_type": "stream",
     "text": [
      " 23%|██▎       | 233/1000 [1:14:34<4:19:08, 20.27s/it]"
     ]
    },
    {
     "name": "stdout",
     "output_type": "stream",
     "text": [
      "eigenvalues shape torch.Size([5]) eigenvectors shape torch.Size([5, 475])\n",
      "233 /home/phdcs2/Hard_Disk/Datasets/Deep-Spectral-Segmentation/data/object-segmentation/ECSSD/features/dino_vits16/0234.pth\n",
      "dict_keys(['k', 'indices', 'file', 'id', 'model_name', 'patch_size', 'shape'])\n",
      "0234\n",
      "Starting Training\n",
      "epoch: 00, loss: -0.49610\n",
      "epoch: 01, loss: -0.65335\n",
      "epoch: 02, loss: -0.67027\n",
      "epoch: 03, loss: -0.69624\n",
      "epoch: 04, loss: -0.70306\n",
      "epoch: 05, loss: -0.71551\n",
      "epoch: 06, loss: -0.72700\n",
      "epoch: 07, loss: -0.72812\n",
      "epoch: 08, loss: -0.73897\n",
      "epoch: 09, loss: -0.74970\n",
      "After Unsqueezing, feature size= torch.Size([400, 1, 1, 384])\n"
     ]
    },
    {
     "name": "stderr",
     "output_type": "stream",
     "text": [
      " 23%|██▎       | 234/1000 [1:14:51<4:08:35, 19.47s/it]"
     ]
    },
    {
     "name": "stdout",
     "output_type": "stream",
     "text": [
      "eigenvalues shape torch.Size([5]) eigenvectors shape torch.Size([5, 400])\n",
      "234 /home/phdcs2/Hard_Disk/Datasets/Deep-Spectral-Segmentation/data/object-segmentation/ECSSD/features/dino_vits16/0235.pth\n",
      "dict_keys(['k', 'indices', 'file', 'id', 'model_name', 'patch_size', 'shape'])\n",
      "0235\n",
      "Starting Training\n",
      "epoch: 00, loss: -0.46916\n",
      "epoch: 01, loss: -0.64604\n",
      "epoch: 02, loss: -0.68687\n",
      "epoch: 03, loss: -0.70467\n",
      "epoch: 04, loss: -0.70759\n",
      "epoch: 05, loss: -0.72411\n",
      "epoch: 06, loss: -0.73615\n",
      "epoch: 07, loss: -0.72118\n",
      "epoch: 08, loss: -0.74396\n",
      "epoch: 09, loss: -0.74644\n",
      "After Unsqueezing, feature size= torch.Size([400, 1, 1, 384])\n"
     ]
    },
    {
     "name": "stderr",
     "output_type": "stream",
     "text": [
      " 24%|██▎       | 235/1000 [1:15:09<4:00:17, 18.85s/it]"
     ]
    },
    {
     "name": "stdout",
     "output_type": "stream",
     "text": [
      "eigenvalues shape torch.Size([5]) eigenvectors shape torch.Size([5, 400])\n",
      "235 /home/phdcs2/Hard_Disk/Datasets/Deep-Spectral-Segmentation/data/object-segmentation/ECSSD/features/dino_vits16/0236.pth\n",
      "dict_keys(['k', 'indices', 'file', 'id', 'model_name', 'patch_size', 'shape'])\n",
      "0236\n",
      "Starting Training\n",
      "epoch: 00, loss: -0.48677\n",
      "epoch: 01, loss: -0.63258\n",
      "epoch: 02, loss: -0.64758\n",
      "epoch: 03, loss: -0.65270\n",
      "epoch: 04, loss: -0.65566\n",
      "epoch: 05, loss: -0.65445\n",
      "epoch: 06, loss: -0.66363\n",
      "epoch: 07, loss: -0.69008\n",
      "epoch: 08, loss: -0.70208\n",
      "epoch: 09, loss: -0.70722\n",
      "After Unsqueezing, feature size= torch.Size([400, 1, 1, 384])\n"
     ]
    },
    {
     "name": "stderr",
     "output_type": "stream",
     "text": [
      " 24%|██▎       | 236/1000 [1:15:25<3:50:50, 18.13s/it]"
     ]
    },
    {
     "name": "stdout",
     "output_type": "stream",
     "text": [
      "eigenvalues shape torch.Size([5]) eigenvectors shape torch.Size([5, 400])\n",
      "236 /home/phdcs2/Hard_Disk/Datasets/Deep-Spectral-Segmentation/data/object-segmentation/ECSSD/features/dino_vits16/0237.pth\n",
      "dict_keys(['k', 'indices', 'file', 'id', 'model_name', 'patch_size', 'shape'])\n",
      "0237\n",
      "Starting Training\n",
      "epoch: 00, loss: -0.54051\n",
      "epoch: 01, loss: -0.71820\n",
      "epoch: 02, loss: -0.74104\n",
      "epoch: 03, loss: -0.75868\n",
      "epoch: 04, loss: -0.75693\n",
      "epoch: 05, loss: -0.76314\n",
      "epoch: 06, loss: -0.76593\n",
      "epoch: 07, loss: -0.77790\n",
      "epoch: 08, loss: -0.77534\n",
      "epoch: 09, loss: -0.78763\n",
      "After Unsqueezing, feature size= torch.Size([400, 1, 1, 384])\n"
     ]
    },
    {
     "name": "stderr",
     "output_type": "stream",
     "text": [
      " 24%|██▎       | 237/1000 [1:15:40<3:39:22, 17.25s/it]"
     ]
    },
    {
     "name": "stdout",
     "output_type": "stream",
     "text": [
      "eigenvalues shape torch.Size([5]) eigenvectors shape torch.Size([5, 400])\n",
      "237 /home/phdcs2/Hard_Disk/Datasets/Deep-Spectral-Segmentation/data/object-segmentation/ECSSD/features/dino_vits16/0238.pth\n",
      "dict_keys(['k', 'indices', 'file', 'id', 'model_name', 'patch_size', 'shape'])\n",
      "0238\n",
      "Starting Training\n",
      "epoch: 00, loss: -0.60891\n",
      "epoch: 01, loss: -0.75447\n",
      "epoch: 02, loss: -0.78876\n",
      "epoch: 03, loss: -0.80780\n",
      "epoch: 04, loss: -0.81430\n",
      "epoch: 05, loss: -0.82301\n",
      "epoch: 06, loss: -0.82283\n",
      "epoch: 07, loss: -0.83124\n",
      "epoch: 08, loss: -0.84046\n",
      "epoch: 09, loss: -0.84955\n",
      "After Unsqueezing, feature size= torch.Size([400, 1, 1, 384])\n"
     ]
    },
    {
     "name": "stderr",
     "output_type": "stream",
     "text": [
      " 24%|██▍       | 238/1000 [1:15:59<3:43:30, 17.60s/it]"
     ]
    },
    {
     "name": "stdout",
     "output_type": "stream",
     "text": [
      "eigenvalues shape torch.Size([5]) eigenvectors shape torch.Size([5, 400])\n",
      "238 /home/phdcs2/Hard_Disk/Datasets/Deep-Spectral-Segmentation/data/object-segmentation/ECSSD/features/dino_vits16/0239.pth\n",
      "dict_keys(['k', 'indices', 'file', 'id', 'model_name', 'patch_size', 'shape'])\n",
      "0239\n",
      "Starting Training\n",
      "epoch: 00, loss: -0.56022\n",
      "epoch: 01, loss: -0.73725\n",
      "epoch: 02, loss: -0.74881\n",
      "epoch: 03, loss: -0.77707\n",
      "epoch: 04, loss: -0.78410\n",
      "epoch: 05, loss: -0.78782\n",
      "epoch: 06, loss: -0.79354\n",
      "epoch: 07, loss: -0.79916\n",
      "epoch: 08, loss: -0.80185\n",
      "epoch: 09, loss: -0.80278\n",
      "After Unsqueezing, feature size= torch.Size([400, 1, 1, 384])\n"
     ]
    },
    {
     "name": "stderr",
     "output_type": "stream",
     "text": [
      " 24%|██▍       | 239/1000 [1:16:17<3:44:00, 17.66s/it]"
     ]
    },
    {
     "name": "stdout",
     "output_type": "stream",
     "text": [
      "eigenvalues shape torch.Size([5]) eigenvectors shape torch.Size([5, 400])\n",
      "239 /home/phdcs2/Hard_Disk/Datasets/Deep-Spectral-Segmentation/data/object-segmentation/ECSSD/features/dino_vits16/0240.pth\n",
      "dict_keys(['k', 'indices', 'file', 'id', 'model_name', 'patch_size', 'shape'])\n",
      "0240\n",
      "Starting Training\n",
      "epoch: 00, loss: -0.48110\n",
      "epoch: 01, loss: -0.68529\n",
      "epoch: 02, loss: -0.70500\n",
      "epoch: 03, loss: -0.70930\n",
      "epoch: 04, loss: -0.71771\n",
      "epoch: 05, loss: -0.71613\n",
      "epoch: 06, loss: -0.73178\n",
      "epoch: 07, loss: -0.71669\n",
      "epoch: 08, loss: -0.71606\n",
      "epoch: 09, loss: -0.73053\n",
      "After Unsqueezing, feature size= torch.Size([350, 1, 1, 384])\n"
     ]
    },
    {
     "name": "stderr",
     "output_type": "stream",
     "text": [
      " 24%|██▍       | 240/1000 [1:16:32<3:35:14, 16.99s/it]"
     ]
    },
    {
     "name": "stdout",
     "output_type": "stream",
     "text": [
      "eigenvalues shape torch.Size([5]) eigenvectors shape torch.Size([5, 350])\n",
      "240 /home/phdcs2/Hard_Disk/Datasets/Deep-Spectral-Segmentation/data/object-segmentation/ECSSD/features/dino_vits16/0241.pth\n",
      "dict_keys(['k', 'indices', 'file', 'id', 'model_name', 'patch_size', 'shape'])\n",
      "0241\n",
      "Starting Training\n",
      "epoch: 00, loss: -0.54047\n",
      "epoch: 01, loss: -0.68894\n",
      "epoch: 02, loss: -0.71317\n",
      "epoch: 03, loss: -0.71682\n",
      "epoch: 04, loss: -0.71583\n",
      "epoch: 05, loss: -0.73037\n",
      "epoch: 06, loss: -0.73384\n",
      "epoch: 07, loss: -0.72717\n",
      "epoch: 08, loss: -0.74232\n",
      "epoch: 09, loss: -0.75083\n",
      "After Unsqueezing, feature size= torch.Size([400, 1, 1, 384])\n"
     ]
    },
    {
     "name": "stderr",
     "output_type": "stream",
     "text": [
      " 24%|██▍       | 241/1000 [1:16:49<3:36:08, 17.09s/it]"
     ]
    },
    {
     "name": "stdout",
     "output_type": "stream",
     "text": [
      "eigenvalues shape torch.Size([5]) eigenvectors shape torch.Size([5, 400])\n",
      "241 /home/phdcs2/Hard_Disk/Datasets/Deep-Spectral-Segmentation/data/object-segmentation/ECSSD/features/dino_vits16/0242.pth\n",
      "dict_keys(['k', 'indices', 'file', 'id', 'model_name', 'patch_size', 'shape'])\n",
      "0242\n",
      "Starting Training\n",
      "epoch: 00, loss: -0.45931\n",
      "epoch: 01, loss: -0.61502\n",
      "epoch: 02, loss: -0.65158\n",
      "epoch: 03, loss: -0.65926\n",
      "epoch: 04, loss: -0.66878\n",
      "epoch: 05, loss: -0.66158\n",
      "epoch: 06, loss: -0.66989\n",
      "epoch: 07, loss: -0.67477\n",
      "epoch: 08, loss: -0.68518\n",
      "epoch: 09, loss: -0.67478\n",
      "After Unsqueezing, feature size= torch.Size([325, 1, 1, 384])\n"
     ]
    },
    {
     "name": "stderr",
     "output_type": "stream",
     "text": [
      " 24%|██▍       | 242/1000 [1:17:04<3:24:59, 16.23s/it]"
     ]
    },
    {
     "name": "stdout",
     "output_type": "stream",
     "text": [
      "eigenvalues shape torch.Size([5]) eigenvectors shape torch.Size([5, 325])\n",
      "242 /home/phdcs2/Hard_Disk/Datasets/Deep-Spectral-Segmentation/data/object-segmentation/ECSSD/features/dino_vits16/0243.pth\n",
      "dict_keys(['k', 'indices', 'file', 'id', 'model_name', 'patch_size', 'shape'])\n",
      "0243\n",
      "Starting Training\n",
      "epoch: 00, loss: -0.56692\n",
      "epoch: 01, loss: -0.71110\n",
      "epoch: 02, loss: -0.73836\n",
      "epoch: 03, loss: -0.75276\n",
      "epoch: 04, loss: -0.75949\n",
      "epoch: 05, loss: -0.76698\n",
      "epoch: 06, loss: -0.77102\n",
      "epoch: 07, loss: -0.77088\n",
      "epoch: 08, loss: -0.76974\n",
      "epoch: 09, loss: -0.79136\n",
      "After Unsqueezing, feature size= torch.Size([400, 1, 1, 384])\n"
     ]
    },
    {
     "name": "stderr",
     "output_type": "stream",
     "text": [
      " 24%|██▍       | 243/1000 [1:17:20<3:27:16, 16.43s/it]"
     ]
    },
    {
     "name": "stdout",
     "output_type": "stream",
     "text": [
      "eigenvalues shape torch.Size([5]) eigenvectors shape torch.Size([5, 400])\n",
      "243 /home/phdcs2/Hard_Disk/Datasets/Deep-Spectral-Segmentation/data/object-segmentation/ECSSD/features/dino_vits16/0244.pth\n",
      "dict_keys(['k', 'indices', 'file', 'id', 'model_name', 'patch_size', 'shape'])\n",
      "0244\n",
      "Starting Training\n",
      "epoch: 00, loss: -0.54174\n",
      "epoch: 01, loss: -0.70736\n",
      "epoch: 02, loss: -0.74104\n",
      "epoch: 03, loss: -0.74069\n",
      "epoch: 04, loss: -0.75149\n",
      "epoch: 05, loss: -0.74443\n",
      "epoch: 06, loss: -0.75551\n",
      "epoch: 07, loss: -0.76114\n",
      "epoch: 08, loss: -0.75375\n",
      "epoch: 09, loss: -0.74245\n",
      "After Unsqueezing, feature size= torch.Size([400, 1, 1, 384])\n"
     ]
    },
    {
     "name": "stderr",
     "output_type": "stream",
     "text": [
      " 24%|██▍       | 244/1000 [1:17:39<3:35:17, 17.09s/it]"
     ]
    },
    {
     "name": "stdout",
     "output_type": "stream",
     "text": [
      "eigenvalues shape torch.Size([5]) eigenvectors shape torch.Size([5, 400])\n",
      "244 /home/phdcs2/Hard_Disk/Datasets/Deep-Spectral-Segmentation/data/object-segmentation/ECSSD/features/dino_vits16/0245.pth\n",
      "dict_keys(['k', 'indices', 'file', 'id', 'model_name', 'patch_size', 'shape'])\n",
      "0245\n",
      "Starting Training\n",
      "epoch: 00, loss: -0.54908\n",
      "epoch: 01, loss: -0.69975\n",
      "epoch: 02, loss: -0.71506\n",
      "epoch: 03, loss: -0.72511\n",
      "epoch: 04, loss: -0.72642\n",
      "epoch: 05, loss: -0.73777\n",
      "epoch: 06, loss: -0.74286\n",
      "epoch: 07, loss: -0.74355\n",
      "epoch: 08, loss: -0.74520\n",
      "epoch: 09, loss: -0.74858\n",
      "After Unsqueezing, feature size= torch.Size([400, 1, 1, 384])\n"
     ]
    },
    {
     "name": "stderr",
     "output_type": "stream",
     "text": [
      " 24%|██▍       | 245/1000 [1:18:00<3:49:14, 18.22s/it]"
     ]
    },
    {
     "name": "stdout",
     "output_type": "stream",
     "text": [
      "eigenvalues shape torch.Size([5]) eigenvectors shape torch.Size([5, 400])\n",
      "245 /home/phdcs2/Hard_Disk/Datasets/Deep-Spectral-Segmentation/data/object-segmentation/ECSSD/features/dino_vits16/0246.pth\n",
      "dict_keys(['k', 'indices', 'file', 'id', 'model_name', 'patch_size', 'shape'])\n",
      "0246\n",
      "Starting Training\n",
      "epoch: 00, loss: -0.52372\n",
      "epoch: 01, loss: -0.67131\n",
      "epoch: 02, loss: -0.70980\n",
      "epoch: 03, loss: -0.71203\n",
      "epoch: 04, loss: -0.72319\n",
      "epoch: 05, loss: -0.73089\n",
      "epoch: 06, loss: -0.73260\n",
      "epoch: 07, loss: -0.74821\n",
      "epoch: 08, loss: -0.76397\n",
      "epoch: 09, loss: -0.76333\n",
      "After Unsqueezing, feature size= torch.Size([400, 1, 1, 384])\n"
     ]
    },
    {
     "name": "stderr",
     "output_type": "stream",
     "text": [
      " 25%|██▍       | 246/1000 [1:18:18<3:48:44, 18.20s/it]"
     ]
    },
    {
     "name": "stdout",
     "output_type": "stream",
     "text": [
      "eigenvalues shape torch.Size([5]) eigenvectors shape torch.Size([5, 400])\n",
      "246 /home/phdcs2/Hard_Disk/Datasets/Deep-Spectral-Segmentation/data/object-segmentation/ECSSD/features/dino_vits16/0247.pth\n",
      "dict_keys(['k', 'indices', 'file', 'id', 'model_name', 'patch_size', 'shape'])\n",
      "0247\n",
      "Starting Training\n",
      "epoch: 00, loss: -0.51168\n",
      "epoch: 01, loss: -0.66211\n",
      "epoch: 02, loss: -0.69188\n",
      "epoch: 03, loss: -0.70429\n",
      "epoch: 04, loss: -0.71489\n",
      "epoch: 05, loss: -0.71185\n",
      "epoch: 06, loss: -0.72330\n",
      "epoch: 07, loss: -0.73047\n",
      "epoch: 08, loss: -0.73886\n",
      "epoch: 09, loss: -0.74058\n",
      "After Unsqueezing, feature size= torch.Size([400, 1, 1, 384])\n"
     ]
    },
    {
     "name": "stderr",
     "output_type": "stream",
     "text": [
      " 25%|██▍       | 247/1000 [1:18:35<3:44:12, 17.87s/it]"
     ]
    },
    {
     "name": "stdout",
     "output_type": "stream",
     "text": [
      "eigenvalues shape torch.Size([5]) eigenvectors shape torch.Size([5, 400])\n",
      "247 /home/phdcs2/Hard_Disk/Datasets/Deep-Spectral-Segmentation/data/object-segmentation/ECSSD/features/dino_vits16/0248.pth\n",
      "dict_keys(['k', 'indices', 'file', 'id', 'model_name', 'patch_size', 'shape'])\n",
      "0248\n",
      "Starting Training\n",
      "epoch: 00, loss: -0.49296\n",
      "epoch: 01, loss: -0.63162\n",
      "epoch: 02, loss: -0.65114\n",
      "epoch: 03, loss: -0.65560\n",
      "epoch: 04, loss: -0.67881\n",
      "epoch: 05, loss: -0.67715\n",
      "epoch: 06, loss: -0.67925\n",
      "epoch: 07, loss: -0.68551\n",
      "epoch: 08, loss: -0.70084\n",
      "epoch: 09, loss: -0.70919\n",
      "After Unsqueezing, feature size= torch.Size([450, 1, 1, 384])\n"
     ]
    },
    {
     "name": "stderr",
     "output_type": "stream",
     "text": [
      " 25%|██▍       | 248/1000 [1:18:56<3:56:15, 18.85s/it]"
     ]
    },
    {
     "name": "stdout",
     "output_type": "stream",
     "text": [
      "eigenvalues shape torch.Size([5]) eigenvectors shape torch.Size([5, 450])\n",
      "248 /home/phdcs2/Hard_Disk/Datasets/Deep-Spectral-Segmentation/data/object-segmentation/ECSSD/features/dino_vits16/0249.pth\n",
      "dict_keys(['k', 'indices', 'file', 'id', 'model_name', 'patch_size', 'shape'])\n",
      "0249\n",
      "Starting Training\n",
      "epoch: 00, loss: -0.49883\n",
      "epoch: 01, loss: -0.65608\n",
      "epoch: 02, loss: -0.67290\n",
      "epoch: 03, loss: -0.70261\n",
      "epoch: 04, loss: -0.69433\n",
      "epoch: 05, loss: -0.71012\n",
      "epoch: 06, loss: -0.72142\n",
      "epoch: 07, loss: -0.72020\n",
      "epoch: 08, loss: -0.71564\n",
      "epoch: 09, loss: -0.70051\n",
      "After Unsqueezing, feature size= torch.Size([425, 1, 1, 384])\n"
     ]
    },
    {
     "name": "stderr",
     "output_type": "stream",
     "text": [
      " 25%|██▍       | 249/1000 [1:19:17<4:02:33, 19.38s/it]"
     ]
    },
    {
     "name": "stdout",
     "output_type": "stream",
     "text": [
      "eigenvalues shape torch.Size([5]) eigenvectors shape torch.Size([5, 425])\n",
      "249 /home/phdcs2/Hard_Disk/Datasets/Deep-Spectral-Segmentation/data/object-segmentation/ECSSD/features/dino_vits16/0250.pth\n",
      "dict_keys(['k', 'indices', 'file', 'id', 'model_name', 'patch_size', 'shape'])\n",
      "0250\n",
      "Starting Training\n",
      "epoch: 00, loss: -0.52940\n",
      "epoch: 01, loss: -0.70415\n",
      "epoch: 02, loss: -0.71667\n",
      "epoch: 03, loss: -0.73286\n",
      "epoch: 04, loss: -0.73646\n",
      "epoch: 05, loss: -0.74424\n",
      "epoch: 06, loss: -0.73963\n",
      "epoch: 07, loss: -0.75309\n",
      "epoch: 08, loss: -0.76114\n",
      "epoch: 09, loss: -0.76286\n",
      "After Unsqueezing, feature size= torch.Size([400, 1, 1, 384])\n"
     ]
    },
    {
     "name": "stderr",
     "output_type": "stream",
     "text": [
      " 25%|██▌       | 250/1000 [1:19:37<4:04:38, 19.57s/it]"
     ]
    },
    {
     "name": "stdout",
     "output_type": "stream",
     "text": [
      "eigenvalues shape torch.Size([5]) eigenvectors shape torch.Size([5, 400])\n",
      "250 /home/phdcs2/Hard_Disk/Datasets/Deep-Spectral-Segmentation/data/object-segmentation/ECSSD/features/dino_vits16/0251.pth\n",
      "dict_keys(['k', 'indices', 'file', 'id', 'model_name', 'patch_size', 'shape'])\n",
      "0251\n",
      "Starting Training\n",
      "epoch: 00, loss: -0.54605\n",
      "epoch: 01, loss: -0.69752\n",
      "epoch: 02, loss: -0.71791\n",
      "epoch: 03, loss: -0.72942\n",
      "epoch: 04, loss: -0.74955\n",
      "epoch: 05, loss: -0.76126\n",
      "epoch: 06, loss: -0.77230\n",
      "epoch: 07, loss: -0.77610\n",
      "epoch: 08, loss: -0.75610\n",
      "epoch: 09, loss: -0.73610\n",
      "After Unsqueezing, feature size= torch.Size([450, 1, 1, 384])\n"
     ]
    },
    {
     "name": "stderr",
     "output_type": "stream",
     "text": [
      " 25%|██▌       | 251/1000 [1:19:58<4:09:46, 20.01s/it]"
     ]
    },
    {
     "name": "stdout",
     "output_type": "stream",
     "text": [
      "eigenvalues shape torch.Size([5]) eigenvectors shape torch.Size([5, 450])\n",
      "251 /home/phdcs2/Hard_Disk/Datasets/Deep-Spectral-Segmentation/data/object-segmentation/ECSSD/features/dino_vits16/0252.pth\n",
      "dict_keys(['k', 'indices', 'file', 'id', 'model_name', 'patch_size', 'shape'])\n",
      "0252\n",
      "Starting Training\n",
      "epoch: 00, loss: -0.58172\n",
      "epoch: 01, loss: -0.72931\n",
      "epoch: 02, loss: -0.74589\n",
      "epoch: 03, loss: -0.75246\n",
      "epoch: 04, loss: -0.76030\n",
      "epoch: 05, loss: -0.76273\n",
      "epoch: 06, loss: -0.77283\n",
      "epoch: 07, loss: -0.77610\n",
      "epoch: 08, loss: -0.77841\n",
      "epoch: 09, loss: -0.77171\n",
      "After Unsqueezing, feature size= torch.Size([450, 1, 1, 384])\n"
     ]
    },
    {
     "name": "stderr",
     "output_type": "stream",
     "text": [
      " 25%|██▌       | 252/1000 [1:20:19<4:12:32, 20.26s/it]"
     ]
    },
    {
     "name": "stdout",
     "output_type": "stream",
     "text": [
      "eigenvalues shape torch.Size([5]) eigenvectors shape torch.Size([5, 450])\n",
      "252 /home/phdcs2/Hard_Disk/Datasets/Deep-Spectral-Segmentation/data/object-segmentation/ECSSD/features/dino_vits16/0253.pth\n",
      "dict_keys(['k', 'indices', 'file', 'id', 'model_name', 'patch_size', 'shape'])\n",
      "0253\n",
      "Starting Training\n",
      "epoch: 00, loss: -0.54585\n",
      "epoch: 01, loss: -0.68656\n",
      "epoch: 02, loss: -0.70434\n",
      "epoch: 03, loss: -0.72637\n",
      "epoch: 04, loss: -0.73965\n",
      "epoch: 05, loss: -0.74385\n",
      "epoch: 06, loss: -0.74977\n",
      "epoch: 07, loss: -0.76156\n",
      "epoch: 08, loss: -0.76714\n",
      "epoch: 09, loss: -0.78812\n",
      "After Unsqueezing, feature size= torch.Size([450, 1, 1, 384])\n"
     ]
    },
    {
     "name": "stderr",
     "output_type": "stream",
     "text": [
      " 25%|██▌       | 253/1000 [1:20:40<4:16:11, 20.58s/it]"
     ]
    },
    {
     "name": "stdout",
     "output_type": "stream",
     "text": [
      "eigenvalues shape torch.Size([5]) eigenvectors shape torch.Size([5, 450])\n",
      "253 /home/phdcs2/Hard_Disk/Datasets/Deep-Spectral-Segmentation/data/object-segmentation/ECSSD/features/dino_vits16/0254.pth\n",
      "dict_keys(['k', 'indices', 'file', 'id', 'model_name', 'patch_size', 'shape'])\n",
      "0254\n",
      "Starting Training\n",
      "epoch: 00, loss: -0.58943\n",
      "epoch: 01, loss: -0.70803\n",
      "epoch: 02, loss: -0.71986\n",
      "epoch: 03, loss: -0.73484\n",
      "epoch: 04, loss: -0.74380\n",
      "epoch: 05, loss: -0.73974\n",
      "epoch: 06, loss: -0.73769\n",
      "epoch: 07, loss: -0.73419\n",
      "epoch: 08, loss: -0.74904\n",
      "epoch: 09, loss: -0.76323\n",
      "After Unsqueezing, feature size= torch.Size([525, 1, 1, 384])\n"
     ]
    },
    {
     "name": "stderr",
     "output_type": "stream",
     "text": [
      " 25%|██▌       | 254/1000 [1:21:05<4:32:59, 21.96s/it]"
     ]
    },
    {
     "name": "stdout",
     "output_type": "stream",
     "text": [
      "eigenvalues shape torch.Size([5]) eigenvectors shape torch.Size([5, 525])\n",
      "254 /home/phdcs2/Hard_Disk/Datasets/Deep-Spectral-Segmentation/data/object-segmentation/ECSSD/features/dino_vits16/0255.pth\n",
      "dict_keys(['k', 'indices', 'file', 'id', 'model_name', 'patch_size', 'shape'])\n",
      "0255\n",
      "Starting Training\n",
      "epoch: 00, loss: -0.65441\n",
      "epoch: 01, loss: -0.76915\n",
      "epoch: 02, loss: -0.76075\n",
      "epoch: 03, loss: -0.76261\n",
      "epoch: 04, loss: -0.75812\n",
      "epoch: 05, loss: -0.75828\n",
      "epoch: 06, loss: -0.76553\n",
      "epoch: 07, loss: -0.77527\n",
      "epoch: 08, loss: -0.77086\n",
      "epoch: 09, loss: -0.75847\n",
      "After Unsqueezing, feature size= torch.Size([575, 1, 1, 384])\n"
     ]
    },
    {
     "name": "stderr",
     "output_type": "stream",
     "text": [
      " 26%|██▌       | 255/1000 [1:21:31<4:47:56, 23.19s/it]"
     ]
    },
    {
     "name": "stdout",
     "output_type": "stream",
     "text": [
      "eigenvalues shape torch.Size([5]) eigenvectors shape torch.Size([5, 575])\n",
      "255 /home/phdcs2/Hard_Disk/Datasets/Deep-Spectral-Segmentation/data/object-segmentation/ECSSD/features/dino_vits16/0256.pth\n",
      "dict_keys(['k', 'indices', 'file', 'id', 'model_name', 'patch_size', 'shape'])\n",
      "0256\n",
      "Starting Training\n",
      "epoch: 00, loss: -0.61753\n",
      "epoch: 01, loss: -0.78920\n",
      "epoch: 02, loss: -0.81495\n",
      "epoch: 03, loss: -0.83341\n",
      "epoch: 04, loss: -0.84255\n",
      "epoch: 05, loss: -0.84488\n",
      "epoch: 06, loss: -0.85351\n",
      "epoch: 07, loss: -0.86309\n",
      "epoch: 08, loss: -0.85890\n",
      "epoch: 09, loss: -0.86317\n",
      "After Unsqueezing, feature size= torch.Size([375, 1, 1, 384])\n"
     ]
    },
    {
     "name": "stderr",
     "output_type": "stream",
     "text": [
      " 26%|██▌       | 256/1000 [1:21:47<4:20:00, 20.97s/it]"
     ]
    },
    {
     "name": "stdout",
     "output_type": "stream",
     "text": [
      "eigenvalues shape torch.Size([5]) eigenvectors shape torch.Size([5, 375])\n",
      "256 /home/phdcs2/Hard_Disk/Datasets/Deep-Spectral-Segmentation/data/object-segmentation/ECSSD/features/dino_vits16/0257.pth\n",
      "dict_keys(['k', 'indices', 'file', 'id', 'model_name', 'patch_size', 'shape'])\n",
      "0257\n",
      "Starting Training\n",
      "epoch: 00, loss: -0.50704\n",
      "epoch: 01, loss: -0.66819\n",
      "epoch: 02, loss: -0.68430\n",
      "epoch: 03, loss: -0.69810\n",
      "epoch: 04, loss: -0.70532\n",
      "epoch: 05, loss: -0.71603\n",
      "epoch: 06, loss: -0.72120\n",
      "epoch: 07, loss: -0.71000\n",
      "epoch: 08, loss: -0.72563\n",
      "epoch: 09, loss: -0.72318\n",
      "After Unsqueezing, feature size= torch.Size([475, 1, 1, 384])\n"
     ]
    },
    {
     "name": "stderr",
     "output_type": "stream",
     "text": [
      " 26%|██▌       | 257/1000 [1:22:07<4:15:26, 20.63s/it]"
     ]
    },
    {
     "name": "stdout",
     "output_type": "stream",
     "text": [
      "eigenvalues shape torch.Size([5]) eigenvectors shape torch.Size([5, 475])\n",
      "257 /home/phdcs2/Hard_Disk/Datasets/Deep-Spectral-Segmentation/data/object-segmentation/ECSSD/features/dino_vits16/0258.pth\n",
      "dict_keys(['k', 'indices', 'file', 'id', 'model_name', 'patch_size', 'shape'])\n",
      "0258\n",
      "Starting Training\n",
      "epoch: 00, loss: -0.55395\n",
      "epoch: 01, loss: -0.70685\n",
      "epoch: 02, loss: -0.75046\n",
      "epoch: 03, loss: -0.77859\n",
      "epoch: 04, loss: -0.78399\n",
      "epoch: 05, loss: -0.78358\n",
      "epoch: 06, loss: -0.79099\n",
      "epoch: 07, loss: -0.79245\n",
      "epoch: 08, loss: -0.80171\n",
      "epoch: 09, loss: -0.80622\n",
      "After Unsqueezing, feature size= torch.Size([400, 1, 1, 384])\n"
     ]
    },
    {
     "name": "stderr",
     "output_type": "stream",
     "text": [
      " 26%|██▌       | 258/1000 [1:22:23<3:59:03, 19.33s/it]"
     ]
    },
    {
     "name": "stdout",
     "output_type": "stream",
     "text": [
      "eigenvalues shape torch.Size([5]) eigenvectors shape torch.Size([5, 400])\n",
      "258 /home/phdcs2/Hard_Disk/Datasets/Deep-Spectral-Segmentation/data/object-segmentation/ECSSD/features/dino_vits16/0259.pth\n",
      "dict_keys(['k', 'indices', 'file', 'id', 'model_name', 'patch_size', 'shape'])\n",
      "0259\n",
      "Starting Training\n",
      "epoch: 00, loss: -0.56895\n",
      "epoch: 01, loss: -0.69947\n",
      "epoch: 02, loss: -0.71635\n",
      "epoch: 03, loss: -0.73228\n",
      "epoch: 04, loss: -0.74277\n",
      "epoch: 05, loss: -0.74869\n",
      "epoch: 06, loss: -0.75832\n",
      "epoch: 07, loss: -0.76372\n",
      "epoch: 08, loss: -0.77362\n",
      "epoch: 09, loss: -0.77172\n",
      "After Unsqueezing, feature size= torch.Size([450, 1, 1, 384])\n"
     ]
    },
    {
     "name": "stderr",
     "output_type": "stream",
     "text": [
      " 26%|██▌       | 259/1000 [1:22:45<4:06:09, 19.93s/it]"
     ]
    },
    {
     "name": "stdout",
     "output_type": "stream",
     "text": [
      "eigenvalues shape torch.Size([5]) eigenvectors shape torch.Size([5, 450])\n",
      "259 /home/phdcs2/Hard_Disk/Datasets/Deep-Spectral-Segmentation/data/object-segmentation/ECSSD/features/dino_vits16/0260.pth\n",
      "dict_keys(['k', 'indices', 'file', 'id', 'model_name', 'patch_size', 'shape'])\n",
      "0260\n",
      "Starting Training\n",
      "epoch: 00, loss: -0.59615\n",
      "epoch: 01, loss: -0.74396\n",
      "epoch: 02, loss: -0.74930\n",
      "epoch: 03, loss: -0.77612\n",
      "epoch: 04, loss: -0.78726\n",
      "epoch: 05, loss: -0.80434\n",
      "epoch: 06, loss: -0.81134\n",
      "epoch: 07, loss: -0.81551\n",
      "epoch: 08, loss: -0.80413\n",
      "epoch: 09, loss: -0.81408\n",
      "After Unsqueezing, feature size= torch.Size([450, 1, 1, 384])\n"
     ]
    },
    {
     "name": "stderr",
     "output_type": "stream",
     "text": [
      " 26%|██▌       | 260/1000 [1:23:06<4:09:36, 20.24s/it]"
     ]
    },
    {
     "name": "stdout",
     "output_type": "stream",
     "text": [
      "eigenvalues shape torch.Size([5]) eigenvectors shape torch.Size([5, 450])\n",
      "260 /home/phdcs2/Hard_Disk/Datasets/Deep-Spectral-Segmentation/data/object-segmentation/ECSSD/features/dino_vits16/0261.pth\n",
      "dict_keys(['k', 'indices', 'file', 'id', 'model_name', 'patch_size', 'shape'])\n",
      "0261\n",
      "Starting Training\n",
      "epoch: 00, loss: -0.53197\n",
      "epoch: 01, loss: -0.68079\n",
      "epoch: 02, loss: -0.68877\n",
      "epoch: 03, loss: -0.70496\n",
      "epoch: 04, loss: -0.73323\n",
      "epoch: 05, loss: -0.73117\n",
      "epoch: 06, loss: -0.74341\n",
      "epoch: 07, loss: -0.74294\n",
      "epoch: 08, loss: -0.75334\n",
      "epoch: 09, loss: -0.74748\n",
      "After Unsqueezing, feature size= torch.Size([400, 1, 1, 384])\n"
     ]
    },
    {
     "name": "stderr",
     "output_type": "stream",
     "text": [
      " 26%|██▌       | 261/1000 [1:23:25<4:05:28, 19.93s/it]"
     ]
    },
    {
     "name": "stdout",
     "output_type": "stream",
     "text": [
      "eigenvalues shape torch.Size([5]) eigenvectors shape torch.Size([5, 400])\n",
      "261 /home/phdcs2/Hard_Disk/Datasets/Deep-Spectral-Segmentation/data/object-segmentation/ECSSD/features/dino_vits16/0262.pth\n",
      "dict_keys(['k', 'indices', 'file', 'id', 'model_name', 'patch_size', 'shape'])\n",
      "0262\n",
      "Starting Training\n",
      "epoch: 00, loss: -0.52126\n",
      "epoch: 01, loss: -0.66170\n",
      "epoch: 02, loss: -0.68846\n",
      "epoch: 03, loss: -0.68103\n",
      "epoch: 04, loss: -0.67818\n",
      "epoch: 05, loss: -0.68300\n",
      "epoch: 06, loss: -0.69768\n",
      "epoch: 07, loss: -0.71326\n",
      "epoch: 08, loss: -0.70380\n",
      "epoch: 09, loss: -0.72446\n",
      "After Unsqueezing, feature size= torch.Size([450, 1, 1, 384])\n"
     ]
    },
    {
     "name": "stderr",
     "output_type": "stream",
     "text": [
      " 26%|██▌       | 262/1000 [1:23:48<4:16:24, 20.85s/it]"
     ]
    },
    {
     "name": "stdout",
     "output_type": "stream",
     "text": [
      "eigenvalues shape torch.Size([5]) eigenvectors shape torch.Size([5, 450])\n",
      "262 /home/phdcs2/Hard_Disk/Datasets/Deep-Spectral-Segmentation/data/object-segmentation/ECSSD/features/dino_vits16/0263.pth\n",
      "dict_keys(['k', 'indices', 'file', 'id', 'model_name', 'patch_size', 'shape'])\n",
      "0263\n",
      "Starting Training\n",
      "epoch: 00, loss: -0.55355\n",
      "epoch: 01, loss: -0.71564\n",
      "epoch: 02, loss: -0.74229\n",
      "epoch: 03, loss: -0.76005\n",
      "epoch: 04, loss: -0.76553\n",
      "epoch: 05, loss: -0.75911\n",
      "epoch: 06, loss: -0.76813\n",
      "epoch: 07, loss: -0.77345\n",
      "epoch: 08, loss: -0.78604\n",
      "epoch: 09, loss: -0.79638\n",
      "After Unsqueezing, feature size= torch.Size([450, 1, 1, 384])\n"
     ]
    },
    {
     "name": "stderr",
     "output_type": "stream",
     "text": [
      " 26%|██▋       | 263/1000 [1:24:09<4:17:52, 20.99s/it]"
     ]
    },
    {
     "name": "stdout",
     "output_type": "stream",
     "text": [
      "eigenvalues shape torch.Size([5]) eigenvectors shape torch.Size([5, 450])\n",
      "263 /home/phdcs2/Hard_Disk/Datasets/Deep-Spectral-Segmentation/data/object-segmentation/ECSSD/features/dino_vits16/0264.pth\n",
      "dict_keys(['k', 'indices', 'file', 'id', 'model_name', 'patch_size', 'shape'])\n",
      "0264\n",
      "Starting Training\n",
      "epoch: 00, loss: -0.50893\n",
      "epoch: 01, loss: -0.67775\n",
      "epoch: 02, loss: -0.68735\n",
      "epoch: 03, loss: -0.70642\n",
      "epoch: 04, loss: -0.71316\n",
      "epoch: 05, loss: -0.73203\n",
      "epoch: 06, loss: -0.76111\n",
      "epoch: 07, loss: -0.75613\n",
      "epoch: 08, loss: -0.75707\n",
      "epoch: 09, loss: -0.75208\n",
      "After Unsqueezing, feature size= torch.Size([400, 1, 1, 384])\n"
     ]
    },
    {
     "name": "stderr",
     "output_type": "stream",
     "text": [
      " 26%|██▋       | 264/1000 [1:24:28<4:09:40, 20.35s/it]"
     ]
    },
    {
     "name": "stdout",
     "output_type": "stream",
     "text": [
      "eigenvalues shape torch.Size([5]) eigenvectors shape torch.Size([5, 400])\n",
      "264 /home/phdcs2/Hard_Disk/Datasets/Deep-Spectral-Segmentation/data/object-segmentation/ECSSD/features/dino_vits16/0265.pth\n",
      "dict_keys(['k', 'indices', 'file', 'id', 'model_name', 'patch_size', 'shape'])\n",
      "0265\n",
      "Starting Training\n",
      "epoch: 00, loss: -0.53405\n",
      "epoch: 01, loss: -0.66365\n",
      "epoch: 02, loss: -0.66837\n",
      "epoch: 03, loss: -0.68858\n",
      "epoch: 04, loss: -0.69637\n",
      "epoch: 05, loss: -0.70780\n",
      "epoch: 06, loss: -0.70979\n",
      "epoch: 07, loss: -0.71463\n",
      "epoch: 08, loss: -0.70656\n",
      "epoch: 09, loss: -0.71968\n",
      "After Unsqueezing, feature size= torch.Size([525, 1, 1, 384])\n"
     ]
    },
    {
     "name": "stderr",
     "output_type": "stream",
     "text": [
      " 26%|██▋       | 265/1000 [1:24:51<4:18:08, 21.07s/it]"
     ]
    },
    {
     "name": "stdout",
     "output_type": "stream",
     "text": [
      "eigenvalues shape torch.Size([5]) eigenvectors shape torch.Size([5, 525])\n",
      "265 /home/phdcs2/Hard_Disk/Datasets/Deep-Spectral-Segmentation/data/object-segmentation/ECSSD/features/dino_vits16/0266.pth\n",
      "dict_keys(['k', 'indices', 'file', 'id', 'model_name', 'patch_size', 'shape'])\n",
      "0266\n",
      "Starting Training\n",
      "epoch: 00, loss: -0.56049\n",
      "epoch: 01, loss: -0.71957\n",
      "epoch: 02, loss: -0.73364\n",
      "epoch: 03, loss: -0.75760\n",
      "epoch: 04, loss: -0.75811\n",
      "epoch: 05, loss: -0.75797\n",
      "epoch: 06, loss: -0.76866\n",
      "epoch: 07, loss: -0.75942\n",
      "epoch: 08, loss: -0.76690\n",
      "epoch: 09, loss: -0.76732\n",
      "After Unsqueezing, feature size= torch.Size([425, 1, 1, 384])\n"
     ]
    },
    {
     "name": "stderr",
     "output_type": "stream",
     "text": [
      " 27%|██▋       | 266/1000 [1:25:12<4:17:35, 21.06s/it]"
     ]
    },
    {
     "name": "stdout",
     "output_type": "stream",
     "text": [
      "eigenvalues shape torch.Size([5]) eigenvectors shape torch.Size([5, 425])\n",
      "266 /home/phdcs2/Hard_Disk/Datasets/Deep-Spectral-Segmentation/data/object-segmentation/ECSSD/features/dino_vits16/0267.pth\n",
      "dict_keys(['k', 'indices', 'file', 'id', 'model_name', 'patch_size', 'shape'])\n",
      "0267\n",
      "Starting Training\n",
      "epoch: 00, loss: -0.46833\n",
      "epoch: 01, loss: -0.62097\n",
      "epoch: 02, loss: -0.63256\n",
      "epoch: 03, loss: -0.64713\n",
      "epoch: 04, loss: -0.67410\n",
      "epoch: 05, loss: -0.67206\n",
      "epoch: 06, loss: -0.67325\n",
      "epoch: 07, loss: -0.67131\n",
      "epoch: 08, loss: -0.66328\n",
      "epoch: 09, loss: -0.66792\n",
      "After Unsqueezing, feature size= torch.Size([400, 1, 1, 384])\n"
     ]
    },
    {
     "name": "stderr",
     "output_type": "stream",
     "text": [
      " 27%|██▋       | 267/1000 [1:25:26<3:50:35, 18.88s/it]"
     ]
    },
    {
     "name": "stdout",
     "output_type": "stream",
     "text": [
      "eigenvalues shape torch.Size([5]) eigenvectors shape torch.Size([5, 400])\n",
      "267 /home/phdcs2/Hard_Disk/Datasets/Deep-Spectral-Segmentation/data/object-segmentation/ECSSD/features/dino_vits16/0268.pth\n",
      "dict_keys(['k', 'indices', 'file', 'id', 'model_name', 'patch_size', 'shape'])\n",
      "0268\n",
      "Starting Training\n",
      "epoch: 00, loss: -0.55965\n",
      "epoch: 01, loss: -0.68742\n",
      "epoch: 02, loss: -0.71037\n",
      "epoch: 03, loss: -0.72750\n",
      "epoch: 04, loss: -0.74126\n",
      "epoch: 05, loss: -0.75349\n",
      "epoch: 06, loss: -0.75972\n",
      "epoch: 07, loss: -0.77818\n",
      "epoch: 08, loss: -0.78420\n",
      "epoch: 09, loss: -0.78872\n",
      "After Unsqueezing, feature size= torch.Size([600, 1, 1, 384])\n"
     ]
    },
    {
     "name": "stderr",
     "output_type": "stream",
     "text": [
      " 27%|██▋       | 268/1000 [1:25:52<4:16:39, 21.04s/it]"
     ]
    },
    {
     "name": "stdout",
     "output_type": "stream",
     "text": [
      "eigenvalues shape torch.Size([5]) eigenvectors shape torch.Size([5, 600])\n",
      "268 /home/phdcs2/Hard_Disk/Datasets/Deep-Spectral-Segmentation/data/object-segmentation/ECSSD/features/dino_vits16/0269.pth\n",
      "dict_keys(['k', 'indices', 'file', 'id', 'model_name', 'patch_size', 'shape'])\n",
      "0269\n",
      "Starting Training\n",
      "epoch: 00, loss: -0.53707\n",
      "epoch: 01, loss: -0.66761\n",
      "epoch: 02, loss: -0.70923\n",
      "epoch: 03, loss: -0.72798\n",
      "epoch: 04, loss: -0.73583\n",
      "epoch: 05, loss: -0.73576\n",
      "epoch: 06, loss: -0.74471\n",
      "epoch: 07, loss: -0.75030\n",
      "epoch: 08, loss: -0.75917\n",
      "epoch: 09, loss: -0.76232\n",
      "After Unsqueezing, feature size= torch.Size([400, 1, 1, 384])\n"
     ]
    },
    {
     "name": "stderr",
     "output_type": "stream",
     "text": [
      " 27%|██▋       | 269/1000 [1:26:08<3:58:22, 19.57s/it]"
     ]
    },
    {
     "name": "stdout",
     "output_type": "stream",
     "text": [
      "eigenvalues shape torch.Size([5]) eigenvectors shape torch.Size([5, 400])\n",
      "269 /home/phdcs2/Hard_Disk/Datasets/Deep-Spectral-Segmentation/data/object-segmentation/ECSSD/features/dino_vits16/0270.pth\n",
      "dict_keys(['k', 'indices', 'file', 'id', 'model_name', 'patch_size', 'shape'])\n",
      "0270\n",
      "Starting Training\n",
      "epoch: 00, loss: -0.57808\n",
      "epoch: 01, loss: -0.75853\n",
      "epoch: 02, loss: -0.78462\n",
      "epoch: 03, loss: -0.79442\n",
      "epoch: 04, loss: -0.78519\n",
      "epoch: 05, loss: -0.78432\n",
      "epoch: 06, loss: -0.79268\n",
      "epoch: 07, loss: -0.80439\n",
      "epoch: 08, loss: -0.81686\n",
      "epoch: 09, loss: -0.82965\n",
      "After Unsqueezing, feature size= torch.Size([375, 1, 1, 384])\n"
     ]
    },
    {
     "name": "stderr",
     "output_type": "stream",
     "text": [
      " 27%|██▋       | 270/1000 [1:26:24<3:46:51, 18.65s/it]"
     ]
    },
    {
     "name": "stdout",
     "output_type": "stream",
     "text": [
      "eigenvalues shape torch.Size([5]) eigenvectors shape torch.Size([5, 375])\n",
      "270 /home/phdcs2/Hard_Disk/Datasets/Deep-Spectral-Segmentation/data/object-segmentation/ECSSD/features/dino_vits16/0271.pth\n",
      "dict_keys(['k', 'indices', 'file', 'id', 'model_name', 'patch_size', 'shape'])\n",
      "0271\n",
      "Starting Training\n",
      "epoch: 00, loss: -0.60468\n",
      "epoch: 01, loss: -0.74699\n",
      "epoch: 02, loss: -0.76643\n",
      "epoch: 03, loss: -0.77682\n",
      "epoch: 04, loss: -0.78860\n",
      "epoch: 05, loss: -0.79184\n",
      "epoch: 06, loss: -0.79374\n",
      "epoch: 07, loss: -0.80097\n",
      "epoch: 08, loss: -0.80610\n",
      "epoch: 09, loss: -0.80825\n",
      "After Unsqueezing, feature size= torch.Size([450, 1, 1, 384])\n"
     ]
    },
    {
     "name": "stderr",
     "output_type": "stream",
     "text": [
      " 27%|██▋       | 271/1000 [1:26:40<3:36:57, 17.86s/it]"
     ]
    },
    {
     "name": "stdout",
     "output_type": "stream",
     "text": [
      "eigenvalues shape torch.Size([5]) eigenvectors shape torch.Size([5, 450])\n",
      "271 /home/phdcs2/Hard_Disk/Datasets/Deep-Spectral-Segmentation/data/object-segmentation/ECSSD/features/dino_vits16/0272.pth\n",
      "dict_keys(['k', 'indices', 'file', 'id', 'model_name', 'patch_size', 'shape'])\n",
      "0272\n",
      "Starting Training\n",
      "epoch: 00, loss: -0.64426\n",
      "epoch: 01, loss: -0.77334\n",
      "epoch: 02, loss: -0.79253\n",
      "epoch: 03, loss: -0.80670\n",
      "epoch: 04, loss: -0.80927\n",
      "epoch: 05, loss: -0.81301\n",
      "epoch: 06, loss: -0.81618\n",
      "epoch: 07, loss: -0.81874\n",
      "epoch: 08, loss: -0.82377\n",
      "epoch: 09, loss: -0.83012\n",
      "After Unsqueezing, feature size= torch.Size([500, 1, 1, 384])\n"
     ]
    },
    {
     "name": "stderr",
     "output_type": "stream",
     "text": [
      " 27%|██▋       | 272/1000 [1:27:01<3:48:12, 18.81s/it]"
     ]
    },
    {
     "name": "stdout",
     "output_type": "stream",
     "text": [
      "eigenvalues shape torch.Size([5]) eigenvectors shape torch.Size([5, 500])\n",
      "272 /home/phdcs2/Hard_Disk/Datasets/Deep-Spectral-Segmentation/data/object-segmentation/ECSSD/features/dino_vits16/0273.pth\n",
      "dict_keys(['k', 'indices', 'file', 'id', 'model_name', 'patch_size', 'shape'])\n",
      "0273\n",
      "Starting Training\n",
      "epoch: 00, loss: -0.55965\n",
      "epoch: 01, loss: -0.68736\n",
      "epoch: 02, loss: -0.69956\n",
      "epoch: 03, loss: -0.72382\n",
      "epoch: 04, loss: -0.73752\n",
      "epoch: 05, loss: -0.72870\n",
      "epoch: 06, loss: -0.74666\n",
      "epoch: 07, loss: -0.75158\n",
      "epoch: 08, loss: -0.76040\n",
      "epoch: 09, loss: -0.75082\n",
      "After Unsqueezing, feature size= torch.Size([400, 1, 1, 384])\n"
     ]
    },
    {
     "name": "stderr",
     "output_type": "stream",
     "text": [
      " 27%|██▋       | 273/1000 [1:27:19<3:44:28, 18.53s/it]"
     ]
    },
    {
     "name": "stdout",
     "output_type": "stream",
     "text": [
      "eigenvalues shape torch.Size([5]) eigenvectors shape torch.Size([5, 400])\n",
      "273 /home/phdcs2/Hard_Disk/Datasets/Deep-Spectral-Segmentation/data/object-segmentation/ECSSD/features/dino_vits16/0274.pth\n",
      "dict_keys(['k', 'indices', 'file', 'id', 'model_name', 'patch_size', 'shape'])\n",
      "0274\n",
      "Starting Training\n",
      "epoch: 00, loss: -0.52321\n",
      "epoch: 01, loss: -0.66113\n",
      "epoch: 02, loss: -0.69076\n",
      "epoch: 03, loss: -0.69457\n",
      "epoch: 04, loss: -0.69891\n",
      "epoch: 05, loss: -0.69571\n",
      "epoch: 06, loss: -0.70928\n",
      "epoch: 07, loss: -0.70468\n",
      "epoch: 08, loss: -0.73803\n",
      "epoch: 09, loss: -0.75109\n",
      "After Unsqueezing, feature size= torch.Size([575, 1, 1, 384])\n"
     ]
    },
    {
     "name": "stderr",
     "output_type": "stream",
     "text": [
      " 27%|██▋       | 274/1000 [1:27:46<4:15:51, 21.15s/it]"
     ]
    },
    {
     "name": "stdout",
     "output_type": "stream",
     "text": [
      "eigenvalues shape torch.Size([5]) eigenvectors shape torch.Size([5, 575])\n",
      "274 /home/phdcs2/Hard_Disk/Datasets/Deep-Spectral-Segmentation/data/object-segmentation/ECSSD/features/dino_vits16/0275.pth\n",
      "dict_keys(['k', 'indices', 'file', 'id', 'model_name', 'patch_size', 'shape'])\n",
      "0275\n",
      "Starting Training\n",
      "epoch: 00, loss: -0.57012\n",
      "epoch: 01, loss: -0.74066\n",
      "epoch: 02, loss: -0.77653\n",
      "epoch: 03, loss: -0.78627\n",
      "epoch: 04, loss: -0.80063\n",
      "epoch: 05, loss: -0.79514\n",
      "epoch: 06, loss: -0.81392\n",
      "epoch: 07, loss: -0.80261\n",
      "epoch: 08, loss: -0.78788\n",
      "epoch: 09, loss: -0.80046\n",
      "After Unsqueezing, feature size= torch.Size([400, 1, 1, 384])\n"
     ]
    },
    {
     "name": "stderr",
     "output_type": "stream",
     "text": [
      " 28%|██▊       | 275/1000 [1:28:03<3:57:53, 19.69s/it]"
     ]
    },
    {
     "name": "stdout",
     "output_type": "stream",
     "text": [
      "eigenvalues shape torch.Size([5]) eigenvectors shape torch.Size([5, 400])\n",
      "275 /home/phdcs2/Hard_Disk/Datasets/Deep-Spectral-Segmentation/data/object-segmentation/ECSSD/features/dino_vits16/0276.pth\n",
      "dict_keys(['k', 'indices', 'file', 'id', 'model_name', 'patch_size', 'shape'])\n",
      "0276\n",
      "Starting Training\n",
      "epoch: 00, loss: -0.59602\n",
      "epoch: 01, loss: -0.75783\n",
      "epoch: 02, loss: -0.77152\n",
      "epoch: 03, loss: -0.77518\n",
      "epoch: 04, loss: -0.78571\n",
      "epoch: 05, loss: -0.78762\n",
      "epoch: 06, loss: -0.79755\n",
      "epoch: 07, loss: -0.80857\n",
      "epoch: 08, loss: -0.81788\n",
      "epoch: 09, loss: -0.83166\n",
      "After Unsqueezing, feature size= torch.Size([525, 1, 1, 384])\n"
     ]
    },
    {
     "name": "stderr",
     "output_type": "stream",
     "text": [
      " 28%|██▊       | 276/1000 [1:28:25<4:06:14, 20.41s/it]"
     ]
    },
    {
     "name": "stdout",
     "output_type": "stream",
     "text": [
      "eigenvalues shape torch.Size([5]) eigenvectors shape torch.Size([5, 525])\n",
      "276 /home/phdcs2/Hard_Disk/Datasets/Deep-Spectral-Segmentation/data/object-segmentation/ECSSD/features/dino_vits16/0277.pth\n",
      "dict_keys(['k', 'indices', 'file', 'id', 'model_name', 'patch_size', 'shape'])\n",
      "0277\n",
      "Starting Training\n",
      "epoch: 00, loss: -0.54164\n",
      "epoch: 01, loss: -0.69726\n",
      "epoch: 02, loss: -0.71806\n",
      "epoch: 03, loss: -0.73900\n",
      "epoch: 04, loss: -0.75633\n",
      "epoch: 05, loss: -0.77008\n",
      "epoch: 06, loss: -0.78586\n",
      "epoch: 07, loss: -0.78505\n",
      "epoch: 08, loss: -0.78733\n",
      "epoch: 09, loss: -0.78312\n",
      "After Unsqueezing, feature size= torch.Size([400, 1, 1, 384])\n"
     ]
    },
    {
     "name": "stderr",
     "output_type": "stream",
     "text": [
      " 28%|██▊       | 277/1000 [1:28:44<4:03:14, 20.19s/it]"
     ]
    },
    {
     "name": "stdout",
     "output_type": "stream",
     "text": [
      "eigenvalues shape torch.Size([5]) eigenvectors shape torch.Size([5, 400])\n",
      "277 /home/phdcs2/Hard_Disk/Datasets/Deep-Spectral-Segmentation/data/object-segmentation/ECSSD/features/dino_vits16/0278.pth\n",
      "dict_keys(['k', 'indices', 'file', 'id', 'model_name', 'patch_size', 'shape'])\n",
      "0278\n",
      "Starting Training\n",
      "epoch: 00, loss: -0.57907\n",
      "epoch: 01, loss: -0.71864\n",
      "epoch: 02, loss: -0.73566\n",
      "epoch: 03, loss: -0.74175\n",
      "epoch: 04, loss: -0.74820\n",
      "epoch: 05, loss: -0.76925\n",
      "epoch: 06, loss: -0.77597\n",
      "epoch: 07, loss: -0.78103\n",
      "epoch: 08, loss: -0.78827\n",
      "epoch: 09, loss: -0.80364\n",
      "After Unsqueezing, feature size= torch.Size([550, 1, 1, 384])\n"
     ]
    },
    {
     "name": "stderr",
     "output_type": "stream",
     "text": [
      " 28%|██▊       | 278/1000 [1:29:10<4:21:07, 21.70s/it]"
     ]
    },
    {
     "name": "stdout",
     "output_type": "stream",
     "text": [
      "eigenvalues shape torch.Size([5]) eigenvectors shape torch.Size([5, 550])\n",
      "278 /home/phdcs2/Hard_Disk/Datasets/Deep-Spectral-Segmentation/data/object-segmentation/ECSSD/features/dino_vits16/0279.pth\n",
      "dict_keys(['k', 'indices', 'file', 'id', 'model_name', 'patch_size', 'shape'])\n",
      "0279\n",
      "Starting Training\n",
      "epoch: 00, loss: -0.50511\n",
      "epoch: 01, loss: -0.65902\n",
      "epoch: 02, loss: -0.67231\n",
      "epoch: 03, loss: -0.69068\n",
      "epoch: 04, loss: -0.69615\n",
      "epoch: 05, loss: -0.69276\n",
      "epoch: 06, loss: -0.71454\n",
      "epoch: 07, loss: -0.70815\n",
      "epoch: 08, loss: -0.70924\n",
      "epoch: 09, loss: -0.71564\n",
      "After Unsqueezing, feature size= torch.Size([450, 1, 1, 384])\n"
     ]
    },
    {
     "name": "stderr",
     "output_type": "stream",
     "text": [
      " 28%|██▊       | 279/1000 [1:29:29<4:11:37, 20.94s/it]"
     ]
    },
    {
     "name": "stdout",
     "output_type": "stream",
     "text": [
      "eigenvalues shape torch.Size([5]) eigenvectors shape torch.Size([5, 450])\n",
      "279 /home/phdcs2/Hard_Disk/Datasets/Deep-Spectral-Segmentation/data/object-segmentation/ECSSD/features/dino_vits16/0280.pth\n",
      "dict_keys(['k', 'indices', 'file', 'id', 'model_name', 'patch_size', 'shape'])\n",
      "0280\n",
      "Starting Training\n",
      "epoch: 00, loss: -0.61095\n",
      "epoch: 01, loss: -0.72440\n",
      "epoch: 02, loss: -0.72466\n",
      "epoch: 03, loss: -0.73166\n",
      "epoch: 04, loss: -0.74485\n",
      "epoch: 05, loss: -0.74760\n",
      "epoch: 06, loss: -0.75044\n",
      "epoch: 07, loss: -0.77751\n",
      "epoch: 08, loss: -0.78374\n",
      "epoch: 09, loss: -0.79902\n",
      "After Unsqueezing, feature size= torch.Size([625, 1, 1, 384])\n"
     ]
    },
    {
     "name": "stderr",
     "output_type": "stream",
     "text": [
      " 28%|██▊       | 280/1000 [1:29:58<4:39:18, 23.28s/it]"
     ]
    },
    {
     "name": "stdout",
     "output_type": "stream",
     "text": [
      "eigenvalues shape torch.Size([5]) eigenvectors shape torch.Size([5, 625])\n",
      "280 /home/phdcs2/Hard_Disk/Datasets/Deep-Spectral-Segmentation/data/object-segmentation/ECSSD/features/dino_vits16/0281.pth\n",
      "dict_keys(['k', 'indices', 'file', 'id', 'model_name', 'patch_size', 'shape'])\n",
      "0281\n",
      "Starting Training\n",
      "epoch: 00, loss: -0.53486\n",
      "epoch: 01, loss: -0.68195\n",
      "epoch: 02, loss: -0.70464\n",
      "epoch: 03, loss: -0.73529\n",
      "epoch: 04, loss: -0.76237\n",
      "epoch: 05, loss: -0.76452\n",
      "epoch: 06, loss: -0.76420\n",
      "epoch: 07, loss: -0.75389\n",
      "epoch: 08, loss: -0.75867\n",
      "epoch: 09, loss: -0.76714\n",
      "After Unsqueezing, feature size= torch.Size([450, 1, 1, 384])\n"
     ]
    },
    {
     "name": "stderr",
     "output_type": "stream",
     "text": [
      " 28%|██▊       | 281/1000 [1:30:15<4:17:56, 21.53s/it]"
     ]
    },
    {
     "name": "stdout",
     "output_type": "stream",
     "text": [
      "eigenvalues shape torch.Size([5]) eigenvectors shape torch.Size([5, 450])\n",
      "281 /home/phdcs2/Hard_Disk/Datasets/Deep-Spectral-Segmentation/data/object-segmentation/ECSSD/features/dino_vits16/0282.pth\n",
      "dict_keys(['k', 'indices', 'file', 'id', 'model_name', 'patch_size', 'shape'])\n",
      "0282\n",
      "Starting Training\n",
      "epoch: 00, loss: -0.61315\n",
      "epoch: 01, loss: -0.77799\n",
      "epoch: 02, loss: -0.80359\n",
      "epoch: 03, loss: -0.79166\n",
      "epoch: 04, loss: -0.79627\n",
      "epoch: 05, loss: -0.79907\n",
      "epoch: 06, loss: -0.80000\n",
      "epoch: 07, loss: -0.79191\n",
      "epoch: 08, loss: -0.79564\n",
      "epoch: 09, loss: -0.80572\n",
      "After Unsqueezing, feature size= torch.Size([400, 1, 1, 384])\n"
     ]
    },
    {
     "name": "stderr",
     "output_type": "stream",
     "text": [
      " 28%|██▊       | 282/1000 [1:30:31<3:59:16, 20.00s/it]"
     ]
    },
    {
     "name": "stdout",
     "output_type": "stream",
     "text": [
      "eigenvalues shape torch.Size([5]) eigenvectors shape torch.Size([5, 400])\n",
      "282 /home/phdcs2/Hard_Disk/Datasets/Deep-Spectral-Segmentation/data/object-segmentation/ECSSD/features/dino_vits16/0283.pth\n",
      "dict_keys(['k', 'indices', 'file', 'id', 'model_name', 'patch_size', 'shape'])\n",
      "0283\n",
      "Starting Training\n",
      "epoch: 00, loss: -0.56877\n",
      "epoch: 01, loss: -0.74348\n",
      "epoch: 02, loss: -0.76659\n",
      "epoch: 03, loss: -0.77541\n",
      "epoch: 04, loss: -0.78447\n",
      "epoch: 05, loss: -0.79428\n",
      "epoch: 06, loss: -0.79460\n",
      "epoch: 07, loss: -0.80497\n",
      "epoch: 08, loss: -0.80771\n",
      "epoch: 09, loss: -0.81144\n",
      "After Unsqueezing, feature size= torch.Size([400, 1, 1, 384])\n"
     ]
    },
    {
     "name": "stderr",
     "output_type": "stream",
     "text": [
      " 28%|██▊       | 283/1000 [1:30:49<3:48:47, 19.15s/it]"
     ]
    },
    {
     "name": "stdout",
     "output_type": "stream",
     "text": [
      "eigenvalues shape torch.Size([5]) eigenvectors shape torch.Size([5, 400])\n",
      "283 /home/phdcs2/Hard_Disk/Datasets/Deep-Spectral-Segmentation/data/object-segmentation/ECSSD/features/dino_vits16/0284.pth\n",
      "dict_keys(['k', 'indices', 'file', 'id', 'model_name', 'patch_size', 'shape'])\n",
      "0284\n",
      "Starting Training\n",
      "epoch: 00, loss: -0.60852\n",
      "epoch: 01, loss: -0.77589\n",
      "epoch: 02, loss: -0.79860\n",
      "epoch: 03, loss: -0.79330\n",
      "epoch: 04, loss: -0.81450\n",
      "epoch: 05, loss: -0.81932\n",
      "epoch: 06, loss: -0.82176\n",
      "epoch: 07, loss: -0.82725\n",
      "epoch: 08, loss: -0.82766\n",
      "epoch: 09, loss: -0.82458\n",
      "After Unsqueezing, feature size= torch.Size([400, 1, 1, 384])\n"
     ]
    },
    {
     "name": "stderr",
     "output_type": "stream",
     "text": [
      " 28%|██▊       | 284/1000 [1:31:09<3:52:15, 19.46s/it]"
     ]
    },
    {
     "name": "stdout",
     "output_type": "stream",
     "text": [
      "eigenvalues shape torch.Size([5]) eigenvectors shape torch.Size([5, 400])\n",
      "284 /home/phdcs2/Hard_Disk/Datasets/Deep-Spectral-Segmentation/data/object-segmentation/ECSSD/features/dino_vits16/0285.pth\n",
      "dict_keys(['k', 'indices', 'file', 'id', 'model_name', 'patch_size', 'shape'])\n",
      "0285\n",
      "Starting Training\n",
      "epoch: 00, loss: -0.53731\n",
      "epoch: 01, loss: -0.70897\n",
      "epoch: 02, loss: -0.74338\n",
      "epoch: 03, loss: -0.75691\n",
      "epoch: 04, loss: -0.76562\n",
      "epoch: 05, loss: -0.77453\n",
      "epoch: 06, loss: -0.77202\n",
      "epoch: 07, loss: -0.77133\n",
      "epoch: 08, loss: -0.77096\n",
      "epoch: 09, loss: -0.77453\n",
      "After Unsqueezing, feature size= torch.Size([400, 1, 1, 384])\n"
     ]
    },
    {
     "name": "stderr",
     "output_type": "stream",
     "text": [
      " 28%|██▊       | 285/1000 [1:31:30<3:57:53, 19.96s/it]"
     ]
    },
    {
     "name": "stdout",
     "output_type": "stream",
     "text": [
      "eigenvalues shape torch.Size([5]) eigenvectors shape torch.Size([5, 400])\n",
      "285 /home/phdcs2/Hard_Disk/Datasets/Deep-Spectral-Segmentation/data/object-segmentation/ECSSD/features/dino_vits16/0286.pth\n",
      "dict_keys(['k', 'indices', 'file', 'id', 'model_name', 'patch_size', 'shape'])\n",
      "0286\n",
      "Starting Training\n",
      "epoch: 00, loss: -0.58321\n",
      "epoch: 01, loss: -0.71657\n",
      "epoch: 02, loss: -0.75596\n",
      "epoch: 03, loss: -0.78255\n",
      "epoch: 04, loss: -0.79149\n",
      "epoch: 05, loss: -0.79029\n",
      "epoch: 06, loss: -0.79597\n",
      "epoch: 07, loss: -0.79927\n",
      "epoch: 08, loss: -0.80886\n",
      "epoch: 09, loss: -0.80685\n",
      "After Unsqueezing, feature size= torch.Size([450, 1, 1, 384])\n"
     ]
    },
    {
     "name": "stderr",
     "output_type": "stream",
     "text": [
      " 29%|██▊       | 286/1000 [1:31:52<4:06:35, 20.72s/it]"
     ]
    },
    {
     "name": "stdout",
     "output_type": "stream",
     "text": [
      "eigenvalues shape torch.Size([5]) eigenvectors shape torch.Size([5, 450])\n",
      "286 /home/phdcs2/Hard_Disk/Datasets/Deep-Spectral-Segmentation/data/object-segmentation/ECSSD/features/dino_vits16/0287.pth\n",
      "dict_keys(['k', 'indices', 'file', 'id', 'model_name', 'patch_size', 'shape'])\n",
      "0287\n",
      "Starting Training\n",
      "epoch: 00, loss: -0.50566\n",
      "epoch: 01, loss: -0.66912\n",
      "epoch: 02, loss: -0.69623\n",
      "epoch: 03, loss: -0.70212\n",
      "epoch: 04, loss: -0.70720\n",
      "epoch: 05, loss: -0.70488\n",
      "epoch: 06, loss: -0.71164\n",
      "epoch: 07, loss: -0.71245\n",
      "epoch: 08, loss: -0.72201\n",
      "epoch: 09, loss: -0.72889\n",
      "After Unsqueezing, feature size= torch.Size([375, 1, 1, 384])\n"
     ]
    },
    {
     "name": "stderr",
     "output_type": "stream",
     "text": [
      " 29%|██▊       | 287/1000 [1:32:10<3:54:01, 19.69s/it]"
     ]
    },
    {
     "name": "stdout",
     "output_type": "stream",
     "text": [
      "eigenvalues shape torch.Size([5]) eigenvectors shape torch.Size([5, 375])\n",
      "287 /home/phdcs2/Hard_Disk/Datasets/Deep-Spectral-Segmentation/data/object-segmentation/ECSSD/features/dino_vits16/0288.pth\n",
      "dict_keys(['k', 'indices', 'file', 'id', 'model_name', 'patch_size', 'shape'])\n",
      "0288\n",
      "Starting Training\n",
      "epoch: 00, loss: -0.48348\n",
      "epoch: 01, loss: -0.65050\n",
      "epoch: 02, loss: -0.68105\n",
      "epoch: 03, loss: -0.68464\n",
      "epoch: 04, loss: -0.68438\n",
      "epoch: 05, loss: -0.69648\n",
      "epoch: 06, loss: -0.70813\n",
      "epoch: 07, loss: -0.71258\n",
      "epoch: 08, loss: -0.73398\n",
      "epoch: 09, loss: -0.73758\n",
      "After Unsqueezing, feature size= torch.Size([450, 1, 1, 384])\n"
     ]
    },
    {
     "name": "stderr",
     "output_type": "stream",
     "text": [
      " 29%|██▉       | 288/1000 [1:32:31<3:58:31, 20.10s/it]"
     ]
    },
    {
     "name": "stdout",
     "output_type": "stream",
     "text": [
      "eigenvalues shape torch.Size([5]) eigenvectors shape torch.Size([5, 450])\n",
      "288 /home/phdcs2/Hard_Disk/Datasets/Deep-Spectral-Segmentation/data/object-segmentation/ECSSD/features/dino_vits16/0289.pth\n",
      "dict_keys(['k', 'indices', 'file', 'id', 'model_name', 'patch_size', 'shape'])\n",
      "0289\n",
      "Starting Training\n",
      "epoch: 00, loss: -0.56995\n",
      "epoch: 01, loss: -0.69278\n",
      "epoch: 02, loss: -0.72552\n",
      "epoch: 03, loss: -0.74687\n",
      "epoch: 04, loss: -0.76736\n",
      "epoch: 05, loss: -0.77134\n",
      "epoch: 06, loss: -0.79203\n",
      "epoch: 07, loss: -0.80473\n",
      "epoch: 08, loss: -0.80912\n",
      "epoch: 09, loss: -0.80558\n",
      "After Unsqueezing, feature size= torch.Size([450, 1, 1, 384])\n"
     ]
    },
    {
     "name": "stderr",
     "output_type": "stream",
     "text": [
      " 29%|██▉       | 289/1000 [1:32:51<3:58:31, 20.13s/it]"
     ]
    },
    {
     "name": "stdout",
     "output_type": "stream",
     "text": [
      "eigenvalues shape torch.Size([5]) eigenvectors shape torch.Size([5, 450])\n",
      "289 /home/phdcs2/Hard_Disk/Datasets/Deep-Spectral-Segmentation/data/object-segmentation/ECSSD/features/dino_vits16/0290.pth\n",
      "dict_keys(['k', 'indices', 'file', 'id', 'model_name', 'patch_size', 'shape'])\n",
      "0290\n",
      "Starting Training\n",
      "epoch: 00, loss: -0.57824\n",
      "epoch: 01, loss: -0.75994\n",
      "epoch: 02, loss: -0.80046\n",
      "epoch: 03, loss: -0.82357\n",
      "epoch: 04, loss: -0.83056\n",
      "epoch: 05, loss: -0.83261\n",
      "epoch: 06, loss: -0.84137\n",
      "epoch: 07, loss: -0.84640\n",
      "epoch: 08, loss: -0.84736\n",
      "epoch: 09, loss: -0.84674\n",
      "After Unsqueezing, feature size= torch.Size([375, 1, 1, 384])\n"
     ]
    },
    {
     "name": "stderr",
     "output_type": "stream",
     "text": [
      " 29%|██▉       | 290/1000 [1:33:07<3:41:46, 18.74s/it]"
     ]
    },
    {
     "name": "stdout",
     "output_type": "stream",
     "text": [
      "eigenvalues shape torch.Size([5]) eigenvectors shape torch.Size([5, 375])\n",
      "290 /home/phdcs2/Hard_Disk/Datasets/Deep-Spectral-Segmentation/data/object-segmentation/ECSSD/features/dino_vits16/0291.pth\n",
      "dict_keys(['k', 'indices', 'file', 'id', 'model_name', 'patch_size', 'shape'])\n",
      "0291\n",
      "Starting Training\n",
      "epoch: 00, loss: -0.61617\n",
      "epoch: 01, loss: -0.75376\n",
      "epoch: 02, loss: -0.77436\n",
      "epoch: 03, loss: -0.78208\n",
      "epoch: 04, loss: -0.78640\n",
      "epoch: 05, loss: -0.79325\n",
      "epoch: 06, loss: -0.80064\n",
      "epoch: 07, loss: -0.80234\n",
      "epoch: 08, loss: -0.80566\n",
      "epoch: 09, loss: -0.81586\n",
      "After Unsqueezing, feature size= torch.Size([475, 1, 1, 384])\n"
     ]
    },
    {
     "name": "stderr",
     "output_type": "stream",
     "text": [
      " 29%|██▉       | 291/1000 [1:33:30<3:59:16, 20.25s/it]"
     ]
    },
    {
     "name": "stdout",
     "output_type": "stream",
     "text": [
      "eigenvalues shape torch.Size([5]) eigenvectors shape torch.Size([5, 475])\n",
      "291 /home/phdcs2/Hard_Disk/Datasets/Deep-Spectral-Segmentation/data/object-segmentation/ECSSD/features/dino_vits16/0292.pth\n",
      "dict_keys(['k', 'indices', 'file', 'id', 'model_name', 'patch_size', 'shape'])\n",
      "0292\n",
      "Starting Training\n",
      "epoch: 00, loss: -0.57102\n",
      "epoch: 01, loss: -0.72598\n",
      "epoch: 02, loss: -0.74313\n",
      "epoch: 03, loss: -0.75136\n",
      "epoch: 04, loss: -0.75767\n",
      "epoch: 05, loss: -0.76662\n",
      "epoch: 06, loss: -0.76128\n",
      "epoch: 07, loss: -0.76764\n",
      "epoch: 08, loss: -0.76974\n",
      "epoch: 09, loss: -0.77574\n",
      "After Unsqueezing, feature size= torch.Size([400, 1, 1, 384])\n"
     ]
    },
    {
     "name": "stderr",
     "output_type": "stream",
     "text": [
      " 29%|██▉       | 292/1000 [1:33:47<3:45:30, 19.11s/it]"
     ]
    },
    {
     "name": "stdout",
     "output_type": "stream",
     "text": [
      "eigenvalues shape torch.Size([5]) eigenvectors shape torch.Size([5, 400])\n",
      "292 /home/phdcs2/Hard_Disk/Datasets/Deep-Spectral-Segmentation/data/object-segmentation/ECSSD/features/dino_vits16/0293.pth\n",
      "dict_keys(['k', 'indices', 'file', 'id', 'model_name', 'patch_size', 'shape'])\n",
      "0293\n",
      "Starting Training\n",
      "epoch: 00, loss: -0.58070\n",
      "epoch: 01, loss: -0.74591\n",
      "epoch: 02, loss: -0.76438\n",
      "epoch: 03, loss: -0.78077\n",
      "epoch: 04, loss: -0.78820\n",
      "epoch: 05, loss: -0.78207\n",
      "epoch: 06, loss: -0.80226\n",
      "epoch: 07, loss: -0.80187\n",
      "epoch: 08, loss: -0.80640\n",
      "epoch: 09, loss: -0.80780\n",
      "After Unsqueezing, feature size= torch.Size([425, 1, 1, 384])\n"
     ]
    },
    {
     "name": "stderr",
     "output_type": "stream",
     "text": [
      " 29%|██▉       | 293/1000 [1:34:03<3:33:53, 18.15s/it]"
     ]
    },
    {
     "name": "stdout",
     "output_type": "stream",
     "text": [
      "eigenvalues shape torch.Size([5]) eigenvectors shape torch.Size([5, 425])\n",
      "293 /home/phdcs2/Hard_Disk/Datasets/Deep-Spectral-Segmentation/data/object-segmentation/ECSSD/features/dino_vits16/0294.pth\n",
      "dict_keys(['k', 'indices', 'file', 'id', 'model_name', 'patch_size', 'shape'])\n",
      "0294\n",
      "Starting Training\n",
      "epoch: 00, loss: -0.62310\n",
      "epoch: 01, loss: -0.77325\n",
      "epoch: 02, loss: -0.79115\n",
      "epoch: 03, loss: -0.80531\n",
      "epoch: 04, loss: -0.81074\n",
      "epoch: 05, loss: -0.81470\n",
      "epoch: 06, loss: -0.82444\n",
      "epoch: 07, loss: -0.82934\n",
      "epoch: 08, loss: -0.83307\n",
      "epoch: 09, loss: -0.83509\n",
      "After Unsqueezing, feature size= torch.Size([425, 1, 1, 384])\n"
     ]
    },
    {
     "name": "stderr",
     "output_type": "stream",
     "text": [
      " 29%|██▉       | 294/1000 [1:34:19<3:26:43, 17.57s/it]"
     ]
    },
    {
     "name": "stdout",
     "output_type": "stream",
     "text": [
      "eigenvalues shape torch.Size([5]) eigenvectors shape torch.Size([5, 425])\n",
      "294 /home/phdcs2/Hard_Disk/Datasets/Deep-Spectral-Segmentation/data/object-segmentation/ECSSD/features/dino_vits16/0295.pth\n",
      "dict_keys(['k', 'indices', 'file', 'id', 'model_name', 'patch_size', 'shape'])\n",
      "0295\n",
      "Starting Training\n",
      "epoch: 00, loss: -0.55366\n",
      "epoch: 01, loss: -0.74282\n",
      "epoch: 02, loss: -0.76584\n",
      "epoch: 03, loss: -0.77267\n",
      "epoch: 04, loss: -0.78668\n",
      "epoch: 05, loss: -0.78997\n",
      "epoch: 06, loss: -0.78506\n",
      "epoch: 07, loss: -0.78450\n",
      "epoch: 08, loss: -0.78664\n",
      "epoch: 09, loss: -0.79164\n",
      "After Unsqueezing, feature size= torch.Size([425, 1, 1, 384])\n"
     ]
    },
    {
     "name": "stderr",
     "output_type": "stream",
     "text": [
      " 30%|██▉       | 295/1000 [1:34:39<3:34:02, 18.22s/it]"
     ]
    },
    {
     "name": "stdout",
     "output_type": "stream",
     "text": [
      "eigenvalues shape torch.Size([5]) eigenvectors shape torch.Size([5, 425])\n",
      "295 /home/phdcs2/Hard_Disk/Datasets/Deep-Spectral-Segmentation/data/object-segmentation/ECSSD/features/dino_vits16/0296.pth\n",
      "dict_keys(['k', 'indices', 'file', 'id', 'model_name', 'patch_size', 'shape'])\n",
      "0296\n",
      "Starting Training\n",
      "epoch: 00, loss: -0.52946\n",
      "epoch: 01, loss: -0.66957\n",
      "epoch: 02, loss: -0.69492\n",
      "epoch: 03, loss: -0.71008\n",
      "epoch: 04, loss: -0.71844\n",
      "epoch: 05, loss: -0.73014\n",
      "epoch: 06, loss: -0.73737\n",
      "epoch: 07, loss: -0.73793\n",
      "epoch: 08, loss: -0.73233\n",
      "epoch: 09, loss: -0.72636\n",
      "After Unsqueezing, feature size= torch.Size([425, 1, 1, 384])\n"
     ]
    },
    {
     "name": "stderr",
     "output_type": "stream",
     "text": [
      " 30%|██▉       | 296/1000 [1:34:59<3:41:40, 18.89s/it]"
     ]
    },
    {
     "name": "stdout",
     "output_type": "stream",
     "text": [
      "eigenvalues shape torch.Size([5]) eigenvectors shape torch.Size([5, 425])\n",
      "296 /home/phdcs2/Hard_Disk/Datasets/Deep-Spectral-Segmentation/data/object-segmentation/ECSSD/features/dino_vits16/0297.pth\n",
      "dict_keys(['k', 'indices', 'file', 'id', 'model_name', 'patch_size', 'shape'])\n",
      "0297\n",
      "Starting Training\n",
      "epoch: 00, loss: -0.52435\n",
      "epoch: 01, loss: -0.71126\n",
      "epoch: 02, loss: -0.74479\n",
      "epoch: 03, loss: -0.75441\n",
      "epoch: 04, loss: -0.76431\n",
      "epoch: 05, loss: -0.77178\n",
      "epoch: 06, loss: -0.76649\n",
      "epoch: 07, loss: -0.76702\n",
      "epoch: 08, loss: -0.77514\n",
      "epoch: 09, loss: -0.78498\n",
      "After Unsqueezing, feature size= torch.Size([475, 1, 1, 384])\n"
     ]
    },
    {
     "name": "stderr",
     "output_type": "stream",
     "text": [
      " 30%|██▉       | 297/1000 [1:35:21<3:52:55, 19.88s/it]"
     ]
    },
    {
     "name": "stdout",
     "output_type": "stream",
     "text": [
      "eigenvalues shape torch.Size([5]) eigenvectors shape torch.Size([5, 475])\n",
      "297 /home/phdcs2/Hard_Disk/Datasets/Deep-Spectral-Segmentation/data/object-segmentation/ECSSD/features/dino_vits16/0298.pth\n",
      "dict_keys(['k', 'indices', 'file', 'id', 'model_name', 'patch_size', 'shape'])\n",
      "0298\n",
      "Starting Training\n",
      "epoch: 00, loss: -0.53478\n",
      "epoch: 01, loss: -0.69964\n",
      "epoch: 02, loss: -0.70373\n",
      "epoch: 03, loss: -0.71997\n",
      "epoch: 04, loss: -0.71678\n",
      "epoch: 05, loss: -0.71925\n",
      "epoch: 06, loss: -0.72162\n",
      "epoch: 07, loss: -0.70650\n",
      "epoch: 08, loss: -0.70709\n",
      "epoch: 09, loss: -0.72007\n",
      "After Unsqueezing, feature size= torch.Size([400, 1, 1, 384])\n"
     ]
    },
    {
     "name": "stderr",
     "output_type": "stream",
     "text": [
      " 30%|██▉       | 298/1000 [1:35:40<3:49:22, 19.60s/it]"
     ]
    },
    {
     "name": "stdout",
     "output_type": "stream",
     "text": [
      "eigenvalues shape torch.Size([5]) eigenvectors shape torch.Size([5, 400])\n",
      "298 /home/phdcs2/Hard_Disk/Datasets/Deep-Spectral-Segmentation/data/object-segmentation/ECSSD/features/dino_vits16/0299.pth\n",
      "dict_keys(['k', 'indices', 'file', 'id', 'model_name', 'patch_size', 'shape'])\n",
      "0299\n",
      "Starting Training\n",
      "epoch: 00, loss: -0.52926\n",
      "epoch: 01, loss: -0.66982\n",
      "epoch: 02, loss: -0.68445\n",
      "epoch: 03, loss: -0.69331\n",
      "epoch: 04, loss: -0.69857\n",
      "epoch: 05, loss: -0.70271\n",
      "epoch: 06, loss: -0.69784\n",
      "epoch: 07, loss: -0.70082\n",
      "epoch: 08, loss: -0.71402\n",
      "epoch: 09, loss: -0.71297\n",
      "After Unsqueezing, feature size= torch.Size([450, 1, 1, 384])\n"
     ]
    },
    {
     "name": "stderr",
     "output_type": "stream",
     "text": [
      " 30%|██▉       | 299/1000 [1:35:58<3:43:47, 19.15s/it]"
     ]
    },
    {
     "name": "stdout",
     "output_type": "stream",
     "text": [
      "eigenvalues shape torch.Size([5]) eigenvectors shape torch.Size([5, 450])\n",
      "299 /home/phdcs2/Hard_Disk/Datasets/Deep-Spectral-Segmentation/data/object-segmentation/ECSSD/features/dino_vits16/0300.pth\n",
      "dict_keys(['k', 'indices', 'file', 'id', 'model_name', 'patch_size', 'shape'])\n",
      "0300\n",
      "Starting Training\n",
      "epoch: 00, loss: -0.51817\n",
      "epoch: 01, loss: -0.63598\n",
      "epoch: 02, loss: -0.66224\n",
      "epoch: 03, loss: -0.66545\n",
      "epoch: 04, loss: -0.67496\n",
      "epoch: 05, loss: -0.69246\n",
      "epoch: 06, loss: -0.70817\n",
      "epoch: 07, loss: -0.70065\n",
      "epoch: 08, loss: -0.69335\n",
      "epoch: 09, loss: -0.70354\n",
      "After Unsqueezing, feature size= torch.Size([475, 1, 1, 384])\n"
     ]
    },
    {
     "name": "stderr",
     "output_type": "stream",
     "text": [
      " 30%|███       | 300/1000 [1:36:17<3:41:17, 18.97s/it]"
     ]
    },
    {
     "name": "stdout",
     "output_type": "stream",
     "text": [
      "eigenvalues shape torch.Size([5]) eigenvectors shape torch.Size([5, 475])\n",
      "300 /home/phdcs2/Hard_Disk/Datasets/Deep-Spectral-Segmentation/data/object-segmentation/ECSSD/features/dino_vits16/0301.pth\n",
      "dict_keys(['k', 'indices', 'file', 'id', 'model_name', 'patch_size', 'shape'])\n",
      "0301\n",
      "Starting Training\n",
      "epoch: 00, loss: -0.55082\n",
      "epoch: 01, loss: -0.68767\n",
      "epoch: 02, loss: -0.70285\n",
      "epoch: 03, loss: -0.71650\n",
      "epoch: 04, loss: -0.72796\n",
      "epoch: 05, loss: -0.72145\n",
      "epoch: 06, loss: -0.72555\n",
      "epoch: 07, loss: -0.72822\n",
      "epoch: 08, loss: -0.73441\n",
      "epoch: 09, loss: -0.74277\n",
      "After Unsqueezing, feature size= torch.Size([400, 1, 1, 384])\n"
     ]
    },
    {
     "name": "stderr",
     "output_type": "stream",
     "text": [
      " 30%|███       | 301/1000 [1:36:35<3:36:52, 18.62s/it]"
     ]
    },
    {
     "name": "stdout",
     "output_type": "stream",
     "text": [
      "eigenvalues shape torch.Size([5]) eigenvectors shape torch.Size([5, 400])\n",
      "301 /home/phdcs2/Hard_Disk/Datasets/Deep-Spectral-Segmentation/data/object-segmentation/ECSSD/features/dino_vits16/0302.pth\n",
      "dict_keys(['k', 'indices', 'file', 'id', 'model_name', 'patch_size', 'shape'])\n",
      "0302\n",
      "Starting Training\n",
      "epoch: 00, loss: -0.50315\n",
      "epoch: 01, loss: -0.64309\n",
      "epoch: 02, loss: -0.67456\n",
      "epoch: 03, loss: -0.69422\n",
      "epoch: 04, loss: -0.70979\n",
      "epoch: 05, loss: -0.71789\n",
      "epoch: 06, loss: -0.73503\n",
      "epoch: 07, loss: -0.73312\n",
      "epoch: 08, loss: -0.74877\n",
      "epoch: 09, loss: -0.74011\n",
      "After Unsqueezing, feature size= torch.Size([450, 1, 1, 384])\n"
     ]
    },
    {
     "name": "stderr",
     "output_type": "stream",
     "text": [
      " 30%|███       | 302/1000 [1:36:54<3:40:54, 18.99s/it]"
     ]
    },
    {
     "name": "stdout",
     "output_type": "stream",
     "text": [
      "eigenvalues shape torch.Size([5]) eigenvectors shape torch.Size([5, 450])\n",
      "302 /home/phdcs2/Hard_Disk/Datasets/Deep-Spectral-Segmentation/data/object-segmentation/ECSSD/features/dino_vits16/0303.pth\n",
      "dict_keys(['k', 'indices', 'file', 'id', 'model_name', 'patch_size', 'shape'])\n",
      "0303\n",
      "Starting Training\n",
      "epoch: 00, loss: -0.45044\n",
      "epoch: 01, loss: -0.62405\n",
      "epoch: 02, loss: -0.65518\n",
      "epoch: 03, loss: -0.66281\n",
      "epoch: 04, loss: -0.65796\n",
      "epoch: 05, loss: -0.67268\n",
      "epoch: 06, loss: -0.71262\n",
      "epoch: 07, loss: -0.72044\n",
      "epoch: 08, loss: -0.71962\n",
      "epoch: 09, loss: -0.72225\n",
      "After Unsqueezing, feature size= torch.Size([450, 1, 1, 384])\n"
     ]
    },
    {
     "name": "stderr",
     "output_type": "stream",
     "text": [
      " 30%|███       | 303/1000 [1:37:13<3:39:41, 18.91s/it]"
     ]
    },
    {
     "name": "stdout",
     "output_type": "stream",
     "text": [
      "eigenvalues shape torch.Size([5]) eigenvectors shape torch.Size([5, 450])\n",
      "303 /home/phdcs2/Hard_Disk/Datasets/Deep-Spectral-Segmentation/data/object-segmentation/ECSSD/features/dino_vits16/0304.pth\n",
      "dict_keys(['k', 'indices', 'file', 'id', 'model_name', 'patch_size', 'shape'])\n",
      "0304\n",
      "Starting Training\n",
      "epoch: 00, loss: -0.49625\n",
      "epoch: 01, loss: -0.63433\n",
      "epoch: 02, loss: -0.64251\n",
      "epoch: 03, loss: -0.66292\n",
      "epoch: 04, loss: -0.67157\n",
      "epoch: 05, loss: -0.67415\n",
      "epoch: 06, loss: -0.66140\n",
      "epoch: 07, loss: -0.66214\n",
      "epoch: 08, loss: -0.67752\n",
      "epoch: 09, loss: -0.68040\n",
      "After Unsqueezing, feature size= torch.Size([400, 1, 1, 384])\n"
     ]
    },
    {
     "name": "stderr",
     "output_type": "stream",
     "text": [
      " 30%|███       | 304/1000 [1:37:29<3:27:01, 17.85s/it]"
     ]
    },
    {
     "name": "stdout",
     "output_type": "stream",
     "text": [
      "eigenvalues shape torch.Size([5]) eigenvectors shape torch.Size([5, 400])\n",
      "304 /home/phdcs2/Hard_Disk/Datasets/Deep-Spectral-Segmentation/data/object-segmentation/ECSSD/features/dino_vits16/0305.pth\n",
      "dict_keys(['k', 'indices', 'file', 'id', 'model_name', 'patch_size', 'shape'])\n",
      "0305\n",
      "Starting Training\n",
      "epoch: 00, loss: -0.45151\n",
      "epoch: 01, loss: -0.60927\n",
      "epoch: 02, loss: -0.64278\n",
      "epoch: 03, loss: -0.63820\n",
      "epoch: 04, loss: -0.64890\n",
      "epoch: 05, loss: -0.65911\n",
      "epoch: 06, loss: -0.65775\n",
      "epoch: 07, loss: -0.67172\n",
      "epoch: 08, loss: -0.69973\n",
      "epoch: 09, loss: -0.72132\n",
      "After Unsqueezing, feature size= torch.Size([400, 1, 1, 384])\n"
     ]
    },
    {
     "name": "stderr",
     "output_type": "stream",
     "text": [
      " 30%|███       | 305/1000 [1:37:46<3:25:09, 17.71s/it]"
     ]
    },
    {
     "name": "stdout",
     "output_type": "stream",
     "text": [
      "eigenvalues shape torch.Size([5]) eigenvectors shape torch.Size([5, 400])\n",
      "305 /home/phdcs2/Hard_Disk/Datasets/Deep-Spectral-Segmentation/data/object-segmentation/ECSSD/features/dino_vits16/0306.pth\n",
      "dict_keys(['k', 'indices', 'file', 'id', 'model_name', 'patch_size', 'shape'])\n",
      "0306\n",
      "Starting Training\n",
      "epoch: 00, loss: -0.48832\n",
      "epoch: 01, loss: -0.63753\n",
      "epoch: 02, loss: -0.66638\n",
      "epoch: 03, loss: -0.67081\n",
      "epoch: 04, loss: -0.68472\n",
      "epoch: 05, loss: -0.69540\n",
      "epoch: 06, loss: -0.68676\n",
      "epoch: 07, loss: -0.69471\n",
      "epoch: 08, loss: -0.69890\n",
      "epoch: 09, loss: -0.70652\n",
      "After Unsqueezing, feature size= torch.Size([400, 1, 1, 384])\n"
     ]
    },
    {
     "name": "stderr",
     "output_type": "stream",
     "text": [
      " 31%|███       | 306/1000 [1:38:02<3:18:25, 17.15s/it]"
     ]
    },
    {
     "name": "stdout",
     "output_type": "stream",
     "text": [
      "eigenvalues shape torch.Size([5]) eigenvectors shape torch.Size([5, 400])\n",
      "306 /home/phdcs2/Hard_Disk/Datasets/Deep-Spectral-Segmentation/data/object-segmentation/ECSSD/features/dino_vits16/0307.pth\n",
      "dict_keys(['k', 'indices', 'file', 'id', 'model_name', 'patch_size', 'shape'])\n",
      "0307\n",
      "Starting Training\n",
      "epoch: 00, loss: -0.51337\n",
      "epoch: 01, loss: -0.67559\n",
      "epoch: 02, loss: -0.68419\n",
      "epoch: 03, loss: -0.70643\n",
      "epoch: 04, loss: -0.72770\n",
      "epoch: 05, loss: -0.72412\n",
      "epoch: 06, loss: -0.73149\n",
      "epoch: 07, loss: -0.74747\n",
      "epoch: 08, loss: -0.74773\n",
      "epoch: 09, loss: -0.75469\n",
      "After Unsqueezing, feature size= torch.Size([450, 1, 1, 384])\n"
     ]
    },
    {
     "name": "stderr",
     "output_type": "stream",
     "text": [
      " 31%|███       | 307/1000 [1:38:21<3:25:33, 17.80s/it]"
     ]
    },
    {
     "name": "stdout",
     "output_type": "stream",
     "text": [
      "eigenvalues shape torch.Size([5]) eigenvectors shape torch.Size([5, 450])\n",
      "307 /home/phdcs2/Hard_Disk/Datasets/Deep-Spectral-Segmentation/data/object-segmentation/ECSSD/features/dino_vits16/0308.pth\n",
      "dict_keys(['k', 'indices', 'file', 'id', 'model_name', 'patch_size', 'shape'])\n",
      "0308\n",
      "Starting Training\n",
      "epoch: 00, loss: -0.55539\n",
      "epoch: 01, loss: -0.69839\n",
      "epoch: 02, loss: -0.72105\n",
      "epoch: 03, loss: -0.73128\n",
      "epoch: 04, loss: -0.72787\n",
      "epoch: 05, loss: -0.73308\n",
      "epoch: 06, loss: -0.73336\n",
      "epoch: 07, loss: -0.74204\n",
      "epoch: 08, loss: -0.75726\n",
      "epoch: 09, loss: -0.75574\n",
      "After Unsqueezing, feature size= torch.Size([450, 1, 1, 384])\n"
     ]
    },
    {
     "name": "stderr",
     "output_type": "stream",
     "text": [
      " 31%|███       | 308/1000 [1:38:38<3:22:42, 17.58s/it]"
     ]
    },
    {
     "name": "stdout",
     "output_type": "stream",
     "text": [
      "eigenvalues shape torch.Size([5]) eigenvectors shape torch.Size([5, 450])\n",
      "308 /home/phdcs2/Hard_Disk/Datasets/Deep-Spectral-Segmentation/data/object-segmentation/ECSSD/features/dino_vits16/0309.pth\n",
      "dict_keys(['k', 'indices', 'file', 'id', 'model_name', 'patch_size', 'shape'])\n",
      "0309\n",
      "Starting Training\n",
      "epoch: 00, loss: -0.54231\n",
      "epoch: 01, loss: -0.70480\n",
      "epoch: 02, loss: -0.72564\n",
      "epoch: 03, loss: -0.73247\n",
      "epoch: 04, loss: -0.74283\n",
      "epoch: 05, loss: -0.72659\n",
      "epoch: 06, loss: -0.71940\n",
      "epoch: 07, loss: -0.73095\n",
      "epoch: 08, loss: -0.72624\n",
      "epoch: 09, loss: -0.74238\n",
      "After Unsqueezing, feature size= torch.Size([400, 1, 1, 384])\n"
     ]
    },
    {
     "name": "stderr",
     "output_type": "stream",
     "text": [
      " 31%|███       | 309/1000 [1:38:58<3:29:34, 18.20s/it]"
     ]
    },
    {
     "name": "stdout",
     "output_type": "stream",
     "text": [
      "eigenvalues shape torch.Size([5]) eigenvectors shape torch.Size([5, 400])\n",
      "309 /home/phdcs2/Hard_Disk/Datasets/Deep-Spectral-Segmentation/data/object-segmentation/ECSSD/features/dino_vits16/0310.pth\n",
      "dict_keys(['k', 'indices', 'file', 'id', 'model_name', 'patch_size', 'shape'])\n",
      "0310\n",
      "Starting Training\n",
      "epoch: 00, loss: -0.49725\n",
      "epoch: 01, loss: -0.67003\n",
      "epoch: 02, loss: -0.69561\n",
      "epoch: 03, loss: -0.68539\n",
      "epoch: 04, loss: -0.69842\n",
      "epoch: 05, loss: -0.71710\n",
      "epoch: 06, loss: -0.73638\n",
      "epoch: 07, loss: -0.72716\n",
      "epoch: 08, loss: -0.71444\n",
      "epoch: 09, loss: -0.70502\n",
      "After Unsqueezing, feature size= torch.Size([450, 1, 1, 384])\n"
     ]
    },
    {
     "name": "stderr",
     "output_type": "stream",
     "text": [
      " 31%|███       | 310/1000 [1:39:17<3:31:18, 18.38s/it]"
     ]
    },
    {
     "name": "stdout",
     "output_type": "stream",
     "text": [
      "eigenvalues shape torch.Size([5]) eigenvectors shape torch.Size([5, 450])\n",
      "310 /home/phdcs2/Hard_Disk/Datasets/Deep-Spectral-Segmentation/data/object-segmentation/ECSSD/features/dino_vits16/0311.pth\n",
      "dict_keys(['k', 'indices', 'file', 'id', 'model_name', 'patch_size', 'shape'])\n",
      "0311\n",
      "Starting Training\n",
      "epoch: 00, loss: -0.55840\n",
      "epoch: 01, loss: -0.70710\n",
      "epoch: 02, loss: -0.72750\n",
      "epoch: 03, loss: -0.73544\n",
      "epoch: 04, loss: -0.75098\n",
      "epoch: 05, loss: -0.75543\n",
      "epoch: 06, loss: -0.75012\n",
      "epoch: 07, loss: -0.75394\n",
      "epoch: 08, loss: -0.75635\n",
      "epoch: 09, loss: -0.77016\n",
      "After Unsqueezing, feature size= torch.Size([400, 1, 1, 384])\n"
     ]
    },
    {
     "name": "stderr",
     "output_type": "stream",
     "text": [
      " 31%|███       | 311/1000 [1:39:35<3:30:27, 18.33s/it]"
     ]
    },
    {
     "name": "stdout",
     "output_type": "stream",
     "text": [
      "eigenvalues shape torch.Size([5]) eigenvectors shape torch.Size([5, 400])\n",
      "311 /home/phdcs2/Hard_Disk/Datasets/Deep-Spectral-Segmentation/data/object-segmentation/ECSSD/features/dino_vits16/0312.pth\n",
      "dict_keys(['k', 'indices', 'file', 'id', 'model_name', 'patch_size', 'shape'])\n",
      "0312\n",
      "Starting Training\n",
      "epoch: 00, loss: -0.48211\n",
      "epoch: 01, loss: -0.63630\n",
      "epoch: 02, loss: -0.66949\n",
      "epoch: 03, loss: -0.69626\n",
      "epoch: 04, loss: -0.70213\n",
      "epoch: 05, loss: -0.71574\n",
      "epoch: 06, loss: -0.72741\n",
      "epoch: 07, loss: -0.73035\n",
      "epoch: 08, loss: -0.73418\n",
      "epoch: 09, loss: -0.75254\n",
      "After Unsqueezing, feature size= torch.Size([400, 1, 1, 384])\n"
     ]
    },
    {
     "name": "stderr",
     "output_type": "stream",
     "text": [
      " 31%|███       | 312/1000 [1:39:51<3:23:57, 17.79s/it]"
     ]
    },
    {
     "name": "stdout",
     "output_type": "stream",
     "text": [
      "eigenvalues shape torch.Size([5]) eigenvectors shape torch.Size([5, 400])\n",
      "312 /home/phdcs2/Hard_Disk/Datasets/Deep-Spectral-Segmentation/data/object-segmentation/ECSSD/features/dino_vits16/0313.pth\n",
      "dict_keys(['k', 'indices', 'file', 'id', 'model_name', 'patch_size', 'shape'])\n",
      "0313\n",
      "Starting Training\n",
      "epoch: 00, loss: -0.48712\n",
      "epoch: 01, loss: -0.63714\n",
      "epoch: 02, loss: -0.66260\n",
      "epoch: 03, loss: -0.69829\n",
      "epoch: 04, loss: -0.70550\n",
      "epoch: 05, loss: -0.70794\n",
      "epoch: 06, loss: -0.70249\n",
      "epoch: 07, loss: -0.69894\n",
      "epoch: 08, loss: -0.70248\n",
      "epoch: 09, loss: -0.71493\n",
      "After Unsqueezing, feature size= torch.Size([400, 1, 1, 384])\n"
     ]
    },
    {
     "name": "stderr",
     "output_type": "stream",
     "text": [
      " 31%|███▏      | 313/1000 [1:40:07<3:17:43, 17.27s/it]"
     ]
    },
    {
     "name": "stdout",
     "output_type": "stream",
     "text": [
      "eigenvalues shape torch.Size([5]) eigenvectors shape torch.Size([5, 400])\n",
      "313 /home/phdcs2/Hard_Disk/Datasets/Deep-Spectral-Segmentation/data/object-segmentation/ECSSD/features/dino_vits16/0314.pth\n",
      "dict_keys(['k', 'indices', 'file', 'id', 'model_name', 'patch_size', 'shape'])\n",
      "0314\n",
      "Starting Training\n",
      "epoch: 00, loss: -0.53294\n",
      "epoch: 01, loss: -0.70005\n",
      "epoch: 02, loss: -0.70875\n",
      "epoch: 03, loss: -0.71328\n",
      "epoch: 04, loss: -0.73042\n",
      "epoch: 05, loss: -0.74681\n",
      "epoch: 06, loss: -0.75478\n",
      "epoch: 07, loss: -0.73918\n",
      "epoch: 08, loss: -0.74810\n",
      "epoch: 09, loss: -0.75853\n",
      "After Unsqueezing, feature size= torch.Size([400, 1, 1, 384])\n"
     ]
    },
    {
     "name": "stderr",
     "output_type": "stream",
     "text": [
      " 31%|███▏      | 314/1000 [1:40:25<3:17:42, 17.29s/it]"
     ]
    },
    {
     "name": "stdout",
     "output_type": "stream",
     "text": [
      "eigenvalues shape torch.Size([5]) eigenvectors shape torch.Size([5, 400])\n",
      "314 /home/phdcs2/Hard_Disk/Datasets/Deep-Spectral-Segmentation/data/object-segmentation/ECSSD/features/dino_vits16/0315.pth\n",
      "dict_keys(['k', 'indices', 'file', 'id', 'model_name', 'patch_size', 'shape'])\n",
      "0315\n",
      "Starting Training\n",
      "epoch: 00, loss: -0.57516\n",
      "epoch: 01, loss: -0.69522\n",
      "epoch: 02, loss: -0.70957\n",
      "epoch: 03, loss: -0.71549\n",
      "epoch: 04, loss: -0.71456\n",
      "epoch: 05, loss: -0.71721\n",
      "epoch: 06, loss: -0.71817\n",
      "epoch: 07, loss: -0.72496\n",
      "epoch: 08, loss: -0.72586\n",
      "epoch: 09, loss: -0.72677\n",
      "After Unsqueezing, feature size= torch.Size([450, 1, 1, 384])\n"
     ]
    },
    {
     "name": "stderr",
     "output_type": "stream",
     "text": [
      " 32%|███▏      | 315/1000 [1:40:44<3:22:27, 17.73s/it]"
     ]
    },
    {
     "name": "stdout",
     "output_type": "stream",
     "text": [
      "eigenvalues shape torch.Size([5]) eigenvectors shape torch.Size([5, 450])\n",
      "315 /home/phdcs2/Hard_Disk/Datasets/Deep-Spectral-Segmentation/data/object-segmentation/ECSSD/features/dino_vits16/0316.pth\n",
      "dict_keys(['k', 'indices', 'file', 'id', 'model_name', 'patch_size', 'shape'])\n",
      "0316\n",
      "Starting Training\n",
      "epoch: 00, loss: -0.54601\n",
      "epoch: 01, loss: -0.71940\n",
      "epoch: 02, loss: -0.74641\n",
      "epoch: 03, loss: -0.73086\n",
      "epoch: 04, loss: -0.74692\n",
      "epoch: 05, loss: -0.74325\n",
      "epoch: 06, loss: -0.75702\n",
      "epoch: 07, loss: -0.77371\n",
      "epoch: 08, loss: -0.76471\n",
      "epoch: 09, loss: -0.76306\n",
      "After Unsqueezing, feature size= torch.Size([450, 1, 1, 384])\n"
     ]
    },
    {
     "name": "stderr",
     "output_type": "stream",
     "text": [
      " 32%|███▏      | 316/1000 [1:41:01<3:22:24, 17.76s/it]"
     ]
    },
    {
     "name": "stdout",
     "output_type": "stream",
     "text": [
      "eigenvalues shape torch.Size([5]) eigenvectors shape torch.Size([5, 450])\n",
      "316 /home/phdcs2/Hard_Disk/Datasets/Deep-Spectral-Segmentation/data/object-segmentation/ECSSD/features/dino_vits16/0317.pth\n",
      "dict_keys(['k', 'indices', 'file', 'id', 'model_name', 'patch_size', 'shape'])\n",
      "0317\n",
      "Starting Training\n",
      "epoch: 00, loss: -0.55096\n",
      "epoch: 01, loss: -0.71074\n",
      "epoch: 02, loss: -0.73893\n",
      "epoch: 03, loss: -0.74919\n",
      "epoch: 04, loss: -0.76434\n",
      "epoch: 05, loss: -0.77308\n",
      "epoch: 06, loss: -0.77716\n",
      "epoch: 07, loss: -0.79958\n",
      "epoch: 08, loss: -0.80395\n",
      "epoch: 09, loss: -0.80455\n",
      "After Unsqueezing, feature size= torch.Size([450, 1, 1, 384])\n"
     ]
    },
    {
     "name": "stderr",
     "output_type": "stream",
     "text": [
      " 32%|███▏      | 317/1000 [1:41:21<3:29:46, 18.43s/it]"
     ]
    },
    {
     "name": "stdout",
     "output_type": "stream",
     "text": [
      "eigenvalues shape torch.Size([5]) eigenvectors shape torch.Size([5, 450])\n",
      "317 /home/phdcs2/Hard_Disk/Datasets/Deep-Spectral-Segmentation/data/object-segmentation/ECSSD/features/dino_vits16/0318.pth\n",
      "dict_keys(['k', 'indices', 'file', 'id', 'model_name', 'patch_size', 'shape'])\n",
      "0318\n",
      "Starting Training\n",
      "epoch: 00, loss: -0.55127\n",
      "epoch: 01, loss: -0.67706\n",
      "epoch: 02, loss: -0.69376\n",
      "epoch: 03, loss: -0.70410\n",
      "epoch: 04, loss: -0.71168\n",
      "epoch: 05, loss: -0.72606\n",
      "epoch: 06, loss: -0.73256\n",
      "epoch: 07, loss: -0.72908\n",
      "epoch: 08, loss: -0.72411\n",
      "epoch: 09, loss: -0.75846\n",
      "After Unsqueezing, feature size= torch.Size([450, 1, 1, 384])\n"
     ]
    },
    {
     "name": "stderr",
     "output_type": "stream",
     "text": [
      " 32%|███▏      | 318/1000 [1:41:43<3:39:28, 19.31s/it]"
     ]
    },
    {
     "name": "stdout",
     "output_type": "stream",
     "text": [
      "eigenvalues shape torch.Size([5]) eigenvectors shape torch.Size([5, 450])\n",
      "318 /home/phdcs2/Hard_Disk/Datasets/Deep-Spectral-Segmentation/data/object-segmentation/ECSSD/features/dino_vits16/0319.pth\n",
      "dict_keys(['k', 'indices', 'file', 'id', 'model_name', 'patch_size', 'shape'])\n",
      "0319\n",
      "Starting Training\n",
      "epoch: 00, loss: -0.47194\n",
      "epoch: 01, loss: -0.62097\n",
      "epoch: 02, loss: -0.64283\n",
      "epoch: 03, loss: -0.65060\n",
      "epoch: 04, loss: -0.65094\n",
      "epoch: 05, loss: -0.66003\n",
      "epoch: 06, loss: -0.66742\n",
      "epoch: 07, loss: -0.67733\n",
      "epoch: 08, loss: -0.67486\n",
      "epoch: 09, loss: -0.67439\n",
      "After Unsqueezing, feature size= torch.Size([450, 1, 1, 384])\n"
     ]
    },
    {
     "name": "stderr",
     "output_type": "stream",
     "text": [
      " 32%|███▏      | 319/1000 [1:42:00<3:31:59, 18.68s/it]"
     ]
    },
    {
     "name": "stdout",
     "output_type": "stream",
     "text": [
      "eigenvalues shape torch.Size([5]) eigenvectors shape torch.Size([5, 450])\n",
      "319 /home/phdcs2/Hard_Disk/Datasets/Deep-Spectral-Segmentation/data/object-segmentation/ECSSD/features/dino_vits16/0320.pth\n",
      "dict_keys(['k', 'indices', 'file', 'id', 'model_name', 'patch_size', 'shape'])\n",
      "0320\n",
      "Starting Training\n",
      "epoch: 00, loss: -0.54241\n",
      "epoch: 01, loss: -0.68461\n",
      "epoch: 02, loss: -0.70723\n",
      "epoch: 03, loss: -0.70910\n",
      "epoch: 04, loss: -0.71278\n",
      "epoch: 05, loss: -0.71637\n",
      "epoch: 06, loss: -0.71642\n",
      "epoch: 07, loss: -0.72271\n",
      "epoch: 08, loss: -0.72633\n",
      "epoch: 09, loss: -0.74477\n",
      "After Unsqueezing, feature size= torch.Size([450, 1, 1, 384])\n"
     ]
    },
    {
     "name": "stderr",
     "output_type": "stream",
     "text": [
      " 32%|███▏      | 320/1000 [1:42:20<3:35:09, 18.98s/it]"
     ]
    },
    {
     "name": "stdout",
     "output_type": "stream",
     "text": [
      "eigenvalues shape torch.Size([5]) eigenvectors shape torch.Size([5, 450])\n",
      "320 /home/phdcs2/Hard_Disk/Datasets/Deep-Spectral-Segmentation/data/object-segmentation/ECSSD/features/dino_vits16/0321.pth\n",
      "dict_keys(['k', 'indices', 'file', 'id', 'model_name', 'patch_size', 'shape'])\n",
      "0321\n",
      "Starting Training\n",
      "epoch: 00, loss: -0.58024\n",
      "epoch: 01, loss: -0.68585\n",
      "epoch: 02, loss: -0.72948\n",
      "epoch: 03, loss: -0.75323\n",
      "epoch: 04, loss: -0.76012\n",
      "epoch: 05, loss: -0.78160\n",
      "epoch: 06, loss: -0.80448\n",
      "epoch: 07, loss: -0.81741\n",
      "epoch: 08, loss: -0.81151\n",
      "epoch: 09, loss: -0.80560\n",
      "After Unsqueezing, feature size= torch.Size([500, 1, 1, 384])\n"
     ]
    },
    {
     "name": "stderr",
     "output_type": "stream",
     "text": [
      " 32%|███▏      | 321/1000 [1:42:42<3:47:12, 20.08s/it]"
     ]
    },
    {
     "name": "stdout",
     "output_type": "stream",
     "text": [
      "eigenvalues shape torch.Size([5]) eigenvectors shape torch.Size([5, 500])\n",
      "321 /home/phdcs2/Hard_Disk/Datasets/Deep-Spectral-Segmentation/data/object-segmentation/ECSSD/features/dino_vits16/0322.pth\n",
      "dict_keys(['k', 'indices', 'file', 'id', 'model_name', 'patch_size', 'shape'])\n",
      "0322\n",
      "Starting Training\n",
      "epoch: 00, loss: -0.56845\n",
      "epoch: 01, loss: -0.73210\n",
      "epoch: 02, loss: -0.76009\n",
      "epoch: 03, loss: -0.76769\n",
      "epoch: 04, loss: -0.78644\n",
      "epoch: 05, loss: -0.79902\n",
      "epoch: 06, loss: -0.80529\n",
      "epoch: 07, loss: -0.81464\n",
      "epoch: 08, loss: -0.82315\n",
      "epoch: 09, loss: -0.81968\n",
      "After Unsqueezing, feature size= torch.Size([450, 1, 1, 384])\n"
     ]
    },
    {
     "name": "stderr",
     "output_type": "stream",
     "text": [
      " 32%|███▏      | 322/1000 [1:43:04<3:53:59, 20.71s/it]"
     ]
    },
    {
     "name": "stdout",
     "output_type": "stream",
     "text": [
      "eigenvalues shape torch.Size([5]) eigenvectors shape torch.Size([5, 450])\n",
      "322 /home/phdcs2/Hard_Disk/Datasets/Deep-Spectral-Segmentation/data/object-segmentation/ECSSD/features/dino_vits16/0323.pth\n",
      "dict_keys(['k', 'indices', 'file', 'id', 'model_name', 'patch_size', 'shape'])\n",
      "0323\n",
      "Starting Training\n",
      "epoch: 00, loss: -0.56578\n",
      "epoch: 01, loss: -0.70284\n",
      "epoch: 02, loss: -0.73039\n",
      "epoch: 03, loss: -0.73906\n",
      "epoch: 04, loss: -0.75429\n",
      "epoch: 05, loss: -0.76751\n",
      "epoch: 06, loss: -0.77347\n",
      "epoch: 07, loss: -0.78117\n",
      "epoch: 08, loss: -0.77937\n",
      "epoch: 09, loss: -0.77325\n",
      "After Unsqueezing, feature size= torch.Size([450, 1, 1, 384])\n"
     ]
    },
    {
     "name": "stderr",
     "output_type": "stream",
     "text": [
      " 32%|███▏      | 323/1000 [1:43:24<3:49:16, 20.32s/it]"
     ]
    },
    {
     "name": "stdout",
     "output_type": "stream",
     "text": [
      "eigenvalues shape torch.Size([5]) eigenvectors shape torch.Size([5, 450])\n",
      "323 /home/phdcs2/Hard_Disk/Datasets/Deep-Spectral-Segmentation/data/object-segmentation/ECSSD/features/dino_vits16/0324.pth\n",
      "dict_keys(['k', 'indices', 'file', 'id', 'model_name', 'patch_size', 'shape'])\n",
      "0324\n",
      "Starting Training\n",
      "epoch: 00, loss: -0.56396\n",
      "epoch: 01, loss: -0.66806\n",
      "epoch: 02, loss: -0.67136\n",
      "epoch: 03, loss: -0.69693\n",
      "epoch: 04, loss: -0.69043\n",
      "epoch: 05, loss: -0.70288\n",
      "epoch: 06, loss: -0.72296\n",
      "epoch: 07, loss: -0.71999\n",
      "epoch: 08, loss: -0.72719\n",
      "epoch: 09, loss: -0.73641\n",
      "After Unsqueezing, feature size= torch.Size([450, 1, 1, 384])\n"
     ]
    },
    {
     "name": "stderr",
     "output_type": "stream",
     "text": [
      " 32%|███▏      | 324/1000 [1:43:45<3:52:57, 20.68s/it]"
     ]
    },
    {
     "name": "stdout",
     "output_type": "stream",
     "text": [
      "eigenvalues shape torch.Size([5]) eigenvectors shape torch.Size([5, 450])\n",
      "324 /home/phdcs2/Hard_Disk/Datasets/Deep-Spectral-Segmentation/data/object-segmentation/ECSSD/features/dino_vits16/0325.pth\n",
      "dict_keys(['k', 'indices', 'file', 'id', 'model_name', 'patch_size', 'shape'])\n",
      "0325\n",
      "Starting Training\n",
      "epoch: 00, loss: -0.52489\n",
      "epoch: 01, loss: -0.68581\n",
      "epoch: 02, loss: -0.71827\n",
      "epoch: 03, loss: -0.72203\n",
      "epoch: 04, loss: -0.71560\n",
      "epoch: 05, loss: -0.72041\n",
      "epoch: 06, loss: -0.71782\n",
      "epoch: 07, loss: -0.71967\n",
      "epoch: 08, loss: -0.71842\n",
      "epoch: 09, loss: -0.71855\n",
      "After Unsqueezing, feature size= torch.Size([450, 1, 1, 384])\n"
     ]
    },
    {
     "name": "stderr",
     "output_type": "stream",
     "text": [
      " 32%|███▎      | 325/1000 [1:44:09<4:01:30, 21.47s/it]"
     ]
    },
    {
     "name": "stdout",
     "output_type": "stream",
     "text": [
      "eigenvalues shape torch.Size([5]) eigenvectors shape torch.Size([5, 450])\n",
      "325 /home/phdcs2/Hard_Disk/Datasets/Deep-Spectral-Segmentation/data/object-segmentation/ECSSD/features/dino_vits16/0326.pth\n",
      "dict_keys(['k', 'indices', 'file', 'id', 'model_name', 'patch_size', 'shape'])\n",
      "0326\n",
      "Starting Training\n",
      "epoch: 00, loss: -0.49363\n",
      "epoch: 01, loss: -0.63131\n",
      "epoch: 02, loss: -0.67666\n",
      "epoch: 03, loss: -0.67754\n",
      "epoch: 04, loss: -0.67691\n",
      "epoch: 05, loss: -0.67527\n",
      "epoch: 06, loss: -0.68290\n",
      "epoch: 07, loss: -0.70932\n",
      "epoch: 08, loss: -0.71885\n",
      "epoch: 09, loss: -0.72963\n",
      "After Unsqueezing, feature size= torch.Size([425, 1, 1, 384])\n"
     ]
    },
    {
     "name": "stderr",
     "output_type": "stream",
     "text": [
      " 33%|███▎      | 326/1000 [1:44:26<3:46:16, 20.14s/it]"
     ]
    },
    {
     "name": "stdout",
     "output_type": "stream",
     "text": [
      "eigenvalues shape torch.Size([5]) eigenvectors shape torch.Size([5, 425])\n",
      "326 /home/phdcs2/Hard_Disk/Datasets/Deep-Spectral-Segmentation/data/object-segmentation/ECSSD/features/dino_vits16/0327.pth\n",
      "dict_keys(['k', 'indices', 'file', 'id', 'model_name', 'patch_size', 'shape'])\n",
      "0327\n",
      "Starting Training\n",
      "epoch: 00, loss: -0.49628\n",
      "epoch: 01, loss: -0.68102\n",
      "epoch: 02, loss: -0.69802\n",
      "epoch: 03, loss: -0.70226\n",
      "epoch: 04, loss: -0.70756\n",
      "epoch: 05, loss: -0.72005\n",
      "epoch: 06, loss: -0.73440\n",
      "epoch: 07, loss: -0.75060\n",
      "epoch: 08, loss: -0.75737\n",
      "epoch: 09, loss: -0.76504\n",
      "After Unsqueezing, feature size= torch.Size([450, 1, 1, 384])\n"
     ]
    },
    {
     "name": "stderr",
     "output_type": "stream",
     "text": [
      " 33%|███▎      | 327/1000 [1:44:44<3:38:49, 19.51s/it]"
     ]
    },
    {
     "name": "stdout",
     "output_type": "stream",
     "text": [
      "eigenvalues shape torch.Size([5]) eigenvectors shape torch.Size([5, 450])\n",
      "327 /home/phdcs2/Hard_Disk/Datasets/Deep-Spectral-Segmentation/data/object-segmentation/ECSSD/features/dino_vits16/0328.pth\n",
      "dict_keys(['k', 'indices', 'file', 'id', 'model_name', 'patch_size', 'shape'])\n",
      "0328\n",
      "Starting Training\n",
      "epoch: 00, loss: -0.50153\n",
      "epoch: 01, loss: -0.64267\n",
      "epoch: 02, loss: -0.66245\n",
      "epoch: 03, loss: -0.68473\n",
      "epoch: 04, loss: -0.69408\n",
      "epoch: 05, loss: -0.68159\n",
      "epoch: 06, loss: -0.67621\n",
      "epoch: 07, loss: -0.65802\n",
      "epoch: 08, loss: -0.65503\n",
      "epoch: 09, loss: -0.66112\n",
      "After Unsqueezing, feature size= torch.Size([475, 1, 1, 384])\n"
     ]
    },
    {
     "name": "stderr",
     "output_type": "stream",
     "text": [
      " 33%|███▎      | 328/1000 [1:45:04<3:39:41, 19.62s/it]"
     ]
    },
    {
     "name": "stdout",
     "output_type": "stream",
     "text": [
      "eigenvalues shape torch.Size([5]) eigenvectors shape torch.Size([5, 475])\n",
      "328 /home/phdcs2/Hard_Disk/Datasets/Deep-Spectral-Segmentation/data/object-segmentation/ECSSD/features/dino_vits16/0329.pth\n",
      "dict_keys(['k', 'indices', 'file', 'id', 'model_name', 'patch_size', 'shape'])\n",
      "0329\n",
      "Starting Training\n",
      "epoch: 00, loss: -0.55721\n",
      "epoch: 01, loss: -0.69860\n",
      "epoch: 02, loss: -0.71801\n",
      "epoch: 03, loss: -0.72328\n",
      "epoch: 04, loss: -0.73328\n",
      "epoch: 05, loss: -0.73734\n",
      "epoch: 06, loss: -0.74898\n",
      "epoch: 07, loss: -0.75121\n",
      "epoch: 08, loss: -0.74821\n",
      "epoch: 09, loss: -0.75283\n",
      "After Unsqueezing, feature size= torch.Size([500, 1, 1, 384])\n"
     ]
    },
    {
     "name": "stderr",
     "output_type": "stream",
     "text": [
      " 33%|███▎      | 329/1000 [1:45:25<3:44:16, 20.05s/it]"
     ]
    },
    {
     "name": "stdout",
     "output_type": "stream",
     "text": [
      "eigenvalues shape torch.Size([5]) eigenvectors shape torch.Size([5, 500])\n",
      "329 /home/phdcs2/Hard_Disk/Datasets/Deep-Spectral-Segmentation/data/object-segmentation/ECSSD/features/dino_vits16/0330.pth\n",
      "dict_keys(['k', 'indices', 'file', 'id', 'model_name', 'patch_size', 'shape'])\n",
      "0330\n",
      "Starting Training\n",
      "epoch: 00, loss: -0.53473\n",
      "epoch: 01, loss: -0.67380\n",
      "epoch: 02, loss: -0.69770\n",
      "epoch: 03, loss: -0.71868\n",
      "epoch: 04, loss: -0.72840\n",
      "epoch: 05, loss: -0.75292\n",
      "epoch: 06, loss: -0.76288\n",
      "epoch: 07, loss: -0.76343\n",
      "epoch: 08, loss: -0.77916\n",
      "epoch: 09, loss: -0.77895\n",
      "After Unsqueezing, feature size= torch.Size([450, 1, 1, 384])\n"
     ]
    },
    {
     "name": "stderr",
     "output_type": "stream",
     "text": [
      " 33%|███▎      | 330/1000 [1:45:44<3:40:15, 19.72s/it]"
     ]
    },
    {
     "name": "stdout",
     "output_type": "stream",
     "text": [
      "eigenvalues shape torch.Size([5]) eigenvectors shape torch.Size([5, 450])\n",
      "330 /home/phdcs2/Hard_Disk/Datasets/Deep-Spectral-Segmentation/data/object-segmentation/ECSSD/features/dino_vits16/0331.pth\n",
      "dict_keys(['k', 'indices', 'file', 'id', 'model_name', 'patch_size', 'shape'])\n",
      "0331\n",
      "Starting Training\n",
      "epoch: 00, loss: -0.63106\n",
      "epoch: 01, loss: -0.76472\n",
      "epoch: 02, loss: -0.78328\n",
      "epoch: 03, loss: -0.80048\n",
      "epoch: 04, loss: -0.81020\n",
      "epoch: 05, loss: -0.81236\n",
      "epoch: 06, loss: -0.82136\n",
      "epoch: 07, loss: -0.82534\n",
      "epoch: 08, loss: -0.82839\n",
      "epoch: 09, loss: -0.83608\n",
      "After Unsqueezing, feature size= torch.Size([450, 1, 1, 384])\n"
     ]
    },
    {
     "name": "stderr",
     "output_type": "stream",
     "text": [
      " 33%|███▎      | 331/1000 [1:46:04<3:41:12, 19.84s/it]"
     ]
    },
    {
     "name": "stdout",
     "output_type": "stream",
     "text": [
      "eigenvalues shape torch.Size([5]) eigenvectors shape torch.Size([5, 450])\n",
      "331 /home/phdcs2/Hard_Disk/Datasets/Deep-Spectral-Segmentation/data/object-segmentation/ECSSD/features/dino_vits16/0332.pth\n",
      "dict_keys(['k', 'indices', 'file', 'id', 'model_name', 'patch_size', 'shape'])\n",
      "0332\n",
      "Starting Training\n",
      "epoch: 00, loss: -0.56774\n",
      "epoch: 01, loss: -0.72140\n",
      "epoch: 02, loss: -0.73552\n",
      "epoch: 03, loss: -0.74372\n",
      "epoch: 04, loss: -0.74996\n",
      "epoch: 05, loss: -0.75732\n",
      "epoch: 06, loss: -0.76859\n",
      "epoch: 07, loss: -0.76892\n",
      "epoch: 08, loss: -0.76443\n",
      "epoch: 09, loss: -0.76850\n",
      "After Unsqueezing, feature size= torch.Size([400, 1, 1, 384])\n"
     ]
    },
    {
     "name": "stderr",
     "output_type": "stream",
     "text": [
      " 33%|███▎      | 332/1000 [1:46:25<3:45:21, 20.24s/it]"
     ]
    },
    {
     "name": "stdout",
     "output_type": "stream",
     "text": [
      "eigenvalues shape torch.Size([5]) eigenvectors shape torch.Size([5, 400])\n",
      "332 /home/phdcs2/Hard_Disk/Datasets/Deep-Spectral-Segmentation/data/object-segmentation/ECSSD/features/dino_vits16/0333.pth\n",
      "dict_keys(['k', 'indices', 'file', 'id', 'model_name', 'patch_size', 'shape'])\n",
      "0333\n",
      "Starting Training\n",
      "epoch: 00, loss: -0.56205\n",
      "epoch: 01, loss: -0.72742\n",
      "epoch: 02, loss: -0.74746\n",
      "epoch: 03, loss: -0.76476\n",
      "epoch: 04, loss: -0.78226\n",
      "epoch: 05, loss: -0.78725\n",
      "epoch: 06, loss: -0.78926\n",
      "epoch: 07, loss: -0.78145\n",
      "epoch: 08, loss: -0.78050\n",
      "epoch: 09, loss: -0.77492\n",
      "After Unsqueezing, feature size= torch.Size([400, 1, 1, 384])\n"
     ]
    },
    {
     "name": "stderr",
     "output_type": "stream",
     "text": [
      " 33%|███▎      | 333/1000 [1:46:42<3:35:12, 19.36s/it]"
     ]
    },
    {
     "name": "stdout",
     "output_type": "stream",
     "text": [
      "eigenvalues shape torch.Size([5]) eigenvectors shape torch.Size([5, 400])\n",
      "333 /home/phdcs2/Hard_Disk/Datasets/Deep-Spectral-Segmentation/data/object-segmentation/ECSSD/features/dino_vits16/0334.pth\n",
      "dict_keys(['k', 'indices', 'file', 'id', 'model_name', 'patch_size', 'shape'])\n",
      "0334\n",
      "Starting Training\n",
      "epoch: 00, loss: -0.54195\n",
      "epoch: 01, loss: -0.66551\n",
      "epoch: 02, loss: -0.68822\n",
      "epoch: 03, loss: -0.70098\n",
      "epoch: 04, loss: -0.68659\n",
      "epoch: 05, loss: -0.67341\n",
      "epoch: 06, loss: -0.68302\n",
      "epoch: 07, loss: -0.68702\n",
      "epoch: 08, loss: -0.70391\n",
      "epoch: 09, loss: -0.70190\n",
      "After Unsqueezing, feature size= torch.Size([450, 1, 1, 384])\n"
     ]
    },
    {
     "name": "stderr",
     "output_type": "stream",
     "text": [
      " 33%|███▎      | 334/1000 [1:46:59<3:26:17, 18.58s/it]"
     ]
    },
    {
     "name": "stdout",
     "output_type": "stream",
     "text": [
      "eigenvalues shape torch.Size([5]) eigenvectors shape torch.Size([5, 450])\n",
      "334 /home/phdcs2/Hard_Disk/Datasets/Deep-Spectral-Segmentation/data/object-segmentation/ECSSD/features/dino_vits16/0335.pth\n",
      "dict_keys(['k', 'indices', 'file', 'id', 'model_name', 'patch_size', 'shape'])\n",
      "0335\n",
      "Starting Training\n",
      "epoch: 00, loss: -0.46793\n",
      "epoch: 01, loss: -0.61990\n",
      "epoch: 02, loss: -0.66400\n",
      "epoch: 03, loss: -0.67604\n",
      "epoch: 04, loss: -0.69312\n",
      "epoch: 05, loss: -0.70139\n",
      "epoch: 06, loss: -0.70455\n",
      "epoch: 07, loss: -0.71242\n",
      "epoch: 08, loss: -0.71399\n",
      "epoch: 09, loss: -0.71559\n",
      "After Unsqueezing, feature size= torch.Size([400, 1, 1, 384])\n"
     ]
    },
    {
     "name": "stderr",
     "output_type": "stream",
     "text": [
      " 34%|███▎      | 335/1000 [1:47:15<3:18:58, 17.95s/it]"
     ]
    },
    {
     "name": "stdout",
     "output_type": "stream",
     "text": [
      "eigenvalues shape torch.Size([5]) eigenvectors shape torch.Size([5, 400])\n",
      "335 /home/phdcs2/Hard_Disk/Datasets/Deep-Spectral-Segmentation/data/object-segmentation/ECSSD/features/dino_vits16/0336.pth\n",
      "dict_keys(['k', 'indices', 'file', 'id', 'model_name', 'patch_size', 'shape'])\n",
      "0336\n",
      "Starting Training\n",
      "epoch: 00, loss: -0.61650\n",
      "epoch: 01, loss: -0.78471\n",
      "epoch: 02, loss: -0.82372\n",
      "epoch: 03, loss: -0.81745\n",
      "epoch: 04, loss: -0.84746\n",
      "epoch: 05, loss: -0.86001\n",
      "epoch: 06, loss: -0.86854\n",
      "epoch: 07, loss: -0.87734\n",
      "epoch: 08, loss: -0.88354\n",
      "epoch: 09, loss: -0.88758\n",
      "After Unsqueezing, feature size= torch.Size([450, 1, 1, 384])\n"
     ]
    },
    {
     "name": "stderr",
     "output_type": "stream",
     "text": [
      " 34%|███▎      | 336/1000 [1:47:34<3:19:39, 18.04s/it]"
     ]
    },
    {
     "name": "stdout",
     "output_type": "stream",
     "text": [
      "eigenvalues shape torch.Size([5]) eigenvectors shape torch.Size([5, 450])\n",
      "336 /home/phdcs2/Hard_Disk/Datasets/Deep-Spectral-Segmentation/data/object-segmentation/ECSSD/features/dino_vits16/0337.pth\n",
      "dict_keys(['k', 'indices', 'file', 'id', 'model_name', 'patch_size', 'shape'])\n",
      "0337\n",
      "Starting Training\n",
      "epoch: 00, loss: -0.59886\n",
      "epoch: 01, loss: -0.75198\n",
      "epoch: 02, loss: -0.76233\n",
      "epoch: 03, loss: -0.77215\n",
      "epoch: 04, loss: -0.77425\n",
      "epoch: 05, loss: -0.78200\n",
      "epoch: 06, loss: -0.79076\n",
      "epoch: 07, loss: -0.80207\n",
      "epoch: 08, loss: -0.80325\n",
      "epoch: 09, loss: -0.81607\n",
      "After Unsqueezing, feature size= torch.Size([450, 1, 1, 384])\n"
     ]
    },
    {
     "name": "stderr",
     "output_type": "stream",
     "text": [
      " 34%|███▎      | 337/1000 [1:47:54<3:26:52, 18.72s/it]"
     ]
    },
    {
     "name": "stdout",
     "output_type": "stream",
     "text": [
      "eigenvalues shape torch.Size([5]) eigenvectors shape torch.Size([5, 450])\n",
      "337 /home/phdcs2/Hard_Disk/Datasets/Deep-Spectral-Segmentation/data/object-segmentation/ECSSD/features/dino_vits16/0338.pth\n",
      "dict_keys(['k', 'indices', 'file', 'id', 'model_name', 'patch_size', 'shape'])\n",
      "0338\n",
      "Starting Training\n",
      "epoch: 00, loss: -0.52694\n",
      "epoch: 01, loss: -0.68597\n",
      "epoch: 02, loss: -0.71007\n",
      "epoch: 03, loss: -0.70892\n",
      "epoch: 04, loss: -0.71488\n",
      "epoch: 05, loss: -0.74093\n",
      "epoch: 06, loss: -0.75824\n",
      "epoch: 07, loss: -0.76766\n",
      "epoch: 08, loss: -0.78362\n",
      "epoch: 09, loss: -0.78781\n",
      "After Unsqueezing, feature size= torch.Size([450, 1, 1, 384])\n"
     ]
    },
    {
     "name": "stderr",
     "output_type": "stream",
     "text": [
      " 34%|███▍      | 338/1000 [1:48:14<3:32:05, 19.22s/it]"
     ]
    },
    {
     "name": "stdout",
     "output_type": "stream",
     "text": [
      "eigenvalues shape torch.Size([5]) eigenvectors shape torch.Size([5, 450])\n",
      "338 /home/phdcs2/Hard_Disk/Datasets/Deep-Spectral-Segmentation/data/object-segmentation/ECSSD/features/dino_vits16/0339.pth\n",
      "dict_keys(['k', 'indices', 'file', 'id', 'model_name', 'patch_size', 'shape'])\n",
      "0339\n",
      "Starting Training\n",
      "epoch: 00, loss: -0.58980\n",
      "epoch: 01, loss: -0.75738\n",
      "epoch: 02, loss: -0.77466\n",
      "epoch: 03, loss: -0.79035\n",
      "epoch: 04, loss: -0.79003\n",
      "epoch: 05, loss: -0.80123\n",
      "epoch: 06, loss: -0.80055\n",
      "epoch: 07, loss: -0.80887\n",
      "epoch: 08, loss: -0.80889\n",
      "epoch: 09, loss: -0.81598\n",
      "After Unsqueezing, feature size= torch.Size([450, 1, 1, 384])\n"
     ]
    },
    {
     "name": "stderr",
     "output_type": "stream",
     "text": [
      " 34%|███▍      | 339/1000 [1:48:34<3:31:56, 19.24s/it]"
     ]
    },
    {
     "name": "stdout",
     "output_type": "stream",
     "text": [
      "eigenvalues shape torch.Size([5]) eigenvectors shape torch.Size([5, 450])\n",
      "339 /home/phdcs2/Hard_Disk/Datasets/Deep-Spectral-Segmentation/data/object-segmentation/ECSSD/features/dino_vits16/0340.pth\n",
      "dict_keys(['k', 'indices', 'file', 'id', 'model_name', 'patch_size', 'shape'])\n",
      "0340\n",
      "Starting Training\n",
      "epoch: 00, loss: -0.51026\n",
      "epoch: 01, loss: -0.67005\n",
      "epoch: 02, loss: -0.69063\n",
      "epoch: 03, loss: -0.70538\n",
      "epoch: 04, loss: -0.70652\n",
      "epoch: 05, loss: -0.71808\n",
      "epoch: 06, loss: -0.71568\n",
      "epoch: 07, loss: -0.71587\n",
      "epoch: 08, loss: -0.71772\n",
      "epoch: 09, loss: -0.71990\n",
      "After Unsqueezing, feature size= torch.Size([375, 1, 1, 384])\n"
     ]
    },
    {
     "name": "stderr",
     "output_type": "stream",
     "text": [
      " 34%|███▍      | 340/1000 [1:48:48<3:16:35, 17.87s/it]"
     ]
    },
    {
     "name": "stdout",
     "output_type": "stream",
     "text": [
      "eigenvalues shape torch.Size([5]) eigenvectors shape torch.Size([5, 375])\n",
      "340 /home/phdcs2/Hard_Disk/Datasets/Deep-Spectral-Segmentation/data/object-segmentation/ECSSD/features/dino_vits16/0341.pth\n",
      "dict_keys(['k', 'indices', 'file', 'id', 'model_name', 'patch_size', 'shape'])\n",
      "0341\n",
      "Starting Training\n",
      "epoch: 00, loss: -0.51632\n",
      "epoch: 01, loss: -0.69812\n",
      "epoch: 02, loss: -0.71590\n",
      "epoch: 03, loss: -0.71785\n",
      "epoch: 04, loss: -0.71477\n",
      "epoch: 05, loss: -0.71725\n",
      "epoch: 06, loss: -0.71441\n",
      "epoch: 07, loss: -0.71383\n",
      "epoch: 08, loss: -0.72673\n",
      "epoch: 09, loss: -0.73990\n",
      "After Unsqueezing, feature size= torch.Size([375, 1, 1, 384])\n"
     ]
    },
    {
     "name": "stderr",
     "output_type": "stream",
     "text": [
      " 34%|███▍      | 341/1000 [1:49:06<3:14:34, 17.72s/it]"
     ]
    },
    {
     "name": "stdout",
     "output_type": "stream",
     "text": [
      "eigenvalues shape torch.Size([5]) eigenvectors shape torch.Size([5, 375])\n",
      "341 /home/phdcs2/Hard_Disk/Datasets/Deep-Spectral-Segmentation/data/object-segmentation/ECSSD/features/dino_vits16/0342.pth\n",
      "dict_keys(['k', 'indices', 'file', 'id', 'model_name', 'patch_size', 'shape'])\n",
      "0342\n",
      "Starting Training\n",
      "epoch: 00, loss: -0.51596\n",
      "epoch: 01, loss: -0.68199\n",
      "epoch: 02, loss: -0.72140\n",
      "epoch: 03, loss: -0.72690\n",
      "epoch: 04, loss: -0.73962\n",
      "epoch: 05, loss: -0.74988\n",
      "epoch: 06, loss: -0.75428\n",
      "epoch: 07, loss: -0.76907\n",
      "epoch: 08, loss: -0.77284\n",
      "epoch: 09, loss: -0.76369\n",
      "After Unsqueezing, feature size= torch.Size([450, 1, 1, 384])\n"
     ]
    },
    {
     "name": "stderr",
     "output_type": "stream",
     "text": [
      " 34%|███▍      | 342/1000 [1:49:26<3:21:40, 18.39s/it]"
     ]
    },
    {
     "name": "stdout",
     "output_type": "stream",
     "text": [
      "eigenvalues shape torch.Size([5]) eigenvectors shape torch.Size([5, 450])\n",
      "342 /home/phdcs2/Hard_Disk/Datasets/Deep-Spectral-Segmentation/data/object-segmentation/ECSSD/features/dino_vits16/0343.pth\n",
      "dict_keys(['k', 'indices', 'file', 'id', 'model_name', 'patch_size', 'shape'])\n",
      "0343\n",
      "Starting Training\n",
      "epoch: 00, loss: -0.50310\n",
      "epoch: 01, loss: -0.63358\n",
      "epoch: 02, loss: -0.65526\n",
      "epoch: 03, loss: -0.65429\n",
      "epoch: 04, loss: -0.65679\n",
      "epoch: 05, loss: -0.66348\n",
      "epoch: 06, loss: -0.67180\n",
      "epoch: 07, loss: -0.67327\n",
      "epoch: 08, loss: -0.66615\n",
      "epoch: 09, loss: -0.68663\n",
      "After Unsqueezing, feature size= torch.Size([500, 1, 1, 384])\n"
     ]
    },
    {
     "name": "stderr",
     "output_type": "stream",
     "text": [
      " 34%|███▍      | 343/1000 [1:49:45<3:24:34, 18.68s/it]"
     ]
    },
    {
     "name": "stdout",
     "output_type": "stream",
     "text": [
      "eigenvalues shape torch.Size([5]) eigenvectors shape torch.Size([5, 500])\n",
      "343 /home/phdcs2/Hard_Disk/Datasets/Deep-Spectral-Segmentation/data/object-segmentation/ECSSD/features/dino_vits16/0344.pth\n",
      "dict_keys(['k', 'indices', 'file', 'id', 'model_name', 'patch_size', 'shape'])\n",
      "0344\n",
      "Starting Training\n",
      "epoch: 00, loss: -0.47395\n",
      "epoch: 01, loss: -0.65021\n",
      "epoch: 02, loss: -0.68666\n",
      "epoch: 03, loss: -0.70662\n",
      "epoch: 04, loss: -0.70162\n",
      "epoch: 05, loss: -0.69873\n",
      "epoch: 06, loss: -0.70541\n",
      "epoch: 07, loss: -0.71463\n",
      "epoch: 08, loss: -0.72138\n",
      "epoch: 09, loss: -0.73656\n",
      "After Unsqueezing, feature size= torch.Size([450, 1, 1, 384])\n"
     ]
    },
    {
     "name": "stderr",
     "output_type": "stream",
     "text": [
      " 34%|███▍      | 344/1000 [1:50:06<3:32:17, 19.42s/it]"
     ]
    },
    {
     "name": "stdout",
     "output_type": "stream",
     "text": [
      "eigenvalues shape torch.Size([5]) eigenvectors shape torch.Size([5, 450])\n",
      "344 /home/phdcs2/Hard_Disk/Datasets/Deep-Spectral-Segmentation/data/object-segmentation/ECSSD/features/dino_vits16/0345.pth\n",
      "dict_keys(['k', 'indices', 'file', 'id', 'model_name', 'patch_size', 'shape'])\n",
      "0345\n",
      "Starting Training\n",
      "epoch: 00, loss: -0.42465\n",
      "epoch: 01, loss: -0.56351\n",
      "epoch: 02, loss: -0.58007\n",
      "epoch: 03, loss: -0.59038\n",
      "epoch: 04, loss: -0.58821\n",
      "epoch: 05, loss: -0.58227\n",
      "epoch: 06, loss: -0.59827\n",
      "epoch: 07, loss: -0.60300\n",
      "epoch: 08, loss: -0.60533\n",
      "epoch: 09, loss: -0.61411\n",
      "After Unsqueezing, feature size= torch.Size([500, 1, 1, 384])\n"
     ]
    },
    {
     "name": "stderr",
     "output_type": "stream",
     "text": [
      " 34%|███▍      | 345/1000 [1:50:29<3:42:22, 20.37s/it]"
     ]
    },
    {
     "name": "stdout",
     "output_type": "stream",
     "text": [
      "eigenvalues shape torch.Size([5]) eigenvectors shape torch.Size([5, 500])\n",
      "345 /home/phdcs2/Hard_Disk/Datasets/Deep-Spectral-Segmentation/data/object-segmentation/ECSSD/features/dino_vits16/0346.pth\n",
      "dict_keys(['k', 'indices', 'file', 'id', 'model_name', 'patch_size', 'shape'])\n",
      "0346\n",
      "Starting Training\n",
      "epoch: 00, loss: -0.54302\n",
      "epoch: 01, loss: -0.71490\n",
      "epoch: 02, loss: -0.72400\n",
      "epoch: 03, loss: -0.73542\n",
      "epoch: 04, loss: -0.76333\n",
      "epoch: 05, loss: -0.77562\n",
      "epoch: 06, loss: -0.77058\n",
      "epoch: 07, loss: -0.76579\n",
      "epoch: 08, loss: -0.78243\n",
      "epoch: 09, loss: -0.78712\n",
      "After Unsqueezing, feature size= torch.Size([450, 1, 1, 384])\n"
     ]
    },
    {
     "name": "stderr",
     "output_type": "stream",
     "text": [
      " 35%|███▍      | 346/1000 [1:50:48<3:36:58, 19.91s/it]"
     ]
    },
    {
     "name": "stdout",
     "output_type": "stream",
     "text": [
      "eigenvalues shape torch.Size([5]) eigenvectors shape torch.Size([5, 450])\n",
      "346 /home/phdcs2/Hard_Disk/Datasets/Deep-Spectral-Segmentation/data/object-segmentation/ECSSD/features/dino_vits16/0347.pth\n",
      "dict_keys(['k', 'indices', 'file', 'id', 'model_name', 'patch_size', 'shape'])\n",
      "0347\n",
      "Starting Training\n",
      "epoch: 00, loss: -0.57531\n",
      "epoch: 01, loss: -0.72486\n",
      "epoch: 02, loss: -0.73104\n",
      "epoch: 03, loss: -0.73902\n",
      "epoch: 04, loss: -0.75537\n",
      "epoch: 05, loss: -0.76701\n",
      "epoch: 06, loss: -0.77325\n",
      "epoch: 07, loss: -0.78330\n",
      "epoch: 08, loss: -0.80031\n",
      "epoch: 09, loss: -0.81349\n",
      "After Unsqueezing, feature size= torch.Size([450, 1, 1, 384])\n"
     ]
    },
    {
     "name": "stderr",
     "output_type": "stream",
     "text": [
      " 35%|███▍      | 347/1000 [1:51:07<3:36:03, 19.85s/it]"
     ]
    },
    {
     "name": "stdout",
     "output_type": "stream",
     "text": [
      "eigenvalues shape torch.Size([5]) eigenvectors shape torch.Size([5, 450])\n",
      "347 /home/phdcs2/Hard_Disk/Datasets/Deep-Spectral-Segmentation/data/object-segmentation/ECSSD/features/dino_vits16/0348.pth\n",
      "dict_keys(['k', 'indices', 'file', 'id', 'model_name', 'patch_size', 'shape'])\n",
      "0348\n",
      "Starting Training\n",
      "epoch: 00, loss: -0.55589\n",
      "epoch: 01, loss: -0.71210\n",
      "epoch: 02, loss: -0.73925\n",
      "epoch: 03, loss: -0.74555\n",
      "epoch: 04, loss: -0.74734\n",
      "epoch: 05, loss: -0.76175\n",
      "epoch: 06, loss: -0.77388\n",
      "epoch: 07, loss: -0.78231\n",
      "epoch: 08, loss: -0.78698\n",
      "epoch: 09, loss: -0.78122\n",
      "After Unsqueezing, feature size= torch.Size([400, 1, 1, 384])\n"
     ]
    },
    {
     "name": "stderr",
     "output_type": "stream",
     "text": [
      " 35%|███▍      | 348/1000 [1:51:25<3:28:24, 19.18s/it]"
     ]
    },
    {
     "name": "stdout",
     "output_type": "stream",
     "text": [
      "eigenvalues shape torch.Size([5]) eigenvectors shape torch.Size([5, 400])\n",
      "348 /home/phdcs2/Hard_Disk/Datasets/Deep-Spectral-Segmentation/data/object-segmentation/ECSSD/features/dino_vits16/0349.pth\n",
      "dict_keys(['k', 'indices', 'file', 'id', 'model_name', 'patch_size', 'shape'])\n",
      "0349\n",
      "Starting Training\n",
      "epoch: 00, loss: -0.55096\n",
      "epoch: 01, loss: -0.71968\n",
      "epoch: 02, loss: -0.72603\n",
      "epoch: 03, loss: -0.74119\n",
      "epoch: 04, loss: -0.76768\n",
      "epoch: 05, loss: -0.78783\n",
      "epoch: 06, loss: -0.80511\n",
      "epoch: 07, loss: -0.78445\n",
      "epoch: 08, loss: -0.79069\n",
      "epoch: 09, loss: -0.79893\n",
      "After Unsqueezing, feature size= torch.Size([400, 1, 1, 384])\n"
     ]
    },
    {
     "name": "stderr",
     "output_type": "stream",
     "text": [
      " 35%|███▍      | 349/1000 [1:51:41<3:19:26, 18.38s/it]"
     ]
    },
    {
     "name": "stdout",
     "output_type": "stream",
     "text": [
      "eigenvalues shape torch.Size([5]) eigenvectors shape torch.Size([5, 400])\n",
      "349 /home/phdcs2/Hard_Disk/Datasets/Deep-Spectral-Segmentation/data/object-segmentation/ECSSD/features/dino_vits16/0350.pth\n",
      "dict_keys(['k', 'indices', 'file', 'id', 'model_name', 'patch_size', 'shape'])\n",
      "0350\n",
      "Starting Training\n",
      "epoch: 00, loss: -0.56099\n",
      "epoch: 01, loss: -0.71584\n",
      "epoch: 02, loss: -0.75179\n",
      "epoch: 03, loss: -0.76928\n",
      "epoch: 04, loss: -0.78638\n",
      "epoch: 05, loss: -0.79655\n",
      "epoch: 06, loss: -0.80157\n",
      "epoch: 07, loss: -0.80956\n",
      "epoch: 08, loss: -0.81217\n",
      "epoch: 09, loss: -0.81996\n",
      "After Unsqueezing, feature size= torch.Size([475, 1, 1, 384])\n"
     ]
    },
    {
     "name": "stderr",
     "output_type": "stream",
     "text": [
      " 35%|███▌      | 350/1000 [1:52:00<3:21:05, 18.56s/it]"
     ]
    },
    {
     "name": "stdout",
     "output_type": "stream",
     "text": [
      "eigenvalues shape torch.Size([5]) eigenvectors shape torch.Size([5, 475])\n",
      "350 /home/phdcs2/Hard_Disk/Datasets/Deep-Spectral-Segmentation/data/object-segmentation/ECSSD/features/dino_vits16/0351.pth\n",
      "dict_keys(['k', 'indices', 'file', 'id', 'model_name', 'patch_size', 'shape'])\n",
      "0351\n",
      "Starting Training\n",
      "epoch: 00, loss: -0.58758\n",
      "epoch: 01, loss: -0.73638\n",
      "epoch: 02, loss: -0.76304\n",
      "epoch: 03, loss: -0.78198\n",
      "epoch: 04, loss: -0.76411\n",
      "epoch: 05, loss: -0.74059\n",
      "epoch: 06, loss: -0.76994\n",
      "epoch: 07, loss: -0.78267\n",
      "epoch: 08, loss: -0.77386\n",
      "epoch: 09, loss: -0.78793\n",
      "After Unsqueezing, feature size= torch.Size([450, 1, 1, 384])\n"
     ]
    },
    {
     "name": "stderr",
     "output_type": "stream",
     "text": [
      " 35%|███▌      | 351/1000 [1:52:22<3:31:59, 19.60s/it]"
     ]
    },
    {
     "name": "stdout",
     "output_type": "stream",
     "text": [
      "eigenvalues shape torch.Size([5]) eigenvectors shape torch.Size([5, 450])\n",
      "351 /home/phdcs2/Hard_Disk/Datasets/Deep-Spectral-Segmentation/data/object-segmentation/ECSSD/features/dino_vits16/0352.pth\n",
      "dict_keys(['k', 'indices', 'file', 'id', 'model_name', 'patch_size', 'shape'])\n",
      "0352\n",
      "Starting Training\n",
      "epoch: 00, loss: -0.50871\n",
      "epoch: 01, loss: -0.62645\n",
      "epoch: 02, loss: -0.65497\n",
      "epoch: 03, loss: -0.67474\n",
      "epoch: 04, loss: -0.67960\n",
      "epoch: 05, loss: -0.66360\n",
      "epoch: 06, loss: -0.66464\n",
      "epoch: 07, loss: -0.67732\n",
      "epoch: 08, loss: -0.68657\n",
      "epoch: 09, loss: -0.68591\n",
      "After Unsqueezing, feature size= torch.Size([400, 1, 1, 384])\n"
     ]
    },
    {
     "name": "stderr",
     "output_type": "stream",
     "text": [
      " 35%|███▌      | 352/1000 [1:52:42<3:31:58, 19.63s/it]"
     ]
    },
    {
     "name": "stdout",
     "output_type": "stream",
     "text": [
      "eigenvalues shape torch.Size([5]) eigenvectors shape torch.Size([5, 400])\n",
      "352 /home/phdcs2/Hard_Disk/Datasets/Deep-Spectral-Segmentation/data/object-segmentation/ECSSD/features/dino_vits16/0353.pth\n",
      "dict_keys(['k', 'indices', 'file', 'id', 'model_name', 'patch_size', 'shape'])\n",
      "0353\n",
      "Starting Training\n",
      "epoch: 00, loss: -0.52635\n",
      "epoch: 01, loss: -0.71956\n",
      "epoch: 02, loss: -0.73970\n",
      "epoch: 03, loss: -0.74404\n",
      "epoch: 04, loss: -0.75416\n",
      "epoch: 05, loss: -0.76492\n",
      "epoch: 06, loss: -0.77880\n",
      "epoch: 07, loss: -0.78033\n",
      "epoch: 08, loss: -0.76812\n",
      "epoch: 09, loss: -0.77487\n",
      "After Unsqueezing, feature size= torch.Size([425, 1, 1, 384])\n"
     ]
    },
    {
     "name": "stderr",
     "output_type": "stream",
     "text": [
      " 35%|███▌      | 353/1000 [1:53:03<3:34:16, 19.87s/it]"
     ]
    },
    {
     "name": "stdout",
     "output_type": "stream",
     "text": [
      "eigenvalues shape torch.Size([5]) eigenvectors shape torch.Size([5, 425])\n",
      "353 /home/phdcs2/Hard_Disk/Datasets/Deep-Spectral-Segmentation/data/object-segmentation/ECSSD/features/dino_vits16/0354.pth\n",
      "dict_keys(['k', 'indices', 'file', 'id', 'model_name', 'patch_size', 'shape'])\n",
      "0354\n",
      "Starting Training\n",
      "epoch: 00, loss: -0.58859\n",
      "epoch: 01, loss: -0.70178\n",
      "epoch: 02, loss: -0.71391\n",
      "epoch: 03, loss: -0.73491\n",
      "epoch: 04, loss: -0.73845\n",
      "epoch: 05, loss: -0.73896\n",
      "epoch: 06, loss: -0.74566\n",
      "epoch: 07, loss: -0.73710\n",
      "epoch: 08, loss: -0.75612\n",
      "epoch: 09, loss: -0.76534\n",
      "After Unsqueezing, feature size= torch.Size([575, 1, 1, 384])\n"
     ]
    },
    {
     "name": "stderr",
     "output_type": "stream",
     "text": [
      " 35%|███▌      | 354/1000 [1:53:29<3:53:40, 21.70s/it]"
     ]
    },
    {
     "name": "stdout",
     "output_type": "stream",
     "text": [
      "eigenvalues shape torch.Size([5]) eigenvectors shape torch.Size([5, 575])\n",
      "354 /home/phdcs2/Hard_Disk/Datasets/Deep-Spectral-Segmentation/data/object-segmentation/ECSSD/features/dino_vits16/0355.pth\n",
      "dict_keys(['k', 'indices', 'file', 'id', 'model_name', 'patch_size', 'shape'])\n",
      "0355\n",
      "Starting Training\n",
      "epoch: 00, loss: -0.51942\n",
      "epoch: 01, loss: -0.66332\n",
      "epoch: 02, loss: -0.68260\n",
      "epoch: 03, loss: -0.70568\n",
      "epoch: 04, loss: -0.71822\n",
      "epoch: 05, loss: -0.72882\n",
      "epoch: 06, loss: -0.72577\n",
      "epoch: 07, loss: -0.71087\n",
      "epoch: 08, loss: -0.70520\n",
      "epoch: 09, loss: -0.72210\n",
      "After Unsqueezing, feature size= torch.Size([450, 1, 1, 384])\n"
     ]
    },
    {
     "name": "stderr",
     "output_type": "stream",
     "text": [
      " 36%|███▌      | 355/1000 [1:53:46<3:40:52, 20.55s/it]"
     ]
    },
    {
     "name": "stdout",
     "output_type": "stream",
     "text": [
      "eigenvalues shape torch.Size([5]) eigenvectors shape torch.Size([5, 450])\n",
      "355 /home/phdcs2/Hard_Disk/Datasets/Deep-Spectral-Segmentation/data/object-segmentation/ECSSD/features/dino_vits16/0356.pth\n",
      "dict_keys(['k', 'indices', 'file', 'id', 'model_name', 'patch_size', 'shape'])\n",
      "0356\n",
      "Starting Training\n",
      "epoch: 00, loss: -0.56991\n",
      "epoch: 01, loss: -0.73368\n",
      "epoch: 02, loss: -0.75455\n",
      "epoch: 03, loss: -0.76569\n",
      "epoch: 04, loss: -0.77478\n",
      "epoch: 05, loss: -0.78220\n",
      "epoch: 06, loss: -0.78179\n",
      "epoch: 07, loss: -0.78533\n",
      "epoch: 08, loss: -0.78369\n",
      "epoch: 09, loss: -0.78571\n",
      "After Unsqueezing, feature size= torch.Size([450, 1, 1, 384])\n"
     ]
    },
    {
     "name": "stderr",
     "output_type": "stream",
     "text": [
      " 36%|███▌      | 356/1000 [1:54:06<3:37:59, 20.31s/it]"
     ]
    },
    {
     "name": "stdout",
     "output_type": "stream",
     "text": [
      "eigenvalues shape torch.Size([5]) eigenvectors shape torch.Size([5, 450])\n",
      "356 /home/phdcs2/Hard_Disk/Datasets/Deep-Spectral-Segmentation/data/object-segmentation/ECSSD/features/dino_vits16/0357.pth\n",
      "dict_keys(['k', 'indices', 'file', 'id', 'model_name', 'patch_size', 'shape'])\n",
      "0357\n",
      "Starting Training\n",
      "epoch: 00, loss: -0.58980\n",
      "epoch: 01, loss: -0.73308\n",
      "epoch: 02, loss: -0.75958\n",
      "epoch: 03, loss: -0.76927\n",
      "epoch: 04, loss: -0.77516\n",
      "epoch: 05, loss: -0.77992\n",
      "epoch: 06, loss: -0.79990\n",
      "epoch: 07, loss: -0.79662\n",
      "epoch: 08, loss: -0.80096\n",
      "epoch: 09, loss: -0.80397\n",
      "After Unsqueezing, feature size= torch.Size([475, 1, 1, 384])\n"
     ]
    },
    {
     "name": "stderr",
     "output_type": "stream",
     "text": [
      " 36%|███▌      | 357/1000 [1:54:30<3:49:37, 21.43s/it]"
     ]
    },
    {
     "name": "stdout",
     "output_type": "stream",
     "text": [
      "eigenvalues shape torch.Size([5]) eigenvectors shape torch.Size([5, 475])\n",
      "357 /home/phdcs2/Hard_Disk/Datasets/Deep-Spectral-Segmentation/data/object-segmentation/ECSSD/features/dino_vits16/0358.pth\n",
      "dict_keys(['k', 'indices', 'file', 'id', 'model_name', 'patch_size', 'shape'])\n",
      "0358\n",
      "Starting Training\n",
      "epoch: 00, loss: -0.49367\n",
      "epoch: 01, loss: -0.65932\n",
      "epoch: 02, loss: -0.68765\n",
      "epoch: 03, loss: -0.68865\n",
      "epoch: 04, loss: -0.69260\n",
      "epoch: 05, loss: -0.70390\n",
      "epoch: 06, loss: -0.71422\n",
      "epoch: 07, loss: -0.71451\n",
      "epoch: 08, loss: -0.72040\n",
      "epoch: 09, loss: -0.71342\n",
      "After Unsqueezing, feature size= torch.Size([400, 1, 1, 384])\n"
     ]
    },
    {
     "name": "stderr",
     "output_type": "stream",
     "text": [
      " 36%|███▌      | 358/1000 [1:54:52<3:50:46, 21.57s/it]"
     ]
    },
    {
     "name": "stdout",
     "output_type": "stream",
     "text": [
      "eigenvalues shape torch.Size([5]) eigenvectors shape torch.Size([5, 400])\n",
      "358 /home/phdcs2/Hard_Disk/Datasets/Deep-Spectral-Segmentation/data/object-segmentation/ECSSD/features/dino_vits16/0359.pth\n",
      "dict_keys(['k', 'indices', 'file', 'id', 'model_name', 'patch_size', 'shape'])\n",
      "0359\n",
      "Starting Training\n",
      "epoch: 00, loss: -0.50396\n",
      "epoch: 01, loss: -0.66188\n",
      "epoch: 02, loss: -0.68723\n",
      "epoch: 03, loss: -0.70185\n",
      "epoch: 04, loss: -0.70905\n",
      "epoch: 05, loss: -0.72590\n",
      "epoch: 06, loss: -0.73559\n",
      "epoch: 07, loss: -0.73863\n",
      "epoch: 08, loss: -0.72980\n",
      "epoch: 09, loss: -0.72708\n",
      "After Unsqueezing, feature size= torch.Size([350, 1, 1, 384])\n"
     ]
    },
    {
     "name": "stderr",
     "output_type": "stream",
     "text": [
      " 36%|███▌      | 359/1000 [1:55:06<3:27:23, 19.41s/it]"
     ]
    },
    {
     "name": "stdout",
     "output_type": "stream",
     "text": [
      "eigenvalues shape torch.Size([5]) eigenvectors shape torch.Size([5, 350])\n",
      "359 /home/phdcs2/Hard_Disk/Datasets/Deep-Spectral-Segmentation/data/object-segmentation/ECSSD/features/dino_vits16/0360.pth\n",
      "dict_keys(['k', 'indices', 'file', 'id', 'model_name', 'patch_size', 'shape'])\n",
      "0360\n",
      "Starting Training\n",
      "epoch: 00, loss: -0.53045\n",
      "epoch: 01, loss: -0.67403\n",
      "epoch: 02, loss: -0.71408\n",
      "epoch: 03, loss: -0.72575\n",
      "epoch: 04, loss: -0.73641\n",
      "epoch: 05, loss: -0.74440\n",
      "epoch: 06, loss: -0.75386\n",
      "epoch: 07, loss: -0.76495\n",
      "epoch: 08, loss: -0.76702\n",
      "epoch: 09, loss: -0.76515\n",
      "After Unsqueezing, feature size= torch.Size([400, 1, 1, 384])\n"
     ]
    },
    {
     "name": "stderr",
     "output_type": "stream",
     "text": [
      " 36%|███▌      | 360/1000 [1:55:23<3:18:00, 18.56s/it]"
     ]
    },
    {
     "name": "stdout",
     "output_type": "stream",
     "text": [
      "eigenvalues shape torch.Size([5]) eigenvectors shape torch.Size([5, 400])\n",
      "360 /home/phdcs2/Hard_Disk/Datasets/Deep-Spectral-Segmentation/data/object-segmentation/ECSSD/features/dino_vits16/0361.pth\n",
      "dict_keys(['k', 'indices', 'file', 'id', 'model_name', 'patch_size', 'shape'])\n",
      "0361\n",
      "Starting Training\n",
      "epoch: 00, loss: -0.56415\n",
      "epoch: 01, loss: -0.72071\n",
      "epoch: 02, loss: -0.73432\n",
      "epoch: 03, loss: -0.72687\n",
      "epoch: 04, loss: -0.73855\n",
      "epoch: 05, loss: -0.75504\n",
      "epoch: 06, loss: -0.75021\n",
      "epoch: 07, loss: -0.74497\n",
      "epoch: 08, loss: -0.74730\n",
      "epoch: 09, loss: -0.72003\n",
      "After Unsqueezing, feature size= torch.Size([400, 1, 1, 384])\n"
     ]
    },
    {
     "name": "stderr",
     "output_type": "stream",
     "text": [
      " 36%|███▌      | 361/1000 [1:55:39<3:10:11, 17.86s/it]"
     ]
    },
    {
     "name": "stdout",
     "output_type": "stream",
     "text": [
      "eigenvalues shape torch.Size([5]) eigenvectors shape torch.Size([5, 400])\n",
      "361 /home/phdcs2/Hard_Disk/Datasets/Deep-Spectral-Segmentation/data/object-segmentation/ECSSD/features/dino_vits16/0362.pth\n",
      "dict_keys(['k', 'indices', 'file', 'id', 'model_name', 'patch_size', 'shape'])\n",
      "0362\n",
      "Starting Training\n",
      "epoch: 00, loss: -0.52848\n",
      "epoch: 01, loss: -0.66253\n",
      "epoch: 02, loss: -0.71012\n",
      "epoch: 03, loss: -0.71549\n",
      "epoch: 04, loss: -0.71404\n",
      "epoch: 05, loss: -0.73044\n",
      "epoch: 06, loss: -0.73158\n",
      "epoch: 07, loss: -0.74570\n",
      "epoch: 08, loss: -0.76411\n",
      "epoch: 09, loss: -0.75631\n",
      "After Unsqueezing, feature size= torch.Size([500, 1, 1, 384])\n"
     ]
    },
    {
     "name": "stderr",
     "output_type": "stream",
     "text": [
      " 36%|███▌      | 362/1000 [1:56:01<3:23:36, 19.15s/it]"
     ]
    },
    {
     "name": "stdout",
     "output_type": "stream",
     "text": [
      "eigenvalues shape torch.Size([5]) eigenvectors shape torch.Size([5, 500])\n",
      "362 /home/phdcs2/Hard_Disk/Datasets/Deep-Spectral-Segmentation/data/object-segmentation/ECSSD/features/dino_vits16/0363.pth\n",
      "dict_keys(['k', 'indices', 'file', 'id', 'model_name', 'patch_size', 'shape'])\n",
      "0363\n",
      "Starting Training\n",
      "epoch: 00, loss: -0.60949\n",
      "epoch: 01, loss: -0.73878\n",
      "epoch: 02, loss: -0.76326\n",
      "epoch: 03, loss: -0.77841\n",
      "epoch: 04, loss: -0.78565\n",
      "epoch: 05, loss: -0.79952\n",
      "epoch: 06, loss: -0.80891\n",
      "epoch: 07, loss: -0.81131\n",
      "epoch: 08, loss: -0.80421\n",
      "epoch: 09, loss: -0.81416\n",
      "After Unsqueezing, feature size= torch.Size([625, 1, 1, 384])\n"
     ]
    },
    {
     "name": "stderr",
     "output_type": "stream",
     "text": [
      " 36%|███▋      | 363/1000 [1:56:29<3:51:20, 21.79s/it]"
     ]
    },
    {
     "name": "stdout",
     "output_type": "stream",
     "text": [
      "eigenvalues shape torch.Size([5]) eigenvectors shape torch.Size([5, 625])\n",
      "363 /home/phdcs2/Hard_Disk/Datasets/Deep-Spectral-Segmentation/data/object-segmentation/ECSSD/features/dino_vits16/0364.pth\n",
      "dict_keys(['k', 'indices', 'file', 'id', 'model_name', 'patch_size', 'shape'])\n",
      "0364\n",
      "Starting Training\n",
      "epoch: 00, loss: -0.52002\n",
      "epoch: 01, loss: -0.68069\n",
      "epoch: 02, loss: -0.70123\n",
      "epoch: 03, loss: -0.71016\n",
      "epoch: 04, loss: -0.71273\n",
      "epoch: 05, loss: -0.71074\n",
      "epoch: 06, loss: -0.72106\n",
      "epoch: 07, loss: -0.72618\n",
      "epoch: 08, loss: -0.73660\n",
      "epoch: 09, loss: -0.74987\n",
      "After Unsqueezing, feature size= torch.Size([450, 1, 1, 384])\n"
     ]
    },
    {
     "name": "stderr",
     "output_type": "stream",
     "text": [
      " 36%|███▋      | 364/1000 [1:56:49<3:42:48, 21.02s/it]"
     ]
    },
    {
     "name": "stdout",
     "output_type": "stream",
     "text": [
      "eigenvalues shape torch.Size([5]) eigenvectors shape torch.Size([5, 450])\n",
      "364 /home/phdcs2/Hard_Disk/Datasets/Deep-Spectral-Segmentation/data/object-segmentation/ECSSD/features/dino_vits16/0365.pth\n",
      "dict_keys(['k', 'indices', 'file', 'id', 'model_name', 'patch_size', 'shape'])\n",
      "0365\n",
      "Starting Training\n",
      "epoch: 00, loss: -0.55142\n",
      "epoch: 01, loss: -0.69183\n",
      "epoch: 02, loss: -0.71598\n",
      "epoch: 03, loss: -0.70955\n",
      "epoch: 04, loss: -0.71706\n",
      "epoch: 05, loss: -0.71356\n",
      "epoch: 06, loss: -0.71537\n",
      "epoch: 07, loss: -0.72244\n",
      "epoch: 08, loss: -0.72942\n",
      "epoch: 09, loss: -0.73576\n",
      "After Unsqueezing, feature size= torch.Size([450, 1, 1, 384])\n"
     ]
    },
    {
     "name": "stderr",
     "output_type": "stream",
     "text": [
      " 36%|███▋      | 365/1000 [1:57:10<3:44:37, 21.22s/it]"
     ]
    },
    {
     "name": "stdout",
     "output_type": "stream",
     "text": [
      "eigenvalues shape torch.Size([5]) eigenvectors shape torch.Size([5, 450])\n",
      "365 /home/phdcs2/Hard_Disk/Datasets/Deep-Spectral-Segmentation/data/object-segmentation/ECSSD/features/dino_vits16/0366.pth\n",
      "dict_keys(['k', 'indices', 'file', 'id', 'model_name', 'patch_size', 'shape'])\n",
      "0366\n",
      "Starting Training\n",
      "epoch: 00, loss: -0.57636\n",
      "epoch: 01, loss: -0.73529\n",
      "epoch: 02, loss: -0.75523\n",
      "epoch: 03, loss: -0.74844\n",
      "epoch: 04, loss: -0.75297\n",
      "epoch: 05, loss: -0.77719\n",
      "epoch: 06, loss: -0.78665\n",
      "epoch: 07, loss: -0.78983\n",
      "epoch: 08, loss: -0.79805\n",
      "epoch: 09, loss: -0.78682\n",
      "After Unsqueezing, feature size= torch.Size([500, 1, 1, 384])\n"
     ]
    },
    {
     "name": "stderr",
     "output_type": "stream",
     "text": [
      " 37%|███▋      | 366/1000 [1:57:36<3:57:21, 22.46s/it]"
     ]
    },
    {
     "name": "stdout",
     "output_type": "stream",
     "text": [
      "eigenvalues shape torch.Size([5]) eigenvectors shape torch.Size([5, 500])\n",
      "366 /home/phdcs2/Hard_Disk/Datasets/Deep-Spectral-Segmentation/data/object-segmentation/ECSSD/features/dino_vits16/0367.pth\n",
      "dict_keys(['k', 'indices', 'file', 'id', 'model_name', 'patch_size', 'shape'])\n",
      "0367\n",
      "Starting Training\n",
      "epoch: 00, loss: -0.46847\n",
      "epoch: 01, loss: -0.61043\n",
      "epoch: 02, loss: -0.63735\n",
      "epoch: 03, loss: -0.65257\n",
      "epoch: 04, loss: -0.66281\n",
      "epoch: 05, loss: -0.66397\n",
      "epoch: 06, loss: -0.66349\n",
      "epoch: 07, loss: -0.65239\n",
      "epoch: 08, loss: -0.66169\n",
      "epoch: 09, loss: -0.65982\n",
      "After Unsqueezing, feature size= torch.Size([400, 1, 1, 384])\n"
     ]
    },
    {
     "name": "stderr",
     "output_type": "stream",
     "text": [
      " 37%|███▋      | 367/1000 [1:57:56<3:49:44, 21.78s/it]"
     ]
    },
    {
     "name": "stdout",
     "output_type": "stream",
     "text": [
      "eigenvalues shape torch.Size([5]) eigenvectors shape torch.Size([5, 400])\n",
      "367 /home/phdcs2/Hard_Disk/Datasets/Deep-Spectral-Segmentation/data/object-segmentation/ECSSD/features/dino_vits16/0368.pth\n",
      "dict_keys(['k', 'indices', 'file', 'id', 'model_name', 'patch_size', 'shape'])\n",
      "0368\n",
      "Starting Training\n",
      "epoch: 00, loss: -0.55440\n",
      "epoch: 01, loss: -0.72554\n",
      "epoch: 02, loss: -0.72767\n",
      "epoch: 03, loss: -0.74384\n",
      "epoch: 04, loss: -0.75844\n",
      "epoch: 05, loss: -0.76824\n",
      "epoch: 06, loss: -0.77807\n",
      "epoch: 07, loss: -0.77108\n",
      "epoch: 08, loss: -0.77833\n",
      "epoch: 09, loss: -0.78763\n",
      "After Unsqueezing, feature size= torch.Size([400, 1, 1, 384])\n"
     ]
    },
    {
     "name": "stderr",
     "output_type": "stream",
     "text": [
      " 37%|███▋      | 368/1000 [1:58:14<3:38:07, 20.71s/it]"
     ]
    },
    {
     "name": "stdout",
     "output_type": "stream",
     "text": [
      "eigenvalues shape torch.Size([5]) eigenvectors shape torch.Size([5, 400])\n",
      "368 /home/phdcs2/Hard_Disk/Datasets/Deep-Spectral-Segmentation/data/object-segmentation/ECSSD/features/dino_vits16/0369.pth\n",
      "dict_keys(['k', 'indices', 'file', 'id', 'model_name', 'patch_size', 'shape'])\n",
      "0369\n",
      "Starting Training\n",
      "epoch: 00, loss: -0.55442\n",
      "epoch: 01, loss: -0.71122\n",
      "epoch: 02, loss: -0.72535\n",
      "epoch: 03, loss: -0.73239\n",
      "epoch: 04, loss: -0.74251\n",
      "epoch: 05, loss: -0.74053\n",
      "epoch: 06, loss: -0.74827\n",
      "epoch: 07, loss: -0.75199\n",
      "epoch: 08, loss: -0.75159\n",
      "epoch: 09, loss: -0.75307\n",
      "After Unsqueezing, feature size= torch.Size([400, 1, 1, 384])\n"
     ]
    },
    {
     "name": "stderr",
     "output_type": "stream",
     "text": [
      " 37%|███▋      | 369/1000 [1:58:33<3:33:29, 20.30s/it]"
     ]
    },
    {
     "name": "stdout",
     "output_type": "stream",
     "text": [
      "eigenvalues shape torch.Size([5]) eigenvectors shape torch.Size([5, 400])\n",
      "369 /home/phdcs2/Hard_Disk/Datasets/Deep-Spectral-Segmentation/data/object-segmentation/ECSSD/features/dino_vits16/0370.pth\n",
      "dict_keys(['k', 'indices', 'file', 'id', 'model_name', 'patch_size', 'shape'])\n",
      "0370\n",
      "Starting Training\n",
      "epoch: 00, loss: -0.49832\n",
      "epoch: 01, loss: -0.61350\n",
      "epoch: 02, loss: -0.63715\n",
      "epoch: 03, loss: -0.63085\n",
      "epoch: 04, loss: -0.65145\n",
      "epoch: 05, loss: -0.67050\n",
      "epoch: 06, loss: -0.67972\n",
      "epoch: 07, loss: -0.68634\n",
      "epoch: 08, loss: -0.70472\n",
      "epoch: 09, loss: -0.73310\n",
      "After Unsqueezing, feature size= torch.Size([600, 1, 1, 384])\n"
     ]
    },
    {
     "name": "stderr",
     "output_type": "stream",
     "text": [
      " 37%|███▋      | 370/1000 [1:59:02<3:58:54, 22.75s/it]"
     ]
    },
    {
     "name": "stdout",
     "output_type": "stream",
     "text": [
      "eigenvalues shape torch.Size([5]) eigenvectors shape torch.Size([5, 600])\n",
      "370 /home/phdcs2/Hard_Disk/Datasets/Deep-Spectral-Segmentation/data/object-segmentation/ECSSD/features/dino_vits16/0371.pth\n",
      "dict_keys(['k', 'indices', 'file', 'id', 'model_name', 'patch_size', 'shape'])\n",
      "0371\n",
      "Starting Training\n",
      "epoch: 00, loss: -0.59566\n",
      "epoch: 01, loss: -0.75823\n",
      "epoch: 02, loss: -0.77608\n",
      "epoch: 03, loss: -0.76762\n",
      "epoch: 04, loss: -0.77261\n",
      "epoch: 05, loss: -0.78315\n",
      "epoch: 06, loss: -0.78694\n",
      "epoch: 07, loss: -0.78242\n",
      "epoch: 08, loss: -0.78684\n",
      "epoch: 09, loss: -0.76932\n",
      "After Unsqueezing, feature size= torch.Size([550, 1, 1, 384])\n"
     ]
    },
    {
     "name": "stderr",
     "output_type": "stream",
     "text": [
      " 37%|███▋      | 371/1000 [1:59:28<4:09:57, 23.84s/it]"
     ]
    },
    {
     "name": "stdout",
     "output_type": "stream",
     "text": [
      "eigenvalues shape torch.Size([5]) eigenvectors shape torch.Size([5, 550])\n",
      "371 /home/phdcs2/Hard_Disk/Datasets/Deep-Spectral-Segmentation/data/object-segmentation/ECSSD/features/dino_vits16/0372.pth\n",
      "dict_keys(['k', 'indices', 'file', 'id', 'model_name', 'patch_size', 'shape'])\n",
      "0372\n",
      "Starting Training\n",
      "epoch: 00, loss: -0.53328\n",
      "epoch: 01, loss: -0.68752\n",
      "epoch: 02, loss: -0.72393\n",
      "epoch: 03, loss: -0.74949\n",
      "epoch: 04, loss: -0.73726\n",
      "epoch: 05, loss: -0.73658\n",
      "epoch: 06, loss: -0.74312\n",
      "epoch: 07, loss: -0.74552\n",
      "epoch: 08, loss: -0.74416\n",
      "epoch: 09, loss: -0.75189\n",
      "After Unsqueezing, feature size= torch.Size([600, 1, 1, 384])\n"
     ]
    },
    {
     "name": "stderr",
     "output_type": "stream",
     "text": [
      " 37%|███▋      | 372/1000 [1:59:59<4:31:55, 25.98s/it]"
     ]
    },
    {
     "name": "stdout",
     "output_type": "stream",
     "text": [
      "eigenvalues shape torch.Size([5]) eigenvectors shape torch.Size([5, 600])\n",
      "372 /home/phdcs2/Hard_Disk/Datasets/Deep-Spectral-Segmentation/data/object-segmentation/ECSSD/features/dino_vits16/0373.pth\n",
      "dict_keys(['k', 'indices', 'file', 'id', 'model_name', 'patch_size', 'shape'])\n",
      "0373\n",
      "Starting Training\n",
      "epoch: 00, loss: -0.52151\n",
      "epoch: 01, loss: -0.68172\n",
      "epoch: 02, loss: -0.68894\n",
      "epoch: 03, loss: -0.69998\n",
      "epoch: 04, loss: -0.69877\n",
      "epoch: 05, loss: -0.70363\n",
      "epoch: 06, loss: -0.71615\n",
      "epoch: 07, loss: -0.71542\n",
      "epoch: 08, loss: -0.71706\n",
      "epoch: 09, loss: -0.72309\n",
      "After Unsqueezing, feature size= torch.Size([400, 1, 1, 384])\n"
     ]
    },
    {
     "name": "stderr",
     "output_type": "stream",
     "text": [
      " 37%|███▋      | 373/1000 [2:00:19<4:12:08, 24.13s/it]"
     ]
    },
    {
     "name": "stdout",
     "output_type": "stream",
     "text": [
      "eigenvalues shape torch.Size([5]) eigenvectors shape torch.Size([5, 400])\n",
      "373 /home/phdcs2/Hard_Disk/Datasets/Deep-Spectral-Segmentation/data/object-segmentation/ECSSD/features/dino_vits16/0374.pth\n",
      "dict_keys(['k', 'indices', 'file', 'id', 'model_name', 'patch_size', 'shape'])\n",
      "0374\n",
      "Starting Training\n",
      "epoch: 00, loss: -0.56164\n",
      "epoch: 01, loss: -0.73911\n",
      "epoch: 02, loss: -0.77610\n",
      "epoch: 03, loss: -0.78133\n",
      "epoch: 04, loss: -0.78035\n",
      "epoch: 05, loss: -0.78667\n",
      "epoch: 06, loss: -0.78772\n",
      "epoch: 07, loss: -0.78200\n",
      "epoch: 08, loss: -0.78289\n",
      "epoch: 09, loss: -0.78240\n",
      "After Unsqueezing, feature size= torch.Size([450, 1, 1, 384])\n"
     ]
    },
    {
     "name": "stderr",
     "output_type": "stream",
     "text": [
      "/home/phdcs2/Hard_Disk/Projects/T2I/deep-spectral-segmentation/venv/lib/python3.8/site-packages/scipy/sparse/linalg/_eigen/arpack/arpack.py:935: LinAlgWarning: Diagonal number 450 is exactly zero. Singular matrix.\n",
      "  self.M_lu = lu_factor(M)\n"
     ]
    },
    {
     "name": "stdout",
     "output_type": "stream",
     "text": [
      " ** On entry to SLASCL parameter number  4 had an illegal value\n",
      " ** On entry to SLASCL parameter number  4 had an illegal value\n"
     ]
    },
    {
     "name": "stderr",
     "output_type": "stream",
     "text": [
      " 37%|███▋      | 374/1000 [2:00:42<4:09:24, 23.91s/it]"
     ]
    },
    {
     "name": "stdout",
     "output_type": "stream",
     "text": [
      "eigenvalues shape torch.Size([5]) eigenvectors shape torch.Size([5, 450])\n",
      "374 /home/phdcs2/Hard_Disk/Datasets/Deep-Spectral-Segmentation/data/object-segmentation/ECSSD/features/dino_vits16/0375.pth\n",
      "dict_keys(['k', 'indices', 'file', 'id', 'model_name', 'patch_size', 'shape'])\n",
      "0375\n",
      "Starting Training\n",
      "epoch: 00, loss: -0.52581\n",
      "epoch: 01, loss: -0.67169\n",
      "epoch: 02, loss: -0.69039\n",
      "epoch: 03, loss: -0.70033\n",
      "epoch: 04, loss: -0.71308\n",
      "epoch: 05, loss: -0.71629\n",
      "epoch: 06, loss: -0.71469\n",
      "epoch: 07, loss: -0.71502\n",
      "epoch: 08, loss: -0.70682\n",
      "epoch: 09, loss: -0.72069\n",
      "After Unsqueezing, feature size= torch.Size([475, 1, 1, 384])\n"
     ]
    },
    {
     "name": "stderr",
     "output_type": "stream",
     "text": [
      " 38%|███▊      | 375/1000 [2:01:06<4:07:26, 23.75s/it]"
     ]
    },
    {
     "name": "stdout",
     "output_type": "stream",
     "text": [
      "eigenvalues shape torch.Size([5]) eigenvectors shape torch.Size([5, 475])\n",
      "375 /home/phdcs2/Hard_Disk/Datasets/Deep-Spectral-Segmentation/data/object-segmentation/ECSSD/features/dino_vits16/0376.pth\n",
      "dict_keys(['k', 'indices', 'file', 'id', 'model_name', 'patch_size', 'shape'])\n",
      "0376\n",
      "Starting Training\n",
      "epoch: 00, loss: -0.58492\n",
      "epoch: 01, loss: -0.71231\n",
      "epoch: 02, loss: -0.72524\n",
      "epoch: 03, loss: -0.73489\n",
      "epoch: 04, loss: -0.74245\n",
      "epoch: 05, loss: -0.74409\n",
      "epoch: 06, loss: -0.75344\n",
      "epoch: 07, loss: -0.75101\n",
      "epoch: 08, loss: -0.75058\n",
      "epoch: 09, loss: -0.75649\n",
      "After Unsqueezing, feature size= torch.Size([625, 1, 1, 384])\n"
     ]
    },
    {
     "name": "stderr",
     "output_type": "stream",
     "text": [
      " 38%|███▊      | 376/1000 [2:01:32<4:13:17, 24.35s/it]"
     ]
    },
    {
     "name": "stdout",
     "output_type": "stream",
     "text": [
      "eigenvalues shape torch.Size([5]) eigenvectors shape torch.Size([5, 625])\n",
      "376 /home/phdcs2/Hard_Disk/Datasets/Deep-Spectral-Segmentation/data/object-segmentation/ECSSD/features/dino_vits16/0377.pth\n",
      "dict_keys(['k', 'indices', 'file', 'id', 'model_name', 'patch_size', 'shape'])\n",
      "0377\n",
      "Starting Training\n",
      "epoch: 00, loss: -0.49112\n",
      "epoch: 01, loss: -0.67499\n",
      "epoch: 02, loss: -0.74936\n",
      "epoch: 03, loss: -0.76697\n",
      "epoch: 04, loss: -0.77322\n",
      "epoch: 05, loss: -0.76465\n",
      "epoch: 06, loss: -0.76335\n",
      "epoch: 07, loss: -0.76178\n",
      "epoch: 08, loss: -0.75447\n",
      "epoch: 09, loss: -0.75993\n",
      "After Unsqueezing, feature size= torch.Size([400, 1, 1, 384])\n"
     ]
    },
    {
     "name": "stderr",
     "output_type": "stream",
     "text": [
      " 38%|███▊      | 377/1000 [2:01:51<3:57:58, 22.92s/it]"
     ]
    },
    {
     "name": "stdout",
     "output_type": "stream",
     "text": [
      "eigenvalues shape torch.Size([5]) eigenvectors shape torch.Size([5, 400])\n",
      "377 /home/phdcs2/Hard_Disk/Datasets/Deep-Spectral-Segmentation/data/object-segmentation/ECSSD/features/dino_vits16/0378.pth\n",
      "dict_keys(['k', 'indices', 'file', 'id', 'model_name', 'patch_size', 'shape'])\n",
      "0378\n",
      "Starting Training\n",
      "epoch: 00, loss: -0.51189\n",
      "epoch: 01, loss: -0.66131\n",
      "epoch: 02, loss: -0.68756\n",
      "epoch: 03, loss: -0.71158\n",
      "epoch: 04, loss: -0.72977\n",
      "epoch: 05, loss: -0.73168\n",
      "epoch: 06, loss: -0.73783\n",
      "epoch: 07, loss: -0.74152\n",
      "epoch: 08, loss: -0.76077\n",
      "epoch: 09, loss: -0.76767\n",
      "After Unsqueezing, feature size= torch.Size([450, 1, 1, 384])\n"
     ]
    },
    {
     "name": "stderr",
     "output_type": "stream",
     "text": [
      " 38%|███▊      | 378/1000 [2:02:11<3:47:37, 21.96s/it]"
     ]
    },
    {
     "name": "stdout",
     "output_type": "stream",
     "text": [
      "eigenvalues shape torch.Size([5]) eigenvectors shape torch.Size([5, 450])\n",
      "378 /home/phdcs2/Hard_Disk/Datasets/Deep-Spectral-Segmentation/data/object-segmentation/ECSSD/features/dino_vits16/0379.pth\n",
      "dict_keys(['k', 'indices', 'file', 'id', 'model_name', 'patch_size', 'shape'])\n",
      "0379\n",
      "Starting Training\n",
      "epoch: 00, loss: -0.55450\n",
      "epoch: 01, loss: -0.70764\n",
      "epoch: 02, loss: -0.71986\n",
      "epoch: 03, loss: -0.72203\n",
      "epoch: 04, loss: -0.72492\n",
      "epoch: 05, loss: -0.72610\n",
      "epoch: 06, loss: -0.73557\n",
      "epoch: 07, loss: -0.73543\n",
      "epoch: 08, loss: -0.73465\n",
      "epoch: 09, loss: -0.73653\n",
      "After Unsqueezing, feature size= torch.Size([450, 1, 1, 384])\n"
     ]
    },
    {
     "name": "stderr",
     "output_type": "stream",
     "text": [
      " 38%|███▊      | 379/1000 [2:02:32<3:45:33, 21.79s/it]"
     ]
    },
    {
     "name": "stdout",
     "output_type": "stream",
     "text": [
      "eigenvalues shape torch.Size([5]) eigenvectors shape torch.Size([5, 450])\n",
      "379 /home/phdcs2/Hard_Disk/Datasets/Deep-Spectral-Segmentation/data/object-segmentation/ECSSD/features/dino_vits16/0380.pth\n",
      "dict_keys(['k', 'indices', 'file', 'id', 'model_name', 'patch_size', 'shape'])\n",
      "0380\n",
      "Starting Training\n",
      "epoch: 00, loss: -0.53694\n",
      "epoch: 01, loss: -0.69906\n",
      "epoch: 02, loss: -0.71236\n",
      "epoch: 03, loss: -0.72068\n",
      "epoch: 04, loss: -0.72578\n",
      "epoch: 05, loss: -0.71223\n",
      "epoch: 06, loss: -0.72584\n",
      "epoch: 07, loss: -0.72968\n",
      "epoch: 08, loss: -0.74933\n",
      "epoch: 09, loss: -0.74970\n",
      "After Unsqueezing, feature size= torch.Size([425, 1, 1, 384])\n"
     ]
    },
    {
     "name": "stderr",
     "output_type": "stream",
     "text": [
      " 38%|███▊      | 380/1000 [2:02:50<3:33:40, 20.68s/it]"
     ]
    },
    {
     "name": "stdout",
     "output_type": "stream",
     "text": [
      "eigenvalues shape torch.Size([5]) eigenvectors shape torch.Size([5, 425])\n",
      "380 /home/phdcs2/Hard_Disk/Datasets/Deep-Spectral-Segmentation/data/object-segmentation/ECSSD/features/dino_vits16/0381.pth\n",
      "dict_keys(['k', 'indices', 'file', 'id', 'model_name', 'patch_size', 'shape'])\n",
      "0381\n",
      "Starting Training\n",
      "epoch: 00, loss: -0.53511\n",
      "epoch: 01, loss: -0.68328\n",
      "epoch: 02, loss: -0.71486\n",
      "epoch: 03, loss: -0.72355\n",
      "epoch: 04, loss: -0.74302\n",
      "epoch: 05, loss: -0.76422\n",
      "epoch: 06, loss: -0.76144\n",
      "epoch: 07, loss: -0.76333\n",
      "epoch: 08, loss: -0.76360\n",
      "epoch: 09, loss: -0.77117\n",
      "After Unsqueezing, feature size= torch.Size([450, 1, 1, 384])\n"
     ]
    },
    {
     "name": "stderr",
     "output_type": "stream",
     "text": [
      " 38%|███▊      | 381/1000 [2:03:10<3:29:56, 20.35s/it]"
     ]
    },
    {
     "name": "stdout",
     "output_type": "stream",
     "text": [
      "eigenvalues shape torch.Size([5]) eigenvectors shape torch.Size([5, 450])\n",
      "381 /home/phdcs2/Hard_Disk/Datasets/Deep-Spectral-Segmentation/data/object-segmentation/ECSSD/features/dino_vits16/0382.pth\n",
      "dict_keys(['k', 'indices', 'file', 'id', 'model_name', 'patch_size', 'shape'])\n",
      "0382\n",
      "Starting Training\n",
      "epoch: 00, loss: -0.47974\n",
      "epoch: 01, loss: -0.60696\n",
      "epoch: 02, loss: -0.63320\n",
      "epoch: 03, loss: -0.64678\n",
      "epoch: 04, loss: -0.63764\n",
      "epoch: 05, loss: -0.65300\n",
      "epoch: 06, loss: -0.66221\n",
      "epoch: 07, loss: -0.66121\n",
      "epoch: 08, loss: -0.68506\n",
      "epoch: 09, loss: -0.67924\n",
      "After Unsqueezing, feature size= torch.Size([425, 1, 1, 384])\n"
     ]
    },
    {
     "name": "stderr",
     "output_type": "stream",
     "text": [
      " 38%|███▊      | 382/1000 [2:03:27<3:19:25, 19.36s/it]"
     ]
    },
    {
     "name": "stdout",
     "output_type": "stream",
     "text": [
      "eigenvalues shape torch.Size([5]) eigenvectors shape torch.Size([5, 425])\n",
      "382 /home/phdcs2/Hard_Disk/Datasets/Deep-Spectral-Segmentation/data/object-segmentation/ECSSD/features/dino_vits16/0383.pth\n",
      "dict_keys(['k', 'indices', 'file', 'id', 'model_name', 'patch_size', 'shape'])\n",
      "0383\n",
      "Starting Training\n",
      "epoch: 00, loss: -0.46209\n",
      "epoch: 01, loss: -0.62279\n",
      "epoch: 02, loss: -0.64240\n",
      "epoch: 03, loss: -0.64578\n",
      "epoch: 04, loss: -0.65571\n",
      "epoch: 05, loss: -0.67052\n",
      "epoch: 06, loss: -0.68042\n",
      "epoch: 07, loss: -0.67939\n",
      "epoch: 08, loss: -0.69483\n",
      "epoch: 09, loss: -0.69813\n",
      "After Unsqueezing, feature size= torch.Size([350, 1, 1, 384])\n"
     ]
    },
    {
     "name": "stderr",
     "output_type": "stream",
     "text": [
      " 38%|███▊      | 383/1000 [2:03:42<3:05:37, 18.05s/it]"
     ]
    },
    {
     "name": "stdout",
     "output_type": "stream",
     "text": [
      "eigenvalues shape torch.Size([5]) eigenvectors shape torch.Size([5, 350])\n",
      "383 /home/phdcs2/Hard_Disk/Datasets/Deep-Spectral-Segmentation/data/object-segmentation/ECSSD/features/dino_vits16/0384.pth\n",
      "dict_keys(['k', 'indices', 'file', 'id', 'model_name', 'patch_size', 'shape'])\n",
      "0384\n",
      "Starting Training\n",
      "epoch: 00, loss: -0.55138\n",
      "epoch: 01, loss: -0.69128\n",
      "epoch: 02, loss: -0.71450\n",
      "epoch: 03, loss: -0.70862\n",
      "epoch: 04, loss: -0.73724\n",
      "epoch: 05, loss: -0.73256\n",
      "epoch: 06, loss: -0.74914\n",
      "epoch: 07, loss: -0.74907\n",
      "epoch: 08, loss: -0.76273\n",
      "epoch: 09, loss: -0.75276\n",
      "After Unsqueezing, feature size= torch.Size([475, 1, 1, 384])\n"
     ]
    },
    {
     "name": "stderr",
     "output_type": "stream",
     "text": [
      " 38%|███▊      | 384/1000 [2:04:02<3:10:15, 18.53s/it]"
     ]
    },
    {
     "name": "stdout",
     "output_type": "stream",
     "text": [
      "eigenvalues shape torch.Size([5]) eigenvectors shape torch.Size([5, 475])\n",
      "384 /home/phdcs2/Hard_Disk/Datasets/Deep-Spectral-Segmentation/data/object-segmentation/ECSSD/features/dino_vits16/0385.pth\n",
      "dict_keys(['k', 'indices', 'file', 'id', 'model_name', 'patch_size', 'shape'])\n",
      "0385\n",
      "Starting Training\n",
      "epoch: 00, loss: -0.55266\n",
      "epoch: 01, loss: -0.70416\n",
      "epoch: 02, loss: -0.73442\n",
      "epoch: 03, loss: -0.76587\n",
      "epoch: 04, loss: -0.77516\n",
      "epoch: 05, loss: -0.78406\n",
      "epoch: 06, loss: -0.77433\n",
      "epoch: 07, loss: -0.77620\n",
      "epoch: 08, loss: -0.79560\n",
      "epoch: 09, loss: -0.81017\n",
      "After Unsqueezing, feature size= torch.Size([600, 1, 1, 384])\n"
     ]
    },
    {
     "name": "stderr",
     "output_type": "stream",
     "text": [
      " 38%|███▊      | 385/1000 [2:04:27<3:29:39, 20.45s/it]"
     ]
    },
    {
     "name": "stdout",
     "output_type": "stream",
     "text": [
      "eigenvalues shape torch.Size([5]) eigenvectors shape torch.Size([5, 600])\n",
      "385 /home/phdcs2/Hard_Disk/Datasets/Deep-Spectral-Segmentation/data/object-segmentation/ECSSD/features/dino_vits16/0386.pth\n",
      "dict_keys(['k', 'indices', 'file', 'id', 'model_name', 'patch_size', 'shape'])\n",
      "0386\n",
      "Starting Training\n",
      "epoch: 00, loss: -0.50817\n",
      "epoch: 01, loss: -0.66842\n",
      "epoch: 02, loss: -0.70931\n",
      "epoch: 03, loss: -0.72479\n",
      "epoch: 04, loss: -0.72959\n",
      "epoch: 05, loss: -0.74232\n",
      "epoch: 06, loss: -0.73165\n",
      "epoch: 07, loss: -0.74125\n",
      "epoch: 08, loss: -0.74296\n",
      "epoch: 09, loss: -0.74382\n",
      "After Unsqueezing, feature size= torch.Size([400, 1, 1, 384])\n"
     ]
    },
    {
     "name": "stderr",
     "output_type": "stream",
     "text": [
      " 39%|███▊      | 386/1000 [2:04:43<3:18:21, 19.38s/it]"
     ]
    },
    {
     "name": "stdout",
     "output_type": "stream",
     "text": [
      "eigenvalues shape torch.Size([5]) eigenvectors shape torch.Size([5, 400])\n",
      "386 /home/phdcs2/Hard_Disk/Datasets/Deep-Spectral-Segmentation/data/object-segmentation/ECSSD/features/dino_vits16/0387.pth\n",
      "dict_keys(['k', 'indices', 'file', 'id', 'model_name', 'patch_size', 'shape'])\n",
      "0387\n",
      "Starting Training\n",
      "epoch: 00, loss: -0.55692\n",
      "epoch: 01, loss: -0.69622\n",
      "epoch: 02, loss: -0.73797\n",
      "epoch: 03, loss: -0.74459\n",
      "epoch: 04, loss: -0.75259\n",
      "epoch: 05, loss: -0.76793\n",
      "epoch: 06, loss: -0.76514\n",
      "epoch: 07, loss: -0.76348\n",
      "epoch: 08, loss: -0.75104\n",
      "epoch: 09, loss: -0.75157\n",
      "After Unsqueezing, feature size= torch.Size([450, 1, 1, 384])\n"
     ]
    },
    {
     "name": "stderr",
     "output_type": "stream",
     "text": [
      " 39%|███▊      | 387/1000 [2:05:00<3:09:12, 18.52s/it]"
     ]
    },
    {
     "name": "stdout",
     "output_type": "stream",
     "text": [
      "eigenvalues shape torch.Size([5]) eigenvectors shape torch.Size([5, 450])\n",
      "387 /home/phdcs2/Hard_Disk/Datasets/Deep-Spectral-Segmentation/data/object-segmentation/ECSSD/features/dino_vits16/0388.pth\n",
      "dict_keys(['k', 'indices', 'file', 'id', 'model_name', 'patch_size', 'shape'])\n",
      "0388\n",
      "Starting Training\n",
      "epoch: 00, loss: -0.48915\n",
      "epoch: 01, loss: -0.61390\n",
      "epoch: 02, loss: -0.62646\n",
      "epoch: 03, loss: -0.64176\n",
      "epoch: 04, loss: -0.66454\n",
      "epoch: 05, loss: -0.67302\n",
      "epoch: 06, loss: -0.65992\n",
      "epoch: 07, loss: -0.66439\n",
      "epoch: 08, loss: -0.67331\n",
      "epoch: 09, loss: -0.68190\n",
      "After Unsqueezing, feature size= torch.Size([500, 1, 1, 384])\n"
     ]
    },
    {
     "name": "stderr",
     "output_type": "stream",
     "text": [
      " 39%|███▉      | 388/1000 [2:05:19<3:09:35, 18.59s/it]"
     ]
    },
    {
     "name": "stdout",
     "output_type": "stream",
     "text": [
      "eigenvalues shape torch.Size([5]) eigenvectors shape torch.Size([5, 500])\n",
      "388 /home/phdcs2/Hard_Disk/Datasets/Deep-Spectral-Segmentation/data/object-segmentation/ECSSD/features/dino_vits16/0389.pth\n",
      "dict_keys(['k', 'indices', 'file', 'id', 'model_name', 'patch_size', 'shape'])\n",
      "0389\n",
      "Starting Training\n",
      "epoch: 00, loss: -0.58271\n",
      "epoch: 01, loss: -0.71599\n",
      "epoch: 02, loss: -0.73819\n",
      "epoch: 03, loss: -0.74993\n",
      "epoch: 04, loss: -0.76100\n",
      "epoch: 05, loss: -0.75388\n",
      "epoch: 06, loss: -0.76094\n",
      "epoch: 07, loss: -0.77471\n",
      "epoch: 08, loss: -0.78137\n",
      "epoch: 09, loss: -0.78853\n",
      "After Unsqueezing, feature size= torch.Size([450, 1, 1, 384])\n"
     ]
    },
    {
     "name": "stderr",
     "output_type": "stream",
     "text": [
      " 39%|███▉      | 389/1000 [2:05:37<3:08:38, 18.52s/it]"
     ]
    },
    {
     "name": "stdout",
     "output_type": "stream",
     "text": [
      "eigenvalues shape torch.Size([5]) eigenvectors shape torch.Size([5, 450])\n",
      "389 /home/phdcs2/Hard_Disk/Datasets/Deep-Spectral-Segmentation/data/object-segmentation/ECSSD/features/dino_vits16/0390.pth\n",
      "dict_keys(['k', 'indices', 'file', 'id', 'model_name', 'patch_size', 'shape'])\n",
      "0390\n",
      "Starting Training\n",
      "epoch: 00, loss: -0.48905\n",
      "epoch: 01, loss: -0.63766\n",
      "epoch: 02, loss: -0.64767\n",
      "epoch: 03, loss: -0.65765\n",
      "epoch: 04, loss: -0.66385\n",
      "epoch: 05, loss: -0.68204\n",
      "epoch: 06, loss: -0.69334\n",
      "epoch: 07, loss: -0.69300\n",
      "epoch: 08, loss: -0.68109\n",
      "epoch: 09, loss: -0.69953\n",
      "After Unsqueezing, feature size= torch.Size([450, 1, 1, 384])\n"
     ]
    },
    {
     "name": "stderr",
     "output_type": "stream",
     "text": [
      " 39%|███▉      | 390/1000 [2:05:59<3:19:37, 19.64s/it]"
     ]
    },
    {
     "name": "stdout",
     "output_type": "stream",
     "text": [
      "eigenvalues shape torch.Size([5]) eigenvectors shape torch.Size([5, 450])\n",
      "390 /home/phdcs2/Hard_Disk/Datasets/Deep-Spectral-Segmentation/data/object-segmentation/ECSSD/features/dino_vits16/0391.pth\n",
      "dict_keys(['k', 'indices', 'file', 'id', 'model_name', 'patch_size', 'shape'])\n",
      "0391\n",
      "Starting Training\n",
      "epoch: 00, loss: -0.48548\n",
      "epoch: 01, loss: -0.66524\n",
      "epoch: 02, loss: -0.69266\n",
      "epoch: 03, loss: -0.71994\n",
      "epoch: 04, loss: -0.72954\n",
      "epoch: 05, loss: -0.73243\n",
      "epoch: 06, loss: -0.73760\n",
      "epoch: 07, loss: -0.73564\n",
      "epoch: 08, loss: -0.73548\n",
      "epoch: 09, loss: -0.73309\n",
      "After Unsqueezing, feature size= torch.Size([400, 1, 1, 384])\n"
     ]
    },
    {
     "name": "stderr",
     "output_type": "stream",
     "text": [
      " 39%|███▉      | 391/1000 [2:06:21<3:26:01, 20.30s/it]"
     ]
    },
    {
     "name": "stdout",
     "output_type": "stream",
     "text": [
      "eigenvalues shape torch.Size([5]) eigenvectors shape torch.Size([5, 400])\n",
      "391 /home/phdcs2/Hard_Disk/Datasets/Deep-Spectral-Segmentation/data/object-segmentation/ECSSD/features/dino_vits16/0392.pth\n",
      "dict_keys(['k', 'indices', 'file', 'id', 'model_name', 'patch_size', 'shape'])\n",
      "0392\n",
      "Starting Training\n",
      "epoch: 00, loss: -0.51289\n",
      "epoch: 01, loss: -0.68300\n",
      "epoch: 02, loss: -0.72017\n",
      "epoch: 03, loss: -0.73122\n",
      "epoch: 04, loss: -0.73032\n",
      "epoch: 05, loss: -0.74775\n",
      "epoch: 06, loss: -0.75375\n",
      "epoch: 07, loss: -0.76133\n",
      "epoch: 08, loss: -0.77599\n",
      "epoch: 09, loss: -0.77157\n",
      "After Unsqueezing, feature size= torch.Size([400, 1, 1, 384])\n"
     ]
    },
    {
     "name": "stderr",
     "output_type": "stream",
     "text": [
      " 39%|███▉      | 392/1000 [2:06:38<3:16:16, 19.37s/it]"
     ]
    },
    {
     "name": "stdout",
     "output_type": "stream",
     "text": [
      "eigenvalues shape torch.Size([5]) eigenvectors shape torch.Size([5, 400])\n",
      "392 /home/phdcs2/Hard_Disk/Datasets/Deep-Spectral-Segmentation/data/object-segmentation/ECSSD/features/dino_vits16/0393.pth\n",
      "dict_keys(['k', 'indices', 'file', 'id', 'model_name', 'patch_size', 'shape'])\n",
      "0393\n",
      "Starting Training\n",
      "epoch: 00, loss: -0.52104\n",
      "epoch: 01, loss: -0.67846\n",
      "epoch: 02, loss: -0.71144\n",
      "epoch: 03, loss: -0.71290\n",
      "epoch: 04, loss: -0.73677\n",
      "epoch: 05, loss: -0.74586\n",
      "epoch: 06, loss: -0.74617\n",
      "epoch: 07, loss: -0.75432\n",
      "epoch: 08, loss: -0.75589\n",
      "epoch: 09, loss: -0.75395\n",
      "After Unsqueezing, feature size= torch.Size([400, 1, 1, 384])\n"
     ]
    },
    {
     "name": "stderr",
     "output_type": "stream",
     "text": [
      " 39%|███▉      | 393/1000 [2:06:55<3:08:51, 18.67s/it]"
     ]
    },
    {
     "name": "stdout",
     "output_type": "stream",
     "text": [
      "eigenvalues shape torch.Size([5]) eigenvectors shape torch.Size([5, 400])\n",
      "393 /home/phdcs2/Hard_Disk/Datasets/Deep-Spectral-Segmentation/data/object-segmentation/ECSSD/features/dino_vits16/0394.pth\n",
      "dict_keys(['k', 'indices', 'file', 'id', 'model_name', 'patch_size', 'shape'])\n",
      "0394\n",
      "Starting Training\n",
      "epoch: 00, loss: -0.50666\n",
      "epoch: 01, loss: -0.70429\n",
      "epoch: 02, loss: -0.72035\n",
      "epoch: 03, loss: -0.72930\n",
      "epoch: 04, loss: -0.74715\n",
      "epoch: 05, loss: -0.75049\n",
      "epoch: 06, loss: -0.74736\n",
      "epoch: 07, loss: -0.76195\n",
      "epoch: 08, loss: -0.75987\n",
      "epoch: 09, loss: -0.76793\n",
      "After Unsqueezing, feature size= torch.Size([400, 1, 1, 384])\n"
     ]
    },
    {
     "name": "stderr",
     "output_type": "stream",
     "text": [
      " 39%|███▉      | 394/1000 [2:07:13<3:03:54, 18.21s/it]"
     ]
    },
    {
     "name": "stdout",
     "output_type": "stream",
     "text": [
      "eigenvalues shape torch.Size([5]) eigenvectors shape torch.Size([5, 400])\n",
      "394 /home/phdcs2/Hard_Disk/Datasets/Deep-Spectral-Segmentation/data/object-segmentation/ECSSD/features/dino_vits16/0395.pth\n",
      "dict_keys(['k', 'indices', 'file', 'id', 'model_name', 'patch_size', 'shape'])\n",
      "0395\n",
      "Starting Training\n",
      "epoch: 00, loss: -0.52390\n",
      "epoch: 01, loss: -0.68419\n",
      "epoch: 02, loss: -0.69521\n",
      "epoch: 03, loss: -0.72271\n",
      "epoch: 04, loss: -0.73876\n",
      "epoch: 05, loss: -0.75276\n",
      "epoch: 06, loss: -0.75985\n",
      "epoch: 07, loss: -0.77130\n",
      "epoch: 08, loss: -0.77937\n",
      "epoch: 09, loss: -0.78671\n",
      "After Unsqueezing, feature size= torch.Size([400, 1, 1, 384])\n"
     ]
    },
    {
     "name": "stderr",
     "output_type": "stream",
     "text": [
      " 40%|███▉      | 395/1000 [2:07:28<2:56:39, 17.52s/it]"
     ]
    },
    {
     "name": "stdout",
     "output_type": "stream",
     "text": [
      "eigenvalues shape torch.Size([5]) eigenvectors shape torch.Size([5, 400])\n",
      "395 /home/phdcs2/Hard_Disk/Datasets/Deep-Spectral-Segmentation/data/object-segmentation/ECSSD/features/dino_vits16/0396.pth\n",
      "dict_keys(['k', 'indices', 'file', 'id', 'model_name', 'patch_size', 'shape'])\n",
      "0396\n",
      "Starting Training\n",
      "epoch: 00, loss: -0.63385\n",
      "epoch: 01, loss: -0.76471\n",
      "epoch: 02, loss: -0.80165\n",
      "epoch: 03, loss: -0.81663\n",
      "epoch: 04, loss: -0.81882\n",
      "epoch: 05, loss: -0.82537\n",
      "epoch: 06, loss: -0.82493\n",
      "epoch: 07, loss: -0.83369\n",
      "epoch: 08, loss: -0.84008\n",
      "epoch: 09, loss: -0.84919\n",
      "After Unsqueezing, feature size= torch.Size([450, 1, 1, 384])\n"
     ]
    },
    {
     "name": "stderr",
     "output_type": "stream",
     "text": [
      " 40%|███▉      | 396/1000 [2:07:47<2:59:23, 17.82s/it]"
     ]
    },
    {
     "name": "stdout",
     "output_type": "stream",
     "text": [
      "eigenvalues shape torch.Size([5]) eigenvectors shape torch.Size([5, 450])\n",
      "396 /home/phdcs2/Hard_Disk/Datasets/Deep-Spectral-Segmentation/data/object-segmentation/ECSSD/features/dino_vits16/0397.pth\n",
      "dict_keys(['k', 'indices', 'file', 'id', 'model_name', 'patch_size', 'shape'])\n",
      "0397\n",
      "Starting Training\n",
      "epoch: 00, loss: -0.52165\n",
      "epoch: 01, loss: -0.65845\n",
      "epoch: 02, loss: -0.66349\n",
      "epoch: 03, loss: -0.66871\n",
      "epoch: 04, loss: -0.68914\n",
      "epoch: 05, loss: -0.69834\n",
      "epoch: 06, loss: -0.71987\n",
      "epoch: 07, loss: -0.71227\n",
      "epoch: 08, loss: -0.70871\n",
      "epoch: 09, loss: -0.71601\n",
      "After Unsqueezing, feature size= torch.Size([400, 1, 1, 384])\n"
     ]
    },
    {
     "name": "stderr",
     "output_type": "stream",
     "text": [
      " 40%|███▉      | 397/1000 [2:08:07<3:04:23, 18.35s/it]"
     ]
    },
    {
     "name": "stdout",
     "output_type": "stream",
     "text": [
      "eigenvalues shape torch.Size([5]) eigenvectors shape torch.Size([5, 400])\n",
      "397 /home/phdcs2/Hard_Disk/Datasets/Deep-Spectral-Segmentation/data/object-segmentation/ECSSD/features/dino_vits16/0398.pth\n",
      "dict_keys(['k', 'indices', 'file', 'id', 'model_name', 'patch_size', 'shape'])\n",
      "0398\n",
      "Starting Training\n",
      "epoch: 00, loss: -0.51782\n",
      "epoch: 01, loss: -0.68875\n",
      "epoch: 02, loss: -0.71603\n",
      "epoch: 03, loss: -0.73930\n",
      "epoch: 04, loss: -0.76110\n",
      "epoch: 05, loss: -0.76284\n",
      "epoch: 06, loss: -0.73796\n",
      "epoch: 07, loss: -0.75393\n",
      "epoch: 08, loss: -0.76014\n",
      "epoch: 09, loss: -0.76531\n",
      "After Unsqueezing, feature size= torch.Size([400, 1, 1, 384])\n"
     ]
    },
    {
     "name": "stderr",
     "output_type": "stream",
     "text": [
      " 40%|███▉      | 398/1000 [2:08:22<2:55:29, 17.49s/it]"
     ]
    },
    {
     "name": "stdout",
     "output_type": "stream",
     "text": [
      "eigenvalues shape torch.Size([5]) eigenvectors shape torch.Size([5, 400])\n",
      "398 /home/phdcs2/Hard_Disk/Datasets/Deep-Spectral-Segmentation/data/object-segmentation/ECSSD/features/dino_vits16/0399.pth\n",
      "dict_keys(['k', 'indices', 'file', 'id', 'model_name', 'patch_size', 'shape'])\n",
      "0399\n",
      "Starting Training\n",
      "epoch: 00, loss: -0.55026\n",
      "epoch: 01, loss: -0.68625\n",
      "epoch: 02, loss: -0.71687\n",
      "epoch: 03, loss: -0.74835\n",
      "epoch: 04, loss: -0.76526\n",
      "epoch: 05, loss: -0.77543\n",
      "epoch: 06, loss: -0.76088\n",
      "epoch: 07, loss: -0.78357\n",
      "epoch: 08, loss: -0.77432\n",
      "epoch: 09, loss: -0.78122\n",
      "After Unsqueezing, feature size= torch.Size([400, 1, 1, 384])\n"
     ]
    },
    {
     "name": "stderr",
     "output_type": "stream",
     "text": [
      " 40%|███▉      | 399/1000 [2:08:37<2:48:47, 16.85s/it]"
     ]
    },
    {
     "name": "stdout",
     "output_type": "stream",
     "text": [
      "eigenvalues shape torch.Size([5]) eigenvectors shape torch.Size([5, 400])\n",
      "399 /home/phdcs2/Hard_Disk/Datasets/Deep-Spectral-Segmentation/data/object-segmentation/ECSSD/features/dino_vits16/0400.pth\n",
      "dict_keys(['k', 'indices', 'file', 'id', 'model_name', 'patch_size', 'shape'])\n",
      "0400\n",
      "Starting Training\n",
      "epoch: 00, loss: -0.48929\n",
      "epoch: 01, loss: -0.63736\n",
      "epoch: 02, loss: -0.67607\n",
      "epoch: 03, loss: -0.68359\n",
      "epoch: 04, loss: -0.68496\n",
      "epoch: 05, loss: -0.68777\n",
      "epoch: 06, loss: -0.66937\n",
      "epoch: 07, loss: -0.69472\n",
      "epoch: 08, loss: -0.73004\n",
      "epoch: 09, loss: -0.74312\n",
      "After Unsqueezing, feature size= torch.Size([400, 1, 1, 384])\n"
     ]
    },
    {
     "name": "stderr",
     "output_type": "stream",
     "text": [
      " 40%|████      | 400/1000 [2:08:55<2:50:20, 17.03s/it]"
     ]
    },
    {
     "name": "stdout",
     "output_type": "stream",
     "text": [
      "eigenvalues shape torch.Size([5]) eigenvectors shape torch.Size([5, 400])\n",
      "400 /home/phdcs2/Hard_Disk/Datasets/Deep-Spectral-Segmentation/data/object-segmentation/ECSSD/features/dino_vits16/0401.pth\n",
      "dict_keys(['k', 'indices', 'file', 'id', 'model_name', 'patch_size', 'shape'])\n",
      "0401\n",
      "Starting Training\n",
      "epoch: 00, loss: -0.47784\n",
      "epoch: 01, loss: -0.63841\n",
      "epoch: 02, loss: -0.65966\n",
      "epoch: 03, loss: -0.66301\n",
      "epoch: 04, loss: -0.68126\n",
      "epoch: 05, loss: -0.68590\n",
      "epoch: 06, loss: -0.68612\n",
      "epoch: 07, loss: -0.70656\n",
      "epoch: 08, loss: -0.71317\n",
      "epoch: 09, loss: -0.72119\n",
      "After Unsqueezing, feature size= torch.Size([400, 1, 1, 384])\n"
     ]
    },
    {
     "name": "stderr",
     "output_type": "stream",
     "text": [
      " 40%|████      | 401/1000 [2:09:11<2:47:35, 16.79s/it]"
     ]
    },
    {
     "name": "stdout",
     "output_type": "stream",
     "text": [
      "eigenvalues shape torch.Size([5]) eigenvectors shape torch.Size([5, 400])\n",
      "401 /home/phdcs2/Hard_Disk/Datasets/Deep-Spectral-Segmentation/data/object-segmentation/ECSSD/features/dino_vits16/0402.pth\n",
      "dict_keys(['k', 'indices', 'file', 'id', 'model_name', 'patch_size', 'shape'])\n",
      "0402\n",
      "Starting Training\n",
      "epoch: 00, loss: -0.52766\n",
      "epoch: 01, loss: -0.68195\n",
      "epoch: 02, loss: -0.71932\n",
      "epoch: 03, loss: -0.72206\n",
      "epoch: 04, loss: -0.73390\n",
      "epoch: 05, loss: -0.73649\n",
      "epoch: 06, loss: -0.73520\n",
      "epoch: 07, loss: -0.74961\n",
      "epoch: 08, loss: -0.74441\n",
      "epoch: 09, loss: -0.74103\n",
      "After Unsqueezing, feature size= torch.Size([400, 1, 1, 384])\n"
     ]
    },
    {
     "name": "stderr",
     "output_type": "stream",
     "text": [
      " 40%|████      | 402/1000 [2:09:31<2:55:14, 17.58s/it]"
     ]
    },
    {
     "name": "stdout",
     "output_type": "stream",
     "text": [
      "eigenvalues shape torch.Size([5]) eigenvectors shape torch.Size([5, 400])\n",
      "402 /home/phdcs2/Hard_Disk/Datasets/Deep-Spectral-Segmentation/data/object-segmentation/ECSSD/features/dino_vits16/0403.pth\n",
      "dict_keys(['k', 'indices', 'file', 'id', 'model_name', 'patch_size', 'shape'])\n",
      "0403\n",
      "Starting Training\n",
      "epoch: 00, loss: -0.45269\n",
      "epoch: 01, loss: -0.63486\n",
      "epoch: 02, loss: -0.66491\n",
      "epoch: 03, loss: -0.68243\n",
      "epoch: 04, loss: -0.69148\n",
      "epoch: 05, loss: -0.70222\n",
      "epoch: 06, loss: -0.72143\n",
      "epoch: 07, loss: -0.71950\n",
      "epoch: 08, loss: -0.73094\n",
      "epoch: 09, loss: -0.72835\n",
      "After Unsqueezing, feature size= torch.Size([400, 1, 1, 384])\n"
     ]
    },
    {
     "name": "stderr",
     "output_type": "stream",
     "text": [
      " 40%|████      | 403/1000 [2:09:49<2:58:59, 17.99s/it]"
     ]
    },
    {
     "name": "stdout",
     "output_type": "stream",
     "text": [
      "eigenvalues shape torch.Size([5]) eigenvectors shape torch.Size([5, 400])\n",
      "403 /home/phdcs2/Hard_Disk/Datasets/Deep-Spectral-Segmentation/data/object-segmentation/ECSSD/features/dino_vits16/0404.pth\n",
      "dict_keys(['k', 'indices', 'file', 'id', 'model_name', 'patch_size', 'shape'])\n",
      "0404\n",
      "Starting Training\n",
      "epoch: 00, loss: -0.50867\n",
      "epoch: 01, loss: -0.66893\n",
      "epoch: 02, loss: -0.69292\n",
      "epoch: 03, loss: -0.71027\n",
      "epoch: 04, loss: -0.72171\n",
      "epoch: 05, loss: -0.73219\n",
      "epoch: 06, loss: -0.73707\n",
      "epoch: 07, loss: -0.74477\n",
      "epoch: 08, loss: -0.73117\n",
      "epoch: 09, loss: -0.73709\n",
      "After Unsqueezing, feature size= torch.Size([400, 1, 1, 384])\n"
     ]
    },
    {
     "name": "stderr",
     "output_type": "stream",
     "text": [
      " 40%|████      | 404/1000 [2:10:05<2:50:03, 17.12s/it]"
     ]
    },
    {
     "name": "stdout",
     "output_type": "stream",
     "text": [
      "eigenvalues shape torch.Size([5]) eigenvectors shape torch.Size([5, 400])\n",
      "404 /home/phdcs2/Hard_Disk/Datasets/Deep-Spectral-Segmentation/data/object-segmentation/ECSSD/features/dino_vits16/0405.pth\n",
      "dict_keys(['k', 'indices', 'file', 'id', 'model_name', 'patch_size', 'shape'])\n",
      "0405\n",
      "Starting Training\n",
      "epoch: 00, loss: -0.55665\n",
      "epoch: 01, loss: -0.70514\n",
      "epoch: 02, loss: -0.73749\n",
      "epoch: 03, loss: -0.75234\n",
      "epoch: 04, loss: -0.76351\n",
      "epoch: 05, loss: -0.77618\n",
      "epoch: 06, loss: -0.78853\n",
      "epoch: 07, loss: -0.79451\n",
      "epoch: 08, loss: -0.80240\n",
      "epoch: 09, loss: -0.80192\n",
      "After Unsqueezing, feature size= torch.Size([400, 1, 1, 384])\n"
     ]
    },
    {
     "name": "stderr",
     "output_type": "stream",
     "text": [
      " 40%|████      | 405/1000 [2:10:21<2:47:52, 16.93s/it]"
     ]
    },
    {
     "name": "stdout",
     "output_type": "stream",
     "text": [
      "eigenvalues shape torch.Size([5]) eigenvectors shape torch.Size([5, 400])\n",
      "405 /home/phdcs2/Hard_Disk/Datasets/Deep-Spectral-Segmentation/data/object-segmentation/ECSSD/features/dino_vits16/0406.pth\n",
      "dict_keys(['k', 'indices', 'file', 'id', 'model_name', 'patch_size', 'shape'])\n",
      "0406\n",
      "Starting Training\n",
      "epoch: 00, loss: -0.50522\n",
      "epoch: 01, loss: -0.67923\n",
      "epoch: 02, loss: -0.70215\n",
      "epoch: 03, loss: -0.69956\n",
      "epoch: 04, loss: -0.69978\n",
      "epoch: 05, loss: -0.71998\n",
      "epoch: 06, loss: -0.73722\n",
      "epoch: 07, loss: -0.70026\n",
      "epoch: 08, loss: -0.71360\n",
      "epoch: 09, loss: -0.77406\n",
      "After Unsqueezing, feature size= torch.Size([400, 1, 1, 384])\n"
     ]
    },
    {
     "name": "stderr",
     "output_type": "stream",
     "text": [
      " 41%|████      | 406/1000 [2:10:37<2:46:06, 16.78s/it]"
     ]
    },
    {
     "name": "stdout",
     "output_type": "stream",
     "text": [
      "eigenvalues shape torch.Size([5]) eigenvectors shape torch.Size([5, 400])\n",
      "406 /home/phdcs2/Hard_Disk/Datasets/Deep-Spectral-Segmentation/data/object-segmentation/ECSSD/features/dino_vits16/0407.pth\n",
      "dict_keys(['k', 'indices', 'file', 'id', 'model_name', 'patch_size', 'shape'])\n",
      "0407\n",
      "Starting Training\n",
      "epoch: 00, loss: -0.48035\n",
      "epoch: 01, loss: -0.62770\n",
      "epoch: 02, loss: -0.65079\n",
      "epoch: 03, loss: -0.66117\n",
      "epoch: 04, loss: -0.67582\n",
      "epoch: 05, loss: -0.67857\n",
      "epoch: 06, loss: -0.67739\n",
      "epoch: 07, loss: -0.67554\n",
      "epoch: 08, loss: -0.68376\n",
      "epoch: 09, loss: -0.68566\n",
      "After Unsqueezing, feature size= torch.Size([400, 1, 1, 384])\n"
     ]
    },
    {
     "name": "stderr",
     "output_type": "stream",
     "text": [
      " 41%|████      | 407/1000 [2:10:55<2:49:20, 17.13s/it]"
     ]
    },
    {
     "name": "stdout",
     "output_type": "stream",
     "text": [
      "eigenvalues shape torch.Size([5]) eigenvectors shape torch.Size([5, 400])\n",
      "407 /home/phdcs2/Hard_Disk/Datasets/Deep-Spectral-Segmentation/data/object-segmentation/ECSSD/features/dino_vits16/0408.pth\n",
      "dict_keys(['k', 'indices', 'file', 'id', 'model_name', 'patch_size', 'shape'])\n",
      "0408\n",
      "Starting Training\n",
      "epoch: 00, loss: -0.49716\n",
      "epoch: 01, loss: -0.63283\n",
      "epoch: 02, loss: -0.64951\n",
      "epoch: 03, loss: -0.65510\n",
      "epoch: 04, loss: -0.66574\n",
      "epoch: 05, loss: -0.67534\n",
      "epoch: 06, loss: -0.67292\n",
      "epoch: 07, loss: -0.66494\n",
      "epoch: 08, loss: -0.65968\n",
      "epoch: 09, loss: -0.66763\n",
      "After Unsqueezing, feature size= torch.Size([400, 1, 1, 384])\n"
     ]
    },
    {
     "name": "stderr",
     "output_type": "stream",
     "text": [
      " 41%|████      | 408/1000 [2:11:14<2:53:32, 17.59s/it]"
     ]
    },
    {
     "name": "stdout",
     "output_type": "stream",
     "text": [
      "eigenvalues shape torch.Size([5]) eigenvectors shape torch.Size([5, 400])\n",
      "408 /home/phdcs2/Hard_Disk/Datasets/Deep-Spectral-Segmentation/data/object-segmentation/ECSSD/features/dino_vits16/0409.pth\n",
      "dict_keys(['k', 'indices', 'file', 'id', 'model_name', 'patch_size', 'shape'])\n",
      "0409\n",
      "Starting Training\n",
      "epoch: 00, loss: -0.49623\n",
      "epoch: 01, loss: -0.61208\n",
      "epoch: 02, loss: -0.62748\n",
      "epoch: 03, loss: -0.65297\n",
      "epoch: 04, loss: -0.66675\n",
      "epoch: 05, loss: -0.67147\n",
      "epoch: 06, loss: -0.66982\n",
      "epoch: 07, loss: -0.67259\n",
      "epoch: 08, loss: -0.67377\n",
      "epoch: 09, loss: -0.67920\n",
      "After Unsqueezing, feature size= torch.Size([450, 1, 1, 384])\n"
     ]
    },
    {
     "name": "stderr",
     "output_type": "stream",
     "text": [
      " 41%|████      | 409/1000 [2:11:35<3:02:45, 18.55s/it]"
     ]
    },
    {
     "name": "stdout",
     "output_type": "stream",
     "text": [
      "eigenvalues shape torch.Size([5]) eigenvectors shape torch.Size([5, 450])\n",
      "409 /home/phdcs2/Hard_Disk/Datasets/Deep-Spectral-Segmentation/data/object-segmentation/ECSSD/features/dino_vits16/0410.pth\n",
      "dict_keys(['k', 'indices', 'file', 'id', 'model_name', 'patch_size', 'shape'])\n",
      "0410\n",
      "Starting Training\n",
      "epoch: 00, loss: -0.44854\n",
      "epoch: 01, loss: -0.62270\n",
      "epoch: 02, loss: -0.62868\n",
      "epoch: 03, loss: -0.64291\n",
      "epoch: 04, loss: -0.65272\n",
      "epoch: 05, loss: -0.65329\n",
      "epoch: 06, loss: -0.65678\n",
      "epoch: 07, loss: -0.66404\n",
      "epoch: 08, loss: -0.68645\n",
      "epoch: 09, loss: -0.67826\n",
      "After Unsqueezing, feature size= torch.Size([325, 1, 1, 384])\n"
     ]
    },
    {
     "name": "stderr",
     "output_type": "stream",
     "text": [
      " 41%|████      | 410/1000 [2:11:50<2:51:33, 17.45s/it]"
     ]
    },
    {
     "name": "stdout",
     "output_type": "stream",
     "text": [
      "eigenvalues shape torch.Size([5]) eigenvectors shape torch.Size([5, 325])\n",
      "410 /home/phdcs2/Hard_Disk/Datasets/Deep-Spectral-Segmentation/data/object-segmentation/ECSSD/features/dino_vits16/0411.pth\n",
      "dict_keys(['k', 'indices', 'file', 'id', 'model_name', 'patch_size', 'shape'])\n",
      "0411\n",
      "Starting Training\n",
      "epoch: 00, loss: -0.51729\n",
      "epoch: 01, loss: -0.64702\n",
      "epoch: 02, loss: -0.67887\n",
      "epoch: 03, loss: -0.68155\n",
      "epoch: 04, loss: -0.68783\n",
      "epoch: 05, loss: -0.70547\n",
      "epoch: 06, loss: -0.72143\n",
      "epoch: 07, loss: -0.73557\n",
      "epoch: 08, loss: -0.75979\n",
      "epoch: 09, loss: -0.78482\n",
      "After Unsqueezing, feature size= torch.Size([450, 1, 1, 384])\n"
     ]
    },
    {
     "name": "stderr",
     "output_type": "stream",
     "text": [
      " 41%|████      | 411/1000 [2:12:08<2:52:47, 17.60s/it]"
     ]
    },
    {
     "name": "stdout",
     "output_type": "stream",
     "text": [
      "eigenvalues shape torch.Size([5]) eigenvectors shape torch.Size([5, 450])\n",
      "411 /home/phdcs2/Hard_Disk/Datasets/Deep-Spectral-Segmentation/data/object-segmentation/ECSSD/features/dino_vits16/0412.pth\n",
      "dict_keys(['k', 'indices', 'file', 'id', 'model_name', 'patch_size', 'shape'])\n",
      "0412\n",
      "Starting Training\n",
      "epoch: 00, loss: -0.52086\n",
      "epoch: 01, loss: -0.66041\n",
      "epoch: 02, loss: -0.68719\n",
      "epoch: 03, loss: -0.70684\n",
      "epoch: 04, loss: -0.71668\n",
      "epoch: 05, loss: -0.71594\n",
      "epoch: 06, loss: -0.72282\n",
      "epoch: 07, loss: -0.71619\n",
      "epoch: 08, loss: -0.71766\n",
      "epoch: 09, loss: -0.71573\n",
      "After Unsqueezing, feature size= torch.Size([450, 1, 1, 384])\n"
     ]
    },
    {
     "name": "stderr",
     "output_type": "stream",
     "text": [
      " 41%|████      | 412/1000 [2:12:29<3:02:08, 18.59s/it]"
     ]
    },
    {
     "name": "stdout",
     "output_type": "stream",
     "text": [
      "eigenvalues shape torch.Size([5]) eigenvectors shape torch.Size([5, 450])\n",
      "412 /home/phdcs2/Hard_Disk/Datasets/Deep-Spectral-Segmentation/data/object-segmentation/ECSSD/features/dino_vits16/0413.pth\n",
      "dict_keys(['k', 'indices', 'file', 'id', 'model_name', 'patch_size', 'shape'])\n",
      "0413\n",
      "Starting Training\n",
      "epoch: 00, loss: -0.56604\n",
      "epoch: 01, loss: -0.71310\n",
      "epoch: 02, loss: -0.73558\n",
      "epoch: 03, loss: -0.76195\n",
      "epoch: 04, loss: -0.77335\n",
      "epoch: 05, loss: -0.78357\n",
      "epoch: 06, loss: -0.79719\n",
      "epoch: 07, loss: -0.79627\n",
      "epoch: 08, loss: -0.79816\n",
      "epoch: 09, loss: -0.79761\n",
      "After Unsqueezing, feature size= torch.Size([450, 1, 1, 384])\n"
     ]
    },
    {
     "name": "stderr",
     "output_type": "stream",
     "text": [
      " 41%|████▏     | 413/1000 [2:12:49<3:08:13, 19.24s/it]"
     ]
    },
    {
     "name": "stdout",
     "output_type": "stream",
     "text": [
      "eigenvalues shape torch.Size([5]) eigenvectors shape torch.Size([5, 450])\n",
      "413 /home/phdcs2/Hard_Disk/Datasets/Deep-Spectral-Segmentation/data/object-segmentation/ECSSD/features/dino_vits16/0414.pth\n",
      "dict_keys(['k', 'indices', 'file', 'id', 'model_name', 'patch_size', 'shape'])\n",
      "0414\n",
      "Starting Training\n",
      "epoch: 00, loss: -0.57339\n",
      "epoch: 01, loss: -0.71783\n",
      "epoch: 02, loss: -0.73122\n",
      "epoch: 03, loss: -0.74287\n",
      "epoch: 04, loss: -0.75561\n",
      "epoch: 05, loss: -0.76130\n",
      "epoch: 06, loss: -0.76750\n",
      "epoch: 07, loss: -0.77407\n",
      "epoch: 08, loss: -0.77816\n",
      "epoch: 09, loss: -0.77857\n",
      "After Unsqueezing, feature size= torch.Size([450, 1, 1, 384])\n"
     ]
    },
    {
     "name": "stderr",
     "output_type": "stream",
     "text": [
      " 41%|████▏     | 414/1000 [2:13:07<3:03:42, 18.81s/it]"
     ]
    },
    {
     "name": "stdout",
     "output_type": "stream",
     "text": [
      "eigenvalues shape torch.Size([5]) eigenvectors shape torch.Size([5, 450])\n",
      "414 /home/phdcs2/Hard_Disk/Datasets/Deep-Spectral-Segmentation/data/object-segmentation/ECSSD/features/dino_vits16/0415.pth\n",
      "dict_keys(['k', 'indices', 'file', 'id', 'model_name', 'patch_size', 'shape'])\n",
      "0415\n",
      "Starting Training\n",
      "epoch: 00, loss: -0.53058\n",
      "epoch: 01, loss: -0.66753\n",
      "epoch: 02, loss: -0.71093\n",
      "epoch: 03, loss: -0.71753\n",
      "epoch: 04, loss: -0.72608\n",
      "epoch: 05, loss: -0.73894\n",
      "epoch: 06, loss: -0.75010\n",
      "epoch: 07, loss: -0.75810\n",
      "epoch: 08, loss: -0.75000\n",
      "epoch: 09, loss: -0.76062\n",
      "After Unsqueezing, feature size= torch.Size([450, 1, 1, 384])\n"
     ]
    },
    {
     "name": "stderr",
     "output_type": "stream",
     "text": [
      " 42%|████▏     | 415/1000 [2:13:25<3:01:05, 18.57s/it]"
     ]
    },
    {
     "name": "stdout",
     "output_type": "stream",
     "text": [
      "eigenvalues shape torch.Size([5]) eigenvectors shape torch.Size([5, 450])\n",
      "415 /home/phdcs2/Hard_Disk/Datasets/Deep-Spectral-Segmentation/data/object-segmentation/ECSSD/features/dino_vits16/0416.pth\n",
      "dict_keys(['k', 'indices', 'file', 'id', 'model_name', 'patch_size', 'shape'])\n",
      "0416\n",
      "Starting Training\n",
      "epoch: 00, loss: -0.54297\n",
      "epoch: 01, loss: -0.68357\n",
      "epoch: 02, loss: -0.71627\n",
      "epoch: 03, loss: -0.71312\n",
      "epoch: 04, loss: -0.71211\n",
      "epoch: 05, loss: -0.72306\n",
      "epoch: 06, loss: -0.72332\n",
      "epoch: 07, loss: -0.71522\n",
      "epoch: 08, loss: -0.72157\n",
      "epoch: 09, loss: -0.70398\n",
      "After Unsqueezing, feature size= torch.Size([450, 1, 1, 384])\n"
     ]
    },
    {
     "name": "stderr",
     "output_type": "stream",
     "text": [
      " 42%|████▏     | 416/1000 [2:13:45<3:04:06, 18.92s/it]"
     ]
    },
    {
     "name": "stdout",
     "output_type": "stream",
     "text": [
      "eigenvalues shape torch.Size([5]) eigenvectors shape torch.Size([5, 450])\n",
      "416 /home/phdcs2/Hard_Disk/Datasets/Deep-Spectral-Segmentation/data/object-segmentation/ECSSD/features/dino_vits16/0417.pth\n",
      "dict_keys(['k', 'indices', 'file', 'id', 'model_name', 'patch_size', 'shape'])\n",
      "0417\n",
      "Starting Training\n",
      "epoch: 00, loss: -0.46747\n",
      "epoch: 01, loss: -0.63444\n",
      "epoch: 02, loss: -0.63732\n",
      "epoch: 03, loss: -0.62714\n",
      "epoch: 04, loss: -0.61840\n",
      "epoch: 05, loss: -0.63401\n",
      "epoch: 06, loss: -0.64124\n",
      "epoch: 07, loss: -0.66887\n",
      "epoch: 08, loss: -0.67716\n",
      "epoch: 09, loss: -0.67937\n",
      "After Unsqueezing, feature size= torch.Size([450, 1, 1, 384])\n"
     ]
    },
    {
     "name": "stderr",
     "output_type": "stream",
     "text": [
      " 42%|████▏     | 417/1000 [2:14:05<3:06:55, 19.24s/it]"
     ]
    },
    {
     "name": "stdout",
     "output_type": "stream",
     "text": [
      "eigenvalues shape torch.Size([5]) eigenvectors shape torch.Size([5, 450])\n",
      "417 /home/phdcs2/Hard_Disk/Datasets/Deep-Spectral-Segmentation/data/object-segmentation/ECSSD/features/dino_vits16/0418.pth\n",
      "dict_keys(['k', 'indices', 'file', 'id', 'model_name', 'patch_size', 'shape'])\n",
      "0418\n",
      "Starting Training\n",
      "epoch: 00, loss: -0.53852\n",
      "epoch: 01, loss: -0.68623\n",
      "epoch: 02, loss: -0.72004\n",
      "epoch: 03, loss: -0.74294\n",
      "epoch: 04, loss: -0.75437\n",
      "epoch: 05, loss: -0.75354\n",
      "epoch: 06, loss: -0.76459\n",
      "epoch: 07, loss: -0.78092\n",
      "epoch: 08, loss: -0.78553\n",
      "epoch: 09, loss: -0.79097\n",
      "After Unsqueezing, feature size= torch.Size([450, 1, 1, 384])\n"
     ]
    },
    {
     "name": "stderr",
     "output_type": "stream",
     "text": [
      " 42%|████▏     | 418/1000 [2:14:25<3:10:35, 19.65s/it]"
     ]
    },
    {
     "name": "stdout",
     "output_type": "stream",
     "text": [
      "eigenvalues shape torch.Size([5]) eigenvectors shape torch.Size([5, 450])\n",
      "418 /home/phdcs2/Hard_Disk/Datasets/Deep-Spectral-Segmentation/data/object-segmentation/ECSSD/features/dino_vits16/0419.pth\n",
      "dict_keys(['k', 'indices', 'file', 'id', 'model_name', 'patch_size', 'shape'])\n",
      "0419\n",
      "Starting Training\n",
      "epoch: 00, loss: -0.51118\n",
      "epoch: 01, loss: -0.67136\n",
      "epoch: 02, loss: -0.68105\n",
      "epoch: 03, loss: -0.69759\n",
      "epoch: 04, loss: -0.69943\n",
      "epoch: 05, loss: -0.70314\n",
      "epoch: 06, loss: -0.72329\n",
      "epoch: 07, loss: -0.72103\n",
      "epoch: 08, loss: -0.72590\n",
      "epoch: 09, loss: -0.72002\n",
      "After Unsqueezing, feature size= torch.Size([450, 1, 1, 384])\n"
     ]
    },
    {
     "name": "stderr",
     "output_type": "stream",
     "text": [
      " 42%|████▏     | 419/1000 [2:14:46<3:11:39, 19.79s/it]"
     ]
    },
    {
     "name": "stdout",
     "output_type": "stream",
     "text": [
      "eigenvalues shape torch.Size([5]) eigenvectors shape torch.Size([5, 450])\n",
      "419 /home/phdcs2/Hard_Disk/Datasets/Deep-Spectral-Segmentation/data/object-segmentation/ECSSD/features/dino_vits16/0420.pth\n",
      "dict_keys(['k', 'indices', 'file', 'id', 'model_name', 'patch_size', 'shape'])\n",
      "0420\n",
      "Starting Training\n",
      "epoch: 00, loss: -0.58712\n",
      "epoch: 01, loss: -0.68603\n",
      "epoch: 02, loss: -0.70334\n",
      "epoch: 03, loss: -0.71850\n",
      "epoch: 04, loss: -0.72267\n",
      "epoch: 05, loss: -0.71985\n",
      "epoch: 06, loss: -0.73901\n",
      "epoch: 07, loss: -0.74518\n",
      "epoch: 08, loss: -0.75184\n",
      "epoch: 09, loss: -0.74449\n",
      "After Unsqueezing, feature size= torch.Size([575, 1, 1, 384])\n"
     ]
    },
    {
     "name": "stderr",
     "output_type": "stream",
     "text": [
      " 42%|████▏     | 420/1000 [2:15:09<3:20:43, 20.76s/it]"
     ]
    },
    {
     "name": "stdout",
     "output_type": "stream",
     "text": [
      "eigenvalues shape torch.Size([5]) eigenvectors shape torch.Size([5, 575])\n",
      "420 /home/phdcs2/Hard_Disk/Datasets/Deep-Spectral-Segmentation/data/object-segmentation/ECSSD/features/dino_vits16/0421.pth\n",
      "dict_keys(['k', 'indices', 'file', 'id', 'model_name', 'patch_size', 'shape'])\n",
      "0421\n",
      "Starting Training\n",
      "epoch: 00, loss: -0.58140\n",
      "epoch: 01, loss: -0.69969\n",
      "epoch: 02, loss: -0.71102\n",
      "epoch: 03, loss: -0.73018\n",
      "epoch: 04, loss: -0.73425\n",
      "epoch: 05, loss: -0.74881\n",
      "epoch: 06, loss: -0.75706\n",
      "epoch: 07, loss: -0.76217\n",
      "epoch: 08, loss: -0.76316\n",
      "epoch: 09, loss: -0.77477\n",
      "After Unsqueezing, feature size= torch.Size([525, 1, 1, 384])\n"
     ]
    },
    {
     "name": "stderr",
     "output_type": "stream",
     "text": [
      " 42%|████▏     | 421/1000 [2:15:34<3:33:50, 22.16s/it]"
     ]
    },
    {
     "name": "stdout",
     "output_type": "stream",
     "text": [
      "eigenvalues shape torch.Size([5]) eigenvectors shape torch.Size([5, 525])\n",
      "421 /home/phdcs2/Hard_Disk/Datasets/Deep-Spectral-Segmentation/data/object-segmentation/ECSSD/features/dino_vits16/0422.pth\n",
      "dict_keys(['k', 'indices', 'file', 'id', 'model_name', 'patch_size', 'shape'])\n",
      "0422\n",
      "Starting Training\n",
      "epoch: 00, loss: -0.49599\n",
      "epoch: 01, loss: -0.63076\n",
      "epoch: 02, loss: -0.65660\n",
      "epoch: 03, loss: -0.64382\n",
      "epoch: 04, loss: -0.69177\n",
      "epoch: 05, loss: -0.69354\n",
      "epoch: 06, loss: -0.71466\n",
      "epoch: 07, loss: -0.70721\n",
      "epoch: 08, loss: -0.69327\n",
      "epoch: 09, loss: -0.71119\n",
      "After Unsqueezing, feature size= torch.Size([450, 1, 1, 384])\n"
     ]
    },
    {
     "name": "stderr",
     "output_type": "stream",
     "text": [
      " 42%|████▏     | 422/1000 [2:15:57<3:34:37, 22.28s/it]"
     ]
    },
    {
     "name": "stdout",
     "output_type": "stream",
     "text": [
      "eigenvalues shape torch.Size([5]) eigenvectors shape torch.Size([5, 450])\n",
      "422 /home/phdcs2/Hard_Disk/Datasets/Deep-Spectral-Segmentation/data/object-segmentation/ECSSD/features/dino_vits16/0423.pth\n",
      "dict_keys(['k', 'indices', 'file', 'id', 'model_name', 'patch_size', 'shape'])\n",
      "0423\n",
      "Starting Training\n",
      "epoch: 00, loss: -0.51124\n",
      "epoch: 01, loss: -0.65816\n",
      "epoch: 02, loss: -0.68709\n",
      "epoch: 03, loss: -0.69819\n",
      "epoch: 04, loss: -0.71099\n",
      "epoch: 05, loss: -0.71743\n",
      "epoch: 06, loss: -0.72583\n",
      "epoch: 07, loss: -0.71866\n",
      "epoch: 08, loss: -0.71884\n",
      "epoch: 09, loss: -0.72757\n",
      "After Unsqueezing, feature size= torch.Size([425, 1, 1, 384])\n"
     ]
    },
    {
     "name": "stderr",
     "output_type": "stream",
     "text": [
      " 42%|████▏     | 423/1000 [2:16:14<3:19:14, 20.72s/it]"
     ]
    },
    {
     "name": "stdout",
     "output_type": "stream",
     "text": [
      "eigenvalues shape torch.Size([5]) eigenvectors shape torch.Size([5, 425])\n",
      "423 /home/phdcs2/Hard_Disk/Datasets/Deep-Spectral-Segmentation/data/object-segmentation/ECSSD/features/dino_vits16/0424.pth\n",
      "dict_keys(['k', 'indices', 'file', 'id', 'model_name', 'patch_size', 'shape'])\n",
      "0424\n",
      "Starting Training\n",
      "epoch: 00, loss: -0.48088\n",
      "epoch: 01, loss: -0.60217\n",
      "epoch: 02, loss: -0.62752\n",
      "epoch: 03, loss: -0.64356\n",
      "epoch: 04, loss: -0.64910\n",
      "epoch: 05, loss: -0.67745\n",
      "epoch: 06, loss: -0.68510\n",
      "epoch: 07, loss: -0.68028\n",
      "epoch: 08, loss: -0.67998\n",
      "epoch: 09, loss: -0.67488\n",
      "After Unsqueezing, feature size= torch.Size([550, 1, 1, 384])\n"
     ]
    },
    {
     "name": "stderr",
     "output_type": "stream",
     "text": [
      " 42%|████▏     | 424/1000 [2:16:37<3:26:29, 21.51s/it]"
     ]
    },
    {
     "name": "stdout",
     "output_type": "stream",
     "text": [
      "eigenvalues shape torch.Size([5]) eigenvectors shape torch.Size([5, 550])\n",
      "424 /home/phdcs2/Hard_Disk/Datasets/Deep-Spectral-Segmentation/data/object-segmentation/ECSSD/features/dino_vits16/0425.pth\n",
      "dict_keys(['k', 'indices', 'file', 'id', 'model_name', 'patch_size', 'shape'])\n",
      "0425\n",
      "Starting Training\n",
      "epoch: 00, loss: -0.44939\n",
      "epoch: 01, loss: -0.59756\n",
      "epoch: 02, loss: -0.61918\n",
      "epoch: 03, loss: -0.62891\n",
      "epoch: 04, loss: -0.63075\n",
      "epoch: 05, loss: -0.64638\n",
      "epoch: 06, loss: -0.65391\n",
      "epoch: 07, loss: -0.65307\n",
      "epoch: 08, loss: -0.64346\n",
      "epoch: 09, loss: -0.62302\n",
      "After Unsqueezing, feature size= torch.Size([475, 1, 1, 384])\n"
     ]
    },
    {
     "name": "stderr",
     "output_type": "stream",
     "text": [
      " 42%|████▎     | 425/1000 [2:16:59<3:28:10, 21.72s/it]"
     ]
    },
    {
     "name": "stdout",
     "output_type": "stream",
     "text": [
      "eigenvalues shape torch.Size([5]) eigenvectors shape torch.Size([5, 475])\n",
      "425 /home/phdcs2/Hard_Disk/Datasets/Deep-Spectral-Segmentation/data/object-segmentation/ECSSD/features/dino_vits16/0426.pth\n",
      "dict_keys(['k', 'indices', 'file', 'id', 'model_name', 'patch_size', 'shape'])\n",
      "0426\n",
      "Starting Training\n",
      "epoch: 00, loss: -0.47390\n",
      "epoch: 01, loss: -0.59014\n",
      "epoch: 02, loss: -0.62996\n",
      "epoch: 03, loss: -0.65312\n",
      "epoch: 04, loss: -0.66937\n",
      "epoch: 05, loss: -0.67717\n",
      "epoch: 06, loss: -0.67765\n",
      "epoch: 07, loss: -0.67913\n",
      "epoch: 08, loss: -0.69762\n",
      "epoch: 09, loss: -0.68796\n",
      "After Unsqueezing, feature size= torch.Size([500, 1, 1, 384])\n"
     ]
    },
    {
     "name": "stderr",
     "output_type": "stream",
     "text": [
      " 43%|████▎     | 426/1000 [2:17:18<3:18:12, 20.72s/it]"
     ]
    },
    {
     "name": "stdout",
     "output_type": "stream",
     "text": [
      "eigenvalues shape torch.Size([5]) eigenvectors shape torch.Size([5, 500])\n",
      "426 /home/phdcs2/Hard_Disk/Datasets/Deep-Spectral-Segmentation/data/object-segmentation/ECSSD/features/dino_vits16/0427.pth\n",
      "dict_keys(['k', 'indices', 'file', 'id', 'model_name', 'patch_size', 'shape'])\n",
      "0427\n",
      "Starting Training\n",
      "epoch: 00, loss: -0.55184\n",
      "epoch: 01, loss: -0.71550\n",
      "epoch: 02, loss: -0.74981\n",
      "epoch: 03, loss: -0.76079\n",
      "epoch: 04, loss: -0.76779\n",
      "epoch: 05, loss: -0.77658\n",
      "epoch: 06, loss: -0.78192\n",
      "epoch: 07, loss: -0.77256\n",
      "epoch: 08, loss: -0.78122\n",
      "epoch: 09, loss: -0.76888\n",
      "After Unsqueezing, feature size= torch.Size([450, 1, 1, 384])\n"
     ]
    },
    {
     "name": "stderr",
     "output_type": "stream",
     "text": [
      " 43%|████▎     | 427/1000 [2:17:38<3:16:28, 20.57s/it]"
     ]
    },
    {
     "name": "stdout",
     "output_type": "stream",
     "text": [
      "eigenvalues shape torch.Size([5]) eigenvectors shape torch.Size([5, 450])\n",
      "427 /home/phdcs2/Hard_Disk/Datasets/Deep-Spectral-Segmentation/data/object-segmentation/ECSSD/features/dino_vits16/0428.pth\n",
      "dict_keys(['k', 'indices', 'file', 'id', 'model_name', 'patch_size', 'shape'])\n",
      "0428\n",
      "Starting Training\n",
      "epoch: 00, loss: -0.55053\n",
      "epoch: 01, loss: -0.72863\n",
      "epoch: 02, loss: -0.74699\n",
      "epoch: 03, loss: -0.76353\n",
      "epoch: 04, loss: -0.77649\n",
      "epoch: 05, loss: -0.76770\n",
      "epoch: 06, loss: -0.77249\n",
      "epoch: 07, loss: -0.78179\n",
      "epoch: 08, loss: -0.78761\n",
      "epoch: 09, loss: -0.79253\n",
      "After Unsqueezing, feature size= torch.Size([400, 1, 1, 384])\n"
     ]
    },
    {
     "name": "stderr",
     "output_type": "stream",
     "text": [
      " 43%|████▎     | 428/1000 [2:17:56<3:08:19, 19.75s/it]"
     ]
    },
    {
     "name": "stdout",
     "output_type": "stream",
     "text": [
      "eigenvalues shape torch.Size([5]) eigenvectors shape torch.Size([5, 400])\n",
      "428 /home/phdcs2/Hard_Disk/Datasets/Deep-Spectral-Segmentation/data/object-segmentation/ECSSD/features/dino_vits16/0429.pth\n",
      "dict_keys(['k', 'indices', 'file', 'id', 'model_name', 'patch_size', 'shape'])\n",
      "0429\n",
      "Starting Training\n",
      "epoch: 00, loss: -0.47579\n",
      "epoch: 01, loss: -0.63610\n",
      "epoch: 02, loss: -0.65362\n",
      "epoch: 03, loss: -0.65569\n",
      "epoch: 04, loss: -0.66276\n",
      "epoch: 05, loss: -0.66077\n",
      "epoch: 06, loss: -0.65840\n",
      "epoch: 07, loss: -0.66694\n",
      "epoch: 08, loss: -0.66625\n",
      "epoch: 09, loss: -0.65515\n",
      "After Unsqueezing, feature size= torch.Size([375, 1, 1, 384])\n"
     ]
    },
    {
     "name": "stderr",
     "output_type": "stream",
     "text": [
      " 43%|████▎     | 429/1000 [2:18:13<3:01:19, 19.05s/it]"
     ]
    },
    {
     "name": "stdout",
     "output_type": "stream",
     "text": [
      "eigenvalues shape torch.Size([5]) eigenvectors shape torch.Size([5, 375])\n",
      "429 /home/phdcs2/Hard_Disk/Datasets/Deep-Spectral-Segmentation/data/object-segmentation/ECSSD/features/dino_vits16/0430.pth\n",
      "dict_keys(['k', 'indices', 'file', 'id', 'model_name', 'patch_size', 'shape'])\n",
      "0430\n",
      "Starting Training\n",
      "epoch: 00, loss: -0.58638\n",
      "epoch: 01, loss: -0.70446\n",
      "epoch: 02, loss: -0.74771\n",
      "epoch: 03, loss: -0.76603\n",
      "epoch: 04, loss: -0.76963\n",
      "epoch: 05, loss: -0.76342\n",
      "epoch: 06, loss: -0.77249\n",
      "epoch: 07, loss: -0.78164\n",
      "epoch: 08, loss: -0.77519\n",
      "epoch: 09, loss: -0.78219\n",
      "After Unsqueezing, feature size= torch.Size([500, 1, 1, 384])\n"
     ]
    },
    {
     "name": "stderr",
     "output_type": "stream",
     "text": [
      " 43%|████▎     | 430/1000 [2:18:36<3:11:55, 20.20s/it]"
     ]
    },
    {
     "name": "stdout",
     "output_type": "stream",
     "text": [
      "eigenvalues shape torch.Size([5]) eigenvectors shape torch.Size([5, 500])\n",
      "430 /home/phdcs2/Hard_Disk/Datasets/Deep-Spectral-Segmentation/data/object-segmentation/ECSSD/features/dino_vits16/0431.pth\n",
      "dict_keys(['k', 'indices', 'file', 'id', 'model_name', 'patch_size', 'shape'])\n",
      "0431\n",
      "Starting Training\n",
      "epoch: 00, loss: -0.47638\n",
      "epoch: 01, loss: -0.63152\n",
      "epoch: 02, loss: -0.65122\n",
      "epoch: 03, loss: -0.67317\n",
      "epoch: 04, loss: -0.68761\n",
      "epoch: 05, loss: -0.69945\n",
      "epoch: 06, loss: -0.70764\n",
      "epoch: 07, loss: -0.71213\n",
      "epoch: 08, loss: -0.73153\n",
      "epoch: 09, loss: -0.73828\n",
      "After Unsqueezing, feature size= torch.Size([400, 1, 1, 384])\n"
     ]
    },
    {
     "name": "stderr",
     "output_type": "stream",
     "text": [
      " 43%|████▎     | 431/1000 [2:18:54<3:06:18, 19.65s/it]"
     ]
    },
    {
     "name": "stdout",
     "output_type": "stream",
     "text": [
      "eigenvalues shape torch.Size([5]) eigenvectors shape torch.Size([5, 400])\n",
      "431 /home/phdcs2/Hard_Disk/Datasets/Deep-Spectral-Segmentation/data/object-segmentation/ECSSD/features/dino_vits16/0432.pth\n",
      "dict_keys(['k', 'indices', 'file', 'id', 'model_name', 'patch_size', 'shape'])\n",
      "0432\n",
      "Starting Training\n",
      "epoch: 00, loss: -0.50287\n",
      "epoch: 01, loss: -0.64279\n",
      "epoch: 02, loss: -0.68350\n",
      "epoch: 03, loss: -0.68788\n",
      "epoch: 04, loss: -0.67645\n",
      "epoch: 05, loss: -0.67112\n",
      "epoch: 06, loss: -0.67663\n",
      "epoch: 07, loss: -0.67842\n",
      "epoch: 08, loss: -0.69826\n",
      "epoch: 09, loss: -0.70178\n",
      "After Unsqueezing, feature size= torch.Size([425, 1, 1, 384])\n"
     ]
    },
    {
     "name": "stderr",
     "output_type": "stream",
     "text": [
      " 43%|████▎     | 432/1000 [2:19:12<3:01:01, 19.12s/it]"
     ]
    },
    {
     "name": "stdout",
     "output_type": "stream",
     "text": [
      "eigenvalues shape torch.Size([5]) eigenvectors shape torch.Size([5, 425])\n",
      "432 /home/phdcs2/Hard_Disk/Datasets/Deep-Spectral-Segmentation/data/object-segmentation/ECSSD/features/dino_vits16/0433.pth\n",
      "dict_keys(['k', 'indices', 'file', 'id', 'model_name', 'patch_size', 'shape'])\n",
      "0433\n",
      "Starting Training\n",
      "epoch: 00, loss: -0.52222\n",
      "epoch: 01, loss: -0.66560\n",
      "epoch: 02, loss: -0.69247\n",
      "epoch: 03, loss: -0.69403\n",
      "epoch: 04, loss: -0.71277\n",
      "epoch: 05, loss: -0.72933\n",
      "epoch: 06, loss: -0.73363\n",
      "epoch: 07, loss: -0.73421\n",
      "epoch: 08, loss: -0.75870\n",
      "epoch: 09, loss: -0.74056\n",
      "After Unsqueezing, feature size= torch.Size([475, 1, 1, 384])\n"
     ]
    },
    {
     "name": "stderr",
     "output_type": "stream",
     "text": [
      " 43%|████▎     | 433/1000 [2:19:33<3:04:57, 19.57s/it]"
     ]
    },
    {
     "name": "stdout",
     "output_type": "stream",
     "text": [
      "eigenvalues shape torch.Size([5]) eigenvectors shape torch.Size([5, 475])\n",
      "433 /home/phdcs2/Hard_Disk/Datasets/Deep-Spectral-Segmentation/data/object-segmentation/ECSSD/features/dino_vits16/0434.pth\n",
      "dict_keys(['k', 'indices', 'file', 'id', 'model_name', 'patch_size', 'shape'])\n",
      "0434\n",
      "Starting Training\n",
      "epoch: 00, loss: -0.50859\n",
      "epoch: 01, loss: -0.66521\n",
      "epoch: 02, loss: -0.66750\n",
      "epoch: 03, loss: -0.68618\n",
      "epoch: 04, loss: -0.70488\n",
      "epoch: 05, loss: -0.71400\n",
      "epoch: 06, loss: -0.73237\n",
      "epoch: 07, loss: -0.73886\n",
      "epoch: 08, loss: -0.72586\n",
      "epoch: 09, loss: -0.71940\n",
      "After Unsqueezing, feature size= torch.Size([450, 1, 1, 384])\n"
     ]
    },
    {
     "name": "stderr",
     "output_type": "stream",
     "text": [
      " 43%|████▎     | 434/1000 [2:19:51<2:59:41, 19.05s/it]"
     ]
    },
    {
     "name": "stdout",
     "output_type": "stream",
     "text": [
      "eigenvalues shape torch.Size([5]) eigenvectors shape torch.Size([5, 450])\n",
      "434 /home/phdcs2/Hard_Disk/Datasets/Deep-Spectral-Segmentation/data/object-segmentation/ECSSD/features/dino_vits16/0435.pth\n",
      "dict_keys(['k', 'indices', 'file', 'id', 'model_name', 'patch_size', 'shape'])\n",
      "0435\n",
      "Starting Training\n",
      "epoch: 00, loss: -0.54152\n",
      "epoch: 01, loss: -0.67571\n",
      "epoch: 02, loss: -0.69575\n",
      "epoch: 03, loss: -0.69788\n",
      "epoch: 04, loss: -0.71167\n",
      "epoch: 05, loss: -0.71706\n",
      "epoch: 06, loss: -0.73108\n",
      "epoch: 07, loss: -0.73035\n",
      "epoch: 08, loss: -0.73422\n",
      "epoch: 09, loss: -0.73692\n",
      "After Unsqueezing, feature size= torch.Size([450, 1, 1, 384])\n"
     ]
    },
    {
     "name": "stderr",
     "output_type": "stream",
     "text": [
      " 44%|████▎     | 435/1000 [2:20:11<3:01:57, 19.32s/it]"
     ]
    },
    {
     "name": "stdout",
     "output_type": "stream",
     "text": [
      "eigenvalues shape torch.Size([5]) eigenvectors shape torch.Size([5, 450])\n",
      "435 /home/phdcs2/Hard_Disk/Datasets/Deep-Spectral-Segmentation/data/object-segmentation/ECSSD/features/dino_vits16/0436.pth\n",
      "dict_keys(['k', 'indices', 'file', 'id', 'model_name', 'patch_size', 'shape'])\n",
      "0436\n",
      "Starting Training\n",
      "epoch: 00, loss: -0.54990\n",
      "epoch: 01, loss: -0.69673\n",
      "epoch: 02, loss: -0.69872\n",
      "epoch: 03, loss: -0.70975\n",
      "epoch: 04, loss: -0.72666\n",
      "epoch: 05, loss: -0.72797\n",
      "epoch: 06, loss: -0.73426\n",
      "epoch: 07, loss: -0.73397\n",
      "epoch: 08, loss: -0.73956\n",
      "epoch: 09, loss: -0.75262\n",
      "After Unsqueezing, feature size= torch.Size([475, 1, 1, 384])\n"
     ]
    },
    {
     "name": "stderr",
     "output_type": "stream",
     "text": [
      " 44%|████▎     | 436/1000 [2:20:32<3:07:50, 19.98s/it]"
     ]
    },
    {
     "name": "stdout",
     "output_type": "stream",
     "text": [
      "eigenvalues shape torch.Size([5]) eigenvectors shape torch.Size([5, 475])\n",
      "436 /home/phdcs2/Hard_Disk/Datasets/Deep-Spectral-Segmentation/data/object-segmentation/ECSSD/features/dino_vits16/0437.pth\n",
      "dict_keys(['k', 'indices', 'file', 'id', 'model_name', 'patch_size', 'shape'])\n",
      "0437\n",
      "Starting Training\n",
      "epoch: 00, loss: -0.46602\n",
      "epoch: 01, loss: -0.55461\n",
      "epoch: 02, loss: -0.55022\n",
      "epoch: 03, loss: -0.54927\n",
      "epoch: 04, loss: -0.56077\n",
      "epoch: 05, loss: -0.56768\n",
      "epoch: 06, loss: -0.57820\n",
      "epoch: 07, loss: -0.60648\n",
      "epoch: 08, loss: -0.59454\n",
      "epoch: 09, loss: -0.58923\n",
      "After Unsqueezing, feature size= torch.Size([450, 1, 1, 384])\n"
     ]
    },
    {
     "name": "stderr",
     "output_type": "stream",
     "text": [
      " 44%|████▎     | 437/1000 [2:20:52<3:07:37, 20.00s/it]"
     ]
    },
    {
     "name": "stdout",
     "output_type": "stream",
     "text": [
      "eigenvalues shape torch.Size([5]) eigenvectors shape torch.Size([5, 450])\n",
      "437 /home/phdcs2/Hard_Disk/Datasets/Deep-Spectral-Segmentation/data/object-segmentation/ECSSD/features/dino_vits16/0438.pth\n",
      "dict_keys(['k', 'indices', 'file', 'id', 'model_name', 'patch_size', 'shape'])\n",
      "0438\n",
      "Starting Training\n",
      "epoch: 00, loss: -0.47458\n",
      "epoch: 01, loss: -0.62916\n",
      "epoch: 02, loss: -0.66265\n",
      "epoch: 03, loss: -0.68556\n",
      "epoch: 04, loss: -0.68121\n",
      "epoch: 05, loss: -0.68332\n",
      "epoch: 06, loss: -0.68898\n",
      "epoch: 07, loss: -0.70412\n",
      "epoch: 08, loss: -0.70553\n",
      "epoch: 09, loss: -0.71137\n",
      "After Unsqueezing, feature size= torch.Size([450, 1, 1, 384])\n"
     ]
    },
    {
     "name": "stderr",
     "output_type": "stream",
     "text": [
      " 44%|████▍     | 438/1000 [2:21:11<3:02:55, 19.53s/it]"
     ]
    },
    {
     "name": "stdout",
     "output_type": "stream",
     "text": [
      "eigenvalues shape torch.Size([5]) eigenvectors shape torch.Size([5, 450])\n",
      "438 /home/phdcs2/Hard_Disk/Datasets/Deep-Spectral-Segmentation/data/object-segmentation/ECSSD/features/dino_vits16/0439.pth\n",
      "dict_keys(['k', 'indices', 'file', 'id', 'model_name', 'patch_size', 'shape'])\n",
      "0439\n",
      "Starting Training\n",
      "epoch: 00, loss: -0.51240\n",
      "epoch: 01, loss: -0.64696\n",
      "epoch: 02, loss: -0.67956\n",
      "epoch: 03, loss: -0.69081\n",
      "epoch: 04, loss: -0.69754\n",
      "epoch: 05, loss: -0.68617\n",
      "epoch: 06, loss: -0.68594\n",
      "epoch: 07, loss: -0.72387\n",
      "epoch: 08, loss: -0.74562\n",
      "epoch: 09, loss: -0.76315\n",
      "After Unsqueezing, feature size= torch.Size([575, 1, 1, 384])\n"
     ]
    },
    {
     "name": "stderr",
     "output_type": "stream",
     "text": [
      " 44%|████▍     | 439/1000 [2:21:38<3:23:18, 21.74s/it]"
     ]
    },
    {
     "name": "stdout",
     "output_type": "stream",
     "text": [
      "eigenvalues shape torch.Size([5]) eigenvectors shape torch.Size([5, 575])\n",
      "439 /home/phdcs2/Hard_Disk/Datasets/Deep-Spectral-Segmentation/data/object-segmentation/ECSSD/features/dino_vits16/0440.pth\n",
      "dict_keys(['k', 'indices', 'file', 'id', 'model_name', 'patch_size', 'shape'])\n",
      "0440\n",
      "Starting Training\n",
      "epoch: 00, loss: -0.51936\n",
      "epoch: 01, loss: -0.65474\n",
      "epoch: 02, loss: -0.67944\n",
      "epoch: 03, loss: -0.70768\n",
      "epoch: 04, loss: -0.71035\n",
      "epoch: 05, loss: -0.72045\n",
      "epoch: 06, loss: -0.72415\n",
      "epoch: 07, loss: -0.72436\n",
      "epoch: 08, loss: -0.72692\n",
      "epoch: 09, loss: -0.72940\n",
      "After Unsqueezing, feature size= torch.Size([450, 1, 1, 384])\n"
     ]
    },
    {
     "name": "stderr",
     "output_type": "stream",
     "text": [
      " 44%|████▍     | 440/1000 [2:22:01<3:28:14, 22.31s/it]"
     ]
    },
    {
     "name": "stdout",
     "output_type": "stream",
     "text": [
      "eigenvalues shape torch.Size([5]) eigenvectors shape torch.Size([5, 450])\n",
      "440 /home/phdcs2/Hard_Disk/Datasets/Deep-Spectral-Segmentation/data/object-segmentation/ECSSD/features/dino_vits16/0441.pth\n",
      "dict_keys(['k', 'indices', 'file', 'id', 'model_name', 'patch_size', 'shape'])\n",
      "0441\n",
      "Starting Training\n",
      "epoch: 00, loss: -0.56314\n",
      "epoch: 01, loss: -0.71358\n",
      "epoch: 02, loss: -0.73847\n",
      "epoch: 03, loss: -0.74716\n",
      "epoch: 04, loss: -0.76040\n",
      "epoch: 05, loss: -0.76316\n",
      "epoch: 06, loss: -0.76537\n",
      "epoch: 07, loss: -0.77460\n",
      "epoch: 08, loss: -0.78268\n",
      "epoch: 09, loss: -0.78788\n",
      "After Unsqueezing, feature size= torch.Size([450, 1, 1, 384])\n"
     ]
    },
    {
     "name": "stderr",
     "output_type": "stream",
     "text": [
      " 44%|████▍     | 441/1000 [2:22:21<3:22:07, 21.69s/it]"
     ]
    },
    {
     "name": "stdout",
     "output_type": "stream",
     "text": [
      "eigenvalues shape torch.Size([5]) eigenvectors shape torch.Size([5, 450])\n",
      "441 /home/phdcs2/Hard_Disk/Datasets/Deep-Spectral-Segmentation/data/object-segmentation/ECSSD/features/dino_vits16/0442.pth\n",
      "dict_keys(['k', 'indices', 'file', 'id', 'model_name', 'patch_size', 'shape'])\n",
      "0442\n",
      "Starting Training\n",
      "epoch: 00, loss: -0.57916\n",
      "epoch: 01, loss: -0.71472\n",
      "epoch: 02, loss: -0.73711\n",
      "epoch: 03, loss: -0.74671\n",
      "epoch: 04, loss: -0.76410\n",
      "epoch: 05, loss: -0.77324\n",
      "epoch: 06, loss: -0.77499\n",
      "epoch: 07, loss: -0.78103\n",
      "epoch: 08, loss: -0.78424\n",
      "epoch: 09, loss: -0.79061\n",
      "After Unsqueezing, feature size= torch.Size([475, 1, 1, 384])\n"
     ]
    },
    {
     "name": "stderr",
     "output_type": "stream",
     "text": [
      " 44%|████▍     | 442/1000 [2:22:44<3:23:06, 21.84s/it]"
     ]
    },
    {
     "name": "stdout",
     "output_type": "stream",
     "text": [
      "eigenvalues shape torch.Size([5]) eigenvectors shape torch.Size([5, 475])\n",
      "442 /home/phdcs2/Hard_Disk/Datasets/Deep-Spectral-Segmentation/data/object-segmentation/ECSSD/features/dino_vits16/0443.pth\n",
      "dict_keys(['k', 'indices', 'file', 'id', 'model_name', 'patch_size', 'shape'])\n",
      "0443\n",
      "Starting Training\n",
      "epoch: 00, loss: -0.53027\n",
      "epoch: 01, loss: -0.66617\n",
      "epoch: 02, loss: -0.68821\n",
      "epoch: 03, loss: -0.71722\n",
      "epoch: 04, loss: -0.73518\n",
      "epoch: 05, loss: -0.73425\n",
      "epoch: 06, loss: -0.75379\n",
      "epoch: 07, loss: -0.73823\n",
      "epoch: 08, loss: -0.74517\n",
      "epoch: 09, loss: -0.75648\n",
      "After Unsqueezing, feature size= torch.Size([450, 1, 1, 384])\n"
     ]
    },
    {
     "name": "stderr",
     "output_type": "stream",
     "text": [
      " 44%|████▍     | 443/1000 [2:23:03<3:16:24, 21.16s/it]"
     ]
    },
    {
     "name": "stdout",
     "output_type": "stream",
     "text": [
      "eigenvalues shape torch.Size([5]) eigenvectors shape torch.Size([5, 450])\n",
      "443 /home/phdcs2/Hard_Disk/Datasets/Deep-Spectral-Segmentation/data/object-segmentation/ECSSD/features/dino_vits16/0444.pth\n",
      "dict_keys(['k', 'indices', 'file', 'id', 'model_name', 'patch_size', 'shape'])\n",
      "0444\n",
      "Starting Training\n",
      "epoch: 00, loss: -0.56109\n",
      "epoch: 01, loss: -0.69321\n",
      "epoch: 02, loss: -0.72003\n",
      "epoch: 03, loss: -0.71815\n",
      "epoch: 04, loss: -0.73066\n",
      "epoch: 05, loss: -0.73397\n",
      "epoch: 06, loss: -0.73702\n",
      "epoch: 07, loss: -0.73725\n",
      "epoch: 08, loss: -0.73863\n",
      "epoch: 09, loss: -0.74692\n",
      "After Unsqueezing, feature size= torch.Size([450, 1, 1, 384])\n"
     ]
    },
    {
     "name": "stderr",
     "output_type": "stream",
     "text": [
      " 44%|████▍     | 444/1000 [2:23:23<3:11:00, 20.61s/it]"
     ]
    },
    {
     "name": "stdout",
     "output_type": "stream",
     "text": [
      "eigenvalues shape torch.Size([5]) eigenvectors shape torch.Size([5, 450])\n",
      "444 /home/phdcs2/Hard_Disk/Datasets/Deep-Spectral-Segmentation/data/object-segmentation/ECSSD/features/dino_vits16/0445.pth\n",
      "dict_keys(['k', 'indices', 'file', 'id', 'model_name', 'patch_size', 'shape'])\n",
      "0445\n",
      "Starting Training\n",
      "epoch: 00, loss: -0.51878\n",
      "epoch: 01, loss: -0.67839\n",
      "epoch: 02, loss: -0.70529\n",
      "epoch: 03, loss: -0.72424\n",
      "epoch: 04, loss: -0.71594\n",
      "epoch: 05, loss: -0.71378\n",
      "epoch: 06, loss: -0.72768\n",
      "epoch: 07, loss: -0.74037\n",
      "epoch: 08, loss: -0.74647\n",
      "epoch: 09, loss: -0.75144\n",
      "After Unsqueezing, feature size= torch.Size([400, 1, 1, 384])\n"
     ]
    },
    {
     "name": "stderr",
     "output_type": "stream",
     "text": [
      " 44%|████▍     | 445/1000 [2:23:40<3:00:49, 19.55s/it]"
     ]
    },
    {
     "name": "stdout",
     "output_type": "stream",
     "text": [
      "eigenvalues shape torch.Size([5]) eigenvectors shape torch.Size([5, 400])\n",
      "445 /home/phdcs2/Hard_Disk/Datasets/Deep-Spectral-Segmentation/data/object-segmentation/ECSSD/features/dino_vits16/0446.pth\n",
      "dict_keys(['k', 'indices', 'file', 'id', 'model_name', 'patch_size', 'shape'])\n",
      "0446\n",
      "Starting Training\n",
      "epoch: 00, loss: -0.49101\n",
      "epoch: 01, loss: -0.64895\n",
      "epoch: 02, loss: -0.67030\n",
      "epoch: 03, loss: -0.69117\n",
      "epoch: 04, loss: -0.69373\n",
      "epoch: 05, loss: -0.72244\n",
      "epoch: 06, loss: -0.72686\n",
      "epoch: 07, loss: -0.73920\n",
      "epoch: 08, loss: -0.74377\n",
      "epoch: 09, loss: -0.73638\n",
      "After Unsqueezing, feature size= torch.Size([400, 1, 1, 384])\n"
     ]
    },
    {
     "name": "stderr",
     "output_type": "stream",
     "text": [
      " 45%|████▍     | 446/1000 [2:23:56<2:51:06, 18.53s/it]"
     ]
    },
    {
     "name": "stdout",
     "output_type": "stream",
     "text": [
      "eigenvalues shape torch.Size([5]) eigenvectors shape torch.Size([5, 400])\n",
      "446 /home/phdcs2/Hard_Disk/Datasets/Deep-Spectral-Segmentation/data/object-segmentation/ECSSD/features/dino_vits16/0447.pth\n",
      "dict_keys(['k', 'indices', 'file', 'id', 'model_name', 'patch_size', 'shape'])\n",
      "0447\n",
      "Starting Training\n",
      "epoch: 00, loss: -0.52193\n",
      "epoch: 01, loss: -0.65972\n",
      "epoch: 02, loss: -0.68566\n",
      "epoch: 03, loss: -0.70249\n",
      "epoch: 04, loss: -0.72251\n",
      "epoch: 05, loss: -0.76214\n",
      "epoch: 06, loss: -0.77987\n",
      "epoch: 07, loss: -0.78608\n",
      "epoch: 08, loss: -0.77582\n",
      "epoch: 09, loss: -0.77532\n",
      "After Unsqueezing, feature size= torch.Size([400, 1, 1, 384])\n"
     ]
    },
    {
     "name": "stderr",
     "output_type": "stream",
     "text": [
      " 45%|████▍     | 447/1000 [2:24:14<2:50:37, 18.51s/it]"
     ]
    },
    {
     "name": "stdout",
     "output_type": "stream",
     "text": [
      "eigenvalues shape torch.Size([5]) eigenvectors shape torch.Size([5, 400])\n",
      "447 /home/phdcs2/Hard_Disk/Datasets/Deep-Spectral-Segmentation/data/object-segmentation/ECSSD/features/dino_vits16/0448.pth\n",
      "dict_keys(['k', 'indices', 'file', 'id', 'model_name', 'patch_size', 'shape'])\n",
      "0448\n",
      "Starting Training\n",
      "epoch: 00, loss: -0.48935\n",
      "epoch: 01, loss: -0.65053\n",
      "epoch: 02, loss: -0.67632\n",
      "epoch: 03, loss: -0.69457\n",
      "epoch: 04, loss: -0.69705\n",
      "epoch: 05, loss: -0.70392\n",
      "epoch: 06, loss: -0.71181\n",
      "epoch: 07, loss: -0.71535\n",
      "epoch: 08, loss: -0.72315\n",
      "epoch: 09, loss: -0.73181\n",
      "After Unsqueezing, feature size= torch.Size([350, 1, 1, 384])\n"
     ]
    },
    {
     "name": "stderr",
     "output_type": "stream",
     "text": [
      " 45%|████▍     | 448/1000 [2:24:30<2:41:22, 17.54s/it]"
     ]
    },
    {
     "name": "stdout",
     "output_type": "stream",
     "text": [
      "eigenvalues shape torch.Size([5]) eigenvectors shape torch.Size([5, 350])\n",
      "448 /home/phdcs2/Hard_Disk/Datasets/Deep-Spectral-Segmentation/data/object-segmentation/ECSSD/features/dino_vits16/0449.pth\n",
      "dict_keys(['k', 'indices', 'file', 'id', 'model_name', 'patch_size', 'shape'])\n",
      "0449\n",
      "Starting Training\n",
      "epoch: 00, loss: -0.53404\n",
      "epoch: 01, loss: -0.69141\n",
      "epoch: 02, loss: -0.70749\n",
      "epoch: 03, loss: -0.72901\n",
      "epoch: 04, loss: -0.75041\n",
      "epoch: 05, loss: -0.72806\n",
      "epoch: 06, loss: -0.71853\n",
      "epoch: 07, loss: -0.73166\n",
      "epoch: 08, loss: -0.74633\n",
      "epoch: 09, loss: -0.76519\n",
      "After Unsqueezing, feature size= torch.Size([475, 1, 1, 384])\n"
     ]
    },
    {
     "name": "stderr",
     "output_type": "stream",
     "text": [
      " 45%|████▍     | 449/1000 [2:24:50<2:49:05, 18.41s/it]"
     ]
    },
    {
     "name": "stdout",
     "output_type": "stream",
     "text": [
      "eigenvalues shape torch.Size([5]) eigenvectors shape torch.Size([5, 475])\n",
      "449 /home/phdcs2/Hard_Disk/Datasets/Deep-Spectral-Segmentation/data/object-segmentation/ECSSD/features/dino_vits16/0450.pth\n",
      "dict_keys(['k', 'indices', 'file', 'id', 'model_name', 'patch_size', 'shape'])\n",
      "0450\n",
      "Starting Training\n",
      "epoch: 00, loss: -0.52200\n",
      "epoch: 01, loss: -0.68090\n",
      "epoch: 02, loss: -0.72303\n",
      "epoch: 03, loss: -0.74234\n",
      "epoch: 04, loss: -0.74513\n",
      "epoch: 05, loss: -0.74934\n",
      "epoch: 06, loss: -0.72773\n",
      "epoch: 07, loss: -0.72784\n",
      "epoch: 08, loss: -0.73525\n",
      "epoch: 09, loss: -0.72435\n",
      "After Unsqueezing, feature size= torch.Size([400, 1, 1, 384])\n"
     ]
    },
    {
     "name": "stderr",
     "output_type": "stream",
     "text": [
      " 45%|████▌     | 450/1000 [2:25:07<2:45:27, 18.05s/it]"
     ]
    },
    {
     "name": "stdout",
     "output_type": "stream",
     "text": [
      "eigenvalues shape torch.Size([5]) eigenvectors shape torch.Size([5, 400])\n",
      "450 /home/phdcs2/Hard_Disk/Datasets/Deep-Spectral-Segmentation/data/object-segmentation/ECSSD/features/dino_vits16/0451.pth\n",
      "dict_keys(['k', 'indices', 'file', 'id', 'model_name', 'patch_size', 'shape'])\n",
      "0451\n",
      "Starting Training\n",
      "epoch: 00, loss: -0.59382\n",
      "epoch: 01, loss: -0.74139\n",
      "epoch: 02, loss: -0.77352\n",
      "epoch: 03, loss: -0.77579\n",
      "epoch: 04, loss: -0.78685\n",
      "epoch: 05, loss: -0.78773\n",
      "epoch: 06, loss: -0.79344\n",
      "epoch: 07, loss: -0.78601\n",
      "epoch: 08, loss: -0.79613\n",
      "epoch: 09, loss: -0.79703\n",
      "After Unsqueezing, feature size= torch.Size([450, 1, 1, 384])\n"
     ]
    },
    {
     "name": "stderr",
     "output_type": "stream",
     "text": [
      " 45%|████▌     | 451/1000 [2:25:27<2:50:51, 18.67s/it]"
     ]
    },
    {
     "name": "stdout",
     "output_type": "stream",
     "text": [
      "eigenvalues shape torch.Size([5]) eigenvectors shape torch.Size([5, 450])\n",
      "451 /home/phdcs2/Hard_Disk/Datasets/Deep-Spectral-Segmentation/data/object-segmentation/ECSSD/features/dino_vits16/0452.pth\n",
      "dict_keys(['k', 'indices', 'file', 'id', 'model_name', 'patch_size', 'shape'])\n",
      "0452\n",
      "Starting Training\n",
      "epoch: 00, loss: -0.51617\n",
      "epoch: 01, loss: -0.63999\n",
      "epoch: 02, loss: -0.66240\n",
      "epoch: 03, loss: -0.68052\n",
      "epoch: 04, loss: -0.68507\n",
      "epoch: 05, loss: -0.68730\n",
      "epoch: 06, loss: -0.70361\n",
      "epoch: 07, loss: -0.70600\n",
      "epoch: 08, loss: -0.71628\n",
      "epoch: 09, loss: -0.73073\n",
      "After Unsqueezing, feature size= torch.Size([475, 1, 1, 384])\n"
     ]
    },
    {
     "name": "stderr",
     "output_type": "stream",
     "text": [
      " 45%|████▌     | 452/1000 [2:25:50<3:02:40, 20.00s/it]"
     ]
    },
    {
     "name": "stdout",
     "output_type": "stream",
     "text": [
      "eigenvalues shape torch.Size([5]) eigenvectors shape torch.Size([5, 475])\n",
      "452 /home/phdcs2/Hard_Disk/Datasets/Deep-Spectral-Segmentation/data/object-segmentation/ECSSD/features/dino_vits16/0453.pth\n",
      "dict_keys(['k', 'indices', 'file', 'id', 'model_name', 'patch_size', 'shape'])\n",
      "0453\n",
      "Starting Training\n",
      "epoch: 00, loss: -0.48589\n",
      "epoch: 01, loss: -0.69251\n",
      "epoch: 02, loss: -0.74528\n",
      "epoch: 03, loss: -0.74835\n",
      "epoch: 04, loss: -0.75884\n",
      "epoch: 05, loss: -0.75869\n",
      "epoch: 06, loss: -0.76918\n",
      "epoch: 07, loss: -0.78180\n",
      "epoch: 08, loss: -0.78528\n",
      "epoch: 09, loss: -0.79340\n",
      "After Unsqueezing, feature size= torch.Size([400, 1, 1, 384])\n"
     ]
    },
    {
     "name": "stderr",
     "output_type": "stream",
     "text": [
      " 45%|████▌     | 453/1000 [2:26:10<3:02:00, 19.97s/it]"
     ]
    },
    {
     "name": "stdout",
     "output_type": "stream",
     "text": [
      "eigenvalues shape torch.Size([5]) eigenvectors shape torch.Size([5, 400])\n",
      "453 /home/phdcs2/Hard_Disk/Datasets/Deep-Spectral-Segmentation/data/object-segmentation/ECSSD/features/dino_vits16/0454.pth\n",
      "dict_keys(['k', 'indices', 'file', 'id', 'model_name', 'patch_size', 'shape'])\n",
      "0454\n",
      "Starting Training\n",
      "epoch: 00, loss: -0.51115\n",
      "epoch: 01, loss: -0.66084\n",
      "epoch: 02, loss: -0.67854\n",
      "epoch: 03, loss: -0.70856\n",
      "epoch: 04, loss: -0.72572\n",
      "epoch: 05, loss: -0.72559\n",
      "epoch: 06, loss: -0.72666\n",
      "epoch: 07, loss: -0.74552\n",
      "epoch: 08, loss: -0.74562\n",
      "epoch: 09, loss: -0.74704\n",
      "After Unsqueezing, feature size= torch.Size([400, 1, 1, 384])\n"
     ]
    },
    {
     "name": "stderr",
     "output_type": "stream",
     "text": [
      " 45%|████▌     | 454/1000 [2:26:28<2:56:19, 19.38s/it]"
     ]
    },
    {
     "name": "stdout",
     "output_type": "stream",
     "text": [
      "eigenvalues shape torch.Size([5]) eigenvectors shape torch.Size([5, 400])\n",
      "454 /home/phdcs2/Hard_Disk/Datasets/Deep-Spectral-Segmentation/data/object-segmentation/ECSSD/features/dino_vits16/0455.pth\n",
      "dict_keys(['k', 'indices', 'file', 'id', 'model_name', 'patch_size', 'shape'])\n",
      "0455\n",
      "Starting Training\n",
      "epoch: 00, loss: -0.51813\n",
      "epoch: 01, loss: -0.68861\n",
      "epoch: 02, loss: -0.70557\n",
      "epoch: 03, loss: -0.70576\n",
      "epoch: 04, loss: -0.71037\n",
      "epoch: 05, loss: -0.72227\n",
      "epoch: 06, loss: -0.71562\n",
      "epoch: 07, loss: -0.70746\n",
      "epoch: 08, loss: -0.70570\n",
      "epoch: 09, loss: -0.71744\n",
      "After Unsqueezing, feature size= torch.Size([400, 1, 1, 384])\n"
     ]
    },
    {
     "name": "stderr",
     "output_type": "stream",
     "text": [
      " 46%|████▌     | 455/1000 [2:26:45<2:47:50, 18.48s/it]"
     ]
    },
    {
     "name": "stdout",
     "output_type": "stream",
     "text": [
      "eigenvalues shape torch.Size([5]) eigenvectors shape torch.Size([5, 400])\n",
      "455 /home/phdcs2/Hard_Disk/Datasets/Deep-Spectral-Segmentation/data/object-segmentation/ECSSD/features/dino_vits16/0456.pth\n",
      "dict_keys(['k', 'indices', 'file', 'id', 'model_name', 'patch_size', 'shape'])\n",
      "0456\n",
      "Starting Training\n",
      "epoch: 00, loss: -0.50792\n",
      "epoch: 01, loss: -0.65454\n",
      "epoch: 02, loss: -0.69108\n",
      "epoch: 03, loss: -0.69910\n",
      "epoch: 04, loss: -0.71680\n",
      "epoch: 05, loss: -0.71303\n",
      "epoch: 06, loss: -0.71348\n",
      "epoch: 07, loss: -0.71898\n",
      "epoch: 08, loss: -0.71604\n",
      "epoch: 09, loss: -0.73216\n",
      "After Unsqueezing, feature size= torch.Size([425, 1, 1, 384])\n"
     ]
    },
    {
     "name": "stderr",
     "output_type": "stream",
     "text": [
      " 46%|████▌     | 456/1000 [2:27:02<2:45:40, 18.27s/it]"
     ]
    },
    {
     "name": "stdout",
     "output_type": "stream",
     "text": [
      "eigenvalues shape torch.Size([5]) eigenvectors shape torch.Size([5, 425])\n",
      "456 /home/phdcs2/Hard_Disk/Datasets/Deep-Spectral-Segmentation/data/object-segmentation/ECSSD/features/dino_vits16/0457.pth\n",
      "dict_keys(['k', 'indices', 'file', 'id', 'model_name', 'patch_size', 'shape'])\n",
      "0457\n",
      "Starting Training\n",
      "epoch: 00, loss: -0.45881\n",
      "epoch: 01, loss: -0.59798\n",
      "epoch: 02, loss: -0.62793\n",
      "epoch: 03, loss: -0.63999\n",
      "epoch: 04, loss: -0.64907\n",
      "epoch: 05, loss: -0.65089\n",
      "epoch: 06, loss: -0.65691\n",
      "epoch: 07, loss: -0.66219\n",
      "epoch: 08, loss: -0.65562\n",
      "epoch: 09, loss: -0.67462\n",
      "After Unsqueezing, feature size= torch.Size([400, 1, 1, 384])\n"
     ]
    },
    {
     "name": "stderr",
     "output_type": "stream",
     "text": [
      " 46%|████▌     | 457/1000 [2:27:19<2:39:36, 17.64s/it]"
     ]
    },
    {
     "name": "stdout",
     "output_type": "stream",
     "text": [
      "eigenvalues shape torch.Size([5]) eigenvectors shape torch.Size([5, 400])\n",
      "457 /home/phdcs2/Hard_Disk/Datasets/Deep-Spectral-Segmentation/data/object-segmentation/ECSSD/features/dino_vits16/0458.pth\n",
      "dict_keys(['k', 'indices', 'file', 'id', 'model_name', 'patch_size', 'shape'])\n",
      "0458\n",
      "Starting Training\n",
      "epoch: 00, loss: -0.53049\n",
      "epoch: 01, loss: -0.68218\n",
      "epoch: 02, loss: -0.70665\n",
      "epoch: 03, loss: -0.71613\n",
      "epoch: 04, loss: -0.72819\n",
      "epoch: 05, loss: -0.73961\n",
      "epoch: 06, loss: -0.74335\n",
      "epoch: 07, loss: -0.75000\n",
      "epoch: 08, loss: -0.74987\n",
      "epoch: 09, loss: -0.76145\n",
      "After Unsqueezing, feature size= torch.Size([450, 1, 1, 384])\n"
     ]
    },
    {
     "name": "stderr",
     "output_type": "stream",
     "text": [
      " 46%|████▌     | 458/1000 [2:27:41<2:51:04, 18.94s/it]"
     ]
    },
    {
     "name": "stdout",
     "output_type": "stream",
     "text": [
      "eigenvalues shape torch.Size([5]) eigenvectors shape torch.Size([5, 450])\n",
      "458 /home/phdcs2/Hard_Disk/Datasets/Deep-Spectral-Segmentation/data/object-segmentation/ECSSD/features/dino_vits16/0459.pth\n",
      "dict_keys(['k', 'indices', 'file', 'id', 'model_name', 'patch_size', 'shape'])\n",
      "0459\n",
      "Starting Training\n",
      "epoch: 00, loss: -0.58078\n",
      "epoch: 01, loss: -0.71467\n",
      "epoch: 02, loss: -0.73093\n",
      "epoch: 03, loss: -0.76140\n",
      "epoch: 04, loss: -0.78473\n",
      "epoch: 05, loss: -0.78588\n",
      "epoch: 06, loss: -0.78559\n",
      "epoch: 07, loss: -0.80263\n",
      "epoch: 08, loss: -0.81424\n",
      "epoch: 09, loss: -0.82154\n",
      "After Unsqueezing, feature size= torch.Size([400, 1, 1, 384])\n"
     ]
    },
    {
     "name": "stderr",
     "output_type": "stream",
     "text": [
      " 46%|████▌     | 459/1000 [2:27:56<2:41:06, 17.87s/it]"
     ]
    },
    {
     "name": "stdout",
     "output_type": "stream",
     "text": [
      "eigenvalues shape torch.Size([5]) eigenvectors shape torch.Size([5, 400])\n",
      "459 /home/phdcs2/Hard_Disk/Datasets/Deep-Spectral-Segmentation/data/object-segmentation/ECSSD/features/dino_vits16/0460.pth\n",
      "dict_keys(['k', 'indices', 'file', 'id', 'model_name', 'patch_size', 'shape'])\n",
      "0460\n",
      "Starting Training\n",
      "epoch: 00, loss: -0.56926\n",
      "epoch: 01, loss: -0.70950\n",
      "epoch: 02, loss: -0.72674\n",
      "epoch: 03, loss: -0.74515\n",
      "epoch: 04, loss: -0.74028\n",
      "epoch: 05, loss: -0.75072\n",
      "epoch: 06, loss: -0.76239\n",
      "epoch: 07, loss: -0.77644\n",
      "epoch: 08, loss: -0.79080\n",
      "epoch: 09, loss: -0.79014\n",
      "After Unsqueezing, feature size= torch.Size([450, 1, 1, 384])\n"
     ]
    },
    {
     "name": "stderr",
     "output_type": "stream",
     "text": [
      " 46%|████▌     | 460/1000 [2:28:16<2:45:20, 18.37s/it]"
     ]
    },
    {
     "name": "stdout",
     "output_type": "stream",
     "text": [
      "eigenvalues shape torch.Size([5]) eigenvectors shape torch.Size([5, 450])\n",
      "460 /home/phdcs2/Hard_Disk/Datasets/Deep-Spectral-Segmentation/data/object-segmentation/ECSSD/features/dino_vits16/0461.pth\n",
      "dict_keys(['k', 'indices', 'file', 'id', 'model_name', 'patch_size', 'shape'])\n",
      "0461\n",
      "Starting Training\n",
      "epoch: 00, loss: -0.57303\n",
      "epoch: 01, loss: -0.71430\n",
      "epoch: 02, loss: -0.74571\n",
      "epoch: 03, loss: -0.76489\n",
      "epoch: 04, loss: -0.77925\n",
      "epoch: 05, loss: -0.79541\n",
      "epoch: 06, loss: -0.80295\n",
      "epoch: 07, loss: -0.79753\n",
      "epoch: 08, loss: -0.79037\n",
      "epoch: 09, loss: -0.79869\n",
      "After Unsqueezing, feature size= torch.Size([450, 1, 1, 384])\n"
     ]
    },
    {
     "name": "stderr",
     "output_type": "stream",
     "text": [
      " 46%|████▌     | 461/1000 [2:28:34<2:44:17, 18.29s/it]"
     ]
    },
    {
     "name": "stdout",
     "output_type": "stream",
     "text": [
      "eigenvalues shape torch.Size([5]) eigenvectors shape torch.Size([5, 450])\n",
      "461 /home/phdcs2/Hard_Disk/Datasets/Deep-Spectral-Segmentation/data/object-segmentation/ECSSD/features/dino_vits16/0462.pth\n",
      "dict_keys(['k', 'indices', 'file', 'id', 'model_name', 'patch_size', 'shape'])\n",
      "0462\n",
      "Starting Training\n",
      "epoch: 00, loss: -0.51647\n",
      "epoch: 01, loss: -0.66965\n",
      "epoch: 02, loss: -0.67879\n",
      "epoch: 03, loss: -0.69756\n",
      "epoch: 04, loss: -0.70996\n",
      "epoch: 05, loss: -0.71009\n",
      "epoch: 06, loss: -0.72715\n",
      "epoch: 07, loss: -0.71491\n",
      "epoch: 08, loss: -0.72614\n",
      "epoch: 09, loss: -0.72613\n",
      "After Unsqueezing, feature size= torch.Size([400, 1, 1, 384])\n"
     ]
    },
    {
     "name": "stderr",
     "output_type": "stream",
     "text": [
      " 46%|████▌     | 462/1000 [2:28:50<2:39:17, 17.77s/it]"
     ]
    },
    {
     "name": "stdout",
     "output_type": "stream",
     "text": [
      "eigenvalues shape torch.Size([5]) eigenvectors shape torch.Size([5, 400])\n",
      "462 /home/phdcs2/Hard_Disk/Datasets/Deep-Spectral-Segmentation/data/object-segmentation/ECSSD/features/dino_vits16/0463.pth\n",
      "dict_keys(['k', 'indices', 'file', 'id', 'model_name', 'patch_size', 'shape'])\n",
      "0463\n",
      "Starting Training\n",
      "epoch: 00, loss: -0.54986\n",
      "epoch: 01, loss: -0.70807\n",
      "epoch: 02, loss: -0.73779\n",
      "epoch: 03, loss: -0.75935\n",
      "epoch: 04, loss: -0.76299\n",
      "epoch: 05, loss: -0.75706\n",
      "epoch: 06, loss: -0.76245\n",
      "epoch: 07, loss: -0.76232\n",
      "epoch: 08, loss: -0.75630\n",
      "epoch: 09, loss: -0.76114\n",
      "After Unsqueezing, feature size= torch.Size([450, 1, 1, 384])\n"
     ]
    },
    {
     "name": "stderr",
     "output_type": "stream",
     "text": [
      " 46%|████▋     | 463/1000 [2:29:10<2:43:50, 18.31s/it]"
     ]
    },
    {
     "name": "stdout",
     "output_type": "stream",
     "text": [
      "eigenvalues shape torch.Size([5]) eigenvectors shape torch.Size([5, 450])\n",
      "463 /home/phdcs2/Hard_Disk/Datasets/Deep-Spectral-Segmentation/data/object-segmentation/ECSSD/features/dino_vits16/0464.pth\n",
      "dict_keys(['k', 'indices', 'file', 'id', 'model_name', 'patch_size', 'shape'])\n",
      "0464\n",
      "Starting Training\n",
      "epoch: 00, loss: -0.53319\n",
      "epoch: 01, loss: -0.69701\n",
      "epoch: 02, loss: -0.71255\n",
      "epoch: 03, loss: -0.72635\n",
      "epoch: 04, loss: -0.73585\n",
      "epoch: 05, loss: -0.73729\n",
      "epoch: 06, loss: -0.73312\n",
      "epoch: 07, loss: -0.73904\n",
      "epoch: 08, loss: -0.74112\n",
      "epoch: 09, loss: -0.73893\n",
      "After Unsqueezing, feature size= torch.Size([450, 1, 1, 384])\n"
     ]
    },
    {
     "name": "stderr",
     "output_type": "stream",
     "text": [
      " 46%|████▋     | 464/1000 [2:29:32<2:53:16, 19.40s/it]"
     ]
    },
    {
     "name": "stdout",
     "output_type": "stream",
     "text": [
      "eigenvalues shape torch.Size([5]) eigenvectors shape torch.Size([5, 450])\n",
      "464 /home/phdcs2/Hard_Disk/Datasets/Deep-Spectral-Segmentation/data/object-segmentation/ECSSD/features/dino_vits16/0465.pth\n",
      "dict_keys(['k', 'indices', 'file', 'id', 'model_name', 'patch_size', 'shape'])\n",
      "0465\n",
      "Starting Training\n",
      "epoch: 00, loss: -0.53470\n",
      "epoch: 01, loss: -0.67373\n",
      "epoch: 02, loss: -0.68931\n",
      "epoch: 03, loss: -0.71985\n",
      "epoch: 04, loss: -0.74280\n",
      "epoch: 05, loss: -0.75636\n",
      "epoch: 06, loss: -0.75398\n",
      "epoch: 07, loss: -0.75537\n",
      "epoch: 08, loss: -0.75655\n",
      "epoch: 09, loss: -0.76559\n",
      "After Unsqueezing, feature size= torch.Size([450, 1, 1, 384])\n"
     ]
    },
    {
     "name": "stderr",
     "output_type": "stream",
     "text": [
      " 46%|████▋     | 465/1000 [2:29:52<2:56:19, 19.78s/it]"
     ]
    },
    {
     "name": "stdout",
     "output_type": "stream",
     "text": [
      "eigenvalues shape torch.Size([5]) eigenvectors shape torch.Size([5, 450])\n",
      "465 /home/phdcs2/Hard_Disk/Datasets/Deep-Spectral-Segmentation/data/object-segmentation/ECSSD/features/dino_vits16/0466.pth\n",
      "dict_keys(['k', 'indices', 'file', 'id', 'model_name', 'patch_size', 'shape'])\n",
      "0466\n",
      "Starting Training\n",
      "epoch: 00, loss: -0.46574\n",
      "epoch: 01, loss: -0.60668\n",
      "epoch: 02, loss: -0.63350\n",
      "epoch: 03, loss: -0.64237\n",
      "epoch: 04, loss: -0.63941\n",
      "epoch: 05, loss: -0.64372\n",
      "epoch: 06, loss: -0.64388\n",
      "epoch: 07, loss: -0.65081\n",
      "epoch: 08, loss: -0.65272\n",
      "epoch: 09, loss: -0.64890\n",
      "After Unsqueezing, feature size= torch.Size([400, 1, 1, 384])\n"
     ]
    },
    {
     "name": "stderr",
     "output_type": "stream",
     "text": [
      " 47%|████▋     | 466/1000 [2:30:08<2:43:47, 18.40s/it]"
     ]
    },
    {
     "name": "stdout",
     "output_type": "stream",
     "text": [
      "eigenvalues shape torch.Size([5]) eigenvectors shape torch.Size([5, 400])\n",
      "466 /home/phdcs2/Hard_Disk/Datasets/Deep-Spectral-Segmentation/data/object-segmentation/ECSSD/features/dino_vits16/0467.pth\n",
      "dict_keys(['k', 'indices', 'file', 'id', 'model_name', 'patch_size', 'shape'])\n",
      "0467\n",
      "Starting Training\n",
      "epoch: 00, loss: -0.47377\n",
      "epoch: 01, loss: -0.60033\n",
      "epoch: 02, loss: -0.63009\n",
      "epoch: 03, loss: -0.64260\n",
      "epoch: 04, loss: -0.65597\n",
      "epoch: 05, loss: -0.67082\n",
      "epoch: 06, loss: -0.67278\n",
      "epoch: 07, loss: -0.67309\n",
      "epoch: 08, loss: -0.67189\n",
      "epoch: 09, loss: -0.66390\n",
      "After Unsqueezing, feature size= torch.Size([425, 1, 1, 384])\n"
     ]
    },
    {
     "name": "stderr",
     "output_type": "stream",
     "text": [
      " 47%|████▋     | 467/1000 [2:30:24<2:38:54, 17.89s/it]"
     ]
    },
    {
     "name": "stdout",
     "output_type": "stream",
     "text": [
      "eigenvalues shape torch.Size([5]) eigenvectors shape torch.Size([5, 425])\n",
      "467 /home/phdcs2/Hard_Disk/Datasets/Deep-Spectral-Segmentation/data/object-segmentation/ECSSD/features/dino_vits16/0468.pth\n",
      "dict_keys(['k', 'indices', 'file', 'id', 'model_name', 'patch_size', 'shape'])\n",
      "0468\n",
      "Starting Training\n",
      "epoch: 00, loss: -0.50455\n",
      "epoch: 01, loss: -0.64564\n",
      "epoch: 02, loss: -0.66021\n",
      "epoch: 03, loss: -0.67720\n",
      "epoch: 04, loss: -0.68445\n",
      "epoch: 05, loss: -0.69836\n",
      "epoch: 06, loss: -0.71183\n",
      "epoch: 07, loss: -0.71495\n",
      "epoch: 08, loss: -0.71152\n",
      "epoch: 09, loss: -0.70027\n",
      "After Unsqueezing, feature size= torch.Size([450, 1, 1, 384])\n"
     ]
    },
    {
     "name": "stderr",
     "output_type": "stream",
     "text": [
      " 47%|████▋     | 468/1000 [2:30:46<2:48:09, 18.97s/it]"
     ]
    },
    {
     "name": "stdout",
     "output_type": "stream",
     "text": [
      "eigenvalues shape torch.Size([5]) eigenvectors shape torch.Size([5, 450])\n",
      "468 /home/phdcs2/Hard_Disk/Datasets/Deep-Spectral-Segmentation/data/object-segmentation/ECSSD/features/dino_vits16/0469.pth\n",
      "dict_keys(['k', 'indices', 'file', 'id', 'model_name', 'patch_size', 'shape'])\n",
      "0469\n",
      "Starting Training\n",
      "epoch: 00, loss: -0.56729\n",
      "epoch: 01, loss: -0.72759\n",
      "epoch: 02, loss: -0.74879\n",
      "epoch: 03, loss: -0.76559\n",
      "epoch: 04, loss: -0.77522\n",
      "epoch: 05, loss: -0.78124\n",
      "epoch: 06, loss: -0.77929\n",
      "epoch: 07, loss: -0.77448\n",
      "epoch: 08, loss: -0.77033\n",
      "epoch: 09, loss: -0.77927\n",
      "After Unsqueezing, feature size= torch.Size([400, 1, 1, 384])\n"
     ]
    },
    {
     "name": "stderr",
     "output_type": "stream",
     "text": [
      " 47%|████▋     | 469/1000 [2:31:02<2:39:55, 18.07s/it]"
     ]
    },
    {
     "name": "stdout",
     "output_type": "stream",
     "text": [
      "eigenvalues shape torch.Size([5]) eigenvectors shape torch.Size([5, 400])\n",
      "469 /home/phdcs2/Hard_Disk/Datasets/Deep-Spectral-Segmentation/data/object-segmentation/ECSSD/features/dino_vits16/0470.pth\n",
      "dict_keys(['k', 'indices', 'file', 'id', 'model_name', 'patch_size', 'shape'])\n",
      "0470\n",
      "Starting Training\n",
      "epoch: 00, loss: -0.53821\n",
      "epoch: 01, loss: -0.68242\n",
      "epoch: 02, loss: -0.71029\n",
      "epoch: 03, loss: -0.72045\n",
      "epoch: 04, loss: -0.73697\n",
      "epoch: 05, loss: -0.74422\n",
      "epoch: 06, loss: -0.77125\n",
      "epoch: 07, loss: -0.77274\n",
      "epoch: 08, loss: -0.78164\n",
      "epoch: 09, loss: -0.78250\n",
      "After Unsqueezing, feature size= torch.Size([400, 1, 1, 384])\n"
     ]
    },
    {
     "name": "stderr",
     "output_type": "stream",
     "text": [
      " 47%|████▋     | 470/1000 [2:31:18<2:34:29, 17.49s/it]"
     ]
    },
    {
     "name": "stdout",
     "output_type": "stream",
     "text": [
      "eigenvalues shape torch.Size([5]) eigenvectors shape torch.Size([5, 400])\n",
      "470 /home/phdcs2/Hard_Disk/Datasets/Deep-Spectral-Segmentation/data/object-segmentation/ECSSD/features/dino_vits16/0471.pth\n",
      "dict_keys(['k', 'indices', 'file', 'id', 'model_name', 'patch_size', 'shape'])\n",
      "0471\n",
      "Starting Training\n",
      "epoch: 00, loss: -0.40479\n",
      "epoch: 01, loss: -0.55034\n",
      "epoch: 02, loss: -0.59098\n",
      "epoch: 03, loss: -0.61070\n",
      "epoch: 04, loss: -0.62009\n",
      "epoch: 05, loss: -0.63732\n",
      "epoch: 06, loss: -0.66116\n",
      "epoch: 07, loss: -0.68563\n",
      "epoch: 08, loss: -0.69872\n",
      "epoch: 09, loss: -0.69290\n",
      "After Unsqueezing, feature size= torch.Size([450, 1, 1, 384])\n"
     ]
    },
    {
     "name": "stderr",
     "output_type": "stream",
     "text": [
      " 47%|████▋     | 471/1000 [2:31:37<2:38:14, 17.95s/it]"
     ]
    },
    {
     "name": "stdout",
     "output_type": "stream",
     "text": [
      "eigenvalues shape torch.Size([5]) eigenvectors shape torch.Size([5, 450])\n",
      "471 /home/phdcs2/Hard_Disk/Datasets/Deep-Spectral-Segmentation/data/object-segmentation/ECSSD/features/dino_vits16/0472.pth\n",
      "dict_keys(['k', 'indices', 'file', 'id', 'model_name', 'patch_size', 'shape'])\n",
      "0472\n",
      "Starting Training\n",
      "epoch: 00, loss: -0.55006\n",
      "epoch: 01, loss: -0.70375\n",
      "epoch: 02, loss: -0.72446\n",
      "epoch: 03, loss: -0.73932\n",
      "epoch: 04, loss: -0.74963\n",
      "epoch: 05, loss: -0.75080\n",
      "epoch: 06, loss: -0.75646\n",
      "epoch: 07, loss: -0.76780\n",
      "epoch: 08, loss: -0.77226\n",
      "epoch: 09, loss: -0.77940\n",
      "After Unsqueezing, feature size= torch.Size([400, 1, 1, 384])\n"
     ]
    },
    {
     "name": "stderr",
     "output_type": "stream",
     "text": [
      " 47%|████▋     | 472/1000 [2:31:55<2:38:14, 17.98s/it]"
     ]
    },
    {
     "name": "stdout",
     "output_type": "stream",
     "text": [
      "eigenvalues shape torch.Size([5]) eigenvectors shape torch.Size([5, 400])\n",
      "472 /home/phdcs2/Hard_Disk/Datasets/Deep-Spectral-Segmentation/data/object-segmentation/ECSSD/features/dino_vits16/0473.pth\n",
      "dict_keys(['k', 'indices', 'file', 'id', 'model_name', 'patch_size', 'shape'])\n",
      "0473\n",
      "Starting Training\n",
      "epoch: 00, loss: -0.52032\n",
      "epoch: 01, loss: -0.67869\n",
      "epoch: 02, loss: -0.69970\n",
      "epoch: 03, loss: -0.70165\n",
      "epoch: 04, loss: -0.71367\n",
      "epoch: 05, loss: -0.72575\n",
      "epoch: 06, loss: -0.72523\n",
      "epoch: 07, loss: -0.73305\n",
      "epoch: 08, loss: -0.75130\n",
      "epoch: 09, loss: -0.75035\n",
      "After Unsqueezing, feature size= torch.Size([425, 1, 1, 384])\n"
     ]
    },
    {
     "name": "stderr",
     "output_type": "stream",
     "text": [
      " 47%|████▋     | 473/1000 [2:32:13<2:39:14, 18.13s/it]"
     ]
    },
    {
     "name": "stdout",
     "output_type": "stream",
     "text": [
      "eigenvalues shape torch.Size([5]) eigenvectors shape torch.Size([5, 425])\n",
      "473 /home/phdcs2/Hard_Disk/Datasets/Deep-Spectral-Segmentation/data/object-segmentation/ECSSD/features/dino_vits16/0474.pth\n",
      "dict_keys(['k', 'indices', 'file', 'id', 'model_name', 'patch_size', 'shape'])\n",
      "0474\n",
      "Starting Training\n",
      "epoch: 00, loss: -0.48786\n",
      "epoch: 01, loss: -0.67327\n",
      "epoch: 02, loss: -0.71552\n",
      "epoch: 03, loss: -0.73131\n",
      "epoch: 04, loss: -0.73756\n",
      "epoch: 05, loss: -0.73289\n",
      "epoch: 06, loss: -0.72643\n",
      "epoch: 07, loss: -0.71277\n",
      "epoch: 08, loss: -0.73193\n",
      "epoch: 09, loss: -0.73681\n",
      "After Unsqueezing, feature size= torch.Size([400, 1, 1, 384])\n"
     ]
    },
    {
     "name": "stderr",
     "output_type": "stream",
     "text": [
      " 47%|████▋     | 474/1000 [2:32:31<2:37:08, 17.92s/it]"
     ]
    },
    {
     "name": "stdout",
     "output_type": "stream",
     "text": [
      "eigenvalues shape torch.Size([5]) eigenvectors shape torch.Size([5, 400])\n",
      "474 /home/phdcs2/Hard_Disk/Datasets/Deep-Spectral-Segmentation/data/object-segmentation/ECSSD/features/dino_vits16/0475.pth\n",
      "dict_keys(['k', 'indices', 'file', 'id', 'model_name', 'patch_size', 'shape'])\n",
      "0475\n",
      "Starting Training\n",
      "epoch: 00, loss: -0.54501\n",
      "epoch: 01, loss: -0.70786\n",
      "epoch: 02, loss: -0.72312\n",
      "epoch: 03, loss: -0.72701\n",
      "epoch: 04, loss: -0.73045\n",
      "epoch: 05, loss: -0.72838\n",
      "epoch: 06, loss: -0.73796\n",
      "epoch: 07, loss: -0.73987\n",
      "epoch: 08, loss: -0.73815\n",
      "epoch: 09, loss: -0.73982\n",
      "After Unsqueezing, feature size= torch.Size([400, 1, 1, 384])\n"
     ]
    },
    {
     "name": "stderr",
     "output_type": "stream",
     "text": [
      " 48%|████▊     | 475/1000 [2:32:48<2:33:45, 17.57s/it]"
     ]
    },
    {
     "name": "stdout",
     "output_type": "stream",
     "text": [
      "eigenvalues shape torch.Size([5]) eigenvectors shape torch.Size([5, 400])\n",
      "475 /home/phdcs2/Hard_Disk/Datasets/Deep-Spectral-Segmentation/data/object-segmentation/ECSSD/features/dino_vits16/0476.pth\n",
      "dict_keys(['k', 'indices', 'file', 'id', 'model_name', 'patch_size', 'shape'])\n",
      "0476\n",
      "Starting Training\n",
      "epoch: 00, loss: -0.49293\n",
      "epoch: 01, loss: -0.63783\n",
      "epoch: 02, loss: -0.68252\n",
      "epoch: 03, loss: -0.70446\n",
      "epoch: 04, loss: -0.71893\n",
      "epoch: 05, loss: -0.73700\n",
      "epoch: 06, loss: -0.73806\n",
      "epoch: 07, loss: -0.75148\n",
      "epoch: 08, loss: -0.74445\n",
      "epoch: 09, loss: -0.75867\n",
      "After Unsqueezing, feature size= torch.Size([400, 1, 1, 384])\n"
     ]
    },
    {
     "name": "stderr",
     "output_type": "stream",
     "text": [
      " 48%|████▊     | 476/1000 [2:33:06<2:36:58, 17.97s/it]"
     ]
    },
    {
     "name": "stdout",
     "output_type": "stream",
     "text": [
      "eigenvalues shape torch.Size([5]) eigenvectors shape torch.Size([5, 400])\n",
      "476 /home/phdcs2/Hard_Disk/Datasets/Deep-Spectral-Segmentation/data/object-segmentation/ECSSD/features/dino_vits16/0477.pth\n",
      "dict_keys(['k', 'indices', 'file', 'id', 'model_name', 'patch_size', 'shape'])\n",
      "0477\n",
      "Starting Training\n",
      "epoch: 00, loss: -0.56219\n",
      "epoch: 01, loss: -0.72434\n",
      "epoch: 02, loss: -0.75803\n",
      "epoch: 03, loss: -0.76808\n",
      "epoch: 04, loss: -0.78046\n",
      "epoch: 05, loss: -0.78227\n",
      "epoch: 06, loss: -0.79172\n",
      "epoch: 07, loss: -0.80088\n",
      "epoch: 08, loss: -0.81521\n",
      "epoch: 09, loss: -0.80948\n",
      "After Unsqueezing, feature size= torch.Size([450, 1, 1, 384])\n"
     ]
    },
    {
     "name": "stderr",
     "output_type": "stream",
     "text": [
      " 48%|████▊     | 477/1000 [2:33:25<2:36:54, 18.00s/it]"
     ]
    },
    {
     "name": "stdout",
     "output_type": "stream",
     "text": [
      "eigenvalues shape torch.Size([5]) eigenvectors shape torch.Size([5, 450])\n",
      "477 /home/phdcs2/Hard_Disk/Datasets/Deep-Spectral-Segmentation/data/object-segmentation/ECSSD/features/dino_vits16/0478.pth\n",
      "dict_keys(['k', 'indices', 'file', 'id', 'model_name', 'patch_size', 'shape'])\n",
      "0478\n",
      "Starting Training\n",
      "epoch: 00, loss: -0.51211\n",
      "epoch: 01, loss: -0.64362\n",
      "epoch: 02, loss: -0.66207\n",
      "epoch: 03, loss: -0.67690\n",
      "epoch: 04, loss: -0.68566\n",
      "epoch: 05, loss: -0.70498\n",
      "epoch: 06, loss: -0.71937\n",
      "epoch: 07, loss: -0.73043\n",
      "epoch: 08, loss: -0.74276\n",
      "epoch: 09, loss: -0.74977\n",
      "After Unsqueezing, feature size= torch.Size([400, 1, 1, 384])\n"
     ]
    },
    {
     "name": "stderr",
     "output_type": "stream",
     "text": [
      " 48%|████▊     | 478/1000 [2:33:44<2:41:15, 18.54s/it]"
     ]
    },
    {
     "name": "stdout",
     "output_type": "stream",
     "text": [
      "eigenvalues shape torch.Size([5]) eigenvectors shape torch.Size([5, 400])\n",
      "478 /home/phdcs2/Hard_Disk/Datasets/Deep-Spectral-Segmentation/data/object-segmentation/ECSSD/features/dino_vits16/0479.pth\n",
      "dict_keys(['k', 'indices', 'file', 'id', 'model_name', 'patch_size', 'shape'])\n",
      "0479\n",
      "Starting Training\n",
      "epoch: 00, loss: -0.55657\n",
      "epoch: 01, loss: -0.69758\n",
      "epoch: 02, loss: -0.72196\n",
      "epoch: 03, loss: -0.73376\n",
      "epoch: 04, loss: -0.74240\n",
      "epoch: 05, loss: -0.74930\n",
      "epoch: 06, loss: -0.75507\n",
      "epoch: 07, loss: -0.76161\n",
      "epoch: 08, loss: -0.75972\n",
      "epoch: 09, loss: -0.77255\n",
      "After Unsqueezing, feature size= torch.Size([450, 1, 1, 384])\n"
     ]
    },
    {
     "name": "stderr",
     "output_type": "stream",
     "text": [
      " 48%|████▊     | 479/1000 [2:34:06<2:48:03, 19.35s/it]"
     ]
    },
    {
     "name": "stdout",
     "output_type": "stream",
     "text": [
      "eigenvalues shape torch.Size([5]) eigenvectors shape torch.Size([5, 450])\n",
      "479 /home/phdcs2/Hard_Disk/Datasets/Deep-Spectral-Segmentation/data/object-segmentation/ECSSD/features/dino_vits16/0480.pth\n",
      "dict_keys(['k', 'indices', 'file', 'id', 'model_name', 'patch_size', 'shape'])\n",
      "0480\n",
      "Starting Training\n",
      "epoch: 00, loss: -0.55351\n",
      "epoch: 01, loss: -0.66696\n",
      "epoch: 02, loss: -0.68261\n",
      "epoch: 03, loss: -0.69316\n",
      "epoch: 04, loss: -0.69653\n",
      "epoch: 05, loss: -0.70508\n",
      "epoch: 06, loss: -0.72325\n",
      "epoch: 07, loss: -0.74203\n",
      "epoch: 08, loss: -0.76555\n",
      "epoch: 09, loss: -0.78686\n",
      "After Unsqueezing, feature size= torch.Size([625, 1, 1, 384])\n"
     ]
    },
    {
     "name": "stderr",
     "output_type": "stream",
     "text": [
      " 48%|████▊     | 480/1000 [2:34:31<3:04:16, 21.26s/it]"
     ]
    },
    {
     "name": "stdout",
     "output_type": "stream",
     "text": [
      "eigenvalues shape torch.Size([5]) eigenvectors shape torch.Size([5, 625])\n",
      "480 /home/phdcs2/Hard_Disk/Datasets/Deep-Spectral-Segmentation/data/object-segmentation/ECSSD/features/dino_vits16/0481.pth\n",
      "dict_keys(['k', 'indices', 'file', 'id', 'model_name', 'patch_size', 'shape'])\n",
      "0481\n",
      "Starting Training\n",
      "epoch: 00, loss: -0.47993\n",
      "epoch: 01, loss: -0.59960\n",
      "epoch: 02, loss: -0.66093\n",
      "epoch: 03, loss: -0.67441\n",
      "epoch: 04, loss: -0.68436\n",
      "epoch: 05, loss: -0.68567\n",
      "epoch: 06, loss: -0.69666\n",
      "epoch: 07, loss: -0.71064\n",
      "epoch: 08, loss: -0.70570\n",
      "epoch: 09, loss: -0.72788\n",
      "After Unsqueezing, feature size= torch.Size([450, 1, 1, 384])\n"
     ]
    },
    {
     "name": "stderr",
     "output_type": "stream",
     "text": [
      " 48%|████▊     | 481/1000 [2:34:49<2:55:30, 20.29s/it]"
     ]
    },
    {
     "name": "stdout",
     "output_type": "stream",
     "text": [
      "eigenvalues shape torch.Size([5]) eigenvectors shape torch.Size([5, 450])\n",
      "481 /home/phdcs2/Hard_Disk/Datasets/Deep-Spectral-Segmentation/data/object-segmentation/ECSSD/features/dino_vits16/0482.pth\n",
      "dict_keys(['k', 'indices', 'file', 'id', 'model_name', 'patch_size', 'shape'])\n",
      "0482\n",
      "Starting Training\n",
      "epoch: 00, loss: -0.55144\n",
      "epoch: 01, loss: -0.69760\n",
      "epoch: 02, loss: -0.70451\n",
      "epoch: 03, loss: -0.70424\n",
      "epoch: 04, loss: -0.71715\n",
      "epoch: 05, loss: -0.71915\n",
      "epoch: 06, loss: -0.73328\n",
      "epoch: 07, loss: -0.74027\n",
      "epoch: 08, loss: -0.74764\n",
      "epoch: 09, loss: -0.75889\n",
      "After Unsqueezing, feature size= torch.Size([450, 1, 1, 384])\n"
     ]
    },
    {
     "name": "stderr",
     "output_type": "stream",
     "text": [
      " 48%|████▊     | 482/1000 [2:35:08<2:51:37, 19.88s/it]"
     ]
    },
    {
     "name": "stdout",
     "output_type": "stream",
     "text": [
      "eigenvalues shape torch.Size([5]) eigenvectors shape torch.Size([5, 450])\n",
      "482 /home/phdcs2/Hard_Disk/Datasets/Deep-Spectral-Segmentation/data/object-segmentation/ECSSD/features/dino_vits16/0483.pth\n",
      "dict_keys(['k', 'indices', 'file', 'id', 'model_name', 'patch_size', 'shape'])\n",
      "0483\n",
      "Starting Training\n",
      "epoch: 00, loss: -0.43372\n",
      "epoch: 01, loss: -0.58570\n",
      "epoch: 02, loss: -0.61400\n",
      "epoch: 03, loss: -0.62984\n",
      "epoch: 04, loss: -0.63807\n",
      "epoch: 05, loss: -0.63051\n",
      "epoch: 06, loss: -0.65260\n",
      "epoch: 07, loss: -0.65296\n",
      "epoch: 08, loss: -0.64223\n",
      "epoch: 09, loss: -0.65228\n",
      "After Unsqueezing, feature size= torch.Size([400, 1, 1, 384])\n"
     ]
    },
    {
     "name": "stderr",
     "output_type": "stream",
     "text": [
      " 48%|████▊     | 483/1000 [2:35:26<2:46:53, 19.37s/it]"
     ]
    },
    {
     "name": "stdout",
     "output_type": "stream",
     "text": [
      "eigenvalues shape torch.Size([5]) eigenvectors shape torch.Size([5, 400])\n",
      "483 /home/phdcs2/Hard_Disk/Datasets/Deep-Spectral-Segmentation/data/object-segmentation/ECSSD/features/dino_vits16/0484.pth\n",
      "dict_keys(['k', 'indices', 'file', 'id', 'model_name', 'patch_size', 'shape'])\n",
      "0484\n",
      "Starting Training\n",
      "epoch: 00, loss: -0.57434\n",
      "epoch: 01, loss: -0.70718\n",
      "epoch: 02, loss: -0.72824\n",
      "epoch: 03, loss: -0.73028\n",
      "epoch: 04, loss: -0.73738\n",
      "epoch: 05, loss: -0.74611\n",
      "epoch: 06, loss: -0.76175\n",
      "epoch: 07, loss: -0.76620\n",
      "epoch: 08, loss: -0.77433\n",
      "epoch: 09, loss: -0.77946\n",
      "After Unsqueezing, feature size= torch.Size([450, 1, 1, 384])\n"
     ]
    },
    {
     "name": "stderr",
     "output_type": "stream",
     "text": [
      " 48%|████▊     | 484/1000 [2:35:45<2:43:38, 19.03s/it]"
     ]
    },
    {
     "name": "stdout",
     "output_type": "stream",
     "text": [
      "eigenvalues shape torch.Size([5]) eigenvectors shape torch.Size([5, 450])\n",
      "484 /home/phdcs2/Hard_Disk/Datasets/Deep-Spectral-Segmentation/data/object-segmentation/ECSSD/features/dino_vits16/0485.pth\n",
      "dict_keys(['k', 'indices', 'file', 'id', 'model_name', 'patch_size', 'shape'])\n",
      "0485\n",
      "Starting Training\n",
      "epoch: 00, loss: -0.51066\n",
      "epoch: 01, loss: -0.68246\n",
      "epoch: 02, loss: -0.72692\n",
      "epoch: 03, loss: -0.75061\n",
      "epoch: 04, loss: -0.76349\n",
      "epoch: 05, loss: -0.76608\n",
      "epoch: 06, loss: -0.76621\n",
      "epoch: 07, loss: -0.77658\n",
      "epoch: 08, loss: -0.77763\n",
      "epoch: 09, loss: -0.75943\n",
      "After Unsqueezing, feature size= torch.Size([400, 1, 1, 384])\n"
     ]
    },
    {
     "name": "stderr",
     "output_type": "stream",
     "text": [
      " 48%|████▊     | 485/1000 [2:36:04<2:44:25, 19.16s/it]"
     ]
    },
    {
     "name": "stdout",
     "output_type": "stream",
     "text": [
      "eigenvalues shape torch.Size([5]) eigenvectors shape torch.Size([5, 400])\n",
      "485 /home/phdcs2/Hard_Disk/Datasets/Deep-Spectral-Segmentation/data/object-segmentation/ECSSD/features/dino_vits16/0486.pth\n",
      "dict_keys(['k', 'indices', 'file', 'id', 'model_name', 'patch_size', 'shape'])\n",
      "0486\n",
      "Starting Training\n",
      "epoch: 00, loss: -0.48060\n",
      "epoch: 01, loss: -0.61356\n",
      "epoch: 02, loss: -0.64019\n",
      "epoch: 03, loss: -0.66446\n",
      "epoch: 04, loss: -0.67427\n",
      "epoch: 05, loss: -0.68637\n",
      "epoch: 06, loss: -0.67891\n",
      "epoch: 07, loss: -0.67977\n",
      "epoch: 08, loss: -0.69103\n",
      "epoch: 09, loss: -0.69156\n",
      "After Unsqueezing, feature size= torch.Size([450, 1, 1, 384])\n"
     ]
    },
    {
     "name": "stderr",
     "output_type": "stream",
     "text": [
      " 49%|████▊     | 486/1000 [2:36:24<2:46:57, 19.49s/it]"
     ]
    },
    {
     "name": "stdout",
     "output_type": "stream",
     "text": [
      "eigenvalues shape torch.Size([5]) eigenvectors shape torch.Size([5, 450])\n",
      "486 /home/phdcs2/Hard_Disk/Datasets/Deep-Spectral-Segmentation/data/object-segmentation/ECSSD/features/dino_vits16/0487.pth\n",
      "dict_keys(['k', 'indices', 'file', 'id', 'model_name', 'patch_size', 'shape'])\n",
      "0487\n",
      "Starting Training\n",
      "epoch: 00, loss: -0.47965\n",
      "epoch: 01, loss: -0.64279\n",
      "epoch: 02, loss: -0.67818\n",
      "epoch: 03, loss: -0.69437\n",
      "epoch: 04, loss: -0.70254\n",
      "epoch: 05, loss: -0.72441\n",
      "epoch: 06, loss: -0.72907\n",
      "epoch: 07, loss: -0.74317\n",
      "epoch: 08, loss: -0.76002\n",
      "epoch: 09, loss: -0.75670\n",
      "After Unsqueezing, feature size= torch.Size([400, 1, 1, 384])\n",
      " ** On entry to SLASCL parameter number  4 had an illegal value\n",
      " ** On entry to SLASCL parameter number  4 had an illegal value\n"
     ]
    },
    {
     "name": "stderr",
     "output_type": "stream",
     "text": [
      " 49%|████▊     | 487/1000 [2:36:47<2:55:11, 20.49s/it]"
     ]
    },
    {
     "name": "stdout",
     "output_type": "stream",
     "text": [
      "eigenvalues shape torch.Size([5]) eigenvectors shape torch.Size([5, 400])\n",
      "487 /home/phdcs2/Hard_Disk/Datasets/Deep-Spectral-Segmentation/data/object-segmentation/ECSSD/features/dino_vits16/0488.pth\n",
      "dict_keys(['k', 'indices', 'file', 'id', 'model_name', 'patch_size', 'shape'])\n",
      "0488\n",
      "Starting Training\n",
      "epoch: 00, loss: -0.46450\n",
      "epoch: 01, loss: -0.64815\n",
      "epoch: 02, loss: -0.69983\n",
      "epoch: 03, loss: -0.73480\n",
      "epoch: 04, loss: -0.74157\n",
      "epoch: 05, loss: -0.74797\n",
      "epoch: 06, loss: -0.74242\n",
      "epoch: 07, loss: -0.74217\n",
      "epoch: 08, loss: -0.75081\n",
      "epoch: 09, loss: -0.74389\n",
      "After Unsqueezing, feature size= torch.Size([400, 1, 1, 384])\n"
     ]
    },
    {
     "name": "stderr",
     "output_type": "stream",
     "text": [
      " 49%|████▉     | 488/1000 [2:37:06<2:49:33, 19.87s/it]"
     ]
    },
    {
     "name": "stdout",
     "output_type": "stream",
     "text": [
      "eigenvalues shape torch.Size([5]) eigenvectors shape torch.Size([5, 400])\n",
      "488 /home/phdcs2/Hard_Disk/Datasets/Deep-Spectral-Segmentation/data/object-segmentation/ECSSD/features/dino_vits16/0489.pth\n",
      "dict_keys(['k', 'indices', 'file', 'id', 'model_name', 'patch_size', 'shape'])\n",
      "0489\n",
      "Starting Training\n",
      "epoch: 00, loss: -0.56766\n",
      "epoch: 01, loss: -0.73794\n",
      "epoch: 02, loss: -0.77367\n",
      "epoch: 03, loss: -0.79059\n",
      "epoch: 04, loss: -0.79757\n",
      "epoch: 05, loss: -0.79783\n",
      "epoch: 06, loss: -0.80490\n",
      "epoch: 07, loss: -0.80083\n",
      "epoch: 08, loss: -0.79244\n",
      "epoch: 09, loss: -0.79512\n",
      "After Unsqueezing, feature size= torch.Size([550, 1, 1, 384])\n"
     ]
    },
    {
     "name": "stderr",
     "output_type": "stream",
     "text": [
      " 49%|████▉     | 489/1000 [2:37:32<3:06:25, 21.89s/it]"
     ]
    },
    {
     "name": "stdout",
     "output_type": "stream",
     "text": [
      "eigenvalues shape torch.Size([5]) eigenvectors shape torch.Size([5, 550])\n",
      "489 /home/phdcs2/Hard_Disk/Datasets/Deep-Spectral-Segmentation/data/object-segmentation/ECSSD/features/dino_vits16/0490.pth\n",
      "dict_keys(['k', 'indices', 'file', 'id', 'model_name', 'patch_size', 'shape'])\n",
      "0490\n",
      "Starting Training\n",
      "epoch: 00, loss: -0.53137\n",
      "epoch: 01, loss: -0.68163\n",
      "epoch: 02, loss: -0.70434\n",
      "epoch: 03, loss: -0.71387\n",
      "epoch: 04, loss: -0.71989\n",
      "epoch: 05, loss: -0.72873\n",
      "epoch: 06, loss: -0.73165\n",
      "epoch: 07, loss: -0.73690\n",
      "epoch: 08, loss: -0.74030\n",
      "epoch: 09, loss: -0.74837\n",
      "After Unsqueezing, feature size= torch.Size([400, 1, 1, 384])\n"
     ]
    },
    {
     "name": "stderr",
     "output_type": "stream",
     "text": [
      " 49%|████▉     | 490/1000 [2:37:50<2:55:20, 20.63s/it]"
     ]
    },
    {
     "name": "stdout",
     "output_type": "stream",
     "text": [
      "eigenvalues shape torch.Size([5]) eigenvectors shape torch.Size([5, 400])\n",
      "490 /home/phdcs2/Hard_Disk/Datasets/Deep-Spectral-Segmentation/data/object-segmentation/ECSSD/features/dino_vits16/0491.pth\n",
      "dict_keys(['k', 'indices', 'file', 'id', 'model_name', 'patch_size', 'shape'])\n",
      "0491\n",
      "Starting Training\n",
      "epoch: 00, loss: -0.52619\n",
      "epoch: 01, loss: -0.65758\n",
      "epoch: 02, loss: -0.68770\n",
      "epoch: 03, loss: -0.67985\n",
      "epoch: 04, loss: -0.67138\n",
      "epoch: 05, loss: -0.68581\n",
      "epoch: 06, loss: -0.69450\n",
      "epoch: 07, loss: -0.70742\n",
      "epoch: 08, loss: -0.72024\n",
      "epoch: 09, loss: -0.73099\n",
      "After Unsqueezing, feature size= torch.Size([500, 1, 1, 384])\n"
     ]
    },
    {
     "name": "stderr",
     "output_type": "stream",
     "text": [
      " 49%|████▉     | 491/1000 [2:38:12<2:59:04, 21.11s/it]"
     ]
    },
    {
     "name": "stdout",
     "output_type": "stream",
     "text": [
      "eigenvalues shape torch.Size([5]) eigenvectors shape torch.Size([5, 500])\n",
      "491 /home/phdcs2/Hard_Disk/Datasets/Deep-Spectral-Segmentation/data/object-segmentation/ECSSD/features/dino_vits16/0492.pth\n",
      "dict_keys(['k', 'indices', 'file', 'id', 'model_name', 'patch_size', 'shape'])\n",
      "0492\n",
      "Starting Training\n",
      "epoch: 00, loss: -0.54741\n",
      "epoch: 01, loss: -0.74300\n",
      "epoch: 02, loss: -0.75977\n",
      "epoch: 03, loss: -0.76953\n",
      "epoch: 04, loss: -0.77720\n",
      "epoch: 05, loss: -0.79632\n",
      "epoch: 06, loss: -0.78630\n",
      "epoch: 07, loss: -0.79095\n",
      "epoch: 08, loss: -0.79170\n",
      "epoch: 09, loss: -0.79660\n",
      "After Unsqueezing, feature size= torch.Size([450, 1, 1, 384])\n"
     ]
    },
    {
     "name": "stderr",
     "output_type": "stream",
     "text": [
      " 49%|████▉     | 492/1000 [2:38:31<2:51:59, 20.31s/it]"
     ]
    },
    {
     "name": "stdout",
     "output_type": "stream",
     "text": [
      "eigenvalues shape torch.Size([5]) eigenvectors shape torch.Size([5, 450])\n",
      "492 /home/phdcs2/Hard_Disk/Datasets/Deep-Spectral-Segmentation/data/object-segmentation/ECSSD/features/dino_vits16/0493.pth\n",
      "dict_keys(['k', 'indices', 'file', 'id', 'model_name', 'patch_size', 'shape'])\n",
      "0493\n",
      "Starting Training\n",
      "epoch: 00, loss: -0.51045\n",
      "epoch: 01, loss: -0.66344\n",
      "epoch: 02, loss: -0.68433\n",
      "epoch: 03, loss: -0.69385\n",
      "epoch: 04, loss: -0.70326\n",
      "epoch: 05, loss: -0.71707\n",
      "epoch: 06, loss: -0.72791\n",
      "epoch: 07, loss: -0.72802\n",
      "epoch: 08, loss: -0.73541\n",
      "epoch: 09, loss: -0.74403\n",
      "After Unsqueezing, feature size= torch.Size([400, 1, 1, 384])\n"
     ]
    },
    {
     "name": "stderr",
     "output_type": "stream",
     "text": [
      " 49%|████▉     | 493/1000 [2:38:47<2:42:42, 19.25s/it]"
     ]
    },
    {
     "name": "stdout",
     "output_type": "stream",
     "text": [
      "eigenvalues shape torch.Size([5]) eigenvectors shape torch.Size([5, 400])\n",
      "493 /home/phdcs2/Hard_Disk/Datasets/Deep-Spectral-Segmentation/data/object-segmentation/ECSSD/features/dino_vits16/0494.pth\n",
      "dict_keys(['k', 'indices', 'file', 'id', 'model_name', 'patch_size', 'shape'])\n",
      "0494\n",
      "Starting Training\n",
      "epoch: 00, loss: -0.46129\n",
      "epoch: 01, loss: -0.61940\n",
      "epoch: 02, loss: -0.64176\n",
      "epoch: 03, loss: -0.65087\n",
      "epoch: 04, loss: -0.64493\n",
      "epoch: 05, loss: -0.63418\n",
      "epoch: 06, loss: -0.64703\n",
      "epoch: 07, loss: -0.64761\n",
      "epoch: 08, loss: -0.65050\n",
      "epoch: 09, loss: -0.66454\n",
      "After Unsqueezing, feature size= torch.Size([400, 1, 1, 384])\n"
     ]
    },
    {
     "name": "stderr",
     "output_type": "stream",
     "text": [
      " 49%|████▉     | 494/1000 [2:39:05<2:38:37, 18.81s/it]"
     ]
    },
    {
     "name": "stdout",
     "output_type": "stream",
     "text": [
      "eigenvalues shape torch.Size([5]) eigenvectors shape torch.Size([5, 400])\n",
      "494 /home/phdcs2/Hard_Disk/Datasets/Deep-Spectral-Segmentation/data/object-segmentation/ECSSD/features/dino_vits16/0495.pth\n",
      "dict_keys(['k', 'indices', 'file', 'id', 'model_name', 'patch_size', 'shape'])\n",
      "0495\n",
      "Starting Training\n",
      "epoch: 00, loss: -0.49064\n",
      "epoch: 01, loss: -0.68063\n",
      "epoch: 02, loss: -0.70685\n",
      "epoch: 03, loss: -0.73619\n",
      "epoch: 04, loss: -0.73082\n",
      "epoch: 05, loss: -0.73044\n",
      "epoch: 06, loss: -0.73258\n",
      "epoch: 07, loss: -0.73700\n",
      "epoch: 08, loss: -0.74437\n",
      "epoch: 09, loss: -0.75057\n",
      "After Unsqueezing, feature size= torch.Size([400, 1, 1, 384])\n"
     ]
    },
    {
     "name": "stderr",
     "output_type": "stream",
     "text": [
      " 50%|████▉     | 495/1000 [2:39:21<2:32:02, 18.06s/it]"
     ]
    },
    {
     "name": "stdout",
     "output_type": "stream",
     "text": [
      "eigenvalues shape torch.Size([5]) eigenvectors shape torch.Size([5, 400])\n",
      "495 /home/phdcs2/Hard_Disk/Datasets/Deep-Spectral-Segmentation/data/object-segmentation/ECSSD/features/dino_vits16/0496.pth\n",
      "dict_keys(['k', 'indices', 'file', 'id', 'model_name', 'patch_size', 'shape'])\n",
      "0496\n",
      "Starting Training\n",
      "epoch: 00, loss: -0.53593\n",
      "epoch: 01, loss: -0.69593\n",
      "epoch: 02, loss: -0.71562\n",
      "epoch: 03, loss: -0.72525\n",
      "epoch: 04, loss: -0.72158\n",
      "epoch: 05, loss: -0.73295\n",
      "epoch: 06, loss: -0.74046\n",
      "epoch: 07, loss: -0.74879\n",
      "epoch: 08, loss: -0.73960\n",
      "epoch: 09, loss: -0.73170\n",
      "After Unsqueezing, feature size= torch.Size([450, 1, 1, 384])\n"
     ]
    },
    {
     "name": "stderr",
     "output_type": "stream",
     "text": [
      " 50%|████▉     | 496/1000 [2:39:41<2:34:29, 18.39s/it]"
     ]
    },
    {
     "name": "stdout",
     "output_type": "stream",
     "text": [
      "eigenvalues shape torch.Size([5]) eigenvectors shape torch.Size([5, 450])\n",
      "496 /home/phdcs2/Hard_Disk/Datasets/Deep-Spectral-Segmentation/data/object-segmentation/ECSSD/features/dino_vits16/0497.pth\n",
      "dict_keys(['k', 'indices', 'file', 'id', 'model_name', 'patch_size', 'shape'])\n",
      "0497\n",
      "Starting Training\n",
      "epoch: 00, loss: -0.53283\n",
      "epoch: 01, loss: -0.64533\n",
      "epoch: 02, loss: -0.67037\n",
      "epoch: 03, loss: -0.68905\n",
      "epoch: 04, loss: -0.68319\n",
      "epoch: 05, loss: -0.69757\n",
      "epoch: 06, loss: -0.68175\n",
      "epoch: 07, loss: -0.69660\n",
      "epoch: 08, loss: -0.69364\n",
      "epoch: 09, loss: -0.69904\n",
      "After Unsqueezing, feature size= torch.Size([450, 1, 1, 384])\n"
     ]
    },
    {
     "name": "stderr",
     "output_type": "stream",
     "text": [
      " 50%|████▉     | 497/1000 [2:40:01<2:38:19, 18.89s/it]"
     ]
    },
    {
     "name": "stdout",
     "output_type": "stream",
     "text": [
      "eigenvalues shape torch.Size([5]) eigenvectors shape torch.Size([5, 450])\n",
      "497 /home/phdcs2/Hard_Disk/Datasets/Deep-Spectral-Segmentation/data/object-segmentation/ECSSD/features/dino_vits16/0498.pth\n",
      "dict_keys(['k', 'indices', 'file', 'id', 'model_name', 'patch_size', 'shape'])\n",
      "0498\n",
      "Starting Training\n",
      "epoch: 00, loss: -0.49586\n",
      "epoch: 01, loss: -0.66654\n",
      "epoch: 02, loss: -0.68472\n",
      "epoch: 03, loss: -0.68038\n",
      "epoch: 04, loss: -0.68612\n",
      "epoch: 05, loss: -0.68554\n",
      "epoch: 06, loss: -0.69353\n",
      "epoch: 07, loss: -0.69851\n",
      "epoch: 08, loss: -0.69962\n",
      "epoch: 09, loss: -0.71064\n",
      "After Unsqueezing, feature size= torch.Size([400, 1, 1, 384])\n"
     ]
    },
    {
     "name": "stderr",
     "output_type": "stream",
     "text": [
      " 50%|████▉     | 498/1000 [2:40:18<2:35:11, 18.55s/it]"
     ]
    },
    {
     "name": "stdout",
     "output_type": "stream",
     "text": [
      "eigenvalues shape torch.Size([5]) eigenvectors shape torch.Size([5, 400])\n",
      "498 /home/phdcs2/Hard_Disk/Datasets/Deep-Spectral-Segmentation/data/object-segmentation/ECSSD/features/dino_vits16/0499.pth\n",
      "dict_keys(['k', 'indices', 'file', 'id', 'model_name', 'patch_size', 'shape'])\n",
      "0499\n",
      "Starting Training\n",
      "epoch: 00, loss: -0.55660\n",
      "epoch: 01, loss: -0.69252\n",
      "epoch: 02, loss: -0.71654\n",
      "epoch: 03, loss: -0.72991\n",
      "epoch: 04, loss: -0.73547\n",
      "epoch: 05, loss: -0.74162\n",
      "epoch: 06, loss: -0.74294\n",
      "epoch: 07, loss: -0.73874\n",
      "epoch: 08, loss: -0.75601\n",
      "epoch: 09, loss: -0.74825\n",
      "After Unsqueezing, feature size= torch.Size([450, 1, 1, 384])\n"
     ]
    },
    {
     "name": "stderr",
     "output_type": "stream",
     "text": [
      " 50%|████▉     | 499/1000 [2:40:36<2:31:51, 18.19s/it]"
     ]
    },
    {
     "name": "stdout",
     "output_type": "stream",
     "text": [
      "eigenvalues shape torch.Size([5]) eigenvectors shape torch.Size([5, 450])\n",
      "499 /home/phdcs2/Hard_Disk/Datasets/Deep-Spectral-Segmentation/data/object-segmentation/ECSSD/features/dino_vits16/0500.pth\n",
      "dict_keys(['k', 'indices', 'file', 'id', 'model_name', 'patch_size', 'shape'])\n",
      "0500\n",
      "Starting Training\n",
      "epoch: 00, loss: -0.58993\n",
      "epoch: 01, loss: -0.73134\n",
      "epoch: 02, loss: -0.76237\n",
      "epoch: 03, loss: -0.76875\n",
      "epoch: 04, loss: -0.77736\n",
      "epoch: 05, loss: -0.78881\n",
      "epoch: 06, loss: -0.79896\n",
      "epoch: 07, loss: -0.80039\n",
      "epoch: 08, loss: -0.81135\n",
      "epoch: 09, loss: -0.82295\n",
      "After Unsqueezing, feature size= torch.Size([450, 1, 1, 384])\n"
     ]
    },
    {
     "name": "stderr",
     "output_type": "stream",
     "text": [
      " 50%|█████     | 500/1000 [2:40:56<2:35:52, 18.70s/it]"
     ]
    },
    {
     "name": "stdout",
     "output_type": "stream",
     "text": [
      "eigenvalues shape torch.Size([5]) eigenvectors shape torch.Size([5, 450])\n",
      "500 /home/phdcs2/Hard_Disk/Datasets/Deep-Spectral-Segmentation/data/object-segmentation/ECSSD/features/dino_vits16/0501.pth\n",
      "dict_keys(['k', 'indices', 'file', 'id', 'model_name', 'patch_size', 'shape'])\n",
      "0501\n",
      "Starting Training\n",
      "epoch: 00, loss: -0.60041\n",
      "epoch: 01, loss: -0.74592\n",
      "epoch: 02, loss: -0.75353\n",
      "epoch: 03, loss: -0.75999\n",
      "epoch: 04, loss: -0.77135\n",
      "epoch: 05, loss: -0.77419\n",
      "epoch: 06, loss: -0.77603\n",
      "epoch: 07, loss: -0.77693\n",
      "epoch: 08, loss: -0.77614\n",
      "epoch: 09, loss: -0.77948\n",
      "After Unsqueezing, feature size= torch.Size([450, 1, 1, 384])\n"
     ]
    },
    {
     "name": "stderr",
     "output_type": "stream",
     "text": [
      " 50%|█████     | 501/1000 [2:41:14<2:35:40, 18.72s/it]"
     ]
    },
    {
     "name": "stdout",
     "output_type": "stream",
     "text": [
      "eigenvalues shape torch.Size([5]) eigenvectors shape torch.Size([5, 450])\n",
      "501 /home/phdcs2/Hard_Disk/Datasets/Deep-Spectral-Segmentation/data/object-segmentation/ECSSD/features/dino_vits16/0502.pth\n",
      "dict_keys(['k', 'indices', 'file', 'id', 'model_name', 'patch_size', 'shape'])\n",
      "0502\n",
      "Starting Training\n",
      "epoch: 00, loss: -0.57361\n",
      "epoch: 01, loss: -0.69035\n",
      "epoch: 02, loss: -0.73078\n",
      "epoch: 03, loss: -0.74222\n",
      "epoch: 04, loss: -0.75224\n",
      "epoch: 05, loss: -0.76187\n",
      "epoch: 06, loss: -0.77180\n",
      "epoch: 07, loss: -0.77003\n",
      "epoch: 08, loss: -0.77519\n",
      "epoch: 09, loss: -0.77359\n",
      "After Unsqueezing, feature size= torch.Size([625, 1, 1, 384])\n"
     ]
    },
    {
     "name": "stderr",
     "output_type": "stream",
     "text": [
      " 50%|█████     | 502/1000 [2:41:43<3:00:23, 21.73s/it]"
     ]
    },
    {
     "name": "stdout",
     "output_type": "stream",
     "text": [
      "eigenvalues shape torch.Size([5]) eigenvectors shape torch.Size([5, 625])\n",
      "502 /home/phdcs2/Hard_Disk/Datasets/Deep-Spectral-Segmentation/data/object-segmentation/ECSSD/features/dino_vits16/0503.pth\n",
      "dict_keys(['k', 'indices', 'file', 'id', 'model_name', 'patch_size', 'shape'])\n",
      "0503\n",
      "Starting Training\n",
      "epoch: 00, loss: -0.52658\n",
      "epoch: 01, loss: -0.69947\n",
      "epoch: 02, loss: -0.71737\n",
      "epoch: 03, loss: -0.73865\n",
      "epoch: 04, loss: -0.74764\n",
      "epoch: 05, loss: -0.75278\n",
      "epoch: 06, loss: -0.75556\n",
      "epoch: 07, loss: -0.77561\n",
      "epoch: 08, loss: -0.78998\n",
      "epoch: 09, loss: -0.79714\n",
      "After Unsqueezing, feature size= torch.Size([400, 1, 1, 384])\n"
     ]
    },
    {
     "name": "stderr",
     "output_type": "stream",
     "text": [
      " 50%|█████     | 503/1000 [2:41:58<2:42:51, 19.66s/it]"
     ]
    },
    {
     "name": "stdout",
     "output_type": "stream",
     "text": [
      "eigenvalues shape torch.Size([5]) eigenvectors shape torch.Size([5, 400])\n",
      "503 /home/phdcs2/Hard_Disk/Datasets/Deep-Spectral-Segmentation/data/object-segmentation/ECSSD/features/dino_vits16/0504.pth\n",
      "dict_keys(['k', 'indices', 'file', 'id', 'model_name', 'patch_size', 'shape'])\n",
      "0504\n",
      "Starting Training\n",
      "epoch: 00, loss: -0.48793\n",
      "epoch: 01, loss: -0.64710\n",
      "epoch: 02, loss: -0.64730\n",
      "epoch: 03, loss: -0.65976\n",
      "epoch: 04, loss: -0.67583\n",
      "epoch: 05, loss: -0.69454\n",
      "epoch: 06, loss: -0.70461\n",
      "epoch: 07, loss: -0.70380\n",
      "epoch: 08, loss: -0.71619\n",
      "epoch: 09, loss: -0.71225\n",
      "After Unsqueezing, feature size= torch.Size([400, 1, 1, 384])\n"
     ]
    },
    {
     "name": "stderr",
     "output_type": "stream",
     "text": [
      " 50%|█████     | 504/1000 [2:42:15<2:36:08, 18.89s/it]"
     ]
    },
    {
     "name": "stdout",
     "output_type": "stream",
     "text": [
      "eigenvalues shape torch.Size([5]) eigenvectors shape torch.Size([5, 400])\n",
      "504 /home/phdcs2/Hard_Disk/Datasets/Deep-Spectral-Segmentation/data/object-segmentation/ECSSD/features/dino_vits16/0505.pth\n",
      "dict_keys(['k', 'indices', 'file', 'id', 'model_name', 'patch_size', 'shape'])\n",
      "0505\n",
      "Starting Training\n",
      "epoch: 00, loss: -0.56861\n",
      "epoch: 01, loss: -0.71939\n",
      "epoch: 02, loss: -0.73730\n",
      "epoch: 03, loss: -0.76009\n",
      "epoch: 04, loss: -0.76183\n",
      "epoch: 05, loss: -0.76216\n",
      "epoch: 06, loss: -0.75854\n",
      "epoch: 07, loss: -0.76250\n",
      "epoch: 08, loss: -0.76756\n",
      "epoch: 09, loss: -0.77582\n",
      "After Unsqueezing, feature size= torch.Size([450, 1, 1, 384])\n"
     ]
    },
    {
     "name": "stderr",
     "output_type": "stream",
     "text": [
      " 50%|█████     | 505/1000 [2:42:34<2:35:20, 18.83s/it]"
     ]
    },
    {
     "name": "stdout",
     "output_type": "stream",
     "text": [
      "eigenvalues shape torch.Size([5]) eigenvectors shape torch.Size([5, 450])\n",
      "505 /home/phdcs2/Hard_Disk/Datasets/Deep-Spectral-Segmentation/data/object-segmentation/ECSSD/features/dino_vits16/0506.pth\n",
      "dict_keys(['k', 'indices', 'file', 'id', 'model_name', 'patch_size', 'shape'])\n",
      "0506\n",
      "Starting Training\n",
      "epoch: 00, loss: -0.49106\n",
      "epoch: 01, loss: -0.63741\n",
      "epoch: 02, loss: -0.65663\n",
      "epoch: 03, loss: -0.66398\n",
      "epoch: 04, loss: -0.67548\n",
      "epoch: 05, loss: -0.66723\n",
      "epoch: 06, loss: -0.67208\n",
      "epoch: 07, loss: -0.68387\n",
      "epoch: 08, loss: -0.68762\n",
      "epoch: 09, loss: -0.68840\n",
      "After Unsqueezing, feature size= torch.Size([400, 1, 1, 384])\n"
     ]
    },
    {
     "name": "stderr",
     "output_type": "stream",
     "text": [
      " 51%|█████     | 506/1000 [2:42:49<2:26:33, 17.80s/it]"
     ]
    },
    {
     "name": "stdout",
     "output_type": "stream",
     "text": [
      "eigenvalues shape torch.Size([5]) eigenvectors shape torch.Size([5, 400])\n",
      "506 /home/phdcs2/Hard_Disk/Datasets/Deep-Spectral-Segmentation/data/object-segmentation/ECSSD/features/dino_vits16/0507.pth\n",
      "dict_keys(['k', 'indices', 'file', 'id', 'model_name', 'patch_size', 'shape'])\n",
      "0507\n",
      "Starting Training\n",
      "epoch: 00, loss: -0.46696\n",
      "epoch: 01, loss: -0.60628\n",
      "epoch: 02, loss: -0.63759\n",
      "epoch: 03, loss: -0.66750\n",
      "epoch: 04, loss: -0.68371\n",
      "epoch: 05, loss: -0.69107\n",
      "epoch: 06, loss: -0.70394\n",
      "epoch: 07, loss: -0.71257\n",
      "epoch: 08, loss: -0.71821\n",
      "epoch: 09, loss: -0.71587\n",
      "After Unsqueezing, feature size= torch.Size([375, 1, 1, 384])\n"
     ]
    },
    {
     "name": "stderr",
     "output_type": "stream",
     "text": [
      " 51%|█████     | 507/1000 [2:43:07<2:26:42, 17.85s/it]"
     ]
    },
    {
     "name": "stdout",
     "output_type": "stream",
     "text": [
      "eigenvalues shape torch.Size([5]) eigenvectors shape torch.Size([5, 375])\n",
      "507 /home/phdcs2/Hard_Disk/Datasets/Deep-Spectral-Segmentation/data/object-segmentation/ECSSD/features/dino_vits16/0508.pth\n",
      "dict_keys(['k', 'indices', 'file', 'id', 'model_name', 'patch_size', 'shape'])\n",
      "0508\n",
      "Starting Training\n",
      "epoch: 00, loss: -0.53211\n",
      "epoch: 01, loss: -0.68627\n",
      "epoch: 02, loss: -0.70273\n",
      "epoch: 03, loss: -0.71733\n",
      "epoch: 04, loss: -0.73248\n",
      "epoch: 05, loss: -0.72976\n",
      "epoch: 06, loss: -0.74059\n",
      "epoch: 07, loss: -0.75567\n",
      "epoch: 08, loss: -0.76003\n",
      "epoch: 09, loss: -0.76262\n",
      "After Unsqueezing, feature size= torch.Size([400, 1, 1, 384])\n"
     ]
    },
    {
     "name": "stderr",
     "output_type": "stream",
     "text": [
      " 51%|█████     | 508/1000 [2:43:25<2:26:17, 17.84s/it]"
     ]
    },
    {
     "name": "stdout",
     "output_type": "stream",
     "text": [
      "eigenvalues shape torch.Size([5]) eigenvectors shape torch.Size([5, 400])\n",
      "508 /home/phdcs2/Hard_Disk/Datasets/Deep-Spectral-Segmentation/data/object-segmentation/ECSSD/features/dino_vits16/0509.pth\n",
      "dict_keys(['k', 'indices', 'file', 'id', 'model_name', 'patch_size', 'shape'])\n",
      "0509\n",
      "Starting Training\n",
      "epoch: 00, loss: -0.62041\n",
      "epoch: 01, loss: -0.73975\n",
      "epoch: 02, loss: -0.75236\n",
      "epoch: 03, loss: -0.75442\n",
      "epoch: 04, loss: -0.77326\n",
      "epoch: 05, loss: -0.77415\n",
      "epoch: 06, loss: -0.77091\n",
      "epoch: 07, loss: -0.78736\n",
      "epoch: 08, loss: -0.78746\n",
      "epoch: 09, loss: -0.78987\n",
      "After Unsqueezing, feature size= torch.Size([625, 1, 1, 384])\n"
     ]
    },
    {
     "name": "stderr",
     "output_type": "stream",
     "text": [
      " 51%|█████     | 509/1000 [2:43:56<2:58:23, 21.80s/it]"
     ]
    },
    {
     "name": "stdout",
     "output_type": "stream",
     "text": [
      "eigenvalues shape torch.Size([5]) eigenvectors shape torch.Size([5, 625])\n",
      "509 /home/phdcs2/Hard_Disk/Datasets/Deep-Spectral-Segmentation/data/object-segmentation/ECSSD/features/dino_vits16/0510.pth\n",
      "dict_keys(['k', 'indices', 'file', 'id', 'model_name', 'patch_size', 'shape'])\n",
      "0510\n",
      "Starting Training\n",
      "epoch: 00, loss: -0.48241\n",
      "epoch: 01, loss: -0.63304\n",
      "epoch: 02, loss: -0.66362\n",
      "epoch: 03, loss: -0.67558\n",
      "epoch: 04, loss: -0.69591\n",
      "epoch: 05, loss: -0.70615\n",
      "epoch: 06, loss: -0.71233\n",
      "epoch: 07, loss: -0.72111\n",
      "epoch: 08, loss: -0.71679\n",
      "epoch: 09, loss: -0.73452\n",
      "After Unsqueezing, feature size= torch.Size([400, 1, 1, 384])\n"
     ]
    },
    {
     "name": "stderr",
     "output_type": "stream",
     "text": [
      " 51%|█████     | 510/1000 [2:44:17<2:56:27, 21.61s/it]"
     ]
    },
    {
     "name": "stdout",
     "output_type": "stream",
     "text": [
      "eigenvalues shape torch.Size([5]) eigenvectors shape torch.Size([5, 400])\n",
      "510 /home/phdcs2/Hard_Disk/Datasets/Deep-Spectral-Segmentation/data/object-segmentation/ECSSD/features/dino_vits16/0511.pth\n",
      "dict_keys(['k', 'indices', 'file', 'id', 'model_name', 'patch_size', 'shape'])\n",
      "0511\n",
      "Starting Training\n",
      "epoch: 00, loss: -0.56601\n",
      "epoch: 01, loss: -0.70725\n",
      "epoch: 02, loss: -0.71516\n",
      "epoch: 03, loss: -0.72646\n",
      "epoch: 04, loss: -0.73689\n",
      "epoch: 05, loss: -0.72871\n",
      "epoch: 06, loss: -0.73241\n",
      "epoch: 07, loss: -0.74252\n",
      "epoch: 08, loss: -0.74661\n",
      "epoch: 09, loss: -0.74831\n",
      "After Unsqueezing, feature size= torch.Size([625, 1, 1, 384])\n"
     ]
    },
    {
     "name": "stderr",
     "output_type": "stream",
     "text": [
      " 51%|█████     | 511/1000 [2:44:44<3:07:51, 23.05s/it]"
     ]
    },
    {
     "name": "stdout",
     "output_type": "stream",
     "text": [
      "eigenvalues shape torch.Size([5]) eigenvectors shape torch.Size([5, 625])\n",
      "511 /home/phdcs2/Hard_Disk/Datasets/Deep-Spectral-Segmentation/data/object-segmentation/ECSSD/features/dino_vits16/0512.pth\n",
      "dict_keys(['k', 'indices', 'file', 'id', 'model_name', 'patch_size', 'shape'])\n",
      "0512\n",
      "Starting Training\n",
      "epoch: 00, loss: -0.48705\n",
      "epoch: 01, loss: -0.63769\n",
      "epoch: 02, loss: -0.66627\n",
      "epoch: 03, loss: -0.67093\n",
      "epoch: 04, loss: -0.69265\n",
      "epoch: 05, loss: -0.70519\n",
      "epoch: 06, loss: -0.71446\n",
      "epoch: 07, loss: -0.72288\n",
      "epoch: 08, loss: -0.70924\n",
      "epoch: 09, loss: -0.71634\n",
      "After Unsqueezing, feature size= torch.Size([400, 1, 1, 384])\n"
     ]
    },
    {
     "name": "stderr",
     "output_type": "stream",
     "text": [
      " 51%|█████     | 512/1000 [2:44:59<2:49:50, 20.88s/it]"
     ]
    },
    {
     "name": "stdout",
     "output_type": "stream",
     "text": [
      "eigenvalues shape torch.Size([5]) eigenvectors shape torch.Size([5, 400])\n",
      "512 /home/phdcs2/Hard_Disk/Datasets/Deep-Spectral-Segmentation/data/object-segmentation/ECSSD/features/dino_vits16/0513.pth\n",
      "dict_keys(['k', 'indices', 'file', 'id', 'model_name', 'patch_size', 'shape'])\n",
      "0513\n",
      "Starting Training\n",
      "epoch: 00, loss: -0.56558\n",
      "epoch: 01, loss: -0.72514\n",
      "epoch: 02, loss: -0.74431\n",
      "epoch: 03, loss: -0.75843\n",
      "epoch: 04, loss: -0.76819\n",
      "epoch: 05, loss: -0.77832\n",
      "epoch: 06, loss: -0.77174\n",
      "epoch: 07, loss: -0.78484\n",
      "epoch: 08, loss: -0.78978\n",
      "epoch: 09, loss: -0.79060\n",
      "After Unsqueezing, feature size= torch.Size([400, 1, 1, 384])\n"
     ]
    },
    {
     "name": "stderr",
     "output_type": "stream",
     "text": [
      " 51%|█████▏    | 513/1000 [2:45:15<2:36:34, 19.29s/it]"
     ]
    },
    {
     "name": "stdout",
     "output_type": "stream",
     "text": [
      "eigenvalues shape torch.Size([5]) eigenvectors shape torch.Size([5, 400])\n",
      "513 /home/phdcs2/Hard_Disk/Datasets/Deep-Spectral-Segmentation/data/object-segmentation/ECSSD/features/dino_vits16/0514.pth\n",
      "dict_keys(['k', 'indices', 'file', 'id', 'model_name', 'patch_size', 'shape'])\n",
      "0514\n",
      "Starting Training\n",
      "epoch: 00, loss: -0.48484\n",
      "epoch: 01, loss: -0.61356\n",
      "epoch: 02, loss: -0.64737\n",
      "epoch: 03, loss: -0.65894\n",
      "epoch: 04, loss: -0.66716\n",
      "epoch: 05, loss: -0.66136\n",
      "epoch: 06, loss: -0.65635\n",
      "epoch: 07, loss: -0.68195\n",
      "epoch: 08, loss: -0.68623\n",
      "epoch: 09, loss: -0.69165\n",
      "After Unsqueezing, feature size= torch.Size([450, 1, 1, 384])\n"
     ]
    },
    {
     "name": "stderr",
     "output_type": "stream",
     "text": [
      " 51%|█████▏    | 514/1000 [2:45:33<2:33:48, 18.99s/it]"
     ]
    },
    {
     "name": "stdout",
     "output_type": "stream",
     "text": [
      "eigenvalues shape torch.Size([5]) eigenvectors shape torch.Size([5, 450])\n",
      "514 /home/phdcs2/Hard_Disk/Datasets/Deep-Spectral-Segmentation/data/object-segmentation/ECSSD/features/dino_vits16/0515.pth\n",
      "dict_keys(['k', 'indices', 'file', 'id', 'model_name', 'patch_size', 'shape'])\n",
      "0515\n",
      "Starting Training\n",
      "epoch: 00, loss: -0.48382\n",
      "epoch: 01, loss: -0.63880\n",
      "epoch: 02, loss: -0.67716\n",
      "epoch: 03, loss: -0.68207\n",
      "epoch: 04, loss: -0.70106\n",
      "epoch: 05, loss: -0.72319\n",
      "epoch: 06, loss: -0.73816\n",
      "epoch: 07, loss: -0.72732\n",
      "epoch: 08, loss: -0.72161\n",
      "epoch: 09, loss: -0.72099\n",
      "After Unsqueezing, feature size= torch.Size([450, 1, 1, 384])\n"
     ]
    },
    {
     "name": "stderr",
     "output_type": "stream",
     "text": [
      " 52%|█████▏    | 515/1000 [2:45:52<2:33:47, 19.03s/it]"
     ]
    },
    {
     "name": "stdout",
     "output_type": "stream",
     "text": [
      "eigenvalues shape torch.Size([5]) eigenvectors shape torch.Size([5, 450])\n",
      "515 /home/phdcs2/Hard_Disk/Datasets/Deep-Spectral-Segmentation/data/object-segmentation/ECSSD/features/dino_vits16/0516.pth\n",
      "dict_keys(['k', 'indices', 'file', 'id', 'model_name', 'patch_size', 'shape'])\n",
      "0516\n",
      "Starting Training\n",
      "epoch: 00, loss: -0.48024\n",
      "epoch: 01, loss: -0.64044\n",
      "epoch: 02, loss: -0.66726\n",
      "epoch: 03, loss: -0.69860\n",
      "epoch: 04, loss: -0.71012\n",
      "epoch: 05, loss: -0.72649\n",
      "epoch: 06, loss: -0.72200\n",
      "epoch: 07, loss: -0.71842\n",
      "epoch: 08, loss: -0.73026\n",
      "epoch: 09, loss: -0.74018\n",
      "After Unsqueezing, feature size= torch.Size([450, 1, 1, 384])\n"
     ]
    },
    {
     "name": "stderr",
     "output_type": "stream",
     "text": [
      " 52%|█████▏    | 516/1000 [2:46:12<2:34:52, 19.20s/it]"
     ]
    },
    {
     "name": "stdout",
     "output_type": "stream",
     "text": [
      "eigenvalues shape torch.Size([5]) eigenvectors shape torch.Size([5, 450])\n",
      "516 /home/phdcs2/Hard_Disk/Datasets/Deep-Spectral-Segmentation/data/object-segmentation/ECSSD/features/dino_vits16/0517.pth\n",
      "dict_keys(['k', 'indices', 'file', 'id', 'model_name', 'patch_size', 'shape'])\n",
      "0517\n",
      "Starting Training\n",
      "epoch: 00, loss: -0.45702\n",
      "epoch: 01, loss: -0.64715\n",
      "epoch: 02, loss: -0.68662\n",
      "epoch: 03, loss: -0.68247\n",
      "epoch: 04, loss: -0.68857\n",
      "epoch: 05, loss: -0.68840\n",
      "epoch: 06, loss: -0.68990\n",
      "epoch: 07, loss: -0.72786\n",
      "epoch: 08, loss: -0.74061\n",
      "epoch: 09, loss: -0.74771\n",
      "After Unsqueezing, feature size= torch.Size([450, 1, 1, 384])\n"
     ]
    },
    {
     "name": "stderr",
     "output_type": "stream",
     "text": [
      " 52%|█████▏    | 517/1000 [2:46:32<2:37:05, 19.52s/it]"
     ]
    },
    {
     "name": "stdout",
     "output_type": "stream",
     "text": [
      "eigenvalues shape torch.Size([5]) eigenvectors shape torch.Size([5, 450])\n",
      "517 /home/phdcs2/Hard_Disk/Datasets/Deep-Spectral-Segmentation/data/object-segmentation/ECSSD/features/dino_vits16/0518.pth\n",
      "dict_keys(['k', 'indices', 'file', 'id', 'model_name', 'patch_size', 'shape'])\n",
      "0518\n",
      "Starting Training\n",
      "epoch: 00, loss: -0.50209\n",
      "epoch: 01, loss: -0.67449\n",
      "epoch: 02, loss: -0.69661\n",
      "epoch: 03, loss: -0.72250\n",
      "epoch: 04, loss: -0.73349\n",
      "epoch: 05, loss: -0.73888\n",
      "epoch: 06, loss: -0.74076\n",
      "epoch: 07, loss: -0.74263\n",
      "epoch: 08, loss: -0.75358\n",
      "epoch: 09, loss: -0.75589\n",
      "After Unsqueezing, feature size= torch.Size([400, 1, 1, 384])\n"
     ]
    },
    {
     "name": "stderr",
     "output_type": "stream",
     "text": [
      " 52%|█████▏    | 518/1000 [2:46:53<2:39:24, 19.84s/it]"
     ]
    },
    {
     "name": "stdout",
     "output_type": "stream",
     "text": [
      "eigenvalues shape torch.Size([5]) eigenvectors shape torch.Size([5, 400])\n",
      "518 /home/phdcs2/Hard_Disk/Datasets/Deep-Spectral-Segmentation/data/object-segmentation/ECSSD/features/dino_vits16/0519.pth\n",
      "dict_keys(['k', 'indices', 'file', 'id', 'model_name', 'patch_size', 'shape'])\n",
      "0519\n",
      "Starting Training\n",
      "epoch: 00, loss: -0.52099\n",
      "epoch: 01, loss: -0.66954\n",
      "epoch: 02, loss: -0.69625\n",
      "epoch: 03, loss: -0.69115\n",
      "epoch: 04, loss: -0.70903\n",
      "epoch: 05, loss: -0.73309\n",
      "epoch: 06, loss: -0.74098\n",
      "epoch: 07, loss: -0.75632\n",
      "epoch: 08, loss: -0.75095\n",
      "epoch: 09, loss: -0.74128\n",
      "After Unsqueezing, feature size= torch.Size([375, 1, 1, 384])\n"
     ]
    },
    {
     "name": "stderr",
     "output_type": "stream",
     "text": [
      " 52%|█████▏    | 519/1000 [2:47:10<2:32:06, 18.97s/it]"
     ]
    },
    {
     "name": "stdout",
     "output_type": "stream",
     "text": [
      "eigenvalues shape torch.Size([5]) eigenvectors shape torch.Size([5, 375])\n",
      "519 /home/phdcs2/Hard_Disk/Datasets/Deep-Spectral-Segmentation/data/object-segmentation/ECSSD/features/dino_vits16/0520.pth\n",
      "dict_keys(['k', 'indices', 'file', 'id', 'model_name', 'patch_size', 'shape'])\n",
      "0520\n",
      "Starting Training\n",
      "epoch: 00, loss: -0.43409\n",
      "epoch: 01, loss: -0.60487\n",
      "epoch: 02, loss: -0.64708\n",
      "epoch: 03, loss: -0.66365\n",
      "epoch: 04, loss: -0.66640\n",
      "epoch: 05, loss: -0.64407\n",
      "epoch: 06, loss: -0.64598\n",
      "epoch: 07, loss: -0.64825\n",
      "epoch: 08, loss: -0.65653\n",
      "epoch: 09, loss: -0.68393\n",
      "After Unsqueezing, feature size= torch.Size([450, 1, 1, 384])\n"
     ]
    },
    {
     "name": "stderr",
     "output_type": "stream",
     "text": [
      " 52%|█████▏    | 520/1000 [2:47:28<2:28:43, 18.59s/it]"
     ]
    },
    {
     "name": "stdout",
     "output_type": "stream",
     "text": [
      "eigenvalues shape torch.Size([5]) eigenvectors shape torch.Size([5, 450])\n",
      "520 /home/phdcs2/Hard_Disk/Datasets/Deep-Spectral-Segmentation/data/object-segmentation/ECSSD/features/dino_vits16/0521.pth\n",
      "dict_keys(['k', 'indices', 'file', 'id', 'model_name', 'patch_size', 'shape'])\n",
      "0521\n",
      "Starting Training\n",
      "epoch: 00, loss: -0.54849\n",
      "epoch: 01, loss: -0.68480\n",
      "epoch: 02, loss: -0.70113\n",
      "epoch: 03, loss: -0.72191\n",
      "epoch: 04, loss: -0.73228\n",
      "epoch: 05, loss: -0.73471\n",
      "epoch: 06, loss: -0.73909\n",
      "epoch: 07, loss: -0.74903\n",
      "epoch: 08, loss: -0.74503\n",
      "epoch: 09, loss: -0.74009\n",
      "After Unsqueezing, feature size= torch.Size([450, 1, 1, 384])\n"
     ]
    },
    {
     "name": "stderr",
     "output_type": "stream",
     "text": [
      " 52%|█████▏    | 521/1000 [2:47:47<2:31:14, 18.94s/it]"
     ]
    },
    {
     "name": "stdout",
     "output_type": "stream",
     "text": [
      "eigenvalues shape torch.Size([5]) eigenvectors shape torch.Size([5, 450])\n",
      "521 /home/phdcs2/Hard_Disk/Datasets/Deep-Spectral-Segmentation/data/object-segmentation/ECSSD/features/dino_vits16/0522.pth\n",
      "dict_keys(['k', 'indices', 'file', 'id', 'model_name', 'patch_size', 'shape'])\n",
      "0522\n",
      "Starting Training\n",
      "epoch: 00, loss: -0.56448\n",
      "epoch: 01, loss: -0.71694\n",
      "epoch: 02, loss: -0.73467\n",
      "epoch: 03, loss: -0.73924\n",
      "epoch: 04, loss: -0.74560\n",
      "epoch: 05, loss: -0.75392\n",
      "epoch: 06, loss: -0.75135\n",
      "epoch: 07, loss: -0.75220\n",
      "epoch: 08, loss: -0.76354\n",
      "epoch: 09, loss: -0.76618\n",
      "After Unsqueezing, feature size= torch.Size([450, 1, 1, 384])\n"
     ]
    },
    {
     "name": "stderr",
     "output_type": "stream",
     "text": [
      " 52%|█████▏    | 522/1000 [2:48:07<2:33:05, 19.22s/it]"
     ]
    },
    {
     "name": "stdout",
     "output_type": "stream",
     "text": [
      "eigenvalues shape torch.Size([5]) eigenvectors shape torch.Size([5, 450])\n",
      "522 /home/phdcs2/Hard_Disk/Datasets/Deep-Spectral-Segmentation/data/object-segmentation/ECSSD/features/dino_vits16/0523.pth\n",
      "dict_keys(['k', 'indices', 'file', 'id', 'model_name', 'patch_size', 'shape'])\n",
      "0523\n",
      "Starting Training\n",
      "epoch: 00, loss: -0.57749\n",
      "epoch: 01, loss: -0.71898\n",
      "epoch: 02, loss: -0.75013\n",
      "epoch: 03, loss: -0.75915\n",
      "epoch: 04, loss: -0.76803\n",
      "epoch: 05, loss: -0.77143\n",
      "epoch: 06, loss: -0.76722\n",
      "epoch: 07, loss: -0.76418\n",
      "epoch: 08, loss: -0.76191\n",
      "epoch: 09, loss: -0.75952\n",
      "After Unsqueezing, feature size= torch.Size([450, 1, 1, 384])\n"
     ]
    },
    {
     "name": "stderr",
     "output_type": "stream",
     "text": [
      " 52%|█████▏    | 523/1000 [2:48:25<2:30:30, 18.93s/it]"
     ]
    },
    {
     "name": "stdout",
     "output_type": "stream",
     "text": [
      "eigenvalues shape torch.Size([5]) eigenvectors shape torch.Size([5, 450])\n",
      "523 /home/phdcs2/Hard_Disk/Datasets/Deep-Spectral-Segmentation/data/object-segmentation/ECSSD/features/dino_vits16/0524.pth\n",
      "dict_keys(['k', 'indices', 'file', 'id', 'model_name', 'patch_size', 'shape'])\n",
      "0524\n",
      "Starting Training\n",
      "epoch: 00, loss: -0.52102\n",
      "epoch: 01, loss: -0.64868\n",
      "epoch: 02, loss: -0.65150\n",
      "epoch: 03, loss: -0.66763\n",
      "epoch: 04, loss: -0.67845\n",
      "epoch: 05, loss: -0.69915\n",
      "epoch: 06, loss: -0.70574\n",
      "epoch: 07, loss: -0.71241\n",
      "epoch: 08, loss: -0.72729\n",
      "epoch: 09, loss: -0.74094\n",
      "After Unsqueezing, feature size= torch.Size([475, 1, 1, 384])\n"
     ]
    },
    {
     "name": "stderr",
     "output_type": "stream",
     "text": [
      " 52%|█████▏    | 524/1000 [2:48:44<2:28:18, 18.69s/it]"
     ]
    },
    {
     "name": "stdout",
     "output_type": "stream",
     "text": [
      "eigenvalues shape torch.Size([5]) eigenvectors shape torch.Size([5, 475])\n",
      "524 /home/phdcs2/Hard_Disk/Datasets/Deep-Spectral-Segmentation/data/object-segmentation/ECSSD/features/dino_vits16/0525.pth\n",
      "dict_keys(['k', 'indices', 'file', 'id', 'model_name', 'patch_size', 'shape'])\n",
      "0525\n",
      "Starting Training\n",
      "epoch: 00, loss: -0.46718\n",
      "epoch: 01, loss: -0.62337\n",
      "epoch: 02, loss: -0.65635\n",
      "epoch: 03, loss: -0.66990\n",
      "epoch: 04, loss: -0.69391\n",
      "epoch: 05, loss: -0.69142\n",
      "epoch: 06, loss: -0.69782\n",
      "epoch: 07, loss: -0.69736\n",
      "epoch: 08, loss: -0.70993\n",
      "epoch: 09, loss: -0.70435\n",
      "After Unsqueezing, feature size= torch.Size([400, 1, 1, 384])\n"
     ]
    },
    {
     "name": "stderr",
     "output_type": "stream",
     "text": [
      " 52%|█████▎    | 525/1000 [2:49:01<2:25:03, 18.32s/it]"
     ]
    },
    {
     "name": "stdout",
     "output_type": "stream",
     "text": [
      "eigenvalues shape torch.Size([5]) eigenvectors shape torch.Size([5, 400])\n",
      "525 /home/phdcs2/Hard_Disk/Datasets/Deep-Spectral-Segmentation/data/object-segmentation/ECSSD/features/dino_vits16/0526.pth\n",
      "dict_keys(['k', 'indices', 'file', 'id', 'model_name', 'patch_size', 'shape'])\n",
      "0526\n",
      "Starting Training\n",
      "epoch: 00, loss: -0.46213\n",
      "epoch: 01, loss: -0.57043\n",
      "epoch: 02, loss: -0.58472\n",
      "epoch: 03, loss: -0.57970\n",
      "epoch: 04, loss: -0.61067\n",
      "epoch: 05, loss: -0.59250\n",
      "epoch: 06, loss: -0.59486\n",
      "epoch: 07, loss: -0.61783\n",
      "epoch: 08, loss: -0.59770\n",
      "epoch: 09, loss: -0.62753\n",
      "After Unsqueezing, feature size= torch.Size([500, 1, 1, 384])\n"
     ]
    },
    {
     "name": "stderr",
     "output_type": "stream",
     "text": [
      " 53%|█████▎    | 526/1000 [2:49:22<2:30:18, 19.03s/it]"
     ]
    },
    {
     "name": "stdout",
     "output_type": "stream",
     "text": [
      "eigenvalues shape torch.Size([5]) eigenvectors shape torch.Size([5, 500])\n",
      "526 /home/phdcs2/Hard_Disk/Datasets/Deep-Spectral-Segmentation/data/object-segmentation/ECSSD/features/dino_vits16/0527.pth\n",
      "dict_keys(['k', 'indices', 'file', 'id', 'model_name', 'patch_size', 'shape'])\n",
      "0527\n",
      "Starting Training\n",
      "epoch: 00, loss: -0.39483\n",
      "epoch: 01, loss: -0.52304\n",
      "epoch: 02, loss: -0.54508\n",
      "epoch: 03, loss: -0.55299\n",
      "epoch: 04, loss: -0.55164\n",
      "epoch: 05, loss: -0.57727\n",
      "epoch: 06, loss: -0.58933\n",
      "epoch: 07, loss: -0.58751\n",
      "epoch: 08, loss: -0.61269\n",
      "epoch: 09, loss: -0.64120\n",
      "After Unsqueezing, feature size= torch.Size([400, 1, 1, 384])\n"
     ]
    },
    {
     "name": "stderr",
     "output_type": "stream",
     "text": [
      " 53%|█████▎    | 527/1000 [2:49:44<2:36:41, 19.88s/it]"
     ]
    },
    {
     "name": "stdout",
     "output_type": "stream",
     "text": [
      "eigenvalues shape torch.Size([5]) eigenvectors shape torch.Size([5, 400])\n",
      "527 /home/phdcs2/Hard_Disk/Datasets/Deep-Spectral-Segmentation/data/object-segmentation/ECSSD/features/dino_vits16/0528.pth\n",
      "dict_keys(['k', 'indices', 'file', 'id', 'model_name', 'patch_size', 'shape'])\n",
      "0528\n",
      "Starting Training\n",
      "epoch: 00, loss: -0.54335\n",
      "epoch: 01, loss: -0.72583\n",
      "epoch: 02, loss: -0.75511\n",
      "epoch: 03, loss: -0.73896\n",
      "epoch: 04, loss: -0.74323\n",
      "epoch: 05, loss: -0.76287\n",
      "epoch: 06, loss: -0.78464\n",
      "epoch: 07, loss: -0.79946\n",
      "epoch: 08, loss: -0.78948\n",
      "epoch: 09, loss: -0.80343\n",
      "After Unsqueezing, feature size= torch.Size([400, 1, 1, 384])\n"
     ]
    },
    {
     "name": "stderr",
     "output_type": "stream",
     "text": [
      " 53%|█████▎    | 528/1000 [2:50:02<2:32:49, 19.43s/it]"
     ]
    },
    {
     "name": "stdout",
     "output_type": "stream",
     "text": [
      "eigenvalues shape torch.Size([5]) eigenvectors shape torch.Size([5, 400])\n",
      "528 /home/phdcs2/Hard_Disk/Datasets/Deep-Spectral-Segmentation/data/object-segmentation/ECSSD/features/dino_vits16/0529.pth\n",
      "dict_keys(['k', 'indices', 'file', 'id', 'model_name', 'patch_size', 'shape'])\n",
      "0529\n",
      "Starting Training\n",
      "epoch: 00, loss: -0.49880\n",
      "epoch: 01, loss: -0.66522\n",
      "epoch: 02, loss: -0.68940\n",
      "epoch: 03, loss: -0.70190\n",
      "epoch: 04, loss: -0.72740\n",
      "epoch: 05, loss: -0.73785\n",
      "epoch: 06, loss: -0.75714\n",
      "epoch: 07, loss: -0.76658\n",
      "epoch: 08, loss: -0.75930\n",
      "epoch: 09, loss: -0.75052\n",
      "After Unsqueezing, feature size= torch.Size([400, 1, 1, 384])\n"
     ]
    },
    {
     "name": "stderr",
     "output_type": "stream",
     "text": [
      " 53%|█████▎    | 529/1000 [2:50:19<2:28:04, 18.86s/it]"
     ]
    },
    {
     "name": "stdout",
     "output_type": "stream",
     "text": [
      "eigenvalues shape torch.Size([5]) eigenvectors shape torch.Size([5, 400])\n",
      "529 /home/phdcs2/Hard_Disk/Datasets/Deep-Spectral-Segmentation/data/object-segmentation/ECSSD/features/dino_vits16/0530.pth\n",
      "dict_keys(['k', 'indices', 'file', 'id', 'model_name', 'patch_size', 'shape'])\n",
      "0530\n",
      "Starting Training\n",
      "epoch: 00, loss: -0.50212\n",
      "epoch: 01, loss: -0.61189\n",
      "epoch: 02, loss: -0.65016\n",
      "epoch: 03, loss: -0.65947\n",
      "epoch: 04, loss: -0.66720\n",
      "epoch: 05, loss: -0.64642\n",
      "epoch: 06, loss: -0.65148\n",
      "epoch: 07, loss: -0.67662\n",
      "epoch: 08, loss: -0.67304\n",
      "epoch: 09, loss: -0.65552\n",
      "After Unsqueezing, feature size= torch.Size([500, 1, 1, 384])\n"
     ]
    },
    {
     "name": "stderr",
     "output_type": "stream",
     "text": [
      " 53%|█████▎    | 530/1000 [2:50:41<2:33:28, 19.59s/it]"
     ]
    },
    {
     "name": "stdout",
     "output_type": "stream",
     "text": [
      "eigenvalues shape torch.Size([5]) eigenvectors shape torch.Size([5, 500])\n",
      "530 /home/phdcs2/Hard_Disk/Datasets/Deep-Spectral-Segmentation/data/object-segmentation/ECSSD/features/dino_vits16/0531.pth\n",
      "dict_keys(['k', 'indices', 'file', 'id', 'model_name', 'patch_size', 'shape'])\n",
      "0531\n",
      "Starting Training\n",
      "epoch: 00, loss: -0.49567\n",
      "epoch: 01, loss: -0.64873\n",
      "epoch: 02, loss: -0.67294\n",
      "epoch: 03, loss: -0.67975\n",
      "epoch: 04, loss: -0.67029\n",
      "epoch: 05, loss: -0.66919\n",
      "epoch: 06, loss: -0.66056\n",
      "epoch: 07, loss: -0.66336\n",
      "epoch: 08, loss: -0.65142\n",
      "epoch: 09, loss: -0.64891\n",
      "After Unsqueezing, feature size= torch.Size([450, 1, 1, 384])\n"
     ]
    },
    {
     "name": "stderr",
     "output_type": "stream",
     "text": [
      " 53%|█████▎    | 531/1000 [2:51:00<2:33:27, 19.63s/it]"
     ]
    },
    {
     "name": "stdout",
     "output_type": "stream",
     "text": [
      "eigenvalues shape torch.Size([5]) eigenvectors shape torch.Size([5, 450])\n",
      "531 /home/phdcs2/Hard_Disk/Datasets/Deep-Spectral-Segmentation/data/object-segmentation/ECSSD/features/dino_vits16/0532.pth\n",
      "dict_keys(['k', 'indices', 'file', 'id', 'model_name', 'patch_size', 'shape'])\n",
      "0532\n",
      "Starting Training\n",
      "epoch: 00, loss: -0.48318\n",
      "epoch: 01, loss: -0.61722\n",
      "epoch: 02, loss: -0.65321\n",
      "epoch: 03, loss: -0.67250\n",
      "epoch: 04, loss: -0.68435\n",
      "epoch: 05, loss: -0.69208\n",
      "epoch: 06, loss: -0.68634\n",
      "epoch: 07, loss: -0.67885\n",
      "epoch: 08, loss: -0.69730\n",
      "epoch: 09, loss: -0.69433\n",
      "After Unsqueezing, feature size= torch.Size([450, 1, 1, 384])\n"
     ]
    },
    {
     "name": "stderr",
     "output_type": "stream",
     "text": [
      " 53%|█████▎    | 532/1000 [2:51:19<2:31:14, 19.39s/it]"
     ]
    },
    {
     "name": "stdout",
     "output_type": "stream",
     "text": [
      "eigenvalues shape torch.Size([5]) eigenvectors shape torch.Size([5, 450])\n",
      "532 /home/phdcs2/Hard_Disk/Datasets/Deep-Spectral-Segmentation/data/object-segmentation/ECSSD/features/dino_vits16/0533.pth\n",
      "dict_keys(['k', 'indices', 'file', 'id', 'model_name', 'patch_size', 'shape'])\n",
      "0533\n",
      "Starting Training\n",
      "epoch: 00, loss: -0.55988\n",
      "epoch: 01, loss: -0.72175\n",
      "epoch: 02, loss: -0.73975\n",
      "epoch: 03, loss: -0.75752\n",
      "epoch: 04, loss: -0.75858\n",
      "epoch: 05, loss: -0.76936\n",
      "epoch: 06, loss: -0.77327\n",
      "epoch: 07, loss: -0.77549\n",
      "epoch: 08, loss: -0.77724\n",
      "epoch: 09, loss: -0.77869\n",
      "After Unsqueezing, feature size= torch.Size([400, 1, 1, 384])\n",
      "eigenvalues shape torch.Size([5]) eigenvectors shape torch.Size([5, 400])\n"
     ]
    },
    {
     "name": "stderr",
     "output_type": "stream",
     "text": [
      " 53%|█████▎    | 533/1000 [2:51:35<2:22:15, 18.28s/it]"
     ]
    },
    {
     "name": "stdout",
     "output_type": "stream",
     "text": [
      "533 /home/phdcs2/Hard_Disk/Datasets/Deep-Spectral-Segmentation/data/object-segmentation/ECSSD/features/dino_vits16/0534.pth\n",
      "dict_keys(['k', 'indices', 'file', 'id', 'model_name', 'patch_size', 'shape'])\n",
      "0534\n",
      "Starting Training\n",
      "epoch: 00, loss: -0.48614\n",
      "epoch: 01, loss: -0.63439\n",
      "epoch: 02, loss: -0.65292\n",
      "epoch: 03, loss: -0.66494\n",
      "epoch: 04, loss: -0.67922\n",
      "epoch: 05, loss: -0.69155\n",
      "epoch: 06, loss: -0.69498\n",
      "epoch: 07, loss: -0.69875\n",
      "epoch: 08, loss: -0.72300\n",
      "epoch: 09, loss: -0.73468\n",
      "After Unsqueezing, feature size= torch.Size([450, 1, 1, 384])\n"
     ]
    },
    {
     "name": "stderr",
     "output_type": "stream",
     "text": [
      " 53%|█████▎    | 534/1000 [2:51:57<2:31:16, 19.48s/it]"
     ]
    },
    {
     "name": "stdout",
     "output_type": "stream",
     "text": [
      "eigenvalues shape torch.Size([5]) eigenvectors shape torch.Size([5, 450])\n",
      "534 /home/phdcs2/Hard_Disk/Datasets/Deep-Spectral-Segmentation/data/object-segmentation/ECSSD/features/dino_vits16/0535.pth\n",
      "dict_keys(['k', 'indices', 'file', 'id', 'model_name', 'patch_size', 'shape'])\n",
      "0535\n",
      "Starting Training\n",
      "epoch: 00, loss: -0.43440\n",
      "epoch: 01, loss: -0.56361\n",
      "epoch: 02, loss: -0.58631\n",
      "epoch: 03, loss: -0.60044\n",
      "epoch: 04, loss: -0.60642\n",
      "epoch: 05, loss: -0.61605\n",
      "epoch: 06, loss: -0.61203\n",
      "epoch: 07, loss: -0.62775\n",
      "epoch: 08, loss: -0.62249\n",
      "epoch: 09, loss: -0.62279\n",
      "After Unsqueezing, feature size= torch.Size([400, 1, 1, 384])\n"
     ]
    },
    {
     "name": "stderr",
     "output_type": "stream",
     "text": [
      " 54%|█████▎    | 535/1000 [2:52:14<2:23:59, 18.58s/it]"
     ]
    },
    {
     "name": "stdout",
     "output_type": "stream",
     "text": [
      "eigenvalues shape torch.Size([5]) eigenvectors shape torch.Size([5, 400])\n",
      "535 /home/phdcs2/Hard_Disk/Datasets/Deep-Spectral-Segmentation/data/object-segmentation/ECSSD/features/dino_vits16/0536.pth\n",
      "dict_keys(['k', 'indices', 'file', 'id', 'model_name', 'patch_size', 'shape'])\n",
      "0536\n",
      "Starting Training\n",
      "epoch: 00, loss: -0.46571\n",
      "epoch: 01, loss: -0.59440\n",
      "epoch: 02, loss: -0.62688\n",
      "epoch: 03, loss: -0.65461\n",
      "epoch: 04, loss: -0.64776\n",
      "epoch: 05, loss: -0.63995\n",
      "epoch: 06, loss: -0.61436\n",
      "epoch: 07, loss: -0.63920\n",
      "epoch: 08, loss: -0.65743\n",
      "epoch: 09, loss: -0.67916\n",
      "After Unsqueezing, feature size= torch.Size([450, 1, 1, 384])\n"
     ]
    },
    {
     "name": "stderr",
     "output_type": "stream",
     "text": [
      " 54%|█████▎    | 536/1000 [2:52:33<2:26:02, 18.88s/it]"
     ]
    },
    {
     "name": "stdout",
     "output_type": "stream",
     "text": [
      "eigenvalues shape torch.Size([5]) eigenvectors shape torch.Size([5, 450])\n",
      "536 /home/phdcs2/Hard_Disk/Datasets/Deep-Spectral-Segmentation/data/object-segmentation/ECSSD/features/dino_vits16/0537.pth\n",
      "dict_keys(['k', 'indices', 'file', 'id', 'model_name', 'patch_size', 'shape'])\n",
      "0537\n",
      "Starting Training\n",
      "epoch: 00, loss: -0.50070\n",
      "epoch: 01, loss: -0.64195\n",
      "epoch: 02, loss: -0.67696\n",
      "epoch: 03, loss: -0.68009\n",
      "epoch: 04, loss: -0.69487\n",
      "epoch: 05, loss: -0.70613\n",
      "epoch: 06, loss: -0.71497\n",
      "epoch: 07, loss: -0.71714\n",
      "epoch: 08, loss: -0.71786\n",
      "epoch: 09, loss: -0.73366\n",
      "After Unsqueezing, feature size= torch.Size([450, 1, 1, 384])\n"
     ]
    },
    {
     "name": "stderr",
     "output_type": "stream",
     "text": [
      " 54%|█████▎    | 537/1000 [2:52:52<2:24:53, 18.78s/it]"
     ]
    },
    {
     "name": "stdout",
     "output_type": "stream",
     "text": [
      "eigenvalues shape torch.Size([5]) eigenvectors shape torch.Size([5, 450])\n",
      "537 /home/phdcs2/Hard_Disk/Datasets/Deep-Spectral-Segmentation/data/object-segmentation/ECSSD/features/dino_vits16/0538.pth\n",
      "dict_keys(['k', 'indices', 'file', 'id', 'model_name', 'patch_size', 'shape'])\n",
      "0538\n",
      "Starting Training\n",
      "epoch: 00, loss: -0.48751\n",
      "epoch: 01, loss: -0.66617\n",
      "epoch: 02, loss: -0.67833\n",
      "epoch: 03, loss: -0.68880\n",
      "epoch: 04, loss: -0.69222\n",
      "epoch: 05, loss: -0.68393\n",
      "epoch: 06, loss: -0.69684\n",
      "epoch: 07, loss: -0.69658\n",
      "epoch: 08, loss: -0.71117\n",
      "epoch: 09, loss: -0.71693\n",
      "After Unsqueezing, feature size= torch.Size([400, 1, 1, 384])\n"
     ]
    },
    {
     "name": "stderr",
     "output_type": "stream",
     "text": [
      " 54%|█████▍    | 538/1000 [2:53:10<2:22:19, 18.48s/it]"
     ]
    },
    {
     "name": "stdout",
     "output_type": "stream",
     "text": [
      "eigenvalues shape torch.Size([5]) eigenvectors shape torch.Size([5, 400])\n",
      "538 /home/phdcs2/Hard_Disk/Datasets/Deep-Spectral-Segmentation/data/object-segmentation/ECSSD/features/dino_vits16/0539.pth\n",
      "dict_keys(['k', 'indices', 'file', 'id', 'model_name', 'patch_size', 'shape'])\n",
      "0539\n",
      "Starting Training\n",
      "epoch: 00, loss: -0.48305\n",
      "epoch: 01, loss: -0.63579\n",
      "epoch: 02, loss: -0.64764\n",
      "epoch: 03, loss: -0.65955\n",
      "epoch: 04, loss: -0.66834\n",
      "epoch: 05, loss: -0.69344\n",
      "epoch: 06, loss: -0.69276\n",
      "epoch: 07, loss: -0.68873\n",
      "epoch: 08, loss: -0.67955\n",
      "epoch: 09, loss: -0.68611\n",
      "After Unsqueezing, feature size= torch.Size([425, 1, 1, 384])\n"
     ]
    },
    {
     "name": "stderr",
     "output_type": "stream",
     "text": [
      " 54%|█████▍    | 539/1000 [2:53:28<2:20:49, 18.33s/it]"
     ]
    },
    {
     "name": "stdout",
     "output_type": "stream",
     "text": [
      "eigenvalues shape torch.Size([5]) eigenvectors shape torch.Size([5, 425])\n",
      "539 /home/phdcs2/Hard_Disk/Datasets/Deep-Spectral-Segmentation/data/object-segmentation/ECSSD/features/dino_vits16/0540.pth\n",
      "dict_keys(['k', 'indices', 'file', 'id', 'model_name', 'patch_size', 'shape'])\n",
      "0540\n",
      "Starting Training\n",
      "epoch: 00, loss: -0.54478\n",
      "epoch: 01, loss: -0.68464\n",
      "epoch: 02, loss: -0.70329\n",
      "epoch: 03, loss: -0.71873\n",
      "epoch: 04, loss: -0.73499\n",
      "epoch: 05, loss: -0.72773\n",
      "epoch: 06, loss: -0.73170\n",
      "epoch: 07, loss: -0.71649\n",
      "epoch: 08, loss: -0.71630\n",
      "epoch: 09, loss: -0.71213\n",
      "After Unsqueezing, feature size= torch.Size([450, 1, 1, 384])\n"
     ]
    },
    {
     "name": "stderr",
     "output_type": "stream",
     "text": [
      " 54%|█████▍    | 540/1000 [2:53:47<2:22:38, 18.61s/it]"
     ]
    },
    {
     "name": "stdout",
     "output_type": "stream",
     "text": [
      "eigenvalues shape torch.Size([5]) eigenvectors shape torch.Size([5, 450])\n",
      "540 /home/phdcs2/Hard_Disk/Datasets/Deep-Spectral-Segmentation/data/object-segmentation/ECSSD/features/dino_vits16/0541.pth\n",
      "dict_keys(['k', 'indices', 'file', 'id', 'model_name', 'patch_size', 'shape'])\n",
      "0541\n",
      "Starting Training\n",
      "epoch: 00, loss: -0.43288\n",
      "epoch: 01, loss: -0.57181\n",
      "epoch: 02, loss: -0.58984\n",
      "epoch: 03, loss: -0.60557\n",
      "epoch: 04, loss: -0.62782\n",
      "epoch: 05, loss: -0.62778\n",
      "epoch: 06, loss: -0.64041\n",
      "epoch: 07, loss: -0.62935\n",
      "epoch: 08, loss: -0.64633\n",
      "epoch: 09, loss: -0.64924\n",
      "After Unsqueezing, feature size= torch.Size([400, 1, 1, 384])\n"
     ]
    },
    {
     "name": "stderr",
     "output_type": "stream",
     "text": [
      " 54%|█████▍    | 541/1000 [2:54:04<2:18:51, 18.15s/it]"
     ]
    },
    {
     "name": "stdout",
     "output_type": "stream",
     "text": [
      "eigenvalues shape torch.Size([5]) eigenvectors shape torch.Size([5, 400])\n",
      "541 /home/phdcs2/Hard_Disk/Datasets/Deep-Spectral-Segmentation/data/object-segmentation/ECSSD/features/dino_vits16/0542.pth\n",
      "dict_keys(['k', 'indices', 'file', 'id', 'model_name', 'patch_size', 'shape'])\n",
      "0542\n",
      "Starting Training\n",
      "epoch: 00, loss: -0.48856\n",
      "epoch: 01, loss: -0.65405\n",
      "epoch: 02, loss: -0.67376\n",
      "epoch: 03, loss: -0.69256\n",
      "epoch: 04, loss: -0.70068\n",
      "epoch: 05, loss: -0.71033\n",
      "epoch: 06, loss: -0.71274\n",
      "epoch: 07, loss: -0.71396\n",
      "epoch: 08, loss: -0.72373\n",
      "epoch: 09, loss: -0.75145\n",
      "After Unsqueezing, feature size= torch.Size([450, 1, 1, 384])\n"
     ]
    },
    {
     "name": "stderr",
     "output_type": "stream",
     "text": [
      " 54%|█████▍    | 542/1000 [2:54:27<2:30:11, 19.68s/it]"
     ]
    },
    {
     "name": "stdout",
     "output_type": "stream",
     "text": [
      "eigenvalues shape torch.Size([5]) eigenvectors shape torch.Size([5, 450])\n",
      "542 /home/phdcs2/Hard_Disk/Datasets/Deep-Spectral-Segmentation/data/object-segmentation/ECSSD/features/dino_vits16/0543.pth\n",
      "dict_keys(['k', 'indices', 'file', 'id', 'model_name', 'patch_size', 'shape'])\n",
      "0543\n",
      "Starting Training\n",
      "epoch: 00, loss: -0.47931\n",
      "epoch: 01, loss: -0.62893\n",
      "epoch: 02, loss: -0.64201\n",
      "epoch: 03, loss: -0.65218\n",
      "epoch: 04, loss: -0.66255\n",
      "epoch: 05, loss: -0.66632\n",
      "epoch: 06, loss: -0.67848\n",
      "epoch: 07, loss: -0.69698\n",
      "epoch: 08, loss: -0.69768\n",
      "epoch: 09, loss: -0.70234\n",
      "After Unsqueezing, feature size= torch.Size([400, 1, 1, 384])\n"
     ]
    },
    {
     "name": "stderr",
     "output_type": "stream",
     "text": [
      " 54%|█████▍    | 543/1000 [2:54:45<2:26:04, 19.18s/it]"
     ]
    },
    {
     "name": "stdout",
     "output_type": "stream",
     "text": [
      "eigenvalues shape torch.Size([5]) eigenvectors shape torch.Size([5, 400])\n",
      "543 /home/phdcs2/Hard_Disk/Datasets/Deep-Spectral-Segmentation/data/object-segmentation/ECSSD/features/dino_vits16/0544.pth\n",
      "dict_keys(['k', 'indices', 'file', 'id', 'model_name', 'patch_size', 'shape'])\n",
      "0544\n",
      "Starting Training\n",
      "epoch: 00, loss: -0.50145\n",
      "epoch: 01, loss: -0.65769\n",
      "epoch: 02, loss: -0.66277\n",
      "epoch: 03, loss: -0.67238\n",
      "epoch: 04, loss: -0.67523\n",
      "epoch: 05, loss: -0.66864\n",
      "epoch: 06, loss: -0.67190\n",
      "epoch: 07, loss: -0.68234\n",
      "epoch: 08, loss: -0.66845\n",
      "epoch: 09, loss: -0.67763\n",
      "After Unsqueezing, feature size= torch.Size([400, 1, 1, 384])\n"
     ]
    },
    {
     "name": "stderr",
     "output_type": "stream",
     "text": [
      " 54%|█████▍    | 544/1000 [2:55:03<2:23:07, 18.83s/it]"
     ]
    },
    {
     "name": "stdout",
     "output_type": "stream",
     "text": [
      "eigenvalues shape torch.Size([5]) eigenvectors shape torch.Size([5, 400])\n",
      "544 /home/phdcs2/Hard_Disk/Datasets/Deep-Spectral-Segmentation/data/object-segmentation/ECSSD/features/dino_vits16/0545.pth\n",
      "dict_keys(['k', 'indices', 'file', 'id', 'model_name', 'patch_size', 'shape'])\n",
      "0545\n",
      "Starting Training\n",
      "epoch: 00, loss: -0.43403\n",
      "epoch: 01, loss: -0.58211\n",
      "epoch: 02, loss: -0.63547\n",
      "epoch: 03, loss: -0.64685\n",
      "epoch: 04, loss: -0.63709\n",
      "epoch: 05, loss: -0.65494\n",
      "epoch: 06, loss: -0.66674\n",
      "epoch: 07, loss: -0.66534\n",
      "epoch: 08, loss: -0.69289\n",
      "epoch: 09, loss: -0.70630\n",
      "After Unsqueezing, feature size= torch.Size([400, 1, 1, 384])\n"
     ]
    },
    {
     "name": "stderr",
     "output_type": "stream",
     "text": [
      " 55%|█████▍    | 545/1000 [2:55:21<2:19:51, 18.44s/it]"
     ]
    },
    {
     "name": "stdout",
     "output_type": "stream",
     "text": [
      "eigenvalues shape torch.Size([5]) eigenvectors shape torch.Size([5, 400])\n",
      "545 /home/phdcs2/Hard_Disk/Datasets/Deep-Spectral-Segmentation/data/object-segmentation/ECSSD/features/dino_vits16/0546.pth\n",
      "dict_keys(['k', 'indices', 'file', 'id', 'model_name', 'patch_size', 'shape'])\n",
      "0546\n",
      "Starting Training\n",
      "epoch: 00, loss: -0.49155\n",
      "epoch: 01, loss: -0.63194\n",
      "epoch: 02, loss: -0.63305\n",
      "epoch: 03, loss: -0.65703\n",
      "epoch: 04, loss: -0.68078\n",
      "epoch: 05, loss: -0.69019\n",
      "epoch: 06, loss: -0.69491\n",
      "epoch: 07, loss: -0.68955\n",
      "epoch: 08, loss: -0.70069\n",
      "epoch: 09, loss: -0.71911\n",
      "After Unsqueezing, feature size= torch.Size([450, 1, 1, 384])\n"
     ]
    },
    {
     "name": "stderr",
     "output_type": "stream",
     "text": [
      " 55%|█████▍    | 546/1000 [2:55:40<2:21:39, 18.72s/it]"
     ]
    },
    {
     "name": "stdout",
     "output_type": "stream",
     "text": [
      "eigenvalues shape torch.Size([5]) eigenvectors shape torch.Size([5, 450])\n",
      "546 /home/phdcs2/Hard_Disk/Datasets/Deep-Spectral-Segmentation/data/object-segmentation/ECSSD/features/dino_vits16/0547.pth\n",
      "dict_keys(['k', 'indices', 'file', 'id', 'model_name', 'patch_size', 'shape'])\n",
      "0547\n",
      "Starting Training\n",
      "epoch: 00, loss: -0.52708\n",
      "epoch: 01, loss: -0.66317\n",
      "epoch: 02, loss: -0.68326\n",
      "epoch: 03, loss: -0.70903\n",
      "epoch: 04, loss: -0.72487\n",
      "epoch: 05, loss: -0.74306\n",
      "epoch: 06, loss: -0.75511\n",
      "epoch: 07, loss: -0.74767\n",
      "epoch: 08, loss: -0.76546\n",
      "epoch: 09, loss: -0.76680\n",
      "After Unsqueezing, feature size= torch.Size([450, 1, 1, 384])\n"
     ]
    },
    {
     "name": "stderr",
     "output_type": "stream",
     "text": [
      " 55%|█████▍    | 547/1000 [2:55:59<2:22:41, 18.90s/it]"
     ]
    },
    {
     "name": "stdout",
     "output_type": "stream",
     "text": [
      "eigenvalues shape torch.Size([5]) eigenvectors shape torch.Size([5, 450])\n",
      "547 /home/phdcs2/Hard_Disk/Datasets/Deep-Spectral-Segmentation/data/object-segmentation/ECSSD/features/dino_vits16/0548.pth\n",
      "dict_keys(['k', 'indices', 'file', 'id', 'model_name', 'patch_size', 'shape'])\n",
      "0548\n",
      "Starting Training\n",
      "epoch: 00, loss: -0.49439\n",
      "epoch: 01, loss: -0.63834\n",
      "epoch: 02, loss: -0.66977\n",
      "epoch: 03, loss: -0.67085\n",
      "epoch: 04, loss: -0.68179\n",
      "epoch: 05, loss: -0.68341\n",
      "epoch: 06, loss: -0.69486\n",
      "epoch: 07, loss: -0.69925\n",
      "epoch: 08, loss: -0.70329\n",
      "epoch: 09, loss: -0.71079\n",
      "After Unsqueezing, feature size= torch.Size([425, 1, 1, 384])\n"
     ]
    },
    {
     "name": "stderr",
     "output_type": "stream",
     "text": [
      " 55%|█████▍    | 548/1000 [2:56:17<2:18:38, 18.40s/it]"
     ]
    },
    {
     "name": "stdout",
     "output_type": "stream",
     "text": [
      "eigenvalues shape torch.Size([5]) eigenvectors shape torch.Size([5, 425])\n",
      "548 /home/phdcs2/Hard_Disk/Datasets/Deep-Spectral-Segmentation/data/object-segmentation/ECSSD/features/dino_vits16/0549.pth\n",
      "dict_keys(['k', 'indices', 'file', 'id', 'model_name', 'patch_size', 'shape'])\n",
      "0549\n",
      "Starting Training\n",
      "epoch: 00, loss: -0.50431\n",
      "epoch: 01, loss: -0.66015\n",
      "epoch: 02, loss: -0.67956\n",
      "epoch: 03, loss: -0.69555\n",
      "epoch: 04, loss: -0.70908\n",
      "epoch: 05, loss: -0.73053\n",
      "epoch: 06, loss: -0.73360\n",
      "epoch: 07, loss: -0.73312\n",
      "epoch: 08, loss: -0.74105\n",
      "epoch: 09, loss: -0.73939\n",
      "After Unsqueezing, feature size= torch.Size([400, 1, 1, 384])\n"
     ]
    },
    {
     "name": "stderr",
     "output_type": "stream",
     "text": [
      " 55%|█████▍    | 549/1000 [2:56:34<2:15:37, 18.04s/it]"
     ]
    },
    {
     "name": "stdout",
     "output_type": "stream",
     "text": [
      "eigenvalues shape torch.Size([5]) eigenvectors shape torch.Size([5, 400])\n",
      "549 /home/phdcs2/Hard_Disk/Datasets/Deep-Spectral-Segmentation/data/object-segmentation/ECSSD/features/dino_vits16/0550.pth\n",
      "dict_keys(['k', 'indices', 'file', 'id', 'model_name', 'patch_size', 'shape'])\n",
      "0550\n",
      "Starting Training\n",
      "epoch: 00, loss: -0.55423\n",
      "epoch: 01, loss: -0.75259\n",
      "epoch: 02, loss: -0.78468\n",
      "epoch: 03, loss: -0.79991\n",
      "epoch: 04, loss: -0.80064\n",
      "epoch: 05, loss: -0.80695\n",
      "epoch: 06, loss: -0.82020\n",
      "epoch: 07, loss: -0.81883\n",
      "epoch: 08, loss: -0.80901\n",
      "epoch: 09, loss: -0.81506\n",
      "After Unsqueezing, feature size= torch.Size([425, 1, 1, 384])\n"
     ]
    },
    {
     "name": "stderr",
     "output_type": "stream",
     "text": [
      " 55%|█████▌    | 550/1000 [2:56:52<2:15:08, 18.02s/it]"
     ]
    },
    {
     "name": "stdout",
     "output_type": "stream",
     "text": [
      "eigenvalues shape torch.Size([5]) eigenvectors shape torch.Size([5, 425])\n",
      "550 /home/phdcs2/Hard_Disk/Datasets/Deep-Spectral-Segmentation/data/object-segmentation/ECSSD/features/dino_vits16/0551.pth\n",
      "dict_keys(['k', 'indices', 'file', 'id', 'model_name', 'patch_size', 'shape'])\n",
      "0551\n",
      "Starting Training\n",
      "epoch: 00, loss: -0.52125\n",
      "epoch: 01, loss: -0.69175\n",
      "epoch: 02, loss: -0.71131\n",
      "epoch: 03, loss: -0.71603\n",
      "epoch: 04, loss: -0.70466\n",
      "epoch: 05, loss: -0.72329\n",
      "epoch: 06, loss: -0.73345\n",
      "epoch: 07, loss: -0.73856\n",
      "epoch: 08, loss: -0.73489\n",
      "epoch: 09, loss: -0.74244\n",
      "After Unsqueezing, feature size= torch.Size([400, 1, 1, 384])\n"
     ]
    },
    {
     "name": "stderr",
     "output_type": "stream",
     "text": [
      " 55%|█████▌    | 551/1000 [2:57:09<2:13:00, 17.77s/it]"
     ]
    },
    {
     "name": "stdout",
     "output_type": "stream",
     "text": [
      "eigenvalues shape torch.Size([5]) eigenvectors shape torch.Size([5, 400])\n",
      "551 /home/phdcs2/Hard_Disk/Datasets/Deep-Spectral-Segmentation/data/object-segmentation/ECSSD/features/dino_vits16/0552.pth\n",
      "dict_keys(['k', 'indices', 'file', 'id', 'model_name', 'patch_size', 'shape'])\n",
      "0552\n",
      "Starting Training\n",
      "epoch: 00, loss: -0.57455\n",
      "epoch: 01, loss: -0.75859\n",
      "epoch: 02, loss: -0.78293\n",
      "epoch: 03, loss: -0.79059\n",
      "epoch: 04, loss: -0.80649\n",
      "epoch: 05, loss: -0.81893\n",
      "epoch: 06, loss: -0.81613\n",
      "epoch: 07, loss: -0.81343\n",
      "epoch: 08, loss: -0.82013\n",
      "epoch: 09, loss: -0.83626\n",
      "After Unsqueezing, feature size= torch.Size([400, 1, 1, 384])\n"
     ]
    },
    {
     "name": "stderr",
     "output_type": "stream",
     "text": [
      " 55%|█████▌    | 552/1000 [2:57:27<2:12:46, 17.78s/it]"
     ]
    },
    {
     "name": "stdout",
     "output_type": "stream",
     "text": [
      "eigenvalues shape torch.Size([5]) eigenvectors shape torch.Size([5, 400])\n",
      "552 /home/phdcs2/Hard_Disk/Datasets/Deep-Spectral-Segmentation/data/object-segmentation/ECSSD/features/dino_vits16/0553.pth\n",
      "dict_keys(['k', 'indices', 'file', 'id', 'model_name', 'patch_size', 'shape'])\n",
      "0553\n",
      "Starting Training\n",
      "epoch: 00, loss: -0.45347\n",
      "epoch: 01, loss: -0.57722\n",
      "epoch: 02, loss: -0.60364\n",
      "epoch: 03, loss: -0.62924\n",
      "epoch: 04, loss: -0.65097\n",
      "epoch: 05, loss: -0.65079\n",
      "epoch: 06, loss: -0.65989\n",
      "epoch: 07, loss: -0.66512\n",
      "epoch: 08, loss: -0.68610\n",
      "epoch: 09, loss: -0.68663\n",
      "After Unsqueezing, feature size= torch.Size([450, 1, 1, 384])\n"
     ]
    },
    {
     "name": "stderr",
     "output_type": "stream",
     "text": [
      " 55%|█████▌    | 553/1000 [2:57:47<2:17:23, 18.44s/it]"
     ]
    },
    {
     "name": "stdout",
     "output_type": "stream",
     "text": [
      "eigenvalues shape torch.Size([5]) eigenvectors shape torch.Size([5, 450])\n",
      "553 /home/phdcs2/Hard_Disk/Datasets/Deep-Spectral-Segmentation/data/object-segmentation/ECSSD/features/dino_vits16/0554.pth\n",
      "dict_keys(['k', 'indices', 'file', 'id', 'model_name', 'patch_size', 'shape'])\n",
      "0554\n",
      "Starting Training\n",
      "epoch: 00, loss: -0.56285\n",
      "epoch: 01, loss: -0.71576\n",
      "epoch: 02, loss: -0.73913\n",
      "epoch: 03, loss: -0.73119\n",
      "epoch: 04, loss: -0.73789\n",
      "epoch: 05, loss: -0.76198\n",
      "epoch: 06, loss: -0.76964\n",
      "epoch: 07, loss: -0.76635\n",
      "epoch: 08, loss: -0.77934\n",
      "epoch: 09, loss: -0.78486\n",
      "After Unsqueezing, feature size= torch.Size([450, 1, 1, 384])\n"
     ]
    },
    {
     "name": "stderr",
     "output_type": "stream",
     "text": [
      " 55%|█████▌    | 554/1000 [2:58:09<2:25:09, 19.53s/it]"
     ]
    },
    {
     "name": "stdout",
     "output_type": "stream",
     "text": [
      "eigenvalues shape torch.Size([5]) eigenvectors shape torch.Size([5, 450])\n",
      "554 /home/phdcs2/Hard_Disk/Datasets/Deep-Spectral-Segmentation/data/object-segmentation/ECSSD/features/dino_vits16/0555.pth\n",
      "dict_keys(['k', 'indices', 'file', 'id', 'model_name', 'patch_size', 'shape'])\n",
      "0555\n",
      "Starting Training\n",
      "epoch: 00, loss: -0.58406\n",
      "epoch: 01, loss: -0.72697\n",
      "epoch: 02, loss: -0.73389\n",
      "epoch: 03, loss: -0.75264\n",
      "epoch: 04, loss: -0.76689\n",
      "epoch: 05, loss: -0.77935\n",
      "epoch: 06, loss: -0.79163\n",
      "epoch: 07, loss: -0.80069\n",
      "epoch: 08, loss: -0.81394\n",
      "epoch: 09, loss: -0.81650\n",
      "After Unsqueezing, feature size= torch.Size([500, 1, 1, 384])\n"
     ]
    },
    {
     "name": "stderr",
     "output_type": "stream",
     "text": [
      " 56%|█████▌    | 555/1000 [2:58:30<2:28:56, 20.08s/it]"
     ]
    },
    {
     "name": "stdout",
     "output_type": "stream",
     "text": [
      "eigenvalues shape torch.Size([5]) eigenvectors shape torch.Size([5, 500])\n",
      "555 /home/phdcs2/Hard_Disk/Datasets/Deep-Spectral-Segmentation/data/object-segmentation/ECSSD/features/dino_vits16/0556.pth\n",
      "dict_keys(['k', 'indices', 'file', 'id', 'model_name', 'patch_size', 'shape'])\n",
      "0556\n",
      "Starting Training\n",
      "epoch: 00, loss: -0.46724\n",
      "epoch: 01, loss: -0.58336\n",
      "epoch: 02, loss: -0.60594\n",
      "epoch: 03, loss: -0.61003\n",
      "epoch: 04, loss: -0.62485\n",
      "epoch: 05, loss: -0.63329\n",
      "epoch: 06, loss: -0.62149\n",
      "epoch: 07, loss: -0.61375\n",
      "epoch: 08, loss: -0.60789\n",
      "epoch: 09, loss: -0.60008\n",
      "After Unsqueezing, feature size= torch.Size([525, 1, 1, 384])\n"
     ]
    },
    {
     "name": "stderr",
     "output_type": "stream",
     "text": [
      " 56%|█████▌    | 556/1000 [2:58:53<2:34:45, 20.91s/it]"
     ]
    },
    {
     "name": "stdout",
     "output_type": "stream",
     "text": [
      "eigenvalues shape torch.Size([5]) eigenvectors shape torch.Size([5, 525])\n",
      "556 /home/phdcs2/Hard_Disk/Datasets/Deep-Spectral-Segmentation/data/object-segmentation/ECSSD/features/dino_vits16/0557.pth\n",
      "dict_keys(['k', 'indices', 'file', 'id', 'model_name', 'patch_size', 'shape'])\n",
      "0557\n",
      "Starting Training\n",
      "epoch: 00, loss: -0.51602\n",
      "epoch: 01, loss: -0.63809\n",
      "epoch: 02, loss: -0.65649\n",
      "epoch: 03, loss: -0.67405\n",
      "epoch: 04, loss: -0.69357\n",
      "epoch: 05, loss: -0.68362\n",
      "epoch: 06, loss: -0.68938\n",
      "epoch: 07, loss: -0.71147\n",
      "epoch: 08, loss: -0.70860\n",
      "epoch: 09, loss: -0.68901\n",
      "After Unsqueezing, feature size= torch.Size([450, 1, 1, 384])\n"
     ]
    },
    {
     "name": "stderr",
     "output_type": "stream",
     "text": [
      " 56%|█████▌    | 557/1000 [2:59:14<2:33:11, 20.75s/it]"
     ]
    },
    {
     "name": "stdout",
     "output_type": "stream",
     "text": [
      "eigenvalues shape torch.Size([5]) eigenvectors shape torch.Size([5, 450])\n",
      "557 /home/phdcs2/Hard_Disk/Datasets/Deep-Spectral-Segmentation/data/object-segmentation/ECSSD/features/dino_vits16/0558.pth\n",
      "dict_keys(['k', 'indices', 'file', 'id', 'model_name', 'patch_size', 'shape'])\n",
      "0558\n",
      "Starting Training\n",
      "epoch: 00, loss: -0.53001\n",
      "epoch: 01, loss: -0.68819\n",
      "epoch: 02, loss: -0.71148\n",
      "epoch: 03, loss: -0.71588\n",
      "epoch: 04, loss: -0.72676\n",
      "epoch: 05, loss: -0.73179\n",
      "epoch: 06, loss: -0.73194\n",
      "epoch: 07, loss: -0.73613\n",
      "epoch: 08, loss: -0.75841\n",
      "epoch: 09, loss: -0.75258\n",
      "After Unsqueezing, feature size= torch.Size([400, 1, 1, 384])\n"
     ]
    },
    {
     "name": "stderr",
     "output_type": "stream",
     "text": [
      " 56%|█████▌    | 558/1000 [2:59:32<2:28:47, 20.20s/it]"
     ]
    },
    {
     "name": "stdout",
     "output_type": "stream",
     "text": [
      "eigenvalues shape torch.Size([5]) eigenvectors shape torch.Size([5, 400])\n",
      "558 /home/phdcs2/Hard_Disk/Datasets/Deep-Spectral-Segmentation/data/object-segmentation/ECSSD/features/dino_vits16/0559.pth\n",
      "dict_keys(['k', 'indices', 'file', 'id', 'model_name', 'patch_size', 'shape'])\n",
      "0559\n",
      "Starting Training\n",
      "epoch: 00, loss: -0.52474\n",
      "epoch: 01, loss: -0.64728\n",
      "epoch: 02, loss: -0.66465\n",
      "epoch: 03, loss: -0.65006\n",
      "epoch: 04, loss: -0.65348\n",
      "epoch: 05, loss: -0.66451\n",
      "epoch: 06, loss: -0.67223\n",
      "epoch: 07, loss: -0.68760\n",
      "epoch: 08, loss: -0.69355\n",
      "epoch: 09, loss: -0.69722\n",
      "After Unsqueezing, feature size= torch.Size([400, 1, 1, 384])\n"
     ]
    },
    {
     "name": "stderr",
     "output_type": "stream",
     "text": [
      " 56%|█████▌    | 559/1000 [2:59:48<2:18:45, 18.88s/it]"
     ]
    },
    {
     "name": "stdout",
     "output_type": "stream",
     "text": [
      "eigenvalues shape torch.Size([5]) eigenvectors shape torch.Size([5, 400])\n",
      "559 /home/phdcs2/Hard_Disk/Datasets/Deep-Spectral-Segmentation/data/object-segmentation/ECSSD/features/dino_vits16/0560.pth\n",
      "dict_keys(['k', 'indices', 'file', 'id', 'model_name', 'patch_size', 'shape'])\n",
      "0560\n",
      "Starting Training\n",
      "epoch: 00, loss: -0.52250\n",
      "epoch: 01, loss: -0.67854\n",
      "epoch: 02, loss: -0.68153\n",
      "epoch: 03, loss: -0.69329\n",
      "epoch: 04, loss: -0.69372\n",
      "epoch: 05, loss: -0.69563\n",
      "epoch: 06, loss: -0.69052\n",
      "epoch: 07, loss: -0.69638\n",
      "epoch: 08, loss: -0.70548\n",
      "epoch: 09, loss: -0.71444\n",
      "After Unsqueezing, feature size= torch.Size([400, 1, 1, 384])\n"
     ]
    },
    {
     "name": "stderr",
     "output_type": "stream",
     "text": [
      " 56%|█████▌    | 560/1000 [3:00:05<2:13:08, 18.16s/it]"
     ]
    },
    {
     "name": "stdout",
     "output_type": "stream",
     "text": [
      "eigenvalues shape torch.Size([5]) eigenvectors shape torch.Size([5, 400])\n",
      "560 /home/phdcs2/Hard_Disk/Datasets/Deep-Spectral-Segmentation/data/object-segmentation/ECSSD/features/dino_vits16/0561.pth\n",
      "dict_keys(['k', 'indices', 'file', 'id', 'model_name', 'patch_size', 'shape'])\n",
      "0561\n",
      "Starting Training\n",
      "epoch: 00, loss: -0.46400\n",
      "epoch: 01, loss: -0.64651\n",
      "epoch: 02, loss: -0.68516\n",
      "epoch: 03, loss: -0.68076\n",
      "epoch: 04, loss: -0.70251\n",
      "epoch: 05, loss: -0.71470\n",
      "epoch: 06, loss: -0.72540\n",
      "epoch: 07, loss: -0.73467\n",
      "epoch: 08, loss: -0.74683\n",
      "epoch: 09, loss: -0.73760\n",
      "After Unsqueezing, feature size= torch.Size([450, 1, 1, 384])\n"
     ]
    },
    {
     "name": "stderr",
     "output_type": "stream",
     "text": [
      " 56%|█████▌    | 561/1000 [3:00:24<2:15:55, 18.58s/it]"
     ]
    },
    {
     "name": "stdout",
     "output_type": "stream",
     "text": [
      "eigenvalues shape torch.Size([5]) eigenvectors shape torch.Size([5, 450])\n",
      "561 /home/phdcs2/Hard_Disk/Datasets/Deep-Spectral-Segmentation/data/object-segmentation/ECSSD/features/dino_vits16/0562.pth\n",
      "dict_keys(['k', 'indices', 'file', 'id', 'model_name', 'patch_size', 'shape'])\n",
      "0562\n",
      "Starting Training\n",
      "epoch: 00, loss: -0.54852\n",
      "epoch: 01, loss: -0.70096\n",
      "epoch: 02, loss: -0.71314\n",
      "epoch: 03, loss: -0.73058\n",
      "epoch: 04, loss: -0.73900\n",
      "epoch: 05, loss: -0.74126\n",
      "epoch: 06, loss: -0.74617\n",
      "epoch: 07, loss: -0.74569\n",
      "epoch: 08, loss: -0.75811\n",
      "epoch: 09, loss: -0.75857\n",
      "After Unsqueezing, feature size= torch.Size([400, 1, 1, 384])\n"
     ]
    },
    {
     "name": "stderr",
     "output_type": "stream",
     "text": [
      " 56%|█████▌    | 562/1000 [3:00:41<2:11:09, 17.97s/it]"
     ]
    },
    {
     "name": "stdout",
     "output_type": "stream",
     "text": [
      "eigenvalues shape torch.Size([5]) eigenvectors shape torch.Size([5, 400])\n",
      "562 /home/phdcs2/Hard_Disk/Datasets/Deep-Spectral-Segmentation/data/object-segmentation/ECSSD/features/dino_vits16/0563.pth\n",
      "dict_keys(['k', 'indices', 'file', 'id', 'model_name', 'patch_size', 'shape'])\n",
      "0563\n",
      "Starting Training\n",
      "epoch: 00, loss: -0.46150\n",
      "epoch: 01, loss: -0.60884\n",
      "epoch: 02, loss: -0.63485\n",
      "epoch: 03, loss: -0.64512\n",
      "epoch: 04, loss: -0.65510\n",
      "epoch: 05, loss: -0.66056\n",
      "epoch: 06, loss: -0.66290\n",
      "epoch: 07, loss: -0.66244\n",
      "epoch: 08, loss: -0.65028\n",
      "epoch: 09, loss: -0.64105\n",
      "After Unsqueezing, feature size= torch.Size([450, 1, 1, 384])\n"
     ]
    },
    {
     "name": "stderr",
     "output_type": "stream",
     "text": [
      " 56%|█████▋    | 563/1000 [3:01:00<2:14:23, 18.45s/it]"
     ]
    },
    {
     "name": "stdout",
     "output_type": "stream",
     "text": [
      "eigenvalues shape torch.Size([5]) eigenvectors shape torch.Size([5, 450])\n",
      "563 /home/phdcs2/Hard_Disk/Datasets/Deep-Spectral-Segmentation/data/object-segmentation/ECSSD/features/dino_vits16/0564.pth\n",
      "dict_keys(['k', 'indices', 'file', 'id', 'model_name', 'patch_size', 'shape'])\n",
      "0564\n",
      "Starting Training\n",
      "epoch: 00, loss: -0.51596\n",
      "epoch: 01, loss: -0.64821\n",
      "epoch: 02, loss: -0.65597\n",
      "epoch: 03, loss: -0.65126\n",
      "epoch: 04, loss: -0.66084\n",
      "epoch: 05, loss: -0.65819\n",
      "epoch: 06, loss: -0.66746\n",
      "epoch: 07, loss: -0.67918\n",
      "epoch: 08, loss: -0.68780\n",
      "epoch: 09, loss: -0.70871\n",
      "After Unsqueezing, feature size= torch.Size([450, 1, 1, 384])\n"
     ]
    },
    {
     "name": "stderr",
     "output_type": "stream",
     "text": [
      " 56%|█████▋    | 564/1000 [3:01:20<2:15:38, 18.67s/it]"
     ]
    },
    {
     "name": "stdout",
     "output_type": "stream",
     "text": [
      "eigenvalues shape torch.Size([5]) eigenvectors shape torch.Size([5, 450])\n",
      "564 /home/phdcs2/Hard_Disk/Datasets/Deep-Spectral-Segmentation/data/object-segmentation/ECSSD/features/dino_vits16/0565.pth\n",
      "dict_keys(['k', 'indices', 'file', 'id', 'model_name', 'patch_size', 'shape'])\n",
      "0565\n",
      "Starting Training\n",
      "epoch: 00, loss: -0.50479\n",
      "epoch: 01, loss: -0.67296\n",
      "epoch: 02, loss: -0.70204\n",
      "epoch: 03, loss: -0.72297\n",
      "epoch: 04, loss: -0.72550\n",
      "epoch: 05, loss: -0.71973\n",
      "epoch: 06, loss: -0.71071\n",
      "epoch: 07, loss: -0.70056\n",
      "epoch: 08, loss: -0.69991\n",
      "epoch: 09, loss: -0.71031\n",
      "After Unsqueezing, feature size= torch.Size([450, 1, 1, 384])\n"
     ]
    },
    {
     "name": "stderr",
     "output_type": "stream",
     "text": [
      " 56%|█████▋    | 565/1000 [3:01:39<2:16:37, 18.84s/it]"
     ]
    },
    {
     "name": "stdout",
     "output_type": "stream",
     "text": [
      "eigenvalues shape torch.Size([5]) eigenvectors shape torch.Size([5, 450])\n",
      "565 /home/phdcs2/Hard_Disk/Datasets/Deep-Spectral-Segmentation/data/object-segmentation/ECSSD/features/dino_vits16/0566.pth\n",
      "dict_keys(['k', 'indices', 'file', 'id', 'model_name', 'patch_size', 'shape'])\n",
      "0566\n",
      "Starting Training\n",
      "epoch: 00, loss: -0.55265\n",
      "epoch: 01, loss: -0.69301\n",
      "epoch: 02, loss: -0.70808\n",
      "epoch: 03, loss: -0.72022\n",
      "epoch: 04, loss: -0.73419\n",
      "epoch: 05, loss: -0.75510\n",
      "epoch: 06, loss: -0.76613\n",
      "epoch: 07, loss: -0.78055\n",
      "epoch: 08, loss: -0.78422\n",
      "epoch: 09, loss: -0.78827\n",
      "After Unsqueezing, feature size= torch.Size([450, 1, 1, 384])\n"
     ]
    },
    {
     "name": "stderr",
     "output_type": "stream",
     "text": [
      " 57%|█████▋    | 566/1000 [3:01:58<2:17:30, 19.01s/it]"
     ]
    },
    {
     "name": "stdout",
     "output_type": "stream",
     "text": [
      "eigenvalues shape torch.Size([5]) eigenvectors shape torch.Size([5, 450])\n",
      "566 /home/phdcs2/Hard_Disk/Datasets/Deep-Spectral-Segmentation/data/object-segmentation/ECSSD/features/dino_vits16/0567.pth\n",
      "dict_keys(['k', 'indices', 'file', 'id', 'model_name', 'patch_size', 'shape'])\n",
      "0567\n",
      "Starting Training\n",
      "epoch: 00, loss: -0.58805\n",
      "epoch: 01, loss: -0.75437\n",
      "epoch: 02, loss: -0.79889\n",
      "epoch: 03, loss: -0.80035\n",
      "epoch: 04, loss: -0.81488\n",
      "epoch: 05, loss: -0.82953\n",
      "epoch: 06, loss: -0.83880\n",
      "epoch: 07, loss: -0.84508\n",
      "epoch: 08, loss: -0.84678\n",
      "epoch: 09, loss: -0.84353\n",
      "After Unsqueezing, feature size= torch.Size([400, 1, 1, 384])\n"
     ]
    },
    {
     "name": "stderr",
     "output_type": "stream",
     "text": [
      " 57%|█████▋    | 567/1000 [3:02:16<2:14:39, 18.66s/it]"
     ]
    },
    {
     "name": "stdout",
     "output_type": "stream",
     "text": [
      "eigenvalues shape torch.Size([5]) eigenvectors shape torch.Size([5, 400])\n",
      "567 /home/phdcs2/Hard_Disk/Datasets/Deep-Spectral-Segmentation/data/object-segmentation/ECSSD/features/dino_vits16/0568.pth\n",
      "dict_keys(['k', 'indices', 'file', 'id', 'model_name', 'patch_size', 'shape'])\n",
      "0568\n",
      "Starting Training\n",
      "epoch: 00, loss: -0.52872\n",
      "epoch: 01, loss: -0.68093\n",
      "epoch: 02, loss: -0.70733\n",
      "epoch: 03, loss: -0.71512\n",
      "epoch: 04, loss: -0.71484\n",
      "epoch: 05, loss: -0.71487\n",
      "epoch: 06, loss: -0.72010\n",
      "epoch: 07, loss: -0.72395\n",
      "epoch: 08, loss: -0.73315\n",
      "epoch: 09, loss: -0.74001\n",
      "After Unsqueezing, feature size= torch.Size([375, 1, 1, 384])\n"
     ]
    },
    {
     "name": "stderr",
     "output_type": "stream",
     "text": [
      " 57%|█████▋    | 568/1000 [3:02:32<2:07:57, 17.77s/it]"
     ]
    },
    {
     "name": "stdout",
     "output_type": "stream",
     "text": [
      "eigenvalues shape torch.Size([5]) eigenvectors shape torch.Size([5, 375])\n",
      "568 /home/phdcs2/Hard_Disk/Datasets/Deep-Spectral-Segmentation/data/object-segmentation/ECSSD/features/dino_vits16/0569.pth\n",
      "dict_keys(['k', 'indices', 'file', 'id', 'model_name', 'patch_size', 'shape'])\n",
      "0569\n",
      "Starting Training\n",
      "epoch: 00, loss: -0.44447\n",
      "epoch: 01, loss: -0.55854\n",
      "epoch: 02, loss: -0.58485\n",
      "epoch: 03, loss: -0.61528\n",
      "epoch: 04, loss: -0.63554\n",
      "epoch: 05, loss: -0.65481\n",
      "epoch: 06, loss: -0.68138\n",
      "epoch: 07, loss: -0.66395\n",
      "epoch: 08, loss: -0.67745\n",
      "epoch: 09, loss: -0.68265\n",
      "After Unsqueezing, feature size= torch.Size([400, 1, 1, 384])\n"
     ]
    },
    {
     "name": "stderr",
     "output_type": "stream",
     "text": [
      " 57%|█████▋    | 569/1000 [3:02:48<2:05:03, 17.41s/it]"
     ]
    },
    {
     "name": "stdout",
     "output_type": "stream",
     "text": [
      "eigenvalues shape torch.Size([5]) eigenvectors shape torch.Size([5, 400])\n",
      "569 /home/phdcs2/Hard_Disk/Datasets/Deep-Spectral-Segmentation/data/object-segmentation/ECSSD/features/dino_vits16/0570.pth\n",
      "dict_keys(['k', 'indices', 'file', 'id', 'model_name', 'patch_size', 'shape'])\n",
      "0570\n",
      "Starting Training\n",
      "epoch: 00, loss: -0.49177\n",
      "epoch: 01, loss: -0.64468\n",
      "epoch: 02, loss: -0.67686\n",
      "epoch: 03, loss: -0.69410\n",
      "epoch: 04, loss: -0.72177\n",
      "epoch: 05, loss: -0.72436\n",
      "epoch: 06, loss: -0.70672\n",
      "epoch: 07, loss: -0.72469\n",
      "epoch: 08, loss: -0.74236\n",
      "epoch: 09, loss: -0.73873\n",
      "After Unsqueezing, feature size= torch.Size([450, 1, 1, 384])\n"
     ]
    },
    {
     "name": "stderr",
     "output_type": "stream",
     "text": [
      " 57%|█████▋    | 570/1000 [3:03:07<2:08:20, 17.91s/it]"
     ]
    },
    {
     "name": "stdout",
     "output_type": "stream",
     "text": [
      "eigenvalues shape torch.Size([5]) eigenvectors shape torch.Size([5, 450])\n",
      "570 /home/phdcs2/Hard_Disk/Datasets/Deep-Spectral-Segmentation/data/object-segmentation/ECSSD/features/dino_vits16/0571.pth\n",
      "dict_keys(['k', 'indices', 'file', 'id', 'model_name', 'patch_size', 'shape'])\n",
      "0571\n",
      "Starting Training\n",
      "epoch: 00, loss: -0.54324\n",
      "epoch: 01, loss: -0.66230\n",
      "epoch: 02, loss: -0.68142\n",
      "epoch: 03, loss: -0.67960\n",
      "epoch: 04, loss: -0.68814\n",
      "epoch: 05, loss: -0.71479\n",
      "epoch: 06, loss: -0.72949\n",
      "epoch: 07, loss: -0.74800\n",
      "epoch: 08, loss: -0.75429\n",
      "epoch: 09, loss: -0.73212\n",
      "After Unsqueezing, feature size= torch.Size([450, 1, 1, 384])\n"
     ]
    },
    {
     "name": "stderr",
     "output_type": "stream",
     "text": [
      " 57%|█████▋    | 571/1000 [3:03:25<2:08:29, 17.97s/it]"
     ]
    },
    {
     "name": "stdout",
     "output_type": "stream",
     "text": [
      "eigenvalues shape torch.Size([5]) eigenvectors shape torch.Size([5, 450])\n",
      "571 /home/phdcs2/Hard_Disk/Datasets/Deep-Spectral-Segmentation/data/object-segmentation/ECSSD/features/dino_vits16/0572.pth\n",
      "dict_keys(['k', 'indices', 'file', 'id', 'model_name', 'patch_size', 'shape'])\n",
      "0572\n",
      "Starting Training\n",
      "epoch: 00, loss: -0.54497\n",
      "epoch: 01, loss: -0.69400\n",
      "epoch: 02, loss: -0.70931\n",
      "epoch: 03, loss: -0.72038\n",
      "epoch: 04, loss: -0.72743\n",
      "epoch: 05, loss: -0.72305\n",
      "epoch: 06, loss: -0.71672\n",
      "epoch: 07, loss: -0.72284\n",
      "epoch: 08, loss: -0.71947\n",
      "epoch: 09, loss: -0.72767\n",
      "After Unsqueezing, feature size= torch.Size([400, 1, 1, 384])\n"
     ]
    },
    {
     "name": "stderr",
     "output_type": "stream",
     "text": [
      " 57%|█████▋    | 572/1000 [3:03:44<2:08:31, 18.02s/it]"
     ]
    },
    {
     "name": "stdout",
     "output_type": "stream",
     "text": [
      "eigenvalues shape torch.Size([5]) eigenvectors shape torch.Size([5, 400])\n",
      "572 /home/phdcs2/Hard_Disk/Datasets/Deep-Spectral-Segmentation/data/object-segmentation/ECSSD/features/dino_vits16/0573.pth\n",
      "dict_keys(['k', 'indices', 'file', 'id', 'model_name', 'patch_size', 'shape'])\n",
      "0573\n",
      "Starting Training\n",
      "epoch: 00, loss: -0.44144\n",
      "epoch: 01, loss: -0.56832\n",
      "epoch: 02, loss: -0.60173\n",
      "epoch: 03, loss: -0.62067\n",
      "epoch: 04, loss: -0.63509\n",
      "epoch: 05, loss: -0.64875\n",
      "epoch: 06, loss: -0.64770\n",
      "epoch: 07, loss: -0.67186\n",
      "epoch: 08, loss: -0.67800\n",
      "epoch: 09, loss: -0.69004\n",
      "After Unsqueezing, feature size= torch.Size([525, 1, 1, 384])\n"
     ]
    },
    {
     "name": "stderr",
     "output_type": "stream",
     "text": [
      " 57%|█████▋    | 573/1000 [3:04:05<2:16:05, 19.12s/it]"
     ]
    },
    {
     "name": "stdout",
     "output_type": "stream",
     "text": [
      "eigenvalues shape torch.Size([5]) eigenvectors shape torch.Size([5, 525])\n",
      "573 /home/phdcs2/Hard_Disk/Datasets/Deep-Spectral-Segmentation/data/object-segmentation/ECSSD/features/dino_vits16/0574.pth\n",
      "dict_keys(['k', 'indices', 'file', 'id', 'model_name', 'patch_size', 'shape'])\n",
      "0574\n",
      "Starting Training\n",
      "epoch: 00, loss: -0.45876\n",
      "epoch: 01, loss: -0.63153\n",
      "epoch: 02, loss: -0.63969\n",
      "epoch: 03, loss: -0.64498\n",
      "epoch: 04, loss: -0.65285\n",
      "epoch: 05, loss: -0.66978\n",
      "epoch: 06, loss: -0.67333\n",
      "epoch: 07, loss: -0.67896\n",
      "epoch: 08, loss: -0.67755\n",
      "epoch: 09, loss: -0.69831\n",
      "After Unsqueezing, feature size= torch.Size([400, 1, 1, 384])\n"
     ]
    },
    {
     "name": "stderr",
     "output_type": "stream",
     "text": [
      " 57%|█████▋    | 574/1000 [3:04:23<2:13:27, 18.80s/it]"
     ]
    },
    {
     "name": "stdout",
     "output_type": "stream",
     "text": [
      "eigenvalues shape torch.Size([5]) eigenvectors shape torch.Size([5, 400])\n",
      "574 /home/phdcs2/Hard_Disk/Datasets/Deep-Spectral-Segmentation/data/object-segmentation/ECSSD/features/dino_vits16/0575.pth\n",
      "dict_keys(['k', 'indices', 'file', 'id', 'model_name', 'patch_size', 'shape'])\n",
      "0575\n",
      "Starting Training\n",
      "epoch: 00, loss: -0.48115\n",
      "epoch: 01, loss: -0.58746\n",
      "epoch: 02, loss: -0.62199\n",
      "epoch: 03, loss: -0.62964\n",
      "epoch: 04, loss: -0.65259\n",
      "epoch: 05, loss: -0.65462\n",
      "epoch: 06, loss: -0.67723\n",
      "epoch: 07, loss: -0.68948\n",
      "epoch: 08, loss: -0.69061\n",
      "epoch: 09, loss: -0.68821\n",
      "After Unsqueezing, feature size= torch.Size([475, 1, 1, 384])\n"
     ]
    },
    {
     "name": "stderr",
     "output_type": "stream",
     "text": [
      " 57%|█████▊    | 575/1000 [3:04:45<2:19:06, 19.64s/it]"
     ]
    },
    {
     "name": "stdout",
     "output_type": "stream",
     "text": [
      "eigenvalues shape torch.Size([5]) eigenvectors shape torch.Size([5, 475])\n",
      "575 /home/phdcs2/Hard_Disk/Datasets/Deep-Spectral-Segmentation/data/object-segmentation/ECSSD/features/dino_vits16/0576.pth\n",
      "dict_keys(['k', 'indices', 'file', 'id', 'model_name', 'patch_size', 'shape'])\n",
      "0576\n",
      "Starting Training\n",
      "epoch: 00, loss: -0.45936\n",
      "epoch: 01, loss: -0.59703\n",
      "epoch: 02, loss: -0.61097\n",
      "epoch: 03, loss: -0.61979\n",
      "epoch: 04, loss: -0.61640\n",
      "epoch: 05, loss: -0.61361\n",
      "epoch: 06, loss: -0.63225\n",
      "epoch: 07, loss: -0.63941\n",
      "epoch: 08, loss: -0.63495\n",
      "epoch: 09, loss: -0.63717\n",
      "After Unsqueezing, feature size= torch.Size([475, 1, 1, 384])\n"
     ]
    },
    {
     "name": "stderr",
     "output_type": "stream",
     "text": [
      " 58%|█████▊    | 576/1000 [3:05:07<2:22:50, 20.21s/it]"
     ]
    },
    {
     "name": "stdout",
     "output_type": "stream",
     "text": [
      "eigenvalues shape torch.Size([5]) eigenvectors shape torch.Size([5, 475])\n",
      "576 /home/phdcs2/Hard_Disk/Datasets/Deep-Spectral-Segmentation/data/object-segmentation/ECSSD/features/dino_vits16/0577.pth\n",
      "dict_keys(['k', 'indices', 'file', 'id', 'model_name', 'patch_size', 'shape'])\n",
      "0577\n",
      "Starting Training\n",
      "epoch: 00, loss: -0.46417\n",
      "epoch: 01, loss: -0.57901\n",
      "epoch: 02, loss: -0.59536\n",
      "epoch: 03, loss: -0.60851\n",
      "epoch: 04, loss: -0.62010\n",
      "epoch: 05, loss: -0.64141\n",
      "epoch: 06, loss: -0.65629\n",
      "epoch: 07, loss: -0.68223\n",
      "epoch: 08, loss: -0.69423\n",
      "epoch: 09, loss: -0.70240\n",
      "After Unsqueezing, feature size= torch.Size([450, 1, 1, 384])\n"
     ]
    },
    {
     "name": "stderr",
     "output_type": "stream",
     "text": [
      " 58%|█████▊    | 577/1000 [3:05:28<2:25:35, 20.65s/it]"
     ]
    },
    {
     "name": "stdout",
     "output_type": "stream",
     "text": [
      "eigenvalues shape torch.Size([5]) eigenvectors shape torch.Size([5, 450])\n",
      "577 /home/phdcs2/Hard_Disk/Datasets/Deep-Spectral-Segmentation/data/object-segmentation/ECSSD/features/dino_vits16/0578.pth\n",
      "dict_keys(['k', 'indices', 'file', 'id', 'model_name', 'patch_size', 'shape'])\n",
      "0578\n",
      "Starting Training\n",
      "epoch: 00, loss: -0.57540\n",
      "epoch: 01, loss: -0.68276\n",
      "epoch: 02, loss: -0.67143\n",
      "epoch: 03, loss: -0.69505\n",
      "epoch: 04, loss: -0.71454\n",
      "epoch: 05, loss: -0.73360\n",
      "epoch: 06, loss: -0.74800\n",
      "epoch: 07, loss: -0.73985\n",
      "epoch: 08, loss: -0.72392\n",
      "epoch: 09, loss: -0.73365\n",
      "After Unsqueezing, feature size= torch.Size([625, 1, 1, 384])\n"
     ]
    },
    {
     "name": "stderr",
     "output_type": "stream",
     "text": [
      " 58%|█████▊    | 578/1000 [3:05:57<2:42:28, 23.10s/it]"
     ]
    },
    {
     "name": "stdout",
     "output_type": "stream",
     "text": [
      "eigenvalues shape torch.Size([5]) eigenvectors shape torch.Size([5, 625])\n",
      "578 /home/phdcs2/Hard_Disk/Datasets/Deep-Spectral-Segmentation/data/object-segmentation/ECSSD/features/dino_vits16/0579.pth\n",
      "dict_keys(['k', 'indices', 'file', 'id', 'model_name', 'patch_size', 'shape'])\n",
      "0579\n",
      "Starting Training\n",
      "epoch: 00, loss: -0.55659\n",
      "epoch: 01, loss: -0.67887\n",
      "epoch: 02, loss: -0.70759\n",
      "epoch: 03, loss: -0.73017\n",
      "epoch: 04, loss: -0.73131\n",
      "epoch: 05, loss: -0.74574\n",
      "epoch: 06, loss: -0.74072\n",
      "epoch: 07, loss: -0.74809\n",
      "epoch: 08, loss: -0.74037\n",
      "epoch: 09, loss: -0.74391\n",
      "After Unsqueezing, feature size= torch.Size([375, 1, 1, 384])\n"
     ]
    },
    {
     "name": "stderr",
     "output_type": "stream",
     "text": [
      " 58%|█████▊    | 579/1000 [3:06:12<2:25:41, 20.76s/it]"
     ]
    },
    {
     "name": "stdout",
     "output_type": "stream",
     "text": [
      "eigenvalues shape torch.Size([5]) eigenvectors shape torch.Size([5, 375])\n",
      "579 /home/phdcs2/Hard_Disk/Datasets/Deep-Spectral-Segmentation/data/object-segmentation/ECSSD/features/dino_vits16/0580.pth\n",
      "dict_keys(['k', 'indices', 'file', 'id', 'model_name', 'patch_size', 'shape'])\n",
      "0580\n",
      "Starting Training\n",
      "epoch: 00, loss: -0.56204\n",
      "epoch: 01, loss: -0.73172\n",
      "epoch: 02, loss: -0.75595\n",
      "epoch: 03, loss: -0.76945\n",
      "epoch: 04, loss: -0.76886\n",
      "epoch: 05, loss: -0.77355\n",
      "epoch: 06, loss: -0.78878\n",
      "epoch: 07, loss: -0.79673\n",
      "epoch: 08, loss: -0.80406\n",
      "epoch: 09, loss: -0.80197\n",
      "After Unsqueezing, feature size= torch.Size([400, 1, 1, 384])\n"
     ]
    },
    {
     "name": "stderr",
     "output_type": "stream",
     "text": [
      " 58%|█████▊    | 580/1000 [3:06:29<2:17:38, 19.66s/it]"
     ]
    },
    {
     "name": "stdout",
     "output_type": "stream",
     "text": [
      "eigenvalues shape torch.Size([5]) eigenvectors shape torch.Size([5, 400])\n",
      "580 /home/phdcs2/Hard_Disk/Datasets/Deep-Spectral-Segmentation/data/object-segmentation/ECSSD/features/dino_vits16/0581.pth\n",
      "dict_keys(['k', 'indices', 'file', 'id', 'model_name', 'patch_size', 'shape'])\n",
      "0581\n",
      "Starting Training\n",
      "epoch: 00, loss: -0.46233\n",
      "epoch: 01, loss: -0.65023\n",
      "epoch: 02, loss: -0.67531\n",
      "epoch: 03, loss: -0.68838\n",
      "epoch: 04, loss: -0.69553\n",
      "epoch: 05, loss: -0.69804\n",
      "epoch: 06, loss: -0.68902\n",
      "epoch: 07, loss: -0.68032\n",
      "epoch: 08, loss: -0.67809\n",
      "epoch: 09, loss: -0.67077\n",
      "After Unsqueezing, feature size= torch.Size([400, 1, 1, 384])\n"
     ]
    },
    {
     "name": "stderr",
     "output_type": "stream",
     "text": [
      " 58%|█████▊    | 581/1000 [3:06:46<2:11:12, 18.79s/it]"
     ]
    },
    {
     "name": "stdout",
     "output_type": "stream",
     "text": [
      "eigenvalues shape torch.Size([5]) eigenvectors shape torch.Size([5, 400])\n",
      "581 /home/phdcs2/Hard_Disk/Datasets/Deep-Spectral-Segmentation/data/object-segmentation/ECSSD/features/dino_vits16/0582.pth\n",
      "dict_keys(['k', 'indices', 'file', 'id', 'model_name', 'patch_size', 'shape'])\n",
      "0582\n",
      "Starting Training\n",
      "epoch: 00, loss: -0.47652\n",
      "epoch: 01, loss: -0.64004\n",
      "epoch: 02, loss: -0.65806\n",
      "epoch: 03, loss: -0.66632\n",
      "epoch: 04, loss: -0.68438\n",
      "epoch: 05, loss: -0.68105\n",
      "epoch: 06, loss: -0.68268\n",
      "epoch: 07, loss: -0.68507\n",
      "epoch: 08, loss: -0.70907\n",
      "epoch: 09, loss: -0.72816\n",
      "After Unsqueezing, feature size= torch.Size([400, 1, 1, 384])\n"
     ]
    },
    {
     "name": "stderr",
     "output_type": "stream",
     "text": [
      " 58%|█████▊    | 582/1000 [3:07:04<2:09:55, 18.65s/it]"
     ]
    },
    {
     "name": "stdout",
     "output_type": "stream",
     "text": [
      "eigenvalues shape torch.Size([5]) eigenvectors shape torch.Size([5, 400])\n",
      "582 /home/phdcs2/Hard_Disk/Datasets/Deep-Spectral-Segmentation/data/object-segmentation/ECSSD/features/dino_vits16/0583.pth\n",
      "dict_keys(['k', 'indices', 'file', 'id', 'model_name', 'patch_size', 'shape'])\n",
      "0583\n",
      "Starting Training\n",
      "epoch: 00, loss: -0.51265\n",
      "epoch: 01, loss: -0.64065\n",
      "epoch: 02, loss: -0.66368\n",
      "epoch: 03, loss: -0.67386\n",
      "epoch: 04, loss: -0.68205\n",
      "epoch: 05, loss: -0.69832\n",
      "epoch: 06, loss: -0.71815\n",
      "epoch: 07, loss: -0.71748\n",
      "epoch: 08, loss: -0.72574\n",
      "epoch: 09, loss: -0.73269\n",
      "After Unsqueezing, feature size= torch.Size([450, 1, 1, 384])\n"
     ]
    },
    {
     "name": "stderr",
     "output_type": "stream",
     "text": [
      " 58%|█████▊    | 583/1000 [3:07:22<2:06:49, 18.25s/it]"
     ]
    },
    {
     "name": "stdout",
     "output_type": "stream",
     "text": [
      "eigenvalues shape torch.Size([5]) eigenvectors shape torch.Size([5, 450])\n",
      "583 /home/phdcs2/Hard_Disk/Datasets/Deep-Spectral-Segmentation/data/object-segmentation/ECSSD/features/dino_vits16/0584.pth\n",
      "dict_keys(['k', 'indices', 'file', 'id', 'model_name', 'patch_size', 'shape'])\n",
      "0584\n",
      "Starting Training\n",
      "epoch: 00, loss: -0.49245\n",
      "epoch: 01, loss: -0.63151\n",
      "epoch: 02, loss: -0.65577\n",
      "epoch: 03, loss: -0.67672\n",
      "epoch: 04, loss: -0.66728\n",
      "epoch: 05, loss: -0.68927\n",
      "epoch: 06, loss: -0.66657\n",
      "epoch: 07, loss: -0.67949\n",
      "epoch: 08, loss: -0.69377\n",
      "epoch: 09, loss: -0.69416\n",
      "After Unsqueezing, feature size= torch.Size([450, 1, 1, 384])\n"
     ]
    },
    {
     "name": "stderr",
     "output_type": "stream",
     "text": [
      " 58%|█████▊    | 584/1000 [3:07:41<2:07:27, 18.38s/it]"
     ]
    },
    {
     "name": "stdout",
     "output_type": "stream",
     "text": [
      "eigenvalues shape torch.Size([5]) eigenvectors shape torch.Size([5, 450])\n",
      "584 /home/phdcs2/Hard_Disk/Datasets/Deep-Spectral-Segmentation/data/object-segmentation/ECSSD/features/dino_vits16/0585.pth\n",
      "dict_keys(['k', 'indices', 'file', 'id', 'model_name', 'patch_size', 'shape'])\n",
      "0585\n",
      "Starting Training\n",
      "epoch: 00, loss: -0.48354\n",
      "epoch: 01, loss: -0.62888\n",
      "epoch: 02, loss: -0.66165\n",
      "epoch: 03, loss: -0.67818\n",
      "epoch: 04, loss: -0.69702\n",
      "epoch: 05, loss: -0.70377\n",
      "epoch: 06, loss: -0.71404\n",
      "epoch: 07, loss: -0.71794\n",
      "epoch: 08, loss: -0.72279\n",
      "epoch: 09, loss: -0.70792\n",
      "After Unsqueezing, feature size= torch.Size([450, 1, 1, 384])\n"
     ]
    },
    {
     "name": "stderr",
     "output_type": "stream",
     "text": [
      " 58%|█████▊    | 585/1000 [3:08:00<2:09:14, 18.69s/it]"
     ]
    },
    {
     "name": "stdout",
     "output_type": "stream",
     "text": [
      "eigenvalues shape torch.Size([5]) eigenvectors shape torch.Size([5, 450])\n",
      "585 /home/phdcs2/Hard_Disk/Datasets/Deep-Spectral-Segmentation/data/object-segmentation/ECSSD/features/dino_vits16/0586.pth\n",
      "dict_keys(['k', 'indices', 'file', 'id', 'model_name', 'patch_size', 'shape'])\n",
      "0586\n",
      "Starting Training\n",
      "epoch: 00, loss: -0.43852\n",
      "epoch: 01, loss: -0.61443\n",
      "epoch: 02, loss: -0.65113\n",
      "epoch: 03, loss: -0.67628\n",
      "epoch: 04, loss: -0.71913\n",
      "epoch: 05, loss: -0.73986\n",
      "epoch: 06, loss: -0.70777\n",
      "epoch: 07, loss: -0.69528\n",
      "epoch: 08, loss: -0.68473\n",
      "epoch: 09, loss: -0.69397\n",
      "After Unsqueezing, feature size= torch.Size([425, 1, 1, 384])\n"
     ]
    },
    {
     "name": "stderr",
     "output_type": "stream",
     "text": [
      " 59%|█████▊    | 586/1000 [3:08:22<2:15:21, 19.62s/it]"
     ]
    },
    {
     "name": "stdout",
     "output_type": "stream",
     "text": [
      "eigenvalues shape torch.Size([5]) eigenvectors shape torch.Size([5, 425])\n",
      "586 /home/phdcs2/Hard_Disk/Datasets/Deep-Spectral-Segmentation/data/object-segmentation/ECSSD/features/dino_vits16/0587.pth\n",
      "dict_keys(['k', 'indices', 'file', 'id', 'model_name', 'patch_size', 'shape'])\n",
      "0587\n",
      "Starting Training\n",
      "epoch: 00, loss: -0.44401\n",
      "epoch: 01, loss: -0.58887\n",
      "epoch: 02, loss: -0.60922\n",
      "epoch: 03, loss: -0.60803\n",
      "epoch: 04, loss: -0.60394\n",
      "epoch: 05, loss: -0.60306\n",
      "epoch: 06, loss: -0.60414\n",
      "epoch: 07, loss: -0.60658\n",
      "epoch: 08, loss: -0.62683\n",
      "epoch: 09, loss: -0.63552\n",
      "After Unsqueezing, feature size= torch.Size([400, 1, 1, 384])\n"
     ]
    },
    {
     "name": "stderr",
     "output_type": "stream",
     "text": [
      " 59%|█████▊    | 587/1000 [3:08:38<2:08:04, 18.61s/it]"
     ]
    },
    {
     "name": "stdout",
     "output_type": "stream",
     "text": [
      "eigenvalues shape torch.Size([5]) eigenvectors shape torch.Size([5, 400])\n",
      "587 /home/phdcs2/Hard_Disk/Datasets/Deep-Spectral-Segmentation/data/object-segmentation/ECSSD/features/dino_vits16/0588.pth\n",
      "dict_keys(['k', 'indices', 'file', 'id', 'model_name', 'patch_size', 'shape'])\n",
      "0588\n",
      "Starting Training\n",
      "epoch: 00, loss: -0.50881\n",
      "epoch: 01, loss: -0.64015\n",
      "epoch: 02, loss: -0.67311\n",
      "epoch: 03, loss: -0.67663\n",
      "epoch: 04, loss: -0.68054\n",
      "epoch: 05, loss: -0.70141\n",
      "epoch: 06, loss: -0.70976\n",
      "epoch: 07, loss: -0.71910\n",
      "epoch: 08, loss: -0.71969\n",
      "epoch: 09, loss: -0.73592\n",
      "After Unsqueezing, feature size= torch.Size([400, 1, 1, 384])\n"
     ]
    },
    {
     "name": "stderr",
     "output_type": "stream",
     "text": [
      " 59%|█████▉    | 588/1000 [3:08:55<2:04:29, 18.13s/it]"
     ]
    },
    {
     "name": "stdout",
     "output_type": "stream",
     "text": [
      "eigenvalues shape torch.Size([5]) eigenvectors shape torch.Size([5, 400])\n",
      "588 /home/phdcs2/Hard_Disk/Datasets/Deep-Spectral-Segmentation/data/object-segmentation/ECSSD/features/dino_vits16/0589.pth\n",
      "dict_keys(['k', 'indices', 'file', 'id', 'model_name', 'patch_size', 'shape'])\n",
      "0589\n",
      "Starting Training\n",
      "epoch: 00, loss: -0.56906\n",
      "epoch: 01, loss: -0.72471\n",
      "epoch: 02, loss: -0.75283\n",
      "epoch: 03, loss: -0.76851\n",
      "epoch: 04, loss: -0.77531\n",
      "epoch: 05, loss: -0.78148\n",
      "epoch: 06, loss: -0.79835\n",
      "epoch: 07, loss: -0.79676\n",
      "epoch: 08, loss: -0.80174\n",
      "epoch: 09, loss: -0.80594\n",
      "After Unsqueezing, feature size= torch.Size([400, 1, 1, 384])\n"
     ]
    },
    {
     "name": "stderr",
     "output_type": "stream",
     "text": [
      " 59%|█████▉    | 589/1000 [3:09:12<2:02:14, 17.84s/it]"
     ]
    },
    {
     "name": "stdout",
     "output_type": "stream",
     "text": [
      "eigenvalues shape torch.Size([5]) eigenvectors shape torch.Size([5, 400])\n",
      "589 /home/phdcs2/Hard_Disk/Datasets/Deep-Spectral-Segmentation/data/object-segmentation/ECSSD/features/dino_vits16/0590.pth\n",
      "dict_keys(['k', 'indices', 'file', 'id', 'model_name', 'patch_size', 'shape'])\n",
      "0590\n",
      "Starting Training\n",
      "epoch: 00, loss: -0.52761\n",
      "epoch: 01, loss: -0.69029\n",
      "epoch: 02, loss: -0.71564\n",
      "epoch: 03, loss: -0.72085\n",
      "epoch: 04, loss: -0.72841\n",
      "epoch: 05, loss: -0.73648\n",
      "epoch: 06, loss: -0.73898\n",
      "epoch: 07, loss: -0.73671\n",
      "epoch: 08, loss: -0.73824\n",
      "epoch: 09, loss: -0.74156\n",
      "After Unsqueezing, feature size= torch.Size([400, 1, 1, 384])\n"
     ]
    },
    {
     "name": "stderr",
     "output_type": "stream",
     "text": [
      " 59%|█████▉    | 590/1000 [3:09:31<2:04:15, 18.18s/it]"
     ]
    },
    {
     "name": "stdout",
     "output_type": "stream",
     "text": [
      "eigenvalues shape torch.Size([5]) eigenvectors shape torch.Size([5, 400])\n",
      "590 /home/phdcs2/Hard_Disk/Datasets/Deep-Spectral-Segmentation/data/object-segmentation/ECSSD/features/dino_vits16/0591.pth\n",
      "dict_keys(['k', 'indices', 'file', 'id', 'model_name', 'patch_size', 'shape'])\n",
      "0591\n",
      "Starting Training\n",
      "epoch: 00, loss: -0.50443\n",
      "epoch: 01, loss: -0.68097\n",
      "epoch: 02, loss: -0.70219\n",
      "epoch: 03, loss: -0.69483\n",
      "epoch: 04, loss: -0.69103\n",
      "epoch: 05, loss: -0.67809\n",
      "epoch: 06, loss: -0.67516\n",
      "epoch: 07, loss: -0.68949\n",
      "epoch: 08, loss: -0.70931\n",
      "epoch: 09, loss: -0.72364\n",
      "After Unsqueezing, feature size= torch.Size([400, 1, 1, 384])\n"
     ]
    },
    {
     "name": "stderr",
     "output_type": "stream",
     "text": [
      " 59%|█████▉    | 591/1000 [3:09:49<2:02:57, 18.04s/it]"
     ]
    },
    {
     "name": "stdout",
     "output_type": "stream",
     "text": [
      "eigenvalues shape torch.Size([5]) eigenvectors shape torch.Size([5, 400])\n",
      "591 /home/phdcs2/Hard_Disk/Datasets/Deep-Spectral-Segmentation/data/object-segmentation/ECSSD/features/dino_vits16/0592.pth\n",
      "dict_keys(['k', 'indices', 'file', 'id', 'model_name', 'patch_size', 'shape'])\n",
      "0592\n",
      "Starting Training\n",
      "epoch: 00, loss: -0.50372\n",
      "epoch: 01, loss: -0.62142\n",
      "epoch: 02, loss: -0.64250\n",
      "epoch: 03, loss: -0.65652\n",
      "epoch: 04, loss: -0.65273\n",
      "epoch: 05, loss: -0.66418\n",
      "epoch: 06, loss: -0.67849\n",
      "epoch: 07, loss: -0.68504\n",
      "epoch: 08, loss: -0.68499\n",
      "epoch: 09, loss: -0.70020\n",
      "After Unsqueezing, feature size= torch.Size([475, 1, 1, 384])\n"
     ]
    },
    {
     "name": "stderr",
     "output_type": "stream",
     "text": [
      " 59%|█████▉    | 592/1000 [3:10:11<2:11:49, 19.39s/it]"
     ]
    },
    {
     "name": "stdout",
     "output_type": "stream",
     "text": [
      "eigenvalues shape torch.Size([5]) eigenvectors shape torch.Size([5, 475])\n",
      "592 /home/phdcs2/Hard_Disk/Datasets/Deep-Spectral-Segmentation/data/object-segmentation/ECSSD/features/dino_vits16/0593.pth\n",
      "dict_keys(['k', 'indices', 'file', 'id', 'model_name', 'patch_size', 'shape'])\n",
      "0593\n",
      "Starting Training\n",
      "epoch: 00, loss: -0.56792\n",
      "epoch: 01, loss: -0.71618\n",
      "epoch: 02, loss: -0.74715\n",
      "epoch: 03, loss: -0.76135\n",
      "epoch: 04, loss: -0.76603\n",
      "epoch: 05, loss: -0.76629\n",
      "epoch: 06, loss: -0.76897\n",
      "epoch: 07, loss: -0.78338\n",
      "epoch: 08, loss: -0.79644\n",
      "epoch: 09, loss: -0.80410\n",
      "After Unsqueezing, feature size= torch.Size([400, 1, 1, 384])\n"
     ]
    },
    {
     "name": "stderr",
     "output_type": "stream",
     "text": [
      " 59%|█████▉    | 593/1000 [3:10:29<2:07:43, 18.83s/it]"
     ]
    },
    {
     "name": "stdout",
     "output_type": "stream",
     "text": [
      "eigenvalues shape torch.Size([5]) eigenvectors shape torch.Size([5, 400])\n",
      "593 /home/phdcs2/Hard_Disk/Datasets/Deep-Spectral-Segmentation/data/object-segmentation/ECSSD/features/dino_vits16/0594.pth\n",
      "dict_keys(['k', 'indices', 'file', 'id', 'model_name', 'patch_size', 'shape'])\n",
      "0594\n",
      "Starting Training\n",
      "epoch: 00, loss: -0.49898\n",
      "epoch: 01, loss: -0.64234\n",
      "epoch: 02, loss: -0.64704\n",
      "epoch: 03, loss: -0.66930\n",
      "epoch: 04, loss: -0.65769\n",
      "epoch: 05, loss: -0.66575\n",
      "epoch: 06, loss: -0.67777\n",
      "epoch: 07, loss: -0.67493\n",
      "epoch: 08, loss: -0.67651\n",
      "epoch: 09, loss: -0.65687\n",
      "After Unsqueezing, feature size= torch.Size([400, 1, 1, 384])\n"
     ]
    },
    {
     "name": "stderr",
     "output_type": "stream",
     "text": [
      " 59%|█████▉    | 594/1000 [3:10:45<2:02:20, 18.08s/it]"
     ]
    },
    {
     "name": "stdout",
     "output_type": "stream",
     "text": [
      "eigenvalues shape torch.Size([5]) eigenvectors shape torch.Size([5, 400])\n",
      "594 /home/phdcs2/Hard_Disk/Datasets/Deep-Spectral-Segmentation/data/object-segmentation/ECSSD/features/dino_vits16/0595.pth\n",
      "dict_keys(['k', 'indices', 'file', 'id', 'model_name', 'patch_size', 'shape'])\n",
      "0595\n",
      "Starting Training\n",
      "epoch: 00, loss: -0.56245\n",
      "epoch: 01, loss: -0.72172\n",
      "epoch: 02, loss: -0.73633\n",
      "epoch: 03, loss: -0.73719\n",
      "epoch: 04, loss: -0.74404\n",
      "epoch: 05, loss: -0.75735\n",
      "epoch: 06, loss: -0.76810\n",
      "epoch: 07, loss: -0.76611\n",
      "epoch: 08, loss: -0.77797\n",
      "epoch: 09, loss: -0.77975\n",
      "After Unsqueezing, feature size= torch.Size([400, 1, 1, 384])\n"
     ]
    },
    {
     "name": "stderr",
     "output_type": "stream",
     "text": [
      " 60%|█████▉    | 595/1000 [3:11:01<1:56:56, 17.32s/it]"
     ]
    },
    {
     "name": "stdout",
     "output_type": "stream",
     "text": [
      "eigenvalues shape torch.Size([5]) eigenvectors shape torch.Size([5, 400])\n",
      "595 /home/phdcs2/Hard_Disk/Datasets/Deep-Spectral-Segmentation/data/object-segmentation/ECSSD/features/dino_vits16/0596.pth\n",
      "dict_keys(['k', 'indices', 'file', 'id', 'model_name', 'patch_size', 'shape'])\n",
      "0596\n",
      "Starting Training\n",
      "epoch: 00, loss: -0.44325\n",
      "epoch: 01, loss: -0.55059\n",
      "epoch: 02, loss: -0.58264\n",
      "epoch: 03, loss: -0.60741\n",
      "epoch: 04, loss: -0.62394\n",
      "epoch: 05, loss: -0.61540\n",
      "epoch: 06, loss: -0.61618\n",
      "epoch: 07, loss: -0.62830\n",
      "epoch: 08, loss: -0.62077\n",
      "epoch: 09, loss: -0.61873\n",
      "After Unsqueezing, feature size= torch.Size([450, 1, 1, 384])\n"
     ]
    },
    {
     "name": "stderr",
     "output_type": "stream",
     "text": [
      " 60%|█████▉    | 596/1000 [3:11:20<2:00:11, 17.85s/it]"
     ]
    },
    {
     "name": "stdout",
     "output_type": "stream",
     "text": [
      "eigenvalues shape torch.Size([5]) eigenvectors shape torch.Size([5, 450])\n",
      "596 /home/phdcs2/Hard_Disk/Datasets/Deep-Spectral-Segmentation/data/object-segmentation/ECSSD/features/dino_vits16/0597.pth\n",
      "dict_keys(['k', 'indices', 'file', 'id', 'model_name', 'patch_size', 'shape'])\n",
      "0597\n",
      "Starting Training\n",
      "epoch: 00, loss: -0.51823\n",
      "epoch: 01, loss: -0.68315\n",
      "epoch: 02, loss: -0.71272\n",
      "epoch: 03, loss: -0.73165\n",
      "epoch: 04, loss: -0.72643\n",
      "epoch: 05, loss: -0.72937\n",
      "epoch: 06, loss: -0.74804\n",
      "epoch: 07, loss: -0.76142\n",
      "epoch: 08, loss: -0.75695\n",
      "epoch: 09, loss: -0.77598\n",
      "After Unsqueezing, feature size= torch.Size([450, 1, 1, 384])\n"
     ]
    },
    {
     "name": "stderr",
     "output_type": "stream",
     "text": [
      " 60%|█████▉    | 597/1000 [3:11:39<2:02:40, 18.26s/it]"
     ]
    },
    {
     "name": "stdout",
     "output_type": "stream",
     "text": [
      "eigenvalues shape torch.Size([5]) eigenvectors shape torch.Size([5, 450])\n",
      "597 /home/phdcs2/Hard_Disk/Datasets/Deep-Spectral-Segmentation/data/object-segmentation/ECSSD/features/dino_vits16/0598.pth\n",
      "dict_keys(['k', 'indices', 'file', 'id', 'model_name', 'patch_size', 'shape'])\n",
      "0598\n",
      "Starting Training\n",
      "epoch: 00, loss: -0.48844\n",
      "epoch: 01, loss: -0.62753\n",
      "epoch: 02, loss: -0.67343\n",
      "epoch: 03, loss: -0.68010\n",
      "epoch: 04, loss: -0.68265\n",
      "epoch: 05, loss: -0.68756\n",
      "epoch: 06, loss: -0.68290\n",
      "epoch: 07, loss: -0.68311\n",
      "epoch: 08, loss: -0.69205\n",
      "epoch: 09, loss: -0.70141\n",
      "After Unsqueezing, feature size= torch.Size([400, 1, 1, 384])\n"
     ]
    },
    {
     "name": "stderr",
     "output_type": "stream",
     "text": [
      " 60%|█████▉    | 598/1000 [3:11:58<2:04:19, 18.56s/it]"
     ]
    },
    {
     "name": "stdout",
     "output_type": "stream",
     "text": [
      "eigenvalues shape torch.Size([5]) eigenvectors shape torch.Size([5, 400])\n",
      "598 /home/phdcs2/Hard_Disk/Datasets/Deep-Spectral-Segmentation/data/object-segmentation/ECSSD/features/dino_vits16/0599.pth\n",
      "dict_keys(['k', 'indices', 'file', 'id', 'model_name', 'patch_size', 'shape'])\n",
      "0599\n",
      "Starting Training\n",
      "epoch: 00, loss: -0.45453\n",
      "epoch: 01, loss: -0.60439\n",
      "epoch: 02, loss: -0.64208\n",
      "epoch: 03, loss: -0.65560\n",
      "epoch: 04, loss: -0.66941\n",
      "epoch: 05, loss: -0.68889\n",
      "epoch: 06, loss: -0.69991\n",
      "epoch: 07, loss: -0.71377\n",
      "epoch: 08, loss: -0.70900\n",
      "epoch: 09, loss: -0.71941\n",
      "After Unsqueezing, feature size= torch.Size([450, 1, 1, 384])\n"
     ]
    },
    {
     "name": "stderr",
     "output_type": "stream",
     "text": [
      " 60%|█████▉    | 599/1000 [3:12:18<2:07:09, 19.03s/it]"
     ]
    },
    {
     "name": "stdout",
     "output_type": "stream",
     "text": [
      "eigenvalues shape torch.Size([5]) eigenvectors shape torch.Size([5, 450])\n",
      "599 /home/phdcs2/Hard_Disk/Datasets/Deep-Spectral-Segmentation/data/object-segmentation/ECSSD/features/dino_vits16/0600.pth\n",
      "dict_keys(['k', 'indices', 'file', 'id', 'model_name', 'patch_size', 'shape'])\n",
      "0600\n",
      "Starting Training\n",
      "epoch: 00, loss: -0.51056\n",
      "epoch: 01, loss: -0.66644\n",
      "epoch: 02, loss: -0.70877\n",
      "epoch: 03, loss: -0.72402\n",
      "epoch: 04, loss: -0.73265\n",
      "epoch: 05, loss: -0.73119\n",
      "epoch: 06, loss: -0.71715\n",
      "epoch: 07, loss: -0.70068\n",
      "epoch: 08, loss: -0.69549\n",
      "epoch: 09, loss: -0.70344\n",
      "After Unsqueezing, feature size= torch.Size([425, 1, 1, 384])\n"
     ]
    },
    {
     "name": "stderr",
     "output_type": "stream",
     "text": [
      " 60%|██████    | 600/1000 [3:12:35<2:02:28, 18.37s/it]"
     ]
    },
    {
     "name": "stdout",
     "output_type": "stream",
     "text": [
      "eigenvalues shape torch.Size([5]) eigenvectors shape torch.Size([5, 425])\n",
      "600 /home/phdcs2/Hard_Disk/Datasets/Deep-Spectral-Segmentation/data/object-segmentation/ECSSD/features/dino_vits16/0601.pth\n",
      "dict_keys(['k', 'indices', 'file', 'id', 'model_name', 'patch_size', 'shape'])\n",
      "0601\n",
      "Starting Training\n",
      "epoch: 00, loss: -0.51094\n",
      "epoch: 01, loss: -0.68086\n",
      "epoch: 02, loss: -0.67813\n",
      "epoch: 03, loss: -0.67032\n",
      "epoch: 04, loss: -0.67035\n",
      "epoch: 05, loss: -0.69594\n",
      "epoch: 06, loss: -0.72244\n",
      "epoch: 07, loss: -0.72774\n",
      "epoch: 08, loss: -0.72076\n",
      "epoch: 09, loss: -0.72809\n",
      "After Unsqueezing, feature size= torch.Size([450, 1, 1, 384])\n"
     ]
    },
    {
     "name": "stderr",
     "output_type": "stream",
     "text": [
      " 60%|██████    | 601/1000 [3:12:54<2:02:58, 18.49s/it]"
     ]
    },
    {
     "name": "stdout",
     "output_type": "stream",
     "text": [
      "eigenvalues shape torch.Size([5]) eigenvectors shape torch.Size([5, 450])\n",
      "601 /home/phdcs2/Hard_Disk/Datasets/Deep-Spectral-Segmentation/data/object-segmentation/ECSSD/features/dino_vits16/0602.pth\n",
      "dict_keys(['k', 'indices', 'file', 'id', 'model_name', 'patch_size', 'shape'])\n",
      "0602\n",
      "Starting Training\n",
      "epoch: 00, loss: -0.45699\n",
      "epoch: 01, loss: -0.60127\n",
      "epoch: 02, loss: -0.62869\n",
      "epoch: 03, loss: -0.64558\n",
      "epoch: 04, loss: -0.65355\n",
      "epoch: 05, loss: -0.66959\n",
      "epoch: 06, loss: -0.66874\n",
      "epoch: 07, loss: -0.66873\n",
      "epoch: 08, loss: -0.66315\n",
      "epoch: 09, loss: -0.66425\n",
      "After Unsqueezing, feature size= torch.Size([450, 1, 1, 384])\n"
     ]
    },
    {
     "name": "stderr",
     "output_type": "stream",
     "text": [
      " 60%|██████    | 602/1000 [3:13:14<2:06:15, 19.03s/it]"
     ]
    },
    {
     "name": "stdout",
     "output_type": "stream",
     "text": [
      "eigenvalues shape torch.Size([5]) eigenvectors shape torch.Size([5, 450])\n",
      "602 /home/phdcs2/Hard_Disk/Datasets/Deep-Spectral-Segmentation/data/object-segmentation/ECSSD/features/dino_vits16/0603.pth\n",
      "dict_keys(['k', 'indices', 'file', 'id', 'model_name', 'patch_size', 'shape'])\n",
      "0603\n",
      "Starting Training\n",
      "epoch: 00, loss: -0.50022\n",
      "epoch: 01, loss: -0.65511\n",
      "epoch: 02, loss: -0.66626\n",
      "epoch: 03, loss: -0.66832\n",
      "epoch: 04, loss: -0.67808\n",
      "epoch: 05, loss: -0.67984\n",
      "epoch: 06, loss: -0.69702\n",
      "epoch: 07, loss: -0.69405\n",
      "epoch: 08, loss: -0.71393\n",
      "epoch: 09, loss: -0.70699\n",
      "After Unsqueezing, feature size= torch.Size([400, 1, 1, 384])\n"
     ]
    },
    {
     "name": "stderr",
     "output_type": "stream",
     "text": [
      " 60%|██████    | 603/1000 [3:13:31<2:00:53, 18.27s/it]"
     ]
    },
    {
     "name": "stdout",
     "output_type": "stream",
     "text": [
      "eigenvalues shape torch.Size([5]) eigenvectors shape torch.Size([5, 400])\n",
      "603 /home/phdcs2/Hard_Disk/Datasets/Deep-Spectral-Segmentation/data/object-segmentation/ECSSD/features/dino_vits16/0604.pth\n",
      "dict_keys(['k', 'indices', 'file', 'id', 'model_name', 'patch_size', 'shape'])\n",
      "0604\n",
      "Starting Training\n",
      "epoch: 00, loss: -0.46558\n",
      "epoch: 01, loss: -0.61555\n",
      "epoch: 02, loss: -0.63125\n",
      "epoch: 03, loss: -0.64848\n",
      "epoch: 04, loss: -0.66001\n",
      "epoch: 05, loss: -0.64841\n",
      "epoch: 06, loss: -0.65213\n",
      "epoch: 07, loss: -0.65984\n",
      "epoch: 08, loss: -0.66470\n",
      "epoch: 09, loss: -0.66133\n",
      "After Unsqueezing, feature size= torch.Size([400, 1, 1, 384])\n"
     ]
    },
    {
     "name": "stderr",
     "output_type": "stream",
     "text": [
      " 60%|██████    | 604/1000 [3:13:48<1:58:49, 18.00s/it]"
     ]
    },
    {
     "name": "stdout",
     "output_type": "stream",
     "text": [
      "eigenvalues shape torch.Size([5]) eigenvectors shape torch.Size([5, 400])\n",
      "604 /home/phdcs2/Hard_Disk/Datasets/Deep-Spectral-Segmentation/data/object-segmentation/ECSSD/features/dino_vits16/0605.pth\n",
      "dict_keys(['k', 'indices', 'file', 'id', 'model_name', 'patch_size', 'shape'])\n",
      "0605\n",
      "Starting Training\n",
      "epoch: 00, loss: -0.46563\n",
      "epoch: 01, loss: -0.60456\n",
      "epoch: 02, loss: -0.67337\n",
      "epoch: 03, loss: -0.68048\n",
      "epoch: 04, loss: -0.70516\n",
      "epoch: 05, loss: -0.71816\n",
      "epoch: 06, loss: -0.71812\n",
      "epoch: 07, loss: -0.73752\n",
      "epoch: 08, loss: -0.74197\n",
      "epoch: 09, loss: -0.74720\n",
      "After Unsqueezing, feature size= torch.Size([400, 1, 1, 384])\n"
     ]
    },
    {
     "name": "stderr",
     "output_type": "stream",
     "text": [
      " 60%|██████    | 605/1000 [3:14:04<1:53:53, 17.30s/it]"
     ]
    },
    {
     "name": "stdout",
     "output_type": "stream",
     "text": [
      "eigenvalues shape torch.Size([5]) eigenvectors shape torch.Size([5, 400])\n",
      "605 /home/phdcs2/Hard_Disk/Datasets/Deep-Spectral-Segmentation/data/object-segmentation/ECSSD/features/dino_vits16/0606.pth\n",
      "dict_keys(['k', 'indices', 'file', 'id', 'model_name', 'patch_size', 'shape'])\n",
      "0606\n",
      "Starting Training\n",
      "epoch: 00, loss: -0.45428\n",
      "epoch: 01, loss: -0.59624\n",
      "epoch: 02, loss: -0.61695\n",
      "epoch: 03, loss: -0.63476\n",
      "epoch: 04, loss: -0.63885\n",
      "epoch: 05, loss: -0.65648\n",
      "epoch: 06, loss: -0.67594\n",
      "epoch: 07, loss: -0.68175\n",
      "epoch: 08, loss: -0.68643\n",
      "epoch: 09, loss: -0.68368\n",
      "After Unsqueezing, feature size= torch.Size([400, 1, 1, 384])\n"
     ]
    },
    {
     "name": "stderr",
     "output_type": "stream",
     "text": [
      " 61%|██████    | 606/1000 [3:14:20<1:52:13, 17.09s/it]"
     ]
    },
    {
     "name": "stdout",
     "output_type": "stream",
     "text": [
      "eigenvalues shape torch.Size([5]) eigenvectors shape torch.Size([5, 400])\n",
      "606 /home/phdcs2/Hard_Disk/Datasets/Deep-Spectral-Segmentation/data/object-segmentation/ECSSD/features/dino_vits16/0607.pth\n",
      "dict_keys(['k', 'indices', 'file', 'id', 'model_name', 'patch_size', 'shape'])\n",
      "0607\n",
      "Starting Training\n",
      "epoch: 00, loss: -0.54967\n",
      "epoch: 01, loss: -0.68211\n",
      "epoch: 02, loss: -0.69772\n",
      "epoch: 03, loss: -0.71323\n",
      "epoch: 04, loss: -0.73030\n",
      "epoch: 05, loss: -0.73898\n",
      "epoch: 06, loss: -0.74722\n",
      "epoch: 07, loss: -0.76392\n",
      "epoch: 08, loss: -0.77657\n",
      "epoch: 09, loss: -0.76537\n",
      "After Unsqueezing, feature size= torch.Size([450, 1, 1, 384])\n"
     ]
    },
    {
     "name": "stderr",
     "output_type": "stream",
     "text": [
      " 61%|██████    | 607/1000 [3:14:40<1:56:38, 17.81s/it]"
     ]
    },
    {
     "name": "stdout",
     "output_type": "stream",
     "text": [
      "eigenvalues shape torch.Size([5]) eigenvectors shape torch.Size([5, 450])\n",
      "607 /home/phdcs2/Hard_Disk/Datasets/Deep-Spectral-Segmentation/data/object-segmentation/ECSSD/features/dino_vits16/0608.pth\n",
      "dict_keys(['k', 'indices', 'file', 'id', 'model_name', 'patch_size', 'shape'])\n",
      "0608\n",
      "Starting Training\n",
      "epoch: 00, loss: -0.57369\n",
      "epoch: 01, loss: -0.72090\n",
      "epoch: 02, loss: -0.74805\n",
      "epoch: 03, loss: -0.75726\n",
      "epoch: 04, loss: -0.76630\n",
      "epoch: 05, loss: -0.78260\n",
      "epoch: 06, loss: -0.78337\n",
      "epoch: 07, loss: -0.78627\n",
      "epoch: 08, loss: -0.78730\n",
      "epoch: 09, loss: -0.79753\n",
      "After Unsqueezing, feature size= torch.Size([450, 1, 1, 384])\n"
     ]
    },
    {
     "name": "stderr",
     "output_type": "stream",
     "text": [
      " 61%|██████    | 608/1000 [3:15:00<2:00:45, 18.48s/it]"
     ]
    },
    {
     "name": "stdout",
     "output_type": "stream",
     "text": [
      "eigenvalues shape torch.Size([5]) eigenvectors shape torch.Size([5, 450])\n",
      "608 /home/phdcs2/Hard_Disk/Datasets/Deep-Spectral-Segmentation/data/object-segmentation/ECSSD/features/dino_vits16/0609.pth\n",
      "dict_keys(['k', 'indices', 'file', 'id', 'model_name', 'patch_size', 'shape'])\n",
      "0609\n",
      "Starting Training\n",
      "epoch: 00, loss: -0.50276\n",
      "epoch: 01, loss: -0.66484\n",
      "epoch: 02, loss: -0.67799\n",
      "epoch: 03, loss: -0.69752\n",
      "epoch: 04, loss: -0.70354\n",
      "epoch: 05, loss: -0.71410\n",
      "epoch: 06, loss: -0.69976\n",
      "epoch: 07, loss: -0.71045\n",
      "epoch: 08, loss: -0.71399\n",
      "epoch: 09, loss: -0.71944\n",
      "After Unsqueezing, feature size= torch.Size([400, 1, 1, 384])\n"
     ]
    },
    {
     "name": "stderr",
     "output_type": "stream",
     "text": [
      " 61%|██████    | 609/1000 [3:15:16<1:55:56, 17.79s/it]"
     ]
    },
    {
     "name": "stdout",
     "output_type": "stream",
     "text": [
      "eigenvalues shape torch.Size([5]) eigenvectors shape torch.Size([5, 400])\n",
      "609 /home/phdcs2/Hard_Disk/Datasets/Deep-Spectral-Segmentation/data/object-segmentation/ECSSD/features/dino_vits16/0610.pth\n",
      "dict_keys(['k', 'indices', 'file', 'id', 'model_name', 'patch_size', 'shape'])\n",
      "0610\n",
      "Starting Training\n",
      "epoch: 00, loss: -0.61061\n",
      "epoch: 01, loss: -0.75712\n",
      "epoch: 02, loss: -0.77366\n",
      "epoch: 03, loss: -0.78079\n",
      "epoch: 04, loss: -0.77577\n",
      "epoch: 05, loss: -0.77087\n",
      "epoch: 06, loss: -0.78164\n",
      "epoch: 07, loss: -0.79338\n",
      "epoch: 08, loss: -0.79832\n",
      "epoch: 09, loss: -0.80622\n",
      "After Unsqueezing, feature size= torch.Size([450, 1, 1, 384])\n"
     ]
    },
    {
     "name": "stderr",
     "output_type": "stream",
     "text": [
      " 61%|██████    | 610/1000 [3:15:36<1:59:29, 18.38s/it]"
     ]
    },
    {
     "name": "stdout",
     "output_type": "stream",
     "text": [
      "eigenvalues shape torch.Size([5]) eigenvectors shape torch.Size([5, 450])\n",
      "610 /home/phdcs2/Hard_Disk/Datasets/Deep-Spectral-Segmentation/data/object-segmentation/ECSSD/features/dino_vits16/0611.pth\n",
      "dict_keys(['k', 'indices', 'file', 'id', 'model_name', 'patch_size', 'shape'])\n",
      "0611\n",
      "Starting Training\n",
      "epoch: 00, loss: -0.55941\n",
      "epoch: 01, loss: -0.72848\n",
      "epoch: 02, loss: -0.75843\n",
      "epoch: 03, loss: -0.77385\n",
      "epoch: 04, loss: -0.78383\n",
      "epoch: 05, loss: -0.78968\n",
      "epoch: 06, loss: -0.78647\n",
      "epoch: 07, loss: -0.78400\n",
      "epoch: 08, loss: -0.78655\n",
      "epoch: 09, loss: -0.78786\n",
      "After Unsqueezing, feature size= torch.Size([450, 1, 1, 384])\n"
     ]
    },
    {
     "name": "stderr",
     "output_type": "stream",
     "text": [
      " 61%|██████    | 611/1000 [3:15:55<2:00:56, 18.65s/it]"
     ]
    },
    {
     "name": "stdout",
     "output_type": "stream",
     "text": [
      "eigenvalues shape torch.Size([5]) eigenvectors shape torch.Size([5, 450])\n",
      "611 /home/phdcs2/Hard_Disk/Datasets/Deep-Spectral-Segmentation/data/object-segmentation/ECSSD/features/dino_vits16/0612.pth\n",
      "dict_keys(['k', 'indices', 'file', 'id', 'model_name', 'patch_size', 'shape'])\n",
      "0612\n",
      "Starting Training\n",
      "epoch: 00, loss: -0.51066\n",
      "epoch: 01, loss: -0.66106\n",
      "epoch: 02, loss: -0.67376\n",
      "epoch: 03, loss: -0.67789\n",
      "epoch: 04, loss: -0.67197\n",
      "epoch: 05, loss: -0.68565\n",
      "epoch: 06, loss: -0.69874\n",
      "epoch: 07, loss: -0.69456\n",
      "epoch: 08, loss: -0.69308\n",
      "epoch: 09, loss: -0.67749\n",
      "After Unsqueezing, feature size= torch.Size([450, 1, 1, 384])\n"
     ]
    },
    {
     "name": "stderr",
     "output_type": "stream",
     "text": [
      " 61%|██████    | 612/1000 [3:16:16<2:04:31, 19.26s/it]"
     ]
    },
    {
     "name": "stdout",
     "output_type": "stream",
     "text": [
      "eigenvalues shape torch.Size([5]) eigenvectors shape torch.Size([5, 450])\n",
      "612 /home/phdcs2/Hard_Disk/Datasets/Deep-Spectral-Segmentation/data/object-segmentation/ECSSD/features/dino_vits16/0613.pth\n",
      "dict_keys(['k', 'indices', 'file', 'id', 'model_name', 'patch_size', 'shape'])\n",
      "0613\n",
      "Starting Training\n",
      "epoch: 00, loss: -0.50372\n",
      "epoch: 01, loss: -0.65992\n",
      "epoch: 02, loss: -0.69454\n",
      "epoch: 03, loss: -0.69772\n",
      "epoch: 04, loss: -0.70334\n",
      "epoch: 05, loss: -0.70341\n",
      "epoch: 06, loss: -0.71470\n",
      "epoch: 07, loss: -0.70823\n",
      "epoch: 08, loss: -0.71481\n",
      "epoch: 09, loss: -0.71588\n",
      "After Unsqueezing, feature size= torch.Size([400, 1, 1, 384])\n"
     ]
    },
    {
     "name": "stderr",
     "output_type": "stream",
     "text": [
      " 61%|██████▏   | 613/1000 [3:16:33<1:59:08, 18.47s/it]"
     ]
    },
    {
     "name": "stdout",
     "output_type": "stream",
     "text": [
      "eigenvalues shape torch.Size([5]) eigenvectors shape torch.Size([5, 400])\n",
      "613 /home/phdcs2/Hard_Disk/Datasets/Deep-Spectral-Segmentation/data/object-segmentation/ECSSD/features/dino_vits16/0614.pth\n",
      "dict_keys(['k', 'indices', 'file', 'id', 'model_name', 'patch_size', 'shape'])\n",
      "0614\n",
      "Starting Training\n",
      "epoch: 00, loss: -0.49872\n",
      "epoch: 01, loss: -0.66134\n",
      "epoch: 02, loss: -0.69263\n",
      "epoch: 03, loss: -0.71261\n",
      "epoch: 04, loss: -0.72269\n",
      "epoch: 05, loss: -0.72492\n",
      "epoch: 06, loss: -0.72172\n",
      "epoch: 07, loss: -0.71203\n",
      "epoch: 08, loss: -0.71742\n",
      "epoch: 09, loss: -0.71852\n",
      "After Unsqueezing, feature size= torch.Size([450, 1, 1, 384])\n"
     ]
    },
    {
     "name": "stderr",
     "output_type": "stream",
     "text": [
      " 61%|██████▏   | 614/1000 [3:16:51<1:59:39, 18.60s/it]"
     ]
    },
    {
     "name": "stdout",
     "output_type": "stream",
     "text": [
      "eigenvalues shape torch.Size([5]) eigenvectors shape torch.Size([5, 450])\n",
      "614 /home/phdcs2/Hard_Disk/Datasets/Deep-Spectral-Segmentation/data/object-segmentation/ECSSD/features/dino_vits16/0615.pth\n",
      "dict_keys(['k', 'indices', 'file', 'id', 'model_name', 'patch_size', 'shape'])\n",
      "0615\n",
      "Starting Training\n",
      "epoch: 00, loss: -0.45671\n",
      "epoch: 01, loss: -0.59838\n",
      "epoch: 02, loss: -0.62288\n",
      "epoch: 03, loss: -0.65067\n",
      "epoch: 04, loss: -0.64437\n",
      "epoch: 05, loss: -0.64710\n",
      "epoch: 06, loss: -0.65183\n",
      "epoch: 07, loss: -0.67850\n",
      "epoch: 08, loss: -0.69576\n",
      "epoch: 09, loss: -0.71322\n",
      "After Unsqueezing, feature size= torch.Size([400, 1, 1, 384])\n"
     ]
    },
    {
     "name": "stderr",
     "output_type": "stream",
     "text": [
      " 62%|██████▏   | 615/1000 [3:17:09<1:57:45, 18.35s/it]"
     ]
    },
    {
     "name": "stdout",
     "output_type": "stream",
     "text": [
      "eigenvalues shape torch.Size([5]) eigenvectors shape torch.Size([5, 400])\n",
      "615 /home/phdcs2/Hard_Disk/Datasets/Deep-Spectral-Segmentation/data/object-segmentation/ECSSD/features/dino_vits16/0616.pth\n",
      "dict_keys(['k', 'indices', 'file', 'id', 'model_name', 'patch_size', 'shape'])\n",
      "0616\n",
      "Starting Training\n",
      "epoch: 00, loss: -0.53589\n",
      "epoch: 01, loss: -0.67327\n",
      "epoch: 02, loss: -0.67885\n",
      "epoch: 03, loss: -0.68782\n",
      "epoch: 04, loss: -0.69535\n",
      "epoch: 05, loss: -0.70497\n",
      "epoch: 06, loss: -0.70341\n",
      "epoch: 07, loss: -0.71675\n",
      "epoch: 08, loss: -0.71257\n",
      "epoch: 09, loss: -0.72484\n",
      "After Unsqueezing, feature size= torch.Size([400, 1, 1, 384])\n"
     ]
    },
    {
     "name": "stderr",
     "output_type": "stream",
     "text": [
      " 62%|██████▏   | 616/1000 [3:17:27<1:56:10, 18.15s/it]"
     ]
    },
    {
     "name": "stdout",
     "output_type": "stream",
     "text": [
      "eigenvalues shape torch.Size([5]) eigenvectors shape torch.Size([5, 400])\n",
      "616 /home/phdcs2/Hard_Disk/Datasets/Deep-Spectral-Segmentation/data/object-segmentation/ECSSD/features/dino_vits16/0617.pth\n",
      "dict_keys(['k', 'indices', 'file', 'id', 'model_name', 'patch_size', 'shape'])\n",
      "0617\n",
      "Starting Training\n",
      "epoch: 00, loss: -0.53651\n",
      "epoch: 01, loss: -0.67811\n",
      "epoch: 02, loss: -0.69982\n",
      "epoch: 03, loss: -0.71816\n",
      "epoch: 04, loss: -0.72481\n",
      "epoch: 05, loss: -0.73161\n",
      "epoch: 06, loss: -0.73129\n",
      "epoch: 07, loss: -0.73477\n",
      "epoch: 08, loss: -0.73885\n",
      "epoch: 09, loss: -0.74131\n",
      "After Unsqueezing, feature size= torch.Size([500, 1, 1, 384])\n"
     ]
    },
    {
     "name": "stderr",
     "output_type": "stream",
     "text": [
      " 62%|██████▏   | 617/1000 [3:17:48<2:01:59, 19.11s/it]"
     ]
    },
    {
     "name": "stdout",
     "output_type": "stream",
     "text": [
      "eigenvalues shape torch.Size([5]) eigenvectors shape torch.Size([5, 500])\n",
      "617 /home/phdcs2/Hard_Disk/Datasets/Deep-Spectral-Segmentation/data/object-segmentation/ECSSD/features/dino_vits16/0618.pth\n",
      "dict_keys(['k', 'indices', 'file', 'id', 'model_name', 'patch_size', 'shape'])\n",
      "0618\n",
      "Starting Training\n",
      "epoch: 00, loss: -0.51444\n",
      "epoch: 01, loss: -0.69278\n",
      "epoch: 02, loss: -0.70231\n",
      "epoch: 03, loss: -0.69460\n",
      "epoch: 04, loss: -0.70396\n",
      "epoch: 05, loss: -0.70819\n",
      "epoch: 06, loss: -0.70604\n",
      "epoch: 07, loss: -0.72017\n",
      "epoch: 08, loss: -0.73126\n",
      "epoch: 09, loss: -0.73815\n",
      "After Unsqueezing, feature size= torch.Size([425, 1, 1, 384])\n"
     ]
    },
    {
     "name": "stderr",
     "output_type": "stream",
     "text": [
      " 62%|██████▏   | 618/1000 [3:18:06<1:58:41, 18.64s/it]"
     ]
    },
    {
     "name": "stdout",
     "output_type": "stream",
     "text": [
      "eigenvalues shape torch.Size([5]) eigenvectors shape torch.Size([5, 425])\n",
      "618 /home/phdcs2/Hard_Disk/Datasets/Deep-Spectral-Segmentation/data/object-segmentation/ECSSD/features/dino_vits16/0619.pth\n",
      "dict_keys(['k', 'indices', 'file', 'id', 'model_name', 'patch_size', 'shape'])\n",
      "0619\n",
      "Starting Training\n",
      "epoch: 00, loss: -0.48129\n",
      "epoch: 01, loss: -0.63275\n",
      "epoch: 02, loss: -0.65545\n",
      "epoch: 03, loss: -0.66841\n",
      "epoch: 04, loss: -0.66582\n",
      "epoch: 05, loss: -0.67891\n",
      "epoch: 06, loss: -0.68719\n",
      "epoch: 07, loss: -0.69677\n",
      "epoch: 08, loss: -0.68834\n",
      "epoch: 09, loss: -0.69526\n",
      "After Unsqueezing, feature size= torch.Size([450, 1, 1, 384])\n"
     ]
    },
    {
     "name": "stderr",
     "output_type": "stream",
     "text": [
      " 62%|██████▏   | 619/1000 [3:18:25<2:00:00, 18.90s/it]"
     ]
    },
    {
     "name": "stdout",
     "output_type": "stream",
     "text": [
      "eigenvalues shape torch.Size([5]) eigenvectors shape torch.Size([5, 450])\n",
      "619 /home/phdcs2/Hard_Disk/Datasets/Deep-Spectral-Segmentation/data/object-segmentation/ECSSD/features/dino_vits16/0620.pth\n",
      "dict_keys(['k', 'indices', 'file', 'id', 'model_name', 'patch_size', 'shape'])\n",
      "0620\n",
      "Starting Training\n",
      "epoch: 00, loss: -0.54888\n",
      "epoch: 01, loss: -0.70972\n",
      "epoch: 02, loss: -0.72636\n",
      "epoch: 03, loss: -0.72531\n",
      "epoch: 04, loss: -0.73938\n",
      "epoch: 05, loss: -0.74711\n",
      "epoch: 06, loss: -0.75919\n",
      "epoch: 07, loss: -0.75531\n",
      "epoch: 08, loss: -0.75405\n",
      "epoch: 09, loss: -0.76973\n",
      "After Unsqueezing, feature size= torch.Size([525, 1, 1, 384])\n"
     ]
    },
    {
     "name": "stderr",
     "output_type": "stream",
     "text": [
      " 62%|██████▏   | 620/1000 [3:18:47<2:04:07, 19.60s/it]"
     ]
    },
    {
     "name": "stdout",
     "output_type": "stream",
     "text": [
      "eigenvalues shape torch.Size([5]) eigenvectors shape torch.Size([5, 525])\n",
      "620 /home/phdcs2/Hard_Disk/Datasets/Deep-Spectral-Segmentation/data/object-segmentation/ECSSD/features/dino_vits16/0621.pth\n",
      "dict_keys(['k', 'indices', 'file', 'id', 'model_name', 'patch_size', 'shape'])\n",
      "0621\n",
      "Starting Training\n",
      "epoch: 00, loss: -0.52699\n",
      "epoch: 01, loss: -0.67872\n",
      "epoch: 02, loss: -0.70376\n",
      "epoch: 03, loss: -0.69925\n",
      "epoch: 04, loss: -0.71717\n",
      "epoch: 05, loss: -0.74233\n",
      "epoch: 06, loss: -0.73672\n",
      "epoch: 07, loss: -0.75332\n",
      "epoch: 08, loss: -0.75655\n",
      "epoch: 09, loss: -0.75272\n",
      "After Unsqueezing, feature size= torch.Size([450, 1, 1, 384])\n"
     ]
    },
    {
     "name": "stderr",
     "output_type": "stream",
     "text": [
      " 62%|██████▏   | 621/1000 [3:19:06<2:04:10, 19.66s/it]"
     ]
    },
    {
     "name": "stdout",
     "output_type": "stream",
     "text": [
      "eigenvalues shape torch.Size([5]) eigenvectors shape torch.Size([5, 450])\n",
      "621 /home/phdcs2/Hard_Disk/Datasets/Deep-Spectral-Segmentation/data/object-segmentation/ECSSD/features/dino_vits16/0622.pth\n",
      "dict_keys(['k', 'indices', 'file', 'id', 'model_name', 'patch_size', 'shape'])\n",
      "0622\n",
      "Starting Training\n",
      "epoch: 00, loss: -0.44941\n",
      "epoch: 01, loss: -0.65907\n",
      "epoch: 02, loss: -0.70072\n",
      "epoch: 03, loss: -0.71600\n",
      "epoch: 04, loss: -0.71875\n",
      "epoch: 05, loss: -0.71180\n",
      "epoch: 06, loss: -0.72981\n",
      "epoch: 07, loss: -0.72887\n",
      "epoch: 08, loss: -0.72277\n",
      "epoch: 09, loss: -0.72546\n",
      "After Unsqueezing, feature size= torch.Size([250, 1, 1, 384])\n"
     ]
    },
    {
     "name": "stderr",
     "output_type": "stream",
     "text": [
      " 62%|██████▏   | 622/1000 [3:19:16<1:45:10, 16.70s/it]"
     ]
    },
    {
     "name": "stdout",
     "output_type": "stream",
     "text": [
      "eigenvalues shape torch.Size([5]) eigenvectors shape torch.Size([5, 250])\n",
      "622 /home/phdcs2/Hard_Disk/Datasets/Deep-Spectral-Segmentation/data/object-segmentation/ECSSD/features/dino_vits16/0623.pth\n",
      "dict_keys(['k', 'indices', 'file', 'id', 'model_name', 'patch_size', 'shape'])\n",
      "0623\n",
      "Starting Training\n",
      "epoch: 00, loss: -0.50264\n",
      "epoch: 01, loss: -0.64184\n",
      "epoch: 02, loss: -0.66506\n",
      "epoch: 03, loss: -0.68476\n",
      "epoch: 04, loss: -0.68707\n",
      "epoch: 05, loss: -0.69067\n",
      "epoch: 06, loss: -0.70255\n",
      "epoch: 07, loss: -0.71883\n",
      "epoch: 08, loss: -0.73158\n",
      "epoch: 09, loss: -0.73476\n",
      "After Unsqueezing, feature size= torch.Size([450, 1, 1, 384])\n"
     ]
    },
    {
     "name": "stderr",
     "output_type": "stream",
     "text": [
      " 62%|██████▏   | 623/1000 [3:19:35<1:49:26, 17.42s/it]"
     ]
    },
    {
     "name": "stdout",
     "output_type": "stream",
     "text": [
      "eigenvalues shape torch.Size([5]) eigenvectors shape torch.Size([5, 450])\n",
      "623 /home/phdcs2/Hard_Disk/Datasets/Deep-Spectral-Segmentation/data/object-segmentation/ECSSD/features/dino_vits16/0624.pth\n",
      "dict_keys(['k', 'indices', 'file', 'id', 'model_name', 'patch_size', 'shape'])\n",
      "0624\n",
      "Starting Training\n",
      "epoch: 00, loss: -0.51573\n",
      "epoch: 01, loss: -0.66857\n",
      "epoch: 02, loss: -0.69420\n",
      "epoch: 03, loss: -0.70874\n",
      "epoch: 04, loss: -0.71829\n",
      "epoch: 05, loss: -0.72633\n",
      "epoch: 06, loss: -0.73835\n",
      "epoch: 07, loss: -0.73745\n",
      "epoch: 08, loss: -0.73962\n",
      "epoch: 09, loss: -0.74081\n",
      "After Unsqueezing, feature size= torch.Size([400, 1, 1, 384])\n"
     ]
    },
    {
     "name": "stderr",
     "output_type": "stream",
     "text": [
      " 62%|██████▏   | 624/1000 [3:19:51<1:46:37, 17.02s/it]"
     ]
    },
    {
     "name": "stdout",
     "output_type": "stream",
     "text": [
      "eigenvalues shape torch.Size([5]) eigenvectors shape torch.Size([5, 400])\n",
      "624 /home/phdcs2/Hard_Disk/Datasets/Deep-Spectral-Segmentation/data/object-segmentation/ECSSD/features/dino_vits16/0625.pth\n",
      "dict_keys(['k', 'indices', 'file', 'id', 'model_name', 'patch_size', 'shape'])\n",
      "0625\n",
      "Starting Training\n",
      "epoch: 00, loss: -0.49035\n",
      "epoch: 01, loss: -0.67153\n",
      "epoch: 02, loss: -0.70423\n",
      "epoch: 03, loss: -0.72886\n",
      "epoch: 04, loss: -0.72834\n",
      "epoch: 05, loss: -0.71660\n",
      "epoch: 06, loss: -0.71629\n",
      "epoch: 07, loss: -0.71076\n",
      "epoch: 08, loss: -0.72294\n",
      "epoch: 09, loss: -0.71365\n",
      "After Unsqueezing, feature size= torch.Size([400, 1, 1, 384])\n"
     ]
    },
    {
     "name": "stderr",
     "output_type": "stream",
     "text": [
      " 62%|██████▎   | 625/1000 [3:20:12<1:53:12, 18.11s/it]"
     ]
    },
    {
     "name": "stdout",
     "output_type": "stream",
     "text": [
      "eigenvalues shape torch.Size([5]) eigenvectors shape torch.Size([5, 400])\n",
      "625 /home/phdcs2/Hard_Disk/Datasets/Deep-Spectral-Segmentation/data/object-segmentation/ECSSD/features/dino_vits16/0626.pth\n",
      "dict_keys(['k', 'indices', 'file', 'id', 'model_name', 'patch_size', 'shape'])\n",
      "0626\n",
      "Starting Training\n",
      "epoch: 00, loss: -0.57310\n",
      "epoch: 01, loss: -0.74621\n",
      "epoch: 02, loss: -0.77105\n",
      "epoch: 03, loss: -0.77917\n",
      "epoch: 04, loss: -0.79365\n",
      "epoch: 05, loss: -0.79473\n",
      "epoch: 06, loss: -0.80290\n",
      "epoch: 07, loss: -0.80471\n",
      "epoch: 08, loss: -0.80584\n",
      "epoch: 09, loss: -0.82197\n",
      "After Unsqueezing, feature size= torch.Size([400, 1, 1, 384])\n"
     ]
    },
    {
     "name": "stderr",
     "output_type": "stream",
     "text": [
      " 63%|██████▎   | 626/1000 [3:20:32<1:56:49, 18.74s/it]"
     ]
    },
    {
     "name": "stdout",
     "output_type": "stream",
     "text": [
      "eigenvalues shape torch.Size([5]) eigenvectors shape torch.Size([5, 400])\n",
      "626 /home/phdcs2/Hard_Disk/Datasets/Deep-Spectral-Segmentation/data/object-segmentation/ECSSD/features/dino_vits16/0627.pth\n",
      "dict_keys(['k', 'indices', 'file', 'id', 'model_name', 'patch_size', 'shape'])\n",
      "0627\n",
      "Starting Training\n",
      "epoch: 00, loss: -0.51530\n",
      "epoch: 01, loss: -0.63019\n",
      "epoch: 02, loss: -0.65955\n",
      "epoch: 03, loss: -0.67538\n",
      "epoch: 04, loss: -0.70103\n",
      "epoch: 05, loss: -0.71905\n",
      "epoch: 06, loss: -0.72243\n",
      "epoch: 07, loss: -0.72522\n",
      "epoch: 08, loss: -0.74166\n",
      "epoch: 09, loss: -0.74725\n",
      "After Unsqueezing, feature size= torch.Size([600, 1, 1, 384])\n"
     ]
    },
    {
     "name": "stderr",
     "output_type": "stream",
     "text": [
      " 63%|██████▎   | 627/1000 [3:20:57<2:07:32, 20.51s/it]"
     ]
    },
    {
     "name": "stdout",
     "output_type": "stream",
     "text": [
      "eigenvalues shape torch.Size([5]) eigenvectors shape torch.Size([5, 600])\n",
      "627 /home/phdcs2/Hard_Disk/Datasets/Deep-Spectral-Segmentation/data/object-segmentation/ECSSD/features/dino_vits16/0628.pth\n",
      "dict_keys(['k', 'indices', 'file', 'id', 'model_name', 'patch_size', 'shape'])\n",
      "0628\n",
      "Starting Training\n",
      "epoch: 00, loss: -0.53889\n",
      "epoch: 01, loss: -0.69789\n",
      "epoch: 02, loss: -0.72550\n",
      "epoch: 03, loss: -0.74412\n",
      "epoch: 04, loss: -0.76375\n",
      "epoch: 05, loss: -0.76250\n",
      "epoch: 06, loss: -0.75560\n",
      "epoch: 07, loss: -0.76068\n",
      "epoch: 08, loss: -0.76926\n",
      "epoch: 09, loss: -0.76200\n",
      "After Unsqueezing, feature size= torch.Size([400, 1, 1, 384])\n"
     ]
    },
    {
     "name": "stderr",
     "output_type": "stream",
     "text": [
      " 63%|██████▎   | 628/1000 [3:21:14<2:00:23, 19.42s/it]"
     ]
    },
    {
     "name": "stdout",
     "output_type": "stream",
     "text": [
      "eigenvalues shape torch.Size([5]) eigenvectors shape torch.Size([5, 400])\n",
      "628 /home/phdcs2/Hard_Disk/Datasets/Deep-Spectral-Segmentation/data/object-segmentation/ECSSD/features/dino_vits16/0629.pth\n",
      "dict_keys(['k', 'indices', 'file', 'id', 'model_name', 'patch_size', 'shape'])\n",
      "0629\n",
      "Starting Training\n",
      "epoch: 00, loss: -0.47739\n",
      "epoch: 01, loss: -0.61654\n",
      "epoch: 02, loss: -0.63788\n",
      "epoch: 03, loss: -0.65162\n",
      "epoch: 04, loss: -0.64959\n",
      "epoch: 05, loss: -0.67002\n",
      "epoch: 06, loss: -0.68040\n",
      "epoch: 07, loss: -0.68874\n",
      "epoch: 08, loss: -0.68555\n",
      "epoch: 09, loss: -0.69454\n",
      "After Unsqueezing, feature size= torch.Size([500, 1, 1, 384])\n"
     ]
    },
    {
     "name": "stderr",
     "output_type": "stream",
     "text": [
      " 63%|██████▎   | 629/1000 [3:21:35<2:03:34, 19.99s/it]"
     ]
    },
    {
     "name": "stdout",
     "output_type": "stream",
     "text": [
      "eigenvalues shape torch.Size([5]) eigenvectors shape torch.Size([5, 500])\n",
      "629 /home/phdcs2/Hard_Disk/Datasets/Deep-Spectral-Segmentation/data/object-segmentation/ECSSD/features/dino_vits16/0630.pth\n",
      "dict_keys(['k', 'indices', 'file', 'id', 'model_name', 'patch_size', 'shape'])\n",
      "0630\n",
      "Starting Training\n",
      "epoch: 00, loss: -0.53207\n",
      "epoch: 01, loss: -0.69285\n",
      "epoch: 02, loss: -0.71374\n",
      "epoch: 03, loss: -0.72698\n",
      "epoch: 04, loss: -0.74376\n",
      "epoch: 05, loss: -0.74603\n",
      "epoch: 06, loss: -0.72854\n",
      "epoch: 07, loss: -0.73617\n",
      "epoch: 08, loss: -0.74277\n",
      "epoch: 09, loss: -0.74892\n",
      "After Unsqueezing, feature size= torch.Size([450, 1, 1, 384])\n"
     ]
    },
    {
     "name": "stderr",
     "output_type": "stream",
     "text": [
      " 63%|██████▎   | 630/1000 [3:21:53<2:00:27, 19.53s/it]"
     ]
    },
    {
     "name": "stdout",
     "output_type": "stream",
     "text": [
      "eigenvalues shape torch.Size([5]) eigenvectors shape torch.Size([5, 450])\n",
      "630 /home/phdcs2/Hard_Disk/Datasets/Deep-Spectral-Segmentation/data/object-segmentation/ECSSD/features/dino_vits16/0631.pth\n",
      "dict_keys(['k', 'indices', 'file', 'id', 'model_name', 'patch_size', 'shape'])\n",
      "0631\n",
      "Starting Training\n",
      "epoch: 00, loss: -0.52678\n",
      "epoch: 01, loss: -0.66512\n",
      "epoch: 02, loss: -0.68107\n",
      "epoch: 03, loss: -0.68714\n",
      "epoch: 04, loss: -0.68327\n",
      "epoch: 05, loss: -0.67300\n",
      "epoch: 06, loss: -0.68557\n",
      "epoch: 07, loss: -0.69579\n",
      "epoch: 08, loss: -0.69318\n",
      "epoch: 09, loss: -0.71307\n",
      "After Unsqueezing, feature size= torch.Size([450, 1, 1, 384])\n"
     ]
    },
    {
     "name": "stderr",
     "output_type": "stream",
     "text": [
      " 63%|██████▎   | 631/1000 [3:22:12<1:59:05, 19.36s/it]"
     ]
    },
    {
     "name": "stdout",
     "output_type": "stream",
     "text": [
      "eigenvalues shape torch.Size([5]) eigenvectors shape torch.Size([5, 450])\n",
      "631 /home/phdcs2/Hard_Disk/Datasets/Deep-Spectral-Segmentation/data/object-segmentation/ECSSD/features/dino_vits16/0632.pth\n",
      "dict_keys(['k', 'indices', 'file', 'id', 'model_name', 'patch_size', 'shape'])\n",
      "0632\n",
      "Starting Training\n",
      "epoch: 00, loss: -0.50549\n",
      "epoch: 01, loss: -0.63398\n",
      "epoch: 02, loss: -0.66674\n",
      "epoch: 03, loss: -0.69366\n",
      "epoch: 04, loss: -0.72001\n",
      "epoch: 05, loss: -0.73754\n",
      "epoch: 06, loss: -0.74894\n",
      "epoch: 07, loss: -0.74938\n",
      "epoch: 08, loss: -0.74817\n",
      "epoch: 09, loss: -0.72536\n",
      "After Unsqueezing, feature size= torch.Size([550, 1, 1, 384])\n"
     ]
    },
    {
     "name": "stderr",
     "output_type": "stream",
     "text": [
      " 63%|██████▎   | 632/1000 [3:22:36<2:06:58, 20.70s/it]"
     ]
    },
    {
     "name": "stdout",
     "output_type": "stream",
     "text": [
      "eigenvalues shape torch.Size([5]) eigenvectors shape torch.Size([5, 550])\n",
      "632 /home/phdcs2/Hard_Disk/Datasets/Deep-Spectral-Segmentation/data/object-segmentation/ECSSD/features/dino_vits16/0633.pth\n",
      "dict_keys(['k', 'indices', 'file', 'id', 'model_name', 'patch_size', 'shape'])\n",
      "0633\n",
      "Starting Training\n",
      "epoch: 00, loss: -0.51930\n",
      "epoch: 01, loss: -0.67058\n",
      "epoch: 02, loss: -0.69654\n",
      "epoch: 03, loss: -0.71216\n",
      "epoch: 04, loss: -0.70367\n",
      "epoch: 05, loss: -0.71592\n",
      "epoch: 06, loss: -0.71944\n",
      "epoch: 07, loss: -0.72701\n",
      "epoch: 08, loss: -0.74605\n",
      "epoch: 09, loss: -0.74758\n",
      "After Unsqueezing, feature size= torch.Size([425, 1, 1, 384])\n"
     ]
    },
    {
     "name": "stderr",
     "output_type": "stream",
     "text": [
      " 63%|██████▎   | 633/1000 [3:22:54<2:00:18, 19.67s/it]"
     ]
    },
    {
     "name": "stdout",
     "output_type": "stream",
     "text": [
      "eigenvalues shape torch.Size([5]) eigenvectors shape torch.Size([5, 425])\n",
      "633 /home/phdcs2/Hard_Disk/Datasets/Deep-Spectral-Segmentation/data/object-segmentation/ECSSD/features/dino_vits16/0634.pth\n",
      "dict_keys(['k', 'indices', 'file', 'id', 'model_name', 'patch_size', 'shape'])\n",
      "0634\n",
      "Starting Training\n",
      "epoch: 00, loss: -0.56077\n",
      "epoch: 01, loss: -0.71490\n",
      "epoch: 02, loss: -0.72402\n",
      "epoch: 03, loss: -0.71021\n",
      "epoch: 04, loss: -0.71390\n",
      "epoch: 05, loss: -0.72008\n",
      "epoch: 06, loss: -0.73670\n",
      "epoch: 07, loss: -0.72904\n",
      "epoch: 08, loss: -0.72135\n",
      "epoch: 09, loss: -0.70589\n",
      "After Unsqueezing, feature size= torch.Size([450, 1, 1, 384])\n"
     ]
    },
    {
     "name": "stderr",
     "output_type": "stream",
     "text": [
      " 63%|██████▎   | 634/1000 [3:23:13<1:59:51, 19.65s/it]"
     ]
    },
    {
     "name": "stdout",
     "output_type": "stream",
     "text": [
      "eigenvalues shape torch.Size([5]) eigenvectors shape torch.Size([5, 450])\n",
      "634 /home/phdcs2/Hard_Disk/Datasets/Deep-Spectral-Segmentation/data/object-segmentation/ECSSD/features/dino_vits16/0635.pth\n",
      "dict_keys(['k', 'indices', 'file', 'id', 'model_name', 'patch_size', 'shape'])\n",
      "0635\n",
      "Starting Training\n",
      "epoch: 00, loss: -0.49099\n",
      "epoch: 01, loss: -0.66354\n",
      "epoch: 02, loss: -0.69648\n",
      "epoch: 03, loss: -0.71908\n",
      "epoch: 04, loss: -0.73092\n",
      "epoch: 05, loss: -0.74074\n",
      "epoch: 06, loss: -0.74200\n",
      "epoch: 07, loss: -0.74280\n",
      "epoch: 08, loss: -0.74363\n",
      "epoch: 09, loss: -0.73967\n",
      "After Unsqueezing, feature size= torch.Size([450, 1, 1, 384])\n"
     ]
    },
    {
     "name": "stderr",
     "output_type": "stream",
     "text": [
      " 64%|██████▎   | 635/1000 [3:23:34<2:01:07, 19.91s/it]"
     ]
    },
    {
     "name": "stdout",
     "output_type": "stream",
     "text": [
      "eigenvalues shape torch.Size([5]) eigenvectors shape torch.Size([5, 450])\n",
      "635 /home/phdcs2/Hard_Disk/Datasets/Deep-Spectral-Segmentation/data/object-segmentation/ECSSD/features/dino_vits16/0636.pth\n",
      "dict_keys(['k', 'indices', 'file', 'id', 'model_name', 'patch_size', 'shape'])\n",
      "0636\n",
      "Starting Training\n",
      "epoch: 00, loss: -0.45345\n",
      "epoch: 01, loss: -0.60823\n",
      "epoch: 02, loss: -0.63658\n",
      "epoch: 03, loss: -0.65313\n",
      "epoch: 04, loss: -0.66641\n",
      "epoch: 05, loss: -0.66962\n",
      "epoch: 06, loss: -0.68673\n",
      "epoch: 07, loss: -0.68967\n",
      "epoch: 08, loss: -0.68229\n",
      "epoch: 09, loss: -0.69234\n",
      "After Unsqueezing, feature size= torch.Size([350, 1, 1, 384])\n"
     ]
    },
    {
     "name": "stderr",
     "output_type": "stream",
     "text": [
      " 64%|██████▎   | 636/1000 [3:23:49<1:51:51, 18.44s/it]"
     ]
    },
    {
     "name": "stdout",
     "output_type": "stream",
     "text": [
      "eigenvalues shape torch.Size([5]) eigenvectors shape torch.Size([5, 350])\n",
      "636 /home/phdcs2/Hard_Disk/Datasets/Deep-Spectral-Segmentation/data/object-segmentation/ECSSD/features/dino_vits16/0637.pth\n",
      "dict_keys(['k', 'indices', 'file', 'id', 'model_name', 'patch_size', 'shape'])\n",
      "0637\n",
      "Starting Training\n",
      "epoch: 00, loss: -0.54438\n",
      "epoch: 01, loss: -0.69942\n",
      "epoch: 02, loss: -0.71694\n",
      "epoch: 03, loss: -0.72064\n",
      "epoch: 04, loss: -0.72207\n",
      "epoch: 05, loss: -0.72978\n",
      "epoch: 06, loss: -0.73501\n",
      "epoch: 07, loss: -0.73878\n",
      "epoch: 08, loss: -0.73667\n",
      "epoch: 09, loss: -0.74605\n",
      "After Unsqueezing, feature size= torch.Size([450, 1, 1, 384])\n"
     ]
    },
    {
     "name": "stderr",
     "output_type": "stream",
     "text": [
      " 64%|██████▎   | 637/1000 [3:24:08<1:52:39, 18.62s/it]"
     ]
    },
    {
     "name": "stdout",
     "output_type": "stream",
     "text": [
      "eigenvalues shape torch.Size([5]) eigenvectors shape torch.Size([5, 450])\n",
      "637 /home/phdcs2/Hard_Disk/Datasets/Deep-Spectral-Segmentation/data/object-segmentation/ECSSD/features/dino_vits16/0638.pth\n",
      "dict_keys(['k', 'indices', 'file', 'id', 'model_name', 'patch_size', 'shape'])\n",
      "0638\n",
      "Starting Training\n",
      "epoch: 00, loss: -0.54388\n",
      "epoch: 01, loss: -0.66939\n",
      "epoch: 02, loss: -0.68372\n",
      "epoch: 03, loss: -0.70082\n",
      "epoch: 04, loss: -0.72313\n",
      "epoch: 05, loss: -0.74089\n",
      "epoch: 06, loss: -0.74122\n",
      "epoch: 07, loss: -0.74653\n",
      "epoch: 08, loss: -0.74381\n",
      "epoch: 09, loss: -0.75298\n",
      "After Unsqueezing, feature size= torch.Size([450, 1, 1, 384])\n"
     ]
    },
    {
     "name": "stderr",
     "output_type": "stream",
     "text": [
      " 64%|██████▍   | 638/1000 [3:24:27<1:53:48, 18.86s/it]"
     ]
    },
    {
     "name": "stdout",
     "output_type": "stream",
     "text": [
      "eigenvalues shape torch.Size([5]) eigenvectors shape torch.Size([5, 450])\n",
      "638 /home/phdcs2/Hard_Disk/Datasets/Deep-Spectral-Segmentation/data/object-segmentation/ECSSD/features/dino_vits16/0639.pth\n",
      "dict_keys(['k', 'indices', 'file', 'id', 'model_name', 'patch_size', 'shape'])\n",
      "0639\n",
      "Starting Training\n",
      "epoch: 00, loss: -0.42970\n",
      "epoch: 01, loss: -0.58310\n",
      "epoch: 02, loss: -0.63067\n",
      "epoch: 03, loss: -0.65016\n",
      "epoch: 04, loss: -0.68146\n",
      "epoch: 05, loss: -0.68350\n",
      "epoch: 06, loss: -0.68722\n",
      "epoch: 07, loss: -0.70502\n",
      "epoch: 08, loss: -0.71766\n",
      "epoch: 09, loss: -0.72593\n",
      "After Unsqueezing, feature size= torch.Size([375, 1, 1, 384])\n"
     ]
    },
    {
     "name": "stderr",
     "output_type": "stream",
     "text": [
      " 64%|██████▍   | 639/1000 [3:24:45<1:51:02, 18.46s/it]"
     ]
    },
    {
     "name": "stdout",
     "output_type": "stream",
     "text": [
      "eigenvalues shape torch.Size([5]) eigenvectors shape torch.Size([5, 375])\n",
      "639 /home/phdcs2/Hard_Disk/Datasets/Deep-Spectral-Segmentation/data/object-segmentation/ECSSD/features/dino_vits16/0640.pth\n",
      "dict_keys(['k', 'indices', 'file', 'id', 'model_name', 'patch_size', 'shape'])\n",
      "0640\n",
      "Starting Training\n",
      "epoch: 00, loss: -0.44305\n",
      "epoch: 01, loss: -0.57685\n",
      "epoch: 02, loss: -0.62477\n",
      "epoch: 03, loss: -0.64171\n",
      "epoch: 04, loss: -0.65584\n",
      "epoch: 05, loss: -0.65506\n",
      "epoch: 06, loss: -0.66182\n",
      "epoch: 07, loss: -0.67689\n",
      "epoch: 08, loss: -0.68253\n",
      "epoch: 09, loss: -0.68533\n",
      "After Unsqueezing, feature size= torch.Size([375, 1, 1, 384])\n"
     ]
    },
    {
     "name": "stderr",
     "output_type": "stream",
     "text": [
      " 64%|██████▍   | 640/1000 [3:25:01<1:46:10, 17.70s/it]"
     ]
    },
    {
     "name": "stdout",
     "output_type": "stream",
     "text": [
      "eigenvalues shape torch.Size([5]) eigenvectors shape torch.Size([5, 375])\n",
      "640 /home/phdcs2/Hard_Disk/Datasets/Deep-Spectral-Segmentation/data/object-segmentation/ECSSD/features/dino_vits16/0641.pth\n",
      "dict_keys(['k', 'indices', 'file', 'id', 'model_name', 'patch_size', 'shape'])\n",
      "0641\n",
      "Starting Training\n",
      "epoch: 00, loss: -0.54011\n",
      "epoch: 01, loss: -0.72078\n",
      "epoch: 02, loss: -0.73708\n",
      "epoch: 03, loss: -0.74939\n",
      "epoch: 04, loss: -0.75961\n",
      "epoch: 05, loss: -0.77646\n",
      "epoch: 06, loss: -0.76092\n",
      "epoch: 07, loss: -0.76477\n",
      "epoch: 08, loss: -0.78107\n",
      "epoch: 09, loss: -0.78888\n",
      "After Unsqueezing, feature size= torch.Size([450, 1, 1, 384])\n"
     ]
    },
    {
     "name": "stderr",
     "output_type": "stream",
     "text": [
      " 64%|██████▍   | 641/1000 [3:25:20<1:49:20, 18.27s/it]"
     ]
    },
    {
     "name": "stdout",
     "output_type": "stream",
     "text": [
      "eigenvalues shape torch.Size([5]) eigenvectors shape torch.Size([5, 450])\n",
      "641 /home/phdcs2/Hard_Disk/Datasets/Deep-Spectral-Segmentation/data/object-segmentation/ECSSD/features/dino_vits16/0642.pth\n",
      "dict_keys(['k', 'indices', 'file', 'id', 'model_name', 'patch_size', 'shape'])\n",
      "0642\n",
      "Starting Training\n",
      "epoch: 00, loss: -0.52840\n",
      "epoch: 01, loss: -0.67990\n",
      "epoch: 02, loss: -0.71513\n",
      "epoch: 03, loss: -0.71317\n",
      "epoch: 04, loss: -0.71886\n",
      "epoch: 05, loss: -0.71843\n",
      "epoch: 06, loss: -0.73252\n",
      "epoch: 07, loss: -0.75707\n",
      "epoch: 08, loss: -0.75255\n",
      "epoch: 09, loss: -0.75391\n",
      "After Unsqueezing, feature size= torch.Size([450, 1, 1, 384])\n"
     ]
    },
    {
     "name": "stderr",
     "output_type": "stream",
     "text": [
      " 64%|██████▍   | 642/1000 [3:25:40<1:51:31, 18.69s/it]"
     ]
    },
    {
     "name": "stdout",
     "output_type": "stream",
     "text": [
      "eigenvalues shape torch.Size([5]) eigenvectors shape torch.Size([5, 450])\n",
      "642 /home/phdcs2/Hard_Disk/Datasets/Deep-Spectral-Segmentation/data/object-segmentation/ECSSD/features/dino_vits16/0643.pth\n",
      "dict_keys(['k', 'indices', 'file', 'id', 'model_name', 'patch_size', 'shape'])\n",
      "0643\n",
      "Starting Training\n",
      "epoch: 00, loss: -0.54579\n",
      "epoch: 01, loss: -0.69940\n",
      "epoch: 02, loss: -0.74843\n",
      "epoch: 03, loss: -0.76198\n",
      "epoch: 04, loss: -0.78164\n",
      "epoch: 05, loss: -0.78664\n",
      "epoch: 06, loss: -0.79940\n",
      "epoch: 07, loss: -0.79980\n",
      "epoch: 08, loss: -0.80921\n",
      "epoch: 09, loss: -0.80349\n",
      "After Unsqueezing, feature size= torch.Size([450, 1, 1, 384])\n"
     ]
    },
    {
     "name": "stderr",
     "output_type": "stream",
     "text": [
      " 64%|██████▍   | 643/1000 [3:25:59<1:52:14, 18.86s/it]"
     ]
    },
    {
     "name": "stdout",
     "output_type": "stream",
     "text": [
      "eigenvalues shape torch.Size([5]) eigenvectors shape torch.Size([5, 450])\n",
      "643 /home/phdcs2/Hard_Disk/Datasets/Deep-Spectral-Segmentation/data/object-segmentation/ECSSD/features/dino_vits16/0644.pth\n",
      "dict_keys(['k', 'indices', 'file', 'id', 'model_name', 'patch_size', 'shape'])\n",
      "0644\n",
      "Starting Training\n",
      "epoch: 00, loss: -0.57832\n",
      "epoch: 01, loss: -0.73645\n",
      "epoch: 02, loss: -0.75076\n",
      "epoch: 03, loss: -0.76471\n",
      "epoch: 04, loss: -0.77183\n",
      "epoch: 05, loss: -0.78842\n",
      "epoch: 06, loss: -0.79570\n",
      "epoch: 07, loss: -0.79883\n",
      "epoch: 08, loss: -0.80197\n",
      "epoch: 09, loss: -0.80328\n",
      "After Unsqueezing, feature size= torch.Size([450, 1, 1, 384])\n"
     ]
    },
    {
     "name": "stderr",
     "output_type": "stream",
     "text": [
      " 64%|██████▍   | 644/1000 [3:26:20<1:55:38, 19.49s/it]"
     ]
    },
    {
     "name": "stdout",
     "output_type": "stream",
     "text": [
      "eigenvalues shape torch.Size([5]) eigenvectors shape torch.Size([5, 450])\n",
      "644 /home/phdcs2/Hard_Disk/Datasets/Deep-Spectral-Segmentation/data/object-segmentation/ECSSD/features/dino_vits16/0645.pth\n",
      "dict_keys(['k', 'indices', 'file', 'id', 'model_name', 'patch_size', 'shape'])\n",
      "0645\n",
      "Starting Training\n",
      "epoch: 00, loss: -0.56910\n",
      "epoch: 01, loss: -0.74568\n",
      "epoch: 02, loss: -0.78008\n",
      "epoch: 03, loss: -0.78365\n",
      "epoch: 04, loss: -0.79944\n",
      "epoch: 05, loss: -0.80301\n",
      "epoch: 06, loss: -0.81191\n",
      "epoch: 07, loss: -0.80799\n",
      "epoch: 08, loss: -0.81169\n",
      "epoch: 09, loss: -0.80746\n",
      "After Unsqueezing, feature size= torch.Size([400, 1, 1, 384])\n"
     ]
    },
    {
     "name": "stderr",
     "output_type": "stream",
     "text": [
      " 64%|██████▍   | 645/1000 [3:26:40<1:55:15, 19.48s/it]"
     ]
    },
    {
     "name": "stdout",
     "output_type": "stream",
     "text": [
      "eigenvalues shape torch.Size([5]) eigenvectors shape torch.Size([5, 400])\n",
      "645 /home/phdcs2/Hard_Disk/Datasets/Deep-Spectral-Segmentation/data/object-segmentation/ECSSD/features/dino_vits16/0646.pth\n",
      "dict_keys(['k', 'indices', 'file', 'id', 'model_name', 'patch_size', 'shape'])\n",
      "0646\n",
      "Starting Training\n",
      "epoch: 00, loss: -0.49229\n",
      "epoch: 01, loss: -0.62614\n",
      "epoch: 02, loss: -0.63878\n",
      "epoch: 03, loss: -0.65245\n",
      "epoch: 04, loss: -0.64306\n",
      "epoch: 05, loss: -0.66300\n",
      "epoch: 06, loss: -0.67964\n",
      "epoch: 07, loss: -0.69058\n",
      "epoch: 08, loss: -0.67110\n",
      "epoch: 09, loss: -0.68133\n",
      "After Unsqueezing, feature size= torch.Size([475, 1, 1, 384])\n"
     ]
    },
    {
     "name": "stderr",
     "output_type": "stream",
     "text": [
      " 65%|██████▍   | 646/1000 [3:27:02<2:00:17, 20.39s/it]"
     ]
    },
    {
     "name": "stdout",
     "output_type": "stream",
     "text": [
      "eigenvalues shape torch.Size([5]) eigenvectors shape torch.Size([5, 475])\n",
      "646 /home/phdcs2/Hard_Disk/Datasets/Deep-Spectral-Segmentation/data/object-segmentation/ECSSD/features/dino_vits16/0647.pth\n",
      "dict_keys(['k', 'indices', 'file', 'id', 'model_name', 'patch_size', 'shape'])\n",
      "0647\n",
      "Starting Training\n",
      "epoch: 00, loss: -0.50953\n",
      "epoch: 01, loss: -0.65634\n",
      "epoch: 02, loss: -0.67647\n",
      "epoch: 03, loss: -0.68097\n",
      "epoch: 04, loss: -0.71010\n",
      "epoch: 05, loss: -0.71604\n",
      "epoch: 06, loss: -0.71965\n",
      "epoch: 07, loss: -0.72030\n",
      "epoch: 08, loss: -0.72365\n",
      "epoch: 09, loss: -0.72018\n",
      "After Unsqueezing, feature size= torch.Size([400, 1, 1, 384])\n"
     ]
    },
    {
     "name": "stderr",
     "output_type": "stream",
     "text": [
      " 65%|██████▍   | 647/1000 [3:27:23<2:00:26, 20.47s/it]"
     ]
    },
    {
     "name": "stdout",
     "output_type": "stream",
     "text": [
      "eigenvalues shape torch.Size([5]) eigenvectors shape torch.Size([5, 400])\n",
      "647 /home/phdcs2/Hard_Disk/Datasets/Deep-Spectral-Segmentation/data/object-segmentation/ECSSD/features/dino_vits16/0648.pth\n",
      "dict_keys(['k', 'indices', 'file', 'id', 'model_name', 'patch_size', 'shape'])\n",
      "0648\n",
      "Starting Training\n",
      "epoch: 00, loss: -0.50680\n",
      "epoch: 01, loss: -0.65367\n",
      "epoch: 02, loss: -0.69416\n",
      "epoch: 03, loss: -0.72041\n",
      "epoch: 04, loss: -0.71479\n",
      "epoch: 05, loss: -0.71807\n",
      "epoch: 06, loss: -0.73917\n",
      "epoch: 07, loss: -0.75525\n",
      "epoch: 08, loss: -0.78404\n",
      "epoch: 09, loss: -0.79589\n",
      "After Unsqueezing, feature size= torch.Size([525, 1, 1, 384])\n"
     ]
    },
    {
     "name": "stderr",
     "output_type": "stream",
     "text": [
      " 65%|██████▍   | 648/1000 [3:27:45<2:03:55, 21.12s/it]"
     ]
    },
    {
     "name": "stdout",
     "output_type": "stream",
     "text": [
      "eigenvalues shape torch.Size([5]) eigenvectors shape torch.Size([5, 525])\n",
      "648 /home/phdcs2/Hard_Disk/Datasets/Deep-Spectral-Segmentation/data/object-segmentation/ECSSD/features/dino_vits16/0649.pth\n",
      "dict_keys(['k', 'indices', 'file', 'id', 'model_name', 'patch_size', 'shape'])\n",
      "0649\n",
      "Starting Training\n",
      "epoch: 00, loss: -0.50114\n",
      "epoch: 01, loss: -0.64990\n",
      "epoch: 02, loss: -0.66189\n",
      "epoch: 03, loss: -0.66385\n",
      "epoch: 04, loss: -0.64095\n",
      "epoch: 05, loss: -0.65811\n",
      "epoch: 06, loss: -0.66229\n",
      "epoch: 07, loss: -0.64357\n",
      "epoch: 08, loss: -0.62832\n",
      "epoch: 09, loss: -0.63937\n",
      "After Unsqueezing, feature size= torch.Size([400, 1, 1, 384])\n"
     ]
    },
    {
     "name": "stderr",
     "output_type": "stream",
     "text": [
      " 65%|██████▍   | 649/1000 [3:28:04<1:58:27, 20.25s/it]"
     ]
    },
    {
     "name": "stdout",
     "output_type": "stream",
     "text": [
      "eigenvalues shape torch.Size([5]) eigenvectors shape torch.Size([5, 400])\n",
      "649 /home/phdcs2/Hard_Disk/Datasets/Deep-Spectral-Segmentation/data/object-segmentation/ECSSD/features/dino_vits16/0650.pth\n",
      "dict_keys(['k', 'indices', 'file', 'id', 'model_name', 'patch_size', 'shape'])\n",
      "0650\n",
      "Starting Training\n",
      "epoch: 00, loss: -0.48976\n",
      "epoch: 01, loss: -0.67346\n",
      "epoch: 02, loss: -0.71205\n",
      "epoch: 03, loss: -0.70330\n",
      "epoch: 04, loss: -0.71985\n",
      "epoch: 05, loss: -0.72806\n",
      "epoch: 06, loss: -0.73218\n",
      "epoch: 07, loss: -0.72326\n",
      "epoch: 08, loss: -0.73879\n",
      "epoch: 09, loss: -0.73110\n",
      "After Unsqueezing, feature size= torch.Size([400, 1, 1, 384])\n"
     ]
    },
    {
     "name": "stderr",
     "output_type": "stream",
     "text": [
      " 65%|██████▌   | 650/1000 [3:28:20<1:50:47, 18.99s/it]"
     ]
    },
    {
     "name": "stdout",
     "output_type": "stream",
     "text": [
      "eigenvalues shape torch.Size([5]) eigenvectors shape torch.Size([5, 400])\n",
      "650 /home/phdcs2/Hard_Disk/Datasets/Deep-Spectral-Segmentation/data/object-segmentation/ECSSD/features/dino_vits16/0651.pth\n",
      "dict_keys(['k', 'indices', 'file', 'id', 'model_name', 'patch_size', 'shape'])\n",
      "0651\n",
      "Starting Training\n",
      "epoch: 00, loss: -0.45868\n",
      "epoch: 01, loss: -0.59197\n",
      "epoch: 02, loss: -0.61303\n",
      "epoch: 03, loss: -0.63191\n",
      "epoch: 04, loss: -0.63058\n",
      "epoch: 05, loss: -0.65084\n",
      "epoch: 06, loss: -0.66370\n",
      "epoch: 07, loss: -0.66554\n",
      "epoch: 08, loss: -0.66326\n",
      "epoch: 09, loss: -0.67262\n",
      "After Unsqueezing, feature size= torch.Size([350, 1, 1, 384])\n"
     ]
    },
    {
     "name": "stderr",
     "output_type": "stream",
     "text": [
      " 65%|██████▌   | 651/1000 [3:28:34<1:42:48, 17.67s/it]"
     ]
    },
    {
     "name": "stdout",
     "output_type": "stream",
     "text": [
      "eigenvalues shape torch.Size([5]) eigenvectors shape torch.Size([5, 350])\n",
      "651 /home/phdcs2/Hard_Disk/Datasets/Deep-Spectral-Segmentation/data/object-segmentation/ECSSD/features/dino_vits16/0652.pth\n",
      "dict_keys(['k', 'indices', 'file', 'id', 'model_name', 'patch_size', 'shape'])\n",
      "0652\n",
      "Starting Training\n",
      "epoch: 00, loss: -0.51151\n",
      "epoch: 01, loss: -0.65708\n",
      "epoch: 02, loss: -0.68359\n",
      "epoch: 03, loss: -0.69502\n",
      "epoch: 04, loss: -0.72723\n",
      "epoch: 05, loss: -0.73640\n",
      "epoch: 06, loss: -0.73524\n",
      "epoch: 07, loss: -0.74465\n",
      "epoch: 08, loss: -0.76045\n",
      "epoch: 09, loss: -0.78219\n",
      "After Unsqueezing, feature size= torch.Size([400, 1, 1, 384])\n"
     ]
    },
    {
     "name": "stderr",
     "output_type": "stream",
     "text": [
      " 65%|██████▌   | 652/1000 [3:28:51<1:40:54, 17.40s/it]"
     ]
    },
    {
     "name": "stdout",
     "output_type": "stream",
     "text": [
      "eigenvalues shape torch.Size([5]) eigenvectors shape torch.Size([5, 400])\n",
      "652 /home/phdcs2/Hard_Disk/Datasets/Deep-Spectral-Segmentation/data/object-segmentation/ECSSD/features/dino_vits16/0653.pth\n",
      "dict_keys(['k', 'indices', 'file', 'id', 'model_name', 'patch_size', 'shape'])\n",
      "0653\n",
      "Starting Training\n",
      "epoch: 00, loss: -0.53610\n",
      "epoch: 01, loss: -0.65959\n",
      "epoch: 02, loss: -0.69808\n",
      "epoch: 03, loss: -0.70655\n",
      "epoch: 04, loss: -0.70936\n",
      "epoch: 05, loss: -0.73296\n",
      "epoch: 06, loss: -0.73565\n",
      "epoch: 07, loss: -0.71563\n",
      "epoch: 08, loss: -0.71439\n",
      "epoch: 09, loss: -0.73569\n",
      "After Unsqueezing, feature size= torch.Size([450, 1, 1, 384])\n"
     ]
    },
    {
     "name": "stderr",
     "output_type": "stream",
     "text": [
      " 65%|██████▌   | 653/1000 [3:29:12<1:47:09, 18.53s/it]"
     ]
    },
    {
     "name": "stdout",
     "output_type": "stream",
     "text": [
      "eigenvalues shape torch.Size([5]) eigenvectors shape torch.Size([5, 450])\n",
      "653 /home/phdcs2/Hard_Disk/Datasets/Deep-Spectral-Segmentation/data/object-segmentation/ECSSD/features/dino_vits16/0654.pth\n",
      "dict_keys(['k', 'indices', 'file', 'id', 'model_name', 'patch_size', 'shape'])\n",
      "0654\n",
      "Starting Training\n",
      "epoch: 00, loss: -0.43424\n",
      "epoch: 01, loss: -0.59841\n",
      "epoch: 02, loss: -0.62861\n",
      "epoch: 03, loss: -0.63306\n",
      "epoch: 04, loss: -0.64555\n",
      "epoch: 05, loss: -0.64825\n",
      "epoch: 06, loss: -0.66359\n",
      "epoch: 07, loss: -0.65206\n",
      "epoch: 08, loss: -0.66904\n",
      "epoch: 09, loss: -0.67661\n",
      "After Unsqueezing, feature size= torch.Size([400, 1, 1, 384])\n"
     ]
    },
    {
     "name": "stderr",
     "output_type": "stream",
     "text": [
      " 65%|██████▌   | 654/1000 [3:29:29<1:44:17, 18.08s/it]"
     ]
    },
    {
     "name": "stdout",
     "output_type": "stream",
     "text": [
      "eigenvalues shape torch.Size([5]) eigenvectors shape torch.Size([5, 400])\n",
      "654 /home/phdcs2/Hard_Disk/Datasets/Deep-Spectral-Segmentation/data/object-segmentation/ECSSD/features/dino_vits16/0655.pth\n",
      "dict_keys(['k', 'indices', 'file', 'id', 'model_name', 'patch_size', 'shape'])\n",
      "0655\n",
      "Starting Training\n",
      "epoch: 00, loss: -0.60575\n",
      "epoch: 01, loss: -0.75769\n",
      "epoch: 02, loss: -0.78360\n",
      "epoch: 03, loss: -0.78898\n",
      "epoch: 04, loss: -0.78351\n",
      "epoch: 05, loss: -0.76672\n",
      "epoch: 06, loss: -0.77674\n",
      "epoch: 07, loss: -0.78450\n",
      "epoch: 08, loss: -0.80399\n",
      "epoch: 09, loss: -0.80880\n",
      "After Unsqueezing, feature size= torch.Size([350, 1, 1, 384])\n"
     ]
    },
    {
     "name": "stderr",
     "output_type": "stream",
     "text": [
      " 66%|██████▌   | 655/1000 [3:29:43<1:36:41, 16.82s/it]"
     ]
    },
    {
     "name": "stdout",
     "output_type": "stream",
     "text": [
      "eigenvalues shape torch.Size([5]) eigenvectors shape torch.Size([5, 350])\n",
      "655 /home/phdcs2/Hard_Disk/Datasets/Deep-Spectral-Segmentation/data/object-segmentation/ECSSD/features/dino_vits16/0656.pth\n",
      "dict_keys(['k', 'indices', 'file', 'id', 'model_name', 'patch_size', 'shape'])\n",
      "0656\n",
      "Starting Training\n",
      "epoch: 00, loss: -0.55886\n",
      "epoch: 01, loss: -0.71763\n",
      "epoch: 02, loss: -0.73705\n",
      "epoch: 03, loss: -0.75716\n",
      "epoch: 04, loss: -0.76678\n",
      "epoch: 05, loss: -0.75920\n",
      "epoch: 06, loss: -0.74066\n",
      "epoch: 07, loss: -0.76353\n",
      "epoch: 08, loss: -0.77872\n",
      "epoch: 09, loss: -0.78351\n",
      "After Unsqueezing, feature size= torch.Size([400, 1, 1, 384])\n"
     ]
    },
    {
     "name": "stderr",
     "output_type": "stream",
     "text": [
      " 66%|██████▌   | 656/1000 [3:30:00<1:37:10, 16.95s/it]"
     ]
    },
    {
     "name": "stdout",
     "output_type": "stream",
     "text": [
      "eigenvalues shape torch.Size([5]) eigenvectors shape torch.Size([5, 400])\n",
      "656 /home/phdcs2/Hard_Disk/Datasets/Deep-Spectral-Segmentation/data/object-segmentation/ECSSD/features/dino_vits16/0657.pth\n",
      "dict_keys(['k', 'indices', 'file', 'id', 'model_name', 'patch_size', 'shape'])\n",
      "0657\n",
      "Starting Training\n",
      "epoch: 00, loss: -0.56467\n",
      "epoch: 01, loss: -0.71185\n",
      "epoch: 02, loss: -0.72224\n",
      "epoch: 03, loss: -0.73230\n",
      "epoch: 04, loss: -0.74042\n",
      "epoch: 05, loss: -0.75154\n",
      "epoch: 06, loss: -0.76030\n",
      "epoch: 07, loss: -0.75366\n",
      "epoch: 08, loss: -0.76727\n",
      "epoch: 09, loss: -0.75964\n",
      "After Unsqueezing, feature size= torch.Size([450, 1, 1, 384])\n"
     ]
    },
    {
     "name": "stderr",
     "output_type": "stream",
     "text": [
      " 66%|██████▌   | 657/1000 [3:30:19<1:39:31, 17.41s/it]"
     ]
    },
    {
     "name": "stdout",
     "output_type": "stream",
     "text": [
      "eigenvalues shape torch.Size([5]) eigenvectors shape torch.Size([5, 450])\n",
      "657 /home/phdcs2/Hard_Disk/Datasets/Deep-Spectral-Segmentation/data/object-segmentation/ECSSD/features/dino_vits16/0658.pth\n",
      "dict_keys(['k', 'indices', 'file', 'id', 'model_name', 'patch_size', 'shape'])\n",
      "0658\n",
      "Starting Training\n",
      "epoch: 00, loss: -0.59276\n",
      "epoch: 01, loss: -0.73826\n",
      "epoch: 02, loss: -0.76096\n",
      "epoch: 03, loss: -0.77201\n",
      "epoch: 04, loss: -0.77071\n",
      "epoch: 05, loss: -0.79052\n",
      "epoch: 06, loss: -0.79641\n",
      "epoch: 07, loss: -0.79716\n",
      "epoch: 08, loss: -0.80140\n",
      "epoch: 09, loss: -0.80783\n",
      "After Unsqueezing, feature size= torch.Size([575, 1, 1, 384])\n"
     ]
    },
    {
     "name": "stderr",
     "output_type": "stream",
     "text": [
      " 66%|██████▌   | 658/1000 [3:30:43<1:50:07, 19.32s/it]"
     ]
    },
    {
     "name": "stdout",
     "output_type": "stream",
     "text": [
      "eigenvalues shape torch.Size([5]) eigenvectors shape torch.Size([5, 575])\n",
      "658 /home/phdcs2/Hard_Disk/Datasets/Deep-Spectral-Segmentation/data/object-segmentation/ECSSD/features/dino_vits16/0659.pth\n",
      "dict_keys(['k', 'indices', 'file', 'id', 'model_name', 'patch_size', 'shape'])\n",
      "0659\n",
      "Starting Training\n",
      "epoch: 00, loss: -0.51282\n",
      "epoch: 01, loss: -0.64475\n",
      "epoch: 02, loss: -0.65958\n",
      "epoch: 03, loss: -0.67818\n",
      "epoch: 04, loss: -0.68171\n",
      "epoch: 05, loss: -0.68920\n",
      "epoch: 06, loss: -0.70535\n",
      "epoch: 07, loss: -0.71408\n",
      "epoch: 08, loss: -0.72274\n",
      "epoch: 09, loss: -0.72838\n",
      "After Unsqueezing, feature size= torch.Size([525, 1, 1, 384])\n"
     ]
    },
    {
     "name": "stderr",
     "output_type": "stream",
     "text": [
      " 66%|██████▌   | 659/1000 [3:31:08<2:00:16, 21.16s/it]"
     ]
    },
    {
     "name": "stdout",
     "output_type": "stream",
     "text": [
      "eigenvalues shape torch.Size([5]) eigenvectors shape torch.Size([5, 525])\n",
      "659 /home/phdcs2/Hard_Disk/Datasets/Deep-Spectral-Segmentation/data/object-segmentation/ECSSD/features/dino_vits16/0660.pth\n",
      "dict_keys(['k', 'indices', 'file', 'id', 'model_name', 'patch_size', 'shape'])\n",
      "0660\n",
      "Starting Training\n",
      "epoch: 00, loss: -0.55809\n",
      "epoch: 01, loss: -0.69310\n",
      "epoch: 02, loss: -0.70873\n",
      "epoch: 03, loss: -0.71204\n",
      "epoch: 04, loss: -0.72014\n",
      "epoch: 05, loss: -0.73488\n",
      "epoch: 06, loss: -0.73140\n",
      "epoch: 07, loss: -0.73822\n",
      "epoch: 08, loss: -0.74259\n",
      "epoch: 09, loss: -0.74720\n",
      "After Unsqueezing, feature size= torch.Size([600, 1, 1, 384])\n"
     ]
    },
    {
     "name": "stderr",
     "output_type": "stream",
     "text": [
      " 66%|██████▌   | 660/1000 [3:31:34<2:08:25, 22.66s/it]"
     ]
    },
    {
     "name": "stdout",
     "output_type": "stream",
     "text": [
      "eigenvalues shape torch.Size([5]) eigenvectors shape torch.Size([5, 600])\n",
      "660 /home/phdcs2/Hard_Disk/Datasets/Deep-Spectral-Segmentation/data/object-segmentation/ECSSD/features/dino_vits16/0661.pth\n",
      "dict_keys(['k', 'indices', 'file', 'id', 'model_name', 'patch_size', 'shape'])\n",
      "0661\n",
      "Starting Training\n",
      "epoch: 00, loss: -0.53243\n",
      "epoch: 01, loss: -0.68381\n",
      "epoch: 02, loss: -0.68564\n",
      "epoch: 03, loss: -0.69424\n",
      "epoch: 04, loss: -0.69826\n",
      "epoch: 05, loss: -0.70524\n",
      "epoch: 06, loss: -0.70556\n",
      "epoch: 07, loss: -0.71667\n",
      "epoch: 08, loss: -0.72549\n",
      "epoch: 09, loss: -0.71283\n",
      "After Unsqueezing, feature size= torch.Size([450, 1, 1, 384])\n"
     ]
    },
    {
     "name": "stderr",
     "output_type": "stream",
     "text": [
      " 66%|██████▌   | 661/1000 [3:31:54<2:02:40, 21.71s/it]"
     ]
    },
    {
     "name": "stdout",
     "output_type": "stream",
     "text": [
      "eigenvalues shape torch.Size([5]) eigenvectors shape torch.Size([5, 450])\n",
      "661 /home/phdcs2/Hard_Disk/Datasets/Deep-Spectral-Segmentation/data/object-segmentation/ECSSD/features/dino_vits16/0662.pth\n",
      "dict_keys(['k', 'indices', 'file', 'id', 'model_name', 'patch_size', 'shape'])\n",
      "0662\n",
      "Starting Training\n",
      "epoch: 00, loss: -0.47884\n",
      "epoch: 01, loss: -0.61234\n",
      "epoch: 02, loss: -0.63276\n",
      "epoch: 03, loss: -0.65837\n",
      "epoch: 04, loss: -0.66827\n",
      "epoch: 05, loss: -0.67003\n",
      "epoch: 06, loss: -0.67790\n",
      "epoch: 07, loss: -0.68582\n",
      "epoch: 08, loss: -0.68318\n",
      "epoch: 09, loss: -0.69950\n",
      "After Unsqueezing, feature size= torch.Size([400, 1, 1, 384])\n"
     ]
    },
    {
     "name": "stderr",
     "output_type": "stream",
     "text": [
      " 66%|██████▌   | 662/1000 [3:32:12<1:55:49, 20.56s/it]"
     ]
    },
    {
     "name": "stdout",
     "output_type": "stream",
     "text": [
      "eigenvalues shape torch.Size([5]) eigenvectors shape torch.Size([5, 400])\n",
      "662 /home/phdcs2/Hard_Disk/Datasets/Deep-Spectral-Segmentation/data/object-segmentation/ECSSD/features/dino_vits16/0663.pth\n",
      "dict_keys(['k', 'indices', 'file', 'id', 'model_name', 'patch_size', 'shape'])\n",
      "0663\n",
      "Starting Training\n",
      "epoch: 00, loss: -0.53822\n",
      "epoch: 01, loss: -0.69374\n",
      "epoch: 02, loss: -0.71306\n",
      "epoch: 03, loss: -0.72867\n",
      "epoch: 04, loss: -0.74620\n",
      "epoch: 05, loss: -0.74348\n",
      "epoch: 06, loss: -0.75016\n",
      "epoch: 07, loss: -0.75710\n",
      "epoch: 08, loss: -0.75309\n",
      "epoch: 09, loss: -0.76758\n",
      "After Unsqueezing, feature size= torch.Size([400, 1, 1, 384])\n"
     ]
    },
    {
     "name": "stderr",
     "output_type": "stream",
     "text": [
      " 66%|██████▋   | 663/1000 [3:32:27<1:47:25, 19.13s/it]"
     ]
    },
    {
     "name": "stdout",
     "output_type": "stream",
     "text": [
      "eigenvalues shape torch.Size([5]) eigenvectors shape torch.Size([5, 400])\n",
      "663 /home/phdcs2/Hard_Disk/Datasets/Deep-Spectral-Segmentation/data/object-segmentation/ECSSD/features/dino_vits16/0664.pth\n",
      "dict_keys(['k', 'indices', 'file', 'id', 'model_name', 'patch_size', 'shape'])\n",
      "0664\n",
      "Starting Training\n",
      "epoch: 00, loss: -0.45411\n",
      "epoch: 01, loss: -0.58200\n",
      "epoch: 02, loss: -0.61004\n",
      "epoch: 03, loss: -0.64305\n",
      "epoch: 04, loss: -0.63947\n",
      "epoch: 05, loss: -0.64486\n",
      "epoch: 06, loss: -0.63895\n",
      "epoch: 07, loss: -0.64550\n",
      "epoch: 08, loss: -0.65728\n",
      "epoch: 09, loss: -0.65315\n",
      "After Unsqueezing, feature size= torch.Size([400, 1, 1, 384])\n"
     ]
    },
    {
     "name": "stderr",
     "output_type": "stream",
     "text": [
      " 66%|██████▋   | 664/1000 [3:32:45<1:45:03, 18.76s/it]"
     ]
    },
    {
     "name": "stdout",
     "output_type": "stream",
     "text": [
      "eigenvalues shape torch.Size([5]) eigenvectors shape torch.Size([5, 400])\n",
      "664 /home/phdcs2/Hard_Disk/Datasets/Deep-Spectral-Segmentation/data/object-segmentation/ECSSD/features/dino_vits16/0665.pth\n",
      "dict_keys(['k', 'indices', 'file', 'id', 'model_name', 'patch_size', 'shape'])\n",
      "0665\n",
      "Starting Training\n",
      "epoch: 00, loss: -0.57384\n",
      "epoch: 01, loss: -0.72461\n",
      "epoch: 02, loss: -0.73583\n",
      "epoch: 03, loss: -0.73720\n",
      "epoch: 04, loss: -0.74547\n",
      "epoch: 05, loss: -0.73933\n",
      "epoch: 06, loss: -0.75273\n",
      "epoch: 07, loss: -0.74499\n",
      "epoch: 08, loss: -0.73983\n",
      "epoch: 09, loss: -0.74075\n",
      "After Unsqueezing, feature size= torch.Size([400, 1, 1, 384])\n"
     ]
    },
    {
     "name": "stderr",
     "output_type": "stream",
     "text": [
      " 66%|██████▋   | 665/1000 [3:33:02<1:42:14, 18.31s/it]"
     ]
    },
    {
     "name": "stdout",
     "output_type": "stream",
     "text": [
      "eigenvalues shape torch.Size([5]) eigenvectors shape torch.Size([5, 400])\n",
      "665 /home/phdcs2/Hard_Disk/Datasets/Deep-Spectral-Segmentation/data/object-segmentation/ECSSD/features/dino_vits16/0666.pth\n",
      "dict_keys(['k', 'indices', 'file', 'id', 'model_name', 'patch_size', 'shape'])\n",
      "0666\n",
      "Starting Training\n",
      "epoch: 00, loss: -0.51898\n",
      "epoch: 01, loss: -0.62797\n",
      "epoch: 02, loss: -0.65129\n",
      "epoch: 03, loss: -0.64509\n",
      "epoch: 04, loss: -0.65458\n",
      "epoch: 05, loss: -0.67163\n",
      "epoch: 06, loss: -0.67491\n",
      "epoch: 07, loss: -0.69292\n",
      "epoch: 08, loss: -0.68764\n",
      "epoch: 09, loss: -0.69537\n",
      "After Unsqueezing, feature size= torch.Size([525, 1, 1, 384])\n"
     ]
    },
    {
     "name": "stderr",
     "output_type": "stream",
     "text": [
      " 67%|██████▋   | 666/1000 [3:33:25<1:49:13, 19.62s/it]"
     ]
    },
    {
     "name": "stdout",
     "output_type": "stream",
     "text": [
      "eigenvalues shape torch.Size([5]) eigenvectors shape torch.Size([5, 525])\n",
      "666 /home/phdcs2/Hard_Disk/Datasets/Deep-Spectral-Segmentation/data/object-segmentation/ECSSD/features/dino_vits16/0667.pth\n",
      "dict_keys(['k', 'indices', 'file', 'id', 'model_name', 'patch_size', 'shape'])\n",
      "0667\n",
      "Starting Training\n",
      "epoch: 00, loss: -0.53182\n",
      "epoch: 01, loss: -0.70556\n",
      "epoch: 02, loss: -0.72641\n",
      "epoch: 03, loss: -0.74088\n",
      "epoch: 04, loss: -0.74692\n",
      "epoch: 05, loss: -0.74723\n",
      "epoch: 06, loss: -0.75714\n",
      "epoch: 07, loss: -0.76247\n",
      "epoch: 08, loss: -0.77144\n",
      "epoch: 09, loss: -0.77153\n",
      "After Unsqueezing, feature size= torch.Size([400, 1, 1, 384])\n"
     ]
    },
    {
     "name": "stderr",
     "output_type": "stream",
     "text": [
      " 67%|██████▋   | 667/1000 [3:33:42<1:44:06, 18.76s/it]"
     ]
    },
    {
     "name": "stdout",
     "output_type": "stream",
     "text": [
      "eigenvalues shape torch.Size([5]) eigenvectors shape torch.Size([5, 400])\n",
      "667 /home/phdcs2/Hard_Disk/Datasets/Deep-Spectral-Segmentation/data/object-segmentation/ECSSD/features/dino_vits16/0668.pth\n",
      "dict_keys(['k', 'indices', 'file', 'id', 'model_name', 'patch_size', 'shape'])\n",
      "0668\n",
      "Starting Training\n",
      "epoch: 00, loss: -0.43938\n",
      "epoch: 01, loss: -0.58466\n",
      "epoch: 02, loss: -0.60639\n",
      "epoch: 03, loss: -0.60197\n",
      "epoch: 04, loss: -0.60130\n",
      "epoch: 05, loss: -0.60753\n",
      "epoch: 06, loss: -0.61104\n",
      "epoch: 07, loss: -0.63005\n",
      "epoch: 08, loss: -0.65015\n",
      "epoch: 09, loss: -0.66139\n",
      "After Unsqueezing, feature size= torch.Size([400, 1, 1, 384])\n"
     ]
    },
    {
     "name": "stderr",
     "output_type": "stream",
     "text": [
      " 67%|██████▋   | 668/1000 [3:34:02<1:46:15, 19.20s/it]"
     ]
    },
    {
     "name": "stdout",
     "output_type": "stream",
     "text": [
      "eigenvalues shape torch.Size([5]) eigenvectors shape torch.Size([5, 400])\n",
      "668 /home/phdcs2/Hard_Disk/Datasets/Deep-Spectral-Segmentation/data/object-segmentation/ECSSD/features/dino_vits16/0669.pth\n",
      "dict_keys(['k', 'indices', 'file', 'id', 'model_name', 'patch_size', 'shape'])\n",
      "0669\n",
      "Starting Training\n",
      "epoch: 00, loss: -0.46619\n",
      "epoch: 01, loss: -0.63227\n",
      "epoch: 02, loss: -0.66075\n",
      "epoch: 03, loss: -0.66339\n",
      "epoch: 04, loss: -0.65552\n",
      "epoch: 05, loss: -0.66097\n",
      "epoch: 06, loss: -0.67022\n",
      "epoch: 07, loss: -0.67683\n",
      "epoch: 08, loss: -0.68934\n",
      "epoch: 09, loss: -0.70225\n",
      "After Unsqueezing, feature size= torch.Size([400, 1, 1, 384])\n"
     ]
    },
    {
     "name": "stderr",
     "output_type": "stream",
     "text": [
      " 67%|██████▋   | 669/1000 [3:34:20<1:43:08, 18.70s/it]"
     ]
    },
    {
     "name": "stdout",
     "output_type": "stream",
     "text": [
      "eigenvalues shape torch.Size([5]) eigenvectors shape torch.Size([5, 400])\n",
      "669 /home/phdcs2/Hard_Disk/Datasets/Deep-Spectral-Segmentation/data/object-segmentation/ECSSD/features/dino_vits16/0670.pth\n",
      "dict_keys(['k', 'indices', 'file', 'id', 'model_name', 'patch_size', 'shape'])\n",
      "0670\n",
      "Starting Training\n",
      "epoch: 00, loss: -0.55889\n",
      "epoch: 01, loss: -0.74804\n",
      "epoch: 02, loss: -0.76998\n",
      "epoch: 03, loss: -0.78765\n",
      "epoch: 04, loss: -0.78629\n",
      "epoch: 05, loss: -0.79660\n",
      "epoch: 06, loss: -0.80108\n",
      "epoch: 07, loss: -0.80503\n",
      "epoch: 08, loss: -0.81466\n",
      "epoch: 09, loss: -0.81889\n",
      "After Unsqueezing, feature size= torch.Size([400, 1, 1, 384])\n"
     ]
    },
    {
     "name": "stderr",
     "output_type": "stream",
     "text": [
      " 67%|██████▋   | 670/1000 [3:34:37<1:40:24, 18.26s/it]"
     ]
    },
    {
     "name": "stdout",
     "output_type": "stream",
     "text": [
      "eigenvalues shape torch.Size([5]) eigenvectors shape torch.Size([5, 400])\n",
      "670 /home/phdcs2/Hard_Disk/Datasets/Deep-Spectral-Segmentation/data/object-segmentation/ECSSD/features/dino_vits16/0671.pth\n",
      "dict_keys(['k', 'indices', 'file', 'id', 'model_name', 'patch_size', 'shape'])\n",
      "0671\n",
      "Starting Training\n",
      "epoch: 00, loss: -0.48143\n",
      "epoch: 01, loss: -0.63265\n",
      "epoch: 02, loss: -0.62208\n",
      "epoch: 03, loss: -0.63465\n",
      "epoch: 04, loss: -0.64860\n",
      "epoch: 05, loss: -0.64884\n",
      "epoch: 06, loss: -0.66550\n",
      "epoch: 07, loss: -0.65495\n",
      "epoch: 08, loss: -0.66489\n",
      "epoch: 09, loss: -0.68720\n",
      "After Unsqueezing, feature size= torch.Size([400, 1, 1, 384])\n"
     ]
    },
    {
     "name": "stderr",
     "output_type": "stream",
     "text": [
      " 67%|██████▋   | 671/1000 [3:34:54<1:37:43, 17.82s/it]"
     ]
    },
    {
     "name": "stdout",
     "output_type": "stream",
     "text": [
      "eigenvalues shape torch.Size([5]) eigenvectors shape torch.Size([5, 400])\n",
      "671 /home/phdcs2/Hard_Disk/Datasets/Deep-Spectral-Segmentation/data/object-segmentation/ECSSD/features/dino_vits16/0672.pth\n",
      "dict_keys(['k', 'indices', 'file', 'id', 'model_name', 'patch_size', 'shape'])\n",
      "0672\n",
      "Starting Training\n",
      "epoch: 00, loss: -0.48382\n",
      "epoch: 01, loss: -0.64928\n",
      "epoch: 02, loss: -0.66070\n",
      "epoch: 03, loss: -0.67641\n",
      "epoch: 04, loss: -0.71701\n",
      "epoch: 05, loss: -0.73136\n",
      "epoch: 06, loss: -0.75122\n",
      "epoch: 07, loss: -0.76846\n",
      "epoch: 08, loss: -0.77925\n",
      "epoch: 09, loss: -0.78291\n",
      "After Unsqueezing, feature size= torch.Size([450, 1, 1, 384])\n"
     ]
    },
    {
     "name": "stderr",
     "output_type": "stream",
     "text": [
      " 67%|██████▋   | 672/1000 [3:35:12<1:37:27, 17.83s/it]"
     ]
    },
    {
     "name": "stdout",
     "output_type": "stream",
     "text": [
      "eigenvalues shape torch.Size([5]) eigenvectors shape torch.Size([5, 450])\n",
      "672 /home/phdcs2/Hard_Disk/Datasets/Deep-Spectral-Segmentation/data/object-segmentation/ECSSD/features/dino_vits16/0673.pth\n",
      "dict_keys(['k', 'indices', 'file', 'id', 'model_name', 'patch_size', 'shape'])\n",
      "0673\n",
      "Starting Training\n",
      "epoch: 00, loss: -0.59150\n",
      "epoch: 01, loss: -0.71434\n",
      "epoch: 02, loss: -0.72527\n",
      "epoch: 03, loss: -0.73995\n",
      "epoch: 04, loss: -0.75693\n",
      "epoch: 05, loss: -0.76707\n",
      "epoch: 06, loss: -0.77043\n",
      "epoch: 07, loss: -0.77888\n",
      "epoch: 08, loss: -0.78425\n",
      "epoch: 09, loss: -0.79254\n",
      "After Unsqueezing, feature size= torch.Size([550, 1, 1, 384])\n"
     ]
    },
    {
     "name": "stderr",
     "output_type": "stream",
     "text": [
      " 67%|██████▋   | 673/1000 [3:35:36<1:47:46, 19.77s/it]"
     ]
    },
    {
     "name": "stdout",
     "output_type": "stream",
     "text": [
      "eigenvalues shape torch.Size([5]) eigenvectors shape torch.Size([5, 550])\n",
      "673 /home/phdcs2/Hard_Disk/Datasets/Deep-Spectral-Segmentation/data/object-segmentation/ECSSD/features/dino_vits16/0674.pth\n",
      "dict_keys(['k', 'indices', 'file', 'id', 'model_name', 'patch_size', 'shape'])\n",
      "0674\n",
      "Starting Training\n",
      "epoch: 00, loss: -0.58651\n",
      "epoch: 01, loss: -0.74021\n",
      "epoch: 02, loss: -0.75996\n",
      "epoch: 03, loss: -0.76493\n",
      "epoch: 04, loss: -0.77358\n",
      "epoch: 05, loss: -0.78183\n",
      "epoch: 06, loss: -0.78234\n",
      "epoch: 07, loss: -0.78287\n",
      "epoch: 08, loss: -0.78538\n",
      "epoch: 09, loss: -0.79075\n",
      "After Unsqueezing, feature size= torch.Size([400, 1, 1, 384])\n"
     ]
    },
    {
     "name": "stderr",
     "output_type": "stream",
     "text": [
      " 67%|██████▋   | 674/1000 [3:35:53<1:42:52, 18.93s/it]"
     ]
    },
    {
     "name": "stdout",
     "output_type": "stream",
     "text": [
      "eigenvalues shape torch.Size([5]) eigenvectors shape torch.Size([5, 400])\n",
      "674 /home/phdcs2/Hard_Disk/Datasets/Deep-Spectral-Segmentation/data/object-segmentation/ECSSD/features/dino_vits16/0675.pth\n",
      "dict_keys(['k', 'indices', 'file', 'id', 'model_name', 'patch_size', 'shape'])\n",
      "0675\n",
      "Starting Training\n",
      "epoch: 00, loss: -0.49976\n",
      "epoch: 01, loss: -0.60690\n",
      "epoch: 02, loss: -0.63866\n",
      "epoch: 03, loss: -0.66115\n",
      "epoch: 04, loss: -0.66890\n",
      "epoch: 05, loss: -0.66798\n",
      "epoch: 06, loss: -0.68612\n",
      "epoch: 07, loss: -0.69386\n",
      "epoch: 08, loss: -0.69220\n",
      "epoch: 09, loss: -0.70240\n",
      "After Unsqueezing, feature size= torch.Size([400, 1, 1, 384])\n"
     ]
    },
    {
     "name": "stderr",
     "output_type": "stream",
     "text": [
      " 68%|██████▊   | 675/1000 [3:36:10<1:39:28, 18.36s/it]"
     ]
    },
    {
     "name": "stdout",
     "output_type": "stream",
     "text": [
      "eigenvalues shape torch.Size([5]) eigenvectors shape torch.Size([5, 400])\n",
      "675 /home/phdcs2/Hard_Disk/Datasets/Deep-Spectral-Segmentation/data/object-segmentation/ECSSD/features/dino_vits16/0676.pth\n",
      "dict_keys(['k', 'indices', 'file', 'id', 'model_name', 'patch_size', 'shape'])\n",
      "0676\n",
      "Starting Training\n",
      "epoch: 00, loss: -0.49771\n",
      "epoch: 01, loss: -0.66284\n",
      "epoch: 02, loss: -0.70053\n",
      "epoch: 03, loss: -0.71580\n",
      "epoch: 04, loss: -0.72877\n",
      "epoch: 05, loss: -0.72524\n",
      "epoch: 06, loss: -0.72859\n",
      "epoch: 07, loss: -0.74129\n",
      "epoch: 08, loss: -0.76077\n",
      "epoch: 09, loss: -0.75747\n",
      "After Unsqueezing, feature size= torch.Size([400, 1, 1, 384])\n"
     ]
    },
    {
     "name": "stderr",
     "output_type": "stream",
     "text": [
      " 68%|██████▊   | 676/1000 [3:36:27<1:37:35, 18.07s/it]"
     ]
    },
    {
     "name": "stdout",
     "output_type": "stream",
     "text": [
      "eigenvalues shape torch.Size([5]) eigenvectors shape torch.Size([5, 400])\n",
      "676 /home/phdcs2/Hard_Disk/Datasets/Deep-Spectral-Segmentation/data/object-segmentation/ECSSD/features/dino_vits16/0677.pth\n",
      "dict_keys(['k', 'indices', 'file', 'id', 'model_name', 'patch_size', 'shape'])\n",
      "0677\n",
      "Starting Training\n",
      "epoch: 00, loss: -0.47786\n",
      "epoch: 01, loss: -0.64023\n",
      "epoch: 02, loss: -0.66524\n",
      "epoch: 03, loss: -0.68359\n",
      "epoch: 04, loss: -0.69291\n",
      "epoch: 05, loss: -0.69762\n",
      "epoch: 06, loss: -0.70283\n",
      "epoch: 07, loss: -0.70107\n",
      "epoch: 08, loss: -0.69850\n",
      "epoch: 09, loss: -0.69338\n",
      "After Unsqueezing, feature size= torch.Size([425, 1, 1, 384])\n"
     ]
    },
    {
     "name": "stderr",
     "output_type": "stream",
     "text": [
      " 68%|██████▊   | 677/1000 [3:36:44<1:34:39, 17.58s/it]"
     ]
    },
    {
     "name": "stdout",
     "output_type": "stream",
     "text": [
      "eigenvalues shape torch.Size([5]) eigenvectors shape torch.Size([5, 425])\n",
      "677 /home/phdcs2/Hard_Disk/Datasets/Deep-Spectral-Segmentation/data/object-segmentation/ECSSD/features/dino_vits16/0678.pth\n",
      "dict_keys(['k', 'indices', 'file', 'id', 'model_name', 'patch_size', 'shape'])\n",
      "0678\n",
      "Starting Training\n",
      "epoch: 00, loss: -0.49638\n",
      "epoch: 01, loss: -0.63710\n",
      "epoch: 02, loss: -0.68685\n",
      "epoch: 03, loss: -0.70455\n",
      "epoch: 04, loss: -0.70533\n",
      "epoch: 05, loss: -0.70966\n",
      "epoch: 06, loss: -0.72569\n",
      "epoch: 07, loss: -0.72607\n",
      "epoch: 08, loss: -0.71388\n",
      "epoch: 09, loss: -0.71772\n",
      "After Unsqueezing, feature size= torch.Size([400, 1, 1, 384])\n"
     ]
    },
    {
     "name": "stderr",
     "output_type": "stream",
     "text": [
      " 68%|██████▊   | 678/1000 [3:37:01<1:33:47, 17.48s/it]"
     ]
    },
    {
     "name": "stdout",
     "output_type": "stream",
     "text": [
      "eigenvalues shape torch.Size([5]) eigenvectors shape torch.Size([5, 400])\n",
      "678 /home/phdcs2/Hard_Disk/Datasets/Deep-Spectral-Segmentation/data/object-segmentation/ECSSD/features/dino_vits16/0679.pth\n",
      "dict_keys(['k', 'indices', 'file', 'id', 'model_name', 'patch_size', 'shape'])\n",
      "0679\n",
      "Starting Training\n",
      "epoch: 00, loss: -0.50500\n",
      "epoch: 01, loss: -0.66863\n",
      "epoch: 02, loss: -0.69388\n",
      "epoch: 03, loss: -0.70122\n",
      "epoch: 04, loss: -0.69654\n",
      "epoch: 05, loss: -0.69835\n",
      "epoch: 06, loss: -0.68650\n",
      "epoch: 07, loss: -0.70798\n",
      "epoch: 08, loss: -0.71600\n",
      "epoch: 09, loss: -0.71239\n",
      "After Unsqueezing, feature size= torch.Size([400, 1, 1, 384])\n"
     ]
    },
    {
     "name": "stderr",
     "output_type": "stream",
     "text": [
      " 68%|██████▊   | 679/1000 [3:37:19<1:34:38, 17.69s/it]"
     ]
    },
    {
     "name": "stdout",
     "output_type": "stream",
     "text": [
      "eigenvalues shape torch.Size([5]) eigenvectors shape torch.Size([5, 400])\n",
      "679 /home/phdcs2/Hard_Disk/Datasets/Deep-Spectral-Segmentation/data/object-segmentation/ECSSD/features/dino_vits16/0680.pth\n",
      "dict_keys(['k', 'indices', 'file', 'id', 'model_name', 'patch_size', 'shape'])\n",
      "0680\n",
      "Starting Training\n",
      "epoch: 00, loss: -0.51174\n",
      "epoch: 01, loss: -0.69781\n",
      "epoch: 02, loss: -0.71937\n",
      "epoch: 03, loss: -0.74275\n",
      "epoch: 04, loss: -0.74544\n",
      "epoch: 05, loss: -0.73919\n",
      "epoch: 06, loss: -0.75112\n",
      "epoch: 07, loss: -0.74440\n",
      "epoch: 08, loss: -0.76744\n",
      "epoch: 09, loss: -0.77599\n",
      "After Unsqueezing, feature size= torch.Size([400, 1, 1, 384])\n"
     ]
    },
    {
     "name": "stderr",
     "output_type": "stream",
     "text": [
      " 68%|██████▊   | 680/1000 [3:37:39<1:38:12, 18.42s/it]"
     ]
    },
    {
     "name": "stdout",
     "output_type": "stream",
     "text": [
      "eigenvalues shape torch.Size([5]) eigenvectors shape torch.Size([5, 400])\n",
      "680 /home/phdcs2/Hard_Disk/Datasets/Deep-Spectral-Segmentation/data/object-segmentation/ECSSD/features/dino_vits16/0681.pth\n",
      "dict_keys(['k', 'indices', 'file', 'id', 'model_name', 'patch_size', 'shape'])\n",
      "0681\n",
      "Starting Training\n",
      "epoch: 00, loss: -0.46548\n",
      "epoch: 01, loss: -0.58163\n",
      "epoch: 02, loss: -0.61654\n",
      "epoch: 03, loss: -0.63602\n",
      "epoch: 04, loss: -0.66586\n",
      "epoch: 05, loss: -0.67597\n",
      "epoch: 06, loss: -0.67694\n",
      "epoch: 07, loss: -0.69130\n",
      "epoch: 08, loss: -0.69469\n",
      "epoch: 09, loss: -0.69938\n",
      "After Unsqueezing, feature size= torch.Size([475, 1, 1, 384])\n"
     ]
    },
    {
     "name": "stderr",
     "output_type": "stream",
     "text": [
      " 68%|██████▊   | 681/1000 [3:38:00<1:41:48, 19.15s/it]"
     ]
    },
    {
     "name": "stdout",
     "output_type": "stream",
     "text": [
      "eigenvalues shape torch.Size([5]) eigenvectors shape torch.Size([5, 475])\n",
      "681 /home/phdcs2/Hard_Disk/Datasets/Deep-Spectral-Segmentation/data/object-segmentation/ECSSD/features/dino_vits16/0682.pth\n",
      "dict_keys(['k', 'indices', 'file', 'id', 'model_name', 'patch_size', 'shape'])\n",
      "0682\n",
      "Starting Training\n",
      "epoch: 00, loss: -0.48729\n",
      "epoch: 01, loss: -0.63775\n",
      "epoch: 02, loss: -0.67204\n",
      "epoch: 03, loss: -0.68473\n",
      "epoch: 04, loss: -0.69665\n",
      "epoch: 05, loss: -0.70440\n",
      "epoch: 06, loss: -0.70598\n",
      "epoch: 07, loss: -0.71602\n",
      "epoch: 08, loss: -0.72352\n",
      "epoch: 09, loss: -0.73582\n",
      "After Unsqueezing, feature size= torch.Size([400, 1, 1, 384])\n"
     ]
    },
    {
     "name": "stderr",
     "output_type": "stream",
     "text": [
      " 68%|██████▊   | 682/1000 [3:38:16<1:36:24, 18.19s/it]"
     ]
    },
    {
     "name": "stdout",
     "output_type": "stream",
     "text": [
      "eigenvalues shape torch.Size([5]) eigenvectors shape torch.Size([5, 400])\n",
      "682 /home/phdcs2/Hard_Disk/Datasets/Deep-Spectral-Segmentation/data/object-segmentation/ECSSD/features/dino_vits16/0683.pth\n",
      "dict_keys(['k', 'indices', 'file', 'id', 'model_name', 'patch_size', 'shape'])\n",
      "0683\n",
      "Starting Training\n",
      "epoch: 00, loss: -0.52219\n",
      "epoch: 01, loss: -0.65983\n",
      "epoch: 02, loss: -0.67824\n",
      "epoch: 03, loss: -0.69157\n",
      "epoch: 04, loss: -0.70131\n",
      "epoch: 05, loss: -0.70469\n",
      "epoch: 06, loss: -0.71188\n",
      "epoch: 07, loss: -0.72104\n",
      "epoch: 08, loss: -0.72884\n",
      "epoch: 09, loss: -0.73207\n",
      "After Unsqueezing, feature size= torch.Size([450, 1, 1, 384])\n"
     ]
    },
    {
     "name": "stderr",
     "output_type": "stream",
     "text": [
      " 68%|██████▊   | 683/1000 [3:38:35<1:37:28, 18.45s/it]"
     ]
    },
    {
     "name": "stdout",
     "output_type": "stream",
     "text": [
      "eigenvalues shape torch.Size([5]) eigenvectors shape torch.Size([5, 450])\n",
      "683 /home/phdcs2/Hard_Disk/Datasets/Deep-Spectral-Segmentation/data/object-segmentation/ECSSD/features/dino_vits16/0684.pth\n",
      "dict_keys(['k', 'indices', 'file', 'id', 'model_name', 'patch_size', 'shape'])\n",
      "0684\n",
      "Starting Training\n",
      "epoch: 00, loss: -0.47592\n",
      "epoch: 01, loss: -0.65007\n",
      "epoch: 02, loss: -0.68773\n",
      "epoch: 03, loss: -0.70018\n",
      "epoch: 04, loss: -0.69160\n",
      "epoch: 05, loss: -0.69936\n",
      "epoch: 06, loss: -0.71381\n",
      "epoch: 07, loss: -0.70564\n",
      "epoch: 08, loss: -0.71218\n",
      "epoch: 09, loss: -0.71185\n",
      "After Unsqueezing, feature size= torch.Size([400, 1, 1, 384])\n"
     ]
    },
    {
     "name": "stderr",
     "output_type": "stream",
     "text": [
      " 68%|██████▊   | 684/1000 [3:38:53<1:36:41, 18.36s/it]"
     ]
    },
    {
     "name": "stdout",
     "output_type": "stream",
     "text": [
      "eigenvalues shape torch.Size([5]) eigenvectors shape torch.Size([5, 400])\n",
      "684 /home/phdcs2/Hard_Disk/Datasets/Deep-Spectral-Segmentation/data/object-segmentation/ECSSD/features/dino_vits16/0685.pth\n",
      "dict_keys(['k', 'indices', 'file', 'id', 'model_name', 'patch_size', 'shape'])\n",
      "0685\n",
      "Starting Training\n",
      "epoch: 00, loss: -0.47984\n",
      "epoch: 01, loss: -0.65486\n",
      "epoch: 02, loss: -0.68402\n",
      "epoch: 03, loss: -0.70006\n",
      "epoch: 04, loss: -0.70857\n",
      "epoch: 05, loss: -0.70429\n",
      "epoch: 06, loss: -0.71581\n",
      "epoch: 07, loss: -0.72734\n",
      "epoch: 08, loss: -0.73478\n",
      "epoch: 09, loss: -0.73975\n",
      "After Unsqueezing, feature size= torch.Size([400, 1, 1, 384])\n"
     ]
    },
    {
     "name": "stderr",
     "output_type": "stream",
     "text": [
      " 68%|██████▊   | 685/1000 [3:39:13<1:38:32, 18.77s/it]"
     ]
    },
    {
     "name": "stdout",
     "output_type": "stream",
     "text": [
      "eigenvalues shape torch.Size([5]) eigenvectors shape torch.Size([5, 400])\n",
      "685 /home/phdcs2/Hard_Disk/Datasets/Deep-Spectral-Segmentation/data/object-segmentation/ECSSD/features/dino_vits16/0686.pth\n",
      "dict_keys(['k', 'indices', 'file', 'id', 'model_name', 'patch_size', 'shape'])\n",
      "0686\n",
      "Starting Training\n",
      "epoch: 00, loss: -0.46237\n",
      "epoch: 01, loss: -0.61945\n",
      "epoch: 02, loss: -0.64202\n",
      "epoch: 03, loss: -0.63035\n",
      "epoch: 04, loss: -0.64000\n",
      "epoch: 05, loss: -0.66701\n",
      "epoch: 06, loss: -0.65487\n",
      "epoch: 07, loss: -0.66901\n",
      "epoch: 08, loss: -0.66909\n",
      "epoch: 09, loss: -0.67918\n",
      "After Unsqueezing, feature size= torch.Size([400, 1, 1, 384])\n"
     ]
    },
    {
     "name": "stderr",
     "output_type": "stream",
     "text": [
      " 69%|██████▊   | 686/1000 [3:39:30<1:34:56, 18.14s/it]"
     ]
    },
    {
     "name": "stdout",
     "output_type": "stream",
     "text": [
      "eigenvalues shape torch.Size([5]) eigenvectors shape torch.Size([5, 400])\n",
      "686 /home/phdcs2/Hard_Disk/Datasets/Deep-Spectral-Segmentation/data/object-segmentation/ECSSD/features/dino_vits16/0687.pth\n",
      "dict_keys(['k', 'indices', 'file', 'id', 'model_name', 'patch_size', 'shape'])\n",
      "0687\n",
      "Starting Training\n",
      "epoch: 00, loss: -0.43708\n",
      "epoch: 01, loss: -0.57687\n",
      "epoch: 02, loss: -0.60087\n",
      "epoch: 03, loss: -0.61885\n",
      "epoch: 04, loss: -0.64191\n",
      "epoch: 05, loss: -0.64285\n",
      "epoch: 06, loss: -0.63617\n",
      "epoch: 07, loss: -0.64949\n",
      "epoch: 08, loss: -0.66166\n",
      "epoch: 09, loss: -0.66151\n",
      "After Unsqueezing, feature size= torch.Size([400, 1, 1, 384])\n"
     ]
    },
    {
     "name": "stderr",
     "output_type": "stream",
     "text": [
      " 69%|██████▊   | 687/1000 [3:39:47<1:34:04, 18.03s/it]"
     ]
    },
    {
     "name": "stdout",
     "output_type": "stream",
     "text": [
      "eigenvalues shape torch.Size([5]) eigenvectors shape torch.Size([5, 400])\n",
      "687 /home/phdcs2/Hard_Disk/Datasets/Deep-Spectral-Segmentation/data/object-segmentation/ECSSD/features/dino_vits16/0688.pth\n",
      "dict_keys(['k', 'indices', 'file', 'id', 'model_name', 'patch_size', 'shape'])\n",
      "0688\n",
      "Starting Training\n",
      "epoch: 00, loss: -0.53813\n",
      "epoch: 01, loss: -0.69229\n",
      "epoch: 02, loss: -0.72718\n",
      "epoch: 03, loss: -0.73725\n",
      "epoch: 04, loss: -0.76106\n",
      "epoch: 05, loss: -0.75747\n",
      "epoch: 06, loss: -0.76361\n",
      "epoch: 07, loss: -0.75916\n",
      "epoch: 08, loss: -0.76207\n",
      "epoch: 09, loss: -0.76833\n",
      "After Unsqueezing, feature size= torch.Size([425, 1, 1, 384])\n"
     ]
    },
    {
     "name": "stderr",
     "output_type": "stream",
     "text": [
      " 69%|██████▉   | 688/1000 [3:40:06<1:34:32, 18.18s/it]"
     ]
    },
    {
     "name": "stdout",
     "output_type": "stream",
     "text": [
      "eigenvalues shape torch.Size([5]) eigenvectors shape torch.Size([5, 425])\n",
      "688 /home/phdcs2/Hard_Disk/Datasets/Deep-Spectral-Segmentation/data/object-segmentation/ECSSD/features/dino_vits16/0689.pth\n",
      "dict_keys(['k', 'indices', 'file', 'id', 'model_name', 'patch_size', 'shape'])\n",
      "0689\n",
      "Starting Training\n",
      "epoch: 00, loss: -0.46854\n",
      "epoch: 01, loss: -0.62612\n",
      "epoch: 02, loss: -0.64319\n",
      "epoch: 03, loss: -0.66160\n",
      "epoch: 04, loss: -0.66867\n",
      "epoch: 05, loss: -0.66737\n",
      "epoch: 06, loss: -0.68780\n",
      "epoch: 07, loss: -0.70269\n",
      "epoch: 08, loss: -0.71074\n",
      "epoch: 09, loss: -0.72037\n",
      "After Unsqueezing, feature size= torch.Size([425, 1, 1, 384])\n"
     ]
    },
    {
     "name": "stderr",
     "output_type": "stream",
     "text": [
      " 69%|██████▉   | 689/1000 [3:40:24<1:34:29, 18.23s/it]"
     ]
    },
    {
     "name": "stdout",
     "output_type": "stream",
     "text": [
      "eigenvalues shape torch.Size([5]) eigenvectors shape torch.Size([5, 425])\n",
      "689 /home/phdcs2/Hard_Disk/Datasets/Deep-Spectral-Segmentation/data/object-segmentation/ECSSD/features/dino_vits16/0690.pth\n",
      "dict_keys(['k', 'indices', 'file', 'id', 'model_name', 'patch_size', 'shape'])\n",
      "0690\n",
      "Starting Training\n",
      "epoch: 00, loss: -0.50897\n",
      "epoch: 01, loss: -0.66228\n",
      "epoch: 02, loss: -0.68695\n",
      "epoch: 03, loss: -0.71618\n",
      "epoch: 04, loss: -0.72692\n",
      "epoch: 05, loss: -0.74669\n",
      "epoch: 06, loss: -0.74785\n",
      "epoch: 07, loss: -0.76285\n",
      "epoch: 08, loss: -0.75521\n",
      "epoch: 09, loss: -0.76047\n",
      "After Unsqueezing, feature size= torch.Size([450, 1, 1, 384])\n"
     ]
    },
    {
     "name": "stderr",
     "output_type": "stream",
     "text": [
      " 69%|██████▉   | 690/1000 [3:40:47<1:41:13, 19.59s/it]"
     ]
    },
    {
     "name": "stdout",
     "output_type": "stream",
     "text": [
      "eigenvalues shape torch.Size([5]) eigenvectors shape torch.Size([5, 450])\n",
      "690 /home/phdcs2/Hard_Disk/Datasets/Deep-Spectral-Segmentation/data/object-segmentation/ECSSD/features/dino_vits16/0691.pth\n",
      "dict_keys(['k', 'indices', 'file', 'id', 'model_name', 'patch_size', 'shape'])\n",
      "0691\n",
      "Starting Training\n",
      "epoch: 00, loss: -0.56362\n",
      "epoch: 01, loss: -0.67930\n",
      "epoch: 02, loss: -0.71389\n",
      "epoch: 03, loss: -0.72696\n",
      "epoch: 04, loss: -0.73591\n",
      "epoch: 05, loss: -0.75847\n",
      "epoch: 06, loss: -0.76653\n",
      "epoch: 07, loss: -0.76759\n",
      "epoch: 08, loss: -0.77344\n",
      "epoch: 09, loss: -0.77042\n",
      "After Unsqueezing, feature size= torch.Size([450, 1, 1, 384])\n"
     ]
    },
    {
     "name": "stderr",
     "output_type": "stream",
     "text": [
      " 69%|██████▉   | 691/1000 [3:41:05<1:38:16, 19.08s/it]"
     ]
    },
    {
     "name": "stdout",
     "output_type": "stream",
     "text": [
      "eigenvalues shape torch.Size([5]) eigenvectors shape torch.Size([5, 450])\n",
      "691 /home/phdcs2/Hard_Disk/Datasets/Deep-Spectral-Segmentation/data/object-segmentation/ECSSD/features/dino_vits16/0692.pth\n",
      "dict_keys(['k', 'indices', 'file', 'id', 'model_name', 'patch_size', 'shape'])\n",
      "0692\n",
      "Starting Training\n",
      "epoch: 00, loss: -0.49570\n",
      "epoch: 01, loss: -0.62519\n",
      "epoch: 02, loss: -0.65448\n",
      "epoch: 03, loss: -0.67781\n",
      "epoch: 04, loss: -0.68443\n",
      "epoch: 05, loss: -0.69810\n",
      "epoch: 06, loss: -0.69941\n",
      "epoch: 07, loss: -0.70941\n",
      "epoch: 08, loss: -0.71419\n",
      "epoch: 09, loss: -0.70740\n",
      "After Unsqueezing, feature size= torch.Size([400, 1, 1, 384])\n"
     ]
    },
    {
     "name": "stderr",
     "output_type": "stream",
     "text": [
      " 69%|██████▉   | 692/1000 [3:41:22<1:35:08, 18.53s/it]"
     ]
    },
    {
     "name": "stdout",
     "output_type": "stream",
     "text": [
      "eigenvalues shape torch.Size([5]) eigenvectors shape torch.Size([5, 400])\n",
      "692 /home/phdcs2/Hard_Disk/Datasets/Deep-Spectral-Segmentation/data/object-segmentation/ECSSD/features/dino_vits16/0693.pth\n",
      "dict_keys(['k', 'indices', 'file', 'id', 'model_name', 'patch_size', 'shape'])\n",
      "0693\n",
      "Starting Training\n",
      "epoch: 00, loss: -0.43907\n",
      "epoch: 01, loss: -0.59343\n",
      "epoch: 02, loss: -0.62131\n",
      "epoch: 03, loss: -0.63383\n",
      "epoch: 04, loss: -0.65420\n",
      "epoch: 05, loss: -0.66946\n",
      "epoch: 06, loss: -0.66878\n",
      "epoch: 07, loss: -0.68649\n",
      "epoch: 08, loss: -0.69427\n",
      "epoch: 09, loss: -0.70068\n",
      "After Unsqueezing, feature size= torch.Size([400, 1, 1, 384])\n"
     ]
    },
    {
     "name": "stderr",
     "output_type": "stream",
     "text": [
      " 69%|██████▉   | 693/1000 [3:41:39<1:31:46, 17.94s/it]"
     ]
    },
    {
     "name": "stdout",
     "output_type": "stream",
     "text": [
      "eigenvalues shape torch.Size([5]) eigenvectors shape torch.Size([5, 400])\n",
      "693 /home/phdcs2/Hard_Disk/Datasets/Deep-Spectral-Segmentation/data/object-segmentation/ECSSD/features/dino_vits16/0694.pth\n",
      "dict_keys(['k', 'indices', 'file', 'id', 'model_name', 'patch_size', 'shape'])\n",
      "0694\n",
      "Starting Training\n",
      "epoch: 00, loss: -0.59087\n",
      "epoch: 01, loss: -0.74221\n",
      "epoch: 02, loss: -0.75856\n",
      "epoch: 03, loss: -0.77666\n",
      "epoch: 04, loss: -0.78432\n",
      "epoch: 05, loss: -0.78949\n",
      "epoch: 06, loss: -0.78890\n",
      "epoch: 07, loss: -0.78371\n",
      "epoch: 08, loss: -0.79114\n",
      "epoch: 09, loss: -0.80020\n",
      "After Unsqueezing, feature size= torch.Size([500, 1, 1, 384])\n"
     ]
    },
    {
     "name": "stderr",
     "output_type": "stream",
     "text": [
      " 69%|██████▉   | 694/1000 [3:42:01<1:38:44, 19.36s/it]"
     ]
    },
    {
     "name": "stdout",
     "output_type": "stream",
     "text": [
      "eigenvalues shape torch.Size([5]) eigenvectors shape torch.Size([5, 500])\n",
      "694 /home/phdcs2/Hard_Disk/Datasets/Deep-Spectral-Segmentation/data/object-segmentation/ECSSD/features/dino_vits16/0695.pth\n",
      "dict_keys(['k', 'indices', 'file', 'id', 'model_name', 'patch_size', 'shape'])\n",
      "0695\n",
      "Starting Training\n",
      "epoch: 00, loss: -0.48365\n",
      "epoch: 01, loss: -0.61739\n",
      "epoch: 02, loss: -0.64290\n",
      "epoch: 03, loss: -0.65863\n",
      "epoch: 04, loss: -0.68883\n",
      "epoch: 05, loss: -0.70433\n",
      "epoch: 06, loss: -0.71169\n",
      "epoch: 07, loss: -0.72811\n",
      "epoch: 08, loss: -0.72753\n",
      "epoch: 09, loss: -0.72497\n",
      "After Unsqueezing, feature size= torch.Size([400, 1, 1, 384])\n"
     ]
    },
    {
     "name": "stderr",
     "output_type": "stream",
     "text": [
      " 70%|██████▉   | 695/1000 [3:42:20<1:37:14, 19.13s/it]"
     ]
    },
    {
     "name": "stdout",
     "output_type": "stream",
     "text": [
      "eigenvalues shape torch.Size([5]) eigenvectors shape torch.Size([5, 400])\n",
      "695 /home/phdcs2/Hard_Disk/Datasets/Deep-Spectral-Segmentation/data/object-segmentation/ECSSD/features/dino_vits16/0696.pth\n",
      "dict_keys(['k', 'indices', 'file', 'id', 'model_name', 'patch_size', 'shape'])\n",
      "0696\n",
      "Starting Training\n",
      "epoch: 00, loss: -0.56984\n",
      "epoch: 01, loss: -0.68994\n",
      "epoch: 02, loss: -0.69759\n",
      "epoch: 03, loss: -0.70786\n",
      "epoch: 04, loss: -0.71471\n",
      "epoch: 05, loss: -0.73275\n",
      "epoch: 06, loss: -0.71443\n",
      "epoch: 07, loss: -0.72704\n",
      "epoch: 08, loss: -0.73412\n",
      "epoch: 09, loss: -0.74694\n",
      "After Unsqueezing, feature size= torch.Size([575, 1, 1, 384])\n"
     ]
    },
    {
     "name": "stderr",
     "output_type": "stream",
     "text": [
      " 70%|██████▉   | 696/1000 [3:42:46<1:46:53, 21.10s/it]"
     ]
    },
    {
     "name": "stdout",
     "output_type": "stream",
     "text": [
      "eigenvalues shape torch.Size([5]) eigenvectors shape torch.Size([5, 575])\n",
      "696 /home/phdcs2/Hard_Disk/Datasets/Deep-Spectral-Segmentation/data/object-segmentation/ECSSD/features/dino_vits16/0697.pth\n",
      "dict_keys(['k', 'indices', 'file', 'id', 'model_name', 'patch_size', 'shape'])\n",
      "0697\n",
      "Starting Training\n",
      "epoch: 00, loss: -0.49394\n",
      "epoch: 01, loss: -0.63737\n",
      "epoch: 02, loss: -0.64656\n",
      "epoch: 03, loss: -0.66134\n",
      "epoch: 04, loss: -0.66038\n",
      "epoch: 05, loss: -0.67287\n",
      "epoch: 06, loss: -0.69083\n",
      "epoch: 07, loss: -0.70218\n",
      "epoch: 08, loss: -0.70519\n",
      "epoch: 09, loss: -0.70223\n",
      "After Unsqueezing, feature size= torch.Size([450, 1, 1, 384])\n"
     ]
    },
    {
     "name": "stderr",
     "output_type": "stream",
     "text": [
      " 70%|██████▉   | 697/1000 [3:43:08<1:48:11, 21.42s/it]"
     ]
    },
    {
     "name": "stdout",
     "output_type": "stream",
     "text": [
      "eigenvalues shape torch.Size([5]) eigenvectors shape torch.Size([5, 450])\n",
      "697 /home/phdcs2/Hard_Disk/Datasets/Deep-Spectral-Segmentation/data/object-segmentation/ECSSD/features/dino_vits16/0698.pth\n",
      "dict_keys(['k', 'indices', 'file', 'id', 'model_name', 'patch_size', 'shape'])\n",
      "0698\n",
      "Starting Training\n",
      "epoch: 00, loss: -0.50582\n",
      "epoch: 01, loss: -0.64490\n",
      "epoch: 02, loss: -0.67336\n",
      "epoch: 03, loss: -0.68719\n",
      "epoch: 04, loss: -0.69364\n",
      "epoch: 05, loss: -0.71404\n",
      "epoch: 06, loss: -0.71458\n",
      "epoch: 07, loss: -0.71889\n",
      "epoch: 08, loss: -0.74719\n",
      "epoch: 09, loss: -0.74843\n",
      "After Unsqueezing, feature size= torch.Size([450, 1, 1, 384])\n"
     ]
    },
    {
     "name": "stderr",
     "output_type": "stream",
     "text": [
      " 70%|██████▉   | 698/1000 [3:43:31<1:49:42, 21.80s/it]"
     ]
    },
    {
     "name": "stdout",
     "output_type": "stream",
     "text": [
      "eigenvalues shape torch.Size([5]) eigenvectors shape torch.Size([5, 450])\n",
      "698 /home/phdcs2/Hard_Disk/Datasets/Deep-Spectral-Segmentation/data/object-segmentation/ECSSD/features/dino_vits16/0699.pth\n",
      "dict_keys(['k', 'indices', 'file', 'id', 'model_name', 'patch_size', 'shape'])\n",
      "0699\n",
      "Starting Training\n",
      "epoch: 00, loss: -0.57332\n",
      "epoch: 01, loss: -0.72999\n",
      "epoch: 02, loss: -0.74066\n",
      "epoch: 03, loss: -0.74940\n",
      "epoch: 04, loss: -0.75136\n",
      "epoch: 05, loss: -0.76252\n",
      "epoch: 06, loss: -0.78325\n",
      "epoch: 07, loss: -0.78421\n",
      "epoch: 08, loss: -0.77973\n",
      "epoch: 09, loss: -0.78690\n",
      "After Unsqueezing, feature size= torch.Size([450, 1, 1, 384])\n"
     ]
    },
    {
     "name": "stderr",
     "output_type": "stream",
     "text": [
      " 70%|██████▉   | 699/1000 [3:43:52<1:48:53, 21.71s/it]"
     ]
    },
    {
     "name": "stdout",
     "output_type": "stream",
     "text": [
      "eigenvalues shape torch.Size([5]) eigenvectors shape torch.Size([5, 450])\n",
      "699 /home/phdcs2/Hard_Disk/Datasets/Deep-Spectral-Segmentation/data/object-segmentation/ECSSD/features/dino_vits16/0700.pth\n",
      "dict_keys(['k', 'indices', 'file', 'id', 'model_name', 'patch_size', 'shape'])\n",
      "0700\n",
      "Starting Training\n",
      "epoch: 00, loss: -0.43689\n",
      "epoch: 01, loss: -0.62036\n",
      "epoch: 02, loss: -0.64460\n",
      "epoch: 03, loss: -0.66105\n",
      "epoch: 04, loss: -0.68356\n",
      "epoch: 05, loss: -0.68960\n",
      "epoch: 06, loss: -0.70336\n",
      "epoch: 07, loss: -0.69794\n",
      "epoch: 08, loss: -0.68047\n",
      "epoch: 09, loss: -0.68670\n",
      "After Unsqueezing, feature size= torch.Size([450, 1, 1, 384])\n"
     ]
    },
    {
     "name": "stderr",
     "output_type": "stream",
     "text": [
      " 70%|███████   | 700/1000 [3:44:11<1:44:57, 20.99s/it]"
     ]
    },
    {
     "name": "stdout",
     "output_type": "stream",
     "text": [
      "eigenvalues shape torch.Size([5]) eigenvectors shape torch.Size([5, 450])\n",
      "700 /home/phdcs2/Hard_Disk/Datasets/Deep-Spectral-Segmentation/data/object-segmentation/ECSSD/features/dino_vits16/0701.pth\n",
      "dict_keys(['k', 'indices', 'file', 'id', 'model_name', 'patch_size', 'shape'])\n",
      "0701\n",
      "Starting Training\n",
      "epoch: 00, loss: -0.58000\n",
      "epoch: 01, loss: -0.73072\n",
      "epoch: 02, loss: -0.76681\n",
      "epoch: 03, loss: -0.77093\n",
      "epoch: 04, loss: -0.78319\n",
      "epoch: 05, loss: -0.78970\n",
      "epoch: 06, loss: -0.79608\n",
      "epoch: 07, loss: -0.80217\n",
      "epoch: 08, loss: -0.79808\n",
      "epoch: 09, loss: -0.81391\n",
      "After Unsqueezing, feature size= torch.Size([450, 1, 1, 384])\n"
     ]
    },
    {
     "name": "stderr",
     "output_type": "stream",
     "text": [
      " 70%|███████   | 701/1000 [3:44:30<1:40:25, 20.15s/it]"
     ]
    },
    {
     "name": "stdout",
     "output_type": "stream",
     "text": [
      "eigenvalues shape torch.Size([5]) eigenvectors shape torch.Size([5, 450])\n",
      "701 /home/phdcs2/Hard_Disk/Datasets/Deep-Spectral-Segmentation/data/object-segmentation/ECSSD/features/dino_vits16/0702.pth\n",
      "dict_keys(['k', 'indices', 'file', 'id', 'model_name', 'patch_size', 'shape'])\n",
      "0702\n",
      "Starting Training\n",
      "epoch: 00, loss: -0.52454\n",
      "epoch: 01, loss: -0.71141\n",
      "epoch: 02, loss: -0.74592\n",
      "epoch: 03, loss: -0.75898\n",
      "epoch: 04, loss: -0.77036\n",
      "epoch: 05, loss: -0.78691\n",
      "epoch: 06, loss: -0.79662\n",
      "epoch: 07, loss: -0.79341\n",
      "epoch: 08, loss: -0.79704\n",
      "epoch: 09, loss: -0.80734\n",
      "After Unsqueezing, feature size= torch.Size([425, 1, 1, 384])\n"
     ]
    },
    {
     "name": "stderr",
     "output_type": "stream",
     "text": [
      " 70%|███████   | 702/1000 [3:44:51<1:41:58, 20.53s/it]"
     ]
    },
    {
     "name": "stdout",
     "output_type": "stream",
     "text": [
      "eigenvalues shape torch.Size([5]) eigenvectors shape torch.Size([5, 425])\n",
      "702 /home/phdcs2/Hard_Disk/Datasets/Deep-Spectral-Segmentation/data/object-segmentation/ECSSD/features/dino_vits16/0703.pth\n",
      "dict_keys(['k', 'indices', 'file', 'id', 'model_name', 'patch_size', 'shape'])\n",
      "0703\n",
      "Starting Training\n",
      "epoch: 00, loss: -0.52988\n",
      "epoch: 01, loss: -0.67993\n",
      "epoch: 02, loss: -0.72464\n",
      "epoch: 03, loss: -0.74114\n",
      "epoch: 04, loss: -0.75612\n",
      "epoch: 05, loss: -0.76580\n",
      "epoch: 06, loss: -0.75744\n",
      "epoch: 07, loss: -0.76042\n",
      "epoch: 08, loss: -0.76717\n",
      "epoch: 09, loss: -0.77738\n",
      "After Unsqueezing, feature size= torch.Size([400, 1, 1, 384])\n"
     ]
    },
    {
     "name": "stderr",
     "output_type": "stream",
     "text": [
      " 70%|███████   | 703/1000 [3:45:10<1:39:00, 20.00s/it]"
     ]
    },
    {
     "name": "stdout",
     "output_type": "stream",
     "text": [
      "eigenvalues shape torch.Size([5]) eigenvectors shape torch.Size([5, 400])\n",
      "703 /home/phdcs2/Hard_Disk/Datasets/Deep-Spectral-Segmentation/data/object-segmentation/ECSSD/features/dino_vits16/0704.pth\n",
      "dict_keys(['k', 'indices', 'file', 'id', 'model_name', 'patch_size', 'shape'])\n",
      "0704\n",
      "Starting Training\n",
      "epoch: 00, loss: -0.52226\n",
      "epoch: 01, loss: -0.66183\n",
      "epoch: 02, loss: -0.68020\n",
      "epoch: 03, loss: -0.69820\n",
      "epoch: 04, loss: -0.68825\n",
      "epoch: 05, loss: -0.69832\n",
      "epoch: 06, loss: -0.70639\n",
      "epoch: 07, loss: -0.70046\n",
      "epoch: 08, loss: -0.72120\n",
      "epoch: 09, loss: -0.72271\n",
      "After Unsqueezing, feature size= torch.Size([500, 1, 1, 384])\n"
     ]
    },
    {
     "name": "stderr",
     "output_type": "stream",
     "text": [
      " 70%|███████   | 704/1000 [3:45:31<1:41:06, 20.49s/it]"
     ]
    },
    {
     "name": "stdout",
     "output_type": "stream",
     "text": [
      "eigenvalues shape torch.Size([5]) eigenvectors shape torch.Size([5, 500])\n",
      "704 /home/phdcs2/Hard_Disk/Datasets/Deep-Spectral-Segmentation/data/object-segmentation/ECSSD/features/dino_vits16/0705.pth\n",
      "dict_keys(['k', 'indices', 'file', 'id', 'model_name', 'patch_size', 'shape'])\n",
      "0705\n",
      "Starting Training\n",
      "epoch: 00, loss: -0.48713\n",
      "epoch: 01, loss: -0.62282\n",
      "epoch: 02, loss: -0.62748\n",
      "epoch: 03, loss: -0.63941\n",
      "epoch: 04, loss: -0.66619\n",
      "epoch: 05, loss: -0.67634\n",
      "epoch: 06, loss: -0.66718\n",
      "epoch: 07, loss: -0.68550\n",
      "epoch: 08, loss: -0.70610\n",
      "epoch: 09, loss: -0.71448\n",
      "After Unsqueezing, feature size= torch.Size([400, 1, 1, 384])\n"
     ]
    },
    {
     "name": "stderr",
     "output_type": "stream",
     "text": [
      " 70%|███████   | 705/1000 [3:45:51<1:40:09, 20.37s/it]"
     ]
    },
    {
     "name": "stdout",
     "output_type": "stream",
     "text": [
      "eigenvalues shape torch.Size([5]) eigenvectors shape torch.Size([5, 400])\n",
      "705 /home/phdcs2/Hard_Disk/Datasets/Deep-Spectral-Segmentation/data/object-segmentation/ECSSD/features/dino_vits16/0706.pth\n",
      "dict_keys(['k', 'indices', 'file', 'id', 'model_name', 'patch_size', 'shape'])\n",
      "0706\n",
      "Starting Training\n",
      "epoch: 00, loss: -0.56622\n",
      "epoch: 01, loss: -0.69713\n",
      "epoch: 02, loss: -0.70449\n",
      "epoch: 03, loss: -0.71416\n",
      "epoch: 04, loss: -0.73505\n",
      "epoch: 05, loss: -0.75768\n",
      "epoch: 06, loss: -0.74607\n",
      "epoch: 07, loss: -0.74298\n",
      "epoch: 08, loss: -0.75073\n",
      "epoch: 09, loss: -0.77365\n",
      "After Unsqueezing, feature size= torch.Size([500, 1, 1, 384])\n"
     ]
    },
    {
     "name": "stderr",
     "output_type": "stream",
     "text": [
      " 71%|███████   | 706/1000 [3:46:12<1:40:17, 20.47s/it]"
     ]
    },
    {
     "name": "stdout",
     "output_type": "stream",
     "text": [
      "eigenvalues shape torch.Size([5]) eigenvectors shape torch.Size([5, 500])\n",
      "706 /home/phdcs2/Hard_Disk/Datasets/Deep-Spectral-Segmentation/data/object-segmentation/ECSSD/features/dino_vits16/0707.pth\n",
      "dict_keys(['k', 'indices', 'file', 'id', 'model_name', 'patch_size', 'shape'])\n",
      "0707\n",
      "Starting Training\n",
      "epoch: 00, loss: -0.50553\n",
      "epoch: 01, loss: -0.65199\n",
      "epoch: 02, loss: -0.67014\n",
      "epoch: 03, loss: -0.68941\n",
      "epoch: 04, loss: -0.70630\n",
      "epoch: 05, loss: -0.71735\n",
      "epoch: 06, loss: -0.72220\n",
      "epoch: 07, loss: -0.71961\n",
      "epoch: 08, loss: -0.73573\n",
      "epoch: 09, loss: -0.74619\n",
      "After Unsqueezing, feature size= torch.Size([400, 1, 1, 384])\n"
     ]
    },
    {
     "name": "stderr",
     "output_type": "stream",
     "text": [
      " 71%|███████   | 707/1000 [3:46:32<1:38:28, 20.17s/it]"
     ]
    },
    {
     "name": "stdout",
     "output_type": "stream",
     "text": [
      "eigenvalues shape torch.Size([5]) eigenvectors shape torch.Size([5, 400])\n",
      "707 /home/phdcs2/Hard_Disk/Datasets/Deep-Spectral-Segmentation/data/object-segmentation/ECSSD/features/dino_vits16/0708.pth\n",
      "dict_keys(['k', 'indices', 'file', 'id', 'model_name', 'patch_size', 'shape'])\n",
      "0708\n",
      "Starting Training\n",
      "epoch: 00, loss: -0.45369\n",
      "epoch: 01, loss: -0.61155\n",
      "epoch: 02, loss: -0.62849\n",
      "epoch: 03, loss: -0.64091\n",
      "epoch: 04, loss: -0.64875\n",
      "epoch: 05, loss: -0.64911\n",
      "epoch: 06, loss: -0.66120\n",
      "epoch: 07, loss: -0.67390\n",
      "epoch: 08, loss: -0.68321\n",
      "epoch: 09, loss: -0.68220\n",
      "After Unsqueezing, feature size= torch.Size([400, 1, 1, 384])\n"
     ]
    },
    {
     "name": "stderr",
     "output_type": "stream",
     "text": [
      " 71%|███████   | 708/1000 [3:46:50<1:36:10, 19.76s/it]"
     ]
    },
    {
     "name": "stdout",
     "output_type": "stream",
     "text": [
      "eigenvalues shape torch.Size([5]) eigenvectors shape torch.Size([5, 400])\n",
      "708 /home/phdcs2/Hard_Disk/Datasets/Deep-Spectral-Segmentation/data/object-segmentation/ECSSD/features/dino_vits16/0709.pth\n",
      "dict_keys(['k', 'indices', 'file', 'id', 'model_name', 'patch_size', 'shape'])\n",
      "0709\n",
      "Starting Training\n",
      "epoch: 00, loss: -0.57765\n",
      "epoch: 01, loss: -0.73018\n",
      "epoch: 02, loss: -0.75888\n",
      "epoch: 03, loss: -0.77019\n",
      "epoch: 04, loss: -0.77596\n",
      "epoch: 05, loss: -0.78825\n",
      "epoch: 06, loss: -0.79549\n",
      "epoch: 07, loss: -0.79373\n",
      "epoch: 08, loss: -0.79841\n",
      "epoch: 09, loss: -0.80823\n",
      "After Unsqueezing, feature size= torch.Size([400, 1, 1, 384])\n"
     ]
    },
    {
     "name": "stderr",
     "output_type": "stream",
     "text": [
      " 71%|███████   | 709/1000 [3:47:08<1:32:07, 18.99s/it]"
     ]
    },
    {
     "name": "stdout",
     "output_type": "stream",
     "text": [
      "eigenvalues shape torch.Size([5]) eigenvectors shape torch.Size([5, 400])\n",
      "709 /home/phdcs2/Hard_Disk/Datasets/Deep-Spectral-Segmentation/data/object-segmentation/ECSSD/features/dino_vits16/0710.pth\n",
      "dict_keys(['k', 'indices', 'file', 'id', 'model_name', 'patch_size', 'shape'])\n",
      "0710\n",
      "Starting Training\n",
      "epoch: 00, loss: -0.58016\n",
      "epoch: 01, loss: -0.73341\n",
      "epoch: 02, loss: -0.75495\n",
      "epoch: 03, loss: -0.77259\n",
      "epoch: 04, loss: -0.77269\n",
      "epoch: 05, loss: -0.77775\n",
      "epoch: 06, loss: -0.77923\n",
      "epoch: 07, loss: -0.78074\n",
      "epoch: 08, loss: -0.77902\n",
      "epoch: 09, loss: -0.78501\n",
      "After Unsqueezing, feature size= torch.Size([400, 1, 1, 384])\n"
     ]
    },
    {
     "name": "stderr",
     "output_type": "stream",
     "text": [
      " 71%|███████   | 710/1000 [3:47:24<1:28:00, 18.21s/it]"
     ]
    },
    {
     "name": "stdout",
     "output_type": "stream",
     "text": [
      "eigenvalues shape torch.Size([5]) eigenvectors shape torch.Size([5, 400])\n",
      "710 /home/phdcs2/Hard_Disk/Datasets/Deep-Spectral-Segmentation/data/object-segmentation/ECSSD/features/dino_vits16/0711.pth\n",
      "dict_keys(['k', 'indices', 'file', 'id', 'model_name', 'patch_size', 'shape'])\n",
      "0711\n",
      "Starting Training\n",
      "epoch: 00, loss: -0.56360\n",
      "epoch: 01, loss: -0.73403\n",
      "epoch: 02, loss: -0.76439\n",
      "epoch: 03, loss: -0.78302\n",
      "epoch: 04, loss: -0.78804\n",
      "epoch: 05, loss: -0.78515\n",
      "epoch: 06, loss: -0.79752\n",
      "epoch: 07, loss: -0.79518\n",
      "epoch: 08, loss: -0.80416\n",
      "epoch: 09, loss: -0.79207\n",
      "After Unsqueezing, feature size= torch.Size([400, 1, 1, 384])\n"
     ]
    },
    {
     "name": "stderr",
     "output_type": "stream",
     "text": [
      " 71%|███████   | 711/1000 [3:47:41<1:25:41, 17.79s/it]"
     ]
    },
    {
     "name": "stdout",
     "output_type": "stream",
     "text": [
      "eigenvalues shape torch.Size([5]) eigenvectors shape torch.Size([5, 400])\n",
      "711 /home/phdcs2/Hard_Disk/Datasets/Deep-Spectral-Segmentation/data/object-segmentation/ECSSD/features/dino_vits16/0712.pth\n",
      "dict_keys(['k', 'indices', 'file', 'id', 'model_name', 'patch_size', 'shape'])\n",
      "0712\n",
      "Starting Training\n",
      "epoch: 00, loss: -0.54947\n",
      "epoch: 01, loss: -0.68752\n",
      "epoch: 02, loss: -0.69494\n",
      "epoch: 03, loss: -0.70792\n",
      "epoch: 04, loss: -0.72082\n",
      "epoch: 05, loss: -0.72416\n",
      "epoch: 06, loss: -0.72931\n",
      "epoch: 07, loss: -0.72170\n",
      "epoch: 08, loss: -0.72937\n",
      "epoch: 09, loss: -0.73540\n",
      "After Unsqueezing, feature size= torch.Size([400, 1, 1, 384])\n"
     ]
    },
    {
     "name": "stderr",
     "output_type": "stream",
     "text": [
      " 71%|███████   | 712/1000 [3:47:58<1:23:55, 17.48s/it]"
     ]
    },
    {
     "name": "stdout",
     "output_type": "stream",
     "text": [
      "eigenvalues shape torch.Size([5]) eigenvectors shape torch.Size([5, 400])\n",
      "712 /home/phdcs2/Hard_Disk/Datasets/Deep-Spectral-Segmentation/data/object-segmentation/ECSSD/features/dino_vits16/0713.pth\n",
      "dict_keys(['k', 'indices', 'file', 'id', 'model_name', 'patch_size', 'shape'])\n",
      "0713\n",
      "Starting Training\n",
      "epoch: 00, loss: -0.48299\n",
      "epoch: 01, loss: -0.69404\n",
      "epoch: 02, loss: -0.74540\n",
      "epoch: 03, loss: -0.77143\n",
      "epoch: 04, loss: -0.77373\n",
      "epoch: 05, loss: -0.79577\n",
      "epoch: 06, loss: -0.78798\n",
      "epoch: 07, loss: -0.79251\n",
      "epoch: 08, loss: -0.79283\n",
      "epoch: 09, loss: -0.80349\n",
      "After Unsqueezing, feature size= torch.Size([400, 1, 1, 384])\n"
     ]
    },
    {
     "name": "stderr",
     "output_type": "stream",
     "text": [
      " 71%|███████▏  | 713/1000 [3:48:14<1:22:05, 17.16s/it]"
     ]
    },
    {
     "name": "stdout",
     "output_type": "stream",
     "text": [
      "eigenvalues shape torch.Size([5]) eigenvectors shape torch.Size([5, 400])\n",
      "713 /home/phdcs2/Hard_Disk/Datasets/Deep-Spectral-Segmentation/data/object-segmentation/ECSSD/features/dino_vits16/0714.pth\n",
      "dict_keys(['k', 'indices', 'file', 'id', 'model_name', 'patch_size', 'shape'])\n",
      "0714\n",
      "Starting Training\n",
      "epoch: 00, loss: -0.54606\n",
      "epoch: 01, loss: -0.69715\n",
      "epoch: 02, loss: -0.73424\n",
      "epoch: 03, loss: -0.74374\n",
      "epoch: 04, loss: -0.76298\n",
      "epoch: 05, loss: -0.76473\n",
      "epoch: 06, loss: -0.76388\n",
      "epoch: 07, loss: -0.77617\n",
      "epoch: 08, loss: -0.76931\n",
      "epoch: 09, loss: -0.79043\n",
      "After Unsqueezing, feature size= torch.Size([400, 1, 1, 384])\n"
     ]
    },
    {
     "name": "stderr",
     "output_type": "stream",
     "text": [
      " 71%|███████▏  | 714/1000 [3:48:32<1:22:16, 17.26s/it]"
     ]
    },
    {
     "name": "stdout",
     "output_type": "stream",
     "text": [
      "eigenvalues shape torch.Size([5]) eigenvectors shape torch.Size([5, 400])\n",
      "714 /home/phdcs2/Hard_Disk/Datasets/Deep-Spectral-Segmentation/data/object-segmentation/ECSSD/features/dino_vits16/0715.pth\n",
      "dict_keys(['k', 'indices', 'file', 'id', 'model_name', 'patch_size', 'shape'])\n",
      "0715\n",
      "Starting Training\n",
      "epoch: 00, loss: -0.49421\n",
      "epoch: 01, loss: -0.63117\n",
      "epoch: 02, loss: -0.66333\n",
      "epoch: 03, loss: -0.67149\n",
      "epoch: 04, loss: -0.68508\n",
      "epoch: 05, loss: -0.69395\n",
      "epoch: 06, loss: -0.69657\n",
      "epoch: 07, loss: -0.69740\n",
      "epoch: 08, loss: -0.70180\n",
      "epoch: 09, loss: -0.70794\n",
      "After Unsqueezing, feature size= torch.Size([400, 1, 1, 384])\n"
     ]
    },
    {
     "name": "stderr",
     "output_type": "stream",
     "text": [
      " 72%|███████▏  | 715/1000 [3:48:49<1:21:46, 17.22s/it]"
     ]
    },
    {
     "name": "stdout",
     "output_type": "stream",
     "text": [
      "eigenvalues shape torch.Size([5]) eigenvectors shape torch.Size([5, 400])\n",
      "715 /home/phdcs2/Hard_Disk/Datasets/Deep-Spectral-Segmentation/data/object-segmentation/ECSSD/features/dino_vits16/0716.pth\n",
      "dict_keys(['k', 'indices', 'file', 'id', 'model_name', 'patch_size', 'shape'])\n",
      "0716\n",
      "Starting Training\n",
      "epoch: 00, loss: -0.41837\n",
      "epoch: 01, loss: -0.58893\n",
      "epoch: 02, loss: -0.60746\n",
      "epoch: 03, loss: -0.62186\n",
      "epoch: 04, loss: -0.64015\n",
      "epoch: 05, loss: -0.63650\n",
      "epoch: 06, loss: -0.62459\n",
      "epoch: 07, loss: -0.62341\n",
      "epoch: 08, loss: -0.65290\n",
      "epoch: 09, loss: -0.66580\n",
      "After Unsqueezing, feature size= torch.Size([450, 1, 1, 384])\n"
     ]
    },
    {
     "name": "stderr",
     "output_type": "stream",
     "text": [
      " 72%|███████▏  | 716/1000 [3:49:08<1:24:07, 17.77s/it]"
     ]
    },
    {
     "name": "stdout",
     "output_type": "stream",
     "text": [
      "eigenvalues shape torch.Size([5]) eigenvectors shape torch.Size([5, 450])\n",
      "716 /home/phdcs2/Hard_Disk/Datasets/Deep-Spectral-Segmentation/data/object-segmentation/ECSSD/features/dino_vits16/0717.pth\n",
      "dict_keys(['k', 'indices', 'file', 'id', 'model_name', 'patch_size', 'shape'])\n",
      "0717\n",
      "Starting Training\n",
      "epoch: 00, loss: -0.55707\n",
      "epoch: 01, loss: -0.73789\n",
      "epoch: 02, loss: -0.76742\n",
      "epoch: 03, loss: -0.78257\n",
      "epoch: 04, loss: -0.77715\n",
      "epoch: 05, loss: -0.78258\n",
      "epoch: 06, loss: -0.79405\n",
      "epoch: 07, loss: -0.79458\n",
      "epoch: 08, loss: -0.80103\n",
      "epoch: 09, loss: -0.81368\n",
      "After Unsqueezing, feature size= torch.Size([350, 1, 1, 384])\n"
     ]
    },
    {
     "name": "stderr",
     "output_type": "stream",
     "text": [
      " 72%|███████▏  | 717/1000 [3:49:23<1:20:41, 17.11s/it]"
     ]
    },
    {
     "name": "stdout",
     "output_type": "stream",
     "text": [
      "eigenvalues shape torch.Size([5]) eigenvectors shape torch.Size([5, 350])\n",
      "717 /home/phdcs2/Hard_Disk/Datasets/Deep-Spectral-Segmentation/data/object-segmentation/ECSSD/features/dino_vits16/0718.pth\n",
      "dict_keys(['k', 'indices', 'file', 'id', 'model_name', 'patch_size', 'shape'])\n",
      "0718\n",
      "Starting Training\n",
      "epoch: 00, loss: -0.41357\n",
      "epoch: 01, loss: -0.54075\n",
      "epoch: 02, loss: -0.58378\n",
      "epoch: 03, loss: -0.61224\n",
      "epoch: 04, loss: -0.64054\n",
      "epoch: 05, loss: -0.65523\n",
      "epoch: 06, loss: -0.65326\n",
      "epoch: 07, loss: -0.68490\n",
      "epoch: 08, loss: -0.70795\n",
      "epoch: 09, loss: -0.72121\n",
      "After Unsqueezing, feature size= torch.Size([450, 1, 1, 384])\n"
     ]
    },
    {
     "name": "stderr",
     "output_type": "stream",
     "text": [
      " 72%|███████▏  | 718/1000 [3:49:43<1:23:44, 17.82s/it]"
     ]
    },
    {
     "name": "stdout",
     "output_type": "stream",
     "text": [
      "eigenvalues shape torch.Size([5]) eigenvectors shape torch.Size([5, 450])\n",
      "718 /home/phdcs2/Hard_Disk/Datasets/Deep-Spectral-Segmentation/data/object-segmentation/ECSSD/features/dino_vits16/0719.pth\n",
      "dict_keys(['k', 'indices', 'file', 'id', 'model_name', 'patch_size', 'shape'])\n",
      "0719\n",
      "Starting Training\n",
      "epoch: 00, loss: -0.46461\n",
      "epoch: 01, loss: -0.61969\n",
      "epoch: 02, loss: -0.65323\n",
      "epoch: 03, loss: -0.67420\n",
      "epoch: 04, loss: -0.67540\n",
      "epoch: 05, loss: -0.67459\n",
      "epoch: 06, loss: -0.69292\n",
      "epoch: 07, loss: -0.70188\n",
      "epoch: 08, loss: -0.71427\n",
      "epoch: 09, loss: -0.70762\n",
      "After Unsqueezing, feature size= torch.Size([275, 1, 1, 384])\n"
     ]
    },
    {
     "name": "stderr",
     "output_type": "stream",
     "text": [
      " 72%|███████▏  | 719/1000 [3:49:55<1:15:28, 16.12s/it]"
     ]
    },
    {
     "name": "stdout",
     "output_type": "stream",
     "text": [
      "eigenvalues shape torch.Size([5]) eigenvectors shape torch.Size([5, 275])\n",
      "719 /home/phdcs2/Hard_Disk/Datasets/Deep-Spectral-Segmentation/data/object-segmentation/ECSSD/features/dino_vits16/0720.pth\n",
      "dict_keys(['k', 'indices', 'file', 'id', 'model_name', 'patch_size', 'shape'])\n",
      "0720\n",
      "Starting Training\n",
      "epoch: 00, loss: -0.50130\n",
      "epoch: 01, loss: -0.66510\n",
      "epoch: 02, loss: -0.69287\n",
      "epoch: 03, loss: -0.72901\n",
      "epoch: 04, loss: -0.74018\n",
      "epoch: 05, loss: -0.73336\n",
      "epoch: 06, loss: -0.74758\n",
      "epoch: 07, loss: -0.75796\n",
      "epoch: 08, loss: -0.77030\n",
      "epoch: 09, loss: -0.78165\n",
      "After Unsqueezing, feature size= torch.Size([400, 1, 1, 384])\n"
     ]
    },
    {
     "name": "stderr",
     "output_type": "stream",
     "text": [
      " 72%|███████▏  | 720/1000 [3:50:12<1:16:14, 16.34s/it]"
     ]
    },
    {
     "name": "stdout",
     "output_type": "stream",
     "text": [
      "eigenvalues shape torch.Size([5]) eigenvectors shape torch.Size([5, 400])\n",
      "720 /home/phdcs2/Hard_Disk/Datasets/Deep-Spectral-Segmentation/data/object-segmentation/ECSSD/features/dino_vits16/0721.pth\n",
      "dict_keys(['k', 'indices', 'file', 'id', 'model_name', 'patch_size', 'shape'])\n",
      "0721\n",
      "Starting Training\n",
      "epoch: 00, loss: -0.49936\n",
      "epoch: 01, loss: -0.67595\n",
      "epoch: 02, loss: -0.69952\n",
      "epoch: 03, loss: -0.72976\n",
      "epoch: 04, loss: -0.73907\n",
      "epoch: 05, loss: -0.75559\n",
      "epoch: 06, loss: -0.75079\n",
      "epoch: 07, loss: -0.76423\n",
      "epoch: 08, loss: -0.76135\n",
      "epoch: 09, loss: -0.77009\n",
      "After Unsqueezing, feature size= torch.Size([400, 1, 1, 384])\n"
     ]
    },
    {
     "name": "stderr",
     "output_type": "stream",
     "text": [
      " 72%|███████▏  | 721/1000 [3:50:27<1:14:41, 16.06s/it]"
     ]
    },
    {
     "name": "stdout",
     "output_type": "stream",
     "text": [
      "eigenvalues shape torch.Size([5]) eigenvectors shape torch.Size([5, 400])\n",
      "721 /home/phdcs2/Hard_Disk/Datasets/Deep-Spectral-Segmentation/data/object-segmentation/ECSSD/features/dino_vits16/0722.pth\n",
      "dict_keys(['k', 'indices', 'file', 'id', 'model_name', 'patch_size', 'shape'])\n",
      "0722\n",
      "Starting Training\n",
      "epoch: 00, loss: -0.47029\n",
      "epoch: 01, loss: -0.57062\n",
      "epoch: 02, loss: -0.59304\n",
      "epoch: 03, loss: -0.63421\n",
      "epoch: 04, loss: -0.62655\n",
      "epoch: 05, loss: -0.64144\n",
      "epoch: 06, loss: -0.65953\n",
      "epoch: 07, loss: -0.65359\n",
      "epoch: 08, loss: -0.66768\n",
      "epoch: 09, loss: -0.68445\n",
      "After Unsqueezing, feature size= torch.Size([575, 1, 1, 384])\n"
     ]
    },
    {
     "name": "stderr",
     "output_type": "stream",
     "text": [
      " 72%|███████▏  | 722/1000 [3:50:52<1:26:49, 18.74s/it]"
     ]
    },
    {
     "name": "stdout",
     "output_type": "stream",
     "text": [
      "eigenvalues shape torch.Size([5]) eigenvectors shape torch.Size([5, 575])\n",
      "722 /home/phdcs2/Hard_Disk/Datasets/Deep-Spectral-Segmentation/data/object-segmentation/ECSSD/features/dino_vits16/0723.pth\n",
      "dict_keys(['k', 'indices', 'file', 'id', 'model_name', 'patch_size', 'shape'])\n",
      "0723\n",
      "Starting Training\n",
      "epoch: 00, loss: -0.44585\n",
      "epoch: 01, loss: -0.58244\n",
      "epoch: 02, loss: -0.61296\n",
      "epoch: 03, loss: -0.63185\n",
      "epoch: 04, loss: -0.64921\n",
      "epoch: 05, loss: -0.66423\n",
      "epoch: 06, loss: -0.65522\n",
      "epoch: 07, loss: -0.65387\n",
      "epoch: 08, loss: -0.67140\n",
      "epoch: 09, loss: -0.68630\n",
      "After Unsqueezing, feature size= torch.Size([400, 1, 1, 384])\n"
     ]
    },
    {
     "name": "stderr",
     "output_type": "stream",
     "text": [
      " 72%|███████▏  | 723/1000 [3:51:08<1:22:50, 17.94s/it]"
     ]
    },
    {
     "name": "stdout",
     "output_type": "stream",
     "text": [
      "eigenvalues shape torch.Size([5]) eigenvectors shape torch.Size([5, 400])\n",
      "723 /home/phdcs2/Hard_Disk/Datasets/Deep-Spectral-Segmentation/data/object-segmentation/ECSSD/features/dino_vits16/0724.pth\n",
      "dict_keys(['k', 'indices', 'file', 'id', 'model_name', 'patch_size', 'shape'])\n",
      "0724\n",
      "Starting Training\n",
      "epoch: 00, loss: -0.51933\n",
      "epoch: 01, loss: -0.68768\n",
      "epoch: 02, loss: -0.71719\n",
      "epoch: 03, loss: -0.71844\n",
      "epoch: 04, loss: -0.72420\n",
      "epoch: 05, loss: -0.71858\n",
      "epoch: 06, loss: -0.72352\n",
      "epoch: 07, loss: -0.73370\n",
      "epoch: 08, loss: -0.74094\n",
      "epoch: 09, loss: -0.74559\n",
      "After Unsqueezing, feature size= torch.Size([400, 1, 1, 384])\n"
     ]
    },
    {
     "name": "stderr",
     "output_type": "stream",
     "text": [
      " 72%|███████▏  | 724/1000 [3:51:26<1:22:57, 18.03s/it]"
     ]
    },
    {
     "name": "stdout",
     "output_type": "stream",
     "text": [
      "eigenvalues shape torch.Size([5]) eigenvectors shape torch.Size([5, 400])\n",
      "724 /home/phdcs2/Hard_Disk/Datasets/Deep-Spectral-Segmentation/data/object-segmentation/ECSSD/features/dino_vits16/0725.pth\n",
      "dict_keys(['k', 'indices', 'file', 'id', 'model_name', 'patch_size', 'shape'])\n",
      "0725\n",
      "Starting Training\n",
      "epoch: 00, loss: -0.50838\n",
      "epoch: 01, loss: -0.65225\n",
      "epoch: 02, loss: -0.66353\n",
      "epoch: 03, loss: -0.65040\n",
      "epoch: 04, loss: -0.66914\n",
      "epoch: 05, loss: -0.67876\n",
      "epoch: 06, loss: -0.69717\n",
      "epoch: 07, loss: -0.69253\n",
      "epoch: 08, loss: -0.69603\n",
      "epoch: 09, loss: -0.70069\n",
      "After Unsqueezing, feature size= torch.Size([450, 1, 1, 384])\n"
     ]
    },
    {
     "name": "stderr",
     "output_type": "stream",
     "text": [
      " 72%|███████▎  | 725/1000 [3:51:50<1:29:54, 19.62s/it]"
     ]
    },
    {
     "name": "stdout",
     "output_type": "stream",
     "text": [
      "eigenvalues shape torch.Size([5]) eigenvectors shape torch.Size([5, 450])\n",
      "725 /home/phdcs2/Hard_Disk/Datasets/Deep-Spectral-Segmentation/data/object-segmentation/ECSSD/features/dino_vits16/0726.pth\n",
      "dict_keys(['k', 'indices', 'file', 'id', 'model_name', 'patch_size', 'shape'])\n",
      "0726\n",
      "Starting Training\n",
      "epoch: 00, loss: -0.57018\n",
      "epoch: 01, loss: -0.71515\n",
      "epoch: 02, loss: -0.73490\n",
      "epoch: 03, loss: -0.74622\n",
      "epoch: 04, loss: -0.75217\n",
      "epoch: 05, loss: -0.74779\n",
      "epoch: 06, loss: -0.73471\n",
      "epoch: 07, loss: -0.76202\n",
      "epoch: 08, loss: -0.76587\n",
      "epoch: 09, loss: -0.77369\n",
      "After Unsqueezing, feature size= torch.Size([450, 1, 1, 384])\n"
     ]
    },
    {
     "name": "stderr",
     "output_type": "stream",
     "text": [
      " 73%|███████▎  | 726/1000 [3:52:13<1:34:24, 20.67s/it]"
     ]
    },
    {
     "name": "stdout",
     "output_type": "stream",
     "text": [
      "eigenvalues shape torch.Size([5]) eigenvectors shape torch.Size([5, 450])\n",
      "726 /home/phdcs2/Hard_Disk/Datasets/Deep-Spectral-Segmentation/data/object-segmentation/ECSSD/features/dino_vits16/0727.pth\n",
      "dict_keys(['k', 'indices', 'file', 'id', 'model_name', 'patch_size', 'shape'])\n",
      "0727\n",
      "Starting Training\n",
      "epoch: 00, loss: -0.51034\n",
      "epoch: 01, loss: -0.68058\n",
      "epoch: 02, loss: -0.71692\n",
      "epoch: 03, loss: -0.73791\n",
      "epoch: 04, loss: -0.74554\n",
      "epoch: 05, loss: -0.75604\n",
      "epoch: 06, loss: -0.75904\n",
      "epoch: 07, loss: -0.76412\n",
      "epoch: 08, loss: -0.76634\n",
      "epoch: 09, loss: -0.76799\n",
      "After Unsqueezing, feature size= torch.Size([450, 1, 1, 384])\n"
     ]
    },
    {
     "name": "stderr",
     "output_type": "stream",
     "text": [
      " 73%|███████▎  | 727/1000 [3:52:35<1:35:39, 21.03s/it]"
     ]
    },
    {
     "name": "stdout",
     "output_type": "stream",
     "text": [
      "eigenvalues shape torch.Size([5]) eigenvectors shape torch.Size([5, 450])\n",
      "727 /home/phdcs2/Hard_Disk/Datasets/Deep-Spectral-Segmentation/data/object-segmentation/ECSSD/features/dino_vits16/0728.pth\n",
      "dict_keys(['k', 'indices', 'file', 'id', 'model_name', 'patch_size', 'shape'])\n",
      "0728\n",
      "Starting Training\n",
      "epoch: 00, loss: -0.54199\n",
      "epoch: 01, loss: -0.69641\n",
      "epoch: 02, loss: -0.67842\n",
      "epoch: 03, loss: -0.69789\n",
      "epoch: 04, loss: -0.70724\n",
      "epoch: 05, loss: -0.71509\n",
      "epoch: 06, loss: -0.71641\n",
      "epoch: 07, loss: -0.72261\n",
      "epoch: 08, loss: -0.73648\n",
      "epoch: 09, loss: -0.74390\n",
      "After Unsqueezing, feature size= torch.Size([450, 1, 1, 384])\n"
     ]
    },
    {
     "name": "stderr",
     "output_type": "stream",
     "text": [
      " 73%|███████▎  | 728/1000 [3:52:54<1:32:46, 20.46s/it]"
     ]
    },
    {
     "name": "stdout",
     "output_type": "stream",
     "text": [
      "eigenvalues shape torch.Size([5]) eigenvectors shape torch.Size([5, 450])\n",
      "728 /home/phdcs2/Hard_Disk/Datasets/Deep-Spectral-Segmentation/data/object-segmentation/ECSSD/features/dino_vits16/0729.pth\n",
      "dict_keys(['k', 'indices', 'file', 'id', 'model_name', 'patch_size', 'shape'])\n",
      "0729\n",
      "Starting Training\n",
      "epoch: 00, loss: -0.48996\n",
      "epoch: 01, loss: -0.63935\n",
      "epoch: 02, loss: -0.68635\n",
      "epoch: 03, loss: -0.67839\n",
      "epoch: 04, loss: -0.68754\n",
      "epoch: 05, loss: -0.68168\n",
      "epoch: 06, loss: -0.69437\n",
      "epoch: 07, loss: -0.71343\n",
      "epoch: 08, loss: -0.71890\n",
      "epoch: 09, loss: -0.73580\n",
      "After Unsqueezing, feature size= torch.Size([400, 1, 1, 384])\n"
     ]
    },
    {
     "name": "stderr",
     "output_type": "stream",
     "text": [
      " 73%|███████▎  | 729/1000 [3:53:12<1:29:48, 19.88s/it]"
     ]
    },
    {
     "name": "stdout",
     "output_type": "stream",
     "text": [
      "eigenvalues shape torch.Size([5]) eigenvectors shape torch.Size([5, 400])\n",
      "729 /home/phdcs2/Hard_Disk/Datasets/Deep-Spectral-Segmentation/data/object-segmentation/ECSSD/features/dino_vits16/0730.pth\n",
      "dict_keys(['k', 'indices', 'file', 'id', 'model_name', 'patch_size', 'shape'])\n",
      "0730\n",
      "Starting Training\n",
      "epoch: 00, loss: -0.52022\n",
      "epoch: 01, loss: -0.66990\n",
      "epoch: 02, loss: -0.70256\n",
      "epoch: 03, loss: -0.72389\n",
      "epoch: 04, loss: -0.73849\n",
      "epoch: 05, loss: -0.74235\n",
      "epoch: 06, loss: -0.75828\n",
      "epoch: 07, loss: -0.76445\n",
      "epoch: 08, loss: -0.75830\n",
      "epoch: 09, loss: -0.75004\n",
      "After Unsqueezing, feature size= torch.Size([450, 1, 1, 384])\n"
     ]
    },
    {
     "name": "stderr",
     "output_type": "stream",
     "text": [
      " 73%|███████▎  | 730/1000 [3:53:32<1:29:10, 19.82s/it]"
     ]
    },
    {
     "name": "stdout",
     "output_type": "stream",
     "text": [
      "eigenvalues shape torch.Size([5]) eigenvectors shape torch.Size([5, 450])\n",
      "730 /home/phdcs2/Hard_Disk/Datasets/Deep-Spectral-Segmentation/data/object-segmentation/ECSSD/features/dino_vits16/0731.pth\n",
      "dict_keys(['k', 'indices', 'file', 'id', 'model_name', 'patch_size', 'shape'])\n",
      "0731\n",
      "Starting Training\n",
      "epoch: 00, loss: -0.48510\n",
      "epoch: 01, loss: -0.62828\n",
      "epoch: 02, loss: -0.65963\n",
      "epoch: 03, loss: -0.68597\n",
      "epoch: 04, loss: -0.69978\n",
      "epoch: 05, loss: -0.71928\n",
      "epoch: 06, loss: -0.71438\n",
      "epoch: 07, loss: -0.70528\n",
      "epoch: 08, loss: -0.69662\n",
      "epoch: 09, loss: -0.70862\n",
      "After Unsqueezing, feature size= torch.Size([400, 1, 1, 384])\n"
     ]
    },
    {
     "name": "stderr",
     "output_type": "stream",
     "text": [
      " 73%|███████▎  | 731/1000 [3:53:50<1:25:50, 19.15s/it]"
     ]
    },
    {
     "name": "stdout",
     "output_type": "stream",
     "text": [
      "eigenvalues shape torch.Size([5]) eigenvectors shape torch.Size([5, 400])\n",
      "731 /home/phdcs2/Hard_Disk/Datasets/Deep-Spectral-Segmentation/data/object-segmentation/ECSSD/features/dino_vits16/0732.pth\n",
      "dict_keys(['k', 'indices', 'file', 'id', 'model_name', 'patch_size', 'shape'])\n",
      "0732\n",
      "Starting Training\n",
      "epoch: 00, loss: -0.51446\n",
      "epoch: 01, loss: -0.64303\n",
      "epoch: 02, loss: -0.66934\n",
      "epoch: 03, loss: -0.67198\n",
      "epoch: 04, loss: -0.67100\n",
      "epoch: 05, loss: -0.65219\n",
      "epoch: 06, loss: -0.66535\n",
      "epoch: 07, loss: -0.66187\n",
      "epoch: 08, loss: -0.67593\n",
      "epoch: 09, loss: -0.68385\n",
      "After Unsqueezing, feature size= torch.Size([525, 1, 1, 384])\n"
     ]
    },
    {
     "name": "stderr",
     "output_type": "stream",
     "text": [
      " 73%|███████▎  | 732/1000 [3:54:10<1:27:34, 19.61s/it]"
     ]
    },
    {
     "name": "stdout",
     "output_type": "stream",
     "text": [
      "eigenvalues shape torch.Size([5]) eigenvectors shape torch.Size([5, 525])\n",
      "732 /home/phdcs2/Hard_Disk/Datasets/Deep-Spectral-Segmentation/data/object-segmentation/ECSSD/features/dino_vits16/0733.pth\n",
      "dict_keys(['k', 'indices', 'file', 'id', 'model_name', 'patch_size', 'shape'])\n",
      "0733\n",
      "Starting Training\n",
      "epoch: 00, loss: -0.54697\n",
      "epoch: 01, loss: -0.69022\n",
      "epoch: 02, loss: -0.71816\n",
      "epoch: 03, loss: -0.73237\n",
      "epoch: 04, loss: -0.74020\n",
      "epoch: 05, loss: -0.75169\n",
      "epoch: 06, loss: -0.75553\n",
      "epoch: 07, loss: -0.76546\n",
      "epoch: 08, loss: -0.76300\n",
      "epoch: 09, loss: -0.77505\n",
      "After Unsqueezing, feature size= torch.Size([400, 1, 1, 384])\n"
     ]
    },
    {
     "name": "stderr",
     "output_type": "stream",
     "text": [
      " 73%|███████▎  | 733/1000 [3:54:28<1:23:58, 18.87s/it]"
     ]
    },
    {
     "name": "stdout",
     "output_type": "stream",
     "text": [
      "eigenvalues shape torch.Size([5]) eigenvectors shape torch.Size([5, 400])\n",
      "733 /home/phdcs2/Hard_Disk/Datasets/Deep-Spectral-Segmentation/data/object-segmentation/ECSSD/features/dino_vits16/0734.pth\n",
      "dict_keys(['k', 'indices', 'file', 'id', 'model_name', 'patch_size', 'shape'])\n",
      "0734\n",
      "Starting Training\n",
      "epoch: 00, loss: -0.49163\n",
      "epoch: 01, loss: -0.61505\n",
      "epoch: 02, loss: -0.62566\n",
      "epoch: 03, loss: -0.65198\n",
      "epoch: 04, loss: -0.67248\n",
      "epoch: 05, loss: -0.69157\n",
      "epoch: 06, loss: -0.69616\n",
      "epoch: 07, loss: -0.69683\n",
      "epoch: 08, loss: -0.70059\n",
      "epoch: 09, loss: -0.71242\n",
      "After Unsqueezing, feature size= torch.Size([425, 1, 1, 384])\n"
     ]
    },
    {
     "name": "stderr",
     "output_type": "stream",
     "text": [
      " 73%|███████▎  | 734/1000 [3:54:46<1:23:29, 18.83s/it]"
     ]
    },
    {
     "name": "stdout",
     "output_type": "stream",
     "text": [
      "eigenvalues shape torch.Size([5]) eigenvectors shape torch.Size([5, 425])\n",
      "734 /home/phdcs2/Hard_Disk/Datasets/Deep-Spectral-Segmentation/data/object-segmentation/ECSSD/features/dino_vits16/0735.pth\n",
      "dict_keys(['k', 'indices', 'file', 'id', 'model_name', 'patch_size', 'shape'])\n",
      "0735\n",
      "Starting Training\n",
      "epoch: 00, loss: -0.56246\n",
      "epoch: 01, loss: -0.69814\n",
      "epoch: 02, loss: -0.72358\n",
      "epoch: 03, loss: -0.73485\n",
      "epoch: 04, loss: -0.73603\n",
      "epoch: 05, loss: -0.72735\n",
      "epoch: 06, loss: -0.72910\n",
      "epoch: 07, loss: -0.73366\n",
      "epoch: 08, loss: -0.74212\n",
      "epoch: 09, loss: -0.71957\n",
      "After Unsqueezing, feature size= torch.Size([450, 1, 1, 384])\n"
     ]
    },
    {
     "name": "stderr",
     "output_type": "stream",
     "text": [
      " 74%|███████▎  | 735/1000 [3:55:06<1:24:04, 19.04s/it]"
     ]
    },
    {
     "name": "stdout",
     "output_type": "stream",
     "text": [
      "eigenvalues shape torch.Size([5]) eigenvectors shape torch.Size([5, 450])\n",
      "735 /home/phdcs2/Hard_Disk/Datasets/Deep-Spectral-Segmentation/data/object-segmentation/ECSSD/features/dino_vits16/0736.pth\n",
      "dict_keys(['k', 'indices', 'file', 'id', 'model_name', 'patch_size', 'shape'])\n",
      "0736\n",
      "Starting Training\n",
      "epoch: 00, loss: -0.47572\n",
      "epoch: 01, loss: -0.62586\n",
      "epoch: 02, loss: -0.65135\n",
      "epoch: 03, loss: -0.69026\n",
      "epoch: 04, loss: -0.69110\n",
      "epoch: 05, loss: -0.69581\n",
      "epoch: 06, loss: -0.70722\n",
      "epoch: 07, loss: -0.71865\n",
      "epoch: 08, loss: -0.72426\n",
      "epoch: 09, loss: -0.72133\n",
      "After Unsqueezing, feature size= torch.Size([450, 1, 1, 384])\n"
     ]
    },
    {
     "name": "stderr",
     "output_type": "stream",
     "text": [
      " 74%|███████▎  | 736/1000 [3:55:26<1:25:15, 19.38s/it]"
     ]
    },
    {
     "name": "stdout",
     "output_type": "stream",
     "text": [
      "eigenvalues shape torch.Size([5]) eigenvectors shape torch.Size([5, 450])\n",
      "736 /home/phdcs2/Hard_Disk/Datasets/Deep-Spectral-Segmentation/data/object-segmentation/ECSSD/features/dino_vits16/0737.pth\n",
      "dict_keys(['k', 'indices', 'file', 'id', 'model_name', 'patch_size', 'shape'])\n",
      "0737\n",
      "Starting Training\n",
      "epoch: 00, loss: -0.51423\n",
      "epoch: 01, loss: -0.66946\n",
      "epoch: 02, loss: -0.69624\n",
      "epoch: 03, loss: -0.70494\n",
      "epoch: 04, loss: -0.71533\n",
      "epoch: 05, loss: -0.72618\n",
      "epoch: 06, loss: -0.72158\n",
      "epoch: 07, loss: -0.71213\n",
      "epoch: 08, loss: -0.70984\n",
      "epoch: 09, loss: -0.71895\n",
      "After Unsqueezing, feature size= torch.Size([400, 1, 1, 384])\n"
     ]
    },
    {
     "name": "stderr",
     "output_type": "stream",
     "text": [
      " 74%|███████▎  | 737/1000 [3:55:43<1:22:07, 18.73s/it]"
     ]
    },
    {
     "name": "stdout",
     "output_type": "stream",
     "text": [
      "eigenvalues shape torch.Size([5]) eigenvectors shape torch.Size([5, 400])\n",
      "737 /home/phdcs2/Hard_Disk/Datasets/Deep-Spectral-Segmentation/data/object-segmentation/ECSSD/features/dino_vits16/0738.pth\n",
      "dict_keys(['k', 'indices', 'file', 'id', 'model_name', 'patch_size', 'shape'])\n",
      "0738\n",
      "Starting Training\n",
      "epoch: 00, loss: -0.54923\n",
      "epoch: 01, loss: -0.70726\n",
      "epoch: 02, loss: -0.72653\n",
      "epoch: 03, loss: -0.73928\n",
      "epoch: 04, loss: -0.74849\n",
      "epoch: 05, loss: -0.75722\n",
      "epoch: 06, loss: -0.76789\n",
      "epoch: 07, loss: -0.75531\n",
      "epoch: 08, loss: -0.75124\n",
      "epoch: 09, loss: -0.77336\n",
      "After Unsqueezing, feature size= torch.Size([450, 1, 1, 384])\n"
     ]
    },
    {
     "name": "stderr",
     "output_type": "stream",
     "text": [
      " 74%|███████▍  | 738/1000 [3:56:01<1:20:30, 18.44s/it]"
     ]
    },
    {
     "name": "stdout",
     "output_type": "stream",
     "text": [
      "eigenvalues shape torch.Size([5]) eigenvectors shape torch.Size([5, 450])\n",
      "738 /home/phdcs2/Hard_Disk/Datasets/Deep-Spectral-Segmentation/data/object-segmentation/ECSSD/features/dino_vits16/0739.pth\n",
      "dict_keys(['k', 'indices', 'file', 'id', 'model_name', 'patch_size', 'shape'])\n",
      "0739\n",
      "Starting Training\n",
      "epoch: 00, loss: -0.51564\n",
      "epoch: 01, loss: -0.69067\n",
      "epoch: 02, loss: -0.71636\n",
      "epoch: 03, loss: -0.73369\n",
      "epoch: 04, loss: -0.74662\n",
      "epoch: 05, loss: -0.76154\n",
      "epoch: 06, loss: -0.76688\n",
      "epoch: 07, loss: -0.78155\n",
      "epoch: 08, loss: -0.79005\n",
      "epoch: 09, loss: -0.78381\n",
      "After Unsqueezing, feature size= torch.Size([400, 1, 1, 384])\n"
     ]
    },
    {
     "name": "stderr",
     "output_type": "stream",
     "text": [
      " 74%|███████▍  | 739/1000 [3:56:18<1:18:09, 17.97s/it]"
     ]
    },
    {
     "name": "stdout",
     "output_type": "stream",
     "text": [
      "eigenvalues shape torch.Size([5]) eigenvectors shape torch.Size([5, 400])\n",
      "739 /home/phdcs2/Hard_Disk/Datasets/Deep-Spectral-Segmentation/data/object-segmentation/ECSSD/features/dino_vits16/0740.pth\n",
      "dict_keys(['k', 'indices', 'file', 'id', 'model_name', 'patch_size', 'shape'])\n",
      "0740\n",
      "Starting Training\n",
      "epoch: 00, loss: -0.47413\n",
      "epoch: 01, loss: -0.63288\n",
      "epoch: 02, loss: -0.64354\n",
      "epoch: 03, loss: -0.64755\n",
      "epoch: 04, loss: -0.63646\n",
      "epoch: 05, loss: -0.64057\n",
      "epoch: 06, loss: -0.64353\n",
      "epoch: 07, loss: -0.65569\n",
      "epoch: 08, loss: -0.65955\n",
      "epoch: 09, loss: -0.66346\n",
      "After Unsqueezing, feature size= torch.Size([400, 1, 1, 384])\n"
     ]
    },
    {
     "name": "stderr",
     "output_type": "stream",
     "text": [
      " 74%|███████▍  | 740/1000 [3:56:35<1:16:41, 17.70s/it]"
     ]
    },
    {
     "name": "stdout",
     "output_type": "stream",
     "text": [
      "eigenvalues shape torch.Size([5]) eigenvectors shape torch.Size([5, 400])\n",
      "740 /home/phdcs2/Hard_Disk/Datasets/Deep-Spectral-Segmentation/data/object-segmentation/ECSSD/features/dino_vits16/0741.pth\n",
      "dict_keys(['k', 'indices', 'file', 'id', 'model_name', 'patch_size', 'shape'])\n",
      "0741\n",
      "Starting Training\n",
      "epoch: 00, loss: -0.46724\n",
      "epoch: 01, loss: -0.62095\n",
      "epoch: 02, loss: -0.65317\n",
      "epoch: 03, loss: -0.66298\n",
      "epoch: 04, loss: -0.67807\n",
      "epoch: 05, loss: -0.68612\n",
      "epoch: 06, loss: -0.68637\n",
      "epoch: 07, loss: -0.68116\n",
      "epoch: 08, loss: -0.67241\n",
      "epoch: 09, loss: -0.67146\n",
      "After Unsqueezing, feature size= torch.Size([400, 1, 1, 384])\n"
     ]
    },
    {
     "name": "stderr",
     "output_type": "stream",
     "text": [
      " 74%|███████▍  | 741/1000 [3:56:52<1:15:50, 17.57s/it]"
     ]
    },
    {
     "name": "stdout",
     "output_type": "stream",
     "text": [
      "eigenvalues shape torch.Size([5]) eigenvectors shape torch.Size([5, 400])\n",
      "741 /home/phdcs2/Hard_Disk/Datasets/Deep-Spectral-Segmentation/data/object-segmentation/ECSSD/features/dino_vits16/0742.pth\n",
      "dict_keys(['k', 'indices', 'file', 'id', 'model_name', 'patch_size', 'shape'])\n",
      "0742\n",
      "Starting Training\n",
      "epoch: 00, loss: -0.54881\n",
      "epoch: 01, loss: -0.70918\n",
      "epoch: 02, loss: -0.75226\n",
      "epoch: 03, loss: -0.77847\n",
      "epoch: 04, loss: -0.78475\n",
      "epoch: 05, loss: -0.78565\n",
      "epoch: 06, loss: -0.80263\n",
      "epoch: 07, loss: -0.79985\n",
      "epoch: 08, loss: -0.81066\n",
      "epoch: 09, loss: -0.80599\n",
      "After Unsqueezing, feature size= torch.Size([400, 1, 1, 384])\n"
     ]
    },
    {
     "name": "stderr",
     "output_type": "stream",
     "text": [
      " 74%|███████▍  | 742/1000 [3:57:09<1:14:32, 17.33s/it]"
     ]
    },
    {
     "name": "stdout",
     "output_type": "stream",
     "text": [
      "eigenvalues shape torch.Size([5]) eigenvectors shape torch.Size([5, 400])\n",
      "742 /home/phdcs2/Hard_Disk/Datasets/Deep-Spectral-Segmentation/data/object-segmentation/ECSSD/features/dino_vits16/0743.pth\n",
      "dict_keys(['k', 'indices', 'file', 'id', 'model_name', 'patch_size', 'shape'])\n",
      "0743\n",
      "Starting Training\n",
      "epoch: 00, loss: -0.50962\n",
      "epoch: 01, loss: -0.63117\n",
      "epoch: 02, loss: -0.63793\n",
      "epoch: 03, loss: -0.66966\n",
      "epoch: 04, loss: -0.67776\n",
      "epoch: 05, loss: -0.68785\n",
      "epoch: 06, loss: -0.70035\n",
      "epoch: 07, loss: -0.68800\n",
      "epoch: 08, loss: -0.69262\n",
      "epoch: 09, loss: -0.69801\n",
      "After Unsqueezing, feature size= torch.Size([525, 1, 1, 384])\n"
     ]
    },
    {
     "name": "stderr",
     "output_type": "stream",
     "text": [
      " 74%|███████▍  | 743/1000 [3:57:33<1:23:14, 19.44s/it]"
     ]
    },
    {
     "name": "stdout",
     "output_type": "stream",
     "text": [
      "eigenvalues shape torch.Size([5]) eigenvectors shape torch.Size([5, 525])\n",
      "743 /home/phdcs2/Hard_Disk/Datasets/Deep-Spectral-Segmentation/data/object-segmentation/ECSSD/features/dino_vits16/0744.pth\n",
      "dict_keys(['k', 'indices', 'file', 'id', 'model_name', 'patch_size', 'shape'])\n",
      "0744\n",
      "Starting Training\n",
      "epoch: 00, loss: -0.55438\n",
      "epoch: 01, loss: -0.68778\n",
      "epoch: 02, loss: -0.71225\n",
      "epoch: 03, loss: -0.72041\n",
      "epoch: 04, loss: -0.72969\n",
      "epoch: 05, loss: -0.73643\n",
      "epoch: 06, loss: -0.75023\n",
      "epoch: 07, loss: -0.75949\n",
      "epoch: 08, loss: -0.75900\n",
      "epoch: 09, loss: -0.77808\n",
      "After Unsqueezing, feature size= torch.Size([475, 1, 1, 384])\n"
     ]
    },
    {
     "name": "stderr",
     "output_type": "stream",
     "text": [
      " 74%|███████▍  | 744/1000 [3:57:55<1:25:36, 20.07s/it]"
     ]
    },
    {
     "name": "stdout",
     "output_type": "stream",
     "text": [
      "eigenvalues shape torch.Size([5]) eigenvectors shape torch.Size([5, 475])\n",
      "744 /home/phdcs2/Hard_Disk/Datasets/Deep-Spectral-Segmentation/data/object-segmentation/ECSSD/features/dino_vits16/0745.pth\n",
      "dict_keys(['k', 'indices', 'file', 'id', 'model_name', 'patch_size', 'shape'])\n",
      "0745\n",
      "Starting Training\n",
      "epoch: 00, loss: -0.44204\n",
      "epoch: 01, loss: -0.58982\n",
      "epoch: 02, loss: -0.64174\n",
      "epoch: 03, loss: -0.65280\n",
      "epoch: 04, loss: -0.66479\n",
      "epoch: 05, loss: -0.68149\n",
      "epoch: 06, loss: -0.68067\n",
      "epoch: 07, loss: -0.67618\n",
      "epoch: 08, loss: -0.69658\n",
      "epoch: 09, loss: -0.70638\n",
      "After Unsqueezing, feature size= torch.Size([400, 1, 1, 384])\n"
     ]
    },
    {
     "name": "stderr",
     "output_type": "stream",
     "text": [
      " 74%|███████▍  | 745/1000 [3:58:11<1:19:58, 18.82s/it]"
     ]
    },
    {
     "name": "stdout",
     "output_type": "stream",
     "text": [
      "eigenvalues shape torch.Size([5]) eigenvectors shape torch.Size([5, 400])\n",
      "745 /home/phdcs2/Hard_Disk/Datasets/Deep-Spectral-Segmentation/data/object-segmentation/ECSSD/features/dino_vits16/0746.pth\n",
      "dict_keys(['k', 'indices', 'file', 'id', 'model_name', 'patch_size', 'shape'])\n",
      "0746\n",
      "Starting Training\n",
      "epoch: 00, loss: -0.46538\n",
      "epoch: 01, loss: -0.66358\n",
      "epoch: 02, loss: -0.65864\n",
      "epoch: 03, loss: -0.68696\n",
      "epoch: 04, loss: -0.72503\n",
      "epoch: 05, loss: -0.72522\n",
      "epoch: 06, loss: -0.72233\n",
      "epoch: 07, loss: -0.72443\n",
      "epoch: 08, loss: -0.71720\n",
      "epoch: 09, loss: -0.71707\n",
      "After Unsqueezing, feature size= torch.Size([400, 1, 1, 384])\n"
     ]
    },
    {
     "name": "stderr",
     "output_type": "stream",
     "text": [
      " 75%|███████▍  | 746/1000 [3:58:28<1:17:59, 18.42s/it]"
     ]
    },
    {
     "name": "stdout",
     "output_type": "stream",
     "text": [
      "eigenvalues shape torch.Size([5]) eigenvectors shape torch.Size([5, 400])\n",
      "746 /home/phdcs2/Hard_Disk/Datasets/Deep-Spectral-Segmentation/data/object-segmentation/ECSSD/features/dino_vits16/0747.pth\n",
      "dict_keys(['k', 'indices', 'file', 'id', 'model_name', 'patch_size', 'shape'])\n",
      "0747\n",
      "Starting Training\n",
      "epoch: 00, loss: -0.52526\n",
      "epoch: 01, loss: -0.65043\n",
      "epoch: 02, loss: -0.66392\n",
      "epoch: 03, loss: -0.69212\n",
      "epoch: 04, loss: -0.70932\n",
      "epoch: 05, loss: -0.70186\n",
      "epoch: 06, loss: -0.70433\n",
      "epoch: 07, loss: -0.71377\n",
      "epoch: 08, loss: -0.71003\n",
      "epoch: 09, loss: -0.71212\n",
      "After Unsqueezing, feature size= torch.Size([400, 1, 1, 384])\n"
     ]
    },
    {
     "name": "stderr",
     "output_type": "stream",
     "text": [
      " 75%|███████▍  | 747/1000 [3:58:46<1:16:23, 18.12s/it]"
     ]
    },
    {
     "name": "stdout",
     "output_type": "stream",
     "text": [
      "eigenvalues shape torch.Size([5]) eigenvectors shape torch.Size([5, 400])\n",
      "747 /home/phdcs2/Hard_Disk/Datasets/Deep-Spectral-Segmentation/data/object-segmentation/ECSSD/features/dino_vits16/0748.pth\n",
      "dict_keys(['k', 'indices', 'file', 'id', 'model_name', 'patch_size', 'shape'])\n",
      "0748\n",
      "Starting Training\n",
      "epoch: 00, loss: -0.53585\n",
      "epoch: 01, loss: -0.68049\n",
      "epoch: 02, loss: -0.71557\n",
      "epoch: 03, loss: -0.71836\n",
      "epoch: 04, loss: -0.72299\n",
      "epoch: 05, loss: -0.73235\n",
      "epoch: 06, loss: -0.73887\n",
      "epoch: 07, loss: -0.74493\n",
      "epoch: 08, loss: -0.76029\n",
      "epoch: 09, loss: -0.76573\n",
      "After Unsqueezing, feature size= torch.Size([400, 1, 1, 384])\n"
     ]
    },
    {
     "name": "stderr",
     "output_type": "stream",
     "text": [
      " 75%|███████▍  | 748/1000 [3:59:04<1:16:40, 18.26s/it]"
     ]
    },
    {
     "name": "stdout",
     "output_type": "stream",
     "text": [
      "eigenvalues shape torch.Size([5]) eigenvectors shape torch.Size([5, 400])\n",
      "748 /home/phdcs2/Hard_Disk/Datasets/Deep-Spectral-Segmentation/data/object-segmentation/ECSSD/features/dino_vits16/0749.pth\n",
      "dict_keys(['k', 'indices', 'file', 'id', 'model_name', 'patch_size', 'shape'])\n",
      "0749\n",
      "Starting Training\n",
      "epoch: 00, loss: -0.46135\n",
      "epoch: 01, loss: -0.60724\n",
      "epoch: 02, loss: -0.62623\n",
      "epoch: 03, loss: -0.65133\n",
      "epoch: 04, loss: -0.66693\n",
      "epoch: 05, loss: -0.67272\n",
      "epoch: 06, loss: -0.68110\n",
      "epoch: 07, loss: -0.67890\n",
      "epoch: 08, loss: -0.67536\n",
      "epoch: 09, loss: -0.67470\n",
      "After Unsqueezing, feature size= torch.Size([400, 1, 1, 384])\n"
     ]
    },
    {
     "name": "stderr",
     "output_type": "stream",
     "text": [
      " 75%|███████▍  | 749/1000 [3:59:20<1:13:21, 17.53s/it]"
     ]
    },
    {
     "name": "stdout",
     "output_type": "stream",
     "text": [
      "eigenvalues shape torch.Size([5]) eigenvectors shape torch.Size([5, 400])\n",
      "749 /home/phdcs2/Hard_Disk/Datasets/Deep-Spectral-Segmentation/data/object-segmentation/ECSSD/features/dino_vits16/0750.pth\n",
      "dict_keys(['k', 'indices', 'file', 'id', 'model_name', 'patch_size', 'shape'])\n",
      "0750\n",
      "Starting Training\n",
      "epoch: 00, loss: -0.50225\n",
      "epoch: 01, loss: -0.63339\n",
      "epoch: 02, loss: -0.66440\n",
      "epoch: 03, loss: -0.67134\n",
      "epoch: 04, loss: -0.68092\n",
      "epoch: 05, loss: -0.68634\n",
      "epoch: 06, loss: -0.69043\n",
      "epoch: 07, loss: -0.68866\n",
      "epoch: 08, loss: -0.66665\n",
      "epoch: 09, loss: -0.66386\n",
      "After Unsqueezing, feature size= torch.Size([400, 1, 1, 384])\n"
     ]
    },
    {
     "name": "stderr",
     "output_type": "stream",
     "text": [
      " 75%|███████▌  | 750/1000 [3:59:37<1:11:53, 17.25s/it]"
     ]
    },
    {
     "name": "stdout",
     "output_type": "stream",
     "text": [
      "eigenvalues shape torch.Size([5]) eigenvectors shape torch.Size([5, 400])\n",
      "750 /home/phdcs2/Hard_Disk/Datasets/Deep-Spectral-Segmentation/data/object-segmentation/ECSSD/features/dino_vits16/0751.pth\n",
      "dict_keys(['k', 'indices', 'file', 'id', 'model_name', 'patch_size', 'shape'])\n",
      "0751\n",
      "Starting Training\n",
      "epoch: 00, loss: -0.44663\n",
      "epoch: 01, loss: -0.58392\n",
      "epoch: 02, loss: -0.61131\n",
      "epoch: 03, loss: -0.62002\n",
      "epoch: 04, loss: -0.63250\n",
      "epoch: 05, loss: -0.63574\n",
      "epoch: 06, loss: -0.64344\n",
      "epoch: 07, loss: -0.65321\n",
      "epoch: 08, loss: -0.65846\n",
      "epoch: 09, loss: -0.66431\n",
      "After Unsqueezing, feature size= torch.Size([450, 1, 1, 384])\n"
     ]
    },
    {
     "name": "stderr",
     "output_type": "stream",
     "text": [
      " 75%|███████▌  | 751/1000 [3:59:56<1:13:48, 17.79s/it]"
     ]
    },
    {
     "name": "stdout",
     "output_type": "stream",
     "text": [
      "eigenvalues shape torch.Size([5]) eigenvectors shape torch.Size([5, 450])\n",
      "751 /home/phdcs2/Hard_Disk/Datasets/Deep-Spectral-Segmentation/data/object-segmentation/ECSSD/features/dino_vits16/0752.pth\n",
      "dict_keys(['k', 'indices', 'file', 'id', 'model_name', 'patch_size', 'shape'])\n",
      "0752\n",
      "Starting Training\n",
      "epoch: 00, loss: -0.43246\n",
      "epoch: 01, loss: -0.57123\n",
      "epoch: 02, loss: -0.58175\n",
      "epoch: 03, loss: -0.58779\n",
      "epoch: 04, loss: -0.59910\n",
      "epoch: 05, loss: -0.62774\n",
      "epoch: 06, loss: -0.63427\n",
      "epoch: 07, loss: -0.63910\n",
      "epoch: 08, loss: -0.64972\n",
      "epoch: 09, loss: -0.64444\n",
      "After Unsqueezing, feature size= torch.Size([450, 1, 1, 384])\n"
     ]
    },
    {
     "name": "stderr",
     "output_type": "stream",
     "text": [
      " 75%|███████▌  | 752/1000 [4:00:14<1:13:39, 17.82s/it]"
     ]
    },
    {
     "name": "stdout",
     "output_type": "stream",
     "text": [
      "eigenvalues shape torch.Size([5]) eigenvectors shape torch.Size([5, 450])\n",
      "752 /home/phdcs2/Hard_Disk/Datasets/Deep-Spectral-Segmentation/data/object-segmentation/ECSSD/features/dino_vits16/0753.pth\n",
      "dict_keys(['k', 'indices', 'file', 'id', 'model_name', 'patch_size', 'shape'])\n",
      "0753\n",
      "Starting Training\n",
      "epoch: 00, loss: -0.50308\n",
      "epoch: 01, loss: -0.67765\n",
      "epoch: 02, loss: -0.71287\n",
      "epoch: 03, loss: -0.72921\n",
      "epoch: 04, loss: -0.73294\n",
      "epoch: 05, loss: -0.73190\n",
      "epoch: 06, loss: -0.74109\n",
      "epoch: 07, loss: -0.74259\n",
      "epoch: 08, loss: -0.75037\n",
      "epoch: 09, loss: -0.76439\n",
      "After Unsqueezing, feature size= torch.Size([400, 1, 1, 384])\n"
     ]
    },
    {
     "name": "stderr",
     "output_type": "stream",
     "text": [
      " 75%|███████▌  | 753/1000 [4:00:30<1:11:20, 17.33s/it]"
     ]
    },
    {
     "name": "stdout",
     "output_type": "stream",
     "text": [
      "eigenvalues shape torch.Size([5]) eigenvectors shape torch.Size([5, 400])\n",
      "753 /home/phdcs2/Hard_Disk/Datasets/Deep-Spectral-Segmentation/data/object-segmentation/ECSSD/features/dino_vits16/0754.pth\n",
      "dict_keys(['k', 'indices', 'file', 'id', 'model_name', 'patch_size', 'shape'])\n",
      "0754\n",
      "Starting Training\n",
      "epoch: 00, loss: -0.45515\n",
      "epoch: 01, loss: -0.63511\n",
      "epoch: 02, loss: -0.63693\n",
      "epoch: 03, loss: -0.64960\n",
      "epoch: 04, loss: -0.65662\n",
      "epoch: 05, loss: -0.65692\n",
      "epoch: 06, loss: -0.67019\n",
      "epoch: 07, loss: -0.66954\n",
      "epoch: 08, loss: -0.66375\n",
      "epoch: 09, loss: -0.66309\n",
      "After Unsqueezing, feature size= torch.Size([400, 1, 1, 384])\n"
     ]
    },
    {
     "name": "stderr",
     "output_type": "stream",
     "text": [
      " 75%|███████▌  | 754/1000 [4:00:46<1:10:01, 17.08s/it]"
     ]
    },
    {
     "name": "stdout",
     "output_type": "stream",
     "text": [
      "eigenvalues shape torch.Size([5]) eigenvectors shape torch.Size([5, 400])\n",
      "754 /home/phdcs2/Hard_Disk/Datasets/Deep-Spectral-Segmentation/data/object-segmentation/ECSSD/features/dino_vits16/0755.pth\n",
      "dict_keys(['k', 'indices', 'file', 'id', 'model_name', 'patch_size', 'shape'])\n",
      "0755\n",
      "Starting Training\n",
      "epoch: 00, loss: -0.44822\n",
      "epoch: 01, loss: -0.58866\n",
      "epoch: 02, loss: -0.60768\n",
      "epoch: 03, loss: -0.60925\n",
      "epoch: 04, loss: -0.61643\n",
      "epoch: 05, loss: -0.61678\n",
      "epoch: 06, loss: -0.63646\n",
      "epoch: 07, loss: -0.64092\n",
      "epoch: 08, loss: -0.64815\n",
      "epoch: 09, loss: -0.66068\n",
      "After Unsqueezing, feature size= torch.Size([400, 1, 1, 384])\n"
     ]
    },
    {
     "name": "stderr",
     "output_type": "stream",
     "text": [
      " 76%|███████▌  | 755/1000 [4:01:06<1:13:31, 18.00s/it]"
     ]
    },
    {
     "name": "stdout",
     "output_type": "stream",
     "text": [
      "eigenvalues shape torch.Size([5]) eigenvectors shape torch.Size([5, 400])\n",
      "755 /home/phdcs2/Hard_Disk/Datasets/Deep-Spectral-Segmentation/data/object-segmentation/ECSSD/features/dino_vits16/0756.pth\n",
      "dict_keys(['k', 'indices', 'file', 'id', 'model_name', 'patch_size', 'shape'])\n",
      "0756\n",
      "Starting Training\n",
      "epoch: 00, loss: -0.46938\n",
      "epoch: 01, loss: -0.64843\n",
      "epoch: 02, loss: -0.67630\n",
      "epoch: 03, loss: -0.70275\n",
      "epoch: 04, loss: -0.71467\n",
      "epoch: 05, loss: -0.71698\n",
      "epoch: 06, loss: -0.70799\n",
      "epoch: 07, loss: -0.71323\n",
      "epoch: 08, loss: -0.72714\n",
      "epoch: 09, loss: -0.70931\n",
      "After Unsqueezing, feature size= torch.Size([400, 1, 1, 384])\n"
     ]
    },
    {
     "name": "stderr",
     "output_type": "stream",
     "text": [
      " 76%|███████▌  | 756/1000 [4:01:23<1:11:44, 17.64s/it]"
     ]
    },
    {
     "name": "stdout",
     "output_type": "stream",
     "text": [
      "eigenvalues shape torch.Size([5]) eigenvectors shape torch.Size([5, 400])\n",
      "756 /home/phdcs2/Hard_Disk/Datasets/Deep-Spectral-Segmentation/data/object-segmentation/ECSSD/features/dino_vits16/0757.pth\n",
      "dict_keys(['k', 'indices', 'file', 'id', 'model_name', 'patch_size', 'shape'])\n",
      "0757\n",
      "Starting Training\n",
      "epoch: 00, loss: -0.42853\n",
      "epoch: 01, loss: -0.58966\n",
      "epoch: 02, loss: -0.61919\n",
      "epoch: 03, loss: -0.63889\n",
      "epoch: 04, loss: -0.66402\n",
      "epoch: 05, loss: -0.66538\n",
      "epoch: 06, loss: -0.66058\n",
      "epoch: 07, loss: -0.66838\n",
      "epoch: 08, loss: -0.68850\n",
      "epoch: 09, loss: -0.70234\n",
      "After Unsqueezing, feature size= torch.Size([400, 1, 1, 384])\n"
     ]
    },
    {
     "name": "stderr",
     "output_type": "stream",
     "text": [
      " 76%|███████▌  | 757/1000 [4:01:41<1:11:33, 17.67s/it]"
     ]
    },
    {
     "name": "stdout",
     "output_type": "stream",
     "text": [
      "eigenvalues shape torch.Size([5]) eigenvectors shape torch.Size([5, 400])\n",
      "757 /home/phdcs2/Hard_Disk/Datasets/Deep-Spectral-Segmentation/data/object-segmentation/ECSSD/features/dino_vits16/0758.pth\n",
      "dict_keys(['k', 'indices', 'file', 'id', 'model_name', 'patch_size', 'shape'])\n",
      "0758\n",
      "Starting Training\n",
      "epoch: 00, loss: -0.56293\n",
      "epoch: 01, loss: -0.73361\n",
      "epoch: 02, loss: -0.74900\n",
      "epoch: 03, loss: -0.76284\n",
      "epoch: 04, loss: -0.77551\n",
      "epoch: 05, loss: -0.77872\n",
      "epoch: 06, loss: -0.78073\n",
      "epoch: 07, loss: -0.79046\n",
      "epoch: 08, loss: -0.78580\n",
      "epoch: 09, loss: -0.80458\n",
      "After Unsqueezing, feature size= torch.Size([450, 1, 1, 384])\n"
     ]
    },
    {
     "name": "stderr",
     "output_type": "stream",
     "text": [
      " 76%|███████▌  | 758/1000 [4:02:01<1:13:52, 18.32s/it]"
     ]
    },
    {
     "name": "stdout",
     "output_type": "stream",
     "text": [
      "eigenvalues shape torch.Size([5]) eigenvectors shape torch.Size([5, 450])\n",
      "758 /home/phdcs2/Hard_Disk/Datasets/Deep-Spectral-Segmentation/data/object-segmentation/ECSSD/features/dino_vits16/0759.pth\n",
      "dict_keys(['k', 'indices', 'file', 'id', 'model_name', 'patch_size', 'shape'])\n",
      "0759\n",
      "Starting Training\n",
      "epoch: 00, loss: -0.53690\n",
      "epoch: 01, loss: -0.68850\n",
      "epoch: 02, loss: -0.71956\n",
      "epoch: 03, loss: -0.72621\n",
      "epoch: 04, loss: -0.71986\n",
      "epoch: 05, loss: -0.74040\n",
      "epoch: 06, loss: -0.74586\n",
      "epoch: 07, loss: -0.76365\n",
      "epoch: 08, loss: -0.77388\n",
      "epoch: 09, loss: -0.77512\n",
      "After Unsqueezing, feature size= torch.Size([400, 1, 1, 384])\n"
     ]
    },
    {
     "name": "stderr",
     "output_type": "stream",
     "text": [
      " 76%|███████▌  | 759/1000 [4:02:21<1:16:08, 18.96s/it]"
     ]
    },
    {
     "name": "stdout",
     "output_type": "stream",
     "text": [
      "eigenvalues shape torch.Size([5]) eigenvectors shape torch.Size([5, 400])\n",
      "759 /home/phdcs2/Hard_Disk/Datasets/Deep-Spectral-Segmentation/data/object-segmentation/ECSSD/features/dino_vits16/0760.pth\n",
      "dict_keys(['k', 'indices', 'file', 'id', 'model_name', 'patch_size', 'shape'])\n",
      "0760\n",
      "Starting Training\n",
      "epoch: 00, loss: -0.46705\n",
      "epoch: 01, loss: -0.61676\n",
      "epoch: 02, loss: -0.65275\n",
      "epoch: 03, loss: -0.66385\n",
      "epoch: 04, loss: -0.67601\n",
      "epoch: 05, loss: -0.68049\n",
      "epoch: 06, loss: -0.67641\n",
      "epoch: 07, loss: -0.67701\n",
      "epoch: 08, loss: -0.67780\n",
      "epoch: 09, loss: -0.70403\n",
      "After Unsqueezing, feature size= torch.Size([450, 1, 1, 384])\n"
     ]
    },
    {
     "name": "stderr",
     "output_type": "stream",
     "text": [
      " 76%|███████▌  | 760/1000 [4:02:43<1:18:46, 19.69s/it]"
     ]
    },
    {
     "name": "stdout",
     "output_type": "stream",
     "text": [
      "eigenvalues shape torch.Size([5]) eigenvectors shape torch.Size([5, 450])\n",
      "760 /home/phdcs2/Hard_Disk/Datasets/Deep-Spectral-Segmentation/data/object-segmentation/ECSSD/features/dino_vits16/0761.pth\n",
      "dict_keys(['k', 'indices', 'file', 'id', 'model_name', 'patch_size', 'shape'])\n",
      "0761\n",
      "Starting Training\n",
      "epoch: 00, loss: -0.58174\n",
      "epoch: 01, loss: -0.72436\n",
      "epoch: 02, loss: -0.74828\n",
      "epoch: 03, loss: -0.76505\n",
      "epoch: 04, loss: -0.76223\n",
      "epoch: 05, loss: -0.77830\n",
      "epoch: 06, loss: -0.77365\n",
      "epoch: 07, loss: -0.75901\n",
      "epoch: 08, loss: -0.77914\n",
      "epoch: 09, loss: -0.79397\n",
      "After Unsqueezing, feature size= torch.Size([475, 1, 1, 384])\n"
     ]
    },
    {
     "name": "stderr",
     "output_type": "stream",
     "text": [
      " 76%|███████▌  | 761/1000 [4:03:04<1:20:13, 20.14s/it]"
     ]
    },
    {
     "name": "stdout",
     "output_type": "stream",
     "text": [
      "eigenvalues shape torch.Size([5]) eigenvectors shape torch.Size([5, 475])\n",
      "761 /home/phdcs2/Hard_Disk/Datasets/Deep-Spectral-Segmentation/data/object-segmentation/ECSSD/features/dino_vits16/0762.pth\n",
      "dict_keys(['k', 'indices', 'file', 'id', 'model_name', 'patch_size', 'shape'])\n",
      "0762\n",
      "Starting Training\n",
      "epoch: 00, loss: -0.62640\n",
      "epoch: 01, loss: -0.75987\n",
      "epoch: 02, loss: -0.77784\n",
      "epoch: 03, loss: -0.77486\n",
      "epoch: 04, loss: -0.78834\n",
      "epoch: 05, loss: -0.80115\n",
      "epoch: 06, loss: -0.80652\n",
      "epoch: 07, loss: -0.81398\n",
      "epoch: 08, loss: -0.81119\n",
      "epoch: 09, loss: -0.81293\n",
      "After Unsqueezing, feature size= torch.Size([600, 1, 1, 384])\n"
     ]
    },
    {
     "name": "stderr",
     "output_type": "stream",
     "text": [
      " 76%|███████▌  | 762/1000 [4:03:29<1:26:17, 21.76s/it]"
     ]
    },
    {
     "name": "stdout",
     "output_type": "stream",
     "text": [
      "eigenvalues shape torch.Size([5]) eigenvectors shape torch.Size([5, 600])\n",
      "762 /home/phdcs2/Hard_Disk/Datasets/Deep-Spectral-Segmentation/data/object-segmentation/ECSSD/features/dino_vits16/0763.pth\n",
      "dict_keys(['k', 'indices', 'file', 'id', 'model_name', 'patch_size', 'shape'])\n",
      "0763\n",
      "Starting Training\n",
      "epoch: 00, loss: -0.48231\n",
      "epoch: 01, loss: -0.62166\n",
      "epoch: 02, loss: -0.64414\n",
      "epoch: 03, loss: -0.67867\n",
      "epoch: 04, loss: -0.69420\n",
      "epoch: 05, loss: -0.69673\n",
      "epoch: 06, loss: -0.69203\n",
      "epoch: 07, loss: -0.70225\n",
      "epoch: 08, loss: -0.72297\n",
      "epoch: 09, loss: -0.72332\n",
      "After Unsqueezing, feature size= torch.Size([450, 1, 1, 384])\n"
     ]
    },
    {
     "name": "stderr",
     "output_type": "stream",
     "text": [
      " 76%|███████▋  | 763/1000 [4:03:49<1:23:51, 21.23s/it]"
     ]
    },
    {
     "name": "stdout",
     "output_type": "stream",
     "text": [
      "eigenvalues shape torch.Size([5]) eigenvectors shape torch.Size([5, 450])\n",
      "763 /home/phdcs2/Hard_Disk/Datasets/Deep-Spectral-Segmentation/data/object-segmentation/ECSSD/features/dino_vits16/0764.pth\n",
      "dict_keys(['k', 'indices', 'file', 'id', 'model_name', 'patch_size', 'shape'])\n",
      "0764\n",
      "Starting Training\n",
      "epoch: 00, loss: -0.56632\n",
      "epoch: 01, loss: -0.73037\n",
      "epoch: 02, loss: -0.74514\n",
      "epoch: 03, loss: -0.76062\n",
      "epoch: 04, loss: -0.76376\n",
      "epoch: 05, loss: -0.77141\n",
      "epoch: 06, loss: -0.77658\n",
      "epoch: 07, loss: -0.78894\n",
      "epoch: 08, loss: -0.79405\n",
      "epoch: 09, loss: -0.79113\n",
      "After Unsqueezing, feature size= torch.Size([400, 1, 1, 384])\n"
     ]
    },
    {
     "name": "stderr",
     "output_type": "stream",
     "text": [
      " 76%|███████▋  | 764/1000 [4:04:06<1:18:28, 19.95s/it]"
     ]
    },
    {
     "name": "stdout",
     "output_type": "stream",
     "text": [
      "eigenvalues shape torch.Size([5]) eigenvectors shape torch.Size([5, 400])\n",
      "764 /home/phdcs2/Hard_Disk/Datasets/Deep-Spectral-Segmentation/data/object-segmentation/ECSSD/features/dino_vits16/0765.pth\n",
      "dict_keys(['k', 'indices', 'file', 'id', 'model_name', 'patch_size', 'shape'])\n",
      "0765\n",
      "Starting Training\n",
      "epoch: 00, loss: -0.49311\n",
      "epoch: 01, loss: -0.63299\n",
      "epoch: 02, loss: -0.65222\n",
      "epoch: 03, loss: -0.65650\n",
      "epoch: 04, loss: -0.66693\n",
      "epoch: 05, loss: -0.67066\n",
      "epoch: 06, loss: -0.66422\n",
      "epoch: 07, loss: -0.65951\n",
      "epoch: 08, loss: -0.67191\n",
      "epoch: 09, loss: -0.66553\n",
      "After Unsqueezing, feature size= torch.Size([400, 1, 1, 384])\n"
     ]
    },
    {
     "name": "stderr",
     "output_type": "stream",
     "text": [
      " 76%|███████▋  | 765/1000 [4:04:23<1:13:57, 18.88s/it]"
     ]
    },
    {
     "name": "stdout",
     "output_type": "stream",
     "text": [
      "eigenvalues shape torch.Size([5]) eigenvectors shape torch.Size([5, 400])\n",
      "765 /home/phdcs2/Hard_Disk/Datasets/Deep-Spectral-Segmentation/data/object-segmentation/ECSSD/features/dino_vits16/0766.pth\n",
      "dict_keys(['k', 'indices', 'file', 'id', 'model_name', 'patch_size', 'shape'])\n",
      "0766\n",
      "Starting Training\n",
      "epoch: 00, loss: -0.43781\n",
      "epoch: 01, loss: -0.56906\n",
      "epoch: 02, loss: -0.59563\n",
      "epoch: 03, loss: -0.61845\n",
      "epoch: 04, loss: -0.63324\n",
      "epoch: 05, loss: -0.65669\n",
      "epoch: 06, loss: -0.66538\n",
      "epoch: 07, loss: -0.67258\n",
      "epoch: 08, loss: -0.66289\n",
      "epoch: 09, loss: -0.65003\n",
      "After Unsqueezing, feature size= torch.Size([500, 1, 1, 384])\n"
     ]
    },
    {
     "name": "stderr",
     "output_type": "stream",
     "text": [
      " 77%|███████▋  | 766/1000 [4:04:46<1:18:32, 20.14s/it]"
     ]
    },
    {
     "name": "stdout",
     "output_type": "stream",
     "text": [
      "eigenvalues shape torch.Size([5]) eigenvectors shape torch.Size([5, 500])\n",
      "766 /home/phdcs2/Hard_Disk/Datasets/Deep-Spectral-Segmentation/data/object-segmentation/ECSSD/features/dino_vits16/0767.pth\n",
      "dict_keys(['k', 'indices', 'file', 'id', 'model_name', 'patch_size', 'shape'])\n",
      "0767\n",
      "Starting Training\n",
      "epoch: 00, loss: -0.46760\n",
      "epoch: 01, loss: -0.62968\n",
      "epoch: 02, loss: -0.64877\n",
      "epoch: 03, loss: -0.65491\n",
      "epoch: 04, loss: -0.66975\n",
      "epoch: 05, loss: -0.67377\n",
      "epoch: 06, loss: -0.66020\n",
      "epoch: 07, loss: -0.66402\n",
      "epoch: 08, loss: -0.65747\n",
      "epoch: 09, loss: -0.66303\n",
      "After Unsqueezing, feature size= torch.Size([400, 1, 1, 384])\n"
     ]
    },
    {
     "name": "stderr",
     "output_type": "stream",
     "text": [
      " 77%|███████▋  | 767/1000 [4:05:03<1:14:41, 19.24s/it]"
     ]
    },
    {
     "name": "stdout",
     "output_type": "stream",
     "text": [
      "eigenvalues shape torch.Size([5]) eigenvectors shape torch.Size([5, 400])\n",
      "767 /home/phdcs2/Hard_Disk/Datasets/Deep-Spectral-Segmentation/data/object-segmentation/ECSSD/features/dino_vits16/0768.pth\n",
      "dict_keys(['k', 'indices', 'file', 'id', 'model_name', 'patch_size', 'shape'])\n",
      "0768\n",
      "Starting Training\n",
      "epoch: 00, loss: -0.48214\n",
      "epoch: 01, loss: -0.61472\n",
      "epoch: 02, loss: -0.63183\n",
      "epoch: 03, loss: -0.64982\n",
      "epoch: 04, loss: -0.65914\n",
      "epoch: 05, loss: -0.68064\n",
      "epoch: 06, loss: -0.68220\n",
      "epoch: 07, loss: -0.68456\n",
      "epoch: 08, loss: -0.70474\n",
      "epoch: 09, loss: -0.70768\n",
      "After Unsqueezing, feature size= torch.Size([475, 1, 1, 384])\n"
     ]
    },
    {
     "name": "stderr",
     "output_type": "stream",
     "text": [
      " 77%|███████▋  | 768/1000 [4:05:22<1:14:31, 19.27s/it]"
     ]
    },
    {
     "name": "stdout",
     "output_type": "stream",
     "text": [
      "eigenvalues shape torch.Size([5]) eigenvectors shape torch.Size([5, 475])\n",
      "768 /home/phdcs2/Hard_Disk/Datasets/Deep-Spectral-Segmentation/data/object-segmentation/ECSSD/features/dino_vits16/0769.pth\n",
      "dict_keys(['k', 'indices', 'file', 'id', 'model_name', 'patch_size', 'shape'])\n",
      "0769\n",
      "Starting Training\n",
      "epoch: 00, loss: -0.52061\n",
      "epoch: 01, loss: -0.69411\n",
      "epoch: 02, loss: -0.73533\n",
      "epoch: 03, loss: -0.75430\n",
      "epoch: 04, loss: -0.77181\n",
      "epoch: 05, loss: -0.78167\n",
      "epoch: 06, loss: -0.77627\n",
      "epoch: 07, loss: -0.77960\n",
      "epoch: 08, loss: -0.77981\n",
      "epoch: 09, loss: -0.77254\n",
      "After Unsqueezing, feature size= torch.Size([375, 1, 1, 384])\n"
     ]
    },
    {
     "name": "stderr",
     "output_type": "stream",
     "text": [
      " 77%|███████▋  | 769/1000 [4:05:38<1:10:32, 18.32s/it]"
     ]
    },
    {
     "name": "stdout",
     "output_type": "stream",
     "text": [
      "eigenvalues shape torch.Size([5]) eigenvectors shape torch.Size([5, 375])\n",
      "769 /home/phdcs2/Hard_Disk/Datasets/Deep-Spectral-Segmentation/data/object-segmentation/ECSSD/features/dino_vits16/0770.pth\n",
      "dict_keys(['k', 'indices', 'file', 'id', 'model_name', 'patch_size', 'shape'])\n",
      "0770\n",
      "Starting Training\n",
      "epoch: 00, loss: -0.49007\n",
      "epoch: 01, loss: -0.64206\n",
      "epoch: 02, loss: -0.66258\n",
      "epoch: 03, loss: -0.68520\n",
      "epoch: 04, loss: -0.70856\n",
      "epoch: 05, loss: -0.71313\n",
      "epoch: 06, loss: -0.70634\n",
      "epoch: 07, loss: -0.71583\n",
      "epoch: 08, loss: -0.71632\n",
      "epoch: 09, loss: -0.70465\n",
      "After Unsqueezing, feature size= torch.Size([400, 1, 1, 384])\n"
     ]
    },
    {
     "name": "stderr",
     "output_type": "stream",
     "text": [
      " 77%|███████▋  | 770/1000 [4:05:56<1:09:08, 18.04s/it]"
     ]
    },
    {
     "name": "stdout",
     "output_type": "stream",
     "text": [
      "eigenvalues shape torch.Size([5]) eigenvectors shape torch.Size([5, 400])\n",
      "770 /home/phdcs2/Hard_Disk/Datasets/Deep-Spectral-Segmentation/data/object-segmentation/ECSSD/features/dino_vits16/0771.pth\n",
      "dict_keys(['k', 'indices', 'file', 'id', 'model_name', 'patch_size', 'shape'])\n",
      "0771\n",
      "Starting Training\n",
      "epoch: 00, loss: -0.49627\n",
      "epoch: 01, loss: -0.67259\n",
      "epoch: 02, loss: -0.68481\n",
      "epoch: 03, loss: -0.70230\n",
      "epoch: 04, loss: -0.70985\n",
      "epoch: 05, loss: -0.72200\n",
      "epoch: 06, loss: -0.72617\n",
      "epoch: 07, loss: -0.72738\n",
      "epoch: 08, loss: -0.72393\n",
      "epoch: 09, loss: -0.73265\n",
      "After Unsqueezing, feature size= torch.Size([400, 1, 1, 384])\n"
     ]
    },
    {
     "name": "stderr",
     "output_type": "stream",
     "text": [
      " 77%|███████▋  | 771/1000 [4:06:14<1:08:35, 17.97s/it]"
     ]
    },
    {
     "name": "stdout",
     "output_type": "stream",
     "text": [
      "eigenvalues shape torch.Size([5]) eigenvectors shape torch.Size([5, 400])\n",
      "771 /home/phdcs2/Hard_Disk/Datasets/Deep-Spectral-Segmentation/data/object-segmentation/ECSSD/features/dino_vits16/0772.pth\n",
      "dict_keys(['k', 'indices', 'file', 'id', 'model_name', 'patch_size', 'shape'])\n",
      "0772\n",
      "Starting Training\n",
      "epoch: 00, loss: -0.48486\n",
      "epoch: 01, loss: -0.63291\n",
      "epoch: 02, loss: -0.64646\n",
      "epoch: 03, loss: -0.66629\n",
      "epoch: 04, loss: -0.68176\n",
      "epoch: 05, loss: -0.71219\n",
      "epoch: 06, loss: -0.72213\n",
      "epoch: 07, loss: -0.71230\n",
      "epoch: 08, loss: -0.69569\n",
      "epoch: 09, loss: -0.69164\n",
      "After Unsqueezing, feature size= torch.Size([475, 1, 1, 384])\n"
     ]
    },
    {
     "name": "stderr",
     "output_type": "stream",
     "text": [
      " 77%|███████▋  | 772/1000 [4:06:33<1:10:19, 18.50s/it]"
     ]
    },
    {
     "name": "stdout",
     "output_type": "stream",
     "text": [
      "eigenvalues shape torch.Size([5]) eigenvectors shape torch.Size([5, 475])\n",
      "772 /home/phdcs2/Hard_Disk/Datasets/Deep-Spectral-Segmentation/data/object-segmentation/ECSSD/features/dino_vits16/0773.pth\n",
      "dict_keys(['k', 'indices', 'file', 'id', 'model_name', 'patch_size', 'shape'])\n",
      "0773\n",
      "Starting Training\n",
      "epoch: 00, loss: -0.53252\n",
      "epoch: 01, loss: -0.69180\n",
      "epoch: 02, loss: -0.71338\n",
      "epoch: 03, loss: -0.72514\n",
      "epoch: 04, loss: -0.73398\n",
      "epoch: 05, loss: -0.72718\n",
      "epoch: 06, loss: -0.71641\n",
      "epoch: 07, loss: -0.71873\n",
      "epoch: 08, loss: -0.71932\n",
      "epoch: 09, loss: -0.73325\n",
      "After Unsqueezing, feature size= torch.Size([450, 1, 1, 384])\n"
     ]
    },
    {
     "name": "stderr",
     "output_type": "stream",
     "text": [
      " 77%|███████▋  | 773/1000 [4:06:53<1:11:44, 18.96s/it]"
     ]
    },
    {
     "name": "stdout",
     "output_type": "stream",
     "text": [
      "eigenvalues shape torch.Size([5]) eigenvectors shape torch.Size([5, 450])\n",
      "773 /home/phdcs2/Hard_Disk/Datasets/Deep-Spectral-Segmentation/data/object-segmentation/ECSSD/features/dino_vits16/0774.pth\n",
      "dict_keys(['k', 'indices', 'file', 'id', 'model_name', 'patch_size', 'shape'])\n",
      "0774\n",
      "Starting Training\n",
      "epoch: 00, loss: -0.42778\n",
      "epoch: 01, loss: -0.58706\n",
      "epoch: 02, loss: -0.59798\n",
      "epoch: 03, loss: -0.62340\n",
      "epoch: 04, loss: -0.61936\n",
      "epoch: 05, loss: -0.61069\n",
      "epoch: 06, loss: -0.60423\n",
      "epoch: 07, loss: -0.63549\n",
      "epoch: 08, loss: -0.63994\n",
      "epoch: 09, loss: -0.64934\n",
      "After Unsqueezing, feature size= torch.Size([425, 1, 1, 384])\n"
     ]
    },
    {
     "name": "stderr",
     "output_type": "stream",
     "text": [
      " 77%|███████▋  | 774/1000 [4:07:11<1:10:05, 18.61s/it]"
     ]
    },
    {
     "name": "stdout",
     "output_type": "stream",
     "text": [
      "eigenvalues shape torch.Size([5]) eigenvectors shape torch.Size([5, 425])\n",
      "774 /home/phdcs2/Hard_Disk/Datasets/Deep-Spectral-Segmentation/data/object-segmentation/ECSSD/features/dino_vits16/0775.pth\n",
      "dict_keys(['k', 'indices', 'file', 'id', 'model_name', 'patch_size', 'shape'])\n",
      "0775\n",
      "Starting Training\n",
      "epoch: 00, loss: -0.45113\n",
      "epoch: 01, loss: -0.61065\n",
      "epoch: 02, loss: -0.63761\n",
      "epoch: 03, loss: -0.63774\n",
      "epoch: 04, loss: -0.62808\n",
      "epoch: 05, loss: -0.63559\n",
      "epoch: 06, loss: -0.62901\n",
      "epoch: 07, loss: -0.62386\n",
      "epoch: 08, loss: -0.65653\n",
      "epoch: 09, loss: -0.69336\n",
      "After Unsqueezing, feature size= torch.Size([400, 1, 1, 384])\n"
     ]
    },
    {
     "name": "stderr",
     "output_type": "stream",
     "text": [
      " 78%|███████▊  | 775/1000 [4:07:29<1:09:08, 18.44s/it]"
     ]
    },
    {
     "name": "stdout",
     "output_type": "stream",
     "text": [
      "eigenvalues shape torch.Size([5]) eigenvectors shape torch.Size([5, 400])\n",
      "775 /home/phdcs2/Hard_Disk/Datasets/Deep-Spectral-Segmentation/data/object-segmentation/ECSSD/features/dino_vits16/0776.pth\n",
      "dict_keys(['k', 'indices', 'file', 'id', 'model_name', 'patch_size', 'shape'])\n",
      "0776\n",
      "Starting Training\n",
      "epoch: 00, loss: -0.52515\n",
      "epoch: 01, loss: -0.70394\n",
      "epoch: 02, loss: -0.73489\n",
      "epoch: 03, loss: -0.73384\n",
      "epoch: 04, loss: -0.73935\n",
      "epoch: 05, loss: -0.71966\n",
      "epoch: 06, loss: -0.71319\n",
      "epoch: 07, loss: -0.72480\n",
      "epoch: 08, loss: -0.73004\n",
      "epoch: 09, loss: -0.73113\n",
      "After Unsqueezing, feature size= torch.Size([400, 1, 1, 384])\n"
     ]
    },
    {
     "name": "stderr",
     "output_type": "stream",
     "text": [
      " 78%|███████▊  | 776/1000 [4:07:46<1:06:32, 17.82s/it]"
     ]
    },
    {
     "name": "stdout",
     "output_type": "stream",
     "text": [
      "eigenvalues shape torch.Size([5]) eigenvectors shape torch.Size([5, 400])\n",
      "776 /home/phdcs2/Hard_Disk/Datasets/Deep-Spectral-Segmentation/data/object-segmentation/ECSSD/features/dino_vits16/0777.pth\n",
      "dict_keys(['k', 'indices', 'file', 'id', 'model_name', 'patch_size', 'shape'])\n",
      "0777\n",
      "Starting Training\n",
      "epoch: 00, loss: -0.49053\n",
      "epoch: 01, loss: -0.60928\n",
      "epoch: 02, loss: -0.65491\n",
      "epoch: 03, loss: -0.67053\n",
      "epoch: 04, loss: -0.67751\n",
      "epoch: 05, loss: -0.67311\n",
      "epoch: 06, loss: -0.67621\n",
      "epoch: 07, loss: -0.68237\n",
      "epoch: 08, loss: -0.68197\n",
      "epoch: 09, loss: -0.68637\n",
      "After Unsqueezing, feature size= torch.Size([625, 1, 1, 384])\n"
     ]
    },
    {
     "name": "stderr",
     "output_type": "stream",
     "text": [
      " 78%|███████▊  | 777/1000 [4:08:16<1:19:46, 21.46s/it]"
     ]
    },
    {
     "name": "stdout",
     "output_type": "stream",
     "text": [
      "eigenvalues shape torch.Size([5]) eigenvectors shape torch.Size([5, 625])\n",
      "777 /home/phdcs2/Hard_Disk/Datasets/Deep-Spectral-Segmentation/data/object-segmentation/ECSSD/features/dino_vits16/0778.pth\n",
      "dict_keys(['k', 'indices', 'file', 'id', 'model_name', 'patch_size', 'shape'])\n",
      "0778\n",
      "Starting Training\n",
      "epoch: 00, loss: -0.48592\n",
      "epoch: 01, loss: -0.63093\n",
      "epoch: 02, loss: -0.65064\n",
      "epoch: 03, loss: -0.66529\n",
      "epoch: 04, loss: -0.66270\n",
      "epoch: 05, loss: -0.66861\n",
      "epoch: 06, loss: -0.67891\n",
      "epoch: 07, loss: -0.67302\n",
      "epoch: 08, loss: -0.68101\n",
      "epoch: 09, loss: -0.68528\n",
      "After Unsqueezing, feature size= torch.Size([450, 1, 1, 384])\n"
     ]
    },
    {
     "name": "stderr",
     "output_type": "stream",
     "text": [
      " 78%|███████▊  | 778/1000 [4:08:35<1:16:44, 20.74s/it]"
     ]
    },
    {
     "name": "stdout",
     "output_type": "stream",
     "text": [
      "eigenvalues shape torch.Size([5]) eigenvectors shape torch.Size([5, 450])\n",
      "778 /home/phdcs2/Hard_Disk/Datasets/Deep-Spectral-Segmentation/data/object-segmentation/ECSSD/features/dino_vits16/0779.pth\n",
      "dict_keys(['k', 'indices', 'file', 'id', 'model_name', 'patch_size', 'shape'])\n",
      "0779\n",
      "Starting Training\n",
      "epoch: 00, loss: -0.42238\n",
      "epoch: 01, loss: -0.57692\n",
      "epoch: 02, loss: -0.59891\n",
      "epoch: 03, loss: -0.59519\n",
      "epoch: 04, loss: -0.61806\n",
      "epoch: 05, loss: -0.61577\n",
      "epoch: 06, loss: -0.61180\n",
      "epoch: 07, loss: -0.60413\n",
      "epoch: 08, loss: -0.61393\n",
      "epoch: 09, loss: -0.62063\n",
      "After Unsqueezing, feature size= torch.Size([375, 1, 1, 384])\n"
     ]
    },
    {
     "name": "stderr",
     "output_type": "stream",
     "text": [
      " 78%|███████▊  | 779/1000 [4:08:50<1:10:17, 19.08s/it]"
     ]
    },
    {
     "name": "stdout",
     "output_type": "stream",
     "text": [
      "eigenvalues shape torch.Size([5]) eigenvectors shape torch.Size([5, 375])\n",
      "779 /home/phdcs2/Hard_Disk/Datasets/Deep-Spectral-Segmentation/data/object-segmentation/ECSSD/features/dino_vits16/0780.pth\n",
      "dict_keys(['k', 'indices', 'file', 'id', 'model_name', 'patch_size', 'shape'])\n",
      "0780\n",
      "Starting Training\n",
      "epoch: 00, loss: -0.47807\n",
      "epoch: 01, loss: -0.64002\n",
      "epoch: 02, loss: -0.67154\n",
      "epoch: 03, loss: -0.68083\n",
      "epoch: 04, loss: -0.68613\n",
      "epoch: 05, loss: -0.69627\n",
      "epoch: 06, loss: -0.69130\n",
      "epoch: 07, loss: -0.69528\n",
      "epoch: 08, loss: -0.69841\n",
      "epoch: 09, loss: -0.69465\n",
      "After Unsqueezing, feature size= torch.Size([400, 1, 1, 384])\n"
     ]
    },
    {
     "name": "stderr",
     "output_type": "stream",
     "text": [
      " 78%|███████▊  | 780/1000 [4:09:06<1:07:05, 18.30s/it]"
     ]
    },
    {
     "name": "stdout",
     "output_type": "stream",
     "text": [
      "eigenvalues shape torch.Size([5]) eigenvectors shape torch.Size([5, 400])\n",
      "780 /home/phdcs2/Hard_Disk/Datasets/Deep-Spectral-Segmentation/data/object-segmentation/ECSSD/features/dino_vits16/0781.pth\n",
      "dict_keys(['k', 'indices', 'file', 'id', 'model_name', 'patch_size', 'shape'])\n",
      "0781\n",
      "Starting Training\n",
      "epoch: 00, loss: -0.57434\n",
      "epoch: 01, loss: -0.71394\n",
      "epoch: 02, loss: -0.72985\n",
      "epoch: 03, loss: -0.74657\n",
      "epoch: 04, loss: -0.75280\n",
      "epoch: 05, loss: -0.76353\n",
      "epoch: 06, loss: -0.78508\n",
      "epoch: 07, loss: -0.79823\n",
      "epoch: 08, loss: -0.78620\n",
      "epoch: 09, loss: -0.78333\n",
      "After Unsqueezing, feature size= torch.Size([450, 1, 1, 384])\n"
     ]
    },
    {
     "name": "stderr",
     "output_type": "stream",
     "text": [
      " 78%|███████▊  | 781/1000 [4:09:25<1:07:39, 18.54s/it]"
     ]
    },
    {
     "name": "stdout",
     "output_type": "stream",
     "text": [
      "eigenvalues shape torch.Size([5]) eigenvectors shape torch.Size([5, 450])\n",
      "781 /home/phdcs2/Hard_Disk/Datasets/Deep-Spectral-Segmentation/data/object-segmentation/ECSSD/features/dino_vits16/0782.pth\n",
      "dict_keys(['k', 'indices', 'file', 'id', 'model_name', 'patch_size', 'shape'])\n",
      "0782\n",
      "Starting Training\n",
      "epoch: 00, loss: -0.54572\n",
      "epoch: 01, loss: -0.72313\n",
      "epoch: 02, loss: -0.74471\n",
      "epoch: 03, loss: -0.77014\n",
      "epoch: 04, loss: -0.78995\n",
      "epoch: 05, loss: -0.79617\n",
      "epoch: 06, loss: -0.80301\n",
      "epoch: 07, loss: -0.80961\n",
      "epoch: 08, loss: -0.79835\n",
      "epoch: 09, loss: -0.78936\n",
      "After Unsqueezing, feature size= torch.Size([400, 1, 1, 384])\n"
     ]
    },
    {
     "name": "stderr",
     "output_type": "stream",
     "text": [
      " 78%|███████▊  | 782/1000 [4:09:42<1:05:22, 17.99s/it]"
     ]
    },
    {
     "name": "stdout",
     "output_type": "stream",
     "text": [
      "eigenvalues shape torch.Size([5]) eigenvectors shape torch.Size([5, 400])\n",
      "782 /home/phdcs2/Hard_Disk/Datasets/Deep-Spectral-Segmentation/data/object-segmentation/ECSSD/features/dino_vits16/0783.pth\n",
      "dict_keys(['k', 'indices', 'file', 'id', 'model_name', 'patch_size', 'shape'])\n",
      "0783\n",
      "Starting Training\n",
      "epoch: 00, loss: -0.46900\n",
      "epoch: 01, loss: -0.63148\n",
      "epoch: 02, loss: -0.63192\n",
      "epoch: 03, loss: -0.62192\n",
      "epoch: 04, loss: -0.64113\n",
      "epoch: 05, loss: -0.65261\n",
      "epoch: 06, loss: -0.65519\n",
      "epoch: 07, loss: -0.64237\n",
      "epoch: 08, loss: -0.65891\n",
      "epoch: 09, loss: -0.66274\n",
      "After Unsqueezing, feature size= torch.Size([300, 1, 1, 384])\n"
     ]
    },
    {
     "name": "stderr",
     "output_type": "stream",
     "text": [
      " 78%|███████▊  | 783/1000 [4:09:55<59:23, 16.42s/it]  "
     ]
    },
    {
     "name": "stdout",
     "output_type": "stream",
     "text": [
      "eigenvalues shape torch.Size([5]) eigenvectors shape torch.Size([5, 300])\n",
      "783 /home/phdcs2/Hard_Disk/Datasets/Deep-Spectral-Segmentation/data/object-segmentation/ECSSD/features/dino_vits16/0784.pth\n",
      "dict_keys(['k', 'indices', 'file', 'id', 'model_name', 'patch_size', 'shape'])\n",
      "0784\n",
      "Starting Training\n",
      "epoch: 00, loss: -0.43578\n",
      "epoch: 01, loss: -0.56880\n",
      "epoch: 02, loss: -0.56835\n",
      "epoch: 03, loss: -0.57676\n",
      "epoch: 04, loss: -0.59405\n",
      "epoch: 05, loss: -0.60251\n",
      "epoch: 06, loss: -0.62307\n",
      "epoch: 07, loss: -0.64085\n",
      "epoch: 08, loss: -0.67709\n",
      "epoch: 09, loss: -0.68183\n",
      "After Unsqueezing, feature size= torch.Size([525, 1, 1, 384])\n"
     ]
    },
    {
     "name": "stderr",
     "output_type": "stream",
     "text": [
      " 78%|███████▊  | 784/1000 [4:10:17<1:05:39, 18.24s/it]"
     ]
    },
    {
     "name": "stdout",
     "output_type": "stream",
     "text": [
      "eigenvalues shape torch.Size([5]) eigenvectors shape torch.Size([5, 525])\n",
      "784 /home/phdcs2/Hard_Disk/Datasets/Deep-Spectral-Segmentation/data/object-segmentation/ECSSD/features/dino_vits16/0785.pth\n",
      "dict_keys(['k', 'indices', 'file', 'id', 'model_name', 'patch_size', 'shape'])\n",
      "0785\n",
      "Starting Training\n",
      "epoch: 00, loss: -0.51866\n",
      "epoch: 01, loss: -0.63956\n",
      "epoch: 02, loss: -0.66170\n",
      "epoch: 03, loss: -0.68317\n",
      "epoch: 04, loss: -0.67958\n",
      "epoch: 05, loss: -0.68767\n",
      "epoch: 06, loss: -0.67813\n",
      "epoch: 07, loss: -0.69972\n",
      "epoch: 08, loss: -0.70777\n",
      "epoch: 09, loss: -0.70792\n",
      "After Unsqueezing, feature size= torch.Size([500, 1, 1, 384])\n"
     ]
    },
    {
     "name": "stderr",
     "output_type": "stream",
     "text": [
      " 78%|███████▊  | 785/1000 [4:10:40<1:09:50, 19.49s/it]"
     ]
    },
    {
     "name": "stdout",
     "output_type": "stream",
     "text": [
      "eigenvalues shape torch.Size([5]) eigenvectors shape torch.Size([5, 500])\n",
      "785 /home/phdcs2/Hard_Disk/Datasets/Deep-Spectral-Segmentation/data/object-segmentation/ECSSD/features/dino_vits16/0786.pth\n",
      "dict_keys(['k', 'indices', 'file', 'id', 'model_name', 'patch_size', 'shape'])\n",
      "0786\n",
      "Starting Training\n",
      "epoch: 00, loss: -0.48958\n",
      "epoch: 01, loss: -0.63821\n",
      "epoch: 02, loss: -0.66445\n",
      "epoch: 03, loss: -0.67826\n",
      "epoch: 04, loss: -0.67091\n",
      "epoch: 05, loss: -0.68972\n",
      "epoch: 06, loss: -0.70574\n",
      "epoch: 07, loss: -0.70944\n",
      "epoch: 08, loss: -0.69634\n",
      "epoch: 09, loss: -0.70866\n",
      "After Unsqueezing, feature size= torch.Size([450, 1, 1, 384])\n"
     ]
    },
    {
     "name": "stderr",
     "output_type": "stream",
     "text": [
      " 79%|███████▊  | 786/1000 [4:11:00<1:10:01, 19.63s/it]"
     ]
    },
    {
     "name": "stdout",
     "output_type": "stream",
     "text": [
      "eigenvalues shape torch.Size([5]) eigenvectors shape torch.Size([5, 450])\n",
      "786 /home/phdcs2/Hard_Disk/Datasets/Deep-Spectral-Segmentation/data/object-segmentation/ECSSD/features/dino_vits16/0787.pth\n",
      "dict_keys(['k', 'indices', 'file', 'id', 'model_name', 'patch_size', 'shape'])\n",
      "0787\n",
      "Starting Training\n",
      "epoch: 00, loss: -0.52696\n",
      "epoch: 01, loss: -0.66700\n",
      "epoch: 02, loss: -0.67184\n",
      "epoch: 03, loss: -0.70762\n",
      "epoch: 04, loss: -0.70391\n",
      "epoch: 05, loss: -0.70615\n",
      "epoch: 06, loss: -0.71398\n",
      "epoch: 07, loss: -0.71971\n",
      "epoch: 08, loss: -0.72459\n",
      "epoch: 09, loss: -0.73891\n",
      "After Unsqueezing, feature size= torch.Size([550, 1, 1, 384])\n"
     ]
    },
    {
     "name": "stderr",
     "output_type": "stream",
     "text": [
      " 79%|███████▊  | 787/1000 [4:11:25<1:16:09, 21.45s/it]"
     ]
    },
    {
     "name": "stdout",
     "output_type": "stream",
     "text": [
      "eigenvalues shape torch.Size([5]) eigenvectors shape torch.Size([5, 550])\n",
      "787 /home/phdcs2/Hard_Disk/Datasets/Deep-Spectral-Segmentation/data/object-segmentation/ECSSD/features/dino_vits16/0788.pth\n",
      "dict_keys(['k', 'indices', 'file', 'id', 'model_name', 'patch_size', 'shape'])\n",
      "0788\n",
      "Starting Training\n",
      "epoch: 00, loss: -0.44048\n",
      "epoch: 01, loss: -0.58128\n",
      "epoch: 02, loss: -0.61780\n",
      "epoch: 03, loss: -0.59567\n",
      "epoch: 04, loss: -0.60558\n",
      "epoch: 05, loss: -0.62644\n",
      "epoch: 06, loss: -0.63549\n",
      "epoch: 07, loss: -0.61418\n",
      "epoch: 08, loss: -0.58585\n",
      "epoch: 09, loss: -0.59641\n",
      "After Unsqueezing, feature size= torch.Size([400, 1, 1, 384])\n"
     ]
    },
    {
     "name": "stderr",
     "output_type": "stream",
     "text": [
      " 79%|███████▉  | 788/1000 [4:11:44<1:12:30, 20.52s/it]"
     ]
    },
    {
     "name": "stdout",
     "output_type": "stream",
     "text": [
      "eigenvalues shape torch.Size([5]) eigenvectors shape torch.Size([5, 400])\n",
      "788 /home/phdcs2/Hard_Disk/Datasets/Deep-Spectral-Segmentation/data/object-segmentation/ECSSD/features/dino_vits16/0789.pth\n",
      "dict_keys(['k', 'indices', 'file', 'id', 'model_name', 'patch_size', 'shape'])\n",
      "0789\n",
      "Starting Training\n",
      "epoch: 00, loss: -0.53499\n",
      "epoch: 01, loss: -0.67037\n",
      "epoch: 02, loss: -0.68516\n",
      "epoch: 03, loss: -0.69126\n",
      "epoch: 04, loss: -0.70647\n",
      "epoch: 05, loss: -0.71532\n",
      "epoch: 06, loss: -0.73563\n",
      "epoch: 07, loss: -0.75318\n",
      "epoch: 08, loss: -0.76244\n",
      "epoch: 09, loss: -0.75928\n",
      "After Unsqueezing, feature size= torch.Size([450, 1, 1, 384])\n"
     ]
    },
    {
     "name": "stderr",
     "output_type": "stream",
     "text": [
      " 79%|███████▉  | 789/1000 [4:12:02<1:10:01, 19.91s/it]"
     ]
    },
    {
     "name": "stdout",
     "output_type": "stream",
     "text": [
      "eigenvalues shape torch.Size([5]) eigenvectors shape torch.Size([5, 450])\n",
      "789 /home/phdcs2/Hard_Disk/Datasets/Deep-Spectral-Segmentation/data/object-segmentation/ECSSD/features/dino_vits16/0790.pth\n",
      "dict_keys(['k', 'indices', 'file', 'id', 'model_name', 'patch_size', 'shape'])\n",
      "0790\n",
      "Starting Training\n",
      "epoch: 00, loss: -0.56542\n",
      "epoch: 01, loss: -0.69458\n",
      "epoch: 02, loss: -0.72312\n",
      "epoch: 03, loss: -0.73298\n",
      "epoch: 04, loss: -0.73361\n",
      "epoch: 05, loss: -0.73976\n",
      "epoch: 06, loss: -0.75925\n",
      "epoch: 07, loss: -0.75601\n",
      "epoch: 08, loss: -0.77223\n",
      "epoch: 09, loss: -0.78231\n",
      "After Unsqueezing, feature size= torch.Size([525, 1, 1, 384])\n"
     ]
    },
    {
     "name": "stderr",
     "output_type": "stream",
     "text": [
      " 79%|███████▉  | 790/1000 [4:12:25<1:13:10, 20.91s/it]"
     ]
    },
    {
     "name": "stdout",
     "output_type": "stream",
     "text": [
      "eigenvalues shape torch.Size([5]) eigenvectors shape torch.Size([5, 525])\n",
      "790 /home/phdcs2/Hard_Disk/Datasets/Deep-Spectral-Segmentation/data/object-segmentation/ECSSD/features/dino_vits16/0791.pth\n",
      "dict_keys(['k', 'indices', 'file', 'id', 'model_name', 'patch_size', 'shape'])\n",
      "0791\n",
      "Starting Training\n",
      "epoch: 00, loss: -0.48036\n",
      "epoch: 01, loss: -0.62544\n",
      "epoch: 02, loss: -0.64920\n",
      "epoch: 03, loss: -0.66520\n",
      "epoch: 04, loss: -0.67579\n",
      "epoch: 05, loss: -0.67265\n",
      "epoch: 06, loss: -0.67234\n",
      "epoch: 07, loss: -0.68342\n",
      "epoch: 08, loss: -0.67122\n",
      "epoch: 09, loss: -0.66506\n",
      "After Unsqueezing, feature size= torch.Size([450, 1, 1, 384])\n"
     ]
    },
    {
     "name": "stderr",
     "output_type": "stream",
     "text": [
      " 79%|███████▉  | 791/1000 [4:12:45<1:11:55, 20.65s/it]"
     ]
    },
    {
     "name": "stdout",
     "output_type": "stream",
     "text": [
      "eigenvalues shape torch.Size([5]) eigenvectors shape torch.Size([5, 450])\n",
      "791 /home/phdcs2/Hard_Disk/Datasets/Deep-Spectral-Segmentation/data/object-segmentation/ECSSD/features/dino_vits16/0792.pth\n",
      "dict_keys(['k', 'indices', 'file', 'id', 'model_name', 'patch_size', 'shape'])\n",
      "0792\n",
      "Starting Training\n",
      "epoch: 00, loss: -0.51183\n",
      "epoch: 01, loss: -0.67151\n",
      "epoch: 02, loss: -0.69036\n",
      "epoch: 03, loss: -0.68700\n",
      "epoch: 04, loss: -0.70386\n",
      "epoch: 05, loss: -0.71736\n",
      "epoch: 06, loss: -0.72660\n",
      "epoch: 07, loss: -0.72831\n",
      "epoch: 08, loss: -0.73805\n",
      "epoch: 09, loss: -0.73290\n",
      "After Unsqueezing, feature size= torch.Size([450, 1, 1, 384])\n"
     ]
    },
    {
     "name": "stderr",
     "output_type": "stream",
     "text": [
      " 79%|███████▉  | 792/1000 [4:13:05<1:10:39, 20.38s/it]"
     ]
    },
    {
     "name": "stdout",
     "output_type": "stream",
     "text": [
      "eigenvalues shape torch.Size([5]) eigenvectors shape torch.Size([5, 450])\n",
      "792 /home/phdcs2/Hard_Disk/Datasets/Deep-Spectral-Segmentation/data/object-segmentation/ECSSD/features/dino_vits16/0793.pth\n",
      "dict_keys(['k', 'indices', 'file', 'id', 'model_name', 'patch_size', 'shape'])\n",
      "0793\n",
      "Starting Training\n",
      "epoch: 00, loss: -0.41370\n",
      "epoch: 01, loss: -0.56414\n",
      "epoch: 02, loss: -0.57934\n",
      "epoch: 03, loss: -0.58446\n",
      "epoch: 04, loss: -0.59736\n",
      "epoch: 05, loss: -0.58674\n",
      "epoch: 06, loss: -0.58173\n",
      "epoch: 07, loss: -0.58100\n",
      "epoch: 08, loss: -0.59237\n",
      "epoch: 09, loss: -0.61873\n",
      "After Unsqueezing, feature size= torch.Size([400, 1, 1, 384])\n"
     ]
    },
    {
     "name": "stderr",
     "output_type": "stream",
     "text": [
      " 79%|███████▉  | 793/1000 [4:13:21<1:05:37, 19.02s/it]"
     ]
    },
    {
     "name": "stdout",
     "output_type": "stream",
     "text": [
      "eigenvalues shape torch.Size([5]) eigenvectors shape torch.Size([5, 400])\n",
      "793 /home/phdcs2/Hard_Disk/Datasets/Deep-Spectral-Segmentation/data/object-segmentation/ECSSD/features/dino_vits16/0794.pth\n",
      "dict_keys(['k', 'indices', 'file', 'id', 'model_name', 'patch_size', 'shape'])\n",
      "0794\n",
      "Starting Training\n",
      "epoch: 00, loss: -0.42757\n",
      "epoch: 01, loss: -0.57586\n",
      "epoch: 02, loss: -0.60047\n",
      "epoch: 03, loss: -0.62039\n",
      "epoch: 04, loss: -0.63599\n",
      "epoch: 05, loss: -0.63752\n",
      "epoch: 06, loss: -0.63082\n",
      "epoch: 07, loss: -0.65639\n",
      "epoch: 08, loss: -0.67033\n",
      "epoch: 09, loss: -0.67435\n",
      "After Unsqueezing, feature size= torch.Size([400, 1, 1, 384])\n"
     ]
    },
    {
     "name": "stderr",
     "output_type": "stream",
     "text": [
      " 79%|███████▉  | 794/1000 [4:13:37<1:02:15, 18.13s/it]"
     ]
    },
    {
     "name": "stdout",
     "output_type": "stream",
     "text": [
      "eigenvalues shape torch.Size([5]) eigenvectors shape torch.Size([5, 400])\n",
      "794 /home/phdcs2/Hard_Disk/Datasets/Deep-Spectral-Segmentation/data/object-segmentation/ECSSD/features/dino_vits16/0795.pth\n",
      "dict_keys(['k', 'indices', 'file', 'id', 'model_name', 'patch_size', 'shape'])\n",
      "0795\n",
      "Starting Training\n",
      "epoch: 00, loss: -0.43790\n",
      "epoch: 01, loss: -0.58585\n",
      "epoch: 02, loss: -0.59979\n",
      "epoch: 03, loss: -0.61288\n",
      "epoch: 04, loss: -0.62351\n",
      "epoch: 05, loss: -0.62849\n",
      "epoch: 06, loss: -0.64370\n",
      "epoch: 07, loss: -0.63180\n",
      "epoch: 08, loss: -0.65732\n",
      "epoch: 09, loss: -0.66444\n",
      "After Unsqueezing, feature size= torch.Size([375, 1, 1, 384])\n"
     ]
    },
    {
     "name": "stderr",
     "output_type": "stream",
     "text": [
      " 80%|███████▉  | 795/1000 [4:13:54<1:00:59, 17.85s/it]"
     ]
    },
    {
     "name": "stdout",
     "output_type": "stream",
     "text": [
      "eigenvalues shape torch.Size([5]) eigenvectors shape torch.Size([5, 375])\n",
      "795 /home/phdcs2/Hard_Disk/Datasets/Deep-Spectral-Segmentation/data/object-segmentation/ECSSD/features/dino_vits16/0796.pth\n",
      "dict_keys(['k', 'indices', 'file', 'id', 'model_name', 'patch_size', 'shape'])\n",
      "0796\n",
      "Starting Training\n",
      "epoch: 00, loss: -0.42380\n",
      "epoch: 01, loss: -0.56146\n",
      "epoch: 02, loss: -0.59766\n",
      "epoch: 03, loss: -0.61510\n",
      "epoch: 04, loss: -0.61749\n",
      "epoch: 05, loss: -0.62276\n",
      "epoch: 06, loss: -0.65159\n",
      "epoch: 07, loss: -0.66575\n",
      "epoch: 08, loss: -0.66851\n",
      "epoch: 09, loss: -0.68038\n",
      "After Unsqueezing, feature size= torch.Size([500, 1, 1, 384])\n"
     ]
    },
    {
     "name": "stderr",
     "output_type": "stream",
     "text": [
      " 80%|███████▉  | 796/1000 [4:14:18<1:06:39, 19.61s/it]"
     ]
    },
    {
     "name": "stdout",
     "output_type": "stream",
     "text": [
      "eigenvalues shape torch.Size([5]) eigenvectors shape torch.Size([5, 500])\n",
      "796 /home/phdcs2/Hard_Disk/Datasets/Deep-Spectral-Segmentation/data/object-segmentation/ECSSD/features/dino_vits16/0797.pth\n",
      "dict_keys(['k', 'indices', 'file', 'id', 'model_name', 'patch_size', 'shape'])\n",
      "0797\n",
      "Starting Training\n",
      "epoch: 00, loss: -0.61712\n",
      "epoch: 01, loss: -0.76475\n",
      "epoch: 02, loss: -0.77640\n",
      "epoch: 03, loss: -0.78692\n",
      "epoch: 04, loss: -0.79560\n",
      "epoch: 05, loss: -0.78624\n",
      "epoch: 06, loss: -0.78747\n",
      "epoch: 07, loss: -0.78748\n",
      "epoch: 08, loss: -0.79276\n",
      "epoch: 09, loss: -0.79076\n",
      "After Unsqueezing, feature size= torch.Size([450, 1, 1, 384])\n"
     ]
    },
    {
     "name": "stderr",
     "output_type": "stream",
     "text": [
      " 80%|███████▉  | 797/1000 [4:14:37<1:06:06, 19.54s/it]"
     ]
    },
    {
     "name": "stdout",
     "output_type": "stream",
     "text": [
      "eigenvalues shape torch.Size([5]) eigenvectors shape torch.Size([5, 450])\n",
      "797 /home/phdcs2/Hard_Disk/Datasets/Deep-Spectral-Segmentation/data/object-segmentation/ECSSD/features/dino_vits16/0798.pth\n",
      "dict_keys(['k', 'indices', 'file', 'id', 'model_name', 'patch_size', 'shape'])\n",
      "0798\n",
      "Starting Training\n",
      "epoch: 00, loss: -0.46669\n",
      "epoch: 01, loss: -0.63188\n",
      "epoch: 02, loss: -0.65736\n",
      "epoch: 03, loss: -0.65965\n",
      "epoch: 04, loss: -0.66877\n",
      "epoch: 05, loss: -0.67773\n",
      "epoch: 06, loss: -0.67965\n",
      "epoch: 07, loss: -0.69210\n",
      "epoch: 08, loss: -0.69808\n",
      "epoch: 09, loss: -0.70957\n",
      "After Unsqueezing, feature size= torch.Size([350, 1, 1, 384])\n"
     ]
    },
    {
     "name": "stderr",
     "output_type": "stream",
     "text": [
      " 80%|███████▉  | 798/1000 [4:14:53<1:01:20, 18.22s/it]"
     ]
    },
    {
     "name": "stdout",
     "output_type": "stream",
     "text": [
      "eigenvalues shape torch.Size([5]) eigenvectors shape torch.Size([5, 350])\n",
      "798 /home/phdcs2/Hard_Disk/Datasets/Deep-Spectral-Segmentation/data/object-segmentation/ECSSD/features/dino_vits16/0799.pth\n",
      "dict_keys(['k', 'indices', 'file', 'id', 'model_name', 'patch_size', 'shape'])\n",
      "0799\n",
      "Starting Training\n",
      "epoch: 00, loss: -0.49865\n",
      "epoch: 01, loss: -0.65461\n",
      "epoch: 02, loss: -0.66130\n",
      "epoch: 03, loss: -0.66435\n",
      "epoch: 04, loss: -0.67614\n",
      "epoch: 05, loss: -0.66689\n",
      "epoch: 06, loss: -0.67576\n",
      "epoch: 07, loss: -0.67746\n",
      "epoch: 08, loss: -0.68055\n",
      "epoch: 09, loss: -0.70579\n",
      "After Unsqueezing, feature size= torch.Size([400, 1, 1, 384])\n"
     ]
    },
    {
     "name": "stderr",
     "output_type": "stream",
     "text": [
      " 80%|███████▉  | 799/1000 [4:15:10<1:00:11, 17.97s/it]"
     ]
    },
    {
     "name": "stdout",
     "output_type": "stream",
     "text": [
      "eigenvalues shape torch.Size([5]) eigenvectors shape torch.Size([5, 400])\n",
      "799 /home/phdcs2/Hard_Disk/Datasets/Deep-Spectral-Segmentation/data/object-segmentation/ECSSD/features/dino_vits16/0800.pth\n",
      "dict_keys(['k', 'indices', 'file', 'id', 'model_name', 'patch_size', 'shape'])\n",
      "0800\n",
      "Starting Training\n",
      "epoch: 00, loss: -0.55266\n",
      "epoch: 01, loss: -0.73043\n",
      "epoch: 02, loss: -0.74754\n",
      "epoch: 03, loss: -0.74384\n",
      "epoch: 04, loss: -0.75798\n",
      "epoch: 05, loss: -0.76722\n",
      "epoch: 06, loss: -0.77105\n",
      "epoch: 07, loss: -0.78133\n",
      "epoch: 08, loss: -0.77946\n",
      "epoch: 09, loss: -0.78682\n",
      "After Unsqueezing, feature size= torch.Size([350, 1, 1, 384])\n"
     ]
    },
    {
     "name": "stderr",
     "output_type": "stream",
     "text": [
      " 80%|████████  | 800/1000 [4:15:28<59:41, 17.91s/it]  "
     ]
    },
    {
     "name": "stdout",
     "output_type": "stream",
     "text": [
      "eigenvalues shape torch.Size([5]) eigenvectors shape torch.Size([5, 350])\n",
      "800 /home/phdcs2/Hard_Disk/Datasets/Deep-Spectral-Segmentation/data/object-segmentation/ECSSD/features/dino_vits16/0801.pth\n",
      "dict_keys(['k', 'indices', 'file', 'id', 'model_name', 'patch_size', 'shape'])\n",
      "0801\n",
      "Starting Training\n",
      "epoch: 00, loss: -0.50620\n",
      "epoch: 01, loss: -0.66471\n",
      "epoch: 02, loss: -0.67843\n",
      "epoch: 03, loss: -0.69875\n",
      "epoch: 04, loss: -0.69651\n",
      "epoch: 05, loss: -0.70850\n",
      "epoch: 06, loss: -0.72302\n",
      "epoch: 07, loss: -0.70998\n",
      "epoch: 08, loss: -0.68596\n",
      "epoch: 09, loss: -0.69828\n",
      "After Unsqueezing, feature size= torch.Size([375, 1, 1, 384])\n"
     ]
    },
    {
     "name": "stderr",
     "output_type": "stream",
     "text": [
      " 80%|████████  | 801/1000 [4:15:46<59:52, 18.05s/it]"
     ]
    },
    {
     "name": "stdout",
     "output_type": "stream",
     "text": [
      "eigenvalues shape torch.Size([5]) eigenvectors shape torch.Size([5, 375])\n",
      "801 /home/phdcs2/Hard_Disk/Datasets/Deep-Spectral-Segmentation/data/object-segmentation/ECSSD/features/dino_vits16/0802.pth\n",
      "dict_keys(['k', 'indices', 'file', 'id', 'model_name', 'patch_size', 'shape'])\n",
      "0802\n",
      "Starting Training\n",
      "epoch: 00, loss: -0.60838\n",
      "epoch: 01, loss: -0.75520\n",
      "epoch: 02, loss: -0.76469\n",
      "epoch: 03, loss: -0.76837\n",
      "epoch: 04, loss: -0.79651\n",
      "epoch: 05, loss: -0.79282\n",
      "epoch: 06, loss: -0.79150\n",
      "epoch: 07, loss: -0.80183\n",
      "epoch: 08, loss: -0.80293\n",
      "epoch: 09, loss: -0.81948\n",
      "After Unsqueezing, feature size= torch.Size([625, 1, 1, 384])\n"
     ]
    },
    {
     "name": "stderr",
     "output_type": "stream",
     "text": [
      " 80%|████████  | 802/1000 [4:16:15<1:09:59, 21.21s/it]"
     ]
    },
    {
     "name": "stdout",
     "output_type": "stream",
     "text": [
      "eigenvalues shape torch.Size([5]) eigenvectors shape torch.Size([5, 625])\n",
      "802 /home/phdcs2/Hard_Disk/Datasets/Deep-Spectral-Segmentation/data/object-segmentation/ECSSD/features/dino_vits16/0803.pth\n",
      "dict_keys(['k', 'indices', 'file', 'id', 'model_name', 'patch_size', 'shape'])\n",
      "0803\n",
      "Starting Training\n",
      "epoch: 00, loss: -0.48427\n",
      "epoch: 01, loss: -0.61497\n",
      "epoch: 02, loss: -0.62682\n",
      "epoch: 03, loss: -0.62704\n",
      "epoch: 04, loss: -0.64441\n",
      "epoch: 05, loss: -0.65275\n",
      "epoch: 06, loss: -0.64813\n",
      "epoch: 07, loss: -0.64951\n",
      "epoch: 08, loss: -0.65333\n",
      "epoch: 09, loss: -0.65205\n",
      "After Unsqueezing, feature size= torch.Size([500, 1, 1, 384])\n"
     ]
    },
    {
     "name": "stderr",
     "output_type": "stream",
     "text": [
      " 80%|████████  | 803/1000 [4:16:37<1:10:22, 21.43s/it]"
     ]
    },
    {
     "name": "stdout",
     "output_type": "stream",
     "text": [
      "eigenvalues shape torch.Size([5]) eigenvectors shape torch.Size([5, 500])\n",
      "803 /home/phdcs2/Hard_Disk/Datasets/Deep-Spectral-Segmentation/data/object-segmentation/ECSSD/features/dino_vits16/0804.pth\n",
      "dict_keys(['k', 'indices', 'file', 'id', 'model_name', 'patch_size', 'shape'])\n",
      "0804\n",
      "Starting Training\n",
      "epoch: 00, loss: -0.48047\n",
      "epoch: 01, loss: -0.61488\n",
      "epoch: 02, loss: -0.65136\n",
      "epoch: 03, loss: -0.66167\n",
      "epoch: 04, loss: -0.67181\n",
      "epoch: 05, loss: -0.68089\n",
      "epoch: 06, loss: -0.68442\n",
      "epoch: 07, loss: -0.68847\n",
      "epoch: 08, loss: -0.68835\n",
      "epoch: 09, loss: -0.69226\n",
      "After Unsqueezing, feature size= torch.Size([500, 1, 1, 384])\n"
     ]
    },
    {
     "name": "stderr",
     "output_type": "stream",
     "text": [
      " 80%|████████  | 804/1000 [4:16:55<1:07:15, 20.59s/it]"
     ]
    },
    {
     "name": "stdout",
     "output_type": "stream",
     "text": [
      "eigenvalues shape torch.Size([5]) eigenvectors shape torch.Size([5, 500])\n",
      "804 /home/phdcs2/Hard_Disk/Datasets/Deep-Spectral-Segmentation/data/object-segmentation/ECSSD/features/dino_vits16/0805.pth\n",
      "dict_keys(['k', 'indices', 'file', 'id', 'model_name', 'patch_size', 'shape'])\n",
      "0805\n",
      "Starting Training\n",
      "epoch: 00, loss: -0.48981\n",
      "epoch: 01, loss: -0.68129\n",
      "epoch: 02, loss: -0.71359\n",
      "epoch: 03, loss: -0.70747\n",
      "epoch: 04, loss: -0.72111\n",
      "epoch: 05, loss: -0.72654\n",
      "epoch: 06, loss: -0.72814\n",
      "epoch: 07, loss: -0.74736\n",
      "epoch: 08, loss: -0.74642\n",
      "epoch: 09, loss: -0.75081\n",
      "After Unsqueezing, feature size= torch.Size([400, 1, 1, 384])\n"
     ]
    },
    {
     "name": "stderr",
     "output_type": "stream",
     "text": [
      " 80%|████████  | 805/1000 [4:17:12<1:03:00, 19.38s/it]"
     ]
    },
    {
     "name": "stdout",
     "output_type": "stream",
     "text": [
      "eigenvalues shape torch.Size([5]) eigenvectors shape torch.Size([5, 400])\n",
      "805 /home/phdcs2/Hard_Disk/Datasets/Deep-Spectral-Segmentation/data/object-segmentation/ECSSD/features/dino_vits16/0806.pth\n",
      "dict_keys(['k', 'indices', 'file', 'id', 'model_name', 'patch_size', 'shape'])\n",
      "0806\n",
      "Starting Training\n",
      "epoch: 00, loss: -0.50808\n",
      "epoch: 01, loss: -0.67083\n",
      "epoch: 02, loss: -0.69999\n",
      "epoch: 03, loss: -0.72578\n",
      "epoch: 04, loss: -0.73209\n",
      "epoch: 05, loss: -0.74701\n",
      "epoch: 06, loss: -0.73897\n",
      "epoch: 07, loss: -0.74251\n",
      "epoch: 08, loss: -0.73498\n",
      "epoch: 09, loss: -0.72511\n",
      "After Unsqueezing, feature size= torch.Size([425, 1, 1, 384])\n"
     ]
    },
    {
     "name": "stderr",
     "output_type": "stream",
     "text": [
      " 81%|████████  | 806/1000 [4:17:30<1:01:42, 19.09s/it]"
     ]
    },
    {
     "name": "stdout",
     "output_type": "stream",
     "text": [
      "eigenvalues shape torch.Size([5]) eigenvectors shape torch.Size([5, 425])\n",
      "806 /home/phdcs2/Hard_Disk/Datasets/Deep-Spectral-Segmentation/data/object-segmentation/ECSSD/features/dino_vits16/0807.pth\n",
      "dict_keys(['k', 'indices', 'file', 'id', 'model_name', 'patch_size', 'shape'])\n",
      "0807\n",
      "Starting Training\n",
      "epoch: 00, loss: -0.55159\n",
      "epoch: 01, loss: -0.69651\n",
      "epoch: 02, loss: -0.72159\n",
      "epoch: 03, loss: -0.71615\n",
      "epoch: 04, loss: -0.72229\n",
      "epoch: 05, loss: -0.72817\n",
      "epoch: 06, loss: -0.72879\n",
      "epoch: 07, loss: -0.73307\n",
      "epoch: 08, loss: -0.74066\n",
      "epoch: 09, loss: -0.73378\n",
      "After Unsqueezing, feature size= torch.Size([450, 1, 1, 384])\n"
     ]
    },
    {
     "name": "stderr",
     "output_type": "stream",
     "text": [
      " 81%|████████  | 807/1000 [4:17:50<1:01:44, 19.19s/it]"
     ]
    },
    {
     "name": "stdout",
     "output_type": "stream",
     "text": [
      "eigenvalues shape torch.Size([5]) eigenvectors shape torch.Size([5, 450])\n",
      "807 /home/phdcs2/Hard_Disk/Datasets/Deep-Spectral-Segmentation/data/object-segmentation/ECSSD/features/dino_vits16/0808.pth\n",
      "dict_keys(['k', 'indices', 'file', 'id', 'model_name', 'patch_size', 'shape'])\n",
      "0808\n",
      "Starting Training\n",
      "epoch: 00, loss: -0.55493\n",
      "epoch: 01, loss: -0.71648\n",
      "epoch: 02, loss: -0.74905\n",
      "epoch: 03, loss: -0.74994\n",
      "epoch: 04, loss: -0.76028\n",
      "epoch: 05, loss: -0.78416\n",
      "epoch: 06, loss: -0.78811\n",
      "epoch: 07, loss: -0.77163\n",
      "epoch: 08, loss: -0.78530\n",
      "epoch: 09, loss: -0.79167\n",
      "After Unsqueezing, feature size= torch.Size([450, 1, 1, 384])\n"
     ]
    },
    {
     "name": "stderr",
     "output_type": "stream",
     "text": [
      " 81%|████████  | 808/1000 [4:18:08<1:00:58, 19.05s/it]"
     ]
    },
    {
     "name": "stdout",
     "output_type": "stream",
     "text": [
      "eigenvalues shape torch.Size([5]) eigenvectors shape torch.Size([5, 450])\n",
      "808 /home/phdcs2/Hard_Disk/Datasets/Deep-Spectral-Segmentation/data/object-segmentation/ECSSD/features/dino_vits16/0809.pth\n",
      "dict_keys(['k', 'indices', 'file', 'id', 'model_name', 'patch_size', 'shape'])\n",
      "0809\n",
      "Starting Training\n",
      "epoch: 00, loss: -0.51814\n",
      "epoch: 01, loss: -0.64727\n",
      "epoch: 02, loss: -0.68370\n",
      "epoch: 03, loss: -0.69655\n",
      "epoch: 04, loss: -0.69635\n",
      "epoch: 05, loss: -0.70321\n",
      "epoch: 06, loss: -0.70253\n",
      "epoch: 07, loss: -0.70397\n",
      "epoch: 08, loss: -0.71875\n",
      "epoch: 09, loss: -0.73171\n",
      "After Unsqueezing, feature size= torch.Size([500, 1, 1, 384])\n"
     ]
    },
    {
     "name": "stderr",
     "output_type": "stream",
     "text": [
      " 81%|████████  | 809/1000 [4:18:30<1:02:42, 19.70s/it]"
     ]
    },
    {
     "name": "stdout",
     "output_type": "stream",
     "text": [
      "eigenvalues shape torch.Size([5]) eigenvectors shape torch.Size([5, 500])\n",
      "809 /home/phdcs2/Hard_Disk/Datasets/Deep-Spectral-Segmentation/data/object-segmentation/ECSSD/features/dino_vits16/0810.pth\n",
      "dict_keys(['k', 'indices', 'file', 'id', 'model_name', 'patch_size', 'shape'])\n",
      "0810\n",
      "Starting Training\n",
      "epoch: 00, loss: -0.50484\n",
      "epoch: 01, loss: -0.66572\n",
      "epoch: 02, loss: -0.68353\n",
      "epoch: 03, loss: -0.68257\n",
      "epoch: 04, loss: -0.68258\n",
      "epoch: 05, loss: -0.68718\n",
      "epoch: 06, loss: -0.68466\n",
      "epoch: 07, loss: -0.69307\n",
      "epoch: 08, loss: -0.70107\n",
      "epoch: 09, loss: -0.72472\n",
      "After Unsqueezing, feature size= torch.Size([450, 1, 1, 384])\n"
     ]
    },
    {
     "name": "stderr",
     "output_type": "stream",
     "text": [
      " 81%|████████  | 810/1000 [4:18:49<1:02:06, 19.61s/it]"
     ]
    },
    {
     "name": "stdout",
     "output_type": "stream",
     "text": [
      "eigenvalues shape torch.Size([5]) eigenvectors shape torch.Size([5, 450])\n",
      "810 /home/phdcs2/Hard_Disk/Datasets/Deep-Spectral-Segmentation/data/object-segmentation/ECSSD/features/dino_vits16/0811.pth\n",
      "dict_keys(['k', 'indices', 'file', 'id', 'model_name', 'patch_size', 'shape'])\n",
      "0811\n",
      "Starting Training\n",
      "epoch: 00, loss: -0.56513\n",
      "epoch: 01, loss: -0.71096\n",
      "epoch: 02, loss: -0.72815\n",
      "epoch: 03, loss: -0.73342\n",
      "epoch: 04, loss: -0.75529\n",
      "epoch: 05, loss: -0.76415\n",
      "epoch: 06, loss: -0.76353\n",
      "epoch: 07, loss: -0.76043\n",
      "epoch: 08, loss: -0.77410\n",
      "epoch: 09, loss: -0.77175\n",
      "After Unsqueezing, feature size= torch.Size([400, 1, 1, 384])\n"
     ]
    },
    {
     "name": "stderr",
     "output_type": "stream",
     "text": [
      " 81%|████████  | 811/1000 [4:19:06<59:24, 18.86s/it]  "
     ]
    },
    {
     "name": "stdout",
     "output_type": "stream",
     "text": [
      "eigenvalues shape torch.Size([5]) eigenvectors shape torch.Size([5, 400])\n",
      "811 /home/phdcs2/Hard_Disk/Datasets/Deep-Spectral-Segmentation/data/object-segmentation/ECSSD/features/dino_vits16/0812.pth\n",
      "dict_keys(['k', 'indices', 'file', 'id', 'model_name', 'patch_size', 'shape'])\n",
      "0812\n",
      "Starting Training\n",
      "epoch: 00, loss: -0.49644\n",
      "epoch: 01, loss: -0.65726\n",
      "epoch: 02, loss: -0.68437\n",
      "epoch: 03, loss: -0.68829\n",
      "epoch: 04, loss: -0.70533\n",
      "epoch: 05, loss: -0.70660\n",
      "epoch: 06, loss: -0.72276\n",
      "epoch: 07, loss: -0.72671\n",
      "epoch: 08, loss: -0.72712\n",
      "epoch: 09, loss: -0.73947\n",
      "After Unsqueezing, feature size= torch.Size([400, 1, 1, 384])\n"
     ]
    },
    {
     "name": "stderr",
     "output_type": "stream",
     "text": [
      " 81%|████████  | 812/1000 [4:19:23<56:48, 18.13s/it]"
     ]
    },
    {
     "name": "stdout",
     "output_type": "stream",
     "text": [
      "eigenvalues shape torch.Size([5]) eigenvectors shape torch.Size([5, 400])\n",
      "812 /home/phdcs2/Hard_Disk/Datasets/Deep-Spectral-Segmentation/data/object-segmentation/ECSSD/features/dino_vits16/0813.pth\n",
      "dict_keys(['k', 'indices', 'file', 'id', 'model_name', 'patch_size', 'shape'])\n",
      "0813\n",
      "Starting Training\n",
      "epoch: 00, loss: -0.54710\n",
      "epoch: 01, loss: -0.71583\n",
      "epoch: 02, loss: -0.73590\n",
      "epoch: 03, loss: -0.74978\n",
      "epoch: 04, loss: -0.75080\n",
      "epoch: 05, loss: -0.75360\n",
      "epoch: 06, loss: -0.76074\n",
      "epoch: 07, loss: -0.76204\n",
      "epoch: 08, loss: -0.75773\n",
      "epoch: 09, loss: -0.76295\n",
      "After Unsqueezing, feature size= torch.Size([400, 1, 1, 384])\n"
     ]
    },
    {
     "name": "stderr",
     "output_type": "stream",
     "text": [
      " 81%|████████▏ | 813/1000 [4:19:40<55:35, 17.84s/it]"
     ]
    },
    {
     "name": "stdout",
     "output_type": "stream",
     "text": [
      "eigenvalues shape torch.Size([5]) eigenvectors shape torch.Size([5, 400])\n",
      "813 /home/phdcs2/Hard_Disk/Datasets/Deep-Spectral-Segmentation/data/object-segmentation/ECSSD/features/dino_vits16/0814.pth\n",
      "dict_keys(['k', 'indices', 'file', 'id', 'model_name', 'patch_size', 'shape'])\n",
      "0814\n",
      "Starting Training\n",
      "epoch: 00, loss: -0.48990\n",
      "epoch: 01, loss: -0.63980\n",
      "epoch: 02, loss: -0.64564\n",
      "epoch: 03, loss: -0.64402\n",
      "epoch: 04, loss: -0.66299\n",
      "epoch: 05, loss: -0.66679\n",
      "epoch: 06, loss: -0.67767\n",
      "epoch: 07, loss: -0.68261\n",
      "epoch: 08, loss: -0.69391\n",
      "epoch: 09, loss: -0.69285\n",
      "After Unsqueezing, feature size= torch.Size([400, 1, 1, 384])\n"
     ]
    },
    {
     "name": "stderr",
     "output_type": "stream",
     "text": [
      " 81%|████████▏ | 814/1000 [4:19:58<56:05, 18.09s/it]"
     ]
    },
    {
     "name": "stdout",
     "output_type": "stream",
     "text": [
      "eigenvalues shape torch.Size([5]) eigenvectors shape torch.Size([5, 400])\n",
      "814 /home/phdcs2/Hard_Disk/Datasets/Deep-Spectral-Segmentation/data/object-segmentation/ECSSD/features/dino_vits16/0815.pth\n",
      "dict_keys(['k', 'indices', 'file', 'id', 'model_name', 'patch_size', 'shape'])\n",
      "0815\n",
      "Starting Training\n",
      "epoch: 00, loss: -0.42620\n",
      "epoch: 01, loss: -0.55885\n",
      "epoch: 02, loss: -0.58000\n",
      "epoch: 03, loss: -0.58960\n",
      "epoch: 04, loss: -0.60638\n",
      "epoch: 05, loss: -0.61557\n",
      "epoch: 06, loss: -0.61207\n",
      "epoch: 07, loss: -0.60590\n",
      "epoch: 08, loss: -0.59964\n",
      "epoch: 09, loss: -0.60323\n",
      "After Unsqueezing, feature size= torch.Size([400, 1, 1, 384])\n"
     ]
    },
    {
     "name": "stderr",
     "output_type": "stream",
     "text": [
      " 82%|████████▏ | 815/1000 [4:20:14<53:16, 17.28s/it]"
     ]
    },
    {
     "name": "stdout",
     "output_type": "stream",
     "text": [
      "eigenvalues shape torch.Size([5]) eigenvectors shape torch.Size([5, 400])\n",
      "815 /home/phdcs2/Hard_Disk/Datasets/Deep-Spectral-Segmentation/data/object-segmentation/ECSSD/features/dino_vits16/0816.pth\n",
      "dict_keys(['k', 'indices', 'file', 'id', 'model_name', 'patch_size', 'shape'])\n",
      "0816\n",
      "Starting Training\n",
      "epoch: 00, loss: -0.46177\n",
      "epoch: 01, loss: -0.59199\n",
      "epoch: 02, loss: -0.62885\n",
      "epoch: 03, loss: -0.64663\n",
      "epoch: 04, loss: -0.65925\n",
      "epoch: 05, loss: -0.67579\n",
      "epoch: 06, loss: -0.66900\n",
      "epoch: 07, loss: -0.64949\n",
      "epoch: 08, loss: -0.64954\n",
      "epoch: 09, loss: -0.67671\n",
      "After Unsqueezing, feature size= torch.Size([450, 1, 1, 384])\n"
     ]
    },
    {
     "name": "stderr",
     "output_type": "stream",
     "text": [
      " 82%|████████▏ | 816/1000 [4:20:33<54:49, 17.88s/it]"
     ]
    },
    {
     "name": "stdout",
     "output_type": "stream",
     "text": [
      "eigenvalues shape torch.Size([5]) eigenvectors shape torch.Size([5, 450])\n",
      "816 /home/phdcs2/Hard_Disk/Datasets/Deep-Spectral-Segmentation/data/object-segmentation/ECSSD/features/dino_vits16/0817.pth\n",
      "dict_keys(['k', 'indices', 'file', 'id', 'model_name', 'patch_size', 'shape'])\n",
      "0817\n",
      "Starting Training\n",
      "epoch: 00, loss: -0.45239\n",
      "epoch: 01, loss: -0.57703\n",
      "epoch: 02, loss: -0.59472\n",
      "epoch: 03, loss: -0.60992\n",
      "epoch: 04, loss: -0.61911\n",
      "epoch: 05, loss: -0.63245\n",
      "epoch: 06, loss: -0.64107\n",
      "epoch: 07, loss: -0.64685\n",
      "epoch: 08, loss: -0.64181\n",
      "epoch: 09, loss: -0.66480\n",
      "After Unsqueezing, feature size= torch.Size([450, 1, 1, 384])\n"
     ]
    },
    {
     "name": "stderr",
     "output_type": "stream",
     "text": [
      " 82%|████████▏ | 817/1000 [4:20:53<56:33, 18.54s/it]"
     ]
    },
    {
     "name": "stdout",
     "output_type": "stream",
     "text": [
      "eigenvalues shape torch.Size([5]) eigenvectors shape torch.Size([5, 450])\n",
      "817 /home/phdcs2/Hard_Disk/Datasets/Deep-Spectral-Segmentation/data/object-segmentation/ECSSD/features/dino_vits16/0818.pth\n",
      "dict_keys(['k', 'indices', 'file', 'id', 'model_name', 'patch_size', 'shape'])\n",
      "0818\n",
      "Starting Training\n"
     ]
    }
   ],
   "source": [
    "utils.make_output_dir(output_dir)\n",
    "feat_list=[]\n",
    "inputs = list(enumerate(sorted(Path(features_dir).iterdir())))\n",
    "for inp in tqdm(inputs):\n",
    "    index, features_file = inp\n",
    "    print(index, features_file)\n",
    "     # Load\n",
    "    data_dict = torch.load(features_file, map_location='cpu')\n",
    "    print(data_dict.keys())   #['k', 'indices', 'file', 'id', 'model_name', 'patch_size', 'shape']\n",
    "    # print(\"shape=\", data_dict['shape'], \"k shape\", data_dict['k'].shape, \"patch_size=\", data_dict['patch_size'])\n",
    "    image_id = data_dict['file'][:-4]\n",
    "    print(image_id)\n",
    "    # Load\n",
    "    output_file = str(Path(output_dir) / f'{image_id}.pth')\n",
    "    if Path(output_file).is_file():\n",
    "        print(f'Skipping existing file {str(output_file)}')\n",
    "        # break\n",
    "        # return  # skip because already generated\n",
    "\n",
    "    # Load affinity matrix\n",
    "    feats = data_dict[which_features].squeeze().cuda()\n",
    "    # print(\"Without normalizing, Features Shape is\",feats.shape)\n",
    "    if normalize:\n",
    "        feats = F.normalize(feats, p=2, dim=-1)\n",
    "    # print(\"After normalization, Features Shape\",feats.shape)\n",
    "    # print(\"which_matrix=\", which_matrix)\n",
    "    # Eigenvectors of affinity matrix\n",
    "    if which_matrix == 'affinity_torch':\n",
    "        W = feats @ feats.T\n",
    "        # W_feat=contrastive_affinity(feats, feats.T)\n",
    "        # print(\"W shape=\", W.shape)\n",
    "        if threshold_at_zero:\n",
    "            W = (W * (W > 0))\n",
    "            # print(\"W shape=\", W.shape)\n",
    "        eigenvalues, eigenvectors = torch.eig(W, eigenvectors=True)\n",
    "        eigenvalues = eigenvalues.cpu()\n",
    "        eigenvectors = eigenvectors.cpu()\n",
    "        print(\"which matrix=\",which_matrix, \"eigenvalues shape\", eigenvalues.shape, \"eigenvectors shape\", eigenvectors.shape)\n",
    "\n",
    "\n",
    "    # Eigenvectors of affinity matrix with scipy\n",
    "    elif which_matrix == 'affinity_svd':\n",
    "        USV = torch.linalg.svd(feats, full_matrices=False)\n",
    "        eigenvectors = USV[0][:, :K].T.to('cpu', non_blocking=True)\n",
    "        eigenvalues = USV[1][:K].to('cpu', non_blocking=True)\n",
    "        print(\"which matrix=\",which_matrix,\"eigenvalues shape\", eigenvalues.shape, \"eigenvectors shape\", eigenvectors.shape)\n",
    "\n",
    "    # Eigenvectors of affinity matrix with scipy\n",
    "    elif which_matrix == 'affinity':\n",
    "        # print(\"Without normalizing, Features Shape is\",feats.shape)\n",
    "        W = (feats @ feats.T)\n",
    "        # W_feat=contrastive_affinity(feats, feats.T)\n",
    "        # print(\"W shape=\", W.shape)\n",
    "        if threshold_at_zero:\n",
    "            W = (W * (W > 0))\n",
    "        W = W.cpu().numpy()\n",
    "        # print(\"W shape=\", W.shape)\n",
    "        eigenvalues, eigenvectors = eigsh(W, which='LM', k=K)\n",
    "        eigenvectors = torch.flip(torch.from_numpy(eigenvectors), dims=(-1,)).T\n",
    "        print(\"which matrix=\",which_matrix, \"eigenvalues shape\", eigenvalues.shape, \"eigenvectors shape\", eigenvectors.shape)\n",
    "\n",
    "    # Eigenvectors of matting laplacian matrix\n",
    "    elif which_matrix in ['matting_laplacian', 'laplacian']:\n",
    "\n",
    "        # Get sizes\n",
    "        B, C, H, W, P, H_patch, W_patch, H_pad, W_pad = utils.get_image_sizes(data_dict)\n",
    "        if image_downsample_factor is None:\n",
    "            image_downsample_factor = P\n",
    "        H_pad_lr, W_pad_lr = H_pad // image_downsample_factor, W_pad // image_downsample_factor\n",
    "\n",
    "        # Upscale features to match the resolution\n",
    "        if (H_patch, W_patch) != (H_pad_lr, W_pad_lr):\n",
    "            feats = F.interpolate(\n",
    "                feats.T.reshape(1, -1, H_patch, W_patch),\n",
    "                size=(H_pad_lr, W_pad_lr), mode='bilinear', align_corners=False\n",
    "            ).reshape(-1, H_pad_lr * W_pad_lr).T\n",
    "\n",
    "        ### Feature affinities\n",
    "        # print(\"Without normalizing, Features Shape is\",feats.shape)\n",
    "\n",
    "        W_feat_ds = (feats @ feats.T)\n",
    "        # feat_list.append(feats)\n",
    "        feat_dataset = Feature_Dataset(feats)\n",
    "        if feats.shape[0]%2==0:\n",
    "            features_dataloader = DataLoader(feat_dataset, batch_size=batch_size, shuffle=True)\n",
    "        else:\n",
    "            features_dataloader = DataLoader(feat_dataset, batch_size=batch_size, shuffle=True, drop_last=True)\n",
    "        model_simsiam = SimSiam()\n",
    "        device = \"cuda\" if torch.cuda.is_available() else \"cpu\"\n",
    "        model_simsiam.to(device)\n",
    "        criterion = NegativeCosineSimilarity()\n",
    "        optimizer = torch.optim.SGD(model_simsiam.parameters(), lr=0.06)\n",
    "        print(\"Starting Training\")\n",
    "        for epoch in range(10):\n",
    "            total_loss = 0\n",
    "            for x0 in features_dataloader:\n",
    "            # for (x0), _, _ in features_dataloader:\n",
    "            #     print(\"Before Unsqueezing, x0 shape=\", x0.shape)\n",
    "                x0 = x0.unsqueeze(0).to(device)\n",
    "                x0 = x0.unsqueeze(1).to(device)\n",
    "                # print(\"After Unsqueezing x0 shape=\", x0.shape)\n",
    "                x1=torchvision.transforms.RandomAffine(0)(x0)\n",
    "                # print(\"After Unsqueezing x1 shape=\", x1.shape)\n",
    "                # x0 = x0.squeeze(0).to(device)\n",
    "                # print(\"batch_size=\",batch_size)\n",
    "                # x0_new = torch.tensor(x0).view(batch_size, 1, 1, 384)\n",
    "                # x0_new = torch.tensor(x0).view(batch_size, 1, 384)\n",
    "                x0_new = x0.view(batch_size, 1, 1, 384)\n",
    "                # print(\"After viewing x0 shape=\", x0_new.shape)\n",
    "                # print(\"x0.shape=\", x0.shape)\n",
    "                # x1 = x1.squeeze(0).to(device)\n",
    "                # x1 = torch.tensor(x1).view(batch_size, 1, 1,384)\n",
    "                x1_new = x1.view(batch_size, 1, 1, 384)\n",
    "                # print(\"After viewing x1 shape=\", x1_new.shape)\n",
    "                z0, p0 = model_simsiam(x0_new)\n",
    "                z1, p1 = model_simsiam(x1_new)\n",
    "                loss = 0.5 * (criterion(z0, p1) + criterion(z1, p0))\n",
    "                total_loss += loss.detach()\n",
    "                loss.backward()\n",
    "                optimizer.step()\n",
    "                optimizer.zero_grad()\n",
    "            avg_loss = total_loss / len(features_dataloader)\n",
    "            print(f\"epoch: {epoch:>02}, loss: {avg_loss:.5f}\")\n",
    "        feats=feats.unsqueeze(1).to(device)\n",
    "        feats=feats.unsqueeze(2).to(device)\n",
    "        print(\"After Unsqueezing, feature size=\", feats.shape)\n",
    "        projected_feature=model_simsiam(feats)\n",
    "        W_feat_siam=torch.matmul(projected_feature[0], projected_feature[0].t())\n",
    "        W_feat=W_feat_ds + W_feat_siam\n",
    "        # print(\"W_feat.shape=\", W_feat.shape)\n",
    "        # print(\"W_feat.shape=\", W_feat.shape)\n",
    "        # W_feat=contrastive_affinity(feats, feats.T)\n",
    "        if threshold_at_zero:\n",
    "            W_feat = (W_feat * (W_feat > 0))\n",
    "        W_feat = W_feat / W_feat.max()  # NOTE: If features are normalized, this naturally does nothing\n",
    "        # W_feat = W_feat.cpu().numpy()\n",
    "        W_feat = W_feat.detach().cpu().numpy()\n",
    "        # print(\"W_feat shape=\",W_feat.shape)\n",
    "\n",
    "        ### Color affinities\n",
    "        # If we are fusing with color affinites, then load the image and compute\n",
    "        if image_color_lambda > 0:\n",
    "\n",
    "            # Load image\n",
    "            image_file = str(Path(images_root) / f'{image_id}.jpg')\n",
    "            image_lr = Image.open(image_file).resize((W_pad_lr, H_pad_lr), Image.BILINEAR)\n",
    "            image_lr = np.array(image_lr) / 255.\n",
    "\n",
    "            # Color affinities (of type scipy.sparse.csr_matrix)\n",
    "            if which_color_matrix == 'knn':\n",
    "                W_lr = utils.knn_affinity(image_lr / 255)\n",
    "            elif which_color_matrix == 'rw':\n",
    "                W_lr = utils.rw_affinity(image_lr / 255)\n",
    "\n",
    "            # Convert to dense numpy array\n",
    "            W_color = np.array(W_lr.todense().astype(np.float32))\n",
    "            # print(\"W_color shape\", W_color.shape)\n",
    "\n",
    "        else:\n",
    "\n",
    "            # No color affinity\n",
    "            W_color = 0\n",
    "\n",
    "        # Combine\n",
    "        W_comb = W_feat + W_color * image_color_lambda  # combination\n",
    "        D_comb = np.array(utils.get_diagonal(W_comb).todense())  # is dense or sparse faster? not sure, should check\n",
    "        # print(\"W_comb shape= \", W_comb.shape, \"D_comb shape\",  D_comb.shape)\n",
    "        if lapnorm:\n",
    "            try:\n",
    "                eigenvalues, eigenvectors = eigsh(D_comb - W_comb, k=K, sigma=0, which='LM', M=D_comb)\n",
    "            except:\n",
    "                eigenvalues, eigenvectors = eigsh(D_comb - W_comb, k=K, which='SM', M=D_comb)\n",
    "        else:\n",
    "            try:\n",
    "                eigenvalues, eigenvectors = eigsh(D_comb - W_comb, k=K, sigma=0, which='LM')\n",
    "            except:\n",
    "                eigenvalues, eigenvectors = eigsh(D_comb - W_comb, k=K, which='SM')\n",
    "        eigenvalues, eigenvectors = torch.from_numpy(eigenvalues), torch.from_numpy(eigenvectors.T).float()\n",
    "    print(\"eigenvalues shape\", eigenvalues.shape, \"eigenvectors shape\", eigenvectors.shape)\n",
    "    # Sign ambiguity\n",
    "    for k in range(eigenvectors.shape[0]):\n",
    "        if 0.5 < torch.mean((eigenvectors[k] > 0).float()).item() < 1.0:  # reverse segment\n",
    "            eigenvectors[k] = 0 - eigenvectors[k]\n",
    "\n",
    "    # Save dict\n",
    "    output_dict = {'eigenvalues': eigenvalues, 'eigenvectors': eigenvectors}\n",
    "    torch.save(output_dict, output_file)"
   ]
  }
 ],
 "metadata": {
  "kernelspec": {
   "display_name": "Python 3 (ipykernel)",
   "language": "python",
   "name": "python3"
  },
  "language_info": {
   "codemirror_mode": {
    "name": "ipython",
    "version": 3
   },
   "file_extension": ".py",
   "mimetype": "text/x-python",
   "name": "python",
   "nbconvert_exporter": "python",
   "pygments_lexer": "ipython3",
   "version": "3.8.10"
  }
 },
 "nbformat": 4,
 "nbformat_minor": 1
}