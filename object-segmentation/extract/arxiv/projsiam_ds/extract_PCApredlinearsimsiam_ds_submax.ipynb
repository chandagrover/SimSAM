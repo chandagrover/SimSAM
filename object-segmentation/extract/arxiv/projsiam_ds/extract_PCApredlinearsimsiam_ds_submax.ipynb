{
 "cells": [
  {
   "cell_type": "code",
   "execution_count": 1,
   "metadata": {
    "pycharm": {
     "name": "#%%\n"
    }
   },
   "outputs": [],
   "source": [
    "# from functools import partial\n",
    "from pathlib import Path\n",
    "# from typing import Optional, Tuple\n",
    "# import cv2\n",
    "# import fire\n",
    "import numpy as np\n",
    "import torch\n",
    "import torch.nn.functional as F\n",
    "from accelerate import Accelerator\n",
    "from PIL import Image\n",
    "from scipy.sparse.linalg import eigsh\n",
    "# from sklearn.cluster import KMeans, MiniBatchKMeans\n",
    "from sklearn.decomposition import PCA\n",
    "# from torchvision.utils import draw_bounding_boxes\n",
    "from tqdm import tqdm\n",
    "import extract_utils as utils\n",
    "from torch.utils.data import Dataset, DataLoader\n",
    "from lightly.loss import NegativeCosineSimilarity\n",
    "from lightly.models.modules import SimSiamPredictionHead, SimSiamProjectionHead\n",
    "from torch import nn\n",
    "import torchvision\n",
    "from scipy.ndimage import affine_transform"
   ]
  },
  {
   "cell_type": "markdown",
   "metadata": {
    "pycharm": {
     "name": "#%% md\n"
    }
   },
   "source": [
    "## Extract Eigen Vectors"
   ]
  },
  {
   "cell_type": "code",
   "execution_count": 2,
   "metadata": {
    "pycharm": {
     "name": "#%%\n"
    }
   },
   "outputs": [],
   "source": [
    "images_root=\"/home/phdcs2/Hard_Disk/Datasets/Deep-Spectral-Segmentation/data/object-segmentation/ECSSD/images\"\n",
    "features_dir=\"/home/phdcs2/Hard_Disk/Datasets/Deep-Spectral-Segmentation/data/object-segmentation/ECSSD/features/dino_vits16\"\n",
    "output_dir=\"/home/phdcs2/Hard_Disk/Datasets/Deep-Spectral-Segmentation/data/object-segmentation/ECSSD/eigs_dot1PCA64pred_ds_10_submax_color8\"\n",
    "which_matrix= 'laplacian'\n",
    "which_color_matrix= 'knn'\n",
    "which_features= 'k'\n",
    "normalize=True\n",
    "threshold_at_zero=True\n",
    "lapnorm= True\n",
    "K= 5\n",
    "image_downsample_factor = None\n",
    "image_color_lambda = 8.0\n",
    "multiprocessing = 0\n",
    "batch_size=2\n",
    "epochs=10"
   ]
  },
  {
   "cell_type": "markdown",
   "metadata": {
    "pycharm": {
     "name": "#%% md\n"
    }
   },
   "source": [
    "## Incorporating SimSiam"
   ]
  },
  {
   "cell_type": "code",
   "execution_count": 3,
   "metadata": {
    "pycharm": {
     "name": "#%%\n"
    }
   },
   "outputs": [],
   "source": [
    "# Define a custom dataset class\n",
    "class Feature_Dataset(Dataset):\n",
    "    def __init__(self, features):\n",
    "        self.features = features\n",
    "\n",
    "    def __getitem__(self, index):\n",
    "        return self.features[index]\n",
    "\n",
    "    def __len__(self):\n",
    "        return len(self.features)"
   ]
  },
  {
   "cell_type": "code",
   "execution_count": 4,
   "metadata": {
    "pycharm": {
     "name": "#%%\n"
    }
   },
   "outputs": [],
   "source": [
    "# class SimSiam(nn.Module):\n",
    "#     def __init__(self):\n",
    "#         super().__init__()\n",
    "#         self.projection_head = SimSiamProjectionHead(feats.shape[1], 128,feats.shape[1])\n",
    "#         self.prediction_head = SimSiamPredictionHead(feats.shape[1], 128, feats.shape[1])\n",
    "#\n",
    "#     def forward(self, x):\n",
    "#         z = self.projection_head(x)\n",
    "#         p = self.prediction_head(z)\n",
    "#         z = z.detach()\n",
    "#         return z, p"
   ]
  },
  {
   "cell_type": "code",
   "execution_count": 5,
   "metadata": {
    "pycharm": {
     "name": "#%%\n"
    }
   },
   "outputs": [],
   "source": [
    "# def normalize_affinity_matrix(affinity_matrix, axis=0):\n",
    "#     if axis == 1:\n",
    "#         # Normalize by row-wise sums\n",
    "#         row_sums = torch.sum(affinity_matrix, dim=1, keepdim=True)\n",
    "#         print(row_sums)\n",
    "#         normalized_matrix = affinity_matrix / row_sums\n",
    "#     elif axis == 0:\n",
    "#         # Normalize by column-wise sums\n",
    "#         col_sums = torch.sum(affinity_matrix, dim=0, keepdim=True)\n",
    "#         normalized_matrix = affinity_matrix / col_sums\n",
    "#     else:\n",
    "#         raise ValueError(\"Invalid axis. Axis must be either 0 or 1.\")\n",
    "\n",
    "#     return normalized_matrix"
   ]
  },
  {
   "cell_type": "code",
   "execution_count": 6,
   "metadata": {
    "pycharm": {
     "name": "#%%\n"
    }
   },
   "outputs": [
    {
     "name": "stderr",
     "output_type": "stream",
     "text": [
      "\r",
      "  0%|                                                                                                                                                                             | 0/1000 [00:00<?, ?it/s]"
     ]
    },
    {
     "name": "stdout",
     "output_type": "stream",
     "text": [
      "0 /home/phdcs2/Hard_Disk/Datasets/Deep-Spectral-Segmentation/data/object-segmentation/ECSSD/features/dino_vits16/0001.pth\n",
      "dict_keys(['k', 'indices', 'file', 'id', 'model_name', 'patch_size', 'shape'])\n",
      "0001\n",
      "Starting Training\n",
      "epoch: 00, loss: -0.03801\n",
      "epoch: 01, loss: -0.06483\n",
      "epoch: 02, loss: -0.07123\n",
      "epoch: 03, loss: -0.07416\n",
      "epoch: 04, loss: -0.07247\n",
      "epoch: 05, loss: -0.07295\n",
      "epoch: 06, loss: -0.07536\n",
      "epoch: 07, loss: -0.07671\n",
      "epoch: 08, loss: -0.07570\n",
      "epoch: 09, loss: -0.07807\n",
      "torch.Size([400, 64])\n"
     ]
    },
    {
     "name": "stderr",
     "output_type": "stream",
     "text": [
      "\r",
      "  0%|▏                                                                                                                                                                  | 1/1000 [00:17<4:46:19, 17.20s/it]"
     ]
    },
    {
     "name": "stdout",
     "output_type": "stream",
     "text": [
      "eigenvalues shape torch.Size([5]) eigenvectors shape torch.Size([5, 400])\n",
      "1 /home/phdcs2/Hard_Disk/Datasets/Deep-Spectral-Segmentation/data/object-segmentation/ECSSD/features/dino_vits16/0002.pth\n",
      "dict_keys(['k', 'indices', 'file', 'id', 'model_name', 'patch_size', 'shape'])\n",
      "0002\n",
      "Starting Training\n",
      "epoch: 00, loss: -0.04236\n",
      "epoch: 01, loss: -0.07532\n",
      "epoch: 02, loss: -0.07984\n",
      "epoch: 03, loss: -0.08347\n",
      "epoch: 04, loss: -0.08373\n",
      "epoch: 05, loss: -0.08305\n",
      "epoch: 06, loss: -0.08591\n",
      "epoch: 07, loss: -0.08322\n",
      "epoch: 08, loss: -0.08670\n",
      "epoch: 09, loss: -0.08812\n",
      "torch.Size([400, 64])\n"
     ]
    },
    {
     "name": "stderr",
     "output_type": "stream",
     "text": [
      "\r",
      "  0%|▎                                                                                                                                                                  | 2/1000 [00:26<3:32:36, 12.78s/it]"
     ]
    },
    {
     "name": "stdout",
     "output_type": "stream",
     "text": [
      "eigenvalues shape torch.Size([5]) eigenvectors shape torch.Size([5, 400])\n",
      "2 /home/phdcs2/Hard_Disk/Datasets/Deep-Spectral-Segmentation/data/object-segmentation/ECSSD/features/dino_vits16/0003.pth\n",
      "dict_keys(['k', 'indices', 'file', 'id', 'model_name', 'patch_size', 'shape'])\n",
      "0003\n",
      "Starting Training\n",
      "epoch: 00, loss: -0.01344\n",
      "epoch: 01, loss: -0.04146\n",
      "epoch: 02, loss: -0.04665\n",
      "epoch: 03, loss: -0.04748\n",
      "epoch: 04, loss: -0.05252\n",
      "epoch: 05, loss: -0.05173\n",
      "epoch: 06, loss: -0.05253\n",
      "epoch: 07, loss: -0.05233\n",
      "epoch: 08, loss: -0.05232\n",
      "epoch: 09, loss: -0.05161\n",
      "torch.Size([400, 64])\n"
     ]
    },
    {
     "name": "stderr",
     "output_type": "stream",
     "text": [
      "\r",
      "  0%|▍                                                                                                                                                                  | 3/1000 [00:37<3:14:15, 11.69s/it]"
     ]
    },
    {
     "name": "stdout",
     "output_type": "stream",
     "text": [
      "eigenvalues shape torch.Size([5]) eigenvectors shape torch.Size([5, 400])\n",
      "3 /home/phdcs2/Hard_Disk/Datasets/Deep-Spectral-Segmentation/data/object-segmentation/ECSSD/features/dino_vits16/0004.pth\n",
      "dict_keys(['k', 'indices', 'file', 'id', 'model_name', 'patch_size', 'shape'])\n",
      "0004\n",
      "Starting Training\n",
      "epoch: 00, loss: -0.12909\n",
      "epoch: 01, loss: -0.16905\n",
      "epoch: 02, loss: -0.17531\n",
      "epoch: 03, loss: -0.17658\n",
      "epoch: 04, loss: -0.17602\n",
      "epoch: 05, loss: -0.18128\n",
      "epoch: 06, loss: -0.17951\n",
      "epoch: 07, loss: -0.18150\n",
      "epoch: 08, loss: -0.17975\n",
      "epoch: 09, loss: -0.18073\n",
      "torch.Size([400, 64])\n"
     ]
    },
    {
     "name": "stderr",
     "output_type": "stream",
     "text": [
      "\r",
      "  0%|▋                                                                                                                                                                  | 4/1000 [00:49<3:16:52, 11.86s/it]"
     ]
    },
    {
     "name": "stdout",
     "output_type": "stream",
     "text": [
      "eigenvalues shape torch.Size([5]) eigenvectors shape torch.Size([5, 400])\n",
      "4 /home/phdcs2/Hard_Disk/Datasets/Deep-Spectral-Segmentation/data/object-segmentation/ECSSD/features/dino_vits16/0005.pth\n",
      "dict_keys(['k', 'indices', 'file', 'id', 'model_name', 'patch_size', 'shape'])\n",
      "0005\n",
      "Starting Training\n",
      "epoch: 00, loss: -0.04475\n",
      "epoch: 01, loss: -0.06788\n",
      "epoch: 02, loss: -0.07427\n",
      "epoch: 03, loss: -0.07588\n",
      "epoch: 04, loss: -0.07735\n",
      "epoch: 05, loss: -0.08001\n",
      "epoch: 06, loss: -0.08033\n",
      "epoch: 07, loss: -0.07799\n",
      "epoch: 08, loss: -0.08085\n",
      "epoch: 09, loss: -0.08085\n",
      "torch.Size([400, 64])\n"
     ]
    },
    {
     "name": "stderr",
     "output_type": "stream",
     "text": [
      "\r",
      "  0%|▊                                                                                                                                                                  | 5/1000 [01:04<3:33:27, 12.87s/it]"
     ]
    },
    {
     "name": "stdout",
     "output_type": "stream",
     "text": [
      "eigenvalues shape torch.Size([5]) eigenvectors shape torch.Size([5, 400])\n",
      "5 /home/phdcs2/Hard_Disk/Datasets/Deep-Spectral-Segmentation/data/object-segmentation/ECSSD/features/dino_vits16/0006.pth\n",
      "dict_keys(['k', 'indices', 'file', 'id', 'model_name', 'patch_size', 'shape'])\n",
      "0006\n",
      "Starting Training\n",
      "epoch: 00, loss: -0.06420\n",
      "epoch: 01, loss: -0.10089\n",
      "epoch: 02, loss: -0.10400\n",
      "epoch: 03, loss: -0.10933\n",
      "epoch: 04, loss: -0.10856\n",
      "epoch: 05, loss: -0.10801\n",
      "epoch: 06, loss: -0.10828\n",
      "epoch: 07, loss: -0.11022\n",
      "epoch: 08, loss: -0.11093\n",
      "epoch: 09, loss: -0.10953\n",
      "torch.Size([400, 64])\n"
     ]
    },
    {
     "name": "stderr",
     "output_type": "stream",
     "text": [
      "\r",
      "  1%|▉                                                                                                                                                                  | 6/1000 [01:18<3:41:04, 13.34s/it]"
     ]
    },
    {
     "name": "stdout",
     "output_type": "stream",
     "text": [
      "eigenvalues shape torch.Size([5]) eigenvectors shape torch.Size([5, 400])\n",
      "6 /home/phdcs2/Hard_Disk/Datasets/Deep-Spectral-Segmentation/data/object-segmentation/ECSSD/features/dino_vits16/0007.pth\n",
      "dict_keys(['k', 'indices', 'file', 'id', 'model_name', 'patch_size', 'shape'])\n",
      "0007\n",
      "Starting Training\n",
      "epoch: 00, loss: -0.04123\n",
      "epoch: 01, loss: -0.07557\n",
      "epoch: 02, loss: -0.07951\n",
      "epoch: 03, loss: -0.07802\n",
      "epoch: 04, loss: -0.08367\n",
      "epoch: 05, loss: -0.08250\n",
      "epoch: 06, loss: -0.08323\n",
      "epoch: 07, loss: -0.08302\n",
      "epoch: 08, loss: -0.08346\n",
      "epoch: 09, loss: -0.08499\n",
      "torch.Size([400, 64])\n"
     ]
    },
    {
     "name": "stderr",
     "output_type": "stream",
     "text": [
      "\r",
      "  1%|█▏                                                                                                                                                                 | 7/1000 [01:32<3:42:59, 13.47s/it]"
     ]
    },
    {
     "name": "stdout",
     "output_type": "stream",
     "text": [
      "eigenvalues shape torch.Size([5]) eigenvectors shape torch.Size([5, 400])\n",
      "7 /home/phdcs2/Hard_Disk/Datasets/Deep-Spectral-Segmentation/data/object-segmentation/ECSSD/features/dino_vits16/0008.pth\n",
      "dict_keys(['k', 'indices', 'file', 'id', 'model_name', 'patch_size', 'shape'])\n",
      "0008\n",
      "Starting Training\n",
      "epoch: 00, loss: -0.00132\n",
      "epoch: 01, loss: -0.01342\n",
      "epoch: 02, loss: -0.01782\n",
      "epoch: 03, loss: -0.01979\n",
      "epoch: 04, loss: -0.02069\n",
      "epoch: 05, loss: -0.02098\n",
      "epoch: 06, loss: -0.02131\n",
      "epoch: 07, loss: -0.02154\n",
      "epoch: 08, loss: -0.02179\n",
      "epoch: 09, loss: -0.02190\n",
      "torch.Size([400, 64])\n"
     ]
    },
    {
     "name": "stderr",
     "output_type": "stream",
     "text": [
      "\r",
      "  1%|█▎                                                                                                                                                                 | 8/1000 [01:47<3:54:52, 14.21s/it]"
     ]
    },
    {
     "name": "stdout",
     "output_type": "stream",
     "text": [
      "eigenvalues shape torch.Size([5]) eigenvectors shape torch.Size([5, 400])\n",
      "8 /home/phdcs2/Hard_Disk/Datasets/Deep-Spectral-Segmentation/data/object-segmentation/ECSSD/features/dino_vits16/0009.pth\n",
      "dict_keys(['k', 'indices', 'file', 'id', 'model_name', 'patch_size', 'shape'])\n",
      "0009\n",
      "Starting Training\n",
      "epoch: 00, loss: -0.03079\n",
      "epoch: 01, loss: -0.05046\n",
      "epoch: 02, loss: -0.05162\n",
      "epoch: 03, loss: -0.05201\n",
      "epoch: 04, loss: -0.05241\n",
      "epoch: 05, loss: -0.05264\n",
      "epoch: 06, loss: -0.05276\n",
      "epoch: 07, loss: -0.05295\n",
      "epoch: 08, loss: -0.05306\n",
      "epoch: 09, loss: -0.05318\n",
      "torch.Size([400, 64])\n"
     ]
    },
    {
     "name": "stderr",
     "output_type": "stream",
     "text": [
      "\r",
      "  1%|█▍                                                                                                                                                                 | 9/1000 [02:03<4:04:02, 14.78s/it]"
     ]
    },
    {
     "name": "stdout",
     "output_type": "stream",
     "text": [
      "eigenvalues shape torch.Size([5]) eigenvectors shape torch.Size([5, 400])\n",
      "9 /home/phdcs2/Hard_Disk/Datasets/Deep-Spectral-Segmentation/data/object-segmentation/ECSSD/features/dino_vits16/0010.pth\n",
      "dict_keys(['k', 'indices', 'file', 'id', 'model_name', 'patch_size', 'shape'])\n",
      "0010\n",
      "Starting Training\n",
      "epoch: 00, loss: -0.03673\n",
      "epoch: 01, loss: -0.06846\n",
      "epoch: 02, loss: -0.07626\n",
      "epoch: 03, loss: -0.07723\n",
      "epoch: 04, loss: -0.08111\n",
      "epoch: 05, loss: -0.07941\n",
      "epoch: 06, loss: -0.08028\n",
      "epoch: 07, loss: -0.08194\n",
      "epoch: 08, loss: -0.08312\n",
      "epoch: 09, loss: -0.08176\n",
      "torch.Size([400, 64])\n"
     ]
    },
    {
     "name": "stderr",
     "output_type": "stream",
     "text": [
      "\r",
      "  1%|█▌                                                                                                                                                                | 10/1000 [02:19<4:09:56, 15.15s/it]"
     ]
    },
    {
     "name": "stdout",
     "output_type": "stream",
     "text": [
      "eigenvalues shape torch.Size([5]) eigenvectors shape torch.Size([5, 400])\n",
      "10 /home/phdcs2/Hard_Disk/Datasets/Deep-Spectral-Segmentation/data/object-segmentation/ECSSD/features/dino_vits16/0011.pth\n",
      "dict_keys(['k', 'indices', 'file', 'id', 'model_name', 'patch_size', 'shape'])\n",
      "0011\n",
      "Starting Training\n",
      "epoch: 00, loss: -0.04305\n",
      "epoch: 01, loss: -0.07674\n",
      "epoch: 02, loss: -0.08016\n",
      "epoch: 03, loss: -0.07933\n",
      "epoch: 04, loss: -0.07760\n",
      "epoch: 05, loss: -0.07943\n",
      "epoch: 06, loss: -0.08249\n",
      "epoch: 07, loss: -0.08421\n",
      "epoch: 08, loss: -0.08122\n",
      "epoch: 09, loss: -0.08179\n",
      "torch.Size([400, 64])\n"
     ]
    },
    {
     "name": "stderr",
     "output_type": "stream",
     "text": [
      "\r",
      "  1%|█▊                                                                                                                                                                | 11/1000 [02:34<4:07:48, 15.03s/it]"
     ]
    },
    {
     "name": "stdout",
     "output_type": "stream",
     "text": [
      "eigenvalues shape torch.Size([5]) eigenvectors shape torch.Size([5, 400])\n",
      "11 /home/phdcs2/Hard_Disk/Datasets/Deep-Spectral-Segmentation/data/object-segmentation/ECSSD/features/dino_vits16/0012.pth\n",
      "dict_keys(['k', 'indices', 'file', 'id', 'model_name', 'patch_size', 'shape'])\n",
      "0012\n",
      "Starting Training\n",
      "epoch: 00, loss: -0.02837\n",
      "epoch: 01, loss: -0.04668\n",
      "epoch: 02, loss: -0.04836\n",
      "epoch: 03, loss: -0.04913\n",
      "epoch: 04, loss: -0.04920\n",
      "epoch: 05, loss: -0.04982\n",
      "epoch: 06, loss: -0.04980\n",
      "epoch: 07, loss: -0.05028\n",
      "epoch: 08, loss: -0.05013\n",
      "epoch: 09, loss: -0.05014\n",
      "torch.Size([400, 64])\n"
     ]
    },
    {
     "name": "stderr",
     "output_type": "stream",
     "text": [
      "\r",
      "  1%|█▉                                                                                                                                                                | 12/1000 [02:47<3:58:27, 14.48s/it]"
     ]
    },
    {
     "name": "stdout",
     "output_type": "stream",
     "text": [
      "eigenvalues shape torch.Size([5]) eigenvectors shape torch.Size([5, 400])\n",
      "12 /home/phdcs2/Hard_Disk/Datasets/Deep-Spectral-Segmentation/data/object-segmentation/ECSSD/features/dino_vits16/0013.pth\n",
      "dict_keys(['k', 'indices', 'file', 'id', 'model_name', 'patch_size', 'shape'])\n",
      "0013\n",
      "Starting Training\n",
      "epoch: 00, loss: -0.00926\n",
      "epoch: 01, loss: -0.02683\n",
      "epoch: 02, loss: -0.03044\n",
      "epoch: 03, loss: -0.03120\n",
      "epoch: 04, loss: -0.03218\n",
      "epoch: 05, loss: -0.03218\n",
      "epoch: 06, loss: -0.03226\n",
      "epoch: 07, loss: -0.03248\n",
      "epoch: 08, loss: -0.03267\n",
      "epoch: 09, loss: -0.03287\n",
      "torch.Size([400, 64])\n"
     ]
    },
    {
     "name": "stderr",
     "output_type": "stream",
     "text": [
      "\r",
      "  1%|██                                                                                                                                                                | 13/1000 [03:02<3:59:06, 14.54s/it]"
     ]
    },
    {
     "name": "stdout",
     "output_type": "stream",
     "text": [
      "eigenvalues shape torch.Size([5]) eigenvectors shape torch.Size([5, 400])\n",
      "13 /home/phdcs2/Hard_Disk/Datasets/Deep-Spectral-Segmentation/data/object-segmentation/ECSSD/features/dino_vits16/0014.pth\n",
      "dict_keys(['k', 'indices', 'file', 'id', 'model_name', 'patch_size', 'shape'])\n",
      "0014\n",
      "Starting Training\n",
      "epoch: 00, loss: -0.07071\n",
      "epoch: 01, loss: -0.11351\n",
      "epoch: 02, loss: -0.11925\n",
      "epoch: 03, loss: -0.11741\n",
      "epoch: 04, loss: -0.11852\n",
      "epoch: 05, loss: -0.11942\n",
      "epoch: 06, loss: -0.12040\n",
      "epoch: 07, loss: -0.12080\n",
      "epoch: 08, loss: -0.12180\n",
      "epoch: 09, loss: -0.12060\n",
      "torch.Size([400, 64])\n"
     ]
    },
    {
     "name": "stderr",
     "output_type": "stream",
     "text": [
      "\r",
      "  1%|██▎                                                                                                                                                               | 14/1000 [03:22<4:26:50, 16.24s/it]"
     ]
    },
    {
     "name": "stdout",
     "output_type": "stream",
     "text": [
      "eigenvalues shape torch.Size([5]) eigenvectors shape torch.Size([5, 400])\n",
      "14 /home/phdcs2/Hard_Disk/Datasets/Deep-Spectral-Segmentation/data/object-segmentation/ECSSD/features/dino_vits16/0015.pth\n",
      "dict_keys(['k', 'indices', 'file', 'id', 'model_name', 'patch_size', 'shape'])\n",
      "0015\n",
      "Starting Training\n",
      "epoch: 00, loss: -0.04137\n",
      "epoch: 01, loss: -0.06642\n",
      "epoch: 02, loss: -0.06870\n",
      "epoch: 03, loss: -0.06946\n",
      "epoch: 04, loss: -0.07050\n",
      "epoch: 05, loss: -0.07087\n",
      "epoch: 06, loss: -0.07149\n",
      "epoch: 07, loss: -0.07196\n",
      "epoch: 08, loss: -0.07101\n",
      "epoch: 09, loss: -0.07178\n",
      "torch.Size([400, 64])\n"
     ]
    },
    {
     "name": "stderr",
     "output_type": "stream",
     "text": [
      "\r",
      "  2%|██▍                                                                                                                                                               | 15/1000 [03:36<4:17:03, 15.66s/it]"
     ]
    },
    {
     "name": "stdout",
     "output_type": "stream",
     "text": [
      "eigenvalues shape torch.Size([5]) eigenvectors shape torch.Size([5, 400])\n",
      "15 /home/phdcs2/Hard_Disk/Datasets/Deep-Spectral-Segmentation/data/object-segmentation/ECSSD/features/dino_vits16/0016.pth\n",
      "dict_keys(['k', 'indices', 'file', 'id', 'model_name', 'patch_size', 'shape'])\n",
      "0016\n",
      "Starting Training\n",
      "epoch: 00, loss: -0.00831\n",
      "epoch: 01, loss: -0.03619\n",
      "epoch: 02, loss: -0.04499\n",
      "epoch: 03, loss: -0.04620\n",
      "epoch: 04, loss: -0.04866\n",
      "epoch: 05, loss: -0.05031\n",
      "epoch: 06, loss: -0.04995\n",
      "epoch: 07, loss: -0.04844\n",
      "epoch: 08, loss: -0.05021\n",
      "epoch: 09, loss: -0.05082\n",
      "torch.Size([400, 64])\n"
     ]
    },
    {
     "name": "stderr",
     "output_type": "stream",
     "text": [
      "\r",
      "  2%|██▌                                                                                                                                                               | 16/1000 [03:51<4:10:27, 15.27s/it]"
     ]
    },
    {
     "name": "stdout",
     "output_type": "stream",
     "text": [
      "eigenvalues shape torch.Size([5]) eigenvectors shape torch.Size([5, 400])\n",
      "16 /home/phdcs2/Hard_Disk/Datasets/Deep-Spectral-Segmentation/data/object-segmentation/ECSSD/features/dino_vits16/0017.pth\n",
      "dict_keys(['k', 'indices', 'file', 'id', 'model_name', 'patch_size', 'shape'])\n",
      "0017\n",
      "Starting Training\n",
      "epoch: 00, loss: -0.01490\n",
      "epoch: 01, loss: -0.03520\n",
      "epoch: 02, loss: -0.03936\n",
      "epoch: 03, loss: -0.03986\n",
      "epoch: 04, loss: -0.04086\n",
      "epoch: 05, loss: -0.04075\n",
      "epoch: 06, loss: -0.04161\n",
      "epoch: 07, loss: -0.04105\n",
      "epoch: 08, loss: -0.04205\n",
      "epoch: 09, loss: -0.04157\n",
      "torch.Size([400, 64])\n"
     ]
    },
    {
     "name": "stderr",
     "output_type": "stream",
     "text": [
      "\r",
      "  2%|██▊                                                                                                                                                               | 17/1000 [04:08<4:17:50, 15.74s/it]"
     ]
    },
    {
     "name": "stdout",
     "output_type": "stream",
     "text": [
      "eigenvalues shape torch.Size([5]) eigenvectors shape torch.Size([5, 400])\n",
      "17 /home/phdcs2/Hard_Disk/Datasets/Deep-Spectral-Segmentation/data/object-segmentation/ECSSD/features/dino_vits16/0018.pth\n",
      "dict_keys(['k', 'indices', 'file', 'id', 'model_name', 'patch_size', 'shape'])\n",
      "0018\n",
      "Starting Training\n",
      "epoch: 00, loss: -0.04204\n",
      "epoch: 01, loss: -0.06994\n",
      "epoch: 02, loss: -0.07150\n",
      "epoch: 03, loss: -0.07180\n",
      "epoch: 04, loss: -0.07210\n",
      "epoch: 05, loss: -0.07255\n",
      "epoch: 06, loss: -0.07245\n",
      "epoch: 07, loss: -0.07249\n",
      "epoch: 08, loss: -0.07285\n",
      "epoch: 09, loss: -0.07283\n",
      "torch.Size([400, 64])\n"
     ]
    },
    {
     "name": "stderr",
     "output_type": "stream",
     "text": [
      "\r",
      "  2%|██▉                                                                                                                                                               | 18/1000 [04:25<4:26:53, 16.31s/it]"
     ]
    },
    {
     "name": "stdout",
     "output_type": "stream",
     "text": [
      "eigenvalues shape torch.Size([5]) eigenvectors shape torch.Size([5, 400])\n",
      "18 /home/phdcs2/Hard_Disk/Datasets/Deep-Spectral-Segmentation/data/object-segmentation/ECSSD/features/dino_vits16/0019.pth\n",
      "dict_keys(['k', 'indices', 'file', 'id', 'model_name', 'patch_size', 'shape'])\n",
      "0019\n",
      "Starting Training\n",
      "epoch: 00, loss: -0.07998\n",
      "epoch: 01, loss: -0.12698\n",
      "epoch: 02, loss: -0.13034\n",
      "epoch: 03, loss: -0.13473\n",
      "epoch: 04, loss: -0.13414\n",
      "epoch: 05, loss: -0.13503\n",
      "epoch: 06, loss: -0.13726\n",
      "epoch: 07, loss: -0.13813\n",
      "epoch: 08, loss: -0.13629\n",
      "epoch: 09, loss: -0.13554\n",
      "torch.Size([400, 64])\n"
     ]
    },
    {
     "name": "stderr",
     "output_type": "stream",
     "text": [
      "\r",
      "  2%|███                                                                                                                                                               | 19/1000 [04:38<4:10:44, 15.34s/it]"
     ]
    },
    {
     "name": "stdout",
     "output_type": "stream",
     "text": [
      "eigenvalues shape torch.Size([5]) eigenvectors shape torch.Size([5, 400])\n",
      "19 /home/phdcs2/Hard_Disk/Datasets/Deep-Spectral-Segmentation/data/object-segmentation/ECSSD/features/dino_vits16/0020.pth\n",
      "dict_keys(['k', 'indices', 'file', 'id', 'model_name', 'patch_size', 'shape'])\n",
      "0020\n",
      "Starting Training\n",
      "epoch: 00, loss: -0.04915\n",
      "epoch: 01, loss: -0.08322\n",
      "epoch: 02, loss: -0.08668\n",
      "epoch: 03, loss: -0.08695\n",
      "epoch: 04, loss: -0.09013\n",
      "epoch: 05, loss: -0.09277\n",
      "epoch: 06, loss: -0.09135\n",
      "epoch: 07, loss: -0.09128\n",
      "epoch: 08, loss: -0.09211\n",
      "epoch: 09, loss: -0.09572\n",
      "torch.Size([400, 64])\n"
     ]
    },
    {
     "name": "stderr",
     "output_type": "stream",
     "text": [
      "\r",
      "  2%|███▏                                                                                                                                                              | 20/1000 [04:53<4:04:43, 14.98s/it]"
     ]
    },
    {
     "name": "stdout",
     "output_type": "stream",
     "text": [
      "eigenvalues shape torch.Size([5]) eigenvectors shape torch.Size([5, 400])\n",
      "20 /home/phdcs2/Hard_Disk/Datasets/Deep-Spectral-Segmentation/data/object-segmentation/ECSSD/features/dino_vits16/0021.pth\n",
      "dict_keys(['k', 'indices', 'file', 'id', 'model_name', 'patch_size', 'shape'])\n",
      "0021\n",
      "Starting Training\n",
      "epoch: 00, loss: -0.05530\n",
      "epoch: 01, loss: -0.07885\n",
      "epoch: 02, loss: -0.08191\n",
      "epoch: 03, loss: -0.08210\n",
      "epoch: 04, loss: -0.08250\n",
      "epoch: 05, loss: -0.08381\n",
      "epoch: 06, loss: -0.08327\n",
      "epoch: 07, loss: -0.08465\n",
      "epoch: 08, loss: -0.08339\n",
      "epoch: 09, loss: -0.08330\n",
      "torch.Size([400, 64])\n"
     ]
    },
    {
     "name": "stderr",
     "output_type": "stream",
     "text": [
      "\r",
      "  2%|███▍                                                                                                                                                              | 21/1000 [05:06<3:58:20, 14.61s/it]"
     ]
    },
    {
     "name": "stdout",
     "output_type": "stream",
     "text": [
      "eigenvalues shape torch.Size([5]) eigenvectors shape torch.Size([5, 400])\n",
      "21 /home/phdcs2/Hard_Disk/Datasets/Deep-Spectral-Segmentation/data/object-segmentation/ECSSD/features/dino_vits16/0022.pth\n",
      "dict_keys(['k', 'indices', 'file', 'id', 'model_name', 'patch_size', 'shape'])\n",
      "0022\n",
      "Starting Training\n",
      "epoch: 00, loss: -0.02467\n",
      "epoch: 01, loss: -0.04638\n",
      "epoch: 02, loss: -0.04878\n",
      "epoch: 03, loss: -0.04976\n",
      "epoch: 04, loss: -0.05009\n",
      "epoch: 05, loss: -0.05018\n",
      "epoch: 06, loss: -0.05041\n",
      "epoch: 07, loss: -0.05048\n",
      "epoch: 08, loss: -0.05070\n",
      "epoch: 09, loss: -0.05073\n",
      "torch.Size([400, 64])\n"
     ]
    },
    {
     "name": "stderr",
     "output_type": "stream",
     "text": [
      "\r",
      "  2%|███▌                                                                                                                                                              | 22/1000 [05:20<3:52:30, 14.26s/it]"
     ]
    },
    {
     "name": "stdout",
     "output_type": "stream",
     "text": [
      "eigenvalues shape torch.Size([5]) eigenvectors shape torch.Size([5, 400])\n",
      "22 /home/phdcs2/Hard_Disk/Datasets/Deep-Spectral-Segmentation/data/object-segmentation/ECSSD/features/dino_vits16/0023.pth\n",
      "dict_keys(['k', 'indices', 'file', 'id', 'model_name', 'patch_size', 'shape'])\n",
      "0023\n",
      "Starting Training\n",
      "epoch: 00, loss: -0.02422\n",
      "epoch: 01, loss: -0.04966\n",
      "epoch: 02, loss: -0.05168\n",
      "epoch: 03, loss: -0.05215\n",
      "epoch: 04, loss: -0.05251\n",
      "epoch: 05, loss: -0.05292\n",
      "epoch: 06, loss: -0.05298\n",
      "epoch: 07, loss: -0.05320\n",
      "epoch: 08, loss: -0.05327\n",
      "epoch: 09, loss: -0.05328\n",
      "torch.Size([400, 64])\n"
     ]
    },
    {
     "name": "stderr",
     "output_type": "stream",
     "text": [
      "\r",
      "  2%|███▋                                                                                                                                                              | 23/1000 [05:35<3:55:21, 14.45s/it]"
     ]
    },
    {
     "name": "stdout",
     "output_type": "stream",
     "text": [
      "eigenvalues shape torch.Size([5]) eigenvectors shape torch.Size([5, 400])\n",
      "23 /home/phdcs2/Hard_Disk/Datasets/Deep-Spectral-Segmentation/data/object-segmentation/ECSSD/features/dino_vits16/0024.pth\n",
      "dict_keys(['k', 'indices', 'file', 'id', 'model_name', 'patch_size', 'shape'])\n",
      "0024\n",
      "Starting Training\n",
      "epoch: 00, loss: -0.01709\n",
      "epoch: 01, loss: -0.03239\n",
      "epoch: 02, loss: -0.03494\n",
      "epoch: 03, loss: -0.03571\n",
      "epoch: 04, loss: -0.03617\n",
      "epoch: 05, loss: -0.03641\n",
      "epoch: 06, loss: -0.03675\n",
      "epoch: 07, loss: -0.03661\n",
      "epoch: 08, loss: -0.03684\n",
      "epoch: 09, loss: -0.03700\n",
      "torch.Size([400, 64])\n"
     ]
    },
    {
     "name": "stderr",
     "output_type": "stream",
     "text": [
      "\r",
      "  2%|███▉                                                                                                                                                              | 24/1000 [05:52<4:07:27, 15.21s/it]"
     ]
    },
    {
     "name": "stdout",
     "output_type": "stream",
     "text": [
      "eigenvalues shape torch.Size([5]) eigenvectors shape torch.Size([5, 400])\n",
      "24 /home/phdcs2/Hard_Disk/Datasets/Deep-Spectral-Segmentation/data/object-segmentation/ECSSD/features/dino_vits16/0025.pth\n",
      "dict_keys(['k', 'indices', 'file', 'id', 'model_name', 'patch_size', 'shape'])\n",
      "0025\n",
      "Starting Training\n",
      "epoch: 00, loss: -0.03450\n",
      "epoch: 01, loss: -0.06279\n",
      "epoch: 02, loss: -0.06864\n",
      "epoch: 03, loss: -0.07126\n",
      "epoch: 04, loss: -0.06912\n",
      "epoch: 05, loss: -0.07208\n",
      "epoch: 06, loss: -0.07338\n",
      "epoch: 07, loss: -0.07129\n",
      "epoch: 08, loss: -0.07398\n",
      "epoch: 09, loss: -0.07580\n",
      "torch.Size([400, 64])\n"
     ]
    },
    {
     "name": "stderr",
     "output_type": "stream",
     "text": [
      "\r",
      "  2%|████                                                                                                                                                              | 25/1000 [06:10<4:22:54, 16.18s/it]"
     ]
    },
    {
     "name": "stdout",
     "output_type": "stream",
     "text": [
      "eigenvalues shape torch.Size([5]) eigenvectors shape torch.Size([5, 400])\n",
      "25 /home/phdcs2/Hard_Disk/Datasets/Deep-Spectral-Segmentation/data/object-segmentation/ECSSD/features/dino_vits16/0026.pth\n",
      "dict_keys(['k', 'indices', 'file', 'id', 'model_name', 'patch_size', 'shape'])\n",
      "0026\n",
      "Starting Training\n",
      "epoch: 00, loss: -0.05136\n",
      "epoch: 01, loss: -0.07092\n",
      "epoch: 02, loss: -0.07174\n",
      "epoch: 03, loss: -0.07204\n",
      "epoch: 04, loss: -0.07240\n",
      "epoch: 05, loss: -0.07245\n",
      "epoch: 06, loss: -0.07282\n",
      "epoch: 07, loss: -0.07269\n",
      "epoch: 08, loss: -0.07293\n",
      "epoch: 09, loss: -0.07293\n",
      "torch.Size([400, 64])\n"
     ]
    },
    {
     "name": "stderr",
     "output_type": "stream",
     "text": [
      "\r",
      "  3%|████▏                                                                                                                                                             | 26/1000 [06:27<4:26:55, 16.44s/it]"
     ]
    },
    {
     "name": "stdout",
     "output_type": "stream",
     "text": [
      "eigenvalues shape torch.Size([5]) eigenvectors shape torch.Size([5, 400])\n",
      "26 /home/phdcs2/Hard_Disk/Datasets/Deep-Spectral-Segmentation/data/object-segmentation/ECSSD/features/dino_vits16/0027.pth\n",
      "dict_keys(['k', 'indices', 'file', 'id', 'model_name', 'patch_size', 'shape'])\n",
      "0027\n",
      "Starting Training\n",
      "epoch: 00, loss: -0.01799\n",
      "epoch: 01, loss: -0.03824\n",
      "epoch: 02, loss: -0.04147\n",
      "epoch: 03, loss: -0.04315\n",
      "epoch: 04, loss: -0.04288\n",
      "epoch: 05, loss: -0.04313\n",
      "epoch: 06, loss: -0.04354\n",
      "epoch: 07, loss: -0.04350\n",
      "epoch: 08, loss: -0.04378\n",
      "epoch: 09, loss: -0.04385\n",
      "torch.Size([400, 64])\n"
     ]
    },
    {
     "name": "stderr",
     "output_type": "stream",
     "text": [
      "\r",
      "  3%|████▎                                                                                                                                                             | 27/1000 [06:43<4:24:17, 16.30s/it]"
     ]
    },
    {
     "name": "stdout",
     "output_type": "stream",
     "text": [
      "eigenvalues shape torch.Size([5]) eigenvectors shape torch.Size([5, 400])\n",
      "27 /home/phdcs2/Hard_Disk/Datasets/Deep-Spectral-Segmentation/data/object-segmentation/ECSSD/features/dino_vits16/0028.pth\n",
      "dict_keys(['k', 'indices', 'file', 'id', 'model_name', 'patch_size', 'shape'])\n",
      "0028\n",
      "Starting Training\n",
      "epoch: 00, loss: -0.03002\n",
      "epoch: 01, loss: -0.05035\n",
      "epoch: 02, loss: -0.05172\n",
      "epoch: 03, loss: -0.05208\n",
      "epoch: 04, loss: -0.05289\n",
      "epoch: 05, loss: -0.05304\n",
      "epoch: 06, loss: -0.05324\n",
      "epoch: 07, loss: -0.05353\n",
      "epoch: 08, loss: -0.05338\n",
      "epoch: 09, loss: -0.05339\n",
      "torch.Size([400, 64])\n"
     ]
    },
    {
     "name": "stderr",
     "output_type": "stream",
     "text": [
      "\r",
      "  3%|████▌                                                                                                                                                             | 28/1000 [06:59<4:24:07, 16.30s/it]"
     ]
    },
    {
     "name": "stdout",
     "output_type": "stream",
     "text": [
      "eigenvalues shape torch.Size([5]) eigenvectors shape torch.Size([5, 400])\n",
      "28 /home/phdcs2/Hard_Disk/Datasets/Deep-Spectral-Segmentation/data/object-segmentation/ECSSD/features/dino_vits16/0029.pth\n",
      "dict_keys(['k', 'indices', 'file', 'id', 'model_name', 'patch_size', 'shape'])\n",
      "0029\n",
      "Starting Training\n",
      "epoch: 00, loss: -0.02538\n",
      "epoch: 01, loss: -0.05290\n",
      "epoch: 02, loss: -0.06057\n",
      "epoch: 03, loss: -0.06365\n",
      "epoch: 04, loss: -0.06516\n",
      "epoch: 05, loss: -0.06386\n",
      "epoch: 06, loss: -0.06769\n",
      "epoch: 07, loss: -0.06896\n",
      "epoch: 08, loss: -0.06801\n",
      "epoch: 09, loss: -0.06660\n",
      "torch.Size([400, 64])\n"
     ]
    },
    {
     "name": "stderr",
     "output_type": "stream",
     "text": [
      "\r",
      "  3%|████▋                                                                                                                                                             | 29/1000 [07:15<4:18:36, 15.98s/it]"
     ]
    },
    {
     "name": "stdout",
     "output_type": "stream",
     "text": [
      "eigenvalues shape torch.Size([5]) eigenvectors shape torch.Size([5, 400])\n",
      "29 /home/phdcs2/Hard_Disk/Datasets/Deep-Spectral-Segmentation/data/object-segmentation/ECSSD/features/dino_vits16/0030.pth\n",
      "dict_keys(['k', 'indices', 'file', 'id', 'model_name', 'patch_size', 'shape'])\n",
      "0030\n",
      "Starting Training\n",
      "epoch: 00, loss: -0.02467\n",
      "epoch: 01, loss: -0.05446\n",
      "epoch: 02, loss: -0.05743\n",
      "epoch: 03, loss: -0.05720\n",
      "epoch: 04, loss: -0.05815\n",
      "epoch: 05, loss: -0.05811\n",
      "epoch: 06, loss: -0.05831\n",
      "epoch: 07, loss: -0.05845\n",
      "epoch: 08, loss: -0.05868\n",
      "epoch: 09, loss: -0.05888\n",
      "torch.Size([400, 64])\n"
     ]
    },
    {
     "name": "stderr",
     "output_type": "stream",
     "text": [
      "\r",
      "  3%|████▊                                                                                                                                                             | 30/1000 [07:32<4:24:49, 16.38s/it]"
     ]
    },
    {
     "name": "stdout",
     "output_type": "stream",
     "text": [
      "eigenvalues shape torch.Size([5]) eigenvectors shape torch.Size([5, 400])\n",
      "30 /home/phdcs2/Hard_Disk/Datasets/Deep-Spectral-Segmentation/data/object-segmentation/ECSSD/features/dino_vits16/0031.pth\n",
      "dict_keys(['k', 'indices', 'file', 'id', 'model_name', 'patch_size', 'shape'])\n",
      "0031\n",
      "Starting Training\n",
      "epoch: 00, loss: -0.03227\n",
      "epoch: 01, loss: -0.05300\n",
      "epoch: 02, loss: -0.06076\n",
      "epoch: 03, loss: -0.06096\n",
      "epoch: 04, loss: -0.06626\n",
      "epoch: 05, loss: -0.06248\n",
      "epoch: 06, loss: -0.06328\n",
      "epoch: 07, loss: -0.06257\n",
      "epoch: 08, loss: -0.06275\n",
      "epoch: 09, loss: -0.06429\n",
      "torch.Size([400, 64])\n"
     ]
    },
    {
     "name": "stderr",
     "output_type": "stream",
     "text": [
      "\r",
      "  3%|█████                                                                                                                                                             | 31/1000 [07:49<4:30:03, 16.72s/it]"
     ]
    },
    {
     "name": "stdout",
     "output_type": "stream",
     "text": [
      "eigenvalues shape torch.Size([5]) eigenvectors shape torch.Size([5, 400])\n",
      "31 /home/phdcs2/Hard_Disk/Datasets/Deep-Spectral-Segmentation/data/object-segmentation/ECSSD/features/dino_vits16/0032.pth\n",
      "dict_keys(['k', 'indices', 'file', 'id', 'model_name', 'patch_size', 'shape'])\n",
      "0032\n",
      "Starting Training\n",
      "epoch: 00, loss: -0.04719\n",
      "epoch: 01, loss: -0.06942\n",
      "epoch: 02, loss: -0.07176\n",
      "epoch: 03, loss: -0.07034\n",
      "epoch: 04, loss: -0.07459\n",
      "epoch: 05, loss: -0.07539\n",
      "epoch: 06, loss: -0.07316\n",
      "epoch: 07, loss: -0.07535\n",
      "epoch: 08, loss: -0.07538\n",
      "epoch: 09, loss: -0.07631\n",
      "torch.Size([400, 64])\n"
     ]
    },
    {
     "name": "stderr",
     "output_type": "stream",
     "text": [
      "\r",
      "  3%|█████▏                                                                                                                                                            | 32/1000 [08:05<4:25:29, 16.46s/it]"
     ]
    },
    {
     "name": "stdout",
     "output_type": "stream",
     "text": [
      "eigenvalues shape torch.Size([5]) eigenvectors shape torch.Size([5, 400])\n",
      "32 /home/phdcs2/Hard_Disk/Datasets/Deep-Spectral-Segmentation/data/object-segmentation/ECSSD/features/dino_vits16/0033.pth\n",
      "dict_keys(['k', 'indices', 'file', 'id', 'model_name', 'patch_size', 'shape'])\n",
      "0033\n",
      "Starting Training\n",
      "epoch: 00, loss: 0.00671\n",
      "epoch: 01, loss: -0.01020\n",
      "epoch: 02, loss: -0.02080\n",
      "epoch: 03, loss: -0.02178\n",
      "epoch: 04, loss: -0.02521\n",
      "epoch: 05, loss: -0.02466\n",
      "epoch: 06, loss: -0.02923\n",
      "epoch: 07, loss: -0.02775\n",
      "epoch: 08, loss: -0.02592\n",
      "epoch: 09, loss: -0.02914\n",
      "torch.Size([400, 64])\n"
     ]
    },
    {
     "name": "stderr",
     "output_type": "stream",
     "text": [
      "\r",
      "  3%|█████▎                                                                                                                                                            | 33/1000 [08:25<4:40:56, 17.43s/it]"
     ]
    },
    {
     "name": "stdout",
     "output_type": "stream",
     "text": [
      "eigenvalues shape torch.Size([5]) eigenvectors shape torch.Size([5, 400])\n",
      "33 /home/phdcs2/Hard_Disk/Datasets/Deep-Spectral-Segmentation/data/object-segmentation/ECSSD/features/dino_vits16/0034.pth\n",
      "dict_keys(['k', 'indices', 'file', 'id', 'model_name', 'patch_size', 'shape'])\n",
      "0034\n",
      "Starting Training\n",
      "epoch: 00, loss: -0.05921\n",
      "epoch: 01, loss: -0.09167\n",
      "epoch: 02, loss: -0.09844\n",
      "epoch: 03, loss: -0.09799\n",
      "epoch: 04, loss: -0.10035\n",
      "epoch: 05, loss: -0.10183\n",
      "epoch: 06, loss: -0.10093\n",
      "epoch: 07, loss: -0.10092\n",
      "epoch: 08, loss: -0.10435\n",
      "epoch: 09, loss: -0.10366\n",
      "torch.Size([400, 64])\n"
     ]
    },
    {
     "name": "stderr",
     "output_type": "stream",
     "text": [
      "\r",
      "  3%|█████▌                                                                                                                                                            | 34/1000 [08:45<4:55:26, 18.35s/it]"
     ]
    },
    {
     "name": "stdout",
     "output_type": "stream",
     "text": [
      "eigenvalues shape torch.Size([5]) eigenvectors shape torch.Size([5, 400])\n",
      "34 /home/phdcs2/Hard_Disk/Datasets/Deep-Spectral-Segmentation/data/object-segmentation/ECSSD/features/dino_vits16/0035.pth\n",
      "dict_keys(['k', 'indices', 'file', 'id', 'model_name', 'patch_size', 'shape'])\n",
      "0035\n",
      "Starting Training\n",
      "epoch: 00, loss: -0.01032\n",
      "epoch: 01, loss: -0.04148\n",
      "epoch: 02, loss: -0.04536\n",
      "epoch: 03, loss: -0.04911\n",
      "epoch: 04, loss: -0.04926\n",
      "epoch: 05, loss: -0.05120\n",
      "epoch: 06, loss: -0.05218\n",
      "epoch: 07, loss: -0.05165\n",
      "epoch: 08, loss: -0.05107\n",
      "epoch: 09, loss: -0.05193\n",
      "torch.Size([400, 64])\n"
     ]
    },
    {
     "name": "stderr",
     "output_type": "stream",
     "text": [
      "\r",
      "  4%|█████▋                                                                                                                                                            | 35/1000 [09:04<4:56:32, 18.44s/it]"
     ]
    },
    {
     "name": "stdout",
     "output_type": "stream",
     "text": [
      "eigenvalues shape torch.Size([5]) eigenvectors shape torch.Size([5, 400])\n",
      "35 /home/phdcs2/Hard_Disk/Datasets/Deep-Spectral-Segmentation/data/object-segmentation/ECSSD/features/dino_vits16/0036.pth\n",
      "dict_keys(['k', 'indices', 'file', 'id', 'model_name', 'patch_size', 'shape'])\n",
      "0036\n",
      "Starting Training\n",
      "epoch: 00, loss: -0.02412\n",
      "epoch: 01, loss: -0.04313\n",
      "epoch: 02, loss: -0.04668\n",
      "epoch: 03, loss: -0.04789\n",
      "epoch: 04, loss: -0.04745\n",
      "epoch: 05, loss: -0.04848\n",
      "epoch: 06, loss: -0.04833\n",
      "epoch: 07, loss: -0.04804\n",
      "epoch: 08, loss: -0.04869\n",
      "epoch: 09, loss: -0.04921\n",
      "torch.Size([450, 64])\n"
     ]
    },
    {
     "name": "stderr",
     "output_type": "stream",
     "text": [
      "\r",
      "  4%|█████▊                                                                                                                                                            | 36/1000 [09:24<5:04:05, 18.93s/it]"
     ]
    },
    {
     "name": "stdout",
     "output_type": "stream",
     "text": [
      "eigenvalues shape torch.Size([5]) eigenvectors shape torch.Size([5, 450])\n",
      "36 /home/phdcs2/Hard_Disk/Datasets/Deep-Spectral-Segmentation/data/object-segmentation/ECSSD/features/dino_vits16/0037.pth\n",
      "dict_keys(['k', 'indices', 'file', 'id', 'model_name', 'patch_size', 'shape'])\n",
      "0037\n",
      "Starting Training\n",
      "epoch: 00, loss: -0.01783\n",
      "epoch: 01, loss: -0.03340\n",
      "epoch: 02, loss: -0.03554\n",
      "epoch: 03, loss: -0.03671\n",
      "epoch: 04, loss: -0.03728\n",
      "epoch: 05, loss: -0.03723\n",
      "epoch: 06, loss: -0.03737\n",
      "epoch: 07, loss: -0.03778\n",
      "epoch: 08, loss: -0.03787\n",
      "epoch: 09, loss: -0.03779\n",
      "torch.Size([450, 64])\n"
     ]
    },
    {
     "name": "stderr",
     "output_type": "stream",
     "text": [
      "\r",
      "  4%|█████▉                                                                                                                                                            | 37/1000 [09:44<5:06:31, 19.10s/it]"
     ]
    },
    {
     "name": "stdout",
     "output_type": "stream",
     "text": [
      "eigenvalues shape torch.Size([5]) eigenvectors shape torch.Size([5, 450])\n",
      "37 /home/phdcs2/Hard_Disk/Datasets/Deep-Spectral-Segmentation/data/object-segmentation/ECSSD/features/dino_vits16/0038.pth\n",
      "dict_keys(['k', 'indices', 'file', 'id', 'model_name', 'patch_size', 'shape'])\n",
      "0038\n",
      "Starting Training\n",
      "epoch: 00, loss: -0.02722\n",
      "epoch: 01, loss: -0.04606\n",
      "epoch: 02, loss: -0.04823\n",
      "epoch: 03, loss: -0.04863\n",
      "epoch: 04, loss: -0.04899\n",
      "epoch: 05, loss: -0.04923\n",
      "epoch: 06, loss: -0.04943\n",
      "epoch: 07, loss: -0.04958\n",
      "epoch: 08, loss: -0.04972\n",
      "epoch: 09, loss: -0.04984\n",
      "torch.Size([400, 64])\n"
     ]
    },
    {
     "name": "stderr",
     "output_type": "stream",
     "text": [
      "\r",
      "  4%|██████▏                                                                                                                                                           | 38/1000 [10:01<4:55:53, 18.45s/it]"
     ]
    },
    {
     "name": "stdout",
     "output_type": "stream",
     "text": [
      "eigenvalues shape torch.Size([5]) eigenvectors shape torch.Size([5, 400])\n",
      "38 /home/phdcs2/Hard_Disk/Datasets/Deep-Spectral-Segmentation/data/object-segmentation/ECSSD/features/dino_vits16/0039.pth\n",
      "dict_keys(['k', 'indices', 'file', 'id', 'model_name', 'patch_size', 'shape'])\n",
      "0039\n",
      "Starting Training\n",
      "epoch: 00, loss: -0.03769\n",
      "epoch: 01, loss: -0.06649\n",
      "epoch: 02, loss: -0.06886\n",
      "epoch: 03, loss: -0.07345\n",
      "epoch: 04, loss: -0.07221\n",
      "epoch: 05, loss: -0.07290\n",
      "epoch: 06, loss: -0.07397\n",
      "epoch: 07, loss: -0.07315\n",
      "epoch: 08, loss: -0.07382\n",
      "epoch: 09, loss: -0.07639\n",
      "torch.Size([400, 64])\n"
     ]
    },
    {
     "name": "stderr",
     "output_type": "stream",
     "text": [
      "\r",
      "  4%|██████▎                                                                                                                                                           | 39/1000 [10:19<4:55:17, 18.44s/it]"
     ]
    },
    {
     "name": "stdout",
     "output_type": "stream",
     "text": [
      "eigenvalues shape torch.Size([5]) eigenvectors shape torch.Size([5, 400])\n",
      "39 /home/phdcs2/Hard_Disk/Datasets/Deep-Spectral-Segmentation/data/object-segmentation/ECSSD/features/dino_vits16/0040.pth\n",
      "dict_keys(['k', 'indices', 'file', 'id', 'model_name', 'patch_size', 'shape'])\n",
      "0040\n",
      "Starting Training\n",
      "epoch: 00, loss: -0.08258\n",
      "epoch: 01, loss: -0.11500\n",
      "epoch: 02, loss: -0.11904\n",
      "epoch: 03, loss: -0.12122\n",
      "epoch: 04, loss: -0.12067\n",
      "epoch: 05, loss: -0.12150\n",
      "epoch: 06, loss: -0.12362\n",
      "epoch: 07, loss: -0.12479\n",
      "epoch: 08, loss: -0.12257\n",
      "epoch: 09, loss: -0.12422\n",
      "torch.Size([400, 64])\n"
     ]
    },
    {
     "name": "stderr",
     "output_type": "stream",
     "text": [
      "\r",
      "  4%|██████▍                                                                                                                                                           | 40/1000 [10:41<5:10:02, 19.38s/it]"
     ]
    },
    {
     "name": "stdout",
     "output_type": "stream",
     "text": [
      "eigenvalues shape torch.Size([5]) eigenvectors shape torch.Size([5, 400])\n",
      "40 /home/phdcs2/Hard_Disk/Datasets/Deep-Spectral-Segmentation/data/object-segmentation/ECSSD/features/dino_vits16/0041.pth\n",
      "dict_keys(['k', 'indices', 'file', 'id', 'model_name', 'patch_size', 'shape'])\n",
      "0041\n",
      "Starting Training\n",
      "epoch: 00, loss: -0.01063\n",
      "epoch: 01, loss: -0.04055\n",
      "epoch: 02, loss: -0.04330\n",
      "epoch: 03, loss: -0.04651\n",
      "epoch: 04, loss: -0.04725\n",
      "epoch: 05, loss: -0.04673\n",
      "epoch: 06, loss: -0.04927\n",
      "epoch: 07, loss: -0.04638\n",
      "epoch: 08, loss: -0.05008\n",
      "epoch: 09, loss: -0.04897\n",
      "torch.Size([450, 64])\n"
     ]
    },
    {
     "name": "stderr",
     "output_type": "stream",
     "text": [
      "\r",
      "  4%|██████▋                                                                                                                                                           | 41/1000 [11:00<5:10:08, 19.40s/it]"
     ]
    },
    {
     "name": "stdout",
     "output_type": "stream",
     "text": [
      "eigenvalues shape torch.Size([5]) eigenvectors shape torch.Size([5, 450])\n",
      "41 /home/phdcs2/Hard_Disk/Datasets/Deep-Spectral-Segmentation/data/object-segmentation/ECSSD/features/dino_vits16/0042.pth\n",
      "dict_keys(['k', 'indices', 'file', 'id', 'model_name', 'patch_size', 'shape'])\n",
      "0042\n",
      "Starting Training\n",
      "epoch: 00, loss: -0.01508\n",
      "epoch: 01, loss: -0.03225\n",
      "epoch: 02, loss: -0.04081\n",
      "epoch: 03, loss: -0.04343\n",
      "epoch: 04, loss: -0.04099\n",
      "epoch: 05, loss: -0.04050\n",
      "epoch: 06, loss: -0.04340\n",
      "epoch: 07, loss: -0.04720\n",
      "epoch: 08, loss: -0.04402\n",
      "epoch: 09, loss: -0.04517\n",
      "torch.Size([400, 64])\n"
     ]
    },
    {
     "name": "stderr",
     "output_type": "stream",
     "text": [
      "\r",
      "  4%|██████▊                                                                                                                                                           | 42/1000 [11:20<5:10:22, 19.44s/it]"
     ]
    },
    {
     "name": "stdout",
     "output_type": "stream",
     "text": [
      "eigenvalues shape torch.Size([5]) eigenvectors shape torch.Size([5, 400])\n",
      "42 /home/phdcs2/Hard_Disk/Datasets/Deep-Spectral-Segmentation/data/object-segmentation/ECSSD/features/dino_vits16/0043.pth\n",
      "dict_keys(['k', 'indices', 'file', 'id', 'model_name', 'patch_size', 'shape'])\n",
      "0043\n",
      "Starting Training\n",
      "epoch: 00, loss: -0.02929\n",
      "epoch: 01, loss: -0.05188\n",
      "epoch: 02, loss: -0.05367\n",
      "epoch: 03, loss: -0.05428\n",
      "epoch: 04, loss: -0.05465\n",
      "epoch: 05, loss: -0.05504\n",
      "epoch: 06, loss: -0.05511\n",
      "epoch: 07, loss: -0.05511\n",
      "epoch: 08, loss: -0.05524\n",
      "epoch: 09, loss: -0.05528\n",
      "torch.Size([450, 64])\n"
     ]
    },
    {
     "name": "stderr",
     "output_type": "stream",
     "text": [
      "\r",
      "  4%|██████▉                                                                                                                                                           | 43/1000 [11:42<5:24:58, 20.37s/it]"
     ]
    },
    {
     "name": "stdout",
     "output_type": "stream",
     "text": [
      "eigenvalues shape torch.Size([5]) eigenvectors shape torch.Size([5, 450])\n",
      "43 /home/phdcs2/Hard_Disk/Datasets/Deep-Spectral-Segmentation/data/object-segmentation/ECSSD/features/dino_vits16/0044.pth\n",
      "dict_keys(['k', 'indices', 'file', 'id', 'model_name', 'patch_size', 'shape'])\n",
      "0044\n",
      "Starting Training\n",
      "epoch: 00, loss: -0.00667\n",
      "epoch: 01, loss: -0.03305\n",
      "epoch: 02, loss: -0.03918\n",
      "epoch: 03, loss: -0.04117\n",
      "epoch: 04, loss: -0.04104\n",
      "epoch: 05, loss: -0.04091\n",
      "epoch: 06, loss: -0.04033\n",
      "epoch: 07, loss: -0.04378\n",
      "epoch: 08, loss: -0.04343\n",
      "epoch: 09, loss: -0.04535\n",
      "torch.Size([525, 64])\n"
     ]
    },
    {
     "name": "stderr",
     "output_type": "stream",
     "text": [
      "\r",
      "  4%|███████▏                                                                                                                                                          | 44/1000 [12:08<5:51:46, 22.08s/it]"
     ]
    },
    {
     "name": "stdout",
     "output_type": "stream",
     "text": [
      "eigenvalues shape torch.Size([5]) eigenvectors shape torch.Size([5, 525])\n",
      "44 /home/phdcs2/Hard_Disk/Datasets/Deep-Spectral-Segmentation/data/object-segmentation/ECSSD/features/dino_vits16/0045.pth\n",
      "dict_keys(['k', 'indices', 'file', 'id', 'model_name', 'patch_size', 'shape'])\n",
      "0045\n",
      "Starting Training\n",
      "epoch: 00, loss: -0.03649\n",
      "epoch: 01, loss: -0.05666\n",
      "epoch: 02, loss: -0.05697\n",
      "epoch: 03, loss: -0.05774\n",
      "epoch: 04, loss: -0.05801\n",
      "epoch: 05, loss: -0.05831\n",
      "epoch: 06, loss: -0.05842\n",
      "epoch: 07, loss: -0.05855\n",
      "epoch: 08, loss: -0.05852\n",
      "epoch: 09, loss: -0.05882\n",
      "torch.Size([450, 64])\n"
     ]
    },
    {
     "name": "stderr",
     "output_type": "stream",
     "text": [
      "\r",
      "  4%|███████▎                                                                                                                                                          | 45/1000 [12:27<5:37:26, 21.20s/it]"
     ]
    },
    {
     "name": "stdout",
     "output_type": "stream",
     "text": [
      "eigenvalues shape torch.Size([5]) eigenvectors shape torch.Size([5, 450])\n",
      "45 /home/phdcs2/Hard_Disk/Datasets/Deep-Spectral-Segmentation/data/object-segmentation/ECSSD/features/dino_vits16/0046.pth\n",
      "dict_keys(['k', 'indices', 'file', 'id', 'model_name', 'patch_size', 'shape'])\n",
      "0046\n",
      "Starting Training\n",
      "epoch: 00, loss: -0.07372\n",
      "epoch: 01, loss: -0.09267\n",
      "epoch: 02, loss: -0.09794\n",
      "epoch: 03, loss: -0.09892\n",
      "epoch: 04, loss: -0.09761\n",
      "epoch: 05, loss: -0.09949\n",
      "epoch: 06, loss: -0.09944\n",
      "epoch: 07, loss: -0.09887\n",
      "epoch: 08, loss: -0.10115\n",
      "epoch: 09, loss: -0.09942\n",
      "torch.Size([450, 64])\n"
     ]
    },
    {
     "name": "stderr",
     "output_type": "stream",
     "text": [
      "\r",
      "  5%|███████▍                                                                                                                                                          | 46/1000 [12:46<5:24:54, 20.43s/it]"
     ]
    },
    {
     "name": "stdout",
     "output_type": "stream",
     "text": [
      "eigenvalues shape torch.Size([5]) eigenvectors shape torch.Size([5, 450])\n",
      "46 /home/phdcs2/Hard_Disk/Datasets/Deep-Spectral-Segmentation/data/object-segmentation/ECSSD/features/dino_vits16/0047.pth\n",
      "dict_keys(['k', 'indices', 'file', 'id', 'model_name', 'patch_size', 'shape'])\n",
      "0047\n",
      "Starting Training\n",
      "epoch: 00, loss: -0.05149\n",
      "epoch: 01, loss: -0.07028\n",
      "epoch: 02, loss: -0.07137\n",
      "epoch: 03, loss: -0.07319\n",
      "epoch: 04, loss: -0.07260\n",
      "epoch: 05, loss: -0.07262\n",
      "epoch: 06, loss: -0.07314\n",
      "epoch: 07, loss: -0.07379\n",
      "epoch: 08, loss: -0.07364\n",
      "epoch: 09, loss: -0.07341\n",
      "torch.Size([400, 64])\n"
     ]
    },
    {
     "name": "stderr",
     "output_type": "stream",
     "text": [
      "\r",
      "  5%|███████▌                                                                                                                                                          | 47/1000 [13:05<5:19:20, 20.11s/it]"
     ]
    },
    {
     "name": "stdout",
     "output_type": "stream",
     "text": [
      "eigenvalues shape torch.Size([5]) eigenvectors shape torch.Size([5, 400])\n",
      "47 /home/phdcs2/Hard_Disk/Datasets/Deep-Spectral-Segmentation/data/object-segmentation/ECSSD/features/dino_vits16/0048.pth\n",
      "dict_keys(['k', 'indices', 'file', 'id', 'model_name', 'patch_size', 'shape'])\n",
      "0048\n",
      "Starting Training\n",
      "epoch: 00, loss: -0.05003\n",
      "epoch: 01, loss: -0.07861\n",
      "epoch: 02, loss: -0.07826\n",
      "epoch: 03, loss: -0.08319\n",
      "epoch: 04, loss: -0.08151\n",
      "epoch: 05, loss: -0.08361\n",
      "epoch: 06, loss: -0.08411\n",
      "epoch: 07, loss: -0.08514\n",
      "epoch: 08, loss: -0.08458\n",
      "epoch: 09, loss: -0.08485\n",
      "torch.Size([450, 64])\n"
     ]
    },
    {
     "name": "stderr",
     "output_type": "stream",
     "text": [
      "\r",
      "  5%|███████▊                                                                                                                                                          | 48/1000 [13:30<5:40:43, 21.47s/it]"
     ]
    },
    {
     "name": "stdout",
     "output_type": "stream",
     "text": [
      "eigenvalues shape torch.Size([5]) eigenvectors shape torch.Size([5, 450])\n",
      "48 /home/phdcs2/Hard_Disk/Datasets/Deep-Spectral-Segmentation/data/object-segmentation/ECSSD/features/dino_vits16/0049.pth\n",
      "dict_keys(['k', 'indices', 'file', 'id', 'model_name', 'patch_size', 'shape'])\n",
      "0049\n",
      "Starting Training\n",
      "epoch: 00, loss: -0.08420\n",
      "epoch: 01, loss: -0.12300\n",
      "epoch: 02, loss: -0.12597\n",
      "epoch: 03, loss: -0.12893\n",
      "epoch: 04, loss: -0.12703\n",
      "epoch: 05, loss: -0.12927\n",
      "epoch: 06, loss: -0.13002\n",
      "epoch: 07, loss: -0.13160\n",
      "epoch: 08, loss: -0.13309\n",
      "epoch: 09, loss: -0.13333\n",
      "torch.Size([450, 64])\n"
     ]
    },
    {
     "name": "stderr",
     "output_type": "stream",
     "text": [
      "\r",
      "  5%|███████▉                                                                                                                                                          | 49/1000 [13:58<6:12:17, 23.49s/it]"
     ]
    },
    {
     "name": "stdout",
     "output_type": "stream",
     "text": [
      "eigenvalues shape torch.Size([5]) eigenvectors shape torch.Size([5, 450])\n",
      "49 /home/phdcs2/Hard_Disk/Datasets/Deep-Spectral-Segmentation/data/object-segmentation/ECSSD/features/dino_vits16/0050.pth\n",
      "dict_keys(['k', 'indices', 'file', 'id', 'model_name', 'patch_size', 'shape'])\n",
      "0050\n",
      "Starting Training\n",
      "epoch: 00, loss: -0.03063\n",
      "epoch: 01, loss: -0.05043\n",
      "epoch: 02, loss: -0.05237\n",
      "epoch: 03, loss: -0.05299\n",
      "epoch: 04, loss: -0.05476\n",
      "epoch: 05, loss: -0.05560\n",
      "epoch: 06, loss: -0.05531\n",
      "epoch: 07, loss: -0.05622\n",
      "epoch: 08, loss: -0.05541\n",
      "epoch: 09, loss: -0.05604\n",
      "torch.Size([400, 64])\n"
     ]
    },
    {
     "name": "stderr",
     "output_type": "stream",
     "text": [
      "\r",
      "  5%|████████                                                                                                                                                          | 50/1000 [14:20<6:06:11, 23.13s/it]"
     ]
    },
    {
     "name": "stdout",
     "output_type": "stream",
     "text": [
      "eigenvalues shape torch.Size([5]) eigenvectors shape torch.Size([5, 400])\n",
      "50 /home/phdcs2/Hard_Disk/Datasets/Deep-Spectral-Segmentation/data/object-segmentation/ECSSD/features/dino_vits16/0051.pth\n",
      "dict_keys(['k', 'indices', 'file', 'id', 'model_name', 'patch_size', 'shape'])\n",
      "0051\n",
      "Starting Training\n",
      "epoch: 00, loss: -0.08586\n",
      "epoch: 01, loss: -0.11409\n",
      "epoch: 02, loss: -0.11441\n",
      "epoch: 03, loss: -0.11561\n",
      "epoch: 04, loss: -0.11729\n",
      "epoch: 05, loss: -0.11632\n",
      "epoch: 06, loss: -0.11775\n",
      "epoch: 07, loss: -0.11898\n",
      "epoch: 08, loss: -0.11816\n",
      "epoch: 09, loss: -0.11773\n",
      "torch.Size([450, 64])\n"
     ]
    },
    {
     "name": "stderr",
     "output_type": "stream",
     "text": [
      "\r",
      "  5%|████████▎                                                                                                                                                         | 51/1000 [14:45<6:12:52, 23.58s/it]"
     ]
    },
    {
     "name": "stdout",
     "output_type": "stream",
     "text": [
      "eigenvalues shape torch.Size([5]) eigenvectors shape torch.Size([5, 450])\n",
      "51 /home/phdcs2/Hard_Disk/Datasets/Deep-Spectral-Segmentation/data/object-segmentation/ECSSD/features/dino_vits16/0052.pth\n",
      "dict_keys(['k', 'indices', 'file', 'id', 'model_name', 'patch_size', 'shape'])\n",
      "0052\n",
      "Starting Training\n",
      "epoch: 00, loss: -0.05372\n",
      "epoch: 01, loss: -0.07469\n",
      "epoch: 02, loss: -0.07558\n",
      "epoch: 03, loss: -0.07599\n",
      "epoch: 04, loss: -0.07630\n",
      "epoch: 05, loss: -0.07643\n",
      "epoch: 06, loss: -0.07659\n",
      "epoch: 07, loss: -0.07668\n",
      "epoch: 08, loss: -0.07672\n",
      "epoch: 09, loss: -0.07700\n",
      "torch.Size([450, 64])\n"
     ]
    },
    {
     "name": "stderr",
     "output_type": "stream",
     "text": [
      "\r",
      "  5%|████████▍                                                                                                                                                         | 52/1000 [15:10<6:19:26, 24.02s/it]"
     ]
    },
    {
     "name": "stdout",
     "output_type": "stream",
     "text": [
      "eigenvalues shape torch.Size([5]) eigenvectors shape torch.Size([5, 450])\n",
      "52 /home/phdcs2/Hard_Disk/Datasets/Deep-Spectral-Segmentation/data/object-segmentation/ECSSD/features/dino_vits16/0053.pth\n",
      "dict_keys(['k', 'indices', 'file', 'id', 'model_name', 'patch_size', 'shape'])\n",
      "0053\n",
      "Starting Training\n",
      "epoch: 00, loss: -0.01525\n",
      "epoch: 01, loss: -0.03005\n",
      "epoch: 02, loss: -0.04084\n",
      "epoch: 03, loss: -0.04296\n",
      "epoch: 04, loss: -0.04178\n",
      "epoch: 05, loss: -0.04252\n",
      "epoch: 06, loss: -0.04288\n",
      "epoch: 07, loss: -0.04443\n",
      "epoch: 08, loss: -0.04747\n",
      "epoch: 09, loss: -0.04693\n",
      "torch.Size([375, 64])\n"
     ]
    },
    {
     "name": "stderr",
     "output_type": "stream",
     "text": [
      "\r",
      "  5%|████████▌                                                                                                                                                         | 53/1000 [15:32<6:10:58, 23.50s/it]"
     ]
    },
    {
     "name": "stdout",
     "output_type": "stream",
     "text": [
      "eigenvalues shape torch.Size([5]) eigenvectors shape torch.Size([5, 375])\n",
      "53 /home/phdcs2/Hard_Disk/Datasets/Deep-Spectral-Segmentation/data/object-segmentation/ECSSD/features/dino_vits16/0054.pth\n",
      "dict_keys(['k', 'indices', 'file', 'id', 'model_name', 'patch_size', 'shape'])\n",
      "0054\n",
      "Starting Training\n",
      "epoch: 00, loss: -0.10775\n",
      "epoch: 01, loss: -0.14510\n",
      "epoch: 02, loss: -0.14519\n",
      "epoch: 03, loss: -0.14642\n",
      "epoch: 04, loss: -0.15126\n",
      "epoch: 05, loss: -0.15244\n",
      "epoch: 06, loss: -0.15714\n",
      "epoch: 07, loss: -0.15718\n",
      "epoch: 08, loss: -0.15636\n",
      "epoch: 09, loss: -0.15820\n",
      "torch.Size([450, 64])\n"
     ]
    },
    {
     "name": "stderr",
     "output_type": "stream",
     "text": [
      "\r",
      "  5%|████████▋                                                                                                                                                         | 54/1000 [16:08<7:09:19, 27.23s/it]"
     ]
    },
    {
     "name": "stdout",
     "output_type": "stream",
     "text": [
      "eigenvalues shape torch.Size([5]) eigenvectors shape torch.Size([5, 450])\n",
      "54 /home/phdcs2/Hard_Disk/Datasets/Deep-Spectral-Segmentation/data/object-segmentation/ECSSD/features/dino_vits16/0055.pth\n",
      "dict_keys(['k', 'indices', 'file', 'id', 'model_name', 'patch_size', 'shape'])\n",
      "0055\n",
      "Starting Training\n",
      "epoch: 00, loss: -0.08327\n",
      "epoch: 01, loss: -0.09853\n",
      "epoch: 02, loss: -0.10173\n",
      "epoch: 03, loss: -0.10037\n",
      "epoch: 04, loss: -0.10222\n",
      "epoch: 05, loss: -0.10207\n",
      "epoch: 06, loss: -0.10119\n",
      "epoch: 07, loss: -0.10147\n",
      "epoch: 08, loss: -0.10138\n",
      "epoch: 09, loss: -0.10150\n",
      "torch.Size([450, 64])\n"
     ]
    },
    {
     "name": "stderr",
     "output_type": "stream",
     "text": [
      "\r",
      "  6%|████████▉                                                                                                                                                         | 55/1000 [16:34<7:02:37, 26.83s/it]"
     ]
    },
    {
     "name": "stdout",
     "output_type": "stream",
     "text": [
      "eigenvalues shape torch.Size([5]) eigenvectors shape torch.Size([5, 450])\n",
      "55 /home/phdcs2/Hard_Disk/Datasets/Deep-Spectral-Segmentation/data/object-segmentation/ECSSD/features/dino_vits16/0056.pth\n",
      "dict_keys(['k', 'indices', 'file', 'id', 'model_name', 'patch_size', 'shape'])\n",
      "0056\n",
      "Starting Training\n",
      "epoch: 00, loss: -0.01799\n",
      "epoch: 01, loss: -0.03474\n",
      "epoch: 02, loss: -0.03718\n",
      "epoch: 03, loss: -0.03808\n",
      "epoch: 04, loss: -0.03852\n",
      "epoch: 05, loss: -0.03880\n",
      "epoch: 06, loss: -0.03905\n",
      "epoch: 07, loss: -0.03907\n",
      "epoch: 08, loss: -0.03920\n",
      "epoch: 09, loss: -0.03948\n",
      "torch.Size([400, 64])\n"
     ]
    },
    {
     "name": "stderr",
     "output_type": "stream",
     "text": [
      "\r",
      "  6%|█████████                                                                                                                                                         | 56/1000 [16:56<6:39:28, 25.39s/it]"
     ]
    },
    {
     "name": "stdout",
     "output_type": "stream",
     "text": [
      "eigenvalues shape torch.Size([5]) eigenvectors shape torch.Size([5, 400])\n",
      "56 /home/phdcs2/Hard_Disk/Datasets/Deep-Spectral-Segmentation/data/object-segmentation/ECSSD/features/dino_vits16/0057.pth\n",
      "dict_keys(['k', 'indices', 'file', 'id', 'model_name', 'patch_size', 'shape'])\n",
      "0057\n",
      "Starting Training\n",
      "epoch: 00, loss: -0.02925\n",
      "epoch: 01, loss: -0.06076\n",
      "epoch: 02, loss: -0.06782\n",
      "epoch: 03, loss: -0.06687\n",
      "epoch: 04, loss: -0.06897\n",
      "epoch: 05, loss: -0.07043\n",
      "epoch: 06, loss: -0.06866\n",
      "epoch: 07, loss: -0.06867\n",
      "epoch: 08, loss: -0.07000\n",
      "epoch: 09, loss: -0.06919\n",
      "torch.Size([400, 64])\n"
     ]
    },
    {
     "name": "stderr",
     "output_type": "stream",
     "text": [
      "\r",
      "  6%|█████████▏                                                                                                                                                        | 57/1000 [17:18<6:20:49, 24.23s/it]"
     ]
    },
    {
     "name": "stdout",
     "output_type": "stream",
     "text": [
      "eigenvalues shape torch.Size([5]) eigenvectors shape torch.Size([5, 400])\n",
      "57 /home/phdcs2/Hard_Disk/Datasets/Deep-Spectral-Segmentation/data/object-segmentation/ECSSD/features/dino_vits16/0058.pth\n",
      "dict_keys(['k', 'indices', 'file', 'id', 'model_name', 'patch_size', 'shape'])\n",
      "0058\n",
      "Starting Training\n",
      "epoch: 00, loss: -0.02819\n",
      "epoch: 01, loss: -0.05770\n",
      "epoch: 02, loss: -0.06459\n",
      "epoch: 03, loss: -0.06444\n",
      "epoch: 04, loss: -0.06673\n",
      "epoch: 05, loss: -0.06751\n",
      "epoch: 06, loss: -0.06765\n",
      "epoch: 07, loss: -0.06738\n",
      "epoch: 08, loss: -0.06860\n",
      "epoch: 09, loss: -0.06681\n",
      "torch.Size([425, 64])\n"
     ]
    },
    {
     "name": "stderr",
     "output_type": "stream",
     "text": [
      "\r",
      "  6%|█████████▍                                                                                                                                                        | 58/1000 [17:44<6:29:21, 24.80s/it]"
     ]
    },
    {
     "name": "stdout",
     "output_type": "stream",
     "text": [
      "eigenvalues shape torch.Size([5]) eigenvectors shape torch.Size([5, 425])\n",
      "58 /home/phdcs2/Hard_Disk/Datasets/Deep-Spectral-Segmentation/data/object-segmentation/ECSSD/features/dino_vits16/0059.pth\n",
      "dict_keys(['k', 'indices', 'file', 'id', 'model_name', 'patch_size', 'shape'])\n",
      "0059\n",
      "Starting Training\n",
      "epoch: 00, loss: -0.04269\n",
      "epoch: 01, loss: -0.06233\n",
      "epoch: 02, loss: -0.06341\n",
      "epoch: 03, loss: -0.06396\n",
      "epoch: 04, loss: -0.06383\n",
      "epoch: 05, loss: -0.06421\n",
      "epoch: 06, loss: -0.06411\n",
      "epoch: 07, loss: -0.06442\n",
      "epoch: 08, loss: -0.06443\n",
      "epoch: 09, loss: -0.06450\n",
      "torch.Size([450, 64])\n"
     ]
    },
    {
     "name": "stderr",
     "output_type": "stream",
     "text": [
      "\r",
      "  6%|█████████▌                                                                                                                                                        | 59/1000 [18:09<6:28:57, 24.80s/it]"
     ]
    },
    {
     "name": "stdout",
     "output_type": "stream",
     "text": [
      "eigenvalues shape torch.Size([5]) eigenvectors shape torch.Size([5, 450])\n",
      "59 /home/phdcs2/Hard_Disk/Datasets/Deep-Spectral-Segmentation/data/object-segmentation/ECSSD/features/dino_vits16/0060.pth\n",
      "dict_keys(['k', 'indices', 'file', 'id', 'model_name', 'patch_size', 'shape'])\n",
      "0060\n",
      "Starting Training\n",
      "epoch: 00, loss: -0.09575\n",
      "epoch: 01, loss: -0.11870\n",
      "epoch: 02, loss: -0.12105\n",
      "epoch: 03, loss: -0.12097\n",
      "epoch: 04, loss: -0.12301\n",
      "epoch: 05, loss: -0.12275\n",
      "epoch: 06, loss: -0.12302\n",
      "epoch: 07, loss: -0.12446\n",
      "epoch: 08, loss: -0.12421\n",
      "epoch: 09, loss: -0.12416\n",
      "torch.Size([400, 64])\n"
     ]
    },
    {
     "name": "stderr",
     "output_type": "stream",
     "text": [
      "\r",
      "  6%|█████████▋                                                                                                                                                        | 60/1000 [18:31<6:17:50, 24.12s/it]"
     ]
    },
    {
     "name": "stdout",
     "output_type": "stream",
     "text": [
      "eigenvalues shape torch.Size([5]) eigenvectors shape torch.Size([5, 400])\n",
      "60 /home/phdcs2/Hard_Disk/Datasets/Deep-Spectral-Segmentation/data/object-segmentation/ECSSD/features/dino_vits16/0061.pth\n",
      "dict_keys(['k', 'indices', 'file', 'id', 'model_name', 'patch_size', 'shape'])\n",
      "0061\n",
      "Starting Training\n",
      "epoch: 00, loss: -0.03020\n",
      "epoch: 01, loss: -0.05795\n",
      "epoch: 02, loss: -0.06038\n",
      "epoch: 03, loss: -0.06003\n",
      "epoch: 04, loss: -0.05967\n",
      "epoch: 05, loss: -0.06145\n",
      "epoch: 06, loss: -0.05994\n",
      "epoch: 07, loss: -0.06186\n",
      "epoch: 08, loss: -0.06196\n",
      "epoch: 09, loss: -0.06047\n",
      "torch.Size([425, 64])\n"
     ]
    },
    {
     "name": "stderr",
     "output_type": "stream",
     "text": [
      "\r",
      "  6%|█████████▉                                                                                                                                                        | 61/1000 [18:56<6:19:13, 24.23s/it]"
     ]
    },
    {
     "name": "stdout",
     "output_type": "stream",
     "text": [
      "eigenvalues shape torch.Size([5]) eigenvectors shape torch.Size([5, 425])\n",
      "61 /home/phdcs2/Hard_Disk/Datasets/Deep-Spectral-Segmentation/data/object-segmentation/ECSSD/features/dino_vits16/0062.pth\n",
      "dict_keys(['k', 'indices', 'file', 'id', 'model_name', 'patch_size', 'shape'])\n",
      "0062\n",
      "Starting Training\n",
      "epoch: 00, loss: -0.02118\n",
      "epoch: 01, loss: -0.04293\n",
      "epoch: 02, loss: -0.04599\n",
      "epoch: 03, loss: -0.04555\n",
      "epoch: 04, loss: -0.04693\n",
      "epoch: 05, loss: -0.04686\n",
      "epoch: 06, loss: -0.04629\n",
      "epoch: 07, loss: -0.04634\n",
      "epoch: 08, loss: -0.04693\n",
      "epoch: 09, loss: -0.04645\n",
      "torch.Size([425, 64])\n"
     ]
    },
    {
     "name": "stderr",
     "output_type": "stream",
     "text": [
      "\r",
      "  6%|██████████                                                                                                                                                        | 62/1000 [19:20<6:18:59, 24.24s/it]"
     ]
    },
    {
     "name": "stdout",
     "output_type": "stream",
     "text": [
      "eigenvalues shape torch.Size([5]) eigenvectors shape torch.Size([5, 425])\n",
      "62 /home/phdcs2/Hard_Disk/Datasets/Deep-Spectral-Segmentation/data/object-segmentation/ECSSD/features/dino_vits16/0063.pth\n",
      "dict_keys(['k', 'indices', 'file', 'id', 'model_name', 'patch_size', 'shape'])\n",
      "0063\n",
      "Starting Training\n",
      "epoch: 00, loss: -0.05170\n",
      "epoch: 01, loss: -0.08609\n",
      "epoch: 02, loss: -0.08891\n",
      "epoch: 03, loss: -0.08844\n",
      "epoch: 04, loss: -0.09014\n",
      "epoch: 05, loss: -0.09019\n",
      "epoch: 06, loss: -0.09207\n",
      "epoch: 07, loss: -0.09166\n",
      "epoch: 08, loss: -0.09212\n",
      "epoch: 09, loss: -0.09029\n",
      "torch.Size([400, 64])\n"
     ]
    },
    {
     "name": "stderr",
     "output_type": "stream",
     "text": [
      "\r",
      "  6%|██████████▏                                                                                                                                                       | 63/1000 [19:43<6:14:42, 23.99s/it]"
     ]
    },
    {
     "name": "stdout",
     "output_type": "stream",
     "text": [
      "eigenvalues shape torch.Size([5]) eigenvectors shape torch.Size([5, 400])\n",
      "63 /home/phdcs2/Hard_Disk/Datasets/Deep-Spectral-Segmentation/data/object-segmentation/ECSSD/features/dino_vits16/0064.pth\n",
      "dict_keys(['k', 'indices', 'file', 'id', 'model_name', 'patch_size', 'shape'])\n",
      "0064\n",
      "Starting Training\n",
      "epoch: 00, loss: -0.07234\n",
      "epoch: 01, loss: -0.10056\n",
      "epoch: 02, loss: -0.10604\n",
      "epoch: 03, loss: -0.10534\n",
      "epoch: 04, loss: -0.10934\n",
      "epoch: 05, loss: -0.10907\n",
      "epoch: 06, loss: -0.10865\n",
      "epoch: 07, loss: -0.10933\n",
      "epoch: 08, loss: -0.11002\n",
      "epoch: 09, loss: -0.10979\n",
      "torch.Size([400, 64])\n"
     ]
    },
    {
     "name": "stderr",
     "output_type": "stream",
     "text": [
      "\r",
      "  6%|██████████▎                                                                                                                                                       | 64/1000 [20:08<6:15:36, 24.08s/it]"
     ]
    },
    {
     "name": "stdout",
     "output_type": "stream",
     "text": [
      "eigenvalues shape torch.Size([5]) eigenvectors shape torch.Size([5, 400])\n",
      "64 /home/phdcs2/Hard_Disk/Datasets/Deep-Spectral-Segmentation/data/object-segmentation/ECSSD/features/dino_vits16/0065.pth\n",
      "dict_keys(['k', 'indices', 'file', 'id', 'model_name', 'patch_size', 'shape'])\n",
      "0065\n",
      "Starting Training\n",
      "epoch: 00, loss: -0.02180\n",
      "epoch: 01, loss: -0.04212\n",
      "epoch: 02, loss: -0.04416\n",
      "epoch: 03, loss: -0.04739\n",
      "epoch: 04, loss: -0.04899\n",
      "epoch: 05, loss: -0.05128\n",
      "epoch: 06, loss: -0.05007\n",
      "epoch: 07, loss: -0.04786\n",
      "epoch: 08, loss: -0.04906\n",
      "epoch: 09, loss: -0.05122\n",
      "torch.Size([450, 64])\n"
     ]
    },
    {
     "name": "stderr",
     "output_type": "stream",
     "text": [
      "\r",
      "  6%|██████████▌                                                                                                                                                       | 65/1000 [20:39<6:46:25, 26.08s/it]"
     ]
    },
    {
     "name": "stdout",
     "output_type": "stream",
     "text": [
      "eigenvalues shape torch.Size([5]) eigenvectors shape torch.Size([5, 450])\n",
      "65 /home/phdcs2/Hard_Disk/Datasets/Deep-Spectral-Segmentation/data/object-segmentation/ECSSD/features/dino_vits16/0066.pth\n",
      "dict_keys(['k', 'indices', 'file', 'id', 'model_name', 'patch_size', 'shape'])\n",
      "0066\n",
      "Starting Training\n",
      "epoch: 00, loss: -0.02304\n",
      "epoch: 01, loss: -0.04279\n",
      "epoch: 02, loss: -0.04459\n",
      "epoch: 03, loss: -0.04523\n",
      "epoch: 04, loss: -0.04578\n",
      "epoch: 05, loss: -0.04531\n",
      "epoch: 06, loss: -0.04599\n",
      "epoch: 07, loss: -0.04627\n",
      "epoch: 08, loss: -0.04655\n",
      "epoch: 09, loss: -0.04620\n",
      "torch.Size([400, 64])\n"
     ]
    },
    {
     "name": "stderr",
     "output_type": "stream",
     "text": [
      "\r",
      "  7%|██████████▋                                                                                                                                                       | 66/1000 [21:06<6:54:26, 26.62s/it]"
     ]
    },
    {
     "name": "stdout",
     "output_type": "stream",
     "text": [
      "eigenvalues shape torch.Size([5]) eigenvectors shape torch.Size([5, 400])\n",
      "66 /home/phdcs2/Hard_Disk/Datasets/Deep-Spectral-Segmentation/data/object-segmentation/ECSSD/features/dino_vits16/0067.pth\n",
      "dict_keys(['k', 'indices', 'file', 'id', 'model_name', 'patch_size', 'shape'])\n",
      "0067\n",
      "Starting Training\n",
      "epoch: 00, loss: -0.00922\n",
      "epoch: 01, loss: -0.02595\n",
      "epoch: 02, loss: -0.03726\n",
      "epoch: 03, loss: -0.03734\n",
      "epoch: 04, loss: -0.03886\n",
      "epoch: 05, loss: -0.03883\n",
      "epoch: 06, loss: -0.04097\n",
      "epoch: 07, loss: -0.04003\n",
      "epoch: 08, loss: -0.04358\n",
      "epoch: 09, loss: -0.04144\n",
      "torch.Size([350, 64])\n"
     ]
    },
    {
     "name": "stderr",
     "output_type": "stream",
     "text": [
      "\r",
      "  7%|██████████▊                                                                                                                                                       | 67/1000 [21:28<6:31:57, 25.21s/it]"
     ]
    },
    {
     "name": "stdout",
     "output_type": "stream",
     "text": [
      "eigenvalues shape torch.Size([5]) eigenvectors shape torch.Size([5, 350])\n",
      "67 /home/phdcs2/Hard_Disk/Datasets/Deep-Spectral-Segmentation/data/object-segmentation/ECSSD/features/dino_vits16/0068.pth\n",
      "dict_keys(['k', 'indices', 'file', 'id', 'model_name', 'patch_size', 'shape'])\n",
      "0068\n",
      "Starting Training\n",
      "epoch: 00, loss: -0.04441\n",
      "epoch: 01, loss: -0.07729\n",
      "epoch: 02, loss: -0.08034\n",
      "epoch: 03, loss: -0.08194\n",
      "epoch: 04, loss: -0.08313\n",
      "epoch: 05, loss: -0.08384\n",
      "epoch: 06, loss: -0.08338\n",
      "epoch: 07, loss: -0.08648\n",
      "epoch: 08, loss: -0.08456\n",
      "epoch: 09, loss: -0.08583\n",
      "torch.Size([525, 64])\n"
     ]
    },
    {
     "name": "stderr",
     "output_type": "stream",
     "text": [
      "\r",
      "  7%|███████████                                                                                                                                                       | 68/1000 [22:10<7:47:38, 30.11s/it]"
     ]
    },
    {
     "name": "stdout",
     "output_type": "stream",
     "text": [
      "eigenvalues shape torch.Size([5]) eigenvectors shape torch.Size([5, 525])\n",
      "68 /home/phdcs2/Hard_Disk/Datasets/Deep-Spectral-Segmentation/data/object-segmentation/ECSSD/features/dino_vits16/0069.pth\n",
      "dict_keys(['k', 'indices', 'file', 'id', 'model_name', 'patch_size', 'shape'])\n",
      "0069\n",
      "Starting Training\n",
      "epoch: 00, loss: -0.05323\n",
      "epoch: 01, loss: -0.07759\n",
      "epoch: 02, loss: -0.07783\n",
      "epoch: 03, loss: -0.07946\n",
      "epoch: 04, loss: -0.07959\n",
      "epoch: 05, loss: -0.07844\n",
      "epoch: 06, loss: -0.07989\n",
      "epoch: 07, loss: -0.07995\n",
      "epoch: 08, loss: -0.07994\n",
      "epoch: 09, loss: -0.07945\n",
      "torch.Size([425, 64])\n"
     ]
    },
    {
     "name": "stderr",
     "output_type": "stream",
     "text": [
      "\r",
      "  7%|███████████▏                                                                                                                                                      | 69/1000 [22:37<7:31:52, 29.12s/it]"
     ]
    },
    {
     "name": "stdout",
     "output_type": "stream",
     "text": [
      "eigenvalues shape torch.Size([5]) eigenvectors shape torch.Size([5, 425])\n",
      "69 /home/phdcs2/Hard_Disk/Datasets/Deep-Spectral-Segmentation/data/object-segmentation/ECSSD/features/dino_vits16/0070.pth\n",
      "dict_keys(['k', 'indices', 'file', 'id', 'model_name', 'patch_size', 'shape'])\n",
      "0070\n",
      "Starting Training\n",
      "epoch: 00, loss: -0.02395\n",
      "epoch: 01, loss: -0.05043\n",
      "epoch: 02, loss: -0.05470\n",
      "epoch: 03, loss: -0.05483\n",
      "epoch: 04, loss: -0.05567\n",
      "epoch: 05, loss: -0.05454\n",
      "epoch: 06, loss: -0.05713\n",
      "epoch: 07, loss: -0.05792\n",
      "epoch: 08, loss: -0.05848\n",
      "epoch: 09, loss: -0.05788\n",
      "torch.Size([500, 64])\n"
     ]
    },
    {
     "name": "stderr",
     "output_type": "stream",
     "text": [
      "\r",
      "  7%|███████████▎                                                                                                                                                      | 70/1000 [23:17<8:24:39, 32.56s/it]"
     ]
    },
    {
     "name": "stdout",
     "output_type": "stream",
     "text": [
      "eigenvalues shape torch.Size([5]) eigenvectors shape torch.Size([5, 500])\n",
      "70 /home/phdcs2/Hard_Disk/Datasets/Deep-Spectral-Segmentation/data/object-segmentation/ECSSD/features/dino_vits16/0071.pth\n",
      "dict_keys(['k', 'indices', 'file', 'id', 'model_name', 'patch_size', 'shape'])\n",
      "0071\n",
      "Starting Training\n",
      "epoch: 00, loss: -0.07360\n",
      "epoch: 01, loss: -0.10604\n",
      "epoch: 02, loss: -0.10997\n",
      "epoch: 03, loss: -0.11076\n",
      "epoch: 04, loss: -0.11269\n",
      "epoch: 05, loss: -0.11067\n",
      "epoch: 06, loss: -0.11239\n",
      "epoch: 07, loss: -0.11284\n",
      "epoch: 08, loss: -0.11274\n",
      "epoch: 09, loss: -0.11353\n",
      "torch.Size([450, 64])\n"
     ]
    },
    {
     "name": "stderr",
     "output_type": "stream",
     "text": [
      "\r",
      "  7%|███████████▌                                                                                                                                                      | 71/1000 [23:45<8:03:12, 31.21s/it]"
     ]
    },
    {
     "name": "stdout",
     "output_type": "stream",
     "text": [
      "eigenvalues shape torch.Size([5]) eigenvectors shape torch.Size([5, 450])\n",
      "71 /home/phdcs2/Hard_Disk/Datasets/Deep-Spectral-Segmentation/data/object-segmentation/ECSSD/features/dino_vits16/0072.pth\n",
      "dict_keys(['k', 'indices', 'file', 'id', 'model_name', 'patch_size', 'shape'])\n",
      "0072\n",
      "Starting Training\n",
      "epoch: 00, loss: -0.04407\n",
      "epoch: 01, loss: -0.05921\n",
      "epoch: 02, loss: -0.06069\n",
      "epoch: 03, loss: -0.06120\n",
      "epoch: 04, loss: -0.06172\n",
      "epoch: 05, loss: -0.06171\n",
      "epoch: 06, loss: -0.06181\n",
      "epoch: 07, loss: -0.06202\n",
      "epoch: 08, loss: -0.06222\n",
      "epoch: 09, loss: -0.06195\n",
      "torch.Size([400, 64])\n"
     ]
    },
    {
     "name": "stderr",
     "output_type": "stream",
     "text": [
      "\r",
      "  7%|███████████▋                                                                                                                                                      | 72/1000 [24:10<7:34:06, 29.36s/it]"
     ]
    },
    {
     "name": "stdout",
     "output_type": "stream",
     "text": [
      "eigenvalues shape torch.Size([5]) eigenvectors shape torch.Size([5, 400])\n",
      "72 /home/phdcs2/Hard_Disk/Datasets/Deep-Spectral-Segmentation/data/object-segmentation/ECSSD/features/dino_vits16/0073.pth\n",
      "dict_keys(['k', 'indices', 'file', 'id', 'model_name', 'patch_size', 'shape'])\n",
      "0073\n",
      "Starting Training\n",
      "epoch: 00, loss: -0.03623\n",
      "epoch: 01, loss: -0.05353\n",
      "epoch: 02, loss: -0.05441\n",
      "epoch: 03, loss: -0.05489\n",
      "epoch: 04, loss: -0.05511\n",
      "epoch: 05, loss: -0.05547\n",
      "epoch: 06, loss: -0.05566\n",
      "epoch: 07, loss: -0.05581\n",
      "epoch: 08, loss: -0.05628\n",
      "epoch: 09, loss: -0.05613\n",
      "torch.Size([450, 64])\n"
     ]
    },
    {
     "name": "stderr",
     "output_type": "stream",
     "text": [
      "\r",
      "  7%|███████████▊                                                                                                                                                      | 73/1000 [24:41<7:37:59, 29.64s/it]"
     ]
    },
    {
     "name": "stdout",
     "output_type": "stream",
     "text": [
      "eigenvalues shape torch.Size([5]) eigenvectors shape torch.Size([5, 450])\n",
      "73 /home/phdcs2/Hard_Disk/Datasets/Deep-Spectral-Segmentation/data/object-segmentation/ECSSD/features/dino_vits16/0074.pth\n",
      "dict_keys(['k', 'indices', 'file', 'id', 'model_name', 'patch_size', 'shape'])\n",
      "0074\n",
      "Starting Training\n",
      "epoch: 00, loss: -0.03395\n",
      "epoch: 01, loss: -0.05811\n",
      "epoch: 02, loss: -0.06487\n",
      "epoch: 03, loss: -0.06585\n",
      "epoch: 04, loss: -0.06728\n",
      "epoch: 05, loss: -0.06707\n",
      "epoch: 06, loss: -0.06771\n",
      "epoch: 07, loss: -0.06935\n",
      "epoch: 08, loss: -0.06910\n",
      "epoch: 09, loss: -0.06999\n",
      "torch.Size([450, 64])\n"
     ]
    },
    {
     "name": "stderr",
     "output_type": "stream",
     "text": [
      "\r",
      "  7%|███████████▉                                                                                                                                                      | 74/1000 [25:09<7:30:08, 29.17s/it]"
     ]
    },
    {
     "name": "stdout",
     "output_type": "stream",
     "text": [
      "eigenvalues shape torch.Size([5]) eigenvectors shape torch.Size([5, 450])\n",
      "74 /home/phdcs2/Hard_Disk/Datasets/Deep-Spectral-Segmentation/data/object-segmentation/ECSSD/features/dino_vits16/0075.pth\n",
      "dict_keys(['k', 'indices', 'file', 'id', 'model_name', 'patch_size', 'shape'])\n",
      "0075\n",
      "Starting Training\n",
      "epoch: 00, loss: -0.08399\n",
      "epoch: 01, loss: -0.10531\n",
      "epoch: 02, loss: -0.10750\n",
      "epoch: 03, loss: -0.11035\n",
      "epoch: 04, loss: -0.11102\n",
      "epoch: 05, loss: -0.11303\n",
      "epoch: 06, loss: -0.11203\n",
      "epoch: 07, loss: -0.11214\n",
      "epoch: 08, loss: -0.11431\n",
      "epoch: 09, loss: -0.10993\n",
      "torch.Size([450, 64])\n"
     ]
    },
    {
     "name": "stderr",
     "output_type": "stream",
     "text": [
      "\r",
      "  8%|████████████▏                                                                                                                                                     | 75/1000 [25:40<7:41:38, 29.94s/it]"
     ]
    },
    {
     "name": "stdout",
     "output_type": "stream",
     "text": [
      "eigenvalues shape torch.Size([5]) eigenvectors shape torch.Size([5, 450])\n",
      "75 /home/phdcs2/Hard_Disk/Datasets/Deep-Spectral-Segmentation/data/object-segmentation/ECSSD/features/dino_vits16/0076.pth\n",
      "dict_keys(['k', 'indices', 'file', 'id', 'model_name', 'patch_size', 'shape'])\n",
      "0076\n",
      "Starting Training\n",
      "epoch: 00, loss: -0.04436\n",
      "epoch: 01, loss: -0.06103\n",
      "epoch: 02, loss: -0.06222\n",
      "epoch: 03, loss: -0.06238\n",
      "epoch: 04, loss: -0.06253\n",
      "epoch: 05, loss: -0.06274\n",
      "epoch: 06, loss: -0.06295\n",
      "epoch: 07, loss: -0.06312\n",
      "epoch: 08, loss: -0.06315\n",
      "epoch: 09, loss: -0.06328\n",
      "torch.Size([400, 64])\n"
     ]
    },
    {
     "name": "stderr",
     "output_type": "stream",
     "text": [
      "\r",
      "  8%|████████████▎                                                                                                                                                     | 76/1000 [26:08<7:31:01, 29.29s/it]"
     ]
    },
    {
     "name": "stdout",
     "output_type": "stream",
     "text": [
      "eigenvalues shape torch.Size([5]) eigenvectors shape torch.Size([5, 400])\n",
      "76 /home/phdcs2/Hard_Disk/Datasets/Deep-Spectral-Segmentation/data/object-segmentation/ECSSD/features/dino_vits16/0077.pth\n",
      "dict_keys(['k', 'indices', 'file', 'id', 'model_name', 'patch_size', 'shape'])\n",
      "0077\n",
      "Starting Training\n",
      "epoch: 00, loss: -0.05203\n",
      "epoch: 01, loss: -0.08208\n",
      "epoch: 02, loss: -0.08230\n",
      "epoch: 03, loss: -0.08517\n",
      "epoch: 04, loss: -0.08510\n",
      "epoch: 05, loss: -0.08685\n",
      "epoch: 06, loss: -0.08686\n",
      "epoch: 07, loss: -0.08584\n",
      "epoch: 08, loss: -0.08491\n",
      "epoch: 09, loss: -0.08639\n",
      "torch.Size([450, 64])\n"
     ]
    },
    {
     "name": "stderr",
     "output_type": "stream",
     "text": [
      "\r",
      "  8%|████████████▍                                                                                                                                                     | 77/1000 [26:39<7:36:40, 29.69s/it]"
     ]
    },
    {
     "name": "stdout",
     "output_type": "stream",
     "text": [
      "eigenvalues shape torch.Size([5]) eigenvectors shape torch.Size([5, 450])\n",
      "77 /home/phdcs2/Hard_Disk/Datasets/Deep-Spectral-Segmentation/data/object-segmentation/ECSSD/features/dino_vits16/0078.pth\n",
      "dict_keys(['k', 'indices', 'file', 'id', 'model_name', 'patch_size', 'shape'])\n",
      "0078\n",
      "Starting Training\n",
      "epoch: 00, loss: -0.02875\n",
      "epoch: 01, loss: -0.05942\n",
      "epoch: 02, loss: -0.06186\n",
      "epoch: 03, loss: -0.06225\n",
      "epoch: 04, loss: -0.06213\n",
      "epoch: 05, loss: -0.06282\n",
      "epoch: 06, loss: -0.06277\n",
      "epoch: 07, loss: -0.06306\n",
      "epoch: 08, loss: -0.06311\n",
      "epoch: 09, loss: -0.06343\n",
      "torch.Size([400, 64])\n"
     ]
    },
    {
     "name": "stderr",
     "output_type": "stream",
     "text": [
      "\r",
      "  8%|████████████▋                                                                                                                                                     | 78/1000 [27:02<7:04:19, 27.61s/it]"
     ]
    },
    {
     "name": "stdout",
     "output_type": "stream",
     "text": [
      "eigenvalues shape torch.Size([5]) eigenvectors shape torch.Size([5, 400])\n",
      "78 /home/phdcs2/Hard_Disk/Datasets/Deep-Spectral-Segmentation/data/object-segmentation/ECSSD/features/dino_vits16/0079.pth\n",
      "dict_keys(['k', 'indices', 'file', 'id', 'model_name', 'patch_size', 'shape'])\n",
      "0079\n",
      "Starting Training\n",
      "epoch: 00, loss: -0.08927\n",
      "epoch: 01, loss: -0.12219\n",
      "epoch: 02, loss: -0.12910\n",
      "epoch: 03, loss: -0.12853\n",
      "epoch: 04, loss: -0.13072\n",
      "epoch: 05, loss: -0.12839\n",
      "epoch: 06, loss: -0.13083\n",
      "epoch: 07, loss: -0.13340\n",
      "epoch: 08, loss: -0.13136\n",
      "epoch: 09, loss: -0.13337\n",
      "torch.Size([525, 64])\n"
     ]
    },
    {
     "name": "stderr",
     "output_type": "stream",
     "text": [
      "\r",
      "  8%|████████████▊                                                                                                                                                     | 79/1000 [27:46<8:20:40, 32.62s/it]"
     ]
    },
    {
     "name": "stdout",
     "output_type": "stream",
     "text": [
      "eigenvalues shape torch.Size([5]) eigenvectors shape torch.Size([5, 525])\n",
      "79 /home/phdcs2/Hard_Disk/Datasets/Deep-Spectral-Segmentation/data/object-segmentation/ECSSD/features/dino_vits16/0080.pth\n",
      "dict_keys(['k', 'indices', 'file', 'id', 'model_name', 'patch_size', 'shape'])\n",
      "0080\n",
      "Starting Training\n",
      "epoch: 00, loss: -0.00380\n",
      "epoch: 01, loss: -0.02107\n",
      "epoch: 02, loss: -0.02517\n",
      "epoch: 03, loss: -0.02720\n",
      "epoch: 04, loss: -0.02796\n",
      "epoch: 05, loss: -0.02824\n",
      "epoch: 06, loss: -0.02843\n",
      "epoch: 07, loss: -0.02886\n",
      "epoch: 08, loss: -0.02895\n",
      "epoch: 09, loss: -0.02885\n",
      "torch.Size([450, 64])\n"
     ]
    },
    {
     "name": "stderr",
     "output_type": "stream",
     "text": [
      "\r",
      "  8%|████████████▉                                                                                                                                                     | 80/1000 [28:20<8:26:10, 33.01s/it]"
     ]
    },
    {
     "name": "stdout",
     "output_type": "stream",
     "text": [
      "eigenvalues shape torch.Size([5]) eigenvectors shape torch.Size([5, 450])\n",
      "80 /home/phdcs2/Hard_Disk/Datasets/Deep-Spectral-Segmentation/data/object-segmentation/ECSSD/features/dino_vits16/0081.pth\n",
      "dict_keys(['k', 'indices', 'file', 'id', 'model_name', 'patch_size', 'shape'])\n",
      "0081\n",
      "Starting Training\n",
      "epoch: 00, loss: -0.05868\n",
      "epoch: 01, loss: -0.08400\n",
      "epoch: 02, loss: -0.08416\n",
      "epoch: 03, loss: -0.08461\n",
      "epoch: 04, loss: -0.08462\n",
      "epoch: 05, loss: -0.08491\n",
      "epoch: 06, loss: -0.08484\n",
      "epoch: 07, loss: -0.08514\n",
      "epoch: 08, loss: -0.08527\n",
      "epoch: 09, loss: -0.08523\n",
      "torch.Size([450, 64])\n"
     ]
    },
    {
     "name": "stderr",
     "output_type": "stream",
     "text": [
      "\r",
      "  8%|█████████████                                                                                                                                                     | 81/1000 [28:51<8:14:56, 32.31s/it]"
     ]
    },
    {
     "name": "stdout",
     "output_type": "stream",
     "text": [
      "eigenvalues shape torch.Size([5]) eigenvectors shape torch.Size([5, 450])\n",
      "81 /home/phdcs2/Hard_Disk/Datasets/Deep-Spectral-Segmentation/data/object-segmentation/ECSSD/features/dino_vits16/0082.pth\n",
      "dict_keys(['k', 'indices', 'file', 'id', 'model_name', 'patch_size', 'shape'])\n",
      "0082\n",
      "Starting Training\n",
      "epoch: 00, loss: -0.00757\n",
      "epoch: 01, loss: -0.02290\n",
      "epoch: 02, loss: -0.02610\n",
      "epoch: 03, loss: -0.02730\n",
      "epoch: 04, loss: -0.02768\n",
      "epoch: 05, loss: -0.02832\n",
      "epoch: 06, loss: -0.02829\n",
      "epoch: 07, loss: -0.02807\n",
      "epoch: 08, loss: -0.02868\n",
      "epoch: 09, loss: -0.02870\n",
      "torch.Size([450, 64])\n"
     ]
    },
    {
     "name": "stderr",
     "output_type": "stream",
     "text": [
      "\r",
      "  8%|█████████████▎                                                                                                                                                    | 82/1000 [29:18<7:54:16, 31.00s/it]"
     ]
    },
    {
     "name": "stdout",
     "output_type": "stream",
     "text": [
      "eigenvalues shape torch.Size([5]) eigenvectors shape torch.Size([5, 450])\n",
      "82 /home/phdcs2/Hard_Disk/Datasets/Deep-Spectral-Segmentation/data/object-segmentation/ECSSD/features/dino_vits16/0083.pth\n",
      "dict_keys(['k', 'indices', 'file', 'id', 'model_name', 'patch_size', 'shape'])\n",
      "0083\n",
      "Starting Training\n",
      "epoch: 00, loss: -0.03538\n",
      "epoch: 01, loss: -0.06119\n",
      "epoch: 02, loss: -0.06129\n",
      "epoch: 03, loss: -0.06791\n",
      "epoch: 04, loss: -0.06618\n",
      "epoch: 05, loss: -0.06476\n",
      "epoch: 06, loss: -0.06804\n",
      "epoch: 07, loss: -0.06558\n",
      "epoch: 08, loss: -0.06703\n",
      "epoch: 09, loss: -0.06680\n",
      "torch.Size([450, 64])\n"
     ]
    },
    {
     "name": "stderr",
     "output_type": "stream",
     "text": [
      "\r",
      "  8%|█████████████▍                                                                                                                                                    | 83/1000 [29:51<8:00:00, 31.41s/it]"
     ]
    },
    {
     "name": "stdout",
     "output_type": "stream",
     "text": [
      "eigenvalues shape torch.Size([5]) eigenvectors shape torch.Size([5, 450])\n",
      "83 /home/phdcs2/Hard_Disk/Datasets/Deep-Spectral-Segmentation/data/object-segmentation/ECSSD/features/dino_vits16/0084.pth\n",
      "dict_keys(['k', 'indices', 'file', 'id', 'model_name', 'patch_size', 'shape'])\n",
      "0084\n",
      "Starting Training\n",
      "epoch: 00, loss: -0.01992\n",
      "epoch: 01, loss: -0.04013\n",
      "epoch: 02, loss: -0.04267\n",
      "epoch: 03, loss: -0.04346\n",
      "epoch: 04, loss: -0.04383\n",
      "epoch: 05, loss: -0.04426\n",
      "epoch: 06, loss: -0.04461\n",
      "epoch: 07, loss: -0.04462\n",
      "epoch: 08, loss: -0.04489\n",
      "epoch: 09, loss: -0.04481\n",
      "torch.Size([450, 64])\n"
     ]
    },
    {
     "name": "stderr",
     "output_type": "stream",
     "text": [
      "\r",
      "  8%|█████████████▌                                                                                                                                                    | 84/1000 [30:23<8:02:54, 31.63s/it]"
     ]
    },
    {
     "name": "stdout",
     "output_type": "stream",
     "text": [
      "eigenvalues shape torch.Size([5]) eigenvectors shape torch.Size([5, 450])\n",
      "84 /home/phdcs2/Hard_Disk/Datasets/Deep-Spectral-Segmentation/data/object-segmentation/ECSSD/features/dino_vits16/0085.pth\n",
      "dict_keys(['k', 'indices', 'file', 'id', 'model_name', 'patch_size', 'shape'])\n",
      "0085\n",
      "Starting Training\n",
      "epoch: 00, loss: -0.00097\n",
      "epoch: 01, loss: -0.01946\n",
      "epoch: 02, loss: -0.02532\n",
      "epoch: 03, loss: -0.03109\n",
      "epoch: 04, loss: -0.03246\n",
      "epoch: 05, loss: -0.03118\n",
      "epoch: 06, loss: -0.03186\n",
      "epoch: 07, loss: -0.03406\n",
      "epoch: 08, loss: -0.03325\n",
      "epoch: 09, loss: -0.03261\n",
      "torch.Size([450, 64])\n"
     ]
    },
    {
     "name": "stderr",
     "output_type": "stream",
     "text": [
      "\r",
      "  8%|█████████████▊                                                                                                                                                    | 85/1000 [30:57<8:14:55, 32.45s/it]"
     ]
    },
    {
     "name": "stdout",
     "output_type": "stream",
     "text": [
      "eigenvalues shape torch.Size([5]) eigenvectors shape torch.Size([5, 450])\n",
      "85 /home/phdcs2/Hard_Disk/Datasets/Deep-Spectral-Segmentation/data/object-segmentation/ECSSD/features/dino_vits16/0086.pth\n",
      "dict_keys(['k', 'indices', 'file', 'id', 'model_name', 'patch_size', 'shape'])\n",
      "0086\n",
      "Starting Training\n",
      "epoch: 00, loss: 0.00212\n",
      "epoch: 01, loss: -0.01688\n",
      "epoch: 02, loss: -0.02231\n",
      "epoch: 03, loss: -0.02499\n",
      "epoch: 04, loss: -0.02704\n",
      "epoch: 05, loss: -0.02719\n",
      "epoch: 06, loss: -0.02563\n",
      "epoch: 07, loss: -0.03057\n",
      "epoch: 08, loss: -0.02946\n",
      "epoch: 09, loss: -0.02939\n",
      "torch.Size([450, 64])\n"
     ]
    },
    {
     "name": "stderr",
     "output_type": "stream",
     "text": [
      "\r",
      "  9%|█████████████▉                                                                                                                                                    | 86/1000 [31:31<8:19:25, 32.79s/it]"
     ]
    },
    {
     "name": "stdout",
     "output_type": "stream",
     "text": [
      "eigenvalues shape torch.Size([5]) eigenvectors shape torch.Size([5, 450])\n",
      "86 /home/phdcs2/Hard_Disk/Datasets/Deep-Spectral-Segmentation/data/object-segmentation/ECSSD/features/dino_vits16/0087.pth\n",
      "dict_keys(['k', 'indices', 'file', 'id', 'model_name', 'patch_size', 'shape'])\n",
      "0087\n",
      "Starting Training\n",
      "epoch: 00, loss: -0.06430\n",
      "epoch: 01, loss: -0.09631\n",
      "epoch: 02, loss: -0.09631\n",
      "epoch: 03, loss: -0.09750\n",
      "epoch: 04, loss: -0.09848\n",
      "epoch: 05, loss: -0.09865\n",
      "epoch: 06, loss: -0.09803\n",
      "epoch: 07, loss: -0.09912\n",
      "epoch: 08, loss: -0.09883\n",
      "epoch: 09, loss: -0.09751\n",
      "torch.Size([450, 64])\n"
     ]
    },
    {
     "name": "stderr",
     "output_type": "stream",
     "text": [
      "\r",
      "  9%|██████████████                                                                                                                                                    | 87/1000 [32:00<8:01:12, 31.62s/it]"
     ]
    },
    {
     "name": "stdout",
     "output_type": "stream",
     "text": [
      "eigenvalues shape torch.Size([5]) eigenvectors shape torch.Size([5, 450])\n",
      "87 /home/phdcs2/Hard_Disk/Datasets/Deep-Spectral-Segmentation/data/object-segmentation/ECSSD/features/dino_vits16/0088.pth\n",
      "dict_keys(['k', 'indices', 'file', 'id', 'model_name', 'patch_size', 'shape'])\n",
      "0088\n",
      "Starting Training\n",
      "epoch: 00, loss: -0.00232\n",
      "epoch: 01, loss: -0.01697\n",
      "epoch: 02, loss: -0.02158\n",
      "epoch: 03, loss: -0.02310\n",
      "epoch: 04, loss: -0.02355\n",
      "epoch: 05, loss: -0.02412\n",
      "epoch: 06, loss: -0.02423\n",
      "epoch: 07, loss: -0.02486\n",
      "epoch: 08, loss: -0.02494\n",
      "epoch: 09, loss: -0.02488\n",
      "torch.Size([450, 64])\n"
     ]
    },
    {
     "name": "stderr",
     "output_type": "stream",
     "text": [
      "\r",
      "  9%|██████████████▎                                                                                                                                                   | 88/1000 [32:28<7:44:49, 30.58s/it]"
     ]
    },
    {
     "name": "stdout",
     "output_type": "stream",
     "text": [
      "eigenvalues shape torch.Size([5]) eigenvectors shape torch.Size([5, 450])\n",
      "88 /home/phdcs2/Hard_Disk/Datasets/Deep-Spectral-Segmentation/data/object-segmentation/ECSSD/features/dino_vits16/0089.pth\n",
      "dict_keys(['k', 'indices', 'file', 'id', 'model_name', 'patch_size', 'shape'])\n",
      "0089\n",
      "Starting Training\n",
      "epoch: 00, loss: -0.05503\n",
      "epoch: 01, loss: -0.07718\n",
      "epoch: 02, loss: -0.07800\n",
      "epoch: 03, loss: -0.07857\n",
      "epoch: 04, loss: -0.07892\n",
      "epoch: 05, loss: -0.07904\n",
      "epoch: 06, loss: -0.07922\n",
      "epoch: 07, loss: -0.07929\n",
      "epoch: 08, loss: -0.07943\n",
      "epoch: 09, loss: -0.07968\n",
      "torch.Size([400, 64])\n"
     ]
    },
    {
     "name": "stderr",
     "output_type": "stream",
     "text": [
      "\r",
      "  9%|██████████████▍                                                                                                                                                   | 89/1000 [32:54<7:24:48, 29.30s/it]"
     ]
    },
    {
     "name": "stdout",
     "output_type": "stream",
     "text": [
      "eigenvalues shape torch.Size([5]) eigenvectors shape torch.Size([5, 400])\n",
      "89 /home/phdcs2/Hard_Disk/Datasets/Deep-Spectral-Segmentation/data/object-segmentation/ECSSD/features/dino_vits16/0090.pth\n",
      "dict_keys(['k', 'indices', 'file', 'id', 'model_name', 'patch_size', 'shape'])\n",
      "0090\n",
      "Starting Training\n",
      "epoch: 00, loss: -0.01632\n",
      "epoch: 01, loss: -0.03627\n",
      "epoch: 02, loss: -0.03952\n",
      "epoch: 03, loss: -0.04064\n",
      "epoch: 04, loss: -0.04112\n",
      "epoch: 05, loss: -0.04128\n",
      "epoch: 06, loss: -0.04149\n",
      "epoch: 07, loss: -0.04165\n",
      "epoch: 08, loss: -0.04168\n",
      "epoch: 09, loss: -0.04179\n",
      "torch.Size([400, 64])\n"
     ]
    },
    {
     "name": "stderr",
     "output_type": "stream",
     "text": [
      "\r",
      "  9%|██████████████▌                                                                                                                                                   | 90/1000 [33:22<7:18:38, 28.92s/it]"
     ]
    },
    {
     "name": "stdout",
     "output_type": "stream",
     "text": [
      "eigenvalues shape torch.Size([5]) eigenvectors shape torch.Size([5, 400])\n",
      "90 /home/phdcs2/Hard_Disk/Datasets/Deep-Spectral-Segmentation/data/object-segmentation/ECSSD/features/dino_vits16/0091.pth\n",
      "dict_keys(['k', 'indices', 'file', 'id', 'model_name', 'patch_size', 'shape'])\n",
      "0091\n",
      "Starting Training\n",
      "epoch: 00, loss: -0.01172\n",
      "epoch: 01, loss: -0.03748\n",
      "epoch: 02, loss: -0.04125\n",
      "epoch: 03, loss: -0.04328\n",
      "epoch: 04, loss: -0.04516\n",
      "epoch: 05, loss: -0.04708\n",
      "epoch: 06, loss: -0.04550\n",
      "epoch: 07, loss: -0.04859\n",
      "epoch: 08, loss: -0.04856\n",
      "epoch: 09, loss: -0.04942\n",
      "torch.Size([400, 64])\n"
     ]
    },
    {
     "name": "stderr",
     "output_type": "stream",
     "text": [
      "\r",
      "  9%|██████████████▋                                                                                                                                                   | 91/1000 [33:47<6:58:55, 27.65s/it]"
     ]
    },
    {
     "name": "stdout",
     "output_type": "stream",
     "text": [
      "eigenvalues shape torch.Size([5]) eigenvectors shape torch.Size([5, 400])\n",
      "91 /home/phdcs2/Hard_Disk/Datasets/Deep-Spectral-Segmentation/data/object-segmentation/ECSSD/features/dino_vits16/0092.pth\n",
      "dict_keys(['k', 'indices', 'file', 'id', 'model_name', 'patch_size', 'shape'])\n",
      "0092\n",
      "Starting Training\n",
      "epoch: 00, loss: -0.01746\n",
      "epoch: 01, loss: -0.03351\n",
      "epoch: 02, loss: -0.03620\n",
      "epoch: 03, loss: -0.03713\n",
      "epoch: 04, loss: -0.03740\n",
      "epoch: 05, loss: -0.03770\n",
      "epoch: 06, loss: -0.03790\n",
      "epoch: 07, loss: -0.03811\n",
      "epoch: 08, loss: -0.03820\n",
      "epoch: 09, loss: -0.03836\n",
      "torch.Size([400, 64])\n"
     ]
    },
    {
     "name": "stderr",
     "output_type": "stream",
     "text": [
      "\r",
      "  9%|██████████████▉                                                                                                                                                   | 92/1000 [34:11<6:41:48, 26.55s/it]"
     ]
    },
    {
     "name": "stdout",
     "output_type": "stream",
     "text": [
      "eigenvalues shape torch.Size([5]) eigenvectors shape torch.Size([5, 400])\n",
      "92 /home/phdcs2/Hard_Disk/Datasets/Deep-Spectral-Segmentation/data/object-segmentation/ECSSD/features/dino_vits16/0093.pth\n",
      "dict_keys(['k', 'indices', 'file', 'id', 'model_name', 'patch_size', 'shape'])\n",
      "0093\n",
      "Starting Training\n",
      "epoch: 00, loss: -0.03884\n",
      "epoch: 01, loss: -0.06702\n",
      "epoch: 02, loss: -0.07094\n",
      "epoch: 03, loss: -0.07494\n",
      "epoch: 04, loss: -0.07599\n",
      "epoch: 05, loss: -0.07650\n",
      "epoch: 06, loss: -0.07650\n",
      "epoch: 07, loss: -0.07462\n",
      "epoch: 08, loss: -0.07906\n",
      "epoch: 09, loss: -0.07959\n",
      "torch.Size([400, 64])\n"
     ]
    },
    {
     "name": "stderr",
     "output_type": "stream",
     "text": [
      "\r",
      "  9%|███████████████                                                                                                                                                   | 93/1000 [34:38<6:42:37, 26.63s/it]"
     ]
    },
    {
     "name": "stdout",
     "output_type": "stream",
     "text": [
      "eigenvalues shape torch.Size([5]) eigenvectors shape torch.Size([5, 400])\n",
      "93 /home/phdcs2/Hard_Disk/Datasets/Deep-Spectral-Segmentation/data/object-segmentation/ECSSD/features/dino_vits16/0094.pth\n",
      "dict_keys(['k', 'indices', 'file', 'id', 'model_name', 'patch_size', 'shape'])\n",
      "0094\n",
      "Starting Training\n",
      "epoch: 00, loss: -0.02577\n",
      "epoch: 01, loss: -0.03881\n",
      "epoch: 02, loss: -0.04098\n",
      "epoch: 03, loss: -0.04116\n",
      "epoch: 04, loss: -0.04236\n",
      "epoch: 05, loss: -0.04074\n",
      "epoch: 06, loss: -0.04288\n",
      "epoch: 07, loss: -0.04302\n",
      "epoch: 08, loss: -0.04186\n",
      "epoch: 09, loss: -0.04244\n",
      "torch.Size([400, 64])\n"
     ]
    },
    {
     "name": "stderr",
     "output_type": "stream",
     "text": [
      "\r",
      "  9%|███████████████▏                                                                                                                                                  | 94/1000 [35:00<6:22:29, 25.33s/it]"
     ]
    },
    {
     "name": "stdout",
     "output_type": "stream",
     "text": [
      "eigenvalues shape torch.Size([5]) eigenvectors shape torch.Size([5, 400])\n",
      "94 /home/phdcs2/Hard_Disk/Datasets/Deep-Spectral-Segmentation/data/object-segmentation/ECSSD/features/dino_vits16/0095.pth\n",
      "dict_keys(['k', 'indices', 'file', 'id', 'model_name', 'patch_size', 'shape'])\n",
      "0095\n",
      "Starting Training\n",
      "epoch: 00, loss: -0.08742\n",
      "epoch: 01, loss: -0.12631\n",
      "epoch: 02, loss: -0.12978\n",
      "epoch: 03, loss: -0.13346\n",
      "epoch: 04, loss: -0.13258\n",
      "epoch: 05, loss: -0.13459\n",
      "epoch: 06, loss: -0.13691\n",
      "epoch: 07, loss: -0.13714\n",
      "epoch: 08, loss: -0.13701\n",
      "epoch: 09, loss: -0.13667\n",
      "torch.Size([400, 64])\n"
     ]
    },
    {
     "name": "stderr",
     "output_type": "stream",
     "text": [
      "\r",
      " 10%|███████████████▍                                                                                                                                                  | 95/1000 [35:26<6:23:59, 25.46s/it]"
     ]
    },
    {
     "name": "stdout",
     "output_type": "stream",
     "text": [
      "eigenvalues shape torch.Size([5]) eigenvectors shape torch.Size([5, 400])\n",
      "95 /home/phdcs2/Hard_Disk/Datasets/Deep-Spectral-Segmentation/data/object-segmentation/ECSSD/features/dino_vits16/0096.pth\n",
      "dict_keys(['k', 'indices', 'file', 'id', 'model_name', 'patch_size', 'shape'])\n",
      "0096\n",
      "Starting Training\n",
      "epoch: 00, loss: -0.02286\n",
      "epoch: 01, loss: -0.04153\n",
      "epoch: 02, loss: -0.04552\n",
      "epoch: 03, loss: -0.04789\n",
      "epoch: 04, loss: -0.04983\n",
      "epoch: 05, loss: -0.04802\n",
      "epoch: 06, loss: -0.05165\n",
      "epoch: 07, loss: -0.05150\n",
      "epoch: 08, loss: -0.05289\n",
      "epoch: 09, loss: -0.05251\n",
      "torch.Size([400, 64])\n"
     ]
    },
    {
     "name": "stderr",
     "output_type": "stream",
     "text": [
      "\r",
      " 10%|███████████████▌                                                                                                                                                  | 96/1000 [35:50<6:18:47, 25.14s/it]"
     ]
    },
    {
     "name": "stdout",
     "output_type": "stream",
     "text": [
      "eigenvalues shape torch.Size([5]) eigenvectors shape torch.Size([5, 400])\n",
      "96 /home/phdcs2/Hard_Disk/Datasets/Deep-Spectral-Segmentation/data/object-segmentation/ECSSD/features/dino_vits16/0097.pth\n",
      "dict_keys(['k', 'indices', 'file', 'id', 'model_name', 'patch_size', 'shape'])\n",
      "0097\n",
      "Starting Training\n",
      "epoch: 00, loss: -0.03966\n",
      "epoch: 01, loss: -0.06085\n",
      "epoch: 02, loss: -0.06342\n",
      "epoch: 03, loss: -0.06569\n",
      "epoch: 04, loss: -0.06750\n",
      "epoch: 05, loss: -0.06721\n",
      "epoch: 06, loss: -0.06685\n",
      "epoch: 07, loss: -0.06931\n",
      "epoch: 08, loss: -0.06795\n",
      "epoch: 09, loss: -0.06773\n",
      "torch.Size([400, 64])\n"
     ]
    },
    {
     "name": "stderr",
     "output_type": "stream",
     "text": [
      "\r",
      " 10%|███████████████▋                                                                                                                                                  | 97/1000 [36:15<6:16:37, 25.03s/it]"
     ]
    },
    {
     "name": "stdout",
     "output_type": "stream",
     "text": [
      "eigenvalues shape torch.Size([5]) eigenvectors shape torch.Size([5, 400])\n",
      "97 /home/phdcs2/Hard_Disk/Datasets/Deep-Spectral-Segmentation/data/object-segmentation/ECSSD/features/dino_vits16/0098.pth\n",
      "dict_keys(['k', 'indices', 'file', 'id', 'model_name', 'patch_size', 'shape'])\n",
      "0098\n",
      "Starting Training\n",
      "epoch: 00, loss: -0.00603\n",
      "epoch: 01, loss: -0.03951\n",
      "epoch: 02, loss: -0.05056\n",
      "epoch: 03, loss: -0.05224\n",
      "epoch: 04, loss: -0.05190\n",
      "epoch: 05, loss: -0.05611\n",
      "epoch: 06, loss: -0.05434\n",
      "epoch: 07, loss: -0.05519\n",
      "epoch: 08, loss: -0.05563\n",
      "epoch: 09, loss: -0.05743\n",
      "torch.Size([400, 64])\n"
     ]
    },
    {
     "name": "stderr",
     "output_type": "stream",
     "text": [
      "\r",
      " 10%|███████████████▉                                                                                                                                                  | 98/1000 [36:35<5:53:06, 23.49s/it]"
     ]
    },
    {
     "name": "stdout",
     "output_type": "stream",
     "text": [
      "eigenvalues shape torch.Size([5]) eigenvectors shape torch.Size([5, 400])\n",
      "98 /home/phdcs2/Hard_Disk/Datasets/Deep-Spectral-Segmentation/data/object-segmentation/ECSSD/features/dino_vits16/0099.pth\n",
      "dict_keys(['k', 'indices', 'file', 'id', 'model_name', 'patch_size', 'shape'])\n",
      "0099\n",
      "Starting Training\n",
      "epoch: 00, loss: -0.02852\n",
      "epoch: 01, loss: -0.05187\n",
      "epoch: 02, loss: -0.05655\n",
      "epoch: 03, loss: -0.06049\n",
      "epoch: 04, loss: -0.05717\n",
      "epoch: 05, loss: -0.06497\n",
      "epoch: 06, loss: -0.06317\n",
      "epoch: 07, loss: -0.06540\n",
      "epoch: 08, loss: -0.06370\n",
      "epoch: 09, loss: -0.06450\n",
      "torch.Size([400, 64])\n"
     ]
    },
    {
     "name": "stderr",
     "output_type": "stream",
     "text": [
      "\r",
      " 10%|████████████████                                                                                                                                                  | 99/1000 [37:04<6:17:20, 25.13s/it]"
     ]
    },
    {
     "name": "stdout",
     "output_type": "stream",
     "text": [
      "eigenvalues shape torch.Size([5]) eigenvectors shape torch.Size([5, 400])\n",
      "99 /home/phdcs2/Hard_Disk/Datasets/Deep-Spectral-Segmentation/data/object-segmentation/ECSSD/features/dino_vits16/0100.pth\n",
      "dict_keys(['k', 'indices', 'file', 'id', 'model_name', 'patch_size', 'shape'])\n",
      "0100\n",
      "Starting Training\n",
      "epoch: 00, loss: -0.00581\n",
      "epoch: 01, loss: -0.02057\n",
      "epoch: 02, loss: -0.02527\n",
      "epoch: 03, loss: -0.02651\n",
      "epoch: 04, loss: -0.02742\n",
      "epoch: 05, loss: -0.02789\n",
      "epoch: 06, loss: -0.02776\n",
      "epoch: 07, loss: -0.02824\n",
      "epoch: 08, loss: -0.02835\n",
      "epoch: 09, loss: -0.02863\n",
      "torch.Size([400, 64])\n"
     ]
    },
    {
     "name": "stderr",
     "output_type": "stream",
     "text": [
      "\r",
      " 10%|████████████████                                                                                                                                                 | 100/1000 [37:25<5:56:42, 23.78s/it]"
     ]
    },
    {
     "name": "stdout",
     "output_type": "stream",
     "text": [
      "eigenvalues shape torch.Size([5]) eigenvectors shape torch.Size([5, 400])\n",
      "100 /home/phdcs2/Hard_Disk/Datasets/Deep-Spectral-Segmentation/data/object-segmentation/ECSSD/features/dino_vits16/0101.pth\n",
      "dict_keys(['k', 'indices', 'file', 'id', 'model_name', 'patch_size', 'shape'])\n",
      "0101\n",
      "Starting Training\n",
      "epoch: 00, loss: -0.03638\n",
      "epoch: 01, loss: -0.05531\n",
      "epoch: 02, loss: -0.05710\n",
      "epoch: 03, loss: -0.05745\n",
      "epoch: 04, loss: -0.05785\n",
      "epoch: 05, loss: -0.05820\n",
      "epoch: 06, loss: -0.05806\n",
      "epoch: 07, loss: -0.05833\n",
      "epoch: 08, loss: -0.05854\n",
      "epoch: 09, loss: -0.05865\n",
      "torch.Size([400, 64])\n"
     ]
    },
    {
     "name": "stderr",
     "output_type": "stream",
     "text": [
      "\r",
      " 10%|████████████████▎                                                                                                                                                | 101/1000 [37:54<6:20:37, 25.40s/it]"
     ]
    },
    {
     "name": "stdout",
     "output_type": "stream",
     "text": [
      "eigenvalues shape torch.Size([5]) eigenvectors shape torch.Size([5, 400])\n",
      "101 /home/phdcs2/Hard_Disk/Datasets/Deep-Spectral-Segmentation/data/object-segmentation/ECSSD/features/dino_vits16/0102.pth\n",
      "dict_keys(['k', 'indices', 'file', 'id', 'model_name', 'patch_size', 'shape'])\n",
      "0102\n",
      "Starting Training\n",
      "epoch: 00, loss: -0.04343\n",
      "epoch: 01, loss: -0.07706\n",
      "epoch: 02, loss: -0.07637\n",
      "epoch: 03, loss: -0.08052\n",
      "epoch: 04, loss: -0.07843\n",
      "epoch: 05, loss: -0.07896\n",
      "epoch: 06, loss: -0.08292\n",
      "epoch: 07, loss: -0.08260\n",
      "epoch: 08, loss: -0.08003\n",
      "epoch: 09, loss: -0.08161\n",
      "torch.Size([400, 64])\n"
     ]
    },
    {
     "name": "stderr",
     "output_type": "stream",
     "text": [
      "\r",
      " 10%|████████████████▍                                                                                                                                                | 102/1000 [38:18<6:15:13, 25.07s/it]"
     ]
    },
    {
     "name": "stdout",
     "output_type": "stream",
     "text": [
      "eigenvalues shape torch.Size([5]) eigenvectors shape torch.Size([5, 400])\n",
      "102 /home/phdcs2/Hard_Disk/Datasets/Deep-Spectral-Segmentation/data/object-segmentation/ECSSD/features/dino_vits16/0103.pth\n",
      "dict_keys(['k', 'indices', 'file', 'id', 'model_name', 'patch_size', 'shape'])\n",
      "0103\n",
      "Starting Training\n",
      "epoch: 00, loss: -0.06224\n",
      "epoch: 01, loss: -0.09370\n",
      "epoch: 02, loss: -0.09663\n",
      "epoch: 03, loss: -0.10360\n",
      "epoch: 04, loss: -0.10506\n",
      "epoch: 05, loss: -0.10463\n",
      "epoch: 06, loss: -0.10542\n",
      "epoch: 07, loss: -0.10571\n",
      "epoch: 08, loss: -0.10430\n",
      "epoch: 09, loss: -0.10617\n",
      "torch.Size([400, 64])\n"
     ]
    },
    {
     "name": "stderr",
     "output_type": "stream",
     "text": [
      "\r",
      " 10%|████████████████▌                                                                                                                                                | 103/1000 [38:42<6:07:51, 24.61s/it]"
     ]
    },
    {
     "name": "stdout",
     "output_type": "stream",
     "text": [
      "eigenvalues shape torch.Size([5]) eigenvectors shape torch.Size([5, 400])\n",
      "103 /home/phdcs2/Hard_Disk/Datasets/Deep-Spectral-Segmentation/data/object-segmentation/ECSSD/features/dino_vits16/0104.pth\n",
      "dict_keys(['k', 'indices', 'file', 'id', 'model_name', 'patch_size', 'shape'])\n",
      "0104\n",
      "Starting Training\n",
      "epoch: 00, loss: -0.06013\n",
      "epoch: 01, loss: -0.08541\n",
      "epoch: 02, loss: -0.09083\n",
      "epoch: 03, loss: -0.09233\n",
      "epoch: 04, loss: -0.09270\n",
      "epoch: 05, loss: -0.09325\n",
      "epoch: 06, loss: -0.09524\n",
      "epoch: 07, loss: -0.09475\n",
      "epoch: 08, loss: -0.09655\n",
      "epoch: 09, loss: -0.09684\n",
      "torch.Size([400, 64])\n"
     ]
    },
    {
     "name": "stderr",
     "output_type": "stream",
     "text": [
      "\r",
      " 10%|████████████████▋                                                                                                                                                | 104/1000 [39:07<6:10:33, 24.81s/it]"
     ]
    },
    {
     "name": "stdout",
     "output_type": "stream",
     "text": [
      "eigenvalues shape torch.Size([5]) eigenvectors shape torch.Size([5, 400])\n",
      "104 /home/phdcs2/Hard_Disk/Datasets/Deep-Spectral-Segmentation/data/object-segmentation/ECSSD/features/dino_vits16/0105.pth\n",
      "dict_keys(['k', 'indices', 'file', 'id', 'model_name', 'patch_size', 'shape'])\n",
      "0105\n",
      "Starting Training\n",
      "epoch: 00, loss: -0.02239\n",
      "epoch: 01, loss: -0.04248\n",
      "epoch: 02, loss: -0.04742\n",
      "epoch: 03, loss: -0.05058\n",
      "epoch: 04, loss: -0.05122\n",
      "epoch: 05, loss: -0.05105\n",
      "epoch: 06, loss: -0.05296\n",
      "epoch: 07, loss: -0.05505\n",
      "epoch: 08, loss: -0.05121\n",
      "epoch: 09, loss: -0.05450\n",
      "torch.Size([400, 64])\n"
     ]
    },
    {
     "name": "stderr",
     "output_type": "stream",
     "text": [
      "\r",
      " 10%|████████████████▉                                                                                                                                                | 105/1000 [39:33<6:14:21, 25.10s/it]"
     ]
    },
    {
     "name": "stdout",
     "output_type": "stream",
     "text": [
      "eigenvalues shape torch.Size([5]) eigenvectors shape torch.Size([5, 400])\n",
      "105 /home/phdcs2/Hard_Disk/Datasets/Deep-Spectral-Segmentation/data/object-segmentation/ECSSD/features/dino_vits16/0106.pth\n",
      "dict_keys(['k', 'indices', 'file', 'id', 'model_name', 'patch_size', 'shape'])\n",
      "0106\n",
      "Starting Training\n",
      "epoch: 00, loss: -0.01614\n",
      "epoch: 01, loss: -0.03804\n",
      "epoch: 02, loss: -0.04031\n",
      "epoch: 03, loss: -0.04246\n",
      "epoch: 04, loss: -0.04407\n",
      "epoch: 05, loss: -0.04545\n",
      "epoch: 06, loss: -0.04564\n",
      "epoch: 07, loss: -0.04567\n",
      "epoch: 08, loss: -0.04593\n",
      "epoch: 09, loss: -0.04523\n",
      "torch.Size([400, 64])\n"
     ]
    },
    {
     "name": "stderr",
     "output_type": "stream",
     "text": [
      "\r",
      " 11%|█████████████████                                                                                                                                                | 106/1000 [39:57<6:12:05, 24.97s/it]"
     ]
    },
    {
     "name": "stdout",
     "output_type": "stream",
     "text": [
      "eigenvalues shape torch.Size([5]) eigenvectors shape torch.Size([5, 400])\n",
      "106 /home/phdcs2/Hard_Disk/Datasets/Deep-Spectral-Segmentation/data/object-segmentation/ECSSD/features/dino_vits16/0107.pth\n",
      "dict_keys(['k', 'indices', 'file', 'id', 'model_name', 'patch_size', 'shape'])\n",
      "0107\n",
      "Starting Training\n",
      "epoch: 00, loss: -0.01838\n",
      "epoch: 01, loss: -0.04248\n",
      "epoch: 02, loss: -0.04893\n",
      "epoch: 03, loss: -0.05045\n",
      "epoch: 04, loss: -0.05121\n",
      "epoch: 05, loss: -0.05218\n",
      "epoch: 06, loss: -0.05135\n",
      "epoch: 07, loss: -0.05484\n",
      "epoch: 08, loss: -0.05289\n",
      "epoch: 09, loss: -0.05340\n",
      "torch.Size([400, 64])\n"
     ]
    },
    {
     "name": "stderr",
     "output_type": "stream",
     "text": [
      "\r",
      " 11%|█████████████████▏                                                                                                                                               | 107/1000 [40:23<6:16:10, 25.27s/it]"
     ]
    },
    {
     "name": "stdout",
     "output_type": "stream",
     "text": [
      "eigenvalues shape torch.Size([5]) eigenvectors shape torch.Size([5, 400])\n",
      "107 /home/phdcs2/Hard_Disk/Datasets/Deep-Spectral-Segmentation/data/object-segmentation/ECSSD/features/dino_vits16/0108.pth\n",
      "dict_keys(['k', 'indices', 'file', 'id', 'model_name', 'patch_size', 'shape'])\n",
      "0108\n",
      "Starting Training\n",
      "epoch: 00, loss: -0.03773\n",
      "epoch: 01, loss: -0.05796\n",
      "epoch: 02, loss: -0.05899\n",
      "epoch: 03, loss: -0.05948\n",
      "epoch: 04, loss: -0.05986\n",
      "epoch: 05, loss: -0.06005\n",
      "epoch: 06, loss: -0.06032\n",
      "epoch: 07, loss: -0.06052\n",
      "epoch: 08, loss: -0.06047\n",
      "epoch: 09, loss: -0.06055\n",
      "torch.Size([400, 64])\n"
     ]
    },
    {
     "name": "stderr",
     "output_type": "stream",
     "text": [
      "\r",
      " 11%|█████████████████▍                                                                                                                                               | 108/1000 [40:50<6:24:37, 25.87s/it]"
     ]
    },
    {
     "name": "stdout",
     "output_type": "stream",
     "text": [
      "eigenvalues shape torch.Size([5]) eigenvectors shape torch.Size([5, 400])\n",
      "108 /home/phdcs2/Hard_Disk/Datasets/Deep-Spectral-Segmentation/data/object-segmentation/ECSSD/features/dino_vits16/0109.pth\n",
      "dict_keys(['k', 'indices', 'file', 'id', 'model_name', 'patch_size', 'shape'])\n",
      "0109\n",
      "Starting Training\n",
      "epoch: 00, loss: -0.02196\n",
      "epoch: 01, loss: -0.05616\n",
      "epoch: 02, loss: -0.05674\n",
      "epoch: 03, loss: -0.06405\n",
      "epoch: 04, loss: -0.06231\n",
      "epoch: 05, loss: -0.06628\n",
      "epoch: 06, loss: -0.06479\n",
      "epoch: 07, loss: -0.06545\n",
      "epoch: 08, loss: -0.06182\n",
      "epoch: 09, loss: -0.06695\n",
      "torch.Size([400, 64])\n"
     ]
    },
    {
     "name": "stderr",
     "output_type": "stream",
     "text": [
      "\r",
      " 11%|█████████████████▌                                                                                                                                               | 109/1000 [41:13<6:07:48, 24.77s/it]"
     ]
    },
    {
     "name": "stdout",
     "output_type": "stream",
     "text": [
      "eigenvalues shape torch.Size([5]) eigenvectors shape torch.Size([5, 400])\n",
      "109 /home/phdcs2/Hard_Disk/Datasets/Deep-Spectral-Segmentation/data/object-segmentation/ECSSD/features/dino_vits16/0110.pth\n",
      "dict_keys(['k', 'indices', 'file', 'id', 'model_name', 'patch_size', 'shape'])\n",
      "0110\n",
      "Starting Training\n",
      "epoch: 00, loss: -0.00746\n",
      "epoch: 01, loss: -0.02318\n",
      "epoch: 02, loss: -0.02725\n",
      "epoch: 03, loss: -0.02817\n",
      "epoch: 04, loss: -0.02879\n",
      "epoch: 05, loss: -0.02899\n",
      "epoch: 06, loss: -0.02909\n",
      "epoch: 07, loss: -0.02948\n",
      "epoch: 08, loss: -0.02949\n",
      "epoch: 09, loss: -0.02967\n",
      "torch.Size([400, 64])\n"
     ]
    },
    {
     "name": "stderr",
     "output_type": "stream",
     "text": [
      "\r",
      " 11%|█████████████████▋                                                                                                                                               | 110/1000 [41:39<6:15:01, 25.28s/it]"
     ]
    },
    {
     "name": "stdout",
     "output_type": "stream",
     "text": [
      "eigenvalues shape torch.Size([5]) eigenvectors shape torch.Size([5, 400])\n",
      "110 /home/phdcs2/Hard_Disk/Datasets/Deep-Spectral-Segmentation/data/object-segmentation/ECSSD/features/dino_vits16/0111.pth\n",
      "dict_keys(['k', 'indices', 'file', 'id', 'model_name', 'patch_size', 'shape'])\n",
      "0111\n",
      "Starting Training\n",
      "epoch: 00, loss: -0.01227\n",
      "epoch: 01, loss: -0.03616\n",
      "epoch: 02, loss: -0.03984\n",
      "epoch: 03, loss: -0.04236\n",
      "epoch: 04, loss: -0.04555\n",
      "epoch: 05, loss: -0.04408\n",
      "epoch: 06, loss: -0.04717\n",
      "epoch: 07, loss: -0.04666\n",
      "epoch: 08, loss: -0.04910\n",
      "epoch: 09, loss: -0.04600\n",
      "torch.Size([400, 64])\n"
     ]
    },
    {
     "name": "stderr",
     "output_type": "stream",
     "text": [
      "\r",
      " 11%|█████████████████▊                                                                                                                                               | 111/1000 [42:10<6:40:45, 27.05s/it]"
     ]
    },
    {
     "name": "stdout",
     "output_type": "stream",
     "text": [
      "eigenvalues shape torch.Size([5]) eigenvectors shape torch.Size([5, 400])\n",
      "111 /home/phdcs2/Hard_Disk/Datasets/Deep-Spectral-Segmentation/data/object-segmentation/ECSSD/features/dino_vits16/0112.pth\n",
      "dict_keys(['k', 'indices', 'file', 'id', 'model_name', 'patch_size', 'shape'])\n",
      "0112\n",
      "Starting Training\n",
      "epoch: 00, loss: -0.05189\n",
      "epoch: 01, loss: -0.07810\n",
      "epoch: 02, loss: -0.08575\n",
      "epoch: 03, loss: -0.08744\n",
      "epoch: 04, loss: -0.08592\n",
      "epoch: 05, loss: -0.09114\n",
      "epoch: 06, loss: -0.08858\n",
      "epoch: 07, loss: -0.08973\n",
      "epoch: 08, loss: -0.08944\n",
      "epoch: 09, loss: -0.09123\n",
      "torch.Size([400, 64])\n"
     ]
    },
    {
     "name": "stderr",
     "output_type": "stream",
     "text": [
      "\r",
      " 11%|██████████████████                                                                                                                                               | 112/1000 [42:30<6:08:20, 24.89s/it]"
     ]
    },
    {
     "name": "stdout",
     "output_type": "stream",
     "text": [
      "eigenvalues shape torch.Size([5]) eigenvectors shape torch.Size([5, 400])\n",
      "112 /home/phdcs2/Hard_Disk/Datasets/Deep-Spectral-Segmentation/data/object-segmentation/ECSSD/features/dino_vits16/0113.pth\n",
      "dict_keys(['k', 'indices', 'file', 'id', 'model_name', 'patch_size', 'shape'])\n",
      "0113\n",
      "Starting Training\n",
      "epoch: 00, loss: -0.05941\n",
      "epoch: 01, loss: -0.08338\n",
      "epoch: 02, loss: -0.09124\n",
      "epoch: 03, loss: -0.08978\n",
      "epoch: 04, loss: -0.09129\n",
      "epoch: 05, loss: -0.09074\n",
      "epoch: 06, loss: -0.08941\n",
      "epoch: 07, loss: -0.09154\n",
      "epoch: 08, loss: -0.09170\n",
      "epoch: 09, loss: -0.09374\n",
      "torch.Size([400, 64])\n"
     ]
    },
    {
     "name": "stderr",
     "output_type": "stream",
     "text": [
      "\r",
      " 11%|██████████████████▏                                                                                                                                              | 113/1000 [42:50<5:44:47, 23.32s/it]"
     ]
    },
    {
     "name": "stdout",
     "output_type": "stream",
     "text": [
      "eigenvalues shape torch.Size([5]) eigenvectors shape torch.Size([5, 400])\n",
      "113 /home/phdcs2/Hard_Disk/Datasets/Deep-Spectral-Segmentation/data/object-segmentation/ECSSD/features/dino_vits16/0114.pth\n",
      "dict_keys(['k', 'indices', 'file', 'id', 'model_name', 'patch_size', 'shape'])\n",
      "0114\n",
      "Starting Training\n",
      "epoch: 00, loss: 0.00378\n",
      "epoch: 01, loss: -0.01048\n",
      "epoch: 02, loss: -0.01660\n",
      "epoch: 03, loss: -0.01916\n",
      "epoch: 04, loss: -0.02063\n",
      "epoch: 05, loss: -0.02121\n",
      "epoch: 06, loss: -0.02158\n",
      "epoch: 07, loss: -0.02198\n",
      "epoch: 08, loss: -0.02215\n",
      "epoch: 09, loss: -0.02226\n",
      "torch.Size([400, 64])\n"
     ]
    },
    {
     "name": "stderr",
     "output_type": "stream",
     "text": [
      "\r",
      " 11%|██████████████████▎                                                                                                                                              | 114/1000 [43:15<5:54:17, 23.99s/it]"
     ]
    },
    {
     "name": "stdout",
     "output_type": "stream",
     "text": [
      "eigenvalues shape torch.Size([5]) eigenvectors shape torch.Size([5, 400])\n",
      "114 /home/phdcs2/Hard_Disk/Datasets/Deep-Spectral-Segmentation/data/object-segmentation/ECSSD/features/dino_vits16/0115.pth\n",
      "dict_keys(['k', 'indices', 'file', 'id', 'model_name', 'patch_size', 'shape'])\n",
      "0115\n",
      "Starting Training\n",
      "epoch: 00, loss: -0.02744\n",
      "epoch: 01, loss: -0.06130\n",
      "epoch: 02, loss: -0.06210\n",
      "epoch: 03, loss: -0.06647\n",
      "epoch: 04, loss: -0.06773\n",
      "epoch: 05, loss: -0.06668\n",
      "epoch: 06, loss: -0.06571\n",
      "epoch: 07, loss: -0.06766\n",
      "epoch: 08, loss: -0.06887\n",
      "epoch: 09, loss: -0.06784\n",
      "torch.Size([400, 64])\n"
     ]
    },
    {
     "name": "stderr",
     "output_type": "stream",
     "text": [
      "\r",
      " 12%|██████████████████▌                                                                                                                                              | 115/1000 [43:44<6:13:18, 25.31s/it]"
     ]
    },
    {
     "name": "stdout",
     "output_type": "stream",
     "text": [
      "eigenvalues shape torch.Size([5]) eigenvectors shape torch.Size([5, 400])\n",
      "115 /home/phdcs2/Hard_Disk/Datasets/Deep-Spectral-Segmentation/data/object-segmentation/ECSSD/features/dino_vits16/0116.pth\n",
      "dict_keys(['k', 'indices', 'file', 'id', 'model_name', 'patch_size', 'shape'])\n",
      "0116\n",
      "Starting Training\n",
      "epoch: 00, loss: -0.04726\n",
      "epoch: 01, loss: -0.07565\n",
      "epoch: 02, loss: -0.07426\n",
      "epoch: 03, loss: -0.08130\n",
      "epoch: 04, loss: -0.08401\n",
      "epoch: 05, loss: -0.08132\n",
      "epoch: 06, loss: -0.08611\n",
      "epoch: 07, loss: -0.08313\n",
      "epoch: 08, loss: -0.08306\n",
      "epoch: 09, loss: -0.08546\n",
      "torch.Size([400, 64])\n"
     ]
    },
    {
     "name": "stderr",
     "output_type": "stream",
     "text": [
      "\r",
      " 12%|██████████████████▋                                                                                                                                              | 116/1000 [44:09<6:13:34, 25.36s/it]"
     ]
    },
    {
     "name": "stdout",
     "output_type": "stream",
     "text": [
      "eigenvalues shape torch.Size([5]) eigenvectors shape torch.Size([5, 400])\n",
      "116 /home/phdcs2/Hard_Disk/Datasets/Deep-Spectral-Segmentation/data/object-segmentation/ECSSD/features/dino_vits16/0117.pth\n",
      "dict_keys(['k', 'indices', 'file', 'id', 'model_name', 'patch_size', 'shape'])\n",
      "0117\n",
      "Starting Training\n",
      "epoch: 00, loss: 0.00574\n",
      "epoch: 01, loss: -0.00748\n",
      "epoch: 02, loss: -0.01512\n",
      "epoch: 03, loss: -0.01715\n",
      "epoch: 04, loss: -0.01897\n",
      "epoch: 05, loss: -0.02186\n",
      "epoch: 06, loss: -0.01915\n",
      "epoch: 07, loss: -0.02085\n",
      "epoch: 08, loss: -0.02066\n",
      "epoch: 09, loss: -0.02111\n",
      "torch.Size([400, 64])\n"
     ]
    },
    {
     "name": "stderr",
     "output_type": "stream",
     "text": [
      "\r",
      " 12%|██████████████████▊                                                                                                                                              | 117/1000 [44:36<6:21:10, 25.90s/it]"
     ]
    },
    {
     "name": "stdout",
     "output_type": "stream",
     "text": [
      "eigenvalues shape torch.Size([5]) eigenvectors shape torch.Size([5, 400])\n",
      "117 /home/phdcs2/Hard_Disk/Datasets/Deep-Spectral-Segmentation/data/object-segmentation/ECSSD/features/dino_vits16/0118.pth\n",
      "dict_keys(['k', 'indices', 'file', 'id', 'model_name', 'patch_size', 'shape'])\n",
      "0118\n",
      "Starting Training\n",
      "epoch: 00, loss: -0.02390\n",
      "epoch: 01, loss: -0.04522\n",
      "epoch: 02, loss: -0.04706\n",
      "epoch: 03, loss: -0.04807\n",
      "epoch: 04, loss: -0.04808\n",
      "epoch: 05, loss: -0.04855\n",
      "epoch: 06, loss: -0.04867\n",
      "epoch: 07, loss: -0.04881\n",
      "epoch: 08, loss: -0.04938\n",
      "epoch: 09, loss: -0.04917\n",
      "torch.Size([400, 64])\n"
     ]
    },
    {
     "name": "stderr",
     "output_type": "stream",
     "text": [
      "\r",
      " 12%|██████████████████▉                                                                                                                                              | 118/1000 [45:01<6:16:18, 25.60s/it]"
     ]
    },
    {
     "name": "stdout",
     "output_type": "stream",
     "text": [
      "eigenvalues shape torch.Size([5]) eigenvectors shape torch.Size([5, 400])\n",
      "118 /home/phdcs2/Hard_Disk/Datasets/Deep-Spectral-Segmentation/data/object-segmentation/ECSSD/features/dino_vits16/0119.pth\n",
      "dict_keys(['k', 'indices', 'file', 'id', 'model_name', 'patch_size', 'shape'])\n",
      "0119\n",
      "Starting Training\n",
      "epoch: 00, loss: -0.02407\n",
      "epoch: 01, loss: -0.04787\n",
      "epoch: 02, loss: -0.05438\n",
      "epoch: 03, loss: -0.05442\n",
      "epoch: 04, loss: -0.05476\n",
      "epoch: 05, loss: -0.05770\n",
      "epoch: 06, loss: -0.06025\n",
      "epoch: 07, loss: -0.05657\n",
      "epoch: 08, loss: -0.05866\n",
      "epoch: 09, loss: -0.05886\n",
      "torch.Size([400, 64])\n"
     ]
    },
    {
     "name": "stderr",
     "output_type": "stream",
     "text": [
      "\r",
      " 12%|███████████████████▏                                                                                                                                             | 119/1000 [45:24<6:03:54, 24.78s/it]"
     ]
    },
    {
     "name": "stdout",
     "output_type": "stream",
     "text": [
      "eigenvalues shape torch.Size([5]) eigenvectors shape torch.Size([5, 400])\n",
      "119 /home/phdcs2/Hard_Disk/Datasets/Deep-Spectral-Segmentation/data/object-segmentation/ECSSD/features/dino_vits16/0120.pth\n",
      "dict_keys(['k', 'indices', 'file', 'id', 'model_name', 'patch_size', 'shape'])\n",
      "0120\n",
      "Starting Training\n",
      "epoch: 00, loss: -0.01492\n",
      "epoch: 01, loss: -0.03491\n",
      "epoch: 02, loss: -0.03836\n",
      "epoch: 03, loss: -0.03935\n",
      "epoch: 04, loss: -0.03951\n",
      "epoch: 05, loss: -0.03982\n",
      "epoch: 06, loss: -0.04004\n",
      "epoch: 07, loss: -0.04013\n",
      "epoch: 08, loss: -0.04019\n",
      "epoch: 09, loss: -0.04042\n",
      "torch.Size([400, 64])\n"
     ]
    },
    {
     "name": "stderr",
     "output_type": "stream",
     "text": [
      "\r",
      " 12%|███████████████████▎                                                                                                                                             | 120/1000 [45:50<6:07:55, 25.09s/it]"
     ]
    },
    {
     "name": "stdout",
     "output_type": "stream",
     "text": [
      "eigenvalues shape torch.Size([5]) eigenvectors shape torch.Size([5, 400])\n",
      "120 /home/phdcs2/Hard_Disk/Datasets/Deep-Spectral-Segmentation/data/object-segmentation/ECSSD/features/dino_vits16/0121.pth\n",
      "dict_keys(['k', 'indices', 'file', 'id', 'model_name', 'patch_size', 'shape'])\n",
      "0121\n",
      "Starting Training\n",
      "epoch: 00, loss: -0.02615\n",
      "epoch: 01, loss: -0.06253\n",
      "epoch: 02, loss: -0.06493\n",
      "epoch: 03, loss: -0.06934\n",
      "epoch: 04, loss: -0.07192\n",
      "epoch: 05, loss: -0.07041\n",
      "epoch: 06, loss: -0.07307\n",
      "epoch: 07, loss: -0.07409\n",
      "epoch: 08, loss: -0.07395\n",
      "epoch: 09, loss: -0.07492\n",
      "torch.Size([400, 64])\n"
     ]
    },
    {
     "name": "stderr",
     "output_type": "stream",
     "text": [
      "\r",
      " 12%|███████████████████▍                                                                                                                                             | 121/1000 [46:10<5:46:30, 23.65s/it]"
     ]
    },
    {
     "name": "stdout",
     "output_type": "stream",
     "text": [
      "eigenvalues shape torch.Size([5]) eigenvectors shape torch.Size([5, 400])\n",
      "121 /home/phdcs2/Hard_Disk/Datasets/Deep-Spectral-Segmentation/data/object-segmentation/ECSSD/features/dino_vits16/0122.pth\n",
      "dict_keys(['k', 'indices', 'file', 'id', 'model_name', 'patch_size', 'shape'])\n",
      "0122\n",
      "Starting Training\n",
      "epoch: 00, loss: -0.01967\n",
      "epoch: 01, loss: -0.04428\n",
      "epoch: 02, loss: -0.05191\n",
      "epoch: 03, loss: -0.05218\n",
      "epoch: 04, loss: -0.05477\n",
      "epoch: 05, loss: -0.05489\n",
      "epoch: 06, loss: -0.05532\n",
      "epoch: 07, loss: -0.05568\n",
      "epoch: 08, loss: -0.05609\n",
      "epoch: 09, loss: -0.05692\n",
      "torch.Size([400, 64])\n"
     ]
    },
    {
     "name": "stderr",
     "output_type": "stream",
     "text": [
      "\r",
      " 12%|███████████████████▋                                                                                                                                             | 122/1000 [46:39<6:06:30, 25.05s/it]"
     ]
    },
    {
     "name": "stdout",
     "output_type": "stream",
     "text": [
      "eigenvalues shape torch.Size([5]) eigenvectors shape torch.Size([5, 400])\n",
      "122 /home/phdcs2/Hard_Disk/Datasets/Deep-Spectral-Segmentation/data/object-segmentation/ECSSD/features/dino_vits16/0123.pth\n",
      "dict_keys(['k', 'indices', 'file', 'id', 'model_name', 'patch_size', 'shape'])\n",
      "0123\n",
      "Starting Training\n",
      "epoch: 00, loss: -0.02496\n",
      "epoch: 01, loss: -0.04972\n",
      "epoch: 02, loss: -0.05822\n",
      "epoch: 03, loss: -0.05917\n",
      "epoch: 04, loss: -0.06146\n",
      "epoch: 05, loss: -0.06221\n",
      "epoch: 06, loss: -0.06045\n",
      "epoch: 07, loss: -0.06371\n",
      "epoch: 08, loss: -0.06442\n",
      "epoch: 09, loss: -0.06275\n",
      "torch.Size([400, 64])\n"
     ]
    },
    {
     "name": "stderr",
     "output_type": "stream",
     "text": [
      "\r",
      " 12%|███████████████████▊                                                                                                                                             | 123/1000 [47:06<6:15:38, 25.70s/it]"
     ]
    },
    {
     "name": "stdout",
     "output_type": "stream",
     "text": [
      "eigenvalues shape torch.Size([5]) eigenvectors shape torch.Size([5, 400])\n",
      "123 /home/phdcs2/Hard_Disk/Datasets/Deep-Spectral-Segmentation/data/object-segmentation/ECSSD/features/dino_vits16/0124.pth\n",
      "dict_keys(['k', 'indices', 'file', 'id', 'model_name', 'patch_size', 'shape'])\n",
      "0124\n",
      "Starting Training\n",
      "epoch: 00, loss: -0.01187\n",
      "epoch: 01, loss: -0.03554\n",
      "epoch: 02, loss: -0.03992\n",
      "epoch: 03, loss: -0.04081\n",
      "epoch: 04, loss: -0.04126\n",
      "epoch: 05, loss: -0.04146\n",
      "epoch: 06, loss: -0.04167\n",
      "epoch: 07, loss: -0.04177\n",
      "epoch: 08, loss: -0.04187\n",
      "epoch: 09, loss: -0.04192\n",
      "torch.Size([400, 64])\n"
     ]
    },
    {
     "name": "stderr",
     "output_type": "stream",
     "text": [
      "\r",
      " 12%|███████████████████▉                                                                                                                                             | 124/1000 [47:30<6:08:35, 25.25s/it]"
     ]
    },
    {
     "name": "stdout",
     "output_type": "stream",
     "text": [
      "eigenvalues shape torch.Size([5]) eigenvectors shape torch.Size([5, 400])\n",
      "124 /home/phdcs2/Hard_Disk/Datasets/Deep-Spectral-Segmentation/data/object-segmentation/ECSSD/features/dino_vits16/0125.pth\n",
      "dict_keys(['k', 'indices', 'file', 'id', 'model_name', 'patch_size', 'shape'])\n",
      "0125\n",
      "Starting Training\n",
      "epoch: 00, loss: -0.09403\n",
      "epoch: 01, loss: -0.13025\n",
      "epoch: 02, loss: -0.13643\n",
      "epoch: 03, loss: -0.13724\n",
      "epoch: 04, loss: -0.14056\n",
      "epoch: 05, loss: -0.14211\n",
      "epoch: 06, loss: -0.14192\n",
      "epoch: 07, loss: -0.14339\n",
      "epoch: 08, loss: -0.14011\n",
      "epoch: 09, loss: -0.14110\n",
      "torch.Size([400, 64])\n"
     ]
    },
    {
     "name": "stderr",
     "output_type": "stream",
     "text": [
      "\r",
      " 12%|████████████████████▏                                                                                                                                            | 125/1000 [47:52<5:52:52, 24.20s/it]"
     ]
    },
    {
     "name": "stdout",
     "output_type": "stream",
     "text": [
      "eigenvalues shape torch.Size([5]) eigenvectors shape torch.Size([5, 400])\n",
      "125 /home/phdcs2/Hard_Disk/Datasets/Deep-Spectral-Segmentation/data/object-segmentation/ECSSD/features/dino_vits16/0126.pth\n",
      "dict_keys(['k', 'indices', 'file', 'id', 'model_name', 'patch_size', 'shape'])\n",
      "0126\n",
      "Starting Training\n",
      "epoch: 00, loss: -0.02134\n",
      "epoch: 01, loss: -0.05040\n",
      "epoch: 02, loss: -0.05764\n",
      "epoch: 03, loss: -0.06226\n",
      "epoch: 04, loss: -0.06109\n",
      "epoch: 05, loss: -0.06428\n",
      "epoch: 06, loss: -0.06110\n",
      "epoch: 07, loss: -0.06430\n",
      "epoch: 08, loss: -0.06409\n",
      "epoch: 09, loss: -0.06425\n",
      "torch.Size([400, 64])\n"
     ]
    },
    {
     "name": "stderr",
     "output_type": "stream",
     "text": [
      "\r",
      " 13%|████████████████████▎                                                                                                                                            | 126/1000 [48:14<5:43:54, 23.61s/it]"
     ]
    },
    {
     "name": "stdout",
     "output_type": "stream",
     "text": [
      "eigenvalues shape torch.Size([5]) eigenvectors shape torch.Size([5, 400])\n",
      "126 /home/phdcs2/Hard_Disk/Datasets/Deep-Spectral-Segmentation/data/object-segmentation/ECSSD/features/dino_vits16/0127.pth\n",
      "dict_keys(['k', 'indices', 'file', 'id', 'model_name', 'patch_size', 'shape'])\n",
      "0127\n",
      "Starting Training\n",
      "epoch: 00, loss: -0.02485\n",
      "epoch: 01, loss: -0.04772\n",
      "epoch: 02, loss: -0.05019\n",
      "epoch: 03, loss: -0.05036\n",
      "epoch: 04, loss: -0.05070\n",
      "epoch: 05, loss: -0.05125\n",
      "epoch: 06, loss: -0.05119\n",
      "epoch: 07, loss: -0.05125\n",
      "epoch: 08, loss: -0.05140\n",
      "epoch: 09, loss: -0.05153\n",
      "torch.Size([400, 64])\n",
      "eigenvalues shape torch.Size([5]) eigenvectors shape torch.Size([5, 400])\n"
     ]
    },
    {
     "name": "stderr",
     "output_type": "stream",
     "text": [
      "\r",
      " 13%|████████████████████▍                                                                                                                                            | 127/1000 [48:37<5:42:37, 23.55s/it]"
     ]
    },
    {
     "name": "stdout",
     "output_type": "stream",
     "text": [
      "127 /home/phdcs2/Hard_Disk/Datasets/Deep-Spectral-Segmentation/data/object-segmentation/ECSSD/features/dino_vits16/0128.pth\n",
      "dict_keys(['k', 'indices', 'file', 'id', 'model_name', 'patch_size', 'shape'])\n",
      "0128\n",
      "Starting Training\n",
      "epoch: 00, loss: -0.02645\n",
      "epoch: 01, loss: -0.05344\n",
      "epoch: 02, loss: -0.06218\n",
      "epoch: 03, loss: -0.06217\n",
      "epoch: 04, loss: -0.06681\n",
      "epoch: 05, loss: -0.06689\n",
      "epoch: 06, loss: -0.06451\n",
      "epoch: 07, loss: -0.06670\n",
      "epoch: 08, loss: -0.06734\n",
      "epoch: 09, loss: -0.06577\n",
      "torch.Size([400, 64])\n"
     ]
    },
    {
     "name": "stderr",
     "output_type": "stream",
     "text": [
      "\r",
      " 13%|████████████████████▌                                                                                                                                            | 128/1000 [49:00<5:37:19, 23.21s/it]"
     ]
    },
    {
     "name": "stdout",
     "output_type": "stream",
     "text": [
      "eigenvalues shape torch.Size([5]) eigenvectors shape torch.Size([5, 400])\n",
      "128 /home/phdcs2/Hard_Disk/Datasets/Deep-Spectral-Segmentation/data/object-segmentation/ECSSD/features/dino_vits16/0129.pth\n",
      "dict_keys(['k', 'indices', 'file', 'id', 'model_name', 'patch_size', 'shape'])\n",
      "0129\n",
      "Starting Training\n",
      "epoch: 00, loss: -0.06220\n",
      "epoch: 01, loss: -0.07999\n",
      "epoch: 02, loss: -0.08166\n",
      "epoch: 03, loss: -0.08081\n",
      "epoch: 04, loss: -0.08115\n",
      "epoch: 05, loss: -0.08142\n",
      "epoch: 06, loss: -0.08174\n",
      "epoch: 07, loss: -0.08204\n",
      "epoch: 08, loss: -0.08330\n",
      "epoch: 09, loss: -0.08330\n",
      "torch.Size([425, 64])\n"
     ]
    },
    {
     "name": "stderr",
     "output_type": "stream",
     "text": [
      "\r",
      " 13%|████████████████████▊                                                                                                                                            | 129/1000 [49:25<5:44:29, 23.73s/it]"
     ]
    },
    {
     "name": "stdout",
     "output_type": "stream",
     "text": [
      "eigenvalues shape torch.Size([5]) eigenvectors shape torch.Size([5, 425])\n",
      "129 /home/phdcs2/Hard_Disk/Datasets/Deep-Spectral-Segmentation/data/object-segmentation/ECSSD/features/dino_vits16/0130.pth\n",
      "dict_keys(['k', 'indices', 'file', 'id', 'model_name', 'patch_size', 'shape'])\n",
      "0130\n",
      "Starting Training\n",
      "epoch: 00, loss: -0.03045\n",
      "epoch: 01, loss: -0.05535\n",
      "epoch: 02, loss: -0.06257\n",
      "epoch: 03, loss: -0.06196\n",
      "epoch: 04, loss: -0.06488\n",
      "epoch: 05, loss: -0.06381\n",
      "epoch: 06, loss: -0.06451\n",
      "epoch: 07, loss: -0.06882\n",
      "epoch: 08, loss: -0.06766\n",
      "epoch: 09, loss: -0.06513\n",
      "torch.Size([425, 64])\n"
     ]
    },
    {
     "name": "stderr",
     "output_type": "stream",
     "text": [
      "\r",
      " 13%|████████████████████▉                                                                                                                                            | 130/1000 [49:48<5:42:53, 23.65s/it]"
     ]
    },
    {
     "name": "stdout",
     "output_type": "stream",
     "text": [
      "eigenvalues shape torch.Size([5]) eigenvectors shape torch.Size([5, 425])\n",
      "130 /home/phdcs2/Hard_Disk/Datasets/Deep-Spectral-Segmentation/data/object-segmentation/ECSSD/features/dino_vits16/0131.pth\n",
      "dict_keys(['k', 'indices', 'file', 'id', 'model_name', 'patch_size', 'shape'])\n",
      "0131\n",
      "Starting Training\n",
      "epoch: 00, loss: -0.05767\n",
      "epoch: 01, loss: -0.08901\n",
      "epoch: 02, loss: -0.09471\n",
      "epoch: 03, loss: -0.09573\n",
      "epoch: 04, loss: -0.09514\n",
      "epoch: 05, loss: -0.09839\n",
      "epoch: 06, loss: -0.09870\n",
      "epoch: 07, loss: -0.09860\n",
      "epoch: 08, loss: -0.09831\n",
      "epoch: 09, loss: -0.09841\n",
      "torch.Size([450, 64])\n"
     ]
    },
    {
     "name": "stderr",
     "output_type": "stream",
     "text": [
      "\r",
      " 13%|█████████████████████                                                                                                                                            | 131/1000 [50:16<5:59:05, 24.79s/it]"
     ]
    },
    {
     "name": "stdout",
     "output_type": "stream",
     "text": [
      "eigenvalues shape torch.Size([5]) eigenvectors shape torch.Size([5, 450])\n",
      "131 /home/phdcs2/Hard_Disk/Datasets/Deep-Spectral-Segmentation/data/object-segmentation/ECSSD/features/dino_vits16/0132.pth\n",
      "dict_keys(['k', 'indices', 'file', 'id', 'model_name', 'patch_size', 'shape'])\n",
      "0132\n",
      "Starting Training\n",
      "epoch: 00, loss: -0.04185\n",
      "epoch: 01, loss: -0.06718\n",
      "epoch: 02, loss: -0.06843\n",
      "epoch: 03, loss: -0.06964\n",
      "epoch: 04, loss: -0.07280\n",
      "epoch: 05, loss: -0.07345\n",
      "epoch: 06, loss: -0.07462\n",
      "epoch: 07, loss: -0.07138\n",
      "epoch: 08, loss: -0.07269\n",
      "epoch: 09, loss: -0.07546\n",
      "torch.Size([400, 64])\n"
     ]
    },
    {
     "name": "stderr",
     "output_type": "stream",
     "text": [
      "\r",
      " 13%|█████████████████████▎                                                                                                                                           | 132/1000 [50:37<5:44:30, 23.81s/it]"
     ]
    },
    {
     "name": "stdout",
     "output_type": "stream",
     "text": [
      "eigenvalues shape torch.Size([5]) eigenvectors shape torch.Size([5, 400])\n",
      "132 /home/phdcs2/Hard_Disk/Datasets/Deep-Spectral-Segmentation/data/object-segmentation/ECSSD/features/dino_vits16/0133.pth\n",
      "dict_keys(['k', 'indices', 'file', 'id', 'model_name', 'patch_size', 'shape'])\n",
      "0133\n",
      "Starting Training\n",
      "epoch: 00, loss: -0.04757\n",
      "epoch: 01, loss: -0.07161\n",
      "epoch: 02, loss: -0.07479\n",
      "epoch: 03, loss: -0.07497\n",
      "epoch: 04, loss: -0.07611\n",
      "epoch: 05, loss: -0.07555\n",
      "epoch: 06, loss: -0.07589\n",
      "epoch: 07, loss: -0.07630\n",
      "epoch: 08, loss: -0.07770\n",
      "epoch: 09, loss: -0.07668\n",
      "torch.Size([525, 64])\n"
     ]
    },
    {
     "name": "stderr",
     "output_type": "stream",
     "text": [
      "\r",
      " 13%|█████████████████████▍                                                                                                                                           | 133/1000 [51:14<6:42:03, 27.82s/it]"
     ]
    },
    {
     "name": "stdout",
     "output_type": "stream",
     "text": [
      "eigenvalues shape torch.Size([5]) eigenvectors shape torch.Size([5, 525])\n",
      "133 /home/phdcs2/Hard_Disk/Datasets/Deep-Spectral-Segmentation/data/object-segmentation/ECSSD/features/dino_vits16/0134.pth\n",
      "dict_keys(['k', 'indices', 'file', 'id', 'model_name', 'patch_size', 'shape'])\n",
      "0134\n",
      "Starting Training\n",
      "epoch: 00, loss: -0.04546\n",
      "epoch: 01, loss: -0.06607\n",
      "epoch: 02, loss: -0.06852\n",
      "epoch: 03, loss: -0.07129\n",
      "epoch: 04, loss: -0.06769\n",
      "epoch: 05, loss: -0.07038\n",
      "epoch: 06, loss: -0.07215\n",
      "epoch: 07, loss: -0.07326\n",
      "epoch: 08, loss: -0.07151\n",
      "epoch: 09, loss: -0.07099\n",
      "torch.Size([400, 64])\n"
     ]
    },
    {
     "name": "stderr",
     "output_type": "stream",
     "text": [
      "\r",
      " 13%|█████████████████████▌                                                                                                                                           | 134/1000 [51:36<6:15:47, 26.04s/it]"
     ]
    },
    {
     "name": "stdout",
     "output_type": "stream",
     "text": [
      "eigenvalues shape torch.Size([5]) eigenvectors shape torch.Size([5, 400])\n",
      "134 /home/phdcs2/Hard_Disk/Datasets/Deep-Spectral-Segmentation/data/object-segmentation/ECSSD/features/dino_vits16/0135.pth\n",
      "dict_keys(['k', 'indices', 'file', 'id', 'model_name', 'patch_size', 'shape'])\n",
      "0135\n",
      "Starting Training\n",
      "epoch: 00, loss: -0.04907\n",
      "epoch: 01, loss: -0.07308\n",
      "epoch: 02, loss: -0.07508\n",
      "epoch: 03, loss: -0.07859\n",
      "epoch: 04, loss: -0.07778\n",
      "epoch: 05, loss: -0.07965\n",
      "epoch: 06, loss: -0.08334\n",
      "epoch: 07, loss: -0.07953\n",
      "epoch: 08, loss: -0.08033\n",
      "epoch: 09, loss: -0.08278\n",
      "torch.Size([450, 64])\n"
     ]
    },
    {
     "name": "stderr",
     "output_type": "stream",
     "text": [
      "\r",
      " 14%|█████████████████████▋                                                                                                                                           | 135/1000 [51:59<5:59:48, 24.96s/it]"
     ]
    },
    {
     "name": "stdout",
     "output_type": "stream",
     "text": [
      "eigenvalues shape torch.Size([5]) eigenvectors shape torch.Size([5, 450])\n",
      "135 /home/phdcs2/Hard_Disk/Datasets/Deep-Spectral-Segmentation/data/object-segmentation/ECSSD/features/dino_vits16/0136.pth\n",
      "dict_keys(['k', 'indices', 'file', 'id', 'model_name', 'patch_size', 'shape'])\n",
      "0136\n",
      "Starting Training\n",
      "epoch: 00, loss: -0.05311\n",
      "epoch: 01, loss: -0.08333\n",
      "epoch: 02, loss: -0.08576\n",
      "epoch: 03, loss: -0.08385\n",
      "epoch: 04, loss: -0.08831\n",
      "epoch: 05, loss: -0.08629\n",
      "epoch: 06, loss: -0.08731\n",
      "epoch: 07, loss: -0.08850\n",
      "epoch: 08, loss: -0.08948\n",
      "epoch: 09, loss: -0.08813\n",
      "torch.Size([450, 64])\n"
     ]
    },
    {
     "name": "stderr",
     "output_type": "stream",
     "text": [
      "\r",
      " 14%|█████████████████████▉                                                                                                                                           | 136/1000 [52:27<6:12:15, 25.85s/it]"
     ]
    },
    {
     "name": "stdout",
     "output_type": "stream",
     "text": [
      "eigenvalues shape torch.Size([5]) eigenvectors shape torch.Size([5, 450])\n",
      "136 /home/phdcs2/Hard_Disk/Datasets/Deep-Spectral-Segmentation/data/object-segmentation/ECSSD/features/dino_vits16/0137.pth\n",
      "dict_keys(['k', 'indices', 'file', 'id', 'model_name', 'patch_size', 'shape'])\n",
      "0137\n",
      "Starting Training\n",
      "epoch: 00, loss: -0.06472\n",
      "epoch: 01, loss: -0.10219\n",
      "epoch: 02, loss: -0.10104\n",
      "epoch: 03, loss: -0.10330\n",
      "epoch: 04, loss: -0.10569\n",
      "epoch: 05, loss: -0.10607\n",
      "epoch: 06, loss: -0.10713\n",
      "epoch: 07, loss: -0.10405\n",
      "epoch: 08, loss: -0.10612\n",
      "epoch: 09, loss: -0.10964\n",
      "torch.Size([475, 64])\n"
     ]
    },
    {
     "name": "stderr",
     "output_type": "stream",
     "text": [
      "\r",
      " 14%|██████████████████████                                                                                                                                           | 137/1000 [52:53<6:12:35, 25.90s/it]"
     ]
    },
    {
     "name": "stdout",
     "output_type": "stream",
     "text": [
      "eigenvalues shape torch.Size([5]) eigenvectors shape torch.Size([5, 475])\n",
      "137 /home/phdcs2/Hard_Disk/Datasets/Deep-Spectral-Segmentation/data/object-segmentation/ECSSD/features/dino_vits16/0138.pth\n",
      "dict_keys(['k', 'indices', 'file', 'id', 'model_name', 'patch_size', 'shape'])\n",
      "0138\n",
      "Starting Training\n",
      "epoch: 00, loss: -0.02882\n",
      "epoch: 01, loss: -0.05403\n",
      "epoch: 02, loss: -0.05671\n",
      "epoch: 03, loss: -0.05761\n",
      "epoch: 04, loss: -0.05710\n",
      "epoch: 05, loss: -0.05855\n",
      "epoch: 06, loss: -0.05895\n",
      "epoch: 07, loss: -0.05838\n",
      "epoch: 08, loss: -0.05867\n",
      "epoch: 09, loss: -0.05839\n",
      "torch.Size([450, 64])\n"
     ]
    },
    {
     "name": "stderr",
     "output_type": "stream",
     "text": [
      "\r",
      " 14%|██████████████████████▏                                                                                                                                          | 138/1000 [53:18<6:11:47, 25.88s/it]"
     ]
    },
    {
     "name": "stdout",
     "output_type": "stream",
     "text": [
      "eigenvalues shape torch.Size([5]) eigenvectors shape torch.Size([5, 450])\n",
      "138 /home/phdcs2/Hard_Disk/Datasets/Deep-Spectral-Segmentation/data/object-segmentation/ECSSD/features/dino_vits16/0139.pth\n",
      "dict_keys(['k', 'indices', 'file', 'id', 'model_name', 'patch_size', 'shape'])\n",
      "0139\n",
      "Starting Training\n",
      "epoch: 00, loss: -0.02241\n",
      "epoch: 01, loss: -0.04551\n",
      "epoch: 02, loss: -0.04832\n",
      "epoch: 03, loss: -0.04892\n",
      "epoch: 04, loss: -0.04903\n",
      "epoch: 05, loss: -0.04939\n",
      "epoch: 06, loss: -0.04961\n",
      "epoch: 07, loss: -0.04978\n",
      "epoch: 08, loss: -0.04984\n",
      "epoch: 09, loss: -0.05010\n",
      "torch.Size([450, 64])\n"
     ]
    },
    {
     "name": "stderr",
     "output_type": "stream",
     "text": [
      "\r",
      " 14%|██████████████████████▍                                                                                                                                          | 139/1000 [53:46<6:19:42, 26.46s/it]"
     ]
    },
    {
     "name": "stdout",
     "output_type": "stream",
     "text": [
      "eigenvalues shape torch.Size([5]) eigenvectors shape torch.Size([5, 450])\n",
      "139 /home/phdcs2/Hard_Disk/Datasets/Deep-Spectral-Segmentation/data/object-segmentation/ECSSD/features/dino_vits16/0140.pth\n",
      "dict_keys(['k', 'indices', 'file', 'id', 'model_name', 'patch_size', 'shape'])\n",
      "0140\n",
      "Starting Training\n",
      "epoch: 00, loss: -0.02323\n",
      "epoch: 01, loss: -0.04673\n",
      "epoch: 02, loss: -0.04955\n",
      "epoch: 03, loss: -0.05189\n",
      "epoch: 04, loss: -0.05507\n",
      "epoch: 05, loss: -0.05489\n",
      "epoch: 06, loss: -0.05506\n",
      "epoch: 07, loss: -0.05611\n",
      "epoch: 08, loss: -0.05510\n",
      "epoch: 09, loss: -0.05610\n",
      "torch.Size([450, 64])\n"
     ]
    },
    {
     "name": "stderr",
     "output_type": "stream",
     "text": [
      "/home/phdcs2/Hard_Disk/Projects/T2I/deep-spectral-segmentation/venv/lib/python3.8/site-packages/scipy/sparse/linalg/_eigen/arpack/arpack.py:935: LinAlgWarning: Diagonal number 450 is exactly zero. Singular matrix.\n",
      "  self.M_lu = lu_factor(M)\n"
     ]
    },
    {
     "name": "stdout",
     "output_type": "stream",
     "text": [
      " ** On entry to SLASCL parameter number  4 had an illegal value\n",
      " ** On entry to SLASCL parameter number  4 had an illegal value\n"
     ]
    },
    {
     "name": "stderr",
     "output_type": "stream",
     "text": [
      "\r",
      " 14%|██████████████████████▌                                                                                                                                          | 140/1000 [54:24<7:05:42, 29.70s/it]"
     ]
    },
    {
     "name": "stdout",
     "output_type": "stream",
     "text": [
      "eigenvalues shape torch.Size([5]) eigenvectors shape torch.Size([5, 450])\n",
      "140 /home/phdcs2/Hard_Disk/Datasets/Deep-Spectral-Segmentation/data/object-segmentation/ECSSD/features/dino_vits16/0141.pth\n",
      "dict_keys(['k', 'indices', 'file', 'id', 'model_name', 'patch_size', 'shape'])\n",
      "0141\n",
      "Starting Training\n",
      "epoch: 00, loss: -0.00835\n",
      "epoch: 01, loss: -0.02657\n",
      "epoch: 02, loss: -0.03108\n",
      "epoch: 03, loss: -0.03227\n",
      "epoch: 04, loss: -0.03293\n",
      "epoch: 05, loss: -0.03297\n",
      "epoch: 06, loss: -0.03322\n",
      "epoch: 07, loss: -0.03334\n",
      "epoch: 08, loss: -0.03358\n",
      "epoch: 09, loss: -0.03363\n",
      "torch.Size([350, 64])\n"
     ]
    },
    {
     "name": "stderr",
     "output_type": "stream",
     "text": [
      "\r",
      " 14%|██████████████████████▋                                                                                                                                          | 141/1000 [54:44<6:24:58, 26.89s/it]"
     ]
    },
    {
     "name": "stdout",
     "output_type": "stream",
     "text": [
      "eigenvalues shape torch.Size([5]) eigenvectors shape torch.Size([5, 350])\n",
      "141 /home/phdcs2/Hard_Disk/Datasets/Deep-Spectral-Segmentation/data/object-segmentation/ECSSD/features/dino_vits16/0142.pth\n",
      "dict_keys(['k', 'indices', 'file', 'id', 'model_name', 'patch_size', 'shape'])\n",
      "0142\n",
      "Starting Training\n",
      "epoch: 00, loss: -0.07457\n",
      "epoch: 01, loss: -0.09063\n",
      "epoch: 02, loss: -0.09179\n",
      "epoch: 03, loss: -0.09191\n",
      "epoch: 04, loss: -0.09247\n",
      "epoch: 05, loss: -0.09240\n",
      "epoch: 06, loss: -0.09228\n",
      "epoch: 07, loss: -0.09242\n",
      "epoch: 08, loss: -0.09256\n",
      "epoch: 09, loss: -0.09283\n",
      "torch.Size([450, 64])\n"
     ]
    },
    {
     "name": "stderr",
     "output_type": "stream",
     "text": [
      "\r",
      " 14%|██████████████████████▊                                                                                                                                          | 142/1000 [55:09<6:16:09, 26.31s/it]"
     ]
    },
    {
     "name": "stdout",
     "output_type": "stream",
     "text": [
      "eigenvalues shape torch.Size([5]) eigenvectors shape torch.Size([5, 450])\n",
      "142 /home/phdcs2/Hard_Disk/Datasets/Deep-Spectral-Segmentation/data/object-segmentation/ECSSD/features/dino_vits16/0143.pth\n",
      "dict_keys(['k', 'indices', 'file', 'id', 'model_name', 'patch_size', 'shape'])\n",
      "0143\n",
      "Starting Training\n",
      "epoch: 00, loss: -0.04281\n",
      "epoch: 01, loss: -0.08128\n",
      "epoch: 02, loss: -0.08596\n",
      "epoch: 03, loss: -0.08784\n",
      "epoch: 04, loss: -0.08756\n",
      "epoch: 05, loss: -0.08925\n",
      "epoch: 06, loss: -0.08858\n",
      "epoch: 07, loss: -0.09010\n",
      "epoch: 08, loss: -0.09030\n",
      "epoch: 09, loss: -0.09168\n",
      "torch.Size([450, 64])\n"
     ]
    },
    {
     "name": "stderr",
     "output_type": "stream",
     "text": [
      "\r",
      " 14%|███████████████████████                                                                                                                                          | 143/1000 [55:33<6:05:43, 25.61s/it]"
     ]
    },
    {
     "name": "stdout",
     "output_type": "stream",
     "text": [
      "eigenvalues shape torch.Size([5]) eigenvectors shape torch.Size([5, 450])\n",
      "143 /home/phdcs2/Hard_Disk/Datasets/Deep-Spectral-Segmentation/data/object-segmentation/ECSSD/features/dino_vits16/0144.pth\n",
      "dict_keys(['k', 'indices', 'file', 'id', 'model_name', 'patch_size', 'shape'])\n",
      "0144\n",
      "Starting Training\n",
      "epoch: 00, loss: -0.04848\n",
      "epoch: 01, loss: -0.07425\n",
      "epoch: 02, loss: -0.07922\n",
      "epoch: 03, loss: -0.08113\n",
      "epoch: 04, loss: -0.08201\n",
      "epoch: 05, loss: -0.08247\n",
      "epoch: 06, loss: -0.08085\n",
      "epoch: 07, loss: -0.08462\n",
      "epoch: 08, loss: -0.08367\n",
      "epoch: 09, loss: -0.08378\n",
      "torch.Size([425, 64])\n"
     ]
    },
    {
     "name": "stderr",
     "output_type": "stream",
     "text": [
      "\r",
      " 14%|███████████████████████▏                                                                                                                                         | 144/1000 [55:57<5:58:49, 25.15s/it]"
     ]
    },
    {
     "name": "stdout",
     "output_type": "stream",
     "text": [
      "eigenvalues shape torch.Size([5]) eigenvectors shape torch.Size([5, 425])\n",
      "144 /home/phdcs2/Hard_Disk/Datasets/Deep-Spectral-Segmentation/data/object-segmentation/ECSSD/features/dino_vits16/0145.pth\n",
      "dict_keys(['k', 'indices', 'file', 'id', 'model_name', 'patch_size', 'shape'])\n",
      "0145\n",
      "Starting Training\n",
      "epoch: 00, loss: -0.02312\n",
      "epoch: 01, loss: -0.04541\n",
      "epoch: 02, loss: -0.04772\n",
      "epoch: 03, loss: -0.04826\n",
      "epoch: 04, loss: -0.04865\n",
      "epoch: 05, loss: -0.04865\n",
      "epoch: 06, loss: -0.04903\n",
      "epoch: 07, loss: -0.04916\n",
      "epoch: 08, loss: -0.04937\n",
      "epoch: 09, loss: -0.04946\n",
      "torch.Size([450, 64])\n"
     ]
    },
    {
     "name": "stderr",
     "output_type": "stream",
     "text": [
      "\r",
      " 14%|███████████████████████▎                                                                                                                                         | 145/1000 [56:23<6:00:39, 25.31s/it]"
     ]
    },
    {
     "name": "stdout",
     "output_type": "stream",
     "text": [
      "eigenvalues shape torch.Size([5]) eigenvectors shape torch.Size([5, 450])\n",
      "145 /home/phdcs2/Hard_Disk/Datasets/Deep-Spectral-Segmentation/data/object-segmentation/ECSSD/features/dino_vits16/0146.pth\n",
      "dict_keys(['k', 'indices', 'file', 'id', 'model_name', 'patch_size', 'shape'])\n",
      "0146\n",
      "Starting Training\n",
      "epoch: 00, loss: -0.00128\n",
      "epoch: 01, loss: -0.02007\n",
      "epoch: 02, loss: -0.02570\n",
      "epoch: 03, loss: -0.02519\n",
      "epoch: 04, loss: -0.02878\n",
      "epoch: 05, loss: -0.03168\n",
      "epoch: 06, loss: -0.03139\n",
      "epoch: 07, loss: -0.03201\n",
      "epoch: 08, loss: -0.02990\n",
      "epoch: 09, loss: -0.03064\n",
      "torch.Size([400, 64])\n"
     ]
    },
    {
     "name": "stderr",
     "output_type": "stream",
     "text": [
      "\r",
      " 15%|███████████████████████▌                                                                                                                                         | 146/1000 [56:45<5:48:16, 24.47s/it]"
     ]
    },
    {
     "name": "stdout",
     "output_type": "stream",
     "text": [
      "eigenvalues shape torch.Size([5]) eigenvectors shape torch.Size([5, 400])\n",
      "146 /home/phdcs2/Hard_Disk/Datasets/Deep-Spectral-Segmentation/data/object-segmentation/ECSSD/features/dino_vits16/0147.pth\n",
      "dict_keys(['k', 'indices', 'file', 'id', 'model_name', 'patch_size', 'shape'])\n",
      "0147\n",
      "Starting Training\n",
      "epoch: 00, loss: -0.02620\n",
      "epoch: 01, loss: -0.04136\n",
      "epoch: 02, loss: -0.04298\n",
      "epoch: 03, loss: -0.04326\n",
      "epoch: 04, loss: -0.04359\n",
      "epoch: 05, loss: -0.04376\n",
      "epoch: 06, loss: -0.04385\n",
      "epoch: 07, loss: -0.04401\n",
      "epoch: 08, loss: -0.04412\n",
      "epoch: 09, loss: -0.04438\n",
      "torch.Size([550, 64])\n"
     ]
    },
    {
     "name": "stderr",
     "output_type": "stream",
     "text": [
      "\r",
      " 15%|███████████████████████▋                                                                                                                                         | 147/1000 [57:30<7:13:52, 30.52s/it]"
     ]
    },
    {
     "name": "stdout",
     "output_type": "stream",
     "text": [
      "eigenvalues shape torch.Size([5]) eigenvectors shape torch.Size([5, 550])\n",
      "147 /home/phdcs2/Hard_Disk/Datasets/Deep-Spectral-Segmentation/data/object-segmentation/ECSSD/features/dino_vits16/0148.pth\n",
      "dict_keys(['k', 'indices', 'file', 'id', 'model_name', 'patch_size', 'shape'])\n",
      "0148\n",
      "Starting Training\n",
      "epoch: 00, loss: -0.06745\n",
      "epoch: 01, loss: -0.09629\n",
      "epoch: 02, loss: -0.10003\n",
      "epoch: 03, loss: -0.10072\n",
      "epoch: 04, loss: -0.09898\n",
      "epoch: 05, loss: -0.10247\n",
      "epoch: 06, loss: -0.10413\n",
      "epoch: 07, loss: -0.10135\n",
      "epoch: 08, loss: -0.10325\n",
      "epoch: 09, loss: -0.10263\n",
      "torch.Size([400, 64])\n"
     ]
    },
    {
     "name": "stderr",
     "output_type": "stream",
     "text": [
      "\r",
      " 15%|███████████████████████▊                                                                                                                                         | 148/1000 [57:52<6:36:55, 27.95s/it]"
     ]
    },
    {
     "name": "stdout",
     "output_type": "stream",
     "text": [
      "eigenvalues shape torch.Size([5]) eigenvectors shape torch.Size([5, 400])\n",
      "148 /home/phdcs2/Hard_Disk/Datasets/Deep-Spectral-Segmentation/data/object-segmentation/ECSSD/features/dino_vits16/0149.pth\n",
      "dict_keys(['k', 'indices', 'file', 'id', 'model_name', 'patch_size', 'shape'])\n",
      "0149\n",
      "Starting Training\n",
      "epoch: 00, loss: -0.03676\n",
      "epoch: 01, loss: -0.05796\n",
      "epoch: 02, loss: -0.06323\n",
      "epoch: 03, loss: -0.06486\n",
      "epoch: 04, loss: -0.06606\n",
      "epoch: 05, loss: -0.06515\n",
      "epoch: 06, loss: -0.06527\n",
      "epoch: 07, loss: -0.06986\n",
      "epoch: 08, loss: -0.06903\n",
      "epoch: 09, loss: -0.06716\n",
      "torch.Size([400, 64])\n"
     ]
    },
    {
     "name": "stderr",
     "output_type": "stream",
     "text": [
      "\r",
      " 15%|███████████████████████▉                                                                                                                                         | 149/1000 [58:15<6:18:37, 26.69s/it]"
     ]
    },
    {
     "name": "stdout",
     "output_type": "stream",
     "text": [
      "eigenvalues shape torch.Size([5]) eigenvectors shape torch.Size([5, 400])\n",
      "149 /home/phdcs2/Hard_Disk/Datasets/Deep-Spectral-Segmentation/data/object-segmentation/ECSSD/features/dino_vits16/0150.pth\n",
      "dict_keys(['k', 'indices', 'file', 'id', 'model_name', 'patch_size', 'shape'])\n",
      "0150\n",
      "Starting Training\n",
      "epoch: 00, loss: -0.04374\n",
      "epoch: 01, loss: -0.06676\n",
      "epoch: 02, loss: -0.07140\n",
      "epoch: 03, loss: -0.07250\n",
      "epoch: 04, loss: -0.07418\n",
      "epoch: 05, loss: -0.07580\n",
      "epoch: 06, loss: -0.07539\n",
      "epoch: 07, loss: -0.07404\n",
      "epoch: 08, loss: -0.07190\n",
      "epoch: 09, loss: -0.07402\n",
      "torch.Size([450, 64])\n"
     ]
    },
    {
     "name": "stderr",
     "output_type": "stream",
     "text": [
      "\r",
      " 15%|████████████████████████▏                                                                                                                                        | 150/1000 [58:39<6:03:32, 25.66s/it]"
     ]
    },
    {
     "name": "stdout",
     "output_type": "stream",
     "text": [
      "eigenvalues shape torch.Size([5]) eigenvectors shape torch.Size([5, 450])\n",
      "150 /home/phdcs2/Hard_Disk/Datasets/Deep-Spectral-Segmentation/data/object-segmentation/ECSSD/features/dino_vits16/0151.pth\n",
      "dict_keys(['k', 'indices', 'file', 'id', 'model_name', 'patch_size', 'shape'])\n",
      "0151\n",
      "Starting Training\n",
      "epoch: 00, loss: -0.07641\n",
      "epoch: 01, loss: -0.09124\n",
      "epoch: 02, loss: -0.09147\n",
      "epoch: 03, loss: -0.09193\n",
      "epoch: 04, loss: -0.09300\n",
      "epoch: 05, loss: -0.09259\n",
      "epoch: 06, loss: -0.09214\n",
      "epoch: 07, loss: -0.09361\n",
      "epoch: 08, loss: -0.09228\n",
      "epoch: 09, loss: -0.09248\n",
      "torch.Size([525, 64])\n"
     ]
    },
    {
     "name": "stderr",
     "output_type": "stream",
     "text": [
      "\r",
      " 15%|████████████████████████▎                                                                                                                                        | 151/1000 [59:21<7:12:18, 30.55s/it]"
     ]
    },
    {
     "name": "stdout",
     "output_type": "stream",
     "text": [
      "eigenvalues shape torch.Size([5]) eigenvectors shape torch.Size([5, 525])\n",
      "151 /home/phdcs2/Hard_Disk/Datasets/Deep-Spectral-Segmentation/data/object-segmentation/ECSSD/features/dino_vits16/0152.pth\n",
      "dict_keys(['k', 'indices', 'file', 'id', 'model_name', 'patch_size', 'shape'])\n",
      "0152\n",
      "Starting Training\n",
      "epoch: 00, loss: -0.08416\n",
      "epoch: 01, loss: -0.12083\n",
      "epoch: 02, loss: -0.12589\n",
      "epoch: 03, loss: -0.13044\n",
      "epoch: 04, loss: -0.12883\n",
      "epoch: 05, loss: -0.13181\n",
      "epoch: 06, loss: -0.13116\n",
      "epoch: 07, loss: -0.13048\n",
      "epoch: 08, loss: -0.13415\n",
      "epoch: 09, loss: -0.13276\n",
      "torch.Size([450, 64])\n"
     ]
    },
    {
     "name": "stderr",
     "output_type": "stream",
     "text": [
      "\r",
      " 15%|████████████████████████▍                                                                                                                                        | 152/1000 [59:42<6:32:36, 27.78s/it]"
     ]
    },
    {
     "name": "stdout",
     "output_type": "stream",
     "text": [
      "eigenvalues shape torch.Size([5]) eigenvectors shape torch.Size([5, 450])\n",
      "152 /home/phdcs2/Hard_Disk/Datasets/Deep-Spectral-Segmentation/data/object-segmentation/ECSSD/features/dino_vits16/0153.pth\n",
      "dict_keys(['k', 'indices', 'file', 'id', 'model_name', 'patch_size', 'shape'])\n",
      "0153\n",
      "Starting Training\n",
      "epoch: 00, loss: -0.13988\n",
      "epoch: 01, loss: -0.17976\n",
      "epoch: 02, loss: -0.18520\n",
      "epoch: 03, loss: -0.18402\n",
      "epoch: 04, loss: -0.18869\n",
      "epoch: 05, loss: -0.18902\n",
      "epoch: 06, loss: -0.19322\n",
      "epoch: 07, loss: -0.19066\n",
      "epoch: 08, loss: -0.19525\n",
      "epoch: 09, loss: -0.19413\n",
      "torch.Size([450, 64])\n"
     ]
    },
    {
     "name": "stderr",
     "output_type": "stream",
     "text": [
      "\r",
      " 15%|████████████████████████▎                                                                                                                                      | 153/1000 [1:00:05<6:13:19, 26.45s/it]"
     ]
    },
    {
     "name": "stdout",
     "output_type": "stream",
     "text": [
      "eigenvalues shape torch.Size([5]) eigenvectors shape torch.Size([5, 450])\n",
      "153 /home/phdcs2/Hard_Disk/Datasets/Deep-Spectral-Segmentation/data/object-segmentation/ECSSD/features/dino_vits16/0154.pth\n",
      "dict_keys(['k', 'indices', 'file', 'id', 'model_name', 'patch_size', 'shape'])\n",
      "0154\n",
      "Starting Training\n",
      "epoch: 00, loss: -0.02925\n",
      "epoch: 01, loss: -0.05051\n",
      "epoch: 02, loss: -0.05189\n",
      "epoch: 03, loss: -0.05271\n",
      "epoch: 04, loss: -0.05278\n",
      "epoch: 05, loss: -0.05308\n",
      "epoch: 06, loss: -0.05329\n",
      "epoch: 07, loss: -0.05326\n",
      "epoch: 08, loss: -0.05353\n",
      "epoch: 09, loss: -0.05358\n",
      "torch.Size([450, 64])\n"
     ]
    },
    {
     "name": "stderr",
     "output_type": "stream",
     "text": [
      "\r",
      " 15%|████████████████████████▍                                                                                                                                      | 154/1000 [1:00:29<5:59:51, 25.52s/it]"
     ]
    },
    {
     "name": "stdout",
     "output_type": "stream",
     "text": [
      "eigenvalues shape torch.Size([5]) eigenvectors shape torch.Size([5, 450])\n",
      "154 /home/phdcs2/Hard_Disk/Datasets/Deep-Spectral-Segmentation/data/object-segmentation/ECSSD/features/dino_vits16/0155.pth\n",
      "dict_keys(['k', 'indices', 'file', 'id', 'model_name', 'patch_size', 'shape'])\n",
      "0155\n",
      "Starting Training\n",
      "epoch: 00, loss: -0.02546\n",
      "epoch: 01, loss: -0.04715\n",
      "epoch: 02, loss: -0.04913\n",
      "epoch: 03, loss: -0.04944\n",
      "epoch: 04, loss: -0.05043\n",
      "epoch: 05, loss: -0.05033\n",
      "epoch: 06, loss: -0.04972\n",
      "epoch: 07, loss: -0.04987\n",
      "epoch: 08, loss: -0.05002\n",
      "epoch: 09, loss: -0.05026\n",
      "torch.Size([475, 64])\n"
     ]
    },
    {
     "name": "stderr",
     "output_type": "stream",
     "text": [
      "\r",
      " 16%|████████████████████████▋                                                                                                                                      | 155/1000 [1:00:52<5:52:15, 25.01s/it]"
     ]
    },
    {
     "name": "stdout",
     "output_type": "stream",
     "text": [
      "eigenvalues shape torch.Size([5]) eigenvectors shape torch.Size([5, 475])\n",
      "155 /home/phdcs2/Hard_Disk/Datasets/Deep-Spectral-Segmentation/data/object-segmentation/ECSSD/features/dino_vits16/0156.pth\n",
      "dict_keys(['k', 'indices', 'file', 'id', 'model_name', 'patch_size', 'shape'])\n",
      "0156\n",
      "Starting Training\n",
      "epoch: 00, loss: -0.06058\n",
      "epoch: 01, loss: -0.08665\n",
      "epoch: 02, loss: -0.09119\n",
      "epoch: 03, loss: -0.09217\n",
      "epoch: 04, loss: -0.09313\n",
      "epoch: 05, loss: -0.09334\n",
      "epoch: 06, loss: -0.09417\n",
      "epoch: 07, loss: -0.09184\n",
      "epoch: 08, loss: -0.09546\n",
      "epoch: 09, loss: -0.09405\n",
      "torch.Size([400, 64])\n"
     ]
    },
    {
     "name": "stderr",
     "output_type": "stream",
     "text": [
      "\r",
      " 16%|████████████████████████▊                                                                                                                                      | 156/1000 [1:01:15<5:40:20, 24.20s/it]"
     ]
    },
    {
     "name": "stdout",
     "output_type": "stream",
     "text": [
      "eigenvalues shape torch.Size([5]) eigenvectors shape torch.Size([5, 400])\n",
      "156 /home/phdcs2/Hard_Disk/Datasets/Deep-Spectral-Segmentation/data/object-segmentation/ECSSD/features/dino_vits16/0157.pth\n",
      "dict_keys(['k', 'indices', 'file', 'id', 'model_name', 'patch_size', 'shape'])\n",
      "0157\n",
      "Starting Training\n",
      "epoch: 00, loss: -0.03379\n",
      "epoch: 01, loss: -0.06784\n",
      "epoch: 02, loss: -0.06946\n",
      "epoch: 03, loss: -0.07217\n",
      "epoch: 04, loss: -0.07192\n",
      "epoch: 05, loss: -0.07398\n",
      "epoch: 06, loss: -0.07393\n",
      "epoch: 07, loss: -0.07366\n",
      "epoch: 08, loss: -0.07352\n",
      "epoch: 09, loss: -0.07305\n",
      "torch.Size([375, 64])\n"
     ]
    },
    {
     "name": "stderr",
     "output_type": "stream",
     "text": [
      "\r",
      " 16%|████████████████████████▉                                                                                                                                      | 157/1000 [1:01:36<5:28:11, 23.36s/it]"
     ]
    },
    {
     "name": "stdout",
     "output_type": "stream",
     "text": [
      "eigenvalues shape torch.Size([5]) eigenvectors shape torch.Size([5, 375])\n",
      "157 /home/phdcs2/Hard_Disk/Datasets/Deep-Spectral-Segmentation/data/object-segmentation/ECSSD/features/dino_vits16/0158.pth\n",
      "dict_keys(['k', 'indices', 'file', 'id', 'model_name', 'patch_size', 'shape'])\n",
      "0158\n",
      "Starting Training\n",
      "epoch: 00, loss: -0.12871\n",
      "epoch: 01, loss: -0.16360\n",
      "epoch: 02, loss: -0.16352\n",
      "epoch: 03, loss: -0.16474\n",
      "epoch: 04, loss: -0.16371\n",
      "epoch: 05, loss: -0.16430\n",
      "epoch: 06, loss: -0.16448\n",
      "epoch: 07, loss: -0.16499\n",
      "epoch: 08, loss: -0.16463\n",
      "epoch: 09, loss: -0.16481\n",
      "torch.Size([300, 64])\n"
     ]
    },
    {
     "name": "stderr",
     "output_type": "stream",
     "text": [
      "\r",
      " 16%|█████████████████████████                                                                                                                                      | 158/1000 [1:01:51<4:53:08, 20.89s/it]"
     ]
    },
    {
     "name": "stdout",
     "output_type": "stream",
     "text": [
      "eigenvalues shape torch.Size([5]) eigenvectors shape torch.Size([5, 300])\n",
      "158 /home/phdcs2/Hard_Disk/Datasets/Deep-Spectral-Segmentation/data/object-segmentation/ECSSD/features/dino_vits16/0159.pth\n",
      "dict_keys(['k', 'indices', 'file', 'id', 'model_name', 'patch_size', 'shape'])\n",
      "0159\n",
      "Starting Training\n",
      "epoch: 00, loss: -0.13591\n",
      "epoch: 01, loss: -0.17404\n",
      "epoch: 02, loss: -0.17852\n",
      "epoch: 03, loss: -0.17925\n",
      "epoch: 04, loss: -0.18416\n",
      "epoch: 05, loss: -0.18470\n",
      "epoch: 06, loss: -0.18442\n",
      "epoch: 07, loss: -0.18517\n",
      "epoch: 08, loss: -0.18641\n",
      "epoch: 09, loss: -0.18898\n",
      "torch.Size([425, 64])\n"
     ]
    },
    {
     "name": "stderr",
     "output_type": "stream",
     "text": [
      "\r",
      " 16%|█████████████████████████▎                                                                                                                                     | 159/1000 [1:02:16<5:08:09, 21.99s/it]"
     ]
    },
    {
     "name": "stdout",
     "output_type": "stream",
     "text": [
      "eigenvalues shape torch.Size([5]) eigenvectors shape torch.Size([5, 425])\n",
      "159 /home/phdcs2/Hard_Disk/Datasets/Deep-Spectral-Segmentation/data/object-segmentation/ECSSD/features/dino_vits16/0160.pth\n",
      "dict_keys(['k', 'indices', 'file', 'id', 'model_name', 'patch_size', 'shape'])\n",
      "0160\n",
      "Starting Training\n",
      "epoch: 00, loss: -0.05268\n",
      "epoch: 01, loss: -0.08114\n",
      "epoch: 02, loss: -0.08989\n",
      "epoch: 03, loss: -0.08968\n",
      "epoch: 04, loss: -0.08966\n",
      "epoch: 05, loss: -0.09052\n",
      "epoch: 06, loss: -0.09034\n",
      "epoch: 07, loss: -0.09288\n",
      "epoch: 08, loss: -0.09159\n",
      "epoch: 09, loss: -0.09266\n",
      "torch.Size([400, 64])\n"
     ]
    },
    {
     "name": "stderr",
     "output_type": "stream",
     "text": [
      "\r",
      " 16%|█████████████████████████▍                                                                                                                                     | 160/1000 [1:02:40<5:16:24, 22.60s/it]"
     ]
    },
    {
     "name": "stdout",
     "output_type": "stream",
     "text": [
      "eigenvalues shape torch.Size([5]) eigenvectors shape torch.Size([5, 400])\n",
      "160 /home/phdcs2/Hard_Disk/Datasets/Deep-Spectral-Segmentation/data/object-segmentation/ECSSD/features/dino_vits16/0161.pth\n",
      "dict_keys(['k', 'indices', 'file', 'id', 'model_name', 'patch_size', 'shape'])\n",
      "0161\n",
      "Starting Training\n",
      "epoch: 00, loss: -0.01093\n",
      "epoch: 01, loss: -0.03250\n",
      "epoch: 02, loss: -0.03710\n",
      "epoch: 03, loss: -0.03982\n",
      "epoch: 04, loss: -0.04088\n",
      "epoch: 05, loss: -0.04134\n",
      "epoch: 06, loss: -0.04042\n",
      "epoch: 07, loss: -0.04224\n",
      "epoch: 08, loss: -0.04254\n",
      "epoch: 09, loss: -0.04141\n",
      "torch.Size([450, 64])\n"
     ]
    },
    {
     "name": "stderr",
     "output_type": "stream",
     "text": [
      "\r",
      " 16%|█████████████████████████▌                                                                                                                                     | 161/1000 [1:03:03<5:17:12, 22.68s/it]"
     ]
    },
    {
     "name": "stdout",
     "output_type": "stream",
     "text": [
      "eigenvalues shape torch.Size([5]) eigenvectors shape torch.Size([5, 450])\n",
      "161 /home/phdcs2/Hard_Disk/Datasets/Deep-Spectral-Segmentation/data/object-segmentation/ECSSD/features/dino_vits16/0162.pth\n",
      "dict_keys(['k', 'indices', 'file', 'id', 'model_name', 'patch_size', 'shape'])\n",
      "0162\n",
      "Starting Training\n",
      "epoch: 00, loss: -0.04746\n",
      "epoch: 01, loss: -0.07127\n",
      "epoch: 02, loss: -0.07480\n",
      "epoch: 03, loss: -0.07504\n",
      "epoch: 04, loss: -0.07560\n",
      "epoch: 05, loss: -0.07398\n",
      "epoch: 06, loss: -0.07812\n",
      "epoch: 07, loss: -0.07540\n",
      "epoch: 08, loss: -0.07704\n",
      "epoch: 09, loss: -0.07546\n",
      "torch.Size([450, 64])\n"
     ]
    },
    {
     "name": "stderr",
     "output_type": "stream",
     "text": [
      "\r",
      " 16%|█████████████████████████▊                                                                                                                                     | 162/1000 [1:03:31<5:38:55, 24.27s/it]"
     ]
    },
    {
     "name": "stdout",
     "output_type": "stream",
     "text": [
      "eigenvalues shape torch.Size([5]) eigenvectors shape torch.Size([5, 450])\n",
      "162 /home/phdcs2/Hard_Disk/Datasets/Deep-Spectral-Segmentation/data/object-segmentation/ECSSD/features/dino_vits16/0163.pth\n",
      "dict_keys(['k', 'indices', 'file', 'id', 'model_name', 'patch_size', 'shape'])\n",
      "0163\n",
      "Starting Training\n",
      "epoch: 00, loss: -0.06206\n",
      "epoch: 01, loss: -0.08845\n",
      "epoch: 02, loss: -0.09243\n",
      "epoch: 03, loss: -0.09281\n",
      "epoch: 04, loss: -0.09050\n",
      "epoch: 05, loss: -0.09182\n",
      "epoch: 06, loss: -0.09341\n",
      "epoch: 07, loss: -0.09571\n",
      "epoch: 08, loss: -0.09318\n",
      "epoch: 09, loss: -0.09618\n",
      "torch.Size([400, 64])\n"
     ]
    },
    {
     "name": "stderr",
     "output_type": "stream",
     "text": [
      "\r",
      " 16%|█████████████████████████▉                                                                                                                                     | 163/1000 [1:03:52<5:27:31, 23.48s/it]"
     ]
    },
    {
     "name": "stdout",
     "output_type": "stream",
     "text": [
      "eigenvalues shape torch.Size([5]) eigenvectors shape torch.Size([5, 400])\n",
      "163 /home/phdcs2/Hard_Disk/Datasets/Deep-Spectral-Segmentation/data/object-segmentation/ECSSD/features/dino_vits16/0164.pth\n",
      "dict_keys(['k', 'indices', 'file', 'id', 'model_name', 'patch_size', 'shape'])\n",
      "0164\n",
      "Starting Training\n",
      "epoch: 00, loss: -0.07696\n",
      "epoch: 01, loss: -0.09671\n",
      "epoch: 02, loss: -0.09727\n",
      "epoch: 03, loss: -0.09744\n",
      "epoch: 04, loss: -0.09781\n",
      "epoch: 05, loss: -0.09769\n",
      "epoch: 06, loss: -0.09818\n",
      "epoch: 07, loss: -0.09813\n",
      "epoch: 08, loss: -0.09800\n",
      "epoch: 09, loss: -0.09828\n",
      "torch.Size([550, 64])\n"
     ]
    },
    {
     "name": "stderr",
     "output_type": "stream",
     "text": [
      "\r",
      " 16%|██████████████████████████                                                                                                                                     | 164/1000 [1:04:40<7:06:20, 30.60s/it]"
     ]
    },
    {
     "name": "stdout",
     "output_type": "stream",
     "text": [
      "eigenvalues shape torch.Size([5]) eigenvectors shape torch.Size([5, 550])\n",
      "164 /home/phdcs2/Hard_Disk/Datasets/Deep-Spectral-Segmentation/data/object-segmentation/ECSSD/features/dino_vits16/0165.pth\n",
      "dict_keys(['k', 'indices', 'file', 'id', 'model_name', 'patch_size', 'shape'])\n",
      "0165\n",
      "Starting Training\n",
      "epoch: 00, loss: -0.03410\n",
      "epoch: 01, loss: -0.05713\n",
      "epoch: 02, loss: -0.05952\n",
      "epoch: 03, loss: -0.05993\n",
      "epoch: 04, loss: -0.05991\n",
      "epoch: 05, loss: -0.06102\n",
      "epoch: 06, loss: -0.06097\n",
      "epoch: 07, loss: -0.06133\n",
      "epoch: 08, loss: -0.06156\n",
      "epoch: 09, loss: -0.06200\n",
      "torch.Size([450, 64])\n"
     ]
    },
    {
     "name": "stderr",
     "output_type": "stream",
     "text": [
      "\r",
      " 16%|██████████████████████████▏                                                                                                                                    | 165/1000 [1:05:03<6:34:33, 28.35s/it]"
     ]
    },
    {
     "name": "stdout",
     "output_type": "stream",
     "text": [
      "eigenvalues shape torch.Size([5]) eigenvectors shape torch.Size([5, 450])\n",
      "165 /home/phdcs2/Hard_Disk/Datasets/Deep-Spectral-Segmentation/data/object-segmentation/ECSSD/features/dino_vits16/0166.pth\n",
      "dict_keys(['k', 'indices', 'file', 'id', 'model_name', 'patch_size', 'shape'])\n",
      "0166\n",
      "Starting Training\n",
      "epoch: 00, loss: -0.09120\n",
      "epoch: 01, loss: -0.12694\n",
      "epoch: 02, loss: -0.13253\n",
      "epoch: 03, loss: -0.13264\n",
      "epoch: 04, loss: -0.13620\n",
      "epoch: 05, loss: -0.13509\n",
      "epoch: 06, loss: -0.13514\n",
      "epoch: 07, loss: -0.13748\n",
      "epoch: 08, loss: -0.13795\n",
      "epoch: 09, loss: -0.13715\n",
      "torch.Size([400, 64])\n"
     ]
    },
    {
     "name": "stderr",
     "output_type": "stream",
     "text": [
      "\r",
      " 17%|██████████████████████████▍                                                                                                                                    | 166/1000 [1:05:24<6:04:33, 26.23s/it]"
     ]
    },
    {
     "name": "stdout",
     "output_type": "stream",
     "text": [
      "eigenvalues shape torch.Size([5]) eigenvectors shape torch.Size([5, 400])\n",
      "166 /home/phdcs2/Hard_Disk/Datasets/Deep-Spectral-Segmentation/data/object-segmentation/ECSSD/features/dino_vits16/0167.pth\n",
      "dict_keys(['k', 'indices', 'file', 'id', 'model_name', 'patch_size', 'shape'])\n",
      "0167\n",
      "Starting Training\n",
      "epoch: 00, loss: -0.02447\n",
      "epoch: 01, loss: -0.04735\n",
      "epoch: 02, loss: -0.05009\n",
      "epoch: 03, loss: -0.05058\n",
      "epoch: 04, loss: -0.05086\n",
      "epoch: 05, loss: -0.05102\n",
      "epoch: 06, loss: -0.05131\n",
      "epoch: 07, loss: -0.05138\n",
      "epoch: 08, loss: -0.05147\n",
      "epoch: 09, loss: -0.05171\n",
      "torch.Size([450, 64])\n"
     ]
    },
    {
     "name": "stderr",
     "output_type": "stream",
     "text": [
      "\r",
      " 17%|██████████████████████████▌                                                                                                                                    | 167/1000 [1:05:47<5:50:12, 25.23s/it]"
     ]
    },
    {
     "name": "stdout",
     "output_type": "stream",
     "text": [
      "eigenvalues shape torch.Size([5]) eigenvectors shape torch.Size([5, 450])\n",
      "167 /home/phdcs2/Hard_Disk/Datasets/Deep-Spectral-Segmentation/data/object-segmentation/ECSSD/features/dino_vits16/0168.pth\n",
      "dict_keys(['k', 'indices', 'file', 'id', 'model_name', 'patch_size', 'shape'])\n",
      "0168\n",
      "Starting Training\n",
      "epoch: 00, loss: -0.07822\n",
      "epoch: 01, loss: -0.11589\n",
      "epoch: 02, loss: -0.12239\n",
      "epoch: 03, loss: -0.12182\n",
      "epoch: 04, loss: -0.12157\n",
      "epoch: 05, loss: -0.12205\n",
      "epoch: 06, loss: -0.12309\n",
      "epoch: 07, loss: -0.12351\n",
      "epoch: 08, loss: -0.12422\n",
      "epoch: 09, loss: -0.12472\n",
      "torch.Size([400, 64])\n"
     ]
    },
    {
     "name": "stderr",
     "output_type": "stream",
     "text": [
      "\r",
      " 17%|██████████████████████████▋                                                                                                                                    | 168/1000 [1:06:08<5:31:50, 23.93s/it]"
     ]
    },
    {
     "name": "stdout",
     "output_type": "stream",
     "text": [
      "eigenvalues shape torch.Size([5]) eigenvectors shape torch.Size([5, 400])\n",
      "168 /home/phdcs2/Hard_Disk/Datasets/Deep-Spectral-Segmentation/data/object-segmentation/ECSSD/features/dino_vits16/0169.pth\n",
      "dict_keys(['k', 'indices', 'file', 'id', 'model_name', 'patch_size', 'shape'])\n",
      "0169\n",
      "Starting Training\n",
      "epoch: 00, loss: -0.03675\n",
      "epoch: 01, loss: -0.07596\n",
      "epoch: 02, loss: -0.07974\n",
      "epoch: 03, loss: -0.08054\n",
      "epoch: 04, loss: -0.08271\n",
      "epoch: 05, loss: -0.08382\n",
      "epoch: 06, loss: -0.08354\n",
      "epoch: 07, loss: -0.08585\n",
      "epoch: 08, loss: -0.08497\n",
      "epoch: 09, loss: -0.08643\n",
      "torch.Size([400, 64])\n"
     ]
    },
    {
     "name": "stderr",
     "output_type": "stream",
     "text": [
      "\r",
      " 17%|██████████████████████████▊                                                                                                                                    | 169/1000 [1:06:30<5:25:28, 23.50s/it]"
     ]
    },
    {
     "name": "stdout",
     "output_type": "stream",
     "text": [
      "eigenvalues shape torch.Size([5]) eigenvectors shape torch.Size([5, 400])\n",
      "169 /home/phdcs2/Hard_Disk/Datasets/Deep-Spectral-Segmentation/data/object-segmentation/ECSSD/features/dino_vits16/0170.pth\n",
      "dict_keys(['k', 'indices', 'file', 'id', 'model_name', 'patch_size', 'shape'])\n",
      "0170\n",
      "Starting Training\n",
      "epoch: 00, loss: -0.07028\n",
      "epoch: 01, loss: -0.10252\n",
      "epoch: 02, loss: -0.10518\n",
      "epoch: 03, loss: -0.10588\n",
      "epoch: 04, loss: -0.10527\n",
      "epoch: 05, loss: -0.10743\n",
      "epoch: 06, loss: -0.11014\n",
      "epoch: 07, loss: -0.10925\n",
      "epoch: 08, loss: -0.10806\n",
      "epoch: 09, loss: -0.10994\n",
      "torch.Size([450, 64])\n"
     ]
    },
    {
     "name": "stderr",
     "output_type": "stream",
     "text": [
      "\r",
      " 17%|███████████████████████████                                                                                                                                    | 170/1000 [1:06:57<5:39:46, 24.56s/it]"
     ]
    },
    {
     "name": "stdout",
     "output_type": "stream",
     "text": [
      "eigenvalues shape torch.Size([5]) eigenvectors shape torch.Size([5, 450])\n",
      "170 /home/phdcs2/Hard_Disk/Datasets/Deep-Spectral-Segmentation/data/object-segmentation/ECSSD/features/dino_vits16/0171.pth\n",
      "dict_keys(['k', 'indices', 'file', 'id', 'model_name', 'patch_size', 'shape'])\n",
      "0171\n",
      "Starting Training\n",
      "epoch: 00, loss: -0.04141\n",
      "epoch: 01, loss: -0.06367\n",
      "epoch: 02, loss: -0.06312\n",
      "epoch: 03, loss: -0.06349\n",
      "epoch: 04, loss: -0.06404\n",
      "epoch: 05, loss: -0.06393\n",
      "epoch: 06, loss: -0.06411\n",
      "epoch: 07, loss: -0.06461\n",
      "epoch: 08, loss: -0.06440\n",
      "epoch: 09, loss: -0.06624\n",
      "torch.Size([375, 64])\n"
     ]
    },
    {
     "name": "stderr",
     "output_type": "stream",
     "text": [
      "\r",
      " 17%|███████████████████████████▏                                                                                                                                   | 171/1000 [1:07:20<5:30:38, 23.93s/it]"
     ]
    },
    {
     "name": "stdout",
     "output_type": "stream",
     "text": [
      "eigenvalues shape torch.Size([5]) eigenvectors shape torch.Size([5, 375])\n",
      "171 /home/phdcs2/Hard_Disk/Datasets/Deep-Spectral-Segmentation/data/object-segmentation/ECSSD/features/dino_vits16/0172.pth\n",
      "dict_keys(['k', 'indices', 'file', 'id', 'model_name', 'patch_size', 'shape'])\n",
      "0172\n",
      "Starting Training\n",
      "epoch: 00, loss: -0.03759\n",
      "epoch: 01, loss: -0.06632\n",
      "epoch: 02, loss: -0.06986\n",
      "epoch: 03, loss: -0.06838\n",
      "epoch: 04, loss: -0.06914\n",
      "epoch: 05, loss: -0.06961\n",
      "epoch: 06, loss: -0.06984\n",
      "epoch: 07, loss: -0.07117\n",
      "epoch: 08, loss: -0.06950\n",
      "epoch: 09, loss: -0.07031\n",
      "torch.Size([375, 64])\n"
     ]
    },
    {
     "name": "stderr",
     "output_type": "stream",
     "text": [
      "\r",
      " 17%|███████████████████████████▎                                                                                                                                   | 172/1000 [1:07:43<5:26:35, 23.67s/it]"
     ]
    },
    {
     "name": "stdout",
     "output_type": "stream",
     "text": [
      "eigenvalues shape torch.Size([5]) eigenvectors shape torch.Size([5, 375])\n",
      "172 /home/phdcs2/Hard_Disk/Datasets/Deep-Spectral-Segmentation/data/object-segmentation/ECSSD/features/dino_vits16/0173.pth\n",
      "dict_keys(['k', 'indices', 'file', 'id', 'model_name', 'patch_size', 'shape'])\n",
      "0173\n",
      "Starting Training\n",
      "epoch: 00, loss: -0.05607\n",
      "epoch: 01, loss: -0.07385\n",
      "epoch: 02, loss: -0.07773\n",
      "epoch: 03, loss: -0.07399\n",
      "epoch: 04, loss: -0.07707\n",
      "epoch: 05, loss: -0.07634\n",
      "epoch: 06, loss: -0.07916\n",
      "epoch: 07, loss: -0.07533\n",
      "epoch: 08, loss: -0.07825\n",
      "epoch: 09, loss: -0.07727\n",
      "torch.Size([450, 64])\n"
     ]
    },
    {
     "name": "stderr",
     "output_type": "stream",
     "text": [
      "\r",
      " 17%|███████████████████████████▌                                                                                                                                   | 173/1000 [1:08:10<5:38:56, 24.59s/it]"
     ]
    },
    {
     "name": "stdout",
     "output_type": "stream",
     "text": [
      "eigenvalues shape torch.Size([5]) eigenvectors shape torch.Size([5, 450])\n",
      "173 /home/phdcs2/Hard_Disk/Datasets/Deep-Spectral-Segmentation/data/object-segmentation/ECSSD/features/dino_vits16/0174.pth\n",
      "dict_keys(['k', 'indices', 'file', 'id', 'model_name', 'patch_size', 'shape'])\n",
      "0174\n",
      "Starting Training\n",
      "epoch: 00, loss: -0.02078\n",
      "epoch: 01, loss: -0.04437\n",
      "epoch: 02, loss: -0.04770\n",
      "epoch: 03, loss: -0.04693\n",
      "epoch: 04, loss: -0.04877\n",
      "epoch: 05, loss: -0.04809\n",
      "epoch: 06, loss: -0.04807\n",
      "epoch: 07, loss: -0.04824\n",
      "epoch: 08, loss: -0.04813\n",
      "epoch: 09, loss: -0.04956\n",
      "torch.Size([375, 64])\n"
     ]
    },
    {
     "name": "stderr",
     "output_type": "stream",
     "text": [
      "\r",
      " 17%|███████████████████████████▋                                                                                                                                   | 174/1000 [1:08:27<5:08:56, 22.44s/it]"
     ]
    },
    {
     "name": "stdout",
     "output_type": "stream",
     "text": [
      "eigenvalues shape torch.Size([5]) eigenvectors shape torch.Size([5, 375])\n",
      "174 /home/phdcs2/Hard_Disk/Datasets/Deep-Spectral-Segmentation/data/object-segmentation/ECSSD/features/dino_vits16/0175.pth\n",
      "dict_keys(['k', 'indices', 'file', 'id', 'model_name', 'patch_size', 'shape'])\n",
      "0175\n",
      "Starting Training\n",
      "epoch: 00, loss: -0.01863\n",
      "epoch: 01, loss: -0.04416\n",
      "epoch: 02, loss: -0.04597\n",
      "epoch: 03, loss: -0.04844\n",
      "epoch: 04, loss: -0.04932\n",
      "epoch: 05, loss: -0.05114\n",
      "epoch: 06, loss: -0.05167\n",
      "epoch: 07, loss: -0.05042\n",
      "epoch: 08, loss: -0.05283\n",
      "epoch: 09, loss: -0.05345\n",
      "torch.Size([450, 64])\n"
     ]
    },
    {
     "name": "stderr",
     "output_type": "stream",
     "text": [
      "\r",
      " 18%|███████████████████████████▊                                                                                                                                   | 175/1000 [1:08:56<5:35:25, 24.39s/it]"
     ]
    },
    {
     "name": "stdout",
     "output_type": "stream",
     "text": [
      "eigenvalues shape torch.Size([5]) eigenvectors shape torch.Size([5, 450])\n",
      "175 /home/phdcs2/Hard_Disk/Datasets/Deep-Spectral-Segmentation/data/object-segmentation/ECSSD/features/dino_vits16/0176.pth\n",
      "dict_keys(['k', 'indices', 'file', 'id', 'model_name', 'patch_size', 'shape'])\n",
      "0176\n",
      "Starting Training\n",
      "epoch: 00, loss: -0.03072\n",
      "epoch: 01, loss: -0.04805\n",
      "epoch: 02, loss: -0.04911\n",
      "epoch: 03, loss: -0.04987\n",
      "epoch: 04, loss: -0.04985\n",
      "epoch: 05, loss: -0.05003\n",
      "epoch: 06, loss: -0.05015\n",
      "epoch: 07, loss: -0.05037\n",
      "epoch: 08, loss: -0.05068\n",
      "epoch: 09, loss: -0.05068\n",
      "torch.Size([550, 64])\n"
     ]
    },
    {
     "name": "stderr",
     "output_type": "stream",
     "text": [
      "\r",
      " 18%|███████████████████████████▉                                                                                                                                   | 176/1000 [1:09:46<7:19:07, 31.98s/it]"
     ]
    },
    {
     "name": "stdout",
     "output_type": "stream",
     "text": [
      "eigenvalues shape torch.Size([5]) eigenvectors shape torch.Size([5, 550])\n",
      "176 /home/phdcs2/Hard_Disk/Datasets/Deep-Spectral-Segmentation/data/object-segmentation/ECSSD/features/dino_vits16/0177.pth\n",
      "dict_keys(['k', 'indices', 'file', 'id', 'model_name', 'patch_size', 'shape'])\n",
      "0177\n",
      "Starting Training\n",
      "epoch: 00, loss: -0.03355\n",
      "epoch: 01, loss: -0.06339\n",
      "epoch: 02, loss: -0.06820\n",
      "epoch: 03, loss: -0.07099\n",
      "epoch: 04, loss: -0.07130\n",
      "epoch: 05, loss: -0.07138\n",
      "epoch: 06, loss: -0.07156\n",
      "epoch: 07, loss: -0.07404\n",
      "epoch: 08, loss: -0.07547\n",
      "epoch: 09, loss: -0.07412\n",
      "torch.Size([400, 64])\n"
     ]
    },
    {
     "name": "stderr",
     "output_type": "stream",
     "text": [
      "\r",
      " 18%|████████████████████████████▏                                                                                                                                  | 177/1000 [1:10:07<6:33:46, 28.71s/it]"
     ]
    },
    {
     "name": "stdout",
     "output_type": "stream",
     "text": [
      "eigenvalues shape torch.Size([5]) eigenvectors shape torch.Size([5, 400])\n",
      "177 /home/phdcs2/Hard_Disk/Datasets/Deep-Spectral-Segmentation/data/object-segmentation/ECSSD/features/dino_vits16/0178.pth\n",
      "dict_keys(['k', 'indices', 'file', 'id', 'model_name', 'patch_size', 'shape'])\n",
      "0178\n",
      "Starting Training\n",
      "epoch: 00, loss: -0.03281\n",
      "epoch: 01, loss: -0.05013\n",
      "epoch: 02, loss: -0.05145\n",
      "epoch: 03, loss: -0.05171\n",
      "epoch: 04, loss: -0.05196\n",
      "epoch: 05, loss: -0.05225\n",
      "epoch: 06, loss: -0.05238\n",
      "epoch: 07, loss: -0.05241\n",
      "epoch: 08, loss: -0.05282\n",
      "epoch: 09, loss: -0.05281\n",
      "torch.Size([450, 64])\n"
     ]
    },
    {
     "name": "stderr",
     "output_type": "stream",
     "text": [
      "\r",
      " 18%|████████████████████████████▎                                                                                                                                  | 178/1000 [1:10:30<6:12:10, 27.17s/it]"
     ]
    },
    {
     "name": "stdout",
     "output_type": "stream",
     "text": [
      "eigenvalues shape torch.Size([5]) eigenvectors shape torch.Size([5, 450])\n",
      "178 /home/phdcs2/Hard_Disk/Datasets/Deep-Spectral-Segmentation/data/object-segmentation/ECSSD/features/dino_vits16/0179.pth\n",
      "dict_keys(['k', 'indices', 'file', 'id', 'model_name', 'patch_size', 'shape'])\n",
      "0179\n",
      "Starting Training\n",
      "epoch: 00, loss: -0.02825\n",
      "epoch: 01, loss: -0.05421\n",
      "epoch: 02, loss: -0.05671\n",
      "epoch: 03, loss: -0.05733\n",
      "epoch: 04, loss: -0.05766\n",
      "epoch: 05, loss: -0.05775\n",
      "epoch: 06, loss: -0.05801\n",
      "epoch: 07, loss: -0.05782\n",
      "epoch: 08, loss: -0.05806\n",
      "epoch: 09, loss: -0.05824\n",
      "torch.Size([400, 64])\n"
     ]
    },
    {
     "name": "stderr",
     "output_type": "stream",
     "text": [
      "\r",
      " 18%|████████████████████████████▍                                                                                                                                  | 179/1000 [1:10:55<6:02:04, 26.46s/it]"
     ]
    },
    {
     "name": "stdout",
     "output_type": "stream",
     "text": [
      "eigenvalues shape torch.Size([5]) eigenvectors shape torch.Size([5, 400])\n",
      "179 /home/phdcs2/Hard_Disk/Datasets/Deep-Spectral-Segmentation/data/object-segmentation/ECSSD/features/dino_vits16/0180.pth\n",
      "dict_keys(['k', 'indices', 'file', 'id', 'model_name', 'patch_size', 'shape'])\n",
      "0180\n",
      "Starting Training\n",
      "epoch: 00, loss: -0.05255\n",
      "epoch: 01, loss: -0.07919\n",
      "epoch: 02, loss: -0.07970\n",
      "epoch: 03, loss: -0.08046\n",
      "epoch: 04, loss: -0.08045\n",
      "epoch: 05, loss: -0.08091\n",
      "epoch: 06, loss: -0.08073\n",
      "epoch: 07, loss: -0.08097\n",
      "epoch: 08, loss: -0.08099\n",
      "epoch: 09, loss: -0.08121\n",
      "torch.Size([400, 64])\n"
     ]
    },
    {
     "name": "stderr",
     "output_type": "stream",
     "text": [
      "\r",
      " 18%|████████████████████████████▌                                                                                                                                  | 180/1000 [1:11:15<5:35:07, 24.52s/it]"
     ]
    },
    {
     "name": "stdout",
     "output_type": "stream",
     "text": [
      "eigenvalues shape torch.Size([5]) eigenvectors shape torch.Size([5, 400])\n",
      "180 /home/phdcs2/Hard_Disk/Datasets/Deep-Spectral-Segmentation/data/object-segmentation/ECSSD/features/dino_vits16/0181.pth\n",
      "dict_keys(['k', 'indices', 'file', 'id', 'model_name', 'patch_size', 'shape'])\n",
      "0181\n",
      "Starting Training\n",
      "epoch: 00, loss: -0.00365\n",
      "epoch: 01, loss: -0.02235\n",
      "epoch: 02, loss: -0.02773\n",
      "epoch: 03, loss: -0.03039\n",
      "epoch: 04, loss: -0.03059\n",
      "epoch: 05, loss: -0.03144\n",
      "epoch: 06, loss: -0.03104\n",
      "epoch: 07, loss: -0.03210\n",
      "epoch: 08, loss: -0.03195\n",
      "epoch: 09, loss: -0.03174\n",
      "torch.Size([375, 64])\n"
     ]
    },
    {
     "name": "stderr",
     "output_type": "stream",
     "text": [
      "\r",
      " 18%|████████████████████████████▊                                                                                                                                  | 181/1000 [1:11:39<5:31:00, 24.25s/it]"
     ]
    },
    {
     "name": "stdout",
     "output_type": "stream",
     "text": [
      "eigenvalues shape torch.Size([5]) eigenvectors shape torch.Size([5, 375])\n",
      "181 /home/phdcs2/Hard_Disk/Datasets/Deep-Spectral-Segmentation/data/object-segmentation/ECSSD/features/dino_vits16/0182.pth\n",
      "dict_keys(['k', 'indices', 'file', 'id', 'model_name', 'patch_size', 'shape'])\n",
      "0182\n",
      "Starting Training\n",
      "epoch: 00, loss: -0.02310\n",
      "epoch: 01, loss: -0.04010\n",
      "epoch: 02, loss: -0.04214\n",
      "epoch: 03, loss: -0.04439\n",
      "epoch: 04, loss: -0.04573\n",
      "epoch: 05, loss: -0.04627\n",
      "epoch: 06, loss: -0.04548\n",
      "epoch: 07, loss: -0.04632\n",
      "epoch: 08, loss: -0.04423\n",
      "epoch: 09, loss: -0.04827\n",
      "torch.Size([625, 64])\n"
     ]
    },
    {
     "name": "stderr",
     "output_type": "stream",
     "text": [
      "\r",
      " 18%|████████████████████████████▉                                                                                                                                  | 182/1000 [1:12:32<7:30:27, 33.04s/it]"
     ]
    },
    {
     "name": "stdout",
     "output_type": "stream",
     "text": [
      "eigenvalues shape torch.Size([5]) eigenvectors shape torch.Size([5, 625])\n",
      "182 /home/phdcs2/Hard_Disk/Datasets/Deep-Spectral-Segmentation/data/object-segmentation/ECSSD/features/dino_vits16/0183.pth\n",
      "dict_keys(['k', 'indices', 'file', 'id', 'model_name', 'patch_size', 'shape'])\n",
      "0183\n",
      "Starting Training\n",
      "epoch: 00, loss: 0.00546\n",
      "epoch: 01, loss: -0.00556\n",
      "epoch: 02, loss: -0.01099\n",
      "epoch: 03, loss: -0.01378\n",
      "epoch: 04, loss: -0.01516\n",
      "epoch: 05, loss: -0.01638\n",
      "epoch: 06, loss: -0.01687\n",
      "epoch: 07, loss: -0.01712\n",
      "epoch: 08, loss: -0.01740\n",
      "epoch: 09, loss: -0.01775\n",
      "torch.Size([400, 64])\n"
     ]
    },
    {
     "name": "stderr",
     "output_type": "stream",
     "text": [
      "\r",
      " 18%|█████████████████████████████                                                                                                                                  | 183/1000 [1:12:56<6:51:06, 30.19s/it]"
     ]
    },
    {
     "name": "stdout",
     "output_type": "stream",
     "text": [
      "eigenvalues shape torch.Size([5]) eigenvectors shape torch.Size([5, 400])\n",
      "183 /home/phdcs2/Hard_Disk/Datasets/Deep-Spectral-Segmentation/data/object-segmentation/ECSSD/features/dino_vits16/0184.pth\n",
      "dict_keys(['k', 'indices', 'file', 'id', 'model_name', 'patch_size', 'shape'])\n",
      "0184\n",
      "Starting Training\n",
      "epoch: 00, loss: -0.06366\n",
      "epoch: 01, loss: -0.08713\n",
      "epoch: 02, loss: -0.08897\n",
      "epoch: 03, loss: -0.08864\n",
      "epoch: 04, loss: -0.08989\n",
      "epoch: 05, loss: -0.08986\n",
      "epoch: 06, loss: -0.09166\n",
      "epoch: 07, loss: -0.08966\n",
      "epoch: 08, loss: -0.09099\n",
      "epoch: 09, loss: -0.09141\n",
      "torch.Size([625, 64])\n"
     ]
    },
    {
     "name": "stderr",
     "output_type": "stream",
     "text": [
      "\r",
      " 18%|█████████████████████████████▎                                                                                                                                 | 184/1000 [1:13:39<7:44:19, 34.14s/it]"
     ]
    },
    {
     "name": "stdout",
     "output_type": "stream",
     "text": [
      "eigenvalues shape torch.Size([5]) eigenvectors shape torch.Size([5, 625])\n",
      "184 /home/phdcs2/Hard_Disk/Datasets/Deep-Spectral-Segmentation/data/object-segmentation/ECSSD/features/dino_vits16/0185.pth\n",
      "dict_keys(['k', 'indices', 'file', 'id', 'model_name', 'patch_size', 'shape'])\n",
      "0185\n",
      "Starting Training\n",
      "epoch: 00, loss: -0.04089\n",
      "epoch: 01, loss: -0.06492\n",
      "epoch: 02, loss: -0.06745\n",
      "epoch: 03, loss: -0.07097\n",
      "epoch: 04, loss: -0.06959\n",
      "epoch: 05, loss: -0.07042\n",
      "epoch: 06, loss: -0.07219\n",
      "epoch: 07, loss: -0.07202\n",
      "epoch: 08, loss: -0.07175\n",
      "epoch: 09, loss: -0.07332\n",
      "torch.Size([625, 64])\n"
     ]
    },
    {
     "name": "stderr",
     "output_type": "stream",
     "text": [
      "\r",
      " 18%|█████████████████████████████▍                                                                                                                                 | 185/1000 [1:14:31<8:54:37, 39.36s/it]"
     ]
    },
    {
     "name": "stdout",
     "output_type": "stream",
     "text": [
      "eigenvalues shape torch.Size([5]) eigenvectors shape torch.Size([5, 625])\n",
      "185 /home/phdcs2/Hard_Disk/Datasets/Deep-Spectral-Segmentation/data/object-segmentation/ECSSD/features/dino_vits16/0186.pth\n",
      "dict_keys(['k', 'indices', 'file', 'id', 'model_name', 'patch_size', 'shape'])\n",
      "0186\n",
      "Starting Training\n",
      "epoch: 00, loss: -0.01376\n",
      "epoch: 01, loss: -0.03409\n",
      "epoch: 02, loss: -0.03674\n",
      "epoch: 03, loss: -0.03690\n",
      "epoch: 04, loss: -0.03730\n",
      "epoch: 05, loss: -0.03722\n",
      "epoch: 06, loss: -0.03830\n",
      "epoch: 07, loss: -0.03757\n",
      "epoch: 08, loss: -0.03768\n",
      "epoch: 09, loss: -0.03780\n",
      "torch.Size([625, 64])\n"
     ]
    },
    {
     "name": "stderr",
     "output_type": "stream",
     "text": [
      "\r",
      " 19%|█████████████████████████████▍                                                                                                                                | 186/1000 [1:15:26<10:00:13, 44.24s/it]"
     ]
    },
    {
     "name": "stdout",
     "output_type": "stream",
     "text": [
      "eigenvalues shape torch.Size([5]) eigenvectors shape torch.Size([5, 625])\n",
      "186 /home/phdcs2/Hard_Disk/Datasets/Deep-Spectral-Segmentation/data/object-segmentation/ECSSD/features/dino_vits16/0187.pth\n",
      "dict_keys(['k', 'indices', 'file', 'id', 'model_name', 'patch_size', 'shape'])\n",
      "0187\n",
      "Starting Training\n",
      "epoch: 00, loss: 0.00901\n",
      "epoch: 01, loss: -0.00569\n",
      "epoch: 02, loss: -0.01411\n",
      "epoch: 03, loss: -0.01971\n",
      "epoch: 04, loss: -0.02237\n",
      "epoch: 05, loss: -0.02453\n",
      "epoch: 06, loss: -0.02552\n",
      "epoch: 07, loss: -0.02628\n",
      "epoch: 08, loss: -0.02681\n",
      "epoch: 09, loss: -0.02734\n",
      "torch.Size([200, 64])\n"
     ]
    },
    {
     "name": "stderr",
     "output_type": "stream",
     "text": [
      "/home/phdcs2/Hard_Disk/Projects/T2I/deep-spectral-segmentation/venv/lib/python3.8/site-packages/scipy/sparse/linalg/_eigen/arpack/arpack.py:935: LinAlgWarning: Diagonal number 200 is exactly zero. Singular matrix.\n",
      "  self.M_lu = lu_factor(M)\n"
     ]
    },
    {
     "name": "stdout",
     "output_type": "stream",
     "text": [
      " ** On entry to SLASCL parameter number  4 had an illegal value\n",
      " ** On entry to SLASCL parameter number  4 had an illegal value\n"
     ]
    },
    {
     "name": "stderr",
     "output_type": "stream",
     "text": [
      "\r",
      " 19%|█████████████████████████████▋                                                                                                                                 | 187/1000 [1:15:43<8:08:01, 36.02s/it]"
     ]
    },
    {
     "name": "stdout",
     "output_type": "stream",
     "text": [
      "eigenvalues shape torch.Size([5]) eigenvectors shape torch.Size([5, 200])\n",
      "187 /home/phdcs2/Hard_Disk/Datasets/Deep-Spectral-Segmentation/data/object-segmentation/ECSSD/features/dino_vits16/0188.pth\n",
      "dict_keys(['k', 'indices', 'file', 'id', 'model_name', 'patch_size', 'shape'])\n",
      "0188\n",
      "Starting Training\n",
      "epoch: 00, loss: -0.03057\n",
      "epoch: 01, loss: -0.06350\n",
      "epoch: 02, loss: -0.06531\n",
      "epoch: 03, loss: -0.06905\n",
      "epoch: 04, loss: -0.06918\n",
      "epoch: 05, loss: -0.07141\n",
      "epoch: 06, loss: -0.07006\n",
      "epoch: 07, loss: -0.07026\n",
      "epoch: 08, loss: -0.07084\n",
      "epoch: 09, loss: -0.07299\n",
      "torch.Size([400, 64])\n"
     ]
    },
    {
     "name": "stderr",
     "output_type": "stream",
     "text": [
      "\r",
      " 19%|█████████████████████████████▉                                                                                                                                 | 188/1000 [1:16:08<7:23:10, 32.75s/it]"
     ]
    },
    {
     "name": "stdout",
     "output_type": "stream",
     "text": [
      "eigenvalues shape torch.Size([5]) eigenvectors shape torch.Size([5, 400])\n",
      "188 /home/phdcs2/Hard_Disk/Datasets/Deep-Spectral-Segmentation/data/object-segmentation/ECSSD/features/dino_vits16/0189.pth\n",
      "dict_keys(['k', 'indices', 'file', 'id', 'model_name', 'patch_size', 'shape'])\n",
      "0189\n",
      "Starting Training\n",
      "epoch: 00, loss: -0.01216\n",
      "epoch: 01, loss: -0.03756\n",
      "epoch: 02, loss: -0.04674\n",
      "epoch: 03, loss: -0.05179\n",
      "epoch: 04, loss: -0.05364\n",
      "epoch: 05, loss: -0.05000\n",
      "epoch: 06, loss: -0.05136\n",
      "epoch: 07, loss: -0.05115\n",
      "epoch: 08, loss: -0.05365\n",
      "epoch: 09, loss: -0.05450\n",
      "torch.Size([400, 64])\n"
     ]
    },
    {
     "name": "stderr",
     "output_type": "stream",
     "text": [
      "\r",
      " 19%|██████████████████████████████                                                                                                                                 | 189/1000 [1:16:36<7:02:02, 31.22s/it]"
     ]
    },
    {
     "name": "stdout",
     "output_type": "stream",
     "text": [
      "eigenvalues shape torch.Size([5]) eigenvectors shape torch.Size([5, 400])\n",
      "189 /home/phdcs2/Hard_Disk/Datasets/Deep-Spectral-Segmentation/data/object-segmentation/ECSSD/features/dino_vits16/0190.pth\n",
      "dict_keys(['k', 'indices', 'file', 'id', 'model_name', 'patch_size', 'shape'])\n",
      "0190\n",
      "Starting Training\n",
      "epoch: 00, loss: -0.03055\n",
      "epoch: 01, loss: -0.05814\n",
      "epoch: 02, loss: -0.05945\n",
      "epoch: 03, loss: -0.06014\n",
      "epoch: 04, loss: -0.06004\n",
      "epoch: 05, loss: -0.06032\n",
      "epoch: 06, loss: -0.06054\n",
      "epoch: 07, loss: -0.06061\n",
      "epoch: 08, loss: -0.06062\n",
      "epoch: 09, loss: -0.06092\n",
      "torch.Size([450, 64])\n"
     ]
    },
    {
     "name": "stderr",
     "output_type": "stream",
     "text": [
      "\r",
      " 19%|██████████████████████████████▏                                                                                                                                | 190/1000 [1:17:10<7:12:36, 32.04s/it]"
     ]
    },
    {
     "name": "stdout",
     "output_type": "stream",
     "text": [
      "eigenvalues shape torch.Size([5]) eigenvectors shape torch.Size([5, 450])\n",
      "190 /home/phdcs2/Hard_Disk/Datasets/Deep-Spectral-Segmentation/data/object-segmentation/ECSSD/features/dino_vits16/0191.pth\n",
      "dict_keys(['k', 'indices', 'file', 'id', 'model_name', 'patch_size', 'shape'])\n",
      "0191\n",
      "Starting Training\n",
      "epoch: 00, loss: -0.12543\n",
      "epoch: 01, loss: -0.15758\n",
      "epoch: 02, loss: -0.16439\n",
      "epoch: 03, loss: -0.16748\n",
      "epoch: 04, loss: -0.16684\n",
      "epoch: 05, loss: -0.16935\n",
      "epoch: 06, loss: -0.16887\n",
      "epoch: 07, loss: -0.17025\n",
      "epoch: 08, loss: -0.17120\n",
      "epoch: 09, loss: -0.17171\n",
      "torch.Size([450, 64])\n"
     ]
    },
    {
     "name": "stderr",
     "output_type": "stream",
     "text": [
      "\r",
      " 19%|██████████████████████████████▎                                                                                                                                | 191/1000 [1:17:33<6:34:59, 29.29s/it]"
     ]
    },
    {
     "name": "stdout",
     "output_type": "stream",
     "text": [
      "eigenvalues shape torch.Size([5]) eigenvectors shape torch.Size([5, 450])\n",
      "191 /home/phdcs2/Hard_Disk/Datasets/Deep-Spectral-Segmentation/data/object-segmentation/ECSSD/features/dino_vits16/0192.pth\n",
      "dict_keys(['k', 'indices', 'file', 'id', 'model_name', 'patch_size', 'shape'])\n",
      "0192\n",
      "Starting Training\n",
      "epoch: 00, loss: -0.03611\n",
      "epoch: 01, loss: -0.07071\n",
      "epoch: 02, loss: -0.07353\n",
      "epoch: 03, loss: -0.07272\n",
      "epoch: 04, loss: -0.07296\n",
      "epoch: 05, loss: -0.07577\n",
      "epoch: 06, loss: -0.07675\n",
      "epoch: 07, loss: -0.07549\n",
      "epoch: 08, loss: -0.07603\n",
      "epoch: 09, loss: -0.07830\n",
      "torch.Size([400, 64])\n"
     ]
    },
    {
     "name": "stderr",
     "output_type": "stream",
     "text": [
      "\r",
      " 19%|██████████████████████████████▌                                                                                                                                | 192/1000 [1:17:56<6:08:56, 27.40s/it]"
     ]
    },
    {
     "name": "stdout",
     "output_type": "stream",
     "text": [
      "eigenvalues shape torch.Size([5]) eigenvectors shape torch.Size([5, 400])\n",
      "192 /home/phdcs2/Hard_Disk/Datasets/Deep-Spectral-Segmentation/data/object-segmentation/ECSSD/features/dino_vits16/0193.pth\n",
      "dict_keys(['k', 'indices', 'file', 'id', 'model_name', 'patch_size', 'shape'])\n",
      "0193\n",
      "Starting Training\n",
      "epoch: 00, loss: 0.00221\n",
      "epoch: 01, loss: -0.00707\n",
      "epoch: 02, loss: -0.01158\n",
      "epoch: 03, loss: -0.01431\n",
      "epoch: 04, loss: -0.01503\n",
      "epoch: 05, loss: -0.01704\n",
      "epoch: 06, loss: -0.01610\n",
      "epoch: 07, loss: -0.01648\n",
      "epoch: 08, loss: -0.01714\n",
      "epoch: 09, loss: -0.01690\n",
      "torch.Size([450, 64])\n"
     ]
    },
    {
     "name": "stderr",
     "output_type": "stream",
     "text": [
      "\r",
      " 19%|██████████████████████████████▋                                                                                                                                | 193/1000 [1:18:19<5:53:14, 26.26s/it]"
     ]
    },
    {
     "name": "stdout",
     "output_type": "stream",
     "text": [
      "eigenvalues shape torch.Size([5]) eigenvectors shape torch.Size([5, 450])\n",
      "193 /home/phdcs2/Hard_Disk/Datasets/Deep-Spectral-Segmentation/data/object-segmentation/ECSSD/features/dino_vits16/0194.pth\n",
      "dict_keys(['k', 'indices', 'file', 'id', 'model_name', 'patch_size', 'shape'])\n",
      "0194\n",
      "Starting Training\n",
      "epoch: 00, loss: -0.01196\n",
      "epoch: 01, loss: -0.03272\n",
      "epoch: 02, loss: -0.03657\n",
      "epoch: 03, loss: -0.03761\n",
      "epoch: 04, loss: -0.04046\n",
      "epoch: 05, loss: -0.03908\n",
      "epoch: 06, loss: -0.04024\n",
      "epoch: 07, loss: -0.03919\n",
      "epoch: 08, loss: -0.04012\n",
      "epoch: 09, loss: -0.04060\n",
      "torch.Size([450, 64])\n"
     ]
    },
    {
     "name": "stderr",
     "output_type": "stream",
     "text": [
      "\r",
      " 19%|██████████████████████████████▊                                                                                                                                | 194/1000 [1:18:44<5:48:18, 25.93s/it]"
     ]
    },
    {
     "name": "stdout",
     "output_type": "stream",
     "text": [
      "eigenvalues shape torch.Size([5]) eigenvectors shape torch.Size([5, 450])\n",
      "194 /home/phdcs2/Hard_Disk/Datasets/Deep-Spectral-Segmentation/data/object-segmentation/ECSSD/features/dino_vits16/0195.pth\n",
      "dict_keys(['k', 'indices', 'file', 'id', 'model_name', 'patch_size', 'shape'])\n",
      "0195\n",
      "Starting Training\n",
      "epoch: 00, loss: -0.04345\n",
      "epoch: 01, loss: -0.07528\n",
      "epoch: 02, loss: -0.07917\n",
      "epoch: 03, loss: -0.07915\n",
      "epoch: 04, loss: -0.07782\n",
      "epoch: 05, loss: -0.08114\n",
      "epoch: 06, loss: -0.08163\n",
      "epoch: 07, loss: -0.07885\n",
      "epoch: 08, loss: -0.08177\n",
      "epoch: 09, loss: -0.08278\n",
      "torch.Size([400, 64])\n"
     ]
    },
    {
     "name": "stderr",
     "output_type": "stream",
     "text": [
      "\r",
      " 20%|███████████████████████████████                                                                                                                                | 195/1000 [1:19:09<5:42:39, 25.54s/it]"
     ]
    },
    {
     "name": "stdout",
     "output_type": "stream",
     "text": [
      "eigenvalues shape torch.Size([5]) eigenvectors shape torch.Size([5, 400])\n",
      "195 /home/phdcs2/Hard_Disk/Datasets/Deep-Spectral-Segmentation/data/object-segmentation/ECSSD/features/dino_vits16/0196.pth\n",
      "dict_keys(['k', 'indices', 'file', 'id', 'model_name', 'patch_size', 'shape'])\n",
      "0196\n",
      "Starting Training\n",
      "epoch: 00, loss: -0.02895\n",
      "epoch: 01, loss: -0.05356\n",
      "epoch: 02, loss: -0.05730\n",
      "epoch: 03, loss: -0.05946\n",
      "epoch: 04, loss: -0.05950\n",
      "epoch: 05, loss: -0.05980\n",
      "epoch: 06, loss: -0.06129\n",
      "epoch: 07, loss: -0.06141\n",
      "epoch: 08, loss: -0.06207\n",
      "epoch: 09, loss: -0.06041\n",
      "torch.Size([625, 64])\n"
     ]
    },
    {
     "name": "stderr",
     "output_type": "stream",
     "text": [
      "\r",
      " 20%|███████████████████████████████▏                                                                                                                               | 196/1000 [1:20:01<7:27:47, 33.42s/it]"
     ]
    },
    {
     "name": "stdout",
     "output_type": "stream",
     "text": [
      "eigenvalues shape torch.Size([5]) eigenvectors shape torch.Size([5, 625])\n",
      "196 /home/phdcs2/Hard_Disk/Datasets/Deep-Spectral-Segmentation/data/object-segmentation/ECSSD/features/dino_vits16/0197.pth\n",
      "dict_keys(['k', 'indices', 'file', 'id', 'model_name', 'patch_size', 'shape'])\n",
      "0197\n",
      "Starting Training\n",
      "epoch: 00, loss: -0.04320\n",
      "epoch: 01, loss: -0.07815\n",
      "epoch: 02, loss: -0.08012\n",
      "epoch: 03, loss: -0.08014\n",
      "epoch: 04, loss: -0.08040\n",
      "epoch: 05, loss: -0.08056\n",
      "epoch: 06, loss: -0.08110\n",
      "epoch: 07, loss: -0.08072\n",
      "epoch: 08, loss: -0.08093\n",
      "epoch: 09, loss: -0.08119\n",
      "torch.Size([400, 64])\n"
     ]
    },
    {
     "name": "stderr",
     "output_type": "stream",
     "text": [
      "\r",
      " 20%|███████████████████████████████▎                                                                                                                               | 197/1000 [1:20:26<6:53:53, 30.93s/it]"
     ]
    },
    {
     "name": "stdout",
     "output_type": "stream",
     "text": [
      "eigenvalues shape torch.Size([5]) eigenvectors shape torch.Size([5, 400])\n",
      "197 /home/phdcs2/Hard_Disk/Datasets/Deep-Spectral-Segmentation/data/object-segmentation/ECSSD/features/dino_vits16/0198.pth\n",
      "dict_keys(['k', 'indices', 'file', 'id', 'model_name', 'patch_size', 'shape'])\n",
      "0198\n",
      "Starting Training\n",
      "epoch: 00, loss: -0.00193\n",
      "epoch: 01, loss: -0.01727\n",
      "epoch: 02, loss: -0.02066\n",
      "epoch: 03, loss: -0.02375\n",
      "epoch: 04, loss: -0.02408\n",
      "epoch: 05, loss: -0.02317\n",
      "epoch: 06, loss: -0.02484\n",
      "epoch: 07, loss: -0.02405\n",
      "epoch: 08, loss: -0.02498\n",
      "epoch: 09, loss: -0.02560\n",
      "torch.Size([425, 64])\n"
     ]
    },
    {
     "name": "stderr",
     "output_type": "stream",
     "text": [
      "\r",
      " 20%|███████████████████████████████▍                                                                                                                               | 198/1000 [1:20:49<6:23:05, 28.66s/it]"
     ]
    },
    {
     "name": "stdout",
     "output_type": "stream",
     "text": [
      "eigenvalues shape torch.Size([5]) eigenvectors shape torch.Size([5, 425])\n",
      "198 /home/phdcs2/Hard_Disk/Datasets/Deep-Spectral-Segmentation/data/object-segmentation/ECSSD/features/dino_vits16/0199.pth\n",
      "dict_keys(['k', 'indices', 'file', 'id', 'model_name', 'patch_size', 'shape'])\n",
      "0199\n",
      "Starting Training\n",
      "epoch: 00, loss: -0.02468\n",
      "epoch: 01, loss: -0.04481\n",
      "epoch: 02, loss: -0.04649\n",
      "epoch: 03, loss: -0.04701\n",
      "epoch: 04, loss: -0.04741\n",
      "epoch: 05, loss: -0.04782\n",
      "epoch: 06, loss: -0.04785\n",
      "epoch: 07, loss: -0.04817\n",
      "epoch: 08, loss: -0.04834\n",
      "epoch: 09, loss: -0.04824\n",
      "torch.Size([450, 64])\n"
     ]
    },
    {
     "name": "stderr",
     "output_type": "stream",
     "text": [
      "\r",
      " 20%|███████████████████████████████▋                                                                                                                               | 199/1000 [1:21:16<6:12:53, 27.93s/it]"
     ]
    },
    {
     "name": "stdout",
     "output_type": "stream",
     "text": [
      "eigenvalues shape torch.Size([5]) eigenvectors shape torch.Size([5, 450])\n",
      "199 /home/phdcs2/Hard_Disk/Datasets/Deep-Spectral-Segmentation/data/object-segmentation/ECSSD/features/dino_vits16/0200.pth\n",
      "dict_keys(['k', 'indices', 'file', 'id', 'model_name', 'patch_size', 'shape'])\n",
      "0200\n",
      "Starting Training\n",
      "epoch: 00, loss: -0.02954\n",
      "epoch: 01, loss: -0.04519\n",
      "epoch: 02, loss: -0.04646\n",
      "epoch: 03, loss: -0.04719\n",
      "epoch: 04, loss: -0.04783\n",
      "epoch: 05, loss: -0.04770\n",
      "epoch: 06, loss: -0.04790\n",
      "epoch: 07, loss: -0.04780\n",
      "epoch: 08, loss: -0.04806\n",
      "epoch: 09, loss: -0.04868\n",
      "torch.Size([450, 64])\n"
     ]
    },
    {
     "name": "stderr",
     "output_type": "stream",
     "text": [
      "\r",
      " 20%|███████████████████████████████▊                                                                                                                               | 200/1000 [1:21:39<5:53:59, 26.55s/it]"
     ]
    },
    {
     "name": "stdout",
     "output_type": "stream",
     "text": [
      "eigenvalues shape torch.Size([5]) eigenvectors shape torch.Size([5, 450])\n",
      "200 /home/phdcs2/Hard_Disk/Datasets/Deep-Spectral-Segmentation/data/object-segmentation/ECSSD/features/dino_vits16/0201.pth\n",
      "dict_keys(['k', 'indices', 'file', 'id', 'model_name', 'patch_size', 'shape'])\n",
      "0201\n",
      "Starting Training\n",
      "epoch: 00, loss: -0.04890\n",
      "epoch: 01, loss: -0.07485\n",
      "epoch: 02, loss: -0.07340\n",
      "epoch: 03, loss: -0.07553\n",
      "epoch: 04, loss: -0.07405\n",
      "epoch: 05, loss: -0.07521\n",
      "epoch: 06, loss: -0.07466\n",
      "epoch: 07, loss: -0.07534\n",
      "epoch: 08, loss: -0.07581\n",
      "epoch: 09, loss: -0.07505\n",
      "torch.Size([425, 64])\n"
     ]
    },
    {
     "name": "stderr",
     "output_type": "stream",
     "text": [
      "\r",
      " 20%|███████████████████████████████▉                                                                                                                               | 201/1000 [1:22:04<5:46:16, 26.00s/it]"
     ]
    },
    {
     "name": "stdout",
     "output_type": "stream",
     "text": [
      "eigenvalues shape torch.Size([5]) eigenvectors shape torch.Size([5, 425])\n",
      "201 /home/phdcs2/Hard_Disk/Datasets/Deep-Spectral-Segmentation/data/object-segmentation/ECSSD/features/dino_vits16/0202.pth\n",
      "dict_keys(['k', 'indices', 'file', 'id', 'model_name', 'patch_size', 'shape'])\n",
      "0202\n",
      "Starting Training\n",
      "epoch: 00, loss: -0.03887\n",
      "epoch: 01, loss: -0.05688\n",
      "epoch: 02, loss: -0.05769\n",
      "epoch: 03, loss: -0.05885\n",
      "epoch: 04, loss: -0.05847\n",
      "epoch: 05, loss: -0.05889\n",
      "epoch: 06, loss: -0.05909\n",
      "epoch: 07, loss: -0.05916\n",
      "epoch: 08, loss: -0.05923\n",
      "epoch: 09, loss: -0.05949\n",
      "torch.Size([400, 64])\n"
     ]
    },
    {
     "name": "stderr",
     "output_type": "stream",
     "text": [
      "\r",
      " 20%|████████████████████████████████                                                                                                                               | 202/1000 [1:22:26<5:30:25, 24.84s/it]"
     ]
    },
    {
     "name": "stdout",
     "output_type": "stream",
     "text": [
      "eigenvalues shape torch.Size([5]) eigenvectors shape torch.Size([5, 400])\n",
      "202 /home/phdcs2/Hard_Disk/Datasets/Deep-Spectral-Segmentation/data/object-segmentation/ECSSD/features/dino_vits16/0203.pth\n",
      "dict_keys(['k', 'indices', 'file', 'id', 'model_name', 'patch_size', 'shape'])\n",
      "0203\n",
      "Starting Training\n",
      "epoch: 00, loss: -0.03295\n",
      "epoch: 01, loss: -0.06034\n",
      "epoch: 02, loss: -0.06720\n",
      "epoch: 03, loss: -0.06275\n",
      "epoch: 04, loss: -0.06832\n",
      "epoch: 05, loss: -0.06791\n",
      "epoch: 06, loss: -0.07098\n",
      "epoch: 07, loss: -0.07122\n",
      "epoch: 08, loss: -0.07132\n",
      "epoch: 09, loss: -0.07150\n",
      "torch.Size([400, 64])\n"
     ]
    },
    {
     "name": "stderr",
     "output_type": "stream",
     "text": [
      "\r",
      " 20%|████████████████████████████████▎                                                                                                                              | 203/1000 [1:22:47<5:17:16, 23.89s/it]"
     ]
    },
    {
     "name": "stdout",
     "output_type": "stream",
     "text": [
      "eigenvalues shape torch.Size([5]) eigenvectors shape torch.Size([5, 400])\n",
      "203 /home/phdcs2/Hard_Disk/Datasets/Deep-Spectral-Segmentation/data/object-segmentation/ECSSD/features/dino_vits16/0204.pth\n",
      "dict_keys(['k', 'indices', 'file', 'id', 'model_name', 'patch_size', 'shape'])\n",
      "0204\n",
      "Starting Training\n",
      "epoch: 00, loss: -0.04813\n",
      "epoch: 01, loss: -0.06525\n",
      "epoch: 02, loss: -0.06609\n",
      "epoch: 03, loss: -0.06635\n",
      "epoch: 04, loss: -0.06654\n",
      "epoch: 05, loss: -0.06687\n",
      "epoch: 06, loss: -0.06716\n",
      "epoch: 07, loss: -0.06704\n",
      "epoch: 08, loss: -0.06716\n",
      "epoch: 09, loss: -0.06728\n",
      "torch.Size([450, 64])\n"
     ]
    },
    {
     "name": "stderr",
     "output_type": "stream",
     "text": [
      "\r",
      " 20%|████████████████████████████████▍                                                                                                                              | 204/1000 [1:23:13<5:22:42, 24.32s/it]"
     ]
    },
    {
     "name": "stdout",
     "output_type": "stream",
     "text": [
      "eigenvalues shape torch.Size([5]) eigenvectors shape torch.Size([5, 450])\n",
      "204 /home/phdcs2/Hard_Disk/Datasets/Deep-Spectral-Segmentation/data/object-segmentation/ECSSD/features/dino_vits16/0205.pth\n",
      "dict_keys(['k', 'indices', 'file', 'id', 'model_name', 'patch_size', 'shape'])\n",
      "0205\n",
      "Starting Training\n",
      "epoch: 00, loss: -0.01817\n",
      "epoch: 01, loss: -0.03458\n",
      "epoch: 02, loss: -0.03685\n",
      "epoch: 03, loss: -0.03781\n",
      "epoch: 04, loss: -0.03803\n",
      "epoch: 05, loss: -0.03824\n",
      "epoch: 06, loss: -0.03858\n",
      "epoch: 07, loss: -0.03872\n",
      "epoch: 08, loss: -0.03886\n",
      "epoch: 09, loss: -0.03899\n",
      "torch.Size([450, 64])\n"
     ]
    },
    {
     "name": "stderr",
     "output_type": "stream",
     "text": [
      "\r",
      " 20%|████████████████████████████████▌                                                                                                                              | 205/1000 [1:23:41<5:36:11, 25.37s/it]"
     ]
    },
    {
     "name": "stdout",
     "output_type": "stream",
     "text": [
      "eigenvalues shape torch.Size([5]) eigenvectors shape torch.Size([5, 450])\n",
      "205 /home/phdcs2/Hard_Disk/Datasets/Deep-Spectral-Segmentation/data/object-segmentation/ECSSD/features/dino_vits16/0206.pth\n",
      "dict_keys(['k', 'indices', 'file', 'id', 'model_name', 'patch_size', 'shape'])\n",
      "0206\n",
      "Starting Training\n",
      "epoch: 00, loss: -0.02912\n",
      "epoch: 01, loss: -0.05275\n",
      "epoch: 02, loss: -0.05486\n",
      "epoch: 03, loss: -0.05510\n",
      "epoch: 04, loss: -0.05537\n",
      "epoch: 05, loss: -0.05559\n",
      "epoch: 06, loss: -0.05571\n",
      "epoch: 07, loss: -0.05595\n",
      "epoch: 08, loss: -0.05591\n",
      "epoch: 09, loss: -0.05594\n",
      "torch.Size([400, 64])\n"
     ]
    },
    {
     "name": "stderr",
     "output_type": "stream",
     "text": [
      "\r",
      " 21%|████████████████████████████████▊                                                                                                                              | 206/1000 [1:24:07<5:38:34, 25.58s/it]"
     ]
    },
    {
     "name": "stdout",
     "output_type": "stream",
     "text": [
      "eigenvalues shape torch.Size([5]) eigenvectors shape torch.Size([5, 400])\n",
      "206 /home/phdcs2/Hard_Disk/Datasets/Deep-Spectral-Segmentation/data/object-segmentation/ECSSD/features/dino_vits16/0207.pth\n",
      "dict_keys(['k', 'indices', 'file', 'id', 'model_name', 'patch_size', 'shape'])\n",
      "0207\n",
      "Starting Training\n",
      "epoch: 00, loss: -0.09694\n",
      "epoch: 01, loss: -0.13604\n",
      "epoch: 02, loss: -0.14106\n",
      "epoch: 03, loss: -0.14311\n",
      "epoch: 04, loss: -0.14268\n",
      "epoch: 05, loss: -0.14505\n",
      "epoch: 06, loss: -0.14821\n",
      "epoch: 07, loss: -0.14881\n",
      "epoch: 08, loss: -0.14727\n",
      "epoch: 09, loss: -0.14727\n",
      "torch.Size([400, 64])\n"
     ]
    },
    {
     "name": "stderr",
     "output_type": "stream",
     "text": [
      "\r",
      " 21%|████████████████████████████████▉                                                                                                                              | 207/1000 [1:24:31<5:32:15, 25.14s/it]"
     ]
    },
    {
     "name": "stdout",
     "output_type": "stream",
     "text": [
      "eigenvalues shape torch.Size([5]) eigenvectors shape torch.Size([5, 400])\n",
      "207 /home/phdcs2/Hard_Disk/Datasets/Deep-Spectral-Segmentation/data/object-segmentation/ECSSD/features/dino_vits16/0208.pth\n",
      "dict_keys(['k', 'indices', 'file', 'id', 'model_name', 'patch_size', 'shape'])\n",
      "0208\n",
      "Starting Training\n",
      "epoch: 00, loss: -0.02591\n",
      "epoch: 01, loss: -0.05600\n",
      "epoch: 02, loss: -0.05830\n",
      "epoch: 03, loss: -0.05891\n",
      "epoch: 04, loss: -0.05904\n",
      "epoch: 05, loss: -0.06052\n",
      "epoch: 06, loss: -0.06061\n",
      "epoch: 07, loss: -0.06114\n",
      "epoch: 08, loss: -0.06142\n",
      "epoch: 09, loss: -0.06201\n",
      "torch.Size([450, 64])\n"
     ]
    },
    {
     "name": "stderr",
     "output_type": "stream",
     "text": [
      "\r",
      " 21%|█████████████████████████████████                                                                                                                              | 208/1000 [1:24:55<5:27:51, 24.84s/it]"
     ]
    },
    {
     "name": "stdout",
     "output_type": "stream",
     "text": [
      "eigenvalues shape torch.Size([5]) eigenvectors shape torch.Size([5, 450])\n",
      "208 /home/phdcs2/Hard_Disk/Datasets/Deep-Spectral-Segmentation/data/object-segmentation/ECSSD/features/dino_vits16/0209.pth\n",
      "dict_keys(['k', 'indices', 'file', 'id', 'model_name', 'patch_size', 'shape'])\n",
      "0209\n",
      "Starting Training\n",
      "epoch: 00, loss: -0.04410\n",
      "epoch: 01, loss: -0.06414\n",
      "epoch: 02, loss: -0.06524\n",
      "epoch: 03, loss: -0.06513\n",
      "epoch: 04, loss: -0.06552\n",
      "epoch: 05, loss: -0.06590\n",
      "epoch: 06, loss: -0.06578\n",
      "epoch: 07, loss: -0.06600\n",
      "epoch: 08, loss: -0.06605\n",
      "epoch: 09, loss: -0.06618\n",
      "torch.Size([500, 64])\n"
     ]
    },
    {
     "name": "stderr",
     "output_type": "stream",
     "text": [
      "\r",
      " 21%|█████████████████████████████████▏                                                                                                                             | 209/1000 [1:25:25<5:48:20, 26.42s/it]"
     ]
    },
    {
     "name": "stdout",
     "output_type": "stream",
     "text": [
      "eigenvalues shape torch.Size([5]) eigenvectors shape torch.Size([5, 500])\n",
      "209 /home/phdcs2/Hard_Disk/Datasets/Deep-Spectral-Segmentation/data/object-segmentation/ECSSD/features/dino_vits16/0210.pth\n",
      "dict_keys(['k', 'indices', 'file', 'id', 'model_name', 'patch_size', 'shape'])\n",
      "0210\n",
      "Starting Training\n",
      "epoch: 00, loss: -0.02684\n",
      "epoch: 01, loss: -0.04361\n",
      "epoch: 02, loss: -0.04622\n",
      "epoch: 03, loss: -0.04640\n",
      "epoch: 04, loss: -0.04663\n",
      "epoch: 05, loss: -0.04640\n",
      "epoch: 06, loss: -0.04793\n",
      "epoch: 07, loss: -0.04676\n",
      "epoch: 08, loss: -0.04827\n",
      "epoch: 09, loss: -0.04767\n",
      "torch.Size([425, 64])\n"
     ]
    },
    {
     "name": "stderr",
     "output_type": "stream",
     "text": [
      "\r",
      " 21%|█████████████████████████████████▍                                                                                                                             | 210/1000 [1:25:50<5:42:30, 26.01s/it]"
     ]
    },
    {
     "name": "stdout",
     "output_type": "stream",
     "text": [
      "eigenvalues shape torch.Size([5]) eigenvectors shape torch.Size([5, 425])\n",
      "210 /home/phdcs2/Hard_Disk/Datasets/Deep-Spectral-Segmentation/data/object-segmentation/ECSSD/features/dino_vits16/0211.pth\n",
      "dict_keys(['k', 'indices', 'file', 'id', 'model_name', 'patch_size', 'shape'])\n",
      "0211\n",
      "Starting Training\n",
      "epoch: 00, loss: -0.12580\n",
      "epoch: 01, loss: -0.15439\n",
      "epoch: 02, loss: -0.15784\n",
      "epoch: 03, loss: -0.16027\n",
      "epoch: 04, loss: -0.16114\n",
      "epoch: 05, loss: -0.16245\n",
      "epoch: 06, loss: -0.16190\n",
      "epoch: 07, loss: -0.16348\n",
      "epoch: 08, loss: -0.16408\n",
      "epoch: 09, loss: -0.16513\n",
      "torch.Size([500, 64])\n"
     ]
    },
    {
     "name": "stderr",
     "output_type": "stream",
     "text": [
      "\r",
      " 21%|█████████████████████████████████▌                                                                                                                             | 211/1000 [1:26:30<6:36:28, 30.15s/it]"
     ]
    },
    {
     "name": "stdout",
     "output_type": "stream",
     "text": [
      "eigenvalues shape torch.Size([5]) eigenvectors shape torch.Size([5, 500])\n",
      "211 /home/phdcs2/Hard_Disk/Datasets/Deep-Spectral-Segmentation/data/object-segmentation/ECSSD/features/dino_vits16/0212.pth\n",
      "dict_keys(['k', 'indices', 'file', 'id', 'model_name', 'patch_size', 'shape'])\n",
      "0212\n",
      "Starting Training\n",
      "epoch: 00, loss: -0.03135\n",
      "epoch: 01, loss: -0.05172\n",
      "epoch: 02, loss: -0.05266\n",
      "epoch: 03, loss: -0.05359\n",
      "epoch: 04, loss: -0.05523\n",
      "epoch: 05, loss: -0.05715\n",
      "epoch: 06, loss: -0.05563\n",
      "epoch: 07, loss: -0.05532\n",
      "epoch: 08, loss: -0.05555\n",
      "epoch: 09, loss: -0.05643\n",
      "torch.Size([625, 64])\n"
     ]
    },
    {
     "name": "stderr",
     "output_type": "stream",
     "text": [
      "\r",
      " 21%|█████████████████████████████████▋                                                                                                                             | 212/1000 [1:27:18<7:47:02, 35.56s/it]"
     ]
    },
    {
     "name": "stdout",
     "output_type": "stream",
     "text": [
      "eigenvalues shape torch.Size([5]) eigenvectors shape torch.Size([5, 625])\n",
      "212 /home/phdcs2/Hard_Disk/Datasets/Deep-Spectral-Segmentation/data/object-segmentation/ECSSD/features/dino_vits16/0213.pth\n",
      "dict_keys(['k', 'indices', 'file', 'id', 'model_name', 'patch_size', 'shape'])\n",
      "0213\n",
      "Starting Training\n",
      "epoch: 00, loss: -0.09513\n",
      "epoch: 01, loss: -0.11464\n",
      "epoch: 02, loss: -0.11770\n",
      "epoch: 03, loss: -0.11674\n",
      "epoch: 04, loss: -0.11867\n",
      "epoch: 05, loss: -0.11955\n",
      "epoch: 06, loss: -0.11862\n",
      "epoch: 07, loss: -0.12001\n",
      "epoch: 08, loss: -0.11984\n",
      "epoch: 09, loss: -0.12070\n",
      "torch.Size([450, 64])\n"
     ]
    },
    {
     "name": "stderr",
     "output_type": "stream",
     "text": [
      "\r",
      " 21%|█████████████████████████████████▊                                                                                                                             | 213/1000 [1:27:40<6:53:25, 31.52s/it]"
     ]
    },
    {
     "name": "stdout",
     "output_type": "stream",
     "text": [
      "eigenvalues shape torch.Size([5]) eigenvectors shape torch.Size([5, 450])\n",
      "213 /home/phdcs2/Hard_Disk/Datasets/Deep-Spectral-Segmentation/data/object-segmentation/ECSSD/features/dino_vits16/0214.pth\n",
      "dict_keys(['k', 'indices', 'file', 'id', 'model_name', 'patch_size', 'shape'])\n",
      "0214\n",
      "Starting Training\n",
      "epoch: 00, loss: -0.03160\n",
      "epoch: 01, loss: -0.05518\n",
      "epoch: 02, loss: -0.05824\n",
      "epoch: 03, loss: -0.05890\n",
      "epoch: 04, loss: -0.05903\n",
      "epoch: 05, loss: -0.05922\n",
      "epoch: 06, loss: -0.05927\n",
      "epoch: 07, loss: -0.05947\n",
      "epoch: 08, loss: -0.05960\n",
      "epoch: 09, loss: -0.05964\n",
      "torch.Size([350, 64])\n"
     ]
    },
    {
     "name": "stderr",
     "output_type": "stream",
     "text": [
      "\r",
      " 21%|██████████████████████████████████                                                                                                                             | 214/1000 [1:28:02<6:13:42, 28.53s/it]"
     ]
    },
    {
     "name": "stdout",
     "output_type": "stream",
     "text": [
      "eigenvalues shape torch.Size([5]) eigenvectors shape torch.Size([5, 350])\n",
      "214 /home/phdcs2/Hard_Disk/Datasets/Deep-Spectral-Segmentation/data/object-segmentation/ECSSD/features/dino_vits16/0215.pth\n",
      "dict_keys(['k', 'indices', 'file', 'id', 'model_name', 'patch_size', 'shape'])\n",
      "0215\n",
      "Starting Training\n",
      "epoch: 00, loss: -0.03728\n",
      "epoch: 01, loss: -0.05538\n",
      "epoch: 02, loss: -0.05746\n",
      "epoch: 03, loss: -0.05772\n",
      "epoch: 04, loss: -0.05832\n",
      "epoch: 05, loss: -0.05840\n",
      "epoch: 06, loss: -0.05841\n",
      "epoch: 07, loss: -0.05855\n",
      "epoch: 08, loss: -0.05878\n",
      "epoch: 09, loss: -0.06023\n",
      "torch.Size([425, 64])\n"
     ]
    },
    {
     "name": "stderr",
     "output_type": "stream",
     "text": [
      "\r",
      " 22%|██████████████████████████████████▏                                                                                                                            | 215/1000 [1:28:25<5:51:34, 26.87s/it]"
     ]
    },
    {
     "name": "stdout",
     "output_type": "stream",
     "text": [
      "eigenvalues shape torch.Size([5]) eigenvectors shape torch.Size([5, 425])\n",
      "215 /home/phdcs2/Hard_Disk/Datasets/Deep-Spectral-Segmentation/data/object-segmentation/ECSSD/features/dino_vits16/0216.pth\n",
      "dict_keys(['k', 'indices', 'file', 'id', 'model_name', 'patch_size', 'shape'])\n",
      "0216\n",
      "Starting Training\n",
      "epoch: 00, loss: -0.00583\n",
      "epoch: 01, loss: -0.02486\n",
      "epoch: 02, loss: -0.02873\n",
      "epoch: 03, loss: -0.03016\n",
      "epoch: 04, loss: -0.03082\n",
      "epoch: 05, loss: -0.03097\n",
      "epoch: 06, loss: -0.03135\n",
      "epoch: 07, loss: -0.03141\n",
      "epoch: 08, loss: -0.03164\n",
      "epoch: 09, loss: -0.03178\n",
      "torch.Size([450, 64])\n"
     ]
    },
    {
     "name": "stderr",
     "output_type": "stream",
     "text": [
      "\r",
      " 22%|██████████████████████████████████▎                                                                                                                            | 216/1000 [1:28:54<6:01:23, 27.66s/it]"
     ]
    },
    {
     "name": "stdout",
     "output_type": "stream",
     "text": [
      "eigenvalues shape torch.Size([5]) eigenvectors shape torch.Size([5, 450])\n",
      "216 /home/phdcs2/Hard_Disk/Datasets/Deep-Spectral-Segmentation/data/object-segmentation/ECSSD/features/dino_vits16/0217.pth\n",
      "dict_keys(['k', 'indices', 'file', 'id', 'model_name', 'patch_size', 'shape'])\n",
      "0217\n",
      "Starting Training\n",
      "epoch: 00, loss: -0.06886\n",
      "epoch: 01, loss: -0.09310\n",
      "epoch: 02, loss: -0.09801\n",
      "epoch: 03, loss: -0.09762\n",
      "epoch: 04, loss: -0.10161\n",
      "epoch: 05, loss: -0.10006\n",
      "epoch: 06, loss: -0.10063\n",
      "epoch: 07, loss: -0.10150\n",
      "epoch: 08, loss: -0.10286\n",
      "epoch: 09, loss: -0.10626\n",
      "torch.Size([450, 64])\n"
     ]
    },
    {
     "name": "stderr",
     "output_type": "stream",
     "text": [
      "\r",
      " 22%|██████████████████████████████████▌                                                                                                                            | 217/1000 [1:29:24<6:09:08, 28.29s/it]"
     ]
    },
    {
     "name": "stdout",
     "output_type": "stream",
     "text": [
      "eigenvalues shape torch.Size([5]) eigenvectors shape torch.Size([5, 450])\n",
      "217 /home/phdcs2/Hard_Disk/Datasets/Deep-Spectral-Segmentation/data/object-segmentation/ECSSD/features/dino_vits16/0218.pth\n",
      "dict_keys(['k', 'indices', 'file', 'id', 'model_name', 'patch_size', 'shape'])\n",
      "0218\n",
      "Starting Training\n",
      "epoch: 00, loss: -0.05385\n",
      "epoch: 01, loss: -0.07314\n",
      "epoch: 02, loss: -0.07663\n",
      "epoch: 03, loss: -0.07635\n",
      "epoch: 04, loss: -0.07732\n",
      "epoch: 05, loss: -0.07828\n",
      "epoch: 06, loss: -0.07802\n",
      "epoch: 07, loss: -0.07851\n",
      "epoch: 08, loss: -0.07820\n",
      "epoch: 09, loss: -0.07798\n",
      "torch.Size([500, 64])\n"
     ]
    },
    {
     "name": "stderr",
     "output_type": "stream",
     "text": [
      "\r",
      " 22%|██████████████████████████████████▋                                                                                                                            | 218/1000 [1:29:55<6:20:35, 29.20s/it]"
     ]
    },
    {
     "name": "stdout",
     "output_type": "stream",
     "text": [
      "eigenvalues shape torch.Size([5]) eigenvectors shape torch.Size([5, 500])\n",
      "218 /home/phdcs2/Hard_Disk/Datasets/Deep-Spectral-Segmentation/data/object-segmentation/ECSSD/features/dino_vits16/0219.pth\n",
      "dict_keys(['k', 'indices', 'file', 'id', 'model_name', 'patch_size', 'shape'])\n",
      "0219\n",
      "Starting Training\n",
      "epoch: 00, loss: -0.04726\n",
      "epoch: 01, loss: -0.07718\n",
      "epoch: 02, loss: -0.07650\n",
      "epoch: 03, loss: -0.08115\n",
      "epoch: 04, loss: -0.08075\n",
      "epoch: 05, loss: -0.08200\n",
      "epoch: 06, loss: -0.08329\n",
      "epoch: 07, loss: -0.08342\n",
      "epoch: 08, loss: -0.08186\n",
      "epoch: 09, loss: -0.08290\n",
      "torch.Size([450, 64])\n"
     ]
    },
    {
     "name": "stderr",
     "output_type": "stream",
     "text": [
      "\r",
      " 22%|██████████████████████████████████▊                                                                                                                            | 219/1000 [1:30:21<6:05:59, 28.12s/it]"
     ]
    },
    {
     "name": "stdout",
     "output_type": "stream",
     "text": [
      "eigenvalues shape torch.Size([5]) eigenvectors shape torch.Size([5, 450])\n",
      "219 /home/phdcs2/Hard_Disk/Datasets/Deep-Spectral-Segmentation/data/object-segmentation/ECSSD/features/dino_vits16/0220.pth\n",
      "dict_keys(['k', 'indices', 'file', 'id', 'model_name', 'patch_size', 'shape'])\n",
      "0220\n",
      "Starting Training\n",
      "epoch: 00, loss: -0.10395\n",
      "epoch: 01, loss: -0.12711\n",
      "epoch: 02, loss: -0.12841\n",
      "epoch: 03, loss: -0.13004\n",
      "epoch: 04, loss: -0.13040\n",
      "epoch: 05, loss: -0.13225\n",
      "epoch: 06, loss: -0.12986\n",
      "epoch: 07, loss: -0.13135\n",
      "epoch: 08, loss: -0.13269\n",
      "epoch: 09, loss: -0.13351\n",
      "torch.Size([500, 64])\n"
     ]
    },
    {
     "name": "stderr",
     "output_type": "stream",
     "text": [
      "\r",
      " 22%|██████████████████████████████████▉                                                                                                                            | 220/1000 [1:30:48<6:02:26, 27.88s/it]"
     ]
    },
    {
     "name": "stdout",
     "output_type": "stream",
     "text": [
      "eigenvalues shape torch.Size([5]) eigenvectors shape torch.Size([5, 500])\n",
      "220 /home/phdcs2/Hard_Disk/Datasets/Deep-Spectral-Segmentation/data/object-segmentation/ECSSD/features/dino_vits16/0221.pth\n",
      "dict_keys(['k', 'indices', 'file', 'id', 'model_name', 'patch_size', 'shape'])\n",
      "0221\n",
      "Starting Training\n",
      "epoch: 00, loss: -0.03329\n",
      "epoch: 01, loss: -0.05851\n",
      "epoch: 02, loss: -0.07014\n",
      "epoch: 03, loss: -0.07023\n",
      "epoch: 04, loss: -0.06986\n",
      "epoch: 05, loss: -0.07115\n",
      "epoch: 06, loss: -0.07185\n",
      "epoch: 07, loss: -0.07035\n",
      "epoch: 08, loss: -0.07099\n",
      "epoch: 09, loss: -0.07238\n",
      "torch.Size([400, 64])\n"
     ]
    },
    {
     "name": "stderr",
     "output_type": "stream",
     "text": [
      "\r",
      " 22%|███████████████████████████████████▏                                                                                                                           | 221/1000 [1:31:12<5:47:17, 26.75s/it]"
     ]
    },
    {
     "name": "stdout",
     "output_type": "stream",
     "text": [
      "eigenvalues shape torch.Size([5]) eigenvectors shape torch.Size([5, 400])\n",
      "221 /home/phdcs2/Hard_Disk/Datasets/Deep-Spectral-Segmentation/data/object-segmentation/ECSSD/features/dino_vits16/0222.pth\n",
      "dict_keys(['k', 'indices', 'file', 'id', 'model_name', 'patch_size', 'shape'])\n",
      "0222\n",
      "Starting Training\n",
      "epoch: 00, loss: -0.01749\n",
      "epoch: 01, loss: -0.04220\n",
      "epoch: 02, loss: -0.04574\n",
      "epoch: 03, loss: -0.04631\n",
      "epoch: 04, loss: -0.04997\n",
      "epoch: 05, loss: -0.05011\n",
      "epoch: 06, loss: -0.04975\n",
      "epoch: 07, loss: -0.05124\n",
      "epoch: 08, loss: -0.05039\n",
      "epoch: 09, loss: -0.05030\n",
      "torch.Size([500, 64])\n"
     ]
    },
    {
     "name": "stderr",
     "output_type": "stream",
     "text": [
      "\r",
      " 22%|███████████████████████████████████▎                                                                                                                           | 222/1000 [1:31:40<5:51:01, 27.07s/it]"
     ]
    },
    {
     "name": "stdout",
     "output_type": "stream",
     "text": [
      "eigenvalues shape torch.Size([5]) eigenvectors shape torch.Size([5, 500])\n",
      "222 /home/phdcs2/Hard_Disk/Datasets/Deep-Spectral-Segmentation/data/object-segmentation/ECSSD/features/dino_vits16/0223.pth\n",
      "dict_keys(['k', 'indices', 'file', 'id', 'model_name', 'patch_size', 'shape'])\n",
      "0223\n",
      "Starting Training\n",
      "epoch: 00, loss: -0.06446\n",
      "epoch: 01, loss: -0.08614\n",
      "epoch: 02, loss: -0.08699\n",
      "epoch: 03, loss: -0.08744\n",
      "epoch: 04, loss: -0.08778\n",
      "epoch: 05, loss: -0.08828\n",
      "epoch: 06, loss: -0.08788\n",
      "epoch: 07, loss: -0.08825\n",
      "epoch: 08, loss: -0.08824\n",
      "epoch: 09, loss: -0.08837\n",
      "torch.Size([500, 64])\n"
     ]
    },
    {
     "name": "stderr",
     "output_type": "stream",
     "text": [
      "\r",
      " 22%|███████████████████████████████████▍                                                                                                                           | 223/1000 [1:32:08<5:54:00, 27.34s/it]"
     ]
    },
    {
     "name": "stdout",
     "output_type": "stream",
     "text": [
      "eigenvalues shape torch.Size([5]) eigenvectors shape torch.Size([5, 500])\n",
      "223 /home/phdcs2/Hard_Disk/Datasets/Deep-Spectral-Segmentation/data/object-segmentation/ECSSD/features/dino_vits16/0224.pth\n",
      "dict_keys(['k', 'indices', 'file', 'id', 'model_name', 'patch_size', 'shape'])\n",
      "0224\n",
      "Starting Training\n",
      "epoch: 00, loss: -0.01247\n",
      "epoch: 01, loss: -0.02779\n",
      "epoch: 02, loss: -0.03062\n",
      "epoch: 03, loss: -0.03177\n",
      "epoch: 04, loss: -0.03226\n",
      "epoch: 05, loss: -0.03226\n",
      "epoch: 06, loss: -0.03269\n",
      "epoch: 07, loss: -0.03277\n",
      "epoch: 08, loss: -0.03287\n",
      "epoch: 09, loss: -0.03281\n",
      "torch.Size([500, 64])\n"
     ]
    },
    {
     "name": "stderr",
     "output_type": "stream",
     "text": [
      "\r",
      " 22%|███████████████████████████████████▌                                                                                                                           | 224/1000 [1:32:32<5:39:16, 26.23s/it]"
     ]
    },
    {
     "name": "stdout",
     "output_type": "stream",
     "text": [
      "eigenvalues shape torch.Size([5]) eigenvectors shape torch.Size([5, 500])\n",
      "224 /home/phdcs2/Hard_Disk/Datasets/Deep-Spectral-Segmentation/data/object-segmentation/ECSSD/features/dino_vits16/0225.pth\n",
      "dict_keys(['k', 'indices', 'file', 'id', 'model_name', 'patch_size', 'shape'])\n",
      "0225\n",
      "Starting Training\n",
      "epoch: 00, loss: -0.03019\n",
      "epoch: 01, loss: -0.04589\n",
      "epoch: 02, loss: -0.04800\n",
      "epoch: 03, loss: -0.04810\n",
      "epoch: 04, loss: -0.04859\n",
      "epoch: 05, loss: -0.04865\n",
      "epoch: 06, loss: -0.04897\n",
      "epoch: 07, loss: -0.04898\n",
      "epoch: 08, loss: -0.04911\n",
      "epoch: 09, loss: -0.04923\n",
      "torch.Size([450, 64])\n"
     ]
    },
    {
     "name": "stderr",
     "output_type": "stream",
     "text": [
      "\r",
      " 22%|███████████████████████████████████▊                                                                                                                           | 225/1000 [1:32:58<5:37:07, 26.10s/it]"
     ]
    },
    {
     "name": "stdout",
     "output_type": "stream",
     "text": [
      "eigenvalues shape torch.Size([5]) eigenvectors shape torch.Size([5, 450])\n",
      "225 /home/phdcs2/Hard_Disk/Datasets/Deep-Spectral-Segmentation/data/object-segmentation/ECSSD/features/dino_vits16/0226.pth\n",
      "dict_keys(['k', 'indices', 'file', 'id', 'model_name', 'patch_size', 'shape'])\n",
      "0226\n",
      "Starting Training\n",
      "epoch: 00, loss: -0.03433\n",
      "epoch: 01, loss: -0.05924\n",
      "epoch: 02, loss: -0.06426\n",
      "epoch: 03, loss: -0.06208\n",
      "epoch: 04, loss: -0.06644\n",
      "epoch: 05, loss: -0.06599\n",
      "epoch: 06, loss: -0.06695\n",
      "epoch: 07, loss: -0.06628\n",
      "epoch: 08, loss: -0.06655\n",
      "epoch: 09, loss: -0.06753\n",
      "torch.Size([400, 64])\n"
     ]
    },
    {
     "name": "stderr",
     "output_type": "stream",
     "text": [
      "\r",
      " 23%|███████████████████████████████████▉                                                                                                                           | 226/1000 [1:33:18<5:12:58, 24.26s/it]"
     ]
    },
    {
     "name": "stdout",
     "output_type": "stream",
     "text": [
      "eigenvalues shape torch.Size([5]) eigenvectors shape torch.Size([5, 400])\n",
      "226 /home/phdcs2/Hard_Disk/Datasets/Deep-Spectral-Segmentation/data/object-segmentation/ECSSD/features/dino_vits16/0227.pth\n",
      "dict_keys(['k', 'indices', 'file', 'id', 'model_name', 'patch_size', 'shape'])\n",
      "0227\n",
      "Starting Training\n",
      "epoch: 00, loss: -0.06978\n",
      "epoch: 01, loss: -0.10328\n",
      "epoch: 02, loss: -0.10491\n",
      "epoch: 03, loss: -0.10782\n",
      "epoch: 04, loss: -0.11103\n",
      "epoch: 05, loss: -0.11173\n",
      "epoch: 06, loss: -0.10830\n",
      "epoch: 07, loss: -0.11357\n",
      "epoch: 08, loss: -0.11208\n",
      "epoch: 09, loss: -0.11409\n",
      "torch.Size([375, 64])\n"
     ]
    },
    {
     "name": "stderr",
     "output_type": "stream",
     "text": [
      "\r",
      " 23%|████████████████████████████████████                                                                                                                           | 227/1000 [1:33:39<5:03:30, 23.56s/it]"
     ]
    },
    {
     "name": "stdout",
     "output_type": "stream",
     "text": [
      "eigenvalues shape torch.Size([5]) eigenvectors shape torch.Size([5, 375])\n",
      "227 /home/phdcs2/Hard_Disk/Datasets/Deep-Spectral-Segmentation/data/object-segmentation/ECSSD/features/dino_vits16/0228.pth\n",
      "dict_keys(['k', 'indices', 'file', 'id', 'model_name', 'patch_size', 'shape'])\n",
      "0228\n",
      "Starting Training\n",
      "epoch: 00, loss: -0.05069\n",
      "epoch: 01, loss: -0.07776\n",
      "epoch: 02, loss: -0.07720\n",
      "epoch: 03, loss: -0.07816\n",
      "epoch: 04, loss: -0.07690\n",
      "epoch: 05, loss: -0.07886\n",
      "epoch: 06, loss: -0.07886\n",
      "epoch: 07, loss: -0.07831\n",
      "epoch: 08, loss: -0.07905\n",
      "epoch: 09, loss: -0.08148\n",
      "torch.Size([375, 64])\n"
     ]
    },
    {
     "name": "stderr",
     "output_type": "stream",
     "text": [
      "\r",
      " 23%|████████████████████████████████████▎                                                                                                                          | 228/1000 [1:33:59<4:47:14, 22.32s/it]"
     ]
    },
    {
     "name": "stdout",
     "output_type": "stream",
     "text": [
      "eigenvalues shape torch.Size([5]) eigenvectors shape torch.Size([5, 375])\n",
      "228 /home/phdcs2/Hard_Disk/Datasets/Deep-Spectral-Segmentation/data/object-segmentation/ECSSD/features/dino_vits16/0229.pth\n",
      "dict_keys(['k', 'indices', 'file', 'id', 'model_name', 'patch_size', 'shape'])\n",
      "0229\n",
      "Starting Training\n",
      "epoch: 00, loss: -0.00920\n",
      "epoch: 01, loss: -0.02860\n",
      "epoch: 02, loss: -0.03253\n",
      "epoch: 03, loss: -0.03346\n",
      "epoch: 04, loss: -0.03390\n",
      "epoch: 05, loss: -0.03417\n",
      "epoch: 06, loss: -0.03435\n",
      "epoch: 07, loss: -0.03438\n",
      "epoch: 08, loss: -0.03466\n",
      "epoch: 09, loss: -0.03472\n",
      "torch.Size([400, 64])\n"
     ]
    },
    {
     "name": "stderr",
     "output_type": "stream",
     "text": [
      "\r",
      " 23%|████████████████████████████████████▍                                                                                                                          | 229/1000 [1:34:23<4:52:21, 22.75s/it]"
     ]
    },
    {
     "name": "stdout",
     "output_type": "stream",
     "text": [
      "eigenvalues shape torch.Size([5]) eigenvectors shape torch.Size([5, 400])\n",
      "229 /home/phdcs2/Hard_Disk/Datasets/Deep-Spectral-Segmentation/data/object-segmentation/ECSSD/features/dino_vits16/0230.pth\n",
      "dict_keys(['k', 'indices', 'file', 'id', 'model_name', 'patch_size', 'shape'])\n",
      "0230\n",
      "Starting Training\n",
      "epoch: 00, loss: -0.05823\n",
      "epoch: 01, loss: -0.07335\n",
      "epoch: 02, loss: -0.07411\n",
      "epoch: 03, loss: -0.07458\n",
      "epoch: 04, loss: -0.07469\n",
      "epoch: 05, loss: -0.07471\n",
      "epoch: 06, loss: -0.07501\n",
      "epoch: 07, loss: -0.07504\n",
      "epoch: 08, loss: -0.07505\n",
      "epoch: 09, loss: -0.07520\n",
      "torch.Size([450, 64])\n"
     ]
    },
    {
     "name": "stderr",
     "output_type": "stream",
     "text": [
      "\r",
      " 23%|████████████████████████████████████▌                                                                                                                          | 230/1000 [1:34:47<4:59:42, 23.35s/it]"
     ]
    },
    {
     "name": "stdout",
     "output_type": "stream",
     "text": [
      "eigenvalues shape torch.Size([5]) eigenvectors shape torch.Size([5, 450])\n",
      "230 /home/phdcs2/Hard_Disk/Datasets/Deep-Spectral-Segmentation/data/object-segmentation/ECSSD/features/dino_vits16/0231.pth\n",
      "dict_keys(['k', 'indices', 'file', 'id', 'model_name', 'patch_size', 'shape'])\n",
      "0231\n",
      "Starting Training\n",
      "epoch: 00, loss: -0.06192\n",
      "epoch: 01, loss: -0.08616\n",
      "epoch: 02, loss: -0.08590\n",
      "epoch: 03, loss: -0.08930\n",
      "epoch: 04, loss: -0.08833\n",
      "epoch: 05, loss: -0.08945\n",
      "epoch: 06, loss: -0.09083\n",
      "epoch: 07, loss: -0.08971\n",
      "epoch: 08, loss: -0.09175\n",
      "epoch: 09, loss: -0.09114\n",
      "torch.Size([525, 64])\n"
     ]
    },
    {
     "name": "stderr",
     "output_type": "stream",
     "text": [
      "\r",
      " 23%|████████████████████████████████████▋                                                                                                                          | 231/1000 [1:35:34<6:28:40, 30.33s/it]"
     ]
    },
    {
     "name": "stdout",
     "output_type": "stream",
     "text": [
      "eigenvalues shape torch.Size([5]) eigenvectors shape torch.Size([5, 525])\n",
      "231 /home/phdcs2/Hard_Disk/Datasets/Deep-Spectral-Segmentation/data/object-segmentation/ECSSD/features/dino_vits16/0232.pth\n",
      "dict_keys(['k', 'indices', 'file', 'id', 'model_name', 'patch_size', 'shape'])\n",
      "0232\n",
      "Starting Training\n",
      "epoch: 00, loss: -0.07814\n",
      "epoch: 01, loss: -0.11614\n",
      "epoch: 02, loss: -0.11975\n",
      "epoch: 03, loss: -0.12163\n",
      "epoch: 04, loss: -0.12174\n",
      "epoch: 05, loss: -0.12178\n",
      "epoch: 06, loss: -0.12195\n",
      "epoch: 07, loss: -0.12262\n",
      "epoch: 08, loss: -0.12722\n",
      "epoch: 09, loss: -0.12405\n",
      "torch.Size([500, 64])\n"
     ]
    },
    {
     "name": "stderr",
     "output_type": "stream",
     "text": [
      "\r",
      " 23%|████████████████████████████████████▉                                                                                                                          | 232/1000 [1:36:00<6:12:13, 29.08s/it]"
     ]
    },
    {
     "name": "stdout",
     "output_type": "stream",
     "text": [
      "eigenvalues shape torch.Size([5]) eigenvectors shape torch.Size([5, 500])\n",
      "232 /home/phdcs2/Hard_Disk/Datasets/Deep-Spectral-Segmentation/data/object-segmentation/ECSSD/features/dino_vits16/0233.pth\n",
      "dict_keys(['k', 'indices', 'file', 'id', 'model_name', 'patch_size', 'shape'])\n",
      "0233\n",
      "Starting Training\n",
      "epoch: 00, loss: -0.04647\n",
      "epoch: 01, loss: -0.07812\n",
      "epoch: 02, loss: -0.07968\n",
      "epoch: 03, loss: -0.08126\n",
      "epoch: 04, loss: -0.08319\n",
      "epoch: 05, loss: -0.08107\n",
      "epoch: 06, loss: -0.08413\n",
      "epoch: 07, loss: -0.08357\n",
      "epoch: 08, loss: -0.08364\n",
      "epoch: 09, loss: -0.08302\n",
      "torch.Size([475, 64])\n"
     ]
    },
    {
     "name": "stderr",
     "output_type": "stream",
     "text": [
      "\r",
      " 23%|█████████████████████████████████████                                                                                                                          | 233/1000 [1:36:27<6:03:40, 28.45s/it]"
     ]
    },
    {
     "name": "stdout",
     "output_type": "stream",
     "text": [
      "eigenvalues shape torch.Size([5]) eigenvectors shape torch.Size([5, 475])\n",
      "233 /home/phdcs2/Hard_Disk/Datasets/Deep-Spectral-Segmentation/data/object-segmentation/ECSSD/features/dino_vits16/0234.pth\n",
      "dict_keys(['k', 'indices', 'file', 'id', 'model_name', 'patch_size', 'shape'])\n",
      "0234\n",
      "Starting Training\n",
      "epoch: 00, loss: -0.02765\n",
      "epoch: 01, loss: -0.05076\n",
      "epoch: 02, loss: -0.05246\n",
      "epoch: 03, loss: -0.05282\n",
      "epoch: 04, loss: -0.05334\n",
      "epoch: 05, loss: -0.05382\n",
      "epoch: 06, loss: -0.05385\n",
      "epoch: 07, loss: -0.05379\n",
      "epoch: 08, loss: -0.05390\n",
      "epoch: 09, loss: -0.05406\n",
      "torch.Size([400, 64])\n"
     ]
    },
    {
     "name": "stderr",
     "output_type": "stream",
     "text": [
      "\r",
      " 23%|█████████████████████████████████████▏                                                                                                                         | 234/1000 [1:36:48<5:33:59, 26.16s/it]"
     ]
    },
    {
     "name": "stdout",
     "output_type": "stream",
     "text": [
      "eigenvalues shape torch.Size([5]) eigenvectors shape torch.Size([5, 400])\n",
      "234 /home/phdcs2/Hard_Disk/Datasets/Deep-Spectral-Segmentation/data/object-segmentation/ECSSD/features/dino_vits16/0235.pth\n",
      "dict_keys(['k', 'indices', 'file', 'id', 'model_name', 'patch_size', 'shape'])\n",
      "0235\n",
      "Starting Training\n",
      "epoch: 00, loss: -0.03978\n",
      "epoch: 01, loss: -0.07066\n",
      "epoch: 02, loss: -0.07513\n",
      "epoch: 03, loss: -0.07496\n",
      "epoch: 04, loss: -0.07829\n",
      "epoch: 05, loss: -0.07883\n",
      "epoch: 06, loss: -0.07730\n",
      "epoch: 07, loss: -0.07837\n",
      "epoch: 08, loss: -0.07542\n",
      "epoch: 09, loss: -0.07942\n",
      "torch.Size([400, 64])\n"
     ]
    },
    {
     "name": "stderr",
     "output_type": "stream",
     "text": [
      "\r",
      " 24%|█████████████████████████████████████▎                                                                                                                         | 235/1000 [1:37:10<5:19:04, 25.03s/it]"
     ]
    },
    {
     "name": "stdout",
     "output_type": "stream",
     "text": [
      "eigenvalues shape torch.Size([5]) eigenvectors shape torch.Size([5, 400])\n",
      "235 /home/phdcs2/Hard_Disk/Datasets/Deep-Spectral-Segmentation/data/object-segmentation/ECSSD/features/dino_vits16/0236.pth\n",
      "dict_keys(['k', 'indices', 'file', 'id', 'model_name', 'patch_size', 'shape'])\n",
      "0236\n",
      "Starting Training\n",
      "epoch: 00, loss: -0.05426\n",
      "epoch: 01, loss: -0.07853\n",
      "epoch: 02, loss: -0.07908\n",
      "epoch: 03, loss: -0.07918\n",
      "epoch: 04, loss: -0.07958\n",
      "epoch: 05, loss: -0.07993\n",
      "epoch: 06, loss: -0.07983\n",
      "epoch: 07, loss: -0.08004\n",
      "epoch: 08, loss: -0.08012\n",
      "epoch: 09, loss: -0.08034\n",
      "torch.Size([400, 64])\n"
     ]
    },
    {
     "name": "stderr",
     "output_type": "stream",
     "text": [
      "\r",
      " 24%|█████████████████████████████████████▌                                                                                                                         | 236/1000 [1:37:31<5:00:53, 23.63s/it]"
     ]
    },
    {
     "name": "stdout",
     "output_type": "stream",
     "text": [
      "eigenvalues shape torch.Size([5]) eigenvectors shape torch.Size([5, 400])\n",
      "236 /home/phdcs2/Hard_Disk/Datasets/Deep-Spectral-Segmentation/data/object-segmentation/ECSSD/features/dino_vits16/0237.pth\n",
      "dict_keys(['k', 'indices', 'file', 'id', 'model_name', 'patch_size', 'shape'])\n",
      "0237\n",
      "Starting Training\n",
      "epoch: 00, loss: -0.05261\n",
      "epoch: 01, loss: -0.08119\n",
      "epoch: 02, loss: -0.08313\n",
      "epoch: 03, loss: -0.08247\n",
      "epoch: 04, loss: -0.08711\n",
      "epoch: 05, loss: -0.08505\n",
      "epoch: 06, loss: -0.08521\n",
      "epoch: 07, loss: -0.08819\n",
      "epoch: 08, loss: -0.08602\n",
      "epoch: 09, loss: -0.08611\n",
      "torch.Size([400, 64])\n"
     ]
    },
    {
     "name": "stderr",
     "output_type": "stream",
     "text": [
      "\r",
      " 24%|█████████████████████████████████████▋                                                                                                                         | 237/1000 [1:37:50<4:43:58, 22.33s/it]"
     ]
    },
    {
     "name": "stdout",
     "output_type": "stream",
     "text": [
      "eigenvalues shape torch.Size([5]) eigenvectors shape torch.Size([5, 400])\n",
      "237 /home/phdcs2/Hard_Disk/Datasets/Deep-Spectral-Segmentation/data/object-segmentation/ECSSD/features/dino_vits16/0238.pth\n",
      "dict_keys(['k', 'indices', 'file', 'id', 'model_name', 'patch_size', 'shape'])\n",
      "0238\n",
      "Starting Training\n",
      "epoch: 00, loss: -0.00849\n",
      "epoch: 01, loss: -0.03964\n",
      "epoch: 02, loss: -0.04157\n",
      "epoch: 03, loss: -0.04309\n",
      "epoch: 04, loss: -0.04622\n",
      "epoch: 05, loss: -0.04782\n",
      "epoch: 06, loss: -0.04651\n",
      "epoch: 07, loss: -0.04699\n",
      "epoch: 08, loss: -0.04769\n",
      "epoch: 09, loss: -0.04837\n",
      "torch.Size([400, 64])\n"
     ]
    },
    {
     "name": "stderr",
     "output_type": "stream",
     "text": [
      "\r",
      " 24%|█████████████████████████████████████▊                                                                                                                         | 238/1000 [1:38:12<4:41:09, 22.14s/it]"
     ]
    },
    {
     "name": "stdout",
     "output_type": "stream",
     "text": [
      "eigenvalues shape torch.Size([5]) eigenvectors shape torch.Size([5, 400])\n",
      "238 /home/phdcs2/Hard_Disk/Datasets/Deep-Spectral-Segmentation/data/object-segmentation/ECSSD/features/dino_vits16/0239.pth\n",
      "dict_keys(['k', 'indices', 'file', 'id', 'model_name', 'patch_size', 'shape'])\n",
      "0239\n",
      "Starting Training\n",
      "epoch: 00, loss: -0.05795\n",
      "epoch: 01, loss: -0.08470\n",
      "epoch: 02, loss: -0.08884\n",
      "epoch: 03, loss: -0.08996\n",
      "epoch: 04, loss: -0.09118\n",
      "epoch: 05, loss: -0.09504\n",
      "epoch: 06, loss: -0.09441\n",
      "epoch: 07, loss: -0.09535\n",
      "epoch: 08, loss: -0.09490\n",
      "epoch: 09, loss: -0.09436\n",
      "torch.Size([400, 64])\n"
     ]
    },
    {
     "name": "stderr",
     "output_type": "stream",
     "text": [
      "\r",
      " 24%|██████████████████████████████████████                                                                                                                         | 239/1000 [1:38:35<4:44:05, 22.40s/it]"
     ]
    },
    {
     "name": "stdout",
     "output_type": "stream",
     "text": [
      "eigenvalues shape torch.Size([5]) eigenvectors shape torch.Size([5, 400])\n",
      "239 /home/phdcs2/Hard_Disk/Datasets/Deep-Spectral-Segmentation/data/object-segmentation/ECSSD/features/dino_vits16/0240.pth\n",
      "dict_keys(['k', 'indices', 'file', 'id', 'model_name', 'patch_size', 'shape'])\n",
      "0240\n",
      "Starting Training\n",
      "epoch: 00, loss: -0.02714\n",
      "epoch: 01, loss: -0.05093\n",
      "epoch: 02, loss: -0.05812\n",
      "epoch: 03, loss: -0.05843\n",
      "epoch: 04, loss: -0.06063\n",
      "epoch: 05, loss: -0.05799\n",
      "epoch: 06, loss: -0.05827\n",
      "epoch: 07, loss: -0.06060\n",
      "epoch: 08, loss: -0.05933\n",
      "epoch: 09, loss: -0.06064\n",
      "torch.Size([350, 64])\n"
     ]
    },
    {
     "name": "stderr",
     "output_type": "stream",
     "text": [
      "\r",
      " 24%|██████████████████████████████████████▏                                                                                                                        | 240/1000 [1:38:59<4:50:31, 22.94s/it]"
     ]
    },
    {
     "name": "stdout",
     "output_type": "stream",
     "text": [
      "eigenvalues shape torch.Size([5]) eigenvectors shape torch.Size([5, 350])\n",
      "240 /home/phdcs2/Hard_Disk/Datasets/Deep-Spectral-Segmentation/data/object-segmentation/ECSSD/features/dino_vits16/0241.pth\n",
      "dict_keys(['k', 'indices', 'file', 'id', 'model_name', 'patch_size', 'shape'])\n",
      "0241\n",
      "Starting Training\n",
      "epoch: 00, loss: -0.05802\n",
      "epoch: 01, loss: -0.07855\n",
      "epoch: 02, loss: -0.07865\n",
      "epoch: 03, loss: -0.07934\n",
      "epoch: 04, loss: -0.07961\n",
      "epoch: 05, loss: -0.07968\n",
      "epoch: 06, loss: -0.07975\n",
      "epoch: 07, loss: -0.08005\n",
      "epoch: 08, loss: -0.08003\n",
      "epoch: 09, loss: -0.08015\n",
      "torch.Size([400, 64])\n"
     ]
    },
    {
     "name": "stderr",
     "output_type": "stream",
     "text": [
      "\r",
      " 24%|██████████████████████████████████████▎                                                                                                                        | 241/1000 [1:39:27<5:08:23, 24.38s/it]"
     ]
    },
    {
     "name": "stdout",
     "output_type": "stream",
     "text": [
      "eigenvalues shape torch.Size([5]) eigenvectors shape torch.Size([5, 400])\n",
      "241 /home/phdcs2/Hard_Disk/Datasets/Deep-Spectral-Segmentation/data/object-segmentation/ECSSD/features/dino_vits16/0242.pth\n",
      "dict_keys(['k', 'indices', 'file', 'id', 'model_name', 'patch_size', 'shape'])\n",
      "0242\n",
      "Starting Training\n",
      "epoch: 00, loss: -0.02289\n",
      "epoch: 01, loss: -0.04511\n",
      "epoch: 02, loss: -0.04542\n",
      "epoch: 03, loss: -0.04728\n",
      "epoch: 04, loss: -0.04843\n",
      "epoch: 05, loss: -0.04765\n",
      "epoch: 06, loss: -0.04821\n",
      "epoch: 07, loss: -0.04818\n",
      "epoch: 08, loss: -0.04952\n",
      "epoch: 09, loss: -0.04833\n",
      "torch.Size([325, 64])\n"
     ]
    },
    {
     "name": "stderr",
     "output_type": "stream",
     "text": [
      "\r",
      " 24%|██████████████████████████████████████▍                                                                                                                        | 242/1000 [1:39:44<4:39:35, 22.13s/it]"
     ]
    },
    {
     "name": "stdout",
     "output_type": "stream",
     "text": [
      "eigenvalues shape torch.Size([5]) eigenvectors shape torch.Size([5, 325])\n",
      "242 /home/phdcs2/Hard_Disk/Datasets/Deep-Spectral-Segmentation/data/object-segmentation/ECSSD/features/dino_vits16/0243.pth\n",
      "dict_keys(['k', 'indices', 'file', 'id', 'model_name', 'patch_size', 'shape'])\n",
      "0243\n",
      "Starting Training\n",
      "epoch: 00, loss: -0.02790\n",
      "epoch: 01, loss: -0.05886\n",
      "epoch: 02, loss: -0.06160\n",
      "epoch: 03, loss: -0.06162\n",
      "epoch: 04, loss: -0.06188\n",
      "epoch: 05, loss: -0.06334\n",
      "epoch: 06, loss: -0.06286\n",
      "epoch: 07, loss: -0.06289\n",
      "epoch: 08, loss: -0.06262\n",
      "epoch: 09, loss: -0.06297\n",
      "torch.Size([400, 64])\n"
     ]
    },
    {
     "name": "stderr",
     "output_type": "stream",
     "text": [
      "\r",
      " 24%|██████████████████████████████████████▋                                                                                                                        | 243/1000 [1:40:10<4:54:19, 23.33s/it]"
     ]
    },
    {
     "name": "stdout",
     "output_type": "stream",
     "text": [
      "eigenvalues shape torch.Size([5]) eigenvectors shape torch.Size([5, 400])\n",
      "243 /home/phdcs2/Hard_Disk/Datasets/Deep-Spectral-Segmentation/data/object-segmentation/ECSSD/features/dino_vits16/0244.pth\n",
      "dict_keys(['k', 'indices', 'file', 'id', 'model_name', 'patch_size', 'shape'])\n",
      "0244\n",
      "Starting Training\n",
      "epoch: 00, loss: -0.01868\n",
      "epoch: 01, loss: -0.03995\n",
      "epoch: 02, loss: -0.04375\n",
      "epoch: 03, loss: -0.04515\n",
      "epoch: 04, loss: -0.04615\n",
      "epoch: 05, loss: -0.04646\n",
      "epoch: 06, loss: -0.04630\n",
      "epoch: 07, loss: -0.04723\n",
      "epoch: 08, loss: -0.04655\n",
      "epoch: 09, loss: -0.04703\n",
      "torch.Size([400, 64])\n"
     ]
    },
    {
     "name": "stderr",
     "output_type": "stream",
     "text": [
      "\r",
      " 24%|██████████████████████████████████████▊                                                                                                                        | 244/1000 [1:40:30<4:43:02, 22.46s/it]"
     ]
    },
    {
     "name": "stdout",
     "output_type": "stream",
     "text": [
      "eigenvalues shape torch.Size([5]) eigenvectors shape torch.Size([5, 400])\n",
      "244 /home/phdcs2/Hard_Disk/Datasets/Deep-Spectral-Segmentation/data/object-segmentation/ECSSD/features/dino_vits16/0245.pth\n",
      "dict_keys(['k', 'indices', 'file', 'id', 'model_name', 'patch_size', 'shape'])\n",
      "0245\n",
      "Starting Training\n",
      "epoch: 00, loss: -0.01719\n",
      "epoch: 01, loss: -0.03691\n",
      "epoch: 02, loss: -0.04124\n",
      "epoch: 03, loss: -0.04196\n",
      "epoch: 04, loss: -0.04277\n",
      "epoch: 05, loss: -0.04317\n",
      "epoch: 06, loss: -0.04257\n",
      "epoch: 07, loss: -0.04357\n",
      "epoch: 08, loss: -0.04420\n",
      "epoch: 09, loss: -0.04406\n",
      "torch.Size([400, 64])\n"
     ]
    },
    {
     "name": "stderr",
     "output_type": "stream",
     "text": [
      "\r",
      " 24%|██████████████████████████████████████▉                                                                                                                        | 245/1000 [1:40:58<5:04:42, 24.22s/it]"
     ]
    },
    {
     "name": "stdout",
     "output_type": "stream",
     "text": [
      "eigenvalues shape torch.Size([5]) eigenvectors shape torch.Size([5, 400])\n",
      "245 /home/phdcs2/Hard_Disk/Datasets/Deep-Spectral-Segmentation/data/object-segmentation/ECSSD/features/dino_vits16/0246.pth\n",
      "dict_keys(['k', 'indices', 'file', 'id', 'model_name', 'patch_size', 'shape'])\n",
      "0246\n",
      "Starting Training\n",
      "epoch: 00, loss: -0.01243\n",
      "epoch: 01, loss: -0.03470\n",
      "epoch: 02, loss: -0.03863\n",
      "epoch: 03, loss: -0.03928\n",
      "epoch: 04, loss: -0.03984\n",
      "epoch: 05, loss: -0.04010\n",
      "epoch: 06, loss: -0.04025\n",
      "epoch: 07, loss: -0.04046\n",
      "epoch: 08, loss: -0.04069\n",
      "epoch: 09, loss: -0.04078\n",
      "torch.Size([400, 64])\n"
     ]
    },
    {
     "name": "stderr",
     "output_type": "stream",
     "text": [
      "\r",
      " 25%|███████████████████████████████████████                                                                                                                        | 246/1000 [1:41:22<5:00:17, 23.90s/it]"
     ]
    },
    {
     "name": "stdout",
     "output_type": "stream",
     "text": [
      "eigenvalues shape torch.Size([5]) eigenvectors shape torch.Size([5, 400])\n",
      "246 /home/phdcs2/Hard_Disk/Datasets/Deep-Spectral-Segmentation/data/object-segmentation/ECSSD/features/dino_vits16/0247.pth\n",
      "dict_keys(['k', 'indices', 'file', 'id', 'model_name', 'patch_size', 'shape'])\n",
      "0247\n",
      "Starting Training\n",
      "epoch: 00, loss: -0.07630\n",
      "epoch: 01, loss: -0.10709\n",
      "epoch: 02, loss: -0.11192\n",
      "epoch: 03, loss: -0.11224\n",
      "epoch: 04, loss: -0.11525\n",
      "epoch: 05, loss: -0.11621\n",
      "epoch: 06, loss: -0.11773\n",
      "epoch: 07, loss: -0.11699\n",
      "epoch: 08, loss: -0.11791\n",
      "epoch: 09, loss: -0.11861\n",
      "torch.Size([400, 64])\n"
     ]
    },
    {
     "name": "stderr",
     "output_type": "stream",
     "text": [
      "\r",
      " 25%|███████████████████████████████████████▎                                                                                                                       | 247/1000 [1:41:43<4:51:18, 23.21s/it]"
     ]
    },
    {
     "name": "stdout",
     "output_type": "stream",
     "text": [
      "eigenvalues shape torch.Size([5]) eigenvectors shape torch.Size([5, 400])\n",
      "247 /home/phdcs2/Hard_Disk/Datasets/Deep-Spectral-Segmentation/data/object-segmentation/ECSSD/features/dino_vits16/0248.pth\n",
      "dict_keys(['k', 'indices', 'file', 'id', 'model_name', 'patch_size', 'shape'])\n",
      "0248\n",
      "Starting Training\n",
      "epoch: 00, loss: -0.04044\n",
      "epoch: 01, loss: -0.06999\n",
      "epoch: 02, loss: -0.07911\n",
      "epoch: 03, loss: -0.07966\n",
      "epoch: 04, loss: -0.08284\n",
      "epoch: 05, loss: -0.08197\n",
      "epoch: 06, loss: -0.08261\n",
      "epoch: 07, loss: -0.08311\n",
      "epoch: 08, loss: -0.08335\n",
      "epoch: 09, loss: -0.08426\n",
      "torch.Size([450, 64])\n"
     ]
    },
    {
     "name": "stderr",
     "output_type": "stream",
     "text": [
      "\r",
      " 25%|███████████████████████████████████████▍                                                                                                                       | 248/1000 [1:42:10<5:04:30, 24.30s/it]"
     ]
    },
    {
     "name": "stdout",
     "output_type": "stream",
     "text": [
      "eigenvalues shape torch.Size([5]) eigenvectors shape torch.Size([5, 450])\n",
      "248 /home/phdcs2/Hard_Disk/Datasets/Deep-Spectral-Segmentation/data/object-segmentation/ECSSD/features/dino_vits16/0249.pth\n",
      "dict_keys(['k', 'indices', 'file', 'id', 'model_name', 'patch_size', 'shape'])\n",
      "0249\n",
      "Starting Training\n",
      "epoch: 00, loss: -0.02025\n",
      "epoch: 01, loss: -0.03738\n",
      "epoch: 02, loss: -0.03976\n",
      "epoch: 03, loss: -0.03984\n",
      "epoch: 04, loss: -0.04071\n",
      "epoch: 05, loss: -0.04115\n",
      "epoch: 06, loss: -0.04146\n",
      "epoch: 07, loss: -0.04206\n",
      "epoch: 08, loss: -0.04176\n",
      "epoch: 09, loss: -0.04119\n",
      "torch.Size([425, 64])\n"
     ]
    },
    {
     "name": "stderr",
     "output_type": "stream",
     "text": [
      "\r",
      " 25%|███████████████████████████████████████▌                                                                                                                       | 249/1000 [1:42:34<5:03:26, 24.24s/it]"
     ]
    },
    {
     "name": "stdout",
     "output_type": "stream",
     "text": [
      "eigenvalues shape torch.Size([5]) eigenvectors shape torch.Size([5, 425])\n",
      "249 /home/phdcs2/Hard_Disk/Datasets/Deep-Spectral-Segmentation/data/object-segmentation/ECSSD/features/dino_vits16/0250.pth\n",
      "dict_keys(['k', 'indices', 'file', 'id', 'model_name', 'patch_size', 'shape'])\n",
      "0250\n",
      "Starting Training\n",
      "epoch: 00, loss: -0.08166\n",
      "epoch: 01, loss: -0.11835\n",
      "epoch: 02, loss: -0.11891\n",
      "epoch: 03, loss: -0.12119\n",
      "epoch: 04, loss: -0.12101\n",
      "epoch: 05, loss: -0.12374\n",
      "epoch: 06, loss: -0.12609\n",
      "epoch: 07, loss: -0.12492\n",
      "epoch: 08, loss: -0.12602\n",
      "epoch: 09, loss: -0.12519\n",
      "torch.Size([400, 64])\n"
     ]
    },
    {
     "name": "stderr",
     "output_type": "stream",
     "text": [
      "\r",
      " 25%|███████████████████████████████████████▊                                                                                                                       | 250/1000 [1:43:01<5:13:14, 25.06s/it]"
     ]
    },
    {
     "name": "stdout",
     "output_type": "stream",
     "text": [
      "eigenvalues shape torch.Size([5]) eigenvectors shape torch.Size([5, 400])\n",
      "250 /home/phdcs2/Hard_Disk/Datasets/Deep-Spectral-Segmentation/data/object-segmentation/ECSSD/features/dino_vits16/0251.pth\n",
      "dict_keys(['k', 'indices', 'file', 'id', 'model_name', 'patch_size', 'shape'])\n",
      "0251\n",
      "Starting Training\n",
      "epoch: 00, loss: -0.04773\n",
      "epoch: 01, loss: -0.06566\n",
      "epoch: 02, loss: -0.06657\n",
      "epoch: 03, loss: -0.06699\n",
      "epoch: 04, loss: -0.06742\n",
      "epoch: 05, loss: -0.06748\n",
      "epoch: 06, loss: -0.06798\n",
      "epoch: 07, loss: -0.06766\n",
      "epoch: 08, loss: -0.06791\n",
      "epoch: 09, loss: -0.06812\n",
      "torch.Size([450, 64])\n"
     ]
    },
    {
     "name": "stderr",
     "output_type": "stream",
     "text": [
      "\r",
      " 25%|███████████████████████████████████████▉                                                                                                                       | 251/1000 [1:43:31<5:32:41, 26.65s/it]"
     ]
    },
    {
     "name": "stdout",
     "output_type": "stream",
     "text": [
      "eigenvalues shape torch.Size([5]) eigenvectors shape torch.Size([5, 450])\n",
      "251 /home/phdcs2/Hard_Disk/Datasets/Deep-Spectral-Segmentation/data/object-segmentation/ECSSD/features/dino_vits16/0252.pth\n",
      "dict_keys(['k', 'indices', 'file', 'id', 'model_name', 'patch_size', 'shape'])\n",
      "0252\n",
      "Starting Training\n",
      "epoch: 00, loss: -0.03320\n",
      "epoch: 01, loss: -0.06105\n",
      "epoch: 02, loss: -0.06846\n",
      "epoch: 03, loss: -0.07108\n",
      "epoch: 04, loss: -0.07233\n",
      "epoch: 05, loss: -0.07379\n",
      "epoch: 06, loss: -0.07212\n",
      "epoch: 07, loss: -0.07407\n",
      "epoch: 08, loss: -0.07233\n",
      "epoch: 09, loss: -0.07350\n",
      "torch.Size([450, 64])\n"
     ]
    },
    {
     "name": "stderr",
     "output_type": "stream",
     "text": [
      "\r",
      " 25%|████████████████████████████████████████                                                                                                                       | 252/1000 [1:43:54<5:18:23, 25.54s/it]"
     ]
    },
    {
     "name": "stdout",
     "output_type": "stream",
     "text": [
      "eigenvalues shape torch.Size([5]) eigenvectors shape torch.Size([5, 450])\n",
      "252 /home/phdcs2/Hard_Disk/Datasets/Deep-Spectral-Segmentation/data/object-segmentation/ECSSD/features/dino_vits16/0253.pth\n",
      "dict_keys(['k', 'indices', 'file', 'id', 'model_name', 'patch_size', 'shape'])\n",
      "0253\n",
      "Starting Training\n",
      "epoch: 00, loss: -0.00784\n",
      "epoch: 01, loss: -0.02030\n",
      "epoch: 02, loss: -0.02339\n",
      "epoch: 03, loss: -0.02477\n",
      "epoch: 04, loss: -0.02511\n",
      "epoch: 05, loss: -0.02536\n",
      "epoch: 06, loss: -0.02576\n",
      "epoch: 07, loss: -0.02594\n",
      "epoch: 08, loss: -0.02613\n",
      "epoch: 09, loss: -0.02616\n",
      "torch.Size([450, 64])\n"
     ]
    },
    {
     "name": "stderr",
     "output_type": "stream",
     "text": [
      "\r",
      " 25%|████████████████████████████████████████▏                                                                                                                      | 253/1000 [1:44:21<5:23:16, 25.97s/it]"
     ]
    },
    {
     "name": "stdout",
     "output_type": "stream",
     "text": [
      "eigenvalues shape torch.Size([5]) eigenvectors shape torch.Size([5, 450])\n",
      "253 /home/phdcs2/Hard_Disk/Datasets/Deep-Spectral-Segmentation/data/object-segmentation/ECSSD/features/dino_vits16/0254.pth\n",
      "dict_keys(['k', 'indices', 'file', 'id', 'model_name', 'patch_size', 'shape'])\n",
      "0254\n",
      "Starting Training\n",
      "epoch: 00, loss: -0.03922\n",
      "epoch: 01, loss: -0.05177\n",
      "epoch: 02, loss: -0.05301\n",
      "epoch: 03, loss: -0.05379\n",
      "epoch: 04, loss: -0.05388\n",
      "epoch: 05, loss: -0.05483\n",
      "epoch: 06, loss: -0.05411\n",
      "epoch: 07, loss: -0.05521\n",
      "epoch: 08, loss: -0.05498\n",
      "epoch: 09, loss: -0.05543\n",
      "torch.Size([525, 64])\n"
     ]
    },
    {
     "name": "stderr",
     "output_type": "stream",
     "text": [
      "\r",
      " 25%|████████████████████████████████████████▍                                                                                                                      | 254/1000 [1:45:08<6:38:44, 32.07s/it]"
     ]
    },
    {
     "name": "stdout",
     "output_type": "stream",
     "text": [
      "eigenvalues shape torch.Size([5]) eigenvectors shape torch.Size([5, 525])\n",
      "254 /home/phdcs2/Hard_Disk/Datasets/Deep-Spectral-Segmentation/data/object-segmentation/ECSSD/features/dino_vits16/0255.pth\n",
      "dict_keys(['k', 'indices', 'file', 'id', 'model_name', 'patch_size', 'shape'])\n",
      "0255\n",
      "Starting Training\n",
      "epoch: 00, loss: -0.02311\n",
      "epoch: 01, loss: -0.04135\n",
      "epoch: 02, loss: -0.04312\n",
      "epoch: 03, loss: -0.04387\n",
      "epoch: 04, loss: -0.04409\n",
      "epoch: 05, loss: -0.04444\n",
      "epoch: 06, loss: -0.04458\n",
      "epoch: 07, loss: -0.04443\n",
      "epoch: 08, loss: -0.04549\n",
      "epoch: 09, loss: -0.04475\n",
      "torch.Size([575, 64])\n"
     ]
    },
    {
     "name": "stderr",
     "output_type": "stream",
     "text": [
      "\r",
      " 26%|████████████████████████████████████████▌                                                                                                                      | 255/1000 [1:45:55<7:34:44, 36.62s/it]"
     ]
    },
    {
     "name": "stdout",
     "output_type": "stream",
     "text": [
      "eigenvalues shape torch.Size([5]) eigenvectors shape torch.Size([5, 575])\n",
      "255 /home/phdcs2/Hard_Disk/Datasets/Deep-Spectral-Segmentation/data/object-segmentation/ECSSD/features/dino_vits16/0256.pth\n",
      "dict_keys(['k', 'indices', 'file', 'id', 'model_name', 'patch_size', 'shape'])\n",
      "0256\n",
      "Starting Training\n",
      "epoch: 00, loss: -0.05336\n",
      "epoch: 01, loss: -0.07314\n",
      "epoch: 02, loss: -0.07440\n",
      "epoch: 03, loss: -0.07468\n",
      "epoch: 04, loss: -0.07478\n",
      "epoch: 05, loss: -0.07543\n",
      "epoch: 06, loss: -0.07543\n",
      "epoch: 07, loss: -0.07703\n",
      "epoch: 08, loss: -0.07553\n",
      "epoch: 09, loss: -0.07717\n",
      "torch.Size([375, 64])\n"
     ]
    },
    {
     "name": "stderr",
     "output_type": "stream",
     "text": [
      "\r",
      " 26%|████████████████████████████████████████▋                                                                                                                      | 256/1000 [1:46:15<6:31:55, 31.61s/it]"
     ]
    },
    {
     "name": "stdout",
     "output_type": "stream",
     "text": [
      "eigenvalues shape torch.Size([5]) eigenvectors shape torch.Size([5, 375])\n",
      "256 /home/phdcs2/Hard_Disk/Datasets/Deep-Spectral-Segmentation/data/object-segmentation/ECSSD/features/dino_vits16/0257.pth\n",
      "dict_keys(['k', 'indices', 'file', 'id', 'model_name', 'patch_size', 'shape'])\n",
      "0257\n",
      "Starting Training\n",
      "epoch: 00, loss: -0.04704\n",
      "epoch: 01, loss: -0.06457\n",
      "epoch: 02, loss: -0.06559\n",
      "epoch: 03, loss: -0.06582\n",
      "epoch: 04, loss: -0.06523\n",
      "epoch: 05, loss: -0.06655\n",
      "epoch: 06, loss: -0.06591\n",
      "epoch: 07, loss: -0.06558\n",
      "epoch: 08, loss: -0.06543\n",
      "epoch: 09, loss: -0.06698\n",
      "torch.Size([475, 64])\n"
     ]
    },
    {
     "name": "stderr",
     "output_type": "stream",
     "text": [
      "\r",
      " 26%|████████████████████████████████████████▊                                                                                                                      | 257/1000 [1:46:42<6:14:56, 30.28s/it]"
     ]
    },
    {
     "name": "stdout",
     "output_type": "stream",
     "text": [
      "eigenvalues shape torch.Size([5]) eigenvectors shape torch.Size([5, 475])\n",
      "257 /home/phdcs2/Hard_Disk/Datasets/Deep-Spectral-Segmentation/data/object-segmentation/ECSSD/features/dino_vits16/0258.pth\n",
      "dict_keys(['k', 'indices', 'file', 'id', 'model_name', 'patch_size', 'shape'])\n",
      "0258\n",
      "Starting Training\n",
      "epoch: 00, loss: -0.03030\n",
      "epoch: 01, loss: -0.05075\n",
      "epoch: 02, loss: -0.05241\n",
      "epoch: 03, loss: -0.05309\n",
      "epoch: 04, loss: -0.05353\n",
      "epoch: 05, loss: -0.05362\n",
      "epoch: 06, loss: -0.05389\n",
      "epoch: 07, loss: -0.05417\n",
      "epoch: 08, loss: -0.05406\n",
      "epoch: 09, loss: -0.05430\n",
      "torch.Size([400, 64])\n"
     ]
    },
    {
     "name": "stderr",
     "output_type": "stream",
     "text": [
      "\r",
      " 26%|█████████████████████████████████████████                                                                                                                      | 258/1000 [1:47:06<5:51:54, 28.46s/it]"
     ]
    },
    {
     "name": "stdout",
     "output_type": "stream",
     "text": [
      "eigenvalues shape torch.Size([5]) eigenvectors shape torch.Size([5, 400])\n",
      "258 /home/phdcs2/Hard_Disk/Datasets/Deep-Spectral-Segmentation/data/object-segmentation/ECSSD/features/dino_vits16/0259.pth\n",
      "dict_keys(['k', 'indices', 'file', 'id', 'model_name', 'patch_size', 'shape'])\n",
      "0259\n",
      "Starting Training\n",
      "epoch: 00, loss: -0.04016\n",
      "epoch: 01, loss: -0.05894\n",
      "epoch: 02, loss: -0.06004\n",
      "epoch: 03, loss: -0.06039\n",
      "epoch: 04, loss: -0.06062\n",
      "epoch: 05, loss: -0.06079\n",
      "epoch: 06, loss: -0.06108\n",
      "epoch: 07, loss: -0.06118\n",
      "epoch: 08, loss: -0.06136\n",
      "epoch: 09, loss: -0.06161\n",
      "torch.Size([450, 64])\n"
     ]
    },
    {
     "name": "stderr",
     "output_type": "stream",
     "text": [
      "\r",
      " 26%|█████████████████████████████████████████▏                                                                                                                     | 259/1000 [1:47:32<5:39:42, 27.51s/it]"
     ]
    },
    {
     "name": "stdout",
     "output_type": "stream",
     "text": [
      "eigenvalues shape torch.Size([5]) eigenvectors shape torch.Size([5, 450])\n",
      "259 /home/phdcs2/Hard_Disk/Datasets/Deep-Spectral-Segmentation/data/object-segmentation/ECSSD/features/dino_vits16/0260.pth\n",
      "dict_keys(['k', 'indices', 'file', 'id', 'model_name', 'patch_size', 'shape'])\n",
      "0260\n",
      "Starting Training\n",
      "epoch: 00, loss: -0.07079\n",
      "epoch: 01, loss: -0.08772\n",
      "epoch: 02, loss: -0.08879\n",
      "epoch: 03, loss: -0.08908\n",
      "epoch: 04, loss: -0.08908\n",
      "epoch: 05, loss: -0.08919\n",
      "epoch: 06, loss: -0.08935\n",
      "epoch: 07, loss: -0.08943\n",
      "epoch: 08, loss: -0.08957\n",
      "epoch: 09, loss: -0.08966\n",
      "torch.Size([450, 64])\n"
     ]
    },
    {
     "name": "stderr",
     "output_type": "stream",
     "text": [
      "\r",
      " 26%|█████████████████████████████████████████▎                                                                                                                     | 260/1000 [1:47:57<5:30:32, 26.80s/it]"
     ]
    },
    {
     "name": "stdout",
     "output_type": "stream",
     "text": [
      "eigenvalues shape torch.Size([5]) eigenvectors shape torch.Size([5, 450])\n",
      "260 /home/phdcs2/Hard_Disk/Datasets/Deep-Spectral-Segmentation/data/object-segmentation/ECSSD/features/dino_vits16/0261.pth\n",
      "dict_keys(['k', 'indices', 'file', 'id', 'model_name', 'patch_size', 'shape'])\n",
      "0261\n",
      "Starting Training\n",
      "epoch: 00, loss: -0.04833\n",
      "epoch: 01, loss: -0.07218\n",
      "epoch: 02, loss: -0.07321\n",
      "epoch: 03, loss: -0.07322\n",
      "epoch: 04, loss: -0.07352\n",
      "epoch: 05, loss: -0.07373\n",
      "epoch: 06, loss: -0.07388\n",
      "epoch: 07, loss: -0.07410\n",
      "epoch: 08, loss: -0.07420\n",
      "epoch: 09, loss: -0.07459\n",
      "torch.Size([400, 64])\n"
     ]
    },
    {
     "name": "stderr",
     "output_type": "stream",
     "text": [
      "\r",
      " 26%|█████████████████████████████████████████▍                                                                                                                     | 261/1000 [1:48:18<5:09:34, 25.13s/it]"
     ]
    },
    {
     "name": "stdout",
     "output_type": "stream",
     "text": [
      "eigenvalues shape torch.Size([5]) eigenvectors shape torch.Size([5, 400])\n",
      "261 /home/phdcs2/Hard_Disk/Datasets/Deep-Spectral-Segmentation/data/object-segmentation/ECSSD/features/dino_vits16/0262.pth\n",
      "dict_keys(['k', 'indices', 'file', 'id', 'model_name', 'patch_size', 'shape'])\n",
      "0262\n",
      "Starting Training\n",
      "epoch: 00, loss: -0.03221\n",
      "epoch: 01, loss: -0.05201\n",
      "epoch: 02, loss: -0.05383\n",
      "epoch: 03, loss: -0.05501\n",
      "epoch: 04, loss: -0.05578\n",
      "epoch: 05, loss: -0.05528\n",
      "epoch: 06, loss: -0.05616\n",
      "epoch: 07, loss: -0.05512\n",
      "epoch: 08, loss: -0.05530\n",
      "epoch: 09, loss: -0.05559\n",
      "torch.Size([450, 64])\n"
     ]
    },
    {
     "name": "stderr",
     "output_type": "stream",
     "text": [
      "\r",
      " 26%|█████████████████████████████████████████▋                                                                                                                     | 262/1000 [1:48:43<5:10:38, 25.25s/it]"
     ]
    },
    {
     "name": "stdout",
     "output_type": "stream",
     "text": [
      "eigenvalues shape torch.Size([5]) eigenvectors shape torch.Size([5, 450])\n",
      "262 /home/phdcs2/Hard_Disk/Datasets/Deep-Spectral-Segmentation/data/object-segmentation/ECSSD/features/dino_vits16/0263.pth\n",
      "dict_keys(['k', 'indices', 'file', 'id', 'model_name', 'patch_size', 'shape'])\n",
      "0263\n",
      "Starting Training\n",
      "epoch: 00, loss: -0.03292\n",
      "epoch: 01, loss: -0.06162\n",
      "epoch: 02, loss: -0.06340\n",
      "epoch: 03, loss: -0.06440\n",
      "epoch: 04, loss: -0.06270\n",
      "epoch: 05, loss: -0.06408\n",
      "epoch: 06, loss: -0.06323\n",
      "epoch: 07, loss: -0.06674\n",
      "epoch: 08, loss: -0.06723\n",
      "epoch: 09, loss: -0.06899\n",
      "torch.Size([450, 64])\n"
     ]
    },
    {
     "name": "stderr",
     "output_type": "stream",
     "text": [
      "\r",
      " 26%|█████████████████████████████████████████▊                                                                                                                     | 263/1000 [1:49:07<5:03:56, 24.74s/it]"
     ]
    },
    {
     "name": "stdout",
     "output_type": "stream",
     "text": [
      "eigenvalues shape torch.Size([5]) eigenvectors shape torch.Size([5, 450])\n",
      "263 /home/phdcs2/Hard_Disk/Datasets/Deep-Spectral-Segmentation/data/object-segmentation/ECSSD/features/dino_vits16/0264.pth\n",
      "dict_keys(['k', 'indices', 'file', 'id', 'model_name', 'patch_size', 'shape'])\n",
      "0264\n",
      "Starting Training\n",
      "epoch: 00, loss: -0.02650\n",
      "epoch: 01, loss: -0.05224\n",
      "epoch: 02, loss: -0.05467\n",
      "epoch: 03, loss: -0.05536\n",
      "epoch: 04, loss: -0.05577\n",
      "epoch: 05, loss: -0.05571\n",
      "epoch: 06, loss: -0.05580\n",
      "epoch: 07, loss: -0.05588\n",
      "epoch: 08, loss: -0.05614\n",
      "epoch: 09, loss: -0.05626\n",
      "torch.Size([400, 64])\n"
     ]
    },
    {
     "name": "stderr",
     "output_type": "stream",
     "text": [
      "\r",
      " 26%|█████████████████████████████████████████▉                                                                                                                     | 264/1000 [1:49:29<4:53:21, 23.91s/it]"
     ]
    },
    {
     "name": "stdout",
     "output_type": "stream",
     "text": [
      "eigenvalues shape torch.Size([5]) eigenvectors shape torch.Size([5, 400])\n",
      "264 /home/phdcs2/Hard_Disk/Datasets/Deep-Spectral-Segmentation/data/object-segmentation/ECSSD/features/dino_vits16/0265.pth\n",
      "dict_keys(['k', 'indices', 'file', 'id', 'model_name', 'patch_size', 'shape'])\n",
      "0265\n",
      "Starting Training\n",
      "epoch: 00, loss: -0.04436\n",
      "epoch: 01, loss: -0.05879\n",
      "epoch: 02, loss: -0.05764\n",
      "epoch: 03, loss: -0.05751\n",
      "epoch: 04, loss: -0.05961\n",
      "epoch: 05, loss: -0.05939\n",
      "epoch: 06, loss: -0.05927\n",
      "epoch: 07, loss: -0.05888\n",
      "epoch: 08, loss: -0.05946\n",
      "epoch: 09, loss: -0.05922\n",
      "torch.Size([525, 64])\n"
     ]
    },
    {
     "name": "stderr",
     "output_type": "stream",
     "text": [
      "\r",
      " 26%|██████████████████████████████████████████▏                                                                                                                    | 265/1000 [1:50:15<6:15:52, 30.68s/it]"
     ]
    },
    {
     "name": "stdout",
     "output_type": "stream",
     "text": [
      "eigenvalues shape torch.Size([5]) eigenvectors shape torch.Size([5, 525])\n",
      "265 /home/phdcs2/Hard_Disk/Datasets/Deep-Spectral-Segmentation/data/object-segmentation/ECSSD/features/dino_vits16/0266.pth\n",
      "dict_keys(['k', 'indices', 'file', 'id', 'model_name', 'patch_size', 'shape'])\n",
      "0266\n",
      "Starting Training\n",
      "epoch: 00, loss: -0.04220\n",
      "epoch: 01, loss: -0.06932\n",
      "epoch: 02, loss: -0.07054\n",
      "epoch: 03, loss: -0.07236\n",
      "epoch: 04, loss: -0.07280\n",
      "epoch: 05, loss: -0.07134\n",
      "epoch: 06, loss: -0.07145\n",
      "epoch: 07, loss: -0.07235\n",
      "epoch: 08, loss: -0.07183\n",
      "epoch: 09, loss: -0.07203\n",
      "torch.Size([425, 64])\n"
     ]
    },
    {
     "name": "stderr",
     "output_type": "stream",
     "text": [
      "\r",
      " 27%|██████████████████████████████████████████▎                                                                                                                    | 266/1000 [1:50:39<5:48:58, 28.53s/it]"
     ]
    },
    {
     "name": "stdout",
     "output_type": "stream",
     "text": [
      "eigenvalues shape torch.Size([5]) eigenvectors shape torch.Size([5, 425])\n",
      "266 /home/phdcs2/Hard_Disk/Datasets/Deep-Spectral-Segmentation/data/object-segmentation/ECSSD/features/dino_vits16/0267.pth\n",
      "dict_keys(['k', 'indices', 'file', 'id', 'model_name', 'patch_size', 'shape'])\n",
      "0267\n",
      "Starting Training\n",
      "epoch: 00, loss: -0.02155\n",
      "epoch: 01, loss: -0.04875\n",
      "epoch: 02, loss: -0.05722\n",
      "epoch: 03, loss: -0.05935\n",
      "epoch: 04, loss: -0.05842\n",
      "epoch: 05, loss: -0.05955\n",
      "epoch: 06, loss: -0.06018\n",
      "epoch: 07, loss: -0.06266\n",
      "epoch: 08, loss: -0.06146\n",
      "epoch: 09, loss: -0.06196\n",
      "torch.Size([400, 64])\n"
     ]
    },
    {
     "name": "stderr",
     "output_type": "stream",
     "text": [
      "\r",
      " 27%|██████████████████████████████████████████▍                                                                                                                    | 267/1000 [1:51:02<5:27:17, 26.79s/it]"
     ]
    },
    {
     "name": "stdout",
     "output_type": "stream",
     "text": [
      "eigenvalues shape torch.Size([5]) eigenvectors shape torch.Size([5, 400])\n",
      "267 /home/phdcs2/Hard_Disk/Datasets/Deep-Spectral-Segmentation/data/object-segmentation/ECSSD/features/dino_vits16/0268.pth\n",
      "dict_keys(['k', 'indices', 'file', 'id', 'model_name', 'patch_size', 'shape'])\n",
      "0268\n",
      "Starting Training\n",
      "epoch: 00, loss: -0.04783\n",
      "epoch: 01, loss: -0.07141\n",
      "epoch: 02, loss: -0.07394\n",
      "epoch: 03, loss: -0.07468\n",
      "epoch: 04, loss: -0.07671\n",
      "epoch: 05, loss: -0.07587\n",
      "epoch: 06, loss: -0.07568\n",
      "epoch: 07, loss: -0.07681\n",
      "epoch: 08, loss: -0.07640\n",
      "epoch: 09, loss: -0.07734\n",
      "torch.Size([600, 64])\n"
     ]
    },
    {
     "name": "stderr",
     "output_type": "stream",
     "text": [
      "\r",
      " 27%|██████████████████████████████████████████▌                                                                                                                    | 268/1000 [1:51:50<6:47:08, 33.37s/it]"
     ]
    },
    {
     "name": "stdout",
     "output_type": "stream",
     "text": [
      "eigenvalues shape torch.Size([5]) eigenvectors shape torch.Size([5, 600])\n",
      "268 /home/phdcs2/Hard_Disk/Datasets/Deep-Spectral-Segmentation/data/object-segmentation/ECSSD/features/dino_vits16/0269.pth\n",
      "dict_keys(['k', 'indices', 'file', 'id', 'model_name', 'patch_size', 'shape'])\n",
      "0269\n",
      "Starting Training\n",
      "epoch: 00, loss: -0.01719\n",
      "epoch: 01, loss: -0.03539\n",
      "epoch: 02, loss: -0.03843\n",
      "epoch: 03, loss: -0.03934\n",
      "epoch: 04, loss: -0.03986\n",
      "epoch: 05, loss: -0.04008\n",
      "epoch: 06, loss: -0.04040\n",
      "epoch: 07, loss: -0.04044\n",
      "epoch: 08, loss: -0.04047\n",
      "epoch: 09, loss: -0.04077\n",
      "torch.Size([400, 64])\n"
     ]
    },
    {
     "name": "stderr",
     "output_type": "stream",
     "text": [
      "\r",
      " 27%|██████████████████████████████████████████▊                                                                                                                    | 269/1000 [1:52:11<6:00:47, 29.61s/it]"
     ]
    },
    {
     "name": "stdout",
     "output_type": "stream",
     "text": [
      "eigenvalues shape torch.Size([5]) eigenvectors shape torch.Size([5, 400])\n",
      "269 /home/phdcs2/Hard_Disk/Datasets/Deep-Spectral-Segmentation/data/object-segmentation/ECSSD/features/dino_vits16/0270.pth\n",
      "dict_keys(['k', 'indices', 'file', 'id', 'model_name', 'patch_size', 'shape'])\n",
      "0270\n",
      "Starting Training\n",
      "epoch: 00, loss: -0.03165\n",
      "epoch: 01, loss: -0.05190\n",
      "epoch: 02, loss: -0.05376\n",
      "epoch: 03, loss: -0.05597\n",
      "epoch: 04, loss: -0.05465\n",
      "epoch: 05, loss: -0.05613\n",
      "epoch: 06, loss: -0.05521\n",
      "epoch: 07, loss: -0.05510\n",
      "epoch: 08, loss: -0.05523\n",
      "epoch: 09, loss: -0.05705\n",
      "torch.Size([375, 64])\n"
     ]
    },
    {
     "name": "stderr",
     "output_type": "stream",
     "text": [
      "\r",
      " 27%|██████████████████████████████████████████▉                                                                                                                    | 270/1000 [1:52:32<5:28:10, 26.97s/it]"
     ]
    },
    {
     "name": "stdout",
     "output_type": "stream",
     "text": [
      "eigenvalues shape torch.Size([5]) eigenvectors shape torch.Size([5, 375])\n",
      "270 /home/phdcs2/Hard_Disk/Datasets/Deep-Spectral-Segmentation/data/object-segmentation/ECSSD/features/dino_vits16/0271.pth\n",
      "dict_keys(['k', 'indices', 'file', 'id', 'model_name', 'patch_size', 'shape'])\n",
      "0271\n",
      "Starting Training\n",
      "epoch: 00, loss: -0.02703\n",
      "epoch: 01, loss: -0.04136\n",
      "epoch: 02, loss: -0.04380\n",
      "epoch: 03, loss: -0.04354\n",
      "epoch: 04, loss: -0.04370\n",
      "epoch: 05, loss: -0.04425\n",
      "epoch: 06, loss: -0.04422\n",
      "epoch: 07, loss: -0.04453\n",
      "epoch: 08, loss: -0.04480\n",
      "epoch: 09, loss: -0.04478\n",
      "torch.Size([450, 64])\n"
     ]
    },
    {
     "name": "stderr",
     "output_type": "stream",
     "text": [
      "\r",
      " 27%|███████████████████████████████████████████                                                                                                                    | 271/1000 [1:52:57<5:21:59, 26.50s/it]"
     ]
    },
    {
     "name": "stdout",
     "output_type": "stream",
     "text": [
      "eigenvalues shape torch.Size([5]) eigenvectors shape torch.Size([5, 450])\n",
      "271 /home/phdcs2/Hard_Disk/Datasets/Deep-Spectral-Segmentation/data/object-segmentation/ECSSD/features/dino_vits16/0272.pth\n",
      "dict_keys(['k', 'indices', 'file', 'id', 'model_name', 'patch_size', 'shape'])\n",
      "0272\n",
      "Starting Training\n",
      "epoch: 00, loss: -0.09947\n",
      "epoch: 01, loss: -0.12041\n",
      "epoch: 02, loss: -0.12358\n",
      "epoch: 03, loss: -0.12788\n",
      "epoch: 04, loss: -0.12554\n",
      "epoch: 05, loss: -0.12787\n",
      "epoch: 06, loss: -0.12720\n",
      "epoch: 07, loss: -0.12939\n",
      "epoch: 08, loss: -0.12924\n",
      "epoch: 09, loss: -0.12925\n",
      "torch.Size([500, 64])\n"
     ]
    },
    {
     "name": "stderr",
     "output_type": "stream",
     "text": [
      "\r",
      " 27%|███████████████████████████████████████████▏                                                                                                                   | 272/1000 [1:53:24<5:19:55, 26.37s/it]"
     ]
    },
    {
     "name": "stdout",
     "output_type": "stream",
     "text": [
      "eigenvalues shape torch.Size([5]) eigenvectors shape torch.Size([5, 500])\n",
      "272 /home/phdcs2/Hard_Disk/Datasets/Deep-Spectral-Segmentation/data/object-segmentation/ECSSD/features/dino_vits16/0273.pth\n",
      "dict_keys(['k', 'indices', 'file', 'id', 'model_name', 'patch_size', 'shape'])\n",
      "0273\n",
      "Starting Training\n",
      "epoch: 00, loss: -0.05419\n",
      "epoch: 01, loss: -0.08558\n",
      "epoch: 02, loss: -0.08481\n",
      "epoch: 03, loss: -0.09049\n",
      "epoch: 04, loss: -0.08980\n",
      "epoch: 05, loss: -0.09095\n",
      "epoch: 06, loss: -0.09021\n",
      "epoch: 07, loss: -0.09353\n",
      "epoch: 08, loss: -0.09215\n",
      "epoch: 09, loss: -0.09227\n",
      "torch.Size([400, 64])\n"
     ]
    },
    {
     "name": "stderr",
     "output_type": "stream",
     "text": [
      "\r",
      " 27%|███████████████████████████████████████████▍                                                                                                                   | 273/1000 [1:53:44<4:57:09, 24.52s/it]"
     ]
    },
    {
     "name": "stdout",
     "output_type": "stream",
     "text": [
      "eigenvalues shape torch.Size([5]) eigenvectors shape torch.Size([5, 400])\n",
      "273 /home/phdcs2/Hard_Disk/Datasets/Deep-Spectral-Segmentation/data/object-segmentation/ECSSD/features/dino_vits16/0274.pth\n",
      "dict_keys(['k', 'indices', 'file', 'id', 'model_name', 'patch_size', 'shape'])\n",
      "0274\n",
      "Starting Training\n",
      "epoch: 00, loss: -0.03758\n",
      "epoch: 01, loss: -0.06211\n",
      "epoch: 02, loss: -0.06490\n",
      "epoch: 03, loss: -0.06592\n",
      "epoch: 04, loss: -0.06826\n",
      "epoch: 05, loss: -0.06922\n",
      "epoch: 06, loss: -0.06868\n",
      "epoch: 07, loss: -0.06912\n",
      "epoch: 08, loss: -0.06872\n",
      "epoch: 09, loss: -0.06990\n",
      "torch.Size([575, 64])\n"
     ]
    },
    {
     "name": "stderr",
     "output_type": "stream",
     "text": [
      "\r",
      " 27%|███████████████████████████████████████████▌                                                                                                                   | 274/1000 [1:54:13<5:13:02, 25.87s/it]"
     ]
    },
    {
     "name": "stdout",
     "output_type": "stream",
     "text": [
      "eigenvalues shape torch.Size([5]) eigenvectors shape torch.Size([5, 575])\n",
      "274 /home/phdcs2/Hard_Disk/Datasets/Deep-Spectral-Segmentation/data/object-segmentation/ECSSD/features/dino_vits16/0275.pth\n",
      "dict_keys(['k', 'indices', 'file', 'id', 'model_name', 'patch_size', 'shape'])\n",
      "0275\n",
      "Starting Training\n",
      "epoch: 00, loss: -0.01838\n",
      "epoch: 01, loss: -0.04734\n",
      "epoch: 02, loss: -0.05102\n",
      "epoch: 03, loss: -0.05208\n",
      "epoch: 04, loss: -0.05205\n",
      "epoch: 05, loss: -0.05217\n",
      "epoch: 06, loss: -0.05257\n",
      "epoch: 07, loss: -0.05294\n",
      "epoch: 08, loss: -0.05308\n",
      "epoch: 09, loss: -0.05283\n",
      "torch.Size([400, 64])\n"
     ]
    },
    {
     "name": "stderr",
     "output_type": "stream",
     "text": [
      "\r",
      " 28%|███████████████████████████████████████████▋                                                                                                                   | 275/1000 [1:54:35<5:00:21, 24.86s/it]"
     ]
    },
    {
     "name": "stdout",
     "output_type": "stream",
     "text": [
      "eigenvalues shape torch.Size([5]) eigenvectors shape torch.Size([5, 400])\n",
      "275 /home/phdcs2/Hard_Disk/Datasets/Deep-Spectral-Segmentation/data/object-segmentation/ECSSD/features/dino_vits16/0276.pth\n",
      "dict_keys(['k', 'indices', 'file', 'id', 'model_name', 'patch_size', 'shape'])\n",
      "0276\n",
      "Starting Training\n",
      "epoch: 00, loss: -0.10553\n",
      "epoch: 01, loss: -0.13472\n",
      "epoch: 02, loss: -0.13805\n",
      "epoch: 03, loss: -0.14254\n",
      "epoch: 04, loss: -0.14321\n",
      "epoch: 05, loss: -0.14248\n",
      "epoch: 06, loss: -0.14579\n",
      "epoch: 07, loss: -0.14434\n",
      "epoch: 08, loss: -0.14681\n",
      "epoch: 09, loss: -0.14769\n",
      "torch.Size([525, 64])\n"
     ]
    },
    {
     "name": "stderr",
     "output_type": "stream",
     "text": [
      "\r",
      " 28%|███████████████████████████████████████████▉                                                                                                                   | 276/1000 [1:55:23<6:22:01, 31.66s/it]"
     ]
    },
    {
     "name": "stdout",
     "output_type": "stream",
     "text": [
      "eigenvalues shape torch.Size([5]) eigenvectors shape torch.Size([5, 525])\n",
      "276 /home/phdcs2/Hard_Disk/Datasets/Deep-Spectral-Segmentation/data/object-segmentation/ECSSD/features/dino_vits16/0277.pth\n",
      "dict_keys(['k', 'indices', 'file', 'id', 'model_name', 'patch_size', 'shape'])\n",
      "0277\n",
      "Starting Training\n",
      "epoch: 00, loss: -0.01457\n",
      "epoch: 01, loss: -0.03241\n",
      "epoch: 02, loss: -0.03462\n",
      "epoch: 03, loss: -0.03653\n",
      "epoch: 04, loss: -0.03634\n",
      "epoch: 05, loss: -0.03666\n",
      "epoch: 06, loss: -0.03704\n",
      "epoch: 07, loss: -0.03698\n",
      "epoch: 08, loss: -0.03719\n",
      "epoch: 09, loss: -0.03789\n",
      "torch.Size([400, 64])\n"
     ]
    },
    {
     "name": "stderr",
     "output_type": "stream",
     "text": [
      "\r",
      " 28%|████████████████████████████████████████████                                                                                                                   | 277/1000 [1:55:47<5:55:29, 29.50s/it]"
     ]
    },
    {
     "name": "stdout",
     "output_type": "stream",
     "text": [
      "eigenvalues shape torch.Size([5]) eigenvectors shape torch.Size([5, 400])\n",
      "277 /home/phdcs2/Hard_Disk/Datasets/Deep-Spectral-Segmentation/data/object-segmentation/ECSSD/features/dino_vits16/0278.pth\n",
      "dict_keys(['k', 'indices', 'file', 'id', 'model_name', 'patch_size', 'shape'])\n",
      "0278\n",
      "Starting Training\n",
      "epoch: 00, loss: -0.03725\n",
      "epoch: 01, loss: -0.06912\n",
      "epoch: 02, loss: -0.07023\n",
      "epoch: 03, loss: -0.07286\n",
      "epoch: 04, loss: -0.07456\n",
      "epoch: 05, loss: -0.07345\n",
      "epoch: 06, loss: -0.07325\n",
      "epoch: 07, loss: -0.07268\n",
      "epoch: 08, loss: -0.07455\n",
      "epoch: 09, loss: -0.07506\n",
      "torch.Size([550, 64])\n"
     ]
    },
    {
     "name": "stderr",
     "output_type": "stream",
     "text": [
      "\r",
      " 28%|████████████████████████████████████████████▏                                                                                                                  | 278/1000 [1:56:32<6:48:48, 33.97s/it]"
     ]
    },
    {
     "name": "stdout",
     "output_type": "stream",
     "text": [
      "eigenvalues shape torch.Size([5]) eigenvectors shape torch.Size([5, 550])\n",
      "278 /home/phdcs2/Hard_Disk/Datasets/Deep-Spectral-Segmentation/data/object-segmentation/ECSSD/features/dino_vits16/0279.pth\n",
      "dict_keys(['k', 'indices', 'file', 'id', 'model_name', 'patch_size', 'shape'])\n",
      "0279\n",
      "Starting Training\n",
      "epoch: 00, loss: -0.05074\n",
      "epoch: 01, loss: -0.07812\n",
      "epoch: 02, loss: -0.07985\n",
      "epoch: 03, loss: -0.07815\n",
      "epoch: 04, loss: -0.08118\n",
      "epoch: 05, loss: -0.08086\n",
      "epoch: 06, loss: -0.08421\n",
      "epoch: 07, loss: -0.08245\n",
      "epoch: 08, loss: -0.08271\n",
      "epoch: 09, loss: -0.08213\n",
      "torch.Size([450, 64])\n"
     ]
    },
    {
     "name": "stderr",
     "output_type": "stream",
     "text": [
      "\r",
      " 28%|████████████████████████████████████████████▎                                                                                                                  | 279/1000 [1:56:54<6:06:36, 30.51s/it]"
     ]
    },
    {
     "name": "stdout",
     "output_type": "stream",
     "text": [
      "eigenvalues shape torch.Size([5]) eigenvectors shape torch.Size([5, 450])\n",
      "279 /home/phdcs2/Hard_Disk/Datasets/Deep-Spectral-Segmentation/data/object-segmentation/ECSSD/features/dino_vits16/0280.pth\n",
      "dict_keys(['k', 'indices', 'file', 'id', 'model_name', 'patch_size', 'shape'])\n",
      "0280\n",
      "Starting Training\n",
      "epoch: 00, loss: -0.03990\n",
      "epoch: 01, loss: -0.05489\n",
      "epoch: 02, loss: -0.05621\n",
      "epoch: 03, loss: -0.05603\n",
      "epoch: 04, loss: -0.05642\n",
      "epoch: 05, loss: -0.05724\n",
      "epoch: 06, loss: -0.05754\n",
      "epoch: 07, loss: -0.05699\n",
      "epoch: 08, loss: -0.05713\n",
      "epoch: 09, loss: -0.05719\n",
      "torch.Size([625, 64])\n"
     ]
    },
    {
     "name": "stderr",
     "output_type": "stream",
     "text": [
      "\r",
      " 28%|████████████████████████████████████████████▌                                                                                                                  | 280/1000 [1:57:43<7:10:41, 35.89s/it]"
     ]
    },
    {
     "name": "stdout",
     "output_type": "stream",
     "text": [
      "eigenvalues shape torch.Size([5]) eigenvectors shape torch.Size([5, 625])\n",
      "280 /home/phdcs2/Hard_Disk/Datasets/Deep-Spectral-Segmentation/data/object-segmentation/ECSSD/features/dino_vits16/0281.pth\n",
      "dict_keys(['k', 'indices', 'file', 'id', 'model_name', 'patch_size', 'shape'])\n",
      "0281\n",
      "Starting Training\n",
      "epoch: 00, loss: -0.02749\n",
      "epoch: 01, loss: -0.04513\n",
      "epoch: 02, loss: -0.04852\n",
      "epoch: 03, loss: -0.04924\n",
      "epoch: 04, loss: -0.04943\n",
      "epoch: 05, loss: -0.05352\n",
      "epoch: 06, loss: -0.05162\n",
      "epoch: 07, loss: -0.05033\n",
      "epoch: 08, loss: -0.05269\n",
      "epoch: 09, loss: -0.05081\n",
      "torch.Size([450, 64])\n"
     ]
    },
    {
     "name": "stderr",
     "output_type": "stream",
     "text": [
      "\r",
      " 28%|████████████████████████████████████████████▋                                                                                                                  | 281/1000 [1:58:08<6:33:51, 32.87s/it]"
     ]
    },
    {
     "name": "stdout",
     "output_type": "stream",
     "text": [
      "eigenvalues shape torch.Size([5]) eigenvectors shape torch.Size([5, 450])\n",
      "281 /home/phdcs2/Hard_Disk/Datasets/Deep-Spectral-Segmentation/data/object-segmentation/ECSSD/features/dino_vits16/0282.pth\n",
      "dict_keys(['k', 'indices', 'file', 'id', 'model_name', 'patch_size', 'shape'])\n",
      "0282\n",
      "Starting Training\n",
      "epoch: 00, loss: -0.02673\n",
      "epoch: 01, loss: -0.04462\n",
      "epoch: 02, loss: -0.04656\n",
      "epoch: 03, loss: -0.04736\n",
      "epoch: 04, loss: -0.04723\n",
      "epoch: 05, loss: -0.04735\n",
      "epoch: 06, loss: -0.04764\n",
      "epoch: 07, loss: -0.04765\n",
      "epoch: 08, loss: -0.04801\n",
      "epoch: 09, loss: -0.04785\n",
      "torch.Size([400, 64])\n"
     ]
    },
    {
     "name": "stderr",
     "output_type": "stream",
     "text": [
      "\r",
      " 28%|████████████████████████████████████████████▊                                                                                                                  | 282/1000 [1:58:27<5:41:52, 28.57s/it]"
     ]
    },
    {
     "name": "stdout",
     "output_type": "stream",
     "text": [
      "eigenvalues shape torch.Size([5]) eigenvectors shape torch.Size([5, 400])\n",
      "282 /home/phdcs2/Hard_Disk/Datasets/Deep-Spectral-Segmentation/data/object-segmentation/ECSSD/features/dino_vits16/0283.pth\n",
      "dict_keys(['k', 'indices', 'file', 'id', 'model_name', 'patch_size', 'shape'])\n",
      "0283\n",
      "Starting Training\n",
      "epoch: 00, loss: -0.02852\n",
      "epoch: 01, loss: -0.05807\n",
      "epoch: 02, loss: -0.06040\n",
      "epoch: 03, loss: -0.06089\n",
      "epoch: 04, loss: -0.06103\n",
      "epoch: 05, loss: -0.06159\n",
      "epoch: 06, loss: -0.06170\n",
      "epoch: 07, loss: -0.06180\n",
      "epoch: 08, loss: -0.06179\n",
      "epoch: 09, loss: -0.06197\n",
      "torch.Size([400, 64])\n"
     ]
    },
    {
     "name": "stderr",
     "output_type": "stream",
     "text": [
      "\r",
      " 28%|████████████████████████████████████████████▉                                                                                                                  | 283/1000 [1:58:49<5:17:25, 26.56s/it]"
     ]
    },
    {
     "name": "stdout",
     "output_type": "stream",
     "text": [
      "eigenvalues shape torch.Size([5]) eigenvectors shape torch.Size([5, 400])\n",
      "283 /home/phdcs2/Hard_Disk/Datasets/Deep-Spectral-Segmentation/data/object-segmentation/ECSSD/features/dino_vits16/0284.pth\n",
      "dict_keys(['k', 'indices', 'file', 'id', 'model_name', 'patch_size', 'shape'])\n",
      "0284\n",
      "Starting Training\n",
      "epoch: 00, loss: -0.01328\n",
      "epoch: 01, loss: -0.03599\n",
      "epoch: 02, loss: -0.03992\n",
      "epoch: 03, loss: -0.04068\n",
      "epoch: 04, loss: -0.04125\n",
      "epoch: 05, loss: -0.04166\n",
      "epoch: 06, loss: -0.04175\n",
      "epoch: 07, loss: -0.04204\n",
      "epoch: 08, loss: -0.04214\n",
      "epoch: 09, loss: -0.04213\n",
      "torch.Size([400, 64])\n"
     ]
    },
    {
     "name": "stderr",
     "output_type": "stream",
     "text": [
      "\r",
      " 28%|█████████████████████████████████████████████▏                                                                                                                 | 284/1000 [1:59:11<5:03:00, 25.39s/it]"
     ]
    },
    {
     "name": "stdout",
     "output_type": "stream",
     "text": [
      "eigenvalues shape torch.Size([5]) eigenvectors shape torch.Size([5, 400])\n",
      "284 /home/phdcs2/Hard_Disk/Datasets/Deep-Spectral-Segmentation/data/object-segmentation/ECSSD/features/dino_vits16/0285.pth\n",
      "dict_keys(['k', 'indices', 'file', 'id', 'model_name', 'patch_size', 'shape'])\n",
      "0285\n",
      "Starting Training\n",
      "epoch: 00, loss: -0.01752\n",
      "epoch: 01, loss: -0.03714\n",
      "epoch: 02, loss: -0.03992\n",
      "epoch: 03, loss: -0.04078\n",
      "epoch: 04, loss: -0.04099\n",
      "epoch: 05, loss: -0.04131\n",
      "epoch: 06, loss: -0.04151\n",
      "epoch: 07, loss: -0.04171\n",
      "epoch: 08, loss: -0.04194\n",
      "epoch: 09, loss: -0.04207\n",
      "torch.Size([400, 64])\n"
     ]
    },
    {
     "name": "stderr",
     "output_type": "stream",
     "text": [
      "\r",
      " 28%|█████████████████████████████████████████████▎                                                                                                                 | 285/1000 [1:59:31<4:40:56, 23.58s/it]"
     ]
    },
    {
     "name": "stdout",
     "output_type": "stream",
     "text": [
      "eigenvalues shape torch.Size([5]) eigenvectors shape torch.Size([5, 400])\n",
      "285 /home/phdcs2/Hard_Disk/Datasets/Deep-Spectral-Segmentation/data/object-segmentation/ECSSD/features/dino_vits16/0286.pth\n",
      "dict_keys(['k', 'indices', 'file', 'id', 'model_name', 'patch_size', 'shape'])\n",
      "0286\n",
      "Starting Training\n",
      "epoch: 00, loss: -0.04795\n",
      "epoch: 01, loss: -0.07604\n",
      "epoch: 02, loss: -0.07726\n",
      "epoch: 03, loss: -0.07760\n",
      "epoch: 04, loss: -0.07754\n",
      "epoch: 05, loss: -0.07781\n",
      "epoch: 06, loss: -0.07786\n",
      "epoch: 07, loss: -0.07818\n",
      "epoch: 08, loss: -0.07819\n",
      "epoch: 09, loss: -0.07826\n",
      "torch.Size([450, 64])\n"
     ]
    },
    {
     "name": "stderr",
     "output_type": "stream",
     "text": [
      "\r",
      " 29%|█████████████████████████████████████████████▍                                                                                                                 | 286/1000 [1:59:54<4:39:46, 23.51s/it]"
     ]
    },
    {
     "name": "stdout",
     "output_type": "stream",
     "text": [
      "eigenvalues shape torch.Size([5]) eigenvectors shape torch.Size([5, 450])\n",
      "286 /home/phdcs2/Hard_Disk/Datasets/Deep-Spectral-Segmentation/data/object-segmentation/ECSSD/features/dino_vits16/0287.pth\n",
      "dict_keys(['k', 'indices', 'file', 'id', 'model_name', 'patch_size', 'shape'])\n",
      "0287\n",
      "Starting Training\n",
      "epoch: 00, loss: -0.02587\n",
      "epoch: 01, loss: -0.05792\n",
      "epoch: 02, loss: -0.06574\n",
      "epoch: 03, loss: -0.06715\n",
      "epoch: 04, loss: -0.07043\n",
      "epoch: 05, loss: -0.07027\n",
      "epoch: 06, loss: -0.06930\n",
      "epoch: 07, loss: -0.07146\n",
      "epoch: 08, loss: -0.07114\n",
      "epoch: 09, loss: -0.06922\n",
      "torch.Size([375, 64])\n"
     ]
    },
    {
     "name": "stderr",
     "output_type": "stream",
     "text": [
      "\r",
      " 29%|█████████████████████████████████████████████▋                                                                                                                 | 287/1000 [2:00:16<4:34:40, 23.11s/it]"
     ]
    },
    {
     "name": "stdout",
     "output_type": "stream",
     "text": [
      "eigenvalues shape torch.Size([5]) eigenvectors shape torch.Size([5, 375])\n",
      "287 /home/phdcs2/Hard_Disk/Datasets/Deep-Spectral-Segmentation/data/object-segmentation/ECSSD/features/dino_vits16/0288.pth\n",
      "dict_keys(['k', 'indices', 'file', 'id', 'model_name', 'patch_size', 'shape'])\n",
      "0288\n",
      "Starting Training\n",
      "epoch: 00, loss: -0.10389\n",
      "epoch: 01, loss: -0.14504\n",
      "epoch: 02, loss: -0.15089\n",
      "epoch: 03, loss: -0.15112\n",
      "epoch: 04, loss: -0.15118\n",
      "epoch: 05, loss: -0.15258\n",
      "epoch: 06, loss: -0.15510\n",
      "epoch: 07, loss: -0.15826\n",
      "epoch: 08, loss: -0.15498\n",
      "epoch: 09, loss: -0.16072\n",
      "torch.Size([450, 64])\n"
     ]
    },
    {
     "name": "stderr",
     "output_type": "stream",
     "text": [
      "\r",
      " 29%|█████████████████████████████████████████████▊                                                                                                                 | 288/1000 [2:00:42<4:43:53, 23.92s/it]"
     ]
    },
    {
     "name": "stdout",
     "output_type": "stream",
     "text": [
      "eigenvalues shape torch.Size([5]) eigenvectors shape torch.Size([5, 450])\n",
      "288 /home/phdcs2/Hard_Disk/Datasets/Deep-Spectral-Segmentation/data/object-segmentation/ECSSD/features/dino_vits16/0289.pth\n",
      "dict_keys(['k', 'indices', 'file', 'id', 'model_name', 'patch_size', 'shape'])\n",
      "0289\n",
      "Starting Training\n",
      "epoch: 00, loss: -0.07323\n",
      "epoch: 01, loss: -0.08987\n",
      "epoch: 02, loss: -0.08984\n",
      "epoch: 03, loss: -0.09023\n",
      "epoch: 04, loss: -0.09071\n",
      "epoch: 05, loss: -0.09103\n",
      "epoch: 06, loss: -0.08978\n",
      "epoch: 07, loss: -0.09014\n",
      "epoch: 08, loss: -0.09113\n",
      "epoch: 09, loss: -0.09098\n",
      "torch.Size([450, 64])\n"
     ]
    },
    {
     "name": "stderr",
     "output_type": "stream",
     "text": [
      "\r",
      " 29%|█████████████████████████████████████████████▉                                                                                                                 | 289/1000 [2:01:10<4:57:50, 25.13s/it]"
     ]
    },
    {
     "name": "stdout",
     "output_type": "stream",
     "text": [
      "eigenvalues shape torch.Size([5]) eigenvectors shape torch.Size([5, 450])\n",
      "289 /home/phdcs2/Hard_Disk/Datasets/Deep-Spectral-Segmentation/data/object-segmentation/ECSSD/features/dino_vits16/0290.pth\n",
      "dict_keys(['k', 'indices', 'file', 'id', 'model_name', 'patch_size', 'shape'])\n",
      "0290\n",
      "Starting Training\n",
      "epoch: 00, loss: -0.03610\n",
      "epoch: 01, loss: -0.07108\n",
      "epoch: 02, loss: -0.07479\n",
      "epoch: 03, loss: -0.07455\n",
      "epoch: 04, loss: -0.07920\n",
      "epoch: 05, loss: -0.07551\n",
      "epoch: 06, loss: -0.07860\n",
      "epoch: 07, loss: -0.07873\n",
      "epoch: 08, loss: -0.07988\n",
      "epoch: 09, loss: -0.07812\n",
      "torch.Size([375, 64])\n"
     ]
    },
    {
     "name": "stderr",
     "output_type": "stream",
     "text": [
      "\r",
      " 29%|██████████████████████████████████████████████                                                                                                                 | 290/1000 [2:01:34<4:53:26, 24.80s/it]"
     ]
    },
    {
     "name": "stdout",
     "output_type": "stream",
     "text": [
      "eigenvalues shape torch.Size([5]) eigenvectors shape torch.Size([5, 375])\n",
      "290 /home/phdcs2/Hard_Disk/Datasets/Deep-Spectral-Segmentation/data/object-segmentation/ECSSD/features/dino_vits16/0291.pth\n",
      "dict_keys(['k', 'indices', 'file', 'id', 'model_name', 'patch_size', 'shape'])\n",
      "0291\n",
      "Starting Training\n",
      "epoch: 00, loss: -0.04322\n",
      "epoch: 01, loss: -0.07308\n",
      "epoch: 02, loss: -0.07408\n",
      "epoch: 03, loss: -0.07421\n",
      "epoch: 04, loss: -0.07435\n",
      "epoch: 05, loss: -0.07424\n",
      "epoch: 06, loss: -0.07544\n",
      "epoch: 07, loss: -0.07582\n",
      "epoch: 08, loss: -0.07423\n",
      "epoch: 09, loss: -0.07702\n",
      "torch.Size([475, 64])\n"
     ]
    },
    {
     "name": "stderr",
     "output_type": "stream",
     "text": [
      "\r",
      " 29%|██████████████████████████████████████████████▎                                                                                                                | 291/1000 [2:02:01<5:01:44, 25.53s/it]"
     ]
    },
    {
     "name": "stdout",
     "output_type": "stream",
     "text": [
      "eigenvalues shape torch.Size([5]) eigenvectors shape torch.Size([5, 475])\n",
      "291 /home/phdcs2/Hard_Disk/Datasets/Deep-Spectral-Segmentation/data/object-segmentation/ECSSD/features/dino_vits16/0292.pth\n",
      "dict_keys(['k', 'indices', 'file', 'id', 'model_name', 'patch_size', 'shape'])\n",
      "0292\n",
      "Starting Training\n",
      "epoch: 00, loss: -0.04189\n",
      "epoch: 01, loss: -0.06712\n",
      "epoch: 02, loss: -0.06850\n",
      "epoch: 03, loss: -0.06881\n",
      "epoch: 04, loss: -0.06919\n",
      "epoch: 05, loss: -0.06940\n",
      "epoch: 06, loss: -0.06964\n",
      "epoch: 07, loss: -0.06967\n",
      "epoch: 08, loss: -0.06972\n",
      "epoch: 09, loss: -0.06984\n",
      "torch.Size([400, 64])\n"
     ]
    },
    {
     "name": "stderr",
     "output_type": "stream",
     "text": [
      "\r",
      " 29%|██████████████████████████████████████████████▍                                                                                                                | 292/1000 [2:02:23<4:46:45, 24.30s/it]"
     ]
    },
    {
     "name": "stdout",
     "output_type": "stream",
     "text": [
      "eigenvalues shape torch.Size([5]) eigenvectors shape torch.Size([5, 400])\n",
      "292 /home/phdcs2/Hard_Disk/Datasets/Deep-Spectral-Segmentation/data/object-segmentation/ECSSD/features/dino_vits16/0293.pth\n",
      "dict_keys(['k', 'indices', 'file', 'id', 'model_name', 'patch_size', 'shape'])\n",
      "0293\n",
      "Starting Training\n",
      "epoch: 00, loss: -0.05433\n",
      "epoch: 01, loss: -0.07095\n",
      "epoch: 02, loss: -0.07203\n",
      "epoch: 03, loss: -0.07265\n",
      "epoch: 04, loss: -0.07277\n",
      "epoch: 05, loss: -0.07259\n",
      "epoch: 06, loss: -0.07313\n",
      "epoch: 07, loss: -0.07302\n",
      "epoch: 08, loss: -0.07293\n",
      "epoch: 09, loss: -0.07321\n",
      "torch.Size([425, 64])\n"
     ]
    },
    {
     "name": "stderr",
     "output_type": "stream",
     "text": [
      "\r",
      " 29%|██████████████████████████████████████████████▌                                                                                                                | 293/1000 [2:02:49<4:52:19, 24.81s/it]"
     ]
    },
    {
     "name": "stdout",
     "output_type": "stream",
     "text": [
      "eigenvalues shape torch.Size([5]) eigenvectors shape torch.Size([5, 425])\n",
      "293 /home/phdcs2/Hard_Disk/Datasets/Deep-Spectral-Segmentation/data/object-segmentation/ECSSD/features/dino_vits16/0294.pth\n",
      "dict_keys(['k', 'indices', 'file', 'id', 'model_name', 'patch_size', 'shape'])\n",
      "0294\n",
      "Starting Training\n",
      "epoch: 00, loss: -0.04350\n",
      "epoch: 01, loss: -0.07697\n",
      "epoch: 02, loss: -0.08255\n",
      "epoch: 03, loss: -0.08385\n",
      "epoch: 04, loss: -0.08488\n",
      "epoch: 05, loss: -0.08229\n",
      "epoch: 06, loss: -0.08434\n",
      "epoch: 07, loss: -0.08323\n",
      "epoch: 08, loss: -0.08582\n",
      "epoch: 09, loss: -0.08555\n",
      "torch.Size([425, 64])\n"
     ]
    },
    {
     "name": "stderr",
     "output_type": "stream",
     "text": [
      "\r",
      " 29%|██████████████████████████████████████████████▋                                                                                                                | 294/1000 [2:03:11<4:44:01, 24.14s/it]"
     ]
    },
    {
     "name": "stdout",
     "output_type": "stream",
     "text": [
      "eigenvalues shape torch.Size([5]) eigenvectors shape torch.Size([5, 425])\n",
      "294 /home/phdcs2/Hard_Disk/Datasets/Deep-Spectral-Segmentation/data/object-segmentation/ECSSD/features/dino_vits16/0295.pth\n",
      "dict_keys(['k', 'indices', 'file', 'id', 'model_name', 'patch_size', 'shape'])\n",
      "0295\n",
      "Starting Training\n",
      "epoch: 00, loss: -0.04209\n",
      "epoch: 01, loss: -0.06476\n",
      "epoch: 02, loss: -0.06699\n",
      "epoch: 03, loss: -0.06741\n",
      "epoch: 04, loss: -0.06719\n",
      "epoch: 05, loss: -0.06635\n",
      "epoch: 06, loss: -0.06694\n",
      "epoch: 07, loss: -0.06835\n",
      "epoch: 08, loss: -0.06836\n",
      "epoch: 09, loss: -0.06720\n",
      "torch.Size([425, 64])\n"
     ]
    },
    {
     "name": "stderr",
     "output_type": "stream",
     "text": [
      "\r",
      " 30%|██████████████████████████████████████████████▉                                                                                                                | 295/1000 [2:03:35<4:43:33, 24.13s/it]"
     ]
    },
    {
     "name": "stdout",
     "output_type": "stream",
     "text": [
      "eigenvalues shape torch.Size([5]) eigenvectors shape torch.Size([5, 425])\n",
      "295 /home/phdcs2/Hard_Disk/Datasets/Deep-Spectral-Segmentation/data/object-segmentation/ECSSD/features/dino_vits16/0296.pth\n",
      "dict_keys(['k', 'indices', 'file', 'id', 'model_name', 'patch_size', 'shape'])\n",
      "0296\n",
      "Starting Training\n",
      "epoch: 00, loss: -0.02669\n",
      "epoch: 01, loss: -0.04120\n",
      "epoch: 02, loss: -0.04254\n",
      "epoch: 03, loss: -0.04348\n",
      "epoch: 04, loss: -0.04386\n",
      "epoch: 05, loss: -0.04371\n",
      "epoch: 06, loss: -0.04428\n",
      "epoch: 07, loss: -0.04470\n",
      "epoch: 08, loss: -0.04449\n",
      "epoch: 09, loss: -0.04569\n",
      "torch.Size([425, 64])\n"
     ]
    },
    {
     "name": "stderr",
     "output_type": "stream",
     "text": [
      "\r",
      " 30%|███████████████████████████████████████████████                                                                                                                | 296/1000 [2:03:56<4:30:48, 23.08s/it]"
     ]
    },
    {
     "name": "stdout",
     "output_type": "stream",
     "text": [
      "eigenvalues shape torch.Size([5]) eigenvectors shape torch.Size([5, 425])\n",
      "296 /home/phdcs2/Hard_Disk/Datasets/Deep-Spectral-Segmentation/data/object-segmentation/ECSSD/features/dino_vits16/0297.pth\n",
      "dict_keys(['k', 'indices', 'file', 'id', 'model_name', 'patch_size', 'shape'])\n",
      "0297\n",
      "Starting Training\n",
      "epoch: 00, loss: -0.02480\n",
      "epoch: 01, loss: -0.04687\n",
      "epoch: 02, loss: -0.04979\n",
      "epoch: 03, loss: -0.05210\n",
      "epoch: 04, loss: -0.05366\n",
      "epoch: 05, loss: -0.05366\n",
      "epoch: 06, loss: -0.05595\n",
      "epoch: 07, loss: -0.05584\n",
      "epoch: 08, loss: -0.05666\n",
      "epoch: 09, loss: -0.05436\n",
      "torch.Size([475, 64])\n"
     ]
    },
    {
     "name": "stderr",
     "output_type": "stream",
     "text": [
      "\r",
      " 30%|███████████████████████████████████████████████▏                                                                                                               | 297/1000 [2:04:21<4:35:30, 23.51s/it]"
     ]
    },
    {
     "name": "stdout",
     "output_type": "stream",
     "text": [
      "eigenvalues shape torch.Size([5]) eigenvectors shape torch.Size([5, 475])\n",
      "297 /home/phdcs2/Hard_Disk/Datasets/Deep-Spectral-Segmentation/data/object-segmentation/ECSSD/features/dino_vits16/0298.pth\n",
      "dict_keys(['k', 'indices', 'file', 'id', 'model_name', 'patch_size', 'shape'])\n",
      "0298\n",
      "Starting Training\n",
      "epoch: 00, loss: -0.05902\n",
      "epoch: 01, loss: -0.08502\n",
      "epoch: 02, loss: -0.08575\n",
      "epoch: 03, loss: -0.08567\n",
      "epoch: 04, loss: -0.08583\n",
      "epoch: 05, loss: -0.08605\n",
      "epoch: 06, loss: -0.08618\n",
      "epoch: 07, loss: -0.08627\n",
      "epoch: 08, loss: -0.08635\n",
      "epoch: 09, loss: -0.08647\n",
      "torch.Size([400, 64])\n"
     ]
    },
    {
     "name": "stderr",
     "output_type": "stream",
     "text": [
      "\r",
      " 30%|███████████████████████████████████████████████▍                                                                                                               | 298/1000 [2:04:43<4:29:45, 23.06s/it]"
     ]
    },
    {
     "name": "stdout",
     "output_type": "stream",
     "text": [
      "eigenvalues shape torch.Size([5]) eigenvectors shape torch.Size([5, 400])\n",
      "298 /home/phdcs2/Hard_Disk/Datasets/Deep-Spectral-Segmentation/data/object-segmentation/ECSSD/features/dino_vits16/0299.pth\n",
      "dict_keys(['k', 'indices', 'file', 'id', 'model_name', 'patch_size', 'shape'])\n",
      "0299\n",
      "Starting Training\n",
      "epoch: 00, loss: -0.01922\n",
      "epoch: 01, loss: -0.03602\n",
      "epoch: 02, loss: -0.03891\n",
      "epoch: 03, loss: -0.03924\n",
      "epoch: 04, loss: -0.03948\n",
      "epoch: 05, loss: -0.03973\n",
      "epoch: 06, loss: -0.04000\n",
      "epoch: 07, loss: -0.04011\n",
      "epoch: 08, loss: -0.04016\n",
      "epoch: 09, loss: -0.04034\n",
      "torch.Size([450, 64])\n"
     ]
    },
    {
     "name": "stderr",
     "output_type": "stream",
     "text": [
      "\r",
      " 30%|███████████████████████████████████████████████▌                                                                                                               | 299/1000 [2:05:09<4:40:11, 23.98s/it]"
     ]
    },
    {
     "name": "stdout",
     "output_type": "stream",
     "text": [
      "eigenvalues shape torch.Size([5]) eigenvectors shape torch.Size([5, 450])\n",
      "299 /home/phdcs2/Hard_Disk/Datasets/Deep-Spectral-Segmentation/data/object-segmentation/ECSSD/features/dino_vits16/0300.pth\n",
      "dict_keys(['k', 'indices', 'file', 'id', 'model_name', 'patch_size', 'shape'])\n",
      "0300\n",
      "Starting Training\n",
      "epoch: 00, loss: -0.05435\n",
      "epoch: 01, loss: -0.09152\n",
      "epoch: 02, loss: -0.09456\n",
      "epoch: 03, loss: -0.09545\n",
      "epoch: 04, loss: -0.10045\n",
      "epoch: 05, loss: -0.09949\n",
      "epoch: 06, loss: -0.09800\n",
      "epoch: 07, loss: -0.09942\n",
      "epoch: 08, loss: -0.09929\n",
      "epoch: 09, loss: -0.09822\n",
      "torch.Size([475, 64])\n"
     ]
    },
    {
     "name": "stderr",
     "output_type": "stream",
     "text": [
      "\r",
      " 30%|███████████████████████████████████████████████▋                                                                                                               | 300/1000 [2:05:35<4:46:36, 24.57s/it]"
     ]
    },
    {
     "name": "stdout",
     "output_type": "stream",
     "text": [
      "eigenvalues shape torch.Size([5]) eigenvectors shape torch.Size([5, 475])\n",
      "300 /home/phdcs2/Hard_Disk/Datasets/Deep-Spectral-Segmentation/data/object-segmentation/ECSSD/features/dino_vits16/0301.pth\n",
      "dict_keys(['k', 'indices', 'file', 'id', 'model_name', 'patch_size', 'shape'])\n",
      "0301\n",
      "Starting Training\n",
      "epoch: 00, loss: -0.06562\n",
      "epoch: 01, loss: -0.09111\n",
      "epoch: 02, loss: -0.09542\n",
      "epoch: 03, loss: -0.09700\n",
      "epoch: 04, loss: -0.09727\n",
      "epoch: 05, loss: -0.09930\n",
      "epoch: 06, loss: -0.09877\n",
      "epoch: 07, loss: -0.09708\n",
      "epoch: 08, loss: -0.09902\n",
      "epoch: 09, loss: -0.09873\n",
      "torch.Size([400, 64])\n"
     ]
    },
    {
     "name": "stderr",
     "output_type": "stream",
     "text": [
      "\r",
      " 30%|███████████████████████████████████████████████▊                                                                                                               | 301/1000 [2:06:01<4:50:34, 24.94s/it]"
     ]
    },
    {
     "name": "stdout",
     "output_type": "stream",
     "text": [
      "eigenvalues shape torch.Size([5]) eigenvectors shape torch.Size([5, 400])\n",
      "301 /home/phdcs2/Hard_Disk/Datasets/Deep-Spectral-Segmentation/data/object-segmentation/ECSSD/features/dino_vits16/0302.pth\n",
      "dict_keys(['k', 'indices', 'file', 'id', 'model_name', 'patch_size', 'shape'])\n",
      "0302\n",
      "Starting Training\n",
      "epoch: 00, loss: -0.05394\n",
      "epoch: 01, loss: -0.08418\n",
      "epoch: 02, loss: -0.08761\n",
      "epoch: 03, loss: -0.08932\n",
      "epoch: 04, loss: -0.08865\n",
      "epoch: 05, loss: -0.09118\n",
      "epoch: 06, loss: -0.09238\n",
      "epoch: 07, loss: -0.09028\n",
      "epoch: 08, loss: -0.09374\n",
      "epoch: 09, loss: -0.09169\n",
      "torch.Size([450, 64])\n"
     ]
    },
    {
     "name": "stderr",
     "output_type": "stream",
     "text": [
      "\r",
      " 30%|████████████████████████████████████████████████                                                                                                               | 302/1000 [2:06:28<4:58:20, 25.65s/it]"
     ]
    },
    {
     "name": "stdout",
     "output_type": "stream",
     "text": [
      "eigenvalues shape torch.Size([5]) eigenvectors shape torch.Size([5, 450])\n",
      "302 /home/phdcs2/Hard_Disk/Datasets/Deep-Spectral-Segmentation/data/object-segmentation/ECSSD/features/dino_vits16/0303.pth\n",
      "dict_keys(['k', 'indices', 'file', 'id', 'model_name', 'patch_size', 'shape'])\n",
      "0303\n",
      "Starting Training\n",
      "epoch: 00, loss: -0.00416\n",
      "epoch: 01, loss: -0.03781\n",
      "epoch: 02, loss: -0.04123\n",
      "epoch: 03, loss: -0.04255\n",
      "epoch: 04, loss: -0.04322\n",
      "epoch: 05, loss: -0.04723\n",
      "epoch: 06, loss: -0.04470\n",
      "epoch: 07, loss: -0.04457\n",
      "epoch: 08, loss: -0.04482\n",
      "epoch: 09, loss: -0.04595\n",
      "torch.Size([450, 64])\n"
     ]
    },
    {
     "name": "stderr",
     "output_type": "stream",
     "text": [
      "\r",
      " 30%|████████████████████████████████████████████████▏                                                                                                              | 303/1000 [2:06:51<4:48:30, 24.84s/it]"
     ]
    },
    {
     "name": "stdout",
     "output_type": "stream",
     "text": [
      "eigenvalues shape torch.Size([5]) eigenvectors shape torch.Size([5, 450])\n",
      "303 /home/phdcs2/Hard_Disk/Datasets/Deep-Spectral-Segmentation/data/object-segmentation/ECSSD/features/dino_vits16/0304.pth\n",
      "dict_keys(['k', 'indices', 'file', 'id', 'model_name', 'patch_size', 'shape'])\n",
      "0304\n",
      "Starting Training\n",
      "epoch: 00, loss: -0.00881\n",
      "epoch: 01, loss: -0.02244\n",
      "epoch: 02, loss: -0.02576\n",
      "epoch: 03, loss: -0.02746\n",
      "epoch: 04, loss: -0.02786\n",
      "epoch: 05, loss: -0.02822\n",
      "epoch: 06, loss: -0.02842\n",
      "epoch: 07, loss: -0.02870\n",
      "epoch: 08, loss: -0.02881\n",
      "epoch: 09, loss: -0.02899\n",
      "torch.Size([400, 64])\n"
     ]
    },
    {
     "name": "stderr",
     "output_type": "stream",
     "text": [
      "\r",
      " 30%|████████████████████████████████████████████████▎                                                                                                              | 304/1000 [2:07:14<4:44:04, 24.49s/it]"
     ]
    },
    {
     "name": "stdout",
     "output_type": "stream",
     "text": [
      "eigenvalues shape torch.Size([5]) eigenvectors shape torch.Size([5, 400])\n",
      "304 /home/phdcs2/Hard_Disk/Datasets/Deep-Spectral-Segmentation/data/object-segmentation/ECSSD/features/dino_vits16/0305.pth\n",
      "dict_keys(['k', 'indices', 'file', 'id', 'model_name', 'patch_size', 'shape'])\n",
      "0305\n",
      "Starting Training\n",
      "epoch: 00, loss: -0.00871\n",
      "epoch: 01, loss: -0.03643\n",
      "epoch: 02, loss: -0.04492\n",
      "epoch: 03, loss: -0.04827\n",
      "epoch: 04, loss: -0.05035\n",
      "epoch: 05, loss: -0.04813\n",
      "epoch: 06, loss: -0.05165\n",
      "epoch: 07, loss: -0.05223\n",
      "epoch: 08, loss: -0.05166\n",
      "epoch: 09, loss: -0.05282\n",
      "torch.Size([400, 64])\n"
     ]
    },
    {
     "name": "stderr",
     "output_type": "stream",
     "text": [
      "\r",
      " 30%|████████████████████████████████████████████████▍                                                                                                              | 305/1000 [2:07:43<4:56:53, 25.63s/it]"
     ]
    },
    {
     "name": "stdout",
     "output_type": "stream",
     "text": [
      "eigenvalues shape torch.Size([5]) eigenvectors shape torch.Size([5, 400])\n",
      "305 /home/phdcs2/Hard_Disk/Datasets/Deep-Spectral-Segmentation/data/object-segmentation/ECSSD/features/dino_vits16/0306.pth\n",
      "dict_keys(['k', 'indices', 'file', 'id', 'model_name', 'patch_size', 'shape'])\n",
      "0306\n",
      "Starting Training\n",
      "epoch: 00, loss: -0.02347\n",
      "epoch: 01, loss: -0.04054\n",
      "epoch: 02, loss: -0.04303\n",
      "epoch: 03, loss: -0.04437\n",
      "epoch: 04, loss: -0.04449\n",
      "epoch: 05, loss: -0.04491\n",
      "epoch: 06, loss: -0.04489\n",
      "epoch: 07, loss: -0.04552\n",
      "epoch: 08, loss: -0.04547\n",
      "epoch: 09, loss: -0.04593\n",
      "torch.Size([400, 64])\n"
     ]
    },
    {
     "name": "stderr",
     "output_type": "stream",
     "text": [
      "\r",
      " 31%|████████████████████████████████████████████████▋                                                                                                              | 306/1000 [2:08:10<5:00:51, 26.01s/it]"
     ]
    },
    {
     "name": "stdout",
     "output_type": "stream",
     "text": [
      "eigenvalues shape torch.Size([5]) eigenvectors shape torch.Size([5, 400])\n",
      "306 /home/phdcs2/Hard_Disk/Datasets/Deep-Spectral-Segmentation/data/object-segmentation/ECSSD/features/dino_vits16/0307.pth\n",
      "dict_keys(['k', 'indices', 'file', 'id', 'model_name', 'patch_size', 'shape'])\n",
      "0307\n",
      "Starting Training\n",
      "epoch: 00, loss: -0.02332\n",
      "epoch: 01, loss: -0.04963\n",
      "epoch: 02, loss: -0.05155\n",
      "epoch: 03, loss: -0.05479\n",
      "epoch: 04, loss: -0.05647\n",
      "epoch: 05, loss: -0.05456\n",
      "epoch: 06, loss: -0.05792\n",
      "epoch: 07, loss: -0.05672\n",
      "epoch: 08, loss: -0.05489\n",
      "epoch: 09, loss: -0.05780\n",
      "torch.Size([450, 64])\n"
     ]
    },
    {
     "name": "stderr",
     "output_type": "stream",
     "text": [
      "\r",
      " 31%|████████████████████████████████████████████████▊                                                                                                              | 307/1000 [2:08:41<5:17:27, 27.49s/it]"
     ]
    },
    {
     "name": "stdout",
     "output_type": "stream",
     "text": [
      "eigenvalues shape torch.Size([5]) eigenvectors shape torch.Size([5, 450])\n",
      "307 /home/phdcs2/Hard_Disk/Datasets/Deep-Spectral-Segmentation/data/object-segmentation/ECSSD/features/dino_vits16/0308.pth\n",
      "dict_keys(['k', 'indices', 'file', 'id', 'model_name', 'patch_size', 'shape'])\n",
      "0308\n",
      "Starting Training\n",
      "epoch: 00, loss: -0.02794\n",
      "epoch: 01, loss: -0.05127\n",
      "epoch: 02, loss: -0.05308\n",
      "epoch: 03, loss: -0.05335\n",
      "epoch: 04, loss: -0.05370\n",
      "epoch: 05, loss: -0.05395\n",
      "epoch: 06, loss: -0.05411\n",
      "epoch: 07, loss: -0.05431\n",
      "epoch: 08, loss: -0.05435\n",
      "epoch: 09, loss: -0.05456\n",
      "torch.Size([450, 64])\n"
     ]
    },
    {
     "name": "stderr",
     "output_type": "stream",
     "text": [
      "\r",
      " 31%|████████████████████████████████████████████████▉                                                                                                              | 308/1000 [2:09:08<5:15:36, 27.37s/it]"
     ]
    },
    {
     "name": "stdout",
     "output_type": "stream",
     "text": [
      "eigenvalues shape torch.Size([5]) eigenvectors shape torch.Size([5, 450])\n",
      "308 /home/phdcs2/Hard_Disk/Datasets/Deep-Spectral-Segmentation/data/object-segmentation/ECSSD/features/dino_vits16/0309.pth\n",
      "dict_keys(['k', 'indices', 'file', 'id', 'model_name', 'patch_size', 'shape'])\n",
      "0309\n",
      "Starting Training\n",
      "epoch: 00, loss: -0.01239\n",
      "epoch: 01, loss: -0.03242\n",
      "epoch: 02, loss: -0.03806\n",
      "epoch: 03, loss: -0.03975\n",
      "epoch: 04, loss: -0.04098\n",
      "epoch: 05, loss: -0.04248\n",
      "epoch: 06, loss: -0.04232\n",
      "epoch: 07, loss: -0.04217\n",
      "epoch: 08, loss: -0.04358\n",
      "epoch: 09, loss: -0.04395\n",
      "torch.Size([400, 64])\n"
     ]
    },
    {
     "name": "stderr",
     "output_type": "stream",
     "text": [
      "\r",
      " 31%|█████████████████████████████████████████████████▏                                                                                                             | 309/1000 [2:09:31<5:01:53, 26.21s/it]"
     ]
    },
    {
     "name": "stdout",
     "output_type": "stream",
     "text": [
      "eigenvalues shape torch.Size([5]) eigenvectors shape torch.Size([5, 400])\n",
      "309 /home/phdcs2/Hard_Disk/Datasets/Deep-Spectral-Segmentation/data/object-segmentation/ECSSD/features/dino_vits16/0310.pth\n",
      "dict_keys(['k', 'indices', 'file', 'id', 'model_name', 'patch_size', 'shape'])\n",
      "0310\n",
      "Starting Training\n",
      "epoch: 00, loss: -0.01591\n",
      "epoch: 01, loss: -0.03025\n",
      "epoch: 02, loss: -0.03390\n",
      "epoch: 03, loss: -0.03352\n",
      "epoch: 04, loss: -0.03437\n",
      "epoch: 05, loss: -0.03462\n",
      "epoch: 06, loss: -0.03515\n",
      "epoch: 07, loss: -0.03480\n",
      "epoch: 08, loss: -0.03481\n",
      "epoch: 09, loss: -0.03489\n",
      "torch.Size([450, 64])\n"
     ]
    },
    {
     "name": "stderr",
     "output_type": "stream",
     "text": [
      "\r",
      " 31%|█████████████████████████████████████████████████▎                                                                                                             | 310/1000 [2:09:57<5:01:20, 26.20s/it]"
     ]
    },
    {
     "name": "stdout",
     "output_type": "stream",
     "text": [
      "eigenvalues shape torch.Size([5]) eigenvectors shape torch.Size([5, 450])\n",
      "310 /home/phdcs2/Hard_Disk/Datasets/Deep-Spectral-Segmentation/data/object-segmentation/ECSSD/features/dino_vits16/0311.pth\n",
      "dict_keys(['k', 'indices', 'file', 'id', 'model_name', 'patch_size', 'shape'])\n",
      "0311\n",
      "Starting Training\n",
      "epoch: 00, loss: -0.01314\n",
      "epoch: 01, loss: -0.03746\n",
      "epoch: 02, loss: -0.04132\n",
      "epoch: 03, loss: -0.04224\n",
      "epoch: 04, loss: -0.04269\n",
      "epoch: 05, loss: -0.04302\n",
      "epoch: 06, loss: -0.04310\n",
      "epoch: 07, loss: -0.04326\n",
      "epoch: 08, loss: -0.04346\n",
      "epoch: 09, loss: -0.04356\n",
      "torch.Size([400, 64])\n"
     ]
    },
    {
     "name": "stderr",
     "output_type": "stream",
     "text": [
      "\r",
      " 31%|█████████████████████████████████████████████████▍                                                                                                             | 311/1000 [2:10:21<4:52:57, 25.51s/it]"
     ]
    },
    {
     "name": "stdout",
     "output_type": "stream",
     "text": [
      "eigenvalues shape torch.Size([5]) eigenvectors shape torch.Size([5, 400])\n",
      "311 /home/phdcs2/Hard_Disk/Datasets/Deep-Spectral-Segmentation/data/object-segmentation/ECSSD/features/dino_vits16/0312.pth\n",
      "dict_keys(['k', 'indices', 'file', 'id', 'model_name', 'patch_size', 'shape'])\n",
      "0312\n",
      "Starting Training\n",
      "epoch: 00, loss: -0.01413\n",
      "epoch: 01, loss: -0.03441\n",
      "epoch: 02, loss: -0.03801\n",
      "epoch: 03, loss: -0.03893\n",
      "epoch: 04, loss: -0.03931\n",
      "epoch: 05, loss: -0.03962\n",
      "epoch: 06, loss: -0.03983\n",
      "epoch: 07, loss: -0.03996\n",
      "epoch: 08, loss: -0.03999\n",
      "epoch: 09, loss: -0.04027\n",
      "torch.Size([400, 64])\n"
     ]
    },
    {
     "name": "stderr",
     "output_type": "stream",
     "text": [
      "\r",
      " 31%|█████████████████████████████████████████████████▌                                                                                                             | 312/1000 [2:10:47<4:52:00, 25.47s/it]"
     ]
    },
    {
     "name": "stdout",
     "output_type": "stream",
     "text": [
      "eigenvalues shape torch.Size([5]) eigenvectors shape torch.Size([5, 400])\n",
      "312 /home/phdcs2/Hard_Disk/Datasets/Deep-Spectral-Segmentation/data/object-segmentation/ECSSD/features/dino_vits16/0313.pth\n",
      "dict_keys(['k', 'indices', 'file', 'id', 'model_name', 'patch_size', 'shape'])\n",
      "0313\n",
      "Starting Training\n",
      "epoch: 00, loss: -0.00947\n",
      "epoch: 01, loss: -0.02206\n",
      "epoch: 02, loss: -0.02564\n",
      "epoch: 03, loss: -0.02712\n",
      "epoch: 04, loss: -0.02773\n",
      "epoch: 05, loss: -0.02797\n",
      "epoch: 06, loss: -0.02835\n",
      "epoch: 07, loss: -0.02856\n",
      "epoch: 08, loss: -0.02854\n",
      "epoch: 09, loss: -0.02875\n",
      "torch.Size([400, 64])\n"
     ]
    },
    {
     "name": "stderr",
     "output_type": "stream",
     "text": [
      "\r",
      " 31%|█████████████████████████████████████████████████▊                                                                                                             | 313/1000 [2:11:09<4:41:00, 24.54s/it]"
     ]
    },
    {
     "name": "stdout",
     "output_type": "stream",
     "text": [
      "eigenvalues shape torch.Size([5]) eigenvectors shape torch.Size([5, 400])\n",
      "313 /home/phdcs2/Hard_Disk/Datasets/Deep-Spectral-Segmentation/data/object-segmentation/ECSSD/features/dino_vits16/0314.pth\n",
      "dict_keys(['k', 'indices', 'file', 'id', 'model_name', 'patch_size', 'shape'])\n",
      "0314\n",
      "Starting Training\n",
      "epoch: 00, loss: -0.00790\n",
      "epoch: 01, loss: -0.02644\n",
      "epoch: 02, loss: -0.03109\n",
      "epoch: 03, loss: -0.03279\n",
      "epoch: 04, loss: -0.03334\n",
      "epoch: 05, loss: -0.03341\n",
      "epoch: 06, loss: -0.03359\n",
      "epoch: 07, loss: -0.03397\n",
      "epoch: 08, loss: -0.03399\n",
      "epoch: 09, loss: -0.03429\n",
      "torch.Size([400, 64])\n"
     ]
    },
    {
     "name": "stderr",
     "output_type": "stream",
     "text": [
      "\r",
      " 31%|█████████████████████████████████████████████████▉                                                                                                             | 314/1000 [2:11:35<4:46:48, 25.08s/it]"
     ]
    },
    {
     "name": "stdout",
     "output_type": "stream",
     "text": [
      "eigenvalues shape torch.Size([5]) eigenvectors shape torch.Size([5, 400])\n",
      "314 /home/phdcs2/Hard_Disk/Datasets/Deep-Spectral-Segmentation/data/object-segmentation/ECSSD/features/dino_vits16/0315.pth\n",
      "dict_keys(['k', 'indices', 'file', 'id', 'model_name', 'patch_size', 'shape'])\n",
      "0315\n",
      "Starting Training\n",
      "epoch: 00, loss: -0.05656\n",
      "epoch: 01, loss: -0.09007\n",
      "epoch: 02, loss: -0.09291\n",
      "epoch: 03, loss: -0.09364\n",
      "epoch: 04, loss: -0.09523\n",
      "epoch: 05, loss: -0.09402\n",
      "epoch: 06, loss: -0.09444\n",
      "epoch: 07, loss: -0.09603\n",
      "epoch: 08, loss: -0.09606\n",
      "epoch: 09, loss: -0.09730\n",
      "torch.Size([450, 64])\n"
     ]
    },
    {
     "name": "stderr",
     "output_type": "stream",
     "text": [
      "\r",
      " 32%|██████████████████████████████████████████████████                                                                                                             | 315/1000 [2:12:10<5:17:51, 27.84s/it]"
     ]
    },
    {
     "name": "stdout",
     "output_type": "stream",
     "text": [
      "eigenvalues shape torch.Size([5]) eigenvectors shape torch.Size([5, 450])\n",
      "315 /home/phdcs2/Hard_Disk/Datasets/Deep-Spectral-Segmentation/data/object-segmentation/ECSSD/features/dino_vits16/0316.pth\n",
      "dict_keys(['k', 'indices', 'file', 'id', 'model_name', 'patch_size', 'shape'])\n",
      "0316\n",
      "Starting Training\n",
      "epoch: 00, loss: -0.01618\n",
      "epoch: 01, loss: -0.03385\n",
      "epoch: 02, loss: -0.03726\n",
      "epoch: 03, loss: -0.03832\n",
      "epoch: 04, loss: -0.03826\n",
      "epoch: 05, loss: -0.03881\n",
      "epoch: 06, loss: -0.03887\n",
      "epoch: 07, loss: -0.03899\n",
      "epoch: 08, loss: -0.03912\n",
      "epoch: 09, loss: -0.03912\n",
      "torch.Size([450, 64])\n"
     ]
    },
    {
     "name": "stderr",
     "output_type": "stream",
     "text": [
      "\r",
      " 32%|██████████████████████████████████████████████████▏                                                                                                            | 316/1000 [2:12:36<5:13:32, 27.50s/it]"
     ]
    },
    {
     "name": "stdout",
     "output_type": "stream",
     "text": [
      "eigenvalues shape torch.Size([5]) eigenvectors shape torch.Size([5, 450])\n",
      "316 /home/phdcs2/Hard_Disk/Datasets/Deep-Spectral-Segmentation/data/object-segmentation/ECSSD/features/dino_vits16/0317.pth\n",
      "dict_keys(['k', 'indices', 'file', 'id', 'model_name', 'patch_size', 'shape'])\n",
      "0317\n",
      "Starting Training\n",
      "epoch: 00, loss: -0.04248\n",
      "epoch: 01, loss: -0.06077\n",
      "epoch: 02, loss: -0.06175\n",
      "epoch: 03, loss: -0.06295\n",
      "epoch: 04, loss: -0.06304\n",
      "epoch: 05, loss: -0.06345\n",
      "epoch: 06, loss: -0.06331\n",
      "epoch: 07, loss: -0.06369\n",
      "epoch: 08, loss: -0.06362\n",
      "epoch: 09, loss: -0.06400\n",
      "torch.Size([450, 64])\n"
     ]
    },
    {
     "name": "stderr",
     "output_type": "stream",
     "text": [
      "\r",
      " 32%|██████████████████████████████████████████████████▍                                                                                                            | 317/1000 [2:13:03<5:09:26, 27.18s/it]"
     ]
    },
    {
     "name": "stdout",
     "output_type": "stream",
     "text": [
      "eigenvalues shape torch.Size([5]) eigenvectors shape torch.Size([5, 450])\n",
      "317 /home/phdcs2/Hard_Disk/Datasets/Deep-Spectral-Segmentation/data/object-segmentation/ECSSD/features/dino_vits16/0318.pth\n",
      "dict_keys(['k', 'indices', 'file', 'id', 'model_name', 'patch_size', 'shape'])\n",
      "0318\n",
      "Starting Training\n",
      "epoch: 00, loss: -0.05664\n",
      "epoch: 01, loss: -0.07974\n",
      "epoch: 02, loss: -0.08039\n",
      "epoch: 03, loss: -0.08089\n",
      "epoch: 04, loss: -0.08077\n",
      "epoch: 05, loss: -0.08130\n",
      "epoch: 06, loss: -0.08108\n",
      "epoch: 07, loss: -0.08140\n",
      "epoch: 08, loss: -0.08134\n",
      "epoch: 09, loss: -0.08141\n",
      "torch.Size([450, 64])\n"
     ]
    },
    {
     "name": "stderr",
     "output_type": "stream",
     "text": [
      "\r",
      " 32%|██████████████████████████████████████████████████▌                                                                                                            | 318/1000 [2:13:27<4:58:54, 26.30s/it]"
     ]
    },
    {
     "name": "stdout",
     "output_type": "stream",
     "text": [
      "eigenvalues shape torch.Size([5]) eigenvectors shape torch.Size([5, 450])\n",
      "318 /home/phdcs2/Hard_Disk/Datasets/Deep-Spectral-Segmentation/data/object-segmentation/ECSSD/features/dino_vits16/0319.pth\n",
      "dict_keys(['k', 'indices', 'file', 'id', 'model_name', 'patch_size', 'shape'])\n",
      "0319\n",
      "Starting Training\n",
      "epoch: 00, loss: -0.02152\n",
      "epoch: 01, loss: -0.04283\n",
      "epoch: 02, loss: -0.04695\n",
      "epoch: 03, loss: -0.04897\n",
      "epoch: 04, loss: -0.04951\n",
      "epoch: 05, loss: -0.04994\n",
      "epoch: 06, loss: -0.04837\n",
      "epoch: 07, loss: -0.04951\n",
      "epoch: 08, loss: -0.05183\n",
      "epoch: 09, loss: -0.05071\n",
      "torch.Size([450, 64])\n"
     ]
    },
    {
     "name": "stderr",
     "output_type": "stream",
     "text": [
      "\r",
      " 32%|██████████████████████████████████████████████████▋                                                                                                            | 319/1000 [2:13:50<4:46:23, 25.23s/it]"
     ]
    },
    {
     "name": "stdout",
     "output_type": "stream",
     "text": [
      "eigenvalues shape torch.Size([5]) eigenvectors shape torch.Size([5, 450])\n",
      "319 /home/phdcs2/Hard_Disk/Datasets/Deep-Spectral-Segmentation/data/object-segmentation/ECSSD/features/dino_vits16/0320.pth\n",
      "dict_keys(['k', 'indices', 'file', 'id', 'model_name', 'patch_size', 'shape'])\n",
      "0320\n",
      "Starting Training\n",
      "epoch: 00, loss: -0.05753\n",
      "epoch: 01, loss: -0.08017\n",
      "epoch: 02, loss: -0.08246\n",
      "epoch: 03, loss: -0.08625\n",
      "epoch: 04, loss: -0.08540\n",
      "epoch: 05, loss: -0.08636\n",
      "epoch: 06, loss: -0.08610\n",
      "epoch: 07, loss: -0.08514\n",
      "epoch: 08, loss: -0.08771\n",
      "epoch: 09, loss: -0.08631\n",
      "torch.Size([450, 64])\n"
     ]
    },
    {
     "name": "stderr",
     "output_type": "stream",
     "text": [
      "\r",
      " 32%|██████████████████████████████████████████████████▉                                                                                                            | 320/1000 [2:14:16<4:50:01, 25.59s/it]"
     ]
    },
    {
     "name": "stdout",
     "output_type": "stream",
     "text": [
      "eigenvalues shape torch.Size([5]) eigenvectors shape torch.Size([5, 450])\n",
      "320 /home/phdcs2/Hard_Disk/Datasets/Deep-Spectral-Segmentation/data/object-segmentation/ECSSD/features/dino_vits16/0321.pth\n",
      "dict_keys(['k', 'indices', 'file', 'id', 'model_name', 'patch_size', 'shape'])\n",
      "0321\n",
      "Starting Training\n",
      "epoch: 00, loss: -0.02360\n",
      "epoch: 01, loss: -0.04837\n",
      "epoch: 02, loss: -0.04823\n",
      "epoch: 03, loss: -0.05219\n",
      "epoch: 04, loss: -0.05339\n",
      "epoch: 05, loss: -0.05574\n",
      "epoch: 06, loss: -0.05246\n",
      "epoch: 07, loss: -0.05442\n",
      "epoch: 08, loss: -0.05620\n",
      "epoch: 09, loss: -0.05671\n",
      "torch.Size([500, 64])\n"
     ]
    },
    {
     "name": "stderr",
     "output_type": "stream",
     "text": [
      "\r",
      " 32%|███████████████████████████████████████████████████                                                                                                            | 321/1000 [2:14:43<4:53:53, 25.97s/it]"
     ]
    },
    {
     "name": "stdout",
     "output_type": "stream",
     "text": [
      "eigenvalues shape torch.Size([5]) eigenvectors shape torch.Size([5, 500])\n",
      "321 /home/phdcs2/Hard_Disk/Datasets/Deep-Spectral-Segmentation/data/object-segmentation/ECSSD/features/dino_vits16/0322.pth\n",
      "dict_keys(['k', 'indices', 'file', 'id', 'model_name', 'patch_size', 'shape'])\n",
      "0322\n",
      "Starting Training\n",
      "epoch: 00, loss: -0.04487\n",
      "epoch: 01, loss: -0.07491\n",
      "epoch: 02, loss: -0.08088\n",
      "epoch: 03, loss: -0.08198\n",
      "epoch: 04, loss: -0.08535\n",
      "epoch: 05, loss: -0.08508\n",
      "epoch: 06, loss: -0.08346\n",
      "epoch: 07, loss: -0.08433\n",
      "epoch: 08, loss: -0.08446\n",
      "epoch: 09, loss: -0.08438\n",
      "torch.Size([450, 64])\n"
     ]
    },
    {
     "name": "stderr",
     "output_type": "stream",
     "text": [
      "\r",
      " 32%|███████████████████████████████████████████████████▏                                                                                                           | 322/1000 [2:15:06<4:44:03, 25.14s/it]"
     ]
    },
    {
     "name": "stdout",
     "output_type": "stream",
     "text": [
      "eigenvalues shape torch.Size([5]) eigenvectors shape torch.Size([5, 450])\n",
      "322 /home/phdcs2/Hard_Disk/Datasets/Deep-Spectral-Segmentation/data/object-segmentation/ECSSD/features/dino_vits16/0323.pth\n",
      "dict_keys(['k', 'indices', 'file', 'id', 'model_name', 'patch_size', 'shape'])\n",
      "0323\n",
      "Starting Training\n",
      "epoch: 00, loss: -0.05126\n",
      "epoch: 01, loss: -0.07340\n",
      "epoch: 02, loss: -0.07942\n",
      "epoch: 03, loss: -0.08163\n",
      "epoch: 04, loss: -0.08118\n",
      "epoch: 05, loss: -0.08019\n",
      "epoch: 06, loss: -0.08077\n",
      "epoch: 07, loss: -0.07930\n",
      "epoch: 08, loss: -0.08415\n",
      "epoch: 09, loss: -0.08322\n",
      "torch.Size([450, 64])\n"
     ]
    },
    {
     "name": "stderr",
     "output_type": "stream",
     "text": [
      "\r",
      " 32%|███████████████████████████████████████████████████▎                                                                                                           | 323/1000 [2:15:33<4:50:07, 25.71s/it]"
     ]
    },
    {
     "name": "stdout",
     "output_type": "stream",
     "text": [
      "eigenvalues shape torch.Size([5]) eigenvectors shape torch.Size([5, 450])\n",
      "323 /home/phdcs2/Hard_Disk/Datasets/Deep-Spectral-Segmentation/data/object-segmentation/ECSSD/features/dino_vits16/0324.pth\n",
      "dict_keys(['k', 'indices', 'file', 'id', 'model_name', 'patch_size', 'shape'])\n",
      "0324\n",
      "Starting Training\n",
      "epoch: 00, loss: -0.05047\n",
      "epoch: 01, loss: -0.07779\n",
      "epoch: 02, loss: -0.08277\n",
      "epoch: 03, loss: -0.08377\n",
      "epoch: 04, loss: -0.08480\n",
      "epoch: 05, loss: -0.08515\n",
      "epoch: 06, loss: -0.08696\n",
      "epoch: 07, loss: -0.08668\n",
      "epoch: 08, loss: -0.08437\n",
      "epoch: 09, loss: -0.08494\n",
      "torch.Size([450, 64])\n"
     ]
    },
    {
     "name": "stderr",
     "output_type": "stream",
     "text": [
      "\r",
      " 32%|███████████████████████████████████████████████████▌                                                                                                           | 324/1000 [2:15:58<4:47:09, 25.49s/it]"
     ]
    },
    {
     "name": "stdout",
     "output_type": "stream",
     "text": [
      "eigenvalues shape torch.Size([5]) eigenvectors shape torch.Size([5, 450])\n",
      "324 /home/phdcs2/Hard_Disk/Datasets/Deep-Spectral-Segmentation/data/object-segmentation/ECSSD/features/dino_vits16/0325.pth\n",
      "dict_keys(['k', 'indices', 'file', 'id', 'model_name', 'patch_size', 'shape'])\n",
      "0325\n",
      "Starting Training\n",
      "epoch: 00, loss: -0.02113\n",
      "epoch: 01, loss: -0.04237\n",
      "epoch: 02, loss: -0.04818\n",
      "epoch: 03, loss: -0.05025\n",
      "epoch: 04, loss: -0.05025\n",
      "epoch: 05, loss: -0.05310\n",
      "epoch: 06, loss: -0.05406\n",
      "epoch: 07, loss: -0.05177\n",
      "epoch: 08, loss: -0.05210\n",
      "epoch: 09, loss: -0.05231\n",
      "torch.Size([450, 64])\n"
     ]
    },
    {
     "name": "stderr",
     "output_type": "stream",
     "text": [
      "\r",
      " 32%|███████████████████████████████████████████████████▋                                                                                                           | 325/1000 [2:16:23<4:45:59, 25.42s/it]"
     ]
    },
    {
     "name": "stdout",
     "output_type": "stream",
     "text": [
      "eigenvalues shape torch.Size([5]) eigenvectors shape torch.Size([5, 450])\n",
      "325 /home/phdcs2/Hard_Disk/Datasets/Deep-Spectral-Segmentation/data/object-segmentation/ECSSD/features/dino_vits16/0326.pth\n",
      "dict_keys(['k', 'indices', 'file', 'id', 'model_name', 'patch_size', 'shape'])\n",
      "0326\n",
      "Starting Training\n",
      "epoch: 00, loss: -0.02645\n",
      "epoch: 01, loss: -0.05465\n",
      "epoch: 02, loss: -0.06355\n",
      "epoch: 03, loss: -0.06000\n",
      "epoch: 04, loss: -0.06503\n",
      "epoch: 05, loss: -0.06272\n",
      "epoch: 06, loss: -0.06633\n",
      "epoch: 07, loss: -0.06428\n",
      "epoch: 08, loss: -0.06362\n",
      "epoch: 09, loss: -0.06507\n",
      "torch.Size([425, 64])\n"
     ]
    },
    {
     "name": "stderr",
     "output_type": "stream",
     "text": [
      "\r",
      " 33%|███████████████████████████████████████████████████▊                                                                                                           | 326/1000 [2:16:46<4:35:16, 24.50s/it]"
     ]
    },
    {
     "name": "stdout",
     "output_type": "stream",
     "text": [
      "eigenvalues shape torch.Size([5]) eigenvectors shape torch.Size([5, 425])\n",
      "326 /home/phdcs2/Hard_Disk/Datasets/Deep-Spectral-Segmentation/data/object-segmentation/ECSSD/features/dino_vits16/0327.pth\n",
      "dict_keys(['k', 'indices', 'file', 'id', 'model_name', 'patch_size', 'shape'])\n",
      "0327\n",
      "Starting Training\n",
      "epoch: 00, loss: -0.02645\n",
      "epoch: 01, loss: -0.05014\n",
      "epoch: 02, loss: -0.05936\n",
      "epoch: 03, loss: -0.05420\n",
      "epoch: 04, loss: -0.05678\n",
      "epoch: 05, loss: -0.05776\n",
      "epoch: 06, loss: -0.05790\n",
      "epoch: 07, loss: -0.06046\n",
      "epoch: 08, loss: -0.05989\n",
      "epoch: 09, loss: -0.06047\n",
      "torch.Size([450, 64])\n"
     ]
    },
    {
     "name": "stderr",
     "output_type": "stream",
     "text": [
      "\r",
      " 33%|███████████████████████████████████████████████████▉                                                                                                           | 327/1000 [2:17:12<4:39:39, 24.93s/it]"
     ]
    },
    {
     "name": "stdout",
     "output_type": "stream",
     "text": [
      "eigenvalues shape torch.Size([5]) eigenvectors shape torch.Size([5, 450])\n",
      "327 /home/phdcs2/Hard_Disk/Datasets/Deep-Spectral-Segmentation/data/object-segmentation/ECSSD/features/dino_vits16/0328.pth\n",
      "dict_keys(['k', 'indices', 'file', 'id', 'model_name', 'patch_size', 'shape'])\n",
      "0328\n",
      "Starting Training\n",
      "epoch: 00, loss: -0.25865\n",
      "epoch: 01, loss: -0.30146\n",
      "epoch: 02, loss: -0.30764\n",
      "epoch: 03, loss: -0.30848\n",
      "epoch: 04, loss: -0.31016\n",
      "epoch: 05, loss: -0.31106\n",
      "epoch: 06, loss: -0.31114\n",
      "epoch: 07, loss: -0.31190\n",
      "epoch: 08, loss: -0.31165\n",
      "epoch: 09, loss: -0.31323\n",
      "torch.Size([475, 64])\n"
     ]
    },
    {
     "name": "stderr",
     "output_type": "stream",
     "text": [
      "\r",
      " 33%|████████████████████████████████████████████████████▏                                                                                                          | 328/1000 [2:17:39<4:46:00, 25.54s/it]"
     ]
    },
    {
     "name": "stdout",
     "output_type": "stream",
     "text": [
      "eigenvalues shape torch.Size([5]) eigenvectors shape torch.Size([5, 475])\n",
      "328 /home/phdcs2/Hard_Disk/Datasets/Deep-Spectral-Segmentation/data/object-segmentation/ECSSD/features/dino_vits16/0329.pth\n",
      "dict_keys(['k', 'indices', 'file', 'id', 'model_name', 'patch_size', 'shape'])\n",
      "0329\n",
      "Starting Training\n",
      "epoch: 00, loss: -0.04505\n",
      "epoch: 01, loss: -0.06329\n",
      "epoch: 02, loss: -0.06585\n",
      "epoch: 03, loss: -0.06840\n",
      "epoch: 04, loss: -0.06933\n",
      "epoch: 05, loss: -0.06987\n",
      "epoch: 06, loss: -0.06906\n",
      "epoch: 07, loss: -0.07110\n",
      "epoch: 08, loss: -0.07143\n",
      "epoch: 09, loss: -0.07021\n",
      "torch.Size([500, 64])\n"
     ]
    },
    {
     "name": "stderr",
     "output_type": "stream",
     "text": [
      "\r",
      " 33%|████████████████████████████████████████████████████▎                                                                                                          | 329/1000 [2:18:07<4:54:23, 26.32s/it]"
     ]
    },
    {
     "name": "stdout",
     "output_type": "stream",
     "text": [
      "eigenvalues shape torch.Size([5]) eigenvectors shape torch.Size([5, 500])\n",
      "329 /home/phdcs2/Hard_Disk/Datasets/Deep-Spectral-Segmentation/data/object-segmentation/ECSSD/features/dino_vits16/0330.pth\n",
      "dict_keys(['k', 'indices', 'file', 'id', 'model_name', 'patch_size', 'shape'])\n",
      "0330\n",
      "Starting Training\n",
      "epoch: 00, loss: -0.00615\n",
      "epoch: 01, loss: -0.02963\n",
      "epoch: 02, loss: -0.03499\n",
      "epoch: 03, loss: -0.03731\n",
      "epoch: 04, loss: -0.03773\n",
      "epoch: 05, loss: -0.03780\n",
      "epoch: 06, loss: -0.04065\n",
      "epoch: 07, loss: -0.03979\n",
      "epoch: 08, loss: -0.03942\n",
      "epoch: 09, loss: -0.04011\n",
      "torch.Size([450, 64])\n"
     ]
    },
    {
     "name": "stderr",
     "output_type": "stream",
     "text": [
      "\r",
      " 33%|████████████████████████████████████████████████████▍                                                                                                          | 330/1000 [2:18:32<4:49:36, 25.94s/it]"
     ]
    },
    {
     "name": "stdout",
     "output_type": "stream",
     "text": [
      "eigenvalues shape torch.Size([5]) eigenvectors shape torch.Size([5, 450])\n",
      "330 /home/phdcs2/Hard_Disk/Datasets/Deep-Spectral-Segmentation/data/object-segmentation/ECSSD/features/dino_vits16/0331.pth\n",
      "dict_keys(['k', 'indices', 'file', 'id', 'model_name', 'patch_size', 'shape'])\n",
      "0331\n",
      "Starting Training\n",
      "epoch: 00, loss: -0.08648\n",
      "epoch: 01, loss: -0.10520\n",
      "epoch: 02, loss: -0.10543\n",
      "epoch: 03, loss: -0.10537\n",
      "epoch: 04, loss: -0.10586\n",
      "epoch: 05, loss: -0.10602\n",
      "epoch: 06, loss: -0.10653\n",
      "epoch: 07, loss: -0.10614\n",
      "epoch: 08, loss: -0.10655\n",
      "epoch: 09, loss: -0.10681\n",
      "torch.Size([450, 64])\n"
     ]
    },
    {
     "name": "stderr",
     "output_type": "stream",
     "text": [
      "\r",
      " 33%|████████████████████████████████████████████████████▋                                                                                                          | 331/1000 [2:18:57<4:45:19, 25.59s/it]"
     ]
    },
    {
     "name": "stdout",
     "output_type": "stream",
     "text": [
      "eigenvalues shape torch.Size([5]) eigenvectors shape torch.Size([5, 450])\n",
      "331 /home/phdcs2/Hard_Disk/Datasets/Deep-Spectral-Segmentation/data/object-segmentation/ECSSD/features/dino_vits16/0332.pth\n",
      "dict_keys(['k', 'indices', 'file', 'id', 'model_name', 'patch_size', 'shape'])\n",
      "0332\n",
      "Starting Training\n",
      "epoch: 00, loss: -0.03370\n",
      "epoch: 01, loss: -0.05997\n",
      "epoch: 02, loss: -0.06157\n",
      "epoch: 03, loss: -0.06211\n",
      "epoch: 04, loss: -0.06238\n",
      "epoch: 05, loss: -0.06258\n",
      "epoch: 06, loss: -0.06271\n",
      "epoch: 07, loss: -0.06288\n",
      "epoch: 08, loss: -0.06304\n",
      "epoch: 09, loss: -0.06321\n",
      "torch.Size([400, 64])\n"
     ]
    },
    {
     "name": "stderr",
     "output_type": "stream",
     "text": [
      "\r",
      " 33%|████████████████████████████████████████████████████▊                                                                                                          | 332/1000 [2:19:19<4:34:01, 24.61s/it]"
     ]
    },
    {
     "name": "stdout",
     "output_type": "stream",
     "text": [
      "eigenvalues shape torch.Size([5]) eigenvectors shape torch.Size([5, 400])\n",
      "332 /home/phdcs2/Hard_Disk/Datasets/Deep-Spectral-Segmentation/data/object-segmentation/ECSSD/features/dino_vits16/0333.pth\n",
      "dict_keys(['k', 'indices', 'file', 'id', 'model_name', 'patch_size', 'shape'])\n",
      "0333\n",
      "Starting Training\n",
      "epoch: 00, loss: -0.04126\n",
      "epoch: 01, loss: -0.06229\n",
      "epoch: 02, loss: -0.06279\n",
      "epoch: 03, loss: -0.06358\n",
      "epoch: 04, loss: -0.06390\n",
      "epoch: 05, loss: -0.06390\n",
      "epoch: 06, loss: -0.06415\n",
      "epoch: 07, loss: -0.06434\n",
      "epoch: 08, loss: -0.06455\n",
      "epoch: 09, loss: -0.06462\n",
      "torch.Size([400, 64])\n"
     ]
    },
    {
     "name": "stderr",
     "output_type": "stream",
     "text": [
      "\r",
      " 33%|████████████████████████████████████████████████████▉                                                                                                          | 333/1000 [2:19:43<4:30:35, 24.34s/it]"
     ]
    },
    {
     "name": "stdout",
     "output_type": "stream",
     "text": [
      "eigenvalues shape torch.Size([5]) eigenvectors shape torch.Size([5, 400])\n",
      "333 /home/phdcs2/Hard_Disk/Datasets/Deep-Spectral-Segmentation/data/object-segmentation/ECSSD/features/dino_vits16/0334.pth\n",
      "dict_keys(['k', 'indices', 'file', 'id', 'model_name', 'patch_size', 'shape'])\n",
      "0334\n",
      "Starting Training\n",
      "epoch: 00, loss: -0.03856\n",
      "epoch: 01, loss: -0.05516\n",
      "epoch: 02, loss: -0.05645\n",
      "epoch: 03, loss: -0.05656\n",
      "epoch: 04, loss: -0.05701\n",
      "epoch: 05, loss: -0.05730\n",
      "epoch: 06, loss: -0.05732\n",
      "epoch: 07, loss: -0.05760\n",
      "epoch: 08, loss: -0.05770\n",
      "epoch: 09, loss: -0.05780\n",
      "torch.Size([450, 64])\n"
     ]
    },
    {
     "name": "stderr",
     "output_type": "stream",
     "text": [
      "\r",
      " 33%|█████████████████████████████████████████████████████                                                                                                          | 334/1000 [2:20:09<4:36:22, 24.90s/it]"
     ]
    },
    {
     "name": "stdout",
     "output_type": "stream",
     "text": [
      "eigenvalues shape torch.Size([5]) eigenvectors shape torch.Size([5, 450])\n",
      "334 /home/phdcs2/Hard_Disk/Datasets/Deep-Spectral-Segmentation/data/object-segmentation/ECSSD/features/dino_vits16/0335.pth\n",
      "dict_keys(['k', 'indices', 'file', 'id', 'model_name', 'patch_size', 'shape'])\n",
      "0335\n",
      "Starting Training\n",
      "epoch: 00, loss: -0.01463\n",
      "epoch: 01, loss: -0.03752\n",
      "epoch: 02, loss: -0.04094\n",
      "epoch: 03, loss: -0.04197\n",
      "epoch: 04, loss: -0.04231\n",
      "epoch: 05, loss: -0.04272\n",
      "epoch: 06, loss: -0.04317\n",
      "epoch: 07, loss: -0.04304\n",
      "epoch: 08, loss: -0.04320\n",
      "epoch: 09, loss: -0.04325\n",
      "torch.Size([400, 64])\n"
     ]
    },
    {
     "name": "stderr",
     "output_type": "stream",
     "text": [
      "\r",
      " 34%|█████████████████████████████████████████████████████▎                                                                                                         | 335/1000 [2:20:32<4:29:38, 24.33s/it]"
     ]
    },
    {
     "name": "stdout",
     "output_type": "stream",
     "text": [
      "eigenvalues shape torch.Size([5]) eigenvectors shape torch.Size([5, 400])\n",
      "335 /home/phdcs2/Hard_Disk/Datasets/Deep-Spectral-Segmentation/data/object-segmentation/ECSSD/features/dino_vits16/0336.pth\n",
      "dict_keys(['k', 'indices', 'file', 'id', 'model_name', 'patch_size', 'shape'])\n",
      "0336\n",
      "Starting Training\n",
      "epoch: 00, loss: -0.13613\n",
      "epoch: 01, loss: -0.15154\n",
      "epoch: 02, loss: -0.15128\n",
      "epoch: 03, loss: -0.15116\n",
      "epoch: 04, loss: -0.15172\n",
      "epoch: 05, loss: -0.15204\n",
      "epoch: 06, loss: -0.15216\n",
      "epoch: 07, loss: -0.15206\n",
      "epoch: 08, loss: -0.15191\n",
      "epoch: 09, loss: -0.15238\n",
      "torch.Size([450, 64])\n"
     ]
    },
    {
     "name": "stderr",
     "output_type": "stream",
     "text": [
      "\r",
      " 34%|█████████████████████████████████████████████████████▍                                                                                                         | 336/1000 [2:20:59<4:37:13, 25.05s/it]"
     ]
    },
    {
     "name": "stdout",
     "output_type": "stream",
     "text": [
      "eigenvalues shape torch.Size([5]) eigenvectors shape torch.Size([5, 450])\n",
      "336 /home/phdcs2/Hard_Disk/Datasets/Deep-Spectral-Segmentation/data/object-segmentation/ECSSD/features/dino_vits16/0337.pth\n",
      "dict_keys(['k', 'indices', 'file', 'id', 'model_name', 'patch_size', 'shape'])\n",
      "0337\n",
      "Starting Training\n",
      "epoch: 00, loss: -0.05834\n",
      "epoch: 01, loss: -0.08467\n",
      "epoch: 02, loss: -0.08580\n",
      "epoch: 03, loss: -0.09008\n",
      "epoch: 04, loss: -0.08739\n",
      "epoch: 05, loss: -0.09004\n",
      "epoch: 06, loss: -0.08988\n",
      "epoch: 07, loss: -0.09144\n",
      "epoch: 08, loss: -0.08983\n",
      "epoch: 09, loss: -0.09061\n",
      "torch.Size([450, 64])\n"
     ]
    },
    {
     "name": "stderr",
     "output_type": "stream",
     "text": [
      "\r",
      " 34%|█████████████████████████████████████████████████████▌                                                                                                         | 337/1000 [2:21:23<4:35:19, 24.92s/it]"
     ]
    },
    {
     "name": "stdout",
     "output_type": "stream",
     "text": [
      "eigenvalues shape torch.Size([5]) eigenvectors shape torch.Size([5, 450])\n",
      "337 /home/phdcs2/Hard_Disk/Datasets/Deep-Spectral-Segmentation/data/object-segmentation/ECSSD/features/dino_vits16/0338.pth\n",
      "dict_keys(['k', 'indices', 'file', 'id', 'model_name', 'patch_size', 'shape'])\n",
      "0338\n",
      "Starting Training\n",
      "epoch: 00, loss: -0.00954\n",
      "epoch: 01, loss: -0.02785\n",
      "epoch: 02, loss: -0.03094\n",
      "epoch: 03, loss: -0.03193\n",
      "epoch: 04, loss: -0.03210\n",
      "epoch: 05, loss: -0.03240\n",
      "epoch: 06, loss: -0.03261\n",
      "epoch: 07, loss: -0.03274\n",
      "epoch: 08, loss: -0.03296\n",
      "epoch: 09, loss: -0.03292\n",
      "torch.Size([450, 64])\n"
     ]
    },
    {
     "name": "stderr",
     "output_type": "stream",
     "text": [
      "\r",
      " 34%|█████████████████████████████████████████████████████▋                                                                                                         | 338/1000 [2:21:49<4:37:30, 25.15s/it]"
     ]
    },
    {
     "name": "stdout",
     "output_type": "stream",
     "text": [
      "eigenvalues shape torch.Size([5]) eigenvectors shape torch.Size([5, 450])\n",
      "338 /home/phdcs2/Hard_Disk/Datasets/Deep-Spectral-Segmentation/data/object-segmentation/ECSSD/features/dino_vits16/0339.pth\n",
      "dict_keys(['k', 'indices', 'file', 'id', 'model_name', 'patch_size', 'shape'])\n",
      "0339\n",
      "Starting Training\n",
      "epoch: 00, loss: -0.08956\n",
      "epoch: 01, loss: -0.11302\n",
      "epoch: 02, loss: -0.11404\n",
      "epoch: 03, loss: -0.11274\n",
      "epoch: 04, loss: -0.11284\n",
      "epoch: 05, loss: -0.11438\n",
      "epoch: 06, loss: -0.11636\n",
      "epoch: 07, loss: -0.11599\n",
      "epoch: 08, loss: -0.11515\n",
      "epoch: 09, loss: -0.11468\n",
      "torch.Size([450, 64])\n"
     ]
    },
    {
     "name": "stderr",
     "output_type": "stream",
     "text": [
      "\r",
      " 34%|█████████████████████████████████████████████████████▉                                                                                                         | 339/1000 [2:22:13<4:33:08, 24.79s/it]"
     ]
    },
    {
     "name": "stdout",
     "output_type": "stream",
     "text": [
      "eigenvalues shape torch.Size([5]) eigenvectors shape torch.Size([5, 450])\n",
      "339 /home/phdcs2/Hard_Disk/Datasets/Deep-Spectral-Segmentation/data/object-segmentation/ECSSD/features/dino_vits16/0340.pth\n",
      "dict_keys(['k', 'indices', 'file', 'id', 'model_name', 'patch_size', 'shape'])\n",
      "0340\n",
      "Starting Training\n",
      "epoch: 00, loss: -0.06472\n",
      "epoch: 01, loss: -0.09377\n",
      "epoch: 02, loss: -0.09611\n",
      "epoch: 03, loss: -0.10120\n",
      "epoch: 04, loss: -0.09838\n",
      "epoch: 05, loss: -0.09863\n",
      "epoch: 06, loss: -0.10032\n",
      "epoch: 07, loss: -0.09941\n",
      "epoch: 08, loss: -0.10194\n",
      "epoch: 09, loss: -0.10155\n",
      "torch.Size([375, 64])\n"
     ]
    },
    {
     "name": "stderr",
     "output_type": "stream",
     "text": [
      "\r",
      " 34%|██████████████████████████████████████████████████████                                                                                                         | 340/1000 [2:22:32<4:15:20, 23.21s/it]"
     ]
    },
    {
     "name": "stdout",
     "output_type": "stream",
     "text": [
      "eigenvalues shape torch.Size([5]) eigenvectors shape torch.Size([5, 375])\n",
      "340 /home/phdcs2/Hard_Disk/Datasets/Deep-Spectral-Segmentation/data/object-segmentation/ECSSD/features/dino_vits16/0341.pth\n",
      "dict_keys(['k', 'indices', 'file', 'id', 'model_name', 'patch_size', 'shape'])\n",
      "0341\n",
      "Starting Training\n",
      "epoch: 00, loss: -0.01791\n",
      "epoch: 01, loss: -0.03324\n",
      "epoch: 02, loss: -0.03664\n",
      "epoch: 03, loss: -0.03786\n",
      "epoch: 04, loss: -0.03935\n",
      "epoch: 05, loss: -0.03809\n",
      "epoch: 06, loss: -0.03954\n",
      "epoch: 07, loss: -0.03747\n",
      "epoch: 08, loss: -0.03963\n",
      "epoch: 09, loss: -0.03988\n",
      "torch.Size([375, 64])\n"
     ]
    },
    {
     "name": "stderr",
     "output_type": "stream",
     "text": [
      "\r",
      " 34%|██████████████████████████████████████████████████████▏                                                                                                        | 341/1000 [2:22:56<4:14:33, 23.18s/it]"
     ]
    },
    {
     "name": "stdout",
     "output_type": "stream",
     "text": [
      "eigenvalues shape torch.Size([5]) eigenvectors shape torch.Size([5, 375])\n",
      "341 /home/phdcs2/Hard_Disk/Datasets/Deep-Spectral-Segmentation/data/object-segmentation/ECSSD/features/dino_vits16/0342.pth\n",
      "dict_keys(['k', 'indices', 'file', 'id', 'model_name', 'patch_size', 'shape'])\n",
      "0342\n",
      "Starting Training\n",
      "epoch: 00, loss: -0.03840\n",
      "epoch: 01, loss: -0.06764\n",
      "epoch: 02, loss: -0.06903\n",
      "epoch: 03, loss: -0.07083\n",
      "epoch: 04, loss: -0.07026\n",
      "epoch: 05, loss: -0.07334\n",
      "epoch: 06, loss: -0.07219\n",
      "epoch: 07, loss: -0.07394\n",
      "epoch: 08, loss: -0.07255\n",
      "epoch: 09, loss: -0.07309\n",
      "torch.Size([450, 64])\n"
     ]
    },
    {
     "name": "stderr",
     "output_type": "stream",
     "text": [
      "\r",
      " 34%|██████████████████████████████████████████████████████▍                                                                                                        | 342/1000 [2:23:20<4:18:16, 23.55s/it]"
     ]
    },
    {
     "name": "stdout",
     "output_type": "stream",
     "text": [
      "eigenvalues shape torch.Size([5]) eigenvectors shape torch.Size([5, 450])\n",
      "342 /home/phdcs2/Hard_Disk/Datasets/Deep-Spectral-Segmentation/data/object-segmentation/ECSSD/features/dino_vits16/0343.pth\n",
      "dict_keys(['k', 'indices', 'file', 'id', 'model_name', 'patch_size', 'shape'])\n",
      "0343\n",
      "Starting Training\n",
      "epoch: 00, loss: -0.01937\n",
      "epoch: 01, loss: -0.04396\n",
      "epoch: 02, loss: -0.04799\n",
      "epoch: 03, loss: -0.05071\n",
      "epoch: 04, loss: -0.05235\n",
      "epoch: 05, loss: -0.05294\n",
      "epoch: 06, loss: -0.05411\n",
      "epoch: 07, loss: -0.05372\n",
      "epoch: 08, loss: -0.05366\n",
      "epoch: 09, loss: -0.05301\n",
      "torch.Size([500, 64])\n"
     ]
    },
    {
     "name": "stderr",
     "output_type": "stream",
     "text": [
      "\r",
      " 34%|██████████████████████████████████████████████████████▌                                                                                                        | 343/1000 [2:23:52<4:47:06, 26.22s/it]"
     ]
    },
    {
     "name": "stdout",
     "output_type": "stream",
     "text": [
      "eigenvalues shape torch.Size([5]) eigenvectors shape torch.Size([5, 500])\n",
      "343 /home/phdcs2/Hard_Disk/Datasets/Deep-Spectral-Segmentation/data/object-segmentation/ECSSD/features/dino_vits16/0344.pth\n",
      "dict_keys(['k', 'indices', 'file', 'id', 'model_name', 'patch_size', 'shape'])\n",
      "0344\n",
      "Starting Training\n",
      "epoch: 00, loss: -0.00825\n",
      "epoch: 01, loss: -0.02734\n",
      "epoch: 02, loss: -0.03152\n",
      "epoch: 03, loss: -0.03300\n",
      "epoch: 04, loss: -0.03354\n",
      "epoch: 05, loss: -0.03364\n",
      "epoch: 06, loss: -0.03390\n",
      "epoch: 07, loss: -0.03427\n",
      "epoch: 08, loss: -0.03432\n",
      "epoch: 09, loss: -0.03444\n",
      "torch.Size([450, 64])\n"
     ]
    },
    {
     "name": "stderr",
     "output_type": "stream",
     "text": [
      "\r",
      " 34%|██████████████████████████████████████████████████████▋                                                                                                        | 344/1000 [2:24:17<4:41:58, 25.79s/it]"
     ]
    },
    {
     "name": "stdout",
     "output_type": "stream",
     "text": [
      "eigenvalues shape torch.Size([5]) eigenvectors shape torch.Size([5, 450])\n",
      "344 /home/phdcs2/Hard_Disk/Datasets/Deep-Spectral-Segmentation/data/object-segmentation/ECSSD/features/dino_vits16/0345.pth\n",
      "dict_keys(['k', 'indices', 'file', 'id', 'model_name', 'patch_size', 'shape'])\n",
      "0345\n",
      "Starting Training\n",
      "epoch: 00, loss: -0.03020\n",
      "epoch: 01, loss: -0.05503\n",
      "epoch: 02, loss: -0.06072\n",
      "epoch: 03, loss: -0.05893\n",
      "epoch: 04, loss: -0.06332\n",
      "epoch: 05, loss: -0.06203\n",
      "epoch: 06, loss: -0.06118\n",
      "epoch: 07, loss: -0.06125\n",
      "epoch: 08, loss: -0.06496\n",
      "epoch: 09, loss: -0.06196\n",
      "torch.Size([500, 64])\n"
     ]
    },
    {
     "name": "stderr",
     "output_type": "stream",
     "text": [
      "\r",
      " 34%|██████████████████████████████████████████████████████▊                                                                                                        | 345/1000 [2:24:44<4:43:18, 25.95s/it]"
     ]
    },
    {
     "name": "stdout",
     "output_type": "stream",
     "text": [
      "eigenvalues shape torch.Size([5]) eigenvectors shape torch.Size([5, 500])\n",
      "345 /home/phdcs2/Hard_Disk/Datasets/Deep-Spectral-Segmentation/data/object-segmentation/ECSSD/features/dino_vits16/0346.pth\n",
      "dict_keys(['k', 'indices', 'file', 'id', 'model_name', 'patch_size', 'shape'])\n",
      "0346\n",
      "Starting Training\n",
      "epoch: 00, loss: -0.16187\n",
      "epoch: 01, loss: -0.19744\n",
      "epoch: 02, loss: -0.19969\n",
      "epoch: 03, loss: -0.20342\n",
      "epoch: 04, loss: -0.20621\n",
      "epoch: 05, loss: -0.20578\n",
      "epoch: 06, loss: -0.20860\n",
      "epoch: 07, loss: -0.20892\n",
      "epoch: 08, loss: -0.21033\n",
      "epoch: 09, loss: -0.21294\n",
      "torch.Size([450, 64])\n"
     ]
    },
    {
     "name": "stderr",
     "output_type": "stream",
     "text": [
      "\r",
      " 35%|███████████████████████████████████████████████████████                                                                                                        | 346/1000 [2:25:09<4:40:46, 25.76s/it]"
     ]
    },
    {
     "name": "stdout",
     "output_type": "stream",
     "text": [
      "eigenvalues shape torch.Size([5]) eigenvectors shape torch.Size([5, 450])\n",
      "346 /home/phdcs2/Hard_Disk/Datasets/Deep-Spectral-Segmentation/data/object-segmentation/ECSSD/features/dino_vits16/0347.pth\n",
      "dict_keys(['k', 'indices', 'file', 'id', 'model_name', 'patch_size', 'shape'])\n",
      "0347\n",
      "Starting Training\n",
      "epoch: 00, loss: -0.00787\n",
      "epoch: 01, loss: -0.02530\n",
      "epoch: 02, loss: -0.02850\n",
      "epoch: 03, loss: -0.02966\n",
      "epoch: 04, loss: -0.02981\n",
      "epoch: 05, loss: -0.02999\n",
      "epoch: 06, loss: -0.03033\n",
      "epoch: 07, loss: -0.03040\n",
      "epoch: 08, loss: -0.03059\n",
      "epoch: 09, loss: -0.03065\n",
      "torch.Size([450, 64])\n"
     ]
    },
    {
     "name": "stderr",
     "output_type": "stream",
     "text": [
      "\r",
      " 35%|███████████████████████████████████████████████████████▏                                                                                                       | 347/1000 [2:25:34<4:39:14, 25.66s/it]"
     ]
    },
    {
     "name": "stdout",
     "output_type": "stream",
     "text": [
      "eigenvalues shape torch.Size([5]) eigenvectors shape torch.Size([5, 450])\n",
      "347 /home/phdcs2/Hard_Disk/Datasets/Deep-Spectral-Segmentation/data/object-segmentation/ECSSD/features/dino_vits16/0348.pth\n",
      "dict_keys(['k', 'indices', 'file', 'id', 'model_name', 'patch_size', 'shape'])\n",
      "0348\n",
      "Starting Training\n",
      "epoch: 00, loss: -0.05675\n",
      "epoch: 01, loss: -0.08971\n",
      "epoch: 02, loss: -0.09459\n",
      "epoch: 03, loss: -0.09371\n",
      "epoch: 04, loss: -0.09726\n",
      "epoch: 05, loss: -0.09733\n",
      "epoch: 06, loss: -0.09700\n",
      "epoch: 07, loss: -0.09781\n",
      "epoch: 08, loss: -0.09862\n",
      "epoch: 09, loss: -0.09933\n",
      "torch.Size([400, 64])\n"
     ]
    },
    {
     "name": "stderr",
     "output_type": "stream",
     "text": [
      "\r",
      " 35%|███████████████████████████████████████████████████████▎                                                                                                       | 348/1000 [2:26:00<4:39:29, 25.72s/it]"
     ]
    },
    {
     "name": "stdout",
     "output_type": "stream",
     "text": [
      "eigenvalues shape torch.Size([5]) eigenvectors shape torch.Size([5, 400])\n",
      "348 /home/phdcs2/Hard_Disk/Datasets/Deep-Spectral-Segmentation/data/object-segmentation/ECSSD/features/dino_vits16/0349.pth\n",
      "dict_keys(['k', 'indices', 'file', 'id', 'model_name', 'patch_size', 'shape'])\n",
      "0349\n",
      "Starting Training\n",
      "epoch: 00, loss: -0.06224\n",
      "epoch: 01, loss: -0.09046\n",
      "epoch: 02, loss: -0.09153\n",
      "epoch: 03, loss: -0.09183\n",
      "epoch: 04, loss: -0.09232\n",
      "epoch: 05, loss: -0.09244\n",
      "epoch: 06, loss: -0.09278\n",
      "epoch: 07, loss: -0.09283\n",
      "epoch: 08, loss: -0.09274\n",
      "epoch: 09, loss: -0.09291\n",
      "torch.Size([400, 64])\n"
     ]
    },
    {
     "name": "stderr",
     "output_type": "stream",
     "text": [
      "\r",
      " 35%|███████████████████████████████████████████████████████▍                                                                                                       | 349/1000 [2:26:24<4:31:30, 25.02s/it]"
     ]
    },
    {
     "name": "stdout",
     "output_type": "stream",
     "text": [
      "eigenvalues shape torch.Size([5]) eigenvectors shape torch.Size([5, 400])\n",
      "349 /home/phdcs2/Hard_Disk/Datasets/Deep-Spectral-Segmentation/data/object-segmentation/ECSSD/features/dino_vits16/0350.pth\n",
      "dict_keys(['k', 'indices', 'file', 'id', 'model_name', 'patch_size', 'shape'])\n",
      "0350\n",
      "Starting Training\n",
      "epoch: 00, loss: -0.01380\n",
      "epoch: 01, loss: -0.03703\n",
      "epoch: 02, loss: -0.03874\n",
      "epoch: 03, loss: -0.04233\n",
      "epoch: 04, loss: -0.04019\n",
      "epoch: 05, loss: -0.04186\n",
      "epoch: 06, loss: -0.04494\n",
      "epoch: 07, loss: -0.04338\n",
      "epoch: 08, loss: -0.04227\n",
      "epoch: 09, loss: -0.04180\n",
      "torch.Size([475, 64])\n"
     ]
    },
    {
     "name": "stderr",
     "output_type": "stream",
     "text": [
      "\r",
      " 35%|███████████████████████████████████████████████████████▋                                                                                                       | 350/1000 [2:26:52<4:42:33, 26.08s/it]"
     ]
    },
    {
     "name": "stdout",
     "output_type": "stream",
     "text": [
      "eigenvalues shape torch.Size([5]) eigenvectors shape torch.Size([5, 475])\n",
      "350 /home/phdcs2/Hard_Disk/Datasets/Deep-Spectral-Segmentation/data/object-segmentation/ECSSD/features/dino_vits16/0351.pth\n",
      "dict_keys(['k', 'indices', 'file', 'id', 'model_name', 'patch_size', 'shape'])\n",
      "0351\n",
      "Starting Training\n",
      "epoch: 00, loss: -0.05476\n",
      "epoch: 01, loss: -0.07777\n",
      "epoch: 02, loss: -0.07854\n",
      "epoch: 03, loss: -0.07947\n",
      "epoch: 04, loss: -0.08018\n",
      "epoch: 05, loss: -0.08008\n",
      "epoch: 06, loss: -0.08029\n",
      "epoch: 07, loss: -0.07969\n",
      "epoch: 08, loss: -0.08037\n",
      "epoch: 09, loss: -0.08035\n",
      "torch.Size([450, 64])\n"
     ]
    },
    {
     "name": "stderr",
     "output_type": "stream",
     "text": [
      "\r",
      " 35%|███████████████████████████████████████████████████████▊                                                                                                       | 351/1000 [2:27:23<4:58:47, 27.62s/it]"
     ]
    },
    {
     "name": "stdout",
     "output_type": "stream",
     "text": [
      "eigenvalues shape torch.Size([5]) eigenvectors shape torch.Size([5, 450])\n",
      "351 /home/phdcs2/Hard_Disk/Datasets/Deep-Spectral-Segmentation/data/object-segmentation/ECSSD/features/dino_vits16/0352.pth\n",
      "dict_keys(['k', 'indices', 'file', 'id', 'model_name', 'patch_size', 'shape'])\n",
      "0352\n",
      "Starting Training\n",
      "epoch: 00, loss: -0.01020\n",
      "epoch: 01, loss: -0.02622\n",
      "epoch: 02, loss: -0.02934\n",
      "epoch: 03, loss: -0.02995\n",
      "epoch: 04, loss: -0.03028\n",
      "epoch: 05, loss: -0.03071\n",
      "epoch: 06, loss: -0.03102\n",
      "epoch: 07, loss: -0.03107\n",
      "epoch: 08, loss: -0.03144\n",
      "epoch: 09, loss: -0.03132\n",
      "torch.Size([400, 64])\n"
     ]
    },
    {
     "name": "stderr",
     "output_type": "stream",
     "text": [
      "\r",
      " 35%|███████████████████████████████████████████████████████▉                                                                                                       | 352/1000 [2:27:44<4:37:01, 25.65s/it]"
     ]
    },
    {
     "name": "stdout",
     "output_type": "stream",
     "text": [
      "eigenvalues shape torch.Size([5]) eigenvectors shape torch.Size([5, 400])\n",
      "352 /home/phdcs2/Hard_Disk/Datasets/Deep-Spectral-Segmentation/data/object-segmentation/ECSSD/features/dino_vits16/0353.pth\n",
      "dict_keys(['k', 'indices', 'file', 'id', 'model_name', 'patch_size', 'shape'])\n",
      "0353\n",
      "Starting Training\n",
      "epoch: 00, loss: -0.02675\n",
      "epoch: 01, loss: -0.04795\n",
      "epoch: 02, loss: -0.04901\n",
      "epoch: 03, loss: -0.05063\n",
      "epoch: 04, loss: -0.05069\n",
      "epoch: 05, loss: -0.05171\n",
      "epoch: 06, loss: -0.05026\n",
      "epoch: 07, loss: -0.05140\n",
      "epoch: 08, loss: -0.05071\n",
      "epoch: 09, loss: -0.05059\n",
      "torch.Size([425, 64])\n"
     ]
    },
    {
     "name": "stderr",
     "output_type": "stream",
     "text": [
      "\r",
      " 35%|████████████████████████████████████████████████████████▏                                                                                                      | 353/1000 [2:28:13<4:46:02, 26.53s/it]"
     ]
    },
    {
     "name": "stdout",
     "output_type": "stream",
     "text": [
      "eigenvalues shape torch.Size([5]) eigenvectors shape torch.Size([5, 425])\n",
      "353 /home/phdcs2/Hard_Disk/Datasets/Deep-Spectral-Segmentation/data/object-segmentation/ECSSD/features/dino_vits16/0354.pth\n",
      "dict_keys(['k', 'indices', 'file', 'id', 'model_name', 'patch_size', 'shape'])\n",
      "0354\n",
      "Starting Training\n",
      "epoch: 00, loss: -0.06847\n",
      "epoch: 01, loss: -0.09066\n",
      "epoch: 02, loss: -0.09438\n",
      "epoch: 03, loss: -0.09176\n",
      "epoch: 04, loss: -0.09359\n",
      "epoch: 05, loss: -0.09235\n",
      "epoch: 06, loss: -0.09403\n",
      "epoch: 07, loss: -0.09506\n",
      "epoch: 08, loss: -0.09713\n",
      "epoch: 09, loss: -0.09492\n",
      "torch.Size([575, 64])\n"
     ]
    },
    {
     "name": "stderr",
     "output_type": "stream",
     "text": [
      "\r",
      " 35%|████████████████████████████████████████████████████████▎                                                                                                      | 354/1000 [2:28:56<5:39:01, 31.49s/it]"
     ]
    },
    {
     "name": "stdout",
     "output_type": "stream",
     "text": [
      "eigenvalues shape torch.Size([5]) eigenvectors shape torch.Size([5, 575])\n",
      "354 /home/phdcs2/Hard_Disk/Datasets/Deep-Spectral-Segmentation/data/object-segmentation/ECSSD/features/dino_vits16/0355.pth\n",
      "dict_keys(['k', 'indices', 'file', 'id', 'model_name', 'patch_size', 'shape'])\n",
      "0355\n",
      "Starting Training\n",
      "epoch: 00, loss: -0.02985\n",
      "epoch: 01, loss: -0.05464\n",
      "epoch: 02, loss: -0.06040\n",
      "epoch: 03, loss: -0.06248\n",
      "epoch: 04, loss: -0.06460\n",
      "epoch: 05, loss: -0.06363\n",
      "epoch: 06, loss: -0.06425\n",
      "epoch: 07, loss: -0.06574\n",
      "epoch: 08, loss: -0.06341\n",
      "epoch: 09, loss: -0.06535\n",
      "torch.Size([450, 64])\n"
     ]
    },
    {
     "name": "stderr",
     "output_type": "stream",
     "text": [
      "\r",
      " 36%|████████████████████████████████████████████████████████▍                                                                                                      | 355/1000 [2:29:34<5:59:39, 33.46s/it]"
     ]
    },
    {
     "name": "stdout",
     "output_type": "stream",
     "text": [
      "eigenvalues shape torch.Size([5]) eigenvectors shape torch.Size([5, 450])\n",
      "355 /home/phdcs2/Hard_Disk/Datasets/Deep-Spectral-Segmentation/data/object-segmentation/ECSSD/features/dino_vits16/0356.pth\n",
      "dict_keys(['k', 'indices', 'file', 'id', 'model_name', 'patch_size', 'shape'])\n",
      "0356\n",
      "Starting Training\n",
      "epoch: 00, loss: -0.02484\n",
      "epoch: 01, loss: -0.05492\n",
      "epoch: 02, loss: -0.06381\n",
      "epoch: 03, loss: -0.06300\n",
      "epoch: 04, loss: -0.06348\n",
      "epoch: 05, loss: -0.06599\n",
      "epoch: 06, loss: -0.06307\n",
      "epoch: 07, loss: -0.06591\n",
      "epoch: 08, loss: -0.06729\n",
      "epoch: 09, loss: -0.06601\n",
      "torch.Size([450, 64])\n"
     ]
    },
    {
     "name": "stderr",
     "output_type": "stream",
     "text": [
      "\r",
      " 36%|████████████████████████████████████████████████████████▌                                                                                                      | 356/1000 [2:30:02<5:41:00, 31.77s/it]"
     ]
    },
    {
     "name": "stdout",
     "output_type": "stream",
     "text": [
      "eigenvalues shape torch.Size([5]) eigenvectors shape torch.Size([5, 450])\n",
      "356 /home/phdcs2/Hard_Disk/Datasets/Deep-Spectral-Segmentation/data/object-segmentation/ECSSD/features/dino_vits16/0357.pth\n",
      "dict_keys(['k', 'indices', 'file', 'id', 'model_name', 'patch_size', 'shape'])\n",
      "0357\n",
      "Starting Training\n",
      "epoch: 00, loss: -0.02534\n",
      "epoch: 01, loss: -0.03880\n",
      "epoch: 02, loss: -0.04108\n",
      "epoch: 03, loss: -0.04131\n",
      "epoch: 04, loss: -0.04157\n",
      "epoch: 05, loss: -0.04152\n",
      "epoch: 06, loss: -0.04238\n",
      "epoch: 07, loss: -0.04364\n",
      "epoch: 08, loss: -0.04273\n",
      "epoch: 09, loss: -0.04340\n",
      "torch.Size([475, 64])\n"
     ]
    },
    {
     "name": "stderr",
     "output_type": "stream",
     "text": [
      "\r",
      " 36%|████████████████████████████████████████████████████████▊                                                                                                      | 357/1000 [2:30:30<5:28:44, 30.68s/it]"
     ]
    },
    {
     "name": "stdout",
     "output_type": "stream",
     "text": [
      "eigenvalues shape torch.Size([5]) eigenvectors shape torch.Size([5, 475])\n",
      "357 /home/phdcs2/Hard_Disk/Datasets/Deep-Spectral-Segmentation/data/object-segmentation/ECSSD/features/dino_vits16/0358.pth\n",
      "dict_keys(['k', 'indices', 'file', 'id', 'model_name', 'patch_size', 'shape'])\n",
      "0358\n",
      "Starting Training\n",
      "epoch: 00, loss: -0.03063\n",
      "epoch: 01, loss: -0.04596\n",
      "epoch: 02, loss: -0.04890\n",
      "epoch: 03, loss: -0.05587\n",
      "epoch: 04, loss: -0.05396\n",
      "epoch: 05, loss: -0.05583\n",
      "epoch: 06, loss: -0.05322\n",
      "epoch: 07, loss: -0.05761\n",
      "epoch: 08, loss: -0.05319\n",
      "epoch: 09, loss: -0.05504\n",
      "torch.Size([400, 64])\n"
     ]
    },
    {
     "name": "stderr",
     "output_type": "stream",
     "text": [
      "\r",
      " 36%|████████████████████████████████████████████████████████▉                                                                                                      | 358/1000 [2:30:54<5:07:47, 28.77s/it]"
     ]
    },
    {
     "name": "stdout",
     "output_type": "stream",
     "text": [
      "eigenvalues shape torch.Size([5]) eigenvectors shape torch.Size([5, 400])\n",
      "358 /home/phdcs2/Hard_Disk/Datasets/Deep-Spectral-Segmentation/data/object-segmentation/ECSSD/features/dino_vits16/0359.pth\n",
      "dict_keys(['k', 'indices', 'file', 'id', 'model_name', 'patch_size', 'shape'])\n",
      "0359\n",
      "Starting Training\n",
      "epoch: 00, loss: -0.01808\n",
      "epoch: 01, loss: -0.04338\n",
      "epoch: 02, loss: -0.04888\n",
      "epoch: 03, loss: -0.04875\n",
      "epoch: 04, loss: -0.05107\n",
      "epoch: 05, loss: -0.05230\n",
      "epoch: 06, loss: -0.05331\n",
      "epoch: 07, loss: -0.05247\n",
      "epoch: 08, loss: -0.05524\n",
      "epoch: 09, loss: -0.05487\n",
      "torch.Size([350, 64])\n"
     ]
    },
    {
     "name": "stderr",
     "output_type": "stream",
     "text": [
      "\r",
      " 36%|█████████████████████████████████████████████████████████                                                                                                      | 359/1000 [2:31:13<4:34:20, 25.68s/it]"
     ]
    },
    {
     "name": "stdout",
     "output_type": "stream",
     "text": [
      "eigenvalues shape torch.Size([5]) eigenvectors shape torch.Size([5, 350])\n",
      "359 /home/phdcs2/Hard_Disk/Datasets/Deep-Spectral-Segmentation/data/object-segmentation/ECSSD/features/dino_vits16/0360.pth\n",
      "dict_keys(['k', 'indices', 'file', 'id', 'model_name', 'patch_size', 'shape'])\n",
      "0360\n",
      "Starting Training\n",
      "epoch: 00, loss: -0.01437\n",
      "epoch: 01, loss: -0.04052\n",
      "epoch: 02, loss: -0.04409\n",
      "epoch: 03, loss: -0.04610\n",
      "epoch: 04, loss: -0.04450\n",
      "epoch: 05, loss: -0.04614\n",
      "epoch: 06, loss: -0.04674\n",
      "epoch: 07, loss: -0.04888\n",
      "epoch: 08, loss: -0.04927\n",
      "epoch: 09, loss: -0.04961\n",
      "torch.Size([400, 64])\n"
     ]
    },
    {
     "name": "stderr",
     "output_type": "stream",
     "text": [
      "\r",
      " 36%|█████████████████████████████████████████████████████████▏                                                                                                     | 360/1000 [2:31:34<4:21:08, 24.48s/it]"
     ]
    },
    {
     "name": "stdout",
     "output_type": "stream",
     "text": [
      "eigenvalues shape torch.Size([5]) eigenvectors shape torch.Size([5, 400])\n",
      "360 /home/phdcs2/Hard_Disk/Datasets/Deep-Spectral-Segmentation/data/object-segmentation/ECSSD/features/dino_vits16/0361.pth\n",
      "dict_keys(['k', 'indices', 'file', 'id', 'model_name', 'patch_size', 'shape'])\n",
      "0361\n",
      "Starting Training\n",
      "epoch: 00, loss: -0.05961\n",
      "epoch: 01, loss: -0.09099\n",
      "epoch: 02, loss: -0.09274\n",
      "epoch: 03, loss: -0.09346\n",
      "epoch: 04, loss: -0.09678\n",
      "epoch: 05, loss: -0.09740\n",
      "epoch: 06, loss: -0.09768\n",
      "epoch: 07, loss: -0.09812\n",
      "epoch: 08, loss: -0.09771\n",
      "epoch: 09, loss: -0.09943\n",
      "torch.Size([400, 64])\n"
     ]
    },
    {
     "name": "stderr",
     "output_type": "stream",
     "text": [
      "\r",
      " 36%|█████████████████████████████████████████████████████████▍                                                                                                     | 361/1000 [2:31:59<4:20:30, 24.46s/it]"
     ]
    },
    {
     "name": "stdout",
     "output_type": "stream",
     "text": [
      "eigenvalues shape torch.Size([5]) eigenvectors shape torch.Size([5, 400])\n",
      "361 /home/phdcs2/Hard_Disk/Datasets/Deep-Spectral-Segmentation/data/object-segmentation/ECSSD/features/dino_vits16/0362.pth\n",
      "dict_keys(['k', 'indices', 'file', 'id', 'model_name', 'patch_size', 'shape'])\n",
      "0362\n",
      "Starting Training\n",
      "epoch: 00, loss: -0.07693\n",
      "epoch: 01, loss: -0.10022\n",
      "epoch: 02, loss: -0.10105\n",
      "epoch: 03, loss: -0.10110\n",
      "epoch: 04, loss: -0.10134\n",
      "epoch: 05, loss: -0.10145\n",
      "epoch: 06, loss: -0.10153\n",
      "epoch: 07, loss: -0.10147\n",
      "epoch: 08, loss: -0.10172\n",
      "epoch: 09, loss: -0.10172\n",
      "torch.Size([500, 64])\n"
     ]
    },
    {
     "name": "stderr",
     "output_type": "stream",
     "text": [
      "\r",
      " 36%|█████████████████████████████████████████████████████████▌                                                                                                     | 362/1000 [2:32:28<4:35:58, 25.95s/it]"
     ]
    },
    {
     "name": "stdout",
     "output_type": "stream",
     "text": [
      "eigenvalues shape torch.Size([5]) eigenvectors shape torch.Size([5, 500])\n",
      "362 /home/phdcs2/Hard_Disk/Datasets/Deep-Spectral-Segmentation/data/object-segmentation/ECSSD/features/dino_vits16/0363.pth\n",
      "dict_keys(['k', 'indices', 'file', 'id', 'model_name', 'patch_size', 'shape'])\n",
      "0363\n",
      "Starting Training\n",
      "epoch: 00, loss: -0.10021\n",
      "epoch: 01, loss: -0.11002\n",
      "epoch: 02, loss: -0.11026\n",
      "epoch: 03, loss: -0.11067\n",
      "epoch: 04, loss: -0.11205\n",
      "epoch: 05, loss: -0.11158\n",
      "epoch: 06, loss: -0.11235\n",
      "epoch: 07, loss: -0.11142\n",
      "epoch: 08, loss: -0.11239\n",
      "epoch: 09, loss: -0.11154\n",
      "torch.Size([625, 64])\n"
     ]
    },
    {
     "name": "stderr",
     "output_type": "stream",
     "text": [
      "\r",
      " 36%|█████████████████████████████████████████████████████████▋                                                                                                     | 363/1000 [2:33:19<5:53:27, 33.29s/it]"
     ]
    },
    {
     "name": "stdout",
     "output_type": "stream",
     "text": [
      "eigenvalues shape torch.Size([5]) eigenvectors shape torch.Size([5, 625])\n",
      "363 /home/phdcs2/Hard_Disk/Datasets/Deep-Spectral-Segmentation/data/object-segmentation/ECSSD/features/dino_vits16/0364.pth\n",
      "dict_keys(['k', 'indices', 'file', 'id', 'model_name', 'patch_size', 'shape'])\n",
      "0364\n",
      "Starting Training\n",
      "epoch: 00, loss: -0.01705\n",
      "epoch: 01, loss: -0.03079\n",
      "epoch: 02, loss: -0.03273\n",
      "epoch: 03, loss: -0.03373\n",
      "epoch: 04, loss: -0.03404\n",
      "epoch: 05, loss: -0.03449\n",
      "epoch: 06, loss: -0.03477\n",
      "epoch: 07, loss: -0.03470\n",
      "epoch: 08, loss: -0.03490\n",
      "epoch: 09, loss: -0.03511\n",
      "torch.Size([450, 64])\n"
     ]
    },
    {
     "name": "stderr",
     "output_type": "stream",
     "text": [
      "\r",
      " 36%|█████████████████████████████████████████████████████████▉                                                                                                     | 364/1000 [2:33:43<5:24:26, 30.61s/it]"
     ]
    },
    {
     "name": "stdout",
     "output_type": "stream",
     "text": [
      "eigenvalues shape torch.Size([5]) eigenvectors shape torch.Size([5, 450])\n",
      "364 /home/phdcs2/Hard_Disk/Datasets/Deep-Spectral-Segmentation/data/object-segmentation/ECSSD/features/dino_vits16/0365.pth\n",
      "dict_keys(['k', 'indices', 'file', 'id', 'model_name', 'patch_size', 'shape'])\n",
      "0365\n",
      "Starting Training\n",
      "epoch: 00, loss: -0.04673\n",
      "epoch: 01, loss: -0.08231\n",
      "epoch: 02, loss: -0.08453\n",
      "epoch: 03, loss: -0.08787\n",
      "epoch: 04, loss: -0.08789\n",
      "epoch: 05, loss: -0.08798\n",
      "epoch: 06, loss: -0.08825\n",
      "epoch: 07, loss: -0.08996\n",
      "epoch: 08, loss: -0.09001\n",
      "epoch: 09, loss: -0.08896\n",
      "torch.Size([450, 64])\n"
     ]
    },
    {
     "name": "stderr",
     "output_type": "stream",
     "text": [
      "\r",
      " 36%|██████████████████████████████████████████████████████████                                                                                                     | 365/1000 [2:34:06<5:00:21, 28.38s/it]"
     ]
    },
    {
     "name": "stdout",
     "output_type": "stream",
     "text": [
      "eigenvalues shape torch.Size([5]) eigenvectors shape torch.Size([5, 450])\n",
      "365 /home/phdcs2/Hard_Disk/Datasets/Deep-Spectral-Segmentation/data/object-segmentation/ECSSD/features/dino_vits16/0366.pth\n",
      "dict_keys(['k', 'indices', 'file', 'id', 'model_name', 'patch_size', 'shape'])\n",
      "0366\n",
      "Starting Training\n",
      "epoch: 00, loss: -0.06820\n",
      "epoch: 01, loss: -0.09152\n",
      "epoch: 02, loss: -0.09414\n",
      "epoch: 03, loss: -0.09481\n",
      "epoch: 04, loss: -0.09504\n",
      "epoch: 05, loss: -0.09720\n",
      "epoch: 06, loss: -0.09608\n",
      "epoch: 07, loss: -0.09715\n",
      "epoch: 08, loss: -0.09696\n",
      "epoch: 09, loss: -0.09602\n",
      "torch.Size([500, 64])\n"
     ]
    },
    {
     "name": "stderr",
     "output_type": "stream",
     "text": [
      "\r",
      " 37%|██████████████████████████████████████████████████████████▏                                                                                                    | 366/1000 [2:34:31<4:48:26, 27.30s/it]"
     ]
    },
    {
     "name": "stdout",
     "output_type": "stream",
     "text": [
      "eigenvalues shape torch.Size([5]) eigenvectors shape torch.Size([5, 500])\n",
      "366 /home/phdcs2/Hard_Disk/Datasets/Deep-Spectral-Segmentation/data/object-segmentation/ECSSD/features/dino_vits16/0367.pth\n",
      "dict_keys(['k', 'indices', 'file', 'id', 'model_name', 'patch_size', 'shape'])\n",
      "0367\n",
      "Starting Training\n",
      "epoch: 00, loss: -0.03608\n",
      "epoch: 01, loss: -0.05641\n",
      "epoch: 02, loss: -0.05749\n",
      "epoch: 03, loss: -0.06177\n",
      "epoch: 04, loss: -0.06196\n",
      "epoch: 05, loss: -0.06182\n",
      "epoch: 06, loss: -0.06364\n",
      "epoch: 07, loss: -0.06178\n",
      "epoch: 08, loss: -0.06326\n",
      "epoch: 09, loss: -0.06315\n",
      "torch.Size([400, 64])\n"
     ]
    },
    {
     "name": "stderr",
     "output_type": "stream",
     "text": [
      "\r",
      " 37%|██████████████████████████████████████████████████████████▎                                                                                                    | 367/1000 [2:34:52<4:27:54, 25.39s/it]"
     ]
    },
    {
     "name": "stdout",
     "output_type": "stream",
     "text": [
      "eigenvalues shape torch.Size([5]) eigenvectors shape torch.Size([5, 400])\n",
      "367 /home/phdcs2/Hard_Disk/Datasets/Deep-Spectral-Segmentation/data/object-segmentation/ECSSD/features/dino_vits16/0368.pth\n",
      "dict_keys(['k', 'indices', 'file', 'id', 'model_name', 'patch_size', 'shape'])\n",
      "0368\n",
      "Starting Training\n",
      "epoch: 00, loss: -0.00025\n",
      "epoch: 01, loss: -0.01725\n",
      "epoch: 02, loss: -0.02249\n",
      "epoch: 03, loss: -0.02444\n",
      "epoch: 04, loss: -0.02518\n",
      "epoch: 05, loss: -0.02573\n",
      "epoch: 06, loss: -0.02596\n",
      "epoch: 07, loss: -0.02629\n",
      "epoch: 08, loss: -0.02634\n",
      "epoch: 09, loss: -0.02647\n",
      "torch.Size([400, 64])\n"
     ]
    },
    {
     "name": "stderr",
     "output_type": "stream",
     "text": [
      "\r",
      " 37%|██████████████████████████████████████████████████████████▌                                                                                                    | 368/1000 [2:35:14<4:17:07, 24.41s/it]"
     ]
    },
    {
     "name": "stdout",
     "output_type": "stream",
     "text": [
      "eigenvalues shape torch.Size([5]) eigenvectors shape torch.Size([5, 400])\n",
      "368 /home/phdcs2/Hard_Disk/Datasets/Deep-Spectral-Segmentation/data/object-segmentation/ECSSD/features/dino_vits16/0369.pth\n",
      "dict_keys(['k', 'indices', 'file', 'id', 'model_name', 'patch_size', 'shape'])\n",
      "0369\n",
      "Starting Training\n",
      "epoch: 00, loss: -0.02947\n",
      "epoch: 01, loss: -0.05721\n",
      "epoch: 02, loss: -0.06175\n",
      "epoch: 03, loss: -0.06376\n",
      "epoch: 04, loss: -0.06499\n",
      "epoch: 05, loss: -0.06300\n",
      "epoch: 06, loss: -0.06325\n",
      "epoch: 07, loss: -0.06724\n",
      "epoch: 08, loss: -0.06792\n",
      "epoch: 09, loss: -0.06582\n",
      "torch.Size([400, 64])\n"
     ]
    },
    {
     "name": "stderr",
     "output_type": "stream",
     "text": [
      "\r",
      " 37%|██████████████████████████████████████████████████████████▋                                                                                                    | 369/1000 [2:35:38<4:15:49, 24.33s/it]"
     ]
    },
    {
     "name": "stdout",
     "output_type": "stream",
     "text": [
      "eigenvalues shape torch.Size([5]) eigenvectors shape torch.Size([5, 400])\n",
      "369 /home/phdcs2/Hard_Disk/Datasets/Deep-Spectral-Segmentation/data/object-segmentation/ECSSD/features/dino_vits16/0370.pth\n",
      "dict_keys(['k', 'indices', 'file', 'id', 'model_name', 'patch_size', 'shape'])\n",
      "0370\n",
      "Starting Training\n",
      "epoch: 00, loss: 0.00687\n",
      "epoch: 01, loss: -0.00047\n",
      "epoch: 02, loss: -0.00398\n",
      "epoch: 03, loss: -0.00582\n",
      "epoch: 04, loss: -0.00720\n",
      "epoch: 05, loss: -0.00807\n",
      "epoch: 06, loss: -0.00855\n",
      "epoch: 07, loss: -0.00894\n",
      "epoch: 08, loss: -0.00924\n",
      "epoch: 09, loss: -0.00947\n",
      "torch.Size([600, 64])\n"
     ]
    },
    {
     "name": "stderr",
     "output_type": "stream",
     "text": [
      "\r",
      " 37%|██████████████████████████████████████████████████████████▊                                                                                                    | 370/1000 [2:36:20<5:10:06, 29.53s/it]"
     ]
    },
    {
     "name": "stdout",
     "output_type": "stream",
     "text": [
      "eigenvalues shape torch.Size([5]) eigenvectors shape torch.Size([5, 600])\n",
      "370 /home/phdcs2/Hard_Disk/Datasets/Deep-Spectral-Segmentation/data/object-segmentation/ECSSD/features/dino_vits16/0371.pth\n",
      "dict_keys(['k', 'indices', 'file', 'id', 'model_name', 'patch_size', 'shape'])\n",
      "0371\n",
      "Starting Training\n",
      "epoch: 00, loss: -0.03088\n",
      "epoch: 01, loss: -0.05538\n",
      "epoch: 02, loss: -0.05678\n",
      "epoch: 03, loss: -0.05747\n",
      "epoch: 04, loss: -0.05741\n",
      "epoch: 05, loss: -0.05764\n",
      "epoch: 06, loss: -0.05776\n",
      "epoch: 07, loss: -0.05780\n",
      "epoch: 08, loss: -0.05805\n",
      "epoch: 09, loss: -0.05807\n",
      "torch.Size([550, 64])\n"
     ]
    },
    {
     "name": "stderr",
     "output_type": "stream",
     "text": [
      "\r",
      " 37%|██████████████████████████████████████████████████████████▉                                                                                                    | 371/1000 [2:37:06<6:00:06, 34.35s/it]"
     ]
    },
    {
     "name": "stdout",
     "output_type": "stream",
     "text": [
      "eigenvalues shape torch.Size([5]) eigenvectors shape torch.Size([5, 550])\n",
      "371 /home/phdcs2/Hard_Disk/Datasets/Deep-Spectral-Segmentation/data/object-segmentation/ECSSD/features/dino_vits16/0372.pth\n",
      "dict_keys(['k', 'indices', 'file', 'id', 'model_name', 'patch_size', 'shape'])\n",
      "0372\n",
      "Starting Training\n",
      "epoch: 00, loss: -0.01078\n",
      "epoch: 01, loss: -0.02270\n",
      "epoch: 02, loss: -0.02695\n",
      "epoch: 03, loss: -0.03046\n",
      "epoch: 04, loss: -0.03206\n",
      "epoch: 05, loss: -0.02898\n",
      "epoch: 06, loss: -0.03151\n",
      "epoch: 07, loss: -0.03271\n",
      "epoch: 08, loss: -0.03196\n",
      "epoch: 09, loss: -0.03466\n",
      "torch.Size([600, 64])\n"
     ]
    },
    {
     "name": "stderr",
     "output_type": "stream",
     "text": [
      "\r",
      " 37%|███████████████████████████████████████████████████████████▏                                                                                                   | 372/1000 [2:37:52<6:38:48, 38.10s/it]"
     ]
    },
    {
     "name": "stdout",
     "output_type": "stream",
     "text": [
      "eigenvalues shape torch.Size([5]) eigenvectors shape torch.Size([5, 600])\n",
      "372 /home/phdcs2/Hard_Disk/Datasets/Deep-Spectral-Segmentation/data/object-segmentation/ECSSD/features/dino_vits16/0373.pth\n",
      "dict_keys(['k', 'indices', 'file', 'id', 'model_name', 'patch_size', 'shape'])\n",
      "0373\n",
      "Starting Training\n",
      "epoch: 00, loss: -0.04485\n",
      "epoch: 01, loss: -0.07238\n",
      "epoch: 02, loss: -0.07381\n",
      "epoch: 03, loss: -0.07421\n",
      "epoch: 04, loss: -0.07418\n",
      "epoch: 05, loss: -0.07469\n",
      "epoch: 06, loss: -0.07459\n",
      "epoch: 07, loss: -0.07480\n",
      "epoch: 08, loss: -0.07484\n",
      "epoch: 09, loss: -0.07506\n",
      "torch.Size([400, 64])\n"
     ]
    },
    {
     "name": "stderr",
     "output_type": "stream",
     "text": [
      "\r",
      " 37%|███████████████████████████████████████████████████████████▎                                                                                                   | 373/1000 [2:38:16<5:54:07, 33.89s/it]"
     ]
    },
    {
     "name": "stdout",
     "output_type": "stream",
     "text": [
      "eigenvalues shape torch.Size([5]) eigenvectors shape torch.Size([5, 400])\n",
      "373 /home/phdcs2/Hard_Disk/Datasets/Deep-Spectral-Segmentation/data/object-segmentation/ECSSD/features/dino_vits16/0374.pth\n",
      "dict_keys(['k', 'indices', 'file', 'id', 'model_name', 'patch_size', 'shape'])\n",
      "0374\n",
      "Starting Training\n",
      "epoch: 00, loss: -0.05045\n",
      "epoch: 01, loss: -0.07351\n",
      "epoch: 02, loss: -0.08156\n",
      "epoch: 03, loss: -0.08304\n",
      "epoch: 04, loss: -0.08110\n",
      "epoch: 05, loss: -0.08332\n",
      "epoch: 06, loss: -0.08305\n",
      "epoch: 07, loss: -0.08516\n",
      "epoch: 08, loss: -0.08455\n",
      "epoch: 09, loss: -0.08416\n",
      "torch.Size([450, 64])\n"
     ]
    },
    {
     "name": "stderr",
     "output_type": "stream",
     "text": [
      "\r",
      " 37%|███████████████████████████████████████████████████████████▍                                                                                                   | 374/1000 [2:38:46<5:41:29, 32.73s/it]"
     ]
    },
    {
     "name": "stdout",
     "output_type": "stream",
     "text": [
      "eigenvalues shape torch.Size([5]) eigenvectors shape torch.Size([5, 450])\n",
      "374 /home/phdcs2/Hard_Disk/Datasets/Deep-Spectral-Segmentation/data/object-segmentation/ECSSD/features/dino_vits16/0375.pth\n",
      "dict_keys(['k', 'indices', 'file', 'id', 'model_name', 'patch_size', 'shape'])\n",
      "0375\n",
      "Starting Training\n",
      "epoch: 00, loss: -0.03638\n",
      "epoch: 01, loss: -0.06112\n",
      "epoch: 02, loss: -0.06036\n",
      "epoch: 03, loss: -0.06257\n",
      "epoch: 04, loss: -0.06443\n",
      "epoch: 05, loss: -0.06580\n",
      "epoch: 06, loss: -0.06487\n",
      "epoch: 07, loss: -0.06565\n",
      "epoch: 08, loss: -0.06545\n",
      "epoch: 09, loss: -0.06587\n",
      "torch.Size([475, 64])\n"
     ]
    },
    {
     "name": "stderr",
     "output_type": "stream",
     "text": [
      "\r",
      " 38%|███████████████████████████████████████████████████████████▋                                                                                                   | 375/1000 [2:39:17<5:34:39, 32.13s/it]"
     ]
    },
    {
     "name": "stdout",
     "output_type": "stream",
     "text": [
      "eigenvalues shape torch.Size([5]) eigenvectors shape torch.Size([5, 475])\n",
      "375 /home/phdcs2/Hard_Disk/Datasets/Deep-Spectral-Segmentation/data/object-segmentation/ECSSD/features/dino_vits16/0376.pth\n",
      "dict_keys(['k', 'indices', 'file', 'id', 'model_name', 'patch_size', 'shape'])\n",
      "0376\n",
      "Starting Training\n",
      "epoch: 00, loss: -0.06788\n",
      "epoch: 01, loss: -0.09015\n",
      "epoch: 02, loss: -0.09147\n",
      "epoch: 03, loss: -0.09329\n",
      "epoch: 04, loss: -0.09186\n",
      "epoch: 05, loss: -0.09354\n",
      "epoch: 06, loss: -0.09482\n",
      "epoch: 07, loss: -0.09390\n",
      "epoch: 08, loss: -0.09565\n",
      "epoch: 09, loss: -0.09472\n",
      "torch.Size([625, 64])\n"
     ]
    },
    {
     "name": "stderr",
     "output_type": "stream",
     "text": [
      "\r",
      " 38%|███████████████████████████████████████████████████████████▊                                                                                                   | 376/1000 [2:40:07<6:28:59, 37.40s/it]"
     ]
    },
    {
     "name": "stdout",
     "output_type": "stream",
     "text": [
      "eigenvalues shape torch.Size([5]) eigenvectors shape torch.Size([5, 625])\n",
      "376 /home/phdcs2/Hard_Disk/Datasets/Deep-Spectral-Segmentation/data/object-segmentation/ECSSD/features/dino_vits16/0377.pth\n",
      "dict_keys(['k', 'indices', 'file', 'id', 'model_name', 'patch_size', 'shape'])\n",
      "0377\n",
      "Starting Training\n",
      "epoch: 00, loss: -0.01138\n",
      "epoch: 01, loss: -0.03321\n",
      "epoch: 02, loss: -0.03685\n",
      "epoch: 03, loss: -0.03792\n",
      "epoch: 04, loss: -0.03846\n",
      "epoch: 05, loss: -0.03880\n",
      "epoch: 06, loss: -0.03898\n",
      "epoch: 07, loss: -0.03931\n",
      "epoch: 08, loss: -0.03928\n",
      "epoch: 09, loss: -0.03942\n",
      "torch.Size([400, 64])\n"
     ]
    },
    {
     "name": "stderr",
     "output_type": "stream",
     "text": [
      "\r",
      " 38%|███████████████████████████████████████████████████████████▉                                                                                                   | 377/1000 [2:40:24<5:26:37, 31.46s/it]"
     ]
    },
    {
     "name": "stdout",
     "output_type": "stream",
     "text": [
      "eigenvalues shape torch.Size([5]) eigenvectors shape torch.Size([5, 400])\n",
      "377 /home/phdcs2/Hard_Disk/Datasets/Deep-Spectral-Segmentation/data/object-segmentation/ECSSD/features/dino_vits16/0378.pth\n",
      "dict_keys(['k', 'indices', 'file', 'id', 'model_name', 'patch_size', 'shape'])\n",
      "0378\n",
      "Starting Training\n",
      "epoch: 00, loss: -0.00357\n",
      "epoch: 01, loss: -0.02383\n",
      "epoch: 02, loss: -0.02902\n",
      "epoch: 03, loss: -0.03041\n",
      "epoch: 04, loss: -0.03116\n",
      "epoch: 05, loss: -0.03143\n",
      "epoch: 06, loss: -0.03156\n",
      "epoch: 07, loss: -0.03181\n",
      "epoch: 08, loss: -0.03193\n",
      "epoch: 09, loss: -0.03205\n",
      "torch.Size([450, 64])\n"
     ]
    },
    {
     "name": "stderr",
     "output_type": "stream",
     "text": [
      "\r",
      " 38%|████████████████████████████████████████████████████████████                                                                                                   | 378/1000 [2:40:58<5:31:46, 32.00s/it]"
     ]
    },
    {
     "name": "stdout",
     "output_type": "stream",
     "text": [
      "eigenvalues shape torch.Size([5]) eigenvectors shape torch.Size([5, 450])\n",
      "378 /home/phdcs2/Hard_Disk/Datasets/Deep-Spectral-Segmentation/data/object-segmentation/ECSSD/features/dino_vits16/0379.pth\n",
      "dict_keys(['k', 'indices', 'file', 'id', 'model_name', 'patch_size', 'shape'])\n",
      "0379\n",
      "Starting Training\n",
      "epoch: 00, loss: -0.04172\n",
      "epoch: 01, loss: -0.06476\n",
      "epoch: 02, loss: -0.06555\n",
      "epoch: 03, loss: -0.06585\n",
      "epoch: 04, loss: -0.06608\n",
      "epoch: 05, loss: -0.06641\n",
      "epoch: 06, loss: -0.06649\n",
      "epoch: 07, loss: -0.06664\n",
      "epoch: 08, loss: -0.06675\n",
      "epoch: 09, loss: -0.06682\n",
      "torch.Size([450, 64])\n"
     ]
    },
    {
     "name": "stderr",
     "output_type": "stream",
     "text": [
      "\r",
      " 38%|████████████████████████████████████████████████████████████▎                                                                                                  | 379/1000 [2:41:27<5:23:29, 31.26s/it]"
     ]
    },
    {
     "name": "stdout",
     "output_type": "stream",
     "text": [
      "eigenvalues shape torch.Size([5]) eigenvectors shape torch.Size([5, 450])\n",
      "379 /home/phdcs2/Hard_Disk/Datasets/Deep-Spectral-Segmentation/data/object-segmentation/ECSSD/features/dino_vits16/0380.pth\n",
      "dict_keys(['k', 'indices', 'file', 'id', 'model_name', 'patch_size', 'shape'])\n",
      "0380\n",
      "Starting Training\n",
      "epoch: 00, loss: -0.00769\n",
      "epoch: 01, loss: -0.02251\n",
      "epoch: 02, loss: -0.02713\n",
      "epoch: 03, loss: -0.02884\n",
      "epoch: 04, loss: -0.02854\n",
      "epoch: 05, loss: -0.02899\n",
      "epoch: 06, loss: -0.02902\n",
      "epoch: 07, loss: -0.03027\n",
      "epoch: 08, loss: -0.02929\n",
      "epoch: 09, loss: -0.03086\n",
      "torch.Size([425, 64])\n"
     ]
    },
    {
     "name": "stderr",
     "output_type": "stream",
     "text": [
      "\r",
      " 38%|████████████████████████████████████████████████████████████▍                                                                                                  | 380/1000 [2:41:54<5:09:18, 29.93s/it]"
     ]
    },
    {
     "name": "stdout",
     "output_type": "stream",
     "text": [
      "eigenvalues shape torch.Size([5]) eigenvectors shape torch.Size([5, 425])\n",
      "380 /home/phdcs2/Hard_Disk/Datasets/Deep-Spectral-Segmentation/data/object-segmentation/ECSSD/features/dino_vits16/0381.pth\n",
      "dict_keys(['k', 'indices', 'file', 'id', 'model_name', 'patch_size', 'shape'])\n",
      "0381\n",
      "Starting Training\n",
      "epoch: 00, loss: -0.03185\n",
      "epoch: 01, loss: -0.05121\n",
      "epoch: 02, loss: -0.05258\n",
      "epoch: 03, loss: -0.05303\n",
      "epoch: 04, loss: -0.05315\n",
      "epoch: 05, loss: -0.05342\n",
      "epoch: 06, loss: -0.05352\n",
      "epoch: 07, loss: -0.05376\n",
      "epoch: 08, loss: -0.05368\n",
      "epoch: 09, loss: -0.05393\n",
      "torch.Size([450, 64])\n"
     ]
    },
    {
     "name": "stderr",
     "output_type": "stream",
     "text": [
      "\r",
      " 38%|████████████████████████████████████████████████████████████▌                                                                                                  | 381/1000 [2:42:22<5:01:31, 29.23s/it]"
     ]
    },
    {
     "name": "stdout",
     "output_type": "stream",
     "text": [
      "eigenvalues shape torch.Size([5]) eigenvectors shape torch.Size([5, 450])\n",
      "381 /home/phdcs2/Hard_Disk/Datasets/Deep-Spectral-Segmentation/data/object-segmentation/ECSSD/features/dino_vits16/0382.pth\n",
      "dict_keys(['k', 'indices', 'file', 'id', 'model_name', 'patch_size', 'shape'])\n",
      "0382\n",
      "Starting Training\n",
      "epoch: 00, loss: -0.06690\n",
      "epoch: 01, loss: -0.10122\n",
      "epoch: 02, loss: -0.10874\n",
      "epoch: 03, loss: -0.10974\n",
      "epoch: 04, loss: -0.10892\n",
      "epoch: 05, loss: -0.10791\n",
      "epoch: 06, loss: -0.11343\n",
      "epoch: 07, loss: -0.11149\n",
      "epoch: 08, loss: -0.11148\n",
      "epoch: 09, loss: -0.11076\n",
      "torch.Size([425, 64])\n"
     ]
    },
    {
     "name": "stderr",
     "output_type": "stream",
     "text": [
      "\r",
      " 38%|████████████████████████████████████████████████████████████▋                                                                                                  | 382/1000 [2:42:50<4:58:22, 28.97s/it]"
     ]
    },
    {
     "name": "stdout",
     "output_type": "stream",
     "text": [
      "eigenvalues shape torch.Size([5]) eigenvectors shape torch.Size([5, 425])\n",
      "382 /home/phdcs2/Hard_Disk/Datasets/Deep-Spectral-Segmentation/data/object-segmentation/ECSSD/features/dino_vits16/0383.pth\n",
      "dict_keys(['k', 'indices', 'file', 'id', 'model_name', 'patch_size', 'shape'])\n",
      "0383\n",
      "Starting Training\n",
      "epoch: 00, loss: -0.02202\n",
      "epoch: 01, loss: -0.03810\n",
      "epoch: 02, loss: -0.04147\n",
      "epoch: 03, loss: -0.04253\n",
      "epoch: 04, loss: -0.04354\n",
      "epoch: 05, loss: -0.04371\n",
      "epoch: 06, loss: -0.04429\n",
      "epoch: 07, loss: -0.04447\n",
      "epoch: 08, loss: -0.04472\n",
      "epoch: 09, loss: -0.04431\n",
      "torch.Size([350, 64])\n"
     ]
    },
    {
     "name": "stderr",
     "output_type": "stream",
     "text": [
      "\r",
      " 38%|████████████████████████████████████████████████████████████▉                                                                                                  | 383/1000 [2:43:11<4:32:34, 26.51s/it]"
     ]
    },
    {
     "name": "stdout",
     "output_type": "stream",
     "text": [
      "eigenvalues shape torch.Size([5]) eigenvectors shape torch.Size([5, 350])\n",
      "383 /home/phdcs2/Hard_Disk/Datasets/Deep-Spectral-Segmentation/data/object-segmentation/ECSSD/features/dino_vits16/0384.pth\n",
      "dict_keys(['k', 'indices', 'file', 'id', 'model_name', 'patch_size', 'shape'])\n",
      "0384\n",
      "Starting Training\n",
      "epoch: 00, loss: -0.04976\n",
      "epoch: 01, loss: -0.07093\n",
      "epoch: 02, loss: -0.07404\n",
      "epoch: 03, loss: -0.07189\n",
      "epoch: 04, loss: -0.07205\n",
      "epoch: 05, loss: -0.07281\n",
      "epoch: 06, loss: -0.07348\n",
      "epoch: 07, loss: -0.07328\n",
      "epoch: 08, loss: -0.07463\n",
      "epoch: 09, loss: -0.07477\n",
      "torch.Size([475, 64])\n"
     ]
    },
    {
     "name": "stderr",
     "output_type": "stream",
     "text": [
      "\r",
      " 38%|█████████████████████████████████████████████████████████████                                                                                                  | 384/1000 [2:43:36<4:28:59, 26.20s/it]"
     ]
    },
    {
     "name": "stdout",
     "output_type": "stream",
     "text": [
      "eigenvalues shape torch.Size([5]) eigenvectors shape torch.Size([5, 475])\n",
      "384 /home/phdcs2/Hard_Disk/Datasets/Deep-Spectral-Segmentation/data/object-segmentation/ECSSD/features/dino_vits16/0385.pth\n",
      "dict_keys(['k', 'indices', 'file', 'id', 'model_name', 'patch_size', 'shape'])\n",
      "0385\n",
      "Starting Training\n",
      "epoch: 00, loss: -0.05731\n",
      "epoch: 01, loss: -0.07984\n",
      "epoch: 02, loss: -0.08210\n",
      "epoch: 03, loss: -0.08405\n",
      "epoch: 04, loss: -0.08523\n",
      "epoch: 05, loss: -0.08468\n",
      "epoch: 06, loss: -0.08614\n",
      "epoch: 07, loss: -0.08459\n",
      "epoch: 08, loss: -0.08695\n",
      "epoch: 09, loss: -0.08685\n",
      "torch.Size([600, 64])\n"
     ]
    },
    {
     "name": "stderr",
     "output_type": "stream",
     "text": [
      "\r",
      " 38%|█████████████████████████████████████████████████████████████▏                                                                                                 | 385/1000 [2:44:24<5:33:58, 32.58s/it]"
     ]
    },
    {
     "name": "stdout",
     "output_type": "stream",
     "text": [
      "eigenvalues shape torch.Size([5]) eigenvectors shape torch.Size([5, 600])\n",
      "385 /home/phdcs2/Hard_Disk/Datasets/Deep-Spectral-Segmentation/data/object-segmentation/ECSSD/features/dino_vits16/0386.pth\n",
      "dict_keys(['k', 'indices', 'file', 'id', 'model_name', 'patch_size', 'shape'])\n",
      "0386\n",
      "Starting Training\n",
      "epoch: 00, loss: -0.03572\n",
      "epoch: 01, loss: -0.05666\n",
      "epoch: 02, loss: -0.05885\n",
      "epoch: 03, loss: -0.06033\n",
      "epoch: 04, loss: -0.06418\n",
      "epoch: 05, loss: -0.06384\n",
      "epoch: 06, loss: -0.06525\n",
      "epoch: 07, loss: -0.06398\n",
      "epoch: 08, loss: -0.06359\n",
      "epoch: 09, loss: -0.06397\n",
      "torch.Size([400, 64])\n"
     ]
    },
    {
     "name": "stderr",
     "output_type": "stream",
     "text": [
      "\r",
      " 39%|█████████████████████████████████████████████████████████████▎                                                                                                 | 386/1000 [2:44:45<4:58:39, 29.18s/it]"
     ]
    },
    {
     "name": "stdout",
     "output_type": "stream",
     "text": [
      "eigenvalues shape torch.Size([5]) eigenvectors shape torch.Size([5, 400])\n",
      "386 /home/phdcs2/Hard_Disk/Datasets/Deep-Spectral-Segmentation/data/object-segmentation/ECSSD/features/dino_vits16/0387.pth\n",
      "dict_keys(['k', 'indices', 'file', 'id', 'model_name', 'patch_size', 'shape'])\n",
      "0387\n",
      "Starting Training\n",
      "epoch: 00, loss: -0.02649\n",
      "epoch: 01, loss: -0.04736\n",
      "epoch: 02, loss: -0.04898\n",
      "epoch: 03, loss: -0.05012\n",
      "epoch: 04, loss: -0.05032\n",
      "epoch: 05, loss: -0.04943\n",
      "epoch: 06, loss: -0.04955\n",
      "epoch: 07, loss: -0.05028\n",
      "epoch: 08, loss: -0.05006\n",
      "epoch: 09, loss: -0.04992\n",
      "torch.Size([450, 64])\n"
     ]
    },
    {
     "name": "stderr",
     "output_type": "stream",
     "text": [
      "\r",
      " 39%|█████████████████████████████████████████████████████████████▌                                                                                                 | 387/1000 [2:45:06<4:33:22, 26.76s/it]"
     ]
    },
    {
     "name": "stdout",
     "output_type": "stream",
     "text": [
      "eigenvalues shape torch.Size([5]) eigenvectors shape torch.Size([5, 450])\n",
      "387 /home/phdcs2/Hard_Disk/Datasets/Deep-Spectral-Segmentation/data/object-segmentation/ECSSD/features/dino_vits16/0388.pth\n",
      "dict_keys(['k', 'indices', 'file', 'id', 'model_name', 'patch_size', 'shape'])\n",
      "0388\n",
      "Starting Training\n",
      "epoch: 00, loss: -0.00867\n",
      "epoch: 01, loss: -0.02889\n",
      "epoch: 02, loss: -0.03383\n",
      "epoch: 03, loss: -0.04009\n",
      "epoch: 04, loss: -0.04049\n",
      "epoch: 05, loss: -0.04012\n",
      "epoch: 06, loss: -0.03959\n",
      "epoch: 07, loss: -0.04428\n",
      "epoch: 08, loss: -0.04093\n",
      "epoch: 09, loss: -0.04026\n",
      "torch.Size([500, 64])\n"
     ]
    },
    {
     "name": "stderr",
     "output_type": "stream",
     "text": [
      "\r",
      " 39%|█████████████████████████████████████████████████████████████▋                                                                                                 | 388/1000 [2:45:33<4:34:15, 26.89s/it]"
     ]
    },
    {
     "name": "stdout",
     "output_type": "stream",
     "text": [
      "eigenvalues shape torch.Size([5]) eigenvectors shape torch.Size([5, 500])\n",
      "388 /home/phdcs2/Hard_Disk/Datasets/Deep-Spectral-Segmentation/data/object-segmentation/ECSSD/features/dino_vits16/0389.pth\n",
      "dict_keys(['k', 'indices', 'file', 'id', 'model_name', 'patch_size', 'shape'])\n",
      "0389\n",
      "Starting Training\n",
      "epoch: 00, loss: -0.03764\n",
      "epoch: 01, loss: -0.05763\n",
      "epoch: 02, loss: -0.05982\n",
      "epoch: 03, loss: -0.05984\n",
      "epoch: 04, loss: -0.06028\n",
      "epoch: 05, loss: -0.06035\n",
      "epoch: 06, loss: -0.06060\n",
      "epoch: 07, loss: -0.06066\n",
      "epoch: 08, loss: -0.06075\n",
      "epoch: 09, loss: -0.06090\n",
      "torch.Size([450, 64])\n"
     ]
    },
    {
     "name": "stderr",
     "output_type": "stream",
     "text": [
      "\r",
      " 39%|█████████████████████████████████████████████████████████████▊                                                                                                 | 389/1000 [2:46:01<4:35:47, 27.08s/it]"
     ]
    },
    {
     "name": "stdout",
     "output_type": "stream",
     "text": [
      "eigenvalues shape torch.Size([5]) eigenvectors shape torch.Size([5, 450])\n",
      "389 /home/phdcs2/Hard_Disk/Datasets/Deep-Spectral-Segmentation/data/object-segmentation/ECSSD/features/dino_vits16/0390.pth\n",
      "dict_keys(['k', 'indices', 'file', 'id', 'model_name', 'patch_size', 'shape'])\n",
      "0390\n",
      "Starting Training\n",
      "epoch: 00, loss: -0.03526\n",
      "epoch: 01, loss: -0.05241\n",
      "epoch: 02, loss: -0.05426\n",
      "epoch: 03, loss: -0.05465\n",
      "epoch: 04, loss: -0.05483\n",
      "epoch: 05, loss: -0.05507\n",
      "epoch: 06, loss: -0.05525\n",
      "epoch: 07, loss: -0.05548\n",
      "epoch: 08, loss: -0.05563\n",
      "epoch: 09, loss: -0.05558\n",
      "torch.Size([450, 64])\n"
     ]
    },
    {
     "name": "stderr",
     "output_type": "stream",
     "text": [
      "\r",
      " 39%|██████████████████████████████████████████████████████████████                                                                                                 | 390/1000 [2:46:30<4:41:28, 27.69s/it]"
     ]
    },
    {
     "name": "stdout",
     "output_type": "stream",
     "text": [
      "eigenvalues shape torch.Size([5]) eigenvectors shape torch.Size([5, 450])\n",
      "390 /home/phdcs2/Hard_Disk/Datasets/Deep-Spectral-Segmentation/data/object-segmentation/ECSSD/features/dino_vits16/0391.pth\n",
      "dict_keys(['k', 'indices', 'file', 'id', 'model_name', 'patch_size', 'shape'])\n",
      "0391\n",
      "Starting Training\n",
      "epoch: 00, loss: -0.02650\n",
      "epoch: 01, loss: -0.05939\n",
      "epoch: 02, loss: -0.06203\n",
      "epoch: 03, loss: -0.06573\n",
      "epoch: 04, loss: -0.06519\n",
      "epoch: 05, loss: -0.06663\n",
      "epoch: 06, loss: -0.06782\n",
      "epoch: 07, loss: -0.06757\n",
      "epoch: 08, loss: -0.07020\n",
      "epoch: 09, loss: -0.06950\n",
      "torch.Size([400, 64])\n"
     ]
    },
    {
     "name": "stderr",
     "output_type": "stream",
     "text": [
      "\r",
      " 39%|██████████████████████████████████████████████████████████████▏                                                                                                | 391/1000 [2:46:51<4:20:59, 25.71s/it]"
     ]
    },
    {
     "name": "stdout",
     "output_type": "stream",
     "text": [
      "eigenvalues shape torch.Size([5]) eigenvectors shape torch.Size([5, 400])\n",
      "391 /home/phdcs2/Hard_Disk/Datasets/Deep-Spectral-Segmentation/data/object-segmentation/ECSSD/features/dino_vits16/0392.pth\n",
      "dict_keys(['k', 'indices', 'file', 'id', 'model_name', 'patch_size', 'shape'])\n",
      "0392\n",
      "Starting Training\n",
      "epoch: 00, loss: -0.02717\n",
      "epoch: 01, loss: -0.04557\n",
      "epoch: 02, loss: -0.04873\n",
      "epoch: 03, loss: -0.04891\n",
      "epoch: 04, loss: -0.04958\n",
      "epoch: 05, loss: -0.04934\n",
      "epoch: 06, loss: -0.04952\n",
      "epoch: 07, loss: -0.04971\n",
      "epoch: 08, loss: -0.04992\n",
      "epoch: 09, loss: -0.04999\n",
      "torch.Size([400, 64])\n"
     ]
    },
    {
     "name": "stderr",
     "output_type": "stream",
     "text": [
      "\r",
      " 39%|██████████████████████████████████████████████████████████████▎                                                                                                | 392/1000 [2:47:13<4:08:34, 24.53s/it]"
     ]
    },
    {
     "name": "stdout",
     "output_type": "stream",
     "text": [
      "eigenvalues shape torch.Size([5]) eigenvectors shape torch.Size([5, 400])\n",
      "392 /home/phdcs2/Hard_Disk/Datasets/Deep-Spectral-Segmentation/data/object-segmentation/ECSSD/features/dino_vits16/0393.pth\n",
      "dict_keys(['k', 'indices', 'file', 'id', 'model_name', 'patch_size', 'shape'])\n",
      "0393\n",
      "Starting Training\n",
      "epoch: 00, loss: -0.07999\n",
      "epoch: 01, loss: -0.11226\n",
      "epoch: 02, loss: -0.11822\n",
      "epoch: 03, loss: -0.11781\n",
      "epoch: 04, loss: -0.11785\n",
      "epoch: 05, loss: -0.11994\n",
      "epoch: 06, loss: -0.12150\n",
      "epoch: 07, loss: -0.12263\n",
      "epoch: 08, loss: -0.12418\n",
      "epoch: 09, loss: -0.12083\n",
      "torch.Size([400, 64])\n"
     ]
    },
    {
     "name": "stderr",
     "output_type": "stream",
     "text": [
      "\r",
      " 39%|██████████████████████████████████████████████████████████████▍                                                                                                | 393/1000 [2:47:37<4:07:06, 24.43s/it]"
     ]
    },
    {
     "name": "stdout",
     "output_type": "stream",
     "text": [
      "eigenvalues shape torch.Size([5]) eigenvectors shape torch.Size([5, 400])\n",
      "393 /home/phdcs2/Hard_Disk/Datasets/Deep-Spectral-Segmentation/data/object-segmentation/ECSSD/features/dino_vits16/0394.pth\n",
      "dict_keys(['k', 'indices', 'file', 'id', 'model_name', 'patch_size', 'shape'])\n",
      "0394\n",
      "Starting Training\n",
      "epoch: 00, loss: -0.03147\n",
      "epoch: 01, loss: -0.06123\n",
      "epoch: 02, loss: -0.06653\n",
      "epoch: 03, loss: -0.06722\n",
      "epoch: 04, loss: -0.06984\n",
      "epoch: 05, loss: -0.07157\n",
      "epoch: 06, loss: -0.07082\n",
      "epoch: 07, loss: -0.07368\n",
      "epoch: 08, loss: -0.07030\n",
      "epoch: 09, loss: -0.07175\n",
      "torch.Size([400, 64])\n"
     ]
    },
    {
     "name": "stderr",
     "output_type": "stream",
     "text": [
      "\r",
      " 39%|██████████████████████████████████████████████████████████████▋                                                                                                | 394/1000 [2:47:58<3:55:01, 23.27s/it]"
     ]
    },
    {
     "name": "stdout",
     "output_type": "stream",
     "text": [
      "eigenvalues shape torch.Size([5]) eigenvectors shape torch.Size([5, 400])\n",
      "394 /home/phdcs2/Hard_Disk/Datasets/Deep-Spectral-Segmentation/data/object-segmentation/ECSSD/features/dino_vits16/0395.pth\n",
      "dict_keys(['k', 'indices', 'file', 'id', 'model_name', 'patch_size', 'shape'])\n",
      "0395\n",
      "Starting Training\n",
      "epoch: 00, loss: -0.05170\n",
      "epoch: 01, loss: -0.07366\n",
      "epoch: 02, loss: -0.07742\n",
      "epoch: 03, loss: -0.08363\n",
      "epoch: 04, loss: -0.08254\n",
      "epoch: 05, loss: -0.08387\n",
      "epoch: 06, loss: -0.08346\n",
      "epoch: 07, loss: -0.08321\n",
      "epoch: 08, loss: -0.08293\n",
      "epoch: 09, loss: -0.08372\n",
      "torch.Size([400, 64])\n"
     ]
    },
    {
     "name": "stderr",
     "output_type": "stream",
     "text": [
      "\r",
      " 40%|██████████████████████████████████████████████████████████████▊                                                                                                | 395/1000 [2:48:21<3:55:51, 23.39s/it]"
     ]
    },
    {
     "name": "stdout",
     "output_type": "stream",
     "text": [
      "eigenvalues shape torch.Size([5]) eigenvectors shape torch.Size([5, 400])\n",
      "395 /home/phdcs2/Hard_Disk/Datasets/Deep-Spectral-Segmentation/data/object-segmentation/ECSSD/features/dino_vits16/0396.pth\n",
      "dict_keys(['k', 'indices', 'file', 'id', 'model_name', 'patch_size', 'shape'])\n",
      "0396\n",
      "Starting Training\n",
      "epoch: 00, loss: -0.11040\n",
      "epoch: 01, loss: -0.14205\n",
      "epoch: 02, loss: -0.14596\n",
      "epoch: 03, loss: -0.14582\n",
      "epoch: 04, loss: -0.14881\n",
      "epoch: 05, loss: -0.14944\n",
      "epoch: 06, loss: -0.14851\n",
      "epoch: 07, loss: -0.15038\n",
      "epoch: 08, loss: -0.15018\n",
      "epoch: 09, loss: -0.14873\n",
      "torch.Size([450, 64])\n"
     ]
    },
    {
     "name": "stderr",
     "output_type": "stream",
     "text": [
      "\r",
      " 40%|██████████████████████████████████████████████████████████████▉                                                                                                | 396/1000 [2:48:46<4:00:21, 23.88s/it]"
     ]
    },
    {
     "name": "stdout",
     "output_type": "stream",
     "text": [
      "eigenvalues shape torch.Size([5]) eigenvectors shape torch.Size([5, 450])\n",
      "396 /home/phdcs2/Hard_Disk/Datasets/Deep-Spectral-Segmentation/data/object-segmentation/ECSSD/features/dino_vits16/0397.pth\n",
      "dict_keys(['k', 'indices', 'file', 'id', 'model_name', 'patch_size', 'shape'])\n",
      "0397\n",
      "Starting Training\n",
      "epoch: 00, loss: -0.02457\n",
      "epoch: 01, loss: -0.04661\n",
      "epoch: 02, loss: -0.04868\n",
      "epoch: 03, loss: -0.04951\n",
      "epoch: 04, loss: -0.04982\n",
      "epoch: 05, loss: -0.05005\n",
      "epoch: 06, loss: -0.05025\n",
      "epoch: 07, loss: -0.05032\n",
      "epoch: 08, loss: -0.05047\n",
      "epoch: 09, loss: -0.05046\n",
      "torch.Size([400, 64])\n"
     ]
    },
    {
     "name": "stderr",
     "output_type": "stream",
     "text": [
      "\r",
      " 40%|███████████████████████████████████████████████████████████████                                                                                                | 397/1000 [2:49:08<3:54:07, 23.30s/it]"
     ]
    },
    {
     "name": "stdout",
     "output_type": "stream",
     "text": [
      "eigenvalues shape torch.Size([5]) eigenvectors shape torch.Size([5, 400])\n",
      "397 /home/phdcs2/Hard_Disk/Datasets/Deep-Spectral-Segmentation/data/object-segmentation/ECSSD/features/dino_vits16/0398.pth\n",
      "dict_keys(['k', 'indices', 'file', 'id', 'model_name', 'patch_size', 'shape'])\n",
      "0398\n",
      "Starting Training\n",
      "epoch: 00, loss: -0.04583\n",
      "epoch: 01, loss: -0.06778\n",
      "epoch: 02, loss: -0.06868\n",
      "epoch: 03, loss: -0.06943\n",
      "epoch: 04, loss: -0.06938\n",
      "epoch: 05, loss: -0.06958\n",
      "epoch: 06, loss: -0.06960\n",
      "epoch: 07, loss: -0.06993\n",
      "epoch: 08, loss: -0.07006\n",
      "epoch: 09, loss: -0.07020\n",
      "torch.Size([400, 64])\n"
     ]
    },
    {
     "name": "stderr",
     "output_type": "stream",
     "text": [
      "\r",
      " 40%|███████████████████████████████████████████████████████████████▎                                                                                               | 398/1000 [2:49:27<3:40:07, 21.94s/it]"
     ]
    },
    {
     "name": "stdout",
     "output_type": "stream",
     "text": [
      "eigenvalues shape torch.Size([5]) eigenvectors shape torch.Size([5, 400])\n",
      "398 /home/phdcs2/Hard_Disk/Datasets/Deep-Spectral-Segmentation/data/object-segmentation/ECSSD/features/dino_vits16/0399.pth\n",
      "dict_keys(['k', 'indices', 'file', 'id', 'model_name', 'patch_size', 'shape'])\n",
      "0399\n",
      "Starting Training\n",
      "epoch: 00, loss: -0.02981\n",
      "epoch: 01, loss: -0.05412\n",
      "epoch: 02, loss: -0.05586\n",
      "epoch: 03, loss: -0.05639\n",
      "epoch: 04, loss: -0.05790\n",
      "epoch: 05, loss: -0.05811\n",
      "epoch: 06, loss: -0.05793\n",
      "epoch: 07, loss: -0.05799\n",
      "epoch: 08, loss: -0.05832\n",
      "epoch: 09, loss: -0.05827\n",
      "torch.Size([400, 64])\n"
     ]
    },
    {
     "name": "stderr",
     "output_type": "stream",
     "text": [
      "\r",
      " 40%|███████████████████████████████████████████████████████████████▍                                                                                               | 399/1000 [2:49:50<3:43:38, 22.33s/it]"
     ]
    },
    {
     "name": "stdout",
     "output_type": "stream",
     "text": [
      "eigenvalues shape torch.Size([5]) eigenvectors shape torch.Size([5, 400])\n",
      "399 /home/phdcs2/Hard_Disk/Datasets/Deep-Spectral-Segmentation/data/object-segmentation/ECSSD/features/dino_vits16/0400.pth\n",
      "dict_keys(['k', 'indices', 'file', 'id', 'model_name', 'patch_size', 'shape'])\n",
      "0400\n",
      "Starting Training\n",
      "epoch: 00, loss: -0.01722\n",
      "epoch: 01, loss: -0.04512\n",
      "epoch: 02, loss: -0.04983\n",
      "epoch: 03, loss: -0.05080\n",
      "epoch: 04, loss: -0.05194\n",
      "epoch: 05, loss: -0.05159\n",
      "epoch: 06, loss: -0.05251\n",
      "epoch: 07, loss: -0.05297\n",
      "epoch: 08, loss: -0.05313\n",
      "epoch: 09, loss: -0.05401\n",
      "torch.Size([400, 64])\n"
     ]
    },
    {
     "name": "stderr",
     "output_type": "stream",
     "text": [
      "\r",
      " 40%|███████████████████████████████████████████████████████████████▌                                                                                               | 400/1000 [2:50:09<3:33:28, 21.35s/it]"
     ]
    },
    {
     "name": "stdout",
     "output_type": "stream",
     "text": [
      "eigenvalues shape torch.Size([5]) eigenvectors shape torch.Size([5, 400])\n",
      "400 /home/phdcs2/Hard_Disk/Datasets/Deep-Spectral-Segmentation/data/object-segmentation/ECSSD/features/dino_vits16/0401.pth\n",
      "dict_keys(['k', 'indices', 'file', 'id', 'model_name', 'patch_size', 'shape'])\n",
      "0401\n",
      "Starting Training\n",
      "epoch: 00, loss: -0.02157\n",
      "epoch: 01, loss: -0.04871\n",
      "epoch: 02, loss: -0.05080\n",
      "epoch: 03, loss: -0.05128\n",
      "epoch: 04, loss: -0.05160\n",
      "epoch: 05, loss: -0.05180\n",
      "epoch: 06, loss: -0.05194\n",
      "epoch: 07, loss: -0.05230\n",
      "epoch: 08, loss: -0.05232\n",
      "epoch: 09, loss: -0.05249\n",
      "torch.Size([400, 64])\n"
     ]
    },
    {
     "name": "stderr",
     "output_type": "stream",
     "text": [
      "\r",
      " 40%|███████████████████████████████████████████████████████████████▊                                                                                               | 401/1000 [2:50:32<3:37:23, 21.77s/it]"
     ]
    },
    {
     "name": "stdout",
     "output_type": "stream",
     "text": [
      "eigenvalues shape torch.Size([5]) eigenvectors shape torch.Size([5, 400])\n",
      "401 /home/phdcs2/Hard_Disk/Datasets/Deep-Spectral-Segmentation/data/object-segmentation/ECSSD/features/dino_vits16/0402.pth\n",
      "dict_keys(['k', 'indices', 'file', 'id', 'model_name', 'patch_size', 'shape'])\n",
      "0402\n",
      "Starting Training\n",
      "epoch: 00, loss: -0.01742\n",
      "epoch: 01, loss: -0.04004\n",
      "epoch: 02, loss: -0.04263\n",
      "epoch: 03, loss: -0.04336\n",
      "epoch: 04, loss: -0.04361\n",
      "epoch: 05, loss: -0.04377\n",
      "epoch: 06, loss: -0.04439\n",
      "epoch: 07, loss: -0.04434\n",
      "epoch: 08, loss: -0.04434\n",
      "epoch: 09, loss: -0.04481\n",
      "torch.Size([400, 64])\n"
     ]
    },
    {
     "name": "stderr",
     "output_type": "stream",
     "text": [
      "\r",
      " 40%|███████████████████████████████████████████████████████████████▉                                                                                               | 402/1000 [2:50:56<3:42:25, 22.32s/it]"
     ]
    },
    {
     "name": "stdout",
     "output_type": "stream",
     "text": [
      "eigenvalues shape torch.Size([5]) eigenvectors shape torch.Size([5, 400])\n",
      "402 /home/phdcs2/Hard_Disk/Datasets/Deep-Spectral-Segmentation/data/object-segmentation/ECSSD/features/dino_vits16/0403.pth\n",
      "dict_keys(['k', 'indices', 'file', 'id', 'model_name', 'patch_size', 'shape'])\n",
      "0403\n",
      "Starting Training\n",
      "epoch: 00, loss: -0.02102\n",
      "epoch: 01, loss: -0.05261\n",
      "epoch: 02, loss: -0.05891\n",
      "epoch: 03, loss: -0.05987\n",
      "epoch: 04, loss: -0.06124\n",
      "epoch: 05, loss: -0.06113\n",
      "epoch: 06, loss: -0.06188\n",
      "epoch: 07, loss: -0.06336\n",
      "epoch: 08, loss: -0.06345\n",
      "epoch: 09, loss: -0.06383\n",
      "torch.Size([400, 64])\n"
     ]
    },
    {
     "name": "stderr",
     "output_type": "stream",
     "text": [
      "\r",
      " 40%|████████████████████████████████████████████████████████████████                                                                                               | 403/1000 [2:51:17<3:39:15, 22.04s/it]"
     ]
    },
    {
     "name": "stdout",
     "output_type": "stream",
     "text": [
      "eigenvalues shape torch.Size([5]) eigenvectors shape torch.Size([5, 400])\n",
      "403 /home/phdcs2/Hard_Disk/Datasets/Deep-Spectral-Segmentation/data/object-segmentation/ECSSD/features/dino_vits16/0404.pth\n",
      "dict_keys(['k', 'indices', 'file', 'id', 'model_name', 'patch_size', 'shape'])\n",
      "0404\n",
      "Starting Training\n",
      "epoch: 00, loss: -0.05822\n",
      "epoch: 01, loss: -0.09635\n",
      "epoch: 02, loss: -0.10199\n",
      "epoch: 03, loss: -0.10074\n",
      "epoch: 04, loss: -0.10343\n",
      "epoch: 05, loss: -0.10420\n",
      "epoch: 06, loss: -0.10397\n",
      "epoch: 07, loss: -0.10748\n",
      "epoch: 08, loss: -0.10486\n",
      "epoch: 09, loss: -0.10542\n",
      "torch.Size([400, 64])\n"
     ]
    },
    {
     "name": "stderr",
     "output_type": "stream",
     "text": [
      "\r",
      " 40%|████████████████████████████████████████████████████████████████▏                                                                                              | 404/1000 [2:51:40<3:41:51, 22.33s/it]"
     ]
    },
    {
     "name": "stdout",
     "output_type": "stream",
     "text": [
      "eigenvalues shape torch.Size([5]) eigenvectors shape torch.Size([5, 400])\n",
      "404 /home/phdcs2/Hard_Disk/Datasets/Deep-Spectral-Segmentation/data/object-segmentation/ECSSD/features/dino_vits16/0405.pth\n",
      "dict_keys(['k', 'indices', 'file', 'id', 'model_name', 'patch_size', 'shape'])\n",
      "0405\n",
      "Starting Training\n",
      "epoch: 00, loss: -0.02022\n",
      "epoch: 01, loss: -0.04700\n",
      "epoch: 02, loss: -0.04952\n",
      "epoch: 03, loss: -0.05235\n",
      "epoch: 04, loss: -0.05332\n",
      "epoch: 05, loss: -0.05658\n",
      "epoch: 06, loss: -0.05468\n",
      "epoch: 07, loss: -0.05615\n",
      "epoch: 08, loss: -0.05627\n",
      "epoch: 09, loss: -0.05681\n",
      "torch.Size([400, 64])\n"
     ]
    },
    {
     "name": "stderr",
     "output_type": "stream",
     "text": [
      "\r",
      " 40%|████████████████████████████████████████████████████████████████▍                                                                                              | 405/1000 [2:52:07<3:54:48, 23.68s/it]"
     ]
    },
    {
     "name": "stdout",
     "output_type": "stream",
     "text": [
      "eigenvalues shape torch.Size([5]) eigenvectors shape torch.Size([5, 400])\n",
      "405 /home/phdcs2/Hard_Disk/Datasets/Deep-Spectral-Segmentation/data/object-segmentation/ECSSD/features/dino_vits16/0406.pth\n",
      "dict_keys(['k', 'indices', 'file', 'id', 'model_name', 'patch_size', 'shape'])\n",
      "0406\n",
      "Starting Training\n",
      "epoch: 00, loss: -0.03741\n",
      "epoch: 01, loss: -0.05840\n",
      "epoch: 02, loss: -0.05971\n",
      "epoch: 03, loss: -0.06019\n",
      "epoch: 04, loss: -0.06043\n",
      "epoch: 05, loss: -0.06073\n",
      "epoch: 06, loss: -0.06077\n",
      "epoch: 07, loss: -0.06113\n",
      "epoch: 08, loss: -0.06104\n",
      "epoch: 09, loss: -0.06115\n",
      "torch.Size([400, 64])\n"
     ]
    },
    {
     "name": "stderr",
     "output_type": "stream",
     "text": [
      "\r",
      " 41%|████████████████████████████████████████████████████████████████▌                                                                                              | 406/1000 [2:52:28<3:45:27, 22.77s/it]"
     ]
    },
    {
     "name": "stdout",
     "output_type": "stream",
     "text": [
      "eigenvalues shape torch.Size([5]) eigenvectors shape torch.Size([5, 400])\n",
      "406 /home/phdcs2/Hard_Disk/Datasets/Deep-Spectral-Segmentation/data/object-segmentation/ECSSD/features/dino_vits16/0407.pth\n",
      "dict_keys(['k', 'indices', 'file', 'id', 'model_name', 'patch_size', 'shape'])\n",
      "0407\n",
      "Starting Training\n",
      "epoch: 00, loss: 0.00886\n",
      "epoch: 01, loss: 0.00328\n",
      "epoch: 02, loss: 0.00005\n",
      "epoch: 03, loss: -0.00203\n",
      "epoch: 04, loss: -0.00339\n",
      "epoch: 05, loss: -0.00447\n",
      "epoch: 06, loss: -0.00532\n",
      "epoch: 07, loss: -0.00604\n",
      "epoch: 08, loss: -0.00655\n",
      "epoch: 09, loss: -0.00683\n",
      "torch.Size([400, 64])\n"
     ]
    },
    {
     "name": "stderr",
     "output_type": "stream",
     "text": [
      "\r",
      " 41%|████████████████████████████████████████████████████████████████▋                                                                                              | 407/1000 [2:52:53<3:53:29, 23.63s/it]"
     ]
    },
    {
     "name": "stdout",
     "output_type": "stream",
     "text": [
      "eigenvalues shape torch.Size([5]) eigenvectors shape torch.Size([5, 400])\n",
      "407 /home/phdcs2/Hard_Disk/Datasets/Deep-Spectral-Segmentation/data/object-segmentation/ECSSD/features/dino_vits16/0408.pth\n",
      "dict_keys(['k', 'indices', 'file', 'id', 'model_name', 'patch_size', 'shape'])\n",
      "0408\n",
      "Starting Training\n",
      "epoch: 00, loss: -0.02759\n",
      "epoch: 01, loss: -0.05752\n",
      "epoch: 02, loss: -0.06191\n",
      "epoch: 03, loss: -0.06125\n",
      "epoch: 04, loss: -0.06312\n",
      "epoch: 05, loss: -0.06855\n",
      "epoch: 06, loss: -0.06499\n",
      "epoch: 07, loss: -0.06612\n",
      "epoch: 08, loss: -0.06696\n",
      "epoch: 09, loss: -0.06528\n",
      "torch.Size([400, 64])\n"
     ]
    },
    {
     "name": "stderr",
     "output_type": "stream",
     "text": [
      "\r",
      " 41%|████████████████████████████████████████████████████████████████▊                                                                                              | 408/1000 [2:53:13<3:43:10, 22.62s/it]"
     ]
    },
    {
     "name": "stdout",
     "output_type": "stream",
     "text": [
      "eigenvalues shape torch.Size([5]) eigenvectors shape torch.Size([5, 400])\n",
      "408 /home/phdcs2/Hard_Disk/Datasets/Deep-Spectral-Segmentation/data/object-segmentation/ECSSD/features/dino_vits16/0409.pth\n",
      "dict_keys(['k', 'indices', 'file', 'id', 'model_name', 'patch_size', 'shape'])\n",
      "0409\n",
      "Starting Training\n",
      "epoch: 00, loss: -0.00735\n",
      "epoch: 01, loss: -0.02392\n",
      "epoch: 02, loss: -0.02745\n",
      "epoch: 03, loss: -0.02858\n",
      "epoch: 04, loss: -0.02913\n",
      "epoch: 05, loss: -0.02978\n",
      "epoch: 06, loss: -0.03010\n",
      "epoch: 07, loss: -0.03025\n",
      "epoch: 08, loss: -0.02941\n",
      "epoch: 09, loss: -0.03017\n",
      "torch.Size([450, 64])\n"
     ]
    },
    {
     "name": "stderr",
     "output_type": "stream",
     "text": [
      "\r",
      " 41%|█████████████████████████████████████████████████████████████████                                                                                              | 409/1000 [2:53:42<4:01:56, 24.56s/it]"
     ]
    },
    {
     "name": "stdout",
     "output_type": "stream",
     "text": [
      "eigenvalues shape torch.Size([5]) eigenvectors shape torch.Size([5, 450])\n",
      "409 /home/phdcs2/Hard_Disk/Datasets/Deep-Spectral-Segmentation/data/object-segmentation/ECSSD/features/dino_vits16/0410.pth\n",
      "dict_keys(['k', 'indices', 'file', 'id', 'model_name', 'patch_size', 'shape'])\n",
      "0410\n",
      "Starting Training\n",
      "epoch: 00, loss: 0.00170\n",
      "epoch: 01, loss: -0.01471\n",
      "epoch: 02, loss: -0.02070\n",
      "epoch: 03, loss: -0.02443\n",
      "epoch: 04, loss: -0.02564\n",
      "epoch: 05, loss: -0.02512\n",
      "epoch: 06, loss: -0.02527\n",
      "epoch: 07, loss: -0.02695\n",
      "epoch: 08, loss: -0.02736\n",
      "epoch: 09, loss: -0.02696\n",
      "torch.Size([325, 64])\n"
     ]
    },
    {
     "name": "stderr",
     "output_type": "stream",
     "text": [
      "\r",
      " 41%|█████████████████████████████████████████████████████████████████▏                                                                                             | 410/1000 [2:53:55<3:26:40, 21.02s/it]"
     ]
    },
    {
     "name": "stdout",
     "output_type": "stream",
     "text": [
      "eigenvalues shape torch.Size([5]) eigenvectors shape torch.Size([5, 325])\n",
      "410 /home/phdcs2/Hard_Disk/Datasets/Deep-Spectral-Segmentation/data/object-segmentation/ECSSD/features/dino_vits16/0411.pth\n",
      "dict_keys(['k', 'indices', 'file', 'id', 'model_name', 'patch_size', 'shape'])\n",
      "0411\n",
      "Starting Training\n",
      "epoch: 00, loss: -0.01957\n",
      "epoch: 01, loss: -0.04075\n",
      "epoch: 02, loss: -0.04320\n",
      "epoch: 03, loss: -0.04377\n",
      "epoch: 04, loss: -0.04405\n",
      "epoch: 05, loss: -0.04438\n",
      "epoch: 06, loss: -0.04448\n",
      "epoch: 07, loss: -0.04465\n",
      "epoch: 08, loss: -0.04493\n",
      "epoch: 09, loss: -0.04500\n",
      "torch.Size([450, 64])\n"
     ]
    },
    {
     "name": "stderr",
     "output_type": "stream",
     "text": [
      "\r",
      " 41%|█████████████████████████████████████████████████████████████████▎                                                                                             | 411/1000 [2:54:32<4:13:32, 25.83s/it]"
     ]
    },
    {
     "name": "stdout",
     "output_type": "stream",
     "text": [
      "eigenvalues shape torch.Size([5]) eigenvectors shape torch.Size([5, 450])\n",
      "411 /home/phdcs2/Hard_Disk/Datasets/Deep-Spectral-Segmentation/data/object-segmentation/ECSSD/features/dino_vits16/0412.pth\n",
      "dict_keys(['k', 'indices', 'file', 'id', 'model_name', 'patch_size', 'shape'])\n",
      "0412\n",
      "Starting Training\n",
      "epoch: 00, loss: -0.03663\n",
      "epoch: 01, loss: -0.06564\n",
      "epoch: 02, loss: -0.06802\n",
      "epoch: 03, loss: -0.06909\n",
      "epoch: 04, loss: -0.07017\n",
      "epoch: 05, loss: -0.07104\n",
      "epoch: 06, loss: -0.07154\n",
      "epoch: 07, loss: -0.07153\n",
      "epoch: 08, loss: -0.06963\n",
      "epoch: 09, loss: -0.07285\n",
      "torch.Size([450, 64])\n"
     ]
    },
    {
     "name": "stderr",
     "output_type": "stream",
     "text": [
      "\r",
      " 41%|█████████████████████████████████████████████████████████████████▌                                                                                             | 412/1000 [2:54:55<4:03:56, 24.89s/it]"
     ]
    },
    {
     "name": "stdout",
     "output_type": "stream",
     "text": [
      "eigenvalues shape torch.Size([5]) eigenvectors shape torch.Size([5, 450])\n",
      "412 /home/phdcs2/Hard_Disk/Datasets/Deep-Spectral-Segmentation/data/object-segmentation/ECSSD/features/dino_vits16/0413.pth\n",
      "dict_keys(['k', 'indices', 'file', 'id', 'model_name', 'patch_size', 'shape'])\n",
      "0413\n",
      "Starting Training\n",
      "epoch: 00, loss: -0.04438\n",
      "epoch: 01, loss: -0.06311\n",
      "epoch: 02, loss: -0.06408\n",
      "epoch: 03, loss: -0.06443\n",
      "epoch: 04, loss: -0.06483\n",
      "epoch: 05, loss: -0.06506\n",
      "epoch: 06, loss: -0.06527\n",
      "epoch: 07, loss: -0.06531\n",
      "epoch: 08, loss: -0.06536\n",
      "epoch: 09, loss: -0.06550\n",
      "torch.Size([450, 64])\n"
     ]
    },
    {
     "name": "stderr",
     "output_type": "stream",
     "text": [
      "\r",
      " 41%|█████████████████████████████████████████████████████████████████▋                                                                                             | 413/1000 [2:55:23<4:13:08, 25.87s/it]"
     ]
    },
    {
     "name": "stdout",
     "output_type": "stream",
     "text": [
      "eigenvalues shape torch.Size([5]) eigenvectors shape torch.Size([5, 450])\n",
      "413 /home/phdcs2/Hard_Disk/Datasets/Deep-Spectral-Segmentation/data/object-segmentation/ECSSD/features/dino_vits16/0414.pth\n",
      "dict_keys(['k', 'indices', 'file', 'id', 'model_name', 'patch_size', 'shape'])\n",
      "0414\n",
      "Starting Training\n",
      "epoch: 00, loss: -0.04214\n",
      "epoch: 01, loss: -0.06846\n",
      "epoch: 02, loss: -0.06924\n",
      "epoch: 03, loss: -0.06971\n",
      "epoch: 04, loss: -0.07011\n",
      "epoch: 05, loss: -0.07023\n",
      "epoch: 06, loss: -0.07032\n",
      "epoch: 07, loss: -0.07043\n",
      "epoch: 08, loss: -0.07056\n",
      "epoch: 09, loss: -0.07074\n",
      "torch.Size([450, 64])\n"
     ]
    },
    {
     "name": "stderr",
     "output_type": "stream",
     "text": [
      "\r",
      " 41%|█████████████████████████████████████████████████████████████████▊                                                                                             | 414/1000 [2:55:52<4:21:21, 26.76s/it]"
     ]
    },
    {
     "name": "stdout",
     "output_type": "stream",
     "text": [
      "eigenvalues shape torch.Size([5]) eigenvectors shape torch.Size([5, 450])\n",
      "414 /home/phdcs2/Hard_Disk/Datasets/Deep-Spectral-Segmentation/data/object-segmentation/ECSSD/features/dino_vits16/0415.pth\n",
      "dict_keys(['k', 'indices', 'file', 'id', 'model_name', 'patch_size', 'shape'])\n",
      "0415\n",
      "Starting Training\n",
      "epoch: 00, loss: -0.03903\n",
      "epoch: 01, loss: -0.05522\n",
      "epoch: 02, loss: -0.05637\n",
      "epoch: 03, loss: -0.05667\n",
      "epoch: 04, loss: -0.05708\n",
      "epoch: 05, loss: -0.05733\n",
      "epoch: 06, loss: -0.05769\n",
      "epoch: 07, loss: -0.05751\n",
      "epoch: 08, loss: -0.05770\n",
      "epoch: 09, loss: -0.05774\n",
      "torch.Size([450, 64])\n"
     ]
    },
    {
     "name": "stderr",
     "output_type": "stream",
     "text": [
      "\r",
      " 42%|█████████████████████████████████████████████████████████████████▉                                                                                             | 415/1000 [2:56:16<4:13:58, 26.05s/it]"
     ]
    },
    {
     "name": "stdout",
     "output_type": "stream",
     "text": [
      "eigenvalues shape torch.Size([5]) eigenvectors shape torch.Size([5, 450])\n",
      "415 /home/phdcs2/Hard_Disk/Datasets/Deep-Spectral-Segmentation/data/object-segmentation/ECSSD/features/dino_vits16/0416.pth\n",
      "dict_keys(['k', 'indices', 'file', 'id', 'model_name', 'patch_size', 'shape'])\n",
      "0416\n",
      "Starting Training\n",
      "epoch: 00, loss: -0.04296\n",
      "epoch: 01, loss: -0.06547\n",
      "epoch: 02, loss: -0.06647\n",
      "epoch: 03, loss: -0.06695\n",
      "epoch: 04, loss: -0.06704\n",
      "epoch: 05, loss: -0.06727\n",
      "epoch: 06, loss: -0.06758\n",
      "epoch: 07, loss: -0.06751\n",
      "epoch: 08, loss: -0.06758\n",
      "epoch: 09, loss: -0.06784\n",
      "torch.Size([450, 64])\n"
     ]
    },
    {
     "name": "stderr",
     "output_type": "stream",
     "text": [
      "\r",
      " 42%|██████████████████████████████████████████████████████████████████▏                                                                                            | 416/1000 [2:56:45<4:21:11, 26.84s/it]"
     ]
    },
    {
     "name": "stdout",
     "output_type": "stream",
     "text": [
      "eigenvalues shape torch.Size([5]) eigenvectors shape torch.Size([5, 450])\n",
      "416 /home/phdcs2/Hard_Disk/Datasets/Deep-Spectral-Segmentation/data/object-segmentation/ECSSD/features/dino_vits16/0417.pth\n",
      "dict_keys(['k', 'indices', 'file', 'id', 'model_name', 'patch_size', 'shape'])\n",
      "0417\n",
      "Starting Training\n",
      "epoch: 00, loss: -0.01282\n",
      "epoch: 01, loss: -0.03424\n",
      "epoch: 02, loss: -0.03621\n",
      "epoch: 03, loss: -0.03680\n",
      "epoch: 04, loss: -0.03712\n",
      "epoch: 05, loss: -0.03726\n",
      "epoch: 06, loss: -0.03747\n",
      "epoch: 07, loss: -0.03768\n",
      "epoch: 08, loss: -0.03780\n",
      "epoch: 09, loss: -0.03791\n",
      "torch.Size([450, 64])\n"
     ]
    },
    {
     "name": "stderr",
     "output_type": "stream",
     "text": [
      "\r",
      " 42%|██████████████████████████████████████████████████████████████████▎                                                                                            | 417/1000 [2:57:15<4:28:43, 27.66s/it]"
     ]
    },
    {
     "name": "stdout",
     "output_type": "stream",
     "text": [
      "eigenvalues shape torch.Size([5]) eigenvectors shape torch.Size([5, 450])\n",
      "417 /home/phdcs2/Hard_Disk/Datasets/Deep-Spectral-Segmentation/data/object-segmentation/ECSSD/features/dino_vits16/0418.pth\n",
      "dict_keys(['k', 'indices', 'file', 'id', 'model_name', 'patch_size', 'shape'])\n",
      "0418\n",
      "Starting Training\n",
      "epoch: 00, loss: -0.07987\n",
      "epoch: 01, loss: -0.10762\n",
      "epoch: 02, loss: -0.10971\n",
      "epoch: 03, loss: -0.11474\n",
      "epoch: 04, loss: -0.11291\n",
      "epoch: 05, loss: -0.11461\n",
      "epoch: 06, loss: -0.11307\n",
      "epoch: 07, loss: -0.11628\n",
      "epoch: 08, loss: -0.11457\n",
      "epoch: 09, loss: -0.11561\n",
      "torch.Size([450, 64])\n"
     ]
    },
    {
     "name": "stderr",
     "output_type": "stream",
     "text": [
      "\r",
      " 42%|██████████████████████████████████████████████████████████████████▍                                                                                            | 418/1000 [2:57:44<4:33:52, 28.23s/it]"
     ]
    },
    {
     "name": "stdout",
     "output_type": "stream",
     "text": [
      "eigenvalues shape torch.Size([5]) eigenvectors shape torch.Size([5, 450])\n",
      "418 /home/phdcs2/Hard_Disk/Datasets/Deep-Spectral-Segmentation/data/object-segmentation/ECSSD/features/dino_vits16/0419.pth\n",
      "dict_keys(['k', 'indices', 'file', 'id', 'model_name', 'patch_size', 'shape'])\n",
      "0419\n",
      "Starting Training\n",
      "epoch: 00, loss: -0.02246\n",
      "epoch: 01, loss: -0.04782\n",
      "epoch: 02, loss: -0.04969\n",
      "epoch: 03, loss: -0.05035\n",
      "epoch: 04, loss: -0.05059\n",
      "epoch: 05, loss: -0.05090\n",
      "epoch: 06, loss: -0.05094\n",
      "epoch: 07, loss: -0.05122\n",
      "epoch: 08, loss: -0.05132\n",
      "epoch: 09, loss: -0.05144\n",
      "torch.Size([450, 64])\n"
     ]
    },
    {
     "name": "stderr",
     "output_type": "stream",
     "text": [
      "\r",
      " 42%|██████████████████████████████████████████████████████████████████▌                                                                                            | 419/1000 [2:58:19<4:51:07, 30.06s/it]"
     ]
    },
    {
     "name": "stdout",
     "output_type": "stream",
     "text": [
      "eigenvalues shape torch.Size([5]) eigenvectors shape torch.Size([5, 450])\n",
      "419 /home/phdcs2/Hard_Disk/Datasets/Deep-Spectral-Segmentation/data/object-segmentation/ECSSD/features/dino_vits16/0420.pth\n",
      "dict_keys(['k', 'indices', 'file', 'id', 'model_name', 'patch_size', 'shape'])\n",
      "0420\n",
      "Starting Training\n",
      "epoch: 00, loss: -0.05684\n",
      "epoch: 01, loss: -0.07718\n",
      "epoch: 02, loss: -0.08185\n",
      "epoch: 03, loss: -0.08128\n",
      "epoch: 04, loss: -0.08227\n",
      "epoch: 05, loss: -0.08306\n",
      "epoch: 06, loss: -0.08242\n",
      "epoch: 07, loss: -0.08330\n",
      "epoch: 08, loss: -0.08305\n",
      "epoch: 09, loss: -0.08305\n",
      "torch.Size([575, 64])\n"
     ]
    },
    {
     "name": "stderr",
     "output_type": "stream",
     "text": [
      "\r",
      " 42%|██████████████████████████████████████████████████████████████████▊                                                                                            | 420/1000 [2:59:03<5:32:01, 34.35s/it]"
     ]
    },
    {
     "name": "stdout",
     "output_type": "stream",
     "text": [
      "eigenvalues shape torch.Size([5]) eigenvectors shape torch.Size([5, 575])\n",
      "420 /home/phdcs2/Hard_Disk/Datasets/Deep-Spectral-Segmentation/data/object-segmentation/ECSSD/features/dino_vits16/0421.pth\n",
      "dict_keys(['k', 'indices', 'file', 'id', 'model_name', 'patch_size', 'shape'])\n",
      "0421\n",
      "Starting Training\n",
      "epoch: 00, loss: -0.06239\n",
      "epoch: 01, loss: -0.07792\n",
      "epoch: 02, loss: -0.07849\n",
      "epoch: 03, loss: -0.07783\n",
      "epoch: 04, loss: -0.07830\n",
      "epoch: 05, loss: -0.07823\n",
      "epoch: 06, loss: -0.07840\n",
      "epoch: 07, loss: -0.07843\n",
      "epoch: 08, loss: -0.07884\n",
      "epoch: 09, loss: -0.07869\n",
      "torch.Size([525, 64])\n"
     ]
    },
    {
     "name": "stderr",
     "output_type": "stream",
     "text": [
      "\r",
      " 42%|██████████████████████████████████████████████████████████████████▉                                                                                            | 421/1000 [2:59:46<5:57:46, 37.08s/it]"
     ]
    },
    {
     "name": "stdout",
     "output_type": "stream",
     "text": [
      "eigenvalues shape torch.Size([5]) eigenvectors shape torch.Size([5, 525])\n",
      "421 /home/phdcs2/Hard_Disk/Datasets/Deep-Spectral-Segmentation/data/object-segmentation/ECSSD/features/dino_vits16/0422.pth\n",
      "dict_keys(['k', 'indices', 'file', 'id', 'model_name', 'patch_size', 'shape'])\n",
      "0422\n",
      "Starting Training\n",
      "epoch: 00, loss: -0.02398\n",
      "epoch: 01, loss: -0.04981\n",
      "epoch: 02, loss: -0.05183\n",
      "epoch: 03, loss: -0.05238\n",
      "epoch: 04, loss: -0.05239\n",
      "epoch: 05, loss: -0.05268\n",
      "epoch: 06, loss: -0.05272\n",
      "epoch: 07, loss: -0.05295\n",
      "epoch: 08, loss: -0.05292\n",
      "epoch: 09, loss: -0.05312\n",
      "torch.Size([450, 64])\n"
     ]
    },
    {
     "name": "stderr",
     "output_type": "stream",
     "text": [
      "\r",
      " 42%|███████████████████████████████████████████████████████████████████                                                                                            | 422/1000 [3:00:08<5:13:36, 32.55s/it]"
     ]
    },
    {
     "name": "stdout",
     "output_type": "stream",
     "text": [
      "eigenvalues shape torch.Size([5]) eigenvectors shape torch.Size([5, 450])\n",
      "422 /home/phdcs2/Hard_Disk/Datasets/Deep-Spectral-Segmentation/data/object-segmentation/ECSSD/features/dino_vits16/0423.pth\n",
      "dict_keys(['k', 'indices', 'file', 'id', 'model_name', 'patch_size', 'shape'])\n",
      "0423\n",
      "Starting Training\n",
      "epoch: 00, loss: 0.00405\n",
      "epoch: 01, loss: -0.00414\n",
      "epoch: 02, loss: -0.00750\n",
      "epoch: 03, loss: -0.00907\n",
      "epoch: 04, loss: -0.01076\n",
      "epoch: 05, loss: -0.01121\n",
      "epoch: 06, loss: -0.01136\n",
      "epoch: 07, loss: -0.01135\n",
      "epoch: 08, loss: -0.01233\n",
      "epoch: 09, loss: -0.01131\n",
      "torch.Size([425, 64])\n"
     ]
    },
    {
     "name": "stderr",
     "output_type": "stream",
     "text": [
      "\r",
      " 42%|███████████████████████████████████████████████████████████████████▎                                                                                           | 423/1000 [3:00:31<4:44:28, 29.58s/it]"
     ]
    },
    {
     "name": "stdout",
     "output_type": "stream",
     "text": [
      "eigenvalues shape torch.Size([5]) eigenvectors shape torch.Size([5, 425])\n",
      "423 /home/phdcs2/Hard_Disk/Datasets/Deep-Spectral-Segmentation/data/object-segmentation/ECSSD/features/dino_vits16/0424.pth\n",
      "dict_keys(['k', 'indices', 'file', 'id', 'model_name', 'patch_size', 'shape'])\n",
      "0424\n",
      "Starting Training\n",
      "epoch: 00, loss: -0.03332\n",
      "epoch: 01, loss: -0.06582\n",
      "epoch: 02, loss: -0.06854\n",
      "epoch: 03, loss: -0.07308\n",
      "epoch: 04, loss: -0.07191\n",
      "epoch: 05, loss: -0.07551\n",
      "epoch: 06, loss: -0.07306\n",
      "epoch: 07, loss: -0.07366\n",
      "epoch: 08, loss: -0.07564\n",
      "epoch: 09, loss: -0.07540\n",
      "torch.Size([550, 64])\n"
     ]
    },
    {
     "name": "stderr",
     "output_type": "stream",
     "text": [
      "\r",
      " 42%|███████████████████████████████████████████████████████████████████▍                                                                                           | 424/1000 [3:01:11<5:13:13, 32.63s/it]"
     ]
    },
    {
     "name": "stdout",
     "output_type": "stream",
     "text": [
      "eigenvalues shape torch.Size([5]) eigenvectors shape torch.Size([5, 550])\n",
      "424 /home/phdcs2/Hard_Disk/Datasets/Deep-Spectral-Segmentation/data/object-segmentation/ECSSD/features/dino_vits16/0425.pth\n",
      "dict_keys(['k', 'indices', 'file', 'id', 'model_name', 'patch_size', 'shape'])\n",
      "0425\n",
      "Starting Training\n",
      "epoch: 00, loss: 0.00820\n",
      "epoch: 01, loss: 0.00096\n",
      "epoch: 02, loss: -0.00279\n",
      "epoch: 03, loss: -0.00409\n",
      "epoch: 04, loss: -0.00553\n",
      "epoch: 05, loss: -0.00645\n",
      "epoch: 06, loss: -0.00707\n",
      "epoch: 07, loss: -0.00725\n",
      "epoch: 08, loss: -0.00864\n",
      "epoch: 09, loss: -0.00921\n",
      "torch.Size([475, 64])\n"
     ]
    },
    {
     "name": "stderr",
     "output_type": "stream",
     "text": [
      "\r",
      " 42%|███████████████████████████████████████████████████████████████████▌                                                                                           | 425/1000 [3:01:33<4:43:02, 29.53s/it]"
     ]
    },
    {
     "name": "stdout",
     "output_type": "stream",
     "text": [
      "eigenvalues shape torch.Size([5]) eigenvectors shape torch.Size([5, 475])\n",
      "425 /home/phdcs2/Hard_Disk/Datasets/Deep-Spectral-Segmentation/data/object-segmentation/ECSSD/features/dino_vits16/0426.pth\n",
      "dict_keys(['k', 'indices', 'file', 'id', 'model_name', 'patch_size', 'shape'])\n",
      "0426\n",
      "Starting Training\n",
      "epoch: 00, loss: -0.01663\n",
      "epoch: 01, loss: -0.04489\n",
      "epoch: 02, loss: -0.05015\n",
      "epoch: 03, loss: -0.05276\n",
      "epoch: 04, loss: -0.05288\n",
      "epoch: 05, loss: -0.05521\n",
      "epoch: 06, loss: -0.05450\n",
      "epoch: 07, loss: -0.05428\n",
      "epoch: 08, loss: -0.05540\n",
      "epoch: 09, loss: -0.05745\n",
      "torch.Size([500, 64])\n"
     ]
    },
    {
     "name": "stderr",
     "output_type": "stream",
     "text": [
      "\r",
      " 43%|███████████████████████████████████████████████████████████████████▋                                                                                           | 426/1000 [3:01:56<4:24:11, 27.62s/it]"
     ]
    },
    {
     "name": "stdout",
     "output_type": "stream",
     "text": [
      "eigenvalues shape torch.Size([5]) eigenvectors shape torch.Size([5, 500])\n",
      "426 /home/phdcs2/Hard_Disk/Datasets/Deep-Spectral-Segmentation/data/object-segmentation/ECSSD/features/dino_vits16/0427.pth\n",
      "dict_keys(['k', 'indices', 'file', 'id', 'model_name', 'patch_size', 'shape'])\n",
      "0427\n",
      "Starting Training\n",
      "epoch: 00, loss: -0.07030\n",
      "epoch: 01, loss: -0.09069\n",
      "epoch: 02, loss: -0.09086\n",
      "epoch: 03, loss: -0.09117\n",
      "epoch: 04, loss: -0.09187\n",
      "epoch: 05, loss: -0.09165\n",
      "epoch: 06, loss: -0.09198\n",
      "epoch: 07, loss: -0.09190\n",
      "epoch: 08, loss: -0.09216\n",
      "epoch: 09, loss: -0.09211\n",
      "torch.Size([450, 64])\n"
     ]
    },
    {
     "name": "stderr",
     "output_type": "stream",
     "text": [
      "\r",
      " 43%|███████████████████████████████████████████████████████████████████▉                                                                                           | 427/1000 [3:02:18<4:08:09, 25.99s/it]"
     ]
    },
    {
     "name": "stdout",
     "output_type": "stream",
     "text": [
      "eigenvalues shape torch.Size([5]) eigenvectors shape torch.Size([5, 450])\n",
      "427 /home/phdcs2/Hard_Disk/Datasets/Deep-Spectral-Segmentation/data/object-segmentation/ECSSD/features/dino_vits16/0428.pth\n",
      "dict_keys(['k', 'indices', 'file', 'id', 'model_name', 'patch_size', 'shape'])\n",
      "0428\n",
      "Starting Training\n",
      "epoch: 00, loss: -0.04922\n",
      "epoch: 01, loss: -0.07045\n",
      "epoch: 02, loss: -0.07140\n",
      "epoch: 03, loss: -0.07231\n",
      "epoch: 04, loss: -0.07202\n",
      "epoch: 05, loss: -0.07244\n",
      "epoch: 06, loss: -0.07245\n",
      "epoch: 07, loss: -0.07263\n",
      "epoch: 08, loss: -0.07290\n",
      "epoch: 09, loss: -0.07281\n",
      "torch.Size([400, 64])\n"
     ]
    },
    {
     "name": "stderr",
     "output_type": "stream",
     "text": [
      "\r",
      " 43%|████████████████████████████████████████████████████████████████████                                                                                           | 428/1000 [3:02:36<3:44:18, 23.53s/it]"
     ]
    },
    {
     "name": "stdout",
     "output_type": "stream",
     "text": [
      "eigenvalues shape torch.Size([5]) eigenvectors shape torch.Size([5, 400])\n",
      "428 /home/phdcs2/Hard_Disk/Datasets/Deep-Spectral-Segmentation/data/object-segmentation/ECSSD/features/dino_vits16/0429.pth\n",
      "dict_keys(['k', 'indices', 'file', 'id', 'model_name', 'patch_size', 'shape'])\n",
      "0429\n",
      "Starting Training\n",
      "epoch: 00, loss: -0.03578\n",
      "epoch: 01, loss: -0.05853\n",
      "epoch: 02, loss: -0.06076\n",
      "epoch: 03, loss: -0.06117\n",
      "epoch: 04, loss: -0.06174\n",
      "epoch: 05, loss: -0.06162\n",
      "epoch: 06, loss: -0.06215\n",
      "epoch: 07, loss: -0.06028\n",
      "epoch: 08, loss: -0.06242\n",
      "epoch: 09, loss: -0.06058\n",
      "torch.Size([375, 64])\n"
     ]
    },
    {
     "name": "stderr",
     "output_type": "stream",
     "text": [
      "\r",
      " 43%|████████████████████████████████████████████████████████████████████▏                                                                                          | 429/1000 [3:02:53<3:25:37, 21.61s/it]"
     ]
    },
    {
     "name": "stdout",
     "output_type": "stream",
     "text": [
      "eigenvalues shape torch.Size([5]) eigenvectors shape torch.Size([5, 375])\n",
      "429 /home/phdcs2/Hard_Disk/Datasets/Deep-Spectral-Segmentation/data/object-segmentation/ECSSD/features/dino_vits16/0430.pth\n",
      "dict_keys(['k', 'indices', 'file', 'id', 'model_name', 'patch_size', 'shape'])\n",
      "0430\n",
      "Starting Training\n",
      "epoch: 00, loss: -0.04345\n",
      "epoch: 01, loss: -0.05989\n",
      "epoch: 02, loss: -0.05923\n",
      "epoch: 03, loss: -0.06091\n",
      "epoch: 04, loss: -0.06204\n",
      "epoch: 05, loss: -0.06148\n",
      "epoch: 06, loss: -0.06241\n",
      "epoch: 07, loss: -0.06235\n",
      "epoch: 08, loss: -0.06243\n",
      "epoch: 09, loss: -0.06264\n",
      "torch.Size([500, 64])\n"
     ]
    },
    {
     "name": "stderr",
     "output_type": "stream",
     "text": [
      "\r",
      " 43%|████████████████████████████████████████████████████████████████████▎                                                                                          | 430/1000 [3:03:17<3:32:03, 22.32s/it]"
     ]
    },
    {
     "name": "stdout",
     "output_type": "stream",
     "text": [
      "eigenvalues shape torch.Size([5]) eigenvectors shape torch.Size([5, 500])\n",
      "430 /home/phdcs2/Hard_Disk/Datasets/Deep-Spectral-Segmentation/data/object-segmentation/ECSSD/features/dino_vits16/0431.pth\n",
      "dict_keys(['k', 'indices', 'file', 'id', 'model_name', 'patch_size', 'shape'])\n",
      "0431\n",
      "Starting Training\n",
      "epoch: 00, loss: 0.00232\n",
      "epoch: 01, loss: -0.00634\n",
      "epoch: 02, loss: -0.01076\n",
      "epoch: 03, loss: -0.01319\n",
      "epoch: 04, loss: -0.01467\n",
      "epoch: 05, loss: -0.01538\n",
      "epoch: 06, loss: -0.01588\n",
      "epoch: 07, loss: -0.01629\n",
      "epoch: 08, loss: -0.01653\n",
      "epoch: 09, loss: -0.01665\n",
      "torch.Size([400, 64])\n"
     ]
    },
    {
     "name": "stderr",
     "output_type": "stream",
     "text": [
      "\r",
      " 43%|████████████████████████████████████████████████████████████████████▌                                                                                          | 431/1000 [3:03:35<3:19:32, 21.04s/it]"
     ]
    },
    {
     "name": "stdout",
     "output_type": "stream",
     "text": [
      "eigenvalues shape torch.Size([5]) eigenvectors shape torch.Size([5, 400])\n",
      "431 /home/phdcs2/Hard_Disk/Datasets/Deep-Spectral-Segmentation/data/object-segmentation/ECSSD/features/dino_vits16/0432.pth\n",
      "dict_keys(['k', 'indices', 'file', 'id', 'model_name', 'patch_size', 'shape'])\n",
      "0432\n",
      "Starting Training\n",
      "epoch: 00, loss: -0.01875\n",
      "epoch: 01, loss: -0.03665\n",
      "epoch: 02, loss: -0.03891\n",
      "epoch: 03, loss: -0.03786\n",
      "epoch: 04, loss: -0.03987\n",
      "epoch: 05, loss: -0.03920\n",
      "epoch: 06, loss: -0.03988\n",
      "epoch: 07, loss: -0.03931\n",
      "epoch: 08, loss: -0.03905\n",
      "epoch: 09, loss: -0.03961\n",
      "torch.Size([425, 64])\n"
     ]
    },
    {
     "name": "stderr",
     "output_type": "stream",
     "text": [
      "\r",
      " 43%|████████████████████████████████████████████████████████████████████▋                                                                                          | 432/1000 [3:03:57<3:20:00, 21.13s/it]"
     ]
    },
    {
     "name": "stdout",
     "output_type": "stream",
     "text": [
      "eigenvalues shape torch.Size([5]) eigenvectors shape torch.Size([5, 425])\n",
      "432 /home/phdcs2/Hard_Disk/Datasets/Deep-Spectral-Segmentation/data/object-segmentation/ECSSD/features/dino_vits16/0433.pth\n",
      "dict_keys(['k', 'indices', 'file', 'id', 'model_name', 'patch_size', 'shape'])\n",
      "0433\n",
      "Starting Training\n",
      "epoch: 00, loss: -0.00972\n",
      "epoch: 01, loss: -0.04046\n",
      "epoch: 02, loss: -0.04813\n",
      "epoch: 03, loss: -0.04782\n",
      "epoch: 04, loss: -0.05000\n",
      "epoch: 05, loss: -0.05023\n",
      "epoch: 06, loss: -0.04904\n",
      "epoch: 07, loss: -0.05162\n",
      "epoch: 08, loss: -0.05068\n",
      "epoch: 09, loss: -0.05235\n",
      "torch.Size([475, 64])\n"
     ]
    },
    {
     "name": "stderr",
     "output_type": "stream",
     "text": [
      "\r",
      " 43%|████████████████████████████████████████████████████████████████████▊                                                                                          | 433/1000 [3:04:19<3:24:02, 21.59s/it]"
     ]
    },
    {
     "name": "stdout",
     "output_type": "stream",
     "text": [
      "eigenvalues shape torch.Size([5]) eigenvectors shape torch.Size([5, 475])\n",
      "433 /home/phdcs2/Hard_Disk/Datasets/Deep-Spectral-Segmentation/data/object-segmentation/ECSSD/features/dino_vits16/0434.pth\n",
      "dict_keys(['k', 'indices', 'file', 'id', 'model_name', 'patch_size', 'shape'])\n",
      "0434\n",
      "Starting Training\n",
      "epoch: 00, loss: -0.02739\n",
      "epoch: 01, loss: -0.04899\n",
      "epoch: 02, loss: -0.05088\n",
      "epoch: 03, loss: -0.05130\n",
      "epoch: 04, loss: -0.05167\n",
      "epoch: 05, loss: -0.05195\n",
      "epoch: 06, loss: -0.05202\n",
      "epoch: 07, loss: -0.05216\n",
      "epoch: 08, loss: -0.05220\n",
      "epoch: 09, loss: -0.05228\n",
      "torch.Size([450, 64])\n"
     ]
    },
    {
     "name": "stderr",
     "output_type": "stream",
     "text": [
      "\r",
      " 43%|█████████████████████████████████████████████████████████████████████                                                                                          | 434/1000 [3:04:42<3:26:32, 21.90s/it]"
     ]
    },
    {
     "name": "stdout",
     "output_type": "stream",
     "text": [
      "eigenvalues shape torch.Size([5]) eigenvectors shape torch.Size([5, 450])\n",
      "434 /home/phdcs2/Hard_Disk/Datasets/Deep-Spectral-Segmentation/data/object-segmentation/ECSSD/features/dino_vits16/0435.pth\n",
      "dict_keys(['k', 'indices', 'file', 'id', 'model_name', 'patch_size', 'shape'])\n",
      "0435\n",
      "Starting Training\n",
      "epoch: 00, loss: -0.03338\n",
      "epoch: 01, loss: -0.05706\n",
      "epoch: 02, loss: -0.05889\n",
      "epoch: 03, loss: -0.05894\n",
      "epoch: 04, loss: -0.05941\n",
      "epoch: 05, loss: -0.05951\n",
      "epoch: 06, loss: -0.05974\n",
      "epoch: 07, loss: -0.05994\n",
      "epoch: 08, loss: -0.06013\n",
      "epoch: 09, loss: -0.06000\n",
      "torch.Size([450, 64])\n"
     ]
    },
    {
     "name": "stderr",
     "output_type": "stream",
     "text": [
      "\r",
      " 44%|█████████████████████████████████████████████████████████████████████▏                                                                                         | 435/1000 [3:05:03<3:24:41, 21.74s/it]"
     ]
    },
    {
     "name": "stdout",
     "output_type": "stream",
     "text": [
      "eigenvalues shape torch.Size([5]) eigenvectors shape torch.Size([5, 450])\n",
      "435 /home/phdcs2/Hard_Disk/Datasets/Deep-Spectral-Segmentation/data/object-segmentation/ECSSD/features/dino_vits16/0436.pth\n",
      "dict_keys(['k', 'indices', 'file', 'id', 'model_name', 'patch_size', 'shape'])\n",
      "0436\n",
      "Starting Training\n",
      "epoch: 00, loss: -0.07923\n",
      "epoch: 01, loss: -0.10278\n",
      "epoch: 02, loss: -0.10372\n",
      "epoch: 03, loss: -0.10684\n",
      "epoch: 04, loss: -0.10609\n",
      "epoch: 05, loss: -0.10877\n",
      "epoch: 06, loss: -0.10754\n",
      "epoch: 07, loss: -0.10900\n",
      "epoch: 08, loss: -0.10977\n",
      "epoch: 09, loss: -0.11109\n",
      "torch.Size([475, 64])\n"
     ]
    },
    {
     "name": "stderr",
     "output_type": "stream",
     "text": [
      "\r",
      " 44%|█████████████████████████████████████████████████████████████████████▎                                                                                         | 436/1000 [3:05:26<3:26:34, 21.98s/it]"
     ]
    },
    {
     "name": "stdout",
     "output_type": "stream",
     "text": [
      "eigenvalues shape torch.Size([5]) eigenvectors shape torch.Size([5, 475])\n",
      "436 /home/phdcs2/Hard_Disk/Datasets/Deep-Spectral-Segmentation/data/object-segmentation/ECSSD/features/dino_vits16/0437.pth\n",
      "dict_keys(['k', 'indices', 'file', 'id', 'model_name', 'patch_size', 'shape'])\n",
      "0437\n",
      "Starting Training\n",
      "epoch: 00, loss: -0.02534\n",
      "epoch: 01, loss: -0.05427\n",
      "epoch: 02, loss: -0.06403\n",
      "epoch: 03, loss: -0.06015\n",
      "epoch: 04, loss: -0.06314\n",
      "epoch: 05, loss: -0.06568\n",
      "epoch: 06, loss: -0.06457\n",
      "epoch: 07, loss: -0.06398\n",
      "epoch: 08, loss: -0.06391\n",
      "epoch: 09, loss: -0.06398\n",
      "torch.Size([450, 64])\n"
     ]
    },
    {
     "name": "stderr",
     "output_type": "stream",
     "text": [
      "\r",
      " 44%|█████████████████████████████████████████████████████████████████████▍                                                                                         | 437/1000 [3:05:47<3:24:07, 21.75s/it]"
     ]
    },
    {
     "name": "stdout",
     "output_type": "stream",
     "text": [
      "eigenvalues shape torch.Size([5]) eigenvectors shape torch.Size([5, 450])\n",
      "437 /home/phdcs2/Hard_Disk/Datasets/Deep-Spectral-Segmentation/data/object-segmentation/ECSSD/features/dino_vits16/0438.pth\n",
      "dict_keys(['k', 'indices', 'file', 'id', 'model_name', 'patch_size', 'shape'])\n",
      "0438\n",
      "Starting Training\n",
      "epoch: 00, loss: -0.02319\n",
      "epoch: 01, loss: -0.04748\n",
      "epoch: 02, loss: -0.05349\n",
      "epoch: 03, loss: -0.05297\n",
      "epoch: 04, loss: -0.05607\n",
      "epoch: 05, loss: -0.05757\n",
      "epoch: 06, loss: -0.05558\n",
      "epoch: 07, loss: -0.05639\n",
      "epoch: 08, loss: -0.05696\n",
      "epoch: 09, loss: -0.05712\n",
      "torch.Size([450, 64])\n"
     ]
    },
    {
     "name": "stderr",
     "output_type": "stream",
     "text": [
      "\r",
      " 44%|█████████████████████████████████████████████████████████████████████▋                                                                                         | 438/1000 [3:06:09<3:25:33, 21.95s/it]"
     ]
    },
    {
     "name": "stdout",
     "output_type": "stream",
     "text": [
      "eigenvalues shape torch.Size([5]) eigenvectors shape torch.Size([5, 450])\n",
      "438 /home/phdcs2/Hard_Disk/Datasets/Deep-Spectral-Segmentation/data/object-segmentation/ECSSD/features/dino_vits16/0439.pth\n",
      "dict_keys(['k', 'indices', 'file', 'id', 'model_name', 'patch_size', 'shape'])\n",
      "0439\n",
      "Starting Training\n",
      "epoch: 00, loss: -0.01049\n",
      "epoch: 01, loss: -0.03042\n",
      "epoch: 02, loss: -0.03233\n",
      "epoch: 03, loss: -0.03373\n",
      "epoch: 04, loss: -0.03415\n",
      "epoch: 05, loss: -0.03321\n",
      "epoch: 06, loss: -0.03445\n",
      "epoch: 07, loss: -0.03347\n",
      "epoch: 08, loss: -0.03403\n",
      "epoch: 09, loss: -0.03440\n",
      "torch.Size([575, 64])\n"
     ]
    },
    {
     "name": "stderr",
     "output_type": "stream",
     "text": [
      "\r",
      " 44%|█████████████████████████████████████████████████████████████████████▊                                                                                         | 439/1000 [3:06:53<4:25:29, 28.39s/it]"
     ]
    },
    {
     "name": "stdout",
     "output_type": "stream",
     "text": [
      "eigenvalues shape torch.Size([5]) eigenvectors shape torch.Size([5, 575])\n",
      "439 /home/phdcs2/Hard_Disk/Datasets/Deep-Spectral-Segmentation/data/object-segmentation/ECSSD/features/dino_vits16/0440.pth\n",
      "dict_keys(['k', 'indices', 'file', 'id', 'model_name', 'patch_size', 'shape'])\n",
      "0440\n",
      "Starting Training\n",
      "epoch: 00, loss: -0.03836\n",
      "epoch: 01, loss: -0.06941\n",
      "epoch: 02, loss: -0.07520\n",
      "epoch: 03, loss: -0.07913\n",
      "epoch: 04, loss: -0.07780\n",
      "epoch: 05, loss: -0.07930\n",
      "epoch: 06, loss: -0.07980\n",
      "epoch: 07, loss: -0.07907\n",
      "epoch: 08, loss: -0.08034\n",
      "epoch: 09, loss: -0.08121\n",
      "torch.Size([450, 64])\n"
     ]
    },
    {
     "name": "stderr",
     "output_type": "stream",
     "text": [
      "\r",
      " 44%|█████████████████████████████████████████████████████████████████████▉                                                                                         | 440/1000 [3:07:16<4:10:20, 26.82s/it]"
     ]
    },
    {
     "name": "stdout",
     "output_type": "stream",
     "text": [
      "eigenvalues shape torch.Size([5]) eigenvectors shape torch.Size([5, 450])\n",
      "440 /home/phdcs2/Hard_Disk/Datasets/Deep-Spectral-Segmentation/data/object-segmentation/ECSSD/features/dino_vits16/0441.pth\n",
      "dict_keys(['k', 'indices', 'file', 'id', 'model_name', 'patch_size', 'shape'])\n",
      "0441\n",
      "Starting Training\n",
      "epoch: 00, loss: -0.04814\n",
      "epoch: 01, loss: -0.08128\n",
      "epoch: 02, loss: -0.08588\n",
      "epoch: 03, loss: -0.08819\n",
      "epoch: 04, loss: -0.08730\n",
      "epoch: 05, loss: -0.08973\n",
      "epoch: 06, loss: -0.09043\n",
      "epoch: 07, loss: -0.09090\n",
      "epoch: 08, loss: -0.08781\n",
      "epoch: 09, loss: -0.08992\n",
      "torch.Size([450, 64])\n"
     ]
    },
    {
     "name": "stderr",
     "output_type": "stream",
     "text": [
      "\r",
      " 44%|██████████████████████████████████████████████████████████████████████                                                                                         | 441/1000 [3:07:39<3:59:51, 25.74s/it]"
     ]
    },
    {
     "name": "stdout",
     "output_type": "stream",
     "text": [
      "eigenvalues shape torch.Size([5]) eigenvectors shape torch.Size([5, 450])\n",
      "441 /home/phdcs2/Hard_Disk/Datasets/Deep-Spectral-Segmentation/data/object-segmentation/ECSSD/features/dino_vits16/0442.pth\n",
      "dict_keys(['k', 'indices', 'file', 'id', 'model_name', 'patch_size', 'shape'])\n",
      "0442\n",
      "Starting Training\n",
      "epoch: 00, loss: -0.01635\n",
      "epoch: 01, loss: -0.03260\n",
      "epoch: 02, loss: -0.03582\n",
      "epoch: 03, loss: -0.03730\n",
      "epoch: 04, loss: -0.03792\n",
      "epoch: 05, loss: -0.03739\n",
      "epoch: 06, loss: -0.03855\n",
      "epoch: 07, loss: -0.03865\n",
      "epoch: 08, loss: -0.03783\n",
      "epoch: 09, loss: -0.03760\n",
      "torch.Size([475, 64])\n"
     ]
    },
    {
     "name": "stderr",
     "output_type": "stream",
     "text": [
      "\r",
      " 44%|██████████████████████████████████████████████████████████████████████▎                                                                                        | 442/1000 [3:08:05<3:58:13, 25.62s/it]"
     ]
    },
    {
     "name": "stdout",
     "output_type": "stream",
     "text": [
      "eigenvalues shape torch.Size([5]) eigenvectors shape torch.Size([5, 475])\n",
      "442 /home/phdcs2/Hard_Disk/Datasets/Deep-Spectral-Segmentation/data/object-segmentation/ECSSD/features/dino_vits16/0443.pth\n",
      "dict_keys(['k', 'indices', 'file', 'id', 'model_name', 'patch_size', 'shape'])\n",
      "0443\n",
      "Starting Training\n",
      "epoch: 00, loss: -0.03096\n",
      "epoch: 01, loss: -0.05597\n",
      "epoch: 02, loss: -0.05714\n",
      "epoch: 03, loss: -0.05742\n",
      "epoch: 04, loss: -0.05770\n",
      "epoch: 05, loss: -0.05790\n",
      "epoch: 06, loss: -0.05820\n",
      "epoch: 07, loss: -0.05833\n",
      "epoch: 08, loss: -0.05850\n",
      "epoch: 09, loss: -0.05850\n",
      "torch.Size([450, 64])\n"
     ]
    },
    {
     "name": "stderr",
     "output_type": "stream",
     "text": [
      "\r",
      " 44%|██████████████████████████████████████████████████████████████████████▍                                                                                        | 443/1000 [3:08:29<3:55:06, 25.33s/it]"
     ]
    },
    {
     "name": "stdout",
     "output_type": "stream",
     "text": [
      "eigenvalues shape torch.Size([5]) eigenvectors shape torch.Size([5, 450])\n",
      "443 /home/phdcs2/Hard_Disk/Datasets/Deep-Spectral-Segmentation/data/object-segmentation/ECSSD/features/dino_vits16/0444.pth\n",
      "dict_keys(['k', 'indices', 'file', 'id', 'model_name', 'patch_size', 'shape'])\n",
      "0444\n",
      "Starting Training\n",
      "epoch: 00, loss: -0.03497\n",
      "epoch: 01, loss: -0.06036\n",
      "epoch: 02, loss: -0.06680\n",
      "epoch: 03, loss: -0.06867\n",
      "epoch: 04, loss: -0.07115\n",
      "epoch: 05, loss: -0.07211\n",
      "epoch: 06, loss: -0.07127\n",
      "epoch: 07, loss: -0.07115\n",
      "epoch: 08, loss: -0.07290\n",
      "epoch: 09, loss: -0.07318\n",
      "torch.Size([450, 64])\n"
     ]
    },
    {
     "name": "stderr",
     "output_type": "stream",
     "text": [
      "\r",
      " 44%|██████████████████████████████████████████████████████████████████████▌                                                                                        | 444/1000 [3:08:52<3:46:32, 24.45s/it]"
     ]
    },
    {
     "name": "stdout",
     "output_type": "stream",
     "text": [
      "eigenvalues shape torch.Size([5]) eigenvectors shape torch.Size([5, 450])\n",
      "444 /home/phdcs2/Hard_Disk/Datasets/Deep-Spectral-Segmentation/data/object-segmentation/ECSSD/features/dino_vits16/0445.pth\n",
      "dict_keys(['k', 'indices', 'file', 'id', 'model_name', 'patch_size', 'shape'])\n",
      "0445\n",
      "Starting Training\n",
      "epoch: 00, loss: -0.03148\n",
      "epoch: 01, loss: -0.05974\n",
      "epoch: 02, loss: -0.06368\n",
      "epoch: 03, loss: -0.06700\n",
      "epoch: 04, loss: -0.06543\n",
      "epoch: 05, loss: -0.06796\n",
      "epoch: 06, loss: -0.06936\n",
      "epoch: 07, loss: -0.06547\n",
      "epoch: 08, loss: -0.06805\n",
      "epoch: 09, loss: -0.06846\n",
      "torch.Size([400, 64])\n"
     ]
    },
    {
     "name": "stderr",
     "output_type": "stream",
     "text": [
      "\r",
      " 44%|██████████████████████████████████████████████████████████████████████▊                                                                                        | 445/1000 [3:09:12<3:33:29, 23.08s/it]"
     ]
    },
    {
     "name": "stdout",
     "output_type": "stream",
     "text": [
      "eigenvalues shape torch.Size([5]) eigenvectors shape torch.Size([5, 400])\n",
      "445 /home/phdcs2/Hard_Disk/Datasets/Deep-Spectral-Segmentation/data/object-segmentation/ECSSD/features/dino_vits16/0446.pth\n",
      "dict_keys(['k', 'indices', 'file', 'id', 'model_name', 'patch_size', 'shape'])\n",
      "0446\n",
      "Starting Training\n",
      "epoch: 00, loss: -0.04059\n",
      "epoch: 01, loss: -0.06682\n",
      "epoch: 02, loss: -0.06792\n",
      "epoch: 03, loss: -0.06840\n",
      "epoch: 04, loss: -0.06861\n",
      "epoch: 05, loss: -0.06876\n",
      "epoch: 06, loss: -0.06904\n",
      "epoch: 07, loss: -0.06938\n",
      "epoch: 08, loss: -0.06921\n",
      "epoch: 09, loss: -0.06934\n",
      "torch.Size([400, 64])\n"
     ]
    },
    {
     "name": "stderr",
     "output_type": "stream",
     "text": [
      "\r",
      " 45%|██████████████████████████████████████████████████████████████████████▉                                                                                        | 446/1000 [3:09:32<3:24:41, 22.17s/it]"
     ]
    },
    {
     "name": "stdout",
     "output_type": "stream",
     "text": [
      "eigenvalues shape torch.Size([5]) eigenvectors shape torch.Size([5, 400])\n",
      "446 /home/phdcs2/Hard_Disk/Datasets/Deep-Spectral-Segmentation/data/object-segmentation/ECSSD/features/dino_vits16/0447.pth\n",
      "dict_keys(['k', 'indices', 'file', 'id', 'model_name', 'patch_size', 'shape'])\n",
      "0447\n",
      "Starting Training\n",
      "epoch: 00, loss: -0.01145\n",
      "epoch: 01, loss: -0.03911\n",
      "epoch: 02, loss: -0.04411\n",
      "epoch: 03, loss: -0.04501\n",
      "epoch: 04, loss: -0.04553\n",
      "epoch: 05, loss: -0.04573\n",
      "epoch: 06, loss: -0.04594\n",
      "epoch: 07, loss: -0.04605\n",
      "epoch: 08, loss: -0.04620\n",
      "epoch: 09, loss: -0.04635\n",
      "torch.Size([400, 64])\n"
     ]
    },
    {
     "name": "stderr",
     "output_type": "stream",
     "text": [
      "\r",
      " 45%|███████████████████████████████████████████████████████████████████████                                                                                        | 447/1000 [3:09:50<3:14:15, 21.08s/it]"
     ]
    },
    {
     "name": "stdout",
     "output_type": "stream",
     "text": [
      "eigenvalues shape torch.Size([5]) eigenvectors shape torch.Size([5, 400])\n",
      "447 /home/phdcs2/Hard_Disk/Datasets/Deep-Spectral-Segmentation/data/object-segmentation/ECSSD/features/dino_vits16/0448.pth\n",
      "dict_keys(['k', 'indices', 'file', 'id', 'model_name', 'patch_size', 'shape'])\n",
      "0448\n",
      "Starting Training\n",
      "epoch: 00, loss: -0.05645\n",
      "epoch: 01, loss: -0.09246\n",
      "epoch: 02, loss: -0.09511\n",
      "epoch: 03, loss: -0.09711\n",
      "epoch: 04, loss: -0.09929\n",
      "epoch: 05, loss: -0.09915\n",
      "epoch: 06, loss: -0.09980\n",
      "epoch: 07, loss: -0.10070\n",
      "epoch: 08, loss: -0.10013\n",
      "epoch: 09, loss: -0.10143\n",
      "torch.Size([350, 64])\n"
     ]
    },
    {
     "name": "stderr",
     "output_type": "stream",
     "text": [
      "\r",
      " 45%|███████████████████████████████████████████████████████████████████████▏                                                                                       | 448/1000 [3:10:09<3:06:52, 20.31s/it]"
     ]
    },
    {
     "name": "stdout",
     "output_type": "stream",
     "text": [
      "eigenvalues shape torch.Size([5]) eigenvectors shape torch.Size([5, 350])\n",
      "448 /home/phdcs2/Hard_Disk/Datasets/Deep-Spectral-Segmentation/data/object-segmentation/ECSSD/features/dino_vits16/0449.pth\n",
      "dict_keys(['k', 'indices', 'file', 'id', 'model_name', 'patch_size', 'shape'])\n",
      "0449\n",
      "Starting Training\n",
      "epoch: 00, loss: -0.04805\n",
      "epoch: 01, loss: -0.06452\n",
      "epoch: 02, loss: -0.06964\n",
      "epoch: 03, loss: -0.07000\n",
      "epoch: 04, loss: -0.06956\n",
      "epoch: 05, loss: -0.06829\n",
      "epoch: 06, loss: -0.07089\n",
      "epoch: 07, loss: -0.06970\n",
      "epoch: 08, loss: -0.07259\n",
      "epoch: 09, loss: -0.07018\n",
      "torch.Size([475, 64])\n"
     ]
    },
    {
     "name": "stderr",
     "output_type": "stream",
     "text": [
      "\r",
      " 45%|███████████████████████████████████████████████████████████████████████▍                                                                                       | 449/1000 [3:10:40<3:36:41, 23.60s/it]"
     ]
    },
    {
     "name": "stdout",
     "output_type": "stream",
     "text": [
      "eigenvalues shape torch.Size([5]) eigenvectors shape torch.Size([5, 475])\n",
      "449 /home/phdcs2/Hard_Disk/Datasets/Deep-Spectral-Segmentation/data/object-segmentation/ECSSD/features/dino_vits16/0450.pth\n",
      "dict_keys(['k', 'indices', 'file', 'id', 'model_name', 'patch_size', 'shape'])\n",
      "0450\n",
      "Starting Training\n",
      "epoch: 00, loss: -0.03460\n",
      "epoch: 01, loss: -0.06434\n",
      "epoch: 02, loss: -0.06721\n",
      "epoch: 03, loss: -0.06876\n",
      "epoch: 04, loss: -0.07406\n",
      "epoch: 05, loss: -0.07464\n",
      "epoch: 06, loss: -0.07061\n",
      "epoch: 07, loss: -0.07683\n",
      "epoch: 08, loss: -0.07251\n",
      "epoch: 09, loss: -0.07343\n",
      "torch.Size([400, 64])\n"
     ]
    },
    {
     "name": "stderr",
     "output_type": "stream",
     "text": [
      "\r",
      " 45%|███████████████████████████████████████████████████████████████████████▌                                                                                       | 450/1000 [3:10:59<3:23:05, 22.16s/it]"
     ]
    },
    {
     "name": "stdout",
     "output_type": "stream",
     "text": [
      "eigenvalues shape torch.Size([5]) eigenvectors shape torch.Size([5, 400])\n",
      "450 /home/phdcs2/Hard_Disk/Datasets/Deep-Spectral-Segmentation/data/object-segmentation/ECSSD/features/dino_vits16/0451.pth\n",
      "dict_keys(['k', 'indices', 'file', 'id', 'model_name', 'patch_size', 'shape'])\n",
      "0451\n",
      "Starting Training\n",
      "epoch: 00, loss: -0.05287\n",
      "epoch: 01, loss: -0.07006\n",
      "epoch: 02, loss: -0.07074\n",
      "epoch: 03, loss: -0.07108\n",
      "epoch: 04, loss: -0.07147\n",
      "epoch: 05, loss: -0.07152\n",
      "epoch: 06, loss: -0.07229\n",
      "epoch: 07, loss: -0.07203\n",
      "epoch: 08, loss: -0.07231\n",
      "epoch: 09, loss: -0.07210\n",
      "torch.Size([450, 64])\n"
     ]
    },
    {
     "name": "stderr",
     "output_type": "stream",
     "text": [
      "\r",
      " 45%|███████████████████████████████████████████████████████████████████████▋                                                                                       | 451/1000 [3:11:23<3:27:28, 22.67s/it]"
     ]
    },
    {
     "name": "stdout",
     "output_type": "stream",
     "text": [
      "eigenvalues shape torch.Size([5]) eigenvectors shape torch.Size([5, 450])\n",
      "451 /home/phdcs2/Hard_Disk/Datasets/Deep-Spectral-Segmentation/data/object-segmentation/ECSSD/features/dino_vits16/0452.pth\n",
      "dict_keys(['k', 'indices', 'file', 'id', 'model_name', 'patch_size', 'shape'])\n",
      "0452\n",
      "Starting Training\n",
      "epoch: 00, loss: -0.02646\n",
      "epoch: 01, loss: -0.05125\n",
      "epoch: 02, loss: -0.05569\n",
      "epoch: 03, loss: -0.05839\n",
      "epoch: 04, loss: -0.05871\n",
      "epoch: 05, loss: -0.05980\n",
      "epoch: 06, loss: -0.06070\n",
      "epoch: 07, loss: -0.06125\n",
      "epoch: 08, loss: -0.06144\n",
      "epoch: 09, loss: -0.06063\n",
      "torch.Size([475, 64])\n"
     ]
    },
    {
     "name": "stderr",
     "output_type": "stream",
     "text": [
      "\r",
      " 45%|███████████████████████████████████████████████████████████████████████▊                                                                                       | 452/1000 [3:11:48<3:33:35, 23.39s/it]"
     ]
    },
    {
     "name": "stdout",
     "output_type": "stream",
     "text": [
      "eigenvalues shape torch.Size([5]) eigenvectors shape torch.Size([5, 475])\n",
      "452 /home/phdcs2/Hard_Disk/Datasets/Deep-Spectral-Segmentation/data/object-segmentation/ECSSD/features/dino_vits16/0453.pth\n",
      "dict_keys(['k', 'indices', 'file', 'id', 'model_name', 'patch_size', 'shape'])\n",
      "0453\n",
      "Starting Training\n",
      "epoch: 00, loss: -0.02758\n",
      "epoch: 01, loss: -0.05216\n",
      "epoch: 02, loss: -0.05773\n",
      "epoch: 03, loss: -0.05807\n",
      "epoch: 04, loss: -0.05903\n",
      "epoch: 05, loss: -0.06040\n",
      "epoch: 06, loss: -0.05917\n",
      "epoch: 07, loss: -0.05991\n",
      "epoch: 08, loss: -0.06086\n",
      "epoch: 09, loss: -0.05996\n",
      "torch.Size([400, 64])\n"
     ]
    },
    {
     "name": "stderr",
     "output_type": "stream",
     "text": [
      "\r",
      " 45%|████████████████████████████████████████████████████████████████████████                                                                                       | 453/1000 [3:12:08<3:26:16, 22.63s/it]"
     ]
    },
    {
     "name": "stdout",
     "output_type": "stream",
     "text": [
      "eigenvalues shape torch.Size([5]) eigenvectors shape torch.Size([5, 400])\n",
      "453 /home/phdcs2/Hard_Disk/Datasets/Deep-Spectral-Segmentation/data/object-segmentation/ECSSD/features/dino_vits16/0454.pth\n",
      "dict_keys(['k', 'indices', 'file', 'id', 'model_name', 'patch_size', 'shape'])\n",
      "0454\n",
      "Starting Training\n",
      "epoch: 00, loss: -0.01525\n",
      "epoch: 01, loss: -0.03252\n",
      "epoch: 02, loss: -0.03558\n",
      "epoch: 03, loss: -0.03650\n",
      "epoch: 04, loss: -0.03685\n",
      "epoch: 05, loss: -0.03709\n",
      "epoch: 06, loss: -0.03723\n",
      "epoch: 07, loss: -0.03744\n",
      "epoch: 08, loss: -0.03761\n",
      "epoch: 09, loss: -0.03769\n",
      "torch.Size([400, 64])\n"
     ]
    },
    {
     "name": "stderr",
     "output_type": "stream",
     "text": [
      "\r",
      " 45%|████████████████████████████████████████████████████████████████████████▏                                                                                      | 454/1000 [3:12:32<3:27:51, 22.84s/it]"
     ]
    },
    {
     "name": "stdout",
     "output_type": "stream",
     "text": [
      "eigenvalues shape torch.Size([5]) eigenvectors shape torch.Size([5, 400])\n",
      "454 /home/phdcs2/Hard_Disk/Datasets/Deep-Spectral-Segmentation/data/object-segmentation/ECSSD/features/dino_vits16/0455.pth\n",
      "dict_keys(['k', 'indices', 'file', 'id', 'model_name', 'patch_size', 'shape'])\n",
      "0455\n",
      "Starting Training\n",
      "epoch: 00, loss: -0.03909\n",
      "epoch: 01, loss: -0.06105\n",
      "epoch: 02, loss: -0.06989\n",
      "epoch: 03, loss: -0.06946\n",
      "epoch: 04, loss: -0.07215\n",
      "epoch: 05, loss: -0.07431\n",
      "epoch: 06, loss: -0.07065\n",
      "epoch: 07, loss: -0.07401\n",
      "epoch: 08, loss: -0.07521\n",
      "epoch: 09, loss: -0.07596\n",
      "torch.Size([400, 64])\n"
     ]
    },
    {
     "name": "stderr",
     "output_type": "stream",
     "text": [
      "\r",
      " 46%|████████████████████████████████████████████████████████████████████████▎                                                                                      | 455/1000 [3:12:56<3:30:31, 23.18s/it]"
     ]
    },
    {
     "name": "stdout",
     "output_type": "stream",
     "text": [
      "eigenvalues shape torch.Size([5]) eigenvectors shape torch.Size([5, 400])\n",
      "455 /home/phdcs2/Hard_Disk/Datasets/Deep-Spectral-Segmentation/data/object-segmentation/ECSSD/features/dino_vits16/0456.pth\n",
      "dict_keys(['k', 'indices', 'file', 'id', 'model_name', 'patch_size', 'shape'])\n",
      "0456\n",
      "Starting Training\n",
      "epoch: 00, loss: 0.00175\n",
      "epoch: 01, loss: -0.01096\n",
      "epoch: 02, loss: -0.01589\n",
      "epoch: 03, loss: -0.01856\n",
      "epoch: 04, loss: -0.01985\n",
      "epoch: 05, loss: -0.01977\n",
      "epoch: 06, loss: -0.02086\n",
      "epoch: 07, loss: -0.02098\n",
      "epoch: 08, loss: -0.01971\n",
      "epoch: 09, loss: -0.02058\n",
      "torch.Size([425, 64])\n"
     ]
    },
    {
     "name": "stderr",
     "output_type": "stream",
     "text": [
      "\r",
      " 46%|████████████████████████████████████████████████████████████████████████▌                                                                                      | 456/1000 [3:13:23<3:41:16, 24.41s/it]"
     ]
    },
    {
     "name": "stdout",
     "output_type": "stream",
     "text": [
      "eigenvalues shape torch.Size([5]) eigenvectors shape torch.Size([5, 425])\n",
      "456 /home/phdcs2/Hard_Disk/Datasets/Deep-Spectral-Segmentation/data/object-segmentation/ECSSD/features/dino_vits16/0457.pth\n",
      "dict_keys(['k', 'indices', 'file', 'id', 'model_name', 'patch_size', 'shape'])\n",
      "0457\n",
      "Starting Training\n",
      "epoch: 00, loss: -0.01831\n",
      "epoch: 01, loss: -0.03501\n",
      "epoch: 02, loss: -0.03756\n",
      "epoch: 03, loss: -0.04128\n",
      "epoch: 04, loss: -0.04103\n",
      "epoch: 05, loss: -0.04235\n",
      "epoch: 06, loss: -0.04631\n",
      "epoch: 07, loss: -0.04463\n",
      "epoch: 08, loss: -0.04644\n",
      "epoch: 09, loss: -0.04698\n",
      "torch.Size([400, 64])\n"
     ]
    },
    {
     "name": "stderr",
     "output_type": "stream",
     "text": [
      "\r",
      " 46%|████████████████████████████████████████████████████████████████████████▋                                                                                      | 457/1000 [3:13:44<3:30:31, 23.26s/it]"
     ]
    },
    {
     "name": "stdout",
     "output_type": "stream",
     "text": [
      "eigenvalues shape torch.Size([5]) eigenvectors shape torch.Size([5, 400])\n",
      "457 /home/phdcs2/Hard_Disk/Datasets/Deep-Spectral-Segmentation/data/object-segmentation/ECSSD/features/dino_vits16/0458.pth\n",
      "dict_keys(['k', 'indices', 'file', 'id', 'model_name', 'patch_size', 'shape'])\n",
      "0458\n",
      "Starting Training\n",
      "epoch: 00, loss: -0.05801\n",
      "epoch: 01, loss: -0.08580\n",
      "epoch: 02, loss: -0.08979\n",
      "epoch: 03, loss: -0.09098\n",
      "epoch: 04, loss: -0.09306\n",
      "epoch: 05, loss: -0.09290\n",
      "epoch: 06, loss: -0.09295\n",
      "epoch: 07, loss: -0.09523\n",
      "epoch: 08, loss: -0.09312\n",
      "epoch: 09, loss: -0.09520\n",
      "torch.Size([450, 64])\n"
     ]
    },
    {
     "name": "stderr",
     "output_type": "stream",
     "text": [
      "\r",
      " 46%|████████████████████████████████████████████████████████████████████████▊                                                                                      | 458/1000 [3:14:11<3:41:55, 24.57s/it]"
     ]
    },
    {
     "name": "stdout",
     "output_type": "stream",
     "text": [
      "eigenvalues shape torch.Size([5]) eigenvectors shape torch.Size([5, 450])\n",
      "458 /home/phdcs2/Hard_Disk/Datasets/Deep-Spectral-Segmentation/data/object-segmentation/ECSSD/features/dino_vits16/0459.pth\n",
      "dict_keys(['k', 'indices', 'file', 'id', 'model_name', 'patch_size', 'shape'])\n",
      "0459\n",
      "Starting Training\n",
      "epoch: 00, loss: -0.04499\n",
      "epoch: 01, loss: -0.08264\n",
      "epoch: 02, loss: -0.08511\n",
      "epoch: 03, loss: -0.08563\n",
      "epoch: 04, loss: -0.08647\n",
      "epoch: 05, loss: -0.08817\n",
      "epoch: 06, loss: -0.08988\n",
      "epoch: 07, loss: -0.09139\n",
      "epoch: 08, loss: -0.09151\n",
      "epoch: 09, loss: -0.08977\n",
      "torch.Size([400, 64])\n"
     ]
    },
    {
     "name": "stderr",
     "output_type": "stream",
     "text": [
      "\r",
      " 46%|████████████████████████████████████████████████████████████████████████▉                                                                                      | 459/1000 [3:14:31<3:27:37, 23.03s/it]"
     ]
    },
    {
     "name": "stdout",
     "output_type": "stream",
     "text": [
      "eigenvalues shape torch.Size([5]) eigenvectors shape torch.Size([5, 400])\n",
      "459 /home/phdcs2/Hard_Disk/Datasets/Deep-Spectral-Segmentation/data/object-segmentation/ECSSD/features/dino_vits16/0460.pth\n",
      "dict_keys(['k', 'indices', 'file', 'id', 'model_name', 'patch_size', 'shape'])\n",
      "0460\n",
      "Starting Training\n",
      "epoch: 00, loss: -0.07618\n",
      "epoch: 01, loss: -0.09817\n",
      "epoch: 02, loss: -0.09834\n",
      "epoch: 03, loss: -0.09895\n",
      "epoch: 04, loss: -0.09904\n",
      "epoch: 05, loss: -0.09921\n",
      "epoch: 06, loss: -0.09903\n",
      "epoch: 07, loss: -0.09937\n",
      "epoch: 08, loss: -0.09941\n",
      "epoch: 09, loss: -0.09940\n",
      "torch.Size([450, 64])\n"
     ]
    },
    {
     "name": "stderr",
     "output_type": "stream",
     "text": [
      "\r",
      " 46%|█████████████████████████████████████████████████████████████████████████▏                                                                                     | 460/1000 [3:14:53<3:24:00, 22.67s/it]"
     ]
    },
    {
     "name": "stdout",
     "output_type": "stream",
     "text": [
      "eigenvalues shape torch.Size([5]) eigenvectors shape torch.Size([5, 450])\n",
      "460 /home/phdcs2/Hard_Disk/Datasets/Deep-Spectral-Segmentation/data/object-segmentation/ECSSD/features/dino_vits16/0461.pth\n",
      "dict_keys(['k', 'indices', 'file', 'id', 'model_name', 'patch_size', 'shape'])\n",
      "0461\n",
      "Starting Training\n",
      "epoch: 00, loss: -0.08863\n",
      "epoch: 01, loss: -0.11099\n",
      "epoch: 02, loss: -0.11464\n",
      "epoch: 03, loss: -0.11705\n",
      "epoch: 04, loss: -0.11652\n",
      "epoch: 05, loss: -0.11940\n",
      "epoch: 06, loss: -0.11955\n",
      "epoch: 07, loss: -0.11877\n",
      "epoch: 08, loss: -0.11988\n",
      "epoch: 09, loss: -0.12088\n",
      "torch.Size([450, 64])\n"
     ]
    },
    {
     "name": "stderr",
     "output_type": "stream",
     "text": [
      "\r",
      " 46%|█████████████████████████████████████████████████████████████████████████▎                                                                                     | 461/1000 [3:15:12<3:15:51, 21.80s/it]"
     ]
    },
    {
     "name": "stdout",
     "output_type": "stream",
     "text": [
      "eigenvalues shape torch.Size([5]) eigenvectors shape torch.Size([5, 450])\n",
      "461 /home/phdcs2/Hard_Disk/Datasets/Deep-Spectral-Segmentation/data/object-segmentation/ECSSD/features/dino_vits16/0462.pth\n",
      "dict_keys(['k', 'indices', 'file', 'id', 'model_name', 'patch_size', 'shape'])\n",
      "0462\n",
      "Starting Training\n",
      "epoch: 00, loss: -0.08218\n",
      "epoch: 01, loss: -0.11191\n",
      "epoch: 02, loss: -0.11625\n",
      "epoch: 03, loss: -0.12073\n",
      "epoch: 04, loss: -0.12208\n",
      "epoch: 05, loss: -0.12220\n",
      "epoch: 06, loss: -0.12242\n",
      "epoch: 07, loss: -0.12486\n",
      "epoch: 08, loss: -0.12552\n",
      "epoch: 09, loss: -0.12740\n",
      "torch.Size([400, 64])\n"
     ]
    },
    {
     "name": "stderr",
     "output_type": "stream",
     "text": [
      "\r",
      " 46%|█████████████████████████████████████████████████████████████████████████▍                                                                                     | 462/1000 [3:15:33<3:13:06, 21.54s/it]"
     ]
    },
    {
     "name": "stdout",
     "output_type": "stream",
     "text": [
      "eigenvalues shape torch.Size([5]) eigenvectors shape torch.Size([5, 400])\n",
      "462 /home/phdcs2/Hard_Disk/Datasets/Deep-Spectral-Segmentation/data/object-segmentation/ECSSD/features/dino_vits16/0463.pth\n",
      "dict_keys(['k', 'indices', 'file', 'id', 'model_name', 'patch_size', 'shape'])\n",
      "0463\n",
      "Starting Training\n",
      "epoch: 00, loss: -0.01491\n",
      "epoch: 01, loss: -0.03988\n",
      "epoch: 02, loss: -0.04775\n",
      "epoch: 03, loss: -0.04972\n",
      "epoch: 04, loss: -0.04947\n",
      "epoch: 05, loss: -0.05148\n",
      "epoch: 06, loss: -0.05110\n",
      "epoch: 07, loss: -0.04915\n",
      "epoch: 08, loss: -0.04970\n",
      "epoch: 09, loss: -0.05103\n",
      "torch.Size([450, 64])\n"
     ]
    },
    {
     "name": "stderr",
     "output_type": "stream",
     "text": [
      "\r",
      " 46%|█████████████████████████████████████████████████████████████████████████▌                                                                                     | 463/1000 [3:16:01<3:30:29, 23.52s/it]"
     ]
    },
    {
     "name": "stdout",
     "output_type": "stream",
     "text": [
      "eigenvalues shape torch.Size([5]) eigenvectors shape torch.Size([5, 450])\n",
      "463 /home/phdcs2/Hard_Disk/Datasets/Deep-Spectral-Segmentation/data/object-segmentation/ECSSD/features/dino_vits16/0464.pth\n",
      "dict_keys(['k', 'indices', 'file', 'id', 'model_name', 'patch_size', 'shape'])\n",
      "0464\n",
      "Starting Training\n",
      "epoch: 00, loss: -0.02902\n",
      "epoch: 01, loss: -0.04476\n",
      "epoch: 02, loss: -0.04652\n",
      "epoch: 03, loss: -0.04703\n",
      "epoch: 04, loss: -0.04768\n",
      "epoch: 05, loss: -0.04764\n",
      "epoch: 06, loss: -0.04784\n",
      "epoch: 07, loss: -0.04799\n",
      "epoch: 08, loss: -0.04806\n",
      "epoch: 09, loss: -0.04832\n",
      "torch.Size([450, 64])\n"
     ]
    },
    {
     "name": "stderr",
     "output_type": "stream",
     "text": [
      "\r",
      " 46%|█████████████████████████████████████████████████████████████████████████▊                                                                                     | 464/1000 [3:16:25<3:30:09, 23.52s/it]"
     ]
    },
    {
     "name": "stdout",
     "output_type": "stream",
     "text": [
      "eigenvalues shape torch.Size([5]) eigenvectors shape torch.Size([5, 450])\n",
      "464 /home/phdcs2/Hard_Disk/Datasets/Deep-Spectral-Segmentation/data/object-segmentation/ECSSD/features/dino_vits16/0465.pth\n",
      "dict_keys(['k', 'indices', 'file', 'id', 'model_name', 'patch_size', 'shape'])\n",
      "0465\n",
      "Starting Training\n",
      "epoch: 00, loss: -0.02637\n",
      "epoch: 01, loss: -0.04730\n",
      "epoch: 02, loss: -0.05123\n",
      "epoch: 03, loss: -0.05235\n",
      "epoch: 04, loss: -0.05304\n",
      "epoch: 05, loss: -0.05344\n",
      "epoch: 06, loss: -0.05380\n",
      "epoch: 07, loss: -0.05291\n",
      "epoch: 08, loss: -0.05637\n",
      "epoch: 09, loss: -0.05489\n",
      "torch.Size([450, 64])\n"
     ]
    },
    {
     "name": "stderr",
     "output_type": "stream",
     "text": [
      "\r",
      " 46%|█████████████████████████████████████████████████████████████████████████▉                                                                                     | 465/1000 [3:16:46<3:23:44, 22.85s/it]"
     ]
    },
    {
     "name": "stdout",
     "output_type": "stream",
     "text": [
      "eigenvalues shape torch.Size([5]) eigenvectors shape torch.Size([5, 450])\n",
      "465 /home/phdcs2/Hard_Disk/Datasets/Deep-Spectral-Segmentation/data/object-segmentation/ECSSD/features/dino_vits16/0466.pth\n",
      "dict_keys(['k', 'indices', 'file', 'id', 'model_name', 'patch_size', 'shape'])\n",
      "0466\n",
      "Starting Training\n",
      "epoch: 00, loss: -0.02215\n",
      "epoch: 01, loss: -0.05660\n",
      "epoch: 02, loss: -0.06344\n",
      "epoch: 03, loss: -0.06280\n",
      "epoch: 04, loss: -0.06452\n",
      "epoch: 05, loss: -0.06559\n",
      "epoch: 06, loss: -0.06718\n",
      "epoch: 07, loss: -0.06701\n",
      "epoch: 08, loss: -0.06831\n",
      "epoch: 09, loss: -0.06626\n",
      "torch.Size([400, 64])\n"
     ]
    },
    {
     "name": "stderr",
     "output_type": "stream",
     "text": [
      "\r",
      " 47%|██████████████████████████████████████████████████████████████████████████                                                                                     | 466/1000 [3:17:06<3:15:41, 21.99s/it]"
     ]
    },
    {
     "name": "stdout",
     "output_type": "stream",
     "text": [
      "eigenvalues shape torch.Size([5]) eigenvectors shape torch.Size([5, 400])\n",
      "466 /home/phdcs2/Hard_Disk/Datasets/Deep-Spectral-Segmentation/data/object-segmentation/ECSSD/features/dino_vits16/0467.pth\n",
      "dict_keys(['k', 'indices', 'file', 'id', 'model_name', 'patch_size', 'shape'])\n",
      "0467\n",
      "Starting Training\n",
      "epoch: 00, loss: -0.02416\n",
      "epoch: 01, loss: -0.04589\n",
      "epoch: 02, loss: -0.04939\n",
      "epoch: 03, loss: -0.04971\n",
      "epoch: 04, loss: -0.05072\n",
      "epoch: 05, loss: -0.04932\n",
      "epoch: 06, loss: -0.05079\n",
      "epoch: 07, loss: -0.05129\n",
      "epoch: 08, loss: -0.04962\n",
      "epoch: 09, loss: -0.05120\n",
      "torch.Size([425, 64])\n"
     ]
    },
    {
     "name": "stderr",
     "output_type": "stream",
     "text": [
      "\r",
      " 47%|██████████████████████████████████████████████████████████████████████████▎                                                                                    | 467/1000 [3:17:27<3:12:45, 21.70s/it]"
     ]
    },
    {
     "name": "stdout",
     "output_type": "stream",
     "text": [
      "eigenvalues shape torch.Size([5]) eigenvectors shape torch.Size([5, 425])\n",
      "467 /home/phdcs2/Hard_Disk/Datasets/Deep-Spectral-Segmentation/data/object-segmentation/ECSSD/features/dino_vits16/0468.pth\n",
      "dict_keys(['k', 'indices', 'file', 'id', 'model_name', 'patch_size', 'shape'])\n",
      "0468\n",
      "Starting Training\n",
      "epoch: 00, loss: -0.05625\n",
      "epoch: 01, loss: -0.08617\n",
      "epoch: 02, loss: -0.08429\n",
      "epoch: 03, loss: -0.08930\n",
      "epoch: 04, loss: -0.09021\n",
      "epoch: 05, loss: -0.09174\n",
      "epoch: 06, loss: -0.09188\n",
      "epoch: 07, loss: -0.09162\n",
      "epoch: 08, loss: -0.09404\n",
      "epoch: 09, loss: -0.09494\n",
      "torch.Size([450, 64])\n"
     ]
    },
    {
     "name": "stderr",
     "output_type": "stream",
     "text": [
      "\r",
      " 47%|██████████████████████████████████████████████████████████████████████████▍                                                                                    | 468/1000 [3:17:49<3:11:34, 21.61s/it]"
     ]
    },
    {
     "name": "stdout",
     "output_type": "stream",
     "text": [
      "eigenvalues shape torch.Size([5]) eigenvectors shape torch.Size([5, 450])\n",
      "468 /home/phdcs2/Hard_Disk/Datasets/Deep-Spectral-Segmentation/data/object-segmentation/ECSSD/features/dino_vits16/0469.pth\n",
      "dict_keys(['k', 'indices', 'file', 'id', 'model_name', 'patch_size', 'shape'])\n",
      "0469\n",
      "Starting Training\n",
      "epoch: 00, loss: -0.01362\n",
      "epoch: 01, loss: -0.03359\n",
      "epoch: 02, loss: -0.03743\n",
      "epoch: 03, loss: -0.03802\n",
      "epoch: 04, loss: -0.03825\n",
      "epoch: 05, loss: -0.03865\n",
      "epoch: 06, loss: -0.03895\n",
      "epoch: 07, loss: -0.03912\n",
      "epoch: 08, loss: -0.03937\n",
      "epoch: 09, loss: -0.03941\n",
      "torch.Size([400, 64])\n"
     ]
    },
    {
     "name": "stderr",
     "output_type": "stream",
     "text": [
      "\r",
      " 47%|██████████████████████████████████████████████████████████████████████████▌                                                                                    | 469/1000 [3:18:08<3:04:42, 20.87s/it]"
     ]
    },
    {
     "name": "stdout",
     "output_type": "stream",
     "text": [
      "eigenvalues shape torch.Size([5]) eigenvectors shape torch.Size([5, 400])\n",
      "469 /home/phdcs2/Hard_Disk/Datasets/Deep-Spectral-Segmentation/data/object-segmentation/ECSSD/features/dino_vits16/0470.pth\n",
      "dict_keys(['k', 'indices', 'file', 'id', 'model_name', 'patch_size', 'shape'])\n",
      "0470\n",
      "Starting Training\n",
      "epoch: 00, loss: -0.03020\n",
      "epoch: 01, loss: -0.05660\n",
      "epoch: 02, loss: -0.05881\n",
      "epoch: 03, loss: -0.05945\n",
      "epoch: 04, loss: -0.05953\n",
      "epoch: 05, loss: -0.05985\n",
      "epoch: 06, loss: -0.06009\n",
      "epoch: 07, loss: -0.06012\n",
      "epoch: 08, loss: -0.06026\n",
      "epoch: 09, loss: -0.06038\n",
      "torch.Size([400, 64])\n"
     ]
    },
    {
     "name": "stderr",
     "output_type": "stream",
     "text": [
      "\r",
      " 47%|██████████████████████████████████████████████████████████████████████████▋                                                                                    | 470/1000 [3:18:29<3:04:59, 20.94s/it]"
     ]
    },
    {
     "name": "stdout",
     "output_type": "stream",
     "text": [
      "eigenvalues shape torch.Size([5]) eigenvectors shape torch.Size([5, 400])\n",
      "470 /home/phdcs2/Hard_Disk/Datasets/Deep-Spectral-Segmentation/data/object-segmentation/ECSSD/features/dino_vits16/0471.pth\n",
      "dict_keys(['k', 'indices', 'file', 'id', 'model_name', 'patch_size', 'shape'])\n",
      "0471\n",
      "Starting Training\n",
      "epoch: 00, loss: 0.00578\n",
      "epoch: 01, loss: -0.00025\n",
      "epoch: 02, loss: -0.00297\n",
      "epoch: 03, loss: -0.00482\n",
      "epoch: 04, loss: -0.00601\n",
      "epoch: 05, loss: -0.00682\n",
      "epoch: 06, loss: -0.00738\n",
      "epoch: 07, loss: -0.00780\n",
      "epoch: 08, loss: -0.00815\n",
      "epoch: 09, loss: -0.00842\n",
      "torch.Size([450, 64])\n"
     ]
    },
    {
     "name": "stderr",
     "output_type": "stream",
     "text": [
      "\r",
      " 47%|██████████████████████████████████████████████████████████████████████████▉                                                                                    | 471/1000 [3:18:53<3:13:15, 21.92s/it]"
     ]
    },
    {
     "name": "stdout",
     "output_type": "stream",
     "text": [
      "eigenvalues shape torch.Size([5]) eigenvectors shape torch.Size([5, 450])\n",
      "471 /home/phdcs2/Hard_Disk/Datasets/Deep-Spectral-Segmentation/data/object-segmentation/ECSSD/features/dino_vits16/0472.pth\n",
      "dict_keys(['k', 'indices', 'file', 'id', 'model_name', 'patch_size', 'shape'])\n",
      "0472\n",
      "Starting Training\n",
      "epoch: 00, loss: -0.02763\n",
      "epoch: 01, loss: -0.05929\n",
      "epoch: 02, loss: -0.06489\n",
      "epoch: 03, loss: -0.06953\n",
      "epoch: 04, loss: -0.06729\n",
      "epoch: 05, loss: -0.07095\n",
      "epoch: 06, loss: -0.07094\n",
      "epoch: 07, loss: -0.07090\n",
      "epoch: 08, loss: -0.07061\n",
      "epoch: 09, loss: -0.07131\n",
      "torch.Size([400, 64])\n"
     ]
    },
    {
     "name": "stderr",
     "output_type": "stream",
     "text": [
      "\r",
      " 47%|███████████████████████████████████████████████████████████████████████████                                                                                    | 472/1000 [3:19:12<3:04:20, 20.95s/it]"
     ]
    },
    {
     "name": "stdout",
     "output_type": "stream",
     "text": [
      "eigenvalues shape torch.Size([5]) eigenvectors shape torch.Size([5, 400])\n",
      "472 /home/phdcs2/Hard_Disk/Datasets/Deep-Spectral-Segmentation/data/object-segmentation/ECSSD/features/dino_vits16/0473.pth\n",
      "dict_keys(['k', 'indices', 'file', 'id', 'model_name', 'patch_size', 'shape'])\n",
      "0473\n",
      "Starting Training\n",
      "epoch: 00, loss: -0.00829\n",
      "epoch: 01, loss: -0.02663\n",
      "epoch: 02, loss: -0.03347\n",
      "epoch: 03, loss: -0.03499\n",
      "epoch: 04, loss: -0.03818\n",
      "epoch: 05, loss: -0.03742\n",
      "epoch: 06, loss: -0.04071\n",
      "epoch: 07, loss: -0.03808\n",
      "epoch: 08, loss: -0.04142\n",
      "epoch: 09, loss: -0.03985\n",
      "torch.Size([425, 64])\n"
     ]
    },
    {
     "name": "stderr",
     "output_type": "stream",
     "text": [
      "\r",
      " 47%|███████████████████████████████████████████████████████████████████████████▏                                                                                   | 473/1000 [3:19:34<3:08:03, 21.41s/it]"
     ]
    },
    {
     "name": "stdout",
     "output_type": "stream",
     "text": [
      "eigenvalues shape torch.Size([5]) eigenvectors shape torch.Size([5, 425])\n",
      "473 /home/phdcs2/Hard_Disk/Datasets/Deep-Spectral-Segmentation/data/object-segmentation/ECSSD/features/dino_vits16/0474.pth\n",
      "dict_keys(['k', 'indices', 'file', 'id', 'model_name', 'patch_size', 'shape'])\n",
      "0474\n",
      "Starting Training\n",
      "epoch: 00, loss: -0.01826\n",
      "epoch: 01, loss: -0.03629\n",
      "epoch: 02, loss: -0.03938\n",
      "epoch: 03, loss: -0.04003\n",
      "epoch: 04, loss: -0.04048\n",
      "epoch: 05, loss: -0.04082\n",
      "epoch: 06, loss: -0.04104\n",
      "epoch: 07, loss: -0.04114\n",
      "epoch: 08, loss: -0.04136\n",
      "epoch: 09, loss: -0.04157\n",
      "torch.Size([400, 64])\n"
     ]
    },
    {
     "name": "stderr",
     "output_type": "stream",
     "text": [
      "\r",
      " 47%|███████████████████████████████████████████████████████████████████████████▎                                                                                   | 474/1000 [3:19:52<2:57:33, 20.25s/it]"
     ]
    },
    {
     "name": "stdout",
     "output_type": "stream",
     "text": [
      "eigenvalues shape torch.Size([5]) eigenvectors shape torch.Size([5, 400])\n",
      "474 /home/phdcs2/Hard_Disk/Datasets/Deep-Spectral-Segmentation/data/object-segmentation/ECSSD/features/dino_vits16/0475.pth\n",
      "dict_keys(['k', 'indices', 'file', 'id', 'model_name', 'patch_size', 'shape'])\n",
      "0475\n",
      "Starting Training\n",
      "epoch: 00, loss: -0.03598\n",
      "epoch: 01, loss: -0.07301\n",
      "epoch: 02, loss: -0.07847\n",
      "epoch: 03, loss: -0.07921\n",
      "epoch: 04, loss: -0.08137\n",
      "epoch: 05, loss: -0.08027\n",
      "epoch: 06, loss: -0.07981\n",
      "epoch: 07, loss: -0.08192\n",
      "epoch: 08, loss: -0.08100\n",
      "epoch: 09, loss: -0.08291\n",
      "torch.Size([400, 64])\n"
     ]
    },
    {
     "name": "stderr",
     "output_type": "stream",
     "text": [
      "\r",
      " 48%|███████████████████████████████████████████████████████████████████████████▌                                                                                   | 475/1000 [3:20:12<2:56:33, 20.18s/it]"
     ]
    },
    {
     "name": "stdout",
     "output_type": "stream",
     "text": [
      "eigenvalues shape torch.Size([5]) eigenvectors shape torch.Size([5, 400])\n",
      "475 /home/phdcs2/Hard_Disk/Datasets/Deep-Spectral-Segmentation/data/object-segmentation/ECSSD/features/dino_vits16/0476.pth\n",
      "dict_keys(['k', 'indices', 'file', 'id', 'model_name', 'patch_size', 'shape'])\n",
      "0476\n",
      "Starting Training\n",
      "epoch: 00, loss: -0.01495\n",
      "epoch: 01, loss: -0.03165\n",
      "epoch: 02, loss: -0.03458\n",
      "epoch: 03, loss: -0.03555\n",
      "epoch: 04, loss: -0.03581\n",
      "epoch: 05, loss: -0.03618\n",
      "epoch: 06, loss: -0.03636\n",
      "epoch: 07, loss: -0.03652\n",
      "epoch: 08, loss: -0.03661\n",
      "epoch: 09, loss: -0.03677\n",
      "torch.Size([400, 64])\n"
     ]
    },
    {
     "name": "stderr",
     "output_type": "stream",
     "text": [
      "\r",
      " 48%|███████████████████████████████████████████████████████████████████████████▋                                                                                   | 476/1000 [3:20:32<2:55:07, 20.05s/it]"
     ]
    },
    {
     "name": "stdout",
     "output_type": "stream",
     "text": [
      "eigenvalues shape torch.Size([5]) eigenvectors shape torch.Size([5, 400])\n",
      "476 /home/phdcs2/Hard_Disk/Datasets/Deep-Spectral-Segmentation/data/object-segmentation/ECSSD/features/dino_vits16/0477.pth\n",
      "dict_keys(['k', 'indices', 'file', 'id', 'model_name', 'patch_size', 'shape'])\n",
      "0477\n",
      "Starting Training\n",
      "epoch: 00, loss: -0.09772\n",
      "epoch: 01, loss: -0.12950\n",
      "epoch: 02, loss: -0.13244\n",
      "epoch: 03, loss: -0.13452\n",
      "epoch: 04, loss: -0.13501\n",
      "epoch: 05, loss: -0.13666\n",
      "epoch: 06, loss: -0.13847\n",
      "epoch: 07, loss: -0.13783\n",
      "epoch: 08, loss: -0.13764\n",
      "epoch: 09, loss: -0.13709\n",
      "torch.Size([450, 64])\n"
     ]
    },
    {
     "name": "stderr",
     "output_type": "stream",
     "text": [
      "\r",
      " 48%|███████████████████████████████████████████████████████████████████████████▊                                                                                   | 477/1000 [3:20:53<2:58:51, 20.52s/it]"
     ]
    },
    {
     "name": "stdout",
     "output_type": "stream",
     "text": [
      "eigenvalues shape torch.Size([5]) eigenvectors shape torch.Size([5, 450])\n",
      "477 /home/phdcs2/Hard_Disk/Datasets/Deep-Spectral-Segmentation/data/object-segmentation/ECSSD/features/dino_vits16/0478.pth\n",
      "dict_keys(['k', 'indices', 'file', 'id', 'model_name', 'patch_size', 'shape'])\n",
      "0478\n",
      "Starting Training\n",
      "epoch: 00, loss: -0.02816\n",
      "epoch: 01, loss: -0.06287\n",
      "epoch: 02, loss: -0.06225\n",
      "epoch: 03, loss: -0.06728\n",
      "epoch: 04, loss: -0.06751\n",
      "epoch: 05, loss: -0.06836\n",
      "epoch: 06, loss: -0.06639\n",
      "epoch: 07, loss: -0.06849\n",
      "epoch: 08, loss: -0.07253\n",
      "epoch: 09, loss: -0.06744\n",
      "torch.Size([400, 64])\n"
     ]
    },
    {
     "name": "stderr",
     "output_type": "stream",
     "text": [
      "\r",
      " 48%|████████████████████████████████████████████████████████████████████████████                                                                                   | 478/1000 [3:21:11<2:52:21, 19.81s/it]"
     ]
    },
    {
     "name": "stdout",
     "output_type": "stream",
     "text": [
      "eigenvalues shape torch.Size([5]) eigenvectors shape torch.Size([5, 400])\n",
      "478 /home/phdcs2/Hard_Disk/Datasets/Deep-Spectral-Segmentation/data/object-segmentation/ECSSD/features/dino_vits16/0479.pth\n",
      "dict_keys(['k', 'indices', 'file', 'id', 'model_name', 'patch_size', 'shape'])\n",
      "0479\n",
      "Starting Training\n",
      "epoch: 00, loss: -0.04761\n",
      "epoch: 01, loss: -0.06414\n",
      "epoch: 02, loss: -0.06567\n",
      "epoch: 03, loss: -0.06586\n",
      "epoch: 04, loss: -0.06635\n",
      "epoch: 05, loss: -0.06641\n",
      "epoch: 06, loss: -0.06655\n",
      "epoch: 07, loss: -0.06675\n",
      "epoch: 08, loss: -0.06679\n",
      "epoch: 09, loss: -0.06690\n",
      "torch.Size([450, 64])\n"
     ]
    },
    {
     "name": "stderr",
     "output_type": "stream",
     "text": [
      "\r",
      " 48%|████████████████████████████████████████████████████████████████████████████▏                                                                                  | 479/1000 [3:21:33<2:58:05, 20.51s/it]"
     ]
    },
    {
     "name": "stdout",
     "output_type": "stream",
     "text": [
      "eigenvalues shape torch.Size([5]) eigenvectors shape torch.Size([5, 450])\n",
      "479 /home/phdcs2/Hard_Disk/Datasets/Deep-Spectral-Segmentation/data/object-segmentation/ECSSD/features/dino_vits16/0480.pth\n",
      "dict_keys(['k', 'indices', 'file', 'id', 'model_name', 'patch_size', 'shape'])\n",
      "0480\n",
      "Starting Training\n",
      "epoch: 00, loss: -0.04034\n",
      "epoch: 01, loss: -0.06191\n",
      "epoch: 02, loss: -0.06270\n",
      "epoch: 03, loss: -0.06263\n",
      "epoch: 04, loss: -0.06404\n",
      "epoch: 05, loss: -0.06325\n",
      "epoch: 06, loss: -0.06351\n",
      "epoch: 07, loss: -0.06342\n",
      "epoch: 08, loss: -0.06362\n",
      "epoch: 09, loss: -0.06387\n",
      "torch.Size([625, 64])\n"
     ]
    },
    {
     "name": "stderr",
     "output_type": "stream",
     "text": [
      "\r",
      " 48%|████████████████████████████████████████████████████████████████████████████▎                                                                                  | 480/1000 [3:22:22<4:11:11, 28.98s/it]"
     ]
    },
    {
     "name": "stdout",
     "output_type": "stream",
     "text": [
      "eigenvalues shape torch.Size([5]) eigenvectors shape torch.Size([5, 625])\n",
      "480 /home/phdcs2/Hard_Disk/Datasets/Deep-Spectral-Segmentation/data/object-segmentation/ECSSD/features/dino_vits16/0481.pth\n",
      "dict_keys(['k', 'indices', 'file', 'id', 'model_name', 'patch_size', 'shape'])\n",
      "0481\n",
      "Starting Training\n",
      "epoch: 00, loss: -0.01897\n",
      "epoch: 01, loss: -0.03516\n",
      "epoch: 02, loss: -0.03724\n",
      "epoch: 03, loss: -0.03793\n",
      "epoch: 04, loss: -0.03815\n",
      "epoch: 05, loss: -0.03860\n",
      "epoch: 06, loss: -0.03866\n",
      "epoch: 07, loss: -0.03866\n",
      "epoch: 08, loss: -0.03885\n",
      "epoch: 09, loss: -0.03901\n",
      "torch.Size([450, 64])\n"
     ]
    },
    {
     "name": "stderr",
     "output_type": "stream",
     "text": [
      "\r",
      " 48%|████████████████████████████████████████████████████████████████████████████▍                                                                                  | 481/1000 [3:22:43<3:50:44, 26.68s/it]"
     ]
    },
    {
     "name": "stdout",
     "output_type": "stream",
     "text": [
      "eigenvalues shape torch.Size([5]) eigenvectors shape torch.Size([5, 450])\n",
      "481 /home/phdcs2/Hard_Disk/Datasets/Deep-Spectral-Segmentation/data/object-segmentation/ECSSD/features/dino_vits16/0482.pth\n",
      "dict_keys(['k', 'indices', 'file', 'id', 'model_name', 'patch_size', 'shape'])\n",
      "0482\n",
      "Starting Training\n",
      "epoch: 00, loss: -0.04464\n",
      "epoch: 01, loss: -0.07357\n",
      "epoch: 02, loss: -0.07822\n",
      "epoch: 03, loss: -0.08070\n",
      "epoch: 04, loss: -0.08456\n",
      "epoch: 05, loss: -0.08291\n",
      "epoch: 06, loss: -0.08381\n",
      "epoch: 07, loss: -0.08562\n",
      "epoch: 08, loss: -0.08173\n",
      "epoch: 09, loss: -0.08705\n",
      "torch.Size([450, 64])\n"
     ]
    },
    {
     "name": "stderr",
     "output_type": "stream",
     "text": [
      "\r",
      " 48%|████████████████████████████████████████████████████████████████████████████▋                                                                                  | 482/1000 [3:23:05<3:36:15, 25.05s/it]"
     ]
    },
    {
     "name": "stdout",
     "output_type": "stream",
     "text": [
      "eigenvalues shape torch.Size([5]) eigenvectors shape torch.Size([5, 450])\n",
      "482 /home/phdcs2/Hard_Disk/Datasets/Deep-Spectral-Segmentation/data/object-segmentation/ECSSD/features/dino_vits16/0483.pth\n",
      "dict_keys(['k', 'indices', 'file', 'id', 'model_name', 'patch_size', 'shape'])\n",
      "0483\n",
      "Starting Training\n",
      "epoch: 00, loss: 0.00613\n",
      "epoch: 01, loss: -0.00164\n",
      "epoch: 02, loss: -0.00553\n",
      "epoch: 03, loss: -0.00779\n",
      "epoch: 04, loss: -0.00865\n",
      "epoch: 05, loss: -0.00998\n",
      "epoch: 06, loss: -0.01110\n",
      "epoch: 07, loss: -0.01195\n",
      "epoch: 08, loss: -0.01141\n",
      "epoch: 09, loss: -0.01213\n",
      "torch.Size([400, 64])\n"
     ]
    },
    {
     "name": "stderr",
     "output_type": "stream",
     "text": [
      "\r",
      " 48%|████████████████████████████████████████████████████████████████████████████▊                                                                                  | 483/1000 [3:23:23<3:19:31, 23.16s/it]"
     ]
    },
    {
     "name": "stdout",
     "output_type": "stream",
     "text": [
      "eigenvalues shape torch.Size([5]) eigenvectors shape torch.Size([5, 400])\n",
      "483 /home/phdcs2/Hard_Disk/Datasets/Deep-Spectral-Segmentation/data/object-segmentation/ECSSD/features/dino_vits16/0484.pth\n",
      "dict_keys(['k', 'indices', 'file', 'id', 'model_name', 'patch_size', 'shape'])\n",
      "0484\n",
      "Starting Training\n",
      "epoch: 00, loss: -0.02214\n",
      "epoch: 01, loss: -0.04889\n",
      "epoch: 02, loss: -0.05640\n",
      "epoch: 03, loss: -0.05458\n",
      "epoch: 04, loss: -0.05998\n",
      "epoch: 05, loss: -0.06052\n",
      "epoch: 06, loss: -0.05839\n",
      "epoch: 07, loss: -0.06022\n",
      "epoch: 08, loss: -0.06100\n",
      "epoch: 09, loss: -0.05887\n",
      "torch.Size([450, 64])\n"
     ]
    },
    {
     "name": "stderr",
     "output_type": "stream",
     "text": [
      "\r",
      " 48%|████████████████████████████████████████████████████████████████████████████▉                                                                                  | 484/1000 [3:23:44<3:12:30, 22.38s/it]"
     ]
    },
    {
     "name": "stdout",
     "output_type": "stream",
     "text": [
      "eigenvalues shape torch.Size([5]) eigenvectors shape torch.Size([5, 450])\n",
      "484 /home/phdcs2/Hard_Disk/Datasets/Deep-Spectral-Segmentation/data/object-segmentation/ECSSD/features/dino_vits16/0485.pth\n",
      "dict_keys(['k', 'indices', 'file', 'id', 'model_name', 'patch_size', 'shape'])\n",
      "0485\n",
      "Starting Training\n",
      "epoch: 00, loss: -0.02575\n",
      "epoch: 01, loss: -0.05317\n",
      "epoch: 02, loss: -0.05559\n",
      "epoch: 03, loss: -0.05620\n",
      "epoch: 04, loss: -0.05626\n",
      "epoch: 05, loss: -0.05665\n",
      "epoch: 06, loss: -0.05672\n",
      "epoch: 07, loss: -0.05691\n",
      "epoch: 08, loss: -0.05697\n",
      "epoch: 09, loss: -0.05711\n",
      "torch.Size([400, 64])\n"
     ]
    },
    {
     "name": "stderr",
     "output_type": "stream",
     "text": [
      "\r",
      " 48%|█████████████████████████████████████████████████████████████████████████████                                                                                  | 485/1000 [3:24:04<3:06:53, 21.77s/it]"
     ]
    },
    {
     "name": "stdout",
     "output_type": "stream",
     "text": [
      "eigenvalues shape torch.Size([5]) eigenvectors shape torch.Size([5, 400])\n",
      "485 /home/phdcs2/Hard_Disk/Datasets/Deep-Spectral-Segmentation/data/object-segmentation/ECSSD/features/dino_vits16/0486.pth\n",
      "dict_keys(['k', 'indices', 'file', 'id', 'model_name', 'patch_size', 'shape'])\n",
      "0486\n",
      "Starting Training\n",
      "epoch: 00, loss: -0.02125\n",
      "epoch: 01, loss: -0.03886\n",
      "epoch: 02, loss: -0.04088\n",
      "epoch: 03, loss: -0.04145\n",
      "epoch: 04, loss: -0.04177\n",
      "epoch: 05, loss: -0.04194\n",
      "epoch: 06, loss: -0.04240\n",
      "epoch: 07, loss: -0.04230\n",
      "epoch: 08, loss: -0.04239\n",
      "epoch: 09, loss: -0.04257\n",
      "torch.Size([450, 64])\n"
     ]
    },
    {
     "name": "stderr",
     "output_type": "stream",
     "text": [
      "\r",
      " 49%|█████████████████████████████████████████████████████████████████████████████▎                                                                                 | 486/1000 [3:24:25<3:04:27, 21.53s/it]"
     ]
    },
    {
     "name": "stdout",
     "output_type": "stream",
     "text": [
      "eigenvalues shape torch.Size([5]) eigenvectors shape torch.Size([5, 450])\n",
      "486 /home/phdcs2/Hard_Disk/Datasets/Deep-Spectral-Segmentation/data/object-segmentation/ECSSD/features/dino_vits16/0487.pth\n",
      "dict_keys(['k', 'indices', 'file', 'id', 'model_name', 'patch_size', 'shape'])\n",
      "0487\n",
      "Starting Training\n",
      "epoch: 00, loss: -0.01412\n",
      "epoch: 01, loss: -0.03393\n",
      "epoch: 02, loss: -0.03695\n",
      "epoch: 03, loss: -0.03812\n",
      "epoch: 04, loss: -0.03860\n",
      "epoch: 05, loss: -0.03891\n",
      "epoch: 06, loss: -0.03902\n",
      "epoch: 07, loss: -0.03930\n",
      "epoch: 08, loss: -0.03940\n",
      "epoch: 09, loss: -0.03945\n",
      "torch.Size([400, 64])\n"
     ]
    },
    {
     "name": "stderr",
     "output_type": "stream",
     "text": [
      "\r",
      " 49%|█████████████████████████████████████████████████████████████████████████████▍                                                                                 | 487/1000 [3:24:45<2:59:36, 21.01s/it]"
     ]
    },
    {
     "name": "stdout",
     "output_type": "stream",
     "text": [
      "eigenvalues shape torch.Size([5]) eigenvectors shape torch.Size([5, 400])\n",
      "487 /home/phdcs2/Hard_Disk/Datasets/Deep-Spectral-Segmentation/data/object-segmentation/ECSSD/features/dino_vits16/0488.pth\n",
      "dict_keys(['k', 'indices', 'file', 'id', 'model_name', 'patch_size', 'shape'])\n",
      "0488\n",
      "Starting Training\n",
      "epoch: 00, loss: -0.02289\n",
      "epoch: 01, loss: -0.04023\n",
      "epoch: 02, loss: -0.04608\n",
      "epoch: 03, loss: -0.04792\n",
      "epoch: 04, loss: -0.04968\n",
      "epoch: 05, loss: -0.05053\n",
      "epoch: 06, loss: -0.04909\n",
      "epoch: 07, loss: -0.05119\n",
      "epoch: 08, loss: -0.05103\n",
      "epoch: 09, loss: -0.04970\n",
      "torch.Size([400, 64])\n"
     ]
    },
    {
     "name": "stderr",
     "output_type": "stream",
     "text": [
      "\r",
      " 49%|█████████████████████████████████████████████████████████████████████████████▌                                                                                 | 488/1000 [3:25:03<2:52:18, 20.19s/it]"
     ]
    },
    {
     "name": "stdout",
     "output_type": "stream",
     "text": [
      "eigenvalues shape torch.Size([5]) eigenvectors shape torch.Size([5, 400])\n",
      "488 /home/phdcs2/Hard_Disk/Datasets/Deep-Spectral-Segmentation/data/object-segmentation/ECSSD/features/dino_vits16/0489.pth\n",
      "dict_keys(['k', 'indices', 'file', 'id', 'model_name', 'patch_size', 'shape'])\n",
      "0489\n",
      "Starting Training\n",
      "epoch: 00, loss: -0.02080\n",
      "epoch: 01, loss: -0.03520\n",
      "epoch: 02, loss: -0.03673\n",
      "epoch: 03, loss: -0.03739\n",
      "epoch: 04, loss: -0.03764\n",
      "epoch: 05, loss: -0.03792\n",
      "epoch: 06, loss: -0.03799\n",
      "epoch: 07, loss: -0.03841\n",
      "epoch: 08, loss: -0.03828\n",
      "epoch: 09, loss: -0.03848\n",
      "torch.Size([550, 64])\n"
     ]
    },
    {
     "name": "stderr",
     "output_type": "stream",
     "text": [
      "\r",
      " 49%|█████████████████████████████████████████████████████████████████████████████▊                                                                                 | 489/1000 [3:25:41<3:35:55, 25.35s/it]"
     ]
    },
    {
     "name": "stdout",
     "output_type": "stream",
     "text": [
      "eigenvalues shape torch.Size([5]) eigenvectors shape torch.Size([5, 550])\n",
      "489 /home/phdcs2/Hard_Disk/Datasets/Deep-Spectral-Segmentation/data/object-segmentation/ECSSD/features/dino_vits16/0490.pth\n",
      "dict_keys(['k', 'indices', 'file', 'id', 'model_name', 'patch_size', 'shape'])\n",
      "0490\n",
      "Starting Training\n",
      "epoch: 00, loss: -0.01535\n",
      "epoch: 01, loss: -0.03683\n",
      "epoch: 02, loss: -0.04112\n",
      "epoch: 03, loss: -0.04257\n",
      "epoch: 04, loss: -0.04229\n",
      "epoch: 05, loss: -0.04483\n",
      "epoch: 06, loss: -0.04513\n",
      "epoch: 07, loss: -0.04660\n",
      "epoch: 08, loss: -0.04423\n",
      "epoch: 09, loss: -0.04738\n",
      "torch.Size([400, 64])\n"
     ]
    },
    {
     "name": "stderr",
     "output_type": "stream",
     "text": [
      "\r",
      " 49%|█████████████████████████████████████████████████████████████████████████████▉                                                                                 | 490/1000 [3:26:07<3:38:50, 25.75s/it]"
     ]
    },
    {
     "name": "stdout",
     "output_type": "stream",
     "text": [
      "eigenvalues shape torch.Size([5]) eigenvectors shape torch.Size([5, 400])\n",
      "490 /home/phdcs2/Hard_Disk/Datasets/Deep-Spectral-Segmentation/data/object-segmentation/ECSSD/features/dino_vits16/0491.pth\n",
      "dict_keys(['k', 'indices', 'file', 'id', 'model_name', 'patch_size', 'shape'])\n",
      "0491\n",
      "Starting Training\n",
      "epoch: 00, loss: -0.03831\n",
      "epoch: 01, loss: -0.06320\n",
      "epoch: 02, loss: -0.06556\n",
      "epoch: 03, loss: -0.06955\n",
      "epoch: 04, loss: -0.06907\n",
      "epoch: 05, loss: -0.06743\n",
      "epoch: 06, loss: -0.07026\n",
      "epoch: 07, loss: -0.07174\n",
      "epoch: 08, loss: -0.06954\n",
      "epoch: 09, loss: -0.06959\n",
      "torch.Size([500, 64])\n"
     ]
    },
    {
     "name": "stderr",
     "output_type": "stream",
     "text": [
      "\r",
      " 49%|██████████████████████████████████████████████████████████████████████████████                                                                                 | 491/1000 [3:26:34<3:41:15, 26.08s/it]"
     ]
    },
    {
     "name": "stdout",
     "output_type": "stream",
     "text": [
      "eigenvalues shape torch.Size([5]) eigenvectors shape torch.Size([5, 500])\n",
      "491 /home/phdcs2/Hard_Disk/Datasets/Deep-Spectral-Segmentation/data/object-segmentation/ECSSD/features/dino_vits16/0492.pth\n",
      "dict_keys(['k', 'indices', 'file', 'id', 'model_name', 'patch_size', 'shape'])\n",
      "0492\n",
      "Starting Training\n",
      "epoch: 00, loss: -0.04160\n",
      "epoch: 01, loss: -0.06627\n",
      "epoch: 02, loss: -0.06760\n",
      "epoch: 03, loss: -0.06814\n",
      "epoch: 04, loss: -0.06868\n",
      "epoch: 05, loss: -0.06856\n",
      "epoch: 06, loss: -0.06894\n",
      "epoch: 07, loss: -0.06899\n",
      "epoch: 08, loss: -0.06902\n",
      "epoch: 09, loss: -0.06889\n",
      "torch.Size([450, 64])\n"
     ]
    },
    {
     "name": "stderr",
     "output_type": "stream",
     "text": [
      "\r",
      " 49%|██████████████████████████████████████████████████████████████████████████████▏                                                                                | 492/1000 [3:26:57<3:31:08, 24.94s/it]"
     ]
    },
    {
     "name": "stdout",
     "output_type": "stream",
     "text": [
      "eigenvalues shape torch.Size([5]) eigenvectors shape torch.Size([5, 450])\n",
      "492 /home/phdcs2/Hard_Disk/Datasets/Deep-Spectral-Segmentation/data/object-segmentation/ECSSD/features/dino_vits16/0493.pth\n",
      "dict_keys(['k', 'indices', 'file', 'id', 'model_name', 'patch_size', 'shape'])\n",
      "0493\n",
      "Starting Training\n",
      "epoch: 00, loss: -0.00229\n",
      "epoch: 01, loss: -0.02159\n",
      "epoch: 02, loss: -0.02724\n",
      "epoch: 03, loss: -0.02917\n",
      "epoch: 04, loss: -0.02988\n",
      "epoch: 05, loss: -0.03036\n",
      "epoch: 06, loss: -0.03055\n",
      "epoch: 07, loss: -0.03079\n",
      "epoch: 08, loss: -0.03088\n",
      "epoch: 09, loss: -0.03105\n",
      "torch.Size([400, 64])\n"
     ]
    },
    {
     "name": "stderr",
     "output_type": "stream",
     "text": [
      "\r",
      " 49%|██████████████████████████████████████████████████████████████████████████████▍                                                                                | 493/1000 [3:27:14<3:10:54, 22.59s/it]"
     ]
    },
    {
     "name": "stdout",
     "output_type": "stream",
     "text": [
      "eigenvalues shape torch.Size([5]) eigenvectors shape torch.Size([5, 400])\n",
      "493 /home/phdcs2/Hard_Disk/Datasets/Deep-Spectral-Segmentation/data/object-segmentation/ECSSD/features/dino_vits16/0494.pth\n",
      "dict_keys(['k', 'indices', 'file', 'id', 'model_name', 'patch_size', 'shape'])\n",
      "0494\n",
      "Starting Training\n",
      "epoch: 00, loss: -0.02903\n",
      "epoch: 01, loss: -0.04893\n",
      "epoch: 02, loss: -0.05706\n",
      "epoch: 03, loss: -0.05922\n",
      "epoch: 04, loss: -0.05877\n",
      "epoch: 05, loss: -0.06232\n",
      "epoch: 06, loss: -0.06404\n",
      "epoch: 07, loss: -0.06306\n",
      "epoch: 08, loss: -0.06061\n",
      "epoch: 09, loss: -0.06352\n",
      "torch.Size([400, 64])\n"
     ]
    },
    {
     "name": "stderr",
     "output_type": "stream",
     "text": [
      "\r",
      " 49%|██████████████████████████████████████████████████████████████████████████████▌                                                                                | 494/1000 [3:27:35<3:07:05, 22.19s/it]"
     ]
    },
    {
     "name": "stdout",
     "output_type": "stream",
     "text": [
      "eigenvalues shape torch.Size([5]) eigenvectors shape torch.Size([5, 400])\n",
      "494 /home/phdcs2/Hard_Disk/Datasets/Deep-Spectral-Segmentation/data/object-segmentation/ECSSD/features/dino_vits16/0495.pth\n",
      "dict_keys(['k', 'indices', 'file', 'id', 'model_name', 'patch_size', 'shape'])\n",
      "0495\n",
      "Starting Training\n",
      "epoch: 00, loss: -0.01080\n",
      "epoch: 01, loss: -0.02735\n",
      "epoch: 02, loss: -0.03060\n",
      "epoch: 03, loss: -0.03177\n",
      "epoch: 04, loss: -0.03230\n",
      "epoch: 05, loss: -0.03242\n",
      "epoch: 06, loss: -0.03240\n",
      "epoch: 07, loss: -0.03278\n",
      "epoch: 08, loss: -0.03276\n",
      "epoch: 09, loss: -0.03282\n",
      "torch.Size([400, 64])\n"
     ]
    },
    {
     "name": "stderr",
     "output_type": "stream",
     "text": [
      "\r",
      " 50%|██████████████████████████████████████████████████████████████████████████████▋                                                                                | 495/1000 [3:27:54<2:58:41, 21.23s/it]"
     ]
    },
    {
     "name": "stdout",
     "output_type": "stream",
     "text": [
      "eigenvalues shape torch.Size([5]) eigenvectors shape torch.Size([5, 400])\n",
      "495 /home/phdcs2/Hard_Disk/Datasets/Deep-Spectral-Segmentation/data/object-segmentation/ECSSD/features/dino_vits16/0496.pth\n",
      "dict_keys(['k', 'indices', 'file', 'id', 'model_name', 'patch_size', 'shape'])\n",
      "0496\n",
      "Starting Training\n",
      "epoch: 00, loss: -0.02146\n",
      "epoch: 01, loss: -0.03768\n",
      "epoch: 02, loss: -0.03983\n",
      "epoch: 03, loss: -0.04040\n",
      "epoch: 04, loss: -0.04107\n",
      "epoch: 05, loss: -0.04148\n",
      "epoch: 06, loss: -0.04155\n",
      "epoch: 07, loss: -0.04188\n",
      "epoch: 08, loss: -0.04171\n",
      "epoch: 09, loss: -0.04205\n",
      "torch.Size([450, 64])\n"
     ]
    },
    {
     "name": "stderr",
     "output_type": "stream",
     "text": [
      "\r",
      " 50%|██████████████████████████████████████████████████████████████████████████████▊                                                                                | 496/1000 [3:28:18<3:06:25, 22.19s/it]"
     ]
    },
    {
     "name": "stdout",
     "output_type": "stream",
     "text": [
      "eigenvalues shape torch.Size([5]) eigenvectors shape torch.Size([5, 450])\n",
      "496 /home/phdcs2/Hard_Disk/Datasets/Deep-Spectral-Segmentation/data/object-segmentation/ECSSD/features/dino_vits16/0497.pth\n",
      "dict_keys(['k', 'indices', 'file', 'id', 'model_name', 'patch_size', 'shape'])\n",
      "0497\n",
      "Starting Training\n",
      "epoch: 00, loss: -0.01615\n",
      "epoch: 01, loss: -0.04581\n",
      "epoch: 02, loss: -0.05142\n",
      "epoch: 03, loss: -0.05136\n",
      "epoch: 04, loss: -0.05568\n",
      "epoch: 05, loss: -0.05319\n",
      "epoch: 06, loss: -0.05600\n",
      "epoch: 07, loss: -0.05572\n",
      "epoch: 08, loss: -0.05644\n",
      "epoch: 09, loss: -0.05511\n",
      "torch.Size([450, 64])\n"
     ]
    },
    {
     "name": "stderr",
     "output_type": "stream",
     "text": [
      "\r",
      " 50%|███████████████████████████████████████████████████████████████████████████████                                                                                | 497/1000 [3:28:43<3:12:20, 22.94s/it]"
     ]
    },
    {
     "name": "stdout",
     "output_type": "stream",
     "text": [
      "eigenvalues shape torch.Size([5]) eigenvectors shape torch.Size([5, 450])\n",
      "497 /home/phdcs2/Hard_Disk/Datasets/Deep-Spectral-Segmentation/data/object-segmentation/ECSSD/features/dino_vits16/0498.pth\n",
      "dict_keys(['k', 'indices', 'file', 'id', 'model_name', 'patch_size', 'shape'])\n",
      "0498\n",
      "Starting Training\n",
      "epoch: 00, loss: -0.03434\n",
      "epoch: 01, loss: -0.05197\n",
      "epoch: 02, loss: -0.05403\n",
      "epoch: 03, loss: -0.05438\n",
      "epoch: 04, loss: -0.05443\n",
      "epoch: 05, loss: -0.05504\n",
      "epoch: 06, loss: -0.05503\n",
      "epoch: 07, loss: -0.05527\n",
      "epoch: 08, loss: -0.05534\n",
      "epoch: 09, loss: -0.05534\n",
      "torch.Size([400, 64])\n"
     ]
    },
    {
     "name": "stderr",
     "output_type": "stream",
     "text": [
      "\r",
      " 50%|███████████████████████████████████████████████████████████████████████████████▏                                                                               | 498/1000 [3:29:03<3:04:35, 22.06s/it]"
     ]
    },
    {
     "name": "stdout",
     "output_type": "stream",
     "text": [
      "eigenvalues shape torch.Size([5]) eigenvectors shape torch.Size([5, 400])\n",
      "498 /home/phdcs2/Hard_Disk/Datasets/Deep-Spectral-Segmentation/data/object-segmentation/ECSSD/features/dino_vits16/0499.pth\n",
      "dict_keys(['k', 'indices', 'file', 'id', 'model_name', 'patch_size', 'shape'])\n",
      "0499\n",
      "Starting Training\n",
      "epoch: 00, loss: -0.01545\n",
      "epoch: 01, loss: -0.03278\n",
      "epoch: 02, loss: -0.03527\n",
      "epoch: 03, loss: -0.03608\n",
      "epoch: 04, loss: -0.03654\n",
      "epoch: 05, loss: -0.03689\n",
      "epoch: 06, loss: -0.03703\n",
      "epoch: 07, loss: -0.03713\n",
      "epoch: 08, loss: -0.03722\n",
      "epoch: 09, loss: -0.03743\n",
      "torch.Size([450, 64])\n"
     ]
    },
    {
     "name": "stderr",
     "output_type": "stream",
     "text": [
      "\r",
      " 50%|███████████████████████████████████████████████████████████████████████████████▎                                                                               | 499/1000 [3:29:26<3:07:10, 22.42s/it]"
     ]
    },
    {
     "name": "stdout",
     "output_type": "stream",
     "text": [
      "eigenvalues shape torch.Size([5]) eigenvectors shape torch.Size([5, 450])\n",
      "499 /home/phdcs2/Hard_Disk/Datasets/Deep-Spectral-Segmentation/data/object-segmentation/ECSSD/features/dino_vits16/0500.pth\n",
      "dict_keys(['k', 'indices', 'file', 'id', 'model_name', 'patch_size', 'shape'])\n",
      "0500\n",
      "Starting Training\n",
      "epoch: 00, loss: -0.04325\n",
      "epoch: 01, loss: -0.06786\n",
      "epoch: 02, loss: -0.07250\n",
      "epoch: 03, loss: -0.07410\n",
      "epoch: 04, loss: -0.07594\n",
      "epoch: 05, loss: -0.07529\n",
      "epoch: 06, loss: -0.07490\n",
      "epoch: 07, loss: -0.07622\n",
      "epoch: 08, loss: -0.07482\n",
      "epoch: 09, loss: -0.07593\n",
      "torch.Size([450, 64])\n"
     ]
    },
    {
     "name": "stderr",
     "output_type": "stream",
     "text": [
      "\r",
      " 50%|███████████████████████████████████████████████████████████████████████████████▌                                                                               | 500/1000 [3:29:49<3:07:23, 22.49s/it]"
     ]
    },
    {
     "name": "stdout",
     "output_type": "stream",
     "text": [
      "eigenvalues shape torch.Size([5]) eigenvectors shape torch.Size([5, 450])\n",
      "500 /home/phdcs2/Hard_Disk/Datasets/Deep-Spectral-Segmentation/data/object-segmentation/ECSSD/features/dino_vits16/0501.pth\n",
      "dict_keys(['k', 'indices', 'file', 'id', 'model_name', 'patch_size', 'shape'])\n",
      "0501\n",
      "Starting Training\n",
      "epoch: 00, loss: -0.01196\n",
      "epoch: 01, loss: -0.03418\n",
      "epoch: 02, loss: -0.03697\n",
      "epoch: 03, loss: -0.03754\n",
      "epoch: 04, loss: -0.03829\n",
      "epoch: 05, loss: -0.03866\n",
      "epoch: 06, loss: -0.03892\n",
      "epoch: 07, loss: -0.03910\n",
      "epoch: 08, loss: -0.03897\n",
      "epoch: 09, loss: -0.03949\n",
      "torch.Size([450, 64])\n"
     ]
    },
    {
     "name": "stderr",
     "output_type": "stream",
     "text": [
      "\r",
      " 50%|███████████████████████████████████████████████████████████████████████████████▋                                                                               | 501/1000 [3:30:11<3:05:51, 22.35s/it]"
     ]
    },
    {
     "name": "stdout",
     "output_type": "stream",
     "text": [
      "eigenvalues shape torch.Size([5]) eigenvectors shape torch.Size([5, 450])\n",
      "501 /home/phdcs2/Hard_Disk/Datasets/Deep-Spectral-Segmentation/data/object-segmentation/ECSSD/features/dino_vits16/0502.pth\n",
      "dict_keys(['k', 'indices', 'file', 'id', 'model_name', 'patch_size', 'shape'])\n",
      "0502\n",
      "Starting Training\n",
      "epoch: 00, loss: -0.06650\n",
      "epoch: 01, loss: -0.08898\n",
      "epoch: 02, loss: -0.09015\n",
      "epoch: 03, loss: -0.09144\n",
      "epoch: 04, loss: -0.09384\n",
      "epoch: 05, loss: -0.09114\n",
      "epoch: 06, loss: -0.09446\n",
      "epoch: 07, loss: -0.09352\n",
      "epoch: 08, loss: -0.09394\n",
      "epoch: 09, loss: -0.09435\n",
      "torch.Size([625, 64])\n"
     ]
    },
    {
     "name": "stderr",
     "output_type": "stream",
     "text": [
      "\r",
      " 50%|███████████████████████████████████████████████████████████████████████████████▊                                                                               | 502/1000 [3:30:56<4:02:30, 29.22s/it]"
     ]
    },
    {
     "name": "stdout",
     "output_type": "stream",
     "text": [
      "eigenvalues shape torch.Size([5]) eigenvectors shape torch.Size([5, 625])\n",
      "502 /home/phdcs2/Hard_Disk/Datasets/Deep-Spectral-Segmentation/data/object-segmentation/ECSSD/features/dino_vits16/0503.pth\n",
      "dict_keys(['k', 'indices', 'file', 'id', 'model_name', 'patch_size', 'shape'])\n",
      "0503\n",
      "Starting Training\n",
      "epoch: 00, loss: -0.08495\n",
      "epoch: 01, loss: -0.11055\n",
      "epoch: 02, loss: -0.11215\n",
      "epoch: 03, loss: -0.11522\n",
      "epoch: 04, loss: -0.11722\n",
      "epoch: 05, loss: -0.11794\n",
      "epoch: 06, loss: -0.11762\n",
      "epoch: 07, loss: -0.11916\n",
      "epoch: 08, loss: -0.11663\n",
      "epoch: 09, loss: -0.11972\n",
      "torch.Size([400, 64])\n"
     ]
    },
    {
     "name": "stderr",
     "output_type": "stream",
     "text": [
      "\r",
      " 50%|███████████████████████████████████████████████████████████████████████████████▉                                                                               | 503/1000 [3:31:16<3:37:19, 26.24s/it]"
     ]
    },
    {
     "name": "stdout",
     "output_type": "stream",
     "text": [
      "eigenvalues shape torch.Size([5]) eigenvectors shape torch.Size([5, 400])\n",
      "503 /home/phdcs2/Hard_Disk/Datasets/Deep-Spectral-Segmentation/data/object-segmentation/ECSSD/features/dino_vits16/0504.pth\n",
      "dict_keys(['k', 'indices', 'file', 'id', 'model_name', 'patch_size', 'shape'])\n",
      "0504\n",
      "Starting Training\n",
      "epoch: 00, loss: -0.03156\n",
      "epoch: 01, loss: -0.05157\n",
      "epoch: 02, loss: -0.05339\n",
      "epoch: 03, loss: -0.05396\n",
      "epoch: 04, loss: -0.05419\n",
      "epoch: 05, loss: -0.05428\n",
      "epoch: 06, loss: -0.05440\n",
      "epoch: 07, loss: -0.05456\n",
      "epoch: 08, loss: -0.05471\n",
      "epoch: 09, loss: -0.05489\n",
      "torch.Size([400, 64])\n"
     ]
    },
    {
     "name": "stderr",
     "output_type": "stream",
     "text": [
      "\r",
      " 50%|████████████████████████████████████████████████████████████████████████████████▏                                                                              | 504/1000 [3:31:35<3:21:01, 24.32s/it]"
     ]
    },
    {
     "name": "stdout",
     "output_type": "stream",
     "text": [
      "eigenvalues shape torch.Size([5]) eigenvectors shape torch.Size([5, 400])\n",
      "504 /home/phdcs2/Hard_Disk/Datasets/Deep-Spectral-Segmentation/data/object-segmentation/ECSSD/features/dino_vits16/0505.pth\n",
      "dict_keys(['k', 'indices', 'file', 'id', 'model_name', 'patch_size', 'shape'])\n",
      "0505\n",
      "Starting Training\n",
      "epoch: 00, loss: -0.05706\n",
      "epoch: 01, loss: -0.09508\n",
      "epoch: 02, loss: -0.10235\n",
      "epoch: 03, loss: -0.10237\n",
      "epoch: 04, loss: -0.10579\n",
      "epoch: 05, loss: -0.10394\n",
      "epoch: 06, loss: -0.10796\n",
      "epoch: 07, loss: -0.10444\n",
      "epoch: 08, loss: -0.10642\n",
      "epoch: 09, loss: -0.10723\n",
      "torch.Size([450, 64])\n"
     ]
    },
    {
     "name": "stderr",
     "output_type": "stream",
     "text": [
      "\r",
      " 50%|████████████████████████████████████████████████████████████████████████████████▎                                                                              | 505/1000 [3:31:58<3:17:13, 23.91s/it]"
     ]
    },
    {
     "name": "stdout",
     "output_type": "stream",
     "text": [
      "eigenvalues shape torch.Size([5]) eigenvectors shape torch.Size([5, 450])\n",
      "505 /home/phdcs2/Hard_Disk/Datasets/Deep-Spectral-Segmentation/data/object-segmentation/ECSSD/features/dino_vits16/0506.pth\n",
      "dict_keys(['k', 'indices', 'file', 'id', 'model_name', 'patch_size', 'shape'])\n",
      "0506\n",
      "Starting Training\n",
      "epoch: 00, loss: -0.02364\n",
      "epoch: 01, loss: -0.04487\n",
      "epoch: 02, loss: -0.05201\n",
      "epoch: 03, loss: -0.05133\n",
      "epoch: 04, loss: -0.05458\n",
      "epoch: 05, loss: -0.05480\n",
      "epoch: 06, loss: -0.05513\n",
      "epoch: 07, loss: -0.05460\n",
      "epoch: 08, loss: -0.05609\n",
      "epoch: 09, loss: -0.05761\n",
      "torch.Size([400, 64])\n"
     ]
    },
    {
     "name": "stderr",
     "output_type": "stream",
     "text": [
      "\r",
      " 51%|████████████████████████████████████████████████████████████████████████████████▍                                                                              | 506/1000 [3:32:17<3:03:09, 22.25s/it]"
     ]
    },
    {
     "name": "stdout",
     "output_type": "stream",
     "text": [
      "eigenvalues shape torch.Size([5]) eigenvectors shape torch.Size([5, 400])\n",
      "506 /home/phdcs2/Hard_Disk/Datasets/Deep-Spectral-Segmentation/data/object-segmentation/ECSSD/features/dino_vits16/0507.pth\n",
      "dict_keys(['k', 'indices', 'file', 'id', 'model_name', 'patch_size', 'shape'])\n",
      "0507\n",
      "Starting Training\n",
      "epoch: 00, loss: -0.02647\n",
      "epoch: 01, loss: -0.06017\n",
      "epoch: 02, loss: -0.06572\n",
      "epoch: 03, loss: -0.06802\n",
      "epoch: 04, loss: -0.07157\n",
      "epoch: 05, loss: -0.06964\n",
      "epoch: 06, loss: -0.06997\n",
      "epoch: 07, loss: -0.07159\n",
      "epoch: 08, loss: -0.07195\n",
      "epoch: 09, loss: -0.07247\n",
      "torch.Size([375, 64])\n"
     ]
    },
    {
     "name": "stderr",
     "output_type": "stream",
     "text": [
      "\r",
      " 51%|████████████████████████████████████████████████████████████████████████████████▌                                                                              | 507/1000 [3:32:33<2:49:06, 20.58s/it]"
     ]
    },
    {
     "name": "stdout",
     "output_type": "stream",
     "text": [
      "eigenvalues shape torch.Size([5]) eigenvectors shape torch.Size([5, 375])\n",
      "507 /home/phdcs2/Hard_Disk/Datasets/Deep-Spectral-Segmentation/data/object-segmentation/ECSSD/features/dino_vits16/0508.pth\n",
      "dict_keys(['k', 'indices', 'file', 'id', 'model_name', 'patch_size', 'shape'])\n",
      "0508\n",
      "Starting Training\n",
      "epoch: 00, loss: -0.01699\n",
      "epoch: 01, loss: -0.03375\n",
      "epoch: 02, loss: -0.03660\n",
      "epoch: 03, loss: -0.03748\n",
      "epoch: 04, loss: -0.03793\n",
      "epoch: 05, loss: -0.03816\n",
      "epoch: 06, loss: -0.03834\n",
      "epoch: 07, loss: -0.03853\n",
      "epoch: 08, loss: -0.03860\n",
      "epoch: 09, loss: -0.03889\n",
      "torch.Size([400, 64])\n"
     ]
    },
    {
     "name": "stderr",
     "output_type": "stream",
     "text": [
      "\r",
      " 51%|████████████████████████████████████████████████████████████████████████████████▊                                                                              | 508/1000 [3:32:57<2:57:07, 21.60s/it]"
     ]
    },
    {
     "name": "stdout",
     "output_type": "stream",
     "text": [
      "eigenvalues shape torch.Size([5]) eigenvectors shape torch.Size([5, 400])\n",
      "508 /home/phdcs2/Hard_Disk/Datasets/Deep-Spectral-Segmentation/data/object-segmentation/ECSSD/features/dino_vits16/0509.pth\n",
      "dict_keys(['k', 'indices', 'file', 'id', 'model_name', 'patch_size', 'shape'])\n",
      "0509\n",
      "Starting Training\n",
      "epoch: 00, loss: -0.01433\n",
      "epoch: 01, loss: -0.02805\n",
      "epoch: 02, loss: -0.02919\n",
      "epoch: 03, loss: -0.03036\n",
      "epoch: 04, loss: -0.03115\n",
      "epoch: 05, loss: -0.03153\n",
      "epoch: 06, loss: -0.03135\n",
      "epoch: 07, loss: -0.03125\n",
      "epoch: 08, loss: -0.03146\n",
      "epoch: 09, loss: -0.03177\n",
      "torch.Size([625, 64])\n"
     ]
    },
    {
     "name": "stderr",
     "output_type": "stream",
     "text": [
      "\r",
      " 51%|████████████████████████████████████████████████████████████████████████████████▉                                                                              | 509/1000 [3:33:43<3:56:02, 28.84s/it]"
     ]
    },
    {
     "name": "stdout",
     "output_type": "stream",
     "text": [
      "eigenvalues shape torch.Size([5]) eigenvectors shape torch.Size([5, 625])\n",
      "509 /home/phdcs2/Hard_Disk/Datasets/Deep-Spectral-Segmentation/data/object-segmentation/ECSSD/features/dino_vits16/0510.pth\n",
      "dict_keys(['k', 'indices', 'file', 'id', 'model_name', 'patch_size', 'shape'])\n",
      "0510\n",
      "Starting Training\n",
      "epoch: 00, loss: -0.00790\n",
      "epoch: 01, loss: -0.02842\n",
      "epoch: 02, loss: -0.03371\n",
      "epoch: 03, loss: -0.03433\n",
      "epoch: 04, loss: -0.03565\n",
      "epoch: 05, loss: -0.03705\n",
      "epoch: 06, loss: -0.03689\n",
      "epoch: 07, loss: -0.03776\n",
      "epoch: 08, loss: -0.03779\n",
      "epoch: 09, loss: -0.03769\n",
      "torch.Size([400, 64])\n"
     ]
    },
    {
     "name": "stderr",
     "output_type": "stream",
     "text": [
      "\r",
      " 51%|█████████████████████████████████████████████████████████████████████████████████                                                                              | 510/1000 [3:34:02<3:31:58, 25.96s/it]"
     ]
    },
    {
     "name": "stdout",
     "output_type": "stream",
     "text": [
      "eigenvalues shape torch.Size([5]) eigenvectors shape torch.Size([5, 400])\n",
      "510 /home/phdcs2/Hard_Disk/Datasets/Deep-Spectral-Segmentation/data/object-segmentation/ECSSD/features/dino_vits16/0511.pth\n",
      "dict_keys(['k', 'indices', 'file', 'id', 'model_name', 'patch_size', 'shape'])\n",
      "0511\n",
      "Starting Training\n",
      "epoch: 00, loss: -0.02074\n",
      "epoch: 01, loss: -0.03631\n",
      "epoch: 02, loss: -0.03777\n",
      "epoch: 03, loss: -0.03772\n",
      "epoch: 04, loss: -0.03915\n",
      "epoch: 05, loss: -0.03883\n",
      "epoch: 06, loss: -0.03890\n",
      "epoch: 07, loss: -0.03912\n",
      "epoch: 08, loss: -0.03931\n",
      "epoch: 09, loss: -0.03945\n",
      "torch.Size([625, 64])\n"
     ]
    },
    {
     "name": "stderr",
     "output_type": "stream",
     "text": [
      "\r",
      " 51%|█████████████████████████████████████████████████████████████████████████████████▏                                                                             | 511/1000 [3:34:47<4:18:12, 31.68s/it]"
     ]
    },
    {
     "name": "stdout",
     "output_type": "stream",
     "text": [
      "eigenvalues shape torch.Size([5]) eigenvectors shape torch.Size([5, 625])\n",
      "511 /home/phdcs2/Hard_Disk/Datasets/Deep-Spectral-Segmentation/data/object-segmentation/ECSSD/features/dino_vits16/0512.pth\n",
      "dict_keys(['k', 'indices', 'file', 'id', 'model_name', 'patch_size', 'shape'])\n",
      "0512\n",
      "Starting Training\n",
      "epoch: 00, loss: -0.05837\n",
      "epoch: 01, loss: -0.08487\n",
      "epoch: 02, loss: -0.09105\n",
      "epoch: 03, loss: -0.09198\n",
      "epoch: 04, loss: -0.09334\n",
      "epoch: 05, loss: -0.09236\n",
      "epoch: 06, loss: -0.09477\n",
      "epoch: 07, loss: -0.09522\n",
      "epoch: 08, loss: -0.09551\n",
      "epoch: 09, loss: -0.09508\n",
      "torch.Size([400, 64])\n"
     ]
    },
    {
     "name": "stderr",
     "output_type": "stream",
     "text": [
      "\r",
      " 51%|█████████████████████████████████████████████████████████████████████████████████▍                                                                             | 512/1000 [3:35:07<3:48:16, 28.07s/it]"
     ]
    },
    {
     "name": "stdout",
     "output_type": "stream",
     "text": [
      "eigenvalues shape torch.Size([5]) eigenvectors shape torch.Size([5, 400])\n",
      "512 /home/phdcs2/Hard_Disk/Datasets/Deep-Spectral-Segmentation/data/object-segmentation/ECSSD/features/dino_vits16/0513.pth\n",
      "dict_keys(['k', 'indices', 'file', 'id', 'model_name', 'patch_size', 'shape'])\n",
      "0513\n",
      "Starting Training\n",
      "epoch: 00, loss: -0.03620\n",
      "epoch: 01, loss: -0.07824\n",
      "epoch: 02, loss: -0.08462\n",
      "epoch: 03, loss: -0.08526\n",
      "epoch: 04, loss: -0.08766\n",
      "epoch: 05, loss: -0.08775\n",
      "epoch: 06, loss: -0.08798\n",
      "epoch: 07, loss: -0.08801\n",
      "epoch: 08, loss: -0.08853\n",
      "epoch: 09, loss: -0.08986\n",
      "torch.Size([400, 64])\n"
     ]
    },
    {
     "name": "stderr",
     "output_type": "stream",
     "text": [
      "\r",
      " 51%|█████████████████████████████████████████████████████████████████████████████████▌                                                                             | 513/1000 [3:35:27<3:28:55, 25.74s/it]"
     ]
    },
    {
     "name": "stdout",
     "output_type": "stream",
     "text": [
      "eigenvalues shape torch.Size([5]) eigenvectors shape torch.Size([5, 400])\n",
      "513 /home/phdcs2/Hard_Disk/Datasets/Deep-Spectral-Segmentation/data/object-segmentation/ECSSD/features/dino_vits16/0514.pth\n",
      "dict_keys(['k', 'indices', 'file', 'id', 'model_name', 'patch_size', 'shape'])\n",
      "0514\n",
      "Starting Training\n",
      "epoch: 00, loss: 0.00127\n",
      "epoch: 01, loss: -0.00734\n",
      "epoch: 02, loss: -0.01112\n",
      "epoch: 03, loss: -0.01302\n",
      "epoch: 04, loss: -0.01413\n",
      "epoch: 05, loss: -0.01461\n",
      "epoch: 06, loss: -0.01501\n",
      "epoch: 07, loss: -0.01532\n",
      "epoch: 08, loss: -0.01548\n",
      "epoch: 09, loss: -0.01563\n",
      "torch.Size([450, 64])\n"
     ]
    },
    {
     "name": "stderr",
     "output_type": "stream",
     "text": [
      "\r",
      " 51%|█████████████████████████████████████████████████████████████████████████████████▋                                                                             | 514/1000 [3:35:48<3:15:35, 24.15s/it]"
     ]
    },
    {
     "name": "stdout",
     "output_type": "stream",
     "text": [
      "eigenvalues shape torch.Size([5]) eigenvectors shape torch.Size([5, 450])\n",
      "514 /home/phdcs2/Hard_Disk/Datasets/Deep-Spectral-Segmentation/data/object-segmentation/ECSSD/features/dino_vits16/0515.pth\n",
      "dict_keys(['k', 'indices', 'file', 'id', 'model_name', 'patch_size', 'shape'])\n",
      "0515\n",
      "Starting Training\n",
      "epoch: 00, loss: -0.01730\n",
      "epoch: 01, loss: -0.03288\n",
      "epoch: 02, loss: -0.03500\n",
      "epoch: 03, loss: -0.03570\n",
      "epoch: 04, loss: -0.03623\n",
      "epoch: 05, loss: -0.03639\n",
      "epoch: 06, loss: -0.03672\n",
      "epoch: 07, loss: -0.03687\n",
      "epoch: 08, loss: -0.03693\n",
      "epoch: 09, loss: -0.03696\n",
      "torch.Size([450, 64])\n"
     ]
    },
    {
     "name": "stderr",
     "output_type": "stream",
     "text": [
      "\r",
      " 52%|█████████████████████████████████████████████████████████████████████████████████▉                                                                             | 515/1000 [3:36:09<3:07:35, 23.21s/it]"
     ]
    },
    {
     "name": "stdout",
     "output_type": "stream",
     "text": [
      "eigenvalues shape torch.Size([5]) eigenvectors shape torch.Size([5, 450])\n",
      "515 /home/phdcs2/Hard_Disk/Datasets/Deep-Spectral-Segmentation/data/object-segmentation/ECSSD/features/dino_vits16/0516.pth\n",
      "dict_keys(['k', 'indices', 'file', 'id', 'model_name', 'patch_size', 'shape'])\n",
      "0516\n",
      "Starting Training\n",
      "epoch: 00, loss: -0.01698\n",
      "epoch: 01, loss: -0.04134\n",
      "epoch: 02, loss: -0.04338\n",
      "epoch: 03, loss: -0.04671\n",
      "epoch: 04, loss: -0.04572\n",
      "epoch: 05, loss: -0.04916\n",
      "epoch: 06, loss: -0.04969\n",
      "epoch: 07, loss: -0.04912\n",
      "epoch: 08, loss: -0.04933\n",
      "epoch: 09, loss: -0.04910\n",
      "torch.Size([450, 64])\n"
     ]
    },
    {
     "name": "stderr",
     "output_type": "stream",
     "text": [
      "\r",
      " 52%|██████████████████████████████████████████████████████████████████████████████████                                                                             | 516/1000 [3:36:29<3:01:02, 22.44s/it]"
     ]
    },
    {
     "name": "stdout",
     "output_type": "stream",
     "text": [
      "eigenvalues shape torch.Size([5]) eigenvectors shape torch.Size([5, 450])\n",
      "516 /home/phdcs2/Hard_Disk/Datasets/Deep-Spectral-Segmentation/data/object-segmentation/ECSSD/features/dino_vits16/0517.pth\n",
      "dict_keys(['k', 'indices', 'file', 'id', 'model_name', 'patch_size', 'shape'])\n",
      "0517\n",
      "Starting Training\n",
      "epoch: 00, loss: -0.04551\n",
      "epoch: 01, loss: -0.07387\n",
      "epoch: 02, loss: -0.07318\n",
      "epoch: 03, loss: -0.07588\n",
      "epoch: 04, loss: -0.07698\n",
      "epoch: 05, loss: -0.07661\n",
      "epoch: 06, loss: -0.07943\n",
      "epoch: 07, loss: -0.07824\n",
      "epoch: 08, loss: -0.08004\n",
      "epoch: 09, loss: -0.07600\n",
      "torch.Size([450, 64])\n"
     ]
    },
    {
     "name": "stderr",
     "output_type": "stream",
     "text": [
      "\r",
      " 52%|██████████████████████████████████████████████████████████████████████████████████▏                                                                            | 517/1000 [3:36:51<2:59:36, 22.31s/it]"
     ]
    },
    {
     "name": "stdout",
     "output_type": "stream",
     "text": [
      "eigenvalues shape torch.Size([5]) eigenvectors shape torch.Size([5, 450])\n",
      "517 /home/phdcs2/Hard_Disk/Datasets/Deep-Spectral-Segmentation/data/object-segmentation/ECSSD/features/dino_vits16/0518.pth\n",
      "dict_keys(['k', 'indices', 'file', 'id', 'model_name', 'patch_size', 'shape'])\n",
      "0518\n",
      "Starting Training\n",
      "epoch: 00, loss: -0.01554\n",
      "epoch: 01, loss: -0.04173\n",
      "epoch: 02, loss: -0.04872\n",
      "epoch: 03, loss: -0.04661\n",
      "epoch: 04, loss: -0.05136\n",
      "epoch: 05, loss: -0.05082\n",
      "epoch: 06, loss: -0.05038\n",
      "epoch: 07, loss: -0.05186\n",
      "epoch: 08, loss: -0.05004\n",
      "epoch: 09, loss: -0.05142\n",
      "torch.Size([400, 64])\n"
     ]
    },
    {
     "name": "stderr",
     "output_type": "stream",
     "text": [
      "\r",
      " 52%|██████████████████████████████████████████████████████████████████████████████████▎                                                                            | 518/1000 [3:37:10<2:50:29, 21.22s/it]"
     ]
    },
    {
     "name": "stdout",
     "output_type": "stream",
     "text": [
      "eigenvalues shape torch.Size([5]) eigenvectors shape torch.Size([5, 400])\n",
      "518 /home/phdcs2/Hard_Disk/Datasets/Deep-Spectral-Segmentation/data/object-segmentation/ECSSD/features/dino_vits16/0519.pth\n",
      "dict_keys(['k', 'indices', 'file', 'id', 'model_name', 'patch_size', 'shape'])\n",
      "0519\n",
      "Starting Training\n",
      "epoch: 00, loss: -0.05348\n",
      "epoch: 01, loss: -0.09304\n",
      "epoch: 02, loss: -0.09576\n",
      "epoch: 03, loss: -0.09732\n",
      "epoch: 04, loss: -0.10093\n",
      "epoch: 05, loss: -0.10027\n",
      "epoch: 06, loss: -0.10188\n",
      "epoch: 07, loss: -0.10102\n",
      "epoch: 08, loss: -0.10013\n",
      "epoch: 09, loss: -0.10729\n",
      "torch.Size([375, 64])\n"
     ]
    },
    {
     "name": "stderr",
     "output_type": "stream",
     "text": [
      "\r",
      " 52%|██████████████████████████████████████████████████████████████████████████████████▌                                                                            | 519/1000 [3:37:28<2:41:27, 20.14s/it]"
     ]
    },
    {
     "name": "stdout",
     "output_type": "stream",
     "text": [
      "eigenvalues shape torch.Size([5]) eigenvectors shape torch.Size([5, 375])\n",
      "519 /home/phdcs2/Hard_Disk/Datasets/Deep-Spectral-Segmentation/data/object-segmentation/ECSSD/features/dino_vits16/0520.pth\n",
      "dict_keys(['k', 'indices', 'file', 'id', 'model_name', 'patch_size', 'shape'])\n",
      "0520\n",
      "Starting Training\n",
      "epoch: 00, loss: -0.06105\n",
      "epoch: 01, loss: -0.09711\n",
      "epoch: 02, loss: -0.10405\n",
      "epoch: 03, loss: -0.10854\n",
      "epoch: 04, loss: -0.10886\n",
      "epoch: 05, loss: -0.10816\n",
      "epoch: 06, loss: -0.10945\n",
      "epoch: 07, loss: -0.10894\n",
      "epoch: 08, loss: -0.11078\n",
      "epoch: 09, loss: -0.11032\n",
      "torch.Size([450, 64])\n"
     ]
    },
    {
     "name": "stderr",
     "output_type": "stream",
     "text": [
      "\r",
      " 52%|██████████████████████████████████████████████████████████████████████████████████▋                                                                            | 520/1000 [3:37:51<2:49:10, 21.15s/it]"
     ]
    },
    {
     "name": "stdout",
     "output_type": "stream",
     "text": [
      "eigenvalues shape torch.Size([5]) eigenvectors shape torch.Size([5, 450])\n",
      "520 /home/phdcs2/Hard_Disk/Datasets/Deep-Spectral-Segmentation/data/object-segmentation/ECSSD/features/dino_vits16/0521.pth\n",
      "dict_keys(['k', 'indices', 'file', 'id', 'model_name', 'patch_size', 'shape'])\n",
      "0521\n",
      "Starting Training\n",
      "epoch: 00, loss: -0.01925\n",
      "epoch: 01, loss: -0.04503\n",
      "epoch: 02, loss: -0.04813\n",
      "epoch: 03, loss: -0.04903\n",
      "epoch: 04, loss: -0.04882\n",
      "epoch: 05, loss: -0.04919\n",
      "epoch: 06, loss: -0.04943\n",
      "epoch: 07, loss: -0.04934\n",
      "epoch: 08, loss: -0.04957\n",
      "epoch: 09, loss: -0.04983\n",
      "torch.Size([450, 64])\n"
     ]
    },
    {
     "name": "stderr",
     "output_type": "stream",
     "text": [
      "\r",
      " 52%|██████████████████████████████████████████████████████████████████████████████████▊                                                                            | 521/1000 [3:38:14<2:52:04, 21.55s/it]"
     ]
    },
    {
     "name": "stdout",
     "output_type": "stream",
     "text": [
      "eigenvalues shape torch.Size([5]) eigenvectors shape torch.Size([5, 450])\n",
      "521 /home/phdcs2/Hard_Disk/Datasets/Deep-Spectral-Segmentation/data/object-segmentation/ECSSD/features/dino_vits16/0522.pth\n",
      "dict_keys(['k', 'indices', 'file', 'id', 'model_name', 'patch_size', 'shape'])\n",
      "0522\n",
      "Starting Training\n",
      "epoch: 00, loss: -0.03943\n",
      "epoch: 01, loss: -0.07120\n",
      "epoch: 02, loss: -0.07437\n",
      "epoch: 03, loss: -0.07581\n",
      "epoch: 04, loss: -0.07482\n",
      "epoch: 05, loss: -0.07737\n",
      "epoch: 06, loss: -0.07518\n",
      "epoch: 07, loss: -0.07765\n",
      "epoch: 08, loss: -0.07758\n",
      "epoch: 09, loss: -0.07757\n",
      "torch.Size([450, 64])\n"
     ]
    },
    {
     "name": "stderr",
     "output_type": "stream",
     "text": [
      "\r",
      " 52%|██████████████████████████████████████████████████████████████████████████████████▉                                                                            | 522/1000 [3:38:34<2:49:10, 21.24s/it]"
     ]
    },
    {
     "name": "stdout",
     "output_type": "stream",
     "text": [
      "eigenvalues shape torch.Size([5]) eigenvectors shape torch.Size([5, 450])\n",
      "522 /home/phdcs2/Hard_Disk/Datasets/Deep-Spectral-Segmentation/data/object-segmentation/ECSSD/features/dino_vits16/0523.pth\n",
      "dict_keys(['k', 'indices', 'file', 'id', 'model_name', 'patch_size', 'shape'])\n",
      "0523\n",
      "Starting Training\n",
      "epoch: 00, loss: -0.01394\n",
      "epoch: 01, loss: -0.03720\n",
      "epoch: 02, loss: -0.04045\n",
      "epoch: 03, loss: -0.04122\n",
      "epoch: 04, loss: -0.04179\n",
      "epoch: 05, loss: -0.04182\n",
      "epoch: 06, loss: -0.04221\n",
      "epoch: 07, loss: -0.04229\n",
      "epoch: 08, loss: -0.04236\n",
      "epoch: 09, loss: -0.04247\n",
      "torch.Size([450, 64])\n"
     ]
    },
    {
     "name": "stderr",
     "output_type": "stream",
     "text": [
      "\r",
      " 52%|███████████████████████████████████████████████████████████████████████████████████▏                                                                           | 523/1000 [3:38:56<2:51:04, 21.52s/it]"
     ]
    },
    {
     "name": "stdout",
     "output_type": "stream",
     "text": [
      "eigenvalues shape torch.Size([5]) eigenvectors shape torch.Size([5, 450])\n",
      "523 /home/phdcs2/Hard_Disk/Datasets/Deep-Spectral-Segmentation/data/object-segmentation/ECSSD/features/dino_vits16/0524.pth\n",
      "dict_keys(['k', 'indices', 'file', 'id', 'model_name', 'patch_size', 'shape'])\n",
      "0524\n",
      "Starting Training\n",
      "epoch: 00, loss: -0.01178\n",
      "epoch: 01, loss: -0.02477\n",
      "epoch: 02, loss: -0.02794\n",
      "epoch: 03, loss: -0.02909\n",
      "epoch: 04, loss: -0.03002\n",
      "epoch: 05, loss: -0.03085\n",
      "epoch: 06, loss: -0.03076\n",
      "epoch: 07, loss: -0.03029\n",
      "epoch: 08, loss: -0.03045\n",
      "epoch: 09, loss: -0.03102\n",
      "torch.Size([475, 64])\n"
     ]
    },
    {
     "name": "stderr",
     "output_type": "stream",
     "text": [
      "\r",
      " 52%|███████████████████████████████████████████████████████████████████████████████████▎                                                                           | 524/1000 [3:39:20<2:56:27, 22.24s/it]"
     ]
    },
    {
     "name": "stdout",
     "output_type": "stream",
     "text": [
      "eigenvalues shape torch.Size([5]) eigenvectors shape torch.Size([5, 475])\n",
      "524 /home/phdcs2/Hard_Disk/Datasets/Deep-Spectral-Segmentation/data/object-segmentation/ECSSD/features/dino_vits16/0525.pth\n",
      "dict_keys(['k', 'indices', 'file', 'id', 'model_name', 'patch_size', 'shape'])\n",
      "0525\n",
      "Starting Training\n",
      "epoch: 00, loss: -0.01795\n",
      "epoch: 01, loss: -0.04301\n",
      "epoch: 02, loss: -0.04790\n",
      "epoch: 03, loss: -0.04789\n",
      "epoch: 04, loss: -0.05215\n",
      "epoch: 05, loss: -0.05252\n",
      "epoch: 06, loss: -0.05259\n",
      "epoch: 07, loss: -0.05473\n",
      "epoch: 08, loss: -0.05414\n",
      "epoch: 09, loss: -0.05316\n",
      "torch.Size([400, 64])\n"
     ]
    },
    {
     "name": "stderr",
     "output_type": "stream",
     "text": [
      "\r",
      " 52%|███████████████████████████████████████████████████████████████████████████████████▍                                                                           | 525/1000 [3:39:40<2:49:26, 21.40s/it]"
     ]
    },
    {
     "name": "stdout",
     "output_type": "stream",
     "text": [
      "eigenvalues shape torch.Size([5]) eigenvectors shape torch.Size([5, 400])\n",
      "525 /home/phdcs2/Hard_Disk/Datasets/Deep-Spectral-Segmentation/data/object-segmentation/ECSSD/features/dino_vits16/0526.pth\n",
      "dict_keys(['k', 'indices', 'file', 'id', 'model_name', 'patch_size', 'shape'])\n",
      "0526\n",
      "Starting Training\n",
      "epoch: 00, loss: 0.00597\n",
      "epoch: 01, loss: -0.00381\n",
      "epoch: 02, loss: -0.00808\n",
      "epoch: 03, loss: -0.01018\n",
      "epoch: 04, loss: -0.01136\n",
      "epoch: 05, loss: -0.01202\n",
      "epoch: 06, loss: -0.01251\n",
      "epoch: 07, loss: -0.01296\n",
      "epoch: 08, loss: -0.01307\n",
      "epoch: 09, loss: -0.01330\n",
      "torch.Size([500, 64])\n"
     ]
    },
    {
     "name": "stderr",
     "output_type": "stream",
     "text": [
      "\r",
      " 53%|███████████████████████████████████████████████████████████████████████████████████▋                                                                           | 526/1000 [3:40:04<2:54:44, 22.12s/it]"
     ]
    },
    {
     "name": "stdout",
     "output_type": "stream",
     "text": [
      "eigenvalues shape torch.Size([5]) eigenvectors shape torch.Size([5, 500])\n",
      "526 /home/phdcs2/Hard_Disk/Datasets/Deep-Spectral-Segmentation/data/object-segmentation/ECSSD/features/dino_vits16/0527.pth\n",
      "dict_keys(['k', 'indices', 'file', 'id', 'model_name', 'patch_size', 'shape'])\n",
      "0527\n",
      "Starting Training\n",
      "epoch: 00, loss: -0.00895\n",
      "epoch: 01, loss: -0.02324\n",
      "epoch: 02, loss: -0.02700\n",
      "epoch: 03, loss: -0.02857\n",
      "epoch: 04, loss: -0.02894\n",
      "epoch: 05, loss: -0.02929\n",
      "epoch: 06, loss: -0.02955\n",
      "epoch: 07, loss: -0.02972\n",
      "epoch: 08, loss: -0.02968\n",
      "epoch: 09, loss: -0.02988\n",
      "torch.Size([400, 64])\n"
     ]
    },
    {
     "name": "stderr",
     "output_type": "stream",
     "text": [
      "\r",
      " 53%|███████████████████████████████████████████████████████████████████████████████████▊                                                                           | 527/1000 [3:40:23<2:48:52, 21.42s/it]"
     ]
    },
    {
     "name": "stdout",
     "output_type": "stream",
     "text": [
      "eigenvalues shape torch.Size([5]) eigenvectors shape torch.Size([5, 400])\n",
      "527 /home/phdcs2/Hard_Disk/Datasets/Deep-Spectral-Segmentation/data/object-segmentation/ECSSD/features/dino_vits16/0528.pth\n",
      "dict_keys(['k', 'indices', 'file', 'id', 'model_name', 'patch_size', 'shape'])\n",
      "0528\n",
      "Starting Training\n",
      "epoch: 00, loss: -0.03166\n",
      "epoch: 01, loss: -0.05706\n",
      "epoch: 02, loss: -0.05822\n",
      "epoch: 03, loss: -0.06194\n",
      "epoch: 04, loss: -0.06085\n",
      "epoch: 05, loss: -0.06342\n",
      "epoch: 06, loss: -0.06295\n",
      "epoch: 07, loss: -0.06370\n",
      "epoch: 08, loss: -0.06425\n",
      "epoch: 09, loss: -0.06424\n",
      "torch.Size([400, 64])\n"
     ]
    },
    {
     "name": "stderr",
     "output_type": "stream",
     "text": [
      "\r",
      " 53%|███████████████████████████████████████████████████████████████████████████████████▉                                                                           | 528/1000 [3:40:44<2:46:33, 21.17s/it]"
     ]
    },
    {
     "name": "stdout",
     "output_type": "stream",
     "text": [
      "eigenvalues shape torch.Size([5]) eigenvectors shape torch.Size([5, 400])\n",
      "528 /home/phdcs2/Hard_Disk/Datasets/Deep-Spectral-Segmentation/data/object-segmentation/ECSSD/features/dino_vits16/0529.pth\n",
      "dict_keys(['k', 'indices', 'file', 'id', 'model_name', 'patch_size', 'shape'])\n",
      "0529\n",
      "Starting Training\n",
      "epoch: 00, loss: -0.05795\n",
      "epoch: 01, loss: -0.09059\n",
      "epoch: 02, loss: -0.09046\n",
      "epoch: 03, loss: -0.09019\n",
      "epoch: 04, loss: -0.09405\n",
      "epoch: 05, loss: -0.09500\n",
      "epoch: 06, loss: -0.09325\n",
      "epoch: 07, loss: -0.09554\n",
      "epoch: 08, loss: -0.09471\n",
      "epoch: 09, loss: -0.09657\n",
      "torch.Size([400, 64])\n"
     ]
    },
    {
     "name": "stderr",
     "output_type": "stream",
     "text": [
      "\r",
      " 53%|████████████████████████████████████████████████████████████████████████████████████                                                                           | 529/1000 [3:41:03<2:40:25, 20.44s/it]"
     ]
    },
    {
     "name": "stdout",
     "output_type": "stream",
     "text": [
      "eigenvalues shape torch.Size([5]) eigenvectors shape torch.Size([5, 400])\n",
      "529 /home/phdcs2/Hard_Disk/Datasets/Deep-Spectral-Segmentation/data/object-segmentation/ECSSD/features/dino_vits16/0530.pth\n",
      "dict_keys(['k', 'indices', 'file', 'id', 'model_name', 'patch_size', 'shape'])\n",
      "0530\n",
      "Starting Training\n",
      "epoch: 00, loss: -0.00453\n",
      "epoch: 01, loss: -0.02268\n",
      "epoch: 02, loss: -0.03128\n",
      "epoch: 03, loss: -0.02720\n",
      "epoch: 04, loss: -0.03269\n",
      "epoch: 05, loss: -0.03158\n",
      "epoch: 06, loss: -0.03315\n",
      "epoch: 07, loss: -0.03355\n",
      "epoch: 08, loss: -0.03353\n",
      "epoch: 09, loss: -0.03431\n",
      "torch.Size([500, 64])\n"
     ]
    },
    {
     "name": "stderr",
     "output_type": "stream",
     "text": [
      "\r",
      " 53%|████████████████████████████████████████████████████████████████████████████████████▎                                                                          | 530/1000 [3:41:27<2:48:18, 21.49s/it]"
     ]
    },
    {
     "name": "stdout",
     "output_type": "stream",
     "text": [
      "eigenvalues shape torch.Size([5]) eigenvectors shape torch.Size([5, 500])\n",
      "530 /home/phdcs2/Hard_Disk/Datasets/Deep-Spectral-Segmentation/data/object-segmentation/ECSSD/features/dino_vits16/0531.pth\n",
      "dict_keys(['k', 'indices', 'file', 'id', 'model_name', 'patch_size', 'shape'])\n",
      "0531\n",
      "Starting Training\n",
      "epoch: 00, loss: -0.00740\n",
      "epoch: 01, loss: -0.02649\n",
      "epoch: 02, loss: -0.02987\n",
      "epoch: 03, loss: -0.03069\n",
      "epoch: 04, loss: -0.03115\n",
      "epoch: 05, loss: -0.03139\n",
      "epoch: 06, loss: -0.03165\n",
      "epoch: 07, loss: -0.03188\n",
      "epoch: 08, loss: -0.03208\n",
      "epoch: 09, loss: -0.03213\n",
      "torch.Size([450, 64])\n"
     ]
    },
    {
     "name": "stderr",
     "output_type": "stream",
     "text": [
      "\r",
      " 53%|████████████████████████████████████████████████████████████████████████████████████▍                                                                          | 531/1000 [3:41:47<2:46:14, 21.27s/it]"
     ]
    },
    {
     "name": "stdout",
     "output_type": "stream",
     "text": [
      "eigenvalues shape torch.Size([5]) eigenvectors shape torch.Size([5, 450])\n",
      "531 /home/phdcs2/Hard_Disk/Datasets/Deep-Spectral-Segmentation/data/object-segmentation/ECSSD/features/dino_vits16/0532.pth\n",
      "dict_keys(['k', 'indices', 'file', 'id', 'model_name', 'patch_size', 'shape'])\n",
      "0532\n",
      "Starting Training\n",
      "epoch: 00, loss: -0.02707\n",
      "epoch: 01, loss: -0.05861\n",
      "epoch: 02, loss: -0.05894\n",
      "epoch: 03, loss: -0.06463\n",
      "epoch: 04, loss: -0.06286\n",
      "epoch: 05, loss: -0.06398\n",
      "epoch: 06, loss: -0.06605\n",
      "epoch: 07, loss: -0.06441\n",
      "epoch: 08, loss: -0.06700\n",
      "epoch: 09, loss: -0.06443\n",
      "torch.Size([450, 64])\n"
     ]
    },
    {
     "name": "stderr",
     "output_type": "stream",
     "text": [
      "\r",
      " 53%|████████████████████████████████████████████████████████████████████████████████████▌                                                                          | 532/1000 [3:42:06<2:39:28, 20.45s/it]"
     ]
    },
    {
     "name": "stdout",
     "output_type": "stream",
     "text": [
      "eigenvalues shape torch.Size([5]) eigenvectors shape torch.Size([5, 450])\n",
      "532 /home/phdcs2/Hard_Disk/Datasets/Deep-Spectral-Segmentation/data/object-segmentation/ECSSD/features/dino_vits16/0533.pth\n",
      "dict_keys(['k', 'indices', 'file', 'id', 'model_name', 'patch_size', 'shape'])\n",
      "0533\n",
      "Starting Training\n",
      "epoch: 00, loss: -0.04602\n",
      "epoch: 01, loss: -0.07020\n",
      "epoch: 02, loss: -0.07177\n",
      "epoch: 03, loss: -0.07220\n",
      "epoch: 04, loss: -0.07262\n",
      "epoch: 05, loss: -0.07257\n",
      "epoch: 06, loss: -0.07283\n",
      "epoch: 07, loss: -0.07302\n",
      "epoch: 08, loss: -0.07331\n",
      "epoch: 09, loss: -0.07322\n",
      "torch.Size([400, 64])\n"
     ]
    },
    {
     "name": "stderr",
     "output_type": "stream",
     "text": [
      "\r",
      " 53%|████████████████████████████████████████████████████████████████████████████████████▋                                                                          | 533/1000 [3:42:23<2:32:14, 19.56s/it]"
     ]
    },
    {
     "name": "stdout",
     "output_type": "stream",
     "text": [
      "eigenvalues shape torch.Size([5]) eigenvectors shape torch.Size([5, 400])\n",
      "533 /home/phdcs2/Hard_Disk/Datasets/Deep-Spectral-Segmentation/data/object-segmentation/ECSSD/features/dino_vits16/0534.pth\n",
      "dict_keys(['k', 'indices', 'file', 'id', 'model_name', 'patch_size', 'shape'])\n",
      "0534\n",
      "Starting Training\n",
      "epoch: 00, loss: -0.01630\n",
      "epoch: 01, loss: -0.03611\n",
      "epoch: 02, loss: -0.03956\n",
      "epoch: 03, loss: -0.04002\n",
      "epoch: 04, loss: -0.04045\n",
      "epoch: 05, loss: -0.04082\n",
      "epoch: 06, loss: -0.04107\n",
      "epoch: 07, loss: -0.04118\n",
      "epoch: 08, loss: -0.04127\n",
      "epoch: 09, loss: -0.04133\n",
      "torch.Size([450, 64])\n"
     ]
    },
    {
     "name": "stderr",
     "output_type": "stream",
     "text": [
      "\r",
      " 53%|████████████████████████████████████████████████████████████████████████████████████▉                                                                          | 534/1000 [3:42:42<2:28:29, 19.12s/it]"
     ]
    },
    {
     "name": "stdout",
     "output_type": "stream",
     "text": [
      "eigenvalues shape torch.Size([5]) eigenvectors shape torch.Size([5, 450])\n",
      "534 /home/phdcs2/Hard_Disk/Datasets/Deep-Spectral-Segmentation/data/object-segmentation/ECSSD/features/dino_vits16/0535.pth\n",
      "dict_keys(['k', 'indices', 'file', 'id', 'model_name', 'patch_size', 'shape'])\n",
      "0535\n",
      "Starting Training\n",
      "epoch: 00, loss: 0.00587\n",
      "epoch: 01, loss: -0.00126\n",
      "epoch: 02, loss: -0.00402\n",
      "epoch: 03, loss: -0.00569\n",
      "epoch: 04, loss: -0.00686\n",
      "epoch: 05, loss: -0.00763\n",
      "epoch: 06, loss: -0.00809\n",
      "epoch: 07, loss: -0.00866\n",
      "epoch: 08, loss: -0.00889\n",
      "epoch: 09, loss: -0.00918\n",
      "torch.Size([400, 64])\n"
     ]
    },
    {
     "name": "stderr",
     "output_type": "stream",
     "text": [
      "\r",
      " 54%|█████████████████████████████████████████████████████████████████████████████████████                                                                          | 535/1000 [3:42:59<2:25:32, 18.78s/it]"
     ]
    },
    {
     "name": "stdout",
     "output_type": "stream",
     "text": [
      "eigenvalues shape torch.Size([5]) eigenvectors shape torch.Size([5, 400])\n",
      "535 /home/phdcs2/Hard_Disk/Datasets/Deep-Spectral-Segmentation/data/object-segmentation/ECSSD/features/dino_vits16/0536.pth\n",
      "dict_keys(['k', 'indices', 'file', 'id', 'model_name', 'patch_size', 'shape'])\n",
      "0536\n",
      "Starting Training\n",
      "epoch: 00, loss: -0.00632\n",
      "epoch: 01, loss: -0.02128\n",
      "epoch: 02, loss: -0.02537\n",
      "epoch: 03, loss: -0.02676\n",
      "epoch: 04, loss: -0.02735\n",
      "epoch: 05, loss: -0.02765\n",
      "epoch: 06, loss: -0.02794\n",
      "epoch: 07, loss: -0.02813\n",
      "epoch: 08, loss: -0.02833\n",
      "epoch: 09, loss: -0.02835\n",
      "torch.Size([450, 64])\n"
     ]
    },
    {
     "name": "stderr",
     "output_type": "stream",
     "text": [
      "\r",
      " 54%|█████████████████████████████████████████████████████████████████████████████████████▏                                                                         | 536/1000 [3:43:20<2:29:22, 19.32s/it]"
     ]
    },
    {
     "name": "stdout",
     "output_type": "stream",
     "text": [
      "eigenvalues shape torch.Size([5]) eigenvectors shape torch.Size([5, 450])\n",
      "536 /home/phdcs2/Hard_Disk/Datasets/Deep-Spectral-Segmentation/data/object-segmentation/ECSSD/features/dino_vits16/0537.pth\n",
      "dict_keys(['k', 'indices', 'file', 'id', 'model_name', 'patch_size', 'shape'])\n",
      "0537\n",
      "Starting Training\n",
      "epoch: 00, loss: -0.03216\n",
      "epoch: 01, loss: -0.05927\n",
      "epoch: 02, loss: -0.06028\n",
      "epoch: 03, loss: -0.06068\n",
      "epoch: 04, loss: -0.06105\n",
      "epoch: 05, loss: -0.06142\n",
      "epoch: 06, loss: -0.06154\n",
      "epoch: 07, loss: -0.06162\n",
      "epoch: 08, loss: -0.06210\n",
      "epoch: 09, loss: -0.06181\n",
      "torch.Size([450, 64])\n"
     ]
    },
    {
     "name": "stderr",
     "output_type": "stream",
     "text": [
      "\r",
      " 54%|█████████████████████████████████████████████████████████████████████████████████████▍                                                                         | 537/1000 [3:43:41<2:31:50, 19.68s/it]"
     ]
    },
    {
     "name": "stdout",
     "output_type": "stream",
     "text": [
      "eigenvalues shape torch.Size([5]) eigenvectors shape torch.Size([5, 450])\n",
      "537 /home/phdcs2/Hard_Disk/Datasets/Deep-Spectral-Segmentation/data/object-segmentation/ECSSD/features/dino_vits16/0538.pth\n",
      "dict_keys(['k', 'indices', 'file', 'id', 'model_name', 'patch_size', 'shape'])\n",
      "0538\n",
      "Starting Training\n",
      "epoch: 00, loss: -0.05508\n",
      "epoch: 01, loss: -0.09053\n",
      "epoch: 02, loss: -0.09838\n",
      "epoch: 03, loss: -0.10075\n",
      "epoch: 04, loss: -0.09951\n",
      "epoch: 05, loss: -0.10325\n",
      "epoch: 06, loss: -0.10298\n",
      "epoch: 07, loss: -0.10373\n",
      "epoch: 08, loss: -0.10505\n",
      "epoch: 09, loss: -0.10467\n",
      "torch.Size([400, 64])\n"
     ]
    },
    {
     "name": "stderr",
     "output_type": "stream",
     "text": [
      "\r",
      " 54%|█████████████████████████████████████████████████████████████████████████████████████▌                                                                         | 538/1000 [3:43:58<2:25:41, 18.92s/it]"
     ]
    },
    {
     "name": "stdout",
     "output_type": "stream",
     "text": [
      "eigenvalues shape torch.Size([5]) eigenvectors shape torch.Size([5, 400])\n",
      "538 /home/phdcs2/Hard_Disk/Datasets/Deep-Spectral-Segmentation/data/object-segmentation/ECSSD/features/dino_vits16/0539.pth\n",
      "dict_keys(['k', 'indices', 'file', 'id', 'model_name', 'patch_size', 'shape'])\n",
      "0539\n",
      "Starting Training\n",
      "epoch: 00, loss: -0.01108\n",
      "epoch: 01, loss: -0.02996\n",
      "epoch: 02, loss: -0.03257\n",
      "epoch: 03, loss: -0.03476\n",
      "epoch: 04, loss: -0.03424\n",
      "epoch: 05, loss: -0.03513\n",
      "epoch: 06, loss: -0.03567\n",
      "epoch: 07, loss: -0.03551\n",
      "epoch: 08, loss: -0.03619\n",
      "epoch: 09, loss: -0.03521\n",
      "torch.Size([425, 64])\n"
     ]
    },
    {
     "name": "stderr",
     "output_type": "stream",
     "text": [
      "\r",
      " 54%|█████████████████████████████████████████████████████████████████████████████████████▋                                                                         | 539/1000 [3:44:18<2:28:14, 19.29s/it]"
     ]
    },
    {
     "name": "stdout",
     "output_type": "stream",
     "text": [
      "eigenvalues shape torch.Size([5]) eigenvectors shape torch.Size([5, 425])\n",
      "539 /home/phdcs2/Hard_Disk/Datasets/Deep-Spectral-Segmentation/data/object-segmentation/ECSSD/features/dino_vits16/0540.pth\n",
      "dict_keys(['k', 'indices', 'file', 'id', 'model_name', 'patch_size', 'shape'])\n",
      "0540\n",
      "Starting Training\n",
      "epoch: 00, loss: -0.02234\n",
      "epoch: 01, loss: -0.04007\n",
      "epoch: 02, loss: -0.04220\n",
      "epoch: 03, loss: -0.04281\n",
      "epoch: 04, loss: -0.04328\n",
      "epoch: 05, loss: -0.04330\n",
      "epoch: 06, loss: -0.04361\n",
      "epoch: 07, loss: -0.04404\n",
      "epoch: 08, loss: -0.04415\n",
      "epoch: 09, loss: -0.04437\n",
      "torch.Size([450, 64])\n"
     ]
    },
    {
     "name": "stderr",
     "output_type": "stream",
     "text": [
      "\r",
      " 54%|█████████████████████████████████████████████████████████████████████████████████████▊                                                                         | 540/1000 [3:44:36<2:24:26, 18.84s/it]"
     ]
    },
    {
     "name": "stdout",
     "output_type": "stream",
     "text": [
      "eigenvalues shape torch.Size([5]) eigenvectors shape torch.Size([5, 450])\n",
      "540 /home/phdcs2/Hard_Disk/Datasets/Deep-Spectral-Segmentation/data/object-segmentation/ECSSD/features/dino_vits16/0541.pth\n",
      "dict_keys(['k', 'indices', 'file', 'id', 'model_name', 'patch_size', 'shape'])\n",
      "0541\n",
      "Starting Training\n",
      "epoch: 00, loss: -0.03615\n",
      "epoch: 01, loss: -0.05890\n",
      "epoch: 02, loss: -0.06206\n",
      "epoch: 03, loss: -0.06400\n",
      "epoch: 04, loss: -0.06533\n",
      "epoch: 05, loss: -0.06718\n",
      "epoch: 06, loss: -0.06790\n",
      "epoch: 07, loss: -0.06951\n",
      "epoch: 08, loss: -0.06735\n",
      "epoch: 09, loss: -0.06938\n",
      "torch.Size([400, 64])\n"
     ]
    },
    {
     "name": "stderr",
     "output_type": "stream",
     "text": [
      "\r",
      " 54%|██████████████████████████████████████████████████████████████████████████████████████                                                                         | 541/1000 [3:44:52<2:19:07, 18.19s/it]"
     ]
    },
    {
     "name": "stdout",
     "output_type": "stream",
     "text": [
      "eigenvalues shape torch.Size([5]) eigenvectors shape torch.Size([5, 400])\n",
      "541 /home/phdcs2/Hard_Disk/Datasets/Deep-Spectral-Segmentation/data/object-segmentation/ECSSD/features/dino_vits16/0542.pth\n",
      "dict_keys(['k', 'indices', 'file', 'id', 'model_name', 'patch_size', 'shape'])\n",
      "0542\n",
      "Starting Training\n",
      "epoch: 00, loss: -0.03559\n",
      "epoch: 01, loss: -0.05560\n",
      "epoch: 02, loss: -0.05666\n",
      "epoch: 03, loss: -0.05751\n",
      "epoch: 04, loss: -0.05717\n",
      "epoch: 05, loss: -0.05809\n",
      "epoch: 06, loss: -0.05792\n",
      "epoch: 07, loss: -0.05860\n",
      "epoch: 08, loss: -0.05823\n",
      "epoch: 09, loss: -0.05828\n",
      "torch.Size([450, 64])\n"
     ]
    },
    {
     "name": "stderr",
     "output_type": "stream",
     "text": [
      "\r",
      " 54%|██████████████████████████████████████████████████████████████████████████████████████▏                                                                        | 542/1000 [3:45:12<2:22:08, 18.62s/it]"
     ]
    },
    {
     "name": "stdout",
     "output_type": "stream",
     "text": [
      "eigenvalues shape torch.Size([5]) eigenvectors shape torch.Size([5, 450])\n",
      "542 /home/phdcs2/Hard_Disk/Datasets/Deep-Spectral-Segmentation/data/object-segmentation/ECSSD/features/dino_vits16/0543.pth\n",
      "dict_keys(['k', 'indices', 'file', 'id', 'model_name', 'patch_size', 'shape'])\n",
      "0543\n",
      "Starting Training\n",
      "epoch: 00, loss: -0.02383\n",
      "epoch: 01, loss: -0.05092\n",
      "epoch: 02, loss: -0.05707\n",
      "epoch: 03, loss: -0.05786\n",
      "epoch: 04, loss: -0.05940\n",
      "epoch: 05, loss: -0.06104\n",
      "epoch: 06, loss: -0.06192\n",
      "epoch: 07, loss: -0.06154\n",
      "epoch: 08, loss: -0.06378\n",
      "epoch: 09, loss: -0.06359\n",
      "torch.Size([400, 64])\n"
     ]
    },
    {
     "name": "stderr",
     "output_type": "stream",
     "text": [
      "\r",
      " 54%|██████████████████████████████████████████████████████████████████████████████████████▎                                                                        | 543/1000 [3:45:29<2:19:15, 18.28s/it]"
     ]
    },
    {
     "name": "stdout",
     "output_type": "stream",
     "text": [
      "eigenvalues shape torch.Size([5]) eigenvectors shape torch.Size([5, 400])\n",
      "543 /home/phdcs2/Hard_Disk/Datasets/Deep-Spectral-Segmentation/data/object-segmentation/ECSSD/features/dino_vits16/0544.pth\n",
      "dict_keys(['k', 'indices', 'file', 'id', 'model_name', 'patch_size', 'shape'])\n",
      "0544\n",
      "Starting Training\n",
      "epoch: 00, loss: -0.01611\n",
      "epoch: 01, loss: -0.04150\n",
      "epoch: 02, loss: -0.04477\n",
      "epoch: 03, loss: -0.04570\n",
      "epoch: 04, loss: -0.04765\n",
      "epoch: 05, loss: -0.04845\n",
      "epoch: 06, loss: -0.04920\n",
      "epoch: 07, loss: -0.04864\n",
      "epoch: 08, loss: -0.04864\n",
      "epoch: 09, loss: -0.04860\n",
      "torch.Size([400, 64])\n"
     ]
    },
    {
     "name": "stderr",
     "output_type": "stream",
     "text": [
      "\r",
      " 54%|██████████████████████████████████████████████████████████████████████████████████████▍                                                                        | 544/1000 [3:45:50<2:23:44, 18.91s/it]"
     ]
    },
    {
     "name": "stdout",
     "output_type": "stream",
     "text": [
      "eigenvalues shape torch.Size([5]) eigenvectors shape torch.Size([5, 400])\n",
      "544 /home/phdcs2/Hard_Disk/Datasets/Deep-Spectral-Segmentation/data/object-segmentation/ECSSD/features/dino_vits16/0545.pth\n",
      "dict_keys(['k', 'indices', 'file', 'id', 'model_name', 'patch_size', 'shape'])\n",
      "0545\n",
      "Starting Training\n",
      "epoch: 00, loss: 0.00161\n",
      "epoch: 01, loss: -0.01220\n",
      "epoch: 02, loss: -0.01769\n",
      "epoch: 03, loss: -0.01981\n",
      "epoch: 04, loss: -0.02159\n",
      "epoch: 05, loss: -0.02201\n",
      "epoch: 06, loss: -0.02298\n",
      "epoch: 07, loss: -0.02245\n",
      "epoch: 08, loss: -0.02311\n",
      "epoch: 09, loss: -0.02334\n",
      "torch.Size([400, 64])\n"
     ]
    },
    {
     "name": "stderr",
     "output_type": "stream",
     "text": [
      "\r",
      " 55%|██████████████████████████████████████████████████████████████████████████████████████▋                                                                        | 545/1000 [3:46:08<2:21:31, 18.66s/it]"
     ]
    },
    {
     "name": "stdout",
     "output_type": "stream",
     "text": [
      "eigenvalues shape torch.Size([5]) eigenvectors shape torch.Size([5, 400])\n",
      "545 /home/phdcs2/Hard_Disk/Datasets/Deep-Spectral-Segmentation/data/object-segmentation/ECSSD/features/dino_vits16/0546.pth\n",
      "dict_keys(['k', 'indices', 'file', 'id', 'model_name', 'patch_size', 'shape'])\n",
      "0546\n",
      "Starting Training\n",
      "epoch: 00, loss: 0.00669\n",
      "epoch: 01, loss: -0.00385\n",
      "epoch: 02, loss: -0.00865\n",
      "epoch: 03, loss: -0.01094\n",
      "epoch: 04, loss: -0.01219\n",
      "epoch: 05, loss: -0.01313\n",
      "epoch: 06, loss: -0.01362\n",
      "epoch: 07, loss: -0.01401\n",
      "epoch: 08, loss: -0.01422\n",
      "epoch: 09, loss: -0.01444\n",
      "torch.Size([450, 64])\n"
     ]
    },
    {
     "name": "stderr",
     "output_type": "stream",
     "text": [
      "\r",
      " 55%|██████████████████████████████████████████████████████████████████████████████████████▊                                                                        | 546/1000 [3:46:28<2:25:03, 19.17s/it]"
     ]
    },
    {
     "name": "stdout",
     "output_type": "stream",
     "text": [
      "eigenvalues shape torch.Size([5]) eigenvectors shape torch.Size([5, 450])\n",
      "546 /home/phdcs2/Hard_Disk/Datasets/Deep-Spectral-Segmentation/data/object-segmentation/ECSSD/features/dino_vits16/0547.pth\n",
      "dict_keys(['k', 'indices', 'file', 'id', 'model_name', 'patch_size', 'shape'])\n",
      "0547\n",
      "Starting Training\n",
      "epoch: 00, loss: -0.02975\n",
      "epoch: 01, loss: -0.04625\n",
      "epoch: 02, loss: -0.04779\n",
      "epoch: 03, loss: -0.04832\n",
      "epoch: 04, loss: -0.04855\n",
      "epoch: 05, loss: -0.04869\n",
      "epoch: 06, loss: -0.04879\n",
      "epoch: 07, loss: -0.04891\n",
      "epoch: 08, loss: -0.04906\n",
      "epoch: 09, loss: -0.04914\n",
      "torch.Size([450, 64])\n"
     ]
    },
    {
     "name": "stderr",
     "output_type": "stream",
     "text": [
      "\r",
      " 55%|██████████████████████████████████████████████████████████████████████████████████████▉                                                                        | 547/1000 [3:46:47<2:24:01, 19.08s/it]"
     ]
    },
    {
     "name": "stdout",
     "output_type": "stream",
     "text": [
      "eigenvalues shape torch.Size([5]) eigenvectors shape torch.Size([5, 450])\n",
      "547 /home/phdcs2/Hard_Disk/Datasets/Deep-Spectral-Segmentation/data/object-segmentation/ECSSD/features/dino_vits16/0548.pth\n",
      "dict_keys(['k', 'indices', 'file', 'id', 'model_name', 'patch_size', 'shape'])\n",
      "0548\n",
      "Starting Training\n",
      "epoch: 00, loss: -0.03811\n",
      "epoch: 01, loss: -0.06347\n",
      "epoch: 02, loss: -0.06644\n",
      "epoch: 03, loss: -0.06794\n",
      "epoch: 04, loss: -0.07233\n",
      "epoch: 05, loss: -0.06718\n",
      "epoch: 06, loss: -0.07076\n",
      "epoch: 07, loss: -0.07281\n",
      "epoch: 08, loss: -0.07113\n",
      "epoch: 09, loss: -0.07200\n",
      "torch.Size([425, 64])\n"
     ]
    },
    {
     "name": "stderr",
     "output_type": "stream",
     "text": [
      "\r",
      " 55%|███████████████████████████████████████████████████████████████████████████████████████▏                                                                       | 548/1000 [3:47:06<2:22:09, 18.87s/it]"
     ]
    },
    {
     "name": "stdout",
     "output_type": "stream",
     "text": [
      "eigenvalues shape torch.Size([5]) eigenvectors shape torch.Size([5, 425])\n",
      "548 /home/phdcs2/Hard_Disk/Datasets/Deep-Spectral-Segmentation/data/object-segmentation/ECSSD/features/dino_vits16/0549.pth\n",
      "dict_keys(['k', 'indices', 'file', 'id', 'model_name', 'patch_size', 'shape'])\n",
      "0549\n",
      "Starting Training\n",
      "epoch: 00, loss: -0.02066\n",
      "epoch: 01, loss: -0.03856\n",
      "epoch: 02, loss: -0.04111\n",
      "epoch: 03, loss: -0.04185\n",
      "epoch: 04, loss: -0.04234\n",
      "epoch: 05, loss: -0.04227\n",
      "epoch: 06, loss: -0.04270\n",
      "epoch: 07, loss: -0.04278\n",
      "epoch: 08, loss: -0.04292\n",
      "epoch: 09, loss: -0.04300\n",
      "torch.Size([400, 64])\n"
     ]
    },
    {
     "name": "stderr",
     "output_type": "stream",
     "text": [
      "\r",
      " 55%|███████████████████████████████████████████████████████████████████████████████████████▎                                                                       | 549/1000 [3:47:24<2:21:50, 18.87s/it]"
     ]
    },
    {
     "name": "stdout",
     "output_type": "stream",
     "text": [
      "eigenvalues shape torch.Size([5]) eigenvectors shape torch.Size([5, 400])\n",
      "549 /home/phdcs2/Hard_Disk/Datasets/Deep-Spectral-Segmentation/data/object-segmentation/ECSSD/features/dino_vits16/0550.pth\n",
      "dict_keys(['k', 'indices', 'file', 'id', 'model_name', 'patch_size', 'shape'])\n",
      "0550\n",
      "Starting Training\n",
      "epoch: 00, loss: -0.02315\n",
      "epoch: 01, loss: -0.05220\n",
      "epoch: 02, loss: -0.05323\n",
      "epoch: 03, loss: -0.05478\n",
      "epoch: 04, loss: -0.05456\n",
      "epoch: 05, loss: -0.05486\n",
      "epoch: 06, loss: -0.05476\n",
      "epoch: 07, loss: -0.05538\n",
      "epoch: 08, loss: -0.05556\n",
      "epoch: 09, loss: -0.05509\n",
      "torch.Size([425, 64])\n"
     ]
    },
    {
     "name": "stderr",
     "output_type": "stream",
     "text": [
      "\r",
      " 55%|███████████████████████████████████████████████████████████████████████████████████████▍                                                                       | 550/1000 [3:47:42<2:19:37, 18.62s/it]"
     ]
    },
    {
     "name": "stdout",
     "output_type": "stream",
     "text": [
      "eigenvalues shape torch.Size([5]) eigenvectors shape torch.Size([5, 425])\n",
      "550 /home/phdcs2/Hard_Disk/Datasets/Deep-Spectral-Segmentation/data/object-segmentation/ECSSD/features/dino_vits16/0551.pth\n",
      "dict_keys(['k', 'indices', 'file', 'id', 'model_name', 'patch_size', 'shape'])\n",
      "0551\n",
      "Starting Training\n",
      "epoch: 00, loss: 0.00039\n",
      "epoch: 01, loss: -0.01023\n",
      "epoch: 02, loss: -0.01455\n",
      "epoch: 03, loss: -0.01650\n",
      "epoch: 04, loss: -0.01755\n",
      "epoch: 05, loss: -0.01819\n",
      "epoch: 06, loss: -0.01859\n",
      "epoch: 07, loss: -0.01872\n",
      "epoch: 08, loss: -0.01894\n",
      "epoch: 09, loss: -0.01910\n",
      "torch.Size([400, 64])\n"
     ]
    },
    {
     "name": "stderr",
     "output_type": "stream",
     "text": [
      "\r",
      " 55%|███████████████████████████████████████████████████████████████████████████████████████▌                                                                       | 551/1000 [3:47:59<2:14:38, 17.99s/it]"
     ]
    },
    {
     "name": "stdout",
     "output_type": "stream",
     "text": [
      "eigenvalues shape torch.Size([5]) eigenvectors shape torch.Size([5, 400])\n",
      "551 /home/phdcs2/Hard_Disk/Datasets/Deep-Spectral-Segmentation/data/object-segmentation/ECSSD/features/dino_vits16/0552.pth\n",
      "dict_keys(['k', 'indices', 'file', 'id', 'model_name', 'patch_size', 'shape'])\n",
      "0552\n",
      "Starting Training\n",
      "epoch: 00, loss: -0.08820\n",
      "epoch: 01, loss: -0.11278\n",
      "epoch: 02, loss: -0.12017\n",
      "epoch: 03, loss: -0.12203\n",
      "epoch: 04, loss: -0.12208\n",
      "epoch: 05, loss: -0.12143\n",
      "epoch: 06, loss: -0.12374\n",
      "epoch: 07, loss: -0.12445\n",
      "epoch: 08, loss: -0.12480\n",
      "epoch: 09, loss: -0.12538\n",
      "torch.Size([400, 64])\n"
     ]
    },
    {
     "name": "stderr",
     "output_type": "stream",
     "text": [
      "\r",
      " 55%|███████████████████████████████████████████████████████████████████████████████████████▊                                                                       | 552/1000 [3:48:19<2:18:03, 18.49s/it]"
     ]
    },
    {
     "name": "stdout",
     "output_type": "stream",
     "text": [
      "eigenvalues shape torch.Size([5]) eigenvectors shape torch.Size([5, 400])\n",
      "552 /home/phdcs2/Hard_Disk/Datasets/Deep-Spectral-Segmentation/data/object-segmentation/ECSSD/features/dino_vits16/0553.pth\n",
      "dict_keys(['k', 'indices', 'file', 'id', 'model_name', 'patch_size', 'shape'])\n",
      "0553\n",
      "Starting Training\n",
      "epoch: 00, loss: -0.01919\n",
      "epoch: 01, loss: -0.05292\n",
      "epoch: 02, loss: -0.05790\n",
      "epoch: 03, loss: -0.05808\n",
      "epoch: 04, loss: -0.05967\n",
      "epoch: 05, loss: -0.05960\n",
      "epoch: 06, loss: -0.06227\n",
      "epoch: 07, loss: -0.06149\n",
      "epoch: 08, loss: -0.06097\n",
      "epoch: 09, loss: -0.06297\n",
      "torch.Size([450, 64])\n"
     ]
    },
    {
     "name": "stderr",
     "output_type": "stream",
     "text": [
      "\r",
      " 55%|███████████████████████████████████████████████████████████████████████████████████████▉                                                                       | 553/1000 [3:48:38<2:20:46, 18.90s/it]"
     ]
    },
    {
     "name": "stdout",
     "output_type": "stream",
     "text": [
      "eigenvalues shape torch.Size([5]) eigenvectors shape torch.Size([5, 450])\n",
      "553 /home/phdcs2/Hard_Disk/Datasets/Deep-Spectral-Segmentation/data/object-segmentation/ECSSD/features/dino_vits16/0554.pth\n",
      "dict_keys(['k', 'indices', 'file', 'id', 'model_name', 'patch_size', 'shape'])\n",
      "0554\n",
      "Starting Training\n",
      "epoch: 00, loss: -0.02365\n",
      "epoch: 01, loss: -0.03991\n",
      "epoch: 02, loss: -0.04167\n",
      "epoch: 03, loss: -0.04200\n",
      "epoch: 04, loss: -0.04218\n",
      "epoch: 05, loss: -0.04252\n",
      "epoch: 06, loss: -0.04256\n",
      "epoch: 07, loss: -0.04278\n",
      "epoch: 08, loss: -0.04281\n",
      "epoch: 09, loss: -0.04290\n",
      "torch.Size([450, 64])\n"
     ]
    },
    {
     "name": "stderr",
     "output_type": "stream",
     "text": [
      "\r",
      " 55%|████████████████████████████████████████████████████████████████████████████████████████                                                                       | 554/1000 [3:48:56<2:17:38, 18.52s/it]"
     ]
    },
    {
     "name": "stdout",
     "output_type": "stream",
     "text": [
      "eigenvalues shape torch.Size([5]) eigenvectors shape torch.Size([5, 450])\n",
      "554 /home/phdcs2/Hard_Disk/Datasets/Deep-Spectral-Segmentation/data/object-segmentation/ECSSD/features/dino_vits16/0555.pth\n",
      "dict_keys(['k', 'indices', 'file', 'id', 'model_name', 'patch_size', 'shape'])\n",
      "0555\n",
      "Starting Training\n",
      "epoch: 00, loss: -0.04407\n",
      "epoch: 01, loss: -0.07886\n",
      "epoch: 02, loss: -0.08023\n",
      "epoch: 03, loss: -0.08309\n",
      "epoch: 04, loss: -0.08467\n",
      "epoch: 05, loss: -0.08465\n",
      "epoch: 06, loss: -0.08640\n",
      "epoch: 07, loss: -0.08751\n",
      "epoch: 08, loss: -0.08559\n",
      "epoch: 09, loss: -0.08662\n",
      "torch.Size([500, 64])\n"
     ]
    },
    {
     "name": "stderr",
     "output_type": "stream",
     "text": [
      "\r",
      " 56%|████████████████████████████████████████████████████████████████████████████████████████▏                                                                      | 555/1000 [3:49:19<2:26:43, 19.78s/it]"
     ]
    },
    {
     "name": "stdout",
     "output_type": "stream",
     "text": [
      "eigenvalues shape torch.Size([5]) eigenvectors shape torch.Size([5, 500])\n",
      "555 /home/phdcs2/Hard_Disk/Datasets/Deep-Spectral-Segmentation/data/object-segmentation/ECSSD/features/dino_vits16/0556.pth\n",
      "dict_keys(['k', 'indices', 'file', 'id', 'model_name', 'patch_size', 'shape'])\n",
      "0556\n",
      "Starting Training\n",
      "epoch: 00, loss: 0.00430\n",
      "epoch: 01, loss: -0.00593\n",
      "epoch: 02, loss: -0.01032\n",
      "epoch: 03, loss: -0.01232\n",
      "epoch: 04, loss: -0.01309\n",
      "epoch: 05, loss: -0.01279\n",
      "epoch: 06, loss: -0.01312\n",
      "epoch: 07, loss: -0.01462\n",
      "epoch: 08, loss: -0.01343\n",
      "epoch: 09, loss: -0.01476\n",
      "torch.Size([525, 64])\n"
     ]
    },
    {
     "name": "stderr",
     "output_type": "stream",
     "text": [
      "\r",
      " 56%|████████████████████████████████████████████████████████████████████████████████████████▍                                                                      | 556/1000 [3:49:57<3:06:12, 25.16s/it]"
     ]
    },
    {
     "name": "stdout",
     "output_type": "stream",
     "text": [
      "eigenvalues shape torch.Size([5]) eigenvectors shape torch.Size([5, 525])\n",
      "556 /home/phdcs2/Hard_Disk/Datasets/Deep-Spectral-Segmentation/data/object-segmentation/ECSSD/features/dino_vits16/0557.pth\n",
      "dict_keys(['k', 'indices', 'file', 'id', 'model_name', 'patch_size', 'shape'])\n",
      "0557\n",
      "Starting Training\n",
      "epoch: 00, loss: -0.03601\n",
      "epoch: 01, loss: -0.07332\n",
      "epoch: 02, loss: -0.07360\n",
      "epoch: 03, loss: -0.07661\n",
      "epoch: 04, loss: -0.07526\n",
      "epoch: 05, loss: -0.07844\n",
      "epoch: 06, loss: -0.07670\n",
      "epoch: 07, loss: -0.07728\n",
      "epoch: 08, loss: -0.07927\n"
     ]
    },
    {
     "name": "stderr",
     "output_type": "stream",
     "text": [
      "\r",
      " 56%|████████████████████████████████████████████████████████████████████████████████████████▍                                                                      | 556/1000 [3:50:07<3:03:46, 24.83s/it]"
     ]
    },
    {
     "name": "stdout",
     "output_type": "stream",
     "text": [
      "epoch: 09, loss: -0.07782\n",
      "torch.Size([450, 64])\n"
     ]
    },
    {
     "name": "stderr",
     "output_type": "stream",
     "text": [
      "\n"
     ]
    },
    {
     "ename": "ValueError",
     "evalue": "all input arrays must have the same shape",
     "output_type": "error",
     "traceback": [
      "\u001b[0;31m---------------------------------------------------------------------------\u001b[0m",
      "\u001b[0;31mValueError\u001b[0m                                Traceback (most recent call last)",
      "Cell \u001b[0;32mIn[6], line 172\u001b[0m\n\u001b[1;32m    170\u001b[0m \u001b[38;5;66;03m# Color affinities (of type scipy.sparse.csr_matrix)\u001b[39;00m\n\u001b[1;32m    171\u001b[0m \u001b[38;5;28;01mif\u001b[39;00m which_color_matrix \u001b[38;5;241m==\u001b[39m \u001b[38;5;124m'\u001b[39m\u001b[38;5;124mknn\u001b[39m\u001b[38;5;124m'\u001b[39m:\n\u001b[0;32m--> 172\u001b[0m     W_lr \u001b[38;5;241m=\u001b[39m \u001b[43mutils\u001b[49m\u001b[38;5;241;43m.\u001b[39;49m\u001b[43mknn_affinity\u001b[49m\u001b[43m(\u001b[49m\u001b[43mimage_lr\u001b[49m\u001b[43m \u001b[49m\u001b[38;5;241;43m/\u001b[39;49m\u001b[43m \u001b[49m\u001b[38;5;241;43m255\u001b[39;49m\u001b[43m)\u001b[49m\n\u001b[1;32m    173\u001b[0m \u001b[38;5;28;01melif\u001b[39;00m which_color_matrix \u001b[38;5;241m==\u001b[39m \u001b[38;5;124m'\u001b[39m\u001b[38;5;124mrw\u001b[39m\u001b[38;5;124m'\u001b[39m:\n\u001b[1;32m    174\u001b[0m     W_lr \u001b[38;5;241m=\u001b[39m utils\u001b[38;5;241m.\u001b[39mrw_affinity(image_lr \u001b[38;5;241m/\u001b[39m \u001b[38;5;241m255\u001b[39m)\n",
      "File \u001b[0;32m~/Hard_Disk/Projects/T2I/deep-spectral-segmentation/extract/extract_utils.py:171\u001b[0m, in \u001b[0;36mknn_affinity\u001b[0;34m(image, n_neighbors, distance_weights)\u001b[0m\n\u001b[1;32m    168\u001b[0m i, j \u001b[38;5;241m=\u001b[39m [], []\n\u001b[1;32m    170\u001b[0m \u001b[38;5;28;01mfor\u001b[39;00m k, distance_weight \u001b[38;5;129;01min\u001b[39;00m \u001b[38;5;28mzip\u001b[39m(n_neighbors, distance_weights):\n\u001b[0;32m--> 171\u001b[0m     f \u001b[38;5;241m=\u001b[39m \u001b[43mnp\u001b[49m\u001b[38;5;241;43m.\u001b[39;49m\u001b[43mstack\u001b[49m\u001b[43m(\u001b[49m\n\u001b[1;32m    172\u001b[0m \u001b[43m        \u001b[49m\u001b[43m[\u001b[49m\u001b[43mr\u001b[49m\u001b[43m,\u001b[49m\u001b[43m \u001b[49m\u001b[43mg\u001b[49m\u001b[43m,\u001b[49m\u001b[43m \u001b[49m\u001b[43mb\u001b[49m\u001b[43m,\u001b[49m\u001b[43m \u001b[49m\u001b[43mdistance_weight\u001b[49m\u001b[43m \u001b[49m\u001b[38;5;241;43m*\u001b[39;49m\u001b[43m \u001b[49m\u001b[43mx\u001b[49m\u001b[43m,\u001b[49m\u001b[43m \u001b[49m\u001b[43mdistance_weight\u001b[49m\u001b[43m \u001b[49m\u001b[38;5;241;43m*\u001b[39;49m\u001b[43m \u001b[49m\u001b[43my\u001b[49m\u001b[43m]\u001b[49m\u001b[43m,\u001b[49m\n\u001b[1;32m    173\u001b[0m \u001b[43m        \u001b[49m\u001b[43maxis\u001b[49m\u001b[38;5;241;43m=\u001b[39;49m\u001b[38;5;241;43m1\u001b[39;49m\u001b[43m,\u001b[49m\n\u001b[1;32m    174\u001b[0m \u001b[43m        \u001b[49m\u001b[43mout\u001b[49m\u001b[38;5;241;43m=\u001b[39;49m\u001b[43mnp\u001b[49m\u001b[38;5;241;43m.\u001b[39;49m\u001b[43mzeros\u001b[49m\u001b[43m(\u001b[49m\u001b[43m(\u001b[49m\u001b[43mn\u001b[49m\u001b[43m,\u001b[49m\u001b[43m \u001b[49m\u001b[38;5;241;43m5\u001b[39;49m\u001b[43m)\u001b[49m\u001b[43m,\u001b[49m\u001b[43m \u001b[49m\u001b[43mdtype\u001b[49m\u001b[38;5;241;43m=\u001b[39;49m\u001b[43mnp\u001b[49m\u001b[38;5;241;43m.\u001b[39;49m\u001b[43mfloat32\u001b[49m\u001b[43m)\u001b[49m\u001b[43m,\u001b[49m\n\u001b[1;32m    175\u001b[0m \u001b[43m    \u001b[49m\u001b[43m)\u001b[49m\n\u001b[1;32m    177\u001b[0m     distances, neighbors \u001b[38;5;241m=\u001b[39m knn(f, f, k\u001b[38;5;241m=\u001b[39mk)\n\u001b[1;32m    179\u001b[0m     i\u001b[38;5;241m.\u001b[39mappend(np\u001b[38;5;241m.\u001b[39mrepeat(np\u001b[38;5;241m.\u001b[39marange(n), k))\n",
      "File \u001b[0;32m<__array_function__ internals>:180\u001b[0m, in \u001b[0;36mstack\u001b[0;34m(*args, **kwargs)\u001b[0m\n",
      "File \u001b[0;32m~/Hard_Disk/Projects/T2I/deep-spectral-segmentation/venv/lib/python3.8/site-packages/numpy/core/shape_base.py:426\u001b[0m, in \u001b[0;36mstack\u001b[0;34m(arrays, axis, out)\u001b[0m\n\u001b[1;32m    424\u001b[0m shapes \u001b[38;5;241m=\u001b[39m {arr\u001b[38;5;241m.\u001b[39mshape \u001b[38;5;28;01mfor\u001b[39;00m arr \u001b[38;5;129;01min\u001b[39;00m arrays}\n\u001b[1;32m    425\u001b[0m \u001b[38;5;28;01mif\u001b[39;00m \u001b[38;5;28mlen\u001b[39m(shapes) \u001b[38;5;241m!=\u001b[39m \u001b[38;5;241m1\u001b[39m:\n\u001b[0;32m--> 426\u001b[0m     \u001b[38;5;28;01mraise\u001b[39;00m \u001b[38;5;167;01mValueError\u001b[39;00m(\u001b[38;5;124m'\u001b[39m\u001b[38;5;124mall input arrays must have the same shape\u001b[39m\u001b[38;5;124m'\u001b[39m)\n\u001b[1;32m    428\u001b[0m result_ndim \u001b[38;5;241m=\u001b[39m arrays[\u001b[38;5;241m0\u001b[39m]\u001b[38;5;241m.\u001b[39mndim \u001b[38;5;241m+\u001b[39m \u001b[38;5;241m1\u001b[39m\n\u001b[1;32m    429\u001b[0m axis \u001b[38;5;241m=\u001b[39m normalize_axis_index(axis, result_ndim)\n",
      "\u001b[0;31mValueError\u001b[0m: all input arrays must have the same shape"
     ]
    }
   ],
   "source": [
    "pca_comp=64\n",
    "pca = PCA(n_components=pca_comp)\n",
    "utils.make_output_dir(output_dir)\n",
    "inputs = list(enumerate(sorted(Path(features_dir).iterdir())))\n",
    "for inp in tqdm(inputs):\n",
    "    index, features_file = inp\n",
    "    print(index, features_file)\n",
    "     # Load\n",
    "    data_dict = torch.load(features_file, map_location='cpu')\n",
    "    print(data_dict.keys())   #['k', 'indices', 'file', 'id', 'model_name', 'patch_size', 'shape']\n",
    "    # print(\"shape=\", data_dict['shape'], \"k shape\", data_dict['k'].shape, \"patch_size=\", data_dict['patch_size'])\n",
    "    image_id = data_dict['file'][:-4]\n",
    "    print(image_id)\n",
    "    # Load\n",
    "    output_file = str(Path(output_dir) / f'{image_id}.pth')\n",
    "    if Path(output_file).is_file():\n",
    "        print(f'Skipping existing file {str(output_file)}')\n",
    "        # break\n",
    "        # return  # skip because already generated\n",
    "\n",
    "    # Load affinity matrix\n",
    "    feats = data_dict[which_features].squeeze().cuda()\n",
    "    # print(\"Without normalizing, Features Shape is\",feats.shape)\n",
    "    if normalize:\n",
    "        feats = F.normalize(feats, p=2, dim=-1)\n",
    "    # print(\"After normalization, Features Shape\",feats.shape)\n",
    "    # print(\"which_matrix=\", which_matrix)\n",
    "    # Eigenvectors of affinity matrix\n",
    "    if which_matrix == 'affinity_torch':\n",
    "        W = feats @ feats.T\n",
    "        # W_feat=contrastive_affinity(feats, feats.T)\n",
    "        # print(\"W shape=\", W.shape)\n",
    "        if threshold_at_zero:\n",
    "            W = (W * (W > 0))\n",
    "            # print(\"W shape=\", W.shape)\n",
    "        eigenvalues, eigenvectors = torch.eig(W, eigenvectors=True)\n",
    "        eigenvalues = eigenvalues.cpu()\n",
    "        eigenvectors = eigenvectors.cpu()\n",
    "        print(\"which matrix=\",which_matrix, \"eigenvalues shape\", eigenvalues.shape, \"eigenvectors shape\", eigenvectors.shape)\n",
    "\n",
    "\n",
    "    # Eigenvectors of affinity matrix with scipy\n",
    "    elif which_matrix == 'affinity_svd':\n",
    "        USV = torch.linalg.svd(feats, full_matrices=False)\n",
    "        eigenvectors = USV[0][:, :K].T.to('cpu', non_blocking=True)\n",
    "        eigenvalues = USV[1][:K].to('cpu', non_blocking=True)\n",
    "        print(\"which matrix=\",which_matrix,\"eigenvalues shape\", eigenvalues.shape, \"eigenvectors shape\", eigenvectors.shape)\n",
    "\n",
    "    # Eigenvectors of affinity matrix with scipy\n",
    "    elif which_matrix == 'affinity':\n",
    "        # print(\"Without normalizing, Features Shape is\",feats.shape)\n",
    "        W = (feats @ feats.T)\n",
    "        # W_feat=contrastive_affinity(feats, feats.T)\n",
    "        # print(\"W shape=\", W.shape)\n",
    "        if threshold_at_zero:\n",
    "            W = (W * (W > 0))\n",
    "        W = W.cpu().numpy()\n",
    "        # print(\"W shape=\", W.shape)\n",
    "        eigenvalues, eigenvectors = eigsh(W, which='LM', k=K)\n",
    "        eigenvectors = torch.flip(torch.from_numpy(eigenvectors), dims=(-1,)).T\n",
    "        print(\"which matrix=\",which_matrix, \"eigenvalues shape\", eigenvalues.shape, \"eigenvectors shape\", eigenvectors.shape)\n",
    "\n",
    "    # Eigenvectors of matting laplacian matrix\n",
    "    elif which_matrix in ['matting_laplacian', 'laplacian']:\n",
    "\n",
    "        # Get sizes\n",
    "        B, C, H, W, P, H_patch, W_patch, H_pad, W_pad = utils.get_image_sizes(data_dict)\n",
    "        if image_downsample_factor is None:\n",
    "            image_downsample_factor = P\n",
    "        H_pad_lr, W_pad_lr = H_pad // image_downsample_factor, W_pad // image_downsample_factor\n",
    "\n",
    "        # Upscale features to match the resolution\n",
    "        if (H_patch, W_patch) != (H_pad_lr, W_pad_lr):\n",
    "            feats = F.interpolate(\n",
    "                feats.T.reshape(1, -1, H_patch, W_patch),\n",
    "                size=(H_pad_lr, W_pad_lr), mode='bilinear', align_corners=False\n",
    "            ).reshape(-1, H_pad_lr * W_pad_lr).T\n",
    "\n",
    "        ### Feature affinities\n",
    "        # print(\"Without normalizing, Features Shape is\",feats.shape)\n",
    "\n",
    "        W_feat_ds = (feats @ feats.T)\n",
    "        max_wfeatds=torch.max(W_feat_ds).item()\n",
    "        alpha=3\n",
    "        W_feat_ds = W_feat_ds - (max_wfeatds / alpha)\n",
    "        layer=nn.Linear(pca_comp,pca_comp).cuda()\n",
    "        x0=feats\n",
    "        x0_arr=x0.cpu()\n",
    "        # print(x0_arr.shape)\n",
    "        z0_arr= pca.fit_transform(x0_arr)\n",
    "\n",
    "        # Define the affine transformation parameters\n",
    "        scale = np.random.uniform(0.8, 1.2)  # Random scaling factor between 0.8 and 1.2\n",
    "        translation = np.random.uniform(-10, 10, size=2)  # Random translation vector between -10 and 10 in both directions\n",
    "        rotation = np.random.uniform(-15, 15)  # Random rotation angle between -15 and 15 degrees\n",
    "        shear = np.random.uniform(-0.2, 0.2, size=2)  # Random shear factor between -0.2 and 0.2 in both directions\n",
    "\n",
    "        # Define the affine matrix\n",
    "        affine_matrix = np.array([[scale * np.cos(rotation), -shear[0] * scale * np.sin(rotation), translation[0]],\n",
    "                                  [shear[1] * scale * np.sin(rotation), scale * np.cos(rotation), translation[1]],\n",
    "                                  [0, 0, 1]])\n",
    "        z1_arr=affine_transform(z0_arr, affine_matrix)\n",
    "#         z1_arr=pca.fit_transform(z1_arr)\n",
    "        z0 = torch.from_numpy(z0_arr).float()\n",
    "        z1 = torch.from_numpy(z1_arr).float()\n",
    "\n",
    "        # feat_list.append(feats)\n",
    "        feat_dataset_z0 = Feature_Dataset(z0)\n",
    "        if feats.shape[0]%2==0:\n",
    "            features_dataloader_z0 = DataLoader(feat_dataset_z0, batch_size=batch_size, shuffle=True)\n",
    "        else:\n",
    "            features_dataloader_z0 = DataLoader(feat_dataset_z0, batch_size=batch_size, shuffle=True, drop_last=True)\n",
    "\n",
    "        feat_dataset_z1 = Feature_Dataset(z1)\n",
    "        if feats.shape[0]%2==0:\n",
    "            features_dataloader_z1 = DataLoader(feat_dataset_z1, batch_size=batch_size, shuffle=True)\n",
    "        else:\n",
    "            features_dataloader_z1 = DataLoader(feat_dataset_z1, batch_size=batch_size, shuffle=True, drop_last=True)\n",
    "        device = \"cuda\" if torch.cuda.is_available() else \"cpu\"\n",
    "    \n",
    "        criterion = NegativeCosineSimilarity()\n",
    "        optimizer = torch.optim.SGD(layer.parameters(), lr=0.06)\n",
    "        print(\"Starting Training\")\n",
    "        for epoch in range(epochs):\n",
    "            total_loss = 0\n",
    "            for z0_new,z1_new in zip(features_dataloader_z0,features_dataloader_z1):\n",
    "                z0_new = z0_new.to(device)\n",
    "                z1_new = z1_new.to(device)\n",
    "    #             print(\"z0_new.shape\", z0_new.shape)\n",
    "    #             print(\"z1_new.shape\", z1_new.shape)\n",
    "                p0=layer(z0_new)\n",
    "                p1=layer(z1_new)\n",
    "    #             print(\"p0.shape\", p0.shape)\n",
    "    #             print(\"p1.shape\", p1.shape)\n",
    "                loss = 0.5 * (criterion(z0_new, p1) + criterion(z1_new, p0))\n",
    "                total_loss += loss.detach()\n",
    "                loss.backward()\n",
    "                optimizer.step()\n",
    "                optimizer.zero_grad()\n",
    "            avg_loss = total_loss / len(features_dataloader_z0)\n",
    "            print(f\"epoch: {epoch:>02}, loss: {avg_loss:.5f}\")\n",
    "        projected_feature=layer(z0.to(device))\n",
    "        print(projected_feature.shape)\n",
    "        W_feat_siam=torch.matmul(projected_feature, projected_feature.t())\n",
    "        max_wfeatsiam=torch.max(W_feat_siam).item()\n",
    "        alpha=3\n",
    "        W_feat_siam = W_feat_siam - (max_wfeatsiam / alpha)\n",
    "        # W_feat_siam=torch.matmul(projected_feature[0], projected_feature[0].t())\n",
    "        W_feat=W_feat_ds + 0.1*W_feat_siam\n",
    "#         W_feat=normalize_affinity_matrix(W_feat_unnorm, axis=1)\n",
    "        # print(\"W_feat.shape=\", W_feat.shape)\n",
    "        # print(\"W_feat.shape=\", W_feat.shape)\n",
    "        # W_feat=contrastive_affinity(feats, feats.T)\n",
    "        if threshold_at_zero:\n",
    "            W_feat = (W_feat * (W_feat > 0))\n",
    "        W_feat = W_feat / W_feat.max()  # NOTE: If features are normalized, this naturally does nothing\n",
    "        # W_feat = W_feat.cpu().numpy()\n",
    "        W_feat = W_feat.detach().cpu().numpy()\n",
    "        # print(\"W_feat shape=\",W_feat.shape)\n",
    "\n",
    "        ### Color affinities\n",
    "        # If we are fusing with color affinites, then load the image and compute\n",
    "        if image_color_lambda > 0:\n",
    "\n",
    "            # Load image\n",
    "            image_file = str(Path(images_root) / f'{image_id}.jpg')\n",
    "            image_lr = Image.open(image_file).resize((W_pad_lr, H_pad_lr), Image.BILINEAR)\n",
    "            image_lr = np.array(image_lr) / 255.\n",
    "\n",
    "            # Color affinities (of type scipy.sparse.csr_matrix)\n",
    "            if which_color_matrix == 'knn':\n",
    "                W_lr = utils.knn_affinity(image_lr / 255)\n",
    "            elif which_color_matrix == 'rw':\n",
    "                W_lr = utils.rw_affinity(image_lr / 255)\n",
    "\n",
    "            # Convert to dense numpy array\n",
    "            W_color = np.array(W_lr.todense().astype(np.float32))\n",
    "            # print(\"W_color shape\", W_color.shape)\n",
    "\n",
    "        else:\n",
    "\n",
    "            # No color affinity\n",
    "            W_color = 0\n",
    "\n",
    "        # Combine\n",
    "        W_comb = W_feat + W_color * image_color_lambda  # combination\n",
    "        D_comb = np.array(utils.get_diagonal(W_comb).todense())  # is dense or sparse faster? not sure, should check\n",
    "        # print(\"W_comb shape= \", W_comb.shape, \"D_comb shape\",  D_comb.shape)\n",
    "        if lapnorm:\n",
    "            try:\n",
    "                eigenvalues, eigenvectors = eigsh(D_comb - W_comb, k=K, sigma=0, which='LM', M=D_comb)\n",
    "            except:\n",
    "                eigenvalues, eigenvectors = eigsh(D_comb - W_comb, k=K, which='SM', M=D_comb)\n",
    "        else:\n",
    "            try:\n",
    "                eigenvalues, eigenvectors = eigsh(D_comb - W_comb, k=K, sigma=0, which='LM')\n",
    "            except:\n",
    "                eigenvalues, eigenvectors = eigsh(D_comb - W_comb, k=K, which='SM')\n",
    "        eigenvalues, eigenvectors = torch.from_numpy(eigenvalues), torch.from_numpy(eigenvectors.T).float()\n",
    "    print(\"eigenvalues shape\", eigenvalues.shape, \"eigenvectors shape\", eigenvectors.shape)\n",
    "    # Sign ambiguity\n",
    "    for k in range(eigenvectors.shape[0]):\n",
    "        if 0.5 < torch.mean((eigenvectors[k] > 0).float()).item() < 1.0:  # reverse segment\n",
    "            eigenvectors[k] = 0 - eigenvectors[k]\n",
    "\n",
    "    # Save dict\n",
    "    output_dict = {'eigenvalues': eigenvalues, 'eigenvectors': eigenvectors}\n",
    "    torch.save(output_dict, output_file)"
   ]
  }
 ],
 "metadata": {
  "kernelspec": {
   "display_name": "Python 3 (ipykernel)",
   "language": "python",
   "name": "python3"
  },
  "language_info": {
   "codemirror_mode": {
    "name": "ipython",
    "version": 3
   },
   "file_extension": ".py",
   "mimetype": "text/x-python",
   "name": "python",
   "nbconvert_exporter": "python",
   "pygments_lexer": "ipython3",
   "version": "3.8.10"
  }
 },
 "nbformat": 4,
 "nbformat_minor": 1
}
